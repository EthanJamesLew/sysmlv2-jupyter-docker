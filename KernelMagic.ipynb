{
 "cells": [
  {
   "cell_type": "markdown",
   "id": "silver-phenomenon",
   "metadata": {},
   "source": [
    "# SysML Kernel Magic Commands\n",
    "\n",
    "List of the kernel magic commands. \n",
    "\n",
    "Inspired by [MBSE4u.com](https://mbse4u.com/2020/12/21/sysml-v2-release-whats-inside/).\n",
    "\n",
    "## list\n",
    "\n",
    "[Codebase](https://github.com/Systems-Modeling/SysML-v2-Pilot-Implementation/blob/master/org.omg.sysml.jupyter.kernel/src/main/java/org/omg/sysml/jupyter/kernel/magic/Listing.java)"
   ]
  },
  {
   "cell_type": "code",
   "execution_count": null,
   "id": "premier-america",
   "metadata": {},
   "outputs": [],
   "source": [
    "%list"
   ]
  },
  {
   "cell_type": "markdown",
   "id": "precious-birth",
   "metadata": {},
   "source": [
    "Limited querying is also possible."
   ]
  },
  {
   "cell_type": "code",
   "execution_count": null,
   "id": "maritime-reflection",
   "metadata": {},
   "outputs": [],
   "source": [
    "%list \"Objects.*\"\""
   ]
  },
  {
   "cell_type": "markdown",
   "id": "conservative-diamond",
   "metadata": {},
   "source": [
    "## viz\n",
    "\n",
    "Graphviz'ify elements from the model.\n",
    "\n",
    "[Codebase](https://github.com/Systems-Modeling/SysML-v2-Pilot-Implementation/blob/master/org.omg.sysml.jupyter.kernel/src/main/java/org/omg/sysml/jupyter/kernel/magic/Viz.java)"
   ]
  },
  {
   "cell_type": "code",
   "execution_count": null,
   "id": "adopted-output",
   "metadata": {},
   "outputs": [],
   "source": [
    "%viz \"Views\""
   ]
  },
  {
   "cell_type": "code",
   "execution_count": null,
   "id": "filled-mumbai",
   "metadata": {},
   "outputs": [],
   "source": [
    "%viz \"Objects\" --style=\"PLANTUML\""
   ]
  },
  {
   "cell_type": "markdown",
   "id": "formed-ordinance",
   "metadata": {},
   "source": [
    "### Arguments\n",
    "\n",
    "- style : COMPTREE, POLYLINE, LR, STDCOLOR, PLANTUML, DEFAULT, TB, ORTHOLINE\n",
    "- view : Default Tree State Interconnection Action Sequence MIXED \n",
    "\n"
   ]
  },
  {
   "cell_type": "code",
   "execution_count": null,
   "id": "antique-python",
   "metadata": {},
   "outputs": [],
   "source": [
    "%viz \"Objects\" --view=State --style=\"PLANTUML\""
   ]
  },
  {
   "cell_type": "markdown",
   "id": "dried-blake",
   "metadata": {
    "jupyter": {
     "outputs_hidden": true
    }
   },
   "source": [
    "## publish\n",
    "\n",
    "Push models to publish the model to a SysML v2 repository server provided by intercax\n",
    "\n",
    "%publish \"ModelName\"\n",
    "\n",
    "[Codebase](https://github.com/Systems-Modeling/SysML-v2-Pilot-Implementation/blob/master/org.omg.sysml.jupyter.kernel/src/main/java/org/omg/sysml/jupyter/kernel/magic/Publish.java)\n",
    "\n",
    "Won't do it here, else their repository will be full with fake models. \n",
    "\n",
    "Read more on the command over at [MBSE4u.com](https://mbse4u.com/2020/12/21/sysml-v2-release-whats-inside/)."
   ]
  },
  {
   "cell_type": "markdown",
   "id": "lined-habitat",
   "metadata": {},
   "source": [
    "## show\n",
    "\n",
    "Which gives a textual outline of the Model.\n",
    "\n",
    "[Codebase](https://github.com/Systems-Modeling/SysML-v2-Pilot-Implementation/blob/master/org.omg.sysml.jupyter.kernel/src/main/java/org/omg/sysml/jupyter/kernel/magic/Show.java)"
   ]
  },
  {
   "cell_type": "code",
   "execution_count": null,
   "id": "understanding-announcement",
   "metadata": {},
   "outputs": [],
   "source": [
    "%show Objects"
   ]
  }
 ],
 "metadata": {
  "kernelspec": {
   "display_name": "SysML",
   "language": "sysml",
   "name": "sysml"
  },
  "language_info": {
   "codemirror_mode": "sysml",
   "file_extension": ".sysml",
   "mimetype": "text/x-sysml",
   "name": "SysML",
   "pygments_lexer": "java",
   "version": "1.0.0"
  }
 },
 "nbformat": 4,
 "nbformat_minor": 5
}
