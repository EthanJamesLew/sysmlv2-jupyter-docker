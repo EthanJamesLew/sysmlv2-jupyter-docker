{
 "cells": [
  {
   "cell_type": "markdown",
   "id": "final-smell",
   "metadata": {},
   "source": [
    "# Start Here\n",
    "\n",
    "Welcome to the Jupyter installation of the [SysML v2 Release](https://github.com/Systems-Modeling/SysML-v2-Release/).\n",
    "\n",
    "The setup is taken from the [Jupyter installation](https://github.com/Systems-Modeling/SysML-v2-Release/tree/master/install/jupyter) using the 2021-01 release. In addition, the [API Server](https://github.com/Systems-Modeling/SysML-v2-API-Services) is also started in a docker container.\n",
    "\n",
    "\n",
    "## Is everything running - API Server?\n",
    "\n",
    "This check that everything is working before continuing.\n",
    "\n",
    "The [docs page](http://localhost:9000/docs/) is the entry point to the API server. Have some patience, the initial access to that page will take some time. That is because the API server sets up the database with the first request.\n",
    "\n",
    "The database of the API server is reset and recreate each time the API server is started, so you might lose data."
   ]
  },
  {
   "cell_type": "markdown",
   "id": "parental-carroll",
   "metadata": {},
   "source": [
    "## Jupyter \n",
    "\n",
    "If you're new to [Jupyter](https://jupyter.org/) then think of notebooks as interactive tutorials. Documentation and Code are combined in notebooks to better understand the code examples. Code can be executed and edited, and this makes notebooks interactive. \n",
    "\n",
    "To execute this notebook, go to Menu Run, then down to \"Run all Cells\".\n",
    "\n",
    "Individual cells can be executed (even documentation cells) using Shift+Return\n",
    "\n",
    "In this case, the underlying programming language is SysML, so we can model directly here in the notebook and have our models visualised and published.\n",
    "\n",
    "The notebook [KernelMagic](KernelMagic.ipynb) describes the meta commands of the SysML engine.\n",
    "\n"
   ]
  }
 ],
 "metadata": {
  "kernelspec": {
   "display_name": "SysML",
   "language": "sysml",
   "name": "sysml"
  },
  "language_info": {
   "codemirror_mode": "sysml",
   "file_extension": ".sysml",
   "mimetype": "text/x-sysml",
   "name": "SysML",
   "pygments_lexer": "java",
   "version": "1.0.0"
  }
 },
 "nbformat": 4,
 "nbformat_minor": 5
}
