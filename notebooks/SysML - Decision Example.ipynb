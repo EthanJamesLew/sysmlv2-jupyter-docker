{
 "cells": [
  {
   "cell_type": "markdown",
   "id": "novel-amateur",
   "metadata": {},
   "source": [
    "## Decision Example\n",
    "\n",
    "Taken from the [training](/lab/tree/sysml/src/training/19.%20Control/Decision%20Example.sysml) directory."
   ]
  },
  {
   "cell_type": "code",
   "execution_count": 1,
   "id": "treated-mounting",
   "metadata": {},
   "outputs": [
    {
     "data": {
      "text/plain": [
       "Package Decision Example (a3067843-4e9b-4f93-a449-b9649dd15907)\n"
      ]
     },
     "execution_count": 1,
     "metadata": {},
     "output_type": "execute_result"
    }
   ],
   "source": [
    "package 'Decision Example' {\n",
    "\timport ScalarValues::*;\n",
    "\t\n",
    "\tattribute def BatteryCharged;\n",
    "\t\n",
    "\tpart battery;\n",
    "\tpart powerSystem;\n",
    "\t\n",
    "\taction def AddCharge (in charge : Real);\n",
    "\t\n",
    "\taction def ChargeBattery {\n",
    "\t\tfirst start;\n",
    "\n",
    "\t\tthen merge continueCharging;\n",
    "\t\t\n",
    "\t\tthen action monitor accept batteryCharge : Real;\n",
    "\t\t\n",
    "\t\tthen decide;\n",
    "\t\t\tif monitor::batteryCharge < 100 then addCharge;\n",
    "\t\t\tif monitor::batteryCharge >= 100 then signalCharged;\n",
    "\t\t\t\n",
    "\t\taction addCharge : AddCharge (batteryCharge);\n",
    "\t\tthen continueCharging;\n",
    "\t\t\n",
    "\t\taction signalCharged send BatteryCharged() to powerSystem;\n",
    "\t\tthen done;\n",
    "\t}\n",
    "}"
   ]
  },
  {
   "cell_type": "code",
   "execution_count": 9,
   "id": "seeing-humanity",
   "metadata": {},
   "outputs": [
    {
     "data": {
      "image/svg+xml": [
       "<?xml version=\"1.0\" encoding=\"UTF-8\" standalone=\"no\"?><svg xmlns=\"http://www.w3.org/2000/svg\" xmlns:xlink=\"http://www.w3.org/1999/xlink\" contentScriptType=\"application/ecmascript\" contentStyleType=\"text/css\" height=\"402px\" preserveAspectRatio=\"none\" style=\"width:884px;height:402px;background:#000000;\" version=\"1.1\" viewBox=\"0 0 884 402\" width=\"884px\" zoomAndPan=\"magnify\"><defs/><g><rect fill=\"#0E0C09\" height=\"1\" style=\"stroke: #0E0C09; stroke-width: 1.0;\" width=\"1\" x=\"0\" y=\"0\"/><rect fill=\"#33FF02\" height=\"21.2969\" style=\"stroke: #33FF02; stroke-width: 1.0;\" width=\"877\" x=\"5\" y=\"5\"/><text fill=\"#000000\" font-family=\"sans-serif\" font-size=\"14\" font-weight=\"bold\" lengthAdjust=\"spacingAndGlyphs\" textLength=\"178\" x=\"6\" y=\"20\">[From string (line 21) ]</text><text fill=\"#33FF02\" font-family=\"sans-serif\" font-size=\"14\" font-weight=\"bold\" lengthAdjust=\"spacingAndGlyphs\" textLength=\"0\" x=\"10\" y=\"40.2969\"/><text fill=\"#33FF02\" font-family=\"sans-serif\" font-size=\"14\" font-weight=\"bold\" lengthAdjust=\"spacingAndGlyphs\" textLength=\"79\" x=\"5\" y=\"56.5938\">@startuml</text><text fill=\"#33FF02\" font-family=\"sans-serif\" font-size=\"14\" font-weight=\"bold\" lengthAdjust=\"spacingAndGlyphs\" textLength=\"165\" x=\"5\" y=\"72.8906\">skinparam ranksep 8</text><text fill=\"#33FF02\" font-family=\"sans-serif\" font-size=\"14\" font-weight=\"bold\" lengthAdjust=\"spacingAndGlyphs\" textLength=\"228\" x=\"5\" y=\"89.1875\">skinparam monochrome true</text><text fill=\"#33FF02\" font-family=\"sans-serif\" font-size=\"14\" font-weight=\"bold\" lengthAdjust=\"spacingAndGlyphs\" textLength=\"309\" x=\"5\" y=\"105.4844\">skinparam classbackgroundcolor white</text><text fill=\"#33FF02\" font-family=\"sans-serif\" font-size=\"14\" font-weight=\"bold\" lengthAdjust=\"spacingAndGlyphs\" textLength=\"215\" x=\"5\" y=\"121.7813\">skinparam shadowing false</text><text fill=\"#33FF02\" font-family=\"sans-serif\" font-size=\"14\" font-weight=\"bold\" lengthAdjust=\"spacingAndGlyphs\" textLength=\"206\" x=\"5\" y=\"138.0781\">skinparam wrapWidth 300</text><text fill=\"#33FF02\" font-family=\"sans-serif\" font-size=\"14\" font-weight=\"bold\" lengthAdjust=\"spacingAndGlyphs\" textLength=\"82\" x=\"5\" y=\"154.375\">hide circle</text><text fill=\"#33FF02\" font-family=\"sans-serif\" font-size=\"14\" font-weight=\"bold\" lengthAdjust=\"spacingAndGlyphs\" textLength=\"0\" x=\"10\" y=\"170.6719\"/><text fill=\"#33FF02\" font-family=\"sans-serif\" font-size=\"14\" font-weight=\"bold\" lengthAdjust=\"spacingAndGlyphs\" textLength=\"849\" x=\"5\" y=\"186.9688\">rec def \"AddCharge\" as E1  &lt;&lt;(T,blue)action def&gt;&gt; [[psysml:4dae3aa4-8ce6-451e-88ad-0c6dd6f427fe ]] {</text><text fill=\"#33FF02\" font-family=\"sans-serif\" font-size=\"14\" font-weight=\"bold\" lengthAdjust=\"spacingAndGlyphs\" textLength=\"601\" x=\"5\" y=\"203.2656\">portin \"charge\" as E2  [[psysml:891b414b-f1cd-48e7-9896-a2665877af7e ]]</text><text fill=\"#33FF02\" font-family=\"sans-serif\" font-size=\"14\" font-weight=\"bold\" lengthAdjust=\"spacingAndGlyphs\" textLength=\"10\" x=\"5\" y=\"219.5625\">}</text><text fill=\"#33FF02\" font-family=\"sans-serif\" font-size=\"14\" font-weight=\"bold\" lengthAdjust=\"spacingAndGlyphs\" textLength=\"0\" x=\"10\" y=\"235.8594\"/><text fill=\"#33FF02\" font-family=\"sans-serif\" font-size=\"14\" font-weight=\"bold\" lengthAdjust=\"spacingAndGlyphs\" textLength=\"877\" x=\"5\" y=\"252.1563\">rec def \"ChargeBattery\" as E3  &lt;&lt;(T,blue)action def&gt;&gt; [[psysml:3a6b6afc-1ba0-4938-94c0-5a14c04ee66c ]] {</text><text fill=\"#33FF02\" font-family=\"sans-serif\" font-size=\"14\" font-weight=\"bold\" lengthAdjust=\"spacingAndGlyphs\" textLength=\"788\" x=\"5\" y=\"268.4531\">rec usage \"start\" as E4  &lt;&lt;(T,blue)action&gt;&gt; [[psysml:32438852-c11b-41e8-93b1-c52ff7b03a4f ]] {</text><text fill=\"#33FF02\" font-family=\"sans-serif\" font-size=\"14\" font-weight=\"bold\" lengthAdjust=\"spacingAndGlyphs\" textLength=\"10\" x=\"5\" y=\"284.75\">}</text><text fill=\"#33FF02\" font-family=\"sans-serif\" font-size=\"14\" font-weight=\"bold\" lengthAdjust=\"spacingAndGlyphs\" textLength=\"0\" x=\"10\" y=\"301.0469\"/><text fill=\"#33FF02\" font-family=\"sans-serif\" font-size=\"14\" font-weight=\"bold\" lengthAdjust=\"spacingAndGlyphs\" textLength=\"698\" x=\"5\" y=\"317.3438\">choice \"continueCharging\" as E5  [[psysml:11b51556-7119-4243-a52b-3986e8c1edac ]]</text><text fill=\"#33FF02\" font-family=\"sans-serif\" font-size=\"14\" font-weight=\"bold\" lengthAdjust=\"spacingAndGlyphs\" textLength=\"795\" x=\"5\" y=\"333.6406\">rec usage \"monitor\" as E6 &lt;&lt;accept action&gt;&gt; [[psysml:f98c2549-d6fa-4f98-ae49-f6b783f8b6a2 ]] {</text><text fill=\"#33FF02\" font-family=\"sans-serif\" font-size=\"14\" font-weight=\"bold\" lengthAdjust=\"spacingAndGlyphs\" textLength=\"10\" x=\"5\" y=\"349.9375\">}</text><text fill=\"#33FF02\" font-family=\"sans-serif\" font-size=\"14\" font-weight=\"bold\" lengthAdjust=\"spacingAndGlyphs\" textLength=\"0\" x=\"10\" y=\"366.2344\"/><text fill=\"#33FF02\" font-family=\"sans-serif\" font-size=\"14\" font-weight=\"bold\" lengthAdjust=\"spacingAndGlyphs\" textLength=\"10\" x=\"5\" y=\"382.5313\">{</text><text fill=\"#FF0000\" font-family=\"sans-serif\" font-size=\"14\" font-weight=\"bold\" lengthAdjust=\"spacingAndGlyphs\" textLength=\"106\" x=\"10\" y=\"398.8281\">Syntax Error?</text><!--MD5=[1e529ac44924a3d1729105290b882f29]\n",
       "@startuml\r\n",
       "skinparam ranksep 8\r\n",
       "skinparam monochrome true\r\n",
       "skinparam classbackgroundcolor white\r\n",
       "skinparam shadowing false\r\n",
       "skinparam wrapWidth 300\r\n",
       "hide circle\r\n",
       "\r\n",
       "rec def \"AddCharge\" as E1  <<(T,blue)action def>> [[psysml:4dae3aa4-8ce6-451e-88ad-0c6dd6f427fe ]] {\r\n",
       "portin \"charge\" as E2  [[psysml:891b414b-f1cd-48e7-9896-a2665877af7e ]] \r\n",
       "}\r\n",
       "\r\n",
       "rec def \"ChargeBattery\" as E3  <<(T,blue)action def>> [[psysml:3a6b6afc-1ba0-4938-94c0-5a14c04ee66c ]] {\r\n",
       "rec usage \"start\" as E4  <<(T,blue)action>> [[psysml:32438852-c11b-41e8-93b1-c52ff7b03a4f ]] {\r\n",
       "}\r\n",
       "\r\n",
       "choice \"continueCharging\" as E5  [[psysml:11b51556-7119-4243-a52b-3986e8c1edac ]] \r\n",
       "rec usage \"monitor\" as E6 <<accept action>> [[psysml:f98c2549-d6fa-4f98-ae49-f6b783f8b6a2 ]] {\r\n",
       "}\r\n",
       "\r\n",
       "{\r\n",
       "}\r\n",
       "\r\n",
       "{\r\n",
       "portout \"$result\" as E7  [[psysml:0ed2d8ac-fb80-4371-81aa-5b65a8114603 ]] \r\n",
       "portin \"$x\" as E8  [[psysml:86d9212e-d6fe-49c9-b56e-e85ad020527f ]] \r\n",
       "portin \"$y\" as E9  [[psysml:0aec6670-e63a-45b0-86b1-c83915ff76c5 ]] \r\n",
       "portout \"$result\" as E10  [[psysml:2678dd08-d175-4668-9851-3af059fba8b4 ]] \r\n",
       "}\r\n",
       "\r\n",
       "{\r\n",
       "portout \"$result\" as E11  [[psysml:0f98d53f-6dbc-493b-8c96-53d540927474 ]] \r\n",
       "portin \"$x\" as E12  [[psysml:73d392d8-4cec-4460-939a-8ecf748c5a2e ]] \r\n",
       "portin \"$y\" as E13  [[psysml:2bc3da41-fe9f-47aa-914b-8ef7a232949f ]] \r\n",
       "portout \"$result\" as E14  [[psysml:257b1a5f-9451-4b0c-a5a5-e95de398be8b ]] \r\n",
       "}\r\n",
       "\r\n",
       "rec usage \"addCharge\" as E15  <<(T,blue)action>> [[psysml:159be197-88b8-4f82-980e-1fff26cf499a ]] {\r\n",
       "portin \"batteryCharge\" as E16  [[psysml:cf47597f-07eb-4507-9373-0638542737f6 ]] \r\n",
       "}\r\n",
       "\r\n",
       "rec usage \"signalCharged\" as E17 <<send action>> [[psysml:64e44b5c-b0be-4008-890f-e46b65882538 ]] {\r\n",
       "portout \"$result\" as E18  [[psysml:8764e891-5d06-4fd5-907c-eea3d7ddfc18 ]] \r\n",
       "}\r\n",
       "\r\n",
       "}\r\n",
       "\r\n",
       "@enduml\r\n",
       "\n",
       "PlantUML version 1.2020.13(Sat Jun 13 12:26:38 UTC 2020)\n",
       "(EPL source distribution)\n",
       "Java Runtime: OpenJDK Runtime Environment\n",
       "JVM: OpenJDK 64-Bit Server VM\n",
       "Default Encoding: UTF-8\n",
       "Language: en\n",
       "Country: null\n",
       "--></g></svg>"
      ]
     },
     "execution_count": 9,
     "metadata": {},
     "output_type": "execute_result"
    }
   ],
   "source": [
    "%viz \"Decision Example\""
   ]
  },
  {
   "cell_type": "code",
   "execution_count": null,
   "id": "disturbed-cycling",
   "metadata": {},
   "outputs": [],
   "source": []
  }
 ],
 "metadata": {
  "kernelspec": {
   "display_name": "SysML",
   "language": "sysml",
   "name": "sysml"
  },
  "language_info": {
   "codemirror_mode": "sysml",
   "file_extension": ".sysml",
   "mimetype": "text/x-sysml",
   "name": "SysML",
   "pygments_lexer": "java",
   "version": "1.0.0"
  }
 },
 "nbformat": 4,
 "nbformat_minor": 5
}
