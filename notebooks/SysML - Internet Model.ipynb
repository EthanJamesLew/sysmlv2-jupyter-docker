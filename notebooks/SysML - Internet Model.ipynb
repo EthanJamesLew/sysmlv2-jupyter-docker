{
 "cells": [
  {
   "cell_type": "markdown",
   "id": "novel-amateur",
   "metadata": {},
   "source": [
    "## Decision Example\n",
    "\n",
    "Taken from the [training](/lab/tree/sysml/src/training/19.%20Control/Decision%20Example.sysml) directory."
   ]
  },
  {
   "cell_type": "code",
   "execution_count": 1,
   "id": "treated-mounting",
   "metadata": {},
   "outputs": [
    {
     "data": {
      "text/plain": [
       "Package Internet (78d49422-5bb1-49a7-bf8d-79b481b1f0d8)\n"
      ]
     },
     "execution_count": 1,
     "metadata": {},
     "output_type": "execute_result"
    }
   ],
   "source": [
    "package Internet {\n",
    "    part def Data;\n",
    "    part def Device {\n",
    "        attribute connType: Connection[1.. * ];\n",
    "        attribute voltageIn: Electricity[1];\n",
    "    }\n",
    "    part def WiFiRouter :> Device {}\n",
    "    attribute def Connection {\n",
    "        in item inData: Data;\n",
    "        out item outData: Data;\n",
    "    }\n",
    "    attribute def WirelessConnection :> Connection {\n",
    "        attribute frequency: SI::FrequencyUnit;\n",
    "    }\n",
    "    attribute def CableConnection :> Connection {\n",
    "        attribute wireCount: ScalarValues::Integer;\n",
    "    }\n",
    "    attribute def Electricity {\n",
    "        attribute voltage: ISQElectromagnetism::ElectricPotentialUnit;\n",
    "        attribute ampere: ISQElectromagnetism::ElectricCurrentUnit;\n",
    "        }\n",
    "}"
   ]
  },
  {
   "cell_type": "code",
   "execution_count": 2,
   "id": "seeing-humanity",
   "metadata": {},
   "outputs": [
    {
     "data": {
      "image/svg+xml": [
       "<?xml version=\"1.0\" encoding=\"UTF-8\" standalone=\"no\"?><svg xmlns=\"http://www.w3.org/2000/svg\" xmlns:xlink=\"http://www.w3.org/1999/xlink\" contentScriptType=\"application/ecmascript\" contentStyleType=\"text/css\" height=\"305px\" preserveAspectRatio=\"none\" style=\"width:795px;height:305px;\" version=\"1.1\" viewBox=\"0 0 795 305\" width=\"795px\" zoomAndPan=\"magnify\"><defs/><g><!--MD5=[fbc87193dbaf4d95561dea2c320d4a47]\n",
       "cluster E1--><a href=\"psysml:665e05dd-1db1-4d05-811f-d3248956bcac\" target=\"_top\" title=\"psysml:665e05dd-1db1-4d05-811f-d3248956bcac\" xlink:actuate=\"onRequest\" xlink:href=\"psysml:665e05dd-1db1-4d05-811f-d3248956bcac\" xlink:show=\"new\" xlink:title=\"psysml:665e05dd-1db1-4d05-811f-d3248956bcac\" xlink:type=\"simple\"><polygon fill=\"#FFFFFF\" points=\"16,6,85,6,92,28.2969,773,28.2969,773,293,16,293,16,6\" style=\"stroke: #000000; stroke-width: 1.5;\"/><line style=\"stroke: #000000; stroke-width: 1.5;\" x1=\"16\" x2=\"92\" y1=\"28.2969\" y2=\"28.2969\"/><text fill=\"#000000\" font-family=\"sans-serif\" font-size=\"14\" font-weight=\"bold\" lengthAdjust=\"spacingAndGlyphs\" textLength=\"63\" x=\"20\" y=\"20.9951\">Internet</text></a><!--MD5=[b4997ac47864f28c2f74865a473b2911]\n",
       "class E2--><a href=\"psysml:cb3cdb86-6e33-4c02-8046-0c056dd78946\" target=\"_top\" title=\"psysml:cb3cdb86-6e33-4c02-8046-0c056dd78946\" xlink:actuate=\"onRequest\" xlink:href=\"psysml:cb3cdb86-6e33-4c02-8046-0c056dd78946\" xlink:show=\"new\" xlink:title=\"psysml:cb3cdb86-6e33-4c02-8046-0c056dd78946\" xlink:type=\"simple\"><rect fill=\"#FFFFFF\" height=\"45.9375\" id=\"E2\" style=\"stroke: #383838; stroke-width: 1.5;\" width=\"66\" x=\"691\" y=\"62\"/><text fill=\"#000000\" font-family=\"sans-serif\" font-size=\"12\" font-style=\"italic\" lengthAdjust=\"spacingAndGlyphs\" textLength=\"64\" x=\"692\" y=\"78.1387\">«part def»</text><text fill=\"#000000\" font-family=\"sans-serif\" font-size=\"12\" lengthAdjust=\"spacingAndGlyphs\" textLength=\"30\" x=\"709\" y=\"92.1074\">Data</text><line style=\"stroke: #383838; stroke-width: 1.5;\" x1=\"692\" x2=\"756\" y1=\"99.9375\" y2=\"99.9375\"/></a><!--MD5=[09b614a08d8cba4a07c9adeb5e0fee81]\n",
       "class E3--><a href=\"psysml:e1d062c2-76df-42ee-94db-3c9320cee1f0\" target=\"_top\" title=\"psysml:e1d062c2-76df-42ee-94db-3c9320cee1f0\" xlink:actuate=\"onRequest\" xlink:href=\"psysml:e1d062c2-76df-42ee-94db-3c9320cee1f0\" xlink:show=\"new\" xlink:title=\"psysml:e1d062c2-76df-42ee-94db-3c9320cee1f0\" xlink:type=\"simple\"><rect fill=\"#FFFFFF\" height=\"88.3516\" id=\"E3\" style=\"stroke: #383838; stroke-width: 1.5;\" width=\"137\" x=\"551.5\" y=\"189\"/><text fill=\"#000000\" font-family=\"sans-serif\" font-size=\"12\" font-style=\"italic\" lengthAdjust=\"spacingAndGlyphs\" textLength=\"64\" x=\"588\" y=\"205.1387\">«part def»</text><text fill=\"#000000\" font-family=\"sans-serif\" font-size=\"12\" lengthAdjust=\"spacingAndGlyphs\" textLength=\"41\" x=\"599.5\" y=\"219.1074\">Device</text><line style=\"stroke: #383838; stroke-width: 1.5;\" x1=\"552.5\" x2=\"687.5\" y1=\"226.9375\" y2=\"226.9375\"/><text fill=\"#000000\" font-family=\"sans-serif\" font-size=\"11\" lengthAdjust=\"spacingAndGlyphs\" textLength=\"125\" x=\"557.5\" y=\"257.9526\">connType: Connection</text><text fill=\"#000000\" font-family=\"sans-serif\" font-size=\"11\" lengthAdjust=\"spacingAndGlyphs\" textLength=\"113\" x=\"557.5\" y=\"270.7573\">voltageIn: Electricity</text><line style=\"stroke: #383838; stroke-width: 1.0;\" x1=\"552.5\" x2=\"592.5\" y1=\"241.3398\" y2=\"241.3398\"/><text fill=\"#000000\" font-family=\"sans-serif\" font-size=\"11\" lengthAdjust=\"spacingAndGlyphs\" textLength=\"55\" x=\"592.5\" y=\"244.6479\">attributes</text><line style=\"stroke: #383838; stroke-width: 1.0;\" x1=\"647.5\" x2=\"687.5\" y1=\"241.3398\" y2=\"241.3398\"/></a><!--MD5=[ebbe1d658d1005bcc118a6aa81145e00]\n",
       "class E4--><a href=\"psysml:1bb65d2e-5f84-4b4f-94a4-58575b23347d\" target=\"_top\" title=\"psysml:1bb65d2e-5f84-4b4f-94a4-58575b23347d\" xlink:actuate=\"onRequest\" xlink:href=\"psysml:1bb65d2e-5f84-4b4f-94a4-58575b23347d\" xlink:show=\"new\" xlink:title=\"psysml:1bb65d2e-5f84-4b4f-94a4-58575b23347d\" xlink:type=\"simple\"><rect fill=\"#FFFFFF\" height=\"45.9375\" id=\"E4\" style=\"stroke: #383838; stroke-width: 1.5;\" width=\"72\" x=\"584\" y=\"62\"/><text fill=\"#000000\" font-family=\"sans-serif\" font-size=\"12\" font-style=\"italic\" lengthAdjust=\"spacingAndGlyphs\" textLength=\"64\" x=\"588\" y=\"78.1387\">«part def»</text><text fill=\"#000000\" font-family=\"sans-serif\" font-size=\"12\" lengthAdjust=\"spacingAndGlyphs\" textLength=\"66\" x=\"587\" y=\"92.1074\">WiFiRouter</text><line style=\"stroke: #383838; stroke-width: 1.5;\" x1=\"585\" x2=\"655\" y1=\"99.9375\" y2=\"99.9375\"/></a><!--MD5=[270fce915f116d4de14055a7c1d9a0f3]\n",
       "class E5--><a href=\"psysml:b68f69e3-9473-43c9-a687-15158d1fe38c\" target=\"_top\" title=\"psysml:b68f69e3-9473-43c9-a687-15158d1fe38c\" xlink:actuate=\"onRequest\" xlink:href=\"psysml:b68f69e3-9473-43c9-a687-15158d1fe38c\" xlink:show=\"new\" xlink:title=\"psysml:b68f69e3-9473-43c9-a687-15158d1fe38c\" xlink:type=\"simple\"><rect fill=\"#FFFFFF\" height=\"88.3516\" id=\"E5\" style=\"stroke: #383838; stroke-width: 1.5;\" width=\"95\" x=\"336.5\" y=\"189\"/><text fill=\"#000000\" font-family=\"sans-serif\" font-size=\"12\" font-style=\"italic\" lengthAdjust=\"spacingAndGlyphs\" textLength=\"93\" x=\"337.5\" y=\"205.1387\">«attribute def»</text><text fill=\"#000000\" font-family=\"sans-serif\" font-size=\"12\" lengthAdjust=\"spacingAndGlyphs\" textLength=\"71\" x=\"348.5\" y=\"219.1074\">Connection</text><line style=\"stroke: #383838; stroke-width: 1.5;\" x1=\"337.5\" x2=\"430.5\" y1=\"226.9375\" y2=\"226.9375\"/><text fill=\"#000000\" font-family=\"sans-serif\" font-size=\"11\" lengthAdjust=\"spacingAndGlyphs\" textLength=\"70\" x=\"342.5\" y=\"257.9526\">inData: Data</text><text fill=\"#000000\" font-family=\"sans-serif\" font-size=\"11\" lengthAdjust=\"spacingAndGlyphs\" textLength=\"78\" x=\"342.5\" y=\"270.7573\">outData: Data</text><line style=\"stroke: #383838; stroke-width: 1.0;\" x1=\"337.5\" x2=\"368\" y1=\"241.3398\" y2=\"241.3398\"/><text fill=\"#000000\" font-family=\"sans-serif\" font-size=\"11\" lengthAdjust=\"spacingAndGlyphs\" textLength=\"32\" x=\"368\" y=\"244.6479\">items</text><line style=\"stroke: #383838; stroke-width: 1.0;\" x1=\"400\" x2=\"430.5\" y1=\"241.3398\" y2=\"241.3398\"/></a><!--MD5=[b9389687b975829384b498ac4b7476b2]\n",
       "class E8--><a href=\"psysml:a6456364-aebd-483e-bde8-30bdfeac8aa8\" target=\"_top\" title=\"psysml:a6456364-aebd-483e-bde8-30bdfeac8aa8\" xlink:actuate=\"onRequest\" xlink:href=\"psysml:a6456364-aebd-483e-bde8-30bdfeac8aa8\" xlink:show=\"new\" xlink:title=\"psysml:a6456364-aebd-483e-bde8-30bdfeac8aa8\" xlink:type=\"simple\"><rect fill=\"#FFFFFF\" height=\"75.5469\" id=\"E8\" style=\"stroke: #383838; stroke-width: 1.5;\" width=\"156\" x=\"393\" y=\"47\"/><text fill=\"#000000\" font-family=\"sans-serif\" font-size=\"12\" font-style=\"italic\" lengthAdjust=\"spacingAndGlyphs\" textLength=\"93\" x=\"424.5\" y=\"63.1387\">«attribute def»</text><text fill=\"#000000\" font-family=\"sans-serif\" font-size=\"12\" lengthAdjust=\"spacingAndGlyphs\" textLength=\"123\" x=\"409.5\" y=\"77.1074\">WirelessConnection</text><line style=\"stroke: #383838; stroke-width: 1.5;\" x1=\"394\" x2=\"548\" y1=\"84.9375\" y2=\"84.9375\"/><text fill=\"#000000\" font-family=\"sans-serif\" font-size=\"11\" lengthAdjust=\"spacingAndGlyphs\" textLength=\"144\" x=\"399\" y=\"115.9526\">frequency: FrequencyUnit</text><line style=\"stroke: #383838; stroke-width: 1.0;\" x1=\"394\" x2=\"443.5\" y1=\"99.3398\" y2=\"99.3398\"/><text fill=\"#000000\" font-family=\"sans-serif\" font-size=\"11\" lengthAdjust=\"spacingAndGlyphs\" textLength=\"55\" x=\"443.5\" y=\"102.6479\">attributes</text><line style=\"stroke: #383838; stroke-width: 1.0;\" x1=\"498.5\" x2=\"548\" y1=\"99.3398\" y2=\"99.3398\"/></a><!--MD5=[fd4143e9d270a159db93a4ea2a975926]\n",
       "class E9--><a href=\"psysml:9c86ab75-8a41-49aa-b480-425ac4bdf5f3\" target=\"_top\" title=\"psysml:9c86ab75-8a41-49aa-b480-425ac4bdf5f3\" xlink:actuate=\"onRequest\" xlink:href=\"psysml:9c86ab75-8a41-49aa-b480-425ac4bdf5f3\" xlink:show=\"new\" xlink:title=\"psysml:9c86ab75-8a41-49aa-b480-425ac4bdf5f3\" xlink:type=\"simple\"><rect fill=\"#FFFFFF\" height=\"75.5469\" id=\"E9\" style=\"stroke: #383838; stroke-width: 1.5;\" width=\"117\" x=\"240.5\" y=\"47\"/><text fill=\"#000000\" font-family=\"sans-serif\" font-size=\"12\" font-style=\"italic\" lengthAdjust=\"spacingAndGlyphs\" textLength=\"93\" x=\"252.5\" y=\"63.1387\">«attribute def»</text><text fill=\"#000000\" font-family=\"sans-serif\" font-size=\"12\" lengthAdjust=\"spacingAndGlyphs\" textLength=\"106\" x=\"246\" y=\"77.1074\">CableConnection</text><line style=\"stroke: #383838; stroke-width: 1.5;\" x1=\"241.5\" x2=\"356.5\" y1=\"84.9375\" y2=\"84.9375\"/><text fill=\"#000000\" font-family=\"sans-serif\" font-size=\"11\" lengthAdjust=\"spacingAndGlyphs\" textLength=\"105\" x=\"246.5\" y=\"115.9526\">wireCount: Integer</text><line style=\"stroke: #383838; stroke-width: 1.0;\" x1=\"241.5\" x2=\"271.5\" y1=\"99.3398\" y2=\"99.3398\"/><text fill=\"#000000\" font-family=\"sans-serif\" font-size=\"11\" lengthAdjust=\"spacingAndGlyphs\" textLength=\"55\" x=\"271.5\" y=\"102.6479\">attributes</text><line style=\"stroke: #383838; stroke-width: 1.0;\" x1=\"326.5\" x2=\"356.5\" y1=\"99.3398\" y2=\"99.3398\"/></a><!--MD5=[96f4274e9e20536e775497830990834d]\n",
       "class E10--><a href=\"psysml:9649bd12-7adb-4c75-91a4-12c54f90c2dd\" target=\"_top\" title=\"psysml:9649bd12-7adb-4c75-91a4-12c54f90c2dd\" xlink:actuate=\"onRequest\" xlink:href=\"psysml:9649bd12-7adb-4c75-91a4-12c54f90c2dd\" xlink:show=\"new\" xlink:title=\"psysml:9649bd12-7adb-4c75-91a4-12c54f90c2dd\" xlink:type=\"simple\"><rect fill=\"#FFFFFF\" height=\"88.3516\" id=\"E10\" style=\"stroke: #383838; stroke-width: 1.5;\" width=\"173\" x=\"32.5\" y=\"41\"/><text fill=\"#000000\" font-family=\"sans-serif\" font-size=\"12\" font-style=\"italic\" lengthAdjust=\"spacingAndGlyphs\" textLength=\"93\" x=\"72.5\" y=\"57.1387\">«attribute def»</text><text fill=\"#000000\" font-family=\"sans-serif\" font-size=\"12\" lengthAdjust=\"spacingAndGlyphs\" textLength=\"60\" x=\"89\" y=\"71.1074\">Electricity</text><line style=\"stroke: #383838; stroke-width: 1.5;\" x1=\"33.5\" x2=\"204.5\" y1=\"78.9375\" y2=\"78.9375\"/><text fill=\"#000000\" font-family=\"sans-serif\" font-size=\"11\" lengthAdjust=\"spacingAndGlyphs\" textLength=\"158\" x=\"38.5\" y=\"109.9526\">ampere: ElectricCurrentUnit</text><text fill=\"#000000\" font-family=\"sans-serif\" font-size=\"11\" lengthAdjust=\"spacingAndGlyphs\" textLength=\"161\" x=\"38.5\" y=\"122.7573\">voltage: ElectricPotentialUnit</text><line style=\"stroke: #383838; stroke-width: 1.0;\" x1=\"33.5\" x2=\"91.5\" y1=\"93.3398\" y2=\"93.3398\"/><text fill=\"#000000\" font-family=\"sans-serif\" font-size=\"11\" lengthAdjust=\"spacingAndGlyphs\" textLength=\"55\" x=\"91.5\" y=\"96.6479\">attributes</text><line style=\"stroke: #383838; stroke-width: 1.0;\" x1=\"146.5\" x2=\"204.5\" y1=\"93.3398\" y2=\"93.3398\"/></a><!--MD5=[f0cdf4548168e5211fb3a02bf679d63a]\n",
       "link E4 to E3--><a href=\"psysml:6aa57737-3863-4439-bd9b-917c286a9c46\" target=\"_top\" title=\"psysml:6aa57737-3863-4439-bd9b-917c286a9c46\" xlink:actuate=\"onRequest\" xlink:href=\"psysml:6aa57737-3863-4439-bd9b-917c286a9c46\" xlink:show=\"new\" xlink:title=\"psysml:6aa57737-3863-4439-bd9b-917c286a9c46\" xlink:type=\"simple\"><path d=\"M620,108.17 C620,124.31 620,147.04 620,168.62 \" fill=\"none\" id=\"E4-&gt;E3\" style=\"stroke: #383838; stroke-width: 1.0;\"/><polygon fill=\"none\" points=\"627,168.71,620,188.71,613,168.71,627,168.71\" style=\"stroke: #383838; stroke-width: 1.0;\"/></a><!--MD5=[1ccb2481ffa92f8d51a74ee30c51832a]\n",
       "link E8 to E5--><a href=\"psysml:625686be-defa-4a2a-a7ae-802af5de07e4\" target=\"_top\" title=\"psysml:625686be-defa-4a2a-a7ae-802af5de07e4\" xlink:actuate=\"onRequest\" xlink:href=\"psysml:625686be-defa-4a2a-a7ae-802af5de07e4\" xlink:show=\"new\" xlink:title=\"psysml:625686be-defa-4a2a-a7ae-802af5de07e4\" xlink:type=\"simple\"><path d=\"M448.82,123.22 C440.06,137.92 429.76,155.2 419.99,171.6 \" fill=\"none\" id=\"E8-&gt;E5\" style=\"stroke: #383838; stroke-width: 1.0;\"/><polygon fill=\"none\" points=\"425.94,175.3,409.69,188.89,413.91,168.13,425.94,175.3\" style=\"stroke: #383838; stroke-width: 1.0;\"/></a><!--MD5=[bfc3ddf2e613be37104f658f09af896c]\n",
       "link E9 to E5--><a href=\"psysml:ee74b308-21e4-4bcd-89f6-16a52cd5b835\" target=\"_top\" title=\"psysml:ee74b308-21e4-4bcd-89f6-16a52cd5b835\" xlink:actuate=\"onRequest\" xlink:href=\"psysml:ee74b308-21e4-4bcd-89f6-16a52cd5b835\" xlink:show=\"new\" xlink:title=\"psysml:ee74b308-21e4-4bcd-89f6-16a52cd5b835\" xlink:type=\"simple\"><path d=\"M320.67,123.22 C329.23,137.92 339.29,155.2 348.84,171.6 \" fill=\"none\" id=\"E9-&gt;E5\" style=\"stroke: #383838; stroke-width: 1.0;\"/><polygon fill=\"none\" points=\"354.89,168.09,358.9,188.89,342.79,175.13,354.89,168.09\" style=\"stroke: #383838; stroke-width: 1.0;\"/></a><!--MD5=[eecd45d44598ed81821738a74dbf09a9]\n",
       "@startuml\r\n",
       "skinparam monochrome true\r\n",
       "skinparam classbackgroundcolor white\r\n",
       "skinparam shadowing false\r\n",
       "skinparam wrapWidth 300\r\n",
       "hide circle\r\n",
       "\r\n",
       "package \"Internet\" as E1  [[psysml:665e05dd-1db1-4d05-811f-d3248956bcac ]]  {\r\n",
       "comp def \"Data\" as E2  <<(T,blue)part def>> [[psysml:cb3cdb86-6e33-4c02-8046-0c056dd78946 ]] {\r\n",
       "}\r\n",
       "comp def \"Device\" as E3  <<(T,blue)part def>> [[psysml:e1d062c2-76df-42ee-94db-3c9320cee1f0 ]] {\r\n",
       "- - attributes - -\r\n",
       "connType: Connection\r\n",
       "voltageIn: Electricity\r\n",
       "}\r\n",
       "comp def \"WiFiRouter\" as E4  <<(T,blue)part def>> [[psysml:1bb65d2e-5f84-4b4f-94a4-58575b23347d ]] {\r\n",
       "}\r\n",
       "comp def \"Connection\" as E5  <<(T,blue)attribute def>> [[psysml:b68f69e3-9473-43c9-a687-15158d1fe38c ]] {\r\n",
       "- - items - -\r\n",
       "inData: Data\r\n",
       "outData: Data\r\n",
       "}\r\n",
       "comp def \"WirelessConnection\" as E8  <<(T,blue)attribute def>> [[psysml:a6456364-aebd-483e-bde8-30bdfeac8aa8 ]] {\r\n",
       "- - attributes - -\r\n",
       "frequency: FrequencyUnit\r\n",
       "}\r\n",
       "comp def \"CableConnection\" as E9  <<(T,blue)attribute def>> [[psysml:9c86ab75-8a41-49aa-b480-425ac4bdf5f3 ]] {\r\n",
       "- - attributes - -\r\n",
       "wireCount: Integer\r\n",
       "}\r\n",
       "comp def \"Electricity\" as E10  <<(T,blue)attribute def>> [[psysml:9649bd12-7adb-4c75-91a4-12c54f90c2dd ]] {\r\n",
       "- - attributes - -\r\n",
       "ampere: ElectricCurrentUnit\r\n",
       "voltage: ElectricPotentialUnit\r\n",
       "}\r\n",
       "E4 - -|> E3 [[psysml:6aa57737-3863-4439-bd9b-917c286a9c46 ]] \r\n",
       "E8 - -|> E5 [[psysml:625686be-defa-4a2a-a7ae-802af5de07e4 ]] \r\n",
       "E9 - -|> E5 [[psysml:ee74b308-21e4-4bcd-89f6-16a52cd5b835 ]] \r\n",
       "}\r\n",
       "@enduml\r\n",
       "\n",
       "PlantUML version 1.2020.13(Sat Jun 13 12:26:38 UTC 2020)\n",
       "(EPL source distribution)\n",
       "Java Runtime: OpenJDK Runtime Environment\n",
       "JVM: OpenJDK 64-Bit Server VM\n",
       "Default Encoding: UTF-8\n",
       "Language: en\n",
       "Country: null\n",
       "--></g></svg>"
      ]
     },
     "execution_count": 2,
     "metadata": {},
     "output_type": "execute_result"
    }
   ],
   "source": [
    "%viz Internet"
   ]
  },
  {
   "cell_type": "code",
   "execution_count": null,
   "id": "disturbed-cycling",
   "metadata": {},
   "outputs": [],
   "source": []
  }
 ],
 "metadata": {
  "kernelspec": {
   "display_name": "SysML",
   "language": "sysml",
   "name": "sysml"
  },
  "language_info": {
   "codemirror_mode": "sysml",
   "file_extension": ".sysml",
   "mimetype": "text/x-sysml",
   "name": "SysML",
   "pygments_lexer": "java",
   "version": "1.0.0"
  }
 },
 "nbformat": 4,
 "nbformat_minor": 5
}
