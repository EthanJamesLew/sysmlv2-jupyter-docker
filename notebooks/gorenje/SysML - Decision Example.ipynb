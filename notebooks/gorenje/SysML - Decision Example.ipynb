{
 "cells": [
  {
   "cell_type": "markdown",
   "id": "split-wealth",
   "metadata": {},
   "source": [
    "## Decision Example\n",
    "\n",
    "Taken from the [training](/lab/tree/sysml/src/training/19.%20Control/Decision%20Example.sysml) directory."
   ]
  },
  {
   "cell_type": "code",
   "execution_count": 1,
   "id": "secondary-canada",
   "metadata": {
    "execution": {
     "iopub.execute_input": "2021-05-27T06:06:26.334821Z",
     "iopub.status.busy": "2021-05-27T06:06:26.331795Z",
     "iopub.status.idle": "2021-05-27T06:06:26.872059Z",
     "shell.execute_reply": "2021-05-27T06:06:26.871593Z"
    }
   },
   "outputs": [
    {
     "data": {
      "text/plain": [
       "Package Decision Example (32d659a1-f1ee-4b6a-9a92-82c26f785105)\n"
      ]
     },
     "execution_count": 1,
     "metadata": {},
     "output_type": "execute_result"
    }
   ],
   "source": [
    "package 'Decision Example' {\n",
    "\timport ScalarValues::*;\n",
    "\t\n",
    "\tattribute def BatteryCharged;\n",
    "\t\n",
    "\tpart battery;\n",
    "\tpart powerSystem;\n",
    "\t\n",
    "\taction def AddCharge (in charge : Real);\n",
    "\t\n",
    "\taction def ChargeBattery {\n",
    "\t\tfirst start;\n",
    "\n",
    "\t\tthen merge continueCharging;\n",
    "\t\t\n",
    "\t\tthen action monitor accept batteryCharge : Real;\n",
    "\t\t\n",
    "\t\tthen decide;\n",
    "\t\t\tif monitor::batteryCharge < 100 then addCharge;\n",
    "\t\t\tif monitor::batteryCharge >= 100 then signalCharged;\n",
    "\t\t\t\n",
    "\t\taction addCharge : AddCharge (batteryCharge);\n",
    "\t\tthen continueCharging;\n",
    "\t\t\n",
    "\t\taction signalCharged send BatteryCharged() to powerSystem;\n",
    "\t\tthen done;\n",
    "\t}\n",
    "}"
   ]
  },
  {
   "cell_type": "code",
   "execution_count": 2,
   "id": "tamil-disease",
   "metadata": {
    "execution": {
     "iopub.execute_input": "2021-05-27T06:06:26.923972Z",
     "iopub.status.busy": "2021-05-27T06:06:26.923557Z",
     "iopub.status.idle": "2021-05-27T06:06:27.588750Z",
     "shell.execute_reply": "2021-05-27T06:06:27.586905Z"
    }
   },
   "outputs": [
    {
     "data": {
      "image/svg+xml": [
       "<?xml version=\"1.0\" encoding=\"UTF-8\" standalone=\"no\"?><svg xmlns=\"http://www.w3.org/2000/svg\" xmlns:xlink=\"http://www.w3.org/1999/xlink\" contentScriptType=\"application/ecmascript\" contentStyleType=\"text/css\" height=\"847px\" preserveAspectRatio=\"none\" style=\"width:712px;height:847px;\" version=\"1.1\" viewBox=\"0 0 712 847\" width=\"712px\" zoomAndPan=\"magnify\"><defs/><g><!--MD5=[fbc87193dbaf4d95561dea2c320d4a47]\n",
       "cluster E1--><a href=\"psysml:f95e9636-61ba-4319-89e4-1b031168737c\" target=\"_top\" title=\"psysml:f95e9636-61ba-4319-89e4-1b031168737c\" xlink:actuate=\"onRequest\" xlink:href=\"psysml:f95e9636-61ba-4319-89e4-1b031168737c\" xlink:show=\"new\" xlink:title=\"psysml:f95e9636-61ba-4319-89e4-1b031168737c\" xlink:type=\"simple\"><polygon fill=\"#FFFFFF\" points=\"16,6,159,6,166,28.2969,690,28.2969,690,835,16,835,16,6\" style=\"stroke: #000000; stroke-width: 1.5;\"/><line style=\"stroke: #000000; stroke-width: 1.5;\" x1=\"16\" x2=\"166\" y1=\"28.2969\" y2=\"28.2969\"/><text fill=\"#000000\" font-family=\"sans-serif\" font-size=\"14\" font-weight=\"bold\" lengthAdjust=\"spacingAndGlyphs\" textLength=\"137\" x=\"20\" y=\"20.9951\">Decision Example</text></a><!--MD5=[de5ec2e2e8f62f467e546659f5068c88]\n",
       "cluster E5--><a href=\"psysml:9d342abb-8c25-46fd-90ac-947e0b9e0781\" target=\"_top\" title=\"psysml:9d342abb-8c25-46fd-90ac-947e0b9e0781\" xlink:actuate=\"onRequest\" xlink:href=\"psysml:9d342abb-8c25-46fd-90ac-947e0b9e0781\" xlink:show=\"new\" xlink:title=\"psysml:9d342abb-8c25-46fd-90ac-947e0b9e0781\" xlink:type=\"simple\"><rect fill=\"#FFFFFF\" height=\"135\" id=\"E5\" style=\"stroke: #383838; stroke-width: 1.5;\" width=\"136\" x=\"538\" y=\"122\"/><rect fill=\"#F8F8F8\" height=\"37.9375\" style=\"stroke: #383838; stroke-width: 1.5;\" width=\"136\" x=\"538\" y=\"122\"/><text fill=\"#000000\" font-family=\"sans-serif\" font-size=\"12\" font-style=\"italic\" lengthAdjust=\"spacingAndGlyphs\" textLength=\"77\" x=\"567.5\" y=\"138.1387\">«action def»</text><text fill=\"#000000\" font-family=\"sans-serif\" font-size=\"12\" lengthAdjust=\"spacingAndGlyphs\" textLength=\"69\" x=\"571.5\" y=\"152.1074\">AddCharge</text></a><!--MD5=[168fadf3d0c3fd93dd5d6da1b1d7ab76]\n",
       "cluster E7--><a href=\"psysml:55511c26-208b-413b-ba21-af27ee0c2410\" target=\"_top\" title=\"psysml:55511c26-208b-413b-ba21-af27ee0c2410\" xlink:actuate=\"onRequest\" xlink:href=\"psysml:55511c26-208b-413b-ba21-af27ee0c2410\" xlink:show=\"new\" xlink:title=\"psysml:55511c26-208b-413b-ba21-af27ee0c2410\" xlink:type=\"simple\"><rect fill=\"#FFFFFF\" height=\"762\" id=\"E7\" style=\"stroke: #383838; stroke-width: 1.5;\" width=\"283\" x=\"239\" y=\"49\"/><rect fill=\"#F8F8F8\" height=\"37.9375\" style=\"stroke: #383838; stroke-width: 1.5;\" width=\"283\" x=\"239\" y=\"49\"/><text fill=\"#000000\" font-family=\"sans-serif\" font-size=\"12\" font-style=\"italic\" lengthAdjust=\"spacingAndGlyphs\" textLength=\"77\" x=\"342\" y=\"65.1387\">«action def»</text><text fill=\"#000000\" font-family=\"sans-serif\" font-size=\"12\" lengthAdjust=\"spacingAndGlyphs\" textLength=\"90\" x=\"335.5\" y=\"79.1074\">ChargeBattery</text></a><!--MD5=[917b9dd0c7eca3ee5f47219d1a84c0ad]\n",
       "cluster E11--><a href=\"psysml:d68f67b4-9607-4827-aead-d850235f5a39\" target=\"_top\" title=\"psysml:d68f67b4-9607-4827-aead-d850235f5a39\" xlink:actuate=\"onRequest\" xlink:href=\"psysml:d68f67b4-9607-4827-aead-d850235f5a39\" xlink:show=\"new\" xlink:title=\"psysml:d68f67b4-9607-4827-aead-d850235f5a39\" xlink:type=\"simple\"><rect fill=\"#FFFFFF\" height=\"143\" id=\"E11\" rx=\"10\" ry=\"10\" style=\"stroke: #383838; stroke-width: 1.5;\" width=\"150\" x=\"291\" y=\"122\"/><rect fill=\"#F8F8F8\" height=\"37.9375\" rx=\"10\" ry=\"10\" style=\"stroke: #F8F8F8; stroke-width: 1.5;\" width=\"150\" x=\"291\" y=\"122\"/><rect fill=\"#F8F8F8\" height=\"10\" style=\"stroke: #F8F8F8; stroke-width: 1.5;\" width=\"150\" x=\"291\" y=\"149.9375\"/><rect fill=\"none\" height=\"143\" id=\"E11\" rx=\"10\" ry=\"10\" style=\"stroke: #383838; stroke-width: 1.5;\" width=\"150\" x=\"291\" y=\"122\"/><text fill=\"#000000\" font-family=\"sans-serif\" font-size=\"12\" font-style=\"italic\" lengthAdjust=\"spacingAndGlyphs\" textLength=\"53\" x=\"339.5\" y=\"138.1387\">«action»</text><text fill=\"#000000\" font-family=\"sans-serif\" font-size=\"12\" lengthAdjust=\"spacingAndGlyphs\" textLength=\"69\" x=\"331.5\" y=\"152.1074\">addCharge</text><line style=\"stroke: #383838; stroke-width: 1.0;\" x1=\"291\" x2=\"441\" y1=\"159.9375\" y2=\"159.9375\"/></a><!--MD5=[b4997ac47864f28c2f74865a473b2911]\n",
       "class E2--><a href=\"psysml:1e165e86-8d36-4865-b1a8-c20e4fadb965\" target=\"_top\" title=\"psysml:1e165e86-8d36-4865-b1a8-c20e4fadb965\" xlink:actuate=\"onRequest\" xlink:href=\"psysml:1e165e86-8d36-4865-b1a8-c20e4fadb965\" xlink:show=\"new\" xlink:title=\"psysml:1e165e86-8d36-4865-b1a8-c20e4fadb965\" xlink:type=\"simple\"><rect fill=\"#FFFFFF\" height=\"45.9375\" id=\"E2\" style=\"stroke: #383838; stroke-width: 1.5;\" width=\"104\" x=\"119\" y=\"99\"/><text fill=\"#000000\" font-family=\"sans-serif\" font-size=\"12\" font-style=\"italic\" lengthAdjust=\"spacingAndGlyphs\" textLength=\"93\" x=\"124.5\" y=\"115.1387\">«attribute def»</text><text fill=\"#000000\" font-family=\"sans-serif\" font-size=\"12\" lengthAdjust=\"spacingAndGlyphs\" textLength=\"98\" x=\"122\" y=\"129.1074\">BatteryCharged</text><line style=\"stroke: #383838; stroke-width: 1.5;\" x1=\"120\" x2=\"222\" y1=\"136.9375\" y2=\"136.9375\"/></a><!--MD5=[09b614a08d8cba4a07c9adeb5e0fee81]\n",
       "class E3--><a href=\"psysml:801c2fff-ac4b-48d0-8429-22983cf921fa\" target=\"_top\" title=\"psysml:801c2fff-ac4b-48d0-8429-22983cf921fa\" xlink:actuate=\"onRequest\" xlink:href=\"psysml:801c2fff-ac4b-48d0-8429-22983cf921fa\" xlink:show=\"new\" xlink:title=\"psysml:801c2fff-ac4b-48d0-8429-22983cf921fa\" xlink:type=\"simple\"><rect fill=\"#FFFFFF\" height=\"45.9375\" id=\"E3\" rx=\"10\" ry=\"10\" style=\"stroke: #383838; stroke-width: 1.5;\" width=\"51\" x=\"32.5\" y=\"99\"/><text fill=\"#000000\" font-family=\"sans-serif\" font-size=\"12\" font-style=\"italic\" lengthAdjust=\"spacingAndGlyphs\" textLength=\"40\" x=\"38\" y=\"115.1387\">«part»</text><text fill=\"#000000\" font-family=\"sans-serif\" font-size=\"12\" lengthAdjust=\"spacingAndGlyphs\" textLength=\"45\" x=\"35.5\" y=\"129.1074\">battery</text><line style=\"stroke: #383838; stroke-width: 1.5;\" x1=\"33.5\" x2=\"82.5\" y1=\"136.9375\" y2=\"136.9375\"/></a><!--MD5=[ebbe1d658d1005bcc118a6aa81145e00]\n",
       "class E4--><a href=\"psysml:6260b6e9-52b2-426e-82f9-5c88a90f48a2\" target=\"_top\" title=\"psysml:6260b6e9-52b2-426e-82f9-5c88a90f48a2\" xlink:actuate=\"onRequest\" xlink:href=\"psysml:6260b6e9-52b2-426e-82f9-5c88a90f48a2\" xlink:show=\"new\" xlink:title=\"psysml:6260b6e9-52b2-426e-82f9-5c88a90f48a2\" xlink:type=\"simple\"><rect fill=\"#FFFFFF\" height=\"45.9375\" id=\"E4\" rx=\"10\" ry=\"10\" style=\"stroke: #383838; stroke-width: 1.5;\" width=\"89\" x=\"537.5\" y=\"762\"/><text fill=\"#000000\" font-family=\"sans-serif\" font-size=\"12\" font-style=\"italic\" lengthAdjust=\"spacingAndGlyphs\" textLength=\"40\" x=\"562\" y=\"778.1387\">«part»</text><text fill=\"#000000\" font-family=\"sans-serif\" font-size=\"12\" lengthAdjust=\"spacingAndGlyphs\" textLength=\"83\" x=\"540.5\" y=\"792.1074\">powerSystem</text><line style=\"stroke: #383838; stroke-width: 1.5;\" x1=\"538.5\" x2=\"625.5\" y1=\"799.9375\" y2=\"799.9375\"/></a><text fill=\"#000000\" font-family=\"sans-serif\" font-size=\"14\" lengthAdjust=\"spacingAndGlyphs\" textLength=\"48\" x=\"582\" y=\"100.6982\">charge</text><rect fill=\"#383838\" height=\"12\" style=\"stroke: #F8F8F8; stroke-width: 1.5;\" width=\"12\" x=\"600\" y=\"116\"/><polygon fill=\"#F8F8F8\" points=\"267,312,279,324,267,336,255,324,267,312\" style=\"stroke: #383838; stroke-width: 1.5;\"/><!--MD5=[1acd208aae0a17fcb597ebec3d0ce2e2]\n",
       "entity E9--><a href=\"psysml:da30d8cd-eff6-4b02-b408-66bf6b54d458\" target=\"_top\" title=\"psysml:da30d8cd-eff6-4b02-b408-66bf6b54d458\" xlink:actuate=\"onRequest\" xlink:href=\"psysml:da30d8cd-eff6-4b02-b408-66bf6b54d458\" xlink:show=\"new\" xlink:title=\"psysml:da30d8cd-eff6-4b02-b408-66bf6b54d458\" xlink:type=\"simple\"><polygon fill=\"#F8F8F8\" points=\"255,413,255,467.5938,437,467.5938,417,440.2969,437,413\" style=\"stroke: #000000; stroke-width: 1.5;\"/><text fill=\"#000000\" font-family=\"sans-serif\" font-size=\"14\" font-style=\"italic\" lengthAdjust=\"spacingAndGlyphs\" textLength=\"111\" x=\"283\" y=\"435.9951\">«accept action»</text><text fill=\"#000000\" font-family=\"sans-serif\" font-size=\"14\" lengthAdjust=\"spacingAndGlyphs\" textLength=\"141\" x=\"268\" y=\"453.292\">batteryCharge : Real</text></a><polygon fill=\"#F8F8F8\" points=\"346,529,358,541,346,553,334,541,346,529\" style=\"stroke: #383838; stroke-width: 1.5;\"/><!--MD5=[3822a2a4541e754d1dc15080999c19ba]\n",
       "entity E13--><a href=\"psysml:bf86c150-b513-449c-a374-90318152cab4\" target=\"_top\" title=\"psysml:bf86c150-b513-449c-a374-90318152cab4\" xlink:actuate=\"onRequest\" xlink:href=\"psysml:bf86c150-b513-449c-a374-90318152cab4\" xlink:show=\"new\" xlink:title=\"psysml:bf86c150-b513-449c-a374-90318152cab4\" xlink:type=\"simple\"><polygon fill=\"#F8F8F8\" points=\"300.5,630,300.5,684.5938,439.5,684.5938,459.5,657.2969,439.5,630\" style=\"stroke: #000000; stroke-width: 1.5;\"/><text fill=\"#000000\" font-family=\"sans-serif\" font-size=\"14\" font-style=\"italic\" lengthAdjust=\"spacingAndGlyphs\" textLength=\"99\" x=\"323\" y=\"652.9951\">«send action»</text><text fill=\"#000000\" font-family=\"sans-serif\" font-size=\"14\" lengthAdjust=\"spacingAndGlyphs\" textLength=\"118\" x=\"313.5\" y=\"670.292\">BatteryCharged()</text></a><ellipse cx=\"265\" cy=\"223.5\" fill=\"#000000\" rx=\"10\" ry=\"10\" style=\"stroke: none; stroke-width: 1.0;\"/><ellipse cx=\"380\" cy=\"785\" fill=\"none\" rx=\"10\" ry=\"10\" style=\"stroke: #000000; stroke-width: 1.0;\"/><ellipse cx=\"380.5\" cy=\"785.5\" fill=\"#000000\" rx=\"6\" ry=\"6\" style=\"stroke: none; stroke-width: 1.0;\"/><text fill=\"#000000\" font-family=\"sans-serif\" font-size=\"14\" lengthAdjust=\"spacingAndGlyphs\" textLength=\"98\" x=\"317\" y=\"100.6982\">batteryCharge</text><rect fill=\"#383838\" height=\"12\" style=\"stroke: #F8F8F8; stroke-width: 1.5;\" width=\"12\" x=\"360\" y=\"116\"/><!--MD5=[55ebfa55a3826719a7ecf4e8d8b814eb]\n",
       "link *start*E7 to E8--><a href=\"psysml:ead5fe56-3c3e-4cda-bda7-3308ae3aa9de\" target=\"_top\" title=\"psysml:ead5fe56-3c3e-4cda-bda7-3308ae3aa9de\" xlink:actuate=\"onRequest\" xlink:href=\"psysml:ead5fe56-3c3e-4cda-bda7-3308ae3aa9de\" xlink:show=\"new\" xlink:title=\"psysml:ead5fe56-3c3e-4cda-bda7-3308ae3aa9de\" xlink:type=\"simple\"><path d=\"M265.18,233.59 C265.52,250.29 266.25,286.06 266.67,306.94 \" fill=\"none\" id=\"*start*E7-&gt;E8\" style=\"stroke: #383838; stroke-width: 1.0;\"/><polygon fill=\"#383838\" points=\"266.78,312.15,270.5992,303.0718,266.68,307.151,262.6008,303.2318,266.78,312.15\" style=\"stroke: #383838; stroke-width: 1.0;\"/></a><!--MD5=[15372006ba9e3e6d6e5422c2255cdbb7]\n",
       "link E13 to *end*E7--><a href=\"psysml:a082f580-fb3c-4554-8fc6-863257f9eb2f\" target=\"_top\" title=\"psysml:a082f580-fb3c-4554-8fc6-863257f9eb2f\" xlink:actuate=\"onRequest\" xlink:href=\"psysml:a082f580-fb3c-4554-8fc6-863257f9eb2f\" xlink:show=\"new\" xlink:title=\"psysml:a082f580-fb3c-4554-8fc6-863257f9eb2f\" xlink:type=\"simple\"><path d=\"M380,685.12 C380,711.01 380,749.35 380,769.85 \" fill=\"none\" id=\"E13-&gt;*end*E7\" style=\"stroke: #383838; stroke-width: 1.0;\"/><polygon fill=\"#383838\" points=\"380,774.9,384,765.9,380,769.9,376,765.9,380,774.9\" style=\"stroke: #383838; stroke-width: 1.0;\"/></a><!--MD5=[ed10624c06dd9a4fa49ccf290e8b16a8]\n",
       "link E8 to E9--><a href=\"psysml:2b2a953e-0c34-4dcb-ab4b-b3de27a6c300\" target=\"_top\" title=\"psysml:2b2a953e-0c34-4dcb-ab4b-b3de27a6c300\" xlink:actuate=\"onRequest\" xlink:href=\"psysml:2b2a953e-0c34-4dcb-ab4b-b3de27a6c300\" xlink:show=\"new\" xlink:title=\"psysml:2b2a953e-0c34-4dcb-ab4b-b3de27a6c300\" xlink:type=\"simple\"><path d=\"M264.25,333.44 C260.91,345.27 256.7,367.1 265,383 C270.41,393.37 278.7,402.23 287.94,409.65 \" fill=\"none\" id=\"E8-&gt;E9\" style=\"stroke: #383838; stroke-width: 1.0;\"/><polygon fill=\"#383838\" points=\"291.95,412.74,287.2537,404.0829,287.9863,409.6921,282.3771,410.4248,291.95,412.74\" style=\"stroke: #383838; stroke-width: 1.0;\"/></a><!--MD5=[35e5f1cbde42fa304a029880aa2bc7f2]\n",
       "link E9 to E10--><a href=\"psysml:8716ffe5-38b6-4649-878a-9c2c6d7cdb5e\" target=\"_top\" title=\"psysml:8716ffe5-38b6-4649-878a-9c2c6d7cdb5e\" xlink:actuate=\"onRequest\" xlink:href=\"psysml:8716ffe5-38b6-4649-878a-9c2c6d7cdb5e\" xlink:show=\"new\" xlink:title=\"psysml:8716ffe5-38b6-4649-878a-9c2c6d7cdb5e\" xlink:type=\"simple\"><path d=\"M346,468.16 C346,485.92 346,508.68 346,523.77 \" fill=\"none\" id=\"E9-&gt;E10\" style=\"stroke: #383838; stroke-width: 1.0;\"/><polygon fill=\"#383838\" points=\"346,528.96,350,519.96,346,523.96,342,519.96,346,528.96\" style=\"stroke: #383838; stroke-width: 1.0;\"/></a><!--MD5=[7e01d6273c142173bd6ca4b66f8f251a]\n",
       "link E10 to E11--><a href=\"psysml:d429331e-e1ec-49e0-b730-eaabe66f92cf\" target=\"_top\" title=\"psysml:d429331e-e1ec-49e0-b730-eaabe66f92cf\" xlink:actuate=\"onRequest\" xlink:href=\"psysml:d429331e-e1ec-49e0-b730-eaabe66f92cf\" xlink:show=\"new\" xlink:title=\"psysml:d429331e-e1ec-49e0-b730-eaabe66f92cf\" xlink:type=\"simple\"><path d=\"M354.63,537.44 C376.33,530.48 432.98,508.94 455,468 C476.64,427.765 467.13,381.1575 447.7688,339.555 C438.0881,318.7537 425.9447,299.2038 414.0008,282.3272 C411.0148,278.108 408.0413,274.056 405.1219,270.1933 C404.392,269.2276 403.6655,268.2737 402.9431,267.332 C402.5818,266.8612 402.2216,266.3934 401.8625,265.9287 C401.6829,265.6964 401.5036,265.4648 401.3246,265.234 \" fill=\"none\" id=\"E10-&gt;E11\" style=\"stroke: #383838; stroke-width: 1.0;\"/><polygon fill=\"#383838\" points=\"401.3246,265.234,403.6797,274.7971,404.389,269.1849,410.0012,269.8942,401.3246,265.234\" style=\"stroke: #383838; stroke-width: 1.0;\"/><text fill=\"#000000\" font-family=\"sans-serif\" font-size=\"13\" lengthAdjust=\"spacingAndGlyphs\" textLength=\"203\" x=\"463\" y=\"379.0669\">[monitor::batteryCharge &lt; 100]</text></a><!--MD5=[74b78f105e346754c1f4f010190a9055]\n",
       "link E10 to E13--><a href=\"psysml:1e1e812c-b3de-43ba-a579-76e8999e5481\" target=\"_top\" title=\"psysml:1e1e812c-b3de-43ba-a579-76e8999e5481\" xlink:actuate=\"onRequest\" xlink:href=\"psysml:1e1e812c-b3de-43ba-a579-76e8999e5481\" xlink:show=\"new\" xlink:title=\"psysml:1e1e812c-b3de-43ba-a579-76e8999e5481\" xlink:type=\"simple\"><path d=\"M348.56,550.61 C353.16,566.11 363.06,599.46 370.53,624.62 \" fill=\"none\" id=\"E10-&gt;E13\" style=\"stroke: #383838; stroke-width: 1.0;\"/><polygon fill=\"#383838\" points=\"371.99,629.53,373.2565,619.7629,370.5637,624.7377,365.5889,622.0449,371.99,629.53\" style=\"stroke: #383838; stroke-width: 1.0;\"/><text fill=\"#000000\" font-family=\"sans-serif\" font-size=\"13\" lengthAdjust=\"spacingAndGlyphs\" textLength=\"214\" x=\"364\" y=\"596.0669\">[monitor::batteryCharge &gt;= 100]</text></a><!--MD5=[3aca6b7b240bdf4fa74e86e8d4be9f1e]\n",
       "link E11 to E8--><a href=\"psysml:2a03fc89-2509-4013-97ce-ecaa40b1a3b1\" target=\"_top\" title=\"psysml:2a03fc89-2509-4013-97ce-ecaa40b1a3b1\" xlink:actuate=\"onRequest\" xlink:href=\"psysml:2a03fc89-2509-4013-97ce-ecaa40b1a3b1\" xlink:show=\"new\" xlink:title=\"psysml:2a03fc89-2509-4013-97ce-ecaa40b1a3b1\" xlink:type=\"simple\"><path d=\"M322.2576,265.04 C322.2006,265.0947 322.1436,265.1495 322.0866,265.2043 C320.263,266.9575 318.439,268.7216 316.627,270.4863 C313.0031,274.0156 309.4275,277.5475 306,281 C295.27,291.8 283.44,304.69 275.65,313.32 \" fill=\"none\" id=\"E11-&gt;E8\" style=\"stroke: #383838; stroke-width: 1.0;\"/><polygon fill=\"#383838\" points=\"272.18,317.18,281.1739,313.1662,275.5248,313.4635,275.2275,307.8145,272.18,317.18\" style=\"stroke: #383838; stroke-width: 1.0;\"/></a><!--MD5=[017847e01ff9a8bd19f247411074f987]\n",
       "link E13 to E4--><a href=\"psysml:bf86c150-b513-449c-a374-90318152cab4\" target=\"_top\" title=\"psysml:bf86c150-b513-449c-a374-90318152cab4\" xlink:actuate=\"onRequest\" xlink:href=\"psysml:bf86c150-b513-449c-a374-90318152cab4\" xlink:show=\"new\" xlink:title=\"psysml:bf86c150-b513-449c-a374-90318152cab4\" xlink:type=\"simple\"><path d=\"M422.84,685.12 C457.11,706.41 504.94,736.13 539.21,757.41 \" fill=\"none\" id=\"E13-&gt;E4\" style=\"stroke: #383838; stroke-width: 1.0; stroke-dasharray: 7.0,7.0;\"/><polygon fill=\"#383838\" points=\"546.3,761.82,541.0804,755.0557,537.9197,760.1557,546.3,761.82\" style=\"stroke: #383838; stroke-width: 1.0;\"/><text fill=\"#000000\" font-family=\"sans-serif\" font-size=\"13\" lengthAdjust=\"spacingAndGlyphs\" textLength=\"64\" x=\"494\" y=\"728.0669\">«send to»</text></a><!--MD5=[05ae011c8504134a039e5d259da9ff03]\n",
       "@startuml\r\n",
       "skinparam monochrome true\r\n",
       "skinparam classbackgroundcolor white\r\n",
       "skinparam shadowing false\r\n",
       "skinparam wrapWidth 300\r\n",
       "hide circle\r\n",
       "\r\n",
       "package \"Decision Example\" as E1  [[psysml:f95e9636-61ba-4319-89e4-1b031168737c ]]  {\r\n",
       "comp def \"BatteryCharged\" as E2  <<(T,blue)attribute def>> [[psysml:1e165e86-8d36-4865-b1a8-c20e4fadb965 ]] {\r\n",
       "}\r\n",
       "comp usage \"battery\" as E3  <<(T,blue)part>> [[psysml:801c2fff-ac4b-48d0-8429-22983cf921fa ]] {\r\n",
       "}\r\n",
       "comp usage \"powerSystem\" as E4  <<(T,blue)part>> [[psysml:6260b6e9-52b2-426e-82f9-5c88a90f48a2 ]] {\r\n",
       "}\r\n",
       "rec def \"AddCharge\" as E5  <<(T,blue)action def>> [[psysml:9d342abb-8c25-46fd-90ac-947e0b9e0781 ]] {\r\n",
       "portin \"charge\" as E6  [[psysml:f4b4611d-ced2-4435-a779-4218c0b47e7a ]] \r\n",
       "}\r\n",
       "\r\n",
       "rec def \"ChargeBattery\" as E7  <<(T,blue)action def>> [[psysml:55511c26-208b-413b-ba21-af27ee0c2410 ]] {\r\n",
       "choice \"continueCharging\" as E8  [[psysml:d5bc66d1-f677-4037-97e5-00c2ccb7b820 ]] \r\n",
       "accept \" batteryCharge : Real\" as E9 <<accept action>> [[psysml:da30d8cd-eff6-4b02-b408-66bf6b54d458 ]] \r\n",
       "choice \"noname\" as E10  [[psysml:29401285-6516-47c4-a04e-52081218fc60 ]] \r\n",
       "rec usage \"addCharge\" as E11  <<(T,blue)action>> [[psysml:d68f67b4-9607-4827-aead-d850235f5a39 ]] {\r\n",
       "portin \"batteryCharge\" as E12  [[psysml:ba406efb-e345-4fe3-9f55-282d9865e0c0 ]] \r\n",
       "}\r\n",
       "\r\n",
       "send \" BatteryCharged()\" as E13 <<send action>> [[psysml:bf86c150-b513-449c-a374-90318152cab4 ]] \r\n",
       "[*] - -> E8 [[psysml:ead5fe56-3c3e-4cda-bda7-3308ae3aa9de ]] \r\n",
       "E13 - -> [*] [[psysml:a082f580-fb3c-4554-8fc6-863257f9eb2f ]] \r\n",
       "}\r\n",
       "\r\n",
       "E8 - -> E9 [[psysml:2b2a953e-0c34-4dcb-ab4b-b3de27a6c300 ]] \r\n",
       "E9 - -> E10 [[psysml:8716ffe5-38b6-4649-878a-9c2c6d7cdb5e ]] \r\n",
       "E10  - -> E11 [[psysml:d429331e-e1ec-49e0-b730-eaabe66f92cf ]] : [monitor::batteryCharge < 100]\r\n",
       "E10  - -> E13 [[psysml:1e1e812c-b3de-43ba-a579-76e8999e5481 ]] : [monitor::batteryCharge >= 100]\r\n",
       "E11 - -> E8 [[psysml:2a03fc89-2509-4013-97ce-ecaa40b1a3b1 ]] \r\n",
       "E13 ..>> E4 [[psysml:bf86c150-b513-449c-a374-90318152cab4 ]] : <<send to>>\r\n",
       "}\r\n",
       "@enduml\r\n",
       "\n",
       "PlantUML version 1.2020.13(Sat Jun 13 12:26:38 UTC 2020)\n",
       "(EPL source distribution)\n",
       "Java Runtime: OpenJDK Runtime Environment\n",
       "JVM: OpenJDK 64-Bit Server VM\n",
       "Default Encoding: UTF-8\n",
       "Language: en\n",
       "Country: null\n",
       "--></g></svg>"
      ]
     },
     "execution_count": 2,
     "metadata": {},
     "output_type": "execute_result"
    }
   ],
   "source": [
    "%viz \"Decision Example\""
   ]
  },
  {
   "cell_type": "code",
   "execution_count": null,
   "id": "attractive-grain",
   "metadata": {},
   "outputs": [],
   "source": []
  }
 ],
 "metadata": {
  "kernelspec": {
   "display_name": "SysML",
   "language": "sysml",
   "name": "sysml"
  },
  "language_info": {
   "codemirror_mode": "sysml",
   "file_extension": ".sysml",
   "mimetype": "text/x-sysml",
   "name": "SysML",
   "pygments_lexer": "java",
   "version": "1.0.0"
  }
 },
 "nbformat": 4,
 "nbformat_minor": 5
}
