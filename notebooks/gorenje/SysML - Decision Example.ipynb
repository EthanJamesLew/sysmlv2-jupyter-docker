{
 "cells": [
  {
   "cell_type": "markdown",
   "id": "split-wealth",
   "metadata": {},
   "source": [
    "## Decision Example\n",
    "\n",
    "Taken from the [training](/lab/tree/sysml/src/training/19.%20Control/Decision%20Example.sysml) directory."
   ]
  },
  {
   "cell_type": "code",
   "execution_count": 1,
   "id": "secondary-canada",
   "metadata": {
    "execution": {
     "iopub.execute_input": "2021-11-13T12:57:02.513128Z",
     "iopub.status.busy": "2021-11-13T12:57:02.512099Z",
     "iopub.status.idle": "2021-11-13T12:57:03.047903Z",
     "shell.execute_reply": "2021-11-13T12:57:03.045427Z"
    }
   },
   "outputs": [
    {
     "name": "stdout",
     "output_type": "stream",
     "text": [
      "WARNING:Should be an accessible feature (use dot notation for nesting) (1.sysml line : 19 column : 7)"
     ]
    },
    {
     "name": "stdout",
     "output_type": "stream",
     "text": [
      "\n"
     ]
    },
    {
     "name": "stdout",
     "output_type": "stream",
     "text": [
      "WARNING:Should be an accessible feature (use dot notation for nesting) (1.sysml line : 19 column : 7)"
     ]
    },
    {
     "name": "stdout",
     "output_type": "stream",
     "text": [
      "\n"
     ]
    },
    {
     "name": "stdout",
     "output_type": "stream",
     "text": [
      "WARNING:Should be an accessible feature (use dot notation for nesting) (1.sysml line : 20 column : 7)"
     ]
    },
    {
     "name": "stdout",
     "output_type": "stream",
     "text": [
      "\n"
     ]
    },
    {
     "name": "stdout",
     "output_type": "stream",
     "text": [
      "WARNING:Should be an accessible feature (use dot notation for nesting) (1.sysml line : 20 column : 7)"
     ]
    },
    {
     "name": "stdout",
     "output_type": "stream",
     "text": [
      "\n"
     ]
    },
    {
     "data": {
      "text/plain": [
       "Package Decision Example (750df7af-1559-469c-9e1e-db0f5570eb7b)\n"
      ]
     },
     "execution_count": 1,
     "metadata": {},
     "output_type": "execute_result"
    }
   ],
   "source": [
    "package 'Decision Example' {\n",
    "\timport ScalarValues::*;\n",
    "\t\n",
    "\tattribute def BatteryCharged;\n",
    "\t\n",
    "\tpart battery;\n",
    "\tpart powerSystem;\n",
    "\t\n",
    "\taction def AddCharge (in charge : Real);\n",
    "\t\n",
    "\taction def ChargeBattery {\n",
    "\t\tfirst start;\n",
    "\n",
    "\t\tthen merge continueCharging;\n",
    "\t\t\n",
    "\t\tthen action monitor accept batteryCharge : Real;\n",
    "\t\t\n",
    "\t\tthen decide;\n",
    "\t\t\tif monitor::batteryCharge < 100 then addCharge;\n",
    "\t\t\tif monitor::batteryCharge >= 100 then signalCharged;\n",
    "\t\t\t\n",
    "\t\taction addCharge : AddCharge (batteryCharge);\n",
    "\t\tthen continueCharging;\n",
    "\t\t\n",
    "\t\taction signalCharged send BatteryCharged() to powerSystem;\n",
    "\t\tthen done;\n",
    "\t}\n",
    "}"
   ]
  },
  {
   "cell_type": "code",
   "execution_count": 2,
   "id": "tamil-disease",
   "metadata": {
    "execution": {
     "iopub.execute_input": "2021-11-13T12:57:03.095733Z",
     "iopub.status.busy": "2021-11-13T12:57:03.095307Z",
     "iopub.status.idle": "2021-11-13T12:57:03.633780Z",
     "shell.execute_reply": "2021-11-13T12:57:03.633249Z"
    }
   },
   "outputs": [
    {
     "data": {
      "image/svg+xml": [
       "<?xml version=\"1.0\" encoding=\"UTF-8\" standalone=\"no\"?><svg xmlns=\"http://www.w3.org/2000/svg\" xmlns:xlink=\"http://www.w3.org/1999/xlink\" contentScriptType=\"application/ecmascript\" contentStyleType=\"text/css\" height=\"847px\" preserveAspectRatio=\"none\" style=\"width:714px;height:847px;\" version=\"1.1\" viewBox=\"0 0 714 847\" width=\"714px\" zoomAndPan=\"magnify\"><defs/><g><!--MD5=[fbc87193dbaf4d95561dea2c320d4a47]\n",
       "cluster E1--><a href=\"psysml:4b6c9aa3-8665-4a96-80d1-dbadbe1d0259\" target=\"_top\" title=\"psysml:4b6c9aa3-8665-4a96-80d1-dbadbe1d0259\" xlink:actuate=\"onRequest\" xlink:href=\"psysml:4b6c9aa3-8665-4a96-80d1-dbadbe1d0259\" xlink:show=\"new\" xlink:title=\"psysml:4b6c9aa3-8665-4a96-80d1-dbadbe1d0259\" xlink:type=\"simple\"><polygon fill=\"#FFFFFF\" points=\"16,6,144,6,151,28.2969,692,28.2969,692,835,16,835,16,6\" style=\"stroke: #000000; stroke-width: 1.5;\"/><line style=\"stroke: #000000; stroke-width: 1.5;\" x1=\"16\" x2=\"151\" y1=\"28.2969\" y2=\"28.2969\"/><text fill=\"#000000\" font-family=\"sans-serif\" font-size=\"14\" font-weight=\"bold\" lengthAdjust=\"spacingAndGlyphs\" textLength=\"122\" x=\"20\" y=\"20.9951\">Decision Example</text></a><!--MD5=[de5ec2e2e8f62f467e546659f5068c88]\n",
       "cluster E5--><a href=\"psysml:1ea20527-a1f7-41d1-b7bd-7f9085046664\" target=\"_top\" title=\"psysml:1ea20527-a1f7-41d1-b7bd-7f9085046664\" xlink:actuate=\"onRequest\" xlink:href=\"psysml:1ea20527-a1f7-41d1-b7bd-7f9085046664\" xlink:show=\"new\" xlink:title=\"psysml:1ea20527-a1f7-41d1-b7bd-7f9085046664\" xlink:type=\"simple\"><rect fill=\"#FFFFFF\" height=\"135\" id=\"E5\" style=\"stroke: #383838; stroke-width: 1.5;\" width=\"138\" x=\"538\" y=\"122\"/><rect fill=\"#F8F8F8\" height=\"37.9375\" style=\"stroke: #383838; stroke-width: 1.5;\" width=\"138\" x=\"538\" y=\"122\"/><text fill=\"#000000\" font-family=\"sans-serif\" font-size=\"12\" font-style=\"italic\" lengthAdjust=\"spacingAndGlyphs\" textLength=\"81\" x=\"566.5\" y=\"138.1387\">«action  def»</text><text fill=\"#000000\" font-family=\"sans-serif\" font-size=\"12\" lengthAdjust=\"spacingAndGlyphs\" textLength=\"69\" x=\"572.5\" y=\"152.1074\">AddCharge</text></a><!--MD5=[168fadf3d0c3fd93dd5d6da1b1d7ab76]\n",
       "cluster E7--><a href=\"psysml:29408a6f-0caf-4fa5-98ab-d00c37169aa6\" target=\"_top\" title=\"psysml:29408a6f-0caf-4fa5-98ab-d00c37169aa6\" xlink:actuate=\"onRequest\" xlink:href=\"psysml:29408a6f-0caf-4fa5-98ab-d00c37169aa6\" xlink:show=\"new\" xlink:title=\"psysml:29408a6f-0caf-4fa5-98ab-d00c37169aa6\" xlink:type=\"simple\"><rect fill=\"#FFFFFF\" height=\"762\" id=\"E7\" style=\"stroke: #383838; stroke-width: 1.5;\" width=\"283\" x=\"239\" y=\"49\"/><rect fill=\"#F8F8F8\" height=\"37.9375\" style=\"stroke: #383838; stroke-width: 1.5;\" width=\"283\" x=\"239\" y=\"49\"/><text fill=\"#000000\" font-family=\"sans-serif\" font-size=\"12\" font-style=\"italic\" lengthAdjust=\"spacingAndGlyphs\" textLength=\"81\" x=\"340\" y=\"65.1387\">«action  def»</text><text fill=\"#000000\" font-family=\"sans-serif\" font-size=\"12\" lengthAdjust=\"spacingAndGlyphs\" textLength=\"90\" x=\"335.5\" y=\"79.1074\">ChargeBattery</text></a><!--MD5=[917b9dd0c7eca3ee5f47219d1a84c0ad]\n",
       "cluster E11--><a href=\"psysml:4ffda3b3-0936-44df-a6c4-1c3612be978e\" target=\"_top\" title=\"psysml:4ffda3b3-0936-44df-a6c4-1c3612be978e\" xlink:actuate=\"onRequest\" xlink:href=\"psysml:4ffda3b3-0936-44df-a6c4-1c3612be978e\" xlink:show=\"new\" xlink:title=\"psysml:4ffda3b3-0936-44df-a6c4-1c3612be978e\" xlink:type=\"simple\"><rect fill=\"#FFFFFF\" height=\"143\" id=\"E11\" rx=\"10\" ry=\"10\" style=\"stroke: #383838; stroke-width: 1.5;\" width=\"140\" x=\"291\" y=\"122\"/><rect fill=\"#F8F8F8\" height=\"37.9375\" rx=\"10\" ry=\"10\" style=\"stroke: #F8F8F8; stroke-width: 1.5;\" width=\"140\" x=\"291\" y=\"122\"/><rect fill=\"#F8F8F8\" height=\"10\" style=\"stroke: #F8F8F8; stroke-width: 1.5;\" width=\"140\" x=\"291\" y=\"149.9375\"/><rect fill=\"none\" height=\"143\" id=\"E11\" rx=\"10\" ry=\"10\" style=\"stroke: #383838; stroke-width: 1.5;\" width=\"140\" x=\"291\" y=\"122\"/><text fill=\"#000000\" font-family=\"sans-serif\" font-size=\"12\" font-style=\"italic\" lengthAdjust=\"spacingAndGlyphs\" textLength=\"53\" x=\"334.5\" y=\"138.1387\">«action»</text><text fill=\"#000000\" font-family=\"sans-serif\" font-size=\"12\" lengthAdjust=\"spacingAndGlyphs\" textLength=\"69\" x=\"326.5\" y=\"152.1074\">addCharge</text><line style=\"stroke: #383838; stroke-width: 1.0;\" x1=\"291\" x2=\"431\" y1=\"159.9375\" y2=\"159.9375\"/></a><!--MD5=[b4997ac47864f28c2f74865a473b2911]\n",
       "class E2--><a href=\"psysml:9d48af62-3eb7-4d59-a547-89d3814bd293\" target=\"_top\" title=\"psysml:9d48af62-3eb7-4d59-a547-89d3814bd293\" xlink:actuate=\"onRequest\" xlink:href=\"psysml:9d48af62-3eb7-4d59-a547-89d3814bd293\" xlink:show=\"new\" xlink:title=\"psysml:9d48af62-3eb7-4d59-a547-89d3814bd293\" xlink:type=\"simple\"><rect fill=\"#FFFFFF\" height=\"45.9375\" id=\"E2\" style=\"stroke: #383838; stroke-width: 1.5;\" width=\"104\" x=\"119\" y=\"99\"/><text fill=\"#000000\" font-family=\"sans-serif\" font-size=\"12\" font-style=\"italic\" lengthAdjust=\"spacingAndGlyphs\" textLength=\"97\" x=\"122.5\" y=\"115.1387\">«attribute  def»</text><text fill=\"#000000\" font-family=\"sans-serif\" font-size=\"12\" lengthAdjust=\"spacingAndGlyphs\" textLength=\"98\" x=\"122\" y=\"129.1074\">BatteryCharged</text><line style=\"stroke: #383838; stroke-width: 1.5;\" x1=\"120\" x2=\"222\" y1=\"136.9375\" y2=\"136.9375\"/></a><!--MD5=[09b614a08d8cba4a07c9adeb5e0fee81]\n",
       "class E3--><a href=\"psysml:be2fd9ee-0d85-4acb-a465-f1d55500cecc\" target=\"_top\" title=\"psysml:be2fd9ee-0d85-4acb-a465-f1d55500cecc\" xlink:actuate=\"onRequest\" xlink:href=\"psysml:be2fd9ee-0d85-4acb-a465-f1d55500cecc\" xlink:show=\"new\" xlink:title=\"psysml:be2fd9ee-0d85-4acb-a465-f1d55500cecc\" xlink:type=\"simple\"><rect fill=\"#FFFFFF\" height=\"45.9375\" id=\"E3\" rx=\"10\" ry=\"10\" style=\"stroke: #383838; stroke-width: 1.5;\" width=\"51\" x=\"32.5\" y=\"99\"/><text fill=\"#000000\" font-family=\"sans-serif\" font-size=\"12\" font-style=\"italic\" lengthAdjust=\"spacingAndGlyphs\" textLength=\"40\" x=\"38\" y=\"115.1387\">«part»</text><text fill=\"#000000\" font-family=\"sans-serif\" font-size=\"12\" lengthAdjust=\"spacingAndGlyphs\" textLength=\"45\" x=\"35.5\" y=\"129.1074\">battery</text><line style=\"stroke: #383838; stroke-width: 1.5;\" x1=\"33.5\" x2=\"82.5\" y1=\"136.9375\" y2=\"136.9375\"/></a><!--MD5=[ebbe1d658d1005bcc118a6aa81145e00]\n",
       "class E4--><a href=\"psysml:9f2815df-e53c-4fb5-8b41-b003c30b2e45\" target=\"_top\" title=\"psysml:9f2815df-e53c-4fb5-8b41-b003c30b2e45\" xlink:actuate=\"onRequest\" xlink:href=\"psysml:9f2815df-e53c-4fb5-8b41-b003c30b2e45\" xlink:show=\"new\" xlink:title=\"psysml:9f2815df-e53c-4fb5-8b41-b003c30b2e45\" xlink:type=\"simple\"><rect fill=\"#FFFFFF\" height=\"45.9375\" id=\"E4\" rx=\"10\" ry=\"10\" style=\"stroke: #383838; stroke-width: 1.5;\" width=\"89\" x=\"537.5\" y=\"762\"/><text fill=\"#000000\" font-family=\"sans-serif\" font-size=\"12\" font-style=\"italic\" lengthAdjust=\"spacingAndGlyphs\" textLength=\"40\" x=\"562\" y=\"778.1387\">«part»</text><text fill=\"#000000\" font-family=\"sans-serif\" font-size=\"12\" lengthAdjust=\"spacingAndGlyphs\" textLength=\"83\" x=\"540.5\" y=\"792.1074\">powerSystem</text><line style=\"stroke: #383838; stroke-width: 1.5;\" x1=\"538.5\" x2=\"625.5\" y1=\"799.9375\" y2=\"799.9375\"/></a><text fill=\"#000000\" font-family=\"sans-serif\" font-size=\"14\" lengthAdjust=\"spacingAndGlyphs\" textLength=\"48\" x=\"583\" y=\"100.6982\">charge</text><rect fill=\"#383838\" height=\"12\" style=\"stroke: #F8F8F8; stroke-width: 1.5;\" width=\"12\" x=\"601\" y=\"116\"/><polygon fill=\"#F8F8F8\" points=\"267,312,279,324,267,336,255,324,267,312\" style=\"stroke: #383838; stroke-width: 1.5;\"/><!--MD5=[1acd208aae0a17fcb597ebec3d0ce2e2]\n",
       "entity E9--><a href=\"psysml:cf0eb454-e852-4f85-b478-25f900d38b2e\" target=\"_top\" title=\"psysml:cf0eb454-e852-4f85-b478-25f900d38b2e\" xlink:actuate=\"onRequest\" xlink:href=\"psysml:cf0eb454-e852-4f85-b478-25f900d38b2e\" xlink:show=\"new\" xlink:title=\"psysml:cf0eb454-e852-4f85-b478-25f900d38b2e\" xlink:type=\"simple\"><polygon fill=\"#F8F8F8\" points=\"255,413,255,467.5938,437,467.5938,417,440.2969,437,413\" style=\"stroke: #000000; stroke-width: 1.5;\"/><text fill=\"#000000\" font-family=\"sans-serif\" font-size=\"14\" font-style=\"italic\" lengthAdjust=\"spacingAndGlyphs\" textLength=\"111\" x=\"283\" y=\"435.9951\">«accept action»</text><text fill=\"#000000\" font-family=\"sans-serif\" font-size=\"14\" lengthAdjust=\"spacingAndGlyphs\" textLength=\"141\" x=\"268\" y=\"453.292\">batteryCharge : Real</text></a><polygon fill=\"#F8F8F8\" points=\"346,529,358,541,346,553,334,541,346,529\" style=\"stroke: #383838; stroke-width: 1.5;\"/><!--MD5=[3822a2a4541e754d1dc15080999c19ba]\n",
       "entity E13--><a href=\"psysml:4cbb3016-c6d5-4312-a1ec-0a333083e319\" target=\"_top\" title=\"psysml:4cbb3016-c6d5-4312-a1ec-0a333083e319\" xlink:actuate=\"onRequest\" xlink:href=\"psysml:4cbb3016-c6d5-4312-a1ec-0a333083e319\" xlink:show=\"new\" xlink:title=\"psysml:4cbb3016-c6d5-4312-a1ec-0a333083e319\" xlink:type=\"simple\"><polygon fill=\"#F8F8F8\" points=\"300.5,630,300.5,684.5938,439.5,684.5938,459.5,657.2969,439.5,630\" style=\"stroke: #000000; stroke-width: 1.5;\"/><text fill=\"#000000\" font-family=\"sans-serif\" font-size=\"14\" font-style=\"italic\" lengthAdjust=\"spacingAndGlyphs\" textLength=\"99\" x=\"323\" y=\"652.9951\">«send action»</text><text fill=\"#000000\" font-family=\"sans-serif\" font-size=\"14\" lengthAdjust=\"spacingAndGlyphs\" textLength=\"118\" x=\"313.5\" y=\"670.292\">BatteryCharged()</text></a><ellipse cx=\"265\" cy=\"223.5\" fill=\"#000000\" rx=\"10\" ry=\"10\" style=\"stroke: none; stroke-width: 1.0;\"/><ellipse cx=\"380\" cy=\"785\" fill=\"none\" rx=\"10\" ry=\"10\" style=\"stroke: #000000; stroke-width: 1.0;\"/><ellipse cx=\"380.5\" cy=\"785.5\" fill=\"#000000\" rx=\"6\" ry=\"6\" style=\"stroke: none; stroke-width: 1.0;\"/><text fill=\"#000000\" font-family=\"sans-serif\" font-size=\"14\" lengthAdjust=\"spacingAndGlyphs\" textLength=\"98\" x=\"312\" y=\"100.6982\">batteryCharge</text><rect fill=\"#383838\" height=\"12\" style=\"stroke: #F8F8F8; stroke-width: 1.5;\" width=\"12\" x=\"355\" y=\"116\"/><!--MD5=[55ebfa55a3826719a7ecf4e8d8b814eb]\n",
       "link *start*E7 to E8--><a href=\"psysml:ba49776a-02e5-4dd9-ada8-1c00757f8040\" target=\"_top\" title=\"psysml:ba49776a-02e5-4dd9-ada8-1c00757f8040\" xlink:actuate=\"onRequest\" xlink:href=\"psysml:ba49776a-02e5-4dd9-ada8-1c00757f8040\" xlink:show=\"new\" xlink:title=\"psysml:ba49776a-02e5-4dd9-ada8-1c00757f8040\" xlink:type=\"simple\"><path d=\"M265.18,233.59 C265.52,250.29 266.25,286.06 266.67,306.94 \" fill=\"none\" id=\"*start*E7-&gt;E8\" style=\"stroke: #383838; stroke-width: 1.0;\"/><polygon fill=\"#383838\" points=\"266.78,312.15,270.5992,303.0718,266.68,307.151,262.6008,303.2318,266.78,312.15\" style=\"stroke: #383838; stroke-width: 1.0;\"/></a><!--MD5=[15372006ba9e3e6d6e5422c2255cdbb7]\n",
       "link E13 to *end*E7--><a href=\"psysml:22c51dd4-8783-4d5e-b247-5c9cf96a3a25\" target=\"_top\" title=\"psysml:22c51dd4-8783-4d5e-b247-5c9cf96a3a25\" xlink:actuate=\"onRequest\" xlink:href=\"psysml:22c51dd4-8783-4d5e-b247-5c9cf96a3a25\" xlink:show=\"new\" xlink:title=\"psysml:22c51dd4-8783-4d5e-b247-5c9cf96a3a25\" xlink:type=\"simple\"><path d=\"M380,685.12 C380,711.01 380,749.35 380,769.85 \" fill=\"none\" id=\"E13-&gt;*end*E7\" style=\"stroke: #383838; stroke-width: 1.0;\"/><polygon fill=\"#383838\" points=\"380,774.9,384,765.9,380,769.9,376,765.9,380,774.9\" style=\"stroke: #383838; stroke-width: 1.0;\"/></a><!--MD5=[ed10624c06dd9a4fa49ccf290e8b16a8]\n",
       "link E8 to E9--><a href=\"psysml:38ab2cc0-68df-4a98-b481-43a6ad962d37\" target=\"_top\" title=\"psysml:38ab2cc0-68df-4a98-b481-43a6ad962d37\" xlink:actuate=\"onRequest\" xlink:href=\"psysml:38ab2cc0-68df-4a98-b481-43a6ad962d37\" xlink:show=\"new\" xlink:title=\"psysml:38ab2cc0-68df-4a98-b481-43a6ad962d37\" xlink:type=\"simple\"><path d=\"M264.25,333.44 C260.91,345.27 256.7,367.1 265,383 C270.41,393.37 278.7,402.23 287.94,409.65 \" fill=\"none\" id=\"E8-&gt;E9\" style=\"stroke: #383838; stroke-width: 1.0;\"/><polygon fill=\"#383838\" points=\"291.95,412.74,287.2537,404.0829,287.9863,409.6921,282.3771,410.4248,291.95,412.74\" style=\"stroke: #383838; stroke-width: 1.0;\"/><text fill=\"#000000\" font-family=\"sans-serif\" font-size=\"13\" lengthAdjust=\"spacingAndGlyphs\" textLength=\"7\" x=\"272.3609\" y=\"402.1527\">*</text></a><!--MD5=[35e5f1cbde42fa304a029880aa2bc7f2]\n",
       "link E9 to E10--><a href=\"psysml:4ffc870e-5280-4e8a-8137-45302c842ff8\" target=\"_top\" title=\"psysml:4ffc870e-5280-4e8a-8137-45302c842ff8\" xlink:actuate=\"onRequest\" xlink:href=\"psysml:4ffc870e-5280-4e8a-8137-45302c842ff8\" xlink:show=\"new\" xlink:title=\"psysml:4ffc870e-5280-4e8a-8137-45302c842ff8\" xlink:type=\"simple\"><path d=\"M346,468.16 C346,485.92 346,508.68 346,523.77 \" fill=\"none\" id=\"E9-&gt;E10\" style=\"stroke: #383838; stroke-width: 1.0;\"/><polygon fill=\"#383838\" points=\"346,528.96,350,519.96,346,523.96,342,519.96,346,528.96\" style=\"stroke: #383838; stroke-width: 1.0;\"/><text fill=\"#000000\" font-family=\"sans-serif\" font-size=\"13\" lengthAdjust=\"spacingAndGlyphs\" textLength=\"7\" x=\"337.5563\" y=\"517.994\">*</text></a><!--MD5=[7e01d6273c142173bd6ca4b66f8f251a]\n",
       "link E10 to E11--><a href=\"psysml:cc10669f-8653-46fe-9b81-f75a4c9ade9b\" target=\"_top\" title=\"psysml:cc10669f-8653-46fe-9b81-f75a4c9ade9b\" xlink:actuate=\"onRequest\" xlink:href=\"psysml:cc10669f-8653-46fe-9b81-f75a4c9ade9b\" xlink:show=\"new\" xlink:title=\"psysml:cc10669f-8653-46fe-9b81-f75a4c9ade9b\" xlink:type=\"simple\"><path d=\"M354.63,537.44 C376.33,530.48 432.98,508.94 455,468 C476.79,427.495 466.525,380.83 446.1975,339.2575 C436.0338,318.4713 423.3544,298.9581 410.9084,282.1247 C407.797,277.9163 404.7001,273.8754 401.6607,270.024 C400.9009,269.0612 400.1446,268.1102 399.3927,267.1713 C399.0167,266.7019 398.6417,266.2355 398.268,265.7723 C398.0811,265.5406 397.8945,265.3098 397.7082,265.0797 \" fill=\"none\" id=\"E10-&gt;E11\" style=\"stroke: #383838; stroke-width: 1.0;\"/><polygon fill=\"#383838\" points=\"397.7082,265.0797,400.2629,274.5914,400.8546,268.9656,406.4804,269.5573,397.7082,265.0797\" style=\"stroke: #383838; stroke-width: 1.0;\"/><text fill=\"#000000\" font-family=\"sans-serif\" font-size=\"13\" lengthAdjust=\"spacingAndGlyphs\" textLength=\"203\" x=\"463\" y=\"379.0669\">[monitor::batteryCharge &lt; 100]</text><text fill=\"#000000\" font-family=\"sans-serif\" font-size=\"13\" lengthAdjust=\"spacingAndGlyphs\" textLength=\"7\" x=\"370.02\" y=\"253.1369\">*</text></a><!--MD5=[74b78f105e346754c1f4f010190a9055]\n",
       "link E10 to E13--><a href=\"psysml:2e6bf506-28a3-4e89-ae3a-b5dc38e2841d\" target=\"_top\" title=\"psysml:2e6bf506-28a3-4e89-ae3a-b5dc38e2841d\" xlink:actuate=\"onRequest\" xlink:href=\"psysml:2e6bf506-28a3-4e89-ae3a-b5dc38e2841d\" xlink:show=\"new\" xlink:title=\"psysml:2e6bf506-28a3-4e89-ae3a-b5dc38e2841d\" xlink:type=\"simple\"><path d=\"M348.56,550.61 C353.16,566.11 363.06,599.46 370.53,624.62 \" fill=\"none\" id=\"E10-&gt;E13\" style=\"stroke: #383838; stroke-width: 1.0;\"/><polygon fill=\"#383838\" points=\"371.99,629.53,373.2565,619.7629,370.5637,624.7377,365.5889,622.0449,371.99,629.53\" style=\"stroke: #383838; stroke-width: 1.0;\"/><text fill=\"#000000\" font-family=\"sans-serif\" font-size=\"13\" lengthAdjust=\"spacingAndGlyphs\" textLength=\"214\" x=\"364\" y=\"596.0669\">[monitor::batteryCharge &gt;= 100]</text><text fill=\"#000000\" font-family=\"sans-serif\" font-size=\"13\" lengthAdjust=\"spacingAndGlyphs\" textLength=\"7\" x=\"362.4722\" y=\"618.8968\">*</text></a><!--MD5=[3aca6b7b240bdf4fa74e86e8d4be9f1e]\n",
       "link E11 to E8--><a href=\"psysml:bab2d29b-99eb-4db8-b3b2-fc4abedb5f0f\" target=\"_top\" title=\"psysml:bab2d29b-99eb-4db8-b3b2-fc4abedb5f0f\" xlink:actuate=\"onRequest\" xlink:href=\"psysml:bab2d29b-99eb-4db8-b3b2-fc4abedb5f0f\" xlink:show=\"new\" xlink:title=\"psysml:bab2d29b-99eb-4db8-b3b2-fc4abedb5f0f\" xlink:type=\"simple\"><path d=\"M321.2495,265.1089 C321.1444,265.2176 321.0393,265.3263 320.9342,265.4351 C319.2522,267.1754 317.5668,268.9229 315.8889,270.6667 C312.5331,274.1544 309.2075,277.6275 306,281 C295.51,292.03 283.63,304.88 275.77,313.43 \" fill=\"none\" id=\"E11-&gt;E8\" style=\"stroke: #383838; stroke-width: 1.0;\"/><polygon fill=\"#383838\" points=\"272.26,317.25,281.286,313.309,275.6347,313.5607,275.3831,307.9094,272.26,317.25\" style=\"stroke: #383838; stroke-width: 1.0;\"/><text fill=\"#000000\" font-family=\"sans-serif\" font-size=\"13\" lengthAdjust=\"spacingAndGlyphs\" textLength=\"7\" x=\"280.363\" y=\"301.1971\">*</text></a><!--MD5=[017847e01ff9a8bd19f247411074f987]\n",
       "link E13 to E4--><a href=\"psysml:4cbb3016-c6d5-4312-a1ec-0a333083e319\" target=\"_top\" title=\"psysml:4cbb3016-c6d5-4312-a1ec-0a333083e319\" xlink:actuate=\"onRequest\" xlink:href=\"psysml:4cbb3016-c6d5-4312-a1ec-0a333083e319\" xlink:show=\"new\" xlink:title=\"psysml:4cbb3016-c6d5-4312-a1ec-0a333083e319\" xlink:type=\"simple\"><path d=\"M422.84,685.12 C457.11,706.41 504.94,736.13 539.21,757.41 \" fill=\"none\" id=\"E13-&gt;E4\" style=\"stroke: #383838; stroke-width: 1.0; stroke-dasharray: 7.0,7.0;\"/><polygon fill=\"#383838\" points=\"546.3,761.82,541.0804,755.0557,537.9197,760.1557,546.3,761.82\" style=\"stroke: #383838; stroke-width: 1.0;\"/><text fill=\"#000000\" font-family=\"sans-serif\" font-size=\"13\" lengthAdjust=\"spacingAndGlyphs\" textLength=\"64\" x=\"494\" y=\"728.0669\">«send to»</text><text fill=\"#000000\" font-family=\"sans-serif\" font-size=\"13\" lengthAdjust=\"spacingAndGlyphs\" textLength=\"7\" x=\"529.255\" y=\"751.0502\">*</text></a><!--MD5=[b3f1588c18d47575520a2cb7a883fc6c]\n",
       "@startuml\r\n",
       "skinparam monochrome true\r\n",
       "skinparam classbackgroundcolor white\r\n",
       "skinparam shadowing false\r\n",
       "skinparam wrapWidth 300\r\n",
       "hide circle\r\n",
       "\r\n",
       "package \"Decision Example\" as E1  [[psysml:4b6c9aa3-8665-4a96-80d1-dbadbe1d0259 ]]  {\r\n",
       "comp def \"BatteryCharged\" as E2  <<(T,blue) attribute  def>> [[psysml:9d48af62-3eb7-4d59-a547-89d3814bd293 ]] {\r\n",
       "}\r\n",
       "comp usage \"battery\" as E3  <<(T,blue) part>> [[psysml:be2fd9ee-0d85-4acb-a465-f1d55500cecc ]] {\r\n",
       "}\r\n",
       "comp usage \"powerSystem\" as E4  <<(T,blue) part>> [[psysml:9f2815df-e53c-4fb5-8b41-b003c30b2e45 ]] {\r\n",
       "}\r\n",
       "rec def \"AddCharge\" as E5  <<(T,blue) action  def>> [[psysml:1ea20527-a1f7-41d1-b7bd-7f9085046664 ]] {\r\n",
       "portin \"charge\" as E6  [[psysml:ef342f3c-9785-4bfc-b347-e95e34527756 ]] \r\n",
       "}\r\n",
       "\r\n",
       "rec def \"ChargeBattery\" as E7  <<(T,blue) action  def>> [[psysml:29408a6f-0caf-4fa5-98ab-d00c37169aa6 ]] {\r\n",
       "choice \"continueCharging\" as E8  [[psysml:d9c25f4d-4e57-4d6d-9161-a4e661da027e ]] \r\n",
       "accept \" batteryCharge : Real\" as E9 << accept action>> [[psysml:cf0eb454-e852-4f85-b478-25f900d38b2e ]] \r\n",
       "choice \"<s>noname</s>\" as E10  [[psysml:cc463fdf-6249-4001-b577-3cb97fdbcbcb ]] \r\n",
       "rec usage \"addCharge\" as E11  <<(T,blue) action>> [[psysml:4ffda3b3-0936-44df-a6c4-1c3612be978e ]] {\r\n",
       "portin \"batteryCharge\" as E12  [[psysml:9e516beb-6759-46de-b104-0120779d782b ]] \r\n",
       "}\r\n",
       "\r\n",
       "send \" BatteryCharged()\" as E13 << send action>> [[psysml:4cbb3016-c6d5-4312-a1ec-0a333083e319 ]] \r\n",
       "[*] - -> E8 [[psysml:ba49776a-02e5-4dd9-ada8-1c00757f8040 ]] \r\n",
       "E13 - -> [*] [[psysml:22c51dd4-8783-4d5e-b247-5c9cf96a3a25 ]] \r\n",
       "}\r\n",
       "\r\n",
       "}\r\n",
       "E8 - -> \"*\"E9 [[psysml:38ab2cc0-68df-4a98-b481-43a6ad962d37 ]] \r\n",
       "E9 - -> \"*\"E10 [[psysml:4ffc870e-5280-4e8a-8137-45302c842ff8 ]] \r\n",
       "E10  - -> \"*\"E11 [[psysml:cc10669f-8653-46fe-9b81-f75a4c9ade9b ]] : [monitor::batteryCharge < 100]\r\n",
       "E10  - -> \"*\"E13 [[psysml:2e6bf506-28a3-4e89-ae3a-b5dc38e2841d ]] : [monitor::batteryCharge >= 100]\r\n",
       "E11 - -> \"*\"E8 [[psysml:bab2d29b-99eb-4db8-b3b2-fc4abedb5f0f ]] \r\n",
       "E13 ..>> \"*\"E4 [[psysml:4cbb3016-c6d5-4312-a1ec-0a333083e319 ]] : <<send to>>\r\n",
       "@enduml\r\n",
       "\n",
       "PlantUML version 1.2020.13(Sat Jun 13 12:26:38 UTC 2020)\n",
       "(EPL source distribution)\n",
       "Java Runtime: OpenJDK Runtime Environment\n",
       "JVM: OpenJDK 64-Bit Server VM\n",
       "Default Encoding: UTF-8\n",
       "Language: en\n",
       "Country: null\n",
       "--></g></svg>"
      ]
     },
     "execution_count": 2,
     "metadata": {},
     "output_type": "execute_result"
    }
   ],
   "source": [
    "%viz \"Decision Example\""
   ]
  },
  {
   "cell_type": "code",
   "execution_count": null,
   "id": "attractive-grain",
   "metadata": {},
   "outputs": [],
   "source": []
  }
 ],
 "metadata": {
  "kernelspec": {
   "display_name": "SysML",
   "language": "sysml",
   "name": "sysml"
  },
  "language_info": {
   "codemirror_mode": "sysml",
   "file_extension": ".sysml",
   "mimetype": "text/x-sysml",
   "name": "SysML",
   "pygments_lexer": "java",
   "version": "1.0.0"
  }
 },
 "nbformat": 4,
 "nbformat_minor": 5
}
