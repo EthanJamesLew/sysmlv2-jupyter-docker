{
 "cells": [
  {
   "cell_type": "markdown",
   "id": "split-wealth",
   "metadata": {},
   "source": [
    "## Decision Example\n",
    "\n",
    "Taken from the [training](/lab/tree/sysml/src/training/19.%20Control/Decision%20Example.sysml) directory."
   ]
  },
  {
   "cell_type": "code",
   "execution_count": 1,
   "id": "secondary-canada",
   "metadata": {
    "execution": {
     "iopub.execute_input": "2021-04-20T07:20:41.377176Z",
     "iopub.status.busy": "2021-04-20T07:20:41.376306Z",
     "iopub.status.idle": "2021-04-20T07:20:41.950147Z",
     "shell.execute_reply": "2021-04-20T07:20:41.949630Z"
    }
   },
   "outputs": [
    {
     "data": {
      "text/plain": [
       "Package Decision Example (c5d60b50-f429-4fcf-ab0b-2f418497bb21)\n"
      ]
     },
     "execution_count": 1,
     "metadata": {},
     "output_type": "execute_result"
    }
   ],
   "source": [
    "package 'Decision Example' {\n",
    "\timport ScalarValues::*;\n",
    "\t\n",
    "\tattribute def BatteryCharged;\n",
    "\t\n",
    "\tpart battery;\n",
    "\tpart powerSystem;\n",
    "\t\n",
    "\taction def AddCharge (in charge : Real);\n",
    "\t\n",
    "\taction def ChargeBattery {\n",
    "\t\tfirst start;\n",
    "\n",
    "\t\tthen merge continueCharging;\n",
    "\t\t\n",
    "\t\tthen action monitor accept batteryCharge : Real;\n",
    "\t\t\n",
    "\t\tthen decide;\n",
    "\t\t\tif monitor::batteryCharge < 100 then addCharge;\n",
    "\t\t\tif monitor::batteryCharge >= 100 then signalCharged;\n",
    "\t\t\t\n",
    "\t\taction addCharge : AddCharge (batteryCharge);\n",
    "\t\tthen continueCharging;\n",
    "\t\t\n",
    "\t\taction signalCharged send BatteryCharged() to powerSystem;\n",
    "\t\tthen done;\n",
    "\t}\n",
    "}"
   ]
  },
  {
   "cell_type": "code",
   "execution_count": 2,
   "id": "tamil-disease",
   "metadata": {
    "execution": {
     "iopub.execute_input": "2021-04-20T07:20:42.001742Z",
     "iopub.status.busy": "2021-04-20T07:20:42.001317Z",
     "iopub.status.idle": "2021-04-20T07:20:42.768857Z",
     "shell.execute_reply": "2021-04-20T07:20:42.766945Z"
    }
   },
   "outputs": [
    {
     "data": {
      "image/svg+xml": [
       "<?xml version=\"1.0\" encoding=\"UTF-8\" standalone=\"no\"?><svg xmlns=\"http://www.w3.org/2000/svg\" xmlns:xlink=\"http://www.w3.org/1999/xlink\" contentScriptType=\"application/ecmascript\" contentStyleType=\"text/css\" height=\"847px\" preserveAspectRatio=\"none\" style=\"width:712px;height:847px;\" version=\"1.1\" viewBox=\"0 0 712 847\" width=\"712px\" zoomAndPan=\"magnify\"><defs/><g><!--MD5=[fbc87193dbaf4d95561dea2c320d4a47]\n",
       "cluster E1--><a href=\"psysml:af0c4d21-c35e-44c9-9e58-ad180a3a3f70\" target=\"_top\" title=\"psysml:af0c4d21-c35e-44c9-9e58-ad180a3a3f70\" xlink:actuate=\"onRequest\" xlink:href=\"psysml:af0c4d21-c35e-44c9-9e58-ad180a3a3f70\" xlink:show=\"new\" xlink:title=\"psysml:af0c4d21-c35e-44c9-9e58-ad180a3a3f70\" xlink:type=\"simple\"><polygon fill=\"#FFFFFF\" points=\"16,6,159,6,166,28.2969,690,28.2969,690,835,16,835,16,6\" style=\"stroke: #000000; stroke-width: 1.5;\"/><line style=\"stroke: #000000; stroke-width: 1.5;\" x1=\"16\" x2=\"166\" y1=\"28.2969\" y2=\"28.2969\"/><text fill=\"#000000\" font-family=\"sans-serif\" font-size=\"14\" font-weight=\"bold\" lengthAdjust=\"spacingAndGlyphs\" textLength=\"137\" x=\"20\" y=\"20.9951\">Decision Example</text></a><!--MD5=[de5ec2e2e8f62f467e546659f5068c88]\n",
       "cluster E5--><a href=\"psysml:1e4f82cf-1fd1-4345-a0a2-8a4eb11d36e8\" target=\"_top\" title=\"psysml:1e4f82cf-1fd1-4345-a0a2-8a4eb11d36e8\" xlink:actuate=\"onRequest\" xlink:href=\"psysml:1e4f82cf-1fd1-4345-a0a2-8a4eb11d36e8\" xlink:show=\"new\" xlink:title=\"psysml:1e4f82cf-1fd1-4345-a0a2-8a4eb11d36e8\" xlink:type=\"simple\"><rect fill=\"#FFFFFF\" height=\"135\" id=\"E5\" style=\"stroke: #383838; stroke-width: 1.5;\" width=\"136\" x=\"538\" y=\"122\"/><rect fill=\"#F8F8F8\" height=\"37.9375\" style=\"stroke: #383838; stroke-width: 1.5;\" width=\"136\" x=\"538\" y=\"122\"/><text fill=\"#000000\" font-family=\"sans-serif\" font-size=\"12\" font-style=\"italic\" lengthAdjust=\"spacingAndGlyphs\" textLength=\"77\" x=\"567.5\" y=\"138.1387\">«action def»</text><text fill=\"#000000\" font-family=\"sans-serif\" font-size=\"12\" lengthAdjust=\"spacingAndGlyphs\" textLength=\"69\" x=\"571.5\" y=\"152.1074\">AddCharge</text></a><!--MD5=[168fadf3d0c3fd93dd5d6da1b1d7ab76]\n",
       "cluster E7--><a href=\"psysml:e390bfb2-23f3-4b19-a569-8f1a278b1e66\" target=\"_top\" title=\"psysml:e390bfb2-23f3-4b19-a569-8f1a278b1e66\" xlink:actuate=\"onRequest\" xlink:href=\"psysml:e390bfb2-23f3-4b19-a569-8f1a278b1e66\" xlink:show=\"new\" xlink:title=\"psysml:e390bfb2-23f3-4b19-a569-8f1a278b1e66\" xlink:type=\"simple\"><rect fill=\"#FFFFFF\" height=\"762\" id=\"E7\" style=\"stroke: #383838; stroke-width: 1.5;\" width=\"283\" x=\"239\" y=\"49\"/><rect fill=\"#F8F8F8\" height=\"37.9375\" style=\"stroke: #383838; stroke-width: 1.5;\" width=\"283\" x=\"239\" y=\"49\"/><text fill=\"#000000\" font-family=\"sans-serif\" font-size=\"12\" font-style=\"italic\" lengthAdjust=\"spacingAndGlyphs\" textLength=\"77\" x=\"342\" y=\"65.1387\">«action def»</text><text fill=\"#000000\" font-family=\"sans-serif\" font-size=\"12\" lengthAdjust=\"spacingAndGlyphs\" textLength=\"90\" x=\"335.5\" y=\"79.1074\">ChargeBattery</text></a><!--MD5=[917b9dd0c7eca3ee5f47219d1a84c0ad]\n",
       "cluster E11--><a href=\"psysml:6c9e7a01-26a3-4249-a0a1-fe26678df880\" target=\"_top\" title=\"psysml:6c9e7a01-26a3-4249-a0a1-fe26678df880\" xlink:actuate=\"onRequest\" xlink:href=\"psysml:6c9e7a01-26a3-4249-a0a1-fe26678df880\" xlink:show=\"new\" xlink:title=\"psysml:6c9e7a01-26a3-4249-a0a1-fe26678df880\" xlink:type=\"simple\"><rect fill=\"#FFFFFF\" height=\"143\" id=\"E11\" rx=\"10\" ry=\"10\" style=\"stroke: #383838; stroke-width: 1.5;\" width=\"150\" x=\"291\" y=\"122\"/><rect fill=\"#F8F8F8\" height=\"37.9375\" rx=\"10\" ry=\"10\" style=\"stroke: #F8F8F8; stroke-width: 1.5;\" width=\"150\" x=\"291\" y=\"122\"/><rect fill=\"#F8F8F8\" height=\"10\" style=\"stroke: #F8F8F8; stroke-width: 1.5;\" width=\"150\" x=\"291\" y=\"149.9375\"/><rect fill=\"none\" height=\"143\" id=\"E11\" rx=\"10\" ry=\"10\" style=\"stroke: #383838; stroke-width: 1.5;\" width=\"150\" x=\"291\" y=\"122\"/><text fill=\"#000000\" font-family=\"sans-serif\" font-size=\"12\" font-style=\"italic\" lengthAdjust=\"spacingAndGlyphs\" textLength=\"53\" x=\"339.5\" y=\"138.1387\">«action»</text><text fill=\"#000000\" font-family=\"sans-serif\" font-size=\"12\" lengthAdjust=\"spacingAndGlyphs\" textLength=\"69\" x=\"331.5\" y=\"152.1074\">addCharge</text><line style=\"stroke: #383838; stroke-width: 1.0;\" x1=\"291\" x2=\"441\" y1=\"159.9375\" y2=\"159.9375\"/></a><!--MD5=[b4997ac47864f28c2f74865a473b2911]\n",
       "class E2--><a href=\"psysml:da382c5f-3fff-4957-bdc2-8ffbdc64ddf9\" target=\"_top\" title=\"psysml:da382c5f-3fff-4957-bdc2-8ffbdc64ddf9\" xlink:actuate=\"onRequest\" xlink:href=\"psysml:da382c5f-3fff-4957-bdc2-8ffbdc64ddf9\" xlink:show=\"new\" xlink:title=\"psysml:da382c5f-3fff-4957-bdc2-8ffbdc64ddf9\" xlink:type=\"simple\"><rect fill=\"#FFFFFF\" height=\"45.9375\" id=\"E2\" style=\"stroke: #383838; stroke-width: 1.5;\" width=\"104\" x=\"119\" y=\"99\"/><text fill=\"#000000\" font-family=\"sans-serif\" font-size=\"12\" font-style=\"italic\" lengthAdjust=\"spacingAndGlyphs\" textLength=\"93\" x=\"124.5\" y=\"115.1387\">«attribute def»</text><text fill=\"#000000\" font-family=\"sans-serif\" font-size=\"12\" lengthAdjust=\"spacingAndGlyphs\" textLength=\"98\" x=\"122\" y=\"129.1074\">BatteryCharged</text><line style=\"stroke: #383838; stroke-width: 1.5;\" x1=\"120\" x2=\"222\" y1=\"136.9375\" y2=\"136.9375\"/></a><!--MD5=[09b614a08d8cba4a07c9adeb5e0fee81]\n",
       "class E3--><a href=\"psysml:59de89c7-a37e-4211-a750-00c9261edab9\" target=\"_top\" title=\"psysml:59de89c7-a37e-4211-a750-00c9261edab9\" xlink:actuate=\"onRequest\" xlink:href=\"psysml:59de89c7-a37e-4211-a750-00c9261edab9\" xlink:show=\"new\" xlink:title=\"psysml:59de89c7-a37e-4211-a750-00c9261edab9\" xlink:type=\"simple\"><rect fill=\"#FFFFFF\" height=\"45.9375\" id=\"E3\" rx=\"10\" ry=\"10\" style=\"stroke: #383838; stroke-width: 1.5;\" width=\"51\" x=\"32.5\" y=\"99\"/><text fill=\"#000000\" font-family=\"sans-serif\" font-size=\"12\" font-style=\"italic\" lengthAdjust=\"spacingAndGlyphs\" textLength=\"40\" x=\"38\" y=\"115.1387\">«part»</text><text fill=\"#000000\" font-family=\"sans-serif\" font-size=\"12\" lengthAdjust=\"spacingAndGlyphs\" textLength=\"45\" x=\"35.5\" y=\"129.1074\">battery</text><line style=\"stroke: #383838; stroke-width: 1.5;\" x1=\"33.5\" x2=\"82.5\" y1=\"136.9375\" y2=\"136.9375\"/></a><!--MD5=[ebbe1d658d1005bcc118a6aa81145e00]\n",
       "class E4--><a href=\"psysml:9738f281-e214-4d64-bec7-cb87e414cc05\" target=\"_top\" title=\"psysml:9738f281-e214-4d64-bec7-cb87e414cc05\" xlink:actuate=\"onRequest\" xlink:href=\"psysml:9738f281-e214-4d64-bec7-cb87e414cc05\" xlink:show=\"new\" xlink:title=\"psysml:9738f281-e214-4d64-bec7-cb87e414cc05\" xlink:type=\"simple\"><rect fill=\"#FFFFFF\" height=\"45.9375\" id=\"E4\" rx=\"10\" ry=\"10\" style=\"stroke: #383838; stroke-width: 1.5;\" width=\"89\" x=\"537.5\" y=\"762\"/><text fill=\"#000000\" font-family=\"sans-serif\" font-size=\"12\" font-style=\"italic\" lengthAdjust=\"spacingAndGlyphs\" textLength=\"40\" x=\"562\" y=\"778.1387\">«part»</text><text fill=\"#000000\" font-family=\"sans-serif\" font-size=\"12\" lengthAdjust=\"spacingAndGlyphs\" textLength=\"83\" x=\"540.5\" y=\"792.1074\">powerSystem</text><line style=\"stroke: #383838; stroke-width: 1.5;\" x1=\"538.5\" x2=\"625.5\" y1=\"799.9375\" y2=\"799.9375\"/></a><text fill=\"#000000\" font-family=\"sans-serif\" font-size=\"14\" lengthAdjust=\"spacingAndGlyphs\" textLength=\"48\" x=\"582\" y=\"100.6982\">charge</text><rect fill=\"#383838\" height=\"12\" style=\"stroke: #F8F8F8; stroke-width: 1.5;\" width=\"12\" x=\"600\" y=\"116\"/><polygon fill=\"#F8F8F8\" points=\"267,312,279,324,267,336,255,324,267,312\" style=\"stroke: #383838; stroke-width: 1.5;\"/><!--MD5=[1acd208aae0a17fcb597ebec3d0ce2e2]\n",
       "entity E9--><a href=\"psysml:00cdd10e-8151-40eb-b545-51d94401a019\" target=\"_top\" title=\"psysml:00cdd10e-8151-40eb-b545-51d94401a019\" xlink:actuate=\"onRequest\" xlink:href=\"psysml:00cdd10e-8151-40eb-b545-51d94401a019\" xlink:show=\"new\" xlink:title=\"psysml:00cdd10e-8151-40eb-b545-51d94401a019\" xlink:type=\"simple\"><polygon fill=\"#F8F8F8\" points=\"255,413,255,467.5938,437,467.5938,417,440.2969,437,413\" style=\"stroke: #000000; stroke-width: 1.5;\"/><text fill=\"#000000\" font-family=\"sans-serif\" font-size=\"14\" font-style=\"italic\" lengthAdjust=\"spacingAndGlyphs\" textLength=\"111\" x=\"283\" y=\"435.9951\">«accept action»</text><text fill=\"#000000\" font-family=\"sans-serif\" font-size=\"14\" lengthAdjust=\"spacingAndGlyphs\" textLength=\"141\" x=\"268\" y=\"453.292\">batteryCharge : Real</text></a><polygon fill=\"#F8F8F8\" points=\"346,529,358,541,346,553,334,541,346,529\" style=\"stroke: #383838; stroke-width: 1.5;\"/><!--MD5=[3822a2a4541e754d1dc15080999c19ba]\n",
       "entity E13--><a href=\"psysml:de98208d-c67c-455e-b59f-698d22423c24\" target=\"_top\" title=\"psysml:de98208d-c67c-455e-b59f-698d22423c24\" xlink:actuate=\"onRequest\" xlink:href=\"psysml:de98208d-c67c-455e-b59f-698d22423c24\" xlink:show=\"new\" xlink:title=\"psysml:de98208d-c67c-455e-b59f-698d22423c24\" xlink:type=\"simple\"><polygon fill=\"#F8F8F8\" points=\"300.5,630,300.5,684.5938,439.5,684.5938,459.5,657.2969,439.5,630\" style=\"stroke: #000000; stroke-width: 1.5;\"/><text fill=\"#000000\" font-family=\"sans-serif\" font-size=\"14\" font-style=\"italic\" lengthAdjust=\"spacingAndGlyphs\" textLength=\"99\" x=\"323\" y=\"652.9951\">«send action»</text><text fill=\"#000000\" font-family=\"sans-serif\" font-size=\"14\" lengthAdjust=\"spacingAndGlyphs\" textLength=\"118\" x=\"313.5\" y=\"670.292\">BatteryCharged()</text></a><ellipse cx=\"265\" cy=\"223.5\" fill=\"#000000\" rx=\"10\" ry=\"10\" style=\"stroke: none; stroke-width: 1.0;\"/><ellipse cx=\"380\" cy=\"785\" fill=\"none\" rx=\"10\" ry=\"10\" style=\"stroke: #000000; stroke-width: 1.0;\"/><ellipse cx=\"380.5\" cy=\"785.5\" fill=\"#000000\" rx=\"6\" ry=\"6\" style=\"stroke: none; stroke-width: 1.0;\"/><text fill=\"#000000\" font-family=\"sans-serif\" font-size=\"14\" lengthAdjust=\"spacingAndGlyphs\" textLength=\"98\" x=\"317\" y=\"100.6982\">batteryCharge</text><rect fill=\"#383838\" height=\"12\" style=\"stroke: #F8F8F8; stroke-width: 1.5;\" width=\"12\" x=\"360\" y=\"116\"/><!--MD5=[55ebfa55a3826719a7ecf4e8d8b814eb]\n",
       "link *start*E7 to E8--><a href=\"psysml:6a38b304-a9a9-46f4-96a5-d962ba2a6cd7\" target=\"_top\" title=\"psysml:6a38b304-a9a9-46f4-96a5-d962ba2a6cd7\" xlink:actuate=\"onRequest\" xlink:href=\"psysml:6a38b304-a9a9-46f4-96a5-d962ba2a6cd7\" xlink:show=\"new\" xlink:title=\"psysml:6a38b304-a9a9-46f4-96a5-d962ba2a6cd7\" xlink:type=\"simple\"><path d=\"M265.18,233.59 C265.52,250.29 266.25,286.06 266.67,306.94 \" fill=\"none\" id=\"*start*E7-&gt;E8\" style=\"stroke: #383838; stroke-width: 1.0;\"/><polygon fill=\"#383838\" points=\"266.78,312.15,270.5992,303.0718,266.68,307.151,262.6008,303.2318,266.78,312.15\" style=\"stroke: #383838; stroke-width: 1.0;\"/></a><!--MD5=[15372006ba9e3e6d6e5422c2255cdbb7]\n",
       "link E13 to *end*E7--><a href=\"psysml:4f174ff7-4589-403e-906a-4631246e981a\" target=\"_top\" title=\"psysml:4f174ff7-4589-403e-906a-4631246e981a\" xlink:actuate=\"onRequest\" xlink:href=\"psysml:4f174ff7-4589-403e-906a-4631246e981a\" xlink:show=\"new\" xlink:title=\"psysml:4f174ff7-4589-403e-906a-4631246e981a\" xlink:type=\"simple\"><path d=\"M380,685.12 C380,711.01 380,749.35 380,769.85 \" fill=\"none\" id=\"E13-&gt;*end*E7\" style=\"stroke: #383838; stroke-width: 1.0;\"/><polygon fill=\"#383838\" points=\"380,774.9,384,765.9,380,769.9,376,765.9,380,774.9\" style=\"stroke: #383838; stroke-width: 1.0;\"/></a><!--MD5=[ed10624c06dd9a4fa49ccf290e8b16a8]\n",
       "link E8 to E9--><a href=\"psysml:fb0903d4-2c0a-452f-83d9-03a83d90b0b6\" target=\"_top\" title=\"psysml:fb0903d4-2c0a-452f-83d9-03a83d90b0b6\" xlink:actuate=\"onRequest\" xlink:href=\"psysml:fb0903d4-2c0a-452f-83d9-03a83d90b0b6\" xlink:show=\"new\" xlink:title=\"psysml:fb0903d4-2c0a-452f-83d9-03a83d90b0b6\" xlink:type=\"simple\"><path d=\"M264.25,333.44 C260.91,345.27 256.7,367.1 265,383 C270.41,393.37 278.7,402.23 287.94,409.65 \" fill=\"none\" id=\"E8-&gt;E9\" style=\"stroke: #383838; stroke-width: 1.0;\"/><polygon fill=\"#383838\" points=\"291.95,412.74,287.2537,404.0829,287.9863,409.6921,282.3771,410.4248,291.95,412.74\" style=\"stroke: #383838; stroke-width: 1.0;\"/></a><!--MD5=[35e5f1cbde42fa304a029880aa2bc7f2]\n",
       "link E9 to E10--><a href=\"psysml:5dc7fb73-0786-4364-9cc2-01fc2cf337b2\" target=\"_top\" title=\"psysml:5dc7fb73-0786-4364-9cc2-01fc2cf337b2\" xlink:actuate=\"onRequest\" xlink:href=\"psysml:5dc7fb73-0786-4364-9cc2-01fc2cf337b2\" xlink:show=\"new\" xlink:title=\"psysml:5dc7fb73-0786-4364-9cc2-01fc2cf337b2\" xlink:type=\"simple\"><path d=\"M346,468.16 C346,485.92 346,508.68 346,523.77 \" fill=\"none\" id=\"E9-&gt;E10\" style=\"stroke: #383838; stroke-width: 1.0;\"/><polygon fill=\"#383838\" points=\"346,528.96,350,519.96,346,523.96,342,519.96,346,528.96\" style=\"stroke: #383838; stroke-width: 1.0;\"/></a><!--MD5=[7e01d6273c142173bd6ca4b66f8f251a]\n",
       "link E10 to E11--><a href=\"psysml:b639c1cc-f093-42ba-bb63-a7d838463716\" target=\"_top\" title=\"psysml:b639c1cc-f093-42ba-bb63-a7d838463716\" xlink:actuate=\"onRequest\" xlink:href=\"psysml:b639c1cc-f093-42ba-bb63-a7d838463716\" xlink:show=\"new\" xlink:title=\"psysml:b639c1cc-f093-42ba-bb63-a7d838463716\" xlink:type=\"simple\"><path d=\"M354.63,537.44 C376.33,530.48 432.98,508.94 455,468 C476.64,427.765 467.13,381.1575 447.7688,339.555 C438.0881,318.7537 425.9447,299.2038 414.0008,282.3272 C411.0148,278.108 408.0413,274.056 405.1219,270.1933 C404.392,269.2276 403.6655,268.2737 402.9431,267.332 C402.5818,266.8612 402.2216,266.3934 401.8625,265.9287 C401.6829,265.6964 401.5036,265.4648 401.3246,265.234 \" fill=\"none\" id=\"E10-&gt;E11\" style=\"stroke: #383838; stroke-width: 1.0;\"/><polygon fill=\"#383838\" points=\"401.3246,265.234,403.6797,274.7971,404.389,269.1849,410.0012,269.8942,401.3246,265.234\" style=\"stroke: #383838; stroke-width: 1.0;\"/><text fill=\"#000000\" font-family=\"sans-serif\" font-size=\"13\" lengthAdjust=\"spacingAndGlyphs\" textLength=\"203\" x=\"463\" y=\"379.0669\">[monitor::batteryCharge &lt; 100]</text></a><!--MD5=[74b78f105e346754c1f4f010190a9055]\n",
       "link E10 to E13--><a href=\"psysml:35b544f4-0c7d-4063-8d64-ab1dc7f7f372\" target=\"_top\" title=\"psysml:35b544f4-0c7d-4063-8d64-ab1dc7f7f372\" xlink:actuate=\"onRequest\" xlink:href=\"psysml:35b544f4-0c7d-4063-8d64-ab1dc7f7f372\" xlink:show=\"new\" xlink:title=\"psysml:35b544f4-0c7d-4063-8d64-ab1dc7f7f372\" xlink:type=\"simple\"><path d=\"M348.56,550.61 C353.16,566.11 363.06,599.46 370.53,624.62 \" fill=\"none\" id=\"E10-&gt;E13\" style=\"stroke: #383838; stroke-width: 1.0;\"/><polygon fill=\"#383838\" points=\"371.99,629.53,373.2565,619.7629,370.5637,624.7377,365.5889,622.0449,371.99,629.53\" style=\"stroke: #383838; stroke-width: 1.0;\"/><text fill=\"#000000\" font-family=\"sans-serif\" font-size=\"13\" lengthAdjust=\"spacingAndGlyphs\" textLength=\"214\" x=\"364\" y=\"596.0669\">[monitor::batteryCharge &gt;= 100]</text></a><!--MD5=[3aca6b7b240bdf4fa74e86e8d4be9f1e]\n",
       "link E11 to E8--><a href=\"psysml:bd3d2212-de47-4515-bf1f-137554898ebf\" target=\"_top\" title=\"psysml:bd3d2212-de47-4515-bf1f-137554898ebf\" xlink:actuate=\"onRequest\" xlink:href=\"psysml:bd3d2212-de47-4515-bf1f-137554898ebf\" xlink:show=\"new\" xlink:title=\"psysml:bd3d2212-de47-4515-bf1f-137554898ebf\" xlink:type=\"simple\"><path d=\"M322.2576,265.04 C322.2006,265.0947 322.1436,265.1495 322.0866,265.2043 C320.263,266.9575 318.439,268.7216 316.627,270.4863 C313.0031,274.0156 309.4275,277.5475 306,281 C295.27,291.8 283.44,304.69 275.65,313.32 \" fill=\"none\" id=\"E11-&gt;E8\" style=\"stroke: #383838; stroke-width: 1.0;\"/><polygon fill=\"#383838\" points=\"272.18,317.18,281.1739,313.1662,275.5248,313.4635,275.2275,307.8145,272.18,317.18\" style=\"stroke: #383838; stroke-width: 1.0;\"/></a><!--MD5=[017847e01ff9a8bd19f247411074f987]\n",
       "link E13 to E4--><a href=\"psysml:de98208d-c67c-455e-b59f-698d22423c24\" target=\"_top\" title=\"psysml:de98208d-c67c-455e-b59f-698d22423c24\" xlink:actuate=\"onRequest\" xlink:href=\"psysml:de98208d-c67c-455e-b59f-698d22423c24\" xlink:show=\"new\" xlink:title=\"psysml:de98208d-c67c-455e-b59f-698d22423c24\" xlink:type=\"simple\"><path d=\"M422.84,685.12 C457.11,706.41 504.94,736.13 539.21,757.41 \" fill=\"none\" id=\"E13-&gt;E4\" style=\"stroke: #383838; stroke-width: 1.0; stroke-dasharray: 7.0,7.0;\"/><polygon fill=\"#383838\" points=\"546.3,761.82,541.0804,755.0557,537.9197,760.1557,546.3,761.82\" style=\"stroke: #383838; stroke-width: 1.0;\"/><text fill=\"#000000\" font-family=\"sans-serif\" font-size=\"13\" lengthAdjust=\"spacingAndGlyphs\" textLength=\"64\" x=\"494\" y=\"728.0669\">«send to»</text></a><!--MD5=[4da381070c3d63c5e03d8fb986387734]\n",
       "@startuml\r\n",
       "skinparam monochrome true\r\n",
       "skinparam classbackgroundcolor white\r\n",
       "skinparam shadowing false\r\n",
       "skinparam wrapWidth 300\r\n",
       "hide circle\r\n",
       "\r\n",
       "package \"Decision Example\" as E1  [[psysml:af0c4d21-c35e-44c9-9e58-ad180a3a3f70 ]]  {\r\n",
       "comp def \"BatteryCharged\" as E2  <<(T,blue)attribute def>> [[psysml:da382c5f-3fff-4957-bdc2-8ffbdc64ddf9 ]] {\r\n",
       "}\r\n",
       "comp usage \"battery\" as E3  <<(T,blue)part>> [[psysml:59de89c7-a37e-4211-a750-00c9261edab9 ]] {\r\n",
       "}\r\n",
       "comp usage \"powerSystem\" as E4  <<(T,blue)part>> [[psysml:9738f281-e214-4d64-bec7-cb87e414cc05 ]] {\r\n",
       "}\r\n",
       "rec def \"AddCharge\" as E5  <<(T,blue)action def>> [[psysml:1e4f82cf-1fd1-4345-a0a2-8a4eb11d36e8 ]] {\r\n",
       "portin \"charge\" as E6  [[psysml:09339f2b-cd44-4b30-9ea4-909f9e5c4eb2 ]] \r\n",
       "}\r\n",
       "\r\n",
       "rec def \"ChargeBattery\" as E7  <<(T,blue)action def>> [[psysml:e390bfb2-23f3-4b19-a569-8f1a278b1e66 ]] {\r\n",
       "choice \"continueCharging\" as E8  [[psysml:1d88b72a-36b6-43b3-b4c9-f1728575dd3a ]] \r\n",
       "accept \" batteryCharge : Real\" as E9 <<accept action>> [[psysml:00cdd10e-8151-40eb-b545-51d94401a019 ]] \r\n",
       "choice \"noname\" as E10  [[psysml:2175f42c-1ab6-4e60-bb64-43de29da4e17 ]] \r\n",
       "rec usage \"addCharge\" as E11  <<(T,blue)action>> [[psysml:6c9e7a01-26a3-4249-a0a1-fe26678df880 ]] {\r\n",
       "portin \"batteryCharge\" as E12  [[psysml:86735023-8695-474f-be62-21dd0c3dc89c ]] \r\n",
       "}\r\n",
       "\r\n",
       "send \" BatteryCharged()\" as E13 <<send action>> [[psysml:de98208d-c67c-455e-b59f-698d22423c24 ]] \r\n",
       "[*] - -> E8 [[psysml:6a38b304-a9a9-46f4-96a5-d962ba2a6cd7 ]] \r\n",
       "E13 - -> [*] [[psysml:4f174ff7-4589-403e-906a-4631246e981a ]] \r\n",
       "}\r\n",
       "\r\n",
       "E8 - -> E9 [[psysml:fb0903d4-2c0a-452f-83d9-03a83d90b0b6 ]] \r\n",
       "E9 - -> E10 [[psysml:5dc7fb73-0786-4364-9cc2-01fc2cf337b2 ]] \r\n",
       "E10  - -> E11 [[psysml:b639c1cc-f093-42ba-bb63-a7d838463716 ]] : [monitor::batteryCharge < 100]\r\n",
       "E10  - -> E13 [[psysml:35b544f4-0c7d-4063-8d64-ab1dc7f7f372 ]] : [monitor::batteryCharge >= 100]\r\n",
       "E11 - -> E8 [[psysml:bd3d2212-de47-4515-bf1f-137554898ebf ]] \r\n",
       "E13 ..>> E4 [[psysml:de98208d-c67c-455e-b59f-698d22423c24 ]] : <<send to>>\r\n",
       "}\r\n",
       "@enduml\r\n",
       "\n",
       "PlantUML version 1.2020.13(Sat Jun 13 12:26:38 UTC 2020)\n",
       "(EPL source distribution)\n",
       "Java Runtime: OpenJDK Runtime Environment\n",
       "JVM: OpenJDK 64-Bit Server VM\n",
       "Default Encoding: UTF-8\n",
       "Language: en\n",
       "Country: null\n",
       "--></g></svg>"
      ]
     },
     "execution_count": 2,
     "metadata": {},
     "output_type": "execute_result"
    }
   ],
   "source": [
    "%viz \"Decision Example\""
   ]
  },
  {
   "cell_type": "code",
   "execution_count": null,
   "id": "attractive-grain",
   "metadata": {},
   "outputs": [],
   "source": []
  }
 ],
 "metadata": {
  "kernelspec": {
   "display_name": "SysML",
   "language": "sysml",
   "name": "sysml"
  },
  "language_info": {
   "codemirror_mode": "sysml",
   "file_extension": ".sysml",
   "mimetype": "text/x-sysml",
   "name": "SysML",
   "pygments_lexer": "java",
   "version": "1.0.0"
  }
 },
 "nbformat": 4,
 "nbformat_minor": 5
}
