{
 "cells": [
  {
   "cell_type": "markdown",
   "id": "split-wealth",
   "metadata": {},
   "source": [
    "## Decision Example\n",
    "\n",
    "Taken from the [training](/lab/tree/sysml/src/training/19.%20Control/Decision%20Example.sysml) directory."
   ]
  },
  {
   "cell_type": "code",
   "execution_count": 1,
   "id": "secondary-canada",
   "metadata": {
    "execution": {
     "iopub.execute_input": "2022-05-19T08:40:57.847206Z",
     "iopub.status.busy": "2022-05-19T08:40:57.845869Z",
     "iopub.status.idle": "2022-05-19T08:40:58.373800Z",
     "shell.execute_reply": "2022-05-19T08:40:58.374141Z"
    }
   },
   "outputs": [
    {
     "name": "stdout",
     "output_type": "stream",
     "text": [
      "WARNING:Should be an accessible feature (use dot notation for nesting) (1.sysml line : 19 column : 7)"
     ]
    },
    {
     "name": "stdout",
     "output_type": "stream",
     "text": [
      "\n"
     ]
    },
    {
     "name": "stdout",
     "output_type": "stream",
     "text": [
      "WARNING:Should be an accessible feature (use dot notation for nesting) (1.sysml line : 20 column : 7)"
     ]
    },
    {
     "name": "stdout",
     "output_type": "stream",
     "text": [
      "\n"
     ]
    },
    {
     "data": {
      "text/plain": [
       "Package Decision Example (74f9ac3c-3a47-4177-9141-e20a0451d7da)\n"
      ]
     },
     "execution_count": 1,
     "metadata": {},
     "output_type": "execute_result"
    }
   ],
   "source": [
    "package 'Decision Example' {\n",
    "\timport ScalarValues::*;\n",
    "\t\n",
    "\tattribute def BatteryCharged;\n",
    "\t\n",
    "\tpart battery;\n",
    "\tpart powerSystem;\n",
    "\t\n",
    "\taction def AddCharge (in charge : Real);\n",
    "\t\n",
    "\taction def ChargeBattery {\n",
    "\t\tfirst start;\n",
    "\n",
    "\t\tthen merge continueCharging;\n",
    "\t\t\n",
    "\t\tthen action monitor accept batteryCharge : Real;\n",
    "\t\t\n",
    "\t\tthen decide;\n",
    "\t\t\tif monitor::batteryCharge < 100 then addCharge;\n",
    "\t\t\tif monitor::batteryCharge >= 100 then signalCharged;\n",
    "\t\t\t\n",
    "\t\taction addCharge : AddCharge (batteryCharge);\n",
    "\t\tthen continueCharging;\n",
    "\t\t\n",
    "\t\taction signalCharged send BatteryCharged() to powerSystem;\n",
    "\t\tthen done;\n",
    "\t}\n",
    "}"
   ]
  },
  {
   "cell_type": "code",
   "execution_count": 2,
   "id": "tamil-disease",
   "metadata": {
    "execution": {
     "iopub.execute_input": "2022-05-19T08:40:58.424764Z",
     "iopub.status.busy": "2022-05-19T08:40:58.424291Z",
     "iopub.status.idle": "2022-05-19T08:40:58.930967Z",
     "shell.execute_reply": "2022-05-19T08:40:58.929293Z"
    }
   },
   "outputs": [
    {
     "data": {
      "image/svg+xml": [
       "<?xml version=\"1.0\" encoding=\"UTF-8\" standalone=\"no\"?><svg xmlns=\"http://www.w3.org/2000/svg\" xmlns:xlink=\"http://www.w3.org/1999/xlink\" contentScriptType=\"application/ecmascript\" contentStyleType=\"text/css\" height=\"847px\" preserveAspectRatio=\"none\" style=\"width:718px;height:847px;\" version=\"1.1\" viewBox=\"0 0 718 847\" width=\"718px\" zoomAndPan=\"magnify\"><defs/><g><!--MD5=[fbc87193dbaf4d95561dea2c320d4a47]\n",
       "cluster E1--><a href=\"psysml:74f9ac3c-3a47-4177-9141-e20a0451d7da\" target=\"_top\" title=\"psysml:74f9ac3c-3a47-4177-9141-e20a0451d7da\" xlink:actuate=\"onRequest\" xlink:href=\"psysml:74f9ac3c-3a47-4177-9141-e20a0451d7da\" xlink:show=\"new\" xlink:title=\"psysml:74f9ac3c-3a47-4177-9141-e20a0451d7da\" xlink:type=\"simple\"><polygon fill=\"#FFFFFF\" points=\"16,6,144,6,151,28.2969,696,28.2969,696,835,16,835,16,6\" style=\"stroke: #000000; stroke-width: 1.5;\"/><line style=\"stroke: #000000; stroke-width: 1.5;\" x1=\"16\" x2=\"151\" y1=\"28.2969\" y2=\"28.2969\"/><text fill=\"#000000\" font-family=\"sans-serif\" font-size=\"14\" font-weight=\"bold\" lengthAdjust=\"spacingAndGlyphs\" textLength=\"122\" x=\"20\" y=\"20.9951\">Decision Example</text></a><!--MD5=[de5ec2e2e8f62f467e546659f5068c88]\n",
       "cluster E5--><a href=\"psysml:3d5a10b5-ba21-4cf7-80c1-295c23c8b271\" target=\"_top\" title=\"psysml:3d5a10b5-ba21-4cf7-80c1-295c23c8b271\" xlink:actuate=\"onRequest\" xlink:href=\"psysml:3d5a10b5-ba21-4cf7-80c1-295c23c8b271\" xlink:show=\"new\" xlink:title=\"psysml:3d5a10b5-ba21-4cf7-80c1-295c23c8b271\" xlink:type=\"simple\"><rect fill=\"#FFFFFF\" height=\"135\" id=\"E5\" style=\"stroke: #383838; stroke-width: 1.5;\" width=\"138\" x=\"542\" y=\"122\"/><rect fill=\"#F8F8F8\" height=\"37.9375\" style=\"stroke: #383838; stroke-width: 1.5;\" width=\"138\" x=\"542\" y=\"122\"/><text fill=\"#000000\" font-family=\"sans-serif\" font-size=\"12\" font-style=\"italic\" lengthAdjust=\"spacingAndGlyphs\" textLength=\"81\" x=\"570.5\" y=\"138.1387\">«action  def»</text><text fill=\"#000000\" font-family=\"sans-serif\" font-size=\"12\" lengthAdjust=\"spacingAndGlyphs\" textLength=\"69\" x=\"576.5\" y=\"152.1074\">AddCharge</text></a><!--MD5=[168fadf3d0c3fd93dd5d6da1b1d7ab76]\n",
       "cluster E7--><a href=\"psysml:27641f3c-0a23-4e9d-9c4d-34d4dbcfb2fc\" target=\"_top\" title=\"psysml:27641f3c-0a23-4e9d-9c4d-34d4dbcfb2fc\" xlink:actuate=\"onRequest\" xlink:href=\"psysml:27641f3c-0a23-4e9d-9c4d-34d4dbcfb2fc\" xlink:show=\"new\" xlink:title=\"psysml:27641f3c-0a23-4e9d-9c4d-34d4dbcfb2fc\" xlink:type=\"simple\"><rect fill=\"#FFFFFF\" height=\"762\" id=\"E7\" style=\"stroke: #383838; stroke-width: 1.5;\" width=\"283\" x=\"243\" y=\"49\"/><rect fill=\"#F8F8F8\" height=\"37.9375\" style=\"stroke: #383838; stroke-width: 1.5;\" width=\"283\" x=\"243\" y=\"49\"/><text fill=\"#000000\" font-family=\"sans-serif\" font-size=\"12\" font-style=\"italic\" lengthAdjust=\"spacingAndGlyphs\" textLength=\"81\" x=\"344\" y=\"65.1387\">«action  def»</text><text fill=\"#000000\" font-family=\"sans-serif\" font-size=\"12\" lengthAdjust=\"spacingAndGlyphs\" textLength=\"90\" x=\"339.5\" y=\"79.1074\">ChargeBattery</text></a><!--MD5=[917b9dd0c7eca3ee5f47219d1a84c0ad]\n",
       "cluster E11--><a href=\"psysml:36413cc1-eb02-4241-82bc-7f0f3b890988\" target=\"_top\" title=\"psysml:36413cc1-eb02-4241-82bc-7f0f3b890988\" xlink:actuate=\"onRequest\" xlink:href=\"psysml:36413cc1-eb02-4241-82bc-7f0f3b890988\" xlink:show=\"new\" xlink:title=\"psysml:36413cc1-eb02-4241-82bc-7f0f3b890988\" xlink:type=\"simple\"><rect fill=\"#FFFFFF\" height=\"143\" id=\"E11\" rx=\"10\" ry=\"10\" style=\"stroke: #383838; stroke-width: 1.5;\" width=\"140\" x=\"295\" y=\"122\"/><rect fill=\"#F8F8F8\" height=\"37.9375\" rx=\"10\" ry=\"10\" style=\"stroke: #F8F8F8; stroke-width: 1.5;\" width=\"140\" x=\"295\" y=\"122\"/><rect fill=\"#F8F8F8\" height=\"10\" style=\"stroke: #F8F8F8; stroke-width: 1.5;\" width=\"140\" x=\"295\" y=\"149.9375\"/><rect fill=\"none\" height=\"143\" id=\"E11\" rx=\"10\" ry=\"10\" style=\"stroke: #383838; stroke-width: 1.5;\" width=\"140\" x=\"295\" y=\"122\"/><text fill=\"#000000\" font-family=\"sans-serif\" font-size=\"12\" font-style=\"italic\" lengthAdjust=\"spacingAndGlyphs\" textLength=\"53\" x=\"338.5\" y=\"138.1387\">«action»</text><text fill=\"#000000\" font-family=\"sans-serif\" font-size=\"12\" lengthAdjust=\"spacingAndGlyphs\" textLength=\"69\" x=\"330.5\" y=\"152.1074\">addCharge</text><line style=\"stroke: #383838; stroke-width: 1.0;\" x1=\"295\" x2=\"435\" y1=\"159.9375\" y2=\"159.9375\"/></a><!--MD5=[b4997ac47864f28c2f74865a473b2911]\n",
       "class E2--><a href=\"psysml:094ec268-353d-4f3a-bbec-a852bdf0154c\" target=\"_top\" title=\"psysml:094ec268-353d-4f3a-bbec-a852bdf0154c\" xlink:actuate=\"onRequest\" xlink:href=\"psysml:094ec268-353d-4f3a-bbec-a852bdf0154c\" xlink:show=\"new\" xlink:title=\"psysml:094ec268-353d-4f3a-bbec-a852bdf0154c\" xlink:type=\"simple\"><rect fill=\"#FFFFFF\" height=\"45.9375\" id=\"E2\" style=\"stroke: #383838; stroke-width: 1.5;\" width=\"104\" x=\"123\" y=\"99\"/><text fill=\"#000000\" font-family=\"sans-serif\" font-size=\"12\" font-style=\"italic\" lengthAdjust=\"spacingAndGlyphs\" textLength=\"97\" x=\"126.5\" y=\"115.1387\">«attribute  def»</text><text fill=\"#000000\" font-family=\"sans-serif\" font-size=\"12\" lengthAdjust=\"spacingAndGlyphs\" textLength=\"98\" x=\"126\" y=\"129.1074\">BatteryCharged</text><line style=\"stroke: #383838; stroke-width: 1.5;\" x1=\"124\" x2=\"226\" y1=\"136.9375\" y2=\"136.9375\"/></a><!--MD5=[09b614a08d8cba4a07c9adeb5e0fee81]\n",
       "class E3--><a href=\"psysml:27a3716f-fbb7-4c5b-8473-6ef9f2edba7a\" target=\"_top\" title=\"psysml:27a3716f-fbb7-4c5b-8473-6ef9f2edba7a\" xlink:actuate=\"onRequest\" xlink:href=\"psysml:27a3716f-fbb7-4c5b-8473-6ef9f2edba7a\" xlink:show=\"new\" xlink:title=\"psysml:27a3716f-fbb7-4c5b-8473-6ef9f2edba7a\" xlink:type=\"simple\"><rect fill=\"#FFFFFF\" height=\"45.9375\" id=\"E3\" rx=\"10\" ry=\"10\" style=\"stroke: #383838; stroke-width: 1.5;\" width=\"55\" x=\"32.5\" y=\"99\"/><text fill=\"#000000\" font-family=\"sans-serif\" font-size=\"12\" font-style=\"italic\" lengthAdjust=\"spacingAndGlyphs\" textLength=\"40\" x=\"40\" y=\"115.1387\">«part»</text><text fill=\"#000000\" font-family=\"sans-serif\" font-size=\"12\" lengthAdjust=\"spacingAndGlyphs\" textLength=\"45\" x=\"35.5\" y=\"129.1074\">battery</text><line style=\"stroke: #383838; stroke-width: 1.5;\" x1=\"33.5\" x2=\"86.5\" y1=\"136.9375\" y2=\"136.9375\"/></a><!--MD5=[ebbe1d658d1005bcc118a6aa81145e00]\n",
       "class E4--><a href=\"psysml:cd541096-3ba7-494b-9a6b-0a71a37173db\" target=\"_top\" title=\"psysml:cd541096-3ba7-494b-9a6b-0a71a37173db\" xlink:actuate=\"onRequest\" xlink:href=\"psysml:cd541096-3ba7-494b-9a6b-0a71a37173db\" xlink:show=\"new\" xlink:title=\"psysml:cd541096-3ba7-494b-9a6b-0a71a37173db\" xlink:type=\"simple\"><rect fill=\"#FFFFFF\" height=\"45.9375\" id=\"E4\" rx=\"10\" ry=\"10\" style=\"stroke: #383838; stroke-width: 1.5;\" width=\"93\" x=\"541.5\" y=\"762\"/><text fill=\"#000000\" font-family=\"sans-serif\" font-size=\"12\" font-style=\"italic\" lengthAdjust=\"spacingAndGlyphs\" textLength=\"40\" x=\"568\" y=\"778.1387\">«part»</text><text fill=\"#000000\" font-family=\"sans-serif\" font-size=\"12\" lengthAdjust=\"spacingAndGlyphs\" textLength=\"83\" x=\"544.5\" y=\"792.1074\">powerSystem</text><line style=\"stroke: #383838; stroke-width: 1.5;\" x1=\"542.5\" x2=\"633.5\" y1=\"799.9375\" y2=\"799.9375\"/></a><text fill=\"#000000\" font-family=\"sans-serif\" font-size=\"14\" lengthAdjust=\"spacingAndGlyphs\" textLength=\"48\" x=\"587\" y=\"100.6982\">charge</text><rect fill=\"#383838\" height=\"12\" style=\"stroke: #F8F8F8; stroke-width: 1.5;\" width=\"12\" x=\"605\" y=\"116\"/><polygon fill=\"#F8F8F8\" points=\"271,312,283,324,271,336,259,324,271,312\" style=\"stroke: #383838; stroke-width: 1.5;\"/><!--MD5=[1acd208aae0a17fcb597ebec3d0ce2e2]\n",
       "entity E9--><a href=\"psysml:0bdd4686-50ea-4635-bec6-2c09b5e36a8e\" target=\"_top\" title=\"psysml:0bdd4686-50ea-4635-bec6-2c09b5e36a8e\" xlink:actuate=\"onRequest\" xlink:href=\"psysml:0bdd4686-50ea-4635-bec6-2c09b5e36a8e\" xlink:show=\"new\" xlink:title=\"psysml:0bdd4686-50ea-4635-bec6-2c09b5e36a8e\" xlink:type=\"simple\"><polygon fill=\"#F8F8F8\" points=\"259,413,259,467.5938,441,467.5938,421,440.2969,441,413\" style=\"stroke: #000000; stroke-width: 1.5;\"/><text fill=\"#000000\" font-family=\"sans-serif\" font-size=\"14\" font-style=\"italic\" lengthAdjust=\"spacingAndGlyphs\" textLength=\"111\" x=\"287\" y=\"435.9951\">«accept action»</text><text fill=\"#000000\" font-family=\"sans-serif\" font-size=\"14\" lengthAdjust=\"spacingAndGlyphs\" textLength=\"141\" x=\"272\" y=\"453.292\">batteryCharge : Real</text></a><polygon fill=\"#F8F8F8\" points=\"350,529,362,541,350,553,338,541,350,529\" style=\"stroke: #383838; stroke-width: 1.5;\"/><!--MD5=[3822a2a4541e754d1dc15080999c19ba]\n",
       "entity E13--><a href=\"psysml:174b43d1-8662-411c-a0a2-a2f6bc002301\" target=\"_top\" title=\"psysml:174b43d1-8662-411c-a0a2-a2f6bc002301\" xlink:actuate=\"onRequest\" xlink:href=\"psysml:174b43d1-8662-411c-a0a2-a2f6bc002301\" xlink:show=\"new\" xlink:title=\"psysml:174b43d1-8662-411c-a0a2-a2f6bc002301\" xlink:type=\"simple\"><polygon fill=\"#F8F8F8\" points=\"304.5,630,304.5,684.5938,443.5,684.5938,463.5,657.2969,443.5,630\" style=\"stroke: #000000; stroke-width: 1.5;\"/><text fill=\"#000000\" font-family=\"sans-serif\" font-size=\"14\" font-style=\"italic\" lengthAdjust=\"spacingAndGlyphs\" textLength=\"99\" x=\"327\" y=\"652.9951\">«send action»</text><text fill=\"#000000\" font-family=\"sans-serif\" font-size=\"14\" lengthAdjust=\"spacingAndGlyphs\" textLength=\"118\" x=\"317.5\" y=\"670.292\">BatteryCharged()</text></a><ellipse cx=\"269\" cy=\"223.5\" fill=\"#000000\" rx=\"10\" ry=\"10\" style=\"stroke: none; stroke-width: 1.0;\"/><ellipse cx=\"384\" cy=\"785\" fill=\"none\" rx=\"10\" ry=\"10\" style=\"stroke: #000000; stroke-width: 1.0;\"/><ellipse cx=\"384.5\" cy=\"785.5\" fill=\"#000000\" rx=\"6\" ry=\"6\" style=\"stroke: none; stroke-width: 1.0;\"/><text fill=\"#000000\" font-family=\"sans-serif\" font-size=\"14\" lengthAdjust=\"spacingAndGlyphs\" textLength=\"98\" x=\"316\" y=\"100.6982\">batteryCharge</text><rect fill=\"#383838\" height=\"12\" style=\"stroke: #F8F8F8; stroke-width: 1.5;\" width=\"12\" x=\"359\" y=\"116\"/><!--MD5=[55ebfa55a3826719a7ecf4e8d8b814eb]\n",
       "link *start*E7 to E8--><a href=\"psysml:6c11135f-17f5-453f-b058-6069f8d95d3e\" target=\"_top\" title=\"psysml:6c11135f-17f5-453f-b058-6069f8d95d3e\" xlink:actuate=\"onRequest\" xlink:href=\"psysml:6c11135f-17f5-453f-b058-6069f8d95d3e\" xlink:show=\"new\" xlink:title=\"psysml:6c11135f-17f5-453f-b058-6069f8d95d3e\" xlink:type=\"simple\"><path d=\"M269.18,233.59 C269.52,250.29 270.25,286.06 270.67,306.94 \" fill=\"none\" id=\"*start*E7-&gt;E8\" style=\"stroke: #383838; stroke-width: 1.0;\"/><polygon fill=\"#383838\" points=\"270.78,312.15,274.5992,303.0718,270.68,307.151,266.6008,303.2318,270.78,312.15\" style=\"stroke: #383838; stroke-width: 1.0;\"/></a><!--MD5=[15372006ba9e3e6d6e5422c2255cdbb7]\n",
       "link E13 to *end*E7--><a href=\"psysml:913a89f0-1663-4def-8874-2789a5872049\" target=\"_top\" title=\"psysml:913a89f0-1663-4def-8874-2789a5872049\" xlink:actuate=\"onRequest\" xlink:href=\"psysml:913a89f0-1663-4def-8874-2789a5872049\" xlink:show=\"new\" xlink:title=\"psysml:913a89f0-1663-4def-8874-2789a5872049\" xlink:type=\"simple\"><path d=\"M384,685.12 C384,711.01 384,749.35 384,769.85 \" fill=\"none\" id=\"E13-&gt;*end*E7\" style=\"stroke: #383838; stroke-width: 1.0;\"/><polygon fill=\"#383838\" points=\"384,774.9,388,765.9,384,769.9,380,765.9,384,774.9\" style=\"stroke: #383838; stroke-width: 1.0;\"/></a><!--MD5=[ed10624c06dd9a4fa49ccf290e8b16a8]\n",
       "link E8 to E9--><a href=\"psysml:4b0dde2c-dbd2-4af5-9c5f-4a730cc95923\" target=\"_top\" title=\"psysml:4b0dde2c-dbd2-4af5-9c5f-4a730cc95923\" xlink:actuate=\"onRequest\" xlink:href=\"psysml:4b0dde2c-dbd2-4af5-9c5f-4a730cc95923\" xlink:show=\"new\" xlink:title=\"psysml:4b0dde2c-dbd2-4af5-9c5f-4a730cc95923\" xlink:type=\"simple\"><path d=\"M268.25,333.44 C264.91,345.27 260.7,367.1 269,383 C274.41,393.37 282.7,402.23 291.94,409.65 \" fill=\"none\" id=\"E8-&gt;E9\" style=\"stroke: #383838; stroke-width: 1.0;\"/><polygon fill=\"#383838\" points=\"295.95,412.74,291.2537,404.0829,291.9863,409.6921,286.3771,410.4248,295.95,412.74\" style=\"stroke: #383838; stroke-width: 1.0;\"/><text fill=\"#000000\" font-family=\"sans-serif\" font-size=\"13\" lengthAdjust=\"spacingAndGlyphs\" textLength=\"7\" x=\"276.3609\" y=\"402.1527\">*</text></a><!--MD5=[35e5f1cbde42fa304a029880aa2bc7f2]\n",
       "link E9 to E10--><a href=\"psysml:422fa3b5-6a14-4d7c-8bfd-e9d042020ad2\" target=\"_top\" title=\"psysml:422fa3b5-6a14-4d7c-8bfd-e9d042020ad2\" xlink:actuate=\"onRequest\" xlink:href=\"psysml:422fa3b5-6a14-4d7c-8bfd-e9d042020ad2\" xlink:show=\"new\" xlink:title=\"psysml:422fa3b5-6a14-4d7c-8bfd-e9d042020ad2\" xlink:type=\"simple\"><path d=\"M350,468.16 C350,485.92 350,508.68 350,523.77 \" fill=\"none\" id=\"E9-&gt;E10\" style=\"stroke: #383838; stroke-width: 1.0;\"/><polygon fill=\"#383838\" points=\"350,528.96,354,519.96,350,523.96,346,519.96,350,528.96\" style=\"stroke: #383838; stroke-width: 1.0;\"/><text fill=\"#000000\" font-family=\"sans-serif\" font-size=\"13\" lengthAdjust=\"spacingAndGlyphs\" textLength=\"7\" x=\"341.5563\" y=\"517.994\">*</text></a><!--MD5=[7e01d6273c142173bd6ca4b66f8f251a]\n",
       "link E10 to E11--><a href=\"psysml:b22110e5-6a2f-4842-940e-3a2e929eb06d\" target=\"_top\" title=\"psysml:b22110e5-6a2f-4842-940e-3a2e929eb06d\" xlink:actuate=\"onRequest\" xlink:href=\"psysml:b22110e5-6a2f-4842-940e-3a2e929eb06d\" xlink:show=\"new\" xlink:title=\"psysml:b22110e5-6a2f-4842-940e-3a2e929eb06d\" xlink:type=\"simple\"><path d=\"M358.63,537.44 C380.33,530.48 436.98,508.94 459,468 C480.79,427.495 470.525,380.83 450.1975,339.2575 C440.0338,318.4713 427.3544,298.9581 414.9084,282.1247 C411.797,277.9163 408.7001,273.8754 405.6607,270.024 C404.9009,269.0612 404.1446,268.1102 403.3927,267.1713 C403.0167,266.7019 402.6417,266.2355 402.268,265.7723 C402.0811,265.5406 401.8945,265.3098 401.7082,265.0797 \" fill=\"none\" id=\"E10-&gt;E11\" style=\"stroke: #383838; stroke-width: 1.0;\"/><polygon fill=\"#383838\" points=\"401.7082,265.0797,404.2629,274.5914,404.8546,268.9656,410.4804,269.5573,401.7082,265.0797\" style=\"stroke: #383838; stroke-width: 1.0;\"/><text fill=\"#000000\" font-family=\"sans-serif\" font-size=\"13\" lengthAdjust=\"spacingAndGlyphs\" textLength=\"203\" x=\"467\" y=\"379.0669\">[monitor::batteryCharge &lt; 100]</text><text fill=\"#000000\" font-family=\"sans-serif\" font-size=\"13\" lengthAdjust=\"spacingAndGlyphs\" textLength=\"7\" x=\"374.02\" y=\"253.1369\">*</text></a><!--MD5=[74b78f105e346754c1f4f010190a9055]\n",
       "link E10 to E13--><a href=\"psysml:eb028c23-3a22-4136-aadd-ebcda70b3514\" target=\"_top\" title=\"psysml:eb028c23-3a22-4136-aadd-ebcda70b3514\" xlink:actuate=\"onRequest\" xlink:href=\"psysml:eb028c23-3a22-4136-aadd-ebcda70b3514\" xlink:show=\"new\" xlink:title=\"psysml:eb028c23-3a22-4136-aadd-ebcda70b3514\" xlink:type=\"simple\"><path d=\"M352.56,550.61 C357.16,566.11 367.06,599.46 374.53,624.62 \" fill=\"none\" id=\"E10-&gt;E13\" style=\"stroke: #383838; stroke-width: 1.0;\"/><polygon fill=\"#383838\" points=\"375.99,629.53,377.2565,619.7629,374.5637,624.7377,369.5889,622.0449,375.99,629.53\" style=\"stroke: #383838; stroke-width: 1.0;\"/><text fill=\"#000000\" font-family=\"sans-serif\" font-size=\"13\" lengthAdjust=\"spacingAndGlyphs\" textLength=\"214\" x=\"368\" y=\"596.0669\">[monitor::batteryCharge &gt;= 100]</text><text fill=\"#000000\" font-family=\"sans-serif\" font-size=\"13\" lengthAdjust=\"spacingAndGlyphs\" textLength=\"7\" x=\"366.4722\" y=\"618.8968\">*</text></a><!--MD5=[3aca6b7b240bdf4fa74e86e8d4be9f1e]\n",
       "link E11 to E8--><a href=\"psysml:ef400e24-63fd-44dc-9b60-5b01bf2628d8\" target=\"_top\" title=\"psysml:ef400e24-63fd-44dc-9b60-5b01bf2628d8\" xlink:actuate=\"onRequest\" xlink:href=\"psysml:ef400e24-63fd-44dc-9b60-5b01bf2628d8\" xlink:show=\"new\" xlink:title=\"psysml:ef400e24-63fd-44dc-9b60-5b01bf2628d8\" xlink:type=\"simple\"><path d=\"M325.2495,265.1089 C325.1444,265.2176 325.0393,265.3263 324.9342,265.4351 C323.2522,267.1754 321.5668,268.9229 319.8889,270.6667 C316.5331,274.1544 313.2075,277.6275 310,281 C299.51,292.03 287.63,304.88 279.77,313.43 \" fill=\"none\" id=\"E11-&gt;E8\" style=\"stroke: #383838; stroke-width: 1.0;\"/><polygon fill=\"#383838\" points=\"276.26,317.25,285.286,313.309,279.6347,313.5607,279.3831,307.9094,276.26,317.25\" style=\"stroke: #383838; stroke-width: 1.0;\"/><text fill=\"#000000\" font-family=\"sans-serif\" font-size=\"13\" lengthAdjust=\"spacingAndGlyphs\" textLength=\"7\" x=\"284.363\" y=\"301.1971\">*</text></a><!--MD5=[017847e01ff9a8bd19f247411074f987]\n",
       "link E13 to E4--><a href=\"psysml:174b43d1-8662-411c-a0a2-a2f6bc002301\" target=\"_top\" title=\"psysml:174b43d1-8662-411c-a0a2-a2f6bc002301\" xlink:actuate=\"onRequest\" xlink:href=\"psysml:174b43d1-8662-411c-a0a2-a2f6bc002301\" xlink:show=\"new\" xlink:title=\"psysml:174b43d1-8662-411c-a0a2-a2f6bc002301\" xlink:type=\"simple\"><path d=\"M427.26,685.12 C461.88,706.41 510.18,736.13 544.78,757.41 \" fill=\"none\" id=\"E13-&gt;E4\" style=\"stroke: #383838; stroke-width: 1.0; stroke-dasharray: 7.0,7.0;\"/><polygon fill=\"#383838\" points=\"551.95,761.82,546.7035,755.0765,543.5631,760.1891,551.95,761.82\" style=\"stroke: #383838; stroke-width: 1.0;\"/><text fill=\"#000000\" font-family=\"sans-serif\" font-size=\"13\" lengthAdjust=\"spacingAndGlyphs\" textLength=\"64\" x=\"499\" y=\"728.0669\">«send to»</text><text fill=\"#000000\" font-family=\"sans-serif\" font-size=\"13\" lengthAdjust=\"spacingAndGlyphs\" textLength=\"7\" x=\"534.8153\" y=\"751.0502\">*</text></a><!--MD5=[7af204573f8d47b97b95b263cfaf4069]\n",
       "@startuml\r\n",
       "skinparam monochrome true\r\n",
       "skinparam classbackgroundcolor white\r\n",
       "skinparam shadowing false\r\n",
       "skinparam wrapWidth 300\r\n",
       "hide circle\r\n",
       "\r\n",
       "package \"Decision Example\" as E1  [[psysml:74f9ac3c-3a47-4177-9141-e20a0451d7da ]]  {\r\n",
       "comp def \"BatteryCharged\" as E2  <<(T,blue) attribute  def>> [[psysml:094ec268-353d-4f3a-bbec-a852bdf0154c ]] {\r\n",
       "}\r\n",
       "comp usage \"battery \" as E3  <<(T,blue) part>> [[psysml:27a3716f-fbb7-4c5b-8473-6ef9f2edba7a ]] {\r\n",
       "}\r\n",
       "comp usage \"powerSystem \" as E4  <<(T,blue) part>> [[psysml:cd541096-3ba7-494b-9a6b-0a71a37173db ]] {\r\n",
       "}\r\n",
       "rec def \"AddCharge\" as E5  <<(T,blue) action  def>> [[psysml:3d5a10b5-ba21-4cf7-80c1-295c23c8b271 ]] {\r\n",
       "portin \"charge\" as E6  [[psysml:8e201835-2980-4fed-9f69-0864f9c5579d ]] \r\n",
       "}\r\n",
       "\r\n",
       "rec def \"ChargeBattery\" as E7  <<(T,blue) action  def>> [[psysml:27641f3c-0a23-4e9d-9c4d-34d4dbcfb2fc ]] {\r\n",
       "choice \"continueCharging\" as E8  [[psysml:574bd8a2-c820-459d-823d-d2dc7e763b0c ]] \r\n",
       "accept \" batteryCharge : Real\" as E9 << accept action>> [[psysml:0bdd4686-50ea-4635-bec6-2c09b5e36a8e ]] \r\n",
       "choice \"<s>noname</s>\" as E10  [[psysml:f3b1ca8c-8d83-473d-8b55-cc326bfacd92 ]] \r\n",
       "rec usage \"addCharge\" as E11  <<(T,blue) action>> [[psysml:36413cc1-eb02-4241-82bc-7f0f3b890988 ]] {\r\n",
       "portin \"batteryCharge\" as E12  [[psysml:6994ddb9-716a-4e0b-9009-a5051ca56ae4 ]] \r\n",
       "}\r\n",
       "\r\n",
       "send \" BatteryCharged()\" as E13 << send action>> [[psysml:174b43d1-8662-411c-a0a2-a2f6bc002301 ]] \r\n",
       "[*] - -> E8 [[psysml:6c11135f-17f5-453f-b058-6069f8d95d3e ]] \r\n",
       "E13 - -> [*] [[psysml:913a89f0-1663-4def-8874-2789a5872049 ]] \r\n",
       "}\r\n",
       "\r\n",
       "}\r\n",
       "E8 - -> \"*\"E9 [[psysml:4b0dde2c-dbd2-4af5-9c5f-4a730cc95923 ]] \r\n",
       "E9 - -> \"*\"E10 [[psysml:422fa3b5-6a14-4d7c-8bfd-e9d042020ad2 ]] \r\n",
       "E10  - -> \"*\"E11 [[psysml:b22110e5-6a2f-4842-940e-3a2e929eb06d ]] : [monitor::batteryCharge < 100]\r\n",
       "E10  - -> \"*\"E13 [[psysml:eb028c23-3a22-4136-aadd-ebcda70b3514 ]] : [monitor::batteryCharge >= 100]\r\n",
       "E11 - -> \"*\"E8 [[psysml:ef400e24-63fd-44dc-9b60-5b01bf2628d8 ]] \r\n",
       "E13 ..>> \"*\"E4 [[psysml:174b43d1-8662-411c-a0a2-a2f6bc002301 ]] : <<send to>>\r\n",
       "@enduml\r\n",
       "\n",
       "PlantUML version 1.2020.13(Sat Jun 13 12:26:38 UTC 2020)\n",
       "(EPL source distribution)\n",
       "Java Runtime: OpenJDK Runtime Environment\n",
       "JVM: OpenJDK 64-Bit Server VM\n",
       "Default Encoding: UTF-8\n",
       "Language: en\n",
       "Country: null\n",
       "--></g></svg>"
      ]
     },
     "execution_count": 2,
     "metadata": {},
     "output_type": "execute_result"
    }
   ],
   "source": [
    "%viz \"Decision Example\""
   ]
  },
  {
   "cell_type": "code",
   "execution_count": null,
   "id": "attractive-grain",
   "metadata": {},
   "outputs": [],
   "source": []
  }
 ],
 "metadata": {
  "kernelspec": {
   "display_name": "SysML",
   "language": "sysml",
   "name": "sysml"
  },
  "language_info": {
   "codemirror_mode": "sysml",
   "file_extension": ".sysml",
   "mimetype": "text/x-sysml",
   "name": "SysML",
   "pygments_lexer": "java",
   "version": "1.0.0"
  }
 },
 "nbformat": 4,
 "nbformat_minor": 5
}
