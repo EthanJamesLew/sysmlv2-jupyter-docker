{
 "cells": [
  {
   "cell_type": "markdown",
   "id": "split-wealth",
   "metadata": {},
   "source": [
    "## Decision Example\n",
    "\n",
    "Taken from the [training](/lab/tree/sysml/src/training/19.%20Control/Decision%20Example.sysml) directory."
   ]
  },
  {
   "cell_type": "code",
   "execution_count": 1,
   "id": "secondary-canada",
   "metadata": {
    "execution": {
     "iopub.execute_input": "2021-08-04T06:24:48.475305Z",
     "iopub.status.busy": "2021-08-04T06:24:48.474128Z",
     "iopub.status.idle": "2021-08-04T06:24:48.982667Z",
     "shell.execute_reply": "2021-08-04T06:24:48.982226Z"
    }
   },
   "outputs": [
    {
     "name": "stdout",
     "output_type": "stream",
     "text": [
      "WARNING:Should be an accessible feature (use dot notation for nesting) (1.sysml line : 19 column : 7)\n"
     ]
    },
    {
     "name": "stdout",
     "output_type": "stream",
     "text": [
      "WARNING:Should be an accessible feature (use dot notation for nesting) (1.sysml line : 19 column : 7)\n"
     ]
    },
    {
     "name": "stdout",
     "output_type": "stream",
     "text": [
      "WARNING:Should be an accessible feature (use dot notation for nesting) (1.sysml line : 20 column : 7)\n"
     ]
    },
    {
     "name": "stdout",
     "output_type": "stream",
     "text": [
      "WARNING:Should be an accessible feature (use dot notation for nesting) (1.sysml line : 20 column : 7)\n"
     ]
    },
    {
     "data": {
      "text/plain": [
       "Package Decision Example (e545f125-ce09-4b43-9c98-cc66e3e215cb)\n"
      ]
     },
     "execution_count": 1,
     "metadata": {},
     "output_type": "execute_result"
    }
   ],
   "source": [
    "package 'Decision Example' {\n",
    "\timport ScalarValues::*;\n",
    "\t\n",
    "\tattribute def BatteryCharged;\n",
    "\t\n",
    "\tpart battery;\n",
    "\tpart powerSystem;\n",
    "\t\n",
    "\taction def AddCharge (in charge : Real);\n",
    "\t\n",
    "\taction def ChargeBattery {\n",
    "\t\tfirst start;\n",
    "\n",
    "\t\tthen merge continueCharging;\n",
    "\t\t\n",
    "\t\tthen action monitor accept batteryCharge : Real;\n",
    "\t\t\n",
    "\t\tthen decide;\n",
    "\t\t\tif monitor::batteryCharge < 100 then addCharge;\n",
    "\t\t\tif monitor::batteryCharge >= 100 then signalCharged;\n",
    "\t\t\t\n",
    "\t\taction addCharge : AddCharge (batteryCharge);\n",
    "\t\tthen continueCharging;\n",
    "\t\t\n",
    "\t\taction signalCharged send BatteryCharged() to powerSystem;\n",
    "\t\tthen done;\n",
    "\t}\n",
    "}"
   ]
  },
  {
   "cell_type": "code",
   "execution_count": 2,
   "id": "tamil-disease",
   "metadata": {
    "execution": {
     "iopub.execute_input": "2021-08-04T06:24:49.033203Z",
     "iopub.status.busy": "2021-08-04T06:24:49.032690Z",
     "iopub.status.idle": "2021-08-04T06:24:49.453227Z",
     "shell.execute_reply": "2021-08-04T06:24:49.452333Z"
    }
   },
   "outputs": [
    {
     "data": {
      "image/svg+xml": [
       "<?xml version=\"1.0\" encoding=\"UTF-8\" standalone=\"no\"?><svg xmlns=\"http://www.w3.org/2000/svg\" xmlns:xlink=\"http://www.w3.org/1999/xlink\" contentScriptType=\"application/ecmascript\" contentStyleType=\"text/css\" height=\"847px\" preserveAspectRatio=\"none\" style=\"width:712px;height:847px;\" version=\"1.1\" viewBox=\"0 0 712 847\" width=\"712px\" zoomAndPan=\"magnify\"><defs/><g><!--MD5=[fbc87193dbaf4d95561dea2c320d4a47]\n",
       "cluster E1--><a href=\"psysml:7c2efc90-b0c0-4ed6-9737-2462d8f4c70e\" target=\"_top\" title=\"psysml:7c2efc90-b0c0-4ed6-9737-2462d8f4c70e\" xlink:actuate=\"onRequest\" xlink:href=\"psysml:7c2efc90-b0c0-4ed6-9737-2462d8f4c70e\" xlink:show=\"new\" xlink:title=\"psysml:7c2efc90-b0c0-4ed6-9737-2462d8f4c70e\" xlink:type=\"simple\"><polygon fill=\"#FFFFFF\" points=\"16,6,159,6,166,28.2969,690,28.2969,690,835,16,835,16,6\" style=\"stroke: #000000; stroke-width: 1.5;\"/><line style=\"stroke: #000000; stroke-width: 1.5;\" x1=\"16\" x2=\"166\" y1=\"28.2969\" y2=\"28.2969\"/><text fill=\"#000000\" font-family=\"sans-serif\" font-size=\"14\" font-weight=\"bold\" lengthAdjust=\"spacingAndGlyphs\" textLength=\"137\" x=\"20\" y=\"20.9951\">Decision Example</text></a><!--MD5=[de5ec2e2e8f62f467e546659f5068c88]\n",
       "cluster E5--><a href=\"psysml:0816cbe2-e47c-4ee6-82bc-1fb1bbb22b7b\" target=\"_top\" title=\"psysml:0816cbe2-e47c-4ee6-82bc-1fb1bbb22b7b\" xlink:actuate=\"onRequest\" xlink:href=\"psysml:0816cbe2-e47c-4ee6-82bc-1fb1bbb22b7b\" xlink:show=\"new\" xlink:title=\"psysml:0816cbe2-e47c-4ee6-82bc-1fb1bbb22b7b\" xlink:type=\"simple\"><rect fill=\"#FFFFFF\" height=\"135\" id=\"E5\" style=\"stroke: #383838; stroke-width: 1.5;\" width=\"136\" x=\"538\" y=\"122\"/><rect fill=\"#F8F8F8\" height=\"37.9375\" style=\"stroke: #383838; stroke-width: 1.5;\" width=\"136\" x=\"538\" y=\"122\"/><text fill=\"#000000\" font-family=\"sans-serif\" font-size=\"12\" font-style=\"italic\" lengthAdjust=\"spacingAndGlyphs\" textLength=\"77\" x=\"567.5\" y=\"138.1387\">«action def»</text><text fill=\"#000000\" font-family=\"sans-serif\" font-size=\"12\" lengthAdjust=\"spacingAndGlyphs\" textLength=\"69\" x=\"571.5\" y=\"152.1074\">AddCharge</text></a><!--MD5=[168fadf3d0c3fd93dd5d6da1b1d7ab76]\n",
       "cluster E7--><a href=\"psysml:cc1b0e6b-643f-4d90-9121-5788fd06e645\" target=\"_top\" title=\"psysml:cc1b0e6b-643f-4d90-9121-5788fd06e645\" xlink:actuate=\"onRequest\" xlink:href=\"psysml:cc1b0e6b-643f-4d90-9121-5788fd06e645\" xlink:show=\"new\" xlink:title=\"psysml:cc1b0e6b-643f-4d90-9121-5788fd06e645\" xlink:type=\"simple\"><rect fill=\"#FFFFFF\" height=\"762\" id=\"E7\" style=\"stroke: #383838; stroke-width: 1.5;\" width=\"283\" x=\"239\" y=\"49\"/><rect fill=\"#F8F8F8\" height=\"37.9375\" style=\"stroke: #383838; stroke-width: 1.5;\" width=\"283\" x=\"239\" y=\"49\"/><text fill=\"#000000\" font-family=\"sans-serif\" font-size=\"12\" font-style=\"italic\" lengthAdjust=\"spacingAndGlyphs\" textLength=\"77\" x=\"342\" y=\"65.1387\">«action def»</text><text fill=\"#000000\" font-family=\"sans-serif\" font-size=\"12\" lengthAdjust=\"spacingAndGlyphs\" textLength=\"90\" x=\"335.5\" y=\"79.1074\">ChargeBattery</text></a><!--MD5=[917b9dd0c7eca3ee5f47219d1a84c0ad]\n",
       "cluster E11--><a href=\"psysml:cc0658a4-dbe6-4975-a80f-dbdcd7ca8914\" target=\"_top\" title=\"psysml:cc0658a4-dbe6-4975-a80f-dbdcd7ca8914\" xlink:actuate=\"onRequest\" xlink:href=\"psysml:cc0658a4-dbe6-4975-a80f-dbdcd7ca8914\" xlink:show=\"new\" xlink:title=\"psysml:cc0658a4-dbe6-4975-a80f-dbdcd7ca8914\" xlink:type=\"simple\"><rect fill=\"#FFFFFF\" height=\"143\" id=\"E11\" rx=\"10\" ry=\"10\" style=\"stroke: #383838; stroke-width: 1.5;\" width=\"150\" x=\"334\" y=\"122\"/><rect fill=\"#F8F8F8\" height=\"37.9375\" rx=\"10\" ry=\"10\" style=\"stroke: #F8F8F8; stroke-width: 1.5;\" width=\"150\" x=\"334\" y=\"122\"/><rect fill=\"#F8F8F8\" height=\"10\" style=\"stroke: #F8F8F8; stroke-width: 1.5;\" width=\"150\" x=\"334\" y=\"149.9375\"/><rect fill=\"none\" height=\"143\" id=\"E11\" rx=\"10\" ry=\"10\" style=\"stroke: #383838; stroke-width: 1.5;\" width=\"150\" x=\"334\" y=\"122\"/><text fill=\"#000000\" font-family=\"sans-serif\" font-size=\"12\" font-style=\"italic\" lengthAdjust=\"spacingAndGlyphs\" textLength=\"53\" x=\"382.5\" y=\"138.1387\">«action»</text><text fill=\"#000000\" font-family=\"sans-serif\" font-size=\"12\" lengthAdjust=\"spacingAndGlyphs\" textLength=\"69\" x=\"374.5\" y=\"152.1074\">addCharge</text><line style=\"stroke: #383838; stroke-width: 1.0;\" x1=\"334\" x2=\"484\" y1=\"159.9375\" y2=\"159.9375\"/></a><!--MD5=[b4997ac47864f28c2f74865a473b2911]\n",
       "class E2--><a href=\"psysml:e2c008ef-72d7-4a52-9987-4acf8dd3aab4\" target=\"_top\" title=\"psysml:e2c008ef-72d7-4a52-9987-4acf8dd3aab4\" xlink:actuate=\"onRequest\" xlink:href=\"psysml:e2c008ef-72d7-4a52-9987-4acf8dd3aab4\" xlink:show=\"new\" xlink:title=\"psysml:e2c008ef-72d7-4a52-9987-4acf8dd3aab4\" xlink:type=\"simple\"><rect fill=\"#FFFFFF\" height=\"45.9375\" id=\"E2\" style=\"stroke: #383838; stroke-width: 1.5;\" width=\"104\" x=\"119\" y=\"99\"/><text fill=\"#000000\" font-family=\"sans-serif\" font-size=\"12\" font-style=\"italic\" lengthAdjust=\"spacingAndGlyphs\" textLength=\"93\" x=\"124.5\" y=\"115.1387\">«attribute def»</text><text fill=\"#000000\" font-family=\"sans-serif\" font-size=\"12\" lengthAdjust=\"spacingAndGlyphs\" textLength=\"98\" x=\"122\" y=\"129.1074\">BatteryCharged</text><line style=\"stroke: #383838; stroke-width: 1.5;\" x1=\"120\" x2=\"222\" y1=\"136.9375\" y2=\"136.9375\"/></a><!--MD5=[09b614a08d8cba4a07c9adeb5e0fee81]\n",
       "class E3--><a href=\"psysml:d71068cc-bdd8-4a67-8df3-aa7d53520505\" target=\"_top\" title=\"psysml:d71068cc-bdd8-4a67-8df3-aa7d53520505\" xlink:actuate=\"onRequest\" xlink:href=\"psysml:d71068cc-bdd8-4a67-8df3-aa7d53520505\" xlink:show=\"new\" xlink:title=\"psysml:d71068cc-bdd8-4a67-8df3-aa7d53520505\" xlink:type=\"simple\"><rect fill=\"#FFFFFF\" height=\"45.9375\" id=\"E3\" rx=\"10\" ry=\"10\" style=\"stroke: #383838; stroke-width: 1.5;\" width=\"51\" x=\"32.5\" y=\"99\"/><text fill=\"#000000\" font-family=\"sans-serif\" font-size=\"12\" font-style=\"italic\" lengthAdjust=\"spacingAndGlyphs\" textLength=\"40\" x=\"38\" y=\"115.1387\">«part»</text><text fill=\"#000000\" font-family=\"sans-serif\" font-size=\"12\" lengthAdjust=\"spacingAndGlyphs\" textLength=\"45\" x=\"35.5\" y=\"129.1074\">battery</text><line style=\"stroke: #383838; stroke-width: 1.5;\" x1=\"33.5\" x2=\"82.5\" y1=\"136.9375\" y2=\"136.9375\"/></a><!--MD5=[ebbe1d658d1005bcc118a6aa81145e00]\n",
       "class E4--><a href=\"psysml:ae12ab5d-1416-4373-9f91-c14adb9498c7\" target=\"_top\" title=\"psysml:ae12ab5d-1416-4373-9f91-c14adb9498c7\" xlink:actuate=\"onRequest\" xlink:href=\"psysml:ae12ab5d-1416-4373-9f91-c14adb9498c7\" xlink:show=\"new\" xlink:title=\"psysml:ae12ab5d-1416-4373-9f91-c14adb9498c7\" xlink:type=\"simple\"><rect fill=\"#FFFFFF\" height=\"45.9375\" id=\"E4\" rx=\"10\" ry=\"10\" style=\"stroke: #383838; stroke-width: 1.5;\" width=\"89\" x=\"537.5\" y=\"762\"/><text fill=\"#000000\" font-family=\"sans-serif\" font-size=\"12\" font-style=\"italic\" lengthAdjust=\"spacingAndGlyphs\" textLength=\"40\" x=\"562\" y=\"778.1387\">«part»</text><text fill=\"#000000\" font-family=\"sans-serif\" font-size=\"12\" lengthAdjust=\"spacingAndGlyphs\" textLength=\"83\" x=\"540.5\" y=\"792.1074\">powerSystem</text><line style=\"stroke: #383838; stroke-width: 1.5;\" x1=\"538.5\" x2=\"625.5\" y1=\"799.9375\" y2=\"799.9375\"/></a><text fill=\"#000000\" font-family=\"sans-serif\" font-size=\"14\" lengthAdjust=\"spacingAndGlyphs\" textLength=\"48\" x=\"582\" y=\"100.6982\">charge</text><rect fill=\"#383838\" height=\"12\" style=\"stroke: #F8F8F8; stroke-width: 1.5;\" width=\"12\" x=\"600\" y=\"116\"/><polygon fill=\"#F8F8F8\" points=\"267,312,279,324,267,336,255,324,267,312\" style=\"stroke: #383838; stroke-width: 1.5;\"/><!--MD5=[1acd208aae0a17fcb597ebec3d0ce2e2]\n",
       "entity E9--><a href=\"psysml:7df4d333-6319-46ba-9f79-ba8ec4cd71a8\" target=\"_top\" title=\"psysml:7df4d333-6319-46ba-9f79-ba8ec4cd71a8\" xlink:actuate=\"onRequest\" xlink:href=\"psysml:7df4d333-6319-46ba-9f79-ba8ec4cd71a8\" xlink:show=\"new\" xlink:title=\"psysml:7df4d333-6319-46ba-9f79-ba8ec4cd71a8\" xlink:type=\"simple\"><polygon fill=\"#F8F8F8\" points=\"255,413,255,467.5938,437,467.5938,417,440.2969,437,413\" style=\"stroke: #000000; stroke-width: 1.5;\"/><text fill=\"#000000\" font-family=\"sans-serif\" font-size=\"14\" font-style=\"italic\" lengthAdjust=\"spacingAndGlyphs\" textLength=\"111\" x=\"283\" y=\"435.9951\">«accept action»</text><text fill=\"#000000\" font-family=\"sans-serif\" font-size=\"14\" lengthAdjust=\"spacingAndGlyphs\" textLength=\"141\" x=\"268\" y=\"453.292\">batteryCharge : Real</text></a><polygon fill=\"#F8F8F8\" points=\"346,529,358,541,346,553,334,541,346,529\" style=\"stroke: #383838; stroke-width: 1.5;\"/><!--MD5=[3822a2a4541e754d1dc15080999c19ba]\n",
       "entity E13--><a href=\"psysml:ed01c63d-f8a6-4cf1-830b-5cf875e4f829\" target=\"_top\" title=\"psysml:ed01c63d-f8a6-4cf1-830b-5cf875e4f829\" xlink:actuate=\"onRequest\" xlink:href=\"psysml:ed01c63d-f8a6-4cf1-830b-5cf875e4f829\" xlink:show=\"new\" xlink:title=\"psysml:ed01c63d-f8a6-4cf1-830b-5cf875e4f829\" xlink:type=\"simple\"><polygon fill=\"#F8F8F8\" points=\"300.5,630,300.5,684.5938,439.5,684.5938,459.5,657.2969,439.5,630\" style=\"stroke: #000000; stroke-width: 1.5;\"/><text fill=\"#000000\" font-family=\"sans-serif\" font-size=\"14\" font-style=\"italic\" lengthAdjust=\"spacingAndGlyphs\" textLength=\"99\" x=\"323\" y=\"652.9951\">«send action»</text><text fill=\"#000000\" font-family=\"sans-serif\" font-size=\"14\" lengthAdjust=\"spacingAndGlyphs\" textLength=\"118\" x=\"313.5\" y=\"670.292\">BatteryCharged()</text></a><ellipse cx=\"267\" cy=\"223.5\" fill=\"#000000\" rx=\"10\" ry=\"10\" style=\"stroke: none; stroke-width: 1.0;\"/><ellipse cx=\"380\" cy=\"785\" fill=\"none\" rx=\"10\" ry=\"10\" style=\"stroke: #000000; stroke-width: 1.0;\"/><ellipse cx=\"380.5\" cy=\"785.5\" fill=\"#000000\" rx=\"6\" ry=\"6\" style=\"stroke: none; stroke-width: 1.0;\"/><text fill=\"#000000\" font-family=\"sans-serif\" font-size=\"14\" lengthAdjust=\"spacingAndGlyphs\" textLength=\"98\" x=\"360\" y=\"100.6982\">batteryCharge</text><rect fill=\"#383838\" height=\"12\" style=\"stroke: #F8F8F8; stroke-width: 1.5;\" width=\"12\" x=\"403\" y=\"116\"/><g id=\"E1.E7.E14\"><a href=\"psysml:e707ce77-0392-4948-825a-c262842e2216\" target=\"_top\" title=\"psysml:e707ce77-0392-4948-825a-c262842e2216\" xlink:actuate=\"onRequest\" xlink:href=\"psysml:e707ce77-0392-4948-825a-c262842e2216\" xlink:show=\"new\" xlink:title=\"psysml:e707ce77-0392-4948-825a-c262842e2216\" xlink:type=\"simple\"><rect fill=\"#FFFFFF\" height=\"42.9375\" id=\"E14\" rx=\"10\" ry=\"10\" style=\"stroke: #383838; stroke-width: 1.5;\" width=\"60\" x=\"258\" y=\"100.5\"/><rect fill=\"#F8F8F8\" height=\"37.9375\" rx=\"10\" ry=\"10\" style=\"stroke: #F8F8F8; stroke-width: 1.5;\" width=\"60\" x=\"258\" y=\"100.5\"/><rect fill=\"#F8F8F8\" height=\"10\" style=\"stroke: #F8F8F8; stroke-width: 1.5;\" width=\"60\" x=\"258\" y=\"128.4375\"/><rect fill=\"none\" height=\"42.9375\" id=\"E14\" rx=\"10\" ry=\"10\" style=\"stroke: #383838; stroke-width: 1.5;\" width=\"60\" x=\"258\" y=\"100.5\"/><text fill=\"#000000\" font-family=\"sans-serif\" font-size=\"12\" font-style=\"italic\" lengthAdjust=\"spacingAndGlyphs\" textLength=\"53\" x=\"261.5\" y=\"116.6387\">«action»</text><text fill=\"#000000\" font-family=\"sans-serif\" font-size=\"12\" lengthAdjust=\"spacingAndGlyphs\" textLength=\"32\" x=\"272\" y=\"130.6074\">done</text></a></g><!--MD5=[55ebfa55a3826719a7ecf4e8d8b814eb]\n",
       "link *start*E7 to E8--><a href=\"psysml:93829770-1f02-48cc-81f0-76dae3f9d720\" target=\"_top\" title=\"psysml:93829770-1f02-48cc-81f0-76dae3f9d720\" xlink:actuate=\"onRequest\" xlink:href=\"psysml:93829770-1f02-48cc-81f0-76dae3f9d720\" xlink:show=\"new\" xlink:title=\"psysml:93829770-1f02-48cc-81f0-76dae3f9d720\" xlink:type=\"simple\"><path d=\"M267,233.59 C267,250.2 267,285.68 267,306.61 \" fill=\"none\" id=\"*start*E7-&gt;E8\" style=\"stroke: #383838; stroke-width: 1.0;\"/><polygon fill=\"#383838\" points=\"267,311.84,271,302.84,267,306.84,263,302.84,267,311.84\" style=\"stroke: #383838; stroke-width: 1.0;\"/></a><!--MD5=[15372006ba9e3e6d6e5422c2255cdbb7]\n",
       "link E13 to *end*E7--><a href=\"psysml:87ffd7e3-908a-4420-9ac9-3f374fc6e5d7\" target=\"_top\" title=\"psysml:87ffd7e3-908a-4420-9ac9-3f374fc6e5d7\" xlink:actuate=\"onRequest\" xlink:href=\"psysml:87ffd7e3-908a-4420-9ac9-3f374fc6e5d7\" xlink:show=\"new\" xlink:title=\"psysml:87ffd7e3-908a-4420-9ac9-3f374fc6e5d7\" xlink:type=\"simple\"><path d=\"M380,685.12 C380,711.01 380,749.35 380,769.85 \" fill=\"none\" id=\"E13-&gt;*end*E7\" style=\"stroke: #383838; stroke-width: 1.0;\"/><polygon fill=\"#383838\" points=\"380,774.9,384,765.9,380,769.9,376,765.9,380,774.9\" style=\"stroke: #383838; stroke-width: 1.0;\"/></a><!--MD5=[ed10624c06dd9a4fa49ccf290e8b16a8]\n",
       "link E8 to E9--><a href=\"psysml:d7d036f2-75b2-4306-a2b2-6e7bad118ace\" target=\"_top\" title=\"psysml:d7d036f2-75b2-4306-a2b2-6e7bad118ace\" xlink:actuate=\"onRequest\" xlink:href=\"psysml:d7d036f2-75b2-4306-a2b2-6e7bad118ace\" xlink:show=\"new\" xlink:title=\"psysml:d7d036f2-75b2-4306-a2b2-6e7bad118ace\" xlink:type=\"simple\"><path d=\"M264.25,333.44 C260.91,345.27 256.7,367.1 265,383 C270.41,393.37 278.7,402.23 287.94,409.65 \" fill=\"none\" id=\"E8-&gt;E9\" style=\"stroke: #383838; stroke-width: 1.0;\"/><polygon fill=\"#383838\" points=\"291.95,412.74,287.2537,404.0829,287.9863,409.6921,282.3771,410.4248,291.95,412.74\" style=\"stroke: #383838; stroke-width: 1.0;\"/><text fill=\"#000000\" font-family=\"sans-serif\" font-size=\"13\" lengthAdjust=\"spacingAndGlyphs\" textLength=\"7\" x=\"272.3609\" y=\"402.1527\">*</text></a><!--MD5=[35e5f1cbde42fa304a029880aa2bc7f2]\n",
       "link E9 to E10--><a href=\"psysml:2235aff9-a4a9-4ee4-b09b-e7ae43ea48b5\" target=\"_top\" title=\"psysml:2235aff9-a4a9-4ee4-b09b-e7ae43ea48b5\" xlink:actuate=\"onRequest\" xlink:href=\"psysml:2235aff9-a4a9-4ee4-b09b-e7ae43ea48b5\" xlink:show=\"new\" xlink:title=\"psysml:2235aff9-a4a9-4ee4-b09b-e7ae43ea48b5\" xlink:type=\"simple\"><path d=\"M346,468.16 C346,485.92 346,508.68 346,523.77 \" fill=\"none\" id=\"E9-&gt;E10\" style=\"stroke: #383838; stroke-width: 1.0;\"/><polygon fill=\"#383838\" points=\"346,528.96,350,519.96,346,523.96,342,519.96,346,528.96\" style=\"stroke: #383838; stroke-width: 1.0;\"/><text fill=\"#000000\" font-family=\"sans-serif\" font-size=\"13\" lengthAdjust=\"spacingAndGlyphs\" textLength=\"7\" x=\"337.5563\" y=\"517.994\">*</text></a><!--MD5=[7e01d6273c142173bd6ca4b66f8f251a]\n",
       "link E10 to E11--><a href=\"psysml:fec7c9d8-e61c-4b3a-9869-f88f0125a501\" target=\"_top\" title=\"psysml:fec7c9d8-e61c-4b3a-9869-f88f0125a501\" xlink:actuate=\"onRequest\" xlink:href=\"psysml:fec7c9d8-e61c-4b3a-9869-f88f0125a501\" xlink:show=\"new\" xlink:title=\"psysml:fec7c9d8-e61c-4b3a-9869-f88f0125a501\" xlink:type=\"simple\"><path d=\"M354.63,537.44 C376.33,530.48 432.98,508.94 455,468 C475.735,429.45 472.72,383.0775 461.5588,341.19 C455.9781,320.2463 448.3609,300.4238 440.6577,283.2609 C438.7318,278.9702 436.8006,274.8458 434.8945,270.9116 C433.9415,268.9445 432.9947,267.0249 432.058,265.156 \" fill=\"none\" id=\"E10-&gt;E11\" style=\"stroke: #383838; stroke-width: 1.0;\"/><polygon fill=\"#383838\" points=\"432.058,265.156,432.5145,274.9942,434.2983,269.626,439.6666,271.4097,432.058,265.156\" style=\"stroke: #383838; stroke-width: 1.0;\"/><text fill=\"#000000\" font-family=\"sans-serif\" font-size=\"13\" lengthAdjust=\"spacingAndGlyphs\" textLength=\"203\" x=\"470\" y=\"379.0669\">[monitor::batteryCharge &lt; 100]</text><text fill=\"#000000\" font-family=\"sans-serif\" font-size=\"13\" lengthAdjust=\"spacingAndGlyphs\" textLength=\"7\" x=\"412.24\" y=\"253.3569\">*</text></a><!--MD5=[74b78f105e346754c1f4f010190a9055]\n",
       "link E10 to E13--><a href=\"psysml:1b2c6633-ec75-4c0e-a835-c052050c15e1\" target=\"_top\" title=\"psysml:1b2c6633-ec75-4c0e-a835-c052050c15e1\" xlink:actuate=\"onRequest\" xlink:href=\"psysml:1b2c6633-ec75-4c0e-a835-c052050c15e1\" xlink:show=\"new\" xlink:title=\"psysml:1b2c6633-ec75-4c0e-a835-c052050c15e1\" xlink:type=\"simple\"><path d=\"M348.56,550.61 C353.16,566.11 363.06,599.46 370.53,624.62 \" fill=\"none\" id=\"E10-&gt;E13\" style=\"stroke: #383838; stroke-width: 1.0;\"/><polygon fill=\"#383838\" points=\"371.99,629.53,373.2565,619.7629,370.5637,624.7377,365.5889,622.0449,371.99,629.53\" style=\"stroke: #383838; stroke-width: 1.0;\"/><text fill=\"#000000\" font-family=\"sans-serif\" font-size=\"13\" lengthAdjust=\"spacingAndGlyphs\" textLength=\"214\" x=\"364\" y=\"596.0669\">[monitor::batteryCharge &gt;= 100]</text><text fill=\"#000000\" font-family=\"sans-serif\" font-size=\"13\" lengthAdjust=\"spacingAndGlyphs\" textLength=\"7\" x=\"362.4722\" y=\"618.8968\">*</text></a><!--MD5=[3aca6b7b240bdf4fa74e86e8d4be9f1e]\n",
       "link E11 to E8--><a href=\"psysml:d2292a26-53fb-471c-af60-789d327d17a9\" target=\"_top\" title=\"psysml:d2292a26-53fb-471c-af60-789d327d17a9\" xlink:actuate=\"onRequest\" xlink:href=\"psysml:d2292a26-53fb-471c-af60-789d327d17a9\" xlink:show=\"new\" xlink:title=\"psysml:d2292a26-53fb-471c-af60-789d327d17a9\" xlink:type=\"simple\"><path d=\"M367.572,265.0484 C367.5138,265.0887 367.4555,265.1288 367.3971,265.169 C367.2805,265.2492 367.1637,265.3292 367.0467,265.4091 C366.579,265.7283 366.1093,266.0441 365.6377,266.3563 C361.8644,268.8531 357.9675,271.1125 354,273 C334.47,282.29 325.04,270.75 306,281 C292.48,288.28 281.08,302.05 274.17,311.84 \" fill=\"none\" id=\"E11-&gt;E8\" style=\"stroke: #383838; stroke-width: 1.0;\"/><polygon fill=\"#383838\" points=\"271.31,316.02,279.6844,310.8364,274.1262,311.8886,273.0741,306.3304,271.31,316.02\" style=\"stroke: #383838; stroke-width: 1.0;\"/><text fill=\"#000000\" font-family=\"sans-serif\" font-size=\"13\" lengthAdjust=\"spacingAndGlyphs\" textLength=\"7\" x=\"264.9479\" y=\"300.9487\">*</text></a><!--MD5=[017847e01ff9a8bd19f247411074f987]\n",
       "link E13 to E4--><a href=\"psysml:ed01c63d-f8a6-4cf1-830b-5cf875e4f829\" target=\"_top\" title=\"psysml:ed01c63d-f8a6-4cf1-830b-5cf875e4f829\" xlink:actuate=\"onRequest\" xlink:href=\"psysml:ed01c63d-f8a6-4cf1-830b-5cf875e4f829\" xlink:show=\"new\" xlink:title=\"psysml:ed01c63d-f8a6-4cf1-830b-5cf875e4f829\" xlink:type=\"simple\"><path d=\"M422.84,685.12 C457.11,706.41 504.94,736.13 539.21,757.41 \" fill=\"none\" id=\"E13-&gt;E4\" style=\"stroke: #383838; stroke-width: 1.0; stroke-dasharray: 7.0,7.0;\"/><polygon fill=\"#383838\" points=\"546.3,761.82,541.0804,755.0557,537.9197,760.1557,546.3,761.82\" style=\"stroke: #383838; stroke-width: 1.0;\"/><text fill=\"#000000\" font-family=\"sans-serif\" font-size=\"13\" lengthAdjust=\"spacingAndGlyphs\" textLength=\"64\" x=\"494\" y=\"728.0669\">«send to»</text><text fill=\"#000000\" font-family=\"sans-serif\" font-size=\"13\" lengthAdjust=\"spacingAndGlyphs\" textLength=\"7\" x=\"529.255\" y=\"751.0502\">*</text></a><!--MD5=[02fd93ac1d3d694a3afca407933e07b7]\n",
       "@startuml\r\n",
       "skinparam monochrome true\r\n",
       "skinparam classbackgroundcolor white\r\n",
       "skinparam shadowing false\r\n",
       "skinparam wrapWidth 300\r\n",
       "hide circle\r\n",
       "\r\n",
       "package \"Decision Example\" as E1  [[psysml:7c2efc90-b0c0-4ed6-9737-2462d8f4c70e ]]  {\r\n",
       "comp def \"BatteryCharged\" as E2  <<(T,blue) attribute def>> [[psysml:e2c008ef-72d7-4a52-9987-4acf8dd3aab4 ]] {\r\n",
       "}\r\n",
       "comp usage \"battery\" as E3  <<(T,blue) part>> [[psysml:d71068cc-bdd8-4a67-8df3-aa7d53520505 ]] {\r\n",
       "}\r\n",
       "comp usage \"powerSystem\" as E4  <<(T,blue) part>> [[psysml:ae12ab5d-1416-4373-9f91-c14adb9498c7 ]] {\r\n",
       "}\r\n",
       "rec def \"AddCharge\" as E5  <<(T,blue) action def>> [[psysml:0816cbe2-e47c-4ee6-82bc-1fb1bbb22b7b ]] {\r\n",
       "portin \"charge\" as E6  [[psysml:17aadab1-85cb-4adc-98cb-41b48996d2ea ]] \r\n",
       "}\r\n",
       "\r\n",
       "rec def \"ChargeBattery\" as E7  <<(T,blue) action def>> [[psysml:cc1b0e6b-643f-4d90-9121-5788fd06e645 ]] {\r\n",
       "choice \"continueCharging\" as E8  [[psysml:24f351b9-dd97-427a-90b2-d1c1f5e2ac9b ]] \r\n",
       "accept \" batteryCharge : Real\" as E9 << accept action>> [[psysml:7df4d333-6319-46ba-9f79-ba8ec4cd71a8 ]] \r\n",
       "choice \"noname\" as E10  [[psysml:7d51278b-cea2-43a3-b653-4f9bf3978662 ]] \r\n",
       "rec usage \"addCharge\" as E11  <<(T,blue) action>> [[psysml:cc0658a4-dbe6-4975-a80f-dbdcd7ca8914 ]] {\r\n",
       "portin \"batteryCharge\" as E12  [[psysml:97d9e1f8-373b-472a-95aa-8a29ebb6ed90 ]] \r\n",
       "}\r\n",
       "\r\n",
       "send \" BatteryCharged()\" as E13 << send action>> [[psysml:ed01c63d-f8a6-4cf1-830b-5cf875e4f829 ]] \r\n",
       "rec usage \"done\" as E14  <<(T,blue) action>> [[psysml:e707ce77-0392-4948-825a-c262842e2216 ]] {\r\n",
       "}\r\n",
       "\r\n",
       "[*] - -> E8 [[psysml:93829770-1f02-48cc-81f0-76dae3f9d720 ]] \r\n",
       "E13 - -> [*] [[psysml:87ffd7e3-908a-4420-9ac9-3f374fc6e5d7 ]] \r\n",
       "}\r\n",
       "\r\n",
       "E8 - -> \"*\"E9 [[psysml:d7d036f2-75b2-4306-a2b2-6e7bad118ace ]] \r\n",
       "E9 - -> \"*\"E10 [[psysml:2235aff9-a4a9-4ee4-b09b-e7ae43ea48b5 ]] \r\n",
       "E10  - -> \"*\"E11 [[psysml:fec7c9d8-e61c-4b3a-9869-f88f0125a501 ]] : [monitor::batteryCharge < 100]\r\n",
       "E10  - -> \"*\"E13 [[psysml:1b2c6633-ec75-4c0e-a835-c052050c15e1 ]] : [monitor::batteryCharge >= 100]\r\n",
       "E11 - -> \"*\"E8 [[psysml:d2292a26-53fb-471c-af60-789d327d17a9 ]] \r\n",
       "E13 ..>> \"*\"E4 [[psysml:ed01c63d-f8a6-4cf1-830b-5cf875e4f829 ]] : <<send to>>\r\n",
       "}\r\n",
       "@enduml\r\n",
       "\n",
       "PlantUML version 1.2020.13(Sat Jun 13 12:26:38 UTC 2020)\n",
       "(EPL source distribution)\n",
       "Java Runtime: OpenJDK Runtime Environment\n",
       "JVM: OpenJDK 64-Bit Server VM\n",
       "Default Encoding: UTF-8\n",
       "Language: en\n",
       "Country: null\n",
       "--></g></svg>"
      ]
     },
     "execution_count": 2,
     "metadata": {},
     "output_type": "execute_result"
    }
   ],
   "source": [
    "%viz \"Decision Example\""
   ]
  },
  {
   "cell_type": "code",
   "execution_count": null,
   "id": "attractive-grain",
   "metadata": {},
   "outputs": [],
   "source": []
  }
 ],
 "metadata": {
  "kernelspec": {
   "display_name": "SysML",
   "language": "sysml",
   "name": "sysml"
  },
  "language_info": {
   "codemirror_mode": "sysml",
   "file_extension": ".sysml",
   "mimetype": "text/x-sysml",
   "name": "SysML",
   "pygments_lexer": "java",
   "version": "1.0.0"
  }
 },
 "nbformat": 4,
 "nbformat_minor": 5
}
