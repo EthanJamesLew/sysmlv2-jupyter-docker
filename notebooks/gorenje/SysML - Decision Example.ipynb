{
 "cells": [
  {
   "cell_type": "markdown",
   "id": "split-wealth",
   "metadata": {},
   "source": [
    "## Decision Example\n",
    "\n",
    "Taken from the [training](/lab/tree/sysml/src/training/19.%20Control/Decision%20Example.sysml) directory."
   ]
  },
  {
   "cell_type": "code",
   "execution_count": 1,
   "id": "secondary-canada",
   "metadata": {
    "execution": {
     "iopub.execute_input": "2021-10-03T08:26:12.896463Z",
     "iopub.status.busy": "2021-10-03T08:26:12.894911Z",
     "iopub.status.idle": "2021-10-03T08:26:13.426072Z",
     "shell.execute_reply": "2021-10-03T08:26:13.420424Z"
    }
   },
   "outputs": [
    {
     "name": "stdout",
     "output_type": "stream",
     "text": [
      "WARNING:Should be an accessible feature (use dot notation for nesting) (1.sysml line : 19 column : 7)"
     ]
    },
    {
     "name": "stdout",
     "output_type": "stream",
     "text": [
      "\n"
     ]
    },
    {
     "name": "stdout",
     "output_type": "stream",
     "text": [
      "WARNING:Should be an accessible feature (use dot notation for nesting) (1.sysml line : 19 column : 7)"
     ]
    },
    {
     "name": "stdout",
     "output_type": "stream",
     "text": [
      "\n"
     ]
    },
    {
     "name": "stdout",
     "output_type": "stream",
     "text": [
      "WARNING:Should be an accessible feature (use dot notation for nesting) (1.sysml line : 20 column : 7)"
     ]
    },
    {
     "name": "stdout",
     "output_type": "stream",
     "text": [
      "\n"
     ]
    },
    {
     "name": "stdout",
     "output_type": "stream",
     "text": [
      "WARNING:Should be an accessible feature (use dot notation for nesting) (1.sysml line : 20 column : 7)"
     ]
    },
    {
     "name": "stdout",
     "output_type": "stream",
     "text": [
      "\n"
     ]
    },
    {
     "data": {
      "text/plain": [
       "Package Decision Example (f83b1192-50a9-4992-ab7e-23b00a70e8b9)\n"
      ]
     },
     "execution_count": 1,
     "metadata": {},
     "output_type": "execute_result"
    }
   ],
   "source": [
    "package 'Decision Example' {\n",
    "\timport ScalarValues::*;\n",
    "\t\n",
    "\tattribute def BatteryCharged;\n",
    "\t\n",
    "\tpart battery;\n",
    "\tpart powerSystem;\n",
    "\t\n",
    "\taction def AddCharge (in charge : Real);\n",
    "\t\n",
    "\taction def ChargeBattery {\n",
    "\t\tfirst start;\n",
    "\n",
    "\t\tthen merge continueCharging;\n",
    "\t\t\n",
    "\t\tthen action monitor accept batteryCharge : Real;\n",
    "\t\t\n",
    "\t\tthen decide;\n",
    "\t\t\tif monitor::batteryCharge < 100 then addCharge;\n",
    "\t\t\tif monitor::batteryCharge >= 100 then signalCharged;\n",
    "\t\t\t\n",
    "\t\taction addCharge : AddCharge (batteryCharge);\n",
    "\t\tthen continueCharging;\n",
    "\t\t\n",
    "\t\taction signalCharged send BatteryCharged() to powerSystem;\n",
    "\t\tthen done;\n",
    "\t}\n",
    "}"
   ]
  },
  {
   "cell_type": "code",
   "execution_count": 2,
   "id": "tamil-disease",
   "metadata": {
    "execution": {
     "iopub.execute_input": "2021-10-03T08:26:13.470269Z",
     "iopub.status.busy": "2021-10-03T08:26:13.469654Z",
     "iopub.status.idle": "2021-10-03T08:26:14.027513Z",
     "shell.execute_reply": "2021-10-03T08:26:14.027002Z"
    }
   },
   "outputs": [
    {
     "data": {
      "image/svg+xml": [
       "<?xml version=\"1.0\" encoding=\"UTF-8\" standalone=\"no\"?><svg xmlns=\"http://www.w3.org/2000/svg\" xmlns:xlink=\"http://www.w3.org/1999/xlink\" contentScriptType=\"application/ecmascript\" contentStyleType=\"text/css\" height=\"847px\" preserveAspectRatio=\"none\" style=\"width:710px;height:847px;\" version=\"1.1\" viewBox=\"0 0 710 847\" width=\"710px\" zoomAndPan=\"magnify\"><defs/><g><!--MD5=[fbc87193dbaf4d95561dea2c320d4a47]\n",
       "cluster E1--><a href=\"psysml:7587c7ec-62fb-400d-abe4-f76d8bf27396\" target=\"_top\" title=\"psysml:7587c7ec-62fb-400d-abe4-f76d8bf27396\" xlink:actuate=\"onRequest\" xlink:href=\"psysml:7587c7ec-62fb-400d-abe4-f76d8bf27396\" xlink:show=\"new\" xlink:title=\"psysml:7587c7ec-62fb-400d-abe4-f76d8bf27396\" xlink:type=\"simple\"><polygon fill=\"#FFFFFF\" points=\"16,6,144,6,151,28.2969,688,28.2969,688,835,16,835,16,6\" style=\"stroke: #000000; stroke-width: 1.5;\"/><line style=\"stroke: #000000; stroke-width: 1.5;\" x1=\"16\" x2=\"151\" y1=\"28.2969\" y2=\"28.2969\"/><text fill=\"#000000\" font-family=\"sans-serif\" font-size=\"14\" font-weight=\"bold\" lengthAdjust=\"spacingAndGlyphs\" textLength=\"122\" x=\"20\" y=\"20.9951\">Decision Example</text></a><!--MD5=[de5ec2e2e8f62f467e546659f5068c88]\n",
       "cluster E5--><a href=\"psysml:90611c92-53b1-476f-acc6-adefff689592\" target=\"_top\" title=\"psysml:90611c92-53b1-476f-acc6-adefff689592\" xlink:actuate=\"onRequest\" xlink:href=\"psysml:90611c92-53b1-476f-acc6-adefff689592\" xlink:show=\"new\" xlink:title=\"psysml:90611c92-53b1-476f-acc6-adefff689592\" xlink:type=\"simple\"><rect fill=\"#FFFFFF\" height=\"135\" id=\"E5\" style=\"stroke: #383838; stroke-width: 1.5;\" width=\"134\" x=\"538\" y=\"122\"/><rect fill=\"#F8F8F8\" height=\"37.9375\" style=\"stroke: #383838; stroke-width: 1.5;\" width=\"134\" x=\"538\" y=\"122\"/><text fill=\"#000000\" font-family=\"sans-serif\" font-size=\"12\" font-style=\"italic\" lengthAdjust=\"spacingAndGlyphs\" textLength=\"77\" x=\"566.5\" y=\"138.1387\">«action def»</text><text fill=\"#000000\" font-family=\"sans-serif\" font-size=\"12\" lengthAdjust=\"spacingAndGlyphs\" textLength=\"69\" x=\"570.5\" y=\"152.1074\">AddCharge</text></a><!--MD5=[168fadf3d0c3fd93dd5d6da1b1d7ab76]\n",
       "cluster E7--><a href=\"psysml:c35f8f12-c9c5-447f-bb82-9829e36b6e89\" target=\"_top\" title=\"psysml:c35f8f12-c9c5-447f-bb82-9829e36b6e89\" xlink:actuate=\"onRequest\" xlink:href=\"psysml:c35f8f12-c9c5-447f-bb82-9829e36b6e89\" xlink:show=\"new\" xlink:title=\"psysml:c35f8f12-c9c5-447f-bb82-9829e36b6e89\" xlink:type=\"simple\"><rect fill=\"#FFFFFF\" height=\"762\" id=\"E7\" style=\"stroke: #383838; stroke-width: 1.5;\" width=\"283\" x=\"239\" y=\"49\"/><rect fill=\"#F8F8F8\" height=\"37.9375\" style=\"stroke: #383838; stroke-width: 1.5;\" width=\"283\" x=\"239\" y=\"49\"/><text fill=\"#000000\" font-family=\"sans-serif\" font-size=\"12\" font-style=\"italic\" lengthAdjust=\"spacingAndGlyphs\" textLength=\"77\" x=\"342\" y=\"65.1387\">«action def»</text><text fill=\"#000000\" font-family=\"sans-serif\" font-size=\"12\" lengthAdjust=\"spacingAndGlyphs\" textLength=\"90\" x=\"335.5\" y=\"79.1074\">ChargeBattery</text></a><!--MD5=[917b9dd0c7eca3ee5f47219d1a84c0ad]\n",
       "cluster E11--><a href=\"psysml:c8c1d361-2dfa-4f13-bee6-a55ee0683acc\" target=\"_top\" title=\"psysml:c8c1d361-2dfa-4f13-bee6-a55ee0683acc\" xlink:actuate=\"onRequest\" xlink:href=\"psysml:c8c1d361-2dfa-4f13-bee6-a55ee0683acc\" xlink:show=\"new\" xlink:title=\"psysml:c8c1d361-2dfa-4f13-bee6-a55ee0683acc\" xlink:type=\"simple\"><rect fill=\"#FFFFFF\" height=\"143\" id=\"E11\" rx=\"10\" ry=\"10\" style=\"stroke: #383838; stroke-width: 1.5;\" width=\"140\" x=\"291\" y=\"122\"/><rect fill=\"#F8F8F8\" height=\"37.9375\" rx=\"10\" ry=\"10\" style=\"stroke: #F8F8F8; stroke-width: 1.5;\" width=\"140\" x=\"291\" y=\"122\"/><rect fill=\"#F8F8F8\" height=\"10\" style=\"stroke: #F8F8F8; stroke-width: 1.5;\" width=\"140\" x=\"291\" y=\"149.9375\"/><rect fill=\"none\" height=\"143\" id=\"E11\" rx=\"10\" ry=\"10\" style=\"stroke: #383838; stroke-width: 1.5;\" width=\"140\" x=\"291\" y=\"122\"/><text fill=\"#000000\" font-family=\"sans-serif\" font-size=\"12\" font-style=\"italic\" lengthAdjust=\"spacingAndGlyphs\" textLength=\"53\" x=\"334.5\" y=\"138.1387\">«action»</text><text fill=\"#000000\" font-family=\"sans-serif\" font-size=\"12\" lengthAdjust=\"spacingAndGlyphs\" textLength=\"69\" x=\"326.5\" y=\"152.1074\">addCharge</text><line style=\"stroke: #383838; stroke-width: 1.0;\" x1=\"291\" x2=\"431\" y1=\"159.9375\" y2=\"159.9375\"/></a><!--MD5=[b4997ac47864f28c2f74865a473b2911]\n",
       "class E2--><a href=\"psysml:329d93c4-cc38-4003-9a89-7436fa64494f\" target=\"_top\" title=\"psysml:329d93c4-cc38-4003-9a89-7436fa64494f\" xlink:actuate=\"onRequest\" xlink:href=\"psysml:329d93c4-cc38-4003-9a89-7436fa64494f\" xlink:show=\"new\" xlink:title=\"psysml:329d93c4-cc38-4003-9a89-7436fa64494f\" xlink:type=\"simple\"><rect fill=\"#FFFFFF\" height=\"45.9375\" id=\"E2\" style=\"stroke: #383838; stroke-width: 1.5;\" width=\"104\" x=\"119\" y=\"99\"/><text fill=\"#000000\" font-family=\"sans-serif\" font-size=\"12\" font-style=\"italic\" lengthAdjust=\"spacingAndGlyphs\" textLength=\"93\" x=\"124.5\" y=\"115.1387\">«attribute def»</text><text fill=\"#000000\" font-family=\"sans-serif\" font-size=\"12\" lengthAdjust=\"spacingAndGlyphs\" textLength=\"98\" x=\"122\" y=\"129.1074\">BatteryCharged</text><line style=\"stroke: #383838; stroke-width: 1.5;\" x1=\"120\" x2=\"222\" y1=\"136.9375\" y2=\"136.9375\"/></a><!--MD5=[09b614a08d8cba4a07c9adeb5e0fee81]\n",
       "class E3--><a href=\"psysml:ecfb7797-991e-4db6-aa8c-d4eba9dc9a7f\" target=\"_top\" title=\"psysml:ecfb7797-991e-4db6-aa8c-d4eba9dc9a7f\" xlink:actuate=\"onRequest\" xlink:href=\"psysml:ecfb7797-991e-4db6-aa8c-d4eba9dc9a7f\" xlink:show=\"new\" xlink:title=\"psysml:ecfb7797-991e-4db6-aa8c-d4eba9dc9a7f\" xlink:type=\"simple\"><rect fill=\"#FFFFFF\" height=\"45.9375\" id=\"E3\" rx=\"10\" ry=\"10\" style=\"stroke: #383838; stroke-width: 1.5;\" width=\"51\" x=\"32.5\" y=\"99\"/><text fill=\"#000000\" font-family=\"sans-serif\" font-size=\"12\" font-style=\"italic\" lengthAdjust=\"spacingAndGlyphs\" textLength=\"40\" x=\"38\" y=\"115.1387\">«part»</text><text fill=\"#000000\" font-family=\"sans-serif\" font-size=\"12\" lengthAdjust=\"spacingAndGlyphs\" textLength=\"45\" x=\"35.5\" y=\"129.1074\">battery</text><line style=\"stroke: #383838; stroke-width: 1.5;\" x1=\"33.5\" x2=\"82.5\" y1=\"136.9375\" y2=\"136.9375\"/></a><!--MD5=[ebbe1d658d1005bcc118a6aa81145e00]\n",
       "class E4--><a href=\"psysml:e035ecd1-9386-4451-b6d6-7969aa379c20\" target=\"_top\" title=\"psysml:e035ecd1-9386-4451-b6d6-7969aa379c20\" xlink:actuate=\"onRequest\" xlink:href=\"psysml:e035ecd1-9386-4451-b6d6-7969aa379c20\" xlink:show=\"new\" xlink:title=\"psysml:e035ecd1-9386-4451-b6d6-7969aa379c20\" xlink:type=\"simple\"><rect fill=\"#FFFFFF\" height=\"45.9375\" id=\"E4\" rx=\"10\" ry=\"10\" style=\"stroke: #383838; stroke-width: 1.5;\" width=\"89\" x=\"537.5\" y=\"762\"/><text fill=\"#000000\" font-family=\"sans-serif\" font-size=\"12\" font-style=\"italic\" lengthAdjust=\"spacingAndGlyphs\" textLength=\"40\" x=\"562\" y=\"778.1387\">«part»</text><text fill=\"#000000\" font-family=\"sans-serif\" font-size=\"12\" lengthAdjust=\"spacingAndGlyphs\" textLength=\"83\" x=\"540.5\" y=\"792.1074\">powerSystem</text><line style=\"stroke: #383838; stroke-width: 1.5;\" x1=\"538.5\" x2=\"625.5\" y1=\"799.9375\" y2=\"799.9375\"/></a><text fill=\"#000000\" font-family=\"sans-serif\" font-size=\"14\" lengthAdjust=\"spacingAndGlyphs\" textLength=\"48\" x=\"581\" y=\"100.6982\">charge</text><rect fill=\"#383838\" height=\"12\" style=\"stroke: #F8F8F8; stroke-width: 1.5;\" width=\"12\" x=\"599\" y=\"116\"/><polygon fill=\"#F8F8F8\" points=\"267,312,279,324,267,336,255,324,267,312\" style=\"stroke: #383838; stroke-width: 1.5;\"/><!--MD5=[1acd208aae0a17fcb597ebec3d0ce2e2]\n",
       "entity E9--><a href=\"psysml:32474606-9655-4407-8a8a-27fb868b6e27\" target=\"_top\" title=\"psysml:32474606-9655-4407-8a8a-27fb868b6e27\" xlink:actuate=\"onRequest\" xlink:href=\"psysml:32474606-9655-4407-8a8a-27fb868b6e27\" xlink:show=\"new\" xlink:title=\"psysml:32474606-9655-4407-8a8a-27fb868b6e27\" xlink:type=\"simple\"><polygon fill=\"#F8F8F8\" points=\"255,413,255,467.5938,437,467.5938,417,440.2969,437,413\" style=\"stroke: #000000; stroke-width: 1.5;\"/><text fill=\"#000000\" font-family=\"sans-serif\" font-size=\"14\" font-style=\"italic\" lengthAdjust=\"spacingAndGlyphs\" textLength=\"111\" x=\"283\" y=\"435.9951\">«accept action»</text><text fill=\"#000000\" font-family=\"sans-serif\" font-size=\"14\" lengthAdjust=\"spacingAndGlyphs\" textLength=\"141\" x=\"268\" y=\"453.292\">batteryCharge : Real</text></a><polygon fill=\"#F8F8F8\" points=\"346,529,358,541,346,553,334,541,346,529\" style=\"stroke: #383838; stroke-width: 1.5;\"/><!--MD5=[3822a2a4541e754d1dc15080999c19ba]\n",
       "entity E13--><a href=\"psysml:41a06191-04a7-4aca-9749-9beb45afda22\" target=\"_top\" title=\"psysml:41a06191-04a7-4aca-9749-9beb45afda22\" xlink:actuate=\"onRequest\" xlink:href=\"psysml:41a06191-04a7-4aca-9749-9beb45afda22\" xlink:show=\"new\" xlink:title=\"psysml:41a06191-04a7-4aca-9749-9beb45afda22\" xlink:type=\"simple\"><polygon fill=\"#F8F8F8\" points=\"300.5,630,300.5,684.5938,439.5,684.5938,459.5,657.2969,439.5,630\" style=\"stroke: #000000; stroke-width: 1.5;\"/><text fill=\"#000000\" font-family=\"sans-serif\" font-size=\"14\" font-style=\"italic\" lengthAdjust=\"spacingAndGlyphs\" textLength=\"99\" x=\"323\" y=\"652.9951\">«send action»</text><text fill=\"#000000\" font-family=\"sans-serif\" font-size=\"14\" lengthAdjust=\"spacingAndGlyphs\" textLength=\"118\" x=\"313.5\" y=\"670.292\">BatteryCharged()</text></a><ellipse cx=\"265\" cy=\"223.5\" fill=\"#000000\" rx=\"10\" ry=\"10\" style=\"stroke: none; stroke-width: 1.0;\"/><ellipse cx=\"380\" cy=\"785\" fill=\"none\" rx=\"10\" ry=\"10\" style=\"stroke: #000000; stroke-width: 1.0;\"/><ellipse cx=\"380.5\" cy=\"785.5\" fill=\"#000000\" rx=\"6\" ry=\"6\" style=\"stroke: none; stroke-width: 1.0;\"/><text fill=\"#000000\" font-family=\"sans-serif\" font-size=\"14\" lengthAdjust=\"spacingAndGlyphs\" textLength=\"98\" x=\"312\" y=\"100.6982\">batteryCharge</text><rect fill=\"#383838\" height=\"12\" style=\"stroke: #F8F8F8; stroke-width: 1.5;\" width=\"12\" x=\"355\" y=\"116\"/><!--MD5=[55ebfa55a3826719a7ecf4e8d8b814eb]\n",
       "link *start*E7 to E8--><a href=\"psysml:66408fe9-ba0b-47bb-b919-8d6513249f0b\" target=\"_top\" title=\"psysml:66408fe9-ba0b-47bb-b919-8d6513249f0b\" xlink:actuate=\"onRequest\" xlink:href=\"psysml:66408fe9-ba0b-47bb-b919-8d6513249f0b\" xlink:show=\"new\" xlink:title=\"psysml:66408fe9-ba0b-47bb-b919-8d6513249f0b\" xlink:type=\"simple\"><path d=\"M265.18,233.59 C265.52,250.29 266.25,286.06 266.67,306.94 \" fill=\"none\" id=\"*start*E7-&gt;E8\" style=\"stroke: #383838; stroke-width: 1.0;\"/><polygon fill=\"#383838\" points=\"266.78,312.15,270.5992,303.0718,266.68,307.151,262.6008,303.2318,266.78,312.15\" style=\"stroke: #383838; stroke-width: 1.0;\"/></a><!--MD5=[15372006ba9e3e6d6e5422c2255cdbb7]\n",
       "link E13 to *end*E7--><a href=\"psysml:bfca0f23-1070-4af1-9b8b-f57c00b1e291\" target=\"_top\" title=\"psysml:bfca0f23-1070-4af1-9b8b-f57c00b1e291\" xlink:actuate=\"onRequest\" xlink:href=\"psysml:bfca0f23-1070-4af1-9b8b-f57c00b1e291\" xlink:show=\"new\" xlink:title=\"psysml:bfca0f23-1070-4af1-9b8b-f57c00b1e291\" xlink:type=\"simple\"><path d=\"M380,685.12 C380,711.01 380,749.35 380,769.85 \" fill=\"none\" id=\"E13-&gt;*end*E7\" style=\"stroke: #383838; stroke-width: 1.0;\"/><polygon fill=\"#383838\" points=\"380,774.9,384,765.9,380,769.9,376,765.9,380,774.9\" style=\"stroke: #383838; stroke-width: 1.0;\"/></a><!--MD5=[ed10624c06dd9a4fa49ccf290e8b16a8]\n",
       "link E8 to E9--><a href=\"psysml:09dce844-be5d-4ee4-ad3b-3d1431cde161\" target=\"_top\" title=\"psysml:09dce844-be5d-4ee4-ad3b-3d1431cde161\" xlink:actuate=\"onRequest\" xlink:href=\"psysml:09dce844-be5d-4ee4-ad3b-3d1431cde161\" xlink:show=\"new\" xlink:title=\"psysml:09dce844-be5d-4ee4-ad3b-3d1431cde161\" xlink:type=\"simple\"><path d=\"M264.25,333.44 C260.91,345.27 256.7,367.1 265,383 C270.41,393.37 278.7,402.23 287.94,409.65 \" fill=\"none\" id=\"E8-&gt;E9\" style=\"stroke: #383838; stroke-width: 1.0;\"/><polygon fill=\"#383838\" points=\"291.95,412.74,287.2537,404.0829,287.9863,409.6921,282.3771,410.4248,291.95,412.74\" style=\"stroke: #383838; stroke-width: 1.0;\"/><text fill=\"#000000\" font-family=\"sans-serif\" font-size=\"13\" lengthAdjust=\"spacingAndGlyphs\" textLength=\"7\" x=\"272.3609\" y=\"402.1527\">*</text></a><!--MD5=[35e5f1cbde42fa304a029880aa2bc7f2]\n",
       "link E9 to E10--><a href=\"psysml:6c23d835-e608-41ec-bcd7-5a28709467d5\" target=\"_top\" title=\"psysml:6c23d835-e608-41ec-bcd7-5a28709467d5\" xlink:actuate=\"onRequest\" xlink:href=\"psysml:6c23d835-e608-41ec-bcd7-5a28709467d5\" xlink:show=\"new\" xlink:title=\"psysml:6c23d835-e608-41ec-bcd7-5a28709467d5\" xlink:type=\"simple\"><path d=\"M346,468.16 C346,485.92 346,508.68 346,523.77 \" fill=\"none\" id=\"E9-&gt;E10\" style=\"stroke: #383838; stroke-width: 1.0;\"/><polygon fill=\"#383838\" points=\"346,528.96,350,519.96,346,523.96,342,519.96,346,528.96\" style=\"stroke: #383838; stroke-width: 1.0;\"/><text fill=\"#000000\" font-family=\"sans-serif\" font-size=\"13\" lengthAdjust=\"spacingAndGlyphs\" textLength=\"7\" x=\"337.5563\" y=\"517.994\">*</text></a><!--MD5=[7e01d6273c142173bd6ca4b66f8f251a]\n",
       "link E10 to E11--><a href=\"psysml:fe741c8b-aacf-4774-9dd5-2c36ed7547fa\" target=\"_top\" title=\"psysml:fe741c8b-aacf-4774-9dd5-2c36ed7547fa\" xlink:actuate=\"onRequest\" xlink:href=\"psysml:fe741c8b-aacf-4774-9dd5-2c36ed7547fa\" xlink:show=\"new\" xlink:title=\"psysml:fe741c8b-aacf-4774-9dd5-2c36ed7547fa\" xlink:type=\"simple\"><path d=\"M354.63,537.44 C376.33,530.48 432.98,508.94 455,468 C476.79,427.495 466.525,380.83 446.1975,339.2575 C436.0338,318.4713 423.3544,298.9581 410.9084,282.1247 C407.797,277.9163 404.7001,273.8754 401.6607,270.024 C400.9009,269.0612 400.1446,268.1102 399.3927,267.1713 C399.0167,266.7019 398.6417,266.2355 398.268,265.7723 C398.0811,265.5406 397.8945,265.3098 397.7082,265.0797 \" fill=\"none\" id=\"E10-&gt;E11\" style=\"stroke: #383838; stroke-width: 1.0;\"/><polygon fill=\"#383838\" points=\"397.7082,265.0797,400.2629,274.5914,400.8546,268.9656,406.4804,269.5573,397.7082,265.0797\" style=\"stroke: #383838; stroke-width: 1.0;\"/><text fill=\"#000000\" font-family=\"sans-serif\" font-size=\"13\" lengthAdjust=\"spacingAndGlyphs\" textLength=\"203\" x=\"463\" y=\"379.0669\">[monitor::batteryCharge &lt; 100]</text><text fill=\"#000000\" font-family=\"sans-serif\" font-size=\"13\" lengthAdjust=\"spacingAndGlyphs\" textLength=\"7\" x=\"370.02\" y=\"253.1369\">*</text></a><!--MD5=[74b78f105e346754c1f4f010190a9055]\n",
       "link E10 to E13--><a href=\"psysml:351705ad-606b-481f-8834-328baafb4fe5\" target=\"_top\" title=\"psysml:351705ad-606b-481f-8834-328baafb4fe5\" xlink:actuate=\"onRequest\" xlink:href=\"psysml:351705ad-606b-481f-8834-328baafb4fe5\" xlink:show=\"new\" xlink:title=\"psysml:351705ad-606b-481f-8834-328baafb4fe5\" xlink:type=\"simple\"><path d=\"M348.56,550.61 C353.16,566.11 363.06,599.46 370.53,624.62 \" fill=\"none\" id=\"E10-&gt;E13\" style=\"stroke: #383838; stroke-width: 1.0;\"/><polygon fill=\"#383838\" points=\"371.99,629.53,373.2565,619.7629,370.5637,624.7377,365.5889,622.0449,371.99,629.53\" style=\"stroke: #383838; stroke-width: 1.0;\"/><text fill=\"#000000\" font-family=\"sans-serif\" font-size=\"13\" lengthAdjust=\"spacingAndGlyphs\" textLength=\"214\" x=\"364\" y=\"596.0669\">[monitor::batteryCharge &gt;= 100]</text><text fill=\"#000000\" font-family=\"sans-serif\" font-size=\"13\" lengthAdjust=\"spacingAndGlyphs\" textLength=\"7\" x=\"362.4722\" y=\"618.8968\">*</text></a><!--MD5=[3aca6b7b240bdf4fa74e86e8d4be9f1e]\n",
       "link E11 to E8--><a href=\"psysml:ef4c92c1-ef76-4939-8ce4-97464ec89ca7\" target=\"_top\" title=\"psysml:ef4c92c1-ef76-4939-8ce4-97464ec89ca7\" xlink:actuate=\"onRequest\" xlink:href=\"psysml:ef4c92c1-ef76-4939-8ce4-97464ec89ca7\" xlink:show=\"new\" xlink:title=\"psysml:ef4c92c1-ef76-4939-8ce4-97464ec89ca7\" xlink:type=\"simple\"><path d=\"M321.2495,265.1089 C321.1444,265.2176 321.0393,265.3263 320.9342,265.4351 C319.2522,267.1754 317.5668,268.9229 315.8889,270.6667 C312.5331,274.1544 309.2075,277.6275 306,281 C295.51,292.03 283.63,304.88 275.77,313.43 \" fill=\"none\" id=\"E11-&gt;E8\" style=\"stroke: #383838; stroke-width: 1.0;\"/><polygon fill=\"#383838\" points=\"272.26,317.25,281.286,313.309,275.6347,313.5607,275.3831,307.9094,272.26,317.25\" style=\"stroke: #383838; stroke-width: 1.0;\"/><text fill=\"#000000\" font-family=\"sans-serif\" font-size=\"13\" lengthAdjust=\"spacingAndGlyphs\" textLength=\"7\" x=\"280.363\" y=\"301.1971\">*</text></a><!--MD5=[017847e01ff9a8bd19f247411074f987]\n",
       "link E13 to E4--><a href=\"psysml:41a06191-04a7-4aca-9749-9beb45afda22\" target=\"_top\" title=\"psysml:41a06191-04a7-4aca-9749-9beb45afda22\" xlink:actuate=\"onRequest\" xlink:href=\"psysml:41a06191-04a7-4aca-9749-9beb45afda22\" xlink:show=\"new\" xlink:title=\"psysml:41a06191-04a7-4aca-9749-9beb45afda22\" xlink:type=\"simple\"><path d=\"M422.84,685.12 C457.11,706.41 504.94,736.13 539.21,757.41 \" fill=\"none\" id=\"E13-&gt;E4\" style=\"stroke: #383838; stroke-width: 1.0; stroke-dasharray: 7.0,7.0;\"/><polygon fill=\"#383838\" points=\"546.3,761.82,541.0804,755.0557,537.9197,760.1557,546.3,761.82\" style=\"stroke: #383838; stroke-width: 1.0;\"/><text fill=\"#000000\" font-family=\"sans-serif\" font-size=\"13\" lengthAdjust=\"spacingAndGlyphs\" textLength=\"64\" x=\"494\" y=\"728.0669\">«send to»</text><text fill=\"#000000\" font-family=\"sans-serif\" font-size=\"13\" lengthAdjust=\"spacingAndGlyphs\" textLength=\"7\" x=\"529.255\" y=\"751.0502\">*</text></a><!--MD5=[947a2fce12b63ef67474a7f4a5808482]\n",
       "@startuml\r\n",
       "skinparam monochrome true\r\n",
       "skinparam classbackgroundcolor white\r\n",
       "skinparam shadowing false\r\n",
       "skinparam wrapWidth 300\r\n",
       "hide circle\r\n",
       "\r\n",
       "package \"Decision Example\" as E1  [[psysml:7587c7ec-62fb-400d-abe4-f76d8bf27396 ]]  {\r\n",
       "comp def \"BatteryCharged\" as E2  <<(T,blue) attribute def>> [[psysml:329d93c4-cc38-4003-9a89-7436fa64494f ]] {\r\n",
       "}\r\n",
       "comp usage \"battery\" as E3  <<(T,blue) part>> [[psysml:ecfb7797-991e-4db6-aa8c-d4eba9dc9a7f ]] {\r\n",
       "}\r\n",
       "comp usage \"powerSystem\" as E4  <<(T,blue) part>> [[psysml:e035ecd1-9386-4451-b6d6-7969aa379c20 ]] {\r\n",
       "}\r\n",
       "rec def \"AddCharge\" as E5  <<(T,blue) action def>> [[psysml:90611c92-53b1-476f-acc6-adefff689592 ]] {\r\n",
       "portin \"charge\" as E6  [[psysml:ac237fe4-10a3-425c-8b5b-756769d0bd1a ]] \r\n",
       "}\r\n",
       "\r\n",
       "rec def \"ChargeBattery\" as E7  <<(T,blue) action def>> [[psysml:c35f8f12-c9c5-447f-bb82-9829e36b6e89 ]] {\r\n",
       "choice \"continueCharging\" as E8  [[psysml:fe7eb042-273c-46ce-9f1d-40fb572d4b4c ]] \r\n",
       "accept \" batteryCharge : Real\" as E9 << accept action>> [[psysml:32474606-9655-4407-8a8a-27fb868b6e27 ]] \r\n",
       "choice \"<s>noname</s>\" as E10  [[psysml:d38c898d-e5f3-4f8a-890b-12781cac63b9 ]] \r\n",
       "rec usage \"addCharge\" as E11  <<(T,blue) action>> [[psysml:c8c1d361-2dfa-4f13-bee6-a55ee0683acc ]] {\r\n",
       "portin \"batteryCharge\" as E12  [[psysml:7f3de47b-7620-4ede-ac79-ada704b29f6e ]] \r\n",
       "}\r\n",
       "\r\n",
       "send \" BatteryCharged()\" as E13 << send action>> [[psysml:41a06191-04a7-4aca-9749-9beb45afda22 ]] \r\n",
       "[*] - -> E8 [[psysml:66408fe9-ba0b-47bb-b919-8d6513249f0b ]] \r\n",
       "E13 - -> [*] [[psysml:bfca0f23-1070-4af1-9b8b-f57c00b1e291 ]] \r\n",
       "}\r\n",
       "\r\n",
       "}\r\n",
       "E8 - -> \"*\"E9 [[psysml:09dce844-be5d-4ee4-ad3b-3d1431cde161 ]] \r\n",
       "E9 - -> \"*\"E10 [[psysml:6c23d835-e608-41ec-bcd7-5a28709467d5 ]] \r\n",
       "E10  - -> \"*\"E11 [[psysml:fe741c8b-aacf-4774-9dd5-2c36ed7547fa ]] : [monitor::batteryCharge < 100]\r\n",
       "E10  - -> \"*\"E13 [[psysml:351705ad-606b-481f-8834-328baafb4fe5 ]] : [monitor::batteryCharge >= 100]\r\n",
       "E11 - -> \"*\"E8 [[psysml:ef4c92c1-ef76-4939-8ce4-97464ec89ca7 ]] \r\n",
       "E13 ..>> \"*\"E4 [[psysml:41a06191-04a7-4aca-9749-9beb45afda22 ]] : <<send to>>\r\n",
       "@enduml\r\n",
       "\n",
       "PlantUML version 1.2020.13(Sat Jun 13 12:26:38 UTC 2020)\n",
       "(EPL source distribution)\n",
       "Java Runtime: OpenJDK Runtime Environment\n",
       "JVM: OpenJDK 64-Bit Server VM\n",
       "Default Encoding: UTF-8\n",
       "Language: en\n",
       "Country: null\n",
       "--></g></svg>"
      ]
     },
     "execution_count": 2,
     "metadata": {},
     "output_type": "execute_result"
    }
   ],
   "source": [
    "%viz \"Decision Example\""
   ]
  },
  {
   "cell_type": "code",
   "execution_count": null,
   "id": "attractive-grain",
   "metadata": {},
   "outputs": [],
   "source": []
  }
 ],
 "metadata": {
  "kernelspec": {
   "display_name": "SysML",
   "language": "sysml",
   "name": "sysml"
  },
  "language_info": {
   "codemirror_mode": "sysml",
   "file_extension": ".sysml",
   "mimetype": "text/x-sysml",
   "name": "SysML",
   "pygments_lexer": "java",
   "version": "1.0.0"
  }
 },
 "nbformat": 4,
 "nbformat_minor": 5
}
