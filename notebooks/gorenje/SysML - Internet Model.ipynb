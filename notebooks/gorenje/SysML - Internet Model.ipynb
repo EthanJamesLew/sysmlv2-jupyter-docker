{
 "cells": [
  {
   "cell_type": "markdown",
   "id": "28a8501f",
   "metadata": {},
   "source": [
    "## Internet Model\n",
    "\n",
    "Playground for how to model how the connections within the Internet might be modelled."
   ]
  },
  {
   "cell_type": "markdown",
   "id": "0c32c232",
   "metadata": {},
   "source": [
    "## Version 1\n",
    "\n",
    "Using connections as attributes. And using types to define specific devices."
   ]
  },
  {
   "cell_type": "code",
   "execution_count": 1,
   "id": "3167c580",
   "metadata": {
    "execution": {
     "iopub.execute_input": "2022-07-23T10:49:38.246657Z",
     "iopub.status.busy": "2022-07-23T10:49:38.245377Z",
     "iopub.status.idle": "2022-07-23T10:49:38.579581Z",
     "shell.execute_reply": "2022-07-23T10:49:38.579046Z"
    }
   },
   "outputs": [
    {
     "name": "stderr",
     "output_type": "stream",
     "text": [
      "ERROR:missing RULE_REGULAR_COMMENT at '/** Bluetooth, WiFi, 5G/4G ... so at least 3 wireless connections **/' (1.sysml line : 16 column : 13)"
     ]
    },
    {
     "name": "stderr",
     "output_type": "stream",
     "text": [
      "\n"
     ]
    },
    {
     "data": {
      "text/plain": []
     },
     "execution_count": 1,
     "metadata": {},
     "output_type": "execute_result"
    }
   ],
   "source": [
    "package InternetModel_v1 {\n",
    "    part def Data;\n",
    "    part def Device {\n",
    "        attribute connType: Connection[1.. * ];\n",
    "        attribute voltageIn: Electricity[1];\n",
    "    }\n",
    "    part def WiFiRouter :> Device {\n",
    "        attribute wirelessConnection : WirelessConnection[1..2];\n",
    "        attribute ethernetConnection : CableConnection[1..*];\n",
    "    }\n",
    "    part def DSLRouter :> Device {\n",
    "        attribute dslConnection : CableConnection[1];\n",
    "        attribute ethernetConnection : CableConnection[1..*];\n",
    "    }\n",
    "    part def MobileDevice :> Device {\n",
    "        doc /** Bluetooth, WiFi, 5G/4G ... so at least 3 wireless connections **/\n",
    "        attribute wirelessConnection : WirelessConnection[1..3];\n",
    "    }\n",
    "    attribute def Connection {\n",
    "        in item inData: Data;\n",
    "        out item outData: Data;\n",
    "    }\n",
    "    attribute def WirelessConnection :> Connection {\n",
    "        attribute frequency: SI::FrequencyUnit;\n",
    "    }\n",
    "    attribute def CableConnection :> Connection {\n",
    "        attribute wireCount: ScalarValues::Integer;\n",
    "    }\n",
    "    attribute def Electricity {\n",
    "        attribute voltage: ISQElectromagnetism::ElectricPotentialUnit;\n",
    "        attribute ampere: ISQElectromagnetism::ElectricChargeUnit;\n",
    "    }\n",
    "}"
   ]
  },
  {
   "cell_type": "code",
   "execution_count": 2,
   "id": "69999671",
   "metadata": {
    "execution": {
     "iopub.execute_input": "2022-07-23T10:49:38.630294Z",
     "iopub.status.busy": "2022-07-23T10:49:38.629757Z",
     "iopub.status.idle": "2022-07-23T10:49:38.635949Z",
     "shell.execute_reply": "2022-07-23T10:49:38.636408Z"
    }
   },
   "outputs": [
    {
     "data": {
      "text/plain": [
       "ERROR:Couldn't resolve reference to Element 'InternetModel_v1'\n"
      ]
     },
     "execution_count": 2,
     "metadata": {},
     "output_type": "execute_result"
    }
   ],
   "source": [
    "%viz InternetModel_v1"
   ]
  },
  {
   "cell_type": "markdown",
   "id": "d66fe8ec",
   "metadata": {},
   "source": [
    "## Version 2\n",
    "\n",
    "Using Ports to describe the end points of connections while using `connection` for connections between parts. Also using specific parts for specific devices, not part definitions."
   ]
  },
  {
   "cell_type": "code",
   "execution_count": 3,
   "id": "5267280b",
   "metadata": {
    "execution": {
     "iopub.execute_input": "2022-07-23T10:49:38.687220Z",
     "iopub.status.busy": "2022-07-23T10:49:38.686751Z",
     "iopub.status.idle": "2022-07-23T10:49:39.113098Z",
     "shell.execute_reply": "2022-07-23T10:49:39.109932Z"
    }
   },
   "outputs": [
    {
     "name": "stderr",
     "output_type": "stream",
     "text": [
      "ERROR:no viable alternative at input '[' (3.sysml line : 62 column : 42)"
     ]
    },
    {
     "name": "stderr",
     "output_type": "stream",
     "text": [
      "\n"
     ]
    },
    {
     "name": "stderr",
     "output_type": "stream",
     "text": [
      "ERROR:no viable alternative at input ']' (3.sysml line : 62 column : 46)"
     ]
    },
    {
     "name": "stderr",
     "output_type": "stream",
     "text": [
      "\n"
     ]
    },
    {
     "data": {
      "text/plain": []
     },
     "execution_count": 3,
     "metadata": {},
     "output_type": "execute_result"
    }
   ],
   "source": [
    "package InternetModel_v2 {\n",
    "    import ISQ::*;\n",
    "    import SI::*;    \n",
    "    import SIPrefixes::*;\n",
    "    import UnitsAndScales::ConversionByPrefix;\n",
    "    \n",
    "    attribute GHz: FrequencyUnit = FrequencyUnit(name => \"gigahertz\", unitConversion => ConversionByPrefix(prefix => giga, referenceUnit => Hz));    \n",
    "    attribute def StorageUnit;\n",
    "    attribute def SpeedUnit;\n",
    "    \n",
    "    enum def CurrentType {\n",
    "        enum DC;\n",
    "        enum AC;\n",
    "    }\n",
    "    \n",
    "    port def DataPort {\n",
    "        /* TODO: Should all be in terms of Bytes and Bytes/Seconds but for now integers */\n",
    "        attribute speed : SpeedUnit;\n",
    "        in attribute inData: ScalarValues::Integer;\n",
    "        out attribute outData: ScalarValues::Integer;\n",
    "    }\n",
    "    \n",
    "    attribute def ElectricityRating {\n",
    "        attribute voltage: ISQElectromagnetism::ElectricPotentialUnit;\n",
    "        attribute ampere: ISQElectromagnetism::ElectricChargeUnit;\n",
    "        attribute currentType : CurrentType;\n",
    "    }\n",
    "    \n",
    "    part def Device {\n",
    "        port dataPorts: DataPort[1..*];\n",
    "        attribute electricRating: ElectricityRating;\n",
    "    }\n",
    "    \n",
    "    part def Server {\n",
    "        port dataPorts: DataPort[1..*];\n",
    "        attribute electricRating: ElectricityRating;\n",
    "        attribute storage : StorageUnit;\n",
    "    }\n",
    "    \n",
    "    connection def DataConnection {\n",
    "        end: DataPort[1];\n",
    "        end: DataPort[1];\n",
    "    }\n",
    "    \n",
    "    connection def CableConnection :> DataConnection {\n",
    "        attribute wireCount: ScalarValues::Integer;\n",
    "    }\n",
    "    \n",
    "    connection def WirelessConnection :> DataConnection {\n",
    "        attribute frequency: SI::FrequencyUnit;\n",
    "    }\n",
    "\n",
    "    part dslEndpoint : Server {}\n",
    "    \n",
    "    part wifiRouter : Device {}\n",
    "    part dslRouter : Device {}\n",
    "    part mobileDevice : Device {}\n",
    "    \n",
    "    connection : WirelessConnection \n",
    "        connect mobileDevice::dataPorts[1]\n",
    "             to wifiRouter::dataPorts[1] {\n",
    "       attribute redefines frequency = 5@[GHz];\n",
    "    }\n",
    "    \n",
    "    connection : CableConnection \n",
    "        connect dslRouter::dataPorts[1] \n",
    "             to dslEndpoint::dataPorts[1] {\n",
    "       attribute redefines wireCount = 5;\n",
    "    }\n",
    "}"
   ]
  },
  {
   "cell_type": "code",
   "execution_count": 4,
   "id": "a6970242",
   "metadata": {
    "execution": {
     "iopub.execute_input": "2022-07-23T10:49:39.160262Z",
     "iopub.status.busy": "2022-07-23T10:49:39.159769Z",
     "iopub.status.idle": "2022-07-23T10:49:39.161879Z",
     "shell.execute_reply": "2022-07-23T10:49:39.161465Z"
    }
   },
   "outputs": [
    {
     "data": {
      "text/plain": [
       "ERROR:Couldn't resolve reference to Element 'InternetModel_v2'\n"
      ]
     },
     "execution_count": 4,
     "metadata": {},
     "output_type": "execute_result"
    }
   ],
   "source": [
    "%viz InternetModel_v2"
   ]
  }
 ],
 "metadata": {
  "kernelspec": {
   "display_name": "SysML",
   "language": "sysml",
   "name": "sysml"
  },
  "language_info": {
   "codemirror_mode": "sysml",
   "file_extension": ".sysml",
   "mimetype": "text/x-sysml",
   "name": "SysML",
   "pygments_lexer": "java",
   "version": "1.0.0"
  }
 },
 "nbformat": 4,
 "nbformat_minor": 5
}
