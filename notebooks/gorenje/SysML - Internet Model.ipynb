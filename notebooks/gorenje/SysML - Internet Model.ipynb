{
 "cells": [
  {
   "cell_type": "markdown",
   "id": "sharp-benjamin",
   "metadata": {},
   "source": [
    "## Internet Model\n",
    "\n",
    "Playground for how to model how the connections within the Internet might be modelled."
   ]
  },
  {
   "cell_type": "markdown",
   "id": "successful-montreal",
   "metadata": {},
   "source": [
    "## Version 1\n",
    "\n",
    "Using connections as attributes. And using types to define specific devices."
   ]
  },
  {
   "cell_type": "code",
   "execution_count": 1,
   "id": "devoted-cheese",
   "metadata": {
    "execution": {
     "iopub.execute_input": "2021-04-20T07:20:26.271935Z",
     "iopub.status.busy": "2021-04-20T07:20:26.270537Z",
     "iopub.status.idle": "2021-04-20T07:20:26.641310Z",
     "shell.execute_reply": "2021-04-20T07:20:26.640813Z"
    }
   },
   "outputs": [
    {
     "name": "stderr",
     "output_type": "stream",
     "text": [
      "ERROR:Couldn't resolve reference to Type 'ISQElectromagnetism::ElectricCurrentUnit'. (1.sysml line : 31 column : 27)\n"
     ]
    },
    {
     "name": "stderr",
     "output_type": "stream",
     "text": [
      "ERROR:An attribute must be typed by attribute definitions. (1.sysml line : 31 column : 9)\n"
     ]
    },
    {
     "data": {
      "text/plain": []
     },
     "execution_count": 1,
     "metadata": {},
     "output_type": "execute_result"
    }
   ],
   "source": [
    "package InternetModel_v1 {\n",
    "    part def Data;\n",
    "    part def Device {\n",
    "        attribute connType: Connection[1.. * ];\n",
    "        attribute voltageIn: Electricity[1];\n",
    "    }\n",
    "    part def WiFiRouter :> Device {\n",
    "        attribute wirelessConnection : WirelessConnection[1..2];\n",
    "        attribute ethernetConnection : CableConnection[1..*];\n",
    "    }\n",
    "    part def DSLRouter :> Device {\n",
    "        attribute dslConnection : CableConnection[1];\n",
    "        attribute ethernetConnection : CableConnection[1..*];\n",
    "    }\n",
    "    part def MobileDevice :> Device {\n",
    "        doc /** Bluetooth, WiFi, 5G/4G ... so at least 3 wireless connections **/\n",
    "        attribute wirelessConnection : WirelessConnection[1..3];\n",
    "    }\n",
    "    attribute def Connection {\n",
    "        in item inData: Data;\n",
    "        out item outData: Data;\n",
    "    }\n",
    "    attribute def WirelessConnection :> Connection {\n",
    "        attribute frequency: SI::FrequencyUnit;\n",
    "    }\n",
    "    attribute def CableConnection :> Connection {\n",
    "        attribute wireCount: ScalarValues::Integer;\n",
    "    }\n",
    "    attribute def Electricity {\n",
    "        attribute voltage: ISQElectromagnetism::ElectricPotentialUnit;\n",
    "        attribute ampere: ISQElectromagnetism::ElectricCurrentUnit;\n",
    "    }\n",
    "}"
   ]
  },
  {
   "cell_type": "code",
   "execution_count": 2,
   "id": "pressing-lithuania",
   "metadata": {
    "execution": {
     "iopub.execute_input": "2021-04-20T07:20:26.693037Z",
     "iopub.status.busy": "2021-04-20T07:20:26.692388Z",
     "iopub.status.idle": "2021-04-20T07:20:26.698875Z",
     "shell.execute_reply": "2021-04-20T07:20:26.699179Z"
    }
   },
   "outputs": [
    {
     "data": {
      "text/plain": [
       "ERROR:Couldn't resolve reference to Element 'InternetModel_v1'\n"
      ]
     },
     "execution_count": 2,
     "metadata": {},
     "output_type": "execute_result"
    }
   ],
   "source": [
    "%viz InternetModel_v1"
   ]
  },
  {
   "cell_type": "markdown",
   "id": "worse-accountability",
   "metadata": {},
   "source": [
    "## Version 2\n",
    "\n",
    "Using Ports to describe the end points of connections while using `connection` for connections between parts. Also using specific parts for specific devices, not part definitions."
   ]
  },
  {
   "cell_type": "code",
   "execution_count": 3,
   "id": "monetary-england",
   "metadata": {
    "execution": {
     "iopub.execute_input": "2021-04-20T07:20:26.753358Z",
     "iopub.status.busy": "2021-04-20T07:20:26.752829Z",
     "iopub.status.idle": "2021-04-20T07:20:27.193456Z",
     "shell.execute_reply": "2021-04-20T07:20:27.192447Z"
    }
   },
   "outputs": [
    {
     "name": "stderr",
     "output_type": "stream",
     "text": [
      "ERROR:Couldn't resolve reference to Type 'ISQElectromagnetism::ElectricCurrentUnit'. (3.sysml line : 25 column : 27)\n"
     ]
    },
    {
     "name": "stderr",
     "output_type": "stream",
     "text": [
      "ERROR:An attribute must be typed by attribute definitions. (3.sysml line : 25 column : 9)\n"
     ]
    },
    {
     "name": "stdout",
     "output_type": "stream",
     "text": [
      "WARNING:Connected features should have a common context (3.sysml line : 65 column : 5)\n"
     ]
    },
    {
     "data": {
      "text/plain": []
     },
     "execution_count": 3,
     "metadata": {},
     "output_type": "execute_result"
    }
   ],
   "source": [
    "package InternetModel_v2 {\n",
    "    import ISQ::*;\n",
    "    import SI::*;    \n",
    "    import SIPrefixes::*;\n",
    "    import UnitsAndScales::ConversionByPrefix;\n",
    "    \n",
    "    attribute GHz: FrequencyUnit = FrequencyUnit(name => \"gigahertz\", unitConversion => ConversionByPrefix(prefix => giga, referenceUnit => Hz));    \n",
    "    attribute def StorageUnit;\n",
    "    attribute def SpeedUnit;\n",
    "    \n",
    "    enum def CurrentType {\n",
    "        enum DC;\n",
    "        enum AC;\n",
    "    }\n",
    "    \n",
    "    port def DataPort {\n",
    "        /* TODO: Should all be in terms of Bytes and Bytes/Seconds but for now integers */\n",
    "        attribute speed : SpeedUnit;\n",
    "        in attribute inData: ScalarValues::Integer;\n",
    "        out attribute outData: ScalarValues::Integer;\n",
    "    }\n",
    "    \n",
    "    attribute def ElectricityRating {\n",
    "        attribute voltage: ISQElectromagnetism::ElectricPotentialUnit;\n",
    "        attribute ampere: ISQElectromagnetism::ElectricCurrentUnit;\n",
    "        attribute currentType : CurrentType;\n",
    "    }\n",
    "    \n",
    "    part def Device {\n",
    "        port dataPorts: DataPort[1..*];\n",
    "        attribute electricRating: ElectricityRating;\n",
    "    }\n",
    "    \n",
    "    part def Server {\n",
    "        port dataPorts: DataPort[1..*];\n",
    "        attribute electricRating: ElectricityRating;\n",
    "        attribute storage : StorageUnit;\n",
    "    }\n",
    "    \n",
    "    connection def DataConnection {\n",
    "        end: DataPort[1];\n",
    "        end: DataPort[1];\n",
    "    }\n",
    "    \n",
    "    connection def CableConnection :> DataConnection {\n",
    "        attribute wireCount: ScalarValues::Integer;\n",
    "    }\n",
    "    \n",
    "    connection def WirelessConnection :> DataConnection {\n",
    "        attribute frequency: SI::FrequencyUnit;\n",
    "    }\n",
    "\n",
    "    part dslEndpoint : Server {}\n",
    "    \n",
    "    part wifiRouter : Device {}\n",
    "    part dslRouter : Device {}\n",
    "    part mobileDevice : Device {}\n",
    "    \n",
    "    connection : WirelessConnection \n",
    "        connect mobileDevice::dataPorts[1]\n",
    "             to wifiRouter::dataPorts[1] {\n",
    "       attribute redefines frequency = 5@[GHz];\n",
    "    }\n",
    "    \n",
    "    connection : CableConnection \n",
    "        connect dslRouter::dataPorts[1] \n",
    "             to dslEndpoint::dataPorts[1] {\n",
    "       attribute redefines wireCount = 5;\n",
    "    }\n",
    "}"
   ]
  },
  {
   "cell_type": "code",
   "execution_count": 4,
   "id": "utility-azerbaijan",
   "metadata": {
    "execution": {
     "iopub.execute_input": "2021-04-20T07:20:27.243537Z",
     "iopub.status.busy": "2021-04-20T07:20:27.243045Z",
     "iopub.status.idle": "2021-04-20T07:20:27.245129Z",
     "shell.execute_reply": "2021-04-20T07:20:27.244674Z"
    }
   },
   "outputs": [
    {
     "data": {
      "text/plain": [
       "ERROR:Couldn't resolve reference to Element 'InternetModel_v2'\n"
      ]
     },
     "execution_count": 4,
     "metadata": {},
     "output_type": "execute_result"
    }
   ],
   "source": [
    "%viz InternetModel_v2"
   ]
  },
  {
   "cell_type": "code",
   "execution_count": null,
   "id": "dress-letters",
   "metadata": {},
   "outputs": [],
   "source": []
  }
 ],
 "metadata": {
  "kernelspec": {
   "display_name": "SysML",
   "language": "sysml",
   "name": "sysml"
  },
  "language_info": {
   "codemirror_mode": "sysml",
   "file_extension": ".sysml",
   "mimetype": "text/x-sysml",
   "name": "SysML",
   "pygments_lexer": "java",
   "version": "1.0.0"
  }
 },
 "nbformat": 4,
 "nbformat_minor": 5
}
