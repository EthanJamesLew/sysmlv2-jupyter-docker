{
 "cells": [
  {
   "cell_type": "markdown",
   "id": "resistant-exchange",
   "metadata": {},
   "source": [
    "# State Charts\n",
    "\n",
    "Taken from the [SysML Google Group](https://groups.google.com/g/sysml-v2-release)."
   ]
  },
  {
   "cell_type": "code",
   "execution_count": 1,
   "id": "decent-transaction",
   "metadata": {
    "execution": {
     "iopub.execute_input": "2022-07-23T10:49:26.868789Z",
     "iopub.status.busy": "2022-07-23T10:49:26.867518Z",
     "iopub.status.idle": "2022-07-23T10:49:28.199760Z",
     "shell.execute_reply": "2022-07-23T10:49:28.200118Z"
    }
   },
   "outputs": [
    {
     "data": {
      "text/plain": [
       "Package StopWatchStates (15d7ce21-4aa3-4be9-965b-564b3a3a543e)\n"
      ]
     },
     "execution_count": 1,
     "metadata": {},
     "output_type": "execute_result"
    }
   ],
   "source": [
    "package StopWatchStates {\n",
    "     state def StopWatch {\n",
    " \n",
    "          entry;\n",
    "              then ready;\n",
    "     \n",
    "          action def VehicleStartSignal;\n",
    "          action def VehicleOnSignal;\n",
    "          action def VehicleOffSignal;\n",
    "     \n",
    "          state ready;\n",
    "          \n",
    "          transition ready_to_running\n",
    "               first ready\n",
    "               accept VehicleStartSignal\n",
    "               then running;\n",
    "      \n",
    "          state running;\n",
    "      \n",
    "          transition running_to_stopped\n",
    "               first running\n",
    "               accept VehicleOnSignal\n",
    "               then stopped;\n",
    "      \n",
    "          transition running_to_paused\n",
    "               first running\n",
    "               accept VehicleOffSignal\n",
    "               then paused;\n",
    "       \n",
    "          state paused;\n",
    "\n",
    "          transition paused_to_running\n",
    "               first paused\n",
    "               accept VehicleOffSignal\n",
    "               then running;\n",
    "          transition paused_to_stop\n",
    "               first paused\n",
    "               accept VehicleOffSignal\n",
    "               then stopped;\n",
    "   \n",
    "          state stopped;\n",
    "\n",
    "          transition stopped_to_ready\n",
    "               first stopped\n",
    "               accept VehicleOffSignal\n",
    "               then done;\n",
    "       \n",
    "     }\n",
    "}\n"
   ]
  },
  {
   "cell_type": "markdown",
   "id": "innocent-headline",
   "metadata": {},
   "source": [
    "## Visualisation of Models\n",
    "\n",
    "We can now visualise our Model with the ```%viz``` command."
   ]
  },
  {
   "cell_type": "code",
   "execution_count": 2,
   "id": "formed-challenge",
   "metadata": {
    "execution": {
     "iopub.execute_input": "2022-07-23T10:49:28.251143Z",
     "iopub.status.busy": "2022-07-23T10:49:28.250659Z",
     "iopub.status.idle": "2022-07-23T10:49:28.724451Z",
     "shell.execute_reply": "2022-07-23T10:49:28.723974Z"
    }
   },
   "outputs": [
    {
     "data": {
      "image/svg+xml": [
       "<?xml version=\"1.0\" encoding=\"UTF-8\" standalone=\"no\"?><svg xmlns=\"http://www.w3.org/2000/svg\" xmlns:xlink=\"http://www.w3.org/1999/xlink\" contentScriptType=\"application/ecmascript\" contentStyleType=\"text/css\" height=\"740px\" preserveAspectRatio=\"none\" style=\"width:423px;height:740px;\" version=\"1.1\" viewBox=\"0 0 423 740\" width=\"423px\" zoomAndPan=\"magnify\"><defs/><g><!--MD5=[fbc87193dbaf4d95561dea2c320d4a47]\n",
       "cluster E1--><a href=\"psysml:15d7ce21-4aa3-4be9-965b-564b3a3a543e\" target=\"_top\" title=\"psysml:15d7ce21-4aa3-4be9-965b-564b3a3a543e\" xlink:actuate=\"onRequest\" xlink:href=\"psysml:15d7ce21-4aa3-4be9-965b-564b3a3a543e\" xlink:show=\"new\" xlink:title=\"psysml:15d7ce21-4aa3-4be9-965b-564b3a3a543e\" xlink:type=\"simple\"><polygon fill=\"#FFFFFF\" points=\"16,6,141,6,148,28.2969,388,28.2969,388,728,16,728,16,6\" style=\"stroke: #000000; stroke-width: 1.5;\"/><line style=\"stroke: #000000; stroke-width: 1.5;\" x1=\"16\" x2=\"148\" y1=\"28.2969\" y2=\"28.2969\"/><text fill=\"#000000\" font-family=\"sans-serif\" font-size=\"14\" font-weight=\"bold\" lengthAdjust=\"spacingAndGlyphs\" textLength=\"119\" x=\"20\" y=\"20.9951\">StopWatchStates</text></a><!--MD5=[e4f7fae6ed58524ba242bb0b0d3be6b7]\n",
       "cluster E2--><a href=\"psysml:38870669-08a1-44a3-9177-38b02bfd4093\" target=\"_top\" title=\"psysml:38870669-08a1-44a3-9177-38b02bfd4093\" xlink:actuate=\"onRequest\" xlink:href=\"psysml:38870669-08a1-44a3-9177-38b02bfd4093\" xlink:show=\"new\" xlink:title=\"psysml:38870669-08a1-44a3-9177-38b02bfd4093\" xlink:type=\"simple\"><rect fill=\"#FFFFFF\" height=\"655\" id=\"E2\" style=\"stroke: #383838; stroke-width: 1.5;\" width=\"324\" x=\"40\" y=\"49\"/><rect fill=\"#F8F8F8\" height=\"37.9375\" style=\"stroke: #383838; stroke-width: 1.5;\" width=\"324\" x=\"40\" y=\"49\"/><text fill=\"#000000\" font-family=\"sans-serif\" font-size=\"12\" font-style=\"italic\" lengthAdjust=\"spacingAndGlyphs\" textLength=\"75\" x=\"164.5\" y=\"65.1387\">«state  def»</text><text fill=\"#000000\" font-family=\"sans-serif\" font-size=\"12\" lengthAdjust=\"spacingAndGlyphs\" textLength=\"68\" x=\"168\" y=\"79.1074\">StopWatch</text><line style=\"stroke: #383838; stroke-width: 1.0;\" x1=\"40\" x2=\"364\" y1=\"104.9063\" y2=\"104.9063\"/><text fill=\"#000000\" font-family=\"sans-serif\" font-size=\"12\" font-weight=\"bold\" lengthAdjust=\"spacingAndGlyphs\" textLength=\"32\" x=\"45\" y=\"100.0762\">entry</text><text fill=\"#000000\" font-family=\"sans-serif\" font-size=\"12\" lengthAdjust=\"spacingAndGlyphs\" textLength=\"4\" x=\"77\" y=\"100.0762\">/</text></a><ellipse cx=\"229\" cy=\"129\" fill=\"#000000\" rx=\"10\" ry=\"10\" style=\"stroke: none; stroke-width: 1.0;\"/><ellipse cx=\"187\" cy=\"678\" fill=\"none\" rx=\"10\" ry=\"10\" style=\"stroke: #000000; stroke-width: 1.0;\"/><ellipse cx=\"187.5\" cy=\"678.5\" fill=\"#000000\" rx=\"6\" ry=\"6\" style=\"stroke: none; stroke-width: 1.0;\"/><g id=\"E1.E2.E3\"><a href=\"psysml:fb2c1198-d3fa-437a-9a8e-3c3ecae9cb02\" target=\"_top\" title=\"psysml:fb2c1198-d3fa-437a-9a8e-3c3ecae9cb02\" xlink:actuate=\"onRequest\" xlink:href=\"psysml:fb2c1198-d3fa-437a-9a8e-3c3ecae9cb02\" xlink:show=\"new\" xlink:title=\"psysml:fb2c1198-d3fa-437a-9a8e-3c3ecae9cb02\" xlink:type=\"simple\"><rect fill=\"#FFFFFF\" height=\"40\" id=\"E3\" rx=\"10\" ry=\"10\" style=\"stroke: #383838; stroke-width: 1.5;\" width=\"50\" x=\"204\" y=\"200\"/><rect fill=\"#F8F8F8\" height=\"23.9688\" rx=\"10\" ry=\"10\" style=\"stroke: #F8F8F8; stroke-width: 1.5;\" width=\"50\" x=\"204\" y=\"200\"/><rect fill=\"#F8F8F8\" height=\"10\" style=\"stroke: #F8F8F8; stroke-width: 1.5;\" width=\"50\" x=\"204\" y=\"213.9688\"/><rect fill=\"none\" height=\"40\" id=\"E3\" rx=\"10\" ry=\"10\" style=\"stroke: #383838; stroke-width: 1.5;\" width=\"50\" x=\"204\" y=\"200\"/><text fill=\"#000000\" font-family=\"sans-serif\" font-size=\"12\" lengthAdjust=\"spacingAndGlyphs\" textLength=\"35\" x=\"211.5\" y=\"216.1387\">ready</text></a></g><g id=\"E1.E2.E4\"><a href=\"psysml:1dc6f907-3213-4253-aa1f-73554d59c996\" target=\"_top\" title=\"psysml:1dc6f907-3213-4253-aa1f-73554d59c996\" xlink:actuate=\"onRequest\" xlink:href=\"psysml:1dc6f907-3213-4253-aa1f-73554d59c996\" xlink:show=\"new\" xlink:title=\"psysml:1dc6f907-3213-4253-aa1f-73554d59c996\" xlink:type=\"simple\"><rect fill=\"#FFFFFF\" height=\"40\" id=\"E4\" rx=\"10\" ry=\"10\" style=\"stroke: #383838; stroke-width: 1.5;\" width=\"59\" x=\"202.5\" y=\"317\"/><rect fill=\"#F8F8F8\" height=\"23.9688\" rx=\"10\" ry=\"10\" style=\"stroke: #F8F8F8; stroke-width: 1.5;\" width=\"59\" x=\"202.5\" y=\"317\"/><rect fill=\"#F8F8F8\" height=\"10\" style=\"stroke: #F8F8F8; stroke-width: 1.5;\" width=\"59\" x=\"202.5\" y=\"330.9688\"/><rect fill=\"none\" height=\"40\" id=\"E4\" rx=\"10\" ry=\"10\" style=\"stroke: #383838; stroke-width: 1.5;\" width=\"59\" x=\"202.5\" y=\"317\"/><text fill=\"#000000\" font-family=\"sans-serif\" font-size=\"12\" lengthAdjust=\"spacingAndGlyphs\" textLength=\"48\" x=\"208\" y=\"333.1387\">running</text></a></g><g id=\"E1.E2.E5\"><a href=\"psysml:66adb4c6-349b-464c-8033-db56dc2c812e\" target=\"_top\" title=\"psysml:66adb4c6-349b-464c-8033-db56dc2c812e\" xlink:actuate=\"onRequest\" xlink:href=\"psysml:66adb4c6-349b-464c-8033-db56dc2c812e\" xlink:show=\"new\" xlink:title=\"psysml:66adb4c6-349b-464c-8033-db56dc2c812e\" xlink:type=\"simple\"><rect fill=\"#FFFFFF\" height=\"40\" id=\"E5\" rx=\"10\" ry=\"10\" style=\"stroke: #383838; stroke-width: 1.5;\" width=\"58\" x=\"103\" y=\"434\"/><rect fill=\"#F8F8F8\" height=\"23.9688\" rx=\"10\" ry=\"10\" style=\"stroke: #F8F8F8; stroke-width: 1.5;\" width=\"58\" x=\"103\" y=\"434\"/><rect fill=\"#F8F8F8\" height=\"10\" style=\"stroke: #F8F8F8; stroke-width: 1.5;\" width=\"58\" x=\"103\" y=\"447.9688\"/><rect fill=\"none\" height=\"40\" id=\"E5\" rx=\"10\" ry=\"10\" style=\"stroke: #383838; stroke-width: 1.5;\" width=\"58\" x=\"103\" y=\"434\"/><text fill=\"#000000\" font-family=\"sans-serif\" font-size=\"12\" lengthAdjust=\"spacingAndGlyphs\" textLength=\"47\" x=\"108.5\" y=\"450.1387\">paused</text></a></g><g id=\"E1.E2.E6\"><a href=\"psysml:c3ebbce2-aad9-4920-9929-65ff52780652\" target=\"_top\" title=\"psysml:c3ebbce2-aad9-4920-9929-65ff52780652\" xlink:actuate=\"onRequest\" xlink:href=\"psysml:c3ebbce2-aad9-4920-9929-65ff52780652\" xlink:show=\"new\" xlink:title=\"psysml:c3ebbce2-aad9-4920-9929-65ff52780652\" xlink:type=\"simple\"><rect fill=\"#FFFFFF\" height=\"40\" id=\"E6\" rx=\"10\" ry=\"10\" style=\"stroke: #383838; stroke-width: 1.5;\" width=\"63\" x=\"155.5\" y=\"551\"/><rect fill=\"#F8F8F8\" height=\"23.9688\" rx=\"10\" ry=\"10\" style=\"stroke: #F8F8F8; stroke-width: 1.5;\" width=\"63\" x=\"155.5\" y=\"551\"/><rect fill=\"#F8F8F8\" height=\"10\" style=\"stroke: #F8F8F8; stroke-width: 1.5;\" width=\"63\" x=\"155.5\" y=\"564.9688\"/><rect fill=\"none\" height=\"40\" id=\"E6\" rx=\"10\" ry=\"10\" style=\"stroke: #383838; stroke-width: 1.5;\" width=\"63\" x=\"155.5\" y=\"551\"/><text fill=\"#000000\" font-family=\"sans-serif\" font-size=\"12\" lengthAdjust=\"spacingAndGlyphs\" textLength=\"52\" x=\"161\" y=\"567.1387\">stopped</text></a></g><!--MD5=[5784957ad6aba600e50c0683d06dcc69]\n",
       "link *start*E2 to E3--><a href=\"psysml:f1a0a5fd-f951-4180-976d-42fe89f05581\" target=\"_top\" title=\"psysml:f1a0a5fd-f951-4180-976d-42fe89f05581\" xlink:actuate=\"onRequest\" xlink:href=\"psysml:f1a0a5fd-f951-4180-976d-42fe89f05581\" xlink:show=\"new\" xlink:title=\"psysml:f1a0a5fd-f951-4180-976d-42fe89f05581\" xlink:type=\"simple\"><path d=\"M229,139.19 C229,152.18 229,176.38 229,194.73 \" fill=\"none\" id=\"*start*E2-&gt;E3\" style=\"stroke: #383838; stroke-width: 1.0;\"/><polygon fill=\"#383838\" points=\"229,199.74,233,190.74,229,194.74,225,190.74,229,199.74\" style=\"stroke: #383838; stroke-width: 1.0;\"/></a><!--MD5=[d3baace2f756416d26e3c44cccd96611]\n",
       "link E6 to *end*E2--><a href=\"psysml:a9477e25-4ea9-42da-8f81-6563ab5bdad4\" target=\"_top\" title=\"psysml:a9477e25-4ea9-42da-8f81-6563ab5bdad4\" xlink:actuate=\"onRequest\" xlink:href=\"psysml:a9477e25-4ea9-42da-8f81-6563ab5bdad4\" xlink:show=\"new\" xlink:title=\"psysml:a9477e25-4ea9-42da-8f81-6563ab5bdad4\" xlink:type=\"simple\"><path d=\"M187,591.26 C187,611.86 187,644.07 187,662.59 \" fill=\"none\" id=\"E6-&gt;*end*E2\" style=\"stroke: #383838; stroke-width: 1.0;\"/><polygon fill=\"#383838\" points=\"187,667.87,191,658.87,187,662.87,183,658.87,187,667.87\" style=\"stroke: #383838; stroke-width: 1.0;\"/><text fill=\"#000000\" font-family=\"sans-serif\" font-size=\"13\" lengthAdjust=\"spacingAndGlyphs\" textLength=\"103\" x=\"188\" y=\"634.0669\">VehicleOffSignal</text></a><!--MD5=[af87c684e3b0d8be13c1a698a818ef1e]\n",
       "link E3 to E4--><a href=\"psysml:70ec3e0d-f328-4b18-a991-b8582be62b69\" target=\"_top\" title=\"psysml:70ec3e0d-f328-4b18-a991-b8582be62b69\" xlink:actuate=\"onRequest\" xlink:href=\"psysml:70ec3e0d-f328-4b18-a991-b8582be62b69\" xlink:show=\"new\" xlink:title=\"psysml:70ec3e0d-f328-4b18-a991-b8582be62b69\" xlink:type=\"simple\"><path d=\"M229.5,240.25 C230.01,259.82 230.81,290.21 231.36,311.49 \" fill=\"none\" id=\"E3-&gt;E4\" style=\"stroke: #383838; stroke-width: 1.0;\"/><polygon fill=\"#383838\" points=\"231.5,316.69,235.2413,307.5794,231.3572,311.692,227.2446,307.8079,231.5,316.69\" style=\"stroke: #383838; stroke-width: 1.0;\"/><text fill=\"#000000\" font-family=\"sans-serif\" font-size=\"13\" lengthAdjust=\"spacingAndGlyphs\" textLength=\"117\" x=\"231\" y=\"283.0669\">VehicleStartSignal</text><text fill=\"#000000\" font-family=\"sans-serif\" font-size=\"13\" lengthAdjust=\"spacingAndGlyphs\" textLength=\"7\" x=\"223.375\" y=\"305.954\">*</text></a><!--MD5=[79568f1e445c3877b6a54524624ccc7d]\n",
       "link E4 to E6--><a href=\"psysml:b27ce096-2141-4621-b024-507b6f9d179e\" target=\"_top\" title=\"psysml:b27ce096-2141-4621-b024-507b6f9d179e\" xlink:actuate=\"onRequest\" xlink:href=\"psysml:b27ce096-2141-4621-b024-507b6f9d179e\" xlink:show=\"new\" xlink:title=\"psysml:b27ce096-2141-4621-b024-507b6f9d179e\" xlink:type=\"simple\"><path d=\"M261.66,345.71 C291.12,355.2 330.61,373.85 321,404 C301.71,464.53 248.11,518.47 214.84,547.48 \" fill=\"none\" id=\"E4-&gt;E6\" style=\"stroke: #383838; stroke-width: 1.0;\"/><polygon fill=\"#383838\" points=\"210.89,550.89,220.315,548.0319,214.6732,547.6208,215.0843,541.9789,210.89,550.89\" style=\"stroke: #383838; stroke-width: 1.0;\"/><text fill=\"#000000\" font-family=\"sans-serif\" font-size=\"13\" lengthAdjust=\"spacingAndGlyphs\" textLength=\"103\" x=\"308\" y=\"458.5669\">VehicleOnSignal</text><text fill=\"#000000\" font-family=\"sans-serif\" font-size=\"13\" lengthAdjust=\"spacingAndGlyphs\" textLength=\"7\" x=\"209.8796\" y=\"539.866\">*</text></a><!--MD5=[1b7591eae5389033d8d09a9d6721a717]\n",
       "link E4 to E5--><a href=\"psysml:cafbec5f-273a-4295-89cb-781bdd6a46c8\" target=\"_top\" title=\"psysml:cafbec5f-273a-4295-89cb-781bdd6a46c8\" xlink:actuate=\"onRequest\" xlink:href=\"psysml:cafbec5f-273a-4295-89cb-781bdd6a46c8\" xlink:show=\"new\" xlink:title=\"psysml:cafbec5f-273a-4295-89cb-781bdd6a46c8\" xlink:type=\"simple\"><path d=\"M202.41,338.56 C168.42,340.98 113.98,350.71 88,387 C77.81,401.23 88.58,417.59 102,430.46 \" fill=\"none\" id=\"E4-&gt;E5\" style=\"stroke: #383838; stroke-width: 1.0;\"/><polygon fill=\"#383838\" points=\"105.85,434,101.928,424.9657,102.1678,430.6175,96.516,430.8573,105.85,434\" style=\"stroke: #383838; stroke-width: 1.0;\"/><text fill=\"#000000\" font-family=\"sans-serif\" font-size=\"13\" lengthAdjust=\"spacingAndGlyphs\" textLength=\"103\" x=\"89\" y=\"400.0669\">VehicleOffSignal</text><text fill=\"#000000\" font-family=\"sans-serif\" font-size=\"13\" lengthAdjust=\"spacingAndGlyphs\" textLength=\"7\" x=\"90.1403\" y=\"423.0083\">*</text></a><!--MD5=[1c62de2aa5b76f0fb657ff8443a1a700]\n",
       "link E5 to E4--><a href=\"psysml:4a9f187e-1e75-4eae-b0f1-50782fdd0153\" target=\"_top\" title=\"psysml:4a9f187e-1e75-4eae-b0f1-50782fdd0153\" xlink:actuate=\"onRequest\" xlink:href=\"psysml:4a9f187e-1e75-4eae-b0f1-50782fdd0153\" xlink:show=\"new\" xlink:title=\"psysml:4a9f187e-1e75-4eae-b0f1-50782fdd0153\" xlink:type=\"simple\"><path d=\"M161.14,435.13 C173.25,426.73 186.82,415.93 197,404 C207.64,391.52 216.31,375.26 222.36,362.01 \" fill=\"none\" id=\"E5-&gt;E4\" style=\"stroke: #383838; stroke-width: 1.0;\"/><polygon fill=\"#383838\" points=\"224.47,357.27,217.1633,363.874,222.442,361.8402,224.4757,367.1189,224.47,357.27\" style=\"stroke: #383838; stroke-width: 1.0;\"/><text fill=\"#000000\" font-family=\"sans-serif\" font-size=\"13\" lengthAdjust=\"spacingAndGlyphs\" textLength=\"103\" x=\"209\" y=\"400.0669\">VehicleOffSignal</text><text fill=\"#000000\" font-family=\"sans-serif\" font-size=\"13\" lengthAdjust=\"spacingAndGlyphs\" textLength=\"7\" x=\"214.3678\" y=\"377.1659\">*</text></a><!--MD5=[9120cf2e5df3bff93db8f754bbbc09b4]\n",
       "link E5 to E6--><a href=\"psysml:8eb2e241-5dde-47f4-9b09-f810b0f05940\" target=\"_top\" title=\"psysml:8eb2e241-5dde-47f4-9b09-f810b0f05940\" xlink:actuate=\"onRequest\" xlink:href=\"psysml:8eb2e241-5dde-47f4-9b09-f810b0f05940\" xlink:show=\"new\" xlink:title=\"psysml:8eb2e241-5dde-47f4-9b09-f810b0f05940\" xlink:type=\"simple\"><path d=\"M126.6,474.11 C123.79,487.8 122.19,506.33 129,521 C133.87,531.48 142.2,540.53 151.06,547.9 \" fill=\"none\" id=\"E5-&gt;E6\" style=\"stroke: #383838; stroke-width: 1.0;\"/><polygon fill=\"#383838\" points=\"155.43,551.38,150.8931,542.6383,151.5229,548.26,145.9012,548.8897,155.43,551.38\" style=\"stroke: #383838; stroke-width: 1.0;\"/><text fill=\"#000000\" font-family=\"sans-serif\" font-size=\"13\" lengthAdjust=\"spacingAndGlyphs\" textLength=\"103\" x=\"130\" y=\"517.0669\">VehicleOffSignal</text><text fill=\"#000000\" font-family=\"sans-serif\" font-size=\"13\" lengthAdjust=\"spacingAndGlyphs\" textLength=\"7\" x=\"140.3201\" y=\"542.1908\">*</text></a><!--MD5=[8e0911ee6a6be9c0e05716ca08a09a56]\n",
       "@startuml\r\n",
       "skinparam monochrome true\r\n",
       "skinparam classbackgroundcolor white\r\n",
       "skinparam shadowing false\r\n",
       "skinparam wrapWidth 300\r\n",
       "hide circle\r\n",
       "\r\n",
       "package \"StopWatchStates\" as E1  [[psysml:15d7ce21-4aa3-4be9-965b-564b3a3a543e ]]  {\r\n",
       "rec def \"StopWatch\" as E2  <<(T,blue) state  def>> [[psysml:38870669-08a1-44a3-9177-38b02bfd4093 ]] {\r\n",
       "rec usage \"ready\" as E3 [[psysml:fb2c1198-d3fa-437a-9a8e-3c3ecae9cb02 ]] {\r\n",
       "}\r\n",
       "\r\n",
       "rec usage \"running\" as E4 [[psysml:1dc6f907-3213-4253-aa1f-73554d59c996 ]] {\r\n",
       "}\r\n",
       "\r\n",
       "rec usage \"paused\" as E5 [[psysml:66adb4c6-349b-464c-8033-db56dc2c812e ]] {\r\n",
       "}\r\n",
       "\r\n",
       "rec usage \"stopped\" as E6 [[psysml:c3ebbce2-aad9-4920-9929-65ff52780652 ]] {\r\n",
       "}\r\n",
       "\r\n",
       "desc \"StopWatch\" as E2  : **entry**/ \r\n",
       "[*] - -> E3 [[psysml:f1a0a5fd-f951-4180-976d-42fe89f05581 ]] \r\n",
       "E6  - -> [*] [[psysml:a9477e25-4ea9-42da-8f81-6563ab5bdad4 ]] : VehicleOffSignal \r\n",
       "}\r\n",
       "\r\n",
       "}\r\n",
       "E3  - -> \"*\"E4 [[psysml:70ec3e0d-f328-4b18-a991-b8582be62b69 ]] : VehicleStartSignal \r\n",
       "E4  - -> \"*\"E6 [[psysml:b27ce096-2141-4621-b024-507b6f9d179e ]] : VehicleOnSignal \r\n",
       "E4  - -> \"*\"E5 [[psysml:cafbec5f-273a-4295-89cb-781bdd6a46c8 ]] : VehicleOffSignal \r\n",
       "E5  - -> \"*\"E4 [[psysml:4a9f187e-1e75-4eae-b0f1-50782fdd0153 ]] : VehicleOffSignal \r\n",
       "E5  - -> \"*\"E6 [[psysml:8eb2e241-5dde-47f4-9b09-f810b0f05940 ]] : VehicleOffSignal \r\n",
       "@enduml\r\n",
       "\n",
       "PlantUML version 1.2020.13(Sat Jun 13 12:26:38 UTC 2020)\n",
       "(EPL source distribution)\n",
       "Java Runtime: OpenJDK Runtime Environment\n",
       "JVM: OpenJDK 64-Bit Server VM\n",
       "Default Encoding: UTF-8\n",
       "Language: en\n",
       "Country: null\n",
       "--></g></svg>"
      ]
     },
     "execution_count": 2,
     "metadata": {},
     "output_type": "execute_result"
    }
   ],
   "source": [
    "%viz StopWatchStates"
   ]
  },
  {
   "cell_type": "code",
   "execution_count": null,
   "id": "detailed-tiffany",
   "metadata": {},
   "outputs": [],
   "source": []
  }
 ],
 "metadata": {
  "kernelspec": {
   "display_name": "SysML",
   "language": "sysml",
   "name": "sysml"
  },
  "language_info": {
   "codemirror_mode": "sysml",
   "file_extension": ".sysml",
   "mimetype": "text/x-sysml",
   "name": "SysML",
   "pygments_lexer": "java",
   "version": "1.0.0"
  }
 },
 "nbformat": 4,
 "nbformat_minor": 5
}
