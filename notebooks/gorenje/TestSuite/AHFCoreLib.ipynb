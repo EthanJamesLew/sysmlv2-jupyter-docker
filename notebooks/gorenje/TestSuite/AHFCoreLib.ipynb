{
 "cells": [
  {
   "cell_type": "markdown",
   "id": "57f64f66",
   "metadata": {},
   "source": [
    "# SysML v2 Test Suite\n",
    "\n",
    "This can notebook can be cleared using menu `Edit --> Clear All Outputs` and then all cells can be\n",
    "run using menu `Run --> Run All Cells`.\n",
    "\n",
    "**WARNING**: This file is generated, all modifications here will be ignored.\n"
   ]
  },
  {
   "cell_type": "markdown",
   "id": "174e228c",
   "metadata": {},
   "source": [
    "## File: ../../sysml/src/examples/Arrowhead Framework Example/AHFCoreLib.sysml"
   ]
  },
  {
   "cell_type": "code",
   "execution_count": 1,
   "id": "2a89970e",
   "metadata": {
    "execution": {
     "iopub.execute_input": "2021-04-20T07:33:40.666277Z",
     "iopub.status.busy": "2021-04-20T07:33:40.665291Z",
     "iopub.status.idle": "2021-04-20T07:33:41.029264Z",
     "shell.execute_reply": "2021-04-20T07:33:41.027108Z"
    }
   },
   "outputs": [
    {
     "name": "stderr",
     "output_type": "stream",
     "text": [
      "ERROR:Couldn't resolve reference to Namespace 'AHFProfileLib'. (1.sysml line : 3 column : 9)\n"
     ]
    },
    {
     "name": "stderr",
     "output_type": "stream",
     "text": [
      "ERROR:Couldn't resolve reference to Classifier 'SD'. (1.sysml line : 6 column : 31)\n"
     ]
    },
    {
     "name": "stderr",
     "output_type": "stream",
     "text": [
      "ERROR:Couldn't resolve reference to Classifier 'SD'. (1.sysml line : 11 column : 28)\n"
     ]
    },
    {
     "name": "stderr",
     "output_type": "stream",
     "text": [
      "ERROR:Couldn't resolve reference to Classifier 'LocalCloud'. (1.sysml line : 15 column : 28)\n"
     ]
    },
    {
     "name": "stderr",
     "output_type": "stream",
     "text": [
      "ERROR:Couldn't resolve reference to Classifier 'SysD'. (1.sysml line : 17 column : 31)\n"
     ]
    },
    {
     "name": "stderr",
     "output_type": "stream",
     "text": [
      "ERROR:Couldn't resolve reference to Feature 'services'. (1.sysml line : 18 column : 51)\n"
     ]
    },
    {
     "name": "stderr",
     "output_type": "stream",
     "text": [
      "ERROR:Couldn't resolve reference to Classifier 'SysD'. (1.sysml line : 21 column : 29)\n"
     ]
    },
    {
     "name": "stderr",
     "output_type": "stream",
     "text": [
      "ERROR:Couldn't resolve reference to Feature 'services'. (1.sysml line : 22 column : 45)\n"
     ]
    },
    {
     "name": "stderr",
     "output_type": "stream",
     "text": [
      "ERROR:Couldn't resolve reference to Classifier 'SysD'. (1.sysml line : 25 column : 29)\n"
     ]
    },
    {
     "name": "stderr",
     "output_type": "stream",
     "text": [
      "ERROR:Couldn't resolve reference to Feature 'systems'. (1.sysml line : 27 column : 49)\n"
     ]
    },
    {
     "name": "stderr",
     "output_type": "stream",
     "text": [
      "ERROR:Couldn't resolve reference to Feature 'systems'. (1.sysml line : 28 column : 44)\n"
     ]
    },
    {
     "name": "stderr",
     "output_type": "stream",
     "text": [
      "ERROR:Couldn't resolve reference to Feature 'systems'. (1.sysml line : 29 column : 44)\n"
     ]
    },
    {
     "name": "stderr",
     "output_type": "stream",
     "text": [
      "ERROR:Couldn't resolve reference to Classifier 'SysDD'. (1.sysml line : 32 column : 49)\n"
     ]
    },
    {
     "name": "stderr",
     "output_type": "stream",
     "text": [
      "ERROR:Couldn't resolve reference to Feature 'ServiceMethod'. (1.sysml line : 33 column : 33)\n"
     ]
    },
    {
     "name": "stderr",
     "output_type": "stream",
     "text": [
      "ERROR:Couldn't resolve reference to Classifier 'IDD'. (1.sysml line : 36 column : 49)\n"
     ]
    },
    {
     "name": "stderr",
     "output_type": "stream",
     "text": [
      "ERROR:Features must have at least one type (1.sysml line : 33 column : 4)\n"
     ]
    },
    {
     "data": {
      "text/plain": []
     },
     "execution_count": 1,
     "metadata": {},
     "output_type": "execute_result"
    }
   ],
   "source": [
    "/** Mandatory Services and Systems */\n",
    "package AHFCoreLib {\n",
    "\timport AHFProfileLib::*;\n",
    "\timport ScalarValues::*;\n",
    "\t\n",
    "\tport def ServiceDiscovery :> SD{\n",
    "\t\t// The functionalities as Requests (Operations) cannot be defined yet\n",
    "\t\t// We could consider using flows to designate the functionalities\n",
    "\t}\n",
    "\t\t\n",
    "\tport def Authorisation :> SD{\n",
    "\t\tattribute publickey:String; // just as examples\n",
    "\t}\n",
    "\t\n",
    "\tpart def ArrowheadCore :> LocalCloud{\n",
    "\t\t/* First the system definitions (SysD) of core systems */\n",
    "\t\tpart def ServiceRegistry :> SysD {\n",
    "\t\t\tport serviceDiscovery:ServiceDiscovery subsets services;\n",
    "\t\t}\n",
    "\t\t\n",
    "\t\tpart def Authorization :> SysD {\n",
    "\t\t\tport authorisation:Authorisation subsets services;\n",
    "\t\t}\n",
    "\t\t\n",
    "\t\tpart def Orchestration :> SysD; // just indicated for now\n",
    "\t\t\n",
    "\t\tpart service_registry:ServiceRegistry subsets systems;\n",
    "\t\tpart authorization:Authorization subsets systems;\n",
    "\t\tpart orchestration:Orchestration subsets systems;\n",
    "\t\t\n",
    "\t\t/* Then we include an example of SysDD specializations wrt protocol */\n",
    "\t\tpart def Authorization_HTTP :> Authorization, SysDD{\n",
    "\t\t\taction Echo_behavior subsets ServiceMethod;\n",
    "\t\t}\n",
    "\t\t\n",
    "\t\tport def Authorisation_HTTP :> Authorisation, IDD{\n",
    "\t\t\tprotocol:String = \"HTTP\";\n",
    "\t\t}\n",
    "\t}\n",
    "}\n"
   ]
  }
 ],
 "metadata": {
  "kernelspec": {
   "display_name": "SysML",
   "language": "sysml",
   "name": "sysml"
  },
  "language_info": {
   "codemirror_mode": "sysml",
   "file_extension": ".sysml",
   "mimetype": "text/x-sysml",
   "name": "SysML",
   "pygments_lexer": "java",
   "version": "1.0.0"
  }
 },
 "nbformat": 4,
 "nbformat_minor": 5
}
