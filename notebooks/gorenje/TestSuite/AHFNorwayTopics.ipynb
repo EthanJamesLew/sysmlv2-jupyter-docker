{
 "cells": [
  {
   "cell_type": "markdown",
   "id": "dee3e521",
   "metadata": {},
   "source": [
    "# SysML v2 Test Suite\n",
    "\n",
    "This can notebook can be cleared using menu `Edit --> Clear All Outputs` and then all cells can be\n",
    "run using menu `Run --> Run All Cells`.\n",
    "\n",
    "**WARNING**: This file is generated, all modifications here will be ignored.\n"
   ]
  },
  {
   "cell_type": "markdown",
   "id": "f06475c4",
   "metadata": {},
   "source": [
    "## File: ../../sysml/src/examples/Arrowhead Framework Example/AHFNorwayTopics.sysml"
   ]
  },
  {
   "cell_type": "code",
   "execution_count": 1,
   "id": "a6b24bcd",
   "metadata": {
    "execution": {
     "iopub.execute_input": "2021-04-20T07:30:25.980325Z",
     "iopub.status.busy": "2021-04-20T07:30:25.977988Z",
     "iopub.status.idle": "2021-04-20T07:30:30.367619Z",
     "shell.execute_reply": "2021-04-20T07:30:30.318954Z"
    }
   },
   "outputs": [
    {
     "name": "stderr",
     "output_type": "stream",
     "text": [
      "ERROR:Couldn't resolve reference to Namespace 'AHFCoreLib'. (1.sysml line : 7 column : 9)\n"
     ]
    },
    {
     "name": "stderr",
     "output_type": "stream",
     "text": [
      "ERROR:Couldn't resolve reference to Namespace 'AHFProfileLib'. (1.sysml line : 6 column : 9)\n"
     ]
    },
    {
     "name": "stderr",
     "output_type": "stream",
     "text": [
      "ERROR:Couldn't resolve reference to Classifier 'ArrowheadCore'. (1.sysml line : 42 column : 29)\n"
     ]
    },
    {
     "name": "stderr",
     "output_type": "stream",
     "text": [
      "ERROR:Couldn't resolve reference to Classifier 'SysDD'. (1.sysml line : 43 column : 29)\n"
     ]
    },
    {
     "name": "stderr",
     "output_type": "stream",
     "text": [
      "ERROR:Couldn't resolve reference to PortDefinition 'ServiceDiscovery'. (1.sysml line : 44 column : 27)\n"
     ]
    },
    {
     "name": "stderr",
     "output_type": "stream",
     "text": [
      "ERROR:Couldn't resolve reference to Classifier 'SysDD'. (1.sysml line : 59 column : 28)\n"
     ]
    },
    {
     "name": "stderr",
     "output_type": "stream",
     "text": [
      "ERROR:Couldn't resolve reference to PortDefinition 'ServiceDiscovery'. (1.sysml line : 60 column : 27)\n"
     ]
    },
    {
     "name": "stderr",
     "output_type": "stream",
     "text": [
      "ERROR:Couldn't resolve reference to Classifier 'SysDD'. (1.sysml line : 90 column : 28)\n"
     ]
    },
    {
     "name": "stderr",
     "output_type": "stream",
     "text": [
      "ERROR:Couldn't resolve reference to PortDefinition 'ServiceDiscovery'. (1.sysml line : 91 column : 27)\n"
     ]
    },
    {
     "name": "stderr",
     "output_type": "stream",
     "text": [
      "ERROR:Couldn't resolve reference to Feature 'service_registry'. (1.sysml line : 146 column : 13)\n"
     ]
    },
    {
     "name": "stderr",
     "output_type": "stream",
     "text": [
      "ERROR:Couldn't resolve reference to Feature 'systemname'. (1.sysml line : 51 column : 18)\n"
     ]
    },
    {
     "name": "stderr",
     "output_type": "stream",
     "text": [
      "ERROR:Couldn't resolve reference to Feature 'address'. (1.sysml line : 52 column : 18)\n"
     ]
    },
    {
     "name": "stderr",
     "output_type": "stream",
     "text": [
      "ERROR:Couldn't resolve reference to Feature 'portno'. (1.sysml line : 53 column : 18)\n"
     ]
    },
    {
     "name": "stderr",
     "output_type": "stream",
     "text": [
      "ERROR:Couldn't resolve reference to Feature 'services'. (1.sysml line : 45 column : 33)\n"
     ]
    },
    {
     "name": "stderr",
     "output_type": "stream",
     "text": [
      "ERROR:Couldn't resolve reference to Classifier 'SD'. (1.sysml line : 10 column : 26)\n"
     ]
    },
    {
     "name": "stderr",
     "output_type": "stream",
     "text": [
      "ERROR:Couldn't resolve reference to Feature 'serviceDefinition'. (1.sysml line : 11 column : 17)\n"
     ]
    },
    {
     "name": "stderr",
     "output_type": "stream",
     "text": [
      "ERROR:Couldn't resolve reference to Feature 'intrfce_protocol'. (1.sysml line : 12 column : 17)\n"
     ]
    },
    {
     "name": "stderr",
     "output_type": "stream",
     "text": [
      "ERROR:Couldn't resolve reference to Feature 'serviceURL'. (1.sysml line : 13 column : 17)\n"
     ]
    },
    {
     "name": "stderr",
     "output_type": "stream",
     "text": [
      "ERROR:Couldn't resolve reference to Feature 'systemname'. (1.sysml line : 68 column : 8)\n"
     ]
    },
    {
     "name": "stderr",
     "output_type": "stream",
     "text": [
      "ERROR:Couldn't resolve reference to Feature 'address'. (1.sysml line : 69 column : 8)\n"
     ]
    },
    {
     "name": "stderr",
     "output_type": "stream",
     "text": [
      "ERROR:Couldn't resolve reference to Feature 'portno'. (1.sysml line : 70 column : 8)\n"
     ]
    },
    {
     "name": "stderr",
     "output_type": "stream",
     "text": [
      "ERROR:Couldn't resolve reference to Feature 'systemname'. (1.sysml line : 93 column : 8)\n"
     ]
    },
    {
     "name": "stderr",
     "output_type": "stream",
     "text": [
      "ERROR:Couldn't resolve reference to Feature 'address'. (1.sysml line : 94 column : 8)\n"
     ]
    },
    {
     "name": "stderr",
     "output_type": "stream",
     "text": [
      "ERROR:Couldn't resolve reference to Feature 'portno'. (1.sysml line : 95 column : 8)\n"
     ]
    },
    {
     "name": "stderr",
     "output_type": "stream",
     "text": [
      "ERROR:Couldn't resolve reference to Feature 'service_registry::serviceDiscovery'. (1.sysml line : 156 column : 39)\n"
     ]
    },
    {
     "name": "stderr",
     "output_type": "stream",
     "text": [
      "ERROR:Couldn't resolve reference to Feature 'service_registry::serviceDiscovery'. (1.sysml line : 157 column : 40)\n"
     ]
    },
    {
     "name": "stderr",
     "output_type": "stream",
     "text": [
      "ERROR:Couldn't resolve reference to Feature 'service_registry::serviceDiscovery'. (1.sysml line : 158 column : 39)\n"
     ]
    },
    {
     "name": "stderr",
     "output_type": "stream",
     "text": [
      "ERROR:Couldn't resolve reference to Feature 'services'. (1.sysml line : 44 column : 52)\n"
     ]
    },
    {
     "name": "stderr",
     "output_type": "stream",
     "text": [
      "ERROR:Couldn't resolve reference to Feature 'services'. (1.sysml line : 60 column : 52)\n"
     ]
    },
    {
     "name": "stderr",
     "output_type": "stream",
     "text": [
      "ERROR:Couldn't resolve reference to Feature 'services'. (1.sysml line : 61 column : 34)\n"
     ]
    },
    {
     "name": "stderr",
     "output_type": "stream",
     "text": [
      "ERROR:Couldn't resolve reference to Feature 'services'. (1.sysml line : 66 column : 33)\n"
     ]
    },
    {
     "name": "stderr",
     "output_type": "stream",
     "text": [
      "ERROR:Couldn't resolve reference to Feature 'ServiceMethod'. (1.sysml line : 80 column : 52)\n"
     ]
    },
    {
     "name": "stderr",
     "output_type": "stream",
     "text": [
      "ERROR:Couldn't resolve reference to Feature 'services'. (1.sysml line : 91 column : 52)\n"
     ]
    },
    {
     "name": "stderr",
     "output_type": "stream",
     "text": [
      "ERROR:Couldn't resolve reference to Feature 'services'. (1.sysml line : 92 column : 34)\n"
     ]
    },
    {
     "name": "stderr",
     "output_type": "stream",
     "text": [
      "ERROR:Couldn't resolve reference to Feature 'systems'. (1.sysml line : 108 column : 36)\n"
     ]
    },
    {
     "name": "stderr",
     "output_type": "stream",
     "text": [
      "ERROR:Couldn't resolve reference to Feature 'systems'. (1.sysml line : 112 column : 36)\n"
     ]
    },
    {
     "name": "stderr",
     "output_type": "stream",
     "text": [
      "ERROR:Couldn't resolve reference to Feature 'systems'. (1.sysml line : 117 column : 38)\n"
     ]
    },
    {
     "name": "stderr",
     "output_type": "stream",
     "text": [
      "ERROR:Couldn't resolve reference to Feature 'serviceDiscovery'. (1.sysml line : 147 column : 14)\n"
     ]
    },
    {
     "name": "stderr",
     "output_type": "stream",
     "text": [
      "ERROR:Features must have at least one type (1.sysml line : 11 column : 3)\n"
     ]
    },
    {
     "name": "stderr",
     "output_type": "stream",
     "text": [
      "ERROR:Features must have at least one type (1.sysml line : 12 column : 3)\n"
     ]
    },
    {
     "name": "stderr",
     "output_type": "stream",
     "text": [
      "ERROR:Features must have at least one type (1.sysml line : 13 column : 3)\n"
     ]
    },
    {
     "name": "stderr",
     "output_type": "stream",
     "text": [
      "ERROR:Features must have at least one type (1.sysml line : 44 column : 4)\n"
     ]
    },
    {
     "name": "stderr",
     "output_type": "stream",
     "text": [
      "ERROR:Relationships must have at least two related elements (1.sysml line : 44 column : 26)\n"
     ]
    },
    {
     "name": "stderr",
     "output_type": "stream",
     "text": [
      "ERROR:Features must have at least one type (1.sysml line : 51 column : 4)\n"
     ]
    },
    {
     "name": "stderr",
     "output_type": "stream",
     "text": [
      "ERROR:Features must have at least one type (1.sysml line : 52 column : 4)\n"
     ]
    },
    {
     "name": "stderr",
     "output_type": "stream",
     "text": [
      "ERROR:Features must have at least one type (1.sysml line : 53 column : 4)\n"
     ]
    },
    {
     "name": "stderr",
     "output_type": "stream",
     "text": [
      "ERROR:Features must have at least one type (1.sysml line : 60 column : 4)\n"
     ]
    },
    {
     "name": "stderr",
     "output_type": "stream",
     "text": [
      "ERROR:Relationships must have at least two related elements (1.sysml line : 60 column : 26)\n"
     ]
    },
    {
     "name": "stderr",
     "output_type": "stream",
     "text": [
      "ERROR:Features must have at least one type (1.sysml line : 68 column : 4)\n"
     ]
    },
    {
     "name": "stderr",
     "output_type": "stream",
     "text": [
      "ERROR:Features must have at least one type (1.sysml line : 69 column : 4)\n"
     ]
    },
    {
     "name": "stderr",
     "output_type": "stream",
     "text": [
      "ERROR:Features must have at least one type (1.sysml line : 70 column : 4)\n"
     ]
    },
    {
     "name": "stderr",
     "output_type": "stream",
     "text": [
      "ERROR:Features must have at least one type (1.sysml line : 91 column : 4)\n"
     ]
    },
    {
     "name": "stderr",
     "output_type": "stream",
     "text": [
      "ERROR:Relationships must have at least two related elements (1.sysml line : 91 column : 26)\n"
     ]
    },
    {
     "name": "stderr",
     "output_type": "stream",
     "text": [
      "ERROR:Features must have at least one type (1.sysml line : 93 column : 4)\n"
     ]
    },
    {
     "name": "stderr",
     "output_type": "stream",
     "text": [
      "ERROR:Features must have at least one type (1.sysml line : 94 column : 4)\n"
     ]
    },
    {
     "name": "stderr",
     "output_type": "stream",
     "text": [
      "ERROR:Features must have at least one type (1.sysml line : 95 column : 4)\n"
     ]
    },
    {
     "name": "stderr",
     "output_type": "stream",
     "text": [
      "ERROR:Features must have at least one type (1.sysml line : 110 column : 5)\n"
     ]
    },
    {
     "name": "stderr",
     "output_type": "stream",
     "text": [
      "ERROR:Features must have at least one type (1.sysml line : 115 column : 5)\n"
     ]
    },
    {
     "name": "stderr",
     "output_type": "stream",
     "text": [
      "ERROR:Features must have at least one type (1.sysml line : 119 column : 5)\n"
     ]
    },
    {
     "name": "stderr",
     "output_type": "stream",
     "text": [
      "ERROR:A part usage must be typed by item definitions and at least one part definition. (1.sysml line : 146 column : 4)\n"
     ]
    },
    {
     "name": "stderr",
     "output_type": "stream",
     "text": [
      "ERROR:Features must have at least one type (1.sysml line : 146 column : 4)\n"
     ]
    },
    {
     "name": "stderr",
     "output_type": "stream",
     "text": [
      "ERROR:Features must have at least one type (1.sysml line : 147 column : 5)\n"
     ]
    },
    {
     "name": "stdout",
     "output_type": "stream",
     "text": [
      "WARNING:Bound features should have conforming types (1.sysml line : 76 column : 41)\n"
     ]
    },
    {
     "name": "stdout",
     "output_type": "stream",
     "text": [
      "WARNING:Bound features should have conforming types (1.sysml line : 85 column : 46)\n"
     ]
    },
    {
     "name": "stdout",
     "output_type": "stream",
     "text": [
      "WARNING:Bound features should have conforming types (1.sysml line : 99 column : 48)\n"
     ]
    },
    {
     "data": {
      "text/plain": []
     },
     "execution_count": 1,
     "metadata": {},
     "output_type": "execute_result"
    }
   ],
   "source": [
    "/** This is the Norwegian use-case for Arrowhead Framework */\n",
    "package AHFNorway {\n",
    "\t// The use-case is for Productive4.0 and Arrowhead Tools\n",
    "\t// The system is taken from a chemical factory\n",
    "\t// This is focusing on the monitoring of products when delivered\n",
    "\timport AHFProfileLib::*;\n",
    "\timport AHFCoreLib::*;\n",
    "\timport ScalarValues::*;\n",
    "\t\t\n",
    "\tport def APISService :> SD{\n",
    "\t\tattribute :>> serviceDefinition = \"APISPullService\";\n",
    "\t\tattribute :>> intrfce_protocol = \"{JSON}\";\n",
    "\t\tattribute :>> serviceURL = \"pull\";\n",
    "\t}\n",
    "\n",
    "\taction def GetAllItems(in key:Real, out itms:String); // Defining empty behavior to be filled by provider\n",
    "\taction def GiveItems(in itms:String, out ack:Boolean); // Defining another empty behavior\n",
    "\t\n",
    "\tport def APIS_REST :> APISService{\n",
    "\t\t// functionalities \n",
    "\t\tout ref action getAllItems:GetAllItems; // referring to empty functionality\n",
    "\t\tin ref action giveItems:GiveItems; // referring to empty functionality again\n",
    "\t}\n",
    "\t\n",
    "\tport def APIS_MQTT :> APISService{\n",
    "\t\t// GetAllItems functionality\n",
    "\t\tout pub:Publish;\n",
    "\t\tout retall:Return_AllItems;\n",
    "\t\tin subscr:Subscribe;\n",
    "\t\t// GiveItems functionality\n",
    "\t\tin publ:Publish;\n",
    "\t\tin retack:Return_Ack;\n",
    "\t\tout subsr_give:Subscribe_giveItems;\n",
    "\t}\n",
    "\t\n",
    "\tattribute def Publish {nametopic:String;}\n",
    "\tattribute def Subscribe{nametopic:String;}\n",
    "\tattribute def Return_AllItems {itms:String;}\n",
    "\tattribute def Subscribe_giveItems{itms:String;}\n",
    "\tattribute def Return_Ack{ack:Boolean;}\n",
    "\t\n",
    "\tpart def AHFNorway_SoSD :> ArrowheadCore {\t\n",
    "\t\tpart def TellUConsumer :> SysDD{\n",
    "\t\t\tport serviceDiscovery:~ServiceDiscovery subsets services; // communicating with ServiceRegistry\n",
    "\t\t\tport apisp:APIS_REST subsets services\n",
    "\t\t\t{\t/** The body here is to get the contexts and types right, may be changed later */\n",
    "\t\t\t\tin ref action :>> giveItems;\n",
    "\t\t\t\tout ref action :>> getAllItems;\n",
    "\t\t\t}\n",
    "\t\t\t\n",
    "\t\t\tattribute :>> systemname = \"UngerApisClient\";\n",
    "\t\t\tattribute :>> address = \"Unger_network_ip\";\n",
    "\t\t\tattribute :>> portno = 0;\n",
    "\t\t\t\t\t\t\n",
    "\t\t\t// operation call to GiveItems, while actually sending the payload\n",
    "\t\t\tperform apisp::giveItems(in allitems: String = \"All the items\", out ackback:Boolean);\t\t\t\n",
    "\t\t}\n",
    "\t\t\n",
    "\t\tpart def APISProducer :> SysDD{\n",
    "\t\t\tport serviceDiscovery:~ServiceDiscovery subsets services; // communicating with ServiceRegistry\n",
    "\t\t\tport tellu:~APIS_REST subsets services // providing the APISService\n",
    "\t\t\t{\t/** The body here is to get the contexts and types right, may be changed later */\n",
    "\t\t\t\tout ref action :>> giveItems;\n",
    "\t\t\t\tin ref action :>> getAllItems;\n",
    "\t\t\t}\n",
    "\t\t\tport apisc:APIS_MQTT subsets services; // talking to APISConsumer\n",
    "\t\t\t\n",
    "\t\t\t:>> systemname = \"PrediktorApisServer\";\n",
    "\t\t\t:>> address = \"Prediktor_network_ip\";\n",
    "\t\t\t:>> portno = 6565;\n",
    "\t\t\t\n",
    "\t\t\t// Defining the method to correspond to GiveItems\n",
    "\t\t\taction def REST_giveItems :> GiveItems (in itms:String, out ack:Boolean)\n",
    "\t\t\t { /* Forward itms and return an ack */\n",
    "\t\t\t \tfirst start;\n",
    "\t\t\t \tthen send Return_AllItems(itms) to apisc;\n",
    "\t\t\t \tsuccess = true;\n",
    "\t\t\t \tbind ack = success;\n",
    "\t\t\t }\n",
    "\t\t\tprivate action rest_giveItems:REST_giveItems :> ServiceMethod();\n",
    "\t\t\tbind tellu::giveItems = rest_giveItems; // binding the functionality to the method\n",
    "\t\t\t\n",
    "\t\t\t// initialize the asynchronous communication with MQTT\n",
    "\t\t\tstate MQTTPublish {\n",
    "\t\t\t\tentry send Publish(\"Return_AllItems\") to apisc;\n",
    "\t\t\t\tthen done;\n",
    "\t\t\t}\n",
    "\t\t}\n",
    "\t\t\n",
    "\t\tpart def APISConsumer :> SysDD{\n",
    "\t\t\tport serviceDiscovery:~ServiceDiscovery subsets services; // communicating with ServiceRegistry\n",
    "\t\t\tport apisp:~APIS_MQTT subsets services;\n",
    "\t\t\t:>> systemname = \"TellUClient\";\n",
    "\t\t\t:>> address = \"Prediktor_network_ip\";\n",
    "\t\t\t:>> portno = 1;\n",
    "\t\t\t\n",
    "\t\t\t// Now sending signal to the remote behavior through the port functionality\n",
    "\t\t\tstate MQTT_APISP {\n",
    "\t\t\t\tentry send Subscribe(\"Return_AllItems\") to apisp;\n",
    "\t\t\t\tthen Idle;\t\t\n",
    "\t\t\t\tstate Idle;\n",
    "\t\t\t\t\taccept Return_AllItems\n",
    "\t\t\t\t\t// Get the items and do something with them\n",
    "\t\t\t\t\tthen Idle;\n",
    "\t\t\t}\n",
    "\t\t}\n",
    "\n",
    " \t\tpart apisc:APISConsumer subsets systems\n",
    " \t\t{\tport :>> apisp;\n",
    " \t\t\tport :>> serviceDiscovery;\n",
    " \t\t}\n",
    " \t\tpart apisp:APISProducer subsets systems\n",
    " \t\t{\tport :>> apisc;\n",
    " \t\t\tport :>> tellu;\n",
    " \t\t\tport :>> serviceDiscovery;\n",
    " \t\t}\n",
    " \t\tpart telluc:TellUConsumer subsets systems\n",
    " \t\t{\tport :>> apisp;\n",
    " \t\t\tport :>> serviceDiscovery;\n",
    " \t\t}\n",
    " \t\t\n",
    " \t\tpart MQTTServer {\n",
    " \t\t\tport getTopic:~APIS_MQTT;\n",
    " \t\t\tport giveTopic:APIS_MQTT;\n",
    " \t\t\t\n",
    " \t\t\tstate Serve{\t\t\t\t\n",
    " \t\t\t\tentry;\n",
    " \t\t\t\tthen Publ;\n",
    " \t\t\t\tstate Publ;\n",
    " \t\t\t\t\taccept pub:Publish\n",
    " \t\t\t\t\t// store information about who will provide \"Publish::nametopic\"\n",
    " \t\t\t\tthen Subsr;\n",
    " \t\t\t\t\n",
    " \t\t\t\tstate Subsr;\n",
    " \t\t\t\t\taccept Subscribe\n",
    " \t\t\t\t\t// store information about who want to receive \"Subscribe::nametopic\"\n",
    " \t\t\t\tthen Idle;\n",
    " \t\t\t\t\n",
    " \t\t\t\tstate Idle;\n",
    " \t\t\t\t\taccept Return_AllItems // going through getTopic::retall\n",
    " \t\t\t\t\tdo send getTopic::retall to giveTopic // forwarding it through giveTopic::retall\n",
    " \t\t\t\tthen Idle;\n",
    " \t\t\t} \t\t\t\n",
    " \t\t}\n",
    " \t\t\n",
    " \t\tpart :>> service_registry {\n",
    " \t\t\tport :>> serviceDiscovery;\n",
    " \t\t}\n",
    " \t\t\n",
    " \t\tconnect apisp::apisc to MQTTServer::getTopic; \n",
    " \t\tconnect MQTTServer::giveTopic to apisc::apisp; \n",
    "\t\t\n",
    " \t\tconnect telluc::apisp to apisp::tellu; \n",
    " \t\t\n",
    " \t\t// Then we need to connect the application systems to the mandatory systems\n",
    " \t\tconnect apisp::serviceDiscovery to service_registry::serviceDiscovery;\n",
    " \t\tconnect telluc::serviceDiscovery to service_registry::serviceDiscovery;\n",
    " \t\tconnect apisc::serviceDiscovery to service_registry::serviceDiscovery;\n",
    " \t\t\n",
    " \t\t// Same procedure for the other mandatory services\n",
    "\t\t\n",
    "\t}\n",
    "\t\n",
    "}"
   ]
  }
 ],
 "metadata": {
  "kernelspec": {
   "display_name": "SysML",
   "language": "sysml",
   "name": "sysml"
  },
  "language_info": {
   "codemirror_mode": "sysml",
   "file_extension": ".sysml",
   "mimetype": "text/x-sysml",
   "name": "SysML",
   "pygments_lexer": "java",
   "version": "1.0.0"
  }
 },
 "nbformat": 4,
 "nbformat_minor": 5
}
