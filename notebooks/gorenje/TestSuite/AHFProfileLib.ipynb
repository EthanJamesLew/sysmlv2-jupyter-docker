{
 "cells": [
  {
   "cell_type": "markdown",
   "id": "3ea14eec",
   "metadata": {},
   "source": [
    "# SysML v2 Test Suite\n",
    "\n",
    "This can notebook can be cleared using menu `Edit --> Clear All Outputs` and then all cells can be\n",
    "run using menu `Run --> Run All Cells`.\n",
    "\n",
    "**WARNING**: This file is generated, all modifications here will be ignored.\n"
   ]
  },
  {
   "cell_type": "markdown",
   "id": "4508b2b8",
   "metadata": {},
   "source": [
    "## File: ../../sysml/src/examples/Arrowhead Framework Example/AHFProfileLib.sysml"
   ]
  },
  {
   "cell_type": "code",
   "execution_count": 1,
   "id": "5ef94974",
   "metadata": {
    "execution": {
     "iopub.execute_input": "2021-04-20T07:24:55.205917Z",
     "iopub.status.busy": "2021-04-20T07:24:55.204341Z",
     "iopub.status.idle": "2021-04-20T07:24:55.650571Z",
     "shell.execute_reply": "2021-04-20T07:24:55.649974Z"
    }
   },
   "outputs": [
    {
     "data": {
      "text/plain": [
       "Package AHFProfileLib (9522e1a6-019c-42f7-9b13-8d6394df3a6c)\n"
      ]
     },
     "execution_count": 1,
     "metadata": {},
     "output_type": "execute_result"
    }
   ],
   "source": [
    "/** This is the start of a library for Arrowhead Framework\n",
    " */\n",
    "\n",
    "package AHFProfileLib {\n",
    "\t/** Services and (later) functionalities */\n",
    "\timport Base::*;\n",
    "\timport ScalarValues::*;\n",
    "\timport Performances::*;\n",
    "\t\n",
    "\tport def SD{\n",
    "\t\t/* operations do not seem to be included yet*/\n",
    "\t\tattribute serviceDefinition:String;\n",
    "\t\tattribute serviceURL:String;\n",
    "\t\tattribute intrfce_protocol:String; // which may be \"REST\" or \"MQTT\" etc.\t\t \n",
    "\t}\n",
    "\t\n",
    "\tport def IDD :> SD{\n",
    "\t\tattribute encoding_kind:String;\n",
    "\t}\n",
    "\t\n",
    "\t/** System of Systems Definition*/\t\n",
    "\tpart def SoSD {\n",
    "\t\tpart systems:SysD[1..*];\n",
    "\t\n",
    "\t\t/** System definitions */\t\n",
    "\t\tpart def SysD {\n",
    "\t\t\tport services: SD[1..*];\n",
    "\t\t\tattribute systemname: String;\n",
    "\t\t\tattribute address: String;\n",
    "\t\t\tattribute portno: Integer;\n",
    "\t\t}\t\t\n",
    "\t}\n",
    "\n",
    "\t/** System of Systems Detailed Description */\t\n",
    "\tpart def SoSDD :> SoSD {\n",
    "\n",
    "\t\t/** System Detailed Description */\n",
    "\t\tpart def SysDD :> SysD{\n",
    "\t\t\taction ServiceMethod:Performance[1..*]; //means behaviors\n",
    "\t\t}\n",
    "\t}\n",
    "\t\n",
    "\t/** Local cloud definition with devices (not covered all the way)*/\n",
    "\tpart def LocalCloud :> SoSDD;\t\n",
    "\n",
    "}\n"
   ]
  }
 ],
 "metadata": {
  "kernelspec": {
   "display_name": "SysML",
   "language": "sysml",
   "name": "sysml"
  },
  "language_info": {
   "codemirror_mode": "sysml",
   "file_extension": ".sysml",
   "mimetype": "text/x-sysml",
   "name": "SysML",
   "pygments_lexer": "java",
   "version": "1.0.0"
  }
 },
 "nbformat": 4,
 "nbformat_minor": 5
}
