{
 "cells": [
  {
   "cell_type": "markdown",
   "id": "100594ec",
   "metadata": {},
   "source": [
    "# SysML v2 Test Suite\n",
    "\n",
    "This can notebook can be cleared using menu `Edit --> Clear All Outputs` and then all cells can be\n",
    "run using menu `Run --> Run All Cells`.\n",
    "\n",
    "**WARNING**: This file is generated, all modifications here will be ignored.\n"
   ]
  },
  {
   "cell_type": "markdown",
   "id": "47842d52",
   "metadata": {},
   "source": [
    "## File: ../../sysml/src/examples/Simple Tests/ActionTest.sysml"
   ]
  },
  {
   "cell_type": "code",
   "execution_count": 1,
   "id": "894df729",
   "metadata": {
    "execution": {
     "iopub.execute_input": "2021-05-27T06:07:58.184861Z",
     "iopub.status.busy": "2021-05-27T06:07:58.183869Z",
     "iopub.status.idle": "2021-05-27T06:07:58.652353Z",
     "shell.execute_reply": "2021-05-27T06:07:58.651883Z"
    }
   },
   "outputs": [
    {
     "data": {
      "text/plain": [
       "Package ActionTest (96c14256-538c-4f99-86f7-5145f20e9cca)\n"
      ]
     },
     "execution_count": 1,
     "metadata": {},
     "output_type": "execute_result"
    }
   ],
   "source": [
    "package ActionTest {\n",
    "\tattribute def S;\n",
    "\t\n",
    "\taction a {\n",
    "\t\tfirst start;\t\t\n",
    "\t\tthen merge m;\n",
    "\t\tthen accept S; \n",
    "\t\t\n",
    "\t\tthen send S() to B();\t\t\n",
    "\t\tthen decide;\n",
    "\t\t\tif true then m;\n",
    "\t\t\telse done;\n",
    "\t}\n",
    "\t\n",
    "\taction def B;\n",
    "\t\n",
    "}"
   ]
  },
  {
   "cell_type": "code",
   "execution_count": 2,
   "id": "36c2cd0e",
   "metadata": {
    "execution": {
     "iopub.execute_input": "2021-05-27T06:07:58.707588Z",
     "iopub.status.busy": "2021-05-27T06:07:58.706733Z",
     "iopub.status.idle": "2021-05-27T06:07:59.269474Z",
     "shell.execute_reply": "2021-05-27T06:07:59.268027Z"
    }
   },
   "outputs": [
    {
     "data": {
      "image/svg+xml": [
       "<?xml version=\"1.0\" encoding=\"UTF-8\" standalone=\"no\"?><svg xmlns=\"http://www.w3.org/2000/svg\" xmlns:xlink=\"http://www.w3.org/1999/xlink\" contentScriptType=\"application/ecmascript\" contentStyleType=\"text/css\" height=\"684px\" preserveAspectRatio=\"none\" style=\"width:518px;height:684px;\" version=\"1.1\" viewBox=\"0 0 518 684\" width=\"518px\" zoomAndPan=\"magnify\"><defs/><g><!--MD5=[fbc87193dbaf4d95561dea2c320d4a47]\n",
       "cluster E1--><a href=\"psysml:fba87211-d6a8-40ff-8d47-80f3cbac0e83\" target=\"_top\" title=\"psysml:fba87211-d6a8-40ff-8d47-80f3cbac0e83\" xlink:actuate=\"onRequest\" xlink:href=\"psysml:fba87211-d6a8-40ff-8d47-80f3cbac0e83\" xlink:show=\"new\" xlink:title=\"psysml:fba87211-d6a8-40ff-8d47-80f3cbac0e83\" xlink:type=\"simple\"><polygon fill=\"#FFFFFF\" points=\"16,6,107,6,114,28.2969,496,28.2969,496,672,16,672,16,6\" style=\"stroke: #000000; stroke-width: 1.5;\"/><line style=\"stroke: #000000; stroke-width: 1.5;\" x1=\"16\" x2=\"114\" y1=\"28.2969\" y2=\"28.2969\"/><text fill=\"#000000\" font-family=\"sans-serif\" font-size=\"14\" font-weight=\"bold\" lengthAdjust=\"spacingAndGlyphs\" textLength=\"85\" x=\"20\" y=\"20.9951\">ActionTest</text></a><!--MD5=[d5e69f78d87373223dbae638b30a9c99]\n",
       "cluster E3--><a href=\"psysml:ad4f18e6-c096-4c58-bb62-14a597e4442d\" target=\"_top\" title=\"psysml:ad4f18e6-c096-4c58-bb62-14a597e4442d\" xlink:actuate=\"onRequest\" xlink:href=\"psysml:ad4f18e6-c096-4c58-bb62-14a597e4442d\" xlink:show=\"new\" xlink:title=\"psysml:ad4f18e6-c096-4c58-bb62-14a597e4442d\" xlink:type=\"simple\"><rect fill=\"#FFFFFF\" height=\"599\" id=\"E3\" rx=\"10\" ry=\"10\" style=\"stroke: #383838; stroke-width: 1.5;\" width=\"209\" x=\"263\" y=\"49\"/><rect fill=\"#F8F8F8\" height=\"37.9375\" rx=\"10\" ry=\"10\" style=\"stroke: #F8F8F8; stroke-width: 1.5;\" width=\"209\" x=\"263\" y=\"49\"/><rect fill=\"#F8F8F8\" height=\"10\" style=\"stroke: #F8F8F8; stroke-width: 1.5;\" width=\"209\" x=\"263\" y=\"76.9375\"/><rect fill=\"none\" height=\"599\" id=\"E3\" rx=\"10\" ry=\"10\" style=\"stroke: #383838; stroke-width: 1.5;\" width=\"209\" x=\"263\" y=\"49\"/><text fill=\"#000000\" font-family=\"sans-serif\" font-size=\"12\" font-style=\"italic\" lengthAdjust=\"spacingAndGlyphs\" textLength=\"53\" x=\"341\" y=\"65.1387\">«action»</text><text fill=\"#000000\" font-family=\"sans-serif\" font-size=\"12\" lengthAdjust=\"spacingAndGlyphs\" textLength=\"8\" x=\"363.5\" y=\"79.1074\">a</text><line style=\"stroke: #383838; stroke-width: 1.0;\" x1=\"263\" x2=\"472\" y1=\"86.9375\" y2=\"86.9375\"/></a><!--MD5=[b4997ac47864f28c2f74865a473b2911]\n",
       "class E2--><a href=\"psysml:9e8a127b-f23f-41bc-b046-de56fba8ce50\" target=\"_top\" title=\"psysml:9e8a127b-f23f-41bc-b046-de56fba8ce50\" xlink:actuate=\"onRequest\" xlink:href=\"psysml:9e8a127b-f23f-41bc-b046-de56fba8ce50\" xlink:show=\"new\" xlink:title=\"psysml:9e8a127b-f23f-41bc-b046-de56fba8ce50\" xlink:type=\"simple\"><rect fill=\"#FFFFFF\" height=\"45.9375\" id=\"E2\" style=\"stroke: #383838; stroke-width: 1.5;\" width=\"95\" x=\"151.5\" y=\"87\"/><text fill=\"#000000\" font-family=\"sans-serif\" font-size=\"12\" font-style=\"italic\" lengthAdjust=\"spacingAndGlyphs\" textLength=\"93\" x=\"152.5\" y=\"103.1387\">«attribute def»</text><text fill=\"#000000\" font-family=\"sans-serif\" font-size=\"12\" lengthAdjust=\"spacingAndGlyphs\" textLength=\"8\" x=\"195\" y=\"117.1074\">S</text><line style=\"stroke: #383838; stroke-width: 1.5;\" x1=\"152.5\" x2=\"245.5\" y1=\"124.9375\" y2=\"124.9375\"/></a><polygon fill=\"#F8F8F8\" points=\"420,194,432,206,420,218,408,206,420,194\" style=\"stroke: #383838; stroke-width: 1.5;\"/><!--MD5=[21dd76c19d33815960c0e92fef8f0eef]\n",
       "entity E5--><a href=\"psysml:ccfba6f1-4ce0-4ddd-afd5-b866d68d47d7\" target=\"_top\" title=\"psysml:ccfba6f1-4ce0-4ddd-afd5-b866d68d47d7\" xlink:actuate=\"onRequest\" xlink:href=\"psysml:ccfba6f1-4ce0-4ddd-afd5-b866d68d47d7\" xlink:show=\"new\" xlink:title=\"psysml:ccfba6f1-4ce0-4ddd-afd5-b866d68d47d7\" xlink:type=\"simple\"><polygon fill=\"#F8F8F8\" points=\"279,279,279,333.5938,419,333.5938,399,306.2969,419,279\" style=\"stroke: #000000; stroke-width: 1.5;\"/><text fill=\"#000000\" font-family=\"sans-serif\" font-size=\"14\" font-style=\"italic\" lengthAdjust=\"spacingAndGlyphs\" textLength=\"111\" x=\"286\" y=\"301.9951\">«accept action»</text><text fill=\"#000000\" font-family=\"sans-serif\" font-size=\"14\" lengthAdjust=\"spacingAndGlyphs\" textLength=\"9\" x=\"337\" y=\"319.292\">S</text></a><!--MD5=[24d87cdf3002d433f401b2a2aa9f9f65]\n",
       "entity E6--><a href=\"psysml:f31bbeb6-49c7-47f4-9bac-592fafbdce16\" target=\"_top\" title=\"psysml:f31bbeb6-49c7-47f4-9bac-592fafbdce16\" xlink:actuate=\"onRequest\" xlink:href=\"psysml:f31bbeb6-49c7-47f4-9bac-592fafbdce16\" xlink:show=\"new\" xlink:title=\"psysml:f31bbeb6-49c7-47f4-9bac-592fafbdce16\" xlink:type=\"simple\"><polygon fill=\"#F8F8F8\" points=\"279,411,279,465.5938,387,465.5938,407,438.2969,387,411\" style=\"stroke: #000000; stroke-width: 1.5;\"/><text fill=\"#000000\" font-family=\"sans-serif\" font-size=\"14\" font-style=\"italic\" lengthAdjust=\"spacingAndGlyphs\" textLength=\"99\" x=\"286\" y=\"433.9951\">«send action»</text><text fill=\"#000000\" font-family=\"sans-serif\" font-size=\"14\" lengthAdjust=\"spacingAndGlyphs\" textLength=\"65\" x=\"303\" y=\"451.292\">S() to  B()</text></a><polygon fill=\"#F8F8F8\" points=\"418,527,430,539,418,551,406,539,418,527\" style=\"stroke: #383838; stroke-width: 1.5;\"/><ellipse cx=\"420\" cy=\"110\" fill=\"#000000\" rx=\"10\" ry=\"10\" style=\"stroke: none; stroke-width: 1.0;\"/><ellipse cx=\"418\" cy=\"622\" fill=\"none\" rx=\"10\" ry=\"10\" style=\"stroke: #000000; stroke-width: 1.0;\"/><ellipse cx=\"418.5\" cy=\"622.5\" fill=\"#000000\" rx=\"6\" ry=\"6\" style=\"stroke: none; stroke-width: 1.0;\"/><g id=\"E1.E8\"><a href=\"psysml:4eec70ee-61f4-4cab-8137-f00a9e5c8983\" target=\"_top\" title=\"psysml:4eec70ee-61f4-4cab-8137-f00a9e5c8983\" xlink:actuate=\"onRequest\" xlink:href=\"psysml:4eec70ee-61f4-4cab-8137-f00a9e5c8983\" xlink:show=\"new\" xlink:title=\"psysml:4eec70ee-61f4-4cab-8137-f00a9e5c8983\" xlink:type=\"simple\"><rect fill=\"#FFFFFF\" height=\"42.9375\" id=\"E8\" style=\"stroke: #383838; stroke-width: 1.5;\" width=\"84\" x=\"32\" y=\"88.5\"/><rect fill=\"#F8F8F8\" height=\"37.9375\" style=\"stroke: #383838; stroke-width: 1.5;\" width=\"84\" x=\"32\" y=\"88.5\"/><text fill=\"#000000\" font-family=\"sans-serif\" font-size=\"12\" font-style=\"italic\" lengthAdjust=\"spacingAndGlyphs\" textLength=\"77\" x=\"35.5\" y=\"104.6387\">«action def»</text><text fill=\"#000000\" font-family=\"sans-serif\" font-size=\"12\" lengthAdjust=\"spacingAndGlyphs\" textLength=\"8\" x=\"70\" y=\"118.6074\">B</text></a></g><!--MD5=[f47e10efcf9a6752d55dae986d790ed9]\n",
       "link *start*E3 to E4--><a href=\"psysml:03e50e83-6fc7-46a8-8453-213dc2aae23c\" target=\"_top\" title=\"psysml:03e50e83-6fc7-46a8-8453-213dc2aae23c\" xlink:actuate=\"onRequest\" xlink:href=\"psysml:03e50e83-6fc7-46a8-8453-213dc2aae23c\" xlink:show=\"new\" xlink:title=\"psysml:03e50e83-6fc7-46a8-8453-213dc2aae23c\" xlink:type=\"simple\"><path d=\"M420,120.01 C420,135.81 420,168.69 420,188.61 \" fill=\"none\" id=\"*start*E3-&gt;E4\" style=\"stroke: #383838; stroke-width: 1.0;\"/><polygon fill=\"#383838\" points=\"420,193.85,424,184.85,420,188.85,416,184.85,420,193.85\" style=\"stroke: #383838; stroke-width: 1.0;\"/></a><!--MD5=[d19f2eb34364d71b67042106d92f540b]\n",
       "link E7 to *end*E3--><a href=\"psysml:c4a668a6-d0f8-468f-9890-a338c2ee16ef\" target=\"_top\" title=\"psysml:c4a668a6-d0f8-468f-9890-a338c2ee16ef\" xlink:actuate=\"onRequest\" xlink:href=\"psysml:c4a668a6-d0f8-468f-9890-a338c2ee16ef\" xlink:show=\"new\" xlink:title=\"psysml:c4a668a6-d0f8-468f-9890-a338c2ee16ef\" xlink:type=\"simple\"><path d=\"M418,551.26 C418,565.66 418,590.63 418,606.46 \" fill=\"none\" id=\"E7-&gt;*end*E3\" style=\"stroke: #383838; stroke-width: 1.0;\"/><polygon fill=\"#383838\" points=\"418,611.84,422,602.84,418,606.84,414,602.84,418,611.84\" style=\"stroke: #383838; stroke-width: 1.0;\"/></a><!--MD5=[1b7591eae5389033d8d09a9d6721a717]\n",
       "link E4 to E5--><a href=\"psysml:f95480df-9a63-41d1-9e12-1ec6bb9c61dc\" target=\"_top\" title=\"psysml:f95480df-9a63-41d1-9e12-1ec6bb9c61dc\" xlink:actuate=\"onRequest\" xlink:href=\"psysml:f95480df-9a63-41d1-9e12-1ec6bb9c61dc\" xlink:show=\"new\" xlink:title=\"psysml:f95480df-9a63-41d1-9e12-1ec6bb9c61dc\" xlink:type=\"simple\"><path d=\"M415.34,213.46 C406.55,225.66 386.99,252.8 371.37,274.46 \" fill=\"none\" id=\"E4-&gt;E5\" style=\"stroke: #383838; stroke-width: 1.0;\"/><polygon fill=\"#383838\" points=\"368.31,278.71,376.8093,273.7339,371.227,274.6491,370.3119,269.0667,368.31,278.71\" style=\"stroke: #383838; stroke-width: 1.0;\"/></a><!--MD5=[9120cf2e5df3bff93db8f754bbbc09b4]\n",
       "link E5 to E6--><a href=\"psysml:73484f54-b4d2-4298-bed2-8c418bf31093\" target=\"_top\" title=\"psysml:73484f54-b4d2-4298-bed2-8c418bf31093\" xlink:actuate=\"onRequest\" xlink:href=\"psysml:73484f54-b4d2-4298-bed2-8c418bf31093\" xlink:show=\"new\" xlink:title=\"psysml:73484f54-b4d2-4298-bed2-8c418bf31093\" xlink:type=\"simple\"><path d=\"M347.77,334.12 C346.81,354.89 345.48,383.8 344.46,405.77 \" fill=\"none\" id=\"E5-&gt;E6\" style=\"stroke: #383838; stroke-width: 1.0;\"/><polygon fill=\"#383838\" points=\"344.23,410.91,348.6368,402.1021,344.4583,405.9152,340.6452,401.7367,344.23,410.91\" style=\"stroke: #383838; stroke-width: 1.0;\"/></a><!--MD5=[02c70b7c851c11e3980e4e90450dc5dd]\n",
       "link E6 to E7--><a href=\"psysml:860bf181-ae5a-4d8b-9cc8-c19fc893dd3f\" target=\"_top\" title=\"psysml:860bf181-ae5a-4d8b-9cc8-c19fc893dd3f\" xlink:actuate=\"onRequest\" xlink:href=\"psysml:860bf181-ae5a-4d8b-9cc8-c19fc893dd3f\" xlink:show=\"new\" xlink:title=\"psysml:860bf181-ae5a-4d8b-9cc8-c19fc893dd3f\" xlink:type=\"simple\"><path d=\"M363.3,466.16 C378.71,486.4 399.07,513.14 410.09,527.61 \" fill=\"none\" id=\"E6-&gt;E7\" style=\"stroke: #383838; stroke-width: 1.0;\"/><polygon fill=\"#383838\" points=\"413.2,531.69,410.9398,522.104,410.1749,527.7089,404.57,526.9441,413.2,531.69\" style=\"stroke: #383838; stroke-width: 1.0;\"/></a><!--MD5=[6bdd27f9905911a7e892a3dc65cf6b7c]\n",
       "link E7 to E4--><a href=\"psysml:227ffbe5-5fbb-4b69-bf2e-f462a1a2545e\" target=\"_top\" title=\"psysml:227ffbe5-5fbb-4b69-bf2e-f462a1a2545e\" xlink:actuate=\"onRequest\" xlink:href=\"psysml:227ffbe5-5fbb-4b69-bf2e-f462a1a2545e\" xlink:show=\"new\" xlink:title=\"psysml:227ffbe5-5fbb-4b69-bf2e-f462a1a2545e\" xlink:type=\"simple\"><path d=\"M419.98,528.56 C426.8,494.71 448.32,376.18 437,279 C434.59,258.32 428.42,234.96 424.21,220.61 \" fill=\"none\" id=\"E7-&gt;E4\" style=\"stroke: #383838; stroke-width: 1.0;\"/><polygon fill=\"#383838\" points=\"422.76,215.75,421.4935,225.5171,424.1863,220.5423,429.1611,223.2351,422.76,215.75\" style=\"stroke: #383838; stroke-width: 1.0;\"/><text fill=\"#000000\" font-family=\"sans-serif\" font-size=\"13\" lengthAdjust=\"spacingAndGlyphs\" textLength=\"36\" x=\"440\" y=\"377.0669\">[true]</text></a><!--MD5=[44e56740ab3a3d7cbfd2a684bb9bd9a0]\n",
       "@startuml\r\n",
       " skinparam monochrome true\r\n",
       "skinparam classbackgroundcolor white\r\n",
       "skinparam shadowing false\r\n",
       "skinparam wrapWidth 300\r\n",
       "hide circle\r\n",
       "\r\n",
       "package \"ActionTest\" as E1  [[psysml:fba87211-d6a8-40ff-8d47-80f3cbac0e83 ]]  {\r\n",
       "comp def \"S\" as E2  <<(T,blue)attribute def>> [[psysml:9e8a127b-f23f-41bc-b046-de56fba8ce50 ]] {\r\n",
       "}\r\n",
       "rec usage \"a\" as E3  <<(T,blue)action>> [[psysml:ad4f18e6-c096-4c58-bb62-14a597e4442d ]] {\r\n",
       "choice \"m\" as E4  [[psysml:e85a3052-7a7b-4311-97f8-bb0216d1246f ]] \r\n",
       "accept \" S\" as E5 <<accept action>> [[psysml:ccfba6f1-4ce0-4ddd-afd5-b866d68d47d7 ]] \r\n",
       "send \" S() to  B()\" as E6 <<send action>> [[psysml:f31bbeb6-49c7-47f4-9bac-592fafbdce16 ]] \r\n",
       "choice \"noname\" as E7  [[psysml:7507dc2c-9b39-4c30-b0ef-dd6a627e8c4c ]] \r\n",
       "[*] - -> E4 [[psysml:03e50e83-6fc7-46a8-8453-213dc2aae23c ]] \r\n",
       "E7  - -> [*] [[psysml:c4a668a6-d0f8-468f-9890-a338c2ee16ef ]] \r\n",
       "}\r\n",
       "\r\n",
       "rec def \"B\" as E8  <<(T,blue)action def>> [[psysml:4eec70ee-61f4-4cab-8137-f00a9e5c8983 ]] {\r\n",
       "}\r\n",
       "\r\n",
       "E4 - -> E5 [[psysml:f95480df-9a63-41d1-9e12-1ec6bb9c61dc ]] \r\n",
       "E5 - -> E6 [[psysml:73484f54-b4d2-4298-bed2-8c418bf31093 ]] \r\n",
       "E6 - -> E7 [[psysml:860bf181-ae5a-4d8b-9cc8-c19fc893dd3f ]] \r\n",
       "E7  - -> E4 [[psysml:227ffbe5-5fbb-4b69-bf2e-f462a1a2545e ]] : [true]\r\n",
       "}\r\n",
       "@enduml\r\n",
       "\n",
       "PlantUML version 1.2020.13(Sat Jun 13 12:26:38 UTC 2020)\n",
       "(EPL source distribution)\n",
       "Java Runtime: OpenJDK Runtime Environment\n",
       "JVM: OpenJDK 64-Bit Server VM\n",
       "Default Encoding: UTF-8\n",
       "Language: en\n",
       "Country: null\n",
       "--></g></svg>"
      ]
     },
     "execution_count": 2,
     "metadata": {},
     "output_type": "execute_result"
    }
   ],
   "source": [
    "%viz --style=\"COMPTREE\" --view=\"Default\" \"ActionTest\""
   ]
  },
  {
   "cell_type": "code",
   "execution_count": 3,
   "id": "166140e6",
   "metadata": {
    "execution": {
     "iopub.execute_input": "2021-05-27T06:07:59.316775Z",
     "iopub.status.busy": "2021-05-27T06:07:59.315890Z",
     "iopub.status.idle": "2021-05-27T06:07:59.421310Z",
     "shell.execute_reply": "2021-05-27T06:07:59.420424Z"
    }
   },
   "outputs": [
    {
     "data": {
      "image/svg+xml": [
       "<?xml version=\"1.0\" encoding=\"UTF-8\" standalone=\"no\"?><svg xmlns=\"http://www.w3.org/2000/svg\" xmlns:xlink=\"http://www.w3.org/1999/xlink\" contentScriptType=\"application/ecmascript\" contentStyleType=\"text/css\" height=\"187px\" preserveAspectRatio=\"none\" style=\"width:475px;height:187px;\" version=\"1.1\" viewBox=\"0 0 475 187\" width=\"475px\" zoomAndPan=\"magnify\"><defs/><g><!--MD5=[fbc87193dbaf4d95561dea2c320d4a47]\n",
       "cluster E1--><a href=\"psysml:fba87211-d6a8-40ff-8d47-80f3cbac0e83\" target=\"_top\" title=\"psysml:fba87211-d6a8-40ff-8d47-80f3cbac0e83\" xlink:actuate=\"onRequest\" xlink:href=\"psysml:fba87211-d6a8-40ff-8d47-80f3cbac0e83\" xlink:show=\"new\" xlink:title=\"psysml:fba87211-d6a8-40ff-8d47-80f3cbac0e83\" xlink:type=\"simple\"><polygon fill=\"#FFFFFF\" points=\"16,6,107,6,114,28.2969,453,28.2969,453,175,16,175,16,6\" style=\"stroke: #000000; stroke-width: 1.5;\"/><line style=\"stroke: #000000; stroke-width: 1.5;\" x1=\"16\" x2=\"114\" y1=\"28.2969\" y2=\"28.2969\"/><text fill=\"#000000\" font-family=\"sans-serif\" font-size=\"14\" font-weight=\"bold\" lengthAdjust=\"spacingAndGlyphs\" textLength=\"85\" x=\"20\" y=\"20.9951\">ActionTest</text></a><!--MD5=[b4997ac47864f28c2f74865a473b2911]\n",
       "class E2--><a href=\"psysml:9e8a127b-f23f-41bc-b046-de56fba8ce50\" target=\"_top\" title=\"psysml:9e8a127b-f23f-41bc-b046-de56fba8ce50\" xlink:actuate=\"onRequest\" xlink:href=\"psysml:9e8a127b-f23f-41bc-b046-de56fba8ce50\" xlink:show=\"new\" xlink:title=\"psysml:9e8a127b-f23f-41bc-b046-de56fba8ce50\" xlink:type=\"simple\"><rect fill=\"#FFFFFF\" height=\"45.9375\" id=\"E2\" style=\"stroke: #383838; stroke-width: 1.5;\" width=\"95\" x=\"341.5\" y=\"77\"/><text fill=\"#000000\" font-family=\"sans-serif\" font-size=\"12\" font-style=\"italic\" lengthAdjust=\"spacingAndGlyphs\" textLength=\"93\" x=\"342.5\" y=\"93.1387\">«attribute def»</text><text fill=\"#000000\" font-family=\"sans-serif\" font-size=\"12\" lengthAdjust=\"spacingAndGlyphs\" textLength=\"8\" x=\"385\" y=\"107.1074\">S</text><line style=\"stroke: #383838; stroke-width: 1.5;\" x1=\"342.5\" x2=\"435.5\" y1=\"114.9375\" y2=\"114.9375\"/></a><!--MD5=[09b614a08d8cba4a07c9adeb5e0fee81]\n",
       "class E3--><a href=\"psysml:ad4f18e6-c096-4c58-bb62-14a597e4442d\" target=\"_top\" title=\"psysml:ad4f18e6-c096-4c58-bb62-14a597e4442d\" xlink:actuate=\"onRequest\" xlink:href=\"psysml:ad4f18e6-c096-4c58-bb62-14a597e4442d\" xlink:show=\"new\" xlink:title=\"psysml:ad4f18e6-c096-4c58-bb62-14a597e4442d\" xlink:type=\"simple\"><rect fill=\"#FFFFFF\" height=\"117.9609\" id=\"E3\" rx=\"10\" ry=\"10\" style=\"stroke: #383838; stroke-width: 1.5;\" width=\"160\" x=\"146\" y=\"41\"/><text fill=\"#000000\" font-family=\"sans-serif\" font-size=\"12\" font-style=\"italic\" lengthAdjust=\"spacingAndGlyphs\" textLength=\"53\" x=\"199.5\" y=\"57.1387\">«action»</text><text fill=\"#000000\" font-family=\"sans-serif\" font-size=\"12\" lengthAdjust=\"spacingAndGlyphs\" textLength=\"8\" x=\"222\" y=\"71.1074\">a</text><line style=\"stroke: #383838; stroke-width: 1.5;\" x1=\"147\" x2=\"305\" y1=\"78.9375\" y2=\"78.9375\"/><text fill=\"#000000\" font-family=\"sans-serif\" font-size=\"11\" lengthAdjust=\"spacingAndGlyphs\" textLength=\"69\" x=\"152\" y=\"109.9526\">start: Action</text><text fill=\"#000000\" font-family=\"sans-serif\" font-size=\"11\" font-style=\"italic\" lengthAdjust=\"spacingAndGlyphs\" textLength=\"148\" x=\"152\" y=\"122.7573\">:&gt;&gt;Occurrence::startShot</text><line style=\"stroke: #383838; stroke-width: 1.0;\" x1=\"147\" x2=\"205.5\" y1=\"93.3398\" y2=\"93.3398\"/><text fill=\"#000000\" font-family=\"sans-serif\" font-size=\"11\" lengthAdjust=\"spacingAndGlyphs\" textLength=\"41\" x=\"205.5\" y=\"96.6479\">actions</text><line style=\"stroke: #383838; stroke-width: 1.0;\" x1=\"246.5\" x2=\"305\" y1=\"93.3398\" y2=\"93.3398\"/><text fill=\"#000000\" font-family=\"sans-serif\" font-size=\"11\" lengthAdjust=\"spacingAndGlyphs\" textLength=\"11\" x=\"152\" y=\"152.3667\">m</text><line style=\"stroke: #383838; stroke-width: 1.0;\" x1=\"147\" x2=\"189.5\" y1=\"135.7539\" y2=\"135.7539\"/><text fill=\"#000000\" font-family=\"sans-serif\" font-size=\"11\" lengthAdjust=\"spacingAndGlyphs\" textLength=\"73\" x=\"189.5\" y=\"139.062\">mergeNodes</text><line style=\"stroke: #383838; stroke-width: 1.0;\" x1=\"262.5\" x2=\"305\" y1=\"135.7539\" y2=\"135.7539\"/></a><!--MD5=[60a26617385b1d2d0262a64233df1f8d]\n",
       "class E6--><a href=\"psysml:4eec70ee-61f4-4cab-8137-f00a9e5c8983\" target=\"_top\" title=\"psysml:4eec70ee-61f4-4cab-8137-f00a9e5c8983\" xlink:actuate=\"onRequest\" xlink:href=\"psysml:4eec70ee-61f4-4cab-8137-f00a9e5c8983\" xlink:show=\"new\" xlink:title=\"psysml:4eec70ee-61f4-4cab-8137-f00a9e5c8983\" xlink:type=\"simple\"><rect fill=\"#FFFFFF\" height=\"45.9375\" id=\"E6\" style=\"stroke: #383838; stroke-width: 1.5;\" width=\"79\" x=\"31.5\" y=\"77\"/><text fill=\"#000000\" font-family=\"sans-serif\" font-size=\"12\" font-style=\"italic\" lengthAdjust=\"spacingAndGlyphs\" textLength=\"77\" x=\"32.5\" y=\"93.1387\">«action def»</text><text fill=\"#000000\" font-family=\"sans-serif\" font-size=\"12\" lengthAdjust=\"spacingAndGlyphs\" textLength=\"8\" x=\"67\" y=\"107.1074\">B</text><line style=\"stroke: #383838; stroke-width: 1.5;\" x1=\"32.5\" x2=\"109.5\" y1=\"114.9375\" y2=\"114.9375\"/></a><!--MD5=[2cb13efb934757eb21f55e5a9b516143]\n",
       "@startuml\r\n",
       " skinparam monochrome true\r\n",
       "skinparam classbackgroundcolor white\r\n",
       "skinparam shadowing false\r\n",
       "skinparam wrapWidth 300\r\n",
       "hide circle\r\n",
       "\r\n",
       "package \"ActionTest\" as E1  [[psysml:fba87211-d6a8-40ff-8d47-80f3cbac0e83 ]]  {\r\n",
       "comp def \"S\" as E2  <<(T,blue)attribute def>> [[psysml:9e8a127b-f23f-41bc-b046-de56fba8ce50 ]] {\r\n",
       "}\r\n",
       "comp usage \"a\" as E3  <<(T,blue)action>> [[psysml:ad4f18e6-c096-4c58-bb62-14a597e4442d ]] {\r\n",
       "- - actions - -\r\n",
       "start: Action\\n//:>>Occurrence::startShot// \r\n",
       "- - mergeNodes - -\r\n",
       "m\r\n",
       "}\r\n",
       "comp def \"B\" as E6  <<(T,blue)action def>> [[psysml:4eec70ee-61f4-4cab-8137-f00a9e5c8983 ]] {\r\n",
       "}\r\n",
       "}\r\n",
       "@enduml\r\n",
       "\n",
       "PlantUML version 1.2020.13(Sat Jun 13 12:26:38 UTC 2020)\n",
       "(EPL source distribution)\n",
       "Java Runtime: OpenJDK Runtime Environment\n",
       "JVM: OpenJDK 64-Bit Server VM\n",
       "Default Encoding: UTF-8\n",
       "Language: en\n",
       "Country: null\n",
       "--></g></svg>"
      ]
     },
     "execution_count": 3,
     "metadata": {},
     "output_type": "execute_result"
    }
   ],
   "source": [
    "%viz --style=\"COMPTREE\" --view=\"Tree\" \"ActionTest\""
   ]
  },
  {
   "cell_type": "code",
   "execution_count": 4,
   "id": "6e161f02",
   "metadata": {
    "execution": {
     "iopub.execute_input": "2021-05-27T06:07:59.473293Z",
     "iopub.status.busy": "2021-05-27T06:07:59.472470Z",
     "iopub.status.idle": "2021-05-27T06:07:59.481930Z",
     "shell.execute_reply": "2021-05-27T06:07:59.481047Z"
    }
   },
   "outputs": [
    {
     "data": {
      "image/svg+xml": [
       "<?xml version=\"1.0\" encoding=\"UTF-8\" standalone=\"no\"?><svg xmlns=\"http://www.w3.org/2000/svg\" xmlns:xlink=\"http://www.w3.org/1999/xlink\" contentScriptType=\"application/ecmascript\" contentStyleType=\"text/css\" height=\"12px\" preserveAspectRatio=\"none\" style=\"width:12px;height:12px;\" version=\"1.1\" viewBox=\"0 0 12 12\" width=\"12px\" zoomAndPan=\"magnify\"><defs/><g><!--MD5=[f19188ef49e11757b5c46753f95d9edc]\n",
       "@startuml\r\n",
       " skinparam monochrome true\r\n",
       "skinparam classbackgroundcolor white\r\n",
       "skinparam shadowing false\r\n",
       "skinparam wrapWidth 300\r\n",
       "hide circle\r\n",
       "\r\n",
       "@enduml\r\n",
       "\n",
       "PlantUML version 1.2020.13(Sat Jun 13 12:26:38 UTC 2020)\n",
       "(EPL source distribution)\n",
       "Java Runtime: OpenJDK Runtime Environment\n",
       "JVM: OpenJDK 64-Bit Server VM\n",
       "Default Encoding: UTF-8\n",
       "Language: en\n",
       "Country: null\n",
       "--></g></svg>"
      ]
     },
     "execution_count": 4,
     "metadata": {},
     "output_type": "execute_result"
    }
   ],
   "source": [
    "%viz --style=\"COMPTREE\" --view=\"State\" \"ActionTest\""
   ]
  },
  {
   "cell_type": "code",
   "execution_count": 5,
   "id": "9c977aef",
   "metadata": {
    "execution": {
     "iopub.execute_input": "2021-05-27T06:07:59.536429Z",
     "iopub.status.busy": "2021-05-27T06:07:59.535353Z",
     "iopub.status.idle": "2021-05-27T06:07:59.604385Z",
     "shell.execute_reply": "2021-05-27T06:07:59.604637Z"
    }
   },
   "outputs": [
    {
     "data": {
      "image/svg+xml": [
       "<?xml version=\"1.0\" encoding=\"UTF-8\" standalone=\"no\"?><svg xmlns=\"http://www.w3.org/2000/svg\" xmlns:xlink=\"http://www.w3.org/1999/xlink\" contentScriptType=\"application/ecmascript\" contentStyleType=\"text/css\" height=\"462px\" preserveAspectRatio=\"none\" style=\"width:522px;height:462px;\" version=\"1.1\" viewBox=\"0 0 522 462\" width=\"522px\" zoomAndPan=\"magnify\"><defs/><g><!--MD5=[fbc87193dbaf4d95561dea2c320d4a47]\n",
       "cluster E1--><a href=\"psysml:fba87211-d6a8-40ff-8d47-80f3cbac0e83\" target=\"_top\" title=\"psysml:fba87211-d6a8-40ff-8d47-80f3cbac0e83\" xlink:actuate=\"onRequest\" xlink:href=\"psysml:fba87211-d6a8-40ff-8d47-80f3cbac0e83\" xlink:show=\"new\" xlink:title=\"psysml:fba87211-d6a8-40ff-8d47-80f3cbac0e83\" xlink:type=\"simple\"><polygon fill=\"#FFFFFF\" points=\"16,6,107,6,114,28.2969,500,28.2969,500,450.5,16,450.5,16,6\" style=\"stroke: #000000; stroke-width: 1.5;\"/><line style=\"stroke: #000000; stroke-width: 1.5;\" x1=\"16\" x2=\"114\" y1=\"28.2969\" y2=\"28.2969\"/><text fill=\"#000000\" font-family=\"sans-serif\" font-size=\"14\" font-weight=\"bold\" lengthAdjust=\"spacingAndGlyphs\" textLength=\"85\" x=\"20\" y=\"20.9951\">ActionTest</text></a><!--MD5=[d5e69f78d87373223dbae638b30a9c99]\n",
       "cluster E3--><a href=\"psysml:ad4f18e6-c096-4c58-bb62-14a597e4442d\" target=\"_top\" title=\"psysml:ad4f18e6-c096-4c58-bb62-14a597e4442d\" xlink:actuate=\"onRequest\" xlink:href=\"psysml:ad4f18e6-c096-4c58-bb62-14a597e4442d\" xlink:show=\"new\" xlink:title=\"psysml:ad4f18e6-c096-4c58-bb62-14a597e4442d\" xlink:type=\"simple\"><rect fill=\"#FFFFFF\" height=\"377.5\" id=\"E3\" rx=\"10\" ry=\"10\" style=\"stroke: #383838; stroke-width: 1.5;\" width=\"209\" x=\"267\" y=\"49\"/><rect fill=\"#F8F8F8\" height=\"37.9375\" rx=\"10\" ry=\"10\" style=\"stroke: #F8F8F8; stroke-width: 1.5;\" width=\"209\" x=\"267\" y=\"49\"/><rect fill=\"#F8F8F8\" height=\"10\" style=\"stroke: #F8F8F8; stroke-width: 1.5;\" width=\"209\" x=\"267\" y=\"76.9375\"/><rect fill=\"none\" height=\"377.5\" id=\"E3\" rx=\"10\" ry=\"10\" style=\"stroke: #383838; stroke-width: 1.5;\" width=\"209\" x=\"267\" y=\"49\"/><text fill=\"#000000\" font-family=\"sans-serif\" font-size=\"12\" font-style=\"italic\" lengthAdjust=\"spacingAndGlyphs\" textLength=\"53\" x=\"345\" y=\"65.1387\">«action»</text><text fill=\"#000000\" font-family=\"sans-serif\" font-size=\"12\" lengthAdjust=\"spacingAndGlyphs\" textLength=\"8\" x=\"367.5\" y=\"79.1074\">a</text><line style=\"stroke: #383838; stroke-width: 1.0;\" x1=\"267\" x2=\"476\" y1=\"86.9375\" y2=\"86.9375\"/></a><g id=\"E1.E2\"><a href=\"psysml:9e8a127b-f23f-41bc-b046-de56fba8ce50\" target=\"_top\" title=\"psysml:9e8a127b-f23f-41bc-b046-de56fba8ce50\" xlink:actuate=\"onRequest\" xlink:href=\"psysml:9e8a127b-f23f-41bc-b046-de56fba8ce50\" xlink:show=\"new\" xlink:title=\"psysml:9e8a127b-f23f-41bc-b046-de56fba8ce50\" xlink:type=\"simple\"><rect fill=\"#FFFFFF\" height=\"42.9375\" id=\"E2\" style=\"stroke: #383838; stroke-width: 1.5;\" width=\"100\" x=\"151\" y=\"88.5\"/><rect fill=\"#F8F8F8\" height=\"37.9375\" style=\"stroke: #383838; stroke-width: 1.5;\" width=\"100\" x=\"151\" y=\"88.5\"/><text fill=\"#000000\" font-family=\"sans-serif\" font-size=\"12\" font-style=\"italic\" lengthAdjust=\"spacingAndGlyphs\" textLength=\"93\" x=\"154.5\" y=\"104.6387\">«attribute def»</text><text fill=\"#000000\" font-family=\"sans-serif\" font-size=\"12\" lengthAdjust=\"spacingAndGlyphs\" textLength=\"8\" x=\"197\" y=\"118.6074\">S</text></a></g><polygon fill=\"#F8F8F8\" points=\"424,148.5,436,160.5,424,172.5,412,160.5,424,148.5\" style=\"stroke: #383838; stroke-width: 1.5;\"/><!--MD5=[21dd76c19d33815960c0e92fef8f0eef]\n",
       "entity E5--><a href=\"psysml:ccfba6f1-4ce0-4ddd-afd5-b866d68d47d7\" target=\"_top\" title=\"psysml:ccfba6f1-4ce0-4ddd-afd5-b866d68d47d7\" xlink:actuate=\"onRequest\" xlink:href=\"psysml:ccfba6f1-4ce0-4ddd-afd5-b866d68d47d7\" xlink:show=\"new\" xlink:title=\"psysml:ccfba6f1-4ce0-4ddd-afd5-b866d68d47d7\" xlink:type=\"simple\"><polygon fill=\"#F8F8F8\" points=\"283,189.5,283,244.0938,423,244.0938,403,216.7969,423,189.5\" style=\"stroke: #000000; stroke-width: 1.5;\"/><text fill=\"#000000\" font-family=\"sans-serif\" font-size=\"14\" font-style=\"italic\" lengthAdjust=\"spacingAndGlyphs\" textLength=\"111\" x=\"290\" y=\"212.4951\">«accept action»</text><text fill=\"#000000\" font-family=\"sans-serif\" font-size=\"14\" lengthAdjust=\"spacingAndGlyphs\" textLength=\"9\" x=\"341\" y=\"229.792\">S</text></a><!--MD5=[24d87cdf3002d433f401b2a2aa9f9f65]\n",
       "entity E6--><a href=\"psysml:f31bbeb6-49c7-47f4-9bac-592fafbdce16\" target=\"_top\" title=\"psysml:f31bbeb6-49c7-47f4-9bac-592fafbdce16\" xlink:actuate=\"onRequest\" xlink:href=\"psysml:f31bbeb6-49c7-47f4-9bac-592fafbdce16\" xlink:show=\"new\" xlink:title=\"psysml:f31bbeb6-49c7-47f4-9bac-592fafbdce16\" xlink:type=\"simple\"><polygon fill=\"#F8F8F8\" points=\"283,277.5,283,332.0938,391,332.0938,411,304.7969,391,277.5\" style=\"stroke: #000000; stroke-width: 1.5;\"/><text fill=\"#000000\" font-family=\"sans-serif\" font-size=\"14\" font-style=\"italic\" lengthAdjust=\"spacingAndGlyphs\" textLength=\"99\" x=\"290\" y=\"300.4951\">«send action»</text><text fill=\"#000000\" font-family=\"sans-serif\" font-size=\"14\" lengthAdjust=\"spacingAndGlyphs\" textLength=\"65\" x=\"307\" y=\"317.792\">S() to  B()</text></a><polygon fill=\"#F8F8F8\" points=\"422,349.5,434,361.5,422,373.5,410,361.5,422,349.5\" style=\"stroke: #383838; stroke-width: 1.5;\"/><ellipse cx=\"424\" cy=\"110\" fill=\"#000000\" rx=\"10\" ry=\"10\" style=\"stroke: none; stroke-width: 1.0;\"/><ellipse cx=\"422\" cy=\"400.5\" fill=\"none\" rx=\"10\" ry=\"10\" style=\"stroke: #000000; stroke-width: 1.0;\"/><ellipse cx=\"422.5\" cy=\"401\" fill=\"#000000\" rx=\"6\" ry=\"6\" style=\"stroke: none; stroke-width: 1.0;\"/><g id=\"E1.E8\"><a href=\"psysml:4eec70ee-61f4-4cab-8137-f00a9e5c8983\" target=\"_top\" title=\"psysml:4eec70ee-61f4-4cab-8137-f00a9e5c8983\" xlink:actuate=\"onRequest\" xlink:href=\"psysml:4eec70ee-61f4-4cab-8137-f00a9e5c8983\" xlink:show=\"new\" xlink:title=\"psysml:4eec70ee-61f4-4cab-8137-f00a9e5c8983\" xlink:type=\"simple\"><rect fill=\"#FFFFFF\" height=\"42.9375\" id=\"E8\" style=\"stroke: #383838; stroke-width: 1.5;\" width=\"84\" x=\"32\" y=\"88.5\"/><rect fill=\"#F8F8F8\" height=\"37.9375\" style=\"stroke: #383838; stroke-width: 1.5;\" width=\"84\" x=\"32\" y=\"88.5\"/><text fill=\"#000000\" font-family=\"sans-serif\" font-size=\"12\" font-style=\"italic\" lengthAdjust=\"spacingAndGlyphs\" textLength=\"77\" x=\"35.5\" y=\"104.6387\">«action def»</text><text fill=\"#000000\" font-family=\"sans-serif\" font-size=\"12\" lengthAdjust=\"spacingAndGlyphs\" textLength=\"8\" x=\"70\" y=\"118.6074\">B</text></a></g><!--MD5=[f47e10efcf9a6752d55dae986d790ed9]\n",
       "link *start*E3 to E4--><a href=\"psysml:03e50e83-6fc7-46a8-8453-213dc2aae23c\" target=\"_top\" title=\"psysml:03e50e83-6fc7-46a8-8453-213dc2aae23c\" xlink:actuate=\"onRequest\" xlink:href=\"psysml:03e50e83-6fc7-46a8-8453-213dc2aae23c\" xlink:show=\"new\" xlink:title=\"psysml:03e50e83-6fc7-46a8-8453-213dc2aae23c\" xlink:type=\"simple\"><path d=\"M424,120.35 C424,126.88 424,135.77 424,143.42 \" fill=\"none\" id=\"*start*E3-&gt;E4\" style=\"stroke: #383838; stroke-width: 1.0;\"/><polygon fill=\"#383838\" points=\"424,148.48,428,139.48,424,143.48,420,139.48,424,148.48\" style=\"stroke: #383838; stroke-width: 1.0;\"/></a><!--MD5=[d19f2eb34364d71b67042106d92f540b]\n",
       "link E7 to *end*E3--><a href=\"psysml:c4a668a6-d0f8-468f-9890-a338c2ee16ef\" target=\"_top\" title=\"psysml:c4a668a6-d0f8-468f-9890-a338c2ee16ef\" xlink:actuate=\"onRequest\" xlink:href=\"psysml:c4a668a6-d0f8-468f-9890-a338c2ee16ef\" xlink:show=\"new\" xlink:title=\"psysml:c4a668a6-d0f8-468f-9890-a338c2ee16ef\" xlink:type=\"simple\"><path d=\"M422,373.8 C422,377.34 422,381.3 422,385.03 \" fill=\"none\" id=\"E7-&gt;*end*E3\" style=\"stroke: #383838; stroke-width: 1.0;\"/><polygon fill=\"#383838\" points=\"422,390.25,426,381.25,422,385.25,418,381.25,422,390.25\" style=\"stroke: #383838; stroke-width: 1.0;\"/></a><!--MD5=[1b7591eae5389033d8d09a9d6721a717]\n",
       "link E4 to E5--><a href=\"psysml:f95480df-9a63-41d1-9e12-1ec6bb9c61dc\" target=\"_top\" title=\"psysml:f95480df-9a63-41d1-9e12-1ec6bb9c61dc\" xlink:actuate=\"onRequest\" xlink:href=\"psysml:f95480df-9a63-41d1-9e12-1ec6bb9c61dc\" xlink:show=\"new\" xlink:title=\"psysml:f95480df-9a63-41d1-9e12-1ec6bb9c61dc\" xlink:type=\"simple\"><path d=\"M417.45,166.53 C411.33,171.23 401.65,178.66 391.64,186.34 \" fill=\"none\" id=\"E4-&gt;E5\" style=\"stroke: #383838; stroke-width: 1.0;\"/><polygon fill=\"#383838\" points=\"387.64,189.41,397.2129,187.0948,391.6037,186.3621,392.3363,180.7529,387.64,189.41\" style=\"stroke: #383838; stroke-width: 1.0;\"/></a><!--MD5=[9120cf2e5df3bff93db8f754bbbc09b4]\n",
       "link E5 to E6--><a href=\"psysml:73484f54-b4d2-4298-bed2-8c418bf31093\" target=\"_top\" title=\"psysml:73484f54-b4d2-4298-bed2-8c418bf31093\" xlink:actuate=\"onRequest\" xlink:href=\"psysml:73484f54-b4d2-4298-bed2-8c418bf31093\" xlink:show=\"new\" xlink:title=\"psysml:73484f54-b4d2-4298-bed2-8c418bf31093\" xlink:type=\"simple\"><path d=\"M351.13,244.74 C350.53,253.4 349.85,263.08 349.23,272.08 \" fill=\"none\" id=\"E5-&gt;E6\" style=\"stroke: #383838; stroke-width: 1.0;\"/><polygon fill=\"#383838\" points=\"348.86,277.28,353.468,268.5756,349.203,272.2918,345.4869,268.0268,348.86,277.28\" style=\"stroke: #383838; stroke-width: 1.0;\"/></a><!--MD5=[02c70b7c851c11e3980e4e90450dc5dd]\n",
       "link E6 to E7--><a href=\"psysml:860bf181-ae5a-4d8b-9cc8-c19fc893dd3f\" target=\"_top\" title=\"psysml:860bf181-ae5a-4d8b-9cc8-c19fc893dd3f\" xlink:actuate=\"onRequest\" xlink:href=\"psysml:860bf181-ae5a-4d8b-9cc8-c19fc893dd3f\" xlink:show=\"new\" xlink:title=\"psysml:860bf181-ae5a-4d8b-9cc8-c19fc893dd3f\" xlink:type=\"simple\"><path d=\"M383.62,332.61 C393.72,339.95 403.91,347.35 411.24,352.68 \" fill=\"none\" id=\"E6-&gt;E7\" style=\"stroke: #383838; stroke-width: 1.0;\"/><polygon fill=\"#383838\" points=\"415.42,355.72,410.4976,347.1894,411.3776,352.7774,405.7896,353.6574,415.42,355.72\" style=\"stroke: #383838; stroke-width: 1.0;\"/></a><!--MD5=[6bdd27f9905911a7e892a3dc65cf6b7c]\n",
       "link E7 to E4--><a href=\"psysml:227ffbe5-5fbb-4b69-bf2e-f462a1a2545e\" target=\"_top\" title=\"psysml:227ffbe5-5fbb-4b69-bf2e-f462a1a2545e\" xlink:actuate=\"onRequest\" xlink:href=\"psysml:227ffbe5-5fbb-4b69-bf2e-f462a1a2545e\" xlink:show=\"new\" xlink:title=\"psysml:227ffbe5-5fbb-4b69-bf2e-f462a1a2545e\" xlink:type=\"simple\"><path d=\"M425,352.49 C433.84,327.73 458.06,250.48 441,189.5 C439.26,183.29 435.73,177.1 432.34,172.12 \" fill=\"none\" id=\"E7-&gt;E4\" style=\"stroke: #383838; stroke-width: 1.0;\"/><polygon fill=\"#383838\" points=\"429.31,167.92,431.3342,177.5586,432.2364,171.9741,437.8209,172.8763,429.31,167.92\" style=\"stroke: #383838; stroke-width: 1.0;\"/><text fill=\"#000000\" font-family=\"sans-serif\" font-size=\"13\" lengthAdjust=\"spacingAndGlyphs\" textLength=\"36\" x=\"447\" y=\"265.5669\">[true]</text></a><!--MD5=[24f5640226dae32e45f7200f36c5a8a3]\n",
       "@startuml\r\n",
       "skinparam ranksep 10\r\n",
       "skinparam rectangle {\r\n",
       " backgroundColor<<block>> LightGreen\r\n",
       "}\r\n",
       " skinparam monochrome true\r\n",
       "skinparam classbackgroundcolor white\r\n",
       "skinparam shadowing false\r\n",
       "skinparam wrapWidth 300\r\n",
       "hide circle\r\n",
       "\r\n",
       "package \"ActionTest\" as E1  [[psysml:fba87211-d6a8-40ff-8d47-80f3cbac0e83 ]]  {\r\n",
       "def \"S\" as E2  <<(T,blue)attribute def>> [[psysml:9e8a127b-f23f-41bc-b046-de56fba8ce50 ]] \r\n",
       "rec usage \"a\" as E3  <<(T,blue)action>> [[psysml:ad4f18e6-c096-4c58-bb62-14a597e4442d ]] {\r\n",
       "choice \"m\" as E4  [[psysml:e85a3052-7a7b-4311-97f8-bb0216d1246f ]] \r\n",
       "accept \" S\" as E5 <<accept action>> [[psysml:ccfba6f1-4ce0-4ddd-afd5-b866d68d47d7 ]] \r\n",
       "send \" S() to  B()\" as E6 <<send action>> [[psysml:f31bbeb6-49c7-47f4-9bac-592fafbdce16 ]] \r\n",
       "choice \"noname\" as E7  [[psysml:7507dc2c-9b39-4c30-b0ef-dd6a627e8c4c ]] \r\n",
       "[*] - -> E4 [[psysml:03e50e83-6fc7-46a8-8453-213dc2aae23c ]] \r\n",
       "E7  - -> [*] [[psysml:c4a668a6-d0f8-468f-9890-a338c2ee16ef ]] \r\n",
       "}\r\n",
       "\r\n",
       "rec def \"B\" as E8  <<(T,blue)action def>> [[psysml:4eec70ee-61f4-4cab-8137-f00a9e5c8983 ]] {\r\n",
       "}\r\n",
       "\r\n",
       "E4 - -> E5 [[psysml:f95480df-9a63-41d1-9e12-1ec6bb9c61dc ]] \r\n",
       "E5 - -> E6 [[psysml:73484f54-b4d2-4298-bed2-8c418bf31093 ]] \r\n",
       "E6 - -> E7 [[psysml:860bf181-ae5a-4d8b-9cc8-c19fc893dd3f ]] \r\n",
       "E7  - -> E4 [[psysml:227ffbe5-5fbb-4b69-bf2e-f462a1a2545e ]] : [true]\r\n",
       "}\r\n",
       "@enduml\r\n",
       "\n",
       "PlantUML version 1.2020.13(Sat Jun 13 12:26:38 UTC 2020)\n",
       "(EPL source distribution)\n",
       "Java Runtime: OpenJDK Runtime Environment\n",
       "JVM: OpenJDK 64-Bit Server VM\n",
       "Default Encoding: UTF-8\n",
       "Language: en\n",
       "Country: null\n",
       "--></g></svg>"
      ]
     },
     "execution_count": 5,
     "metadata": {},
     "output_type": "execute_result"
    }
   ],
   "source": [
    "%viz --style=\"COMPTREE\" --view=\"Interconnection\" \"ActionTest\""
   ]
  },
  {
   "cell_type": "code",
   "execution_count": 6,
   "id": "887a017f",
   "metadata": {
    "execution": {
     "iopub.execute_input": "2021-05-27T06:07:59.658993Z",
     "iopub.status.busy": "2021-05-27T06:07:59.658105Z",
     "iopub.status.idle": "2021-05-27T06:07:59.729892Z",
     "shell.execute_reply": "2021-05-27T06:07:59.729603Z"
    }
   },
   "outputs": [
    {
     "data": {
      "image/svg+xml": [
       "<?xml version=\"1.0\" encoding=\"UTF-8\" standalone=\"no\"?><svg xmlns=\"http://www.w3.org/2000/svg\" xmlns:xlink=\"http://www.w3.org/1999/xlink\" contentScriptType=\"application/ecmascript\" contentStyleType=\"text/css\" height=\"395px\" preserveAspectRatio=\"none\" style=\"width:335px;height:395px;\" version=\"1.1\" viewBox=\"0 0 335 395\" width=\"335px\" zoomAndPan=\"magnify\"><defs/><g><!--MD5=[fbc87193dbaf4d95561dea2c320d4a47]\n",
       "cluster E1--><a href=\"psysml:ad4f18e6-c096-4c58-bb62-14a597e4442d\" target=\"_top\" title=\"psysml:ad4f18e6-c096-4c58-bb62-14a597e4442d\" xlink:actuate=\"onRequest\" xlink:href=\"psysml:ad4f18e6-c096-4c58-bb62-14a597e4442d\" xlink:show=\"new\" xlink:title=\"psysml:ad4f18e6-c096-4c58-bb62-14a597e4442d\" xlink:type=\"simple\"><rect fill=\"#FFFFFF\" height=\"377.5\" id=\"E1\" rx=\"10\" ry=\"10\" style=\"stroke: #383838; stroke-width: 1.5;\" width=\"209\" x=\"107\" y=\"7\"/><rect fill=\"#F8F8F8\" height=\"37.9375\" rx=\"10\" ry=\"10\" style=\"stroke: #F8F8F8; stroke-width: 1.5;\" width=\"209\" x=\"107\" y=\"7\"/><rect fill=\"#F8F8F8\" height=\"10\" style=\"stroke: #F8F8F8; stroke-width: 1.5;\" width=\"209\" x=\"107\" y=\"34.9375\"/><rect fill=\"none\" height=\"377.5\" id=\"E1\" rx=\"10\" ry=\"10\" style=\"stroke: #383838; stroke-width: 1.5;\" width=\"209\" x=\"107\" y=\"7\"/><text fill=\"#000000\" font-family=\"sans-serif\" font-size=\"12\" font-style=\"italic\" lengthAdjust=\"spacingAndGlyphs\" textLength=\"53\" x=\"185\" y=\"23.1387\">«action»</text><text fill=\"#000000\" font-family=\"sans-serif\" font-size=\"12\" lengthAdjust=\"spacingAndGlyphs\" textLength=\"8\" x=\"207.5\" y=\"37.1074\">a</text><line style=\"stroke: #383838; stroke-width: 1.0;\" x1=\"107\" x2=\"316\" y1=\"44.9375\" y2=\"44.9375\"/></a><polygon fill=\"#F8F8F8\" points=\"264,106.5,276,118.5,264,130.5,252,118.5,264,106.5\" style=\"stroke: #383838; stroke-width: 1.5;\"/><!--MD5=[a60fb756f580feb9fd8e2cf1329b5c91]\n",
       "entity E3--><a href=\"psysml:ccfba6f1-4ce0-4ddd-afd5-b866d68d47d7\" target=\"_top\" title=\"psysml:ccfba6f1-4ce0-4ddd-afd5-b866d68d47d7\" xlink:actuate=\"onRequest\" xlink:href=\"psysml:ccfba6f1-4ce0-4ddd-afd5-b866d68d47d7\" xlink:show=\"new\" xlink:title=\"psysml:ccfba6f1-4ce0-4ddd-afd5-b866d68d47d7\" xlink:type=\"simple\"><polygon fill=\"#F8F8F8\" points=\"123,147.5,123,202.0938,263,202.0938,243,174.7969,263,147.5\" style=\"stroke: #000000; stroke-width: 1.5;\"/><text fill=\"#000000\" font-family=\"sans-serif\" font-size=\"14\" font-style=\"italic\" lengthAdjust=\"spacingAndGlyphs\" textLength=\"111\" x=\"130\" y=\"170.4951\">«accept action»</text><text fill=\"#000000\" font-family=\"sans-serif\" font-size=\"14\" lengthAdjust=\"spacingAndGlyphs\" textLength=\"9\" x=\"181\" y=\"187.792\">S</text></a><!--MD5=[961cefdc15414eaa3e87aec9d17c2188]\n",
       "entity E4--><a href=\"psysml:f31bbeb6-49c7-47f4-9bac-592fafbdce16\" target=\"_top\" title=\"psysml:f31bbeb6-49c7-47f4-9bac-592fafbdce16\" xlink:actuate=\"onRequest\" xlink:href=\"psysml:f31bbeb6-49c7-47f4-9bac-592fafbdce16\" xlink:show=\"new\" xlink:title=\"psysml:f31bbeb6-49c7-47f4-9bac-592fafbdce16\" xlink:type=\"simple\"><polygon fill=\"#F8F8F8\" points=\"123,235.5,123,290.0938,231,290.0938,251,262.7969,231,235.5\" style=\"stroke: #000000; stroke-width: 1.5;\"/><text fill=\"#000000\" font-family=\"sans-serif\" font-size=\"14\" font-style=\"italic\" lengthAdjust=\"spacingAndGlyphs\" textLength=\"99\" x=\"130\" y=\"258.4951\">«send action»</text><text fill=\"#000000\" font-family=\"sans-serif\" font-size=\"14\" lengthAdjust=\"spacingAndGlyphs\" textLength=\"65\" x=\"147\" y=\"275.792\">S() to  B()</text></a><polygon fill=\"#F8F8F8\" points=\"262,307.5,274,319.5,262,331.5,250,319.5,262,307.5\" style=\"stroke: #383838; stroke-width: 1.5;\"/><ellipse cx=\"264\" cy=\"68\" fill=\"#000000\" rx=\"10\" ry=\"10\" style=\"stroke: none; stroke-width: 1.0;\"/><ellipse cx=\"262\" cy=\"358.5\" fill=\"none\" rx=\"10\" ry=\"10\" style=\"stroke: #000000; stroke-width: 1.0;\"/><ellipse cx=\"262.5\" cy=\"359\" fill=\"#000000\" rx=\"6\" ry=\"6\" style=\"stroke: none; stroke-width: 1.0;\"/><g id=\"E6\"><a href=\"psysml:4eec70ee-61f4-4cab-8137-f00a9e5c8983\" target=\"_top\" title=\"psysml:4eec70ee-61f4-4cab-8137-f00a9e5c8983\" xlink:actuate=\"onRequest\" xlink:href=\"psysml:4eec70ee-61f4-4cab-8137-f00a9e5c8983\" xlink:show=\"new\" xlink:title=\"psysml:4eec70ee-61f4-4cab-8137-f00a9e5c8983\" xlink:type=\"simple\"><rect fill=\"#FFFFFF\" height=\"42.9375\" id=\"E6\" style=\"stroke: #383838; stroke-width: 1.5;\" width=\"84\" x=\"7\" y=\"46.5\"/><rect fill=\"#F8F8F8\" height=\"37.9375\" style=\"stroke: #383838; stroke-width: 1.5;\" width=\"84\" x=\"7\" y=\"46.5\"/><text fill=\"#000000\" font-family=\"sans-serif\" font-size=\"12\" font-style=\"italic\" lengthAdjust=\"spacingAndGlyphs\" textLength=\"77\" x=\"10.5\" y=\"62.6387\">«action def»</text><text fill=\"#000000\" font-family=\"sans-serif\" font-size=\"12\" lengthAdjust=\"spacingAndGlyphs\" textLength=\"8\" x=\"45\" y=\"76.6074\">B</text></a></g><!--MD5=[cff944eb183b832d446717a4e202d613]\n",
       "link *start*E1 to E2--><a href=\"psysml:03e50e83-6fc7-46a8-8453-213dc2aae23c\" target=\"_top\" title=\"psysml:03e50e83-6fc7-46a8-8453-213dc2aae23c\" xlink:actuate=\"onRequest\" xlink:href=\"psysml:03e50e83-6fc7-46a8-8453-213dc2aae23c\" xlink:show=\"new\" xlink:title=\"psysml:03e50e83-6fc7-46a8-8453-213dc2aae23c\" xlink:type=\"simple\"><path d=\"M264,78.35 C264,84.88 264,93.77 264,101.42 \" fill=\"none\" id=\"*start*E1-&gt;E2\" style=\"stroke: #383838; stroke-width: 1.0; stroke-dasharray: 7.0,7.0;\"/><polygon fill=\"#383838\" points=\"264,106.48,268,97.48,264,101.48,260,97.48,264,106.48\" style=\"stroke: #383838; stroke-width: 1.0;\"/></a><!--MD5=[7fc47fc0d107820853a137871ad908c8]\n",
       "link E5 to *end*E1--><a href=\"psysml:c4a668a6-d0f8-468f-9890-a338c2ee16ef\" target=\"_top\" title=\"psysml:c4a668a6-d0f8-468f-9890-a338c2ee16ef\" xlink:actuate=\"onRequest\" xlink:href=\"psysml:c4a668a6-d0f8-468f-9890-a338c2ee16ef\" xlink:show=\"new\" xlink:title=\"psysml:c4a668a6-d0f8-468f-9890-a338c2ee16ef\" xlink:type=\"simple\"><path d=\"M262,331.8 C262,335.34 262,339.3 262,343.03 \" fill=\"none\" id=\"E5-&gt;*end*E1\" style=\"stroke: #383838; stroke-width: 1.0; stroke-dasharray: 7.0,7.0;\"/><polygon fill=\"#383838\" points=\"262,348.25,266,339.25,262,343.25,258,339.25,262,348.25\" style=\"stroke: #383838; stroke-width: 1.0;\"/></a><!--MD5=[2720a5a1f2c3fca2055b230370638851]\n",
       "link E2 to E3--><a href=\"psysml:f95480df-9a63-41d1-9e12-1ec6bb9c61dc\" target=\"_top\" title=\"psysml:f95480df-9a63-41d1-9e12-1ec6bb9c61dc\" xlink:actuate=\"onRequest\" xlink:href=\"psysml:f95480df-9a63-41d1-9e12-1ec6bb9c61dc\" xlink:show=\"new\" xlink:title=\"psysml:f95480df-9a63-41d1-9e12-1ec6bb9c61dc\" xlink:type=\"simple\"><path d=\"M257.45,124.53 C251.33,129.23 241.65,136.66 231.64,144.34 \" fill=\"none\" id=\"E2-&gt;E3\" style=\"stroke: #383838; stroke-width: 1.0; stroke-dasharray: 7.0,7.0;\"/><polygon fill=\"#383838\" points=\"227.64,147.41,237.2129,145.0948,231.6037,144.3621,232.3363,138.7529,227.64,147.41\" style=\"stroke: #383838; stroke-width: 1.0;\"/></a><!--MD5=[af87c684e3b0d8be13c1a698a818ef1e]\n",
       "link E3 to E4--><a href=\"psysml:73484f54-b4d2-4298-bed2-8c418bf31093\" target=\"_top\" title=\"psysml:73484f54-b4d2-4298-bed2-8c418bf31093\" xlink:actuate=\"onRequest\" xlink:href=\"psysml:73484f54-b4d2-4298-bed2-8c418bf31093\" xlink:show=\"new\" xlink:title=\"psysml:73484f54-b4d2-4298-bed2-8c418bf31093\" xlink:type=\"simple\"><path d=\"M191.13,202.74 C190.53,211.4 189.85,221.08 189.23,230.08 \" fill=\"none\" id=\"E3-&gt;E4\" style=\"stroke: #383838; stroke-width: 1.0; stroke-dasharray: 7.0,7.0;\"/><polygon fill=\"#383838\" points=\"188.86,235.28,193.468,226.5756,189.203,230.2918,185.4869,226.0268,188.86,235.28\" style=\"stroke: #383838; stroke-width: 1.0;\"/></a><!--MD5=[1b7591eae5389033d8d09a9d6721a717]\n",
       "link E4 to E5--><a href=\"psysml:860bf181-ae5a-4d8b-9cc8-c19fc893dd3f\" target=\"_top\" title=\"psysml:860bf181-ae5a-4d8b-9cc8-c19fc893dd3f\" xlink:actuate=\"onRequest\" xlink:href=\"psysml:860bf181-ae5a-4d8b-9cc8-c19fc893dd3f\" xlink:show=\"new\" xlink:title=\"psysml:860bf181-ae5a-4d8b-9cc8-c19fc893dd3f\" xlink:type=\"simple\"><path d=\"M223.62,290.61 C233.72,297.95 243.91,305.35 251.24,310.68 \" fill=\"none\" id=\"E4-&gt;E5\" style=\"stroke: #383838; stroke-width: 1.0; stroke-dasharray: 7.0,7.0;\"/><polygon fill=\"#383838\" points=\"255.42,313.72,250.4976,305.1894,251.3776,310.7774,245.7896,311.6574,255.42,313.72\" style=\"stroke: #383838; stroke-width: 1.0;\"/></a><!--MD5=[15ebcb19ae302d9b601edb458606d402]\n",
       "link E5 to E2--><a href=\"psysml:227ffbe5-5fbb-4b69-bf2e-f462a1a2545e\" target=\"_top\" title=\"psysml:227ffbe5-5fbb-4b69-bf2e-f462a1a2545e\" xlink:actuate=\"onRequest\" xlink:href=\"psysml:227ffbe5-5fbb-4b69-bf2e-f462a1a2545e\" xlink:show=\"new\" xlink:title=\"psysml:227ffbe5-5fbb-4b69-bf2e-f462a1a2545e\" xlink:type=\"simple\"><path d=\"M265,310.49 C273.84,285.73 298.06,208.48 281,147.5 C279.26,141.29 275.73,135.1 272.34,130.12 \" fill=\"none\" id=\"E5-&gt;E2\" style=\"stroke: #383838; stroke-width: 1.0; stroke-dasharray: 7.0,7.0;\"/><polygon fill=\"#383838\" points=\"269.31,125.92,271.3342,135.5586,272.2364,129.9741,277.8209,130.8763,269.31,125.92\" style=\"stroke: #383838; stroke-width: 1.0;\"/><text fill=\"#000000\" font-family=\"sans-serif\" font-size=\"13\" lengthAdjust=\"spacingAndGlyphs\" textLength=\"36\" x=\"287\" y=\"223.5669\">[true]</text></a><!--MD5=[242d1bbedce5e18d4935579a61d44659]\n",
       "@startuml\r\n",
       "skinparam ranksep 8\r\n",
       " skinparam monochrome true\r\n",
       "skinparam classbackgroundcolor white\r\n",
       "skinparam shadowing false\r\n",
       "skinparam wrapWidth 300\r\n",
       "hide circle\r\n",
       "\r\n",
       "rec usage \"a\" as E1  <<(T,blue)action>> [[psysml:ad4f18e6-c096-4c58-bb62-14a597e4442d ]] {\r\n",
       "choice \"m\" as E2  [[psysml:e85a3052-7a7b-4311-97f8-bb0216d1246f ]] \r\n",
       "accept \" S\" as E3 <<accept action>> [[psysml:ccfba6f1-4ce0-4ddd-afd5-b866d68d47d7 ]] \r\n",
       "send \" S() to  B()\" as E4 <<send action>> [[psysml:f31bbeb6-49c7-47f4-9bac-592fafbdce16 ]] \r\n",
       "choice \"noname\" as E5  [[psysml:7507dc2c-9b39-4c30-b0ef-dd6a627e8c4c ]] \r\n",
       "[*] ..> E2 [[psysml:03e50e83-6fc7-46a8-8453-213dc2aae23c ]] \r\n",
       "E5 ..> [*] [[psysml:c4a668a6-d0f8-468f-9890-a338c2ee16ef ]] \r\n",
       "}\r\n",
       "\r\n",
       "E2 ..> E3 [[psysml:f95480df-9a63-41d1-9e12-1ec6bb9c61dc ]] \r\n",
       "E3 ..> E4 [[psysml:73484f54-b4d2-4298-bed2-8c418bf31093 ]] \r\n",
       "E4 ..> E5 [[psysml:860bf181-ae5a-4d8b-9cc8-c19fc893dd3f ]] \r\n",
       "E5 ..> E2 [[psysml:227ffbe5-5fbb-4b69-bf2e-f462a1a2545e ]] : [true]\r\n",
       "rec def \"B\" as E6  <<(T,blue)action def>> [[psysml:4eec70ee-61f4-4cab-8137-f00a9e5c8983 ]] {\r\n",
       "}\r\n",
       "\r\n",
       "@enduml\r\n",
       "\n",
       "PlantUML version 1.2020.13(Sat Jun 13 12:26:38 UTC 2020)\n",
       "(EPL source distribution)\n",
       "Java Runtime: OpenJDK Runtime Environment\n",
       "JVM: OpenJDK 64-Bit Server VM\n",
       "Default Encoding: UTF-8\n",
       "Language: en\n",
       "Country: null\n",
       "--></g></svg>"
      ]
     },
     "execution_count": 6,
     "metadata": {},
     "output_type": "execute_result"
    }
   ],
   "source": [
    "%viz --style=\"COMPTREE\" --view=\"Action\" \"ActionTest\""
   ]
  },
  {
   "cell_type": "code",
   "execution_count": 7,
   "id": "4ea7bfc0",
   "metadata": {
    "execution": {
     "iopub.execute_input": "2021-05-27T06:07:59.780389Z",
     "iopub.status.busy": "2021-05-27T06:07:59.779992Z",
     "iopub.status.idle": "2021-05-27T06:07:59.879850Z",
     "shell.execute_reply": "2021-05-27T06:07:59.878385Z"
    }
   },
   "outputs": [
    {
     "data": {
      "image/svg+xml": [
       "<?xml version=\"1.0\" encoding=\"UTF-8\" standalone=\"no\"?><svg xmlns=\"http://www.w3.org/2000/svg\" xmlns:xlink=\"http://www.w3.org/1999/xlink\" contentScriptType=\"application/ecmascript\" contentStyleType=\"text/css\" height=\"187px\" preserveAspectRatio=\"none\" style=\"width:475px;height:187px;\" version=\"1.1\" viewBox=\"0 0 475 187\" width=\"475px\" zoomAndPan=\"magnify\"><defs/><g><!--MD5=[fbc87193dbaf4d95561dea2c320d4a47]\n",
       "cluster E1--><a href=\"psysml:fba87211-d6a8-40ff-8d47-80f3cbac0e83\" target=\"_top\" title=\"psysml:fba87211-d6a8-40ff-8d47-80f3cbac0e83\" xlink:actuate=\"onRequest\" xlink:href=\"psysml:fba87211-d6a8-40ff-8d47-80f3cbac0e83\" xlink:show=\"new\" xlink:title=\"psysml:fba87211-d6a8-40ff-8d47-80f3cbac0e83\" xlink:type=\"simple\"><polygon fill=\"#FFFFFF\" points=\"16,6,107,6,114,28.2969,453,28.2969,453,175,16,175,16,6\" style=\"stroke: #000000; stroke-width: 1.5;\"/><line style=\"stroke: #000000; stroke-width: 1.5;\" x1=\"16\" x2=\"114\" y1=\"28.2969\" y2=\"28.2969\"/><text fill=\"#000000\" font-family=\"sans-serif\" font-size=\"14\" font-weight=\"bold\" lengthAdjust=\"spacingAndGlyphs\" textLength=\"85\" x=\"20\" y=\"20.9951\">ActionTest</text></a><!--MD5=[b4997ac47864f28c2f74865a473b2911]\n",
       "class E2--><a href=\"psysml:9e8a127b-f23f-41bc-b046-de56fba8ce50\" target=\"_top\" title=\"psysml:9e8a127b-f23f-41bc-b046-de56fba8ce50\" xlink:actuate=\"onRequest\" xlink:href=\"psysml:9e8a127b-f23f-41bc-b046-de56fba8ce50\" xlink:show=\"new\" xlink:title=\"psysml:9e8a127b-f23f-41bc-b046-de56fba8ce50\" xlink:type=\"simple\"><rect fill=\"#FFFFFF\" height=\"45.9375\" id=\"E2\" style=\"stroke: #383838; stroke-width: 1.5;\" width=\"95\" x=\"341.5\" y=\"77\"/><text fill=\"#000000\" font-family=\"sans-serif\" font-size=\"12\" font-style=\"italic\" lengthAdjust=\"spacingAndGlyphs\" textLength=\"93\" x=\"342.5\" y=\"93.1387\">«attribute def»</text><text fill=\"#000000\" font-family=\"sans-serif\" font-size=\"12\" lengthAdjust=\"spacingAndGlyphs\" textLength=\"8\" x=\"385\" y=\"107.1074\">S</text><line style=\"stroke: #383838; stroke-width: 1.5;\" x1=\"342.5\" x2=\"435.5\" y1=\"114.9375\" y2=\"114.9375\"/></a><!--MD5=[09b614a08d8cba4a07c9adeb5e0fee81]\n",
       "class E3--><a href=\"psysml:ad4f18e6-c096-4c58-bb62-14a597e4442d\" target=\"_top\" title=\"psysml:ad4f18e6-c096-4c58-bb62-14a597e4442d\" xlink:actuate=\"onRequest\" xlink:href=\"psysml:ad4f18e6-c096-4c58-bb62-14a597e4442d\" xlink:show=\"new\" xlink:title=\"psysml:ad4f18e6-c096-4c58-bb62-14a597e4442d\" xlink:type=\"simple\"><rect fill=\"#FFFFFF\" height=\"117.9609\" id=\"E3\" rx=\"10\" ry=\"10\" style=\"stroke: #383838; stroke-width: 1.5;\" width=\"160\" x=\"146\" y=\"41\"/><text fill=\"#000000\" font-family=\"sans-serif\" font-size=\"12\" font-style=\"italic\" lengthAdjust=\"spacingAndGlyphs\" textLength=\"53\" x=\"199.5\" y=\"57.1387\">«action»</text><text fill=\"#000000\" font-family=\"sans-serif\" font-size=\"12\" lengthAdjust=\"spacingAndGlyphs\" textLength=\"8\" x=\"222\" y=\"71.1074\">a</text><line style=\"stroke: #383838; stroke-width: 1.5;\" x1=\"147\" x2=\"305\" y1=\"78.9375\" y2=\"78.9375\"/><text fill=\"#000000\" font-family=\"sans-serif\" font-size=\"11\" lengthAdjust=\"spacingAndGlyphs\" textLength=\"69\" x=\"152\" y=\"109.9526\">start: Action</text><text fill=\"#000000\" font-family=\"sans-serif\" font-size=\"11\" font-style=\"italic\" lengthAdjust=\"spacingAndGlyphs\" textLength=\"148\" x=\"152\" y=\"122.7573\">:&gt;&gt;Occurrence::startShot</text><line style=\"stroke: #383838; stroke-width: 1.0;\" x1=\"147\" x2=\"205.5\" y1=\"93.3398\" y2=\"93.3398\"/><text fill=\"#000000\" font-family=\"sans-serif\" font-size=\"11\" lengthAdjust=\"spacingAndGlyphs\" textLength=\"41\" x=\"205.5\" y=\"96.6479\">actions</text><line style=\"stroke: #383838; stroke-width: 1.0;\" x1=\"246.5\" x2=\"305\" y1=\"93.3398\" y2=\"93.3398\"/><text fill=\"#000000\" font-family=\"sans-serif\" font-size=\"11\" lengthAdjust=\"spacingAndGlyphs\" textLength=\"11\" x=\"152\" y=\"152.3667\">m</text><line style=\"stroke: #383838; stroke-width: 1.0;\" x1=\"147\" x2=\"189.5\" y1=\"135.7539\" y2=\"135.7539\"/><text fill=\"#000000\" font-family=\"sans-serif\" font-size=\"11\" lengthAdjust=\"spacingAndGlyphs\" textLength=\"73\" x=\"189.5\" y=\"139.062\">mergeNodes</text><line style=\"stroke: #383838; stroke-width: 1.0;\" x1=\"262.5\" x2=\"305\" y1=\"135.7539\" y2=\"135.7539\"/></a><!--MD5=[60a26617385b1d2d0262a64233df1f8d]\n",
       "class E6--><a href=\"psysml:4eec70ee-61f4-4cab-8137-f00a9e5c8983\" target=\"_top\" title=\"psysml:4eec70ee-61f4-4cab-8137-f00a9e5c8983\" xlink:actuate=\"onRequest\" xlink:href=\"psysml:4eec70ee-61f4-4cab-8137-f00a9e5c8983\" xlink:show=\"new\" xlink:title=\"psysml:4eec70ee-61f4-4cab-8137-f00a9e5c8983\" xlink:type=\"simple\"><rect fill=\"#FFFFFF\" height=\"45.9375\" id=\"E6\" style=\"stroke: #383838; stroke-width: 1.5;\" width=\"79\" x=\"31.5\" y=\"77\"/><text fill=\"#000000\" font-family=\"sans-serif\" font-size=\"12\" font-style=\"italic\" lengthAdjust=\"spacingAndGlyphs\" textLength=\"77\" x=\"32.5\" y=\"93.1387\">«action def»</text><text fill=\"#000000\" font-family=\"sans-serif\" font-size=\"12\" lengthAdjust=\"spacingAndGlyphs\" textLength=\"8\" x=\"67\" y=\"107.1074\">B</text><line style=\"stroke: #383838; stroke-width: 1.5;\" x1=\"32.5\" x2=\"109.5\" y1=\"114.9375\" y2=\"114.9375\"/></a><!--MD5=[2cb13efb934757eb21f55e5a9b516143]\n",
       "@startuml\r\n",
       " skinparam monochrome true\r\n",
       "skinparam classbackgroundcolor white\r\n",
       "skinparam shadowing false\r\n",
       "skinparam wrapWidth 300\r\n",
       "hide circle\r\n",
       "\r\n",
       "package \"ActionTest\" as E1  [[psysml:fba87211-d6a8-40ff-8d47-80f3cbac0e83 ]]  {\r\n",
       "comp def \"S\" as E2  <<(T,blue)attribute def>> [[psysml:9e8a127b-f23f-41bc-b046-de56fba8ce50 ]] {\r\n",
       "}\r\n",
       "comp usage \"a\" as E3  <<(T,blue)action>> [[psysml:ad4f18e6-c096-4c58-bb62-14a597e4442d ]] {\r\n",
       "- - actions - -\r\n",
       "start: Action\\n//:>>Occurrence::startShot// \r\n",
       "- - mergeNodes - -\r\n",
       "m\r\n",
       "}\r\n",
       "comp def \"B\" as E6  <<(T,blue)action def>> [[psysml:4eec70ee-61f4-4cab-8137-f00a9e5c8983 ]] {\r\n",
       "}\r\n",
       "}\r\n",
       "@enduml\r\n",
       "\n",
       "PlantUML version 1.2020.13(Sat Jun 13 12:26:38 UTC 2020)\n",
       "(EPL source distribution)\n",
       "Java Runtime: OpenJDK Runtime Environment\n",
       "JVM: OpenJDK 64-Bit Server VM\n",
       "Default Encoding: UTF-8\n",
       "Language: en\n",
       "Country: null\n",
       "--></g></svg>"
      ]
     },
     "execution_count": 7,
     "metadata": {},
     "output_type": "execute_result"
    }
   ],
   "source": [
    "%viz --style=\"COMPTREE\" --view=\"Sequence\" \"ActionTest\""
   ]
  },
  {
   "cell_type": "code",
   "execution_count": 8,
   "id": "fc43dd71",
   "metadata": {
    "execution": {
     "iopub.execute_input": "2021-05-27T06:07:59.932326Z",
     "iopub.status.busy": "2021-05-27T06:07:59.931739Z",
     "iopub.status.idle": "2021-05-27T06:07:59.988437Z",
     "shell.execute_reply": "2021-05-27T06:07:59.985560Z"
    }
   },
   "outputs": [
    {
     "data": {
      "image/svg+xml": [
       "<?xml version=\"1.0\" encoding=\"UTF-8\" standalone=\"no\"?><svg xmlns=\"http://www.w3.org/2000/svg\" xmlns:xlink=\"http://www.w3.org/1999/xlink\" contentScriptType=\"application/ecmascript\" contentStyleType=\"text/css\" height=\"684px\" preserveAspectRatio=\"none\" style=\"width:518px;height:684px;\" version=\"1.1\" viewBox=\"0 0 518 684\" width=\"518px\" zoomAndPan=\"magnify\"><defs/><g><!--MD5=[fbc87193dbaf4d95561dea2c320d4a47]\n",
       "cluster E1--><a href=\"psysml:fba87211-d6a8-40ff-8d47-80f3cbac0e83\" target=\"_top\" title=\"psysml:fba87211-d6a8-40ff-8d47-80f3cbac0e83\" xlink:actuate=\"onRequest\" xlink:href=\"psysml:fba87211-d6a8-40ff-8d47-80f3cbac0e83\" xlink:show=\"new\" xlink:title=\"psysml:fba87211-d6a8-40ff-8d47-80f3cbac0e83\" xlink:type=\"simple\"><polygon fill=\"#FFFFFF\" points=\"16,6,107,6,114,28.2969,496,28.2969,496,672,16,672,16,6\" style=\"stroke: #000000; stroke-width: 1.5;\"/><line style=\"stroke: #000000; stroke-width: 1.5;\" x1=\"16\" x2=\"114\" y1=\"28.2969\" y2=\"28.2969\"/><text fill=\"#000000\" font-family=\"sans-serif\" font-size=\"14\" font-weight=\"bold\" lengthAdjust=\"spacingAndGlyphs\" textLength=\"85\" x=\"20\" y=\"20.9951\">ActionTest</text></a><!--MD5=[d5e69f78d87373223dbae638b30a9c99]\n",
       "cluster E3--><a href=\"psysml:ad4f18e6-c096-4c58-bb62-14a597e4442d\" target=\"_top\" title=\"psysml:ad4f18e6-c096-4c58-bb62-14a597e4442d\" xlink:actuate=\"onRequest\" xlink:href=\"psysml:ad4f18e6-c096-4c58-bb62-14a597e4442d\" xlink:show=\"new\" xlink:title=\"psysml:ad4f18e6-c096-4c58-bb62-14a597e4442d\" xlink:type=\"simple\"><rect fill=\"#FFFFFF\" height=\"599\" id=\"E3\" rx=\"10\" ry=\"10\" style=\"stroke: #383838; stroke-width: 1.5;\" width=\"209\" x=\"263\" y=\"49\"/><rect fill=\"#F8F8F8\" height=\"37.9375\" rx=\"10\" ry=\"10\" style=\"stroke: #F8F8F8; stroke-width: 1.5;\" width=\"209\" x=\"263\" y=\"49\"/><rect fill=\"#F8F8F8\" height=\"10\" style=\"stroke: #F8F8F8; stroke-width: 1.5;\" width=\"209\" x=\"263\" y=\"76.9375\"/><rect fill=\"none\" height=\"599\" id=\"E3\" rx=\"10\" ry=\"10\" style=\"stroke: #383838; stroke-width: 1.5;\" width=\"209\" x=\"263\" y=\"49\"/><text fill=\"#000000\" font-family=\"sans-serif\" font-size=\"12\" font-style=\"italic\" lengthAdjust=\"spacingAndGlyphs\" textLength=\"53\" x=\"341\" y=\"65.1387\">«action»</text><text fill=\"#000000\" font-family=\"sans-serif\" font-size=\"12\" lengthAdjust=\"spacingAndGlyphs\" textLength=\"8\" x=\"363.5\" y=\"79.1074\">a</text><line style=\"stroke: #383838; stroke-width: 1.0;\" x1=\"263\" x2=\"472\" y1=\"86.9375\" y2=\"86.9375\"/></a><!--MD5=[b4997ac47864f28c2f74865a473b2911]\n",
       "class E2--><a href=\"psysml:9e8a127b-f23f-41bc-b046-de56fba8ce50\" target=\"_top\" title=\"psysml:9e8a127b-f23f-41bc-b046-de56fba8ce50\" xlink:actuate=\"onRequest\" xlink:href=\"psysml:9e8a127b-f23f-41bc-b046-de56fba8ce50\" xlink:show=\"new\" xlink:title=\"psysml:9e8a127b-f23f-41bc-b046-de56fba8ce50\" xlink:type=\"simple\"><rect fill=\"#FFFFFF\" height=\"45.9375\" id=\"E2\" style=\"stroke: #383838; stroke-width: 1.5;\" width=\"95\" x=\"151.5\" y=\"87\"/><text fill=\"#000000\" font-family=\"sans-serif\" font-size=\"12\" font-style=\"italic\" lengthAdjust=\"spacingAndGlyphs\" textLength=\"93\" x=\"152.5\" y=\"103.1387\">«attribute def»</text><text fill=\"#000000\" font-family=\"sans-serif\" font-size=\"12\" lengthAdjust=\"spacingAndGlyphs\" textLength=\"8\" x=\"195\" y=\"117.1074\">S</text><line style=\"stroke: #383838; stroke-width: 1.5;\" x1=\"152.5\" x2=\"245.5\" y1=\"124.9375\" y2=\"124.9375\"/></a><polygon fill=\"#F8F8F8\" points=\"420,194,432,206,420,218,408,206,420,194\" style=\"stroke: #383838; stroke-width: 1.5;\"/><!--MD5=[21dd76c19d33815960c0e92fef8f0eef]\n",
       "entity E5--><a href=\"psysml:ccfba6f1-4ce0-4ddd-afd5-b866d68d47d7\" target=\"_top\" title=\"psysml:ccfba6f1-4ce0-4ddd-afd5-b866d68d47d7\" xlink:actuate=\"onRequest\" xlink:href=\"psysml:ccfba6f1-4ce0-4ddd-afd5-b866d68d47d7\" xlink:show=\"new\" xlink:title=\"psysml:ccfba6f1-4ce0-4ddd-afd5-b866d68d47d7\" xlink:type=\"simple\"><polygon fill=\"#F8F8F8\" points=\"279,279,279,333.5938,419,333.5938,399,306.2969,419,279\" style=\"stroke: #000000; stroke-width: 1.5;\"/><text fill=\"#000000\" font-family=\"sans-serif\" font-size=\"14\" font-style=\"italic\" lengthAdjust=\"spacingAndGlyphs\" textLength=\"111\" x=\"286\" y=\"301.9951\">«accept action»</text><text fill=\"#000000\" font-family=\"sans-serif\" font-size=\"14\" lengthAdjust=\"spacingAndGlyphs\" textLength=\"9\" x=\"337\" y=\"319.292\">S</text></a><!--MD5=[24d87cdf3002d433f401b2a2aa9f9f65]\n",
       "entity E6--><a href=\"psysml:f31bbeb6-49c7-47f4-9bac-592fafbdce16\" target=\"_top\" title=\"psysml:f31bbeb6-49c7-47f4-9bac-592fafbdce16\" xlink:actuate=\"onRequest\" xlink:href=\"psysml:f31bbeb6-49c7-47f4-9bac-592fafbdce16\" xlink:show=\"new\" xlink:title=\"psysml:f31bbeb6-49c7-47f4-9bac-592fafbdce16\" xlink:type=\"simple\"><polygon fill=\"#F8F8F8\" points=\"279,411,279,465.5938,387,465.5938,407,438.2969,387,411\" style=\"stroke: #000000; stroke-width: 1.5;\"/><text fill=\"#000000\" font-family=\"sans-serif\" font-size=\"14\" font-style=\"italic\" lengthAdjust=\"spacingAndGlyphs\" textLength=\"99\" x=\"286\" y=\"433.9951\">«send action»</text><text fill=\"#000000\" font-family=\"sans-serif\" font-size=\"14\" lengthAdjust=\"spacingAndGlyphs\" textLength=\"65\" x=\"303\" y=\"451.292\">S() to  B()</text></a><polygon fill=\"#F8F8F8\" points=\"418,527,430,539,418,551,406,539,418,527\" style=\"stroke: #383838; stroke-width: 1.5;\"/><ellipse cx=\"420\" cy=\"110\" fill=\"#000000\" rx=\"10\" ry=\"10\" style=\"stroke: none; stroke-width: 1.0;\"/><ellipse cx=\"418\" cy=\"622\" fill=\"none\" rx=\"10\" ry=\"10\" style=\"stroke: #000000; stroke-width: 1.0;\"/><ellipse cx=\"418.5\" cy=\"622.5\" fill=\"#000000\" rx=\"6\" ry=\"6\" style=\"stroke: none; stroke-width: 1.0;\"/><g id=\"E1.E8\"><a href=\"psysml:4eec70ee-61f4-4cab-8137-f00a9e5c8983\" target=\"_top\" title=\"psysml:4eec70ee-61f4-4cab-8137-f00a9e5c8983\" xlink:actuate=\"onRequest\" xlink:href=\"psysml:4eec70ee-61f4-4cab-8137-f00a9e5c8983\" xlink:show=\"new\" xlink:title=\"psysml:4eec70ee-61f4-4cab-8137-f00a9e5c8983\" xlink:type=\"simple\"><rect fill=\"#FFFFFF\" height=\"42.9375\" id=\"E8\" style=\"stroke: #383838; stroke-width: 1.5;\" width=\"84\" x=\"32\" y=\"88.5\"/><rect fill=\"#F8F8F8\" height=\"37.9375\" style=\"stroke: #383838; stroke-width: 1.5;\" width=\"84\" x=\"32\" y=\"88.5\"/><text fill=\"#000000\" font-family=\"sans-serif\" font-size=\"12\" font-style=\"italic\" lengthAdjust=\"spacingAndGlyphs\" textLength=\"77\" x=\"35.5\" y=\"104.6387\">«action def»</text><text fill=\"#000000\" font-family=\"sans-serif\" font-size=\"12\" lengthAdjust=\"spacingAndGlyphs\" textLength=\"8\" x=\"70\" y=\"118.6074\">B</text></a></g><!--MD5=[f47e10efcf9a6752d55dae986d790ed9]\n",
       "link *start*E3 to E4--><a href=\"psysml:03e50e83-6fc7-46a8-8453-213dc2aae23c\" target=\"_top\" title=\"psysml:03e50e83-6fc7-46a8-8453-213dc2aae23c\" xlink:actuate=\"onRequest\" xlink:href=\"psysml:03e50e83-6fc7-46a8-8453-213dc2aae23c\" xlink:show=\"new\" xlink:title=\"psysml:03e50e83-6fc7-46a8-8453-213dc2aae23c\" xlink:type=\"simple\"><path d=\"M420,120.01 C420,135.81 420,168.69 420,188.61 \" fill=\"none\" id=\"*start*E3-&gt;E4\" style=\"stroke: #383838; stroke-width: 1.0;\"/><polygon fill=\"#383838\" points=\"420,193.85,424,184.85,420,188.85,416,184.85,420,193.85\" style=\"stroke: #383838; stroke-width: 1.0;\"/></a><!--MD5=[d19f2eb34364d71b67042106d92f540b]\n",
       "link E7 to *end*E3--><a href=\"psysml:c4a668a6-d0f8-468f-9890-a338c2ee16ef\" target=\"_top\" title=\"psysml:c4a668a6-d0f8-468f-9890-a338c2ee16ef\" xlink:actuate=\"onRequest\" xlink:href=\"psysml:c4a668a6-d0f8-468f-9890-a338c2ee16ef\" xlink:show=\"new\" xlink:title=\"psysml:c4a668a6-d0f8-468f-9890-a338c2ee16ef\" xlink:type=\"simple\"><path d=\"M418,551.26 C418,565.66 418,590.63 418,606.46 \" fill=\"none\" id=\"E7-&gt;*end*E3\" style=\"stroke: #383838; stroke-width: 1.0;\"/><polygon fill=\"#383838\" points=\"418,611.84,422,602.84,418,606.84,414,602.84,418,611.84\" style=\"stroke: #383838; stroke-width: 1.0;\"/></a><!--MD5=[1b7591eae5389033d8d09a9d6721a717]\n",
       "link E4 to E5--><a href=\"psysml:f95480df-9a63-41d1-9e12-1ec6bb9c61dc\" target=\"_top\" title=\"psysml:f95480df-9a63-41d1-9e12-1ec6bb9c61dc\" xlink:actuate=\"onRequest\" xlink:href=\"psysml:f95480df-9a63-41d1-9e12-1ec6bb9c61dc\" xlink:show=\"new\" xlink:title=\"psysml:f95480df-9a63-41d1-9e12-1ec6bb9c61dc\" xlink:type=\"simple\"><path d=\"M415.34,213.46 C406.55,225.66 386.99,252.8 371.37,274.46 \" fill=\"none\" id=\"E4-&gt;E5\" style=\"stroke: #383838; stroke-width: 1.0;\"/><polygon fill=\"#383838\" points=\"368.31,278.71,376.8093,273.7339,371.227,274.6491,370.3119,269.0667,368.31,278.71\" style=\"stroke: #383838; stroke-width: 1.0;\"/></a><!--MD5=[9120cf2e5df3bff93db8f754bbbc09b4]\n",
       "link E5 to E6--><a href=\"psysml:73484f54-b4d2-4298-bed2-8c418bf31093\" target=\"_top\" title=\"psysml:73484f54-b4d2-4298-bed2-8c418bf31093\" xlink:actuate=\"onRequest\" xlink:href=\"psysml:73484f54-b4d2-4298-bed2-8c418bf31093\" xlink:show=\"new\" xlink:title=\"psysml:73484f54-b4d2-4298-bed2-8c418bf31093\" xlink:type=\"simple\"><path d=\"M347.77,334.12 C346.81,354.89 345.48,383.8 344.46,405.77 \" fill=\"none\" id=\"E5-&gt;E6\" style=\"stroke: #383838; stroke-width: 1.0;\"/><polygon fill=\"#383838\" points=\"344.23,410.91,348.6368,402.1021,344.4583,405.9152,340.6452,401.7367,344.23,410.91\" style=\"stroke: #383838; stroke-width: 1.0;\"/></a><!--MD5=[02c70b7c851c11e3980e4e90450dc5dd]\n",
       "link E6 to E7--><a href=\"psysml:860bf181-ae5a-4d8b-9cc8-c19fc893dd3f\" target=\"_top\" title=\"psysml:860bf181-ae5a-4d8b-9cc8-c19fc893dd3f\" xlink:actuate=\"onRequest\" xlink:href=\"psysml:860bf181-ae5a-4d8b-9cc8-c19fc893dd3f\" xlink:show=\"new\" xlink:title=\"psysml:860bf181-ae5a-4d8b-9cc8-c19fc893dd3f\" xlink:type=\"simple\"><path d=\"M363.3,466.16 C378.71,486.4 399.07,513.14 410.09,527.61 \" fill=\"none\" id=\"E6-&gt;E7\" style=\"stroke: #383838; stroke-width: 1.0;\"/><polygon fill=\"#383838\" points=\"413.2,531.69,410.9398,522.104,410.1749,527.7089,404.57,526.9441,413.2,531.69\" style=\"stroke: #383838; stroke-width: 1.0;\"/></a><!--MD5=[6bdd27f9905911a7e892a3dc65cf6b7c]\n",
       "link E7 to E4--><a href=\"psysml:227ffbe5-5fbb-4b69-bf2e-f462a1a2545e\" target=\"_top\" title=\"psysml:227ffbe5-5fbb-4b69-bf2e-f462a1a2545e\" xlink:actuate=\"onRequest\" xlink:href=\"psysml:227ffbe5-5fbb-4b69-bf2e-f462a1a2545e\" xlink:show=\"new\" xlink:title=\"psysml:227ffbe5-5fbb-4b69-bf2e-f462a1a2545e\" xlink:type=\"simple\"><path d=\"M419.98,528.56 C426.8,494.71 448.32,376.18 437,279 C434.59,258.32 428.42,234.96 424.21,220.61 \" fill=\"none\" id=\"E7-&gt;E4\" style=\"stroke: #383838; stroke-width: 1.0;\"/><polygon fill=\"#383838\" points=\"422.76,215.75,421.4935,225.5171,424.1863,220.5423,429.1611,223.2351,422.76,215.75\" style=\"stroke: #383838; stroke-width: 1.0;\"/><text fill=\"#000000\" font-family=\"sans-serif\" font-size=\"13\" lengthAdjust=\"spacingAndGlyphs\" textLength=\"36\" x=\"440\" y=\"377.0669\">[true]</text></a><!--MD5=[44e56740ab3a3d7cbfd2a684bb9bd9a0]\n",
       "@startuml\r\n",
       " skinparam monochrome true\r\n",
       "skinparam classbackgroundcolor white\r\n",
       "skinparam shadowing false\r\n",
       "skinparam wrapWidth 300\r\n",
       "hide circle\r\n",
       "\r\n",
       "package \"ActionTest\" as E1  [[psysml:fba87211-d6a8-40ff-8d47-80f3cbac0e83 ]]  {\r\n",
       "comp def \"S\" as E2  <<(T,blue)attribute def>> [[psysml:9e8a127b-f23f-41bc-b046-de56fba8ce50 ]] {\r\n",
       "}\r\n",
       "rec usage \"a\" as E3  <<(T,blue)action>> [[psysml:ad4f18e6-c096-4c58-bb62-14a597e4442d ]] {\r\n",
       "choice \"m\" as E4  [[psysml:e85a3052-7a7b-4311-97f8-bb0216d1246f ]] \r\n",
       "accept \" S\" as E5 <<accept action>> [[psysml:ccfba6f1-4ce0-4ddd-afd5-b866d68d47d7 ]] \r\n",
       "send \" S() to  B()\" as E6 <<send action>> [[psysml:f31bbeb6-49c7-47f4-9bac-592fafbdce16 ]] \r\n",
       "choice \"noname\" as E7  [[psysml:7507dc2c-9b39-4c30-b0ef-dd6a627e8c4c ]] \r\n",
       "[*] - -> E4 [[psysml:03e50e83-6fc7-46a8-8453-213dc2aae23c ]] \r\n",
       "E7  - -> [*] [[psysml:c4a668a6-d0f8-468f-9890-a338c2ee16ef ]] \r\n",
       "}\r\n",
       "\r\n",
       "rec def \"B\" as E8  <<(T,blue)action def>> [[psysml:4eec70ee-61f4-4cab-8137-f00a9e5c8983 ]] {\r\n",
       "}\r\n",
       "\r\n",
       "E4 - -> E5 [[psysml:f95480df-9a63-41d1-9e12-1ec6bb9c61dc ]] \r\n",
       "E5 - -> E6 [[psysml:73484f54-b4d2-4298-bed2-8c418bf31093 ]] \r\n",
       "E6 - -> E7 [[psysml:860bf181-ae5a-4d8b-9cc8-c19fc893dd3f ]] \r\n",
       "E7  - -> E4 [[psysml:227ffbe5-5fbb-4b69-bf2e-f462a1a2545e ]] : [true]\r\n",
       "}\r\n",
       "@enduml\r\n",
       "\n",
       "PlantUML version 1.2020.13(Sat Jun 13 12:26:38 UTC 2020)\n",
       "(EPL source distribution)\n",
       "Java Runtime: OpenJDK Runtime Environment\n",
       "JVM: OpenJDK 64-Bit Server VM\n",
       "Default Encoding: UTF-8\n",
       "Language: en\n",
       "Country: null\n",
       "--></g></svg>"
      ]
     },
     "execution_count": 8,
     "metadata": {},
     "output_type": "execute_result"
    }
   ],
   "source": [
    "%viz --style=\"COMPTREE\" --view=\"MIXED\" \"ActionTest\""
   ]
  },
  {
   "cell_type": "code",
   "execution_count": 9,
   "id": "5d050072",
   "metadata": {
    "execution": {
     "iopub.execute_input": "2021-05-27T06:08:00.039536Z",
     "iopub.status.busy": "2021-05-27T06:08:00.036635Z",
     "iopub.status.idle": "2021-05-27T06:08:00.105864Z",
     "shell.execute_reply": "2021-05-27T06:08:00.104079Z"
    }
   },
   "outputs": [
    {
     "data": {
      "image/svg+xml": [
       "<?xml version=\"1.0\" encoding=\"UTF-8\" standalone=\"no\"?><svg xmlns=\"http://www.w3.org/2000/svg\" xmlns:xlink=\"http://www.w3.org/1999/xlink\" contentScriptType=\"application/ecmascript\" contentStyleType=\"text/css\" height=\"684px\" preserveAspectRatio=\"none\" style=\"width:518px;height:684px;\" version=\"1.1\" viewBox=\"0 0 518 684\" width=\"518px\" zoomAndPan=\"magnify\"><defs/><g><!--MD5=[fbc87193dbaf4d95561dea2c320d4a47]\n",
       "cluster E1--><a href=\"psysml:fba87211-d6a8-40ff-8d47-80f3cbac0e83\" target=\"_top\" title=\"psysml:fba87211-d6a8-40ff-8d47-80f3cbac0e83\" xlink:actuate=\"onRequest\" xlink:href=\"psysml:fba87211-d6a8-40ff-8d47-80f3cbac0e83\" xlink:show=\"new\" xlink:title=\"psysml:fba87211-d6a8-40ff-8d47-80f3cbac0e83\" xlink:type=\"simple\"><polygon fill=\"#FFFFFF\" points=\"16,6,107,6,114,28.2969,496,28.2969,496,672,16,672,16,6\" style=\"stroke: #000000; stroke-width: 1.5;\"/><line style=\"stroke: #000000; stroke-width: 1.5;\" x1=\"16\" x2=\"114\" y1=\"28.2969\" y2=\"28.2969\"/><text fill=\"#000000\" font-family=\"sans-serif\" font-size=\"14\" font-weight=\"bold\" lengthAdjust=\"spacingAndGlyphs\" textLength=\"85\" x=\"20\" y=\"20.9951\">ActionTest</text></a><!--MD5=[d5e69f78d87373223dbae638b30a9c99]\n",
       "cluster E3--><a href=\"psysml:ad4f18e6-c096-4c58-bb62-14a597e4442d\" target=\"_top\" title=\"psysml:ad4f18e6-c096-4c58-bb62-14a597e4442d\" xlink:actuate=\"onRequest\" xlink:href=\"psysml:ad4f18e6-c096-4c58-bb62-14a597e4442d\" xlink:show=\"new\" xlink:title=\"psysml:ad4f18e6-c096-4c58-bb62-14a597e4442d\" xlink:type=\"simple\"><rect fill=\"#FFFFFF\" height=\"599\" id=\"E3\" rx=\"10\" ry=\"10\" style=\"stroke: #383838; stroke-width: 1.5;\" width=\"209\" x=\"263\" y=\"49\"/><rect fill=\"#F8F8F8\" height=\"37.9375\" rx=\"10\" ry=\"10\" style=\"stroke: #F8F8F8; stroke-width: 1.5;\" width=\"209\" x=\"263\" y=\"49\"/><rect fill=\"#F8F8F8\" height=\"10\" style=\"stroke: #F8F8F8; stroke-width: 1.5;\" width=\"209\" x=\"263\" y=\"76.9375\"/><rect fill=\"none\" height=\"599\" id=\"E3\" rx=\"10\" ry=\"10\" style=\"stroke: #383838; stroke-width: 1.5;\" width=\"209\" x=\"263\" y=\"49\"/><text fill=\"#000000\" font-family=\"sans-serif\" font-size=\"12\" font-style=\"italic\" lengthAdjust=\"spacingAndGlyphs\" textLength=\"53\" x=\"341\" y=\"65.1387\">«action»</text><text fill=\"#000000\" font-family=\"sans-serif\" font-size=\"12\" lengthAdjust=\"spacingAndGlyphs\" textLength=\"8\" x=\"363.5\" y=\"79.1074\">a</text><line style=\"stroke: #383838; stroke-width: 1.0;\" x1=\"263\" x2=\"472\" y1=\"86.9375\" y2=\"86.9375\"/></a><!--MD5=[b4997ac47864f28c2f74865a473b2911]\n",
       "class E2--><a href=\"psysml:9e8a127b-f23f-41bc-b046-de56fba8ce50\" target=\"_top\" title=\"psysml:9e8a127b-f23f-41bc-b046-de56fba8ce50\" xlink:actuate=\"onRequest\" xlink:href=\"psysml:9e8a127b-f23f-41bc-b046-de56fba8ce50\" xlink:show=\"new\" xlink:title=\"psysml:9e8a127b-f23f-41bc-b046-de56fba8ce50\" xlink:type=\"simple\"><rect fill=\"#FFFFFF\" height=\"45.9375\" id=\"E2\" style=\"stroke: #383838; stroke-width: 1.5;\" width=\"95\" x=\"151.5\" y=\"87\"/><text fill=\"#000000\" font-family=\"sans-serif\" font-size=\"12\" font-style=\"italic\" lengthAdjust=\"spacingAndGlyphs\" textLength=\"93\" x=\"152.5\" y=\"103.1387\">«attribute def»</text><text fill=\"#000000\" font-family=\"sans-serif\" font-size=\"12\" lengthAdjust=\"spacingAndGlyphs\" textLength=\"8\" x=\"195\" y=\"117.1074\">S</text><line style=\"stroke: #383838; stroke-width: 1.5;\" x1=\"152.5\" x2=\"245.5\" y1=\"124.9375\" y2=\"124.9375\"/></a><polygon fill=\"#F8F8F8\" points=\"420,194,432,206,420,218,408,206,420,194\" style=\"stroke: #383838; stroke-width: 1.5;\"/><!--MD5=[21dd76c19d33815960c0e92fef8f0eef]\n",
       "entity E5--><a href=\"psysml:ccfba6f1-4ce0-4ddd-afd5-b866d68d47d7\" target=\"_top\" title=\"psysml:ccfba6f1-4ce0-4ddd-afd5-b866d68d47d7\" xlink:actuate=\"onRequest\" xlink:href=\"psysml:ccfba6f1-4ce0-4ddd-afd5-b866d68d47d7\" xlink:show=\"new\" xlink:title=\"psysml:ccfba6f1-4ce0-4ddd-afd5-b866d68d47d7\" xlink:type=\"simple\"><polygon fill=\"#F8F8F8\" points=\"279,279,279,333.5938,419,333.5938,399,306.2969,419,279\" style=\"stroke: #000000; stroke-width: 1.5;\"/><text fill=\"#000000\" font-family=\"sans-serif\" font-size=\"14\" font-style=\"italic\" lengthAdjust=\"spacingAndGlyphs\" textLength=\"111\" x=\"286\" y=\"301.9951\">«accept action»</text><text fill=\"#000000\" font-family=\"sans-serif\" font-size=\"14\" lengthAdjust=\"spacingAndGlyphs\" textLength=\"9\" x=\"337\" y=\"319.292\">S</text></a><!--MD5=[24d87cdf3002d433f401b2a2aa9f9f65]\n",
       "entity E6--><a href=\"psysml:f31bbeb6-49c7-47f4-9bac-592fafbdce16\" target=\"_top\" title=\"psysml:f31bbeb6-49c7-47f4-9bac-592fafbdce16\" xlink:actuate=\"onRequest\" xlink:href=\"psysml:f31bbeb6-49c7-47f4-9bac-592fafbdce16\" xlink:show=\"new\" xlink:title=\"psysml:f31bbeb6-49c7-47f4-9bac-592fafbdce16\" xlink:type=\"simple\"><polygon fill=\"#F8F8F8\" points=\"279,411,279,465.5938,387,465.5938,407,438.2969,387,411\" style=\"stroke: #000000; stroke-width: 1.5;\"/><text fill=\"#000000\" font-family=\"sans-serif\" font-size=\"14\" font-style=\"italic\" lengthAdjust=\"spacingAndGlyphs\" textLength=\"99\" x=\"286\" y=\"433.9951\">«send action»</text><text fill=\"#000000\" font-family=\"sans-serif\" font-size=\"14\" lengthAdjust=\"spacingAndGlyphs\" textLength=\"65\" x=\"303\" y=\"451.292\">S() to  B()</text></a><polygon fill=\"#F8F8F8\" points=\"418,527,430,539,418,551,406,539,418,527\" style=\"stroke: #383838; stroke-width: 1.5;\"/><ellipse cx=\"420\" cy=\"110\" fill=\"#000000\" rx=\"10\" ry=\"10\" style=\"stroke: none; stroke-width: 1.0;\"/><ellipse cx=\"418\" cy=\"622\" fill=\"none\" rx=\"10\" ry=\"10\" style=\"stroke: #000000; stroke-width: 1.0;\"/><ellipse cx=\"418.5\" cy=\"622.5\" fill=\"#000000\" rx=\"6\" ry=\"6\" style=\"stroke: none; stroke-width: 1.0;\"/><g id=\"E1.E8\"><a href=\"psysml:4eec70ee-61f4-4cab-8137-f00a9e5c8983\" target=\"_top\" title=\"psysml:4eec70ee-61f4-4cab-8137-f00a9e5c8983\" xlink:actuate=\"onRequest\" xlink:href=\"psysml:4eec70ee-61f4-4cab-8137-f00a9e5c8983\" xlink:show=\"new\" xlink:title=\"psysml:4eec70ee-61f4-4cab-8137-f00a9e5c8983\" xlink:type=\"simple\"><rect fill=\"#FFFFFF\" height=\"42.9375\" id=\"E8\" style=\"stroke: #383838; stroke-width: 1.5;\" width=\"84\" x=\"32\" y=\"88.5\"/><rect fill=\"#F8F8F8\" height=\"37.9375\" style=\"stroke: #383838; stroke-width: 1.5;\" width=\"84\" x=\"32\" y=\"88.5\"/><text fill=\"#000000\" font-family=\"sans-serif\" font-size=\"12\" font-style=\"italic\" lengthAdjust=\"spacingAndGlyphs\" textLength=\"77\" x=\"35.5\" y=\"104.6387\">«action def»</text><text fill=\"#000000\" font-family=\"sans-serif\" font-size=\"12\" lengthAdjust=\"spacingAndGlyphs\" textLength=\"8\" x=\"70\" y=\"118.6074\">B</text></a></g><!--MD5=[f47e10efcf9a6752d55dae986d790ed9]\n",
       "link *start*E3 to E4--><a href=\"psysml:03e50e83-6fc7-46a8-8453-213dc2aae23c\" target=\"_top\" title=\"psysml:03e50e83-6fc7-46a8-8453-213dc2aae23c\" xlink:actuate=\"onRequest\" xlink:href=\"psysml:03e50e83-6fc7-46a8-8453-213dc2aae23c\" xlink:show=\"new\" xlink:title=\"psysml:03e50e83-6fc7-46a8-8453-213dc2aae23c\" xlink:type=\"simple\"><path d=\"M420,120.01 C420,135.81 420,168.69 420,188.61 \" fill=\"none\" id=\"*start*E3-&gt;E4\" style=\"stroke: #383838; stroke-width: 1.0;\"/><polygon fill=\"#383838\" points=\"420,193.85,424,184.85,420,188.85,416,184.85,420,193.85\" style=\"stroke: #383838; stroke-width: 1.0;\"/></a><!--MD5=[d19f2eb34364d71b67042106d92f540b]\n",
       "link E7 to *end*E3--><a href=\"psysml:c4a668a6-d0f8-468f-9890-a338c2ee16ef\" target=\"_top\" title=\"psysml:c4a668a6-d0f8-468f-9890-a338c2ee16ef\" xlink:actuate=\"onRequest\" xlink:href=\"psysml:c4a668a6-d0f8-468f-9890-a338c2ee16ef\" xlink:show=\"new\" xlink:title=\"psysml:c4a668a6-d0f8-468f-9890-a338c2ee16ef\" xlink:type=\"simple\"><path d=\"M418,551.26 C418,565.66 418,590.63 418,606.46 \" fill=\"none\" id=\"E7-&gt;*end*E3\" style=\"stroke: #383838; stroke-width: 1.0;\"/><polygon fill=\"#383838\" points=\"418,611.84,422,602.84,418,606.84,414,602.84,418,611.84\" style=\"stroke: #383838; stroke-width: 1.0;\"/></a><!--MD5=[1b7591eae5389033d8d09a9d6721a717]\n",
       "link E4 to E5--><a href=\"psysml:f95480df-9a63-41d1-9e12-1ec6bb9c61dc\" target=\"_top\" title=\"psysml:f95480df-9a63-41d1-9e12-1ec6bb9c61dc\" xlink:actuate=\"onRequest\" xlink:href=\"psysml:f95480df-9a63-41d1-9e12-1ec6bb9c61dc\" xlink:show=\"new\" xlink:title=\"psysml:f95480df-9a63-41d1-9e12-1ec6bb9c61dc\" xlink:type=\"simple\"><path d=\"M415.34,213.46 C406.55,225.66 386.99,252.8 371.37,274.46 \" fill=\"none\" id=\"E4-&gt;E5\" style=\"stroke: #383838; stroke-width: 1.0;\"/><polygon fill=\"#383838\" points=\"368.31,278.71,376.8093,273.7339,371.227,274.6491,370.3119,269.0667,368.31,278.71\" style=\"stroke: #383838; stroke-width: 1.0;\"/></a><!--MD5=[9120cf2e5df3bff93db8f754bbbc09b4]\n",
       "link E5 to E6--><a href=\"psysml:73484f54-b4d2-4298-bed2-8c418bf31093\" target=\"_top\" title=\"psysml:73484f54-b4d2-4298-bed2-8c418bf31093\" xlink:actuate=\"onRequest\" xlink:href=\"psysml:73484f54-b4d2-4298-bed2-8c418bf31093\" xlink:show=\"new\" xlink:title=\"psysml:73484f54-b4d2-4298-bed2-8c418bf31093\" xlink:type=\"simple\"><path d=\"M347.77,334.12 C346.81,354.89 345.48,383.8 344.46,405.77 \" fill=\"none\" id=\"E5-&gt;E6\" style=\"stroke: #383838; stroke-width: 1.0;\"/><polygon fill=\"#383838\" points=\"344.23,410.91,348.6368,402.1021,344.4583,405.9152,340.6452,401.7367,344.23,410.91\" style=\"stroke: #383838; stroke-width: 1.0;\"/></a><!--MD5=[02c70b7c851c11e3980e4e90450dc5dd]\n",
       "link E6 to E7--><a href=\"psysml:860bf181-ae5a-4d8b-9cc8-c19fc893dd3f\" target=\"_top\" title=\"psysml:860bf181-ae5a-4d8b-9cc8-c19fc893dd3f\" xlink:actuate=\"onRequest\" xlink:href=\"psysml:860bf181-ae5a-4d8b-9cc8-c19fc893dd3f\" xlink:show=\"new\" xlink:title=\"psysml:860bf181-ae5a-4d8b-9cc8-c19fc893dd3f\" xlink:type=\"simple\"><path d=\"M363.3,466.16 C378.71,486.4 399.07,513.14 410.09,527.61 \" fill=\"none\" id=\"E6-&gt;E7\" style=\"stroke: #383838; stroke-width: 1.0;\"/><polygon fill=\"#383838\" points=\"413.2,531.69,410.9398,522.104,410.1749,527.7089,404.57,526.9441,413.2,531.69\" style=\"stroke: #383838; stroke-width: 1.0;\"/></a><!--MD5=[6bdd27f9905911a7e892a3dc65cf6b7c]\n",
       "link E7 to E4--><a href=\"psysml:227ffbe5-5fbb-4b69-bf2e-f462a1a2545e\" target=\"_top\" title=\"psysml:227ffbe5-5fbb-4b69-bf2e-f462a1a2545e\" xlink:actuate=\"onRequest\" xlink:href=\"psysml:227ffbe5-5fbb-4b69-bf2e-f462a1a2545e\" xlink:show=\"new\" xlink:title=\"psysml:227ffbe5-5fbb-4b69-bf2e-f462a1a2545e\" xlink:type=\"simple\"><path d=\"M419,527.68 C420.94,507.78 425,466 425,466 C425,466 437,334 437,334 C437,334 437,279 437,279 C437,279 428.27,242.03 423.32,221.07 \" fill=\"none\" id=\"E7-&gt;E4\" style=\"stroke: #383838; stroke-width: 1.0;\"/><polygon fill=\"#383838\" points=\"422.15,216.12,420.3382,225.8008,423.3055,220.9846,428.1217,223.9519,422.15,216.12\" style=\"stroke: #383838; stroke-width: 1.0;\"/><text fill=\"#000000\" font-family=\"sans-serif\" font-size=\"13\" lengthAdjust=\"spacingAndGlyphs\" textLength=\"36\" x=\"435\" y=\"377.0669\">[true]</text></a><!--MD5=[dcc5e9b63833558979e9cd237058722a]\n",
       "@startuml\r\n",
       "skinparam linetype polyline\r\n",
       "skinparam monochrome true\r\n",
       "skinparam classbackgroundcolor white\r\n",
       "skinparam shadowing false\r\n",
       "skinparam wrapWidth 300\r\n",
       "hide circle\r\n",
       "\r\n",
       "package \"ActionTest\" as E1  [[psysml:fba87211-d6a8-40ff-8d47-80f3cbac0e83 ]]  {\r\n",
       "comp def \"S\" as E2  <<(T,blue)attribute def>> [[psysml:9e8a127b-f23f-41bc-b046-de56fba8ce50 ]] {\r\n",
       "}\r\n",
       "rec usage \"a\" as E3  <<(T,blue)action>> [[psysml:ad4f18e6-c096-4c58-bb62-14a597e4442d ]] {\r\n",
       "choice \"m\" as E4  [[psysml:e85a3052-7a7b-4311-97f8-bb0216d1246f ]] \r\n",
       "accept \" S\" as E5 <<accept action>> [[psysml:ccfba6f1-4ce0-4ddd-afd5-b866d68d47d7 ]] \r\n",
       "send \" S() to  B()\" as E6 <<send action>> [[psysml:f31bbeb6-49c7-47f4-9bac-592fafbdce16 ]] \r\n",
       "choice \"noname\" as E7  [[psysml:7507dc2c-9b39-4c30-b0ef-dd6a627e8c4c ]] \r\n",
       "[*] - -> E4 [[psysml:03e50e83-6fc7-46a8-8453-213dc2aae23c ]] \r\n",
       "E7  - -> [*] [[psysml:c4a668a6-d0f8-468f-9890-a338c2ee16ef ]] \r\n",
       "}\r\n",
       "\r\n",
       "rec def \"B\" as E8  <<(T,blue)action def>> [[psysml:4eec70ee-61f4-4cab-8137-f00a9e5c8983 ]] {\r\n",
       "}\r\n",
       "\r\n",
       "E4 - -> E5 [[psysml:f95480df-9a63-41d1-9e12-1ec6bb9c61dc ]] \r\n",
       "E5 - -> E6 [[psysml:73484f54-b4d2-4298-bed2-8c418bf31093 ]] \r\n",
       "E6 - -> E7 [[psysml:860bf181-ae5a-4d8b-9cc8-c19fc893dd3f ]] \r\n",
       "E7  - -> E4 [[psysml:227ffbe5-5fbb-4b69-bf2e-f462a1a2545e ]] : [true]\r\n",
       "}\r\n",
       "@enduml\r\n",
       "\n",
       "PlantUML version 1.2020.13(Sat Jun 13 12:26:38 UTC 2020)\n",
       "(EPL source distribution)\n",
       "Java Runtime: OpenJDK Runtime Environment\n",
       "JVM: OpenJDK 64-Bit Server VM\n",
       "Default Encoding: UTF-8\n",
       "Language: en\n",
       "Country: null\n",
       "--></g></svg>"
      ]
     },
     "execution_count": 9,
     "metadata": {},
     "output_type": "execute_result"
    }
   ],
   "source": [
    "%viz --style=\"POLYLINE\" --view=\"Default\" \"ActionTest\""
   ]
  },
  {
   "cell_type": "code",
   "execution_count": 10,
   "id": "326ddfdc",
   "metadata": {
    "execution": {
     "iopub.execute_input": "2021-05-27T06:08:00.158010Z",
     "iopub.status.busy": "2021-05-27T06:08:00.157163Z",
     "iopub.status.idle": "2021-05-27T06:08:00.229403Z",
     "shell.execute_reply": "2021-05-27T06:08:00.229105Z"
    }
   },
   "outputs": [
    {
     "data": {
      "image/svg+xml": [
       "<?xml version=\"1.0\" encoding=\"UTF-8\" standalone=\"no\"?><svg xmlns=\"http://www.w3.org/2000/svg\" xmlns:xlink=\"http://www.w3.org/1999/xlink\" contentScriptType=\"application/ecmascript\" contentStyleType=\"text/css\" height=\"187px\" preserveAspectRatio=\"none\" style=\"width:475px;height:187px;\" version=\"1.1\" viewBox=\"0 0 475 187\" width=\"475px\" zoomAndPan=\"magnify\"><defs/><g><!--MD5=[fbc87193dbaf4d95561dea2c320d4a47]\n",
       "cluster E1--><a href=\"psysml:fba87211-d6a8-40ff-8d47-80f3cbac0e83\" target=\"_top\" title=\"psysml:fba87211-d6a8-40ff-8d47-80f3cbac0e83\" xlink:actuate=\"onRequest\" xlink:href=\"psysml:fba87211-d6a8-40ff-8d47-80f3cbac0e83\" xlink:show=\"new\" xlink:title=\"psysml:fba87211-d6a8-40ff-8d47-80f3cbac0e83\" xlink:type=\"simple\"><polygon fill=\"#FFFFFF\" points=\"16,6,107,6,114,28.2969,453,28.2969,453,175,16,175,16,6\" style=\"stroke: #000000; stroke-width: 1.5;\"/><line style=\"stroke: #000000; stroke-width: 1.5;\" x1=\"16\" x2=\"114\" y1=\"28.2969\" y2=\"28.2969\"/><text fill=\"#000000\" font-family=\"sans-serif\" font-size=\"14\" font-weight=\"bold\" lengthAdjust=\"spacingAndGlyphs\" textLength=\"85\" x=\"20\" y=\"20.9951\">ActionTest</text></a><!--MD5=[b4997ac47864f28c2f74865a473b2911]\n",
       "class E2--><a href=\"psysml:9e8a127b-f23f-41bc-b046-de56fba8ce50\" target=\"_top\" title=\"psysml:9e8a127b-f23f-41bc-b046-de56fba8ce50\" xlink:actuate=\"onRequest\" xlink:href=\"psysml:9e8a127b-f23f-41bc-b046-de56fba8ce50\" xlink:show=\"new\" xlink:title=\"psysml:9e8a127b-f23f-41bc-b046-de56fba8ce50\" xlink:type=\"simple\"><rect fill=\"#FFFFFF\" height=\"45.9375\" id=\"E2\" style=\"stroke: #383838; stroke-width: 1.5;\" width=\"95\" x=\"341.5\" y=\"77\"/><text fill=\"#000000\" font-family=\"sans-serif\" font-size=\"12\" font-style=\"italic\" lengthAdjust=\"spacingAndGlyphs\" textLength=\"93\" x=\"342.5\" y=\"93.1387\">«attribute def»</text><text fill=\"#000000\" font-family=\"sans-serif\" font-size=\"12\" lengthAdjust=\"spacingAndGlyphs\" textLength=\"8\" x=\"385\" y=\"107.1074\">S</text><line style=\"stroke: #383838; stroke-width: 1.5;\" x1=\"342.5\" x2=\"435.5\" y1=\"114.9375\" y2=\"114.9375\"/></a><!--MD5=[09b614a08d8cba4a07c9adeb5e0fee81]\n",
       "class E3--><a href=\"psysml:ad4f18e6-c096-4c58-bb62-14a597e4442d\" target=\"_top\" title=\"psysml:ad4f18e6-c096-4c58-bb62-14a597e4442d\" xlink:actuate=\"onRequest\" xlink:href=\"psysml:ad4f18e6-c096-4c58-bb62-14a597e4442d\" xlink:show=\"new\" xlink:title=\"psysml:ad4f18e6-c096-4c58-bb62-14a597e4442d\" xlink:type=\"simple\"><rect fill=\"#FFFFFF\" height=\"117.9609\" id=\"E3\" rx=\"10\" ry=\"10\" style=\"stroke: #383838; stroke-width: 1.5;\" width=\"160\" x=\"146\" y=\"41\"/><text fill=\"#000000\" font-family=\"sans-serif\" font-size=\"12\" font-style=\"italic\" lengthAdjust=\"spacingAndGlyphs\" textLength=\"53\" x=\"199.5\" y=\"57.1387\">«action»</text><text fill=\"#000000\" font-family=\"sans-serif\" font-size=\"12\" lengthAdjust=\"spacingAndGlyphs\" textLength=\"8\" x=\"222\" y=\"71.1074\">a</text><line style=\"stroke: #383838; stroke-width: 1.5;\" x1=\"147\" x2=\"305\" y1=\"78.9375\" y2=\"78.9375\"/><text fill=\"#000000\" font-family=\"sans-serif\" font-size=\"11\" lengthAdjust=\"spacingAndGlyphs\" textLength=\"69\" x=\"152\" y=\"109.9526\">start: Action</text><text fill=\"#000000\" font-family=\"sans-serif\" font-size=\"11\" font-style=\"italic\" lengthAdjust=\"spacingAndGlyphs\" textLength=\"148\" x=\"152\" y=\"122.7573\">:&gt;&gt;Occurrence::startShot</text><line style=\"stroke: #383838; stroke-width: 1.0;\" x1=\"147\" x2=\"205.5\" y1=\"93.3398\" y2=\"93.3398\"/><text fill=\"#000000\" font-family=\"sans-serif\" font-size=\"11\" lengthAdjust=\"spacingAndGlyphs\" textLength=\"41\" x=\"205.5\" y=\"96.6479\">actions</text><line style=\"stroke: #383838; stroke-width: 1.0;\" x1=\"246.5\" x2=\"305\" y1=\"93.3398\" y2=\"93.3398\"/><text fill=\"#000000\" font-family=\"sans-serif\" font-size=\"11\" lengthAdjust=\"spacingAndGlyphs\" textLength=\"11\" x=\"152\" y=\"152.3667\">m</text><line style=\"stroke: #383838; stroke-width: 1.0;\" x1=\"147\" x2=\"189.5\" y1=\"135.7539\" y2=\"135.7539\"/><text fill=\"#000000\" font-family=\"sans-serif\" font-size=\"11\" lengthAdjust=\"spacingAndGlyphs\" textLength=\"73\" x=\"189.5\" y=\"139.062\">mergeNodes</text><line style=\"stroke: #383838; stroke-width: 1.0;\" x1=\"262.5\" x2=\"305\" y1=\"135.7539\" y2=\"135.7539\"/></a><!--MD5=[60a26617385b1d2d0262a64233df1f8d]\n",
       "class E6--><a href=\"psysml:4eec70ee-61f4-4cab-8137-f00a9e5c8983\" target=\"_top\" title=\"psysml:4eec70ee-61f4-4cab-8137-f00a9e5c8983\" xlink:actuate=\"onRequest\" xlink:href=\"psysml:4eec70ee-61f4-4cab-8137-f00a9e5c8983\" xlink:show=\"new\" xlink:title=\"psysml:4eec70ee-61f4-4cab-8137-f00a9e5c8983\" xlink:type=\"simple\"><rect fill=\"#FFFFFF\" height=\"45.9375\" id=\"E6\" style=\"stroke: #383838; stroke-width: 1.5;\" width=\"79\" x=\"31.5\" y=\"77\"/><text fill=\"#000000\" font-family=\"sans-serif\" font-size=\"12\" font-style=\"italic\" lengthAdjust=\"spacingAndGlyphs\" textLength=\"77\" x=\"32.5\" y=\"93.1387\">«action def»</text><text fill=\"#000000\" font-family=\"sans-serif\" font-size=\"12\" lengthAdjust=\"spacingAndGlyphs\" textLength=\"8\" x=\"67\" y=\"107.1074\">B</text><line style=\"stroke: #383838; stroke-width: 1.5;\" x1=\"32.5\" x2=\"109.5\" y1=\"114.9375\" y2=\"114.9375\"/></a><!--MD5=[2edf33524d39d745ac5e7c0d118ebdb9]\n",
       "@startuml\r\n",
       "skinparam linetype polyline\r\n",
       "skinparam monochrome true\r\n",
       "skinparam classbackgroundcolor white\r\n",
       "skinparam shadowing false\r\n",
       "skinparam wrapWidth 300\r\n",
       "hide circle\r\n",
       "\r\n",
       "package \"ActionTest\" as E1  [[psysml:fba87211-d6a8-40ff-8d47-80f3cbac0e83 ]]  {\r\n",
       "comp def \"S\" as E2  <<(T,blue)attribute def>> [[psysml:9e8a127b-f23f-41bc-b046-de56fba8ce50 ]] {\r\n",
       "}\r\n",
       "comp usage \"a\" as E3  <<(T,blue)action>> [[psysml:ad4f18e6-c096-4c58-bb62-14a597e4442d ]] {\r\n",
       "- - actions - -\r\n",
       "start: Action\\n//:>>Occurrence::startShot// \r\n",
       "- - mergeNodes - -\r\n",
       "m\r\n",
       "}\r\n",
       "comp def \"B\" as E6  <<(T,blue)action def>> [[psysml:4eec70ee-61f4-4cab-8137-f00a9e5c8983 ]] {\r\n",
       "}\r\n",
       "}\r\n",
       "@enduml\r\n",
       "\n",
       "PlantUML version 1.2020.13(Sat Jun 13 12:26:38 UTC 2020)\n",
       "(EPL source distribution)\n",
       "Java Runtime: OpenJDK Runtime Environment\n",
       "JVM: OpenJDK 64-Bit Server VM\n",
       "Default Encoding: UTF-8\n",
       "Language: en\n",
       "Country: null\n",
       "--></g></svg>"
      ]
     },
     "execution_count": 10,
     "metadata": {},
     "output_type": "execute_result"
    }
   ],
   "source": [
    "%viz --style=\"POLYLINE\" --view=\"Tree\" \"ActionTest\""
   ]
  },
  {
   "cell_type": "code",
   "execution_count": 11,
   "id": "7a38c49f",
   "metadata": {
    "execution": {
     "iopub.execute_input": "2021-05-27T06:08:00.281983Z",
     "iopub.status.busy": "2021-05-27T06:08:00.281422Z",
     "iopub.status.idle": "2021-05-27T06:08:00.289118Z",
     "shell.execute_reply": "2021-05-27T06:08:00.288779Z"
    }
   },
   "outputs": [
    {
     "data": {
      "image/svg+xml": [
       "<?xml version=\"1.0\" encoding=\"UTF-8\" standalone=\"no\"?><svg xmlns=\"http://www.w3.org/2000/svg\" xmlns:xlink=\"http://www.w3.org/1999/xlink\" contentScriptType=\"application/ecmascript\" contentStyleType=\"text/css\" height=\"12px\" preserveAspectRatio=\"none\" style=\"width:12px;height:12px;\" version=\"1.1\" viewBox=\"0 0 12 12\" width=\"12px\" zoomAndPan=\"magnify\"><defs/><g><!--MD5=[896ac0e7a515d8dd7765a661cb4ee08b]\n",
       "@startuml\r\n",
       "skinparam linetype polyline\r\n",
       "skinparam monochrome true\r\n",
       "skinparam classbackgroundcolor white\r\n",
       "skinparam shadowing false\r\n",
       "skinparam wrapWidth 300\r\n",
       "hide circle\r\n",
       "\r\n",
       "@enduml\r\n",
       "\n",
       "PlantUML version 1.2020.13(Sat Jun 13 12:26:38 UTC 2020)\n",
       "(EPL source distribution)\n",
       "Java Runtime: OpenJDK Runtime Environment\n",
       "JVM: OpenJDK 64-Bit Server VM\n",
       "Default Encoding: UTF-8\n",
       "Language: en\n",
       "Country: null\n",
       "--></g></svg>"
      ]
     },
     "execution_count": 11,
     "metadata": {},
     "output_type": "execute_result"
    }
   ],
   "source": [
    "%viz --style=\"POLYLINE\" --view=\"State\" \"ActionTest\""
   ]
  },
  {
   "cell_type": "code",
   "execution_count": 12,
   "id": "ecf943f2",
   "metadata": {
    "execution": {
     "iopub.execute_input": "2021-05-27T06:08:00.341281Z",
     "iopub.status.busy": "2021-05-27T06:08:00.340441Z",
     "iopub.status.idle": "2021-05-27T06:08:00.399080Z",
     "shell.execute_reply": "2021-05-27T06:08:00.399377Z"
    }
   },
   "outputs": [
    {
     "data": {
      "image/svg+xml": [
       "<?xml version=\"1.0\" encoding=\"UTF-8\" standalone=\"no\"?><svg xmlns=\"http://www.w3.org/2000/svg\" xmlns:xlink=\"http://www.w3.org/1999/xlink\" contentScriptType=\"application/ecmascript\" contentStyleType=\"text/css\" height=\"462px\" preserveAspectRatio=\"none\" style=\"width:522px;height:462px;\" version=\"1.1\" viewBox=\"0 0 522 462\" width=\"522px\" zoomAndPan=\"magnify\"><defs/><g><!--MD5=[fbc87193dbaf4d95561dea2c320d4a47]\n",
       "cluster E1--><a href=\"psysml:fba87211-d6a8-40ff-8d47-80f3cbac0e83\" target=\"_top\" title=\"psysml:fba87211-d6a8-40ff-8d47-80f3cbac0e83\" xlink:actuate=\"onRequest\" xlink:href=\"psysml:fba87211-d6a8-40ff-8d47-80f3cbac0e83\" xlink:show=\"new\" xlink:title=\"psysml:fba87211-d6a8-40ff-8d47-80f3cbac0e83\" xlink:type=\"simple\"><polygon fill=\"#FFFFFF\" points=\"16,6,107,6,114,28.2969,500,28.2969,500,450.5,16,450.5,16,6\" style=\"stroke: #000000; stroke-width: 1.5;\"/><line style=\"stroke: #000000; stroke-width: 1.5;\" x1=\"16\" x2=\"114\" y1=\"28.2969\" y2=\"28.2969\"/><text fill=\"#000000\" font-family=\"sans-serif\" font-size=\"14\" font-weight=\"bold\" lengthAdjust=\"spacingAndGlyphs\" textLength=\"85\" x=\"20\" y=\"20.9951\">ActionTest</text></a><!--MD5=[d5e69f78d87373223dbae638b30a9c99]\n",
       "cluster E3--><a href=\"psysml:ad4f18e6-c096-4c58-bb62-14a597e4442d\" target=\"_top\" title=\"psysml:ad4f18e6-c096-4c58-bb62-14a597e4442d\" xlink:actuate=\"onRequest\" xlink:href=\"psysml:ad4f18e6-c096-4c58-bb62-14a597e4442d\" xlink:show=\"new\" xlink:title=\"psysml:ad4f18e6-c096-4c58-bb62-14a597e4442d\" xlink:type=\"simple\"><rect fill=\"#FFFFFF\" height=\"377.5\" id=\"E3\" rx=\"10\" ry=\"10\" style=\"stroke: #383838; stroke-width: 1.5;\" width=\"209\" x=\"267\" y=\"49\"/><rect fill=\"#F8F8F8\" height=\"37.9375\" rx=\"10\" ry=\"10\" style=\"stroke: #F8F8F8; stroke-width: 1.5;\" width=\"209\" x=\"267\" y=\"49\"/><rect fill=\"#F8F8F8\" height=\"10\" style=\"stroke: #F8F8F8; stroke-width: 1.5;\" width=\"209\" x=\"267\" y=\"76.9375\"/><rect fill=\"none\" height=\"377.5\" id=\"E3\" rx=\"10\" ry=\"10\" style=\"stroke: #383838; stroke-width: 1.5;\" width=\"209\" x=\"267\" y=\"49\"/><text fill=\"#000000\" font-family=\"sans-serif\" font-size=\"12\" font-style=\"italic\" lengthAdjust=\"spacingAndGlyphs\" textLength=\"53\" x=\"345\" y=\"65.1387\">«action»</text><text fill=\"#000000\" font-family=\"sans-serif\" font-size=\"12\" lengthAdjust=\"spacingAndGlyphs\" textLength=\"8\" x=\"367.5\" y=\"79.1074\">a</text><line style=\"stroke: #383838; stroke-width: 1.0;\" x1=\"267\" x2=\"476\" y1=\"86.9375\" y2=\"86.9375\"/></a><g id=\"E1.E2\"><a href=\"psysml:9e8a127b-f23f-41bc-b046-de56fba8ce50\" target=\"_top\" title=\"psysml:9e8a127b-f23f-41bc-b046-de56fba8ce50\" xlink:actuate=\"onRequest\" xlink:href=\"psysml:9e8a127b-f23f-41bc-b046-de56fba8ce50\" xlink:show=\"new\" xlink:title=\"psysml:9e8a127b-f23f-41bc-b046-de56fba8ce50\" xlink:type=\"simple\"><rect fill=\"#FFFFFF\" height=\"42.9375\" id=\"E2\" style=\"stroke: #383838; stroke-width: 1.5;\" width=\"100\" x=\"151\" y=\"88.5\"/><rect fill=\"#F8F8F8\" height=\"37.9375\" style=\"stroke: #383838; stroke-width: 1.5;\" width=\"100\" x=\"151\" y=\"88.5\"/><text fill=\"#000000\" font-family=\"sans-serif\" font-size=\"12\" font-style=\"italic\" lengthAdjust=\"spacingAndGlyphs\" textLength=\"93\" x=\"154.5\" y=\"104.6387\">«attribute def»</text><text fill=\"#000000\" font-family=\"sans-serif\" font-size=\"12\" lengthAdjust=\"spacingAndGlyphs\" textLength=\"8\" x=\"197\" y=\"118.6074\">S</text></a></g><polygon fill=\"#F8F8F8\" points=\"424,148.5,436,160.5,424,172.5,412,160.5,424,148.5\" style=\"stroke: #383838; stroke-width: 1.5;\"/><!--MD5=[21dd76c19d33815960c0e92fef8f0eef]\n",
       "entity E5--><a href=\"psysml:ccfba6f1-4ce0-4ddd-afd5-b866d68d47d7\" target=\"_top\" title=\"psysml:ccfba6f1-4ce0-4ddd-afd5-b866d68d47d7\" xlink:actuate=\"onRequest\" xlink:href=\"psysml:ccfba6f1-4ce0-4ddd-afd5-b866d68d47d7\" xlink:show=\"new\" xlink:title=\"psysml:ccfba6f1-4ce0-4ddd-afd5-b866d68d47d7\" xlink:type=\"simple\"><polygon fill=\"#F8F8F8\" points=\"283,189.5,283,244.0938,423,244.0938,403,216.7969,423,189.5\" style=\"stroke: #000000; stroke-width: 1.5;\"/><text fill=\"#000000\" font-family=\"sans-serif\" font-size=\"14\" font-style=\"italic\" lengthAdjust=\"spacingAndGlyphs\" textLength=\"111\" x=\"290\" y=\"212.4951\">«accept action»</text><text fill=\"#000000\" font-family=\"sans-serif\" font-size=\"14\" lengthAdjust=\"spacingAndGlyphs\" textLength=\"9\" x=\"341\" y=\"229.792\">S</text></a><!--MD5=[24d87cdf3002d433f401b2a2aa9f9f65]\n",
       "entity E6--><a href=\"psysml:f31bbeb6-49c7-47f4-9bac-592fafbdce16\" target=\"_top\" title=\"psysml:f31bbeb6-49c7-47f4-9bac-592fafbdce16\" xlink:actuate=\"onRequest\" xlink:href=\"psysml:f31bbeb6-49c7-47f4-9bac-592fafbdce16\" xlink:show=\"new\" xlink:title=\"psysml:f31bbeb6-49c7-47f4-9bac-592fafbdce16\" xlink:type=\"simple\"><polygon fill=\"#F8F8F8\" points=\"283,277.5,283,332.0938,391,332.0938,411,304.7969,391,277.5\" style=\"stroke: #000000; stroke-width: 1.5;\"/><text fill=\"#000000\" font-family=\"sans-serif\" font-size=\"14\" font-style=\"italic\" lengthAdjust=\"spacingAndGlyphs\" textLength=\"99\" x=\"290\" y=\"300.4951\">«send action»</text><text fill=\"#000000\" font-family=\"sans-serif\" font-size=\"14\" lengthAdjust=\"spacingAndGlyphs\" textLength=\"65\" x=\"307\" y=\"317.792\">S() to  B()</text></a><polygon fill=\"#F8F8F8\" points=\"422,349.5,434,361.5,422,373.5,410,361.5,422,349.5\" style=\"stroke: #383838; stroke-width: 1.5;\"/><ellipse cx=\"424\" cy=\"110\" fill=\"#000000\" rx=\"10\" ry=\"10\" style=\"stroke: none; stroke-width: 1.0;\"/><ellipse cx=\"422\" cy=\"400.5\" fill=\"none\" rx=\"10\" ry=\"10\" style=\"stroke: #000000; stroke-width: 1.0;\"/><ellipse cx=\"422.5\" cy=\"401\" fill=\"#000000\" rx=\"6\" ry=\"6\" style=\"stroke: none; stroke-width: 1.0;\"/><g id=\"E1.E8\"><a href=\"psysml:4eec70ee-61f4-4cab-8137-f00a9e5c8983\" target=\"_top\" title=\"psysml:4eec70ee-61f4-4cab-8137-f00a9e5c8983\" xlink:actuate=\"onRequest\" xlink:href=\"psysml:4eec70ee-61f4-4cab-8137-f00a9e5c8983\" xlink:show=\"new\" xlink:title=\"psysml:4eec70ee-61f4-4cab-8137-f00a9e5c8983\" xlink:type=\"simple\"><rect fill=\"#FFFFFF\" height=\"42.9375\" id=\"E8\" style=\"stroke: #383838; stroke-width: 1.5;\" width=\"84\" x=\"32\" y=\"88.5\"/><rect fill=\"#F8F8F8\" height=\"37.9375\" style=\"stroke: #383838; stroke-width: 1.5;\" width=\"84\" x=\"32\" y=\"88.5\"/><text fill=\"#000000\" font-family=\"sans-serif\" font-size=\"12\" font-style=\"italic\" lengthAdjust=\"spacingAndGlyphs\" textLength=\"77\" x=\"35.5\" y=\"104.6387\">«action def»</text><text fill=\"#000000\" font-family=\"sans-serif\" font-size=\"12\" lengthAdjust=\"spacingAndGlyphs\" textLength=\"8\" x=\"70\" y=\"118.6074\">B</text></a></g><!--MD5=[f47e10efcf9a6752d55dae986d790ed9]\n",
       "link *start*E3 to E4--><a href=\"psysml:03e50e83-6fc7-46a8-8453-213dc2aae23c\" target=\"_top\" title=\"psysml:03e50e83-6fc7-46a8-8453-213dc2aae23c\" xlink:actuate=\"onRequest\" xlink:href=\"psysml:03e50e83-6fc7-46a8-8453-213dc2aae23c\" xlink:show=\"new\" xlink:title=\"psysml:03e50e83-6fc7-46a8-8453-213dc2aae23c\" xlink:type=\"simple\"><path d=\"M424,120.35 C424,126.88 424,135.77 424,143.42 \" fill=\"none\" id=\"*start*E3-&gt;E4\" style=\"stroke: #383838; stroke-width: 1.0;\"/><polygon fill=\"#383838\" points=\"424,148.48,428,139.48,424,143.48,420,139.48,424,148.48\" style=\"stroke: #383838; stroke-width: 1.0;\"/></a><!--MD5=[d19f2eb34364d71b67042106d92f540b]\n",
       "link E7 to *end*E3--><a href=\"psysml:c4a668a6-d0f8-468f-9890-a338c2ee16ef\" target=\"_top\" title=\"psysml:c4a668a6-d0f8-468f-9890-a338c2ee16ef\" xlink:actuate=\"onRequest\" xlink:href=\"psysml:c4a668a6-d0f8-468f-9890-a338c2ee16ef\" xlink:show=\"new\" xlink:title=\"psysml:c4a668a6-d0f8-468f-9890-a338c2ee16ef\" xlink:type=\"simple\"><path d=\"M422,373.8 C422,377.34 422,381.3 422,385.03 \" fill=\"none\" id=\"E7-&gt;*end*E3\" style=\"stroke: #383838; stroke-width: 1.0;\"/><polygon fill=\"#383838\" points=\"422,390.25,426,381.25,422,385.25,418,381.25,422,390.25\" style=\"stroke: #383838; stroke-width: 1.0;\"/></a><!--MD5=[1b7591eae5389033d8d09a9d6721a717]\n",
       "link E4 to E5--><a href=\"psysml:f95480df-9a63-41d1-9e12-1ec6bb9c61dc\" target=\"_top\" title=\"psysml:f95480df-9a63-41d1-9e12-1ec6bb9c61dc\" xlink:actuate=\"onRequest\" xlink:href=\"psysml:f95480df-9a63-41d1-9e12-1ec6bb9c61dc\" xlink:show=\"new\" xlink:title=\"psysml:f95480df-9a63-41d1-9e12-1ec6bb9c61dc\" xlink:type=\"simple\"><path d=\"M417.45,166.53 C411.33,171.23 401.65,178.66 391.64,186.34 \" fill=\"none\" id=\"E4-&gt;E5\" style=\"stroke: #383838; stroke-width: 1.0;\"/><polygon fill=\"#383838\" points=\"387.64,189.41,397.2129,187.0948,391.6037,186.3621,392.3363,180.7529,387.64,189.41\" style=\"stroke: #383838; stroke-width: 1.0;\"/></a><!--MD5=[9120cf2e5df3bff93db8f754bbbc09b4]\n",
       "link E5 to E6--><a href=\"psysml:73484f54-b4d2-4298-bed2-8c418bf31093\" target=\"_top\" title=\"psysml:73484f54-b4d2-4298-bed2-8c418bf31093\" xlink:actuate=\"onRequest\" xlink:href=\"psysml:73484f54-b4d2-4298-bed2-8c418bf31093\" xlink:show=\"new\" xlink:title=\"psysml:73484f54-b4d2-4298-bed2-8c418bf31093\" xlink:type=\"simple\"><path d=\"M351.13,244.74 C350.53,253.4 349.85,263.08 349.23,272.08 \" fill=\"none\" id=\"E5-&gt;E6\" style=\"stroke: #383838; stroke-width: 1.0;\"/><polygon fill=\"#383838\" points=\"348.86,277.28,353.468,268.5756,349.203,272.2918,345.4869,268.0268,348.86,277.28\" style=\"stroke: #383838; stroke-width: 1.0;\"/></a><!--MD5=[02c70b7c851c11e3980e4e90450dc5dd]\n",
       "link E6 to E7--><a href=\"psysml:860bf181-ae5a-4d8b-9cc8-c19fc893dd3f\" target=\"_top\" title=\"psysml:860bf181-ae5a-4d8b-9cc8-c19fc893dd3f\" xlink:actuate=\"onRequest\" xlink:href=\"psysml:860bf181-ae5a-4d8b-9cc8-c19fc893dd3f\" xlink:show=\"new\" xlink:title=\"psysml:860bf181-ae5a-4d8b-9cc8-c19fc893dd3f\" xlink:type=\"simple\"><path d=\"M383.62,332.61 C393.72,339.95 403.91,347.35 411.24,352.68 \" fill=\"none\" id=\"E6-&gt;E7\" style=\"stroke: #383838; stroke-width: 1.0;\"/><polygon fill=\"#383838\" points=\"415.42,355.72,410.4976,347.1894,411.3776,352.7774,405.7896,353.6574,415.42,355.72\" style=\"stroke: #383838; stroke-width: 1.0;\"/></a><!--MD5=[6bdd27f9905911a7e892a3dc65cf6b7c]\n",
       "link E7 to E4--><a href=\"psysml:227ffbe5-5fbb-4b69-bf2e-f462a1a2545e\" target=\"_top\" title=\"psysml:227ffbe5-5fbb-4b69-bf2e-f462a1a2545e\" xlink:actuate=\"onRequest\" xlink:href=\"psysml:227ffbe5-5fbb-4b69-bf2e-f462a1a2545e\" xlink:show=\"new\" xlink:title=\"psysml:227ffbe5-5fbb-4b69-bf2e-f462a1a2545e\" xlink:type=\"simple\"><path d=\"M424.21,351.64 C426.27,343.44 429,332.5 429,332.5 C429,332.5 441,244.5 441,244.5 C441,244.5 441,189.5 441,189.5 C441,189.5 435.74,180.83 431.07,173.14 \" fill=\"none\" id=\"E7-&gt;E4\" style=\"stroke: #383838; stroke-width: 1.0;\"/><polygon fill=\"#383838\" points=\"428.29,168.57,429.5527,178.3376,430.8897,172.841,436.3863,174.178,428.29,168.57\" style=\"stroke: #383838; stroke-width: 1.0;\"/><text fill=\"#000000\" font-family=\"sans-serif\" font-size=\"13\" lengthAdjust=\"spacingAndGlyphs\" textLength=\"36\" x=\"440\" y=\"265.5669\">[true]</text></a><!--MD5=[4482eeca20775b0f588debde5b104748]\n",
       "@startuml\r\n",
       "skinparam ranksep 10\r\n",
       "skinparam rectangle {\r\n",
       " backgroundColor<<block>> LightGreen\r\n",
       "}\r\n",
       "skinparam linetype polyline\r\n",
       "skinparam monochrome true\r\n",
       "skinparam classbackgroundcolor white\r\n",
       "skinparam shadowing false\r\n",
       "skinparam wrapWidth 300\r\n",
       "hide circle\r\n",
       "\r\n",
       "package \"ActionTest\" as E1  [[psysml:fba87211-d6a8-40ff-8d47-80f3cbac0e83 ]]  {\r\n",
       "def \"S\" as E2  <<(T,blue)attribute def>> [[psysml:9e8a127b-f23f-41bc-b046-de56fba8ce50 ]] \r\n",
       "rec usage \"a\" as E3  <<(T,blue)action>> [[psysml:ad4f18e6-c096-4c58-bb62-14a597e4442d ]] {\r\n",
       "choice \"m\" as E4  [[psysml:e85a3052-7a7b-4311-97f8-bb0216d1246f ]] \r\n",
       "accept \" S\" as E5 <<accept action>> [[psysml:ccfba6f1-4ce0-4ddd-afd5-b866d68d47d7 ]] \r\n",
       "send \" S() to  B()\" as E6 <<send action>> [[psysml:f31bbeb6-49c7-47f4-9bac-592fafbdce16 ]] \r\n",
       "choice \"noname\" as E7  [[psysml:7507dc2c-9b39-4c30-b0ef-dd6a627e8c4c ]] \r\n",
       "[*] - -> E4 [[psysml:03e50e83-6fc7-46a8-8453-213dc2aae23c ]] \r\n",
       "E7  - -> [*] [[psysml:c4a668a6-d0f8-468f-9890-a338c2ee16ef ]] \r\n",
       "}\r\n",
       "\r\n",
       "rec def \"B\" as E8  <<(T,blue)action def>> [[psysml:4eec70ee-61f4-4cab-8137-f00a9e5c8983 ]] {\r\n",
       "}\r\n",
       "\r\n",
       "E4 - -> E5 [[psysml:f95480df-9a63-41d1-9e12-1ec6bb9c61dc ]] \r\n",
       "E5 - -> E6 [[psysml:73484f54-b4d2-4298-bed2-8c418bf31093 ]] \r\n",
       "E6 - -> E7 [[psysml:860bf181-ae5a-4d8b-9cc8-c19fc893dd3f ]] \r\n",
       "E7  - -> E4 [[psysml:227ffbe5-5fbb-4b69-bf2e-f462a1a2545e ]] : [true]\r\n",
       "}\r\n",
       "@enduml\r\n",
       "\n",
       "PlantUML version 1.2020.13(Sat Jun 13 12:26:38 UTC 2020)\n",
       "(EPL source distribution)\n",
       "Java Runtime: OpenJDK Runtime Environment\n",
       "JVM: OpenJDK 64-Bit Server VM\n",
       "Default Encoding: UTF-8\n",
       "Language: en\n",
       "Country: null\n",
       "--></g></svg>"
      ]
     },
     "execution_count": 12,
     "metadata": {},
     "output_type": "execute_result"
    }
   ],
   "source": [
    "%viz --style=\"POLYLINE\" --view=\"Interconnection\" \"ActionTest\""
   ]
  },
  {
   "cell_type": "code",
   "execution_count": 13,
   "id": "b745609b",
   "metadata": {
    "execution": {
     "iopub.execute_input": "2021-05-27T06:08:00.451929Z",
     "iopub.status.busy": "2021-05-27T06:08:00.451475Z",
     "iopub.status.idle": "2021-05-27T06:08:00.525894Z",
     "shell.execute_reply": "2021-05-27T06:08:00.525599Z"
    }
   },
   "outputs": [
    {
     "data": {
      "image/svg+xml": [
       "<?xml version=\"1.0\" encoding=\"UTF-8\" standalone=\"no\"?><svg xmlns=\"http://www.w3.org/2000/svg\" xmlns:xlink=\"http://www.w3.org/1999/xlink\" contentScriptType=\"application/ecmascript\" contentStyleType=\"text/css\" height=\"395px\" preserveAspectRatio=\"none\" style=\"width:328px;height:395px;\" version=\"1.1\" viewBox=\"0 0 328 395\" width=\"328px\" zoomAndPan=\"magnify\"><defs/><g><!--MD5=[fbc87193dbaf4d95561dea2c320d4a47]\n",
       "cluster E1--><a href=\"psysml:ad4f18e6-c096-4c58-bb62-14a597e4442d\" target=\"_top\" title=\"psysml:ad4f18e6-c096-4c58-bb62-14a597e4442d\" xlink:actuate=\"onRequest\" xlink:href=\"psysml:ad4f18e6-c096-4c58-bb62-14a597e4442d\" xlink:show=\"new\" xlink:title=\"psysml:ad4f18e6-c096-4c58-bb62-14a597e4442d\" xlink:type=\"simple\"><rect fill=\"#FFFFFF\" height=\"377.5\" id=\"E1\" rx=\"10\" ry=\"10\" style=\"stroke: #383838; stroke-width: 1.5;\" width=\"209\" x=\"107\" y=\"7\"/><rect fill=\"#F8F8F8\" height=\"37.9375\" rx=\"10\" ry=\"10\" style=\"stroke: #F8F8F8; stroke-width: 1.5;\" width=\"209\" x=\"107\" y=\"7\"/><rect fill=\"#F8F8F8\" height=\"10\" style=\"stroke: #F8F8F8; stroke-width: 1.5;\" width=\"209\" x=\"107\" y=\"34.9375\"/><rect fill=\"none\" height=\"377.5\" id=\"E1\" rx=\"10\" ry=\"10\" style=\"stroke: #383838; stroke-width: 1.5;\" width=\"209\" x=\"107\" y=\"7\"/><text fill=\"#000000\" font-family=\"sans-serif\" font-size=\"12\" font-style=\"italic\" lengthAdjust=\"spacingAndGlyphs\" textLength=\"53\" x=\"185\" y=\"23.1387\">«action»</text><text fill=\"#000000\" font-family=\"sans-serif\" font-size=\"12\" lengthAdjust=\"spacingAndGlyphs\" textLength=\"8\" x=\"207.5\" y=\"37.1074\">a</text><line style=\"stroke: #383838; stroke-width: 1.0;\" x1=\"107\" x2=\"316\" y1=\"44.9375\" y2=\"44.9375\"/></a><polygon fill=\"#F8F8F8\" points=\"264,106.5,276,118.5,264,130.5,252,118.5,264,106.5\" style=\"stroke: #383838; stroke-width: 1.5;\"/><!--MD5=[a60fb756f580feb9fd8e2cf1329b5c91]\n",
       "entity E3--><a href=\"psysml:ccfba6f1-4ce0-4ddd-afd5-b866d68d47d7\" target=\"_top\" title=\"psysml:ccfba6f1-4ce0-4ddd-afd5-b866d68d47d7\" xlink:actuate=\"onRequest\" xlink:href=\"psysml:ccfba6f1-4ce0-4ddd-afd5-b866d68d47d7\" xlink:show=\"new\" xlink:title=\"psysml:ccfba6f1-4ce0-4ddd-afd5-b866d68d47d7\" xlink:type=\"simple\"><polygon fill=\"#F8F8F8\" points=\"123,147.5,123,202.0938,263,202.0938,243,174.7969,263,147.5\" style=\"stroke: #000000; stroke-width: 1.5;\"/><text fill=\"#000000\" font-family=\"sans-serif\" font-size=\"14\" font-style=\"italic\" lengthAdjust=\"spacingAndGlyphs\" textLength=\"111\" x=\"130\" y=\"170.4951\">«accept action»</text><text fill=\"#000000\" font-family=\"sans-serif\" font-size=\"14\" lengthAdjust=\"spacingAndGlyphs\" textLength=\"9\" x=\"181\" y=\"187.792\">S</text></a><!--MD5=[961cefdc15414eaa3e87aec9d17c2188]\n",
       "entity E4--><a href=\"psysml:f31bbeb6-49c7-47f4-9bac-592fafbdce16\" target=\"_top\" title=\"psysml:f31bbeb6-49c7-47f4-9bac-592fafbdce16\" xlink:actuate=\"onRequest\" xlink:href=\"psysml:f31bbeb6-49c7-47f4-9bac-592fafbdce16\" xlink:show=\"new\" xlink:title=\"psysml:f31bbeb6-49c7-47f4-9bac-592fafbdce16\" xlink:type=\"simple\"><polygon fill=\"#F8F8F8\" points=\"123,235.5,123,290.0938,231,290.0938,251,262.7969,231,235.5\" style=\"stroke: #000000; stroke-width: 1.5;\"/><text fill=\"#000000\" font-family=\"sans-serif\" font-size=\"14\" font-style=\"italic\" lengthAdjust=\"spacingAndGlyphs\" textLength=\"99\" x=\"130\" y=\"258.4951\">«send action»</text><text fill=\"#000000\" font-family=\"sans-serif\" font-size=\"14\" lengthAdjust=\"spacingAndGlyphs\" textLength=\"65\" x=\"147\" y=\"275.792\">S() to  B()</text></a><polygon fill=\"#F8F8F8\" points=\"262,307.5,274,319.5,262,331.5,250,319.5,262,307.5\" style=\"stroke: #383838; stroke-width: 1.5;\"/><ellipse cx=\"264\" cy=\"68\" fill=\"#000000\" rx=\"10\" ry=\"10\" style=\"stroke: none; stroke-width: 1.0;\"/><ellipse cx=\"262\" cy=\"358.5\" fill=\"none\" rx=\"10\" ry=\"10\" style=\"stroke: #000000; stroke-width: 1.0;\"/><ellipse cx=\"262.5\" cy=\"359\" fill=\"#000000\" rx=\"6\" ry=\"6\" style=\"stroke: none; stroke-width: 1.0;\"/><g id=\"E6\"><a href=\"psysml:4eec70ee-61f4-4cab-8137-f00a9e5c8983\" target=\"_top\" title=\"psysml:4eec70ee-61f4-4cab-8137-f00a9e5c8983\" xlink:actuate=\"onRequest\" xlink:href=\"psysml:4eec70ee-61f4-4cab-8137-f00a9e5c8983\" xlink:show=\"new\" xlink:title=\"psysml:4eec70ee-61f4-4cab-8137-f00a9e5c8983\" xlink:type=\"simple\"><rect fill=\"#FFFFFF\" height=\"42.9375\" id=\"E6\" style=\"stroke: #383838; stroke-width: 1.5;\" width=\"84\" x=\"7\" y=\"46.5\"/><rect fill=\"#F8F8F8\" height=\"37.9375\" style=\"stroke: #383838; stroke-width: 1.5;\" width=\"84\" x=\"7\" y=\"46.5\"/><text fill=\"#000000\" font-family=\"sans-serif\" font-size=\"12\" font-style=\"italic\" lengthAdjust=\"spacingAndGlyphs\" textLength=\"77\" x=\"10.5\" y=\"62.6387\">«action def»</text><text fill=\"#000000\" font-family=\"sans-serif\" font-size=\"12\" lengthAdjust=\"spacingAndGlyphs\" textLength=\"8\" x=\"45\" y=\"76.6074\">B</text></a></g><!--MD5=[cff944eb183b832d446717a4e202d613]\n",
       "link *start*E1 to E2--><a href=\"psysml:03e50e83-6fc7-46a8-8453-213dc2aae23c\" target=\"_top\" title=\"psysml:03e50e83-6fc7-46a8-8453-213dc2aae23c\" xlink:actuate=\"onRequest\" xlink:href=\"psysml:03e50e83-6fc7-46a8-8453-213dc2aae23c\" xlink:show=\"new\" xlink:title=\"psysml:03e50e83-6fc7-46a8-8453-213dc2aae23c\" xlink:type=\"simple\"><path d=\"M264,78.35 C264,84.88 264,93.77 264,101.42 \" fill=\"none\" id=\"*start*E1-&gt;E2\" style=\"stroke: #383838; stroke-width: 1.0; stroke-dasharray: 7.0,7.0;\"/><polygon fill=\"#383838\" points=\"264,106.48,268,97.48,264,101.48,260,97.48,264,106.48\" style=\"stroke: #383838; stroke-width: 1.0;\"/></a><!--MD5=[7fc47fc0d107820853a137871ad908c8]\n",
       "link E5 to *end*E1--><a href=\"psysml:c4a668a6-d0f8-468f-9890-a338c2ee16ef\" target=\"_top\" title=\"psysml:c4a668a6-d0f8-468f-9890-a338c2ee16ef\" xlink:actuate=\"onRequest\" xlink:href=\"psysml:c4a668a6-d0f8-468f-9890-a338c2ee16ef\" xlink:show=\"new\" xlink:title=\"psysml:c4a668a6-d0f8-468f-9890-a338c2ee16ef\" xlink:type=\"simple\"><path d=\"M262,331.8 C262,335.34 262,339.3 262,343.03 \" fill=\"none\" id=\"E5-&gt;*end*E1\" style=\"stroke: #383838; stroke-width: 1.0; stroke-dasharray: 7.0,7.0;\"/><polygon fill=\"#383838\" points=\"262,348.25,266,339.25,262,343.25,258,339.25,262,348.25\" style=\"stroke: #383838; stroke-width: 1.0;\"/></a><!--MD5=[2720a5a1f2c3fca2055b230370638851]\n",
       "link E2 to E3--><a href=\"psysml:f95480df-9a63-41d1-9e12-1ec6bb9c61dc\" target=\"_top\" title=\"psysml:f95480df-9a63-41d1-9e12-1ec6bb9c61dc\" xlink:actuate=\"onRequest\" xlink:href=\"psysml:f95480df-9a63-41d1-9e12-1ec6bb9c61dc\" xlink:show=\"new\" xlink:title=\"psysml:f95480df-9a63-41d1-9e12-1ec6bb9c61dc\" xlink:type=\"simple\"><path d=\"M257.45,124.53 C251.33,129.23 241.65,136.66 231.64,144.34 \" fill=\"none\" id=\"E2-&gt;E3\" style=\"stroke: #383838; stroke-width: 1.0; stroke-dasharray: 7.0,7.0;\"/><polygon fill=\"#383838\" points=\"227.64,147.41,237.2129,145.0948,231.6037,144.3621,232.3363,138.7529,227.64,147.41\" style=\"stroke: #383838; stroke-width: 1.0;\"/></a><!--MD5=[af87c684e3b0d8be13c1a698a818ef1e]\n",
       "link E3 to E4--><a href=\"psysml:73484f54-b4d2-4298-bed2-8c418bf31093\" target=\"_top\" title=\"psysml:73484f54-b4d2-4298-bed2-8c418bf31093\" xlink:actuate=\"onRequest\" xlink:href=\"psysml:73484f54-b4d2-4298-bed2-8c418bf31093\" xlink:show=\"new\" xlink:title=\"psysml:73484f54-b4d2-4298-bed2-8c418bf31093\" xlink:type=\"simple\"><path d=\"M191.13,202.74 C190.53,211.4 189.85,221.08 189.23,230.08 \" fill=\"none\" id=\"E3-&gt;E4\" style=\"stroke: #383838; stroke-width: 1.0; stroke-dasharray: 7.0,7.0;\"/><polygon fill=\"#383838\" points=\"188.86,235.28,193.468,226.5756,189.203,230.2918,185.4869,226.0268,188.86,235.28\" style=\"stroke: #383838; stroke-width: 1.0;\"/></a><!--MD5=[1b7591eae5389033d8d09a9d6721a717]\n",
       "link E4 to E5--><a href=\"psysml:860bf181-ae5a-4d8b-9cc8-c19fc893dd3f\" target=\"_top\" title=\"psysml:860bf181-ae5a-4d8b-9cc8-c19fc893dd3f\" xlink:actuate=\"onRequest\" xlink:href=\"psysml:860bf181-ae5a-4d8b-9cc8-c19fc893dd3f\" xlink:show=\"new\" xlink:title=\"psysml:860bf181-ae5a-4d8b-9cc8-c19fc893dd3f\" xlink:type=\"simple\"><path d=\"M223.62,290.61 C233.72,297.95 243.91,305.35 251.24,310.68 \" fill=\"none\" id=\"E4-&gt;E5\" style=\"stroke: #383838; stroke-width: 1.0; stroke-dasharray: 7.0,7.0;\"/><polygon fill=\"#383838\" points=\"255.42,313.72,250.4976,305.1894,251.3776,310.7774,245.7896,311.6574,255.42,313.72\" style=\"stroke: #383838; stroke-width: 1.0;\"/></a><!--MD5=[15ebcb19ae302d9b601edb458606d402]\n",
       "link E5 to E2--><a href=\"psysml:227ffbe5-5fbb-4b69-bf2e-f462a1a2545e\" target=\"_top\" title=\"psysml:227ffbe5-5fbb-4b69-bf2e-f462a1a2545e\" xlink:actuate=\"onRequest\" xlink:href=\"psysml:227ffbe5-5fbb-4b69-bf2e-f462a1a2545e\" xlink:show=\"new\" xlink:title=\"psysml:227ffbe5-5fbb-4b69-bf2e-f462a1a2545e\" xlink:type=\"simple\"><path d=\"M264.21,309.64 C266.27,301.44 269,290.5 269,290.5 C269,290.5 281,202.5 281,202.5 C281,202.5 281,147.5 281,147.5 C281,147.5 275.74,138.83 271.07,131.14 \" fill=\"none\" id=\"E5-&gt;E2\" style=\"stroke: #383838; stroke-width: 1.0; stroke-dasharray: 7.0,7.0;\"/><polygon fill=\"#383838\" points=\"268.29,126.57,269.5527,136.3376,270.8897,130.841,276.3863,132.178,268.29,126.57\" style=\"stroke: #383838; stroke-width: 1.0;\"/><text fill=\"#000000\" font-family=\"sans-serif\" font-size=\"13\" lengthAdjust=\"spacingAndGlyphs\" textLength=\"36\" x=\"280\" y=\"223.5669\">[true]</text></a><!--MD5=[d846ce68bd5a2d637b70315932ea2bfa]\n",
       "@startuml\r\n",
       "skinparam ranksep 8\r\n",
       "skinparam linetype polyline\r\n",
       "skinparam monochrome true\r\n",
       "skinparam classbackgroundcolor white\r\n",
       "skinparam shadowing false\r\n",
       "skinparam wrapWidth 300\r\n",
       "hide circle\r\n",
       "\r\n",
       "rec usage \"a\" as E1  <<(T,blue)action>> [[psysml:ad4f18e6-c096-4c58-bb62-14a597e4442d ]] {\r\n",
       "choice \"m\" as E2  [[psysml:e85a3052-7a7b-4311-97f8-bb0216d1246f ]] \r\n",
       "accept \" S\" as E3 <<accept action>> [[psysml:ccfba6f1-4ce0-4ddd-afd5-b866d68d47d7 ]] \r\n",
       "send \" S() to  B()\" as E4 <<send action>> [[psysml:f31bbeb6-49c7-47f4-9bac-592fafbdce16 ]] \r\n",
       "choice \"noname\" as E5  [[psysml:7507dc2c-9b39-4c30-b0ef-dd6a627e8c4c ]] \r\n",
       "[*] ..> E2 [[psysml:03e50e83-6fc7-46a8-8453-213dc2aae23c ]] \r\n",
       "E5 ..> [*] [[psysml:c4a668a6-d0f8-468f-9890-a338c2ee16ef ]] \r\n",
       "}\r\n",
       "\r\n",
       "E2 ..> E3 [[psysml:f95480df-9a63-41d1-9e12-1ec6bb9c61dc ]] \r\n",
       "E3 ..> E4 [[psysml:73484f54-b4d2-4298-bed2-8c418bf31093 ]] \r\n",
       "E4 ..> E5 [[psysml:860bf181-ae5a-4d8b-9cc8-c19fc893dd3f ]] \r\n",
       "E5 ..> E2 [[psysml:227ffbe5-5fbb-4b69-bf2e-f462a1a2545e ]] : [true]\r\n",
       "rec def \"B\" as E6  <<(T,blue)action def>> [[psysml:4eec70ee-61f4-4cab-8137-f00a9e5c8983 ]] {\r\n",
       "}\r\n",
       "\r\n",
       "@enduml\r\n",
       "\n",
       "PlantUML version 1.2020.13(Sat Jun 13 12:26:38 UTC 2020)\n",
       "(EPL source distribution)\n",
       "Java Runtime: OpenJDK Runtime Environment\n",
       "JVM: OpenJDK 64-Bit Server VM\n",
       "Default Encoding: UTF-8\n",
       "Language: en\n",
       "Country: null\n",
       "--></g></svg>"
      ]
     },
     "execution_count": 13,
     "metadata": {},
     "output_type": "execute_result"
    }
   ],
   "source": [
    "%viz --style=\"POLYLINE\" --view=\"Action\" \"ActionTest\""
   ]
  },
  {
   "cell_type": "code",
   "execution_count": 14,
   "id": "0ac395d5",
   "metadata": {
    "execution": {
     "iopub.execute_input": "2021-05-27T06:08:00.578580Z",
     "iopub.status.busy": "2021-05-27T06:08:00.577727Z",
     "iopub.status.idle": "2021-05-27T06:08:00.650775Z",
     "shell.execute_reply": "2021-05-27T06:08:00.650463Z"
    }
   },
   "outputs": [
    {
     "data": {
      "image/svg+xml": [
       "<?xml version=\"1.0\" encoding=\"UTF-8\" standalone=\"no\"?><svg xmlns=\"http://www.w3.org/2000/svg\" xmlns:xlink=\"http://www.w3.org/1999/xlink\" contentScriptType=\"application/ecmascript\" contentStyleType=\"text/css\" height=\"187px\" preserveAspectRatio=\"none\" style=\"width:475px;height:187px;\" version=\"1.1\" viewBox=\"0 0 475 187\" width=\"475px\" zoomAndPan=\"magnify\"><defs/><g><!--MD5=[fbc87193dbaf4d95561dea2c320d4a47]\n",
       "cluster E1--><a href=\"psysml:fba87211-d6a8-40ff-8d47-80f3cbac0e83\" target=\"_top\" title=\"psysml:fba87211-d6a8-40ff-8d47-80f3cbac0e83\" xlink:actuate=\"onRequest\" xlink:href=\"psysml:fba87211-d6a8-40ff-8d47-80f3cbac0e83\" xlink:show=\"new\" xlink:title=\"psysml:fba87211-d6a8-40ff-8d47-80f3cbac0e83\" xlink:type=\"simple\"><polygon fill=\"#FFFFFF\" points=\"16,6,107,6,114,28.2969,453,28.2969,453,175,16,175,16,6\" style=\"stroke: #000000; stroke-width: 1.5;\"/><line style=\"stroke: #000000; stroke-width: 1.5;\" x1=\"16\" x2=\"114\" y1=\"28.2969\" y2=\"28.2969\"/><text fill=\"#000000\" font-family=\"sans-serif\" font-size=\"14\" font-weight=\"bold\" lengthAdjust=\"spacingAndGlyphs\" textLength=\"85\" x=\"20\" y=\"20.9951\">ActionTest</text></a><!--MD5=[b4997ac47864f28c2f74865a473b2911]\n",
       "class E2--><a href=\"psysml:9e8a127b-f23f-41bc-b046-de56fba8ce50\" target=\"_top\" title=\"psysml:9e8a127b-f23f-41bc-b046-de56fba8ce50\" xlink:actuate=\"onRequest\" xlink:href=\"psysml:9e8a127b-f23f-41bc-b046-de56fba8ce50\" xlink:show=\"new\" xlink:title=\"psysml:9e8a127b-f23f-41bc-b046-de56fba8ce50\" xlink:type=\"simple\"><rect fill=\"#FFFFFF\" height=\"45.9375\" id=\"E2\" style=\"stroke: #383838; stroke-width: 1.5;\" width=\"95\" x=\"341.5\" y=\"77\"/><text fill=\"#000000\" font-family=\"sans-serif\" font-size=\"12\" font-style=\"italic\" lengthAdjust=\"spacingAndGlyphs\" textLength=\"93\" x=\"342.5\" y=\"93.1387\">«attribute def»</text><text fill=\"#000000\" font-family=\"sans-serif\" font-size=\"12\" lengthAdjust=\"spacingAndGlyphs\" textLength=\"8\" x=\"385\" y=\"107.1074\">S</text><line style=\"stroke: #383838; stroke-width: 1.5;\" x1=\"342.5\" x2=\"435.5\" y1=\"114.9375\" y2=\"114.9375\"/></a><!--MD5=[09b614a08d8cba4a07c9adeb5e0fee81]\n",
       "class E3--><a href=\"psysml:ad4f18e6-c096-4c58-bb62-14a597e4442d\" target=\"_top\" title=\"psysml:ad4f18e6-c096-4c58-bb62-14a597e4442d\" xlink:actuate=\"onRequest\" xlink:href=\"psysml:ad4f18e6-c096-4c58-bb62-14a597e4442d\" xlink:show=\"new\" xlink:title=\"psysml:ad4f18e6-c096-4c58-bb62-14a597e4442d\" xlink:type=\"simple\"><rect fill=\"#FFFFFF\" height=\"117.9609\" id=\"E3\" rx=\"10\" ry=\"10\" style=\"stroke: #383838; stroke-width: 1.5;\" width=\"160\" x=\"146\" y=\"41\"/><text fill=\"#000000\" font-family=\"sans-serif\" font-size=\"12\" font-style=\"italic\" lengthAdjust=\"spacingAndGlyphs\" textLength=\"53\" x=\"199.5\" y=\"57.1387\">«action»</text><text fill=\"#000000\" font-family=\"sans-serif\" font-size=\"12\" lengthAdjust=\"spacingAndGlyphs\" textLength=\"8\" x=\"222\" y=\"71.1074\">a</text><line style=\"stroke: #383838; stroke-width: 1.5;\" x1=\"147\" x2=\"305\" y1=\"78.9375\" y2=\"78.9375\"/><text fill=\"#000000\" font-family=\"sans-serif\" font-size=\"11\" lengthAdjust=\"spacingAndGlyphs\" textLength=\"69\" x=\"152\" y=\"109.9526\">start: Action</text><text fill=\"#000000\" font-family=\"sans-serif\" font-size=\"11\" font-style=\"italic\" lengthAdjust=\"spacingAndGlyphs\" textLength=\"148\" x=\"152\" y=\"122.7573\">:&gt;&gt;Occurrence::startShot</text><line style=\"stroke: #383838; stroke-width: 1.0;\" x1=\"147\" x2=\"205.5\" y1=\"93.3398\" y2=\"93.3398\"/><text fill=\"#000000\" font-family=\"sans-serif\" font-size=\"11\" lengthAdjust=\"spacingAndGlyphs\" textLength=\"41\" x=\"205.5\" y=\"96.6479\">actions</text><line style=\"stroke: #383838; stroke-width: 1.0;\" x1=\"246.5\" x2=\"305\" y1=\"93.3398\" y2=\"93.3398\"/><text fill=\"#000000\" font-family=\"sans-serif\" font-size=\"11\" lengthAdjust=\"spacingAndGlyphs\" textLength=\"11\" x=\"152\" y=\"152.3667\">m</text><line style=\"stroke: #383838; stroke-width: 1.0;\" x1=\"147\" x2=\"189.5\" y1=\"135.7539\" y2=\"135.7539\"/><text fill=\"#000000\" font-family=\"sans-serif\" font-size=\"11\" lengthAdjust=\"spacingAndGlyphs\" textLength=\"73\" x=\"189.5\" y=\"139.062\">mergeNodes</text><line style=\"stroke: #383838; stroke-width: 1.0;\" x1=\"262.5\" x2=\"305\" y1=\"135.7539\" y2=\"135.7539\"/></a><!--MD5=[60a26617385b1d2d0262a64233df1f8d]\n",
       "class E6--><a href=\"psysml:4eec70ee-61f4-4cab-8137-f00a9e5c8983\" target=\"_top\" title=\"psysml:4eec70ee-61f4-4cab-8137-f00a9e5c8983\" xlink:actuate=\"onRequest\" xlink:href=\"psysml:4eec70ee-61f4-4cab-8137-f00a9e5c8983\" xlink:show=\"new\" xlink:title=\"psysml:4eec70ee-61f4-4cab-8137-f00a9e5c8983\" xlink:type=\"simple\"><rect fill=\"#FFFFFF\" height=\"45.9375\" id=\"E6\" style=\"stroke: #383838; stroke-width: 1.5;\" width=\"79\" x=\"31.5\" y=\"77\"/><text fill=\"#000000\" font-family=\"sans-serif\" font-size=\"12\" font-style=\"italic\" lengthAdjust=\"spacingAndGlyphs\" textLength=\"77\" x=\"32.5\" y=\"93.1387\">«action def»</text><text fill=\"#000000\" font-family=\"sans-serif\" font-size=\"12\" lengthAdjust=\"spacingAndGlyphs\" textLength=\"8\" x=\"67\" y=\"107.1074\">B</text><line style=\"stroke: #383838; stroke-width: 1.5;\" x1=\"32.5\" x2=\"109.5\" y1=\"114.9375\" y2=\"114.9375\"/></a><!--MD5=[2edf33524d39d745ac5e7c0d118ebdb9]\n",
       "@startuml\r\n",
       "skinparam linetype polyline\r\n",
       "skinparam monochrome true\r\n",
       "skinparam classbackgroundcolor white\r\n",
       "skinparam shadowing false\r\n",
       "skinparam wrapWidth 300\r\n",
       "hide circle\r\n",
       "\r\n",
       "package \"ActionTest\" as E1  [[psysml:fba87211-d6a8-40ff-8d47-80f3cbac0e83 ]]  {\r\n",
       "comp def \"S\" as E2  <<(T,blue)attribute def>> [[psysml:9e8a127b-f23f-41bc-b046-de56fba8ce50 ]] {\r\n",
       "}\r\n",
       "comp usage \"a\" as E3  <<(T,blue)action>> [[psysml:ad4f18e6-c096-4c58-bb62-14a597e4442d ]] {\r\n",
       "- - actions - -\r\n",
       "start: Action\\n//:>>Occurrence::startShot// \r\n",
       "- - mergeNodes - -\r\n",
       "m\r\n",
       "}\r\n",
       "comp def \"B\" as E6  <<(T,blue)action def>> [[psysml:4eec70ee-61f4-4cab-8137-f00a9e5c8983 ]] {\r\n",
       "}\r\n",
       "}\r\n",
       "@enduml\r\n",
       "\n",
       "PlantUML version 1.2020.13(Sat Jun 13 12:26:38 UTC 2020)\n",
       "(EPL source distribution)\n",
       "Java Runtime: OpenJDK Runtime Environment\n",
       "JVM: OpenJDK 64-Bit Server VM\n",
       "Default Encoding: UTF-8\n",
       "Language: en\n",
       "Country: null\n",
       "--></g></svg>"
      ]
     },
     "execution_count": 14,
     "metadata": {},
     "output_type": "execute_result"
    }
   ],
   "source": [
    "%viz --style=\"POLYLINE\" --view=\"Sequence\" \"ActionTest\""
   ]
  },
  {
   "cell_type": "code",
   "execution_count": 15,
   "id": "ab85326f",
   "metadata": {
    "execution": {
     "iopub.execute_input": "2021-05-27T06:08:00.701845Z",
     "iopub.status.busy": "2021-05-27T06:08:00.701477Z",
     "iopub.status.idle": "2021-05-27T06:08:00.752289Z",
     "shell.execute_reply": "2021-05-27T06:08:00.752554Z"
    }
   },
   "outputs": [
    {
     "data": {
      "image/svg+xml": [
       "<?xml version=\"1.0\" encoding=\"UTF-8\" standalone=\"no\"?><svg xmlns=\"http://www.w3.org/2000/svg\" xmlns:xlink=\"http://www.w3.org/1999/xlink\" contentScriptType=\"application/ecmascript\" contentStyleType=\"text/css\" height=\"684px\" preserveAspectRatio=\"none\" style=\"width:518px;height:684px;\" version=\"1.1\" viewBox=\"0 0 518 684\" width=\"518px\" zoomAndPan=\"magnify\"><defs/><g><!--MD5=[fbc87193dbaf4d95561dea2c320d4a47]\n",
       "cluster E1--><a href=\"psysml:fba87211-d6a8-40ff-8d47-80f3cbac0e83\" target=\"_top\" title=\"psysml:fba87211-d6a8-40ff-8d47-80f3cbac0e83\" xlink:actuate=\"onRequest\" xlink:href=\"psysml:fba87211-d6a8-40ff-8d47-80f3cbac0e83\" xlink:show=\"new\" xlink:title=\"psysml:fba87211-d6a8-40ff-8d47-80f3cbac0e83\" xlink:type=\"simple\"><polygon fill=\"#FFFFFF\" points=\"16,6,107,6,114,28.2969,496,28.2969,496,672,16,672,16,6\" style=\"stroke: #000000; stroke-width: 1.5;\"/><line style=\"stroke: #000000; stroke-width: 1.5;\" x1=\"16\" x2=\"114\" y1=\"28.2969\" y2=\"28.2969\"/><text fill=\"#000000\" font-family=\"sans-serif\" font-size=\"14\" font-weight=\"bold\" lengthAdjust=\"spacingAndGlyphs\" textLength=\"85\" x=\"20\" y=\"20.9951\">ActionTest</text></a><!--MD5=[d5e69f78d87373223dbae638b30a9c99]\n",
       "cluster E3--><a href=\"psysml:ad4f18e6-c096-4c58-bb62-14a597e4442d\" target=\"_top\" title=\"psysml:ad4f18e6-c096-4c58-bb62-14a597e4442d\" xlink:actuate=\"onRequest\" xlink:href=\"psysml:ad4f18e6-c096-4c58-bb62-14a597e4442d\" xlink:show=\"new\" xlink:title=\"psysml:ad4f18e6-c096-4c58-bb62-14a597e4442d\" xlink:type=\"simple\"><rect fill=\"#FFFFFF\" height=\"599\" id=\"E3\" rx=\"10\" ry=\"10\" style=\"stroke: #383838; stroke-width: 1.5;\" width=\"209\" x=\"263\" y=\"49\"/><rect fill=\"#F8F8F8\" height=\"37.9375\" rx=\"10\" ry=\"10\" style=\"stroke: #F8F8F8; stroke-width: 1.5;\" width=\"209\" x=\"263\" y=\"49\"/><rect fill=\"#F8F8F8\" height=\"10\" style=\"stroke: #F8F8F8; stroke-width: 1.5;\" width=\"209\" x=\"263\" y=\"76.9375\"/><rect fill=\"none\" height=\"599\" id=\"E3\" rx=\"10\" ry=\"10\" style=\"stroke: #383838; stroke-width: 1.5;\" width=\"209\" x=\"263\" y=\"49\"/><text fill=\"#000000\" font-family=\"sans-serif\" font-size=\"12\" font-style=\"italic\" lengthAdjust=\"spacingAndGlyphs\" textLength=\"53\" x=\"341\" y=\"65.1387\">«action»</text><text fill=\"#000000\" font-family=\"sans-serif\" font-size=\"12\" lengthAdjust=\"spacingAndGlyphs\" textLength=\"8\" x=\"363.5\" y=\"79.1074\">a</text><line style=\"stroke: #383838; stroke-width: 1.0;\" x1=\"263\" x2=\"472\" y1=\"86.9375\" y2=\"86.9375\"/></a><!--MD5=[b4997ac47864f28c2f74865a473b2911]\n",
       "class E2--><a href=\"psysml:9e8a127b-f23f-41bc-b046-de56fba8ce50\" target=\"_top\" title=\"psysml:9e8a127b-f23f-41bc-b046-de56fba8ce50\" xlink:actuate=\"onRequest\" xlink:href=\"psysml:9e8a127b-f23f-41bc-b046-de56fba8ce50\" xlink:show=\"new\" xlink:title=\"psysml:9e8a127b-f23f-41bc-b046-de56fba8ce50\" xlink:type=\"simple\"><rect fill=\"#FFFFFF\" height=\"45.9375\" id=\"E2\" style=\"stroke: #383838; stroke-width: 1.5;\" width=\"95\" x=\"151.5\" y=\"87\"/><text fill=\"#000000\" font-family=\"sans-serif\" font-size=\"12\" font-style=\"italic\" lengthAdjust=\"spacingAndGlyphs\" textLength=\"93\" x=\"152.5\" y=\"103.1387\">«attribute def»</text><text fill=\"#000000\" font-family=\"sans-serif\" font-size=\"12\" lengthAdjust=\"spacingAndGlyphs\" textLength=\"8\" x=\"195\" y=\"117.1074\">S</text><line style=\"stroke: #383838; stroke-width: 1.5;\" x1=\"152.5\" x2=\"245.5\" y1=\"124.9375\" y2=\"124.9375\"/></a><polygon fill=\"#F8F8F8\" points=\"420,194,432,206,420,218,408,206,420,194\" style=\"stroke: #383838; stroke-width: 1.5;\"/><!--MD5=[21dd76c19d33815960c0e92fef8f0eef]\n",
       "entity E5--><a href=\"psysml:ccfba6f1-4ce0-4ddd-afd5-b866d68d47d7\" target=\"_top\" title=\"psysml:ccfba6f1-4ce0-4ddd-afd5-b866d68d47d7\" xlink:actuate=\"onRequest\" xlink:href=\"psysml:ccfba6f1-4ce0-4ddd-afd5-b866d68d47d7\" xlink:show=\"new\" xlink:title=\"psysml:ccfba6f1-4ce0-4ddd-afd5-b866d68d47d7\" xlink:type=\"simple\"><polygon fill=\"#F8F8F8\" points=\"279,279,279,333.5938,419,333.5938,399,306.2969,419,279\" style=\"stroke: #000000; stroke-width: 1.5;\"/><text fill=\"#000000\" font-family=\"sans-serif\" font-size=\"14\" font-style=\"italic\" lengthAdjust=\"spacingAndGlyphs\" textLength=\"111\" x=\"286\" y=\"301.9951\">«accept action»</text><text fill=\"#000000\" font-family=\"sans-serif\" font-size=\"14\" lengthAdjust=\"spacingAndGlyphs\" textLength=\"9\" x=\"337\" y=\"319.292\">S</text></a><!--MD5=[24d87cdf3002d433f401b2a2aa9f9f65]\n",
       "entity E6--><a href=\"psysml:f31bbeb6-49c7-47f4-9bac-592fafbdce16\" target=\"_top\" title=\"psysml:f31bbeb6-49c7-47f4-9bac-592fafbdce16\" xlink:actuate=\"onRequest\" xlink:href=\"psysml:f31bbeb6-49c7-47f4-9bac-592fafbdce16\" xlink:show=\"new\" xlink:title=\"psysml:f31bbeb6-49c7-47f4-9bac-592fafbdce16\" xlink:type=\"simple\"><polygon fill=\"#F8F8F8\" points=\"279,411,279,465.5938,387,465.5938,407,438.2969,387,411\" style=\"stroke: #000000; stroke-width: 1.5;\"/><text fill=\"#000000\" font-family=\"sans-serif\" font-size=\"14\" font-style=\"italic\" lengthAdjust=\"spacingAndGlyphs\" textLength=\"99\" x=\"286\" y=\"433.9951\">«send action»</text><text fill=\"#000000\" font-family=\"sans-serif\" font-size=\"14\" lengthAdjust=\"spacingAndGlyphs\" textLength=\"65\" x=\"303\" y=\"451.292\">S() to  B()</text></a><polygon fill=\"#F8F8F8\" points=\"418,527,430,539,418,551,406,539,418,527\" style=\"stroke: #383838; stroke-width: 1.5;\"/><ellipse cx=\"420\" cy=\"110\" fill=\"#000000\" rx=\"10\" ry=\"10\" style=\"stroke: none; stroke-width: 1.0;\"/><ellipse cx=\"418\" cy=\"622\" fill=\"none\" rx=\"10\" ry=\"10\" style=\"stroke: #000000; stroke-width: 1.0;\"/><ellipse cx=\"418.5\" cy=\"622.5\" fill=\"#000000\" rx=\"6\" ry=\"6\" style=\"stroke: none; stroke-width: 1.0;\"/><g id=\"E1.E8\"><a href=\"psysml:4eec70ee-61f4-4cab-8137-f00a9e5c8983\" target=\"_top\" title=\"psysml:4eec70ee-61f4-4cab-8137-f00a9e5c8983\" xlink:actuate=\"onRequest\" xlink:href=\"psysml:4eec70ee-61f4-4cab-8137-f00a9e5c8983\" xlink:show=\"new\" xlink:title=\"psysml:4eec70ee-61f4-4cab-8137-f00a9e5c8983\" xlink:type=\"simple\"><rect fill=\"#FFFFFF\" height=\"42.9375\" id=\"E8\" style=\"stroke: #383838; stroke-width: 1.5;\" width=\"84\" x=\"32\" y=\"88.5\"/><rect fill=\"#F8F8F8\" height=\"37.9375\" style=\"stroke: #383838; stroke-width: 1.5;\" width=\"84\" x=\"32\" y=\"88.5\"/><text fill=\"#000000\" font-family=\"sans-serif\" font-size=\"12\" font-style=\"italic\" lengthAdjust=\"spacingAndGlyphs\" textLength=\"77\" x=\"35.5\" y=\"104.6387\">«action def»</text><text fill=\"#000000\" font-family=\"sans-serif\" font-size=\"12\" lengthAdjust=\"spacingAndGlyphs\" textLength=\"8\" x=\"70\" y=\"118.6074\">B</text></a></g><!--MD5=[f47e10efcf9a6752d55dae986d790ed9]\n",
       "link *start*E3 to E4--><a href=\"psysml:03e50e83-6fc7-46a8-8453-213dc2aae23c\" target=\"_top\" title=\"psysml:03e50e83-6fc7-46a8-8453-213dc2aae23c\" xlink:actuate=\"onRequest\" xlink:href=\"psysml:03e50e83-6fc7-46a8-8453-213dc2aae23c\" xlink:show=\"new\" xlink:title=\"psysml:03e50e83-6fc7-46a8-8453-213dc2aae23c\" xlink:type=\"simple\"><path d=\"M420,120.01 C420,135.81 420,168.69 420,188.61 \" fill=\"none\" id=\"*start*E3-&gt;E4\" style=\"stroke: #383838; stroke-width: 1.0;\"/><polygon fill=\"#383838\" points=\"420,193.85,424,184.85,420,188.85,416,184.85,420,193.85\" style=\"stroke: #383838; stroke-width: 1.0;\"/></a><!--MD5=[d19f2eb34364d71b67042106d92f540b]\n",
       "link E7 to *end*E3--><a href=\"psysml:c4a668a6-d0f8-468f-9890-a338c2ee16ef\" target=\"_top\" title=\"psysml:c4a668a6-d0f8-468f-9890-a338c2ee16ef\" xlink:actuate=\"onRequest\" xlink:href=\"psysml:c4a668a6-d0f8-468f-9890-a338c2ee16ef\" xlink:show=\"new\" xlink:title=\"psysml:c4a668a6-d0f8-468f-9890-a338c2ee16ef\" xlink:type=\"simple\"><path d=\"M418,551.26 C418,565.66 418,590.63 418,606.46 \" fill=\"none\" id=\"E7-&gt;*end*E3\" style=\"stroke: #383838; stroke-width: 1.0;\"/><polygon fill=\"#383838\" points=\"418,611.84,422,602.84,418,606.84,414,602.84,418,611.84\" style=\"stroke: #383838; stroke-width: 1.0;\"/></a><!--MD5=[1b7591eae5389033d8d09a9d6721a717]\n",
       "link E4 to E5--><a href=\"psysml:f95480df-9a63-41d1-9e12-1ec6bb9c61dc\" target=\"_top\" title=\"psysml:f95480df-9a63-41d1-9e12-1ec6bb9c61dc\" xlink:actuate=\"onRequest\" xlink:href=\"psysml:f95480df-9a63-41d1-9e12-1ec6bb9c61dc\" xlink:show=\"new\" xlink:title=\"psysml:f95480df-9a63-41d1-9e12-1ec6bb9c61dc\" xlink:type=\"simple\"><path d=\"M415.34,213.46 C406.55,225.66 386.99,252.8 371.37,274.46 \" fill=\"none\" id=\"E4-&gt;E5\" style=\"stroke: #383838; stroke-width: 1.0;\"/><polygon fill=\"#383838\" points=\"368.31,278.71,376.8093,273.7339,371.227,274.6491,370.3119,269.0667,368.31,278.71\" style=\"stroke: #383838; stroke-width: 1.0;\"/></a><!--MD5=[9120cf2e5df3bff93db8f754bbbc09b4]\n",
       "link E5 to E6--><a href=\"psysml:73484f54-b4d2-4298-bed2-8c418bf31093\" target=\"_top\" title=\"psysml:73484f54-b4d2-4298-bed2-8c418bf31093\" xlink:actuate=\"onRequest\" xlink:href=\"psysml:73484f54-b4d2-4298-bed2-8c418bf31093\" xlink:show=\"new\" xlink:title=\"psysml:73484f54-b4d2-4298-bed2-8c418bf31093\" xlink:type=\"simple\"><path d=\"M347.77,334.12 C346.81,354.89 345.48,383.8 344.46,405.77 \" fill=\"none\" id=\"E5-&gt;E6\" style=\"stroke: #383838; stroke-width: 1.0;\"/><polygon fill=\"#383838\" points=\"344.23,410.91,348.6368,402.1021,344.4583,405.9152,340.6452,401.7367,344.23,410.91\" style=\"stroke: #383838; stroke-width: 1.0;\"/></a><!--MD5=[02c70b7c851c11e3980e4e90450dc5dd]\n",
       "link E6 to E7--><a href=\"psysml:860bf181-ae5a-4d8b-9cc8-c19fc893dd3f\" target=\"_top\" title=\"psysml:860bf181-ae5a-4d8b-9cc8-c19fc893dd3f\" xlink:actuate=\"onRequest\" xlink:href=\"psysml:860bf181-ae5a-4d8b-9cc8-c19fc893dd3f\" xlink:show=\"new\" xlink:title=\"psysml:860bf181-ae5a-4d8b-9cc8-c19fc893dd3f\" xlink:type=\"simple\"><path d=\"M363.3,466.16 C378.71,486.4 399.07,513.14 410.09,527.61 \" fill=\"none\" id=\"E6-&gt;E7\" style=\"stroke: #383838; stroke-width: 1.0;\"/><polygon fill=\"#383838\" points=\"413.2,531.69,410.9398,522.104,410.1749,527.7089,404.57,526.9441,413.2,531.69\" style=\"stroke: #383838; stroke-width: 1.0;\"/></a><!--MD5=[6bdd27f9905911a7e892a3dc65cf6b7c]\n",
       "link E7 to E4--><a href=\"psysml:227ffbe5-5fbb-4b69-bf2e-f462a1a2545e\" target=\"_top\" title=\"psysml:227ffbe5-5fbb-4b69-bf2e-f462a1a2545e\" xlink:actuate=\"onRequest\" xlink:href=\"psysml:227ffbe5-5fbb-4b69-bf2e-f462a1a2545e\" xlink:show=\"new\" xlink:title=\"psysml:227ffbe5-5fbb-4b69-bf2e-f462a1a2545e\" xlink:type=\"simple\"><path d=\"M419,527.68 C420.94,507.78 425,466 425,466 C425,466 437,334 437,334 C437,334 437,279 437,279 C437,279 428.27,242.03 423.32,221.07 \" fill=\"none\" id=\"E7-&gt;E4\" style=\"stroke: #383838; stroke-width: 1.0;\"/><polygon fill=\"#383838\" points=\"422.15,216.12,420.3382,225.8008,423.3055,220.9846,428.1217,223.9519,422.15,216.12\" style=\"stroke: #383838; stroke-width: 1.0;\"/><text fill=\"#000000\" font-family=\"sans-serif\" font-size=\"13\" lengthAdjust=\"spacingAndGlyphs\" textLength=\"36\" x=\"435\" y=\"377.0669\">[true]</text></a><!--MD5=[dcc5e9b63833558979e9cd237058722a]\n",
       "@startuml\r\n",
       "skinparam linetype polyline\r\n",
       "skinparam monochrome true\r\n",
       "skinparam classbackgroundcolor white\r\n",
       "skinparam shadowing false\r\n",
       "skinparam wrapWidth 300\r\n",
       "hide circle\r\n",
       "\r\n",
       "package \"ActionTest\" as E1  [[psysml:fba87211-d6a8-40ff-8d47-80f3cbac0e83 ]]  {\r\n",
       "comp def \"S\" as E2  <<(T,blue)attribute def>> [[psysml:9e8a127b-f23f-41bc-b046-de56fba8ce50 ]] {\r\n",
       "}\r\n",
       "rec usage \"a\" as E3  <<(T,blue)action>> [[psysml:ad4f18e6-c096-4c58-bb62-14a597e4442d ]] {\r\n",
       "choice \"m\" as E4  [[psysml:e85a3052-7a7b-4311-97f8-bb0216d1246f ]] \r\n",
       "accept \" S\" as E5 <<accept action>> [[psysml:ccfba6f1-4ce0-4ddd-afd5-b866d68d47d7 ]] \r\n",
       "send \" S() to  B()\" as E6 <<send action>> [[psysml:f31bbeb6-49c7-47f4-9bac-592fafbdce16 ]] \r\n",
       "choice \"noname\" as E7  [[psysml:7507dc2c-9b39-4c30-b0ef-dd6a627e8c4c ]] \r\n",
       "[*] - -> E4 [[psysml:03e50e83-6fc7-46a8-8453-213dc2aae23c ]] \r\n",
       "E7  - -> [*] [[psysml:c4a668a6-d0f8-468f-9890-a338c2ee16ef ]] \r\n",
       "}\r\n",
       "\r\n",
       "rec def \"B\" as E8  <<(T,blue)action def>> [[psysml:4eec70ee-61f4-4cab-8137-f00a9e5c8983 ]] {\r\n",
       "}\r\n",
       "\r\n",
       "E4 - -> E5 [[psysml:f95480df-9a63-41d1-9e12-1ec6bb9c61dc ]] \r\n",
       "E5 - -> E6 [[psysml:73484f54-b4d2-4298-bed2-8c418bf31093 ]] \r\n",
       "E6 - -> E7 [[psysml:860bf181-ae5a-4d8b-9cc8-c19fc893dd3f ]] \r\n",
       "E7  - -> E4 [[psysml:227ffbe5-5fbb-4b69-bf2e-f462a1a2545e ]] : [true]\r\n",
       "}\r\n",
       "@enduml\r\n",
       "\n",
       "PlantUML version 1.2020.13(Sat Jun 13 12:26:38 UTC 2020)\n",
       "(EPL source distribution)\n",
       "Java Runtime: OpenJDK Runtime Environment\n",
       "JVM: OpenJDK 64-Bit Server VM\n",
       "Default Encoding: UTF-8\n",
       "Language: en\n",
       "Country: null\n",
       "--></g></svg>"
      ]
     },
     "execution_count": 15,
     "metadata": {},
     "output_type": "execute_result"
    }
   ],
   "source": [
    "%viz --style=\"POLYLINE\" --view=\"MIXED\" \"ActionTest\""
   ]
  },
  {
   "cell_type": "code",
   "execution_count": 16,
   "id": "ccff3c60",
   "metadata": {
    "execution": {
     "iopub.execute_input": "2021-05-27T06:08:00.806724Z",
     "iopub.status.busy": "2021-05-27T06:08:00.805935Z",
     "iopub.status.idle": "2021-05-27T06:08:00.850805Z",
     "shell.execute_reply": "2021-05-27T06:08:00.849606Z"
    }
   },
   "outputs": [
    {
     "data": {
      "image/svg+xml": [
       "<?xml version=\"1.0\" encoding=\"UTF-8\" standalone=\"no\"?><svg xmlns=\"http://www.w3.org/2000/svg\" xmlns:xlink=\"http://www.w3.org/1999/xlink\" contentScriptType=\"application/ecmascript\" contentStyleType=\"text/css\" height=\"378px\" preserveAspectRatio=\"none\" style=\"width:867px;height:378px;\" version=\"1.1\" viewBox=\"0 0 867 378\" width=\"867px\" zoomAndPan=\"magnify\"><defs/><g><!--MD5=[fbc87193dbaf4d95561dea2c320d4a47]\n",
       "cluster E1--><a href=\"psysml:fba87211-d6a8-40ff-8d47-80f3cbac0e83\" target=\"_top\" title=\"psysml:fba87211-d6a8-40ff-8d47-80f3cbac0e83\" xlink:actuate=\"onRequest\" xlink:href=\"psysml:fba87211-d6a8-40ff-8d47-80f3cbac0e83\" xlink:show=\"new\" xlink:title=\"psysml:fba87211-d6a8-40ff-8d47-80f3cbac0e83\" xlink:type=\"simple\"><polygon fill=\"#FFFFFF\" points=\"16,6,107,6,114,28.2969,845,28.2969,845,366,16,366,16,6\" style=\"stroke: #000000; stroke-width: 1.5;\"/><line style=\"stroke: #000000; stroke-width: 1.5;\" x1=\"16\" x2=\"114\" y1=\"28.2969\" y2=\"28.2969\"/><text fill=\"#000000\" font-family=\"sans-serif\" font-size=\"14\" font-weight=\"bold\" lengthAdjust=\"spacingAndGlyphs\" textLength=\"85\" x=\"20\" y=\"20.9951\">ActionTest</text></a><!--MD5=[d5e69f78d87373223dbae638b30a9c99]\n",
       "cluster E3--><a href=\"psysml:ad4f18e6-c096-4c58-bb62-14a597e4442d\" target=\"_top\" title=\"psysml:ad4f18e6-c096-4c58-bb62-14a597e4442d\" xlink:actuate=\"onRequest\" xlink:href=\"psysml:ad4f18e6-c096-4c58-bb62-14a597e4442d\" xlink:show=\"new\" xlink:title=\"psysml:ad4f18e6-c096-4c58-bb62-14a597e4442d\" xlink:type=\"simple\"><rect fill=\"#FFFFFF\" height=\"160\" id=\"E3\" rx=\"10\" ry=\"10\" style=\"stroke: #383838; stroke-width: 1.5;\" width=\"767.5\" x=\"53.5\" y=\"49\"/><rect fill=\"#F8F8F8\" height=\"37.9375\" rx=\"10\" ry=\"10\" style=\"stroke: #F8F8F8; stroke-width: 1.5;\" width=\"767.5\" x=\"53.5\" y=\"49\"/><rect fill=\"#F8F8F8\" height=\"10\" style=\"stroke: #F8F8F8; stroke-width: 1.5;\" width=\"767.5\" x=\"53.5\" y=\"76.9375\"/><rect fill=\"none\" height=\"160\" id=\"E3\" rx=\"10\" ry=\"10\" style=\"stroke: #383838; stroke-width: 1.5;\" width=\"767.5\" x=\"53.5\" y=\"49\"/><text fill=\"#000000\" font-family=\"sans-serif\" font-size=\"12\" font-style=\"italic\" lengthAdjust=\"spacingAndGlyphs\" textLength=\"53\" x=\"410.75\" y=\"65.1387\">«action»</text><text fill=\"#000000\" font-family=\"sans-serif\" font-size=\"12\" lengthAdjust=\"spacingAndGlyphs\" textLength=\"8\" x=\"433.25\" y=\"79.1074\">a</text><line style=\"stroke: #383838; stroke-width: 1.0;\" x1=\"53.5\" x2=\"821\" y1=\"86.9375\" y2=\"86.9375\"/></a><!--MD5=[b4997ac47864f28c2f74865a473b2911]\n",
       "class E2--><a href=\"psysml:9e8a127b-f23f-41bc-b046-de56fba8ce50\" target=\"_top\" title=\"psysml:9e8a127b-f23f-41bc-b046-de56fba8ce50\" xlink:actuate=\"onRequest\" xlink:href=\"psysml:9e8a127b-f23f-41bc-b046-de56fba8ce50\" xlink:show=\"new\" xlink:title=\"psysml:9e8a127b-f23f-41bc-b046-de56fba8ce50\" xlink:type=\"simple\"><rect fill=\"#FFFFFF\" height=\"45.9375\" id=\"E2\" style=\"stroke: #383838; stroke-width: 1.5;\" width=\"95\" x=\"32\" y=\"225\"/><text fill=\"#000000\" font-family=\"sans-serif\" font-size=\"12\" font-style=\"italic\" lengthAdjust=\"spacingAndGlyphs\" textLength=\"93\" x=\"33\" y=\"241.1387\">«attribute def»</text><text fill=\"#000000\" font-family=\"sans-serif\" font-size=\"12\" lengthAdjust=\"spacingAndGlyphs\" textLength=\"8\" x=\"75.5\" y=\"255.1074\">S</text><line style=\"stroke: #383838; stroke-width: 1.5;\" x1=\"33\" x2=\"126\" y1=\"262.9375\" y2=\"262.9375\"/></a><polygon fill=\"#F8F8F8\" points=\"200,114,212,126,200,138,188,126,200,114\" style=\"stroke: #383838; stroke-width: 1.5;\"/><!--MD5=[21dd76c19d33815960c0e92fef8f0eef]\n",
       "entity E5--><a href=\"psysml:ccfba6f1-4ce0-4ddd-afd5-b866d68d47d7\" target=\"_top\" title=\"psysml:ccfba6f1-4ce0-4ddd-afd5-b866d68d47d7\" xlink:actuate=\"onRequest\" xlink:href=\"psysml:ccfba6f1-4ce0-4ddd-afd5-b866d68d47d7\" xlink:show=\"new\" xlink:title=\"psysml:ccfba6f1-4ce0-4ddd-afd5-b866d68d47d7\" xlink:type=\"simple\"><polygon fill=\"#F8F8F8\" points=\"273,137.5,273,192.0938,413,192.0938,393,164.7969,413,137.5\" style=\"stroke: #000000; stroke-width: 1.5;\"/><text fill=\"#000000\" font-family=\"sans-serif\" font-size=\"14\" font-style=\"italic\" lengthAdjust=\"spacingAndGlyphs\" textLength=\"111\" x=\"280\" y=\"160.4951\">«accept action»</text><text fill=\"#000000\" font-family=\"sans-serif\" font-size=\"14\" lengthAdjust=\"spacingAndGlyphs\" textLength=\"9\" x=\"331\" y=\"177.792\">S</text></a><!--MD5=[24d87cdf3002d433f401b2a2aa9f9f65]\n",
       "entity E6--><a href=\"psysml:f31bbeb6-49c7-47f4-9bac-592fafbdce16\" target=\"_top\" title=\"psysml:f31bbeb6-49c7-47f4-9bac-592fafbdce16\" xlink:actuate=\"onRequest\" xlink:href=\"psysml:f31bbeb6-49c7-47f4-9bac-592fafbdce16\" xlink:show=\"new\" xlink:title=\"psysml:f31bbeb6-49c7-47f4-9bac-592fafbdce16\" xlink:type=\"simple\"><polygon fill=\"#F8F8F8\" points=\"511,137.5,511,192.0938,619,192.0938,639,164.7969,619,137.5\" style=\"stroke: #000000; stroke-width: 1.5;\"/><text fill=\"#000000\" font-family=\"sans-serif\" font-size=\"14\" font-style=\"italic\" lengthAdjust=\"spacingAndGlyphs\" textLength=\"99\" x=\"518\" y=\"160.4951\">«send action»</text><text fill=\"#000000\" font-family=\"sans-serif\" font-size=\"14\" lengthAdjust=\"spacingAndGlyphs\" textLength=\"65\" x=\"535\" y=\"177.792\">S() to  B()</text></a><polygon fill=\"#F8F8F8\" points=\"712,114,724,126,712,138,700,126,712,114\" style=\"stroke: #383838; stroke-width: 1.5;\"/><ellipse cx=\"79.5\" cy=\"126\" fill=\"#000000\" rx=\"10\" ry=\"10\" style=\"stroke: none; stroke-width: 1.0;\"/><ellipse cx=\"795\" cy=\"126\" fill=\"none\" rx=\"10\" ry=\"10\" style=\"stroke: #000000; stroke-width: 1.0;\"/><ellipse cx=\"795.5\" cy=\"126.5\" fill=\"#000000\" rx=\"6\" ry=\"6\" style=\"stroke: none; stroke-width: 1.0;\"/><g id=\"E1.E8\"><a href=\"psysml:4eec70ee-61f4-4cab-8137-f00a9e5c8983\" target=\"_top\" title=\"psysml:4eec70ee-61f4-4cab-8137-f00a9e5c8983\" xlink:actuate=\"onRequest\" xlink:href=\"psysml:4eec70ee-61f4-4cab-8137-f00a9e5c8983\" xlink:show=\"new\" xlink:title=\"psysml:4eec70ee-61f4-4cab-8137-f00a9e5c8983\" xlink:type=\"simple\"><rect fill=\"#FFFFFF\" height=\"42.9375\" id=\"E8\" style=\"stroke: #383838; stroke-width: 1.5;\" width=\"84\" x=\"37.5\" y=\"306.5\"/><rect fill=\"#F8F8F8\" height=\"37.9375\" style=\"stroke: #383838; stroke-width: 1.5;\" width=\"84\" x=\"37.5\" y=\"306.5\"/><text fill=\"#000000\" font-family=\"sans-serif\" font-size=\"12\" font-style=\"italic\" lengthAdjust=\"spacingAndGlyphs\" textLength=\"77\" x=\"41\" y=\"322.6387\">«action def»</text><text fill=\"#000000\" font-family=\"sans-serif\" font-size=\"12\" lengthAdjust=\"spacingAndGlyphs\" textLength=\"8\" x=\"75.5\" y=\"336.6074\">B</text></a></g><!--MD5=[f47e10efcf9a6752d55dae986d790ed9]\n",
       "link *start*E3 to E4--><a href=\"psysml:03e50e83-6fc7-46a8-8453-213dc2aae23c\" target=\"_top\" title=\"psysml:03e50e83-6fc7-46a8-8453-213dc2aae23c\" xlink:actuate=\"onRequest\" xlink:href=\"psysml:03e50e83-6fc7-46a8-8453-213dc2aae23c\" xlink:show=\"new\" xlink:title=\"psysml:03e50e83-6fc7-46a8-8453-213dc2aae23c\" xlink:type=\"simple\"><path d=\"M89.8,126 C109.87,126 157.46,126 182.68,126 \" fill=\"none\" id=\"*start*E3-&gt;E4\" style=\"stroke: #383838; stroke-width: 1.0;\"/><polygon fill=\"#383838\" points=\"187.7,126,178.7,122,182.7,126,178.7,130,187.7,126\" style=\"stroke: #383838; stroke-width: 1.0;\"/></a><!--MD5=[d19f2eb34364d71b67042106d92f540b]\n",
       "link E7 to *end*E3--><a href=\"psysml:c4a668a6-d0f8-468f-9890-a338c2ee16ef\" target=\"_top\" title=\"psysml:c4a668a6-d0f8-468f-9890-a338c2ee16ef\" xlink:actuate=\"onRequest\" xlink:href=\"psysml:c4a668a6-d0f8-468f-9890-a338c2ee16ef\" xlink:show=\"new\" xlink:title=\"psysml:c4a668a6-d0f8-468f-9890-a338c2ee16ef\" xlink:type=\"simple\"><path d=\"M724.26,126 C738.66,126 763.63,126 779.46,126 \" fill=\"none\" id=\"E7-&gt;*end*E3\" style=\"stroke: #383838; stroke-width: 1.0;\"/><polygon fill=\"#383838\" points=\"784.84,126,775.84,122,779.84,126,775.84,130,784.84,126\" style=\"stroke: #383838; stroke-width: 1.0;\"/></a><!--MD5=[1b7591eae5389033d8d09a9d6721a717]\n",
       "link E4 to E5--><a href=\"psysml:f95480df-9a63-41d1-9e12-1ec6bb9c61dc\" target=\"_top\" title=\"psysml:f95480df-9a63-41d1-9e12-1ec6bb9c61dc\" xlink:actuate=\"onRequest\" xlink:href=\"psysml:f95480df-9a63-41d1-9e12-1ec6bb9c61dc\" xlink:show=\"new\" xlink:title=\"psysml:f95480df-9a63-41d1-9e12-1ec6bb9c61dc\" xlink:type=\"simple\"><path d=\"M209.82,128.44 C221.87,131.77 244.64,138.07 267.93,144.51 \" fill=\"none\" id=\"E4-&gt;E5\" style=\"stroke: #383838; stroke-width: 1.0;\"/><polygon fill=\"#383838\" points=\"272.9,145.89,265.2884,139.6399,268.0802,144.5599,263.1602,147.3517,272.9,145.89\" style=\"stroke: #383838; stroke-width: 1.0;\"/></a><!--MD5=[9120cf2e5df3bff93db8f754bbbc09b4]\n",
       "link E5 to E6--><a href=\"psysml:73484f54-b4d2-4298-bed2-8c418bf31093\" target=\"_top\" title=\"psysml:73484f54-b4d2-4298-bed2-8c418bf31093\" xlink:actuate=\"onRequest\" xlink:href=\"psysml:73484f54-b4d2-4298-bed2-8c418bf31093\" xlink:show=\"new\" xlink:title=\"psysml:73484f54-b4d2-4298-bed2-8c418bf31093\" xlink:type=\"simple\"><path d=\"M413.01,165 C442.4,165 476.6,165 505.89,165 \" fill=\"none\" id=\"E5-&gt;E6\" style=\"stroke: #383838; stroke-width: 1.0;\"/><polygon fill=\"#383838\" points=\"510.93,165,501.93,161,505.93,165,501.93,169,510.93,165\" style=\"stroke: #383838; stroke-width: 1.0;\"/></a><!--MD5=[02c70b7c851c11e3980e4e90450dc5dd]\n",
       "link E6 to E7--><a href=\"psysml:860bf181-ae5a-4d8b-9cc8-c19fc893dd3f\" target=\"_top\" title=\"psysml:860bf181-ae5a-4d8b-9cc8-c19fc893dd3f\" xlink:actuate=\"onRequest\" xlink:href=\"psysml:860bf181-ae5a-4d8b-9cc8-c19fc893dd3f\" xlink:show=\"new\" xlink:title=\"psysml:860bf181-ae5a-4d8b-9cc8-c19fc893dd3f\" xlink:type=\"simple\"><path d=\"M639.15,146.76 C660.96,140.46 683.38,133.98 697.25,129.97 \" fill=\"none\" id=\"E6-&gt;E7\" style=\"stroke: #383838; stroke-width: 1.0;\"/><polygon fill=\"#383838\" points=\"702.29,128.51,692.5337,127.1632,697.4862,129.8968,694.7526,134.8493,702.29,128.51\" style=\"stroke: #383838; stroke-width: 1.0;\"/></a><!--MD5=[6bdd27f9905911a7e892a3dc65cf6b7c]\n",
       "link E7 to E4--><a href=\"psysml:227ffbe5-5fbb-4b69-bf2e-f462a1a2545e\" target=\"_top\" title=\"psysml:227ffbe5-5fbb-4b69-bf2e-f462a1a2545e\" xlink:actuate=\"onRequest\" xlink:href=\"psysml:227ffbe5-5fbb-4b69-bf2e-f462a1a2545e\" xlink:show=\"new\" xlink:title=\"psysml:227ffbe5-5fbb-4b69-bf2e-f462a1a2545e\" xlink:type=\"simple\"><path d=\"M700.76,124.88 C686.82,123.41 661.06,120.92 639,120 C476.47,113.24 435.53,113.24 273,120 C253.36,120.82 230.77,122.88 216.22,124.36 \" fill=\"none\" id=\"E7-&gt;E4\" style=\"stroke: #383838; stroke-width: 1.0;\"/><polygon fill=\"#383838\" points=\"211.24,124.88,220.6038,127.9327,216.2135,124.3655,219.7806,119.9751,211.24,124.88\" style=\"stroke: #383838; stroke-width: 1.0;\"/><text fill=\"#000000\" font-family=\"sans-serif\" font-size=\"13\" lengthAdjust=\"spacingAndGlyphs\" textLength=\"36\" x=\"444\" y=\"111.0669\">[true]</text></a><!--MD5=[6e9d39283b737f10652d41d0b5b0b86b]\n",
       "@startuml\r\n",
       "left to right direction\r\n",
       "skinparam monochrome true\r\n",
       "skinparam classbackgroundcolor white\r\n",
       "skinparam shadowing false\r\n",
       "skinparam wrapWidth 300\r\n",
       "hide circle\r\n",
       "\r\n",
       "package \"ActionTest\" as E1  [[psysml:fba87211-d6a8-40ff-8d47-80f3cbac0e83 ]]  {\r\n",
       "comp def \"S\" as E2  <<(T,blue)attribute def>> [[psysml:9e8a127b-f23f-41bc-b046-de56fba8ce50 ]] {\r\n",
       "}\r\n",
       "rec usage \"a\" as E3  <<(T,blue)action>> [[psysml:ad4f18e6-c096-4c58-bb62-14a597e4442d ]] {\r\n",
       "choice \"m\" as E4  [[psysml:e85a3052-7a7b-4311-97f8-bb0216d1246f ]] \r\n",
       "accept \" S\" as E5 <<accept action>> [[psysml:ccfba6f1-4ce0-4ddd-afd5-b866d68d47d7 ]] \r\n",
       "send \" S() to  B()\" as E6 <<send action>> [[psysml:f31bbeb6-49c7-47f4-9bac-592fafbdce16 ]] \r\n",
       "choice \"noname\" as E7  [[psysml:7507dc2c-9b39-4c30-b0ef-dd6a627e8c4c ]] \r\n",
       "[*] - -> E4 [[psysml:03e50e83-6fc7-46a8-8453-213dc2aae23c ]] \r\n",
       "E7  - -> [*] [[psysml:c4a668a6-d0f8-468f-9890-a338c2ee16ef ]] \r\n",
       "}\r\n",
       "\r\n",
       "rec def \"B\" as E8  <<(T,blue)action def>> [[psysml:4eec70ee-61f4-4cab-8137-f00a9e5c8983 ]] {\r\n",
       "}\r\n",
       "\r\n",
       "E4 - -> E5 [[psysml:f95480df-9a63-41d1-9e12-1ec6bb9c61dc ]] \r\n",
       "E5 - -> E6 [[psysml:73484f54-b4d2-4298-bed2-8c418bf31093 ]] \r\n",
       "E6 - -> E7 [[psysml:860bf181-ae5a-4d8b-9cc8-c19fc893dd3f ]] \r\n",
       "E7  - -> E4 [[psysml:227ffbe5-5fbb-4b69-bf2e-f462a1a2545e ]] : [true]\r\n",
       "}\r\n",
       "@enduml\r\n",
       "\n",
       "PlantUML version 1.2020.13(Sat Jun 13 12:26:38 UTC 2020)\n",
       "(EPL source distribution)\n",
       "Java Runtime: OpenJDK Runtime Environment\n",
       "JVM: OpenJDK 64-Bit Server VM\n",
       "Default Encoding: UTF-8\n",
       "Language: en\n",
       "Country: null\n",
       "--></g></svg>"
      ]
     },
     "execution_count": 16,
     "metadata": {},
     "output_type": "execute_result"
    }
   ],
   "source": [
    "%viz --style=\"LR\" --view=\"Default\" \"ActionTest\""
   ]
  },
  {
   "cell_type": "code",
   "execution_count": 17,
   "id": "17dbee6d",
   "metadata": {
    "execution": {
     "iopub.execute_input": "2021-05-27T06:08:00.903469Z",
     "iopub.status.busy": "2021-05-27T06:08:00.902943Z",
     "iopub.status.idle": "2021-05-27T06:08:00.970571Z",
     "shell.execute_reply": "2021-05-27T06:08:00.969464Z"
    }
   },
   "outputs": [
    {
     "data": {
      "image/svg+xml": [
       "<?xml version=\"1.0\" encoding=\"UTF-8\" standalone=\"no\"?><svg xmlns=\"http://www.w3.org/2000/svg\" xmlns:xlink=\"http://www.w3.org/1999/xlink\" contentScriptType=\"application/ecmascript\" contentStyleType=\"text/css\" height=\"349px\" preserveAspectRatio=\"none\" style=\"width:230px;height:349px;\" version=\"1.1\" viewBox=\"0 0 230 349\" width=\"230px\" zoomAndPan=\"magnify\"><defs/><g><!--MD5=[fbc87193dbaf4d95561dea2c320d4a47]\n",
       "cluster E1--><a href=\"psysml:fba87211-d6a8-40ff-8d47-80f3cbac0e83\" target=\"_top\" title=\"psysml:fba87211-d6a8-40ff-8d47-80f3cbac0e83\" xlink:actuate=\"onRequest\" xlink:href=\"psysml:fba87211-d6a8-40ff-8d47-80f3cbac0e83\" xlink:show=\"new\" xlink:title=\"psysml:fba87211-d6a8-40ff-8d47-80f3cbac0e83\" xlink:type=\"simple\"><polygon fill=\"#FFFFFF\" points=\"16,6,107,6,114,28.2969,208,28.2969,208,337,16,337,16,6\" style=\"stroke: #000000; stroke-width: 1.5;\"/><line style=\"stroke: #000000; stroke-width: 1.5;\" x1=\"16\" x2=\"114\" y1=\"28.2969\" y2=\"28.2969\"/><text fill=\"#000000\" font-family=\"sans-serif\" font-size=\"14\" font-weight=\"bold\" lengthAdjust=\"spacingAndGlyphs\" textLength=\"85\" x=\"20\" y=\"20.9951\">ActionTest</text></a><!--MD5=[b4997ac47864f28c2f74865a473b2911]\n",
       "class E2--><a href=\"psysml:9e8a127b-f23f-41bc-b046-de56fba8ce50\" target=\"_top\" title=\"psysml:9e8a127b-f23f-41bc-b046-de56fba8ce50\" xlink:actuate=\"onRequest\" xlink:href=\"psysml:9e8a127b-f23f-41bc-b046-de56fba8ce50\" xlink:show=\"new\" xlink:title=\"psysml:9e8a127b-f23f-41bc-b046-de56fba8ce50\" xlink:type=\"simple\"><rect fill=\"#FFFFFF\" height=\"45.9375\" id=\"E2\" style=\"stroke: #383838; stroke-width: 1.5;\" width=\"95\" x=\"64.5\" y=\"41\"/><text fill=\"#000000\" font-family=\"sans-serif\" font-size=\"12\" font-style=\"italic\" lengthAdjust=\"spacingAndGlyphs\" textLength=\"93\" x=\"65.5\" y=\"57.1387\">«attribute def»</text><text fill=\"#000000\" font-family=\"sans-serif\" font-size=\"12\" lengthAdjust=\"spacingAndGlyphs\" textLength=\"8\" x=\"108\" y=\"71.1074\">S</text><line style=\"stroke: #383838; stroke-width: 1.5;\" x1=\"65.5\" x2=\"158.5\" y1=\"78.9375\" y2=\"78.9375\"/></a><!--MD5=[09b614a08d8cba4a07c9adeb5e0fee81]\n",
       "class E3--><a href=\"psysml:ad4f18e6-c096-4c58-bb62-14a597e4442d\" target=\"_top\" title=\"psysml:ad4f18e6-c096-4c58-bb62-14a597e4442d\" xlink:actuate=\"onRequest\" xlink:href=\"psysml:ad4f18e6-c096-4c58-bb62-14a597e4442d\" xlink:show=\"new\" xlink:title=\"psysml:ad4f18e6-c096-4c58-bb62-14a597e4442d\" xlink:type=\"simple\"><rect fill=\"#FFFFFF\" height=\"117.9609\" id=\"E3\" rx=\"10\" ry=\"10\" style=\"stroke: #383838; stroke-width: 1.5;\" width=\"160\" x=\"32\" y=\"122\"/><text fill=\"#000000\" font-family=\"sans-serif\" font-size=\"12\" font-style=\"italic\" lengthAdjust=\"spacingAndGlyphs\" textLength=\"53\" x=\"85.5\" y=\"138.1387\">«action»</text><text fill=\"#000000\" font-family=\"sans-serif\" font-size=\"12\" lengthAdjust=\"spacingAndGlyphs\" textLength=\"8\" x=\"108\" y=\"152.1074\">a</text><line style=\"stroke: #383838; stroke-width: 1.5;\" x1=\"33\" x2=\"191\" y1=\"159.9375\" y2=\"159.9375\"/><text fill=\"#000000\" font-family=\"sans-serif\" font-size=\"11\" lengthAdjust=\"spacingAndGlyphs\" textLength=\"69\" x=\"38\" y=\"190.9526\">start: Action</text><text fill=\"#000000\" font-family=\"sans-serif\" font-size=\"11\" font-style=\"italic\" lengthAdjust=\"spacingAndGlyphs\" textLength=\"148\" x=\"38\" y=\"203.7573\">:&gt;&gt;Occurrence::startShot</text><line style=\"stroke: #383838; stroke-width: 1.0;\" x1=\"33\" x2=\"91.5\" y1=\"174.3398\" y2=\"174.3398\"/><text fill=\"#000000\" font-family=\"sans-serif\" font-size=\"11\" lengthAdjust=\"spacingAndGlyphs\" textLength=\"41\" x=\"91.5\" y=\"177.6479\">actions</text><line style=\"stroke: #383838; stroke-width: 1.0;\" x1=\"132.5\" x2=\"191\" y1=\"174.3398\" y2=\"174.3398\"/><text fill=\"#000000\" font-family=\"sans-serif\" font-size=\"11\" lengthAdjust=\"spacingAndGlyphs\" textLength=\"11\" x=\"38\" y=\"233.3667\">m</text><line style=\"stroke: #383838; stroke-width: 1.0;\" x1=\"33\" x2=\"75.5\" y1=\"216.7539\" y2=\"216.7539\"/><text fill=\"#000000\" font-family=\"sans-serif\" font-size=\"11\" lengthAdjust=\"spacingAndGlyphs\" textLength=\"73\" x=\"75.5\" y=\"220.062\">mergeNodes</text><line style=\"stroke: #383838; stroke-width: 1.0;\" x1=\"148.5\" x2=\"191\" y1=\"216.7539\" y2=\"216.7539\"/></a><!--MD5=[60a26617385b1d2d0262a64233df1f8d]\n",
       "class E6--><a href=\"psysml:4eec70ee-61f4-4cab-8137-f00a9e5c8983\" target=\"_top\" title=\"psysml:4eec70ee-61f4-4cab-8137-f00a9e5c8983\" xlink:actuate=\"onRequest\" xlink:href=\"psysml:4eec70ee-61f4-4cab-8137-f00a9e5c8983\" xlink:show=\"new\" xlink:title=\"psysml:4eec70ee-61f4-4cab-8137-f00a9e5c8983\" xlink:type=\"simple\"><rect fill=\"#FFFFFF\" height=\"45.9375\" id=\"E6\" style=\"stroke: #383838; stroke-width: 1.5;\" width=\"79\" x=\"72.5\" y=\"275\"/><text fill=\"#000000\" font-family=\"sans-serif\" font-size=\"12\" font-style=\"italic\" lengthAdjust=\"spacingAndGlyphs\" textLength=\"77\" x=\"73.5\" y=\"291.1387\">«action def»</text><text fill=\"#000000\" font-family=\"sans-serif\" font-size=\"12\" lengthAdjust=\"spacingAndGlyphs\" textLength=\"8\" x=\"108\" y=\"305.1074\">B</text><line style=\"stroke: #383838; stroke-width: 1.5;\" x1=\"73.5\" x2=\"150.5\" y1=\"312.9375\" y2=\"312.9375\"/></a><!--MD5=[ac0422ea50dc8d0bad71f012707f47fd]\n",
       "@startuml\r\n",
       "left to right direction\r\n",
       "skinparam monochrome true\r\n",
       "skinparam classbackgroundcolor white\r\n",
       "skinparam shadowing false\r\n",
       "skinparam wrapWidth 300\r\n",
       "hide circle\r\n",
       "\r\n",
       "package \"ActionTest\" as E1  [[psysml:fba87211-d6a8-40ff-8d47-80f3cbac0e83 ]]  {\r\n",
       "comp def \"S\" as E2  <<(T,blue)attribute def>> [[psysml:9e8a127b-f23f-41bc-b046-de56fba8ce50 ]] {\r\n",
       "}\r\n",
       "comp usage \"a\" as E3  <<(T,blue)action>> [[psysml:ad4f18e6-c096-4c58-bb62-14a597e4442d ]] {\r\n",
       "- - actions - -\r\n",
       "start: Action\\n//:>>Occurrence::startShot// \r\n",
       "- - mergeNodes - -\r\n",
       "m\r\n",
       "}\r\n",
       "comp def \"B\" as E6  <<(T,blue)action def>> [[psysml:4eec70ee-61f4-4cab-8137-f00a9e5c8983 ]] {\r\n",
       "}\r\n",
       "}\r\n",
       "@enduml\r\n",
       "\n",
       "PlantUML version 1.2020.13(Sat Jun 13 12:26:38 UTC 2020)\n",
       "(EPL source distribution)\n",
       "Java Runtime: OpenJDK Runtime Environment\n",
       "JVM: OpenJDK 64-Bit Server VM\n",
       "Default Encoding: UTF-8\n",
       "Language: en\n",
       "Country: null\n",
       "--></g></svg>"
      ]
     },
     "execution_count": 17,
     "metadata": {},
     "output_type": "execute_result"
    }
   ],
   "source": [
    "%viz --style=\"LR\" --view=\"Tree\" \"ActionTest\""
   ]
  },
  {
   "cell_type": "code",
   "execution_count": 18,
   "id": "82329147",
   "metadata": {
    "execution": {
     "iopub.execute_input": "2021-05-27T06:08:01.020949Z",
     "iopub.status.busy": "2021-05-27T06:08:01.020607Z",
     "iopub.status.idle": "2021-05-27T06:08:01.025332Z",
     "shell.execute_reply": "2021-05-27T06:08:01.024944Z"
    }
   },
   "outputs": [
    {
     "data": {
      "image/svg+xml": [
       "<?xml version=\"1.0\" encoding=\"UTF-8\" standalone=\"no\"?><svg xmlns=\"http://www.w3.org/2000/svg\" xmlns:xlink=\"http://www.w3.org/1999/xlink\" contentScriptType=\"application/ecmascript\" contentStyleType=\"text/css\" height=\"12px\" preserveAspectRatio=\"none\" style=\"width:12px;height:12px;\" version=\"1.1\" viewBox=\"0 0 12 12\" width=\"12px\" zoomAndPan=\"magnify\"><defs/><g><!--MD5=[19d285c9d72a204eba4e2cd117d745e8]\n",
       "@startuml\r\n",
       "left to right direction\r\n",
       "skinparam monochrome true\r\n",
       "skinparam classbackgroundcolor white\r\n",
       "skinparam shadowing false\r\n",
       "skinparam wrapWidth 300\r\n",
       "hide circle\r\n",
       "\r\n",
       "@enduml\r\n",
       "\n",
       "PlantUML version 1.2020.13(Sat Jun 13 12:26:38 UTC 2020)\n",
       "(EPL source distribution)\n",
       "Java Runtime: OpenJDK Runtime Environment\n",
       "JVM: OpenJDK 64-Bit Server VM\n",
       "Default Encoding: UTF-8\n",
       "Language: en\n",
       "Country: null\n",
       "--></g></svg>"
      ]
     },
     "execution_count": 18,
     "metadata": {},
     "output_type": "execute_result"
    }
   ],
   "source": [
    "%viz --style=\"LR\" --view=\"State\" \"ActionTest\""
   ]
  },
  {
   "cell_type": "code",
   "execution_count": 19,
   "id": "6123f30e",
   "metadata": {
    "execution": {
     "iopub.execute_input": "2021-05-27T06:08:01.076551Z",
     "iopub.status.busy": "2021-05-27T06:08:01.076003Z",
     "iopub.status.idle": "2021-05-27T06:08:01.117094Z",
     "shell.execute_reply": "2021-05-27T06:08:01.116803Z"
    }
   },
   "outputs": [
    {
     "data": {
      "image/svg+xml": [
       "<?xml version=\"1.0\" encoding=\"UTF-8\" standalone=\"no\"?><svg xmlns=\"http://www.w3.org/2000/svg\" xmlns:xlink=\"http://www.w3.org/1999/xlink\" contentScriptType=\"application/ecmascript\" contentStyleType=\"text/css\" height=\"375px\" preserveAspectRatio=\"none\" style=\"width:652px;height:375px;\" version=\"1.1\" viewBox=\"0 0 652 375\" width=\"652px\" zoomAndPan=\"magnify\"><defs/><g><!--MD5=[fbc87193dbaf4d95561dea2c320d4a47]\n",
       "cluster E1--><a href=\"psysml:fba87211-d6a8-40ff-8d47-80f3cbac0e83\" target=\"_top\" title=\"psysml:fba87211-d6a8-40ff-8d47-80f3cbac0e83\" xlink:actuate=\"onRequest\" xlink:href=\"psysml:fba87211-d6a8-40ff-8d47-80f3cbac0e83\" xlink:show=\"new\" xlink:title=\"psysml:fba87211-d6a8-40ff-8d47-80f3cbac0e83\" xlink:type=\"simple\"><polygon fill=\"#FFFFFF\" points=\"16,6,107,6,114,28.2969,630,28.2969,630,363,16,363,16,6\" style=\"stroke: #000000; stroke-width: 1.5;\"/><line style=\"stroke: #000000; stroke-width: 1.5;\" x1=\"16\" x2=\"114\" y1=\"28.2969\" y2=\"28.2969\"/><text fill=\"#000000\" font-family=\"sans-serif\" font-size=\"14\" font-weight=\"bold\" lengthAdjust=\"spacingAndGlyphs\" textLength=\"85\" x=\"20\" y=\"20.9951\">ActionTest</text></a><!--MD5=[d5e69f78d87373223dbae638b30a9c99]\n",
       "cluster E3--><a href=\"psysml:ad4f18e6-c096-4c58-bb62-14a597e4442d\" target=\"_top\" title=\"psysml:ad4f18e6-c096-4c58-bb62-14a597e4442d\" xlink:actuate=\"onRequest\" xlink:href=\"psysml:ad4f18e6-c096-4c58-bb62-14a597e4442d\" xlink:show=\"new\" xlink:title=\"psysml:ad4f18e6-c096-4c58-bb62-14a597e4442d\" xlink:type=\"simple\"><rect fill=\"#FFFFFF\" height=\"160\" id=\"E3\" rx=\"10\" ry=\"10\" style=\"stroke: #383838; stroke-width: 1.5;\" width=\"550\" x=\"56\" y=\"49\"/><rect fill=\"#F8F8F8\" height=\"37.9375\" rx=\"10\" ry=\"10\" style=\"stroke: #F8F8F8; stroke-width: 1.5;\" width=\"550\" x=\"56\" y=\"49\"/><rect fill=\"#F8F8F8\" height=\"10\" style=\"stroke: #F8F8F8; stroke-width: 1.5;\" width=\"550\" x=\"56\" y=\"76.9375\"/><rect fill=\"none\" height=\"160\" id=\"E3\" rx=\"10\" ry=\"10\" style=\"stroke: #383838; stroke-width: 1.5;\" width=\"550\" x=\"56\" y=\"49\"/><text fill=\"#000000\" font-family=\"sans-serif\" font-size=\"12\" font-style=\"italic\" lengthAdjust=\"spacingAndGlyphs\" textLength=\"53\" x=\"304.5\" y=\"65.1387\">«action»</text><text fill=\"#000000\" font-family=\"sans-serif\" font-size=\"12\" lengthAdjust=\"spacingAndGlyphs\" textLength=\"8\" x=\"327\" y=\"79.1074\">a</text><line style=\"stroke: #383838; stroke-width: 1.0;\" x1=\"56\" x2=\"606\" y1=\"86.9375\" y2=\"86.9375\"/></a><g id=\"E1.E2\"><a href=\"psysml:9e8a127b-f23f-41bc-b046-de56fba8ce50\" target=\"_top\" title=\"psysml:9e8a127b-f23f-41bc-b046-de56fba8ce50\" xlink:actuate=\"onRequest\" xlink:href=\"psysml:9e8a127b-f23f-41bc-b046-de56fba8ce50\" xlink:show=\"new\" xlink:title=\"psysml:9e8a127b-f23f-41bc-b046-de56fba8ce50\" xlink:type=\"simple\"><rect fill=\"#FFFFFF\" height=\"42.9375\" id=\"E2\" style=\"stroke: #383838; stroke-width: 1.5;\" width=\"100\" x=\"32\" y=\"225.5\"/><rect fill=\"#F8F8F8\" height=\"37.9375\" style=\"stroke: #383838; stroke-width: 1.5;\" width=\"100\" x=\"32\" y=\"225.5\"/><text fill=\"#000000\" font-family=\"sans-serif\" font-size=\"12\" font-style=\"italic\" lengthAdjust=\"spacingAndGlyphs\" textLength=\"93\" x=\"35.5\" y=\"241.6387\">«attribute def»</text><text fill=\"#000000\" font-family=\"sans-serif\" font-size=\"12\" lengthAdjust=\"spacingAndGlyphs\" textLength=\"8\" x=\"78\" y=\"255.6074\">S</text></a></g><polygon fill=\"#F8F8F8\" points=\"161,114,173,126,161,138,149,126,161,114\" style=\"stroke: #383838; stroke-width: 1.5;\"/><!--MD5=[21dd76c19d33815960c0e92fef8f0eef]\n",
       "entity E5--><a href=\"psysml:ccfba6f1-4ce0-4ddd-afd5-b866d68d47d7\" target=\"_top\" title=\"psysml:ccfba6f1-4ce0-4ddd-afd5-b866d68d47d7\" xlink:actuate=\"onRequest\" xlink:href=\"psysml:ccfba6f1-4ce0-4ddd-afd5-b866d68d47d7\" xlink:show=\"new\" xlink:title=\"psysml:ccfba6f1-4ce0-4ddd-afd5-b866d68d47d7\" xlink:type=\"simple\"><polygon fill=\"#F8F8F8\" points=\"190,137.5,190,192.0938,330,192.0938,310,164.7969,330,137.5\" style=\"stroke: #000000; stroke-width: 1.5;\"/><text fill=\"#000000\" font-family=\"sans-serif\" font-size=\"14\" font-style=\"italic\" lengthAdjust=\"spacingAndGlyphs\" textLength=\"111\" x=\"197\" y=\"160.4951\">«accept action»</text><text fill=\"#000000\" font-family=\"sans-serif\" font-size=\"14\" lengthAdjust=\"spacingAndGlyphs\" textLength=\"9\" x=\"248\" y=\"177.792\">S</text></a><!--MD5=[24d87cdf3002d433f401b2a2aa9f9f65]\n",
       "entity E6--><a href=\"psysml:f31bbeb6-49c7-47f4-9bac-592fafbdce16\" target=\"_top\" title=\"psysml:f31bbeb6-49c7-47f4-9bac-592fafbdce16\" xlink:actuate=\"onRequest\" xlink:href=\"psysml:f31bbeb6-49c7-47f4-9bac-592fafbdce16\" xlink:show=\"new\" xlink:title=\"psysml:f31bbeb6-49c7-47f4-9bac-592fafbdce16\" xlink:type=\"simple\"><polygon fill=\"#F8F8F8\" points=\"384,137.5,384,192.0938,492,192.0938,512,164.7969,492,137.5\" style=\"stroke: #000000; stroke-width: 1.5;\"/><text fill=\"#000000\" font-family=\"sans-serif\" font-size=\"14\" font-style=\"italic\" lengthAdjust=\"spacingAndGlyphs\" textLength=\"99\" x=\"391\" y=\"160.4951\">«send action»</text><text fill=\"#000000\" font-family=\"sans-serif\" font-size=\"14\" lengthAdjust=\"spacingAndGlyphs\" textLength=\"65\" x=\"408\" y=\"177.792\">S() to  B()</text></a><polygon fill=\"#F8F8F8\" points=\"541,114,553,126,541,138,529,126,541,114\" style=\"stroke: #383838; stroke-width: 1.5;\"/><ellipse cx=\"82\" cy=\"126\" fill=\"#000000\" rx=\"10\" ry=\"10\" style=\"stroke: none; stroke-width: 1.0;\"/><ellipse cx=\"580\" cy=\"126\" fill=\"none\" rx=\"10\" ry=\"10\" style=\"stroke: #000000; stroke-width: 1.0;\"/><ellipse cx=\"580.5\" cy=\"126.5\" fill=\"#000000\" rx=\"6\" ry=\"6\" style=\"stroke: none; stroke-width: 1.0;\"/><g id=\"E1.E8\"><a href=\"psysml:4eec70ee-61f4-4cab-8137-f00a9e5c8983\" target=\"_top\" title=\"psysml:4eec70ee-61f4-4cab-8137-f00a9e5c8983\" xlink:actuate=\"onRequest\" xlink:href=\"psysml:4eec70ee-61f4-4cab-8137-f00a9e5c8983\" xlink:show=\"new\" xlink:title=\"psysml:4eec70ee-61f4-4cab-8137-f00a9e5c8983\" xlink:type=\"simple\"><rect fill=\"#FFFFFF\" height=\"42.9375\" id=\"E8\" style=\"stroke: #383838; stroke-width: 1.5;\" width=\"84\" x=\"40\" y=\"303.5\"/><rect fill=\"#F8F8F8\" height=\"37.9375\" style=\"stroke: #383838; stroke-width: 1.5;\" width=\"84\" x=\"40\" y=\"303.5\"/><text fill=\"#000000\" font-family=\"sans-serif\" font-size=\"12\" font-style=\"italic\" lengthAdjust=\"spacingAndGlyphs\" textLength=\"77\" x=\"43.5\" y=\"319.6387\">«action def»</text><text fill=\"#000000\" font-family=\"sans-serif\" font-size=\"12\" lengthAdjust=\"spacingAndGlyphs\" textLength=\"8\" x=\"78\" y=\"333.6074\">B</text></a></g><!--MD5=[f47e10efcf9a6752d55dae986d790ed9]\n",
       "link *start*E3 to E4--><a href=\"psysml:03e50e83-6fc7-46a8-8453-213dc2aae23c\" target=\"_top\" title=\"psysml:03e50e83-6fc7-46a8-8453-213dc2aae23c\" xlink:actuate=\"onRequest\" xlink:href=\"psysml:03e50e83-6fc7-46a8-8453-213dc2aae23c\" xlink:show=\"new\" xlink:title=\"psysml:03e50e83-6fc7-46a8-8453-213dc2aae23c\" xlink:type=\"simple\"><path d=\"M92.14,126 C104.88,126 128.18,126 143.88,126 \" fill=\"none\" id=\"*start*E3-&gt;E4\" style=\"stroke: #383838; stroke-width: 1.0;\"/><polygon fill=\"#383838\" points=\"148.89,126,139.89,122,143.89,126,139.89,130,148.89,126\" style=\"stroke: #383838; stroke-width: 1.0;\"/></a><!--MD5=[d19f2eb34364d71b67042106d92f540b]\n",
       "link E7 to *end*E3--><a href=\"psysml:c4a668a6-d0f8-468f-9890-a338c2ee16ef\" target=\"_top\" title=\"psysml:c4a668a6-d0f8-468f-9890-a338c2ee16ef\" xlink:actuate=\"onRequest\" xlink:href=\"psysml:c4a668a6-d0f8-468f-9890-a338c2ee16ef\" xlink:show=\"new\" xlink:title=\"psysml:c4a668a6-d0f8-468f-9890-a338c2ee16ef\" xlink:type=\"simple\"><path d=\"M553.3,126 C556.84,126 560.8,126 564.53,126 \" fill=\"none\" id=\"E7-&gt;*end*E3\" style=\"stroke: #383838; stroke-width: 1.0;\"/><polygon fill=\"#383838\" points=\"569.75,126,560.75,122,564.75,126,560.75,130,569.75,126\" style=\"stroke: #383838; stroke-width: 1.0;\"/></a><!--MD5=[1b7591eae5389033d8d09a9d6721a717]\n",
       "link E4 to E5--><a href=\"psysml:f95480df-9a63-41d1-9e12-1ec6bb9c61dc\" target=\"_top\" title=\"psysml:f95480df-9a63-41d1-9e12-1ec6bb9c61dc\" xlink:actuate=\"onRequest\" xlink:href=\"psysml:f95480df-9a63-41d1-9e12-1ec6bb9c61dc\" xlink:show=\"new\" xlink:title=\"psysml:f95480df-9a63-41d1-9e12-1ec6bb9c61dc\" xlink:type=\"simple\"><path d=\"M169.94,129.19 C174.05,130.84 179.5,133.04 185.7,135.53 \" fill=\"none\" id=\"E4-&gt;E5\" style=\"stroke: #383838; stroke-width: 1.0;\"/><polygon fill=\"#383838\" points=\"190.57,137.49,183.7068,130.4263,185.9296,135.6281,180.7278,137.8509,190.57,137.49\" style=\"stroke: #383838; stroke-width: 1.0;\"/></a><!--MD5=[9120cf2e5df3bff93db8f754bbbc09b4]\n",
       "link E5 to E6--><a href=\"psysml:73484f54-b4d2-4298-bed2-8c418bf31093\" target=\"_top\" title=\"psysml:73484f54-b4d2-4298-bed2-8c418bf31093\" xlink:actuate=\"onRequest\" xlink:href=\"psysml:73484f54-b4d2-4298-bed2-8c418bf31093\" xlink:show=\"new\" xlink:title=\"psysml:73484f54-b4d2-4298-bed2-8c418bf31093\" xlink:type=\"simple\"><path d=\"M330.26,165 C346.03,165 362.79,165 378.53,165 \" fill=\"none\" id=\"E5-&gt;E6\" style=\"stroke: #383838; stroke-width: 1.0;\"/><polygon fill=\"#383838\" points=\"383.83,165,374.83,161,378.83,165,374.83,169,383.83,165\" style=\"stroke: #383838; stroke-width: 1.0;\"/></a><!--MD5=[02c70b7c851c11e3980e4e90450dc5dd]\n",
       "link E6 to E7--><a href=\"psysml:860bf181-ae5a-4d8b-9cc8-c19fc893dd3f\" target=\"_top\" title=\"psysml:860bf181-ae5a-4d8b-9cc8-c19fc893dd3f\" xlink:actuate=\"onRequest\" xlink:href=\"psysml:860bf181-ae5a-4d8b-9cc8-c19fc893dd3f\" xlink:show=\"new\" xlink:title=\"psysml:860bf181-ae5a-4d8b-9cc8-c19fc893dd3f\" xlink:type=\"simple\"><path d=\"M512.2,137.91 C517.78,135.52 522.94,133.31 527.26,131.46 \" fill=\"none\" id=\"E6-&gt;E7\" style=\"stroke: #383838; stroke-width: 1.0;\"/><polygon fill=\"#383838\" points=\"531.92,129.46,522.072,129.3287,527.3243,131.4296,525.2234,136.6819,531.92,129.46\" style=\"stroke: #383838; stroke-width: 1.0;\"/></a><!--MD5=[6bdd27f9905911a7e892a3dc65cf6b7c]\n",
       "link E7 to E4--><a href=\"psysml:227ffbe5-5fbb-4b69-bf2e-f462a1a2545e\" target=\"_top\" title=\"psysml:227ffbe5-5fbb-4b69-bf2e-f462a1a2545e\" xlink:actuate=\"onRequest\" xlink:href=\"psysml:227ffbe5-5fbb-4b69-bf2e-f462a1a2545e\" xlink:show=\"new\" xlink:title=\"psysml:227ffbe5-5fbb-4b69-bf2e-f462a1a2545e\" xlink:type=\"simple\"><path d=\"M531.25,123.63 C525.77,122.26 518.53,120.69 512,120 C369.69,104.92 332.31,104.92 190,120 C185.31,120.5 180.25,121.45 175.74,122.45 \" fill=\"none\" id=\"E7-&gt;E4\" style=\"stroke: #383838; stroke-width: 1.0;\"/><polygon fill=\"#383838\" points=\"170.75,123.63,180.4269,125.4623,175.6171,122.4848,178.5946,117.675,170.75,123.63\" style=\"stroke: #383838; stroke-width: 1.0;\"/><text fill=\"#000000\" font-family=\"sans-serif\" font-size=\"13\" lengthAdjust=\"spacingAndGlyphs\" textLength=\"36\" x=\"339\" y=\"105.0669\">[true]</text></a><!--MD5=[d540133098237f12a3f825633f0b21f2]\n",
       "@startuml\r\n",
       "skinparam ranksep 10\r\n",
       "skinparam rectangle {\r\n",
       " backgroundColor<<block>> LightGreen\r\n",
       "}\r\n",
       "left to right direction\r\n",
       "skinparam monochrome true\r\n",
       "skinparam classbackgroundcolor white\r\n",
       "skinparam shadowing false\r\n",
       "skinparam wrapWidth 300\r\n",
       "hide circle\r\n",
       "\r\n",
       "package \"ActionTest\" as E1  [[psysml:fba87211-d6a8-40ff-8d47-80f3cbac0e83 ]]  {\r\n",
       "def \"S\" as E2  <<(T,blue)attribute def>> [[psysml:9e8a127b-f23f-41bc-b046-de56fba8ce50 ]] \r\n",
       "rec usage \"a\" as E3  <<(T,blue)action>> [[psysml:ad4f18e6-c096-4c58-bb62-14a597e4442d ]] {\r\n",
       "choice \"m\" as E4  [[psysml:e85a3052-7a7b-4311-97f8-bb0216d1246f ]] \r\n",
       "accept \" S\" as E5 <<accept action>> [[psysml:ccfba6f1-4ce0-4ddd-afd5-b866d68d47d7 ]] \r\n",
       "send \" S() to  B()\" as E6 <<send action>> [[psysml:f31bbeb6-49c7-47f4-9bac-592fafbdce16 ]] \r\n",
       "choice \"noname\" as E7  [[psysml:7507dc2c-9b39-4c30-b0ef-dd6a627e8c4c ]] \r\n",
       "[*] - -> E4 [[psysml:03e50e83-6fc7-46a8-8453-213dc2aae23c ]] \r\n",
       "E7  - -> [*] [[psysml:c4a668a6-d0f8-468f-9890-a338c2ee16ef ]] \r\n",
       "}\r\n",
       "\r\n",
       "rec def \"B\" as E8  <<(T,blue)action def>> [[psysml:4eec70ee-61f4-4cab-8137-f00a9e5c8983 ]] {\r\n",
       "}\r\n",
       "\r\n",
       "E4 - -> E5 [[psysml:f95480df-9a63-41d1-9e12-1ec6bb9c61dc ]] \r\n",
       "E5 - -> E6 [[psysml:73484f54-b4d2-4298-bed2-8c418bf31093 ]] \r\n",
       "E6 - -> E7 [[psysml:860bf181-ae5a-4d8b-9cc8-c19fc893dd3f ]] \r\n",
       "E7  - -> E4 [[psysml:227ffbe5-5fbb-4b69-bf2e-f462a1a2545e ]] : [true]\r\n",
       "}\r\n",
       "@enduml\r\n",
       "\n",
       "PlantUML version 1.2020.13(Sat Jun 13 12:26:38 UTC 2020)\n",
       "(EPL source distribution)\n",
       "Java Runtime: OpenJDK Runtime Environment\n",
       "JVM: OpenJDK 64-Bit Server VM\n",
       "Default Encoding: UTF-8\n",
       "Language: en\n",
       "Country: null\n",
       "--></g></svg>"
      ]
     },
     "execution_count": 19,
     "metadata": {},
     "output_type": "execute_result"
    }
   ],
   "source": [
    "%viz --style=\"LR\" --view=\"Interconnection\" \"ActionTest\""
   ]
  },
  {
   "cell_type": "code",
   "execution_count": 20,
   "id": "aad3dfcb",
   "metadata": {
    "execution": {
     "iopub.execute_input": "2021-05-27T06:08:01.169446Z",
     "iopub.status.busy": "2021-05-27T06:08:01.168737Z",
     "iopub.status.idle": "2021-05-27T06:08:01.208643Z",
     "shell.execute_reply": "2021-05-27T06:08:01.207449Z"
    }
   },
   "outputs": [
    {
     "data": {
      "image/svg+xml": [
       "<?xml version=\"1.0\" encoding=\"UTF-8\" standalone=\"no\"?><svg xmlns=\"http://www.w3.org/2000/svg\" xmlns:xlink=\"http://www.w3.org/1999/xlink\" contentScriptType=\"application/ecmascript\" contentStyleType=\"text/css\" height=\"237px\" preserveAspectRatio=\"none\" style=\"width:577px;height:237px;\" version=\"1.1\" viewBox=\"0 0 577 237\" width=\"577px\" zoomAndPan=\"magnify\"><defs/><g><!--MD5=[fbc87193dbaf4d95561dea2c320d4a47]\n",
       "cluster E1--><a href=\"psysml:ad4f18e6-c096-4c58-bb62-14a597e4442d\" target=\"_top\" title=\"psysml:ad4f18e6-c096-4c58-bb62-14a597e4442d\" xlink:actuate=\"onRequest\" xlink:href=\"psysml:ad4f18e6-c096-4c58-bb62-14a597e4442d\" xlink:show=\"new\" xlink:title=\"psysml:ad4f18e6-c096-4c58-bb62-14a597e4442d\" xlink:type=\"simple\"><rect fill=\"#FFFFFF\" height=\"160\" id=\"E1\" rx=\"10\" ry=\"10\" style=\"stroke: #383838; stroke-width: 1.5;\" width=\"542\" x=\"23\" y=\"7\"/><rect fill=\"#F8F8F8\" height=\"37.9375\" rx=\"10\" ry=\"10\" style=\"stroke: #F8F8F8; stroke-width: 1.5;\" width=\"542\" x=\"23\" y=\"7\"/><rect fill=\"#F8F8F8\" height=\"10\" style=\"stroke: #F8F8F8; stroke-width: 1.5;\" width=\"542\" x=\"23\" y=\"34.9375\"/><rect fill=\"none\" height=\"160\" id=\"E1\" rx=\"10\" ry=\"10\" style=\"stroke: #383838; stroke-width: 1.5;\" width=\"542\" x=\"23\" y=\"7\"/><text fill=\"#000000\" font-family=\"sans-serif\" font-size=\"12\" font-style=\"italic\" lengthAdjust=\"spacingAndGlyphs\" textLength=\"53\" x=\"267.5\" y=\"23.1387\">«action»</text><text fill=\"#000000\" font-family=\"sans-serif\" font-size=\"12\" lengthAdjust=\"spacingAndGlyphs\" textLength=\"8\" x=\"290\" y=\"37.1074\">a</text><line style=\"stroke: #383838; stroke-width: 1.0;\" x1=\"23\" x2=\"565\" y1=\"44.9375\" y2=\"44.9375\"/></a><polygon fill=\"#F8F8F8\" points=\"120,72,132,84,120,96,108,84,120,72\" style=\"stroke: #383838; stroke-width: 1.5;\"/><!--MD5=[a60fb756f580feb9fd8e2cf1329b5c91]\n",
       "entity E3--><a href=\"psysml:ccfba6f1-4ce0-4ddd-afd5-b866d68d47d7\" target=\"_top\" title=\"psysml:ccfba6f1-4ce0-4ddd-afd5-b866d68d47d7\" xlink:actuate=\"onRequest\" xlink:href=\"psysml:ccfba6f1-4ce0-4ddd-afd5-b866d68d47d7\" xlink:show=\"new\" xlink:title=\"psysml:ccfba6f1-4ce0-4ddd-afd5-b866d68d47d7\" xlink:type=\"simple\"><polygon fill=\"#F8F8F8\" points=\"149,95.5,149,150.0938,289,150.0938,269,122.7969,289,95.5\" style=\"stroke: #000000; stroke-width: 1.5;\"/><text fill=\"#000000\" font-family=\"sans-serif\" font-size=\"14\" font-style=\"italic\" lengthAdjust=\"spacingAndGlyphs\" textLength=\"111\" x=\"156\" y=\"118.4951\">«accept action»</text><text fill=\"#000000\" font-family=\"sans-serif\" font-size=\"14\" lengthAdjust=\"spacingAndGlyphs\" textLength=\"9\" x=\"207\" y=\"135.792\">S</text></a><!--MD5=[961cefdc15414eaa3e87aec9d17c2188]\n",
       "entity E4--><a href=\"psysml:f31bbeb6-49c7-47f4-9bac-592fafbdce16\" target=\"_top\" title=\"psysml:f31bbeb6-49c7-47f4-9bac-592fafbdce16\" xlink:actuate=\"onRequest\" xlink:href=\"psysml:f31bbeb6-49c7-47f4-9bac-592fafbdce16\" xlink:show=\"new\" xlink:title=\"psysml:f31bbeb6-49c7-47f4-9bac-592fafbdce16\" xlink:type=\"simple\"><polygon fill=\"#F8F8F8\" points=\"343,95.5,343,150.0938,451,150.0938,471,122.7969,451,95.5\" style=\"stroke: #000000; stroke-width: 1.5;\"/><text fill=\"#000000\" font-family=\"sans-serif\" font-size=\"14\" font-style=\"italic\" lengthAdjust=\"spacingAndGlyphs\" textLength=\"99\" x=\"350\" y=\"118.4951\">«send action»</text><text fill=\"#000000\" font-family=\"sans-serif\" font-size=\"14\" lengthAdjust=\"spacingAndGlyphs\" textLength=\"65\" x=\"367\" y=\"135.792\">S() to  B()</text></a><polygon fill=\"#F8F8F8\" points=\"500,72,512,84,500,96,488,84,500,72\" style=\"stroke: #383838; stroke-width: 1.5;\"/><ellipse cx=\"49\" cy=\"84\" fill=\"#000000\" rx=\"10\" ry=\"10\" style=\"stroke: none; stroke-width: 1.0;\"/><ellipse cx=\"539\" cy=\"84\" fill=\"none\" rx=\"10\" ry=\"10\" style=\"stroke: #000000; stroke-width: 1.0;\"/><ellipse cx=\"539.5\" cy=\"84.5\" fill=\"#000000\" rx=\"6\" ry=\"6\" style=\"stroke: none; stroke-width: 1.0;\"/><g id=\"E6\"><a href=\"psysml:4eec70ee-61f4-4cab-8137-f00a9e5c8983\" target=\"_top\" title=\"psysml:4eec70ee-61f4-4cab-8137-f00a9e5c8983\" xlink:actuate=\"onRequest\" xlink:href=\"psysml:4eec70ee-61f4-4cab-8137-f00a9e5c8983\" xlink:show=\"new\" xlink:title=\"psysml:4eec70ee-61f4-4cab-8137-f00a9e5c8983\" xlink:type=\"simple\"><rect fill=\"#FFFFFF\" height=\"42.9375\" id=\"E6\" style=\"stroke: #383838; stroke-width: 1.5;\" width=\"84\" x=\"7\" y=\"183.5\"/><rect fill=\"#F8F8F8\" height=\"37.9375\" style=\"stroke: #383838; stroke-width: 1.5;\" width=\"84\" x=\"7\" y=\"183.5\"/><text fill=\"#000000\" font-family=\"sans-serif\" font-size=\"12\" font-style=\"italic\" lengthAdjust=\"spacingAndGlyphs\" textLength=\"77\" x=\"10.5\" y=\"199.6387\">«action def»</text><text fill=\"#000000\" font-family=\"sans-serif\" font-size=\"12\" lengthAdjust=\"spacingAndGlyphs\" textLength=\"8\" x=\"45\" y=\"213.6074\">B</text></a></g><!--MD5=[cff944eb183b832d446717a4e202d613]\n",
       "link *start*E1 to E2--><a href=\"psysml:03e50e83-6fc7-46a8-8453-213dc2aae23c\" target=\"_top\" title=\"psysml:03e50e83-6fc7-46a8-8453-213dc2aae23c\" xlink:actuate=\"onRequest\" xlink:href=\"psysml:03e50e83-6fc7-46a8-8453-213dc2aae23c\" xlink:show=\"new\" xlink:title=\"psysml:03e50e83-6fc7-46a8-8453-213dc2aae23c\" xlink:type=\"simple\"><path d=\"M59.02,84 C70.11,84 89.15,84 102.8,84 \" fill=\"none\" id=\"*start*E1-&gt;E2\" style=\"stroke: #383838; stroke-width: 1.0; stroke-dasharray: 7.0,7.0;\"/><polygon fill=\"#383838\" points=\"107.92,84,98.92,80,102.92,84,98.92,88,107.92,84\" style=\"stroke: #383838; stroke-width: 1.0;\"/></a><!--MD5=[7fc47fc0d107820853a137871ad908c8]\n",
       "link E5 to *end*E1--><a href=\"psysml:c4a668a6-d0f8-468f-9890-a338c2ee16ef\" target=\"_top\" title=\"psysml:c4a668a6-d0f8-468f-9890-a338c2ee16ef\" xlink:actuate=\"onRequest\" xlink:href=\"psysml:c4a668a6-d0f8-468f-9890-a338c2ee16ef\" xlink:show=\"new\" xlink:title=\"psysml:c4a668a6-d0f8-468f-9890-a338c2ee16ef\" xlink:type=\"simple\"><path d=\"M512.3,84 C515.84,84 519.8,84 523.53,84 \" fill=\"none\" id=\"E5-&gt;*end*E1\" style=\"stroke: #383838; stroke-width: 1.0; stroke-dasharray: 7.0,7.0;\"/><polygon fill=\"#383838\" points=\"528.75,84,519.75,80,523.75,84,519.75,88,528.75,84\" style=\"stroke: #383838; stroke-width: 1.0;\"/></a><!--MD5=[2720a5a1f2c3fca2055b230370638851]\n",
       "link E2 to E3--><a href=\"psysml:f95480df-9a63-41d1-9e12-1ec6bb9c61dc\" target=\"_top\" title=\"psysml:f95480df-9a63-41d1-9e12-1ec6bb9c61dc\" xlink:actuate=\"onRequest\" xlink:href=\"psysml:f95480df-9a63-41d1-9e12-1ec6bb9c61dc\" xlink:show=\"new\" xlink:title=\"psysml:f95480df-9a63-41d1-9e12-1ec6bb9c61dc\" xlink:type=\"simple\"><path d=\"M128.94,87.19 C133.05,88.84 138.5,91.04 144.7,93.53 \" fill=\"none\" id=\"E2-&gt;E3\" style=\"stroke: #383838; stroke-width: 1.0; stroke-dasharray: 7.0,7.0;\"/><polygon fill=\"#383838\" points=\"149.57,95.49,142.7068,88.4263,144.9296,93.6281,139.7278,95.8509,149.57,95.49\" style=\"stroke: #383838; stroke-width: 1.0;\"/></a><!--MD5=[af87c684e3b0d8be13c1a698a818ef1e]\n",
       "link E3 to E4--><a href=\"psysml:73484f54-b4d2-4298-bed2-8c418bf31093\" target=\"_top\" title=\"psysml:73484f54-b4d2-4298-bed2-8c418bf31093\" xlink:actuate=\"onRequest\" xlink:href=\"psysml:73484f54-b4d2-4298-bed2-8c418bf31093\" xlink:show=\"new\" xlink:title=\"psysml:73484f54-b4d2-4298-bed2-8c418bf31093\" xlink:type=\"simple\"><path d=\"M289.26,123 C305.03,123 321.79,123 337.53,123 \" fill=\"none\" id=\"E3-&gt;E4\" style=\"stroke: #383838; stroke-width: 1.0; stroke-dasharray: 7.0,7.0;\"/><polygon fill=\"#383838\" points=\"342.83,123,333.83,119,337.83,123,333.83,127,342.83,123\" style=\"stroke: #383838; stroke-width: 1.0;\"/></a><!--MD5=[1b7591eae5389033d8d09a9d6721a717]\n",
       "link E4 to E5--><a href=\"psysml:860bf181-ae5a-4d8b-9cc8-c19fc893dd3f\" target=\"_top\" title=\"psysml:860bf181-ae5a-4d8b-9cc8-c19fc893dd3f\" xlink:actuate=\"onRequest\" xlink:href=\"psysml:860bf181-ae5a-4d8b-9cc8-c19fc893dd3f\" xlink:show=\"new\" xlink:title=\"psysml:860bf181-ae5a-4d8b-9cc8-c19fc893dd3f\" xlink:type=\"simple\"><path d=\"M471.2,95.91 C476.78,93.52 481.94,91.31 486.26,89.46 \" fill=\"none\" id=\"E4-&gt;E5\" style=\"stroke: #383838; stroke-width: 1.0; stroke-dasharray: 7.0,7.0;\"/><polygon fill=\"#383838\" points=\"490.92,87.46,481.072,87.3287,486.3243,89.4296,484.2234,94.6819,490.92,87.46\" style=\"stroke: #383838; stroke-width: 1.0;\"/></a><!--MD5=[15ebcb19ae302d9b601edb458606d402]\n",
       "link E5 to E2--><a href=\"psysml:227ffbe5-5fbb-4b69-bf2e-f462a1a2545e\" target=\"_top\" title=\"psysml:227ffbe5-5fbb-4b69-bf2e-f462a1a2545e\" xlink:actuate=\"onRequest\" xlink:href=\"psysml:227ffbe5-5fbb-4b69-bf2e-f462a1a2545e\" xlink:show=\"new\" xlink:title=\"psysml:227ffbe5-5fbb-4b69-bf2e-f462a1a2545e\" xlink:type=\"simple\"><path d=\"M490.25,81.63 C484.77,80.26 477.53,78.69 471,78 C328.69,62.92 291.31,62.92 149,78 C144.31,78.5 139.25,79.45 134.74,80.45 \" fill=\"none\" id=\"E5-&gt;E2\" style=\"stroke: #383838; stroke-width: 1.0; stroke-dasharray: 7.0,7.0;\"/><polygon fill=\"#383838\" points=\"129.75,81.63,139.4269,83.4623,134.6171,80.4848,137.5946,75.675,129.75,81.63\" style=\"stroke: #383838; stroke-width: 1.0;\"/><text fill=\"#000000\" font-family=\"sans-serif\" font-size=\"13\" lengthAdjust=\"spacingAndGlyphs\" textLength=\"36\" x=\"298\" y=\"63.0669\">[true]</text></a><!--MD5=[949e97e02f5febd5a56af8b964f421f2]\n",
       "@startuml\r\n",
       "skinparam ranksep 8\r\n",
       "left to right direction\r\n",
       "skinparam monochrome true\r\n",
       "skinparam classbackgroundcolor white\r\n",
       "skinparam shadowing false\r\n",
       "skinparam wrapWidth 300\r\n",
       "hide circle\r\n",
       "\r\n",
       "rec usage \"a\" as E1  <<(T,blue)action>> [[psysml:ad4f18e6-c096-4c58-bb62-14a597e4442d ]] {\r\n",
       "choice \"m\" as E2  [[psysml:e85a3052-7a7b-4311-97f8-bb0216d1246f ]] \r\n",
       "accept \" S\" as E3 <<accept action>> [[psysml:ccfba6f1-4ce0-4ddd-afd5-b866d68d47d7 ]] \r\n",
       "send \" S() to  B()\" as E4 <<send action>> [[psysml:f31bbeb6-49c7-47f4-9bac-592fafbdce16 ]] \r\n",
       "choice \"noname\" as E5  [[psysml:7507dc2c-9b39-4c30-b0ef-dd6a627e8c4c ]] \r\n",
       "[*] ..> E2 [[psysml:03e50e83-6fc7-46a8-8453-213dc2aae23c ]] \r\n",
       "E5 ..> [*] [[psysml:c4a668a6-d0f8-468f-9890-a338c2ee16ef ]] \r\n",
       "}\r\n",
       "\r\n",
       "E2 ..> E3 [[psysml:f95480df-9a63-41d1-9e12-1ec6bb9c61dc ]] \r\n",
       "E3 ..> E4 [[psysml:73484f54-b4d2-4298-bed2-8c418bf31093 ]] \r\n",
       "E4 ..> E5 [[psysml:860bf181-ae5a-4d8b-9cc8-c19fc893dd3f ]] \r\n",
       "E5 ..> E2 [[psysml:227ffbe5-5fbb-4b69-bf2e-f462a1a2545e ]] : [true]\r\n",
       "rec def \"B\" as E6  <<(T,blue)action def>> [[psysml:4eec70ee-61f4-4cab-8137-f00a9e5c8983 ]] {\r\n",
       "}\r\n",
       "\r\n",
       "@enduml\r\n",
       "\n",
       "PlantUML version 1.2020.13(Sat Jun 13 12:26:38 UTC 2020)\n",
       "(EPL source distribution)\n",
       "Java Runtime: OpenJDK Runtime Environment\n",
       "JVM: OpenJDK 64-Bit Server VM\n",
       "Default Encoding: UTF-8\n",
       "Language: en\n",
       "Country: null\n",
       "--></g></svg>"
      ]
     },
     "execution_count": 20,
     "metadata": {},
     "output_type": "execute_result"
    }
   ],
   "source": [
    "%viz --style=\"LR\" --view=\"Action\" \"ActionTest\""
   ]
  },
  {
   "cell_type": "code",
   "execution_count": 21,
   "id": "8e7c2eff",
   "metadata": {
    "execution": {
     "iopub.execute_input": "2021-05-27T06:08:01.262120Z",
     "iopub.status.busy": "2021-05-27T06:08:01.261642Z",
     "iopub.status.idle": "2021-05-27T06:08:01.319644Z",
     "shell.execute_reply": "2021-05-27T06:08:01.318489Z"
    }
   },
   "outputs": [
    {
     "data": {
      "image/svg+xml": [
       "<?xml version=\"1.0\" encoding=\"UTF-8\" standalone=\"no\"?><svg xmlns=\"http://www.w3.org/2000/svg\" xmlns:xlink=\"http://www.w3.org/1999/xlink\" contentScriptType=\"application/ecmascript\" contentStyleType=\"text/css\" height=\"349px\" preserveAspectRatio=\"none\" style=\"width:230px;height:349px;\" version=\"1.1\" viewBox=\"0 0 230 349\" width=\"230px\" zoomAndPan=\"magnify\"><defs/><g><!--MD5=[fbc87193dbaf4d95561dea2c320d4a47]\n",
       "cluster E1--><a href=\"psysml:fba87211-d6a8-40ff-8d47-80f3cbac0e83\" target=\"_top\" title=\"psysml:fba87211-d6a8-40ff-8d47-80f3cbac0e83\" xlink:actuate=\"onRequest\" xlink:href=\"psysml:fba87211-d6a8-40ff-8d47-80f3cbac0e83\" xlink:show=\"new\" xlink:title=\"psysml:fba87211-d6a8-40ff-8d47-80f3cbac0e83\" xlink:type=\"simple\"><polygon fill=\"#FFFFFF\" points=\"16,6,107,6,114,28.2969,208,28.2969,208,337,16,337,16,6\" style=\"stroke: #000000; stroke-width: 1.5;\"/><line style=\"stroke: #000000; stroke-width: 1.5;\" x1=\"16\" x2=\"114\" y1=\"28.2969\" y2=\"28.2969\"/><text fill=\"#000000\" font-family=\"sans-serif\" font-size=\"14\" font-weight=\"bold\" lengthAdjust=\"spacingAndGlyphs\" textLength=\"85\" x=\"20\" y=\"20.9951\">ActionTest</text></a><!--MD5=[b4997ac47864f28c2f74865a473b2911]\n",
       "class E2--><a href=\"psysml:9e8a127b-f23f-41bc-b046-de56fba8ce50\" target=\"_top\" title=\"psysml:9e8a127b-f23f-41bc-b046-de56fba8ce50\" xlink:actuate=\"onRequest\" xlink:href=\"psysml:9e8a127b-f23f-41bc-b046-de56fba8ce50\" xlink:show=\"new\" xlink:title=\"psysml:9e8a127b-f23f-41bc-b046-de56fba8ce50\" xlink:type=\"simple\"><rect fill=\"#FFFFFF\" height=\"45.9375\" id=\"E2\" style=\"stroke: #383838; stroke-width: 1.5;\" width=\"95\" x=\"64.5\" y=\"41\"/><text fill=\"#000000\" font-family=\"sans-serif\" font-size=\"12\" font-style=\"italic\" lengthAdjust=\"spacingAndGlyphs\" textLength=\"93\" x=\"65.5\" y=\"57.1387\">«attribute def»</text><text fill=\"#000000\" font-family=\"sans-serif\" font-size=\"12\" lengthAdjust=\"spacingAndGlyphs\" textLength=\"8\" x=\"108\" y=\"71.1074\">S</text><line style=\"stroke: #383838; stroke-width: 1.5;\" x1=\"65.5\" x2=\"158.5\" y1=\"78.9375\" y2=\"78.9375\"/></a><!--MD5=[09b614a08d8cba4a07c9adeb5e0fee81]\n",
       "class E3--><a href=\"psysml:ad4f18e6-c096-4c58-bb62-14a597e4442d\" target=\"_top\" title=\"psysml:ad4f18e6-c096-4c58-bb62-14a597e4442d\" xlink:actuate=\"onRequest\" xlink:href=\"psysml:ad4f18e6-c096-4c58-bb62-14a597e4442d\" xlink:show=\"new\" xlink:title=\"psysml:ad4f18e6-c096-4c58-bb62-14a597e4442d\" xlink:type=\"simple\"><rect fill=\"#FFFFFF\" height=\"117.9609\" id=\"E3\" rx=\"10\" ry=\"10\" style=\"stroke: #383838; stroke-width: 1.5;\" width=\"160\" x=\"32\" y=\"122\"/><text fill=\"#000000\" font-family=\"sans-serif\" font-size=\"12\" font-style=\"italic\" lengthAdjust=\"spacingAndGlyphs\" textLength=\"53\" x=\"85.5\" y=\"138.1387\">«action»</text><text fill=\"#000000\" font-family=\"sans-serif\" font-size=\"12\" lengthAdjust=\"spacingAndGlyphs\" textLength=\"8\" x=\"108\" y=\"152.1074\">a</text><line style=\"stroke: #383838; stroke-width: 1.5;\" x1=\"33\" x2=\"191\" y1=\"159.9375\" y2=\"159.9375\"/><text fill=\"#000000\" font-family=\"sans-serif\" font-size=\"11\" lengthAdjust=\"spacingAndGlyphs\" textLength=\"69\" x=\"38\" y=\"190.9526\">start: Action</text><text fill=\"#000000\" font-family=\"sans-serif\" font-size=\"11\" font-style=\"italic\" lengthAdjust=\"spacingAndGlyphs\" textLength=\"148\" x=\"38\" y=\"203.7573\">:&gt;&gt;Occurrence::startShot</text><line style=\"stroke: #383838; stroke-width: 1.0;\" x1=\"33\" x2=\"91.5\" y1=\"174.3398\" y2=\"174.3398\"/><text fill=\"#000000\" font-family=\"sans-serif\" font-size=\"11\" lengthAdjust=\"spacingAndGlyphs\" textLength=\"41\" x=\"91.5\" y=\"177.6479\">actions</text><line style=\"stroke: #383838; stroke-width: 1.0;\" x1=\"132.5\" x2=\"191\" y1=\"174.3398\" y2=\"174.3398\"/><text fill=\"#000000\" font-family=\"sans-serif\" font-size=\"11\" lengthAdjust=\"spacingAndGlyphs\" textLength=\"11\" x=\"38\" y=\"233.3667\">m</text><line style=\"stroke: #383838; stroke-width: 1.0;\" x1=\"33\" x2=\"75.5\" y1=\"216.7539\" y2=\"216.7539\"/><text fill=\"#000000\" font-family=\"sans-serif\" font-size=\"11\" lengthAdjust=\"spacingAndGlyphs\" textLength=\"73\" x=\"75.5\" y=\"220.062\">mergeNodes</text><line style=\"stroke: #383838; stroke-width: 1.0;\" x1=\"148.5\" x2=\"191\" y1=\"216.7539\" y2=\"216.7539\"/></a><!--MD5=[60a26617385b1d2d0262a64233df1f8d]\n",
       "class E6--><a href=\"psysml:4eec70ee-61f4-4cab-8137-f00a9e5c8983\" target=\"_top\" title=\"psysml:4eec70ee-61f4-4cab-8137-f00a9e5c8983\" xlink:actuate=\"onRequest\" xlink:href=\"psysml:4eec70ee-61f4-4cab-8137-f00a9e5c8983\" xlink:show=\"new\" xlink:title=\"psysml:4eec70ee-61f4-4cab-8137-f00a9e5c8983\" xlink:type=\"simple\"><rect fill=\"#FFFFFF\" height=\"45.9375\" id=\"E6\" style=\"stroke: #383838; stroke-width: 1.5;\" width=\"79\" x=\"72.5\" y=\"275\"/><text fill=\"#000000\" font-family=\"sans-serif\" font-size=\"12\" font-style=\"italic\" lengthAdjust=\"spacingAndGlyphs\" textLength=\"77\" x=\"73.5\" y=\"291.1387\">«action def»</text><text fill=\"#000000\" font-family=\"sans-serif\" font-size=\"12\" lengthAdjust=\"spacingAndGlyphs\" textLength=\"8\" x=\"108\" y=\"305.1074\">B</text><line style=\"stroke: #383838; stroke-width: 1.5;\" x1=\"73.5\" x2=\"150.5\" y1=\"312.9375\" y2=\"312.9375\"/></a><!--MD5=[ac0422ea50dc8d0bad71f012707f47fd]\n",
       "@startuml\r\n",
       "left to right direction\r\n",
       "skinparam monochrome true\r\n",
       "skinparam classbackgroundcolor white\r\n",
       "skinparam shadowing false\r\n",
       "skinparam wrapWidth 300\r\n",
       "hide circle\r\n",
       "\r\n",
       "package \"ActionTest\" as E1  [[psysml:fba87211-d6a8-40ff-8d47-80f3cbac0e83 ]]  {\r\n",
       "comp def \"S\" as E2  <<(T,blue)attribute def>> [[psysml:9e8a127b-f23f-41bc-b046-de56fba8ce50 ]] {\r\n",
       "}\r\n",
       "comp usage \"a\" as E3  <<(T,blue)action>> [[psysml:ad4f18e6-c096-4c58-bb62-14a597e4442d ]] {\r\n",
       "- - actions - -\r\n",
       "start: Action\\n//:>>Occurrence::startShot// \r\n",
       "- - mergeNodes - -\r\n",
       "m\r\n",
       "}\r\n",
       "comp def \"B\" as E6  <<(T,blue)action def>> [[psysml:4eec70ee-61f4-4cab-8137-f00a9e5c8983 ]] {\r\n",
       "}\r\n",
       "}\r\n",
       "@enduml\r\n",
       "\n",
       "PlantUML version 1.2020.13(Sat Jun 13 12:26:38 UTC 2020)\n",
       "(EPL source distribution)\n",
       "Java Runtime: OpenJDK Runtime Environment\n",
       "JVM: OpenJDK 64-Bit Server VM\n",
       "Default Encoding: UTF-8\n",
       "Language: en\n",
       "Country: null\n",
       "--></g></svg>"
      ]
     },
     "execution_count": 21,
     "metadata": {},
     "output_type": "execute_result"
    }
   ],
   "source": [
    "%viz --style=\"LR\" --view=\"Sequence\" \"ActionTest\""
   ]
  },
  {
   "cell_type": "code",
   "execution_count": 22,
   "id": "ed14b855",
   "metadata": {
    "execution": {
     "iopub.execute_input": "2021-05-27T06:08:01.372993Z",
     "iopub.status.busy": "2021-05-27T06:08:01.372128Z",
     "iopub.status.idle": "2021-05-27T06:08:01.419880Z",
     "shell.execute_reply": "2021-05-27T06:08:01.418695Z"
    }
   },
   "outputs": [
    {
     "data": {
      "image/svg+xml": [
       "<?xml version=\"1.0\" encoding=\"UTF-8\" standalone=\"no\"?><svg xmlns=\"http://www.w3.org/2000/svg\" xmlns:xlink=\"http://www.w3.org/1999/xlink\" contentScriptType=\"application/ecmascript\" contentStyleType=\"text/css\" height=\"378px\" preserveAspectRatio=\"none\" style=\"width:867px;height:378px;\" version=\"1.1\" viewBox=\"0 0 867 378\" width=\"867px\" zoomAndPan=\"magnify\"><defs/><g><!--MD5=[fbc87193dbaf4d95561dea2c320d4a47]\n",
       "cluster E1--><a href=\"psysml:fba87211-d6a8-40ff-8d47-80f3cbac0e83\" target=\"_top\" title=\"psysml:fba87211-d6a8-40ff-8d47-80f3cbac0e83\" xlink:actuate=\"onRequest\" xlink:href=\"psysml:fba87211-d6a8-40ff-8d47-80f3cbac0e83\" xlink:show=\"new\" xlink:title=\"psysml:fba87211-d6a8-40ff-8d47-80f3cbac0e83\" xlink:type=\"simple\"><polygon fill=\"#FFFFFF\" points=\"16,6,107,6,114,28.2969,845,28.2969,845,366,16,366,16,6\" style=\"stroke: #000000; stroke-width: 1.5;\"/><line style=\"stroke: #000000; stroke-width: 1.5;\" x1=\"16\" x2=\"114\" y1=\"28.2969\" y2=\"28.2969\"/><text fill=\"#000000\" font-family=\"sans-serif\" font-size=\"14\" font-weight=\"bold\" lengthAdjust=\"spacingAndGlyphs\" textLength=\"85\" x=\"20\" y=\"20.9951\">ActionTest</text></a><!--MD5=[d5e69f78d87373223dbae638b30a9c99]\n",
       "cluster E3--><a href=\"psysml:ad4f18e6-c096-4c58-bb62-14a597e4442d\" target=\"_top\" title=\"psysml:ad4f18e6-c096-4c58-bb62-14a597e4442d\" xlink:actuate=\"onRequest\" xlink:href=\"psysml:ad4f18e6-c096-4c58-bb62-14a597e4442d\" xlink:show=\"new\" xlink:title=\"psysml:ad4f18e6-c096-4c58-bb62-14a597e4442d\" xlink:type=\"simple\"><rect fill=\"#FFFFFF\" height=\"160\" id=\"E3\" rx=\"10\" ry=\"10\" style=\"stroke: #383838; stroke-width: 1.5;\" width=\"767.5\" x=\"53.5\" y=\"49\"/><rect fill=\"#F8F8F8\" height=\"37.9375\" rx=\"10\" ry=\"10\" style=\"stroke: #F8F8F8; stroke-width: 1.5;\" width=\"767.5\" x=\"53.5\" y=\"49\"/><rect fill=\"#F8F8F8\" height=\"10\" style=\"stroke: #F8F8F8; stroke-width: 1.5;\" width=\"767.5\" x=\"53.5\" y=\"76.9375\"/><rect fill=\"none\" height=\"160\" id=\"E3\" rx=\"10\" ry=\"10\" style=\"stroke: #383838; stroke-width: 1.5;\" width=\"767.5\" x=\"53.5\" y=\"49\"/><text fill=\"#000000\" font-family=\"sans-serif\" font-size=\"12\" font-style=\"italic\" lengthAdjust=\"spacingAndGlyphs\" textLength=\"53\" x=\"410.75\" y=\"65.1387\">«action»</text><text fill=\"#000000\" font-family=\"sans-serif\" font-size=\"12\" lengthAdjust=\"spacingAndGlyphs\" textLength=\"8\" x=\"433.25\" y=\"79.1074\">a</text><line style=\"stroke: #383838; stroke-width: 1.0;\" x1=\"53.5\" x2=\"821\" y1=\"86.9375\" y2=\"86.9375\"/></a><!--MD5=[b4997ac47864f28c2f74865a473b2911]\n",
       "class E2--><a href=\"psysml:9e8a127b-f23f-41bc-b046-de56fba8ce50\" target=\"_top\" title=\"psysml:9e8a127b-f23f-41bc-b046-de56fba8ce50\" xlink:actuate=\"onRequest\" xlink:href=\"psysml:9e8a127b-f23f-41bc-b046-de56fba8ce50\" xlink:show=\"new\" xlink:title=\"psysml:9e8a127b-f23f-41bc-b046-de56fba8ce50\" xlink:type=\"simple\"><rect fill=\"#FFFFFF\" height=\"45.9375\" id=\"E2\" style=\"stroke: #383838; stroke-width: 1.5;\" width=\"95\" x=\"32\" y=\"225\"/><text fill=\"#000000\" font-family=\"sans-serif\" font-size=\"12\" font-style=\"italic\" lengthAdjust=\"spacingAndGlyphs\" textLength=\"93\" x=\"33\" y=\"241.1387\">«attribute def»</text><text fill=\"#000000\" font-family=\"sans-serif\" font-size=\"12\" lengthAdjust=\"spacingAndGlyphs\" textLength=\"8\" x=\"75.5\" y=\"255.1074\">S</text><line style=\"stroke: #383838; stroke-width: 1.5;\" x1=\"33\" x2=\"126\" y1=\"262.9375\" y2=\"262.9375\"/></a><polygon fill=\"#F8F8F8\" points=\"200,114,212,126,200,138,188,126,200,114\" style=\"stroke: #383838; stroke-width: 1.5;\"/><!--MD5=[21dd76c19d33815960c0e92fef8f0eef]\n",
       "entity E5--><a href=\"psysml:ccfba6f1-4ce0-4ddd-afd5-b866d68d47d7\" target=\"_top\" title=\"psysml:ccfba6f1-4ce0-4ddd-afd5-b866d68d47d7\" xlink:actuate=\"onRequest\" xlink:href=\"psysml:ccfba6f1-4ce0-4ddd-afd5-b866d68d47d7\" xlink:show=\"new\" xlink:title=\"psysml:ccfba6f1-4ce0-4ddd-afd5-b866d68d47d7\" xlink:type=\"simple\"><polygon fill=\"#F8F8F8\" points=\"273,137.5,273,192.0938,413,192.0938,393,164.7969,413,137.5\" style=\"stroke: #000000; stroke-width: 1.5;\"/><text fill=\"#000000\" font-family=\"sans-serif\" font-size=\"14\" font-style=\"italic\" lengthAdjust=\"spacingAndGlyphs\" textLength=\"111\" x=\"280\" y=\"160.4951\">«accept action»</text><text fill=\"#000000\" font-family=\"sans-serif\" font-size=\"14\" lengthAdjust=\"spacingAndGlyphs\" textLength=\"9\" x=\"331\" y=\"177.792\">S</text></a><!--MD5=[24d87cdf3002d433f401b2a2aa9f9f65]\n",
       "entity E6--><a href=\"psysml:f31bbeb6-49c7-47f4-9bac-592fafbdce16\" target=\"_top\" title=\"psysml:f31bbeb6-49c7-47f4-9bac-592fafbdce16\" xlink:actuate=\"onRequest\" xlink:href=\"psysml:f31bbeb6-49c7-47f4-9bac-592fafbdce16\" xlink:show=\"new\" xlink:title=\"psysml:f31bbeb6-49c7-47f4-9bac-592fafbdce16\" xlink:type=\"simple\"><polygon fill=\"#F8F8F8\" points=\"511,137.5,511,192.0938,619,192.0938,639,164.7969,619,137.5\" style=\"stroke: #000000; stroke-width: 1.5;\"/><text fill=\"#000000\" font-family=\"sans-serif\" font-size=\"14\" font-style=\"italic\" lengthAdjust=\"spacingAndGlyphs\" textLength=\"99\" x=\"518\" y=\"160.4951\">«send action»</text><text fill=\"#000000\" font-family=\"sans-serif\" font-size=\"14\" lengthAdjust=\"spacingAndGlyphs\" textLength=\"65\" x=\"535\" y=\"177.792\">S() to  B()</text></a><polygon fill=\"#F8F8F8\" points=\"712,114,724,126,712,138,700,126,712,114\" style=\"stroke: #383838; stroke-width: 1.5;\"/><ellipse cx=\"79.5\" cy=\"126\" fill=\"#000000\" rx=\"10\" ry=\"10\" style=\"stroke: none; stroke-width: 1.0;\"/><ellipse cx=\"795\" cy=\"126\" fill=\"none\" rx=\"10\" ry=\"10\" style=\"stroke: #000000; stroke-width: 1.0;\"/><ellipse cx=\"795.5\" cy=\"126.5\" fill=\"#000000\" rx=\"6\" ry=\"6\" style=\"stroke: none; stroke-width: 1.0;\"/><g id=\"E1.E8\"><a href=\"psysml:4eec70ee-61f4-4cab-8137-f00a9e5c8983\" target=\"_top\" title=\"psysml:4eec70ee-61f4-4cab-8137-f00a9e5c8983\" xlink:actuate=\"onRequest\" xlink:href=\"psysml:4eec70ee-61f4-4cab-8137-f00a9e5c8983\" xlink:show=\"new\" xlink:title=\"psysml:4eec70ee-61f4-4cab-8137-f00a9e5c8983\" xlink:type=\"simple\"><rect fill=\"#FFFFFF\" height=\"42.9375\" id=\"E8\" style=\"stroke: #383838; stroke-width: 1.5;\" width=\"84\" x=\"37.5\" y=\"306.5\"/><rect fill=\"#F8F8F8\" height=\"37.9375\" style=\"stroke: #383838; stroke-width: 1.5;\" width=\"84\" x=\"37.5\" y=\"306.5\"/><text fill=\"#000000\" font-family=\"sans-serif\" font-size=\"12\" font-style=\"italic\" lengthAdjust=\"spacingAndGlyphs\" textLength=\"77\" x=\"41\" y=\"322.6387\">«action def»</text><text fill=\"#000000\" font-family=\"sans-serif\" font-size=\"12\" lengthAdjust=\"spacingAndGlyphs\" textLength=\"8\" x=\"75.5\" y=\"336.6074\">B</text></a></g><!--MD5=[f47e10efcf9a6752d55dae986d790ed9]\n",
       "link *start*E3 to E4--><a href=\"psysml:03e50e83-6fc7-46a8-8453-213dc2aae23c\" target=\"_top\" title=\"psysml:03e50e83-6fc7-46a8-8453-213dc2aae23c\" xlink:actuate=\"onRequest\" xlink:href=\"psysml:03e50e83-6fc7-46a8-8453-213dc2aae23c\" xlink:show=\"new\" xlink:title=\"psysml:03e50e83-6fc7-46a8-8453-213dc2aae23c\" xlink:type=\"simple\"><path d=\"M89.8,126 C109.87,126 157.46,126 182.68,126 \" fill=\"none\" id=\"*start*E3-&gt;E4\" style=\"stroke: #383838; stroke-width: 1.0;\"/><polygon fill=\"#383838\" points=\"187.7,126,178.7,122,182.7,126,178.7,130,187.7,126\" style=\"stroke: #383838; stroke-width: 1.0;\"/></a><!--MD5=[d19f2eb34364d71b67042106d92f540b]\n",
       "link E7 to *end*E3--><a href=\"psysml:c4a668a6-d0f8-468f-9890-a338c2ee16ef\" target=\"_top\" title=\"psysml:c4a668a6-d0f8-468f-9890-a338c2ee16ef\" xlink:actuate=\"onRequest\" xlink:href=\"psysml:c4a668a6-d0f8-468f-9890-a338c2ee16ef\" xlink:show=\"new\" xlink:title=\"psysml:c4a668a6-d0f8-468f-9890-a338c2ee16ef\" xlink:type=\"simple\"><path d=\"M724.26,126 C738.66,126 763.63,126 779.46,126 \" fill=\"none\" id=\"E7-&gt;*end*E3\" style=\"stroke: #383838; stroke-width: 1.0;\"/><polygon fill=\"#383838\" points=\"784.84,126,775.84,122,779.84,126,775.84,130,784.84,126\" style=\"stroke: #383838; stroke-width: 1.0;\"/></a><!--MD5=[1b7591eae5389033d8d09a9d6721a717]\n",
       "link E4 to E5--><a href=\"psysml:f95480df-9a63-41d1-9e12-1ec6bb9c61dc\" target=\"_top\" title=\"psysml:f95480df-9a63-41d1-9e12-1ec6bb9c61dc\" xlink:actuate=\"onRequest\" xlink:href=\"psysml:f95480df-9a63-41d1-9e12-1ec6bb9c61dc\" xlink:show=\"new\" xlink:title=\"psysml:f95480df-9a63-41d1-9e12-1ec6bb9c61dc\" xlink:type=\"simple\"><path d=\"M209.82,128.44 C221.87,131.77 244.64,138.07 267.93,144.51 \" fill=\"none\" id=\"E4-&gt;E5\" style=\"stroke: #383838; stroke-width: 1.0;\"/><polygon fill=\"#383838\" points=\"272.9,145.89,265.2884,139.6399,268.0802,144.5599,263.1602,147.3517,272.9,145.89\" style=\"stroke: #383838; stroke-width: 1.0;\"/></a><!--MD5=[9120cf2e5df3bff93db8f754bbbc09b4]\n",
       "link E5 to E6--><a href=\"psysml:73484f54-b4d2-4298-bed2-8c418bf31093\" target=\"_top\" title=\"psysml:73484f54-b4d2-4298-bed2-8c418bf31093\" xlink:actuate=\"onRequest\" xlink:href=\"psysml:73484f54-b4d2-4298-bed2-8c418bf31093\" xlink:show=\"new\" xlink:title=\"psysml:73484f54-b4d2-4298-bed2-8c418bf31093\" xlink:type=\"simple\"><path d=\"M413.01,165 C442.4,165 476.6,165 505.89,165 \" fill=\"none\" id=\"E5-&gt;E6\" style=\"stroke: #383838; stroke-width: 1.0;\"/><polygon fill=\"#383838\" points=\"510.93,165,501.93,161,505.93,165,501.93,169,510.93,165\" style=\"stroke: #383838; stroke-width: 1.0;\"/></a><!--MD5=[02c70b7c851c11e3980e4e90450dc5dd]\n",
       "link E6 to E7--><a href=\"psysml:860bf181-ae5a-4d8b-9cc8-c19fc893dd3f\" target=\"_top\" title=\"psysml:860bf181-ae5a-4d8b-9cc8-c19fc893dd3f\" xlink:actuate=\"onRequest\" xlink:href=\"psysml:860bf181-ae5a-4d8b-9cc8-c19fc893dd3f\" xlink:show=\"new\" xlink:title=\"psysml:860bf181-ae5a-4d8b-9cc8-c19fc893dd3f\" xlink:type=\"simple\"><path d=\"M639.15,146.76 C660.96,140.46 683.38,133.98 697.25,129.97 \" fill=\"none\" id=\"E6-&gt;E7\" style=\"stroke: #383838; stroke-width: 1.0;\"/><polygon fill=\"#383838\" points=\"702.29,128.51,692.5337,127.1632,697.4862,129.8968,694.7526,134.8493,702.29,128.51\" style=\"stroke: #383838; stroke-width: 1.0;\"/></a><!--MD5=[6bdd27f9905911a7e892a3dc65cf6b7c]\n",
       "link E7 to E4--><a href=\"psysml:227ffbe5-5fbb-4b69-bf2e-f462a1a2545e\" target=\"_top\" title=\"psysml:227ffbe5-5fbb-4b69-bf2e-f462a1a2545e\" xlink:actuate=\"onRequest\" xlink:href=\"psysml:227ffbe5-5fbb-4b69-bf2e-f462a1a2545e\" xlink:show=\"new\" xlink:title=\"psysml:227ffbe5-5fbb-4b69-bf2e-f462a1a2545e\" xlink:type=\"simple\"><path d=\"M700.76,124.88 C686.82,123.41 661.06,120.92 639,120 C476.47,113.24 435.53,113.24 273,120 C253.36,120.82 230.77,122.88 216.22,124.36 \" fill=\"none\" id=\"E7-&gt;E4\" style=\"stroke: #383838; stroke-width: 1.0;\"/><polygon fill=\"#383838\" points=\"211.24,124.88,220.6038,127.9327,216.2135,124.3655,219.7806,119.9751,211.24,124.88\" style=\"stroke: #383838; stroke-width: 1.0;\"/><text fill=\"#000000\" font-family=\"sans-serif\" font-size=\"13\" lengthAdjust=\"spacingAndGlyphs\" textLength=\"36\" x=\"444\" y=\"111.0669\">[true]</text></a><!--MD5=[6e9d39283b737f10652d41d0b5b0b86b]\n",
       "@startuml\r\n",
       "left to right direction\r\n",
       "skinparam monochrome true\r\n",
       "skinparam classbackgroundcolor white\r\n",
       "skinparam shadowing false\r\n",
       "skinparam wrapWidth 300\r\n",
       "hide circle\r\n",
       "\r\n",
       "package \"ActionTest\" as E1  [[psysml:fba87211-d6a8-40ff-8d47-80f3cbac0e83 ]]  {\r\n",
       "comp def \"S\" as E2  <<(T,blue)attribute def>> [[psysml:9e8a127b-f23f-41bc-b046-de56fba8ce50 ]] {\r\n",
       "}\r\n",
       "rec usage \"a\" as E3  <<(T,blue)action>> [[psysml:ad4f18e6-c096-4c58-bb62-14a597e4442d ]] {\r\n",
       "choice \"m\" as E4  [[psysml:e85a3052-7a7b-4311-97f8-bb0216d1246f ]] \r\n",
       "accept \" S\" as E5 <<accept action>> [[psysml:ccfba6f1-4ce0-4ddd-afd5-b866d68d47d7 ]] \r\n",
       "send \" S() to  B()\" as E6 <<send action>> [[psysml:f31bbeb6-49c7-47f4-9bac-592fafbdce16 ]] \r\n",
       "choice \"noname\" as E7  [[psysml:7507dc2c-9b39-4c30-b0ef-dd6a627e8c4c ]] \r\n",
       "[*] - -> E4 [[psysml:03e50e83-6fc7-46a8-8453-213dc2aae23c ]] \r\n",
       "E7  - -> [*] [[psysml:c4a668a6-d0f8-468f-9890-a338c2ee16ef ]] \r\n",
       "}\r\n",
       "\r\n",
       "rec def \"B\" as E8  <<(T,blue)action def>> [[psysml:4eec70ee-61f4-4cab-8137-f00a9e5c8983 ]] {\r\n",
       "}\r\n",
       "\r\n",
       "E4 - -> E5 [[psysml:f95480df-9a63-41d1-9e12-1ec6bb9c61dc ]] \r\n",
       "E5 - -> E6 [[psysml:73484f54-b4d2-4298-bed2-8c418bf31093 ]] \r\n",
       "E6 - -> E7 [[psysml:860bf181-ae5a-4d8b-9cc8-c19fc893dd3f ]] \r\n",
       "E7  - -> E4 [[psysml:227ffbe5-5fbb-4b69-bf2e-f462a1a2545e ]] : [true]\r\n",
       "}\r\n",
       "@enduml\r\n",
       "\n",
       "PlantUML version 1.2020.13(Sat Jun 13 12:26:38 UTC 2020)\n",
       "(EPL source distribution)\n",
       "Java Runtime: OpenJDK Runtime Environment\n",
       "JVM: OpenJDK 64-Bit Server VM\n",
       "Default Encoding: UTF-8\n",
       "Language: en\n",
       "Country: null\n",
       "--></g></svg>"
      ]
     },
     "execution_count": 22,
     "metadata": {},
     "output_type": "execute_result"
    }
   ],
   "source": [
    "%viz --style=\"LR\" --view=\"MIXED\" \"ActionTest\""
   ]
  },
  {
   "cell_type": "code",
   "execution_count": 23,
   "id": "f2e12266",
   "metadata": {
    "execution": {
     "iopub.execute_input": "2021-05-27T06:08:01.472726Z",
     "iopub.status.busy": "2021-05-27T06:08:01.471741Z",
     "iopub.status.idle": "2021-05-27T06:08:01.513981Z",
     "shell.execute_reply": "2021-05-27T06:08:01.512673Z"
    }
   },
   "outputs": [
    {
     "data": {
      "image/svg+xml": [
       "<?xml version=\"1.0\" encoding=\"UTF-8\" standalone=\"no\"?><svg xmlns=\"http://www.w3.org/2000/svg\" xmlns:xlink=\"http://www.w3.org/1999/xlink\" contentScriptType=\"application/ecmascript\" contentStyleType=\"text/css\" height=\"684px\" preserveAspectRatio=\"none\" style=\"width:518px;height:684px;\" version=\"1.1\" viewBox=\"0 0 518 684\" width=\"518px\" zoomAndPan=\"magnify\"><defs><filter height=\"300%\" id=\"f1xgv5pk0u09oe\" width=\"300%\" x=\"-1\" y=\"-1\"><feGaussianBlur result=\"blurOut\" stdDeviation=\"2.0\"/><feColorMatrix in=\"blurOut\" result=\"blurOut2\" type=\"matrix\" values=\"0 0 0 0 0 0 0 0 0 0 0 0 0 0 0 0 0 0 .4 0\"/><feOffset dx=\"4.0\" dy=\"4.0\" in=\"blurOut2\" result=\"blurOut3\"/><feBlend in=\"SourceGraphic\" in2=\"blurOut3\" mode=\"normal\"/></filter></defs><g><!--MD5=[fbc87193dbaf4d95561dea2c320d4a47]\n",
       "cluster E1--><a href=\"psysml:fba87211-d6a8-40ff-8d47-80f3cbac0e83\" target=\"_top\" title=\"psysml:fba87211-d6a8-40ff-8d47-80f3cbac0e83\" xlink:actuate=\"onRequest\" xlink:href=\"psysml:fba87211-d6a8-40ff-8d47-80f3cbac0e83\" xlink:show=\"new\" xlink:title=\"psysml:fba87211-d6a8-40ff-8d47-80f3cbac0e83\" xlink:type=\"simple\"><polygon fill=\"#FFFFFF\" filter=\"url(#f1xgv5pk0u09oe)\" points=\"16,6,107,6,114,28.2969,496,28.2969,496,672,16,672,16,6\" style=\"stroke: #000000; stroke-width: 1.5;\"/><line style=\"stroke: #000000; stroke-width: 1.5;\" x1=\"16\" x2=\"114\" y1=\"28.2969\" y2=\"28.2969\"/><text fill=\"#000000\" font-family=\"sans-serif\" font-size=\"14\" font-weight=\"bold\" lengthAdjust=\"spacingAndGlyphs\" textLength=\"85\" x=\"20\" y=\"20.9951\">ActionTest</text></a><!--MD5=[d5e69f78d87373223dbae638b30a9c99]\n",
       "cluster E3--><a href=\"psysml:ad4f18e6-c096-4c58-bb62-14a597e4442d\" target=\"_top\" title=\"psysml:ad4f18e6-c096-4c58-bb62-14a597e4442d\" xlink:actuate=\"onRequest\" xlink:href=\"psysml:ad4f18e6-c096-4c58-bb62-14a597e4442d\" xlink:show=\"new\" xlink:title=\"psysml:ad4f18e6-c096-4c58-bb62-14a597e4442d\" xlink:type=\"simple\"><rect fill=\"#FFFFFF\" filter=\"url(#f1xgv5pk0u09oe)\" height=\"599\" id=\"E3\" rx=\"10\" ry=\"10\" style=\"stroke: #A80036; stroke-width: 1.5;\" width=\"209\" x=\"263\" y=\"49\"/><rect fill=\"#FEFECE\" height=\"37.9375\" rx=\"10\" ry=\"10\" style=\"stroke: #FEFECE; stroke-width: 1.5;\" width=\"209\" x=\"263\" y=\"49\"/><rect fill=\"#FEFECE\" height=\"10\" style=\"stroke: #FEFECE; stroke-width: 1.5;\" width=\"209\" x=\"263\" y=\"76.9375\"/><rect fill=\"none\" height=\"599\" id=\"E3\" rx=\"10\" ry=\"10\" style=\"stroke: #A80036; stroke-width: 1.5;\" width=\"209\" x=\"263\" y=\"49\"/><text fill=\"#000000\" font-family=\"sans-serif\" font-size=\"12\" font-style=\"italic\" lengthAdjust=\"spacingAndGlyphs\" textLength=\"53\" x=\"341\" y=\"65.1387\">«action»</text><text fill=\"#000000\" font-family=\"sans-serif\" font-size=\"12\" lengthAdjust=\"spacingAndGlyphs\" textLength=\"8\" x=\"363.5\" y=\"79.1074\">a</text><line style=\"stroke: #A80036; stroke-width: 1.0;\" x1=\"263\" x2=\"472\" y1=\"86.9375\" y2=\"86.9375\"/></a><!--MD5=[b4997ac47864f28c2f74865a473b2911]\n",
       "class E2--><a href=\"psysml:9e8a127b-f23f-41bc-b046-de56fba8ce50\" target=\"_top\" title=\"psysml:9e8a127b-f23f-41bc-b046-de56fba8ce50\" xlink:actuate=\"onRequest\" xlink:href=\"psysml:9e8a127b-f23f-41bc-b046-de56fba8ce50\" xlink:show=\"new\" xlink:title=\"psysml:9e8a127b-f23f-41bc-b046-de56fba8ce50\" xlink:type=\"simple\"><rect fill=\"#FEFECE\" filter=\"url(#f1xgv5pk0u09oe)\" height=\"45.9375\" id=\"E2\" style=\"stroke: #A80036; stroke-width: 1.5;\" width=\"95\" x=\"151.5\" y=\"87\"/><text fill=\"#000000\" font-family=\"sans-serif\" font-size=\"12\" font-style=\"italic\" lengthAdjust=\"spacingAndGlyphs\" textLength=\"93\" x=\"152.5\" y=\"103.1387\">«attribute def»</text><text fill=\"#000000\" font-family=\"sans-serif\" font-size=\"12\" lengthAdjust=\"spacingAndGlyphs\" textLength=\"8\" x=\"195\" y=\"117.1074\">S</text><line style=\"stroke: #A80036; stroke-width: 1.5;\" x1=\"152.5\" x2=\"245.5\" y1=\"124.9375\" y2=\"124.9375\"/></a><polygon fill=\"#FEFECE\" filter=\"url(#f1xgv5pk0u09oe)\" points=\"420,194,432,206,420,218,408,206,420,194\" style=\"stroke: #A80036; stroke-width: 1.5;\"/><!--MD5=[21dd76c19d33815960c0e92fef8f0eef]\n",
       "entity E5--><a href=\"psysml:ccfba6f1-4ce0-4ddd-afd5-b866d68d47d7\" target=\"_top\" title=\"psysml:ccfba6f1-4ce0-4ddd-afd5-b866d68d47d7\" xlink:actuate=\"onRequest\" xlink:href=\"psysml:ccfba6f1-4ce0-4ddd-afd5-b866d68d47d7\" xlink:show=\"new\" xlink:title=\"psysml:ccfba6f1-4ce0-4ddd-afd5-b866d68d47d7\" xlink:type=\"simple\"><polygon fill=\"#FEFECE\" filter=\"url(#f1xgv5pk0u09oe)\" points=\"279,279,279,333.5938,419,333.5938,399,306.2969,419,279\" style=\"stroke: #000000; stroke-width: 1.5;\"/><text fill=\"#000000\" font-family=\"sans-serif\" font-size=\"14\" font-style=\"italic\" lengthAdjust=\"spacingAndGlyphs\" textLength=\"111\" x=\"286\" y=\"301.9951\">«accept action»</text><text fill=\"#000000\" font-family=\"sans-serif\" font-size=\"14\" lengthAdjust=\"spacingAndGlyphs\" textLength=\"9\" x=\"337\" y=\"319.292\">S</text></a><!--MD5=[24d87cdf3002d433f401b2a2aa9f9f65]\n",
       "entity E6--><a href=\"psysml:f31bbeb6-49c7-47f4-9bac-592fafbdce16\" target=\"_top\" title=\"psysml:f31bbeb6-49c7-47f4-9bac-592fafbdce16\" xlink:actuate=\"onRequest\" xlink:href=\"psysml:f31bbeb6-49c7-47f4-9bac-592fafbdce16\" xlink:show=\"new\" xlink:title=\"psysml:f31bbeb6-49c7-47f4-9bac-592fafbdce16\" xlink:type=\"simple\"><polygon fill=\"#FEFECE\" filter=\"url(#f1xgv5pk0u09oe)\" points=\"279,411,279,465.5938,387,465.5938,407,438.2969,387,411\" style=\"stroke: #000000; stroke-width: 1.5;\"/><text fill=\"#000000\" font-family=\"sans-serif\" font-size=\"14\" font-style=\"italic\" lengthAdjust=\"spacingAndGlyphs\" textLength=\"99\" x=\"286\" y=\"433.9951\">«send action»</text><text fill=\"#000000\" font-family=\"sans-serif\" font-size=\"14\" lengthAdjust=\"spacingAndGlyphs\" textLength=\"65\" x=\"303\" y=\"451.292\">S() to  B()</text></a><polygon fill=\"#FEFECE\" filter=\"url(#f1xgv5pk0u09oe)\" points=\"418,527,430,539,418,551,406,539,418,527\" style=\"stroke: #A80036; stroke-width: 1.5;\"/><ellipse cx=\"420\" cy=\"110\" fill=\"#000000\" filter=\"url(#f1xgv5pk0u09oe)\" rx=\"10\" ry=\"10\" style=\"stroke: none; stroke-width: 1.0;\"/><ellipse cx=\"418\" cy=\"622\" fill=\"none\" filter=\"url(#f1xgv5pk0u09oe)\" rx=\"10\" ry=\"10\" style=\"stroke: #000000; stroke-width: 1.0;\"/><ellipse cx=\"418.5\" cy=\"622.5\" fill=\"#000000\" rx=\"6\" ry=\"6\" style=\"stroke: none; stroke-width: 1.0;\"/><g id=\"E1.E8\"><a href=\"psysml:4eec70ee-61f4-4cab-8137-f00a9e5c8983\" target=\"_top\" title=\"psysml:4eec70ee-61f4-4cab-8137-f00a9e5c8983\" xlink:actuate=\"onRequest\" xlink:href=\"psysml:4eec70ee-61f4-4cab-8137-f00a9e5c8983\" xlink:show=\"new\" xlink:title=\"psysml:4eec70ee-61f4-4cab-8137-f00a9e5c8983\" xlink:type=\"simple\"><rect fill=\"#FEFECE\" filter=\"url(#f1xgv5pk0u09oe)\" height=\"42.9375\" id=\"E8\" style=\"stroke: #A80036; stroke-width: 1.5;\" width=\"84\" x=\"32\" y=\"88.5\"/><text fill=\"#000000\" font-family=\"sans-serif\" font-size=\"12\" font-style=\"italic\" lengthAdjust=\"spacingAndGlyphs\" textLength=\"77\" x=\"35.5\" y=\"104.6387\">«action def»</text><text fill=\"#000000\" font-family=\"sans-serif\" font-size=\"12\" lengthAdjust=\"spacingAndGlyphs\" textLength=\"8\" x=\"70\" y=\"118.6074\">B</text></a></g><!--MD5=[f47e10efcf9a6752d55dae986d790ed9]\n",
       "link *start*E3 to E4--><a href=\"psysml:03e50e83-6fc7-46a8-8453-213dc2aae23c\" target=\"_top\" title=\"psysml:03e50e83-6fc7-46a8-8453-213dc2aae23c\" xlink:actuate=\"onRequest\" xlink:href=\"psysml:03e50e83-6fc7-46a8-8453-213dc2aae23c\" xlink:show=\"new\" xlink:title=\"psysml:03e50e83-6fc7-46a8-8453-213dc2aae23c\" xlink:type=\"simple\"><path d=\"M420,120.01 C420,135.81 420,168.69 420,188.61 \" fill=\"none\" id=\"*start*E3-&gt;E4\" style=\"stroke: #A80036; stroke-width: 1.0;\"/><polygon fill=\"#A80036\" points=\"420,193.85,424,184.85,420,188.85,416,184.85,420,193.85\" style=\"stroke: #A80036; stroke-width: 1.0;\"/></a><!--MD5=[d19f2eb34364d71b67042106d92f540b]\n",
       "link E7 to *end*E3--><a href=\"psysml:c4a668a6-d0f8-468f-9890-a338c2ee16ef\" target=\"_top\" title=\"psysml:c4a668a6-d0f8-468f-9890-a338c2ee16ef\" xlink:actuate=\"onRequest\" xlink:href=\"psysml:c4a668a6-d0f8-468f-9890-a338c2ee16ef\" xlink:show=\"new\" xlink:title=\"psysml:c4a668a6-d0f8-468f-9890-a338c2ee16ef\" xlink:type=\"simple\"><path d=\"M418,551.26 C418,565.66 418,590.63 418,606.46 \" fill=\"none\" id=\"E7-&gt;*end*E3\" style=\"stroke: #A80036; stroke-width: 1.0;\"/><polygon fill=\"#A80036\" points=\"418,611.84,422,602.84,418,606.84,414,602.84,418,611.84\" style=\"stroke: #A80036; stroke-width: 1.0;\"/></a><!--MD5=[1b7591eae5389033d8d09a9d6721a717]\n",
       "link E4 to E5--><a href=\"psysml:f95480df-9a63-41d1-9e12-1ec6bb9c61dc\" target=\"_top\" title=\"psysml:f95480df-9a63-41d1-9e12-1ec6bb9c61dc\" xlink:actuate=\"onRequest\" xlink:href=\"psysml:f95480df-9a63-41d1-9e12-1ec6bb9c61dc\" xlink:show=\"new\" xlink:title=\"psysml:f95480df-9a63-41d1-9e12-1ec6bb9c61dc\" xlink:type=\"simple\"><path d=\"M415.34,213.46 C406.55,225.66 386.99,252.8 371.37,274.46 \" fill=\"none\" id=\"E4-&gt;E5\" style=\"stroke: #A80036; stroke-width: 1.0;\"/><polygon fill=\"#A80036\" points=\"368.31,278.71,376.8093,273.7339,371.227,274.6491,370.3119,269.0667,368.31,278.71\" style=\"stroke: #A80036; stroke-width: 1.0;\"/></a><!--MD5=[9120cf2e5df3bff93db8f754bbbc09b4]\n",
       "link E5 to E6--><a href=\"psysml:73484f54-b4d2-4298-bed2-8c418bf31093\" target=\"_top\" title=\"psysml:73484f54-b4d2-4298-bed2-8c418bf31093\" xlink:actuate=\"onRequest\" xlink:href=\"psysml:73484f54-b4d2-4298-bed2-8c418bf31093\" xlink:show=\"new\" xlink:title=\"psysml:73484f54-b4d2-4298-bed2-8c418bf31093\" xlink:type=\"simple\"><path d=\"M347.77,334.12 C346.81,354.89 345.48,383.8 344.46,405.77 \" fill=\"none\" id=\"E5-&gt;E6\" style=\"stroke: #A80036; stroke-width: 1.0;\"/><polygon fill=\"#A80036\" points=\"344.23,410.91,348.6368,402.1021,344.4583,405.9152,340.6452,401.7367,344.23,410.91\" style=\"stroke: #A80036; stroke-width: 1.0;\"/></a><!--MD5=[02c70b7c851c11e3980e4e90450dc5dd]\n",
       "link E6 to E7--><a href=\"psysml:860bf181-ae5a-4d8b-9cc8-c19fc893dd3f\" target=\"_top\" title=\"psysml:860bf181-ae5a-4d8b-9cc8-c19fc893dd3f\" xlink:actuate=\"onRequest\" xlink:href=\"psysml:860bf181-ae5a-4d8b-9cc8-c19fc893dd3f\" xlink:show=\"new\" xlink:title=\"psysml:860bf181-ae5a-4d8b-9cc8-c19fc893dd3f\" xlink:type=\"simple\"><path d=\"M363.3,466.16 C378.71,486.4 399.07,513.14 410.09,527.61 \" fill=\"none\" id=\"E6-&gt;E7\" style=\"stroke: #A80036; stroke-width: 1.0;\"/><polygon fill=\"#A80036\" points=\"413.2,531.69,410.9398,522.104,410.1749,527.7089,404.57,526.9441,413.2,531.69\" style=\"stroke: #A80036; stroke-width: 1.0;\"/></a><!--MD5=[6bdd27f9905911a7e892a3dc65cf6b7c]\n",
       "link E7 to E4--><a href=\"psysml:227ffbe5-5fbb-4b69-bf2e-f462a1a2545e\" target=\"_top\" title=\"psysml:227ffbe5-5fbb-4b69-bf2e-f462a1a2545e\" xlink:actuate=\"onRequest\" xlink:href=\"psysml:227ffbe5-5fbb-4b69-bf2e-f462a1a2545e\" xlink:show=\"new\" xlink:title=\"psysml:227ffbe5-5fbb-4b69-bf2e-f462a1a2545e\" xlink:type=\"simple\"><path d=\"M419.98,528.56 C426.8,494.71 448.32,376.18 437,279 C434.59,258.32 428.42,234.96 424.21,220.61 \" fill=\"none\" id=\"E7-&gt;E4\" style=\"stroke: #A80036; stroke-width: 1.0;\"/><polygon fill=\"#A80036\" points=\"422.76,215.75,421.4935,225.5171,424.1863,220.5423,429.1611,223.2351,422.76,215.75\" style=\"stroke: #A80036; stroke-width: 1.0;\"/><text fill=\"#000000\" font-family=\"sans-serif\" font-size=\"13\" lengthAdjust=\"spacingAndGlyphs\" textLength=\"36\" x=\"440\" y=\"377.0669\">[true]</text></a><!--MD5=[dcb7a4c9c2947527aa00992b8689a644]\n",
       "@startuml\r\n",
       "skinparam wrapWidth 300\r\n",
       "hide circle\r\n",
       "\r\n",
       "package \"ActionTest\" as E1  [[psysml:fba87211-d6a8-40ff-8d47-80f3cbac0e83 ]]  {\r\n",
       "comp def \"S\" as E2  <<(T,blue)attribute def>> [[psysml:9e8a127b-f23f-41bc-b046-de56fba8ce50 ]] {\r\n",
       "}\r\n",
       "rec usage \"a\" as E3  <<(T,blue)action>> [[psysml:ad4f18e6-c096-4c58-bb62-14a597e4442d ]] {\r\n",
       "choice \"m\" as E4  [[psysml:e85a3052-7a7b-4311-97f8-bb0216d1246f ]] \r\n",
       "accept \" S\" as E5 <<accept action>> [[psysml:ccfba6f1-4ce0-4ddd-afd5-b866d68d47d7 ]] \r\n",
       "send \" S() to  B()\" as E6 <<send action>> [[psysml:f31bbeb6-49c7-47f4-9bac-592fafbdce16 ]] \r\n",
       "choice \"noname\" as E7  [[psysml:7507dc2c-9b39-4c30-b0ef-dd6a627e8c4c ]] \r\n",
       "[*] - -> E4 [[psysml:03e50e83-6fc7-46a8-8453-213dc2aae23c ]] \r\n",
       "E7  - -> [*] [[psysml:c4a668a6-d0f8-468f-9890-a338c2ee16ef ]] \r\n",
       "}\r\n",
       "\r\n",
       "rec def \"B\" as E8  <<(T,blue)action def>> [[psysml:4eec70ee-61f4-4cab-8137-f00a9e5c8983 ]] {\r\n",
       "}\r\n",
       "\r\n",
       "E4 - -> E5 [[psysml:f95480df-9a63-41d1-9e12-1ec6bb9c61dc ]] \r\n",
       "E5 - -> E6 [[psysml:73484f54-b4d2-4298-bed2-8c418bf31093 ]] \r\n",
       "E6 - -> E7 [[psysml:860bf181-ae5a-4d8b-9cc8-c19fc893dd3f ]] \r\n",
       "E7  - -> E4 [[psysml:227ffbe5-5fbb-4b69-bf2e-f462a1a2545e ]] : [true]\r\n",
       "}\r\n",
       "@enduml\r\n",
       "\n",
       "PlantUML version 1.2020.13(Sat Jun 13 12:26:38 UTC 2020)\n",
       "(EPL source distribution)\n",
       "Java Runtime: OpenJDK Runtime Environment\n",
       "JVM: OpenJDK 64-Bit Server VM\n",
       "Default Encoding: UTF-8\n",
       "Language: en\n",
       "Country: null\n",
       "--></g></svg>"
      ]
     },
     "execution_count": 23,
     "metadata": {},
     "output_type": "execute_result"
    }
   ],
   "source": [
    "%viz --style=\"STDCOLOR\" --view=\"Default\" \"ActionTest\""
   ]
  },
  {
   "cell_type": "code",
   "execution_count": 24,
   "id": "7b3d0e89",
   "metadata": {
    "execution": {
     "iopub.execute_input": "2021-05-27T06:08:01.567390Z",
     "iopub.status.busy": "2021-05-27T06:08:01.566776Z",
     "iopub.status.idle": "2021-05-27T06:08:01.664545Z",
     "shell.execute_reply": "2021-05-27T06:08:01.664219Z"
    }
   },
   "outputs": [
    {
     "data": {
      "image/svg+xml": [
       "<?xml version=\"1.0\" encoding=\"UTF-8\" standalone=\"no\"?><svg xmlns=\"http://www.w3.org/2000/svg\" xmlns:xlink=\"http://www.w3.org/1999/xlink\" contentScriptType=\"application/ecmascript\" contentStyleType=\"text/css\" height=\"175px\" preserveAspectRatio=\"none\" style=\"width:543px;height:175px;\" version=\"1.1\" viewBox=\"0 0 543 175\" width=\"543px\" zoomAndPan=\"magnify\"><defs><filter height=\"300%\" id=\"f1dpikmg9xvsxi\" width=\"300%\" x=\"-1\" y=\"-1\"><feGaussianBlur result=\"blurOut\" stdDeviation=\"2.0\"/><feColorMatrix in=\"blurOut\" result=\"blurOut2\" type=\"matrix\" values=\"0 0 0 0 0 0 0 0 0 0 0 0 0 0 0 0 0 0 .4 0\"/><feOffset dx=\"4.0\" dy=\"4.0\" in=\"blurOut2\" result=\"blurOut3\"/><feBlend in=\"SourceGraphic\" in2=\"blurOut3\" mode=\"normal\"/></filter></defs><g><!--MD5=[fbc87193dbaf4d95561dea2c320d4a47]\n",
       "cluster E1--><a href=\"psysml:fba87211-d6a8-40ff-8d47-80f3cbac0e83\" target=\"_top\" title=\"psysml:fba87211-d6a8-40ff-8d47-80f3cbac0e83\" xlink:actuate=\"onRequest\" xlink:href=\"psysml:fba87211-d6a8-40ff-8d47-80f3cbac0e83\" xlink:show=\"new\" xlink:title=\"psysml:fba87211-d6a8-40ff-8d47-80f3cbac0e83\" xlink:type=\"simple\"><polygon fill=\"#FFFFFF\" filter=\"url(#f1dpikmg9xvsxi)\" points=\"16,6,107,6,114,28.2969,521,28.2969,521,163,16,163,16,6\" style=\"stroke: #000000; stroke-width: 1.5;\"/><line style=\"stroke: #000000; stroke-width: 1.5;\" x1=\"16\" x2=\"114\" y1=\"28.2969\" y2=\"28.2969\"/><text fill=\"#000000\" font-family=\"sans-serif\" font-size=\"14\" font-weight=\"bold\" lengthAdjust=\"spacingAndGlyphs\" textLength=\"85\" x=\"20\" y=\"20.9951\">ActionTest</text></a><!--MD5=[b4997ac47864f28c2f74865a473b2911]\n",
       "class E2--><a href=\"psysml:9e8a127b-f23f-41bc-b046-de56fba8ce50\" target=\"_top\" title=\"psysml:9e8a127b-f23f-41bc-b046-de56fba8ce50\" xlink:actuate=\"onRequest\" xlink:href=\"psysml:9e8a127b-f23f-41bc-b046-de56fba8ce50\" xlink:show=\"new\" xlink:title=\"psysml:9e8a127b-f23f-41bc-b046-de56fba8ce50\" xlink:type=\"simple\"><rect fill=\"#FEFECE\" filter=\"url(#f1dpikmg9xvsxi)\" height=\"45.9375\" id=\"E2\" style=\"stroke: #A80036; stroke-width: 1.5;\" width=\"95\" x=\"409.5\" y=\"71\"/><text fill=\"#000000\" font-family=\"sans-serif\" font-size=\"12\" font-style=\"italic\" lengthAdjust=\"spacingAndGlyphs\" textLength=\"93\" x=\"410.5\" y=\"87.1387\">«attribute def»</text><text fill=\"#000000\" font-family=\"sans-serif\" font-size=\"12\" lengthAdjust=\"spacingAndGlyphs\" textLength=\"8\" x=\"453\" y=\"101.1074\">S</text><line style=\"stroke: #A80036; stroke-width: 1.5;\" x1=\"410.5\" x2=\"503.5\" y1=\"108.9375\" y2=\"108.9375\"/></a><!--MD5=[09b614a08d8cba4a07c9adeb5e0fee81]\n",
       "class E3--><a href=\"psysml:ad4f18e6-c096-4c58-bb62-14a597e4442d\" target=\"_top\" title=\"psysml:ad4f18e6-c096-4c58-bb62-14a597e4442d\" xlink:actuate=\"onRequest\" xlink:href=\"psysml:ad4f18e6-c096-4c58-bb62-14a597e4442d\" xlink:show=\"new\" xlink:title=\"psysml:ad4f18e6-c096-4c58-bb62-14a597e4442d\" xlink:type=\"simple\"><rect fill=\"#FEFECE\" filter=\"url(#f1dpikmg9xvsxi)\" height=\"106.1016\" id=\"E3\" rx=\"10\" ry=\"10\" style=\"stroke: #A80036; stroke-width: 1.5;\" width=\"228\" x=\"146\" y=\"41\"/><text fill=\"#000000\" font-family=\"sans-serif\" font-size=\"12\" font-style=\"italic\" lengthAdjust=\"spacingAndGlyphs\" textLength=\"53\" x=\"233.5\" y=\"57.1387\">«action»</text><text fill=\"#000000\" font-family=\"sans-serif\" font-size=\"12\" lengthAdjust=\"spacingAndGlyphs\" textLength=\"8\" x=\"256\" y=\"71.1074\">a</text><line style=\"stroke: #A80036; stroke-width: 1.5;\" x1=\"147\" x2=\"373\" y1=\"78.9375\" y2=\"78.9375\"/><path d=\"M153.9167,100.6589 L153.9167,109.8255 L154.8333,109.8255 L154.8333,100.6589 M157.5833,100.6589 L157.5833,109.8255 L164.9167,105.2422 L157.5833,100.6589 L158.5,102.0339 L163.5417,105.2422 L158.5,108.4505 L158.5,102.0339 \" fill=\"#000000\" style=\"stroke: ; stroke-width: 0.0; stroke-dasharray: ;\"/><text fill=\"#000000\" font-family=\"sans-serif\" font-size=\"11\" lengthAdjust=\"spacingAndGlyphs\" textLength=\"69\" x=\"169\" y=\"110.8979\">start: Action</text><text fill=\"#000000\" font-family=\"sans-serif\" font-size=\"11\" lengthAdjust=\"spacingAndGlyphs\" text-decoration=\"line-through\" textLength=\"126\" x=\"242\" y=\"110.8979\">Occurrence::startShot</text><line style=\"stroke: #A80036; stroke-width: 1.0;\" x1=\"147\" x2=\"239.5\" y1=\"93.3398\" y2=\"93.3398\"/><text fill=\"#000000\" font-family=\"sans-serif\" font-size=\"11\" lengthAdjust=\"spacingAndGlyphs\" textLength=\"41\" x=\"239.5\" y=\"96.6479\">actions</text><line style=\"stroke: #A80036; stroke-width: 1.0;\" x1=\"280.5\" x2=\"373\" y1=\"93.3398\" y2=\"93.3398\"/><text fill=\"#000000\" font-family=\"sans-serif\" font-size=\"11\" lengthAdjust=\"spacingAndGlyphs\" textLength=\"11\" x=\"152\" y=\"140.5073\">m</text><line style=\"stroke: #A80036; stroke-width: 1.0;\" x1=\"147\" x2=\"223.5\" y1=\"123.8945\" y2=\"123.8945\"/><text fill=\"#000000\" font-family=\"sans-serif\" font-size=\"11\" lengthAdjust=\"spacingAndGlyphs\" textLength=\"73\" x=\"223.5\" y=\"127.2026\">mergeNodes</text><line style=\"stroke: #A80036; stroke-width: 1.0;\" x1=\"296.5\" x2=\"373\" y1=\"123.8945\" y2=\"123.8945\"/></a><!--MD5=[60a26617385b1d2d0262a64233df1f8d]\n",
       "class E6--><a href=\"psysml:4eec70ee-61f4-4cab-8137-f00a9e5c8983\" target=\"_top\" title=\"psysml:4eec70ee-61f4-4cab-8137-f00a9e5c8983\" xlink:actuate=\"onRequest\" xlink:href=\"psysml:4eec70ee-61f4-4cab-8137-f00a9e5c8983\" xlink:show=\"new\" xlink:title=\"psysml:4eec70ee-61f4-4cab-8137-f00a9e5c8983\" xlink:type=\"simple\"><rect fill=\"#FEFECE\" filter=\"url(#f1dpikmg9xvsxi)\" height=\"45.9375\" id=\"E6\" style=\"stroke: #A80036; stroke-width: 1.5;\" width=\"79\" x=\"31.5\" y=\"71\"/><text fill=\"#000000\" font-family=\"sans-serif\" font-size=\"12\" font-style=\"italic\" lengthAdjust=\"spacingAndGlyphs\" textLength=\"77\" x=\"32.5\" y=\"87.1387\">«action def»</text><text fill=\"#000000\" font-family=\"sans-serif\" font-size=\"12\" lengthAdjust=\"spacingAndGlyphs\" textLength=\"8\" x=\"67\" y=\"101.1074\">B</text><line style=\"stroke: #A80036; stroke-width: 1.5;\" x1=\"32.5\" x2=\"109.5\" y1=\"108.9375\" y2=\"108.9375\"/></a><!--MD5=[92034941f1c3e75f26a52defad75a0d0]\n",
       "@startuml\r\n",
       "skinparam wrapWidth 300\r\n",
       "hide circle\r\n",
       "\r\n",
       "package \"ActionTest\" as E1  [[psysml:fba87211-d6a8-40ff-8d47-80f3cbac0e83 ]]  {\r\n",
       "comp def \"S\" as E2  <<(T,blue)attribute def>> [[psysml:9e8a127b-f23f-41bc-b046-de56fba8ce50 ]] {\r\n",
       "}\r\n",
       "comp usage \"a\" as E3  <<(T,blue)action>> [[psysml:ad4f18e6-c096-4c58-bb62-14a597e4442d ]] {\r\n",
       "- - actions - -\r\n",
       "<&bar-trig> start: Action <s>Occurrence::startShot</s>\r\n",
       "- - mergeNodes - -\r\n",
       "m\r\n",
       "}\r\n",
       "comp def \"B\" as E6  <<(T,blue)action def>> [[psysml:4eec70ee-61f4-4cab-8137-f00a9e5c8983 ]] {\r\n",
       "}\r\n",
       "}\r\n",
       "@enduml\r\n",
       "\n",
       "PlantUML version 1.2020.13(Sat Jun 13 12:26:38 UTC 2020)\n",
       "(EPL source distribution)\n",
       "Java Runtime: OpenJDK Runtime Environment\n",
       "JVM: OpenJDK 64-Bit Server VM\n",
       "Default Encoding: UTF-8\n",
       "Language: en\n",
       "Country: null\n",
       "--></g></svg>"
      ]
     },
     "execution_count": 24,
     "metadata": {},
     "output_type": "execute_result"
    }
   ],
   "source": [
    "%viz --style=\"STDCOLOR\" --view=\"Tree\" \"ActionTest\""
   ]
  },
  {
   "cell_type": "code",
   "execution_count": 25,
   "id": "65dad33b",
   "metadata": {
    "execution": {
     "iopub.execute_input": "2021-05-27T06:08:01.715474Z",
     "iopub.status.busy": "2021-05-27T06:08:01.715059Z",
     "iopub.status.idle": "2021-05-27T06:08:01.721019Z",
     "shell.execute_reply": "2021-05-27T06:08:01.720722Z"
    }
   },
   "outputs": [
    {
     "data": {
      "image/svg+xml": [
       "<?xml version=\"1.0\" encoding=\"UTF-8\" standalone=\"no\"?><svg xmlns=\"http://www.w3.org/2000/svg\" xmlns:xlink=\"http://www.w3.org/1999/xlink\" contentScriptType=\"application/ecmascript\" contentStyleType=\"text/css\" height=\"12px\" preserveAspectRatio=\"none\" style=\"width:12px;height:12px;\" version=\"1.1\" viewBox=\"0 0 12 12\" width=\"12px\" zoomAndPan=\"magnify\"><defs/><g><!--MD5=[aeeef50f102b80d730deb6443d14f702]\n",
       "@startuml\r\n",
       "skinparam wrapWidth 300\r\n",
       "hide circle\r\n",
       "\r\n",
       "@enduml\r\n",
       "\n",
       "PlantUML version 1.2020.13(Sat Jun 13 12:26:38 UTC 2020)\n",
       "(EPL source distribution)\n",
       "Java Runtime: OpenJDK Runtime Environment\n",
       "JVM: OpenJDK 64-Bit Server VM\n",
       "Default Encoding: UTF-8\n",
       "Language: en\n",
       "Country: null\n",
       "--></g></svg>"
      ]
     },
     "execution_count": 25,
     "metadata": {},
     "output_type": "execute_result"
    }
   ],
   "source": [
    "%viz --style=\"STDCOLOR\" --view=\"State\" \"ActionTest\""
   ]
  },
  {
   "cell_type": "code",
   "execution_count": 26,
   "id": "ccafa19a",
   "metadata": {
    "execution": {
     "iopub.execute_input": "2021-05-27T06:08:01.771371Z",
     "iopub.status.busy": "2021-05-27T06:08:01.770967Z",
     "iopub.status.idle": "2021-05-27T06:08:01.813912Z",
     "shell.execute_reply": "2021-05-27T06:08:01.813578Z"
    }
   },
   "outputs": [
    {
     "data": {
      "image/svg+xml": [
       "<?xml version=\"1.0\" encoding=\"UTF-8\" standalone=\"no\"?><svg xmlns=\"http://www.w3.org/2000/svg\" xmlns:xlink=\"http://www.w3.org/1999/xlink\" contentScriptType=\"application/ecmascript\" contentStyleType=\"text/css\" height=\"462px\" preserveAspectRatio=\"none\" style=\"width:522px;height:462px;\" version=\"1.1\" viewBox=\"0 0 522 462\" width=\"522px\" zoomAndPan=\"magnify\"><defs><filter height=\"300%\" id=\"f1k56shlivmjll\" width=\"300%\" x=\"-1\" y=\"-1\"><feGaussianBlur result=\"blurOut\" stdDeviation=\"2.0\"/><feColorMatrix in=\"blurOut\" result=\"blurOut2\" type=\"matrix\" values=\"0 0 0 0 0 0 0 0 0 0 0 0 0 0 0 0 0 0 .4 0\"/><feOffset dx=\"4.0\" dy=\"4.0\" in=\"blurOut2\" result=\"blurOut3\"/><feBlend in=\"SourceGraphic\" in2=\"blurOut3\" mode=\"normal\"/></filter></defs><g><!--MD5=[fbc87193dbaf4d95561dea2c320d4a47]\n",
       "cluster E1--><a href=\"psysml:fba87211-d6a8-40ff-8d47-80f3cbac0e83\" target=\"_top\" title=\"psysml:fba87211-d6a8-40ff-8d47-80f3cbac0e83\" xlink:actuate=\"onRequest\" xlink:href=\"psysml:fba87211-d6a8-40ff-8d47-80f3cbac0e83\" xlink:show=\"new\" xlink:title=\"psysml:fba87211-d6a8-40ff-8d47-80f3cbac0e83\" xlink:type=\"simple\"><polygon fill=\"#FFFFFF\" filter=\"url(#f1k56shlivmjll)\" points=\"16,6,107,6,114,28.2969,500,28.2969,500,450.5,16,450.5,16,6\" style=\"stroke: #000000; stroke-width: 1.5;\"/><line style=\"stroke: #000000; stroke-width: 1.5;\" x1=\"16\" x2=\"114\" y1=\"28.2969\" y2=\"28.2969\"/><text fill=\"#000000\" font-family=\"sans-serif\" font-size=\"14\" font-weight=\"bold\" lengthAdjust=\"spacingAndGlyphs\" textLength=\"85\" x=\"20\" y=\"20.9951\">ActionTest</text></a><!--MD5=[d5e69f78d87373223dbae638b30a9c99]\n",
       "cluster E3--><a href=\"psysml:ad4f18e6-c096-4c58-bb62-14a597e4442d\" target=\"_top\" title=\"psysml:ad4f18e6-c096-4c58-bb62-14a597e4442d\" xlink:actuate=\"onRequest\" xlink:href=\"psysml:ad4f18e6-c096-4c58-bb62-14a597e4442d\" xlink:show=\"new\" xlink:title=\"psysml:ad4f18e6-c096-4c58-bb62-14a597e4442d\" xlink:type=\"simple\"><rect fill=\"#FFFFFF\" filter=\"url(#f1k56shlivmjll)\" height=\"377.5\" id=\"E3\" rx=\"10\" ry=\"10\" style=\"stroke: #A80036; stroke-width: 1.5;\" width=\"209\" x=\"267\" y=\"49\"/><rect fill=\"#FEFECE\" height=\"37.9375\" rx=\"10\" ry=\"10\" style=\"stroke: #FEFECE; stroke-width: 1.5;\" width=\"209\" x=\"267\" y=\"49\"/><rect fill=\"#FEFECE\" height=\"10\" style=\"stroke: #FEFECE; stroke-width: 1.5;\" width=\"209\" x=\"267\" y=\"76.9375\"/><rect fill=\"none\" height=\"377.5\" id=\"E3\" rx=\"10\" ry=\"10\" style=\"stroke: #A80036; stroke-width: 1.5;\" width=\"209\" x=\"267\" y=\"49\"/><text fill=\"#000000\" font-family=\"sans-serif\" font-size=\"12\" font-style=\"italic\" lengthAdjust=\"spacingAndGlyphs\" textLength=\"53\" x=\"345\" y=\"65.1387\">«action»</text><text fill=\"#000000\" font-family=\"sans-serif\" font-size=\"12\" lengthAdjust=\"spacingAndGlyphs\" textLength=\"8\" x=\"367.5\" y=\"79.1074\">a</text><line style=\"stroke: #A80036; stroke-width: 1.0;\" x1=\"267\" x2=\"476\" y1=\"86.9375\" y2=\"86.9375\"/></a><g id=\"E1.E2\"><a href=\"psysml:9e8a127b-f23f-41bc-b046-de56fba8ce50\" target=\"_top\" title=\"psysml:9e8a127b-f23f-41bc-b046-de56fba8ce50\" xlink:actuate=\"onRequest\" xlink:href=\"psysml:9e8a127b-f23f-41bc-b046-de56fba8ce50\" xlink:show=\"new\" xlink:title=\"psysml:9e8a127b-f23f-41bc-b046-de56fba8ce50\" xlink:type=\"simple\"><rect fill=\"#FEFECE\" filter=\"url(#f1k56shlivmjll)\" height=\"42.9375\" id=\"E2\" style=\"stroke: #A80036; stroke-width: 1.5;\" width=\"100\" x=\"151\" y=\"88.5\"/><text fill=\"#000000\" font-family=\"sans-serif\" font-size=\"12\" font-style=\"italic\" lengthAdjust=\"spacingAndGlyphs\" textLength=\"93\" x=\"154.5\" y=\"104.6387\">«attribute def»</text><text fill=\"#000000\" font-family=\"sans-serif\" font-size=\"12\" lengthAdjust=\"spacingAndGlyphs\" textLength=\"8\" x=\"197\" y=\"118.6074\">S</text></a></g><polygon fill=\"#FEFECE\" filter=\"url(#f1k56shlivmjll)\" points=\"424,148.5,436,160.5,424,172.5,412,160.5,424,148.5\" style=\"stroke: #A80036; stroke-width: 1.5;\"/><!--MD5=[21dd76c19d33815960c0e92fef8f0eef]\n",
       "entity E5--><a href=\"psysml:ccfba6f1-4ce0-4ddd-afd5-b866d68d47d7\" target=\"_top\" title=\"psysml:ccfba6f1-4ce0-4ddd-afd5-b866d68d47d7\" xlink:actuate=\"onRequest\" xlink:href=\"psysml:ccfba6f1-4ce0-4ddd-afd5-b866d68d47d7\" xlink:show=\"new\" xlink:title=\"psysml:ccfba6f1-4ce0-4ddd-afd5-b866d68d47d7\" xlink:type=\"simple\"><polygon fill=\"#FEFECE\" filter=\"url(#f1k56shlivmjll)\" points=\"283,189.5,283,244.0938,423,244.0938,403,216.7969,423,189.5\" style=\"stroke: #000000; stroke-width: 1.5;\"/><text fill=\"#000000\" font-family=\"sans-serif\" font-size=\"14\" font-style=\"italic\" lengthAdjust=\"spacingAndGlyphs\" textLength=\"111\" x=\"290\" y=\"212.4951\">«accept action»</text><text fill=\"#000000\" font-family=\"sans-serif\" font-size=\"14\" lengthAdjust=\"spacingAndGlyphs\" textLength=\"9\" x=\"341\" y=\"229.792\">S</text></a><!--MD5=[24d87cdf3002d433f401b2a2aa9f9f65]\n",
       "entity E6--><a href=\"psysml:f31bbeb6-49c7-47f4-9bac-592fafbdce16\" target=\"_top\" title=\"psysml:f31bbeb6-49c7-47f4-9bac-592fafbdce16\" xlink:actuate=\"onRequest\" xlink:href=\"psysml:f31bbeb6-49c7-47f4-9bac-592fafbdce16\" xlink:show=\"new\" xlink:title=\"psysml:f31bbeb6-49c7-47f4-9bac-592fafbdce16\" xlink:type=\"simple\"><polygon fill=\"#FEFECE\" filter=\"url(#f1k56shlivmjll)\" points=\"283,277.5,283,332.0938,391,332.0938,411,304.7969,391,277.5\" style=\"stroke: #000000; stroke-width: 1.5;\"/><text fill=\"#000000\" font-family=\"sans-serif\" font-size=\"14\" font-style=\"italic\" lengthAdjust=\"spacingAndGlyphs\" textLength=\"99\" x=\"290\" y=\"300.4951\">«send action»</text><text fill=\"#000000\" font-family=\"sans-serif\" font-size=\"14\" lengthAdjust=\"spacingAndGlyphs\" textLength=\"65\" x=\"307\" y=\"317.792\">S() to  B()</text></a><polygon fill=\"#FEFECE\" filter=\"url(#f1k56shlivmjll)\" points=\"422,349.5,434,361.5,422,373.5,410,361.5,422,349.5\" style=\"stroke: #A80036; stroke-width: 1.5;\"/><ellipse cx=\"424\" cy=\"110\" fill=\"#000000\" filter=\"url(#f1k56shlivmjll)\" rx=\"10\" ry=\"10\" style=\"stroke: none; stroke-width: 1.0;\"/><ellipse cx=\"422\" cy=\"400.5\" fill=\"none\" filter=\"url(#f1k56shlivmjll)\" rx=\"10\" ry=\"10\" style=\"stroke: #000000; stroke-width: 1.0;\"/><ellipse cx=\"422.5\" cy=\"401\" fill=\"#000000\" rx=\"6\" ry=\"6\" style=\"stroke: none; stroke-width: 1.0;\"/><g id=\"E1.E8\"><a href=\"psysml:4eec70ee-61f4-4cab-8137-f00a9e5c8983\" target=\"_top\" title=\"psysml:4eec70ee-61f4-4cab-8137-f00a9e5c8983\" xlink:actuate=\"onRequest\" xlink:href=\"psysml:4eec70ee-61f4-4cab-8137-f00a9e5c8983\" xlink:show=\"new\" xlink:title=\"psysml:4eec70ee-61f4-4cab-8137-f00a9e5c8983\" xlink:type=\"simple\"><rect fill=\"#FEFECE\" filter=\"url(#f1k56shlivmjll)\" height=\"42.9375\" id=\"E8\" style=\"stroke: #A80036; stroke-width: 1.5;\" width=\"84\" x=\"32\" y=\"88.5\"/><text fill=\"#000000\" font-family=\"sans-serif\" font-size=\"12\" font-style=\"italic\" lengthAdjust=\"spacingAndGlyphs\" textLength=\"77\" x=\"35.5\" y=\"104.6387\">«action def»</text><text fill=\"#000000\" font-family=\"sans-serif\" font-size=\"12\" lengthAdjust=\"spacingAndGlyphs\" textLength=\"8\" x=\"70\" y=\"118.6074\">B</text></a></g><!--MD5=[f47e10efcf9a6752d55dae986d790ed9]\n",
       "link *start*E3 to E4--><a href=\"psysml:03e50e83-6fc7-46a8-8453-213dc2aae23c\" target=\"_top\" title=\"psysml:03e50e83-6fc7-46a8-8453-213dc2aae23c\" xlink:actuate=\"onRequest\" xlink:href=\"psysml:03e50e83-6fc7-46a8-8453-213dc2aae23c\" xlink:show=\"new\" xlink:title=\"psysml:03e50e83-6fc7-46a8-8453-213dc2aae23c\" xlink:type=\"simple\"><path d=\"M424,120.35 C424,126.88 424,135.77 424,143.42 \" fill=\"none\" id=\"*start*E3-&gt;E4\" style=\"stroke: #A80036; stroke-width: 1.0;\"/><polygon fill=\"#A80036\" points=\"424,148.48,428,139.48,424,143.48,420,139.48,424,148.48\" style=\"stroke: #A80036; stroke-width: 1.0;\"/></a><!--MD5=[d19f2eb34364d71b67042106d92f540b]\n",
       "link E7 to *end*E3--><a href=\"psysml:c4a668a6-d0f8-468f-9890-a338c2ee16ef\" target=\"_top\" title=\"psysml:c4a668a6-d0f8-468f-9890-a338c2ee16ef\" xlink:actuate=\"onRequest\" xlink:href=\"psysml:c4a668a6-d0f8-468f-9890-a338c2ee16ef\" xlink:show=\"new\" xlink:title=\"psysml:c4a668a6-d0f8-468f-9890-a338c2ee16ef\" xlink:type=\"simple\"><path d=\"M422,373.8 C422,377.34 422,381.3 422,385.03 \" fill=\"none\" id=\"E7-&gt;*end*E3\" style=\"stroke: #A80036; stroke-width: 1.0;\"/><polygon fill=\"#A80036\" points=\"422,390.25,426,381.25,422,385.25,418,381.25,422,390.25\" style=\"stroke: #A80036; stroke-width: 1.0;\"/></a><!--MD5=[1b7591eae5389033d8d09a9d6721a717]\n",
       "link E4 to E5--><a href=\"psysml:f95480df-9a63-41d1-9e12-1ec6bb9c61dc\" target=\"_top\" title=\"psysml:f95480df-9a63-41d1-9e12-1ec6bb9c61dc\" xlink:actuate=\"onRequest\" xlink:href=\"psysml:f95480df-9a63-41d1-9e12-1ec6bb9c61dc\" xlink:show=\"new\" xlink:title=\"psysml:f95480df-9a63-41d1-9e12-1ec6bb9c61dc\" xlink:type=\"simple\"><path d=\"M417.45,166.53 C411.33,171.23 401.65,178.66 391.64,186.34 \" fill=\"none\" id=\"E4-&gt;E5\" style=\"stroke: #A80036; stroke-width: 1.0;\"/><polygon fill=\"#A80036\" points=\"387.64,189.41,397.2129,187.0948,391.6037,186.3621,392.3363,180.7529,387.64,189.41\" style=\"stroke: #A80036; stroke-width: 1.0;\"/></a><!--MD5=[9120cf2e5df3bff93db8f754bbbc09b4]\n",
       "link E5 to E6--><a href=\"psysml:73484f54-b4d2-4298-bed2-8c418bf31093\" target=\"_top\" title=\"psysml:73484f54-b4d2-4298-bed2-8c418bf31093\" xlink:actuate=\"onRequest\" xlink:href=\"psysml:73484f54-b4d2-4298-bed2-8c418bf31093\" xlink:show=\"new\" xlink:title=\"psysml:73484f54-b4d2-4298-bed2-8c418bf31093\" xlink:type=\"simple\"><path d=\"M351.13,244.74 C350.53,253.4 349.85,263.08 349.23,272.08 \" fill=\"none\" id=\"E5-&gt;E6\" style=\"stroke: #A80036; stroke-width: 1.0;\"/><polygon fill=\"#A80036\" points=\"348.86,277.28,353.468,268.5756,349.203,272.2918,345.4869,268.0268,348.86,277.28\" style=\"stroke: #A80036; stroke-width: 1.0;\"/></a><!--MD5=[02c70b7c851c11e3980e4e90450dc5dd]\n",
       "link E6 to E7--><a href=\"psysml:860bf181-ae5a-4d8b-9cc8-c19fc893dd3f\" target=\"_top\" title=\"psysml:860bf181-ae5a-4d8b-9cc8-c19fc893dd3f\" xlink:actuate=\"onRequest\" xlink:href=\"psysml:860bf181-ae5a-4d8b-9cc8-c19fc893dd3f\" xlink:show=\"new\" xlink:title=\"psysml:860bf181-ae5a-4d8b-9cc8-c19fc893dd3f\" xlink:type=\"simple\"><path d=\"M383.62,332.61 C393.72,339.95 403.91,347.35 411.24,352.68 \" fill=\"none\" id=\"E6-&gt;E7\" style=\"stroke: #A80036; stroke-width: 1.0;\"/><polygon fill=\"#A80036\" points=\"415.42,355.72,410.4976,347.1894,411.3776,352.7774,405.7896,353.6574,415.42,355.72\" style=\"stroke: #A80036; stroke-width: 1.0;\"/></a><!--MD5=[6bdd27f9905911a7e892a3dc65cf6b7c]\n",
       "link E7 to E4--><a href=\"psysml:227ffbe5-5fbb-4b69-bf2e-f462a1a2545e\" target=\"_top\" title=\"psysml:227ffbe5-5fbb-4b69-bf2e-f462a1a2545e\" xlink:actuate=\"onRequest\" xlink:href=\"psysml:227ffbe5-5fbb-4b69-bf2e-f462a1a2545e\" xlink:show=\"new\" xlink:title=\"psysml:227ffbe5-5fbb-4b69-bf2e-f462a1a2545e\" xlink:type=\"simple\"><path d=\"M425,352.49 C433.84,327.73 458.06,250.48 441,189.5 C439.26,183.29 435.73,177.1 432.34,172.12 \" fill=\"none\" id=\"E7-&gt;E4\" style=\"stroke: #A80036; stroke-width: 1.0;\"/><polygon fill=\"#A80036\" points=\"429.31,167.92,431.3342,177.5586,432.2364,171.9741,437.8209,172.8763,429.31,167.92\" style=\"stroke: #A80036; stroke-width: 1.0;\"/><text fill=\"#000000\" font-family=\"sans-serif\" font-size=\"13\" lengthAdjust=\"spacingAndGlyphs\" textLength=\"36\" x=\"447\" y=\"265.5669\">[true]</text></a><!--MD5=[bceb80ff691b3bcbe485c0cf6c55f4f6]\n",
       "@startuml\r\n",
       "skinparam ranksep 10\r\n",
       "skinparam rectangle {\r\n",
       " backgroundColor<<block>> LightGreen\r\n",
       "}\r\n",
       "skinparam wrapWidth 300\r\n",
       "hide circle\r\n",
       "\r\n",
       "package \"ActionTest\" as E1  [[psysml:fba87211-d6a8-40ff-8d47-80f3cbac0e83 ]]  {\r\n",
       "def \"S\" as E2  <<(T,blue)attribute def>> [[psysml:9e8a127b-f23f-41bc-b046-de56fba8ce50 ]] \r\n",
       "rec usage \"a\" as E3  <<(T,blue)action>> [[psysml:ad4f18e6-c096-4c58-bb62-14a597e4442d ]] {\r\n",
       "choice \"m\" as E4  [[psysml:e85a3052-7a7b-4311-97f8-bb0216d1246f ]] \r\n",
       "accept \" S\" as E5 <<accept action>> [[psysml:ccfba6f1-4ce0-4ddd-afd5-b866d68d47d7 ]] \r\n",
       "send \" S() to  B()\" as E6 <<send action>> [[psysml:f31bbeb6-49c7-47f4-9bac-592fafbdce16 ]] \r\n",
       "choice \"noname\" as E7  [[psysml:7507dc2c-9b39-4c30-b0ef-dd6a627e8c4c ]] \r\n",
       "[*] - -> E4 [[psysml:03e50e83-6fc7-46a8-8453-213dc2aae23c ]] \r\n",
       "E7  - -> [*] [[psysml:c4a668a6-d0f8-468f-9890-a338c2ee16ef ]] \r\n",
       "}\r\n",
       "\r\n",
       "rec def \"B\" as E8  <<(T,blue)action def>> [[psysml:4eec70ee-61f4-4cab-8137-f00a9e5c8983 ]] {\r\n",
       "}\r\n",
       "\r\n",
       "E4 - -> E5 [[psysml:f95480df-9a63-41d1-9e12-1ec6bb9c61dc ]] \r\n",
       "E5 - -> E6 [[psysml:73484f54-b4d2-4298-bed2-8c418bf31093 ]] \r\n",
       "E6 - -> E7 [[psysml:860bf181-ae5a-4d8b-9cc8-c19fc893dd3f ]] \r\n",
       "E7  - -> E4 [[psysml:227ffbe5-5fbb-4b69-bf2e-f462a1a2545e ]] : [true]\r\n",
       "}\r\n",
       "@enduml\r\n",
       "\n",
       "PlantUML version 1.2020.13(Sat Jun 13 12:26:38 UTC 2020)\n",
       "(EPL source distribution)\n",
       "Java Runtime: OpenJDK Runtime Environment\n",
       "JVM: OpenJDK 64-Bit Server VM\n",
       "Default Encoding: UTF-8\n",
       "Language: en\n",
       "Country: null\n",
       "--></g></svg>"
      ]
     },
     "execution_count": 26,
     "metadata": {},
     "output_type": "execute_result"
    }
   ],
   "source": [
    "%viz --style=\"STDCOLOR\" --view=\"Interconnection\" \"ActionTest\""
   ]
  },
  {
   "cell_type": "code",
   "execution_count": 27,
   "id": "fdf457c6",
   "metadata": {
    "execution": {
     "iopub.execute_input": "2021-05-27T06:08:01.869039Z",
     "iopub.status.busy": "2021-05-27T06:08:01.868575Z",
     "iopub.status.idle": "2021-05-27T06:08:01.914349Z",
     "shell.execute_reply": "2021-05-27T06:08:01.913894Z"
    }
   },
   "outputs": [
    {
     "data": {
      "image/svg+xml": [
       "<?xml version=\"1.0\" encoding=\"UTF-8\" standalone=\"no\"?><svg xmlns=\"http://www.w3.org/2000/svg\" xmlns:xlink=\"http://www.w3.org/1999/xlink\" contentScriptType=\"application/ecmascript\" contentStyleType=\"text/css\" height=\"403px\" preserveAspectRatio=\"none\" style=\"width:335px;height:403px;\" version=\"1.1\" viewBox=\"0 0 335 403\" width=\"335px\" zoomAndPan=\"magnify\"><defs><filter height=\"300%\" id=\"f4i0s2p3gjg2b\" width=\"300%\" x=\"-1\" y=\"-1\"><feGaussianBlur result=\"blurOut\" stdDeviation=\"2.0\"/><feColorMatrix in=\"blurOut\" result=\"blurOut2\" type=\"matrix\" values=\"0 0 0 0 0 0 0 0 0 0 0 0 0 0 0 0 0 0 .4 0\"/><feOffset dx=\"4.0\" dy=\"4.0\" in=\"blurOut2\" result=\"blurOut3\"/><feBlend in=\"SourceGraphic\" in2=\"blurOut3\" mode=\"normal\"/></filter></defs><g><!--MD5=[fbc87193dbaf4d95561dea2c320d4a47]\n",
       "cluster E1--><a href=\"psysml:ad4f18e6-c096-4c58-bb62-14a597e4442d\" target=\"_top\" title=\"psysml:ad4f18e6-c096-4c58-bb62-14a597e4442d\" xlink:actuate=\"onRequest\" xlink:href=\"psysml:ad4f18e6-c096-4c58-bb62-14a597e4442d\" xlink:show=\"new\" xlink:title=\"psysml:ad4f18e6-c096-4c58-bb62-14a597e4442d\" xlink:type=\"simple\"><rect fill=\"#FFFFFF\" filter=\"url(#f4i0s2p3gjg2b)\" height=\"377.5\" id=\"E1\" rx=\"10\" ry=\"10\" style=\"stroke: #A80036; stroke-width: 1.5;\" width=\"209\" x=\"107\" y=\"7\"/><rect fill=\"#FEFECE\" height=\"37.9375\" rx=\"10\" ry=\"10\" style=\"stroke: #FEFECE; stroke-width: 1.5;\" width=\"209\" x=\"107\" y=\"7\"/><rect fill=\"#FEFECE\" height=\"10\" style=\"stroke: #FEFECE; stroke-width: 1.5;\" width=\"209\" x=\"107\" y=\"34.9375\"/><rect fill=\"none\" height=\"377.5\" id=\"E1\" rx=\"10\" ry=\"10\" style=\"stroke: #A80036; stroke-width: 1.5;\" width=\"209\" x=\"107\" y=\"7\"/><text fill=\"#000000\" font-family=\"sans-serif\" font-size=\"12\" font-style=\"italic\" lengthAdjust=\"spacingAndGlyphs\" textLength=\"53\" x=\"185\" y=\"23.1387\">«action»</text><text fill=\"#000000\" font-family=\"sans-serif\" font-size=\"12\" lengthAdjust=\"spacingAndGlyphs\" textLength=\"8\" x=\"207.5\" y=\"37.1074\">a</text><line style=\"stroke: #A80036; stroke-width: 1.0;\" x1=\"107\" x2=\"316\" y1=\"44.9375\" y2=\"44.9375\"/></a><polygon fill=\"#FEFECE\" filter=\"url(#f4i0s2p3gjg2b)\" points=\"264,106.5,276,118.5,264,130.5,252,118.5,264,106.5\" style=\"stroke: #A80036; stroke-width: 1.5;\"/><!--MD5=[a60fb756f580feb9fd8e2cf1329b5c91]\n",
       "entity E3--><a href=\"psysml:ccfba6f1-4ce0-4ddd-afd5-b866d68d47d7\" target=\"_top\" title=\"psysml:ccfba6f1-4ce0-4ddd-afd5-b866d68d47d7\" xlink:actuate=\"onRequest\" xlink:href=\"psysml:ccfba6f1-4ce0-4ddd-afd5-b866d68d47d7\" xlink:show=\"new\" xlink:title=\"psysml:ccfba6f1-4ce0-4ddd-afd5-b866d68d47d7\" xlink:type=\"simple\"><polygon fill=\"#FEFECE\" filter=\"url(#f4i0s2p3gjg2b)\" points=\"123,147.5,123,202.0938,263,202.0938,243,174.7969,263,147.5\" style=\"stroke: #000000; stroke-width: 1.5;\"/><text fill=\"#000000\" font-family=\"sans-serif\" font-size=\"14\" font-style=\"italic\" lengthAdjust=\"spacingAndGlyphs\" textLength=\"111\" x=\"130\" y=\"170.4951\">«accept action»</text><text fill=\"#000000\" font-family=\"sans-serif\" font-size=\"14\" lengthAdjust=\"spacingAndGlyphs\" textLength=\"9\" x=\"181\" y=\"187.792\">S</text></a><!--MD5=[961cefdc15414eaa3e87aec9d17c2188]\n",
       "entity E4--><a href=\"psysml:f31bbeb6-49c7-47f4-9bac-592fafbdce16\" target=\"_top\" title=\"psysml:f31bbeb6-49c7-47f4-9bac-592fafbdce16\" xlink:actuate=\"onRequest\" xlink:href=\"psysml:f31bbeb6-49c7-47f4-9bac-592fafbdce16\" xlink:show=\"new\" xlink:title=\"psysml:f31bbeb6-49c7-47f4-9bac-592fafbdce16\" xlink:type=\"simple\"><polygon fill=\"#FEFECE\" filter=\"url(#f4i0s2p3gjg2b)\" points=\"123,235.5,123,290.0938,231,290.0938,251,262.7969,231,235.5\" style=\"stroke: #000000; stroke-width: 1.5;\"/><text fill=\"#000000\" font-family=\"sans-serif\" font-size=\"14\" font-style=\"italic\" lengthAdjust=\"spacingAndGlyphs\" textLength=\"99\" x=\"130\" y=\"258.4951\">«send action»</text><text fill=\"#000000\" font-family=\"sans-serif\" font-size=\"14\" lengthAdjust=\"spacingAndGlyphs\" textLength=\"65\" x=\"147\" y=\"275.792\">S() to  B()</text></a><polygon fill=\"#FEFECE\" filter=\"url(#f4i0s2p3gjg2b)\" points=\"262,307.5,274,319.5,262,331.5,250,319.5,262,307.5\" style=\"stroke: #A80036; stroke-width: 1.5;\"/><ellipse cx=\"264\" cy=\"68\" fill=\"#000000\" filter=\"url(#f4i0s2p3gjg2b)\" rx=\"10\" ry=\"10\" style=\"stroke: none; stroke-width: 1.0;\"/><ellipse cx=\"262\" cy=\"358.5\" fill=\"none\" filter=\"url(#f4i0s2p3gjg2b)\" rx=\"10\" ry=\"10\" style=\"stroke: #000000; stroke-width: 1.0;\"/><ellipse cx=\"262.5\" cy=\"359\" fill=\"#000000\" rx=\"6\" ry=\"6\" style=\"stroke: none; stroke-width: 1.0;\"/><g id=\"E6\"><a href=\"psysml:4eec70ee-61f4-4cab-8137-f00a9e5c8983\" target=\"_top\" title=\"psysml:4eec70ee-61f4-4cab-8137-f00a9e5c8983\" xlink:actuate=\"onRequest\" xlink:href=\"psysml:4eec70ee-61f4-4cab-8137-f00a9e5c8983\" xlink:show=\"new\" xlink:title=\"psysml:4eec70ee-61f4-4cab-8137-f00a9e5c8983\" xlink:type=\"simple\"><rect fill=\"#FEFECE\" filter=\"url(#f4i0s2p3gjg2b)\" height=\"42.9375\" id=\"E6\" style=\"stroke: #A80036; stroke-width: 1.5;\" width=\"84\" x=\"7\" y=\"46.5\"/><text fill=\"#000000\" font-family=\"sans-serif\" font-size=\"12\" font-style=\"italic\" lengthAdjust=\"spacingAndGlyphs\" textLength=\"77\" x=\"10.5\" y=\"62.6387\">«action def»</text><text fill=\"#000000\" font-family=\"sans-serif\" font-size=\"12\" lengthAdjust=\"spacingAndGlyphs\" textLength=\"8\" x=\"45\" y=\"76.6074\">B</text></a></g><!--MD5=[cff944eb183b832d446717a4e202d613]\n",
       "link *start*E1 to E2--><a href=\"psysml:03e50e83-6fc7-46a8-8453-213dc2aae23c\" target=\"_top\" title=\"psysml:03e50e83-6fc7-46a8-8453-213dc2aae23c\" xlink:actuate=\"onRequest\" xlink:href=\"psysml:03e50e83-6fc7-46a8-8453-213dc2aae23c\" xlink:show=\"new\" xlink:title=\"psysml:03e50e83-6fc7-46a8-8453-213dc2aae23c\" xlink:type=\"simple\"><path d=\"M264,78.35 C264,84.88 264,93.77 264,101.42 \" fill=\"none\" id=\"*start*E1-&gt;E2\" style=\"stroke: #A80036; stroke-width: 1.0; stroke-dasharray: 7.0,7.0;\"/><polygon fill=\"#A80036\" points=\"264,106.48,268,97.48,264,101.48,260,97.48,264,106.48\" style=\"stroke: #A80036; stroke-width: 1.0;\"/></a><!--MD5=[7fc47fc0d107820853a137871ad908c8]\n",
       "link E5 to *end*E1--><a href=\"psysml:c4a668a6-d0f8-468f-9890-a338c2ee16ef\" target=\"_top\" title=\"psysml:c4a668a6-d0f8-468f-9890-a338c2ee16ef\" xlink:actuate=\"onRequest\" xlink:href=\"psysml:c4a668a6-d0f8-468f-9890-a338c2ee16ef\" xlink:show=\"new\" xlink:title=\"psysml:c4a668a6-d0f8-468f-9890-a338c2ee16ef\" xlink:type=\"simple\"><path d=\"M262,331.8 C262,335.34 262,339.3 262,343.03 \" fill=\"none\" id=\"E5-&gt;*end*E1\" style=\"stroke: #A80036; stroke-width: 1.0; stroke-dasharray: 7.0,7.0;\"/><polygon fill=\"#A80036\" points=\"262,348.25,266,339.25,262,343.25,258,339.25,262,348.25\" style=\"stroke: #A80036; stroke-width: 1.0;\"/></a><!--MD5=[2720a5a1f2c3fca2055b230370638851]\n",
       "link E2 to E3--><a href=\"psysml:f95480df-9a63-41d1-9e12-1ec6bb9c61dc\" target=\"_top\" title=\"psysml:f95480df-9a63-41d1-9e12-1ec6bb9c61dc\" xlink:actuate=\"onRequest\" xlink:href=\"psysml:f95480df-9a63-41d1-9e12-1ec6bb9c61dc\" xlink:show=\"new\" xlink:title=\"psysml:f95480df-9a63-41d1-9e12-1ec6bb9c61dc\" xlink:type=\"simple\"><path d=\"M257.45,124.53 C251.33,129.23 241.65,136.66 231.64,144.34 \" fill=\"none\" id=\"E2-&gt;E3\" style=\"stroke: #A80036; stroke-width: 1.0; stroke-dasharray: 7.0,7.0;\"/><polygon fill=\"#A80036\" points=\"227.64,147.41,237.2129,145.0948,231.6037,144.3621,232.3363,138.7529,227.64,147.41\" style=\"stroke: #A80036; stroke-width: 1.0;\"/></a><!--MD5=[af87c684e3b0d8be13c1a698a818ef1e]\n",
       "link E3 to E4--><a href=\"psysml:73484f54-b4d2-4298-bed2-8c418bf31093\" target=\"_top\" title=\"psysml:73484f54-b4d2-4298-bed2-8c418bf31093\" xlink:actuate=\"onRequest\" xlink:href=\"psysml:73484f54-b4d2-4298-bed2-8c418bf31093\" xlink:show=\"new\" xlink:title=\"psysml:73484f54-b4d2-4298-bed2-8c418bf31093\" xlink:type=\"simple\"><path d=\"M191.13,202.74 C190.53,211.4 189.85,221.08 189.23,230.08 \" fill=\"none\" id=\"E3-&gt;E4\" style=\"stroke: #A80036; stroke-width: 1.0; stroke-dasharray: 7.0,7.0;\"/><polygon fill=\"#A80036\" points=\"188.86,235.28,193.468,226.5756,189.203,230.2918,185.4869,226.0268,188.86,235.28\" style=\"stroke: #A80036; stroke-width: 1.0;\"/></a><!--MD5=[1b7591eae5389033d8d09a9d6721a717]\n",
       "link E4 to E5--><a href=\"psysml:860bf181-ae5a-4d8b-9cc8-c19fc893dd3f\" target=\"_top\" title=\"psysml:860bf181-ae5a-4d8b-9cc8-c19fc893dd3f\" xlink:actuate=\"onRequest\" xlink:href=\"psysml:860bf181-ae5a-4d8b-9cc8-c19fc893dd3f\" xlink:show=\"new\" xlink:title=\"psysml:860bf181-ae5a-4d8b-9cc8-c19fc893dd3f\" xlink:type=\"simple\"><path d=\"M223.62,290.61 C233.72,297.95 243.91,305.35 251.24,310.68 \" fill=\"none\" id=\"E4-&gt;E5\" style=\"stroke: #A80036; stroke-width: 1.0; stroke-dasharray: 7.0,7.0;\"/><polygon fill=\"#A80036\" points=\"255.42,313.72,250.4976,305.1894,251.3776,310.7774,245.7896,311.6574,255.42,313.72\" style=\"stroke: #A80036; stroke-width: 1.0;\"/></a><!--MD5=[15ebcb19ae302d9b601edb458606d402]\n",
       "link E5 to E2--><a href=\"psysml:227ffbe5-5fbb-4b69-bf2e-f462a1a2545e\" target=\"_top\" title=\"psysml:227ffbe5-5fbb-4b69-bf2e-f462a1a2545e\" xlink:actuate=\"onRequest\" xlink:href=\"psysml:227ffbe5-5fbb-4b69-bf2e-f462a1a2545e\" xlink:show=\"new\" xlink:title=\"psysml:227ffbe5-5fbb-4b69-bf2e-f462a1a2545e\" xlink:type=\"simple\"><path d=\"M265,310.49 C273.84,285.73 298.06,208.48 281,147.5 C279.26,141.29 275.73,135.1 272.34,130.12 \" fill=\"none\" id=\"E5-&gt;E2\" style=\"stroke: #A80036; stroke-width: 1.0; stroke-dasharray: 7.0,7.0;\"/><polygon fill=\"#A80036\" points=\"269.31,125.92,271.3342,135.5586,272.2364,129.9741,277.8209,130.8763,269.31,125.92\" style=\"stroke: #A80036; stroke-width: 1.0;\"/><text fill=\"#000000\" font-family=\"sans-serif\" font-size=\"13\" lengthAdjust=\"spacingAndGlyphs\" textLength=\"36\" x=\"287\" y=\"223.5669\">[true]</text></a><!--MD5=[1451fdf58433df3b0fb4615b5b7e1c77]\n",
       "@startuml\r\n",
       "skinparam ranksep 8\r\n",
       "skinparam wrapWidth 300\r\n",
       "hide circle\r\n",
       "\r\n",
       "rec usage \"a\" as E1  <<(T,blue)action>> [[psysml:ad4f18e6-c096-4c58-bb62-14a597e4442d ]] {\r\n",
       "choice \"m\" as E2  [[psysml:e85a3052-7a7b-4311-97f8-bb0216d1246f ]] \r\n",
       "accept \" S\" as E3 <<accept action>> [[psysml:ccfba6f1-4ce0-4ddd-afd5-b866d68d47d7 ]] \r\n",
       "send \" S() to  B()\" as E4 <<send action>> [[psysml:f31bbeb6-49c7-47f4-9bac-592fafbdce16 ]] \r\n",
       "choice \"noname\" as E5  [[psysml:7507dc2c-9b39-4c30-b0ef-dd6a627e8c4c ]] \r\n",
       "[*] ..> E2 [[psysml:03e50e83-6fc7-46a8-8453-213dc2aae23c ]] \r\n",
       "E5 ..> [*] [[psysml:c4a668a6-d0f8-468f-9890-a338c2ee16ef ]] \r\n",
       "}\r\n",
       "\r\n",
       "E2 ..> E3 [[psysml:f95480df-9a63-41d1-9e12-1ec6bb9c61dc ]] \r\n",
       "E3 ..> E4 [[psysml:73484f54-b4d2-4298-bed2-8c418bf31093 ]] \r\n",
       "E4 ..> E5 [[psysml:860bf181-ae5a-4d8b-9cc8-c19fc893dd3f ]] \r\n",
       "E5 ..> E2 [[psysml:227ffbe5-5fbb-4b69-bf2e-f462a1a2545e ]] : [true]\r\n",
       "rec def \"B\" as E6  <<(T,blue)action def>> [[psysml:4eec70ee-61f4-4cab-8137-f00a9e5c8983 ]] {\r\n",
       "}\r\n",
       "\r\n",
       "@enduml\r\n",
       "\n",
       "PlantUML version 1.2020.13(Sat Jun 13 12:26:38 UTC 2020)\n",
       "(EPL source distribution)\n",
       "Java Runtime: OpenJDK Runtime Environment\n",
       "JVM: OpenJDK 64-Bit Server VM\n",
       "Default Encoding: UTF-8\n",
       "Language: en\n",
       "Country: null\n",
       "--></g></svg>"
      ]
     },
     "execution_count": 27,
     "metadata": {},
     "output_type": "execute_result"
    }
   ],
   "source": [
    "%viz --style=\"STDCOLOR\" --view=\"Action\" \"ActionTest\""
   ]
  },
  {
   "cell_type": "code",
   "execution_count": 28,
   "id": "e7f4badb",
   "metadata": {
    "execution": {
     "iopub.execute_input": "2021-05-27T06:08:01.966358Z",
     "iopub.status.busy": "2021-05-27T06:08:01.965650Z",
     "iopub.status.idle": "2021-05-27T06:08:02.036370Z",
     "shell.execute_reply": "2021-05-27T06:08:02.034843Z"
    }
   },
   "outputs": [
    {
     "data": {
      "image/svg+xml": [
       "<?xml version=\"1.0\" encoding=\"UTF-8\" standalone=\"no\"?><svg xmlns=\"http://www.w3.org/2000/svg\" xmlns:xlink=\"http://www.w3.org/1999/xlink\" contentScriptType=\"application/ecmascript\" contentStyleType=\"text/css\" height=\"175px\" preserveAspectRatio=\"none\" style=\"width:543px;height:175px;\" version=\"1.1\" viewBox=\"0 0 543 175\" width=\"543px\" zoomAndPan=\"magnify\"><defs><filter height=\"300%\" id=\"f1dpikmg9xvsxi\" width=\"300%\" x=\"-1\" y=\"-1\"><feGaussianBlur result=\"blurOut\" stdDeviation=\"2.0\"/><feColorMatrix in=\"blurOut\" result=\"blurOut2\" type=\"matrix\" values=\"0 0 0 0 0 0 0 0 0 0 0 0 0 0 0 0 0 0 .4 0\"/><feOffset dx=\"4.0\" dy=\"4.0\" in=\"blurOut2\" result=\"blurOut3\"/><feBlend in=\"SourceGraphic\" in2=\"blurOut3\" mode=\"normal\"/></filter></defs><g><!--MD5=[fbc87193dbaf4d95561dea2c320d4a47]\n",
       "cluster E1--><a href=\"psysml:fba87211-d6a8-40ff-8d47-80f3cbac0e83\" target=\"_top\" title=\"psysml:fba87211-d6a8-40ff-8d47-80f3cbac0e83\" xlink:actuate=\"onRequest\" xlink:href=\"psysml:fba87211-d6a8-40ff-8d47-80f3cbac0e83\" xlink:show=\"new\" xlink:title=\"psysml:fba87211-d6a8-40ff-8d47-80f3cbac0e83\" xlink:type=\"simple\"><polygon fill=\"#FFFFFF\" filter=\"url(#f1dpikmg9xvsxi)\" points=\"16,6,107,6,114,28.2969,521,28.2969,521,163,16,163,16,6\" style=\"stroke: #000000; stroke-width: 1.5;\"/><line style=\"stroke: #000000; stroke-width: 1.5;\" x1=\"16\" x2=\"114\" y1=\"28.2969\" y2=\"28.2969\"/><text fill=\"#000000\" font-family=\"sans-serif\" font-size=\"14\" font-weight=\"bold\" lengthAdjust=\"spacingAndGlyphs\" textLength=\"85\" x=\"20\" y=\"20.9951\">ActionTest</text></a><!--MD5=[b4997ac47864f28c2f74865a473b2911]\n",
       "class E2--><a href=\"psysml:9e8a127b-f23f-41bc-b046-de56fba8ce50\" target=\"_top\" title=\"psysml:9e8a127b-f23f-41bc-b046-de56fba8ce50\" xlink:actuate=\"onRequest\" xlink:href=\"psysml:9e8a127b-f23f-41bc-b046-de56fba8ce50\" xlink:show=\"new\" xlink:title=\"psysml:9e8a127b-f23f-41bc-b046-de56fba8ce50\" xlink:type=\"simple\"><rect fill=\"#FEFECE\" filter=\"url(#f1dpikmg9xvsxi)\" height=\"45.9375\" id=\"E2\" style=\"stroke: #A80036; stroke-width: 1.5;\" width=\"95\" x=\"409.5\" y=\"71\"/><text fill=\"#000000\" font-family=\"sans-serif\" font-size=\"12\" font-style=\"italic\" lengthAdjust=\"spacingAndGlyphs\" textLength=\"93\" x=\"410.5\" y=\"87.1387\">«attribute def»</text><text fill=\"#000000\" font-family=\"sans-serif\" font-size=\"12\" lengthAdjust=\"spacingAndGlyphs\" textLength=\"8\" x=\"453\" y=\"101.1074\">S</text><line style=\"stroke: #A80036; stroke-width: 1.5;\" x1=\"410.5\" x2=\"503.5\" y1=\"108.9375\" y2=\"108.9375\"/></a><!--MD5=[09b614a08d8cba4a07c9adeb5e0fee81]\n",
       "class E3--><a href=\"psysml:ad4f18e6-c096-4c58-bb62-14a597e4442d\" target=\"_top\" title=\"psysml:ad4f18e6-c096-4c58-bb62-14a597e4442d\" xlink:actuate=\"onRequest\" xlink:href=\"psysml:ad4f18e6-c096-4c58-bb62-14a597e4442d\" xlink:show=\"new\" xlink:title=\"psysml:ad4f18e6-c096-4c58-bb62-14a597e4442d\" xlink:type=\"simple\"><rect fill=\"#FEFECE\" filter=\"url(#f1dpikmg9xvsxi)\" height=\"106.1016\" id=\"E3\" rx=\"10\" ry=\"10\" style=\"stroke: #A80036; stroke-width: 1.5;\" width=\"228\" x=\"146\" y=\"41\"/><text fill=\"#000000\" font-family=\"sans-serif\" font-size=\"12\" font-style=\"italic\" lengthAdjust=\"spacingAndGlyphs\" textLength=\"53\" x=\"233.5\" y=\"57.1387\">«action»</text><text fill=\"#000000\" font-family=\"sans-serif\" font-size=\"12\" lengthAdjust=\"spacingAndGlyphs\" textLength=\"8\" x=\"256\" y=\"71.1074\">a</text><line style=\"stroke: #A80036; stroke-width: 1.5;\" x1=\"147\" x2=\"373\" y1=\"78.9375\" y2=\"78.9375\"/><path d=\"M153.9167,100.6589 L153.9167,109.8255 L154.8333,109.8255 L154.8333,100.6589 M157.5833,100.6589 L157.5833,109.8255 L164.9167,105.2422 L157.5833,100.6589 L158.5,102.0339 L163.5417,105.2422 L158.5,108.4505 L158.5,102.0339 \" fill=\"#000000\" style=\"stroke: ; stroke-width: 0.0; stroke-dasharray: ;\"/><text fill=\"#000000\" font-family=\"sans-serif\" font-size=\"11\" lengthAdjust=\"spacingAndGlyphs\" textLength=\"69\" x=\"169\" y=\"110.8979\">start: Action</text><text fill=\"#000000\" font-family=\"sans-serif\" font-size=\"11\" lengthAdjust=\"spacingAndGlyphs\" text-decoration=\"line-through\" textLength=\"126\" x=\"242\" y=\"110.8979\">Occurrence::startShot</text><line style=\"stroke: #A80036; stroke-width: 1.0;\" x1=\"147\" x2=\"239.5\" y1=\"93.3398\" y2=\"93.3398\"/><text fill=\"#000000\" font-family=\"sans-serif\" font-size=\"11\" lengthAdjust=\"spacingAndGlyphs\" textLength=\"41\" x=\"239.5\" y=\"96.6479\">actions</text><line style=\"stroke: #A80036; stroke-width: 1.0;\" x1=\"280.5\" x2=\"373\" y1=\"93.3398\" y2=\"93.3398\"/><text fill=\"#000000\" font-family=\"sans-serif\" font-size=\"11\" lengthAdjust=\"spacingAndGlyphs\" textLength=\"11\" x=\"152\" y=\"140.5073\">m</text><line style=\"stroke: #A80036; stroke-width: 1.0;\" x1=\"147\" x2=\"223.5\" y1=\"123.8945\" y2=\"123.8945\"/><text fill=\"#000000\" font-family=\"sans-serif\" font-size=\"11\" lengthAdjust=\"spacingAndGlyphs\" textLength=\"73\" x=\"223.5\" y=\"127.2026\">mergeNodes</text><line style=\"stroke: #A80036; stroke-width: 1.0;\" x1=\"296.5\" x2=\"373\" y1=\"123.8945\" y2=\"123.8945\"/></a><!--MD5=[60a26617385b1d2d0262a64233df1f8d]\n",
       "class E6--><a href=\"psysml:4eec70ee-61f4-4cab-8137-f00a9e5c8983\" target=\"_top\" title=\"psysml:4eec70ee-61f4-4cab-8137-f00a9e5c8983\" xlink:actuate=\"onRequest\" xlink:href=\"psysml:4eec70ee-61f4-4cab-8137-f00a9e5c8983\" xlink:show=\"new\" xlink:title=\"psysml:4eec70ee-61f4-4cab-8137-f00a9e5c8983\" xlink:type=\"simple\"><rect fill=\"#FEFECE\" filter=\"url(#f1dpikmg9xvsxi)\" height=\"45.9375\" id=\"E6\" style=\"stroke: #A80036; stroke-width: 1.5;\" width=\"79\" x=\"31.5\" y=\"71\"/><text fill=\"#000000\" font-family=\"sans-serif\" font-size=\"12\" font-style=\"italic\" lengthAdjust=\"spacingAndGlyphs\" textLength=\"77\" x=\"32.5\" y=\"87.1387\">«action def»</text><text fill=\"#000000\" font-family=\"sans-serif\" font-size=\"12\" lengthAdjust=\"spacingAndGlyphs\" textLength=\"8\" x=\"67\" y=\"101.1074\">B</text><line style=\"stroke: #A80036; stroke-width: 1.5;\" x1=\"32.5\" x2=\"109.5\" y1=\"108.9375\" y2=\"108.9375\"/></a><!--MD5=[92034941f1c3e75f26a52defad75a0d0]\n",
       "@startuml\r\n",
       "skinparam wrapWidth 300\r\n",
       "hide circle\r\n",
       "\r\n",
       "package \"ActionTest\" as E1  [[psysml:fba87211-d6a8-40ff-8d47-80f3cbac0e83 ]]  {\r\n",
       "comp def \"S\" as E2  <<(T,blue)attribute def>> [[psysml:9e8a127b-f23f-41bc-b046-de56fba8ce50 ]] {\r\n",
       "}\r\n",
       "comp usage \"a\" as E3  <<(T,blue)action>> [[psysml:ad4f18e6-c096-4c58-bb62-14a597e4442d ]] {\r\n",
       "- - actions - -\r\n",
       "<&bar-trig> start: Action <s>Occurrence::startShot</s>\r\n",
       "- - mergeNodes - -\r\n",
       "m\r\n",
       "}\r\n",
       "comp def \"B\" as E6  <<(T,blue)action def>> [[psysml:4eec70ee-61f4-4cab-8137-f00a9e5c8983 ]] {\r\n",
       "}\r\n",
       "}\r\n",
       "@enduml\r\n",
       "\n",
       "PlantUML version 1.2020.13(Sat Jun 13 12:26:38 UTC 2020)\n",
       "(EPL source distribution)\n",
       "Java Runtime: OpenJDK Runtime Environment\n",
       "JVM: OpenJDK 64-Bit Server VM\n",
       "Default Encoding: UTF-8\n",
       "Language: en\n",
       "Country: null\n",
       "--></g></svg>"
      ]
     },
     "execution_count": 28,
     "metadata": {},
     "output_type": "execute_result"
    }
   ],
   "source": [
    "%viz --style=\"STDCOLOR\" --view=\"Sequence\" \"ActionTest\""
   ]
  },
  {
   "cell_type": "code",
   "execution_count": 29,
   "id": "e8e1cbe0",
   "metadata": {
    "execution": {
     "iopub.execute_input": "2021-05-27T06:08:02.088345Z",
     "iopub.status.busy": "2021-05-27T06:08:02.087466Z",
     "iopub.status.idle": "2021-05-27T06:08:02.128854Z",
     "shell.execute_reply": "2021-05-27T06:08:02.128385Z"
    }
   },
   "outputs": [
    {
     "data": {
      "image/svg+xml": [
       "<?xml version=\"1.0\" encoding=\"UTF-8\" standalone=\"no\"?><svg xmlns=\"http://www.w3.org/2000/svg\" xmlns:xlink=\"http://www.w3.org/1999/xlink\" contentScriptType=\"application/ecmascript\" contentStyleType=\"text/css\" height=\"684px\" preserveAspectRatio=\"none\" style=\"width:518px;height:684px;\" version=\"1.1\" viewBox=\"0 0 518 684\" width=\"518px\" zoomAndPan=\"magnify\"><defs><filter height=\"300%\" id=\"f1xgv5pk0u09oe\" width=\"300%\" x=\"-1\" y=\"-1\"><feGaussianBlur result=\"blurOut\" stdDeviation=\"2.0\"/><feColorMatrix in=\"blurOut\" result=\"blurOut2\" type=\"matrix\" values=\"0 0 0 0 0 0 0 0 0 0 0 0 0 0 0 0 0 0 .4 0\"/><feOffset dx=\"4.0\" dy=\"4.0\" in=\"blurOut2\" result=\"blurOut3\"/><feBlend in=\"SourceGraphic\" in2=\"blurOut3\" mode=\"normal\"/></filter></defs><g><!--MD5=[fbc87193dbaf4d95561dea2c320d4a47]\n",
       "cluster E1--><a href=\"psysml:fba87211-d6a8-40ff-8d47-80f3cbac0e83\" target=\"_top\" title=\"psysml:fba87211-d6a8-40ff-8d47-80f3cbac0e83\" xlink:actuate=\"onRequest\" xlink:href=\"psysml:fba87211-d6a8-40ff-8d47-80f3cbac0e83\" xlink:show=\"new\" xlink:title=\"psysml:fba87211-d6a8-40ff-8d47-80f3cbac0e83\" xlink:type=\"simple\"><polygon fill=\"#FFFFFF\" filter=\"url(#f1xgv5pk0u09oe)\" points=\"16,6,107,6,114,28.2969,496,28.2969,496,672,16,672,16,6\" style=\"stroke: #000000; stroke-width: 1.5;\"/><line style=\"stroke: #000000; stroke-width: 1.5;\" x1=\"16\" x2=\"114\" y1=\"28.2969\" y2=\"28.2969\"/><text fill=\"#000000\" font-family=\"sans-serif\" font-size=\"14\" font-weight=\"bold\" lengthAdjust=\"spacingAndGlyphs\" textLength=\"85\" x=\"20\" y=\"20.9951\">ActionTest</text></a><!--MD5=[d5e69f78d87373223dbae638b30a9c99]\n",
       "cluster E3--><a href=\"psysml:ad4f18e6-c096-4c58-bb62-14a597e4442d\" target=\"_top\" title=\"psysml:ad4f18e6-c096-4c58-bb62-14a597e4442d\" xlink:actuate=\"onRequest\" xlink:href=\"psysml:ad4f18e6-c096-4c58-bb62-14a597e4442d\" xlink:show=\"new\" xlink:title=\"psysml:ad4f18e6-c096-4c58-bb62-14a597e4442d\" xlink:type=\"simple\"><rect fill=\"#FFFFFF\" filter=\"url(#f1xgv5pk0u09oe)\" height=\"599\" id=\"E3\" rx=\"10\" ry=\"10\" style=\"stroke: #A80036; stroke-width: 1.5;\" width=\"209\" x=\"263\" y=\"49\"/><rect fill=\"#FEFECE\" height=\"37.9375\" rx=\"10\" ry=\"10\" style=\"stroke: #FEFECE; stroke-width: 1.5;\" width=\"209\" x=\"263\" y=\"49\"/><rect fill=\"#FEFECE\" height=\"10\" style=\"stroke: #FEFECE; stroke-width: 1.5;\" width=\"209\" x=\"263\" y=\"76.9375\"/><rect fill=\"none\" height=\"599\" id=\"E3\" rx=\"10\" ry=\"10\" style=\"stroke: #A80036; stroke-width: 1.5;\" width=\"209\" x=\"263\" y=\"49\"/><text fill=\"#000000\" font-family=\"sans-serif\" font-size=\"12\" font-style=\"italic\" lengthAdjust=\"spacingAndGlyphs\" textLength=\"53\" x=\"341\" y=\"65.1387\">«action»</text><text fill=\"#000000\" font-family=\"sans-serif\" font-size=\"12\" lengthAdjust=\"spacingAndGlyphs\" textLength=\"8\" x=\"363.5\" y=\"79.1074\">a</text><line style=\"stroke: #A80036; stroke-width: 1.0;\" x1=\"263\" x2=\"472\" y1=\"86.9375\" y2=\"86.9375\"/></a><!--MD5=[b4997ac47864f28c2f74865a473b2911]\n",
       "class E2--><a href=\"psysml:9e8a127b-f23f-41bc-b046-de56fba8ce50\" target=\"_top\" title=\"psysml:9e8a127b-f23f-41bc-b046-de56fba8ce50\" xlink:actuate=\"onRequest\" xlink:href=\"psysml:9e8a127b-f23f-41bc-b046-de56fba8ce50\" xlink:show=\"new\" xlink:title=\"psysml:9e8a127b-f23f-41bc-b046-de56fba8ce50\" xlink:type=\"simple\"><rect fill=\"#FEFECE\" filter=\"url(#f1xgv5pk0u09oe)\" height=\"45.9375\" id=\"E2\" style=\"stroke: #A80036; stroke-width: 1.5;\" width=\"95\" x=\"151.5\" y=\"87\"/><text fill=\"#000000\" font-family=\"sans-serif\" font-size=\"12\" font-style=\"italic\" lengthAdjust=\"spacingAndGlyphs\" textLength=\"93\" x=\"152.5\" y=\"103.1387\">«attribute def»</text><text fill=\"#000000\" font-family=\"sans-serif\" font-size=\"12\" lengthAdjust=\"spacingAndGlyphs\" textLength=\"8\" x=\"195\" y=\"117.1074\">S</text><line style=\"stroke: #A80036; stroke-width: 1.5;\" x1=\"152.5\" x2=\"245.5\" y1=\"124.9375\" y2=\"124.9375\"/></a><polygon fill=\"#FEFECE\" filter=\"url(#f1xgv5pk0u09oe)\" points=\"420,194,432,206,420,218,408,206,420,194\" style=\"stroke: #A80036; stroke-width: 1.5;\"/><!--MD5=[21dd76c19d33815960c0e92fef8f0eef]\n",
       "entity E5--><a href=\"psysml:ccfba6f1-4ce0-4ddd-afd5-b866d68d47d7\" target=\"_top\" title=\"psysml:ccfba6f1-4ce0-4ddd-afd5-b866d68d47d7\" xlink:actuate=\"onRequest\" xlink:href=\"psysml:ccfba6f1-4ce0-4ddd-afd5-b866d68d47d7\" xlink:show=\"new\" xlink:title=\"psysml:ccfba6f1-4ce0-4ddd-afd5-b866d68d47d7\" xlink:type=\"simple\"><polygon fill=\"#FEFECE\" filter=\"url(#f1xgv5pk0u09oe)\" points=\"279,279,279,333.5938,419,333.5938,399,306.2969,419,279\" style=\"stroke: #000000; stroke-width: 1.5;\"/><text fill=\"#000000\" font-family=\"sans-serif\" font-size=\"14\" font-style=\"italic\" lengthAdjust=\"spacingAndGlyphs\" textLength=\"111\" x=\"286\" y=\"301.9951\">«accept action»</text><text fill=\"#000000\" font-family=\"sans-serif\" font-size=\"14\" lengthAdjust=\"spacingAndGlyphs\" textLength=\"9\" x=\"337\" y=\"319.292\">S</text></a><!--MD5=[24d87cdf3002d433f401b2a2aa9f9f65]\n",
       "entity E6--><a href=\"psysml:f31bbeb6-49c7-47f4-9bac-592fafbdce16\" target=\"_top\" title=\"psysml:f31bbeb6-49c7-47f4-9bac-592fafbdce16\" xlink:actuate=\"onRequest\" xlink:href=\"psysml:f31bbeb6-49c7-47f4-9bac-592fafbdce16\" xlink:show=\"new\" xlink:title=\"psysml:f31bbeb6-49c7-47f4-9bac-592fafbdce16\" xlink:type=\"simple\"><polygon fill=\"#FEFECE\" filter=\"url(#f1xgv5pk0u09oe)\" points=\"279,411,279,465.5938,387,465.5938,407,438.2969,387,411\" style=\"stroke: #000000; stroke-width: 1.5;\"/><text fill=\"#000000\" font-family=\"sans-serif\" font-size=\"14\" font-style=\"italic\" lengthAdjust=\"spacingAndGlyphs\" textLength=\"99\" x=\"286\" y=\"433.9951\">«send action»</text><text fill=\"#000000\" font-family=\"sans-serif\" font-size=\"14\" lengthAdjust=\"spacingAndGlyphs\" textLength=\"65\" x=\"303\" y=\"451.292\">S() to  B()</text></a><polygon fill=\"#FEFECE\" filter=\"url(#f1xgv5pk0u09oe)\" points=\"418,527,430,539,418,551,406,539,418,527\" style=\"stroke: #A80036; stroke-width: 1.5;\"/><ellipse cx=\"420\" cy=\"110\" fill=\"#000000\" filter=\"url(#f1xgv5pk0u09oe)\" rx=\"10\" ry=\"10\" style=\"stroke: none; stroke-width: 1.0;\"/><ellipse cx=\"418\" cy=\"622\" fill=\"none\" filter=\"url(#f1xgv5pk0u09oe)\" rx=\"10\" ry=\"10\" style=\"stroke: #000000; stroke-width: 1.0;\"/><ellipse cx=\"418.5\" cy=\"622.5\" fill=\"#000000\" rx=\"6\" ry=\"6\" style=\"stroke: none; stroke-width: 1.0;\"/><g id=\"E1.E8\"><a href=\"psysml:4eec70ee-61f4-4cab-8137-f00a9e5c8983\" target=\"_top\" title=\"psysml:4eec70ee-61f4-4cab-8137-f00a9e5c8983\" xlink:actuate=\"onRequest\" xlink:href=\"psysml:4eec70ee-61f4-4cab-8137-f00a9e5c8983\" xlink:show=\"new\" xlink:title=\"psysml:4eec70ee-61f4-4cab-8137-f00a9e5c8983\" xlink:type=\"simple\"><rect fill=\"#FEFECE\" filter=\"url(#f1xgv5pk0u09oe)\" height=\"42.9375\" id=\"E8\" style=\"stroke: #A80036; stroke-width: 1.5;\" width=\"84\" x=\"32\" y=\"88.5\"/><text fill=\"#000000\" font-family=\"sans-serif\" font-size=\"12\" font-style=\"italic\" lengthAdjust=\"spacingAndGlyphs\" textLength=\"77\" x=\"35.5\" y=\"104.6387\">«action def»</text><text fill=\"#000000\" font-family=\"sans-serif\" font-size=\"12\" lengthAdjust=\"spacingAndGlyphs\" textLength=\"8\" x=\"70\" y=\"118.6074\">B</text></a></g><!--MD5=[f47e10efcf9a6752d55dae986d790ed9]\n",
       "link *start*E3 to E4--><a href=\"psysml:03e50e83-6fc7-46a8-8453-213dc2aae23c\" target=\"_top\" title=\"psysml:03e50e83-6fc7-46a8-8453-213dc2aae23c\" xlink:actuate=\"onRequest\" xlink:href=\"psysml:03e50e83-6fc7-46a8-8453-213dc2aae23c\" xlink:show=\"new\" xlink:title=\"psysml:03e50e83-6fc7-46a8-8453-213dc2aae23c\" xlink:type=\"simple\"><path d=\"M420,120.01 C420,135.81 420,168.69 420,188.61 \" fill=\"none\" id=\"*start*E3-&gt;E4\" style=\"stroke: #A80036; stroke-width: 1.0;\"/><polygon fill=\"#A80036\" points=\"420,193.85,424,184.85,420,188.85,416,184.85,420,193.85\" style=\"stroke: #A80036; stroke-width: 1.0;\"/></a><!--MD5=[d19f2eb34364d71b67042106d92f540b]\n",
       "link E7 to *end*E3--><a href=\"psysml:c4a668a6-d0f8-468f-9890-a338c2ee16ef\" target=\"_top\" title=\"psysml:c4a668a6-d0f8-468f-9890-a338c2ee16ef\" xlink:actuate=\"onRequest\" xlink:href=\"psysml:c4a668a6-d0f8-468f-9890-a338c2ee16ef\" xlink:show=\"new\" xlink:title=\"psysml:c4a668a6-d0f8-468f-9890-a338c2ee16ef\" xlink:type=\"simple\"><path d=\"M418,551.26 C418,565.66 418,590.63 418,606.46 \" fill=\"none\" id=\"E7-&gt;*end*E3\" style=\"stroke: #A80036; stroke-width: 1.0;\"/><polygon fill=\"#A80036\" points=\"418,611.84,422,602.84,418,606.84,414,602.84,418,611.84\" style=\"stroke: #A80036; stroke-width: 1.0;\"/></a><!--MD5=[1b7591eae5389033d8d09a9d6721a717]\n",
       "link E4 to E5--><a href=\"psysml:f95480df-9a63-41d1-9e12-1ec6bb9c61dc\" target=\"_top\" title=\"psysml:f95480df-9a63-41d1-9e12-1ec6bb9c61dc\" xlink:actuate=\"onRequest\" xlink:href=\"psysml:f95480df-9a63-41d1-9e12-1ec6bb9c61dc\" xlink:show=\"new\" xlink:title=\"psysml:f95480df-9a63-41d1-9e12-1ec6bb9c61dc\" xlink:type=\"simple\"><path d=\"M415.34,213.46 C406.55,225.66 386.99,252.8 371.37,274.46 \" fill=\"none\" id=\"E4-&gt;E5\" style=\"stroke: #A80036; stroke-width: 1.0;\"/><polygon fill=\"#A80036\" points=\"368.31,278.71,376.8093,273.7339,371.227,274.6491,370.3119,269.0667,368.31,278.71\" style=\"stroke: #A80036; stroke-width: 1.0;\"/></a><!--MD5=[9120cf2e5df3bff93db8f754bbbc09b4]\n",
       "link E5 to E6--><a href=\"psysml:73484f54-b4d2-4298-bed2-8c418bf31093\" target=\"_top\" title=\"psysml:73484f54-b4d2-4298-bed2-8c418bf31093\" xlink:actuate=\"onRequest\" xlink:href=\"psysml:73484f54-b4d2-4298-bed2-8c418bf31093\" xlink:show=\"new\" xlink:title=\"psysml:73484f54-b4d2-4298-bed2-8c418bf31093\" xlink:type=\"simple\"><path d=\"M347.77,334.12 C346.81,354.89 345.48,383.8 344.46,405.77 \" fill=\"none\" id=\"E5-&gt;E6\" style=\"stroke: #A80036; stroke-width: 1.0;\"/><polygon fill=\"#A80036\" points=\"344.23,410.91,348.6368,402.1021,344.4583,405.9152,340.6452,401.7367,344.23,410.91\" style=\"stroke: #A80036; stroke-width: 1.0;\"/></a><!--MD5=[02c70b7c851c11e3980e4e90450dc5dd]\n",
       "link E6 to E7--><a href=\"psysml:860bf181-ae5a-4d8b-9cc8-c19fc893dd3f\" target=\"_top\" title=\"psysml:860bf181-ae5a-4d8b-9cc8-c19fc893dd3f\" xlink:actuate=\"onRequest\" xlink:href=\"psysml:860bf181-ae5a-4d8b-9cc8-c19fc893dd3f\" xlink:show=\"new\" xlink:title=\"psysml:860bf181-ae5a-4d8b-9cc8-c19fc893dd3f\" xlink:type=\"simple\"><path d=\"M363.3,466.16 C378.71,486.4 399.07,513.14 410.09,527.61 \" fill=\"none\" id=\"E6-&gt;E7\" style=\"stroke: #A80036; stroke-width: 1.0;\"/><polygon fill=\"#A80036\" points=\"413.2,531.69,410.9398,522.104,410.1749,527.7089,404.57,526.9441,413.2,531.69\" style=\"stroke: #A80036; stroke-width: 1.0;\"/></a><!--MD5=[6bdd27f9905911a7e892a3dc65cf6b7c]\n",
       "link E7 to E4--><a href=\"psysml:227ffbe5-5fbb-4b69-bf2e-f462a1a2545e\" target=\"_top\" title=\"psysml:227ffbe5-5fbb-4b69-bf2e-f462a1a2545e\" xlink:actuate=\"onRequest\" xlink:href=\"psysml:227ffbe5-5fbb-4b69-bf2e-f462a1a2545e\" xlink:show=\"new\" xlink:title=\"psysml:227ffbe5-5fbb-4b69-bf2e-f462a1a2545e\" xlink:type=\"simple\"><path d=\"M419.98,528.56 C426.8,494.71 448.32,376.18 437,279 C434.59,258.32 428.42,234.96 424.21,220.61 \" fill=\"none\" id=\"E7-&gt;E4\" style=\"stroke: #A80036; stroke-width: 1.0;\"/><polygon fill=\"#A80036\" points=\"422.76,215.75,421.4935,225.5171,424.1863,220.5423,429.1611,223.2351,422.76,215.75\" style=\"stroke: #A80036; stroke-width: 1.0;\"/><text fill=\"#000000\" font-family=\"sans-serif\" font-size=\"13\" lengthAdjust=\"spacingAndGlyphs\" textLength=\"36\" x=\"440\" y=\"377.0669\">[true]</text></a><!--MD5=[dcb7a4c9c2947527aa00992b8689a644]\n",
       "@startuml\r\n",
       "skinparam wrapWidth 300\r\n",
       "hide circle\r\n",
       "\r\n",
       "package \"ActionTest\" as E1  [[psysml:fba87211-d6a8-40ff-8d47-80f3cbac0e83 ]]  {\r\n",
       "comp def \"S\" as E2  <<(T,blue)attribute def>> [[psysml:9e8a127b-f23f-41bc-b046-de56fba8ce50 ]] {\r\n",
       "}\r\n",
       "rec usage \"a\" as E3  <<(T,blue)action>> [[psysml:ad4f18e6-c096-4c58-bb62-14a597e4442d ]] {\r\n",
       "choice \"m\" as E4  [[psysml:e85a3052-7a7b-4311-97f8-bb0216d1246f ]] \r\n",
       "accept \" S\" as E5 <<accept action>> [[psysml:ccfba6f1-4ce0-4ddd-afd5-b866d68d47d7 ]] \r\n",
       "send \" S() to  B()\" as E6 <<send action>> [[psysml:f31bbeb6-49c7-47f4-9bac-592fafbdce16 ]] \r\n",
       "choice \"noname\" as E7  [[psysml:7507dc2c-9b39-4c30-b0ef-dd6a627e8c4c ]] \r\n",
       "[*] - -> E4 [[psysml:03e50e83-6fc7-46a8-8453-213dc2aae23c ]] \r\n",
       "E7  - -> [*] [[psysml:c4a668a6-d0f8-468f-9890-a338c2ee16ef ]] \r\n",
       "}\r\n",
       "\r\n",
       "rec def \"B\" as E8  <<(T,blue)action def>> [[psysml:4eec70ee-61f4-4cab-8137-f00a9e5c8983 ]] {\r\n",
       "}\r\n",
       "\r\n",
       "E4 - -> E5 [[psysml:f95480df-9a63-41d1-9e12-1ec6bb9c61dc ]] \r\n",
       "E5 - -> E6 [[psysml:73484f54-b4d2-4298-bed2-8c418bf31093 ]] \r\n",
       "E6 - -> E7 [[psysml:860bf181-ae5a-4d8b-9cc8-c19fc893dd3f ]] \r\n",
       "E7  - -> E4 [[psysml:227ffbe5-5fbb-4b69-bf2e-f462a1a2545e ]] : [true]\r\n",
       "}\r\n",
       "@enduml\r\n",
       "\n",
       "PlantUML version 1.2020.13(Sat Jun 13 12:26:38 UTC 2020)\n",
       "(EPL source distribution)\n",
       "Java Runtime: OpenJDK Runtime Environment\n",
       "JVM: OpenJDK 64-Bit Server VM\n",
       "Default Encoding: UTF-8\n",
       "Language: en\n",
       "Country: null\n",
       "--></g></svg>"
      ]
     },
     "execution_count": 29,
     "metadata": {},
     "output_type": "execute_result"
    }
   ],
   "source": [
    "%viz --style=\"STDCOLOR\" --view=\"MIXED\" \"ActionTest\""
   ]
  },
  {
   "cell_type": "code",
   "execution_count": 30,
   "id": "c8cb64eb",
   "metadata": {
    "execution": {
     "iopub.execute_input": "2021-05-27T06:08:02.179154Z",
     "iopub.status.busy": "2021-05-27T06:08:02.178553Z",
     "iopub.status.idle": "2021-05-27T06:08:02.231735Z",
     "shell.execute_reply": "2021-05-27T06:08:02.231421Z"
    }
   },
   "outputs": [
    {
     "data": {
      "image/svg+xml": [
       "<?xml version=\"1.0\" encoding=\"UTF-8\" standalone=\"no\"?><svg xmlns=\"http://www.w3.org/2000/svg\" xmlns:xlink=\"http://www.w3.org/1999/xlink\" contentScriptType=\"application/ecmascript\" contentStyleType=\"text/css\" height=\"684px\" preserveAspectRatio=\"none\" style=\"width:570px;height:684px;\" version=\"1.1\" viewBox=\"0 0 570 684\" width=\"570px\" zoomAndPan=\"magnify\"><defs><filter height=\"300%\" id=\"f1gl3g5wljbczk\" width=\"300%\" x=\"-1\" y=\"-1\"><feGaussianBlur result=\"blurOut\" stdDeviation=\"2.0\"/><feColorMatrix in=\"blurOut\" result=\"blurOut2\" type=\"matrix\" values=\"0 0 0 0 0 0 0 0 0 0 0 0 0 0 0 0 0 0 .4 0\"/><feOffset dx=\"4.0\" dy=\"4.0\" in=\"blurOut2\" result=\"blurOut3\"/><feBlend in=\"SourceGraphic\" in2=\"blurOut3\" mode=\"normal\"/></filter></defs><g><!--MD5=[fbc87193dbaf4d95561dea2c320d4a47]\n",
       "cluster E1--><a href=\"psysml:fba87211-d6a8-40ff-8d47-80f3cbac0e83\" target=\"_top\" title=\"psysml:fba87211-d6a8-40ff-8d47-80f3cbac0e83\" xlink:actuate=\"onRequest\" xlink:href=\"psysml:fba87211-d6a8-40ff-8d47-80f3cbac0e83\" xlink:show=\"new\" xlink:title=\"psysml:fba87211-d6a8-40ff-8d47-80f3cbac0e83\" xlink:type=\"simple\"><polygon fill=\"#FFFFFF\" filter=\"url(#f1gl3g5wljbczk)\" points=\"16,6,107,6,114,28.2969,548,28.2969,548,672,16,672,16,6\" style=\"stroke: #000000; stroke-width: 1.5;\"/><line style=\"stroke: #000000; stroke-width: 1.5;\" x1=\"16\" x2=\"114\" y1=\"28.2969\" y2=\"28.2969\"/><text fill=\"#000000\" font-family=\"sans-serif\" font-size=\"14\" font-weight=\"bold\" lengthAdjust=\"spacingAndGlyphs\" textLength=\"85\" x=\"20\" y=\"20.9951\">ActionTest</text></a><!--MD5=[d5e69f78d87373223dbae638b30a9c99]\n",
       "cluster E3--><a href=\"psysml:ad4f18e6-c096-4c58-bb62-14a597e4442d\" target=\"_top\" title=\"psysml:ad4f18e6-c096-4c58-bb62-14a597e4442d\" xlink:actuate=\"onRequest\" xlink:href=\"psysml:ad4f18e6-c096-4c58-bb62-14a597e4442d\" xlink:show=\"new\" xlink:title=\"psysml:ad4f18e6-c096-4c58-bb62-14a597e4442d\" xlink:type=\"simple\"><rect fill=\"#FFFFFF\" filter=\"url(#f1gl3g5wljbczk)\" height=\"599\" id=\"E3\" rx=\"10\" ry=\"10\" style=\"stroke: #A80036; stroke-width: 1.5;\" width=\"209\" x=\"315\" y=\"49\"/><rect fill=\"#FEFECE\" height=\"37.9375\" rx=\"10\" ry=\"10\" style=\"stroke: #FEFECE; stroke-width: 1.5;\" width=\"209\" x=\"315\" y=\"49\"/><rect fill=\"#FEFECE\" height=\"10\" style=\"stroke: #FEFECE; stroke-width: 1.5;\" width=\"209\" x=\"315\" y=\"76.9375\"/><rect fill=\"none\" height=\"599\" id=\"E3\" rx=\"10\" ry=\"10\" style=\"stroke: #A80036; stroke-width: 1.5;\" width=\"209\" x=\"315\" y=\"49\"/><text fill=\"#000000\" font-family=\"sans-serif\" font-size=\"12\" font-style=\"italic\" lengthAdjust=\"spacingAndGlyphs\" textLength=\"53\" x=\"393\" y=\"65.1387\">«action»</text><text fill=\"#000000\" font-family=\"sans-serif\" font-size=\"12\" lengthAdjust=\"spacingAndGlyphs\" textLength=\"8\" x=\"415.5\" y=\"79.1074\">a</text><line style=\"stroke: #A80036; stroke-width: 1.0;\" x1=\"315\" x2=\"524\" y1=\"86.9375\" y2=\"86.9375\"/></a><!--MD5=[b4997ac47864f28c2f74865a473b2911]\n",
       "class E2--><a href=\"psysml:9e8a127b-f23f-41bc-b046-de56fba8ce50\" target=\"_top\" title=\"psysml:9e8a127b-f23f-41bc-b046-de56fba8ce50\" xlink:actuate=\"onRequest\" xlink:href=\"psysml:9e8a127b-f23f-41bc-b046-de56fba8ce50\" xlink:show=\"new\" xlink:title=\"psysml:9e8a127b-f23f-41bc-b046-de56fba8ce50\" xlink:type=\"simple\"><rect fill=\"#FEFECE\" filter=\"url(#f1gl3g5wljbczk)\" height=\"45.9375\" id=\"E2\" style=\"stroke: #A80036; stroke-width: 1.5;\" width=\"121\" x=\"177.5\" y=\"87\"/><ellipse cx=\"192.5\" cy=\"105.9688\" fill=\"#A52A2A\" rx=\"11\" ry=\"11\" style=\"stroke: #A80036; stroke-width: 1.0;\"/><path d=\"M192.0938,101.7813 L192.0938,109.7656 L192.75,109.7656 Q194.1875,109.7656 194.7969,108.8594 Q195.4219,107.9375 195.4219,105.7656 Q195.4219,103.5938 194.7969,102.6875 Q194.1875,101.7813 192.75,101.7813 L192.0938,101.7813 Z M189.6406,99.5781 L192.2656,99.5781 Q195.2969,99.5781 196.625,101.0313 Q197.9688,102.4688 197.9688,105.7656 Q197.9688,109.0625 196.625,110.5156 Q195.2969,111.9688 192.2656,111.9688 L189.6406,111.9688 L189.6406,99.5781 Z \"/><text fill=\"#000000\" font-family=\"sans-serif\" font-size=\"12\" font-style=\"italic\" lengthAdjust=\"spacingAndGlyphs\" textLength=\"93\" x=\"204.5\" y=\"103.1387\">«attribute def»</text><text fill=\"#000000\" font-family=\"sans-serif\" font-size=\"12\" lengthAdjust=\"spacingAndGlyphs\" textLength=\"8\" x=\"247\" y=\"117.1074\">S</text><line style=\"stroke: #A80036; stroke-width: 1.5;\" x1=\"178.5\" x2=\"297.5\" y1=\"124.9375\" y2=\"124.9375\"/></a><polygon fill=\"#FEFECE\" filter=\"url(#f1gl3g5wljbczk)\" points=\"472,194,484,206,472,218,460,206,472,194\" style=\"stroke: #A80036; stroke-width: 1.5;\"/><!--MD5=[21dd76c19d33815960c0e92fef8f0eef]\n",
       "entity E5--><a href=\"psysml:ccfba6f1-4ce0-4ddd-afd5-b866d68d47d7\" target=\"_top\" title=\"psysml:ccfba6f1-4ce0-4ddd-afd5-b866d68d47d7\" xlink:actuate=\"onRequest\" xlink:href=\"psysml:ccfba6f1-4ce0-4ddd-afd5-b866d68d47d7\" xlink:show=\"new\" xlink:title=\"psysml:ccfba6f1-4ce0-4ddd-afd5-b866d68d47d7\" xlink:type=\"simple\"><polygon fill=\"#FEFECE\" filter=\"url(#f1gl3g5wljbczk)\" points=\"331,279,331,333.5938,471,333.5938,451,306.2969,471,279\" style=\"stroke: #000000; stroke-width: 1.5;\"/><text fill=\"#000000\" font-family=\"sans-serif\" font-size=\"14\" font-style=\"italic\" lengthAdjust=\"spacingAndGlyphs\" textLength=\"111\" x=\"338\" y=\"301.9951\">«accept action»</text><text fill=\"#000000\" font-family=\"sans-serif\" font-size=\"14\" lengthAdjust=\"spacingAndGlyphs\" textLength=\"9\" x=\"389\" y=\"319.292\">S</text></a><!--MD5=[24d87cdf3002d433f401b2a2aa9f9f65]\n",
       "entity E6--><a href=\"psysml:f31bbeb6-49c7-47f4-9bac-592fafbdce16\" target=\"_top\" title=\"psysml:f31bbeb6-49c7-47f4-9bac-592fafbdce16\" xlink:actuate=\"onRequest\" xlink:href=\"psysml:f31bbeb6-49c7-47f4-9bac-592fafbdce16\" xlink:show=\"new\" xlink:title=\"psysml:f31bbeb6-49c7-47f4-9bac-592fafbdce16\" xlink:type=\"simple\"><polygon fill=\"#FEFECE\" filter=\"url(#f1gl3g5wljbczk)\" points=\"331,411,331,465.5938,439,465.5938,459,438.2969,439,411\" style=\"stroke: #000000; stroke-width: 1.5;\"/><text fill=\"#000000\" font-family=\"sans-serif\" font-size=\"14\" font-style=\"italic\" lengthAdjust=\"spacingAndGlyphs\" textLength=\"99\" x=\"338\" y=\"433.9951\">«send action»</text><text fill=\"#000000\" font-family=\"sans-serif\" font-size=\"14\" lengthAdjust=\"spacingAndGlyphs\" textLength=\"65\" x=\"355\" y=\"451.292\">S() to  B()</text></a><polygon fill=\"#FEFECE\" filter=\"url(#f1gl3g5wljbczk)\" points=\"470,527,482,539,470,551,458,539,470,527\" style=\"stroke: #A80036; stroke-width: 1.5;\"/><ellipse cx=\"472\" cy=\"110\" fill=\"#000000\" filter=\"url(#f1gl3g5wljbczk)\" rx=\"10\" ry=\"10\" style=\"stroke: none; stroke-width: 1.0;\"/><ellipse cx=\"470\" cy=\"622\" fill=\"none\" filter=\"url(#f1gl3g5wljbczk)\" rx=\"10\" ry=\"10\" style=\"stroke: #000000; stroke-width: 1.0;\"/><ellipse cx=\"470.5\" cy=\"622.5\" fill=\"#000000\" rx=\"6\" ry=\"6\" style=\"stroke: none; stroke-width: 1.0;\"/><g id=\"E1.E8\"><a href=\"psysml:4eec70ee-61f4-4cab-8137-f00a9e5c8983\" target=\"_top\" title=\"psysml:4eec70ee-61f4-4cab-8137-f00a9e5c8983\" xlink:actuate=\"onRequest\" xlink:href=\"psysml:4eec70ee-61f4-4cab-8137-f00a9e5c8983\" xlink:show=\"new\" xlink:title=\"psysml:4eec70ee-61f4-4cab-8137-f00a9e5c8983\" xlink:type=\"simple\"><rect fill=\"#FEFECE\" filter=\"url(#f1gl3g5wljbczk)\" height=\"42.9375\" id=\"E8\" style=\"stroke: #A80036; stroke-width: 1.5;\" width=\"110\" x=\"32\" y=\"88.5\"/><ellipse cx=\"49.25\" cy=\"107.4688\" fill=\"#A52A2A\" rx=\"11\" ry=\"11\" style=\"stroke: #A80036; stroke-width: 1.0;\"/><path d=\"M48.8438,103.2813 L48.8438,111.2656 L49.5,111.2656 Q50.9375,111.2656 51.5469,110.3594 Q52.1719,109.4375 52.1719,107.2656 Q52.1719,105.0938 51.5469,104.1875 Q50.9375,103.2813 49.5,103.2813 L48.8438,103.2813 Z M46.3906,101.0781 L49.0156,101.0781 Q52.0469,101.0781 53.375,102.5313 Q54.7188,103.9688 54.7188,107.2656 Q54.7188,110.5625 53.375,112.0156 Q52.0469,113.4688 49.0156,113.4688 L46.3906,113.4688 L46.3906,101.0781 Z \"/><text fill=\"#000000\" font-family=\"sans-serif\" font-size=\"12\" font-style=\"italic\" lengthAdjust=\"spacingAndGlyphs\" textLength=\"77\" x=\"61.75\" y=\"104.6387\">«action def»</text><text fill=\"#000000\" font-family=\"sans-serif\" font-size=\"12\" lengthAdjust=\"spacingAndGlyphs\" textLength=\"8\" x=\"96.25\" y=\"118.6074\">B</text></a></g><!--MD5=[f47e10efcf9a6752d55dae986d790ed9]\n",
       "link *start*E3 to E4--><a href=\"psysml:03e50e83-6fc7-46a8-8453-213dc2aae23c\" target=\"_top\" title=\"psysml:03e50e83-6fc7-46a8-8453-213dc2aae23c\" xlink:actuate=\"onRequest\" xlink:href=\"psysml:03e50e83-6fc7-46a8-8453-213dc2aae23c\" xlink:show=\"new\" xlink:title=\"psysml:03e50e83-6fc7-46a8-8453-213dc2aae23c\" xlink:type=\"simple\"><path d=\"M472,120.01 C472,135.81 472,168.69 472,188.61 \" fill=\"none\" id=\"*start*E3-&gt;E4\" style=\"stroke: #A80036; stroke-width: 1.0;\"/><polygon fill=\"#A80036\" points=\"472,193.85,476,184.85,472,188.85,468,184.85,472,193.85\" style=\"stroke: #A80036; stroke-width: 1.0;\"/></a><!--MD5=[d19f2eb34364d71b67042106d92f540b]\n",
       "link E7 to *end*E3--><a href=\"psysml:c4a668a6-d0f8-468f-9890-a338c2ee16ef\" target=\"_top\" title=\"psysml:c4a668a6-d0f8-468f-9890-a338c2ee16ef\" xlink:actuate=\"onRequest\" xlink:href=\"psysml:c4a668a6-d0f8-468f-9890-a338c2ee16ef\" xlink:show=\"new\" xlink:title=\"psysml:c4a668a6-d0f8-468f-9890-a338c2ee16ef\" xlink:type=\"simple\"><path d=\"M470,551.26 C470,565.66 470,590.63 470,606.46 \" fill=\"none\" id=\"E7-&gt;*end*E3\" style=\"stroke: #A80036; stroke-width: 1.0;\"/><polygon fill=\"#A80036\" points=\"470,611.84,474,602.84,470,606.84,466,602.84,470,611.84\" style=\"stroke: #A80036; stroke-width: 1.0;\"/></a><!--MD5=[1b7591eae5389033d8d09a9d6721a717]\n",
       "link E4 to E5--><a href=\"psysml:f95480df-9a63-41d1-9e12-1ec6bb9c61dc\" target=\"_top\" title=\"psysml:f95480df-9a63-41d1-9e12-1ec6bb9c61dc\" xlink:actuate=\"onRequest\" xlink:href=\"psysml:f95480df-9a63-41d1-9e12-1ec6bb9c61dc\" xlink:show=\"new\" xlink:title=\"psysml:f95480df-9a63-41d1-9e12-1ec6bb9c61dc\" xlink:type=\"simple\"><path d=\"M467.34,213.46 C458.55,225.66 438.99,252.8 423.37,274.46 \" fill=\"none\" id=\"E4-&gt;E5\" style=\"stroke: #A80036; stroke-width: 1.0;\"/><polygon fill=\"#A80036\" points=\"420.31,278.71,428.8093,273.7339,423.227,274.6491,422.3119,269.0667,420.31,278.71\" style=\"stroke: #A80036; stroke-width: 1.0;\"/></a><!--MD5=[9120cf2e5df3bff93db8f754bbbc09b4]\n",
       "link E5 to E6--><a href=\"psysml:73484f54-b4d2-4298-bed2-8c418bf31093\" target=\"_top\" title=\"psysml:73484f54-b4d2-4298-bed2-8c418bf31093\" xlink:actuate=\"onRequest\" xlink:href=\"psysml:73484f54-b4d2-4298-bed2-8c418bf31093\" xlink:show=\"new\" xlink:title=\"psysml:73484f54-b4d2-4298-bed2-8c418bf31093\" xlink:type=\"simple\"><path d=\"M399.77,334.12 C398.81,354.89 397.48,383.8 396.46,405.77 \" fill=\"none\" id=\"E5-&gt;E6\" style=\"stroke: #A80036; stroke-width: 1.0;\"/><polygon fill=\"#A80036\" points=\"396.23,410.91,400.6368,402.1021,396.4583,405.9152,392.6452,401.7367,396.23,410.91\" style=\"stroke: #A80036; stroke-width: 1.0;\"/></a><!--MD5=[02c70b7c851c11e3980e4e90450dc5dd]\n",
       "link E6 to E7--><a href=\"psysml:860bf181-ae5a-4d8b-9cc8-c19fc893dd3f\" target=\"_top\" title=\"psysml:860bf181-ae5a-4d8b-9cc8-c19fc893dd3f\" xlink:actuate=\"onRequest\" xlink:href=\"psysml:860bf181-ae5a-4d8b-9cc8-c19fc893dd3f\" xlink:show=\"new\" xlink:title=\"psysml:860bf181-ae5a-4d8b-9cc8-c19fc893dd3f\" xlink:type=\"simple\"><path d=\"M415.3,466.16 C430.71,486.4 451.07,513.14 462.09,527.61 \" fill=\"none\" id=\"E6-&gt;E7\" style=\"stroke: #A80036; stroke-width: 1.0;\"/><polygon fill=\"#A80036\" points=\"465.2,531.69,462.9398,522.104,462.1749,527.7089,456.57,526.9441,465.2,531.69\" style=\"stroke: #A80036; stroke-width: 1.0;\"/></a><!--MD5=[6bdd27f9905911a7e892a3dc65cf6b7c]\n",
       "link E7 to E4--><a href=\"psysml:227ffbe5-5fbb-4b69-bf2e-f462a1a2545e\" target=\"_top\" title=\"psysml:227ffbe5-5fbb-4b69-bf2e-f462a1a2545e\" xlink:actuate=\"onRequest\" xlink:href=\"psysml:227ffbe5-5fbb-4b69-bf2e-f462a1a2545e\" xlink:show=\"new\" xlink:title=\"psysml:227ffbe5-5fbb-4b69-bf2e-f462a1a2545e\" xlink:type=\"simple\"><path d=\"M471.98,528.56 C478.8,494.71 500.32,376.18 489,279 C486.59,258.32 480.42,234.96 476.21,220.61 \" fill=\"none\" id=\"E7-&gt;E4\" style=\"stroke: #A80036; stroke-width: 1.0;\"/><polygon fill=\"#A80036\" points=\"474.76,215.75,473.4935,225.5171,476.1863,220.5423,481.1611,223.2351,474.76,215.75\" style=\"stroke: #A80036; stroke-width: 1.0;\"/><text fill=\"#000000\" font-family=\"sans-serif\" font-size=\"13\" lengthAdjust=\"spacingAndGlyphs\" textLength=\"36\" x=\"492\" y=\"377.0669\">[true]</text></a><!--MD5=[264f441b401d215858731eb776fb85bf]\n",
       "@startuml\r\n",
       " \r\n",
       "package \"ActionTest\" as E1  [[psysml:fba87211-d6a8-40ff-8d47-80f3cbac0e83 ]]  {\r\n",
       "comp def \"S\" as E2  <<(D,brown)attribute def>> [[psysml:9e8a127b-f23f-41bc-b046-de56fba8ce50 ]] {\r\n",
       "}\r\n",
       "rec usage \"a\" as E3  <<(U,orange)action>> [[psysml:ad4f18e6-c096-4c58-bb62-14a597e4442d ]] {\r\n",
       "choice \"m\" as E4  [[psysml:e85a3052-7a7b-4311-97f8-bb0216d1246f ]] \r\n",
       "accept \" S\" as E5 <<accept action>> [[psysml:ccfba6f1-4ce0-4ddd-afd5-b866d68d47d7 ]] \r\n",
       "send \" S() to  B()\" as E6 <<send action>> [[psysml:f31bbeb6-49c7-47f4-9bac-592fafbdce16 ]] \r\n",
       "choice \"noname\" as E7  [[psysml:7507dc2c-9b39-4c30-b0ef-dd6a627e8c4c ]] \r\n",
       "[*] - -> E4 [[psysml:03e50e83-6fc7-46a8-8453-213dc2aae23c ]] \r\n",
       "E7  - -> [*] [[psysml:c4a668a6-d0f8-468f-9890-a338c2ee16ef ]] \r\n",
       "}\r\n",
       "\r\n",
       "rec def \"B\" as E8  <<(D,brown)action def>> [[psysml:4eec70ee-61f4-4cab-8137-f00a9e5c8983 ]] {\r\n",
       "}\r\n",
       "\r\n",
       "E4 - -> E5 [[psysml:f95480df-9a63-41d1-9e12-1ec6bb9c61dc ]] \r\n",
       "E5 - -> E6 [[psysml:73484f54-b4d2-4298-bed2-8c418bf31093 ]] \r\n",
       "E6 - -> E7 [[psysml:860bf181-ae5a-4d8b-9cc8-c19fc893dd3f ]] \r\n",
       "E7  - -> E4 [[psysml:227ffbe5-5fbb-4b69-bf2e-f462a1a2545e ]] : [true]\r\n",
       "}\r\n",
       "@enduml\r\n",
       "\n",
       "PlantUML version 1.2020.13(Sat Jun 13 12:26:38 UTC 2020)\n",
       "(EPL source distribution)\n",
       "Java Runtime: OpenJDK Runtime Environment\n",
       "JVM: OpenJDK 64-Bit Server VM\n",
       "Default Encoding: UTF-8\n",
       "Language: en\n",
       "Country: null\n",
       "--></g></svg>"
      ]
     },
     "execution_count": 30,
     "metadata": {},
     "output_type": "execute_result"
    }
   ],
   "source": [
    "%viz --style=\"PLANTUML\" --view=\"Default\" \"ActionTest\""
   ]
  },
  {
   "cell_type": "code",
   "execution_count": 31,
   "id": "4d809a0c",
   "metadata": {
    "execution": {
     "iopub.execute_input": "2021-05-27T06:08:02.282607Z",
     "iopub.status.busy": "2021-05-27T06:08:02.281854Z",
     "iopub.status.idle": "2021-05-27T06:08:02.344699Z",
     "shell.execute_reply": "2021-05-27T06:08:02.343046Z"
    }
   },
   "outputs": [
    {
     "data": {
      "image/svg+xml": [
       "<?xml version=\"1.0\" encoding=\"UTF-8\" standalone=\"no\"?><svg xmlns=\"http://www.w3.org/2000/svg\" xmlns:xlink=\"http://www.w3.org/1999/xlink\" contentScriptType=\"application/ecmascript\" contentStyleType=\"text/css\" height=\"187px\" preserveAspectRatio=\"none\" style=\"width:528px;height:187px;\" version=\"1.1\" viewBox=\"0 0 528 187\" width=\"528px\" zoomAndPan=\"magnify\"><defs><filter height=\"300%\" id=\"f1fyaub2snmt7n\" width=\"300%\" x=\"-1\" y=\"-1\"><feGaussianBlur result=\"blurOut\" stdDeviation=\"2.0\"/><feColorMatrix in=\"blurOut\" result=\"blurOut2\" type=\"matrix\" values=\"0 0 0 0 0 0 0 0 0 0 0 0 0 0 0 0 0 0 .4 0\"/><feOffset dx=\"4.0\" dy=\"4.0\" in=\"blurOut2\" result=\"blurOut3\"/><feBlend in=\"SourceGraphic\" in2=\"blurOut3\" mode=\"normal\"/></filter></defs><g><!--MD5=[fbc87193dbaf4d95561dea2c320d4a47]\n",
       "cluster E1--><a href=\"psysml:fba87211-d6a8-40ff-8d47-80f3cbac0e83\" target=\"_top\" title=\"psysml:fba87211-d6a8-40ff-8d47-80f3cbac0e83\" xlink:actuate=\"onRequest\" xlink:href=\"psysml:fba87211-d6a8-40ff-8d47-80f3cbac0e83\" xlink:show=\"new\" xlink:title=\"psysml:fba87211-d6a8-40ff-8d47-80f3cbac0e83\" xlink:type=\"simple\"><polygon fill=\"#FFFFFF\" filter=\"url(#f1fyaub2snmt7n)\" points=\"16,6,107,6,114,28.2969,506,28.2969,506,175,16,175,16,6\" style=\"stroke: #000000; stroke-width: 1.5;\"/><line style=\"stroke: #000000; stroke-width: 1.5;\" x1=\"16\" x2=\"114\" y1=\"28.2969\" y2=\"28.2969\"/><text fill=\"#000000\" font-family=\"sans-serif\" font-size=\"14\" font-weight=\"bold\" lengthAdjust=\"spacingAndGlyphs\" textLength=\"85\" x=\"20\" y=\"20.9951\">ActionTest</text></a><!--MD5=[b4997ac47864f28c2f74865a473b2911]\n",
       "class E2--><a href=\"psysml:9e8a127b-f23f-41bc-b046-de56fba8ce50\" target=\"_top\" title=\"psysml:9e8a127b-f23f-41bc-b046-de56fba8ce50\" xlink:actuate=\"onRequest\" xlink:href=\"psysml:9e8a127b-f23f-41bc-b046-de56fba8ce50\" xlink:show=\"new\" xlink:title=\"psysml:9e8a127b-f23f-41bc-b046-de56fba8ce50\" xlink:type=\"simple\"><rect fill=\"#FEFECE\" filter=\"url(#f1fyaub2snmt7n)\" height=\"45.9375\" id=\"E2\" style=\"stroke: #A80036; stroke-width: 1.5;\" width=\"121\" x=\"368.5\" y=\"77\"/><ellipse cx=\"383.5\" cy=\"95.9688\" fill=\"#A52A2A\" rx=\"11\" ry=\"11\" style=\"stroke: #A80036; stroke-width: 1.0;\"/><path d=\"M383.0938,91.7813 L383.0938,99.7656 L383.75,99.7656 Q385.1875,99.7656 385.7969,98.8594 Q386.4219,97.9375 386.4219,95.7656 Q386.4219,93.5938 385.7969,92.6875 Q385.1875,91.7813 383.75,91.7813 L383.0938,91.7813 Z M380.6406,89.5781 L383.2656,89.5781 Q386.2969,89.5781 387.625,91.0313 Q388.9688,92.4688 388.9688,95.7656 Q388.9688,99.0625 387.625,100.5156 Q386.2969,101.9688 383.2656,101.9688 L380.6406,101.9688 L380.6406,89.5781 Z \"/><text fill=\"#000000\" font-family=\"sans-serif\" font-size=\"12\" font-style=\"italic\" lengthAdjust=\"spacingAndGlyphs\" textLength=\"93\" x=\"395.5\" y=\"93.1387\">«attribute def»</text><text fill=\"#000000\" font-family=\"sans-serif\" font-size=\"12\" lengthAdjust=\"spacingAndGlyphs\" textLength=\"8\" x=\"438\" y=\"107.1074\">S</text><line style=\"stroke: #A80036; stroke-width: 1.5;\" x1=\"369.5\" x2=\"488.5\" y1=\"114.9375\" y2=\"114.9375\"/></a><!--MD5=[09b614a08d8cba4a07c9adeb5e0fee81]\n",
       "class E3--><a href=\"psysml:ad4f18e6-c096-4c58-bb62-14a597e4442d\" target=\"_top\" title=\"psysml:ad4f18e6-c096-4c58-bb62-14a597e4442d\" xlink:actuate=\"onRequest\" xlink:href=\"psysml:ad4f18e6-c096-4c58-bb62-14a597e4442d\" xlink:show=\"new\" xlink:title=\"psysml:ad4f18e6-c096-4c58-bb62-14a597e4442d\" xlink:type=\"simple\"><rect fill=\"#FEFECE\" filter=\"url(#f1fyaub2snmt7n)\" height=\"117.9609\" id=\"E3\" rx=\"10\" ry=\"10\" style=\"stroke: #A80036; stroke-width: 1.5;\" width=\"160\" x=\"173\" y=\"41\"/><ellipse cx=\"224.25\" cy=\"59.9688\" fill=\"#FFA500\" rx=\"11\" ry=\"11\" style=\"stroke: #A80036; stroke-width: 1.0;\"/><path d=\"M220.125,61.8906 L220.125,54.0781 L222.5781,54.0781 L222.5781,62.5156 Q222.5781,63.4375 223.0469,63.9688 Q223.5313,64.5 224.3594,64.5 Q225.2031,64.5 225.6719,63.9688 Q226.1406,63.4375 226.1406,62.5156 L226.1406,54.0781 L228.5938,54.0781 L228.5938,61.8906 Q228.5938,64.4219 227.5938,65.5625 Q226.5938,66.7031 224.3594,66.7031 Q222.1406,66.7031 221.125,65.5625 Q220.125,64.4219 220.125,61.8906 Z \"/><text fill=\"#000000\" font-family=\"sans-serif\" font-size=\"12\" font-style=\"italic\" lengthAdjust=\"spacingAndGlyphs\" textLength=\"53\" x=\"242.75\" y=\"57.1387\">«action»</text><text fill=\"#000000\" font-family=\"sans-serif\" font-size=\"12\" lengthAdjust=\"spacingAndGlyphs\" textLength=\"8\" x=\"265.25\" y=\"71.1074\">a</text><line style=\"stroke: #A80036; stroke-width: 1.5;\" x1=\"174\" x2=\"332\" y1=\"78.9375\" y2=\"78.9375\"/><text fill=\"#000000\" font-family=\"sans-serif\" font-size=\"11\" lengthAdjust=\"spacingAndGlyphs\" textLength=\"69\" x=\"179\" y=\"109.9526\">start: Action</text><text fill=\"#000000\" font-family=\"sans-serif\" font-size=\"11\" font-style=\"italic\" lengthAdjust=\"spacingAndGlyphs\" textLength=\"148\" x=\"179\" y=\"122.7573\">:&gt;&gt;Occurrence::startShot</text><line style=\"stroke: #A80036; stroke-width: 1.0;\" x1=\"174\" x2=\"232.5\" y1=\"93.3398\" y2=\"93.3398\"/><text fill=\"#000000\" font-family=\"sans-serif\" font-size=\"11\" lengthAdjust=\"spacingAndGlyphs\" textLength=\"41\" x=\"232.5\" y=\"96.6479\">actions</text><line style=\"stroke: #A80036; stroke-width: 1.0;\" x1=\"273.5\" x2=\"332\" y1=\"93.3398\" y2=\"93.3398\"/><text fill=\"#000000\" font-family=\"sans-serif\" font-size=\"11\" lengthAdjust=\"spacingAndGlyphs\" textLength=\"11\" x=\"179\" y=\"152.3667\">m</text><line style=\"stroke: #A80036; stroke-width: 1.0;\" x1=\"174\" x2=\"216.5\" y1=\"135.7539\" y2=\"135.7539\"/><text fill=\"#000000\" font-family=\"sans-serif\" font-size=\"11\" lengthAdjust=\"spacingAndGlyphs\" textLength=\"73\" x=\"216.5\" y=\"139.062\">mergeNodes</text><line style=\"stroke: #A80036; stroke-width: 1.0;\" x1=\"289.5\" x2=\"332\" y1=\"135.7539\" y2=\"135.7539\"/></a><!--MD5=[60a26617385b1d2d0262a64233df1f8d]\n",
       "class E6--><a href=\"psysml:4eec70ee-61f4-4cab-8137-f00a9e5c8983\" target=\"_top\" title=\"psysml:4eec70ee-61f4-4cab-8137-f00a9e5c8983\" xlink:actuate=\"onRequest\" xlink:href=\"psysml:4eec70ee-61f4-4cab-8137-f00a9e5c8983\" xlink:show=\"new\" xlink:title=\"psysml:4eec70ee-61f4-4cab-8137-f00a9e5c8983\" xlink:type=\"simple\"><rect fill=\"#FEFECE\" filter=\"url(#f1fyaub2snmt7n)\" height=\"45.9375\" id=\"E6\" style=\"stroke: #A80036; stroke-width: 1.5;\" width=\"105\" x=\"32.5\" y=\"77\"/><ellipse cx=\"47.5\" cy=\"95.9688\" fill=\"#A52A2A\" rx=\"11\" ry=\"11\" style=\"stroke: #A80036; stroke-width: 1.0;\"/><path d=\"M47.0938,91.7813 L47.0938,99.7656 L47.75,99.7656 Q49.1875,99.7656 49.7969,98.8594 Q50.4219,97.9375 50.4219,95.7656 Q50.4219,93.5938 49.7969,92.6875 Q49.1875,91.7813 47.75,91.7813 L47.0938,91.7813 Z M44.6406,89.5781 L47.2656,89.5781 Q50.2969,89.5781 51.625,91.0313 Q52.9688,92.4688 52.9688,95.7656 Q52.9688,99.0625 51.625,100.5156 Q50.2969,101.9688 47.2656,101.9688 L44.6406,101.9688 L44.6406,89.5781 Z \"/><text fill=\"#000000\" font-family=\"sans-serif\" font-size=\"12\" font-style=\"italic\" lengthAdjust=\"spacingAndGlyphs\" textLength=\"77\" x=\"59.5\" y=\"93.1387\">«action def»</text><text fill=\"#000000\" font-family=\"sans-serif\" font-size=\"12\" lengthAdjust=\"spacingAndGlyphs\" textLength=\"8\" x=\"94\" y=\"107.1074\">B</text><line style=\"stroke: #A80036; stroke-width: 1.5;\" x1=\"33.5\" x2=\"136.5\" y1=\"114.9375\" y2=\"114.9375\"/></a><!--MD5=[72a6c95faa2b66633d21061a6c260f96]\n",
       "@startuml\r\n",
       " \r\n",
       "package \"ActionTest\" as E1  [[psysml:fba87211-d6a8-40ff-8d47-80f3cbac0e83 ]]  {\r\n",
       "comp def \"S\" as E2  <<(D,brown)attribute def>> [[psysml:9e8a127b-f23f-41bc-b046-de56fba8ce50 ]] {\r\n",
       "}\r\n",
       "comp usage \"a\" as E3  <<(U,orange)action>> [[psysml:ad4f18e6-c096-4c58-bb62-14a597e4442d ]] {\r\n",
       "- - actions - -\r\n",
       "start: Action\\n//:>>Occurrence::startShot// \r\n",
       "- - mergeNodes - -\r\n",
       "m\r\n",
       "}\r\n",
       "comp def \"B\" as E6  <<(D,brown)action def>> [[psysml:4eec70ee-61f4-4cab-8137-f00a9e5c8983 ]] {\r\n",
       "}\r\n",
       "}\r\n",
       "@enduml\r\n",
       "\n",
       "PlantUML version 1.2020.13(Sat Jun 13 12:26:38 UTC 2020)\n",
       "(EPL source distribution)\n",
       "Java Runtime: OpenJDK Runtime Environment\n",
       "JVM: OpenJDK 64-Bit Server VM\n",
       "Default Encoding: UTF-8\n",
       "Language: en\n",
       "Country: null\n",
       "--></g></svg>"
      ]
     },
     "execution_count": 31,
     "metadata": {},
     "output_type": "execute_result"
    }
   ],
   "source": [
    "%viz --style=\"PLANTUML\" --view=\"Tree\" \"ActionTest\""
   ]
  },
  {
   "cell_type": "code",
   "execution_count": 32,
   "id": "ccedb13a",
   "metadata": {
    "execution": {
     "iopub.execute_input": "2021-05-27T06:08:02.395769Z",
     "iopub.status.busy": "2021-05-27T06:08:02.395411Z",
     "iopub.status.idle": "2021-05-27T06:08:02.539430Z",
     "shell.execute_reply": "2021-05-27T06:08:02.537990Z"
    }
   },
   "outputs": [
    {
     "data": {
      "image/svg+xml": [
       "<?xml version=\"1.0\" encoding=\"UTF-8\" standalone=\"no\"?><svg xmlns=\"http://www.w3.org/2000/svg\" xmlns:xlink=\"http://www.w3.org/1999/xlink\" contentScriptType=\"application/ecmascript\" contentStyleType=\"text/css\" height=\"410px\" preserveAspectRatio=\"none\" style=\"width:603px;height:410px;background:#000000;\" version=\"1.1\" viewBox=\"0 0 603 410\" width=\"603px\" zoomAndPan=\"magnify\"><defs/><g><rect fill=\"#1A131E\" height=\"1\" style=\"stroke: #1A131E; stroke-width: 1.0;\" width=\"1\" x=\"0\" y=\"0\"/><rect fill=\"#FFFFFF\" height=\"53\" style=\"stroke: #FFFFFF; stroke-width: 1.0;\" width=\"602\" x=\"0\" y=\"0\"/><image height=\"53\" width=\"450\" x=\"1\" xlink:href=\"data:image/png;base64,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\" y=\"1\"/><rect fill=\"#FFFFFF\" height=\"205.5625\" style=\"stroke: #FFFFFF; stroke-width: 1.0;\" width=\"602\" x=\"0\" y=\"53\"/><text fill=\"#000000\" font-family=\"sans-serif\" font-size=\"12\" font-weight=\"bold\" lengthAdjust=\"spacingAndGlyphs\" textLength=\"159\" x=\"5\" y=\"69.1387\">Welcome to PlantUML!</text><text fill=\"#000000\" font-family=\"sans-serif\" font-size=\"12\" lengthAdjust=\"spacingAndGlyphs\" textLength=\"0\" x=\"9\" y=\"83.1074\"/><text fill=\"#000000\" font-family=\"sans-serif\" font-size=\"12\" lengthAdjust=\"spacingAndGlyphs\" textLength=\"293\" x=\"5\" y=\"97.0762\">If you use this software, you accept its license.</text><text fill=\"#000000\" font-family=\"sans-serif\" font-size=\"12\" lengthAdjust=\"spacingAndGlyphs\" textLength=\"107\" x=\"5\" y=\"111.0449\">(details by typing</text><text fill=\"#000000\" font-family=\"monospace\" font-size=\"12\" lengthAdjust=\"spacingAndGlyphs\" textLength=\"49\" x=\"116\" y=\"111.0449\">license</text><text fill=\"#000000\" font-family=\"sans-serif\" font-size=\"12\" lengthAdjust=\"spacingAndGlyphs\" textLength=\"56\" x=\"169\" y=\"111.0449\">keyword)</text><text fill=\"#000000\" font-family=\"sans-serif\" font-size=\"12\" lengthAdjust=\"spacingAndGlyphs\" textLength=\"0\" x=\"9\" y=\"125.0137\"/><text fill=\"#000000\" font-family=\"sans-serif\" font-size=\"12\" lengthAdjust=\"spacingAndGlyphs\" textLength=\"283\" x=\"5\" y=\"138.9824\">You can start with a simple UML Diagram like:</text><text fill=\"#000000\" font-family=\"sans-serif\" font-size=\"12\" lengthAdjust=\"spacingAndGlyphs\" textLength=\"0\" x=\"9\" y=\"152.9512\"/><text fill=\"#000000\" font-family=\"monospace\" font-size=\"12\" lengthAdjust=\"spacingAndGlyphs\" textLength=\"119\" x=\"5\" y=\"166.9199\">Bob-&gt;Alice: Hello</text><text fill=\"#000000\" font-family=\"sans-serif\" font-size=\"12\" lengthAdjust=\"spacingAndGlyphs\" textLength=\"0\" x=\"9\" y=\"180.8887\"/><text fill=\"#000000\" font-family=\"sans-serif\" font-size=\"12\" lengthAdjust=\"spacingAndGlyphs\" textLength=\"14\" x=\"5\" y=\"194.8574\">Or</text><text fill=\"#000000\" font-family=\"sans-serif\" font-size=\"12\" lengthAdjust=\"spacingAndGlyphs\" textLength=\"0\" x=\"9\" y=\"208.8262\"/><text fill=\"#000000\" font-family=\"monospace\" font-size=\"12\" lengthAdjust=\"spacingAndGlyphs\" textLength=\"91\" x=\"5\" y=\"222.7949\">class Example</text><text fill=\"#000000\" font-family=\"sans-serif\" font-size=\"12\" lengthAdjust=\"spacingAndGlyphs\" textLength=\"0\" x=\"9\" y=\"236.7637\"/><text fill=\"#000000\" font-family=\"sans-serif\" font-size=\"12\" lengthAdjust=\"spacingAndGlyphs\" textLength=\"349\" x=\"5\" y=\"250.7324\">You will find more information about PlantUML syntax on</text><text fill=\"#000000\" font-family=\"sans-serif\" font-size=\"12\" lengthAdjust=\"spacingAndGlyphs\" text-decoration=\"underline\" textLength=\"129\" x=\"358\" y=\"250.7324\">https://plantuml.com</text><image height=\"71\" width=\"80\" x=\"516\" xlink:href=\"data:image/png;base64,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\" y=\"59\"/><rect fill=\"#000000\" height=\"96.4844\" style=\"stroke: #000000; stroke-width: 1.0;\" width=\"602\" x=\"0\" y=\"258.5625\"/><rect fill=\"#33FF02\" height=\"21.2969\" style=\"stroke: #33FF02; stroke-width: 1.0;\" width=\"170\" x=\"5\" y=\"263.5625\"/><text fill=\"#000000\" font-family=\"sans-serif\" font-size=\"14\" font-weight=\"bold\" lengthAdjust=\"spacingAndGlyphs\" textLength=\"168\" x=\"6\" y=\"278.5625\">[From string (line 2) ]</text><text fill=\"#33FF02\" font-family=\"sans-serif\" font-size=\"14\" font-weight=\"bold\" lengthAdjust=\"spacingAndGlyphs\" textLength=\"0\" x=\"10\" y=\"298.8594\"/><text fill=\"#33FF02\" font-family=\"sans-serif\" font-size=\"14\" font-weight=\"bold\" lengthAdjust=\"spacingAndGlyphs\" textLength=\"79\" x=\"5\" y=\"315.1563\">@startuml</text><text fill=\"#33FF02\" font-family=\"sans-serif\" font-size=\"14\" font-weight=\"bold\" lengthAdjust=\"spacingAndGlyphs\" textLength=\"0\" x=\"10\" y=\"331.4531\"/><text fill=\"#FF0000\" font-family=\"sans-serif\" font-size=\"14\" font-weight=\"bold\" lengthAdjust=\"spacingAndGlyphs\" textLength=\"142\" x=\"10\" y=\"347.75\">Empty description</text><rect fill=\"#FFFFFF\" height=\"53\" style=\"stroke: #FFFFFF; stroke-width: 1.0;\" width=\"602\" x=\"0\" y=\"355.0469\"/><image height=\"53\" width=\"450\" x=\"1\" xlink:href=\"data:image/png;base64,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\" y=\"356.0469\"/><!--MD5=[f59edd8218d337f74d0c332fc6737304]\n",
       "@startuml\r\n",
       " \r\n",
       "@enduml\r\n",
       "\n",
       "PlantUML version 1.2020.13(Sat Jun 13 12:26:38 UTC 2020)\n",
       "(EPL source distribution)\n",
       "Java Runtime: OpenJDK Runtime Environment\n",
       "JVM: OpenJDK 64-Bit Server VM\n",
       "Default Encoding: UTF-8\n",
       "Language: en\n",
       "Country: null\n",
       "--></g></svg>"
      ]
     },
     "execution_count": 32,
     "metadata": {},
     "output_type": "execute_result"
    }
   ],
   "source": [
    "%viz --style=\"PLANTUML\" --view=\"State\" \"ActionTest\""
   ]
  },
  {
   "cell_type": "code",
   "execution_count": 33,
   "id": "33bd1dde",
   "metadata": {
    "execution": {
     "iopub.execute_input": "2021-05-27T06:08:02.589324Z",
     "iopub.status.busy": "2021-05-27T06:08:02.588929Z",
     "iopub.status.idle": "2021-05-27T06:08:02.628357Z",
     "shell.execute_reply": "2021-05-27T06:08:02.628008Z"
    }
   },
   "outputs": [
    {
     "data": {
      "image/svg+xml": [
       "<?xml version=\"1.0\" encoding=\"UTF-8\" standalone=\"no\"?><svg xmlns=\"http://www.w3.org/2000/svg\" xmlns:xlink=\"http://www.w3.org/1999/xlink\" contentScriptType=\"application/ecmascript\" contentStyleType=\"text/css\" height=\"462px\" preserveAspectRatio=\"none\" style=\"width:574px;height:462px;\" version=\"1.1\" viewBox=\"0 0 574 462\" width=\"574px\" zoomAndPan=\"magnify\"><defs><filter height=\"300%\" id=\"fklny883zgykd\" width=\"300%\" x=\"-1\" y=\"-1\"><feGaussianBlur result=\"blurOut\" stdDeviation=\"2.0\"/><feColorMatrix in=\"blurOut\" result=\"blurOut2\" type=\"matrix\" values=\"0 0 0 0 0 0 0 0 0 0 0 0 0 0 0 0 0 0 .4 0\"/><feOffset dx=\"4.0\" dy=\"4.0\" in=\"blurOut2\" result=\"blurOut3\"/><feBlend in=\"SourceGraphic\" in2=\"blurOut3\" mode=\"normal\"/></filter></defs><g><!--MD5=[fbc87193dbaf4d95561dea2c320d4a47]\n",
       "cluster E1--><a href=\"psysml:fba87211-d6a8-40ff-8d47-80f3cbac0e83\" target=\"_top\" title=\"psysml:fba87211-d6a8-40ff-8d47-80f3cbac0e83\" xlink:actuate=\"onRequest\" xlink:href=\"psysml:fba87211-d6a8-40ff-8d47-80f3cbac0e83\" xlink:show=\"new\" xlink:title=\"psysml:fba87211-d6a8-40ff-8d47-80f3cbac0e83\" xlink:type=\"simple\"><polygon fill=\"#FFFFFF\" filter=\"url(#fklny883zgykd)\" points=\"16,6,107,6,114,28.2969,552,28.2969,552,450.5,16,450.5,16,6\" style=\"stroke: #000000; stroke-width: 1.5;\"/><line style=\"stroke: #000000; stroke-width: 1.5;\" x1=\"16\" x2=\"114\" y1=\"28.2969\" y2=\"28.2969\"/><text fill=\"#000000\" font-family=\"sans-serif\" font-size=\"14\" font-weight=\"bold\" lengthAdjust=\"spacingAndGlyphs\" textLength=\"85\" x=\"20\" y=\"20.9951\">ActionTest</text></a><!--MD5=[d5e69f78d87373223dbae638b30a9c99]\n",
       "cluster E3--><a href=\"psysml:ad4f18e6-c096-4c58-bb62-14a597e4442d\" target=\"_top\" title=\"psysml:ad4f18e6-c096-4c58-bb62-14a597e4442d\" xlink:actuate=\"onRequest\" xlink:href=\"psysml:ad4f18e6-c096-4c58-bb62-14a597e4442d\" xlink:show=\"new\" xlink:title=\"psysml:ad4f18e6-c096-4c58-bb62-14a597e4442d\" xlink:type=\"simple\"><rect fill=\"#FFFFFF\" filter=\"url(#fklny883zgykd)\" height=\"377.5\" id=\"E3\" rx=\"10\" ry=\"10\" style=\"stroke: #A80036; stroke-width: 1.5;\" width=\"209\" x=\"319\" y=\"49\"/><rect fill=\"#FEFECE\" height=\"37.9375\" rx=\"10\" ry=\"10\" style=\"stroke: #FEFECE; stroke-width: 1.5;\" width=\"209\" x=\"319\" y=\"49\"/><rect fill=\"#FEFECE\" height=\"10\" style=\"stroke: #FEFECE; stroke-width: 1.5;\" width=\"209\" x=\"319\" y=\"76.9375\"/><rect fill=\"none\" height=\"377.5\" id=\"E3\" rx=\"10\" ry=\"10\" style=\"stroke: #A80036; stroke-width: 1.5;\" width=\"209\" x=\"319\" y=\"49\"/><text fill=\"#000000\" font-family=\"sans-serif\" font-size=\"12\" font-style=\"italic\" lengthAdjust=\"spacingAndGlyphs\" textLength=\"53\" x=\"397\" y=\"65.1387\">«action»</text><text fill=\"#000000\" font-family=\"sans-serif\" font-size=\"12\" lengthAdjust=\"spacingAndGlyphs\" textLength=\"8\" x=\"419.5\" y=\"79.1074\">a</text><line style=\"stroke: #A80036; stroke-width: 1.0;\" x1=\"319\" x2=\"528\" y1=\"86.9375\" y2=\"86.9375\"/></a><g id=\"E1.E2\"><a href=\"psysml:9e8a127b-f23f-41bc-b046-de56fba8ce50\" target=\"_top\" title=\"psysml:9e8a127b-f23f-41bc-b046-de56fba8ce50\" xlink:actuate=\"onRequest\" xlink:href=\"psysml:9e8a127b-f23f-41bc-b046-de56fba8ce50\" xlink:show=\"new\" xlink:title=\"psysml:9e8a127b-f23f-41bc-b046-de56fba8ce50\" xlink:type=\"simple\"><rect fill=\"#FEFECE\" filter=\"url(#fklny883zgykd)\" height=\"42.9375\" id=\"E2\" style=\"stroke: #A80036; stroke-width: 1.5;\" width=\"126\" x=\"177\" y=\"88.5\"/><ellipse cx=\"194.25\" cy=\"107.4688\" fill=\"#A52A2A\" rx=\"11\" ry=\"11\" style=\"stroke: #A80036; stroke-width: 1.0;\"/><path d=\"M193.8438,103.2813 L193.8438,111.2656 L194.5,111.2656 Q195.9375,111.2656 196.5469,110.3594 Q197.1719,109.4375 197.1719,107.2656 Q197.1719,105.0938 196.5469,104.1875 Q195.9375,103.2813 194.5,103.2813 L193.8438,103.2813 Z M191.3906,101.0781 L194.0156,101.0781 Q197.0469,101.0781 198.375,102.5313 Q199.7188,103.9688 199.7188,107.2656 Q199.7188,110.5625 198.375,112.0156 Q197.0469,113.4688 194.0156,113.4688 L191.3906,113.4688 L191.3906,101.0781 Z \"/><text fill=\"#000000\" font-family=\"sans-serif\" font-size=\"12\" font-style=\"italic\" lengthAdjust=\"spacingAndGlyphs\" textLength=\"93\" x=\"206.75\" y=\"104.6387\">«attribute def»</text><text fill=\"#000000\" font-family=\"sans-serif\" font-size=\"12\" lengthAdjust=\"spacingAndGlyphs\" textLength=\"8\" x=\"249.25\" y=\"118.6074\">S</text></a></g><polygon fill=\"#FEFECE\" filter=\"url(#fklny883zgykd)\" points=\"476,148.5,488,160.5,476,172.5,464,160.5,476,148.5\" style=\"stroke: #A80036; stroke-width: 1.5;\"/><!--MD5=[21dd76c19d33815960c0e92fef8f0eef]\n",
       "entity E5--><a href=\"psysml:ccfba6f1-4ce0-4ddd-afd5-b866d68d47d7\" target=\"_top\" title=\"psysml:ccfba6f1-4ce0-4ddd-afd5-b866d68d47d7\" xlink:actuate=\"onRequest\" xlink:href=\"psysml:ccfba6f1-4ce0-4ddd-afd5-b866d68d47d7\" xlink:show=\"new\" xlink:title=\"psysml:ccfba6f1-4ce0-4ddd-afd5-b866d68d47d7\" xlink:type=\"simple\"><polygon fill=\"#FEFECE\" filter=\"url(#fklny883zgykd)\" points=\"335,189.5,335,244.0938,475,244.0938,455,216.7969,475,189.5\" style=\"stroke: #000000; stroke-width: 1.5;\"/><text fill=\"#000000\" font-family=\"sans-serif\" font-size=\"14\" font-style=\"italic\" lengthAdjust=\"spacingAndGlyphs\" textLength=\"111\" x=\"342\" y=\"212.4951\">«accept action»</text><text fill=\"#000000\" font-family=\"sans-serif\" font-size=\"14\" lengthAdjust=\"spacingAndGlyphs\" textLength=\"9\" x=\"393\" y=\"229.792\">S</text></a><!--MD5=[24d87cdf3002d433f401b2a2aa9f9f65]\n",
       "entity E6--><a href=\"psysml:f31bbeb6-49c7-47f4-9bac-592fafbdce16\" target=\"_top\" title=\"psysml:f31bbeb6-49c7-47f4-9bac-592fafbdce16\" xlink:actuate=\"onRequest\" xlink:href=\"psysml:f31bbeb6-49c7-47f4-9bac-592fafbdce16\" xlink:show=\"new\" xlink:title=\"psysml:f31bbeb6-49c7-47f4-9bac-592fafbdce16\" xlink:type=\"simple\"><polygon fill=\"#FEFECE\" filter=\"url(#fklny883zgykd)\" points=\"335,277.5,335,332.0938,443,332.0938,463,304.7969,443,277.5\" style=\"stroke: #000000; stroke-width: 1.5;\"/><text fill=\"#000000\" font-family=\"sans-serif\" font-size=\"14\" font-style=\"italic\" lengthAdjust=\"spacingAndGlyphs\" textLength=\"99\" x=\"342\" y=\"300.4951\">«send action»</text><text fill=\"#000000\" font-family=\"sans-serif\" font-size=\"14\" lengthAdjust=\"spacingAndGlyphs\" textLength=\"65\" x=\"359\" y=\"317.792\">S() to  B()</text></a><polygon fill=\"#FEFECE\" filter=\"url(#fklny883zgykd)\" points=\"474,349.5,486,361.5,474,373.5,462,361.5,474,349.5\" style=\"stroke: #A80036; stroke-width: 1.5;\"/><ellipse cx=\"476\" cy=\"110\" fill=\"#000000\" filter=\"url(#fklny883zgykd)\" rx=\"10\" ry=\"10\" style=\"stroke: none; stroke-width: 1.0;\"/><ellipse cx=\"474\" cy=\"400.5\" fill=\"none\" filter=\"url(#fklny883zgykd)\" rx=\"10\" ry=\"10\" style=\"stroke: #000000; stroke-width: 1.0;\"/><ellipse cx=\"474.5\" cy=\"401\" fill=\"#000000\" rx=\"6\" ry=\"6\" style=\"stroke: none; stroke-width: 1.0;\"/><g id=\"E1.E8\"><a href=\"psysml:4eec70ee-61f4-4cab-8137-f00a9e5c8983\" target=\"_top\" title=\"psysml:4eec70ee-61f4-4cab-8137-f00a9e5c8983\" xlink:actuate=\"onRequest\" xlink:href=\"psysml:4eec70ee-61f4-4cab-8137-f00a9e5c8983\" xlink:show=\"new\" xlink:title=\"psysml:4eec70ee-61f4-4cab-8137-f00a9e5c8983\" xlink:type=\"simple\"><rect fill=\"#FEFECE\" filter=\"url(#fklny883zgykd)\" height=\"42.9375\" id=\"E8\" style=\"stroke: #A80036; stroke-width: 1.5;\" width=\"110\" x=\"32\" y=\"88.5\"/><ellipse cx=\"49.25\" cy=\"107.4688\" fill=\"#A52A2A\" rx=\"11\" ry=\"11\" style=\"stroke: #A80036; stroke-width: 1.0;\"/><path d=\"M48.8438,103.2813 L48.8438,111.2656 L49.5,111.2656 Q50.9375,111.2656 51.5469,110.3594 Q52.1719,109.4375 52.1719,107.2656 Q52.1719,105.0938 51.5469,104.1875 Q50.9375,103.2813 49.5,103.2813 L48.8438,103.2813 Z M46.3906,101.0781 L49.0156,101.0781 Q52.0469,101.0781 53.375,102.5313 Q54.7188,103.9688 54.7188,107.2656 Q54.7188,110.5625 53.375,112.0156 Q52.0469,113.4688 49.0156,113.4688 L46.3906,113.4688 L46.3906,101.0781 Z \"/><text fill=\"#000000\" font-family=\"sans-serif\" font-size=\"12\" font-style=\"italic\" lengthAdjust=\"spacingAndGlyphs\" textLength=\"77\" x=\"61.75\" y=\"104.6387\">«action def»</text><text fill=\"#000000\" font-family=\"sans-serif\" font-size=\"12\" lengthAdjust=\"spacingAndGlyphs\" textLength=\"8\" x=\"96.25\" y=\"118.6074\">B</text></a></g><!--MD5=[f47e10efcf9a6752d55dae986d790ed9]\n",
       "link *start*E3 to E4--><a href=\"psysml:03e50e83-6fc7-46a8-8453-213dc2aae23c\" target=\"_top\" title=\"psysml:03e50e83-6fc7-46a8-8453-213dc2aae23c\" xlink:actuate=\"onRequest\" xlink:href=\"psysml:03e50e83-6fc7-46a8-8453-213dc2aae23c\" xlink:show=\"new\" xlink:title=\"psysml:03e50e83-6fc7-46a8-8453-213dc2aae23c\" xlink:type=\"simple\"><path d=\"M476,120.35 C476,126.88 476,135.77 476,143.42 \" fill=\"none\" id=\"*start*E3-&gt;E4\" style=\"stroke: #A80036; stroke-width: 1.0;\"/><polygon fill=\"#A80036\" points=\"476,148.48,480,139.48,476,143.48,472,139.48,476,148.48\" style=\"stroke: #A80036; stroke-width: 1.0;\"/></a><!--MD5=[d19f2eb34364d71b67042106d92f540b]\n",
       "link E7 to *end*E3--><a href=\"psysml:c4a668a6-d0f8-468f-9890-a338c2ee16ef\" target=\"_top\" title=\"psysml:c4a668a6-d0f8-468f-9890-a338c2ee16ef\" xlink:actuate=\"onRequest\" xlink:href=\"psysml:c4a668a6-d0f8-468f-9890-a338c2ee16ef\" xlink:show=\"new\" xlink:title=\"psysml:c4a668a6-d0f8-468f-9890-a338c2ee16ef\" xlink:type=\"simple\"><path d=\"M474,373.8 C474,377.34 474,381.3 474,385.03 \" fill=\"none\" id=\"E7-&gt;*end*E3\" style=\"stroke: #A80036; stroke-width: 1.0;\"/><polygon fill=\"#A80036\" points=\"474,390.25,478,381.25,474,385.25,470,381.25,474,390.25\" style=\"stroke: #A80036; stroke-width: 1.0;\"/></a><!--MD5=[1b7591eae5389033d8d09a9d6721a717]\n",
       "link E4 to E5--><a href=\"psysml:f95480df-9a63-41d1-9e12-1ec6bb9c61dc\" target=\"_top\" title=\"psysml:f95480df-9a63-41d1-9e12-1ec6bb9c61dc\" xlink:actuate=\"onRequest\" xlink:href=\"psysml:f95480df-9a63-41d1-9e12-1ec6bb9c61dc\" xlink:show=\"new\" xlink:title=\"psysml:f95480df-9a63-41d1-9e12-1ec6bb9c61dc\" xlink:type=\"simple\"><path d=\"M469.45,166.53 C463.33,171.23 453.65,178.66 443.64,186.34 \" fill=\"none\" id=\"E4-&gt;E5\" style=\"stroke: #A80036; stroke-width: 1.0;\"/><polygon fill=\"#A80036\" points=\"439.64,189.41,449.2129,187.0948,443.6037,186.3621,444.3363,180.7529,439.64,189.41\" style=\"stroke: #A80036; stroke-width: 1.0;\"/></a><!--MD5=[9120cf2e5df3bff93db8f754bbbc09b4]\n",
       "link E5 to E6--><a href=\"psysml:73484f54-b4d2-4298-bed2-8c418bf31093\" target=\"_top\" title=\"psysml:73484f54-b4d2-4298-bed2-8c418bf31093\" xlink:actuate=\"onRequest\" xlink:href=\"psysml:73484f54-b4d2-4298-bed2-8c418bf31093\" xlink:show=\"new\" xlink:title=\"psysml:73484f54-b4d2-4298-bed2-8c418bf31093\" xlink:type=\"simple\"><path d=\"M403.13,244.74 C402.53,253.4 401.85,263.08 401.23,272.08 \" fill=\"none\" id=\"E5-&gt;E6\" style=\"stroke: #A80036; stroke-width: 1.0;\"/><polygon fill=\"#A80036\" points=\"400.86,277.28,405.468,268.5756,401.203,272.2918,397.4869,268.0268,400.86,277.28\" style=\"stroke: #A80036; stroke-width: 1.0;\"/></a><!--MD5=[02c70b7c851c11e3980e4e90450dc5dd]\n",
       "link E6 to E7--><a href=\"psysml:860bf181-ae5a-4d8b-9cc8-c19fc893dd3f\" target=\"_top\" title=\"psysml:860bf181-ae5a-4d8b-9cc8-c19fc893dd3f\" xlink:actuate=\"onRequest\" xlink:href=\"psysml:860bf181-ae5a-4d8b-9cc8-c19fc893dd3f\" xlink:show=\"new\" xlink:title=\"psysml:860bf181-ae5a-4d8b-9cc8-c19fc893dd3f\" xlink:type=\"simple\"><path d=\"M435.62,332.61 C445.72,339.95 455.91,347.35 463.24,352.68 \" fill=\"none\" id=\"E6-&gt;E7\" style=\"stroke: #A80036; stroke-width: 1.0;\"/><polygon fill=\"#A80036\" points=\"467.42,355.72,462.4976,347.1894,463.3776,352.7774,457.7896,353.6574,467.42,355.72\" style=\"stroke: #A80036; stroke-width: 1.0;\"/></a><!--MD5=[6bdd27f9905911a7e892a3dc65cf6b7c]\n",
       "link E7 to E4--><a href=\"psysml:227ffbe5-5fbb-4b69-bf2e-f462a1a2545e\" target=\"_top\" title=\"psysml:227ffbe5-5fbb-4b69-bf2e-f462a1a2545e\" xlink:actuate=\"onRequest\" xlink:href=\"psysml:227ffbe5-5fbb-4b69-bf2e-f462a1a2545e\" xlink:show=\"new\" xlink:title=\"psysml:227ffbe5-5fbb-4b69-bf2e-f462a1a2545e\" xlink:type=\"simple\"><path d=\"M477,352.49 C485.84,327.73 510.06,250.48 493,189.5 C491.26,183.29 487.73,177.1 484.34,172.12 \" fill=\"none\" id=\"E7-&gt;E4\" style=\"stroke: #A80036; stroke-width: 1.0;\"/><polygon fill=\"#A80036\" points=\"481.31,167.92,483.3342,177.5586,484.2364,171.9741,489.8209,172.8763,481.31,167.92\" style=\"stroke: #A80036; stroke-width: 1.0;\"/><text fill=\"#000000\" font-family=\"sans-serif\" font-size=\"13\" lengthAdjust=\"spacingAndGlyphs\" textLength=\"36\" x=\"499\" y=\"265.5669\">[true]</text></a><!--MD5=[a7ccc9ba09254a74da6f04b12190f65b]\n",
       "@startuml\r\n",
       "skinparam ranksep 10\r\n",
       "skinparam rectangle {\r\n",
       " backgroundColor<<block>> LightGreen\r\n",
       "}\r\n",
       " \r\n",
       "package \"ActionTest\" as E1  [[psysml:fba87211-d6a8-40ff-8d47-80f3cbac0e83 ]]  {\r\n",
       "def \"S\" as E2  <<(D,brown)attribute def>> [[psysml:9e8a127b-f23f-41bc-b046-de56fba8ce50 ]] \r\n",
       "rec usage \"a\" as E3  <<(U,orange)action>> [[psysml:ad4f18e6-c096-4c58-bb62-14a597e4442d ]] {\r\n",
       "choice \"m\" as E4  [[psysml:e85a3052-7a7b-4311-97f8-bb0216d1246f ]] \r\n",
       "accept \" S\" as E5 <<accept action>> [[psysml:ccfba6f1-4ce0-4ddd-afd5-b866d68d47d7 ]] \r\n",
       "send \" S() to  B()\" as E6 <<send action>> [[psysml:f31bbeb6-49c7-47f4-9bac-592fafbdce16 ]] \r\n",
       "choice \"noname\" as E7  [[psysml:7507dc2c-9b39-4c30-b0ef-dd6a627e8c4c ]] \r\n",
       "[*] - -> E4 [[psysml:03e50e83-6fc7-46a8-8453-213dc2aae23c ]] \r\n",
       "E7  - -> [*] [[psysml:c4a668a6-d0f8-468f-9890-a338c2ee16ef ]] \r\n",
       "}\r\n",
       "\r\n",
       "rec def \"B\" as E8  <<(D,brown)action def>> [[psysml:4eec70ee-61f4-4cab-8137-f00a9e5c8983 ]] {\r\n",
       "}\r\n",
       "\r\n",
       "E4 - -> E5 [[psysml:f95480df-9a63-41d1-9e12-1ec6bb9c61dc ]] \r\n",
       "E5 - -> E6 [[psysml:73484f54-b4d2-4298-bed2-8c418bf31093 ]] \r\n",
       "E6 - -> E7 [[psysml:860bf181-ae5a-4d8b-9cc8-c19fc893dd3f ]] \r\n",
       "E7  - -> E4 [[psysml:227ffbe5-5fbb-4b69-bf2e-f462a1a2545e ]] : [true]\r\n",
       "}\r\n",
       "@enduml\r\n",
       "\n",
       "PlantUML version 1.2020.13(Sat Jun 13 12:26:38 UTC 2020)\n",
       "(EPL source distribution)\n",
       "Java Runtime: OpenJDK Runtime Environment\n",
       "JVM: OpenJDK 64-Bit Server VM\n",
       "Default Encoding: UTF-8\n",
       "Language: en\n",
       "Country: null\n",
       "--></g></svg>"
      ]
     },
     "execution_count": 33,
     "metadata": {},
     "output_type": "execute_result"
    }
   ],
   "source": [
    "%viz --style=\"PLANTUML\" --view=\"Interconnection\" \"ActionTest\""
   ]
  },
  {
   "cell_type": "code",
   "execution_count": 34,
   "id": "eb4d2b39",
   "metadata": {
    "execution": {
     "iopub.execute_input": "2021-05-27T06:08:02.678320Z",
     "iopub.status.busy": "2021-05-27T06:08:02.677566Z",
     "iopub.status.idle": "2021-05-27T06:08:02.717065Z",
     "shell.execute_reply": "2021-05-27T06:08:02.715621Z"
    }
   },
   "outputs": [
    {
     "data": {
      "image/svg+xml": [
       "<?xml version=\"1.0\" encoding=\"UTF-8\" standalone=\"no\"?><svg xmlns=\"http://www.w3.org/2000/svg\" xmlns:xlink=\"http://www.w3.org/1999/xlink\" contentScriptType=\"application/ecmascript\" contentStyleType=\"text/css\" height=\"403px\" preserveAspectRatio=\"none\" style=\"width:361px;height:403px;\" version=\"1.1\" viewBox=\"0 0 361 403\" width=\"361px\" zoomAndPan=\"magnify\"><defs><filter height=\"300%\" id=\"f9fe67ujyv9j\" width=\"300%\" x=\"-1\" y=\"-1\"><feGaussianBlur result=\"blurOut\" stdDeviation=\"2.0\"/><feColorMatrix in=\"blurOut\" result=\"blurOut2\" type=\"matrix\" values=\"0 0 0 0 0 0 0 0 0 0 0 0 0 0 0 0 0 0 .4 0\"/><feOffset dx=\"4.0\" dy=\"4.0\" in=\"blurOut2\" result=\"blurOut3\"/><feBlend in=\"SourceGraphic\" in2=\"blurOut3\" mode=\"normal\"/></filter></defs><g><!--MD5=[fbc87193dbaf4d95561dea2c320d4a47]\n",
       "cluster E1--><a href=\"psysml:ad4f18e6-c096-4c58-bb62-14a597e4442d\" target=\"_top\" title=\"psysml:ad4f18e6-c096-4c58-bb62-14a597e4442d\" xlink:actuate=\"onRequest\" xlink:href=\"psysml:ad4f18e6-c096-4c58-bb62-14a597e4442d\" xlink:show=\"new\" xlink:title=\"psysml:ad4f18e6-c096-4c58-bb62-14a597e4442d\" xlink:type=\"simple\"><rect fill=\"#FFFFFF\" filter=\"url(#f9fe67ujyv9j)\" height=\"377.5\" id=\"E1\" rx=\"10\" ry=\"10\" style=\"stroke: #A80036; stroke-width: 1.5;\" width=\"209\" x=\"133\" y=\"7\"/><rect fill=\"#FEFECE\" height=\"37.9375\" rx=\"10\" ry=\"10\" style=\"stroke: #FEFECE; stroke-width: 1.5;\" width=\"209\" x=\"133\" y=\"7\"/><rect fill=\"#FEFECE\" height=\"10\" style=\"stroke: #FEFECE; stroke-width: 1.5;\" width=\"209\" x=\"133\" y=\"34.9375\"/><rect fill=\"none\" height=\"377.5\" id=\"E1\" rx=\"10\" ry=\"10\" style=\"stroke: #A80036; stroke-width: 1.5;\" width=\"209\" x=\"133\" y=\"7\"/><text fill=\"#000000\" font-family=\"sans-serif\" font-size=\"12\" font-style=\"italic\" lengthAdjust=\"spacingAndGlyphs\" textLength=\"53\" x=\"211\" y=\"23.1387\">«action»</text><text fill=\"#000000\" font-family=\"sans-serif\" font-size=\"12\" lengthAdjust=\"spacingAndGlyphs\" textLength=\"8\" x=\"233.5\" y=\"37.1074\">a</text><line style=\"stroke: #A80036; stroke-width: 1.0;\" x1=\"133\" x2=\"342\" y1=\"44.9375\" y2=\"44.9375\"/></a><polygon fill=\"#FEFECE\" filter=\"url(#f9fe67ujyv9j)\" points=\"290,106.5,302,118.5,290,130.5,278,118.5,290,106.5\" style=\"stroke: #A80036; stroke-width: 1.5;\"/><!--MD5=[a60fb756f580feb9fd8e2cf1329b5c91]\n",
       "entity E3--><a href=\"psysml:ccfba6f1-4ce0-4ddd-afd5-b866d68d47d7\" target=\"_top\" title=\"psysml:ccfba6f1-4ce0-4ddd-afd5-b866d68d47d7\" xlink:actuate=\"onRequest\" xlink:href=\"psysml:ccfba6f1-4ce0-4ddd-afd5-b866d68d47d7\" xlink:show=\"new\" xlink:title=\"psysml:ccfba6f1-4ce0-4ddd-afd5-b866d68d47d7\" xlink:type=\"simple\"><polygon fill=\"#FEFECE\" filter=\"url(#f9fe67ujyv9j)\" points=\"149,147.5,149,202.0938,289,202.0938,269,174.7969,289,147.5\" style=\"stroke: #000000; stroke-width: 1.5;\"/><text fill=\"#000000\" font-family=\"sans-serif\" font-size=\"14\" font-style=\"italic\" lengthAdjust=\"spacingAndGlyphs\" textLength=\"111\" x=\"156\" y=\"170.4951\">«accept action»</text><text fill=\"#000000\" font-family=\"sans-serif\" font-size=\"14\" lengthAdjust=\"spacingAndGlyphs\" textLength=\"9\" x=\"207\" y=\"187.792\">S</text></a><!--MD5=[961cefdc15414eaa3e87aec9d17c2188]\n",
       "entity E4--><a href=\"psysml:f31bbeb6-49c7-47f4-9bac-592fafbdce16\" target=\"_top\" title=\"psysml:f31bbeb6-49c7-47f4-9bac-592fafbdce16\" xlink:actuate=\"onRequest\" xlink:href=\"psysml:f31bbeb6-49c7-47f4-9bac-592fafbdce16\" xlink:show=\"new\" xlink:title=\"psysml:f31bbeb6-49c7-47f4-9bac-592fafbdce16\" xlink:type=\"simple\"><polygon fill=\"#FEFECE\" filter=\"url(#f9fe67ujyv9j)\" points=\"149,235.5,149,290.0938,257,290.0938,277,262.7969,257,235.5\" style=\"stroke: #000000; stroke-width: 1.5;\"/><text fill=\"#000000\" font-family=\"sans-serif\" font-size=\"14\" font-style=\"italic\" lengthAdjust=\"spacingAndGlyphs\" textLength=\"99\" x=\"156\" y=\"258.4951\">«send action»</text><text fill=\"#000000\" font-family=\"sans-serif\" font-size=\"14\" lengthAdjust=\"spacingAndGlyphs\" textLength=\"65\" x=\"173\" y=\"275.792\">S() to  B()</text></a><polygon fill=\"#FEFECE\" filter=\"url(#f9fe67ujyv9j)\" points=\"288,307.5,300,319.5,288,331.5,276,319.5,288,307.5\" style=\"stroke: #A80036; stroke-width: 1.5;\"/><ellipse cx=\"290\" cy=\"68\" fill=\"#000000\" filter=\"url(#f9fe67ujyv9j)\" rx=\"10\" ry=\"10\" style=\"stroke: none; stroke-width: 1.0;\"/><ellipse cx=\"288\" cy=\"358.5\" fill=\"none\" filter=\"url(#f9fe67ujyv9j)\" rx=\"10\" ry=\"10\" style=\"stroke: #000000; stroke-width: 1.0;\"/><ellipse cx=\"288.5\" cy=\"359\" fill=\"#000000\" rx=\"6\" ry=\"6\" style=\"stroke: none; stroke-width: 1.0;\"/><g id=\"E6\"><a href=\"psysml:4eec70ee-61f4-4cab-8137-f00a9e5c8983\" target=\"_top\" title=\"psysml:4eec70ee-61f4-4cab-8137-f00a9e5c8983\" xlink:actuate=\"onRequest\" xlink:href=\"psysml:4eec70ee-61f4-4cab-8137-f00a9e5c8983\" xlink:show=\"new\" xlink:title=\"psysml:4eec70ee-61f4-4cab-8137-f00a9e5c8983\" xlink:type=\"simple\"><rect fill=\"#FEFECE\" filter=\"url(#f9fe67ujyv9j)\" height=\"42.9375\" id=\"E6\" style=\"stroke: #A80036; stroke-width: 1.5;\" width=\"110\" x=\"7\" y=\"46.5\"/><ellipse cx=\"24.25\" cy=\"65.4688\" fill=\"#A52A2A\" rx=\"11\" ry=\"11\" style=\"stroke: #A80036; stroke-width: 1.0;\"/><path d=\"M23.8438,61.2813 L23.8438,69.2656 L24.5,69.2656 Q25.9375,69.2656 26.5469,68.3594 Q27.1719,67.4375 27.1719,65.2656 Q27.1719,63.0938 26.5469,62.1875 Q25.9375,61.2813 24.5,61.2813 L23.8438,61.2813 Z M21.3906,59.0781 L24.0156,59.0781 Q27.0469,59.0781 28.375,60.5313 Q29.7188,61.9688 29.7188,65.2656 Q29.7188,68.5625 28.375,70.0156 Q27.0469,71.4688 24.0156,71.4688 L21.3906,71.4688 L21.3906,59.0781 Z \"/><text fill=\"#000000\" font-family=\"sans-serif\" font-size=\"12\" font-style=\"italic\" lengthAdjust=\"spacingAndGlyphs\" textLength=\"77\" x=\"36.75\" y=\"62.6387\">«action def»</text><text fill=\"#000000\" font-family=\"sans-serif\" font-size=\"12\" lengthAdjust=\"spacingAndGlyphs\" textLength=\"8\" x=\"71.25\" y=\"76.6074\">B</text></a></g><!--MD5=[cff944eb183b832d446717a4e202d613]\n",
       "link *start*E1 to E2--><a href=\"psysml:03e50e83-6fc7-46a8-8453-213dc2aae23c\" target=\"_top\" title=\"psysml:03e50e83-6fc7-46a8-8453-213dc2aae23c\" xlink:actuate=\"onRequest\" xlink:href=\"psysml:03e50e83-6fc7-46a8-8453-213dc2aae23c\" xlink:show=\"new\" xlink:title=\"psysml:03e50e83-6fc7-46a8-8453-213dc2aae23c\" xlink:type=\"simple\"><path d=\"M290,78.35 C290,84.88 290,93.77 290,101.42 \" fill=\"none\" id=\"*start*E1-&gt;E2\" style=\"stroke: #A80036; stroke-width: 1.0; stroke-dasharray: 7.0,7.0;\"/><polygon fill=\"#A80036\" points=\"290,106.48,294,97.48,290,101.48,286,97.48,290,106.48\" style=\"stroke: #A80036; stroke-width: 1.0;\"/></a><!--MD5=[7fc47fc0d107820853a137871ad908c8]\n",
       "link E5 to *end*E1--><a href=\"psysml:c4a668a6-d0f8-468f-9890-a338c2ee16ef\" target=\"_top\" title=\"psysml:c4a668a6-d0f8-468f-9890-a338c2ee16ef\" xlink:actuate=\"onRequest\" xlink:href=\"psysml:c4a668a6-d0f8-468f-9890-a338c2ee16ef\" xlink:show=\"new\" xlink:title=\"psysml:c4a668a6-d0f8-468f-9890-a338c2ee16ef\" xlink:type=\"simple\"><path d=\"M288,331.8 C288,335.34 288,339.3 288,343.03 \" fill=\"none\" id=\"E5-&gt;*end*E1\" style=\"stroke: #A80036; stroke-width: 1.0; stroke-dasharray: 7.0,7.0;\"/><polygon fill=\"#A80036\" points=\"288,348.25,292,339.25,288,343.25,284,339.25,288,348.25\" style=\"stroke: #A80036; stroke-width: 1.0;\"/></a><!--MD5=[2720a5a1f2c3fca2055b230370638851]\n",
       "link E2 to E3--><a href=\"psysml:f95480df-9a63-41d1-9e12-1ec6bb9c61dc\" target=\"_top\" title=\"psysml:f95480df-9a63-41d1-9e12-1ec6bb9c61dc\" xlink:actuate=\"onRequest\" xlink:href=\"psysml:f95480df-9a63-41d1-9e12-1ec6bb9c61dc\" xlink:show=\"new\" xlink:title=\"psysml:f95480df-9a63-41d1-9e12-1ec6bb9c61dc\" xlink:type=\"simple\"><path d=\"M283.45,124.53 C277.33,129.23 267.65,136.66 257.64,144.34 \" fill=\"none\" id=\"E2-&gt;E3\" style=\"stroke: #A80036; stroke-width: 1.0; stroke-dasharray: 7.0,7.0;\"/><polygon fill=\"#A80036\" points=\"253.64,147.41,263.2129,145.0948,257.6037,144.3621,258.3363,138.7529,253.64,147.41\" style=\"stroke: #A80036; stroke-width: 1.0;\"/></a><!--MD5=[af87c684e3b0d8be13c1a698a818ef1e]\n",
       "link E3 to E4--><a href=\"psysml:73484f54-b4d2-4298-bed2-8c418bf31093\" target=\"_top\" title=\"psysml:73484f54-b4d2-4298-bed2-8c418bf31093\" xlink:actuate=\"onRequest\" xlink:href=\"psysml:73484f54-b4d2-4298-bed2-8c418bf31093\" xlink:show=\"new\" xlink:title=\"psysml:73484f54-b4d2-4298-bed2-8c418bf31093\" xlink:type=\"simple\"><path d=\"M217.13,202.74 C216.53,211.4 215.85,221.08 215.23,230.08 \" fill=\"none\" id=\"E3-&gt;E4\" style=\"stroke: #A80036; stroke-width: 1.0; stroke-dasharray: 7.0,7.0;\"/><polygon fill=\"#A80036\" points=\"214.86,235.28,219.468,226.5756,215.203,230.2918,211.4869,226.0268,214.86,235.28\" style=\"stroke: #A80036; stroke-width: 1.0;\"/></a><!--MD5=[1b7591eae5389033d8d09a9d6721a717]\n",
       "link E4 to E5--><a href=\"psysml:860bf181-ae5a-4d8b-9cc8-c19fc893dd3f\" target=\"_top\" title=\"psysml:860bf181-ae5a-4d8b-9cc8-c19fc893dd3f\" xlink:actuate=\"onRequest\" xlink:href=\"psysml:860bf181-ae5a-4d8b-9cc8-c19fc893dd3f\" xlink:show=\"new\" xlink:title=\"psysml:860bf181-ae5a-4d8b-9cc8-c19fc893dd3f\" xlink:type=\"simple\"><path d=\"M249.62,290.61 C259.72,297.95 269.91,305.35 277.24,310.68 \" fill=\"none\" id=\"E4-&gt;E5\" style=\"stroke: #A80036; stroke-width: 1.0; stroke-dasharray: 7.0,7.0;\"/><polygon fill=\"#A80036\" points=\"281.42,313.72,276.4976,305.1894,277.3776,310.7774,271.7896,311.6574,281.42,313.72\" style=\"stroke: #A80036; stroke-width: 1.0;\"/></a><!--MD5=[15ebcb19ae302d9b601edb458606d402]\n",
       "link E5 to E2--><a href=\"psysml:227ffbe5-5fbb-4b69-bf2e-f462a1a2545e\" target=\"_top\" title=\"psysml:227ffbe5-5fbb-4b69-bf2e-f462a1a2545e\" xlink:actuate=\"onRequest\" xlink:href=\"psysml:227ffbe5-5fbb-4b69-bf2e-f462a1a2545e\" xlink:show=\"new\" xlink:title=\"psysml:227ffbe5-5fbb-4b69-bf2e-f462a1a2545e\" xlink:type=\"simple\"><path d=\"M291,310.49 C299.84,285.73 324.06,208.48 307,147.5 C305.26,141.29 301.73,135.1 298.34,130.12 \" fill=\"none\" id=\"E5-&gt;E2\" style=\"stroke: #A80036; stroke-width: 1.0; stroke-dasharray: 7.0,7.0;\"/><polygon fill=\"#A80036\" points=\"295.31,125.92,297.3342,135.5586,298.2364,129.9741,303.8209,130.8763,295.31,125.92\" style=\"stroke: #A80036; stroke-width: 1.0;\"/><text fill=\"#000000\" font-family=\"sans-serif\" font-size=\"13\" lengthAdjust=\"spacingAndGlyphs\" textLength=\"36\" x=\"313\" y=\"223.5669\">[true]</text></a><!--MD5=[dabf1aa2d7729ba52975d24698de40ec]\n",
       "@startuml\r\n",
       "skinparam ranksep 8\r\n",
       " \r\n",
       "rec usage \"a\" as E1  <<(U,orange)action>> [[psysml:ad4f18e6-c096-4c58-bb62-14a597e4442d ]] {\r\n",
       "choice \"m\" as E2  [[psysml:e85a3052-7a7b-4311-97f8-bb0216d1246f ]] \r\n",
       "accept \" S\" as E3 <<accept action>> [[psysml:ccfba6f1-4ce0-4ddd-afd5-b866d68d47d7 ]] \r\n",
       "send \" S() to  B()\" as E4 <<send action>> [[psysml:f31bbeb6-49c7-47f4-9bac-592fafbdce16 ]] \r\n",
       "choice \"noname\" as E5  [[psysml:7507dc2c-9b39-4c30-b0ef-dd6a627e8c4c ]] \r\n",
       "[*] ..> E2 [[psysml:03e50e83-6fc7-46a8-8453-213dc2aae23c ]] \r\n",
       "E5 ..> [*] [[psysml:c4a668a6-d0f8-468f-9890-a338c2ee16ef ]] \r\n",
       "}\r\n",
       "\r\n",
       "E2 ..> E3 [[psysml:f95480df-9a63-41d1-9e12-1ec6bb9c61dc ]] \r\n",
       "E3 ..> E4 [[psysml:73484f54-b4d2-4298-bed2-8c418bf31093 ]] \r\n",
       "E4 ..> E5 [[psysml:860bf181-ae5a-4d8b-9cc8-c19fc893dd3f ]] \r\n",
       "E5 ..> E2 [[psysml:227ffbe5-5fbb-4b69-bf2e-f462a1a2545e ]] : [true]\r\n",
       "rec def \"B\" as E6  <<(D,brown)action def>> [[psysml:4eec70ee-61f4-4cab-8137-f00a9e5c8983 ]] {\r\n",
       "}\r\n",
       "\r\n",
       "@enduml\r\n",
       "\n",
       "PlantUML version 1.2020.13(Sat Jun 13 12:26:38 UTC 2020)\n",
       "(EPL source distribution)\n",
       "Java Runtime: OpenJDK Runtime Environment\n",
       "JVM: OpenJDK 64-Bit Server VM\n",
       "Default Encoding: UTF-8\n",
       "Language: en\n",
       "Country: null\n",
       "--></g></svg>"
      ]
     },
     "execution_count": 34,
     "metadata": {},
     "output_type": "execute_result"
    }
   ],
   "source": [
    "%viz --style=\"PLANTUML\" --view=\"Action\" \"ActionTest\""
   ]
  },
  {
   "cell_type": "code",
   "execution_count": 35,
   "id": "b761d7c8",
   "metadata": {
    "execution": {
     "iopub.execute_input": "2021-05-27T06:08:02.766884Z",
     "iopub.status.busy": "2021-05-27T06:08:02.766531Z",
     "iopub.status.idle": "2021-05-27T06:08:02.829086Z",
     "shell.execute_reply": "2021-05-27T06:08:02.828469Z"
    }
   },
   "outputs": [
    {
     "data": {
      "image/svg+xml": [
       "<?xml version=\"1.0\" encoding=\"UTF-8\" standalone=\"no\"?><svg xmlns=\"http://www.w3.org/2000/svg\" xmlns:xlink=\"http://www.w3.org/1999/xlink\" contentScriptType=\"application/ecmascript\" contentStyleType=\"text/css\" height=\"187px\" preserveAspectRatio=\"none\" style=\"width:528px;height:187px;\" version=\"1.1\" viewBox=\"0 0 528 187\" width=\"528px\" zoomAndPan=\"magnify\"><defs><filter height=\"300%\" id=\"f1fyaub2snmt7n\" width=\"300%\" x=\"-1\" y=\"-1\"><feGaussianBlur result=\"blurOut\" stdDeviation=\"2.0\"/><feColorMatrix in=\"blurOut\" result=\"blurOut2\" type=\"matrix\" values=\"0 0 0 0 0 0 0 0 0 0 0 0 0 0 0 0 0 0 .4 0\"/><feOffset dx=\"4.0\" dy=\"4.0\" in=\"blurOut2\" result=\"blurOut3\"/><feBlend in=\"SourceGraphic\" in2=\"blurOut3\" mode=\"normal\"/></filter></defs><g><!--MD5=[fbc87193dbaf4d95561dea2c320d4a47]\n",
       "cluster E1--><a href=\"psysml:fba87211-d6a8-40ff-8d47-80f3cbac0e83\" target=\"_top\" title=\"psysml:fba87211-d6a8-40ff-8d47-80f3cbac0e83\" xlink:actuate=\"onRequest\" xlink:href=\"psysml:fba87211-d6a8-40ff-8d47-80f3cbac0e83\" xlink:show=\"new\" xlink:title=\"psysml:fba87211-d6a8-40ff-8d47-80f3cbac0e83\" xlink:type=\"simple\"><polygon fill=\"#FFFFFF\" filter=\"url(#f1fyaub2snmt7n)\" points=\"16,6,107,6,114,28.2969,506,28.2969,506,175,16,175,16,6\" style=\"stroke: #000000; stroke-width: 1.5;\"/><line style=\"stroke: #000000; stroke-width: 1.5;\" x1=\"16\" x2=\"114\" y1=\"28.2969\" y2=\"28.2969\"/><text fill=\"#000000\" font-family=\"sans-serif\" font-size=\"14\" font-weight=\"bold\" lengthAdjust=\"spacingAndGlyphs\" textLength=\"85\" x=\"20\" y=\"20.9951\">ActionTest</text></a><!--MD5=[b4997ac47864f28c2f74865a473b2911]\n",
       "class E2--><a href=\"psysml:9e8a127b-f23f-41bc-b046-de56fba8ce50\" target=\"_top\" title=\"psysml:9e8a127b-f23f-41bc-b046-de56fba8ce50\" xlink:actuate=\"onRequest\" xlink:href=\"psysml:9e8a127b-f23f-41bc-b046-de56fba8ce50\" xlink:show=\"new\" xlink:title=\"psysml:9e8a127b-f23f-41bc-b046-de56fba8ce50\" xlink:type=\"simple\"><rect fill=\"#FEFECE\" filter=\"url(#f1fyaub2snmt7n)\" height=\"45.9375\" id=\"E2\" style=\"stroke: #A80036; stroke-width: 1.5;\" width=\"121\" x=\"368.5\" y=\"77\"/><ellipse cx=\"383.5\" cy=\"95.9688\" fill=\"#A52A2A\" rx=\"11\" ry=\"11\" style=\"stroke: #A80036; stroke-width: 1.0;\"/><path d=\"M383.0938,91.7813 L383.0938,99.7656 L383.75,99.7656 Q385.1875,99.7656 385.7969,98.8594 Q386.4219,97.9375 386.4219,95.7656 Q386.4219,93.5938 385.7969,92.6875 Q385.1875,91.7813 383.75,91.7813 L383.0938,91.7813 Z M380.6406,89.5781 L383.2656,89.5781 Q386.2969,89.5781 387.625,91.0313 Q388.9688,92.4688 388.9688,95.7656 Q388.9688,99.0625 387.625,100.5156 Q386.2969,101.9688 383.2656,101.9688 L380.6406,101.9688 L380.6406,89.5781 Z \"/><text fill=\"#000000\" font-family=\"sans-serif\" font-size=\"12\" font-style=\"italic\" lengthAdjust=\"spacingAndGlyphs\" textLength=\"93\" x=\"395.5\" y=\"93.1387\">«attribute def»</text><text fill=\"#000000\" font-family=\"sans-serif\" font-size=\"12\" lengthAdjust=\"spacingAndGlyphs\" textLength=\"8\" x=\"438\" y=\"107.1074\">S</text><line style=\"stroke: #A80036; stroke-width: 1.5;\" x1=\"369.5\" x2=\"488.5\" y1=\"114.9375\" y2=\"114.9375\"/></a><!--MD5=[09b614a08d8cba4a07c9adeb5e0fee81]\n",
       "class E3--><a href=\"psysml:ad4f18e6-c096-4c58-bb62-14a597e4442d\" target=\"_top\" title=\"psysml:ad4f18e6-c096-4c58-bb62-14a597e4442d\" xlink:actuate=\"onRequest\" xlink:href=\"psysml:ad4f18e6-c096-4c58-bb62-14a597e4442d\" xlink:show=\"new\" xlink:title=\"psysml:ad4f18e6-c096-4c58-bb62-14a597e4442d\" xlink:type=\"simple\"><rect fill=\"#FEFECE\" filter=\"url(#f1fyaub2snmt7n)\" height=\"117.9609\" id=\"E3\" rx=\"10\" ry=\"10\" style=\"stroke: #A80036; stroke-width: 1.5;\" width=\"160\" x=\"173\" y=\"41\"/><ellipse cx=\"224.25\" cy=\"59.9688\" fill=\"#FFA500\" rx=\"11\" ry=\"11\" style=\"stroke: #A80036; stroke-width: 1.0;\"/><path d=\"M220.125,61.8906 L220.125,54.0781 L222.5781,54.0781 L222.5781,62.5156 Q222.5781,63.4375 223.0469,63.9688 Q223.5313,64.5 224.3594,64.5 Q225.2031,64.5 225.6719,63.9688 Q226.1406,63.4375 226.1406,62.5156 L226.1406,54.0781 L228.5938,54.0781 L228.5938,61.8906 Q228.5938,64.4219 227.5938,65.5625 Q226.5938,66.7031 224.3594,66.7031 Q222.1406,66.7031 221.125,65.5625 Q220.125,64.4219 220.125,61.8906 Z \"/><text fill=\"#000000\" font-family=\"sans-serif\" font-size=\"12\" font-style=\"italic\" lengthAdjust=\"spacingAndGlyphs\" textLength=\"53\" x=\"242.75\" y=\"57.1387\">«action»</text><text fill=\"#000000\" font-family=\"sans-serif\" font-size=\"12\" lengthAdjust=\"spacingAndGlyphs\" textLength=\"8\" x=\"265.25\" y=\"71.1074\">a</text><line style=\"stroke: #A80036; stroke-width: 1.5;\" x1=\"174\" x2=\"332\" y1=\"78.9375\" y2=\"78.9375\"/><text fill=\"#000000\" font-family=\"sans-serif\" font-size=\"11\" lengthAdjust=\"spacingAndGlyphs\" textLength=\"69\" x=\"179\" y=\"109.9526\">start: Action</text><text fill=\"#000000\" font-family=\"sans-serif\" font-size=\"11\" font-style=\"italic\" lengthAdjust=\"spacingAndGlyphs\" textLength=\"148\" x=\"179\" y=\"122.7573\">:&gt;&gt;Occurrence::startShot</text><line style=\"stroke: #A80036; stroke-width: 1.0;\" x1=\"174\" x2=\"232.5\" y1=\"93.3398\" y2=\"93.3398\"/><text fill=\"#000000\" font-family=\"sans-serif\" font-size=\"11\" lengthAdjust=\"spacingAndGlyphs\" textLength=\"41\" x=\"232.5\" y=\"96.6479\">actions</text><line style=\"stroke: #A80036; stroke-width: 1.0;\" x1=\"273.5\" x2=\"332\" y1=\"93.3398\" y2=\"93.3398\"/><text fill=\"#000000\" font-family=\"sans-serif\" font-size=\"11\" lengthAdjust=\"spacingAndGlyphs\" textLength=\"11\" x=\"179\" y=\"152.3667\">m</text><line style=\"stroke: #A80036; stroke-width: 1.0;\" x1=\"174\" x2=\"216.5\" y1=\"135.7539\" y2=\"135.7539\"/><text fill=\"#000000\" font-family=\"sans-serif\" font-size=\"11\" lengthAdjust=\"spacingAndGlyphs\" textLength=\"73\" x=\"216.5\" y=\"139.062\">mergeNodes</text><line style=\"stroke: #A80036; stroke-width: 1.0;\" x1=\"289.5\" x2=\"332\" y1=\"135.7539\" y2=\"135.7539\"/></a><!--MD5=[60a26617385b1d2d0262a64233df1f8d]\n",
       "class E6--><a href=\"psysml:4eec70ee-61f4-4cab-8137-f00a9e5c8983\" target=\"_top\" title=\"psysml:4eec70ee-61f4-4cab-8137-f00a9e5c8983\" xlink:actuate=\"onRequest\" xlink:href=\"psysml:4eec70ee-61f4-4cab-8137-f00a9e5c8983\" xlink:show=\"new\" xlink:title=\"psysml:4eec70ee-61f4-4cab-8137-f00a9e5c8983\" xlink:type=\"simple\"><rect fill=\"#FEFECE\" filter=\"url(#f1fyaub2snmt7n)\" height=\"45.9375\" id=\"E6\" style=\"stroke: #A80036; stroke-width: 1.5;\" width=\"105\" x=\"32.5\" y=\"77\"/><ellipse cx=\"47.5\" cy=\"95.9688\" fill=\"#A52A2A\" rx=\"11\" ry=\"11\" style=\"stroke: #A80036; stroke-width: 1.0;\"/><path d=\"M47.0938,91.7813 L47.0938,99.7656 L47.75,99.7656 Q49.1875,99.7656 49.7969,98.8594 Q50.4219,97.9375 50.4219,95.7656 Q50.4219,93.5938 49.7969,92.6875 Q49.1875,91.7813 47.75,91.7813 L47.0938,91.7813 Z M44.6406,89.5781 L47.2656,89.5781 Q50.2969,89.5781 51.625,91.0313 Q52.9688,92.4688 52.9688,95.7656 Q52.9688,99.0625 51.625,100.5156 Q50.2969,101.9688 47.2656,101.9688 L44.6406,101.9688 L44.6406,89.5781 Z \"/><text fill=\"#000000\" font-family=\"sans-serif\" font-size=\"12\" font-style=\"italic\" lengthAdjust=\"spacingAndGlyphs\" textLength=\"77\" x=\"59.5\" y=\"93.1387\">«action def»</text><text fill=\"#000000\" font-family=\"sans-serif\" font-size=\"12\" lengthAdjust=\"spacingAndGlyphs\" textLength=\"8\" x=\"94\" y=\"107.1074\">B</text><line style=\"stroke: #A80036; stroke-width: 1.5;\" x1=\"33.5\" x2=\"136.5\" y1=\"114.9375\" y2=\"114.9375\"/></a><!--MD5=[72a6c95faa2b66633d21061a6c260f96]\n",
       "@startuml\r\n",
       " \r\n",
       "package \"ActionTest\" as E1  [[psysml:fba87211-d6a8-40ff-8d47-80f3cbac0e83 ]]  {\r\n",
       "comp def \"S\" as E2  <<(D,brown)attribute def>> [[psysml:9e8a127b-f23f-41bc-b046-de56fba8ce50 ]] {\r\n",
       "}\r\n",
       "comp usage \"a\" as E3  <<(U,orange)action>> [[psysml:ad4f18e6-c096-4c58-bb62-14a597e4442d ]] {\r\n",
       "- - actions - -\r\n",
       "start: Action\\n//:>>Occurrence::startShot// \r\n",
       "- - mergeNodes - -\r\n",
       "m\r\n",
       "}\r\n",
       "comp def \"B\" as E6  <<(D,brown)action def>> [[psysml:4eec70ee-61f4-4cab-8137-f00a9e5c8983 ]] {\r\n",
       "}\r\n",
       "}\r\n",
       "@enduml\r\n",
       "\n",
       "PlantUML version 1.2020.13(Sat Jun 13 12:26:38 UTC 2020)\n",
       "(EPL source distribution)\n",
       "Java Runtime: OpenJDK Runtime Environment\n",
       "JVM: OpenJDK 64-Bit Server VM\n",
       "Default Encoding: UTF-8\n",
       "Language: en\n",
       "Country: null\n",
       "--></g></svg>"
      ]
     },
     "execution_count": 35,
     "metadata": {},
     "output_type": "execute_result"
    }
   ],
   "source": [
    "%viz --style=\"PLANTUML\" --view=\"Sequence\" \"ActionTest\""
   ]
  },
  {
   "cell_type": "code",
   "execution_count": 36,
   "id": "0787fa12",
   "metadata": {
    "execution": {
     "iopub.execute_input": "2021-05-27T06:08:02.879449Z",
     "iopub.status.busy": "2021-05-27T06:08:02.878940Z",
     "iopub.status.idle": "2021-05-27T06:08:02.917371Z",
     "shell.execute_reply": "2021-05-27T06:08:02.916209Z"
    }
   },
   "outputs": [
    {
     "data": {
      "image/svg+xml": [
       "<?xml version=\"1.0\" encoding=\"UTF-8\" standalone=\"no\"?><svg xmlns=\"http://www.w3.org/2000/svg\" xmlns:xlink=\"http://www.w3.org/1999/xlink\" contentScriptType=\"application/ecmascript\" contentStyleType=\"text/css\" height=\"684px\" preserveAspectRatio=\"none\" style=\"width:570px;height:684px;\" version=\"1.1\" viewBox=\"0 0 570 684\" width=\"570px\" zoomAndPan=\"magnify\"><defs><filter height=\"300%\" id=\"f1gl3g5wljbczk\" width=\"300%\" x=\"-1\" y=\"-1\"><feGaussianBlur result=\"blurOut\" stdDeviation=\"2.0\"/><feColorMatrix in=\"blurOut\" result=\"blurOut2\" type=\"matrix\" values=\"0 0 0 0 0 0 0 0 0 0 0 0 0 0 0 0 0 0 .4 0\"/><feOffset dx=\"4.0\" dy=\"4.0\" in=\"blurOut2\" result=\"blurOut3\"/><feBlend in=\"SourceGraphic\" in2=\"blurOut3\" mode=\"normal\"/></filter></defs><g><!--MD5=[fbc87193dbaf4d95561dea2c320d4a47]\n",
       "cluster E1--><a href=\"psysml:fba87211-d6a8-40ff-8d47-80f3cbac0e83\" target=\"_top\" title=\"psysml:fba87211-d6a8-40ff-8d47-80f3cbac0e83\" xlink:actuate=\"onRequest\" xlink:href=\"psysml:fba87211-d6a8-40ff-8d47-80f3cbac0e83\" xlink:show=\"new\" xlink:title=\"psysml:fba87211-d6a8-40ff-8d47-80f3cbac0e83\" xlink:type=\"simple\"><polygon fill=\"#FFFFFF\" filter=\"url(#f1gl3g5wljbczk)\" points=\"16,6,107,6,114,28.2969,548,28.2969,548,672,16,672,16,6\" style=\"stroke: #000000; stroke-width: 1.5;\"/><line style=\"stroke: #000000; stroke-width: 1.5;\" x1=\"16\" x2=\"114\" y1=\"28.2969\" y2=\"28.2969\"/><text fill=\"#000000\" font-family=\"sans-serif\" font-size=\"14\" font-weight=\"bold\" lengthAdjust=\"spacingAndGlyphs\" textLength=\"85\" x=\"20\" y=\"20.9951\">ActionTest</text></a><!--MD5=[d5e69f78d87373223dbae638b30a9c99]\n",
       "cluster E3--><a href=\"psysml:ad4f18e6-c096-4c58-bb62-14a597e4442d\" target=\"_top\" title=\"psysml:ad4f18e6-c096-4c58-bb62-14a597e4442d\" xlink:actuate=\"onRequest\" xlink:href=\"psysml:ad4f18e6-c096-4c58-bb62-14a597e4442d\" xlink:show=\"new\" xlink:title=\"psysml:ad4f18e6-c096-4c58-bb62-14a597e4442d\" xlink:type=\"simple\"><rect fill=\"#FFFFFF\" filter=\"url(#f1gl3g5wljbczk)\" height=\"599\" id=\"E3\" rx=\"10\" ry=\"10\" style=\"stroke: #A80036; stroke-width: 1.5;\" width=\"209\" x=\"315\" y=\"49\"/><rect fill=\"#FEFECE\" height=\"37.9375\" rx=\"10\" ry=\"10\" style=\"stroke: #FEFECE; stroke-width: 1.5;\" width=\"209\" x=\"315\" y=\"49\"/><rect fill=\"#FEFECE\" height=\"10\" style=\"stroke: #FEFECE; stroke-width: 1.5;\" width=\"209\" x=\"315\" y=\"76.9375\"/><rect fill=\"none\" height=\"599\" id=\"E3\" rx=\"10\" ry=\"10\" style=\"stroke: #A80036; stroke-width: 1.5;\" width=\"209\" x=\"315\" y=\"49\"/><text fill=\"#000000\" font-family=\"sans-serif\" font-size=\"12\" font-style=\"italic\" lengthAdjust=\"spacingAndGlyphs\" textLength=\"53\" x=\"393\" y=\"65.1387\">«action»</text><text fill=\"#000000\" font-family=\"sans-serif\" font-size=\"12\" lengthAdjust=\"spacingAndGlyphs\" textLength=\"8\" x=\"415.5\" y=\"79.1074\">a</text><line style=\"stroke: #A80036; stroke-width: 1.0;\" x1=\"315\" x2=\"524\" y1=\"86.9375\" y2=\"86.9375\"/></a><!--MD5=[b4997ac47864f28c2f74865a473b2911]\n",
       "class E2--><a href=\"psysml:9e8a127b-f23f-41bc-b046-de56fba8ce50\" target=\"_top\" title=\"psysml:9e8a127b-f23f-41bc-b046-de56fba8ce50\" xlink:actuate=\"onRequest\" xlink:href=\"psysml:9e8a127b-f23f-41bc-b046-de56fba8ce50\" xlink:show=\"new\" xlink:title=\"psysml:9e8a127b-f23f-41bc-b046-de56fba8ce50\" xlink:type=\"simple\"><rect fill=\"#FEFECE\" filter=\"url(#f1gl3g5wljbczk)\" height=\"45.9375\" id=\"E2\" style=\"stroke: #A80036; stroke-width: 1.5;\" width=\"121\" x=\"177.5\" y=\"87\"/><ellipse cx=\"192.5\" cy=\"105.9688\" fill=\"#A52A2A\" rx=\"11\" ry=\"11\" style=\"stroke: #A80036; stroke-width: 1.0;\"/><path d=\"M192.0938,101.7813 L192.0938,109.7656 L192.75,109.7656 Q194.1875,109.7656 194.7969,108.8594 Q195.4219,107.9375 195.4219,105.7656 Q195.4219,103.5938 194.7969,102.6875 Q194.1875,101.7813 192.75,101.7813 L192.0938,101.7813 Z M189.6406,99.5781 L192.2656,99.5781 Q195.2969,99.5781 196.625,101.0313 Q197.9688,102.4688 197.9688,105.7656 Q197.9688,109.0625 196.625,110.5156 Q195.2969,111.9688 192.2656,111.9688 L189.6406,111.9688 L189.6406,99.5781 Z \"/><text fill=\"#000000\" font-family=\"sans-serif\" font-size=\"12\" font-style=\"italic\" lengthAdjust=\"spacingAndGlyphs\" textLength=\"93\" x=\"204.5\" y=\"103.1387\">«attribute def»</text><text fill=\"#000000\" font-family=\"sans-serif\" font-size=\"12\" lengthAdjust=\"spacingAndGlyphs\" textLength=\"8\" x=\"247\" y=\"117.1074\">S</text><line style=\"stroke: #A80036; stroke-width: 1.5;\" x1=\"178.5\" x2=\"297.5\" y1=\"124.9375\" y2=\"124.9375\"/></a><polygon fill=\"#FEFECE\" filter=\"url(#f1gl3g5wljbczk)\" points=\"472,194,484,206,472,218,460,206,472,194\" style=\"stroke: #A80036; stroke-width: 1.5;\"/><!--MD5=[21dd76c19d33815960c0e92fef8f0eef]\n",
       "entity E5--><a href=\"psysml:ccfba6f1-4ce0-4ddd-afd5-b866d68d47d7\" target=\"_top\" title=\"psysml:ccfba6f1-4ce0-4ddd-afd5-b866d68d47d7\" xlink:actuate=\"onRequest\" xlink:href=\"psysml:ccfba6f1-4ce0-4ddd-afd5-b866d68d47d7\" xlink:show=\"new\" xlink:title=\"psysml:ccfba6f1-4ce0-4ddd-afd5-b866d68d47d7\" xlink:type=\"simple\"><polygon fill=\"#FEFECE\" filter=\"url(#f1gl3g5wljbczk)\" points=\"331,279,331,333.5938,471,333.5938,451,306.2969,471,279\" style=\"stroke: #000000; stroke-width: 1.5;\"/><text fill=\"#000000\" font-family=\"sans-serif\" font-size=\"14\" font-style=\"italic\" lengthAdjust=\"spacingAndGlyphs\" textLength=\"111\" x=\"338\" y=\"301.9951\">«accept action»</text><text fill=\"#000000\" font-family=\"sans-serif\" font-size=\"14\" lengthAdjust=\"spacingAndGlyphs\" textLength=\"9\" x=\"389\" y=\"319.292\">S</text></a><!--MD5=[24d87cdf3002d433f401b2a2aa9f9f65]\n",
       "entity E6--><a href=\"psysml:f31bbeb6-49c7-47f4-9bac-592fafbdce16\" target=\"_top\" title=\"psysml:f31bbeb6-49c7-47f4-9bac-592fafbdce16\" xlink:actuate=\"onRequest\" xlink:href=\"psysml:f31bbeb6-49c7-47f4-9bac-592fafbdce16\" xlink:show=\"new\" xlink:title=\"psysml:f31bbeb6-49c7-47f4-9bac-592fafbdce16\" xlink:type=\"simple\"><polygon fill=\"#FEFECE\" filter=\"url(#f1gl3g5wljbczk)\" points=\"331,411,331,465.5938,439,465.5938,459,438.2969,439,411\" style=\"stroke: #000000; stroke-width: 1.5;\"/><text fill=\"#000000\" font-family=\"sans-serif\" font-size=\"14\" font-style=\"italic\" lengthAdjust=\"spacingAndGlyphs\" textLength=\"99\" x=\"338\" y=\"433.9951\">«send action»</text><text fill=\"#000000\" font-family=\"sans-serif\" font-size=\"14\" lengthAdjust=\"spacingAndGlyphs\" textLength=\"65\" x=\"355\" y=\"451.292\">S() to  B()</text></a><polygon fill=\"#FEFECE\" filter=\"url(#f1gl3g5wljbczk)\" points=\"470,527,482,539,470,551,458,539,470,527\" style=\"stroke: #A80036; stroke-width: 1.5;\"/><ellipse cx=\"472\" cy=\"110\" fill=\"#000000\" filter=\"url(#f1gl3g5wljbczk)\" rx=\"10\" ry=\"10\" style=\"stroke: none; stroke-width: 1.0;\"/><ellipse cx=\"470\" cy=\"622\" fill=\"none\" filter=\"url(#f1gl3g5wljbczk)\" rx=\"10\" ry=\"10\" style=\"stroke: #000000; stroke-width: 1.0;\"/><ellipse cx=\"470.5\" cy=\"622.5\" fill=\"#000000\" rx=\"6\" ry=\"6\" style=\"stroke: none; stroke-width: 1.0;\"/><g id=\"E1.E8\"><a href=\"psysml:4eec70ee-61f4-4cab-8137-f00a9e5c8983\" target=\"_top\" title=\"psysml:4eec70ee-61f4-4cab-8137-f00a9e5c8983\" xlink:actuate=\"onRequest\" xlink:href=\"psysml:4eec70ee-61f4-4cab-8137-f00a9e5c8983\" xlink:show=\"new\" xlink:title=\"psysml:4eec70ee-61f4-4cab-8137-f00a9e5c8983\" xlink:type=\"simple\"><rect fill=\"#FEFECE\" filter=\"url(#f1gl3g5wljbczk)\" height=\"42.9375\" id=\"E8\" style=\"stroke: #A80036; stroke-width: 1.5;\" width=\"110\" x=\"32\" y=\"88.5\"/><ellipse cx=\"49.25\" cy=\"107.4688\" fill=\"#A52A2A\" rx=\"11\" ry=\"11\" style=\"stroke: #A80036; stroke-width: 1.0;\"/><path d=\"M48.8438,103.2813 L48.8438,111.2656 L49.5,111.2656 Q50.9375,111.2656 51.5469,110.3594 Q52.1719,109.4375 52.1719,107.2656 Q52.1719,105.0938 51.5469,104.1875 Q50.9375,103.2813 49.5,103.2813 L48.8438,103.2813 Z M46.3906,101.0781 L49.0156,101.0781 Q52.0469,101.0781 53.375,102.5313 Q54.7188,103.9688 54.7188,107.2656 Q54.7188,110.5625 53.375,112.0156 Q52.0469,113.4688 49.0156,113.4688 L46.3906,113.4688 L46.3906,101.0781 Z \"/><text fill=\"#000000\" font-family=\"sans-serif\" font-size=\"12\" font-style=\"italic\" lengthAdjust=\"spacingAndGlyphs\" textLength=\"77\" x=\"61.75\" y=\"104.6387\">«action def»</text><text fill=\"#000000\" font-family=\"sans-serif\" font-size=\"12\" lengthAdjust=\"spacingAndGlyphs\" textLength=\"8\" x=\"96.25\" y=\"118.6074\">B</text></a></g><!--MD5=[f47e10efcf9a6752d55dae986d790ed9]\n",
       "link *start*E3 to E4--><a href=\"psysml:03e50e83-6fc7-46a8-8453-213dc2aae23c\" target=\"_top\" title=\"psysml:03e50e83-6fc7-46a8-8453-213dc2aae23c\" xlink:actuate=\"onRequest\" xlink:href=\"psysml:03e50e83-6fc7-46a8-8453-213dc2aae23c\" xlink:show=\"new\" xlink:title=\"psysml:03e50e83-6fc7-46a8-8453-213dc2aae23c\" xlink:type=\"simple\"><path d=\"M472,120.01 C472,135.81 472,168.69 472,188.61 \" fill=\"none\" id=\"*start*E3-&gt;E4\" style=\"stroke: #A80036; stroke-width: 1.0;\"/><polygon fill=\"#A80036\" points=\"472,193.85,476,184.85,472,188.85,468,184.85,472,193.85\" style=\"stroke: #A80036; stroke-width: 1.0;\"/></a><!--MD5=[d19f2eb34364d71b67042106d92f540b]\n",
       "link E7 to *end*E3--><a href=\"psysml:c4a668a6-d0f8-468f-9890-a338c2ee16ef\" target=\"_top\" title=\"psysml:c4a668a6-d0f8-468f-9890-a338c2ee16ef\" xlink:actuate=\"onRequest\" xlink:href=\"psysml:c4a668a6-d0f8-468f-9890-a338c2ee16ef\" xlink:show=\"new\" xlink:title=\"psysml:c4a668a6-d0f8-468f-9890-a338c2ee16ef\" xlink:type=\"simple\"><path d=\"M470,551.26 C470,565.66 470,590.63 470,606.46 \" fill=\"none\" id=\"E7-&gt;*end*E3\" style=\"stroke: #A80036; stroke-width: 1.0;\"/><polygon fill=\"#A80036\" points=\"470,611.84,474,602.84,470,606.84,466,602.84,470,611.84\" style=\"stroke: #A80036; stroke-width: 1.0;\"/></a><!--MD5=[1b7591eae5389033d8d09a9d6721a717]\n",
       "link E4 to E5--><a href=\"psysml:f95480df-9a63-41d1-9e12-1ec6bb9c61dc\" target=\"_top\" title=\"psysml:f95480df-9a63-41d1-9e12-1ec6bb9c61dc\" xlink:actuate=\"onRequest\" xlink:href=\"psysml:f95480df-9a63-41d1-9e12-1ec6bb9c61dc\" xlink:show=\"new\" xlink:title=\"psysml:f95480df-9a63-41d1-9e12-1ec6bb9c61dc\" xlink:type=\"simple\"><path d=\"M467.34,213.46 C458.55,225.66 438.99,252.8 423.37,274.46 \" fill=\"none\" id=\"E4-&gt;E5\" style=\"stroke: #A80036; stroke-width: 1.0;\"/><polygon fill=\"#A80036\" points=\"420.31,278.71,428.8093,273.7339,423.227,274.6491,422.3119,269.0667,420.31,278.71\" style=\"stroke: #A80036; stroke-width: 1.0;\"/></a><!--MD5=[9120cf2e5df3bff93db8f754bbbc09b4]\n",
       "link E5 to E6--><a href=\"psysml:73484f54-b4d2-4298-bed2-8c418bf31093\" target=\"_top\" title=\"psysml:73484f54-b4d2-4298-bed2-8c418bf31093\" xlink:actuate=\"onRequest\" xlink:href=\"psysml:73484f54-b4d2-4298-bed2-8c418bf31093\" xlink:show=\"new\" xlink:title=\"psysml:73484f54-b4d2-4298-bed2-8c418bf31093\" xlink:type=\"simple\"><path d=\"M399.77,334.12 C398.81,354.89 397.48,383.8 396.46,405.77 \" fill=\"none\" id=\"E5-&gt;E6\" style=\"stroke: #A80036; stroke-width: 1.0;\"/><polygon fill=\"#A80036\" points=\"396.23,410.91,400.6368,402.1021,396.4583,405.9152,392.6452,401.7367,396.23,410.91\" style=\"stroke: #A80036; stroke-width: 1.0;\"/></a><!--MD5=[02c70b7c851c11e3980e4e90450dc5dd]\n",
       "link E6 to E7--><a href=\"psysml:860bf181-ae5a-4d8b-9cc8-c19fc893dd3f\" target=\"_top\" title=\"psysml:860bf181-ae5a-4d8b-9cc8-c19fc893dd3f\" xlink:actuate=\"onRequest\" xlink:href=\"psysml:860bf181-ae5a-4d8b-9cc8-c19fc893dd3f\" xlink:show=\"new\" xlink:title=\"psysml:860bf181-ae5a-4d8b-9cc8-c19fc893dd3f\" xlink:type=\"simple\"><path d=\"M415.3,466.16 C430.71,486.4 451.07,513.14 462.09,527.61 \" fill=\"none\" id=\"E6-&gt;E7\" style=\"stroke: #A80036; stroke-width: 1.0;\"/><polygon fill=\"#A80036\" points=\"465.2,531.69,462.9398,522.104,462.1749,527.7089,456.57,526.9441,465.2,531.69\" style=\"stroke: #A80036; stroke-width: 1.0;\"/></a><!--MD5=[6bdd27f9905911a7e892a3dc65cf6b7c]\n",
       "link E7 to E4--><a href=\"psysml:227ffbe5-5fbb-4b69-bf2e-f462a1a2545e\" target=\"_top\" title=\"psysml:227ffbe5-5fbb-4b69-bf2e-f462a1a2545e\" xlink:actuate=\"onRequest\" xlink:href=\"psysml:227ffbe5-5fbb-4b69-bf2e-f462a1a2545e\" xlink:show=\"new\" xlink:title=\"psysml:227ffbe5-5fbb-4b69-bf2e-f462a1a2545e\" xlink:type=\"simple\"><path d=\"M471.98,528.56 C478.8,494.71 500.32,376.18 489,279 C486.59,258.32 480.42,234.96 476.21,220.61 \" fill=\"none\" id=\"E7-&gt;E4\" style=\"stroke: #A80036; stroke-width: 1.0;\"/><polygon fill=\"#A80036\" points=\"474.76,215.75,473.4935,225.5171,476.1863,220.5423,481.1611,223.2351,474.76,215.75\" style=\"stroke: #A80036; stroke-width: 1.0;\"/><text fill=\"#000000\" font-family=\"sans-serif\" font-size=\"13\" lengthAdjust=\"spacingAndGlyphs\" textLength=\"36\" x=\"492\" y=\"377.0669\">[true]</text></a><!--MD5=[264f441b401d215858731eb776fb85bf]\n",
       "@startuml\r\n",
       " \r\n",
       "package \"ActionTest\" as E1  [[psysml:fba87211-d6a8-40ff-8d47-80f3cbac0e83 ]]  {\r\n",
       "comp def \"S\" as E2  <<(D,brown)attribute def>> [[psysml:9e8a127b-f23f-41bc-b046-de56fba8ce50 ]] {\r\n",
       "}\r\n",
       "rec usage \"a\" as E3  <<(U,orange)action>> [[psysml:ad4f18e6-c096-4c58-bb62-14a597e4442d ]] {\r\n",
       "choice \"m\" as E4  [[psysml:e85a3052-7a7b-4311-97f8-bb0216d1246f ]] \r\n",
       "accept \" S\" as E5 <<accept action>> [[psysml:ccfba6f1-4ce0-4ddd-afd5-b866d68d47d7 ]] \r\n",
       "send \" S() to  B()\" as E6 <<send action>> [[psysml:f31bbeb6-49c7-47f4-9bac-592fafbdce16 ]] \r\n",
       "choice \"noname\" as E7  [[psysml:7507dc2c-9b39-4c30-b0ef-dd6a627e8c4c ]] \r\n",
       "[*] - -> E4 [[psysml:03e50e83-6fc7-46a8-8453-213dc2aae23c ]] \r\n",
       "E7  - -> [*] [[psysml:c4a668a6-d0f8-468f-9890-a338c2ee16ef ]] \r\n",
       "}\r\n",
       "\r\n",
       "rec def \"B\" as E8  <<(D,brown)action def>> [[psysml:4eec70ee-61f4-4cab-8137-f00a9e5c8983 ]] {\r\n",
       "}\r\n",
       "\r\n",
       "E4 - -> E5 [[psysml:f95480df-9a63-41d1-9e12-1ec6bb9c61dc ]] \r\n",
       "E5 - -> E6 [[psysml:73484f54-b4d2-4298-bed2-8c418bf31093 ]] \r\n",
       "E6 - -> E7 [[psysml:860bf181-ae5a-4d8b-9cc8-c19fc893dd3f ]] \r\n",
       "E7  - -> E4 [[psysml:227ffbe5-5fbb-4b69-bf2e-f462a1a2545e ]] : [true]\r\n",
       "}\r\n",
       "@enduml\r\n",
       "\n",
       "PlantUML version 1.2020.13(Sat Jun 13 12:26:38 UTC 2020)\n",
       "(EPL source distribution)\n",
       "Java Runtime: OpenJDK Runtime Environment\n",
       "JVM: OpenJDK 64-Bit Server VM\n",
       "Default Encoding: UTF-8\n",
       "Language: en\n",
       "Country: null\n",
       "--></g></svg>"
      ]
     },
     "execution_count": 36,
     "metadata": {},
     "output_type": "execute_result"
    }
   ],
   "source": [
    "%viz --style=\"PLANTUML\" --view=\"MIXED\" \"ActionTest\""
   ]
  },
  {
   "cell_type": "code",
   "execution_count": 37,
   "id": "024dc63c",
   "metadata": {
    "execution": {
     "iopub.execute_input": "2021-05-27T06:08:02.967570Z",
     "iopub.status.busy": "2021-05-27T06:08:02.967223Z",
     "iopub.status.idle": "2021-05-27T06:08:03.004117Z",
     "shell.execute_reply": "2021-05-27T06:08:03.002803Z"
    }
   },
   "outputs": [
    {
     "data": {
      "image/svg+xml": [
       "<?xml version=\"1.0\" encoding=\"UTF-8\" standalone=\"no\"?><svg xmlns=\"http://www.w3.org/2000/svg\" xmlns:xlink=\"http://www.w3.org/1999/xlink\" contentScriptType=\"application/ecmascript\" contentStyleType=\"text/css\" height=\"684px\" preserveAspectRatio=\"none\" style=\"width:518px;height:684px;\" version=\"1.1\" viewBox=\"0 0 518 684\" width=\"518px\" zoomAndPan=\"magnify\"><defs/><g><!--MD5=[fbc87193dbaf4d95561dea2c320d4a47]\n",
       "cluster E1--><a href=\"psysml:fba87211-d6a8-40ff-8d47-80f3cbac0e83\" target=\"_top\" title=\"psysml:fba87211-d6a8-40ff-8d47-80f3cbac0e83\" xlink:actuate=\"onRequest\" xlink:href=\"psysml:fba87211-d6a8-40ff-8d47-80f3cbac0e83\" xlink:show=\"new\" xlink:title=\"psysml:fba87211-d6a8-40ff-8d47-80f3cbac0e83\" xlink:type=\"simple\"><polygon fill=\"#FFFFFF\" points=\"16,6,107,6,114,28.2969,496,28.2969,496,672,16,672,16,6\" style=\"stroke: #000000; stroke-width: 1.5;\"/><line style=\"stroke: #000000; stroke-width: 1.5;\" x1=\"16\" x2=\"114\" y1=\"28.2969\" y2=\"28.2969\"/><text fill=\"#000000\" font-family=\"sans-serif\" font-size=\"14\" font-weight=\"bold\" lengthAdjust=\"spacingAndGlyphs\" textLength=\"85\" x=\"20\" y=\"20.9951\">ActionTest</text></a><!--MD5=[d5e69f78d87373223dbae638b30a9c99]\n",
       "cluster E3--><a href=\"psysml:ad4f18e6-c096-4c58-bb62-14a597e4442d\" target=\"_top\" title=\"psysml:ad4f18e6-c096-4c58-bb62-14a597e4442d\" xlink:actuate=\"onRequest\" xlink:href=\"psysml:ad4f18e6-c096-4c58-bb62-14a597e4442d\" xlink:show=\"new\" xlink:title=\"psysml:ad4f18e6-c096-4c58-bb62-14a597e4442d\" xlink:type=\"simple\"><rect fill=\"#FFFFFF\" height=\"599\" id=\"E3\" rx=\"10\" ry=\"10\" style=\"stroke: #383838; stroke-width: 1.5;\" width=\"209\" x=\"263\" y=\"49\"/><rect fill=\"#F8F8F8\" height=\"37.9375\" rx=\"10\" ry=\"10\" style=\"stroke: #F8F8F8; stroke-width: 1.5;\" width=\"209\" x=\"263\" y=\"49\"/><rect fill=\"#F8F8F8\" height=\"10\" style=\"stroke: #F8F8F8; stroke-width: 1.5;\" width=\"209\" x=\"263\" y=\"76.9375\"/><rect fill=\"none\" height=\"599\" id=\"E3\" rx=\"10\" ry=\"10\" style=\"stroke: #383838; stroke-width: 1.5;\" width=\"209\" x=\"263\" y=\"49\"/><text fill=\"#000000\" font-family=\"sans-serif\" font-size=\"12\" font-style=\"italic\" lengthAdjust=\"spacingAndGlyphs\" textLength=\"53\" x=\"341\" y=\"65.1387\">«action»</text><text fill=\"#000000\" font-family=\"sans-serif\" font-size=\"12\" lengthAdjust=\"spacingAndGlyphs\" textLength=\"8\" x=\"363.5\" y=\"79.1074\">a</text><line style=\"stroke: #383838; stroke-width: 1.0;\" x1=\"263\" x2=\"472\" y1=\"86.9375\" y2=\"86.9375\"/></a><!--MD5=[b4997ac47864f28c2f74865a473b2911]\n",
       "class E2--><a href=\"psysml:9e8a127b-f23f-41bc-b046-de56fba8ce50\" target=\"_top\" title=\"psysml:9e8a127b-f23f-41bc-b046-de56fba8ce50\" xlink:actuate=\"onRequest\" xlink:href=\"psysml:9e8a127b-f23f-41bc-b046-de56fba8ce50\" xlink:show=\"new\" xlink:title=\"psysml:9e8a127b-f23f-41bc-b046-de56fba8ce50\" xlink:type=\"simple\"><rect fill=\"#FFFFFF\" height=\"45.9375\" id=\"E2\" style=\"stroke: #383838; stroke-width: 1.5;\" width=\"95\" x=\"151.5\" y=\"87\"/><text fill=\"#000000\" font-family=\"sans-serif\" font-size=\"12\" font-style=\"italic\" lengthAdjust=\"spacingAndGlyphs\" textLength=\"93\" x=\"152.5\" y=\"103.1387\">«attribute def»</text><text fill=\"#000000\" font-family=\"sans-serif\" font-size=\"12\" lengthAdjust=\"spacingAndGlyphs\" textLength=\"8\" x=\"195\" y=\"117.1074\">S</text><line style=\"stroke: #383838; stroke-width: 1.5;\" x1=\"152.5\" x2=\"245.5\" y1=\"124.9375\" y2=\"124.9375\"/></a><polygon fill=\"#F8F8F8\" points=\"420,194,432,206,420,218,408,206,420,194\" style=\"stroke: #383838; stroke-width: 1.5;\"/><!--MD5=[21dd76c19d33815960c0e92fef8f0eef]\n",
       "entity E5--><a href=\"psysml:ccfba6f1-4ce0-4ddd-afd5-b866d68d47d7\" target=\"_top\" title=\"psysml:ccfba6f1-4ce0-4ddd-afd5-b866d68d47d7\" xlink:actuate=\"onRequest\" xlink:href=\"psysml:ccfba6f1-4ce0-4ddd-afd5-b866d68d47d7\" xlink:show=\"new\" xlink:title=\"psysml:ccfba6f1-4ce0-4ddd-afd5-b866d68d47d7\" xlink:type=\"simple\"><polygon fill=\"#F8F8F8\" points=\"279,279,279,333.5938,419,333.5938,399,306.2969,419,279\" style=\"stroke: #000000; stroke-width: 1.5;\"/><text fill=\"#000000\" font-family=\"sans-serif\" font-size=\"14\" font-style=\"italic\" lengthAdjust=\"spacingAndGlyphs\" textLength=\"111\" x=\"286\" y=\"301.9951\">«accept action»</text><text fill=\"#000000\" font-family=\"sans-serif\" font-size=\"14\" lengthAdjust=\"spacingAndGlyphs\" textLength=\"9\" x=\"337\" y=\"319.292\">S</text></a><!--MD5=[24d87cdf3002d433f401b2a2aa9f9f65]\n",
       "entity E6--><a href=\"psysml:f31bbeb6-49c7-47f4-9bac-592fafbdce16\" target=\"_top\" title=\"psysml:f31bbeb6-49c7-47f4-9bac-592fafbdce16\" xlink:actuate=\"onRequest\" xlink:href=\"psysml:f31bbeb6-49c7-47f4-9bac-592fafbdce16\" xlink:show=\"new\" xlink:title=\"psysml:f31bbeb6-49c7-47f4-9bac-592fafbdce16\" xlink:type=\"simple\"><polygon fill=\"#F8F8F8\" points=\"279,411,279,465.5938,387,465.5938,407,438.2969,387,411\" style=\"stroke: #000000; stroke-width: 1.5;\"/><text fill=\"#000000\" font-family=\"sans-serif\" font-size=\"14\" font-style=\"italic\" lengthAdjust=\"spacingAndGlyphs\" textLength=\"99\" x=\"286\" y=\"433.9951\">«send action»</text><text fill=\"#000000\" font-family=\"sans-serif\" font-size=\"14\" lengthAdjust=\"spacingAndGlyphs\" textLength=\"65\" x=\"303\" y=\"451.292\">S() to  B()</text></a><polygon fill=\"#F8F8F8\" points=\"418,527,430,539,418,551,406,539,418,527\" style=\"stroke: #383838; stroke-width: 1.5;\"/><ellipse cx=\"420\" cy=\"110\" fill=\"#000000\" rx=\"10\" ry=\"10\" style=\"stroke: none; stroke-width: 1.0;\"/><ellipse cx=\"418\" cy=\"622\" fill=\"none\" rx=\"10\" ry=\"10\" style=\"stroke: #000000; stroke-width: 1.0;\"/><ellipse cx=\"418.5\" cy=\"622.5\" fill=\"#000000\" rx=\"6\" ry=\"6\" style=\"stroke: none; stroke-width: 1.0;\"/><g id=\"E1.E8\"><a href=\"psysml:4eec70ee-61f4-4cab-8137-f00a9e5c8983\" target=\"_top\" title=\"psysml:4eec70ee-61f4-4cab-8137-f00a9e5c8983\" xlink:actuate=\"onRequest\" xlink:href=\"psysml:4eec70ee-61f4-4cab-8137-f00a9e5c8983\" xlink:show=\"new\" xlink:title=\"psysml:4eec70ee-61f4-4cab-8137-f00a9e5c8983\" xlink:type=\"simple\"><rect fill=\"#FFFFFF\" height=\"42.9375\" id=\"E8\" style=\"stroke: #383838; stroke-width: 1.5;\" width=\"84\" x=\"32\" y=\"88.5\"/><rect fill=\"#F8F8F8\" height=\"37.9375\" style=\"stroke: #383838; stroke-width: 1.5;\" width=\"84\" x=\"32\" y=\"88.5\"/><text fill=\"#000000\" font-family=\"sans-serif\" font-size=\"12\" font-style=\"italic\" lengthAdjust=\"spacingAndGlyphs\" textLength=\"77\" x=\"35.5\" y=\"104.6387\">«action def»</text><text fill=\"#000000\" font-family=\"sans-serif\" font-size=\"12\" lengthAdjust=\"spacingAndGlyphs\" textLength=\"8\" x=\"70\" y=\"118.6074\">B</text></a></g><!--MD5=[f47e10efcf9a6752d55dae986d790ed9]\n",
       "link *start*E3 to E4--><a href=\"psysml:03e50e83-6fc7-46a8-8453-213dc2aae23c\" target=\"_top\" title=\"psysml:03e50e83-6fc7-46a8-8453-213dc2aae23c\" xlink:actuate=\"onRequest\" xlink:href=\"psysml:03e50e83-6fc7-46a8-8453-213dc2aae23c\" xlink:show=\"new\" xlink:title=\"psysml:03e50e83-6fc7-46a8-8453-213dc2aae23c\" xlink:type=\"simple\"><path d=\"M420,120.01 C420,135.81 420,168.69 420,188.61 \" fill=\"none\" id=\"*start*E3-&gt;E4\" style=\"stroke: #383838; stroke-width: 1.0;\"/><polygon fill=\"#383838\" points=\"420,193.85,424,184.85,420,188.85,416,184.85,420,193.85\" style=\"stroke: #383838; stroke-width: 1.0;\"/></a><!--MD5=[d19f2eb34364d71b67042106d92f540b]\n",
       "link E7 to *end*E3--><a href=\"psysml:c4a668a6-d0f8-468f-9890-a338c2ee16ef\" target=\"_top\" title=\"psysml:c4a668a6-d0f8-468f-9890-a338c2ee16ef\" xlink:actuate=\"onRequest\" xlink:href=\"psysml:c4a668a6-d0f8-468f-9890-a338c2ee16ef\" xlink:show=\"new\" xlink:title=\"psysml:c4a668a6-d0f8-468f-9890-a338c2ee16ef\" xlink:type=\"simple\"><path d=\"M418,551.26 C418,565.66 418,590.63 418,606.46 \" fill=\"none\" id=\"E7-&gt;*end*E3\" style=\"stroke: #383838; stroke-width: 1.0;\"/><polygon fill=\"#383838\" points=\"418,611.84,422,602.84,418,606.84,414,602.84,418,611.84\" style=\"stroke: #383838; stroke-width: 1.0;\"/></a><!--MD5=[1b7591eae5389033d8d09a9d6721a717]\n",
       "link E4 to E5--><a href=\"psysml:f95480df-9a63-41d1-9e12-1ec6bb9c61dc\" target=\"_top\" title=\"psysml:f95480df-9a63-41d1-9e12-1ec6bb9c61dc\" xlink:actuate=\"onRequest\" xlink:href=\"psysml:f95480df-9a63-41d1-9e12-1ec6bb9c61dc\" xlink:show=\"new\" xlink:title=\"psysml:f95480df-9a63-41d1-9e12-1ec6bb9c61dc\" xlink:type=\"simple\"><path d=\"M415.34,213.46 C406.55,225.66 386.99,252.8 371.37,274.46 \" fill=\"none\" id=\"E4-&gt;E5\" style=\"stroke: #383838; stroke-width: 1.0;\"/><polygon fill=\"#383838\" points=\"368.31,278.71,376.8093,273.7339,371.227,274.6491,370.3119,269.0667,368.31,278.71\" style=\"stroke: #383838; stroke-width: 1.0;\"/></a><!--MD5=[9120cf2e5df3bff93db8f754bbbc09b4]\n",
       "link E5 to E6--><a href=\"psysml:73484f54-b4d2-4298-bed2-8c418bf31093\" target=\"_top\" title=\"psysml:73484f54-b4d2-4298-bed2-8c418bf31093\" xlink:actuate=\"onRequest\" xlink:href=\"psysml:73484f54-b4d2-4298-bed2-8c418bf31093\" xlink:show=\"new\" xlink:title=\"psysml:73484f54-b4d2-4298-bed2-8c418bf31093\" xlink:type=\"simple\"><path d=\"M347.77,334.12 C346.81,354.89 345.48,383.8 344.46,405.77 \" fill=\"none\" id=\"E5-&gt;E6\" style=\"stroke: #383838; stroke-width: 1.0;\"/><polygon fill=\"#383838\" points=\"344.23,410.91,348.6368,402.1021,344.4583,405.9152,340.6452,401.7367,344.23,410.91\" style=\"stroke: #383838; stroke-width: 1.0;\"/></a><!--MD5=[02c70b7c851c11e3980e4e90450dc5dd]\n",
       "link E6 to E7--><a href=\"psysml:860bf181-ae5a-4d8b-9cc8-c19fc893dd3f\" target=\"_top\" title=\"psysml:860bf181-ae5a-4d8b-9cc8-c19fc893dd3f\" xlink:actuate=\"onRequest\" xlink:href=\"psysml:860bf181-ae5a-4d8b-9cc8-c19fc893dd3f\" xlink:show=\"new\" xlink:title=\"psysml:860bf181-ae5a-4d8b-9cc8-c19fc893dd3f\" xlink:type=\"simple\"><path d=\"M363.3,466.16 C378.71,486.4 399.07,513.14 410.09,527.61 \" fill=\"none\" id=\"E6-&gt;E7\" style=\"stroke: #383838; stroke-width: 1.0;\"/><polygon fill=\"#383838\" points=\"413.2,531.69,410.9398,522.104,410.1749,527.7089,404.57,526.9441,413.2,531.69\" style=\"stroke: #383838; stroke-width: 1.0;\"/></a><!--MD5=[6bdd27f9905911a7e892a3dc65cf6b7c]\n",
       "link E7 to E4--><a href=\"psysml:227ffbe5-5fbb-4b69-bf2e-f462a1a2545e\" target=\"_top\" title=\"psysml:227ffbe5-5fbb-4b69-bf2e-f462a1a2545e\" xlink:actuate=\"onRequest\" xlink:href=\"psysml:227ffbe5-5fbb-4b69-bf2e-f462a1a2545e\" xlink:show=\"new\" xlink:title=\"psysml:227ffbe5-5fbb-4b69-bf2e-f462a1a2545e\" xlink:type=\"simple\"><path d=\"M419.98,528.56 C426.8,494.71 448.32,376.18 437,279 C434.59,258.32 428.42,234.96 424.21,220.61 \" fill=\"none\" id=\"E7-&gt;E4\" style=\"stroke: #383838; stroke-width: 1.0;\"/><polygon fill=\"#383838\" points=\"422.76,215.75,421.4935,225.5171,424.1863,220.5423,429.1611,223.2351,422.76,215.75\" style=\"stroke: #383838; stroke-width: 1.0;\"/><text fill=\"#000000\" font-family=\"sans-serif\" font-size=\"13\" lengthAdjust=\"spacingAndGlyphs\" textLength=\"36\" x=\"440\" y=\"377.0669\">[true]</text></a><!--MD5=[6ee5dc74fb9dddcd33cb9fc66af9bd62]\n",
       "@startuml\r\n",
       "skinparam monochrome true\r\n",
       "skinparam classbackgroundcolor white\r\n",
       "skinparam shadowing false\r\n",
       "skinparam wrapWidth 300\r\n",
       "hide circle\r\n",
       "\r\n",
       "package \"ActionTest\" as E1  [[psysml:fba87211-d6a8-40ff-8d47-80f3cbac0e83 ]]  {\r\n",
       "comp def \"S\" as E2  <<(T,blue)attribute def>> [[psysml:9e8a127b-f23f-41bc-b046-de56fba8ce50 ]] {\r\n",
       "}\r\n",
       "rec usage \"a\" as E3  <<(T,blue)action>> [[psysml:ad4f18e6-c096-4c58-bb62-14a597e4442d ]] {\r\n",
       "choice \"m\" as E4  [[psysml:e85a3052-7a7b-4311-97f8-bb0216d1246f ]] \r\n",
       "accept \" S\" as E5 <<accept action>> [[psysml:ccfba6f1-4ce0-4ddd-afd5-b866d68d47d7 ]] \r\n",
       "send \" S() to  B()\" as E6 <<send action>> [[psysml:f31bbeb6-49c7-47f4-9bac-592fafbdce16 ]] \r\n",
       "choice \"noname\" as E7  [[psysml:7507dc2c-9b39-4c30-b0ef-dd6a627e8c4c ]] \r\n",
       "[*] - -> E4 [[psysml:03e50e83-6fc7-46a8-8453-213dc2aae23c ]] \r\n",
       "E7  - -> [*] [[psysml:c4a668a6-d0f8-468f-9890-a338c2ee16ef ]] \r\n",
       "}\r\n",
       "\r\n",
       "rec def \"B\" as E8  <<(T,blue)action def>> [[psysml:4eec70ee-61f4-4cab-8137-f00a9e5c8983 ]] {\r\n",
       "}\r\n",
       "\r\n",
       "E4 - -> E5 [[psysml:f95480df-9a63-41d1-9e12-1ec6bb9c61dc ]] \r\n",
       "E5 - -> E6 [[psysml:73484f54-b4d2-4298-bed2-8c418bf31093 ]] \r\n",
       "E6 - -> E7 [[psysml:860bf181-ae5a-4d8b-9cc8-c19fc893dd3f ]] \r\n",
       "E7  - -> E4 [[psysml:227ffbe5-5fbb-4b69-bf2e-f462a1a2545e ]] : [true]\r\n",
       "}\r\n",
       "@enduml\r\n",
       "\n",
       "PlantUML version 1.2020.13(Sat Jun 13 12:26:38 UTC 2020)\n",
       "(EPL source distribution)\n",
       "Java Runtime: OpenJDK Runtime Environment\n",
       "JVM: OpenJDK 64-Bit Server VM\n",
       "Default Encoding: UTF-8\n",
       "Language: en\n",
       "Country: null\n",
       "--></g></svg>"
      ]
     },
     "execution_count": 37,
     "metadata": {},
     "output_type": "execute_result"
    }
   ],
   "source": [
    "%viz --style=\"DEFAULT\" --view=\"Default\" \"ActionTest\""
   ]
  },
  {
   "cell_type": "code",
   "execution_count": 38,
   "id": "8d9ca199",
   "metadata": {
    "execution": {
     "iopub.execute_input": "2021-05-27T06:08:03.054540Z",
     "iopub.status.busy": "2021-05-27T06:08:03.054118Z",
     "iopub.status.idle": "2021-05-27T06:08:03.113748Z",
     "shell.execute_reply": "2021-05-27T06:08:03.112610Z"
    }
   },
   "outputs": [
    {
     "data": {
      "image/svg+xml": [
       "<?xml version=\"1.0\" encoding=\"UTF-8\" standalone=\"no\"?><svg xmlns=\"http://www.w3.org/2000/svg\" xmlns:xlink=\"http://www.w3.org/1999/xlink\" contentScriptType=\"application/ecmascript\" contentStyleType=\"text/css\" height=\"187px\" preserveAspectRatio=\"none\" style=\"width:475px;height:187px;\" version=\"1.1\" viewBox=\"0 0 475 187\" width=\"475px\" zoomAndPan=\"magnify\"><defs/><g><!--MD5=[fbc87193dbaf4d95561dea2c320d4a47]\n",
       "cluster E1--><a href=\"psysml:fba87211-d6a8-40ff-8d47-80f3cbac0e83\" target=\"_top\" title=\"psysml:fba87211-d6a8-40ff-8d47-80f3cbac0e83\" xlink:actuate=\"onRequest\" xlink:href=\"psysml:fba87211-d6a8-40ff-8d47-80f3cbac0e83\" xlink:show=\"new\" xlink:title=\"psysml:fba87211-d6a8-40ff-8d47-80f3cbac0e83\" xlink:type=\"simple\"><polygon fill=\"#FFFFFF\" points=\"16,6,107,6,114,28.2969,453,28.2969,453,175,16,175,16,6\" style=\"stroke: #000000; stroke-width: 1.5;\"/><line style=\"stroke: #000000; stroke-width: 1.5;\" x1=\"16\" x2=\"114\" y1=\"28.2969\" y2=\"28.2969\"/><text fill=\"#000000\" font-family=\"sans-serif\" font-size=\"14\" font-weight=\"bold\" lengthAdjust=\"spacingAndGlyphs\" textLength=\"85\" x=\"20\" y=\"20.9951\">ActionTest</text></a><!--MD5=[b4997ac47864f28c2f74865a473b2911]\n",
       "class E2--><a href=\"psysml:9e8a127b-f23f-41bc-b046-de56fba8ce50\" target=\"_top\" title=\"psysml:9e8a127b-f23f-41bc-b046-de56fba8ce50\" xlink:actuate=\"onRequest\" xlink:href=\"psysml:9e8a127b-f23f-41bc-b046-de56fba8ce50\" xlink:show=\"new\" xlink:title=\"psysml:9e8a127b-f23f-41bc-b046-de56fba8ce50\" xlink:type=\"simple\"><rect fill=\"#FFFFFF\" height=\"45.9375\" id=\"E2\" style=\"stroke: #383838; stroke-width: 1.5;\" width=\"95\" x=\"341.5\" y=\"77\"/><text fill=\"#000000\" font-family=\"sans-serif\" font-size=\"12\" font-style=\"italic\" lengthAdjust=\"spacingAndGlyphs\" textLength=\"93\" x=\"342.5\" y=\"93.1387\">«attribute def»</text><text fill=\"#000000\" font-family=\"sans-serif\" font-size=\"12\" lengthAdjust=\"spacingAndGlyphs\" textLength=\"8\" x=\"385\" y=\"107.1074\">S</text><line style=\"stroke: #383838; stroke-width: 1.5;\" x1=\"342.5\" x2=\"435.5\" y1=\"114.9375\" y2=\"114.9375\"/></a><!--MD5=[09b614a08d8cba4a07c9adeb5e0fee81]\n",
       "class E3--><a href=\"psysml:ad4f18e6-c096-4c58-bb62-14a597e4442d\" target=\"_top\" title=\"psysml:ad4f18e6-c096-4c58-bb62-14a597e4442d\" xlink:actuate=\"onRequest\" xlink:href=\"psysml:ad4f18e6-c096-4c58-bb62-14a597e4442d\" xlink:show=\"new\" xlink:title=\"psysml:ad4f18e6-c096-4c58-bb62-14a597e4442d\" xlink:type=\"simple\"><rect fill=\"#FFFFFF\" height=\"117.9609\" id=\"E3\" rx=\"10\" ry=\"10\" style=\"stroke: #383838; stroke-width: 1.5;\" width=\"160\" x=\"146\" y=\"41\"/><text fill=\"#000000\" font-family=\"sans-serif\" font-size=\"12\" font-style=\"italic\" lengthAdjust=\"spacingAndGlyphs\" textLength=\"53\" x=\"199.5\" y=\"57.1387\">«action»</text><text fill=\"#000000\" font-family=\"sans-serif\" font-size=\"12\" lengthAdjust=\"spacingAndGlyphs\" textLength=\"8\" x=\"222\" y=\"71.1074\">a</text><line style=\"stroke: #383838; stroke-width: 1.5;\" x1=\"147\" x2=\"305\" y1=\"78.9375\" y2=\"78.9375\"/><text fill=\"#000000\" font-family=\"sans-serif\" font-size=\"11\" lengthAdjust=\"spacingAndGlyphs\" textLength=\"69\" x=\"152\" y=\"109.9526\">start: Action</text><text fill=\"#000000\" font-family=\"sans-serif\" font-size=\"11\" font-style=\"italic\" lengthAdjust=\"spacingAndGlyphs\" textLength=\"148\" x=\"152\" y=\"122.7573\">:&gt;&gt;Occurrence::startShot</text><line style=\"stroke: #383838; stroke-width: 1.0;\" x1=\"147\" x2=\"205.5\" y1=\"93.3398\" y2=\"93.3398\"/><text fill=\"#000000\" font-family=\"sans-serif\" font-size=\"11\" lengthAdjust=\"spacingAndGlyphs\" textLength=\"41\" x=\"205.5\" y=\"96.6479\">actions</text><line style=\"stroke: #383838; stroke-width: 1.0;\" x1=\"246.5\" x2=\"305\" y1=\"93.3398\" y2=\"93.3398\"/><text fill=\"#000000\" font-family=\"sans-serif\" font-size=\"11\" lengthAdjust=\"spacingAndGlyphs\" textLength=\"11\" x=\"152\" y=\"152.3667\">m</text><line style=\"stroke: #383838; stroke-width: 1.0;\" x1=\"147\" x2=\"189.5\" y1=\"135.7539\" y2=\"135.7539\"/><text fill=\"#000000\" font-family=\"sans-serif\" font-size=\"11\" lengthAdjust=\"spacingAndGlyphs\" textLength=\"73\" x=\"189.5\" y=\"139.062\">mergeNodes</text><line style=\"stroke: #383838; stroke-width: 1.0;\" x1=\"262.5\" x2=\"305\" y1=\"135.7539\" y2=\"135.7539\"/></a><!--MD5=[60a26617385b1d2d0262a64233df1f8d]\n",
       "class E6--><a href=\"psysml:4eec70ee-61f4-4cab-8137-f00a9e5c8983\" target=\"_top\" title=\"psysml:4eec70ee-61f4-4cab-8137-f00a9e5c8983\" xlink:actuate=\"onRequest\" xlink:href=\"psysml:4eec70ee-61f4-4cab-8137-f00a9e5c8983\" xlink:show=\"new\" xlink:title=\"psysml:4eec70ee-61f4-4cab-8137-f00a9e5c8983\" xlink:type=\"simple\"><rect fill=\"#FFFFFF\" height=\"45.9375\" id=\"E6\" style=\"stroke: #383838; stroke-width: 1.5;\" width=\"79\" x=\"31.5\" y=\"77\"/><text fill=\"#000000\" font-family=\"sans-serif\" font-size=\"12\" font-style=\"italic\" lengthAdjust=\"spacingAndGlyphs\" textLength=\"77\" x=\"32.5\" y=\"93.1387\">«action def»</text><text fill=\"#000000\" font-family=\"sans-serif\" font-size=\"12\" lengthAdjust=\"spacingAndGlyphs\" textLength=\"8\" x=\"67\" y=\"107.1074\">B</text><line style=\"stroke: #383838; stroke-width: 1.5;\" x1=\"32.5\" x2=\"109.5\" y1=\"114.9375\" y2=\"114.9375\"/></a><!--MD5=[a8088cc07a7856311e640ad035b7adee]\n",
       "@startuml\r\n",
       "skinparam monochrome true\r\n",
       "skinparam classbackgroundcolor white\r\n",
       "skinparam shadowing false\r\n",
       "skinparam wrapWidth 300\r\n",
       "hide circle\r\n",
       "\r\n",
       "package \"ActionTest\" as E1  [[psysml:fba87211-d6a8-40ff-8d47-80f3cbac0e83 ]]  {\r\n",
       "comp def \"S\" as E2  <<(T,blue)attribute def>> [[psysml:9e8a127b-f23f-41bc-b046-de56fba8ce50 ]] {\r\n",
       "}\r\n",
       "comp usage \"a\" as E3  <<(T,blue)action>> [[psysml:ad4f18e6-c096-4c58-bb62-14a597e4442d ]] {\r\n",
       "- - actions - -\r\n",
       "start: Action\\n//:>>Occurrence::startShot// \r\n",
       "- - mergeNodes - -\r\n",
       "m\r\n",
       "}\r\n",
       "comp def \"B\" as E6  <<(T,blue)action def>> [[psysml:4eec70ee-61f4-4cab-8137-f00a9e5c8983 ]] {\r\n",
       "}\r\n",
       "}\r\n",
       "@enduml\r\n",
       "\n",
       "PlantUML version 1.2020.13(Sat Jun 13 12:26:38 UTC 2020)\n",
       "(EPL source distribution)\n",
       "Java Runtime: OpenJDK Runtime Environment\n",
       "JVM: OpenJDK 64-Bit Server VM\n",
       "Default Encoding: UTF-8\n",
       "Language: en\n",
       "Country: null\n",
       "--></g></svg>"
      ]
     },
     "execution_count": 38,
     "metadata": {},
     "output_type": "execute_result"
    }
   ],
   "source": [
    "%viz --style=\"DEFAULT\" --view=\"Tree\" \"ActionTest\""
   ]
  },
  {
   "cell_type": "code",
   "execution_count": 39,
   "id": "f13f385a",
   "metadata": {
    "execution": {
     "iopub.execute_input": "2021-05-27T06:08:03.164347Z",
     "iopub.status.busy": "2021-05-27T06:08:03.163856Z",
     "iopub.status.idle": "2021-05-27T06:08:03.169238Z",
     "shell.execute_reply": "2021-05-27T06:08:03.168902Z"
    }
   },
   "outputs": [
    {
     "data": {
      "image/svg+xml": [
       "<?xml version=\"1.0\" encoding=\"UTF-8\" standalone=\"no\"?><svg xmlns=\"http://www.w3.org/2000/svg\" xmlns:xlink=\"http://www.w3.org/1999/xlink\" contentScriptType=\"application/ecmascript\" contentStyleType=\"text/css\" height=\"12px\" preserveAspectRatio=\"none\" style=\"width:12px;height:12px;\" version=\"1.1\" viewBox=\"0 0 12 12\" width=\"12px\" zoomAndPan=\"magnify\"><defs/><g><!--MD5=[c5f280e076d0d61ccf4b0f27871bda1d]\n",
       "@startuml\r\n",
       "skinparam monochrome true\r\n",
       "skinparam classbackgroundcolor white\r\n",
       "skinparam shadowing false\r\n",
       "skinparam wrapWidth 300\r\n",
       "hide circle\r\n",
       "\r\n",
       "@enduml\r\n",
       "\n",
       "PlantUML version 1.2020.13(Sat Jun 13 12:26:38 UTC 2020)\n",
       "(EPL source distribution)\n",
       "Java Runtime: OpenJDK Runtime Environment\n",
       "JVM: OpenJDK 64-Bit Server VM\n",
       "Default Encoding: UTF-8\n",
       "Language: en\n",
       "Country: null\n",
       "--></g></svg>"
      ]
     },
     "execution_count": 39,
     "metadata": {},
     "output_type": "execute_result"
    }
   ],
   "source": [
    "%viz --style=\"DEFAULT\" --view=\"State\" \"ActionTest\""
   ]
  },
  {
   "cell_type": "code",
   "execution_count": 40,
   "id": "07c0c3a0",
   "metadata": {
    "execution": {
     "iopub.execute_input": "2021-05-27T06:08:03.219943Z",
     "iopub.status.busy": "2021-05-27T06:08:03.219580Z",
     "iopub.status.idle": "2021-05-27T06:08:03.258829Z",
     "shell.execute_reply": "2021-05-27T06:08:03.257479Z"
    }
   },
   "outputs": [
    {
     "data": {
      "image/svg+xml": [
       "<?xml version=\"1.0\" encoding=\"UTF-8\" standalone=\"no\"?><svg xmlns=\"http://www.w3.org/2000/svg\" xmlns:xlink=\"http://www.w3.org/1999/xlink\" contentScriptType=\"application/ecmascript\" contentStyleType=\"text/css\" height=\"462px\" preserveAspectRatio=\"none\" style=\"width:522px;height:462px;\" version=\"1.1\" viewBox=\"0 0 522 462\" width=\"522px\" zoomAndPan=\"magnify\"><defs/><g><!--MD5=[fbc87193dbaf4d95561dea2c320d4a47]\n",
       "cluster E1--><a href=\"psysml:fba87211-d6a8-40ff-8d47-80f3cbac0e83\" target=\"_top\" title=\"psysml:fba87211-d6a8-40ff-8d47-80f3cbac0e83\" xlink:actuate=\"onRequest\" xlink:href=\"psysml:fba87211-d6a8-40ff-8d47-80f3cbac0e83\" xlink:show=\"new\" xlink:title=\"psysml:fba87211-d6a8-40ff-8d47-80f3cbac0e83\" xlink:type=\"simple\"><polygon fill=\"#FFFFFF\" points=\"16,6,107,6,114,28.2969,500,28.2969,500,450.5,16,450.5,16,6\" style=\"stroke: #000000; stroke-width: 1.5;\"/><line style=\"stroke: #000000; stroke-width: 1.5;\" x1=\"16\" x2=\"114\" y1=\"28.2969\" y2=\"28.2969\"/><text fill=\"#000000\" font-family=\"sans-serif\" font-size=\"14\" font-weight=\"bold\" lengthAdjust=\"spacingAndGlyphs\" textLength=\"85\" x=\"20\" y=\"20.9951\">ActionTest</text></a><!--MD5=[d5e69f78d87373223dbae638b30a9c99]\n",
       "cluster E3--><a href=\"psysml:ad4f18e6-c096-4c58-bb62-14a597e4442d\" target=\"_top\" title=\"psysml:ad4f18e6-c096-4c58-bb62-14a597e4442d\" xlink:actuate=\"onRequest\" xlink:href=\"psysml:ad4f18e6-c096-4c58-bb62-14a597e4442d\" xlink:show=\"new\" xlink:title=\"psysml:ad4f18e6-c096-4c58-bb62-14a597e4442d\" xlink:type=\"simple\"><rect fill=\"#FFFFFF\" height=\"377.5\" id=\"E3\" rx=\"10\" ry=\"10\" style=\"stroke: #383838; stroke-width: 1.5;\" width=\"209\" x=\"267\" y=\"49\"/><rect fill=\"#F8F8F8\" height=\"37.9375\" rx=\"10\" ry=\"10\" style=\"stroke: #F8F8F8; stroke-width: 1.5;\" width=\"209\" x=\"267\" y=\"49\"/><rect fill=\"#F8F8F8\" height=\"10\" style=\"stroke: #F8F8F8; stroke-width: 1.5;\" width=\"209\" x=\"267\" y=\"76.9375\"/><rect fill=\"none\" height=\"377.5\" id=\"E3\" rx=\"10\" ry=\"10\" style=\"stroke: #383838; stroke-width: 1.5;\" width=\"209\" x=\"267\" y=\"49\"/><text fill=\"#000000\" font-family=\"sans-serif\" font-size=\"12\" font-style=\"italic\" lengthAdjust=\"spacingAndGlyphs\" textLength=\"53\" x=\"345\" y=\"65.1387\">«action»</text><text fill=\"#000000\" font-family=\"sans-serif\" font-size=\"12\" lengthAdjust=\"spacingAndGlyphs\" textLength=\"8\" x=\"367.5\" y=\"79.1074\">a</text><line style=\"stroke: #383838; stroke-width: 1.0;\" x1=\"267\" x2=\"476\" y1=\"86.9375\" y2=\"86.9375\"/></a><g id=\"E1.E2\"><a href=\"psysml:9e8a127b-f23f-41bc-b046-de56fba8ce50\" target=\"_top\" title=\"psysml:9e8a127b-f23f-41bc-b046-de56fba8ce50\" xlink:actuate=\"onRequest\" xlink:href=\"psysml:9e8a127b-f23f-41bc-b046-de56fba8ce50\" xlink:show=\"new\" xlink:title=\"psysml:9e8a127b-f23f-41bc-b046-de56fba8ce50\" xlink:type=\"simple\"><rect fill=\"#FFFFFF\" height=\"42.9375\" id=\"E2\" style=\"stroke: #383838; stroke-width: 1.5;\" width=\"100\" x=\"151\" y=\"88.5\"/><rect fill=\"#F8F8F8\" height=\"37.9375\" style=\"stroke: #383838; stroke-width: 1.5;\" width=\"100\" x=\"151\" y=\"88.5\"/><text fill=\"#000000\" font-family=\"sans-serif\" font-size=\"12\" font-style=\"italic\" lengthAdjust=\"spacingAndGlyphs\" textLength=\"93\" x=\"154.5\" y=\"104.6387\">«attribute def»</text><text fill=\"#000000\" font-family=\"sans-serif\" font-size=\"12\" lengthAdjust=\"spacingAndGlyphs\" textLength=\"8\" x=\"197\" y=\"118.6074\">S</text></a></g><polygon fill=\"#F8F8F8\" points=\"424,148.5,436,160.5,424,172.5,412,160.5,424,148.5\" style=\"stroke: #383838; stroke-width: 1.5;\"/><!--MD5=[21dd76c19d33815960c0e92fef8f0eef]\n",
       "entity E5--><a href=\"psysml:ccfba6f1-4ce0-4ddd-afd5-b866d68d47d7\" target=\"_top\" title=\"psysml:ccfba6f1-4ce0-4ddd-afd5-b866d68d47d7\" xlink:actuate=\"onRequest\" xlink:href=\"psysml:ccfba6f1-4ce0-4ddd-afd5-b866d68d47d7\" xlink:show=\"new\" xlink:title=\"psysml:ccfba6f1-4ce0-4ddd-afd5-b866d68d47d7\" xlink:type=\"simple\"><polygon fill=\"#F8F8F8\" points=\"283,189.5,283,244.0938,423,244.0938,403,216.7969,423,189.5\" style=\"stroke: #000000; stroke-width: 1.5;\"/><text fill=\"#000000\" font-family=\"sans-serif\" font-size=\"14\" font-style=\"italic\" lengthAdjust=\"spacingAndGlyphs\" textLength=\"111\" x=\"290\" y=\"212.4951\">«accept action»</text><text fill=\"#000000\" font-family=\"sans-serif\" font-size=\"14\" lengthAdjust=\"spacingAndGlyphs\" textLength=\"9\" x=\"341\" y=\"229.792\">S</text></a><!--MD5=[24d87cdf3002d433f401b2a2aa9f9f65]\n",
       "entity E6--><a href=\"psysml:f31bbeb6-49c7-47f4-9bac-592fafbdce16\" target=\"_top\" title=\"psysml:f31bbeb6-49c7-47f4-9bac-592fafbdce16\" xlink:actuate=\"onRequest\" xlink:href=\"psysml:f31bbeb6-49c7-47f4-9bac-592fafbdce16\" xlink:show=\"new\" xlink:title=\"psysml:f31bbeb6-49c7-47f4-9bac-592fafbdce16\" xlink:type=\"simple\"><polygon fill=\"#F8F8F8\" points=\"283,277.5,283,332.0938,391,332.0938,411,304.7969,391,277.5\" style=\"stroke: #000000; stroke-width: 1.5;\"/><text fill=\"#000000\" font-family=\"sans-serif\" font-size=\"14\" font-style=\"italic\" lengthAdjust=\"spacingAndGlyphs\" textLength=\"99\" x=\"290\" y=\"300.4951\">«send action»</text><text fill=\"#000000\" font-family=\"sans-serif\" font-size=\"14\" lengthAdjust=\"spacingAndGlyphs\" textLength=\"65\" x=\"307\" y=\"317.792\">S() to  B()</text></a><polygon fill=\"#F8F8F8\" points=\"422,349.5,434,361.5,422,373.5,410,361.5,422,349.5\" style=\"stroke: #383838; stroke-width: 1.5;\"/><ellipse cx=\"424\" cy=\"110\" fill=\"#000000\" rx=\"10\" ry=\"10\" style=\"stroke: none; stroke-width: 1.0;\"/><ellipse cx=\"422\" cy=\"400.5\" fill=\"none\" rx=\"10\" ry=\"10\" style=\"stroke: #000000; stroke-width: 1.0;\"/><ellipse cx=\"422.5\" cy=\"401\" fill=\"#000000\" rx=\"6\" ry=\"6\" style=\"stroke: none; stroke-width: 1.0;\"/><g id=\"E1.E8\"><a href=\"psysml:4eec70ee-61f4-4cab-8137-f00a9e5c8983\" target=\"_top\" title=\"psysml:4eec70ee-61f4-4cab-8137-f00a9e5c8983\" xlink:actuate=\"onRequest\" xlink:href=\"psysml:4eec70ee-61f4-4cab-8137-f00a9e5c8983\" xlink:show=\"new\" xlink:title=\"psysml:4eec70ee-61f4-4cab-8137-f00a9e5c8983\" xlink:type=\"simple\"><rect fill=\"#FFFFFF\" height=\"42.9375\" id=\"E8\" style=\"stroke: #383838; stroke-width: 1.5;\" width=\"84\" x=\"32\" y=\"88.5\"/><rect fill=\"#F8F8F8\" height=\"37.9375\" style=\"stroke: #383838; stroke-width: 1.5;\" width=\"84\" x=\"32\" y=\"88.5\"/><text fill=\"#000000\" font-family=\"sans-serif\" font-size=\"12\" font-style=\"italic\" lengthAdjust=\"spacingAndGlyphs\" textLength=\"77\" x=\"35.5\" y=\"104.6387\">«action def»</text><text fill=\"#000000\" font-family=\"sans-serif\" font-size=\"12\" lengthAdjust=\"spacingAndGlyphs\" textLength=\"8\" x=\"70\" y=\"118.6074\">B</text></a></g><!--MD5=[f47e10efcf9a6752d55dae986d790ed9]\n",
       "link *start*E3 to E4--><a href=\"psysml:03e50e83-6fc7-46a8-8453-213dc2aae23c\" target=\"_top\" title=\"psysml:03e50e83-6fc7-46a8-8453-213dc2aae23c\" xlink:actuate=\"onRequest\" xlink:href=\"psysml:03e50e83-6fc7-46a8-8453-213dc2aae23c\" xlink:show=\"new\" xlink:title=\"psysml:03e50e83-6fc7-46a8-8453-213dc2aae23c\" xlink:type=\"simple\"><path d=\"M424,120.35 C424,126.88 424,135.77 424,143.42 \" fill=\"none\" id=\"*start*E3-&gt;E4\" style=\"stroke: #383838; stroke-width: 1.0;\"/><polygon fill=\"#383838\" points=\"424,148.48,428,139.48,424,143.48,420,139.48,424,148.48\" style=\"stroke: #383838; stroke-width: 1.0;\"/></a><!--MD5=[d19f2eb34364d71b67042106d92f540b]\n",
       "link E7 to *end*E3--><a href=\"psysml:c4a668a6-d0f8-468f-9890-a338c2ee16ef\" target=\"_top\" title=\"psysml:c4a668a6-d0f8-468f-9890-a338c2ee16ef\" xlink:actuate=\"onRequest\" xlink:href=\"psysml:c4a668a6-d0f8-468f-9890-a338c2ee16ef\" xlink:show=\"new\" xlink:title=\"psysml:c4a668a6-d0f8-468f-9890-a338c2ee16ef\" xlink:type=\"simple\"><path d=\"M422,373.8 C422,377.34 422,381.3 422,385.03 \" fill=\"none\" id=\"E7-&gt;*end*E3\" style=\"stroke: #383838; stroke-width: 1.0;\"/><polygon fill=\"#383838\" points=\"422,390.25,426,381.25,422,385.25,418,381.25,422,390.25\" style=\"stroke: #383838; stroke-width: 1.0;\"/></a><!--MD5=[1b7591eae5389033d8d09a9d6721a717]\n",
       "link E4 to E5--><a href=\"psysml:f95480df-9a63-41d1-9e12-1ec6bb9c61dc\" target=\"_top\" title=\"psysml:f95480df-9a63-41d1-9e12-1ec6bb9c61dc\" xlink:actuate=\"onRequest\" xlink:href=\"psysml:f95480df-9a63-41d1-9e12-1ec6bb9c61dc\" xlink:show=\"new\" xlink:title=\"psysml:f95480df-9a63-41d1-9e12-1ec6bb9c61dc\" xlink:type=\"simple\"><path d=\"M417.45,166.53 C411.33,171.23 401.65,178.66 391.64,186.34 \" fill=\"none\" id=\"E4-&gt;E5\" style=\"stroke: #383838; stroke-width: 1.0;\"/><polygon fill=\"#383838\" points=\"387.64,189.41,397.2129,187.0948,391.6037,186.3621,392.3363,180.7529,387.64,189.41\" style=\"stroke: #383838; stroke-width: 1.0;\"/></a><!--MD5=[9120cf2e5df3bff93db8f754bbbc09b4]\n",
       "link E5 to E6--><a href=\"psysml:73484f54-b4d2-4298-bed2-8c418bf31093\" target=\"_top\" title=\"psysml:73484f54-b4d2-4298-bed2-8c418bf31093\" xlink:actuate=\"onRequest\" xlink:href=\"psysml:73484f54-b4d2-4298-bed2-8c418bf31093\" xlink:show=\"new\" xlink:title=\"psysml:73484f54-b4d2-4298-bed2-8c418bf31093\" xlink:type=\"simple\"><path d=\"M351.13,244.74 C350.53,253.4 349.85,263.08 349.23,272.08 \" fill=\"none\" id=\"E5-&gt;E6\" style=\"stroke: #383838; stroke-width: 1.0;\"/><polygon fill=\"#383838\" points=\"348.86,277.28,353.468,268.5756,349.203,272.2918,345.4869,268.0268,348.86,277.28\" style=\"stroke: #383838; stroke-width: 1.0;\"/></a><!--MD5=[02c70b7c851c11e3980e4e90450dc5dd]\n",
       "link E6 to E7--><a href=\"psysml:860bf181-ae5a-4d8b-9cc8-c19fc893dd3f\" target=\"_top\" title=\"psysml:860bf181-ae5a-4d8b-9cc8-c19fc893dd3f\" xlink:actuate=\"onRequest\" xlink:href=\"psysml:860bf181-ae5a-4d8b-9cc8-c19fc893dd3f\" xlink:show=\"new\" xlink:title=\"psysml:860bf181-ae5a-4d8b-9cc8-c19fc893dd3f\" xlink:type=\"simple\"><path d=\"M383.62,332.61 C393.72,339.95 403.91,347.35 411.24,352.68 \" fill=\"none\" id=\"E6-&gt;E7\" style=\"stroke: #383838; stroke-width: 1.0;\"/><polygon fill=\"#383838\" points=\"415.42,355.72,410.4976,347.1894,411.3776,352.7774,405.7896,353.6574,415.42,355.72\" style=\"stroke: #383838; stroke-width: 1.0;\"/></a><!--MD5=[6bdd27f9905911a7e892a3dc65cf6b7c]\n",
       "link E7 to E4--><a href=\"psysml:227ffbe5-5fbb-4b69-bf2e-f462a1a2545e\" target=\"_top\" title=\"psysml:227ffbe5-5fbb-4b69-bf2e-f462a1a2545e\" xlink:actuate=\"onRequest\" xlink:href=\"psysml:227ffbe5-5fbb-4b69-bf2e-f462a1a2545e\" xlink:show=\"new\" xlink:title=\"psysml:227ffbe5-5fbb-4b69-bf2e-f462a1a2545e\" xlink:type=\"simple\"><path d=\"M425,352.49 C433.84,327.73 458.06,250.48 441,189.5 C439.26,183.29 435.73,177.1 432.34,172.12 \" fill=\"none\" id=\"E7-&gt;E4\" style=\"stroke: #383838; stroke-width: 1.0;\"/><polygon fill=\"#383838\" points=\"429.31,167.92,431.3342,177.5586,432.2364,171.9741,437.8209,172.8763,429.31,167.92\" style=\"stroke: #383838; stroke-width: 1.0;\"/><text fill=\"#000000\" font-family=\"sans-serif\" font-size=\"13\" lengthAdjust=\"spacingAndGlyphs\" textLength=\"36\" x=\"447\" y=\"265.5669\">[true]</text></a><!--MD5=[27ce911fa2e31e10cb82ea7824ce9ba8]\n",
       "@startuml\r\n",
       "skinparam ranksep 10\r\n",
       "skinparam rectangle {\r\n",
       " backgroundColor<<block>> LightGreen\r\n",
       "}\r\n",
       "skinparam monochrome true\r\n",
       "skinparam classbackgroundcolor white\r\n",
       "skinparam shadowing false\r\n",
       "skinparam wrapWidth 300\r\n",
       "hide circle\r\n",
       "\r\n",
       "package \"ActionTest\" as E1  [[psysml:fba87211-d6a8-40ff-8d47-80f3cbac0e83 ]]  {\r\n",
       "def \"S\" as E2  <<(T,blue)attribute def>> [[psysml:9e8a127b-f23f-41bc-b046-de56fba8ce50 ]] \r\n",
       "rec usage \"a\" as E3  <<(T,blue)action>> [[psysml:ad4f18e6-c096-4c58-bb62-14a597e4442d ]] {\r\n",
       "choice \"m\" as E4  [[psysml:e85a3052-7a7b-4311-97f8-bb0216d1246f ]] \r\n",
       "accept \" S\" as E5 <<accept action>> [[psysml:ccfba6f1-4ce0-4ddd-afd5-b866d68d47d7 ]] \r\n",
       "send \" S() to  B()\" as E6 <<send action>> [[psysml:f31bbeb6-49c7-47f4-9bac-592fafbdce16 ]] \r\n",
       "choice \"noname\" as E7  [[psysml:7507dc2c-9b39-4c30-b0ef-dd6a627e8c4c ]] \r\n",
       "[*] - -> E4 [[psysml:03e50e83-6fc7-46a8-8453-213dc2aae23c ]] \r\n",
       "E7  - -> [*] [[psysml:c4a668a6-d0f8-468f-9890-a338c2ee16ef ]] \r\n",
       "}\r\n",
       "\r\n",
       "rec def \"B\" as E8  <<(T,blue)action def>> [[psysml:4eec70ee-61f4-4cab-8137-f00a9e5c8983 ]] {\r\n",
       "}\r\n",
       "\r\n",
       "E4 - -> E5 [[psysml:f95480df-9a63-41d1-9e12-1ec6bb9c61dc ]] \r\n",
       "E5 - -> E6 [[psysml:73484f54-b4d2-4298-bed2-8c418bf31093 ]] \r\n",
       "E6 - -> E7 [[psysml:860bf181-ae5a-4d8b-9cc8-c19fc893dd3f ]] \r\n",
       "E7  - -> E4 [[psysml:227ffbe5-5fbb-4b69-bf2e-f462a1a2545e ]] : [true]\r\n",
       "}\r\n",
       "@enduml\r\n",
       "\n",
       "PlantUML version 1.2020.13(Sat Jun 13 12:26:38 UTC 2020)\n",
       "(EPL source distribution)\n",
       "Java Runtime: OpenJDK Runtime Environment\n",
       "JVM: OpenJDK 64-Bit Server VM\n",
       "Default Encoding: UTF-8\n",
       "Language: en\n",
       "Country: null\n",
       "--></g></svg>"
      ]
     },
     "execution_count": 40,
     "metadata": {},
     "output_type": "execute_result"
    }
   ],
   "source": [
    "%viz --style=\"DEFAULT\" --view=\"Interconnection\" \"ActionTest\""
   ]
  },
  {
   "cell_type": "code",
   "execution_count": 41,
   "id": "3f9c32e4",
   "metadata": {
    "execution": {
     "iopub.execute_input": "2021-05-27T06:08:03.309193Z",
     "iopub.status.busy": "2021-05-27T06:08:03.308738Z",
     "iopub.status.idle": "2021-05-27T06:08:03.344027Z",
     "shell.execute_reply": "2021-05-27T06:08:03.342882Z"
    }
   },
   "outputs": [
    {
     "data": {
      "image/svg+xml": [
       "<?xml version=\"1.0\" encoding=\"UTF-8\" standalone=\"no\"?><svg xmlns=\"http://www.w3.org/2000/svg\" xmlns:xlink=\"http://www.w3.org/1999/xlink\" contentScriptType=\"application/ecmascript\" contentStyleType=\"text/css\" height=\"395px\" preserveAspectRatio=\"none\" style=\"width:335px;height:395px;\" version=\"1.1\" viewBox=\"0 0 335 395\" width=\"335px\" zoomAndPan=\"magnify\"><defs/><g><!--MD5=[fbc87193dbaf4d95561dea2c320d4a47]\n",
       "cluster E1--><a href=\"psysml:ad4f18e6-c096-4c58-bb62-14a597e4442d\" target=\"_top\" title=\"psysml:ad4f18e6-c096-4c58-bb62-14a597e4442d\" xlink:actuate=\"onRequest\" xlink:href=\"psysml:ad4f18e6-c096-4c58-bb62-14a597e4442d\" xlink:show=\"new\" xlink:title=\"psysml:ad4f18e6-c096-4c58-bb62-14a597e4442d\" xlink:type=\"simple\"><rect fill=\"#FFFFFF\" height=\"377.5\" id=\"E1\" rx=\"10\" ry=\"10\" style=\"stroke: #383838; stroke-width: 1.5;\" width=\"209\" x=\"107\" y=\"7\"/><rect fill=\"#F8F8F8\" height=\"37.9375\" rx=\"10\" ry=\"10\" style=\"stroke: #F8F8F8; stroke-width: 1.5;\" width=\"209\" x=\"107\" y=\"7\"/><rect fill=\"#F8F8F8\" height=\"10\" style=\"stroke: #F8F8F8; stroke-width: 1.5;\" width=\"209\" x=\"107\" y=\"34.9375\"/><rect fill=\"none\" height=\"377.5\" id=\"E1\" rx=\"10\" ry=\"10\" style=\"stroke: #383838; stroke-width: 1.5;\" width=\"209\" x=\"107\" y=\"7\"/><text fill=\"#000000\" font-family=\"sans-serif\" font-size=\"12\" font-style=\"italic\" lengthAdjust=\"spacingAndGlyphs\" textLength=\"53\" x=\"185\" y=\"23.1387\">«action»</text><text fill=\"#000000\" font-family=\"sans-serif\" font-size=\"12\" lengthAdjust=\"spacingAndGlyphs\" textLength=\"8\" x=\"207.5\" y=\"37.1074\">a</text><line style=\"stroke: #383838; stroke-width: 1.0;\" x1=\"107\" x2=\"316\" y1=\"44.9375\" y2=\"44.9375\"/></a><polygon fill=\"#F8F8F8\" points=\"264,106.5,276,118.5,264,130.5,252,118.5,264,106.5\" style=\"stroke: #383838; stroke-width: 1.5;\"/><!--MD5=[a60fb756f580feb9fd8e2cf1329b5c91]\n",
       "entity E3--><a href=\"psysml:ccfba6f1-4ce0-4ddd-afd5-b866d68d47d7\" target=\"_top\" title=\"psysml:ccfba6f1-4ce0-4ddd-afd5-b866d68d47d7\" xlink:actuate=\"onRequest\" xlink:href=\"psysml:ccfba6f1-4ce0-4ddd-afd5-b866d68d47d7\" xlink:show=\"new\" xlink:title=\"psysml:ccfba6f1-4ce0-4ddd-afd5-b866d68d47d7\" xlink:type=\"simple\"><polygon fill=\"#F8F8F8\" points=\"123,147.5,123,202.0938,263,202.0938,243,174.7969,263,147.5\" style=\"stroke: #000000; stroke-width: 1.5;\"/><text fill=\"#000000\" font-family=\"sans-serif\" font-size=\"14\" font-style=\"italic\" lengthAdjust=\"spacingAndGlyphs\" textLength=\"111\" x=\"130\" y=\"170.4951\">«accept action»</text><text fill=\"#000000\" font-family=\"sans-serif\" font-size=\"14\" lengthAdjust=\"spacingAndGlyphs\" textLength=\"9\" x=\"181\" y=\"187.792\">S</text></a><!--MD5=[961cefdc15414eaa3e87aec9d17c2188]\n",
       "entity E4--><a href=\"psysml:f31bbeb6-49c7-47f4-9bac-592fafbdce16\" target=\"_top\" title=\"psysml:f31bbeb6-49c7-47f4-9bac-592fafbdce16\" xlink:actuate=\"onRequest\" xlink:href=\"psysml:f31bbeb6-49c7-47f4-9bac-592fafbdce16\" xlink:show=\"new\" xlink:title=\"psysml:f31bbeb6-49c7-47f4-9bac-592fafbdce16\" xlink:type=\"simple\"><polygon fill=\"#F8F8F8\" points=\"123,235.5,123,290.0938,231,290.0938,251,262.7969,231,235.5\" style=\"stroke: #000000; stroke-width: 1.5;\"/><text fill=\"#000000\" font-family=\"sans-serif\" font-size=\"14\" font-style=\"italic\" lengthAdjust=\"spacingAndGlyphs\" textLength=\"99\" x=\"130\" y=\"258.4951\">«send action»</text><text fill=\"#000000\" font-family=\"sans-serif\" font-size=\"14\" lengthAdjust=\"spacingAndGlyphs\" textLength=\"65\" x=\"147\" y=\"275.792\">S() to  B()</text></a><polygon fill=\"#F8F8F8\" points=\"262,307.5,274,319.5,262,331.5,250,319.5,262,307.5\" style=\"stroke: #383838; stroke-width: 1.5;\"/><ellipse cx=\"264\" cy=\"68\" fill=\"#000000\" rx=\"10\" ry=\"10\" style=\"stroke: none; stroke-width: 1.0;\"/><ellipse cx=\"262\" cy=\"358.5\" fill=\"none\" rx=\"10\" ry=\"10\" style=\"stroke: #000000; stroke-width: 1.0;\"/><ellipse cx=\"262.5\" cy=\"359\" fill=\"#000000\" rx=\"6\" ry=\"6\" style=\"stroke: none; stroke-width: 1.0;\"/><g id=\"E6\"><a href=\"psysml:4eec70ee-61f4-4cab-8137-f00a9e5c8983\" target=\"_top\" title=\"psysml:4eec70ee-61f4-4cab-8137-f00a9e5c8983\" xlink:actuate=\"onRequest\" xlink:href=\"psysml:4eec70ee-61f4-4cab-8137-f00a9e5c8983\" xlink:show=\"new\" xlink:title=\"psysml:4eec70ee-61f4-4cab-8137-f00a9e5c8983\" xlink:type=\"simple\"><rect fill=\"#FFFFFF\" height=\"42.9375\" id=\"E6\" style=\"stroke: #383838; stroke-width: 1.5;\" width=\"84\" x=\"7\" y=\"46.5\"/><rect fill=\"#F8F8F8\" height=\"37.9375\" style=\"stroke: #383838; stroke-width: 1.5;\" width=\"84\" x=\"7\" y=\"46.5\"/><text fill=\"#000000\" font-family=\"sans-serif\" font-size=\"12\" font-style=\"italic\" lengthAdjust=\"spacingAndGlyphs\" textLength=\"77\" x=\"10.5\" y=\"62.6387\">«action def»</text><text fill=\"#000000\" font-family=\"sans-serif\" font-size=\"12\" lengthAdjust=\"spacingAndGlyphs\" textLength=\"8\" x=\"45\" y=\"76.6074\">B</text></a></g><!--MD5=[cff944eb183b832d446717a4e202d613]\n",
       "link *start*E1 to E2--><a href=\"psysml:03e50e83-6fc7-46a8-8453-213dc2aae23c\" target=\"_top\" title=\"psysml:03e50e83-6fc7-46a8-8453-213dc2aae23c\" xlink:actuate=\"onRequest\" xlink:href=\"psysml:03e50e83-6fc7-46a8-8453-213dc2aae23c\" xlink:show=\"new\" xlink:title=\"psysml:03e50e83-6fc7-46a8-8453-213dc2aae23c\" xlink:type=\"simple\"><path d=\"M264,78.35 C264,84.88 264,93.77 264,101.42 \" fill=\"none\" id=\"*start*E1-&gt;E2\" style=\"stroke: #383838; stroke-width: 1.0; stroke-dasharray: 7.0,7.0;\"/><polygon fill=\"#383838\" points=\"264,106.48,268,97.48,264,101.48,260,97.48,264,106.48\" style=\"stroke: #383838; stroke-width: 1.0;\"/></a><!--MD5=[7fc47fc0d107820853a137871ad908c8]\n",
       "link E5 to *end*E1--><a href=\"psysml:c4a668a6-d0f8-468f-9890-a338c2ee16ef\" target=\"_top\" title=\"psysml:c4a668a6-d0f8-468f-9890-a338c2ee16ef\" xlink:actuate=\"onRequest\" xlink:href=\"psysml:c4a668a6-d0f8-468f-9890-a338c2ee16ef\" xlink:show=\"new\" xlink:title=\"psysml:c4a668a6-d0f8-468f-9890-a338c2ee16ef\" xlink:type=\"simple\"><path d=\"M262,331.8 C262,335.34 262,339.3 262,343.03 \" fill=\"none\" id=\"E5-&gt;*end*E1\" style=\"stroke: #383838; stroke-width: 1.0; stroke-dasharray: 7.0,7.0;\"/><polygon fill=\"#383838\" points=\"262,348.25,266,339.25,262,343.25,258,339.25,262,348.25\" style=\"stroke: #383838; stroke-width: 1.0;\"/></a><!--MD5=[2720a5a1f2c3fca2055b230370638851]\n",
       "link E2 to E3--><a href=\"psysml:f95480df-9a63-41d1-9e12-1ec6bb9c61dc\" target=\"_top\" title=\"psysml:f95480df-9a63-41d1-9e12-1ec6bb9c61dc\" xlink:actuate=\"onRequest\" xlink:href=\"psysml:f95480df-9a63-41d1-9e12-1ec6bb9c61dc\" xlink:show=\"new\" xlink:title=\"psysml:f95480df-9a63-41d1-9e12-1ec6bb9c61dc\" xlink:type=\"simple\"><path d=\"M257.45,124.53 C251.33,129.23 241.65,136.66 231.64,144.34 \" fill=\"none\" id=\"E2-&gt;E3\" style=\"stroke: #383838; stroke-width: 1.0; stroke-dasharray: 7.0,7.0;\"/><polygon fill=\"#383838\" points=\"227.64,147.41,237.2129,145.0948,231.6037,144.3621,232.3363,138.7529,227.64,147.41\" style=\"stroke: #383838; stroke-width: 1.0;\"/></a><!--MD5=[af87c684e3b0d8be13c1a698a818ef1e]\n",
       "link E3 to E4--><a href=\"psysml:73484f54-b4d2-4298-bed2-8c418bf31093\" target=\"_top\" title=\"psysml:73484f54-b4d2-4298-bed2-8c418bf31093\" xlink:actuate=\"onRequest\" xlink:href=\"psysml:73484f54-b4d2-4298-bed2-8c418bf31093\" xlink:show=\"new\" xlink:title=\"psysml:73484f54-b4d2-4298-bed2-8c418bf31093\" xlink:type=\"simple\"><path d=\"M191.13,202.74 C190.53,211.4 189.85,221.08 189.23,230.08 \" fill=\"none\" id=\"E3-&gt;E4\" style=\"stroke: #383838; stroke-width: 1.0; stroke-dasharray: 7.0,7.0;\"/><polygon fill=\"#383838\" points=\"188.86,235.28,193.468,226.5756,189.203,230.2918,185.4869,226.0268,188.86,235.28\" style=\"stroke: #383838; stroke-width: 1.0;\"/></a><!--MD5=[1b7591eae5389033d8d09a9d6721a717]\n",
       "link E4 to E5--><a href=\"psysml:860bf181-ae5a-4d8b-9cc8-c19fc893dd3f\" target=\"_top\" title=\"psysml:860bf181-ae5a-4d8b-9cc8-c19fc893dd3f\" xlink:actuate=\"onRequest\" xlink:href=\"psysml:860bf181-ae5a-4d8b-9cc8-c19fc893dd3f\" xlink:show=\"new\" xlink:title=\"psysml:860bf181-ae5a-4d8b-9cc8-c19fc893dd3f\" xlink:type=\"simple\"><path d=\"M223.62,290.61 C233.72,297.95 243.91,305.35 251.24,310.68 \" fill=\"none\" id=\"E4-&gt;E5\" style=\"stroke: #383838; stroke-width: 1.0; stroke-dasharray: 7.0,7.0;\"/><polygon fill=\"#383838\" points=\"255.42,313.72,250.4976,305.1894,251.3776,310.7774,245.7896,311.6574,255.42,313.72\" style=\"stroke: #383838; stroke-width: 1.0;\"/></a><!--MD5=[15ebcb19ae302d9b601edb458606d402]\n",
       "link E5 to E2--><a href=\"psysml:227ffbe5-5fbb-4b69-bf2e-f462a1a2545e\" target=\"_top\" title=\"psysml:227ffbe5-5fbb-4b69-bf2e-f462a1a2545e\" xlink:actuate=\"onRequest\" xlink:href=\"psysml:227ffbe5-5fbb-4b69-bf2e-f462a1a2545e\" xlink:show=\"new\" xlink:title=\"psysml:227ffbe5-5fbb-4b69-bf2e-f462a1a2545e\" xlink:type=\"simple\"><path d=\"M265,310.49 C273.84,285.73 298.06,208.48 281,147.5 C279.26,141.29 275.73,135.1 272.34,130.12 \" fill=\"none\" id=\"E5-&gt;E2\" style=\"stroke: #383838; stroke-width: 1.0; stroke-dasharray: 7.0,7.0;\"/><polygon fill=\"#383838\" points=\"269.31,125.92,271.3342,135.5586,272.2364,129.9741,277.8209,130.8763,269.31,125.92\" style=\"stroke: #383838; stroke-width: 1.0;\"/><text fill=\"#000000\" font-family=\"sans-serif\" font-size=\"13\" lengthAdjust=\"spacingAndGlyphs\" textLength=\"36\" x=\"287\" y=\"223.5669\">[true]</text></a><!--MD5=[e46fa4e485cc2cb50226abcccc933007]\n",
       "@startuml\r\n",
       "skinparam ranksep 8\r\n",
       "skinparam monochrome true\r\n",
       "skinparam classbackgroundcolor white\r\n",
       "skinparam shadowing false\r\n",
       "skinparam wrapWidth 300\r\n",
       "hide circle\r\n",
       "\r\n",
       "rec usage \"a\" as E1  <<(T,blue)action>> [[psysml:ad4f18e6-c096-4c58-bb62-14a597e4442d ]] {\r\n",
       "choice \"m\" as E2  [[psysml:e85a3052-7a7b-4311-97f8-bb0216d1246f ]] \r\n",
       "accept \" S\" as E3 <<accept action>> [[psysml:ccfba6f1-4ce0-4ddd-afd5-b866d68d47d7 ]] \r\n",
       "send \" S() to  B()\" as E4 <<send action>> [[psysml:f31bbeb6-49c7-47f4-9bac-592fafbdce16 ]] \r\n",
       "choice \"noname\" as E5  [[psysml:7507dc2c-9b39-4c30-b0ef-dd6a627e8c4c ]] \r\n",
       "[*] ..> E2 [[psysml:03e50e83-6fc7-46a8-8453-213dc2aae23c ]] \r\n",
       "E5 ..> [*] [[psysml:c4a668a6-d0f8-468f-9890-a338c2ee16ef ]] \r\n",
       "}\r\n",
       "\r\n",
       "E2 ..> E3 [[psysml:f95480df-9a63-41d1-9e12-1ec6bb9c61dc ]] \r\n",
       "E3 ..> E4 [[psysml:73484f54-b4d2-4298-bed2-8c418bf31093 ]] \r\n",
       "E4 ..> E5 [[psysml:860bf181-ae5a-4d8b-9cc8-c19fc893dd3f ]] \r\n",
       "E5 ..> E2 [[psysml:227ffbe5-5fbb-4b69-bf2e-f462a1a2545e ]] : [true]\r\n",
       "rec def \"B\" as E6  <<(T,blue)action def>> [[psysml:4eec70ee-61f4-4cab-8137-f00a9e5c8983 ]] {\r\n",
       "}\r\n",
       "\r\n",
       "@enduml\r\n",
       "\n",
       "PlantUML version 1.2020.13(Sat Jun 13 12:26:38 UTC 2020)\n",
       "(EPL source distribution)\n",
       "Java Runtime: OpenJDK Runtime Environment\n",
       "JVM: OpenJDK 64-Bit Server VM\n",
       "Default Encoding: UTF-8\n",
       "Language: en\n",
       "Country: null\n",
       "--></g></svg>"
      ]
     },
     "execution_count": 41,
     "metadata": {},
     "output_type": "execute_result"
    }
   ],
   "source": [
    "%viz --style=\"DEFAULT\" --view=\"Action\" \"ActionTest\""
   ]
  },
  {
   "cell_type": "code",
   "execution_count": 42,
   "id": "07860b5b",
   "metadata": {
    "execution": {
     "iopub.execute_input": "2021-05-27T06:08:03.394107Z",
     "iopub.status.busy": "2021-05-27T06:08:03.393762Z",
     "iopub.status.idle": "2021-05-27T06:08:03.447522Z",
     "shell.execute_reply": "2021-05-27T06:08:03.446006Z"
    }
   },
   "outputs": [
    {
     "data": {
      "image/svg+xml": [
       "<?xml version=\"1.0\" encoding=\"UTF-8\" standalone=\"no\"?><svg xmlns=\"http://www.w3.org/2000/svg\" xmlns:xlink=\"http://www.w3.org/1999/xlink\" contentScriptType=\"application/ecmascript\" contentStyleType=\"text/css\" height=\"187px\" preserveAspectRatio=\"none\" style=\"width:475px;height:187px;\" version=\"1.1\" viewBox=\"0 0 475 187\" width=\"475px\" zoomAndPan=\"magnify\"><defs/><g><!--MD5=[fbc87193dbaf4d95561dea2c320d4a47]\n",
       "cluster E1--><a href=\"psysml:fba87211-d6a8-40ff-8d47-80f3cbac0e83\" target=\"_top\" title=\"psysml:fba87211-d6a8-40ff-8d47-80f3cbac0e83\" xlink:actuate=\"onRequest\" xlink:href=\"psysml:fba87211-d6a8-40ff-8d47-80f3cbac0e83\" xlink:show=\"new\" xlink:title=\"psysml:fba87211-d6a8-40ff-8d47-80f3cbac0e83\" xlink:type=\"simple\"><polygon fill=\"#FFFFFF\" points=\"16,6,107,6,114,28.2969,453,28.2969,453,175,16,175,16,6\" style=\"stroke: #000000; stroke-width: 1.5;\"/><line style=\"stroke: #000000; stroke-width: 1.5;\" x1=\"16\" x2=\"114\" y1=\"28.2969\" y2=\"28.2969\"/><text fill=\"#000000\" font-family=\"sans-serif\" font-size=\"14\" font-weight=\"bold\" lengthAdjust=\"spacingAndGlyphs\" textLength=\"85\" x=\"20\" y=\"20.9951\">ActionTest</text></a><!--MD5=[b4997ac47864f28c2f74865a473b2911]\n",
       "class E2--><a href=\"psysml:9e8a127b-f23f-41bc-b046-de56fba8ce50\" target=\"_top\" title=\"psysml:9e8a127b-f23f-41bc-b046-de56fba8ce50\" xlink:actuate=\"onRequest\" xlink:href=\"psysml:9e8a127b-f23f-41bc-b046-de56fba8ce50\" xlink:show=\"new\" xlink:title=\"psysml:9e8a127b-f23f-41bc-b046-de56fba8ce50\" xlink:type=\"simple\"><rect fill=\"#FFFFFF\" height=\"45.9375\" id=\"E2\" style=\"stroke: #383838; stroke-width: 1.5;\" width=\"95\" x=\"341.5\" y=\"77\"/><text fill=\"#000000\" font-family=\"sans-serif\" font-size=\"12\" font-style=\"italic\" lengthAdjust=\"spacingAndGlyphs\" textLength=\"93\" x=\"342.5\" y=\"93.1387\">«attribute def»</text><text fill=\"#000000\" font-family=\"sans-serif\" font-size=\"12\" lengthAdjust=\"spacingAndGlyphs\" textLength=\"8\" x=\"385\" y=\"107.1074\">S</text><line style=\"stroke: #383838; stroke-width: 1.5;\" x1=\"342.5\" x2=\"435.5\" y1=\"114.9375\" y2=\"114.9375\"/></a><!--MD5=[09b614a08d8cba4a07c9adeb5e0fee81]\n",
       "class E3--><a href=\"psysml:ad4f18e6-c096-4c58-bb62-14a597e4442d\" target=\"_top\" title=\"psysml:ad4f18e6-c096-4c58-bb62-14a597e4442d\" xlink:actuate=\"onRequest\" xlink:href=\"psysml:ad4f18e6-c096-4c58-bb62-14a597e4442d\" xlink:show=\"new\" xlink:title=\"psysml:ad4f18e6-c096-4c58-bb62-14a597e4442d\" xlink:type=\"simple\"><rect fill=\"#FFFFFF\" height=\"117.9609\" id=\"E3\" rx=\"10\" ry=\"10\" style=\"stroke: #383838; stroke-width: 1.5;\" width=\"160\" x=\"146\" y=\"41\"/><text fill=\"#000000\" font-family=\"sans-serif\" font-size=\"12\" font-style=\"italic\" lengthAdjust=\"spacingAndGlyphs\" textLength=\"53\" x=\"199.5\" y=\"57.1387\">«action»</text><text fill=\"#000000\" font-family=\"sans-serif\" font-size=\"12\" lengthAdjust=\"spacingAndGlyphs\" textLength=\"8\" x=\"222\" y=\"71.1074\">a</text><line style=\"stroke: #383838; stroke-width: 1.5;\" x1=\"147\" x2=\"305\" y1=\"78.9375\" y2=\"78.9375\"/><text fill=\"#000000\" font-family=\"sans-serif\" font-size=\"11\" lengthAdjust=\"spacingAndGlyphs\" textLength=\"69\" x=\"152\" y=\"109.9526\">start: Action</text><text fill=\"#000000\" font-family=\"sans-serif\" font-size=\"11\" font-style=\"italic\" lengthAdjust=\"spacingAndGlyphs\" textLength=\"148\" x=\"152\" y=\"122.7573\">:&gt;&gt;Occurrence::startShot</text><line style=\"stroke: #383838; stroke-width: 1.0;\" x1=\"147\" x2=\"205.5\" y1=\"93.3398\" y2=\"93.3398\"/><text fill=\"#000000\" font-family=\"sans-serif\" font-size=\"11\" lengthAdjust=\"spacingAndGlyphs\" textLength=\"41\" x=\"205.5\" y=\"96.6479\">actions</text><line style=\"stroke: #383838; stroke-width: 1.0;\" x1=\"246.5\" x2=\"305\" y1=\"93.3398\" y2=\"93.3398\"/><text fill=\"#000000\" font-family=\"sans-serif\" font-size=\"11\" lengthAdjust=\"spacingAndGlyphs\" textLength=\"11\" x=\"152\" y=\"152.3667\">m</text><line style=\"stroke: #383838; stroke-width: 1.0;\" x1=\"147\" x2=\"189.5\" y1=\"135.7539\" y2=\"135.7539\"/><text fill=\"#000000\" font-family=\"sans-serif\" font-size=\"11\" lengthAdjust=\"spacingAndGlyphs\" textLength=\"73\" x=\"189.5\" y=\"139.062\">mergeNodes</text><line style=\"stroke: #383838; stroke-width: 1.0;\" x1=\"262.5\" x2=\"305\" y1=\"135.7539\" y2=\"135.7539\"/></a><!--MD5=[60a26617385b1d2d0262a64233df1f8d]\n",
       "class E6--><a href=\"psysml:4eec70ee-61f4-4cab-8137-f00a9e5c8983\" target=\"_top\" title=\"psysml:4eec70ee-61f4-4cab-8137-f00a9e5c8983\" xlink:actuate=\"onRequest\" xlink:href=\"psysml:4eec70ee-61f4-4cab-8137-f00a9e5c8983\" xlink:show=\"new\" xlink:title=\"psysml:4eec70ee-61f4-4cab-8137-f00a9e5c8983\" xlink:type=\"simple\"><rect fill=\"#FFFFFF\" height=\"45.9375\" id=\"E6\" style=\"stroke: #383838; stroke-width: 1.5;\" width=\"79\" x=\"31.5\" y=\"77\"/><text fill=\"#000000\" font-family=\"sans-serif\" font-size=\"12\" font-style=\"italic\" lengthAdjust=\"spacingAndGlyphs\" textLength=\"77\" x=\"32.5\" y=\"93.1387\">«action def»</text><text fill=\"#000000\" font-family=\"sans-serif\" font-size=\"12\" lengthAdjust=\"spacingAndGlyphs\" textLength=\"8\" x=\"67\" y=\"107.1074\">B</text><line style=\"stroke: #383838; stroke-width: 1.5;\" x1=\"32.5\" x2=\"109.5\" y1=\"114.9375\" y2=\"114.9375\"/></a><!--MD5=[a8088cc07a7856311e640ad035b7adee]\n",
       "@startuml\r\n",
       "skinparam monochrome true\r\n",
       "skinparam classbackgroundcolor white\r\n",
       "skinparam shadowing false\r\n",
       "skinparam wrapWidth 300\r\n",
       "hide circle\r\n",
       "\r\n",
       "package \"ActionTest\" as E1  [[psysml:fba87211-d6a8-40ff-8d47-80f3cbac0e83 ]]  {\r\n",
       "comp def \"S\" as E2  <<(T,blue)attribute def>> [[psysml:9e8a127b-f23f-41bc-b046-de56fba8ce50 ]] {\r\n",
       "}\r\n",
       "comp usage \"a\" as E3  <<(T,blue)action>> [[psysml:ad4f18e6-c096-4c58-bb62-14a597e4442d ]] {\r\n",
       "- - actions - -\r\n",
       "start: Action\\n//:>>Occurrence::startShot// \r\n",
       "- - mergeNodes - -\r\n",
       "m\r\n",
       "}\r\n",
       "comp def \"B\" as E6  <<(T,blue)action def>> [[psysml:4eec70ee-61f4-4cab-8137-f00a9e5c8983 ]] {\r\n",
       "}\r\n",
       "}\r\n",
       "@enduml\r\n",
       "\n",
       "PlantUML version 1.2020.13(Sat Jun 13 12:26:38 UTC 2020)\n",
       "(EPL source distribution)\n",
       "Java Runtime: OpenJDK Runtime Environment\n",
       "JVM: OpenJDK 64-Bit Server VM\n",
       "Default Encoding: UTF-8\n",
       "Language: en\n",
       "Country: null\n",
       "--></g></svg>"
      ]
     },
     "execution_count": 42,
     "metadata": {},
     "output_type": "execute_result"
    }
   ],
   "source": [
    "%viz --style=\"DEFAULT\" --view=\"Sequence\" \"ActionTest\""
   ]
  },
  {
   "cell_type": "code",
   "execution_count": 43,
   "id": "9246dc59",
   "metadata": {
    "execution": {
     "iopub.execute_input": "2021-05-27T06:08:03.498736Z",
     "iopub.status.busy": "2021-05-27T06:08:03.498375Z",
     "iopub.status.idle": "2021-05-27T06:08:03.540539Z",
     "shell.execute_reply": "2021-05-27T06:08:03.539128Z"
    }
   },
   "outputs": [
    {
     "data": {
      "image/svg+xml": [
       "<?xml version=\"1.0\" encoding=\"UTF-8\" standalone=\"no\"?><svg xmlns=\"http://www.w3.org/2000/svg\" xmlns:xlink=\"http://www.w3.org/1999/xlink\" contentScriptType=\"application/ecmascript\" contentStyleType=\"text/css\" height=\"684px\" preserveAspectRatio=\"none\" style=\"width:518px;height:684px;\" version=\"1.1\" viewBox=\"0 0 518 684\" width=\"518px\" zoomAndPan=\"magnify\"><defs/><g><!--MD5=[fbc87193dbaf4d95561dea2c320d4a47]\n",
       "cluster E1--><a href=\"psysml:fba87211-d6a8-40ff-8d47-80f3cbac0e83\" target=\"_top\" title=\"psysml:fba87211-d6a8-40ff-8d47-80f3cbac0e83\" xlink:actuate=\"onRequest\" xlink:href=\"psysml:fba87211-d6a8-40ff-8d47-80f3cbac0e83\" xlink:show=\"new\" xlink:title=\"psysml:fba87211-d6a8-40ff-8d47-80f3cbac0e83\" xlink:type=\"simple\"><polygon fill=\"#FFFFFF\" points=\"16,6,107,6,114,28.2969,496,28.2969,496,672,16,672,16,6\" style=\"stroke: #000000; stroke-width: 1.5;\"/><line style=\"stroke: #000000; stroke-width: 1.5;\" x1=\"16\" x2=\"114\" y1=\"28.2969\" y2=\"28.2969\"/><text fill=\"#000000\" font-family=\"sans-serif\" font-size=\"14\" font-weight=\"bold\" lengthAdjust=\"spacingAndGlyphs\" textLength=\"85\" x=\"20\" y=\"20.9951\">ActionTest</text></a><!--MD5=[d5e69f78d87373223dbae638b30a9c99]\n",
       "cluster E3--><a href=\"psysml:ad4f18e6-c096-4c58-bb62-14a597e4442d\" target=\"_top\" title=\"psysml:ad4f18e6-c096-4c58-bb62-14a597e4442d\" xlink:actuate=\"onRequest\" xlink:href=\"psysml:ad4f18e6-c096-4c58-bb62-14a597e4442d\" xlink:show=\"new\" xlink:title=\"psysml:ad4f18e6-c096-4c58-bb62-14a597e4442d\" xlink:type=\"simple\"><rect fill=\"#FFFFFF\" height=\"599\" id=\"E3\" rx=\"10\" ry=\"10\" style=\"stroke: #383838; stroke-width: 1.5;\" width=\"209\" x=\"263\" y=\"49\"/><rect fill=\"#F8F8F8\" height=\"37.9375\" rx=\"10\" ry=\"10\" style=\"stroke: #F8F8F8; stroke-width: 1.5;\" width=\"209\" x=\"263\" y=\"49\"/><rect fill=\"#F8F8F8\" height=\"10\" style=\"stroke: #F8F8F8; stroke-width: 1.5;\" width=\"209\" x=\"263\" y=\"76.9375\"/><rect fill=\"none\" height=\"599\" id=\"E3\" rx=\"10\" ry=\"10\" style=\"stroke: #383838; stroke-width: 1.5;\" width=\"209\" x=\"263\" y=\"49\"/><text fill=\"#000000\" font-family=\"sans-serif\" font-size=\"12\" font-style=\"italic\" lengthAdjust=\"spacingAndGlyphs\" textLength=\"53\" x=\"341\" y=\"65.1387\">«action»</text><text fill=\"#000000\" font-family=\"sans-serif\" font-size=\"12\" lengthAdjust=\"spacingAndGlyphs\" textLength=\"8\" x=\"363.5\" y=\"79.1074\">a</text><line style=\"stroke: #383838; stroke-width: 1.0;\" x1=\"263\" x2=\"472\" y1=\"86.9375\" y2=\"86.9375\"/></a><!--MD5=[b4997ac47864f28c2f74865a473b2911]\n",
       "class E2--><a href=\"psysml:9e8a127b-f23f-41bc-b046-de56fba8ce50\" target=\"_top\" title=\"psysml:9e8a127b-f23f-41bc-b046-de56fba8ce50\" xlink:actuate=\"onRequest\" xlink:href=\"psysml:9e8a127b-f23f-41bc-b046-de56fba8ce50\" xlink:show=\"new\" xlink:title=\"psysml:9e8a127b-f23f-41bc-b046-de56fba8ce50\" xlink:type=\"simple\"><rect fill=\"#FFFFFF\" height=\"45.9375\" id=\"E2\" style=\"stroke: #383838; stroke-width: 1.5;\" width=\"95\" x=\"151.5\" y=\"87\"/><text fill=\"#000000\" font-family=\"sans-serif\" font-size=\"12\" font-style=\"italic\" lengthAdjust=\"spacingAndGlyphs\" textLength=\"93\" x=\"152.5\" y=\"103.1387\">«attribute def»</text><text fill=\"#000000\" font-family=\"sans-serif\" font-size=\"12\" lengthAdjust=\"spacingAndGlyphs\" textLength=\"8\" x=\"195\" y=\"117.1074\">S</text><line style=\"stroke: #383838; stroke-width: 1.5;\" x1=\"152.5\" x2=\"245.5\" y1=\"124.9375\" y2=\"124.9375\"/></a><polygon fill=\"#F8F8F8\" points=\"420,194,432,206,420,218,408,206,420,194\" style=\"stroke: #383838; stroke-width: 1.5;\"/><!--MD5=[21dd76c19d33815960c0e92fef8f0eef]\n",
       "entity E5--><a href=\"psysml:ccfba6f1-4ce0-4ddd-afd5-b866d68d47d7\" target=\"_top\" title=\"psysml:ccfba6f1-4ce0-4ddd-afd5-b866d68d47d7\" xlink:actuate=\"onRequest\" xlink:href=\"psysml:ccfba6f1-4ce0-4ddd-afd5-b866d68d47d7\" xlink:show=\"new\" xlink:title=\"psysml:ccfba6f1-4ce0-4ddd-afd5-b866d68d47d7\" xlink:type=\"simple\"><polygon fill=\"#F8F8F8\" points=\"279,279,279,333.5938,419,333.5938,399,306.2969,419,279\" style=\"stroke: #000000; stroke-width: 1.5;\"/><text fill=\"#000000\" font-family=\"sans-serif\" font-size=\"14\" font-style=\"italic\" lengthAdjust=\"spacingAndGlyphs\" textLength=\"111\" x=\"286\" y=\"301.9951\">«accept action»</text><text fill=\"#000000\" font-family=\"sans-serif\" font-size=\"14\" lengthAdjust=\"spacingAndGlyphs\" textLength=\"9\" x=\"337\" y=\"319.292\">S</text></a><!--MD5=[24d87cdf3002d433f401b2a2aa9f9f65]\n",
       "entity E6--><a href=\"psysml:f31bbeb6-49c7-47f4-9bac-592fafbdce16\" target=\"_top\" title=\"psysml:f31bbeb6-49c7-47f4-9bac-592fafbdce16\" xlink:actuate=\"onRequest\" xlink:href=\"psysml:f31bbeb6-49c7-47f4-9bac-592fafbdce16\" xlink:show=\"new\" xlink:title=\"psysml:f31bbeb6-49c7-47f4-9bac-592fafbdce16\" xlink:type=\"simple\"><polygon fill=\"#F8F8F8\" points=\"279,411,279,465.5938,387,465.5938,407,438.2969,387,411\" style=\"stroke: #000000; stroke-width: 1.5;\"/><text fill=\"#000000\" font-family=\"sans-serif\" font-size=\"14\" font-style=\"italic\" lengthAdjust=\"spacingAndGlyphs\" textLength=\"99\" x=\"286\" y=\"433.9951\">«send action»</text><text fill=\"#000000\" font-family=\"sans-serif\" font-size=\"14\" lengthAdjust=\"spacingAndGlyphs\" textLength=\"65\" x=\"303\" y=\"451.292\">S() to  B()</text></a><polygon fill=\"#F8F8F8\" points=\"418,527,430,539,418,551,406,539,418,527\" style=\"stroke: #383838; stroke-width: 1.5;\"/><ellipse cx=\"420\" cy=\"110\" fill=\"#000000\" rx=\"10\" ry=\"10\" style=\"stroke: none; stroke-width: 1.0;\"/><ellipse cx=\"418\" cy=\"622\" fill=\"none\" rx=\"10\" ry=\"10\" style=\"stroke: #000000; stroke-width: 1.0;\"/><ellipse cx=\"418.5\" cy=\"622.5\" fill=\"#000000\" rx=\"6\" ry=\"6\" style=\"stroke: none; stroke-width: 1.0;\"/><g id=\"E1.E8\"><a href=\"psysml:4eec70ee-61f4-4cab-8137-f00a9e5c8983\" target=\"_top\" title=\"psysml:4eec70ee-61f4-4cab-8137-f00a9e5c8983\" xlink:actuate=\"onRequest\" xlink:href=\"psysml:4eec70ee-61f4-4cab-8137-f00a9e5c8983\" xlink:show=\"new\" xlink:title=\"psysml:4eec70ee-61f4-4cab-8137-f00a9e5c8983\" xlink:type=\"simple\"><rect fill=\"#FFFFFF\" height=\"42.9375\" id=\"E8\" style=\"stroke: #383838; stroke-width: 1.5;\" width=\"84\" x=\"32\" y=\"88.5\"/><rect fill=\"#F8F8F8\" height=\"37.9375\" style=\"stroke: #383838; stroke-width: 1.5;\" width=\"84\" x=\"32\" y=\"88.5\"/><text fill=\"#000000\" font-family=\"sans-serif\" font-size=\"12\" font-style=\"italic\" lengthAdjust=\"spacingAndGlyphs\" textLength=\"77\" x=\"35.5\" y=\"104.6387\">«action def»</text><text fill=\"#000000\" font-family=\"sans-serif\" font-size=\"12\" lengthAdjust=\"spacingAndGlyphs\" textLength=\"8\" x=\"70\" y=\"118.6074\">B</text></a></g><!--MD5=[f47e10efcf9a6752d55dae986d790ed9]\n",
       "link *start*E3 to E4--><a href=\"psysml:03e50e83-6fc7-46a8-8453-213dc2aae23c\" target=\"_top\" title=\"psysml:03e50e83-6fc7-46a8-8453-213dc2aae23c\" xlink:actuate=\"onRequest\" xlink:href=\"psysml:03e50e83-6fc7-46a8-8453-213dc2aae23c\" xlink:show=\"new\" xlink:title=\"psysml:03e50e83-6fc7-46a8-8453-213dc2aae23c\" xlink:type=\"simple\"><path d=\"M420,120.01 C420,135.81 420,168.69 420,188.61 \" fill=\"none\" id=\"*start*E3-&gt;E4\" style=\"stroke: #383838; stroke-width: 1.0;\"/><polygon fill=\"#383838\" points=\"420,193.85,424,184.85,420,188.85,416,184.85,420,193.85\" style=\"stroke: #383838; stroke-width: 1.0;\"/></a><!--MD5=[d19f2eb34364d71b67042106d92f540b]\n",
       "link E7 to *end*E3--><a href=\"psysml:c4a668a6-d0f8-468f-9890-a338c2ee16ef\" target=\"_top\" title=\"psysml:c4a668a6-d0f8-468f-9890-a338c2ee16ef\" xlink:actuate=\"onRequest\" xlink:href=\"psysml:c4a668a6-d0f8-468f-9890-a338c2ee16ef\" xlink:show=\"new\" xlink:title=\"psysml:c4a668a6-d0f8-468f-9890-a338c2ee16ef\" xlink:type=\"simple\"><path d=\"M418,551.26 C418,565.66 418,590.63 418,606.46 \" fill=\"none\" id=\"E7-&gt;*end*E3\" style=\"stroke: #383838; stroke-width: 1.0;\"/><polygon fill=\"#383838\" points=\"418,611.84,422,602.84,418,606.84,414,602.84,418,611.84\" style=\"stroke: #383838; stroke-width: 1.0;\"/></a><!--MD5=[1b7591eae5389033d8d09a9d6721a717]\n",
       "link E4 to E5--><a href=\"psysml:f95480df-9a63-41d1-9e12-1ec6bb9c61dc\" target=\"_top\" title=\"psysml:f95480df-9a63-41d1-9e12-1ec6bb9c61dc\" xlink:actuate=\"onRequest\" xlink:href=\"psysml:f95480df-9a63-41d1-9e12-1ec6bb9c61dc\" xlink:show=\"new\" xlink:title=\"psysml:f95480df-9a63-41d1-9e12-1ec6bb9c61dc\" xlink:type=\"simple\"><path d=\"M415.34,213.46 C406.55,225.66 386.99,252.8 371.37,274.46 \" fill=\"none\" id=\"E4-&gt;E5\" style=\"stroke: #383838; stroke-width: 1.0;\"/><polygon fill=\"#383838\" points=\"368.31,278.71,376.8093,273.7339,371.227,274.6491,370.3119,269.0667,368.31,278.71\" style=\"stroke: #383838; stroke-width: 1.0;\"/></a><!--MD5=[9120cf2e5df3bff93db8f754bbbc09b4]\n",
       "link E5 to E6--><a href=\"psysml:73484f54-b4d2-4298-bed2-8c418bf31093\" target=\"_top\" title=\"psysml:73484f54-b4d2-4298-bed2-8c418bf31093\" xlink:actuate=\"onRequest\" xlink:href=\"psysml:73484f54-b4d2-4298-bed2-8c418bf31093\" xlink:show=\"new\" xlink:title=\"psysml:73484f54-b4d2-4298-bed2-8c418bf31093\" xlink:type=\"simple\"><path d=\"M347.77,334.12 C346.81,354.89 345.48,383.8 344.46,405.77 \" fill=\"none\" id=\"E5-&gt;E6\" style=\"stroke: #383838; stroke-width: 1.0;\"/><polygon fill=\"#383838\" points=\"344.23,410.91,348.6368,402.1021,344.4583,405.9152,340.6452,401.7367,344.23,410.91\" style=\"stroke: #383838; stroke-width: 1.0;\"/></a><!--MD5=[02c70b7c851c11e3980e4e90450dc5dd]\n",
       "link E6 to E7--><a href=\"psysml:860bf181-ae5a-4d8b-9cc8-c19fc893dd3f\" target=\"_top\" title=\"psysml:860bf181-ae5a-4d8b-9cc8-c19fc893dd3f\" xlink:actuate=\"onRequest\" xlink:href=\"psysml:860bf181-ae5a-4d8b-9cc8-c19fc893dd3f\" xlink:show=\"new\" xlink:title=\"psysml:860bf181-ae5a-4d8b-9cc8-c19fc893dd3f\" xlink:type=\"simple\"><path d=\"M363.3,466.16 C378.71,486.4 399.07,513.14 410.09,527.61 \" fill=\"none\" id=\"E6-&gt;E7\" style=\"stroke: #383838; stroke-width: 1.0;\"/><polygon fill=\"#383838\" points=\"413.2,531.69,410.9398,522.104,410.1749,527.7089,404.57,526.9441,413.2,531.69\" style=\"stroke: #383838; stroke-width: 1.0;\"/></a><!--MD5=[6bdd27f9905911a7e892a3dc65cf6b7c]\n",
       "link E7 to E4--><a href=\"psysml:227ffbe5-5fbb-4b69-bf2e-f462a1a2545e\" target=\"_top\" title=\"psysml:227ffbe5-5fbb-4b69-bf2e-f462a1a2545e\" xlink:actuate=\"onRequest\" xlink:href=\"psysml:227ffbe5-5fbb-4b69-bf2e-f462a1a2545e\" xlink:show=\"new\" xlink:title=\"psysml:227ffbe5-5fbb-4b69-bf2e-f462a1a2545e\" xlink:type=\"simple\"><path d=\"M419.98,528.56 C426.8,494.71 448.32,376.18 437,279 C434.59,258.32 428.42,234.96 424.21,220.61 \" fill=\"none\" id=\"E7-&gt;E4\" style=\"stroke: #383838; stroke-width: 1.0;\"/><polygon fill=\"#383838\" points=\"422.76,215.75,421.4935,225.5171,424.1863,220.5423,429.1611,223.2351,422.76,215.75\" style=\"stroke: #383838; stroke-width: 1.0;\"/><text fill=\"#000000\" font-family=\"sans-serif\" font-size=\"13\" lengthAdjust=\"spacingAndGlyphs\" textLength=\"36\" x=\"440\" y=\"377.0669\">[true]</text></a><!--MD5=[6ee5dc74fb9dddcd33cb9fc66af9bd62]\n",
       "@startuml\r\n",
       "skinparam monochrome true\r\n",
       "skinparam classbackgroundcolor white\r\n",
       "skinparam shadowing false\r\n",
       "skinparam wrapWidth 300\r\n",
       "hide circle\r\n",
       "\r\n",
       "package \"ActionTest\" as E1  [[psysml:fba87211-d6a8-40ff-8d47-80f3cbac0e83 ]]  {\r\n",
       "comp def \"S\" as E2  <<(T,blue)attribute def>> [[psysml:9e8a127b-f23f-41bc-b046-de56fba8ce50 ]] {\r\n",
       "}\r\n",
       "rec usage \"a\" as E3  <<(T,blue)action>> [[psysml:ad4f18e6-c096-4c58-bb62-14a597e4442d ]] {\r\n",
       "choice \"m\" as E4  [[psysml:e85a3052-7a7b-4311-97f8-bb0216d1246f ]] \r\n",
       "accept \" S\" as E5 <<accept action>> [[psysml:ccfba6f1-4ce0-4ddd-afd5-b866d68d47d7 ]] \r\n",
       "send \" S() to  B()\" as E6 <<send action>> [[psysml:f31bbeb6-49c7-47f4-9bac-592fafbdce16 ]] \r\n",
       "choice \"noname\" as E7  [[psysml:7507dc2c-9b39-4c30-b0ef-dd6a627e8c4c ]] \r\n",
       "[*] - -> E4 [[psysml:03e50e83-6fc7-46a8-8453-213dc2aae23c ]] \r\n",
       "E7  - -> [*] [[psysml:c4a668a6-d0f8-468f-9890-a338c2ee16ef ]] \r\n",
       "}\r\n",
       "\r\n",
       "rec def \"B\" as E8  <<(T,blue)action def>> [[psysml:4eec70ee-61f4-4cab-8137-f00a9e5c8983 ]] {\r\n",
       "}\r\n",
       "\r\n",
       "E4 - -> E5 [[psysml:f95480df-9a63-41d1-9e12-1ec6bb9c61dc ]] \r\n",
       "E5 - -> E6 [[psysml:73484f54-b4d2-4298-bed2-8c418bf31093 ]] \r\n",
       "E6 - -> E7 [[psysml:860bf181-ae5a-4d8b-9cc8-c19fc893dd3f ]] \r\n",
       "E7  - -> E4 [[psysml:227ffbe5-5fbb-4b69-bf2e-f462a1a2545e ]] : [true]\r\n",
       "}\r\n",
       "@enduml\r\n",
       "\n",
       "PlantUML version 1.2020.13(Sat Jun 13 12:26:38 UTC 2020)\n",
       "(EPL source distribution)\n",
       "Java Runtime: OpenJDK Runtime Environment\n",
       "JVM: OpenJDK 64-Bit Server VM\n",
       "Default Encoding: UTF-8\n",
       "Language: en\n",
       "Country: null\n",
       "--></g></svg>"
      ]
     },
     "execution_count": 43,
     "metadata": {},
     "output_type": "execute_result"
    }
   ],
   "source": [
    "%viz --style=\"DEFAULT\" --view=\"MIXED\" \"ActionTest\""
   ]
  },
  {
   "cell_type": "code",
   "execution_count": 44,
   "id": "b267b84b",
   "metadata": {
    "execution": {
     "iopub.execute_input": "2021-05-27T06:08:03.589239Z",
     "iopub.status.busy": "2021-05-27T06:08:03.588849Z",
     "iopub.status.idle": "2021-05-27T06:08:03.625889Z",
     "shell.execute_reply": "2021-05-27T06:08:03.624638Z"
    }
   },
   "outputs": [
    {
     "data": {
      "image/svg+xml": [
       "<?xml version=\"1.0\" encoding=\"UTF-8\" standalone=\"no\"?><svg xmlns=\"http://www.w3.org/2000/svg\" xmlns:xlink=\"http://www.w3.org/1999/xlink\" contentScriptType=\"application/ecmascript\" contentStyleType=\"text/css\" height=\"684px\" preserveAspectRatio=\"none\" style=\"width:518px;height:684px;\" version=\"1.1\" viewBox=\"0 0 518 684\" width=\"518px\" zoomAndPan=\"magnify\"><defs/><g><!--MD5=[fbc87193dbaf4d95561dea2c320d4a47]\n",
       "cluster E1--><a href=\"psysml:fba87211-d6a8-40ff-8d47-80f3cbac0e83\" target=\"_top\" title=\"psysml:fba87211-d6a8-40ff-8d47-80f3cbac0e83\" xlink:actuate=\"onRequest\" xlink:href=\"psysml:fba87211-d6a8-40ff-8d47-80f3cbac0e83\" xlink:show=\"new\" xlink:title=\"psysml:fba87211-d6a8-40ff-8d47-80f3cbac0e83\" xlink:type=\"simple\"><polygon fill=\"#FFFFFF\" points=\"16,6,107,6,114,28.2969,496,28.2969,496,672,16,672,16,6\" style=\"stroke: #000000; stroke-width: 1.5;\"/><line style=\"stroke: #000000; stroke-width: 1.5;\" x1=\"16\" x2=\"114\" y1=\"28.2969\" y2=\"28.2969\"/><text fill=\"#000000\" font-family=\"sans-serif\" font-size=\"14\" font-weight=\"bold\" lengthAdjust=\"spacingAndGlyphs\" textLength=\"85\" x=\"20\" y=\"20.9951\">ActionTest</text></a><!--MD5=[d5e69f78d87373223dbae638b30a9c99]\n",
       "cluster E3--><a href=\"psysml:ad4f18e6-c096-4c58-bb62-14a597e4442d\" target=\"_top\" title=\"psysml:ad4f18e6-c096-4c58-bb62-14a597e4442d\" xlink:actuate=\"onRequest\" xlink:href=\"psysml:ad4f18e6-c096-4c58-bb62-14a597e4442d\" xlink:show=\"new\" xlink:title=\"psysml:ad4f18e6-c096-4c58-bb62-14a597e4442d\" xlink:type=\"simple\"><rect fill=\"#FFFFFF\" height=\"599\" id=\"E3\" rx=\"10\" ry=\"10\" style=\"stroke: #383838; stroke-width: 1.5;\" width=\"209\" x=\"263\" y=\"49\"/><rect fill=\"#F8F8F8\" height=\"37.9375\" rx=\"10\" ry=\"10\" style=\"stroke: #F8F8F8; stroke-width: 1.5;\" width=\"209\" x=\"263\" y=\"49\"/><rect fill=\"#F8F8F8\" height=\"10\" style=\"stroke: #F8F8F8; stroke-width: 1.5;\" width=\"209\" x=\"263\" y=\"76.9375\"/><rect fill=\"none\" height=\"599\" id=\"E3\" rx=\"10\" ry=\"10\" style=\"stroke: #383838; stroke-width: 1.5;\" width=\"209\" x=\"263\" y=\"49\"/><text fill=\"#000000\" font-family=\"sans-serif\" font-size=\"12\" font-style=\"italic\" lengthAdjust=\"spacingAndGlyphs\" textLength=\"53\" x=\"341\" y=\"65.1387\">«action»</text><text fill=\"#000000\" font-family=\"sans-serif\" font-size=\"12\" lengthAdjust=\"spacingAndGlyphs\" textLength=\"8\" x=\"363.5\" y=\"79.1074\">a</text><line style=\"stroke: #383838; stroke-width: 1.0;\" x1=\"263\" x2=\"472\" y1=\"86.9375\" y2=\"86.9375\"/></a><!--MD5=[b4997ac47864f28c2f74865a473b2911]\n",
       "class E2--><a href=\"psysml:9e8a127b-f23f-41bc-b046-de56fba8ce50\" target=\"_top\" title=\"psysml:9e8a127b-f23f-41bc-b046-de56fba8ce50\" xlink:actuate=\"onRequest\" xlink:href=\"psysml:9e8a127b-f23f-41bc-b046-de56fba8ce50\" xlink:show=\"new\" xlink:title=\"psysml:9e8a127b-f23f-41bc-b046-de56fba8ce50\" xlink:type=\"simple\"><rect fill=\"#FFFFFF\" height=\"45.9375\" id=\"E2\" style=\"stroke: #383838; stroke-width: 1.5;\" width=\"95\" x=\"151.5\" y=\"87\"/><text fill=\"#000000\" font-family=\"sans-serif\" font-size=\"12\" font-style=\"italic\" lengthAdjust=\"spacingAndGlyphs\" textLength=\"93\" x=\"152.5\" y=\"103.1387\">«attribute def»</text><text fill=\"#000000\" font-family=\"sans-serif\" font-size=\"12\" lengthAdjust=\"spacingAndGlyphs\" textLength=\"8\" x=\"195\" y=\"117.1074\">S</text><line style=\"stroke: #383838; stroke-width: 1.5;\" x1=\"152.5\" x2=\"245.5\" y1=\"124.9375\" y2=\"124.9375\"/></a><polygon fill=\"#F8F8F8\" points=\"420,194,432,206,420,218,408,206,420,194\" style=\"stroke: #383838; stroke-width: 1.5;\"/><!--MD5=[21dd76c19d33815960c0e92fef8f0eef]\n",
       "entity E5--><a href=\"psysml:ccfba6f1-4ce0-4ddd-afd5-b866d68d47d7\" target=\"_top\" title=\"psysml:ccfba6f1-4ce0-4ddd-afd5-b866d68d47d7\" xlink:actuate=\"onRequest\" xlink:href=\"psysml:ccfba6f1-4ce0-4ddd-afd5-b866d68d47d7\" xlink:show=\"new\" xlink:title=\"psysml:ccfba6f1-4ce0-4ddd-afd5-b866d68d47d7\" xlink:type=\"simple\"><polygon fill=\"#F8F8F8\" points=\"279,279,279,333.5938,419,333.5938,399,306.2969,419,279\" style=\"stroke: #000000; stroke-width: 1.5;\"/><text fill=\"#000000\" font-family=\"sans-serif\" font-size=\"14\" font-style=\"italic\" lengthAdjust=\"spacingAndGlyphs\" textLength=\"111\" x=\"286\" y=\"301.9951\">«accept action»</text><text fill=\"#000000\" font-family=\"sans-serif\" font-size=\"14\" lengthAdjust=\"spacingAndGlyphs\" textLength=\"9\" x=\"337\" y=\"319.292\">S</text></a><!--MD5=[24d87cdf3002d433f401b2a2aa9f9f65]\n",
       "entity E6--><a href=\"psysml:f31bbeb6-49c7-47f4-9bac-592fafbdce16\" target=\"_top\" title=\"psysml:f31bbeb6-49c7-47f4-9bac-592fafbdce16\" xlink:actuate=\"onRequest\" xlink:href=\"psysml:f31bbeb6-49c7-47f4-9bac-592fafbdce16\" xlink:show=\"new\" xlink:title=\"psysml:f31bbeb6-49c7-47f4-9bac-592fafbdce16\" xlink:type=\"simple\"><polygon fill=\"#F8F8F8\" points=\"279,411,279,465.5938,387,465.5938,407,438.2969,387,411\" style=\"stroke: #000000; stroke-width: 1.5;\"/><text fill=\"#000000\" font-family=\"sans-serif\" font-size=\"14\" font-style=\"italic\" lengthAdjust=\"spacingAndGlyphs\" textLength=\"99\" x=\"286\" y=\"433.9951\">«send action»</text><text fill=\"#000000\" font-family=\"sans-serif\" font-size=\"14\" lengthAdjust=\"spacingAndGlyphs\" textLength=\"65\" x=\"303\" y=\"451.292\">S() to  B()</text></a><polygon fill=\"#F8F8F8\" points=\"418,527,430,539,418,551,406,539,418,527\" style=\"stroke: #383838; stroke-width: 1.5;\"/><ellipse cx=\"420\" cy=\"110\" fill=\"#000000\" rx=\"10\" ry=\"10\" style=\"stroke: none; stroke-width: 1.0;\"/><ellipse cx=\"418\" cy=\"622\" fill=\"none\" rx=\"10\" ry=\"10\" style=\"stroke: #000000; stroke-width: 1.0;\"/><ellipse cx=\"418.5\" cy=\"622.5\" fill=\"#000000\" rx=\"6\" ry=\"6\" style=\"stroke: none; stroke-width: 1.0;\"/><g id=\"E1.E8\"><a href=\"psysml:4eec70ee-61f4-4cab-8137-f00a9e5c8983\" target=\"_top\" title=\"psysml:4eec70ee-61f4-4cab-8137-f00a9e5c8983\" xlink:actuate=\"onRequest\" xlink:href=\"psysml:4eec70ee-61f4-4cab-8137-f00a9e5c8983\" xlink:show=\"new\" xlink:title=\"psysml:4eec70ee-61f4-4cab-8137-f00a9e5c8983\" xlink:type=\"simple\"><rect fill=\"#FFFFFF\" height=\"42.9375\" id=\"E8\" style=\"stroke: #383838; stroke-width: 1.5;\" width=\"84\" x=\"32\" y=\"88.5\"/><rect fill=\"#F8F8F8\" height=\"37.9375\" style=\"stroke: #383838; stroke-width: 1.5;\" width=\"84\" x=\"32\" y=\"88.5\"/><text fill=\"#000000\" font-family=\"sans-serif\" font-size=\"12\" font-style=\"italic\" lengthAdjust=\"spacingAndGlyphs\" textLength=\"77\" x=\"35.5\" y=\"104.6387\">«action def»</text><text fill=\"#000000\" font-family=\"sans-serif\" font-size=\"12\" lengthAdjust=\"spacingAndGlyphs\" textLength=\"8\" x=\"70\" y=\"118.6074\">B</text></a></g><!--MD5=[f47e10efcf9a6752d55dae986d790ed9]\n",
       "link *start*E3 to E4--><a href=\"psysml:03e50e83-6fc7-46a8-8453-213dc2aae23c\" target=\"_top\" title=\"psysml:03e50e83-6fc7-46a8-8453-213dc2aae23c\" xlink:actuate=\"onRequest\" xlink:href=\"psysml:03e50e83-6fc7-46a8-8453-213dc2aae23c\" xlink:show=\"new\" xlink:title=\"psysml:03e50e83-6fc7-46a8-8453-213dc2aae23c\" xlink:type=\"simple\"><path d=\"M420,120.01 C420,135.81 420,168.69 420,188.61 \" fill=\"none\" id=\"*start*E3-&gt;E4\" style=\"stroke: #383838; stroke-width: 1.0;\"/><polygon fill=\"#383838\" points=\"420,193.85,424,184.85,420,188.85,416,184.85,420,193.85\" style=\"stroke: #383838; stroke-width: 1.0;\"/></a><!--MD5=[d19f2eb34364d71b67042106d92f540b]\n",
       "link E7 to *end*E3--><a href=\"psysml:c4a668a6-d0f8-468f-9890-a338c2ee16ef\" target=\"_top\" title=\"psysml:c4a668a6-d0f8-468f-9890-a338c2ee16ef\" xlink:actuate=\"onRequest\" xlink:href=\"psysml:c4a668a6-d0f8-468f-9890-a338c2ee16ef\" xlink:show=\"new\" xlink:title=\"psysml:c4a668a6-d0f8-468f-9890-a338c2ee16ef\" xlink:type=\"simple\"><path d=\"M418,551.26 C418,565.66 418,590.63 418,606.46 \" fill=\"none\" id=\"E7-&gt;*end*E3\" style=\"stroke: #383838; stroke-width: 1.0;\"/><polygon fill=\"#383838\" points=\"418,611.84,422,602.84,418,606.84,414,602.84,418,611.84\" style=\"stroke: #383838; stroke-width: 1.0;\"/></a><!--MD5=[1b7591eae5389033d8d09a9d6721a717]\n",
       "link E4 to E5--><a href=\"psysml:f95480df-9a63-41d1-9e12-1ec6bb9c61dc\" target=\"_top\" title=\"psysml:f95480df-9a63-41d1-9e12-1ec6bb9c61dc\" xlink:actuate=\"onRequest\" xlink:href=\"psysml:f95480df-9a63-41d1-9e12-1ec6bb9c61dc\" xlink:show=\"new\" xlink:title=\"psysml:f95480df-9a63-41d1-9e12-1ec6bb9c61dc\" xlink:type=\"simple\"><path d=\"M415.34,213.46 C406.55,225.66 386.99,252.8 371.37,274.46 \" fill=\"none\" id=\"E4-&gt;E5\" style=\"stroke: #383838; stroke-width: 1.0;\"/><polygon fill=\"#383838\" points=\"368.31,278.71,376.8093,273.7339,371.227,274.6491,370.3119,269.0667,368.31,278.71\" style=\"stroke: #383838; stroke-width: 1.0;\"/></a><!--MD5=[9120cf2e5df3bff93db8f754bbbc09b4]\n",
       "link E5 to E6--><a href=\"psysml:73484f54-b4d2-4298-bed2-8c418bf31093\" target=\"_top\" title=\"psysml:73484f54-b4d2-4298-bed2-8c418bf31093\" xlink:actuate=\"onRequest\" xlink:href=\"psysml:73484f54-b4d2-4298-bed2-8c418bf31093\" xlink:show=\"new\" xlink:title=\"psysml:73484f54-b4d2-4298-bed2-8c418bf31093\" xlink:type=\"simple\"><path d=\"M347.77,334.12 C346.81,354.89 345.48,383.8 344.46,405.77 \" fill=\"none\" id=\"E5-&gt;E6\" style=\"stroke: #383838; stroke-width: 1.0;\"/><polygon fill=\"#383838\" points=\"344.23,410.91,348.6368,402.1021,344.4583,405.9152,340.6452,401.7367,344.23,410.91\" style=\"stroke: #383838; stroke-width: 1.0;\"/></a><!--MD5=[02c70b7c851c11e3980e4e90450dc5dd]\n",
       "link E6 to E7--><a href=\"psysml:860bf181-ae5a-4d8b-9cc8-c19fc893dd3f\" target=\"_top\" title=\"psysml:860bf181-ae5a-4d8b-9cc8-c19fc893dd3f\" xlink:actuate=\"onRequest\" xlink:href=\"psysml:860bf181-ae5a-4d8b-9cc8-c19fc893dd3f\" xlink:show=\"new\" xlink:title=\"psysml:860bf181-ae5a-4d8b-9cc8-c19fc893dd3f\" xlink:type=\"simple\"><path d=\"M363.3,466.16 C378.71,486.4 399.07,513.14 410.09,527.61 \" fill=\"none\" id=\"E6-&gt;E7\" style=\"stroke: #383838; stroke-width: 1.0;\"/><polygon fill=\"#383838\" points=\"413.2,531.69,410.9398,522.104,410.1749,527.7089,404.57,526.9441,413.2,531.69\" style=\"stroke: #383838; stroke-width: 1.0;\"/></a><!--MD5=[6bdd27f9905911a7e892a3dc65cf6b7c]\n",
       "link E7 to E4--><a href=\"psysml:227ffbe5-5fbb-4b69-bf2e-f462a1a2545e\" target=\"_top\" title=\"psysml:227ffbe5-5fbb-4b69-bf2e-f462a1a2545e\" xlink:actuate=\"onRequest\" xlink:href=\"psysml:227ffbe5-5fbb-4b69-bf2e-f462a1a2545e\" xlink:show=\"new\" xlink:title=\"psysml:227ffbe5-5fbb-4b69-bf2e-f462a1a2545e\" xlink:type=\"simple\"><path d=\"M419.98,528.56 C426.8,494.71 448.32,376.18 437,279 C434.59,258.32 428.42,234.96 424.21,220.61 \" fill=\"none\" id=\"E7-&gt;E4\" style=\"stroke: #383838; stroke-width: 1.0;\"/><polygon fill=\"#383838\" points=\"422.76,215.75,421.4935,225.5171,424.1863,220.5423,429.1611,223.2351,422.76,215.75\" style=\"stroke: #383838; stroke-width: 1.0;\"/><text fill=\"#000000\" font-family=\"sans-serif\" font-size=\"13\" lengthAdjust=\"spacingAndGlyphs\" textLength=\"36\" x=\"440\" y=\"377.0669\">[true]</text></a><!--MD5=[c632c97c937b669856046cfb92b384db]\n",
       "@startuml\r\n",
       "top to bottom direction\r\n",
       "skinparam monochrome true\r\n",
       "skinparam classbackgroundcolor white\r\n",
       "skinparam shadowing false\r\n",
       "skinparam wrapWidth 300\r\n",
       "hide circle\r\n",
       "\r\n",
       "package \"ActionTest\" as E1  [[psysml:fba87211-d6a8-40ff-8d47-80f3cbac0e83 ]]  {\r\n",
       "comp def \"S\" as E2  <<(T,blue)attribute def>> [[psysml:9e8a127b-f23f-41bc-b046-de56fba8ce50 ]] {\r\n",
       "}\r\n",
       "rec usage \"a\" as E3  <<(T,blue)action>> [[psysml:ad4f18e6-c096-4c58-bb62-14a597e4442d ]] {\r\n",
       "choice \"m\" as E4  [[psysml:e85a3052-7a7b-4311-97f8-bb0216d1246f ]] \r\n",
       "accept \" S\" as E5 <<accept action>> [[psysml:ccfba6f1-4ce0-4ddd-afd5-b866d68d47d7 ]] \r\n",
       "send \" S() to  B()\" as E6 <<send action>> [[psysml:f31bbeb6-49c7-47f4-9bac-592fafbdce16 ]] \r\n",
       "choice \"noname\" as E7  [[psysml:7507dc2c-9b39-4c30-b0ef-dd6a627e8c4c ]] \r\n",
       "[*] - -> E4 [[psysml:03e50e83-6fc7-46a8-8453-213dc2aae23c ]] \r\n",
       "E7  - -> [*] [[psysml:c4a668a6-d0f8-468f-9890-a338c2ee16ef ]] \r\n",
       "}\r\n",
       "\r\n",
       "rec def \"B\" as E8  <<(T,blue)action def>> [[psysml:4eec70ee-61f4-4cab-8137-f00a9e5c8983 ]] {\r\n",
       "}\r\n",
       "\r\n",
       "E4 - -> E5 [[psysml:f95480df-9a63-41d1-9e12-1ec6bb9c61dc ]] \r\n",
       "E5 - -> E6 [[psysml:73484f54-b4d2-4298-bed2-8c418bf31093 ]] \r\n",
       "E6 - -> E7 [[psysml:860bf181-ae5a-4d8b-9cc8-c19fc893dd3f ]] \r\n",
       "E7  - -> E4 [[psysml:227ffbe5-5fbb-4b69-bf2e-f462a1a2545e ]] : [true]\r\n",
       "}\r\n",
       "@enduml\r\n",
       "\n",
       "PlantUML version 1.2020.13(Sat Jun 13 12:26:38 UTC 2020)\n",
       "(EPL source distribution)\n",
       "Java Runtime: OpenJDK Runtime Environment\n",
       "JVM: OpenJDK 64-Bit Server VM\n",
       "Default Encoding: UTF-8\n",
       "Language: en\n",
       "Country: null\n",
       "--></g></svg>"
      ]
     },
     "execution_count": 44,
     "metadata": {},
     "output_type": "execute_result"
    }
   ],
   "source": [
    "%viz --style=\"TB\" --view=\"Default\" \"ActionTest\""
   ]
  },
  {
   "cell_type": "code",
   "execution_count": 45,
   "id": "e745e67e",
   "metadata": {
    "execution": {
     "iopub.execute_input": "2021-05-27T06:08:03.675930Z",
     "iopub.status.busy": "2021-05-27T06:08:03.675419Z",
     "iopub.status.idle": "2021-05-27T06:08:03.730788Z",
     "shell.execute_reply": "2021-05-27T06:08:03.729515Z"
    }
   },
   "outputs": [
    {
     "data": {
      "image/svg+xml": [
       "<?xml version=\"1.0\" encoding=\"UTF-8\" standalone=\"no\"?><svg xmlns=\"http://www.w3.org/2000/svg\" xmlns:xlink=\"http://www.w3.org/1999/xlink\" contentScriptType=\"application/ecmascript\" contentStyleType=\"text/css\" height=\"187px\" preserveAspectRatio=\"none\" style=\"width:475px;height:187px;\" version=\"1.1\" viewBox=\"0 0 475 187\" width=\"475px\" zoomAndPan=\"magnify\"><defs/><g><!--MD5=[fbc87193dbaf4d95561dea2c320d4a47]\n",
       "cluster E1--><a href=\"psysml:fba87211-d6a8-40ff-8d47-80f3cbac0e83\" target=\"_top\" title=\"psysml:fba87211-d6a8-40ff-8d47-80f3cbac0e83\" xlink:actuate=\"onRequest\" xlink:href=\"psysml:fba87211-d6a8-40ff-8d47-80f3cbac0e83\" xlink:show=\"new\" xlink:title=\"psysml:fba87211-d6a8-40ff-8d47-80f3cbac0e83\" xlink:type=\"simple\"><polygon fill=\"#FFFFFF\" points=\"16,6,107,6,114,28.2969,453,28.2969,453,175,16,175,16,6\" style=\"stroke: #000000; stroke-width: 1.5;\"/><line style=\"stroke: #000000; stroke-width: 1.5;\" x1=\"16\" x2=\"114\" y1=\"28.2969\" y2=\"28.2969\"/><text fill=\"#000000\" font-family=\"sans-serif\" font-size=\"14\" font-weight=\"bold\" lengthAdjust=\"spacingAndGlyphs\" textLength=\"85\" x=\"20\" y=\"20.9951\">ActionTest</text></a><!--MD5=[b4997ac47864f28c2f74865a473b2911]\n",
       "class E2--><a href=\"psysml:9e8a127b-f23f-41bc-b046-de56fba8ce50\" target=\"_top\" title=\"psysml:9e8a127b-f23f-41bc-b046-de56fba8ce50\" xlink:actuate=\"onRequest\" xlink:href=\"psysml:9e8a127b-f23f-41bc-b046-de56fba8ce50\" xlink:show=\"new\" xlink:title=\"psysml:9e8a127b-f23f-41bc-b046-de56fba8ce50\" xlink:type=\"simple\"><rect fill=\"#FFFFFF\" height=\"45.9375\" id=\"E2\" style=\"stroke: #383838; stroke-width: 1.5;\" width=\"95\" x=\"341.5\" y=\"77\"/><text fill=\"#000000\" font-family=\"sans-serif\" font-size=\"12\" font-style=\"italic\" lengthAdjust=\"spacingAndGlyphs\" textLength=\"93\" x=\"342.5\" y=\"93.1387\">«attribute def»</text><text fill=\"#000000\" font-family=\"sans-serif\" font-size=\"12\" lengthAdjust=\"spacingAndGlyphs\" textLength=\"8\" x=\"385\" y=\"107.1074\">S</text><line style=\"stroke: #383838; stroke-width: 1.5;\" x1=\"342.5\" x2=\"435.5\" y1=\"114.9375\" y2=\"114.9375\"/></a><!--MD5=[09b614a08d8cba4a07c9adeb5e0fee81]\n",
       "class E3--><a href=\"psysml:ad4f18e6-c096-4c58-bb62-14a597e4442d\" target=\"_top\" title=\"psysml:ad4f18e6-c096-4c58-bb62-14a597e4442d\" xlink:actuate=\"onRequest\" xlink:href=\"psysml:ad4f18e6-c096-4c58-bb62-14a597e4442d\" xlink:show=\"new\" xlink:title=\"psysml:ad4f18e6-c096-4c58-bb62-14a597e4442d\" xlink:type=\"simple\"><rect fill=\"#FFFFFF\" height=\"117.9609\" id=\"E3\" rx=\"10\" ry=\"10\" style=\"stroke: #383838; stroke-width: 1.5;\" width=\"160\" x=\"146\" y=\"41\"/><text fill=\"#000000\" font-family=\"sans-serif\" font-size=\"12\" font-style=\"italic\" lengthAdjust=\"spacingAndGlyphs\" textLength=\"53\" x=\"199.5\" y=\"57.1387\">«action»</text><text fill=\"#000000\" font-family=\"sans-serif\" font-size=\"12\" lengthAdjust=\"spacingAndGlyphs\" textLength=\"8\" x=\"222\" y=\"71.1074\">a</text><line style=\"stroke: #383838; stroke-width: 1.5;\" x1=\"147\" x2=\"305\" y1=\"78.9375\" y2=\"78.9375\"/><text fill=\"#000000\" font-family=\"sans-serif\" font-size=\"11\" lengthAdjust=\"spacingAndGlyphs\" textLength=\"69\" x=\"152\" y=\"109.9526\">start: Action</text><text fill=\"#000000\" font-family=\"sans-serif\" font-size=\"11\" font-style=\"italic\" lengthAdjust=\"spacingAndGlyphs\" textLength=\"148\" x=\"152\" y=\"122.7573\">:&gt;&gt;Occurrence::startShot</text><line style=\"stroke: #383838; stroke-width: 1.0;\" x1=\"147\" x2=\"205.5\" y1=\"93.3398\" y2=\"93.3398\"/><text fill=\"#000000\" font-family=\"sans-serif\" font-size=\"11\" lengthAdjust=\"spacingAndGlyphs\" textLength=\"41\" x=\"205.5\" y=\"96.6479\">actions</text><line style=\"stroke: #383838; stroke-width: 1.0;\" x1=\"246.5\" x2=\"305\" y1=\"93.3398\" y2=\"93.3398\"/><text fill=\"#000000\" font-family=\"sans-serif\" font-size=\"11\" lengthAdjust=\"spacingAndGlyphs\" textLength=\"11\" x=\"152\" y=\"152.3667\">m</text><line style=\"stroke: #383838; stroke-width: 1.0;\" x1=\"147\" x2=\"189.5\" y1=\"135.7539\" y2=\"135.7539\"/><text fill=\"#000000\" font-family=\"sans-serif\" font-size=\"11\" lengthAdjust=\"spacingAndGlyphs\" textLength=\"73\" x=\"189.5\" y=\"139.062\">mergeNodes</text><line style=\"stroke: #383838; stroke-width: 1.0;\" x1=\"262.5\" x2=\"305\" y1=\"135.7539\" y2=\"135.7539\"/></a><!--MD5=[60a26617385b1d2d0262a64233df1f8d]\n",
       "class E6--><a href=\"psysml:4eec70ee-61f4-4cab-8137-f00a9e5c8983\" target=\"_top\" title=\"psysml:4eec70ee-61f4-4cab-8137-f00a9e5c8983\" xlink:actuate=\"onRequest\" xlink:href=\"psysml:4eec70ee-61f4-4cab-8137-f00a9e5c8983\" xlink:show=\"new\" xlink:title=\"psysml:4eec70ee-61f4-4cab-8137-f00a9e5c8983\" xlink:type=\"simple\"><rect fill=\"#FFFFFF\" height=\"45.9375\" id=\"E6\" style=\"stroke: #383838; stroke-width: 1.5;\" width=\"79\" x=\"31.5\" y=\"77\"/><text fill=\"#000000\" font-family=\"sans-serif\" font-size=\"12\" font-style=\"italic\" lengthAdjust=\"spacingAndGlyphs\" textLength=\"77\" x=\"32.5\" y=\"93.1387\">«action def»</text><text fill=\"#000000\" font-family=\"sans-serif\" font-size=\"12\" lengthAdjust=\"spacingAndGlyphs\" textLength=\"8\" x=\"67\" y=\"107.1074\">B</text><line style=\"stroke: #383838; stroke-width: 1.5;\" x1=\"32.5\" x2=\"109.5\" y1=\"114.9375\" y2=\"114.9375\"/></a><!--MD5=[f782193ea2036ce58a55800ad588b65c]\n",
       "@startuml\r\n",
       "top to bottom direction\r\n",
       "skinparam monochrome true\r\n",
       "skinparam classbackgroundcolor white\r\n",
       "skinparam shadowing false\r\n",
       "skinparam wrapWidth 300\r\n",
       "hide circle\r\n",
       "\r\n",
       "package \"ActionTest\" as E1  [[psysml:fba87211-d6a8-40ff-8d47-80f3cbac0e83 ]]  {\r\n",
       "comp def \"S\" as E2  <<(T,blue)attribute def>> [[psysml:9e8a127b-f23f-41bc-b046-de56fba8ce50 ]] {\r\n",
       "}\r\n",
       "comp usage \"a\" as E3  <<(T,blue)action>> [[psysml:ad4f18e6-c096-4c58-bb62-14a597e4442d ]] {\r\n",
       "- - actions - -\r\n",
       "start: Action\\n//:>>Occurrence::startShot// \r\n",
       "- - mergeNodes - -\r\n",
       "m\r\n",
       "}\r\n",
       "comp def \"B\" as E6  <<(T,blue)action def>> [[psysml:4eec70ee-61f4-4cab-8137-f00a9e5c8983 ]] {\r\n",
       "}\r\n",
       "}\r\n",
       "@enduml\r\n",
       "\n",
       "PlantUML version 1.2020.13(Sat Jun 13 12:26:38 UTC 2020)\n",
       "(EPL source distribution)\n",
       "Java Runtime: OpenJDK Runtime Environment\n",
       "JVM: OpenJDK 64-Bit Server VM\n",
       "Default Encoding: UTF-8\n",
       "Language: en\n",
       "Country: null\n",
       "--></g></svg>"
      ]
     },
     "execution_count": 45,
     "metadata": {},
     "output_type": "execute_result"
    }
   ],
   "source": [
    "%viz --style=\"TB\" --view=\"Tree\" \"ActionTest\""
   ]
  },
  {
   "cell_type": "code",
   "execution_count": 46,
   "id": "b68bec1d",
   "metadata": {
    "execution": {
     "iopub.execute_input": "2021-05-27T06:08:03.781827Z",
     "iopub.status.busy": "2021-05-27T06:08:03.781381Z",
     "iopub.status.idle": "2021-05-27T06:08:03.786775Z",
     "shell.execute_reply": "2021-05-27T06:08:03.787060Z"
    }
   },
   "outputs": [
    {
     "data": {
      "image/svg+xml": [
       "<?xml version=\"1.0\" encoding=\"UTF-8\" standalone=\"no\"?><svg xmlns=\"http://www.w3.org/2000/svg\" xmlns:xlink=\"http://www.w3.org/1999/xlink\" contentScriptType=\"application/ecmascript\" contentStyleType=\"text/css\" height=\"12px\" preserveAspectRatio=\"none\" style=\"width:12px;height:12px;\" version=\"1.1\" viewBox=\"0 0 12 12\" width=\"12px\" zoomAndPan=\"magnify\"><defs/><g><!--MD5=[f4ee21bc66e489b5061b7c3e9601fdef]\n",
       "@startuml\r\n",
       "top to bottom direction\r\n",
       "skinparam monochrome true\r\n",
       "skinparam classbackgroundcolor white\r\n",
       "skinparam shadowing false\r\n",
       "skinparam wrapWidth 300\r\n",
       "hide circle\r\n",
       "\r\n",
       "@enduml\r\n",
       "\n",
       "PlantUML version 1.2020.13(Sat Jun 13 12:26:38 UTC 2020)\n",
       "(EPL source distribution)\n",
       "Java Runtime: OpenJDK Runtime Environment\n",
       "JVM: OpenJDK 64-Bit Server VM\n",
       "Default Encoding: UTF-8\n",
       "Language: en\n",
       "Country: null\n",
       "--></g></svg>"
      ]
     },
     "execution_count": 46,
     "metadata": {},
     "output_type": "execute_result"
    }
   ],
   "source": [
    "%viz --style=\"TB\" --view=\"State\" \"ActionTest\""
   ]
  },
  {
   "cell_type": "code",
   "execution_count": 47,
   "id": "5f389267",
   "metadata": {
    "execution": {
     "iopub.execute_input": "2021-05-27T06:08:03.843999Z",
     "iopub.status.busy": "2021-05-27T06:08:03.843073Z",
     "iopub.status.idle": "2021-05-27T06:08:03.886825Z",
     "shell.execute_reply": "2021-05-27T06:08:03.886564Z"
    }
   },
   "outputs": [
    {
     "data": {
      "image/svg+xml": [
       "<?xml version=\"1.0\" encoding=\"UTF-8\" standalone=\"no\"?><svg xmlns=\"http://www.w3.org/2000/svg\" xmlns:xlink=\"http://www.w3.org/1999/xlink\" contentScriptType=\"application/ecmascript\" contentStyleType=\"text/css\" height=\"462px\" preserveAspectRatio=\"none\" style=\"width:522px;height:462px;\" version=\"1.1\" viewBox=\"0 0 522 462\" width=\"522px\" zoomAndPan=\"magnify\"><defs/><g><!--MD5=[fbc87193dbaf4d95561dea2c320d4a47]\n",
       "cluster E1--><a href=\"psysml:fba87211-d6a8-40ff-8d47-80f3cbac0e83\" target=\"_top\" title=\"psysml:fba87211-d6a8-40ff-8d47-80f3cbac0e83\" xlink:actuate=\"onRequest\" xlink:href=\"psysml:fba87211-d6a8-40ff-8d47-80f3cbac0e83\" xlink:show=\"new\" xlink:title=\"psysml:fba87211-d6a8-40ff-8d47-80f3cbac0e83\" xlink:type=\"simple\"><polygon fill=\"#FFFFFF\" points=\"16,6,107,6,114,28.2969,500,28.2969,500,450.5,16,450.5,16,6\" style=\"stroke: #000000; stroke-width: 1.5;\"/><line style=\"stroke: #000000; stroke-width: 1.5;\" x1=\"16\" x2=\"114\" y1=\"28.2969\" y2=\"28.2969\"/><text fill=\"#000000\" font-family=\"sans-serif\" font-size=\"14\" font-weight=\"bold\" lengthAdjust=\"spacingAndGlyphs\" textLength=\"85\" x=\"20\" y=\"20.9951\">ActionTest</text></a><!--MD5=[d5e69f78d87373223dbae638b30a9c99]\n",
       "cluster E3--><a href=\"psysml:ad4f18e6-c096-4c58-bb62-14a597e4442d\" target=\"_top\" title=\"psysml:ad4f18e6-c096-4c58-bb62-14a597e4442d\" xlink:actuate=\"onRequest\" xlink:href=\"psysml:ad4f18e6-c096-4c58-bb62-14a597e4442d\" xlink:show=\"new\" xlink:title=\"psysml:ad4f18e6-c096-4c58-bb62-14a597e4442d\" xlink:type=\"simple\"><rect fill=\"#FFFFFF\" height=\"377.5\" id=\"E3\" rx=\"10\" ry=\"10\" style=\"stroke: #383838; stroke-width: 1.5;\" width=\"209\" x=\"267\" y=\"49\"/><rect fill=\"#F8F8F8\" height=\"37.9375\" rx=\"10\" ry=\"10\" style=\"stroke: #F8F8F8; stroke-width: 1.5;\" width=\"209\" x=\"267\" y=\"49\"/><rect fill=\"#F8F8F8\" height=\"10\" style=\"stroke: #F8F8F8; stroke-width: 1.5;\" width=\"209\" x=\"267\" y=\"76.9375\"/><rect fill=\"none\" height=\"377.5\" id=\"E3\" rx=\"10\" ry=\"10\" style=\"stroke: #383838; stroke-width: 1.5;\" width=\"209\" x=\"267\" y=\"49\"/><text fill=\"#000000\" font-family=\"sans-serif\" font-size=\"12\" font-style=\"italic\" lengthAdjust=\"spacingAndGlyphs\" textLength=\"53\" x=\"345\" y=\"65.1387\">«action»</text><text fill=\"#000000\" font-family=\"sans-serif\" font-size=\"12\" lengthAdjust=\"spacingAndGlyphs\" textLength=\"8\" x=\"367.5\" y=\"79.1074\">a</text><line style=\"stroke: #383838; stroke-width: 1.0;\" x1=\"267\" x2=\"476\" y1=\"86.9375\" y2=\"86.9375\"/></a><g id=\"E1.E2\"><a href=\"psysml:9e8a127b-f23f-41bc-b046-de56fba8ce50\" target=\"_top\" title=\"psysml:9e8a127b-f23f-41bc-b046-de56fba8ce50\" xlink:actuate=\"onRequest\" xlink:href=\"psysml:9e8a127b-f23f-41bc-b046-de56fba8ce50\" xlink:show=\"new\" xlink:title=\"psysml:9e8a127b-f23f-41bc-b046-de56fba8ce50\" xlink:type=\"simple\"><rect fill=\"#FFFFFF\" height=\"42.9375\" id=\"E2\" style=\"stroke: #383838; stroke-width: 1.5;\" width=\"100\" x=\"151\" y=\"88.5\"/><rect fill=\"#F8F8F8\" height=\"37.9375\" style=\"stroke: #383838; stroke-width: 1.5;\" width=\"100\" x=\"151\" y=\"88.5\"/><text fill=\"#000000\" font-family=\"sans-serif\" font-size=\"12\" font-style=\"italic\" lengthAdjust=\"spacingAndGlyphs\" textLength=\"93\" x=\"154.5\" y=\"104.6387\">«attribute def»</text><text fill=\"#000000\" font-family=\"sans-serif\" font-size=\"12\" lengthAdjust=\"spacingAndGlyphs\" textLength=\"8\" x=\"197\" y=\"118.6074\">S</text></a></g><polygon fill=\"#F8F8F8\" points=\"424,148.5,436,160.5,424,172.5,412,160.5,424,148.5\" style=\"stroke: #383838; stroke-width: 1.5;\"/><!--MD5=[21dd76c19d33815960c0e92fef8f0eef]\n",
       "entity E5--><a href=\"psysml:ccfba6f1-4ce0-4ddd-afd5-b866d68d47d7\" target=\"_top\" title=\"psysml:ccfba6f1-4ce0-4ddd-afd5-b866d68d47d7\" xlink:actuate=\"onRequest\" xlink:href=\"psysml:ccfba6f1-4ce0-4ddd-afd5-b866d68d47d7\" xlink:show=\"new\" xlink:title=\"psysml:ccfba6f1-4ce0-4ddd-afd5-b866d68d47d7\" xlink:type=\"simple\"><polygon fill=\"#F8F8F8\" points=\"283,189.5,283,244.0938,423,244.0938,403,216.7969,423,189.5\" style=\"stroke: #000000; stroke-width: 1.5;\"/><text fill=\"#000000\" font-family=\"sans-serif\" font-size=\"14\" font-style=\"italic\" lengthAdjust=\"spacingAndGlyphs\" textLength=\"111\" x=\"290\" y=\"212.4951\">«accept action»</text><text fill=\"#000000\" font-family=\"sans-serif\" font-size=\"14\" lengthAdjust=\"spacingAndGlyphs\" textLength=\"9\" x=\"341\" y=\"229.792\">S</text></a><!--MD5=[24d87cdf3002d433f401b2a2aa9f9f65]\n",
       "entity E6--><a href=\"psysml:f31bbeb6-49c7-47f4-9bac-592fafbdce16\" target=\"_top\" title=\"psysml:f31bbeb6-49c7-47f4-9bac-592fafbdce16\" xlink:actuate=\"onRequest\" xlink:href=\"psysml:f31bbeb6-49c7-47f4-9bac-592fafbdce16\" xlink:show=\"new\" xlink:title=\"psysml:f31bbeb6-49c7-47f4-9bac-592fafbdce16\" xlink:type=\"simple\"><polygon fill=\"#F8F8F8\" points=\"283,277.5,283,332.0938,391,332.0938,411,304.7969,391,277.5\" style=\"stroke: #000000; stroke-width: 1.5;\"/><text fill=\"#000000\" font-family=\"sans-serif\" font-size=\"14\" font-style=\"italic\" lengthAdjust=\"spacingAndGlyphs\" textLength=\"99\" x=\"290\" y=\"300.4951\">«send action»</text><text fill=\"#000000\" font-family=\"sans-serif\" font-size=\"14\" lengthAdjust=\"spacingAndGlyphs\" textLength=\"65\" x=\"307\" y=\"317.792\">S() to  B()</text></a><polygon fill=\"#F8F8F8\" points=\"422,349.5,434,361.5,422,373.5,410,361.5,422,349.5\" style=\"stroke: #383838; stroke-width: 1.5;\"/><ellipse cx=\"424\" cy=\"110\" fill=\"#000000\" rx=\"10\" ry=\"10\" style=\"stroke: none; stroke-width: 1.0;\"/><ellipse cx=\"422\" cy=\"400.5\" fill=\"none\" rx=\"10\" ry=\"10\" style=\"stroke: #000000; stroke-width: 1.0;\"/><ellipse cx=\"422.5\" cy=\"401\" fill=\"#000000\" rx=\"6\" ry=\"6\" style=\"stroke: none; stroke-width: 1.0;\"/><g id=\"E1.E8\"><a href=\"psysml:4eec70ee-61f4-4cab-8137-f00a9e5c8983\" target=\"_top\" title=\"psysml:4eec70ee-61f4-4cab-8137-f00a9e5c8983\" xlink:actuate=\"onRequest\" xlink:href=\"psysml:4eec70ee-61f4-4cab-8137-f00a9e5c8983\" xlink:show=\"new\" xlink:title=\"psysml:4eec70ee-61f4-4cab-8137-f00a9e5c8983\" xlink:type=\"simple\"><rect fill=\"#FFFFFF\" height=\"42.9375\" id=\"E8\" style=\"stroke: #383838; stroke-width: 1.5;\" width=\"84\" x=\"32\" y=\"88.5\"/><rect fill=\"#F8F8F8\" height=\"37.9375\" style=\"stroke: #383838; stroke-width: 1.5;\" width=\"84\" x=\"32\" y=\"88.5\"/><text fill=\"#000000\" font-family=\"sans-serif\" font-size=\"12\" font-style=\"italic\" lengthAdjust=\"spacingAndGlyphs\" textLength=\"77\" x=\"35.5\" y=\"104.6387\">«action def»</text><text fill=\"#000000\" font-family=\"sans-serif\" font-size=\"12\" lengthAdjust=\"spacingAndGlyphs\" textLength=\"8\" x=\"70\" y=\"118.6074\">B</text></a></g><!--MD5=[f47e10efcf9a6752d55dae986d790ed9]\n",
       "link *start*E3 to E4--><a href=\"psysml:03e50e83-6fc7-46a8-8453-213dc2aae23c\" target=\"_top\" title=\"psysml:03e50e83-6fc7-46a8-8453-213dc2aae23c\" xlink:actuate=\"onRequest\" xlink:href=\"psysml:03e50e83-6fc7-46a8-8453-213dc2aae23c\" xlink:show=\"new\" xlink:title=\"psysml:03e50e83-6fc7-46a8-8453-213dc2aae23c\" xlink:type=\"simple\"><path d=\"M424,120.35 C424,126.88 424,135.77 424,143.42 \" fill=\"none\" id=\"*start*E3-&gt;E4\" style=\"stroke: #383838; stroke-width: 1.0;\"/><polygon fill=\"#383838\" points=\"424,148.48,428,139.48,424,143.48,420,139.48,424,148.48\" style=\"stroke: #383838; stroke-width: 1.0;\"/></a><!--MD5=[d19f2eb34364d71b67042106d92f540b]\n",
       "link E7 to *end*E3--><a href=\"psysml:c4a668a6-d0f8-468f-9890-a338c2ee16ef\" target=\"_top\" title=\"psysml:c4a668a6-d0f8-468f-9890-a338c2ee16ef\" xlink:actuate=\"onRequest\" xlink:href=\"psysml:c4a668a6-d0f8-468f-9890-a338c2ee16ef\" xlink:show=\"new\" xlink:title=\"psysml:c4a668a6-d0f8-468f-9890-a338c2ee16ef\" xlink:type=\"simple\"><path d=\"M422,373.8 C422,377.34 422,381.3 422,385.03 \" fill=\"none\" id=\"E7-&gt;*end*E3\" style=\"stroke: #383838; stroke-width: 1.0;\"/><polygon fill=\"#383838\" points=\"422,390.25,426,381.25,422,385.25,418,381.25,422,390.25\" style=\"stroke: #383838; stroke-width: 1.0;\"/></a><!--MD5=[1b7591eae5389033d8d09a9d6721a717]\n",
       "link E4 to E5--><a href=\"psysml:f95480df-9a63-41d1-9e12-1ec6bb9c61dc\" target=\"_top\" title=\"psysml:f95480df-9a63-41d1-9e12-1ec6bb9c61dc\" xlink:actuate=\"onRequest\" xlink:href=\"psysml:f95480df-9a63-41d1-9e12-1ec6bb9c61dc\" xlink:show=\"new\" xlink:title=\"psysml:f95480df-9a63-41d1-9e12-1ec6bb9c61dc\" xlink:type=\"simple\"><path d=\"M417.45,166.53 C411.33,171.23 401.65,178.66 391.64,186.34 \" fill=\"none\" id=\"E4-&gt;E5\" style=\"stroke: #383838; stroke-width: 1.0;\"/><polygon fill=\"#383838\" points=\"387.64,189.41,397.2129,187.0948,391.6037,186.3621,392.3363,180.7529,387.64,189.41\" style=\"stroke: #383838; stroke-width: 1.0;\"/></a><!--MD5=[9120cf2e5df3bff93db8f754bbbc09b4]\n",
       "link E5 to E6--><a href=\"psysml:73484f54-b4d2-4298-bed2-8c418bf31093\" target=\"_top\" title=\"psysml:73484f54-b4d2-4298-bed2-8c418bf31093\" xlink:actuate=\"onRequest\" xlink:href=\"psysml:73484f54-b4d2-4298-bed2-8c418bf31093\" xlink:show=\"new\" xlink:title=\"psysml:73484f54-b4d2-4298-bed2-8c418bf31093\" xlink:type=\"simple\"><path d=\"M351.13,244.74 C350.53,253.4 349.85,263.08 349.23,272.08 \" fill=\"none\" id=\"E5-&gt;E6\" style=\"stroke: #383838; stroke-width: 1.0;\"/><polygon fill=\"#383838\" points=\"348.86,277.28,353.468,268.5756,349.203,272.2918,345.4869,268.0268,348.86,277.28\" style=\"stroke: #383838; stroke-width: 1.0;\"/></a><!--MD5=[02c70b7c851c11e3980e4e90450dc5dd]\n",
       "link E6 to E7--><a href=\"psysml:860bf181-ae5a-4d8b-9cc8-c19fc893dd3f\" target=\"_top\" title=\"psysml:860bf181-ae5a-4d8b-9cc8-c19fc893dd3f\" xlink:actuate=\"onRequest\" xlink:href=\"psysml:860bf181-ae5a-4d8b-9cc8-c19fc893dd3f\" xlink:show=\"new\" xlink:title=\"psysml:860bf181-ae5a-4d8b-9cc8-c19fc893dd3f\" xlink:type=\"simple\"><path d=\"M383.62,332.61 C393.72,339.95 403.91,347.35 411.24,352.68 \" fill=\"none\" id=\"E6-&gt;E7\" style=\"stroke: #383838; stroke-width: 1.0;\"/><polygon fill=\"#383838\" points=\"415.42,355.72,410.4976,347.1894,411.3776,352.7774,405.7896,353.6574,415.42,355.72\" style=\"stroke: #383838; stroke-width: 1.0;\"/></a><!--MD5=[6bdd27f9905911a7e892a3dc65cf6b7c]\n",
       "link E7 to E4--><a href=\"psysml:227ffbe5-5fbb-4b69-bf2e-f462a1a2545e\" target=\"_top\" title=\"psysml:227ffbe5-5fbb-4b69-bf2e-f462a1a2545e\" xlink:actuate=\"onRequest\" xlink:href=\"psysml:227ffbe5-5fbb-4b69-bf2e-f462a1a2545e\" xlink:show=\"new\" xlink:title=\"psysml:227ffbe5-5fbb-4b69-bf2e-f462a1a2545e\" xlink:type=\"simple\"><path d=\"M425,352.49 C433.84,327.73 458.06,250.48 441,189.5 C439.26,183.29 435.73,177.1 432.34,172.12 \" fill=\"none\" id=\"E7-&gt;E4\" style=\"stroke: #383838; stroke-width: 1.0;\"/><polygon fill=\"#383838\" points=\"429.31,167.92,431.3342,177.5586,432.2364,171.9741,437.8209,172.8763,429.31,167.92\" style=\"stroke: #383838; stroke-width: 1.0;\"/><text fill=\"#000000\" font-family=\"sans-serif\" font-size=\"13\" lengthAdjust=\"spacingAndGlyphs\" textLength=\"36\" x=\"447\" y=\"265.5669\">[true]</text></a><!--MD5=[830659a4c13f339fc137f89af76c5ec9]\n",
       "@startuml\r\n",
       "skinparam ranksep 10\r\n",
       "skinparam rectangle {\r\n",
       " backgroundColor<<block>> LightGreen\r\n",
       "}\r\n",
       "top to bottom direction\r\n",
       "skinparam monochrome true\r\n",
       "skinparam classbackgroundcolor white\r\n",
       "skinparam shadowing false\r\n",
       "skinparam wrapWidth 300\r\n",
       "hide circle\r\n",
       "\r\n",
       "package \"ActionTest\" as E1  [[psysml:fba87211-d6a8-40ff-8d47-80f3cbac0e83 ]]  {\r\n",
       "def \"S\" as E2  <<(T,blue)attribute def>> [[psysml:9e8a127b-f23f-41bc-b046-de56fba8ce50 ]] \r\n",
       "rec usage \"a\" as E3  <<(T,blue)action>> [[psysml:ad4f18e6-c096-4c58-bb62-14a597e4442d ]] {\r\n",
       "choice \"m\" as E4  [[psysml:e85a3052-7a7b-4311-97f8-bb0216d1246f ]] \r\n",
       "accept \" S\" as E5 <<accept action>> [[psysml:ccfba6f1-4ce0-4ddd-afd5-b866d68d47d7 ]] \r\n",
       "send \" S() to  B()\" as E6 <<send action>> [[psysml:f31bbeb6-49c7-47f4-9bac-592fafbdce16 ]] \r\n",
       "choice \"noname\" as E7  [[psysml:7507dc2c-9b39-4c30-b0ef-dd6a627e8c4c ]] \r\n",
       "[*] - -> E4 [[psysml:03e50e83-6fc7-46a8-8453-213dc2aae23c ]] \r\n",
       "E7  - -> [*] [[psysml:c4a668a6-d0f8-468f-9890-a338c2ee16ef ]] \r\n",
       "}\r\n",
       "\r\n",
       "rec def \"B\" as E8  <<(T,blue)action def>> [[psysml:4eec70ee-61f4-4cab-8137-f00a9e5c8983 ]] {\r\n",
       "}\r\n",
       "\r\n",
       "E4 - -> E5 [[psysml:f95480df-9a63-41d1-9e12-1ec6bb9c61dc ]] \r\n",
       "E5 - -> E6 [[psysml:73484f54-b4d2-4298-bed2-8c418bf31093 ]] \r\n",
       "E6 - -> E7 [[psysml:860bf181-ae5a-4d8b-9cc8-c19fc893dd3f ]] \r\n",
       "E7  - -> E4 [[psysml:227ffbe5-5fbb-4b69-bf2e-f462a1a2545e ]] : [true]\r\n",
       "}\r\n",
       "@enduml\r\n",
       "\n",
       "PlantUML version 1.2020.13(Sat Jun 13 12:26:38 UTC 2020)\n",
       "(EPL source distribution)\n",
       "Java Runtime: OpenJDK Runtime Environment\n",
       "JVM: OpenJDK 64-Bit Server VM\n",
       "Default Encoding: UTF-8\n",
       "Language: en\n",
       "Country: null\n",
       "--></g></svg>"
      ]
     },
     "execution_count": 47,
     "metadata": {},
     "output_type": "execute_result"
    }
   ],
   "source": [
    "%viz --style=\"TB\" --view=\"Interconnection\" \"ActionTest\""
   ]
  },
  {
   "cell_type": "code",
   "execution_count": 48,
   "id": "80742890",
   "metadata": {
    "execution": {
     "iopub.execute_input": "2021-05-27T06:08:03.939303Z",
     "iopub.status.busy": "2021-05-27T06:08:03.938636Z",
     "iopub.status.idle": "2021-05-27T06:08:03.976867Z",
     "shell.execute_reply": "2021-05-27T06:08:03.975765Z"
    }
   },
   "outputs": [
    {
     "data": {
      "image/svg+xml": [
       "<?xml version=\"1.0\" encoding=\"UTF-8\" standalone=\"no\"?><svg xmlns=\"http://www.w3.org/2000/svg\" xmlns:xlink=\"http://www.w3.org/1999/xlink\" contentScriptType=\"application/ecmascript\" contentStyleType=\"text/css\" height=\"395px\" preserveAspectRatio=\"none\" style=\"width:335px;height:395px;\" version=\"1.1\" viewBox=\"0 0 335 395\" width=\"335px\" zoomAndPan=\"magnify\"><defs/><g><!--MD5=[fbc87193dbaf4d95561dea2c320d4a47]\n",
       "cluster E1--><a href=\"psysml:ad4f18e6-c096-4c58-bb62-14a597e4442d\" target=\"_top\" title=\"psysml:ad4f18e6-c096-4c58-bb62-14a597e4442d\" xlink:actuate=\"onRequest\" xlink:href=\"psysml:ad4f18e6-c096-4c58-bb62-14a597e4442d\" xlink:show=\"new\" xlink:title=\"psysml:ad4f18e6-c096-4c58-bb62-14a597e4442d\" xlink:type=\"simple\"><rect fill=\"#FFFFFF\" height=\"377.5\" id=\"E1\" rx=\"10\" ry=\"10\" style=\"stroke: #383838; stroke-width: 1.5;\" width=\"209\" x=\"107\" y=\"7\"/><rect fill=\"#F8F8F8\" height=\"37.9375\" rx=\"10\" ry=\"10\" style=\"stroke: #F8F8F8; stroke-width: 1.5;\" width=\"209\" x=\"107\" y=\"7\"/><rect fill=\"#F8F8F8\" height=\"10\" style=\"stroke: #F8F8F8; stroke-width: 1.5;\" width=\"209\" x=\"107\" y=\"34.9375\"/><rect fill=\"none\" height=\"377.5\" id=\"E1\" rx=\"10\" ry=\"10\" style=\"stroke: #383838; stroke-width: 1.5;\" width=\"209\" x=\"107\" y=\"7\"/><text fill=\"#000000\" font-family=\"sans-serif\" font-size=\"12\" font-style=\"italic\" lengthAdjust=\"spacingAndGlyphs\" textLength=\"53\" x=\"185\" y=\"23.1387\">«action»</text><text fill=\"#000000\" font-family=\"sans-serif\" font-size=\"12\" lengthAdjust=\"spacingAndGlyphs\" textLength=\"8\" x=\"207.5\" y=\"37.1074\">a</text><line style=\"stroke: #383838; stroke-width: 1.0;\" x1=\"107\" x2=\"316\" y1=\"44.9375\" y2=\"44.9375\"/></a><polygon fill=\"#F8F8F8\" points=\"264,106.5,276,118.5,264,130.5,252,118.5,264,106.5\" style=\"stroke: #383838; stroke-width: 1.5;\"/><!--MD5=[a60fb756f580feb9fd8e2cf1329b5c91]\n",
       "entity E3--><a href=\"psysml:ccfba6f1-4ce0-4ddd-afd5-b866d68d47d7\" target=\"_top\" title=\"psysml:ccfba6f1-4ce0-4ddd-afd5-b866d68d47d7\" xlink:actuate=\"onRequest\" xlink:href=\"psysml:ccfba6f1-4ce0-4ddd-afd5-b866d68d47d7\" xlink:show=\"new\" xlink:title=\"psysml:ccfba6f1-4ce0-4ddd-afd5-b866d68d47d7\" xlink:type=\"simple\"><polygon fill=\"#F8F8F8\" points=\"123,147.5,123,202.0938,263,202.0938,243,174.7969,263,147.5\" style=\"stroke: #000000; stroke-width: 1.5;\"/><text fill=\"#000000\" font-family=\"sans-serif\" font-size=\"14\" font-style=\"italic\" lengthAdjust=\"spacingAndGlyphs\" textLength=\"111\" x=\"130\" y=\"170.4951\">«accept action»</text><text fill=\"#000000\" font-family=\"sans-serif\" font-size=\"14\" lengthAdjust=\"spacingAndGlyphs\" textLength=\"9\" x=\"181\" y=\"187.792\">S</text></a><!--MD5=[961cefdc15414eaa3e87aec9d17c2188]\n",
       "entity E4--><a href=\"psysml:f31bbeb6-49c7-47f4-9bac-592fafbdce16\" target=\"_top\" title=\"psysml:f31bbeb6-49c7-47f4-9bac-592fafbdce16\" xlink:actuate=\"onRequest\" xlink:href=\"psysml:f31bbeb6-49c7-47f4-9bac-592fafbdce16\" xlink:show=\"new\" xlink:title=\"psysml:f31bbeb6-49c7-47f4-9bac-592fafbdce16\" xlink:type=\"simple\"><polygon fill=\"#F8F8F8\" points=\"123,235.5,123,290.0938,231,290.0938,251,262.7969,231,235.5\" style=\"stroke: #000000; stroke-width: 1.5;\"/><text fill=\"#000000\" font-family=\"sans-serif\" font-size=\"14\" font-style=\"italic\" lengthAdjust=\"spacingAndGlyphs\" textLength=\"99\" x=\"130\" y=\"258.4951\">«send action»</text><text fill=\"#000000\" font-family=\"sans-serif\" font-size=\"14\" lengthAdjust=\"spacingAndGlyphs\" textLength=\"65\" x=\"147\" y=\"275.792\">S() to  B()</text></a><polygon fill=\"#F8F8F8\" points=\"262,307.5,274,319.5,262,331.5,250,319.5,262,307.5\" style=\"stroke: #383838; stroke-width: 1.5;\"/><ellipse cx=\"264\" cy=\"68\" fill=\"#000000\" rx=\"10\" ry=\"10\" style=\"stroke: none; stroke-width: 1.0;\"/><ellipse cx=\"262\" cy=\"358.5\" fill=\"none\" rx=\"10\" ry=\"10\" style=\"stroke: #000000; stroke-width: 1.0;\"/><ellipse cx=\"262.5\" cy=\"359\" fill=\"#000000\" rx=\"6\" ry=\"6\" style=\"stroke: none; stroke-width: 1.0;\"/><g id=\"E6\"><a href=\"psysml:4eec70ee-61f4-4cab-8137-f00a9e5c8983\" target=\"_top\" title=\"psysml:4eec70ee-61f4-4cab-8137-f00a9e5c8983\" xlink:actuate=\"onRequest\" xlink:href=\"psysml:4eec70ee-61f4-4cab-8137-f00a9e5c8983\" xlink:show=\"new\" xlink:title=\"psysml:4eec70ee-61f4-4cab-8137-f00a9e5c8983\" xlink:type=\"simple\"><rect fill=\"#FFFFFF\" height=\"42.9375\" id=\"E6\" style=\"stroke: #383838; stroke-width: 1.5;\" width=\"84\" x=\"7\" y=\"46.5\"/><rect fill=\"#F8F8F8\" height=\"37.9375\" style=\"stroke: #383838; stroke-width: 1.5;\" width=\"84\" x=\"7\" y=\"46.5\"/><text fill=\"#000000\" font-family=\"sans-serif\" font-size=\"12\" font-style=\"italic\" lengthAdjust=\"spacingAndGlyphs\" textLength=\"77\" x=\"10.5\" y=\"62.6387\">«action def»</text><text fill=\"#000000\" font-family=\"sans-serif\" font-size=\"12\" lengthAdjust=\"spacingAndGlyphs\" textLength=\"8\" x=\"45\" y=\"76.6074\">B</text></a></g><!--MD5=[cff944eb183b832d446717a4e202d613]\n",
       "link *start*E1 to E2--><a href=\"psysml:03e50e83-6fc7-46a8-8453-213dc2aae23c\" target=\"_top\" title=\"psysml:03e50e83-6fc7-46a8-8453-213dc2aae23c\" xlink:actuate=\"onRequest\" xlink:href=\"psysml:03e50e83-6fc7-46a8-8453-213dc2aae23c\" xlink:show=\"new\" xlink:title=\"psysml:03e50e83-6fc7-46a8-8453-213dc2aae23c\" xlink:type=\"simple\"><path d=\"M264,78.35 C264,84.88 264,93.77 264,101.42 \" fill=\"none\" id=\"*start*E1-&gt;E2\" style=\"stroke: #383838; stroke-width: 1.0; stroke-dasharray: 7.0,7.0;\"/><polygon fill=\"#383838\" points=\"264,106.48,268,97.48,264,101.48,260,97.48,264,106.48\" style=\"stroke: #383838; stroke-width: 1.0;\"/></a><!--MD5=[7fc47fc0d107820853a137871ad908c8]\n",
       "link E5 to *end*E1--><a href=\"psysml:c4a668a6-d0f8-468f-9890-a338c2ee16ef\" target=\"_top\" title=\"psysml:c4a668a6-d0f8-468f-9890-a338c2ee16ef\" xlink:actuate=\"onRequest\" xlink:href=\"psysml:c4a668a6-d0f8-468f-9890-a338c2ee16ef\" xlink:show=\"new\" xlink:title=\"psysml:c4a668a6-d0f8-468f-9890-a338c2ee16ef\" xlink:type=\"simple\"><path d=\"M262,331.8 C262,335.34 262,339.3 262,343.03 \" fill=\"none\" id=\"E5-&gt;*end*E1\" style=\"stroke: #383838; stroke-width: 1.0; stroke-dasharray: 7.0,7.0;\"/><polygon fill=\"#383838\" points=\"262,348.25,266,339.25,262,343.25,258,339.25,262,348.25\" style=\"stroke: #383838; stroke-width: 1.0;\"/></a><!--MD5=[2720a5a1f2c3fca2055b230370638851]\n",
       "link E2 to E3--><a href=\"psysml:f95480df-9a63-41d1-9e12-1ec6bb9c61dc\" target=\"_top\" title=\"psysml:f95480df-9a63-41d1-9e12-1ec6bb9c61dc\" xlink:actuate=\"onRequest\" xlink:href=\"psysml:f95480df-9a63-41d1-9e12-1ec6bb9c61dc\" xlink:show=\"new\" xlink:title=\"psysml:f95480df-9a63-41d1-9e12-1ec6bb9c61dc\" xlink:type=\"simple\"><path d=\"M257.45,124.53 C251.33,129.23 241.65,136.66 231.64,144.34 \" fill=\"none\" id=\"E2-&gt;E3\" style=\"stroke: #383838; stroke-width: 1.0; stroke-dasharray: 7.0,7.0;\"/><polygon fill=\"#383838\" points=\"227.64,147.41,237.2129,145.0948,231.6037,144.3621,232.3363,138.7529,227.64,147.41\" style=\"stroke: #383838; stroke-width: 1.0;\"/></a><!--MD5=[af87c684e3b0d8be13c1a698a818ef1e]\n",
       "link E3 to E4--><a href=\"psysml:73484f54-b4d2-4298-bed2-8c418bf31093\" target=\"_top\" title=\"psysml:73484f54-b4d2-4298-bed2-8c418bf31093\" xlink:actuate=\"onRequest\" xlink:href=\"psysml:73484f54-b4d2-4298-bed2-8c418bf31093\" xlink:show=\"new\" xlink:title=\"psysml:73484f54-b4d2-4298-bed2-8c418bf31093\" xlink:type=\"simple\"><path d=\"M191.13,202.74 C190.53,211.4 189.85,221.08 189.23,230.08 \" fill=\"none\" id=\"E3-&gt;E4\" style=\"stroke: #383838; stroke-width: 1.0; stroke-dasharray: 7.0,7.0;\"/><polygon fill=\"#383838\" points=\"188.86,235.28,193.468,226.5756,189.203,230.2918,185.4869,226.0268,188.86,235.28\" style=\"stroke: #383838; stroke-width: 1.0;\"/></a><!--MD5=[1b7591eae5389033d8d09a9d6721a717]\n",
       "link E4 to E5--><a href=\"psysml:860bf181-ae5a-4d8b-9cc8-c19fc893dd3f\" target=\"_top\" title=\"psysml:860bf181-ae5a-4d8b-9cc8-c19fc893dd3f\" xlink:actuate=\"onRequest\" xlink:href=\"psysml:860bf181-ae5a-4d8b-9cc8-c19fc893dd3f\" xlink:show=\"new\" xlink:title=\"psysml:860bf181-ae5a-4d8b-9cc8-c19fc893dd3f\" xlink:type=\"simple\"><path d=\"M223.62,290.61 C233.72,297.95 243.91,305.35 251.24,310.68 \" fill=\"none\" id=\"E4-&gt;E5\" style=\"stroke: #383838; stroke-width: 1.0; stroke-dasharray: 7.0,7.0;\"/><polygon fill=\"#383838\" points=\"255.42,313.72,250.4976,305.1894,251.3776,310.7774,245.7896,311.6574,255.42,313.72\" style=\"stroke: #383838; stroke-width: 1.0;\"/></a><!--MD5=[15ebcb19ae302d9b601edb458606d402]\n",
       "link E5 to E2--><a href=\"psysml:227ffbe5-5fbb-4b69-bf2e-f462a1a2545e\" target=\"_top\" title=\"psysml:227ffbe5-5fbb-4b69-bf2e-f462a1a2545e\" xlink:actuate=\"onRequest\" xlink:href=\"psysml:227ffbe5-5fbb-4b69-bf2e-f462a1a2545e\" xlink:show=\"new\" xlink:title=\"psysml:227ffbe5-5fbb-4b69-bf2e-f462a1a2545e\" xlink:type=\"simple\"><path d=\"M265,310.49 C273.84,285.73 298.06,208.48 281,147.5 C279.26,141.29 275.73,135.1 272.34,130.12 \" fill=\"none\" id=\"E5-&gt;E2\" style=\"stroke: #383838; stroke-width: 1.0; stroke-dasharray: 7.0,7.0;\"/><polygon fill=\"#383838\" points=\"269.31,125.92,271.3342,135.5586,272.2364,129.9741,277.8209,130.8763,269.31,125.92\" style=\"stroke: #383838; stroke-width: 1.0;\"/><text fill=\"#000000\" font-family=\"sans-serif\" font-size=\"13\" lengthAdjust=\"spacingAndGlyphs\" textLength=\"36\" x=\"287\" y=\"223.5669\">[true]</text></a><!--MD5=[ec9ef35d419de15924cff8ad62f8c39d]\n",
       "@startuml\r\n",
       "skinparam ranksep 8\r\n",
       "top to bottom direction\r\n",
       "skinparam monochrome true\r\n",
       "skinparam classbackgroundcolor white\r\n",
       "skinparam shadowing false\r\n",
       "skinparam wrapWidth 300\r\n",
       "hide circle\r\n",
       "\r\n",
       "rec usage \"a\" as E1  <<(T,blue)action>> [[psysml:ad4f18e6-c096-4c58-bb62-14a597e4442d ]] {\r\n",
       "choice \"m\" as E2  [[psysml:e85a3052-7a7b-4311-97f8-bb0216d1246f ]] \r\n",
       "accept \" S\" as E3 <<accept action>> [[psysml:ccfba6f1-4ce0-4ddd-afd5-b866d68d47d7 ]] \r\n",
       "send \" S() to  B()\" as E4 <<send action>> [[psysml:f31bbeb6-49c7-47f4-9bac-592fafbdce16 ]] \r\n",
       "choice \"noname\" as E5  [[psysml:7507dc2c-9b39-4c30-b0ef-dd6a627e8c4c ]] \r\n",
       "[*] ..> E2 [[psysml:03e50e83-6fc7-46a8-8453-213dc2aae23c ]] \r\n",
       "E5 ..> [*] [[psysml:c4a668a6-d0f8-468f-9890-a338c2ee16ef ]] \r\n",
       "}\r\n",
       "\r\n",
       "E2 ..> E3 [[psysml:f95480df-9a63-41d1-9e12-1ec6bb9c61dc ]] \r\n",
       "E3 ..> E4 [[psysml:73484f54-b4d2-4298-bed2-8c418bf31093 ]] \r\n",
       "E4 ..> E5 [[psysml:860bf181-ae5a-4d8b-9cc8-c19fc893dd3f ]] \r\n",
       "E5 ..> E2 [[psysml:227ffbe5-5fbb-4b69-bf2e-f462a1a2545e ]] : [true]\r\n",
       "rec def \"B\" as E6  <<(T,blue)action def>> [[psysml:4eec70ee-61f4-4cab-8137-f00a9e5c8983 ]] {\r\n",
       "}\r\n",
       "\r\n",
       "@enduml\r\n",
       "\n",
       "PlantUML version 1.2020.13(Sat Jun 13 12:26:38 UTC 2020)\n",
       "(EPL source distribution)\n",
       "Java Runtime: OpenJDK Runtime Environment\n",
       "JVM: OpenJDK 64-Bit Server VM\n",
       "Default Encoding: UTF-8\n",
       "Language: en\n",
       "Country: null\n",
       "--></g></svg>"
      ]
     },
     "execution_count": 48,
     "metadata": {},
     "output_type": "execute_result"
    }
   ],
   "source": [
    "%viz --style=\"TB\" --view=\"Action\" \"ActionTest\""
   ]
  },
  {
   "cell_type": "code",
   "execution_count": 49,
   "id": "7d806c36",
   "metadata": {
    "execution": {
     "iopub.execute_input": "2021-05-27T06:08:04.028966Z",
     "iopub.status.busy": "2021-05-27T06:08:04.028121Z",
     "iopub.status.idle": "2021-05-27T06:08:04.090390Z",
     "shell.execute_reply": "2021-05-27T06:08:04.089072Z"
    }
   },
   "outputs": [
    {
     "data": {
      "image/svg+xml": [
       "<?xml version=\"1.0\" encoding=\"UTF-8\" standalone=\"no\"?><svg xmlns=\"http://www.w3.org/2000/svg\" xmlns:xlink=\"http://www.w3.org/1999/xlink\" contentScriptType=\"application/ecmascript\" contentStyleType=\"text/css\" height=\"187px\" preserveAspectRatio=\"none\" style=\"width:475px;height:187px;\" version=\"1.1\" viewBox=\"0 0 475 187\" width=\"475px\" zoomAndPan=\"magnify\"><defs/><g><!--MD5=[fbc87193dbaf4d95561dea2c320d4a47]\n",
       "cluster E1--><a href=\"psysml:fba87211-d6a8-40ff-8d47-80f3cbac0e83\" target=\"_top\" title=\"psysml:fba87211-d6a8-40ff-8d47-80f3cbac0e83\" xlink:actuate=\"onRequest\" xlink:href=\"psysml:fba87211-d6a8-40ff-8d47-80f3cbac0e83\" xlink:show=\"new\" xlink:title=\"psysml:fba87211-d6a8-40ff-8d47-80f3cbac0e83\" xlink:type=\"simple\"><polygon fill=\"#FFFFFF\" points=\"16,6,107,6,114,28.2969,453,28.2969,453,175,16,175,16,6\" style=\"stroke: #000000; stroke-width: 1.5;\"/><line style=\"stroke: #000000; stroke-width: 1.5;\" x1=\"16\" x2=\"114\" y1=\"28.2969\" y2=\"28.2969\"/><text fill=\"#000000\" font-family=\"sans-serif\" font-size=\"14\" font-weight=\"bold\" lengthAdjust=\"spacingAndGlyphs\" textLength=\"85\" x=\"20\" y=\"20.9951\">ActionTest</text></a><!--MD5=[b4997ac47864f28c2f74865a473b2911]\n",
       "class E2--><a href=\"psysml:9e8a127b-f23f-41bc-b046-de56fba8ce50\" target=\"_top\" title=\"psysml:9e8a127b-f23f-41bc-b046-de56fba8ce50\" xlink:actuate=\"onRequest\" xlink:href=\"psysml:9e8a127b-f23f-41bc-b046-de56fba8ce50\" xlink:show=\"new\" xlink:title=\"psysml:9e8a127b-f23f-41bc-b046-de56fba8ce50\" xlink:type=\"simple\"><rect fill=\"#FFFFFF\" height=\"45.9375\" id=\"E2\" style=\"stroke: #383838; stroke-width: 1.5;\" width=\"95\" x=\"341.5\" y=\"77\"/><text fill=\"#000000\" font-family=\"sans-serif\" font-size=\"12\" font-style=\"italic\" lengthAdjust=\"spacingAndGlyphs\" textLength=\"93\" x=\"342.5\" y=\"93.1387\">«attribute def»</text><text fill=\"#000000\" font-family=\"sans-serif\" font-size=\"12\" lengthAdjust=\"spacingAndGlyphs\" textLength=\"8\" x=\"385\" y=\"107.1074\">S</text><line style=\"stroke: #383838; stroke-width: 1.5;\" x1=\"342.5\" x2=\"435.5\" y1=\"114.9375\" y2=\"114.9375\"/></a><!--MD5=[09b614a08d8cba4a07c9adeb5e0fee81]\n",
       "class E3--><a href=\"psysml:ad4f18e6-c096-4c58-bb62-14a597e4442d\" target=\"_top\" title=\"psysml:ad4f18e6-c096-4c58-bb62-14a597e4442d\" xlink:actuate=\"onRequest\" xlink:href=\"psysml:ad4f18e6-c096-4c58-bb62-14a597e4442d\" xlink:show=\"new\" xlink:title=\"psysml:ad4f18e6-c096-4c58-bb62-14a597e4442d\" xlink:type=\"simple\"><rect fill=\"#FFFFFF\" height=\"117.9609\" id=\"E3\" rx=\"10\" ry=\"10\" style=\"stroke: #383838; stroke-width: 1.5;\" width=\"160\" x=\"146\" y=\"41\"/><text fill=\"#000000\" font-family=\"sans-serif\" font-size=\"12\" font-style=\"italic\" lengthAdjust=\"spacingAndGlyphs\" textLength=\"53\" x=\"199.5\" y=\"57.1387\">«action»</text><text fill=\"#000000\" font-family=\"sans-serif\" font-size=\"12\" lengthAdjust=\"spacingAndGlyphs\" textLength=\"8\" x=\"222\" y=\"71.1074\">a</text><line style=\"stroke: #383838; stroke-width: 1.5;\" x1=\"147\" x2=\"305\" y1=\"78.9375\" y2=\"78.9375\"/><text fill=\"#000000\" font-family=\"sans-serif\" font-size=\"11\" lengthAdjust=\"spacingAndGlyphs\" textLength=\"69\" x=\"152\" y=\"109.9526\">start: Action</text><text fill=\"#000000\" font-family=\"sans-serif\" font-size=\"11\" font-style=\"italic\" lengthAdjust=\"spacingAndGlyphs\" textLength=\"148\" x=\"152\" y=\"122.7573\">:&gt;&gt;Occurrence::startShot</text><line style=\"stroke: #383838; stroke-width: 1.0;\" x1=\"147\" x2=\"205.5\" y1=\"93.3398\" y2=\"93.3398\"/><text fill=\"#000000\" font-family=\"sans-serif\" font-size=\"11\" lengthAdjust=\"spacingAndGlyphs\" textLength=\"41\" x=\"205.5\" y=\"96.6479\">actions</text><line style=\"stroke: #383838; stroke-width: 1.0;\" x1=\"246.5\" x2=\"305\" y1=\"93.3398\" y2=\"93.3398\"/><text fill=\"#000000\" font-family=\"sans-serif\" font-size=\"11\" lengthAdjust=\"spacingAndGlyphs\" textLength=\"11\" x=\"152\" y=\"152.3667\">m</text><line style=\"stroke: #383838; stroke-width: 1.0;\" x1=\"147\" x2=\"189.5\" y1=\"135.7539\" y2=\"135.7539\"/><text fill=\"#000000\" font-family=\"sans-serif\" font-size=\"11\" lengthAdjust=\"spacingAndGlyphs\" textLength=\"73\" x=\"189.5\" y=\"139.062\">mergeNodes</text><line style=\"stroke: #383838; stroke-width: 1.0;\" x1=\"262.5\" x2=\"305\" y1=\"135.7539\" y2=\"135.7539\"/></a><!--MD5=[60a26617385b1d2d0262a64233df1f8d]\n",
       "class E6--><a href=\"psysml:4eec70ee-61f4-4cab-8137-f00a9e5c8983\" target=\"_top\" title=\"psysml:4eec70ee-61f4-4cab-8137-f00a9e5c8983\" xlink:actuate=\"onRequest\" xlink:href=\"psysml:4eec70ee-61f4-4cab-8137-f00a9e5c8983\" xlink:show=\"new\" xlink:title=\"psysml:4eec70ee-61f4-4cab-8137-f00a9e5c8983\" xlink:type=\"simple\"><rect fill=\"#FFFFFF\" height=\"45.9375\" id=\"E6\" style=\"stroke: #383838; stroke-width: 1.5;\" width=\"79\" x=\"31.5\" y=\"77\"/><text fill=\"#000000\" font-family=\"sans-serif\" font-size=\"12\" font-style=\"italic\" lengthAdjust=\"spacingAndGlyphs\" textLength=\"77\" x=\"32.5\" y=\"93.1387\">«action def»</text><text fill=\"#000000\" font-family=\"sans-serif\" font-size=\"12\" lengthAdjust=\"spacingAndGlyphs\" textLength=\"8\" x=\"67\" y=\"107.1074\">B</text><line style=\"stroke: #383838; stroke-width: 1.5;\" x1=\"32.5\" x2=\"109.5\" y1=\"114.9375\" y2=\"114.9375\"/></a><!--MD5=[f782193ea2036ce58a55800ad588b65c]\n",
       "@startuml\r\n",
       "top to bottom direction\r\n",
       "skinparam monochrome true\r\n",
       "skinparam classbackgroundcolor white\r\n",
       "skinparam shadowing false\r\n",
       "skinparam wrapWidth 300\r\n",
       "hide circle\r\n",
       "\r\n",
       "package \"ActionTest\" as E1  [[psysml:fba87211-d6a8-40ff-8d47-80f3cbac0e83 ]]  {\r\n",
       "comp def \"S\" as E2  <<(T,blue)attribute def>> [[psysml:9e8a127b-f23f-41bc-b046-de56fba8ce50 ]] {\r\n",
       "}\r\n",
       "comp usage \"a\" as E3  <<(T,blue)action>> [[psysml:ad4f18e6-c096-4c58-bb62-14a597e4442d ]] {\r\n",
       "- - actions - -\r\n",
       "start: Action\\n//:>>Occurrence::startShot// \r\n",
       "- - mergeNodes - -\r\n",
       "m\r\n",
       "}\r\n",
       "comp def \"B\" as E6  <<(T,blue)action def>> [[psysml:4eec70ee-61f4-4cab-8137-f00a9e5c8983 ]] {\r\n",
       "}\r\n",
       "}\r\n",
       "@enduml\r\n",
       "\n",
       "PlantUML version 1.2020.13(Sat Jun 13 12:26:38 UTC 2020)\n",
       "(EPL source distribution)\n",
       "Java Runtime: OpenJDK Runtime Environment\n",
       "JVM: OpenJDK 64-Bit Server VM\n",
       "Default Encoding: UTF-8\n",
       "Language: en\n",
       "Country: null\n",
       "--></g></svg>"
      ]
     },
     "execution_count": 49,
     "metadata": {},
     "output_type": "execute_result"
    }
   ],
   "source": [
    "%viz --style=\"TB\" --view=\"Sequence\" \"ActionTest\""
   ]
  },
  {
   "cell_type": "code",
   "execution_count": 50,
   "id": "dcb144a8",
   "metadata": {
    "execution": {
     "iopub.execute_input": "2021-05-27T06:08:04.140563Z",
     "iopub.status.busy": "2021-05-27T06:08:04.140181Z",
     "iopub.status.idle": "2021-05-27T06:08:04.181330Z",
     "shell.execute_reply": "2021-05-27T06:08:04.179899Z"
    }
   },
   "outputs": [
    {
     "data": {
      "image/svg+xml": [
       "<?xml version=\"1.0\" encoding=\"UTF-8\" standalone=\"no\"?><svg xmlns=\"http://www.w3.org/2000/svg\" xmlns:xlink=\"http://www.w3.org/1999/xlink\" contentScriptType=\"application/ecmascript\" contentStyleType=\"text/css\" height=\"684px\" preserveAspectRatio=\"none\" style=\"width:518px;height:684px;\" version=\"1.1\" viewBox=\"0 0 518 684\" width=\"518px\" zoomAndPan=\"magnify\"><defs/><g><!--MD5=[fbc87193dbaf4d95561dea2c320d4a47]\n",
       "cluster E1--><a href=\"psysml:fba87211-d6a8-40ff-8d47-80f3cbac0e83\" target=\"_top\" title=\"psysml:fba87211-d6a8-40ff-8d47-80f3cbac0e83\" xlink:actuate=\"onRequest\" xlink:href=\"psysml:fba87211-d6a8-40ff-8d47-80f3cbac0e83\" xlink:show=\"new\" xlink:title=\"psysml:fba87211-d6a8-40ff-8d47-80f3cbac0e83\" xlink:type=\"simple\"><polygon fill=\"#FFFFFF\" points=\"16,6,107,6,114,28.2969,496,28.2969,496,672,16,672,16,6\" style=\"stroke: #000000; stroke-width: 1.5;\"/><line style=\"stroke: #000000; stroke-width: 1.5;\" x1=\"16\" x2=\"114\" y1=\"28.2969\" y2=\"28.2969\"/><text fill=\"#000000\" font-family=\"sans-serif\" font-size=\"14\" font-weight=\"bold\" lengthAdjust=\"spacingAndGlyphs\" textLength=\"85\" x=\"20\" y=\"20.9951\">ActionTest</text></a><!--MD5=[d5e69f78d87373223dbae638b30a9c99]\n",
       "cluster E3--><a href=\"psysml:ad4f18e6-c096-4c58-bb62-14a597e4442d\" target=\"_top\" title=\"psysml:ad4f18e6-c096-4c58-bb62-14a597e4442d\" xlink:actuate=\"onRequest\" xlink:href=\"psysml:ad4f18e6-c096-4c58-bb62-14a597e4442d\" xlink:show=\"new\" xlink:title=\"psysml:ad4f18e6-c096-4c58-bb62-14a597e4442d\" xlink:type=\"simple\"><rect fill=\"#FFFFFF\" height=\"599\" id=\"E3\" rx=\"10\" ry=\"10\" style=\"stroke: #383838; stroke-width: 1.5;\" width=\"209\" x=\"263\" y=\"49\"/><rect fill=\"#F8F8F8\" height=\"37.9375\" rx=\"10\" ry=\"10\" style=\"stroke: #F8F8F8; stroke-width: 1.5;\" width=\"209\" x=\"263\" y=\"49\"/><rect fill=\"#F8F8F8\" height=\"10\" style=\"stroke: #F8F8F8; stroke-width: 1.5;\" width=\"209\" x=\"263\" y=\"76.9375\"/><rect fill=\"none\" height=\"599\" id=\"E3\" rx=\"10\" ry=\"10\" style=\"stroke: #383838; stroke-width: 1.5;\" width=\"209\" x=\"263\" y=\"49\"/><text fill=\"#000000\" font-family=\"sans-serif\" font-size=\"12\" font-style=\"italic\" lengthAdjust=\"spacingAndGlyphs\" textLength=\"53\" x=\"341\" y=\"65.1387\">«action»</text><text fill=\"#000000\" font-family=\"sans-serif\" font-size=\"12\" lengthAdjust=\"spacingAndGlyphs\" textLength=\"8\" x=\"363.5\" y=\"79.1074\">a</text><line style=\"stroke: #383838; stroke-width: 1.0;\" x1=\"263\" x2=\"472\" y1=\"86.9375\" y2=\"86.9375\"/></a><!--MD5=[b4997ac47864f28c2f74865a473b2911]\n",
       "class E2--><a href=\"psysml:9e8a127b-f23f-41bc-b046-de56fba8ce50\" target=\"_top\" title=\"psysml:9e8a127b-f23f-41bc-b046-de56fba8ce50\" xlink:actuate=\"onRequest\" xlink:href=\"psysml:9e8a127b-f23f-41bc-b046-de56fba8ce50\" xlink:show=\"new\" xlink:title=\"psysml:9e8a127b-f23f-41bc-b046-de56fba8ce50\" xlink:type=\"simple\"><rect fill=\"#FFFFFF\" height=\"45.9375\" id=\"E2\" style=\"stroke: #383838; stroke-width: 1.5;\" width=\"95\" x=\"151.5\" y=\"87\"/><text fill=\"#000000\" font-family=\"sans-serif\" font-size=\"12\" font-style=\"italic\" lengthAdjust=\"spacingAndGlyphs\" textLength=\"93\" x=\"152.5\" y=\"103.1387\">«attribute def»</text><text fill=\"#000000\" font-family=\"sans-serif\" font-size=\"12\" lengthAdjust=\"spacingAndGlyphs\" textLength=\"8\" x=\"195\" y=\"117.1074\">S</text><line style=\"stroke: #383838; stroke-width: 1.5;\" x1=\"152.5\" x2=\"245.5\" y1=\"124.9375\" y2=\"124.9375\"/></a><polygon fill=\"#F8F8F8\" points=\"420,194,432,206,420,218,408,206,420,194\" style=\"stroke: #383838; stroke-width: 1.5;\"/><!--MD5=[21dd76c19d33815960c0e92fef8f0eef]\n",
       "entity E5--><a href=\"psysml:ccfba6f1-4ce0-4ddd-afd5-b866d68d47d7\" target=\"_top\" title=\"psysml:ccfba6f1-4ce0-4ddd-afd5-b866d68d47d7\" xlink:actuate=\"onRequest\" xlink:href=\"psysml:ccfba6f1-4ce0-4ddd-afd5-b866d68d47d7\" xlink:show=\"new\" xlink:title=\"psysml:ccfba6f1-4ce0-4ddd-afd5-b866d68d47d7\" xlink:type=\"simple\"><polygon fill=\"#F8F8F8\" points=\"279,279,279,333.5938,419,333.5938,399,306.2969,419,279\" style=\"stroke: #000000; stroke-width: 1.5;\"/><text fill=\"#000000\" font-family=\"sans-serif\" font-size=\"14\" font-style=\"italic\" lengthAdjust=\"spacingAndGlyphs\" textLength=\"111\" x=\"286\" y=\"301.9951\">«accept action»</text><text fill=\"#000000\" font-family=\"sans-serif\" font-size=\"14\" lengthAdjust=\"spacingAndGlyphs\" textLength=\"9\" x=\"337\" y=\"319.292\">S</text></a><!--MD5=[24d87cdf3002d433f401b2a2aa9f9f65]\n",
       "entity E6--><a href=\"psysml:f31bbeb6-49c7-47f4-9bac-592fafbdce16\" target=\"_top\" title=\"psysml:f31bbeb6-49c7-47f4-9bac-592fafbdce16\" xlink:actuate=\"onRequest\" xlink:href=\"psysml:f31bbeb6-49c7-47f4-9bac-592fafbdce16\" xlink:show=\"new\" xlink:title=\"psysml:f31bbeb6-49c7-47f4-9bac-592fafbdce16\" xlink:type=\"simple\"><polygon fill=\"#F8F8F8\" points=\"279,411,279,465.5938,387,465.5938,407,438.2969,387,411\" style=\"stroke: #000000; stroke-width: 1.5;\"/><text fill=\"#000000\" font-family=\"sans-serif\" font-size=\"14\" font-style=\"italic\" lengthAdjust=\"spacingAndGlyphs\" textLength=\"99\" x=\"286\" y=\"433.9951\">«send action»</text><text fill=\"#000000\" font-family=\"sans-serif\" font-size=\"14\" lengthAdjust=\"spacingAndGlyphs\" textLength=\"65\" x=\"303\" y=\"451.292\">S() to  B()</text></a><polygon fill=\"#F8F8F8\" points=\"418,527,430,539,418,551,406,539,418,527\" style=\"stroke: #383838; stroke-width: 1.5;\"/><ellipse cx=\"420\" cy=\"110\" fill=\"#000000\" rx=\"10\" ry=\"10\" style=\"stroke: none; stroke-width: 1.0;\"/><ellipse cx=\"418\" cy=\"622\" fill=\"none\" rx=\"10\" ry=\"10\" style=\"stroke: #000000; stroke-width: 1.0;\"/><ellipse cx=\"418.5\" cy=\"622.5\" fill=\"#000000\" rx=\"6\" ry=\"6\" style=\"stroke: none; stroke-width: 1.0;\"/><g id=\"E1.E8\"><a href=\"psysml:4eec70ee-61f4-4cab-8137-f00a9e5c8983\" target=\"_top\" title=\"psysml:4eec70ee-61f4-4cab-8137-f00a9e5c8983\" xlink:actuate=\"onRequest\" xlink:href=\"psysml:4eec70ee-61f4-4cab-8137-f00a9e5c8983\" xlink:show=\"new\" xlink:title=\"psysml:4eec70ee-61f4-4cab-8137-f00a9e5c8983\" xlink:type=\"simple\"><rect fill=\"#FFFFFF\" height=\"42.9375\" id=\"E8\" style=\"stroke: #383838; stroke-width: 1.5;\" width=\"84\" x=\"32\" y=\"88.5\"/><rect fill=\"#F8F8F8\" height=\"37.9375\" style=\"stroke: #383838; stroke-width: 1.5;\" width=\"84\" x=\"32\" y=\"88.5\"/><text fill=\"#000000\" font-family=\"sans-serif\" font-size=\"12\" font-style=\"italic\" lengthAdjust=\"spacingAndGlyphs\" textLength=\"77\" x=\"35.5\" y=\"104.6387\">«action def»</text><text fill=\"#000000\" font-family=\"sans-serif\" font-size=\"12\" lengthAdjust=\"spacingAndGlyphs\" textLength=\"8\" x=\"70\" y=\"118.6074\">B</text></a></g><!--MD5=[f47e10efcf9a6752d55dae986d790ed9]\n",
       "link *start*E3 to E4--><a href=\"psysml:03e50e83-6fc7-46a8-8453-213dc2aae23c\" target=\"_top\" title=\"psysml:03e50e83-6fc7-46a8-8453-213dc2aae23c\" xlink:actuate=\"onRequest\" xlink:href=\"psysml:03e50e83-6fc7-46a8-8453-213dc2aae23c\" xlink:show=\"new\" xlink:title=\"psysml:03e50e83-6fc7-46a8-8453-213dc2aae23c\" xlink:type=\"simple\"><path d=\"M420,120.01 C420,135.81 420,168.69 420,188.61 \" fill=\"none\" id=\"*start*E3-&gt;E4\" style=\"stroke: #383838; stroke-width: 1.0;\"/><polygon fill=\"#383838\" points=\"420,193.85,424,184.85,420,188.85,416,184.85,420,193.85\" style=\"stroke: #383838; stroke-width: 1.0;\"/></a><!--MD5=[d19f2eb34364d71b67042106d92f540b]\n",
       "link E7 to *end*E3--><a href=\"psysml:c4a668a6-d0f8-468f-9890-a338c2ee16ef\" target=\"_top\" title=\"psysml:c4a668a6-d0f8-468f-9890-a338c2ee16ef\" xlink:actuate=\"onRequest\" xlink:href=\"psysml:c4a668a6-d0f8-468f-9890-a338c2ee16ef\" xlink:show=\"new\" xlink:title=\"psysml:c4a668a6-d0f8-468f-9890-a338c2ee16ef\" xlink:type=\"simple\"><path d=\"M418,551.26 C418,565.66 418,590.63 418,606.46 \" fill=\"none\" id=\"E7-&gt;*end*E3\" style=\"stroke: #383838; stroke-width: 1.0;\"/><polygon fill=\"#383838\" points=\"418,611.84,422,602.84,418,606.84,414,602.84,418,611.84\" style=\"stroke: #383838; stroke-width: 1.0;\"/></a><!--MD5=[1b7591eae5389033d8d09a9d6721a717]\n",
       "link E4 to E5--><a href=\"psysml:f95480df-9a63-41d1-9e12-1ec6bb9c61dc\" target=\"_top\" title=\"psysml:f95480df-9a63-41d1-9e12-1ec6bb9c61dc\" xlink:actuate=\"onRequest\" xlink:href=\"psysml:f95480df-9a63-41d1-9e12-1ec6bb9c61dc\" xlink:show=\"new\" xlink:title=\"psysml:f95480df-9a63-41d1-9e12-1ec6bb9c61dc\" xlink:type=\"simple\"><path d=\"M415.34,213.46 C406.55,225.66 386.99,252.8 371.37,274.46 \" fill=\"none\" id=\"E4-&gt;E5\" style=\"stroke: #383838; stroke-width: 1.0;\"/><polygon fill=\"#383838\" points=\"368.31,278.71,376.8093,273.7339,371.227,274.6491,370.3119,269.0667,368.31,278.71\" style=\"stroke: #383838; stroke-width: 1.0;\"/></a><!--MD5=[9120cf2e5df3bff93db8f754bbbc09b4]\n",
       "link E5 to E6--><a href=\"psysml:73484f54-b4d2-4298-bed2-8c418bf31093\" target=\"_top\" title=\"psysml:73484f54-b4d2-4298-bed2-8c418bf31093\" xlink:actuate=\"onRequest\" xlink:href=\"psysml:73484f54-b4d2-4298-bed2-8c418bf31093\" xlink:show=\"new\" xlink:title=\"psysml:73484f54-b4d2-4298-bed2-8c418bf31093\" xlink:type=\"simple\"><path d=\"M347.77,334.12 C346.81,354.89 345.48,383.8 344.46,405.77 \" fill=\"none\" id=\"E5-&gt;E6\" style=\"stroke: #383838; stroke-width: 1.0;\"/><polygon fill=\"#383838\" points=\"344.23,410.91,348.6368,402.1021,344.4583,405.9152,340.6452,401.7367,344.23,410.91\" style=\"stroke: #383838; stroke-width: 1.0;\"/></a><!--MD5=[02c70b7c851c11e3980e4e90450dc5dd]\n",
       "link E6 to E7--><a href=\"psysml:860bf181-ae5a-4d8b-9cc8-c19fc893dd3f\" target=\"_top\" title=\"psysml:860bf181-ae5a-4d8b-9cc8-c19fc893dd3f\" xlink:actuate=\"onRequest\" xlink:href=\"psysml:860bf181-ae5a-4d8b-9cc8-c19fc893dd3f\" xlink:show=\"new\" xlink:title=\"psysml:860bf181-ae5a-4d8b-9cc8-c19fc893dd3f\" xlink:type=\"simple\"><path d=\"M363.3,466.16 C378.71,486.4 399.07,513.14 410.09,527.61 \" fill=\"none\" id=\"E6-&gt;E7\" style=\"stroke: #383838; stroke-width: 1.0;\"/><polygon fill=\"#383838\" points=\"413.2,531.69,410.9398,522.104,410.1749,527.7089,404.57,526.9441,413.2,531.69\" style=\"stroke: #383838; stroke-width: 1.0;\"/></a><!--MD5=[6bdd27f9905911a7e892a3dc65cf6b7c]\n",
       "link E7 to E4--><a href=\"psysml:227ffbe5-5fbb-4b69-bf2e-f462a1a2545e\" target=\"_top\" title=\"psysml:227ffbe5-5fbb-4b69-bf2e-f462a1a2545e\" xlink:actuate=\"onRequest\" xlink:href=\"psysml:227ffbe5-5fbb-4b69-bf2e-f462a1a2545e\" xlink:show=\"new\" xlink:title=\"psysml:227ffbe5-5fbb-4b69-bf2e-f462a1a2545e\" xlink:type=\"simple\"><path d=\"M419.98,528.56 C426.8,494.71 448.32,376.18 437,279 C434.59,258.32 428.42,234.96 424.21,220.61 \" fill=\"none\" id=\"E7-&gt;E4\" style=\"stroke: #383838; stroke-width: 1.0;\"/><polygon fill=\"#383838\" points=\"422.76,215.75,421.4935,225.5171,424.1863,220.5423,429.1611,223.2351,422.76,215.75\" style=\"stroke: #383838; stroke-width: 1.0;\"/><text fill=\"#000000\" font-family=\"sans-serif\" font-size=\"13\" lengthAdjust=\"spacingAndGlyphs\" textLength=\"36\" x=\"440\" y=\"377.0669\">[true]</text></a><!--MD5=[c632c97c937b669856046cfb92b384db]\n",
       "@startuml\r\n",
       "top to bottom direction\r\n",
       "skinparam monochrome true\r\n",
       "skinparam classbackgroundcolor white\r\n",
       "skinparam shadowing false\r\n",
       "skinparam wrapWidth 300\r\n",
       "hide circle\r\n",
       "\r\n",
       "package \"ActionTest\" as E1  [[psysml:fba87211-d6a8-40ff-8d47-80f3cbac0e83 ]]  {\r\n",
       "comp def \"S\" as E2  <<(T,blue)attribute def>> [[psysml:9e8a127b-f23f-41bc-b046-de56fba8ce50 ]] {\r\n",
       "}\r\n",
       "rec usage \"a\" as E3  <<(T,blue)action>> [[psysml:ad4f18e6-c096-4c58-bb62-14a597e4442d ]] {\r\n",
       "choice \"m\" as E4  [[psysml:e85a3052-7a7b-4311-97f8-bb0216d1246f ]] \r\n",
       "accept \" S\" as E5 <<accept action>> [[psysml:ccfba6f1-4ce0-4ddd-afd5-b866d68d47d7 ]] \r\n",
       "send \" S() to  B()\" as E6 <<send action>> [[psysml:f31bbeb6-49c7-47f4-9bac-592fafbdce16 ]] \r\n",
       "choice \"noname\" as E7  [[psysml:7507dc2c-9b39-4c30-b0ef-dd6a627e8c4c ]] \r\n",
       "[*] - -> E4 [[psysml:03e50e83-6fc7-46a8-8453-213dc2aae23c ]] \r\n",
       "E7  - -> [*] [[psysml:c4a668a6-d0f8-468f-9890-a338c2ee16ef ]] \r\n",
       "}\r\n",
       "\r\n",
       "rec def \"B\" as E8  <<(T,blue)action def>> [[psysml:4eec70ee-61f4-4cab-8137-f00a9e5c8983 ]] {\r\n",
       "}\r\n",
       "\r\n",
       "E4 - -> E5 [[psysml:f95480df-9a63-41d1-9e12-1ec6bb9c61dc ]] \r\n",
       "E5 - -> E6 [[psysml:73484f54-b4d2-4298-bed2-8c418bf31093 ]] \r\n",
       "E6 - -> E7 [[psysml:860bf181-ae5a-4d8b-9cc8-c19fc893dd3f ]] \r\n",
       "E7  - -> E4 [[psysml:227ffbe5-5fbb-4b69-bf2e-f462a1a2545e ]] : [true]\r\n",
       "}\r\n",
       "@enduml\r\n",
       "\n",
       "PlantUML version 1.2020.13(Sat Jun 13 12:26:38 UTC 2020)\n",
       "(EPL source distribution)\n",
       "Java Runtime: OpenJDK Runtime Environment\n",
       "JVM: OpenJDK 64-Bit Server VM\n",
       "Default Encoding: UTF-8\n",
       "Language: en\n",
       "Country: null\n",
       "--></g></svg>"
      ]
     },
     "execution_count": 50,
     "metadata": {},
     "output_type": "execute_result"
    }
   ],
   "source": [
    "%viz --style=\"TB\" --view=\"MIXED\" \"ActionTest\""
   ]
  },
  {
   "cell_type": "code",
   "execution_count": 51,
   "id": "702e1c65",
   "metadata": {
    "execution": {
     "iopub.execute_input": "2021-05-27T06:08:04.243853Z",
     "iopub.status.busy": "2021-05-27T06:08:04.243486Z",
     "iopub.status.idle": "2021-05-27T06:08:04.284764Z",
     "shell.execute_reply": "2021-05-27T06:08:04.283488Z"
    }
   },
   "outputs": [
    {
     "data": {
      "image/svg+xml": [
       "<?xml version=\"1.0\" encoding=\"UTF-8\" standalone=\"no\"?><svg xmlns=\"http://www.w3.org/2000/svg\" xmlns:xlink=\"http://www.w3.org/1999/xlink\" contentScriptType=\"application/ecmascript\" contentStyleType=\"text/css\" height=\"684px\" preserveAspectRatio=\"none\" style=\"width:518px;height:684px;\" version=\"1.1\" viewBox=\"0 0 518 684\" width=\"518px\" zoomAndPan=\"magnify\"><defs/><g><!--MD5=[fbc87193dbaf4d95561dea2c320d4a47]\n",
       "cluster E1--><a href=\"psysml:fba87211-d6a8-40ff-8d47-80f3cbac0e83\" target=\"_top\" title=\"psysml:fba87211-d6a8-40ff-8d47-80f3cbac0e83\" xlink:actuate=\"onRequest\" xlink:href=\"psysml:fba87211-d6a8-40ff-8d47-80f3cbac0e83\" xlink:show=\"new\" xlink:title=\"psysml:fba87211-d6a8-40ff-8d47-80f3cbac0e83\" xlink:type=\"simple\"><polygon fill=\"#FFFFFF\" points=\"16,6,107,6,114,28.2969,496,28.2969,496,672,16,672,16,6\" style=\"stroke: #000000; stroke-width: 1.5;\"/><line style=\"stroke: #000000; stroke-width: 1.5;\" x1=\"16\" x2=\"114\" y1=\"28.2969\" y2=\"28.2969\"/><text fill=\"#000000\" font-family=\"sans-serif\" font-size=\"14\" font-weight=\"bold\" lengthAdjust=\"spacingAndGlyphs\" textLength=\"85\" x=\"20\" y=\"20.9951\">ActionTest</text></a><!--MD5=[d5e69f78d87373223dbae638b30a9c99]\n",
       "cluster E3--><a href=\"psysml:ad4f18e6-c096-4c58-bb62-14a597e4442d\" target=\"_top\" title=\"psysml:ad4f18e6-c096-4c58-bb62-14a597e4442d\" xlink:actuate=\"onRequest\" xlink:href=\"psysml:ad4f18e6-c096-4c58-bb62-14a597e4442d\" xlink:show=\"new\" xlink:title=\"psysml:ad4f18e6-c096-4c58-bb62-14a597e4442d\" xlink:type=\"simple\"><rect fill=\"#FFFFFF\" height=\"599\" id=\"E3\" rx=\"10\" ry=\"10\" style=\"stroke: #383838; stroke-width: 1.5;\" width=\"209\" x=\"263\" y=\"49\"/><rect fill=\"#F8F8F8\" height=\"37.9375\" rx=\"10\" ry=\"10\" style=\"stroke: #F8F8F8; stroke-width: 1.5;\" width=\"209\" x=\"263\" y=\"49\"/><rect fill=\"#F8F8F8\" height=\"10\" style=\"stroke: #F8F8F8; stroke-width: 1.5;\" width=\"209\" x=\"263\" y=\"76.9375\"/><rect fill=\"none\" height=\"599\" id=\"E3\" rx=\"10\" ry=\"10\" style=\"stroke: #383838; stroke-width: 1.5;\" width=\"209\" x=\"263\" y=\"49\"/><text fill=\"#000000\" font-family=\"sans-serif\" font-size=\"12\" font-style=\"italic\" lengthAdjust=\"spacingAndGlyphs\" textLength=\"53\" x=\"341\" y=\"65.1387\">«action»</text><text fill=\"#000000\" font-family=\"sans-serif\" font-size=\"12\" lengthAdjust=\"spacingAndGlyphs\" textLength=\"8\" x=\"363.5\" y=\"79.1074\">a</text><line style=\"stroke: #383838; stroke-width: 1.0;\" x1=\"263\" x2=\"472\" y1=\"86.9375\" y2=\"86.9375\"/></a><!--MD5=[b4997ac47864f28c2f74865a473b2911]\n",
       "class E2--><a href=\"psysml:9e8a127b-f23f-41bc-b046-de56fba8ce50\" target=\"_top\" title=\"psysml:9e8a127b-f23f-41bc-b046-de56fba8ce50\" xlink:actuate=\"onRequest\" xlink:href=\"psysml:9e8a127b-f23f-41bc-b046-de56fba8ce50\" xlink:show=\"new\" xlink:title=\"psysml:9e8a127b-f23f-41bc-b046-de56fba8ce50\" xlink:type=\"simple\"><rect fill=\"#FFFFFF\" height=\"45.9375\" id=\"E2\" style=\"stroke: #383838; stroke-width: 1.5;\" width=\"95\" x=\"151.5\" y=\"87\"/><text fill=\"#000000\" font-family=\"sans-serif\" font-size=\"12\" font-style=\"italic\" lengthAdjust=\"spacingAndGlyphs\" textLength=\"93\" x=\"152.5\" y=\"103.1387\">«attribute def»</text><text fill=\"#000000\" font-family=\"sans-serif\" font-size=\"12\" lengthAdjust=\"spacingAndGlyphs\" textLength=\"8\" x=\"195\" y=\"117.1074\">S</text><line style=\"stroke: #383838; stroke-width: 1.5;\" x1=\"152.5\" x2=\"245.5\" y1=\"124.9375\" y2=\"124.9375\"/></a><polygon fill=\"#F8F8F8\" points=\"420,194,432,206,420,218,408,206,420,194\" style=\"stroke: #383838; stroke-width: 1.5;\"/><!--MD5=[21dd76c19d33815960c0e92fef8f0eef]\n",
       "entity E5--><a href=\"psysml:ccfba6f1-4ce0-4ddd-afd5-b866d68d47d7\" target=\"_top\" title=\"psysml:ccfba6f1-4ce0-4ddd-afd5-b866d68d47d7\" xlink:actuate=\"onRequest\" xlink:href=\"psysml:ccfba6f1-4ce0-4ddd-afd5-b866d68d47d7\" xlink:show=\"new\" xlink:title=\"psysml:ccfba6f1-4ce0-4ddd-afd5-b866d68d47d7\" xlink:type=\"simple\"><polygon fill=\"#F8F8F8\" points=\"279,279,279,333.5938,419,333.5938,399,306.2969,419,279\" style=\"stroke: #000000; stroke-width: 1.5;\"/><text fill=\"#000000\" font-family=\"sans-serif\" font-size=\"14\" font-style=\"italic\" lengthAdjust=\"spacingAndGlyphs\" textLength=\"111\" x=\"286\" y=\"301.9951\">«accept action»</text><text fill=\"#000000\" font-family=\"sans-serif\" font-size=\"14\" lengthAdjust=\"spacingAndGlyphs\" textLength=\"9\" x=\"337\" y=\"319.292\">S</text></a><!--MD5=[24d87cdf3002d433f401b2a2aa9f9f65]\n",
       "entity E6--><a href=\"psysml:f31bbeb6-49c7-47f4-9bac-592fafbdce16\" target=\"_top\" title=\"psysml:f31bbeb6-49c7-47f4-9bac-592fafbdce16\" xlink:actuate=\"onRequest\" xlink:href=\"psysml:f31bbeb6-49c7-47f4-9bac-592fafbdce16\" xlink:show=\"new\" xlink:title=\"psysml:f31bbeb6-49c7-47f4-9bac-592fafbdce16\" xlink:type=\"simple\"><polygon fill=\"#F8F8F8\" points=\"279,411,279,465.5938,387,465.5938,407,438.2969,387,411\" style=\"stroke: #000000; stroke-width: 1.5;\"/><text fill=\"#000000\" font-family=\"sans-serif\" font-size=\"14\" font-style=\"italic\" lengthAdjust=\"spacingAndGlyphs\" textLength=\"99\" x=\"286\" y=\"433.9951\">«send action»</text><text fill=\"#000000\" font-family=\"sans-serif\" font-size=\"14\" lengthAdjust=\"spacingAndGlyphs\" textLength=\"65\" x=\"303\" y=\"451.292\">S() to  B()</text></a><polygon fill=\"#F8F8F8\" points=\"418,527,430,539,418,551,406,539,418,527\" style=\"stroke: #383838; stroke-width: 1.5;\"/><ellipse cx=\"420\" cy=\"110\" fill=\"#000000\" rx=\"10\" ry=\"10\" style=\"stroke: none; stroke-width: 1.0;\"/><ellipse cx=\"418\" cy=\"622\" fill=\"none\" rx=\"10\" ry=\"10\" style=\"stroke: #000000; stroke-width: 1.0;\"/><ellipse cx=\"418.5\" cy=\"622.5\" fill=\"#000000\" rx=\"6\" ry=\"6\" style=\"stroke: none; stroke-width: 1.0;\"/><g id=\"E1.E8\"><a href=\"psysml:4eec70ee-61f4-4cab-8137-f00a9e5c8983\" target=\"_top\" title=\"psysml:4eec70ee-61f4-4cab-8137-f00a9e5c8983\" xlink:actuate=\"onRequest\" xlink:href=\"psysml:4eec70ee-61f4-4cab-8137-f00a9e5c8983\" xlink:show=\"new\" xlink:title=\"psysml:4eec70ee-61f4-4cab-8137-f00a9e5c8983\" xlink:type=\"simple\"><rect fill=\"#FFFFFF\" height=\"42.9375\" id=\"E8\" style=\"stroke: #383838; stroke-width: 1.5;\" width=\"84\" x=\"32\" y=\"88.5\"/><rect fill=\"#F8F8F8\" height=\"37.9375\" style=\"stroke: #383838; stroke-width: 1.5;\" width=\"84\" x=\"32\" y=\"88.5\"/><text fill=\"#000000\" font-family=\"sans-serif\" font-size=\"12\" font-style=\"italic\" lengthAdjust=\"spacingAndGlyphs\" textLength=\"77\" x=\"35.5\" y=\"104.6387\">«action def»</text><text fill=\"#000000\" font-family=\"sans-serif\" font-size=\"12\" lengthAdjust=\"spacingAndGlyphs\" textLength=\"8\" x=\"70\" y=\"118.6074\">B</text></a></g><!--MD5=[f47e10efcf9a6752d55dae986d790ed9]\n",
       "link *start*E3 to E4--><a href=\"psysml:03e50e83-6fc7-46a8-8453-213dc2aae23c\" target=\"_top\" title=\"psysml:03e50e83-6fc7-46a8-8453-213dc2aae23c\" xlink:actuate=\"onRequest\" xlink:href=\"psysml:03e50e83-6fc7-46a8-8453-213dc2aae23c\" xlink:show=\"new\" xlink:title=\"psysml:03e50e83-6fc7-46a8-8453-213dc2aae23c\" xlink:type=\"simple\"><path d=\"M420,120.27 C420,120.27 420,188.7 420,188.7 \" fill=\"none\" id=\"*start*E3-&gt;E4\" style=\"stroke: #383838; stroke-width: 1.0;\"/><polygon fill=\"#383838\" points=\"420,193.7,424,184.7,420,188.7,416,184.7,420,193.7\" style=\"stroke: #383838; stroke-width: 1.0;\"/></a><!--MD5=[d19f2eb34364d71b67042106d92f540b]\n",
       "link E7 to *end*E3--><a href=\"psysml:c4a668a6-d0f8-468f-9890-a338c2ee16ef\" target=\"_top\" title=\"psysml:c4a668a6-d0f8-468f-9890-a338c2ee16ef\" xlink:actuate=\"onRequest\" xlink:href=\"psysml:c4a668a6-d0f8-468f-9890-a338c2ee16ef\" xlink:show=\"new\" xlink:title=\"psysml:c4a668a6-d0f8-468f-9890-a338c2ee16ef\" xlink:type=\"simple\"><path d=\"M418,551.25 C418,551.25 418,606.8 418,606.8 \" fill=\"none\" id=\"E7-&gt;*end*E3\" style=\"stroke: #383838; stroke-width: 1.0;\"/><polygon fill=\"#383838\" points=\"418,611.8,422,602.8,418,606.8,414,602.8,418,611.8\" style=\"stroke: #383838; stroke-width: 1.0;\"/></a><!--MD5=[1b7591eae5389033d8d09a9d6721a717]\n",
       "link E4 to E5--><a href=\"psysml:f95480df-9a63-41d1-9e12-1ec6bb9c61dc\" target=\"_top\" title=\"psysml:f95480df-9a63-41d1-9e12-1ec6bb9c61dc\" xlink:actuate=\"onRequest\" xlink:href=\"psysml:f95480df-9a63-41d1-9e12-1ec6bb9c61dc\" xlink:show=\"new\" xlink:title=\"psysml:f95480df-9a63-41d1-9e12-1ec6bb9c61dc\" xlink:type=\"simple\"><path d=\"M413.5,211.69 C413.5,211.69 413.5,273.98 413.5,273.98 \" fill=\"none\" id=\"E4-&gt;E5\" style=\"stroke: #383838; stroke-width: 1.0;\"/><polygon fill=\"#383838\" points=\"413.5,278.98,417.5,269.98,413.5,273.98,409.5,269.98,413.5,278.98\" style=\"stroke: #383838; stroke-width: 1.0;\"/></a><!--MD5=[9120cf2e5df3bff93db8f754bbbc09b4]\n",
       "link E5 to E6--><a href=\"psysml:73484f54-b4d2-4298-bed2-8c418bf31093\" target=\"_top\" title=\"psysml:73484f54-b4d2-4298-bed2-8c418bf31093\" xlink:actuate=\"onRequest\" xlink:href=\"psysml:73484f54-b4d2-4298-bed2-8c418bf31093\" xlink:show=\"new\" xlink:title=\"psysml:73484f54-b4d2-4298-bed2-8c418bf31093\" xlink:type=\"simple\"><path d=\"M343,334.17 C343,334.17 343,405.86 343,405.86 \" fill=\"none\" id=\"E5-&gt;E6\" style=\"stroke: #383838; stroke-width: 1.0;\"/><polygon fill=\"#383838\" points=\"343,410.86,347,401.86,343,405.86,339,401.86,343,410.86\" style=\"stroke: #383838; stroke-width: 1.0;\"/></a><!--MD5=[02c70b7c851c11e3980e4e90450dc5dd]\n",
       "link E6 to E7--><a href=\"psysml:860bf181-ae5a-4d8b-9cc8-c19fc893dd3f\" target=\"_top\" title=\"psysml:860bf181-ae5a-4d8b-9cc8-c19fc893dd3f\" xlink:actuate=\"onRequest\" xlink:href=\"psysml:860bf181-ae5a-4d8b-9cc8-c19fc893dd3f\" xlink:show=\"new\" xlink:title=\"psysml:860bf181-ae5a-4d8b-9cc8-c19fc893dd3f\" xlink:type=\"simple\"><path d=\"M407.03,439 C410.74,439 413,439 413,439 C413,439 413,526.81 413,526.81 \" fill=\"none\" id=\"E6-&gt;E7\" style=\"stroke: #383838; stroke-width: 1.0;\"/><polygon fill=\"#383838\" points=\"413,531.81,417,522.81,413,526.81,409,522.81,413,531.81\" style=\"stroke: #383838; stroke-width: 1.0;\"/></a><!--MD5=[6bdd27f9905911a7e892a3dc65cf6b7c]\n",
       "link E7 to E4--><a href=\"psysml:227ffbe5-5fbb-4b69-bf2e-f462a1a2545e\" target=\"_top\" title=\"psysml:227ffbe5-5fbb-4b69-bf2e-f462a1a2545e\" xlink:actuate=\"onRequest\" xlink:href=\"psysml:227ffbe5-5fbb-4b69-bf2e-f462a1a2545e\" xlink:show=\"new\" xlink:title=\"psysml:227ffbe5-5fbb-4b69-bf2e-f462a1a2545e\" xlink:type=\"simple\"><path d=\"M424.5,533.5 C424.5,533.5 424.5,218.64 424.5,218.64 \" fill=\"none\" id=\"E7-&gt;E4\" style=\"stroke: #383838; stroke-width: 1.0;\"/><polygon fill=\"#383838\" points=\"424.5,213.64,420.5,222.64,424.5,218.64,428.5,222.64,424.5,213.64\" style=\"stroke: #383838; stroke-width: 1.0;\"/><text fill=\"#000000\" font-family=\"sans-serif\" font-size=\"13\" lengthAdjust=\"spacingAndGlyphs\" textLength=\"36\" x=\"419\" y=\"377.0669\">[true]</text></a><!--MD5=[faaf9993454ae4e2f459fff37f22ab85]\n",
       "@startuml\r\n",
       "skinparam linetype ortho\r\n",
       "skinparam monochrome true\r\n",
       "skinparam classbackgroundcolor white\r\n",
       "skinparam shadowing false\r\n",
       "skinparam wrapWidth 300\r\n",
       "hide circle\r\n",
       "\r\n",
       "package \"ActionTest\" as E1  [[psysml:fba87211-d6a8-40ff-8d47-80f3cbac0e83 ]]  {\r\n",
       "comp def \"S\" as E2  <<(T,blue)attribute def>> [[psysml:9e8a127b-f23f-41bc-b046-de56fba8ce50 ]] {\r\n",
       "}\r\n",
       "rec usage \"a\" as E3  <<(T,blue)action>> [[psysml:ad4f18e6-c096-4c58-bb62-14a597e4442d ]] {\r\n",
       "choice \"m\" as E4  [[psysml:e85a3052-7a7b-4311-97f8-bb0216d1246f ]] \r\n",
       "accept \" S\" as E5 <<accept action>> [[psysml:ccfba6f1-4ce0-4ddd-afd5-b866d68d47d7 ]] \r\n",
       "send \" S() to  B()\" as E6 <<send action>> [[psysml:f31bbeb6-49c7-47f4-9bac-592fafbdce16 ]] \r\n",
       "choice \"noname\" as E7  [[psysml:7507dc2c-9b39-4c30-b0ef-dd6a627e8c4c ]] \r\n",
       "[*] - -> E4 [[psysml:03e50e83-6fc7-46a8-8453-213dc2aae23c ]] \r\n",
       "E7  - -> [*] [[psysml:c4a668a6-d0f8-468f-9890-a338c2ee16ef ]] \r\n",
       "}\r\n",
       "\r\n",
       "rec def \"B\" as E8  <<(T,blue)action def>> [[psysml:4eec70ee-61f4-4cab-8137-f00a9e5c8983 ]] {\r\n",
       "}\r\n",
       "\r\n",
       "E4 - -> E5 [[psysml:f95480df-9a63-41d1-9e12-1ec6bb9c61dc ]] \r\n",
       "E5 - -> E6 [[psysml:73484f54-b4d2-4298-bed2-8c418bf31093 ]] \r\n",
       "E6 - -> E7 [[psysml:860bf181-ae5a-4d8b-9cc8-c19fc893dd3f ]] \r\n",
       "E7  - -> E4 [[psysml:227ffbe5-5fbb-4b69-bf2e-f462a1a2545e ]] : [true]\r\n",
       "}\r\n",
       "@enduml\r\n",
       "\n",
       "PlantUML version 1.2020.13(Sat Jun 13 12:26:38 UTC 2020)\n",
       "(EPL source distribution)\n",
       "Java Runtime: OpenJDK Runtime Environment\n",
       "JVM: OpenJDK 64-Bit Server VM\n",
       "Default Encoding: UTF-8\n",
       "Language: en\n",
       "Country: null\n",
       "--></g></svg>"
      ]
     },
     "execution_count": 51,
     "metadata": {},
     "output_type": "execute_result"
    }
   ],
   "source": [
    "%viz --style=\"ORTHOLINE\" --view=\"Default\" \"ActionTest\""
   ]
  },
  {
   "cell_type": "code",
   "execution_count": 52,
   "id": "7749e3d3",
   "metadata": {
    "execution": {
     "iopub.execute_input": "2021-05-27T06:08:04.336051Z",
     "iopub.status.busy": "2021-05-27T06:08:04.335468Z",
     "iopub.status.idle": "2021-05-27T06:08:04.395473Z",
     "shell.execute_reply": "2021-05-27T06:08:04.394420Z"
    }
   },
   "outputs": [
    {
     "data": {
      "image/svg+xml": [
       "<?xml version=\"1.0\" encoding=\"UTF-8\" standalone=\"no\"?><svg xmlns=\"http://www.w3.org/2000/svg\" xmlns:xlink=\"http://www.w3.org/1999/xlink\" contentScriptType=\"application/ecmascript\" contentStyleType=\"text/css\" height=\"187px\" preserveAspectRatio=\"none\" style=\"width:475px;height:187px;\" version=\"1.1\" viewBox=\"0 0 475 187\" width=\"475px\" zoomAndPan=\"magnify\"><defs/><g><!--MD5=[fbc87193dbaf4d95561dea2c320d4a47]\n",
       "cluster E1--><a href=\"psysml:fba87211-d6a8-40ff-8d47-80f3cbac0e83\" target=\"_top\" title=\"psysml:fba87211-d6a8-40ff-8d47-80f3cbac0e83\" xlink:actuate=\"onRequest\" xlink:href=\"psysml:fba87211-d6a8-40ff-8d47-80f3cbac0e83\" xlink:show=\"new\" xlink:title=\"psysml:fba87211-d6a8-40ff-8d47-80f3cbac0e83\" xlink:type=\"simple\"><polygon fill=\"#FFFFFF\" points=\"16,6,107,6,114,28.2969,453,28.2969,453,175,16,175,16,6\" style=\"stroke: #000000; stroke-width: 1.5;\"/><line style=\"stroke: #000000; stroke-width: 1.5;\" x1=\"16\" x2=\"114\" y1=\"28.2969\" y2=\"28.2969\"/><text fill=\"#000000\" font-family=\"sans-serif\" font-size=\"14\" font-weight=\"bold\" lengthAdjust=\"spacingAndGlyphs\" textLength=\"85\" x=\"20\" y=\"20.9951\">ActionTest</text></a><!--MD5=[b4997ac47864f28c2f74865a473b2911]\n",
       "class E2--><a href=\"psysml:9e8a127b-f23f-41bc-b046-de56fba8ce50\" target=\"_top\" title=\"psysml:9e8a127b-f23f-41bc-b046-de56fba8ce50\" xlink:actuate=\"onRequest\" xlink:href=\"psysml:9e8a127b-f23f-41bc-b046-de56fba8ce50\" xlink:show=\"new\" xlink:title=\"psysml:9e8a127b-f23f-41bc-b046-de56fba8ce50\" xlink:type=\"simple\"><rect fill=\"#FFFFFF\" height=\"45.9375\" id=\"E2\" style=\"stroke: #383838; stroke-width: 1.5;\" width=\"95\" x=\"341.5\" y=\"77\"/><text fill=\"#000000\" font-family=\"sans-serif\" font-size=\"12\" font-style=\"italic\" lengthAdjust=\"spacingAndGlyphs\" textLength=\"93\" x=\"342.5\" y=\"93.1387\">«attribute def»</text><text fill=\"#000000\" font-family=\"sans-serif\" font-size=\"12\" lengthAdjust=\"spacingAndGlyphs\" textLength=\"8\" x=\"385\" y=\"107.1074\">S</text><line style=\"stroke: #383838; stroke-width: 1.5;\" x1=\"342.5\" x2=\"435.5\" y1=\"114.9375\" y2=\"114.9375\"/></a><!--MD5=[09b614a08d8cba4a07c9adeb5e0fee81]\n",
       "class E3--><a href=\"psysml:ad4f18e6-c096-4c58-bb62-14a597e4442d\" target=\"_top\" title=\"psysml:ad4f18e6-c096-4c58-bb62-14a597e4442d\" xlink:actuate=\"onRequest\" xlink:href=\"psysml:ad4f18e6-c096-4c58-bb62-14a597e4442d\" xlink:show=\"new\" xlink:title=\"psysml:ad4f18e6-c096-4c58-bb62-14a597e4442d\" xlink:type=\"simple\"><rect fill=\"#FFFFFF\" height=\"117.9609\" id=\"E3\" rx=\"10\" ry=\"10\" style=\"stroke: #383838; stroke-width: 1.5;\" width=\"160\" x=\"146\" y=\"41\"/><text fill=\"#000000\" font-family=\"sans-serif\" font-size=\"12\" font-style=\"italic\" lengthAdjust=\"spacingAndGlyphs\" textLength=\"53\" x=\"199.5\" y=\"57.1387\">«action»</text><text fill=\"#000000\" font-family=\"sans-serif\" font-size=\"12\" lengthAdjust=\"spacingAndGlyphs\" textLength=\"8\" x=\"222\" y=\"71.1074\">a</text><line style=\"stroke: #383838; stroke-width: 1.5;\" x1=\"147\" x2=\"305\" y1=\"78.9375\" y2=\"78.9375\"/><text fill=\"#000000\" font-family=\"sans-serif\" font-size=\"11\" lengthAdjust=\"spacingAndGlyphs\" textLength=\"69\" x=\"152\" y=\"109.9526\">start: Action</text><text fill=\"#000000\" font-family=\"sans-serif\" font-size=\"11\" font-style=\"italic\" lengthAdjust=\"spacingAndGlyphs\" textLength=\"148\" x=\"152\" y=\"122.7573\">:&gt;&gt;Occurrence::startShot</text><line style=\"stroke: #383838; stroke-width: 1.0;\" x1=\"147\" x2=\"205.5\" y1=\"93.3398\" y2=\"93.3398\"/><text fill=\"#000000\" font-family=\"sans-serif\" font-size=\"11\" lengthAdjust=\"spacingAndGlyphs\" textLength=\"41\" x=\"205.5\" y=\"96.6479\">actions</text><line style=\"stroke: #383838; stroke-width: 1.0;\" x1=\"246.5\" x2=\"305\" y1=\"93.3398\" y2=\"93.3398\"/><text fill=\"#000000\" font-family=\"sans-serif\" font-size=\"11\" lengthAdjust=\"spacingAndGlyphs\" textLength=\"11\" x=\"152\" y=\"152.3667\">m</text><line style=\"stroke: #383838; stroke-width: 1.0;\" x1=\"147\" x2=\"189.5\" y1=\"135.7539\" y2=\"135.7539\"/><text fill=\"#000000\" font-family=\"sans-serif\" font-size=\"11\" lengthAdjust=\"spacingAndGlyphs\" textLength=\"73\" x=\"189.5\" y=\"139.062\">mergeNodes</text><line style=\"stroke: #383838; stroke-width: 1.0;\" x1=\"262.5\" x2=\"305\" y1=\"135.7539\" y2=\"135.7539\"/></a><!--MD5=[60a26617385b1d2d0262a64233df1f8d]\n",
       "class E6--><a href=\"psysml:4eec70ee-61f4-4cab-8137-f00a9e5c8983\" target=\"_top\" title=\"psysml:4eec70ee-61f4-4cab-8137-f00a9e5c8983\" xlink:actuate=\"onRequest\" xlink:href=\"psysml:4eec70ee-61f4-4cab-8137-f00a9e5c8983\" xlink:show=\"new\" xlink:title=\"psysml:4eec70ee-61f4-4cab-8137-f00a9e5c8983\" xlink:type=\"simple\"><rect fill=\"#FFFFFF\" height=\"45.9375\" id=\"E6\" style=\"stroke: #383838; stroke-width: 1.5;\" width=\"79\" x=\"31.5\" y=\"77\"/><text fill=\"#000000\" font-family=\"sans-serif\" font-size=\"12\" font-style=\"italic\" lengthAdjust=\"spacingAndGlyphs\" textLength=\"77\" x=\"32.5\" y=\"93.1387\">«action def»</text><text fill=\"#000000\" font-family=\"sans-serif\" font-size=\"12\" lengthAdjust=\"spacingAndGlyphs\" textLength=\"8\" x=\"67\" y=\"107.1074\">B</text><line style=\"stroke: #383838; stroke-width: 1.5;\" x1=\"32.5\" x2=\"109.5\" y1=\"114.9375\" y2=\"114.9375\"/></a><!--MD5=[60033a4facde3e40538e5ff7773041ad]\n",
       "@startuml\r\n",
       "skinparam linetype ortho\r\n",
       "skinparam monochrome true\r\n",
       "skinparam classbackgroundcolor white\r\n",
       "skinparam shadowing false\r\n",
       "skinparam wrapWidth 300\r\n",
       "hide circle\r\n",
       "\r\n",
       "package \"ActionTest\" as E1  [[psysml:fba87211-d6a8-40ff-8d47-80f3cbac0e83 ]]  {\r\n",
       "comp def \"S\" as E2  <<(T,blue)attribute def>> [[psysml:9e8a127b-f23f-41bc-b046-de56fba8ce50 ]] {\r\n",
       "}\r\n",
       "comp usage \"a\" as E3  <<(T,blue)action>> [[psysml:ad4f18e6-c096-4c58-bb62-14a597e4442d ]] {\r\n",
       "- - actions - -\r\n",
       "start: Action\\n//:>>Occurrence::startShot// \r\n",
       "- - mergeNodes - -\r\n",
       "m\r\n",
       "}\r\n",
       "comp def \"B\" as E6  <<(T,blue)action def>> [[psysml:4eec70ee-61f4-4cab-8137-f00a9e5c8983 ]] {\r\n",
       "}\r\n",
       "}\r\n",
       "@enduml\r\n",
       "\n",
       "PlantUML version 1.2020.13(Sat Jun 13 12:26:38 UTC 2020)\n",
       "(EPL source distribution)\n",
       "Java Runtime: OpenJDK Runtime Environment\n",
       "JVM: OpenJDK 64-Bit Server VM\n",
       "Default Encoding: UTF-8\n",
       "Language: en\n",
       "Country: null\n",
       "--></g></svg>"
      ]
     },
     "execution_count": 52,
     "metadata": {},
     "output_type": "execute_result"
    }
   ],
   "source": [
    "%viz --style=\"ORTHOLINE\" --view=\"Tree\" \"ActionTest\""
   ]
  },
  {
   "cell_type": "code",
   "execution_count": 53,
   "id": "3204e10a",
   "metadata": {
    "execution": {
     "iopub.execute_input": "2021-05-27T06:08:04.447582Z",
     "iopub.status.busy": "2021-05-27T06:08:04.446809Z",
     "iopub.status.idle": "2021-05-27T06:08:04.452120Z",
     "shell.execute_reply": "2021-05-27T06:08:04.451763Z"
    }
   },
   "outputs": [
    {
     "data": {
      "image/svg+xml": [
       "<?xml version=\"1.0\" encoding=\"UTF-8\" standalone=\"no\"?><svg xmlns=\"http://www.w3.org/2000/svg\" xmlns:xlink=\"http://www.w3.org/1999/xlink\" contentScriptType=\"application/ecmascript\" contentStyleType=\"text/css\" height=\"12px\" preserveAspectRatio=\"none\" style=\"width:12px;height:12px;\" version=\"1.1\" viewBox=\"0 0 12 12\" width=\"12px\" zoomAndPan=\"magnify\"><defs/><g><!--MD5=[97d6f38768b311333d388e66b2b27985]\n",
       "@startuml\r\n",
       "skinparam linetype ortho\r\n",
       "skinparam monochrome true\r\n",
       "skinparam classbackgroundcolor white\r\n",
       "skinparam shadowing false\r\n",
       "skinparam wrapWidth 300\r\n",
       "hide circle\r\n",
       "\r\n",
       "@enduml\r\n",
       "\n",
       "PlantUML version 1.2020.13(Sat Jun 13 12:26:38 UTC 2020)\n",
       "(EPL source distribution)\n",
       "Java Runtime: OpenJDK Runtime Environment\n",
       "JVM: OpenJDK 64-Bit Server VM\n",
       "Default Encoding: UTF-8\n",
       "Language: en\n",
       "Country: null\n",
       "--></g></svg>"
      ]
     },
     "execution_count": 53,
     "metadata": {},
     "output_type": "execute_result"
    }
   ],
   "source": [
    "%viz --style=\"ORTHOLINE\" --view=\"State\" \"ActionTest\""
   ]
  },
  {
   "cell_type": "code",
   "execution_count": 54,
   "id": "1cd94cfd",
   "metadata": {
    "execution": {
     "iopub.execute_input": "2021-05-27T06:08:04.504470Z",
     "iopub.status.busy": "2021-05-27T06:08:04.503811Z",
     "iopub.status.idle": "2021-05-27T06:08:04.541793Z",
     "shell.execute_reply": "2021-05-27T06:08:04.540530Z"
    }
   },
   "outputs": [
    {
     "data": {
      "image/svg+xml": [
       "<?xml version=\"1.0\" encoding=\"UTF-8\" standalone=\"no\"?><svg xmlns=\"http://www.w3.org/2000/svg\" xmlns:xlink=\"http://www.w3.org/1999/xlink\" contentScriptType=\"application/ecmascript\" contentStyleType=\"text/css\" height=\"462px\" preserveAspectRatio=\"none\" style=\"width:522px;height:462px;\" version=\"1.1\" viewBox=\"0 0 522 462\" width=\"522px\" zoomAndPan=\"magnify\"><defs/><g><!--MD5=[fbc87193dbaf4d95561dea2c320d4a47]\n",
       "cluster E1--><a href=\"psysml:fba87211-d6a8-40ff-8d47-80f3cbac0e83\" target=\"_top\" title=\"psysml:fba87211-d6a8-40ff-8d47-80f3cbac0e83\" xlink:actuate=\"onRequest\" xlink:href=\"psysml:fba87211-d6a8-40ff-8d47-80f3cbac0e83\" xlink:show=\"new\" xlink:title=\"psysml:fba87211-d6a8-40ff-8d47-80f3cbac0e83\" xlink:type=\"simple\"><polygon fill=\"#FFFFFF\" points=\"16,6,107,6,114,28.2969,500,28.2969,500,450.5,16,450.5,16,6\" style=\"stroke: #000000; stroke-width: 1.5;\"/><line style=\"stroke: #000000; stroke-width: 1.5;\" x1=\"16\" x2=\"114\" y1=\"28.2969\" y2=\"28.2969\"/><text fill=\"#000000\" font-family=\"sans-serif\" font-size=\"14\" font-weight=\"bold\" lengthAdjust=\"spacingAndGlyphs\" textLength=\"85\" x=\"20\" y=\"20.9951\">ActionTest</text></a><!--MD5=[d5e69f78d87373223dbae638b30a9c99]\n",
       "cluster E3--><a href=\"psysml:ad4f18e6-c096-4c58-bb62-14a597e4442d\" target=\"_top\" title=\"psysml:ad4f18e6-c096-4c58-bb62-14a597e4442d\" xlink:actuate=\"onRequest\" xlink:href=\"psysml:ad4f18e6-c096-4c58-bb62-14a597e4442d\" xlink:show=\"new\" xlink:title=\"psysml:ad4f18e6-c096-4c58-bb62-14a597e4442d\" xlink:type=\"simple\"><rect fill=\"#FFFFFF\" height=\"377.5\" id=\"E3\" rx=\"10\" ry=\"10\" style=\"stroke: #383838; stroke-width: 1.5;\" width=\"209\" x=\"267\" y=\"49\"/><rect fill=\"#F8F8F8\" height=\"37.9375\" rx=\"10\" ry=\"10\" style=\"stroke: #F8F8F8; stroke-width: 1.5;\" width=\"209\" x=\"267\" y=\"49\"/><rect fill=\"#F8F8F8\" height=\"10\" style=\"stroke: #F8F8F8; stroke-width: 1.5;\" width=\"209\" x=\"267\" y=\"76.9375\"/><rect fill=\"none\" height=\"377.5\" id=\"E3\" rx=\"10\" ry=\"10\" style=\"stroke: #383838; stroke-width: 1.5;\" width=\"209\" x=\"267\" y=\"49\"/><text fill=\"#000000\" font-family=\"sans-serif\" font-size=\"12\" font-style=\"italic\" lengthAdjust=\"spacingAndGlyphs\" textLength=\"53\" x=\"345\" y=\"65.1387\">«action»</text><text fill=\"#000000\" font-family=\"sans-serif\" font-size=\"12\" lengthAdjust=\"spacingAndGlyphs\" textLength=\"8\" x=\"367.5\" y=\"79.1074\">a</text><line style=\"stroke: #383838; stroke-width: 1.0;\" x1=\"267\" x2=\"476\" y1=\"86.9375\" y2=\"86.9375\"/></a><g id=\"E1.E2\"><a href=\"psysml:9e8a127b-f23f-41bc-b046-de56fba8ce50\" target=\"_top\" title=\"psysml:9e8a127b-f23f-41bc-b046-de56fba8ce50\" xlink:actuate=\"onRequest\" xlink:href=\"psysml:9e8a127b-f23f-41bc-b046-de56fba8ce50\" xlink:show=\"new\" xlink:title=\"psysml:9e8a127b-f23f-41bc-b046-de56fba8ce50\" xlink:type=\"simple\"><rect fill=\"#FFFFFF\" height=\"42.9375\" id=\"E2\" style=\"stroke: #383838; stroke-width: 1.5;\" width=\"100\" x=\"151\" y=\"88.5\"/><rect fill=\"#F8F8F8\" height=\"37.9375\" style=\"stroke: #383838; stroke-width: 1.5;\" width=\"100\" x=\"151\" y=\"88.5\"/><text fill=\"#000000\" font-family=\"sans-serif\" font-size=\"12\" font-style=\"italic\" lengthAdjust=\"spacingAndGlyphs\" textLength=\"93\" x=\"154.5\" y=\"104.6387\">«attribute def»</text><text fill=\"#000000\" font-family=\"sans-serif\" font-size=\"12\" lengthAdjust=\"spacingAndGlyphs\" textLength=\"8\" x=\"197\" y=\"118.6074\">S</text></a></g><polygon fill=\"#F8F8F8\" points=\"424,148.5,436,160.5,424,172.5,412,160.5,424,148.5\" style=\"stroke: #383838; stroke-width: 1.5;\"/><!--MD5=[21dd76c19d33815960c0e92fef8f0eef]\n",
       "entity E5--><a href=\"psysml:ccfba6f1-4ce0-4ddd-afd5-b866d68d47d7\" target=\"_top\" title=\"psysml:ccfba6f1-4ce0-4ddd-afd5-b866d68d47d7\" xlink:actuate=\"onRequest\" xlink:href=\"psysml:ccfba6f1-4ce0-4ddd-afd5-b866d68d47d7\" xlink:show=\"new\" xlink:title=\"psysml:ccfba6f1-4ce0-4ddd-afd5-b866d68d47d7\" xlink:type=\"simple\"><polygon fill=\"#F8F8F8\" points=\"283,189.5,283,244.0938,423,244.0938,403,216.7969,423,189.5\" style=\"stroke: #000000; stroke-width: 1.5;\"/><text fill=\"#000000\" font-family=\"sans-serif\" font-size=\"14\" font-style=\"italic\" lengthAdjust=\"spacingAndGlyphs\" textLength=\"111\" x=\"290\" y=\"212.4951\">«accept action»</text><text fill=\"#000000\" font-family=\"sans-serif\" font-size=\"14\" lengthAdjust=\"spacingAndGlyphs\" textLength=\"9\" x=\"341\" y=\"229.792\">S</text></a><!--MD5=[24d87cdf3002d433f401b2a2aa9f9f65]\n",
       "entity E6--><a href=\"psysml:f31bbeb6-49c7-47f4-9bac-592fafbdce16\" target=\"_top\" title=\"psysml:f31bbeb6-49c7-47f4-9bac-592fafbdce16\" xlink:actuate=\"onRequest\" xlink:href=\"psysml:f31bbeb6-49c7-47f4-9bac-592fafbdce16\" xlink:show=\"new\" xlink:title=\"psysml:f31bbeb6-49c7-47f4-9bac-592fafbdce16\" xlink:type=\"simple\"><polygon fill=\"#F8F8F8\" points=\"283,277.5,283,332.0938,391,332.0938,411,304.7969,391,277.5\" style=\"stroke: #000000; stroke-width: 1.5;\"/><text fill=\"#000000\" font-family=\"sans-serif\" font-size=\"14\" font-style=\"italic\" lengthAdjust=\"spacingAndGlyphs\" textLength=\"99\" x=\"290\" y=\"300.4951\">«send action»</text><text fill=\"#000000\" font-family=\"sans-serif\" font-size=\"14\" lengthAdjust=\"spacingAndGlyphs\" textLength=\"65\" x=\"307\" y=\"317.792\">S() to  B()</text></a><polygon fill=\"#F8F8F8\" points=\"422,349.5,434,361.5,422,373.5,410,361.5,422,349.5\" style=\"stroke: #383838; stroke-width: 1.5;\"/><ellipse cx=\"424\" cy=\"110\" fill=\"#000000\" rx=\"10\" ry=\"10\" style=\"stroke: none; stroke-width: 1.0;\"/><ellipse cx=\"422\" cy=\"400.5\" fill=\"none\" rx=\"10\" ry=\"10\" style=\"stroke: #000000; stroke-width: 1.0;\"/><ellipse cx=\"422.5\" cy=\"401\" fill=\"#000000\" rx=\"6\" ry=\"6\" style=\"stroke: none; stroke-width: 1.0;\"/><g id=\"E1.E8\"><a href=\"psysml:4eec70ee-61f4-4cab-8137-f00a9e5c8983\" target=\"_top\" title=\"psysml:4eec70ee-61f4-4cab-8137-f00a9e5c8983\" xlink:actuate=\"onRequest\" xlink:href=\"psysml:4eec70ee-61f4-4cab-8137-f00a9e5c8983\" xlink:show=\"new\" xlink:title=\"psysml:4eec70ee-61f4-4cab-8137-f00a9e5c8983\" xlink:type=\"simple\"><rect fill=\"#FFFFFF\" height=\"42.9375\" id=\"E8\" style=\"stroke: #383838; stroke-width: 1.5;\" width=\"84\" x=\"32\" y=\"88.5\"/><rect fill=\"#F8F8F8\" height=\"37.9375\" style=\"stroke: #383838; stroke-width: 1.5;\" width=\"84\" x=\"32\" y=\"88.5\"/><text fill=\"#000000\" font-family=\"sans-serif\" font-size=\"12\" font-style=\"italic\" lengthAdjust=\"spacingAndGlyphs\" textLength=\"77\" x=\"35.5\" y=\"104.6387\">«action def»</text><text fill=\"#000000\" font-family=\"sans-serif\" font-size=\"12\" lengthAdjust=\"spacingAndGlyphs\" textLength=\"8\" x=\"70\" y=\"118.6074\">B</text></a></g><!--MD5=[f47e10efcf9a6752d55dae986d790ed9]\n",
       "link *start*E3 to E4--><a href=\"psysml:03e50e83-6fc7-46a8-8453-213dc2aae23c\" target=\"_top\" title=\"psysml:03e50e83-6fc7-46a8-8453-213dc2aae23c\" xlink:actuate=\"onRequest\" xlink:href=\"psysml:03e50e83-6fc7-46a8-8453-213dc2aae23c\" xlink:show=\"new\" xlink:title=\"psysml:03e50e83-6fc7-46a8-8453-213dc2aae23c\" xlink:type=\"simple\"><path d=\"M424,120.22 C424,120.22 424,143.15 424,143.15 \" fill=\"none\" id=\"*start*E3-&gt;E4\" style=\"stroke: #383838; stroke-width: 1.0;\"/><polygon fill=\"#383838\" points=\"424,148.15,428,139.15,424,143.15,420,139.15,424,148.15\" style=\"stroke: #383838; stroke-width: 1.0;\"/></a><!--MD5=[d19f2eb34364d71b67042106d92f540b]\n",
       "link E7 to *end*E3--><a href=\"psysml:c4a668a6-d0f8-468f-9890-a338c2ee16ef\" target=\"_top\" title=\"psysml:c4a668a6-d0f8-468f-9890-a338c2ee16ef\" xlink:actuate=\"onRequest\" xlink:href=\"psysml:c4a668a6-d0f8-468f-9890-a338c2ee16ef\" xlink:show=\"new\" xlink:title=\"psysml:c4a668a6-d0f8-468f-9890-a338c2ee16ef\" xlink:type=\"simple\"><path d=\"M422,373.84 C422,373.84 422,385.46 422,385.46 \" fill=\"none\" id=\"E7-&gt;*end*E3\" style=\"stroke: #383838; stroke-width: 1.0;\"/><polygon fill=\"#383838\" points=\"422,390.46,426,381.46,422,385.46,418,381.46,422,390.46\" style=\"stroke: #383838; stroke-width: 1.0;\"/></a><!--MD5=[1b7591eae5389033d8d09a9d6721a717]\n",
       "link E4 to E5--><a href=\"psysml:f95480df-9a63-41d1-9e12-1ec6bb9c61dc\" target=\"_top\" title=\"psysml:f95480df-9a63-41d1-9e12-1ec6bb9c61dc\" xlink:actuate=\"onRequest\" xlink:href=\"psysml:f95480df-9a63-41d1-9e12-1ec6bb9c61dc\" xlink:show=\"new\" xlink:title=\"psysml:f95480df-9a63-41d1-9e12-1ec6bb9c61dc\" xlink:type=\"simple\"><path d=\"M417.5,166.12 C417.5,166.12 417.5,184.3 417.5,184.3 \" fill=\"none\" id=\"E4-&gt;E5\" style=\"stroke: #383838; stroke-width: 1.0;\"/><polygon fill=\"#383838\" points=\"417.5,189.3,421.5,180.3,417.5,184.3,413.5,180.3,417.5,189.3\" style=\"stroke: #383838; stroke-width: 1.0;\"/></a><!--MD5=[9120cf2e5df3bff93db8f754bbbc09b4]\n",
       "link E5 to E6--><a href=\"psysml:73484f54-b4d2-4298-bed2-8c418bf31093\" target=\"_top\" title=\"psysml:73484f54-b4d2-4298-bed2-8c418bf31093\" xlink:actuate=\"onRequest\" xlink:href=\"psysml:73484f54-b4d2-4298-bed2-8c418bf31093\" xlink:show=\"new\" xlink:title=\"psysml:73484f54-b4d2-4298-bed2-8c418bf31093\" xlink:type=\"simple\"><path d=\"M347,244.84 C347,244.84 347,272.34 347,272.34 \" fill=\"none\" id=\"E5-&gt;E6\" style=\"stroke: #383838; stroke-width: 1.0;\"/><polygon fill=\"#383838\" points=\"347,277.34,351,268.34,347,272.34,343,268.34,347,277.34\" style=\"stroke: #383838; stroke-width: 1.0;\"/></a><!--MD5=[02c70b7c851c11e3980e4e90450dc5dd]\n",
       "link E6 to E7--><a href=\"psysml:860bf181-ae5a-4d8b-9cc8-c19fc893dd3f\" target=\"_top\" title=\"psysml:860bf181-ae5a-4d8b-9cc8-c19fc893dd3f\" xlink:actuate=\"onRequest\" xlink:href=\"psysml:860bf181-ae5a-4d8b-9cc8-c19fc893dd3f\" xlink:show=\"new\" xlink:title=\"psysml:860bf181-ae5a-4d8b-9cc8-c19fc893dd3f\" xlink:type=\"simple\"><path d=\"M411.03,305.5 C414.74,305.5 417,305.5 417,305.5 C417,305.5 417,349.18 417,349.18 \" fill=\"none\" id=\"E6-&gt;E7\" style=\"stroke: #383838; stroke-width: 1.0;\"/><polygon fill=\"#383838\" points=\"417,354.18,421,345.18,417,349.18,413,345.18,417,354.18\" style=\"stroke: #383838; stroke-width: 1.0;\"/></a><!--MD5=[6bdd27f9905911a7e892a3dc65cf6b7c]\n",
       "link E7 to E4--><a href=\"psysml:227ffbe5-5fbb-4b69-bf2e-f462a1a2545e\" target=\"_top\" title=\"psysml:227ffbe5-5fbb-4b69-bf2e-f462a1a2545e\" xlink:actuate=\"onRequest\" xlink:href=\"psysml:227ffbe5-5fbb-4b69-bf2e-f462a1a2545e\" xlink:show=\"new\" xlink:title=\"psysml:227ffbe5-5fbb-4b69-bf2e-f462a1a2545e\" xlink:type=\"simple\"><path d=\"M428.5,355.7 C428.5,355.7 428.5,173.4 428.5,173.4 \" fill=\"none\" id=\"E7-&gt;E4\" style=\"stroke: #383838; stroke-width: 1.0;\"/><polygon fill=\"#383838\" points=\"428.5,168.4,424.5,177.4,428.5,173.4,432.5,177.4,428.5,168.4\" style=\"stroke: #383838; stroke-width: 1.0;\"/><text fill=\"#000000\" font-family=\"sans-serif\" font-size=\"13\" lengthAdjust=\"spacingAndGlyphs\" textLength=\"36\" x=\"423\" y=\"265.5669\">[true]</text></a><!--MD5=[0271b6dd297989e2d62a801b40153554]\n",
       "@startuml\r\n",
       "skinparam ranksep 10\r\n",
       "skinparam rectangle {\r\n",
       " backgroundColor<<block>> LightGreen\r\n",
       "}\r\n",
       "skinparam linetype ortho\r\n",
       "skinparam monochrome true\r\n",
       "skinparam classbackgroundcolor white\r\n",
       "skinparam shadowing false\r\n",
       "skinparam wrapWidth 300\r\n",
       "hide circle\r\n",
       "\r\n",
       "package \"ActionTest\" as E1  [[psysml:fba87211-d6a8-40ff-8d47-80f3cbac0e83 ]]  {\r\n",
       "def \"S\" as E2  <<(T,blue)attribute def>> [[psysml:9e8a127b-f23f-41bc-b046-de56fba8ce50 ]] \r\n",
       "rec usage \"a\" as E3  <<(T,blue)action>> [[psysml:ad4f18e6-c096-4c58-bb62-14a597e4442d ]] {\r\n",
       "choice \"m\" as E4  [[psysml:e85a3052-7a7b-4311-97f8-bb0216d1246f ]] \r\n",
       "accept \" S\" as E5 <<accept action>> [[psysml:ccfba6f1-4ce0-4ddd-afd5-b866d68d47d7 ]] \r\n",
       "send \" S() to  B()\" as E6 <<send action>> [[psysml:f31bbeb6-49c7-47f4-9bac-592fafbdce16 ]] \r\n",
       "choice \"noname\" as E7  [[psysml:7507dc2c-9b39-4c30-b0ef-dd6a627e8c4c ]] \r\n",
       "[*] - -> E4 [[psysml:03e50e83-6fc7-46a8-8453-213dc2aae23c ]] \r\n",
       "E7  - -> [*] [[psysml:c4a668a6-d0f8-468f-9890-a338c2ee16ef ]] \r\n",
       "}\r\n",
       "\r\n",
       "rec def \"B\" as E8  <<(T,blue)action def>> [[psysml:4eec70ee-61f4-4cab-8137-f00a9e5c8983 ]] {\r\n",
       "}\r\n",
       "\r\n",
       "E4 - -> E5 [[psysml:f95480df-9a63-41d1-9e12-1ec6bb9c61dc ]] \r\n",
       "E5 - -> E6 [[psysml:73484f54-b4d2-4298-bed2-8c418bf31093 ]] \r\n",
       "E6 - -> E7 [[psysml:860bf181-ae5a-4d8b-9cc8-c19fc893dd3f ]] \r\n",
       "E7  - -> E4 [[psysml:227ffbe5-5fbb-4b69-bf2e-f462a1a2545e ]] : [true]\r\n",
       "}\r\n",
       "@enduml\r\n",
       "\n",
       "PlantUML version 1.2020.13(Sat Jun 13 12:26:38 UTC 2020)\n",
       "(EPL source distribution)\n",
       "Java Runtime: OpenJDK Runtime Environment\n",
       "JVM: OpenJDK 64-Bit Server VM\n",
       "Default Encoding: UTF-8\n",
       "Language: en\n",
       "Country: null\n",
       "--></g></svg>"
      ]
     },
     "execution_count": 54,
     "metadata": {},
     "output_type": "execute_result"
    }
   ],
   "source": [
    "%viz --style=\"ORTHOLINE\" --view=\"Interconnection\" \"ActionTest\""
   ]
  },
  {
   "cell_type": "code",
   "execution_count": 55,
   "id": "e3aa46e6",
   "metadata": {
    "execution": {
     "iopub.execute_input": "2021-05-27T06:08:04.591781Z",
     "iopub.status.busy": "2021-05-27T06:08:04.591436Z",
     "iopub.status.idle": "2021-05-27T06:08:04.624820Z",
     "shell.execute_reply": "2021-05-27T06:08:04.623613Z"
    }
   },
   "outputs": [
    {
     "data": {
      "image/svg+xml": [
       "<?xml version=\"1.0\" encoding=\"UTF-8\" standalone=\"no\"?><svg xmlns=\"http://www.w3.org/2000/svg\" xmlns:xlink=\"http://www.w3.org/1999/xlink\" contentScriptType=\"application/ecmascript\" contentStyleType=\"text/css\" height=\"395px\" preserveAspectRatio=\"none\" style=\"width:328px;height:395px;\" version=\"1.1\" viewBox=\"0 0 328 395\" width=\"328px\" zoomAndPan=\"magnify\"><defs/><g><!--MD5=[fbc87193dbaf4d95561dea2c320d4a47]\n",
       "cluster E1--><a href=\"psysml:ad4f18e6-c096-4c58-bb62-14a597e4442d\" target=\"_top\" title=\"psysml:ad4f18e6-c096-4c58-bb62-14a597e4442d\" xlink:actuate=\"onRequest\" xlink:href=\"psysml:ad4f18e6-c096-4c58-bb62-14a597e4442d\" xlink:show=\"new\" xlink:title=\"psysml:ad4f18e6-c096-4c58-bb62-14a597e4442d\" xlink:type=\"simple\"><rect fill=\"#FFFFFF\" height=\"377.5\" id=\"E1\" rx=\"10\" ry=\"10\" style=\"stroke: #383838; stroke-width: 1.5;\" width=\"209\" x=\"107\" y=\"7\"/><rect fill=\"#F8F8F8\" height=\"37.9375\" rx=\"10\" ry=\"10\" style=\"stroke: #F8F8F8; stroke-width: 1.5;\" width=\"209\" x=\"107\" y=\"7\"/><rect fill=\"#F8F8F8\" height=\"10\" style=\"stroke: #F8F8F8; stroke-width: 1.5;\" width=\"209\" x=\"107\" y=\"34.9375\"/><rect fill=\"none\" height=\"377.5\" id=\"E1\" rx=\"10\" ry=\"10\" style=\"stroke: #383838; stroke-width: 1.5;\" width=\"209\" x=\"107\" y=\"7\"/><text fill=\"#000000\" font-family=\"sans-serif\" font-size=\"12\" font-style=\"italic\" lengthAdjust=\"spacingAndGlyphs\" textLength=\"53\" x=\"185\" y=\"23.1387\">«action»</text><text fill=\"#000000\" font-family=\"sans-serif\" font-size=\"12\" lengthAdjust=\"spacingAndGlyphs\" textLength=\"8\" x=\"207.5\" y=\"37.1074\">a</text><line style=\"stroke: #383838; stroke-width: 1.0;\" x1=\"107\" x2=\"316\" y1=\"44.9375\" y2=\"44.9375\"/></a><polygon fill=\"#F8F8F8\" points=\"264,106.5,276,118.5,264,130.5,252,118.5,264,106.5\" style=\"stroke: #383838; stroke-width: 1.5;\"/><!--MD5=[a60fb756f580feb9fd8e2cf1329b5c91]\n",
       "entity E3--><a href=\"psysml:ccfba6f1-4ce0-4ddd-afd5-b866d68d47d7\" target=\"_top\" title=\"psysml:ccfba6f1-4ce0-4ddd-afd5-b866d68d47d7\" xlink:actuate=\"onRequest\" xlink:href=\"psysml:ccfba6f1-4ce0-4ddd-afd5-b866d68d47d7\" xlink:show=\"new\" xlink:title=\"psysml:ccfba6f1-4ce0-4ddd-afd5-b866d68d47d7\" xlink:type=\"simple\"><polygon fill=\"#F8F8F8\" points=\"123,147.5,123,202.0938,263,202.0938,243,174.7969,263,147.5\" style=\"stroke: #000000; stroke-width: 1.5;\"/><text fill=\"#000000\" font-family=\"sans-serif\" font-size=\"14\" font-style=\"italic\" lengthAdjust=\"spacingAndGlyphs\" textLength=\"111\" x=\"130\" y=\"170.4951\">«accept action»</text><text fill=\"#000000\" font-family=\"sans-serif\" font-size=\"14\" lengthAdjust=\"spacingAndGlyphs\" textLength=\"9\" x=\"181\" y=\"187.792\">S</text></a><!--MD5=[961cefdc15414eaa3e87aec9d17c2188]\n",
       "entity E4--><a href=\"psysml:f31bbeb6-49c7-47f4-9bac-592fafbdce16\" target=\"_top\" title=\"psysml:f31bbeb6-49c7-47f4-9bac-592fafbdce16\" xlink:actuate=\"onRequest\" xlink:href=\"psysml:f31bbeb6-49c7-47f4-9bac-592fafbdce16\" xlink:show=\"new\" xlink:title=\"psysml:f31bbeb6-49c7-47f4-9bac-592fafbdce16\" xlink:type=\"simple\"><polygon fill=\"#F8F8F8\" points=\"123,235.5,123,290.0938,231,290.0938,251,262.7969,231,235.5\" style=\"stroke: #000000; stroke-width: 1.5;\"/><text fill=\"#000000\" font-family=\"sans-serif\" font-size=\"14\" font-style=\"italic\" lengthAdjust=\"spacingAndGlyphs\" textLength=\"99\" x=\"130\" y=\"258.4951\">«send action»</text><text fill=\"#000000\" font-family=\"sans-serif\" font-size=\"14\" lengthAdjust=\"spacingAndGlyphs\" textLength=\"65\" x=\"147\" y=\"275.792\">S() to  B()</text></a><polygon fill=\"#F8F8F8\" points=\"262,307.5,274,319.5,262,331.5,250,319.5,262,307.5\" style=\"stroke: #383838; stroke-width: 1.5;\"/><ellipse cx=\"264\" cy=\"68\" fill=\"#000000\" rx=\"10\" ry=\"10\" style=\"stroke: none; stroke-width: 1.0;\"/><ellipse cx=\"262\" cy=\"358.5\" fill=\"none\" rx=\"10\" ry=\"10\" style=\"stroke: #000000; stroke-width: 1.0;\"/><ellipse cx=\"262.5\" cy=\"359\" fill=\"#000000\" rx=\"6\" ry=\"6\" style=\"stroke: none; stroke-width: 1.0;\"/><g id=\"E6\"><a href=\"psysml:4eec70ee-61f4-4cab-8137-f00a9e5c8983\" target=\"_top\" title=\"psysml:4eec70ee-61f4-4cab-8137-f00a9e5c8983\" xlink:actuate=\"onRequest\" xlink:href=\"psysml:4eec70ee-61f4-4cab-8137-f00a9e5c8983\" xlink:show=\"new\" xlink:title=\"psysml:4eec70ee-61f4-4cab-8137-f00a9e5c8983\" xlink:type=\"simple\"><rect fill=\"#FFFFFF\" height=\"42.9375\" id=\"E6\" style=\"stroke: #383838; stroke-width: 1.5;\" width=\"84\" x=\"7\" y=\"46.5\"/><rect fill=\"#F8F8F8\" height=\"37.9375\" style=\"stroke: #383838; stroke-width: 1.5;\" width=\"84\" x=\"7\" y=\"46.5\"/><text fill=\"#000000\" font-family=\"sans-serif\" font-size=\"12\" font-style=\"italic\" lengthAdjust=\"spacingAndGlyphs\" textLength=\"77\" x=\"10.5\" y=\"62.6387\">«action def»</text><text fill=\"#000000\" font-family=\"sans-serif\" font-size=\"12\" lengthAdjust=\"spacingAndGlyphs\" textLength=\"8\" x=\"45\" y=\"76.6074\">B</text></a></g><!--MD5=[cff944eb183b832d446717a4e202d613]\n",
       "link *start*E1 to E2--><a href=\"psysml:03e50e83-6fc7-46a8-8453-213dc2aae23c\" target=\"_top\" title=\"psysml:03e50e83-6fc7-46a8-8453-213dc2aae23c\" xlink:actuate=\"onRequest\" xlink:href=\"psysml:03e50e83-6fc7-46a8-8453-213dc2aae23c\" xlink:show=\"new\" xlink:title=\"psysml:03e50e83-6fc7-46a8-8453-213dc2aae23c\" xlink:type=\"simple\"><path d=\"M264,78.22 C264,78.22 264,101.15 264,101.15 \" fill=\"none\" id=\"*start*E1-&gt;E2\" style=\"stroke: #383838; stroke-width: 1.0; stroke-dasharray: 7.0,7.0;\"/><polygon fill=\"#383838\" points=\"264,106.15,268,97.15,264,101.15,260,97.15,264,106.15\" style=\"stroke: #383838; stroke-width: 1.0;\"/></a><!--MD5=[7fc47fc0d107820853a137871ad908c8]\n",
       "link E5 to *end*E1--><a href=\"psysml:c4a668a6-d0f8-468f-9890-a338c2ee16ef\" target=\"_top\" title=\"psysml:c4a668a6-d0f8-468f-9890-a338c2ee16ef\" xlink:actuate=\"onRequest\" xlink:href=\"psysml:c4a668a6-d0f8-468f-9890-a338c2ee16ef\" xlink:show=\"new\" xlink:title=\"psysml:c4a668a6-d0f8-468f-9890-a338c2ee16ef\" xlink:type=\"simple\"><path d=\"M262,331.84 C262,331.84 262,343.46 262,343.46 \" fill=\"none\" id=\"E5-&gt;*end*E1\" style=\"stroke: #383838; stroke-width: 1.0; stroke-dasharray: 7.0,7.0;\"/><polygon fill=\"#383838\" points=\"262,348.46,266,339.46,262,343.46,258,339.46,262,348.46\" style=\"stroke: #383838; stroke-width: 1.0;\"/></a><!--MD5=[2720a5a1f2c3fca2055b230370638851]\n",
       "link E2 to E3--><a href=\"psysml:f95480df-9a63-41d1-9e12-1ec6bb9c61dc\" target=\"_top\" title=\"psysml:f95480df-9a63-41d1-9e12-1ec6bb9c61dc\" xlink:actuate=\"onRequest\" xlink:href=\"psysml:f95480df-9a63-41d1-9e12-1ec6bb9c61dc\" xlink:show=\"new\" xlink:title=\"psysml:f95480df-9a63-41d1-9e12-1ec6bb9c61dc\" xlink:type=\"simple\"><path d=\"M257.5,124.12 C257.5,124.12 257.5,142.3 257.5,142.3 \" fill=\"none\" id=\"E2-&gt;E3\" style=\"stroke: #383838; stroke-width: 1.0; stroke-dasharray: 7.0,7.0;\"/><polygon fill=\"#383838\" points=\"257.5,147.3,261.5,138.3,257.5,142.3,253.5,138.3,257.5,147.3\" style=\"stroke: #383838; stroke-width: 1.0;\"/></a><!--MD5=[af87c684e3b0d8be13c1a698a818ef1e]\n",
       "link E3 to E4--><a href=\"psysml:73484f54-b4d2-4298-bed2-8c418bf31093\" target=\"_top\" title=\"psysml:73484f54-b4d2-4298-bed2-8c418bf31093\" xlink:actuate=\"onRequest\" xlink:href=\"psysml:73484f54-b4d2-4298-bed2-8c418bf31093\" xlink:show=\"new\" xlink:title=\"psysml:73484f54-b4d2-4298-bed2-8c418bf31093\" xlink:type=\"simple\"><path d=\"M187,202.84 C187,202.84 187,230.34 187,230.34 \" fill=\"none\" id=\"E3-&gt;E4\" style=\"stroke: #383838; stroke-width: 1.0; stroke-dasharray: 7.0,7.0;\"/><polygon fill=\"#383838\" points=\"187,235.34,191,226.34,187,230.34,183,226.34,187,235.34\" style=\"stroke: #383838; stroke-width: 1.0;\"/></a><!--MD5=[1b7591eae5389033d8d09a9d6721a717]\n",
       "link E4 to E5--><a href=\"psysml:860bf181-ae5a-4d8b-9cc8-c19fc893dd3f\" target=\"_top\" title=\"psysml:860bf181-ae5a-4d8b-9cc8-c19fc893dd3f\" xlink:actuate=\"onRequest\" xlink:href=\"psysml:860bf181-ae5a-4d8b-9cc8-c19fc893dd3f\" xlink:show=\"new\" xlink:title=\"psysml:860bf181-ae5a-4d8b-9cc8-c19fc893dd3f\" xlink:type=\"simple\"><path d=\"M251.03,263.5 C254.74,263.5 257,263.5 257,263.5 C257,263.5 257,307.18 257,307.18 \" fill=\"none\" id=\"E4-&gt;E5\" style=\"stroke: #383838; stroke-width: 1.0; stroke-dasharray: 7.0,7.0;\"/><polygon fill=\"#383838\" points=\"257,312.18,261,303.18,257,307.18,253,303.18,257,312.18\" style=\"stroke: #383838; stroke-width: 1.0;\"/></a><!--MD5=[15ebcb19ae302d9b601edb458606d402]\n",
       "link E5 to E2--><a href=\"psysml:227ffbe5-5fbb-4b69-bf2e-f462a1a2545e\" target=\"_top\" title=\"psysml:227ffbe5-5fbb-4b69-bf2e-f462a1a2545e\" xlink:actuate=\"onRequest\" xlink:href=\"psysml:227ffbe5-5fbb-4b69-bf2e-f462a1a2545e\" xlink:show=\"new\" xlink:title=\"psysml:227ffbe5-5fbb-4b69-bf2e-f462a1a2545e\" xlink:type=\"simple\"><path d=\"M268.5,313.7 C268.5,313.7 268.5,131.4 268.5,131.4 \" fill=\"none\" id=\"E5-&gt;E2\" style=\"stroke: #383838; stroke-width: 1.0; stroke-dasharray: 7.0,7.0;\"/><polygon fill=\"#383838\" points=\"268.5,126.4,264.5,135.4,268.5,131.4,272.5,135.4,268.5,126.4\" style=\"stroke: #383838; stroke-width: 1.0;\"/><text fill=\"#000000\" font-family=\"sans-serif\" font-size=\"13\" lengthAdjust=\"spacingAndGlyphs\" textLength=\"36\" x=\"263\" y=\"223.5669\">[true]</text></a><!--MD5=[ca1226e32c2826512696781416a221f2]\n",
       "@startuml\r\n",
       "skinparam ranksep 8\r\n",
       "skinparam linetype ortho\r\n",
       "skinparam monochrome true\r\n",
       "skinparam classbackgroundcolor white\r\n",
       "skinparam shadowing false\r\n",
       "skinparam wrapWidth 300\r\n",
       "hide circle\r\n",
       "\r\n",
       "rec usage \"a\" as E1  <<(T,blue)action>> [[psysml:ad4f18e6-c096-4c58-bb62-14a597e4442d ]] {\r\n",
       "choice \"m\" as E2  [[psysml:e85a3052-7a7b-4311-97f8-bb0216d1246f ]] \r\n",
       "accept \" S\" as E3 <<accept action>> [[psysml:ccfba6f1-4ce0-4ddd-afd5-b866d68d47d7 ]] \r\n",
       "send \" S() to  B()\" as E4 <<send action>> [[psysml:f31bbeb6-49c7-47f4-9bac-592fafbdce16 ]] \r\n",
       "choice \"noname\" as E5  [[psysml:7507dc2c-9b39-4c30-b0ef-dd6a627e8c4c ]] \r\n",
       "[*] ..> E2 [[psysml:03e50e83-6fc7-46a8-8453-213dc2aae23c ]] \r\n",
       "E5 ..> [*] [[psysml:c4a668a6-d0f8-468f-9890-a338c2ee16ef ]] \r\n",
       "}\r\n",
       "\r\n",
       "E2 ..> E3 [[psysml:f95480df-9a63-41d1-9e12-1ec6bb9c61dc ]] \r\n",
       "E3 ..> E4 [[psysml:73484f54-b4d2-4298-bed2-8c418bf31093 ]] \r\n",
       "E4 ..> E5 [[psysml:860bf181-ae5a-4d8b-9cc8-c19fc893dd3f ]] \r\n",
       "E5 ..> E2 [[psysml:227ffbe5-5fbb-4b69-bf2e-f462a1a2545e ]] : [true]\r\n",
       "rec def \"B\" as E6  <<(T,blue)action def>> [[psysml:4eec70ee-61f4-4cab-8137-f00a9e5c8983 ]] {\r\n",
       "}\r\n",
       "\r\n",
       "@enduml\r\n",
       "\n",
       "PlantUML version 1.2020.13(Sat Jun 13 12:26:38 UTC 2020)\n",
       "(EPL source distribution)\n",
       "Java Runtime: OpenJDK Runtime Environment\n",
       "JVM: OpenJDK 64-Bit Server VM\n",
       "Default Encoding: UTF-8\n",
       "Language: en\n",
       "Country: null\n",
       "--></g></svg>"
      ]
     },
     "execution_count": 55,
     "metadata": {},
     "output_type": "execute_result"
    }
   ],
   "source": [
    "%viz --style=\"ORTHOLINE\" --view=\"Action\" \"ActionTest\""
   ]
  },
  {
   "cell_type": "code",
   "execution_count": 56,
   "id": "0b369956",
   "metadata": {
    "execution": {
     "iopub.execute_input": "2021-05-27T06:08:04.677281Z",
     "iopub.status.busy": "2021-05-27T06:08:04.676427Z",
     "iopub.status.idle": "2021-05-27T06:08:04.731781Z",
     "shell.execute_reply": "2021-05-27T06:08:04.730615Z"
    }
   },
   "outputs": [
    {
     "data": {
      "image/svg+xml": [
       "<?xml version=\"1.0\" encoding=\"UTF-8\" standalone=\"no\"?><svg xmlns=\"http://www.w3.org/2000/svg\" xmlns:xlink=\"http://www.w3.org/1999/xlink\" contentScriptType=\"application/ecmascript\" contentStyleType=\"text/css\" height=\"187px\" preserveAspectRatio=\"none\" style=\"width:475px;height:187px;\" version=\"1.1\" viewBox=\"0 0 475 187\" width=\"475px\" zoomAndPan=\"magnify\"><defs/><g><!--MD5=[fbc87193dbaf4d95561dea2c320d4a47]\n",
       "cluster E1--><a href=\"psysml:fba87211-d6a8-40ff-8d47-80f3cbac0e83\" target=\"_top\" title=\"psysml:fba87211-d6a8-40ff-8d47-80f3cbac0e83\" xlink:actuate=\"onRequest\" xlink:href=\"psysml:fba87211-d6a8-40ff-8d47-80f3cbac0e83\" xlink:show=\"new\" xlink:title=\"psysml:fba87211-d6a8-40ff-8d47-80f3cbac0e83\" xlink:type=\"simple\"><polygon fill=\"#FFFFFF\" points=\"16,6,107,6,114,28.2969,453,28.2969,453,175,16,175,16,6\" style=\"stroke: #000000; stroke-width: 1.5;\"/><line style=\"stroke: #000000; stroke-width: 1.5;\" x1=\"16\" x2=\"114\" y1=\"28.2969\" y2=\"28.2969\"/><text fill=\"#000000\" font-family=\"sans-serif\" font-size=\"14\" font-weight=\"bold\" lengthAdjust=\"spacingAndGlyphs\" textLength=\"85\" x=\"20\" y=\"20.9951\">ActionTest</text></a><!--MD5=[b4997ac47864f28c2f74865a473b2911]\n",
       "class E2--><a href=\"psysml:9e8a127b-f23f-41bc-b046-de56fba8ce50\" target=\"_top\" title=\"psysml:9e8a127b-f23f-41bc-b046-de56fba8ce50\" xlink:actuate=\"onRequest\" xlink:href=\"psysml:9e8a127b-f23f-41bc-b046-de56fba8ce50\" xlink:show=\"new\" xlink:title=\"psysml:9e8a127b-f23f-41bc-b046-de56fba8ce50\" xlink:type=\"simple\"><rect fill=\"#FFFFFF\" height=\"45.9375\" id=\"E2\" style=\"stroke: #383838; stroke-width: 1.5;\" width=\"95\" x=\"341.5\" y=\"77\"/><text fill=\"#000000\" font-family=\"sans-serif\" font-size=\"12\" font-style=\"italic\" lengthAdjust=\"spacingAndGlyphs\" textLength=\"93\" x=\"342.5\" y=\"93.1387\">«attribute def»</text><text fill=\"#000000\" font-family=\"sans-serif\" font-size=\"12\" lengthAdjust=\"spacingAndGlyphs\" textLength=\"8\" x=\"385\" y=\"107.1074\">S</text><line style=\"stroke: #383838; stroke-width: 1.5;\" x1=\"342.5\" x2=\"435.5\" y1=\"114.9375\" y2=\"114.9375\"/></a><!--MD5=[09b614a08d8cba4a07c9adeb5e0fee81]\n",
       "class E3--><a href=\"psysml:ad4f18e6-c096-4c58-bb62-14a597e4442d\" target=\"_top\" title=\"psysml:ad4f18e6-c096-4c58-bb62-14a597e4442d\" xlink:actuate=\"onRequest\" xlink:href=\"psysml:ad4f18e6-c096-4c58-bb62-14a597e4442d\" xlink:show=\"new\" xlink:title=\"psysml:ad4f18e6-c096-4c58-bb62-14a597e4442d\" xlink:type=\"simple\"><rect fill=\"#FFFFFF\" height=\"117.9609\" id=\"E3\" rx=\"10\" ry=\"10\" style=\"stroke: #383838; stroke-width: 1.5;\" width=\"160\" x=\"146\" y=\"41\"/><text fill=\"#000000\" font-family=\"sans-serif\" font-size=\"12\" font-style=\"italic\" lengthAdjust=\"spacingAndGlyphs\" textLength=\"53\" x=\"199.5\" y=\"57.1387\">«action»</text><text fill=\"#000000\" font-family=\"sans-serif\" font-size=\"12\" lengthAdjust=\"spacingAndGlyphs\" textLength=\"8\" x=\"222\" y=\"71.1074\">a</text><line style=\"stroke: #383838; stroke-width: 1.5;\" x1=\"147\" x2=\"305\" y1=\"78.9375\" y2=\"78.9375\"/><text fill=\"#000000\" font-family=\"sans-serif\" font-size=\"11\" lengthAdjust=\"spacingAndGlyphs\" textLength=\"69\" x=\"152\" y=\"109.9526\">start: Action</text><text fill=\"#000000\" font-family=\"sans-serif\" font-size=\"11\" font-style=\"italic\" lengthAdjust=\"spacingAndGlyphs\" textLength=\"148\" x=\"152\" y=\"122.7573\">:&gt;&gt;Occurrence::startShot</text><line style=\"stroke: #383838; stroke-width: 1.0;\" x1=\"147\" x2=\"205.5\" y1=\"93.3398\" y2=\"93.3398\"/><text fill=\"#000000\" font-family=\"sans-serif\" font-size=\"11\" lengthAdjust=\"spacingAndGlyphs\" textLength=\"41\" x=\"205.5\" y=\"96.6479\">actions</text><line style=\"stroke: #383838; stroke-width: 1.0;\" x1=\"246.5\" x2=\"305\" y1=\"93.3398\" y2=\"93.3398\"/><text fill=\"#000000\" font-family=\"sans-serif\" font-size=\"11\" lengthAdjust=\"spacingAndGlyphs\" textLength=\"11\" x=\"152\" y=\"152.3667\">m</text><line style=\"stroke: #383838; stroke-width: 1.0;\" x1=\"147\" x2=\"189.5\" y1=\"135.7539\" y2=\"135.7539\"/><text fill=\"#000000\" font-family=\"sans-serif\" font-size=\"11\" lengthAdjust=\"spacingAndGlyphs\" textLength=\"73\" x=\"189.5\" y=\"139.062\">mergeNodes</text><line style=\"stroke: #383838; stroke-width: 1.0;\" x1=\"262.5\" x2=\"305\" y1=\"135.7539\" y2=\"135.7539\"/></a><!--MD5=[60a26617385b1d2d0262a64233df1f8d]\n",
       "class E6--><a href=\"psysml:4eec70ee-61f4-4cab-8137-f00a9e5c8983\" target=\"_top\" title=\"psysml:4eec70ee-61f4-4cab-8137-f00a9e5c8983\" xlink:actuate=\"onRequest\" xlink:href=\"psysml:4eec70ee-61f4-4cab-8137-f00a9e5c8983\" xlink:show=\"new\" xlink:title=\"psysml:4eec70ee-61f4-4cab-8137-f00a9e5c8983\" xlink:type=\"simple\"><rect fill=\"#FFFFFF\" height=\"45.9375\" id=\"E6\" style=\"stroke: #383838; stroke-width: 1.5;\" width=\"79\" x=\"31.5\" y=\"77\"/><text fill=\"#000000\" font-family=\"sans-serif\" font-size=\"12\" font-style=\"italic\" lengthAdjust=\"spacingAndGlyphs\" textLength=\"77\" x=\"32.5\" y=\"93.1387\">«action def»</text><text fill=\"#000000\" font-family=\"sans-serif\" font-size=\"12\" lengthAdjust=\"spacingAndGlyphs\" textLength=\"8\" x=\"67\" y=\"107.1074\">B</text><line style=\"stroke: #383838; stroke-width: 1.5;\" x1=\"32.5\" x2=\"109.5\" y1=\"114.9375\" y2=\"114.9375\"/></a><!--MD5=[60033a4facde3e40538e5ff7773041ad]\n",
       "@startuml\r\n",
       "skinparam linetype ortho\r\n",
       "skinparam monochrome true\r\n",
       "skinparam classbackgroundcolor white\r\n",
       "skinparam shadowing false\r\n",
       "skinparam wrapWidth 300\r\n",
       "hide circle\r\n",
       "\r\n",
       "package \"ActionTest\" as E1  [[psysml:fba87211-d6a8-40ff-8d47-80f3cbac0e83 ]]  {\r\n",
       "comp def \"S\" as E2  <<(T,blue)attribute def>> [[psysml:9e8a127b-f23f-41bc-b046-de56fba8ce50 ]] {\r\n",
       "}\r\n",
       "comp usage \"a\" as E3  <<(T,blue)action>> [[psysml:ad4f18e6-c096-4c58-bb62-14a597e4442d ]] {\r\n",
       "- - actions - -\r\n",
       "start: Action\\n//:>>Occurrence::startShot// \r\n",
       "- - mergeNodes - -\r\n",
       "m\r\n",
       "}\r\n",
       "comp def \"B\" as E6  <<(T,blue)action def>> [[psysml:4eec70ee-61f4-4cab-8137-f00a9e5c8983 ]] {\r\n",
       "}\r\n",
       "}\r\n",
       "@enduml\r\n",
       "\n",
       "PlantUML version 1.2020.13(Sat Jun 13 12:26:38 UTC 2020)\n",
       "(EPL source distribution)\n",
       "Java Runtime: OpenJDK Runtime Environment\n",
       "JVM: OpenJDK 64-Bit Server VM\n",
       "Default Encoding: UTF-8\n",
       "Language: en\n",
       "Country: null\n",
       "--></g></svg>"
      ]
     },
     "execution_count": 56,
     "metadata": {},
     "output_type": "execute_result"
    }
   ],
   "source": [
    "%viz --style=\"ORTHOLINE\" --view=\"Sequence\" \"ActionTest\""
   ]
  },
  {
   "cell_type": "code",
   "execution_count": 57,
   "id": "e1d7b055",
   "metadata": {
    "execution": {
     "iopub.execute_input": "2021-05-27T06:08:04.785066Z",
     "iopub.status.busy": "2021-05-27T06:08:04.784191Z",
     "iopub.status.idle": "2021-05-27T06:08:04.823343Z",
     "shell.execute_reply": "2021-05-27T06:08:04.822018Z"
    }
   },
   "outputs": [
    {
     "data": {
      "image/svg+xml": [
       "<?xml version=\"1.0\" encoding=\"UTF-8\" standalone=\"no\"?><svg xmlns=\"http://www.w3.org/2000/svg\" xmlns:xlink=\"http://www.w3.org/1999/xlink\" contentScriptType=\"application/ecmascript\" contentStyleType=\"text/css\" height=\"684px\" preserveAspectRatio=\"none\" style=\"width:518px;height:684px;\" version=\"1.1\" viewBox=\"0 0 518 684\" width=\"518px\" zoomAndPan=\"magnify\"><defs/><g><!--MD5=[fbc87193dbaf4d95561dea2c320d4a47]\n",
       "cluster E1--><a href=\"psysml:fba87211-d6a8-40ff-8d47-80f3cbac0e83\" target=\"_top\" title=\"psysml:fba87211-d6a8-40ff-8d47-80f3cbac0e83\" xlink:actuate=\"onRequest\" xlink:href=\"psysml:fba87211-d6a8-40ff-8d47-80f3cbac0e83\" xlink:show=\"new\" xlink:title=\"psysml:fba87211-d6a8-40ff-8d47-80f3cbac0e83\" xlink:type=\"simple\"><polygon fill=\"#FFFFFF\" points=\"16,6,107,6,114,28.2969,496,28.2969,496,672,16,672,16,6\" style=\"stroke: #000000; stroke-width: 1.5;\"/><line style=\"stroke: #000000; stroke-width: 1.5;\" x1=\"16\" x2=\"114\" y1=\"28.2969\" y2=\"28.2969\"/><text fill=\"#000000\" font-family=\"sans-serif\" font-size=\"14\" font-weight=\"bold\" lengthAdjust=\"spacingAndGlyphs\" textLength=\"85\" x=\"20\" y=\"20.9951\">ActionTest</text></a><!--MD5=[d5e69f78d87373223dbae638b30a9c99]\n",
       "cluster E3--><a href=\"psysml:ad4f18e6-c096-4c58-bb62-14a597e4442d\" target=\"_top\" title=\"psysml:ad4f18e6-c096-4c58-bb62-14a597e4442d\" xlink:actuate=\"onRequest\" xlink:href=\"psysml:ad4f18e6-c096-4c58-bb62-14a597e4442d\" xlink:show=\"new\" xlink:title=\"psysml:ad4f18e6-c096-4c58-bb62-14a597e4442d\" xlink:type=\"simple\"><rect fill=\"#FFFFFF\" height=\"599\" id=\"E3\" rx=\"10\" ry=\"10\" style=\"stroke: #383838; stroke-width: 1.5;\" width=\"209\" x=\"263\" y=\"49\"/><rect fill=\"#F8F8F8\" height=\"37.9375\" rx=\"10\" ry=\"10\" style=\"stroke: #F8F8F8; stroke-width: 1.5;\" width=\"209\" x=\"263\" y=\"49\"/><rect fill=\"#F8F8F8\" height=\"10\" style=\"stroke: #F8F8F8; stroke-width: 1.5;\" width=\"209\" x=\"263\" y=\"76.9375\"/><rect fill=\"none\" height=\"599\" id=\"E3\" rx=\"10\" ry=\"10\" style=\"stroke: #383838; stroke-width: 1.5;\" width=\"209\" x=\"263\" y=\"49\"/><text fill=\"#000000\" font-family=\"sans-serif\" font-size=\"12\" font-style=\"italic\" lengthAdjust=\"spacingAndGlyphs\" textLength=\"53\" x=\"341\" y=\"65.1387\">«action»</text><text fill=\"#000000\" font-family=\"sans-serif\" font-size=\"12\" lengthAdjust=\"spacingAndGlyphs\" textLength=\"8\" x=\"363.5\" y=\"79.1074\">a</text><line style=\"stroke: #383838; stroke-width: 1.0;\" x1=\"263\" x2=\"472\" y1=\"86.9375\" y2=\"86.9375\"/></a><!--MD5=[b4997ac47864f28c2f74865a473b2911]\n",
       "class E2--><a href=\"psysml:9e8a127b-f23f-41bc-b046-de56fba8ce50\" target=\"_top\" title=\"psysml:9e8a127b-f23f-41bc-b046-de56fba8ce50\" xlink:actuate=\"onRequest\" xlink:href=\"psysml:9e8a127b-f23f-41bc-b046-de56fba8ce50\" xlink:show=\"new\" xlink:title=\"psysml:9e8a127b-f23f-41bc-b046-de56fba8ce50\" xlink:type=\"simple\"><rect fill=\"#FFFFFF\" height=\"45.9375\" id=\"E2\" style=\"stroke: #383838; stroke-width: 1.5;\" width=\"95\" x=\"151.5\" y=\"87\"/><text fill=\"#000000\" font-family=\"sans-serif\" font-size=\"12\" font-style=\"italic\" lengthAdjust=\"spacingAndGlyphs\" textLength=\"93\" x=\"152.5\" y=\"103.1387\">«attribute def»</text><text fill=\"#000000\" font-family=\"sans-serif\" font-size=\"12\" lengthAdjust=\"spacingAndGlyphs\" textLength=\"8\" x=\"195\" y=\"117.1074\">S</text><line style=\"stroke: #383838; stroke-width: 1.5;\" x1=\"152.5\" x2=\"245.5\" y1=\"124.9375\" y2=\"124.9375\"/></a><polygon fill=\"#F8F8F8\" points=\"420,194,432,206,420,218,408,206,420,194\" style=\"stroke: #383838; stroke-width: 1.5;\"/><!--MD5=[21dd76c19d33815960c0e92fef8f0eef]\n",
       "entity E5--><a href=\"psysml:ccfba6f1-4ce0-4ddd-afd5-b866d68d47d7\" target=\"_top\" title=\"psysml:ccfba6f1-4ce0-4ddd-afd5-b866d68d47d7\" xlink:actuate=\"onRequest\" xlink:href=\"psysml:ccfba6f1-4ce0-4ddd-afd5-b866d68d47d7\" xlink:show=\"new\" xlink:title=\"psysml:ccfba6f1-4ce0-4ddd-afd5-b866d68d47d7\" xlink:type=\"simple\"><polygon fill=\"#F8F8F8\" points=\"279,279,279,333.5938,419,333.5938,399,306.2969,419,279\" style=\"stroke: #000000; stroke-width: 1.5;\"/><text fill=\"#000000\" font-family=\"sans-serif\" font-size=\"14\" font-style=\"italic\" lengthAdjust=\"spacingAndGlyphs\" textLength=\"111\" x=\"286\" y=\"301.9951\">«accept action»</text><text fill=\"#000000\" font-family=\"sans-serif\" font-size=\"14\" lengthAdjust=\"spacingAndGlyphs\" textLength=\"9\" x=\"337\" y=\"319.292\">S</text></a><!--MD5=[24d87cdf3002d433f401b2a2aa9f9f65]\n",
       "entity E6--><a href=\"psysml:f31bbeb6-49c7-47f4-9bac-592fafbdce16\" target=\"_top\" title=\"psysml:f31bbeb6-49c7-47f4-9bac-592fafbdce16\" xlink:actuate=\"onRequest\" xlink:href=\"psysml:f31bbeb6-49c7-47f4-9bac-592fafbdce16\" xlink:show=\"new\" xlink:title=\"psysml:f31bbeb6-49c7-47f4-9bac-592fafbdce16\" xlink:type=\"simple\"><polygon fill=\"#F8F8F8\" points=\"279,411,279,465.5938,387,465.5938,407,438.2969,387,411\" style=\"stroke: #000000; stroke-width: 1.5;\"/><text fill=\"#000000\" font-family=\"sans-serif\" font-size=\"14\" font-style=\"italic\" lengthAdjust=\"spacingAndGlyphs\" textLength=\"99\" x=\"286\" y=\"433.9951\">«send action»</text><text fill=\"#000000\" font-family=\"sans-serif\" font-size=\"14\" lengthAdjust=\"spacingAndGlyphs\" textLength=\"65\" x=\"303\" y=\"451.292\">S() to  B()</text></a><polygon fill=\"#F8F8F8\" points=\"418,527,430,539,418,551,406,539,418,527\" style=\"stroke: #383838; stroke-width: 1.5;\"/><ellipse cx=\"420\" cy=\"110\" fill=\"#000000\" rx=\"10\" ry=\"10\" style=\"stroke: none; stroke-width: 1.0;\"/><ellipse cx=\"418\" cy=\"622\" fill=\"none\" rx=\"10\" ry=\"10\" style=\"stroke: #000000; stroke-width: 1.0;\"/><ellipse cx=\"418.5\" cy=\"622.5\" fill=\"#000000\" rx=\"6\" ry=\"6\" style=\"stroke: none; stroke-width: 1.0;\"/><g id=\"E1.E8\"><a href=\"psysml:4eec70ee-61f4-4cab-8137-f00a9e5c8983\" target=\"_top\" title=\"psysml:4eec70ee-61f4-4cab-8137-f00a9e5c8983\" xlink:actuate=\"onRequest\" xlink:href=\"psysml:4eec70ee-61f4-4cab-8137-f00a9e5c8983\" xlink:show=\"new\" xlink:title=\"psysml:4eec70ee-61f4-4cab-8137-f00a9e5c8983\" xlink:type=\"simple\"><rect fill=\"#FFFFFF\" height=\"42.9375\" id=\"E8\" style=\"stroke: #383838; stroke-width: 1.5;\" width=\"84\" x=\"32\" y=\"88.5\"/><rect fill=\"#F8F8F8\" height=\"37.9375\" style=\"stroke: #383838; stroke-width: 1.5;\" width=\"84\" x=\"32\" y=\"88.5\"/><text fill=\"#000000\" font-family=\"sans-serif\" font-size=\"12\" font-style=\"italic\" lengthAdjust=\"spacingAndGlyphs\" textLength=\"77\" x=\"35.5\" y=\"104.6387\">«action def»</text><text fill=\"#000000\" font-family=\"sans-serif\" font-size=\"12\" lengthAdjust=\"spacingAndGlyphs\" textLength=\"8\" x=\"70\" y=\"118.6074\">B</text></a></g><!--MD5=[f47e10efcf9a6752d55dae986d790ed9]\n",
       "link *start*E3 to E4--><a href=\"psysml:03e50e83-6fc7-46a8-8453-213dc2aae23c\" target=\"_top\" title=\"psysml:03e50e83-6fc7-46a8-8453-213dc2aae23c\" xlink:actuate=\"onRequest\" xlink:href=\"psysml:03e50e83-6fc7-46a8-8453-213dc2aae23c\" xlink:show=\"new\" xlink:title=\"psysml:03e50e83-6fc7-46a8-8453-213dc2aae23c\" xlink:type=\"simple\"><path d=\"M420,120.27 C420,120.27 420,188.7 420,188.7 \" fill=\"none\" id=\"*start*E3-&gt;E4\" style=\"stroke: #383838; stroke-width: 1.0;\"/><polygon fill=\"#383838\" points=\"420,193.7,424,184.7,420,188.7,416,184.7,420,193.7\" style=\"stroke: #383838; stroke-width: 1.0;\"/></a><!--MD5=[d19f2eb34364d71b67042106d92f540b]\n",
       "link E7 to *end*E3--><a href=\"psysml:c4a668a6-d0f8-468f-9890-a338c2ee16ef\" target=\"_top\" title=\"psysml:c4a668a6-d0f8-468f-9890-a338c2ee16ef\" xlink:actuate=\"onRequest\" xlink:href=\"psysml:c4a668a6-d0f8-468f-9890-a338c2ee16ef\" xlink:show=\"new\" xlink:title=\"psysml:c4a668a6-d0f8-468f-9890-a338c2ee16ef\" xlink:type=\"simple\"><path d=\"M418,551.25 C418,551.25 418,606.8 418,606.8 \" fill=\"none\" id=\"E7-&gt;*end*E3\" style=\"stroke: #383838; stroke-width: 1.0;\"/><polygon fill=\"#383838\" points=\"418,611.8,422,602.8,418,606.8,414,602.8,418,611.8\" style=\"stroke: #383838; stroke-width: 1.0;\"/></a><!--MD5=[1b7591eae5389033d8d09a9d6721a717]\n",
       "link E4 to E5--><a href=\"psysml:f95480df-9a63-41d1-9e12-1ec6bb9c61dc\" target=\"_top\" title=\"psysml:f95480df-9a63-41d1-9e12-1ec6bb9c61dc\" xlink:actuate=\"onRequest\" xlink:href=\"psysml:f95480df-9a63-41d1-9e12-1ec6bb9c61dc\" xlink:show=\"new\" xlink:title=\"psysml:f95480df-9a63-41d1-9e12-1ec6bb9c61dc\" xlink:type=\"simple\"><path d=\"M413.5,211.69 C413.5,211.69 413.5,273.98 413.5,273.98 \" fill=\"none\" id=\"E4-&gt;E5\" style=\"stroke: #383838; stroke-width: 1.0;\"/><polygon fill=\"#383838\" points=\"413.5,278.98,417.5,269.98,413.5,273.98,409.5,269.98,413.5,278.98\" style=\"stroke: #383838; stroke-width: 1.0;\"/></a><!--MD5=[9120cf2e5df3bff93db8f754bbbc09b4]\n",
       "link E5 to E6--><a href=\"psysml:73484f54-b4d2-4298-bed2-8c418bf31093\" target=\"_top\" title=\"psysml:73484f54-b4d2-4298-bed2-8c418bf31093\" xlink:actuate=\"onRequest\" xlink:href=\"psysml:73484f54-b4d2-4298-bed2-8c418bf31093\" xlink:show=\"new\" xlink:title=\"psysml:73484f54-b4d2-4298-bed2-8c418bf31093\" xlink:type=\"simple\"><path d=\"M343,334.17 C343,334.17 343,405.86 343,405.86 \" fill=\"none\" id=\"E5-&gt;E6\" style=\"stroke: #383838; stroke-width: 1.0;\"/><polygon fill=\"#383838\" points=\"343,410.86,347,401.86,343,405.86,339,401.86,343,410.86\" style=\"stroke: #383838; stroke-width: 1.0;\"/></a><!--MD5=[02c70b7c851c11e3980e4e90450dc5dd]\n",
       "link E6 to E7--><a href=\"psysml:860bf181-ae5a-4d8b-9cc8-c19fc893dd3f\" target=\"_top\" title=\"psysml:860bf181-ae5a-4d8b-9cc8-c19fc893dd3f\" xlink:actuate=\"onRequest\" xlink:href=\"psysml:860bf181-ae5a-4d8b-9cc8-c19fc893dd3f\" xlink:show=\"new\" xlink:title=\"psysml:860bf181-ae5a-4d8b-9cc8-c19fc893dd3f\" xlink:type=\"simple\"><path d=\"M407.03,439 C410.74,439 413,439 413,439 C413,439 413,526.81 413,526.81 \" fill=\"none\" id=\"E6-&gt;E7\" style=\"stroke: #383838; stroke-width: 1.0;\"/><polygon fill=\"#383838\" points=\"413,531.81,417,522.81,413,526.81,409,522.81,413,531.81\" style=\"stroke: #383838; stroke-width: 1.0;\"/></a><!--MD5=[6bdd27f9905911a7e892a3dc65cf6b7c]\n",
       "link E7 to E4--><a href=\"psysml:227ffbe5-5fbb-4b69-bf2e-f462a1a2545e\" target=\"_top\" title=\"psysml:227ffbe5-5fbb-4b69-bf2e-f462a1a2545e\" xlink:actuate=\"onRequest\" xlink:href=\"psysml:227ffbe5-5fbb-4b69-bf2e-f462a1a2545e\" xlink:show=\"new\" xlink:title=\"psysml:227ffbe5-5fbb-4b69-bf2e-f462a1a2545e\" xlink:type=\"simple\"><path d=\"M424.5,533.5 C424.5,533.5 424.5,218.64 424.5,218.64 \" fill=\"none\" id=\"E7-&gt;E4\" style=\"stroke: #383838; stroke-width: 1.0;\"/><polygon fill=\"#383838\" points=\"424.5,213.64,420.5,222.64,424.5,218.64,428.5,222.64,424.5,213.64\" style=\"stroke: #383838; stroke-width: 1.0;\"/><text fill=\"#000000\" font-family=\"sans-serif\" font-size=\"13\" lengthAdjust=\"spacingAndGlyphs\" textLength=\"36\" x=\"419\" y=\"377.0669\">[true]</text></a><!--MD5=[faaf9993454ae4e2f459fff37f22ab85]\n",
       "@startuml\r\n",
       "skinparam linetype ortho\r\n",
       "skinparam monochrome true\r\n",
       "skinparam classbackgroundcolor white\r\n",
       "skinparam shadowing false\r\n",
       "skinparam wrapWidth 300\r\n",
       "hide circle\r\n",
       "\r\n",
       "package \"ActionTest\" as E1  [[psysml:fba87211-d6a8-40ff-8d47-80f3cbac0e83 ]]  {\r\n",
       "comp def \"S\" as E2  <<(T,blue)attribute def>> [[psysml:9e8a127b-f23f-41bc-b046-de56fba8ce50 ]] {\r\n",
       "}\r\n",
       "rec usage \"a\" as E3  <<(T,blue)action>> [[psysml:ad4f18e6-c096-4c58-bb62-14a597e4442d ]] {\r\n",
       "choice \"m\" as E4  [[psysml:e85a3052-7a7b-4311-97f8-bb0216d1246f ]] \r\n",
       "accept \" S\" as E5 <<accept action>> [[psysml:ccfba6f1-4ce0-4ddd-afd5-b866d68d47d7 ]] \r\n",
       "send \" S() to  B()\" as E6 <<send action>> [[psysml:f31bbeb6-49c7-47f4-9bac-592fafbdce16 ]] \r\n",
       "choice \"noname\" as E7  [[psysml:7507dc2c-9b39-4c30-b0ef-dd6a627e8c4c ]] \r\n",
       "[*] - -> E4 [[psysml:03e50e83-6fc7-46a8-8453-213dc2aae23c ]] \r\n",
       "E7  - -> [*] [[psysml:c4a668a6-d0f8-468f-9890-a338c2ee16ef ]] \r\n",
       "}\r\n",
       "\r\n",
       "rec def \"B\" as E8  <<(T,blue)action def>> [[psysml:4eec70ee-61f4-4cab-8137-f00a9e5c8983 ]] {\r\n",
       "}\r\n",
       "\r\n",
       "E4 - -> E5 [[psysml:f95480df-9a63-41d1-9e12-1ec6bb9c61dc ]] \r\n",
       "E5 - -> E6 [[psysml:73484f54-b4d2-4298-bed2-8c418bf31093 ]] \r\n",
       "E6 - -> E7 [[psysml:860bf181-ae5a-4d8b-9cc8-c19fc893dd3f ]] \r\n",
       "E7  - -> E4 [[psysml:227ffbe5-5fbb-4b69-bf2e-f462a1a2545e ]] : [true]\r\n",
       "}\r\n",
       "@enduml\r\n",
       "\n",
       "PlantUML version 1.2020.13(Sat Jun 13 12:26:38 UTC 2020)\n",
       "(EPL source distribution)\n",
       "Java Runtime: OpenJDK Runtime Environment\n",
       "JVM: OpenJDK 64-Bit Server VM\n",
       "Default Encoding: UTF-8\n",
       "Language: en\n",
       "Country: null\n",
       "--></g></svg>"
      ]
     },
     "execution_count": 57,
     "metadata": {},
     "output_type": "execute_result"
    }
   ],
   "source": [
    "%viz --style=\"ORTHOLINE\" --view=\"MIXED\" \"ActionTest\""
   ]
  }
 ],
 "metadata": {
  "kernelspec": {
   "display_name": "SysML",
   "language": "sysml",
   "name": "sysml"
  },
  "language_info": {
   "codemirror_mode": "sysml",
   "file_extension": ".sysml",
   "mimetype": "text/x-sysml",
   "name": "SysML",
   "pygments_lexer": "java",
   "version": "1.0.0"
  }
 },
 "nbformat": 4,
 "nbformat_minor": 5
}
