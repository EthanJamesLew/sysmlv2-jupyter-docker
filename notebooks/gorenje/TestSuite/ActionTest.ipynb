{
 "cells": [
  {
   "cell_type": "markdown",
   "id": "faeb61e8",
   "metadata": {},
   "source": [
    "# SysML v2 Test Suite\n",
    "\n",
    "This can notebook can be cleared using menu `Edit --> Clear All Outputs` and then all cells can be\n",
    "run using menu `Run --> Run All Cells`.\n",
    "\n",
    "**WARNING**: This file is generated, all modifications here will be ignored.\n"
   ]
  },
  {
   "cell_type": "markdown",
   "id": "66cb24d7",
   "metadata": {},
   "source": [
    "## File: ../../sysml/src/examples/Simple Tests/ActionTest.sysml"
   ]
  },
  {
   "cell_type": "code",
   "execution_count": 1,
   "id": "69e898a9",
   "metadata": {
    "execution": {
     "iopub.execute_input": "2021-09-27T07:16:52.941191Z",
     "iopub.status.busy": "2021-09-27T07:16:52.940172Z",
     "iopub.status.idle": "2021-09-27T07:16:53.457741Z",
     "shell.execute_reply": "2021-09-27T07:16:53.458096Z"
    }
   },
   "outputs": [
    {
     "data": {
      "text/plain": [
       "Package ActionTest (ffeb3d2c-5972-4a5d-961b-dc956d719b89)\n"
      ]
     },
     "execution_count": 1,
     "metadata": {},
     "output_type": "execute_result"
    }
   ],
   "source": [
    "package ActionTest {\n",
    "\tattribute def S;\n",
    "\t\n",
    "\taction a {\n",
    "\t\tfirst start;\t\t\n",
    "\t\tthen merge m;\n",
    "\t\tthen accept S; \n",
    "\t\t\n",
    "\t\tthen send S() to B();\t\t\n",
    "\t\tthen decide;\n",
    "\t\t\tif true then m;\n",
    "\t\t\telse done;\n",
    "\t}\n",
    "\t\n",
    "\taction def B;\n",
    "\t\n",
    "}"
   ]
  },
  {
   "cell_type": "code",
   "execution_count": 2,
   "id": "9da5259f",
   "metadata": {
    "execution": {
     "iopub.execute_input": "2021-09-27T07:16:53.509604Z",
     "iopub.status.busy": "2021-09-27T07:16:53.509034Z",
     "iopub.status.idle": "2021-09-27T07:16:54.002230Z",
     "shell.execute_reply": "2021-09-27T07:16:54.001946Z"
    }
   },
   "outputs": [
    {
     "data": {
      "image/svg+xml": [
       "<?xml version=\"1.0\" encoding=\"UTF-8\" standalone=\"no\"?><svg xmlns=\"http://www.w3.org/2000/svg\" xmlns:xlink=\"http://www.w3.org/1999/xlink\" contentScriptType=\"application/ecmascript\" contentStyleType=\"text/css\" height=\"684px\" preserveAspectRatio=\"none\" style=\"width:518px;height:684px;\" version=\"1.1\" viewBox=\"0 0 518 684\" width=\"518px\" zoomAndPan=\"magnify\"><defs/><g><!--MD5=[fbc87193dbaf4d95561dea2c320d4a47]\n",
       "cluster E1--><a href=\"psysml:a2683da9-1b6e-41fc-828a-cc7d1e5b2935\" target=\"_top\" title=\"psysml:a2683da9-1b6e-41fc-828a-cc7d1e5b2935\" xlink:actuate=\"onRequest\" xlink:href=\"psysml:a2683da9-1b6e-41fc-828a-cc7d1e5b2935\" xlink:show=\"new\" xlink:title=\"psysml:a2683da9-1b6e-41fc-828a-cc7d1e5b2935\" xlink:type=\"simple\"><polygon fill=\"#FFFFFF\" points=\"16,6,96,6,103,28.2969,496,28.2969,496,672,16,672,16,6\" style=\"stroke: #000000; stroke-width: 1.5;\"/><line style=\"stroke: #000000; stroke-width: 1.5;\" x1=\"16\" x2=\"103\" y1=\"28.2969\" y2=\"28.2969\"/><text fill=\"#000000\" font-family=\"sans-serif\" font-size=\"14\" font-weight=\"bold\" lengthAdjust=\"spacingAndGlyphs\" textLength=\"74\" x=\"20\" y=\"20.9951\">ActionTest</text></a><!--MD5=[d5e69f78d87373223dbae638b30a9c99]\n",
       "cluster E3--><a href=\"psysml:88e0a3c5-b7f9-4d13-8306-ae5e61691436\" target=\"_top\" title=\"psysml:88e0a3c5-b7f9-4d13-8306-ae5e61691436\" xlink:actuate=\"onRequest\" xlink:href=\"psysml:88e0a3c5-b7f9-4d13-8306-ae5e61691436\" xlink:show=\"new\" xlink:title=\"psysml:88e0a3c5-b7f9-4d13-8306-ae5e61691436\" xlink:type=\"simple\"><rect fill=\"#FFFFFF\" height=\"599\" id=\"E3\" rx=\"10\" ry=\"10\" style=\"stroke: #383838; stroke-width: 1.5;\" width=\"209\" x=\"263\" y=\"49\"/><rect fill=\"#F8F8F8\" height=\"37.9375\" rx=\"10\" ry=\"10\" style=\"stroke: #F8F8F8; stroke-width: 1.5;\" width=\"209\" x=\"263\" y=\"49\"/><rect fill=\"#F8F8F8\" height=\"10\" style=\"stroke: #F8F8F8; stroke-width: 1.5;\" width=\"209\" x=\"263\" y=\"76.9375\"/><rect fill=\"none\" height=\"599\" id=\"E3\" rx=\"10\" ry=\"10\" style=\"stroke: #383838; stroke-width: 1.5;\" width=\"209\" x=\"263\" y=\"49\"/><text fill=\"#000000\" font-family=\"sans-serif\" font-size=\"12\" font-style=\"italic\" lengthAdjust=\"spacingAndGlyphs\" textLength=\"53\" x=\"341\" y=\"65.1387\">«action»</text><text fill=\"#000000\" font-family=\"sans-serif\" font-size=\"12\" lengthAdjust=\"spacingAndGlyphs\" textLength=\"8\" x=\"363.5\" y=\"79.1074\">a</text><line style=\"stroke: #383838; stroke-width: 1.0;\" x1=\"263\" x2=\"472\" y1=\"86.9375\" y2=\"86.9375\"/></a><!--MD5=[b4997ac47864f28c2f74865a473b2911]\n",
       "class E2--><a href=\"psysml:9c87d4ab-cb1d-4b31-8fcd-81209805f4cd\" target=\"_top\" title=\"psysml:9c87d4ab-cb1d-4b31-8fcd-81209805f4cd\" xlink:actuate=\"onRequest\" xlink:href=\"psysml:9c87d4ab-cb1d-4b31-8fcd-81209805f4cd\" xlink:show=\"new\" xlink:title=\"psysml:9c87d4ab-cb1d-4b31-8fcd-81209805f4cd\" xlink:type=\"simple\"><rect fill=\"#FFFFFF\" height=\"45.9375\" id=\"E2\" style=\"stroke: #383838; stroke-width: 1.5;\" width=\"95\" x=\"151.5\" y=\"87\"/><text fill=\"#000000\" font-family=\"sans-serif\" font-size=\"12\" font-style=\"italic\" lengthAdjust=\"spacingAndGlyphs\" textLength=\"93\" x=\"152.5\" y=\"103.1387\">«attribute def»</text><text fill=\"#000000\" font-family=\"sans-serif\" font-size=\"12\" lengthAdjust=\"spacingAndGlyphs\" textLength=\"8\" x=\"195\" y=\"117.1074\">S</text><line style=\"stroke: #383838; stroke-width: 1.5;\" x1=\"152.5\" x2=\"245.5\" y1=\"124.9375\" y2=\"124.9375\"/></a><polygon fill=\"#F8F8F8\" points=\"420,194,432,206,420,218,408,206,420,194\" style=\"stroke: #383838; stroke-width: 1.5;\"/><!--MD5=[21dd76c19d33815960c0e92fef8f0eef]\n",
       "entity E5--><a href=\"psysml:56f9bc80-23d6-47f0-bfbf-c5e902f86ac6\" target=\"_top\" title=\"psysml:56f9bc80-23d6-47f0-bfbf-c5e902f86ac6\" xlink:actuate=\"onRequest\" xlink:href=\"psysml:56f9bc80-23d6-47f0-bfbf-c5e902f86ac6\" xlink:show=\"new\" xlink:title=\"psysml:56f9bc80-23d6-47f0-bfbf-c5e902f86ac6\" xlink:type=\"simple\"><polygon fill=\"#F8F8F8\" points=\"279,279,279,333.5938,419,333.5938,399,306.2969,419,279\" style=\"stroke: #000000; stroke-width: 1.5;\"/><text fill=\"#000000\" font-family=\"sans-serif\" font-size=\"14\" font-style=\"italic\" lengthAdjust=\"spacingAndGlyphs\" textLength=\"111\" x=\"286\" y=\"301.9951\">«accept action»</text><text fill=\"#000000\" font-family=\"sans-serif\" font-size=\"14\" lengthAdjust=\"spacingAndGlyphs\" textLength=\"9\" x=\"337\" y=\"319.292\">S</text></a><!--MD5=[24d87cdf3002d433f401b2a2aa9f9f65]\n",
       "entity E6--><a href=\"psysml:baf32606-26e9-4cc3-a29f-e775486b01d7\" target=\"_top\" title=\"psysml:baf32606-26e9-4cc3-a29f-e775486b01d7\" xlink:actuate=\"onRequest\" xlink:href=\"psysml:baf32606-26e9-4cc3-a29f-e775486b01d7\" xlink:show=\"new\" xlink:title=\"psysml:baf32606-26e9-4cc3-a29f-e775486b01d7\" xlink:type=\"simple\"><polygon fill=\"#F8F8F8\" points=\"279,411,279,465.5938,387,465.5938,407,438.2969,387,411\" style=\"stroke: #000000; stroke-width: 1.5;\"/><text fill=\"#000000\" font-family=\"sans-serif\" font-size=\"14\" font-style=\"italic\" lengthAdjust=\"spacingAndGlyphs\" textLength=\"99\" x=\"286\" y=\"433.9951\">«send action»</text><text fill=\"#000000\" font-family=\"sans-serif\" font-size=\"14\" lengthAdjust=\"spacingAndGlyphs\" textLength=\"65\" x=\"303\" y=\"451.292\">S() to  B()</text></a><polygon fill=\"#F8F8F8\" points=\"418,527,430,539,418,551,406,539,418,527\" style=\"stroke: #383838; stroke-width: 1.5;\"/><ellipse cx=\"420\" cy=\"110\" fill=\"#000000\" rx=\"10\" ry=\"10\" style=\"stroke: none; stroke-width: 1.0;\"/><ellipse cx=\"418\" cy=\"622\" fill=\"none\" rx=\"10\" ry=\"10\" style=\"stroke: #000000; stroke-width: 1.0;\"/><ellipse cx=\"418.5\" cy=\"622.5\" fill=\"#000000\" rx=\"6\" ry=\"6\" style=\"stroke: none; stroke-width: 1.0;\"/><g id=\"E1.E8\"><a href=\"psysml:79d3a6ab-38cc-49fb-ab8f-d1828ed09a3c\" target=\"_top\" title=\"psysml:79d3a6ab-38cc-49fb-ab8f-d1828ed09a3c\" xlink:actuate=\"onRequest\" xlink:href=\"psysml:79d3a6ab-38cc-49fb-ab8f-d1828ed09a3c\" xlink:show=\"new\" xlink:title=\"psysml:79d3a6ab-38cc-49fb-ab8f-d1828ed09a3c\" xlink:type=\"simple\"><rect fill=\"#FFFFFF\" height=\"42.9375\" id=\"E8\" style=\"stroke: #383838; stroke-width: 1.5;\" width=\"84\" x=\"32\" y=\"88.5\"/><rect fill=\"#F8F8F8\" height=\"37.9375\" style=\"stroke: #383838; stroke-width: 1.5;\" width=\"84\" x=\"32\" y=\"88.5\"/><text fill=\"#000000\" font-family=\"sans-serif\" font-size=\"12\" font-style=\"italic\" lengthAdjust=\"spacingAndGlyphs\" textLength=\"77\" x=\"35.5\" y=\"104.6387\">«action def»</text><text fill=\"#000000\" font-family=\"sans-serif\" font-size=\"12\" lengthAdjust=\"spacingAndGlyphs\" textLength=\"8\" x=\"70\" y=\"118.6074\">B</text></a></g><!--MD5=[f47e10efcf9a6752d55dae986d790ed9]\n",
       "link *start*E3 to E4--><a href=\"psysml:fb7d5adc-5880-4810-9813-86e53c07f96a\" target=\"_top\" title=\"psysml:fb7d5adc-5880-4810-9813-86e53c07f96a\" xlink:actuate=\"onRequest\" xlink:href=\"psysml:fb7d5adc-5880-4810-9813-86e53c07f96a\" xlink:show=\"new\" xlink:title=\"psysml:fb7d5adc-5880-4810-9813-86e53c07f96a\" xlink:type=\"simple\"><path d=\"M420,120.01 C420,135.81 420,168.69 420,188.61 \" fill=\"none\" id=\"*start*E3-&gt;E4\" style=\"stroke: #383838; stroke-width: 1.0;\"/><polygon fill=\"#383838\" points=\"420,193.85,424,184.85,420,188.85,416,184.85,420,193.85\" style=\"stroke: #383838; stroke-width: 1.0;\"/></a><!--MD5=[d19f2eb34364d71b67042106d92f540b]\n",
       "link E7 to *end*E3--><a href=\"psysml:c9de1ce8-1045-4471-9685-45647676290c\" target=\"_top\" title=\"psysml:c9de1ce8-1045-4471-9685-45647676290c\" xlink:actuate=\"onRequest\" xlink:href=\"psysml:c9de1ce8-1045-4471-9685-45647676290c\" xlink:show=\"new\" xlink:title=\"psysml:c9de1ce8-1045-4471-9685-45647676290c\" xlink:type=\"simple\"><path d=\"M418,551.26 C418,565.66 418,590.63 418,606.46 \" fill=\"none\" id=\"E7-&gt;*end*E3\" style=\"stroke: #383838; stroke-width: 1.0;\"/><polygon fill=\"#383838\" points=\"418,611.84,422,602.84,418,606.84,414,602.84,418,611.84\" style=\"stroke: #383838; stroke-width: 1.0;\"/></a><!--MD5=[1b7591eae5389033d8d09a9d6721a717]\n",
       "link E4 to E5--><a href=\"psysml:674af9b4-5477-4a2d-9c32-c1d49aef2cdc\" target=\"_top\" title=\"psysml:674af9b4-5477-4a2d-9c32-c1d49aef2cdc\" xlink:actuate=\"onRequest\" xlink:href=\"psysml:674af9b4-5477-4a2d-9c32-c1d49aef2cdc\" xlink:show=\"new\" xlink:title=\"psysml:674af9b4-5477-4a2d-9c32-c1d49aef2cdc\" xlink:type=\"simple\"><path d=\"M415.34,213.46 C406.55,225.66 386.99,252.8 371.37,274.46 \" fill=\"none\" id=\"E4-&gt;E5\" style=\"stroke: #383838; stroke-width: 1.0;\"/><polygon fill=\"#383838\" points=\"368.31,278.71,376.8093,273.7339,371.227,274.6491,370.3119,269.0667,368.31,278.71\" style=\"stroke: #383838; stroke-width: 1.0;\"/><text fill=\"#000000\" font-family=\"sans-serif\" font-size=\"13\" lengthAdjust=\"spacingAndGlyphs\" textLength=\"7\" x=\"364.7684\" y=\"268.1162\">*</text></a><!--MD5=[9120cf2e5df3bff93db8f754bbbc09b4]\n",
       "link E5 to E6--><a href=\"psysml:f1d57d75-7b92-4f65-894e-3c0dce6664b2\" target=\"_top\" title=\"psysml:f1d57d75-7b92-4f65-894e-3c0dce6664b2\" xlink:actuate=\"onRequest\" xlink:href=\"psysml:f1d57d75-7b92-4f65-894e-3c0dce6664b2\" xlink:show=\"new\" xlink:title=\"psysml:f1d57d75-7b92-4f65-894e-3c0dce6664b2\" xlink:type=\"simple\"><path d=\"M347.77,334.12 C346.81,354.89 345.48,383.8 344.46,405.77 \" fill=\"none\" id=\"E5-&gt;E6\" style=\"stroke: #383838; stroke-width: 1.0;\"/><polygon fill=\"#383838\" points=\"344.23,410.91,348.6368,402.1021,344.4583,405.9152,340.6452,401.7367,344.23,410.91\" style=\"stroke: #383838; stroke-width: 1.0;\"/><text fill=\"#000000\" font-family=\"sans-serif\" font-size=\"13\" lengthAdjust=\"spacingAndGlyphs\" textLength=\"7\" x=\"336.7051\" y=\"399.9247\">*</text></a><!--MD5=[02c70b7c851c11e3980e4e90450dc5dd]\n",
       "link E6 to E7--><a href=\"psysml:5bbe4286-aec7-454e-8b07-ff0b44373e66\" target=\"_top\" title=\"psysml:5bbe4286-aec7-454e-8b07-ff0b44373e66\" xlink:actuate=\"onRequest\" xlink:href=\"psysml:5bbe4286-aec7-454e-8b07-ff0b44373e66\" xlink:show=\"new\" xlink:title=\"psysml:5bbe4286-aec7-454e-8b07-ff0b44373e66\" xlink:type=\"simple\"><path d=\"M363.3,466.16 C378.71,486.4 399.07,513.14 410.09,527.61 \" fill=\"none\" id=\"E6-&gt;E7\" style=\"stroke: #383838; stroke-width: 1.0;\"/><polygon fill=\"#383838\" points=\"413.2,531.69,410.9398,522.104,410.1749,527.7089,404.57,526.9441,413.2,531.69\" style=\"stroke: #383838; stroke-width: 1.0;\"/><text fill=\"#000000\" font-family=\"sans-serif\" font-size=\"13\" lengthAdjust=\"spacingAndGlyphs\" textLength=\"7\" x=\"398.9375\" y=\"515.8563\">*</text></a><!--MD5=[6bdd27f9905911a7e892a3dc65cf6b7c]\n",
       "link E7 to E4--><a href=\"psysml:df5824e0-bb07-4266-b9ed-97217b9e7a59\" target=\"_top\" title=\"psysml:df5824e0-bb07-4266-b9ed-97217b9e7a59\" xlink:actuate=\"onRequest\" xlink:href=\"psysml:df5824e0-bb07-4266-b9ed-97217b9e7a59\" xlink:show=\"new\" xlink:title=\"psysml:df5824e0-bb07-4266-b9ed-97217b9e7a59\" xlink:type=\"simple\"><path d=\"M419.98,528.56 C426.8,494.71 448.32,376.18 437,279 C434.59,258.32 428.42,234.96 424.21,220.61 \" fill=\"none\" id=\"E7-&gt;E4\" style=\"stroke: #383838; stroke-width: 1.0;\"/><polygon fill=\"#383838\" points=\"422.76,215.75,421.4935,225.5171,424.1863,220.5423,429.1611,223.2351,422.76,215.75\" style=\"stroke: #383838; stroke-width: 1.0;\"/><text fill=\"#000000\" font-family=\"sans-serif\" font-size=\"13\" lengthAdjust=\"spacingAndGlyphs\" textLength=\"36\" x=\"440\" y=\"377.0669\">[true]</text><text fill=\"#000000\" font-family=\"sans-serif\" font-size=\"13\" lengthAdjust=\"spacingAndGlyphs\" textLength=\"7\" x=\"415.3253\" y=\"237.9903\">*</text></a><!--MD5=[d4a6b12c539c58b874acb7e91ed25811]\n",
       "@startuml\r\n",
       " skinparam monochrome true\r\n",
       "skinparam classbackgroundcolor white\r\n",
       "skinparam shadowing false\r\n",
       "skinparam wrapWidth 300\r\n",
       "hide circle\r\n",
       "\r\n",
       "package \"ActionTest\" as E1  [[psysml:a2683da9-1b6e-41fc-828a-cc7d1e5b2935 ]]  {\r\n",
       "comp def \"S\" as E2  <<(T,blue) attribute def>> [[psysml:9c87d4ab-cb1d-4b31-8fcd-81209805f4cd ]] {\r\n",
       "}\r\n",
       "rec usage \"a\" as E3  <<(T,blue) action>> [[psysml:88e0a3c5-b7f9-4d13-8306-ae5e61691436 ]] {\r\n",
       "choice \"m\" as E4  [[psysml:207ebb71-0108-47ac-8eb2-03003f2402f5 ]] \r\n",
       "accept \" S\" as E5 << accept action>> [[psysml:56f9bc80-23d6-47f0-bfbf-c5e902f86ac6 ]] \r\n",
       "send \" S() to  B()\" as E6 << send action>> [[psysml:baf32606-26e9-4cc3-a29f-e775486b01d7 ]] \r\n",
       "choice \"<s>noname</s>\" as E7  [[psysml:de118d49-a158-4609-b10e-b605b2688318 ]] \r\n",
       "[*] - -> E4 [[psysml:fb7d5adc-5880-4810-9813-86e53c07f96a ]] \r\n",
       "E7  - -> [*] [[psysml:c9de1ce8-1045-4471-9685-45647676290c ]] \r\n",
       "}\r\n",
       "\r\n",
       "rec def \"B\" as E8  <<(T,blue) action def>> [[psysml:79d3a6ab-38cc-49fb-ab8f-d1828ed09a3c ]] {\r\n",
       "}\r\n",
       "\r\n",
       "}\r\n",
       "E4 - -> \"*\"E5 [[psysml:674af9b4-5477-4a2d-9c32-c1d49aef2cdc ]] \r\n",
       "E5 - -> \"*\"E6 [[psysml:f1d57d75-7b92-4f65-894e-3c0dce6664b2 ]] \r\n",
       "E6 - -> \"*\"E7 [[psysml:5bbe4286-aec7-454e-8b07-ff0b44373e66 ]] \r\n",
       "E7  - -> \"*\"E4 [[psysml:df5824e0-bb07-4266-b9ed-97217b9e7a59 ]] : [true]\r\n",
       "@enduml\r\n",
       "\n",
       "PlantUML version 1.2020.13(Sat Jun 13 12:26:38 UTC 2020)\n",
       "(EPL source distribution)\n",
       "Java Runtime: OpenJDK Runtime Environment\n",
       "JVM: OpenJDK 64-Bit Server VM\n",
       "Default Encoding: UTF-8\n",
       "Language: en\n",
       "Country: null\n",
       "--></g></svg>"
      ]
     },
     "execution_count": 2,
     "metadata": {},
     "output_type": "execute_result"
    }
   ],
   "source": [
    "%viz --style=\"COMPTREE\" --view=\"Default\" \"ActionTest\""
   ]
  },
  {
   "cell_type": "code",
   "execution_count": 3,
   "id": "5307fd44",
   "metadata": {
    "execution": {
     "iopub.execute_input": "2021-09-27T07:16:54.052125Z",
     "iopub.status.busy": "2021-09-27T07:16:54.051858Z",
     "iopub.status.idle": "2021-09-27T07:16:54.113459Z",
     "shell.execute_reply": "2021-09-27T07:16:54.113796Z"
    }
   },
   "outputs": [
    {
     "data": {
      "image/svg+xml": [
       "<?xml version=\"1.0\" encoding=\"UTF-8\" standalone=\"no\"?><svg xmlns=\"http://www.w3.org/2000/svg\" xmlns:xlink=\"http://www.w3.org/1999/xlink\" contentScriptType=\"application/ecmascript\" contentStyleType=\"text/css\" height=\"327px\" preserveAspectRatio=\"none\" style=\"width:677px;height:327px;\" version=\"1.1\" viewBox=\"0 0 677 327\" width=\"677px\" zoomAndPan=\"magnify\"><defs/><g><!--MD5=[fbc87193dbaf4d95561dea2c320d4a47]\n",
       "cluster E1--><a href=\"psysml:a2683da9-1b6e-41fc-828a-cc7d1e5b2935\" target=\"_top\" title=\"psysml:a2683da9-1b6e-41fc-828a-cc7d1e5b2935\" xlink:actuate=\"onRequest\" xlink:href=\"psysml:a2683da9-1b6e-41fc-828a-cc7d1e5b2935\" xlink:show=\"new\" xlink:title=\"psysml:a2683da9-1b6e-41fc-828a-cc7d1e5b2935\" xlink:type=\"simple\"><polygon fill=\"#FFFFFF\" points=\"16,6,96,6,103,28.2969,655,28.2969,655,315,16,315,16,6\" style=\"stroke: #000000; stroke-width: 1.5;\"/><line style=\"stroke: #000000; stroke-width: 1.5;\" x1=\"16\" x2=\"103\" y1=\"28.2969\" y2=\"28.2969\"/><text fill=\"#000000\" font-family=\"sans-serif\" font-size=\"14\" font-weight=\"bold\" lengthAdjust=\"spacingAndGlyphs\" textLength=\"74\" x=\"20\" y=\"20.9951\">ActionTest</text></a><!--MD5=[b4997ac47864f28c2f74865a473b2911]\n",
       "class E2--><a href=\"psysml:9c87d4ab-cb1d-4b31-8fcd-81209805f4cd\" target=\"_top\" title=\"psysml:9c87d4ab-cb1d-4b31-8fcd-81209805f4cd\" xlink:actuate=\"onRequest\" xlink:href=\"psysml:9c87d4ab-cb1d-4b31-8fcd-81209805f4cd\" xlink:show=\"new\" xlink:title=\"psysml:9c87d4ab-cb1d-4b31-8fcd-81209805f4cd\" xlink:type=\"simple\"><rect fill=\"#FFFFFF\" height=\"45.9375\" id=\"E2\" style=\"stroke: #383838; stroke-width: 1.5;\" width=\"95\" x=\"278.5\" y=\"253\"/><text fill=\"#000000\" font-family=\"sans-serif\" font-size=\"12\" font-style=\"italic\" lengthAdjust=\"spacingAndGlyphs\" textLength=\"93\" x=\"279.5\" y=\"269.1387\">«attribute def»</text><text fill=\"#000000\" font-family=\"sans-serif\" font-size=\"12\" lengthAdjust=\"spacingAndGlyphs\" textLength=\"8\" x=\"322\" y=\"283.1074\">S</text><line style=\"stroke: #383838; stroke-width: 1.5;\" x1=\"279.5\" x2=\"372.5\" y1=\"290.9375\" y2=\"290.9375\"/></a><!--MD5=[09b614a08d8cba4a07c9adeb5e0fee81]\n",
       "class E3--><a href=\"psysml:88e0a3c5-b7f9-4d13-8306-ae5e61691436\" target=\"_top\" title=\"psysml:88e0a3c5-b7f9-4d13-8306-ae5e61691436\" xlink:actuate=\"onRequest\" xlink:href=\"psysml:88e0a3c5-b7f9-4d13-8306-ae5e61691436\" xlink:show=\"new\" xlink:title=\"psysml:88e0a3c5-b7f9-4d13-8306-ae5e61691436\" xlink:type=\"simple\"><rect fill=\"#FFFFFF\" height=\"45.9375\" id=\"E3\" rx=\"10\" ry=\"10\" style=\"stroke: #383838; stroke-width: 1.5;\" width=\"55\" x=\"298.5\" y=\"41\"/><text fill=\"#000000\" font-family=\"sans-serif\" font-size=\"12\" font-style=\"italic\" lengthAdjust=\"spacingAndGlyphs\" textLength=\"53\" x=\"299.5\" y=\"57.1387\">«action»</text><text fill=\"#000000\" font-family=\"sans-serif\" font-size=\"12\" lengthAdjust=\"spacingAndGlyphs\" textLength=\"8\" x=\"322\" y=\"71.1074\">a</text><line style=\"stroke: #383838; stroke-width: 1.5;\" x1=\"299.5\" x2=\"352.5\" y1=\"78.9375\" y2=\"78.9375\"/></a><!--MD5=[ebbe1d658d1005bcc118a6aa81145e00]\n",
       "class E4--><a href=\"psysml:ed24d8b9-3ec6-4590-a85f-1d8fbc6b009f\" target=\"_top\" title=\"psysml:ed24d8b9-3ec6-4590-a85f-1d8fbc6b009f\" xlink:actuate=\"onRequest\" xlink:href=\"psysml:ed24d8b9-3ec6-4590-a85f-1d8fbc6b009f\" xlink:show=\"new\" xlink:title=\"psysml:ed24d8b9-3ec6-4590-a85f-1d8fbc6b009f\" xlink:type=\"simple\"><rect fill=\"#FFFFFF\" height=\"45.9375\" id=\"E4\" rx=\"10\" ry=\"10\" style=\"stroke: #383838; stroke-width: 1.5;\" width=\"83\" x=\"32.5\" y=\"147\"/><text fill=\"#000000\" font-family=\"sans-serif\" font-size=\"12\" font-style=\"italic\" lengthAdjust=\"spacingAndGlyphs\" textLength=\"53\" x=\"47.5\" y=\"163.1387\">«action»</text><text fill=\"#000000\" font-family=\"sans-serif\" font-size=\"12\" lengthAdjust=\"spacingAndGlyphs\" textLength=\"77\" x=\"35.5\" y=\"177.1074\">start: Action</text><line style=\"stroke: #383838; stroke-width: 1.5;\" x1=\"33.5\" x2=\"114.5\" y1=\"184.9375\" y2=\"184.9375\"/></a><!--MD5=[270fce915f116d4de14055a7c1d9a0f3]\n",
       "class E5--><a href=\"psysml:207ebb71-0108-47ac-8eb2-03003f2402f5\" target=\"_top\" title=\"psysml:207ebb71-0108-47ac-8eb2-03003f2402f5\" xlink:actuate=\"onRequest\" xlink:href=\"psysml:207ebb71-0108-47ac-8eb2-03003f2402f5\" xlink:show=\"new\" xlink:title=\"psysml:207ebb71-0108-47ac-8eb2-03003f2402f5\" xlink:type=\"simple\"><rect fill=\"#FFFFFF\" height=\"45.9375\" id=\"E5\" rx=\"10\" ry=\"10\" style=\"stroke: #383838; stroke-width: 1.5;\" width=\"89\" x=\"150.5\" y=\"147\"/><text fill=\"#000000\" font-family=\"sans-serif\" font-size=\"12\" font-style=\"italic\" lengthAdjust=\"spacingAndGlyphs\" textLength=\"87\" x=\"151.5\" y=\"163.1387\">«mergeNode»</text><text fill=\"#000000\" font-family=\"sans-serif\" font-size=\"12\" lengthAdjust=\"spacingAndGlyphs\" textLength=\"11\" x=\"189.5\" y=\"177.1074\">m</text><line style=\"stroke: #383838; stroke-width: 1.5;\" x1=\"151.5\" x2=\"238.5\" y1=\"184.9375\" y2=\"184.9375\"/></a><!--MD5=[60a26617385b1d2d0262a64233df1f8d]\n",
       "class E6--><a href=\"psysml:56f9bc80-23d6-47f0-bfbf-c5e902f86ac6\" target=\"_top\" title=\"psysml:56f9bc80-23d6-47f0-bfbf-c5e902f86ac6\" xlink:actuate=\"onRequest\" xlink:href=\"psysml:56f9bc80-23d6-47f0-bfbf-c5e902f86ac6\" xlink:show=\"new\" xlink:title=\"psysml:56f9bc80-23d6-47f0-bfbf-c5e902f86ac6\" xlink:type=\"simple\"><rect fill=\"#FFFFFF\" height=\"45.9375\" id=\"E6\" rx=\"10\" ry=\"10\" style=\"stroke: #383838; stroke-width: 1.5;\" width=\"102\" x=\"275\" y=\"147\"/><text fill=\"#000000\" font-family=\"sans-serif\" font-size=\"12\" font-style=\"italic\" lengthAdjust=\"spacingAndGlyphs\" textLength=\"100\" x=\"276\" y=\"163.1387\">«accept action»</text><text fill=\"#000000\" font-family=\"sans-serif\" font-size=\"12\" lengthAdjust=\"spacingAndGlyphs\" text-decoration=\"line-through\" textLength=\"51\" x=\"300.5\" y=\"177.1074\">noname</text><line style=\"stroke: #383838; stroke-width: 1.5;\" x1=\"276\" x2=\"376\" y1=\"184.9375\" y2=\"184.9375\"/></a><!--MD5=[2156ba9850f5573cc1fc38a6a4b2f02b]\n",
       "class E7--><a href=\"psysml:baf32606-26e9-4cc3-a29f-e775486b01d7\" target=\"_top\" title=\"psysml:baf32606-26e9-4cc3-a29f-e775486b01d7\" xlink:actuate=\"onRequest\" xlink:href=\"psysml:baf32606-26e9-4cc3-a29f-e775486b01d7\" xlink:show=\"new\" xlink:title=\"psysml:baf32606-26e9-4cc3-a29f-e775486b01d7\" xlink:type=\"simple\"><rect fill=\"#FFFFFF\" height=\"45.9375\" id=\"E7\" rx=\"10\" ry=\"10\" style=\"stroke: #383838; stroke-width: 1.5;\" width=\"90\" x=\"412\" y=\"147\"/><text fill=\"#000000\" font-family=\"sans-serif\" font-size=\"12\" font-style=\"italic\" lengthAdjust=\"spacingAndGlyphs\" textLength=\"88\" x=\"413\" y=\"163.1387\">«send action»</text><text fill=\"#000000\" font-family=\"sans-serif\" font-size=\"12\" lengthAdjust=\"spacingAndGlyphs\" text-decoration=\"line-through\" textLength=\"51\" x=\"431.5\" y=\"177.1074\">noname</text><line style=\"stroke: #383838; stroke-width: 1.5;\" x1=\"413\" x2=\"501\" y1=\"184.9375\" y2=\"184.9375\"/></a><!--MD5=[b9389687b975829384b498ac4b7476b2]\n",
       "class E8--><a href=\"psysml:de118d49-a158-4609-b10e-b605b2688318\" target=\"_top\" title=\"psysml:de118d49-a158-4609-b10e-b605b2688318\" xlink:actuate=\"onRequest\" xlink:href=\"psysml:de118d49-a158-4609-b10e-b605b2688318\" xlink:show=\"new\" xlink:title=\"psysml:de118d49-a158-4609-b10e-b605b2688318\" xlink:type=\"simple\"><rect fill=\"#FFFFFF\" height=\"45.9375\" id=\"E8\" rx=\"10\" ry=\"10\" style=\"stroke: #383838; stroke-width: 1.5;\" width=\"101\" x=\"537.5\" y=\"147\"/><text fill=\"#000000\" font-family=\"sans-serif\" font-size=\"12\" font-style=\"italic\" lengthAdjust=\"spacingAndGlyphs\" textLength=\"99\" x=\"538.5\" y=\"163.1387\">«decisionNode»</text><text fill=\"#000000\" font-family=\"sans-serif\" font-size=\"12\" lengthAdjust=\"spacingAndGlyphs\" text-decoration=\"line-through\" textLength=\"51\" x=\"562.5\" y=\"177.1074\">noname</text><line style=\"stroke: #383838; stroke-width: 1.5;\" x1=\"538.5\" x2=\"637.5\" y1=\"184.9375\" y2=\"184.9375\"/></a><!--MD5=[fd4143e9d270a159db93a4ea2a975926]\n",
       "class E9--><a href=\"psysml:79d3a6ab-38cc-49fb-ab8f-d1828ed09a3c\" target=\"_top\" title=\"psysml:79d3a6ab-38cc-49fb-ab8f-d1828ed09a3c\" xlink:actuate=\"onRequest\" xlink:href=\"psysml:79d3a6ab-38cc-49fb-ab8f-d1828ed09a3c\" xlink:show=\"new\" xlink:title=\"psysml:79d3a6ab-38cc-49fb-ab8f-d1828ed09a3c\" xlink:type=\"simple\"><rect fill=\"#FFFFFF\" height=\"45.9375\" id=\"E9\" style=\"stroke: #383838; stroke-width: 1.5;\" width=\"79\" x=\"108.5\" y=\"41\"/><text fill=\"#000000\" font-family=\"sans-serif\" font-size=\"12\" font-style=\"italic\" lengthAdjust=\"spacingAndGlyphs\" textLength=\"77\" x=\"109.5\" y=\"57.1387\">«action def»</text><text fill=\"#000000\" font-family=\"sans-serif\" font-size=\"12\" lengthAdjust=\"spacingAndGlyphs\" textLength=\"8\" x=\"144\" y=\"71.1074\">B</text><line style=\"stroke: #383838; stroke-width: 1.5;\" x1=\"109.5\" x2=\"186.5\" y1=\"78.9375\" y2=\"78.9375\"/></a><!--MD5=[4672eba38e49728da53d11aeb285b987]\n",
       "reverse link E3 to E4--><a href=\"psysml:2bdfcbda-067f-4f9a-98d2-dcf2fb74ea33\" target=\"_top\" title=\"psysml:2bdfcbda-067f-4f9a-98d2-dcf2fb74ea33\" xlink:actuate=\"onRequest\" xlink:href=\"psysml:2bdfcbda-067f-4f9a-98d2-dcf2fb74ea33\" xlink:show=\"new\" xlink:title=\"psysml:2bdfcbda-067f-4f9a-98d2-dcf2fb74ea33\" xlink:type=\"simple\"><path d=\"M283.98,82.34 C237.32,101.6 162.45,132.5 115.85,151.73 \" fill=\"none\" id=\"E3&lt;-E4\" style=\"stroke: #383838; stroke-width: 1.0; stroke-dasharray: 7.0,7.0;\"/><ellipse cx=\"290.6768\" cy=\"79.5863\" fill=\"#FFFFFF\" rx=\"8\" ry=\"8\" style=\"stroke: #383838; stroke-width: 1.0;\"/><line style=\"stroke: #383838; stroke-width: 1.0;\" x1=\"283.2837\" x2=\"298.07\" y1=\"82.6427\" y2=\"76.53\"/><line style=\"stroke: #383838; stroke-width: 1.0;\" x1=\"287.6205\" x2=\"293.7332\" y1=\"72.1932\" y2=\"86.9795\"/></a><!--MD5=[191cde3d490a3f6d7bb551fe3ddca469]\n",
       "reverse link E3 to E5--><a href=\"psysml:5bed3b2f-97a8-4cc2-a775-cf545f437587\" target=\"_top\" title=\"psysml:5bed3b2f-97a8-4cc2-a775-cf545f437587\" xlink:actuate=\"onRequest\" xlink:href=\"psysml:5bed3b2f-97a8-4cc2-a775-cf545f437587\" xlink:show=\"new\" xlink:title=\"psysml:5bed3b2f-97a8-4cc2-a775-cf545f437587\" xlink:type=\"simple\"><path d=\"M287.79,95.33 C266.97,111.86 241.66,131.95 222.74,146.98 \" fill=\"none\" id=\"E3&lt;-E5\" style=\"stroke: #383838; stroke-width: 1.0;\"/><polygon fill=\"#383838\" points=\"298.22,87.06,291.0341,87.6625,288.8265,94.5273,296.0123,93.9249,298.22,87.06\" style=\"stroke: #383838; stroke-width: 1.0;\"/><text fill=\"#000000\" font-family=\"sans-serif\" font-size=\"13\" lengthAdjust=\"spacingAndGlyphs\" textLength=\"7\" x=\"222.2545\" y=\"135.8709\">*</text></a><!--MD5=[1026b4b93417a13aa8999a858998add2]\n",
       "reverse link E3 to E6--><a href=\"psysml:856d4c40-3d8a-43fc-9608-49cee162593b\" target=\"_top\" title=\"psysml:856d4c40-3d8a-43fc-9608-49cee162593b\" xlink:actuate=\"onRequest\" xlink:href=\"psysml:856d4c40-3d8a-43fc-9608-49cee162593b\" xlink:show=\"new\" xlink:title=\"psysml:856d4c40-3d8a-43fc-9608-49cee162593b\" xlink:type=\"simple\"><path d=\"M326,100.44 C326,115.87 326,133.47 326,146.98 \" fill=\"none\" id=\"E3&lt;-E6\" style=\"stroke: #383838; stroke-width: 1.0;\"/><polygon fill=\"#383838\" points=\"326,87.06,322,93.06,326,99.06,330,93.06,326,87.06\" style=\"stroke: #383838; stroke-width: 1.0;\"/><text fill=\"#000000\" font-family=\"sans-serif\" font-size=\"13\" lengthAdjust=\"spacingAndGlyphs\" textLength=\"7\" x=\"318.0594\" y=\"135.8709\">*</text></a><!--MD5=[3403bfa781cc3da0fd423dbab6f01c63]\n",
       "reverse link E6 to E2--><a href=\"psysml:1accd303-612e-4d59-ad9b-f522e5e57a44\" target=\"_top\" title=\"psysml:1accd303-612e-4d59-ad9b-f522e5e57a44\" xlink:actuate=\"onRequest\" xlink:href=\"psysml:1accd303-612e-4d59-ad9b-f522e5e57a44\" xlink:show=\"new\" xlink:title=\"psysml:1accd303-612e-4d59-ad9b-f522e5e57a44\" xlink:type=\"simple\"><path d=\"M326,206.44 C326,221.87 326,239.47 326,252.98 \" fill=\"none\" id=\"E6&lt;-E2\" style=\"stroke: #383838; stroke-width: 1.0;\"/><polygon fill=\"#FFFFFF\" points=\"326,193.06,322,199.06,326,205.06,330,199.06,326,193.06\" style=\"stroke: #383838; stroke-width: 1.0;\"/></a><!--MD5=[85760999379eecfd2565a9fecdca67e4]\n",
       "reverse link E3 to E7--><a href=\"psysml:a7054211-8666-4154-9247-2ebed4d34e27\" target=\"_top\" title=\"psysml:a7054211-8666-4154-9247-2ebed4d34e27\" xlink:actuate=\"onRequest\" xlink:href=\"psysml:a7054211-8666-4154-9247-2ebed4d34e27\" xlink:show=\"new\" xlink:title=\"psysml:a7054211-8666-4154-9247-2ebed4d34e27\" xlink:type=\"simple\"><path d=\"M364.21,95.33 C385.03,111.86 410.34,131.95 429.26,146.98 \" fill=\"none\" id=\"E3&lt;-E7\" style=\"stroke: #383838; stroke-width: 1.0;\"/><polygon fill=\"#383838\" points=\"353.78,87.06,355.9877,93.9249,363.1735,94.5273,360.9659,87.6625,353.78,87.06\" style=\"stroke: #383838; stroke-width: 1.0;\"/><text fill=\"#000000\" font-family=\"sans-serif\" font-size=\"13\" lengthAdjust=\"spacingAndGlyphs\" textLength=\"7\" x=\"413.8642\" y=\"135.8709\">*</text></a><!--MD5=[4cb75b73ec3682b8f7f8edc9cc86126a]\n",
       "reverse link E3 to E8--><a href=\"psysml:6d3dd5fa-79f8-485d-9bbb-f558da8741e9\" target=\"_top\" title=\"psysml:6d3dd5fa-79f8-485d-9bbb-f558da8741e9\" xlink:actuate=\"onRequest\" xlink:href=\"psysml:6d3dd5fa-79f8-485d-9bbb-f558da8741e9\" xlink:show=\"new\" xlink:title=\"psysml:6d3dd5fa-79f8-485d-9bbb-f558da8741e9\" xlink:type=\"simple\"><path d=\"M365.63,80.73 C411.46,98.92 486.99,128.91 537.12,148.8 \" fill=\"none\" id=\"E3&lt;-E8\" style=\"stroke: #383838; stroke-width: 1.0;\"/><polygon fill=\"#383838\" points=\"353.54,75.93,357.6459,81.858,364.6971,80.348,360.5912,74.42,353.54,75.93\" style=\"stroke: #383838; stroke-width: 1.0;\"/></a><!--MD5=[c0ebe157716c7fc4ab00d85d541fb82a]\n",
       "@startuml\r\n",
       " skinparam monochrome true\r\n",
       "skinparam classbackgroundcolor white\r\n",
       "skinparam shadowing false\r\n",
       "skinparam wrapWidth 300\r\n",
       "hide circle\r\n",
       "\r\n",
       "package \"ActionTest\" as E1  [[psysml:a2683da9-1b6e-41fc-828a-cc7d1e5b2935 ]]  {\r\n",
       "comp def \"S\" as E2  <<(T,blue) attribute def>> [[psysml:9c87d4ab-cb1d-4b31-8fcd-81209805f4cd ]] {\r\n",
       "}\r\n",
       "comp usage \"a\" as E3  <<(T,blue) action>> [[psysml:88e0a3c5-b7f9-4d13-8306-ae5e61691436 ]] {\r\n",
       "}\r\n",
       "comp usage \"start: Action\" as E4  <<(T,blue) action>> [[psysml:ed24d8b9-3ec6-4590-a85f-1d8fbc6b009f ]] {\r\n",
       "}\r\n",
       "comp usage \"m\" as E5  <<(T,blue) mergeNode>> [[psysml:207ebb71-0108-47ac-8eb2-03003f2402f5 ]] {\r\n",
       "}\r\n",
       "comp usage \"<s>noname</s>\" as E6 << accept action>> [[psysml:56f9bc80-23d6-47f0-bfbf-c5e902f86ac6 ]] {\r\n",
       "}\r\n",
       "comp usage \"<s>noname</s>\" as E7 << send action>> [[psysml:baf32606-26e9-4cc3-a29f-e775486b01d7 ]] {\r\n",
       "}\r\n",
       "comp usage \"<s>noname</s>\" as E8  <<(T,blue) decisionNode>> [[psysml:de118d49-a158-4609-b10e-b605b2688318 ]] {\r\n",
       "}\r\n",
       "comp def \"B\" as E9  <<(T,blue) action def>> [[psysml:79d3a6ab-38cc-49fb-ab8f-d1828ed09a3c ]] {\r\n",
       "}\r\n",
       "}\r\n",
       "E3 +.. E4 [[psysml:2bdfcbda-067f-4f9a-98d2-dcf2fb74ea33 ]] \r\n",
       "E3 *- - \"*\"E5 [[psysml:5bed3b2f-97a8-4cc2-a775-cf545f437587 ]] \r\n",
       "E3 *- - \"*\"E6 [[psysml:856d4c40-3d8a-43fc-9608-49cee162593b ]] \r\n",
       "E6 o- - E2 [[psysml:1accd303-612e-4d59-ad9b-f522e5e57a44 ]] \r\n",
       "E3 *- - \"*\"E7 [[psysml:a7054211-8666-4154-9247-2ebed4d34e27 ]] \r\n",
       "E3 *- - E8 [[psysml:6d3dd5fa-79f8-485d-9bbb-f558da8741e9 ]] \r\n",
       "@enduml\r\n",
       "\n",
       "PlantUML version 1.2020.13(Sat Jun 13 12:26:38 UTC 2020)\n",
       "(EPL source distribution)\n",
       "Java Runtime: OpenJDK Runtime Environment\n",
       "JVM: OpenJDK 64-Bit Server VM\n",
       "Default Encoding: UTF-8\n",
       "Language: en\n",
       "Country: null\n",
       "--></g></svg>"
      ]
     },
     "execution_count": 3,
     "metadata": {},
     "output_type": "execute_result"
    }
   ],
   "source": [
    "%viz --style=\"COMPTREE\" --view=\"Tree\" \"ActionTest\""
   ]
  },
  {
   "cell_type": "code",
   "execution_count": 4,
   "id": "49c6f359",
   "metadata": {
    "execution": {
     "iopub.execute_input": "2021-09-27T07:16:54.164017Z",
     "iopub.status.busy": "2021-09-27T07:16:54.163598Z",
     "iopub.status.idle": "2021-09-27T07:16:54.172632Z",
     "shell.execute_reply": "2021-09-27T07:16:54.173097Z"
    }
   },
   "outputs": [
    {
     "data": {
      "image/svg+xml": [
       "<?xml version=\"1.0\" encoding=\"UTF-8\" standalone=\"no\"?><svg xmlns=\"http://www.w3.org/2000/svg\" xmlns:xlink=\"http://www.w3.org/1999/xlink\" contentScriptType=\"application/ecmascript\" contentStyleType=\"text/css\" height=\"12px\" preserveAspectRatio=\"none\" style=\"width:12px;height:12px;\" version=\"1.1\" viewBox=\"0 0 12 12\" width=\"12px\" zoomAndPan=\"magnify\"><defs/><g><!--MD5=[f19188ef49e11757b5c46753f95d9edc]\n",
       "@startuml\r\n",
       " skinparam monochrome true\r\n",
       "skinparam classbackgroundcolor white\r\n",
       "skinparam shadowing false\r\n",
       "skinparam wrapWidth 300\r\n",
       "hide circle\r\n",
       "\r\n",
       "@enduml\r\n",
       "\n",
       "PlantUML version 1.2020.13(Sat Jun 13 12:26:38 UTC 2020)\n",
       "(EPL source distribution)\n",
       "Java Runtime: OpenJDK Runtime Environment\n",
       "JVM: OpenJDK 64-Bit Server VM\n",
       "Default Encoding: UTF-8\n",
       "Language: en\n",
       "Country: null\n",
       "--></g></svg>"
      ]
     },
     "execution_count": 4,
     "metadata": {},
     "output_type": "execute_result"
    }
   ],
   "source": [
    "%viz --style=\"COMPTREE\" --view=\"State\" \"ActionTest\""
   ]
  },
  {
   "cell_type": "code",
   "execution_count": 5,
   "id": "97426f17",
   "metadata": {
    "execution": {
     "iopub.execute_input": "2021-09-27T07:16:54.223420Z",
     "iopub.status.busy": "2021-09-27T07:16:54.222998Z",
     "iopub.status.idle": "2021-09-27T07:16:54.306965Z",
     "shell.execute_reply": "2021-09-27T07:16:54.306444Z"
    }
   },
   "outputs": [
    {
     "data": {
      "image/svg+xml": [
       "<?xml version=\"1.0\" encoding=\"UTF-8\" standalone=\"no\"?><svg xmlns=\"http://www.w3.org/2000/svg\" xmlns:xlink=\"http://www.w3.org/1999/xlink\" contentScriptType=\"application/ecmascript\" contentStyleType=\"text/css\" height=\"462px\" preserveAspectRatio=\"none\" style=\"width:522px;height:462px;\" version=\"1.1\" viewBox=\"0 0 522 462\" width=\"522px\" zoomAndPan=\"magnify\"><defs/><g><!--MD5=[fbc87193dbaf4d95561dea2c320d4a47]\n",
       "cluster E1--><a href=\"psysml:a2683da9-1b6e-41fc-828a-cc7d1e5b2935\" target=\"_top\" title=\"psysml:a2683da9-1b6e-41fc-828a-cc7d1e5b2935\" xlink:actuate=\"onRequest\" xlink:href=\"psysml:a2683da9-1b6e-41fc-828a-cc7d1e5b2935\" xlink:show=\"new\" xlink:title=\"psysml:a2683da9-1b6e-41fc-828a-cc7d1e5b2935\" xlink:type=\"simple\"><polygon fill=\"#FFFFFF\" points=\"16,6,96,6,103,28.2969,500,28.2969,500,450.5,16,450.5,16,6\" style=\"stroke: #000000; stroke-width: 1.5;\"/><line style=\"stroke: #000000; stroke-width: 1.5;\" x1=\"16\" x2=\"103\" y1=\"28.2969\" y2=\"28.2969\"/><text fill=\"#000000\" font-family=\"sans-serif\" font-size=\"14\" font-weight=\"bold\" lengthAdjust=\"spacingAndGlyphs\" textLength=\"74\" x=\"20\" y=\"20.9951\">ActionTest</text></a><!--MD5=[d5e69f78d87373223dbae638b30a9c99]\n",
       "cluster E3--><a href=\"psysml:88e0a3c5-b7f9-4d13-8306-ae5e61691436\" target=\"_top\" title=\"psysml:88e0a3c5-b7f9-4d13-8306-ae5e61691436\" xlink:actuate=\"onRequest\" xlink:href=\"psysml:88e0a3c5-b7f9-4d13-8306-ae5e61691436\" xlink:show=\"new\" xlink:title=\"psysml:88e0a3c5-b7f9-4d13-8306-ae5e61691436\" xlink:type=\"simple\"><rect fill=\"#FFFFFF\" height=\"377.5\" id=\"E3\" rx=\"10\" ry=\"10\" style=\"stroke: #383838; stroke-width: 1.5;\" width=\"209\" x=\"267\" y=\"49\"/><rect fill=\"#F8F8F8\" height=\"37.9375\" rx=\"10\" ry=\"10\" style=\"stroke: #F8F8F8; stroke-width: 1.5;\" width=\"209\" x=\"267\" y=\"49\"/><rect fill=\"#F8F8F8\" height=\"10\" style=\"stroke: #F8F8F8; stroke-width: 1.5;\" width=\"209\" x=\"267\" y=\"76.9375\"/><rect fill=\"none\" height=\"377.5\" id=\"E3\" rx=\"10\" ry=\"10\" style=\"stroke: #383838; stroke-width: 1.5;\" width=\"209\" x=\"267\" y=\"49\"/><text fill=\"#000000\" font-family=\"sans-serif\" font-size=\"12\" font-style=\"italic\" lengthAdjust=\"spacingAndGlyphs\" textLength=\"53\" x=\"345\" y=\"65.1387\">«action»</text><text fill=\"#000000\" font-family=\"sans-serif\" font-size=\"12\" lengthAdjust=\"spacingAndGlyphs\" textLength=\"8\" x=\"367.5\" y=\"79.1074\">a</text><line style=\"stroke: #383838; stroke-width: 1.0;\" x1=\"267\" x2=\"476\" y1=\"86.9375\" y2=\"86.9375\"/></a><g id=\"E1.E2\"><a href=\"psysml:9c87d4ab-cb1d-4b31-8fcd-81209805f4cd\" target=\"_top\" title=\"psysml:9c87d4ab-cb1d-4b31-8fcd-81209805f4cd\" xlink:actuate=\"onRequest\" xlink:href=\"psysml:9c87d4ab-cb1d-4b31-8fcd-81209805f4cd\" xlink:show=\"new\" xlink:title=\"psysml:9c87d4ab-cb1d-4b31-8fcd-81209805f4cd\" xlink:type=\"simple\"><rect fill=\"#FFFFFF\" height=\"42.9375\" id=\"E2\" style=\"stroke: #383838; stroke-width: 1.5;\" width=\"100\" x=\"151\" y=\"88.5\"/><rect fill=\"#F8F8F8\" height=\"37.9375\" style=\"stroke: #383838; stroke-width: 1.5;\" width=\"100\" x=\"151\" y=\"88.5\"/><text fill=\"#000000\" font-family=\"sans-serif\" font-size=\"12\" font-style=\"italic\" lengthAdjust=\"spacingAndGlyphs\" textLength=\"93\" x=\"154.5\" y=\"104.6387\">«attribute def»</text><text fill=\"#000000\" font-family=\"sans-serif\" font-size=\"12\" lengthAdjust=\"spacingAndGlyphs\" textLength=\"8\" x=\"197\" y=\"118.6074\">S</text></a></g><polygon fill=\"#F8F8F8\" points=\"424,148.5,436,160.5,424,172.5,412,160.5,424,148.5\" style=\"stroke: #383838; stroke-width: 1.5;\"/><!--MD5=[21dd76c19d33815960c0e92fef8f0eef]\n",
       "entity E5--><a href=\"psysml:56f9bc80-23d6-47f0-bfbf-c5e902f86ac6\" target=\"_top\" title=\"psysml:56f9bc80-23d6-47f0-bfbf-c5e902f86ac6\" xlink:actuate=\"onRequest\" xlink:href=\"psysml:56f9bc80-23d6-47f0-bfbf-c5e902f86ac6\" xlink:show=\"new\" xlink:title=\"psysml:56f9bc80-23d6-47f0-bfbf-c5e902f86ac6\" xlink:type=\"simple\"><polygon fill=\"#F8F8F8\" points=\"283,189.5,283,244.0938,423,244.0938,403,216.7969,423,189.5\" style=\"stroke: #000000; stroke-width: 1.5;\"/><text fill=\"#000000\" font-family=\"sans-serif\" font-size=\"14\" font-style=\"italic\" lengthAdjust=\"spacingAndGlyphs\" textLength=\"111\" x=\"290\" y=\"212.4951\">«accept action»</text><text fill=\"#000000\" font-family=\"sans-serif\" font-size=\"14\" lengthAdjust=\"spacingAndGlyphs\" textLength=\"9\" x=\"341\" y=\"229.792\">S</text></a><!--MD5=[24d87cdf3002d433f401b2a2aa9f9f65]\n",
       "entity E6--><a href=\"psysml:baf32606-26e9-4cc3-a29f-e775486b01d7\" target=\"_top\" title=\"psysml:baf32606-26e9-4cc3-a29f-e775486b01d7\" xlink:actuate=\"onRequest\" xlink:href=\"psysml:baf32606-26e9-4cc3-a29f-e775486b01d7\" xlink:show=\"new\" xlink:title=\"psysml:baf32606-26e9-4cc3-a29f-e775486b01d7\" xlink:type=\"simple\"><polygon fill=\"#F8F8F8\" points=\"283,277.5,283,332.0938,391,332.0938,411,304.7969,391,277.5\" style=\"stroke: #000000; stroke-width: 1.5;\"/><text fill=\"#000000\" font-family=\"sans-serif\" font-size=\"14\" font-style=\"italic\" lengthAdjust=\"spacingAndGlyphs\" textLength=\"99\" x=\"290\" y=\"300.4951\">«send action»</text><text fill=\"#000000\" font-family=\"sans-serif\" font-size=\"14\" lengthAdjust=\"spacingAndGlyphs\" textLength=\"65\" x=\"307\" y=\"317.792\">S() to  B()</text></a><polygon fill=\"#F8F8F8\" points=\"422,349.5,434,361.5,422,373.5,410,361.5,422,349.5\" style=\"stroke: #383838; stroke-width: 1.5;\"/><ellipse cx=\"424\" cy=\"110\" fill=\"#000000\" rx=\"10\" ry=\"10\" style=\"stroke: none; stroke-width: 1.0;\"/><ellipse cx=\"422\" cy=\"400.5\" fill=\"none\" rx=\"10\" ry=\"10\" style=\"stroke: #000000; stroke-width: 1.0;\"/><ellipse cx=\"422.5\" cy=\"401\" fill=\"#000000\" rx=\"6\" ry=\"6\" style=\"stroke: none; stroke-width: 1.0;\"/><g id=\"E1.E8\"><a href=\"psysml:79d3a6ab-38cc-49fb-ab8f-d1828ed09a3c\" target=\"_top\" title=\"psysml:79d3a6ab-38cc-49fb-ab8f-d1828ed09a3c\" xlink:actuate=\"onRequest\" xlink:href=\"psysml:79d3a6ab-38cc-49fb-ab8f-d1828ed09a3c\" xlink:show=\"new\" xlink:title=\"psysml:79d3a6ab-38cc-49fb-ab8f-d1828ed09a3c\" xlink:type=\"simple\"><rect fill=\"#FFFFFF\" height=\"42.9375\" id=\"E8\" style=\"stroke: #383838; stroke-width: 1.5;\" width=\"84\" x=\"32\" y=\"88.5\"/><rect fill=\"#F8F8F8\" height=\"37.9375\" style=\"stroke: #383838; stroke-width: 1.5;\" width=\"84\" x=\"32\" y=\"88.5\"/><text fill=\"#000000\" font-family=\"sans-serif\" font-size=\"12\" font-style=\"italic\" lengthAdjust=\"spacingAndGlyphs\" textLength=\"77\" x=\"35.5\" y=\"104.6387\">«action def»</text><text fill=\"#000000\" font-family=\"sans-serif\" font-size=\"12\" lengthAdjust=\"spacingAndGlyphs\" textLength=\"8\" x=\"70\" y=\"118.6074\">B</text></a></g><!--MD5=[f47e10efcf9a6752d55dae986d790ed9]\n",
       "link *start*E3 to E4--><a href=\"psysml:fb7d5adc-5880-4810-9813-86e53c07f96a\" target=\"_top\" title=\"psysml:fb7d5adc-5880-4810-9813-86e53c07f96a\" xlink:actuate=\"onRequest\" xlink:href=\"psysml:fb7d5adc-5880-4810-9813-86e53c07f96a\" xlink:show=\"new\" xlink:title=\"psysml:fb7d5adc-5880-4810-9813-86e53c07f96a\" xlink:type=\"simple\"><path d=\"M424,120.35 C424,126.88 424,135.77 424,143.42 \" fill=\"none\" id=\"*start*E3-&gt;E4\" style=\"stroke: #383838; stroke-width: 1.0;\"/><polygon fill=\"#383838\" points=\"424,148.48,428,139.48,424,143.48,420,139.48,424,148.48\" style=\"stroke: #383838; stroke-width: 1.0;\"/></a><!--MD5=[d19f2eb34364d71b67042106d92f540b]\n",
       "link E7 to *end*E3--><a href=\"psysml:c9de1ce8-1045-4471-9685-45647676290c\" target=\"_top\" title=\"psysml:c9de1ce8-1045-4471-9685-45647676290c\" xlink:actuate=\"onRequest\" xlink:href=\"psysml:c9de1ce8-1045-4471-9685-45647676290c\" xlink:show=\"new\" xlink:title=\"psysml:c9de1ce8-1045-4471-9685-45647676290c\" xlink:type=\"simple\"><path d=\"M422,373.8 C422,377.34 422,381.3 422,385.03 \" fill=\"none\" id=\"E7-&gt;*end*E3\" style=\"stroke: #383838; stroke-width: 1.0;\"/><polygon fill=\"#383838\" points=\"422,390.25,426,381.25,422,385.25,418,381.25,422,390.25\" style=\"stroke: #383838; stroke-width: 1.0;\"/></a><!--MD5=[1b7591eae5389033d8d09a9d6721a717]\n",
       "link E4 to E5--><a href=\"psysml:674af9b4-5477-4a2d-9c32-c1d49aef2cdc\" target=\"_top\" title=\"psysml:674af9b4-5477-4a2d-9c32-c1d49aef2cdc\" xlink:actuate=\"onRequest\" xlink:href=\"psysml:674af9b4-5477-4a2d-9c32-c1d49aef2cdc\" xlink:show=\"new\" xlink:title=\"psysml:674af9b4-5477-4a2d-9c32-c1d49aef2cdc\" xlink:type=\"simple\"><path d=\"M417.45,166.53 C411.33,171.23 401.65,178.66 391.64,186.34 \" fill=\"none\" id=\"E4-&gt;E5\" style=\"stroke: #383838; stroke-width: 1.0;\"/><polygon fill=\"#383838\" points=\"387.64,189.41,397.2129,187.0948,391.6037,186.3621,392.3363,180.7529,387.64,189.41\" style=\"stroke: #383838; stroke-width: 1.0;\"/><text fill=\"#000000\" font-family=\"sans-serif\" font-size=\"13\" lengthAdjust=\"spacingAndGlyphs\" textLength=\"7\" x=\"387.8411\" y=\"178.4247\">*</text></a><!--MD5=[9120cf2e5df3bff93db8f754bbbc09b4]\n",
       "link E5 to E6--><a href=\"psysml:f1d57d75-7b92-4f65-894e-3c0dce6664b2\" target=\"_top\" title=\"psysml:f1d57d75-7b92-4f65-894e-3c0dce6664b2\" xlink:actuate=\"onRequest\" xlink:href=\"psysml:f1d57d75-7b92-4f65-894e-3c0dce6664b2\" xlink:show=\"new\" xlink:title=\"psysml:f1d57d75-7b92-4f65-894e-3c0dce6664b2\" xlink:type=\"simple\"><path d=\"M351.13,244.74 C350.53,253.4 349.85,263.08 349.23,272.08 \" fill=\"none\" id=\"E5-&gt;E6\" style=\"stroke: #383838; stroke-width: 1.0;\"/><polygon fill=\"#383838\" points=\"348.86,277.28,353.468,268.5756,349.203,272.2918,345.4869,268.0268,348.86,277.28\" style=\"stroke: #383838; stroke-width: 1.0;\"/><text fill=\"#000000\" font-family=\"sans-serif\" font-size=\"13\" lengthAdjust=\"spacingAndGlyphs\" textLength=\"7\" x=\"341.4808\" y=\"266.2646\">*</text></a><!--MD5=[02c70b7c851c11e3980e4e90450dc5dd]\n",
       "link E6 to E7--><a href=\"psysml:5bbe4286-aec7-454e-8b07-ff0b44373e66\" target=\"_top\" title=\"psysml:5bbe4286-aec7-454e-8b07-ff0b44373e66\" xlink:actuate=\"onRequest\" xlink:href=\"psysml:5bbe4286-aec7-454e-8b07-ff0b44373e66\" xlink:show=\"new\" xlink:title=\"psysml:5bbe4286-aec7-454e-8b07-ff0b44373e66\" xlink:type=\"simple\"><path d=\"M383.62,332.61 C393.72,339.95 403.91,347.35 411.24,352.68 \" fill=\"none\" id=\"E6-&gt;E7\" style=\"stroke: #383838; stroke-width: 1.0;\"/><polygon fill=\"#383838\" points=\"415.42,355.72,410.4976,347.1894,411.3776,352.7774,405.7896,353.6574,415.42,355.72\" style=\"stroke: #383838; stroke-width: 1.0;\"/><text fill=\"#000000\" font-family=\"sans-serif\" font-size=\"13\" lengthAdjust=\"spacingAndGlyphs\" textLength=\"7\" x=\"397.584\" y=\"338.5823\">*</text></a><!--MD5=[6bdd27f9905911a7e892a3dc65cf6b7c]\n",
       "link E7 to E4--><a href=\"psysml:df5824e0-bb07-4266-b9ed-97217b9e7a59\" target=\"_top\" title=\"psysml:df5824e0-bb07-4266-b9ed-97217b9e7a59\" xlink:actuate=\"onRequest\" xlink:href=\"psysml:df5824e0-bb07-4266-b9ed-97217b9e7a59\" xlink:show=\"new\" xlink:title=\"psysml:df5824e0-bb07-4266-b9ed-97217b9e7a59\" xlink:type=\"simple\"><path d=\"M425,352.49 C433.84,327.73 458.06,250.48 441,189.5 C439.26,183.29 435.73,177.1 432.34,172.12 \" fill=\"none\" id=\"E7-&gt;E4\" style=\"stroke: #383838; stroke-width: 1.0;\"/><polygon fill=\"#383838\" points=\"429.31,167.92,431.3342,177.5586,432.2364,171.9741,437.8209,172.8763,429.31,167.92\" style=\"stroke: #383838; stroke-width: 1.0;\"/><text fill=\"#000000\" font-family=\"sans-serif\" font-size=\"13\" lengthAdjust=\"spacingAndGlyphs\" textLength=\"36\" x=\"447\" y=\"265.5669\">[true]</text><text fill=\"#000000\" font-family=\"sans-serif\" font-size=\"13\" lengthAdjust=\"spacingAndGlyphs\" textLength=\"7\" x=\"430.8853\" y=\"189.5917\">*</text></a><!--MD5=[9ea4276ca5c6545a6b9bb9d7711b44ef]\n",
       "@startuml\r\n",
       "skinparam ranksep 10\r\n",
       "skinparam rectangle {\r\n",
       " backgroundColor<<block>> LightGreen\r\n",
       "}\r\n",
       " skinparam monochrome true\r\n",
       "skinparam classbackgroundcolor white\r\n",
       "skinparam shadowing false\r\n",
       "skinparam wrapWidth 300\r\n",
       "hide circle\r\n",
       "\r\n",
       "package \"ActionTest\" as E1  [[psysml:a2683da9-1b6e-41fc-828a-cc7d1e5b2935 ]]  {\r\n",
       "def \"S\" as E2  <<(T,blue) attribute def>> [[psysml:9c87d4ab-cb1d-4b31-8fcd-81209805f4cd ]] \r\n",
       "rec usage \"a\" as E3  <<(T,blue) action>> [[psysml:88e0a3c5-b7f9-4d13-8306-ae5e61691436 ]] {\r\n",
       "choice \"m\" as E4  [[psysml:207ebb71-0108-47ac-8eb2-03003f2402f5 ]] \r\n",
       "accept \" S\" as E5 << accept action>> [[psysml:56f9bc80-23d6-47f0-bfbf-c5e902f86ac6 ]] \r\n",
       "send \" S() to  B()\" as E6 << send action>> [[psysml:baf32606-26e9-4cc3-a29f-e775486b01d7 ]] \r\n",
       "choice \"<s>noname</s>\" as E7  [[psysml:de118d49-a158-4609-b10e-b605b2688318 ]] \r\n",
       "[*] - -> E4 [[psysml:fb7d5adc-5880-4810-9813-86e53c07f96a ]] \r\n",
       "E7  - -> [*] [[psysml:c9de1ce8-1045-4471-9685-45647676290c ]] \r\n",
       "}\r\n",
       "\r\n",
       "rec def \"B\" as E8  <<(T,blue) action def>> [[psysml:79d3a6ab-38cc-49fb-ab8f-d1828ed09a3c ]] {\r\n",
       "}\r\n",
       "\r\n",
       "}\r\n",
       "E4 - -> \"*\"E5 [[psysml:674af9b4-5477-4a2d-9c32-c1d49aef2cdc ]] \r\n",
       "E5 - -> \"*\"E6 [[psysml:f1d57d75-7b92-4f65-894e-3c0dce6664b2 ]] \r\n",
       "E6 - -> \"*\"E7 [[psysml:5bbe4286-aec7-454e-8b07-ff0b44373e66 ]] \r\n",
       "E7  - -> \"*\"E4 [[psysml:df5824e0-bb07-4266-b9ed-97217b9e7a59 ]] : [true]\r\n",
       "@enduml\r\n",
       "\n",
       "PlantUML version 1.2020.13(Sat Jun 13 12:26:38 UTC 2020)\n",
       "(EPL source distribution)\n",
       "Java Runtime: OpenJDK Runtime Environment\n",
       "JVM: OpenJDK 64-Bit Server VM\n",
       "Default Encoding: UTF-8\n",
       "Language: en\n",
       "Country: null\n",
       "--></g></svg>"
      ]
     },
     "execution_count": 5,
     "metadata": {},
     "output_type": "execute_result"
    }
   ],
   "source": [
    "%viz --style=\"COMPTREE\" --view=\"Interconnection\" \"ActionTest\""
   ]
  },
  {
   "cell_type": "code",
   "execution_count": 6,
   "id": "17f7cad1",
   "metadata": {
    "execution": {
     "iopub.execute_input": "2021-09-27T07:16:54.356961Z",
     "iopub.status.busy": "2021-09-27T07:16:54.356323Z",
     "iopub.status.idle": "2021-09-27T07:16:54.425090Z",
     "shell.execute_reply": "2021-09-27T07:16:54.425427Z"
    }
   },
   "outputs": [
    {
     "data": {
      "image/svg+xml": [
       "<?xml version=\"1.0\" encoding=\"UTF-8\" standalone=\"no\"?><svg xmlns=\"http://www.w3.org/2000/svg\" xmlns:xlink=\"http://www.w3.org/1999/xlink\" contentScriptType=\"application/ecmascript\" contentStyleType=\"text/css\" height=\"395px\" preserveAspectRatio=\"none\" style=\"width:335px;height:395px;\" version=\"1.1\" viewBox=\"0 0 335 395\" width=\"335px\" zoomAndPan=\"magnify\"><defs/><g><!--MD5=[fbc87193dbaf4d95561dea2c320d4a47]\n",
       "cluster E1--><a href=\"psysml:88e0a3c5-b7f9-4d13-8306-ae5e61691436\" target=\"_top\" title=\"psysml:88e0a3c5-b7f9-4d13-8306-ae5e61691436\" xlink:actuate=\"onRequest\" xlink:href=\"psysml:88e0a3c5-b7f9-4d13-8306-ae5e61691436\" xlink:show=\"new\" xlink:title=\"psysml:88e0a3c5-b7f9-4d13-8306-ae5e61691436\" xlink:type=\"simple\"><rect fill=\"#FFFFFF\" height=\"377.5\" id=\"E1\" rx=\"10\" ry=\"10\" style=\"stroke: #383838; stroke-width: 1.5;\" width=\"209\" x=\"107\" y=\"7\"/><rect fill=\"#F8F8F8\" height=\"37.9375\" rx=\"10\" ry=\"10\" style=\"stroke: #F8F8F8; stroke-width: 1.5;\" width=\"209\" x=\"107\" y=\"7\"/><rect fill=\"#F8F8F8\" height=\"10\" style=\"stroke: #F8F8F8; stroke-width: 1.5;\" width=\"209\" x=\"107\" y=\"34.9375\"/><rect fill=\"none\" height=\"377.5\" id=\"E1\" rx=\"10\" ry=\"10\" style=\"stroke: #383838; stroke-width: 1.5;\" width=\"209\" x=\"107\" y=\"7\"/><text fill=\"#000000\" font-family=\"sans-serif\" font-size=\"12\" font-style=\"italic\" lengthAdjust=\"spacingAndGlyphs\" textLength=\"53\" x=\"185\" y=\"23.1387\">«action»</text><text fill=\"#000000\" font-family=\"sans-serif\" font-size=\"12\" lengthAdjust=\"spacingAndGlyphs\" textLength=\"8\" x=\"207.5\" y=\"37.1074\">a</text><line style=\"stroke: #383838; stroke-width: 1.0;\" x1=\"107\" x2=\"316\" y1=\"44.9375\" y2=\"44.9375\"/></a><polygon fill=\"#F8F8F8\" points=\"264,106.5,276,118.5,264,130.5,252,118.5,264,106.5\" style=\"stroke: #383838; stroke-width: 1.5;\"/><!--MD5=[a60fb756f580feb9fd8e2cf1329b5c91]\n",
       "entity E3--><a href=\"psysml:56f9bc80-23d6-47f0-bfbf-c5e902f86ac6\" target=\"_top\" title=\"psysml:56f9bc80-23d6-47f0-bfbf-c5e902f86ac6\" xlink:actuate=\"onRequest\" xlink:href=\"psysml:56f9bc80-23d6-47f0-bfbf-c5e902f86ac6\" xlink:show=\"new\" xlink:title=\"psysml:56f9bc80-23d6-47f0-bfbf-c5e902f86ac6\" xlink:type=\"simple\"><polygon fill=\"#F8F8F8\" points=\"123,147.5,123,202.0938,263,202.0938,243,174.7969,263,147.5\" style=\"stroke: #000000; stroke-width: 1.5;\"/><text fill=\"#000000\" font-family=\"sans-serif\" font-size=\"14\" font-style=\"italic\" lengthAdjust=\"spacingAndGlyphs\" textLength=\"111\" x=\"130\" y=\"170.4951\">«accept action»</text><text fill=\"#000000\" font-family=\"sans-serif\" font-size=\"14\" lengthAdjust=\"spacingAndGlyphs\" textLength=\"9\" x=\"181\" y=\"187.792\">S</text></a><!--MD5=[961cefdc15414eaa3e87aec9d17c2188]\n",
       "entity E4--><a href=\"psysml:baf32606-26e9-4cc3-a29f-e775486b01d7\" target=\"_top\" title=\"psysml:baf32606-26e9-4cc3-a29f-e775486b01d7\" xlink:actuate=\"onRequest\" xlink:href=\"psysml:baf32606-26e9-4cc3-a29f-e775486b01d7\" xlink:show=\"new\" xlink:title=\"psysml:baf32606-26e9-4cc3-a29f-e775486b01d7\" xlink:type=\"simple\"><polygon fill=\"#F8F8F8\" points=\"123,235.5,123,290.0938,231,290.0938,251,262.7969,231,235.5\" style=\"stroke: #000000; stroke-width: 1.5;\"/><text fill=\"#000000\" font-family=\"sans-serif\" font-size=\"14\" font-style=\"italic\" lengthAdjust=\"spacingAndGlyphs\" textLength=\"99\" x=\"130\" y=\"258.4951\">«send action»</text><text fill=\"#000000\" font-family=\"sans-serif\" font-size=\"14\" lengthAdjust=\"spacingAndGlyphs\" textLength=\"65\" x=\"147\" y=\"275.792\">S() to  B()</text></a><polygon fill=\"#F8F8F8\" points=\"262,307.5,274,319.5,262,331.5,250,319.5,262,307.5\" style=\"stroke: #383838; stroke-width: 1.5;\"/><ellipse cx=\"264\" cy=\"68\" fill=\"#000000\" rx=\"10\" ry=\"10\" style=\"stroke: none; stroke-width: 1.0;\"/><ellipse cx=\"262\" cy=\"358.5\" fill=\"none\" rx=\"10\" ry=\"10\" style=\"stroke: #000000; stroke-width: 1.0;\"/><ellipse cx=\"262.5\" cy=\"359\" fill=\"#000000\" rx=\"6\" ry=\"6\" style=\"stroke: none; stroke-width: 1.0;\"/><g id=\"E6\"><a href=\"psysml:79d3a6ab-38cc-49fb-ab8f-d1828ed09a3c\" target=\"_top\" title=\"psysml:79d3a6ab-38cc-49fb-ab8f-d1828ed09a3c\" xlink:actuate=\"onRequest\" xlink:href=\"psysml:79d3a6ab-38cc-49fb-ab8f-d1828ed09a3c\" xlink:show=\"new\" xlink:title=\"psysml:79d3a6ab-38cc-49fb-ab8f-d1828ed09a3c\" xlink:type=\"simple\"><rect fill=\"#FFFFFF\" height=\"42.9375\" id=\"E6\" style=\"stroke: #383838; stroke-width: 1.5;\" width=\"84\" x=\"7\" y=\"46.5\"/><rect fill=\"#F8F8F8\" height=\"37.9375\" style=\"stroke: #383838; stroke-width: 1.5;\" width=\"84\" x=\"7\" y=\"46.5\"/><text fill=\"#000000\" font-family=\"sans-serif\" font-size=\"12\" font-style=\"italic\" lengthAdjust=\"spacingAndGlyphs\" textLength=\"77\" x=\"10.5\" y=\"62.6387\">«action def»</text><text fill=\"#000000\" font-family=\"sans-serif\" font-size=\"12\" lengthAdjust=\"spacingAndGlyphs\" textLength=\"8\" x=\"45\" y=\"76.6074\">B</text></a></g><!--MD5=[cff944eb183b832d446717a4e202d613]\n",
       "link *start*E1 to E2--><a href=\"psysml:fb7d5adc-5880-4810-9813-86e53c07f96a\" target=\"_top\" title=\"psysml:fb7d5adc-5880-4810-9813-86e53c07f96a\" xlink:actuate=\"onRequest\" xlink:href=\"psysml:fb7d5adc-5880-4810-9813-86e53c07f96a\" xlink:show=\"new\" xlink:title=\"psysml:fb7d5adc-5880-4810-9813-86e53c07f96a\" xlink:type=\"simple\"><path d=\"M264,78.35 C264,84.88 264,93.77 264,101.42 \" fill=\"none\" id=\"*start*E1-&gt;E2\" style=\"stroke: #383838; stroke-width: 1.0; stroke-dasharray: 7.0,7.0;\"/><polygon fill=\"#383838\" points=\"264,106.48,268,97.48,264,101.48,260,97.48,264,106.48\" style=\"stroke: #383838; stroke-width: 1.0;\"/></a><!--MD5=[7fc47fc0d107820853a137871ad908c8]\n",
       "link E5 to *end*E1--><a href=\"psysml:c9de1ce8-1045-4471-9685-45647676290c\" target=\"_top\" title=\"psysml:c9de1ce8-1045-4471-9685-45647676290c\" xlink:actuate=\"onRequest\" xlink:href=\"psysml:c9de1ce8-1045-4471-9685-45647676290c\" xlink:show=\"new\" xlink:title=\"psysml:c9de1ce8-1045-4471-9685-45647676290c\" xlink:type=\"simple\"><path d=\"M262,331.8 C262,335.34 262,339.3 262,343.03 \" fill=\"none\" id=\"E5-&gt;*end*E1\" style=\"stroke: #383838; stroke-width: 1.0; stroke-dasharray: 7.0,7.0;\"/><polygon fill=\"#383838\" points=\"262,348.25,266,339.25,262,343.25,258,339.25,262,348.25\" style=\"stroke: #383838; stroke-width: 1.0;\"/></a><!--MD5=[2720a5a1f2c3fca2055b230370638851]\n",
       "link E2 to E3--><a href=\"psysml:674af9b4-5477-4a2d-9c32-c1d49aef2cdc\" target=\"_top\" title=\"psysml:674af9b4-5477-4a2d-9c32-c1d49aef2cdc\" xlink:actuate=\"onRequest\" xlink:href=\"psysml:674af9b4-5477-4a2d-9c32-c1d49aef2cdc\" xlink:show=\"new\" xlink:title=\"psysml:674af9b4-5477-4a2d-9c32-c1d49aef2cdc\" xlink:type=\"simple\"><path d=\"M257.45,124.53 C251.33,129.23 241.65,136.66 231.64,144.34 \" fill=\"none\" id=\"E2-&gt;E3\" style=\"stroke: #383838; stroke-width: 1.0; stroke-dasharray: 7.0,7.0;\"/><polygon fill=\"#383838\" points=\"227.64,147.41,237.2129,145.0948,231.6037,144.3621,232.3363,138.7529,227.64,147.41\" style=\"stroke: #383838; stroke-width: 1.0;\"/></a><!--MD5=[af87c684e3b0d8be13c1a698a818ef1e]\n",
       "link E3 to E4--><a href=\"psysml:f1d57d75-7b92-4f65-894e-3c0dce6664b2\" target=\"_top\" title=\"psysml:f1d57d75-7b92-4f65-894e-3c0dce6664b2\" xlink:actuate=\"onRequest\" xlink:href=\"psysml:f1d57d75-7b92-4f65-894e-3c0dce6664b2\" xlink:show=\"new\" xlink:title=\"psysml:f1d57d75-7b92-4f65-894e-3c0dce6664b2\" xlink:type=\"simple\"><path d=\"M191.13,202.74 C190.53,211.4 189.85,221.08 189.23,230.08 \" fill=\"none\" id=\"E3-&gt;E4\" style=\"stroke: #383838; stroke-width: 1.0; stroke-dasharray: 7.0,7.0;\"/><polygon fill=\"#383838\" points=\"188.86,235.28,193.468,226.5756,189.203,230.2918,185.4869,226.0268,188.86,235.28\" style=\"stroke: #383838; stroke-width: 1.0;\"/></a><!--MD5=[1b7591eae5389033d8d09a9d6721a717]\n",
       "link E4 to E5--><a href=\"psysml:5bbe4286-aec7-454e-8b07-ff0b44373e66\" target=\"_top\" title=\"psysml:5bbe4286-aec7-454e-8b07-ff0b44373e66\" xlink:actuate=\"onRequest\" xlink:href=\"psysml:5bbe4286-aec7-454e-8b07-ff0b44373e66\" xlink:show=\"new\" xlink:title=\"psysml:5bbe4286-aec7-454e-8b07-ff0b44373e66\" xlink:type=\"simple\"><path d=\"M223.62,290.61 C233.72,297.95 243.91,305.35 251.24,310.68 \" fill=\"none\" id=\"E4-&gt;E5\" style=\"stroke: #383838; stroke-width: 1.0; stroke-dasharray: 7.0,7.0;\"/><polygon fill=\"#383838\" points=\"255.42,313.72,250.4976,305.1894,251.3776,310.7774,245.7896,311.6574,255.42,313.72\" style=\"stroke: #383838; stroke-width: 1.0;\"/></a><!--MD5=[15ebcb19ae302d9b601edb458606d402]\n",
       "link E5 to E2--><a href=\"psysml:df5824e0-bb07-4266-b9ed-97217b9e7a59\" target=\"_top\" title=\"psysml:df5824e0-bb07-4266-b9ed-97217b9e7a59\" xlink:actuate=\"onRequest\" xlink:href=\"psysml:df5824e0-bb07-4266-b9ed-97217b9e7a59\" xlink:show=\"new\" xlink:title=\"psysml:df5824e0-bb07-4266-b9ed-97217b9e7a59\" xlink:type=\"simple\"><path d=\"M265,310.49 C273.84,285.73 298.06,208.48 281,147.5 C279.26,141.29 275.73,135.1 272.34,130.12 \" fill=\"none\" id=\"E5-&gt;E2\" style=\"stroke: #383838; stroke-width: 1.0; stroke-dasharray: 7.0,7.0;\"/><polygon fill=\"#383838\" points=\"269.31,125.92,271.3342,135.5586,272.2364,129.9741,277.8209,130.8763,269.31,125.92\" style=\"stroke: #383838; stroke-width: 1.0;\"/><text fill=\"#000000\" font-family=\"sans-serif\" font-size=\"13\" lengthAdjust=\"spacingAndGlyphs\" textLength=\"36\" x=\"287\" y=\"223.5669\">[true]</text></a><!--MD5=[70d0c417b32fd9082e4f88b41311202b]\n",
       "@startuml\r\n",
       "skinparam ranksep 8\r\n",
       " skinparam monochrome true\r\n",
       "skinparam classbackgroundcolor white\r\n",
       "skinparam shadowing false\r\n",
       "skinparam wrapWidth 300\r\n",
       "hide circle\r\n",
       "\r\n",
       "rec usage \"a\" as E1  <<(T,blue) action>> [[psysml:88e0a3c5-b7f9-4d13-8306-ae5e61691436 ]] {\r\n",
       "choice \"m\" as E2  [[psysml:207ebb71-0108-47ac-8eb2-03003f2402f5 ]] \r\n",
       "accept \" S\" as E3 << accept action>> [[psysml:56f9bc80-23d6-47f0-bfbf-c5e902f86ac6 ]] \r\n",
       "send \" S() to  B()\" as E4 << send action>> [[psysml:baf32606-26e9-4cc3-a29f-e775486b01d7 ]] \r\n",
       "choice \"<s>noname</s>\" as E5  [[psysml:de118d49-a158-4609-b10e-b605b2688318 ]] \r\n",
       "[*] ..> E2 [[psysml:fb7d5adc-5880-4810-9813-86e53c07f96a ]] \r\n",
       "E5 ..> [*] [[psysml:c9de1ce8-1045-4471-9685-45647676290c ]] \r\n",
       "}\r\n",
       "\r\n",
       "E2 ..> E3 [[psysml:674af9b4-5477-4a2d-9c32-c1d49aef2cdc ]] \r\n",
       "E3 ..> E4 [[psysml:f1d57d75-7b92-4f65-894e-3c0dce6664b2 ]] \r\n",
       "E4 ..> E5 [[psysml:5bbe4286-aec7-454e-8b07-ff0b44373e66 ]] \r\n",
       "E5 ..> E2 [[psysml:df5824e0-bb07-4266-b9ed-97217b9e7a59 ]] : [true]\r\n",
       "rec def \"B\" as E6  <<(T,blue) action def>> [[psysml:79d3a6ab-38cc-49fb-ab8f-d1828ed09a3c ]] {\r\n",
       "}\r\n",
       "\r\n",
       "@enduml\r\n",
       "\n",
       "PlantUML version 1.2020.13(Sat Jun 13 12:26:38 UTC 2020)\n",
       "(EPL source distribution)\n",
       "Java Runtime: OpenJDK Runtime Environment\n",
       "JVM: OpenJDK 64-Bit Server VM\n",
       "Default Encoding: UTF-8\n",
       "Language: en\n",
       "Country: null\n",
       "--></g></svg>"
      ]
     },
     "execution_count": 6,
     "metadata": {},
     "output_type": "execute_result"
    }
   ],
   "source": [
    "%viz --style=\"COMPTREE\" --view=\"Action\" \"ActionTest\""
   ]
  },
  {
   "cell_type": "code",
   "execution_count": 7,
   "id": "147918b5",
   "metadata": {
    "execution": {
     "iopub.execute_input": "2021-09-27T07:16:54.475935Z",
     "iopub.status.busy": "2021-09-27T07:16:54.475448Z",
     "iopub.status.idle": "2021-09-27T07:16:54.490179Z",
     "shell.execute_reply": "2021-09-27T07:16:54.490508Z"
    }
   },
   "outputs": [
    {
     "data": {
      "image/svg+xml": [
       "<?xml version=\"1.0\" encoding=\"UTF-8\" standalone=\"no\"?><svg xmlns=\"http://www.w3.org/2000/svg\" xmlns:xlink=\"http://www.w3.org/1999/xlink\" contentScriptType=\"application/ecmascript\" contentStyleType=\"text/css\" height=\"12px\" preserveAspectRatio=\"none\" style=\"width:12px;height:12px;\" version=\"1.1\" viewBox=\"0 0 12 12\" width=\"12px\" zoomAndPan=\"magnify\"><defs/><g><!--MD5=[803fc46c337be7a5c8a9831e35356779]\n",
       "@startuml\r\n",
       "skinparam roundcorner 20\r\n",
       "skinparam BoxPadding 20\r\n",
       "skinparam SequenceBoxBackgroundColor #white\r\n",
       "skinparam style strictuml\r\n",
       "skinparam maxMessageSize 100\r\n",
       " skinparam monochrome true\r\n",
       "skinparam classbackgroundcolor white\r\n",
       "skinparam shadowing false\r\n",
       "skinparam wrapWidth 300\r\n",
       "hide circle\r\n",
       "\r\n",
       "@enduml\r\n",
       "\n",
       "PlantUML version 1.2020.13(Sat Jun 13 12:26:38 UTC 2020)\n",
       "(EPL source distribution)\n",
       "Java Runtime: OpenJDK Runtime Environment\n",
       "JVM: OpenJDK 64-Bit Server VM\n",
       "Default Encoding: UTF-8\n",
       "Language: en\n",
       "Country: null\n",
       "--></g></svg>"
      ]
     },
     "execution_count": 7,
     "metadata": {},
     "output_type": "execute_result"
    }
   ],
   "source": [
    "%viz --style=\"COMPTREE\" --view=\"Sequence\" \"ActionTest\""
   ]
  },
  {
   "cell_type": "code",
   "execution_count": 8,
   "id": "37913673",
   "metadata": {
    "execution": {
     "iopub.execute_input": "2021-09-27T07:16:54.541053Z",
     "iopub.status.busy": "2021-09-27T07:16:54.540581Z",
     "iopub.status.idle": "2021-09-27T07:16:54.596943Z",
     "shell.execute_reply": "2021-09-27T07:16:54.595558Z"
    }
   },
   "outputs": [
    {
     "data": {
      "image/svg+xml": [
       "<?xml version=\"1.0\" encoding=\"UTF-8\" standalone=\"no\"?><svg xmlns=\"http://www.w3.org/2000/svg\" xmlns:xlink=\"http://www.w3.org/1999/xlink\" contentScriptType=\"application/ecmascript\" contentStyleType=\"text/css\" height=\"684px\" preserveAspectRatio=\"none\" style=\"width:518px;height:684px;\" version=\"1.1\" viewBox=\"0 0 518 684\" width=\"518px\" zoomAndPan=\"magnify\"><defs/><g><!--MD5=[fbc87193dbaf4d95561dea2c320d4a47]\n",
       "cluster E1--><a href=\"psysml:a2683da9-1b6e-41fc-828a-cc7d1e5b2935\" target=\"_top\" title=\"psysml:a2683da9-1b6e-41fc-828a-cc7d1e5b2935\" xlink:actuate=\"onRequest\" xlink:href=\"psysml:a2683da9-1b6e-41fc-828a-cc7d1e5b2935\" xlink:show=\"new\" xlink:title=\"psysml:a2683da9-1b6e-41fc-828a-cc7d1e5b2935\" xlink:type=\"simple\"><polygon fill=\"#FFFFFF\" points=\"16,6,96,6,103,28.2969,496,28.2969,496,672,16,672,16,6\" style=\"stroke: #000000; stroke-width: 1.5;\"/><line style=\"stroke: #000000; stroke-width: 1.5;\" x1=\"16\" x2=\"103\" y1=\"28.2969\" y2=\"28.2969\"/><text fill=\"#000000\" font-family=\"sans-serif\" font-size=\"14\" font-weight=\"bold\" lengthAdjust=\"spacingAndGlyphs\" textLength=\"74\" x=\"20\" y=\"20.9951\">ActionTest</text></a><!--MD5=[d5e69f78d87373223dbae638b30a9c99]\n",
       "cluster E3--><a href=\"psysml:88e0a3c5-b7f9-4d13-8306-ae5e61691436\" target=\"_top\" title=\"psysml:88e0a3c5-b7f9-4d13-8306-ae5e61691436\" xlink:actuate=\"onRequest\" xlink:href=\"psysml:88e0a3c5-b7f9-4d13-8306-ae5e61691436\" xlink:show=\"new\" xlink:title=\"psysml:88e0a3c5-b7f9-4d13-8306-ae5e61691436\" xlink:type=\"simple\"><rect fill=\"#FFFFFF\" height=\"599\" id=\"E3\" rx=\"10\" ry=\"10\" style=\"stroke: #383838; stroke-width: 1.5;\" width=\"209\" x=\"263\" y=\"49\"/><rect fill=\"#F8F8F8\" height=\"37.9375\" rx=\"10\" ry=\"10\" style=\"stroke: #F8F8F8; stroke-width: 1.5;\" width=\"209\" x=\"263\" y=\"49\"/><rect fill=\"#F8F8F8\" height=\"10\" style=\"stroke: #F8F8F8; stroke-width: 1.5;\" width=\"209\" x=\"263\" y=\"76.9375\"/><rect fill=\"none\" height=\"599\" id=\"E3\" rx=\"10\" ry=\"10\" style=\"stroke: #383838; stroke-width: 1.5;\" width=\"209\" x=\"263\" y=\"49\"/><text fill=\"#000000\" font-family=\"sans-serif\" font-size=\"12\" font-style=\"italic\" lengthAdjust=\"spacingAndGlyphs\" textLength=\"53\" x=\"341\" y=\"65.1387\">«action»</text><text fill=\"#000000\" font-family=\"sans-serif\" font-size=\"12\" lengthAdjust=\"spacingAndGlyphs\" textLength=\"8\" x=\"363.5\" y=\"79.1074\">a</text><line style=\"stroke: #383838; stroke-width: 1.0;\" x1=\"263\" x2=\"472\" y1=\"86.9375\" y2=\"86.9375\"/></a><!--MD5=[b4997ac47864f28c2f74865a473b2911]\n",
       "class E2--><a href=\"psysml:9c87d4ab-cb1d-4b31-8fcd-81209805f4cd\" target=\"_top\" title=\"psysml:9c87d4ab-cb1d-4b31-8fcd-81209805f4cd\" xlink:actuate=\"onRequest\" xlink:href=\"psysml:9c87d4ab-cb1d-4b31-8fcd-81209805f4cd\" xlink:show=\"new\" xlink:title=\"psysml:9c87d4ab-cb1d-4b31-8fcd-81209805f4cd\" xlink:type=\"simple\"><rect fill=\"#FFFFFF\" height=\"45.9375\" id=\"E2\" style=\"stroke: #383838; stroke-width: 1.5;\" width=\"95\" x=\"151.5\" y=\"87\"/><text fill=\"#000000\" font-family=\"sans-serif\" font-size=\"12\" font-style=\"italic\" lengthAdjust=\"spacingAndGlyphs\" textLength=\"93\" x=\"152.5\" y=\"103.1387\">«attribute def»</text><text fill=\"#000000\" font-family=\"sans-serif\" font-size=\"12\" lengthAdjust=\"spacingAndGlyphs\" textLength=\"8\" x=\"195\" y=\"117.1074\">S</text><line style=\"stroke: #383838; stroke-width: 1.5;\" x1=\"152.5\" x2=\"245.5\" y1=\"124.9375\" y2=\"124.9375\"/></a><polygon fill=\"#F8F8F8\" points=\"420,194,432,206,420,218,408,206,420,194\" style=\"stroke: #383838; stroke-width: 1.5;\"/><!--MD5=[21dd76c19d33815960c0e92fef8f0eef]\n",
       "entity E5--><a href=\"psysml:56f9bc80-23d6-47f0-bfbf-c5e902f86ac6\" target=\"_top\" title=\"psysml:56f9bc80-23d6-47f0-bfbf-c5e902f86ac6\" xlink:actuate=\"onRequest\" xlink:href=\"psysml:56f9bc80-23d6-47f0-bfbf-c5e902f86ac6\" xlink:show=\"new\" xlink:title=\"psysml:56f9bc80-23d6-47f0-bfbf-c5e902f86ac6\" xlink:type=\"simple\"><polygon fill=\"#F8F8F8\" points=\"279,279,279,333.5938,419,333.5938,399,306.2969,419,279\" style=\"stroke: #000000; stroke-width: 1.5;\"/><text fill=\"#000000\" font-family=\"sans-serif\" font-size=\"14\" font-style=\"italic\" lengthAdjust=\"spacingAndGlyphs\" textLength=\"111\" x=\"286\" y=\"301.9951\">«accept action»</text><text fill=\"#000000\" font-family=\"sans-serif\" font-size=\"14\" lengthAdjust=\"spacingAndGlyphs\" textLength=\"9\" x=\"337\" y=\"319.292\">S</text></a><!--MD5=[24d87cdf3002d433f401b2a2aa9f9f65]\n",
       "entity E6--><a href=\"psysml:baf32606-26e9-4cc3-a29f-e775486b01d7\" target=\"_top\" title=\"psysml:baf32606-26e9-4cc3-a29f-e775486b01d7\" xlink:actuate=\"onRequest\" xlink:href=\"psysml:baf32606-26e9-4cc3-a29f-e775486b01d7\" xlink:show=\"new\" xlink:title=\"psysml:baf32606-26e9-4cc3-a29f-e775486b01d7\" xlink:type=\"simple\"><polygon fill=\"#F8F8F8\" points=\"279,411,279,465.5938,387,465.5938,407,438.2969,387,411\" style=\"stroke: #000000; stroke-width: 1.5;\"/><text fill=\"#000000\" font-family=\"sans-serif\" font-size=\"14\" font-style=\"italic\" lengthAdjust=\"spacingAndGlyphs\" textLength=\"99\" x=\"286\" y=\"433.9951\">«send action»</text><text fill=\"#000000\" font-family=\"sans-serif\" font-size=\"14\" lengthAdjust=\"spacingAndGlyphs\" textLength=\"65\" x=\"303\" y=\"451.292\">S() to  B()</text></a><polygon fill=\"#F8F8F8\" points=\"418,527,430,539,418,551,406,539,418,527\" style=\"stroke: #383838; stroke-width: 1.5;\"/><ellipse cx=\"420\" cy=\"110\" fill=\"#000000\" rx=\"10\" ry=\"10\" style=\"stroke: none; stroke-width: 1.0;\"/><ellipse cx=\"418\" cy=\"622\" fill=\"none\" rx=\"10\" ry=\"10\" style=\"stroke: #000000; stroke-width: 1.0;\"/><ellipse cx=\"418.5\" cy=\"622.5\" fill=\"#000000\" rx=\"6\" ry=\"6\" style=\"stroke: none; stroke-width: 1.0;\"/><g id=\"E1.E8\"><a href=\"psysml:79d3a6ab-38cc-49fb-ab8f-d1828ed09a3c\" target=\"_top\" title=\"psysml:79d3a6ab-38cc-49fb-ab8f-d1828ed09a3c\" xlink:actuate=\"onRequest\" xlink:href=\"psysml:79d3a6ab-38cc-49fb-ab8f-d1828ed09a3c\" xlink:show=\"new\" xlink:title=\"psysml:79d3a6ab-38cc-49fb-ab8f-d1828ed09a3c\" xlink:type=\"simple\"><rect fill=\"#FFFFFF\" height=\"42.9375\" id=\"E8\" style=\"stroke: #383838; stroke-width: 1.5;\" width=\"84\" x=\"32\" y=\"88.5\"/><rect fill=\"#F8F8F8\" height=\"37.9375\" style=\"stroke: #383838; stroke-width: 1.5;\" width=\"84\" x=\"32\" y=\"88.5\"/><text fill=\"#000000\" font-family=\"sans-serif\" font-size=\"12\" font-style=\"italic\" lengthAdjust=\"spacingAndGlyphs\" textLength=\"77\" x=\"35.5\" y=\"104.6387\">«action def»</text><text fill=\"#000000\" font-family=\"sans-serif\" font-size=\"12\" lengthAdjust=\"spacingAndGlyphs\" textLength=\"8\" x=\"70\" y=\"118.6074\">B</text></a></g><!--MD5=[f47e10efcf9a6752d55dae986d790ed9]\n",
       "link *start*E3 to E4--><a href=\"psysml:fb7d5adc-5880-4810-9813-86e53c07f96a\" target=\"_top\" title=\"psysml:fb7d5adc-5880-4810-9813-86e53c07f96a\" xlink:actuate=\"onRequest\" xlink:href=\"psysml:fb7d5adc-5880-4810-9813-86e53c07f96a\" xlink:show=\"new\" xlink:title=\"psysml:fb7d5adc-5880-4810-9813-86e53c07f96a\" xlink:type=\"simple\"><path d=\"M420,120.01 C420,135.81 420,168.69 420,188.61 \" fill=\"none\" id=\"*start*E3-&gt;E4\" style=\"stroke: #383838; stroke-width: 1.0;\"/><polygon fill=\"#383838\" points=\"420,193.85,424,184.85,420,188.85,416,184.85,420,193.85\" style=\"stroke: #383838; stroke-width: 1.0;\"/></a><!--MD5=[d19f2eb34364d71b67042106d92f540b]\n",
       "link E7 to *end*E3--><a href=\"psysml:c9de1ce8-1045-4471-9685-45647676290c\" target=\"_top\" title=\"psysml:c9de1ce8-1045-4471-9685-45647676290c\" xlink:actuate=\"onRequest\" xlink:href=\"psysml:c9de1ce8-1045-4471-9685-45647676290c\" xlink:show=\"new\" xlink:title=\"psysml:c9de1ce8-1045-4471-9685-45647676290c\" xlink:type=\"simple\"><path d=\"M418,551.26 C418,565.66 418,590.63 418,606.46 \" fill=\"none\" id=\"E7-&gt;*end*E3\" style=\"stroke: #383838; stroke-width: 1.0;\"/><polygon fill=\"#383838\" points=\"418,611.84,422,602.84,418,606.84,414,602.84,418,611.84\" style=\"stroke: #383838; stroke-width: 1.0;\"/></a><!--MD5=[1b7591eae5389033d8d09a9d6721a717]\n",
       "link E4 to E5--><a href=\"psysml:674af9b4-5477-4a2d-9c32-c1d49aef2cdc\" target=\"_top\" title=\"psysml:674af9b4-5477-4a2d-9c32-c1d49aef2cdc\" xlink:actuate=\"onRequest\" xlink:href=\"psysml:674af9b4-5477-4a2d-9c32-c1d49aef2cdc\" xlink:show=\"new\" xlink:title=\"psysml:674af9b4-5477-4a2d-9c32-c1d49aef2cdc\" xlink:type=\"simple\"><path d=\"M415.34,213.46 C406.55,225.66 386.99,252.8 371.37,274.46 \" fill=\"none\" id=\"E4-&gt;E5\" style=\"stroke: #383838; stroke-width: 1.0;\"/><polygon fill=\"#383838\" points=\"368.31,278.71,376.8093,273.7339,371.227,274.6491,370.3119,269.0667,368.31,278.71\" style=\"stroke: #383838; stroke-width: 1.0;\"/><text fill=\"#000000\" font-family=\"sans-serif\" font-size=\"13\" lengthAdjust=\"spacingAndGlyphs\" textLength=\"7\" x=\"364.7684\" y=\"268.1162\">*</text></a><!--MD5=[9120cf2e5df3bff93db8f754bbbc09b4]\n",
       "link E5 to E6--><a href=\"psysml:f1d57d75-7b92-4f65-894e-3c0dce6664b2\" target=\"_top\" title=\"psysml:f1d57d75-7b92-4f65-894e-3c0dce6664b2\" xlink:actuate=\"onRequest\" xlink:href=\"psysml:f1d57d75-7b92-4f65-894e-3c0dce6664b2\" xlink:show=\"new\" xlink:title=\"psysml:f1d57d75-7b92-4f65-894e-3c0dce6664b2\" xlink:type=\"simple\"><path d=\"M347.77,334.12 C346.81,354.89 345.48,383.8 344.46,405.77 \" fill=\"none\" id=\"E5-&gt;E6\" style=\"stroke: #383838; stroke-width: 1.0;\"/><polygon fill=\"#383838\" points=\"344.23,410.91,348.6368,402.1021,344.4583,405.9152,340.6452,401.7367,344.23,410.91\" style=\"stroke: #383838; stroke-width: 1.0;\"/><text fill=\"#000000\" font-family=\"sans-serif\" font-size=\"13\" lengthAdjust=\"spacingAndGlyphs\" textLength=\"7\" x=\"336.7051\" y=\"399.9247\">*</text></a><!--MD5=[02c70b7c851c11e3980e4e90450dc5dd]\n",
       "link E6 to E7--><a href=\"psysml:5bbe4286-aec7-454e-8b07-ff0b44373e66\" target=\"_top\" title=\"psysml:5bbe4286-aec7-454e-8b07-ff0b44373e66\" xlink:actuate=\"onRequest\" xlink:href=\"psysml:5bbe4286-aec7-454e-8b07-ff0b44373e66\" xlink:show=\"new\" xlink:title=\"psysml:5bbe4286-aec7-454e-8b07-ff0b44373e66\" xlink:type=\"simple\"><path d=\"M363.3,466.16 C378.71,486.4 399.07,513.14 410.09,527.61 \" fill=\"none\" id=\"E6-&gt;E7\" style=\"stroke: #383838; stroke-width: 1.0;\"/><polygon fill=\"#383838\" points=\"413.2,531.69,410.9398,522.104,410.1749,527.7089,404.57,526.9441,413.2,531.69\" style=\"stroke: #383838; stroke-width: 1.0;\"/><text fill=\"#000000\" font-family=\"sans-serif\" font-size=\"13\" lengthAdjust=\"spacingAndGlyphs\" textLength=\"7\" x=\"398.9375\" y=\"515.8563\">*</text></a><!--MD5=[6bdd27f9905911a7e892a3dc65cf6b7c]\n",
       "link E7 to E4--><a href=\"psysml:df5824e0-bb07-4266-b9ed-97217b9e7a59\" target=\"_top\" title=\"psysml:df5824e0-bb07-4266-b9ed-97217b9e7a59\" xlink:actuate=\"onRequest\" xlink:href=\"psysml:df5824e0-bb07-4266-b9ed-97217b9e7a59\" xlink:show=\"new\" xlink:title=\"psysml:df5824e0-bb07-4266-b9ed-97217b9e7a59\" xlink:type=\"simple\"><path d=\"M419.98,528.56 C426.8,494.71 448.32,376.18 437,279 C434.59,258.32 428.42,234.96 424.21,220.61 \" fill=\"none\" id=\"E7-&gt;E4\" style=\"stroke: #383838; stroke-width: 1.0;\"/><polygon fill=\"#383838\" points=\"422.76,215.75,421.4935,225.5171,424.1863,220.5423,429.1611,223.2351,422.76,215.75\" style=\"stroke: #383838; stroke-width: 1.0;\"/><text fill=\"#000000\" font-family=\"sans-serif\" font-size=\"13\" lengthAdjust=\"spacingAndGlyphs\" textLength=\"36\" x=\"440\" y=\"377.0669\">[true]</text><text fill=\"#000000\" font-family=\"sans-serif\" font-size=\"13\" lengthAdjust=\"spacingAndGlyphs\" textLength=\"7\" x=\"415.3253\" y=\"237.9903\">*</text></a><!--MD5=[d4a6b12c539c58b874acb7e91ed25811]\n",
       "@startuml\r\n",
       " skinparam monochrome true\r\n",
       "skinparam classbackgroundcolor white\r\n",
       "skinparam shadowing false\r\n",
       "skinparam wrapWidth 300\r\n",
       "hide circle\r\n",
       "\r\n",
       "package \"ActionTest\" as E1  [[psysml:a2683da9-1b6e-41fc-828a-cc7d1e5b2935 ]]  {\r\n",
       "comp def \"S\" as E2  <<(T,blue) attribute def>> [[psysml:9c87d4ab-cb1d-4b31-8fcd-81209805f4cd ]] {\r\n",
       "}\r\n",
       "rec usage \"a\" as E3  <<(T,blue) action>> [[psysml:88e0a3c5-b7f9-4d13-8306-ae5e61691436 ]] {\r\n",
       "choice \"m\" as E4  [[psysml:207ebb71-0108-47ac-8eb2-03003f2402f5 ]] \r\n",
       "accept \" S\" as E5 << accept action>> [[psysml:56f9bc80-23d6-47f0-bfbf-c5e902f86ac6 ]] \r\n",
       "send \" S() to  B()\" as E6 << send action>> [[psysml:baf32606-26e9-4cc3-a29f-e775486b01d7 ]] \r\n",
       "choice \"<s>noname</s>\" as E7  [[psysml:de118d49-a158-4609-b10e-b605b2688318 ]] \r\n",
       "[*] - -> E4 [[psysml:fb7d5adc-5880-4810-9813-86e53c07f96a ]] \r\n",
       "E7  - -> [*] [[psysml:c9de1ce8-1045-4471-9685-45647676290c ]] \r\n",
       "}\r\n",
       "\r\n",
       "rec def \"B\" as E8  <<(T,blue) action def>> [[psysml:79d3a6ab-38cc-49fb-ab8f-d1828ed09a3c ]] {\r\n",
       "}\r\n",
       "\r\n",
       "}\r\n",
       "E4 - -> \"*\"E5 [[psysml:674af9b4-5477-4a2d-9c32-c1d49aef2cdc ]] \r\n",
       "E5 - -> \"*\"E6 [[psysml:f1d57d75-7b92-4f65-894e-3c0dce6664b2 ]] \r\n",
       "E6 - -> \"*\"E7 [[psysml:5bbe4286-aec7-454e-8b07-ff0b44373e66 ]] \r\n",
       "E7  - -> \"*\"E4 [[psysml:df5824e0-bb07-4266-b9ed-97217b9e7a59 ]] : [true]\r\n",
       "@enduml\r\n",
       "\n",
       "PlantUML version 1.2020.13(Sat Jun 13 12:26:38 UTC 2020)\n",
       "(EPL source distribution)\n",
       "Java Runtime: OpenJDK Runtime Environment\n",
       "JVM: OpenJDK 64-Bit Server VM\n",
       "Default Encoding: UTF-8\n",
       "Language: en\n",
       "Country: null\n",
       "--></g></svg>"
      ]
     },
     "execution_count": 8,
     "metadata": {},
     "output_type": "execute_result"
    }
   ],
   "source": [
    "%viz --style=\"COMPTREE\" --view=\"MIXED\" \"ActionTest\""
   ]
  },
  {
   "cell_type": "code",
   "execution_count": 9,
   "id": "1f0393df",
   "metadata": {
    "execution": {
     "iopub.execute_input": "2021-09-27T07:16:54.646654Z",
     "iopub.status.busy": "2021-09-27T07:16:54.646194Z",
     "iopub.status.idle": "2021-09-27T07:16:54.709255Z",
     "shell.execute_reply": "2021-09-27T07:16:54.708898Z"
    }
   },
   "outputs": [
    {
     "data": {
      "image/svg+xml": [
       "<?xml version=\"1.0\" encoding=\"UTF-8\" standalone=\"no\"?><svg xmlns=\"http://www.w3.org/2000/svg\" xmlns:xlink=\"http://www.w3.org/1999/xlink\" contentScriptType=\"application/ecmascript\" contentStyleType=\"text/css\" height=\"684px\" preserveAspectRatio=\"none\" style=\"width:518px;height:684px;\" version=\"1.1\" viewBox=\"0 0 518 684\" width=\"518px\" zoomAndPan=\"magnify\"><defs/><g><!--MD5=[fbc87193dbaf4d95561dea2c320d4a47]\n",
       "cluster E1--><a href=\"psysml:a2683da9-1b6e-41fc-828a-cc7d1e5b2935\" target=\"_top\" title=\"psysml:a2683da9-1b6e-41fc-828a-cc7d1e5b2935\" xlink:actuate=\"onRequest\" xlink:href=\"psysml:a2683da9-1b6e-41fc-828a-cc7d1e5b2935\" xlink:show=\"new\" xlink:title=\"psysml:a2683da9-1b6e-41fc-828a-cc7d1e5b2935\" xlink:type=\"simple\"><polygon fill=\"#FFFFFF\" points=\"16,6,96,6,103,28.2969,496,28.2969,496,672,16,672,16,6\" style=\"stroke: #000000; stroke-width: 1.5;\"/><line style=\"stroke: #000000; stroke-width: 1.5;\" x1=\"16\" x2=\"103\" y1=\"28.2969\" y2=\"28.2969\"/><text fill=\"#000000\" font-family=\"sans-serif\" font-size=\"14\" font-weight=\"bold\" lengthAdjust=\"spacingAndGlyphs\" textLength=\"74\" x=\"20\" y=\"20.9951\">ActionTest</text></a><!--MD5=[d5e69f78d87373223dbae638b30a9c99]\n",
       "cluster E3--><a href=\"psysml:88e0a3c5-b7f9-4d13-8306-ae5e61691436\" target=\"_top\" title=\"psysml:88e0a3c5-b7f9-4d13-8306-ae5e61691436\" xlink:actuate=\"onRequest\" xlink:href=\"psysml:88e0a3c5-b7f9-4d13-8306-ae5e61691436\" xlink:show=\"new\" xlink:title=\"psysml:88e0a3c5-b7f9-4d13-8306-ae5e61691436\" xlink:type=\"simple\"><rect fill=\"#FFFFFF\" height=\"599\" id=\"E3\" rx=\"10\" ry=\"10\" style=\"stroke: #383838; stroke-width: 1.5;\" width=\"209\" x=\"263\" y=\"49\"/><rect fill=\"#F8F8F8\" height=\"37.9375\" rx=\"10\" ry=\"10\" style=\"stroke: #F8F8F8; stroke-width: 1.5;\" width=\"209\" x=\"263\" y=\"49\"/><rect fill=\"#F8F8F8\" height=\"10\" style=\"stroke: #F8F8F8; stroke-width: 1.5;\" width=\"209\" x=\"263\" y=\"76.9375\"/><rect fill=\"none\" height=\"599\" id=\"E3\" rx=\"10\" ry=\"10\" style=\"stroke: #383838; stroke-width: 1.5;\" width=\"209\" x=\"263\" y=\"49\"/><text fill=\"#000000\" font-family=\"sans-serif\" font-size=\"12\" font-style=\"italic\" lengthAdjust=\"spacingAndGlyphs\" textLength=\"53\" x=\"341\" y=\"65.1387\">«action»</text><text fill=\"#000000\" font-family=\"sans-serif\" font-size=\"12\" lengthAdjust=\"spacingAndGlyphs\" textLength=\"8\" x=\"363.5\" y=\"79.1074\">a</text><line style=\"stroke: #383838; stroke-width: 1.0;\" x1=\"263\" x2=\"472\" y1=\"86.9375\" y2=\"86.9375\"/></a><!--MD5=[b4997ac47864f28c2f74865a473b2911]\n",
       "class E2--><a href=\"psysml:9c87d4ab-cb1d-4b31-8fcd-81209805f4cd\" target=\"_top\" title=\"psysml:9c87d4ab-cb1d-4b31-8fcd-81209805f4cd\" xlink:actuate=\"onRequest\" xlink:href=\"psysml:9c87d4ab-cb1d-4b31-8fcd-81209805f4cd\" xlink:show=\"new\" xlink:title=\"psysml:9c87d4ab-cb1d-4b31-8fcd-81209805f4cd\" xlink:type=\"simple\"><rect fill=\"#FFFFFF\" height=\"45.9375\" id=\"E2\" style=\"stroke: #383838; stroke-width: 1.5;\" width=\"95\" x=\"151.5\" y=\"87\"/><text fill=\"#000000\" font-family=\"sans-serif\" font-size=\"12\" font-style=\"italic\" lengthAdjust=\"spacingAndGlyphs\" textLength=\"93\" x=\"152.5\" y=\"103.1387\">«attribute def»</text><text fill=\"#000000\" font-family=\"sans-serif\" font-size=\"12\" lengthAdjust=\"spacingAndGlyphs\" textLength=\"8\" x=\"195\" y=\"117.1074\">S</text><line style=\"stroke: #383838; stroke-width: 1.5;\" x1=\"152.5\" x2=\"245.5\" y1=\"124.9375\" y2=\"124.9375\"/></a><polygon fill=\"#F8F8F8\" points=\"420,194,432,206,420,218,408,206,420,194\" style=\"stroke: #383838; stroke-width: 1.5;\"/><!--MD5=[21dd76c19d33815960c0e92fef8f0eef]\n",
       "entity E5--><a href=\"psysml:56f9bc80-23d6-47f0-bfbf-c5e902f86ac6\" target=\"_top\" title=\"psysml:56f9bc80-23d6-47f0-bfbf-c5e902f86ac6\" xlink:actuate=\"onRequest\" xlink:href=\"psysml:56f9bc80-23d6-47f0-bfbf-c5e902f86ac6\" xlink:show=\"new\" xlink:title=\"psysml:56f9bc80-23d6-47f0-bfbf-c5e902f86ac6\" xlink:type=\"simple\"><polygon fill=\"#F8F8F8\" points=\"279,279,279,333.5938,419,333.5938,399,306.2969,419,279\" style=\"stroke: #000000; stroke-width: 1.5;\"/><text fill=\"#000000\" font-family=\"sans-serif\" font-size=\"14\" font-style=\"italic\" lengthAdjust=\"spacingAndGlyphs\" textLength=\"111\" x=\"286\" y=\"301.9951\">«accept action»</text><text fill=\"#000000\" font-family=\"sans-serif\" font-size=\"14\" lengthAdjust=\"spacingAndGlyphs\" textLength=\"9\" x=\"337\" y=\"319.292\">S</text></a><!--MD5=[24d87cdf3002d433f401b2a2aa9f9f65]\n",
       "entity E6--><a href=\"psysml:baf32606-26e9-4cc3-a29f-e775486b01d7\" target=\"_top\" title=\"psysml:baf32606-26e9-4cc3-a29f-e775486b01d7\" xlink:actuate=\"onRequest\" xlink:href=\"psysml:baf32606-26e9-4cc3-a29f-e775486b01d7\" xlink:show=\"new\" xlink:title=\"psysml:baf32606-26e9-4cc3-a29f-e775486b01d7\" xlink:type=\"simple\"><polygon fill=\"#F8F8F8\" points=\"279,411,279,465.5938,387,465.5938,407,438.2969,387,411\" style=\"stroke: #000000; stroke-width: 1.5;\"/><text fill=\"#000000\" font-family=\"sans-serif\" font-size=\"14\" font-style=\"italic\" lengthAdjust=\"spacingAndGlyphs\" textLength=\"99\" x=\"286\" y=\"433.9951\">«send action»</text><text fill=\"#000000\" font-family=\"sans-serif\" font-size=\"14\" lengthAdjust=\"spacingAndGlyphs\" textLength=\"65\" x=\"303\" y=\"451.292\">S() to  B()</text></a><polygon fill=\"#F8F8F8\" points=\"418,527,430,539,418,551,406,539,418,527\" style=\"stroke: #383838; stroke-width: 1.5;\"/><ellipse cx=\"420\" cy=\"110\" fill=\"#000000\" rx=\"10\" ry=\"10\" style=\"stroke: none; stroke-width: 1.0;\"/><ellipse cx=\"418\" cy=\"622\" fill=\"none\" rx=\"10\" ry=\"10\" style=\"stroke: #000000; stroke-width: 1.0;\"/><ellipse cx=\"418.5\" cy=\"622.5\" fill=\"#000000\" rx=\"6\" ry=\"6\" style=\"stroke: none; stroke-width: 1.0;\"/><g id=\"E1.E8\"><a href=\"psysml:79d3a6ab-38cc-49fb-ab8f-d1828ed09a3c\" target=\"_top\" title=\"psysml:79d3a6ab-38cc-49fb-ab8f-d1828ed09a3c\" xlink:actuate=\"onRequest\" xlink:href=\"psysml:79d3a6ab-38cc-49fb-ab8f-d1828ed09a3c\" xlink:show=\"new\" xlink:title=\"psysml:79d3a6ab-38cc-49fb-ab8f-d1828ed09a3c\" xlink:type=\"simple\"><rect fill=\"#FFFFFF\" height=\"42.9375\" id=\"E8\" style=\"stroke: #383838; stroke-width: 1.5;\" width=\"84\" x=\"32\" y=\"88.5\"/><rect fill=\"#F8F8F8\" height=\"37.9375\" style=\"stroke: #383838; stroke-width: 1.5;\" width=\"84\" x=\"32\" y=\"88.5\"/><text fill=\"#000000\" font-family=\"sans-serif\" font-size=\"12\" font-style=\"italic\" lengthAdjust=\"spacingAndGlyphs\" textLength=\"77\" x=\"35.5\" y=\"104.6387\">«action def»</text><text fill=\"#000000\" font-family=\"sans-serif\" font-size=\"12\" lengthAdjust=\"spacingAndGlyphs\" textLength=\"8\" x=\"70\" y=\"118.6074\">B</text></a></g><!--MD5=[f47e10efcf9a6752d55dae986d790ed9]\n",
       "link *start*E3 to E4--><a href=\"psysml:fb7d5adc-5880-4810-9813-86e53c07f96a\" target=\"_top\" title=\"psysml:fb7d5adc-5880-4810-9813-86e53c07f96a\" xlink:actuate=\"onRequest\" xlink:href=\"psysml:fb7d5adc-5880-4810-9813-86e53c07f96a\" xlink:show=\"new\" xlink:title=\"psysml:fb7d5adc-5880-4810-9813-86e53c07f96a\" xlink:type=\"simple\"><path d=\"M420,120.01 C420,135.81 420,168.69 420,188.61 \" fill=\"none\" id=\"*start*E3-&gt;E4\" style=\"stroke: #383838; stroke-width: 1.0;\"/><polygon fill=\"#383838\" points=\"420,193.85,424,184.85,420,188.85,416,184.85,420,193.85\" style=\"stroke: #383838; stroke-width: 1.0;\"/></a><!--MD5=[d19f2eb34364d71b67042106d92f540b]\n",
       "link E7 to *end*E3--><a href=\"psysml:c9de1ce8-1045-4471-9685-45647676290c\" target=\"_top\" title=\"psysml:c9de1ce8-1045-4471-9685-45647676290c\" xlink:actuate=\"onRequest\" xlink:href=\"psysml:c9de1ce8-1045-4471-9685-45647676290c\" xlink:show=\"new\" xlink:title=\"psysml:c9de1ce8-1045-4471-9685-45647676290c\" xlink:type=\"simple\"><path d=\"M418,551.26 C418,565.66 418,590.63 418,606.46 \" fill=\"none\" id=\"E7-&gt;*end*E3\" style=\"stroke: #383838; stroke-width: 1.0;\"/><polygon fill=\"#383838\" points=\"418,611.84,422,602.84,418,606.84,414,602.84,418,611.84\" style=\"stroke: #383838; stroke-width: 1.0;\"/></a><!--MD5=[1b7591eae5389033d8d09a9d6721a717]\n",
       "link E4 to E5--><a href=\"psysml:674af9b4-5477-4a2d-9c32-c1d49aef2cdc\" target=\"_top\" title=\"psysml:674af9b4-5477-4a2d-9c32-c1d49aef2cdc\" xlink:actuate=\"onRequest\" xlink:href=\"psysml:674af9b4-5477-4a2d-9c32-c1d49aef2cdc\" xlink:show=\"new\" xlink:title=\"psysml:674af9b4-5477-4a2d-9c32-c1d49aef2cdc\" xlink:type=\"simple\"><path d=\"M415.34,213.46 C406.55,225.66 386.99,252.8 371.37,274.46 \" fill=\"none\" id=\"E4-&gt;E5\" style=\"stroke: #383838; stroke-width: 1.0;\"/><polygon fill=\"#383838\" points=\"368.31,278.71,376.8093,273.7339,371.227,274.6491,370.3119,269.0667,368.31,278.71\" style=\"stroke: #383838; stroke-width: 1.0;\"/><text fill=\"#000000\" font-family=\"sans-serif\" font-size=\"13\" lengthAdjust=\"spacingAndGlyphs\" textLength=\"7\" x=\"364.7684\" y=\"268.1162\">*</text></a><!--MD5=[9120cf2e5df3bff93db8f754bbbc09b4]\n",
       "link E5 to E6--><a href=\"psysml:f1d57d75-7b92-4f65-894e-3c0dce6664b2\" target=\"_top\" title=\"psysml:f1d57d75-7b92-4f65-894e-3c0dce6664b2\" xlink:actuate=\"onRequest\" xlink:href=\"psysml:f1d57d75-7b92-4f65-894e-3c0dce6664b2\" xlink:show=\"new\" xlink:title=\"psysml:f1d57d75-7b92-4f65-894e-3c0dce6664b2\" xlink:type=\"simple\"><path d=\"M347.77,334.12 C346.81,354.89 345.48,383.8 344.46,405.77 \" fill=\"none\" id=\"E5-&gt;E6\" style=\"stroke: #383838; stroke-width: 1.0;\"/><polygon fill=\"#383838\" points=\"344.23,410.91,348.6368,402.1021,344.4583,405.9152,340.6452,401.7367,344.23,410.91\" style=\"stroke: #383838; stroke-width: 1.0;\"/><text fill=\"#000000\" font-family=\"sans-serif\" font-size=\"13\" lengthAdjust=\"spacingAndGlyphs\" textLength=\"7\" x=\"336.7051\" y=\"399.9247\">*</text></a><!--MD5=[02c70b7c851c11e3980e4e90450dc5dd]\n",
       "link E6 to E7--><a href=\"psysml:5bbe4286-aec7-454e-8b07-ff0b44373e66\" target=\"_top\" title=\"psysml:5bbe4286-aec7-454e-8b07-ff0b44373e66\" xlink:actuate=\"onRequest\" xlink:href=\"psysml:5bbe4286-aec7-454e-8b07-ff0b44373e66\" xlink:show=\"new\" xlink:title=\"psysml:5bbe4286-aec7-454e-8b07-ff0b44373e66\" xlink:type=\"simple\"><path d=\"M363.3,466.16 C378.71,486.4 399.07,513.14 410.09,527.61 \" fill=\"none\" id=\"E6-&gt;E7\" style=\"stroke: #383838; stroke-width: 1.0;\"/><polygon fill=\"#383838\" points=\"413.2,531.69,410.9398,522.104,410.1749,527.7089,404.57,526.9441,413.2,531.69\" style=\"stroke: #383838; stroke-width: 1.0;\"/><text fill=\"#000000\" font-family=\"sans-serif\" font-size=\"13\" lengthAdjust=\"spacingAndGlyphs\" textLength=\"7\" x=\"398.9375\" y=\"515.8563\">*</text></a><!--MD5=[6bdd27f9905911a7e892a3dc65cf6b7c]\n",
       "link E7 to E4--><a href=\"psysml:df5824e0-bb07-4266-b9ed-97217b9e7a59\" target=\"_top\" title=\"psysml:df5824e0-bb07-4266-b9ed-97217b9e7a59\" xlink:actuate=\"onRequest\" xlink:href=\"psysml:df5824e0-bb07-4266-b9ed-97217b9e7a59\" xlink:show=\"new\" xlink:title=\"psysml:df5824e0-bb07-4266-b9ed-97217b9e7a59\" xlink:type=\"simple\"><path d=\"M419,527.68 C420.94,507.78 425,466 425,466 C425,466 437,334 437,334 C437,334 437,279 437,279 C437,279 428.27,242.03 423.32,221.07 \" fill=\"none\" id=\"E7-&gt;E4\" style=\"stroke: #383838; stroke-width: 1.0;\"/><polygon fill=\"#383838\" points=\"422.15,216.12,420.3382,225.8008,423.3055,220.9846,428.1217,223.9519,422.15,216.12\" style=\"stroke: #383838; stroke-width: 1.0;\"/><text fill=\"#000000\" font-family=\"sans-serif\" font-size=\"13\" lengthAdjust=\"spacingAndGlyphs\" textLength=\"36\" x=\"435\" y=\"377.0669\">[true]</text><text fill=\"#000000\" font-family=\"sans-serif\" font-size=\"13\" lengthAdjust=\"spacingAndGlyphs\" textLength=\"7\" x=\"414.3906\" y=\"238.1355\">*</text></a><!--MD5=[cb74a1b9d5de8b7361332e368adf35d4]\n",
       "@startuml\r\n",
       "skinparam linetype polyline\r\n",
       "skinparam monochrome true\r\n",
       "skinparam classbackgroundcolor white\r\n",
       "skinparam shadowing false\r\n",
       "skinparam wrapWidth 300\r\n",
       "hide circle\r\n",
       "\r\n",
       "package \"ActionTest\" as E1  [[psysml:a2683da9-1b6e-41fc-828a-cc7d1e5b2935 ]]  {\r\n",
       "comp def \"S\" as E2  <<(T,blue) attribute def>> [[psysml:9c87d4ab-cb1d-4b31-8fcd-81209805f4cd ]] {\r\n",
       "}\r\n",
       "rec usage \"a\" as E3  <<(T,blue) action>> [[psysml:88e0a3c5-b7f9-4d13-8306-ae5e61691436 ]] {\r\n",
       "choice \"m\" as E4  [[psysml:207ebb71-0108-47ac-8eb2-03003f2402f5 ]] \r\n",
       "accept \" S\" as E5 << accept action>> [[psysml:56f9bc80-23d6-47f0-bfbf-c5e902f86ac6 ]] \r\n",
       "send \" S() to  B()\" as E6 << send action>> [[psysml:baf32606-26e9-4cc3-a29f-e775486b01d7 ]] \r\n",
       "choice \"<s>noname</s>\" as E7  [[psysml:de118d49-a158-4609-b10e-b605b2688318 ]] \r\n",
       "[*] - -> E4 [[psysml:fb7d5adc-5880-4810-9813-86e53c07f96a ]] \r\n",
       "E7  - -> [*] [[psysml:c9de1ce8-1045-4471-9685-45647676290c ]] \r\n",
       "}\r\n",
       "\r\n",
       "rec def \"B\" as E8  <<(T,blue) action def>> [[psysml:79d3a6ab-38cc-49fb-ab8f-d1828ed09a3c ]] {\r\n",
       "}\r\n",
       "\r\n",
       "}\r\n",
       "E4 - -> \"*\"E5 [[psysml:674af9b4-5477-4a2d-9c32-c1d49aef2cdc ]] \r\n",
       "E5 - -> \"*\"E6 [[psysml:f1d57d75-7b92-4f65-894e-3c0dce6664b2 ]] \r\n",
       "E6 - -> \"*\"E7 [[psysml:5bbe4286-aec7-454e-8b07-ff0b44373e66 ]] \r\n",
       "E7  - -> \"*\"E4 [[psysml:df5824e0-bb07-4266-b9ed-97217b9e7a59 ]] : [true]\r\n",
       "@enduml\r\n",
       "\n",
       "PlantUML version 1.2020.13(Sat Jun 13 12:26:38 UTC 2020)\n",
       "(EPL source distribution)\n",
       "Java Runtime: OpenJDK Runtime Environment\n",
       "JVM: OpenJDK 64-Bit Server VM\n",
       "Default Encoding: UTF-8\n",
       "Language: en\n",
       "Country: null\n",
       "--></g></svg>"
      ]
     },
     "execution_count": 9,
     "metadata": {},
     "output_type": "execute_result"
    }
   ],
   "source": [
    "%viz --style=\"POLYLINE\" --view=\"Default\" \"ActionTest\""
   ]
  },
  {
   "cell_type": "code",
   "execution_count": 10,
   "id": "5af12dc3",
   "metadata": {
    "execution": {
     "iopub.execute_input": "2021-09-27T07:16:54.759313Z",
     "iopub.status.busy": "2021-09-27T07:16:54.758881Z",
     "iopub.status.idle": "2021-09-27T07:16:54.813525Z",
     "shell.execute_reply": "2021-09-27T07:16:54.813159Z"
    }
   },
   "outputs": [
    {
     "data": {
      "image/svg+xml": [
       "<?xml version=\"1.0\" encoding=\"UTF-8\" standalone=\"no\"?><svg xmlns=\"http://www.w3.org/2000/svg\" xmlns:xlink=\"http://www.w3.org/1999/xlink\" contentScriptType=\"application/ecmascript\" contentStyleType=\"text/css\" height=\"327px\" preserveAspectRatio=\"none\" style=\"width:677px;height:327px;\" version=\"1.1\" viewBox=\"0 0 677 327\" width=\"677px\" zoomAndPan=\"magnify\"><defs/><g><!--MD5=[fbc87193dbaf4d95561dea2c320d4a47]\n",
       "cluster E1--><a href=\"psysml:a2683da9-1b6e-41fc-828a-cc7d1e5b2935\" target=\"_top\" title=\"psysml:a2683da9-1b6e-41fc-828a-cc7d1e5b2935\" xlink:actuate=\"onRequest\" xlink:href=\"psysml:a2683da9-1b6e-41fc-828a-cc7d1e5b2935\" xlink:show=\"new\" xlink:title=\"psysml:a2683da9-1b6e-41fc-828a-cc7d1e5b2935\" xlink:type=\"simple\"><polygon fill=\"#FFFFFF\" points=\"16,6,96,6,103,28.2969,655,28.2969,655,315,16,315,16,6\" style=\"stroke: #000000; stroke-width: 1.5;\"/><line style=\"stroke: #000000; stroke-width: 1.5;\" x1=\"16\" x2=\"103\" y1=\"28.2969\" y2=\"28.2969\"/><text fill=\"#000000\" font-family=\"sans-serif\" font-size=\"14\" font-weight=\"bold\" lengthAdjust=\"spacingAndGlyphs\" textLength=\"74\" x=\"20\" y=\"20.9951\">ActionTest</text></a><!--MD5=[b4997ac47864f28c2f74865a473b2911]\n",
       "class E2--><a href=\"psysml:9c87d4ab-cb1d-4b31-8fcd-81209805f4cd\" target=\"_top\" title=\"psysml:9c87d4ab-cb1d-4b31-8fcd-81209805f4cd\" xlink:actuate=\"onRequest\" xlink:href=\"psysml:9c87d4ab-cb1d-4b31-8fcd-81209805f4cd\" xlink:show=\"new\" xlink:title=\"psysml:9c87d4ab-cb1d-4b31-8fcd-81209805f4cd\" xlink:type=\"simple\"><rect fill=\"#FFFFFF\" height=\"45.9375\" id=\"E2\" style=\"stroke: #383838; stroke-width: 1.5;\" width=\"95\" x=\"278.5\" y=\"253\"/><text fill=\"#000000\" font-family=\"sans-serif\" font-size=\"12\" font-style=\"italic\" lengthAdjust=\"spacingAndGlyphs\" textLength=\"93\" x=\"279.5\" y=\"269.1387\">«attribute def»</text><text fill=\"#000000\" font-family=\"sans-serif\" font-size=\"12\" lengthAdjust=\"spacingAndGlyphs\" textLength=\"8\" x=\"322\" y=\"283.1074\">S</text><line style=\"stroke: #383838; stroke-width: 1.5;\" x1=\"279.5\" x2=\"372.5\" y1=\"290.9375\" y2=\"290.9375\"/></a><!--MD5=[09b614a08d8cba4a07c9adeb5e0fee81]\n",
       "class E3--><a href=\"psysml:88e0a3c5-b7f9-4d13-8306-ae5e61691436\" target=\"_top\" title=\"psysml:88e0a3c5-b7f9-4d13-8306-ae5e61691436\" xlink:actuate=\"onRequest\" xlink:href=\"psysml:88e0a3c5-b7f9-4d13-8306-ae5e61691436\" xlink:show=\"new\" xlink:title=\"psysml:88e0a3c5-b7f9-4d13-8306-ae5e61691436\" xlink:type=\"simple\"><rect fill=\"#FFFFFF\" height=\"45.9375\" id=\"E3\" rx=\"10\" ry=\"10\" style=\"stroke: #383838; stroke-width: 1.5;\" width=\"55\" x=\"298.5\" y=\"41\"/><text fill=\"#000000\" font-family=\"sans-serif\" font-size=\"12\" font-style=\"italic\" lengthAdjust=\"spacingAndGlyphs\" textLength=\"53\" x=\"299.5\" y=\"57.1387\">«action»</text><text fill=\"#000000\" font-family=\"sans-serif\" font-size=\"12\" lengthAdjust=\"spacingAndGlyphs\" textLength=\"8\" x=\"322\" y=\"71.1074\">a</text><line style=\"stroke: #383838; stroke-width: 1.5;\" x1=\"299.5\" x2=\"352.5\" y1=\"78.9375\" y2=\"78.9375\"/></a><!--MD5=[ebbe1d658d1005bcc118a6aa81145e00]\n",
       "class E4--><a href=\"psysml:ed24d8b9-3ec6-4590-a85f-1d8fbc6b009f\" target=\"_top\" title=\"psysml:ed24d8b9-3ec6-4590-a85f-1d8fbc6b009f\" xlink:actuate=\"onRequest\" xlink:href=\"psysml:ed24d8b9-3ec6-4590-a85f-1d8fbc6b009f\" xlink:show=\"new\" xlink:title=\"psysml:ed24d8b9-3ec6-4590-a85f-1d8fbc6b009f\" xlink:type=\"simple\"><rect fill=\"#FFFFFF\" height=\"45.9375\" id=\"E4\" rx=\"10\" ry=\"10\" style=\"stroke: #383838; stroke-width: 1.5;\" width=\"83\" x=\"32.5\" y=\"147\"/><text fill=\"#000000\" font-family=\"sans-serif\" font-size=\"12\" font-style=\"italic\" lengthAdjust=\"spacingAndGlyphs\" textLength=\"53\" x=\"47.5\" y=\"163.1387\">«action»</text><text fill=\"#000000\" font-family=\"sans-serif\" font-size=\"12\" lengthAdjust=\"spacingAndGlyphs\" textLength=\"77\" x=\"35.5\" y=\"177.1074\">start: Action</text><line style=\"stroke: #383838; stroke-width: 1.5;\" x1=\"33.5\" x2=\"114.5\" y1=\"184.9375\" y2=\"184.9375\"/></a><!--MD5=[270fce915f116d4de14055a7c1d9a0f3]\n",
       "class E5--><a href=\"psysml:207ebb71-0108-47ac-8eb2-03003f2402f5\" target=\"_top\" title=\"psysml:207ebb71-0108-47ac-8eb2-03003f2402f5\" xlink:actuate=\"onRequest\" xlink:href=\"psysml:207ebb71-0108-47ac-8eb2-03003f2402f5\" xlink:show=\"new\" xlink:title=\"psysml:207ebb71-0108-47ac-8eb2-03003f2402f5\" xlink:type=\"simple\"><rect fill=\"#FFFFFF\" height=\"45.9375\" id=\"E5\" rx=\"10\" ry=\"10\" style=\"stroke: #383838; stroke-width: 1.5;\" width=\"89\" x=\"150.5\" y=\"147\"/><text fill=\"#000000\" font-family=\"sans-serif\" font-size=\"12\" font-style=\"italic\" lengthAdjust=\"spacingAndGlyphs\" textLength=\"87\" x=\"151.5\" y=\"163.1387\">«mergeNode»</text><text fill=\"#000000\" font-family=\"sans-serif\" font-size=\"12\" lengthAdjust=\"spacingAndGlyphs\" textLength=\"11\" x=\"189.5\" y=\"177.1074\">m</text><line style=\"stroke: #383838; stroke-width: 1.5;\" x1=\"151.5\" x2=\"238.5\" y1=\"184.9375\" y2=\"184.9375\"/></a><!--MD5=[60a26617385b1d2d0262a64233df1f8d]\n",
       "class E6--><a href=\"psysml:56f9bc80-23d6-47f0-bfbf-c5e902f86ac6\" target=\"_top\" title=\"psysml:56f9bc80-23d6-47f0-bfbf-c5e902f86ac6\" xlink:actuate=\"onRequest\" xlink:href=\"psysml:56f9bc80-23d6-47f0-bfbf-c5e902f86ac6\" xlink:show=\"new\" xlink:title=\"psysml:56f9bc80-23d6-47f0-bfbf-c5e902f86ac6\" xlink:type=\"simple\"><rect fill=\"#FFFFFF\" height=\"45.9375\" id=\"E6\" rx=\"10\" ry=\"10\" style=\"stroke: #383838; stroke-width: 1.5;\" width=\"102\" x=\"275\" y=\"147\"/><text fill=\"#000000\" font-family=\"sans-serif\" font-size=\"12\" font-style=\"italic\" lengthAdjust=\"spacingAndGlyphs\" textLength=\"100\" x=\"276\" y=\"163.1387\">«accept action»</text><text fill=\"#000000\" font-family=\"sans-serif\" font-size=\"12\" lengthAdjust=\"spacingAndGlyphs\" text-decoration=\"line-through\" textLength=\"51\" x=\"300.5\" y=\"177.1074\">noname</text><line style=\"stroke: #383838; stroke-width: 1.5;\" x1=\"276\" x2=\"376\" y1=\"184.9375\" y2=\"184.9375\"/></a><!--MD5=[2156ba9850f5573cc1fc38a6a4b2f02b]\n",
       "class E7--><a href=\"psysml:baf32606-26e9-4cc3-a29f-e775486b01d7\" target=\"_top\" title=\"psysml:baf32606-26e9-4cc3-a29f-e775486b01d7\" xlink:actuate=\"onRequest\" xlink:href=\"psysml:baf32606-26e9-4cc3-a29f-e775486b01d7\" xlink:show=\"new\" xlink:title=\"psysml:baf32606-26e9-4cc3-a29f-e775486b01d7\" xlink:type=\"simple\"><rect fill=\"#FFFFFF\" height=\"45.9375\" id=\"E7\" rx=\"10\" ry=\"10\" style=\"stroke: #383838; stroke-width: 1.5;\" width=\"90\" x=\"412\" y=\"147\"/><text fill=\"#000000\" font-family=\"sans-serif\" font-size=\"12\" font-style=\"italic\" lengthAdjust=\"spacingAndGlyphs\" textLength=\"88\" x=\"413\" y=\"163.1387\">«send action»</text><text fill=\"#000000\" font-family=\"sans-serif\" font-size=\"12\" lengthAdjust=\"spacingAndGlyphs\" text-decoration=\"line-through\" textLength=\"51\" x=\"431.5\" y=\"177.1074\">noname</text><line style=\"stroke: #383838; stroke-width: 1.5;\" x1=\"413\" x2=\"501\" y1=\"184.9375\" y2=\"184.9375\"/></a><!--MD5=[b9389687b975829384b498ac4b7476b2]\n",
       "class E8--><a href=\"psysml:de118d49-a158-4609-b10e-b605b2688318\" target=\"_top\" title=\"psysml:de118d49-a158-4609-b10e-b605b2688318\" xlink:actuate=\"onRequest\" xlink:href=\"psysml:de118d49-a158-4609-b10e-b605b2688318\" xlink:show=\"new\" xlink:title=\"psysml:de118d49-a158-4609-b10e-b605b2688318\" xlink:type=\"simple\"><rect fill=\"#FFFFFF\" height=\"45.9375\" id=\"E8\" rx=\"10\" ry=\"10\" style=\"stroke: #383838; stroke-width: 1.5;\" width=\"101\" x=\"537.5\" y=\"147\"/><text fill=\"#000000\" font-family=\"sans-serif\" font-size=\"12\" font-style=\"italic\" lengthAdjust=\"spacingAndGlyphs\" textLength=\"99\" x=\"538.5\" y=\"163.1387\">«decisionNode»</text><text fill=\"#000000\" font-family=\"sans-serif\" font-size=\"12\" lengthAdjust=\"spacingAndGlyphs\" text-decoration=\"line-through\" textLength=\"51\" x=\"562.5\" y=\"177.1074\">noname</text><line style=\"stroke: #383838; stroke-width: 1.5;\" x1=\"538.5\" x2=\"637.5\" y1=\"184.9375\" y2=\"184.9375\"/></a><!--MD5=[fd4143e9d270a159db93a4ea2a975926]\n",
       "class E9--><a href=\"psysml:79d3a6ab-38cc-49fb-ab8f-d1828ed09a3c\" target=\"_top\" title=\"psysml:79d3a6ab-38cc-49fb-ab8f-d1828ed09a3c\" xlink:actuate=\"onRequest\" xlink:href=\"psysml:79d3a6ab-38cc-49fb-ab8f-d1828ed09a3c\" xlink:show=\"new\" xlink:title=\"psysml:79d3a6ab-38cc-49fb-ab8f-d1828ed09a3c\" xlink:type=\"simple\"><rect fill=\"#FFFFFF\" height=\"45.9375\" id=\"E9\" style=\"stroke: #383838; stroke-width: 1.5;\" width=\"79\" x=\"108.5\" y=\"41\"/><text fill=\"#000000\" font-family=\"sans-serif\" font-size=\"12\" font-style=\"italic\" lengthAdjust=\"spacingAndGlyphs\" textLength=\"77\" x=\"109.5\" y=\"57.1387\">«action def»</text><text fill=\"#000000\" font-family=\"sans-serif\" font-size=\"12\" lengthAdjust=\"spacingAndGlyphs\" textLength=\"8\" x=\"144\" y=\"71.1074\">B</text><line style=\"stroke: #383838; stroke-width: 1.5;\" x1=\"109.5\" x2=\"186.5\" y1=\"78.9375\" y2=\"78.9375\"/></a><!--MD5=[4672eba38e49728da53d11aeb285b987]\n",
       "reverse link E3 to E4--><a href=\"psysml:2bdfcbda-067f-4f9a-98d2-dcf2fb74ea33\" target=\"_top\" title=\"psysml:2bdfcbda-067f-4f9a-98d2-dcf2fb74ea33\" xlink:actuate=\"onRequest\" xlink:href=\"psysml:2bdfcbda-067f-4f9a-98d2-dcf2fb74ea33\" xlink:show=\"new\" xlink:title=\"psysml:2bdfcbda-067f-4f9a-98d2-dcf2fb74ea33\" xlink:type=\"simple\"><path d=\"M283.98,82.34 C237.32,101.6 162.45,132.5 115.85,151.73 \" fill=\"none\" id=\"E3&lt;-E4\" style=\"stroke: #383838; stroke-width: 1.0; stroke-dasharray: 7.0,7.0;\"/><ellipse cx=\"290.6768\" cy=\"79.5863\" fill=\"#FFFFFF\" rx=\"8\" ry=\"8\" style=\"stroke: #383838; stroke-width: 1.0;\"/><line style=\"stroke: #383838; stroke-width: 1.0;\" x1=\"283.2837\" x2=\"298.07\" y1=\"82.6427\" y2=\"76.53\"/><line style=\"stroke: #383838; stroke-width: 1.0;\" x1=\"287.6205\" x2=\"293.7332\" y1=\"72.1932\" y2=\"86.9795\"/></a><!--MD5=[191cde3d490a3f6d7bb551fe3ddca469]\n",
       "reverse link E3 to E5--><a href=\"psysml:5bed3b2f-97a8-4cc2-a775-cf545f437587\" target=\"_top\" title=\"psysml:5bed3b2f-97a8-4cc2-a775-cf545f437587\" xlink:actuate=\"onRequest\" xlink:href=\"psysml:5bed3b2f-97a8-4cc2-a775-cf545f437587\" xlink:show=\"new\" xlink:title=\"psysml:5bed3b2f-97a8-4cc2-a775-cf545f437587\" xlink:type=\"simple\"><path d=\"M287.79,95.33 C266.97,111.86 241.66,131.95 222.74,146.98 \" fill=\"none\" id=\"E3&lt;-E5\" style=\"stroke: #383838; stroke-width: 1.0;\"/><polygon fill=\"#383838\" points=\"298.22,87.06,291.0341,87.6625,288.8265,94.5273,296.0123,93.9249,298.22,87.06\" style=\"stroke: #383838; stroke-width: 1.0;\"/><text fill=\"#000000\" font-family=\"sans-serif\" font-size=\"13\" lengthAdjust=\"spacingAndGlyphs\" textLength=\"7\" x=\"222.2545\" y=\"135.8709\">*</text></a><!--MD5=[1026b4b93417a13aa8999a858998add2]\n",
       "reverse link E3 to E6--><a href=\"psysml:856d4c40-3d8a-43fc-9608-49cee162593b\" target=\"_top\" title=\"psysml:856d4c40-3d8a-43fc-9608-49cee162593b\" xlink:actuate=\"onRequest\" xlink:href=\"psysml:856d4c40-3d8a-43fc-9608-49cee162593b\" xlink:show=\"new\" xlink:title=\"psysml:856d4c40-3d8a-43fc-9608-49cee162593b\" xlink:type=\"simple\"><path d=\"M326,100.44 C326,115.87 326,133.47 326,146.98 \" fill=\"none\" id=\"E3&lt;-E6\" style=\"stroke: #383838; stroke-width: 1.0;\"/><polygon fill=\"#383838\" points=\"326,87.06,322,93.06,326,99.06,330,93.06,326,87.06\" style=\"stroke: #383838; stroke-width: 1.0;\"/><text fill=\"#000000\" font-family=\"sans-serif\" font-size=\"13\" lengthAdjust=\"spacingAndGlyphs\" textLength=\"7\" x=\"318.0594\" y=\"135.8709\">*</text></a><!--MD5=[3403bfa781cc3da0fd423dbab6f01c63]\n",
       "reverse link E6 to E2--><a href=\"psysml:1accd303-612e-4d59-ad9b-f522e5e57a44\" target=\"_top\" title=\"psysml:1accd303-612e-4d59-ad9b-f522e5e57a44\" xlink:actuate=\"onRequest\" xlink:href=\"psysml:1accd303-612e-4d59-ad9b-f522e5e57a44\" xlink:show=\"new\" xlink:title=\"psysml:1accd303-612e-4d59-ad9b-f522e5e57a44\" xlink:type=\"simple\"><path d=\"M326,206.44 C326,221.87 326,239.47 326,252.98 \" fill=\"none\" id=\"E6&lt;-E2\" style=\"stroke: #383838; stroke-width: 1.0;\"/><polygon fill=\"#FFFFFF\" points=\"326,193.06,322,199.06,326,205.06,330,199.06,326,193.06\" style=\"stroke: #383838; stroke-width: 1.0;\"/></a><!--MD5=[85760999379eecfd2565a9fecdca67e4]\n",
       "reverse link E3 to E7--><a href=\"psysml:a7054211-8666-4154-9247-2ebed4d34e27\" target=\"_top\" title=\"psysml:a7054211-8666-4154-9247-2ebed4d34e27\" xlink:actuate=\"onRequest\" xlink:href=\"psysml:a7054211-8666-4154-9247-2ebed4d34e27\" xlink:show=\"new\" xlink:title=\"psysml:a7054211-8666-4154-9247-2ebed4d34e27\" xlink:type=\"simple\"><path d=\"M364.21,95.33 C385.03,111.86 410.34,131.95 429.26,146.98 \" fill=\"none\" id=\"E3&lt;-E7\" style=\"stroke: #383838; stroke-width: 1.0;\"/><polygon fill=\"#383838\" points=\"353.78,87.06,355.9877,93.9249,363.1735,94.5273,360.9659,87.6625,353.78,87.06\" style=\"stroke: #383838; stroke-width: 1.0;\"/><text fill=\"#000000\" font-family=\"sans-serif\" font-size=\"13\" lengthAdjust=\"spacingAndGlyphs\" textLength=\"7\" x=\"413.8642\" y=\"135.8709\">*</text></a><!--MD5=[4cb75b73ec3682b8f7f8edc9cc86126a]\n",
       "reverse link E3 to E8--><a href=\"psysml:6d3dd5fa-79f8-485d-9bbb-f558da8741e9\" target=\"_top\" title=\"psysml:6d3dd5fa-79f8-485d-9bbb-f558da8741e9\" xlink:actuate=\"onRequest\" xlink:href=\"psysml:6d3dd5fa-79f8-485d-9bbb-f558da8741e9\" xlink:show=\"new\" xlink:title=\"psysml:6d3dd5fa-79f8-485d-9bbb-f558da8741e9\" xlink:type=\"simple\"><path d=\"M365.63,80.73 C411.46,98.92 486.99,128.91 537.12,148.8 \" fill=\"none\" id=\"E3&lt;-E8\" style=\"stroke: #383838; stroke-width: 1.0;\"/><polygon fill=\"#383838\" points=\"353.54,75.93,357.6459,81.858,364.6971,80.348,360.5912,74.42,353.54,75.93\" style=\"stroke: #383838; stroke-width: 1.0;\"/></a><!--MD5=[b1b0d92c0e0d5025b89298053de49939]\n",
       "@startuml\r\n",
       "skinparam linetype polyline\r\n",
       "skinparam monochrome true\r\n",
       "skinparam classbackgroundcolor white\r\n",
       "skinparam shadowing false\r\n",
       "skinparam wrapWidth 300\r\n",
       "hide circle\r\n",
       "\r\n",
       "package \"ActionTest\" as E1  [[psysml:a2683da9-1b6e-41fc-828a-cc7d1e5b2935 ]]  {\r\n",
       "comp def \"S\" as E2  <<(T,blue) attribute def>> [[psysml:9c87d4ab-cb1d-4b31-8fcd-81209805f4cd ]] {\r\n",
       "}\r\n",
       "comp usage \"a\" as E3  <<(T,blue) action>> [[psysml:88e0a3c5-b7f9-4d13-8306-ae5e61691436 ]] {\r\n",
       "}\r\n",
       "comp usage \"start: Action\" as E4  <<(T,blue) action>> [[psysml:ed24d8b9-3ec6-4590-a85f-1d8fbc6b009f ]] {\r\n",
       "}\r\n",
       "comp usage \"m\" as E5  <<(T,blue) mergeNode>> [[psysml:207ebb71-0108-47ac-8eb2-03003f2402f5 ]] {\r\n",
       "}\r\n",
       "comp usage \"<s>noname</s>\" as E6 << accept action>> [[psysml:56f9bc80-23d6-47f0-bfbf-c5e902f86ac6 ]] {\r\n",
       "}\r\n",
       "comp usage \"<s>noname</s>\" as E7 << send action>> [[psysml:baf32606-26e9-4cc3-a29f-e775486b01d7 ]] {\r\n",
       "}\r\n",
       "comp usage \"<s>noname</s>\" as E8  <<(T,blue) decisionNode>> [[psysml:de118d49-a158-4609-b10e-b605b2688318 ]] {\r\n",
       "}\r\n",
       "comp def \"B\" as E9  <<(T,blue) action def>> [[psysml:79d3a6ab-38cc-49fb-ab8f-d1828ed09a3c ]] {\r\n",
       "}\r\n",
       "}\r\n",
       "E3 +.. E4 [[psysml:2bdfcbda-067f-4f9a-98d2-dcf2fb74ea33 ]] \r\n",
       "E3 *- - \"*\"E5 [[psysml:5bed3b2f-97a8-4cc2-a775-cf545f437587 ]] \r\n",
       "E3 *- - \"*\"E6 [[psysml:856d4c40-3d8a-43fc-9608-49cee162593b ]] \r\n",
       "E6 o- - E2 [[psysml:1accd303-612e-4d59-ad9b-f522e5e57a44 ]] \r\n",
       "E3 *- - \"*\"E7 [[psysml:a7054211-8666-4154-9247-2ebed4d34e27 ]] \r\n",
       "E3 *- - E8 [[psysml:6d3dd5fa-79f8-485d-9bbb-f558da8741e9 ]] \r\n",
       "@enduml\r\n",
       "\n",
       "PlantUML version 1.2020.13(Sat Jun 13 12:26:38 UTC 2020)\n",
       "(EPL source distribution)\n",
       "Java Runtime: OpenJDK Runtime Environment\n",
       "JVM: OpenJDK 64-Bit Server VM\n",
       "Default Encoding: UTF-8\n",
       "Language: en\n",
       "Country: null\n",
       "--></g></svg>"
      ]
     },
     "execution_count": 10,
     "metadata": {},
     "output_type": "execute_result"
    }
   ],
   "source": [
    "%viz --style=\"POLYLINE\" --view=\"Tree\" \"ActionTest\""
   ]
  },
  {
   "cell_type": "code",
   "execution_count": 11,
   "id": "de10fda0",
   "metadata": {
    "execution": {
     "iopub.execute_input": "2021-09-27T07:16:54.863455Z",
     "iopub.status.busy": "2021-09-27T07:16:54.863038Z",
     "iopub.status.idle": "2021-09-27T07:16:54.870134Z",
     "shell.execute_reply": "2021-09-27T07:16:54.870451Z"
    }
   },
   "outputs": [
    {
     "data": {
      "image/svg+xml": [
       "<?xml version=\"1.0\" encoding=\"UTF-8\" standalone=\"no\"?><svg xmlns=\"http://www.w3.org/2000/svg\" xmlns:xlink=\"http://www.w3.org/1999/xlink\" contentScriptType=\"application/ecmascript\" contentStyleType=\"text/css\" height=\"12px\" preserveAspectRatio=\"none\" style=\"width:12px;height:12px;\" version=\"1.1\" viewBox=\"0 0 12 12\" width=\"12px\" zoomAndPan=\"magnify\"><defs/><g><!--MD5=[896ac0e7a515d8dd7765a661cb4ee08b]\n",
       "@startuml\r\n",
       "skinparam linetype polyline\r\n",
       "skinparam monochrome true\r\n",
       "skinparam classbackgroundcolor white\r\n",
       "skinparam shadowing false\r\n",
       "skinparam wrapWidth 300\r\n",
       "hide circle\r\n",
       "\r\n",
       "@enduml\r\n",
       "\n",
       "PlantUML version 1.2020.13(Sat Jun 13 12:26:38 UTC 2020)\n",
       "(EPL source distribution)\n",
       "Java Runtime: OpenJDK Runtime Environment\n",
       "JVM: OpenJDK 64-Bit Server VM\n",
       "Default Encoding: UTF-8\n",
       "Language: en\n",
       "Country: null\n",
       "--></g></svg>"
      ]
     },
     "execution_count": 11,
     "metadata": {},
     "output_type": "execute_result"
    }
   ],
   "source": [
    "%viz --style=\"POLYLINE\" --view=\"State\" \"ActionTest\""
   ]
  },
  {
   "cell_type": "code",
   "execution_count": 12,
   "id": "68e059c5",
   "metadata": {
    "execution": {
     "iopub.execute_input": "2021-09-27T07:16:54.920937Z",
     "iopub.status.busy": "2021-09-27T07:16:54.920524Z",
     "iopub.status.idle": "2021-09-27T07:16:54.992011Z",
     "shell.execute_reply": "2021-09-27T07:16:54.991630Z"
    }
   },
   "outputs": [
    {
     "data": {
      "image/svg+xml": [
       "<?xml version=\"1.0\" encoding=\"UTF-8\" standalone=\"no\"?><svg xmlns=\"http://www.w3.org/2000/svg\" xmlns:xlink=\"http://www.w3.org/1999/xlink\" contentScriptType=\"application/ecmascript\" contentStyleType=\"text/css\" height=\"462px\" preserveAspectRatio=\"none\" style=\"width:522px;height:462px;\" version=\"1.1\" viewBox=\"0 0 522 462\" width=\"522px\" zoomAndPan=\"magnify\"><defs/><g><!--MD5=[fbc87193dbaf4d95561dea2c320d4a47]\n",
       "cluster E1--><a href=\"psysml:a2683da9-1b6e-41fc-828a-cc7d1e5b2935\" target=\"_top\" title=\"psysml:a2683da9-1b6e-41fc-828a-cc7d1e5b2935\" xlink:actuate=\"onRequest\" xlink:href=\"psysml:a2683da9-1b6e-41fc-828a-cc7d1e5b2935\" xlink:show=\"new\" xlink:title=\"psysml:a2683da9-1b6e-41fc-828a-cc7d1e5b2935\" xlink:type=\"simple\"><polygon fill=\"#FFFFFF\" points=\"16,6,96,6,103,28.2969,500,28.2969,500,450.5,16,450.5,16,6\" style=\"stroke: #000000; stroke-width: 1.5;\"/><line style=\"stroke: #000000; stroke-width: 1.5;\" x1=\"16\" x2=\"103\" y1=\"28.2969\" y2=\"28.2969\"/><text fill=\"#000000\" font-family=\"sans-serif\" font-size=\"14\" font-weight=\"bold\" lengthAdjust=\"spacingAndGlyphs\" textLength=\"74\" x=\"20\" y=\"20.9951\">ActionTest</text></a><!--MD5=[d5e69f78d87373223dbae638b30a9c99]\n",
       "cluster E3--><a href=\"psysml:88e0a3c5-b7f9-4d13-8306-ae5e61691436\" target=\"_top\" title=\"psysml:88e0a3c5-b7f9-4d13-8306-ae5e61691436\" xlink:actuate=\"onRequest\" xlink:href=\"psysml:88e0a3c5-b7f9-4d13-8306-ae5e61691436\" xlink:show=\"new\" xlink:title=\"psysml:88e0a3c5-b7f9-4d13-8306-ae5e61691436\" xlink:type=\"simple\"><rect fill=\"#FFFFFF\" height=\"377.5\" id=\"E3\" rx=\"10\" ry=\"10\" style=\"stroke: #383838; stroke-width: 1.5;\" width=\"209\" x=\"267\" y=\"49\"/><rect fill=\"#F8F8F8\" height=\"37.9375\" rx=\"10\" ry=\"10\" style=\"stroke: #F8F8F8; stroke-width: 1.5;\" width=\"209\" x=\"267\" y=\"49\"/><rect fill=\"#F8F8F8\" height=\"10\" style=\"stroke: #F8F8F8; stroke-width: 1.5;\" width=\"209\" x=\"267\" y=\"76.9375\"/><rect fill=\"none\" height=\"377.5\" id=\"E3\" rx=\"10\" ry=\"10\" style=\"stroke: #383838; stroke-width: 1.5;\" width=\"209\" x=\"267\" y=\"49\"/><text fill=\"#000000\" font-family=\"sans-serif\" font-size=\"12\" font-style=\"italic\" lengthAdjust=\"spacingAndGlyphs\" textLength=\"53\" x=\"345\" y=\"65.1387\">«action»</text><text fill=\"#000000\" font-family=\"sans-serif\" font-size=\"12\" lengthAdjust=\"spacingAndGlyphs\" textLength=\"8\" x=\"367.5\" y=\"79.1074\">a</text><line style=\"stroke: #383838; stroke-width: 1.0;\" x1=\"267\" x2=\"476\" y1=\"86.9375\" y2=\"86.9375\"/></a><g id=\"E1.E2\"><a href=\"psysml:9c87d4ab-cb1d-4b31-8fcd-81209805f4cd\" target=\"_top\" title=\"psysml:9c87d4ab-cb1d-4b31-8fcd-81209805f4cd\" xlink:actuate=\"onRequest\" xlink:href=\"psysml:9c87d4ab-cb1d-4b31-8fcd-81209805f4cd\" xlink:show=\"new\" xlink:title=\"psysml:9c87d4ab-cb1d-4b31-8fcd-81209805f4cd\" xlink:type=\"simple\"><rect fill=\"#FFFFFF\" height=\"42.9375\" id=\"E2\" style=\"stroke: #383838; stroke-width: 1.5;\" width=\"100\" x=\"151\" y=\"88.5\"/><rect fill=\"#F8F8F8\" height=\"37.9375\" style=\"stroke: #383838; stroke-width: 1.5;\" width=\"100\" x=\"151\" y=\"88.5\"/><text fill=\"#000000\" font-family=\"sans-serif\" font-size=\"12\" font-style=\"italic\" lengthAdjust=\"spacingAndGlyphs\" textLength=\"93\" x=\"154.5\" y=\"104.6387\">«attribute def»</text><text fill=\"#000000\" font-family=\"sans-serif\" font-size=\"12\" lengthAdjust=\"spacingAndGlyphs\" textLength=\"8\" x=\"197\" y=\"118.6074\">S</text></a></g><polygon fill=\"#F8F8F8\" points=\"424,148.5,436,160.5,424,172.5,412,160.5,424,148.5\" style=\"stroke: #383838; stroke-width: 1.5;\"/><!--MD5=[21dd76c19d33815960c0e92fef8f0eef]\n",
       "entity E5--><a href=\"psysml:56f9bc80-23d6-47f0-bfbf-c5e902f86ac6\" target=\"_top\" title=\"psysml:56f9bc80-23d6-47f0-bfbf-c5e902f86ac6\" xlink:actuate=\"onRequest\" xlink:href=\"psysml:56f9bc80-23d6-47f0-bfbf-c5e902f86ac6\" xlink:show=\"new\" xlink:title=\"psysml:56f9bc80-23d6-47f0-bfbf-c5e902f86ac6\" xlink:type=\"simple\"><polygon fill=\"#F8F8F8\" points=\"283,189.5,283,244.0938,423,244.0938,403,216.7969,423,189.5\" style=\"stroke: #000000; stroke-width: 1.5;\"/><text fill=\"#000000\" font-family=\"sans-serif\" font-size=\"14\" font-style=\"italic\" lengthAdjust=\"spacingAndGlyphs\" textLength=\"111\" x=\"290\" y=\"212.4951\">«accept action»</text><text fill=\"#000000\" font-family=\"sans-serif\" font-size=\"14\" lengthAdjust=\"spacingAndGlyphs\" textLength=\"9\" x=\"341\" y=\"229.792\">S</text></a><!--MD5=[24d87cdf3002d433f401b2a2aa9f9f65]\n",
       "entity E6--><a href=\"psysml:baf32606-26e9-4cc3-a29f-e775486b01d7\" target=\"_top\" title=\"psysml:baf32606-26e9-4cc3-a29f-e775486b01d7\" xlink:actuate=\"onRequest\" xlink:href=\"psysml:baf32606-26e9-4cc3-a29f-e775486b01d7\" xlink:show=\"new\" xlink:title=\"psysml:baf32606-26e9-4cc3-a29f-e775486b01d7\" xlink:type=\"simple\"><polygon fill=\"#F8F8F8\" points=\"283,277.5,283,332.0938,391,332.0938,411,304.7969,391,277.5\" style=\"stroke: #000000; stroke-width: 1.5;\"/><text fill=\"#000000\" font-family=\"sans-serif\" font-size=\"14\" font-style=\"italic\" lengthAdjust=\"spacingAndGlyphs\" textLength=\"99\" x=\"290\" y=\"300.4951\">«send action»</text><text fill=\"#000000\" font-family=\"sans-serif\" font-size=\"14\" lengthAdjust=\"spacingAndGlyphs\" textLength=\"65\" x=\"307\" y=\"317.792\">S() to  B()</text></a><polygon fill=\"#F8F8F8\" points=\"422,349.5,434,361.5,422,373.5,410,361.5,422,349.5\" style=\"stroke: #383838; stroke-width: 1.5;\"/><ellipse cx=\"424\" cy=\"110\" fill=\"#000000\" rx=\"10\" ry=\"10\" style=\"stroke: none; stroke-width: 1.0;\"/><ellipse cx=\"422\" cy=\"400.5\" fill=\"none\" rx=\"10\" ry=\"10\" style=\"stroke: #000000; stroke-width: 1.0;\"/><ellipse cx=\"422.5\" cy=\"401\" fill=\"#000000\" rx=\"6\" ry=\"6\" style=\"stroke: none; stroke-width: 1.0;\"/><g id=\"E1.E8\"><a href=\"psysml:79d3a6ab-38cc-49fb-ab8f-d1828ed09a3c\" target=\"_top\" title=\"psysml:79d3a6ab-38cc-49fb-ab8f-d1828ed09a3c\" xlink:actuate=\"onRequest\" xlink:href=\"psysml:79d3a6ab-38cc-49fb-ab8f-d1828ed09a3c\" xlink:show=\"new\" xlink:title=\"psysml:79d3a6ab-38cc-49fb-ab8f-d1828ed09a3c\" xlink:type=\"simple\"><rect fill=\"#FFFFFF\" height=\"42.9375\" id=\"E8\" style=\"stroke: #383838; stroke-width: 1.5;\" width=\"84\" x=\"32\" y=\"88.5\"/><rect fill=\"#F8F8F8\" height=\"37.9375\" style=\"stroke: #383838; stroke-width: 1.5;\" width=\"84\" x=\"32\" y=\"88.5\"/><text fill=\"#000000\" font-family=\"sans-serif\" font-size=\"12\" font-style=\"italic\" lengthAdjust=\"spacingAndGlyphs\" textLength=\"77\" x=\"35.5\" y=\"104.6387\">«action def»</text><text fill=\"#000000\" font-family=\"sans-serif\" font-size=\"12\" lengthAdjust=\"spacingAndGlyphs\" textLength=\"8\" x=\"70\" y=\"118.6074\">B</text></a></g><!--MD5=[f47e10efcf9a6752d55dae986d790ed9]\n",
       "link *start*E3 to E4--><a href=\"psysml:fb7d5adc-5880-4810-9813-86e53c07f96a\" target=\"_top\" title=\"psysml:fb7d5adc-5880-4810-9813-86e53c07f96a\" xlink:actuate=\"onRequest\" xlink:href=\"psysml:fb7d5adc-5880-4810-9813-86e53c07f96a\" xlink:show=\"new\" xlink:title=\"psysml:fb7d5adc-5880-4810-9813-86e53c07f96a\" xlink:type=\"simple\"><path d=\"M424,120.35 C424,126.88 424,135.77 424,143.42 \" fill=\"none\" id=\"*start*E3-&gt;E4\" style=\"stroke: #383838; stroke-width: 1.0;\"/><polygon fill=\"#383838\" points=\"424,148.48,428,139.48,424,143.48,420,139.48,424,148.48\" style=\"stroke: #383838; stroke-width: 1.0;\"/></a><!--MD5=[d19f2eb34364d71b67042106d92f540b]\n",
       "link E7 to *end*E3--><a href=\"psysml:c9de1ce8-1045-4471-9685-45647676290c\" target=\"_top\" title=\"psysml:c9de1ce8-1045-4471-9685-45647676290c\" xlink:actuate=\"onRequest\" xlink:href=\"psysml:c9de1ce8-1045-4471-9685-45647676290c\" xlink:show=\"new\" xlink:title=\"psysml:c9de1ce8-1045-4471-9685-45647676290c\" xlink:type=\"simple\"><path d=\"M422,373.8 C422,377.34 422,381.3 422,385.03 \" fill=\"none\" id=\"E7-&gt;*end*E3\" style=\"stroke: #383838; stroke-width: 1.0;\"/><polygon fill=\"#383838\" points=\"422,390.25,426,381.25,422,385.25,418,381.25,422,390.25\" style=\"stroke: #383838; stroke-width: 1.0;\"/></a><!--MD5=[1b7591eae5389033d8d09a9d6721a717]\n",
       "link E4 to E5--><a href=\"psysml:674af9b4-5477-4a2d-9c32-c1d49aef2cdc\" target=\"_top\" title=\"psysml:674af9b4-5477-4a2d-9c32-c1d49aef2cdc\" xlink:actuate=\"onRequest\" xlink:href=\"psysml:674af9b4-5477-4a2d-9c32-c1d49aef2cdc\" xlink:show=\"new\" xlink:title=\"psysml:674af9b4-5477-4a2d-9c32-c1d49aef2cdc\" xlink:type=\"simple\"><path d=\"M417.45,166.53 C411.33,171.23 401.65,178.66 391.64,186.34 \" fill=\"none\" id=\"E4-&gt;E5\" style=\"stroke: #383838; stroke-width: 1.0;\"/><polygon fill=\"#383838\" points=\"387.64,189.41,397.2129,187.0948,391.6037,186.3621,392.3363,180.7529,387.64,189.41\" style=\"stroke: #383838; stroke-width: 1.0;\"/><text fill=\"#000000\" font-family=\"sans-serif\" font-size=\"13\" lengthAdjust=\"spacingAndGlyphs\" textLength=\"7\" x=\"387.8411\" y=\"178.4247\">*</text></a><!--MD5=[9120cf2e5df3bff93db8f754bbbc09b4]\n",
       "link E5 to E6--><a href=\"psysml:f1d57d75-7b92-4f65-894e-3c0dce6664b2\" target=\"_top\" title=\"psysml:f1d57d75-7b92-4f65-894e-3c0dce6664b2\" xlink:actuate=\"onRequest\" xlink:href=\"psysml:f1d57d75-7b92-4f65-894e-3c0dce6664b2\" xlink:show=\"new\" xlink:title=\"psysml:f1d57d75-7b92-4f65-894e-3c0dce6664b2\" xlink:type=\"simple\"><path d=\"M351.13,244.74 C350.53,253.4 349.85,263.08 349.23,272.08 \" fill=\"none\" id=\"E5-&gt;E6\" style=\"stroke: #383838; stroke-width: 1.0;\"/><polygon fill=\"#383838\" points=\"348.86,277.28,353.468,268.5756,349.203,272.2918,345.4869,268.0268,348.86,277.28\" style=\"stroke: #383838; stroke-width: 1.0;\"/><text fill=\"#000000\" font-family=\"sans-serif\" font-size=\"13\" lengthAdjust=\"spacingAndGlyphs\" textLength=\"7\" x=\"341.4808\" y=\"266.2646\">*</text></a><!--MD5=[02c70b7c851c11e3980e4e90450dc5dd]\n",
       "link E6 to E7--><a href=\"psysml:5bbe4286-aec7-454e-8b07-ff0b44373e66\" target=\"_top\" title=\"psysml:5bbe4286-aec7-454e-8b07-ff0b44373e66\" xlink:actuate=\"onRequest\" xlink:href=\"psysml:5bbe4286-aec7-454e-8b07-ff0b44373e66\" xlink:show=\"new\" xlink:title=\"psysml:5bbe4286-aec7-454e-8b07-ff0b44373e66\" xlink:type=\"simple\"><path d=\"M383.62,332.61 C393.72,339.95 403.91,347.35 411.24,352.68 \" fill=\"none\" id=\"E6-&gt;E7\" style=\"stroke: #383838; stroke-width: 1.0;\"/><polygon fill=\"#383838\" points=\"415.42,355.72,410.4976,347.1894,411.3776,352.7774,405.7896,353.6574,415.42,355.72\" style=\"stroke: #383838; stroke-width: 1.0;\"/><text fill=\"#000000\" font-family=\"sans-serif\" font-size=\"13\" lengthAdjust=\"spacingAndGlyphs\" textLength=\"7\" x=\"397.584\" y=\"338.5823\">*</text></a><!--MD5=[6bdd27f9905911a7e892a3dc65cf6b7c]\n",
       "link E7 to E4--><a href=\"psysml:df5824e0-bb07-4266-b9ed-97217b9e7a59\" target=\"_top\" title=\"psysml:df5824e0-bb07-4266-b9ed-97217b9e7a59\" xlink:actuate=\"onRequest\" xlink:href=\"psysml:df5824e0-bb07-4266-b9ed-97217b9e7a59\" xlink:show=\"new\" xlink:title=\"psysml:df5824e0-bb07-4266-b9ed-97217b9e7a59\" xlink:type=\"simple\"><path d=\"M424.21,351.64 C426.27,343.44 429,332.5 429,332.5 C429,332.5 441,244.5 441,244.5 C441,244.5 441,189.5 441,189.5 C441,189.5 435.74,180.83 431.07,173.14 \" fill=\"none\" id=\"E7-&gt;E4\" style=\"stroke: #383838; stroke-width: 1.0;\"/><polygon fill=\"#383838\" points=\"428.29,168.57,429.5527,178.3376,430.8897,172.841,436.3863,174.178,428.29,168.57\" style=\"stroke: #383838; stroke-width: 1.0;\"/><text fill=\"#000000\" font-family=\"sans-serif\" font-size=\"13\" lengthAdjust=\"spacingAndGlyphs\" textLength=\"36\" x=\"440\" y=\"265.5669\">[true]</text><text fill=\"#000000\" font-family=\"sans-serif\" font-size=\"13\" lengthAdjust=\"spacingAndGlyphs\" textLength=\"7\" x=\"431.1676\" y=\"188.8776\">*</text></a><!--MD5=[3d38dd8f106293992423a0ee5ca83d6a]\n",
       "@startuml\r\n",
       "skinparam ranksep 10\r\n",
       "skinparam rectangle {\r\n",
       " backgroundColor<<block>> LightGreen\r\n",
       "}\r\n",
       "skinparam linetype polyline\r\n",
       "skinparam monochrome true\r\n",
       "skinparam classbackgroundcolor white\r\n",
       "skinparam shadowing false\r\n",
       "skinparam wrapWidth 300\r\n",
       "hide circle\r\n",
       "\r\n",
       "package \"ActionTest\" as E1  [[psysml:a2683da9-1b6e-41fc-828a-cc7d1e5b2935 ]]  {\r\n",
       "def \"S\" as E2  <<(T,blue) attribute def>> [[psysml:9c87d4ab-cb1d-4b31-8fcd-81209805f4cd ]] \r\n",
       "rec usage \"a\" as E3  <<(T,blue) action>> [[psysml:88e0a3c5-b7f9-4d13-8306-ae5e61691436 ]] {\r\n",
       "choice \"m\" as E4  [[psysml:207ebb71-0108-47ac-8eb2-03003f2402f5 ]] \r\n",
       "accept \" S\" as E5 << accept action>> [[psysml:56f9bc80-23d6-47f0-bfbf-c5e902f86ac6 ]] \r\n",
       "send \" S() to  B()\" as E6 << send action>> [[psysml:baf32606-26e9-4cc3-a29f-e775486b01d7 ]] \r\n",
       "choice \"<s>noname</s>\" as E7  [[psysml:de118d49-a158-4609-b10e-b605b2688318 ]] \r\n",
       "[*] - -> E4 [[psysml:fb7d5adc-5880-4810-9813-86e53c07f96a ]] \r\n",
       "E7  - -> [*] [[psysml:c9de1ce8-1045-4471-9685-45647676290c ]] \r\n",
       "}\r\n",
       "\r\n",
       "rec def \"B\" as E8  <<(T,blue) action def>> [[psysml:79d3a6ab-38cc-49fb-ab8f-d1828ed09a3c ]] {\r\n",
       "}\r\n",
       "\r\n",
       "}\r\n",
       "E4 - -> \"*\"E5 [[psysml:674af9b4-5477-4a2d-9c32-c1d49aef2cdc ]] \r\n",
       "E5 - -> \"*\"E6 [[psysml:f1d57d75-7b92-4f65-894e-3c0dce6664b2 ]] \r\n",
       "E6 - -> \"*\"E7 [[psysml:5bbe4286-aec7-454e-8b07-ff0b44373e66 ]] \r\n",
       "E7  - -> \"*\"E4 [[psysml:df5824e0-bb07-4266-b9ed-97217b9e7a59 ]] : [true]\r\n",
       "@enduml\r\n",
       "\n",
       "PlantUML version 1.2020.13(Sat Jun 13 12:26:38 UTC 2020)\n",
       "(EPL source distribution)\n",
       "Java Runtime: OpenJDK Runtime Environment\n",
       "JVM: OpenJDK 64-Bit Server VM\n",
       "Default Encoding: UTF-8\n",
       "Language: en\n",
       "Country: null\n",
       "--></g></svg>"
      ]
     },
     "execution_count": 12,
     "metadata": {},
     "output_type": "execute_result"
    }
   ],
   "source": [
    "%viz --style=\"POLYLINE\" --view=\"Interconnection\" \"ActionTest\""
   ]
  },
  {
   "cell_type": "code",
   "execution_count": 13,
   "id": "4411a963",
   "metadata": {
    "execution": {
     "iopub.execute_input": "2021-09-27T07:16:55.042079Z",
     "iopub.status.busy": "2021-09-27T07:16:55.041620Z",
     "iopub.status.idle": "2021-09-27T07:16:55.092576Z",
     "shell.execute_reply": "2021-09-27T07:16:55.092183Z"
    }
   },
   "outputs": [
    {
     "data": {
      "image/svg+xml": [
       "<?xml version=\"1.0\" encoding=\"UTF-8\" standalone=\"no\"?><svg xmlns=\"http://www.w3.org/2000/svg\" xmlns:xlink=\"http://www.w3.org/1999/xlink\" contentScriptType=\"application/ecmascript\" contentStyleType=\"text/css\" height=\"395px\" preserveAspectRatio=\"none\" style=\"width:328px;height:395px;\" version=\"1.1\" viewBox=\"0 0 328 395\" width=\"328px\" zoomAndPan=\"magnify\"><defs/><g><!--MD5=[fbc87193dbaf4d95561dea2c320d4a47]\n",
       "cluster E1--><a href=\"psysml:88e0a3c5-b7f9-4d13-8306-ae5e61691436\" target=\"_top\" title=\"psysml:88e0a3c5-b7f9-4d13-8306-ae5e61691436\" xlink:actuate=\"onRequest\" xlink:href=\"psysml:88e0a3c5-b7f9-4d13-8306-ae5e61691436\" xlink:show=\"new\" xlink:title=\"psysml:88e0a3c5-b7f9-4d13-8306-ae5e61691436\" xlink:type=\"simple\"><rect fill=\"#FFFFFF\" height=\"377.5\" id=\"E1\" rx=\"10\" ry=\"10\" style=\"stroke: #383838; stroke-width: 1.5;\" width=\"209\" x=\"107\" y=\"7\"/><rect fill=\"#F8F8F8\" height=\"37.9375\" rx=\"10\" ry=\"10\" style=\"stroke: #F8F8F8; stroke-width: 1.5;\" width=\"209\" x=\"107\" y=\"7\"/><rect fill=\"#F8F8F8\" height=\"10\" style=\"stroke: #F8F8F8; stroke-width: 1.5;\" width=\"209\" x=\"107\" y=\"34.9375\"/><rect fill=\"none\" height=\"377.5\" id=\"E1\" rx=\"10\" ry=\"10\" style=\"stroke: #383838; stroke-width: 1.5;\" width=\"209\" x=\"107\" y=\"7\"/><text fill=\"#000000\" font-family=\"sans-serif\" font-size=\"12\" font-style=\"italic\" lengthAdjust=\"spacingAndGlyphs\" textLength=\"53\" x=\"185\" y=\"23.1387\">«action»</text><text fill=\"#000000\" font-family=\"sans-serif\" font-size=\"12\" lengthAdjust=\"spacingAndGlyphs\" textLength=\"8\" x=\"207.5\" y=\"37.1074\">a</text><line style=\"stroke: #383838; stroke-width: 1.0;\" x1=\"107\" x2=\"316\" y1=\"44.9375\" y2=\"44.9375\"/></a><polygon fill=\"#F8F8F8\" points=\"264,106.5,276,118.5,264,130.5,252,118.5,264,106.5\" style=\"stroke: #383838; stroke-width: 1.5;\"/><!--MD5=[a60fb756f580feb9fd8e2cf1329b5c91]\n",
       "entity E3--><a href=\"psysml:56f9bc80-23d6-47f0-bfbf-c5e902f86ac6\" target=\"_top\" title=\"psysml:56f9bc80-23d6-47f0-bfbf-c5e902f86ac6\" xlink:actuate=\"onRequest\" xlink:href=\"psysml:56f9bc80-23d6-47f0-bfbf-c5e902f86ac6\" xlink:show=\"new\" xlink:title=\"psysml:56f9bc80-23d6-47f0-bfbf-c5e902f86ac6\" xlink:type=\"simple\"><polygon fill=\"#F8F8F8\" points=\"123,147.5,123,202.0938,263,202.0938,243,174.7969,263,147.5\" style=\"stroke: #000000; stroke-width: 1.5;\"/><text fill=\"#000000\" font-family=\"sans-serif\" font-size=\"14\" font-style=\"italic\" lengthAdjust=\"spacingAndGlyphs\" textLength=\"111\" x=\"130\" y=\"170.4951\">«accept action»</text><text fill=\"#000000\" font-family=\"sans-serif\" font-size=\"14\" lengthAdjust=\"spacingAndGlyphs\" textLength=\"9\" x=\"181\" y=\"187.792\">S</text></a><!--MD5=[961cefdc15414eaa3e87aec9d17c2188]\n",
       "entity E4--><a href=\"psysml:baf32606-26e9-4cc3-a29f-e775486b01d7\" target=\"_top\" title=\"psysml:baf32606-26e9-4cc3-a29f-e775486b01d7\" xlink:actuate=\"onRequest\" xlink:href=\"psysml:baf32606-26e9-4cc3-a29f-e775486b01d7\" xlink:show=\"new\" xlink:title=\"psysml:baf32606-26e9-4cc3-a29f-e775486b01d7\" xlink:type=\"simple\"><polygon fill=\"#F8F8F8\" points=\"123,235.5,123,290.0938,231,290.0938,251,262.7969,231,235.5\" style=\"stroke: #000000; stroke-width: 1.5;\"/><text fill=\"#000000\" font-family=\"sans-serif\" font-size=\"14\" font-style=\"italic\" lengthAdjust=\"spacingAndGlyphs\" textLength=\"99\" x=\"130\" y=\"258.4951\">«send action»</text><text fill=\"#000000\" font-family=\"sans-serif\" font-size=\"14\" lengthAdjust=\"spacingAndGlyphs\" textLength=\"65\" x=\"147\" y=\"275.792\">S() to  B()</text></a><polygon fill=\"#F8F8F8\" points=\"262,307.5,274,319.5,262,331.5,250,319.5,262,307.5\" style=\"stroke: #383838; stroke-width: 1.5;\"/><ellipse cx=\"264\" cy=\"68\" fill=\"#000000\" rx=\"10\" ry=\"10\" style=\"stroke: none; stroke-width: 1.0;\"/><ellipse cx=\"262\" cy=\"358.5\" fill=\"none\" rx=\"10\" ry=\"10\" style=\"stroke: #000000; stroke-width: 1.0;\"/><ellipse cx=\"262.5\" cy=\"359\" fill=\"#000000\" rx=\"6\" ry=\"6\" style=\"stroke: none; stroke-width: 1.0;\"/><g id=\"E6\"><a href=\"psysml:79d3a6ab-38cc-49fb-ab8f-d1828ed09a3c\" target=\"_top\" title=\"psysml:79d3a6ab-38cc-49fb-ab8f-d1828ed09a3c\" xlink:actuate=\"onRequest\" xlink:href=\"psysml:79d3a6ab-38cc-49fb-ab8f-d1828ed09a3c\" xlink:show=\"new\" xlink:title=\"psysml:79d3a6ab-38cc-49fb-ab8f-d1828ed09a3c\" xlink:type=\"simple\"><rect fill=\"#FFFFFF\" height=\"42.9375\" id=\"E6\" style=\"stroke: #383838; stroke-width: 1.5;\" width=\"84\" x=\"7\" y=\"46.5\"/><rect fill=\"#F8F8F8\" height=\"37.9375\" style=\"stroke: #383838; stroke-width: 1.5;\" width=\"84\" x=\"7\" y=\"46.5\"/><text fill=\"#000000\" font-family=\"sans-serif\" font-size=\"12\" font-style=\"italic\" lengthAdjust=\"spacingAndGlyphs\" textLength=\"77\" x=\"10.5\" y=\"62.6387\">«action def»</text><text fill=\"#000000\" font-family=\"sans-serif\" font-size=\"12\" lengthAdjust=\"spacingAndGlyphs\" textLength=\"8\" x=\"45\" y=\"76.6074\">B</text></a></g><!--MD5=[cff944eb183b832d446717a4e202d613]\n",
       "link *start*E1 to E2--><a href=\"psysml:fb7d5adc-5880-4810-9813-86e53c07f96a\" target=\"_top\" title=\"psysml:fb7d5adc-5880-4810-9813-86e53c07f96a\" xlink:actuate=\"onRequest\" xlink:href=\"psysml:fb7d5adc-5880-4810-9813-86e53c07f96a\" xlink:show=\"new\" xlink:title=\"psysml:fb7d5adc-5880-4810-9813-86e53c07f96a\" xlink:type=\"simple\"><path d=\"M264,78.35 C264,84.88 264,93.77 264,101.42 \" fill=\"none\" id=\"*start*E1-&gt;E2\" style=\"stroke: #383838; stroke-width: 1.0; stroke-dasharray: 7.0,7.0;\"/><polygon fill=\"#383838\" points=\"264,106.48,268,97.48,264,101.48,260,97.48,264,106.48\" style=\"stroke: #383838; stroke-width: 1.0;\"/></a><!--MD5=[7fc47fc0d107820853a137871ad908c8]\n",
       "link E5 to *end*E1--><a href=\"psysml:c9de1ce8-1045-4471-9685-45647676290c\" target=\"_top\" title=\"psysml:c9de1ce8-1045-4471-9685-45647676290c\" xlink:actuate=\"onRequest\" xlink:href=\"psysml:c9de1ce8-1045-4471-9685-45647676290c\" xlink:show=\"new\" xlink:title=\"psysml:c9de1ce8-1045-4471-9685-45647676290c\" xlink:type=\"simple\"><path d=\"M262,331.8 C262,335.34 262,339.3 262,343.03 \" fill=\"none\" id=\"E5-&gt;*end*E1\" style=\"stroke: #383838; stroke-width: 1.0; stroke-dasharray: 7.0,7.0;\"/><polygon fill=\"#383838\" points=\"262,348.25,266,339.25,262,343.25,258,339.25,262,348.25\" style=\"stroke: #383838; stroke-width: 1.0;\"/></a><!--MD5=[2720a5a1f2c3fca2055b230370638851]\n",
       "link E2 to E3--><a href=\"psysml:674af9b4-5477-4a2d-9c32-c1d49aef2cdc\" target=\"_top\" title=\"psysml:674af9b4-5477-4a2d-9c32-c1d49aef2cdc\" xlink:actuate=\"onRequest\" xlink:href=\"psysml:674af9b4-5477-4a2d-9c32-c1d49aef2cdc\" xlink:show=\"new\" xlink:title=\"psysml:674af9b4-5477-4a2d-9c32-c1d49aef2cdc\" xlink:type=\"simple\"><path d=\"M257.45,124.53 C251.33,129.23 241.65,136.66 231.64,144.34 \" fill=\"none\" id=\"E2-&gt;E3\" style=\"stroke: #383838; stroke-width: 1.0; stroke-dasharray: 7.0,7.0;\"/><polygon fill=\"#383838\" points=\"227.64,147.41,237.2129,145.0948,231.6037,144.3621,232.3363,138.7529,227.64,147.41\" style=\"stroke: #383838; stroke-width: 1.0;\"/></a><!--MD5=[af87c684e3b0d8be13c1a698a818ef1e]\n",
       "link E3 to E4--><a href=\"psysml:f1d57d75-7b92-4f65-894e-3c0dce6664b2\" target=\"_top\" title=\"psysml:f1d57d75-7b92-4f65-894e-3c0dce6664b2\" xlink:actuate=\"onRequest\" xlink:href=\"psysml:f1d57d75-7b92-4f65-894e-3c0dce6664b2\" xlink:show=\"new\" xlink:title=\"psysml:f1d57d75-7b92-4f65-894e-3c0dce6664b2\" xlink:type=\"simple\"><path d=\"M191.13,202.74 C190.53,211.4 189.85,221.08 189.23,230.08 \" fill=\"none\" id=\"E3-&gt;E4\" style=\"stroke: #383838; stroke-width: 1.0; stroke-dasharray: 7.0,7.0;\"/><polygon fill=\"#383838\" points=\"188.86,235.28,193.468,226.5756,189.203,230.2918,185.4869,226.0268,188.86,235.28\" style=\"stroke: #383838; stroke-width: 1.0;\"/></a><!--MD5=[1b7591eae5389033d8d09a9d6721a717]\n",
       "link E4 to E5--><a href=\"psysml:5bbe4286-aec7-454e-8b07-ff0b44373e66\" target=\"_top\" title=\"psysml:5bbe4286-aec7-454e-8b07-ff0b44373e66\" xlink:actuate=\"onRequest\" xlink:href=\"psysml:5bbe4286-aec7-454e-8b07-ff0b44373e66\" xlink:show=\"new\" xlink:title=\"psysml:5bbe4286-aec7-454e-8b07-ff0b44373e66\" xlink:type=\"simple\"><path d=\"M223.62,290.61 C233.72,297.95 243.91,305.35 251.24,310.68 \" fill=\"none\" id=\"E4-&gt;E5\" style=\"stroke: #383838; stroke-width: 1.0; stroke-dasharray: 7.0,7.0;\"/><polygon fill=\"#383838\" points=\"255.42,313.72,250.4976,305.1894,251.3776,310.7774,245.7896,311.6574,255.42,313.72\" style=\"stroke: #383838; stroke-width: 1.0;\"/></a><!--MD5=[15ebcb19ae302d9b601edb458606d402]\n",
       "link E5 to E2--><a href=\"psysml:df5824e0-bb07-4266-b9ed-97217b9e7a59\" target=\"_top\" title=\"psysml:df5824e0-bb07-4266-b9ed-97217b9e7a59\" xlink:actuate=\"onRequest\" xlink:href=\"psysml:df5824e0-bb07-4266-b9ed-97217b9e7a59\" xlink:show=\"new\" xlink:title=\"psysml:df5824e0-bb07-4266-b9ed-97217b9e7a59\" xlink:type=\"simple\"><path d=\"M264.21,309.64 C266.27,301.44 269,290.5 269,290.5 C269,290.5 281,202.5 281,202.5 C281,202.5 281,147.5 281,147.5 C281,147.5 275.74,138.83 271.07,131.14 \" fill=\"none\" id=\"E5-&gt;E2\" style=\"stroke: #383838; stroke-width: 1.0; stroke-dasharray: 7.0,7.0;\"/><polygon fill=\"#383838\" points=\"268.29,126.57,269.5527,136.3376,270.8897,130.841,276.3863,132.178,268.29,126.57\" style=\"stroke: #383838; stroke-width: 1.0;\"/><text fill=\"#000000\" font-family=\"sans-serif\" font-size=\"13\" lengthAdjust=\"spacingAndGlyphs\" textLength=\"36\" x=\"280\" y=\"223.5669\">[true]</text></a><!--MD5=[06fcab2ca4f8f541b1881b3e5db42303]\n",
       "@startuml\r\n",
       "skinparam ranksep 8\r\n",
       "skinparam linetype polyline\r\n",
       "skinparam monochrome true\r\n",
       "skinparam classbackgroundcolor white\r\n",
       "skinparam shadowing false\r\n",
       "skinparam wrapWidth 300\r\n",
       "hide circle\r\n",
       "\r\n",
       "rec usage \"a\" as E1  <<(T,blue) action>> [[psysml:88e0a3c5-b7f9-4d13-8306-ae5e61691436 ]] {\r\n",
       "choice \"m\" as E2  [[psysml:207ebb71-0108-47ac-8eb2-03003f2402f5 ]] \r\n",
       "accept \" S\" as E3 << accept action>> [[psysml:56f9bc80-23d6-47f0-bfbf-c5e902f86ac6 ]] \r\n",
       "send \" S() to  B()\" as E4 << send action>> [[psysml:baf32606-26e9-4cc3-a29f-e775486b01d7 ]] \r\n",
       "choice \"<s>noname</s>\" as E5  [[psysml:de118d49-a158-4609-b10e-b605b2688318 ]] \r\n",
       "[*] ..> E2 [[psysml:fb7d5adc-5880-4810-9813-86e53c07f96a ]] \r\n",
       "E5 ..> [*] [[psysml:c9de1ce8-1045-4471-9685-45647676290c ]] \r\n",
       "}\r\n",
       "\r\n",
       "E2 ..> E3 [[psysml:674af9b4-5477-4a2d-9c32-c1d49aef2cdc ]] \r\n",
       "E3 ..> E4 [[psysml:f1d57d75-7b92-4f65-894e-3c0dce6664b2 ]] \r\n",
       "E4 ..> E5 [[psysml:5bbe4286-aec7-454e-8b07-ff0b44373e66 ]] \r\n",
       "E5 ..> E2 [[psysml:df5824e0-bb07-4266-b9ed-97217b9e7a59 ]] : [true]\r\n",
       "rec def \"B\" as E6  <<(T,blue) action def>> [[psysml:79d3a6ab-38cc-49fb-ab8f-d1828ed09a3c ]] {\r\n",
       "}\r\n",
       "\r\n",
       "@enduml\r\n",
       "\n",
       "PlantUML version 1.2020.13(Sat Jun 13 12:26:38 UTC 2020)\n",
       "(EPL source distribution)\n",
       "Java Runtime: OpenJDK Runtime Environment\n",
       "JVM: OpenJDK 64-Bit Server VM\n",
       "Default Encoding: UTF-8\n",
       "Language: en\n",
       "Country: null\n",
       "--></g></svg>"
      ]
     },
     "execution_count": 13,
     "metadata": {},
     "output_type": "execute_result"
    }
   ],
   "source": [
    "%viz --style=\"POLYLINE\" --view=\"Action\" \"ActionTest\""
   ]
  },
  {
   "cell_type": "code",
   "execution_count": 14,
   "id": "772571cb",
   "metadata": {
    "execution": {
     "iopub.execute_input": "2021-09-27T07:16:55.142313Z",
     "iopub.status.busy": "2021-09-27T07:16:55.141892Z",
     "iopub.status.idle": "2021-09-27T07:16:55.149429Z",
     "shell.execute_reply": "2021-09-27T07:16:55.149751Z"
    }
   },
   "outputs": [
    {
     "data": {
      "image/svg+xml": [
       "<?xml version=\"1.0\" encoding=\"UTF-8\" standalone=\"no\"?><svg xmlns=\"http://www.w3.org/2000/svg\" xmlns:xlink=\"http://www.w3.org/1999/xlink\" contentScriptType=\"application/ecmascript\" contentStyleType=\"text/css\" height=\"12px\" preserveAspectRatio=\"none\" style=\"width:12px;height:12px;\" version=\"1.1\" viewBox=\"0 0 12 12\" width=\"12px\" zoomAndPan=\"magnify\"><defs/><g><!--MD5=[dc938048236c351797870c36b62f92ad]\n",
       "@startuml\r\n",
       "skinparam roundcorner 20\r\n",
       "skinparam BoxPadding 20\r\n",
       "skinparam SequenceBoxBackgroundColor #white\r\n",
       "skinparam style strictuml\r\n",
       "skinparam maxMessageSize 100\r\n",
       "skinparam linetype polyline\r\n",
       "skinparam monochrome true\r\n",
       "skinparam classbackgroundcolor white\r\n",
       "skinparam shadowing false\r\n",
       "skinparam wrapWidth 300\r\n",
       "hide circle\r\n",
       "\r\n",
       "@enduml\r\n",
       "\n",
       "PlantUML version 1.2020.13(Sat Jun 13 12:26:38 UTC 2020)\n",
       "(EPL source distribution)\n",
       "Java Runtime: OpenJDK Runtime Environment\n",
       "JVM: OpenJDK 64-Bit Server VM\n",
       "Default Encoding: UTF-8\n",
       "Language: en\n",
       "Country: null\n",
       "--></g></svg>"
      ]
     },
     "execution_count": 14,
     "metadata": {},
     "output_type": "execute_result"
    }
   ],
   "source": [
    "%viz --style=\"POLYLINE\" --view=\"Sequence\" \"ActionTest\""
   ]
  },
  {
   "cell_type": "code",
   "execution_count": 15,
   "id": "cd566930",
   "metadata": {
    "execution": {
     "iopub.execute_input": "2021-09-27T07:16:55.200052Z",
     "iopub.status.busy": "2021-09-27T07:16:55.199645Z",
     "iopub.status.idle": "2021-09-27T07:16:55.253438Z",
     "shell.execute_reply": "2021-09-27T07:16:55.253693Z"
    }
   },
   "outputs": [
    {
     "data": {
      "image/svg+xml": [
       "<?xml version=\"1.0\" encoding=\"UTF-8\" standalone=\"no\"?><svg xmlns=\"http://www.w3.org/2000/svg\" xmlns:xlink=\"http://www.w3.org/1999/xlink\" contentScriptType=\"application/ecmascript\" contentStyleType=\"text/css\" height=\"684px\" preserveAspectRatio=\"none\" style=\"width:518px;height:684px;\" version=\"1.1\" viewBox=\"0 0 518 684\" width=\"518px\" zoomAndPan=\"magnify\"><defs/><g><!--MD5=[fbc87193dbaf4d95561dea2c320d4a47]\n",
       "cluster E1--><a href=\"psysml:a2683da9-1b6e-41fc-828a-cc7d1e5b2935\" target=\"_top\" title=\"psysml:a2683da9-1b6e-41fc-828a-cc7d1e5b2935\" xlink:actuate=\"onRequest\" xlink:href=\"psysml:a2683da9-1b6e-41fc-828a-cc7d1e5b2935\" xlink:show=\"new\" xlink:title=\"psysml:a2683da9-1b6e-41fc-828a-cc7d1e5b2935\" xlink:type=\"simple\"><polygon fill=\"#FFFFFF\" points=\"16,6,96,6,103,28.2969,496,28.2969,496,672,16,672,16,6\" style=\"stroke: #000000; stroke-width: 1.5;\"/><line style=\"stroke: #000000; stroke-width: 1.5;\" x1=\"16\" x2=\"103\" y1=\"28.2969\" y2=\"28.2969\"/><text fill=\"#000000\" font-family=\"sans-serif\" font-size=\"14\" font-weight=\"bold\" lengthAdjust=\"spacingAndGlyphs\" textLength=\"74\" x=\"20\" y=\"20.9951\">ActionTest</text></a><!--MD5=[d5e69f78d87373223dbae638b30a9c99]\n",
       "cluster E3--><a href=\"psysml:88e0a3c5-b7f9-4d13-8306-ae5e61691436\" target=\"_top\" title=\"psysml:88e0a3c5-b7f9-4d13-8306-ae5e61691436\" xlink:actuate=\"onRequest\" xlink:href=\"psysml:88e0a3c5-b7f9-4d13-8306-ae5e61691436\" xlink:show=\"new\" xlink:title=\"psysml:88e0a3c5-b7f9-4d13-8306-ae5e61691436\" xlink:type=\"simple\"><rect fill=\"#FFFFFF\" height=\"599\" id=\"E3\" rx=\"10\" ry=\"10\" style=\"stroke: #383838; stroke-width: 1.5;\" width=\"209\" x=\"263\" y=\"49\"/><rect fill=\"#F8F8F8\" height=\"37.9375\" rx=\"10\" ry=\"10\" style=\"stroke: #F8F8F8; stroke-width: 1.5;\" width=\"209\" x=\"263\" y=\"49\"/><rect fill=\"#F8F8F8\" height=\"10\" style=\"stroke: #F8F8F8; stroke-width: 1.5;\" width=\"209\" x=\"263\" y=\"76.9375\"/><rect fill=\"none\" height=\"599\" id=\"E3\" rx=\"10\" ry=\"10\" style=\"stroke: #383838; stroke-width: 1.5;\" width=\"209\" x=\"263\" y=\"49\"/><text fill=\"#000000\" font-family=\"sans-serif\" font-size=\"12\" font-style=\"italic\" lengthAdjust=\"spacingAndGlyphs\" textLength=\"53\" x=\"341\" y=\"65.1387\">«action»</text><text fill=\"#000000\" font-family=\"sans-serif\" font-size=\"12\" lengthAdjust=\"spacingAndGlyphs\" textLength=\"8\" x=\"363.5\" y=\"79.1074\">a</text><line style=\"stroke: #383838; stroke-width: 1.0;\" x1=\"263\" x2=\"472\" y1=\"86.9375\" y2=\"86.9375\"/></a><!--MD5=[b4997ac47864f28c2f74865a473b2911]\n",
       "class E2--><a href=\"psysml:9c87d4ab-cb1d-4b31-8fcd-81209805f4cd\" target=\"_top\" title=\"psysml:9c87d4ab-cb1d-4b31-8fcd-81209805f4cd\" xlink:actuate=\"onRequest\" xlink:href=\"psysml:9c87d4ab-cb1d-4b31-8fcd-81209805f4cd\" xlink:show=\"new\" xlink:title=\"psysml:9c87d4ab-cb1d-4b31-8fcd-81209805f4cd\" xlink:type=\"simple\"><rect fill=\"#FFFFFF\" height=\"45.9375\" id=\"E2\" style=\"stroke: #383838; stroke-width: 1.5;\" width=\"95\" x=\"151.5\" y=\"87\"/><text fill=\"#000000\" font-family=\"sans-serif\" font-size=\"12\" font-style=\"italic\" lengthAdjust=\"spacingAndGlyphs\" textLength=\"93\" x=\"152.5\" y=\"103.1387\">«attribute def»</text><text fill=\"#000000\" font-family=\"sans-serif\" font-size=\"12\" lengthAdjust=\"spacingAndGlyphs\" textLength=\"8\" x=\"195\" y=\"117.1074\">S</text><line style=\"stroke: #383838; stroke-width: 1.5;\" x1=\"152.5\" x2=\"245.5\" y1=\"124.9375\" y2=\"124.9375\"/></a><polygon fill=\"#F8F8F8\" points=\"420,194,432,206,420,218,408,206,420,194\" style=\"stroke: #383838; stroke-width: 1.5;\"/><!--MD5=[21dd76c19d33815960c0e92fef8f0eef]\n",
       "entity E5--><a href=\"psysml:56f9bc80-23d6-47f0-bfbf-c5e902f86ac6\" target=\"_top\" title=\"psysml:56f9bc80-23d6-47f0-bfbf-c5e902f86ac6\" xlink:actuate=\"onRequest\" xlink:href=\"psysml:56f9bc80-23d6-47f0-bfbf-c5e902f86ac6\" xlink:show=\"new\" xlink:title=\"psysml:56f9bc80-23d6-47f0-bfbf-c5e902f86ac6\" xlink:type=\"simple\"><polygon fill=\"#F8F8F8\" points=\"279,279,279,333.5938,419,333.5938,399,306.2969,419,279\" style=\"stroke: #000000; stroke-width: 1.5;\"/><text fill=\"#000000\" font-family=\"sans-serif\" font-size=\"14\" font-style=\"italic\" lengthAdjust=\"spacingAndGlyphs\" textLength=\"111\" x=\"286\" y=\"301.9951\">«accept action»</text><text fill=\"#000000\" font-family=\"sans-serif\" font-size=\"14\" lengthAdjust=\"spacingAndGlyphs\" textLength=\"9\" x=\"337\" y=\"319.292\">S</text></a><!--MD5=[24d87cdf3002d433f401b2a2aa9f9f65]\n",
       "entity E6--><a href=\"psysml:baf32606-26e9-4cc3-a29f-e775486b01d7\" target=\"_top\" title=\"psysml:baf32606-26e9-4cc3-a29f-e775486b01d7\" xlink:actuate=\"onRequest\" xlink:href=\"psysml:baf32606-26e9-4cc3-a29f-e775486b01d7\" xlink:show=\"new\" xlink:title=\"psysml:baf32606-26e9-4cc3-a29f-e775486b01d7\" xlink:type=\"simple\"><polygon fill=\"#F8F8F8\" points=\"279,411,279,465.5938,387,465.5938,407,438.2969,387,411\" style=\"stroke: #000000; stroke-width: 1.5;\"/><text fill=\"#000000\" font-family=\"sans-serif\" font-size=\"14\" font-style=\"italic\" lengthAdjust=\"spacingAndGlyphs\" textLength=\"99\" x=\"286\" y=\"433.9951\">«send action»</text><text fill=\"#000000\" font-family=\"sans-serif\" font-size=\"14\" lengthAdjust=\"spacingAndGlyphs\" textLength=\"65\" x=\"303\" y=\"451.292\">S() to  B()</text></a><polygon fill=\"#F8F8F8\" points=\"418,527,430,539,418,551,406,539,418,527\" style=\"stroke: #383838; stroke-width: 1.5;\"/><ellipse cx=\"420\" cy=\"110\" fill=\"#000000\" rx=\"10\" ry=\"10\" style=\"stroke: none; stroke-width: 1.0;\"/><ellipse cx=\"418\" cy=\"622\" fill=\"none\" rx=\"10\" ry=\"10\" style=\"stroke: #000000; stroke-width: 1.0;\"/><ellipse cx=\"418.5\" cy=\"622.5\" fill=\"#000000\" rx=\"6\" ry=\"6\" style=\"stroke: none; stroke-width: 1.0;\"/><g id=\"E1.E8\"><a href=\"psysml:79d3a6ab-38cc-49fb-ab8f-d1828ed09a3c\" target=\"_top\" title=\"psysml:79d3a6ab-38cc-49fb-ab8f-d1828ed09a3c\" xlink:actuate=\"onRequest\" xlink:href=\"psysml:79d3a6ab-38cc-49fb-ab8f-d1828ed09a3c\" xlink:show=\"new\" xlink:title=\"psysml:79d3a6ab-38cc-49fb-ab8f-d1828ed09a3c\" xlink:type=\"simple\"><rect fill=\"#FFFFFF\" height=\"42.9375\" id=\"E8\" style=\"stroke: #383838; stroke-width: 1.5;\" width=\"84\" x=\"32\" y=\"88.5\"/><rect fill=\"#F8F8F8\" height=\"37.9375\" style=\"stroke: #383838; stroke-width: 1.5;\" width=\"84\" x=\"32\" y=\"88.5\"/><text fill=\"#000000\" font-family=\"sans-serif\" font-size=\"12\" font-style=\"italic\" lengthAdjust=\"spacingAndGlyphs\" textLength=\"77\" x=\"35.5\" y=\"104.6387\">«action def»</text><text fill=\"#000000\" font-family=\"sans-serif\" font-size=\"12\" lengthAdjust=\"spacingAndGlyphs\" textLength=\"8\" x=\"70\" y=\"118.6074\">B</text></a></g><!--MD5=[f47e10efcf9a6752d55dae986d790ed9]\n",
       "link *start*E3 to E4--><a href=\"psysml:fb7d5adc-5880-4810-9813-86e53c07f96a\" target=\"_top\" title=\"psysml:fb7d5adc-5880-4810-9813-86e53c07f96a\" xlink:actuate=\"onRequest\" xlink:href=\"psysml:fb7d5adc-5880-4810-9813-86e53c07f96a\" xlink:show=\"new\" xlink:title=\"psysml:fb7d5adc-5880-4810-9813-86e53c07f96a\" xlink:type=\"simple\"><path d=\"M420,120.01 C420,135.81 420,168.69 420,188.61 \" fill=\"none\" id=\"*start*E3-&gt;E4\" style=\"stroke: #383838; stroke-width: 1.0;\"/><polygon fill=\"#383838\" points=\"420,193.85,424,184.85,420,188.85,416,184.85,420,193.85\" style=\"stroke: #383838; stroke-width: 1.0;\"/></a><!--MD5=[d19f2eb34364d71b67042106d92f540b]\n",
       "link E7 to *end*E3--><a href=\"psysml:c9de1ce8-1045-4471-9685-45647676290c\" target=\"_top\" title=\"psysml:c9de1ce8-1045-4471-9685-45647676290c\" xlink:actuate=\"onRequest\" xlink:href=\"psysml:c9de1ce8-1045-4471-9685-45647676290c\" xlink:show=\"new\" xlink:title=\"psysml:c9de1ce8-1045-4471-9685-45647676290c\" xlink:type=\"simple\"><path d=\"M418,551.26 C418,565.66 418,590.63 418,606.46 \" fill=\"none\" id=\"E7-&gt;*end*E3\" style=\"stroke: #383838; stroke-width: 1.0;\"/><polygon fill=\"#383838\" points=\"418,611.84,422,602.84,418,606.84,414,602.84,418,611.84\" style=\"stroke: #383838; stroke-width: 1.0;\"/></a><!--MD5=[1b7591eae5389033d8d09a9d6721a717]\n",
       "link E4 to E5--><a href=\"psysml:674af9b4-5477-4a2d-9c32-c1d49aef2cdc\" target=\"_top\" title=\"psysml:674af9b4-5477-4a2d-9c32-c1d49aef2cdc\" xlink:actuate=\"onRequest\" xlink:href=\"psysml:674af9b4-5477-4a2d-9c32-c1d49aef2cdc\" xlink:show=\"new\" xlink:title=\"psysml:674af9b4-5477-4a2d-9c32-c1d49aef2cdc\" xlink:type=\"simple\"><path d=\"M415.34,213.46 C406.55,225.66 386.99,252.8 371.37,274.46 \" fill=\"none\" id=\"E4-&gt;E5\" style=\"stroke: #383838; stroke-width: 1.0;\"/><polygon fill=\"#383838\" points=\"368.31,278.71,376.8093,273.7339,371.227,274.6491,370.3119,269.0667,368.31,278.71\" style=\"stroke: #383838; stroke-width: 1.0;\"/><text fill=\"#000000\" font-family=\"sans-serif\" font-size=\"13\" lengthAdjust=\"spacingAndGlyphs\" textLength=\"7\" x=\"364.7684\" y=\"268.1162\">*</text></a><!--MD5=[9120cf2e5df3bff93db8f754bbbc09b4]\n",
       "link E5 to E6--><a href=\"psysml:f1d57d75-7b92-4f65-894e-3c0dce6664b2\" target=\"_top\" title=\"psysml:f1d57d75-7b92-4f65-894e-3c0dce6664b2\" xlink:actuate=\"onRequest\" xlink:href=\"psysml:f1d57d75-7b92-4f65-894e-3c0dce6664b2\" xlink:show=\"new\" xlink:title=\"psysml:f1d57d75-7b92-4f65-894e-3c0dce6664b2\" xlink:type=\"simple\"><path d=\"M347.77,334.12 C346.81,354.89 345.48,383.8 344.46,405.77 \" fill=\"none\" id=\"E5-&gt;E6\" style=\"stroke: #383838; stroke-width: 1.0;\"/><polygon fill=\"#383838\" points=\"344.23,410.91,348.6368,402.1021,344.4583,405.9152,340.6452,401.7367,344.23,410.91\" style=\"stroke: #383838; stroke-width: 1.0;\"/><text fill=\"#000000\" font-family=\"sans-serif\" font-size=\"13\" lengthAdjust=\"spacingAndGlyphs\" textLength=\"7\" x=\"336.7051\" y=\"399.9247\">*</text></a><!--MD5=[02c70b7c851c11e3980e4e90450dc5dd]\n",
       "link E6 to E7--><a href=\"psysml:5bbe4286-aec7-454e-8b07-ff0b44373e66\" target=\"_top\" title=\"psysml:5bbe4286-aec7-454e-8b07-ff0b44373e66\" xlink:actuate=\"onRequest\" xlink:href=\"psysml:5bbe4286-aec7-454e-8b07-ff0b44373e66\" xlink:show=\"new\" xlink:title=\"psysml:5bbe4286-aec7-454e-8b07-ff0b44373e66\" xlink:type=\"simple\"><path d=\"M363.3,466.16 C378.71,486.4 399.07,513.14 410.09,527.61 \" fill=\"none\" id=\"E6-&gt;E7\" style=\"stroke: #383838; stroke-width: 1.0;\"/><polygon fill=\"#383838\" points=\"413.2,531.69,410.9398,522.104,410.1749,527.7089,404.57,526.9441,413.2,531.69\" style=\"stroke: #383838; stroke-width: 1.0;\"/><text fill=\"#000000\" font-family=\"sans-serif\" font-size=\"13\" lengthAdjust=\"spacingAndGlyphs\" textLength=\"7\" x=\"398.9375\" y=\"515.8563\">*</text></a><!--MD5=[6bdd27f9905911a7e892a3dc65cf6b7c]\n",
       "link E7 to E4--><a href=\"psysml:df5824e0-bb07-4266-b9ed-97217b9e7a59\" target=\"_top\" title=\"psysml:df5824e0-bb07-4266-b9ed-97217b9e7a59\" xlink:actuate=\"onRequest\" xlink:href=\"psysml:df5824e0-bb07-4266-b9ed-97217b9e7a59\" xlink:show=\"new\" xlink:title=\"psysml:df5824e0-bb07-4266-b9ed-97217b9e7a59\" xlink:type=\"simple\"><path d=\"M419,527.68 C420.94,507.78 425,466 425,466 C425,466 437,334 437,334 C437,334 437,279 437,279 C437,279 428.27,242.03 423.32,221.07 \" fill=\"none\" id=\"E7-&gt;E4\" style=\"stroke: #383838; stroke-width: 1.0;\"/><polygon fill=\"#383838\" points=\"422.15,216.12,420.3382,225.8008,423.3055,220.9846,428.1217,223.9519,422.15,216.12\" style=\"stroke: #383838; stroke-width: 1.0;\"/><text fill=\"#000000\" font-family=\"sans-serif\" font-size=\"13\" lengthAdjust=\"spacingAndGlyphs\" textLength=\"36\" x=\"435\" y=\"377.0669\">[true]</text><text fill=\"#000000\" font-family=\"sans-serif\" font-size=\"13\" lengthAdjust=\"spacingAndGlyphs\" textLength=\"7\" x=\"414.3906\" y=\"238.1355\">*</text></a><!--MD5=[cb74a1b9d5de8b7361332e368adf35d4]\n",
       "@startuml\r\n",
       "skinparam linetype polyline\r\n",
       "skinparam monochrome true\r\n",
       "skinparam classbackgroundcolor white\r\n",
       "skinparam shadowing false\r\n",
       "skinparam wrapWidth 300\r\n",
       "hide circle\r\n",
       "\r\n",
       "package \"ActionTest\" as E1  [[psysml:a2683da9-1b6e-41fc-828a-cc7d1e5b2935 ]]  {\r\n",
       "comp def \"S\" as E2  <<(T,blue) attribute def>> [[psysml:9c87d4ab-cb1d-4b31-8fcd-81209805f4cd ]] {\r\n",
       "}\r\n",
       "rec usage \"a\" as E3  <<(T,blue) action>> [[psysml:88e0a3c5-b7f9-4d13-8306-ae5e61691436 ]] {\r\n",
       "choice \"m\" as E4  [[psysml:207ebb71-0108-47ac-8eb2-03003f2402f5 ]] \r\n",
       "accept \" S\" as E5 << accept action>> [[psysml:56f9bc80-23d6-47f0-bfbf-c5e902f86ac6 ]] \r\n",
       "send \" S() to  B()\" as E6 << send action>> [[psysml:baf32606-26e9-4cc3-a29f-e775486b01d7 ]] \r\n",
       "choice \"<s>noname</s>\" as E7  [[psysml:de118d49-a158-4609-b10e-b605b2688318 ]] \r\n",
       "[*] - -> E4 [[psysml:fb7d5adc-5880-4810-9813-86e53c07f96a ]] \r\n",
       "E7  - -> [*] [[psysml:c9de1ce8-1045-4471-9685-45647676290c ]] \r\n",
       "}\r\n",
       "\r\n",
       "rec def \"B\" as E8  <<(T,blue) action def>> [[psysml:79d3a6ab-38cc-49fb-ab8f-d1828ed09a3c ]] {\r\n",
       "}\r\n",
       "\r\n",
       "}\r\n",
       "E4 - -> \"*\"E5 [[psysml:674af9b4-5477-4a2d-9c32-c1d49aef2cdc ]] \r\n",
       "E5 - -> \"*\"E6 [[psysml:f1d57d75-7b92-4f65-894e-3c0dce6664b2 ]] \r\n",
       "E6 - -> \"*\"E7 [[psysml:5bbe4286-aec7-454e-8b07-ff0b44373e66 ]] \r\n",
       "E7  - -> \"*\"E4 [[psysml:df5824e0-bb07-4266-b9ed-97217b9e7a59 ]] : [true]\r\n",
       "@enduml\r\n",
       "\n",
       "PlantUML version 1.2020.13(Sat Jun 13 12:26:38 UTC 2020)\n",
       "(EPL source distribution)\n",
       "Java Runtime: OpenJDK Runtime Environment\n",
       "JVM: OpenJDK 64-Bit Server VM\n",
       "Default Encoding: UTF-8\n",
       "Language: en\n",
       "Country: null\n",
       "--></g></svg>"
      ]
     },
     "execution_count": 15,
     "metadata": {},
     "output_type": "execute_result"
    }
   ],
   "source": [
    "%viz --style=\"POLYLINE\" --view=\"MIXED\" \"ActionTest\""
   ]
  },
  {
   "cell_type": "code",
   "execution_count": 16,
   "id": "894cc98b",
   "metadata": {
    "execution": {
     "iopub.execute_input": "2021-09-27T07:16:55.304274Z",
     "iopub.status.busy": "2021-09-27T07:16:55.303868Z",
     "iopub.status.idle": "2021-09-27T07:16:55.358702Z",
     "shell.execute_reply": "2021-09-27T07:16:55.358367Z"
    }
   },
   "outputs": [
    {
     "data": {
      "image/svg+xml": [
       "<?xml version=\"1.0\" encoding=\"UTF-8\" standalone=\"no\"?><svg xmlns=\"http://www.w3.org/2000/svg\" xmlns:xlink=\"http://www.w3.org/1999/xlink\" contentScriptType=\"application/ecmascript\" contentStyleType=\"text/css\" height=\"378px\" preserveAspectRatio=\"none\" style=\"width:867px;height:378px;\" version=\"1.1\" viewBox=\"0 0 867 378\" width=\"867px\" zoomAndPan=\"magnify\"><defs/><g><!--MD5=[fbc87193dbaf4d95561dea2c320d4a47]\n",
       "cluster E1--><a href=\"psysml:a2683da9-1b6e-41fc-828a-cc7d1e5b2935\" target=\"_top\" title=\"psysml:a2683da9-1b6e-41fc-828a-cc7d1e5b2935\" xlink:actuate=\"onRequest\" xlink:href=\"psysml:a2683da9-1b6e-41fc-828a-cc7d1e5b2935\" xlink:show=\"new\" xlink:title=\"psysml:a2683da9-1b6e-41fc-828a-cc7d1e5b2935\" xlink:type=\"simple\"><polygon fill=\"#FFFFFF\" points=\"16,6,96,6,103,28.2969,845,28.2969,845,366,16,366,16,6\" style=\"stroke: #000000; stroke-width: 1.5;\"/><line style=\"stroke: #000000; stroke-width: 1.5;\" x1=\"16\" x2=\"103\" y1=\"28.2969\" y2=\"28.2969\"/><text fill=\"#000000\" font-family=\"sans-serif\" font-size=\"14\" font-weight=\"bold\" lengthAdjust=\"spacingAndGlyphs\" textLength=\"74\" x=\"20\" y=\"20.9951\">ActionTest</text></a><!--MD5=[d5e69f78d87373223dbae638b30a9c99]\n",
       "cluster E3--><a href=\"psysml:88e0a3c5-b7f9-4d13-8306-ae5e61691436\" target=\"_top\" title=\"psysml:88e0a3c5-b7f9-4d13-8306-ae5e61691436\" xlink:actuate=\"onRequest\" xlink:href=\"psysml:88e0a3c5-b7f9-4d13-8306-ae5e61691436\" xlink:show=\"new\" xlink:title=\"psysml:88e0a3c5-b7f9-4d13-8306-ae5e61691436\" xlink:type=\"simple\"><rect fill=\"#FFFFFF\" height=\"160\" id=\"E3\" rx=\"10\" ry=\"10\" style=\"stroke: #383838; stroke-width: 1.5;\" width=\"767.5\" x=\"53.5\" y=\"49\"/><rect fill=\"#F8F8F8\" height=\"37.9375\" rx=\"10\" ry=\"10\" style=\"stroke: #F8F8F8; stroke-width: 1.5;\" width=\"767.5\" x=\"53.5\" y=\"49\"/><rect fill=\"#F8F8F8\" height=\"10\" style=\"stroke: #F8F8F8; stroke-width: 1.5;\" width=\"767.5\" x=\"53.5\" y=\"76.9375\"/><rect fill=\"none\" height=\"160\" id=\"E3\" rx=\"10\" ry=\"10\" style=\"stroke: #383838; stroke-width: 1.5;\" width=\"767.5\" x=\"53.5\" y=\"49\"/><text fill=\"#000000\" font-family=\"sans-serif\" font-size=\"12\" font-style=\"italic\" lengthAdjust=\"spacingAndGlyphs\" textLength=\"53\" x=\"410.75\" y=\"65.1387\">«action»</text><text fill=\"#000000\" font-family=\"sans-serif\" font-size=\"12\" lengthAdjust=\"spacingAndGlyphs\" textLength=\"8\" x=\"433.25\" y=\"79.1074\">a</text><line style=\"stroke: #383838; stroke-width: 1.0;\" x1=\"53.5\" x2=\"821\" y1=\"86.9375\" y2=\"86.9375\"/></a><!--MD5=[b4997ac47864f28c2f74865a473b2911]\n",
       "class E2--><a href=\"psysml:9c87d4ab-cb1d-4b31-8fcd-81209805f4cd\" target=\"_top\" title=\"psysml:9c87d4ab-cb1d-4b31-8fcd-81209805f4cd\" xlink:actuate=\"onRequest\" xlink:href=\"psysml:9c87d4ab-cb1d-4b31-8fcd-81209805f4cd\" xlink:show=\"new\" xlink:title=\"psysml:9c87d4ab-cb1d-4b31-8fcd-81209805f4cd\" xlink:type=\"simple\"><rect fill=\"#FFFFFF\" height=\"45.9375\" id=\"E2\" style=\"stroke: #383838; stroke-width: 1.5;\" width=\"95\" x=\"32\" y=\"225\"/><text fill=\"#000000\" font-family=\"sans-serif\" font-size=\"12\" font-style=\"italic\" lengthAdjust=\"spacingAndGlyphs\" textLength=\"93\" x=\"33\" y=\"241.1387\">«attribute def»</text><text fill=\"#000000\" font-family=\"sans-serif\" font-size=\"12\" lengthAdjust=\"spacingAndGlyphs\" textLength=\"8\" x=\"75.5\" y=\"255.1074\">S</text><line style=\"stroke: #383838; stroke-width: 1.5;\" x1=\"33\" x2=\"126\" y1=\"262.9375\" y2=\"262.9375\"/></a><polygon fill=\"#F8F8F8\" points=\"200,114,212,126,200,138,188,126,200,114\" style=\"stroke: #383838; stroke-width: 1.5;\"/><!--MD5=[21dd76c19d33815960c0e92fef8f0eef]\n",
       "entity E5--><a href=\"psysml:56f9bc80-23d6-47f0-bfbf-c5e902f86ac6\" target=\"_top\" title=\"psysml:56f9bc80-23d6-47f0-bfbf-c5e902f86ac6\" xlink:actuate=\"onRequest\" xlink:href=\"psysml:56f9bc80-23d6-47f0-bfbf-c5e902f86ac6\" xlink:show=\"new\" xlink:title=\"psysml:56f9bc80-23d6-47f0-bfbf-c5e902f86ac6\" xlink:type=\"simple\"><polygon fill=\"#F8F8F8\" points=\"273,137.5,273,192.0938,413,192.0938,393,164.7969,413,137.5\" style=\"stroke: #000000; stroke-width: 1.5;\"/><text fill=\"#000000\" font-family=\"sans-serif\" font-size=\"14\" font-style=\"italic\" lengthAdjust=\"spacingAndGlyphs\" textLength=\"111\" x=\"280\" y=\"160.4951\">«accept action»</text><text fill=\"#000000\" font-family=\"sans-serif\" font-size=\"14\" lengthAdjust=\"spacingAndGlyphs\" textLength=\"9\" x=\"331\" y=\"177.792\">S</text></a><!--MD5=[24d87cdf3002d433f401b2a2aa9f9f65]\n",
       "entity E6--><a href=\"psysml:baf32606-26e9-4cc3-a29f-e775486b01d7\" target=\"_top\" title=\"psysml:baf32606-26e9-4cc3-a29f-e775486b01d7\" xlink:actuate=\"onRequest\" xlink:href=\"psysml:baf32606-26e9-4cc3-a29f-e775486b01d7\" xlink:show=\"new\" xlink:title=\"psysml:baf32606-26e9-4cc3-a29f-e775486b01d7\" xlink:type=\"simple\"><polygon fill=\"#F8F8F8\" points=\"511,137.5,511,192.0938,619,192.0938,639,164.7969,619,137.5\" style=\"stroke: #000000; stroke-width: 1.5;\"/><text fill=\"#000000\" font-family=\"sans-serif\" font-size=\"14\" font-style=\"italic\" lengthAdjust=\"spacingAndGlyphs\" textLength=\"99\" x=\"518\" y=\"160.4951\">«send action»</text><text fill=\"#000000\" font-family=\"sans-serif\" font-size=\"14\" lengthAdjust=\"spacingAndGlyphs\" textLength=\"65\" x=\"535\" y=\"177.792\">S() to  B()</text></a><polygon fill=\"#F8F8F8\" points=\"712,114,724,126,712,138,700,126,712,114\" style=\"stroke: #383838; stroke-width: 1.5;\"/><ellipse cx=\"79.5\" cy=\"126\" fill=\"#000000\" rx=\"10\" ry=\"10\" style=\"stroke: none; stroke-width: 1.0;\"/><ellipse cx=\"795\" cy=\"126\" fill=\"none\" rx=\"10\" ry=\"10\" style=\"stroke: #000000; stroke-width: 1.0;\"/><ellipse cx=\"795.5\" cy=\"126.5\" fill=\"#000000\" rx=\"6\" ry=\"6\" style=\"stroke: none; stroke-width: 1.0;\"/><g id=\"E1.E8\"><a href=\"psysml:79d3a6ab-38cc-49fb-ab8f-d1828ed09a3c\" target=\"_top\" title=\"psysml:79d3a6ab-38cc-49fb-ab8f-d1828ed09a3c\" xlink:actuate=\"onRequest\" xlink:href=\"psysml:79d3a6ab-38cc-49fb-ab8f-d1828ed09a3c\" xlink:show=\"new\" xlink:title=\"psysml:79d3a6ab-38cc-49fb-ab8f-d1828ed09a3c\" xlink:type=\"simple\"><rect fill=\"#FFFFFF\" height=\"42.9375\" id=\"E8\" style=\"stroke: #383838; stroke-width: 1.5;\" width=\"84\" x=\"37.5\" y=\"306.5\"/><rect fill=\"#F8F8F8\" height=\"37.9375\" style=\"stroke: #383838; stroke-width: 1.5;\" width=\"84\" x=\"37.5\" y=\"306.5\"/><text fill=\"#000000\" font-family=\"sans-serif\" font-size=\"12\" font-style=\"italic\" lengthAdjust=\"spacingAndGlyphs\" textLength=\"77\" x=\"41\" y=\"322.6387\">«action def»</text><text fill=\"#000000\" font-family=\"sans-serif\" font-size=\"12\" lengthAdjust=\"spacingAndGlyphs\" textLength=\"8\" x=\"75.5\" y=\"336.6074\">B</text></a></g><!--MD5=[f47e10efcf9a6752d55dae986d790ed9]\n",
       "link *start*E3 to E4--><a href=\"psysml:fb7d5adc-5880-4810-9813-86e53c07f96a\" target=\"_top\" title=\"psysml:fb7d5adc-5880-4810-9813-86e53c07f96a\" xlink:actuate=\"onRequest\" xlink:href=\"psysml:fb7d5adc-5880-4810-9813-86e53c07f96a\" xlink:show=\"new\" xlink:title=\"psysml:fb7d5adc-5880-4810-9813-86e53c07f96a\" xlink:type=\"simple\"><path d=\"M89.8,126 C109.87,126 157.46,126 182.68,126 \" fill=\"none\" id=\"*start*E3-&gt;E4\" style=\"stroke: #383838; stroke-width: 1.0;\"/><polygon fill=\"#383838\" points=\"187.7,126,178.7,122,182.7,126,178.7,130,187.7,126\" style=\"stroke: #383838; stroke-width: 1.0;\"/></a><!--MD5=[d19f2eb34364d71b67042106d92f540b]\n",
       "link E7 to *end*E3--><a href=\"psysml:c9de1ce8-1045-4471-9685-45647676290c\" target=\"_top\" title=\"psysml:c9de1ce8-1045-4471-9685-45647676290c\" xlink:actuate=\"onRequest\" xlink:href=\"psysml:c9de1ce8-1045-4471-9685-45647676290c\" xlink:show=\"new\" xlink:title=\"psysml:c9de1ce8-1045-4471-9685-45647676290c\" xlink:type=\"simple\"><path d=\"M724.26,126 C738.66,126 763.63,126 779.46,126 \" fill=\"none\" id=\"E7-&gt;*end*E3\" style=\"stroke: #383838; stroke-width: 1.0;\"/><polygon fill=\"#383838\" points=\"784.84,126,775.84,122,779.84,126,775.84,130,784.84,126\" style=\"stroke: #383838; stroke-width: 1.0;\"/></a><!--MD5=[1b7591eae5389033d8d09a9d6721a717]\n",
       "link E4 to E5--><a href=\"psysml:674af9b4-5477-4a2d-9c32-c1d49aef2cdc\" target=\"_top\" title=\"psysml:674af9b4-5477-4a2d-9c32-c1d49aef2cdc\" xlink:actuate=\"onRequest\" xlink:href=\"psysml:674af9b4-5477-4a2d-9c32-c1d49aef2cdc\" xlink:show=\"new\" xlink:title=\"psysml:674af9b4-5477-4a2d-9c32-c1d49aef2cdc\" xlink:type=\"simple\"><path d=\"M209.82,128.44 C221.87,131.77 244.64,138.07 267.93,144.51 \" fill=\"none\" id=\"E4-&gt;E5\" style=\"stroke: #383838; stroke-width: 1.0;\"/><polygon fill=\"#383838\" points=\"272.9,145.89,265.2884,139.6399,268.0802,144.5599,263.1602,147.3517,272.9,145.89\" style=\"stroke: #383838; stroke-width: 1.0;\"/><text fill=\"#000000\" font-family=\"sans-serif\" font-size=\"13\" lengthAdjust=\"spacingAndGlyphs\" textLength=\"7\" x=\"257.85\" y=\"156.7165\">*</text></a><!--MD5=[9120cf2e5df3bff93db8f754bbbc09b4]\n",
       "link E5 to E6--><a href=\"psysml:f1d57d75-7b92-4f65-894e-3c0dce6664b2\" target=\"_top\" title=\"psysml:f1d57d75-7b92-4f65-894e-3c0dce6664b2\" xlink:actuate=\"onRequest\" xlink:href=\"psysml:f1d57d75-7b92-4f65-894e-3c0dce6664b2\" xlink:show=\"new\" xlink:title=\"psysml:f1d57d75-7b92-4f65-894e-3c0dce6664b2\" xlink:type=\"simple\"><path d=\"M413.01,165 C442.4,165 476.6,165 505.89,165 \" fill=\"none\" id=\"E5-&gt;E6\" style=\"stroke: #383838; stroke-width: 1.0;\"/><polygon fill=\"#383838\" points=\"510.93,165,501.93,161,505.93,165,501.93,169,510.93,165\" style=\"stroke: #383838; stroke-width: 1.0;\"/><text fill=\"#000000\" font-family=\"sans-serif\" font-size=\"13\" lengthAdjust=\"spacingAndGlyphs\" textLength=\"7\" x=\"496.1172\" y=\"177.9652\">*</text></a><!--MD5=[02c70b7c851c11e3980e4e90450dc5dd]\n",
       "link E6 to E7--><a href=\"psysml:5bbe4286-aec7-454e-8b07-ff0b44373e66\" target=\"_top\" title=\"psysml:5bbe4286-aec7-454e-8b07-ff0b44373e66\" xlink:actuate=\"onRequest\" xlink:href=\"psysml:5bbe4286-aec7-454e-8b07-ff0b44373e66\" xlink:show=\"new\" xlink:title=\"psysml:5bbe4286-aec7-454e-8b07-ff0b44373e66\" xlink:type=\"simple\"><path d=\"M639.15,146.76 C660.96,140.46 683.38,133.98 697.25,129.97 \" fill=\"none\" id=\"E6-&gt;E7\" style=\"stroke: #383838; stroke-width: 1.0;\"/><polygon fill=\"#383838\" points=\"702.29,128.51,692.5337,127.1632,697.4862,129.8968,694.7526,134.8493,702.29,128.51\" style=\"stroke: #383838; stroke-width: 1.0;\"/><text fill=\"#000000\" font-family=\"sans-serif\" font-size=\"13\" lengthAdjust=\"spacingAndGlyphs\" textLength=\"7\" x=\"684.8871\" y=\"148.5121\">*</text></a><!--MD5=[6bdd27f9905911a7e892a3dc65cf6b7c]\n",
       "link E7 to E4--><a href=\"psysml:df5824e0-bb07-4266-b9ed-97217b9e7a59\" target=\"_top\" title=\"psysml:df5824e0-bb07-4266-b9ed-97217b9e7a59\" xlink:actuate=\"onRequest\" xlink:href=\"psysml:df5824e0-bb07-4266-b9ed-97217b9e7a59\" xlink:show=\"new\" xlink:title=\"psysml:df5824e0-bb07-4266-b9ed-97217b9e7a59\" xlink:type=\"simple\"><path d=\"M700.76,124.88 C686.82,123.41 661.06,120.92 639,120 C476.47,113.24 435.53,113.24 273,120 C253.36,120.82 230.77,122.88 216.22,124.36 \" fill=\"none\" id=\"E7-&gt;E4\" style=\"stroke: #383838; stroke-width: 1.0;\"/><polygon fill=\"#383838\" points=\"211.24,124.88,220.6038,127.9327,216.2135,124.3655,219.7806,119.9751,211.24,124.88\" style=\"stroke: #383838; stroke-width: 1.0;\"/><text fill=\"#000000\" font-family=\"sans-serif\" font-size=\"13\" lengthAdjust=\"spacingAndGlyphs\" textLength=\"36\" x=\"444\" y=\"111.0669\">[true]</text><text fill=\"#000000\" font-family=\"sans-serif\" font-size=\"13\" lengthAdjust=\"spacingAndGlyphs\" textLength=\"7\" x=\"219.8998\" y=\"140.7342\">*</text></a><!--MD5=[cfef727edce2fbba706f23e6b9b08ad5]\n",
       "@startuml\r\n",
       "left to right direction\r\n",
       "skinparam monochrome true\r\n",
       "skinparam classbackgroundcolor white\r\n",
       "skinparam shadowing false\r\n",
       "skinparam wrapWidth 300\r\n",
       "hide circle\r\n",
       "\r\n",
       "package \"ActionTest\" as E1  [[psysml:a2683da9-1b6e-41fc-828a-cc7d1e5b2935 ]]  {\r\n",
       "comp def \"S\" as E2  <<(T,blue) attribute def>> [[psysml:9c87d4ab-cb1d-4b31-8fcd-81209805f4cd ]] {\r\n",
       "}\r\n",
       "rec usage \"a\" as E3  <<(T,blue) action>> [[psysml:88e0a3c5-b7f9-4d13-8306-ae5e61691436 ]] {\r\n",
       "choice \"m\" as E4  [[psysml:207ebb71-0108-47ac-8eb2-03003f2402f5 ]] \r\n",
       "accept \" S\" as E5 << accept action>> [[psysml:56f9bc80-23d6-47f0-bfbf-c5e902f86ac6 ]] \r\n",
       "send \" S() to  B()\" as E6 << send action>> [[psysml:baf32606-26e9-4cc3-a29f-e775486b01d7 ]] \r\n",
       "choice \"<s>noname</s>\" as E7  [[psysml:de118d49-a158-4609-b10e-b605b2688318 ]] \r\n",
       "[*] - -> E4 [[psysml:fb7d5adc-5880-4810-9813-86e53c07f96a ]] \r\n",
       "E7  - -> [*] [[psysml:c9de1ce8-1045-4471-9685-45647676290c ]] \r\n",
       "}\r\n",
       "\r\n",
       "rec def \"B\" as E8  <<(T,blue) action def>> [[psysml:79d3a6ab-38cc-49fb-ab8f-d1828ed09a3c ]] {\r\n",
       "}\r\n",
       "\r\n",
       "}\r\n",
       "E4 - -> \"*\"E5 [[psysml:674af9b4-5477-4a2d-9c32-c1d49aef2cdc ]] \r\n",
       "E5 - -> \"*\"E6 [[psysml:f1d57d75-7b92-4f65-894e-3c0dce6664b2 ]] \r\n",
       "E6 - -> \"*\"E7 [[psysml:5bbe4286-aec7-454e-8b07-ff0b44373e66 ]] \r\n",
       "E7  - -> \"*\"E4 [[psysml:df5824e0-bb07-4266-b9ed-97217b9e7a59 ]] : [true]\r\n",
       "@enduml\r\n",
       "\n",
       "PlantUML version 1.2020.13(Sat Jun 13 12:26:38 UTC 2020)\n",
       "(EPL source distribution)\n",
       "Java Runtime: OpenJDK Runtime Environment\n",
       "JVM: OpenJDK 64-Bit Server VM\n",
       "Default Encoding: UTF-8\n",
       "Language: en\n",
       "Country: null\n",
       "--></g></svg>"
      ]
     },
     "execution_count": 16,
     "metadata": {},
     "output_type": "execute_result"
    }
   ],
   "source": [
    "%viz --style=\"LR\" --view=\"Default\" \"ActionTest\""
   ]
  },
  {
   "cell_type": "code",
   "execution_count": 17,
   "id": "874a84e5",
   "metadata": {
    "execution": {
     "iopub.execute_input": "2021-09-27T07:16:55.408658Z",
     "iopub.status.busy": "2021-09-27T07:16:55.408258Z",
     "iopub.status.idle": "2021-09-27T07:16:55.451788Z",
     "shell.execute_reply": "2021-09-27T07:16:55.451415Z"
    }
   },
   "outputs": [
    {
     "data": {
      "image/svg+xml": [
       "<?xml version=\"1.0\" encoding=\"UTF-8\" standalone=\"no\"?><svg xmlns=\"http://www.w3.org/2000/svg\" xmlns:xlink=\"http://www.w3.org/1999/xlink\" contentScriptType=\"application/ecmascript\" contentStyleType=\"text/css\" height=\"439px\" preserveAspectRatio=\"none\" style=\"width:466px;height:439px;\" version=\"1.1\" viewBox=\"0 0 466 439\" width=\"466px\" zoomAndPan=\"magnify\"><defs/><g><!--MD5=[fbc87193dbaf4d95561dea2c320d4a47]\n",
       "cluster E1--><a href=\"psysml:a2683da9-1b6e-41fc-828a-cc7d1e5b2935\" target=\"_top\" title=\"psysml:a2683da9-1b6e-41fc-828a-cc7d1e5b2935\" xlink:actuate=\"onRequest\" xlink:href=\"psysml:a2683da9-1b6e-41fc-828a-cc7d1e5b2935\" xlink:show=\"new\" xlink:title=\"psysml:a2683da9-1b6e-41fc-828a-cc7d1e5b2935\" xlink:type=\"simple\"><polygon fill=\"#FFFFFF\" points=\"16,6,96,6,103,28.2969,444,28.2969,444,427,16,427,16,6\" style=\"stroke: #000000; stroke-width: 1.5;\"/><line style=\"stroke: #000000; stroke-width: 1.5;\" x1=\"16\" x2=\"103\" y1=\"28.2969\" y2=\"28.2969\"/><text fill=\"#000000\" font-family=\"sans-serif\" font-size=\"14\" font-weight=\"bold\" lengthAdjust=\"spacingAndGlyphs\" textLength=\"74\" x=\"20\" y=\"20.9951\">ActionTest</text></a><!--MD5=[b4997ac47864f28c2f74865a473b2911]\n",
       "class E2--><a href=\"psysml:9c87d4ab-cb1d-4b31-8fcd-81209805f4cd\" target=\"_top\" title=\"psysml:9c87d4ab-cb1d-4b31-8fcd-81209805f4cd\" xlink:actuate=\"onRequest\" xlink:href=\"psysml:9c87d4ab-cb1d-4b31-8fcd-81209805f4cd\" xlink:show=\"new\" xlink:title=\"psysml:9c87d4ab-cb1d-4b31-8fcd-81209805f4cd\" xlink:type=\"simple\"><rect fill=\"#FFFFFF\" height=\"45.9375\" id=\"E2\" style=\"stroke: #383838; stroke-width: 1.5;\" width=\"95\" x=\"333\" y=\"203\"/><text fill=\"#000000\" font-family=\"sans-serif\" font-size=\"12\" font-style=\"italic\" lengthAdjust=\"spacingAndGlyphs\" textLength=\"93\" x=\"334\" y=\"219.1387\">«attribute def»</text><text fill=\"#000000\" font-family=\"sans-serif\" font-size=\"12\" lengthAdjust=\"spacingAndGlyphs\" textLength=\"8\" x=\"376.5\" y=\"233.1074\">S</text><line style=\"stroke: #383838; stroke-width: 1.5;\" x1=\"334\" x2=\"427\" y1=\"240.9375\" y2=\"240.9375\"/></a><!--MD5=[09b614a08d8cba4a07c9adeb5e0fee81]\n",
       "class E3--><a href=\"psysml:88e0a3c5-b7f9-4d13-8306-ae5e61691436\" target=\"_top\" title=\"psysml:88e0a3c5-b7f9-4d13-8306-ae5e61691436\" xlink:actuate=\"onRequest\" xlink:href=\"psysml:88e0a3c5-b7f9-4d13-8306-ae5e61691436\" xlink:show=\"new\" xlink:title=\"psysml:88e0a3c5-b7f9-4d13-8306-ae5e61691436\" xlink:type=\"simple\"><rect fill=\"#FFFFFF\" height=\"45.9375\" id=\"E3\" rx=\"10\" ry=\"10\" style=\"stroke: #383838; stroke-width: 1.5;\" width=\"55\" x=\"44\" y=\"203\"/><text fill=\"#000000\" font-family=\"sans-serif\" font-size=\"12\" font-style=\"italic\" lengthAdjust=\"spacingAndGlyphs\" textLength=\"53\" x=\"45\" y=\"219.1387\">«action»</text><text fill=\"#000000\" font-family=\"sans-serif\" font-size=\"12\" lengthAdjust=\"spacingAndGlyphs\" textLength=\"8\" x=\"67.5\" y=\"233.1074\">a</text><line style=\"stroke: #383838; stroke-width: 1.5;\" x1=\"45\" x2=\"98\" y1=\"240.9375\" y2=\"240.9375\"/></a><!--MD5=[ebbe1d658d1005bcc118a6aa81145e00]\n",
       "class E4--><a href=\"psysml:ed24d8b9-3ec6-4590-a85f-1d8fbc6b009f\" target=\"_top\" title=\"psysml:ed24d8b9-3ec6-4590-a85f-1d8fbc6b009f\" xlink:actuate=\"onRequest\" xlink:href=\"psysml:ed24d8b9-3ec6-4590-a85f-1d8fbc6b009f\" xlink:show=\"new\" xlink:title=\"psysml:ed24d8b9-3ec6-4590-a85f-1d8fbc6b009f\" xlink:type=\"simple\"><rect fill=\"#FFFFFF\" height=\"45.9375\" id=\"E4\" rx=\"10\" ry=\"10\" style=\"stroke: #383838; stroke-width: 1.5;\" width=\"83\" x=\"180.5\" y=\"365\"/><text fill=\"#000000\" font-family=\"sans-serif\" font-size=\"12\" font-style=\"italic\" lengthAdjust=\"spacingAndGlyphs\" textLength=\"53\" x=\"195.5\" y=\"381.1387\">«action»</text><text fill=\"#000000\" font-family=\"sans-serif\" font-size=\"12\" lengthAdjust=\"spacingAndGlyphs\" textLength=\"77\" x=\"183.5\" y=\"395.1074\">start: Action</text><line style=\"stroke: #383838; stroke-width: 1.5;\" x1=\"181.5\" x2=\"262.5\" y1=\"402.9375\" y2=\"402.9375\"/></a><!--MD5=[270fce915f116d4de14055a7c1d9a0f3]\n",
       "class E5--><a href=\"psysml:207ebb71-0108-47ac-8eb2-03003f2402f5\" target=\"_top\" title=\"psysml:207ebb71-0108-47ac-8eb2-03003f2402f5\" xlink:actuate=\"onRequest\" xlink:href=\"psysml:207ebb71-0108-47ac-8eb2-03003f2402f5\" xlink:show=\"new\" xlink:title=\"psysml:207ebb71-0108-47ac-8eb2-03003f2402f5\" xlink:type=\"simple\"><rect fill=\"#FFFFFF\" height=\"45.9375\" id=\"E5\" rx=\"10\" ry=\"10\" style=\"stroke: #383838; stroke-width: 1.5;\" width=\"89\" x=\"177.5\" y=\"284\"/><text fill=\"#000000\" font-family=\"sans-serif\" font-size=\"12\" font-style=\"italic\" lengthAdjust=\"spacingAndGlyphs\" textLength=\"87\" x=\"178.5\" y=\"300.1387\">«mergeNode»</text><text fill=\"#000000\" font-family=\"sans-serif\" font-size=\"12\" lengthAdjust=\"spacingAndGlyphs\" textLength=\"11\" x=\"216.5\" y=\"314.1074\">m</text><line style=\"stroke: #383838; stroke-width: 1.5;\" x1=\"178.5\" x2=\"265.5\" y1=\"321.9375\" y2=\"321.9375\"/></a><!--MD5=[60a26617385b1d2d0262a64233df1f8d]\n",
       "class E6--><a href=\"psysml:56f9bc80-23d6-47f0-bfbf-c5e902f86ac6\" target=\"_top\" title=\"psysml:56f9bc80-23d6-47f0-bfbf-c5e902f86ac6\" xlink:actuate=\"onRequest\" xlink:href=\"psysml:56f9bc80-23d6-47f0-bfbf-c5e902f86ac6\" xlink:show=\"new\" xlink:title=\"psysml:56f9bc80-23d6-47f0-bfbf-c5e902f86ac6\" xlink:type=\"simple\"><rect fill=\"#FFFFFF\" height=\"45.9375\" id=\"E6\" rx=\"10\" ry=\"10\" style=\"stroke: #383838; stroke-width: 1.5;\" width=\"102\" x=\"171\" y=\"203\"/><text fill=\"#000000\" font-family=\"sans-serif\" font-size=\"12\" font-style=\"italic\" lengthAdjust=\"spacingAndGlyphs\" textLength=\"100\" x=\"172\" y=\"219.1387\">«accept action»</text><text fill=\"#000000\" font-family=\"sans-serif\" font-size=\"12\" lengthAdjust=\"spacingAndGlyphs\" text-decoration=\"line-through\" textLength=\"51\" x=\"196.5\" y=\"233.1074\">noname</text><line style=\"stroke: #383838; stroke-width: 1.5;\" x1=\"172\" x2=\"272\" y1=\"240.9375\" y2=\"240.9375\"/></a><!--MD5=[2156ba9850f5573cc1fc38a6a4b2f02b]\n",
       "class E7--><a href=\"psysml:baf32606-26e9-4cc3-a29f-e775486b01d7\" target=\"_top\" title=\"psysml:baf32606-26e9-4cc3-a29f-e775486b01d7\" xlink:actuate=\"onRequest\" xlink:href=\"psysml:baf32606-26e9-4cc3-a29f-e775486b01d7\" xlink:show=\"new\" xlink:title=\"psysml:baf32606-26e9-4cc3-a29f-e775486b01d7\" xlink:type=\"simple\"><rect fill=\"#FFFFFF\" height=\"45.9375\" id=\"E7\" rx=\"10\" ry=\"10\" style=\"stroke: #383838; stroke-width: 1.5;\" width=\"90\" x=\"177\" y=\"122\"/><text fill=\"#000000\" font-family=\"sans-serif\" font-size=\"12\" font-style=\"italic\" lengthAdjust=\"spacingAndGlyphs\" textLength=\"88\" x=\"178\" y=\"138.1387\">«send action»</text><text fill=\"#000000\" font-family=\"sans-serif\" font-size=\"12\" lengthAdjust=\"spacingAndGlyphs\" text-decoration=\"line-through\" textLength=\"51\" x=\"196.5\" y=\"152.1074\">noname</text><line style=\"stroke: #383838; stroke-width: 1.5;\" x1=\"178\" x2=\"266\" y1=\"159.9375\" y2=\"159.9375\"/></a><!--MD5=[b9389687b975829384b498ac4b7476b2]\n",
       "class E8--><a href=\"psysml:de118d49-a158-4609-b10e-b605b2688318\" target=\"_top\" title=\"psysml:de118d49-a158-4609-b10e-b605b2688318\" xlink:actuate=\"onRequest\" xlink:href=\"psysml:de118d49-a158-4609-b10e-b605b2688318\" xlink:show=\"new\" xlink:title=\"psysml:de118d49-a158-4609-b10e-b605b2688318\" xlink:type=\"simple\"><rect fill=\"#FFFFFF\" height=\"45.9375\" id=\"E8\" rx=\"10\" ry=\"10\" style=\"stroke: #383838; stroke-width: 1.5;\" width=\"101\" x=\"171.5\" y=\"41\"/><text fill=\"#000000\" font-family=\"sans-serif\" font-size=\"12\" font-style=\"italic\" lengthAdjust=\"spacingAndGlyphs\" textLength=\"99\" x=\"172.5\" y=\"57.1387\">«decisionNode»</text><text fill=\"#000000\" font-family=\"sans-serif\" font-size=\"12\" lengthAdjust=\"spacingAndGlyphs\" text-decoration=\"line-through\" textLength=\"51\" x=\"196.5\" y=\"71.1074\">noname</text><line style=\"stroke: #383838; stroke-width: 1.5;\" x1=\"172.5\" x2=\"271.5\" y1=\"78.9375\" y2=\"78.9375\"/></a><!--MD5=[fd4143e9d270a159db93a4ea2a975926]\n",
       "class E9--><a href=\"psysml:79d3a6ab-38cc-49fb-ab8f-d1828ed09a3c\" target=\"_top\" title=\"psysml:79d3a6ab-38cc-49fb-ab8f-d1828ed09a3c\" xlink:actuate=\"onRequest\" xlink:href=\"psysml:79d3a6ab-38cc-49fb-ab8f-d1828ed09a3c\" xlink:show=\"new\" xlink:title=\"psysml:79d3a6ab-38cc-49fb-ab8f-d1828ed09a3c\" xlink:type=\"simple\"><rect fill=\"#FFFFFF\" height=\"45.9375\" id=\"E9\" style=\"stroke: #383838; stroke-width: 1.5;\" width=\"79\" x=\"32\" y=\"324\"/><text fill=\"#000000\" font-family=\"sans-serif\" font-size=\"12\" font-style=\"italic\" lengthAdjust=\"spacingAndGlyphs\" textLength=\"77\" x=\"33\" y=\"340.1387\">«action def»</text><text fill=\"#000000\" font-family=\"sans-serif\" font-size=\"12\" lengthAdjust=\"spacingAndGlyphs\" textLength=\"8\" x=\"67.5\" y=\"354.1074\">B</text><line style=\"stroke: #383838; stroke-width: 1.5;\" x1=\"33\" x2=\"110\" y1=\"361.9375\" y2=\"361.9375\"/></a><!--MD5=[4672eba38e49728da53d11aeb285b987]\n",
       "reverse link E3 to E4--><a href=\"psysml:2bdfcbda-067f-4f9a-98d2-dcf2fb74ea33\" target=\"_top\" title=\"psysml:2bdfcbda-067f-4f9a-98d2-dcf2fb74ea33\" xlink:actuate=\"onRequest\" xlink:href=\"psysml:2bdfcbda-067f-4f9a-98d2-dcf2fb74ea33\" xlink:show=\"new\" xlink:title=\"psysml:2bdfcbda-067f-4f9a-98d2-dcf2fb74ea33\" xlink:type=\"simple\"><path d=\"M98,261.61 C116.87,286.9 143.89,321.01 171,348 C176.83,353.8 183.47,359.59 189.96,364.89 \" fill=\"none\" id=\"E3&lt;-E4\" style=\"stroke: #383838; stroke-width: 1.0; stroke-dasharray: 7.0,7.0;\"/><ellipse cx=\"93.6674\" cy=\"255.7091\" fill=\"#FFFFFF\" rx=\"8\" ry=\"8\" style=\"stroke: #383838; stroke-width: 1.0;\"/><line style=\"stroke: #383838; stroke-width: 1.0;\" x1=\"98.4148\" x2=\"88.92\" y1=\"262.1482\" y2=\"249.27\"/><line style=\"stroke: #383838; stroke-width: 1.0;\" x1=\"87.2283\" x2=\"100.1065\" y1=\"260.4565\" y2=\"250.9617\"/></a><!--MD5=[191cde3d490a3f6d7bb551fe3ddca469]\n",
       "reverse link E3 to E5--><a href=\"psysml:5bed3b2f-97a8-4cc2-a775-cf545f437587\" target=\"_top\" title=\"psysml:5bed3b2f-97a8-4cc2-a775-cf545f437587\" xlink:actuate=\"onRequest\" xlink:href=\"psysml:5bed3b2f-97a8-4cc2-a775-cf545f437587\" xlink:show=\"new\" xlink:title=\"psysml:5bed3b2f-97a8-4cc2-a775-cf545f437587\" xlink:type=\"simple\"><path d=\"M110.65,246.81 C131.45,258.16 157.25,272.23 178.67,283.91 \" fill=\"none\" id=\"E3&lt;-E5\" style=\"stroke: #383838; stroke-width: 1.0;\"/><polygon fill=\"#383838\" points=\"99.05,240.48,102.4008,246.8653,109.5837,246.2281,106.2329,239.8428,99.05,240.48\" style=\"stroke: #383838; stroke-width: 1.0;\"/><text fill=\"#000000\" font-family=\"sans-serif\" font-size=\"13\" lengthAdjust=\"spacingAndGlyphs\" textLength=\"7\" x=\"162.4503\" y=\"274.9737\">*</text></a><!--MD5=[1026b4b93417a13aa8999a858998add2]\n",
       "reverse link E3 to E6--><a href=\"psysml:856d4c40-3d8a-43fc-9608-49cee162593b\" target=\"_top\" title=\"psysml:856d4c40-3d8a-43fc-9608-49cee162593b\" xlink:actuate=\"onRequest\" xlink:href=\"psysml:856d4c40-3d8a-43fc-9608-49cee162593b\" xlink:show=\"new\" xlink:title=\"psysml:856d4c40-3d8a-43fc-9608-49cee162593b\" xlink:type=\"simple\"><path d=\"M112.09,226 C130.16,226 151.78,226 170.97,226 \" fill=\"none\" id=\"E3&lt;-E6\" style=\"stroke: #383838; stroke-width: 1.0;\"/><polygon fill=\"#383838\" points=\"99.05,226,105.05,230,111.05,226,105.05,222,99.05,226\" style=\"stroke: #383838; stroke-width: 1.0;\"/><text fill=\"#000000\" font-family=\"sans-serif\" font-size=\"13\" lengthAdjust=\"spacingAndGlyphs\" textLength=\"7\" x=\"155.9609\" y=\"239.1828\">*</text></a><!--MD5=[3403bfa781cc3da0fd423dbab6f01c63]\n",
       "reverse link E6 to E2--><a href=\"psysml:1accd303-612e-4d59-ad9b-f522e5e57a44\" target=\"_top\" title=\"psysml:1accd303-612e-4d59-ad9b-f522e5e57a44\" xlink:actuate=\"onRequest\" xlink:href=\"psysml:1accd303-612e-4d59-ad9b-f522e5e57a44\" xlink:show=\"new\" xlink:title=\"psysml:1accd303-612e-4d59-ad9b-f522e5e57a44\" xlink:type=\"simple\"><path d=\"M286.71,226 C302.17,226 318.43,226 332.93,226 \" fill=\"none\" id=\"E6&lt;-E2\" style=\"stroke: #383838; stroke-width: 1.0;\"/><polygon fill=\"#FFFFFF\" points=\"273.38,226,279.38,230,285.38,226,279.38,222,273.38,226\" style=\"stroke: #383838; stroke-width: 1.0;\"/></a><!--MD5=[85760999379eecfd2565a9fecdca67e4]\n",
       "reverse link E3 to E7--><a href=\"psysml:a7054211-8666-4154-9247-2ebed4d34e27\" target=\"_top\" title=\"psysml:a7054211-8666-4154-9247-2ebed4d34e27\" xlink:actuate=\"onRequest\" xlink:href=\"psysml:a7054211-8666-4154-9247-2ebed4d34e27\" xlink:show=\"new\" xlink:title=\"psysml:a7054211-8666-4154-9247-2ebed4d34e27\" xlink:type=\"simple\"><path d=\"M110.65,205.19 C131.45,193.84 157.25,179.77 178.67,168.09 \" fill=\"none\" id=\"E3&lt;-E7\" style=\"stroke: #383838; stroke-width: 1.0;\"/><polygon fill=\"#383838\" points=\"99.05,211.52,106.2329,212.1572,109.5837,205.7719,102.4008,205.1347,99.05,211.52\" style=\"stroke: #383838; stroke-width: 1.0;\"/><text fill=\"#000000\" font-family=\"sans-serif\" font-size=\"13\" lengthAdjust=\"spacingAndGlyphs\" textLength=\"7\" x=\"162.0113\" y=\"186.4862\">*</text></a><!--MD5=[4cb75b73ec3682b8f7f8edc9cc86126a]\n",
       "reverse link E3 to E8--><a href=\"psysml:6d3dd5fa-79f8-485d-9bbb-f558da8741e9\" target=\"_top\" title=\"psysml:6d3dd5fa-79f8-485d-9bbb-f558da8741e9\" xlink:actuate=\"onRequest\" xlink:href=\"psysml:6d3dd5fa-79f8-485d-9bbb-f558da8741e9\" xlink:show=\"new\" xlink:title=\"psysml:6d3dd5fa-79f8-485d-9bbb-f558da8741e9\" xlink:type=\"simple\"><path d=\"M96.72,192.12 C115.63,166.67 143.27,131.6 171,104 C176.83,98.2 183.47,92.41 189.96,87.11 \" fill=\"none\" id=\"E3&lt;-E8\" style=\"stroke: #383838; stroke-width: 1.0;\"/><polygon fill=\"#383838\" points=\"88.92,202.73,95.6954,200.2614,96.0226,193.0578,89.2472,195.5263,88.92,202.73\" style=\"stroke: #383838; stroke-width: 1.0;\"/></a><!--MD5=[adff18972ad2bb0706656611b71f5ac2]\n",
       "@startuml\r\n",
       "left to right direction\r\n",
       "skinparam monochrome true\r\n",
       "skinparam classbackgroundcolor white\r\n",
       "skinparam shadowing false\r\n",
       "skinparam wrapWidth 300\r\n",
       "hide circle\r\n",
       "\r\n",
       "package \"ActionTest\" as E1  [[psysml:a2683da9-1b6e-41fc-828a-cc7d1e5b2935 ]]  {\r\n",
       "comp def \"S\" as E2  <<(T,blue) attribute def>> [[psysml:9c87d4ab-cb1d-4b31-8fcd-81209805f4cd ]] {\r\n",
       "}\r\n",
       "comp usage \"a\" as E3  <<(T,blue) action>> [[psysml:88e0a3c5-b7f9-4d13-8306-ae5e61691436 ]] {\r\n",
       "}\r\n",
       "comp usage \"start: Action\" as E4  <<(T,blue) action>> [[psysml:ed24d8b9-3ec6-4590-a85f-1d8fbc6b009f ]] {\r\n",
       "}\r\n",
       "comp usage \"m\" as E5  <<(T,blue) mergeNode>> [[psysml:207ebb71-0108-47ac-8eb2-03003f2402f5 ]] {\r\n",
       "}\r\n",
       "comp usage \"<s>noname</s>\" as E6 << accept action>> [[psysml:56f9bc80-23d6-47f0-bfbf-c5e902f86ac6 ]] {\r\n",
       "}\r\n",
       "comp usage \"<s>noname</s>\" as E7 << send action>> [[psysml:baf32606-26e9-4cc3-a29f-e775486b01d7 ]] {\r\n",
       "}\r\n",
       "comp usage \"<s>noname</s>\" as E8  <<(T,blue) decisionNode>> [[psysml:de118d49-a158-4609-b10e-b605b2688318 ]] {\r\n",
       "}\r\n",
       "comp def \"B\" as E9  <<(T,blue) action def>> [[psysml:79d3a6ab-38cc-49fb-ab8f-d1828ed09a3c ]] {\r\n",
       "}\r\n",
       "}\r\n",
       "E3 +.. E4 [[psysml:2bdfcbda-067f-4f9a-98d2-dcf2fb74ea33 ]] \r\n",
       "E3 *- - \"*\"E5 [[psysml:5bed3b2f-97a8-4cc2-a775-cf545f437587 ]] \r\n",
       "E3 *- - \"*\"E6 [[psysml:856d4c40-3d8a-43fc-9608-49cee162593b ]] \r\n",
       "E6 o- - E2 [[psysml:1accd303-612e-4d59-ad9b-f522e5e57a44 ]] \r\n",
       "E3 *- - \"*\"E7 [[psysml:a7054211-8666-4154-9247-2ebed4d34e27 ]] \r\n",
       "E3 *- - E8 [[psysml:6d3dd5fa-79f8-485d-9bbb-f558da8741e9 ]] \r\n",
       "@enduml\r\n",
       "\n",
       "PlantUML version 1.2020.13(Sat Jun 13 12:26:38 UTC 2020)\n",
       "(EPL source distribution)\n",
       "Java Runtime: OpenJDK Runtime Environment\n",
       "JVM: OpenJDK 64-Bit Server VM\n",
       "Default Encoding: UTF-8\n",
       "Language: en\n",
       "Country: null\n",
       "--></g></svg>"
      ]
     },
     "execution_count": 17,
     "metadata": {},
     "output_type": "execute_result"
    }
   ],
   "source": [
    "%viz --style=\"LR\" --view=\"Tree\" \"ActionTest\""
   ]
  },
  {
   "cell_type": "code",
   "execution_count": 18,
   "id": "126410de",
   "metadata": {
    "execution": {
     "iopub.execute_input": "2021-09-27T07:16:55.501616Z",
     "iopub.status.busy": "2021-09-27T07:16:55.501215Z",
     "iopub.status.idle": "2021-09-27T07:16:55.506725Z",
     "shell.execute_reply": "2021-09-27T07:16:55.507041Z"
    }
   },
   "outputs": [
    {
     "data": {
      "image/svg+xml": [
       "<?xml version=\"1.0\" encoding=\"UTF-8\" standalone=\"no\"?><svg xmlns=\"http://www.w3.org/2000/svg\" xmlns:xlink=\"http://www.w3.org/1999/xlink\" contentScriptType=\"application/ecmascript\" contentStyleType=\"text/css\" height=\"12px\" preserveAspectRatio=\"none\" style=\"width:12px;height:12px;\" version=\"1.1\" viewBox=\"0 0 12 12\" width=\"12px\" zoomAndPan=\"magnify\"><defs/><g><!--MD5=[19d285c9d72a204eba4e2cd117d745e8]\n",
       "@startuml\r\n",
       "left to right direction\r\n",
       "skinparam monochrome true\r\n",
       "skinparam classbackgroundcolor white\r\n",
       "skinparam shadowing false\r\n",
       "skinparam wrapWidth 300\r\n",
       "hide circle\r\n",
       "\r\n",
       "@enduml\r\n",
       "\n",
       "PlantUML version 1.2020.13(Sat Jun 13 12:26:38 UTC 2020)\n",
       "(EPL source distribution)\n",
       "Java Runtime: OpenJDK Runtime Environment\n",
       "JVM: OpenJDK 64-Bit Server VM\n",
       "Default Encoding: UTF-8\n",
       "Language: en\n",
       "Country: null\n",
       "--></g></svg>"
      ]
     },
     "execution_count": 18,
     "metadata": {},
     "output_type": "execute_result"
    }
   ],
   "source": [
    "%viz --style=\"LR\" --view=\"State\" \"ActionTest\""
   ]
  },
  {
   "cell_type": "code",
   "execution_count": 19,
   "id": "f4974067",
   "metadata": {
    "execution": {
     "iopub.execute_input": "2021-09-27T07:16:55.556954Z",
     "iopub.status.busy": "2021-09-27T07:16:55.556555Z",
     "iopub.status.idle": "2021-09-27T07:16:55.606823Z",
     "shell.execute_reply": "2021-09-27T07:16:55.607123Z"
    }
   },
   "outputs": [
    {
     "data": {
      "image/svg+xml": [
       "<?xml version=\"1.0\" encoding=\"UTF-8\" standalone=\"no\"?><svg xmlns=\"http://www.w3.org/2000/svg\" xmlns:xlink=\"http://www.w3.org/1999/xlink\" contentScriptType=\"application/ecmascript\" contentStyleType=\"text/css\" height=\"375px\" preserveAspectRatio=\"none\" style=\"width:652px;height:375px;\" version=\"1.1\" viewBox=\"0 0 652 375\" width=\"652px\" zoomAndPan=\"magnify\"><defs/><g><!--MD5=[fbc87193dbaf4d95561dea2c320d4a47]\n",
       "cluster E1--><a href=\"psysml:a2683da9-1b6e-41fc-828a-cc7d1e5b2935\" target=\"_top\" title=\"psysml:a2683da9-1b6e-41fc-828a-cc7d1e5b2935\" xlink:actuate=\"onRequest\" xlink:href=\"psysml:a2683da9-1b6e-41fc-828a-cc7d1e5b2935\" xlink:show=\"new\" xlink:title=\"psysml:a2683da9-1b6e-41fc-828a-cc7d1e5b2935\" xlink:type=\"simple\"><polygon fill=\"#FFFFFF\" points=\"16,6,96,6,103,28.2969,630,28.2969,630,363,16,363,16,6\" style=\"stroke: #000000; stroke-width: 1.5;\"/><line style=\"stroke: #000000; stroke-width: 1.5;\" x1=\"16\" x2=\"103\" y1=\"28.2969\" y2=\"28.2969\"/><text fill=\"#000000\" font-family=\"sans-serif\" font-size=\"14\" font-weight=\"bold\" lengthAdjust=\"spacingAndGlyphs\" textLength=\"74\" x=\"20\" y=\"20.9951\">ActionTest</text></a><!--MD5=[d5e69f78d87373223dbae638b30a9c99]\n",
       "cluster E3--><a href=\"psysml:88e0a3c5-b7f9-4d13-8306-ae5e61691436\" target=\"_top\" title=\"psysml:88e0a3c5-b7f9-4d13-8306-ae5e61691436\" xlink:actuate=\"onRequest\" xlink:href=\"psysml:88e0a3c5-b7f9-4d13-8306-ae5e61691436\" xlink:show=\"new\" xlink:title=\"psysml:88e0a3c5-b7f9-4d13-8306-ae5e61691436\" xlink:type=\"simple\"><rect fill=\"#FFFFFF\" height=\"160\" id=\"E3\" rx=\"10\" ry=\"10\" style=\"stroke: #383838; stroke-width: 1.5;\" width=\"550\" x=\"56\" y=\"49\"/><rect fill=\"#F8F8F8\" height=\"37.9375\" rx=\"10\" ry=\"10\" style=\"stroke: #F8F8F8; stroke-width: 1.5;\" width=\"550\" x=\"56\" y=\"49\"/><rect fill=\"#F8F8F8\" height=\"10\" style=\"stroke: #F8F8F8; stroke-width: 1.5;\" width=\"550\" x=\"56\" y=\"76.9375\"/><rect fill=\"none\" height=\"160\" id=\"E3\" rx=\"10\" ry=\"10\" style=\"stroke: #383838; stroke-width: 1.5;\" width=\"550\" x=\"56\" y=\"49\"/><text fill=\"#000000\" font-family=\"sans-serif\" font-size=\"12\" font-style=\"italic\" lengthAdjust=\"spacingAndGlyphs\" textLength=\"53\" x=\"304.5\" y=\"65.1387\">«action»</text><text fill=\"#000000\" font-family=\"sans-serif\" font-size=\"12\" lengthAdjust=\"spacingAndGlyphs\" textLength=\"8\" x=\"327\" y=\"79.1074\">a</text><line style=\"stroke: #383838; stroke-width: 1.0;\" x1=\"56\" x2=\"606\" y1=\"86.9375\" y2=\"86.9375\"/></a><g id=\"E1.E2\"><a href=\"psysml:9c87d4ab-cb1d-4b31-8fcd-81209805f4cd\" target=\"_top\" title=\"psysml:9c87d4ab-cb1d-4b31-8fcd-81209805f4cd\" xlink:actuate=\"onRequest\" xlink:href=\"psysml:9c87d4ab-cb1d-4b31-8fcd-81209805f4cd\" xlink:show=\"new\" xlink:title=\"psysml:9c87d4ab-cb1d-4b31-8fcd-81209805f4cd\" xlink:type=\"simple\"><rect fill=\"#FFFFFF\" height=\"42.9375\" id=\"E2\" style=\"stroke: #383838; stroke-width: 1.5;\" width=\"100\" x=\"32\" y=\"225.5\"/><rect fill=\"#F8F8F8\" height=\"37.9375\" style=\"stroke: #383838; stroke-width: 1.5;\" width=\"100\" x=\"32\" y=\"225.5\"/><text fill=\"#000000\" font-family=\"sans-serif\" font-size=\"12\" font-style=\"italic\" lengthAdjust=\"spacingAndGlyphs\" textLength=\"93\" x=\"35.5\" y=\"241.6387\">«attribute def»</text><text fill=\"#000000\" font-family=\"sans-serif\" font-size=\"12\" lengthAdjust=\"spacingAndGlyphs\" textLength=\"8\" x=\"78\" y=\"255.6074\">S</text></a></g><polygon fill=\"#F8F8F8\" points=\"161,114,173,126,161,138,149,126,161,114\" style=\"stroke: #383838; stroke-width: 1.5;\"/><!--MD5=[21dd76c19d33815960c0e92fef8f0eef]\n",
       "entity E5--><a href=\"psysml:56f9bc80-23d6-47f0-bfbf-c5e902f86ac6\" target=\"_top\" title=\"psysml:56f9bc80-23d6-47f0-bfbf-c5e902f86ac6\" xlink:actuate=\"onRequest\" xlink:href=\"psysml:56f9bc80-23d6-47f0-bfbf-c5e902f86ac6\" xlink:show=\"new\" xlink:title=\"psysml:56f9bc80-23d6-47f0-bfbf-c5e902f86ac6\" xlink:type=\"simple\"><polygon fill=\"#F8F8F8\" points=\"190,137.5,190,192.0938,330,192.0938,310,164.7969,330,137.5\" style=\"stroke: #000000; stroke-width: 1.5;\"/><text fill=\"#000000\" font-family=\"sans-serif\" font-size=\"14\" font-style=\"italic\" lengthAdjust=\"spacingAndGlyphs\" textLength=\"111\" x=\"197\" y=\"160.4951\">«accept action»</text><text fill=\"#000000\" font-family=\"sans-serif\" font-size=\"14\" lengthAdjust=\"spacingAndGlyphs\" textLength=\"9\" x=\"248\" y=\"177.792\">S</text></a><!--MD5=[24d87cdf3002d433f401b2a2aa9f9f65]\n",
       "entity E6--><a href=\"psysml:baf32606-26e9-4cc3-a29f-e775486b01d7\" target=\"_top\" title=\"psysml:baf32606-26e9-4cc3-a29f-e775486b01d7\" xlink:actuate=\"onRequest\" xlink:href=\"psysml:baf32606-26e9-4cc3-a29f-e775486b01d7\" xlink:show=\"new\" xlink:title=\"psysml:baf32606-26e9-4cc3-a29f-e775486b01d7\" xlink:type=\"simple\"><polygon fill=\"#F8F8F8\" points=\"384,137.5,384,192.0938,492,192.0938,512,164.7969,492,137.5\" style=\"stroke: #000000; stroke-width: 1.5;\"/><text fill=\"#000000\" font-family=\"sans-serif\" font-size=\"14\" font-style=\"italic\" lengthAdjust=\"spacingAndGlyphs\" textLength=\"99\" x=\"391\" y=\"160.4951\">«send action»</text><text fill=\"#000000\" font-family=\"sans-serif\" font-size=\"14\" lengthAdjust=\"spacingAndGlyphs\" textLength=\"65\" x=\"408\" y=\"177.792\">S() to  B()</text></a><polygon fill=\"#F8F8F8\" points=\"541,114,553,126,541,138,529,126,541,114\" style=\"stroke: #383838; stroke-width: 1.5;\"/><ellipse cx=\"82\" cy=\"126\" fill=\"#000000\" rx=\"10\" ry=\"10\" style=\"stroke: none; stroke-width: 1.0;\"/><ellipse cx=\"580\" cy=\"126\" fill=\"none\" rx=\"10\" ry=\"10\" style=\"stroke: #000000; stroke-width: 1.0;\"/><ellipse cx=\"580.5\" cy=\"126.5\" fill=\"#000000\" rx=\"6\" ry=\"6\" style=\"stroke: none; stroke-width: 1.0;\"/><g id=\"E1.E8\"><a href=\"psysml:79d3a6ab-38cc-49fb-ab8f-d1828ed09a3c\" target=\"_top\" title=\"psysml:79d3a6ab-38cc-49fb-ab8f-d1828ed09a3c\" xlink:actuate=\"onRequest\" xlink:href=\"psysml:79d3a6ab-38cc-49fb-ab8f-d1828ed09a3c\" xlink:show=\"new\" xlink:title=\"psysml:79d3a6ab-38cc-49fb-ab8f-d1828ed09a3c\" xlink:type=\"simple\"><rect fill=\"#FFFFFF\" height=\"42.9375\" id=\"E8\" style=\"stroke: #383838; stroke-width: 1.5;\" width=\"84\" x=\"40\" y=\"303.5\"/><rect fill=\"#F8F8F8\" height=\"37.9375\" style=\"stroke: #383838; stroke-width: 1.5;\" width=\"84\" x=\"40\" y=\"303.5\"/><text fill=\"#000000\" font-family=\"sans-serif\" font-size=\"12\" font-style=\"italic\" lengthAdjust=\"spacingAndGlyphs\" textLength=\"77\" x=\"43.5\" y=\"319.6387\">«action def»</text><text fill=\"#000000\" font-family=\"sans-serif\" font-size=\"12\" lengthAdjust=\"spacingAndGlyphs\" textLength=\"8\" x=\"78\" y=\"333.6074\">B</text></a></g><!--MD5=[f47e10efcf9a6752d55dae986d790ed9]\n",
       "link *start*E3 to E4--><a href=\"psysml:fb7d5adc-5880-4810-9813-86e53c07f96a\" target=\"_top\" title=\"psysml:fb7d5adc-5880-4810-9813-86e53c07f96a\" xlink:actuate=\"onRequest\" xlink:href=\"psysml:fb7d5adc-5880-4810-9813-86e53c07f96a\" xlink:show=\"new\" xlink:title=\"psysml:fb7d5adc-5880-4810-9813-86e53c07f96a\" xlink:type=\"simple\"><path d=\"M92.14,126 C104.88,126 128.18,126 143.88,126 \" fill=\"none\" id=\"*start*E3-&gt;E4\" style=\"stroke: #383838; stroke-width: 1.0;\"/><polygon fill=\"#383838\" points=\"148.89,126,139.89,122,143.89,126,139.89,130,148.89,126\" style=\"stroke: #383838; stroke-width: 1.0;\"/></a><!--MD5=[d19f2eb34364d71b67042106d92f540b]\n",
       "link E7 to *end*E3--><a href=\"psysml:c9de1ce8-1045-4471-9685-45647676290c\" target=\"_top\" title=\"psysml:c9de1ce8-1045-4471-9685-45647676290c\" xlink:actuate=\"onRequest\" xlink:href=\"psysml:c9de1ce8-1045-4471-9685-45647676290c\" xlink:show=\"new\" xlink:title=\"psysml:c9de1ce8-1045-4471-9685-45647676290c\" xlink:type=\"simple\"><path d=\"M553.3,126 C556.84,126 560.8,126 564.53,126 \" fill=\"none\" id=\"E7-&gt;*end*E3\" style=\"stroke: #383838; stroke-width: 1.0;\"/><polygon fill=\"#383838\" points=\"569.75,126,560.75,122,564.75,126,560.75,130,569.75,126\" style=\"stroke: #383838; stroke-width: 1.0;\"/></a><!--MD5=[1b7591eae5389033d8d09a9d6721a717]\n",
       "link E4 to E5--><a href=\"psysml:674af9b4-5477-4a2d-9c32-c1d49aef2cdc\" target=\"_top\" title=\"psysml:674af9b4-5477-4a2d-9c32-c1d49aef2cdc\" xlink:actuate=\"onRequest\" xlink:href=\"psysml:674af9b4-5477-4a2d-9c32-c1d49aef2cdc\" xlink:show=\"new\" xlink:title=\"psysml:674af9b4-5477-4a2d-9c32-c1d49aef2cdc\" xlink:type=\"simple\"><path d=\"M169.94,129.19 C174.05,130.84 179.5,133.04 185.7,135.53 \" fill=\"none\" id=\"E4-&gt;E5\" style=\"stroke: #383838; stroke-width: 1.0;\"/><polygon fill=\"#383838\" points=\"190.57,137.49,183.7068,130.4263,185.9296,135.6281,180.7278,137.8509,190.57,137.49\" style=\"stroke: #383838; stroke-width: 1.0;\"/><text fill=\"#000000\" font-family=\"sans-serif\" font-size=\"13\" lengthAdjust=\"spacingAndGlyphs\" textLength=\"7\" x=\"175.1375\" y=\"130.54\">*</text></a><!--MD5=[9120cf2e5df3bff93db8f754bbbc09b4]\n",
       "link E5 to E6--><a href=\"psysml:f1d57d75-7b92-4f65-894e-3c0dce6664b2\" target=\"_top\" title=\"psysml:f1d57d75-7b92-4f65-894e-3c0dce6664b2\" xlink:actuate=\"onRequest\" xlink:href=\"psysml:f1d57d75-7b92-4f65-894e-3c0dce6664b2\" xlink:show=\"new\" xlink:title=\"psysml:f1d57d75-7b92-4f65-894e-3c0dce6664b2\" xlink:type=\"simple\"><path d=\"M330.26,165 C346.03,165 362.79,165 378.53,165 \" fill=\"none\" id=\"E5-&gt;E6\" style=\"stroke: #383838; stroke-width: 1.0;\"/><polygon fill=\"#383838\" points=\"383.83,165,374.83,161,378.83,165,374.83,169,383.83,165\" style=\"stroke: #383838; stroke-width: 1.0;\"/><text fill=\"#000000\" font-family=\"sans-serif\" font-size=\"13\" lengthAdjust=\"spacingAndGlyphs\" textLength=\"7\" x=\"369.0057\" y=\"177.9652\">*</text></a><!--MD5=[02c70b7c851c11e3980e4e90450dc5dd]\n",
       "link E6 to E7--><a href=\"psysml:5bbe4286-aec7-454e-8b07-ff0b44373e66\" target=\"_top\" title=\"psysml:5bbe4286-aec7-454e-8b07-ff0b44373e66\" xlink:actuate=\"onRequest\" xlink:href=\"psysml:5bbe4286-aec7-454e-8b07-ff0b44373e66\" xlink:show=\"new\" xlink:title=\"psysml:5bbe4286-aec7-454e-8b07-ff0b44373e66\" xlink:type=\"simple\"><path d=\"M512.2,137.91 C517.78,135.52 522.94,133.31 527.26,131.46 \" fill=\"none\" id=\"E6-&gt;E7\" style=\"stroke: #383838; stroke-width: 1.0;\"/><polygon fill=\"#383838\" points=\"531.92,129.46,522.072,129.3287,527.3243,131.4296,525.2234,136.6819,531.92,129.46\" style=\"stroke: #383838; stroke-width: 1.0;\"/><text fill=\"#000000\" font-family=\"sans-serif\" font-size=\"13\" lengthAdjust=\"spacingAndGlyphs\" textLength=\"7\" x=\"513.9125\" y=\"151.175\">*</text></a><!--MD5=[6bdd27f9905911a7e892a3dc65cf6b7c]\n",
       "link E7 to E4--><a href=\"psysml:df5824e0-bb07-4266-b9ed-97217b9e7a59\" target=\"_top\" title=\"psysml:df5824e0-bb07-4266-b9ed-97217b9e7a59\" xlink:actuate=\"onRequest\" xlink:href=\"psysml:df5824e0-bb07-4266-b9ed-97217b9e7a59\" xlink:show=\"new\" xlink:title=\"psysml:df5824e0-bb07-4266-b9ed-97217b9e7a59\" xlink:type=\"simple\"><path d=\"M531.25,123.63 C525.77,122.26 518.53,120.69 512,120 C369.69,104.92 332.31,104.92 190,120 C185.31,120.5 180.25,121.45 175.74,122.45 \" fill=\"none\" id=\"E7-&gt;E4\" style=\"stroke: #383838; stroke-width: 1.0;\"/><polygon fill=\"#383838\" points=\"170.75,123.63,180.4269,125.4623,175.6171,122.4848,178.5946,117.675,170.75,123.63\" style=\"stroke: #383838; stroke-width: 1.0;\"/><text fill=\"#000000\" font-family=\"sans-serif\" font-size=\"13\" lengthAdjust=\"spacingAndGlyphs\" textLength=\"36\" x=\"339\" y=\"105.0669\">[true]</text><text fill=\"#000000\" font-family=\"sans-serif\" font-size=\"13\" lengthAdjust=\"spacingAndGlyphs\" textLength=\"7\" x=\"180.8531\" y=\"113.2217\">*</text></a><!--MD5=[8d4fb36db61796464427d1cc08f59672]\n",
       "@startuml\r\n",
       "skinparam ranksep 10\r\n",
       "skinparam rectangle {\r\n",
       " backgroundColor<<block>> LightGreen\r\n",
       "}\r\n",
       "left to right direction\r\n",
       "skinparam monochrome true\r\n",
       "skinparam classbackgroundcolor white\r\n",
       "skinparam shadowing false\r\n",
       "skinparam wrapWidth 300\r\n",
       "hide circle\r\n",
       "\r\n",
       "package \"ActionTest\" as E1  [[psysml:a2683da9-1b6e-41fc-828a-cc7d1e5b2935 ]]  {\r\n",
       "def \"S\" as E2  <<(T,blue) attribute def>> [[psysml:9c87d4ab-cb1d-4b31-8fcd-81209805f4cd ]] \r\n",
       "rec usage \"a\" as E3  <<(T,blue) action>> [[psysml:88e0a3c5-b7f9-4d13-8306-ae5e61691436 ]] {\r\n",
       "choice \"m\" as E4  [[psysml:207ebb71-0108-47ac-8eb2-03003f2402f5 ]] \r\n",
       "accept \" S\" as E5 << accept action>> [[psysml:56f9bc80-23d6-47f0-bfbf-c5e902f86ac6 ]] \r\n",
       "send \" S() to  B()\" as E6 << send action>> [[psysml:baf32606-26e9-4cc3-a29f-e775486b01d7 ]] \r\n",
       "choice \"<s>noname</s>\" as E7  [[psysml:de118d49-a158-4609-b10e-b605b2688318 ]] \r\n",
       "[*] - -> E4 [[psysml:fb7d5adc-5880-4810-9813-86e53c07f96a ]] \r\n",
       "E7  - -> [*] [[psysml:c9de1ce8-1045-4471-9685-45647676290c ]] \r\n",
       "}\r\n",
       "\r\n",
       "rec def \"B\" as E8  <<(T,blue) action def>> [[psysml:79d3a6ab-38cc-49fb-ab8f-d1828ed09a3c ]] {\r\n",
       "}\r\n",
       "\r\n",
       "}\r\n",
       "E4 - -> \"*\"E5 [[psysml:674af9b4-5477-4a2d-9c32-c1d49aef2cdc ]] \r\n",
       "E5 - -> \"*\"E6 [[psysml:f1d57d75-7b92-4f65-894e-3c0dce6664b2 ]] \r\n",
       "E6 - -> \"*\"E7 [[psysml:5bbe4286-aec7-454e-8b07-ff0b44373e66 ]] \r\n",
       "E7  - -> \"*\"E4 [[psysml:df5824e0-bb07-4266-b9ed-97217b9e7a59 ]] : [true]\r\n",
       "@enduml\r\n",
       "\n",
       "PlantUML version 1.2020.13(Sat Jun 13 12:26:38 UTC 2020)\n",
       "(EPL source distribution)\n",
       "Java Runtime: OpenJDK Runtime Environment\n",
       "JVM: OpenJDK 64-Bit Server VM\n",
       "Default Encoding: UTF-8\n",
       "Language: en\n",
       "Country: null\n",
       "--></g></svg>"
      ]
     },
     "execution_count": 19,
     "metadata": {},
     "output_type": "execute_result"
    }
   ],
   "source": [
    "%viz --style=\"LR\" --view=\"Interconnection\" \"ActionTest\""
   ]
  },
  {
   "cell_type": "code",
   "execution_count": 20,
   "id": "8c2521fe",
   "metadata": {
    "execution": {
     "iopub.execute_input": "2021-09-27T07:16:55.656923Z",
     "iopub.status.busy": "2021-09-27T07:16:55.656521Z",
     "iopub.status.idle": "2021-09-27T07:16:55.700592Z",
     "shell.execute_reply": "2021-09-27T07:16:55.700227Z"
    }
   },
   "outputs": [
    {
     "data": {
      "image/svg+xml": [
       "<?xml version=\"1.0\" encoding=\"UTF-8\" standalone=\"no\"?><svg xmlns=\"http://www.w3.org/2000/svg\" xmlns:xlink=\"http://www.w3.org/1999/xlink\" contentScriptType=\"application/ecmascript\" contentStyleType=\"text/css\" height=\"237px\" preserveAspectRatio=\"none\" style=\"width:577px;height:237px;\" version=\"1.1\" viewBox=\"0 0 577 237\" width=\"577px\" zoomAndPan=\"magnify\"><defs/><g><!--MD5=[fbc87193dbaf4d95561dea2c320d4a47]\n",
       "cluster E1--><a href=\"psysml:88e0a3c5-b7f9-4d13-8306-ae5e61691436\" target=\"_top\" title=\"psysml:88e0a3c5-b7f9-4d13-8306-ae5e61691436\" xlink:actuate=\"onRequest\" xlink:href=\"psysml:88e0a3c5-b7f9-4d13-8306-ae5e61691436\" xlink:show=\"new\" xlink:title=\"psysml:88e0a3c5-b7f9-4d13-8306-ae5e61691436\" xlink:type=\"simple\"><rect fill=\"#FFFFFF\" height=\"160\" id=\"E1\" rx=\"10\" ry=\"10\" style=\"stroke: #383838; stroke-width: 1.5;\" width=\"542\" x=\"23\" y=\"7\"/><rect fill=\"#F8F8F8\" height=\"37.9375\" rx=\"10\" ry=\"10\" style=\"stroke: #F8F8F8; stroke-width: 1.5;\" width=\"542\" x=\"23\" y=\"7\"/><rect fill=\"#F8F8F8\" height=\"10\" style=\"stroke: #F8F8F8; stroke-width: 1.5;\" width=\"542\" x=\"23\" y=\"34.9375\"/><rect fill=\"none\" height=\"160\" id=\"E1\" rx=\"10\" ry=\"10\" style=\"stroke: #383838; stroke-width: 1.5;\" width=\"542\" x=\"23\" y=\"7\"/><text fill=\"#000000\" font-family=\"sans-serif\" font-size=\"12\" font-style=\"italic\" lengthAdjust=\"spacingAndGlyphs\" textLength=\"53\" x=\"267.5\" y=\"23.1387\">«action»</text><text fill=\"#000000\" font-family=\"sans-serif\" font-size=\"12\" lengthAdjust=\"spacingAndGlyphs\" textLength=\"8\" x=\"290\" y=\"37.1074\">a</text><line style=\"stroke: #383838; stroke-width: 1.0;\" x1=\"23\" x2=\"565\" y1=\"44.9375\" y2=\"44.9375\"/></a><polygon fill=\"#F8F8F8\" points=\"120,72,132,84,120,96,108,84,120,72\" style=\"stroke: #383838; stroke-width: 1.5;\"/><!--MD5=[a60fb756f580feb9fd8e2cf1329b5c91]\n",
       "entity E3--><a href=\"psysml:56f9bc80-23d6-47f0-bfbf-c5e902f86ac6\" target=\"_top\" title=\"psysml:56f9bc80-23d6-47f0-bfbf-c5e902f86ac6\" xlink:actuate=\"onRequest\" xlink:href=\"psysml:56f9bc80-23d6-47f0-bfbf-c5e902f86ac6\" xlink:show=\"new\" xlink:title=\"psysml:56f9bc80-23d6-47f0-bfbf-c5e902f86ac6\" xlink:type=\"simple\"><polygon fill=\"#F8F8F8\" points=\"149,95.5,149,150.0938,289,150.0938,269,122.7969,289,95.5\" style=\"stroke: #000000; stroke-width: 1.5;\"/><text fill=\"#000000\" font-family=\"sans-serif\" font-size=\"14\" font-style=\"italic\" lengthAdjust=\"spacingAndGlyphs\" textLength=\"111\" x=\"156\" y=\"118.4951\">«accept action»</text><text fill=\"#000000\" font-family=\"sans-serif\" font-size=\"14\" lengthAdjust=\"spacingAndGlyphs\" textLength=\"9\" x=\"207\" y=\"135.792\">S</text></a><!--MD5=[961cefdc15414eaa3e87aec9d17c2188]\n",
       "entity E4--><a href=\"psysml:baf32606-26e9-4cc3-a29f-e775486b01d7\" target=\"_top\" title=\"psysml:baf32606-26e9-4cc3-a29f-e775486b01d7\" xlink:actuate=\"onRequest\" xlink:href=\"psysml:baf32606-26e9-4cc3-a29f-e775486b01d7\" xlink:show=\"new\" xlink:title=\"psysml:baf32606-26e9-4cc3-a29f-e775486b01d7\" xlink:type=\"simple\"><polygon fill=\"#F8F8F8\" points=\"343,95.5,343,150.0938,451,150.0938,471,122.7969,451,95.5\" style=\"stroke: #000000; stroke-width: 1.5;\"/><text fill=\"#000000\" font-family=\"sans-serif\" font-size=\"14\" font-style=\"italic\" lengthAdjust=\"spacingAndGlyphs\" textLength=\"99\" x=\"350\" y=\"118.4951\">«send action»</text><text fill=\"#000000\" font-family=\"sans-serif\" font-size=\"14\" lengthAdjust=\"spacingAndGlyphs\" textLength=\"65\" x=\"367\" y=\"135.792\">S() to  B()</text></a><polygon fill=\"#F8F8F8\" points=\"500,72,512,84,500,96,488,84,500,72\" style=\"stroke: #383838; stroke-width: 1.5;\"/><ellipse cx=\"49\" cy=\"84\" fill=\"#000000\" rx=\"10\" ry=\"10\" style=\"stroke: none; stroke-width: 1.0;\"/><ellipse cx=\"539\" cy=\"84\" fill=\"none\" rx=\"10\" ry=\"10\" style=\"stroke: #000000; stroke-width: 1.0;\"/><ellipse cx=\"539.5\" cy=\"84.5\" fill=\"#000000\" rx=\"6\" ry=\"6\" style=\"stroke: none; stroke-width: 1.0;\"/><g id=\"E6\"><a href=\"psysml:79d3a6ab-38cc-49fb-ab8f-d1828ed09a3c\" target=\"_top\" title=\"psysml:79d3a6ab-38cc-49fb-ab8f-d1828ed09a3c\" xlink:actuate=\"onRequest\" xlink:href=\"psysml:79d3a6ab-38cc-49fb-ab8f-d1828ed09a3c\" xlink:show=\"new\" xlink:title=\"psysml:79d3a6ab-38cc-49fb-ab8f-d1828ed09a3c\" xlink:type=\"simple\"><rect fill=\"#FFFFFF\" height=\"42.9375\" id=\"E6\" style=\"stroke: #383838; stroke-width: 1.5;\" width=\"84\" x=\"7\" y=\"183.5\"/><rect fill=\"#F8F8F8\" height=\"37.9375\" style=\"stroke: #383838; stroke-width: 1.5;\" width=\"84\" x=\"7\" y=\"183.5\"/><text fill=\"#000000\" font-family=\"sans-serif\" font-size=\"12\" font-style=\"italic\" lengthAdjust=\"spacingAndGlyphs\" textLength=\"77\" x=\"10.5\" y=\"199.6387\">«action def»</text><text fill=\"#000000\" font-family=\"sans-serif\" font-size=\"12\" lengthAdjust=\"spacingAndGlyphs\" textLength=\"8\" x=\"45\" y=\"213.6074\">B</text></a></g><!--MD5=[cff944eb183b832d446717a4e202d613]\n",
       "link *start*E1 to E2--><a href=\"psysml:fb7d5adc-5880-4810-9813-86e53c07f96a\" target=\"_top\" title=\"psysml:fb7d5adc-5880-4810-9813-86e53c07f96a\" xlink:actuate=\"onRequest\" xlink:href=\"psysml:fb7d5adc-5880-4810-9813-86e53c07f96a\" xlink:show=\"new\" xlink:title=\"psysml:fb7d5adc-5880-4810-9813-86e53c07f96a\" xlink:type=\"simple\"><path d=\"M59.02,84 C70.11,84 89.15,84 102.8,84 \" fill=\"none\" id=\"*start*E1-&gt;E2\" style=\"stroke: #383838; stroke-width: 1.0; stroke-dasharray: 7.0,7.0;\"/><polygon fill=\"#383838\" points=\"107.92,84,98.92,80,102.92,84,98.92,88,107.92,84\" style=\"stroke: #383838; stroke-width: 1.0;\"/></a><!--MD5=[7fc47fc0d107820853a137871ad908c8]\n",
       "link E5 to *end*E1--><a href=\"psysml:c9de1ce8-1045-4471-9685-45647676290c\" target=\"_top\" title=\"psysml:c9de1ce8-1045-4471-9685-45647676290c\" xlink:actuate=\"onRequest\" xlink:href=\"psysml:c9de1ce8-1045-4471-9685-45647676290c\" xlink:show=\"new\" xlink:title=\"psysml:c9de1ce8-1045-4471-9685-45647676290c\" xlink:type=\"simple\"><path d=\"M512.3,84 C515.84,84 519.8,84 523.53,84 \" fill=\"none\" id=\"E5-&gt;*end*E1\" style=\"stroke: #383838; stroke-width: 1.0; stroke-dasharray: 7.0,7.0;\"/><polygon fill=\"#383838\" points=\"528.75,84,519.75,80,523.75,84,519.75,88,528.75,84\" style=\"stroke: #383838; stroke-width: 1.0;\"/></a><!--MD5=[2720a5a1f2c3fca2055b230370638851]\n",
       "link E2 to E3--><a href=\"psysml:674af9b4-5477-4a2d-9c32-c1d49aef2cdc\" target=\"_top\" title=\"psysml:674af9b4-5477-4a2d-9c32-c1d49aef2cdc\" xlink:actuate=\"onRequest\" xlink:href=\"psysml:674af9b4-5477-4a2d-9c32-c1d49aef2cdc\" xlink:show=\"new\" xlink:title=\"psysml:674af9b4-5477-4a2d-9c32-c1d49aef2cdc\" xlink:type=\"simple\"><path d=\"M128.94,87.19 C133.05,88.84 138.5,91.04 144.7,93.53 \" fill=\"none\" id=\"E2-&gt;E3\" style=\"stroke: #383838; stroke-width: 1.0; stroke-dasharray: 7.0,7.0;\"/><polygon fill=\"#383838\" points=\"149.57,95.49,142.7068,88.4263,144.9296,93.6281,139.7278,95.8509,149.57,95.49\" style=\"stroke: #383838; stroke-width: 1.0;\"/></a><!--MD5=[af87c684e3b0d8be13c1a698a818ef1e]\n",
       "link E3 to E4--><a href=\"psysml:f1d57d75-7b92-4f65-894e-3c0dce6664b2\" target=\"_top\" title=\"psysml:f1d57d75-7b92-4f65-894e-3c0dce6664b2\" xlink:actuate=\"onRequest\" xlink:href=\"psysml:f1d57d75-7b92-4f65-894e-3c0dce6664b2\" xlink:show=\"new\" xlink:title=\"psysml:f1d57d75-7b92-4f65-894e-3c0dce6664b2\" xlink:type=\"simple\"><path d=\"M289.26,123 C305.03,123 321.79,123 337.53,123 \" fill=\"none\" id=\"E3-&gt;E4\" style=\"stroke: #383838; stroke-width: 1.0; stroke-dasharray: 7.0,7.0;\"/><polygon fill=\"#383838\" points=\"342.83,123,333.83,119,337.83,123,333.83,127,342.83,123\" style=\"stroke: #383838; stroke-width: 1.0;\"/></a><!--MD5=[1b7591eae5389033d8d09a9d6721a717]\n",
       "link E4 to E5--><a href=\"psysml:5bbe4286-aec7-454e-8b07-ff0b44373e66\" target=\"_top\" title=\"psysml:5bbe4286-aec7-454e-8b07-ff0b44373e66\" xlink:actuate=\"onRequest\" xlink:href=\"psysml:5bbe4286-aec7-454e-8b07-ff0b44373e66\" xlink:show=\"new\" xlink:title=\"psysml:5bbe4286-aec7-454e-8b07-ff0b44373e66\" xlink:type=\"simple\"><path d=\"M471.2,95.91 C476.78,93.52 481.94,91.31 486.26,89.46 \" fill=\"none\" id=\"E4-&gt;E5\" style=\"stroke: #383838; stroke-width: 1.0; stroke-dasharray: 7.0,7.0;\"/><polygon fill=\"#383838\" points=\"490.92,87.46,481.072,87.3287,486.3243,89.4296,484.2234,94.6819,490.92,87.46\" style=\"stroke: #383838; stroke-width: 1.0;\"/></a><!--MD5=[15ebcb19ae302d9b601edb458606d402]\n",
       "link E5 to E2--><a href=\"psysml:df5824e0-bb07-4266-b9ed-97217b9e7a59\" target=\"_top\" title=\"psysml:df5824e0-bb07-4266-b9ed-97217b9e7a59\" xlink:actuate=\"onRequest\" xlink:href=\"psysml:df5824e0-bb07-4266-b9ed-97217b9e7a59\" xlink:show=\"new\" xlink:title=\"psysml:df5824e0-bb07-4266-b9ed-97217b9e7a59\" xlink:type=\"simple\"><path d=\"M490.25,81.63 C484.77,80.26 477.53,78.69 471,78 C328.69,62.92 291.31,62.92 149,78 C144.31,78.5 139.25,79.45 134.74,80.45 \" fill=\"none\" id=\"E5-&gt;E2\" style=\"stroke: #383838; stroke-width: 1.0; stroke-dasharray: 7.0,7.0;\"/><polygon fill=\"#383838\" points=\"129.75,81.63,139.4269,83.4623,134.6171,80.4848,137.5946,75.675,129.75,81.63\" style=\"stroke: #383838; stroke-width: 1.0;\"/><text fill=\"#000000\" font-family=\"sans-serif\" font-size=\"13\" lengthAdjust=\"spacingAndGlyphs\" textLength=\"36\" x=\"298\" y=\"63.0669\">[true]</text></a><!--MD5=[a42fbd16434a1e6e75a544bffefd6777]\n",
       "@startuml\r\n",
       "skinparam ranksep 8\r\n",
       "left to right direction\r\n",
       "skinparam monochrome true\r\n",
       "skinparam classbackgroundcolor white\r\n",
       "skinparam shadowing false\r\n",
       "skinparam wrapWidth 300\r\n",
       "hide circle\r\n",
       "\r\n",
       "rec usage \"a\" as E1  <<(T,blue) action>> [[psysml:88e0a3c5-b7f9-4d13-8306-ae5e61691436 ]] {\r\n",
       "choice \"m\" as E2  [[psysml:207ebb71-0108-47ac-8eb2-03003f2402f5 ]] \r\n",
       "accept \" S\" as E3 << accept action>> [[psysml:56f9bc80-23d6-47f0-bfbf-c5e902f86ac6 ]] \r\n",
       "send \" S() to  B()\" as E4 << send action>> [[psysml:baf32606-26e9-4cc3-a29f-e775486b01d7 ]] \r\n",
       "choice \"<s>noname</s>\" as E5  [[psysml:de118d49-a158-4609-b10e-b605b2688318 ]] \r\n",
       "[*] ..> E2 [[psysml:fb7d5adc-5880-4810-9813-86e53c07f96a ]] \r\n",
       "E5 ..> [*] [[psysml:c9de1ce8-1045-4471-9685-45647676290c ]] \r\n",
       "}\r\n",
       "\r\n",
       "E2 ..> E3 [[psysml:674af9b4-5477-4a2d-9c32-c1d49aef2cdc ]] \r\n",
       "E3 ..> E4 [[psysml:f1d57d75-7b92-4f65-894e-3c0dce6664b2 ]] \r\n",
       "E4 ..> E5 [[psysml:5bbe4286-aec7-454e-8b07-ff0b44373e66 ]] \r\n",
       "E5 ..> E2 [[psysml:df5824e0-bb07-4266-b9ed-97217b9e7a59 ]] : [true]\r\n",
       "rec def \"B\" as E6  <<(T,blue) action def>> [[psysml:79d3a6ab-38cc-49fb-ab8f-d1828ed09a3c ]] {\r\n",
       "}\r\n",
       "\r\n",
       "@enduml\r\n",
       "\n",
       "PlantUML version 1.2020.13(Sat Jun 13 12:26:38 UTC 2020)\n",
       "(EPL source distribution)\n",
       "Java Runtime: OpenJDK Runtime Environment\n",
       "JVM: OpenJDK 64-Bit Server VM\n",
       "Default Encoding: UTF-8\n",
       "Language: en\n",
       "Country: null\n",
       "--></g></svg>"
      ]
     },
     "execution_count": 20,
     "metadata": {},
     "output_type": "execute_result"
    }
   ],
   "source": [
    "%viz --style=\"LR\" --view=\"Action\" \"ActionTest\""
   ]
  },
  {
   "cell_type": "code",
   "execution_count": 21,
   "id": "dedf9340",
   "metadata": {
    "execution": {
     "iopub.execute_input": "2021-09-27T07:16:55.750231Z",
     "iopub.status.busy": "2021-09-27T07:16:55.749825Z",
     "iopub.status.idle": "2021-09-27T07:16:55.756892Z",
     "shell.execute_reply": "2021-09-27T07:16:55.756556Z"
    }
   },
   "outputs": [
    {
     "data": {
      "image/svg+xml": [
       "<?xml version=\"1.0\" encoding=\"UTF-8\" standalone=\"no\"?><svg xmlns=\"http://www.w3.org/2000/svg\" xmlns:xlink=\"http://www.w3.org/1999/xlink\" contentScriptType=\"application/ecmascript\" contentStyleType=\"text/css\" height=\"12px\" preserveAspectRatio=\"none\" style=\"width:12px;height:12px;\" version=\"1.1\" viewBox=\"0 0 12 12\" width=\"12px\" zoomAndPan=\"magnify\"><defs/><g><!--MD5=[238c11ea2002f03115ad6b49a457d50e]\n",
       "@startuml\r\n",
       "skinparam roundcorner 20\r\n",
       "skinparam BoxPadding 20\r\n",
       "skinparam SequenceBoxBackgroundColor #white\r\n",
       "skinparam style strictuml\r\n",
       "skinparam maxMessageSize 100\r\n",
       "left to right direction\r\n",
       "skinparam monochrome true\r\n",
       "skinparam classbackgroundcolor white\r\n",
       "skinparam shadowing false\r\n",
       "skinparam wrapWidth 300\r\n",
       "hide circle\r\n",
       "\r\n",
       "@enduml\r\n",
       "\n",
       "PlantUML version 1.2020.13(Sat Jun 13 12:26:38 UTC 2020)\n",
       "(EPL source distribution)\n",
       "Java Runtime: OpenJDK Runtime Environment\n",
       "JVM: OpenJDK 64-Bit Server VM\n",
       "Default Encoding: UTF-8\n",
       "Language: en\n",
       "Country: null\n",
       "--></g></svg>"
      ]
     },
     "execution_count": 21,
     "metadata": {},
     "output_type": "execute_result"
    }
   ],
   "source": [
    "%viz --style=\"LR\" --view=\"Sequence\" \"ActionTest\""
   ]
  },
  {
   "cell_type": "code",
   "execution_count": 22,
   "id": "36638061",
   "metadata": {
    "execution": {
     "iopub.execute_input": "2021-09-27T07:16:55.806940Z",
     "iopub.status.busy": "2021-09-27T07:16:55.806536Z",
     "iopub.status.idle": "2021-09-27T07:16:55.857840Z",
     "shell.execute_reply": "2021-09-27T07:16:55.857464Z"
    }
   },
   "outputs": [
    {
     "data": {
      "image/svg+xml": [
       "<?xml version=\"1.0\" encoding=\"UTF-8\" standalone=\"no\"?><svg xmlns=\"http://www.w3.org/2000/svg\" xmlns:xlink=\"http://www.w3.org/1999/xlink\" contentScriptType=\"application/ecmascript\" contentStyleType=\"text/css\" height=\"378px\" preserveAspectRatio=\"none\" style=\"width:867px;height:378px;\" version=\"1.1\" viewBox=\"0 0 867 378\" width=\"867px\" zoomAndPan=\"magnify\"><defs/><g><!--MD5=[fbc87193dbaf4d95561dea2c320d4a47]\n",
       "cluster E1--><a href=\"psysml:a2683da9-1b6e-41fc-828a-cc7d1e5b2935\" target=\"_top\" title=\"psysml:a2683da9-1b6e-41fc-828a-cc7d1e5b2935\" xlink:actuate=\"onRequest\" xlink:href=\"psysml:a2683da9-1b6e-41fc-828a-cc7d1e5b2935\" xlink:show=\"new\" xlink:title=\"psysml:a2683da9-1b6e-41fc-828a-cc7d1e5b2935\" xlink:type=\"simple\"><polygon fill=\"#FFFFFF\" points=\"16,6,96,6,103,28.2969,845,28.2969,845,366,16,366,16,6\" style=\"stroke: #000000; stroke-width: 1.5;\"/><line style=\"stroke: #000000; stroke-width: 1.5;\" x1=\"16\" x2=\"103\" y1=\"28.2969\" y2=\"28.2969\"/><text fill=\"#000000\" font-family=\"sans-serif\" font-size=\"14\" font-weight=\"bold\" lengthAdjust=\"spacingAndGlyphs\" textLength=\"74\" x=\"20\" y=\"20.9951\">ActionTest</text></a><!--MD5=[d5e69f78d87373223dbae638b30a9c99]\n",
       "cluster E3--><a href=\"psysml:88e0a3c5-b7f9-4d13-8306-ae5e61691436\" target=\"_top\" title=\"psysml:88e0a3c5-b7f9-4d13-8306-ae5e61691436\" xlink:actuate=\"onRequest\" xlink:href=\"psysml:88e0a3c5-b7f9-4d13-8306-ae5e61691436\" xlink:show=\"new\" xlink:title=\"psysml:88e0a3c5-b7f9-4d13-8306-ae5e61691436\" xlink:type=\"simple\"><rect fill=\"#FFFFFF\" height=\"160\" id=\"E3\" rx=\"10\" ry=\"10\" style=\"stroke: #383838; stroke-width: 1.5;\" width=\"767.5\" x=\"53.5\" y=\"49\"/><rect fill=\"#F8F8F8\" height=\"37.9375\" rx=\"10\" ry=\"10\" style=\"stroke: #F8F8F8; stroke-width: 1.5;\" width=\"767.5\" x=\"53.5\" y=\"49\"/><rect fill=\"#F8F8F8\" height=\"10\" style=\"stroke: #F8F8F8; stroke-width: 1.5;\" width=\"767.5\" x=\"53.5\" y=\"76.9375\"/><rect fill=\"none\" height=\"160\" id=\"E3\" rx=\"10\" ry=\"10\" style=\"stroke: #383838; stroke-width: 1.5;\" width=\"767.5\" x=\"53.5\" y=\"49\"/><text fill=\"#000000\" font-family=\"sans-serif\" font-size=\"12\" font-style=\"italic\" lengthAdjust=\"spacingAndGlyphs\" textLength=\"53\" x=\"410.75\" y=\"65.1387\">«action»</text><text fill=\"#000000\" font-family=\"sans-serif\" font-size=\"12\" lengthAdjust=\"spacingAndGlyphs\" textLength=\"8\" x=\"433.25\" y=\"79.1074\">a</text><line style=\"stroke: #383838; stroke-width: 1.0;\" x1=\"53.5\" x2=\"821\" y1=\"86.9375\" y2=\"86.9375\"/></a><!--MD5=[b4997ac47864f28c2f74865a473b2911]\n",
       "class E2--><a href=\"psysml:9c87d4ab-cb1d-4b31-8fcd-81209805f4cd\" target=\"_top\" title=\"psysml:9c87d4ab-cb1d-4b31-8fcd-81209805f4cd\" xlink:actuate=\"onRequest\" xlink:href=\"psysml:9c87d4ab-cb1d-4b31-8fcd-81209805f4cd\" xlink:show=\"new\" xlink:title=\"psysml:9c87d4ab-cb1d-4b31-8fcd-81209805f4cd\" xlink:type=\"simple\"><rect fill=\"#FFFFFF\" height=\"45.9375\" id=\"E2\" style=\"stroke: #383838; stroke-width: 1.5;\" width=\"95\" x=\"32\" y=\"225\"/><text fill=\"#000000\" font-family=\"sans-serif\" font-size=\"12\" font-style=\"italic\" lengthAdjust=\"spacingAndGlyphs\" textLength=\"93\" x=\"33\" y=\"241.1387\">«attribute def»</text><text fill=\"#000000\" font-family=\"sans-serif\" font-size=\"12\" lengthAdjust=\"spacingAndGlyphs\" textLength=\"8\" x=\"75.5\" y=\"255.1074\">S</text><line style=\"stroke: #383838; stroke-width: 1.5;\" x1=\"33\" x2=\"126\" y1=\"262.9375\" y2=\"262.9375\"/></a><polygon fill=\"#F8F8F8\" points=\"200,114,212,126,200,138,188,126,200,114\" style=\"stroke: #383838; stroke-width: 1.5;\"/><!--MD5=[21dd76c19d33815960c0e92fef8f0eef]\n",
       "entity E5--><a href=\"psysml:56f9bc80-23d6-47f0-bfbf-c5e902f86ac6\" target=\"_top\" title=\"psysml:56f9bc80-23d6-47f0-bfbf-c5e902f86ac6\" xlink:actuate=\"onRequest\" xlink:href=\"psysml:56f9bc80-23d6-47f0-bfbf-c5e902f86ac6\" xlink:show=\"new\" xlink:title=\"psysml:56f9bc80-23d6-47f0-bfbf-c5e902f86ac6\" xlink:type=\"simple\"><polygon fill=\"#F8F8F8\" points=\"273,137.5,273,192.0938,413,192.0938,393,164.7969,413,137.5\" style=\"stroke: #000000; stroke-width: 1.5;\"/><text fill=\"#000000\" font-family=\"sans-serif\" font-size=\"14\" font-style=\"italic\" lengthAdjust=\"spacingAndGlyphs\" textLength=\"111\" x=\"280\" y=\"160.4951\">«accept action»</text><text fill=\"#000000\" font-family=\"sans-serif\" font-size=\"14\" lengthAdjust=\"spacingAndGlyphs\" textLength=\"9\" x=\"331\" y=\"177.792\">S</text></a><!--MD5=[24d87cdf3002d433f401b2a2aa9f9f65]\n",
       "entity E6--><a href=\"psysml:baf32606-26e9-4cc3-a29f-e775486b01d7\" target=\"_top\" title=\"psysml:baf32606-26e9-4cc3-a29f-e775486b01d7\" xlink:actuate=\"onRequest\" xlink:href=\"psysml:baf32606-26e9-4cc3-a29f-e775486b01d7\" xlink:show=\"new\" xlink:title=\"psysml:baf32606-26e9-4cc3-a29f-e775486b01d7\" xlink:type=\"simple\"><polygon fill=\"#F8F8F8\" points=\"511,137.5,511,192.0938,619,192.0938,639,164.7969,619,137.5\" style=\"stroke: #000000; stroke-width: 1.5;\"/><text fill=\"#000000\" font-family=\"sans-serif\" font-size=\"14\" font-style=\"italic\" lengthAdjust=\"spacingAndGlyphs\" textLength=\"99\" x=\"518\" y=\"160.4951\">«send action»</text><text fill=\"#000000\" font-family=\"sans-serif\" font-size=\"14\" lengthAdjust=\"spacingAndGlyphs\" textLength=\"65\" x=\"535\" y=\"177.792\">S() to  B()</text></a><polygon fill=\"#F8F8F8\" points=\"712,114,724,126,712,138,700,126,712,114\" style=\"stroke: #383838; stroke-width: 1.5;\"/><ellipse cx=\"79.5\" cy=\"126\" fill=\"#000000\" rx=\"10\" ry=\"10\" style=\"stroke: none; stroke-width: 1.0;\"/><ellipse cx=\"795\" cy=\"126\" fill=\"none\" rx=\"10\" ry=\"10\" style=\"stroke: #000000; stroke-width: 1.0;\"/><ellipse cx=\"795.5\" cy=\"126.5\" fill=\"#000000\" rx=\"6\" ry=\"6\" style=\"stroke: none; stroke-width: 1.0;\"/><g id=\"E1.E8\"><a href=\"psysml:79d3a6ab-38cc-49fb-ab8f-d1828ed09a3c\" target=\"_top\" title=\"psysml:79d3a6ab-38cc-49fb-ab8f-d1828ed09a3c\" xlink:actuate=\"onRequest\" xlink:href=\"psysml:79d3a6ab-38cc-49fb-ab8f-d1828ed09a3c\" xlink:show=\"new\" xlink:title=\"psysml:79d3a6ab-38cc-49fb-ab8f-d1828ed09a3c\" xlink:type=\"simple\"><rect fill=\"#FFFFFF\" height=\"42.9375\" id=\"E8\" style=\"stroke: #383838; stroke-width: 1.5;\" width=\"84\" x=\"37.5\" y=\"306.5\"/><rect fill=\"#F8F8F8\" height=\"37.9375\" style=\"stroke: #383838; stroke-width: 1.5;\" width=\"84\" x=\"37.5\" y=\"306.5\"/><text fill=\"#000000\" font-family=\"sans-serif\" font-size=\"12\" font-style=\"italic\" lengthAdjust=\"spacingAndGlyphs\" textLength=\"77\" x=\"41\" y=\"322.6387\">«action def»</text><text fill=\"#000000\" font-family=\"sans-serif\" font-size=\"12\" lengthAdjust=\"spacingAndGlyphs\" textLength=\"8\" x=\"75.5\" y=\"336.6074\">B</text></a></g><!--MD5=[f47e10efcf9a6752d55dae986d790ed9]\n",
       "link *start*E3 to E4--><a href=\"psysml:fb7d5adc-5880-4810-9813-86e53c07f96a\" target=\"_top\" title=\"psysml:fb7d5adc-5880-4810-9813-86e53c07f96a\" xlink:actuate=\"onRequest\" xlink:href=\"psysml:fb7d5adc-5880-4810-9813-86e53c07f96a\" xlink:show=\"new\" xlink:title=\"psysml:fb7d5adc-5880-4810-9813-86e53c07f96a\" xlink:type=\"simple\"><path d=\"M89.8,126 C109.87,126 157.46,126 182.68,126 \" fill=\"none\" id=\"*start*E3-&gt;E4\" style=\"stroke: #383838; stroke-width: 1.0;\"/><polygon fill=\"#383838\" points=\"187.7,126,178.7,122,182.7,126,178.7,130,187.7,126\" style=\"stroke: #383838; stroke-width: 1.0;\"/></a><!--MD5=[d19f2eb34364d71b67042106d92f540b]\n",
       "link E7 to *end*E3--><a href=\"psysml:c9de1ce8-1045-4471-9685-45647676290c\" target=\"_top\" title=\"psysml:c9de1ce8-1045-4471-9685-45647676290c\" xlink:actuate=\"onRequest\" xlink:href=\"psysml:c9de1ce8-1045-4471-9685-45647676290c\" xlink:show=\"new\" xlink:title=\"psysml:c9de1ce8-1045-4471-9685-45647676290c\" xlink:type=\"simple\"><path d=\"M724.26,126 C738.66,126 763.63,126 779.46,126 \" fill=\"none\" id=\"E7-&gt;*end*E3\" style=\"stroke: #383838; stroke-width: 1.0;\"/><polygon fill=\"#383838\" points=\"784.84,126,775.84,122,779.84,126,775.84,130,784.84,126\" style=\"stroke: #383838; stroke-width: 1.0;\"/></a><!--MD5=[1b7591eae5389033d8d09a9d6721a717]\n",
       "link E4 to E5--><a href=\"psysml:674af9b4-5477-4a2d-9c32-c1d49aef2cdc\" target=\"_top\" title=\"psysml:674af9b4-5477-4a2d-9c32-c1d49aef2cdc\" xlink:actuate=\"onRequest\" xlink:href=\"psysml:674af9b4-5477-4a2d-9c32-c1d49aef2cdc\" xlink:show=\"new\" xlink:title=\"psysml:674af9b4-5477-4a2d-9c32-c1d49aef2cdc\" xlink:type=\"simple\"><path d=\"M209.82,128.44 C221.87,131.77 244.64,138.07 267.93,144.51 \" fill=\"none\" id=\"E4-&gt;E5\" style=\"stroke: #383838; stroke-width: 1.0;\"/><polygon fill=\"#383838\" points=\"272.9,145.89,265.2884,139.6399,268.0802,144.5599,263.1602,147.3517,272.9,145.89\" style=\"stroke: #383838; stroke-width: 1.0;\"/><text fill=\"#000000\" font-family=\"sans-serif\" font-size=\"13\" lengthAdjust=\"spacingAndGlyphs\" textLength=\"7\" x=\"257.85\" y=\"156.7165\">*</text></a><!--MD5=[9120cf2e5df3bff93db8f754bbbc09b4]\n",
       "link E5 to E6--><a href=\"psysml:f1d57d75-7b92-4f65-894e-3c0dce6664b2\" target=\"_top\" title=\"psysml:f1d57d75-7b92-4f65-894e-3c0dce6664b2\" xlink:actuate=\"onRequest\" xlink:href=\"psysml:f1d57d75-7b92-4f65-894e-3c0dce6664b2\" xlink:show=\"new\" xlink:title=\"psysml:f1d57d75-7b92-4f65-894e-3c0dce6664b2\" xlink:type=\"simple\"><path d=\"M413.01,165 C442.4,165 476.6,165 505.89,165 \" fill=\"none\" id=\"E5-&gt;E6\" style=\"stroke: #383838; stroke-width: 1.0;\"/><polygon fill=\"#383838\" points=\"510.93,165,501.93,161,505.93,165,501.93,169,510.93,165\" style=\"stroke: #383838; stroke-width: 1.0;\"/><text fill=\"#000000\" font-family=\"sans-serif\" font-size=\"13\" lengthAdjust=\"spacingAndGlyphs\" textLength=\"7\" x=\"496.1172\" y=\"177.9652\">*</text></a><!--MD5=[02c70b7c851c11e3980e4e90450dc5dd]\n",
       "link E6 to E7--><a href=\"psysml:5bbe4286-aec7-454e-8b07-ff0b44373e66\" target=\"_top\" title=\"psysml:5bbe4286-aec7-454e-8b07-ff0b44373e66\" xlink:actuate=\"onRequest\" xlink:href=\"psysml:5bbe4286-aec7-454e-8b07-ff0b44373e66\" xlink:show=\"new\" xlink:title=\"psysml:5bbe4286-aec7-454e-8b07-ff0b44373e66\" xlink:type=\"simple\"><path d=\"M639.15,146.76 C660.96,140.46 683.38,133.98 697.25,129.97 \" fill=\"none\" id=\"E6-&gt;E7\" style=\"stroke: #383838; stroke-width: 1.0;\"/><polygon fill=\"#383838\" points=\"702.29,128.51,692.5337,127.1632,697.4862,129.8968,694.7526,134.8493,702.29,128.51\" style=\"stroke: #383838; stroke-width: 1.0;\"/><text fill=\"#000000\" font-family=\"sans-serif\" font-size=\"13\" lengthAdjust=\"spacingAndGlyphs\" textLength=\"7\" x=\"684.8871\" y=\"148.5121\">*</text></a><!--MD5=[6bdd27f9905911a7e892a3dc65cf6b7c]\n",
       "link E7 to E4--><a href=\"psysml:df5824e0-bb07-4266-b9ed-97217b9e7a59\" target=\"_top\" title=\"psysml:df5824e0-bb07-4266-b9ed-97217b9e7a59\" xlink:actuate=\"onRequest\" xlink:href=\"psysml:df5824e0-bb07-4266-b9ed-97217b9e7a59\" xlink:show=\"new\" xlink:title=\"psysml:df5824e0-bb07-4266-b9ed-97217b9e7a59\" xlink:type=\"simple\"><path d=\"M700.76,124.88 C686.82,123.41 661.06,120.92 639,120 C476.47,113.24 435.53,113.24 273,120 C253.36,120.82 230.77,122.88 216.22,124.36 \" fill=\"none\" id=\"E7-&gt;E4\" style=\"stroke: #383838; stroke-width: 1.0;\"/><polygon fill=\"#383838\" points=\"211.24,124.88,220.6038,127.9327,216.2135,124.3655,219.7806,119.9751,211.24,124.88\" style=\"stroke: #383838; stroke-width: 1.0;\"/><text fill=\"#000000\" font-family=\"sans-serif\" font-size=\"13\" lengthAdjust=\"spacingAndGlyphs\" textLength=\"36\" x=\"444\" y=\"111.0669\">[true]</text><text fill=\"#000000\" font-family=\"sans-serif\" font-size=\"13\" lengthAdjust=\"spacingAndGlyphs\" textLength=\"7\" x=\"219.8998\" y=\"140.7342\">*</text></a><!--MD5=[cfef727edce2fbba706f23e6b9b08ad5]\n",
       "@startuml\r\n",
       "left to right direction\r\n",
       "skinparam monochrome true\r\n",
       "skinparam classbackgroundcolor white\r\n",
       "skinparam shadowing false\r\n",
       "skinparam wrapWidth 300\r\n",
       "hide circle\r\n",
       "\r\n",
       "package \"ActionTest\" as E1  [[psysml:a2683da9-1b6e-41fc-828a-cc7d1e5b2935 ]]  {\r\n",
       "comp def \"S\" as E2  <<(T,blue) attribute def>> [[psysml:9c87d4ab-cb1d-4b31-8fcd-81209805f4cd ]] {\r\n",
       "}\r\n",
       "rec usage \"a\" as E3  <<(T,blue) action>> [[psysml:88e0a3c5-b7f9-4d13-8306-ae5e61691436 ]] {\r\n",
       "choice \"m\" as E4  [[psysml:207ebb71-0108-47ac-8eb2-03003f2402f5 ]] \r\n",
       "accept \" S\" as E5 << accept action>> [[psysml:56f9bc80-23d6-47f0-bfbf-c5e902f86ac6 ]] \r\n",
       "send \" S() to  B()\" as E6 << send action>> [[psysml:baf32606-26e9-4cc3-a29f-e775486b01d7 ]] \r\n",
       "choice \"<s>noname</s>\" as E7  [[psysml:de118d49-a158-4609-b10e-b605b2688318 ]] \r\n",
       "[*] - -> E4 [[psysml:fb7d5adc-5880-4810-9813-86e53c07f96a ]] \r\n",
       "E7  - -> [*] [[psysml:c9de1ce8-1045-4471-9685-45647676290c ]] \r\n",
       "}\r\n",
       "\r\n",
       "rec def \"B\" as E8  <<(T,blue) action def>> [[psysml:79d3a6ab-38cc-49fb-ab8f-d1828ed09a3c ]] {\r\n",
       "}\r\n",
       "\r\n",
       "}\r\n",
       "E4 - -> \"*\"E5 [[psysml:674af9b4-5477-4a2d-9c32-c1d49aef2cdc ]] \r\n",
       "E5 - -> \"*\"E6 [[psysml:f1d57d75-7b92-4f65-894e-3c0dce6664b2 ]] \r\n",
       "E6 - -> \"*\"E7 [[psysml:5bbe4286-aec7-454e-8b07-ff0b44373e66 ]] \r\n",
       "E7  - -> \"*\"E4 [[psysml:df5824e0-bb07-4266-b9ed-97217b9e7a59 ]] : [true]\r\n",
       "@enduml\r\n",
       "\n",
       "PlantUML version 1.2020.13(Sat Jun 13 12:26:38 UTC 2020)\n",
       "(EPL source distribution)\n",
       "Java Runtime: OpenJDK Runtime Environment\n",
       "JVM: OpenJDK 64-Bit Server VM\n",
       "Default Encoding: UTF-8\n",
       "Language: en\n",
       "Country: null\n",
       "--></g></svg>"
      ]
     },
     "execution_count": 22,
     "metadata": {},
     "output_type": "execute_result"
    }
   ],
   "source": [
    "%viz --style=\"LR\" --view=\"MIXED\" \"ActionTest\""
   ]
  },
  {
   "cell_type": "code",
   "execution_count": 23,
   "id": "1e2de4b4",
   "metadata": {
    "execution": {
     "iopub.execute_input": "2021-09-27T07:16:55.907448Z",
     "iopub.status.busy": "2021-09-27T07:16:55.907048Z",
     "iopub.status.idle": "2021-09-27T07:16:55.956044Z",
     "shell.execute_reply": "2021-09-27T07:16:55.955667Z"
    }
   },
   "outputs": [
    {
     "data": {
      "image/svg+xml": [
       "<?xml version=\"1.0\" encoding=\"UTF-8\" standalone=\"no\"?><svg xmlns=\"http://www.w3.org/2000/svg\" xmlns:xlink=\"http://www.w3.org/1999/xlink\" contentScriptType=\"application/ecmascript\" contentStyleType=\"text/css\" height=\"684px\" preserveAspectRatio=\"none\" style=\"width:518px;height:684px;\" version=\"1.1\" viewBox=\"0 0 518 684\" width=\"518px\" zoomAndPan=\"magnify\"><defs><filter height=\"300%\" id=\"f1b8u7fpxhz4md\" width=\"300%\" x=\"-1\" y=\"-1\"><feGaussianBlur result=\"blurOut\" stdDeviation=\"2.0\"/><feColorMatrix in=\"blurOut\" result=\"blurOut2\" type=\"matrix\" values=\"0 0 0 0 0 0 0 0 0 0 0 0 0 0 0 0 0 0 .4 0\"/><feOffset dx=\"4.0\" dy=\"4.0\" in=\"blurOut2\" result=\"blurOut3\"/><feBlend in=\"SourceGraphic\" in2=\"blurOut3\" mode=\"normal\"/></filter></defs><g><!--MD5=[fbc87193dbaf4d95561dea2c320d4a47]\n",
       "cluster E1--><a href=\"psysml:a2683da9-1b6e-41fc-828a-cc7d1e5b2935\" target=\"_top\" title=\"psysml:a2683da9-1b6e-41fc-828a-cc7d1e5b2935\" xlink:actuate=\"onRequest\" xlink:href=\"psysml:a2683da9-1b6e-41fc-828a-cc7d1e5b2935\" xlink:show=\"new\" xlink:title=\"psysml:a2683da9-1b6e-41fc-828a-cc7d1e5b2935\" xlink:type=\"simple\"><polygon fill=\"#FFFFFF\" filter=\"url(#f1b8u7fpxhz4md)\" points=\"16,6,96,6,103,28.2969,496,28.2969,496,672,16,672,16,6\" style=\"stroke: #000000; stroke-width: 1.5;\"/><line style=\"stroke: #000000; stroke-width: 1.5;\" x1=\"16\" x2=\"103\" y1=\"28.2969\" y2=\"28.2969\"/><text fill=\"#000000\" font-family=\"sans-serif\" font-size=\"14\" font-weight=\"bold\" lengthAdjust=\"spacingAndGlyphs\" textLength=\"74\" x=\"20\" y=\"20.9951\">ActionTest</text></a><!--MD5=[d5e69f78d87373223dbae638b30a9c99]\n",
       "cluster E3--><a href=\"psysml:88e0a3c5-b7f9-4d13-8306-ae5e61691436\" target=\"_top\" title=\"psysml:88e0a3c5-b7f9-4d13-8306-ae5e61691436\" xlink:actuate=\"onRequest\" xlink:href=\"psysml:88e0a3c5-b7f9-4d13-8306-ae5e61691436\" xlink:show=\"new\" xlink:title=\"psysml:88e0a3c5-b7f9-4d13-8306-ae5e61691436\" xlink:type=\"simple\"><rect fill=\"#FFFFFF\" filter=\"url(#f1b8u7fpxhz4md)\" height=\"599\" id=\"E3\" rx=\"10\" ry=\"10\" style=\"stroke: #A80036; stroke-width: 1.5;\" width=\"209\" x=\"263\" y=\"49\"/><rect fill=\"#FEFECE\" height=\"37.9375\" rx=\"10\" ry=\"10\" style=\"stroke: #FEFECE; stroke-width: 1.5;\" width=\"209\" x=\"263\" y=\"49\"/><rect fill=\"#FEFECE\" height=\"10\" style=\"stroke: #FEFECE; stroke-width: 1.5;\" width=\"209\" x=\"263\" y=\"76.9375\"/><rect fill=\"none\" height=\"599\" id=\"E3\" rx=\"10\" ry=\"10\" style=\"stroke: #A80036; stroke-width: 1.5;\" width=\"209\" x=\"263\" y=\"49\"/><text fill=\"#000000\" font-family=\"sans-serif\" font-size=\"12\" font-style=\"italic\" lengthAdjust=\"spacingAndGlyphs\" textLength=\"53\" x=\"341\" y=\"65.1387\">«action»</text><text fill=\"#000000\" font-family=\"sans-serif\" font-size=\"12\" lengthAdjust=\"spacingAndGlyphs\" textLength=\"8\" x=\"363.5\" y=\"79.1074\">a</text><line style=\"stroke: #A80036; stroke-width: 1.0;\" x1=\"263\" x2=\"472\" y1=\"86.9375\" y2=\"86.9375\"/></a><!--MD5=[b4997ac47864f28c2f74865a473b2911]\n",
       "class E2--><a href=\"psysml:9c87d4ab-cb1d-4b31-8fcd-81209805f4cd\" target=\"_top\" title=\"psysml:9c87d4ab-cb1d-4b31-8fcd-81209805f4cd\" xlink:actuate=\"onRequest\" xlink:href=\"psysml:9c87d4ab-cb1d-4b31-8fcd-81209805f4cd\" xlink:show=\"new\" xlink:title=\"psysml:9c87d4ab-cb1d-4b31-8fcd-81209805f4cd\" xlink:type=\"simple\"><rect fill=\"#FEFECE\" filter=\"url(#f1b8u7fpxhz4md)\" height=\"45.9375\" id=\"E2\" style=\"stroke: #A80036; stroke-width: 1.5;\" width=\"95\" x=\"151.5\" y=\"87\"/><text fill=\"#000000\" font-family=\"sans-serif\" font-size=\"12\" font-style=\"italic\" lengthAdjust=\"spacingAndGlyphs\" textLength=\"93\" x=\"152.5\" y=\"103.1387\">«attribute def»</text><text fill=\"#000000\" font-family=\"sans-serif\" font-size=\"12\" lengthAdjust=\"spacingAndGlyphs\" textLength=\"8\" x=\"195\" y=\"117.1074\">S</text><line style=\"stroke: #A80036; stroke-width: 1.5;\" x1=\"152.5\" x2=\"245.5\" y1=\"124.9375\" y2=\"124.9375\"/></a><polygon fill=\"#FEFECE\" filter=\"url(#f1b8u7fpxhz4md)\" points=\"420,194,432,206,420,218,408,206,420,194\" style=\"stroke: #A80036; stroke-width: 1.5;\"/><!--MD5=[21dd76c19d33815960c0e92fef8f0eef]\n",
       "entity E5--><a href=\"psysml:56f9bc80-23d6-47f0-bfbf-c5e902f86ac6\" target=\"_top\" title=\"psysml:56f9bc80-23d6-47f0-bfbf-c5e902f86ac6\" xlink:actuate=\"onRequest\" xlink:href=\"psysml:56f9bc80-23d6-47f0-bfbf-c5e902f86ac6\" xlink:show=\"new\" xlink:title=\"psysml:56f9bc80-23d6-47f0-bfbf-c5e902f86ac6\" xlink:type=\"simple\"><polygon fill=\"#FEFECE\" filter=\"url(#f1b8u7fpxhz4md)\" points=\"279,279,279,333.5938,419,333.5938,399,306.2969,419,279\" style=\"stroke: #000000; stroke-width: 1.5;\"/><text fill=\"#000000\" font-family=\"sans-serif\" font-size=\"14\" font-style=\"italic\" lengthAdjust=\"spacingAndGlyphs\" textLength=\"111\" x=\"286\" y=\"301.9951\">«accept action»</text><text fill=\"#000000\" font-family=\"sans-serif\" font-size=\"14\" lengthAdjust=\"spacingAndGlyphs\" textLength=\"9\" x=\"337\" y=\"319.292\">S</text></a><!--MD5=[24d87cdf3002d433f401b2a2aa9f9f65]\n",
       "entity E6--><a href=\"psysml:baf32606-26e9-4cc3-a29f-e775486b01d7\" target=\"_top\" title=\"psysml:baf32606-26e9-4cc3-a29f-e775486b01d7\" xlink:actuate=\"onRequest\" xlink:href=\"psysml:baf32606-26e9-4cc3-a29f-e775486b01d7\" xlink:show=\"new\" xlink:title=\"psysml:baf32606-26e9-4cc3-a29f-e775486b01d7\" xlink:type=\"simple\"><polygon fill=\"#FEFECE\" filter=\"url(#f1b8u7fpxhz4md)\" points=\"279,411,279,465.5938,387,465.5938,407,438.2969,387,411\" style=\"stroke: #000000; stroke-width: 1.5;\"/><text fill=\"#000000\" font-family=\"sans-serif\" font-size=\"14\" font-style=\"italic\" lengthAdjust=\"spacingAndGlyphs\" textLength=\"99\" x=\"286\" y=\"433.9951\">«send action»</text><text fill=\"#000000\" font-family=\"sans-serif\" font-size=\"14\" lengthAdjust=\"spacingAndGlyphs\" textLength=\"65\" x=\"303\" y=\"451.292\">S() to  B()</text></a><polygon fill=\"#FEFECE\" filter=\"url(#f1b8u7fpxhz4md)\" points=\"418,527,430,539,418,551,406,539,418,527\" style=\"stroke: #A80036; stroke-width: 1.5;\"/><ellipse cx=\"420\" cy=\"110\" fill=\"#000000\" filter=\"url(#f1b8u7fpxhz4md)\" rx=\"10\" ry=\"10\" style=\"stroke: none; stroke-width: 1.0;\"/><ellipse cx=\"418\" cy=\"622\" fill=\"none\" filter=\"url(#f1b8u7fpxhz4md)\" rx=\"10\" ry=\"10\" style=\"stroke: #000000; stroke-width: 1.0;\"/><ellipse cx=\"418.5\" cy=\"622.5\" fill=\"#000000\" rx=\"6\" ry=\"6\" style=\"stroke: none; stroke-width: 1.0;\"/><g id=\"E1.E8\"><a href=\"psysml:79d3a6ab-38cc-49fb-ab8f-d1828ed09a3c\" target=\"_top\" title=\"psysml:79d3a6ab-38cc-49fb-ab8f-d1828ed09a3c\" xlink:actuate=\"onRequest\" xlink:href=\"psysml:79d3a6ab-38cc-49fb-ab8f-d1828ed09a3c\" xlink:show=\"new\" xlink:title=\"psysml:79d3a6ab-38cc-49fb-ab8f-d1828ed09a3c\" xlink:type=\"simple\"><rect fill=\"#FEFECE\" filter=\"url(#f1b8u7fpxhz4md)\" height=\"42.9375\" id=\"E8\" style=\"stroke: #A80036; stroke-width: 1.5;\" width=\"84\" x=\"32\" y=\"88.5\"/><text fill=\"#000000\" font-family=\"sans-serif\" font-size=\"12\" font-style=\"italic\" lengthAdjust=\"spacingAndGlyphs\" textLength=\"77\" x=\"35.5\" y=\"104.6387\">«action def»</text><text fill=\"#000000\" font-family=\"sans-serif\" font-size=\"12\" lengthAdjust=\"spacingAndGlyphs\" textLength=\"8\" x=\"70\" y=\"118.6074\">B</text></a></g><!--MD5=[f47e10efcf9a6752d55dae986d790ed9]\n",
       "link *start*E3 to E4--><a href=\"psysml:fb7d5adc-5880-4810-9813-86e53c07f96a\" target=\"_top\" title=\"psysml:fb7d5adc-5880-4810-9813-86e53c07f96a\" xlink:actuate=\"onRequest\" xlink:href=\"psysml:fb7d5adc-5880-4810-9813-86e53c07f96a\" xlink:show=\"new\" xlink:title=\"psysml:fb7d5adc-5880-4810-9813-86e53c07f96a\" xlink:type=\"simple\"><path d=\"M420,120.01 C420,135.81 420,168.69 420,188.61 \" fill=\"none\" id=\"*start*E3-&gt;E4\" style=\"stroke: #A80036; stroke-width: 1.0;\"/><polygon fill=\"#A80036\" points=\"420,193.85,424,184.85,420,188.85,416,184.85,420,193.85\" style=\"stroke: #A80036; stroke-width: 1.0;\"/></a><!--MD5=[d19f2eb34364d71b67042106d92f540b]\n",
       "link E7 to *end*E3--><a href=\"psysml:c9de1ce8-1045-4471-9685-45647676290c\" target=\"_top\" title=\"psysml:c9de1ce8-1045-4471-9685-45647676290c\" xlink:actuate=\"onRequest\" xlink:href=\"psysml:c9de1ce8-1045-4471-9685-45647676290c\" xlink:show=\"new\" xlink:title=\"psysml:c9de1ce8-1045-4471-9685-45647676290c\" xlink:type=\"simple\"><path d=\"M418,551.26 C418,565.66 418,590.63 418,606.46 \" fill=\"none\" id=\"E7-&gt;*end*E3\" style=\"stroke: #A80036; stroke-width: 1.0;\"/><polygon fill=\"#A80036\" points=\"418,611.84,422,602.84,418,606.84,414,602.84,418,611.84\" style=\"stroke: #A80036; stroke-width: 1.0;\"/></a><!--MD5=[1b7591eae5389033d8d09a9d6721a717]\n",
       "link E4 to E5--><a href=\"psysml:674af9b4-5477-4a2d-9c32-c1d49aef2cdc\" target=\"_top\" title=\"psysml:674af9b4-5477-4a2d-9c32-c1d49aef2cdc\" xlink:actuate=\"onRequest\" xlink:href=\"psysml:674af9b4-5477-4a2d-9c32-c1d49aef2cdc\" xlink:show=\"new\" xlink:title=\"psysml:674af9b4-5477-4a2d-9c32-c1d49aef2cdc\" xlink:type=\"simple\"><path d=\"M415.34,213.46 C406.55,225.66 386.99,252.8 371.37,274.46 \" fill=\"none\" id=\"E4-&gt;E5\" style=\"stroke: #A80036; stroke-width: 1.0;\"/><polygon fill=\"#A80036\" points=\"368.31,278.71,376.8093,273.7339,371.227,274.6491,370.3119,269.0667,368.31,278.71\" style=\"stroke: #A80036; stroke-width: 1.0;\"/><text fill=\"#000000\" font-family=\"sans-serif\" font-size=\"13\" lengthAdjust=\"spacingAndGlyphs\" textLength=\"7\" x=\"364.7684\" y=\"268.1162\">*</text></a><!--MD5=[9120cf2e5df3bff93db8f754bbbc09b4]\n",
       "link E5 to E6--><a href=\"psysml:f1d57d75-7b92-4f65-894e-3c0dce6664b2\" target=\"_top\" title=\"psysml:f1d57d75-7b92-4f65-894e-3c0dce6664b2\" xlink:actuate=\"onRequest\" xlink:href=\"psysml:f1d57d75-7b92-4f65-894e-3c0dce6664b2\" xlink:show=\"new\" xlink:title=\"psysml:f1d57d75-7b92-4f65-894e-3c0dce6664b2\" xlink:type=\"simple\"><path d=\"M347.77,334.12 C346.81,354.89 345.48,383.8 344.46,405.77 \" fill=\"none\" id=\"E5-&gt;E6\" style=\"stroke: #A80036; stroke-width: 1.0;\"/><polygon fill=\"#A80036\" points=\"344.23,410.91,348.6368,402.1021,344.4583,405.9152,340.6452,401.7367,344.23,410.91\" style=\"stroke: #A80036; stroke-width: 1.0;\"/><text fill=\"#000000\" font-family=\"sans-serif\" font-size=\"13\" lengthAdjust=\"spacingAndGlyphs\" textLength=\"7\" x=\"336.7051\" y=\"399.9247\">*</text></a><!--MD5=[02c70b7c851c11e3980e4e90450dc5dd]\n",
       "link E6 to E7--><a href=\"psysml:5bbe4286-aec7-454e-8b07-ff0b44373e66\" target=\"_top\" title=\"psysml:5bbe4286-aec7-454e-8b07-ff0b44373e66\" xlink:actuate=\"onRequest\" xlink:href=\"psysml:5bbe4286-aec7-454e-8b07-ff0b44373e66\" xlink:show=\"new\" xlink:title=\"psysml:5bbe4286-aec7-454e-8b07-ff0b44373e66\" xlink:type=\"simple\"><path d=\"M363.3,466.16 C378.71,486.4 399.07,513.14 410.09,527.61 \" fill=\"none\" id=\"E6-&gt;E7\" style=\"stroke: #A80036; stroke-width: 1.0;\"/><polygon fill=\"#A80036\" points=\"413.2,531.69,410.9398,522.104,410.1749,527.7089,404.57,526.9441,413.2,531.69\" style=\"stroke: #A80036; stroke-width: 1.0;\"/><text fill=\"#000000\" font-family=\"sans-serif\" font-size=\"13\" lengthAdjust=\"spacingAndGlyphs\" textLength=\"7\" x=\"398.9375\" y=\"515.8563\">*</text></a><!--MD5=[6bdd27f9905911a7e892a3dc65cf6b7c]\n",
       "link E7 to E4--><a href=\"psysml:df5824e0-bb07-4266-b9ed-97217b9e7a59\" target=\"_top\" title=\"psysml:df5824e0-bb07-4266-b9ed-97217b9e7a59\" xlink:actuate=\"onRequest\" xlink:href=\"psysml:df5824e0-bb07-4266-b9ed-97217b9e7a59\" xlink:show=\"new\" xlink:title=\"psysml:df5824e0-bb07-4266-b9ed-97217b9e7a59\" xlink:type=\"simple\"><path d=\"M419.98,528.56 C426.8,494.71 448.32,376.18 437,279 C434.59,258.32 428.42,234.96 424.21,220.61 \" fill=\"none\" id=\"E7-&gt;E4\" style=\"stroke: #A80036; stroke-width: 1.0;\"/><polygon fill=\"#A80036\" points=\"422.76,215.75,421.4935,225.5171,424.1863,220.5423,429.1611,223.2351,422.76,215.75\" style=\"stroke: #A80036; stroke-width: 1.0;\"/><text fill=\"#000000\" font-family=\"sans-serif\" font-size=\"13\" lengthAdjust=\"spacingAndGlyphs\" textLength=\"36\" x=\"440\" y=\"377.0669\">[true]</text><text fill=\"#000000\" font-family=\"sans-serif\" font-size=\"13\" lengthAdjust=\"spacingAndGlyphs\" textLength=\"7\" x=\"415.3253\" y=\"237.9903\">*</text></a><!--MD5=[5cbd2b88e02efc884992ed1fba043876]\n",
       "@startuml\r\n",
       "skinparam wrapWidth 300\r\n",
       "hide circle\r\n",
       "\r\n",
       "package \"ActionTest\" as E1  [[psysml:a2683da9-1b6e-41fc-828a-cc7d1e5b2935 ]]  {\r\n",
       "comp def \"S\" as E2  <<(T,blue) attribute def>> [[psysml:9c87d4ab-cb1d-4b31-8fcd-81209805f4cd ]] {\r\n",
       "}\r\n",
       "rec usage \"a\" as E3  <<(T,blue) action>> [[psysml:88e0a3c5-b7f9-4d13-8306-ae5e61691436 ]] {\r\n",
       "choice \"m\" as E4  [[psysml:207ebb71-0108-47ac-8eb2-03003f2402f5 ]] \r\n",
       "accept \" S\" as E5 << accept action>> [[psysml:56f9bc80-23d6-47f0-bfbf-c5e902f86ac6 ]] \r\n",
       "send \" S() to  B()\" as E6 << send action>> [[psysml:baf32606-26e9-4cc3-a29f-e775486b01d7 ]] \r\n",
       "choice \"<s>noname</s>\" as E7  [[psysml:de118d49-a158-4609-b10e-b605b2688318 ]] \r\n",
       "[*] - -> E4 [[psysml:fb7d5adc-5880-4810-9813-86e53c07f96a ]] \r\n",
       "E7  - -> [*] [[psysml:c9de1ce8-1045-4471-9685-45647676290c ]] \r\n",
       "}\r\n",
       "\r\n",
       "rec def \"B\" as E8  <<(T,blue) action def>> [[psysml:79d3a6ab-38cc-49fb-ab8f-d1828ed09a3c ]] {\r\n",
       "}\r\n",
       "\r\n",
       "}\r\n",
       "E4 - -> \"*\"E5 [[psysml:674af9b4-5477-4a2d-9c32-c1d49aef2cdc ]] \r\n",
       "E5 - -> \"*\"E6 [[psysml:f1d57d75-7b92-4f65-894e-3c0dce6664b2 ]] \r\n",
       "E6 - -> \"*\"E7 [[psysml:5bbe4286-aec7-454e-8b07-ff0b44373e66 ]] \r\n",
       "E7  - -> \"*\"E4 [[psysml:df5824e0-bb07-4266-b9ed-97217b9e7a59 ]] : [true]\r\n",
       "@enduml\r\n",
       "\n",
       "PlantUML version 1.2020.13(Sat Jun 13 12:26:38 UTC 2020)\n",
       "(EPL source distribution)\n",
       "Java Runtime: OpenJDK Runtime Environment\n",
       "JVM: OpenJDK 64-Bit Server VM\n",
       "Default Encoding: UTF-8\n",
       "Language: en\n",
       "Country: null\n",
       "--></g></svg>"
      ]
     },
     "execution_count": 23,
     "metadata": {},
     "output_type": "execute_result"
    }
   ],
   "source": [
    "%viz --style=\"STDCOLOR\" --view=\"Default\" \"ActionTest\""
   ]
  },
  {
   "cell_type": "code",
   "execution_count": 24,
   "id": "89890f8e",
   "metadata": {
    "execution": {
     "iopub.execute_input": "2021-09-27T07:16:56.006019Z",
     "iopub.status.busy": "2021-09-27T07:16:56.005389Z",
     "iopub.status.idle": "2021-09-27T07:16:56.043205Z",
     "shell.execute_reply": "2021-09-27T07:16:56.042836Z"
    }
   },
   "outputs": [
    {
     "data": {
      "image/svg+xml": [
       "<?xml version=\"1.0\" encoding=\"UTF-8\" standalone=\"no\"?><svg xmlns=\"http://www.w3.org/2000/svg\" xmlns:xlink=\"http://www.w3.org/1999/xlink\" contentScriptType=\"application/ecmascript\" contentStyleType=\"text/css\" height=\"327px\" preserveAspectRatio=\"none\" style=\"width:677px;height:327px;\" version=\"1.1\" viewBox=\"0 0 677 327\" width=\"677px\" zoomAndPan=\"magnify\"><defs><filter height=\"300%\" id=\"fvgbioj97ohma\" width=\"300%\" x=\"-1\" y=\"-1\"><feGaussianBlur result=\"blurOut\" stdDeviation=\"2.0\"/><feColorMatrix in=\"blurOut\" result=\"blurOut2\" type=\"matrix\" values=\"0 0 0 0 0 0 0 0 0 0 0 0 0 0 0 0 0 0 .4 0\"/><feOffset dx=\"4.0\" dy=\"4.0\" in=\"blurOut2\" result=\"blurOut3\"/><feBlend in=\"SourceGraphic\" in2=\"blurOut3\" mode=\"normal\"/></filter></defs><g><!--MD5=[fbc87193dbaf4d95561dea2c320d4a47]\n",
       "cluster E1--><a href=\"psysml:a2683da9-1b6e-41fc-828a-cc7d1e5b2935\" target=\"_top\" title=\"psysml:a2683da9-1b6e-41fc-828a-cc7d1e5b2935\" xlink:actuate=\"onRequest\" xlink:href=\"psysml:a2683da9-1b6e-41fc-828a-cc7d1e5b2935\" xlink:show=\"new\" xlink:title=\"psysml:a2683da9-1b6e-41fc-828a-cc7d1e5b2935\" xlink:type=\"simple\"><polygon fill=\"#FFFFFF\" filter=\"url(#fvgbioj97ohma)\" points=\"16,6,96,6,103,28.2969,655,28.2969,655,315,16,315,16,6\" style=\"stroke: #000000; stroke-width: 1.5;\"/><line style=\"stroke: #000000; stroke-width: 1.5;\" x1=\"16\" x2=\"103\" y1=\"28.2969\" y2=\"28.2969\"/><text fill=\"#000000\" font-family=\"sans-serif\" font-size=\"14\" font-weight=\"bold\" lengthAdjust=\"spacingAndGlyphs\" textLength=\"74\" x=\"20\" y=\"20.9951\">ActionTest</text></a><!--MD5=[b4997ac47864f28c2f74865a473b2911]\n",
       "class E2--><a href=\"psysml:9c87d4ab-cb1d-4b31-8fcd-81209805f4cd\" target=\"_top\" title=\"psysml:9c87d4ab-cb1d-4b31-8fcd-81209805f4cd\" xlink:actuate=\"onRequest\" xlink:href=\"psysml:9c87d4ab-cb1d-4b31-8fcd-81209805f4cd\" xlink:show=\"new\" xlink:title=\"psysml:9c87d4ab-cb1d-4b31-8fcd-81209805f4cd\" xlink:type=\"simple\"><rect fill=\"#FEFECE\" filter=\"url(#fvgbioj97ohma)\" height=\"45.9375\" id=\"E2\" style=\"stroke: #A80036; stroke-width: 1.5;\" width=\"95\" x=\"278.5\" y=\"253\"/><text fill=\"#000000\" font-family=\"sans-serif\" font-size=\"12\" font-style=\"italic\" lengthAdjust=\"spacingAndGlyphs\" textLength=\"93\" x=\"279.5\" y=\"269.1387\">«attribute def»</text><text fill=\"#000000\" font-family=\"sans-serif\" font-size=\"12\" lengthAdjust=\"spacingAndGlyphs\" textLength=\"8\" x=\"322\" y=\"283.1074\">S</text><line style=\"stroke: #A80036; stroke-width: 1.5;\" x1=\"279.5\" x2=\"372.5\" y1=\"290.9375\" y2=\"290.9375\"/></a><!--MD5=[09b614a08d8cba4a07c9adeb5e0fee81]\n",
       "class E3--><a href=\"psysml:88e0a3c5-b7f9-4d13-8306-ae5e61691436\" target=\"_top\" title=\"psysml:88e0a3c5-b7f9-4d13-8306-ae5e61691436\" xlink:actuate=\"onRequest\" xlink:href=\"psysml:88e0a3c5-b7f9-4d13-8306-ae5e61691436\" xlink:show=\"new\" xlink:title=\"psysml:88e0a3c5-b7f9-4d13-8306-ae5e61691436\" xlink:type=\"simple\"><rect fill=\"#FEFECE\" filter=\"url(#fvgbioj97ohma)\" height=\"45.9375\" id=\"E3\" rx=\"10\" ry=\"10\" style=\"stroke: #A80036; stroke-width: 1.5;\" width=\"55\" x=\"298.5\" y=\"41\"/><text fill=\"#000000\" font-family=\"sans-serif\" font-size=\"12\" font-style=\"italic\" lengthAdjust=\"spacingAndGlyphs\" textLength=\"53\" x=\"299.5\" y=\"57.1387\">«action»</text><text fill=\"#000000\" font-family=\"sans-serif\" font-size=\"12\" lengthAdjust=\"spacingAndGlyphs\" textLength=\"8\" x=\"322\" y=\"71.1074\">a</text><line style=\"stroke: #A80036; stroke-width: 1.5;\" x1=\"299.5\" x2=\"352.5\" y1=\"78.9375\" y2=\"78.9375\"/></a><!--MD5=[ebbe1d658d1005bcc118a6aa81145e00]\n",
       "class E4--><a href=\"psysml:ed24d8b9-3ec6-4590-a85f-1d8fbc6b009f\" target=\"_top\" title=\"psysml:ed24d8b9-3ec6-4590-a85f-1d8fbc6b009f\" xlink:actuate=\"onRequest\" xlink:href=\"psysml:ed24d8b9-3ec6-4590-a85f-1d8fbc6b009f\" xlink:show=\"new\" xlink:title=\"psysml:ed24d8b9-3ec6-4590-a85f-1d8fbc6b009f\" xlink:type=\"simple\"><rect fill=\"#FEFECE\" filter=\"url(#fvgbioj97ohma)\" height=\"45.9375\" id=\"E4\" rx=\"10\" ry=\"10\" style=\"stroke: #A80036; stroke-width: 1.5;\" width=\"83\" x=\"32.5\" y=\"147\"/><text fill=\"#000000\" font-family=\"sans-serif\" font-size=\"12\" font-style=\"italic\" lengthAdjust=\"spacingAndGlyphs\" textLength=\"53\" x=\"47.5\" y=\"163.1387\">«action»</text><text fill=\"#000000\" font-family=\"sans-serif\" font-size=\"12\" lengthAdjust=\"spacingAndGlyphs\" textLength=\"77\" x=\"35.5\" y=\"177.1074\">start: Action</text><line style=\"stroke: #A80036; stroke-width: 1.5;\" x1=\"33.5\" x2=\"114.5\" y1=\"184.9375\" y2=\"184.9375\"/></a><!--MD5=[270fce915f116d4de14055a7c1d9a0f3]\n",
       "class E5--><a href=\"psysml:207ebb71-0108-47ac-8eb2-03003f2402f5\" target=\"_top\" title=\"psysml:207ebb71-0108-47ac-8eb2-03003f2402f5\" xlink:actuate=\"onRequest\" xlink:href=\"psysml:207ebb71-0108-47ac-8eb2-03003f2402f5\" xlink:show=\"new\" xlink:title=\"psysml:207ebb71-0108-47ac-8eb2-03003f2402f5\" xlink:type=\"simple\"><rect fill=\"#FEFECE\" filter=\"url(#fvgbioj97ohma)\" height=\"45.9375\" id=\"E5\" rx=\"10\" ry=\"10\" style=\"stroke: #A80036; stroke-width: 1.5;\" width=\"89\" x=\"150.5\" y=\"147\"/><text fill=\"#000000\" font-family=\"sans-serif\" font-size=\"12\" font-style=\"italic\" lengthAdjust=\"spacingAndGlyphs\" textLength=\"87\" x=\"151.5\" y=\"163.1387\">«mergeNode»</text><text fill=\"#000000\" font-family=\"sans-serif\" font-size=\"12\" lengthAdjust=\"spacingAndGlyphs\" textLength=\"11\" x=\"189.5\" y=\"177.1074\">m</text><line style=\"stroke: #A80036; stroke-width: 1.5;\" x1=\"151.5\" x2=\"238.5\" y1=\"184.9375\" y2=\"184.9375\"/></a><!--MD5=[60a26617385b1d2d0262a64233df1f8d]\n",
       "class E6--><a href=\"psysml:56f9bc80-23d6-47f0-bfbf-c5e902f86ac6\" target=\"_top\" title=\"psysml:56f9bc80-23d6-47f0-bfbf-c5e902f86ac6\" xlink:actuate=\"onRequest\" xlink:href=\"psysml:56f9bc80-23d6-47f0-bfbf-c5e902f86ac6\" xlink:show=\"new\" xlink:title=\"psysml:56f9bc80-23d6-47f0-bfbf-c5e902f86ac6\" xlink:type=\"simple\"><rect fill=\"#FEFECE\" filter=\"url(#fvgbioj97ohma)\" height=\"45.9375\" id=\"E6\" rx=\"10\" ry=\"10\" style=\"stroke: #A80036; stroke-width: 1.5;\" width=\"102\" x=\"275\" y=\"147\"/><text fill=\"#000000\" font-family=\"sans-serif\" font-size=\"12\" font-style=\"italic\" lengthAdjust=\"spacingAndGlyphs\" textLength=\"100\" x=\"276\" y=\"163.1387\">«accept action»</text><text fill=\"#000000\" font-family=\"sans-serif\" font-size=\"12\" lengthAdjust=\"spacingAndGlyphs\" text-decoration=\"line-through\" textLength=\"51\" x=\"300.5\" y=\"177.1074\">noname</text><line style=\"stroke: #A80036; stroke-width: 1.5;\" x1=\"276\" x2=\"376\" y1=\"184.9375\" y2=\"184.9375\"/></a><!--MD5=[2156ba9850f5573cc1fc38a6a4b2f02b]\n",
       "class E7--><a href=\"psysml:baf32606-26e9-4cc3-a29f-e775486b01d7\" target=\"_top\" title=\"psysml:baf32606-26e9-4cc3-a29f-e775486b01d7\" xlink:actuate=\"onRequest\" xlink:href=\"psysml:baf32606-26e9-4cc3-a29f-e775486b01d7\" xlink:show=\"new\" xlink:title=\"psysml:baf32606-26e9-4cc3-a29f-e775486b01d7\" xlink:type=\"simple\"><rect fill=\"#FEFECE\" filter=\"url(#fvgbioj97ohma)\" height=\"45.9375\" id=\"E7\" rx=\"10\" ry=\"10\" style=\"stroke: #A80036; stroke-width: 1.5;\" width=\"90\" x=\"412\" y=\"147\"/><text fill=\"#000000\" font-family=\"sans-serif\" font-size=\"12\" font-style=\"italic\" lengthAdjust=\"spacingAndGlyphs\" textLength=\"88\" x=\"413\" y=\"163.1387\">«send action»</text><text fill=\"#000000\" font-family=\"sans-serif\" font-size=\"12\" lengthAdjust=\"spacingAndGlyphs\" text-decoration=\"line-through\" textLength=\"51\" x=\"431.5\" y=\"177.1074\">noname</text><line style=\"stroke: #A80036; stroke-width: 1.5;\" x1=\"413\" x2=\"501\" y1=\"184.9375\" y2=\"184.9375\"/></a><!--MD5=[b9389687b975829384b498ac4b7476b2]\n",
       "class E8--><a href=\"psysml:de118d49-a158-4609-b10e-b605b2688318\" target=\"_top\" title=\"psysml:de118d49-a158-4609-b10e-b605b2688318\" xlink:actuate=\"onRequest\" xlink:href=\"psysml:de118d49-a158-4609-b10e-b605b2688318\" xlink:show=\"new\" xlink:title=\"psysml:de118d49-a158-4609-b10e-b605b2688318\" xlink:type=\"simple\"><rect fill=\"#FEFECE\" filter=\"url(#fvgbioj97ohma)\" height=\"45.9375\" id=\"E8\" rx=\"10\" ry=\"10\" style=\"stroke: #A80036; stroke-width: 1.5;\" width=\"101\" x=\"537.5\" y=\"147\"/><text fill=\"#000000\" font-family=\"sans-serif\" font-size=\"12\" font-style=\"italic\" lengthAdjust=\"spacingAndGlyphs\" textLength=\"99\" x=\"538.5\" y=\"163.1387\">«decisionNode»</text><text fill=\"#000000\" font-family=\"sans-serif\" font-size=\"12\" lengthAdjust=\"spacingAndGlyphs\" text-decoration=\"line-through\" textLength=\"51\" x=\"562.5\" y=\"177.1074\">noname</text><line style=\"stroke: #A80036; stroke-width: 1.5;\" x1=\"538.5\" x2=\"637.5\" y1=\"184.9375\" y2=\"184.9375\"/></a><!--MD5=[fd4143e9d270a159db93a4ea2a975926]\n",
       "class E9--><a href=\"psysml:79d3a6ab-38cc-49fb-ab8f-d1828ed09a3c\" target=\"_top\" title=\"psysml:79d3a6ab-38cc-49fb-ab8f-d1828ed09a3c\" xlink:actuate=\"onRequest\" xlink:href=\"psysml:79d3a6ab-38cc-49fb-ab8f-d1828ed09a3c\" xlink:show=\"new\" xlink:title=\"psysml:79d3a6ab-38cc-49fb-ab8f-d1828ed09a3c\" xlink:type=\"simple\"><rect fill=\"#FEFECE\" filter=\"url(#fvgbioj97ohma)\" height=\"45.9375\" id=\"E9\" style=\"stroke: #A80036; stroke-width: 1.5;\" width=\"79\" x=\"108.5\" y=\"41\"/><text fill=\"#000000\" font-family=\"sans-serif\" font-size=\"12\" font-style=\"italic\" lengthAdjust=\"spacingAndGlyphs\" textLength=\"77\" x=\"109.5\" y=\"57.1387\">«action def»</text><text fill=\"#000000\" font-family=\"sans-serif\" font-size=\"12\" lengthAdjust=\"spacingAndGlyphs\" textLength=\"8\" x=\"144\" y=\"71.1074\">B</text><line style=\"stroke: #A80036; stroke-width: 1.5;\" x1=\"109.5\" x2=\"186.5\" y1=\"78.9375\" y2=\"78.9375\"/></a><!--MD5=[4672eba38e49728da53d11aeb285b987]\n",
       "reverse link E3 to E4--><a href=\"psysml:2bdfcbda-067f-4f9a-98d2-dcf2fb74ea33\" target=\"_top\" title=\"psysml:2bdfcbda-067f-4f9a-98d2-dcf2fb74ea33\" xlink:actuate=\"onRequest\" xlink:href=\"psysml:2bdfcbda-067f-4f9a-98d2-dcf2fb74ea33\" xlink:show=\"new\" xlink:title=\"psysml:2bdfcbda-067f-4f9a-98d2-dcf2fb74ea33\" xlink:type=\"simple\"><path d=\"M283.98,82.34 C237.32,101.6 162.45,132.5 115.85,151.73 \" fill=\"none\" id=\"E3&lt;-E4\" style=\"stroke: #A80036; stroke-width: 1.0; stroke-dasharray: 7.0,7.0;\"/><ellipse cx=\"290.6768\" cy=\"79.5863\" fill=\"#FFFFFF\" rx=\"8\" ry=\"8\" style=\"stroke: #A80036; stroke-width: 1.0;\"/><line style=\"stroke: #A80036; stroke-width: 1.0;\" x1=\"283.2837\" x2=\"298.07\" y1=\"82.6427\" y2=\"76.53\"/><line style=\"stroke: #A80036; stroke-width: 1.0;\" x1=\"287.6205\" x2=\"293.7332\" y1=\"72.1932\" y2=\"86.9795\"/></a><!--MD5=[191cde3d490a3f6d7bb551fe3ddca469]\n",
       "reverse link E3 to E5--><a href=\"psysml:5bed3b2f-97a8-4cc2-a775-cf545f437587\" target=\"_top\" title=\"psysml:5bed3b2f-97a8-4cc2-a775-cf545f437587\" xlink:actuate=\"onRequest\" xlink:href=\"psysml:5bed3b2f-97a8-4cc2-a775-cf545f437587\" xlink:show=\"new\" xlink:title=\"psysml:5bed3b2f-97a8-4cc2-a775-cf545f437587\" xlink:type=\"simple\"><path d=\"M287.79,95.33 C266.97,111.86 241.66,131.95 222.74,146.98 \" fill=\"none\" id=\"E3&lt;-E5\" style=\"stroke: #A80036; stroke-width: 1.0;\"/><polygon fill=\"#A80036\" points=\"298.22,87.06,291.0341,87.6625,288.8265,94.5273,296.0123,93.9249,298.22,87.06\" style=\"stroke: #A80036; stroke-width: 1.0;\"/><text fill=\"#000000\" font-family=\"sans-serif\" font-size=\"13\" lengthAdjust=\"spacingAndGlyphs\" textLength=\"7\" x=\"222.2545\" y=\"135.8709\">*</text></a><!--MD5=[1026b4b93417a13aa8999a858998add2]\n",
       "reverse link E3 to E6--><a href=\"psysml:856d4c40-3d8a-43fc-9608-49cee162593b\" target=\"_top\" title=\"psysml:856d4c40-3d8a-43fc-9608-49cee162593b\" xlink:actuate=\"onRequest\" xlink:href=\"psysml:856d4c40-3d8a-43fc-9608-49cee162593b\" xlink:show=\"new\" xlink:title=\"psysml:856d4c40-3d8a-43fc-9608-49cee162593b\" xlink:type=\"simple\"><path d=\"M326,100.44 C326,115.87 326,133.47 326,146.98 \" fill=\"none\" id=\"E3&lt;-E6\" style=\"stroke: #A80036; stroke-width: 1.0;\"/><polygon fill=\"#A80036\" points=\"326,87.06,322,93.06,326,99.06,330,93.06,326,87.06\" style=\"stroke: #A80036; stroke-width: 1.0;\"/><text fill=\"#000000\" font-family=\"sans-serif\" font-size=\"13\" lengthAdjust=\"spacingAndGlyphs\" textLength=\"7\" x=\"318.0594\" y=\"135.8709\">*</text></a><!--MD5=[3403bfa781cc3da0fd423dbab6f01c63]\n",
       "reverse link E6 to E2--><a href=\"psysml:1accd303-612e-4d59-ad9b-f522e5e57a44\" target=\"_top\" title=\"psysml:1accd303-612e-4d59-ad9b-f522e5e57a44\" xlink:actuate=\"onRequest\" xlink:href=\"psysml:1accd303-612e-4d59-ad9b-f522e5e57a44\" xlink:show=\"new\" xlink:title=\"psysml:1accd303-612e-4d59-ad9b-f522e5e57a44\" xlink:type=\"simple\"><path d=\"M326,206.44 C326,221.87 326,239.47 326,252.98 \" fill=\"none\" id=\"E6&lt;-E2\" style=\"stroke: #A80036; stroke-width: 1.0;\"/><polygon fill=\"#FFFFFF\" points=\"326,193.06,322,199.06,326,205.06,330,199.06,326,193.06\" style=\"stroke: #A80036; stroke-width: 1.0;\"/></a><!--MD5=[85760999379eecfd2565a9fecdca67e4]\n",
       "reverse link E3 to E7--><a href=\"psysml:a7054211-8666-4154-9247-2ebed4d34e27\" target=\"_top\" title=\"psysml:a7054211-8666-4154-9247-2ebed4d34e27\" xlink:actuate=\"onRequest\" xlink:href=\"psysml:a7054211-8666-4154-9247-2ebed4d34e27\" xlink:show=\"new\" xlink:title=\"psysml:a7054211-8666-4154-9247-2ebed4d34e27\" xlink:type=\"simple\"><path d=\"M364.21,95.33 C385.03,111.86 410.34,131.95 429.26,146.98 \" fill=\"none\" id=\"E3&lt;-E7\" style=\"stroke: #A80036; stroke-width: 1.0;\"/><polygon fill=\"#A80036\" points=\"353.78,87.06,355.9877,93.9249,363.1735,94.5273,360.9659,87.6625,353.78,87.06\" style=\"stroke: #A80036; stroke-width: 1.0;\"/><text fill=\"#000000\" font-family=\"sans-serif\" font-size=\"13\" lengthAdjust=\"spacingAndGlyphs\" textLength=\"7\" x=\"413.8642\" y=\"135.8709\">*</text></a><!--MD5=[4cb75b73ec3682b8f7f8edc9cc86126a]\n",
       "reverse link E3 to E8--><a href=\"psysml:6d3dd5fa-79f8-485d-9bbb-f558da8741e9\" target=\"_top\" title=\"psysml:6d3dd5fa-79f8-485d-9bbb-f558da8741e9\" xlink:actuate=\"onRequest\" xlink:href=\"psysml:6d3dd5fa-79f8-485d-9bbb-f558da8741e9\" xlink:show=\"new\" xlink:title=\"psysml:6d3dd5fa-79f8-485d-9bbb-f558da8741e9\" xlink:type=\"simple\"><path d=\"M365.63,80.73 C411.46,98.92 486.99,128.91 537.12,148.8 \" fill=\"none\" id=\"E3&lt;-E8\" style=\"stroke: #A80036; stroke-width: 1.0;\"/><polygon fill=\"#A80036\" points=\"353.54,75.93,357.6459,81.858,364.6971,80.348,360.5912,74.42,353.54,75.93\" style=\"stroke: #A80036; stroke-width: 1.0;\"/></a><!--MD5=[e8d8f98217bd441321d169a2cdb3ab9f]\n",
       "@startuml\r\n",
       "skinparam wrapWidth 300\r\n",
       "hide circle\r\n",
       "\r\n",
       "package \"ActionTest\" as E1  [[psysml:a2683da9-1b6e-41fc-828a-cc7d1e5b2935 ]]  {\r\n",
       "comp def \"S\" as E2  <<(T,blue) attribute def>> [[psysml:9c87d4ab-cb1d-4b31-8fcd-81209805f4cd ]] {\r\n",
       "}\r\n",
       "comp usage \"a\" as E3  <<(T,blue) action>> [[psysml:88e0a3c5-b7f9-4d13-8306-ae5e61691436 ]] {\r\n",
       "}\r\n",
       "comp usage \"start: Action\" as E4  <<(T,blue) action>> [[psysml:ed24d8b9-3ec6-4590-a85f-1d8fbc6b009f ]] {\r\n",
       "}\r\n",
       "comp usage \"m\" as E5  <<(T,blue) mergeNode>> [[psysml:207ebb71-0108-47ac-8eb2-03003f2402f5 ]] {\r\n",
       "}\r\n",
       "comp usage \"<s>noname</s>\" as E6 << accept action>> [[psysml:56f9bc80-23d6-47f0-bfbf-c5e902f86ac6 ]] {\r\n",
       "}\r\n",
       "comp usage \"<s>noname</s>\" as E7 << send action>> [[psysml:baf32606-26e9-4cc3-a29f-e775486b01d7 ]] {\r\n",
       "}\r\n",
       "comp usage \"<s>noname</s>\" as E8  <<(T,blue) decisionNode>> [[psysml:de118d49-a158-4609-b10e-b605b2688318 ]] {\r\n",
       "}\r\n",
       "comp def \"B\" as E9  <<(T,blue) action def>> [[psysml:79d3a6ab-38cc-49fb-ab8f-d1828ed09a3c ]] {\r\n",
       "}\r\n",
       "}\r\n",
       "E3 +.. E4 [[psysml:2bdfcbda-067f-4f9a-98d2-dcf2fb74ea33 ]] \r\n",
       "E3 *- - \"*\"E5 [[psysml:5bed3b2f-97a8-4cc2-a775-cf545f437587 ]] \r\n",
       "E3 *- - \"*\"E6 [[psysml:856d4c40-3d8a-43fc-9608-49cee162593b ]] \r\n",
       "E6 o- - E2 [[psysml:1accd303-612e-4d59-ad9b-f522e5e57a44 ]] \r\n",
       "E3 *- - \"*\"E7 [[psysml:a7054211-8666-4154-9247-2ebed4d34e27 ]] \r\n",
       "E3 *- - E8 [[psysml:6d3dd5fa-79f8-485d-9bbb-f558da8741e9 ]] \r\n",
       "@enduml\r\n",
       "\n",
       "PlantUML version 1.2020.13(Sat Jun 13 12:26:38 UTC 2020)\n",
       "(EPL source distribution)\n",
       "Java Runtime: OpenJDK Runtime Environment\n",
       "JVM: OpenJDK 64-Bit Server VM\n",
       "Default Encoding: UTF-8\n",
       "Language: en\n",
       "Country: null\n",
       "--></g></svg>"
      ]
     },
     "execution_count": 24,
     "metadata": {},
     "output_type": "execute_result"
    }
   ],
   "source": [
    "%viz --style=\"STDCOLOR\" --view=\"Tree\" \"ActionTest\""
   ]
  },
  {
   "cell_type": "code",
   "execution_count": 25,
   "id": "b76a9071",
   "metadata": {
    "execution": {
     "iopub.execute_input": "2021-09-27T07:16:56.092615Z",
     "iopub.status.busy": "2021-09-27T07:16:56.092217Z",
     "iopub.status.idle": "2021-09-27T07:16:56.096534Z",
     "shell.execute_reply": "2021-09-27T07:16:56.096845Z"
    }
   },
   "outputs": [
    {
     "data": {
      "image/svg+xml": [
       "<?xml version=\"1.0\" encoding=\"UTF-8\" standalone=\"no\"?><svg xmlns=\"http://www.w3.org/2000/svg\" xmlns:xlink=\"http://www.w3.org/1999/xlink\" contentScriptType=\"application/ecmascript\" contentStyleType=\"text/css\" height=\"12px\" preserveAspectRatio=\"none\" style=\"width:12px;height:12px;\" version=\"1.1\" viewBox=\"0 0 12 12\" width=\"12px\" zoomAndPan=\"magnify\"><defs/><g><!--MD5=[aeeef50f102b80d730deb6443d14f702]\n",
       "@startuml\r\n",
       "skinparam wrapWidth 300\r\n",
       "hide circle\r\n",
       "\r\n",
       "@enduml\r\n",
       "\n",
       "PlantUML version 1.2020.13(Sat Jun 13 12:26:38 UTC 2020)\n",
       "(EPL source distribution)\n",
       "Java Runtime: OpenJDK Runtime Environment\n",
       "JVM: OpenJDK 64-Bit Server VM\n",
       "Default Encoding: UTF-8\n",
       "Language: en\n",
       "Country: null\n",
       "--></g></svg>"
      ]
     },
     "execution_count": 25,
     "metadata": {},
     "output_type": "execute_result"
    }
   ],
   "source": [
    "%viz --style=\"STDCOLOR\" --view=\"State\" \"ActionTest\""
   ]
  },
  {
   "cell_type": "code",
   "execution_count": 26,
   "id": "2836a8c0",
   "metadata": {
    "execution": {
     "iopub.execute_input": "2021-09-27T07:16:56.147175Z",
     "iopub.status.busy": "2021-09-27T07:16:56.146742Z",
     "iopub.status.idle": "2021-09-27T07:16:56.194682Z",
     "shell.execute_reply": "2021-09-27T07:16:56.193052Z"
    }
   },
   "outputs": [
    {
     "data": {
      "image/svg+xml": [
       "<?xml version=\"1.0\" encoding=\"UTF-8\" standalone=\"no\"?><svg xmlns=\"http://www.w3.org/2000/svg\" xmlns:xlink=\"http://www.w3.org/1999/xlink\" contentScriptType=\"application/ecmascript\" contentStyleType=\"text/css\" height=\"462px\" preserveAspectRatio=\"none\" style=\"width:522px;height:462px;\" version=\"1.1\" viewBox=\"0 0 522 462\" width=\"522px\" zoomAndPan=\"magnify\"><defs><filter height=\"300%\" id=\"f7othtjd4xy9i\" width=\"300%\" x=\"-1\" y=\"-1\"><feGaussianBlur result=\"blurOut\" stdDeviation=\"2.0\"/><feColorMatrix in=\"blurOut\" result=\"blurOut2\" type=\"matrix\" values=\"0 0 0 0 0 0 0 0 0 0 0 0 0 0 0 0 0 0 .4 0\"/><feOffset dx=\"4.0\" dy=\"4.0\" in=\"blurOut2\" result=\"blurOut3\"/><feBlend in=\"SourceGraphic\" in2=\"blurOut3\" mode=\"normal\"/></filter></defs><g><!--MD5=[fbc87193dbaf4d95561dea2c320d4a47]\n",
       "cluster E1--><a href=\"psysml:a2683da9-1b6e-41fc-828a-cc7d1e5b2935\" target=\"_top\" title=\"psysml:a2683da9-1b6e-41fc-828a-cc7d1e5b2935\" xlink:actuate=\"onRequest\" xlink:href=\"psysml:a2683da9-1b6e-41fc-828a-cc7d1e5b2935\" xlink:show=\"new\" xlink:title=\"psysml:a2683da9-1b6e-41fc-828a-cc7d1e5b2935\" xlink:type=\"simple\"><polygon fill=\"#FFFFFF\" filter=\"url(#f7othtjd4xy9i)\" points=\"16,6,96,6,103,28.2969,500,28.2969,500,450.5,16,450.5,16,6\" style=\"stroke: #000000; stroke-width: 1.5;\"/><line style=\"stroke: #000000; stroke-width: 1.5;\" x1=\"16\" x2=\"103\" y1=\"28.2969\" y2=\"28.2969\"/><text fill=\"#000000\" font-family=\"sans-serif\" font-size=\"14\" font-weight=\"bold\" lengthAdjust=\"spacingAndGlyphs\" textLength=\"74\" x=\"20\" y=\"20.9951\">ActionTest</text></a><!--MD5=[d5e69f78d87373223dbae638b30a9c99]\n",
       "cluster E3--><a href=\"psysml:88e0a3c5-b7f9-4d13-8306-ae5e61691436\" target=\"_top\" title=\"psysml:88e0a3c5-b7f9-4d13-8306-ae5e61691436\" xlink:actuate=\"onRequest\" xlink:href=\"psysml:88e0a3c5-b7f9-4d13-8306-ae5e61691436\" xlink:show=\"new\" xlink:title=\"psysml:88e0a3c5-b7f9-4d13-8306-ae5e61691436\" xlink:type=\"simple\"><rect fill=\"#FFFFFF\" filter=\"url(#f7othtjd4xy9i)\" height=\"377.5\" id=\"E3\" rx=\"10\" ry=\"10\" style=\"stroke: #A80036; stroke-width: 1.5;\" width=\"209\" x=\"267\" y=\"49\"/><rect fill=\"#FEFECE\" height=\"37.9375\" rx=\"10\" ry=\"10\" style=\"stroke: #FEFECE; stroke-width: 1.5;\" width=\"209\" x=\"267\" y=\"49\"/><rect fill=\"#FEFECE\" height=\"10\" style=\"stroke: #FEFECE; stroke-width: 1.5;\" width=\"209\" x=\"267\" y=\"76.9375\"/><rect fill=\"none\" height=\"377.5\" id=\"E3\" rx=\"10\" ry=\"10\" style=\"stroke: #A80036; stroke-width: 1.5;\" width=\"209\" x=\"267\" y=\"49\"/><text fill=\"#000000\" font-family=\"sans-serif\" font-size=\"12\" font-style=\"italic\" lengthAdjust=\"spacingAndGlyphs\" textLength=\"53\" x=\"345\" y=\"65.1387\">«action»</text><text fill=\"#000000\" font-family=\"sans-serif\" font-size=\"12\" lengthAdjust=\"spacingAndGlyphs\" textLength=\"8\" x=\"367.5\" y=\"79.1074\">a</text><line style=\"stroke: #A80036; stroke-width: 1.0;\" x1=\"267\" x2=\"476\" y1=\"86.9375\" y2=\"86.9375\"/></a><g id=\"E1.E2\"><a href=\"psysml:9c87d4ab-cb1d-4b31-8fcd-81209805f4cd\" target=\"_top\" title=\"psysml:9c87d4ab-cb1d-4b31-8fcd-81209805f4cd\" xlink:actuate=\"onRequest\" xlink:href=\"psysml:9c87d4ab-cb1d-4b31-8fcd-81209805f4cd\" xlink:show=\"new\" xlink:title=\"psysml:9c87d4ab-cb1d-4b31-8fcd-81209805f4cd\" xlink:type=\"simple\"><rect fill=\"#FEFECE\" filter=\"url(#f7othtjd4xy9i)\" height=\"42.9375\" id=\"E2\" style=\"stroke: #A80036; stroke-width: 1.5;\" width=\"100\" x=\"151\" y=\"88.5\"/><text fill=\"#000000\" font-family=\"sans-serif\" font-size=\"12\" font-style=\"italic\" lengthAdjust=\"spacingAndGlyphs\" textLength=\"93\" x=\"154.5\" y=\"104.6387\">«attribute def»</text><text fill=\"#000000\" font-family=\"sans-serif\" font-size=\"12\" lengthAdjust=\"spacingAndGlyphs\" textLength=\"8\" x=\"197\" y=\"118.6074\">S</text></a></g><polygon fill=\"#FEFECE\" filter=\"url(#f7othtjd4xy9i)\" points=\"424,148.5,436,160.5,424,172.5,412,160.5,424,148.5\" style=\"stroke: #A80036; stroke-width: 1.5;\"/><!--MD5=[21dd76c19d33815960c0e92fef8f0eef]\n",
       "entity E5--><a href=\"psysml:56f9bc80-23d6-47f0-bfbf-c5e902f86ac6\" target=\"_top\" title=\"psysml:56f9bc80-23d6-47f0-bfbf-c5e902f86ac6\" xlink:actuate=\"onRequest\" xlink:href=\"psysml:56f9bc80-23d6-47f0-bfbf-c5e902f86ac6\" xlink:show=\"new\" xlink:title=\"psysml:56f9bc80-23d6-47f0-bfbf-c5e902f86ac6\" xlink:type=\"simple\"><polygon fill=\"#FEFECE\" filter=\"url(#f7othtjd4xy9i)\" points=\"283,189.5,283,244.0938,423,244.0938,403,216.7969,423,189.5\" style=\"stroke: #000000; stroke-width: 1.5;\"/><text fill=\"#000000\" font-family=\"sans-serif\" font-size=\"14\" font-style=\"italic\" lengthAdjust=\"spacingAndGlyphs\" textLength=\"111\" x=\"290\" y=\"212.4951\">«accept action»</text><text fill=\"#000000\" font-family=\"sans-serif\" font-size=\"14\" lengthAdjust=\"spacingAndGlyphs\" textLength=\"9\" x=\"341\" y=\"229.792\">S</text></a><!--MD5=[24d87cdf3002d433f401b2a2aa9f9f65]\n",
       "entity E6--><a href=\"psysml:baf32606-26e9-4cc3-a29f-e775486b01d7\" target=\"_top\" title=\"psysml:baf32606-26e9-4cc3-a29f-e775486b01d7\" xlink:actuate=\"onRequest\" xlink:href=\"psysml:baf32606-26e9-4cc3-a29f-e775486b01d7\" xlink:show=\"new\" xlink:title=\"psysml:baf32606-26e9-4cc3-a29f-e775486b01d7\" xlink:type=\"simple\"><polygon fill=\"#FEFECE\" filter=\"url(#f7othtjd4xy9i)\" points=\"283,277.5,283,332.0938,391,332.0938,411,304.7969,391,277.5\" style=\"stroke: #000000; stroke-width: 1.5;\"/><text fill=\"#000000\" font-family=\"sans-serif\" font-size=\"14\" font-style=\"italic\" lengthAdjust=\"spacingAndGlyphs\" textLength=\"99\" x=\"290\" y=\"300.4951\">«send action»</text><text fill=\"#000000\" font-family=\"sans-serif\" font-size=\"14\" lengthAdjust=\"spacingAndGlyphs\" textLength=\"65\" x=\"307\" y=\"317.792\">S() to  B()</text></a><polygon fill=\"#FEFECE\" filter=\"url(#f7othtjd4xy9i)\" points=\"422,349.5,434,361.5,422,373.5,410,361.5,422,349.5\" style=\"stroke: #A80036; stroke-width: 1.5;\"/><ellipse cx=\"424\" cy=\"110\" fill=\"#000000\" filter=\"url(#f7othtjd4xy9i)\" rx=\"10\" ry=\"10\" style=\"stroke: none; stroke-width: 1.0;\"/><ellipse cx=\"422\" cy=\"400.5\" fill=\"none\" filter=\"url(#f7othtjd4xy9i)\" rx=\"10\" ry=\"10\" style=\"stroke: #000000; stroke-width: 1.0;\"/><ellipse cx=\"422.5\" cy=\"401\" fill=\"#000000\" rx=\"6\" ry=\"6\" style=\"stroke: none; stroke-width: 1.0;\"/><g id=\"E1.E8\"><a href=\"psysml:79d3a6ab-38cc-49fb-ab8f-d1828ed09a3c\" target=\"_top\" title=\"psysml:79d3a6ab-38cc-49fb-ab8f-d1828ed09a3c\" xlink:actuate=\"onRequest\" xlink:href=\"psysml:79d3a6ab-38cc-49fb-ab8f-d1828ed09a3c\" xlink:show=\"new\" xlink:title=\"psysml:79d3a6ab-38cc-49fb-ab8f-d1828ed09a3c\" xlink:type=\"simple\"><rect fill=\"#FEFECE\" filter=\"url(#f7othtjd4xy9i)\" height=\"42.9375\" id=\"E8\" style=\"stroke: #A80036; stroke-width: 1.5;\" width=\"84\" x=\"32\" y=\"88.5\"/><text fill=\"#000000\" font-family=\"sans-serif\" font-size=\"12\" font-style=\"italic\" lengthAdjust=\"spacingAndGlyphs\" textLength=\"77\" x=\"35.5\" y=\"104.6387\">«action def»</text><text fill=\"#000000\" font-family=\"sans-serif\" font-size=\"12\" lengthAdjust=\"spacingAndGlyphs\" textLength=\"8\" x=\"70\" y=\"118.6074\">B</text></a></g><!--MD5=[f47e10efcf9a6752d55dae986d790ed9]\n",
       "link *start*E3 to E4--><a href=\"psysml:fb7d5adc-5880-4810-9813-86e53c07f96a\" target=\"_top\" title=\"psysml:fb7d5adc-5880-4810-9813-86e53c07f96a\" xlink:actuate=\"onRequest\" xlink:href=\"psysml:fb7d5adc-5880-4810-9813-86e53c07f96a\" xlink:show=\"new\" xlink:title=\"psysml:fb7d5adc-5880-4810-9813-86e53c07f96a\" xlink:type=\"simple\"><path d=\"M424,120.35 C424,126.88 424,135.77 424,143.42 \" fill=\"none\" id=\"*start*E3-&gt;E4\" style=\"stroke: #A80036; stroke-width: 1.0;\"/><polygon fill=\"#A80036\" points=\"424,148.48,428,139.48,424,143.48,420,139.48,424,148.48\" style=\"stroke: #A80036; stroke-width: 1.0;\"/></a><!--MD5=[d19f2eb34364d71b67042106d92f540b]\n",
       "link E7 to *end*E3--><a href=\"psysml:c9de1ce8-1045-4471-9685-45647676290c\" target=\"_top\" title=\"psysml:c9de1ce8-1045-4471-9685-45647676290c\" xlink:actuate=\"onRequest\" xlink:href=\"psysml:c9de1ce8-1045-4471-9685-45647676290c\" xlink:show=\"new\" xlink:title=\"psysml:c9de1ce8-1045-4471-9685-45647676290c\" xlink:type=\"simple\"><path d=\"M422,373.8 C422,377.34 422,381.3 422,385.03 \" fill=\"none\" id=\"E7-&gt;*end*E3\" style=\"stroke: #A80036; stroke-width: 1.0;\"/><polygon fill=\"#A80036\" points=\"422,390.25,426,381.25,422,385.25,418,381.25,422,390.25\" style=\"stroke: #A80036; stroke-width: 1.0;\"/></a><!--MD5=[1b7591eae5389033d8d09a9d6721a717]\n",
       "link E4 to E5--><a href=\"psysml:674af9b4-5477-4a2d-9c32-c1d49aef2cdc\" target=\"_top\" title=\"psysml:674af9b4-5477-4a2d-9c32-c1d49aef2cdc\" xlink:actuate=\"onRequest\" xlink:href=\"psysml:674af9b4-5477-4a2d-9c32-c1d49aef2cdc\" xlink:show=\"new\" xlink:title=\"psysml:674af9b4-5477-4a2d-9c32-c1d49aef2cdc\" xlink:type=\"simple\"><path d=\"M417.45,166.53 C411.33,171.23 401.65,178.66 391.64,186.34 \" fill=\"none\" id=\"E4-&gt;E5\" style=\"stroke: #A80036; stroke-width: 1.0;\"/><polygon fill=\"#A80036\" points=\"387.64,189.41,397.2129,187.0948,391.6037,186.3621,392.3363,180.7529,387.64,189.41\" style=\"stroke: #A80036; stroke-width: 1.0;\"/><text fill=\"#000000\" font-family=\"sans-serif\" font-size=\"13\" lengthAdjust=\"spacingAndGlyphs\" textLength=\"7\" x=\"387.8411\" y=\"178.4247\">*</text></a><!--MD5=[9120cf2e5df3bff93db8f754bbbc09b4]\n",
       "link E5 to E6--><a href=\"psysml:f1d57d75-7b92-4f65-894e-3c0dce6664b2\" target=\"_top\" title=\"psysml:f1d57d75-7b92-4f65-894e-3c0dce6664b2\" xlink:actuate=\"onRequest\" xlink:href=\"psysml:f1d57d75-7b92-4f65-894e-3c0dce6664b2\" xlink:show=\"new\" xlink:title=\"psysml:f1d57d75-7b92-4f65-894e-3c0dce6664b2\" xlink:type=\"simple\"><path d=\"M351.13,244.74 C350.53,253.4 349.85,263.08 349.23,272.08 \" fill=\"none\" id=\"E5-&gt;E6\" style=\"stroke: #A80036; stroke-width: 1.0;\"/><polygon fill=\"#A80036\" points=\"348.86,277.28,353.468,268.5756,349.203,272.2918,345.4869,268.0268,348.86,277.28\" style=\"stroke: #A80036; stroke-width: 1.0;\"/><text fill=\"#000000\" font-family=\"sans-serif\" font-size=\"13\" lengthAdjust=\"spacingAndGlyphs\" textLength=\"7\" x=\"341.4808\" y=\"266.2646\">*</text></a><!--MD5=[02c70b7c851c11e3980e4e90450dc5dd]\n",
       "link E6 to E7--><a href=\"psysml:5bbe4286-aec7-454e-8b07-ff0b44373e66\" target=\"_top\" title=\"psysml:5bbe4286-aec7-454e-8b07-ff0b44373e66\" xlink:actuate=\"onRequest\" xlink:href=\"psysml:5bbe4286-aec7-454e-8b07-ff0b44373e66\" xlink:show=\"new\" xlink:title=\"psysml:5bbe4286-aec7-454e-8b07-ff0b44373e66\" xlink:type=\"simple\"><path d=\"M383.62,332.61 C393.72,339.95 403.91,347.35 411.24,352.68 \" fill=\"none\" id=\"E6-&gt;E7\" style=\"stroke: #A80036; stroke-width: 1.0;\"/><polygon fill=\"#A80036\" points=\"415.42,355.72,410.4976,347.1894,411.3776,352.7774,405.7896,353.6574,415.42,355.72\" style=\"stroke: #A80036; stroke-width: 1.0;\"/><text fill=\"#000000\" font-family=\"sans-serif\" font-size=\"13\" lengthAdjust=\"spacingAndGlyphs\" textLength=\"7\" x=\"397.584\" y=\"338.5823\">*</text></a><!--MD5=[6bdd27f9905911a7e892a3dc65cf6b7c]\n",
       "link E7 to E4--><a href=\"psysml:df5824e0-bb07-4266-b9ed-97217b9e7a59\" target=\"_top\" title=\"psysml:df5824e0-bb07-4266-b9ed-97217b9e7a59\" xlink:actuate=\"onRequest\" xlink:href=\"psysml:df5824e0-bb07-4266-b9ed-97217b9e7a59\" xlink:show=\"new\" xlink:title=\"psysml:df5824e0-bb07-4266-b9ed-97217b9e7a59\" xlink:type=\"simple\"><path d=\"M425,352.49 C433.84,327.73 458.06,250.48 441,189.5 C439.26,183.29 435.73,177.1 432.34,172.12 \" fill=\"none\" id=\"E7-&gt;E4\" style=\"stroke: #A80036; stroke-width: 1.0;\"/><polygon fill=\"#A80036\" points=\"429.31,167.92,431.3342,177.5586,432.2364,171.9741,437.8209,172.8763,429.31,167.92\" style=\"stroke: #A80036; stroke-width: 1.0;\"/><text fill=\"#000000\" font-family=\"sans-serif\" font-size=\"13\" lengthAdjust=\"spacingAndGlyphs\" textLength=\"36\" x=\"447\" y=\"265.5669\">[true]</text><text fill=\"#000000\" font-family=\"sans-serif\" font-size=\"13\" lengthAdjust=\"spacingAndGlyphs\" textLength=\"7\" x=\"430.8853\" y=\"189.5917\">*</text></a><!--MD5=[48155899f51d6abde5e568c6b1bd04d9]\n",
       "@startuml\r\n",
       "skinparam ranksep 10\r\n",
       "skinparam rectangle {\r\n",
       " backgroundColor<<block>> LightGreen\r\n",
       "}\r\n",
       "skinparam wrapWidth 300\r\n",
       "hide circle\r\n",
       "\r\n",
       "package \"ActionTest\" as E1  [[psysml:a2683da9-1b6e-41fc-828a-cc7d1e5b2935 ]]  {\r\n",
       "def \"S\" as E2  <<(T,blue) attribute def>> [[psysml:9c87d4ab-cb1d-4b31-8fcd-81209805f4cd ]] \r\n",
       "rec usage \"a\" as E3  <<(T,blue) action>> [[psysml:88e0a3c5-b7f9-4d13-8306-ae5e61691436 ]] {\r\n",
       "choice \"m\" as E4  [[psysml:207ebb71-0108-47ac-8eb2-03003f2402f5 ]] \r\n",
       "accept \" S\" as E5 << accept action>> [[psysml:56f9bc80-23d6-47f0-bfbf-c5e902f86ac6 ]] \r\n",
       "send \" S() to  B()\" as E6 << send action>> [[psysml:baf32606-26e9-4cc3-a29f-e775486b01d7 ]] \r\n",
       "choice \"<s>noname</s>\" as E7  [[psysml:de118d49-a158-4609-b10e-b605b2688318 ]] \r\n",
       "[*] - -> E4 [[psysml:fb7d5adc-5880-4810-9813-86e53c07f96a ]] \r\n",
       "E7  - -> [*] [[psysml:c9de1ce8-1045-4471-9685-45647676290c ]] \r\n",
       "}\r\n",
       "\r\n",
       "rec def \"B\" as E8  <<(T,blue) action def>> [[psysml:79d3a6ab-38cc-49fb-ab8f-d1828ed09a3c ]] {\r\n",
       "}\r\n",
       "\r\n",
       "}\r\n",
       "E4 - -> \"*\"E5 [[psysml:674af9b4-5477-4a2d-9c32-c1d49aef2cdc ]] \r\n",
       "E5 - -> \"*\"E6 [[psysml:f1d57d75-7b92-4f65-894e-3c0dce6664b2 ]] \r\n",
       "E6 - -> \"*\"E7 [[psysml:5bbe4286-aec7-454e-8b07-ff0b44373e66 ]] \r\n",
       "E7  - -> \"*\"E4 [[psysml:df5824e0-bb07-4266-b9ed-97217b9e7a59 ]] : [true]\r\n",
       "@enduml\r\n",
       "\n",
       "PlantUML version 1.2020.13(Sat Jun 13 12:26:38 UTC 2020)\n",
       "(EPL source distribution)\n",
       "Java Runtime: OpenJDK Runtime Environment\n",
       "JVM: OpenJDK 64-Bit Server VM\n",
       "Default Encoding: UTF-8\n",
       "Language: en\n",
       "Country: null\n",
       "--></g></svg>"
      ]
     },
     "execution_count": 26,
     "metadata": {},
     "output_type": "execute_result"
    }
   ],
   "source": [
    "%viz --style=\"STDCOLOR\" --view=\"Interconnection\" \"ActionTest\""
   ]
  },
  {
   "cell_type": "code",
   "execution_count": 27,
   "id": "0f46ec2f",
   "metadata": {
    "execution": {
     "iopub.execute_input": "2021-09-27T07:16:56.243919Z",
     "iopub.status.busy": "2021-09-27T07:16:56.243479Z",
     "iopub.status.idle": "2021-09-27T07:16:56.280252Z",
     "shell.execute_reply": "2021-09-27T07:16:56.279885Z"
    }
   },
   "outputs": [
    {
     "data": {
      "image/svg+xml": [
       "<?xml version=\"1.0\" encoding=\"UTF-8\" standalone=\"no\"?><svg xmlns=\"http://www.w3.org/2000/svg\" xmlns:xlink=\"http://www.w3.org/1999/xlink\" contentScriptType=\"application/ecmascript\" contentStyleType=\"text/css\" height=\"403px\" preserveAspectRatio=\"none\" style=\"width:335px;height:403px;\" version=\"1.1\" viewBox=\"0 0 335 403\" width=\"335px\" zoomAndPan=\"magnify\"><defs><filter height=\"300%\" id=\"f14qqua13k0nlv\" width=\"300%\" x=\"-1\" y=\"-1\"><feGaussianBlur result=\"blurOut\" stdDeviation=\"2.0\"/><feColorMatrix in=\"blurOut\" result=\"blurOut2\" type=\"matrix\" values=\"0 0 0 0 0 0 0 0 0 0 0 0 0 0 0 0 0 0 .4 0\"/><feOffset dx=\"4.0\" dy=\"4.0\" in=\"blurOut2\" result=\"blurOut3\"/><feBlend in=\"SourceGraphic\" in2=\"blurOut3\" mode=\"normal\"/></filter></defs><g><!--MD5=[fbc87193dbaf4d95561dea2c320d4a47]\n",
       "cluster E1--><a href=\"psysml:88e0a3c5-b7f9-4d13-8306-ae5e61691436\" target=\"_top\" title=\"psysml:88e0a3c5-b7f9-4d13-8306-ae5e61691436\" xlink:actuate=\"onRequest\" xlink:href=\"psysml:88e0a3c5-b7f9-4d13-8306-ae5e61691436\" xlink:show=\"new\" xlink:title=\"psysml:88e0a3c5-b7f9-4d13-8306-ae5e61691436\" xlink:type=\"simple\"><rect fill=\"#FFFFFF\" filter=\"url(#f14qqua13k0nlv)\" height=\"377.5\" id=\"E1\" rx=\"10\" ry=\"10\" style=\"stroke: #A80036; stroke-width: 1.5;\" width=\"209\" x=\"107\" y=\"7\"/><rect fill=\"#FEFECE\" height=\"37.9375\" rx=\"10\" ry=\"10\" style=\"stroke: #FEFECE; stroke-width: 1.5;\" width=\"209\" x=\"107\" y=\"7\"/><rect fill=\"#FEFECE\" height=\"10\" style=\"stroke: #FEFECE; stroke-width: 1.5;\" width=\"209\" x=\"107\" y=\"34.9375\"/><rect fill=\"none\" height=\"377.5\" id=\"E1\" rx=\"10\" ry=\"10\" style=\"stroke: #A80036; stroke-width: 1.5;\" width=\"209\" x=\"107\" y=\"7\"/><text fill=\"#000000\" font-family=\"sans-serif\" font-size=\"12\" font-style=\"italic\" lengthAdjust=\"spacingAndGlyphs\" textLength=\"53\" x=\"185\" y=\"23.1387\">«action»</text><text fill=\"#000000\" font-family=\"sans-serif\" font-size=\"12\" lengthAdjust=\"spacingAndGlyphs\" textLength=\"8\" x=\"207.5\" y=\"37.1074\">a</text><line style=\"stroke: #A80036; stroke-width: 1.0;\" x1=\"107\" x2=\"316\" y1=\"44.9375\" y2=\"44.9375\"/></a><polygon fill=\"#FEFECE\" filter=\"url(#f14qqua13k0nlv)\" points=\"264,106.5,276,118.5,264,130.5,252,118.5,264,106.5\" style=\"stroke: #A80036; stroke-width: 1.5;\"/><!--MD5=[a60fb756f580feb9fd8e2cf1329b5c91]\n",
       "entity E3--><a href=\"psysml:56f9bc80-23d6-47f0-bfbf-c5e902f86ac6\" target=\"_top\" title=\"psysml:56f9bc80-23d6-47f0-bfbf-c5e902f86ac6\" xlink:actuate=\"onRequest\" xlink:href=\"psysml:56f9bc80-23d6-47f0-bfbf-c5e902f86ac6\" xlink:show=\"new\" xlink:title=\"psysml:56f9bc80-23d6-47f0-bfbf-c5e902f86ac6\" xlink:type=\"simple\"><polygon fill=\"#FEFECE\" filter=\"url(#f14qqua13k0nlv)\" points=\"123,147.5,123,202.0938,263,202.0938,243,174.7969,263,147.5\" style=\"stroke: #000000; stroke-width: 1.5;\"/><text fill=\"#000000\" font-family=\"sans-serif\" font-size=\"14\" font-style=\"italic\" lengthAdjust=\"spacingAndGlyphs\" textLength=\"111\" x=\"130\" y=\"170.4951\">«accept action»</text><text fill=\"#000000\" font-family=\"sans-serif\" font-size=\"14\" lengthAdjust=\"spacingAndGlyphs\" textLength=\"9\" x=\"181\" y=\"187.792\">S</text></a><!--MD5=[961cefdc15414eaa3e87aec9d17c2188]\n",
       "entity E4--><a href=\"psysml:baf32606-26e9-4cc3-a29f-e775486b01d7\" target=\"_top\" title=\"psysml:baf32606-26e9-4cc3-a29f-e775486b01d7\" xlink:actuate=\"onRequest\" xlink:href=\"psysml:baf32606-26e9-4cc3-a29f-e775486b01d7\" xlink:show=\"new\" xlink:title=\"psysml:baf32606-26e9-4cc3-a29f-e775486b01d7\" xlink:type=\"simple\"><polygon fill=\"#FEFECE\" filter=\"url(#f14qqua13k0nlv)\" points=\"123,235.5,123,290.0938,231,290.0938,251,262.7969,231,235.5\" style=\"stroke: #000000; stroke-width: 1.5;\"/><text fill=\"#000000\" font-family=\"sans-serif\" font-size=\"14\" font-style=\"italic\" lengthAdjust=\"spacingAndGlyphs\" textLength=\"99\" x=\"130\" y=\"258.4951\">«send action»</text><text fill=\"#000000\" font-family=\"sans-serif\" font-size=\"14\" lengthAdjust=\"spacingAndGlyphs\" textLength=\"65\" x=\"147\" y=\"275.792\">S() to  B()</text></a><polygon fill=\"#FEFECE\" filter=\"url(#f14qqua13k0nlv)\" points=\"262,307.5,274,319.5,262,331.5,250,319.5,262,307.5\" style=\"stroke: #A80036; stroke-width: 1.5;\"/><ellipse cx=\"264\" cy=\"68\" fill=\"#000000\" filter=\"url(#f14qqua13k0nlv)\" rx=\"10\" ry=\"10\" style=\"stroke: none; stroke-width: 1.0;\"/><ellipse cx=\"262\" cy=\"358.5\" fill=\"none\" filter=\"url(#f14qqua13k0nlv)\" rx=\"10\" ry=\"10\" style=\"stroke: #000000; stroke-width: 1.0;\"/><ellipse cx=\"262.5\" cy=\"359\" fill=\"#000000\" rx=\"6\" ry=\"6\" style=\"stroke: none; stroke-width: 1.0;\"/><g id=\"E6\"><a href=\"psysml:79d3a6ab-38cc-49fb-ab8f-d1828ed09a3c\" target=\"_top\" title=\"psysml:79d3a6ab-38cc-49fb-ab8f-d1828ed09a3c\" xlink:actuate=\"onRequest\" xlink:href=\"psysml:79d3a6ab-38cc-49fb-ab8f-d1828ed09a3c\" xlink:show=\"new\" xlink:title=\"psysml:79d3a6ab-38cc-49fb-ab8f-d1828ed09a3c\" xlink:type=\"simple\"><rect fill=\"#FEFECE\" filter=\"url(#f14qqua13k0nlv)\" height=\"42.9375\" id=\"E6\" style=\"stroke: #A80036; stroke-width: 1.5;\" width=\"84\" x=\"7\" y=\"46.5\"/><text fill=\"#000000\" font-family=\"sans-serif\" font-size=\"12\" font-style=\"italic\" lengthAdjust=\"spacingAndGlyphs\" textLength=\"77\" x=\"10.5\" y=\"62.6387\">«action def»</text><text fill=\"#000000\" font-family=\"sans-serif\" font-size=\"12\" lengthAdjust=\"spacingAndGlyphs\" textLength=\"8\" x=\"45\" y=\"76.6074\">B</text></a></g><!--MD5=[cff944eb183b832d446717a4e202d613]\n",
       "link *start*E1 to E2--><a href=\"psysml:fb7d5adc-5880-4810-9813-86e53c07f96a\" target=\"_top\" title=\"psysml:fb7d5adc-5880-4810-9813-86e53c07f96a\" xlink:actuate=\"onRequest\" xlink:href=\"psysml:fb7d5adc-5880-4810-9813-86e53c07f96a\" xlink:show=\"new\" xlink:title=\"psysml:fb7d5adc-5880-4810-9813-86e53c07f96a\" xlink:type=\"simple\"><path d=\"M264,78.35 C264,84.88 264,93.77 264,101.42 \" fill=\"none\" id=\"*start*E1-&gt;E2\" style=\"stroke: #A80036; stroke-width: 1.0; stroke-dasharray: 7.0,7.0;\"/><polygon fill=\"#A80036\" points=\"264,106.48,268,97.48,264,101.48,260,97.48,264,106.48\" style=\"stroke: #A80036; stroke-width: 1.0;\"/></a><!--MD5=[7fc47fc0d107820853a137871ad908c8]\n",
       "link E5 to *end*E1--><a href=\"psysml:c9de1ce8-1045-4471-9685-45647676290c\" target=\"_top\" title=\"psysml:c9de1ce8-1045-4471-9685-45647676290c\" xlink:actuate=\"onRequest\" xlink:href=\"psysml:c9de1ce8-1045-4471-9685-45647676290c\" xlink:show=\"new\" xlink:title=\"psysml:c9de1ce8-1045-4471-9685-45647676290c\" xlink:type=\"simple\"><path d=\"M262,331.8 C262,335.34 262,339.3 262,343.03 \" fill=\"none\" id=\"E5-&gt;*end*E1\" style=\"stroke: #A80036; stroke-width: 1.0; stroke-dasharray: 7.0,7.0;\"/><polygon fill=\"#A80036\" points=\"262,348.25,266,339.25,262,343.25,258,339.25,262,348.25\" style=\"stroke: #A80036; stroke-width: 1.0;\"/></a><!--MD5=[2720a5a1f2c3fca2055b230370638851]\n",
       "link E2 to E3--><a href=\"psysml:674af9b4-5477-4a2d-9c32-c1d49aef2cdc\" target=\"_top\" title=\"psysml:674af9b4-5477-4a2d-9c32-c1d49aef2cdc\" xlink:actuate=\"onRequest\" xlink:href=\"psysml:674af9b4-5477-4a2d-9c32-c1d49aef2cdc\" xlink:show=\"new\" xlink:title=\"psysml:674af9b4-5477-4a2d-9c32-c1d49aef2cdc\" xlink:type=\"simple\"><path d=\"M257.45,124.53 C251.33,129.23 241.65,136.66 231.64,144.34 \" fill=\"none\" id=\"E2-&gt;E3\" style=\"stroke: #A80036; stroke-width: 1.0; stroke-dasharray: 7.0,7.0;\"/><polygon fill=\"#A80036\" points=\"227.64,147.41,237.2129,145.0948,231.6037,144.3621,232.3363,138.7529,227.64,147.41\" style=\"stroke: #A80036; stroke-width: 1.0;\"/></a><!--MD5=[af87c684e3b0d8be13c1a698a818ef1e]\n",
       "link E3 to E4--><a href=\"psysml:f1d57d75-7b92-4f65-894e-3c0dce6664b2\" target=\"_top\" title=\"psysml:f1d57d75-7b92-4f65-894e-3c0dce6664b2\" xlink:actuate=\"onRequest\" xlink:href=\"psysml:f1d57d75-7b92-4f65-894e-3c0dce6664b2\" xlink:show=\"new\" xlink:title=\"psysml:f1d57d75-7b92-4f65-894e-3c0dce6664b2\" xlink:type=\"simple\"><path d=\"M191.13,202.74 C190.53,211.4 189.85,221.08 189.23,230.08 \" fill=\"none\" id=\"E3-&gt;E4\" style=\"stroke: #A80036; stroke-width: 1.0; stroke-dasharray: 7.0,7.0;\"/><polygon fill=\"#A80036\" points=\"188.86,235.28,193.468,226.5756,189.203,230.2918,185.4869,226.0268,188.86,235.28\" style=\"stroke: #A80036; stroke-width: 1.0;\"/></a><!--MD5=[1b7591eae5389033d8d09a9d6721a717]\n",
       "link E4 to E5--><a href=\"psysml:5bbe4286-aec7-454e-8b07-ff0b44373e66\" target=\"_top\" title=\"psysml:5bbe4286-aec7-454e-8b07-ff0b44373e66\" xlink:actuate=\"onRequest\" xlink:href=\"psysml:5bbe4286-aec7-454e-8b07-ff0b44373e66\" xlink:show=\"new\" xlink:title=\"psysml:5bbe4286-aec7-454e-8b07-ff0b44373e66\" xlink:type=\"simple\"><path d=\"M223.62,290.61 C233.72,297.95 243.91,305.35 251.24,310.68 \" fill=\"none\" id=\"E4-&gt;E5\" style=\"stroke: #A80036; stroke-width: 1.0; stroke-dasharray: 7.0,7.0;\"/><polygon fill=\"#A80036\" points=\"255.42,313.72,250.4976,305.1894,251.3776,310.7774,245.7896,311.6574,255.42,313.72\" style=\"stroke: #A80036; stroke-width: 1.0;\"/></a><!--MD5=[15ebcb19ae302d9b601edb458606d402]\n",
       "link E5 to E2--><a href=\"psysml:df5824e0-bb07-4266-b9ed-97217b9e7a59\" target=\"_top\" title=\"psysml:df5824e0-bb07-4266-b9ed-97217b9e7a59\" xlink:actuate=\"onRequest\" xlink:href=\"psysml:df5824e0-bb07-4266-b9ed-97217b9e7a59\" xlink:show=\"new\" xlink:title=\"psysml:df5824e0-bb07-4266-b9ed-97217b9e7a59\" xlink:type=\"simple\"><path d=\"M265,310.49 C273.84,285.73 298.06,208.48 281,147.5 C279.26,141.29 275.73,135.1 272.34,130.12 \" fill=\"none\" id=\"E5-&gt;E2\" style=\"stroke: #A80036; stroke-width: 1.0; stroke-dasharray: 7.0,7.0;\"/><polygon fill=\"#A80036\" points=\"269.31,125.92,271.3342,135.5586,272.2364,129.9741,277.8209,130.8763,269.31,125.92\" style=\"stroke: #A80036; stroke-width: 1.0;\"/><text fill=\"#000000\" font-family=\"sans-serif\" font-size=\"13\" lengthAdjust=\"spacingAndGlyphs\" textLength=\"36\" x=\"287\" y=\"223.5669\">[true]</text></a><!--MD5=[7247d2e976d2147176c459a8fd5e235e]\n",
       "@startuml\r\n",
       "skinparam ranksep 8\r\n",
       "skinparam wrapWidth 300\r\n",
       "hide circle\r\n",
       "\r\n",
       "rec usage \"a\" as E1  <<(T,blue) action>> [[psysml:88e0a3c5-b7f9-4d13-8306-ae5e61691436 ]] {\r\n",
       "choice \"m\" as E2  [[psysml:207ebb71-0108-47ac-8eb2-03003f2402f5 ]] \r\n",
       "accept \" S\" as E3 << accept action>> [[psysml:56f9bc80-23d6-47f0-bfbf-c5e902f86ac6 ]] \r\n",
       "send \" S() to  B()\" as E4 << send action>> [[psysml:baf32606-26e9-4cc3-a29f-e775486b01d7 ]] \r\n",
       "choice \"<s>noname</s>\" as E5  [[psysml:de118d49-a158-4609-b10e-b605b2688318 ]] \r\n",
       "[*] ..> E2 [[psysml:fb7d5adc-5880-4810-9813-86e53c07f96a ]] \r\n",
       "E5 ..> [*] [[psysml:c9de1ce8-1045-4471-9685-45647676290c ]] \r\n",
       "}\r\n",
       "\r\n",
       "E2 ..> E3 [[psysml:674af9b4-5477-4a2d-9c32-c1d49aef2cdc ]] \r\n",
       "E3 ..> E4 [[psysml:f1d57d75-7b92-4f65-894e-3c0dce6664b2 ]] \r\n",
       "E4 ..> E5 [[psysml:5bbe4286-aec7-454e-8b07-ff0b44373e66 ]] \r\n",
       "E5 ..> E2 [[psysml:df5824e0-bb07-4266-b9ed-97217b9e7a59 ]] : [true]\r\n",
       "rec def \"B\" as E6  <<(T,blue) action def>> [[psysml:79d3a6ab-38cc-49fb-ab8f-d1828ed09a3c ]] {\r\n",
       "}\r\n",
       "\r\n",
       "@enduml\r\n",
       "\n",
       "PlantUML version 1.2020.13(Sat Jun 13 12:26:38 UTC 2020)\n",
       "(EPL source distribution)\n",
       "Java Runtime: OpenJDK Runtime Environment\n",
       "JVM: OpenJDK 64-Bit Server VM\n",
       "Default Encoding: UTF-8\n",
       "Language: en\n",
       "Country: null\n",
       "--></g></svg>"
      ]
     },
     "execution_count": 27,
     "metadata": {},
     "output_type": "execute_result"
    }
   ],
   "source": [
    "%viz --style=\"STDCOLOR\" --view=\"Action\" \"ActionTest\""
   ]
  },
  {
   "cell_type": "code",
   "execution_count": 28,
   "id": "89e809d1",
   "metadata": {
    "execution": {
     "iopub.execute_input": "2021-09-27T07:16:56.330079Z",
     "iopub.status.busy": "2021-09-27T07:16:56.329649Z",
     "iopub.status.idle": "2021-09-27T07:16:56.335417Z",
     "shell.execute_reply": "2021-09-27T07:16:56.335792Z"
    }
   },
   "outputs": [
    {
     "data": {
      "image/svg+xml": [
       "<?xml version=\"1.0\" encoding=\"UTF-8\" standalone=\"no\"?><svg xmlns=\"http://www.w3.org/2000/svg\" xmlns:xlink=\"http://www.w3.org/1999/xlink\" contentScriptType=\"application/ecmascript\" contentStyleType=\"text/css\" height=\"12px\" preserveAspectRatio=\"none\" style=\"width:12px;height:12px;\" version=\"1.1\" viewBox=\"0 0 12 12\" width=\"12px\" zoomAndPan=\"magnify\"><defs/><g><!--MD5=[6c4bca67b4d71758159a5a7f1f1e1fc2]\n",
       "@startuml\r\n",
       "skinparam roundcorner 20\r\n",
       "skinparam BoxPadding 20\r\n",
       "skinparam SequenceBoxBackgroundColor #white\r\n",
       "skinparam style strictuml\r\n",
       "skinparam maxMessageSize 100\r\n",
       "skinparam wrapWidth 300\r\n",
       "hide circle\r\n",
       "\r\n",
       "@enduml\r\n",
       "\n",
       "PlantUML version 1.2020.13(Sat Jun 13 12:26:38 UTC 2020)\n",
       "(EPL source distribution)\n",
       "Java Runtime: OpenJDK Runtime Environment\n",
       "JVM: OpenJDK 64-Bit Server VM\n",
       "Default Encoding: UTF-8\n",
       "Language: en\n",
       "Country: null\n",
       "--></g></svg>"
      ]
     },
     "execution_count": 28,
     "metadata": {},
     "output_type": "execute_result"
    }
   ],
   "source": [
    "%viz --style=\"STDCOLOR\" --view=\"Sequence\" \"ActionTest\""
   ]
  },
  {
   "cell_type": "code",
   "execution_count": 29,
   "id": "a274fa4c",
   "metadata": {
    "execution": {
     "iopub.execute_input": "2021-09-27T07:16:56.385706Z",
     "iopub.status.busy": "2021-09-27T07:16:56.385305Z",
     "iopub.status.idle": "2021-09-27T07:16:56.427221Z",
     "shell.execute_reply": "2021-09-27T07:16:56.426887Z"
    }
   },
   "outputs": [
    {
     "data": {
      "image/svg+xml": [
       "<?xml version=\"1.0\" encoding=\"UTF-8\" standalone=\"no\"?><svg xmlns=\"http://www.w3.org/2000/svg\" xmlns:xlink=\"http://www.w3.org/1999/xlink\" contentScriptType=\"application/ecmascript\" contentStyleType=\"text/css\" height=\"684px\" preserveAspectRatio=\"none\" style=\"width:518px;height:684px;\" version=\"1.1\" viewBox=\"0 0 518 684\" width=\"518px\" zoomAndPan=\"magnify\"><defs><filter height=\"300%\" id=\"f1b8u7fpxhz4md\" width=\"300%\" x=\"-1\" y=\"-1\"><feGaussianBlur result=\"blurOut\" stdDeviation=\"2.0\"/><feColorMatrix in=\"blurOut\" result=\"blurOut2\" type=\"matrix\" values=\"0 0 0 0 0 0 0 0 0 0 0 0 0 0 0 0 0 0 .4 0\"/><feOffset dx=\"4.0\" dy=\"4.0\" in=\"blurOut2\" result=\"blurOut3\"/><feBlend in=\"SourceGraphic\" in2=\"blurOut3\" mode=\"normal\"/></filter></defs><g><!--MD5=[fbc87193dbaf4d95561dea2c320d4a47]\n",
       "cluster E1--><a href=\"psysml:a2683da9-1b6e-41fc-828a-cc7d1e5b2935\" target=\"_top\" title=\"psysml:a2683da9-1b6e-41fc-828a-cc7d1e5b2935\" xlink:actuate=\"onRequest\" xlink:href=\"psysml:a2683da9-1b6e-41fc-828a-cc7d1e5b2935\" xlink:show=\"new\" xlink:title=\"psysml:a2683da9-1b6e-41fc-828a-cc7d1e5b2935\" xlink:type=\"simple\"><polygon fill=\"#FFFFFF\" filter=\"url(#f1b8u7fpxhz4md)\" points=\"16,6,96,6,103,28.2969,496,28.2969,496,672,16,672,16,6\" style=\"stroke: #000000; stroke-width: 1.5;\"/><line style=\"stroke: #000000; stroke-width: 1.5;\" x1=\"16\" x2=\"103\" y1=\"28.2969\" y2=\"28.2969\"/><text fill=\"#000000\" font-family=\"sans-serif\" font-size=\"14\" font-weight=\"bold\" lengthAdjust=\"spacingAndGlyphs\" textLength=\"74\" x=\"20\" y=\"20.9951\">ActionTest</text></a><!--MD5=[d5e69f78d87373223dbae638b30a9c99]\n",
       "cluster E3--><a href=\"psysml:88e0a3c5-b7f9-4d13-8306-ae5e61691436\" target=\"_top\" title=\"psysml:88e0a3c5-b7f9-4d13-8306-ae5e61691436\" xlink:actuate=\"onRequest\" xlink:href=\"psysml:88e0a3c5-b7f9-4d13-8306-ae5e61691436\" xlink:show=\"new\" xlink:title=\"psysml:88e0a3c5-b7f9-4d13-8306-ae5e61691436\" xlink:type=\"simple\"><rect fill=\"#FFFFFF\" filter=\"url(#f1b8u7fpxhz4md)\" height=\"599\" id=\"E3\" rx=\"10\" ry=\"10\" style=\"stroke: #A80036; stroke-width: 1.5;\" width=\"209\" x=\"263\" y=\"49\"/><rect fill=\"#FEFECE\" height=\"37.9375\" rx=\"10\" ry=\"10\" style=\"stroke: #FEFECE; stroke-width: 1.5;\" width=\"209\" x=\"263\" y=\"49\"/><rect fill=\"#FEFECE\" height=\"10\" style=\"stroke: #FEFECE; stroke-width: 1.5;\" width=\"209\" x=\"263\" y=\"76.9375\"/><rect fill=\"none\" height=\"599\" id=\"E3\" rx=\"10\" ry=\"10\" style=\"stroke: #A80036; stroke-width: 1.5;\" width=\"209\" x=\"263\" y=\"49\"/><text fill=\"#000000\" font-family=\"sans-serif\" font-size=\"12\" font-style=\"italic\" lengthAdjust=\"spacingAndGlyphs\" textLength=\"53\" x=\"341\" y=\"65.1387\">«action»</text><text fill=\"#000000\" font-family=\"sans-serif\" font-size=\"12\" lengthAdjust=\"spacingAndGlyphs\" textLength=\"8\" x=\"363.5\" y=\"79.1074\">a</text><line style=\"stroke: #A80036; stroke-width: 1.0;\" x1=\"263\" x2=\"472\" y1=\"86.9375\" y2=\"86.9375\"/></a><!--MD5=[b4997ac47864f28c2f74865a473b2911]\n",
       "class E2--><a href=\"psysml:9c87d4ab-cb1d-4b31-8fcd-81209805f4cd\" target=\"_top\" title=\"psysml:9c87d4ab-cb1d-4b31-8fcd-81209805f4cd\" xlink:actuate=\"onRequest\" xlink:href=\"psysml:9c87d4ab-cb1d-4b31-8fcd-81209805f4cd\" xlink:show=\"new\" xlink:title=\"psysml:9c87d4ab-cb1d-4b31-8fcd-81209805f4cd\" xlink:type=\"simple\"><rect fill=\"#FEFECE\" filter=\"url(#f1b8u7fpxhz4md)\" height=\"45.9375\" id=\"E2\" style=\"stroke: #A80036; stroke-width: 1.5;\" width=\"95\" x=\"151.5\" y=\"87\"/><text fill=\"#000000\" font-family=\"sans-serif\" font-size=\"12\" font-style=\"italic\" lengthAdjust=\"spacingAndGlyphs\" textLength=\"93\" x=\"152.5\" y=\"103.1387\">«attribute def»</text><text fill=\"#000000\" font-family=\"sans-serif\" font-size=\"12\" lengthAdjust=\"spacingAndGlyphs\" textLength=\"8\" x=\"195\" y=\"117.1074\">S</text><line style=\"stroke: #A80036; stroke-width: 1.5;\" x1=\"152.5\" x2=\"245.5\" y1=\"124.9375\" y2=\"124.9375\"/></a><polygon fill=\"#FEFECE\" filter=\"url(#f1b8u7fpxhz4md)\" points=\"420,194,432,206,420,218,408,206,420,194\" style=\"stroke: #A80036; stroke-width: 1.5;\"/><!--MD5=[21dd76c19d33815960c0e92fef8f0eef]\n",
       "entity E5--><a href=\"psysml:56f9bc80-23d6-47f0-bfbf-c5e902f86ac6\" target=\"_top\" title=\"psysml:56f9bc80-23d6-47f0-bfbf-c5e902f86ac6\" xlink:actuate=\"onRequest\" xlink:href=\"psysml:56f9bc80-23d6-47f0-bfbf-c5e902f86ac6\" xlink:show=\"new\" xlink:title=\"psysml:56f9bc80-23d6-47f0-bfbf-c5e902f86ac6\" xlink:type=\"simple\"><polygon fill=\"#FEFECE\" filter=\"url(#f1b8u7fpxhz4md)\" points=\"279,279,279,333.5938,419,333.5938,399,306.2969,419,279\" style=\"stroke: #000000; stroke-width: 1.5;\"/><text fill=\"#000000\" font-family=\"sans-serif\" font-size=\"14\" font-style=\"italic\" lengthAdjust=\"spacingAndGlyphs\" textLength=\"111\" x=\"286\" y=\"301.9951\">«accept action»</text><text fill=\"#000000\" font-family=\"sans-serif\" font-size=\"14\" lengthAdjust=\"spacingAndGlyphs\" textLength=\"9\" x=\"337\" y=\"319.292\">S</text></a><!--MD5=[24d87cdf3002d433f401b2a2aa9f9f65]\n",
       "entity E6--><a href=\"psysml:baf32606-26e9-4cc3-a29f-e775486b01d7\" target=\"_top\" title=\"psysml:baf32606-26e9-4cc3-a29f-e775486b01d7\" xlink:actuate=\"onRequest\" xlink:href=\"psysml:baf32606-26e9-4cc3-a29f-e775486b01d7\" xlink:show=\"new\" xlink:title=\"psysml:baf32606-26e9-4cc3-a29f-e775486b01d7\" xlink:type=\"simple\"><polygon fill=\"#FEFECE\" filter=\"url(#f1b8u7fpxhz4md)\" points=\"279,411,279,465.5938,387,465.5938,407,438.2969,387,411\" style=\"stroke: #000000; stroke-width: 1.5;\"/><text fill=\"#000000\" font-family=\"sans-serif\" font-size=\"14\" font-style=\"italic\" lengthAdjust=\"spacingAndGlyphs\" textLength=\"99\" x=\"286\" y=\"433.9951\">«send action»</text><text fill=\"#000000\" font-family=\"sans-serif\" font-size=\"14\" lengthAdjust=\"spacingAndGlyphs\" textLength=\"65\" x=\"303\" y=\"451.292\">S() to  B()</text></a><polygon fill=\"#FEFECE\" filter=\"url(#f1b8u7fpxhz4md)\" points=\"418,527,430,539,418,551,406,539,418,527\" style=\"stroke: #A80036; stroke-width: 1.5;\"/><ellipse cx=\"420\" cy=\"110\" fill=\"#000000\" filter=\"url(#f1b8u7fpxhz4md)\" rx=\"10\" ry=\"10\" style=\"stroke: none; stroke-width: 1.0;\"/><ellipse cx=\"418\" cy=\"622\" fill=\"none\" filter=\"url(#f1b8u7fpxhz4md)\" rx=\"10\" ry=\"10\" style=\"stroke: #000000; stroke-width: 1.0;\"/><ellipse cx=\"418.5\" cy=\"622.5\" fill=\"#000000\" rx=\"6\" ry=\"6\" style=\"stroke: none; stroke-width: 1.0;\"/><g id=\"E1.E8\"><a href=\"psysml:79d3a6ab-38cc-49fb-ab8f-d1828ed09a3c\" target=\"_top\" title=\"psysml:79d3a6ab-38cc-49fb-ab8f-d1828ed09a3c\" xlink:actuate=\"onRequest\" xlink:href=\"psysml:79d3a6ab-38cc-49fb-ab8f-d1828ed09a3c\" xlink:show=\"new\" xlink:title=\"psysml:79d3a6ab-38cc-49fb-ab8f-d1828ed09a3c\" xlink:type=\"simple\"><rect fill=\"#FEFECE\" filter=\"url(#f1b8u7fpxhz4md)\" height=\"42.9375\" id=\"E8\" style=\"stroke: #A80036; stroke-width: 1.5;\" width=\"84\" x=\"32\" y=\"88.5\"/><text fill=\"#000000\" font-family=\"sans-serif\" font-size=\"12\" font-style=\"italic\" lengthAdjust=\"spacingAndGlyphs\" textLength=\"77\" x=\"35.5\" y=\"104.6387\">«action def»</text><text fill=\"#000000\" font-family=\"sans-serif\" font-size=\"12\" lengthAdjust=\"spacingAndGlyphs\" textLength=\"8\" x=\"70\" y=\"118.6074\">B</text></a></g><!--MD5=[f47e10efcf9a6752d55dae986d790ed9]\n",
       "link *start*E3 to E4--><a href=\"psysml:fb7d5adc-5880-4810-9813-86e53c07f96a\" target=\"_top\" title=\"psysml:fb7d5adc-5880-4810-9813-86e53c07f96a\" xlink:actuate=\"onRequest\" xlink:href=\"psysml:fb7d5adc-5880-4810-9813-86e53c07f96a\" xlink:show=\"new\" xlink:title=\"psysml:fb7d5adc-5880-4810-9813-86e53c07f96a\" xlink:type=\"simple\"><path d=\"M420,120.01 C420,135.81 420,168.69 420,188.61 \" fill=\"none\" id=\"*start*E3-&gt;E4\" style=\"stroke: #A80036; stroke-width: 1.0;\"/><polygon fill=\"#A80036\" points=\"420,193.85,424,184.85,420,188.85,416,184.85,420,193.85\" style=\"stroke: #A80036; stroke-width: 1.0;\"/></a><!--MD5=[d19f2eb34364d71b67042106d92f540b]\n",
       "link E7 to *end*E3--><a href=\"psysml:c9de1ce8-1045-4471-9685-45647676290c\" target=\"_top\" title=\"psysml:c9de1ce8-1045-4471-9685-45647676290c\" xlink:actuate=\"onRequest\" xlink:href=\"psysml:c9de1ce8-1045-4471-9685-45647676290c\" xlink:show=\"new\" xlink:title=\"psysml:c9de1ce8-1045-4471-9685-45647676290c\" xlink:type=\"simple\"><path d=\"M418,551.26 C418,565.66 418,590.63 418,606.46 \" fill=\"none\" id=\"E7-&gt;*end*E3\" style=\"stroke: #A80036; stroke-width: 1.0;\"/><polygon fill=\"#A80036\" points=\"418,611.84,422,602.84,418,606.84,414,602.84,418,611.84\" style=\"stroke: #A80036; stroke-width: 1.0;\"/></a><!--MD5=[1b7591eae5389033d8d09a9d6721a717]\n",
       "link E4 to E5--><a href=\"psysml:674af9b4-5477-4a2d-9c32-c1d49aef2cdc\" target=\"_top\" title=\"psysml:674af9b4-5477-4a2d-9c32-c1d49aef2cdc\" xlink:actuate=\"onRequest\" xlink:href=\"psysml:674af9b4-5477-4a2d-9c32-c1d49aef2cdc\" xlink:show=\"new\" xlink:title=\"psysml:674af9b4-5477-4a2d-9c32-c1d49aef2cdc\" xlink:type=\"simple\"><path d=\"M415.34,213.46 C406.55,225.66 386.99,252.8 371.37,274.46 \" fill=\"none\" id=\"E4-&gt;E5\" style=\"stroke: #A80036; stroke-width: 1.0;\"/><polygon fill=\"#A80036\" points=\"368.31,278.71,376.8093,273.7339,371.227,274.6491,370.3119,269.0667,368.31,278.71\" style=\"stroke: #A80036; stroke-width: 1.0;\"/><text fill=\"#000000\" font-family=\"sans-serif\" font-size=\"13\" lengthAdjust=\"spacingAndGlyphs\" textLength=\"7\" x=\"364.7684\" y=\"268.1162\">*</text></a><!--MD5=[9120cf2e5df3bff93db8f754bbbc09b4]\n",
       "link E5 to E6--><a href=\"psysml:f1d57d75-7b92-4f65-894e-3c0dce6664b2\" target=\"_top\" title=\"psysml:f1d57d75-7b92-4f65-894e-3c0dce6664b2\" xlink:actuate=\"onRequest\" xlink:href=\"psysml:f1d57d75-7b92-4f65-894e-3c0dce6664b2\" xlink:show=\"new\" xlink:title=\"psysml:f1d57d75-7b92-4f65-894e-3c0dce6664b2\" xlink:type=\"simple\"><path d=\"M347.77,334.12 C346.81,354.89 345.48,383.8 344.46,405.77 \" fill=\"none\" id=\"E5-&gt;E6\" style=\"stroke: #A80036; stroke-width: 1.0;\"/><polygon fill=\"#A80036\" points=\"344.23,410.91,348.6368,402.1021,344.4583,405.9152,340.6452,401.7367,344.23,410.91\" style=\"stroke: #A80036; stroke-width: 1.0;\"/><text fill=\"#000000\" font-family=\"sans-serif\" font-size=\"13\" lengthAdjust=\"spacingAndGlyphs\" textLength=\"7\" x=\"336.7051\" y=\"399.9247\">*</text></a><!--MD5=[02c70b7c851c11e3980e4e90450dc5dd]\n",
       "link E6 to E7--><a href=\"psysml:5bbe4286-aec7-454e-8b07-ff0b44373e66\" target=\"_top\" title=\"psysml:5bbe4286-aec7-454e-8b07-ff0b44373e66\" xlink:actuate=\"onRequest\" xlink:href=\"psysml:5bbe4286-aec7-454e-8b07-ff0b44373e66\" xlink:show=\"new\" xlink:title=\"psysml:5bbe4286-aec7-454e-8b07-ff0b44373e66\" xlink:type=\"simple\"><path d=\"M363.3,466.16 C378.71,486.4 399.07,513.14 410.09,527.61 \" fill=\"none\" id=\"E6-&gt;E7\" style=\"stroke: #A80036; stroke-width: 1.0;\"/><polygon fill=\"#A80036\" points=\"413.2,531.69,410.9398,522.104,410.1749,527.7089,404.57,526.9441,413.2,531.69\" style=\"stroke: #A80036; stroke-width: 1.0;\"/><text fill=\"#000000\" font-family=\"sans-serif\" font-size=\"13\" lengthAdjust=\"spacingAndGlyphs\" textLength=\"7\" x=\"398.9375\" y=\"515.8563\">*</text></a><!--MD5=[6bdd27f9905911a7e892a3dc65cf6b7c]\n",
       "link E7 to E4--><a href=\"psysml:df5824e0-bb07-4266-b9ed-97217b9e7a59\" target=\"_top\" title=\"psysml:df5824e0-bb07-4266-b9ed-97217b9e7a59\" xlink:actuate=\"onRequest\" xlink:href=\"psysml:df5824e0-bb07-4266-b9ed-97217b9e7a59\" xlink:show=\"new\" xlink:title=\"psysml:df5824e0-bb07-4266-b9ed-97217b9e7a59\" xlink:type=\"simple\"><path d=\"M419.98,528.56 C426.8,494.71 448.32,376.18 437,279 C434.59,258.32 428.42,234.96 424.21,220.61 \" fill=\"none\" id=\"E7-&gt;E4\" style=\"stroke: #A80036; stroke-width: 1.0;\"/><polygon fill=\"#A80036\" points=\"422.76,215.75,421.4935,225.5171,424.1863,220.5423,429.1611,223.2351,422.76,215.75\" style=\"stroke: #A80036; stroke-width: 1.0;\"/><text fill=\"#000000\" font-family=\"sans-serif\" font-size=\"13\" lengthAdjust=\"spacingAndGlyphs\" textLength=\"36\" x=\"440\" y=\"377.0669\">[true]</text><text fill=\"#000000\" font-family=\"sans-serif\" font-size=\"13\" lengthAdjust=\"spacingAndGlyphs\" textLength=\"7\" x=\"415.3253\" y=\"237.9903\">*</text></a><!--MD5=[5cbd2b88e02efc884992ed1fba043876]\n",
       "@startuml\r\n",
       "skinparam wrapWidth 300\r\n",
       "hide circle\r\n",
       "\r\n",
       "package \"ActionTest\" as E1  [[psysml:a2683da9-1b6e-41fc-828a-cc7d1e5b2935 ]]  {\r\n",
       "comp def \"S\" as E2  <<(T,blue) attribute def>> [[psysml:9c87d4ab-cb1d-4b31-8fcd-81209805f4cd ]] {\r\n",
       "}\r\n",
       "rec usage \"a\" as E3  <<(T,blue) action>> [[psysml:88e0a3c5-b7f9-4d13-8306-ae5e61691436 ]] {\r\n",
       "choice \"m\" as E4  [[psysml:207ebb71-0108-47ac-8eb2-03003f2402f5 ]] \r\n",
       "accept \" S\" as E5 << accept action>> [[psysml:56f9bc80-23d6-47f0-bfbf-c5e902f86ac6 ]] \r\n",
       "send \" S() to  B()\" as E6 << send action>> [[psysml:baf32606-26e9-4cc3-a29f-e775486b01d7 ]] \r\n",
       "choice \"<s>noname</s>\" as E7  [[psysml:de118d49-a158-4609-b10e-b605b2688318 ]] \r\n",
       "[*] - -> E4 [[psysml:fb7d5adc-5880-4810-9813-86e53c07f96a ]] \r\n",
       "E7  - -> [*] [[psysml:c9de1ce8-1045-4471-9685-45647676290c ]] \r\n",
       "}\r\n",
       "\r\n",
       "rec def \"B\" as E8  <<(T,blue) action def>> [[psysml:79d3a6ab-38cc-49fb-ab8f-d1828ed09a3c ]] {\r\n",
       "}\r\n",
       "\r\n",
       "}\r\n",
       "E4 - -> \"*\"E5 [[psysml:674af9b4-5477-4a2d-9c32-c1d49aef2cdc ]] \r\n",
       "E5 - -> \"*\"E6 [[psysml:f1d57d75-7b92-4f65-894e-3c0dce6664b2 ]] \r\n",
       "E6 - -> \"*\"E7 [[psysml:5bbe4286-aec7-454e-8b07-ff0b44373e66 ]] \r\n",
       "E7  - -> \"*\"E4 [[psysml:df5824e0-bb07-4266-b9ed-97217b9e7a59 ]] : [true]\r\n",
       "@enduml\r\n",
       "\n",
       "PlantUML version 1.2020.13(Sat Jun 13 12:26:38 UTC 2020)\n",
       "(EPL source distribution)\n",
       "Java Runtime: OpenJDK Runtime Environment\n",
       "JVM: OpenJDK 64-Bit Server VM\n",
       "Default Encoding: UTF-8\n",
       "Language: en\n",
       "Country: null\n",
       "--></g></svg>"
      ]
     },
     "execution_count": 29,
     "metadata": {},
     "output_type": "execute_result"
    }
   ],
   "source": [
    "%viz --style=\"STDCOLOR\" --view=\"MIXED\" \"ActionTest\""
   ]
  },
  {
   "cell_type": "code",
   "execution_count": 30,
   "id": "29218935",
   "metadata": {
    "execution": {
     "iopub.execute_input": "2021-09-27T07:16:56.477025Z",
     "iopub.status.busy": "2021-09-27T07:16:56.476633Z",
     "iopub.status.idle": "2021-09-27T07:16:56.541796Z",
     "shell.execute_reply": "2021-09-27T07:16:56.541441Z"
    }
   },
   "outputs": [
    {
     "data": {
      "image/svg+xml": [
       "<?xml version=\"1.0\" encoding=\"UTF-8\" standalone=\"no\"?><svg xmlns=\"http://www.w3.org/2000/svg\" xmlns:xlink=\"http://www.w3.org/1999/xlink\" contentScriptType=\"application/ecmascript\" contentStyleType=\"text/css\" height=\"684px\" preserveAspectRatio=\"none\" style=\"width:570px;height:684px;\" version=\"1.1\" viewBox=\"0 0 570 684\" width=\"570px\" zoomAndPan=\"magnify\"><defs><filter height=\"300%\" id=\"f1nvuxjxdoopvp\" width=\"300%\" x=\"-1\" y=\"-1\"><feGaussianBlur result=\"blurOut\" stdDeviation=\"2.0\"/><feColorMatrix in=\"blurOut\" result=\"blurOut2\" type=\"matrix\" values=\"0 0 0 0 0 0 0 0 0 0 0 0 0 0 0 0 0 0 .4 0\"/><feOffset dx=\"4.0\" dy=\"4.0\" in=\"blurOut2\" result=\"blurOut3\"/><feBlend in=\"SourceGraphic\" in2=\"blurOut3\" mode=\"normal\"/></filter></defs><g><!--MD5=[fbc87193dbaf4d95561dea2c320d4a47]\n",
       "cluster E1--><a href=\"psysml:a2683da9-1b6e-41fc-828a-cc7d1e5b2935\" target=\"_top\" title=\"psysml:a2683da9-1b6e-41fc-828a-cc7d1e5b2935\" xlink:actuate=\"onRequest\" xlink:href=\"psysml:a2683da9-1b6e-41fc-828a-cc7d1e5b2935\" xlink:show=\"new\" xlink:title=\"psysml:a2683da9-1b6e-41fc-828a-cc7d1e5b2935\" xlink:type=\"simple\"><polygon fill=\"#FFFFFF\" filter=\"url(#f1nvuxjxdoopvp)\" points=\"16,6,96,6,103,28.2969,548,28.2969,548,672,16,672,16,6\" style=\"stroke: #000000; stroke-width: 1.5;\"/><line style=\"stroke: #000000; stroke-width: 1.5;\" x1=\"16\" x2=\"103\" y1=\"28.2969\" y2=\"28.2969\"/><text fill=\"#000000\" font-family=\"sans-serif\" font-size=\"14\" font-weight=\"bold\" lengthAdjust=\"spacingAndGlyphs\" textLength=\"74\" x=\"20\" y=\"20.9951\">ActionTest</text></a><!--MD5=[d5e69f78d87373223dbae638b30a9c99]\n",
       "cluster E3--><a href=\"psysml:88e0a3c5-b7f9-4d13-8306-ae5e61691436\" target=\"_top\" title=\"psysml:88e0a3c5-b7f9-4d13-8306-ae5e61691436\" xlink:actuate=\"onRequest\" xlink:href=\"psysml:88e0a3c5-b7f9-4d13-8306-ae5e61691436\" xlink:show=\"new\" xlink:title=\"psysml:88e0a3c5-b7f9-4d13-8306-ae5e61691436\" xlink:type=\"simple\"><rect fill=\"#FFFFFF\" filter=\"url(#f1nvuxjxdoopvp)\" height=\"599\" id=\"E3\" rx=\"10\" ry=\"10\" style=\"stroke: #A80036; stroke-width: 1.5;\" width=\"209\" x=\"315\" y=\"49\"/><rect fill=\"#FEFECE\" height=\"37.9375\" rx=\"10\" ry=\"10\" style=\"stroke: #FEFECE; stroke-width: 1.5;\" width=\"209\" x=\"315\" y=\"49\"/><rect fill=\"#FEFECE\" height=\"10\" style=\"stroke: #FEFECE; stroke-width: 1.5;\" width=\"209\" x=\"315\" y=\"76.9375\"/><rect fill=\"none\" height=\"599\" id=\"E3\" rx=\"10\" ry=\"10\" style=\"stroke: #A80036; stroke-width: 1.5;\" width=\"209\" x=\"315\" y=\"49\"/><text fill=\"#000000\" font-family=\"sans-serif\" font-size=\"12\" font-style=\"italic\" lengthAdjust=\"spacingAndGlyphs\" textLength=\"53\" x=\"393\" y=\"65.1387\">«action»</text><text fill=\"#000000\" font-family=\"sans-serif\" font-size=\"12\" lengthAdjust=\"spacingAndGlyphs\" textLength=\"8\" x=\"415.5\" y=\"79.1074\">a</text><line style=\"stroke: #A80036; stroke-width: 1.0;\" x1=\"315\" x2=\"524\" y1=\"86.9375\" y2=\"86.9375\"/></a><!--MD5=[b4997ac47864f28c2f74865a473b2911]\n",
       "class E2--><a href=\"psysml:9c87d4ab-cb1d-4b31-8fcd-81209805f4cd\" target=\"_top\" title=\"psysml:9c87d4ab-cb1d-4b31-8fcd-81209805f4cd\" xlink:actuate=\"onRequest\" xlink:href=\"psysml:9c87d4ab-cb1d-4b31-8fcd-81209805f4cd\" xlink:show=\"new\" xlink:title=\"psysml:9c87d4ab-cb1d-4b31-8fcd-81209805f4cd\" xlink:type=\"simple\"><rect fill=\"#FEFECE\" filter=\"url(#f1nvuxjxdoopvp)\" height=\"45.9375\" id=\"E2\" style=\"stroke: #A80036; stroke-width: 1.5;\" width=\"121\" x=\"177.5\" y=\"87\"/><ellipse cx=\"192.5\" cy=\"105.9688\" fill=\"#A52A2A\" rx=\"11\" ry=\"11\" style=\"stroke: #A80036; stroke-width: 1.0;\"/><path d=\"M189.7188,110.9688 L189.7188,100.375 L192.4531,100.375 Q193.8438,100.375 194.6094,100.7656 Q195.3906,101.1406 195.9219,101.8438 Q196.4531,102.5469 196.75,103.5469 Q197.0469,104.5313 197.0469,105.75 Q197,107.3438 196.5,108.5313 Q196.0156,109.7031 194.9688,110.3438 Q193.9375,110.9688 192.25,110.9688 L189.7188,110.9688 Z M191.5781,109.4688 L192.2031,109.4688 Q193.2813,109.4688 193.9375,109.0156 Q194.5938,108.5625 194.875,107.7344 Q195.1719,106.8906 195.1563,105.7656 Q195.1563,104.5938 194.9063,103.7344 Q194.6563,102.8594 194.0469,102.3906 Q193.4375,101.9063 192.3906,101.9063 L191.5781,101.9063 L191.5781,109.4688 Z \"/><text fill=\"#000000\" font-family=\"sans-serif\" font-size=\"12\" font-style=\"italic\" lengthAdjust=\"spacingAndGlyphs\" textLength=\"93\" x=\"204.5\" y=\"103.1387\">«attribute def»</text><text fill=\"#000000\" font-family=\"sans-serif\" font-size=\"12\" lengthAdjust=\"spacingAndGlyphs\" textLength=\"8\" x=\"247\" y=\"117.1074\">S</text><line style=\"stroke: #A80036; stroke-width: 1.5;\" x1=\"178.5\" x2=\"297.5\" y1=\"124.9375\" y2=\"124.9375\"/></a><polygon fill=\"#FEFECE\" filter=\"url(#f1nvuxjxdoopvp)\" points=\"472,194,484,206,472,218,460,206,472,194\" style=\"stroke: #A80036; stroke-width: 1.5;\"/><!--MD5=[21dd76c19d33815960c0e92fef8f0eef]\n",
       "entity E5--><a href=\"psysml:56f9bc80-23d6-47f0-bfbf-c5e902f86ac6\" target=\"_top\" title=\"psysml:56f9bc80-23d6-47f0-bfbf-c5e902f86ac6\" xlink:actuate=\"onRequest\" xlink:href=\"psysml:56f9bc80-23d6-47f0-bfbf-c5e902f86ac6\" xlink:show=\"new\" xlink:title=\"psysml:56f9bc80-23d6-47f0-bfbf-c5e902f86ac6\" xlink:type=\"simple\"><polygon fill=\"#FEFECE\" filter=\"url(#f1nvuxjxdoopvp)\" points=\"331,279,331,333.5938,471,333.5938,451,306.2969,471,279\" style=\"stroke: #000000; stroke-width: 1.5;\"/><text fill=\"#000000\" font-family=\"sans-serif\" font-size=\"14\" font-style=\"italic\" lengthAdjust=\"spacingAndGlyphs\" textLength=\"111\" x=\"338\" y=\"301.9951\">«accept action»</text><text fill=\"#000000\" font-family=\"sans-serif\" font-size=\"14\" lengthAdjust=\"spacingAndGlyphs\" textLength=\"9\" x=\"389\" y=\"319.292\">S</text></a><!--MD5=[24d87cdf3002d433f401b2a2aa9f9f65]\n",
       "entity E6--><a href=\"psysml:baf32606-26e9-4cc3-a29f-e775486b01d7\" target=\"_top\" title=\"psysml:baf32606-26e9-4cc3-a29f-e775486b01d7\" xlink:actuate=\"onRequest\" xlink:href=\"psysml:baf32606-26e9-4cc3-a29f-e775486b01d7\" xlink:show=\"new\" xlink:title=\"psysml:baf32606-26e9-4cc3-a29f-e775486b01d7\" xlink:type=\"simple\"><polygon fill=\"#FEFECE\" filter=\"url(#f1nvuxjxdoopvp)\" points=\"331,411,331,465.5938,439,465.5938,459,438.2969,439,411\" style=\"stroke: #000000; stroke-width: 1.5;\"/><text fill=\"#000000\" font-family=\"sans-serif\" font-size=\"14\" font-style=\"italic\" lengthAdjust=\"spacingAndGlyphs\" textLength=\"99\" x=\"338\" y=\"433.9951\">«send action»</text><text fill=\"#000000\" font-family=\"sans-serif\" font-size=\"14\" lengthAdjust=\"spacingAndGlyphs\" textLength=\"65\" x=\"355\" y=\"451.292\">S() to  B()</text></a><polygon fill=\"#FEFECE\" filter=\"url(#f1nvuxjxdoopvp)\" points=\"470,527,482,539,470,551,458,539,470,527\" style=\"stroke: #A80036; stroke-width: 1.5;\"/><ellipse cx=\"472\" cy=\"110\" fill=\"#000000\" filter=\"url(#f1nvuxjxdoopvp)\" rx=\"10\" ry=\"10\" style=\"stroke: none; stroke-width: 1.0;\"/><ellipse cx=\"470\" cy=\"622\" fill=\"none\" filter=\"url(#f1nvuxjxdoopvp)\" rx=\"10\" ry=\"10\" style=\"stroke: #000000; stroke-width: 1.0;\"/><ellipse cx=\"470.5\" cy=\"622.5\" fill=\"#000000\" rx=\"6\" ry=\"6\" style=\"stroke: none; stroke-width: 1.0;\"/><g id=\"E1.E8\"><a href=\"psysml:79d3a6ab-38cc-49fb-ab8f-d1828ed09a3c\" target=\"_top\" title=\"psysml:79d3a6ab-38cc-49fb-ab8f-d1828ed09a3c\" xlink:actuate=\"onRequest\" xlink:href=\"psysml:79d3a6ab-38cc-49fb-ab8f-d1828ed09a3c\" xlink:show=\"new\" xlink:title=\"psysml:79d3a6ab-38cc-49fb-ab8f-d1828ed09a3c\" xlink:type=\"simple\"><rect fill=\"#FEFECE\" filter=\"url(#f1nvuxjxdoopvp)\" height=\"42.9375\" id=\"E8\" style=\"stroke: #A80036; stroke-width: 1.5;\" width=\"110\" x=\"32\" y=\"88.5\"/><ellipse cx=\"49.25\" cy=\"107.4688\" fill=\"#FFFACD\" rx=\"11\" ry=\"11\" style=\"stroke: #A80036; stroke-width: 1.0;\"/><path d=\"M46.125,112.4688 L46.125,101.875 L49.3594,101.875 Q51.2656,101.875 52.1719,102.625 Q53.0938,103.375 53.0938,104.5469 Q53.0938,105.2344 52.7031,105.8906 Q52.3281,106.5469 51.6094,106.8438 Q52.4688,107.2188 52.9844,107.9063 Q53.5,108.5938 53.5,109.4063 Q53.5,110.7813 52.4688,111.625 Q51.4531,112.4688 49.3438,112.4688 L46.125,112.4688 Z M48.0469,106.1094 L49.2031,106.1094 Q50.3281,106.1094 50.7344,105.7344 Q51.1563,105.3438 51.1563,104.7188 Q51.1563,104.1406 50.7344,103.7813 Q50.3125,103.4219 49.375,103.4219 L48.0469,103.4219 L48.0469,106.1094 Z M48.0469,110.8906 L49.5469,110.8906 Q50.4531,110.8906 50.9844,110.5 Q51.5156,110.1094 51.5156,109.3594 Q51.5156,108.5938 51.0156,108.125 Q50.5156,107.6406 49.25,107.6406 L48.0469,107.6406 L48.0469,110.8906 Z \"/><text fill=\"#000000\" font-family=\"sans-serif\" font-size=\"12\" font-style=\"italic\" lengthAdjust=\"spacingAndGlyphs\" textLength=\"77\" x=\"61.75\" y=\"104.6387\">«action def»</text><text fill=\"#000000\" font-family=\"sans-serif\" font-size=\"12\" lengthAdjust=\"spacingAndGlyphs\" textLength=\"8\" x=\"96.25\" y=\"118.6074\">B</text></a></g><!--MD5=[f47e10efcf9a6752d55dae986d790ed9]\n",
       "link *start*E3 to E4--><a href=\"psysml:fb7d5adc-5880-4810-9813-86e53c07f96a\" target=\"_top\" title=\"psysml:fb7d5adc-5880-4810-9813-86e53c07f96a\" xlink:actuate=\"onRequest\" xlink:href=\"psysml:fb7d5adc-5880-4810-9813-86e53c07f96a\" xlink:show=\"new\" xlink:title=\"psysml:fb7d5adc-5880-4810-9813-86e53c07f96a\" xlink:type=\"simple\"><path d=\"M472,120.01 C472,135.81 472,168.69 472,188.61 \" fill=\"none\" id=\"*start*E3-&gt;E4\" style=\"stroke: #A80036; stroke-width: 1.0;\"/><polygon fill=\"#A80036\" points=\"472,193.85,476,184.85,472,188.85,468,184.85,472,193.85\" style=\"stroke: #A80036; stroke-width: 1.0;\"/></a><!--MD5=[d19f2eb34364d71b67042106d92f540b]\n",
       "link E7 to *end*E3--><a href=\"psysml:c9de1ce8-1045-4471-9685-45647676290c\" target=\"_top\" title=\"psysml:c9de1ce8-1045-4471-9685-45647676290c\" xlink:actuate=\"onRequest\" xlink:href=\"psysml:c9de1ce8-1045-4471-9685-45647676290c\" xlink:show=\"new\" xlink:title=\"psysml:c9de1ce8-1045-4471-9685-45647676290c\" xlink:type=\"simple\"><path d=\"M470,551.26 C470,565.66 470,590.63 470,606.46 \" fill=\"none\" id=\"E7-&gt;*end*E3\" style=\"stroke: #A80036; stroke-width: 1.0;\"/><polygon fill=\"#A80036\" points=\"470,611.84,474,602.84,470,606.84,466,602.84,470,611.84\" style=\"stroke: #A80036; stroke-width: 1.0;\"/></a><!--MD5=[1b7591eae5389033d8d09a9d6721a717]\n",
       "link E4 to E5--><a href=\"psysml:674af9b4-5477-4a2d-9c32-c1d49aef2cdc\" target=\"_top\" title=\"psysml:674af9b4-5477-4a2d-9c32-c1d49aef2cdc\" xlink:actuate=\"onRequest\" xlink:href=\"psysml:674af9b4-5477-4a2d-9c32-c1d49aef2cdc\" xlink:show=\"new\" xlink:title=\"psysml:674af9b4-5477-4a2d-9c32-c1d49aef2cdc\" xlink:type=\"simple\"><path d=\"M467.34,213.46 C458.55,225.66 438.99,252.8 423.37,274.46 \" fill=\"none\" id=\"E4-&gt;E5\" style=\"stroke: #A80036; stroke-width: 1.0;\"/><polygon fill=\"#A80036\" points=\"420.31,278.71,428.8093,273.7339,423.227,274.6491,422.3119,269.0667,420.31,278.71\" style=\"stroke: #A80036; stroke-width: 1.0;\"/><text fill=\"#000000\" font-family=\"sans-serif\" font-size=\"13\" lengthAdjust=\"spacingAndGlyphs\" textLength=\"7\" x=\"416.7684\" y=\"268.1162\">*</text></a><!--MD5=[9120cf2e5df3bff93db8f754bbbc09b4]\n",
       "link E5 to E6--><a href=\"psysml:f1d57d75-7b92-4f65-894e-3c0dce6664b2\" target=\"_top\" title=\"psysml:f1d57d75-7b92-4f65-894e-3c0dce6664b2\" xlink:actuate=\"onRequest\" xlink:href=\"psysml:f1d57d75-7b92-4f65-894e-3c0dce6664b2\" xlink:show=\"new\" xlink:title=\"psysml:f1d57d75-7b92-4f65-894e-3c0dce6664b2\" xlink:type=\"simple\"><path d=\"M399.77,334.12 C398.81,354.89 397.48,383.8 396.46,405.77 \" fill=\"none\" id=\"E5-&gt;E6\" style=\"stroke: #A80036; stroke-width: 1.0;\"/><polygon fill=\"#A80036\" points=\"396.23,410.91,400.6368,402.1021,396.4583,405.9152,392.6452,401.7367,396.23,410.91\" style=\"stroke: #A80036; stroke-width: 1.0;\"/><text fill=\"#000000\" font-family=\"sans-serif\" font-size=\"13\" lengthAdjust=\"spacingAndGlyphs\" textLength=\"7\" x=\"388.7051\" y=\"399.9247\">*</text></a><!--MD5=[02c70b7c851c11e3980e4e90450dc5dd]\n",
       "link E6 to E7--><a href=\"psysml:5bbe4286-aec7-454e-8b07-ff0b44373e66\" target=\"_top\" title=\"psysml:5bbe4286-aec7-454e-8b07-ff0b44373e66\" xlink:actuate=\"onRequest\" xlink:href=\"psysml:5bbe4286-aec7-454e-8b07-ff0b44373e66\" xlink:show=\"new\" xlink:title=\"psysml:5bbe4286-aec7-454e-8b07-ff0b44373e66\" xlink:type=\"simple\"><path d=\"M415.3,466.16 C430.71,486.4 451.07,513.14 462.09,527.61 \" fill=\"none\" id=\"E6-&gt;E7\" style=\"stroke: #A80036; stroke-width: 1.0;\"/><polygon fill=\"#A80036\" points=\"465.2,531.69,462.9398,522.104,462.1749,527.7089,456.57,526.9441,465.2,531.69\" style=\"stroke: #A80036; stroke-width: 1.0;\"/><text fill=\"#000000\" font-family=\"sans-serif\" font-size=\"13\" lengthAdjust=\"spacingAndGlyphs\" textLength=\"7\" x=\"450.9375\" y=\"515.8563\">*</text></a><!--MD5=[6bdd27f9905911a7e892a3dc65cf6b7c]\n",
       "link E7 to E4--><a href=\"psysml:df5824e0-bb07-4266-b9ed-97217b9e7a59\" target=\"_top\" title=\"psysml:df5824e0-bb07-4266-b9ed-97217b9e7a59\" xlink:actuate=\"onRequest\" xlink:href=\"psysml:df5824e0-bb07-4266-b9ed-97217b9e7a59\" xlink:show=\"new\" xlink:title=\"psysml:df5824e0-bb07-4266-b9ed-97217b9e7a59\" xlink:type=\"simple\"><path d=\"M471.98,528.56 C478.8,494.71 500.32,376.18 489,279 C486.59,258.32 480.42,234.96 476.21,220.61 \" fill=\"none\" id=\"E7-&gt;E4\" style=\"stroke: #A80036; stroke-width: 1.0;\"/><polygon fill=\"#A80036\" points=\"474.76,215.75,473.4935,225.5171,476.1863,220.5423,481.1611,223.2351,474.76,215.75\" style=\"stroke: #A80036; stroke-width: 1.0;\"/><text fill=\"#000000\" font-family=\"sans-serif\" font-size=\"13\" lengthAdjust=\"spacingAndGlyphs\" textLength=\"36\" x=\"492\" y=\"377.0669\">[true]</text><text fill=\"#000000\" font-family=\"sans-serif\" font-size=\"13\" lengthAdjust=\"spacingAndGlyphs\" textLength=\"7\" x=\"467.3253\" y=\"237.9903\">*</text></a><!--MD5=[8b73ed0f35362ff86e59f02b13d9fc33]\n",
       "@startuml\r\n",
       " \r\n",
       "package \"ActionTest\" as E1  [[psysml:a2683da9-1b6e-41fc-828a-cc7d1e5b2935 ]]  {\r\n",
       "comp def \"S\" as E2 << <<(D,brown) attribute def>> [[psysml:9c87d4ab-cb1d-4b31-8fcd-81209805f4cd ]] {\r\n",
       "}\r\n",
       "rec usage \"a\" as E3 << <<(U,orange) action>> [[psysml:88e0a3c5-b7f9-4d13-8306-ae5e61691436 ]] {\r\n",
       "choice \"m\" as E4  [[psysml:207ebb71-0108-47ac-8eb2-03003f2402f5 ]] \r\n",
       "accept \" S\" as E5 << accept action>> [[psysml:56f9bc80-23d6-47f0-bfbf-c5e902f86ac6 ]] \r\n",
       "send \" S() to  B()\" as E6 << send action>> [[psysml:baf32606-26e9-4cc3-a29f-e775486b01d7 ]] \r\n",
       "choice \"<s>noname</s>\" as E7  [[psysml:de118d49-a158-4609-b10e-b605b2688318 ]] \r\n",
       "[*] - -> E4 [[psysml:fb7d5adc-5880-4810-9813-86e53c07f96a ]] \r\n",
       "E7  - -> [*] [[psysml:c9de1ce8-1045-4471-9685-45647676290c ]] \r\n",
       "}\r\n",
       "\r\n",
       "rec def \"B\" as E8 << <<(B,lemonchiffon) action def>> [[psysml:79d3a6ab-38cc-49fb-ab8f-d1828ed09a3c ]] {\r\n",
       "}\r\n",
       "\r\n",
       "}\r\n",
       "E4 - -> \"*\"E5 [[psysml:674af9b4-5477-4a2d-9c32-c1d49aef2cdc ]] \r\n",
       "E5 - -> \"*\"E6 [[psysml:f1d57d75-7b92-4f65-894e-3c0dce6664b2 ]] \r\n",
       "E6 - -> \"*\"E7 [[psysml:5bbe4286-aec7-454e-8b07-ff0b44373e66 ]] \r\n",
       "E7  - -> \"*\"E4 [[psysml:df5824e0-bb07-4266-b9ed-97217b9e7a59 ]] : [true]\r\n",
       "@enduml\r\n",
       "\n",
       "PlantUML version 1.2020.13(Sat Jun 13 12:26:38 UTC 2020)\n",
       "(EPL source distribution)\n",
       "Java Runtime: OpenJDK Runtime Environment\n",
       "JVM: OpenJDK 64-Bit Server VM\n",
       "Default Encoding: UTF-8\n",
       "Language: en\n",
       "Country: null\n",
       "--></g></svg>"
      ]
     },
     "execution_count": 30,
     "metadata": {},
     "output_type": "execute_result"
    }
   ],
   "source": [
    "%viz --style=\"PLANTUML\" --view=\"Default\" \"ActionTest\""
   ]
  },
  {
   "cell_type": "code",
   "execution_count": 31,
   "id": "06b42d09",
   "metadata": {
    "execution": {
     "iopub.execute_input": "2021-09-27T07:16:56.591743Z",
     "iopub.status.busy": "2021-09-27T07:16:56.591364Z",
     "iopub.status.idle": "2021-09-27T07:16:56.627502Z",
     "shell.execute_reply": "2021-09-27T07:16:56.627206Z"
    }
   },
   "outputs": [
    {
     "data": {
      "image/svg+xml": [
       "<?xml version=\"1.0\" encoding=\"UTF-8\" standalone=\"no\"?><svg xmlns=\"http://www.w3.org/2000/svg\" xmlns:xlink=\"http://www.w3.org/1999/xlink\" contentScriptType=\"application/ecmascript\" contentStyleType=\"text/css\" height=\"327px\" preserveAspectRatio=\"none\" style=\"width:807px;height:327px;\" version=\"1.1\" viewBox=\"0 0 807 327\" width=\"807px\" zoomAndPan=\"magnify\"><defs><filter height=\"300%\" id=\"f1qz3psqjf5nt5\" width=\"300%\" x=\"-1\" y=\"-1\"><feGaussianBlur result=\"blurOut\" stdDeviation=\"2.0\"/><feColorMatrix in=\"blurOut\" result=\"blurOut2\" type=\"matrix\" values=\"0 0 0 0 0 0 0 0 0 0 0 0 0 0 0 0 0 0 .4 0\"/><feOffset dx=\"4.0\" dy=\"4.0\" in=\"blurOut2\" result=\"blurOut3\"/><feBlend in=\"SourceGraphic\" in2=\"blurOut3\" mode=\"normal\"/></filter></defs><g><!--MD5=[fbc87193dbaf4d95561dea2c320d4a47]\n",
       "cluster E1--><a href=\"psysml:a2683da9-1b6e-41fc-828a-cc7d1e5b2935\" target=\"_top\" title=\"psysml:a2683da9-1b6e-41fc-828a-cc7d1e5b2935\" xlink:actuate=\"onRequest\" xlink:href=\"psysml:a2683da9-1b6e-41fc-828a-cc7d1e5b2935\" xlink:show=\"new\" xlink:title=\"psysml:a2683da9-1b6e-41fc-828a-cc7d1e5b2935\" xlink:type=\"simple\"><polygon fill=\"#FFFFFF\" filter=\"url(#f1qz3psqjf5nt5)\" points=\"16,6,96,6,103,28.2969,785,28.2969,785,315,16,315,16,6\" style=\"stroke: #000000; stroke-width: 1.5;\"/><line style=\"stroke: #000000; stroke-width: 1.5;\" x1=\"16\" x2=\"103\" y1=\"28.2969\" y2=\"28.2969\"/><text fill=\"#000000\" font-family=\"sans-serif\" font-size=\"14\" font-weight=\"bold\" lengthAdjust=\"spacingAndGlyphs\" textLength=\"74\" x=\"20\" y=\"20.9951\">ActionTest</text></a><!--MD5=[b4997ac47864f28c2f74865a473b2911]\n",
       "class E2--><a href=\"psysml:9c87d4ab-cb1d-4b31-8fcd-81209805f4cd\" target=\"_top\" title=\"psysml:9c87d4ab-cb1d-4b31-8fcd-81209805f4cd\" xlink:actuate=\"onRequest\" xlink:href=\"psysml:9c87d4ab-cb1d-4b31-8fcd-81209805f4cd\" xlink:show=\"new\" xlink:title=\"psysml:9c87d4ab-cb1d-4b31-8fcd-81209805f4cd\" xlink:type=\"simple\"><rect fill=\"#FEFECE\" filter=\"url(#f1qz3psqjf5nt5)\" height=\"45.9375\" id=\"E2\" style=\"stroke: #A80036; stroke-width: 1.5;\" width=\"121\" x=\"330.5\" y=\"253\"/><ellipse cx=\"345.5\" cy=\"271.9688\" fill=\"#A52A2A\" rx=\"11\" ry=\"11\" style=\"stroke: #A80036; stroke-width: 1.0;\"/><path d=\"M342.7188,276.9688 L342.7188,266.375 L345.4531,266.375 Q346.8438,266.375 347.6094,266.7656 Q348.3906,267.1406 348.9219,267.8438 Q349.4531,268.5469 349.75,269.5469 Q350.0469,270.5313 350.0469,271.75 Q350,273.3438 349.5,274.5313 Q349.0156,275.7031 347.9688,276.3438 Q346.9375,276.9688 345.25,276.9688 L342.7188,276.9688 Z M344.5781,275.4688 L345.2031,275.4688 Q346.2813,275.4688 346.9375,275.0156 Q347.5938,274.5625 347.875,273.7344 Q348.1719,272.8906 348.1563,271.7656 Q348.1563,270.5938 347.9063,269.7344 Q347.6563,268.8594 347.0469,268.3906 Q346.4375,267.9063 345.3906,267.9063 L344.5781,267.9063 L344.5781,275.4688 Z \"/><text fill=\"#000000\" font-family=\"sans-serif\" font-size=\"12\" font-style=\"italic\" lengthAdjust=\"spacingAndGlyphs\" textLength=\"93\" x=\"357.5\" y=\"269.1387\">«attribute def»</text><text fill=\"#000000\" font-family=\"sans-serif\" font-size=\"12\" lengthAdjust=\"spacingAndGlyphs\" textLength=\"8\" x=\"400\" y=\"283.1074\">S</text><line style=\"stroke: #A80036; stroke-width: 1.5;\" x1=\"331.5\" x2=\"450.5\" y1=\"290.9375\" y2=\"290.9375\"/></a><!--MD5=[09b614a08d8cba4a07c9adeb5e0fee81]\n",
       "class E3--><a href=\"psysml:88e0a3c5-b7f9-4d13-8306-ae5e61691436\" target=\"_top\" title=\"psysml:88e0a3c5-b7f9-4d13-8306-ae5e61691436\" xlink:actuate=\"onRequest\" xlink:href=\"psysml:88e0a3c5-b7f9-4d13-8306-ae5e61691436\" xlink:show=\"new\" xlink:title=\"psysml:88e0a3c5-b7f9-4d13-8306-ae5e61691436\" xlink:type=\"simple\"><rect fill=\"#FEFECE\" filter=\"url(#f1qz3psqjf5nt5)\" height=\"45.9375\" id=\"E3\" rx=\"10\" ry=\"10\" style=\"stroke: #A80036; stroke-width: 1.5;\" width=\"81\" x=\"350.5\" y=\"41\"/><ellipse cx=\"365.5\" cy=\"59.9688\" fill=\"#FFA500\" rx=\"11\" ry=\"11\" style=\"stroke: #A80036; stroke-width: 1.0;\"/><path d=\"M365.25,65.4375 Q363.5,65.4375 362.5469,64.4063 Q361.6094,63.3594 361.6094,61.5156 L361.6094,54.625 L363.6719,54.625 L363.6719,54.7813 Q363.5781,54.875 363.5469,55.0156 Q363.5313,55.1406 363.5313,55.4063 L363.5313,61.5313 Q363.5313,62.625 363.9063,63.25 Q364.2813,63.875 365.2656,63.875 Q366.25,63.875 366.6406,63.25 Q367.0313,62.625 367.0313,61.4844 L367.0313,54.625 L368.9063,54.625 L368.9063,61.4688 Q368.9063,63.5 367.875,64.4688 Q366.8594,65.4375 365.25,65.4375 Z \"/><text fill=\"#000000\" font-family=\"sans-serif\" font-size=\"12\" font-style=\"italic\" lengthAdjust=\"spacingAndGlyphs\" textLength=\"53\" x=\"377.5\" y=\"57.1387\">«action»</text><text fill=\"#000000\" font-family=\"sans-serif\" font-size=\"12\" lengthAdjust=\"spacingAndGlyphs\" textLength=\"8\" x=\"400\" y=\"71.1074\">a</text><line style=\"stroke: #A80036; stroke-width: 1.5;\" x1=\"351.5\" x2=\"430.5\" y1=\"78.9375\" y2=\"78.9375\"/></a><!--MD5=[ebbe1d658d1005bcc118a6aa81145e00]\n",
       "class E4--><a href=\"psysml:ed24d8b9-3ec6-4590-a85f-1d8fbc6b009f\" target=\"_top\" title=\"psysml:ed24d8b9-3ec6-4590-a85f-1d8fbc6b009f\" xlink:actuate=\"onRequest\" xlink:href=\"psysml:ed24d8b9-3ec6-4590-a85f-1d8fbc6b009f\" xlink:show=\"new\" xlink:title=\"psysml:ed24d8b9-3ec6-4590-a85f-1d8fbc6b009f\" xlink:type=\"simple\"><rect fill=\"#FEFECE\" filter=\"url(#f1qz3psqjf5nt5)\" height=\"45.9375\" id=\"E4\" rx=\"10\" ry=\"10\" style=\"stroke: #A80036; stroke-width: 1.5;\" width=\"109\" x=\"32.5\" y=\"147\"/><ellipse cx=\"47.5\" cy=\"165.9688\" fill=\"#FFA500\" rx=\"11\" ry=\"11\" style=\"stroke: #A80036; stroke-width: 1.0;\"/><path d=\"M47.25,171.4375 Q45.5,171.4375 44.5469,170.4063 Q43.6094,169.3594 43.6094,167.5156 L43.6094,160.625 L45.6719,160.625 L45.6719,160.7813 Q45.5781,160.875 45.5469,161.0156 Q45.5313,161.1406 45.5313,161.4063 L45.5313,167.5313 Q45.5313,168.625 45.9063,169.25 Q46.2813,169.875 47.2656,169.875 Q48.25,169.875 48.6406,169.25 Q49.0313,168.625 49.0313,167.4844 L49.0313,160.625 L50.9063,160.625 L50.9063,167.4688 Q50.9063,169.5 49.875,170.4688 Q48.8594,171.4375 47.25,171.4375 Z \"/><text fill=\"#000000\" font-family=\"sans-serif\" font-size=\"12\" font-style=\"italic\" lengthAdjust=\"spacingAndGlyphs\" textLength=\"53\" x=\"73.5\" y=\"163.1387\">«action»</text><text fill=\"#000000\" font-family=\"sans-serif\" font-size=\"12\" lengthAdjust=\"spacingAndGlyphs\" textLength=\"77\" x=\"61.5\" y=\"177.1074\">start: Action</text><line style=\"stroke: #A80036; stroke-width: 1.5;\" x1=\"33.5\" x2=\"140.5\" y1=\"184.9375\" y2=\"184.9375\"/></a><!--MD5=[270fce915f116d4de14055a7c1d9a0f3]\n",
       "class E5--><a href=\"psysml:207ebb71-0108-47ac-8eb2-03003f2402f5\" target=\"_top\" title=\"psysml:207ebb71-0108-47ac-8eb2-03003f2402f5\" xlink:actuate=\"onRequest\" xlink:href=\"psysml:207ebb71-0108-47ac-8eb2-03003f2402f5\" xlink:show=\"new\" xlink:title=\"psysml:207ebb71-0108-47ac-8eb2-03003f2402f5\" xlink:type=\"simple\"><rect fill=\"#FEFECE\" filter=\"url(#f1qz3psqjf5nt5)\" height=\"45.9375\" id=\"E5\" rx=\"10\" ry=\"10\" style=\"stroke: #A80036; stroke-width: 1.5;\" width=\"115\" x=\"176.5\" y=\"147\"/><ellipse cx=\"191.5\" cy=\"165.9688\" fill=\"#FFA500\" rx=\"11\" ry=\"11\" style=\"stroke: #A80036; stroke-width: 1.0;\"/><path d=\"M191.25,171.4375 Q189.5,171.4375 188.5469,170.4063 Q187.6094,169.3594 187.6094,167.5156 L187.6094,160.625 L189.6719,160.625 L189.6719,160.7813 Q189.5781,160.875 189.5469,161.0156 Q189.5313,161.1406 189.5313,161.4063 L189.5313,167.5313 Q189.5313,168.625 189.9063,169.25 Q190.2813,169.875 191.2656,169.875 Q192.25,169.875 192.6406,169.25 Q193.0313,168.625 193.0313,167.4844 L193.0313,160.625 L194.9063,160.625 L194.9063,167.4688 Q194.9063,169.5 193.875,170.4688 Q192.8594,171.4375 191.25,171.4375 Z \"/><text fill=\"#000000\" font-family=\"sans-serif\" font-size=\"12\" font-style=\"italic\" lengthAdjust=\"spacingAndGlyphs\" textLength=\"87\" x=\"203.5\" y=\"163.1387\">«mergeNode»</text><text fill=\"#000000\" font-family=\"sans-serif\" font-size=\"12\" lengthAdjust=\"spacingAndGlyphs\" textLength=\"11\" x=\"241.5\" y=\"177.1074\">m</text><line style=\"stroke: #A80036; stroke-width: 1.5;\" x1=\"177.5\" x2=\"290.5\" y1=\"184.9375\" y2=\"184.9375\"/></a><!--MD5=[60a26617385b1d2d0262a64233df1f8d]\n",
       "class E6--><a href=\"psysml:56f9bc80-23d6-47f0-bfbf-c5e902f86ac6\" target=\"_top\" title=\"psysml:56f9bc80-23d6-47f0-bfbf-c5e902f86ac6\" xlink:actuate=\"onRequest\" xlink:href=\"psysml:56f9bc80-23d6-47f0-bfbf-c5e902f86ac6\" xlink:show=\"new\" xlink:title=\"psysml:56f9bc80-23d6-47f0-bfbf-c5e902f86ac6\" xlink:type=\"simple\"><rect fill=\"#FEFECE\" filter=\"url(#f1qz3psqjf5nt5)\" height=\"45.9375\" id=\"E6\" rx=\"10\" ry=\"10\" style=\"stroke: #A80036; stroke-width: 1.5;\" width=\"128\" x=\"327\" y=\"147\"/><ellipse cx=\"342\" cy=\"165.9688\" fill=\"#B6DBBB\" rx=\"11\" ry=\"11\" style=\"stroke: #A80036; stroke-width: 1.0;\"/><path d=\"M341.75,171.4375 Q340,171.4375 339.0469,170.4063 Q338.1094,169.3594 338.1094,167.5156 L338.1094,160.625 L340.1719,160.625 L340.1719,160.7813 Q340.0781,160.875 340.0469,161.0156 Q340.0313,161.1406 340.0313,161.4063 L340.0313,167.5313 Q340.0313,168.625 340.4063,169.25 Q340.7813,169.875 341.7656,169.875 Q342.75,169.875 343.1406,169.25 Q343.5313,168.625 343.5313,167.4844 L343.5313,160.625 L345.4063,160.625 L345.4063,167.4688 Q345.4063,169.5 344.375,170.4688 Q343.3594,171.4375 341.75,171.4375 Z \"/><text fill=\"#000000\" font-family=\"sans-serif\" font-size=\"12\" font-style=\"italic\" lengthAdjust=\"spacingAndGlyphs\" textLength=\"100\" x=\"354\" y=\"163.1387\">«accept action»</text><text fill=\"#000000\" font-family=\"sans-serif\" font-size=\"12\" lengthAdjust=\"spacingAndGlyphs\" text-decoration=\"line-through\" textLength=\"51\" x=\"378.5\" y=\"177.1074\">noname</text><line style=\"stroke: #A80036; stroke-width: 1.5;\" x1=\"328\" x2=\"454\" y1=\"184.9375\" y2=\"184.9375\"/></a><!--MD5=[2156ba9850f5573cc1fc38a6a4b2f02b]\n",
       "class E7--><a href=\"psysml:baf32606-26e9-4cc3-a29f-e775486b01d7\" target=\"_top\" title=\"psysml:baf32606-26e9-4cc3-a29f-e775486b01d7\" xlink:actuate=\"onRequest\" xlink:href=\"psysml:baf32606-26e9-4cc3-a29f-e775486b01d7\" xlink:show=\"new\" xlink:title=\"psysml:baf32606-26e9-4cc3-a29f-e775486b01d7\" xlink:type=\"simple\"><rect fill=\"#FEFECE\" filter=\"url(#f1qz3psqjf5nt5)\" height=\"45.9375\" id=\"E7\" rx=\"10\" ry=\"10\" style=\"stroke: #A80036; stroke-width: 1.5;\" width=\"116\" x=\"490\" y=\"147\"/><ellipse cx=\"505\" cy=\"165.9688\" fill=\"#B6DBBB\" rx=\"11\" ry=\"11\" style=\"stroke: #A80036; stroke-width: 1.0;\"/><path d=\"M504.75,171.4375 Q503,171.4375 502.0469,170.4063 Q501.1094,169.3594 501.1094,167.5156 L501.1094,160.625 L503.1719,160.625 L503.1719,160.7813 Q503.0781,160.875 503.0469,161.0156 Q503.0313,161.1406 503.0313,161.4063 L503.0313,167.5313 Q503.0313,168.625 503.4063,169.25 Q503.7813,169.875 504.7656,169.875 Q505.75,169.875 506.1406,169.25 Q506.5313,168.625 506.5313,167.4844 L506.5313,160.625 L508.4063,160.625 L508.4063,167.4688 Q508.4063,169.5 507.375,170.4688 Q506.3594,171.4375 504.75,171.4375 Z \"/><text fill=\"#000000\" font-family=\"sans-serif\" font-size=\"12\" font-style=\"italic\" lengthAdjust=\"spacingAndGlyphs\" textLength=\"88\" x=\"517\" y=\"163.1387\">«send action»</text><text fill=\"#000000\" font-family=\"sans-serif\" font-size=\"12\" lengthAdjust=\"spacingAndGlyphs\" text-decoration=\"line-through\" textLength=\"51\" x=\"535.5\" y=\"177.1074\">noname</text><line style=\"stroke: #A80036; stroke-width: 1.5;\" x1=\"491\" x2=\"605\" y1=\"184.9375\" y2=\"184.9375\"/></a><!--MD5=[b9389687b975829384b498ac4b7476b2]\n",
       "class E8--><a href=\"psysml:de118d49-a158-4609-b10e-b605b2688318\" target=\"_top\" title=\"psysml:de118d49-a158-4609-b10e-b605b2688318\" xlink:actuate=\"onRequest\" xlink:href=\"psysml:de118d49-a158-4609-b10e-b605b2688318\" xlink:show=\"new\" xlink:title=\"psysml:de118d49-a158-4609-b10e-b605b2688318\" xlink:type=\"simple\"><rect fill=\"#FEFECE\" filter=\"url(#f1qz3psqjf5nt5)\" height=\"45.9375\" id=\"E8\" rx=\"10\" ry=\"10\" style=\"stroke: #A80036; stroke-width: 1.5;\" width=\"127\" x=\"641.5\" y=\"147\"/><ellipse cx=\"656.5\" cy=\"165.9688\" fill=\"#FFA500\" rx=\"11\" ry=\"11\" style=\"stroke: #A80036; stroke-width: 1.0;\"/><path d=\"M656.25,171.4375 Q654.5,171.4375 653.5469,170.4063 Q652.6094,169.3594 652.6094,167.5156 L652.6094,160.625 L654.6719,160.625 L654.6719,160.7813 Q654.5781,160.875 654.5469,161.0156 Q654.5313,161.1406 654.5313,161.4063 L654.5313,167.5313 Q654.5313,168.625 654.9063,169.25 Q655.2813,169.875 656.2656,169.875 Q657.25,169.875 657.6406,169.25 Q658.0313,168.625 658.0313,167.4844 L658.0313,160.625 L659.9063,160.625 L659.9063,167.4688 Q659.9063,169.5 658.875,170.4688 Q657.8594,171.4375 656.25,171.4375 Z \"/><text fill=\"#000000\" font-family=\"sans-serif\" font-size=\"12\" font-style=\"italic\" lengthAdjust=\"spacingAndGlyphs\" textLength=\"99\" x=\"668.5\" y=\"163.1387\">«decisionNode»</text><text fill=\"#000000\" font-family=\"sans-serif\" font-size=\"12\" lengthAdjust=\"spacingAndGlyphs\" text-decoration=\"line-through\" textLength=\"51\" x=\"692.5\" y=\"177.1074\">noname</text><line style=\"stroke: #A80036; stroke-width: 1.5;\" x1=\"642.5\" x2=\"767.5\" y1=\"184.9375\" y2=\"184.9375\"/></a><!--MD5=[fd4143e9d270a159db93a4ea2a975926]\n",
       "class E9--><a href=\"psysml:79d3a6ab-38cc-49fb-ab8f-d1828ed09a3c\" target=\"_top\" title=\"psysml:79d3a6ab-38cc-49fb-ab8f-d1828ed09a3c\" xlink:actuate=\"onRequest\" xlink:href=\"psysml:79d3a6ab-38cc-49fb-ab8f-d1828ed09a3c\" xlink:show=\"new\" xlink:title=\"psysml:79d3a6ab-38cc-49fb-ab8f-d1828ed09a3c\" xlink:type=\"simple\"><rect fill=\"#FEFECE\" filter=\"url(#f1qz3psqjf5nt5)\" height=\"45.9375\" id=\"E9\" style=\"stroke: #A80036; stroke-width: 1.5;\" width=\"105\" x=\"121.5\" y=\"41\"/><ellipse cx=\"136.5\" cy=\"59.9688\" fill=\"#FFFACD\" rx=\"11\" ry=\"11\" style=\"stroke: #A80036; stroke-width: 1.0;\"/><path d=\"M133.375,64.9688 L133.375,54.375 L136.6094,54.375 Q138.5156,54.375 139.4219,55.125 Q140.3438,55.875 140.3438,57.0469 Q140.3438,57.7344 139.9531,58.3906 Q139.5781,59.0469 138.8594,59.3438 Q139.7188,59.7188 140.2344,60.4063 Q140.75,61.0938 140.75,61.9063 Q140.75,63.2813 139.7188,64.125 Q138.7031,64.9688 136.5938,64.9688 L133.375,64.9688 Z M135.2969,58.6094 L136.4531,58.6094 Q137.5781,58.6094 137.9844,58.2344 Q138.4063,57.8438 138.4063,57.2188 Q138.4063,56.6406 137.9844,56.2813 Q137.5625,55.9219 136.625,55.9219 L135.2969,55.9219 L135.2969,58.6094 Z M135.2969,63.3906 L136.7969,63.3906 Q137.7031,63.3906 138.2344,63 Q138.7656,62.6094 138.7656,61.8594 Q138.7656,61.0938 138.2656,60.625 Q137.7656,60.1406 136.5,60.1406 L135.2969,60.1406 L135.2969,63.3906 Z \"/><text fill=\"#000000\" font-family=\"sans-serif\" font-size=\"12\" font-style=\"italic\" lengthAdjust=\"spacingAndGlyphs\" textLength=\"77\" x=\"148.5\" y=\"57.1387\">«action def»</text><text fill=\"#000000\" font-family=\"sans-serif\" font-size=\"12\" lengthAdjust=\"spacingAndGlyphs\" textLength=\"8\" x=\"183\" y=\"71.1074\">B</text><line style=\"stroke: #A80036; stroke-width: 1.5;\" x1=\"122.5\" x2=\"225.5\" y1=\"78.9375\" y2=\"78.9375\"/></a><!--MD5=[4672eba38e49728da53d11aeb285b987]\n",
       "reverse link E3 to E4--><a href=\"psysml:2bdfcbda-067f-4f9a-98d2-dcf2fb74ea33\" target=\"_top\" title=\"psysml:2bdfcbda-067f-4f9a-98d2-dcf2fb74ea33\" xlink:actuate=\"onRequest\" xlink:href=\"psysml:2bdfcbda-067f-4f9a-98d2-dcf2fb74ea33\" xlink:show=\"new\" xlink:title=\"psysml:2bdfcbda-067f-4f9a-98d2-dcf2fb74ea33\" xlink:type=\"simple\"><path d=\"M335.94,83.84 C280.81,102.69 196.51,131.54 141.56,150.33 \" fill=\"none\" id=\"E3&lt;-E4\" style=\"stroke: #A80036; stroke-width: 1.0; stroke-dasharray: 7.0,7.0;\"/><ellipse cx=\"342.7514\" cy=\"81.5115\" fill=\"#FFFFFF\" rx=\"8\" ry=\"8\" style=\"stroke: #A80036; stroke-width: 1.0;\"/><line style=\"stroke: #A80036; stroke-width: 1.0;\" x1=\"335.1827\" x2=\"350.32\" y1=\"84.103\" y2=\"78.92\"/><line style=\"stroke: #A80036; stroke-width: 1.0;\" x1=\"340.1599\" x2=\"345.3428\" y1=\"73.9428\" y2=\"89.0801\"/></a><!--MD5=[191cde3d490a3f6d7bb551fe3ddca469]\n",
       "reverse link E3 to E5--><a href=\"psysml:5bed3b2f-97a8-4cc2-a775-cf545f437587\" target=\"_top\" title=\"psysml:5bed3b2f-97a8-4cc2-a775-cf545f437587\" xlink:actuate=\"onRequest\" xlink:href=\"psysml:5bed3b2f-97a8-4cc2-a775-cf545f437587\" xlink:show=\"new\" xlink:title=\"psysml:5bed3b2f-97a8-4cc2-a775-cf545f437587\" xlink:type=\"simple\"><path d=\"M346.58,94.42 C321.37,111.12 290.34,131.68 267.25,146.98 \" fill=\"none\" id=\"E3&lt;-E5\" style=\"stroke: #A80036; stroke-width: 1.0;\"/><polygon fill=\"#A80036\" points=\"357.7,87.06,350.4889,87.0402,347.6972,93.689,354.9083,93.7088,357.7,87.06\" style=\"stroke: #A80036; stroke-width: 1.0;\"/><text fill=\"#000000\" font-family=\"sans-serif\" font-size=\"13\" lengthAdjust=\"spacingAndGlyphs\" textLength=\"7\" x=\"268.2453\" y=\"135.8709\">*</text></a><!--MD5=[1026b4b93417a13aa8999a858998add2]\n",
       "reverse link E3 to E6--><a href=\"psysml:856d4c40-3d8a-43fc-9608-49cee162593b\" target=\"_top\" title=\"psysml:856d4c40-3d8a-43fc-9608-49cee162593b\" xlink:actuate=\"onRequest\" xlink:href=\"psysml:856d4c40-3d8a-43fc-9608-49cee162593b\" xlink:show=\"new\" xlink:title=\"psysml:856d4c40-3d8a-43fc-9608-49cee162593b\" xlink:type=\"simple\"><path d=\"M391,100.44 C391,115.87 391,133.47 391,146.98 \" fill=\"none\" id=\"E3&lt;-E6\" style=\"stroke: #A80036; stroke-width: 1.0;\"/><polygon fill=\"#A80036\" points=\"391,87.06,387,93.06,391,99.06,395,93.06,391,87.06\" style=\"stroke: #A80036; stroke-width: 1.0;\"/><text fill=\"#000000\" font-family=\"sans-serif\" font-size=\"13\" lengthAdjust=\"spacingAndGlyphs\" textLength=\"7\" x=\"383.0594\" y=\"135.8709\">*</text></a><!--MD5=[3403bfa781cc3da0fd423dbab6f01c63]\n",
       "reverse link E6 to E2--><a href=\"psysml:1accd303-612e-4d59-ad9b-f522e5e57a44\" target=\"_top\" title=\"psysml:1accd303-612e-4d59-ad9b-f522e5e57a44\" xlink:actuate=\"onRequest\" xlink:href=\"psysml:1accd303-612e-4d59-ad9b-f522e5e57a44\" xlink:show=\"new\" xlink:title=\"psysml:1accd303-612e-4d59-ad9b-f522e5e57a44\" xlink:type=\"simple\"><path d=\"M391,206.44 C391,221.87 391,239.47 391,252.98 \" fill=\"none\" id=\"E6&lt;-E2\" style=\"stroke: #A80036; stroke-width: 1.0;\"/><polygon fill=\"#FFFFFF\" points=\"391,193.06,387,199.06,391,205.06,395,199.06,391,193.06\" style=\"stroke: #A80036; stroke-width: 1.0;\"/></a><!--MD5=[85760999379eecfd2565a9fecdca67e4]\n",
       "reverse link E3 to E7--><a href=\"psysml:a7054211-8666-4154-9247-2ebed4d34e27\" target=\"_top\" title=\"psysml:a7054211-8666-4154-9247-2ebed4d34e27\" xlink:actuate=\"onRequest\" xlink:href=\"psysml:a7054211-8666-4154-9247-2ebed4d34e27\" xlink:show=\"new\" xlink:title=\"psysml:a7054211-8666-4154-9247-2ebed4d34e27\" xlink:type=\"simple\"><path d=\"M435.42,94.42 C460.63,111.12 491.66,131.68 514.75,146.98 \" fill=\"none\" id=\"E3&lt;-E7\" style=\"stroke: #A80036; stroke-width: 1.0;\"/><polygon fill=\"#A80036\" points=\"424.3,87.06,427.0917,93.7088,434.3028,93.689,431.5111,87.0402,424.3,87.06\" style=\"stroke: #A80036; stroke-width: 1.0;\"/><text fill=\"#000000\" font-family=\"sans-serif\" font-size=\"13\" lengthAdjust=\"spacingAndGlyphs\" textLength=\"7\" x=\"497.8734\" y=\"135.8709\">*</text></a><!--MD5=[4cb75b73ec3682b8f7f8edc9cc86126a]\n",
       "reverse link E3 to E8--><a href=\"psysml:6d3dd5fa-79f8-485d-9bbb-f558da8741e9\" target=\"_top\" title=\"psysml:6d3dd5fa-79f8-485d-9bbb-f558da8741e9\" xlink:actuate=\"onRequest\" xlink:href=\"psysml:6d3dd5fa-79f8-485d-9bbb-f558da8741e9\" xlink:show=\"new\" xlink:title=\"psysml:6d3dd5fa-79f8-485d-9bbb-f558da8741e9\" xlink:type=\"simple\"><path d=\"M444.21,82.62 C498.65,100.65 583.24,128.67 641.23,147.88 \" fill=\"none\" id=\"E3&lt;-E8\" style=\"stroke: #A80036; stroke-width: 1.0;\"/><polygon fill=\"#A80036\" points=\"431.73,78.49,436.169,84.1729,443.1221,82.261,438.683,76.5781,431.73,78.49\" style=\"stroke: #A80036; stroke-width: 1.0;\"/></a><!--MD5=[2d3a3bfc75d60cfbee4aa2f01cae9463]\n",
       "@startuml\r\n",
       " \r\n",
       "package \"ActionTest\" as E1  [[psysml:a2683da9-1b6e-41fc-828a-cc7d1e5b2935 ]]  {\r\n",
       "comp def \"S\" as E2 << <<(D,brown) attribute def>> [[psysml:9c87d4ab-cb1d-4b31-8fcd-81209805f4cd ]] {\r\n",
       "}\r\n",
       "comp usage \"a\" as E3 << <<(U,orange) action>> [[psysml:88e0a3c5-b7f9-4d13-8306-ae5e61691436 ]] {\r\n",
       "}\r\n",
       "comp usage \"start: Action\" as E4 << <<(U,orange) action>> [[psysml:ed24d8b9-3ec6-4590-a85f-1d8fbc6b009f ]] {\r\n",
       "}\r\n",
       "comp usage \"m\" as E5 << <<(U,orange) mergeNode>> [[psysml:207ebb71-0108-47ac-8eb2-03003f2402f5 ]] {\r\n",
       "}\r\n",
       "comp usage \"<s>noname</s>\" as E6 << accept action>> [[psysml:56f9bc80-23d6-47f0-bfbf-c5e902f86ac6 ]] {\r\n",
       "}\r\n",
       "comp usage \"<s>noname</s>\" as E7 << send action>> [[psysml:baf32606-26e9-4cc3-a29f-e775486b01d7 ]] {\r\n",
       "}\r\n",
       "comp usage \"<s>noname</s>\" as E8 << <<(U,orange) decisionNode>> [[psysml:de118d49-a158-4609-b10e-b605b2688318 ]] {\r\n",
       "}\r\n",
       "comp def \"B\" as E9 << <<(B,lemonchiffon) action def>> [[psysml:79d3a6ab-38cc-49fb-ab8f-d1828ed09a3c ]] {\r\n",
       "}\r\n",
       "}\r\n",
       "E3 +.. E4 [[psysml:2bdfcbda-067f-4f9a-98d2-dcf2fb74ea33 ]] \r\n",
       "E3 *- - \"*\"E5 [[psysml:5bed3b2f-97a8-4cc2-a775-cf545f437587 ]] \r\n",
       "E3 *- - \"*\"E6 [[psysml:856d4c40-3d8a-43fc-9608-49cee162593b ]] \r\n",
       "E6 o- - E2 [[psysml:1accd303-612e-4d59-ad9b-f522e5e57a44 ]] \r\n",
       "E3 *- - \"*\"E7 [[psysml:a7054211-8666-4154-9247-2ebed4d34e27 ]] \r\n",
       "E3 *- - E8 [[psysml:6d3dd5fa-79f8-485d-9bbb-f558da8741e9 ]] \r\n",
       "@enduml\r\n",
       "\n",
       "PlantUML version 1.2020.13(Sat Jun 13 12:26:38 UTC 2020)\n",
       "(EPL source distribution)\n",
       "Java Runtime: OpenJDK Runtime Environment\n",
       "JVM: OpenJDK 64-Bit Server VM\n",
       "Default Encoding: UTF-8\n",
       "Language: en\n",
       "Country: null\n",
       "--></g></svg>"
      ]
     },
     "execution_count": 31,
     "metadata": {},
     "output_type": "execute_result"
    }
   ],
   "source": [
    "%viz --style=\"PLANTUML\" --view=\"Tree\" \"ActionTest\""
   ]
  },
  {
   "cell_type": "code",
   "execution_count": 32,
   "id": "ede34c9f",
   "metadata": {
    "execution": {
     "iopub.execute_input": "2021-09-27T07:16:56.677720Z",
     "iopub.status.busy": "2021-09-27T07:16:56.677382Z",
     "iopub.status.idle": "2021-09-27T07:16:56.765789Z",
     "shell.execute_reply": "2021-09-27T07:16:56.764828Z"
    }
   },
   "outputs": [
    {
     "data": {
      "image/svg+xml": [
       "<?xml version=\"1.0\" encoding=\"UTF-8\" standalone=\"no\"?><svg xmlns=\"http://www.w3.org/2000/svg\" xmlns:xlink=\"http://www.w3.org/1999/xlink\" contentScriptType=\"application/ecmascript\" contentStyleType=\"text/css\" height=\"300px\" preserveAspectRatio=\"none\" style=\"width:603px;height:300px;background:#000000;\" version=\"1.1\" viewBox=\"0 0 603 300\" width=\"603px\" zoomAndPan=\"magnify\"><defs/><g><rect fill=\"#120723\" height=\"1\" style=\"stroke: #120723; stroke-width: 1.0;\" width=\"1\" x=\"0\" y=\"0\"/><rect fill=\"#FFFFFF\" height=\"202.8012\" style=\"stroke: #FFFFFF; stroke-width: 1.0;\" width=\"602\" x=\"0\" y=\"0\"/><text fill=\"#000000\" font-family=\"sans-serif\" font-size=\"12\" font-weight=\"bold\" lengthAdjust=\"spacingAndGlyphs\" textLength=\"139\" x=\"5\" y=\"16.1387\">Welcome to PlantUML!</text><text fill=\"#000000\" font-family=\"sans-serif\" font-size=\"12\" lengthAdjust=\"spacingAndGlyphs\" textLength=\"0\" x=\"9\" y=\"30.1074\"/><text fill=\"#000000\" font-family=\"sans-serif\" font-size=\"12\" lengthAdjust=\"spacingAndGlyphs\" textLength=\"293\" x=\"5\" y=\"44.0762\">If you use this software, you accept its license.</text><text fill=\"#000000\" font-family=\"sans-serif\" font-size=\"12\" lengthAdjust=\"spacingAndGlyphs\" textLength=\"107\" x=\"5\" y=\"58.0449\">(details by typing</text><text fill=\"#000000\" font-family=\"monospace\" font-size=\"12\" lengthAdjust=\"spacingAndGlyphs\" textLength=\"42\" x=\"116\" y=\"58.595\">license</text><text fill=\"#000000\" font-family=\"sans-serif\" font-size=\"12\" lengthAdjust=\"spacingAndGlyphs\" textLength=\"56\" x=\"162\" y=\"58.0449\">keyword)</text><text fill=\"#000000\" font-family=\"sans-serif\" font-size=\"12\" lengthAdjust=\"spacingAndGlyphs\" textLength=\"0\" x=\"9\" y=\"72.0137\"/><text fill=\"#000000\" font-family=\"sans-serif\" font-size=\"12\" lengthAdjust=\"spacingAndGlyphs\" textLength=\"283\" x=\"5\" y=\"85.9824\">You can start with a simple UML Diagram like:</text><text fill=\"#000000\" font-family=\"sans-serif\" font-size=\"12\" lengthAdjust=\"spacingAndGlyphs\" textLength=\"0\" x=\"9\" y=\"99.9512\"/><text fill=\"#000000\" font-family=\"monospace\" font-size=\"12\" lengthAdjust=\"spacingAndGlyphs\" textLength=\"102\" x=\"5\" y=\"113.0893\">Bob-&gt;Alice: Hello</text><text fill=\"#000000\" font-family=\"sans-serif\" font-size=\"12\" lengthAdjust=\"spacingAndGlyphs\" textLength=\"0\" x=\"9\" y=\"126.508\"/><text fill=\"#000000\" font-family=\"sans-serif\" font-size=\"12\" lengthAdjust=\"spacingAndGlyphs\" textLength=\"14\" x=\"5\" y=\"140.4768\">Or</text><text fill=\"#000000\" font-family=\"sans-serif\" font-size=\"12\" lengthAdjust=\"spacingAndGlyphs\" textLength=\"0\" x=\"9\" y=\"154.4455\"/><text fill=\"#000000\" font-family=\"monospace\" font-size=\"12\" lengthAdjust=\"spacingAndGlyphs\" textLength=\"78\" x=\"5\" y=\"167.5837\">class Example</text><text fill=\"#000000\" font-family=\"sans-serif\" font-size=\"12\" lengthAdjust=\"spacingAndGlyphs\" textLength=\"0\" x=\"9\" y=\"181.0023\"/><text fill=\"#000000\" font-family=\"sans-serif\" font-size=\"12\" lengthAdjust=\"spacingAndGlyphs\" textLength=\"349\" x=\"5\" y=\"194.9711\">You will find more information about PlantUML syntax on</text><text fill=\"#000000\" font-family=\"sans-serif\" font-size=\"12\" lengthAdjust=\"spacingAndGlyphs\" text-decoration=\"underline\" textLength=\"129\" x=\"358\" y=\"194.9711\">https://plantuml.com</text><image height=\"71\" width=\"80\" x=\"516\" xlink:href=\"data:image/png;base64,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\" y=\"6\"/><rect fill=\"#000000\" height=\"96.4844\" style=\"stroke: #000000; stroke-width: 1.0;\" width=\"602\" x=\"0\" y=\"202.8012\"/><rect fill=\"#33FF02\" height=\"21.2969\" style=\"stroke: #33FF02; stroke-width: 1.0;\" width=\"145\" x=\"5\" y=\"207.8012\"/><text fill=\"#000000\" font-family=\"sans-serif\" font-size=\"14\" font-weight=\"bold\" lengthAdjust=\"spacingAndGlyphs\" textLength=\"143\" x=\"6\" y=\"222.8012\">[From string (line 2) ]</text><text fill=\"#33FF02\" font-family=\"sans-serif\" font-size=\"14\" font-weight=\"bold\" lengthAdjust=\"spacingAndGlyphs\" textLength=\"0\" x=\"9\" y=\"243.0981\"/><text fill=\"#33FF02\" font-family=\"sans-serif\" font-size=\"14\" font-weight=\"bold\" lengthAdjust=\"spacingAndGlyphs\" textLength=\"70\" x=\"5\" y=\"259.3949\">@startuml</text><text fill=\"#33FF02\" font-family=\"sans-serif\" font-size=\"14\" font-weight=\"bold\" lengthAdjust=\"spacingAndGlyphs\" textLength=\"0\" x=\"9\" y=\"275.6918\"/><text fill=\"#FF0000\" font-family=\"sans-serif\" font-size=\"14\" font-weight=\"bold\" lengthAdjust=\"spacingAndGlyphs\" textLength=\"124\" x=\"9\" y=\"291.9887\">Empty description</text><!--MD5=[f59edd8218d337f74d0c332fc6737304]\n",
       "@startuml\r\n",
       " \r\n",
       "@enduml\r\n",
       "\n",
       "PlantUML version 1.2020.13(Sat Jun 13 12:26:38 UTC 2020)\n",
       "(EPL source distribution)\n",
       "Java Runtime: OpenJDK Runtime Environment\n",
       "JVM: OpenJDK 64-Bit Server VM\n",
       "Default Encoding: UTF-8\n",
       "Language: en\n",
       "Country: null\n",
       "--></g></svg>"
      ]
     },
     "execution_count": 32,
     "metadata": {},
     "output_type": "execute_result"
    }
   ],
   "source": [
    "%viz --style=\"PLANTUML\" --view=\"State\" \"ActionTest\""
   ]
  },
  {
   "cell_type": "code",
   "execution_count": 33,
   "id": "4bd32c85",
   "metadata": {
    "execution": {
     "iopub.execute_input": "2021-09-27T07:16:56.815873Z",
     "iopub.status.busy": "2021-09-27T07:16:56.815477Z",
     "iopub.status.idle": "2021-09-27T07:16:56.870707Z",
     "shell.execute_reply": "2021-09-27T07:16:56.869355Z"
    }
   },
   "outputs": [
    {
     "data": {
      "image/svg+xml": [
       "<?xml version=\"1.0\" encoding=\"UTF-8\" standalone=\"no\"?><svg xmlns=\"http://www.w3.org/2000/svg\" xmlns:xlink=\"http://www.w3.org/1999/xlink\" contentScriptType=\"application/ecmascript\" contentStyleType=\"text/css\" height=\"462px\" preserveAspectRatio=\"none\" style=\"width:574px;height:462px;\" version=\"1.1\" viewBox=\"0 0 574 462\" width=\"574px\" zoomAndPan=\"magnify\"><defs><filter height=\"300%\" id=\"fp9hlflnkro7i\" width=\"300%\" x=\"-1\" y=\"-1\"><feGaussianBlur result=\"blurOut\" stdDeviation=\"2.0\"/><feColorMatrix in=\"blurOut\" result=\"blurOut2\" type=\"matrix\" values=\"0 0 0 0 0 0 0 0 0 0 0 0 0 0 0 0 0 0 .4 0\"/><feOffset dx=\"4.0\" dy=\"4.0\" in=\"blurOut2\" result=\"blurOut3\"/><feBlend in=\"SourceGraphic\" in2=\"blurOut3\" mode=\"normal\"/></filter></defs><g><!--MD5=[fbc87193dbaf4d95561dea2c320d4a47]\n",
       "cluster E1--><a href=\"psysml:a2683da9-1b6e-41fc-828a-cc7d1e5b2935\" target=\"_top\" title=\"psysml:a2683da9-1b6e-41fc-828a-cc7d1e5b2935\" xlink:actuate=\"onRequest\" xlink:href=\"psysml:a2683da9-1b6e-41fc-828a-cc7d1e5b2935\" xlink:show=\"new\" xlink:title=\"psysml:a2683da9-1b6e-41fc-828a-cc7d1e5b2935\" xlink:type=\"simple\"><polygon fill=\"#FFFFFF\" filter=\"url(#fp9hlflnkro7i)\" points=\"16,6,96,6,103,28.2969,552,28.2969,552,450.5,16,450.5,16,6\" style=\"stroke: #000000; stroke-width: 1.5;\"/><line style=\"stroke: #000000; stroke-width: 1.5;\" x1=\"16\" x2=\"103\" y1=\"28.2969\" y2=\"28.2969\"/><text fill=\"#000000\" font-family=\"sans-serif\" font-size=\"14\" font-weight=\"bold\" lengthAdjust=\"spacingAndGlyphs\" textLength=\"74\" x=\"20\" y=\"20.9951\">ActionTest</text></a><!--MD5=[d5e69f78d87373223dbae638b30a9c99]\n",
       "cluster E3--><a href=\"psysml:88e0a3c5-b7f9-4d13-8306-ae5e61691436\" target=\"_top\" title=\"psysml:88e0a3c5-b7f9-4d13-8306-ae5e61691436\" xlink:actuate=\"onRequest\" xlink:href=\"psysml:88e0a3c5-b7f9-4d13-8306-ae5e61691436\" xlink:show=\"new\" xlink:title=\"psysml:88e0a3c5-b7f9-4d13-8306-ae5e61691436\" xlink:type=\"simple\"><rect fill=\"#FFFFFF\" filter=\"url(#fp9hlflnkro7i)\" height=\"377.5\" id=\"E3\" rx=\"10\" ry=\"10\" style=\"stroke: #A80036; stroke-width: 1.5;\" width=\"209\" x=\"319\" y=\"49\"/><rect fill=\"#FEFECE\" height=\"37.9375\" rx=\"10\" ry=\"10\" style=\"stroke: #FEFECE; stroke-width: 1.5;\" width=\"209\" x=\"319\" y=\"49\"/><rect fill=\"#FEFECE\" height=\"10\" style=\"stroke: #FEFECE; stroke-width: 1.5;\" width=\"209\" x=\"319\" y=\"76.9375\"/><rect fill=\"none\" height=\"377.5\" id=\"E3\" rx=\"10\" ry=\"10\" style=\"stroke: #A80036; stroke-width: 1.5;\" width=\"209\" x=\"319\" y=\"49\"/><text fill=\"#000000\" font-family=\"sans-serif\" font-size=\"12\" font-style=\"italic\" lengthAdjust=\"spacingAndGlyphs\" textLength=\"53\" x=\"397\" y=\"65.1387\">«action»</text><text fill=\"#000000\" font-family=\"sans-serif\" font-size=\"12\" lengthAdjust=\"spacingAndGlyphs\" textLength=\"8\" x=\"419.5\" y=\"79.1074\">a</text><line style=\"stroke: #A80036; stroke-width: 1.0;\" x1=\"319\" x2=\"528\" y1=\"86.9375\" y2=\"86.9375\"/></a><g id=\"E1.E2\"><a href=\"psysml:9c87d4ab-cb1d-4b31-8fcd-81209805f4cd\" target=\"_top\" title=\"psysml:9c87d4ab-cb1d-4b31-8fcd-81209805f4cd\" xlink:actuate=\"onRequest\" xlink:href=\"psysml:9c87d4ab-cb1d-4b31-8fcd-81209805f4cd\" xlink:show=\"new\" xlink:title=\"psysml:9c87d4ab-cb1d-4b31-8fcd-81209805f4cd\" xlink:type=\"simple\"><rect fill=\"#FEFECE\" filter=\"url(#fp9hlflnkro7i)\" height=\"42.9375\" id=\"E2\" style=\"stroke: #A80036; stroke-width: 1.5;\" width=\"126\" x=\"177\" y=\"88.5\"/><ellipse cx=\"194.25\" cy=\"107.4688\" fill=\"#A52A2A\" rx=\"11\" ry=\"11\" style=\"stroke: #A80036; stroke-width: 1.0;\"/><path d=\"M191.4688,112.4688 L191.4688,101.875 L194.2031,101.875 Q195.5938,101.875 196.3594,102.2656 Q197.1406,102.6406 197.6719,103.3438 Q198.2031,104.0469 198.5,105.0469 Q198.7969,106.0313 198.7969,107.25 Q198.75,108.8438 198.25,110.0313 Q197.7656,111.2031 196.7188,111.8438 Q195.6875,112.4688 194,112.4688 L191.4688,112.4688 Z M193.3281,110.9688 L193.9531,110.9688 Q195.0313,110.9688 195.6875,110.5156 Q196.3438,110.0625 196.625,109.2344 Q196.9219,108.3906 196.9063,107.2656 Q196.9063,106.0938 196.6563,105.2344 Q196.4063,104.3594 195.7969,103.8906 Q195.1875,103.4063 194.1406,103.4063 L193.3281,103.4063 L193.3281,110.9688 Z \"/><text fill=\"#000000\" font-family=\"sans-serif\" font-size=\"12\" font-style=\"italic\" lengthAdjust=\"spacingAndGlyphs\" textLength=\"93\" x=\"206.75\" y=\"104.6387\">«attribute def»</text><text fill=\"#000000\" font-family=\"sans-serif\" font-size=\"12\" lengthAdjust=\"spacingAndGlyphs\" textLength=\"8\" x=\"249.25\" y=\"118.6074\">S</text></a></g><polygon fill=\"#FEFECE\" filter=\"url(#fp9hlflnkro7i)\" points=\"476,148.5,488,160.5,476,172.5,464,160.5,476,148.5\" style=\"stroke: #A80036; stroke-width: 1.5;\"/><!--MD5=[21dd76c19d33815960c0e92fef8f0eef]\n",
       "entity E5--><a href=\"psysml:56f9bc80-23d6-47f0-bfbf-c5e902f86ac6\" target=\"_top\" title=\"psysml:56f9bc80-23d6-47f0-bfbf-c5e902f86ac6\" xlink:actuate=\"onRequest\" xlink:href=\"psysml:56f9bc80-23d6-47f0-bfbf-c5e902f86ac6\" xlink:show=\"new\" xlink:title=\"psysml:56f9bc80-23d6-47f0-bfbf-c5e902f86ac6\" xlink:type=\"simple\"><polygon fill=\"#FEFECE\" filter=\"url(#fp9hlflnkro7i)\" points=\"335,189.5,335,244.0938,475,244.0938,455,216.7969,475,189.5\" style=\"stroke: #000000; stroke-width: 1.5;\"/><text fill=\"#000000\" font-family=\"sans-serif\" font-size=\"14\" font-style=\"italic\" lengthAdjust=\"spacingAndGlyphs\" textLength=\"111\" x=\"342\" y=\"212.4951\">«accept action»</text><text fill=\"#000000\" font-family=\"sans-serif\" font-size=\"14\" lengthAdjust=\"spacingAndGlyphs\" textLength=\"9\" x=\"393\" y=\"229.792\">S</text></a><!--MD5=[24d87cdf3002d433f401b2a2aa9f9f65]\n",
       "entity E6--><a href=\"psysml:baf32606-26e9-4cc3-a29f-e775486b01d7\" target=\"_top\" title=\"psysml:baf32606-26e9-4cc3-a29f-e775486b01d7\" xlink:actuate=\"onRequest\" xlink:href=\"psysml:baf32606-26e9-4cc3-a29f-e775486b01d7\" xlink:show=\"new\" xlink:title=\"psysml:baf32606-26e9-4cc3-a29f-e775486b01d7\" xlink:type=\"simple\"><polygon fill=\"#FEFECE\" filter=\"url(#fp9hlflnkro7i)\" points=\"335,277.5,335,332.0938,443,332.0938,463,304.7969,443,277.5\" style=\"stroke: #000000; stroke-width: 1.5;\"/><text fill=\"#000000\" font-family=\"sans-serif\" font-size=\"14\" font-style=\"italic\" lengthAdjust=\"spacingAndGlyphs\" textLength=\"99\" x=\"342\" y=\"300.4951\">«send action»</text><text fill=\"#000000\" font-family=\"sans-serif\" font-size=\"14\" lengthAdjust=\"spacingAndGlyphs\" textLength=\"65\" x=\"359\" y=\"317.792\">S() to  B()</text></a><polygon fill=\"#FEFECE\" filter=\"url(#fp9hlflnkro7i)\" points=\"474,349.5,486,361.5,474,373.5,462,361.5,474,349.5\" style=\"stroke: #A80036; stroke-width: 1.5;\"/><ellipse cx=\"476\" cy=\"110\" fill=\"#000000\" filter=\"url(#fp9hlflnkro7i)\" rx=\"10\" ry=\"10\" style=\"stroke: none; stroke-width: 1.0;\"/><ellipse cx=\"474\" cy=\"400.5\" fill=\"none\" filter=\"url(#fp9hlflnkro7i)\" rx=\"10\" ry=\"10\" style=\"stroke: #000000; stroke-width: 1.0;\"/><ellipse cx=\"474.5\" cy=\"401\" fill=\"#000000\" rx=\"6\" ry=\"6\" style=\"stroke: none; stroke-width: 1.0;\"/><g id=\"E1.E8\"><a href=\"psysml:79d3a6ab-38cc-49fb-ab8f-d1828ed09a3c\" target=\"_top\" title=\"psysml:79d3a6ab-38cc-49fb-ab8f-d1828ed09a3c\" xlink:actuate=\"onRequest\" xlink:href=\"psysml:79d3a6ab-38cc-49fb-ab8f-d1828ed09a3c\" xlink:show=\"new\" xlink:title=\"psysml:79d3a6ab-38cc-49fb-ab8f-d1828ed09a3c\" xlink:type=\"simple\"><rect fill=\"#FEFECE\" filter=\"url(#fp9hlflnkro7i)\" height=\"42.9375\" id=\"E8\" style=\"stroke: #A80036; stroke-width: 1.5;\" width=\"110\" x=\"32\" y=\"88.5\"/><ellipse cx=\"49.25\" cy=\"107.4688\" fill=\"#FFFACD\" rx=\"11\" ry=\"11\" style=\"stroke: #A80036; stroke-width: 1.0;\"/><path d=\"M46.125,112.4688 L46.125,101.875 L49.3594,101.875 Q51.2656,101.875 52.1719,102.625 Q53.0938,103.375 53.0938,104.5469 Q53.0938,105.2344 52.7031,105.8906 Q52.3281,106.5469 51.6094,106.8438 Q52.4688,107.2188 52.9844,107.9063 Q53.5,108.5938 53.5,109.4063 Q53.5,110.7813 52.4688,111.625 Q51.4531,112.4688 49.3438,112.4688 L46.125,112.4688 Z M48.0469,106.1094 L49.2031,106.1094 Q50.3281,106.1094 50.7344,105.7344 Q51.1563,105.3438 51.1563,104.7188 Q51.1563,104.1406 50.7344,103.7813 Q50.3125,103.4219 49.375,103.4219 L48.0469,103.4219 L48.0469,106.1094 Z M48.0469,110.8906 L49.5469,110.8906 Q50.4531,110.8906 50.9844,110.5 Q51.5156,110.1094 51.5156,109.3594 Q51.5156,108.5938 51.0156,108.125 Q50.5156,107.6406 49.25,107.6406 L48.0469,107.6406 L48.0469,110.8906 Z \"/><text fill=\"#000000\" font-family=\"sans-serif\" font-size=\"12\" font-style=\"italic\" lengthAdjust=\"spacingAndGlyphs\" textLength=\"77\" x=\"61.75\" y=\"104.6387\">«action def»</text><text fill=\"#000000\" font-family=\"sans-serif\" font-size=\"12\" lengthAdjust=\"spacingAndGlyphs\" textLength=\"8\" x=\"96.25\" y=\"118.6074\">B</text></a></g><!--MD5=[f47e10efcf9a6752d55dae986d790ed9]\n",
       "link *start*E3 to E4--><a href=\"psysml:fb7d5adc-5880-4810-9813-86e53c07f96a\" target=\"_top\" title=\"psysml:fb7d5adc-5880-4810-9813-86e53c07f96a\" xlink:actuate=\"onRequest\" xlink:href=\"psysml:fb7d5adc-5880-4810-9813-86e53c07f96a\" xlink:show=\"new\" xlink:title=\"psysml:fb7d5adc-5880-4810-9813-86e53c07f96a\" xlink:type=\"simple\"><path d=\"M476,120.35 C476,126.88 476,135.77 476,143.42 \" fill=\"none\" id=\"*start*E3-&gt;E4\" style=\"stroke: #A80036; stroke-width: 1.0;\"/><polygon fill=\"#A80036\" points=\"476,148.48,480,139.48,476,143.48,472,139.48,476,148.48\" style=\"stroke: #A80036; stroke-width: 1.0;\"/></a><!--MD5=[d19f2eb34364d71b67042106d92f540b]\n",
       "link E7 to *end*E3--><a href=\"psysml:c9de1ce8-1045-4471-9685-45647676290c\" target=\"_top\" title=\"psysml:c9de1ce8-1045-4471-9685-45647676290c\" xlink:actuate=\"onRequest\" xlink:href=\"psysml:c9de1ce8-1045-4471-9685-45647676290c\" xlink:show=\"new\" xlink:title=\"psysml:c9de1ce8-1045-4471-9685-45647676290c\" xlink:type=\"simple\"><path d=\"M474,373.8 C474,377.34 474,381.3 474,385.03 \" fill=\"none\" id=\"E7-&gt;*end*E3\" style=\"stroke: #A80036; stroke-width: 1.0;\"/><polygon fill=\"#A80036\" points=\"474,390.25,478,381.25,474,385.25,470,381.25,474,390.25\" style=\"stroke: #A80036; stroke-width: 1.0;\"/></a><!--MD5=[1b7591eae5389033d8d09a9d6721a717]\n",
       "link E4 to E5--><a href=\"psysml:674af9b4-5477-4a2d-9c32-c1d49aef2cdc\" target=\"_top\" title=\"psysml:674af9b4-5477-4a2d-9c32-c1d49aef2cdc\" xlink:actuate=\"onRequest\" xlink:href=\"psysml:674af9b4-5477-4a2d-9c32-c1d49aef2cdc\" xlink:show=\"new\" xlink:title=\"psysml:674af9b4-5477-4a2d-9c32-c1d49aef2cdc\" xlink:type=\"simple\"><path d=\"M469.45,166.53 C463.33,171.23 453.65,178.66 443.64,186.34 \" fill=\"none\" id=\"E4-&gt;E5\" style=\"stroke: #A80036; stroke-width: 1.0;\"/><polygon fill=\"#A80036\" points=\"439.64,189.41,449.2129,187.0948,443.6037,186.3621,444.3363,180.7529,439.64,189.41\" style=\"stroke: #A80036; stroke-width: 1.0;\"/><text fill=\"#000000\" font-family=\"sans-serif\" font-size=\"13\" lengthAdjust=\"spacingAndGlyphs\" textLength=\"7\" x=\"439.8411\" y=\"178.4247\">*</text></a><!--MD5=[9120cf2e5df3bff93db8f754bbbc09b4]\n",
       "link E5 to E6--><a href=\"psysml:f1d57d75-7b92-4f65-894e-3c0dce6664b2\" target=\"_top\" title=\"psysml:f1d57d75-7b92-4f65-894e-3c0dce6664b2\" xlink:actuate=\"onRequest\" xlink:href=\"psysml:f1d57d75-7b92-4f65-894e-3c0dce6664b2\" xlink:show=\"new\" xlink:title=\"psysml:f1d57d75-7b92-4f65-894e-3c0dce6664b2\" xlink:type=\"simple\"><path d=\"M403.13,244.74 C402.53,253.4 401.85,263.08 401.23,272.08 \" fill=\"none\" id=\"E5-&gt;E6\" style=\"stroke: #A80036; stroke-width: 1.0;\"/><polygon fill=\"#A80036\" points=\"400.86,277.28,405.468,268.5756,401.203,272.2918,397.4869,268.0268,400.86,277.28\" style=\"stroke: #A80036; stroke-width: 1.0;\"/><text fill=\"#000000\" font-family=\"sans-serif\" font-size=\"13\" lengthAdjust=\"spacingAndGlyphs\" textLength=\"7\" x=\"393.4808\" y=\"266.2646\">*</text></a><!--MD5=[02c70b7c851c11e3980e4e90450dc5dd]\n",
       "link E6 to E7--><a href=\"psysml:5bbe4286-aec7-454e-8b07-ff0b44373e66\" target=\"_top\" title=\"psysml:5bbe4286-aec7-454e-8b07-ff0b44373e66\" xlink:actuate=\"onRequest\" xlink:href=\"psysml:5bbe4286-aec7-454e-8b07-ff0b44373e66\" xlink:show=\"new\" xlink:title=\"psysml:5bbe4286-aec7-454e-8b07-ff0b44373e66\" xlink:type=\"simple\"><path d=\"M435.62,332.61 C445.72,339.95 455.91,347.35 463.24,352.68 \" fill=\"none\" id=\"E6-&gt;E7\" style=\"stroke: #A80036; stroke-width: 1.0;\"/><polygon fill=\"#A80036\" points=\"467.42,355.72,462.4976,347.1894,463.3776,352.7774,457.7896,353.6574,467.42,355.72\" style=\"stroke: #A80036; stroke-width: 1.0;\"/><text fill=\"#000000\" font-family=\"sans-serif\" font-size=\"13\" lengthAdjust=\"spacingAndGlyphs\" textLength=\"7\" x=\"449.584\" y=\"338.5823\">*</text></a><!--MD5=[6bdd27f9905911a7e892a3dc65cf6b7c]\n",
       "link E7 to E4--><a href=\"psysml:df5824e0-bb07-4266-b9ed-97217b9e7a59\" target=\"_top\" title=\"psysml:df5824e0-bb07-4266-b9ed-97217b9e7a59\" xlink:actuate=\"onRequest\" xlink:href=\"psysml:df5824e0-bb07-4266-b9ed-97217b9e7a59\" xlink:show=\"new\" xlink:title=\"psysml:df5824e0-bb07-4266-b9ed-97217b9e7a59\" xlink:type=\"simple\"><path d=\"M477,352.49 C485.84,327.73 510.06,250.48 493,189.5 C491.26,183.29 487.73,177.1 484.34,172.12 \" fill=\"none\" id=\"E7-&gt;E4\" style=\"stroke: #A80036; stroke-width: 1.0;\"/><polygon fill=\"#A80036\" points=\"481.31,167.92,483.3342,177.5586,484.2364,171.9741,489.8209,172.8763,481.31,167.92\" style=\"stroke: #A80036; stroke-width: 1.0;\"/><text fill=\"#000000\" font-family=\"sans-serif\" font-size=\"13\" lengthAdjust=\"spacingAndGlyphs\" textLength=\"36\" x=\"499\" y=\"265.5669\">[true]</text><text fill=\"#000000\" font-family=\"sans-serif\" font-size=\"13\" lengthAdjust=\"spacingAndGlyphs\" textLength=\"7\" x=\"482.8853\" y=\"189.5917\">*</text></a><!--MD5=[c3fbc9912fd2e0ba0fbe96576e00931f]\n",
       "@startuml\r\n",
       "skinparam ranksep 10\r\n",
       "skinparam rectangle {\r\n",
       " backgroundColor<<block>> LightGreen\r\n",
       "}\r\n",
       " \r\n",
       "package \"ActionTest\" as E1  [[psysml:a2683da9-1b6e-41fc-828a-cc7d1e5b2935 ]]  {\r\n",
       "def \"S\" as E2 << <<(D,brown) attribute def>> [[psysml:9c87d4ab-cb1d-4b31-8fcd-81209805f4cd ]] \r\n",
       "rec usage \"a\" as E3 << <<(U,orange) action>> [[psysml:88e0a3c5-b7f9-4d13-8306-ae5e61691436 ]] {\r\n",
       "choice \"m\" as E4  [[psysml:207ebb71-0108-47ac-8eb2-03003f2402f5 ]] \r\n",
       "accept \" S\" as E5 << accept action>> [[psysml:56f9bc80-23d6-47f0-bfbf-c5e902f86ac6 ]] \r\n",
       "send \" S() to  B()\" as E6 << send action>> [[psysml:baf32606-26e9-4cc3-a29f-e775486b01d7 ]] \r\n",
       "choice \"<s>noname</s>\" as E7  [[psysml:de118d49-a158-4609-b10e-b605b2688318 ]] \r\n",
       "[*] - -> E4 [[psysml:fb7d5adc-5880-4810-9813-86e53c07f96a ]] \r\n",
       "E7  - -> [*] [[psysml:c9de1ce8-1045-4471-9685-45647676290c ]] \r\n",
       "}\r\n",
       "\r\n",
       "rec def \"B\" as E8 << <<(B,lemonchiffon) action def>> [[psysml:79d3a6ab-38cc-49fb-ab8f-d1828ed09a3c ]] {\r\n",
       "}\r\n",
       "\r\n",
       "}\r\n",
       "E4 - -> \"*\"E5 [[psysml:674af9b4-5477-4a2d-9c32-c1d49aef2cdc ]] \r\n",
       "E5 - -> \"*\"E6 [[psysml:f1d57d75-7b92-4f65-894e-3c0dce6664b2 ]] \r\n",
       "E6 - -> \"*\"E7 [[psysml:5bbe4286-aec7-454e-8b07-ff0b44373e66 ]] \r\n",
       "E7  - -> \"*\"E4 [[psysml:df5824e0-bb07-4266-b9ed-97217b9e7a59 ]] : [true]\r\n",
       "@enduml\r\n",
       "\n",
       "PlantUML version 1.2020.13(Sat Jun 13 12:26:38 UTC 2020)\n",
       "(EPL source distribution)\n",
       "Java Runtime: OpenJDK Runtime Environment\n",
       "JVM: OpenJDK 64-Bit Server VM\n",
       "Default Encoding: UTF-8\n",
       "Language: en\n",
       "Country: null\n",
       "--></g></svg>"
      ]
     },
     "execution_count": 33,
     "metadata": {},
     "output_type": "execute_result"
    }
   ],
   "source": [
    "%viz --style=\"PLANTUML\" --view=\"Interconnection\" \"ActionTest\""
   ]
  },
  {
   "cell_type": "code",
   "execution_count": 34,
   "id": "6b6e5ed7",
   "metadata": {
    "execution": {
     "iopub.execute_input": "2021-09-27T07:16:56.919989Z",
     "iopub.status.busy": "2021-09-27T07:16:56.919591Z",
     "iopub.status.idle": "2021-09-27T07:16:56.956534Z",
     "shell.execute_reply": "2021-09-27T07:16:56.955300Z"
    }
   },
   "outputs": [
    {
     "data": {
      "image/svg+xml": [
       "<?xml version=\"1.0\" encoding=\"UTF-8\" standalone=\"no\"?><svg xmlns=\"http://www.w3.org/2000/svg\" xmlns:xlink=\"http://www.w3.org/1999/xlink\" contentScriptType=\"application/ecmascript\" contentStyleType=\"text/css\" height=\"403px\" preserveAspectRatio=\"none\" style=\"width:361px;height:403px;\" version=\"1.1\" viewBox=\"0 0 361 403\" width=\"361px\" zoomAndPan=\"magnify\"><defs><filter height=\"300%\" id=\"f1hdvooovn4mol\" width=\"300%\" x=\"-1\" y=\"-1\"><feGaussianBlur result=\"blurOut\" stdDeviation=\"2.0\"/><feColorMatrix in=\"blurOut\" result=\"blurOut2\" type=\"matrix\" values=\"0 0 0 0 0 0 0 0 0 0 0 0 0 0 0 0 0 0 .4 0\"/><feOffset dx=\"4.0\" dy=\"4.0\" in=\"blurOut2\" result=\"blurOut3\"/><feBlend in=\"SourceGraphic\" in2=\"blurOut3\" mode=\"normal\"/></filter></defs><g><!--MD5=[fbc87193dbaf4d95561dea2c320d4a47]\n",
       "cluster E1--><a href=\"psysml:88e0a3c5-b7f9-4d13-8306-ae5e61691436\" target=\"_top\" title=\"psysml:88e0a3c5-b7f9-4d13-8306-ae5e61691436\" xlink:actuate=\"onRequest\" xlink:href=\"psysml:88e0a3c5-b7f9-4d13-8306-ae5e61691436\" xlink:show=\"new\" xlink:title=\"psysml:88e0a3c5-b7f9-4d13-8306-ae5e61691436\" xlink:type=\"simple\"><rect fill=\"#FFFFFF\" filter=\"url(#f1hdvooovn4mol)\" height=\"377.5\" id=\"E1\" rx=\"10\" ry=\"10\" style=\"stroke: #A80036; stroke-width: 1.5;\" width=\"209\" x=\"133\" y=\"7\"/><rect fill=\"#FEFECE\" height=\"37.9375\" rx=\"10\" ry=\"10\" style=\"stroke: #FEFECE; stroke-width: 1.5;\" width=\"209\" x=\"133\" y=\"7\"/><rect fill=\"#FEFECE\" height=\"10\" style=\"stroke: #FEFECE; stroke-width: 1.5;\" width=\"209\" x=\"133\" y=\"34.9375\"/><rect fill=\"none\" height=\"377.5\" id=\"E1\" rx=\"10\" ry=\"10\" style=\"stroke: #A80036; stroke-width: 1.5;\" width=\"209\" x=\"133\" y=\"7\"/><text fill=\"#000000\" font-family=\"sans-serif\" font-size=\"12\" font-style=\"italic\" lengthAdjust=\"spacingAndGlyphs\" textLength=\"53\" x=\"211\" y=\"23.1387\">«action»</text><text fill=\"#000000\" font-family=\"sans-serif\" font-size=\"12\" lengthAdjust=\"spacingAndGlyphs\" textLength=\"8\" x=\"233.5\" y=\"37.1074\">a</text><line style=\"stroke: #A80036; stroke-width: 1.0;\" x1=\"133\" x2=\"342\" y1=\"44.9375\" y2=\"44.9375\"/></a><polygon fill=\"#FEFECE\" filter=\"url(#f1hdvooovn4mol)\" points=\"290,106.5,302,118.5,290,130.5,278,118.5,290,106.5\" style=\"stroke: #A80036; stroke-width: 1.5;\"/><!--MD5=[a60fb756f580feb9fd8e2cf1329b5c91]\n",
       "entity E3--><a href=\"psysml:56f9bc80-23d6-47f0-bfbf-c5e902f86ac6\" target=\"_top\" title=\"psysml:56f9bc80-23d6-47f0-bfbf-c5e902f86ac6\" xlink:actuate=\"onRequest\" xlink:href=\"psysml:56f9bc80-23d6-47f0-bfbf-c5e902f86ac6\" xlink:show=\"new\" xlink:title=\"psysml:56f9bc80-23d6-47f0-bfbf-c5e902f86ac6\" xlink:type=\"simple\"><polygon fill=\"#FEFECE\" filter=\"url(#f1hdvooovn4mol)\" points=\"149,147.5,149,202.0938,289,202.0938,269,174.7969,289,147.5\" style=\"stroke: #000000; stroke-width: 1.5;\"/><text fill=\"#000000\" font-family=\"sans-serif\" font-size=\"14\" font-style=\"italic\" lengthAdjust=\"spacingAndGlyphs\" textLength=\"111\" x=\"156\" y=\"170.4951\">«accept action»</text><text fill=\"#000000\" font-family=\"sans-serif\" font-size=\"14\" lengthAdjust=\"spacingAndGlyphs\" textLength=\"9\" x=\"207\" y=\"187.792\">S</text></a><!--MD5=[961cefdc15414eaa3e87aec9d17c2188]\n",
       "entity E4--><a href=\"psysml:baf32606-26e9-4cc3-a29f-e775486b01d7\" target=\"_top\" title=\"psysml:baf32606-26e9-4cc3-a29f-e775486b01d7\" xlink:actuate=\"onRequest\" xlink:href=\"psysml:baf32606-26e9-4cc3-a29f-e775486b01d7\" xlink:show=\"new\" xlink:title=\"psysml:baf32606-26e9-4cc3-a29f-e775486b01d7\" xlink:type=\"simple\"><polygon fill=\"#FEFECE\" filter=\"url(#f1hdvooovn4mol)\" points=\"149,235.5,149,290.0938,257,290.0938,277,262.7969,257,235.5\" style=\"stroke: #000000; stroke-width: 1.5;\"/><text fill=\"#000000\" font-family=\"sans-serif\" font-size=\"14\" font-style=\"italic\" lengthAdjust=\"spacingAndGlyphs\" textLength=\"99\" x=\"156\" y=\"258.4951\">«send action»</text><text fill=\"#000000\" font-family=\"sans-serif\" font-size=\"14\" lengthAdjust=\"spacingAndGlyphs\" textLength=\"65\" x=\"173\" y=\"275.792\">S() to  B()</text></a><polygon fill=\"#FEFECE\" filter=\"url(#f1hdvooovn4mol)\" points=\"288,307.5,300,319.5,288,331.5,276,319.5,288,307.5\" style=\"stroke: #A80036; stroke-width: 1.5;\"/><ellipse cx=\"290\" cy=\"68\" fill=\"#000000\" filter=\"url(#f1hdvooovn4mol)\" rx=\"10\" ry=\"10\" style=\"stroke: none; stroke-width: 1.0;\"/><ellipse cx=\"288\" cy=\"358.5\" fill=\"none\" filter=\"url(#f1hdvooovn4mol)\" rx=\"10\" ry=\"10\" style=\"stroke: #000000; stroke-width: 1.0;\"/><ellipse cx=\"288.5\" cy=\"359\" fill=\"#000000\" rx=\"6\" ry=\"6\" style=\"stroke: none; stroke-width: 1.0;\"/><g id=\"E6\"><a href=\"psysml:79d3a6ab-38cc-49fb-ab8f-d1828ed09a3c\" target=\"_top\" title=\"psysml:79d3a6ab-38cc-49fb-ab8f-d1828ed09a3c\" xlink:actuate=\"onRequest\" xlink:href=\"psysml:79d3a6ab-38cc-49fb-ab8f-d1828ed09a3c\" xlink:show=\"new\" xlink:title=\"psysml:79d3a6ab-38cc-49fb-ab8f-d1828ed09a3c\" xlink:type=\"simple\"><rect fill=\"#FEFECE\" filter=\"url(#f1hdvooovn4mol)\" height=\"42.9375\" id=\"E6\" style=\"stroke: #A80036; stroke-width: 1.5;\" width=\"110\" x=\"7\" y=\"46.5\"/><ellipse cx=\"24.25\" cy=\"65.4688\" fill=\"#FFFACD\" rx=\"11\" ry=\"11\" style=\"stroke: #A80036; stroke-width: 1.0;\"/><path d=\"M21.125,70.4688 L21.125,59.875 L24.3594,59.875 Q26.2656,59.875 27.1719,60.625 Q28.0938,61.375 28.0938,62.5469 Q28.0938,63.2344 27.7031,63.8906 Q27.3281,64.5469 26.6094,64.8438 Q27.4688,65.2188 27.9844,65.9063 Q28.5,66.5938 28.5,67.4063 Q28.5,68.7813 27.4688,69.625 Q26.4531,70.4688 24.3438,70.4688 L21.125,70.4688 Z M23.0469,64.1094 L24.2031,64.1094 Q25.3281,64.1094 25.7344,63.7344 Q26.1563,63.3438 26.1563,62.7188 Q26.1563,62.1406 25.7344,61.7813 Q25.3125,61.4219 24.375,61.4219 L23.0469,61.4219 L23.0469,64.1094 Z M23.0469,68.8906 L24.5469,68.8906 Q25.4531,68.8906 25.9844,68.5 Q26.5156,68.1094 26.5156,67.3594 Q26.5156,66.5938 26.0156,66.125 Q25.5156,65.6406 24.25,65.6406 L23.0469,65.6406 L23.0469,68.8906 Z \"/><text fill=\"#000000\" font-family=\"sans-serif\" font-size=\"12\" font-style=\"italic\" lengthAdjust=\"spacingAndGlyphs\" textLength=\"77\" x=\"36.75\" y=\"62.6387\">«action def»</text><text fill=\"#000000\" font-family=\"sans-serif\" font-size=\"12\" lengthAdjust=\"spacingAndGlyphs\" textLength=\"8\" x=\"71.25\" y=\"76.6074\">B</text></a></g><!--MD5=[cff944eb183b832d446717a4e202d613]\n",
       "link *start*E1 to E2--><a href=\"psysml:fb7d5adc-5880-4810-9813-86e53c07f96a\" target=\"_top\" title=\"psysml:fb7d5adc-5880-4810-9813-86e53c07f96a\" xlink:actuate=\"onRequest\" xlink:href=\"psysml:fb7d5adc-5880-4810-9813-86e53c07f96a\" xlink:show=\"new\" xlink:title=\"psysml:fb7d5adc-5880-4810-9813-86e53c07f96a\" xlink:type=\"simple\"><path d=\"M290,78.35 C290,84.88 290,93.77 290,101.42 \" fill=\"none\" id=\"*start*E1-&gt;E2\" style=\"stroke: #A80036; stroke-width: 1.0; stroke-dasharray: 7.0,7.0;\"/><polygon fill=\"#A80036\" points=\"290,106.48,294,97.48,290,101.48,286,97.48,290,106.48\" style=\"stroke: #A80036; stroke-width: 1.0;\"/></a><!--MD5=[7fc47fc0d107820853a137871ad908c8]\n",
       "link E5 to *end*E1--><a href=\"psysml:c9de1ce8-1045-4471-9685-45647676290c\" target=\"_top\" title=\"psysml:c9de1ce8-1045-4471-9685-45647676290c\" xlink:actuate=\"onRequest\" xlink:href=\"psysml:c9de1ce8-1045-4471-9685-45647676290c\" xlink:show=\"new\" xlink:title=\"psysml:c9de1ce8-1045-4471-9685-45647676290c\" xlink:type=\"simple\"><path d=\"M288,331.8 C288,335.34 288,339.3 288,343.03 \" fill=\"none\" id=\"E5-&gt;*end*E1\" style=\"stroke: #A80036; stroke-width: 1.0; stroke-dasharray: 7.0,7.0;\"/><polygon fill=\"#A80036\" points=\"288,348.25,292,339.25,288,343.25,284,339.25,288,348.25\" style=\"stroke: #A80036; stroke-width: 1.0;\"/></a><!--MD5=[2720a5a1f2c3fca2055b230370638851]\n",
       "link E2 to E3--><a href=\"psysml:674af9b4-5477-4a2d-9c32-c1d49aef2cdc\" target=\"_top\" title=\"psysml:674af9b4-5477-4a2d-9c32-c1d49aef2cdc\" xlink:actuate=\"onRequest\" xlink:href=\"psysml:674af9b4-5477-4a2d-9c32-c1d49aef2cdc\" xlink:show=\"new\" xlink:title=\"psysml:674af9b4-5477-4a2d-9c32-c1d49aef2cdc\" xlink:type=\"simple\"><path d=\"M283.45,124.53 C277.33,129.23 267.65,136.66 257.64,144.34 \" fill=\"none\" id=\"E2-&gt;E3\" style=\"stroke: #A80036; stroke-width: 1.0; stroke-dasharray: 7.0,7.0;\"/><polygon fill=\"#A80036\" points=\"253.64,147.41,263.2129,145.0948,257.6037,144.3621,258.3363,138.7529,253.64,147.41\" style=\"stroke: #A80036; stroke-width: 1.0;\"/></a><!--MD5=[af87c684e3b0d8be13c1a698a818ef1e]\n",
       "link E3 to E4--><a href=\"psysml:f1d57d75-7b92-4f65-894e-3c0dce6664b2\" target=\"_top\" title=\"psysml:f1d57d75-7b92-4f65-894e-3c0dce6664b2\" xlink:actuate=\"onRequest\" xlink:href=\"psysml:f1d57d75-7b92-4f65-894e-3c0dce6664b2\" xlink:show=\"new\" xlink:title=\"psysml:f1d57d75-7b92-4f65-894e-3c0dce6664b2\" xlink:type=\"simple\"><path d=\"M217.13,202.74 C216.53,211.4 215.85,221.08 215.23,230.08 \" fill=\"none\" id=\"E3-&gt;E4\" style=\"stroke: #A80036; stroke-width: 1.0; stroke-dasharray: 7.0,7.0;\"/><polygon fill=\"#A80036\" points=\"214.86,235.28,219.468,226.5756,215.203,230.2918,211.4869,226.0268,214.86,235.28\" style=\"stroke: #A80036; stroke-width: 1.0;\"/></a><!--MD5=[1b7591eae5389033d8d09a9d6721a717]\n",
       "link E4 to E5--><a href=\"psysml:5bbe4286-aec7-454e-8b07-ff0b44373e66\" target=\"_top\" title=\"psysml:5bbe4286-aec7-454e-8b07-ff0b44373e66\" xlink:actuate=\"onRequest\" xlink:href=\"psysml:5bbe4286-aec7-454e-8b07-ff0b44373e66\" xlink:show=\"new\" xlink:title=\"psysml:5bbe4286-aec7-454e-8b07-ff0b44373e66\" xlink:type=\"simple\"><path d=\"M249.62,290.61 C259.72,297.95 269.91,305.35 277.24,310.68 \" fill=\"none\" id=\"E4-&gt;E5\" style=\"stroke: #A80036; stroke-width: 1.0; stroke-dasharray: 7.0,7.0;\"/><polygon fill=\"#A80036\" points=\"281.42,313.72,276.4976,305.1894,277.3776,310.7774,271.7896,311.6574,281.42,313.72\" style=\"stroke: #A80036; stroke-width: 1.0;\"/></a><!--MD5=[15ebcb19ae302d9b601edb458606d402]\n",
       "link E5 to E2--><a href=\"psysml:df5824e0-bb07-4266-b9ed-97217b9e7a59\" target=\"_top\" title=\"psysml:df5824e0-bb07-4266-b9ed-97217b9e7a59\" xlink:actuate=\"onRequest\" xlink:href=\"psysml:df5824e0-bb07-4266-b9ed-97217b9e7a59\" xlink:show=\"new\" xlink:title=\"psysml:df5824e0-bb07-4266-b9ed-97217b9e7a59\" xlink:type=\"simple\"><path d=\"M291,310.49 C299.84,285.73 324.06,208.48 307,147.5 C305.26,141.29 301.73,135.1 298.34,130.12 \" fill=\"none\" id=\"E5-&gt;E2\" style=\"stroke: #A80036; stroke-width: 1.0; stroke-dasharray: 7.0,7.0;\"/><polygon fill=\"#A80036\" points=\"295.31,125.92,297.3342,135.5586,298.2364,129.9741,303.8209,130.8763,295.31,125.92\" style=\"stroke: #A80036; stroke-width: 1.0;\"/><text fill=\"#000000\" font-family=\"sans-serif\" font-size=\"13\" lengthAdjust=\"spacingAndGlyphs\" textLength=\"36\" x=\"313\" y=\"223.5669\">[true]</text></a><!--MD5=[215659563883c69a6ca3a9a9b1b1f4f6]\n",
       "@startuml\r\n",
       "skinparam ranksep 8\r\n",
       " \r\n",
       "rec usage \"a\" as E1 << <<(U,orange) action>> [[psysml:88e0a3c5-b7f9-4d13-8306-ae5e61691436 ]] {\r\n",
       "choice \"m\" as E2  [[psysml:207ebb71-0108-47ac-8eb2-03003f2402f5 ]] \r\n",
       "accept \" S\" as E3 << accept action>> [[psysml:56f9bc80-23d6-47f0-bfbf-c5e902f86ac6 ]] \r\n",
       "send \" S() to  B()\" as E4 << send action>> [[psysml:baf32606-26e9-4cc3-a29f-e775486b01d7 ]] \r\n",
       "choice \"<s>noname</s>\" as E5  [[psysml:de118d49-a158-4609-b10e-b605b2688318 ]] \r\n",
       "[*] ..> E2 [[psysml:fb7d5adc-5880-4810-9813-86e53c07f96a ]] \r\n",
       "E5 ..> [*] [[psysml:c9de1ce8-1045-4471-9685-45647676290c ]] \r\n",
       "}\r\n",
       "\r\n",
       "E2 ..> E3 [[psysml:674af9b4-5477-4a2d-9c32-c1d49aef2cdc ]] \r\n",
       "E3 ..> E4 [[psysml:f1d57d75-7b92-4f65-894e-3c0dce6664b2 ]] \r\n",
       "E4 ..> E5 [[psysml:5bbe4286-aec7-454e-8b07-ff0b44373e66 ]] \r\n",
       "E5 ..> E2 [[psysml:df5824e0-bb07-4266-b9ed-97217b9e7a59 ]] : [true]\r\n",
       "rec def \"B\" as E6 << <<(B,lemonchiffon) action def>> [[psysml:79d3a6ab-38cc-49fb-ab8f-d1828ed09a3c ]] {\r\n",
       "}\r\n",
       "\r\n",
       "@enduml\r\n",
       "\n",
       "PlantUML version 1.2020.13(Sat Jun 13 12:26:38 UTC 2020)\n",
       "(EPL source distribution)\n",
       "Java Runtime: OpenJDK Runtime Environment\n",
       "JVM: OpenJDK 64-Bit Server VM\n",
       "Default Encoding: UTF-8\n",
       "Language: en\n",
       "Country: null\n",
       "--></g></svg>"
      ]
     },
     "execution_count": 34,
     "metadata": {},
     "output_type": "execute_result"
    }
   ],
   "source": [
    "%viz --style=\"PLANTUML\" --view=\"Action\" \"ActionTest\""
   ]
  },
  {
   "cell_type": "code",
   "execution_count": 35,
   "id": "40de32c7",
   "metadata": {
    "execution": {
     "iopub.execute_input": "2021-09-27T07:16:57.006129Z",
     "iopub.status.busy": "2021-09-27T07:16:57.005716Z",
     "iopub.status.idle": "2021-09-27T07:16:57.010753Z",
     "shell.execute_reply": "2021-09-27T07:16:57.011063Z"
    }
   },
   "outputs": [
    {
     "data": {
      "image/svg+xml": [
       "<?xml version=\"1.0\" encoding=\"UTF-8\" standalone=\"no\"?><svg xmlns=\"http://www.w3.org/2000/svg\" xmlns:xlink=\"http://www.w3.org/1999/xlink\" contentScriptType=\"application/ecmascript\" contentStyleType=\"text/css\" height=\"12px\" preserveAspectRatio=\"none\" style=\"width:12px;height:12px;\" version=\"1.1\" viewBox=\"0 0 12 12\" width=\"12px\" zoomAndPan=\"magnify\"><defs/><g><!--MD5=[ca4faa0b02def275ea33c14ea7a1a98d]\n",
       "@startuml\r\n",
       "skinparam roundcorner 20\r\n",
       "skinparam BoxPadding 20\r\n",
       "skinparam SequenceBoxBackgroundColor #white\r\n",
       "skinparam style strictuml\r\n",
       "skinparam maxMessageSize 100\r\n",
       " \r\n",
       "@enduml\r\n",
       "\n",
       "PlantUML version 1.2020.13(Sat Jun 13 12:26:38 UTC 2020)\n",
       "(EPL source distribution)\n",
       "Java Runtime: OpenJDK Runtime Environment\n",
       "JVM: OpenJDK 64-Bit Server VM\n",
       "Default Encoding: UTF-8\n",
       "Language: en\n",
       "Country: null\n",
       "--></g></svg>"
      ]
     },
     "execution_count": 35,
     "metadata": {},
     "output_type": "execute_result"
    }
   ],
   "source": [
    "%viz --style=\"PLANTUML\" --view=\"Sequence\" \"ActionTest\""
   ]
  },
  {
   "cell_type": "code",
   "execution_count": 36,
   "id": "7beb139d",
   "metadata": {
    "execution": {
     "iopub.execute_input": "2021-09-27T07:16:57.061143Z",
     "iopub.status.busy": "2021-09-27T07:16:57.060742Z",
     "iopub.status.idle": "2021-09-27T07:16:57.101967Z",
     "shell.execute_reply": "2021-09-27T07:16:57.100367Z"
    }
   },
   "outputs": [
    {
     "data": {
      "image/svg+xml": [
       "<?xml version=\"1.0\" encoding=\"UTF-8\" standalone=\"no\"?><svg xmlns=\"http://www.w3.org/2000/svg\" xmlns:xlink=\"http://www.w3.org/1999/xlink\" contentScriptType=\"application/ecmascript\" contentStyleType=\"text/css\" height=\"684px\" preserveAspectRatio=\"none\" style=\"width:570px;height:684px;\" version=\"1.1\" viewBox=\"0 0 570 684\" width=\"570px\" zoomAndPan=\"magnify\"><defs><filter height=\"300%\" id=\"f1nvuxjxdoopvp\" width=\"300%\" x=\"-1\" y=\"-1\"><feGaussianBlur result=\"blurOut\" stdDeviation=\"2.0\"/><feColorMatrix in=\"blurOut\" result=\"blurOut2\" type=\"matrix\" values=\"0 0 0 0 0 0 0 0 0 0 0 0 0 0 0 0 0 0 .4 0\"/><feOffset dx=\"4.0\" dy=\"4.0\" in=\"blurOut2\" result=\"blurOut3\"/><feBlend in=\"SourceGraphic\" in2=\"blurOut3\" mode=\"normal\"/></filter></defs><g><!--MD5=[fbc87193dbaf4d95561dea2c320d4a47]\n",
       "cluster E1--><a href=\"psysml:a2683da9-1b6e-41fc-828a-cc7d1e5b2935\" target=\"_top\" title=\"psysml:a2683da9-1b6e-41fc-828a-cc7d1e5b2935\" xlink:actuate=\"onRequest\" xlink:href=\"psysml:a2683da9-1b6e-41fc-828a-cc7d1e5b2935\" xlink:show=\"new\" xlink:title=\"psysml:a2683da9-1b6e-41fc-828a-cc7d1e5b2935\" xlink:type=\"simple\"><polygon fill=\"#FFFFFF\" filter=\"url(#f1nvuxjxdoopvp)\" points=\"16,6,96,6,103,28.2969,548,28.2969,548,672,16,672,16,6\" style=\"stroke: #000000; stroke-width: 1.5;\"/><line style=\"stroke: #000000; stroke-width: 1.5;\" x1=\"16\" x2=\"103\" y1=\"28.2969\" y2=\"28.2969\"/><text fill=\"#000000\" font-family=\"sans-serif\" font-size=\"14\" font-weight=\"bold\" lengthAdjust=\"spacingAndGlyphs\" textLength=\"74\" x=\"20\" y=\"20.9951\">ActionTest</text></a><!--MD5=[d5e69f78d87373223dbae638b30a9c99]\n",
       "cluster E3--><a href=\"psysml:88e0a3c5-b7f9-4d13-8306-ae5e61691436\" target=\"_top\" title=\"psysml:88e0a3c5-b7f9-4d13-8306-ae5e61691436\" xlink:actuate=\"onRequest\" xlink:href=\"psysml:88e0a3c5-b7f9-4d13-8306-ae5e61691436\" xlink:show=\"new\" xlink:title=\"psysml:88e0a3c5-b7f9-4d13-8306-ae5e61691436\" xlink:type=\"simple\"><rect fill=\"#FFFFFF\" filter=\"url(#f1nvuxjxdoopvp)\" height=\"599\" id=\"E3\" rx=\"10\" ry=\"10\" style=\"stroke: #A80036; stroke-width: 1.5;\" width=\"209\" x=\"315\" y=\"49\"/><rect fill=\"#FEFECE\" height=\"37.9375\" rx=\"10\" ry=\"10\" style=\"stroke: #FEFECE; stroke-width: 1.5;\" width=\"209\" x=\"315\" y=\"49\"/><rect fill=\"#FEFECE\" height=\"10\" style=\"stroke: #FEFECE; stroke-width: 1.5;\" width=\"209\" x=\"315\" y=\"76.9375\"/><rect fill=\"none\" height=\"599\" id=\"E3\" rx=\"10\" ry=\"10\" style=\"stroke: #A80036; stroke-width: 1.5;\" width=\"209\" x=\"315\" y=\"49\"/><text fill=\"#000000\" font-family=\"sans-serif\" font-size=\"12\" font-style=\"italic\" lengthAdjust=\"spacingAndGlyphs\" textLength=\"53\" x=\"393\" y=\"65.1387\">«action»</text><text fill=\"#000000\" font-family=\"sans-serif\" font-size=\"12\" lengthAdjust=\"spacingAndGlyphs\" textLength=\"8\" x=\"415.5\" y=\"79.1074\">a</text><line style=\"stroke: #A80036; stroke-width: 1.0;\" x1=\"315\" x2=\"524\" y1=\"86.9375\" y2=\"86.9375\"/></a><!--MD5=[b4997ac47864f28c2f74865a473b2911]\n",
       "class E2--><a href=\"psysml:9c87d4ab-cb1d-4b31-8fcd-81209805f4cd\" target=\"_top\" title=\"psysml:9c87d4ab-cb1d-4b31-8fcd-81209805f4cd\" xlink:actuate=\"onRequest\" xlink:href=\"psysml:9c87d4ab-cb1d-4b31-8fcd-81209805f4cd\" xlink:show=\"new\" xlink:title=\"psysml:9c87d4ab-cb1d-4b31-8fcd-81209805f4cd\" xlink:type=\"simple\"><rect fill=\"#FEFECE\" filter=\"url(#f1nvuxjxdoopvp)\" height=\"45.9375\" id=\"E2\" style=\"stroke: #A80036; stroke-width: 1.5;\" width=\"121\" x=\"177.5\" y=\"87\"/><ellipse cx=\"192.5\" cy=\"105.9688\" fill=\"#A52A2A\" rx=\"11\" ry=\"11\" style=\"stroke: #A80036; stroke-width: 1.0;\"/><path d=\"M189.7188,110.9688 L189.7188,100.375 L192.4531,100.375 Q193.8438,100.375 194.6094,100.7656 Q195.3906,101.1406 195.9219,101.8438 Q196.4531,102.5469 196.75,103.5469 Q197.0469,104.5313 197.0469,105.75 Q197,107.3438 196.5,108.5313 Q196.0156,109.7031 194.9688,110.3438 Q193.9375,110.9688 192.25,110.9688 L189.7188,110.9688 Z M191.5781,109.4688 L192.2031,109.4688 Q193.2813,109.4688 193.9375,109.0156 Q194.5938,108.5625 194.875,107.7344 Q195.1719,106.8906 195.1563,105.7656 Q195.1563,104.5938 194.9063,103.7344 Q194.6563,102.8594 194.0469,102.3906 Q193.4375,101.9063 192.3906,101.9063 L191.5781,101.9063 L191.5781,109.4688 Z \"/><text fill=\"#000000\" font-family=\"sans-serif\" font-size=\"12\" font-style=\"italic\" lengthAdjust=\"spacingAndGlyphs\" textLength=\"93\" x=\"204.5\" y=\"103.1387\">«attribute def»</text><text fill=\"#000000\" font-family=\"sans-serif\" font-size=\"12\" lengthAdjust=\"spacingAndGlyphs\" textLength=\"8\" x=\"247\" y=\"117.1074\">S</text><line style=\"stroke: #A80036; stroke-width: 1.5;\" x1=\"178.5\" x2=\"297.5\" y1=\"124.9375\" y2=\"124.9375\"/></a><polygon fill=\"#FEFECE\" filter=\"url(#f1nvuxjxdoopvp)\" points=\"472,194,484,206,472,218,460,206,472,194\" style=\"stroke: #A80036; stroke-width: 1.5;\"/><!--MD5=[21dd76c19d33815960c0e92fef8f0eef]\n",
       "entity E5--><a href=\"psysml:56f9bc80-23d6-47f0-bfbf-c5e902f86ac6\" target=\"_top\" title=\"psysml:56f9bc80-23d6-47f0-bfbf-c5e902f86ac6\" xlink:actuate=\"onRequest\" xlink:href=\"psysml:56f9bc80-23d6-47f0-bfbf-c5e902f86ac6\" xlink:show=\"new\" xlink:title=\"psysml:56f9bc80-23d6-47f0-bfbf-c5e902f86ac6\" xlink:type=\"simple\"><polygon fill=\"#FEFECE\" filter=\"url(#f1nvuxjxdoopvp)\" points=\"331,279,331,333.5938,471,333.5938,451,306.2969,471,279\" style=\"stroke: #000000; stroke-width: 1.5;\"/><text fill=\"#000000\" font-family=\"sans-serif\" font-size=\"14\" font-style=\"italic\" lengthAdjust=\"spacingAndGlyphs\" textLength=\"111\" x=\"338\" y=\"301.9951\">«accept action»</text><text fill=\"#000000\" font-family=\"sans-serif\" font-size=\"14\" lengthAdjust=\"spacingAndGlyphs\" textLength=\"9\" x=\"389\" y=\"319.292\">S</text></a><!--MD5=[24d87cdf3002d433f401b2a2aa9f9f65]\n",
       "entity E6--><a href=\"psysml:baf32606-26e9-4cc3-a29f-e775486b01d7\" target=\"_top\" title=\"psysml:baf32606-26e9-4cc3-a29f-e775486b01d7\" xlink:actuate=\"onRequest\" xlink:href=\"psysml:baf32606-26e9-4cc3-a29f-e775486b01d7\" xlink:show=\"new\" xlink:title=\"psysml:baf32606-26e9-4cc3-a29f-e775486b01d7\" xlink:type=\"simple\"><polygon fill=\"#FEFECE\" filter=\"url(#f1nvuxjxdoopvp)\" points=\"331,411,331,465.5938,439,465.5938,459,438.2969,439,411\" style=\"stroke: #000000; stroke-width: 1.5;\"/><text fill=\"#000000\" font-family=\"sans-serif\" font-size=\"14\" font-style=\"italic\" lengthAdjust=\"spacingAndGlyphs\" textLength=\"99\" x=\"338\" y=\"433.9951\">«send action»</text><text fill=\"#000000\" font-family=\"sans-serif\" font-size=\"14\" lengthAdjust=\"spacingAndGlyphs\" textLength=\"65\" x=\"355\" y=\"451.292\">S() to  B()</text></a><polygon fill=\"#FEFECE\" filter=\"url(#f1nvuxjxdoopvp)\" points=\"470,527,482,539,470,551,458,539,470,527\" style=\"stroke: #A80036; stroke-width: 1.5;\"/><ellipse cx=\"472\" cy=\"110\" fill=\"#000000\" filter=\"url(#f1nvuxjxdoopvp)\" rx=\"10\" ry=\"10\" style=\"stroke: none; stroke-width: 1.0;\"/><ellipse cx=\"470\" cy=\"622\" fill=\"none\" filter=\"url(#f1nvuxjxdoopvp)\" rx=\"10\" ry=\"10\" style=\"stroke: #000000; stroke-width: 1.0;\"/><ellipse cx=\"470.5\" cy=\"622.5\" fill=\"#000000\" rx=\"6\" ry=\"6\" style=\"stroke: none; stroke-width: 1.0;\"/><g id=\"E1.E8\"><a href=\"psysml:79d3a6ab-38cc-49fb-ab8f-d1828ed09a3c\" target=\"_top\" title=\"psysml:79d3a6ab-38cc-49fb-ab8f-d1828ed09a3c\" xlink:actuate=\"onRequest\" xlink:href=\"psysml:79d3a6ab-38cc-49fb-ab8f-d1828ed09a3c\" xlink:show=\"new\" xlink:title=\"psysml:79d3a6ab-38cc-49fb-ab8f-d1828ed09a3c\" xlink:type=\"simple\"><rect fill=\"#FEFECE\" filter=\"url(#f1nvuxjxdoopvp)\" height=\"42.9375\" id=\"E8\" style=\"stroke: #A80036; stroke-width: 1.5;\" width=\"110\" x=\"32\" y=\"88.5\"/><ellipse cx=\"49.25\" cy=\"107.4688\" fill=\"#FFFACD\" rx=\"11\" ry=\"11\" style=\"stroke: #A80036; stroke-width: 1.0;\"/><path d=\"M46.125,112.4688 L46.125,101.875 L49.3594,101.875 Q51.2656,101.875 52.1719,102.625 Q53.0938,103.375 53.0938,104.5469 Q53.0938,105.2344 52.7031,105.8906 Q52.3281,106.5469 51.6094,106.8438 Q52.4688,107.2188 52.9844,107.9063 Q53.5,108.5938 53.5,109.4063 Q53.5,110.7813 52.4688,111.625 Q51.4531,112.4688 49.3438,112.4688 L46.125,112.4688 Z M48.0469,106.1094 L49.2031,106.1094 Q50.3281,106.1094 50.7344,105.7344 Q51.1563,105.3438 51.1563,104.7188 Q51.1563,104.1406 50.7344,103.7813 Q50.3125,103.4219 49.375,103.4219 L48.0469,103.4219 L48.0469,106.1094 Z M48.0469,110.8906 L49.5469,110.8906 Q50.4531,110.8906 50.9844,110.5 Q51.5156,110.1094 51.5156,109.3594 Q51.5156,108.5938 51.0156,108.125 Q50.5156,107.6406 49.25,107.6406 L48.0469,107.6406 L48.0469,110.8906 Z \"/><text fill=\"#000000\" font-family=\"sans-serif\" font-size=\"12\" font-style=\"italic\" lengthAdjust=\"spacingAndGlyphs\" textLength=\"77\" x=\"61.75\" y=\"104.6387\">«action def»</text><text fill=\"#000000\" font-family=\"sans-serif\" font-size=\"12\" lengthAdjust=\"spacingAndGlyphs\" textLength=\"8\" x=\"96.25\" y=\"118.6074\">B</text></a></g><!--MD5=[f47e10efcf9a6752d55dae986d790ed9]\n",
       "link *start*E3 to E4--><a href=\"psysml:fb7d5adc-5880-4810-9813-86e53c07f96a\" target=\"_top\" title=\"psysml:fb7d5adc-5880-4810-9813-86e53c07f96a\" xlink:actuate=\"onRequest\" xlink:href=\"psysml:fb7d5adc-5880-4810-9813-86e53c07f96a\" xlink:show=\"new\" xlink:title=\"psysml:fb7d5adc-5880-4810-9813-86e53c07f96a\" xlink:type=\"simple\"><path d=\"M472,120.01 C472,135.81 472,168.69 472,188.61 \" fill=\"none\" id=\"*start*E3-&gt;E4\" style=\"stroke: #A80036; stroke-width: 1.0;\"/><polygon fill=\"#A80036\" points=\"472,193.85,476,184.85,472,188.85,468,184.85,472,193.85\" style=\"stroke: #A80036; stroke-width: 1.0;\"/></a><!--MD5=[d19f2eb34364d71b67042106d92f540b]\n",
       "link E7 to *end*E3--><a href=\"psysml:c9de1ce8-1045-4471-9685-45647676290c\" target=\"_top\" title=\"psysml:c9de1ce8-1045-4471-9685-45647676290c\" xlink:actuate=\"onRequest\" xlink:href=\"psysml:c9de1ce8-1045-4471-9685-45647676290c\" xlink:show=\"new\" xlink:title=\"psysml:c9de1ce8-1045-4471-9685-45647676290c\" xlink:type=\"simple\"><path d=\"M470,551.26 C470,565.66 470,590.63 470,606.46 \" fill=\"none\" id=\"E7-&gt;*end*E3\" style=\"stroke: #A80036; stroke-width: 1.0;\"/><polygon fill=\"#A80036\" points=\"470,611.84,474,602.84,470,606.84,466,602.84,470,611.84\" style=\"stroke: #A80036; stroke-width: 1.0;\"/></a><!--MD5=[1b7591eae5389033d8d09a9d6721a717]\n",
       "link E4 to E5--><a href=\"psysml:674af9b4-5477-4a2d-9c32-c1d49aef2cdc\" target=\"_top\" title=\"psysml:674af9b4-5477-4a2d-9c32-c1d49aef2cdc\" xlink:actuate=\"onRequest\" xlink:href=\"psysml:674af9b4-5477-4a2d-9c32-c1d49aef2cdc\" xlink:show=\"new\" xlink:title=\"psysml:674af9b4-5477-4a2d-9c32-c1d49aef2cdc\" xlink:type=\"simple\"><path d=\"M467.34,213.46 C458.55,225.66 438.99,252.8 423.37,274.46 \" fill=\"none\" id=\"E4-&gt;E5\" style=\"stroke: #A80036; stroke-width: 1.0;\"/><polygon fill=\"#A80036\" points=\"420.31,278.71,428.8093,273.7339,423.227,274.6491,422.3119,269.0667,420.31,278.71\" style=\"stroke: #A80036; stroke-width: 1.0;\"/><text fill=\"#000000\" font-family=\"sans-serif\" font-size=\"13\" lengthAdjust=\"spacingAndGlyphs\" textLength=\"7\" x=\"416.7684\" y=\"268.1162\">*</text></a><!--MD5=[9120cf2e5df3bff93db8f754bbbc09b4]\n",
       "link E5 to E6--><a href=\"psysml:f1d57d75-7b92-4f65-894e-3c0dce6664b2\" target=\"_top\" title=\"psysml:f1d57d75-7b92-4f65-894e-3c0dce6664b2\" xlink:actuate=\"onRequest\" xlink:href=\"psysml:f1d57d75-7b92-4f65-894e-3c0dce6664b2\" xlink:show=\"new\" xlink:title=\"psysml:f1d57d75-7b92-4f65-894e-3c0dce6664b2\" xlink:type=\"simple\"><path d=\"M399.77,334.12 C398.81,354.89 397.48,383.8 396.46,405.77 \" fill=\"none\" id=\"E5-&gt;E6\" style=\"stroke: #A80036; stroke-width: 1.0;\"/><polygon fill=\"#A80036\" points=\"396.23,410.91,400.6368,402.1021,396.4583,405.9152,392.6452,401.7367,396.23,410.91\" style=\"stroke: #A80036; stroke-width: 1.0;\"/><text fill=\"#000000\" font-family=\"sans-serif\" font-size=\"13\" lengthAdjust=\"spacingAndGlyphs\" textLength=\"7\" x=\"388.7051\" y=\"399.9247\">*</text></a><!--MD5=[02c70b7c851c11e3980e4e90450dc5dd]\n",
       "link E6 to E7--><a href=\"psysml:5bbe4286-aec7-454e-8b07-ff0b44373e66\" target=\"_top\" title=\"psysml:5bbe4286-aec7-454e-8b07-ff0b44373e66\" xlink:actuate=\"onRequest\" xlink:href=\"psysml:5bbe4286-aec7-454e-8b07-ff0b44373e66\" xlink:show=\"new\" xlink:title=\"psysml:5bbe4286-aec7-454e-8b07-ff0b44373e66\" xlink:type=\"simple\"><path d=\"M415.3,466.16 C430.71,486.4 451.07,513.14 462.09,527.61 \" fill=\"none\" id=\"E6-&gt;E7\" style=\"stroke: #A80036; stroke-width: 1.0;\"/><polygon fill=\"#A80036\" points=\"465.2,531.69,462.9398,522.104,462.1749,527.7089,456.57,526.9441,465.2,531.69\" style=\"stroke: #A80036; stroke-width: 1.0;\"/><text fill=\"#000000\" font-family=\"sans-serif\" font-size=\"13\" lengthAdjust=\"spacingAndGlyphs\" textLength=\"7\" x=\"450.9375\" y=\"515.8563\">*</text></a><!--MD5=[6bdd27f9905911a7e892a3dc65cf6b7c]\n",
       "link E7 to E4--><a href=\"psysml:df5824e0-bb07-4266-b9ed-97217b9e7a59\" target=\"_top\" title=\"psysml:df5824e0-bb07-4266-b9ed-97217b9e7a59\" xlink:actuate=\"onRequest\" xlink:href=\"psysml:df5824e0-bb07-4266-b9ed-97217b9e7a59\" xlink:show=\"new\" xlink:title=\"psysml:df5824e0-bb07-4266-b9ed-97217b9e7a59\" xlink:type=\"simple\"><path d=\"M471.98,528.56 C478.8,494.71 500.32,376.18 489,279 C486.59,258.32 480.42,234.96 476.21,220.61 \" fill=\"none\" id=\"E7-&gt;E4\" style=\"stroke: #A80036; stroke-width: 1.0;\"/><polygon fill=\"#A80036\" points=\"474.76,215.75,473.4935,225.5171,476.1863,220.5423,481.1611,223.2351,474.76,215.75\" style=\"stroke: #A80036; stroke-width: 1.0;\"/><text fill=\"#000000\" font-family=\"sans-serif\" font-size=\"13\" lengthAdjust=\"spacingAndGlyphs\" textLength=\"36\" x=\"492\" y=\"377.0669\">[true]</text><text fill=\"#000000\" font-family=\"sans-serif\" font-size=\"13\" lengthAdjust=\"spacingAndGlyphs\" textLength=\"7\" x=\"467.3253\" y=\"237.9903\">*</text></a><!--MD5=[8b73ed0f35362ff86e59f02b13d9fc33]\n",
       "@startuml\r\n",
       " \r\n",
       "package \"ActionTest\" as E1  [[psysml:a2683da9-1b6e-41fc-828a-cc7d1e5b2935 ]]  {\r\n",
       "comp def \"S\" as E2 << <<(D,brown) attribute def>> [[psysml:9c87d4ab-cb1d-4b31-8fcd-81209805f4cd ]] {\r\n",
       "}\r\n",
       "rec usage \"a\" as E3 << <<(U,orange) action>> [[psysml:88e0a3c5-b7f9-4d13-8306-ae5e61691436 ]] {\r\n",
       "choice \"m\" as E4  [[psysml:207ebb71-0108-47ac-8eb2-03003f2402f5 ]] \r\n",
       "accept \" S\" as E5 << accept action>> [[psysml:56f9bc80-23d6-47f0-bfbf-c5e902f86ac6 ]] \r\n",
       "send \" S() to  B()\" as E6 << send action>> [[psysml:baf32606-26e9-4cc3-a29f-e775486b01d7 ]] \r\n",
       "choice \"<s>noname</s>\" as E7  [[psysml:de118d49-a158-4609-b10e-b605b2688318 ]] \r\n",
       "[*] - -> E4 [[psysml:fb7d5adc-5880-4810-9813-86e53c07f96a ]] \r\n",
       "E7  - -> [*] [[psysml:c9de1ce8-1045-4471-9685-45647676290c ]] \r\n",
       "}\r\n",
       "\r\n",
       "rec def \"B\" as E8 << <<(B,lemonchiffon) action def>> [[psysml:79d3a6ab-38cc-49fb-ab8f-d1828ed09a3c ]] {\r\n",
       "}\r\n",
       "\r\n",
       "}\r\n",
       "E4 - -> \"*\"E5 [[psysml:674af9b4-5477-4a2d-9c32-c1d49aef2cdc ]] \r\n",
       "E5 - -> \"*\"E6 [[psysml:f1d57d75-7b92-4f65-894e-3c0dce6664b2 ]] \r\n",
       "E6 - -> \"*\"E7 [[psysml:5bbe4286-aec7-454e-8b07-ff0b44373e66 ]] \r\n",
       "E7  - -> \"*\"E4 [[psysml:df5824e0-bb07-4266-b9ed-97217b9e7a59 ]] : [true]\r\n",
       "@enduml\r\n",
       "\n",
       "PlantUML version 1.2020.13(Sat Jun 13 12:26:38 UTC 2020)\n",
       "(EPL source distribution)\n",
       "Java Runtime: OpenJDK Runtime Environment\n",
       "JVM: OpenJDK 64-Bit Server VM\n",
       "Default Encoding: UTF-8\n",
       "Language: en\n",
       "Country: null\n",
       "--></g></svg>"
      ]
     },
     "execution_count": 36,
     "metadata": {},
     "output_type": "execute_result"
    }
   ],
   "source": [
    "%viz --style=\"PLANTUML\" --view=\"MIXED\" \"ActionTest\""
   ]
  },
  {
   "cell_type": "code",
   "execution_count": 37,
   "id": "5a14ec8c",
   "metadata": {
    "execution": {
     "iopub.execute_input": "2021-09-27T07:16:57.151246Z",
     "iopub.status.busy": "2021-09-27T07:16:57.150842Z",
     "iopub.status.idle": "2021-09-27T07:16:57.195986Z",
     "shell.execute_reply": "2021-09-27T07:16:57.195623Z"
    }
   },
   "outputs": [
    {
     "data": {
      "image/svg+xml": [
       "<?xml version=\"1.0\" encoding=\"UTF-8\" standalone=\"no\"?><svg xmlns=\"http://www.w3.org/2000/svg\" xmlns:xlink=\"http://www.w3.org/1999/xlink\" contentScriptType=\"application/ecmascript\" contentStyleType=\"text/css\" height=\"684px\" preserveAspectRatio=\"none\" style=\"width:518px;height:684px;\" version=\"1.1\" viewBox=\"0 0 518 684\" width=\"518px\" zoomAndPan=\"magnify\"><defs/><g><!--MD5=[fbc87193dbaf4d95561dea2c320d4a47]\n",
       "cluster E1--><a href=\"psysml:a2683da9-1b6e-41fc-828a-cc7d1e5b2935\" target=\"_top\" title=\"psysml:a2683da9-1b6e-41fc-828a-cc7d1e5b2935\" xlink:actuate=\"onRequest\" xlink:href=\"psysml:a2683da9-1b6e-41fc-828a-cc7d1e5b2935\" xlink:show=\"new\" xlink:title=\"psysml:a2683da9-1b6e-41fc-828a-cc7d1e5b2935\" xlink:type=\"simple\"><polygon fill=\"#FFFFFF\" points=\"16,6,96,6,103,28.2969,496,28.2969,496,672,16,672,16,6\" style=\"stroke: #000000; stroke-width: 1.5;\"/><line style=\"stroke: #000000; stroke-width: 1.5;\" x1=\"16\" x2=\"103\" y1=\"28.2969\" y2=\"28.2969\"/><text fill=\"#000000\" font-family=\"sans-serif\" font-size=\"14\" font-weight=\"bold\" lengthAdjust=\"spacingAndGlyphs\" textLength=\"74\" x=\"20\" y=\"20.9951\">ActionTest</text></a><!--MD5=[d5e69f78d87373223dbae638b30a9c99]\n",
       "cluster E3--><a href=\"psysml:88e0a3c5-b7f9-4d13-8306-ae5e61691436\" target=\"_top\" title=\"psysml:88e0a3c5-b7f9-4d13-8306-ae5e61691436\" xlink:actuate=\"onRequest\" xlink:href=\"psysml:88e0a3c5-b7f9-4d13-8306-ae5e61691436\" xlink:show=\"new\" xlink:title=\"psysml:88e0a3c5-b7f9-4d13-8306-ae5e61691436\" xlink:type=\"simple\"><rect fill=\"#FFFFFF\" height=\"599\" id=\"E3\" rx=\"10\" ry=\"10\" style=\"stroke: #383838; stroke-width: 1.5;\" width=\"209\" x=\"263\" y=\"49\"/><rect fill=\"#F8F8F8\" height=\"37.9375\" rx=\"10\" ry=\"10\" style=\"stroke: #F8F8F8; stroke-width: 1.5;\" width=\"209\" x=\"263\" y=\"49\"/><rect fill=\"#F8F8F8\" height=\"10\" style=\"stroke: #F8F8F8; stroke-width: 1.5;\" width=\"209\" x=\"263\" y=\"76.9375\"/><rect fill=\"none\" height=\"599\" id=\"E3\" rx=\"10\" ry=\"10\" style=\"stroke: #383838; stroke-width: 1.5;\" width=\"209\" x=\"263\" y=\"49\"/><text fill=\"#000000\" font-family=\"sans-serif\" font-size=\"12\" font-style=\"italic\" lengthAdjust=\"spacingAndGlyphs\" textLength=\"53\" x=\"341\" y=\"65.1387\">«action»</text><text fill=\"#000000\" font-family=\"sans-serif\" font-size=\"12\" lengthAdjust=\"spacingAndGlyphs\" textLength=\"8\" x=\"363.5\" y=\"79.1074\">a</text><line style=\"stroke: #383838; stroke-width: 1.0;\" x1=\"263\" x2=\"472\" y1=\"86.9375\" y2=\"86.9375\"/></a><!--MD5=[b4997ac47864f28c2f74865a473b2911]\n",
       "class E2--><a href=\"psysml:9c87d4ab-cb1d-4b31-8fcd-81209805f4cd\" target=\"_top\" title=\"psysml:9c87d4ab-cb1d-4b31-8fcd-81209805f4cd\" xlink:actuate=\"onRequest\" xlink:href=\"psysml:9c87d4ab-cb1d-4b31-8fcd-81209805f4cd\" xlink:show=\"new\" xlink:title=\"psysml:9c87d4ab-cb1d-4b31-8fcd-81209805f4cd\" xlink:type=\"simple\"><rect fill=\"#FFFFFF\" height=\"45.9375\" id=\"E2\" style=\"stroke: #383838; stroke-width: 1.5;\" width=\"95\" x=\"151.5\" y=\"87\"/><text fill=\"#000000\" font-family=\"sans-serif\" font-size=\"12\" font-style=\"italic\" lengthAdjust=\"spacingAndGlyphs\" textLength=\"93\" x=\"152.5\" y=\"103.1387\">«attribute def»</text><text fill=\"#000000\" font-family=\"sans-serif\" font-size=\"12\" lengthAdjust=\"spacingAndGlyphs\" textLength=\"8\" x=\"195\" y=\"117.1074\">S</text><line style=\"stroke: #383838; stroke-width: 1.5;\" x1=\"152.5\" x2=\"245.5\" y1=\"124.9375\" y2=\"124.9375\"/></a><polygon fill=\"#F8F8F8\" points=\"420,194,432,206,420,218,408,206,420,194\" style=\"stroke: #383838; stroke-width: 1.5;\"/><!--MD5=[21dd76c19d33815960c0e92fef8f0eef]\n",
       "entity E5--><a href=\"psysml:56f9bc80-23d6-47f0-bfbf-c5e902f86ac6\" target=\"_top\" title=\"psysml:56f9bc80-23d6-47f0-bfbf-c5e902f86ac6\" xlink:actuate=\"onRequest\" xlink:href=\"psysml:56f9bc80-23d6-47f0-bfbf-c5e902f86ac6\" xlink:show=\"new\" xlink:title=\"psysml:56f9bc80-23d6-47f0-bfbf-c5e902f86ac6\" xlink:type=\"simple\"><polygon fill=\"#F8F8F8\" points=\"279,279,279,333.5938,419,333.5938,399,306.2969,419,279\" style=\"stroke: #000000; stroke-width: 1.5;\"/><text fill=\"#000000\" font-family=\"sans-serif\" font-size=\"14\" font-style=\"italic\" lengthAdjust=\"spacingAndGlyphs\" textLength=\"111\" x=\"286\" y=\"301.9951\">«accept action»</text><text fill=\"#000000\" font-family=\"sans-serif\" font-size=\"14\" lengthAdjust=\"spacingAndGlyphs\" textLength=\"9\" x=\"337\" y=\"319.292\">S</text></a><!--MD5=[24d87cdf3002d433f401b2a2aa9f9f65]\n",
       "entity E6--><a href=\"psysml:baf32606-26e9-4cc3-a29f-e775486b01d7\" target=\"_top\" title=\"psysml:baf32606-26e9-4cc3-a29f-e775486b01d7\" xlink:actuate=\"onRequest\" xlink:href=\"psysml:baf32606-26e9-4cc3-a29f-e775486b01d7\" xlink:show=\"new\" xlink:title=\"psysml:baf32606-26e9-4cc3-a29f-e775486b01d7\" xlink:type=\"simple\"><polygon fill=\"#F8F8F8\" points=\"279,411,279,465.5938,387,465.5938,407,438.2969,387,411\" style=\"stroke: #000000; stroke-width: 1.5;\"/><text fill=\"#000000\" font-family=\"sans-serif\" font-size=\"14\" font-style=\"italic\" lengthAdjust=\"spacingAndGlyphs\" textLength=\"99\" x=\"286\" y=\"433.9951\">«send action»</text><text fill=\"#000000\" font-family=\"sans-serif\" font-size=\"14\" lengthAdjust=\"spacingAndGlyphs\" textLength=\"65\" x=\"303\" y=\"451.292\">S() to  B()</text></a><polygon fill=\"#F8F8F8\" points=\"418,527,430,539,418,551,406,539,418,527\" style=\"stroke: #383838; stroke-width: 1.5;\"/><ellipse cx=\"420\" cy=\"110\" fill=\"#000000\" rx=\"10\" ry=\"10\" style=\"stroke: none; stroke-width: 1.0;\"/><ellipse cx=\"418\" cy=\"622\" fill=\"none\" rx=\"10\" ry=\"10\" style=\"stroke: #000000; stroke-width: 1.0;\"/><ellipse cx=\"418.5\" cy=\"622.5\" fill=\"#000000\" rx=\"6\" ry=\"6\" style=\"stroke: none; stroke-width: 1.0;\"/><g id=\"E1.E8\"><a href=\"psysml:79d3a6ab-38cc-49fb-ab8f-d1828ed09a3c\" target=\"_top\" title=\"psysml:79d3a6ab-38cc-49fb-ab8f-d1828ed09a3c\" xlink:actuate=\"onRequest\" xlink:href=\"psysml:79d3a6ab-38cc-49fb-ab8f-d1828ed09a3c\" xlink:show=\"new\" xlink:title=\"psysml:79d3a6ab-38cc-49fb-ab8f-d1828ed09a3c\" xlink:type=\"simple\"><rect fill=\"#FFFFFF\" height=\"42.9375\" id=\"E8\" style=\"stroke: #383838; stroke-width: 1.5;\" width=\"84\" x=\"32\" y=\"88.5\"/><rect fill=\"#F8F8F8\" height=\"37.9375\" style=\"stroke: #383838; stroke-width: 1.5;\" width=\"84\" x=\"32\" y=\"88.5\"/><text fill=\"#000000\" font-family=\"sans-serif\" font-size=\"12\" font-style=\"italic\" lengthAdjust=\"spacingAndGlyphs\" textLength=\"77\" x=\"35.5\" y=\"104.6387\">«action def»</text><text fill=\"#000000\" font-family=\"sans-serif\" font-size=\"12\" lengthAdjust=\"spacingAndGlyphs\" textLength=\"8\" x=\"70\" y=\"118.6074\">B</text></a></g><!--MD5=[f47e10efcf9a6752d55dae986d790ed9]\n",
       "link *start*E3 to E4--><a href=\"psysml:fb7d5adc-5880-4810-9813-86e53c07f96a\" target=\"_top\" title=\"psysml:fb7d5adc-5880-4810-9813-86e53c07f96a\" xlink:actuate=\"onRequest\" xlink:href=\"psysml:fb7d5adc-5880-4810-9813-86e53c07f96a\" xlink:show=\"new\" xlink:title=\"psysml:fb7d5adc-5880-4810-9813-86e53c07f96a\" xlink:type=\"simple\"><path d=\"M420,120.01 C420,135.81 420,168.69 420,188.61 \" fill=\"none\" id=\"*start*E3-&gt;E4\" style=\"stroke: #383838; stroke-width: 1.0;\"/><polygon fill=\"#383838\" points=\"420,193.85,424,184.85,420,188.85,416,184.85,420,193.85\" style=\"stroke: #383838; stroke-width: 1.0;\"/></a><!--MD5=[d19f2eb34364d71b67042106d92f540b]\n",
       "link E7 to *end*E3--><a href=\"psysml:c9de1ce8-1045-4471-9685-45647676290c\" target=\"_top\" title=\"psysml:c9de1ce8-1045-4471-9685-45647676290c\" xlink:actuate=\"onRequest\" xlink:href=\"psysml:c9de1ce8-1045-4471-9685-45647676290c\" xlink:show=\"new\" xlink:title=\"psysml:c9de1ce8-1045-4471-9685-45647676290c\" xlink:type=\"simple\"><path d=\"M418,551.26 C418,565.66 418,590.63 418,606.46 \" fill=\"none\" id=\"E7-&gt;*end*E3\" style=\"stroke: #383838; stroke-width: 1.0;\"/><polygon fill=\"#383838\" points=\"418,611.84,422,602.84,418,606.84,414,602.84,418,611.84\" style=\"stroke: #383838; stroke-width: 1.0;\"/></a><!--MD5=[1b7591eae5389033d8d09a9d6721a717]\n",
       "link E4 to E5--><a href=\"psysml:674af9b4-5477-4a2d-9c32-c1d49aef2cdc\" target=\"_top\" title=\"psysml:674af9b4-5477-4a2d-9c32-c1d49aef2cdc\" xlink:actuate=\"onRequest\" xlink:href=\"psysml:674af9b4-5477-4a2d-9c32-c1d49aef2cdc\" xlink:show=\"new\" xlink:title=\"psysml:674af9b4-5477-4a2d-9c32-c1d49aef2cdc\" xlink:type=\"simple\"><path d=\"M415.34,213.46 C406.55,225.66 386.99,252.8 371.37,274.46 \" fill=\"none\" id=\"E4-&gt;E5\" style=\"stroke: #383838; stroke-width: 1.0;\"/><polygon fill=\"#383838\" points=\"368.31,278.71,376.8093,273.7339,371.227,274.6491,370.3119,269.0667,368.31,278.71\" style=\"stroke: #383838; stroke-width: 1.0;\"/><text fill=\"#000000\" font-family=\"sans-serif\" font-size=\"13\" lengthAdjust=\"spacingAndGlyphs\" textLength=\"7\" x=\"364.7684\" y=\"268.1162\">*</text></a><!--MD5=[9120cf2e5df3bff93db8f754bbbc09b4]\n",
       "link E5 to E6--><a href=\"psysml:f1d57d75-7b92-4f65-894e-3c0dce6664b2\" target=\"_top\" title=\"psysml:f1d57d75-7b92-4f65-894e-3c0dce6664b2\" xlink:actuate=\"onRequest\" xlink:href=\"psysml:f1d57d75-7b92-4f65-894e-3c0dce6664b2\" xlink:show=\"new\" xlink:title=\"psysml:f1d57d75-7b92-4f65-894e-3c0dce6664b2\" xlink:type=\"simple\"><path d=\"M347.77,334.12 C346.81,354.89 345.48,383.8 344.46,405.77 \" fill=\"none\" id=\"E5-&gt;E6\" style=\"stroke: #383838; stroke-width: 1.0;\"/><polygon fill=\"#383838\" points=\"344.23,410.91,348.6368,402.1021,344.4583,405.9152,340.6452,401.7367,344.23,410.91\" style=\"stroke: #383838; stroke-width: 1.0;\"/><text fill=\"#000000\" font-family=\"sans-serif\" font-size=\"13\" lengthAdjust=\"spacingAndGlyphs\" textLength=\"7\" x=\"336.7051\" y=\"399.9247\">*</text></a><!--MD5=[02c70b7c851c11e3980e4e90450dc5dd]\n",
       "link E6 to E7--><a href=\"psysml:5bbe4286-aec7-454e-8b07-ff0b44373e66\" target=\"_top\" title=\"psysml:5bbe4286-aec7-454e-8b07-ff0b44373e66\" xlink:actuate=\"onRequest\" xlink:href=\"psysml:5bbe4286-aec7-454e-8b07-ff0b44373e66\" xlink:show=\"new\" xlink:title=\"psysml:5bbe4286-aec7-454e-8b07-ff0b44373e66\" xlink:type=\"simple\"><path d=\"M363.3,466.16 C378.71,486.4 399.07,513.14 410.09,527.61 \" fill=\"none\" id=\"E6-&gt;E7\" style=\"stroke: #383838; stroke-width: 1.0;\"/><polygon fill=\"#383838\" points=\"413.2,531.69,410.9398,522.104,410.1749,527.7089,404.57,526.9441,413.2,531.69\" style=\"stroke: #383838; stroke-width: 1.0;\"/><text fill=\"#000000\" font-family=\"sans-serif\" font-size=\"13\" lengthAdjust=\"spacingAndGlyphs\" textLength=\"7\" x=\"398.9375\" y=\"515.8563\">*</text></a><!--MD5=[6bdd27f9905911a7e892a3dc65cf6b7c]\n",
       "link E7 to E4--><a href=\"psysml:df5824e0-bb07-4266-b9ed-97217b9e7a59\" target=\"_top\" title=\"psysml:df5824e0-bb07-4266-b9ed-97217b9e7a59\" xlink:actuate=\"onRequest\" xlink:href=\"psysml:df5824e0-bb07-4266-b9ed-97217b9e7a59\" xlink:show=\"new\" xlink:title=\"psysml:df5824e0-bb07-4266-b9ed-97217b9e7a59\" xlink:type=\"simple\"><path d=\"M419.98,528.56 C426.8,494.71 448.32,376.18 437,279 C434.59,258.32 428.42,234.96 424.21,220.61 \" fill=\"none\" id=\"E7-&gt;E4\" style=\"stroke: #383838; stroke-width: 1.0;\"/><polygon fill=\"#383838\" points=\"422.76,215.75,421.4935,225.5171,424.1863,220.5423,429.1611,223.2351,422.76,215.75\" style=\"stroke: #383838; stroke-width: 1.0;\"/><text fill=\"#000000\" font-family=\"sans-serif\" font-size=\"13\" lengthAdjust=\"spacingAndGlyphs\" textLength=\"36\" x=\"440\" y=\"377.0669\">[true]</text><text fill=\"#000000\" font-family=\"sans-serif\" font-size=\"13\" lengthAdjust=\"spacingAndGlyphs\" textLength=\"7\" x=\"415.3253\" y=\"237.9903\">*</text></a><!--MD5=[4307650fcf9164a78bec036a0b991778]\n",
       "@startuml\r\n",
       "skinparam monochrome true\r\n",
       "skinparam classbackgroundcolor white\r\n",
       "skinparam shadowing false\r\n",
       "skinparam wrapWidth 300\r\n",
       "hide circle\r\n",
       "\r\n",
       "package \"ActionTest\" as E1  [[psysml:a2683da9-1b6e-41fc-828a-cc7d1e5b2935 ]]  {\r\n",
       "comp def \"S\" as E2  <<(T,blue) attribute def>> [[psysml:9c87d4ab-cb1d-4b31-8fcd-81209805f4cd ]] {\r\n",
       "}\r\n",
       "rec usage \"a\" as E3  <<(T,blue) action>> [[psysml:88e0a3c5-b7f9-4d13-8306-ae5e61691436 ]] {\r\n",
       "choice \"m\" as E4  [[psysml:207ebb71-0108-47ac-8eb2-03003f2402f5 ]] \r\n",
       "accept \" S\" as E5 << accept action>> [[psysml:56f9bc80-23d6-47f0-bfbf-c5e902f86ac6 ]] \r\n",
       "send \" S() to  B()\" as E6 << send action>> [[psysml:baf32606-26e9-4cc3-a29f-e775486b01d7 ]] \r\n",
       "choice \"<s>noname</s>\" as E7  [[psysml:de118d49-a158-4609-b10e-b605b2688318 ]] \r\n",
       "[*] - -> E4 [[psysml:fb7d5adc-5880-4810-9813-86e53c07f96a ]] \r\n",
       "E7  - -> [*] [[psysml:c9de1ce8-1045-4471-9685-45647676290c ]] \r\n",
       "}\r\n",
       "\r\n",
       "rec def \"B\" as E8  <<(T,blue) action def>> [[psysml:79d3a6ab-38cc-49fb-ab8f-d1828ed09a3c ]] {\r\n",
       "}\r\n",
       "\r\n",
       "}\r\n",
       "E4 - -> \"*\"E5 [[psysml:674af9b4-5477-4a2d-9c32-c1d49aef2cdc ]] \r\n",
       "E5 - -> \"*\"E6 [[psysml:f1d57d75-7b92-4f65-894e-3c0dce6664b2 ]] \r\n",
       "E6 - -> \"*\"E7 [[psysml:5bbe4286-aec7-454e-8b07-ff0b44373e66 ]] \r\n",
       "E7  - -> \"*\"E4 [[psysml:df5824e0-bb07-4266-b9ed-97217b9e7a59 ]] : [true]\r\n",
       "@enduml\r\n",
       "\n",
       "PlantUML version 1.2020.13(Sat Jun 13 12:26:38 UTC 2020)\n",
       "(EPL source distribution)\n",
       "Java Runtime: OpenJDK Runtime Environment\n",
       "JVM: OpenJDK 64-Bit Server VM\n",
       "Default Encoding: UTF-8\n",
       "Language: en\n",
       "Country: null\n",
       "--></g></svg>"
      ]
     },
     "execution_count": 37,
     "metadata": {},
     "output_type": "execute_result"
    }
   ],
   "source": [
    "%viz --style=\"DEFAULT\" --view=\"Default\" \"ActionTest\""
   ]
  },
  {
   "cell_type": "code",
   "execution_count": 38,
   "id": "15ff25d0",
   "metadata": {
    "execution": {
     "iopub.execute_input": "2021-09-27T07:16:57.245664Z",
     "iopub.status.busy": "2021-09-27T07:16:57.245254Z",
     "iopub.status.idle": "2021-09-27T07:16:57.281292Z",
     "shell.execute_reply": "2021-09-27T07:16:57.280934Z"
    }
   },
   "outputs": [
    {
     "data": {
      "image/svg+xml": [
       "<?xml version=\"1.0\" encoding=\"UTF-8\" standalone=\"no\"?><svg xmlns=\"http://www.w3.org/2000/svg\" xmlns:xlink=\"http://www.w3.org/1999/xlink\" contentScriptType=\"application/ecmascript\" contentStyleType=\"text/css\" height=\"327px\" preserveAspectRatio=\"none\" style=\"width:677px;height:327px;\" version=\"1.1\" viewBox=\"0 0 677 327\" width=\"677px\" zoomAndPan=\"magnify\"><defs/><g><!--MD5=[fbc87193dbaf4d95561dea2c320d4a47]\n",
       "cluster E1--><a href=\"psysml:a2683da9-1b6e-41fc-828a-cc7d1e5b2935\" target=\"_top\" title=\"psysml:a2683da9-1b6e-41fc-828a-cc7d1e5b2935\" xlink:actuate=\"onRequest\" xlink:href=\"psysml:a2683da9-1b6e-41fc-828a-cc7d1e5b2935\" xlink:show=\"new\" xlink:title=\"psysml:a2683da9-1b6e-41fc-828a-cc7d1e5b2935\" xlink:type=\"simple\"><polygon fill=\"#FFFFFF\" points=\"16,6,96,6,103,28.2969,655,28.2969,655,315,16,315,16,6\" style=\"stroke: #000000; stroke-width: 1.5;\"/><line style=\"stroke: #000000; stroke-width: 1.5;\" x1=\"16\" x2=\"103\" y1=\"28.2969\" y2=\"28.2969\"/><text fill=\"#000000\" font-family=\"sans-serif\" font-size=\"14\" font-weight=\"bold\" lengthAdjust=\"spacingAndGlyphs\" textLength=\"74\" x=\"20\" y=\"20.9951\">ActionTest</text></a><!--MD5=[b4997ac47864f28c2f74865a473b2911]\n",
       "class E2--><a href=\"psysml:9c87d4ab-cb1d-4b31-8fcd-81209805f4cd\" target=\"_top\" title=\"psysml:9c87d4ab-cb1d-4b31-8fcd-81209805f4cd\" xlink:actuate=\"onRequest\" xlink:href=\"psysml:9c87d4ab-cb1d-4b31-8fcd-81209805f4cd\" xlink:show=\"new\" xlink:title=\"psysml:9c87d4ab-cb1d-4b31-8fcd-81209805f4cd\" xlink:type=\"simple\"><rect fill=\"#FFFFFF\" height=\"45.9375\" id=\"E2\" style=\"stroke: #383838; stroke-width: 1.5;\" width=\"95\" x=\"278.5\" y=\"253\"/><text fill=\"#000000\" font-family=\"sans-serif\" font-size=\"12\" font-style=\"italic\" lengthAdjust=\"spacingAndGlyphs\" textLength=\"93\" x=\"279.5\" y=\"269.1387\">«attribute def»</text><text fill=\"#000000\" font-family=\"sans-serif\" font-size=\"12\" lengthAdjust=\"spacingAndGlyphs\" textLength=\"8\" x=\"322\" y=\"283.1074\">S</text><line style=\"stroke: #383838; stroke-width: 1.5;\" x1=\"279.5\" x2=\"372.5\" y1=\"290.9375\" y2=\"290.9375\"/></a><!--MD5=[09b614a08d8cba4a07c9adeb5e0fee81]\n",
       "class E3--><a href=\"psysml:88e0a3c5-b7f9-4d13-8306-ae5e61691436\" target=\"_top\" title=\"psysml:88e0a3c5-b7f9-4d13-8306-ae5e61691436\" xlink:actuate=\"onRequest\" xlink:href=\"psysml:88e0a3c5-b7f9-4d13-8306-ae5e61691436\" xlink:show=\"new\" xlink:title=\"psysml:88e0a3c5-b7f9-4d13-8306-ae5e61691436\" xlink:type=\"simple\"><rect fill=\"#FFFFFF\" height=\"45.9375\" id=\"E3\" rx=\"10\" ry=\"10\" style=\"stroke: #383838; stroke-width: 1.5;\" width=\"55\" x=\"298.5\" y=\"41\"/><text fill=\"#000000\" font-family=\"sans-serif\" font-size=\"12\" font-style=\"italic\" lengthAdjust=\"spacingAndGlyphs\" textLength=\"53\" x=\"299.5\" y=\"57.1387\">«action»</text><text fill=\"#000000\" font-family=\"sans-serif\" font-size=\"12\" lengthAdjust=\"spacingAndGlyphs\" textLength=\"8\" x=\"322\" y=\"71.1074\">a</text><line style=\"stroke: #383838; stroke-width: 1.5;\" x1=\"299.5\" x2=\"352.5\" y1=\"78.9375\" y2=\"78.9375\"/></a><!--MD5=[ebbe1d658d1005bcc118a6aa81145e00]\n",
       "class E4--><a href=\"psysml:ed24d8b9-3ec6-4590-a85f-1d8fbc6b009f\" target=\"_top\" title=\"psysml:ed24d8b9-3ec6-4590-a85f-1d8fbc6b009f\" xlink:actuate=\"onRequest\" xlink:href=\"psysml:ed24d8b9-3ec6-4590-a85f-1d8fbc6b009f\" xlink:show=\"new\" xlink:title=\"psysml:ed24d8b9-3ec6-4590-a85f-1d8fbc6b009f\" xlink:type=\"simple\"><rect fill=\"#FFFFFF\" height=\"45.9375\" id=\"E4\" rx=\"10\" ry=\"10\" style=\"stroke: #383838; stroke-width: 1.5;\" width=\"83\" x=\"32.5\" y=\"147\"/><text fill=\"#000000\" font-family=\"sans-serif\" font-size=\"12\" font-style=\"italic\" lengthAdjust=\"spacingAndGlyphs\" textLength=\"53\" x=\"47.5\" y=\"163.1387\">«action»</text><text fill=\"#000000\" font-family=\"sans-serif\" font-size=\"12\" lengthAdjust=\"spacingAndGlyphs\" textLength=\"77\" x=\"35.5\" y=\"177.1074\">start: Action</text><line style=\"stroke: #383838; stroke-width: 1.5;\" x1=\"33.5\" x2=\"114.5\" y1=\"184.9375\" y2=\"184.9375\"/></a><!--MD5=[270fce915f116d4de14055a7c1d9a0f3]\n",
       "class E5--><a href=\"psysml:207ebb71-0108-47ac-8eb2-03003f2402f5\" target=\"_top\" title=\"psysml:207ebb71-0108-47ac-8eb2-03003f2402f5\" xlink:actuate=\"onRequest\" xlink:href=\"psysml:207ebb71-0108-47ac-8eb2-03003f2402f5\" xlink:show=\"new\" xlink:title=\"psysml:207ebb71-0108-47ac-8eb2-03003f2402f5\" xlink:type=\"simple\"><rect fill=\"#FFFFFF\" height=\"45.9375\" id=\"E5\" rx=\"10\" ry=\"10\" style=\"stroke: #383838; stroke-width: 1.5;\" width=\"89\" x=\"150.5\" y=\"147\"/><text fill=\"#000000\" font-family=\"sans-serif\" font-size=\"12\" font-style=\"italic\" lengthAdjust=\"spacingAndGlyphs\" textLength=\"87\" x=\"151.5\" y=\"163.1387\">«mergeNode»</text><text fill=\"#000000\" font-family=\"sans-serif\" font-size=\"12\" lengthAdjust=\"spacingAndGlyphs\" textLength=\"11\" x=\"189.5\" y=\"177.1074\">m</text><line style=\"stroke: #383838; stroke-width: 1.5;\" x1=\"151.5\" x2=\"238.5\" y1=\"184.9375\" y2=\"184.9375\"/></a><!--MD5=[60a26617385b1d2d0262a64233df1f8d]\n",
       "class E6--><a href=\"psysml:56f9bc80-23d6-47f0-bfbf-c5e902f86ac6\" target=\"_top\" title=\"psysml:56f9bc80-23d6-47f0-bfbf-c5e902f86ac6\" xlink:actuate=\"onRequest\" xlink:href=\"psysml:56f9bc80-23d6-47f0-bfbf-c5e902f86ac6\" xlink:show=\"new\" xlink:title=\"psysml:56f9bc80-23d6-47f0-bfbf-c5e902f86ac6\" xlink:type=\"simple\"><rect fill=\"#FFFFFF\" height=\"45.9375\" id=\"E6\" rx=\"10\" ry=\"10\" style=\"stroke: #383838; stroke-width: 1.5;\" width=\"102\" x=\"275\" y=\"147\"/><text fill=\"#000000\" font-family=\"sans-serif\" font-size=\"12\" font-style=\"italic\" lengthAdjust=\"spacingAndGlyphs\" textLength=\"100\" x=\"276\" y=\"163.1387\">«accept action»</text><text fill=\"#000000\" font-family=\"sans-serif\" font-size=\"12\" lengthAdjust=\"spacingAndGlyphs\" text-decoration=\"line-through\" textLength=\"51\" x=\"300.5\" y=\"177.1074\">noname</text><line style=\"stroke: #383838; stroke-width: 1.5;\" x1=\"276\" x2=\"376\" y1=\"184.9375\" y2=\"184.9375\"/></a><!--MD5=[2156ba9850f5573cc1fc38a6a4b2f02b]\n",
       "class E7--><a href=\"psysml:baf32606-26e9-4cc3-a29f-e775486b01d7\" target=\"_top\" title=\"psysml:baf32606-26e9-4cc3-a29f-e775486b01d7\" xlink:actuate=\"onRequest\" xlink:href=\"psysml:baf32606-26e9-4cc3-a29f-e775486b01d7\" xlink:show=\"new\" xlink:title=\"psysml:baf32606-26e9-4cc3-a29f-e775486b01d7\" xlink:type=\"simple\"><rect fill=\"#FFFFFF\" height=\"45.9375\" id=\"E7\" rx=\"10\" ry=\"10\" style=\"stroke: #383838; stroke-width: 1.5;\" width=\"90\" x=\"412\" y=\"147\"/><text fill=\"#000000\" font-family=\"sans-serif\" font-size=\"12\" font-style=\"italic\" lengthAdjust=\"spacingAndGlyphs\" textLength=\"88\" x=\"413\" y=\"163.1387\">«send action»</text><text fill=\"#000000\" font-family=\"sans-serif\" font-size=\"12\" lengthAdjust=\"spacingAndGlyphs\" text-decoration=\"line-through\" textLength=\"51\" x=\"431.5\" y=\"177.1074\">noname</text><line style=\"stroke: #383838; stroke-width: 1.5;\" x1=\"413\" x2=\"501\" y1=\"184.9375\" y2=\"184.9375\"/></a><!--MD5=[b9389687b975829384b498ac4b7476b2]\n",
       "class E8--><a href=\"psysml:de118d49-a158-4609-b10e-b605b2688318\" target=\"_top\" title=\"psysml:de118d49-a158-4609-b10e-b605b2688318\" xlink:actuate=\"onRequest\" xlink:href=\"psysml:de118d49-a158-4609-b10e-b605b2688318\" xlink:show=\"new\" xlink:title=\"psysml:de118d49-a158-4609-b10e-b605b2688318\" xlink:type=\"simple\"><rect fill=\"#FFFFFF\" height=\"45.9375\" id=\"E8\" rx=\"10\" ry=\"10\" style=\"stroke: #383838; stroke-width: 1.5;\" width=\"101\" x=\"537.5\" y=\"147\"/><text fill=\"#000000\" font-family=\"sans-serif\" font-size=\"12\" font-style=\"italic\" lengthAdjust=\"spacingAndGlyphs\" textLength=\"99\" x=\"538.5\" y=\"163.1387\">«decisionNode»</text><text fill=\"#000000\" font-family=\"sans-serif\" font-size=\"12\" lengthAdjust=\"spacingAndGlyphs\" text-decoration=\"line-through\" textLength=\"51\" x=\"562.5\" y=\"177.1074\">noname</text><line style=\"stroke: #383838; stroke-width: 1.5;\" x1=\"538.5\" x2=\"637.5\" y1=\"184.9375\" y2=\"184.9375\"/></a><!--MD5=[fd4143e9d270a159db93a4ea2a975926]\n",
       "class E9--><a href=\"psysml:79d3a6ab-38cc-49fb-ab8f-d1828ed09a3c\" target=\"_top\" title=\"psysml:79d3a6ab-38cc-49fb-ab8f-d1828ed09a3c\" xlink:actuate=\"onRequest\" xlink:href=\"psysml:79d3a6ab-38cc-49fb-ab8f-d1828ed09a3c\" xlink:show=\"new\" xlink:title=\"psysml:79d3a6ab-38cc-49fb-ab8f-d1828ed09a3c\" xlink:type=\"simple\"><rect fill=\"#FFFFFF\" height=\"45.9375\" id=\"E9\" style=\"stroke: #383838; stroke-width: 1.5;\" width=\"79\" x=\"108.5\" y=\"41\"/><text fill=\"#000000\" font-family=\"sans-serif\" font-size=\"12\" font-style=\"italic\" lengthAdjust=\"spacingAndGlyphs\" textLength=\"77\" x=\"109.5\" y=\"57.1387\">«action def»</text><text fill=\"#000000\" font-family=\"sans-serif\" font-size=\"12\" lengthAdjust=\"spacingAndGlyphs\" textLength=\"8\" x=\"144\" y=\"71.1074\">B</text><line style=\"stroke: #383838; stroke-width: 1.5;\" x1=\"109.5\" x2=\"186.5\" y1=\"78.9375\" y2=\"78.9375\"/></a><!--MD5=[4672eba38e49728da53d11aeb285b987]\n",
       "reverse link E3 to E4--><a href=\"psysml:2bdfcbda-067f-4f9a-98d2-dcf2fb74ea33\" target=\"_top\" title=\"psysml:2bdfcbda-067f-4f9a-98d2-dcf2fb74ea33\" xlink:actuate=\"onRequest\" xlink:href=\"psysml:2bdfcbda-067f-4f9a-98d2-dcf2fb74ea33\" xlink:show=\"new\" xlink:title=\"psysml:2bdfcbda-067f-4f9a-98d2-dcf2fb74ea33\" xlink:type=\"simple\"><path d=\"M283.98,82.34 C237.32,101.6 162.45,132.5 115.85,151.73 \" fill=\"none\" id=\"E3&lt;-E4\" style=\"stroke: #383838; stroke-width: 1.0; stroke-dasharray: 7.0,7.0;\"/><ellipse cx=\"290.6768\" cy=\"79.5863\" fill=\"#FFFFFF\" rx=\"8\" ry=\"8\" style=\"stroke: #383838; stroke-width: 1.0;\"/><line style=\"stroke: #383838; stroke-width: 1.0;\" x1=\"283.2837\" x2=\"298.07\" y1=\"82.6427\" y2=\"76.53\"/><line style=\"stroke: #383838; stroke-width: 1.0;\" x1=\"287.6205\" x2=\"293.7332\" y1=\"72.1932\" y2=\"86.9795\"/></a><!--MD5=[191cde3d490a3f6d7bb551fe3ddca469]\n",
       "reverse link E3 to E5--><a href=\"psysml:5bed3b2f-97a8-4cc2-a775-cf545f437587\" target=\"_top\" title=\"psysml:5bed3b2f-97a8-4cc2-a775-cf545f437587\" xlink:actuate=\"onRequest\" xlink:href=\"psysml:5bed3b2f-97a8-4cc2-a775-cf545f437587\" xlink:show=\"new\" xlink:title=\"psysml:5bed3b2f-97a8-4cc2-a775-cf545f437587\" xlink:type=\"simple\"><path d=\"M287.79,95.33 C266.97,111.86 241.66,131.95 222.74,146.98 \" fill=\"none\" id=\"E3&lt;-E5\" style=\"stroke: #383838; stroke-width: 1.0;\"/><polygon fill=\"#383838\" points=\"298.22,87.06,291.0341,87.6625,288.8265,94.5273,296.0123,93.9249,298.22,87.06\" style=\"stroke: #383838; stroke-width: 1.0;\"/><text fill=\"#000000\" font-family=\"sans-serif\" font-size=\"13\" lengthAdjust=\"spacingAndGlyphs\" textLength=\"7\" x=\"222.2545\" y=\"135.8709\">*</text></a><!--MD5=[1026b4b93417a13aa8999a858998add2]\n",
       "reverse link E3 to E6--><a href=\"psysml:856d4c40-3d8a-43fc-9608-49cee162593b\" target=\"_top\" title=\"psysml:856d4c40-3d8a-43fc-9608-49cee162593b\" xlink:actuate=\"onRequest\" xlink:href=\"psysml:856d4c40-3d8a-43fc-9608-49cee162593b\" xlink:show=\"new\" xlink:title=\"psysml:856d4c40-3d8a-43fc-9608-49cee162593b\" xlink:type=\"simple\"><path d=\"M326,100.44 C326,115.87 326,133.47 326,146.98 \" fill=\"none\" id=\"E3&lt;-E6\" style=\"stroke: #383838; stroke-width: 1.0;\"/><polygon fill=\"#383838\" points=\"326,87.06,322,93.06,326,99.06,330,93.06,326,87.06\" style=\"stroke: #383838; stroke-width: 1.0;\"/><text fill=\"#000000\" font-family=\"sans-serif\" font-size=\"13\" lengthAdjust=\"spacingAndGlyphs\" textLength=\"7\" x=\"318.0594\" y=\"135.8709\">*</text></a><!--MD5=[3403bfa781cc3da0fd423dbab6f01c63]\n",
       "reverse link E6 to E2--><a href=\"psysml:1accd303-612e-4d59-ad9b-f522e5e57a44\" target=\"_top\" title=\"psysml:1accd303-612e-4d59-ad9b-f522e5e57a44\" xlink:actuate=\"onRequest\" xlink:href=\"psysml:1accd303-612e-4d59-ad9b-f522e5e57a44\" xlink:show=\"new\" xlink:title=\"psysml:1accd303-612e-4d59-ad9b-f522e5e57a44\" xlink:type=\"simple\"><path d=\"M326,206.44 C326,221.87 326,239.47 326,252.98 \" fill=\"none\" id=\"E6&lt;-E2\" style=\"stroke: #383838; stroke-width: 1.0;\"/><polygon fill=\"#FFFFFF\" points=\"326,193.06,322,199.06,326,205.06,330,199.06,326,193.06\" style=\"stroke: #383838; stroke-width: 1.0;\"/></a><!--MD5=[85760999379eecfd2565a9fecdca67e4]\n",
       "reverse link E3 to E7--><a href=\"psysml:a7054211-8666-4154-9247-2ebed4d34e27\" target=\"_top\" title=\"psysml:a7054211-8666-4154-9247-2ebed4d34e27\" xlink:actuate=\"onRequest\" xlink:href=\"psysml:a7054211-8666-4154-9247-2ebed4d34e27\" xlink:show=\"new\" xlink:title=\"psysml:a7054211-8666-4154-9247-2ebed4d34e27\" xlink:type=\"simple\"><path d=\"M364.21,95.33 C385.03,111.86 410.34,131.95 429.26,146.98 \" fill=\"none\" id=\"E3&lt;-E7\" style=\"stroke: #383838; stroke-width: 1.0;\"/><polygon fill=\"#383838\" points=\"353.78,87.06,355.9877,93.9249,363.1735,94.5273,360.9659,87.6625,353.78,87.06\" style=\"stroke: #383838; stroke-width: 1.0;\"/><text fill=\"#000000\" font-family=\"sans-serif\" font-size=\"13\" lengthAdjust=\"spacingAndGlyphs\" textLength=\"7\" x=\"413.8642\" y=\"135.8709\">*</text></a><!--MD5=[4cb75b73ec3682b8f7f8edc9cc86126a]\n",
       "reverse link E3 to E8--><a href=\"psysml:6d3dd5fa-79f8-485d-9bbb-f558da8741e9\" target=\"_top\" title=\"psysml:6d3dd5fa-79f8-485d-9bbb-f558da8741e9\" xlink:actuate=\"onRequest\" xlink:href=\"psysml:6d3dd5fa-79f8-485d-9bbb-f558da8741e9\" xlink:show=\"new\" xlink:title=\"psysml:6d3dd5fa-79f8-485d-9bbb-f558da8741e9\" xlink:type=\"simple\"><path d=\"M365.63,80.73 C411.46,98.92 486.99,128.91 537.12,148.8 \" fill=\"none\" id=\"E3&lt;-E8\" style=\"stroke: #383838; stroke-width: 1.0;\"/><polygon fill=\"#383838\" points=\"353.54,75.93,357.6459,81.858,364.6971,80.348,360.5912,74.42,353.54,75.93\" style=\"stroke: #383838; stroke-width: 1.0;\"/></a><!--MD5=[38fbc0d77c375df850a6edd1a54bfb8f]\n",
       "@startuml\r\n",
       "skinparam monochrome true\r\n",
       "skinparam classbackgroundcolor white\r\n",
       "skinparam shadowing false\r\n",
       "skinparam wrapWidth 300\r\n",
       "hide circle\r\n",
       "\r\n",
       "package \"ActionTest\" as E1  [[psysml:a2683da9-1b6e-41fc-828a-cc7d1e5b2935 ]]  {\r\n",
       "comp def \"S\" as E2  <<(T,blue) attribute def>> [[psysml:9c87d4ab-cb1d-4b31-8fcd-81209805f4cd ]] {\r\n",
       "}\r\n",
       "comp usage \"a\" as E3  <<(T,blue) action>> [[psysml:88e0a3c5-b7f9-4d13-8306-ae5e61691436 ]] {\r\n",
       "}\r\n",
       "comp usage \"start: Action\" as E4  <<(T,blue) action>> [[psysml:ed24d8b9-3ec6-4590-a85f-1d8fbc6b009f ]] {\r\n",
       "}\r\n",
       "comp usage \"m\" as E5  <<(T,blue) mergeNode>> [[psysml:207ebb71-0108-47ac-8eb2-03003f2402f5 ]] {\r\n",
       "}\r\n",
       "comp usage \"<s>noname</s>\" as E6 << accept action>> [[psysml:56f9bc80-23d6-47f0-bfbf-c5e902f86ac6 ]] {\r\n",
       "}\r\n",
       "comp usage \"<s>noname</s>\" as E7 << send action>> [[psysml:baf32606-26e9-4cc3-a29f-e775486b01d7 ]] {\r\n",
       "}\r\n",
       "comp usage \"<s>noname</s>\" as E8  <<(T,blue) decisionNode>> [[psysml:de118d49-a158-4609-b10e-b605b2688318 ]] {\r\n",
       "}\r\n",
       "comp def \"B\" as E9  <<(T,blue) action def>> [[psysml:79d3a6ab-38cc-49fb-ab8f-d1828ed09a3c ]] {\r\n",
       "}\r\n",
       "}\r\n",
       "E3 +.. E4 [[psysml:2bdfcbda-067f-4f9a-98d2-dcf2fb74ea33 ]] \r\n",
       "E3 *- - \"*\"E5 [[psysml:5bed3b2f-97a8-4cc2-a775-cf545f437587 ]] \r\n",
       "E3 *- - \"*\"E6 [[psysml:856d4c40-3d8a-43fc-9608-49cee162593b ]] \r\n",
       "E6 o- - E2 [[psysml:1accd303-612e-4d59-ad9b-f522e5e57a44 ]] \r\n",
       "E3 *- - \"*\"E7 [[psysml:a7054211-8666-4154-9247-2ebed4d34e27 ]] \r\n",
       "E3 *- - E8 [[psysml:6d3dd5fa-79f8-485d-9bbb-f558da8741e9 ]] \r\n",
       "@enduml\r\n",
       "\n",
       "PlantUML version 1.2020.13(Sat Jun 13 12:26:38 UTC 2020)\n",
       "(EPL source distribution)\n",
       "Java Runtime: OpenJDK Runtime Environment\n",
       "JVM: OpenJDK 64-Bit Server VM\n",
       "Default Encoding: UTF-8\n",
       "Language: en\n",
       "Country: null\n",
       "--></g></svg>"
      ]
     },
     "execution_count": 38,
     "metadata": {},
     "output_type": "execute_result"
    }
   ],
   "source": [
    "%viz --style=\"DEFAULT\" --view=\"Tree\" \"ActionTest\""
   ]
  },
  {
   "cell_type": "code",
   "execution_count": 39,
   "id": "2aeb39ce",
   "metadata": {
    "execution": {
     "iopub.execute_input": "2021-09-27T07:16:57.331130Z",
     "iopub.status.busy": "2021-09-27T07:16:57.330727Z",
     "iopub.status.idle": "2021-09-27T07:16:57.334818Z",
     "shell.execute_reply": "2021-09-27T07:16:57.335130Z"
    }
   },
   "outputs": [
    {
     "data": {
      "image/svg+xml": [
       "<?xml version=\"1.0\" encoding=\"UTF-8\" standalone=\"no\"?><svg xmlns=\"http://www.w3.org/2000/svg\" xmlns:xlink=\"http://www.w3.org/1999/xlink\" contentScriptType=\"application/ecmascript\" contentStyleType=\"text/css\" height=\"12px\" preserveAspectRatio=\"none\" style=\"width:12px;height:12px;\" version=\"1.1\" viewBox=\"0 0 12 12\" width=\"12px\" zoomAndPan=\"magnify\"><defs/><g><!--MD5=[c5f280e076d0d61ccf4b0f27871bda1d]\n",
       "@startuml\r\n",
       "skinparam monochrome true\r\n",
       "skinparam classbackgroundcolor white\r\n",
       "skinparam shadowing false\r\n",
       "skinparam wrapWidth 300\r\n",
       "hide circle\r\n",
       "\r\n",
       "@enduml\r\n",
       "\n",
       "PlantUML version 1.2020.13(Sat Jun 13 12:26:38 UTC 2020)\n",
       "(EPL source distribution)\n",
       "Java Runtime: OpenJDK Runtime Environment\n",
       "JVM: OpenJDK 64-Bit Server VM\n",
       "Default Encoding: UTF-8\n",
       "Language: en\n",
       "Country: null\n",
       "--></g></svg>"
      ]
     },
     "execution_count": 39,
     "metadata": {},
     "output_type": "execute_result"
    }
   ],
   "source": [
    "%viz --style=\"DEFAULT\" --view=\"State\" \"ActionTest\""
   ]
  },
  {
   "cell_type": "code",
   "execution_count": 40,
   "id": "5db9ed3a",
   "metadata": {
    "execution": {
     "iopub.execute_input": "2021-09-27T07:16:57.385166Z",
     "iopub.status.busy": "2021-09-27T07:16:57.384769Z",
     "iopub.status.idle": "2021-09-27T07:16:57.430054Z",
     "shell.execute_reply": "2021-09-27T07:16:57.430345Z"
    }
   },
   "outputs": [
    {
     "data": {
      "image/svg+xml": [
       "<?xml version=\"1.0\" encoding=\"UTF-8\" standalone=\"no\"?><svg xmlns=\"http://www.w3.org/2000/svg\" xmlns:xlink=\"http://www.w3.org/1999/xlink\" contentScriptType=\"application/ecmascript\" contentStyleType=\"text/css\" height=\"462px\" preserveAspectRatio=\"none\" style=\"width:522px;height:462px;\" version=\"1.1\" viewBox=\"0 0 522 462\" width=\"522px\" zoomAndPan=\"magnify\"><defs/><g><!--MD5=[fbc87193dbaf4d95561dea2c320d4a47]\n",
       "cluster E1--><a href=\"psysml:a2683da9-1b6e-41fc-828a-cc7d1e5b2935\" target=\"_top\" title=\"psysml:a2683da9-1b6e-41fc-828a-cc7d1e5b2935\" xlink:actuate=\"onRequest\" xlink:href=\"psysml:a2683da9-1b6e-41fc-828a-cc7d1e5b2935\" xlink:show=\"new\" xlink:title=\"psysml:a2683da9-1b6e-41fc-828a-cc7d1e5b2935\" xlink:type=\"simple\"><polygon fill=\"#FFFFFF\" points=\"16,6,96,6,103,28.2969,500,28.2969,500,450.5,16,450.5,16,6\" style=\"stroke: #000000; stroke-width: 1.5;\"/><line style=\"stroke: #000000; stroke-width: 1.5;\" x1=\"16\" x2=\"103\" y1=\"28.2969\" y2=\"28.2969\"/><text fill=\"#000000\" font-family=\"sans-serif\" font-size=\"14\" font-weight=\"bold\" lengthAdjust=\"spacingAndGlyphs\" textLength=\"74\" x=\"20\" y=\"20.9951\">ActionTest</text></a><!--MD5=[d5e69f78d87373223dbae638b30a9c99]\n",
       "cluster E3--><a href=\"psysml:88e0a3c5-b7f9-4d13-8306-ae5e61691436\" target=\"_top\" title=\"psysml:88e0a3c5-b7f9-4d13-8306-ae5e61691436\" xlink:actuate=\"onRequest\" xlink:href=\"psysml:88e0a3c5-b7f9-4d13-8306-ae5e61691436\" xlink:show=\"new\" xlink:title=\"psysml:88e0a3c5-b7f9-4d13-8306-ae5e61691436\" xlink:type=\"simple\"><rect fill=\"#FFFFFF\" height=\"377.5\" id=\"E3\" rx=\"10\" ry=\"10\" style=\"stroke: #383838; stroke-width: 1.5;\" width=\"209\" x=\"267\" y=\"49\"/><rect fill=\"#F8F8F8\" height=\"37.9375\" rx=\"10\" ry=\"10\" style=\"stroke: #F8F8F8; stroke-width: 1.5;\" width=\"209\" x=\"267\" y=\"49\"/><rect fill=\"#F8F8F8\" height=\"10\" style=\"stroke: #F8F8F8; stroke-width: 1.5;\" width=\"209\" x=\"267\" y=\"76.9375\"/><rect fill=\"none\" height=\"377.5\" id=\"E3\" rx=\"10\" ry=\"10\" style=\"stroke: #383838; stroke-width: 1.5;\" width=\"209\" x=\"267\" y=\"49\"/><text fill=\"#000000\" font-family=\"sans-serif\" font-size=\"12\" font-style=\"italic\" lengthAdjust=\"spacingAndGlyphs\" textLength=\"53\" x=\"345\" y=\"65.1387\">«action»</text><text fill=\"#000000\" font-family=\"sans-serif\" font-size=\"12\" lengthAdjust=\"spacingAndGlyphs\" textLength=\"8\" x=\"367.5\" y=\"79.1074\">a</text><line style=\"stroke: #383838; stroke-width: 1.0;\" x1=\"267\" x2=\"476\" y1=\"86.9375\" y2=\"86.9375\"/></a><g id=\"E1.E2\"><a href=\"psysml:9c87d4ab-cb1d-4b31-8fcd-81209805f4cd\" target=\"_top\" title=\"psysml:9c87d4ab-cb1d-4b31-8fcd-81209805f4cd\" xlink:actuate=\"onRequest\" xlink:href=\"psysml:9c87d4ab-cb1d-4b31-8fcd-81209805f4cd\" xlink:show=\"new\" xlink:title=\"psysml:9c87d4ab-cb1d-4b31-8fcd-81209805f4cd\" xlink:type=\"simple\"><rect fill=\"#FFFFFF\" height=\"42.9375\" id=\"E2\" style=\"stroke: #383838; stroke-width: 1.5;\" width=\"100\" x=\"151\" y=\"88.5\"/><rect fill=\"#F8F8F8\" height=\"37.9375\" style=\"stroke: #383838; stroke-width: 1.5;\" width=\"100\" x=\"151\" y=\"88.5\"/><text fill=\"#000000\" font-family=\"sans-serif\" font-size=\"12\" font-style=\"italic\" lengthAdjust=\"spacingAndGlyphs\" textLength=\"93\" x=\"154.5\" y=\"104.6387\">«attribute def»</text><text fill=\"#000000\" font-family=\"sans-serif\" font-size=\"12\" lengthAdjust=\"spacingAndGlyphs\" textLength=\"8\" x=\"197\" y=\"118.6074\">S</text></a></g><polygon fill=\"#F8F8F8\" points=\"424,148.5,436,160.5,424,172.5,412,160.5,424,148.5\" style=\"stroke: #383838; stroke-width: 1.5;\"/><!--MD5=[21dd76c19d33815960c0e92fef8f0eef]\n",
       "entity E5--><a href=\"psysml:56f9bc80-23d6-47f0-bfbf-c5e902f86ac6\" target=\"_top\" title=\"psysml:56f9bc80-23d6-47f0-bfbf-c5e902f86ac6\" xlink:actuate=\"onRequest\" xlink:href=\"psysml:56f9bc80-23d6-47f0-bfbf-c5e902f86ac6\" xlink:show=\"new\" xlink:title=\"psysml:56f9bc80-23d6-47f0-bfbf-c5e902f86ac6\" xlink:type=\"simple\"><polygon fill=\"#F8F8F8\" points=\"283,189.5,283,244.0938,423,244.0938,403,216.7969,423,189.5\" style=\"stroke: #000000; stroke-width: 1.5;\"/><text fill=\"#000000\" font-family=\"sans-serif\" font-size=\"14\" font-style=\"italic\" lengthAdjust=\"spacingAndGlyphs\" textLength=\"111\" x=\"290\" y=\"212.4951\">«accept action»</text><text fill=\"#000000\" font-family=\"sans-serif\" font-size=\"14\" lengthAdjust=\"spacingAndGlyphs\" textLength=\"9\" x=\"341\" y=\"229.792\">S</text></a><!--MD5=[24d87cdf3002d433f401b2a2aa9f9f65]\n",
       "entity E6--><a href=\"psysml:baf32606-26e9-4cc3-a29f-e775486b01d7\" target=\"_top\" title=\"psysml:baf32606-26e9-4cc3-a29f-e775486b01d7\" xlink:actuate=\"onRequest\" xlink:href=\"psysml:baf32606-26e9-4cc3-a29f-e775486b01d7\" xlink:show=\"new\" xlink:title=\"psysml:baf32606-26e9-4cc3-a29f-e775486b01d7\" xlink:type=\"simple\"><polygon fill=\"#F8F8F8\" points=\"283,277.5,283,332.0938,391,332.0938,411,304.7969,391,277.5\" style=\"stroke: #000000; stroke-width: 1.5;\"/><text fill=\"#000000\" font-family=\"sans-serif\" font-size=\"14\" font-style=\"italic\" lengthAdjust=\"spacingAndGlyphs\" textLength=\"99\" x=\"290\" y=\"300.4951\">«send action»</text><text fill=\"#000000\" font-family=\"sans-serif\" font-size=\"14\" lengthAdjust=\"spacingAndGlyphs\" textLength=\"65\" x=\"307\" y=\"317.792\">S() to  B()</text></a><polygon fill=\"#F8F8F8\" points=\"422,349.5,434,361.5,422,373.5,410,361.5,422,349.5\" style=\"stroke: #383838; stroke-width: 1.5;\"/><ellipse cx=\"424\" cy=\"110\" fill=\"#000000\" rx=\"10\" ry=\"10\" style=\"stroke: none; stroke-width: 1.0;\"/><ellipse cx=\"422\" cy=\"400.5\" fill=\"none\" rx=\"10\" ry=\"10\" style=\"stroke: #000000; stroke-width: 1.0;\"/><ellipse cx=\"422.5\" cy=\"401\" fill=\"#000000\" rx=\"6\" ry=\"6\" style=\"stroke: none; stroke-width: 1.0;\"/><g id=\"E1.E8\"><a href=\"psysml:79d3a6ab-38cc-49fb-ab8f-d1828ed09a3c\" target=\"_top\" title=\"psysml:79d3a6ab-38cc-49fb-ab8f-d1828ed09a3c\" xlink:actuate=\"onRequest\" xlink:href=\"psysml:79d3a6ab-38cc-49fb-ab8f-d1828ed09a3c\" xlink:show=\"new\" xlink:title=\"psysml:79d3a6ab-38cc-49fb-ab8f-d1828ed09a3c\" xlink:type=\"simple\"><rect fill=\"#FFFFFF\" height=\"42.9375\" id=\"E8\" style=\"stroke: #383838; stroke-width: 1.5;\" width=\"84\" x=\"32\" y=\"88.5\"/><rect fill=\"#F8F8F8\" height=\"37.9375\" style=\"stroke: #383838; stroke-width: 1.5;\" width=\"84\" x=\"32\" y=\"88.5\"/><text fill=\"#000000\" font-family=\"sans-serif\" font-size=\"12\" font-style=\"italic\" lengthAdjust=\"spacingAndGlyphs\" textLength=\"77\" x=\"35.5\" y=\"104.6387\">«action def»</text><text fill=\"#000000\" font-family=\"sans-serif\" font-size=\"12\" lengthAdjust=\"spacingAndGlyphs\" textLength=\"8\" x=\"70\" y=\"118.6074\">B</text></a></g><!--MD5=[f47e10efcf9a6752d55dae986d790ed9]\n",
       "link *start*E3 to E4--><a href=\"psysml:fb7d5adc-5880-4810-9813-86e53c07f96a\" target=\"_top\" title=\"psysml:fb7d5adc-5880-4810-9813-86e53c07f96a\" xlink:actuate=\"onRequest\" xlink:href=\"psysml:fb7d5adc-5880-4810-9813-86e53c07f96a\" xlink:show=\"new\" xlink:title=\"psysml:fb7d5adc-5880-4810-9813-86e53c07f96a\" xlink:type=\"simple\"><path d=\"M424,120.35 C424,126.88 424,135.77 424,143.42 \" fill=\"none\" id=\"*start*E3-&gt;E4\" style=\"stroke: #383838; stroke-width: 1.0;\"/><polygon fill=\"#383838\" points=\"424,148.48,428,139.48,424,143.48,420,139.48,424,148.48\" style=\"stroke: #383838; stroke-width: 1.0;\"/></a><!--MD5=[d19f2eb34364d71b67042106d92f540b]\n",
       "link E7 to *end*E3--><a href=\"psysml:c9de1ce8-1045-4471-9685-45647676290c\" target=\"_top\" title=\"psysml:c9de1ce8-1045-4471-9685-45647676290c\" xlink:actuate=\"onRequest\" xlink:href=\"psysml:c9de1ce8-1045-4471-9685-45647676290c\" xlink:show=\"new\" xlink:title=\"psysml:c9de1ce8-1045-4471-9685-45647676290c\" xlink:type=\"simple\"><path d=\"M422,373.8 C422,377.34 422,381.3 422,385.03 \" fill=\"none\" id=\"E7-&gt;*end*E3\" style=\"stroke: #383838; stroke-width: 1.0;\"/><polygon fill=\"#383838\" points=\"422,390.25,426,381.25,422,385.25,418,381.25,422,390.25\" style=\"stroke: #383838; stroke-width: 1.0;\"/></a><!--MD5=[1b7591eae5389033d8d09a9d6721a717]\n",
       "link E4 to E5--><a href=\"psysml:674af9b4-5477-4a2d-9c32-c1d49aef2cdc\" target=\"_top\" title=\"psysml:674af9b4-5477-4a2d-9c32-c1d49aef2cdc\" xlink:actuate=\"onRequest\" xlink:href=\"psysml:674af9b4-5477-4a2d-9c32-c1d49aef2cdc\" xlink:show=\"new\" xlink:title=\"psysml:674af9b4-5477-4a2d-9c32-c1d49aef2cdc\" xlink:type=\"simple\"><path d=\"M417.45,166.53 C411.33,171.23 401.65,178.66 391.64,186.34 \" fill=\"none\" id=\"E4-&gt;E5\" style=\"stroke: #383838; stroke-width: 1.0;\"/><polygon fill=\"#383838\" points=\"387.64,189.41,397.2129,187.0948,391.6037,186.3621,392.3363,180.7529,387.64,189.41\" style=\"stroke: #383838; stroke-width: 1.0;\"/><text fill=\"#000000\" font-family=\"sans-serif\" font-size=\"13\" lengthAdjust=\"spacingAndGlyphs\" textLength=\"7\" x=\"387.8411\" y=\"178.4247\">*</text></a><!--MD5=[9120cf2e5df3bff93db8f754bbbc09b4]\n",
       "link E5 to E6--><a href=\"psysml:f1d57d75-7b92-4f65-894e-3c0dce6664b2\" target=\"_top\" title=\"psysml:f1d57d75-7b92-4f65-894e-3c0dce6664b2\" xlink:actuate=\"onRequest\" xlink:href=\"psysml:f1d57d75-7b92-4f65-894e-3c0dce6664b2\" xlink:show=\"new\" xlink:title=\"psysml:f1d57d75-7b92-4f65-894e-3c0dce6664b2\" xlink:type=\"simple\"><path d=\"M351.13,244.74 C350.53,253.4 349.85,263.08 349.23,272.08 \" fill=\"none\" id=\"E5-&gt;E6\" style=\"stroke: #383838; stroke-width: 1.0;\"/><polygon fill=\"#383838\" points=\"348.86,277.28,353.468,268.5756,349.203,272.2918,345.4869,268.0268,348.86,277.28\" style=\"stroke: #383838; stroke-width: 1.0;\"/><text fill=\"#000000\" font-family=\"sans-serif\" font-size=\"13\" lengthAdjust=\"spacingAndGlyphs\" textLength=\"7\" x=\"341.4808\" y=\"266.2646\">*</text></a><!--MD5=[02c70b7c851c11e3980e4e90450dc5dd]\n",
       "link E6 to E7--><a href=\"psysml:5bbe4286-aec7-454e-8b07-ff0b44373e66\" target=\"_top\" title=\"psysml:5bbe4286-aec7-454e-8b07-ff0b44373e66\" xlink:actuate=\"onRequest\" xlink:href=\"psysml:5bbe4286-aec7-454e-8b07-ff0b44373e66\" xlink:show=\"new\" xlink:title=\"psysml:5bbe4286-aec7-454e-8b07-ff0b44373e66\" xlink:type=\"simple\"><path d=\"M383.62,332.61 C393.72,339.95 403.91,347.35 411.24,352.68 \" fill=\"none\" id=\"E6-&gt;E7\" style=\"stroke: #383838; stroke-width: 1.0;\"/><polygon fill=\"#383838\" points=\"415.42,355.72,410.4976,347.1894,411.3776,352.7774,405.7896,353.6574,415.42,355.72\" style=\"stroke: #383838; stroke-width: 1.0;\"/><text fill=\"#000000\" font-family=\"sans-serif\" font-size=\"13\" lengthAdjust=\"spacingAndGlyphs\" textLength=\"7\" x=\"397.584\" y=\"338.5823\">*</text></a><!--MD5=[6bdd27f9905911a7e892a3dc65cf6b7c]\n",
       "link E7 to E4--><a href=\"psysml:df5824e0-bb07-4266-b9ed-97217b9e7a59\" target=\"_top\" title=\"psysml:df5824e0-bb07-4266-b9ed-97217b9e7a59\" xlink:actuate=\"onRequest\" xlink:href=\"psysml:df5824e0-bb07-4266-b9ed-97217b9e7a59\" xlink:show=\"new\" xlink:title=\"psysml:df5824e0-bb07-4266-b9ed-97217b9e7a59\" xlink:type=\"simple\"><path d=\"M425,352.49 C433.84,327.73 458.06,250.48 441,189.5 C439.26,183.29 435.73,177.1 432.34,172.12 \" fill=\"none\" id=\"E7-&gt;E4\" style=\"stroke: #383838; stroke-width: 1.0;\"/><polygon fill=\"#383838\" points=\"429.31,167.92,431.3342,177.5586,432.2364,171.9741,437.8209,172.8763,429.31,167.92\" style=\"stroke: #383838; stroke-width: 1.0;\"/><text fill=\"#000000\" font-family=\"sans-serif\" font-size=\"13\" lengthAdjust=\"spacingAndGlyphs\" textLength=\"36\" x=\"447\" y=\"265.5669\">[true]</text><text fill=\"#000000\" font-family=\"sans-serif\" font-size=\"13\" lengthAdjust=\"spacingAndGlyphs\" textLength=\"7\" x=\"430.8853\" y=\"189.5917\">*</text></a><!--MD5=[2b6e58b560c01a831c30d4c12c2cfe52]\n",
       "@startuml\r\n",
       "skinparam ranksep 10\r\n",
       "skinparam rectangle {\r\n",
       " backgroundColor<<block>> LightGreen\r\n",
       "}\r\n",
       "skinparam monochrome true\r\n",
       "skinparam classbackgroundcolor white\r\n",
       "skinparam shadowing false\r\n",
       "skinparam wrapWidth 300\r\n",
       "hide circle\r\n",
       "\r\n",
       "package \"ActionTest\" as E1  [[psysml:a2683da9-1b6e-41fc-828a-cc7d1e5b2935 ]]  {\r\n",
       "def \"S\" as E2  <<(T,blue) attribute def>> [[psysml:9c87d4ab-cb1d-4b31-8fcd-81209805f4cd ]] \r\n",
       "rec usage \"a\" as E3  <<(T,blue) action>> [[psysml:88e0a3c5-b7f9-4d13-8306-ae5e61691436 ]] {\r\n",
       "choice \"m\" as E4  [[psysml:207ebb71-0108-47ac-8eb2-03003f2402f5 ]] \r\n",
       "accept \" S\" as E5 << accept action>> [[psysml:56f9bc80-23d6-47f0-bfbf-c5e902f86ac6 ]] \r\n",
       "send \" S() to  B()\" as E6 << send action>> [[psysml:baf32606-26e9-4cc3-a29f-e775486b01d7 ]] \r\n",
       "choice \"<s>noname</s>\" as E7  [[psysml:de118d49-a158-4609-b10e-b605b2688318 ]] \r\n",
       "[*] - -> E4 [[psysml:fb7d5adc-5880-4810-9813-86e53c07f96a ]] \r\n",
       "E7  - -> [*] [[psysml:c9de1ce8-1045-4471-9685-45647676290c ]] \r\n",
       "}\r\n",
       "\r\n",
       "rec def \"B\" as E8  <<(T,blue) action def>> [[psysml:79d3a6ab-38cc-49fb-ab8f-d1828ed09a3c ]] {\r\n",
       "}\r\n",
       "\r\n",
       "}\r\n",
       "E4 - -> \"*\"E5 [[psysml:674af9b4-5477-4a2d-9c32-c1d49aef2cdc ]] \r\n",
       "E5 - -> \"*\"E6 [[psysml:f1d57d75-7b92-4f65-894e-3c0dce6664b2 ]] \r\n",
       "E6 - -> \"*\"E7 [[psysml:5bbe4286-aec7-454e-8b07-ff0b44373e66 ]] \r\n",
       "E7  - -> \"*\"E4 [[psysml:df5824e0-bb07-4266-b9ed-97217b9e7a59 ]] : [true]\r\n",
       "@enduml\r\n",
       "\n",
       "PlantUML version 1.2020.13(Sat Jun 13 12:26:38 UTC 2020)\n",
       "(EPL source distribution)\n",
       "Java Runtime: OpenJDK Runtime Environment\n",
       "JVM: OpenJDK 64-Bit Server VM\n",
       "Default Encoding: UTF-8\n",
       "Language: en\n",
       "Country: null\n",
       "--></g></svg>"
      ]
     },
     "execution_count": 40,
     "metadata": {},
     "output_type": "execute_result"
    }
   ],
   "source": [
    "%viz --style=\"DEFAULT\" --view=\"Interconnection\" \"ActionTest\""
   ]
  },
  {
   "cell_type": "code",
   "execution_count": 41,
   "id": "fc6de2dc",
   "metadata": {
    "execution": {
     "iopub.execute_input": "2021-09-27T07:16:57.480259Z",
     "iopub.status.busy": "2021-09-27T07:16:57.479861Z",
     "iopub.status.idle": "2021-09-27T07:16:57.515621Z",
     "shell.execute_reply": "2021-09-27T07:16:57.515272Z"
    }
   },
   "outputs": [
    {
     "data": {
      "image/svg+xml": [
       "<?xml version=\"1.0\" encoding=\"UTF-8\" standalone=\"no\"?><svg xmlns=\"http://www.w3.org/2000/svg\" xmlns:xlink=\"http://www.w3.org/1999/xlink\" contentScriptType=\"application/ecmascript\" contentStyleType=\"text/css\" height=\"395px\" preserveAspectRatio=\"none\" style=\"width:335px;height:395px;\" version=\"1.1\" viewBox=\"0 0 335 395\" width=\"335px\" zoomAndPan=\"magnify\"><defs/><g><!--MD5=[fbc87193dbaf4d95561dea2c320d4a47]\n",
       "cluster E1--><a href=\"psysml:88e0a3c5-b7f9-4d13-8306-ae5e61691436\" target=\"_top\" title=\"psysml:88e0a3c5-b7f9-4d13-8306-ae5e61691436\" xlink:actuate=\"onRequest\" xlink:href=\"psysml:88e0a3c5-b7f9-4d13-8306-ae5e61691436\" xlink:show=\"new\" xlink:title=\"psysml:88e0a3c5-b7f9-4d13-8306-ae5e61691436\" xlink:type=\"simple\"><rect fill=\"#FFFFFF\" height=\"377.5\" id=\"E1\" rx=\"10\" ry=\"10\" style=\"stroke: #383838; stroke-width: 1.5;\" width=\"209\" x=\"107\" y=\"7\"/><rect fill=\"#F8F8F8\" height=\"37.9375\" rx=\"10\" ry=\"10\" style=\"stroke: #F8F8F8; stroke-width: 1.5;\" width=\"209\" x=\"107\" y=\"7\"/><rect fill=\"#F8F8F8\" height=\"10\" style=\"stroke: #F8F8F8; stroke-width: 1.5;\" width=\"209\" x=\"107\" y=\"34.9375\"/><rect fill=\"none\" height=\"377.5\" id=\"E1\" rx=\"10\" ry=\"10\" style=\"stroke: #383838; stroke-width: 1.5;\" width=\"209\" x=\"107\" y=\"7\"/><text fill=\"#000000\" font-family=\"sans-serif\" font-size=\"12\" font-style=\"italic\" lengthAdjust=\"spacingAndGlyphs\" textLength=\"53\" x=\"185\" y=\"23.1387\">«action»</text><text fill=\"#000000\" font-family=\"sans-serif\" font-size=\"12\" lengthAdjust=\"spacingAndGlyphs\" textLength=\"8\" x=\"207.5\" y=\"37.1074\">a</text><line style=\"stroke: #383838; stroke-width: 1.0;\" x1=\"107\" x2=\"316\" y1=\"44.9375\" y2=\"44.9375\"/></a><polygon fill=\"#F8F8F8\" points=\"264,106.5,276,118.5,264,130.5,252,118.5,264,106.5\" style=\"stroke: #383838; stroke-width: 1.5;\"/><!--MD5=[a60fb756f580feb9fd8e2cf1329b5c91]\n",
       "entity E3--><a href=\"psysml:56f9bc80-23d6-47f0-bfbf-c5e902f86ac6\" target=\"_top\" title=\"psysml:56f9bc80-23d6-47f0-bfbf-c5e902f86ac6\" xlink:actuate=\"onRequest\" xlink:href=\"psysml:56f9bc80-23d6-47f0-bfbf-c5e902f86ac6\" xlink:show=\"new\" xlink:title=\"psysml:56f9bc80-23d6-47f0-bfbf-c5e902f86ac6\" xlink:type=\"simple\"><polygon fill=\"#F8F8F8\" points=\"123,147.5,123,202.0938,263,202.0938,243,174.7969,263,147.5\" style=\"stroke: #000000; stroke-width: 1.5;\"/><text fill=\"#000000\" font-family=\"sans-serif\" font-size=\"14\" font-style=\"italic\" lengthAdjust=\"spacingAndGlyphs\" textLength=\"111\" x=\"130\" y=\"170.4951\">«accept action»</text><text fill=\"#000000\" font-family=\"sans-serif\" font-size=\"14\" lengthAdjust=\"spacingAndGlyphs\" textLength=\"9\" x=\"181\" y=\"187.792\">S</text></a><!--MD5=[961cefdc15414eaa3e87aec9d17c2188]\n",
       "entity E4--><a href=\"psysml:baf32606-26e9-4cc3-a29f-e775486b01d7\" target=\"_top\" title=\"psysml:baf32606-26e9-4cc3-a29f-e775486b01d7\" xlink:actuate=\"onRequest\" xlink:href=\"psysml:baf32606-26e9-4cc3-a29f-e775486b01d7\" xlink:show=\"new\" xlink:title=\"psysml:baf32606-26e9-4cc3-a29f-e775486b01d7\" xlink:type=\"simple\"><polygon fill=\"#F8F8F8\" points=\"123,235.5,123,290.0938,231,290.0938,251,262.7969,231,235.5\" style=\"stroke: #000000; stroke-width: 1.5;\"/><text fill=\"#000000\" font-family=\"sans-serif\" font-size=\"14\" font-style=\"italic\" lengthAdjust=\"spacingAndGlyphs\" textLength=\"99\" x=\"130\" y=\"258.4951\">«send action»</text><text fill=\"#000000\" font-family=\"sans-serif\" font-size=\"14\" lengthAdjust=\"spacingAndGlyphs\" textLength=\"65\" x=\"147\" y=\"275.792\">S() to  B()</text></a><polygon fill=\"#F8F8F8\" points=\"262,307.5,274,319.5,262,331.5,250,319.5,262,307.5\" style=\"stroke: #383838; stroke-width: 1.5;\"/><ellipse cx=\"264\" cy=\"68\" fill=\"#000000\" rx=\"10\" ry=\"10\" style=\"stroke: none; stroke-width: 1.0;\"/><ellipse cx=\"262\" cy=\"358.5\" fill=\"none\" rx=\"10\" ry=\"10\" style=\"stroke: #000000; stroke-width: 1.0;\"/><ellipse cx=\"262.5\" cy=\"359\" fill=\"#000000\" rx=\"6\" ry=\"6\" style=\"stroke: none; stroke-width: 1.0;\"/><g id=\"E6\"><a href=\"psysml:79d3a6ab-38cc-49fb-ab8f-d1828ed09a3c\" target=\"_top\" title=\"psysml:79d3a6ab-38cc-49fb-ab8f-d1828ed09a3c\" xlink:actuate=\"onRequest\" xlink:href=\"psysml:79d3a6ab-38cc-49fb-ab8f-d1828ed09a3c\" xlink:show=\"new\" xlink:title=\"psysml:79d3a6ab-38cc-49fb-ab8f-d1828ed09a3c\" xlink:type=\"simple\"><rect fill=\"#FFFFFF\" height=\"42.9375\" id=\"E6\" style=\"stroke: #383838; stroke-width: 1.5;\" width=\"84\" x=\"7\" y=\"46.5\"/><rect fill=\"#F8F8F8\" height=\"37.9375\" style=\"stroke: #383838; stroke-width: 1.5;\" width=\"84\" x=\"7\" y=\"46.5\"/><text fill=\"#000000\" font-family=\"sans-serif\" font-size=\"12\" font-style=\"italic\" lengthAdjust=\"spacingAndGlyphs\" textLength=\"77\" x=\"10.5\" y=\"62.6387\">«action def»</text><text fill=\"#000000\" font-family=\"sans-serif\" font-size=\"12\" lengthAdjust=\"spacingAndGlyphs\" textLength=\"8\" x=\"45\" y=\"76.6074\">B</text></a></g><!--MD5=[cff944eb183b832d446717a4e202d613]\n",
       "link *start*E1 to E2--><a href=\"psysml:fb7d5adc-5880-4810-9813-86e53c07f96a\" target=\"_top\" title=\"psysml:fb7d5adc-5880-4810-9813-86e53c07f96a\" xlink:actuate=\"onRequest\" xlink:href=\"psysml:fb7d5adc-5880-4810-9813-86e53c07f96a\" xlink:show=\"new\" xlink:title=\"psysml:fb7d5adc-5880-4810-9813-86e53c07f96a\" xlink:type=\"simple\"><path d=\"M264,78.35 C264,84.88 264,93.77 264,101.42 \" fill=\"none\" id=\"*start*E1-&gt;E2\" style=\"stroke: #383838; stroke-width: 1.0; stroke-dasharray: 7.0,7.0;\"/><polygon fill=\"#383838\" points=\"264,106.48,268,97.48,264,101.48,260,97.48,264,106.48\" style=\"stroke: #383838; stroke-width: 1.0;\"/></a><!--MD5=[7fc47fc0d107820853a137871ad908c8]\n",
       "link E5 to *end*E1--><a href=\"psysml:c9de1ce8-1045-4471-9685-45647676290c\" target=\"_top\" title=\"psysml:c9de1ce8-1045-4471-9685-45647676290c\" xlink:actuate=\"onRequest\" xlink:href=\"psysml:c9de1ce8-1045-4471-9685-45647676290c\" xlink:show=\"new\" xlink:title=\"psysml:c9de1ce8-1045-4471-9685-45647676290c\" xlink:type=\"simple\"><path d=\"M262,331.8 C262,335.34 262,339.3 262,343.03 \" fill=\"none\" id=\"E5-&gt;*end*E1\" style=\"stroke: #383838; stroke-width: 1.0; stroke-dasharray: 7.0,7.0;\"/><polygon fill=\"#383838\" points=\"262,348.25,266,339.25,262,343.25,258,339.25,262,348.25\" style=\"stroke: #383838; stroke-width: 1.0;\"/></a><!--MD5=[2720a5a1f2c3fca2055b230370638851]\n",
       "link E2 to E3--><a href=\"psysml:674af9b4-5477-4a2d-9c32-c1d49aef2cdc\" target=\"_top\" title=\"psysml:674af9b4-5477-4a2d-9c32-c1d49aef2cdc\" xlink:actuate=\"onRequest\" xlink:href=\"psysml:674af9b4-5477-4a2d-9c32-c1d49aef2cdc\" xlink:show=\"new\" xlink:title=\"psysml:674af9b4-5477-4a2d-9c32-c1d49aef2cdc\" xlink:type=\"simple\"><path d=\"M257.45,124.53 C251.33,129.23 241.65,136.66 231.64,144.34 \" fill=\"none\" id=\"E2-&gt;E3\" style=\"stroke: #383838; stroke-width: 1.0; stroke-dasharray: 7.0,7.0;\"/><polygon fill=\"#383838\" points=\"227.64,147.41,237.2129,145.0948,231.6037,144.3621,232.3363,138.7529,227.64,147.41\" style=\"stroke: #383838; stroke-width: 1.0;\"/></a><!--MD5=[af87c684e3b0d8be13c1a698a818ef1e]\n",
       "link E3 to E4--><a href=\"psysml:f1d57d75-7b92-4f65-894e-3c0dce6664b2\" target=\"_top\" title=\"psysml:f1d57d75-7b92-4f65-894e-3c0dce6664b2\" xlink:actuate=\"onRequest\" xlink:href=\"psysml:f1d57d75-7b92-4f65-894e-3c0dce6664b2\" xlink:show=\"new\" xlink:title=\"psysml:f1d57d75-7b92-4f65-894e-3c0dce6664b2\" xlink:type=\"simple\"><path d=\"M191.13,202.74 C190.53,211.4 189.85,221.08 189.23,230.08 \" fill=\"none\" id=\"E3-&gt;E4\" style=\"stroke: #383838; stroke-width: 1.0; stroke-dasharray: 7.0,7.0;\"/><polygon fill=\"#383838\" points=\"188.86,235.28,193.468,226.5756,189.203,230.2918,185.4869,226.0268,188.86,235.28\" style=\"stroke: #383838; stroke-width: 1.0;\"/></a><!--MD5=[1b7591eae5389033d8d09a9d6721a717]\n",
       "link E4 to E5--><a href=\"psysml:5bbe4286-aec7-454e-8b07-ff0b44373e66\" target=\"_top\" title=\"psysml:5bbe4286-aec7-454e-8b07-ff0b44373e66\" xlink:actuate=\"onRequest\" xlink:href=\"psysml:5bbe4286-aec7-454e-8b07-ff0b44373e66\" xlink:show=\"new\" xlink:title=\"psysml:5bbe4286-aec7-454e-8b07-ff0b44373e66\" xlink:type=\"simple\"><path d=\"M223.62,290.61 C233.72,297.95 243.91,305.35 251.24,310.68 \" fill=\"none\" id=\"E4-&gt;E5\" style=\"stroke: #383838; stroke-width: 1.0; stroke-dasharray: 7.0,7.0;\"/><polygon fill=\"#383838\" points=\"255.42,313.72,250.4976,305.1894,251.3776,310.7774,245.7896,311.6574,255.42,313.72\" style=\"stroke: #383838; stroke-width: 1.0;\"/></a><!--MD5=[15ebcb19ae302d9b601edb458606d402]\n",
       "link E5 to E2--><a href=\"psysml:df5824e0-bb07-4266-b9ed-97217b9e7a59\" target=\"_top\" title=\"psysml:df5824e0-bb07-4266-b9ed-97217b9e7a59\" xlink:actuate=\"onRequest\" xlink:href=\"psysml:df5824e0-bb07-4266-b9ed-97217b9e7a59\" xlink:show=\"new\" xlink:title=\"psysml:df5824e0-bb07-4266-b9ed-97217b9e7a59\" xlink:type=\"simple\"><path d=\"M265,310.49 C273.84,285.73 298.06,208.48 281,147.5 C279.26,141.29 275.73,135.1 272.34,130.12 \" fill=\"none\" id=\"E5-&gt;E2\" style=\"stroke: #383838; stroke-width: 1.0; stroke-dasharray: 7.0,7.0;\"/><polygon fill=\"#383838\" points=\"269.31,125.92,271.3342,135.5586,272.2364,129.9741,277.8209,130.8763,269.31,125.92\" style=\"stroke: #383838; stroke-width: 1.0;\"/><text fill=\"#000000\" font-family=\"sans-serif\" font-size=\"13\" lengthAdjust=\"spacingAndGlyphs\" textLength=\"36\" x=\"287\" y=\"223.5669\">[true]</text></a><!--MD5=[9fd976efa31c751a685e4cdb20bf1eb0]\n",
       "@startuml\r\n",
       "skinparam ranksep 8\r\n",
       "skinparam monochrome true\r\n",
       "skinparam classbackgroundcolor white\r\n",
       "skinparam shadowing false\r\n",
       "skinparam wrapWidth 300\r\n",
       "hide circle\r\n",
       "\r\n",
       "rec usage \"a\" as E1  <<(T,blue) action>> [[psysml:88e0a3c5-b7f9-4d13-8306-ae5e61691436 ]] {\r\n",
       "choice \"m\" as E2  [[psysml:207ebb71-0108-47ac-8eb2-03003f2402f5 ]] \r\n",
       "accept \" S\" as E3 << accept action>> [[psysml:56f9bc80-23d6-47f0-bfbf-c5e902f86ac6 ]] \r\n",
       "send \" S() to  B()\" as E4 << send action>> [[psysml:baf32606-26e9-4cc3-a29f-e775486b01d7 ]] \r\n",
       "choice \"<s>noname</s>\" as E5  [[psysml:de118d49-a158-4609-b10e-b605b2688318 ]] \r\n",
       "[*] ..> E2 [[psysml:fb7d5adc-5880-4810-9813-86e53c07f96a ]] \r\n",
       "E5 ..> [*] [[psysml:c9de1ce8-1045-4471-9685-45647676290c ]] \r\n",
       "}\r\n",
       "\r\n",
       "E2 ..> E3 [[psysml:674af9b4-5477-4a2d-9c32-c1d49aef2cdc ]] \r\n",
       "E3 ..> E4 [[psysml:f1d57d75-7b92-4f65-894e-3c0dce6664b2 ]] \r\n",
       "E4 ..> E5 [[psysml:5bbe4286-aec7-454e-8b07-ff0b44373e66 ]] \r\n",
       "E5 ..> E2 [[psysml:df5824e0-bb07-4266-b9ed-97217b9e7a59 ]] : [true]\r\n",
       "rec def \"B\" as E6  <<(T,blue) action def>> [[psysml:79d3a6ab-38cc-49fb-ab8f-d1828ed09a3c ]] {\r\n",
       "}\r\n",
       "\r\n",
       "@enduml\r\n",
       "\n",
       "PlantUML version 1.2020.13(Sat Jun 13 12:26:38 UTC 2020)\n",
       "(EPL source distribution)\n",
       "Java Runtime: OpenJDK Runtime Environment\n",
       "JVM: OpenJDK 64-Bit Server VM\n",
       "Default Encoding: UTF-8\n",
       "Language: en\n",
       "Country: null\n",
       "--></g></svg>"
      ]
     },
     "execution_count": 41,
     "metadata": {},
     "output_type": "execute_result"
    }
   ],
   "source": [
    "%viz --style=\"DEFAULT\" --view=\"Action\" \"ActionTest\""
   ]
  },
  {
   "cell_type": "code",
   "execution_count": 42,
   "id": "f1e5b39a",
   "metadata": {
    "execution": {
     "iopub.execute_input": "2021-09-27T07:16:57.565403Z",
     "iopub.status.busy": "2021-09-27T07:16:57.565004Z",
     "iopub.status.idle": "2021-09-27T07:16:57.570258Z",
     "shell.execute_reply": "2021-09-27T07:16:57.570569Z"
    }
   },
   "outputs": [
    {
     "data": {
      "image/svg+xml": [
       "<?xml version=\"1.0\" encoding=\"UTF-8\" standalone=\"no\"?><svg xmlns=\"http://www.w3.org/2000/svg\" xmlns:xlink=\"http://www.w3.org/1999/xlink\" contentScriptType=\"application/ecmascript\" contentStyleType=\"text/css\" height=\"12px\" preserveAspectRatio=\"none\" style=\"width:12px;height:12px;\" version=\"1.1\" viewBox=\"0 0 12 12\" width=\"12px\" zoomAndPan=\"magnify\"><defs/><g><!--MD5=[0b72472770326784bf6c2b53246e1e64]\n",
       "@startuml\r\n",
       "skinparam roundcorner 20\r\n",
       "skinparam BoxPadding 20\r\n",
       "skinparam SequenceBoxBackgroundColor #white\r\n",
       "skinparam style strictuml\r\n",
       "skinparam maxMessageSize 100\r\n",
       "skinparam monochrome true\r\n",
       "skinparam classbackgroundcolor white\r\n",
       "skinparam shadowing false\r\n",
       "skinparam wrapWidth 300\r\n",
       "hide circle\r\n",
       "\r\n",
       "@enduml\r\n",
       "\n",
       "PlantUML version 1.2020.13(Sat Jun 13 12:26:38 UTC 2020)\n",
       "(EPL source distribution)\n",
       "Java Runtime: OpenJDK Runtime Environment\n",
       "JVM: OpenJDK 64-Bit Server VM\n",
       "Default Encoding: UTF-8\n",
       "Language: en\n",
       "Country: null\n",
       "--></g></svg>"
      ]
     },
     "execution_count": 42,
     "metadata": {},
     "output_type": "execute_result"
    }
   ],
   "source": [
    "%viz --style=\"DEFAULT\" --view=\"Sequence\" \"ActionTest\""
   ]
  },
  {
   "cell_type": "code",
   "execution_count": 43,
   "id": "aa1be3f9",
   "metadata": {
    "execution": {
     "iopub.execute_input": "2021-09-27T07:16:57.621133Z",
     "iopub.status.busy": "2021-09-27T07:16:57.620699Z",
     "iopub.status.idle": "2021-09-27T07:16:57.665010Z",
     "shell.execute_reply": "2021-09-27T07:16:57.663712Z"
    }
   },
   "outputs": [
    {
     "data": {
      "image/svg+xml": [
       "<?xml version=\"1.0\" encoding=\"UTF-8\" standalone=\"no\"?><svg xmlns=\"http://www.w3.org/2000/svg\" xmlns:xlink=\"http://www.w3.org/1999/xlink\" contentScriptType=\"application/ecmascript\" contentStyleType=\"text/css\" height=\"684px\" preserveAspectRatio=\"none\" style=\"width:518px;height:684px;\" version=\"1.1\" viewBox=\"0 0 518 684\" width=\"518px\" zoomAndPan=\"magnify\"><defs/><g><!--MD5=[fbc87193dbaf4d95561dea2c320d4a47]\n",
       "cluster E1--><a href=\"psysml:a2683da9-1b6e-41fc-828a-cc7d1e5b2935\" target=\"_top\" title=\"psysml:a2683da9-1b6e-41fc-828a-cc7d1e5b2935\" xlink:actuate=\"onRequest\" xlink:href=\"psysml:a2683da9-1b6e-41fc-828a-cc7d1e5b2935\" xlink:show=\"new\" xlink:title=\"psysml:a2683da9-1b6e-41fc-828a-cc7d1e5b2935\" xlink:type=\"simple\"><polygon fill=\"#FFFFFF\" points=\"16,6,96,6,103,28.2969,496,28.2969,496,672,16,672,16,6\" style=\"stroke: #000000; stroke-width: 1.5;\"/><line style=\"stroke: #000000; stroke-width: 1.5;\" x1=\"16\" x2=\"103\" y1=\"28.2969\" y2=\"28.2969\"/><text fill=\"#000000\" font-family=\"sans-serif\" font-size=\"14\" font-weight=\"bold\" lengthAdjust=\"spacingAndGlyphs\" textLength=\"74\" x=\"20\" y=\"20.9951\">ActionTest</text></a><!--MD5=[d5e69f78d87373223dbae638b30a9c99]\n",
       "cluster E3--><a href=\"psysml:88e0a3c5-b7f9-4d13-8306-ae5e61691436\" target=\"_top\" title=\"psysml:88e0a3c5-b7f9-4d13-8306-ae5e61691436\" xlink:actuate=\"onRequest\" xlink:href=\"psysml:88e0a3c5-b7f9-4d13-8306-ae5e61691436\" xlink:show=\"new\" xlink:title=\"psysml:88e0a3c5-b7f9-4d13-8306-ae5e61691436\" xlink:type=\"simple\"><rect fill=\"#FFFFFF\" height=\"599\" id=\"E3\" rx=\"10\" ry=\"10\" style=\"stroke: #383838; stroke-width: 1.5;\" width=\"209\" x=\"263\" y=\"49\"/><rect fill=\"#F8F8F8\" height=\"37.9375\" rx=\"10\" ry=\"10\" style=\"stroke: #F8F8F8; stroke-width: 1.5;\" width=\"209\" x=\"263\" y=\"49\"/><rect fill=\"#F8F8F8\" height=\"10\" style=\"stroke: #F8F8F8; stroke-width: 1.5;\" width=\"209\" x=\"263\" y=\"76.9375\"/><rect fill=\"none\" height=\"599\" id=\"E3\" rx=\"10\" ry=\"10\" style=\"stroke: #383838; stroke-width: 1.5;\" width=\"209\" x=\"263\" y=\"49\"/><text fill=\"#000000\" font-family=\"sans-serif\" font-size=\"12\" font-style=\"italic\" lengthAdjust=\"spacingAndGlyphs\" textLength=\"53\" x=\"341\" y=\"65.1387\">«action»</text><text fill=\"#000000\" font-family=\"sans-serif\" font-size=\"12\" lengthAdjust=\"spacingAndGlyphs\" textLength=\"8\" x=\"363.5\" y=\"79.1074\">a</text><line style=\"stroke: #383838; stroke-width: 1.0;\" x1=\"263\" x2=\"472\" y1=\"86.9375\" y2=\"86.9375\"/></a><!--MD5=[b4997ac47864f28c2f74865a473b2911]\n",
       "class E2--><a href=\"psysml:9c87d4ab-cb1d-4b31-8fcd-81209805f4cd\" target=\"_top\" title=\"psysml:9c87d4ab-cb1d-4b31-8fcd-81209805f4cd\" xlink:actuate=\"onRequest\" xlink:href=\"psysml:9c87d4ab-cb1d-4b31-8fcd-81209805f4cd\" xlink:show=\"new\" xlink:title=\"psysml:9c87d4ab-cb1d-4b31-8fcd-81209805f4cd\" xlink:type=\"simple\"><rect fill=\"#FFFFFF\" height=\"45.9375\" id=\"E2\" style=\"stroke: #383838; stroke-width: 1.5;\" width=\"95\" x=\"151.5\" y=\"87\"/><text fill=\"#000000\" font-family=\"sans-serif\" font-size=\"12\" font-style=\"italic\" lengthAdjust=\"spacingAndGlyphs\" textLength=\"93\" x=\"152.5\" y=\"103.1387\">«attribute def»</text><text fill=\"#000000\" font-family=\"sans-serif\" font-size=\"12\" lengthAdjust=\"spacingAndGlyphs\" textLength=\"8\" x=\"195\" y=\"117.1074\">S</text><line style=\"stroke: #383838; stroke-width: 1.5;\" x1=\"152.5\" x2=\"245.5\" y1=\"124.9375\" y2=\"124.9375\"/></a><polygon fill=\"#F8F8F8\" points=\"420,194,432,206,420,218,408,206,420,194\" style=\"stroke: #383838; stroke-width: 1.5;\"/><!--MD5=[21dd76c19d33815960c0e92fef8f0eef]\n",
       "entity E5--><a href=\"psysml:56f9bc80-23d6-47f0-bfbf-c5e902f86ac6\" target=\"_top\" title=\"psysml:56f9bc80-23d6-47f0-bfbf-c5e902f86ac6\" xlink:actuate=\"onRequest\" xlink:href=\"psysml:56f9bc80-23d6-47f0-bfbf-c5e902f86ac6\" xlink:show=\"new\" xlink:title=\"psysml:56f9bc80-23d6-47f0-bfbf-c5e902f86ac6\" xlink:type=\"simple\"><polygon fill=\"#F8F8F8\" points=\"279,279,279,333.5938,419,333.5938,399,306.2969,419,279\" style=\"stroke: #000000; stroke-width: 1.5;\"/><text fill=\"#000000\" font-family=\"sans-serif\" font-size=\"14\" font-style=\"italic\" lengthAdjust=\"spacingAndGlyphs\" textLength=\"111\" x=\"286\" y=\"301.9951\">«accept action»</text><text fill=\"#000000\" font-family=\"sans-serif\" font-size=\"14\" lengthAdjust=\"spacingAndGlyphs\" textLength=\"9\" x=\"337\" y=\"319.292\">S</text></a><!--MD5=[24d87cdf3002d433f401b2a2aa9f9f65]\n",
       "entity E6--><a href=\"psysml:baf32606-26e9-4cc3-a29f-e775486b01d7\" target=\"_top\" title=\"psysml:baf32606-26e9-4cc3-a29f-e775486b01d7\" xlink:actuate=\"onRequest\" xlink:href=\"psysml:baf32606-26e9-4cc3-a29f-e775486b01d7\" xlink:show=\"new\" xlink:title=\"psysml:baf32606-26e9-4cc3-a29f-e775486b01d7\" xlink:type=\"simple\"><polygon fill=\"#F8F8F8\" points=\"279,411,279,465.5938,387,465.5938,407,438.2969,387,411\" style=\"stroke: #000000; stroke-width: 1.5;\"/><text fill=\"#000000\" font-family=\"sans-serif\" font-size=\"14\" font-style=\"italic\" lengthAdjust=\"spacingAndGlyphs\" textLength=\"99\" x=\"286\" y=\"433.9951\">«send action»</text><text fill=\"#000000\" font-family=\"sans-serif\" font-size=\"14\" lengthAdjust=\"spacingAndGlyphs\" textLength=\"65\" x=\"303\" y=\"451.292\">S() to  B()</text></a><polygon fill=\"#F8F8F8\" points=\"418,527,430,539,418,551,406,539,418,527\" style=\"stroke: #383838; stroke-width: 1.5;\"/><ellipse cx=\"420\" cy=\"110\" fill=\"#000000\" rx=\"10\" ry=\"10\" style=\"stroke: none; stroke-width: 1.0;\"/><ellipse cx=\"418\" cy=\"622\" fill=\"none\" rx=\"10\" ry=\"10\" style=\"stroke: #000000; stroke-width: 1.0;\"/><ellipse cx=\"418.5\" cy=\"622.5\" fill=\"#000000\" rx=\"6\" ry=\"6\" style=\"stroke: none; stroke-width: 1.0;\"/><g id=\"E1.E8\"><a href=\"psysml:79d3a6ab-38cc-49fb-ab8f-d1828ed09a3c\" target=\"_top\" title=\"psysml:79d3a6ab-38cc-49fb-ab8f-d1828ed09a3c\" xlink:actuate=\"onRequest\" xlink:href=\"psysml:79d3a6ab-38cc-49fb-ab8f-d1828ed09a3c\" xlink:show=\"new\" xlink:title=\"psysml:79d3a6ab-38cc-49fb-ab8f-d1828ed09a3c\" xlink:type=\"simple\"><rect fill=\"#FFFFFF\" height=\"42.9375\" id=\"E8\" style=\"stroke: #383838; stroke-width: 1.5;\" width=\"84\" x=\"32\" y=\"88.5\"/><rect fill=\"#F8F8F8\" height=\"37.9375\" style=\"stroke: #383838; stroke-width: 1.5;\" width=\"84\" x=\"32\" y=\"88.5\"/><text fill=\"#000000\" font-family=\"sans-serif\" font-size=\"12\" font-style=\"italic\" lengthAdjust=\"spacingAndGlyphs\" textLength=\"77\" x=\"35.5\" y=\"104.6387\">«action def»</text><text fill=\"#000000\" font-family=\"sans-serif\" font-size=\"12\" lengthAdjust=\"spacingAndGlyphs\" textLength=\"8\" x=\"70\" y=\"118.6074\">B</text></a></g><!--MD5=[f47e10efcf9a6752d55dae986d790ed9]\n",
       "link *start*E3 to E4--><a href=\"psysml:fb7d5adc-5880-4810-9813-86e53c07f96a\" target=\"_top\" title=\"psysml:fb7d5adc-5880-4810-9813-86e53c07f96a\" xlink:actuate=\"onRequest\" xlink:href=\"psysml:fb7d5adc-5880-4810-9813-86e53c07f96a\" xlink:show=\"new\" xlink:title=\"psysml:fb7d5adc-5880-4810-9813-86e53c07f96a\" xlink:type=\"simple\"><path d=\"M420,120.01 C420,135.81 420,168.69 420,188.61 \" fill=\"none\" id=\"*start*E3-&gt;E4\" style=\"stroke: #383838; stroke-width: 1.0;\"/><polygon fill=\"#383838\" points=\"420,193.85,424,184.85,420,188.85,416,184.85,420,193.85\" style=\"stroke: #383838; stroke-width: 1.0;\"/></a><!--MD5=[d19f2eb34364d71b67042106d92f540b]\n",
       "link E7 to *end*E3--><a href=\"psysml:c9de1ce8-1045-4471-9685-45647676290c\" target=\"_top\" title=\"psysml:c9de1ce8-1045-4471-9685-45647676290c\" xlink:actuate=\"onRequest\" xlink:href=\"psysml:c9de1ce8-1045-4471-9685-45647676290c\" xlink:show=\"new\" xlink:title=\"psysml:c9de1ce8-1045-4471-9685-45647676290c\" xlink:type=\"simple\"><path d=\"M418,551.26 C418,565.66 418,590.63 418,606.46 \" fill=\"none\" id=\"E7-&gt;*end*E3\" style=\"stroke: #383838; stroke-width: 1.0;\"/><polygon fill=\"#383838\" points=\"418,611.84,422,602.84,418,606.84,414,602.84,418,611.84\" style=\"stroke: #383838; stroke-width: 1.0;\"/></a><!--MD5=[1b7591eae5389033d8d09a9d6721a717]\n",
       "link E4 to E5--><a href=\"psysml:674af9b4-5477-4a2d-9c32-c1d49aef2cdc\" target=\"_top\" title=\"psysml:674af9b4-5477-4a2d-9c32-c1d49aef2cdc\" xlink:actuate=\"onRequest\" xlink:href=\"psysml:674af9b4-5477-4a2d-9c32-c1d49aef2cdc\" xlink:show=\"new\" xlink:title=\"psysml:674af9b4-5477-4a2d-9c32-c1d49aef2cdc\" xlink:type=\"simple\"><path d=\"M415.34,213.46 C406.55,225.66 386.99,252.8 371.37,274.46 \" fill=\"none\" id=\"E4-&gt;E5\" style=\"stroke: #383838; stroke-width: 1.0;\"/><polygon fill=\"#383838\" points=\"368.31,278.71,376.8093,273.7339,371.227,274.6491,370.3119,269.0667,368.31,278.71\" style=\"stroke: #383838; stroke-width: 1.0;\"/><text fill=\"#000000\" font-family=\"sans-serif\" font-size=\"13\" lengthAdjust=\"spacingAndGlyphs\" textLength=\"7\" x=\"364.7684\" y=\"268.1162\">*</text></a><!--MD5=[9120cf2e5df3bff93db8f754bbbc09b4]\n",
       "link E5 to E6--><a href=\"psysml:f1d57d75-7b92-4f65-894e-3c0dce6664b2\" target=\"_top\" title=\"psysml:f1d57d75-7b92-4f65-894e-3c0dce6664b2\" xlink:actuate=\"onRequest\" xlink:href=\"psysml:f1d57d75-7b92-4f65-894e-3c0dce6664b2\" xlink:show=\"new\" xlink:title=\"psysml:f1d57d75-7b92-4f65-894e-3c0dce6664b2\" xlink:type=\"simple\"><path d=\"M347.77,334.12 C346.81,354.89 345.48,383.8 344.46,405.77 \" fill=\"none\" id=\"E5-&gt;E6\" style=\"stroke: #383838; stroke-width: 1.0;\"/><polygon fill=\"#383838\" points=\"344.23,410.91,348.6368,402.1021,344.4583,405.9152,340.6452,401.7367,344.23,410.91\" style=\"stroke: #383838; stroke-width: 1.0;\"/><text fill=\"#000000\" font-family=\"sans-serif\" font-size=\"13\" lengthAdjust=\"spacingAndGlyphs\" textLength=\"7\" x=\"336.7051\" y=\"399.9247\">*</text></a><!--MD5=[02c70b7c851c11e3980e4e90450dc5dd]\n",
       "link E6 to E7--><a href=\"psysml:5bbe4286-aec7-454e-8b07-ff0b44373e66\" target=\"_top\" title=\"psysml:5bbe4286-aec7-454e-8b07-ff0b44373e66\" xlink:actuate=\"onRequest\" xlink:href=\"psysml:5bbe4286-aec7-454e-8b07-ff0b44373e66\" xlink:show=\"new\" xlink:title=\"psysml:5bbe4286-aec7-454e-8b07-ff0b44373e66\" xlink:type=\"simple\"><path d=\"M363.3,466.16 C378.71,486.4 399.07,513.14 410.09,527.61 \" fill=\"none\" id=\"E6-&gt;E7\" style=\"stroke: #383838; stroke-width: 1.0;\"/><polygon fill=\"#383838\" points=\"413.2,531.69,410.9398,522.104,410.1749,527.7089,404.57,526.9441,413.2,531.69\" style=\"stroke: #383838; stroke-width: 1.0;\"/><text fill=\"#000000\" font-family=\"sans-serif\" font-size=\"13\" lengthAdjust=\"spacingAndGlyphs\" textLength=\"7\" x=\"398.9375\" y=\"515.8563\">*</text></a><!--MD5=[6bdd27f9905911a7e892a3dc65cf6b7c]\n",
       "link E7 to E4--><a href=\"psysml:df5824e0-bb07-4266-b9ed-97217b9e7a59\" target=\"_top\" title=\"psysml:df5824e0-bb07-4266-b9ed-97217b9e7a59\" xlink:actuate=\"onRequest\" xlink:href=\"psysml:df5824e0-bb07-4266-b9ed-97217b9e7a59\" xlink:show=\"new\" xlink:title=\"psysml:df5824e0-bb07-4266-b9ed-97217b9e7a59\" xlink:type=\"simple\"><path d=\"M419.98,528.56 C426.8,494.71 448.32,376.18 437,279 C434.59,258.32 428.42,234.96 424.21,220.61 \" fill=\"none\" id=\"E7-&gt;E4\" style=\"stroke: #383838; stroke-width: 1.0;\"/><polygon fill=\"#383838\" points=\"422.76,215.75,421.4935,225.5171,424.1863,220.5423,429.1611,223.2351,422.76,215.75\" style=\"stroke: #383838; stroke-width: 1.0;\"/><text fill=\"#000000\" font-family=\"sans-serif\" font-size=\"13\" lengthAdjust=\"spacingAndGlyphs\" textLength=\"36\" x=\"440\" y=\"377.0669\">[true]</text><text fill=\"#000000\" font-family=\"sans-serif\" font-size=\"13\" lengthAdjust=\"spacingAndGlyphs\" textLength=\"7\" x=\"415.3253\" y=\"237.9903\">*</text></a><!--MD5=[4307650fcf9164a78bec036a0b991778]\n",
       "@startuml\r\n",
       "skinparam monochrome true\r\n",
       "skinparam classbackgroundcolor white\r\n",
       "skinparam shadowing false\r\n",
       "skinparam wrapWidth 300\r\n",
       "hide circle\r\n",
       "\r\n",
       "package \"ActionTest\" as E1  [[psysml:a2683da9-1b6e-41fc-828a-cc7d1e5b2935 ]]  {\r\n",
       "comp def \"S\" as E2  <<(T,blue) attribute def>> [[psysml:9c87d4ab-cb1d-4b31-8fcd-81209805f4cd ]] {\r\n",
       "}\r\n",
       "rec usage \"a\" as E3  <<(T,blue) action>> [[psysml:88e0a3c5-b7f9-4d13-8306-ae5e61691436 ]] {\r\n",
       "choice \"m\" as E4  [[psysml:207ebb71-0108-47ac-8eb2-03003f2402f5 ]] \r\n",
       "accept \" S\" as E5 << accept action>> [[psysml:56f9bc80-23d6-47f0-bfbf-c5e902f86ac6 ]] \r\n",
       "send \" S() to  B()\" as E6 << send action>> [[psysml:baf32606-26e9-4cc3-a29f-e775486b01d7 ]] \r\n",
       "choice \"<s>noname</s>\" as E7  [[psysml:de118d49-a158-4609-b10e-b605b2688318 ]] \r\n",
       "[*] - -> E4 [[psysml:fb7d5adc-5880-4810-9813-86e53c07f96a ]] \r\n",
       "E7  - -> [*] [[psysml:c9de1ce8-1045-4471-9685-45647676290c ]] \r\n",
       "}\r\n",
       "\r\n",
       "rec def \"B\" as E8  <<(T,blue) action def>> [[psysml:79d3a6ab-38cc-49fb-ab8f-d1828ed09a3c ]] {\r\n",
       "}\r\n",
       "\r\n",
       "}\r\n",
       "E4 - -> \"*\"E5 [[psysml:674af9b4-5477-4a2d-9c32-c1d49aef2cdc ]] \r\n",
       "E5 - -> \"*\"E6 [[psysml:f1d57d75-7b92-4f65-894e-3c0dce6664b2 ]] \r\n",
       "E6 - -> \"*\"E7 [[psysml:5bbe4286-aec7-454e-8b07-ff0b44373e66 ]] \r\n",
       "E7  - -> \"*\"E4 [[psysml:df5824e0-bb07-4266-b9ed-97217b9e7a59 ]] : [true]\r\n",
       "@enduml\r\n",
       "\n",
       "PlantUML version 1.2020.13(Sat Jun 13 12:26:38 UTC 2020)\n",
       "(EPL source distribution)\n",
       "Java Runtime: OpenJDK Runtime Environment\n",
       "JVM: OpenJDK 64-Bit Server VM\n",
       "Default Encoding: UTF-8\n",
       "Language: en\n",
       "Country: null\n",
       "--></g></svg>"
      ]
     },
     "execution_count": 43,
     "metadata": {},
     "output_type": "execute_result"
    }
   ],
   "source": [
    "%viz --style=\"DEFAULT\" --view=\"MIXED\" \"ActionTest\""
   ]
  },
  {
   "cell_type": "code",
   "execution_count": 44,
   "id": "e063320c",
   "metadata": {
    "execution": {
     "iopub.execute_input": "2021-09-27T07:16:57.714662Z",
     "iopub.status.busy": "2021-09-27T07:16:57.714236Z",
     "iopub.status.idle": "2021-09-27T07:16:57.754139Z",
     "shell.execute_reply": "2021-09-27T07:16:57.752831Z"
    }
   },
   "outputs": [
    {
     "data": {
      "image/svg+xml": [
       "<?xml version=\"1.0\" encoding=\"UTF-8\" standalone=\"no\"?><svg xmlns=\"http://www.w3.org/2000/svg\" xmlns:xlink=\"http://www.w3.org/1999/xlink\" contentScriptType=\"application/ecmascript\" contentStyleType=\"text/css\" height=\"684px\" preserveAspectRatio=\"none\" style=\"width:518px;height:684px;\" version=\"1.1\" viewBox=\"0 0 518 684\" width=\"518px\" zoomAndPan=\"magnify\"><defs/><g><!--MD5=[fbc87193dbaf4d95561dea2c320d4a47]\n",
       "cluster E1--><a href=\"psysml:a2683da9-1b6e-41fc-828a-cc7d1e5b2935\" target=\"_top\" title=\"psysml:a2683da9-1b6e-41fc-828a-cc7d1e5b2935\" xlink:actuate=\"onRequest\" xlink:href=\"psysml:a2683da9-1b6e-41fc-828a-cc7d1e5b2935\" xlink:show=\"new\" xlink:title=\"psysml:a2683da9-1b6e-41fc-828a-cc7d1e5b2935\" xlink:type=\"simple\"><polygon fill=\"#FFFFFF\" points=\"16,6,96,6,103,28.2969,496,28.2969,496,672,16,672,16,6\" style=\"stroke: #000000; stroke-width: 1.5;\"/><line style=\"stroke: #000000; stroke-width: 1.5;\" x1=\"16\" x2=\"103\" y1=\"28.2969\" y2=\"28.2969\"/><text fill=\"#000000\" font-family=\"sans-serif\" font-size=\"14\" font-weight=\"bold\" lengthAdjust=\"spacingAndGlyphs\" textLength=\"74\" x=\"20\" y=\"20.9951\">ActionTest</text></a><!--MD5=[d5e69f78d87373223dbae638b30a9c99]\n",
       "cluster E3--><a href=\"psysml:88e0a3c5-b7f9-4d13-8306-ae5e61691436\" target=\"_top\" title=\"psysml:88e0a3c5-b7f9-4d13-8306-ae5e61691436\" xlink:actuate=\"onRequest\" xlink:href=\"psysml:88e0a3c5-b7f9-4d13-8306-ae5e61691436\" xlink:show=\"new\" xlink:title=\"psysml:88e0a3c5-b7f9-4d13-8306-ae5e61691436\" xlink:type=\"simple\"><rect fill=\"#FFFFFF\" height=\"599\" id=\"E3\" rx=\"10\" ry=\"10\" style=\"stroke: #383838; stroke-width: 1.5;\" width=\"209\" x=\"263\" y=\"49\"/><rect fill=\"#F8F8F8\" height=\"37.9375\" rx=\"10\" ry=\"10\" style=\"stroke: #F8F8F8; stroke-width: 1.5;\" width=\"209\" x=\"263\" y=\"49\"/><rect fill=\"#F8F8F8\" height=\"10\" style=\"stroke: #F8F8F8; stroke-width: 1.5;\" width=\"209\" x=\"263\" y=\"76.9375\"/><rect fill=\"none\" height=\"599\" id=\"E3\" rx=\"10\" ry=\"10\" style=\"stroke: #383838; stroke-width: 1.5;\" width=\"209\" x=\"263\" y=\"49\"/><text fill=\"#000000\" font-family=\"sans-serif\" font-size=\"12\" font-style=\"italic\" lengthAdjust=\"spacingAndGlyphs\" textLength=\"53\" x=\"341\" y=\"65.1387\">«action»</text><text fill=\"#000000\" font-family=\"sans-serif\" font-size=\"12\" lengthAdjust=\"spacingAndGlyphs\" textLength=\"8\" x=\"363.5\" y=\"79.1074\">a</text><line style=\"stroke: #383838; stroke-width: 1.0;\" x1=\"263\" x2=\"472\" y1=\"86.9375\" y2=\"86.9375\"/></a><!--MD5=[b4997ac47864f28c2f74865a473b2911]\n",
       "class E2--><a href=\"psysml:9c87d4ab-cb1d-4b31-8fcd-81209805f4cd\" target=\"_top\" title=\"psysml:9c87d4ab-cb1d-4b31-8fcd-81209805f4cd\" xlink:actuate=\"onRequest\" xlink:href=\"psysml:9c87d4ab-cb1d-4b31-8fcd-81209805f4cd\" xlink:show=\"new\" xlink:title=\"psysml:9c87d4ab-cb1d-4b31-8fcd-81209805f4cd\" xlink:type=\"simple\"><rect fill=\"#FFFFFF\" height=\"45.9375\" id=\"E2\" style=\"stroke: #383838; stroke-width: 1.5;\" width=\"95\" x=\"151.5\" y=\"87\"/><text fill=\"#000000\" font-family=\"sans-serif\" font-size=\"12\" font-style=\"italic\" lengthAdjust=\"spacingAndGlyphs\" textLength=\"93\" x=\"152.5\" y=\"103.1387\">«attribute def»</text><text fill=\"#000000\" font-family=\"sans-serif\" font-size=\"12\" lengthAdjust=\"spacingAndGlyphs\" textLength=\"8\" x=\"195\" y=\"117.1074\">S</text><line style=\"stroke: #383838; stroke-width: 1.5;\" x1=\"152.5\" x2=\"245.5\" y1=\"124.9375\" y2=\"124.9375\"/></a><polygon fill=\"#F8F8F8\" points=\"420,194,432,206,420,218,408,206,420,194\" style=\"stroke: #383838; stroke-width: 1.5;\"/><!--MD5=[21dd76c19d33815960c0e92fef8f0eef]\n",
       "entity E5--><a href=\"psysml:56f9bc80-23d6-47f0-bfbf-c5e902f86ac6\" target=\"_top\" title=\"psysml:56f9bc80-23d6-47f0-bfbf-c5e902f86ac6\" xlink:actuate=\"onRequest\" xlink:href=\"psysml:56f9bc80-23d6-47f0-bfbf-c5e902f86ac6\" xlink:show=\"new\" xlink:title=\"psysml:56f9bc80-23d6-47f0-bfbf-c5e902f86ac6\" xlink:type=\"simple\"><polygon fill=\"#F8F8F8\" points=\"279,279,279,333.5938,419,333.5938,399,306.2969,419,279\" style=\"stroke: #000000; stroke-width: 1.5;\"/><text fill=\"#000000\" font-family=\"sans-serif\" font-size=\"14\" font-style=\"italic\" lengthAdjust=\"spacingAndGlyphs\" textLength=\"111\" x=\"286\" y=\"301.9951\">«accept action»</text><text fill=\"#000000\" font-family=\"sans-serif\" font-size=\"14\" lengthAdjust=\"spacingAndGlyphs\" textLength=\"9\" x=\"337\" y=\"319.292\">S</text></a><!--MD5=[24d87cdf3002d433f401b2a2aa9f9f65]\n",
       "entity E6--><a href=\"psysml:baf32606-26e9-4cc3-a29f-e775486b01d7\" target=\"_top\" title=\"psysml:baf32606-26e9-4cc3-a29f-e775486b01d7\" xlink:actuate=\"onRequest\" xlink:href=\"psysml:baf32606-26e9-4cc3-a29f-e775486b01d7\" xlink:show=\"new\" xlink:title=\"psysml:baf32606-26e9-4cc3-a29f-e775486b01d7\" xlink:type=\"simple\"><polygon fill=\"#F8F8F8\" points=\"279,411,279,465.5938,387,465.5938,407,438.2969,387,411\" style=\"stroke: #000000; stroke-width: 1.5;\"/><text fill=\"#000000\" font-family=\"sans-serif\" font-size=\"14\" font-style=\"italic\" lengthAdjust=\"spacingAndGlyphs\" textLength=\"99\" x=\"286\" y=\"433.9951\">«send action»</text><text fill=\"#000000\" font-family=\"sans-serif\" font-size=\"14\" lengthAdjust=\"spacingAndGlyphs\" textLength=\"65\" x=\"303\" y=\"451.292\">S() to  B()</text></a><polygon fill=\"#F8F8F8\" points=\"418,527,430,539,418,551,406,539,418,527\" style=\"stroke: #383838; stroke-width: 1.5;\"/><ellipse cx=\"420\" cy=\"110\" fill=\"#000000\" rx=\"10\" ry=\"10\" style=\"stroke: none; stroke-width: 1.0;\"/><ellipse cx=\"418\" cy=\"622\" fill=\"none\" rx=\"10\" ry=\"10\" style=\"stroke: #000000; stroke-width: 1.0;\"/><ellipse cx=\"418.5\" cy=\"622.5\" fill=\"#000000\" rx=\"6\" ry=\"6\" style=\"stroke: none; stroke-width: 1.0;\"/><g id=\"E1.E8\"><a href=\"psysml:79d3a6ab-38cc-49fb-ab8f-d1828ed09a3c\" target=\"_top\" title=\"psysml:79d3a6ab-38cc-49fb-ab8f-d1828ed09a3c\" xlink:actuate=\"onRequest\" xlink:href=\"psysml:79d3a6ab-38cc-49fb-ab8f-d1828ed09a3c\" xlink:show=\"new\" xlink:title=\"psysml:79d3a6ab-38cc-49fb-ab8f-d1828ed09a3c\" xlink:type=\"simple\"><rect fill=\"#FFFFFF\" height=\"42.9375\" id=\"E8\" style=\"stroke: #383838; stroke-width: 1.5;\" width=\"84\" x=\"32\" y=\"88.5\"/><rect fill=\"#F8F8F8\" height=\"37.9375\" style=\"stroke: #383838; stroke-width: 1.5;\" width=\"84\" x=\"32\" y=\"88.5\"/><text fill=\"#000000\" font-family=\"sans-serif\" font-size=\"12\" font-style=\"italic\" lengthAdjust=\"spacingAndGlyphs\" textLength=\"77\" x=\"35.5\" y=\"104.6387\">«action def»</text><text fill=\"#000000\" font-family=\"sans-serif\" font-size=\"12\" lengthAdjust=\"spacingAndGlyphs\" textLength=\"8\" x=\"70\" y=\"118.6074\">B</text></a></g><!--MD5=[f47e10efcf9a6752d55dae986d790ed9]\n",
       "link *start*E3 to E4--><a href=\"psysml:fb7d5adc-5880-4810-9813-86e53c07f96a\" target=\"_top\" title=\"psysml:fb7d5adc-5880-4810-9813-86e53c07f96a\" xlink:actuate=\"onRequest\" xlink:href=\"psysml:fb7d5adc-5880-4810-9813-86e53c07f96a\" xlink:show=\"new\" xlink:title=\"psysml:fb7d5adc-5880-4810-9813-86e53c07f96a\" xlink:type=\"simple\"><path d=\"M420,120.01 C420,135.81 420,168.69 420,188.61 \" fill=\"none\" id=\"*start*E3-&gt;E4\" style=\"stroke: #383838; stroke-width: 1.0;\"/><polygon fill=\"#383838\" points=\"420,193.85,424,184.85,420,188.85,416,184.85,420,193.85\" style=\"stroke: #383838; stroke-width: 1.0;\"/></a><!--MD5=[d19f2eb34364d71b67042106d92f540b]\n",
       "link E7 to *end*E3--><a href=\"psysml:c9de1ce8-1045-4471-9685-45647676290c\" target=\"_top\" title=\"psysml:c9de1ce8-1045-4471-9685-45647676290c\" xlink:actuate=\"onRequest\" xlink:href=\"psysml:c9de1ce8-1045-4471-9685-45647676290c\" xlink:show=\"new\" xlink:title=\"psysml:c9de1ce8-1045-4471-9685-45647676290c\" xlink:type=\"simple\"><path d=\"M418,551.26 C418,565.66 418,590.63 418,606.46 \" fill=\"none\" id=\"E7-&gt;*end*E3\" style=\"stroke: #383838; stroke-width: 1.0;\"/><polygon fill=\"#383838\" points=\"418,611.84,422,602.84,418,606.84,414,602.84,418,611.84\" style=\"stroke: #383838; stroke-width: 1.0;\"/></a><!--MD5=[1b7591eae5389033d8d09a9d6721a717]\n",
       "link E4 to E5--><a href=\"psysml:674af9b4-5477-4a2d-9c32-c1d49aef2cdc\" target=\"_top\" title=\"psysml:674af9b4-5477-4a2d-9c32-c1d49aef2cdc\" xlink:actuate=\"onRequest\" xlink:href=\"psysml:674af9b4-5477-4a2d-9c32-c1d49aef2cdc\" xlink:show=\"new\" xlink:title=\"psysml:674af9b4-5477-4a2d-9c32-c1d49aef2cdc\" xlink:type=\"simple\"><path d=\"M415.34,213.46 C406.55,225.66 386.99,252.8 371.37,274.46 \" fill=\"none\" id=\"E4-&gt;E5\" style=\"stroke: #383838; stroke-width: 1.0;\"/><polygon fill=\"#383838\" points=\"368.31,278.71,376.8093,273.7339,371.227,274.6491,370.3119,269.0667,368.31,278.71\" style=\"stroke: #383838; stroke-width: 1.0;\"/><text fill=\"#000000\" font-family=\"sans-serif\" font-size=\"13\" lengthAdjust=\"spacingAndGlyphs\" textLength=\"7\" x=\"364.7684\" y=\"268.1162\">*</text></a><!--MD5=[9120cf2e5df3bff93db8f754bbbc09b4]\n",
       "link E5 to E6--><a href=\"psysml:f1d57d75-7b92-4f65-894e-3c0dce6664b2\" target=\"_top\" title=\"psysml:f1d57d75-7b92-4f65-894e-3c0dce6664b2\" xlink:actuate=\"onRequest\" xlink:href=\"psysml:f1d57d75-7b92-4f65-894e-3c0dce6664b2\" xlink:show=\"new\" xlink:title=\"psysml:f1d57d75-7b92-4f65-894e-3c0dce6664b2\" xlink:type=\"simple\"><path d=\"M347.77,334.12 C346.81,354.89 345.48,383.8 344.46,405.77 \" fill=\"none\" id=\"E5-&gt;E6\" style=\"stroke: #383838; stroke-width: 1.0;\"/><polygon fill=\"#383838\" points=\"344.23,410.91,348.6368,402.1021,344.4583,405.9152,340.6452,401.7367,344.23,410.91\" style=\"stroke: #383838; stroke-width: 1.0;\"/><text fill=\"#000000\" font-family=\"sans-serif\" font-size=\"13\" lengthAdjust=\"spacingAndGlyphs\" textLength=\"7\" x=\"336.7051\" y=\"399.9247\">*</text></a><!--MD5=[02c70b7c851c11e3980e4e90450dc5dd]\n",
       "link E6 to E7--><a href=\"psysml:5bbe4286-aec7-454e-8b07-ff0b44373e66\" target=\"_top\" title=\"psysml:5bbe4286-aec7-454e-8b07-ff0b44373e66\" xlink:actuate=\"onRequest\" xlink:href=\"psysml:5bbe4286-aec7-454e-8b07-ff0b44373e66\" xlink:show=\"new\" xlink:title=\"psysml:5bbe4286-aec7-454e-8b07-ff0b44373e66\" xlink:type=\"simple\"><path d=\"M363.3,466.16 C378.71,486.4 399.07,513.14 410.09,527.61 \" fill=\"none\" id=\"E6-&gt;E7\" style=\"stroke: #383838; stroke-width: 1.0;\"/><polygon fill=\"#383838\" points=\"413.2,531.69,410.9398,522.104,410.1749,527.7089,404.57,526.9441,413.2,531.69\" style=\"stroke: #383838; stroke-width: 1.0;\"/><text fill=\"#000000\" font-family=\"sans-serif\" font-size=\"13\" lengthAdjust=\"spacingAndGlyphs\" textLength=\"7\" x=\"398.9375\" y=\"515.8563\">*</text></a><!--MD5=[6bdd27f9905911a7e892a3dc65cf6b7c]\n",
       "link E7 to E4--><a href=\"psysml:df5824e0-bb07-4266-b9ed-97217b9e7a59\" target=\"_top\" title=\"psysml:df5824e0-bb07-4266-b9ed-97217b9e7a59\" xlink:actuate=\"onRequest\" xlink:href=\"psysml:df5824e0-bb07-4266-b9ed-97217b9e7a59\" xlink:show=\"new\" xlink:title=\"psysml:df5824e0-bb07-4266-b9ed-97217b9e7a59\" xlink:type=\"simple\"><path d=\"M419.98,528.56 C426.8,494.71 448.32,376.18 437,279 C434.59,258.32 428.42,234.96 424.21,220.61 \" fill=\"none\" id=\"E7-&gt;E4\" style=\"stroke: #383838; stroke-width: 1.0;\"/><polygon fill=\"#383838\" points=\"422.76,215.75,421.4935,225.5171,424.1863,220.5423,429.1611,223.2351,422.76,215.75\" style=\"stroke: #383838; stroke-width: 1.0;\"/><text fill=\"#000000\" font-family=\"sans-serif\" font-size=\"13\" lengthAdjust=\"spacingAndGlyphs\" textLength=\"36\" x=\"440\" y=\"377.0669\">[true]</text><text fill=\"#000000\" font-family=\"sans-serif\" font-size=\"13\" lengthAdjust=\"spacingAndGlyphs\" textLength=\"7\" x=\"415.3253\" y=\"237.9903\">*</text></a><!--MD5=[378a8a0b302c7f38fd39dc710f92b5c6]\n",
       "@startuml\r\n",
       "top to bottom direction\r\n",
       "skinparam monochrome true\r\n",
       "skinparam classbackgroundcolor white\r\n",
       "skinparam shadowing false\r\n",
       "skinparam wrapWidth 300\r\n",
       "hide circle\r\n",
       "\r\n",
       "package \"ActionTest\" as E1  [[psysml:a2683da9-1b6e-41fc-828a-cc7d1e5b2935 ]]  {\r\n",
       "comp def \"S\" as E2  <<(T,blue) attribute def>> [[psysml:9c87d4ab-cb1d-4b31-8fcd-81209805f4cd ]] {\r\n",
       "}\r\n",
       "rec usage \"a\" as E3  <<(T,blue) action>> [[psysml:88e0a3c5-b7f9-4d13-8306-ae5e61691436 ]] {\r\n",
       "choice \"m\" as E4  [[psysml:207ebb71-0108-47ac-8eb2-03003f2402f5 ]] \r\n",
       "accept \" S\" as E5 << accept action>> [[psysml:56f9bc80-23d6-47f0-bfbf-c5e902f86ac6 ]] \r\n",
       "send \" S() to  B()\" as E6 << send action>> [[psysml:baf32606-26e9-4cc3-a29f-e775486b01d7 ]] \r\n",
       "choice \"<s>noname</s>\" as E7  [[psysml:de118d49-a158-4609-b10e-b605b2688318 ]] \r\n",
       "[*] - -> E4 [[psysml:fb7d5adc-5880-4810-9813-86e53c07f96a ]] \r\n",
       "E7  - -> [*] [[psysml:c9de1ce8-1045-4471-9685-45647676290c ]] \r\n",
       "}\r\n",
       "\r\n",
       "rec def \"B\" as E8  <<(T,blue) action def>> [[psysml:79d3a6ab-38cc-49fb-ab8f-d1828ed09a3c ]] {\r\n",
       "}\r\n",
       "\r\n",
       "}\r\n",
       "E4 - -> \"*\"E5 [[psysml:674af9b4-5477-4a2d-9c32-c1d49aef2cdc ]] \r\n",
       "E5 - -> \"*\"E6 [[psysml:f1d57d75-7b92-4f65-894e-3c0dce6664b2 ]] \r\n",
       "E6 - -> \"*\"E7 [[psysml:5bbe4286-aec7-454e-8b07-ff0b44373e66 ]] \r\n",
       "E7  - -> \"*\"E4 [[psysml:df5824e0-bb07-4266-b9ed-97217b9e7a59 ]] : [true]\r\n",
       "@enduml\r\n",
       "\n",
       "PlantUML version 1.2020.13(Sat Jun 13 12:26:38 UTC 2020)\n",
       "(EPL source distribution)\n",
       "Java Runtime: OpenJDK Runtime Environment\n",
       "JVM: OpenJDK 64-Bit Server VM\n",
       "Default Encoding: UTF-8\n",
       "Language: en\n",
       "Country: null\n",
       "--></g></svg>"
      ]
     },
     "execution_count": 44,
     "metadata": {},
     "output_type": "execute_result"
    }
   ],
   "source": [
    "%viz --style=\"TB\" --view=\"Default\" \"ActionTest\""
   ]
  },
  {
   "cell_type": "code",
   "execution_count": 45,
   "id": "cb89cff3",
   "metadata": {
    "execution": {
     "iopub.execute_input": "2021-09-27T07:16:57.803658Z",
     "iopub.status.busy": "2021-09-27T07:16:57.803251Z",
     "iopub.status.idle": "2021-09-27T07:16:57.838421Z",
     "shell.execute_reply": "2021-09-27T07:16:57.837114Z"
    }
   },
   "outputs": [
    {
     "data": {
      "image/svg+xml": [
       "<?xml version=\"1.0\" encoding=\"UTF-8\" standalone=\"no\"?><svg xmlns=\"http://www.w3.org/2000/svg\" xmlns:xlink=\"http://www.w3.org/1999/xlink\" contentScriptType=\"application/ecmascript\" contentStyleType=\"text/css\" height=\"327px\" preserveAspectRatio=\"none\" style=\"width:677px;height:327px;\" version=\"1.1\" viewBox=\"0 0 677 327\" width=\"677px\" zoomAndPan=\"magnify\"><defs/><g><!--MD5=[fbc87193dbaf4d95561dea2c320d4a47]\n",
       "cluster E1--><a href=\"psysml:a2683da9-1b6e-41fc-828a-cc7d1e5b2935\" target=\"_top\" title=\"psysml:a2683da9-1b6e-41fc-828a-cc7d1e5b2935\" xlink:actuate=\"onRequest\" xlink:href=\"psysml:a2683da9-1b6e-41fc-828a-cc7d1e5b2935\" xlink:show=\"new\" xlink:title=\"psysml:a2683da9-1b6e-41fc-828a-cc7d1e5b2935\" xlink:type=\"simple\"><polygon fill=\"#FFFFFF\" points=\"16,6,96,6,103,28.2969,655,28.2969,655,315,16,315,16,6\" style=\"stroke: #000000; stroke-width: 1.5;\"/><line style=\"stroke: #000000; stroke-width: 1.5;\" x1=\"16\" x2=\"103\" y1=\"28.2969\" y2=\"28.2969\"/><text fill=\"#000000\" font-family=\"sans-serif\" font-size=\"14\" font-weight=\"bold\" lengthAdjust=\"spacingAndGlyphs\" textLength=\"74\" x=\"20\" y=\"20.9951\">ActionTest</text></a><!--MD5=[b4997ac47864f28c2f74865a473b2911]\n",
       "class E2--><a href=\"psysml:9c87d4ab-cb1d-4b31-8fcd-81209805f4cd\" target=\"_top\" title=\"psysml:9c87d4ab-cb1d-4b31-8fcd-81209805f4cd\" xlink:actuate=\"onRequest\" xlink:href=\"psysml:9c87d4ab-cb1d-4b31-8fcd-81209805f4cd\" xlink:show=\"new\" xlink:title=\"psysml:9c87d4ab-cb1d-4b31-8fcd-81209805f4cd\" xlink:type=\"simple\"><rect fill=\"#FFFFFF\" height=\"45.9375\" id=\"E2\" style=\"stroke: #383838; stroke-width: 1.5;\" width=\"95\" x=\"278.5\" y=\"253\"/><text fill=\"#000000\" font-family=\"sans-serif\" font-size=\"12\" font-style=\"italic\" lengthAdjust=\"spacingAndGlyphs\" textLength=\"93\" x=\"279.5\" y=\"269.1387\">«attribute def»</text><text fill=\"#000000\" font-family=\"sans-serif\" font-size=\"12\" lengthAdjust=\"spacingAndGlyphs\" textLength=\"8\" x=\"322\" y=\"283.1074\">S</text><line style=\"stroke: #383838; stroke-width: 1.5;\" x1=\"279.5\" x2=\"372.5\" y1=\"290.9375\" y2=\"290.9375\"/></a><!--MD5=[09b614a08d8cba4a07c9adeb5e0fee81]\n",
       "class E3--><a href=\"psysml:88e0a3c5-b7f9-4d13-8306-ae5e61691436\" target=\"_top\" title=\"psysml:88e0a3c5-b7f9-4d13-8306-ae5e61691436\" xlink:actuate=\"onRequest\" xlink:href=\"psysml:88e0a3c5-b7f9-4d13-8306-ae5e61691436\" xlink:show=\"new\" xlink:title=\"psysml:88e0a3c5-b7f9-4d13-8306-ae5e61691436\" xlink:type=\"simple\"><rect fill=\"#FFFFFF\" height=\"45.9375\" id=\"E3\" rx=\"10\" ry=\"10\" style=\"stroke: #383838; stroke-width: 1.5;\" width=\"55\" x=\"298.5\" y=\"41\"/><text fill=\"#000000\" font-family=\"sans-serif\" font-size=\"12\" font-style=\"italic\" lengthAdjust=\"spacingAndGlyphs\" textLength=\"53\" x=\"299.5\" y=\"57.1387\">«action»</text><text fill=\"#000000\" font-family=\"sans-serif\" font-size=\"12\" lengthAdjust=\"spacingAndGlyphs\" textLength=\"8\" x=\"322\" y=\"71.1074\">a</text><line style=\"stroke: #383838; stroke-width: 1.5;\" x1=\"299.5\" x2=\"352.5\" y1=\"78.9375\" y2=\"78.9375\"/></a><!--MD5=[ebbe1d658d1005bcc118a6aa81145e00]\n",
       "class E4--><a href=\"psysml:ed24d8b9-3ec6-4590-a85f-1d8fbc6b009f\" target=\"_top\" title=\"psysml:ed24d8b9-3ec6-4590-a85f-1d8fbc6b009f\" xlink:actuate=\"onRequest\" xlink:href=\"psysml:ed24d8b9-3ec6-4590-a85f-1d8fbc6b009f\" xlink:show=\"new\" xlink:title=\"psysml:ed24d8b9-3ec6-4590-a85f-1d8fbc6b009f\" xlink:type=\"simple\"><rect fill=\"#FFFFFF\" height=\"45.9375\" id=\"E4\" rx=\"10\" ry=\"10\" style=\"stroke: #383838; stroke-width: 1.5;\" width=\"83\" x=\"32.5\" y=\"147\"/><text fill=\"#000000\" font-family=\"sans-serif\" font-size=\"12\" font-style=\"italic\" lengthAdjust=\"spacingAndGlyphs\" textLength=\"53\" x=\"47.5\" y=\"163.1387\">«action»</text><text fill=\"#000000\" font-family=\"sans-serif\" font-size=\"12\" lengthAdjust=\"spacingAndGlyphs\" textLength=\"77\" x=\"35.5\" y=\"177.1074\">start: Action</text><line style=\"stroke: #383838; stroke-width: 1.5;\" x1=\"33.5\" x2=\"114.5\" y1=\"184.9375\" y2=\"184.9375\"/></a><!--MD5=[270fce915f116d4de14055a7c1d9a0f3]\n",
       "class E5--><a href=\"psysml:207ebb71-0108-47ac-8eb2-03003f2402f5\" target=\"_top\" title=\"psysml:207ebb71-0108-47ac-8eb2-03003f2402f5\" xlink:actuate=\"onRequest\" xlink:href=\"psysml:207ebb71-0108-47ac-8eb2-03003f2402f5\" xlink:show=\"new\" xlink:title=\"psysml:207ebb71-0108-47ac-8eb2-03003f2402f5\" xlink:type=\"simple\"><rect fill=\"#FFFFFF\" height=\"45.9375\" id=\"E5\" rx=\"10\" ry=\"10\" style=\"stroke: #383838; stroke-width: 1.5;\" width=\"89\" x=\"150.5\" y=\"147\"/><text fill=\"#000000\" font-family=\"sans-serif\" font-size=\"12\" font-style=\"italic\" lengthAdjust=\"spacingAndGlyphs\" textLength=\"87\" x=\"151.5\" y=\"163.1387\">«mergeNode»</text><text fill=\"#000000\" font-family=\"sans-serif\" font-size=\"12\" lengthAdjust=\"spacingAndGlyphs\" textLength=\"11\" x=\"189.5\" y=\"177.1074\">m</text><line style=\"stroke: #383838; stroke-width: 1.5;\" x1=\"151.5\" x2=\"238.5\" y1=\"184.9375\" y2=\"184.9375\"/></a><!--MD5=[60a26617385b1d2d0262a64233df1f8d]\n",
       "class E6--><a href=\"psysml:56f9bc80-23d6-47f0-bfbf-c5e902f86ac6\" target=\"_top\" title=\"psysml:56f9bc80-23d6-47f0-bfbf-c5e902f86ac6\" xlink:actuate=\"onRequest\" xlink:href=\"psysml:56f9bc80-23d6-47f0-bfbf-c5e902f86ac6\" xlink:show=\"new\" xlink:title=\"psysml:56f9bc80-23d6-47f0-bfbf-c5e902f86ac6\" xlink:type=\"simple\"><rect fill=\"#FFFFFF\" height=\"45.9375\" id=\"E6\" rx=\"10\" ry=\"10\" style=\"stroke: #383838; stroke-width: 1.5;\" width=\"102\" x=\"275\" y=\"147\"/><text fill=\"#000000\" font-family=\"sans-serif\" font-size=\"12\" font-style=\"italic\" lengthAdjust=\"spacingAndGlyphs\" textLength=\"100\" x=\"276\" y=\"163.1387\">«accept action»</text><text fill=\"#000000\" font-family=\"sans-serif\" font-size=\"12\" lengthAdjust=\"spacingAndGlyphs\" text-decoration=\"line-through\" textLength=\"51\" x=\"300.5\" y=\"177.1074\">noname</text><line style=\"stroke: #383838; stroke-width: 1.5;\" x1=\"276\" x2=\"376\" y1=\"184.9375\" y2=\"184.9375\"/></a><!--MD5=[2156ba9850f5573cc1fc38a6a4b2f02b]\n",
       "class E7--><a href=\"psysml:baf32606-26e9-4cc3-a29f-e775486b01d7\" target=\"_top\" title=\"psysml:baf32606-26e9-4cc3-a29f-e775486b01d7\" xlink:actuate=\"onRequest\" xlink:href=\"psysml:baf32606-26e9-4cc3-a29f-e775486b01d7\" xlink:show=\"new\" xlink:title=\"psysml:baf32606-26e9-4cc3-a29f-e775486b01d7\" xlink:type=\"simple\"><rect fill=\"#FFFFFF\" height=\"45.9375\" id=\"E7\" rx=\"10\" ry=\"10\" style=\"stroke: #383838; stroke-width: 1.5;\" width=\"90\" x=\"412\" y=\"147\"/><text fill=\"#000000\" font-family=\"sans-serif\" font-size=\"12\" font-style=\"italic\" lengthAdjust=\"spacingAndGlyphs\" textLength=\"88\" x=\"413\" y=\"163.1387\">«send action»</text><text fill=\"#000000\" font-family=\"sans-serif\" font-size=\"12\" lengthAdjust=\"spacingAndGlyphs\" text-decoration=\"line-through\" textLength=\"51\" x=\"431.5\" y=\"177.1074\">noname</text><line style=\"stroke: #383838; stroke-width: 1.5;\" x1=\"413\" x2=\"501\" y1=\"184.9375\" y2=\"184.9375\"/></a><!--MD5=[b9389687b975829384b498ac4b7476b2]\n",
       "class E8--><a href=\"psysml:de118d49-a158-4609-b10e-b605b2688318\" target=\"_top\" title=\"psysml:de118d49-a158-4609-b10e-b605b2688318\" xlink:actuate=\"onRequest\" xlink:href=\"psysml:de118d49-a158-4609-b10e-b605b2688318\" xlink:show=\"new\" xlink:title=\"psysml:de118d49-a158-4609-b10e-b605b2688318\" xlink:type=\"simple\"><rect fill=\"#FFFFFF\" height=\"45.9375\" id=\"E8\" rx=\"10\" ry=\"10\" style=\"stroke: #383838; stroke-width: 1.5;\" width=\"101\" x=\"537.5\" y=\"147\"/><text fill=\"#000000\" font-family=\"sans-serif\" font-size=\"12\" font-style=\"italic\" lengthAdjust=\"spacingAndGlyphs\" textLength=\"99\" x=\"538.5\" y=\"163.1387\">«decisionNode»</text><text fill=\"#000000\" font-family=\"sans-serif\" font-size=\"12\" lengthAdjust=\"spacingAndGlyphs\" text-decoration=\"line-through\" textLength=\"51\" x=\"562.5\" y=\"177.1074\">noname</text><line style=\"stroke: #383838; stroke-width: 1.5;\" x1=\"538.5\" x2=\"637.5\" y1=\"184.9375\" y2=\"184.9375\"/></a><!--MD5=[fd4143e9d270a159db93a4ea2a975926]\n",
       "class E9--><a href=\"psysml:79d3a6ab-38cc-49fb-ab8f-d1828ed09a3c\" target=\"_top\" title=\"psysml:79d3a6ab-38cc-49fb-ab8f-d1828ed09a3c\" xlink:actuate=\"onRequest\" xlink:href=\"psysml:79d3a6ab-38cc-49fb-ab8f-d1828ed09a3c\" xlink:show=\"new\" xlink:title=\"psysml:79d3a6ab-38cc-49fb-ab8f-d1828ed09a3c\" xlink:type=\"simple\"><rect fill=\"#FFFFFF\" height=\"45.9375\" id=\"E9\" style=\"stroke: #383838; stroke-width: 1.5;\" width=\"79\" x=\"108.5\" y=\"41\"/><text fill=\"#000000\" font-family=\"sans-serif\" font-size=\"12\" font-style=\"italic\" lengthAdjust=\"spacingAndGlyphs\" textLength=\"77\" x=\"109.5\" y=\"57.1387\">«action def»</text><text fill=\"#000000\" font-family=\"sans-serif\" font-size=\"12\" lengthAdjust=\"spacingAndGlyphs\" textLength=\"8\" x=\"144\" y=\"71.1074\">B</text><line style=\"stroke: #383838; stroke-width: 1.5;\" x1=\"109.5\" x2=\"186.5\" y1=\"78.9375\" y2=\"78.9375\"/></a><!--MD5=[4672eba38e49728da53d11aeb285b987]\n",
       "reverse link E3 to E4--><a href=\"psysml:2bdfcbda-067f-4f9a-98d2-dcf2fb74ea33\" target=\"_top\" title=\"psysml:2bdfcbda-067f-4f9a-98d2-dcf2fb74ea33\" xlink:actuate=\"onRequest\" xlink:href=\"psysml:2bdfcbda-067f-4f9a-98d2-dcf2fb74ea33\" xlink:show=\"new\" xlink:title=\"psysml:2bdfcbda-067f-4f9a-98d2-dcf2fb74ea33\" xlink:type=\"simple\"><path d=\"M283.98,82.34 C237.32,101.6 162.45,132.5 115.85,151.73 \" fill=\"none\" id=\"E3&lt;-E4\" style=\"stroke: #383838; stroke-width: 1.0; stroke-dasharray: 7.0,7.0;\"/><ellipse cx=\"290.6768\" cy=\"79.5863\" fill=\"#FFFFFF\" rx=\"8\" ry=\"8\" style=\"stroke: #383838; stroke-width: 1.0;\"/><line style=\"stroke: #383838; stroke-width: 1.0;\" x1=\"283.2837\" x2=\"298.07\" y1=\"82.6427\" y2=\"76.53\"/><line style=\"stroke: #383838; stroke-width: 1.0;\" x1=\"287.6205\" x2=\"293.7332\" y1=\"72.1932\" y2=\"86.9795\"/></a><!--MD5=[191cde3d490a3f6d7bb551fe3ddca469]\n",
       "reverse link E3 to E5--><a href=\"psysml:5bed3b2f-97a8-4cc2-a775-cf545f437587\" target=\"_top\" title=\"psysml:5bed3b2f-97a8-4cc2-a775-cf545f437587\" xlink:actuate=\"onRequest\" xlink:href=\"psysml:5bed3b2f-97a8-4cc2-a775-cf545f437587\" xlink:show=\"new\" xlink:title=\"psysml:5bed3b2f-97a8-4cc2-a775-cf545f437587\" xlink:type=\"simple\"><path d=\"M287.79,95.33 C266.97,111.86 241.66,131.95 222.74,146.98 \" fill=\"none\" id=\"E3&lt;-E5\" style=\"stroke: #383838; stroke-width: 1.0;\"/><polygon fill=\"#383838\" points=\"298.22,87.06,291.0341,87.6625,288.8265,94.5273,296.0123,93.9249,298.22,87.06\" style=\"stroke: #383838; stroke-width: 1.0;\"/><text fill=\"#000000\" font-family=\"sans-serif\" font-size=\"13\" lengthAdjust=\"spacingAndGlyphs\" textLength=\"7\" x=\"222.2545\" y=\"135.8709\">*</text></a><!--MD5=[1026b4b93417a13aa8999a858998add2]\n",
       "reverse link E3 to E6--><a href=\"psysml:856d4c40-3d8a-43fc-9608-49cee162593b\" target=\"_top\" title=\"psysml:856d4c40-3d8a-43fc-9608-49cee162593b\" xlink:actuate=\"onRequest\" xlink:href=\"psysml:856d4c40-3d8a-43fc-9608-49cee162593b\" xlink:show=\"new\" xlink:title=\"psysml:856d4c40-3d8a-43fc-9608-49cee162593b\" xlink:type=\"simple\"><path d=\"M326,100.44 C326,115.87 326,133.47 326,146.98 \" fill=\"none\" id=\"E3&lt;-E6\" style=\"stroke: #383838; stroke-width: 1.0;\"/><polygon fill=\"#383838\" points=\"326,87.06,322,93.06,326,99.06,330,93.06,326,87.06\" style=\"stroke: #383838; stroke-width: 1.0;\"/><text fill=\"#000000\" font-family=\"sans-serif\" font-size=\"13\" lengthAdjust=\"spacingAndGlyphs\" textLength=\"7\" x=\"318.0594\" y=\"135.8709\">*</text></a><!--MD5=[3403bfa781cc3da0fd423dbab6f01c63]\n",
       "reverse link E6 to E2--><a href=\"psysml:1accd303-612e-4d59-ad9b-f522e5e57a44\" target=\"_top\" title=\"psysml:1accd303-612e-4d59-ad9b-f522e5e57a44\" xlink:actuate=\"onRequest\" xlink:href=\"psysml:1accd303-612e-4d59-ad9b-f522e5e57a44\" xlink:show=\"new\" xlink:title=\"psysml:1accd303-612e-4d59-ad9b-f522e5e57a44\" xlink:type=\"simple\"><path d=\"M326,206.44 C326,221.87 326,239.47 326,252.98 \" fill=\"none\" id=\"E6&lt;-E2\" style=\"stroke: #383838; stroke-width: 1.0;\"/><polygon fill=\"#FFFFFF\" points=\"326,193.06,322,199.06,326,205.06,330,199.06,326,193.06\" style=\"stroke: #383838; stroke-width: 1.0;\"/></a><!--MD5=[85760999379eecfd2565a9fecdca67e4]\n",
       "reverse link E3 to E7--><a href=\"psysml:a7054211-8666-4154-9247-2ebed4d34e27\" target=\"_top\" title=\"psysml:a7054211-8666-4154-9247-2ebed4d34e27\" xlink:actuate=\"onRequest\" xlink:href=\"psysml:a7054211-8666-4154-9247-2ebed4d34e27\" xlink:show=\"new\" xlink:title=\"psysml:a7054211-8666-4154-9247-2ebed4d34e27\" xlink:type=\"simple\"><path d=\"M364.21,95.33 C385.03,111.86 410.34,131.95 429.26,146.98 \" fill=\"none\" id=\"E3&lt;-E7\" style=\"stroke: #383838; stroke-width: 1.0;\"/><polygon fill=\"#383838\" points=\"353.78,87.06,355.9877,93.9249,363.1735,94.5273,360.9659,87.6625,353.78,87.06\" style=\"stroke: #383838; stroke-width: 1.0;\"/><text fill=\"#000000\" font-family=\"sans-serif\" font-size=\"13\" lengthAdjust=\"spacingAndGlyphs\" textLength=\"7\" x=\"413.8642\" y=\"135.8709\">*</text></a><!--MD5=[4cb75b73ec3682b8f7f8edc9cc86126a]\n",
       "reverse link E3 to E8--><a href=\"psysml:6d3dd5fa-79f8-485d-9bbb-f558da8741e9\" target=\"_top\" title=\"psysml:6d3dd5fa-79f8-485d-9bbb-f558da8741e9\" xlink:actuate=\"onRequest\" xlink:href=\"psysml:6d3dd5fa-79f8-485d-9bbb-f558da8741e9\" xlink:show=\"new\" xlink:title=\"psysml:6d3dd5fa-79f8-485d-9bbb-f558da8741e9\" xlink:type=\"simple\"><path d=\"M365.63,80.73 C411.46,98.92 486.99,128.91 537.12,148.8 \" fill=\"none\" id=\"E3&lt;-E8\" style=\"stroke: #383838; stroke-width: 1.0;\"/><polygon fill=\"#383838\" points=\"353.54,75.93,357.6459,81.858,364.6971,80.348,360.5912,74.42,353.54,75.93\" style=\"stroke: #383838; stroke-width: 1.0;\"/></a><!--MD5=[f09e7a4d00588c442ba14d4704a38ea3]\n",
       "@startuml\r\n",
       "top to bottom direction\r\n",
       "skinparam monochrome true\r\n",
       "skinparam classbackgroundcolor white\r\n",
       "skinparam shadowing false\r\n",
       "skinparam wrapWidth 300\r\n",
       "hide circle\r\n",
       "\r\n",
       "package \"ActionTest\" as E1  [[psysml:a2683da9-1b6e-41fc-828a-cc7d1e5b2935 ]]  {\r\n",
       "comp def \"S\" as E2  <<(T,blue) attribute def>> [[psysml:9c87d4ab-cb1d-4b31-8fcd-81209805f4cd ]] {\r\n",
       "}\r\n",
       "comp usage \"a\" as E3  <<(T,blue) action>> [[psysml:88e0a3c5-b7f9-4d13-8306-ae5e61691436 ]] {\r\n",
       "}\r\n",
       "comp usage \"start: Action\" as E4  <<(T,blue) action>> [[psysml:ed24d8b9-3ec6-4590-a85f-1d8fbc6b009f ]] {\r\n",
       "}\r\n",
       "comp usage \"m\" as E5  <<(T,blue) mergeNode>> [[psysml:207ebb71-0108-47ac-8eb2-03003f2402f5 ]] {\r\n",
       "}\r\n",
       "comp usage \"<s>noname</s>\" as E6 << accept action>> [[psysml:56f9bc80-23d6-47f0-bfbf-c5e902f86ac6 ]] {\r\n",
       "}\r\n",
       "comp usage \"<s>noname</s>\" as E7 << send action>> [[psysml:baf32606-26e9-4cc3-a29f-e775486b01d7 ]] {\r\n",
       "}\r\n",
       "comp usage \"<s>noname</s>\" as E8  <<(T,blue) decisionNode>> [[psysml:de118d49-a158-4609-b10e-b605b2688318 ]] {\r\n",
       "}\r\n",
       "comp def \"B\" as E9  <<(T,blue) action def>> [[psysml:79d3a6ab-38cc-49fb-ab8f-d1828ed09a3c ]] {\r\n",
       "}\r\n",
       "}\r\n",
       "E3 +.. E4 [[psysml:2bdfcbda-067f-4f9a-98d2-dcf2fb74ea33 ]] \r\n",
       "E3 *- - \"*\"E5 [[psysml:5bed3b2f-97a8-4cc2-a775-cf545f437587 ]] \r\n",
       "E3 *- - \"*\"E6 [[psysml:856d4c40-3d8a-43fc-9608-49cee162593b ]] \r\n",
       "E6 o- - E2 [[psysml:1accd303-612e-4d59-ad9b-f522e5e57a44 ]] \r\n",
       "E3 *- - \"*\"E7 [[psysml:a7054211-8666-4154-9247-2ebed4d34e27 ]] \r\n",
       "E3 *- - E8 [[psysml:6d3dd5fa-79f8-485d-9bbb-f558da8741e9 ]] \r\n",
       "@enduml\r\n",
       "\n",
       "PlantUML version 1.2020.13(Sat Jun 13 12:26:38 UTC 2020)\n",
       "(EPL source distribution)\n",
       "Java Runtime: OpenJDK Runtime Environment\n",
       "JVM: OpenJDK 64-Bit Server VM\n",
       "Default Encoding: UTF-8\n",
       "Language: en\n",
       "Country: null\n",
       "--></g></svg>"
      ]
     },
     "execution_count": 45,
     "metadata": {},
     "output_type": "execute_result"
    }
   ],
   "source": [
    "%viz --style=\"TB\" --view=\"Tree\" \"ActionTest\""
   ]
  },
  {
   "cell_type": "code",
   "execution_count": 46,
   "id": "bd88f51b",
   "metadata": {
    "execution": {
     "iopub.execute_input": "2021-09-27T07:16:57.887897Z",
     "iopub.status.busy": "2021-09-27T07:16:57.887502Z",
     "iopub.status.idle": "2021-09-27T07:16:57.892375Z",
     "shell.execute_reply": "2021-09-27T07:16:57.892027Z"
    }
   },
   "outputs": [
    {
     "data": {
      "image/svg+xml": [
       "<?xml version=\"1.0\" encoding=\"UTF-8\" standalone=\"no\"?><svg xmlns=\"http://www.w3.org/2000/svg\" xmlns:xlink=\"http://www.w3.org/1999/xlink\" contentScriptType=\"application/ecmascript\" contentStyleType=\"text/css\" height=\"12px\" preserveAspectRatio=\"none\" style=\"width:12px;height:12px;\" version=\"1.1\" viewBox=\"0 0 12 12\" width=\"12px\" zoomAndPan=\"magnify\"><defs/><g><!--MD5=[f4ee21bc66e489b5061b7c3e9601fdef]\n",
       "@startuml\r\n",
       "top to bottom direction\r\n",
       "skinparam monochrome true\r\n",
       "skinparam classbackgroundcolor white\r\n",
       "skinparam shadowing false\r\n",
       "skinparam wrapWidth 300\r\n",
       "hide circle\r\n",
       "\r\n",
       "@enduml\r\n",
       "\n",
       "PlantUML version 1.2020.13(Sat Jun 13 12:26:38 UTC 2020)\n",
       "(EPL source distribution)\n",
       "Java Runtime: OpenJDK Runtime Environment\n",
       "JVM: OpenJDK 64-Bit Server VM\n",
       "Default Encoding: UTF-8\n",
       "Language: en\n",
       "Country: null\n",
       "--></g></svg>"
      ]
     },
     "execution_count": 46,
     "metadata": {},
     "output_type": "execute_result"
    }
   ],
   "source": [
    "%viz --style=\"TB\" --view=\"State\" \"ActionTest\""
   ]
  },
  {
   "cell_type": "code",
   "execution_count": 47,
   "id": "e38c5765",
   "metadata": {
    "execution": {
     "iopub.execute_input": "2021-09-27T07:16:57.942202Z",
     "iopub.status.busy": "2021-09-27T07:16:57.941771Z",
     "iopub.status.idle": "2021-09-27T07:16:57.988820Z",
     "shell.execute_reply": "2021-09-27T07:16:57.987566Z"
    }
   },
   "outputs": [
    {
     "data": {
      "image/svg+xml": [
       "<?xml version=\"1.0\" encoding=\"UTF-8\" standalone=\"no\"?><svg xmlns=\"http://www.w3.org/2000/svg\" xmlns:xlink=\"http://www.w3.org/1999/xlink\" contentScriptType=\"application/ecmascript\" contentStyleType=\"text/css\" height=\"462px\" preserveAspectRatio=\"none\" style=\"width:522px;height:462px;\" version=\"1.1\" viewBox=\"0 0 522 462\" width=\"522px\" zoomAndPan=\"magnify\"><defs/><g><!--MD5=[fbc87193dbaf4d95561dea2c320d4a47]\n",
       "cluster E1--><a href=\"psysml:a2683da9-1b6e-41fc-828a-cc7d1e5b2935\" target=\"_top\" title=\"psysml:a2683da9-1b6e-41fc-828a-cc7d1e5b2935\" xlink:actuate=\"onRequest\" xlink:href=\"psysml:a2683da9-1b6e-41fc-828a-cc7d1e5b2935\" xlink:show=\"new\" xlink:title=\"psysml:a2683da9-1b6e-41fc-828a-cc7d1e5b2935\" xlink:type=\"simple\"><polygon fill=\"#FFFFFF\" points=\"16,6,96,6,103,28.2969,500,28.2969,500,450.5,16,450.5,16,6\" style=\"stroke: #000000; stroke-width: 1.5;\"/><line style=\"stroke: #000000; stroke-width: 1.5;\" x1=\"16\" x2=\"103\" y1=\"28.2969\" y2=\"28.2969\"/><text fill=\"#000000\" font-family=\"sans-serif\" font-size=\"14\" font-weight=\"bold\" lengthAdjust=\"spacingAndGlyphs\" textLength=\"74\" x=\"20\" y=\"20.9951\">ActionTest</text></a><!--MD5=[d5e69f78d87373223dbae638b30a9c99]\n",
       "cluster E3--><a href=\"psysml:88e0a3c5-b7f9-4d13-8306-ae5e61691436\" target=\"_top\" title=\"psysml:88e0a3c5-b7f9-4d13-8306-ae5e61691436\" xlink:actuate=\"onRequest\" xlink:href=\"psysml:88e0a3c5-b7f9-4d13-8306-ae5e61691436\" xlink:show=\"new\" xlink:title=\"psysml:88e0a3c5-b7f9-4d13-8306-ae5e61691436\" xlink:type=\"simple\"><rect fill=\"#FFFFFF\" height=\"377.5\" id=\"E3\" rx=\"10\" ry=\"10\" style=\"stroke: #383838; stroke-width: 1.5;\" width=\"209\" x=\"267\" y=\"49\"/><rect fill=\"#F8F8F8\" height=\"37.9375\" rx=\"10\" ry=\"10\" style=\"stroke: #F8F8F8; stroke-width: 1.5;\" width=\"209\" x=\"267\" y=\"49\"/><rect fill=\"#F8F8F8\" height=\"10\" style=\"stroke: #F8F8F8; stroke-width: 1.5;\" width=\"209\" x=\"267\" y=\"76.9375\"/><rect fill=\"none\" height=\"377.5\" id=\"E3\" rx=\"10\" ry=\"10\" style=\"stroke: #383838; stroke-width: 1.5;\" width=\"209\" x=\"267\" y=\"49\"/><text fill=\"#000000\" font-family=\"sans-serif\" font-size=\"12\" font-style=\"italic\" lengthAdjust=\"spacingAndGlyphs\" textLength=\"53\" x=\"345\" y=\"65.1387\">«action»</text><text fill=\"#000000\" font-family=\"sans-serif\" font-size=\"12\" lengthAdjust=\"spacingAndGlyphs\" textLength=\"8\" x=\"367.5\" y=\"79.1074\">a</text><line style=\"stroke: #383838; stroke-width: 1.0;\" x1=\"267\" x2=\"476\" y1=\"86.9375\" y2=\"86.9375\"/></a><g id=\"E1.E2\"><a href=\"psysml:9c87d4ab-cb1d-4b31-8fcd-81209805f4cd\" target=\"_top\" title=\"psysml:9c87d4ab-cb1d-4b31-8fcd-81209805f4cd\" xlink:actuate=\"onRequest\" xlink:href=\"psysml:9c87d4ab-cb1d-4b31-8fcd-81209805f4cd\" xlink:show=\"new\" xlink:title=\"psysml:9c87d4ab-cb1d-4b31-8fcd-81209805f4cd\" xlink:type=\"simple\"><rect fill=\"#FFFFFF\" height=\"42.9375\" id=\"E2\" style=\"stroke: #383838; stroke-width: 1.5;\" width=\"100\" x=\"151\" y=\"88.5\"/><rect fill=\"#F8F8F8\" height=\"37.9375\" style=\"stroke: #383838; stroke-width: 1.5;\" width=\"100\" x=\"151\" y=\"88.5\"/><text fill=\"#000000\" font-family=\"sans-serif\" font-size=\"12\" font-style=\"italic\" lengthAdjust=\"spacingAndGlyphs\" textLength=\"93\" x=\"154.5\" y=\"104.6387\">«attribute def»</text><text fill=\"#000000\" font-family=\"sans-serif\" font-size=\"12\" lengthAdjust=\"spacingAndGlyphs\" textLength=\"8\" x=\"197\" y=\"118.6074\">S</text></a></g><polygon fill=\"#F8F8F8\" points=\"424,148.5,436,160.5,424,172.5,412,160.5,424,148.5\" style=\"stroke: #383838; stroke-width: 1.5;\"/><!--MD5=[21dd76c19d33815960c0e92fef8f0eef]\n",
       "entity E5--><a href=\"psysml:56f9bc80-23d6-47f0-bfbf-c5e902f86ac6\" target=\"_top\" title=\"psysml:56f9bc80-23d6-47f0-bfbf-c5e902f86ac6\" xlink:actuate=\"onRequest\" xlink:href=\"psysml:56f9bc80-23d6-47f0-bfbf-c5e902f86ac6\" xlink:show=\"new\" xlink:title=\"psysml:56f9bc80-23d6-47f0-bfbf-c5e902f86ac6\" xlink:type=\"simple\"><polygon fill=\"#F8F8F8\" points=\"283,189.5,283,244.0938,423,244.0938,403,216.7969,423,189.5\" style=\"stroke: #000000; stroke-width: 1.5;\"/><text fill=\"#000000\" font-family=\"sans-serif\" font-size=\"14\" font-style=\"italic\" lengthAdjust=\"spacingAndGlyphs\" textLength=\"111\" x=\"290\" y=\"212.4951\">«accept action»</text><text fill=\"#000000\" font-family=\"sans-serif\" font-size=\"14\" lengthAdjust=\"spacingAndGlyphs\" textLength=\"9\" x=\"341\" y=\"229.792\">S</text></a><!--MD5=[24d87cdf3002d433f401b2a2aa9f9f65]\n",
       "entity E6--><a href=\"psysml:baf32606-26e9-4cc3-a29f-e775486b01d7\" target=\"_top\" title=\"psysml:baf32606-26e9-4cc3-a29f-e775486b01d7\" xlink:actuate=\"onRequest\" xlink:href=\"psysml:baf32606-26e9-4cc3-a29f-e775486b01d7\" xlink:show=\"new\" xlink:title=\"psysml:baf32606-26e9-4cc3-a29f-e775486b01d7\" xlink:type=\"simple\"><polygon fill=\"#F8F8F8\" points=\"283,277.5,283,332.0938,391,332.0938,411,304.7969,391,277.5\" style=\"stroke: #000000; stroke-width: 1.5;\"/><text fill=\"#000000\" font-family=\"sans-serif\" font-size=\"14\" font-style=\"italic\" lengthAdjust=\"spacingAndGlyphs\" textLength=\"99\" x=\"290\" y=\"300.4951\">«send action»</text><text fill=\"#000000\" font-family=\"sans-serif\" font-size=\"14\" lengthAdjust=\"spacingAndGlyphs\" textLength=\"65\" x=\"307\" y=\"317.792\">S() to  B()</text></a><polygon fill=\"#F8F8F8\" points=\"422,349.5,434,361.5,422,373.5,410,361.5,422,349.5\" style=\"stroke: #383838; stroke-width: 1.5;\"/><ellipse cx=\"424\" cy=\"110\" fill=\"#000000\" rx=\"10\" ry=\"10\" style=\"stroke: none; stroke-width: 1.0;\"/><ellipse cx=\"422\" cy=\"400.5\" fill=\"none\" rx=\"10\" ry=\"10\" style=\"stroke: #000000; stroke-width: 1.0;\"/><ellipse cx=\"422.5\" cy=\"401\" fill=\"#000000\" rx=\"6\" ry=\"6\" style=\"stroke: none; stroke-width: 1.0;\"/><g id=\"E1.E8\"><a href=\"psysml:79d3a6ab-38cc-49fb-ab8f-d1828ed09a3c\" target=\"_top\" title=\"psysml:79d3a6ab-38cc-49fb-ab8f-d1828ed09a3c\" xlink:actuate=\"onRequest\" xlink:href=\"psysml:79d3a6ab-38cc-49fb-ab8f-d1828ed09a3c\" xlink:show=\"new\" xlink:title=\"psysml:79d3a6ab-38cc-49fb-ab8f-d1828ed09a3c\" xlink:type=\"simple\"><rect fill=\"#FFFFFF\" height=\"42.9375\" id=\"E8\" style=\"stroke: #383838; stroke-width: 1.5;\" width=\"84\" x=\"32\" y=\"88.5\"/><rect fill=\"#F8F8F8\" height=\"37.9375\" style=\"stroke: #383838; stroke-width: 1.5;\" width=\"84\" x=\"32\" y=\"88.5\"/><text fill=\"#000000\" font-family=\"sans-serif\" font-size=\"12\" font-style=\"italic\" lengthAdjust=\"spacingAndGlyphs\" textLength=\"77\" x=\"35.5\" y=\"104.6387\">«action def»</text><text fill=\"#000000\" font-family=\"sans-serif\" font-size=\"12\" lengthAdjust=\"spacingAndGlyphs\" textLength=\"8\" x=\"70\" y=\"118.6074\">B</text></a></g><!--MD5=[f47e10efcf9a6752d55dae986d790ed9]\n",
       "link *start*E3 to E4--><a href=\"psysml:fb7d5adc-5880-4810-9813-86e53c07f96a\" target=\"_top\" title=\"psysml:fb7d5adc-5880-4810-9813-86e53c07f96a\" xlink:actuate=\"onRequest\" xlink:href=\"psysml:fb7d5adc-5880-4810-9813-86e53c07f96a\" xlink:show=\"new\" xlink:title=\"psysml:fb7d5adc-5880-4810-9813-86e53c07f96a\" xlink:type=\"simple\"><path d=\"M424,120.35 C424,126.88 424,135.77 424,143.42 \" fill=\"none\" id=\"*start*E3-&gt;E4\" style=\"stroke: #383838; stroke-width: 1.0;\"/><polygon fill=\"#383838\" points=\"424,148.48,428,139.48,424,143.48,420,139.48,424,148.48\" style=\"stroke: #383838; stroke-width: 1.0;\"/></a><!--MD5=[d19f2eb34364d71b67042106d92f540b]\n",
       "link E7 to *end*E3--><a href=\"psysml:c9de1ce8-1045-4471-9685-45647676290c\" target=\"_top\" title=\"psysml:c9de1ce8-1045-4471-9685-45647676290c\" xlink:actuate=\"onRequest\" xlink:href=\"psysml:c9de1ce8-1045-4471-9685-45647676290c\" xlink:show=\"new\" xlink:title=\"psysml:c9de1ce8-1045-4471-9685-45647676290c\" xlink:type=\"simple\"><path d=\"M422,373.8 C422,377.34 422,381.3 422,385.03 \" fill=\"none\" id=\"E7-&gt;*end*E3\" style=\"stroke: #383838; stroke-width: 1.0;\"/><polygon fill=\"#383838\" points=\"422,390.25,426,381.25,422,385.25,418,381.25,422,390.25\" style=\"stroke: #383838; stroke-width: 1.0;\"/></a><!--MD5=[1b7591eae5389033d8d09a9d6721a717]\n",
       "link E4 to E5--><a href=\"psysml:674af9b4-5477-4a2d-9c32-c1d49aef2cdc\" target=\"_top\" title=\"psysml:674af9b4-5477-4a2d-9c32-c1d49aef2cdc\" xlink:actuate=\"onRequest\" xlink:href=\"psysml:674af9b4-5477-4a2d-9c32-c1d49aef2cdc\" xlink:show=\"new\" xlink:title=\"psysml:674af9b4-5477-4a2d-9c32-c1d49aef2cdc\" xlink:type=\"simple\"><path d=\"M417.45,166.53 C411.33,171.23 401.65,178.66 391.64,186.34 \" fill=\"none\" id=\"E4-&gt;E5\" style=\"stroke: #383838; stroke-width: 1.0;\"/><polygon fill=\"#383838\" points=\"387.64,189.41,397.2129,187.0948,391.6037,186.3621,392.3363,180.7529,387.64,189.41\" style=\"stroke: #383838; stroke-width: 1.0;\"/><text fill=\"#000000\" font-family=\"sans-serif\" font-size=\"13\" lengthAdjust=\"spacingAndGlyphs\" textLength=\"7\" x=\"387.8411\" y=\"178.4247\">*</text></a><!--MD5=[9120cf2e5df3bff93db8f754bbbc09b4]\n",
       "link E5 to E6--><a href=\"psysml:f1d57d75-7b92-4f65-894e-3c0dce6664b2\" target=\"_top\" title=\"psysml:f1d57d75-7b92-4f65-894e-3c0dce6664b2\" xlink:actuate=\"onRequest\" xlink:href=\"psysml:f1d57d75-7b92-4f65-894e-3c0dce6664b2\" xlink:show=\"new\" xlink:title=\"psysml:f1d57d75-7b92-4f65-894e-3c0dce6664b2\" xlink:type=\"simple\"><path d=\"M351.13,244.74 C350.53,253.4 349.85,263.08 349.23,272.08 \" fill=\"none\" id=\"E5-&gt;E6\" style=\"stroke: #383838; stroke-width: 1.0;\"/><polygon fill=\"#383838\" points=\"348.86,277.28,353.468,268.5756,349.203,272.2918,345.4869,268.0268,348.86,277.28\" style=\"stroke: #383838; stroke-width: 1.0;\"/><text fill=\"#000000\" font-family=\"sans-serif\" font-size=\"13\" lengthAdjust=\"spacingAndGlyphs\" textLength=\"7\" x=\"341.4808\" y=\"266.2646\">*</text></a><!--MD5=[02c70b7c851c11e3980e4e90450dc5dd]\n",
       "link E6 to E7--><a href=\"psysml:5bbe4286-aec7-454e-8b07-ff0b44373e66\" target=\"_top\" title=\"psysml:5bbe4286-aec7-454e-8b07-ff0b44373e66\" xlink:actuate=\"onRequest\" xlink:href=\"psysml:5bbe4286-aec7-454e-8b07-ff0b44373e66\" xlink:show=\"new\" xlink:title=\"psysml:5bbe4286-aec7-454e-8b07-ff0b44373e66\" xlink:type=\"simple\"><path d=\"M383.62,332.61 C393.72,339.95 403.91,347.35 411.24,352.68 \" fill=\"none\" id=\"E6-&gt;E7\" style=\"stroke: #383838; stroke-width: 1.0;\"/><polygon fill=\"#383838\" points=\"415.42,355.72,410.4976,347.1894,411.3776,352.7774,405.7896,353.6574,415.42,355.72\" style=\"stroke: #383838; stroke-width: 1.0;\"/><text fill=\"#000000\" font-family=\"sans-serif\" font-size=\"13\" lengthAdjust=\"spacingAndGlyphs\" textLength=\"7\" x=\"397.584\" y=\"338.5823\">*</text></a><!--MD5=[6bdd27f9905911a7e892a3dc65cf6b7c]\n",
       "link E7 to E4--><a href=\"psysml:df5824e0-bb07-4266-b9ed-97217b9e7a59\" target=\"_top\" title=\"psysml:df5824e0-bb07-4266-b9ed-97217b9e7a59\" xlink:actuate=\"onRequest\" xlink:href=\"psysml:df5824e0-bb07-4266-b9ed-97217b9e7a59\" xlink:show=\"new\" xlink:title=\"psysml:df5824e0-bb07-4266-b9ed-97217b9e7a59\" xlink:type=\"simple\"><path d=\"M425,352.49 C433.84,327.73 458.06,250.48 441,189.5 C439.26,183.29 435.73,177.1 432.34,172.12 \" fill=\"none\" id=\"E7-&gt;E4\" style=\"stroke: #383838; stroke-width: 1.0;\"/><polygon fill=\"#383838\" points=\"429.31,167.92,431.3342,177.5586,432.2364,171.9741,437.8209,172.8763,429.31,167.92\" style=\"stroke: #383838; stroke-width: 1.0;\"/><text fill=\"#000000\" font-family=\"sans-serif\" font-size=\"13\" lengthAdjust=\"spacingAndGlyphs\" textLength=\"36\" x=\"447\" y=\"265.5669\">[true]</text><text fill=\"#000000\" font-family=\"sans-serif\" font-size=\"13\" lengthAdjust=\"spacingAndGlyphs\" textLength=\"7\" x=\"430.8853\" y=\"189.5917\">*</text></a><!--MD5=[693868ebe5f2337e3d5b41ba107f118b]\n",
       "@startuml\r\n",
       "skinparam ranksep 10\r\n",
       "skinparam rectangle {\r\n",
       " backgroundColor<<block>> LightGreen\r\n",
       "}\r\n",
       "top to bottom direction\r\n",
       "skinparam monochrome true\r\n",
       "skinparam classbackgroundcolor white\r\n",
       "skinparam shadowing false\r\n",
       "skinparam wrapWidth 300\r\n",
       "hide circle\r\n",
       "\r\n",
       "package \"ActionTest\" as E1  [[psysml:a2683da9-1b6e-41fc-828a-cc7d1e5b2935 ]]  {\r\n",
       "def \"S\" as E2  <<(T,blue) attribute def>> [[psysml:9c87d4ab-cb1d-4b31-8fcd-81209805f4cd ]] \r\n",
       "rec usage \"a\" as E3  <<(T,blue) action>> [[psysml:88e0a3c5-b7f9-4d13-8306-ae5e61691436 ]] {\r\n",
       "choice \"m\" as E4  [[psysml:207ebb71-0108-47ac-8eb2-03003f2402f5 ]] \r\n",
       "accept \" S\" as E5 << accept action>> [[psysml:56f9bc80-23d6-47f0-bfbf-c5e902f86ac6 ]] \r\n",
       "send \" S() to  B()\" as E6 << send action>> [[psysml:baf32606-26e9-4cc3-a29f-e775486b01d7 ]] \r\n",
       "choice \"<s>noname</s>\" as E7  [[psysml:de118d49-a158-4609-b10e-b605b2688318 ]] \r\n",
       "[*] - -> E4 [[psysml:fb7d5adc-5880-4810-9813-86e53c07f96a ]] \r\n",
       "E7  - -> [*] [[psysml:c9de1ce8-1045-4471-9685-45647676290c ]] \r\n",
       "}\r\n",
       "\r\n",
       "rec def \"B\" as E8  <<(T,blue) action def>> [[psysml:79d3a6ab-38cc-49fb-ab8f-d1828ed09a3c ]] {\r\n",
       "}\r\n",
       "\r\n",
       "}\r\n",
       "E4 - -> \"*\"E5 [[psysml:674af9b4-5477-4a2d-9c32-c1d49aef2cdc ]] \r\n",
       "E5 - -> \"*\"E6 [[psysml:f1d57d75-7b92-4f65-894e-3c0dce6664b2 ]] \r\n",
       "E6 - -> \"*\"E7 [[psysml:5bbe4286-aec7-454e-8b07-ff0b44373e66 ]] \r\n",
       "E7  - -> \"*\"E4 [[psysml:df5824e0-bb07-4266-b9ed-97217b9e7a59 ]] : [true]\r\n",
       "@enduml\r\n",
       "\n",
       "PlantUML version 1.2020.13(Sat Jun 13 12:26:38 UTC 2020)\n",
       "(EPL source distribution)\n",
       "Java Runtime: OpenJDK Runtime Environment\n",
       "JVM: OpenJDK 64-Bit Server VM\n",
       "Default Encoding: UTF-8\n",
       "Language: en\n",
       "Country: null\n",
       "--></g></svg>"
      ]
     },
     "execution_count": 47,
     "metadata": {},
     "output_type": "execute_result"
    }
   ],
   "source": [
    "%viz --style=\"TB\" --view=\"Interconnection\" \"ActionTest\""
   ]
  },
  {
   "cell_type": "code",
   "execution_count": 48,
   "id": "c0a7604e",
   "metadata": {
    "execution": {
     "iopub.execute_input": "2021-09-27T07:16:58.038552Z",
     "iopub.status.busy": "2021-09-27T07:16:58.038144Z",
     "iopub.status.idle": "2021-09-27T07:16:58.080002Z",
     "shell.execute_reply": "2021-09-27T07:16:58.079632Z"
    }
   },
   "outputs": [
    {
     "data": {
      "image/svg+xml": [
       "<?xml version=\"1.0\" encoding=\"UTF-8\" standalone=\"no\"?><svg xmlns=\"http://www.w3.org/2000/svg\" xmlns:xlink=\"http://www.w3.org/1999/xlink\" contentScriptType=\"application/ecmascript\" contentStyleType=\"text/css\" height=\"395px\" preserveAspectRatio=\"none\" style=\"width:335px;height:395px;\" version=\"1.1\" viewBox=\"0 0 335 395\" width=\"335px\" zoomAndPan=\"magnify\"><defs/><g><!--MD5=[fbc87193dbaf4d95561dea2c320d4a47]\n",
       "cluster E1--><a href=\"psysml:88e0a3c5-b7f9-4d13-8306-ae5e61691436\" target=\"_top\" title=\"psysml:88e0a3c5-b7f9-4d13-8306-ae5e61691436\" xlink:actuate=\"onRequest\" xlink:href=\"psysml:88e0a3c5-b7f9-4d13-8306-ae5e61691436\" xlink:show=\"new\" xlink:title=\"psysml:88e0a3c5-b7f9-4d13-8306-ae5e61691436\" xlink:type=\"simple\"><rect fill=\"#FFFFFF\" height=\"377.5\" id=\"E1\" rx=\"10\" ry=\"10\" style=\"stroke: #383838; stroke-width: 1.5;\" width=\"209\" x=\"107\" y=\"7\"/><rect fill=\"#F8F8F8\" height=\"37.9375\" rx=\"10\" ry=\"10\" style=\"stroke: #F8F8F8; stroke-width: 1.5;\" width=\"209\" x=\"107\" y=\"7\"/><rect fill=\"#F8F8F8\" height=\"10\" style=\"stroke: #F8F8F8; stroke-width: 1.5;\" width=\"209\" x=\"107\" y=\"34.9375\"/><rect fill=\"none\" height=\"377.5\" id=\"E1\" rx=\"10\" ry=\"10\" style=\"stroke: #383838; stroke-width: 1.5;\" width=\"209\" x=\"107\" y=\"7\"/><text fill=\"#000000\" font-family=\"sans-serif\" font-size=\"12\" font-style=\"italic\" lengthAdjust=\"spacingAndGlyphs\" textLength=\"53\" x=\"185\" y=\"23.1387\">«action»</text><text fill=\"#000000\" font-family=\"sans-serif\" font-size=\"12\" lengthAdjust=\"spacingAndGlyphs\" textLength=\"8\" x=\"207.5\" y=\"37.1074\">a</text><line style=\"stroke: #383838; stroke-width: 1.0;\" x1=\"107\" x2=\"316\" y1=\"44.9375\" y2=\"44.9375\"/></a><polygon fill=\"#F8F8F8\" points=\"264,106.5,276,118.5,264,130.5,252,118.5,264,106.5\" style=\"stroke: #383838; stroke-width: 1.5;\"/><!--MD5=[a60fb756f580feb9fd8e2cf1329b5c91]\n",
       "entity E3--><a href=\"psysml:56f9bc80-23d6-47f0-bfbf-c5e902f86ac6\" target=\"_top\" title=\"psysml:56f9bc80-23d6-47f0-bfbf-c5e902f86ac6\" xlink:actuate=\"onRequest\" xlink:href=\"psysml:56f9bc80-23d6-47f0-bfbf-c5e902f86ac6\" xlink:show=\"new\" xlink:title=\"psysml:56f9bc80-23d6-47f0-bfbf-c5e902f86ac6\" xlink:type=\"simple\"><polygon fill=\"#F8F8F8\" points=\"123,147.5,123,202.0938,263,202.0938,243,174.7969,263,147.5\" style=\"stroke: #000000; stroke-width: 1.5;\"/><text fill=\"#000000\" font-family=\"sans-serif\" font-size=\"14\" font-style=\"italic\" lengthAdjust=\"spacingAndGlyphs\" textLength=\"111\" x=\"130\" y=\"170.4951\">«accept action»</text><text fill=\"#000000\" font-family=\"sans-serif\" font-size=\"14\" lengthAdjust=\"spacingAndGlyphs\" textLength=\"9\" x=\"181\" y=\"187.792\">S</text></a><!--MD5=[961cefdc15414eaa3e87aec9d17c2188]\n",
       "entity E4--><a href=\"psysml:baf32606-26e9-4cc3-a29f-e775486b01d7\" target=\"_top\" title=\"psysml:baf32606-26e9-4cc3-a29f-e775486b01d7\" xlink:actuate=\"onRequest\" xlink:href=\"psysml:baf32606-26e9-4cc3-a29f-e775486b01d7\" xlink:show=\"new\" xlink:title=\"psysml:baf32606-26e9-4cc3-a29f-e775486b01d7\" xlink:type=\"simple\"><polygon fill=\"#F8F8F8\" points=\"123,235.5,123,290.0938,231,290.0938,251,262.7969,231,235.5\" style=\"stroke: #000000; stroke-width: 1.5;\"/><text fill=\"#000000\" font-family=\"sans-serif\" font-size=\"14\" font-style=\"italic\" lengthAdjust=\"spacingAndGlyphs\" textLength=\"99\" x=\"130\" y=\"258.4951\">«send action»</text><text fill=\"#000000\" font-family=\"sans-serif\" font-size=\"14\" lengthAdjust=\"spacingAndGlyphs\" textLength=\"65\" x=\"147\" y=\"275.792\">S() to  B()</text></a><polygon fill=\"#F8F8F8\" points=\"262,307.5,274,319.5,262,331.5,250,319.5,262,307.5\" style=\"stroke: #383838; stroke-width: 1.5;\"/><ellipse cx=\"264\" cy=\"68\" fill=\"#000000\" rx=\"10\" ry=\"10\" style=\"stroke: none; stroke-width: 1.0;\"/><ellipse cx=\"262\" cy=\"358.5\" fill=\"none\" rx=\"10\" ry=\"10\" style=\"stroke: #000000; stroke-width: 1.0;\"/><ellipse cx=\"262.5\" cy=\"359\" fill=\"#000000\" rx=\"6\" ry=\"6\" style=\"stroke: none; stroke-width: 1.0;\"/><g id=\"E6\"><a href=\"psysml:79d3a6ab-38cc-49fb-ab8f-d1828ed09a3c\" target=\"_top\" title=\"psysml:79d3a6ab-38cc-49fb-ab8f-d1828ed09a3c\" xlink:actuate=\"onRequest\" xlink:href=\"psysml:79d3a6ab-38cc-49fb-ab8f-d1828ed09a3c\" xlink:show=\"new\" xlink:title=\"psysml:79d3a6ab-38cc-49fb-ab8f-d1828ed09a3c\" xlink:type=\"simple\"><rect fill=\"#FFFFFF\" height=\"42.9375\" id=\"E6\" style=\"stroke: #383838; stroke-width: 1.5;\" width=\"84\" x=\"7\" y=\"46.5\"/><rect fill=\"#F8F8F8\" height=\"37.9375\" style=\"stroke: #383838; stroke-width: 1.5;\" width=\"84\" x=\"7\" y=\"46.5\"/><text fill=\"#000000\" font-family=\"sans-serif\" font-size=\"12\" font-style=\"italic\" lengthAdjust=\"spacingAndGlyphs\" textLength=\"77\" x=\"10.5\" y=\"62.6387\">«action def»</text><text fill=\"#000000\" font-family=\"sans-serif\" font-size=\"12\" lengthAdjust=\"spacingAndGlyphs\" textLength=\"8\" x=\"45\" y=\"76.6074\">B</text></a></g><!--MD5=[cff944eb183b832d446717a4e202d613]\n",
       "link *start*E1 to E2--><a href=\"psysml:fb7d5adc-5880-4810-9813-86e53c07f96a\" target=\"_top\" title=\"psysml:fb7d5adc-5880-4810-9813-86e53c07f96a\" xlink:actuate=\"onRequest\" xlink:href=\"psysml:fb7d5adc-5880-4810-9813-86e53c07f96a\" xlink:show=\"new\" xlink:title=\"psysml:fb7d5adc-5880-4810-9813-86e53c07f96a\" xlink:type=\"simple\"><path d=\"M264,78.35 C264,84.88 264,93.77 264,101.42 \" fill=\"none\" id=\"*start*E1-&gt;E2\" style=\"stroke: #383838; stroke-width: 1.0; stroke-dasharray: 7.0,7.0;\"/><polygon fill=\"#383838\" points=\"264,106.48,268,97.48,264,101.48,260,97.48,264,106.48\" style=\"stroke: #383838; stroke-width: 1.0;\"/></a><!--MD5=[7fc47fc0d107820853a137871ad908c8]\n",
       "link E5 to *end*E1--><a href=\"psysml:c9de1ce8-1045-4471-9685-45647676290c\" target=\"_top\" title=\"psysml:c9de1ce8-1045-4471-9685-45647676290c\" xlink:actuate=\"onRequest\" xlink:href=\"psysml:c9de1ce8-1045-4471-9685-45647676290c\" xlink:show=\"new\" xlink:title=\"psysml:c9de1ce8-1045-4471-9685-45647676290c\" xlink:type=\"simple\"><path d=\"M262,331.8 C262,335.34 262,339.3 262,343.03 \" fill=\"none\" id=\"E5-&gt;*end*E1\" style=\"stroke: #383838; stroke-width: 1.0; stroke-dasharray: 7.0,7.0;\"/><polygon fill=\"#383838\" points=\"262,348.25,266,339.25,262,343.25,258,339.25,262,348.25\" style=\"stroke: #383838; stroke-width: 1.0;\"/></a><!--MD5=[2720a5a1f2c3fca2055b230370638851]\n",
       "link E2 to E3--><a href=\"psysml:674af9b4-5477-4a2d-9c32-c1d49aef2cdc\" target=\"_top\" title=\"psysml:674af9b4-5477-4a2d-9c32-c1d49aef2cdc\" xlink:actuate=\"onRequest\" xlink:href=\"psysml:674af9b4-5477-4a2d-9c32-c1d49aef2cdc\" xlink:show=\"new\" xlink:title=\"psysml:674af9b4-5477-4a2d-9c32-c1d49aef2cdc\" xlink:type=\"simple\"><path d=\"M257.45,124.53 C251.33,129.23 241.65,136.66 231.64,144.34 \" fill=\"none\" id=\"E2-&gt;E3\" style=\"stroke: #383838; stroke-width: 1.0; stroke-dasharray: 7.0,7.0;\"/><polygon fill=\"#383838\" points=\"227.64,147.41,237.2129,145.0948,231.6037,144.3621,232.3363,138.7529,227.64,147.41\" style=\"stroke: #383838; stroke-width: 1.0;\"/></a><!--MD5=[af87c684e3b0d8be13c1a698a818ef1e]\n",
       "link E3 to E4--><a href=\"psysml:f1d57d75-7b92-4f65-894e-3c0dce6664b2\" target=\"_top\" title=\"psysml:f1d57d75-7b92-4f65-894e-3c0dce6664b2\" xlink:actuate=\"onRequest\" xlink:href=\"psysml:f1d57d75-7b92-4f65-894e-3c0dce6664b2\" xlink:show=\"new\" xlink:title=\"psysml:f1d57d75-7b92-4f65-894e-3c0dce6664b2\" xlink:type=\"simple\"><path d=\"M191.13,202.74 C190.53,211.4 189.85,221.08 189.23,230.08 \" fill=\"none\" id=\"E3-&gt;E4\" style=\"stroke: #383838; stroke-width: 1.0; stroke-dasharray: 7.0,7.0;\"/><polygon fill=\"#383838\" points=\"188.86,235.28,193.468,226.5756,189.203,230.2918,185.4869,226.0268,188.86,235.28\" style=\"stroke: #383838; stroke-width: 1.0;\"/></a><!--MD5=[1b7591eae5389033d8d09a9d6721a717]\n",
       "link E4 to E5--><a href=\"psysml:5bbe4286-aec7-454e-8b07-ff0b44373e66\" target=\"_top\" title=\"psysml:5bbe4286-aec7-454e-8b07-ff0b44373e66\" xlink:actuate=\"onRequest\" xlink:href=\"psysml:5bbe4286-aec7-454e-8b07-ff0b44373e66\" xlink:show=\"new\" xlink:title=\"psysml:5bbe4286-aec7-454e-8b07-ff0b44373e66\" xlink:type=\"simple\"><path d=\"M223.62,290.61 C233.72,297.95 243.91,305.35 251.24,310.68 \" fill=\"none\" id=\"E4-&gt;E5\" style=\"stroke: #383838; stroke-width: 1.0; stroke-dasharray: 7.0,7.0;\"/><polygon fill=\"#383838\" points=\"255.42,313.72,250.4976,305.1894,251.3776,310.7774,245.7896,311.6574,255.42,313.72\" style=\"stroke: #383838; stroke-width: 1.0;\"/></a><!--MD5=[15ebcb19ae302d9b601edb458606d402]\n",
       "link E5 to E2--><a href=\"psysml:df5824e0-bb07-4266-b9ed-97217b9e7a59\" target=\"_top\" title=\"psysml:df5824e0-bb07-4266-b9ed-97217b9e7a59\" xlink:actuate=\"onRequest\" xlink:href=\"psysml:df5824e0-bb07-4266-b9ed-97217b9e7a59\" xlink:show=\"new\" xlink:title=\"psysml:df5824e0-bb07-4266-b9ed-97217b9e7a59\" xlink:type=\"simple\"><path d=\"M265,310.49 C273.84,285.73 298.06,208.48 281,147.5 C279.26,141.29 275.73,135.1 272.34,130.12 \" fill=\"none\" id=\"E5-&gt;E2\" style=\"stroke: #383838; stroke-width: 1.0; stroke-dasharray: 7.0,7.0;\"/><polygon fill=\"#383838\" points=\"269.31,125.92,271.3342,135.5586,272.2364,129.9741,277.8209,130.8763,269.31,125.92\" style=\"stroke: #383838; stroke-width: 1.0;\"/><text fill=\"#000000\" font-family=\"sans-serif\" font-size=\"13\" lengthAdjust=\"spacingAndGlyphs\" textLength=\"36\" x=\"287\" y=\"223.5669\">[true]</text></a><!--MD5=[802a12e5d55482ffe5d6ed4d946138ec]\n",
       "@startuml\r\n",
       "skinparam ranksep 8\r\n",
       "top to bottom direction\r\n",
       "skinparam monochrome true\r\n",
       "skinparam classbackgroundcolor white\r\n",
       "skinparam shadowing false\r\n",
       "skinparam wrapWidth 300\r\n",
       "hide circle\r\n",
       "\r\n",
       "rec usage \"a\" as E1  <<(T,blue) action>> [[psysml:88e0a3c5-b7f9-4d13-8306-ae5e61691436 ]] {\r\n",
       "choice \"m\" as E2  [[psysml:207ebb71-0108-47ac-8eb2-03003f2402f5 ]] \r\n",
       "accept \" S\" as E3 << accept action>> [[psysml:56f9bc80-23d6-47f0-bfbf-c5e902f86ac6 ]] \r\n",
       "send \" S() to  B()\" as E4 << send action>> [[psysml:baf32606-26e9-4cc3-a29f-e775486b01d7 ]] \r\n",
       "choice \"<s>noname</s>\" as E5  [[psysml:de118d49-a158-4609-b10e-b605b2688318 ]] \r\n",
       "[*] ..> E2 [[psysml:fb7d5adc-5880-4810-9813-86e53c07f96a ]] \r\n",
       "E5 ..> [*] [[psysml:c9de1ce8-1045-4471-9685-45647676290c ]] \r\n",
       "}\r\n",
       "\r\n",
       "E2 ..> E3 [[psysml:674af9b4-5477-4a2d-9c32-c1d49aef2cdc ]] \r\n",
       "E3 ..> E4 [[psysml:f1d57d75-7b92-4f65-894e-3c0dce6664b2 ]] \r\n",
       "E4 ..> E5 [[psysml:5bbe4286-aec7-454e-8b07-ff0b44373e66 ]] \r\n",
       "E5 ..> E2 [[psysml:df5824e0-bb07-4266-b9ed-97217b9e7a59 ]] : [true]\r\n",
       "rec def \"B\" as E6  <<(T,blue) action def>> [[psysml:79d3a6ab-38cc-49fb-ab8f-d1828ed09a3c ]] {\r\n",
       "}\r\n",
       "\r\n",
       "@enduml\r\n",
       "\n",
       "PlantUML version 1.2020.13(Sat Jun 13 12:26:38 UTC 2020)\n",
       "(EPL source distribution)\n",
       "Java Runtime: OpenJDK Runtime Environment\n",
       "JVM: OpenJDK 64-Bit Server VM\n",
       "Default Encoding: UTF-8\n",
       "Language: en\n",
       "Country: null\n",
       "--></g></svg>"
      ]
     },
     "execution_count": 48,
     "metadata": {},
     "output_type": "execute_result"
    }
   ],
   "source": [
    "%viz --style=\"TB\" --view=\"Action\" \"ActionTest\""
   ]
  },
  {
   "cell_type": "code",
   "execution_count": 49,
   "id": "951eda83",
   "metadata": {
    "execution": {
     "iopub.execute_input": "2021-09-27T07:16:58.129956Z",
     "iopub.status.busy": "2021-09-27T07:16:58.129524Z",
     "iopub.status.idle": "2021-09-27T07:16:58.135113Z",
     "shell.execute_reply": "2021-09-27T07:16:58.135404Z"
    }
   },
   "outputs": [
    {
     "data": {
      "image/svg+xml": [
       "<?xml version=\"1.0\" encoding=\"UTF-8\" standalone=\"no\"?><svg xmlns=\"http://www.w3.org/2000/svg\" xmlns:xlink=\"http://www.w3.org/1999/xlink\" contentScriptType=\"application/ecmascript\" contentStyleType=\"text/css\" height=\"12px\" preserveAspectRatio=\"none\" style=\"width:12px;height:12px;\" version=\"1.1\" viewBox=\"0 0 12 12\" width=\"12px\" zoomAndPan=\"magnify\"><defs/><g><!--MD5=[e1ab0c84c44d2fef8bf5f140f2689906]\n",
       "@startuml\r\n",
       "skinparam roundcorner 20\r\n",
       "skinparam BoxPadding 20\r\n",
       "skinparam SequenceBoxBackgroundColor #white\r\n",
       "skinparam style strictuml\r\n",
       "skinparam maxMessageSize 100\r\n",
       "top to bottom direction\r\n",
       "skinparam monochrome true\r\n",
       "skinparam classbackgroundcolor white\r\n",
       "skinparam shadowing false\r\n",
       "skinparam wrapWidth 300\r\n",
       "hide circle\r\n",
       "\r\n",
       "@enduml\r\n",
       "\n",
       "PlantUML version 1.2020.13(Sat Jun 13 12:26:38 UTC 2020)\n",
       "(EPL source distribution)\n",
       "Java Runtime: OpenJDK Runtime Environment\n",
       "JVM: OpenJDK 64-Bit Server VM\n",
       "Default Encoding: UTF-8\n",
       "Language: en\n",
       "Country: null\n",
       "--></g></svg>"
      ]
     },
     "execution_count": 49,
     "metadata": {},
     "output_type": "execute_result"
    }
   ],
   "source": [
    "%viz --style=\"TB\" --view=\"Sequence\" \"ActionTest\""
   ]
  },
  {
   "cell_type": "code",
   "execution_count": 50,
   "id": "df0a3f76",
   "metadata": {
    "execution": {
     "iopub.execute_input": "2021-09-27T07:16:58.186038Z",
     "iopub.status.busy": "2021-09-27T07:16:58.185568Z",
     "iopub.status.idle": "2021-09-27T07:16:58.231968Z",
     "shell.execute_reply": "2021-09-27T07:16:58.230652Z"
    }
   },
   "outputs": [
    {
     "data": {
      "image/svg+xml": [
       "<?xml version=\"1.0\" encoding=\"UTF-8\" standalone=\"no\"?><svg xmlns=\"http://www.w3.org/2000/svg\" xmlns:xlink=\"http://www.w3.org/1999/xlink\" contentScriptType=\"application/ecmascript\" contentStyleType=\"text/css\" height=\"684px\" preserveAspectRatio=\"none\" style=\"width:518px;height:684px;\" version=\"1.1\" viewBox=\"0 0 518 684\" width=\"518px\" zoomAndPan=\"magnify\"><defs/><g><!--MD5=[fbc87193dbaf4d95561dea2c320d4a47]\n",
       "cluster E1--><a href=\"psysml:a2683da9-1b6e-41fc-828a-cc7d1e5b2935\" target=\"_top\" title=\"psysml:a2683da9-1b6e-41fc-828a-cc7d1e5b2935\" xlink:actuate=\"onRequest\" xlink:href=\"psysml:a2683da9-1b6e-41fc-828a-cc7d1e5b2935\" xlink:show=\"new\" xlink:title=\"psysml:a2683da9-1b6e-41fc-828a-cc7d1e5b2935\" xlink:type=\"simple\"><polygon fill=\"#FFFFFF\" points=\"16,6,96,6,103,28.2969,496,28.2969,496,672,16,672,16,6\" style=\"stroke: #000000; stroke-width: 1.5;\"/><line style=\"stroke: #000000; stroke-width: 1.5;\" x1=\"16\" x2=\"103\" y1=\"28.2969\" y2=\"28.2969\"/><text fill=\"#000000\" font-family=\"sans-serif\" font-size=\"14\" font-weight=\"bold\" lengthAdjust=\"spacingAndGlyphs\" textLength=\"74\" x=\"20\" y=\"20.9951\">ActionTest</text></a><!--MD5=[d5e69f78d87373223dbae638b30a9c99]\n",
       "cluster E3--><a href=\"psysml:88e0a3c5-b7f9-4d13-8306-ae5e61691436\" target=\"_top\" title=\"psysml:88e0a3c5-b7f9-4d13-8306-ae5e61691436\" xlink:actuate=\"onRequest\" xlink:href=\"psysml:88e0a3c5-b7f9-4d13-8306-ae5e61691436\" xlink:show=\"new\" xlink:title=\"psysml:88e0a3c5-b7f9-4d13-8306-ae5e61691436\" xlink:type=\"simple\"><rect fill=\"#FFFFFF\" height=\"599\" id=\"E3\" rx=\"10\" ry=\"10\" style=\"stroke: #383838; stroke-width: 1.5;\" width=\"209\" x=\"263\" y=\"49\"/><rect fill=\"#F8F8F8\" height=\"37.9375\" rx=\"10\" ry=\"10\" style=\"stroke: #F8F8F8; stroke-width: 1.5;\" width=\"209\" x=\"263\" y=\"49\"/><rect fill=\"#F8F8F8\" height=\"10\" style=\"stroke: #F8F8F8; stroke-width: 1.5;\" width=\"209\" x=\"263\" y=\"76.9375\"/><rect fill=\"none\" height=\"599\" id=\"E3\" rx=\"10\" ry=\"10\" style=\"stroke: #383838; stroke-width: 1.5;\" width=\"209\" x=\"263\" y=\"49\"/><text fill=\"#000000\" font-family=\"sans-serif\" font-size=\"12\" font-style=\"italic\" lengthAdjust=\"spacingAndGlyphs\" textLength=\"53\" x=\"341\" y=\"65.1387\">«action»</text><text fill=\"#000000\" font-family=\"sans-serif\" font-size=\"12\" lengthAdjust=\"spacingAndGlyphs\" textLength=\"8\" x=\"363.5\" y=\"79.1074\">a</text><line style=\"stroke: #383838; stroke-width: 1.0;\" x1=\"263\" x2=\"472\" y1=\"86.9375\" y2=\"86.9375\"/></a><!--MD5=[b4997ac47864f28c2f74865a473b2911]\n",
       "class E2--><a href=\"psysml:9c87d4ab-cb1d-4b31-8fcd-81209805f4cd\" target=\"_top\" title=\"psysml:9c87d4ab-cb1d-4b31-8fcd-81209805f4cd\" xlink:actuate=\"onRequest\" xlink:href=\"psysml:9c87d4ab-cb1d-4b31-8fcd-81209805f4cd\" xlink:show=\"new\" xlink:title=\"psysml:9c87d4ab-cb1d-4b31-8fcd-81209805f4cd\" xlink:type=\"simple\"><rect fill=\"#FFFFFF\" height=\"45.9375\" id=\"E2\" style=\"stroke: #383838; stroke-width: 1.5;\" width=\"95\" x=\"151.5\" y=\"87\"/><text fill=\"#000000\" font-family=\"sans-serif\" font-size=\"12\" font-style=\"italic\" lengthAdjust=\"spacingAndGlyphs\" textLength=\"93\" x=\"152.5\" y=\"103.1387\">«attribute def»</text><text fill=\"#000000\" font-family=\"sans-serif\" font-size=\"12\" lengthAdjust=\"spacingAndGlyphs\" textLength=\"8\" x=\"195\" y=\"117.1074\">S</text><line style=\"stroke: #383838; stroke-width: 1.5;\" x1=\"152.5\" x2=\"245.5\" y1=\"124.9375\" y2=\"124.9375\"/></a><polygon fill=\"#F8F8F8\" points=\"420,194,432,206,420,218,408,206,420,194\" style=\"stroke: #383838; stroke-width: 1.5;\"/><!--MD5=[21dd76c19d33815960c0e92fef8f0eef]\n",
       "entity E5--><a href=\"psysml:56f9bc80-23d6-47f0-bfbf-c5e902f86ac6\" target=\"_top\" title=\"psysml:56f9bc80-23d6-47f0-bfbf-c5e902f86ac6\" xlink:actuate=\"onRequest\" xlink:href=\"psysml:56f9bc80-23d6-47f0-bfbf-c5e902f86ac6\" xlink:show=\"new\" xlink:title=\"psysml:56f9bc80-23d6-47f0-bfbf-c5e902f86ac6\" xlink:type=\"simple\"><polygon fill=\"#F8F8F8\" points=\"279,279,279,333.5938,419,333.5938,399,306.2969,419,279\" style=\"stroke: #000000; stroke-width: 1.5;\"/><text fill=\"#000000\" font-family=\"sans-serif\" font-size=\"14\" font-style=\"italic\" lengthAdjust=\"spacingAndGlyphs\" textLength=\"111\" x=\"286\" y=\"301.9951\">«accept action»</text><text fill=\"#000000\" font-family=\"sans-serif\" font-size=\"14\" lengthAdjust=\"spacingAndGlyphs\" textLength=\"9\" x=\"337\" y=\"319.292\">S</text></a><!--MD5=[24d87cdf3002d433f401b2a2aa9f9f65]\n",
       "entity E6--><a href=\"psysml:baf32606-26e9-4cc3-a29f-e775486b01d7\" target=\"_top\" title=\"psysml:baf32606-26e9-4cc3-a29f-e775486b01d7\" xlink:actuate=\"onRequest\" xlink:href=\"psysml:baf32606-26e9-4cc3-a29f-e775486b01d7\" xlink:show=\"new\" xlink:title=\"psysml:baf32606-26e9-4cc3-a29f-e775486b01d7\" xlink:type=\"simple\"><polygon fill=\"#F8F8F8\" points=\"279,411,279,465.5938,387,465.5938,407,438.2969,387,411\" style=\"stroke: #000000; stroke-width: 1.5;\"/><text fill=\"#000000\" font-family=\"sans-serif\" font-size=\"14\" font-style=\"italic\" lengthAdjust=\"spacingAndGlyphs\" textLength=\"99\" x=\"286\" y=\"433.9951\">«send action»</text><text fill=\"#000000\" font-family=\"sans-serif\" font-size=\"14\" lengthAdjust=\"spacingAndGlyphs\" textLength=\"65\" x=\"303\" y=\"451.292\">S() to  B()</text></a><polygon fill=\"#F8F8F8\" points=\"418,527,430,539,418,551,406,539,418,527\" style=\"stroke: #383838; stroke-width: 1.5;\"/><ellipse cx=\"420\" cy=\"110\" fill=\"#000000\" rx=\"10\" ry=\"10\" style=\"stroke: none; stroke-width: 1.0;\"/><ellipse cx=\"418\" cy=\"622\" fill=\"none\" rx=\"10\" ry=\"10\" style=\"stroke: #000000; stroke-width: 1.0;\"/><ellipse cx=\"418.5\" cy=\"622.5\" fill=\"#000000\" rx=\"6\" ry=\"6\" style=\"stroke: none; stroke-width: 1.0;\"/><g id=\"E1.E8\"><a href=\"psysml:79d3a6ab-38cc-49fb-ab8f-d1828ed09a3c\" target=\"_top\" title=\"psysml:79d3a6ab-38cc-49fb-ab8f-d1828ed09a3c\" xlink:actuate=\"onRequest\" xlink:href=\"psysml:79d3a6ab-38cc-49fb-ab8f-d1828ed09a3c\" xlink:show=\"new\" xlink:title=\"psysml:79d3a6ab-38cc-49fb-ab8f-d1828ed09a3c\" xlink:type=\"simple\"><rect fill=\"#FFFFFF\" height=\"42.9375\" id=\"E8\" style=\"stroke: #383838; stroke-width: 1.5;\" width=\"84\" x=\"32\" y=\"88.5\"/><rect fill=\"#F8F8F8\" height=\"37.9375\" style=\"stroke: #383838; stroke-width: 1.5;\" width=\"84\" x=\"32\" y=\"88.5\"/><text fill=\"#000000\" font-family=\"sans-serif\" font-size=\"12\" font-style=\"italic\" lengthAdjust=\"spacingAndGlyphs\" textLength=\"77\" x=\"35.5\" y=\"104.6387\">«action def»</text><text fill=\"#000000\" font-family=\"sans-serif\" font-size=\"12\" lengthAdjust=\"spacingAndGlyphs\" textLength=\"8\" x=\"70\" y=\"118.6074\">B</text></a></g><!--MD5=[f47e10efcf9a6752d55dae986d790ed9]\n",
       "link *start*E3 to E4--><a href=\"psysml:fb7d5adc-5880-4810-9813-86e53c07f96a\" target=\"_top\" title=\"psysml:fb7d5adc-5880-4810-9813-86e53c07f96a\" xlink:actuate=\"onRequest\" xlink:href=\"psysml:fb7d5adc-5880-4810-9813-86e53c07f96a\" xlink:show=\"new\" xlink:title=\"psysml:fb7d5adc-5880-4810-9813-86e53c07f96a\" xlink:type=\"simple\"><path d=\"M420,120.01 C420,135.81 420,168.69 420,188.61 \" fill=\"none\" id=\"*start*E3-&gt;E4\" style=\"stroke: #383838; stroke-width: 1.0;\"/><polygon fill=\"#383838\" points=\"420,193.85,424,184.85,420,188.85,416,184.85,420,193.85\" style=\"stroke: #383838; stroke-width: 1.0;\"/></a><!--MD5=[d19f2eb34364d71b67042106d92f540b]\n",
       "link E7 to *end*E3--><a href=\"psysml:c9de1ce8-1045-4471-9685-45647676290c\" target=\"_top\" title=\"psysml:c9de1ce8-1045-4471-9685-45647676290c\" xlink:actuate=\"onRequest\" xlink:href=\"psysml:c9de1ce8-1045-4471-9685-45647676290c\" xlink:show=\"new\" xlink:title=\"psysml:c9de1ce8-1045-4471-9685-45647676290c\" xlink:type=\"simple\"><path d=\"M418,551.26 C418,565.66 418,590.63 418,606.46 \" fill=\"none\" id=\"E7-&gt;*end*E3\" style=\"stroke: #383838; stroke-width: 1.0;\"/><polygon fill=\"#383838\" points=\"418,611.84,422,602.84,418,606.84,414,602.84,418,611.84\" style=\"stroke: #383838; stroke-width: 1.0;\"/></a><!--MD5=[1b7591eae5389033d8d09a9d6721a717]\n",
       "link E4 to E5--><a href=\"psysml:674af9b4-5477-4a2d-9c32-c1d49aef2cdc\" target=\"_top\" title=\"psysml:674af9b4-5477-4a2d-9c32-c1d49aef2cdc\" xlink:actuate=\"onRequest\" xlink:href=\"psysml:674af9b4-5477-4a2d-9c32-c1d49aef2cdc\" xlink:show=\"new\" xlink:title=\"psysml:674af9b4-5477-4a2d-9c32-c1d49aef2cdc\" xlink:type=\"simple\"><path d=\"M415.34,213.46 C406.55,225.66 386.99,252.8 371.37,274.46 \" fill=\"none\" id=\"E4-&gt;E5\" style=\"stroke: #383838; stroke-width: 1.0;\"/><polygon fill=\"#383838\" points=\"368.31,278.71,376.8093,273.7339,371.227,274.6491,370.3119,269.0667,368.31,278.71\" style=\"stroke: #383838; stroke-width: 1.0;\"/><text fill=\"#000000\" font-family=\"sans-serif\" font-size=\"13\" lengthAdjust=\"spacingAndGlyphs\" textLength=\"7\" x=\"364.7684\" y=\"268.1162\">*</text></a><!--MD5=[9120cf2e5df3bff93db8f754bbbc09b4]\n",
       "link E5 to E6--><a href=\"psysml:f1d57d75-7b92-4f65-894e-3c0dce6664b2\" target=\"_top\" title=\"psysml:f1d57d75-7b92-4f65-894e-3c0dce6664b2\" xlink:actuate=\"onRequest\" xlink:href=\"psysml:f1d57d75-7b92-4f65-894e-3c0dce6664b2\" xlink:show=\"new\" xlink:title=\"psysml:f1d57d75-7b92-4f65-894e-3c0dce6664b2\" xlink:type=\"simple\"><path d=\"M347.77,334.12 C346.81,354.89 345.48,383.8 344.46,405.77 \" fill=\"none\" id=\"E5-&gt;E6\" style=\"stroke: #383838; stroke-width: 1.0;\"/><polygon fill=\"#383838\" points=\"344.23,410.91,348.6368,402.1021,344.4583,405.9152,340.6452,401.7367,344.23,410.91\" style=\"stroke: #383838; stroke-width: 1.0;\"/><text fill=\"#000000\" font-family=\"sans-serif\" font-size=\"13\" lengthAdjust=\"spacingAndGlyphs\" textLength=\"7\" x=\"336.7051\" y=\"399.9247\">*</text></a><!--MD5=[02c70b7c851c11e3980e4e90450dc5dd]\n",
       "link E6 to E7--><a href=\"psysml:5bbe4286-aec7-454e-8b07-ff0b44373e66\" target=\"_top\" title=\"psysml:5bbe4286-aec7-454e-8b07-ff0b44373e66\" xlink:actuate=\"onRequest\" xlink:href=\"psysml:5bbe4286-aec7-454e-8b07-ff0b44373e66\" xlink:show=\"new\" xlink:title=\"psysml:5bbe4286-aec7-454e-8b07-ff0b44373e66\" xlink:type=\"simple\"><path d=\"M363.3,466.16 C378.71,486.4 399.07,513.14 410.09,527.61 \" fill=\"none\" id=\"E6-&gt;E7\" style=\"stroke: #383838; stroke-width: 1.0;\"/><polygon fill=\"#383838\" points=\"413.2,531.69,410.9398,522.104,410.1749,527.7089,404.57,526.9441,413.2,531.69\" style=\"stroke: #383838; stroke-width: 1.0;\"/><text fill=\"#000000\" font-family=\"sans-serif\" font-size=\"13\" lengthAdjust=\"spacingAndGlyphs\" textLength=\"7\" x=\"398.9375\" y=\"515.8563\">*</text></a><!--MD5=[6bdd27f9905911a7e892a3dc65cf6b7c]\n",
       "link E7 to E4--><a href=\"psysml:df5824e0-bb07-4266-b9ed-97217b9e7a59\" target=\"_top\" title=\"psysml:df5824e0-bb07-4266-b9ed-97217b9e7a59\" xlink:actuate=\"onRequest\" xlink:href=\"psysml:df5824e0-bb07-4266-b9ed-97217b9e7a59\" xlink:show=\"new\" xlink:title=\"psysml:df5824e0-bb07-4266-b9ed-97217b9e7a59\" xlink:type=\"simple\"><path d=\"M419.98,528.56 C426.8,494.71 448.32,376.18 437,279 C434.59,258.32 428.42,234.96 424.21,220.61 \" fill=\"none\" id=\"E7-&gt;E4\" style=\"stroke: #383838; stroke-width: 1.0;\"/><polygon fill=\"#383838\" points=\"422.76,215.75,421.4935,225.5171,424.1863,220.5423,429.1611,223.2351,422.76,215.75\" style=\"stroke: #383838; stroke-width: 1.0;\"/><text fill=\"#000000\" font-family=\"sans-serif\" font-size=\"13\" lengthAdjust=\"spacingAndGlyphs\" textLength=\"36\" x=\"440\" y=\"377.0669\">[true]</text><text fill=\"#000000\" font-family=\"sans-serif\" font-size=\"13\" lengthAdjust=\"spacingAndGlyphs\" textLength=\"7\" x=\"415.3253\" y=\"237.9903\">*</text></a><!--MD5=[378a8a0b302c7f38fd39dc710f92b5c6]\n",
       "@startuml\r\n",
       "top to bottom direction\r\n",
       "skinparam monochrome true\r\n",
       "skinparam classbackgroundcolor white\r\n",
       "skinparam shadowing false\r\n",
       "skinparam wrapWidth 300\r\n",
       "hide circle\r\n",
       "\r\n",
       "package \"ActionTest\" as E1  [[psysml:a2683da9-1b6e-41fc-828a-cc7d1e5b2935 ]]  {\r\n",
       "comp def \"S\" as E2  <<(T,blue) attribute def>> [[psysml:9c87d4ab-cb1d-4b31-8fcd-81209805f4cd ]] {\r\n",
       "}\r\n",
       "rec usage \"a\" as E3  <<(T,blue) action>> [[psysml:88e0a3c5-b7f9-4d13-8306-ae5e61691436 ]] {\r\n",
       "choice \"m\" as E4  [[psysml:207ebb71-0108-47ac-8eb2-03003f2402f5 ]] \r\n",
       "accept \" S\" as E5 << accept action>> [[psysml:56f9bc80-23d6-47f0-bfbf-c5e902f86ac6 ]] \r\n",
       "send \" S() to  B()\" as E6 << send action>> [[psysml:baf32606-26e9-4cc3-a29f-e775486b01d7 ]] \r\n",
       "choice \"<s>noname</s>\" as E7  [[psysml:de118d49-a158-4609-b10e-b605b2688318 ]] \r\n",
       "[*] - -> E4 [[psysml:fb7d5adc-5880-4810-9813-86e53c07f96a ]] \r\n",
       "E7  - -> [*] [[psysml:c9de1ce8-1045-4471-9685-45647676290c ]] \r\n",
       "}\r\n",
       "\r\n",
       "rec def \"B\" as E8  <<(T,blue) action def>> [[psysml:79d3a6ab-38cc-49fb-ab8f-d1828ed09a3c ]] {\r\n",
       "}\r\n",
       "\r\n",
       "}\r\n",
       "E4 - -> \"*\"E5 [[psysml:674af9b4-5477-4a2d-9c32-c1d49aef2cdc ]] \r\n",
       "E5 - -> \"*\"E6 [[psysml:f1d57d75-7b92-4f65-894e-3c0dce6664b2 ]] \r\n",
       "E6 - -> \"*\"E7 [[psysml:5bbe4286-aec7-454e-8b07-ff0b44373e66 ]] \r\n",
       "E7  - -> \"*\"E4 [[psysml:df5824e0-bb07-4266-b9ed-97217b9e7a59 ]] : [true]\r\n",
       "@enduml\r\n",
       "\n",
       "PlantUML version 1.2020.13(Sat Jun 13 12:26:38 UTC 2020)\n",
       "(EPL source distribution)\n",
       "Java Runtime: OpenJDK Runtime Environment\n",
       "JVM: OpenJDK 64-Bit Server VM\n",
       "Default Encoding: UTF-8\n",
       "Language: en\n",
       "Country: null\n",
       "--></g></svg>"
      ]
     },
     "execution_count": 50,
     "metadata": {},
     "output_type": "execute_result"
    }
   ],
   "source": [
    "%viz --style=\"TB\" --view=\"MIXED\" \"ActionTest\""
   ]
  },
  {
   "cell_type": "code",
   "execution_count": 51,
   "id": "bce87184",
   "metadata": {
    "execution": {
     "iopub.execute_input": "2021-09-27T07:16:58.281472Z",
     "iopub.status.busy": "2021-09-27T07:16:58.281041Z",
     "iopub.status.idle": "2021-09-27T07:16:58.312984Z",
     "shell.execute_reply": "2021-09-27T07:16:58.311721Z"
    }
   },
   "outputs": [
    {
     "data": {
      "image/svg+xml": [
       "<?xml version=\"1.0\" encoding=\"UTF-8\" standalone=\"no\"?><svg xmlns=\"http://www.w3.org/2000/svg\" xmlns:xlink=\"http://www.w3.org/1999/xlink\" contentScriptType=\"application/ecmascript\" contentStyleType=\"text/css\" height=\"684px\" preserveAspectRatio=\"none\" style=\"width:518px;height:684px;\" version=\"1.1\" viewBox=\"0 0 518 684\" width=\"518px\" zoomAndPan=\"magnify\"><defs/><g><!--MD5=[fbc87193dbaf4d95561dea2c320d4a47]\n",
       "cluster E1--><a href=\"psysml:a2683da9-1b6e-41fc-828a-cc7d1e5b2935\" target=\"_top\" title=\"psysml:a2683da9-1b6e-41fc-828a-cc7d1e5b2935\" xlink:actuate=\"onRequest\" xlink:href=\"psysml:a2683da9-1b6e-41fc-828a-cc7d1e5b2935\" xlink:show=\"new\" xlink:title=\"psysml:a2683da9-1b6e-41fc-828a-cc7d1e5b2935\" xlink:type=\"simple\"><polygon fill=\"#FFFFFF\" points=\"16,6,96,6,103,28.2969,496,28.2969,496,672,16,672,16,6\" style=\"stroke: #000000; stroke-width: 1.5;\"/><line style=\"stroke: #000000; stroke-width: 1.5;\" x1=\"16\" x2=\"103\" y1=\"28.2969\" y2=\"28.2969\"/><text fill=\"#000000\" font-family=\"sans-serif\" font-size=\"14\" font-weight=\"bold\" lengthAdjust=\"spacingAndGlyphs\" textLength=\"74\" x=\"20\" y=\"20.9951\">ActionTest</text></a><!--MD5=[d5e69f78d87373223dbae638b30a9c99]\n",
       "cluster E3--><a href=\"psysml:88e0a3c5-b7f9-4d13-8306-ae5e61691436\" target=\"_top\" title=\"psysml:88e0a3c5-b7f9-4d13-8306-ae5e61691436\" xlink:actuate=\"onRequest\" xlink:href=\"psysml:88e0a3c5-b7f9-4d13-8306-ae5e61691436\" xlink:show=\"new\" xlink:title=\"psysml:88e0a3c5-b7f9-4d13-8306-ae5e61691436\" xlink:type=\"simple\"><rect fill=\"#FFFFFF\" height=\"599\" id=\"E3\" rx=\"10\" ry=\"10\" style=\"stroke: #383838; stroke-width: 1.5;\" width=\"209\" x=\"263\" y=\"49\"/><rect fill=\"#F8F8F8\" height=\"37.9375\" rx=\"10\" ry=\"10\" style=\"stroke: #F8F8F8; stroke-width: 1.5;\" width=\"209\" x=\"263\" y=\"49\"/><rect fill=\"#F8F8F8\" height=\"10\" style=\"stroke: #F8F8F8; stroke-width: 1.5;\" width=\"209\" x=\"263\" y=\"76.9375\"/><rect fill=\"none\" height=\"599\" id=\"E3\" rx=\"10\" ry=\"10\" style=\"stroke: #383838; stroke-width: 1.5;\" width=\"209\" x=\"263\" y=\"49\"/><text fill=\"#000000\" font-family=\"sans-serif\" font-size=\"12\" font-style=\"italic\" lengthAdjust=\"spacingAndGlyphs\" textLength=\"53\" x=\"341\" y=\"65.1387\">«action»</text><text fill=\"#000000\" font-family=\"sans-serif\" font-size=\"12\" lengthAdjust=\"spacingAndGlyphs\" textLength=\"8\" x=\"363.5\" y=\"79.1074\">a</text><line style=\"stroke: #383838; stroke-width: 1.0;\" x1=\"263\" x2=\"472\" y1=\"86.9375\" y2=\"86.9375\"/></a><!--MD5=[b4997ac47864f28c2f74865a473b2911]\n",
       "class E2--><a href=\"psysml:9c87d4ab-cb1d-4b31-8fcd-81209805f4cd\" target=\"_top\" title=\"psysml:9c87d4ab-cb1d-4b31-8fcd-81209805f4cd\" xlink:actuate=\"onRequest\" xlink:href=\"psysml:9c87d4ab-cb1d-4b31-8fcd-81209805f4cd\" xlink:show=\"new\" xlink:title=\"psysml:9c87d4ab-cb1d-4b31-8fcd-81209805f4cd\" xlink:type=\"simple\"><rect fill=\"#FFFFFF\" height=\"45.9375\" id=\"E2\" style=\"stroke: #383838; stroke-width: 1.5;\" width=\"95\" x=\"151.5\" y=\"87\"/><text fill=\"#000000\" font-family=\"sans-serif\" font-size=\"12\" font-style=\"italic\" lengthAdjust=\"spacingAndGlyphs\" textLength=\"93\" x=\"152.5\" y=\"103.1387\">«attribute def»</text><text fill=\"#000000\" font-family=\"sans-serif\" font-size=\"12\" lengthAdjust=\"spacingAndGlyphs\" textLength=\"8\" x=\"195\" y=\"117.1074\">S</text><line style=\"stroke: #383838; stroke-width: 1.5;\" x1=\"152.5\" x2=\"245.5\" y1=\"124.9375\" y2=\"124.9375\"/></a><polygon fill=\"#F8F8F8\" points=\"420,194,432,206,420,218,408,206,420,194\" style=\"stroke: #383838; stroke-width: 1.5;\"/><!--MD5=[21dd76c19d33815960c0e92fef8f0eef]\n",
       "entity E5--><a href=\"psysml:56f9bc80-23d6-47f0-bfbf-c5e902f86ac6\" target=\"_top\" title=\"psysml:56f9bc80-23d6-47f0-bfbf-c5e902f86ac6\" xlink:actuate=\"onRequest\" xlink:href=\"psysml:56f9bc80-23d6-47f0-bfbf-c5e902f86ac6\" xlink:show=\"new\" xlink:title=\"psysml:56f9bc80-23d6-47f0-bfbf-c5e902f86ac6\" xlink:type=\"simple\"><polygon fill=\"#F8F8F8\" points=\"279,279,279,333.5938,419,333.5938,399,306.2969,419,279\" style=\"stroke: #000000; stroke-width: 1.5;\"/><text fill=\"#000000\" font-family=\"sans-serif\" font-size=\"14\" font-style=\"italic\" lengthAdjust=\"spacingAndGlyphs\" textLength=\"111\" x=\"286\" y=\"301.9951\">«accept action»</text><text fill=\"#000000\" font-family=\"sans-serif\" font-size=\"14\" lengthAdjust=\"spacingAndGlyphs\" textLength=\"9\" x=\"337\" y=\"319.292\">S</text></a><!--MD5=[24d87cdf3002d433f401b2a2aa9f9f65]\n",
       "entity E6--><a href=\"psysml:baf32606-26e9-4cc3-a29f-e775486b01d7\" target=\"_top\" title=\"psysml:baf32606-26e9-4cc3-a29f-e775486b01d7\" xlink:actuate=\"onRequest\" xlink:href=\"psysml:baf32606-26e9-4cc3-a29f-e775486b01d7\" xlink:show=\"new\" xlink:title=\"psysml:baf32606-26e9-4cc3-a29f-e775486b01d7\" xlink:type=\"simple\"><polygon fill=\"#F8F8F8\" points=\"279,411,279,465.5938,387,465.5938,407,438.2969,387,411\" style=\"stroke: #000000; stroke-width: 1.5;\"/><text fill=\"#000000\" font-family=\"sans-serif\" font-size=\"14\" font-style=\"italic\" lengthAdjust=\"spacingAndGlyphs\" textLength=\"99\" x=\"286\" y=\"433.9951\">«send action»</text><text fill=\"#000000\" font-family=\"sans-serif\" font-size=\"14\" lengthAdjust=\"spacingAndGlyphs\" textLength=\"65\" x=\"303\" y=\"451.292\">S() to  B()</text></a><polygon fill=\"#F8F8F8\" points=\"418,527,430,539,418,551,406,539,418,527\" style=\"stroke: #383838; stroke-width: 1.5;\"/><ellipse cx=\"420\" cy=\"110\" fill=\"#000000\" rx=\"10\" ry=\"10\" style=\"stroke: none; stroke-width: 1.0;\"/><ellipse cx=\"418\" cy=\"622\" fill=\"none\" rx=\"10\" ry=\"10\" style=\"stroke: #000000; stroke-width: 1.0;\"/><ellipse cx=\"418.5\" cy=\"622.5\" fill=\"#000000\" rx=\"6\" ry=\"6\" style=\"stroke: none; stroke-width: 1.0;\"/><g id=\"E1.E8\"><a href=\"psysml:79d3a6ab-38cc-49fb-ab8f-d1828ed09a3c\" target=\"_top\" title=\"psysml:79d3a6ab-38cc-49fb-ab8f-d1828ed09a3c\" xlink:actuate=\"onRequest\" xlink:href=\"psysml:79d3a6ab-38cc-49fb-ab8f-d1828ed09a3c\" xlink:show=\"new\" xlink:title=\"psysml:79d3a6ab-38cc-49fb-ab8f-d1828ed09a3c\" xlink:type=\"simple\"><rect fill=\"#FFFFFF\" height=\"42.9375\" id=\"E8\" style=\"stroke: #383838; stroke-width: 1.5;\" width=\"84\" x=\"32\" y=\"88.5\"/><rect fill=\"#F8F8F8\" height=\"37.9375\" style=\"stroke: #383838; stroke-width: 1.5;\" width=\"84\" x=\"32\" y=\"88.5\"/><text fill=\"#000000\" font-family=\"sans-serif\" font-size=\"12\" font-style=\"italic\" lengthAdjust=\"spacingAndGlyphs\" textLength=\"77\" x=\"35.5\" y=\"104.6387\">«action def»</text><text fill=\"#000000\" font-family=\"sans-serif\" font-size=\"12\" lengthAdjust=\"spacingAndGlyphs\" textLength=\"8\" x=\"70\" y=\"118.6074\">B</text></a></g><!--MD5=[f47e10efcf9a6752d55dae986d790ed9]\n",
       "link *start*E3 to E4--><a href=\"psysml:fb7d5adc-5880-4810-9813-86e53c07f96a\" target=\"_top\" title=\"psysml:fb7d5adc-5880-4810-9813-86e53c07f96a\" xlink:actuate=\"onRequest\" xlink:href=\"psysml:fb7d5adc-5880-4810-9813-86e53c07f96a\" xlink:show=\"new\" xlink:title=\"psysml:fb7d5adc-5880-4810-9813-86e53c07f96a\" xlink:type=\"simple\"><path d=\"M420,120.27 C420,120.27 420,188.7 420,188.7 \" fill=\"none\" id=\"*start*E3-&gt;E4\" style=\"stroke: #383838; stroke-width: 1.0;\"/><polygon fill=\"#383838\" points=\"420,193.7,424,184.7,420,188.7,416,184.7,420,193.7\" style=\"stroke: #383838; stroke-width: 1.0;\"/></a><!--MD5=[d19f2eb34364d71b67042106d92f540b]\n",
       "link E7 to *end*E3--><a href=\"psysml:c9de1ce8-1045-4471-9685-45647676290c\" target=\"_top\" title=\"psysml:c9de1ce8-1045-4471-9685-45647676290c\" xlink:actuate=\"onRequest\" xlink:href=\"psysml:c9de1ce8-1045-4471-9685-45647676290c\" xlink:show=\"new\" xlink:title=\"psysml:c9de1ce8-1045-4471-9685-45647676290c\" xlink:type=\"simple\"><path d=\"M418,551.25 C418,551.25 418,606.8 418,606.8 \" fill=\"none\" id=\"E7-&gt;*end*E3\" style=\"stroke: #383838; stroke-width: 1.0;\"/><polygon fill=\"#383838\" points=\"418,611.8,422,602.8,418,606.8,414,602.8,418,611.8\" style=\"stroke: #383838; stroke-width: 1.0;\"/></a><!--MD5=[1b7591eae5389033d8d09a9d6721a717]\n",
       "link E4 to E5--><a href=\"psysml:674af9b4-5477-4a2d-9c32-c1d49aef2cdc\" target=\"_top\" title=\"psysml:674af9b4-5477-4a2d-9c32-c1d49aef2cdc\" xlink:actuate=\"onRequest\" xlink:href=\"psysml:674af9b4-5477-4a2d-9c32-c1d49aef2cdc\" xlink:show=\"new\" xlink:title=\"psysml:674af9b4-5477-4a2d-9c32-c1d49aef2cdc\" xlink:type=\"simple\"><path d=\"M413.5,211.69 C413.5,211.69 413.5,273.98 413.5,273.98 \" fill=\"none\" id=\"E4-&gt;E5\" style=\"stroke: #383838; stroke-width: 1.0;\"/><polygon fill=\"#383838\" points=\"413.5,278.98,417.5,269.98,413.5,273.98,409.5,269.98,413.5,278.98\" style=\"stroke: #383838; stroke-width: 1.0;\"/><text fill=\"#000000\" font-family=\"sans-serif\" font-size=\"13\" lengthAdjust=\"spacingAndGlyphs\" textLength=\"7\" x=\"420.6063\" y=\"268.0108\">*</text></a><!--MD5=[9120cf2e5df3bff93db8f754bbbc09b4]\n",
       "link E5 to E6--><a href=\"psysml:f1d57d75-7b92-4f65-894e-3c0dce6664b2\" target=\"_top\" title=\"psysml:f1d57d75-7b92-4f65-894e-3c0dce6664b2\" xlink:actuate=\"onRequest\" xlink:href=\"psysml:f1d57d75-7b92-4f65-894e-3c0dce6664b2\" xlink:show=\"new\" xlink:title=\"psysml:f1d57d75-7b92-4f65-894e-3c0dce6664b2\" xlink:type=\"simple\"><path d=\"M343,334.17 C343,334.17 343,405.86 343,405.86 \" fill=\"none\" id=\"E5-&gt;E6\" style=\"stroke: #383838; stroke-width: 1.0;\"/><polygon fill=\"#383838\" points=\"343,410.86,347,401.86,343,405.86,339,401.86,343,410.86\" style=\"stroke: #383838; stroke-width: 1.0;\"/><text fill=\"#000000\" font-family=\"sans-serif\" font-size=\"13\" lengthAdjust=\"spacingAndGlyphs\" textLength=\"7\" x=\"335.1906\" y=\"399.8631\">*</text></a><!--MD5=[02c70b7c851c11e3980e4e90450dc5dd]\n",
       "link E6 to E7--><a href=\"psysml:5bbe4286-aec7-454e-8b07-ff0b44373e66\" target=\"_top\" title=\"psysml:5bbe4286-aec7-454e-8b07-ff0b44373e66\" xlink:actuate=\"onRequest\" xlink:href=\"psysml:5bbe4286-aec7-454e-8b07-ff0b44373e66\" xlink:show=\"new\" xlink:title=\"psysml:5bbe4286-aec7-454e-8b07-ff0b44373e66\" xlink:type=\"simple\"><path d=\"M407.03,439 C410.74,439 413,439 413,439 C413,439 413,526.81 413,526.81 \" fill=\"none\" id=\"E6-&gt;E7\" style=\"stroke: #383838; stroke-width: 1.0;\"/><polygon fill=\"#383838\" points=\"413,531.81,417,522.81,413,526.81,409,522.81,413,531.81\" style=\"stroke: #383838; stroke-width: 1.0;\"/><text fill=\"#000000\" font-family=\"sans-serif\" font-size=\"13\" lengthAdjust=\"spacingAndGlyphs\" textLength=\"7\" x=\"398.5625\" y=\"516.0813\">*</text></a><!--MD5=[6bdd27f9905911a7e892a3dc65cf6b7c]\n",
       "link E7 to E4--><a href=\"psysml:df5824e0-bb07-4266-b9ed-97217b9e7a59\" target=\"_top\" title=\"psysml:df5824e0-bb07-4266-b9ed-97217b9e7a59\" xlink:actuate=\"onRequest\" xlink:href=\"psysml:df5824e0-bb07-4266-b9ed-97217b9e7a59\" xlink:show=\"new\" xlink:title=\"psysml:df5824e0-bb07-4266-b9ed-97217b9e7a59\" xlink:type=\"simple\"><path d=\"M424.5,533.5 C424.5,533.5 424.5,218.64 424.5,218.64 \" fill=\"none\" id=\"E7-&gt;E4\" style=\"stroke: #383838; stroke-width: 1.0;\"/><polygon fill=\"#383838\" points=\"424.5,213.64,420.5,222.64,424.5,218.64,428.5,222.64,424.5,213.64\" style=\"stroke: #383838; stroke-width: 1.0;\"/><text fill=\"#000000\" font-family=\"sans-serif\" font-size=\"13\" lengthAdjust=\"spacingAndGlyphs\" textLength=\"36\" x=\"419\" y=\"377.0669\">[true]</text><text fill=\"#000000\" font-family=\"sans-serif\" font-size=\"13\" lengthAdjust=\"spacingAndGlyphs\" textLength=\"7\" x=\"418.325\" y=\"238.2522\">*</text></a><!--MD5=[db8e10b9553e4b004d9eace0aab6d5b2]\n",
       "@startuml\r\n",
       "skinparam linetype ortho\r\n",
       "skinparam monochrome true\r\n",
       "skinparam classbackgroundcolor white\r\n",
       "skinparam shadowing false\r\n",
       "skinparam wrapWidth 300\r\n",
       "hide circle\r\n",
       "\r\n",
       "package \"ActionTest\" as E1  [[psysml:a2683da9-1b6e-41fc-828a-cc7d1e5b2935 ]]  {\r\n",
       "comp def \"S\" as E2  <<(T,blue) attribute def>> [[psysml:9c87d4ab-cb1d-4b31-8fcd-81209805f4cd ]] {\r\n",
       "}\r\n",
       "rec usage \"a\" as E3  <<(T,blue) action>> [[psysml:88e0a3c5-b7f9-4d13-8306-ae5e61691436 ]] {\r\n",
       "choice \"m\" as E4  [[psysml:207ebb71-0108-47ac-8eb2-03003f2402f5 ]] \r\n",
       "accept \" S\" as E5 << accept action>> [[psysml:56f9bc80-23d6-47f0-bfbf-c5e902f86ac6 ]] \r\n",
       "send \" S() to  B()\" as E6 << send action>> [[psysml:baf32606-26e9-4cc3-a29f-e775486b01d7 ]] \r\n",
       "choice \"<s>noname</s>\" as E7  [[psysml:de118d49-a158-4609-b10e-b605b2688318 ]] \r\n",
       "[*] - -> E4 [[psysml:fb7d5adc-5880-4810-9813-86e53c07f96a ]] \r\n",
       "E7  - -> [*] [[psysml:c9de1ce8-1045-4471-9685-45647676290c ]] \r\n",
       "}\r\n",
       "\r\n",
       "rec def \"B\" as E8  <<(T,blue) action def>> [[psysml:79d3a6ab-38cc-49fb-ab8f-d1828ed09a3c ]] {\r\n",
       "}\r\n",
       "\r\n",
       "}\r\n",
       "E4 - -> \"*\"E5 [[psysml:674af9b4-5477-4a2d-9c32-c1d49aef2cdc ]] \r\n",
       "E5 - -> \"*\"E6 [[psysml:f1d57d75-7b92-4f65-894e-3c0dce6664b2 ]] \r\n",
       "E6 - -> \"*\"E7 [[psysml:5bbe4286-aec7-454e-8b07-ff0b44373e66 ]] \r\n",
       "E7  - -> \"*\"E4 [[psysml:df5824e0-bb07-4266-b9ed-97217b9e7a59 ]] : [true]\r\n",
       "@enduml\r\n",
       "\n",
       "PlantUML version 1.2020.13(Sat Jun 13 12:26:38 UTC 2020)\n",
       "(EPL source distribution)\n",
       "Java Runtime: OpenJDK Runtime Environment\n",
       "JVM: OpenJDK 64-Bit Server VM\n",
       "Default Encoding: UTF-8\n",
       "Language: en\n",
       "Country: null\n",
       "--></g></svg>"
      ]
     },
     "execution_count": 51,
     "metadata": {},
     "output_type": "execute_result"
    }
   ],
   "source": [
    "%viz --style=\"ORTHOLINE\" --view=\"Default\" \"ActionTest\""
   ]
  },
  {
   "cell_type": "code",
   "execution_count": 52,
   "id": "93ea4900",
   "metadata": {
    "execution": {
     "iopub.execute_input": "2021-09-27T07:16:58.362609Z",
     "iopub.status.busy": "2021-09-27T07:16:58.362201Z",
     "iopub.status.idle": "2021-09-27T07:16:58.391759Z",
     "shell.execute_reply": "2021-09-27T07:16:58.390499Z"
    }
   },
   "outputs": [
    {
     "data": {
      "image/svg+xml": [
       "<?xml version=\"1.0\" encoding=\"UTF-8\" standalone=\"no\"?><svg xmlns=\"http://www.w3.org/2000/svg\" xmlns:xlink=\"http://www.w3.org/1999/xlink\" contentScriptType=\"application/ecmascript\" contentStyleType=\"text/css\" height=\"327px\" preserveAspectRatio=\"none\" style=\"width:677px;height:327px;\" version=\"1.1\" viewBox=\"0 0 677 327\" width=\"677px\" zoomAndPan=\"magnify\"><defs/><g><!--MD5=[fbc87193dbaf4d95561dea2c320d4a47]\n",
       "cluster E1--><a href=\"psysml:a2683da9-1b6e-41fc-828a-cc7d1e5b2935\" target=\"_top\" title=\"psysml:a2683da9-1b6e-41fc-828a-cc7d1e5b2935\" xlink:actuate=\"onRequest\" xlink:href=\"psysml:a2683da9-1b6e-41fc-828a-cc7d1e5b2935\" xlink:show=\"new\" xlink:title=\"psysml:a2683da9-1b6e-41fc-828a-cc7d1e5b2935\" xlink:type=\"simple\"><polygon fill=\"#FFFFFF\" points=\"16,6,96,6,103,28.2969,655,28.2969,655,315,16,315,16,6\" style=\"stroke: #000000; stroke-width: 1.5;\"/><line style=\"stroke: #000000; stroke-width: 1.5;\" x1=\"16\" x2=\"103\" y1=\"28.2969\" y2=\"28.2969\"/><text fill=\"#000000\" font-family=\"sans-serif\" font-size=\"14\" font-weight=\"bold\" lengthAdjust=\"spacingAndGlyphs\" textLength=\"74\" x=\"20\" y=\"20.9951\">ActionTest</text></a><!--MD5=[b4997ac47864f28c2f74865a473b2911]\n",
       "class E2--><a href=\"psysml:9c87d4ab-cb1d-4b31-8fcd-81209805f4cd\" target=\"_top\" title=\"psysml:9c87d4ab-cb1d-4b31-8fcd-81209805f4cd\" xlink:actuate=\"onRequest\" xlink:href=\"psysml:9c87d4ab-cb1d-4b31-8fcd-81209805f4cd\" xlink:show=\"new\" xlink:title=\"psysml:9c87d4ab-cb1d-4b31-8fcd-81209805f4cd\" xlink:type=\"simple\"><rect fill=\"#FFFFFF\" height=\"45.9375\" id=\"E2\" style=\"stroke: #383838; stroke-width: 1.5;\" width=\"95\" x=\"278.5\" y=\"253\"/><text fill=\"#000000\" font-family=\"sans-serif\" font-size=\"12\" font-style=\"italic\" lengthAdjust=\"spacingAndGlyphs\" textLength=\"93\" x=\"279.5\" y=\"269.1387\">«attribute def»</text><text fill=\"#000000\" font-family=\"sans-serif\" font-size=\"12\" lengthAdjust=\"spacingAndGlyphs\" textLength=\"8\" x=\"322\" y=\"283.1074\">S</text><line style=\"stroke: #383838; stroke-width: 1.5;\" x1=\"279.5\" x2=\"372.5\" y1=\"290.9375\" y2=\"290.9375\"/></a><!--MD5=[09b614a08d8cba4a07c9adeb5e0fee81]\n",
       "class E3--><a href=\"psysml:88e0a3c5-b7f9-4d13-8306-ae5e61691436\" target=\"_top\" title=\"psysml:88e0a3c5-b7f9-4d13-8306-ae5e61691436\" xlink:actuate=\"onRequest\" xlink:href=\"psysml:88e0a3c5-b7f9-4d13-8306-ae5e61691436\" xlink:show=\"new\" xlink:title=\"psysml:88e0a3c5-b7f9-4d13-8306-ae5e61691436\" xlink:type=\"simple\"><rect fill=\"#FFFFFF\" height=\"45.9375\" id=\"E3\" rx=\"10\" ry=\"10\" style=\"stroke: #383838; stroke-width: 1.5;\" width=\"55\" x=\"298.5\" y=\"41\"/><text fill=\"#000000\" font-family=\"sans-serif\" font-size=\"12\" font-style=\"italic\" lengthAdjust=\"spacingAndGlyphs\" textLength=\"53\" x=\"299.5\" y=\"57.1387\">«action»</text><text fill=\"#000000\" font-family=\"sans-serif\" font-size=\"12\" lengthAdjust=\"spacingAndGlyphs\" textLength=\"8\" x=\"322\" y=\"71.1074\">a</text><line style=\"stroke: #383838; stroke-width: 1.5;\" x1=\"299.5\" x2=\"352.5\" y1=\"78.9375\" y2=\"78.9375\"/></a><!--MD5=[ebbe1d658d1005bcc118a6aa81145e00]\n",
       "class E4--><a href=\"psysml:ed24d8b9-3ec6-4590-a85f-1d8fbc6b009f\" target=\"_top\" title=\"psysml:ed24d8b9-3ec6-4590-a85f-1d8fbc6b009f\" xlink:actuate=\"onRequest\" xlink:href=\"psysml:ed24d8b9-3ec6-4590-a85f-1d8fbc6b009f\" xlink:show=\"new\" xlink:title=\"psysml:ed24d8b9-3ec6-4590-a85f-1d8fbc6b009f\" xlink:type=\"simple\"><rect fill=\"#FFFFFF\" height=\"45.9375\" id=\"E4\" rx=\"10\" ry=\"10\" style=\"stroke: #383838; stroke-width: 1.5;\" width=\"83\" x=\"32.5\" y=\"147\"/><text fill=\"#000000\" font-family=\"sans-serif\" font-size=\"12\" font-style=\"italic\" lengthAdjust=\"spacingAndGlyphs\" textLength=\"53\" x=\"47.5\" y=\"163.1387\">«action»</text><text fill=\"#000000\" font-family=\"sans-serif\" font-size=\"12\" lengthAdjust=\"spacingAndGlyphs\" textLength=\"77\" x=\"35.5\" y=\"177.1074\">start: Action</text><line style=\"stroke: #383838; stroke-width: 1.5;\" x1=\"33.5\" x2=\"114.5\" y1=\"184.9375\" y2=\"184.9375\"/></a><!--MD5=[270fce915f116d4de14055a7c1d9a0f3]\n",
       "class E5--><a href=\"psysml:207ebb71-0108-47ac-8eb2-03003f2402f5\" target=\"_top\" title=\"psysml:207ebb71-0108-47ac-8eb2-03003f2402f5\" xlink:actuate=\"onRequest\" xlink:href=\"psysml:207ebb71-0108-47ac-8eb2-03003f2402f5\" xlink:show=\"new\" xlink:title=\"psysml:207ebb71-0108-47ac-8eb2-03003f2402f5\" xlink:type=\"simple\"><rect fill=\"#FFFFFF\" height=\"45.9375\" id=\"E5\" rx=\"10\" ry=\"10\" style=\"stroke: #383838; stroke-width: 1.5;\" width=\"89\" x=\"150.5\" y=\"147\"/><text fill=\"#000000\" font-family=\"sans-serif\" font-size=\"12\" font-style=\"italic\" lengthAdjust=\"spacingAndGlyphs\" textLength=\"87\" x=\"151.5\" y=\"163.1387\">«mergeNode»</text><text fill=\"#000000\" font-family=\"sans-serif\" font-size=\"12\" lengthAdjust=\"spacingAndGlyphs\" textLength=\"11\" x=\"189.5\" y=\"177.1074\">m</text><line style=\"stroke: #383838; stroke-width: 1.5;\" x1=\"151.5\" x2=\"238.5\" y1=\"184.9375\" y2=\"184.9375\"/></a><!--MD5=[60a26617385b1d2d0262a64233df1f8d]\n",
       "class E6--><a href=\"psysml:56f9bc80-23d6-47f0-bfbf-c5e902f86ac6\" target=\"_top\" title=\"psysml:56f9bc80-23d6-47f0-bfbf-c5e902f86ac6\" xlink:actuate=\"onRequest\" xlink:href=\"psysml:56f9bc80-23d6-47f0-bfbf-c5e902f86ac6\" xlink:show=\"new\" xlink:title=\"psysml:56f9bc80-23d6-47f0-bfbf-c5e902f86ac6\" xlink:type=\"simple\"><rect fill=\"#FFFFFF\" height=\"45.9375\" id=\"E6\" rx=\"10\" ry=\"10\" style=\"stroke: #383838; stroke-width: 1.5;\" width=\"102\" x=\"275\" y=\"147\"/><text fill=\"#000000\" font-family=\"sans-serif\" font-size=\"12\" font-style=\"italic\" lengthAdjust=\"spacingAndGlyphs\" textLength=\"100\" x=\"276\" y=\"163.1387\">«accept action»</text><text fill=\"#000000\" font-family=\"sans-serif\" font-size=\"12\" lengthAdjust=\"spacingAndGlyphs\" text-decoration=\"line-through\" textLength=\"51\" x=\"300.5\" y=\"177.1074\">noname</text><line style=\"stroke: #383838; stroke-width: 1.5;\" x1=\"276\" x2=\"376\" y1=\"184.9375\" y2=\"184.9375\"/></a><!--MD5=[2156ba9850f5573cc1fc38a6a4b2f02b]\n",
       "class E7--><a href=\"psysml:baf32606-26e9-4cc3-a29f-e775486b01d7\" target=\"_top\" title=\"psysml:baf32606-26e9-4cc3-a29f-e775486b01d7\" xlink:actuate=\"onRequest\" xlink:href=\"psysml:baf32606-26e9-4cc3-a29f-e775486b01d7\" xlink:show=\"new\" xlink:title=\"psysml:baf32606-26e9-4cc3-a29f-e775486b01d7\" xlink:type=\"simple\"><rect fill=\"#FFFFFF\" height=\"45.9375\" id=\"E7\" rx=\"10\" ry=\"10\" style=\"stroke: #383838; stroke-width: 1.5;\" width=\"90\" x=\"412\" y=\"147\"/><text fill=\"#000000\" font-family=\"sans-serif\" font-size=\"12\" font-style=\"italic\" lengthAdjust=\"spacingAndGlyphs\" textLength=\"88\" x=\"413\" y=\"163.1387\">«send action»</text><text fill=\"#000000\" font-family=\"sans-serif\" font-size=\"12\" lengthAdjust=\"spacingAndGlyphs\" text-decoration=\"line-through\" textLength=\"51\" x=\"431.5\" y=\"177.1074\">noname</text><line style=\"stroke: #383838; stroke-width: 1.5;\" x1=\"413\" x2=\"501\" y1=\"184.9375\" y2=\"184.9375\"/></a><!--MD5=[b9389687b975829384b498ac4b7476b2]\n",
       "class E8--><a href=\"psysml:de118d49-a158-4609-b10e-b605b2688318\" target=\"_top\" title=\"psysml:de118d49-a158-4609-b10e-b605b2688318\" xlink:actuate=\"onRequest\" xlink:href=\"psysml:de118d49-a158-4609-b10e-b605b2688318\" xlink:show=\"new\" xlink:title=\"psysml:de118d49-a158-4609-b10e-b605b2688318\" xlink:type=\"simple\"><rect fill=\"#FFFFFF\" height=\"45.9375\" id=\"E8\" rx=\"10\" ry=\"10\" style=\"stroke: #383838; stroke-width: 1.5;\" width=\"101\" x=\"537.5\" y=\"147\"/><text fill=\"#000000\" font-family=\"sans-serif\" font-size=\"12\" font-style=\"italic\" lengthAdjust=\"spacingAndGlyphs\" textLength=\"99\" x=\"538.5\" y=\"163.1387\">«decisionNode»</text><text fill=\"#000000\" font-family=\"sans-serif\" font-size=\"12\" lengthAdjust=\"spacingAndGlyphs\" text-decoration=\"line-through\" textLength=\"51\" x=\"562.5\" y=\"177.1074\">noname</text><line style=\"stroke: #383838; stroke-width: 1.5;\" x1=\"538.5\" x2=\"637.5\" y1=\"184.9375\" y2=\"184.9375\"/></a><!--MD5=[fd4143e9d270a159db93a4ea2a975926]\n",
       "class E9--><a href=\"psysml:79d3a6ab-38cc-49fb-ab8f-d1828ed09a3c\" target=\"_top\" title=\"psysml:79d3a6ab-38cc-49fb-ab8f-d1828ed09a3c\" xlink:actuate=\"onRequest\" xlink:href=\"psysml:79d3a6ab-38cc-49fb-ab8f-d1828ed09a3c\" xlink:show=\"new\" xlink:title=\"psysml:79d3a6ab-38cc-49fb-ab8f-d1828ed09a3c\" xlink:type=\"simple\"><rect fill=\"#FFFFFF\" height=\"45.9375\" id=\"E9\" style=\"stroke: #383838; stroke-width: 1.5;\" width=\"79\" x=\"108.5\" y=\"41\"/><text fill=\"#000000\" font-family=\"sans-serif\" font-size=\"12\" font-style=\"italic\" lengthAdjust=\"spacingAndGlyphs\" textLength=\"77\" x=\"109.5\" y=\"57.1387\">«action def»</text><text fill=\"#000000\" font-family=\"sans-serif\" font-size=\"12\" lengthAdjust=\"spacingAndGlyphs\" textLength=\"8\" x=\"144\" y=\"71.1074\">B</text><line style=\"stroke: #383838; stroke-width: 1.5;\" x1=\"109.5\" x2=\"186.5\" y1=\"78.9375\" y2=\"78.9375\"/></a><!--MD5=[4672eba38e49728da53d11aeb285b987]\n",
       "reverse link E3 to E4--><a href=\"psysml:2bdfcbda-067f-4f9a-98d2-dcf2fb74ea33\" target=\"_top\" title=\"psysml:2bdfcbda-067f-4f9a-98d2-dcf2fb74ea33\" xlink:actuate=\"onRequest\" xlink:href=\"psysml:2bdfcbda-067f-4f9a-98d2-dcf2fb74ea33\" xlink:show=\"new\" xlink:title=\"psysml:2bdfcbda-067f-4f9a-98d2-dcf2fb74ea33\" xlink:type=\"simple\"><path d=\"M316.83,102.09 C316.83,102.09 316.83,117 316.83,117 C316.83,117 70.5,117 70.5,117 C70.5,117 70.5,132.63 70.5,146.91 \" fill=\"none\" id=\"E3&lt;-E4\" style=\"stroke: #383838; stroke-width: 1.0; stroke-dasharray: 7.0,7.0;\"/><ellipse cx=\"316.83\" cy=\"95.09\" fill=\"#FFFFFF\" rx=\"8\" ry=\"8\" style=\"stroke: #383838; stroke-width: 1.0;\"/><line style=\"stroke: #383838; stroke-width: 1.0;\" x1=\"316.83\" x2=\"316.83\" y1=\"103.09\" y2=\"87.09\"/><line style=\"stroke: #383838; stroke-width: 1.0;\" x1=\"308.83\" x2=\"324.83\" y1=\"95.09\" y2=\"95.09\"/></a><!--MD5=[191cde3d490a3f6d7bb551fe3ddca469]\n",
       "reverse link E3 to E5--><a href=\"psysml:5bed3b2f-97a8-4cc2-a775-cf545f437587\" target=\"_top\" title=\"psysml:5bed3b2f-97a8-4cc2-a775-cf545f437587\" xlink:actuate=\"onRequest\" xlink:href=\"psysml:5bed3b2f-97a8-4cc2-a775-cf545f437587\" xlink:show=\"new\" xlink:title=\"psysml:5bed3b2f-97a8-4cc2-a775-cf545f437587\" xlink:type=\"simple\"><path d=\"M285.48,64 C285.48,64 213.5,64 213.5,64 C213.5,64 213.5,115.82 213.5,147 \" fill=\"none\" id=\"E3&lt;-E5\" style=\"stroke: #383838; stroke-width: 1.0;\"/><polygon fill=\"#383838\" points=\"298.48,64,292.48,60,286.48,64,292.48,68,298.48,64\" style=\"stroke: #383838; stroke-width: 1.0;\"/><text fill=\"#000000\" font-family=\"sans-serif\" font-size=\"13\" lengthAdjust=\"spacingAndGlyphs\" textLength=\"7\" x=\"210.5313\" y=\"135.8963\">*</text></a><!--MD5=[1026b4b93417a13aa8999a858998add2]\n",
       "reverse link E3 to E6--><a href=\"psysml:856d4c40-3d8a-43fc-9608-49cee162593b\" target=\"_top\" title=\"psysml:856d4c40-3d8a-43fc-9608-49cee162593b\" xlink:actuate=\"onRequest\" xlink:href=\"psysml:856d4c40-3d8a-43fc-9608-49cee162593b\" xlink:show=\"new\" xlink:title=\"psysml:856d4c40-3d8a-43fc-9608-49cee162593b\" xlink:type=\"simple\"><path d=\"M335.17,100 C335.17,100 335.17,146.68 335.17,146.68 \" fill=\"none\" id=\"E3&lt;-E6\" style=\"stroke: #383838; stroke-width: 1.0;\"/><polygon fill=\"#383838\" points=\"335.17,87,331.17,93,335.17,99,339.17,93,335.17,87\" style=\"stroke: #383838; stroke-width: 1.0;\"/><text fill=\"#000000\" font-family=\"sans-serif\" font-size=\"13\" lengthAdjust=\"spacingAndGlyphs\" textLength=\"7\" x=\"329.6229\" y=\"135.8743\">*</text></a><!--MD5=[3403bfa781cc3da0fd423dbab6f01c63]\n",
       "reverse link E6 to E2--><a href=\"psysml:1accd303-612e-4d59-ad9b-f522e5e57a44\" target=\"_top\" title=\"psysml:1accd303-612e-4d59-ad9b-f522e5e57a44\" xlink:actuate=\"onRequest\" xlink:href=\"psysml:1accd303-612e-4d59-ad9b-f522e5e57a44\" xlink:show=\"new\" xlink:title=\"psysml:1accd303-612e-4d59-ad9b-f522e5e57a44\" xlink:type=\"simple\"><path d=\"M326,206 C326,206 326,252.68 326,252.68 \" fill=\"none\" id=\"E6&lt;-E2\" style=\"stroke: #383838; stroke-width: 1.0;\"/><polygon fill=\"#FFFFFF\" points=\"326,193,322,199,326,205,330,199,326,193\" style=\"stroke: #383838; stroke-width: 1.0;\"/></a><!--MD5=[85760999379eecfd2565a9fecdca67e4]\n",
       "reverse link E3 to E7--><a href=\"psysml:a7054211-8666-4154-9247-2ebed4d34e27\" target=\"_top\" title=\"psysml:a7054211-8666-4154-9247-2ebed4d34e27\" xlink:actuate=\"onRequest\" xlink:href=\"psysml:a7054211-8666-4154-9247-2ebed4d34e27\" xlink:show=\"new\" xlink:title=\"psysml:a7054211-8666-4154-9247-2ebed4d34e27\" xlink:type=\"simple\"><path d=\"M366.78,72 C366.78,72 457,72 457,72 C457,72 457,117.8 457,146.78 \" fill=\"none\" id=\"E3&lt;-E7\" style=\"stroke: #383838; stroke-width: 1.0;\"/><polygon fill=\"#383838\" points=\"353.78,72,359.78,76,365.78,72,359.78,68,353.78,72\" style=\"stroke: #383838; stroke-width: 1.0;\"/><text fill=\"#000000\" font-family=\"sans-serif\" font-size=\"13\" lengthAdjust=\"spacingAndGlyphs\" textLength=\"7\" x=\"449.1031\" y=\"135.9999\">*</text></a><!--MD5=[4cb75b73ec3682b8f7f8edc9cc86126a]\n",
       "reverse link E3 to E8--><a href=\"psysml:6d3dd5fa-79f8-485d-9bbb-f558da8741e9\" target=\"_top\" title=\"psysml:6d3dd5fa-79f8-485d-9bbb-f558da8741e9\" xlink:actuate=\"onRequest\" xlink:href=\"psysml:6d3dd5fa-79f8-485d-9bbb-f558da8741e9\" xlink:show=\"new\" xlink:title=\"psysml:6d3dd5fa-79f8-485d-9bbb-f558da8741e9\" xlink:type=\"simple\"><path d=\"M366.54,57 C366.54,57 588,57 588,57 C588,57 588,113.8 588,146.86 \" fill=\"none\" id=\"E3&lt;-E8\" style=\"stroke: #383838; stroke-width: 1.0;\"/><polygon fill=\"#383838\" points=\"353.54,57,359.54,61,365.54,57,359.54,53,353.54,57\" style=\"stroke: #383838; stroke-width: 1.0;\"/></a><!--MD5=[6a6fd3d4d527adb5883879cb495eede3]\n",
       "@startuml\r\n",
       "skinparam linetype ortho\r\n",
       "skinparam monochrome true\r\n",
       "skinparam classbackgroundcolor white\r\n",
       "skinparam shadowing false\r\n",
       "skinparam wrapWidth 300\r\n",
       "hide circle\r\n",
       "\r\n",
       "package \"ActionTest\" as E1  [[psysml:a2683da9-1b6e-41fc-828a-cc7d1e5b2935 ]]  {\r\n",
       "comp def \"S\" as E2  <<(T,blue) attribute def>> [[psysml:9c87d4ab-cb1d-4b31-8fcd-81209805f4cd ]] {\r\n",
       "}\r\n",
       "comp usage \"a\" as E3  <<(T,blue) action>> [[psysml:88e0a3c5-b7f9-4d13-8306-ae5e61691436 ]] {\r\n",
       "}\r\n",
       "comp usage \"start: Action\" as E4  <<(T,blue) action>> [[psysml:ed24d8b9-3ec6-4590-a85f-1d8fbc6b009f ]] {\r\n",
       "}\r\n",
       "comp usage \"m\" as E5  <<(T,blue) mergeNode>> [[psysml:207ebb71-0108-47ac-8eb2-03003f2402f5 ]] {\r\n",
       "}\r\n",
       "comp usage \"<s>noname</s>\" as E6 << accept action>> [[psysml:56f9bc80-23d6-47f0-bfbf-c5e902f86ac6 ]] {\r\n",
       "}\r\n",
       "comp usage \"<s>noname</s>\" as E7 << send action>> [[psysml:baf32606-26e9-4cc3-a29f-e775486b01d7 ]] {\r\n",
       "}\r\n",
       "comp usage \"<s>noname</s>\" as E8  <<(T,blue) decisionNode>> [[psysml:de118d49-a158-4609-b10e-b605b2688318 ]] {\r\n",
       "}\r\n",
       "comp def \"B\" as E9  <<(T,blue) action def>> [[psysml:79d3a6ab-38cc-49fb-ab8f-d1828ed09a3c ]] {\r\n",
       "}\r\n",
       "}\r\n",
       "E3 +.. E4 [[psysml:2bdfcbda-067f-4f9a-98d2-dcf2fb74ea33 ]] \r\n",
       "E3 *- - \"*\"E5 [[psysml:5bed3b2f-97a8-4cc2-a775-cf545f437587 ]] \r\n",
       "E3 *- - \"*\"E6 [[psysml:856d4c40-3d8a-43fc-9608-49cee162593b ]] \r\n",
       "E6 o- - E2 [[psysml:1accd303-612e-4d59-ad9b-f522e5e57a44 ]] \r\n",
       "E3 *- - \"*\"E7 [[psysml:a7054211-8666-4154-9247-2ebed4d34e27 ]] \r\n",
       "E3 *- - E8 [[psysml:6d3dd5fa-79f8-485d-9bbb-f558da8741e9 ]] \r\n",
       "@enduml\r\n",
       "\n",
       "PlantUML version 1.2020.13(Sat Jun 13 12:26:38 UTC 2020)\n",
       "(EPL source distribution)\n",
       "Java Runtime: OpenJDK Runtime Environment\n",
       "JVM: OpenJDK 64-Bit Server VM\n",
       "Default Encoding: UTF-8\n",
       "Language: en\n",
       "Country: null\n",
       "--></g></svg>"
      ]
     },
     "execution_count": 52,
     "metadata": {},
     "output_type": "execute_result"
    }
   ],
   "source": [
    "%viz --style=\"ORTHOLINE\" --view=\"Tree\" \"ActionTest\""
   ]
  },
  {
   "cell_type": "code",
   "execution_count": 53,
   "id": "bae73b40",
   "metadata": {
    "execution": {
     "iopub.execute_input": "2021-09-27T07:16:58.441536Z",
     "iopub.status.busy": "2021-09-27T07:16:58.441091Z",
     "iopub.status.idle": "2021-09-27T07:16:58.445512Z",
     "shell.execute_reply": "2021-09-27T07:16:58.445162Z"
    }
   },
   "outputs": [
    {
     "data": {
      "image/svg+xml": [
       "<?xml version=\"1.0\" encoding=\"UTF-8\" standalone=\"no\"?><svg xmlns=\"http://www.w3.org/2000/svg\" xmlns:xlink=\"http://www.w3.org/1999/xlink\" contentScriptType=\"application/ecmascript\" contentStyleType=\"text/css\" height=\"12px\" preserveAspectRatio=\"none\" style=\"width:12px;height:12px;\" version=\"1.1\" viewBox=\"0 0 12 12\" width=\"12px\" zoomAndPan=\"magnify\"><defs/><g><!--MD5=[97d6f38768b311333d388e66b2b27985]\n",
       "@startuml\r\n",
       "skinparam linetype ortho\r\n",
       "skinparam monochrome true\r\n",
       "skinparam classbackgroundcolor white\r\n",
       "skinparam shadowing false\r\n",
       "skinparam wrapWidth 300\r\n",
       "hide circle\r\n",
       "\r\n",
       "@enduml\r\n",
       "\n",
       "PlantUML version 1.2020.13(Sat Jun 13 12:26:38 UTC 2020)\n",
       "(EPL source distribution)\n",
       "Java Runtime: OpenJDK Runtime Environment\n",
       "JVM: OpenJDK 64-Bit Server VM\n",
       "Default Encoding: UTF-8\n",
       "Language: en\n",
       "Country: null\n",
       "--></g></svg>"
      ]
     },
     "execution_count": 53,
     "metadata": {},
     "output_type": "execute_result"
    }
   ],
   "source": [
    "%viz --style=\"ORTHOLINE\" --view=\"State\" \"ActionTest\""
   ]
  },
  {
   "cell_type": "code",
   "execution_count": 54,
   "id": "73e13eec",
   "metadata": {
    "execution": {
     "iopub.execute_input": "2021-09-27T07:16:58.495457Z",
     "iopub.status.busy": "2021-09-27T07:16:58.495056Z",
     "iopub.status.idle": "2021-09-27T07:16:58.526269Z",
     "shell.execute_reply": "2021-09-27T07:16:58.524746Z"
    }
   },
   "outputs": [
    {
     "data": {
      "image/svg+xml": [
       "<?xml version=\"1.0\" encoding=\"UTF-8\" standalone=\"no\"?><svg xmlns=\"http://www.w3.org/2000/svg\" xmlns:xlink=\"http://www.w3.org/1999/xlink\" contentScriptType=\"application/ecmascript\" contentStyleType=\"text/css\" height=\"462px\" preserveAspectRatio=\"none\" style=\"width:522px;height:462px;\" version=\"1.1\" viewBox=\"0 0 522 462\" width=\"522px\" zoomAndPan=\"magnify\"><defs/><g><!--MD5=[fbc87193dbaf4d95561dea2c320d4a47]\n",
       "cluster E1--><a href=\"psysml:a2683da9-1b6e-41fc-828a-cc7d1e5b2935\" target=\"_top\" title=\"psysml:a2683da9-1b6e-41fc-828a-cc7d1e5b2935\" xlink:actuate=\"onRequest\" xlink:href=\"psysml:a2683da9-1b6e-41fc-828a-cc7d1e5b2935\" xlink:show=\"new\" xlink:title=\"psysml:a2683da9-1b6e-41fc-828a-cc7d1e5b2935\" xlink:type=\"simple\"><polygon fill=\"#FFFFFF\" points=\"16,6,96,6,103,28.2969,500,28.2969,500,450.5,16,450.5,16,6\" style=\"stroke: #000000; stroke-width: 1.5;\"/><line style=\"stroke: #000000; stroke-width: 1.5;\" x1=\"16\" x2=\"103\" y1=\"28.2969\" y2=\"28.2969\"/><text fill=\"#000000\" font-family=\"sans-serif\" font-size=\"14\" font-weight=\"bold\" lengthAdjust=\"spacingAndGlyphs\" textLength=\"74\" x=\"20\" y=\"20.9951\">ActionTest</text></a><!--MD5=[d5e69f78d87373223dbae638b30a9c99]\n",
       "cluster E3--><a href=\"psysml:88e0a3c5-b7f9-4d13-8306-ae5e61691436\" target=\"_top\" title=\"psysml:88e0a3c5-b7f9-4d13-8306-ae5e61691436\" xlink:actuate=\"onRequest\" xlink:href=\"psysml:88e0a3c5-b7f9-4d13-8306-ae5e61691436\" xlink:show=\"new\" xlink:title=\"psysml:88e0a3c5-b7f9-4d13-8306-ae5e61691436\" xlink:type=\"simple\"><rect fill=\"#FFFFFF\" height=\"377.5\" id=\"E3\" rx=\"10\" ry=\"10\" style=\"stroke: #383838; stroke-width: 1.5;\" width=\"209\" x=\"267\" y=\"49\"/><rect fill=\"#F8F8F8\" height=\"37.9375\" rx=\"10\" ry=\"10\" style=\"stroke: #F8F8F8; stroke-width: 1.5;\" width=\"209\" x=\"267\" y=\"49\"/><rect fill=\"#F8F8F8\" height=\"10\" style=\"stroke: #F8F8F8; stroke-width: 1.5;\" width=\"209\" x=\"267\" y=\"76.9375\"/><rect fill=\"none\" height=\"377.5\" id=\"E3\" rx=\"10\" ry=\"10\" style=\"stroke: #383838; stroke-width: 1.5;\" width=\"209\" x=\"267\" y=\"49\"/><text fill=\"#000000\" font-family=\"sans-serif\" font-size=\"12\" font-style=\"italic\" lengthAdjust=\"spacingAndGlyphs\" textLength=\"53\" x=\"345\" y=\"65.1387\">«action»</text><text fill=\"#000000\" font-family=\"sans-serif\" font-size=\"12\" lengthAdjust=\"spacingAndGlyphs\" textLength=\"8\" x=\"367.5\" y=\"79.1074\">a</text><line style=\"stroke: #383838; stroke-width: 1.0;\" x1=\"267\" x2=\"476\" y1=\"86.9375\" y2=\"86.9375\"/></a><g id=\"E1.E2\"><a href=\"psysml:9c87d4ab-cb1d-4b31-8fcd-81209805f4cd\" target=\"_top\" title=\"psysml:9c87d4ab-cb1d-4b31-8fcd-81209805f4cd\" xlink:actuate=\"onRequest\" xlink:href=\"psysml:9c87d4ab-cb1d-4b31-8fcd-81209805f4cd\" xlink:show=\"new\" xlink:title=\"psysml:9c87d4ab-cb1d-4b31-8fcd-81209805f4cd\" xlink:type=\"simple\"><rect fill=\"#FFFFFF\" height=\"42.9375\" id=\"E2\" style=\"stroke: #383838; stroke-width: 1.5;\" width=\"100\" x=\"151\" y=\"88.5\"/><rect fill=\"#F8F8F8\" height=\"37.9375\" style=\"stroke: #383838; stroke-width: 1.5;\" width=\"100\" x=\"151\" y=\"88.5\"/><text fill=\"#000000\" font-family=\"sans-serif\" font-size=\"12\" font-style=\"italic\" lengthAdjust=\"spacingAndGlyphs\" textLength=\"93\" x=\"154.5\" y=\"104.6387\">«attribute def»</text><text fill=\"#000000\" font-family=\"sans-serif\" font-size=\"12\" lengthAdjust=\"spacingAndGlyphs\" textLength=\"8\" x=\"197\" y=\"118.6074\">S</text></a></g><polygon fill=\"#F8F8F8\" points=\"424,148.5,436,160.5,424,172.5,412,160.5,424,148.5\" style=\"stroke: #383838; stroke-width: 1.5;\"/><!--MD5=[21dd76c19d33815960c0e92fef8f0eef]\n",
       "entity E5--><a href=\"psysml:56f9bc80-23d6-47f0-bfbf-c5e902f86ac6\" target=\"_top\" title=\"psysml:56f9bc80-23d6-47f0-bfbf-c5e902f86ac6\" xlink:actuate=\"onRequest\" xlink:href=\"psysml:56f9bc80-23d6-47f0-bfbf-c5e902f86ac6\" xlink:show=\"new\" xlink:title=\"psysml:56f9bc80-23d6-47f0-bfbf-c5e902f86ac6\" xlink:type=\"simple\"><polygon fill=\"#F8F8F8\" points=\"283,189.5,283,244.0938,423,244.0938,403,216.7969,423,189.5\" style=\"stroke: #000000; stroke-width: 1.5;\"/><text fill=\"#000000\" font-family=\"sans-serif\" font-size=\"14\" font-style=\"italic\" lengthAdjust=\"spacingAndGlyphs\" textLength=\"111\" x=\"290\" y=\"212.4951\">«accept action»</text><text fill=\"#000000\" font-family=\"sans-serif\" font-size=\"14\" lengthAdjust=\"spacingAndGlyphs\" textLength=\"9\" x=\"341\" y=\"229.792\">S</text></a><!--MD5=[24d87cdf3002d433f401b2a2aa9f9f65]\n",
       "entity E6--><a href=\"psysml:baf32606-26e9-4cc3-a29f-e775486b01d7\" target=\"_top\" title=\"psysml:baf32606-26e9-4cc3-a29f-e775486b01d7\" xlink:actuate=\"onRequest\" xlink:href=\"psysml:baf32606-26e9-4cc3-a29f-e775486b01d7\" xlink:show=\"new\" xlink:title=\"psysml:baf32606-26e9-4cc3-a29f-e775486b01d7\" xlink:type=\"simple\"><polygon fill=\"#F8F8F8\" points=\"283,277.5,283,332.0938,391,332.0938,411,304.7969,391,277.5\" style=\"stroke: #000000; stroke-width: 1.5;\"/><text fill=\"#000000\" font-family=\"sans-serif\" font-size=\"14\" font-style=\"italic\" lengthAdjust=\"spacingAndGlyphs\" textLength=\"99\" x=\"290\" y=\"300.4951\">«send action»</text><text fill=\"#000000\" font-family=\"sans-serif\" font-size=\"14\" lengthAdjust=\"spacingAndGlyphs\" textLength=\"65\" x=\"307\" y=\"317.792\">S() to  B()</text></a><polygon fill=\"#F8F8F8\" points=\"422,349.5,434,361.5,422,373.5,410,361.5,422,349.5\" style=\"stroke: #383838; stroke-width: 1.5;\"/><ellipse cx=\"424\" cy=\"110\" fill=\"#000000\" rx=\"10\" ry=\"10\" style=\"stroke: none; stroke-width: 1.0;\"/><ellipse cx=\"422\" cy=\"400.5\" fill=\"none\" rx=\"10\" ry=\"10\" style=\"stroke: #000000; stroke-width: 1.0;\"/><ellipse cx=\"422.5\" cy=\"401\" fill=\"#000000\" rx=\"6\" ry=\"6\" style=\"stroke: none; stroke-width: 1.0;\"/><g id=\"E1.E8\"><a href=\"psysml:79d3a6ab-38cc-49fb-ab8f-d1828ed09a3c\" target=\"_top\" title=\"psysml:79d3a6ab-38cc-49fb-ab8f-d1828ed09a3c\" xlink:actuate=\"onRequest\" xlink:href=\"psysml:79d3a6ab-38cc-49fb-ab8f-d1828ed09a3c\" xlink:show=\"new\" xlink:title=\"psysml:79d3a6ab-38cc-49fb-ab8f-d1828ed09a3c\" xlink:type=\"simple\"><rect fill=\"#FFFFFF\" height=\"42.9375\" id=\"E8\" style=\"stroke: #383838; stroke-width: 1.5;\" width=\"84\" x=\"32\" y=\"88.5\"/><rect fill=\"#F8F8F8\" height=\"37.9375\" style=\"stroke: #383838; stroke-width: 1.5;\" width=\"84\" x=\"32\" y=\"88.5\"/><text fill=\"#000000\" font-family=\"sans-serif\" font-size=\"12\" font-style=\"italic\" lengthAdjust=\"spacingAndGlyphs\" textLength=\"77\" x=\"35.5\" y=\"104.6387\">«action def»</text><text fill=\"#000000\" font-family=\"sans-serif\" font-size=\"12\" lengthAdjust=\"spacingAndGlyphs\" textLength=\"8\" x=\"70\" y=\"118.6074\">B</text></a></g><!--MD5=[f47e10efcf9a6752d55dae986d790ed9]\n",
       "link *start*E3 to E4--><a href=\"psysml:fb7d5adc-5880-4810-9813-86e53c07f96a\" target=\"_top\" title=\"psysml:fb7d5adc-5880-4810-9813-86e53c07f96a\" xlink:actuate=\"onRequest\" xlink:href=\"psysml:fb7d5adc-5880-4810-9813-86e53c07f96a\" xlink:show=\"new\" xlink:title=\"psysml:fb7d5adc-5880-4810-9813-86e53c07f96a\" xlink:type=\"simple\"><path d=\"M424,120.22 C424,120.22 424,143.15 424,143.15 \" fill=\"none\" id=\"*start*E3-&gt;E4\" style=\"stroke: #383838; stroke-width: 1.0;\"/><polygon fill=\"#383838\" points=\"424,148.15,428,139.15,424,143.15,420,139.15,424,148.15\" style=\"stroke: #383838; stroke-width: 1.0;\"/></a><!--MD5=[d19f2eb34364d71b67042106d92f540b]\n",
       "link E7 to *end*E3--><a href=\"psysml:c9de1ce8-1045-4471-9685-45647676290c\" target=\"_top\" title=\"psysml:c9de1ce8-1045-4471-9685-45647676290c\" xlink:actuate=\"onRequest\" xlink:href=\"psysml:c9de1ce8-1045-4471-9685-45647676290c\" xlink:show=\"new\" xlink:title=\"psysml:c9de1ce8-1045-4471-9685-45647676290c\" xlink:type=\"simple\"><path d=\"M422,373.84 C422,373.84 422,385.46 422,385.46 \" fill=\"none\" id=\"E7-&gt;*end*E3\" style=\"stroke: #383838; stroke-width: 1.0;\"/><polygon fill=\"#383838\" points=\"422,390.46,426,381.46,422,385.46,418,381.46,422,390.46\" style=\"stroke: #383838; stroke-width: 1.0;\"/></a><!--MD5=[1b7591eae5389033d8d09a9d6721a717]\n",
       "link E4 to E5--><a href=\"psysml:674af9b4-5477-4a2d-9c32-c1d49aef2cdc\" target=\"_top\" title=\"psysml:674af9b4-5477-4a2d-9c32-c1d49aef2cdc\" xlink:actuate=\"onRequest\" xlink:href=\"psysml:674af9b4-5477-4a2d-9c32-c1d49aef2cdc\" xlink:show=\"new\" xlink:title=\"psysml:674af9b4-5477-4a2d-9c32-c1d49aef2cdc\" xlink:type=\"simple\"><path d=\"M417.5,166.12 C417.5,166.12 417.5,184.3 417.5,184.3 \" fill=\"none\" id=\"E4-&gt;E5\" style=\"stroke: #383838; stroke-width: 1.0;\"/><polygon fill=\"#383838\" points=\"417.5,189.3,421.5,180.3,417.5,184.3,413.5,180.3,417.5,189.3\" style=\"stroke: #383838; stroke-width: 1.0;\"/><text fill=\"#000000\" font-family=\"sans-serif\" font-size=\"13\" lengthAdjust=\"spacingAndGlyphs\" textLength=\"7\" x=\"431.5133\" y=\"180.8235\">*</text></a><!--MD5=[9120cf2e5df3bff93db8f754bbbc09b4]\n",
       "link E5 to E6--><a href=\"psysml:f1d57d75-7b92-4f65-894e-3c0dce6664b2\" target=\"_top\" title=\"psysml:f1d57d75-7b92-4f65-894e-3c0dce6664b2\" xlink:actuate=\"onRequest\" xlink:href=\"psysml:f1d57d75-7b92-4f65-894e-3c0dce6664b2\" xlink:show=\"new\" xlink:title=\"psysml:f1d57d75-7b92-4f65-894e-3c0dce6664b2\" xlink:type=\"simple\"><path d=\"M347,244.84 C347,244.84 347,272.34 347,272.34 \" fill=\"none\" id=\"E5-&gt;E6\" style=\"stroke: #383838; stroke-width: 1.0;\"/><polygon fill=\"#383838\" points=\"347,277.34,351,268.34,347,272.34,343,268.34,347,277.34\" style=\"stroke: #383838; stroke-width: 1.0;\"/><text fill=\"#000000\" font-family=\"sans-serif\" font-size=\"13\" lengthAdjust=\"spacingAndGlyphs\" textLength=\"7\" x=\"339.1906\" y=\"266.3385\">*</text></a><!--MD5=[02c70b7c851c11e3980e4e90450dc5dd]\n",
       "link E6 to E7--><a href=\"psysml:5bbe4286-aec7-454e-8b07-ff0b44373e66\" target=\"_top\" title=\"psysml:5bbe4286-aec7-454e-8b07-ff0b44373e66\" xlink:actuate=\"onRequest\" xlink:href=\"psysml:5bbe4286-aec7-454e-8b07-ff0b44373e66\" xlink:show=\"new\" xlink:title=\"psysml:5bbe4286-aec7-454e-8b07-ff0b44373e66\" xlink:type=\"simple\"><path d=\"M411.03,305.5 C414.74,305.5 417,305.5 417,305.5 C417,305.5 417,349.18 417,349.18 \" fill=\"none\" id=\"E6-&gt;E7\" style=\"stroke: #383838; stroke-width: 1.0;\"/><polygon fill=\"#383838\" points=\"417,354.18,421,345.18,417,349.18,413,345.18,417,354.18\" style=\"stroke: #383838; stroke-width: 1.0;\"/><text fill=\"#000000\" font-family=\"sans-serif\" font-size=\"13\" lengthAdjust=\"spacingAndGlyphs\" textLength=\"7\" x=\"404.3803\" y=\"338.545\">*</text></a><!--MD5=[6bdd27f9905911a7e892a3dc65cf6b7c]\n",
       "link E7 to E4--><a href=\"psysml:df5824e0-bb07-4266-b9ed-97217b9e7a59\" target=\"_top\" title=\"psysml:df5824e0-bb07-4266-b9ed-97217b9e7a59\" xlink:actuate=\"onRequest\" xlink:href=\"psysml:df5824e0-bb07-4266-b9ed-97217b9e7a59\" xlink:show=\"new\" xlink:title=\"psysml:df5824e0-bb07-4266-b9ed-97217b9e7a59\" xlink:type=\"simple\"><path d=\"M428.5,355.7 C428.5,355.7 428.5,173.4 428.5,173.4 \" fill=\"none\" id=\"E7-&gt;E4\" style=\"stroke: #383838; stroke-width: 1.0;\"/><polygon fill=\"#383838\" points=\"428.5,168.4,424.5,177.4,428.5,173.4,432.5,177.4,428.5,168.4\" style=\"stroke: #383838; stroke-width: 1.0;\"/><text fill=\"#000000\" font-family=\"sans-serif\" font-size=\"13\" lengthAdjust=\"spacingAndGlyphs\" textLength=\"36\" x=\"423\" y=\"265.5669\">[true]</text><text fill=\"#000000\" font-family=\"sans-serif\" font-size=\"13\" lengthAdjust=\"spacingAndGlyphs\" textLength=\"7\" x=\"431.1585\" y=\"189.1549\">*</text></a><!--MD5=[f3401b3cbc1e0b93982df54764a67112]\n",
       "@startuml\r\n",
       "skinparam ranksep 10\r\n",
       "skinparam rectangle {\r\n",
       " backgroundColor<<block>> LightGreen\r\n",
       "}\r\n",
       "skinparam linetype ortho\r\n",
       "skinparam monochrome true\r\n",
       "skinparam classbackgroundcolor white\r\n",
       "skinparam shadowing false\r\n",
       "skinparam wrapWidth 300\r\n",
       "hide circle\r\n",
       "\r\n",
       "package \"ActionTest\" as E1  [[psysml:a2683da9-1b6e-41fc-828a-cc7d1e5b2935 ]]  {\r\n",
       "def \"S\" as E2  <<(T,blue) attribute def>> [[psysml:9c87d4ab-cb1d-4b31-8fcd-81209805f4cd ]] \r\n",
       "rec usage \"a\" as E3  <<(T,blue) action>> [[psysml:88e0a3c5-b7f9-4d13-8306-ae5e61691436 ]] {\r\n",
       "choice \"m\" as E4  [[psysml:207ebb71-0108-47ac-8eb2-03003f2402f5 ]] \r\n",
       "accept \" S\" as E5 << accept action>> [[psysml:56f9bc80-23d6-47f0-bfbf-c5e902f86ac6 ]] \r\n",
       "send \" S() to  B()\" as E6 << send action>> [[psysml:baf32606-26e9-4cc3-a29f-e775486b01d7 ]] \r\n",
       "choice \"<s>noname</s>\" as E7  [[psysml:de118d49-a158-4609-b10e-b605b2688318 ]] \r\n",
       "[*] - -> E4 [[psysml:fb7d5adc-5880-4810-9813-86e53c07f96a ]] \r\n",
       "E7  - -> [*] [[psysml:c9de1ce8-1045-4471-9685-45647676290c ]] \r\n",
       "}\r\n",
       "\r\n",
       "rec def \"B\" as E8  <<(T,blue) action def>> [[psysml:79d3a6ab-38cc-49fb-ab8f-d1828ed09a3c ]] {\r\n",
       "}\r\n",
       "\r\n",
       "}\r\n",
       "E4 - -> \"*\"E5 [[psysml:674af9b4-5477-4a2d-9c32-c1d49aef2cdc ]] \r\n",
       "E5 - -> \"*\"E6 [[psysml:f1d57d75-7b92-4f65-894e-3c0dce6664b2 ]] \r\n",
       "E6 - -> \"*\"E7 [[psysml:5bbe4286-aec7-454e-8b07-ff0b44373e66 ]] \r\n",
       "E7  - -> \"*\"E4 [[psysml:df5824e0-bb07-4266-b9ed-97217b9e7a59 ]] : [true]\r\n",
       "@enduml\r\n",
       "\n",
       "PlantUML version 1.2020.13(Sat Jun 13 12:26:38 UTC 2020)\n",
       "(EPL source distribution)\n",
       "Java Runtime: OpenJDK Runtime Environment\n",
       "JVM: OpenJDK 64-Bit Server VM\n",
       "Default Encoding: UTF-8\n",
       "Language: en\n",
       "Country: null\n",
       "--></g></svg>"
      ]
     },
     "execution_count": 54,
     "metadata": {},
     "output_type": "execute_result"
    }
   ],
   "source": [
    "%viz --style=\"ORTHOLINE\" --view=\"Interconnection\" \"ActionTest\""
   ]
  },
  {
   "cell_type": "code",
   "execution_count": 55,
   "id": "d7a8868e",
   "metadata": {
    "execution": {
     "iopub.execute_input": "2021-09-27T07:16:58.575426Z",
     "iopub.status.busy": "2021-09-27T07:16:58.575020Z",
     "iopub.status.idle": "2021-09-27T07:16:58.614065Z",
     "shell.execute_reply": "2021-09-27T07:16:58.613664Z"
    }
   },
   "outputs": [
    {
     "data": {
      "image/svg+xml": [
       "<?xml version=\"1.0\" encoding=\"UTF-8\" standalone=\"no\"?><svg xmlns=\"http://www.w3.org/2000/svg\" xmlns:xlink=\"http://www.w3.org/1999/xlink\" contentScriptType=\"application/ecmascript\" contentStyleType=\"text/css\" height=\"395px\" preserveAspectRatio=\"none\" style=\"width:328px;height:395px;\" version=\"1.1\" viewBox=\"0 0 328 395\" width=\"328px\" zoomAndPan=\"magnify\"><defs/><g><!--MD5=[fbc87193dbaf4d95561dea2c320d4a47]\n",
       "cluster E1--><a href=\"psysml:88e0a3c5-b7f9-4d13-8306-ae5e61691436\" target=\"_top\" title=\"psysml:88e0a3c5-b7f9-4d13-8306-ae5e61691436\" xlink:actuate=\"onRequest\" xlink:href=\"psysml:88e0a3c5-b7f9-4d13-8306-ae5e61691436\" xlink:show=\"new\" xlink:title=\"psysml:88e0a3c5-b7f9-4d13-8306-ae5e61691436\" xlink:type=\"simple\"><rect fill=\"#FFFFFF\" height=\"377.5\" id=\"E1\" rx=\"10\" ry=\"10\" style=\"stroke: #383838; stroke-width: 1.5;\" width=\"209\" x=\"107\" y=\"7\"/><rect fill=\"#F8F8F8\" height=\"37.9375\" rx=\"10\" ry=\"10\" style=\"stroke: #F8F8F8; stroke-width: 1.5;\" width=\"209\" x=\"107\" y=\"7\"/><rect fill=\"#F8F8F8\" height=\"10\" style=\"stroke: #F8F8F8; stroke-width: 1.5;\" width=\"209\" x=\"107\" y=\"34.9375\"/><rect fill=\"none\" height=\"377.5\" id=\"E1\" rx=\"10\" ry=\"10\" style=\"stroke: #383838; stroke-width: 1.5;\" width=\"209\" x=\"107\" y=\"7\"/><text fill=\"#000000\" font-family=\"sans-serif\" font-size=\"12\" font-style=\"italic\" lengthAdjust=\"spacingAndGlyphs\" textLength=\"53\" x=\"185\" y=\"23.1387\">«action»</text><text fill=\"#000000\" font-family=\"sans-serif\" font-size=\"12\" lengthAdjust=\"spacingAndGlyphs\" textLength=\"8\" x=\"207.5\" y=\"37.1074\">a</text><line style=\"stroke: #383838; stroke-width: 1.0;\" x1=\"107\" x2=\"316\" y1=\"44.9375\" y2=\"44.9375\"/></a><polygon fill=\"#F8F8F8\" points=\"264,106.5,276,118.5,264,130.5,252,118.5,264,106.5\" style=\"stroke: #383838; stroke-width: 1.5;\"/><!--MD5=[a60fb756f580feb9fd8e2cf1329b5c91]\n",
       "entity E3--><a href=\"psysml:56f9bc80-23d6-47f0-bfbf-c5e902f86ac6\" target=\"_top\" title=\"psysml:56f9bc80-23d6-47f0-bfbf-c5e902f86ac6\" xlink:actuate=\"onRequest\" xlink:href=\"psysml:56f9bc80-23d6-47f0-bfbf-c5e902f86ac6\" xlink:show=\"new\" xlink:title=\"psysml:56f9bc80-23d6-47f0-bfbf-c5e902f86ac6\" xlink:type=\"simple\"><polygon fill=\"#F8F8F8\" points=\"123,147.5,123,202.0938,263,202.0938,243,174.7969,263,147.5\" style=\"stroke: #000000; stroke-width: 1.5;\"/><text fill=\"#000000\" font-family=\"sans-serif\" font-size=\"14\" font-style=\"italic\" lengthAdjust=\"spacingAndGlyphs\" textLength=\"111\" x=\"130\" y=\"170.4951\">«accept action»</text><text fill=\"#000000\" font-family=\"sans-serif\" font-size=\"14\" lengthAdjust=\"spacingAndGlyphs\" textLength=\"9\" x=\"181\" y=\"187.792\">S</text></a><!--MD5=[961cefdc15414eaa3e87aec9d17c2188]\n",
       "entity E4--><a href=\"psysml:baf32606-26e9-4cc3-a29f-e775486b01d7\" target=\"_top\" title=\"psysml:baf32606-26e9-4cc3-a29f-e775486b01d7\" xlink:actuate=\"onRequest\" xlink:href=\"psysml:baf32606-26e9-4cc3-a29f-e775486b01d7\" xlink:show=\"new\" xlink:title=\"psysml:baf32606-26e9-4cc3-a29f-e775486b01d7\" xlink:type=\"simple\"><polygon fill=\"#F8F8F8\" points=\"123,235.5,123,290.0938,231,290.0938,251,262.7969,231,235.5\" style=\"stroke: #000000; stroke-width: 1.5;\"/><text fill=\"#000000\" font-family=\"sans-serif\" font-size=\"14\" font-style=\"italic\" lengthAdjust=\"spacingAndGlyphs\" textLength=\"99\" x=\"130\" y=\"258.4951\">«send action»</text><text fill=\"#000000\" font-family=\"sans-serif\" font-size=\"14\" lengthAdjust=\"spacingAndGlyphs\" textLength=\"65\" x=\"147\" y=\"275.792\">S() to  B()</text></a><polygon fill=\"#F8F8F8\" points=\"262,307.5,274,319.5,262,331.5,250,319.5,262,307.5\" style=\"stroke: #383838; stroke-width: 1.5;\"/><ellipse cx=\"264\" cy=\"68\" fill=\"#000000\" rx=\"10\" ry=\"10\" style=\"stroke: none; stroke-width: 1.0;\"/><ellipse cx=\"262\" cy=\"358.5\" fill=\"none\" rx=\"10\" ry=\"10\" style=\"stroke: #000000; stroke-width: 1.0;\"/><ellipse cx=\"262.5\" cy=\"359\" fill=\"#000000\" rx=\"6\" ry=\"6\" style=\"stroke: none; stroke-width: 1.0;\"/><g id=\"E6\"><a href=\"psysml:79d3a6ab-38cc-49fb-ab8f-d1828ed09a3c\" target=\"_top\" title=\"psysml:79d3a6ab-38cc-49fb-ab8f-d1828ed09a3c\" xlink:actuate=\"onRequest\" xlink:href=\"psysml:79d3a6ab-38cc-49fb-ab8f-d1828ed09a3c\" xlink:show=\"new\" xlink:title=\"psysml:79d3a6ab-38cc-49fb-ab8f-d1828ed09a3c\" xlink:type=\"simple\"><rect fill=\"#FFFFFF\" height=\"42.9375\" id=\"E6\" style=\"stroke: #383838; stroke-width: 1.5;\" width=\"84\" x=\"7\" y=\"46.5\"/><rect fill=\"#F8F8F8\" height=\"37.9375\" style=\"stroke: #383838; stroke-width: 1.5;\" width=\"84\" x=\"7\" y=\"46.5\"/><text fill=\"#000000\" font-family=\"sans-serif\" font-size=\"12\" font-style=\"italic\" lengthAdjust=\"spacingAndGlyphs\" textLength=\"77\" x=\"10.5\" y=\"62.6387\">«action def»</text><text fill=\"#000000\" font-family=\"sans-serif\" font-size=\"12\" lengthAdjust=\"spacingAndGlyphs\" textLength=\"8\" x=\"45\" y=\"76.6074\">B</text></a></g><!--MD5=[cff944eb183b832d446717a4e202d613]\n",
       "link *start*E1 to E2--><a href=\"psysml:fb7d5adc-5880-4810-9813-86e53c07f96a\" target=\"_top\" title=\"psysml:fb7d5adc-5880-4810-9813-86e53c07f96a\" xlink:actuate=\"onRequest\" xlink:href=\"psysml:fb7d5adc-5880-4810-9813-86e53c07f96a\" xlink:show=\"new\" xlink:title=\"psysml:fb7d5adc-5880-4810-9813-86e53c07f96a\" xlink:type=\"simple\"><path d=\"M264,78.22 C264,78.22 264,101.15 264,101.15 \" fill=\"none\" id=\"*start*E1-&gt;E2\" style=\"stroke: #383838; stroke-width: 1.0; stroke-dasharray: 7.0,7.0;\"/><polygon fill=\"#383838\" points=\"264,106.15,268,97.15,264,101.15,260,97.15,264,106.15\" style=\"stroke: #383838; stroke-width: 1.0;\"/></a><!--MD5=[7fc47fc0d107820853a137871ad908c8]\n",
       "link E5 to *end*E1--><a href=\"psysml:c9de1ce8-1045-4471-9685-45647676290c\" target=\"_top\" title=\"psysml:c9de1ce8-1045-4471-9685-45647676290c\" xlink:actuate=\"onRequest\" xlink:href=\"psysml:c9de1ce8-1045-4471-9685-45647676290c\" xlink:show=\"new\" xlink:title=\"psysml:c9de1ce8-1045-4471-9685-45647676290c\" xlink:type=\"simple\"><path d=\"M262,331.84 C262,331.84 262,343.46 262,343.46 \" fill=\"none\" id=\"E5-&gt;*end*E1\" style=\"stroke: #383838; stroke-width: 1.0; stroke-dasharray: 7.0,7.0;\"/><polygon fill=\"#383838\" points=\"262,348.46,266,339.46,262,343.46,258,339.46,262,348.46\" style=\"stroke: #383838; stroke-width: 1.0;\"/></a><!--MD5=[2720a5a1f2c3fca2055b230370638851]\n",
       "link E2 to E3--><a href=\"psysml:674af9b4-5477-4a2d-9c32-c1d49aef2cdc\" target=\"_top\" title=\"psysml:674af9b4-5477-4a2d-9c32-c1d49aef2cdc\" xlink:actuate=\"onRequest\" xlink:href=\"psysml:674af9b4-5477-4a2d-9c32-c1d49aef2cdc\" xlink:show=\"new\" xlink:title=\"psysml:674af9b4-5477-4a2d-9c32-c1d49aef2cdc\" xlink:type=\"simple\"><path d=\"M257.5,124.12 C257.5,124.12 257.5,142.3 257.5,142.3 \" fill=\"none\" id=\"E2-&gt;E3\" style=\"stroke: #383838; stroke-width: 1.0; stroke-dasharray: 7.0,7.0;\"/><polygon fill=\"#383838\" points=\"257.5,147.3,261.5,138.3,257.5,142.3,253.5,138.3,257.5,147.3\" style=\"stroke: #383838; stroke-width: 1.0;\"/></a><!--MD5=[af87c684e3b0d8be13c1a698a818ef1e]\n",
       "link E3 to E4--><a href=\"psysml:f1d57d75-7b92-4f65-894e-3c0dce6664b2\" target=\"_top\" title=\"psysml:f1d57d75-7b92-4f65-894e-3c0dce6664b2\" xlink:actuate=\"onRequest\" xlink:href=\"psysml:f1d57d75-7b92-4f65-894e-3c0dce6664b2\" xlink:show=\"new\" xlink:title=\"psysml:f1d57d75-7b92-4f65-894e-3c0dce6664b2\" xlink:type=\"simple\"><path d=\"M187,202.84 C187,202.84 187,230.34 187,230.34 \" fill=\"none\" id=\"E3-&gt;E4\" style=\"stroke: #383838; stroke-width: 1.0; stroke-dasharray: 7.0,7.0;\"/><polygon fill=\"#383838\" points=\"187,235.34,191,226.34,187,230.34,183,226.34,187,235.34\" style=\"stroke: #383838; stroke-width: 1.0;\"/></a><!--MD5=[1b7591eae5389033d8d09a9d6721a717]\n",
       "link E4 to E5--><a href=\"psysml:5bbe4286-aec7-454e-8b07-ff0b44373e66\" target=\"_top\" title=\"psysml:5bbe4286-aec7-454e-8b07-ff0b44373e66\" xlink:actuate=\"onRequest\" xlink:href=\"psysml:5bbe4286-aec7-454e-8b07-ff0b44373e66\" xlink:show=\"new\" xlink:title=\"psysml:5bbe4286-aec7-454e-8b07-ff0b44373e66\" xlink:type=\"simple\"><path d=\"M251.03,263.5 C254.74,263.5 257,263.5 257,263.5 C257,263.5 257,307.18 257,307.18 \" fill=\"none\" id=\"E4-&gt;E5\" style=\"stroke: #383838; stroke-width: 1.0; stroke-dasharray: 7.0,7.0;\"/><polygon fill=\"#383838\" points=\"257,312.18,261,303.18,257,307.18,253,303.18,257,312.18\" style=\"stroke: #383838; stroke-width: 1.0;\"/></a><!--MD5=[15ebcb19ae302d9b601edb458606d402]\n",
       "link E5 to E2--><a href=\"psysml:df5824e0-bb07-4266-b9ed-97217b9e7a59\" target=\"_top\" title=\"psysml:df5824e0-bb07-4266-b9ed-97217b9e7a59\" xlink:actuate=\"onRequest\" xlink:href=\"psysml:df5824e0-bb07-4266-b9ed-97217b9e7a59\" xlink:show=\"new\" xlink:title=\"psysml:df5824e0-bb07-4266-b9ed-97217b9e7a59\" xlink:type=\"simple\"><path d=\"M268.5,313.7 C268.5,313.7 268.5,131.4 268.5,131.4 \" fill=\"none\" id=\"E5-&gt;E2\" style=\"stroke: #383838; stroke-width: 1.0; stroke-dasharray: 7.0,7.0;\"/><polygon fill=\"#383838\" points=\"268.5,126.4,264.5,135.4,268.5,131.4,272.5,135.4,268.5,126.4\" style=\"stroke: #383838; stroke-width: 1.0;\"/><text fill=\"#000000\" font-family=\"sans-serif\" font-size=\"13\" lengthAdjust=\"spacingAndGlyphs\" textLength=\"36\" x=\"263\" y=\"223.5669\">[true]</text></a><!--MD5=[cf3b710838541391469434a5231618ee]\n",
       "@startuml\r\n",
       "skinparam ranksep 8\r\n",
       "skinparam linetype ortho\r\n",
       "skinparam monochrome true\r\n",
       "skinparam classbackgroundcolor white\r\n",
       "skinparam shadowing false\r\n",
       "skinparam wrapWidth 300\r\n",
       "hide circle\r\n",
       "\r\n",
       "rec usage \"a\" as E1  <<(T,blue) action>> [[psysml:88e0a3c5-b7f9-4d13-8306-ae5e61691436 ]] {\r\n",
       "choice \"m\" as E2  [[psysml:207ebb71-0108-47ac-8eb2-03003f2402f5 ]] \r\n",
       "accept \" S\" as E3 << accept action>> [[psysml:56f9bc80-23d6-47f0-bfbf-c5e902f86ac6 ]] \r\n",
       "send \" S() to  B()\" as E4 << send action>> [[psysml:baf32606-26e9-4cc3-a29f-e775486b01d7 ]] \r\n",
       "choice \"<s>noname</s>\" as E5  [[psysml:de118d49-a158-4609-b10e-b605b2688318 ]] \r\n",
       "[*] ..> E2 [[psysml:fb7d5adc-5880-4810-9813-86e53c07f96a ]] \r\n",
       "E5 ..> [*] [[psysml:c9de1ce8-1045-4471-9685-45647676290c ]] \r\n",
       "}\r\n",
       "\r\n",
       "E2 ..> E3 [[psysml:674af9b4-5477-4a2d-9c32-c1d49aef2cdc ]] \r\n",
       "E3 ..> E4 [[psysml:f1d57d75-7b92-4f65-894e-3c0dce6664b2 ]] \r\n",
       "E4 ..> E5 [[psysml:5bbe4286-aec7-454e-8b07-ff0b44373e66 ]] \r\n",
       "E5 ..> E2 [[psysml:df5824e0-bb07-4266-b9ed-97217b9e7a59 ]] : [true]\r\n",
       "rec def \"B\" as E6  <<(T,blue) action def>> [[psysml:79d3a6ab-38cc-49fb-ab8f-d1828ed09a3c ]] {\r\n",
       "}\r\n",
       "\r\n",
       "@enduml\r\n",
       "\n",
       "PlantUML version 1.2020.13(Sat Jun 13 12:26:38 UTC 2020)\n",
       "(EPL source distribution)\n",
       "Java Runtime: OpenJDK Runtime Environment\n",
       "JVM: OpenJDK 64-Bit Server VM\n",
       "Default Encoding: UTF-8\n",
       "Language: en\n",
       "Country: null\n",
       "--></g></svg>"
      ]
     },
     "execution_count": 55,
     "metadata": {},
     "output_type": "execute_result"
    }
   ],
   "source": [
    "%viz --style=\"ORTHOLINE\" --view=\"Action\" \"ActionTest\""
   ]
  },
  {
   "cell_type": "code",
   "execution_count": 56,
   "id": "291d8cd5",
   "metadata": {
    "execution": {
     "iopub.execute_input": "2021-09-27T07:16:58.663719Z",
     "iopub.status.busy": "2021-09-27T07:16:58.663314Z",
     "iopub.status.idle": "2021-09-27T07:16:58.669152Z",
     "shell.execute_reply": "2021-09-27T07:16:58.668801Z"
    }
   },
   "outputs": [
    {
     "data": {
      "image/svg+xml": [
       "<?xml version=\"1.0\" encoding=\"UTF-8\" standalone=\"no\"?><svg xmlns=\"http://www.w3.org/2000/svg\" xmlns:xlink=\"http://www.w3.org/1999/xlink\" contentScriptType=\"application/ecmascript\" contentStyleType=\"text/css\" height=\"12px\" preserveAspectRatio=\"none\" style=\"width:12px;height:12px;\" version=\"1.1\" viewBox=\"0 0 12 12\" width=\"12px\" zoomAndPan=\"magnify\"><defs/><g><!--MD5=[30fc1de5121c5abddedd55b44417fde8]\n",
       "@startuml\r\n",
       "skinparam roundcorner 20\r\n",
       "skinparam BoxPadding 20\r\n",
       "skinparam SequenceBoxBackgroundColor #white\r\n",
       "skinparam style strictuml\r\n",
       "skinparam maxMessageSize 100\r\n",
       "skinparam linetype ortho\r\n",
       "skinparam monochrome true\r\n",
       "skinparam classbackgroundcolor white\r\n",
       "skinparam shadowing false\r\n",
       "skinparam wrapWidth 300\r\n",
       "hide circle\r\n",
       "\r\n",
       "@enduml\r\n",
       "\n",
       "PlantUML version 1.2020.13(Sat Jun 13 12:26:38 UTC 2020)\n",
       "(EPL source distribution)\n",
       "Java Runtime: OpenJDK Runtime Environment\n",
       "JVM: OpenJDK 64-Bit Server VM\n",
       "Default Encoding: UTF-8\n",
       "Language: en\n",
       "Country: null\n",
       "--></g></svg>"
      ]
     },
     "execution_count": 56,
     "metadata": {},
     "output_type": "execute_result"
    }
   ],
   "source": [
    "%viz --style=\"ORTHOLINE\" --view=\"Sequence\" \"ActionTest\""
   ]
  },
  {
   "cell_type": "code",
   "execution_count": 57,
   "id": "76fa77e3",
   "metadata": {
    "execution": {
     "iopub.execute_input": "2021-09-27T07:16:58.719031Z",
     "iopub.status.busy": "2021-09-27T07:16:58.718628Z",
     "iopub.status.idle": "2021-09-27T07:16:58.764784Z",
     "shell.execute_reply": "2021-09-27T07:16:58.763559Z"
    }
   },
   "outputs": [
    {
     "data": {
      "image/svg+xml": [
       "<?xml version=\"1.0\" encoding=\"UTF-8\" standalone=\"no\"?><svg xmlns=\"http://www.w3.org/2000/svg\" xmlns:xlink=\"http://www.w3.org/1999/xlink\" contentScriptType=\"application/ecmascript\" contentStyleType=\"text/css\" height=\"684px\" preserveAspectRatio=\"none\" style=\"width:518px;height:684px;\" version=\"1.1\" viewBox=\"0 0 518 684\" width=\"518px\" zoomAndPan=\"magnify\"><defs/><g><!--MD5=[fbc87193dbaf4d95561dea2c320d4a47]\n",
       "cluster E1--><a href=\"psysml:a2683da9-1b6e-41fc-828a-cc7d1e5b2935\" target=\"_top\" title=\"psysml:a2683da9-1b6e-41fc-828a-cc7d1e5b2935\" xlink:actuate=\"onRequest\" xlink:href=\"psysml:a2683da9-1b6e-41fc-828a-cc7d1e5b2935\" xlink:show=\"new\" xlink:title=\"psysml:a2683da9-1b6e-41fc-828a-cc7d1e5b2935\" xlink:type=\"simple\"><polygon fill=\"#FFFFFF\" points=\"16,6,96,6,103,28.2969,496,28.2969,496,672,16,672,16,6\" style=\"stroke: #000000; stroke-width: 1.5;\"/><line style=\"stroke: #000000; stroke-width: 1.5;\" x1=\"16\" x2=\"103\" y1=\"28.2969\" y2=\"28.2969\"/><text fill=\"#000000\" font-family=\"sans-serif\" font-size=\"14\" font-weight=\"bold\" lengthAdjust=\"spacingAndGlyphs\" textLength=\"74\" x=\"20\" y=\"20.9951\">ActionTest</text></a><!--MD5=[d5e69f78d87373223dbae638b30a9c99]\n",
       "cluster E3--><a href=\"psysml:88e0a3c5-b7f9-4d13-8306-ae5e61691436\" target=\"_top\" title=\"psysml:88e0a3c5-b7f9-4d13-8306-ae5e61691436\" xlink:actuate=\"onRequest\" xlink:href=\"psysml:88e0a3c5-b7f9-4d13-8306-ae5e61691436\" xlink:show=\"new\" xlink:title=\"psysml:88e0a3c5-b7f9-4d13-8306-ae5e61691436\" xlink:type=\"simple\"><rect fill=\"#FFFFFF\" height=\"599\" id=\"E3\" rx=\"10\" ry=\"10\" style=\"stroke: #383838; stroke-width: 1.5;\" width=\"209\" x=\"263\" y=\"49\"/><rect fill=\"#F8F8F8\" height=\"37.9375\" rx=\"10\" ry=\"10\" style=\"stroke: #F8F8F8; stroke-width: 1.5;\" width=\"209\" x=\"263\" y=\"49\"/><rect fill=\"#F8F8F8\" height=\"10\" style=\"stroke: #F8F8F8; stroke-width: 1.5;\" width=\"209\" x=\"263\" y=\"76.9375\"/><rect fill=\"none\" height=\"599\" id=\"E3\" rx=\"10\" ry=\"10\" style=\"stroke: #383838; stroke-width: 1.5;\" width=\"209\" x=\"263\" y=\"49\"/><text fill=\"#000000\" font-family=\"sans-serif\" font-size=\"12\" font-style=\"italic\" lengthAdjust=\"spacingAndGlyphs\" textLength=\"53\" x=\"341\" y=\"65.1387\">«action»</text><text fill=\"#000000\" font-family=\"sans-serif\" font-size=\"12\" lengthAdjust=\"spacingAndGlyphs\" textLength=\"8\" x=\"363.5\" y=\"79.1074\">a</text><line style=\"stroke: #383838; stroke-width: 1.0;\" x1=\"263\" x2=\"472\" y1=\"86.9375\" y2=\"86.9375\"/></a><!--MD5=[b4997ac47864f28c2f74865a473b2911]\n",
       "class E2--><a href=\"psysml:9c87d4ab-cb1d-4b31-8fcd-81209805f4cd\" target=\"_top\" title=\"psysml:9c87d4ab-cb1d-4b31-8fcd-81209805f4cd\" xlink:actuate=\"onRequest\" xlink:href=\"psysml:9c87d4ab-cb1d-4b31-8fcd-81209805f4cd\" xlink:show=\"new\" xlink:title=\"psysml:9c87d4ab-cb1d-4b31-8fcd-81209805f4cd\" xlink:type=\"simple\"><rect fill=\"#FFFFFF\" height=\"45.9375\" id=\"E2\" style=\"stroke: #383838; stroke-width: 1.5;\" width=\"95\" x=\"151.5\" y=\"87\"/><text fill=\"#000000\" font-family=\"sans-serif\" font-size=\"12\" font-style=\"italic\" lengthAdjust=\"spacingAndGlyphs\" textLength=\"93\" x=\"152.5\" y=\"103.1387\">«attribute def»</text><text fill=\"#000000\" font-family=\"sans-serif\" font-size=\"12\" lengthAdjust=\"spacingAndGlyphs\" textLength=\"8\" x=\"195\" y=\"117.1074\">S</text><line style=\"stroke: #383838; stroke-width: 1.5;\" x1=\"152.5\" x2=\"245.5\" y1=\"124.9375\" y2=\"124.9375\"/></a><polygon fill=\"#F8F8F8\" points=\"420,194,432,206,420,218,408,206,420,194\" style=\"stroke: #383838; stroke-width: 1.5;\"/><!--MD5=[21dd76c19d33815960c0e92fef8f0eef]\n",
       "entity E5--><a href=\"psysml:56f9bc80-23d6-47f0-bfbf-c5e902f86ac6\" target=\"_top\" title=\"psysml:56f9bc80-23d6-47f0-bfbf-c5e902f86ac6\" xlink:actuate=\"onRequest\" xlink:href=\"psysml:56f9bc80-23d6-47f0-bfbf-c5e902f86ac6\" xlink:show=\"new\" xlink:title=\"psysml:56f9bc80-23d6-47f0-bfbf-c5e902f86ac6\" xlink:type=\"simple\"><polygon fill=\"#F8F8F8\" points=\"279,279,279,333.5938,419,333.5938,399,306.2969,419,279\" style=\"stroke: #000000; stroke-width: 1.5;\"/><text fill=\"#000000\" font-family=\"sans-serif\" font-size=\"14\" font-style=\"italic\" lengthAdjust=\"spacingAndGlyphs\" textLength=\"111\" x=\"286\" y=\"301.9951\">«accept action»</text><text fill=\"#000000\" font-family=\"sans-serif\" font-size=\"14\" lengthAdjust=\"spacingAndGlyphs\" textLength=\"9\" x=\"337\" y=\"319.292\">S</text></a><!--MD5=[24d87cdf3002d433f401b2a2aa9f9f65]\n",
       "entity E6--><a href=\"psysml:baf32606-26e9-4cc3-a29f-e775486b01d7\" target=\"_top\" title=\"psysml:baf32606-26e9-4cc3-a29f-e775486b01d7\" xlink:actuate=\"onRequest\" xlink:href=\"psysml:baf32606-26e9-4cc3-a29f-e775486b01d7\" xlink:show=\"new\" xlink:title=\"psysml:baf32606-26e9-4cc3-a29f-e775486b01d7\" xlink:type=\"simple\"><polygon fill=\"#F8F8F8\" points=\"279,411,279,465.5938,387,465.5938,407,438.2969,387,411\" style=\"stroke: #000000; stroke-width: 1.5;\"/><text fill=\"#000000\" font-family=\"sans-serif\" font-size=\"14\" font-style=\"italic\" lengthAdjust=\"spacingAndGlyphs\" textLength=\"99\" x=\"286\" y=\"433.9951\">«send action»</text><text fill=\"#000000\" font-family=\"sans-serif\" font-size=\"14\" lengthAdjust=\"spacingAndGlyphs\" textLength=\"65\" x=\"303\" y=\"451.292\">S() to  B()</text></a><polygon fill=\"#F8F8F8\" points=\"418,527,430,539,418,551,406,539,418,527\" style=\"stroke: #383838; stroke-width: 1.5;\"/><ellipse cx=\"420\" cy=\"110\" fill=\"#000000\" rx=\"10\" ry=\"10\" style=\"stroke: none; stroke-width: 1.0;\"/><ellipse cx=\"418\" cy=\"622\" fill=\"none\" rx=\"10\" ry=\"10\" style=\"stroke: #000000; stroke-width: 1.0;\"/><ellipse cx=\"418.5\" cy=\"622.5\" fill=\"#000000\" rx=\"6\" ry=\"6\" style=\"stroke: none; stroke-width: 1.0;\"/><g id=\"E1.E8\"><a href=\"psysml:79d3a6ab-38cc-49fb-ab8f-d1828ed09a3c\" target=\"_top\" title=\"psysml:79d3a6ab-38cc-49fb-ab8f-d1828ed09a3c\" xlink:actuate=\"onRequest\" xlink:href=\"psysml:79d3a6ab-38cc-49fb-ab8f-d1828ed09a3c\" xlink:show=\"new\" xlink:title=\"psysml:79d3a6ab-38cc-49fb-ab8f-d1828ed09a3c\" xlink:type=\"simple\"><rect fill=\"#FFFFFF\" height=\"42.9375\" id=\"E8\" style=\"stroke: #383838; stroke-width: 1.5;\" width=\"84\" x=\"32\" y=\"88.5\"/><rect fill=\"#F8F8F8\" height=\"37.9375\" style=\"stroke: #383838; stroke-width: 1.5;\" width=\"84\" x=\"32\" y=\"88.5\"/><text fill=\"#000000\" font-family=\"sans-serif\" font-size=\"12\" font-style=\"italic\" lengthAdjust=\"spacingAndGlyphs\" textLength=\"77\" x=\"35.5\" y=\"104.6387\">«action def»</text><text fill=\"#000000\" font-family=\"sans-serif\" font-size=\"12\" lengthAdjust=\"spacingAndGlyphs\" textLength=\"8\" x=\"70\" y=\"118.6074\">B</text></a></g><!--MD5=[f47e10efcf9a6752d55dae986d790ed9]\n",
       "link *start*E3 to E4--><a href=\"psysml:fb7d5adc-5880-4810-9813-86e53c07f96a\" target=\"_top\" title=\"psysml:fb7d5adc-5880-4810-9813-86e53c07f96a\" xlink:actuate=\"onRequest\" xlink:href=\"psysml:fb7d5adc-5880-4810-9813-86e53c07f96a\" xlink:show=\"new\" xlink:title=\"psysml:fb7d5adc-5880-4810-9813-86e53c07f96a\" xlink:type=\"simple\"><path d=\"M420,120.27 C420,120.27 420,188.7 420,188.7 \" fill=\"none\" id=\"*start*E3-&gt;E4\" style=\"stroke: #383838; stroke-width: 1.0;\"/><polygon fill=\"#383838\" points=\"420,193.7,424,184.7,420,188.7,416,184.7,420,193.7\" style=\"stroke: #383838; stroke-width: 1.0;\"/></a><!--MD5=[d19f2eb34364d71b67042106d92f540b]\n",
       "link E7 to *end*E3--><a href=\"psysml:c9de1ce8-1045-4471-9685-45647676290c\" target=\"_top\" title=\"psysml:c9de1ce8-1045-4471-9685-45647676290c\" xlink:actuate=\"onRequest\" xlink:href=\"psysml:c9de1ce8-1045-4471-9685-45647676290c\" xlink:show=\"new\" xlink:title=\"psysml:c9de1ce8-1045-4471-9685-45647676290c\" xlink:type=\"simple\"><path d=\"M418,551.25 C418,551.25 418,606.8 418,606.8 \" fill=\"none\" id=\"E7-&gt;*end*E3\" style=\"stroke: #383838; stroke-width: 1.0;\"/><polygon fill=\"#383838\" points=\"418,611.8,422,602.8,418,606.8,414,602.8,418,611.8\" style=\"stroke: #383838; stroke-width: 1.0;\"/></a><!--MD5=[1b7591eae5389033d8d09a9d6721a717]\n",
       "link E4 to E5--><a href=\"psysml:674af9b4-5477-4a2d-9c32-c1d49aef2cdc\" target=\"_top\" title=\"psysml:674af9b4-5477-4a2d-9c32-c1d49aef2cdc\" xlink:actuate=\"onRequest\" xlink:href=\"psysml:674af9b4-5477-4a2d-9c32-c1d49aef2cdc\" xlink:show=\"new\" xlink:title=\"psysml:674af9b4-5477-4a2d-9c32-c1d49aef2cdc\" xlink:type=\"simple\"><path d=\"M413.5,211.69 C413.5,211.69 413.5,273.98 413.5,273.98 \" fill=\"none\" id=\"E4-&gt;E5\" style=\"stroke: #383838; stroke-width: 1.0;\"/><polygon fill=\"#383838\" points=\"413.5,278.98,417.5,269.98,413.5,273.98,409.5,269.98,413.5,278.98\" style=\"stroke: #383838; stroke-width: 1.0;\"/><text fill=\"#000000\" font-family=\"sans-serif\" font-size=\"13\" lengthAdjust=\"spacingAndGlyphs\" textLength=\"7\" x=\"420.6063\" y=\"268.0108\">*</text></a><!--MD5=[9120cf2e5df3bff93db8f754bbbc09b4]\n",
       "link E5 to E6--><a href=\"psysml:f1d57d75-7b92-4f65-894e-3c0dce6664b2\" target=\"_top\" title=\"psysml:f1d57d75-7b92-4f65-894e-3c0dce6664b2\" xlink:actuate=\"onRequest\" xlink:href=\"psysml:f1d57d75-7b92-4f65-894e-3c0dce6664b2\" xlink:show=\"new\" xlink:title=\"psysml:f1d57d75-7b92-4f65-894e-3c0dce6664b2\" xlink:type=\"simple\"><path d=\"M343,334.17 C343,334.17 343,405.86 343,405.86 \" fill=\"none\" id=\"E5-&gt;E6\" style=\"stroke: #383838; stroke-width: 1.0;\"/><polygon fill=\"#383838\" points=\"343,410.86,347,401.86,343,405.86,339,401.86,343,410.86\" style=\"stroke: #383838; stroke-width: 1.0;\"/><text fill=\"#000000\" font-family=\"sans-serif\" font-size=\"13\" lengthAdjust=\"spacingAndGlyphs\" textLength=\"7\" x=\"335.1906\" y=\"399.8631\">*</text></a><!--MD5=[02c70b7c851c11e3980e4e90450dc5dd]\n",
       "link E6 to E7--><a href=\"psysml:5bbe4286-aec7-454e-8b07-ff0b44373e66\" target=\"_top\" title=\"psysml:5bbe4286-aec7-454e-8b07-ff0b44373e66\" xlink:actuate=\"onRequest\" xlink:href=\"psysml:5bbe4286-aec7-454e-8b07-ff0b44373e66\" xlink:show=\"new\" xlink:title=\"psysml:5bbe4286-aec7-454e-8b07-ff0b44373e66\" xlink:type=\"simple\"><path d=\"M407.03,439 C410.74,439 413,439 413,439 C413,439 413,526.81 413,526.81 \" fill=\"none\" id=\"E6-&gt;E7\" style=\"stroke: #383838; stroke-width: 1.0;\"/><polygon fill=\"#383838\" points=\"413,531.81,417,522.81,413,526.81,409,522.81,413,531.81\" style=\"stroke: #383838; stroke-width: 1.0;\"/><text fill=\"#000000\" font-family=\"sans-serif\" font-size=\"13\" lengthAdjust=\"spacingAndGlyphs\" textLength=\"7\" x=\"398.5625\" y=\"516.0813\">*</text></a><!--MD5=[6bdd27f9905911a7e892a3dc65cf6b7c]\n",
       "link E7 to E4--><a href=\"psysml:df5824e0-bb07-4266-b9ed-97217b9e7a59\" target=\"_top\" title=\"psysml:df5824e0-bb07-4266-b9ed-97217b9e7a59\" xlink:actuate=\"onRequest\" xlink:href=\"psysml:df5824e0-bb07-4266-b9ed-97217b9e7a59\" xlink:show=\"new\" xlink:title=\"psysml:df5824e0-bb07-4266-b9ed-97217b9e7a59\" xlink:type=\"simple\"><path d=\"M424.5,533.5 C424.5,533.5 424.5,218.64 424.5,218.64 \" fill=\"none\" id=\"E7-&gt;E4\" style=\"stroke: #383838; stroke-width: 1.0;\"/><polygon fill=\"#383838\" points=\"424.5,213.64,420.5,222.64,424.5,218.64,428.5,222.64,424.5,213.64\" style=\"stroke: #383838; stroke-width: 1.0;\"/><text fill=\"#000000\" font-family=\"sans-serif\" font-size=\"13\" lengthAdjust=\"spacingAndGlyphs\" textLength=\"36\" x=\"419\" y=\"377.0669\">[true]</text><text fill=\"#000000\" font-family=\"sans-serif\" font-size=\"13\" lengthAdjust=\"spacingAndGlyphs\" textLength=\"7\" x=\"418.325\" y=\"238.2522\">*</text></a><!--MD5=[db8e10b9553e4b004d9eace0aab6d5b2]\n",
       "@startuml\r\n",
       "skinparam linetype ortho\r\n",
       "skinparam monochrome true\r\n",
       "skinparam classbackgroundcolor white\r\n",
       "skinparam shadowing false\r\n",
       "skinparam wrapWidth 300\r\n",
       "hide circle\r\n",
       "\r\n",
       "package \"ActionTest\" as E1  [[psysml:a2683da9-1b6e-41fc-828a-cc7d1e5b2935 ]]  {\r\n",
       "comp def \"S\" as E2  <<(T,blue) attribute def>> [[psysml:9c87d4ab-cb1d-4b31-8fcd-81209805f4cd ]] {\r\n",
       "}\r\n",
       "rec usage \"a\" as E3  <<(T,blue) action>> [[psysml:88e0a3c5-b7f9-4d13-8306-ae5e61691436 ]] {\r\n",
       "choice \"m\" as E4  [[psysml:207ebb71-0108-47ac-8eb2-03003f2402f5 ]] \r\n",
       "accept \" S\" as E5 << accept action>> [[psysml:56f9bc80-23d6-47f0-bfbf-c5e902f86ac6 ]] \r\n",
       "send \" S() to  B()\" as E6 << send action>> [[psysml:baf32606-26e9-4cc3-a29f-e775486b01d7 ]] \r\n",
       "choice \"<s>noname</s>\" as E7  [[psysml:de118d49-a158-4609-b10e-b605b2688318 ]] \r\n",
       "[*] - -> E4 [[psysml:fb7d5adc-5880-4810-9813-86e53c07f96a ]] \r\n",
       "E7  - -> [*] [[psysml:c9de1ce8-1045-4471-9685-45647676290c ]] \r\n",
       "}\r\n",
       "\r\n",
       "rec def \"B\" as E8  <<(T,blue) action def>> [[psysml:79d3a6ab-38cc-49fb-ab8f-d1828ed09a3c ]] {\r\n",
       "}\r\n",
       "\r\n",
       "}\r\n",
       "E4 - -> \"*\"E5 [[psysml:674af9b4-5477-4a2d-9c32-c1d49aef2cdc ]] \r\n",
       "E5 - -> \"*\"E6 [[psysml:f1d57d75-7b92-4f65-894e-3c0dce6664b2 ]] \r\n",
       "E6 - -> \"*\"E7 [[psysml:5bbe4286-aec7-454e-8b07-ff0b44373e66 ]] \r\n",
       "E7  - -> \"*\"E4 [[psysml:df5824e0-bb07-4266-b9ed-97217b9e7a59 ]] : [true]\r\n",
       "@enduml\r\n",
       "\n",
       "PlantUML version 1.2020.13(Sat Jun 13 12:26:38 UTC 2020)\n",
       "(EPL source distribution)\n",
       "Java Runtime: OpenJDK Runtime Environment\n",
       "JVM: OpenJDK 64-Bit Server VM\n",
       "Default Encoding: UTF-8\n",
       "Language: en\n",
       "Country: null\n",
       "--></g></svg>"
      ]
     },
     "execution_count": 57,
     "metadata": {},
     "output_type": "execute_result"
    }
   ],
   "source": [
    "%viz --style=\"ORTHOLINE\" --view=\"MIXED\" \"ActionTest\""
   ]
  }
 ],
 "metadata": {
  "kernelspec": {
   "display_name": "SysML",
   "language": "sysml",
   "name": "sysml"
  },
  "language_info": {
   "codemirror_mode": "sysml",
   "file_extension": ".sysml",
   "mimetype": "text/x-sysml",
   "name": "SysML",
   "pygments_lexer": "java",
   "version": "1.0.0"
  }
 },
 "nbformat": 4,
 "nbformat_minor": 5
}
