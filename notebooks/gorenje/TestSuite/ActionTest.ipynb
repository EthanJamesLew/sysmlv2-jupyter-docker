{
 "cells": [
  {
   "cell_type": "markdown",
   "id": "c6d0e5ee",
   "metadata": {},
   "source": [
    "# SysML v2 Test Suite\n",
    "\n",
    "This can notebook can be cleared using menu `Edit --> Clear All Outputs` and then all cells can be\n",
    "run using menu `Run --> Run All Cells`.\n",
    "\n",
    "**WARNING**: This file is generated, all modifications here will be ignored.\n"
   ]
  },
  {
   "cell_type": "markdown",
   "id": "57c9d471",
   "metadata": {},
   "source": [
    "## File: ../../sysml/src/examples/Simple Tests/ActionTest.sysml"
   ]
  },
  {
   "cell_type": "code",
   "execution_count": 1,
   "id": "2d3e4a35",
   "metadata": {
    "execution": {
     "iopub.execute_input": "2021-06-30T09:17:38.002175Z",
     "iopub.status.busy": "2021-06-30T09:17:38.000433Z",
     "iopub.status.idle": "2021-06-30T09:17:38.904731Z",
     "shell.execute_reply": "2021-06-30T09:17:38.904045Z"
    }
   },
   "outputs": [
    {
     "data": {
      "text/plain": [
       "Package ActionTest (5ff0870c-e4be-466e-bcb6-3d6193169615)\n"
      ]
     },
     "execution_count": 1,
     "metadata": {},
     "output_type": "execute_result"
    }
   ],
   "source": [
    "package ActionTest {\n",
    "\tattribute def S;\n",
    "\t\n",
    "\taction a {\n",
    "\t\tfirst start;\t\t\n",
    "\t\tthen merge m;\n",
    "\t\tthen accept S; \n",
    "\t\t\n",
    "\t\tthen send S() to B();\t\t\n",
    "\t\tthen decide;\n",
    "\t\t\tif true then m;\n",
    "\t\t\telse done;\n",
    "\t}\n",
    "\t\n",
    "\taction def B;\n",
    "\t\n",
    "}"
   ]
  },
  {
   "cell_type": "code",
   "execution_count": 2,
   "id": "0c445466",
   "metadata": {
    "execution": {
     "iopub.execute_input": "2021-06-30T09:17:38.956516Z",
     "iopub.status.busy": "2021-06-30T09:17:38.955856Z",
     "iopub.status.idle": "2021-06-30T09:17:39.874011Z",
     "shell.execute_reply": "2021-06-30T09:17:39.874602Z"
    }
   },
   "outputs": [
    {
     "data": {
      "image/svg+xml": [
       "<?xml version=\"1.0\" encoding=\"UTF-8\" standalone=\"no\"?><svg xmlns=\"http://www.w3.org/2000/svg\" xmlns:xlink=\"http://www.w3.org/1999/xlink\" contentScriptType=\"application/ecmascript\" contentStyleType=\"text/css\" height=\"684px\" preserveAspectRatio=\"none\" style=\"width:518px;height:684px;\" version=\"1.1\" viewBox=\"0 0 518 684\" width=\"518px\" zoomAndPan=\"magnify\"><defs/><g><!--MD5=[fbc87193dbaf4d95561dea2c320d4a47]\n",
       "cluster E1--><a href=\"psysml:4a739ce7-b110-4093-8b74-31ee982b1e00\" target=\"_top\" title=\"psysml:4a739ce7-b110-4093-8b74-31ee982b1e00\" xlink:actuate=\"onRequest\" xlink:href=\"psysml:4a739ce7-b110-4093-8b74-31ee982b1e00\" xlink:show=\"new\" xlink:title=\"psysml:4a739ce7-b110-4093-8b74-31ee982b1e00\" xlink:type=\"simple\"><polygon fill=\"#FFFFFF\" points=\"16,6,107,6,114,28.2969,496,28.2969,496,672,16,672,16,6\" style=\"stroke: #000000; stroke-width: 1.5;\"/><line style=\"stroke: #000000; stroke-width: 1.5;\" x1=\"16\" x2=\"114\" y1=\"28.2969\" y2=\"28.2969\"/><text fill=\"#000000\" font-family=\"sans-serif\" font-size=\"14\" font-weight=\"bold\" lengthAdjust=\"spacingAndGlyphs\" textLength=\"85\" x=\"20\" y=\"20.9951\">ActionTest</text></a><!--MD5=[d5e69f78d87373223dbae638b30a9c99]\n",
       "cluster E3--><a href=\"psysml:fa9c3421-7722-4415-b8c7-0ea19e95762e\" target=\"_top\" title=\"psysml:fa9c3421-7722-4415-b8c7-0ea19e95762e\" xlink:actuate=\"onRequest\" xlink:href=\"psysml:fa9c3421-7722-4415-b8c7-0ea19e95762e\" xlink:show=\"new\" xlink:title=\"psysml:fa9c3421-7722-4415-b8c7-0ea19e95762e\" xlink:type=\"simple\"><rect fill=\"#FFFFFF\" height=\"599\" id=\"E3\" rx=\"10\" ry=\"10\" style=\"stroke: #383838; stroke-width: 1.5;\" width=\"209\" x=\"263\" y=\"49\"/><rect fill=\"#F8F8F8\" height=\"37.9375\" rx=\"10\" ry=\"10\" style=\"stroke: #F8F8F8; stroke-width: 1.5;\" width=\"209\" x=\"263\" y=\"49\"/><rect fill=\"#F8F8F8\" height=\"10\" style=\"stroke: #F8F8F8; stroke-width: 1.5;\" width=\"209\" x=\"263\" y=\"76.9375\"/><rect fill=\"none\" height=\"599\" id=\"E3\" rx=\"10\" ry=\"10\" style=\"stroke: #383838; stroke-width: 1.5;\" width=\"209\" x=\"263\" y=\"49\"/><text fill=\"#000000\" font-family=\"sans-serif\" font-size=\"12\" font-style=\"italic\" lengthAdjust=\"spacingAndGlyphs\" textLength=\"53\" x=\"341\" y=\"65.1387\">«action»</text><text fill=\"#000000\" font-family=\"sans-serif\" font-size=\"12\" lengthAdjust=\"spacingAndGlyphs\" textLength=\"8\" x=\"363.5\" y=\"79.1074\">a</text><line style=\"stroke: #383838; stroke-width: 1.0;\" x1=\"263\" x2=\"472\" y1=\"86.9375\" y2=\"86.9375\"/></a><!--MD5=[b4997ac47864f28c2f74865a473b2911]\n",
       "class E2--><a href=\"psysml:e3ea157b-753f-4ff0-b9f5-62b19f528d25\" target=\"_top\" title=\"psysml:e3ea157b-753f-4ff0-b9f5-62b19f528d25\" xlink:actuate=\"onRequest\" xlink:href=\"psysml:e3ea157b-753f-4ff0-b9f5-62b19f528d25\" xlink:show=\"new\" xlink:title=\"psysml:e3ea157b-753f-4ff0-b9f5-62b19f528d25\" xlink:type=\"simple\"><rect fill=\"#FFFFFF\" height=\"45.9375\" id=\"E2\" style=\"stroke: #383838; stroke-width: 1.5;\" width=\"95\" x=\"151.5\" y=\"87\"/><text fill=\"#000000\" font-family=\"sans-serif\" font-size=\"12\" font-style=\"italic\" lengthAdjust=\"spacingAndGlyphs\" textLength=\"93\" x=\"152.5\" y=\"103.1387\">«attribute def»</text><text fill=\"#000000\" font-family=\"sans-serif\" font-size=\"12\" lengthAdjust=\"spacingAndGlyphs\" textLength=\"8\" x=\"195\" y=\"117.1074\">S</text><line style=\"stroke: #383838; stroke-width: 1.5;\" x1=\"152.5\" x2=\"245.5\" y1=\"124.9375\" y2=\"124.9375\"/></a><polygon fill=\"#F8F8F8\" points=\"420,194,432,206,420,218,408,206,420,194\" style=\"stroke: #383838; stroke-width: 1.5;\"/><!--MD5=[21dd76c19d33815960c0e92fef8f0eef]\n",
       "entity E5--><a href=\"psysml:1a7559c2-685c-4c08-a29a-09c3177cd704\" target=\"_top\" title=\"psysml:1a7559c2-685c-4c08-a29a-09c3177cd704\" xlink:actuate=\"onRequest\" xlink:href=\"psysml:1a7559c2-685c-4c08-a29a-09c3177cd704\" xlink:show=\"new\" xlink:title=\"psysml:1a7559c2-685c-4c08-a29a-09c3177cd704\" xlink:type=\"simple\"><polygon fill=\"#F8F8F8\" points=\"279,279,279,333.5938,419,333.5938,399,306.2969,419,279\" style=\"stroke: #000000; stroke-width: 1.5;\"/><text fill=\"#000000\" font-family=\"sans-serif\" font-size=\"14\" font-style=\"italic\" lengthAdjust=\"spacingAndGlyphs\" textLength=\"111\" x=\"286\" y=\"301.9951\">«accept action»</text><text fill=\"#000000\" font-family=\"sans-serif\" font-size=\"14\" lengthAdjust=\"spacingAndGlyphs\" textLength=\"9\" x=\"337\" y=\"319.292\">S</text></a><!--MD5=[24d87cdf3002d433f401b2a2aa9f9f65]\n",
       "entity E6--><a href=\"psysml:57acc649-2893-4bd5-b427-585e4a8282d2\" target=\"_top\" title=\"psysml:57acc649-2893-4bd5-b427-585e4a8282d2\" xlink:actuate=\"onRequest\" xlink:href=\"psysml:57acc649-2893-4bd5-b427-585e4a8282d2\" xlink:show=\"new\" xlink:title=\"psysml:57acc649-2893-4bd5-b427-585e4a8282d2\" xlink:type=\"simple\"><polygon fill=\"#F8F8F8\" points=\"279,411,279,465.5938,387,465.5938,407,438.2969,387,411\" style=\"stroke: #000000; stroke-width: 1.5;\"/><text fill=\"#000000\" font-family=\"sans-serif\" font-size=\"14\" font-style=\"italic\" lengthAdjust=\"spacingAndGlyphs\" textLength=\"99\" x=\"286\" y=\"433.9951\">«send action»</text><text fill=\"#000000\" font-family=\"sans-serif\" font-size=\"14\" lengthAdjust=\"spacingAndGlyphs\" textLength=\"65\" x=\"303\" y=\"451.292\">S() to  B()</text></a><polygon fill=\"#F8F8F8\" points=\"418,527,430,539,418,551,406,539,418,527\" style=\"stroke: #383838; stroke-width: 1.5;\"/><ellipse cx=\"420\" cy=\"110\" fill=\"#000000\" rx=\"10\" ry=\"10\" style=\"stroke: none; stroke-width: 1.0;\"/><ellipse cx=\"418\" cy=\"622\" fill=\"none\" rx=\"10\" ry=\"10\" style=\"stroke: #000000; stroke-width: 1.0;\"/><ellipse cx=\"418.5\" cy=\"622.5\" fill=\"#000000\" rx=\"6\" ry=\"6\" style=\"stroke: none; stroke-width: 1.0;\"/><g id=\"E1.E8\"><a href=\"psysml:86a7eb05-d2a7-4b0b-add7-eac0d2258e69\" target=\"_top\" title=\"psysml:86a7eb05-d2a7-4b0b-add7-eac0d2258e69\" xlink:actuate=\"onRequest\" xlink:href=\"psysml:86a7eb05-d2a7-4b0b-add7-eac0d2258e69\" xlink:show=\"new\" xlink:title=\"psysml:86a7eb05-d2a7-4b0b-add7-eac0d2258e69\" xlink:type=\"simple\"><rect fill=\"#FFFFFF\" height=\"42.9375\" id=\"E8\" style=\"stroke: #383838; stroke-width: 1.5;\" width=\"84\" x=\"32\" y=\"88.5\"/><rect fill=\"#F8F8F8\" height=\"37.9375\" style=\"stroke: #383838; stroke-width: 1.5;\" width=\"84\" x=\"32\" y=\"88.5\"/><text fill=\"#000000\" font-family=\"sans-serif\" font-size=\"12\" font-style=\"italic\" lengthAdjust=\"spacingAndGlyphs\" textLength=\"77\" x=\"35.5\" y=\"104.6387\">«action def»</text><text fill=\"#000000\" font-family=\"sans-serif\" font-size=\"12\" lengthAdjust=\"spacingAndGlyphs\" textLength=\"8\" x=\"70\" y=\"118.6074\">B</text></a></g><!--MD5=[f47e10efcf9a6752d55dae986d790ed9]\n",
       "link *start*E3 to E4--><a href=\"psysml:3a6c3978-61f5-46d3-ad26-c963b1b56f5b\" target=\"_top\" title=\"psysml:3a6c3978-61f5-46d3-ad26-c963b1b56f5b\" xlink:actuate=\"onRequest\" xlink:href=\"psysml:3a6c3978-61f5-46d3-ad26-c963b1b56f5b\" xlink:show=\"new\" xlink:title=\"psysml:3a6c3978-61f5-46d3-ad26-c963b1b56f5b\" xlink:type=\"simple\"><path d=\"M420,120.01 C420,135.81 420,168.69 420,188.61 \" fill=\"none\" id=\"*start*E3-&gt;E4\" style=\"stroke: #383838; stroke-width: 1.0;\"/><polygon fill=\"#383838\" points=\"420,193.85,424,184.85,420,188.85,416,184.85,420,193.85\" style=\"stroke: #383838; stroke-width: 1.0;\"/></a><!--MD5=[d19f2eb34364d71b67042106d92f540b]\n",
       "link E7 to *end*E3--><a href=\"psysml:36daa16f-4b44-48c5-bcb7-7a401bcea152\" target=\"_top\" title=\"psysml:36daa16f-4b44-48c5-bcb7-7a401bcea152\" xlink:actuate=\"onRequest\" xlink:href=\"psysml:36daa16f-4b44-48c5-bcb7-7a401bcea152\" xlink:show=\"new\" xlink:title=\"psysml:36daa16f-4b44-48c5-bcb7-7a401bcea152\" xlink:type=\"simple\"><path d=\"M418,551.26 C418,565.66 418,590.63 418,606.46 \" fill=\"none\" id=\"E7-&gt;*end*E3\" style=\"stroke: #383838; stroke-width: 1.0;\"/><polygon fill=\"#383838\" points=\"418,611.84,422,602.84,418,606.84,414,602.84,418,611.84\" style=\"stroke: #383838; stroke-width: 1.0;\"/></a><!--MD5=[1b7591eae5389033d8d09a9d6721a717]\n",
       "link E4 to E5--><a href=\"psysml:c56e5692-64fd-4b0b-a986-d866765d0210\" target=\"_top\" title=\"psysml:c56e5692-64fd-4b0b-a986-d866765d0210\" xlink:actuate=\"onRequest\" xlink:href=\"psysml:c56e5692-64fd-4b0b-a986-d866765d0210\" xlink:show=\"new\" xlink:title=\"psysml:c56e5692-64fd-4b0b-a986-d866765d0210\" xlink:type=\"simple\"><path d=\"M415.34,213.46 C406.55,225.66 386.99,252.8 371.37,274.46 \" fill=\"none\" id=\"E4-&gt;E5\" style=\"stroke: #383838; stroke-width: 1.0;\"/><polygon fill=\"#383838\" points=\"368.31,278.71,376.8093,273.7339,371.227,274.6491,370.3119,269.0667,368.31,278.71\" style=\"stroke: #383838; stroke-width: 1.0;\"/></a><!--MD5=[9120cf2e5df3bff93db8f754bbbc09b4]\n",
       "link E5 to E6--><a href=\"psysml:363bb7e0-7ec1-401c-827a-8a23a32c7946\" target=\"_top\" title=\"psysml:363bb7e0-7ec1-401c-827a-8a23a32c7946\" xlink:actuate=\"onRequest\" xlink:href=\"psysml:363bb7e0-7ec1-401c-827a-8a23a32c7946\" xlink:show=\"new\" xlink:title=\"psysml:363bb7e0-7ec1-401c-827a-8a23a32c7946\" xlink:type=\"simple\"><path d=\"M347.77,334.12 C346.81,354.89 345.48,383.8 344.46,405.77 \" fill=\"none\" id=\"E5-&gt;E6\" style=\"stroke: #383838; stroke-width: 1.0;\"/><polygon fill=\"#383838\" points=\"344.23,410.91,348.6368,402.1021,344.4583,405.9152,340.6452,401.7367,344.23,410.91\" style=\"stroke: #383838; stroke-width: 1.0;\"/></a><!--MD5=[02c70b7c851c11e3980e4e90450dc5dd]\n",
       "link E6 to E7--><a href=\"psysml:84082b66-a23a-4779-a592-98d74f10d8d7\" target=\"_top\" title=\"psysml:84082b66-a23a-4779-a592-98d74f10d8d7\" xlink:actuate=\"onRequest\" xlink:href=\"psysml:84082b66-a23a-4779-a592-98d74f10d8d7\" xlink:show=\"new\" xlink:title=\"psysml:84082b66-a23a-4779-a592-98d74f10d8d7\" xlink:type=\"simple\"><path d=\"M363.3,466.16 C378.71,486.4 399.07,513.14 410.09,527.61 \" fill=\"none\" id=\"E6-&gt;E7\" style=\"stroke: #383838; stroke-width: 1.0;\"/><polygon fill=\"#383838\" points=\"413.2,531.69,410.9398,522.104,410.1749,527.7089,404.57,526.9441,413.2,531.69\" style=\"stroke: #383838; stroke-width: 1.0;\"/></a><!--MD5=[6bdd27f9905911a7e892a3dc65cf6b7c]\n",
       "link E7 to E4--><a href=\"psysml:49753952-5c4c-4ef6-ad04-e80bfe7cb929\" target=\"_top\" title=\"psysml:49753952-5c4c-4ef6-ad04-e80bfe7cb929\" xlink:actuate=\"onRequest\" xlink:href=\"psysml:49753952-5c4c-4ef6-ad04-e80bfe7cb929\" xlink:show=\"new\" xlink:title=\"psysml:49753952-5c4c-4ef6-ad04-e80bfe7cb929\" xlink:type=\"simple\"><path d=\"M419.98,528.56 C426.8,494.71 448.32,376.18 437,279 C434.59,258.32 428.42,234.96 424.21,220.61 \" fill=\"none\" id=\"E7-&gt;E4\" style=\"stroke: #383838; stroke-width: 1.0;\"/><polygon fill=\"#383838\" points=\"422.76,215.75,421.4935,225.5171,424.1863,220.5423,429.1611,223.2351,422.76,215.75\" style=\"stroke: #383838; stroke-width: 1.0;\"/><text fill=\"#000000\" font-family=\"sans-serif\" font-size=\"13\" lengthAdjust=\"spacingAndGlyphs\" textLength=\"36\" x=\"440\" y=\"377.0669\">[true]</text></a><!--MD5=[8e41860c956f39e8a8ea83d8c0cb6078]\n",
       "@startuml\r\n",
       " skinparam monochrome true\r\n",
       "skinparam classbackgroundcolor white\r\n",
       "skinparam shadowing false\r\n",
       "skinparam wrapWidth 300\r\n",
       "hide circle\r\n",
       "\r\n",
       "package \"ActionTest\" as E1  [[psysml:4a739ce7-b110-4093-8b74-31ee982b1e00 ]]  {\r\n",
       "comp def \"S\" as E2  <<(T,blue) attribute def>> [[psysml:e3ea157b-753f-4ff0-b9f5-62b19f528d25 ]] {\r\n",
       "}\r\n",
       "rec usage \"a\" as E3  <<(T,blue) action>> [[psysml:fa9c3421-7722-4415-b8c7-0ea19e95762e ]] {\r\n",
       "choice \"m\" as E4  [[psysml:60604585-cd78-42b0-92ae-265c1a2862a9 ]] \r\n",
       "accept \" S\" as E5 << accept action>> [[psysml:1a7559c2-685c-4c08-a29a-09c3177cd704 ]] \r\n",
       "send \" S() to  B()\" as E6 << send action>> [[psysml:57acc649-2893-4bd5-b427-585e4a8282d2 ]] \r\n",
       "choice \"noname\" as E7  [[psysml:dcda7bbd-01a5-4374-8a97-a16c2625889c ]] \r\n",
       "[*] - -> E4 [[psysml:3a6c3978-61f5-46d3-ad26-c963b1b56f5b ]] \r\n",
       "E7  - -> [*] [[psysml:36daa16f-4b44-48c5-bcb7-7a401bcea152 ]] \r\n",
       "}\r\n",
       "\r\n",
       "rec def \"B\" as E8  <<(T,blue) action def>> [[psysml:86a7eb05-d2a7-4b0b-add7-eac0d2258e69 ]] {\r\n",
       "}\r\n",
       "\r\n",
       "E4 - -> E5 [[psysml:c56e5692-64fd-4b0b-a986-d866765d0210 ]] \r\n",
       "E5 - -> E6 [[psysml:363bb7e0-7ec1-401c-827a-8a23a32c7946 ]] \r\n",
       "E6 - -> E7 [[psysml:84082b66-a23a-4779-a592-98d74f10d8d7 ]] \r\n",
       "E7  - -> E4 [[psysml:49753952-5c4c-4ef6-ad04-e80bfe7cb929 ]] : [true]\r\n",
       "}\r\n",
       "@enduml\r\n",
       "\n",
       "PlantUML version 1.2020.13(Sat Jun 13 12:26:38 UTC 2020)\n",
       "(EPL source distribution)\n",
       "Java Runtime: OpenJDK Runtime Environment\n",
       "JVM: OpenJDK 64-Bit Server VM\n",
       "Default Encoding: UTF-8\n",
       "Language: en\n",
       "Country: null\n",
       "--></g></svg>"
      ]
     },
     "execution_count": 2,
     "metadata": {},
     "output_type": "execute_result"
    }
   ],
   "source": [
    "%viz --style=\"COMPTREE\" --view=\"Default\" \"ActionTest\""
   ]
  },
  {
   "cell_type": "code",
   "execution_count": 3,
   "id": "a30230d3",
   "metadata": {
    "execution": {
     "iopub.execute_input": "2021-06-30T09:17:39.929432Z",
     "iopub.status.busy": "2021-06-30T09:17:39.928020Z",
     "iopub.status.idle": "2021-06-30T09:17:40.044896Z",
     "shell.execute_reply": "2021-06-30T09:17:40.045758Z"
    }
   },
   "outputs": [
    {
     "data": {
      "image/svg+xml": [
       "<?xml version=\"1.0\" encoding=\"UTF-8\" standalone=\"no\"?><svg xmlns=\"http://www.w3.org/2000/svg\" xmlns:xlink=\"http://www.w3.org/1999/xlink\" contentScriptType=\"application/ecmascript\" contentStyleType=\"text/css\" height=\"327px\" preserveAspectRatio=\"none\" style=\"width:677px;height:327px;\" version=\"1.1\" viewBox=\"0 0 677 327\" width=\"677px\" zoomAndPan=\"magnify\"><defs/><g><!--MD5=[fbc87193dbaf4d95561dea2c320d4a47]\n",
       "cluster E1--><a href=\"psysml:4a739ce7-b110-4093-8b74-31ee982b1e00\" target=\"_top\" title=\"psysml:4a739ce7-b110-4093-8b74-31ee982b1e00\" xlink:actuate=\"onRequest\" xlink:href=\"psysml:4a739ce7-b110-4093-8b74-31ee982b1e00\" xlink:show=\"new\" xlink:title=\"psysml:4a739ce7-b110-4093-8b74-31ee982b1e00\" xlink:type=\"simple\"><polygon fill=\"#FFFFFF\" points=\"16,6,107,6,114,28.2969,655,28.2969,655,315,16,315,16,6\" style=\"stroke: #000000; stroke-width: 1.5;\"/><line style=\"stroke: #000000; stroke-width: 1.5;\" x1=\"16\" x2=\"114\" y1=\"28.2969\" y2=\"28.2969\"/><text fill=\"#000000\" font-family=\"sans-serif\" font-size=\"14\" font-weight=\"bold\" lengthAdjust=\"spacingAndGlyphs\" textLength=\"85\" x=\"20\" y=\"20.9951\">ActionTest</text></a><!--MD5=[b4997ac47864f28c2f74865a473b2911]\n",
       "class E2--><a href=\"psysml:e3ea157b-753f-4ff0-b9f5-62b19f528d25\" target=\"_top\" title=\"psysml:e3ea157b-753f-4ff0-b9f5-62b19f528d25\" xlink:actuate=\"onRequest\" xlink:href=\"psysml:e3ea157b-753f-4ff0-b9f5-62b19f528d25\" xlink:show=\"new\" xlink:title=\"psysml:e3ea157b-753f-4ff0-b9f5-62b19f528d25\" xlink:type=\"simple\"><rect fill=\"#FFFFFF\" height=\"45.9375\" id=\"E2\" style=\"stroke: #383838; stroke-width: 1.5;\" width=\"95\" x=\"278.5\" y=\"253\"/><text fill=\"#000000\" font-family=\"sans-serif\" font-size=\"12\" font-style=\"italic\" lengthAdjust=\"spacingAndGlyphs\" textLength=\"93\" x=\"279.5\" y=\"269.1387\">«attribute def»</text><text fill=\"#000000\" font-family=\"sans-serif\" font-size=\"12\" lengthAdjust=\"spacingAndGlyphs\" textLength=\"8\" x=\"322\" y=\"283.1074\">S</text><line style=\"stroke: #383838; stroke-width: 1.5;\" x1=\"279.5\" x2=\"372.5\" y1=\"290.9375\" y2=\"290.9375\"/></a><!--MD5=[09b614a08d8cba4a07c9adeb5e0fee81]\n",
       "class E3--><a href=\"psysml:fa9c3421-7722-4415-b8c7-0ea19e95762e\" target=\"_top\" title=\"psysml:fa9c3421-7722-4415-b8c7-0ea19e95762e\" xlink:actuate=\"onRequest\" xlink:href=\"psysml:fa9c3421-7722-4415-b8c7-0ea19e95762e\" xlink:show=\"new\" xlink:title=\"psysml:fa9c3421-7722-4415-b8c7-0ea19e95762e\" xlink:type=\"simple\"><rect fill=\"#FFFFFF\" height=\"45.9375\" id=\"E3\" rx=\"10\" ry=\"10\" style=\"stroke: #383838; stroke-width: 1.5;\" width=\"55\" x=\"298.5\" y=\"41\"/><text fill=\"#000000\" font-family=\"sans-serif\" font-size=\"12\" font-style=\"italic\" lengthAdjust=\"spacingAndGlyphs\" textLength=\"53\" x=\"299.5\" y=\"57.1387\">«action»</text><text fill=\"#000000\" font-family=\"sans-serif\" font-size=\"12\" lengthAdjust=\"spacingAndGlyphs\" textLength=\"8\" x=\"322\" y=\"71.1074\">a</text><line style=\"stroke: #383838; stroke-width: 1.5;\" x1=\"299.5\" x2=\"352.5\" y1=\"78.9375\" y2=\"78.9375\"/></a><!--MD5=[ebbe1d658d1005bcc118a6aa81145e00]\n",
       "class E4--><a href=\"psysml:a6d1daf9-13da-45ca-a864-cb134e7177b5\" target=\"_top\" title=\"psysml:a6d1daf9-13da-45ca-a864-cb134e7177b5\" xlink:actuate=\"onRequest\" xlink:href=\"psysml:a6d1daf9-13da-45ca-a864-cb134e7177b5\" xlink:show=\"new\" xlink:title=\"psysml:a6d1daf9-13da-45ca-a864-cb134e7177b5\" xlink:type=\"simple\"><rect fill=\"#FFFFFF\" height=\"45.9375\" id=\"E4\" rx=\"10\" ry=\"10\" style=\"stroke: #383838; stroke-width: 1.5;\" width=\"83\" x=\"32.5\" y=\"147\"/><text fill=\"#000000\" font-family=\"sans-serif\" font-size=\"12\" font-style=\"italic\" lengthAdjust=\"spacingAndGlyphs\" textLength=\"53\" x=\"47.5\" y=\"163.1387\">«action»</text><text fill=\"#000000\" font-family=\"sans-serif\" font-size=\"12\" lengthAdjust=\"spacingAndGlyphs\" textLength=\"77\" x=\"35.5\" y=\"177.1074\">start: Action</text><line style=\"stroke: #383838; stroke-width: 1.5;\" x1=\"33.5\" x2=\"114.5\" y1=\"184.9375\" y2=\"184.9375\"/></a><!--MD5=[270fce915f116d4de14055a7c1d9a0f3]\n",
       "class E5--><a href=\"psysml:60604585-cd78-42b0-92ae-265c1a2862a9\" target=\"_top\" title=\"psysml:60604585-cd78-42b0-92ae-265c1a2862a9\" xlink:actuate=\"onRequest\" xlink:href=\"psysml:60604585-cd78-42b0-92ae-265c1a2862a9\" xlink:show=\"new\" xlink:title=\"psysml:60604585-cd78-42b0-92ae-265c1a2862a9\" xlink:type=\"simple\"><rect fill=\"#FFFFFF\" height=\"45.9375\" id=\"E5\" rx=\"10\" ry=\"10\" style=\"stroke: #383838; stroke-width: 1.5;\" width=\"89\" x=\"150.5\" y=\"147\"/><text fill=\"#000000\" font-family=\"sans-serif\" font-size=\"12\" font-style=\"italic\" lengthAdjust=\"spacingAndGlyphs\" textLength=\"87\" x=\"151.5\" y=\"163.1387\">«mergeNode»</text><text fill=\"#000000\" font-family=\"sans-serif\" font-size=\"12\" lengthAdjust=\"spacingAndGlyphs\" textLength=\"11\" x=\"189.5\" y=\"177.1074\">m</text><line style=\"stroke: #383838; stroke-width: 1.5;\" x1=\"151.5\" x2=\"238.5\" y1=\"184.9375\" y2=\"184.9375\"/></a><!--MD5=[60a26617385b1d2d0262a64233df1f8d]\n",
       "class E6--><a href=\"psysml:1a7559c2-685c-4c08-a29a-09c3177cd704\" target=\"_top\" title=\"psysml:1a7559c2-685c-4c08-a29a-09c3177cd704\" xlink:actuate=\"onRequest\" xlink:href=\"psysml:1a7559c2-685c-4c08-a29a-09c3177cd704\" xlink:show=\"new\" xlink:title=\"psysml:1a7559c2-685c-4c08-a29a-09c3177cd704\" xlink:type=\"simple\"><rect fill=\"#FFFFFF\" height=\"45.9375\" id=\"E6\" rx=\"10\" ry=\"10\" style=\"stroke: #383838; stroke-width: 1.5;\" width=\"102\" x=\"275\" y=\"147\"/><text fill=\"#000000\" font-family=\"sans-serif\" font-size=\"12\" font-style=\"italic\" lengthAdjust=\"spacingAndGlyphs\" textLength=\"100\" x=\"276\" y=\"163.1387\">«accept action»</text><text fill=\"#000000\" font-family=\"sans-serif\" font-size=\"12\" lengthAdjust=\"spacingAndGlyphs\" text-decoration=\"line-through\" textLength=\"51\" x=\"300.5\" y=\"177.1074\">noname</text><line style=\"stroke: #383838; stroke-width: 1.5;\" x1=\"276\" x2=\"376\" y1=\"184.9375\" y2=\"184.9375\"/></a><!--MD5=[2156ba9850f5573cc1fc38a6a4b2f02b]\n",
       "class E7--><a href=\"psysml:57acc649-2893-4bd5-b427-585e4a8282d2\" target=\"_top\" title=\"psysml:57acc649-2893-4bd5-b427-585e4a8282d2\" xlink:actuate=\"onRequest\" xlink:href=\"psysml:57acc649-2893-4bd5-b427-585e4a8282d2\" xlink:show=\"new\" xlink:title=\"psysml:57acc649-2893-4bd5-b427-585e4a8282d2\" xlink:type=\"simple\"><rect fill=\"#FFFFFF\" height=\"45.9375\" id=\"E7\" rx=\"10\" ry=\"10\" style=\"stroke: #383838; stroke-width: 1.5;\" width=\"90\" x=\"412\" y=\"147\"/><text fill=\"#000000\" font-family=\"sans-serif\" font-size=\"12\" font-style=\"italic\" lengthAdjust=\"spacingAndGlyphs\" textLength=\"88\" x=\"413\" y=\"163.1387\">«send action»</text><text fill=\"#000000\" font-family=\"sans-serif\" font-size=\"12\" lengthAdjust=\"spacingAndGlyphs\" text-decoration=\"line-through\" textLength=\"51\" x=\"431.5\" y=\"177.1074\">noname</text><line style=\"stroke: #383838; stroke-width: 1.5;\" x1=\"413\" x2=\"501\" y1=\"184.9375\" y2=\"184.9375\"/></a><!--MD5=[b9389687b975829384b498ac4b7476b2]\n",
       "class E8--><a href=\"psysml:dcda7bbd-01a5-4374-8a97-a16c2625889c\" target=\"_top\" title=\"psysml:dcda7bbd-01a5-4374-8a97-a16c2625889c\" xlink:actuate=\"onRequest\" xlink:href=\"psysml:dcda7bbd-01a5-4374-8a97-a16c2625889c\" xlink:show=\"new\" xlink:title=\"psysml:dcda7bbd-01a5-4374-8a97-a16c2625889c\" xlink:type=\"simple\"><rect fill=\"#FFFFFF\" height=\"45.9375\" id=\"E8\" rx=\"10\" ry=\"10\" style=\"stroke: #383838; stroke-width: 1.5;\" width=\"101\" x=\"537.5\" y=\"147\"/><text fill=\"#000000\" font-family=\"sans-serif\" font-size=\"12\" font-style=\"italic\" lengthAdjust=\"spacingAndGlyphs\" textLength=\"99\" x=\"538.5\" y=\"163.1387\">«decisionNode»</text><text fill=\"#000000\" font-family=\"sans-serif\" font-size=\"12\" lengthAdjust=\"spacingAndGlyphs\" text-decoration=\"line-through\" textLength=\"51\" x=\"562.5\" y=\"177.1074\">noname</text><line style=\"stroke: #383838; stroke-width: 1.5;\" x1=\"538.5\" x2=\"637.5\" y1=\"184.9375\" y2=\"184.9375\"/></a><!--MD5=[fd4143e9d270a159db93a4ea2a975926]\n",
       "class E9--><a href=\"psysml:86a7eb05-d2a7-4b0b-add7-eac0d2258e69\" target=\"_top\" title=\"psysml:86a7eb05-d2a7-4b0b-add7-eac0d2258e69\" xlink:actuate=\"onRequest\" xlink:href=\"psysml:86a7eb05-d2a7-4b0b-add7-eac0d2258e69\" xlink:show=\"new\" xlink:title=\"psysml:86a7eb05-d2a7-4b0b-add7-eac0d2258e69\" xlink:type=\"simple\"><rect fill=\"#FFFFFF\" height=\"45.9375\" id=\"E9\" style=\"stroke: #383838; stroke-width: 1.5;\" width=\"79\" x=\"108.5\" y=\"41\"/><text fill=\"#000000\" font-family=\"sans-serif\" font-size=\"12\" font-style=\"italic\" lengthAdjust=\"spacingAndGlyphs\" textLength=\"77\" x=\"109.5\" y=\"57.1387\">«action def»</text><text fill=\"#000000\" font-family=\"sans-serif\" font-size=\"12\" lengthAdjust=\"spacingAndGlyphs\" textLength=\"8\" x=\"144\" y=\"71.1074\">B</text><line style=\"stroke: #383838; stroke-width: 1.5;\" x1=\"109.5\" x2=\"186.5\" y1=\"78.9375\" y2=\"78.9375\"/></a><!--MD5=[4672eba38e49728da53d11aeb285b987]\n",
       "reverse link E3 to E4--><a href=\"psysml:52dfc4ad-a62d-4432-a88b-57c0a80d621d\" target=\"_top\" title=\"psysml:52dfc4ad-a62d-4432-a88b-57c0a80d621d\" xlink:actuate=\"onRequest\" xlink:href=\"psysml:52dfc4ad-a62d-4432-a88b-57c0a80d621d\" xlink:show=\"new\" xlink:title=\"psysml:52dfc4ad-a62d-4432-a88b-57c0a80d621d\" xlink:type=\"simple\"><path d=\"M285.79,81.6 C239.27,100.79 163.05,132.25 115.85,151.73 \" fill=\"none\" id=\"E3&lt;-E4\" style=\"stroke: #383838; stroke-width: 1.0;\"/><polygon fill=\"#FFFFFF\" points=\"298.07,76.53,290.9979,75.1209,286.9771,81.107,294.0492,82.5161,298.07,76.53\" style=\"stroke: #383838; stroke-width: 1.0;\"/></a><!--MD5=[191cde3d490a3f6d7bb551fe3ddca469]\n",
       "reverse link E3 to E5--><a href=\"psysml:99d9f5a6-f2b4-4631-bd24-2952b87c2311\" target=\"_top\" title=\"psysml:99d9f5a6-f2b4-4631-bd24-2952b87c2311\" xlink:actuate=\"onRequest\" xlink:href=\"psysml:99d9f5a6-f2b4-4631-bd24-2952b87c2311\" xlink:show=\"new\" xlink:title=\"psysml:99d9f5a6-f2b4-4631-bd24-2952b87c2311\" xlink:type=\"simple\"><path d=\"M287.79,95.33 C266.97,111.86 241.66,131.95 222.74,146.98 \" fill=\"none\" id=\"E3&lt;-E5\" style=\"stroke: #383838; stroke-width: 1.0;\"/><polygon fill=\"#383838\" points=\"298.22,87.06,291.0341,87.6625,288.8265,94.5273,296.0123,93.9249,298.22,87.06\" style=\"stroke: #383838; stroke-width: 1.0;\"/></a><!--MD5=[1026b4b93417a13aa8999a858998add2]\n",
       "reverse link E3 to E6--><a href=\"psysml:14dfaf6d-db59-420e-a3c6-2cc6bbb5f023\" target=\"_top\" title=\"psysml:14dfaf6d-db59-420e-a3c6-2cc6bbb5f023\" xlink:actuate=\"onRequest\" xlink:href=\"psysml:14dfaf6d-db59-420e-a3c6-2cc6bbb5f023\" xlink:show=\"new\" xlink:title=\"psysml:14dfaf6d-db59-420e-a3c6-2cc6bbb5f023\" xlink:type=\"simple\"><path d=\"M326,100.44 C326,115.87 326,133.47 326,146.98 \" fill=\"none\" id=\"E3&lt;-E6\" style=\"stroke: #383838; stroke-width: 1.0;\"/><polygon fill=\"#FFFFFF\" points=\"326,87.06,322,93.06,326,99.06,330,93.06,326,87.06\" style=\"stroke: #383838; stroke-width: 1.0;\"/></a><!--MD5=[3403bfa781cc3da0fd423dbab6f01c63]\n",
       "reverse link E6 to E2--><a href=\"psysml:773d19c1-1d9b-4741-b5ba-dd5a31e080a3\" target=\"_top\" title=\"psysml:773d19c1-1d9b-4741-b5ba-dd5a31e080a3\" xlink:actuate=\"onRequest\" xlink:href=\"psysml:773d19c1-1d9b-4741-b5ba-dd5a31e080a3\" xlink:show=\"new\" xlink:title=\"psysml:773d19c1-1d9b-4741-b5ba-dd5a31e080a3\" xlink:type=\"simple\"><path d=\"M326,206.44 C326,221.87 326,239.47 326,252.98 \" fill=\"none\" id=\"E6&lt;-E2\" style=\"stroke: #383838; stroke-width: 1.0;\"/><polygon fill=\"#FFFFFF\" points=\"326,193.06,322,199.06,326,205.06,330,199.06,326,193.06\" style=\"stroke: #383838; stroke-width: 1.0;\"/></a><!--MD5=[85760999379eecfd2565a9fecdca67e4]\n",
       "reverse link E3 to E7--><a href=\"psysml:4bddb34b-31d0-4487-9835-f5e5c1238220\" target=\"_top\" title=\"psysml:4bddb34b-31d0-4487-9835-f5e5c1238220\" xlink:actuate=\"onRequest\" xlink:href=\"psysml:4bddb34b-31d0-4487-9835-f5e5c1238220\" xlink:show=\"new\" xlink:title=\"psysml:4bddb34b-31d0-4487-9835-f5e5c1238220\" xlink:type=\"simple\"><path d=\"M364.21,95.33 C385.03,111.86 410.34,131.95 429.26,146.98 \" fill=\"none\" id=\"E3&lt;-E7\" style=\"stroke: #383838; stroke-width: 1.0;\"/><polygon fill=\"#FFFFFF\" points=\"353.78,87.06,355.9877,93.9249,363.1735,94.5273,360.9659,87.6625,353.78,87.06\" style=\"stroke: #383838; stroke-width: 1.0;\"/></a><!--MD5=[4cb75b73ec3682b8f7f8edc9cc86126a]\n",
       "reverse link E3 to E8--><a href=\"psysml:010ce356-5f58-462c-8431-75351dc3ac74\" target=\"_top\" title=\"psysml:010ce356-5f58-462c-8431-75351dc3ac74\" xlink:actuate=\"onRequest\" xlink:href=\"psysml:010ce356-5f58-462c-8431-75351dc3ac74\" xlink:show=\"new\" xlink:title=\"psysml:010ce356-5f58-462c-8431-75351dc3ac74\" xlink:type=\"simple\"><path d=\"M365.63,80.73 C411.46,98.92 486.99,128.91 537.12,148.8 \" fill=\"none\" id=\"E3&lt;-E8\" style=\"stroke: #383838; stroke-width: 1.0;\"/><polygon fill=\"#383838\" points=\"353.54,75.93,357.6459,81.858,364.6971,80.348,360.5912,74.42,353.54,75.93\" style=\"stroke: #383838; stroke-width: 1.0;\"/></a><!--MD5=[1f23849251b97478edf99fc64190c339]\n",
       "@startuml\r\n",
       " skinparam monochrome true\r\n",
       "skinparam classbackgroundcolor white\r\n",
       "skinparam shadowing false\r\n",
       "skinparam wrapWidth 300\r\n",
       "hide circle\r\n",
       "\r\n",
       "package \"ActionTest\" as E1  [[psysml:4a739ce7-b110-4093-8b74-31ee982b1e00 ]]  {\r\n",
       "comp def \"S\" as E2  <<(T,blue) attribute def>> [[psysml:e3ea157b-753f-4ff0-b9f5-62b19f528d25 ]] {\r\n",
       "}\r\n",
       "comp usage \"a\" as E3  <<(T,blue) action>> [[psysml:fa9c3421-7722-4415-b8c7-0ea19e95762e ]] {\r\n",
       "}\r\n",
       "comp usage \"start: Action\" as E4  <<(T,blue) action>> [[psysml:a6d1daf9-13da-45ca-a864-cb134e7177b5 ]] {\r\n",
       "}\r\n",
       "comp usage \"m\" as E5  <<(T,blue) mergeNode>> [[psysml:60604585-cd78-42b0-92ae-265c1a2862a9 ]] {\r\n",
       "}\r\n",
       "comp usage \"<s>noname</s>\" as E6 << accept action>> [[psysml:1a7559c2-685c-4c08-a29a-09c3177cd704 ]] {\r\n",
       "}\r\n",
       "comp usage \"<s>noname</s>\" as E7 << send action>> [[psysml:57acc649-2893-4bd5-b427-585e4a8282d2 ]] {\r\n",
       "}\r\n",
       "comp usage \"<s>noname</s>\" as E8  <<(T,blue) decisionNode>> [[psysml:dcda7bbd-01a5-4374-8a97-a16c2625889c ]] {\r\n",
       "}\r\n",
       "comp def \"B\" as E9  <<(T,blue) action def>> [[psysml:86a7eb05-d2a7-4b0b-add7-eac0d2258e69 ]] {\r\n",
       "}\r\n",
       "E3 o- - E4 [[psysml:52dfc4ad-a62d-4432-a88b-57c0a80d621d ]] \r\n",
       "E3 *- - E5 [[psysml:99d9f5a6-f2b4-4631-bd24-2952b87c2311 ]] \r\n",
       "E3 o- - E6 [[psysml:14dfaf6d-db59-420e-a3c6-2cc6bbb5f023 ]] \r\n",
       "E6 o- - E2 [[psysml:773d19c1-1d9b-4741-b5ba-dd5a31e080a3 ]] \r\n",
       "E3 o- - E7 [[psysml:4bddb34b-31d0-4487-9835-f5e5c1238220 ]] \r\n",
       "E3 *- - E8 [[psysml:010ce356-5f58-462c-8431-75351dc3ac74 ]] \r\n",
       "}\r\n",
       "@enduml\r\n",
       "\n",
       "PlantUML version 1.2020.13(Sat Jun 13 12:26:38 UTC 2020)\n",
       "(EPL source distribution)\n",
       "Java Runtime: OpenJDK Runtime Environment\n",
       "JVM: OpenJDK 64-Bit Server VM\n",
       "Default Encoding: UTF-8\n",
       "Language: en\n",
       "Country: null\n",
       "--></g></svg>"
      ]
     },
     "execution_count": 3,
     "metadata": {},
     "output_type": "execute_result"
    }
   ],
   "source": [
    "%viz --style=\"COMPTREE\" --view=\"Tree\" \"ActionTest\""
   ]
  },
  {
   "cell_type": "code",
   "execution_count": 4,
   "id": "01a7cb10",
   "metadata": {
    "execution": {
     "iopub.execute_input": "2021-06-30T09:17:40.096876Z",
     "iopub.status.busy": "2021-06-30T09:17:40.096040Z",
     "iopub.status.idle": "2021-06-30T09:17:40.106116Z",
     "shell.execute_reply": "2021-06-30T09:17:40.106593Z"
    }
   },
   "outputs": [
    {
     "data": {
      "image/svg+xml": [
       "<?xml version=\"1.0\" encoding=\"UTF-8\" standalone=\"no\"?><svg xmlns=\"http://www.w3.org/2000/svg\" xmlns:xlink=\"http://www.w3.org/1999/xlink\" contentScriptType=\"application/ecmascript\" contentStyleType=\"text/css\" height=\"12px\" preserveAspectRatio=\"none\" style=\"width:12px;height:12px;\" version=\"1.1\" viewBox=\"0 0 12 12\" width=\"12px\" zoomAndPan=\"magnify\"><defs/><g><!--MD5=[f19188ef49e11757b5c46753f95d9edc]\n",
       "@startuml\r\n",
       " skinparam monochrome true\r\n",
       "skinparam classbackgroundcolor white\r\n",
       "skinparam shadowing false\r\n",
       "skinparam wrapWidth 300\r\n",
       "hide circle\r\n",
       "\r\n",
       "@enduml\r\n",
       "\n",
       "PlantUML version 1.2020.13(Sat Jun 13 12:26:38 UTC 2020)\n",
       "(EPL source distribution)\n",
       "Java Runtime: OpenJDK Runtime Environment\n",
       "JVM: OpenJDK 64-Bit Server VM\n",
       "Default Encoding: UTF-8\n",
       "Language: en\n",
       "Country: null\n",
       "--></g></svg>"
      ]
     },
     "execution_count": 4,
     "metadata": {},
     "output_type": "execute_result"
    }
   ],
   "source": [
    "%viz --style=\"COMPTREE\" --view=\"State\" \"ActionTest\""
   ]
  },
  {
   "cell_type": "code",
   "execution_count": 5,
   "id": "4a40d0bc",
   "metadata": {
    "execution": {
     "iopub.execute_input": "2021-06-30T09:17:40.158530Z",
     "iopub.status.busy": "2021-06-30T09:17:40.157684Z",
     "iopub.status.idle": "2021-06-30T09:17:40.271635Z",
     "shell.execute_reply": "2021-06-30T09:17:40.271092Z"
    }
   },
   "outputs": [
    {
     "data": {
      "image/svg+xml": [
       "<?xml version=\"1.0\" encoding=\"UTF-8\" standalone=\"no\"?><svg xmlns=\"http://www.w3.org/2000/svg\" xmlns:xlink=\"http://www.w3.org/1999/xlink\" contentScriptType=\"application/ecmascript\" contentStyleType=\"text/css\" height=\"462px\" preserveAspectRatio=\"none\" style=\"width:522px;height:462px;\" version=\"1.1\" viewBox=\"0 0 522 462\" width=\"522px\" zoomAndPan=\"magnify\"><defs/><g><!--MD5=[fbc87193dbaf4d95561dea2c320d4a47]\n",
       "cluster E1--><a href=\"psysml:4a739ce7-b110-4093-8b74-31ee982b1e00\" target=\"_top\" title=\"psysml:4a739ce7-b110-4093-8b74-31ee982b1e00\" xlink:actuate=\"onRequest\" xlink:href=\"psysml:4a739ce7-b110-4093-8b74-31ee982b1e00\" xlink:show=\"new\" xlink:title=\"psysml:4a739ce7-b110-4093-8b74-31ee982b1e00\" xlink:type=\"simple\"><polygon fill=\"#FFFFFF\" points=\"16,6,107,6,114,28.2969,500,28.2969,500,450.5,16,450.5,16,6\" style=\"stroke: #000000; stroke-width: 1.5;\"/><line style=\"stroke: #000000; stroke-width: 1.5;\" x1=\"16\" x2=\"114\" y1=\"28.2969\" y2=\"28.2969\"/><text fill=\"#000000\" font-family=\"sans-serif\" font-size=\"14\" font-weight=\"bold\" lengthAdjust=\"spacingAndGlyphs\" textLength=\"85\" x=\"20\" y=\"20.9951\">ActionTest</text></a><!--MD5=[d5e69f78d87373223dbae638b30a9c99]\n",
       "cluster E3--><a href=\"psysml:fa9c3421-7722-4415-b8c7-0ea19e95762e\" target=\"_top\" title=\"psysml:fa9c3421-7722-4415-b8c7-0ea19e95762e\" xlink:actuate=\"onRequest\" xlink:href=\"psysml:fa9c3421-7722-4415-b8c7-0ea19e95762e\" xlink:show=\"new\" xlink:title=\"psysml:fa9c3421-7722-4415-b8c7-0ea19e95762e\" xlink:type=\"simple\"><rect fill=\"#FFFFFF\" height=\"377.5\" id=\"E3\" rx=\"10\" ry=\"10\" style=\"stroke: #383838; stroke-width: 1.5;\" width=\"209\" x=\"267\" y=\"49\"/><rect fill=\"#F8F8F8\" height=\"37.9375\" rx=\"10\" ry=\"10\" style=\"stroke: #F8F8F8; stroke-width: 1.5;\" width=\"209\" x=\"267\" y=\"49\"/><rect fill=\"#F8F8F8\" height=\"10\" style=\"stroke: #F8F8F8; stroke-width: 1.5;\" width=\"209\" x=\"267\" y=\"76.9375\"/><rect fill=\"none\" height=\"377.5\" id=\"E3\" rx=\"10\" ry=\"10\" style=\"stroke: #383838; stroke-width: 1.5;\" width=\"209\" x=\"267\" y=\"49\"/><text fill=\"#000000\" font-family=\"sans-serif\" font-size=\"12\" font-style=\"italic\" lengthAdjust=\"spacingAndGlyphs\" textLength=\"53\" x=\"345\" y=\"65.1387\">«action»</text><text fill=\"#000000\" font-family=\"sans-serif\" font-size=\"12\" lengthAdjust=\"spacingAndGlyphs\" textLength=\"8\" x=\"367.5\" y=\"79.1074\">a</text><line style=\"stroke: #383838; stroke-width: 1.0;\" x1=\"267\" x2=\"476\" y1=\"86.9375\" y2=\"86.9375\"/></a><g id=\"E1.E2\"><a href=\"psysml:e3ea157b-753f-4ff0-b9f5-62b19f528d25\" target=\"_top\" title=\"psysml:e3ea157b-753f-4ff0-b9f5-62b19f528d25\" xlink:actuate=\"onRequest\" xlink:href=\"psysml:e3ea157b-753f-4ff0-b9f5-62b19f528d25\" xlink:show=\"new\" xlink:title=\"psysml:e3ea157b-753f-4ff0-b9f5-62b19f528d25\" xlink:type=\"simple\"><rect fill=\"#FFFFFF\" height=\"42.9375\" id=\"E2\" style=\"stroke: #383838; stroke-width: 1.5;\" width=\"100\" x=\"151\" y=\"88.5\"/><rect fill=\"#F8F8F8\" height=\"37.9375\" style=\"stroke: #383838; stroke-width: 1.5;\" width=\"100\" x=\"151\" y=\"88.5\"/><text fill=\"#000000\" font-family=\"sans-serif\" font-size=\"12\" font-style=\"italic\" lengthAdjust=\"spacingAndGlyphs\" textLength=\"93\" x=\"154.5\" y=\"104.6387\">«attribute def»</text><text fill=\"#000000\" font-family=\"sans-serif\" font-size=\"12\" lengthAdjust=\"spacingAndGlyphs\" textLength=\"8\" x=\"197\" y=\"118.6074\">S</text></a></g><polygon fill=\"#F8F8F8\" points=\"424,148.5,436,160.5,424,172.5,412,160.5,424,148.5\" style=\"stroke: #383838; stroke-width: 1.5;\"/><!--MD5=[21dd76c19d33815960c0e92fef8f0eef]\n",
       "entity E5--><a href=\"psysml:1a7559c2-685c-4c08-a29a-09c3177cd704\" target=\"_top\" title=\"psysml:1a7559c2-685c-4c08-a29a-09c3177cd704\" xlink:actuate=\"onRequest\" xlink:href=\"psysml:1a7559c2-685c-4c08-a29a-09c3177cd704\" xlink:show=\"new\" xlink:title=\"psysml:1a7559c2-685c-4c08-a29a-09c3177cd704\" xlink:type=\"simple\"><polygon fill=\"#F8F8F8\" points=\"283,189.5,283,244.0938,423,244.0938,403,216.7969,423,189.5\" style=\"stroke: #000000; stroke-width: 1.5;\"/><text fill=\"#000000\" font-family=\"sans-serif\" font-size=\"14\" font-style=\"italic\" lengthAdjust=\"spacingAndGlyphs\" textLength=\"111\" x=\"290\" y=\"212.4951\">«accept action»</text><text fill=\"#000000\" font-family=\"sans-serif\" font-size=\"14\" lengthAdjust=\"spacingAndGlyphs\" textLength=\"9\" x=\"341\" y=\"229.792\">S</text></a><!--MD5=[24d87cdf3002d433f401b2a2aa9f9f65]\n",
       "entity E6--><a href=\"psysml:57acc649-2893-4bd5-b427-585e4a8282d2\" target=\"_top\" title=\"psysml:57acc649-2893-4bd5-b427-585e4a8282d2\" xlink:actuate=\"onRequest\" xlink:href=\"psysml:57acc649-2893-4bd5-b427-585e4a8282d2\" xlink:show=\"new\" xlink:title=\"psysml:57acc649-2893-4bd5-b427-585e4a8282d2\" xlink:type=\"simple\"><polygon fill=\"#F8F8F8\" points=\"283,277.5,283,332.0938,391,332.0938,411,304.7969,391,277.5\" style=\"stroke: #000000; stroke-width: 1.5;\"/><text fill=\"#000000\" font-family=\"sans-serif\" font-size=\"14\" font-style=\"italic\" lengthAdjust=\"spacingAndGlyphs\" textLength=\"99\" x=\"290\" y=\"300.4951\">«send action»</text><text fill=\"#000000\" font-family=\"sans-serif\" font-size=\"14\" lengthAdjust=\"spacingAndGlyphs\" textLength=\"65\" x=\"307\" y=\"317.792\">S() to  B()</text></a><polygon fill=\"#F8F8F8\" points=\"422,349.5,434,361.5,422,373.5,410,361.5,422,349.5\" style=\"stroke: #383838; stroke-width: 1.5;\"/><ellipse cx=\"424\" cy=\"110\" fill=\"#000000\" rx=\"10\" ry=\"10\" style=\"stroke: none; stroke-width: 1.0;\"/><ellipse cx=\"422\" cy=\"400.5\" fill=\"none\" rx=\"10\" ry=\"10\" style=\"stroke: #000000; stroke-width: 1.0;\"/><ellipse cx=\"422.5\" cy=\"401\" fill=\"#000000\" rx=\"6\" ry=\"6\" style=\"stroke: none; stroke-width: 1.0;\"/><g id=\"E1.E8\"><a href=\"psysml:86a7eb05-d2a7-4b0b-add7-eac0d2258e69\" target=\"_top\" title=\"psysml:86a7eb05-d2a7-4b0b-add7-eac0d2258e69\" xlink:actuate=\"onRequest\" xlink:href=\"psysml:86a7eb05-d2a7-4b0b-add7-eac0d2258e69\" xlink:show=\"new\" xlink:title=\"psysml:86a7eb05-d2a7-4b0b-add7-eac0d2258e69\" xlink:type=\"simple\"><rect fill=\"#FFFFFF\" height=\"42.9375\" id=\"E8\" style=\"stroke: #383838; stroke-width: 1.5;\" width=\"84\" x=\"32\" y=\"88.5\"/><rect fill=\"#F8F8F8\" height=\"37.9375\" style=\"stroke: #383838; stroke-width: 1.5;\" width=\"84\" x=\"32\" y=\"88.5\"/><text fill=\"#000000\" font-family=\"sans-serif\" font-size=\"12\" font-style=\"italic\" lengthAdjust=\"spacingAndGlyphs\" textLength=\"77\" x=\"35.5\" y=\"104.6387\">«action def»</text><text fill=\"#000000\" font-family=\"sans-serif\" font-size=\"12\" lengthAdjust=\"spacingAndGlyphs\" textLength=\"8\" x=\"70\" y=\"118.6074\">B</text></a></g><!--MD5=[f47e10efcf9a6752d55dae986d790ed9]\n",
       "link *start*E3 to E4--><a href=\"psysml:3a6c3978-61f5-46d3-ad26-c963b1b56f5b\" target=\"_top\" title=\"psysml:3a6c3978-61f5-46d3-ad26-c963b1b56f5b\" xlink:actuate=\"onRequest\" xlink:href=\"psysml:3a6c3978-61f5-46d3-ad26-c963b1b56f5b\" xlink:show=\"new\" xlink:title=\"psysml:3a6c3978-61f5-46d3-ad26-c963b1b56f5b\" xlink:type=\"simple\"><path d=\"M424,120.35 C424,126.88 424,135.77 424,143.42 \" fill=\"none\" id=\"*start*E3-&gt;E4\" style=\"stroke: #383838; stroke-width: 1.0;\"/><polygon fill=\"#383838\" points=\"424,148.48,428,139.48,424,143.48,420,139.48,424,148.48\" style=\"stroke: #383838; stroke-width: 1.0;\"/></a><!--MD5=[d19f2eb34364d71b67042106d92f540b]\n",
       "link E7 to *end*E3--><a href=\"psysml:36daa16f-4b44-48c5-bcb7-7a401bcea152\" target=\"_top\" title=\"psysml:36daa16f-4b44-48c5-bcb7-7a401bcea152\" xlink:actuate=\"onRequest\" xlink:href=\"psysml:36daa16f-4b44-48c5-bcb7-7a401bcea152\" xlink:show=\"new\" xlink:title=\"psysml:36daa16f-4b44-48c5-bcb7-7a401bcea152\" xlink:type=\"simple\"><path d=\"M422,373.8 C422,377.34 422,381.3 422,385.03 \" fill=\"none\" id=\"E7-&gt;*end*E3\" style=\"stroke: #383838; stroke-width: 1.0;\"/><polygon fill=\"#383838\" points=\"422,390.25,426,381.25,422,385.25,418,381.25,422,390.25\" style=\"stroke: #383838; stroke-width: 1.0;\"/></a><!--MD5=[1b7591eae5389033d8d09a9d6721a717]\n",
       "link E4 to E5--><a href=\"psysml:c56e5692-64fd-4b0b-a986-d866765d0210\" target=\"_top\" title=\"psysml:c56e5692-64fd-4b0b-a986-d866765d0210\" xlink:actuate=\"onRequest\" xlink:href=\"psysml:c56e5692-64fd-4b0b-a986-d866765d0210\" xlink:show=\"new\" xlink:title=\"psysml:c56e5692-64fd-4b0b-a986-d866765d0210\" xlink:type=\"simple\"><path d=\"M417.45,166.53 C411.33,171.23 401.65,178.66 391.64,186.34 \" fill=\"none\" id=\"E4-&gt;E5\" style=\"stroke: #383838; stroke-width: 1.0;\"/><polygon fill=\"#383838\" points=\"387.64,189.41,397.2129,187.0948,391.6037,186.3621,392.3363,180.7529,387.64,189.41\" style=\"stroke: #383838; stroke-width: 1.0;\"/></a><!--MD5=[9120cf2e5df3bff93db8f754bbbc09b4]\n",
       "link E5 to E6--><a href=\"psysml:363bb7e0-7ec1-401c-827a-8a23a32c7946\" target=\"_top\" title=\"psysml:363bb7e0-7ec1-401c-827a-8a23a32c7946\" xlink:actuate=\"onRequest\" xlink:href=\"psysml:363bb7e0-7ec1-401c-827a-8a23a32c7946\" xlink:show=\"new\" xlink:title=\"psysml:363bb7e0-7ec1-401c-827a-8a23a32c7946\" xlink:type=\"simple\"><path d=\"M351.13,244.74 C350.53,253.4 349.85,263.08 349.23,272.08 \" fill=\"none\" id=\"E5-&gt;E6\" style=\"stroke: #383838; stroke-width: 1.0;\"/><polygon fill=\"#383838\" points=\"348.86,277.28,353.468,268.5756,349.203,272.2918,345.4869,268.0268,348.86,277.28\" style=\"stroke: #383838; stroke-width: 1.0;\"/></a><!--MD5=[02c70b7c851c11e3980e4e90450dc5dd]\n",
       "link E6 to E7--><a href=\"psysml:84082b66-a23a-4779-a592-98d74f10d8d7\" target=\"_top\" title=\"psysml:84082b66-a23a-4779-a592-98d74f10d8d7\" xlink:actuate=\"onRequest\" xlink:href=\"psysml:84082b66-a23a-4779-a592-98d74f10d8d7\" xlink:show=\"new\" xlink:title=\"psysml:84082b66-a23a-4779-a592-98d74f10d8d7\" xlink:type=\"simple\"><path d=\"M383.62,332.61 C393.72,339.95 403.91,347.35 411.24,352.68 \" fill=\"none\" id=\"E6-&gt;E7\" style=\"stroke: #383838; stroke-width: 1.0;\"/><polygon fill=\"#383838\" points=\"415.42,355.72,410.4976,347.1894,411.3776,352.7774,405.7896,353.6574,415.42,355.72\" style=\"stroke: #383838; stroke-width: 1.0;\"/></a><!--MD5=[6bdd27f9905911a7e892a3dc65cf6b7c]\n",
       "link E7 to E4--><a href=\"psysml:49753952-5c4c-4ef6-ad04-e80bfe7cb929\" target=\"_top\" title=\"psysml:49753952-5c4c-4ef6-ad04-e80bfe7cb929\" xlink:actuate=\"onRequest\" xlink:href=\"psysml:49753952-5c4c-4ef6-ad04-e80bfe7cb929\" xlink:show=\"new\" xlink:title=\"psysml:49753952-5c4c-4ef6-ad04-e80bfe7cb929\" xlink:type=\"simple\"><path d=\"M425,352.49 C433.84,327.73 458.06,250.48 441,189.5 C439.26,183.29 435.73,177.1 432.34,172.12 \" fill=\"none\" id=\"E7-&gt;E4\" style=\"stroke: #383838; stroke-width: 1.0;\"/><polygon fill=\"#383838\" points=\"429.31,167.92,431.3342,177.5586,432.2364,171.9741,437.8209,172.8763,429.31,167.92\" style=\"stroke: #383838; stroke-width: 1.0;\"/><text fill=\"#000000\" font-family=\"sans-serif\" font-size=\"13\" lengthAdjust=\"spacingAndGlyphs\" textLength=\"36\" x=\"447\" y=\"265.5669\">[true]</text></a><!--MD5=[4123e364e087b669cbafb47076b0b663]\n",
       "@startuml\r\n",
       "skinparam ranksep 10\r\n",
       "skinparam rectangle {\r\n",
       " backgroundColor<<block>> LightGreen\r\n",
       "}\r\n",
       " skinparam monochrome true\r\n",
       "skinparam classbackgroundcolor white\r\n",
       "skinparam shadowing false\r\n",
       "skinparam wrapWidth 300\r\n",
       "hide circle\r\n",
       "\r\n",
       "package \"ActionTest\" as E1  [[psysml:4a739ce7-b110-4093-8b74-31ee982b1e00 ]]  {\r\n",
       "def \"S\" as E2  <<(T,blue) attribute def>> [[psysml:e3ea157b-753f-4ff0-b9f5-62b19f528d25 ]] \r\n",
       "rec usage \"a\" as E3  <<(T,blue) action>> [[psysml:fa9c3421-7722-4415-b8c7-0ea19e95762e ]] {\r\n",
       "choice \"m\" as E4  [[psysml:60604585-cd78-42b0-92ae-265c1a2862a9 ]] \r\n",
       "accept \" S\" as E5 << accept action>> [[psysml:1a7559c2-685c-4c08-a29a-09c3177cd704 ]] \r\n",
       "send \" S() to  B()\" as E6 << send action>> [[psysml:57acc649-2893-4bd5-b427-585e4a8282d2 ]] \r\n",
       "choice \"noname\" as E7  [[psysml:dcda7bbd-01a5-4374-8a97-a16c2625889c ]] \r\n",
       "[*] - -> E4 [[psysml:3a6c3978-61f5-46d3-ad26-c963b1b56f5b ]] \r\n",
       "E7  - -> [*] [[psysml:36daa16f-4b44-48c5-bcb7-7a401bcea152 ]] \r\n",
       "}\r\n",
       "\r\n",
       "rec def \"B\" as E8  <<(T,blue) action def>> [[psysml:86a7eb05-d2a7-4b0b-add7-eac0d2258e69 ]] {\r\n",
       "}\r\n",
       "\r\n",
       "E4 - -> E5 [[psysml:c56e5692-64fd-4b0b-a986-d866765d0210 ]] \r\n",
       "E5 - -> E6 [[psysml:363bb7e0-7ec1-401c-827a-8a23a32c7946 ]] \r\n",
       "E6 - -> E7 [[psysml:84082b66-a23a-4779-a592-98d74f10d8d7 ]] \r\n",
       "E7  - -> E4 [[psysml:49753952-5c4c-4ef6-ad04-e80bfe7cb929 ]] : [true]\r\n",
       "}\r\n",
       "@enduml\r\n",
       "\n",
       "PlantUML version 1.2020.13(Sat Jun 13 12:26:38 UTC 2020)\n",
       "(EPL source distribution)\n",
       "Java Runtime: OpenJDK Runtime Environment\n",
       "JVM: OpenJDK 64-Bit Server VM\n",
       "Default Encoding: UTF-8\n",
       "Language: en\n",
       "Country: null\n",
       "--></g></svg>"
      ]
     },
     "execution_count": 5,
     "metadata": {},
     "output_type": "execute_result"
    }
   ],
   "source": [
    "%viz --style=\"COMPTREE\" --view=\"Interconnection\" \"ActionTest\""
   ]
  },
  {
   "cell_type": "code",
   "execution_count": 6,
   "id": "1c9cf463",
   "metadata": {
    "execution": {
     "iopub.execute_input": "2021-06-30T09:17:40.322664Z",
     "iopub.status.busy": "2021-06-30T09:17:40.322174Z",
     "iopub.status.idle": "2021-06-30T09:17:40.398975Z",
     "shell.execute_reply": "2021-06-30T09:17:40.399318Z"
    }
   },
   "outputs": [
    {
     "data": {
      "image/svg+xml": [
       "<?xml version=\"1.0\" encoding=\"UTF-8\" standalone=\"no\"?><svg xmlns=\"http://www.w3.org/2000/svg\" xmlns:xlink=\"http://www.w3.org/1999/xlink\" contentScriptType=\"application/ecmascript\" contentStyleType=\"text/css\" height=\"395px\" preserveAspectRatio=\"none\" style=\"width:335px;height:395px;\" version=\"1.1\" viewBox=\"0 0 335 395\" width=\"335px\" zoomAndPan=\"magnify\"><defs/><g><!--MD5=[fbc87193dbaf4d95561dea2c320d4a47]\n",
       "cluster E1--><a href=\"psysml:fa9c3421-7722-4415-b8c7-0ea19e95762e\" target=\"_top\" title=\"psysml:fa9c3421-7722-4415-b8c7-0ea19e95762e\" xlink:actuate=\"onRequest\" xlink:href=\"psysml:fa9c3421-7722-4415-b8c7-0ea19e95762e\" xlink:show=\"new\" xlink:title=\"psysml:fa9c3421-7722-4415-b8c7-0ea19e95762e\" xlink:type=\"simple\"><rect fill=\"#FFFFFF\" height=\"377.5\" id=\"E1\" rx=\"10\" ry=\"10\" style=\"stroke: #383838; stroke-width: 1.5;\" width=\"209\" x=\"107\" y=\"7\"/><rect fill=\"#F8F8F8\" height=\"37.9375\" rx=\"10\" ry=\"10\" style=\"stroke: #F8F8F8; stroke-width: 1.5;\" width=\"209\" x=\"107\" y=\"7\"/><rect fill=\"#F8F8F8\" height=\"10\" style=\"stroke: #F8F8F8; stroke-width: 1.5;\" width=\"209\" x=\"107\" y=\"34.9375\"/><rect fill=\"none\" height=\"377.5\" id=\"E1\" rx=\"10\" ry=\"10\" style=\"stroke: #383838; stroke-width: 1.5;\" width=\"209\" x=\"107\" y=\"7\"/><text fill=\"#000000\" font-family=\"sans-serif\" font-size=\"12\" font-style=\"italic\" lengthAdjust=\"spacingAndGlyphs\" textLength=\"53\" x=\"185\" y=\"23.1387\">«action»</text><text fill=\"#000000\" font-family=\"sans-serif\" font-size=\"12\" lengthAdjust=\"spacingAndGlyphs\" textLength=\"8\" x=\"207.5\" y=\"37.1074\">a</text><line style=\"stroke: #383838; stroke-width: 1.0;\" x1=\"107\" x2=\"316\" y1=\"44.9375\" y2=\"44.9375\"/></a><polygon fill=\"#F8F8F8\" points=\"264,106.5,276,118.5,264,130.5,252,118.5,264,106.5\" style=\"stroke: #383838; stroke-width: 1.5;\"/><!--MD5=[a60fb756f580feb9fd8e2cf1329b5c91]\n",
       "entity E3--><a href=\"psysml:1a7559c2-685c-4c08-a29a-09c3177cd704\" target=\"_top\" title=\"psysml:1a7559c2-685c-4c08-a29a-09c3177cd704\" xlink:actuate=\"onRequest\" xlink:href=\"psysml:1a7559c2-685c-4c08-a29a-09c3177cd704\" xlink:show=\"new\" xlink:title=\"psysml:1a7559c2-685c-4c08-a29a-09c3177cd704\" xlink:type=\"simple\"><polygon fill=\"#F8F8F8\" points=\"123,147.5,123,202.0938,263,202.0938,243,174.7969,263,147.5\" style=\"stroke: #000000; stroke-width: 1.5;\"/><text fill=\"#000000\" font-family=\"sans-serif\" font-size=\"14\" font-style=\"italic\" lengthAdjust=\"spacingAndGlyphs\" textLength=\"111\" x=\"130\" y=\"170.4951\">«accept action»</text><text fill=\"#000000\" font-family=\"sans-serif\" font-size=\"14\" lengthAdjust=\"spacingAndGlyphs\" textLength=\"9\" x=\"181\" y=\"187.792\">S</text></a><!--MD5=[961cefdc15414eaa3e87aec9d17c2188]\n",
       "entity E4--><a href=\"psysml:57acc649-2893-4bd5-b427-585e4a8282d2\" target=\"_top\" title=\"psysml:57acc649-2893-4bd5-b427-585e4a8282d2\" xlink:actuate=\"onRequest\" xlink:href=\"psysml:57acc649-2893-4bd5-b427-585e4a8282d2\" xlink:show=\"new\" xlink:title=\"psysml:57acc649-2893-4bd5-b427-585e4a8282d2\" xlink:type=\"simple\"><polygon fill=\"#F8F8F8\" points=\"123,235.5,123,290.0938,231,290.0938,251,262.7969,231,235.5\" style=\"stroke: #000000; stroke-width: 1.5;\"/><text fill=\"#000000\" font-family=\"sans-serif\" font-size=\"14\" font-style=\"italic\" lengthAdjust=\"spacingAndGlyphs\" textLength=\"99\" x=\"130\" y=\"258.4951\">«send action»</text><text fill=\"#000000\" font-family=\"sans-serif\" font-size=\"14\" lengthAdjust=\"spacingAndGlyphs\" textLength=\"65\" x=\"147\" y=\"275.792\">S() to  B()</text></a><polygon fill=\"#F8F8F8\" points=\"262,307.5,274,319.5,262,331.5,250,319.5,262,307.5\" style=\"stroke: #383838; stroke-width: 1.5;\"/><ellipse cx=\"264\" cy=\"68\" fill=\"#000000\" rx=\"10\" ry=\"10\" style=\"stroke: none; stroke-width: 1.0;\"/><ellipse cx=\"262\" cy=\"358.5\" fill=\"none\" rx=\"10\" ry=\"10\" style=\"stroke: #000000; stroke-width: 1.0;\"/><ellipse cx=\"262.5\" cy=\"359\" fill=\"#000000\" rx=\"6\" ry=\"6\" style=\"stroke: none; stroke-width: 1.0;\"/><g id=\"E6\"><a href=\"psysml:86a7eb05-d2a7-4b0b-add7-eac0d2258e69\" target=\"_top\" title=\"psysml:86a7eb05-d2a7-4b0b-add7-eac0d2258e69\" xlink:actuate=\"onRequest\" xlink:href=\"psysml:86a7eb05-d2a7-4b0b-add7-eac0d2258e69\" xlink:show=\"new\" xlink:title=\"psysml:86a7eb05-d2a7-4b0b-add7-eac0d2258e69\" xlink:type=\"simple\"><rect fill=\"#FFFFFF\" height=\"42.9375\" id=\"E6\" style=\"stroke: #383838; stroke-width: 1.5;\" width=\"84\" x=\"7\" y=\"46.5\"/><rect fill=\"#F8F8F8\" height=\"37.9375\" style=\"stroke: #383838; stroke-width: 1.5;\" width=\"84\" x=\"7\" y=\"46.5\"/><text fill=\"#000000\" font-family=\"sans-serif\" font-size=\"12\" font-style=\"italic\" lengthAdjust=\"spacingAndGlyphs\" textLength=\"77\" x=\"10.5\" y=\"62.6387\">«action def»</text><text fill=\"#000000\" font-family=\"sans-serif\" font-size=\"12\" lengthAdjust=\"spacingAndGlyphs\" textLength=\"8\" x=\"45\" y=\"76.6074\">B</text></a></g><!--MD5=[cff944eb183b832d446717a4e202d613]\n",
       "link *start*E1 to E2--><a href=\"psysml:3a6c3978-61f5-46d3-ad26-c963b1b56f5b\" target=\"_top\" title=\"psysml:3a6c3978-61f5-46d3-ad26-c963b1b56f5b\" xlink:actuate=\"onRequest\" xlink:href=\"psysml:3a6c3978-61f5-46d3-ad26-c963b1b56f5b\" xlink:show=\"new\" xlink:title=\"psysml:3a6c3978-61f5-46d3-ad26-c963b1b56f5b\" xlink:type=\"simple\"><path d=\"M264,78.35 C264,84.88 264,93.77 264,101.42 \" fill=\"none\" id=\"*start*E1-&gt;E2\" style=\"stroke: #383838; stroke-width: 1.0; stroke-dasharray: 7.0,7.0;\"/><polygon fill=\"#383838\" points=\"264,106.48,268,97.48,264,101.48,260,97.48,264,106.48\" style=\"stroke: #383838; stroke-width: 1.0;\"/></a><!--MD5=[7fc47fc0d107820853a137871ad908c8]\n",
       "link E5 to *end*E1--><a href=\"psysml:36daa16f-4b44-48c5-bcb7-7a401bcea152\" target=\"_top\" title=\"psysml:36daa16f-4b44-48c5-bcb7-7a401bcea152\" xlink:actuate=\"onRequest\" xlink:href=\"psysml:36daa16f-4b44-48c5-bcb7-7a401bcea152\" xlink:show=\"new\" xlink:title=\"psysml:36daa16f-4b44-48c5-bcb7-7a401bcea152\" xlink:type=\"simple\"><path d=\"M262,331.8 C262,335.34 262,339.3 262,343.03 \" fill=\"none\" id=\"E5-&gt;*end*E1\" style=\"stroke: #383838; stroke-width: 1.0; stroke-dasharray: 7.0,7.0;\"/><polygon fill=\"#383838\" points=\"262,348.25,266,339.25,262,343.25,258,339.25,262,348.25\" style=\"stroke: #383838; stroke-width: 1.0;\"/></a><!--MD5=[2720a5a1f2c3fca2055b230370638851]\n",
       "link E2 to E3--><a href=\"psysml:c56e5692-64fd-4b0b-a986-d866765d0210\" target=\"_top\" title=\"psysml:c56e5692-64fd-4b0b-a986-d866765d0210\" xlink:actuate=\"onRequest\" xlink:href=\"psysml:c56e5692-64fd-4b0b-a986-d866765d0210\" xlink:show=\"new\" xlink:title=\"psysml:c56e5692-64fd-4b0b-a986-d866765d0210\" xlink:type=\"simple\"><path d=\"M257.45,124.53 C251.33,129.23 241.65,136.66 231.64,144.34 \" fill=\"none\" id=\"E2-&gt;E3\" style=\"stroke: #383838; stroke-width: 1.0; stroke-dasharray: 7.0,7.0;\"/><polygon fill=\"#383838\" points=\"227.64,147.41,237.2129,145.0948,231.6037,144.3621,232.3363,138.7529,227.64,147.41\" style=\"stroke: #383838; stroke-width: 1.0;\"/></a><!--MD5=[af87c684e3b0d8be13c1a698a818ef1e]\n",
       "link E3 to E4--><a href=\"psysml:363bb7e0-7ec1-401c-827a-8a23a32c7946\" target=\"_top\" title=\"psysml:363bb7e0-7ec1-401c-827a-8a23a32c7946\" xlink:actuate=\"onRequest\" xlink:href=\"psysml:363bb7e0-7ec1-401c-827a-8a23a32c7946\" xlink:show=\"new\" xlink:title=\"psysml:363bb7e0-7ec1-401c-827a-8a23a32c7946\" xlink:type=\"simple\"><path d=\"M191.13,202.74 C190.53,211.4 189.85,221.08 189.23,230.08 \" fill=\"none\" id=\"E3-&gt;E4\" style=\"stroke: #383838; stroke-width: 1.0; stroke-dasharray: 7.0,7.0;\"/><polygon fill=\"#383838\" points=\"188.86,235.28,193.468,226.5756,189.203,230.2918,185.4869,226.0268,188.86,235.28\" style=\"stroke: #383838; stroke-width: 1.0;\"/></a><!--MD5=[1b7591eae5389033d8d09a9d6721a717]\n",
       "link E4 to E5--><a href=\"psysml:84082b66-a23a-4779-a592-98d74f10d8d7\" target=\"_top\" title=\"psysml:84082b66-a23a-4779-a592-98d74f10d8d7\" xlink:actuate=\"onRequest\" xlink:href=\"psysml:84082b66-a23a-4779-a592-98d74f10d8d7\" xlink:show=\"new\" xlink:title=\"psysml:84082b66-a23a-4779-a592-98d74f10d8d7\" xlink:type=\"simple\"><path d=\"M223.62,290.61 C233.72,297.95 243.91,305.35 251.24,310.68 \" fill=\"none\" id=\"E4-&gt;E5\" style=\"stroke: #383838; stroke-width: 1.0; stroke-dasharray: 7.0,7.0;\"/><polygon fill=\"#383838\" points=\"255.42,313.72,250.4976,305.1894,251.3776,310.7774,245.7896,311.6574,255.42,313.72\" style=\"stroke: #383838; stroke-width: 1.0;\"/></a><!--MD5=[15ebcb19ae302d9b601edb458606d402]\n",
       "link E5 to E2--><a href=\"psysml:49753952-5c4c-4ef6-ad04-e80bfe7cb929\" target=\"_top\" title=\"psysml:49753952-5c4c-4ef6-ad04-e80bfe7cb929\" xlink:actuate=\"onRequest\" xlink:href=\"psysml:49753952-5c4c-4ef6-ad04-e80bfe7cb929\" xlink:show=\"new\" xlink:title=\"psysml:49753952-5c4c-4ef6-ad04-e80bfe7cb929\" xlink:type=\"simple\"><path d=\"M265,310.49 C273.84,285.73 298.06,208.48 281,147.5 C279.26,141.29 275.73,135.1 272.34,130.12 \" fill=\"none\" id=\"E5-&gt;E2\" style=\"stroke: #383838; stroke-width: 1.0; stroke-dasharray: 7.0,7.0;\"/><polygon fill=\"#383838\" points=\"269.31,125.92,271.3342,135.5586,272.2364,129.9741,277.8209,130.8763,269.31,125.92\" style=\"stroke: #383838; stroke-width: 1.0;\"/><text fill=\"#000000\" font-family=\"sans-serif\" font-size=\"13\" lengthAdjust=\"spacingAndGlyphs\" textLength=\"36\" x=\"287\" y=\"223.5669\">[true]</text></a><!--MD5=[2a4d6afaf39576006496bcd7d900e637]\n",
       "@startuml\r\n",
       "skinparam ranksep 8\r\n",
       " skinparam monochrome true\r\n",
       "skinparam classbackgroundcolor white\r\n",
       "skinparam shadowing false\r\n",
       "skinparam wrapWidth 300\r\n",
       "hide circle\r\n",
       "\r\n",
       "rec usage \"a\" as E1  <<(T,blue) action>> [[psysml:fa9c3421-7722-4415-b8c7-0ea19e95762e ]] {\r\n",
       "choice \"m\" as E2  [[psysml:60604585-cd78-42b0-92ae-265c1a2862a9 ]] \r\n",
       "accept \" S\" as E3 << accept action>> [[psysml:1a7559c2-685c-4c08-a29a-09c3177cd704 ]] \r\n",
       "send \" S() to  B()\" as E4 << send action>> [[psysml:57acc649-2893-4bd5-b427-585e4a8282d2 ]] \r\n",
       "choice \"noname\" as E5  [[psysml:dcda7bbd-01a5-4374-8a97-a16c2625889c ]] \r\n",
       "[*] ..> E2 [[psysml:3a6c3978-61f5-46d3-ad26-c963b1b56f5b ]] \r\n",
       "E5 ..> [*] [[psysml:36daa16f-4b44-48c5-bcb7-7a401bcea152 ]] \r\n",
       "}\r\n",
       "\r\n",
       "E2 ..> E3 [[psysml:c56e5692-64fd-4b0b-a986-d866765d0210 ]] \r\n",
       "E3 ..> E4 [[psysml:363bb7e0-7ec1-401c-827a-8a23a32c7946 ]] \r\n",
       "E4 ..> E5 [[psysml:84082b66-a23a-4779-a592-98d74f10d8d7 ]] \r\n",
       "E5 ..> E2 [[psysml:49753952-5c4c-4ef6-ad04-e80bfe7cb929 ]] : [true]\r\n",
       "rec def \"B\" as E6  <<(T,blue) action def>> [[psysml:86a7eb05-d2a7-4b0b-add7-eac0d2258e69 ]] {\r\n",
       "}\r\n",
       "\r\n",
       "@enduml\r\n",
       "\n",
       "PlantUML version 1.2020.13(Sat Jun 13 12:26:38 UTC 2020)\n",
       "(EPL source distribution)\n",
       "Java Runtime: OpenJDK Runtime Environment\n",
       "JVM: OpenJDK 64-Bit Server VM\n",
       "Default Encoding: UTF-8\n",
       "Language: en\n",
       "Country: null\n",
       "--></g></svg>"
      ]
     },
     "execution_count": 6,
     "metadata": {},
     "output_type": "execute_result"
    }
   ],
   "source": [
    "%viz --style=\"COMPTREE\" --view=\"Action\" \"ActionTest\""
   ]
  },
  {
   "cell_type": "code",
   "execution_count": 7,
   "id": "bb2547ae",
   "metadata": {
    "execution": {
     "iopub.execute_input": "2021-06-30T09:17:40.451090Z",
     "iopub.status.busy": "2021-06-30T09:17:40.450521Z",
     "iopub.status.idle": "2021-06-30T09:17:40.527168Z",
     "shell.execute_reply": "2021-06-30T09:17:40.526480Z"
    }
   },
   "outputs": [
    {
     "data": {
      "image/svg+xml": [
       "<?xml version=\"1.0\" encoding=\"UTF-8\" standalone=\"no\"?><svg xmlns=\"http://www.w3.org/2000/svg\" xmlns:xlink=\"http://www.w3.org/1999/xlink\" contentScriptType=\"application/ecmascript\" contentStyleType=\"text/css\" height=\"327px\" preserveAspectRatio=\"none\" style=\"width:677px;height:327px;\" version=\"1.1\" viewBox=\"0 0 677 327\" width=\"677px\" zoomAndPan=\"magnify\"><defs/><g><!--MD5=[fbc87193dbaf4d95561dea2c320d4a47]\n",
       "cluster E1--><a href=\"psysml:4a739ce7-b110-4093-8b74-31ee982b1e00\" target=\"_top\" title=\"psysml:4a739ce7-b110-4093-8b74-31ee982b1e00\" xlink:actuate=\"onRequest\" xlink:href=\"psysml:4a739ce7-b110-4093-8b74-31ee982b1e00\" xlink:show=\"new\" xlink:title=\"psysml:4a739ce7-b110-4093-8b74-31ee982b1e00\" xlink:type=\"simple\"><polygon fill=\"#FFFFFF\" points=\"16,6,107,6,114,28.2969,655,28.2969,655,315,16,315,16,6\" style=\"stroke: #000000; stroke-width: 1.5;\"/><line style=\"stroke: #000000; stroke-width: 1.5;\" x1=\"16\" x2=\"114\" y1=\"28.2969\" y2=\"28.2969\"/><text fill=\"#000000\" font-family=\"sans-serif\" font-size=\"14\" font-weight=\"bold\" lengthAdjust=\"spacingAndGlyphs\" textLength=\"85\" x=\"20\" y=\"20.9951\">ActionTest</text></a><!--MD5=[b4997ac47864f28c2f74865a473b2911]\n",
       "class E2--><a href=\"psysml:e3ea157b-753f-4ff0-b9f5-62b19f528d25\" target=\"_top\" title=\"psysml:e3ea157b-753f-4ff0-b9f5-62b19f528d25\" xlink:actuate=\"onRequest\" xlink:href=\"psysml:e3ea157b-753f-4ff0-b9f5-62b19f528d25\" xlink:show=\"new\" xlink:title=\"psysml:e3ea157b-753f-4ff0-b9f5-62b19f528d25\" xlink:type=\"simple\"><rect fill=\"#FFFFFF\" height=\"45.9375\" id=\"E2\" style=\"stroke: #383838; stroke-width: 1.5;\" width=\"95\" x=\"278.5\" y=\"253\"/><text fill=\"#000000\" font-family=\"sans-serif\" font-size=\"12\" font-style=\"italic\" lengthAdjust=\"spacingAndGlyphs\" textLength=\"93\" x=\"279.5\" y=\"269.1387\">«attribute def»</text><text fill=\"#000000\" font-family=\"sans-serif\" font-size=\"12\" lengthAdjust=\"spacingAndGlyphs\" textLength=\"8\" x=\"322\" y=\"283.1074\">S</text><line style=\"stroke: #383838; stroke-width: 1.5;\" x1=\"279.5\" x2=\"372.5\" y1=\"290.9375\" y2=\"290.9375\"/></a><!--MD5=[09b614a08d8cba4a07c9adeb5e0fee81]\n",
       "class E3--><a href=\"psysml:fa9c3421-7722-4415-b8c7-0ea19e95762e\" target=\"_top\" title=\"psysml:fa9c3421-7722-4415-b8c7-0ea19e95762e\" xlink:actuate=\"onRequest\" xlink:href=\"psysml:fa9c3421-7722-4415-b8c7-0ea19e95762e\" xlink:show=\"new\" xlink:title=\"psysml:fa9c3421-7722-4415-b8c7-0ea19e95762e\" xlink:type=\"simple\"><rect fill=\"#FFFFFF\" height=\"45.9375\" id=\"E3\" rx=\"10\" ry=\"10\" style=\"stroke: #383838; stroke-width: 1.5;\" width=\"55\" x=\"298.5\" y=\"41\"/><text fill=\"#000000\" font-family=\"sans-serif\" font-size=\"12\" font-style=\"italic\" lengthAdjust=\"spacingAndGlyphs\" textLength=\"53\" x=\"299.5\" y=\"57.1387\">«action»</text><text fill=\"#000000\" font-family=\"sans-serif\" font-size=\"12\" lengthAdjust=\"spacingAndGlyphs\" textLength=\"8\" x=\"322\" y=\"71.1074\">a</text><line style=\"stroke: #383838; stroke-width: 1.5;\" x1=\"299.5\" x2=\"352.5\" y1=\"78.9375\" y2=\"78.9375\"/></a><!--MD5=[ebbe1d658d1005bcc118a6aa81145e00]\n",
       "class E4--><a href=\"psysml:a6d1daf9-13da-45ca-a864-cb134e7177b5\" target=\"_top\" title=\"psysml:a6d1daf9-13da-45ca-a864-cb134e7177b5\" xlink:actuate=\"onRequest\" xlink:href=\"psysml:a6d1daf9-13da-45ca-a864-cb134e7177b5\" xlink:show=\"new\" xlink:title=\"psysml:a6d1daf9-13da-45ca-a864-cb134e7177b5\" xlink:type=\"simple\"><rect fill=\"#FFFFFF\" height=\"45.9375\" id=\"E4\" rx=\"10\" ry=\"10\" style=\"stroke: #383838; stroke-width: 1.5;\" width=\"83\" x=\"32.5\" y=\"147\"/><text fill=\"#000000\" font-family=\"sans-serif\" font-size=\"12\" font-style=\"italic\" lengthAdjust=\"spacingAndGlyphs\" textLength=\"53\" x=\"47.5\" y=\"163.1387\">«action»</text><text fill=\"#000000\" font-family=\"sans-serif\" font-size=\"12\" lengthAdjust=\"spacingAndGlyphs\" textLength=\"77\" x=\"35.5\" y=\"177.1074\">start: Action</text><line style=\"stroke: #383838; stroke-width: 1.5;\" x1=\"33.5\" x2=\"114.5\" y1=\"184.9375\" y2=\"184.9375\"/></a><!--MD5=[270fce915f116d4de14055a7c1d9a0f3]\n",
       "class E5--><a href=\"psysml:60604585-cd78-42b0-92ae-265c1a2862a9\" target=\"_top\" title=\"psysml:60604585-cd78-42b0-92ae-265c1a2862a9\" xlink:actuate=\"onRequest\" xlink:href=\"psysml:60604585-cd78-42b0-92ae-265c1a2862a9\" xlink:show=\"new\" xlink:title=\"psysml:60604585-cd78-42b0-92ae-265c1a2862a9\" xlink:type=\"simple\"><rect fill=\"#FFFFFF\" height=\"45.9375\" id=\"E5\" rx=\"10\" ry=\"10\" style=\"stroke: #383838; stroke-width: 1.5;\" width=\"89\" x=\"150.5\" y=\"147\"/><text fill=\"#000000\" font-family=\"sans-serif\" font-size=\"12\" font-style=\"italic\" lengthAdjust=\"spacingAndGlyphs\" textLength=\"87\" x=\"151.5\" y=\"163.1387\">«mergeNode»</text><text fill=\"#000000\" font-family=\"sans-serif\" font-size=\"12\" lengthAdjust=\"spacingAndGlyphs\" textLength=\"11\" x=\"189.5\" y=\"177.1074\">m</text><line style=\"stroke: #383838; stroke-width: 1.5;\" x1=\"151.5\" x2=\"238.5\" y1=\"184.9375\" y2=\"184.9375\"/></a><!--MD5=[60a26617385b1d2d0262a64233df1f8d]\n",
       "class E6--><a href=\"psysml:1a7559c2-685c-4c08-a29a-09c3177cd704\" target=\"_top\" title=\"psysml:1a7559c2-685c-4c08-a29a-09c3177cd704\" xlink:actuate=\"onRequest\" xlink:href=\"psysml:1a7559c2-685c-4c08-a29a-09c3177cd704\" xlink:show=\"new\" xlink:title=\"psysml:1a7559c2-685c-4c08-a29a-09c3177cd704\" xlink:type=\"simple\"><rect fill=\"#FFFFFF\" height=\"45.9375\" id=\"E6\" rx=\"10\" ry=\"10\" style=\"stroke: #383838; stroke-width: 1.5;\" width=\"102\" x=\"275\" y=\"147\"/><text fill=\"#000000\" font-family=\"sans-serif\" font-size=\"12\" font-style=\"italic\" lengthAdjust=\"spacingAndGlyphs\" textLength=\"100\" x=\"276\" y=\"163.1387\">«accept action»</text><text fill=\"#000000\" font-family=\"sans-serif\" font-size=\"12\" lengthAdjust=\"spacingAndGlyphs\" text-decoration=\"line-through\" textLength=\"51\" x=\"300.5\" y=\"177.1074\">noname</text><line style=\"stroke: #383838; stroke-width: 1.5;\" x1=\"276\" x2=\"376\" y1=\"184.9375\" y2=\"184.9375\"/></a><!--MD5=[2156ba9850f5573cc1fc38a6a4b2f02b]\n",
       "class E7--><a href=\"psysml:57acc649-2893-4bd5-b427-585e4a8282d2\" target=\"_top\" title=\"psysml:57acc649-2893-4bd5-b427-585e4a8282d2\" xlink:actuate=\"onRequest\" xlink:href=\"psysml:57acc649-2893-4bd5-b427-585e4a8282d2\" xlink:show=\"new\" xlink:title=\"psysml:57acc649-2893-4bd5-b427-585e4a8282d2\" xlink:type=\"simple\"><rect fill=\"#FFFFFF\" height=\"45.9375\" id=\"E7\" rx=\"10\" ry=\"10\" style=\"stroke: #383838; stroke-width: 1.5;\" width=\"90\" x=\"412\" y=\"147\"/><text fill=\"#000000\" font-family=\"sans-serif\" font-size=\"12\" font-style=\"italic\" lengthAdjust=\"spacingAndGlyphs\" textLength=\"88\" x=\"413\" y=\"163.1387\">«send action»</text><text fill=\"#000000\" font-family=\"sans-serif\" font-size=\"12\" lengthAdjust=\"spacingAndGlyphs\" text-decoration=\"line-through\" textLength=\"51\" x=\"431.5\" y=\"177.1074\">noname</text><line style=\"stroke: #383838; stroke-width: 1.5;\" x1=\"413\" x2=\"501\" y1=\"184.9375\" y2=\"184.9375\"/></a><!--MD5=[b9389687b975829384b498ac4b7476b2]\n",
       "class E8--><a href=\"psysml:dcda7bbd-01a5-4374-8a97-a16c2625889c\" target=\"_top\" title=\"psysml:dcda7bbd-01a5-4374-8a97-a16c2625889c\" xlink:actuate=\"onRequest\" xlink:href=\"psysml:dcda7bbd-01a5-4374-8a97-a16c2625889c\" xlink:show=\"new\" xlink:title=\"psysml:dcda7bbd-01a5-4374-8a97-a16c2625889c\" xlink:type=\"simple\"><rect fill=\"#FFFFFF\" height=\"45.9375\" id=\"E8\" rx=\"10\" ry=\"10\" style=\"stroke: #383838; stroke-width: 1.5;\" width=\"101\" x=\"537.5\" y=\"147\"/><text fill=\"#000000\" font-family=\"sans-serif\" font-size=\"12\" font-style=\"italic\" lengthAdjust=\"spacingAndGlyphs\" textLength=\"99\" x=\"538.5\" y=\"163.1387\">«decisionNode»</text><text fill=\"#000000\" font-family=\"sans-serif\" font-size=\"12\" lengthAdjust=\"spacingAndGlyphs\" text-decoration=\"line-through\" textLength=\"51\" x=\"562.5\" y=\"177.1074\">noname</text><line style=\"stroke: #383838; stroke-width: 1.5;\" x1=\"538.5\" x2=\"637.5\" y1=\"184.9375\" y2=\"184.9375\"/></a><!--MD5=[fd4143e9d270a159db93a4ea2a975926]\n",
       "class E9--><a href=\"psysml:86a7eb05-d2a7-4b0b-add7-eac0d2258e69\" target=\"_top\" title=\"psysml:86a7eb05-d2a7-4b0b-add7-eac0d2258e69\" xlink:actuate=\"onRequest\" xlink:href=\"psysml:86a7eb05-d2a7-4b0b-add7-eac0d2258e69\" xlink:show=\"new\" xlink:title=\"psysml:86a7eb05-d2a7-4b0b-add7-eac0d2258e69\" xlink:type=\"simple\"><rect fill=\"#FFFFFF\" height=\"45.9375\" id=\"E9\" style=\"stroke: #383838; stroke-width: 1.5;\" width=\"79\" x=\"108.5\" y=\"41\"/><text fill=\"#000000\" font-family=\"sans-serif\" font-size=\"12\" font-style=\"italic\" lengthAdjust=\"spacingAndGlyphs\" textLength=\"77\" x=\"109.5\" y=\"57.1387\">«action def»</text><text fill=\"#000000\" font-family=\"sans-serif\" font-size=\"12\" lengthAdjust=\"spacingAndGlyphs\" textLength=\"8\" x=\"144\" y=\"71.1074\">B</text><line style=\"stroke: #383838; stroke-width: 1.5;\" x1=\"109.5\" x2=\"186.5\" y1=\"78.9375\" y2=\"78.9375\"/></a><!--MD5=[4672eba38e49728da53d11aeb285b987]\n",
       "reverse link E3 to E4--><a href=\"psysml:52dfc4ad-a62d-4432-a88b-57c0a80d621d\" target=\"_top\" title=\"psysml:52dfc4ad-a62d-4432-a88b-57c0a80d621d\" xlink:actuate=\"onRequest\" xlink:href=\"psysml:52dfc4ad-a62d-4432-a88b-57c0a80d621d\" xlink:show=\"new\" xlink:title=\"psysml:52dfc4ad-a62d-4432-a88b-57c0a80d621d\" xlink:type=\"simple\"><path d=\"M285.79,81.6 C239.27,100.79 163.05,132.25 115.85,151.73 \" fill=\"none\" id=\"E3&lt;-E4\" style=\"stroke: #383838; stroke-width: 1.0;\"/><polygon fill=\"#FFFFFF\" points=\"298.07,76.53,290.9979,75.1209,286.9771,81.107,294.0492,82.5161,298.07,76.53\" style=\"stroke: #383838; stroke-width: 1.0;\"/></a><!--MD5=[191cde3d490a3f6d7bb551fe3ddca469]\n",
       "reverse link E3 to E5--><a href=\"psysml:99d9f5a6-f2b4-4631-bd24-2952b87c2311\" target=\"_top\" title=\"psysml:99d9f5a6-f2b4-4631-bd24-2952b87c2311\" xlink:actuate=\"onRequest\" xlink:href=\"psysml:99d9f5a6-f2b4-4631-bd24-2952b87c2311\" xlink:show=\"new\" xlink:title=\"psysml:99d9f5a6-f2b4-4631-bd24-2952b87c2311\" xlink:type=\"simple\"><path d=\"M287.79,95.33 C266.97,111.86 241.66,131.95 222.74,146.98 \" fill=\"none\" id=\"E3&lt;-E5\" style=\"stroke: #383838; stroke-width: 1.0;\"/><polygon fill=\"#383838\" points=\"298.22,87.06,291.0341,87.6625,288.8265,94.5273,296.0123,93.9249,298.22,87.06\" style=\"stroke: #383838; stroke-width: 1.0;\"/></a><!--MD5=[1026b4b93417a13aa8999a858998add2]\n",
       "reverse link E3 to E6--><a href=\"psysml:14dfaf6d-db59-420e-a3c6-2cc6bbb5f023\" target=\"_top\" title=\"psysml:14dfaf6d-db59-420e-a3c6-2cc6bbb5f023\" xlink:actuate=\"onRequest\" xlink:href=\"psysml:14dfaf6d-db59-420e-a3c6-2cc6bbb5f023\" xlink:show=\"new\" xlink:title=\"psysml:14dfaf6d-db59-420e-a3c6-2cc6bbb5f023\" xlink:type=\"simple\"><path d=\"M326,100.44 C326,115.87 326,133.47 326,146.98 \" fill=\"none\" id=\"E3&lt;-E6\" style=\"stroke: #383838; stroke-width: 1.0;\"/><polygon fill=\"#FFFFFF\" points=\"326,87.06,322,93.06,326,99.06,330,93.06,326,87.06\" style=\"stroke: #383838; stroke-width: 1.0;\"/></a><!--MD5=[3403bfa781cc3da0fd423dbab6f01c63]\n",
       "reverse link E6 to E2--><a href=\"psysml:773d19c1-1d9b-4741-b5ba-dd5a31e080a3\" target=\"_top\" title=\"psysml:773d19c1-1d9b-4741-b5ba-dd5a31e080a3\" xlink:actuate=\"onRequest\" xlink:href=\"psysml:773d19c1-1d9b-4741-b5ba-dd5a31e080a3\" xlink:show=\"new\" xlink:title=\"psysml:773d19c1-1d9b-4741-b5ba-dd5a31e080a3\" xlink:type=\"simple\"><path d=\"M326,206.44 C326,221.87 326,239.47 326,252.98 \" fill=\"none\" id=\"E6&lt;-E2\" style=\"stroke: #383838; stroke-width: 1.0;\"/><polygon fill=\"#FFFFFF\" points=\"326,193.06,322,199.06,326,205.06,330,199.06,326,193.06\" style=\"stroke: #383838; stroke-width: 1.0;\"/></a><!--MD5=[85760999379eecfd2565a9fecdca67e4]\n",
       "reverse link E3 to E7--><a href=\"psysml:4bddb34b-31d0-4487-9835-f5e5c1238220\" target=\"_top\" title=\"psysml:4bddb34b-31d0-4487-9835-f5e5c1238220\" xlink:actuate=\"onRequest\" xlink:href=\"psysml:4bddb34b-31d0-4487-9835-f5e5c1238220\" xlink:show=\"new\" xlink:title=\"psysml:4bddb34b-31d0-4487-9835-f5e5c1238220\" xlink:type=\"simple\"><path d=\"M364.21,95.33 C385.03,111.86 410.34,131.95 429.26,146.98 \" fill=\"none\" id=\"E3&lt;-E7\" style=\"stroke: #383838; stroke-width: 1.0;\"/><polygon fill=\"#FFFFFF\" points=\"353.78,87.06,355.9877,93.9249,363.1735,94.5273,360.9659,87.6625,353.78,87.06\" style=\"stroke: #383838; stroke-width: 1.0;\"/></a><!--MD5=[4cb75b73ec3682b8f7f8edc9cc86126a]\n",
       "reverse link E3 to E8--><a href=\"psysml:010ce356-5f58-462c-8431-75351dc3ac74\" target=\"_top\" title=\"psysml:010ce356-5f58-462c-8431-75351dc3ac74\" xlink:actuate=\"onRequest\" xlink:href=\"psysml:010ce356-5f58-462c-8431-75351dc3ac74\" xlink:show=\"new\" xlink:title=\"psysml:010ce356-5f58-462c-8431-75351dc3ac74\" xlink:type=\"simple\"><path d=\"M365.63,80.73 C411.46,98.92 486.99,128.91 537.12,148.8 \" fill=\"none\" id=\"E3&lt;-E8\" style=\"stroke: #383838; stroke-width: 1.0;\"/><polygon fill=\"#383838\" points=\"353.54,75.93,357.6459,81.858,364.6971,80.348,360.5912,74.42,353.54,75.93\" style=\"stroke: #383838; stroke-width: 1.0;\"/></a><!--MD5=[1f23849251b97478edf99fc64190c339]\n",
       "@startuml\r\n",
       " skinparam monochrome true\r\n",
       "skinparam classbackgroundcolor white\r\n",
       "skinparam shadowing false\r\n",
       "skinparam wrapWidth 300\r\n",
       "hide circle\r\n",
       "\r\n",
       "package \"ActionTest\" as E1  [[psysml:4a739ce7-b110-4093-8b74-31ee982b1e00 ]]  {\r\n",
       "comp def \"S\" as E2  <<(T,blue) attribute def>> [[psysml:e3ea157b-753f-4ff0-b9f5-62b19f528d25 ]] {\r\n",
       "}\r\n",
       "comp usage \"a\" as E3  <<(T,blue) action>> [[psysml:fa9c3421-7722-4415-b8c7-0ea19e95762e ]] {\r\n",
       "}\r\n",
       "comp usage \"start: Action\" as E4  <<(T,blue) action>> [[psysml:a6d1daf9-13da-45ca-a864-cb134e7177b5 ]] {\r\n",
       "}\r\n",
       "comp usage \"m\" as E5  <<(T,blue) mergeNode>> [[psysml:60604585-cd78-42b0-92ae-265c1a2862a9 ]] {\r\n",
       "}\r\n",
       "comp usage \"<s>noname</s>\" as E6 << accept action>> [[psysml:1a7559c2-685c-4c08-a29a-09c3177cd704 ]] {\r\n",
       "}\r\n",
       "comp usage \"<s>noname</s>\" as E7 << send action>> [[psysml:57acc649-2893-4bd5-b427-585e4a8282d2 ]] {\r\n",
       "}\r\n",
       "comp usage \"<s>noname</s>\" as E8  <<(T,blue) decisionNode>> [[psysml:dcda7bbd-01a5-4374-8a97-a16c2625889c ]] {\r\n",
       "}\r\n",
       "comp def \"B\" as E9  <<(T,blue) action def>> [[psysml:86a7eb05-d2a7-4b0b-add7-eac0d2258e69 ]] {\r\n",
       "}\r\n",
       "E3 o- - E4 [[psysml:52dfc4ad-a62d-4432-a88b-57c0a80d621d ]] \r\n",
       "E3 *- - E5 [[psysml:99d9f5a6-f2b4-4631-bd24-2952b87c2311 ]] \r\n",
       "E3 o- - E6 [[psysml:14dfaf6d-db59-420e-a3c6-2cc6bbb5f023 ]] \r\n",
       "E6 o- - E2 [[psysml:773d19c1-1d9b-4741-b5ba-dd5a31e080a3 ]] \r\n",
       "E3 o- - E7 [[psysml:4bddb34b-31d0-4487-9835-f5e5c1238220 ]] \r\n",
       "E3 *- - E8 [[psysml:010ce356-5f58-462c-8431-75351dc3ac74 ]] \r\n",
       "}\r\n",
       "@enduml\r\n",
       "\n",
       "PlantUML version 1.2020.13(Sat Jun 13 12:26:38 UTC 2020)\n",
       "(EPL source distribution)\n",
       "Java Runtime: OpenJDK Runtime Environment\n",
       "JVM: OpenJDK 64-Bit Server VM\n",
       "Default Encoding: UTF-8\n",
       "Language: en\n",
       "Country: null\n",
       "--></g></svg>"
      ]
     },
     "execution_count": 7,
     "metadata": {},
     "output_type": "execute_result"
    }
   ],
   "source": [
    "%viz --style=\"COMPTREE\" --view=\"Sequence\" \"ActionTest\""
   ]
  },
  {
   "cell_type": "code",
   "execution_count": 8,
   "id": "b87958a1",
   "metadata": {
    "execution": {
     "iopub.execute_input": "2021-06-30T09:17:40.580949Z",
     "iopub.status.busy": "2021-06-30T09:17:40.577915Z",
     "iopub.status.idle": "2021-06-30T09:17:40.710829Z",
     "shell.execute_reply": "2021-06-30T09:17:40.710255Z"
    }
   },
   "outputs": [
    {
     "data": {
      "image/svg+xml": [
       "<?xml version=\"1.0\" encoding=\"UTF-8\" standalone=\"no\"?><svg xmlns=\"http://www.w3.org/2000/svg\" xmlns:xlink=\"http://www.w3.org/1999/xlink\" contentScriptType=\"application/ecmascript\" contentStyleType=\"text/css\" height=\"684px\" preserveAspectRatio=\"none\" style=\"width:518px;height:684px;\" version=\"1.1\" viewBox=\"0 0 518 684\" width=\"518px\" zoomAndPan=\"magnify\"><defs/><g><!--MD5=[fbc87193dbaf4d95561dea2c320d4a47]\n",
       "cluster E1--><a href=\"psysml:4a739ce7-b110-4093-8b74-31ee982b1e00\" target=\"_top\" title=\"psysml:4a739ce7-b110-4093-8b74-31ee982b1e00\" xlink:actuate=\"onRequest\" xlink:href=\"psysml:4a739ce7-b110-4093-8b74-31ee982b1e00\" xlink:show=\"new\" xlink:title=\"psysml:4a739ce7-b110-4093-8b74-31ee982b1e00\" xlink:type=\"simple\"><polygon fill=\"#FFFFFF\" points=\"16,6,107,6,114,28.2969,496,28.2969,496,672,16,672,16,6\" style=\"stroke: #000000; stroke-width: 1.5;\"/><line style=\"stroke: #000000; stroke-width: 1.5;\" x1=\"16\" x2=\"114\" y1=\"28.2969\" y2=\"28.2969\"/><text fill=\"#000000\" font-family=\"sans-serif\" font-size=\"14\" font-weight=\"bold\" lengthAdjust=\"spacingAndGlyphs\" textLength=\"85\" x=\"20\" y=\"20.9951\">ActionTest</text></a><!--MD5=[d5e69f78d87373223dbae638b30a9c99]\n",
       "cluster E3--><a href=\"psysml:fa9c3421-7722-4415-b8c7-0ea19e95762e\" target=\"_top\" title=\"psysml:fa9c3421-7722-4415-b8c7-0ea19e95762e\" xlink:actuate=\"onRequest\" xlink:href=\"psysml:fa9c3421-7722-4415-b8c7-0ea19e95762e\" xlink:show=\"new\" xlink:title=\"psysml:fa9c3421-7722-4415-b8c7-0ea19e95762e\" xlink:type=\"simple\"><rect fill=\"#FFFFFF\" height=\"599\" id=\"E3\" rx=\"10\" ry=\"10\" style=\"stroke: #383838; stroke-width: 1.5;\" width=\"209\" x=\"263\" y=\"49\"/><rect fill=\"#F8F8F8\" height=\"37.9375\" rx=\"10\" ry=\"10\" style=\"stroke: #F8F8F8; stroke-width: 1.5;\" width=\"209\" x=\"263\" y=\"49\"/><rect fill=\"#F8F8F8\" height=\"10\" style=\"stroke: #F8F8F8; stroke-width: 1.5;\" width=\"209\" x=\"263\" y=\"76.9375\"/><rect fill=\"none\" height=\"599\" id=\"E3\" rx=\"10\" ry=\"10\" style=\"stroke: #383838; stroke-width: 1.5;\" width=\"209\" x=\"263\" y=\"49\"/><text fill=\"#000000\" font-family=\"sans-serif\" font-size=\"12\" font-style=\"italic\" lengthAdjust=\"spacingAndGlyphs\" textLength=\"53\" x=\"341\" y=\"65.1387\">«action»</text><text fill=\"#000000\" font-family=\"sans-serif\" font-size=\"12\" lengthAdjust=\"spacingAndGlyphs\" textLength=\"8\" x=\"363.5\" y=\"79.1074\">a</text><line style=\"stroke: #383838; stroke-width: 1.0;\" x1=\"263\" x2=\"472\" y1=\"86.9375\" y2=\"86.9375\"/></a><!--MD5=[b4997ac47864f28c2f74865a473b2911]\n",
       "class E2--><a href=\"psysml:e3ea157b-753f-4ff0-b9f5-62b19f528d25\" target=\"_top\" title=\"psysml:e3ea157b-753f-4ff0-b9f5-62b19f528d25\" xlink:actuate=\"onRequest\" xlink:href=\"psysml:e3ea157b-753f-4ff0-b9f5-62b19f528d25\" xlink:show=\"new\" xlink:title=\"psysml:e3ea157b-753f-4ff0-b9f5-62b19f528d25\" xlink:type=\"simple\"><rect fill=\"#FFFFFF\" height=\"45.9375\" id=\"E2\" style=\"stroke: #383838; stroke-width: 1.5;\" width=\"95\" x=\"151.5\" y=\"87\"/><text fill=\"#000000\" font-family=\"sans-serif\" font-size=\"12\" font-style=\"italic\" lengthAdjust=\"spacingAndGlyphs\" textLength=\"93\" x=\"152.5\" y=\"103.1387\">«attribute def»</text><text fill=\"#000000\" font-family=\"sans-serif\" font-size=\"12\" lengthAdjust=\"spacingAndGlyphs\" textLength=\"8\" x=\"195\" y=\"117.1074\">S</text><line style=\"stroke: #383838; stroke-width: 1.5;\" x1=\"152.5\" x2=\"245.5\" y1=\"124.9375\" y2=\"124.9375\"/></a><polygon fill=\"#F8F8F8\" points=\"420,194,432,206,420,218,408,206,420,194\" style=\"stroke: #383838; stroke-width: 1.5;\"/><!--MD5=[21dd76c19d33815960c0e92fef8f0eef]\n",
       "entity E5--><a href=\"psysml:1a7559c2-685c-4c08-a29a-09c3177cd704\" target=\"_top\" title=\"psysml:1a7559c2-685c-4c08-a29a-09c3177cd704\" xlink:actuate=\"onRequest\" xlink:href=\"psysml:1a7559c2-685c-4c08-a29a-09c3177cd704\" xlink:show=\"new\" xlink:title=\"psysml:1a7559c2-685c-4c08-a29a-09c3177cd704\" xlink:type=\"simple\"><polygon fill=\"#F8F8F8\" points=\"279,279,279,333.5938,419,333.5938,399,306.2969,419,279\" style=\"stroke: #000000; stroke-width: 1.5;\"/><text fill=\"#000000\" font-family=\"sans-serif\" font-size=\"14\" font-style=\"italic\" lengthAdjust=\"spacingAndGlyphs\" textLength=\"111\" x=\"286\" y=\"301.9951\">«accept action»</text><text fill=\"#000000\" font-family=\"sans-serif\" font-size=\"14\" lengthAdjust=\"spacingAndGlyphs\" textLength=\"9\" x=\"337\" y=\"319.292\">S</text></a><!--MD5=[24d87cdf3002d433f401b2a2aa9f9f65]\n",
       "entity E6--><a href=\"psysml:57acc649-2893-4bd5-b427-585e4a8282d2\" target=\"_top\" title=\"psysml:57acc649-2893-4bd5-b427-585e4a8282d2\" xlink:actuate=\"onRequest\" xlink:href=\"psysml:57acc649-2893-4bd5-b427-585e4a8282d2\" xlink:show=\"new\" xlink:title=\"psysml:57acc649-2893-4bd5-b427-585e4a8282d2\" xlink:type=\"simple\"><polygon fill=\"#F8F8F8\" points=\"279,411,279,465.5938,387,465.5938,407,438.2969,387,411\" style=\"stroke: #000000; stroke-width: 1.5;\"/><text fill=\"#000000\" font-family=\"sans-serif\" font-size=\"14\" font-style=\"italic\" lengthAdjust=\"spacingAndGlyphs\" textLength=\"99\" x=\"286\" y=\"433.9951\">«send action»</text><text fill=\"#000000\" font-family=\"sans-serif\" font-size=\"14\" lengthAdjust=\"spacingAndGlyphs\" textLength=\"65\" x=\"303\" y=\"451.292\">S() to  B()</text></a><polygon fill=\"#F8F8F8\" points=\"418,527,430,539,418,551,406,539,418,527\" style=\"stroke: #383838; stroke-width: 1.5;\"/><ellipse cx=\"420\" cy=\"110\" fill=\"#000000\" rx=\"10\" ry=\"10\" style=\"stroke: none; stroke-width: 1.0;\"/><ellipse cx=\"418\" cy=\"622\" fill=\"none\" rx=\"10\" ry=\"10\" style=\"stroke: #000000; stroke-width: 1.0;\"/><ellipse cx=\"418.5\" cy=\"622.5\" fill=\"#000000\" rx=\"6\" ry=\"6\" style=\"stroke: none; stroke-width: 1.0;\"/><g id=\"E1.E8\"><a href=\"psysml:86a7eb05-d2a7-4b0b-add7-eac0d2258e69\" target=\"_top\" title=\"psysml:86a7eb05-d2a7-4b0b-add7-eac0d2258e69\" xlink:actuate=\"onRequest\" xlink:href=\"psysml:86a7eb05-d2a7-4b0b-add7-eac0d2258e69\" xlink:show=\"new\" xlink:title=\"psysml:86a7eb05-d2a7-4b0b-add7-eac0d2258e69\" xlink:type=\"simple\"><rect fill=\"#FFFFFF\" height=\"42.9375\" id=\"E8\" style=\"stroke: #383838; stroke-width: 1.5;\" width=\"84\" x=\"32\" y=\"88.5\"/><rect fill=\"#F8F8F8\" height=\"37.9375\" style=\"stroke: #383838; stroke-width: 1.5;\" width=\"84\" x=\"32\" y=\"88.5\"/><text fill=\"#000000\" font-family=\"sans-serif\" font-size=\"12\" font-style=\"italic\" lengthAdjust=\"spacingAndGlyphs\" textLength=\"77\" x=\"35.5\" y=\"104.6387\">«action def»</text><text fill=\"#000000\" font-family=\"sans-serif\" font-size=\"12\" lengthAdjust=\"spacingAndGlyphs\" textLength=\"8\" x=\"70\" y=\"118.6074\">B</text></a></g><!--MD5=[f47e10efcf9a6752d55dae986d790ed9]\n",
       "link *start*E3 to E4--><a href=\"psysml:3a6c3978-61f5-46d3-ad26-c963b1b56f5b\" target=\"_top\" title=\"psysml:3a6c3978-61f5-46d3-ad26-c963b1b56f5b\" xlink:actuate=\"onRequest\" xlink:href=\"psysml:3a6c3978-61f5-46d3-ad26-c963b1b56f5b\" xlink:show=\"new\" xlink:title=\"psysml:3a6c3978-61f5-46d3-ad26-c963b1b56f5b\" xlink:type=\"simple\"><path d=\"M420,120.01 C420,135.81 420,168.69 420,188.61 \" fill=\"none\" id=\"*start*E3-&gt;E4\" style=\"stroke: #383838; stroke-width: 1.0;\"/><polygon fill=\"#383838\" points=\"420,193.85,424,184.85,420,188.85,416,184.85,420,193.85\" style=\"stroke: #383838; stroke-width: 1.0;\"/></a><!--MD5=[d19f2eb34364d71b67042106d92f540b]\n",
       "link E7 to *end*E3--><a href=\"psysml:36daa16f-4b44-48c5-bcb7-7a401bcea152\" target=\"_top\" title=\"psysml:36daa16f-4b44-48c5-bcb7-7a401bcea152\" xlink:actuate=\"onRequest\" xlink:href=\"psysml:36daa16f-4b44-48c5-bcb7-7a401bcea152\" xlink:show=\"new\" xlink:title=\"psysml:36daa16f-4b44-48c5-bcb7-7a401bcea152\" xlink:type=\"simple\"><path d=\"M418,551.26 C418,565.66 418,590.63 418,606.46 \" fill=\"none\" id=\"E7-&gt;*end*E3\" style=\"stroke: #383838; stroke-width: 1.0;\"/><polygon fill=\"#383838\" points=\"418,611.84,422,602.84,418,606.84,414,602.84,418,611.84\" style=\"stroke: #383838; stroke-width: 1.0;\"/></a><!--MD5=[1b7591eae5389033d8d09a9d6721a717]\n",
       "link E4 to E5--><a href=\"psysml:c56e5692-64fd-4b0b-a986-d866765d0210\" target=\"_top\" title=\"psysml:c56e5692-64fd-4b0b-a986-d866765d0210\" xlink:actuate=\"onRequest\" xlink:href=\"psysml:c56e5692-64fd-4b0b-a986-d866765d0210\" xlink:show=\"new\" xlink:title=\"psysml:c56e5692-64fd-4b0b-a986-d866765d0210\" xlink:type=\"simple\"><path d=\"M415.34,213.46 C406.55,225.66 386.99,252.8 371.37,274.46 \" fill=\"none\" id=\"E4-&gt;E5\" style=\"stroke: #383838; stroke-width: 1.0;\"/><polygon fill=\"#383838\" points=\"368.31,278.71,376.8093,273.7339,371.227,274.6491,370.3119,269.0667,368.31,278.71\" style=\"stroke: #383838; stroke-width: 1.0;\"/></a><!--MD5=[9120cf2e5df3bff93db8f754bbbc09b4]\n",
       "link E5 to E6--><a href=\"psysml:363bb7e0-7ec1-401c-827a-8a23a32c7946\" target=\"_top\" title=\"psysml:363bb7e0-7ec1-401c-827a-8a23a32c7946\" xlink:actuate=\"onRequest\" xlink:href=\"psysml:363bb7e0-7ec1-401c-827a-8a23a32c7946\" xlink:show=\"new\" xlink:title=\"psysml:363bb7e0-7ec1-401c-827a-8a23a32c7946\" xlink:type=\"simple\"><path d=\"M347.77,334.12 C346.81,354.89 345.48,383.8 344.46,405.77 \" fill=\"none\" id=\"E5-&gt;E6\" style=\"stroke: #383838; stroke-width: 1.0;\"/><polygon fill=\"#383838\" points=\"344.23,410.91,348.6368,402.1021,344.4583,405.9152,340.6452,401.7367,344.23,410.91\" style=\"stroke: #383838; stroke-width: 1.0;\"/></a><!--MD5=[02c70b7c851c11e3980e4e90450dc5dd]\n",
       "link E6 to E7--><a href=\"psysml:84082b66-a23a-4779-a592-98d74f10d8d7\" target=\"_top\" title=\"psysml:84082b66-a23a-4779-a592-98d74f10d8d7\" xlink:actuate=\"onRequest\" xlink:href=\"psysml:84082b66-a23a-4779-a592-98d74f10d8d7\" xlink:show=\"new\" xlink:title=\"psysml:84082b66-a23a-4779-a592-98d74f10d8d7\" xlink:type=\"simple\"><path d=\"M363.3,466.16 C378.71,486.4 399.07,513.14 410.09,527.61 \" fill=\"none\" id=\"E6-&gt;E7\" style=\"stroke: #383838; stroke-width: 1.0;\"/><polygon fill=\"#383838\" points=\"413.2,531.69,410.9398,522.104,410.1749,527.7089,404.57,526.9441,413.2,531.69\" style=\"stroke: #383838; stroke-width: 1.0;\"/></a><!--MD5=[6bdd27f9905911a7e892a3dc65cf6b7c]\n",
       "link E7 to E4--><a href=\"psysml:49753952-5c4c-4ef6-ad04-e80bfe7cb929\" target=\"_top\" title=\"psysml:49753952-5c4c-4ef6-ad04-e80bfe7cb929\" xlink:actuate=\"onRequest\" xlink:href=\"psysml:49753952-5c4c-4ef6-ad04-e80bfe7cb929\" xlink:show=\"new\" xlink:title=\"psysml:49753952-5c4c-4ef6-ad04-e80bfe7cb929\" xlink:type=\"simple\"><path d=\"M419.98,528.56 C426.8,494.71 448.32,376.18 437,279 C434.59,258.32 428.42,234.96 424.21,220.61 \" fill=\"none\" id=\"E7-&gt;E4\" style=\"stroke: #383838; stroke-width: 1.0;\"/><polygon fill=\"#383838\" points=\"422.76,215.75,421.4935,225.5171,424.1863,220.5423,429.1611,223.2351,422.76,215.75\" style=\"stroke: #383838; stroke-width: 1.0;\"/><text fill=\"#000000\" font-family=\"sans-serif\" font-size=\"13\" lengthAdjust=\"spacingAndGlyphs\" textLength=\"36\" x=\"440\" y=\"377.0669\">[true]</text></a><!--MD5=[8e41860c956f39e8a8ea83d8c0cb6078]\n",
       "@startuml\r\n",
       " skinparam monochrome true\r\n",
       "skinparam classbackgroundcolor white\r\n",
       "skinparam shadowing false\r\n",
       "skinparam wrapWidth 300\r\n",
       "hide circle\r\n",
       "\r\n",
       "package \"ActionTest\" as E1  [[psysml:4a739ce7-b110-4093-8b74-31ee982b1e00 ]]  {\r\n",
       "comp def \"S\" as E2  <<(T,blue) attribute def>> [[psysml:e3ea157b-753f-4ff0-b9f5-62b19f528d25 ]] {\r\n",
       "}\r\n",
       "rec usage \"a\" as E3  <<(T,blue) action>> [[psysml:fa9c3421-7722-4415-b8c7-0ea19e95762e ]] {\r\n",
       "choice \"m\" as E4  [[psysml:60604585-cd78-42b0-92ae-265c1a2862a9 ]] \r\n",
       "accept \" S\" as E5 << accept action>> [[psysml:1a7559c2-685c-4c08-a29a-09c3177cd704 ]] \r\n",
       "send \" S() to  B()\" as E6 << send action>> [[psysml:57acc649-2893-4bd5-b427-585e4a8282d2 ]] \r\n",
       "choice \"noname\" as E7  [[psysml:dcda7bbd-01a5-4374-8a97-a16c2625889c ]] \r\n",
       "[*] - -> E4 [[psysml:3a6c3978-61f5-46d3-ad26-c963b1b56f5b ]] \r\n",
       "E7  - -> [*] [[psysml:36daa16f-4b44-48c5-bcb7-7a401bcea152 ]] \r\n",
       "}\r\n",
       "\r\n",
       "rec def \"B\" as E8  <<(T,blue) action def>> [[psysml:86a7eb05-d2a7-4b0b-add7-eac0d2258e69 ]] {\r\n",
       "}\r\n",
       "\r\n",
       "E4 - -> E5 [[psysml:c56e5692-64fd-4b0b-a986-d866765d0210 ]] \r\n",
       "E5 - -> E6 [[psysml:363bb7e0-7ec1-401c-827a-8a23a32c7946 ]] \r\n",
       "E6 - -> E7 [[psysml:84082b66-a23a-4779-a592-98d74f10d8d7 ]] \r\n",
       "E7  - -> E4 [[psysml:49753952-5c4c-4ef6-ad04-e80bfe7cb929 ]] : [true]\r\n",
       "}\r\n",
       "@enduml\r\n",
       "\n",
       "PlantUML version 1.2020.13(Sat Jun 13 12:26:38 UTC 2020)\n",
       "(EPL source distribution)\n",
       "Java Runtime: OpenJDK Runtime Environment\n",
       "JVM: OpenJDK 64-Bit Server VM\n",
       "Default Encoding: UTF-8\n",
       "Language: en\n",
       "Country: null\n",
       "--></g></svg>"
      ]
     },
     "execution_count": 8,
     "metadata": {},
     "output_type": "execute_result"
    }
   ],
   "source": [
    "%viz --style=\"COMPTREE\" --view=\"MIXED\" \"ActionTest\""
   ]
  },
  {
   "cell_type": "code",
   "execution_count": 9,
   "id": "a5d1f487",
   "metadata": {
    "execution": {
     "iopub.execute_input": "2021-06-30T09:17:40.764842Z",
     "iopub.status.busy": "2021-06-30T09:17:40.764206Z",
     "iopub.status.idle": "2021-06-30T09:17:40.858888Z",
     "shell.execute_reply": "2021-06-30T09:17:40.856812Z"
    }
   },
   "outputs": [
    {
     "data": {
      "image/svg+xml": [
       "<?xml version=\"1.0\" encoding=\"UTF-8\" standalone=\"no\"?><svg xmlns=\"http://www.w3.org/2000/svg\" xmlns:xlink=\"http://www.w3.org/1999/xlink\" contentScriptType=\"application/ecmascript\" contentStyleType=\"text/css\" height=\"684px\" preserveAspectRatio=\"none\" style=\"width:518px;height:684px;\" version=\"1.1\" viewBox=\"0 0 518 684\" width=\"518px\" zoomAndPan=\"magnify\"><defs/><g><!--MD5=[fbc87193dbaf4d95561dea2c320d4a47]\n",
       "cluster E1--><a href=\"psysml:4a739ce7-b110-4093-8b74-31ee982b1e00\" target=\"_top\" title=\"psysml:4a739ce7-b110-4093-8b74-31ee982b1e00\" xlink:actuate=\"onRequest\" xlink:href=\"psysml:4a739ce7-b110-4093-8b74-31ee982b1e00\" xlink:show=\"new\" xlink:title=\"psysml:4a739ce7-b110-4093-8b74-31ee982b1e00\" xlink:type=\"simple\"><polygon fill=\"#FFFFFF\" points=\"16,6,107,6,114,28.2969,496,28.2969,496,672,16,672,16,6\" style=\"stroke: #000000; stroke-width: 1.5;\"/><line style=\"stroke: #000000; stroke-width: 1.5;\" x1=\"16\" x2=\"114\" y1=\"28.2969\" y2=\"28.2969\"/><text fill=\"#000000\" font-family=\"sans-serif\" font-size=\"14\" font-weight=\"bold\" lengthAdjust=\"spacingAndGlyphs\" textLength=\"85\" x=\"20\" y=\"20.9951\">ActionTest</text></a><!--MD5=[d5e69f78d87373223dbae638b30a9c99]\n",
       "cluster E3--><a href=\"psysml:fa9c3421-7722-4415-b8c7-0ea19e95762e\" target=\"_top\" title=\"psysml:fa9c3421-7722-4415-b8c7-0ea19e95762e\" xlink:actuate=\"onRequest\" xlink:href=\"psysml:fa9c3421-7722-4415-b8c7-0ea19e95762e\" xlink:show=\"new\" xlink:title=\"psysml:fa9c3421-7722-4415-b8c7-0ea19e95762e\" xlink:type=\"simple\"><rect fill=\"#FFFFFF\" height=\"599\" id=\"E3\" rx=\"10\" ry=\"10\" style=\"stroke: #383838; stroke-width: 1.5;\" width=\"209\" x=\"263\" y=\"49\"/><rect fill=\"#F8F8F8\" height=\"37.9375\" rx=\"10\" ry=\"10\" style=\"stroke: #F8F8F8; stroke-width: 1.5;\" width=\"209\" x=\"263\" y=\"49\"/><rect fill=\"#F8F8F8\" height=\"10\" style=\"stroke: #F8F8F8; stroke-width: 1.5;\" width=\"209\" x=\"263\" y=\"76.9375\"/><rect fill=\"none\" height=\"599\" id=\"E3\" rx=\"10\" ry=\"10\" style=\"stroke: #383838; stroke-width: 1.5;\" width=\"209\" x=\"263\" y=\"49\"/><text fill=\"#000000\" font-family=\"sans-serif\" font-size=\"12\" font-style=\"italic\" lengthAdjust=\"spacingAndGlyphs\" textLength=\"53\" x=\"341\" y=\"65.1387\">«action»</text><text fill=\"#000000\" font-family=\"sans-serif\" font-size=\"12\" lengthAdjust=\"spacingAndGlyphs\" textLength=\"8\" x=\"363.5\" y=\"79.1074\">a</text><line style=\"stroke: #383838; stroke-width: 1.0;\" x1=\"263\" x2=\"472\" y1=\"86.9375\" y2=\"86.9375\"/></a><!--MD5=[b4997ac47864f28c2f74865a473b2911]\n",
       "class E2--><a href=\"psysml:e3ea157b-753f-4ff0-b9f5-62b19f528d25\" target=\"_top\" title=\"psysml:e3ea157b-753f-4ff0-b9f5-62b19f528d25\" xlink:actuate=\"onRequest\" xlink:href=\"psysml:e3ea157b-753f-4ff0-b9f5-62b19f528d25\" xlink:show=\"new\" xlink:title=\"psysml:e3ea157b-753f-4ff0-b9f5-62b19f528d25\" xlink:type=\"simple\"><rect fill=\"#FFFFFF\" height=\"45.9375\" id=\"E2\" style=\"stroke: #383838; stroke-width: 1.5;\" width=\"95\" x=\"151.5\" y=\"87\"/><text fill=\"#000000\" font-family=\"sans-serif\" font-size=\"12\" font-style=\"italic\" lengthAdjust=\"spacingAndGlyphs\" textLength=\"93\" x=\"152.5\" y=\"103.1387\">«attribute def»</text><text fill=\"#000000\" font-family=\"sans-serif\" font-size=\"12\" lengthAdjust=\"spacingAndGlyphs\" textLength=\"8\" x=\"195\" y=\"117.1074\">S</text><line style=\"stroke: #383838; stroke-width: 1.5;\" x1=\"152.5\" x2=\"245.5\" y1=\"124.9375\" y2=\"124.9375\"/></a><polygon fill=\"#F8F8F8\" points=\"420,194,432,206,420,218,408,206,420,194\" style=\"stroke: #383838; stroke-width: 1.5;\"/><!--MD5=[21dd76c19d33815960c0e92fef8f0eef]\n",
       "entity E5--><a href=\"psysml:1a7559c2-685c-4c08-a29a-09c3177cd704\" target=\"_top\" title=\"psysml:1a7559c2-685c-4c08-a29a-09c3177cd704\" xlink:actuate=\"onRequest\" xlink:href=\"psysml:1a7559c2-685c-4c08-a29a-09c3177cd704\" xlink:show=\"new\" xlink:title=\"psysml:1a7559c2-685c-4c08-a29a-09c3177cd704\" xlink:type=\"simple\"><polygon fill=\"#F8F8F8\" points=\"279,279,279,333.5938,419,333.5938,399,306.2969,419,279\" style=\"stroke: #000000; stroke-width: 1.5;\"/><text fill=\"#000000\" font-family=\"sans-serif\" font-size=\"14\" font-style=\"italic\" lengthAdjust=\"spacingAndGlyphs\" textLength=\"111\" x=\"286\" y=\"301.9951\">«accept action»</text><text fill=\"#000000\" font-family=\"sans-serif\" font-size=\"14\" lengthAdjust=\"spacingAndGlyphs\" textLength=\"9\" x=\"337\" y=\"319.292\">S</text></a><!--MD5=[24d87cdf3002d433f401b2a2aa9f9f65]\n",
       "entity E6--><a href=\"psysml:57acc649-2893-4bd5-b427-585e4a8282d2\" target=\"_top\" title=\"psysml:57acc649-2893-4bd5-b427-585e4a8282d2\" xlink:actuate=\"onRequest\" xlink:href=\"psysml:57acc649-2893-4bd5-b427-585e4a8282d2\" xlink:show=\"new\" xlink:title=\"psysml:57acc649-2893-4bd5-b427-585e4a8282d2\" xlink:type=\"simple\"><polygon fill=\"#F8F8F8\" points=\"279,411,279,465.5938,387,465.5938,407,438.2969,387,411\" style=\"stroke: #000000; stroke-width: 1.5;\"/><text fill=\"#000000\" font-family=\"sans-serif\" font-size=\"14\" font-style=\"italic\" lengthAdjust=\"spacingAndGlyphs\" textLength=\"99\" x=\"286\" y=\"433.9951\">«send action»</text><text fill=\"#000000\" font-family=\"sans-serif\" font-size=\"14\" lengthAdjust=\"spacingAndGlyphs\" textLength=\"65\" x=\"303\" y=\"451.292\">S() to  B()</text></a><polygon fill=\"#F8F8F8\" points=\"418,527,430,539,418,551,406,539,418,527\" style=\"stroke: #383838; stroke-width: 1.5;\"/><ellipse cx=\"420\" cy=\"110\" fill=\"#000000\" rx=\"10\" ry=\"10\" style=\"stroke: none; stroke-width: 1.0;\"/><ellipse cx=\"418\" cy=\"622\" fill=\"none\" rx=\"10\" ry=\"10\" style=\"stroke: #000000; stroke-width: 1.0;\"/><ellipse cx=\"418.5\" cy=\"622.5\" fill=\"#000000\" rx=\"6\" ry=\"6\" style=\"stroke: none; stroke-width: 1.0;\"/><g id=\"E1.E8\"><a href=\"psysml:86a7eb05-d2a7-4b0b-add7-eac0d2258e69\" target=\"_top\" title=\"psysml:86a7eb05-d2a7-4b0b-add7-eac0d2258e69\" xlink:actuate=\"onRequest\" xlink:href=\"psysml:86a7eb05-d2a7-4b0b-add7-eac0d2258e69\" xlink:show=\"new\" xlink:title=\"psysml:86a7eb05-d2a7-4b0b-add7-eac0d2258e69\" xlink:type=\"simple\"><rect fill=\"#FFFFFF\" height=\"42.9375\" id=\"E8\" style=\"stroke: #383838; stroke-width: 1.5;\" width=\"84\" x=\"32\" y=\"88.5\"/><rect fill=\"#F8F8F8\" height=\"37.9375\" style=\"stroke: #383838; stroke-width: 1.5;\" width=\"84\" x=\"32\" y=\"88.5\"/><text fill=\"#000000\" font-family=\"sans-serif\" font-size=\"12\" font-style=\"italic\" lengthAdjust=\"spacingAndGlyphs\" textLength=\"77\" x=\"35.5\" y=\"104.6387\">«action def»</text><text fill=\"#000000\" font-family=\"sans-serif\" font-size=\"12\" lengthAdjust=\"spacingAndGlyphs\" textLength=\"8\" x=\"70\" y=\"118.6074\">B</text></a></g><!--MD5=[f47e10efcf9a6752d55dae986d790ed9]\n",
       "link *start*E3 to E4--><a href=\"psysml:3a6c3978-61f5-46d3-ad26-c963b1b56f5b\" target=\"_top\" title=\"psysml:3a6c3978-61f5-46d3-ad26-c963b1b56f5b\" xlink:actuate=\"onRequest\" xlink:href=\"psysml:3a6c3978-61f5-46d3-ad26-c963b1b56f5b\" xlink:show=\"new\" xlink:title=\"psysml:3a6c3978-61f5-46d3-ad26-c963b1b56f5b\" xlink:type=\"simple\"><path d=\"M420,120.01 C420,135.81 420,168.69 420,188.61 \" fill=\"none\" id=\"*start*E3-&gt;E4\" style=\"stroke: #383838; stroke-width: 1.0;\"/><polygon fill=\"#383838\" points=\"420,193.85,424,184.85,420,188.85,416,184.85,420,193.85\" style=\"stroke: #383838; stroke-width: 1.0;\"/></a><!--MD5=[d19f2eb34364d71b67042106d92f540b]\n",
       "link E7 to *end*E3--><a href=\"psysml:36daa16f-4b44-48c5-bcb7-7a401bcea152\" target=\"_top\" title=\"psysml:36daa16f-4b44-48c5-bcb7-7a401bcea152\" xlink:actuate=\"onRequest\" xlink:href=\"psysml:36daa16f-4b44-48c5-bcb7-7a401bcea152\" xlink:show=\"new\" xlink:title=\"psysml:36daa16f-4b44-48c5-bcb7-7a401bcea152\" xlink:type=\"simple\"><path d=\"M418,551.26 C418,565.66 418,590.63 418,606.46 \" fill=\"none\" id=\"E7-&gt;*end*E3\" style=\"stroke: #383838; stroke-width: 1.0;\"/><polygon fill=\"#383838\" points=\"418,611.84,422,602.84,418,606.84,414,602.84,418,611.84\" style=\"stroke: #383838; stroke-width: 1.0;\"/></a><!--MD5=[1b7591eae5389033d8d09a9d6721a717]\n",
       "link E4 to E5--><a href=\"psysml:c56e5692-64fd-4b0b-a986-d866765d0210\" target=\"_top\" title=\"psysml:c56e5692-64fd-4b0b-a986-d866765d0210\" xlink:actuate=\"onRequest\" xlink:href=\"psysml:c56e5692-64fd-4b0b-a986-d866765d0210\" xlink:show=\"new\" xlink:title=\"psysml:c56e5692-64fd-4b0b-a986-d866765d0210\" xlink:type=\"simple\"><path d=\"M415.34,213.46 C406.55,225.66 386.99,252.8 371.37,274.46 \" fill=\"none\" id=\"E4-&gt;E5\" style=\"stroke: #383838; stroke-width: 1.0;\"/><polygon fill=\"#383838\" points=\"368.31,278.71,376.8093,273.7339,371.227,274.6491,370.3119,269.0667,368.31,278.71\" style=\"stroke: #383838; stroke-width: 1.0;\"/></a><!--MD5=[9120cf2e5df3bff93db8f754bbbc09b4]\n",
       "link E5 to E6--><a href=\"psysml:363bb7e0-7ec1-401c-827a-8a23a32c7946\" target=\"_top\" title=\"psysml:363bb7e0-7ec1-401c-827a-8a23a32c7946\" xlink:actuate=\"onRequest\" xlink:href=\"psysml:363bb7e0-7ec1-401c-827a-8a23a32c7946\" xlink:show=\"new\" xlink:title=\"psysml:363bb7e0-7ec1-401c-827a-8a23a32c7946\" xlink:type=\"simple\"><path d=\"M347.77,334.12 C346.81,354.89 345.48,383.8 344.46,405.77 \" fill=\"none\" id=\"E5-&gt;E6\" style=\"stroke: #383838; stroke-width: 1.0;\"/><polygon fill=\"#383838\" points=\"344.23,410.91,348.6368,402.1021,344.4583,405.9152,340.6452,401.7367,344.23,410.91\" style=\"stroke: #383838; stroke-width: 1.0;\"/></a><!--MD5=[02c70b7c851c11e3980e4e90450dc5dd]\n",
       "link E6 to E7--><a href=\"psysml:84082b66-a23a-4779-a592-98d74f10d8d7\" target=\"_top\" title=\"psysml:84082b66-a23a-4779-a592-98d74f10d8d7\" xlink:actuate=\"onRequest\" xlink:href=\"psysml:84082b66-a23a-4779-a592-98d74f10d8d7\" xlink:show=\"new\" xlink:title=\"psysml:84082b66-a23a-4779-a592-98d74f10d8d7\" xlink:type=\"simple\"><path d=\"M363.3,466.16 C378.71,486.4 399.07,513.14 410.09,527.61 \" fill=\"none\" id=\"E6-&gt;E7\" style=\"stroke: #383838; stroke-width: 1.0;\"/><polygon fill=\"#383838\" points=\"413.2,531.69,410.9398,522.104,410.1749,527.7089,404.57,526.9441,413.2,531.69\" style=\"stroke: #383838; stroke-width: 1.0;\"/></a><!--MD5=[6bdd27f9905911a7e892a3dc65cf6b7c]\n",
       "link E7 to E4--><a href=\"psysml:49753952-5c4c-4ef6-ad04-e80bfe7cb929\" target=\"_top\" title=\"psysml:49753952-5c4c-4ef6-ad04-e80bfe7cb929\" xlink:actuate=\"onRequest\" xlink:href=\"psysml:49753952-5c4c-4ef6-ad04-e80bfe7cb929\" xlink:show=\"new\" xlink:title=\"psysml:49753952-5c4c-4ef6-ad04-e80bfe7cb929\" xlink:type=\"simple\"><path d=\"M419,527.68 C420.94,507.78 425,466 425,466 C425,466 437,334 437,334 C437,334 437,279 437,279 C437,279 428.27,242.03 423.32,221.07 \" fill=\"none\" id=\"E7-&gt;E4\" style=\"stroke: #383838; stroke-width: 1.0;\"/><polygon fill=\"#383838\" points=\"422.15,216.12,420.3382,225.8008,423.3055,220.9846,428.1217,223.9519,422.15,216.12\" style=\"stroke: #383838; stroke-width: 1.0;\"/><text fill=\"#000000\" font-family=\"sans-serif\" font-size=\"13\" lengthAdjust=\"spacingAndGlyphs\" textLength=\"36\" x=\"435\" y=\"377.0669\">[true]</text></a><!--MD5=[3e1a890f063eee40f1a5170194a91d47]\n",
       "@startuml\r\n",
       "skinparam linetype polyline\r\n",
       "skinparam monochrome true\r\n",
       "skinparam classbackgroundcolor white\r\n",
       "skinparam shadowing false\r\n",
       "skinparam wrapWidth 300\r\n",
       "hide circle\r\n",
       "\r\n",
       "package \"ActionTest\" as E1  [[psysml:4a739ce7-b110-4093-8b74-31ee982b1e00 ]]  {\r\n",
       "comp def \"S\" as E2  <<(T,blue) attribute def>> [[psysml:e3ea157b-753f-4ff0-b9f5-62b19f528d25 ]] {\r\n",
       "}\r\n",
       "rec usage \"a\" as E3  <<(T,blue) action>> [[psysml:fa9c3421-7722-4415-b8c7-0ea19e95762e ]] {\r\n",
       "choice \"m\" as E4  [[psysml:60604585-cd78-42b0-92ae-265c1a2862a9 ]] \r\n",
       "accept \" S\" as E5 << accept action>> [[psysml:1a7559c2-685c-4c08-a29a-09c3177cd704 ]] \r\n",
       "send \" S() to  B()\" as E6 << send action>> [[psysml:57acc649-2893-4bd5-b427-585e4a8282d2 ]] \r\n",
       "choice \"noname\" as E7  [[psysml:dcda7bbd-01a5-4374-8a97-a16c2625889c ]] \r\n",
       "[*] - -> E4 [[psysml:3a6c3978-61f5-46d3-ad26-c963b1b56f5b ]] \r\n",
       "E7  - -> [*] [[psysml:36daa16f-4b44-48c5-bcb7-7a401bcea152 ]] \r\n",
       "}\r\n",
       "\r\n",
       "rec def \"B\" as E8  <<(T,blue) action def>> [[psysml:86a7eb05-d2a7-4b0b-add7-eac0d2258e69 ]] {\r\n",
       "}\r\n",
       "\r\n",
       "E4 - -> E5 [[psysml:c56e5692-64fd-4b0b-a986-d866765d0210 ]] \r\n",
       "E5 - -> E6 [[psysml:363bb7e0-7ec1-401c-827a-8a23a32c7946 ]] \r\n",
       "E6 - -> E7 [[psysml:84082b66-a23a-4779-a592-98d74f10d8d7 ]] \r\n",
       "E7  - -> E4 [[psysml:49753952-5c4c-4ef6-ad04-e80bfe7cb929 ]] : [true]\r\n",
       "}\r\n",
       "@enduml\r\n",
       "\n",
       "PlantUML version 1.2020.13(Sat Jun 13 12:26:38 UTC 2020)\n",
       "(EPL source distribution)\n",
       "Java Runtime: OpenJDK Runtime Environment\n",
       "JVM: OpenJDK 64-Bit Server VM\n",
       "Default Encoding: UTF-8\n",
       "Language: en\n",
       "Country: null\n",
       "--></g></svg>"
      ]
     },
     "execution_count": 9,
     "metadata": {},
     "output_type": "execute_result"
    }
   ],
   "source": [
    "%viz --style=\"POLYLINE\" --view=\"Default\" \"ActionTest\""
   ]
  },
  {
   "cell_type": "code",
   "execution_count": 10,
   "id": "ce8720ca",
   "metadata": {
    "execution": {
     "iopub.execute_input": "2021-06-30T09:17:40.912292Z",
     "iopub.status.busy": "2021-06-30T09:17:40.911669Z",
     "iopub.status.idle": "2021-06-30T09:17:40.991160Z",
     "shell.execute_reply": "2021-06-30T09:17:40.988883Z"
    }
   },
   "outputs": [
    {
     "data": {
      "image/svg+xml": [
       "<?xml version=\"1.0\" encoding=\"UTF-8\" standalone=\"no\"?><svg xmlns=\"http://www.w3.org/2000/svg\" xmlns:xlink=\"http://www.w3.org/1999/xlink\" contentScriptType=\"application/ecmascript\" contentStyleType=\"text/css\" height=\"327px\" preserveAspectRatio=\"none\" style=\"width:677px;height:327px;\" version=\"1.1\" viewBox=\"0 0 677 327\" width=\"677px\" zoomAndPan=\"magnify\"><defs/><g><!--MD5=[fbc87193dbaf4d95561dea2c320d4a47]\n",
       "cluster E1--><a href=\"psysml:4a739ce7-b110-4093-8b74-31ee982b1e00\" target=\"_top\" title=\"psysml:4a739ce7-b110-4093-8b74-31ee982b1e00\" xlink:actuate=\"onRequest\" xlink:href=\"psysml:4a739ce7-b110-4093-8b74-31ee982b1e00\" xlink:show=\"new\" xlink:title=\"psysml:4a739ce7-b110-4093-8b74-31ee982b1e00\" xlink:type=\"simple\"><polygon fill=\"#FFFFFF\" points=\"16,6,107,6,114,28.2969,655,28.2969,655,315,16,315,16,6\" style=\"stroke: #000000; stroke-width: 1.5;\"/><line style=\"stroke: #000000; stroke-width: 1.5;\" x1=\"16\" x2=\"114\" y1=\"28.2969\" y2=\"28.2969\"/><text fill=\"#000000\" font-family=\"sans-serif\" font-size=\"14\" font-weight=\"bold\" lengthAdjust=\"spacingAndGlyphs\" textLength=\"85\" x=\"20\" y=\"20.9951\">ActionTest</text></a><!--MD5=[b4997ac47864f28c2f74865a473b2911]\n",
       "class E2--><a href=\"psysml:e3ea157b-753f-4ff0-b9f5-62b19f528d25\" target=\"_top\" title=\"psysml:e3ea157b-753f-4ff0-b9f5-62b19f528d25\" xlink:actuate=\"onRequest\" xlink:href=\"psysml:e3ea157b-753f-4ff0-b9f5-62b19f528d25\" xlink:show=\"new\" xlink:title=\"psysml:e3ea157b-753f-4ff0-b9f5-62b19f528d25\" xlink:type=\"simple\"><rect fill=\"#FFFFFF\" height=\"45.9375\" id=\"E2\" style=\"stroke: #383838; stroke-width: 1.5;\" width=\"95\" x=\"278.5\" y=\"253\"/><text fill=\"#000000\" font-family=\"sans-serif\" font-size=\"12\" font-style=\"italic\" lengthAdjust=\"spacingAndGlyphs\" textLength=\"93\" x=\"279.5\" y=\"269.1387\">«attribute def»</text><text fill=\"#000000\" font-family=\"sans-serif\" font-size=\"12\" lengthAdjust=\"spacingAndGlyphs\" textLength=\"8\" x=\"322\" y=\"283.1074\">S</text><line style=\"stroke: #383838; stroke-width: 1.5;\" x1=\"279.5\" x2=\"372.5\" y1=\"290.9375\" y2=\"290.9375\"/></a><!--MD5=[09b614a08d8cba4a07c9adeb5e0fee81]\n",
       "class E3--><a href=\"psysml:fa9c3421-7722-4415-b8c7-0ea19e95762e\" target=\"_top\" title=\"psysml:fa9c3421-7722-4415-b8c7-0ea19e95762e\" xlink:actuate=\"onRequest\" xlink:href=\"psysml:fa9c3421-7722-4415-b8c7-0ea19e95762e\" xlink:show=\"new\" xlink:title=\"psysml:fa9c3421-7722-4415-b8c7-0ea19e95762e\" xlink:type=\"simple\"><rect fill=\"#FFFFFF\" height=\"45.9375\" id=\"E3\" rx=\"10\" ry=\"10\" style=\"stroke: #383838; stroke-width: 1.5;\" width=\"55\" x=\"298.5\" y=\"41\"/><text fill=\"#000000\" font-family=\"sans-serif\" font-size=\"12\" font-style=\"italic\" lengthAdjust=\"spacingAndGlyphs\" textLength=\"53\" x=\"299.5\" y=\"57.1387\">«action»</text><text fill=\"#000000\" font-family=\"sans-serif\" font-size=\"12\" lengthAdjust=\"spacingAndGlyphs\" textLength=\"8\" x=\"322\" y=\"71.1074\">a</text><line style=\"stroke: #383838; stroke-width: 1.5;\" x1=\"299.5\" x2=\"352.5\" y1=\"78.9375\" y2=\"78.9375\"/></a><!--MD5=[ebbe1d658d1005bcc118a6aa81145e00]\n",
       "class E4--><a href=\"psysml:a6d1daf9-13da-45ca-a864-cb134e7177b5\" target=\"_top\" title=\"psysml:a6d1daf9-13da-45ca-a864-cb134e7177b5\" xlink:actuate=\"onRequest\" xlink:href=\"psysml:a6d1daf9-13da-45ca-a864-cb134e7177b5\" xlink:show=\"new\" xlink:title=\"psysml:a6d1daf9-13da-45ca-a864-cb134e7177b5\" xlink:type=\"simple\"><rect fill=\"#FFFFFF\" height=\"45.9375\" id=\"E4\" rx=\"10\" ry=\"10\" style=\"stroke: #383838; stroke-width: 1.5;\" width=\"83\" x=\"32.5\" y=\"147\"/><text fill=\"#000000\" font-family=\"sans-serif\" font-size=\"12\" font-style=\"italic\" lengthAdjust=\"spacingAndGlyphs\" textLength=\"53\" x=\"47.5\" y=\"163.1387\">«action»</text><text fill=\"#000000\" font-family=\"sans-serif\" font-size=\"12\" lengthAdjust=\"spacingAndGlyphs\" textLength=\"77\" x=\"35.5\" y=\"177.1074\">start: Action</text><line style=\"stroke: #383838; stroke-width: 1.5;\" x1=\"33.5\" x2=\"114.5\" y1=\"184.9375\" y2=\"184.9375\"/></a><!--MD5=[270fce915f116d4de14055a7c1d9a0f3]\n",
       "class E5--><a href=\"psysml:60604585-cd78-42b0-92ae-265c1a2862a9\" target=\"_top\" title=\"psysml:60604585-cd78-42b0-92ae-265c1a2862a9\" xlink:actuate=\"onRequest\" xlink:href=\"psysml:60604585-cd78-42b0-92ae-265c1a2862a9\" xlink:show=\"new\" xlink:title=\"psysml:60604585-cd78-42b0-92ae-265c1a2862a9\" xlink:type=\"simple\"><rect fill=\"#FFFFFF\" height=\"45.9375\" id=\"E5\" rx=\"10\" ry=\"10\" style=\"stroke: #383838; stroke-width: 1.5;\" width=\"89\" x=\"150.5\" y=\"147\"/><text fill=\"#000000\" font-family=\"sans-serif\" font-size=\"12\" font-style=\"italic\" lengthAdjust=\"spacingAndGlyphs\" textLength=\"87\" x=\"151.5\" y=\"163.1387\">«mergeNode»</text><text fill=\"#000000\" font-family=\"sans-serif\" font-size=\"12\" lengthAdjust=\"spacingAndGlyphs\" textLength=\"11\" x=\"189.5\" y=\"177.1074\">m</text><line style=\"stroke: #383838; stroke-width: 1.5;\" x1=\"151.5\" x2=\"238.5\" y1=\"184.9375\" y2=\"184.9375\"/></a><!--MD5=[60a26617385b1d2d0262a64233df1f8d]\n",
       "class E6--><a href=\"psysml:1a7559c2-685c-4c08-a29a-09c3177cd704\" target=\"_top\" title=\"psysml:1a7559c2-685c-4c08-a29a-09c3177cd704\" xlink:actuate=\"onRequest\" xlink:href=\"psysml:1a7559c2-685c-4c08-a29a-09c3177cd704\" xlink:show=\"new\" xlink:title=\"psysml:1a7559c2-685c-4c08-a29a-09c3177cd704\" xlink:type=\"simple\"><rect fill=\"#FFFFFF\" height=\"45.9375\" id=\"E6\" rx=\"10\" ry=\"10\" style=\"stroke: #383838; stroke-width: 1.5;\" width=\"102\" x=\"275\" y=\"147\"/><text fill=\"#000000\" font-family=\"sans-serif\" font-size=\"12\" font-style=\"italic\" lengthAdjust=\"spacingAndGlyphs\" textLength=\"100\" x=\"276\" y=\"163.1387\">«accept action»</text><text fill=\"#000000\" font-family=\"sans-serif\" font-size=\"12\" lengthAdjust=\"spacingAndGlyphs\" text-decoration=\"line-through\" textLength=\"51\" x=\"300.5\" y=\"177.1074\">noname</text><line style=\"stroke: #383838; stroke-width: 1.5;\" x1=\"276\" x2=\"376\" y1=\"184.9375\" y2=\"184.9375\"/></a><!--MD5=[2156ba9850f5573cc1fc38a6a4b2f02b]\n",
       "class E7--><a href=\"psysml:57acc649-2893-4bd5-b427-585e4a8282d2\" target=\"_top\" title=\"psysml:57acc649-2893-4bd5-b427-585e4a8282d2\" xlink:actuate=\"onRequest\" xlink:href=\"psysml:57acc649-2893-4bd5-b427-585e4a8282d2\" xlink:show=\"new\" xlink:title=\"psysml:57acc649-2893-4bd5-b427-585e4a8282d2\" xlink:type=\"simple\"><rect fill=\"#FFFFFF\" height=\"45.9375\" id=\"E7\" rx=\"10\" ry=\"10\" style=\"stroke: #383838; stroke-width: 1.5;\" width=\"90\" x=\"412\" y=\"147\"/><text fill=\"#000000\" font-family=\"sans-serif\" font-size=\"12\" font-style=\"italic\" lengthAdjust=\"spacingAndGlyphs\" textLength=\"88\" x=\"413\" y=\"163.1387\">«send action»</text><text fill=\"#000000\" font-family=\"sans-serif\" font-size=\"12\" lengthAdjust=\"spacingAndGlyphs\" text-decoration=\"line-through\" textLength=\"51\" x=\"431.5\" y=\"177.1074\">noname</text><line style=\"stroke: #383838; stroke-width: 1.5;\" x1=\"413\" x2=\"501\" y1=\"184.9375\" y2=\"184.9375\"/></a><!--MD5=[b9389687b975829384b498ac4b7476b2]\n",
       "class E8--><a href=\"psysml:dcda7bbd-01a5-4374-8a97-a16c2625889c\" target=\"_top\" title=\"psysml:dcda7bbd-01a5-4374-8a97-a16c2625889c\" xlink:actuate=\"onRequest\" xlink:href=\"psysml:dcda7bbd-01a5-4374-8a97-a16c2625889c\" xlink:show=\"new\" xlink:title=\"psysml:dcda7bbd-01a5-4374-8a97-a16c2625889c\" xlink:type=\"simple\"><rect fill=\"#FFFFFF\" height=\"45.9375\" id=\"E8\" rx=\"10\" ry=\"10\" style=\"stroke: #383838; stroke-width: 1.5;\" width=\"101\" x=\"537.5\" y=\"147\"/><text fill=\"#000000\" font-family=\"sans-serif\" font-size=\"12\" font-style=\"italic\" lengthAdjust=\"spacingAndGlyphs\" textLength=\"99\" x=\"538.5\" y=\"163.1387\">«decisionNode»</text><text fill=\"#000000\" font-family=\"sans-serif\" font-size=\"12\" lengthAdjust=\"spacingAndGlyphs\" text-decoration=\"line-through\" textLength=\"51\" x=\"562.5\" y=\"177.1074\">noname</text><line style=\"stroke: #383838; stroke-width: 1.5;\" x1=\"538.5\" x2=\"637.5\" y1=\"184.9375\" y2=\"184.9375\"/></a><!--MD5=[fd4143e9d270a159db93a4ea2a975926]\n",
       "class E9--><a href=\"psysml:86a7eb05-d2a7-4b0b-add7-eac0d2258e69\" target=\"_top\" title=\"psysml:86a7eb05-d2a7-4b0b-add7-eac0d2258e69\" xlink:actuate=\"onRequest\" xlink:href=\"psysml:86a7eb05-d2a7-4b0b-add7-eac0d2258e69\" xlink:show=\"new\" xlink:title=\"psysml:86a7eb05-d2a7-4b0b-add7-eac0d2258e69\" xlink:type=\"simple\"><rect fill=\"#FFFFFF\" height=\"45.9375\" id=\"E9\" style=\"stroke: #383838; stroke-width: 1.5;\" width=\"79\" x=\"108.5\" y=\"41\"/><text fill=\"#000000\" font-family=\"sans-serif\" font-size=\"12\" font-style=\"italic\" lengthAdjust=\"spacingAndGlyphs\" textLength=\"77\" x=\"109.5\" y=\"57.1387\">«action def»</text><text fill=\"#000000\" font-family=\"sans-serif\" font-size=\"12\" lengthAdjust=\"spacingAndGlyphs\" textLength=\"8\" x=\"144\" y=\"71.1074\">B</text><line style=\"stroke: #383838; stroke-width: 1.5;\" x1=\"109.5\" x2=\"186.5\" y1=\"78.9375\" y2=\"78.9375\"/></a><!--MD5=[4672eba38e49728da53d11aeb285b987]\n",
       "reverse link E3 to E4--><a href=\"psysml:52dfc4ad-a62d-4432-a88b-57c0a80d621d\" target=\"_top\" title=\"psysml:52dfc4ad-a62d-4432-a88b-57c0a80d621d\" xlink:actuate=\"onRequest\" xlink:href=\"psysml:52dfc4ad-a62d-4432-a88b-57c0a80d621d\" xlink:show=\"new\" xlink:title=\"psysml:52dfc4ad-a62d-4432-a88b-57c0a80d621d\" xlink:type=\"simple\"><path d=\"M285.79,81.6 C239.27,100.79 163.05,132.25 115.85,151.73 \" fill=\"none\" id=\"E3&lt;-E4\" style=\"stroke: #383838; stroke-width: 1.0;\"/><polygon fill=\"#FFFFFF\" points=\"298.07,76.53,290.9979,75.1209,286.9771,81.107,294.0492,82.5161,298.07,76.53\" style=\"stroke: #383838; stroke-width: 1.0;\"/></a><!--MD5=[191cde3d490a3f6d7bb551fe3ddca469]\n",
       "reverse link E3 to E5--><a href=\"psysml:99d9f5a6-f2b4-4631-bd24-2952b87c2311\" target=\"_top\" title=\"psysml:99d9f5a6-f2b4-4631-bd24-2952b87c2311\" xlink:actuate=\"onRequest\" xlink:href=\"psysml:99d9f5a6-f2b4-4631-bd24-2952b87c2311\" xlink:show=\"new\" xlink:title=\"psysml:99d9f5a6-f2b4-4631-bd24-2952b87c2311\" xlink:type=\"simple\"><path d=\"M287.79,95.33 C266.97,111.86 241.66,131.95 222.74,146.98 \" fill=\"none\" id=\"E3&lt;-E5\" style=\"stroke: #383838; stroke-width: 1.0;\"/><polygon fill=\"#383838\" points=\"298.22,87.06,291.0341,87.6625,288.8265,94.5273,296.0123,93.9249,298.22,87.06\" style=\"stroke: #383838; stroke-width: 1.0;\"/></a><!--MD5=[1026b4b93417a13aa8999a858998add2]\n",
       "reverse link E3 to E6--><a href=\"psysml:14dfaf6d-db59-420e-a3c6-2cc6bbb5f023\" target=\"_top\" title=\"psysml:14dfaf6d-db59-420e-a3c6-2cc6bbb5f023\" xlink:actuate=\"onRequest\" xlink:href=\"psysml:14dfaf6d-db59-420e-a3c6-2cc6bbb5f023\" xlink:show=\"new\" xlink:title=\"psysml:14dfaf6d-db59-420e-a3c6-2cc6bbb5f023\" xlink:type=\"simple\"><path d=\"M326,100.44 C326,115.87 326,133.47 326,146.98 \" fill=\"none\" id=\"E3&lt;-E6\" style=\"stroke: #383838; stroke-width: 1.0;\"/><polygon fill=\"#FFFFFF\" points=\"326,87.06,322,93.06,326,99.06,330,93.06,326,87.06\" style=\"stroke: #383838; stroke-width: 1.0;\"/></a><!--MD5=[3403bfa781cc3da0fd423dbab6f01c63]\n",
       "reverse link E6 to E2--><a href=\"psysml:773d19c1-1d9b-4741-b5ba-dd5a31e080a3\" target=\"_top\" title=\"psysml:773d19c1-1d9b-4741-b5ba-dd5a31e080a3\" xlink:actuate=\"onRequest\" xlink:href=\"psysml:773d19c1-1d9b-4741-b5ba-dd5a31e080a3\" xlink:show=\"new\" xlink:title=\"psysml:773d19c1-1d9b-4741-b5ba-dd5a31e080a3\" xlink:type=\"simple\"><path d=\"M326,206.44 C326,221.87 326,239.47 326,252.98 \" fill=\"none\" id=\"E6&lt;-E2\" style=\"stroke: #383838; stroke-width: 1.0;\"/><polygon fill=\"#FFFFFF\" points=\"326,193.06,322,199.06,326,205.06,330,199.06,326,193.06\" style=\"stroke: #383838; stroke-width: 1.0;\"/></a><!--MD5=[85760999379eecfd2565a9fecdca67e4]\n",
       "reverse link E3 to E7--><a href=\"psysml:4bddb34b-31d0-4487-9835-f5e5c1238220\" target=\"_top\" title=\"psysml:4bddb34b-31d0-4487-9835-f5e5c1238220\" xlink:actuate=\"onRequest\" xlink:href=\"psysml:4bddb34b-31d0-4487-9835-f5e5c1238220\" xlink:show=\"new\" xlink:title=\"psysml:4bddb34b-31d0-4487-9835-f5e5c1238220\" xlink:type=\"simple\"><path d=\"M364.21,95.33 C385.03,111.86 410.34,131.95 429.26,146.98 \" fill=\"none\" id=\"E3&lt;-E7\" style=\"stroke: #383838; stroke-width: 1.0;\"/><polygon fill=\"#FFFFFF\" points=\"353.78,87.06,355.9877,93.9249,363.1735,94.5273,360.9659,87.6625,353.78,87.06\" style=\"stroke: #383838; stroke-width: 1.0;\"/></a><!--MD5=[4cb75b73ec3682b8f7f8edc9cc86126a]\n",
       "reverse link E3 to E8--><a href=\"psysml:010ce356-5f58-462c-8431-75351dc3ac74\" target=\"_top\" title=\"psysml:010ce356-5f58-462c-8431-75351dc3ac74\" xlink:actuate=\"onRequest\" xlink:href=\"psysml:010ce356-5f58-462c-8431-75351dc3ac74\" xlink:show=\"new\" xlink:title=\"psysml:010ce356-5f58-462c-8431-75351dc3ac74\" xlink:type=\"simple\"><path d=\"M365.63,80.73 C411.46,98.92 486.99,128.91 537.12,148.8 \" fill=\"none\" id=\"E3&lt;-E8\" style=\"stroke: #383838; stroke-width: 1.0;\"/><polygon fill=\"#383838\" points=\"353.54,75.93,357.6459,81.858,364.6971,80.348,360.5912,74.42,353.54,75.93\" style=\"stroke: #383838; stroke-width: 1.0;\"/></a><!--MD5=[25e2f1577bb338f6088879ffa89f96cf]\n",
       "@startuml\r\n",
       "skinparam linetype polyline\r\n",
       "skinparam monochrome true\r\n",
       "skinparam classbackgroundcolor white\r\n",
       "skinparam shadowing false\r\n",
       "skinparam wrapWidth 300\r\n",
       "hide circle\r\n",
       "\r\n",
       "package \"ActionTest\" as E1  [[psysml:4a739ce7-b110-4093-8b74-31ee982b1e00 ]]  {\r\n",
       "comp def \"S\" as E2  <<(T,blue) attribute def>> [[psysml:e3ea157b-753f-4ff0-b9f5-62b19f528d25 ]] {\r\n",
       "}\r\n",
       "comp usage \"a\" as E3  <<(T,blue) action>> [[psysml:fa9c3421-7722-4415-b8c7-0ea19e95762e ]] {\r\n",
       "}\r\n",
       "comp usage \"start: Action\" as E4  <<(T,blue) action>> [[psysml:a6d1daf9-13da-45ca-a864-cb134e7177b5 ]] {\r\n",
       "}\r\n",
       "comp usage \"m\" as E5  <<(T,blue) mergeNode>> [[psysml:60604585-cd78-42b0-92ae-265c1a2862a9 ]] {\r\n",
       "}\r\n",
       "comp usage \"<s>noname</s>\" as E6 << accept action>> [[psysml:1a7559c2-685c-4c08-a29a-09c3177cd704 ]] {\r\n",
       "}\r\n",
       "comp usage \"<s>noname</s>\" as E7 << send action>> [[psysml:57acc649-2893-4bd5-b427-585e4a8282d2 ]] {\r\n",
       "}\r\n",
       "comp usage \"<s>noname</s>\" as E8  <<(T,blue) decisionNode>> [[psysml:dcda7bbd-01a5-4374-8a97-a16c2625889c ]] {\r\n",
       "}\r\n",
       "comp def \"B\" as E9  <<(T,blue) action def>> [[psysml:86a7eb05-d2a7-4b0b-add7-eac0d2258e69 ]] {\r\n",
       "}\r\n",
       "E3 o- - E4 [[psysml:52dfc4ad-a62d-4432-a88b-57c0a80d621d ]] \r\n",
       "E3 *- - E5 [[psysml:99d9f5a6-f2b4-4631-bd24-2952b87c2311 ]] \r\n",
       "E3 o- - E6 [[psysml:14dfaf6d-db59-420e-a3c6-2cc6bbb5f023 ]] \r\n",
       "E6 o- - E2 [[psysml:773d19c1-1d9b-4741-b5ba-dd5a31e080a3 ]] \r\n",
       "E3 o- - E7 [[psysml:4bddb34b-31d0-4487-9835-f5e5c1238220 ]] \r\n",
       "E3 *- - E8 [[psysml:010ce356-5f58-462c-8431-75351dc3ac74 ]] \r\n",
       "}\r\n",
       "@enduml\r\n",
       "\n",
       "PlantUML version 1.2020.13(Sat Jun 13 12:26:38 UTC 2020)\n",
       "(EPL source distribution)\n",
       "Java Runtime: OpenJDK Runtime Environment\n",
       "JVM: OpenJDK 64-Bit Server VM\n",
       "Default Encoding: UTF-8\n",
       "Language: en\n",
       "Country: null\n",
       "--></g></svg>"
      ]
     },
     "execution_count": 10,
     "metadata": {},
     "output_type": "execute_result"
    }
   ],
   "source": [
    "%viz --style=\"POLYLINE\" --view=\"Tree\" \"ActionTest\""
   ]
  },
  {
   "cell_type": "code",
   "execution_count": 11,
   "id": "9a6dd4d3",
   "metadata": {
    "execution": {
     "iopub.execute_input": "2021-06-30T09:17:41.040773Z",
     "iopub.status.busy": "2021-06-30T09:17:41.040111Z",
     "iopub.status.idle": "2021-06-30T09:17:41.046878Z",
     "shell.execute_reply": "2021-06-30T09:17:41.047221Z"
    }
   },
   "outputs": [
    {
     "data": {
      "image/svg+xml": [
       "<?xml version=\"1.0\" encoding=\"UTF-8\" standalone=\"no\"?><svg xmlns=\"http://www.w3.org/2000/svg\" xmlns:xlink=\"http://www.w3.org/1999/xlink\" contentScriptType=\"application/ecmascript\" contentStyleType=\"text/css\" height=\"12px\" preserveAspectRatio=\"none\" style=\"width:12px;height:12px;\" version=\"1.1\" viewBox=\"0 0 12 12\" width=\"12px\" zoomAndPan=\"magnify\"><defs/><g><!--MD5=[896ac0e7a515d8dd7765a661cb4ee08b]\n",
       "@startuml\r\n",
       "skinparam linetype polyline\r\n",
       "skinparam monochrome true\r\n",
       "skinparam classbackgroundcolor white\r\n",
       "skinparam shadowing false\r\n",
       "skinparam wrapWidth 300\r\n",
       "hide circle\r\n",
       "\r\n",
       "@enduml\r\n",
       "\n",
       "PlantUML version 1.2020.13(Sat Jun 13 12:26:38 UTC 2020)\n",
       "(EPL source distribution)\n",
       "Java Runtime: OpenJDK Runtime Environment\n",
       "JVM: OpenJDK 64-Bit Server VM\n",
       "Default Encoding: UTF-8\n",
       "Language: en\n",
       "Country: null\n",
       "--></g></svg>"
      ]
     },
     "execution_count": 11,
     "metadata": {},
     "output_type": "execute_result"
    }
   ],
   "source": [
    "%viz --style=\"POLYLINE\" --view=\"State\" \"ActionTest\""
   ]
  },
  {
   "cell_type": "code",
   "execution_count": 12,
   "id": "44c8d6c4",
   "metadata": {
    "execution": {
     "iopub.execute_input": "2021-06-30T09:17:41.098914Z",
     "iopub.status.busy": "2021-06-30T09:17:41.098398Z",
     "iopub.status.idle": "2021-06-30T09:17:41.211423Z",
     "shell.execute_reply": "2021-06-30T09:17:41.211820Z"
    }
   },
   "outputs": [
    {
     "data": {
      "image/svg+xml": [
       "<?xml version=\"1.0\" encoding=\"UTF-8\" standalone=\"no\"?><svg xmlns=\"http://www.w3.org/2000/svg\" xmlns:xlink=\"http://www.w3.org/1999/xlink\" contentScriptType=\"application/ecmascript\" contentStyleType=\"text/css\" height=\"462px\" preserveAspectRatio=\"none\" style=\"width:522px;height:462px;\" version=\"1.1\" viewBox=\"0 0 522 462\" width=\"522px\" zoomAndPan=\"magnify\"><defs/><g><!--MD5=[fbc87193dbaf4d95561dea2c320d4a47]\n",
       "cluster E1--><a href=\"psysml:4a739ce7-b110-4093-8b74-31ee982b1e00\" target=\"_top\" title=\"psysml:4a739ce7-b110-4093-8b74-31ee982b1e00\" xlink:actuate=\"onRequest\" xlink:href=\"psysml:4a739ce7-b110-4093-8b74-31ee982b1e00\" xlink:show=\"new\" xlink:title=\"psysml:4a739ce7-b110-4093-8b74-31ee982b1e00\" xlink:type=\"simple\"><polygon fill=\"#FFFFFF\" points=\"16,6,107,6,114,28.2969,500,28.2969,500,450.5,16,450.5,16,6\" style=\"stroke: #000000; stroke-width: 1.5;\"/><line style=\"stroke: #000000; stroke-width: 1.5;\" x1=\"16\" x2=\"114\" y1=\"28.2969\" y2=\"28.2969\"/><text fill=\"#000000\" font-family=\"sans-serif\" font-size=\"14\" font-weight=\"bold\" lengthAdjust=\"spacingAndGlyphs\" textLength=\"85\" x=\"20\" y=\"20.9951\">ActionTest</text></a><!--MD5=[d5e69f78d87373223dbae638b30a9c99]\n",
       "cluster E3--><a href=\"psysml:fa9c3421-7722-4415-b8c7-0ea19e95762e\" target=\"_top\" title=\"psysml:fa9c3421-7722-4415-b8c7-0ea19e95762e\" xlink:actuate=\"onRequest\" xlink:href=\"psysml:fa9c3421-7722-4415-b8c7-0ea19e95762e\" xlink:show=\"new\" xlink:title=\"psysml:fa9c3421-7722-4415-b8c7-0ea19e95762e\" xlink:type=\"simple\"><rect fill=\"#FFFFFF\" height=\"377.5\" id=\"E3\" rx=\"10\" ry=\"10\" style=\"stroke: #383838; stroke-width: 1.5;\" width=\"209\" x=\"267\" y=\"49\"/><rect fill=\"#F8F8F8\" height=\"37.9375\" rx=\"10\" ry=\"10\" style=\"stroke: #F8F8F8; stroke-width: 1.5;\" width=\"209\" x=\"267\" y=\"49\"/><rect fill=\"#F8F8F8\" height=\"10\" style=\"stroke: #F8F8F8; stroke-width: 1.5;\" width=\"209\" x=\"267\" y=\"76.9375\"/><rect fill=\"none\" height=\"377.5\" id=\"E3\" rx=\"10\" ry=\"10\" style=\"stroke: #383838; stroke-width: 1.5;\" width=\"209\" x=\"267\" y=\"49\"/><text fill=\"#000000\" font-family=\"sans-serif\" font-size=\"12\" font-style=\"italic\" lengthAdjust=\"spacingAndGlyphs\" textLength=\"53\" x=\"345\" y=\"65.1387\">«action»</text><text fill=\"#000000\" font-family=\"sans-serif\" font-size=\"12\" lengthAdjust=\"spacingAndGlyphs\" textLength=\"8\" x=\"367.5\" y=\"79.1074\">a</text><line style=\"stroke: #383838; stroke-width: 1.0;\" x1=\"267\" x2=\"476\" y1=\"86.9375\" y2=\"86.9375\"/></a><g id=\"E1.E2\"><a href=\"psysml:e3ea157b-753f-4ff0-b9f5-62b19f528d25\" target=\"_top\" title=\"psysml:e3ea157b-753f-4ff0-b9f5-62b19f528d25\" xlink:actuate=\"onRequest\" xlink:href=\"psysml:e3ea157b-753f-4ff0-b9f5-62b19f528d25\" xlink:show=\"new\" xlink:title=\"psysml:e3ea157b-753f-4ff0-b9f5-62b19f528d25\" xlink:type=\"simple\"><rect fill=\"#FFFFFF\" height=\"42.9375\" id=\"E2\" style=\"stroke: #383838; stroke-width: 1.5;\" width=\"100\" x=\"151\" y=\"88.5\"/><rect fill=\"#F8F8F8\" height=\"37.9375\" style=\"stroke: #383838; stroke-width: 1.5;\" width=\"100\" x=\"151\" y=\"88.5\"/><text fill=\"#000000\" font-family=\"sans-serif\" font-size=\"12\" font-style=\"italic\" lengthAdjust=\"spacingAndGlyphs\" textLength=\"93\" x=\"154.5\" y=\"104.6387\">«attribute def»</text><text fill=\"#000000\" font-family=\"sans-serif\" font-size=\"12\" lengthAdjust=\"spacingAndGlyphs\" textLength=\"8\" x=\"197\" y=\"118.6074\">S</text></a></g><polygon fill=\"#F8F8F8\" points=\"424,148.5,436,160.5,424,172.5,412,160.5,424,148.5\" style=\"stroke: #383838; stroke-width: 1.5;\"/><!--MD5=[21dd76c19d33815960c0e92fef8f0eef]\n",
       "entity E5--><a href=\"psysml:1a7559c2-685c-4c08-a29a-09c3177cd704\" target=\"_top\" title=\"psysml:1a7559c2-685c-4c08-a29a-09c3177cd704\" xlink:actuate=\"onRequest\" xlink:href=\"psysml:1a7559c2-685c-4c08-a29a-09c3177cd704\" xlink:show=\"new\" xlink:title=\"psysml:1a7559c2-685c-4c08-a29a-09c3177cd704\" xlink:type=\"simple\"><polygon fill=\"#F8F8F8\" points=\"283,189.5,283,244.0938,423,244.0938,403,216.7969,423,189.5\" style=\"stroke: #000000; stroke-width: 1.5;\"/><text fill=\"#000000\" font-family=\"sans-serif\" font-size=\"14\" font-style=\"italic\" lengthAdjust=\"spacingAndGlyphs\" textLength=\"111\" x=\"290\" y=\"212.4951\">«accept action»</text><text fill=\"#000000\" font-family=\"sans-serif\" font-size=\"14\" lengthAdjust=\"spacingAndGlyphs\" textLength=\"9\" x=\"341\" y=\"229.792\">S</text></a><!--MD5=[24d87cdf3002d433f401b2a2aa9f9f65]\n",
       "entity E6--><a href=\"psysml:57acc649-2893-4bd5-b427-585e4a8282d2\" target=\"_top\" title=\"psysml:57acc649-2893-4bd5-b427-585e4a8282d2\" xlink:actuate=\"onRequest\" xlink:href=\"psysml:57acc649-2893-4bd5-b427-585e4a8282d2\" xlink:show=\"new\" xlink:title=\"psysml:57acc649-2893-4bd5-b427-585e4a8282d2\" xlink:type=\"simple\"><polygon fill=\"#F8F8F8\" points=\"283,277.5,283,332.0938,391,332.0938,411,304.7969,391,277.5\" style=\"stroke: #000000; stroke-width: 1.5;\"/><text fill=\"#000000\" font-family=\"sans-serif\" font-size=\"14\" font-style=\"italic\" lengthAdjust=\"spacingAndGlyphs\" textLength=\"99\" x=\"290\" y=\"300.4951\">«send action»</text><text fill=\"#000000\" font-family=\"sans-serif\" font-size=\"14\" lengthAdjust=\"spacingAndGlyphs\" textLength=\"65\" x=\"307\" y=\"317.792\">S() to  B()</text></a><polygon fill=\"#F8F8F8\" points=\"422,349.5,434,361.5,422,373.5,410,361.5,422,349.5\" style=\"stroke: #383838; stroke-width: 1.5;\"/><ellipse cx=\"424\" cy=\"110\" fill=\"#000000\" rx=\"10\" ry=\"10\" style=\"stroke: none; stroke-width: 1.0;\"/><ellipse cx=\"422\" cy=\"400.5\" fill=\"none\" rx=\"10\" ry=\"10\" style=\"stroke: #000000; stroke-width: 1.0;\"/><ellipse cx=\"422.5\" cy=\"401\" fill=\"#000000\" rx=\"6\" ry=\"6\" style=\"stroke: none; stroke-width: 1.0;\"/><g id=\"E1.E8\"><a href=\"psysml:86a7eb05-d2a7-4b0b-add7-eac0d2258e69\" target=\"_top\" title=\"psysml:86a7eb05-d2a7-4b0b-add7-eac0d2258e69\" xlink:actuate=\"onRequest\" xlink:href=\"psysml:86a7eb05-d2a7-4b0b-add7-eac0d2258e69\" xlink:show=\"new\" xlink:title=\"psysml:86a7eb05-d2a7-4b0b-add7-eac0d2258e69\" xlink:type=\"simple\"><rect fill=\"#FFFFFF\" height=\"42.9375\" id=\"E8\" style=\"stroke: #383838; stroke-width: 1.5;\" width=\"84\" x=\"32\" y=\"88.5\"/><rect fill=\"#F8F8F8\" height=\"37.9375\" style=\"stroke: #383838; stroke-width: 1.5;\" width=\"84\" x=\"32\" y=\"88.5\"/><text fill=\"#000000\" font-family=\"sans-serif\" font-size=\"12\" font-style=\"italic\" lengthAdjust=\"spacingAndGlyphs\" textLength=\"77\" x=\"35.5\" y=\"104.6387\">«action def»</text><text fill=\"#000000\" font-family=\"sans-serif\" font-size=\"12\" lengthAdjust=\"spacingAndGlyphs\" textLength=\"8\" x=\"70\" y=\"118.6074\">B</text></a></g><!--MD5=[f47e10efcf9a6752d55dae986d790ed9]\n",
       "link *start*E3 to E4--><a href=\"psysml:3a6c3978-61f5-46d3-ad26-c963b1b56f5b\" target=\"_top\" title=\"psysml:3a6c3978-61f5-46d3-ad26-c963b1b56f5b\" xlink:actuate=\"onRequest\" xlink:href=\"psysml:3a6c3978-61f5-46d3-ad26-c963b1b56f5b\" xlink:show=\"new\" xlink:title=\"psysml:3a6c3978-61f5-46d3-ad26-c963b1b56f5b\" xlink:type=\"simple\"><path d=\"M424,120.35 C424,126.88 424,135.77 424,143.42 \" fill=\"none\" id=\"*start*E3-&gt;E4\" style=\"stroke: #383838; stroke-width: 1.0;\"/><polygon fill=\"#383838\" points=\"424,148.48,428,139.48,424,143.48,420,139.48,424,148.48\" style=\"stroke: #383838; stroke-width: 1.0;\"/></a><!--MD5=[d19f2eb34364d71b67042106d92f540b]\n",
       "link E7 to *end*E3--><a href=\"psysml:36daa16f-4b44-48c5-bcb7-7a401bcea152\" target=\"_top\" title=\"psysml:36daa16f-4b44-48c5-bcb7-7a401bcea152\" xlink:actuate=\"onRequest\" xlink:href=\"psysml:36daa16f-4b44-48c5-bcb7-7a401bcea152\" xlink:show=\"new\" xlink:title=\"psysml:36daa16f-4b44-48c5-bcb7-7a401bcea152\" xlink:type=\"simple\"><path d=\"M422,373.8 C422,377.34 422,381.3 422,385.03 \" fill=\"none\" id=\"E7-&gt;*end*E3\" style=\"stroke: #383838; stroke-width: 1.0;\"/><polygon fill=\"#383838\" points=\"422,390.25,426,381.25,422,385.25,418,381.25,422,390.25\" style=\"stroke: #383838; stroke-width: 1.0;\"/></a><!--MD5=[1b7591eae5389033d8d09a9d6721a717]\n",
       "link E4 to E5--><a href=\"psysml:c56e5692-64fd-4b0b-a986-d866765d0210\" target=\"_top\" title=\"psysml:c56e5692-64fd-4b0b-a986-d866765d0210\" xlink:actuate=\"onRequest\" xlink:href=\"psysml:c56e5692-64fd-4b0b-a986-d866765d0210\" xlink:show=\"new\" xlink:title=\"psysml:c56e5692-64fd-4b0b-a986-d866765d0210\" xlink:type=\"simple\"><path d=\"M417.45,166.53 C411.33,171.23 401.65,178.66 391.64,186.34 \" fill=\"none\" id=\"E4-&gt;E5\" style=\"stroke: #383838; stroke-width: 1.0;\"/><polygon fill=\"#383838\" points=\"387.64,189.41,397.2129,187.0948,391.6037,186.3621,392.3363,180.7529,387.64,189.41\" style=\"stroke: #383838; stroke-width: 1.0;\"/></a><!--MD5=[9120cf2e5df3bff93db8f754bbbc09b4]\n",
       "link E5 to E6--><a href=\"psysml:363bb7e0-7ec1-401c-827a-8a23a32c7946\" target=\"_top\" title=\"psysml:363bb7e0-7ec1-401c-827a-8a23a32c7946\" xlink:actuate=\"onRequest\" xlink:href=\"psysml:363bb7e0-7ec1-401c-827a-8a23a32c7946\" xlink:show=\"new\" xlink:title=\"psysml:363bb7e0-7ec1-401c-827a-8a23a32c7946\" xlink:type=\"simple\"><path d=\"M351.13,244.74 C350.53,253.4 349.85,263.08 349.23,272.08 \" fill=\"none\" id=\"E5-&gt;E6\" style=\"stroke: #383838; stroke-width: 1.0;\"/><polygon fill=\"#383838\" points=\"348.86,277.28,353.468,268.5756,349.203,272.2918,345.4869,268.0268,348.86,277.28\" style=\"stroke: #383838; stroke-width: 1.0;\"/></a><!--MD5=[02c70b7c851c11e3980e4e90450dc5dd]\n",
       "link E6 to E7--><a href=\"psysml:84082b66-a23a-4779-a592-98d74f10d8d7\" target=\"_top\" title=\"psysml:84082b66-a23a-4779-a592-98d74f10d8d7\" xlink:actuate=\"onRequest\" xlink:href=\"psysml:84082b66-a23a-4779-a592-98d74f10d8d7\" xlink:show=\"new\" xlink:title=\"psysml:84082b66-a23a-4779-a592-98d74f10d8d7\" xlink:type=\"simple\"><path d=\"M383.62,332.61 C393.72,339.95 403.91,347.35 411.24,352.68 \" fill=\"none\" id=\"E6-&gt;E7\" style=\"stroke: #383838; stroke-width: 1.0;\"/><polygon fill=\"#383838\" points=\"415.42,355.72,410.4976,347.1894,411.3776,352.7774,405.7896,353.6574,415.42,355.72\" style=\"stroke: #383838; stroke-width: 1.0;\"/></a><!--MD5=[6bdd27f9905911a7e892a3dc65cf6b7c]\n",
       "link E7 to E4--><a href=\"psysml:49753952-5c4c-4ef6-ad04-e80bfe7cb929\" target=\"_top\" title=\"psysml:49753952-5c4c-4ef6-ad04-e80bfe7cb929\" xlink:actuate=\"onRequest\" xlink:href=\"psysml:49753952-5c4c-4ef6-ad04-e80bfe7cb929\" xlink:show=\"new\" xlink:title=\"psysml:49753952-5c4c-4ef6-ad04-e80bfe7cb929\" xlink:type=\"simple\"><path d=\"M424.21,351.64 C426.27,343.44 429,332.5 429,332.5 C429,332.5 441,244.5 441,244.5 C441,244.5 441,189.5 441,189.5 C441,189.5 435.74,180.83 431.07,173.14 \" fill=\"none\" id=\"E7-&gt;E4\" style=\"stroke: #383838; stroke-width: 1.0;\"/><polygon fill=\"#383838\" points=\"428.29,168.57,429.5527,178.3376,430.8897,172.841,436.3863,174.178,428.29,168.57\" style=\"stroke: #383838; stroke-width: 1.0;\"/><text fill=\"#000000\" font-family=\"sans-serif\" font-size=\"13\" lengthAdjust=\"spacingAndGlyphs\" textLength=\"36\" x=\"440\" y=\"265.5669\">[true]</text></a><!--MD5=[919fd61bf9a75fa2fda85c0e56b4e994]\n",
       "@startuml\r\n",
       "skinparam ranksep 10\r\n",
       "skinparam rectangle {\r\n",
       " backgroundColor<<block>> LightGreen\r\n",
       "}\r\n",
       "skinparam linetype polyline\r\n",
       "skinparam monochrome true\r\n",
       "skinparam classbackgroundcolor white\r\n",
       "skinparam shadowing false\r\n",
       "skinparam wrapWidth 300\r\n",
       "hide circle\r\n",
       "\r\n",
       "package \"ActionTest\" as E1  [[psysml:4a739ce7-b110-4093-8b74-31ee982b1e00 ]]  {\r\n",
       "def \"S\" as E2  <<(T,blue) attribute def>> [[psysml:e3ea157b-753f-4ff0-b9f5-62b19f528d25 ]] \r\n",
       "rec usage \"a\" as E3  <<(T,blue) action>> [[psysml:fa9c3421-7722-4415-b8c7-0ea19e95762e ]] {\r\n",
       "choice \"m\" as E4  [[psysml:60604585-cd78-42b0-92ae-265c1a2862a9 ]] \r\n",
       "accept \" S\" as E5 << accept action>> [[psysml:1a7559c2-685c-4c08-a29a-09c3177cd704 ]] \r\n",
       "send \" S() to  B()\" as E6 << send action>> [[psysml:57acc649-2893-4bd5-b427-585e4a8282d2 ]] \r\n",
       "choice \"noname\" as E7  [[psysml:dcda7bbd-01a5-4374-8a97-a16c2625889c ]] \r\n",
       "[*] - -> E4 [[psysml:3a6c3978-61f5-46d3-ad26-c963b1b56f5b ]] \r\n",
       "E7  - -> [*] [[psysml:36daa16f-4b44-48c5-bcb7-7a401bcea152 ]] \r\n",
       "}\r\n",
       "\r\n",
       "rec def \"B\" as E8  <<(T,blue) action def>> [[psysml:86a7eb05-d2a7-4b0b-add7-eac0d2258e69 ]] {\r\n",
       "}\r\n",
       "\r\n",
       "E4 - -> E5 [[psysml:c56e5692-64fd-4b0b-a986-d866765d0210 ]] \r\n",
       "E5 - -> E6 [[psysml:363bb7e0-7ec1-401c-827a-8a23a32c7946 ]] \r\n",
       "E6 - -> E7 [[psysml:84082b66-a23a-4779-a592-98d74f10d8d7 ]] \r\n",
       "E7  - -> E4 [[psysml:49753952-5c4c-4ef6-ad04-e80bfe7cb929 ]] : [true]\r\n",
       "}\r\n",
       "@enduml\r\n",
       "\n",
       "PlantUML version 1.2020.13(Sat Jun 13 12:26:38 UTC 2020)\n",
       "(EPL source distribution)\n",
       "Java Runtime: OpenJDK Runtime Environment\n",
       "JVM: OpenJDK 64-Bit Server VM\n",
       "Default Encoding: UTF-8\n",
       "Language: en\n",
       "Country: null\n",
       "--></g></svg>"
      ]
     },
     "execution_count": 12,
     "metadata": {},
     "output_type": "execute_result"
    }
   ],
   "source": [
    "%viz --style=\"POLYLINE\" --view=\"Interconnection\" \"ActionTest\""
   ]
  },
  {
   "cell_type": "code",
   "execution_count": 13,
   "id": "ee3dbb6a",
   "metadata": {
    "execution": {
     "iopub.execute_input": "2021-06-30T09:17:41.263167Z",
     "iopub.status.busy": "2021-06-30T09:17:41.262516Z",
     "iopub.status.idle": "2021-06-30T09:17:41.337771Z",
     "shell.execute_reply": "2021-06-30T09:17:41.337092Z"
    }
   },
   "outputs": [
    {
     "data": {
      "image/svg+xml": [
       "<?xml version=\"1.0\" encoding=\"UTF-8\" standalone=\"no\"?><svg xmlns=\"http://www.w3.org/2000/svg\" xmlns:xlink=\"http://www.w3.org/1999/xlink\" contentScriptType=\"application/ecmascript\" contentStyleType=\"text/css\" height=\"395px\" preserveAspectRatio=\"none\" style=\"width:328px;height:395px;\" version=\"1.1\" viewBox=\"0 0 328 395\" width=\"328px\" zoomAndPan=\"magnify\"><defs/><g><!--MD5=[fbc87193dbaf4d95561dea2c320d4a47]\n",
       "cluster E1--><a href=\"psysml:fa9c3421-7722-4415-b8c7-0ea19e95762e\" target=\"_top\" title=\"psysml:fa9c3421-7722-4415-b8c7-0ea19e95762e\" xlink:actuate=\"onRequest\" xlink:href=\"psysml:fa9c3421-7722-4415-b8c7-0ea19e95762e\" xlink:show=\"new\" xlink:title=\"psysml:fa9c3421-7722-4415-b8c7-0ea19e95762e\" xlink:type=\"simple\"><rect fill=\"#FFFFFF\" height=\"377.5\" id=\"E1\" rx=\"10\" ry=\"10\" style=\"stroke: #383838; stroke-width: 1.5;\" width=\"209\" x=\"107\" y=\"7\"/><rect fill=\"#F8F8F8\" height=\"37.9375\" rx=\"10\" ry=\"10\" style=\"stroke: #F8F8F8; stroke-width: 1.5;\" width=\"209\" x=\"107\" y=\"7\"/><rect fill=\"#F8F8F8\" height=\"10\" style=\"stroke: #F8F8F8; stroke-width: 1.5;\" width=\"209\" x=\"107\" y=\"34.9375\"/><rect fill=\"none\" height=\"377.5\" id=\"E1\" rx=\"10\" ry=\"10\" style=\"stroke: #383838; stroke-width: 1.5;\" width=\"209\" x=\"107\" y=\"7\"/><text fill=\"#000000\" font-family=\"sans-serif\" font-size=\"12\" font-style=\"italic\" lengthAdjust=\"spacingAndGlyphs\" textLength=\"53\" x=\"185\" y=\"23.1387\">«action»</text><text fill=\"#000000\" font-family=\"sans-serif\" font-size=\"12\" lengthAdjust=\"spacingAndGlyphs\" textLength=\"8\" x=\"207.5\" y=\"37.1074\">a</text><line style=\"stroke: #383838; stroke-width: 1.0;\" x1=\"107\" x2=\"316\" y1=\"44.9375\" y2=\"44.9375\"/></a><polygon fill=\"#F8F8F8\" points=\"264,106.5,276,118.5,264,130.5,252,118.5,264,106.5\" style=\"stroke: #383838; stroke-width: 1.5;\"/><!--MD5=[a60fb756f580feb9fd8e2cf1329b5c91]\n",
       "entity E3--><a href=\"psysml:1a7559c2-685c-4c08-a29a-09c3177cd704\" target=\"_top\" title=\"psysml:1a7559c2-685c-4c08-a29a-09c3177cd704\" xlink:actuate=\"onRequest\" xlink:href=\"psysml:1a7559c2-685c-4c08-a29a-09c3177cd704\" xlink:show=\"new\" xlink:title=\"psysml:1a7559c2-685c-4c08-a29a-09c3177cd704\" xlink:type=\"simple\"><polygon fill=\"#F8F8F8\" points=\"123,147.5,123,202.0938,263,202.0938,243,174.7969,263,147.5\" style=\"stroke: #000000; stroke-width: 1.5;\"/><text fill=\"#000000\" font-family=\"sans-serif\" font-size=\"14\" font-style=\"italic\" lengthAdjust=\"spacingAndGlyphs\" textLength=\"111\" x=\"130\" y=\"170.4951\">«accept action»</text><text fill=\"#000000\" font-family=\"sans-serif\" font-size=\"14\" lengthAdjust=\"spacingAndGlyphs\" textLength=\"9\" x=\"181\" y=\"187.792\">S</text></a><!--MD5=[961cefdc15414eaa3e87aec9d17c2188]\n",
       "entity E4--><a href=\"psysml:57acc649-2893-4bd5-b427-585e4a8282d2\" target=\"_top\" title=\"psysml:57acc649-2893-4bd5-b427-585e4a8282d2\" xlink:actuate=\"onRequest\" xlink:href=\"psysml:57acc649-2893-4bd5-b427-585e4a8282d2\" xlink:show=\"new\" xlink:title=\"psysml:57acc649-2893-4bd5-b427-585e4a8282d2\" xlink:type=\"simple\"><polygon fill=\"#F8F8F8\" points=\"123,235.5,123,290.0938,231,290.0938,251,262.7969,231,235.5\" style=\"stroke: #000000; stroke-width: 1.5;\"/><text fill=\"#000000\" font-family=\"sans-serif\" font-size=\"14\" font-style=\"italic\" lengthAdjust=\"spacingAndGlyphs\" textLength=\"99\" x=\"130\" y=\"258.4951\">«send action»</text><text fill=\"#000000\" font-family=\"sans-serif\" font-size=\"14\" lengthAdjust=\"spacingAndGlyphs\" textLength=\"65\" x=\"147\" y=\"275.792\">S() to  B()</text></a><polygon fill=\"#F8F8F8\" points=\"262,307.5,274,319.5,262,331.5,250,319.5,262,307.5\" style=\"stroke: #383838; stroke-width: 1.5;\"/><ellipse cx=\"264\" cy=\"68\" fill=\"#000000\" rx=\"10\" ry=\"10\" style=\"stroke: none; stroke-width: 1.0;\"/><ellipse cx=\"262\" cy=\"358.5\" fill=\"none\" rx=\"10\" ry=\"10\" style=\"stroke: #000000; stroke-width: 1.0;\"/><ellipse cx=\"262.5\" cy=\"359\" fill=\"#000000\" rx=\"6\" ry=\"6\" style=\"stroke: none; stroke-width: 1.0;\"/><g id=\"E6\"><a href=\"psysml:86a7eb05-d2a7-4b0b-add7-eac0d2258e69\" target=\"_top\" title=\"psysml:86a7eb05-d2a7-4b0b-add7-eac0d2258e69\" xlink:actuate=\"onRequest\" xlink:href=\"psysml:86a7eb05-d2a7-4b0b-add7-eac0d2258e69\" xlink:show=\"new\" xlink:title=\"psysml:86a7eb05-d2a7-4b0b-add7-eac0d2258e69\" xlink:type=\"simple\"><rect fill=\"#FFFFFF\" height=\"42.9375\" id=\"E6\" style=\"stroke: #383838; stroke-width: 1.5;\" width=\"84\" x=\"7\" y=\"46.5\"/><rect fill=\"#F8F8F8\" height=\"37.9375\" style=\"stroke: #383838; stroke-width: 1.5;\" width=\"84\" x=\"7\" y=\"46.5\"/><text fill=\"#000000\" font-family=\"sans-serif\" font-size=\"12\" font-style=\"italic\" lengthAdjust=\"spacingAndGlyphs\" textLength=\"77\" x=\"10.5\" y=\"62.6387\">«action def»</text><text fill=\"#000000\" font-family=\"sans-serif\" font-size=\"12\" lengthAdjust=\"spacingAndGlyphs\" textLength=\"8\" x=\"45\" y=\"76.6074\">B</text></a></g><!--MD5=[cff944eb183b832d446717a4e202d613]\n",
       "link *start*E1 to E2--><a href=\"psysml:3a6c3978-61f5-46d3-ad26-c963b1b56f5b\" target=\"_top\" title=\"psysml:3a6c3978-61f5-46d3-ad26-c963b1b56f5b\" xlink:actuate=\"onRequest\" xlink:href=\"psysml:3a6c3978-61f5-46d3-ad26-c963b1b56f5b\" xlink:show=\"new\" xlink:title=\"psysml:3a6c3978-61f5-46d3-ad26-c963b1b56f5b\" xlink:type=\"simple\"><path d=\"M264,78.35 C264,84.88 264,93.77 264,101.42 \" fill=\"none\" id=\"*start*E1-&gt;E2\" style=\"stroke: #383838; stroke-width: 1.0; stroke-dasharray: 7.0,7.0;\"/><polygon fill=\"#383838\" points=\"264,106.48,268,97.48,264,101.48,260,97.48,264,106.48\" style=\"stroke: #383838; stroke-width: 1.0;\"/></a><!--MD5=[7fc47fc0d107820853a137871ad908c8]\n",
       "link E5 to *end*E1--><a href=\"psysml:36daa16f-4b44-48c5-bcb7-7a401bcea152\" target=\"_top\" title=\"psysml:36daa16f-4b44-48c5-bcb7-7a401bcea152\" xlink:actuate=\"onRequest\" xlink:href=\"psysml:36daa16f-4b44-48c5-bcb7-7a401bcea152\" xlink:show=\"new\" xlink:title=\"psysml:36daa16f-4b44-48c5-bcb7-7a401bcea152\" xlink:type=\"simple\"><path d=\"M262,331.8 C262,335.34 262,339.3 262,343.03 \" fill=\"none\" id=\"E5-&gt;*end*E1\" style=\"stroke: #383838; stroke-width: 1.0; stroke-dasharray: 7.0,7.0;\"/><polygon fill=\"#383838\" points=\"262,348.25,266,339.25,262,343.25,258,339.25,262,348.25\" style=\"stroke: #383838; stroke-width: 1.0;\"/></a><!--MD5=[2720a5a1f2c3fca2055b230370638851]\n",
       "link E2 to E3--><a href=\"psysml:c56e5692-64fd-4b0b-a986-d866765d0210\" target=\"_top\" title=\"psysml:c56e5692-64fd-4b0b-a986-d866765d0210\" xlink:actuate=\"onRequest\" xlink:href=\"psysml:c56e5692-64fd-4b0b-a986-d866765d0210\" xlink:show=\"new\" xlink:title=\"psysml:c56e5692-64fd-4b0b-a986-d866765d0210\" xlink:type=\"simple\"><path d=\"M257.45,124.53 C251.33,129.23 241.65,136.66 231.64,144.34 \" fill=\"none\" id=\"E2-&gt;E3\" style=\"stroke: #383838; stroke-width: 1.0; stroke-dasharray: 7.0,7.0;\"/><polygon fill=\"#383838\" points=\"227.64,147.41,237.2129,145.0948,231.6037,144.3621,232.3363,138.7529,227.64,147.41\" style=\"stroke: #383838; stroke-width: 1.0;\"/></a><!--MD5=[af87c684e3b0d8be13c1a698a818ef1e]\n",
       "link E3 to E4--><a href=\"psysml:363bb7e0-7ec1-401c-827a-8a23a32c7946\" target=\"_top\" title=\"psysml:363bb7e0-7ec1-401c-827a-8a23a32c7946\" xlink:actuate=\"onRequest\" xlink:href=\"psysml:363bb7e0-7ec1-401c-827a-8a23a32c7946\" xlink:show=\"new\" xlink:title=\"psysml:363bb7e0-7ec1-401c-827a-8a23a32c7946\" xlink:type=\"simple\"><path d=\"M191.13,202.74 C190.53,211.4 189.85,221.08 189.23,230.08 \" fill=\"none\" id=\"E3-&gt;E4\" style=\"stroke: #383838; stroke-width: 1.0; stroke-dasharray: 7.0,7.0;\"/><polygon fill=\"#383838\" points=\"188.86,235.28,193.468,226.5756,189.203,230.2918,185.4869,226.0268,188.86,235.28\" style=\"stroke: #383838; stroke-width: 1.0;\"/></a><!--MD5=[1b7591eae5389033d8d09a9d6721a717]\n",
       "link E4 to E5--><a href=\"psysml:84082b66-a23a-4779-a592-98d74f10d8d7\" target=\"_top\" title=\"psysml:84082b66-a23a-4779-a592-98d74f10d8d7\" xlink:actuate=\"onRequest\" xlink:href=\"psysml:84082b66-a23a-4779-a592-98d74f10d8d7\" xlink:show=\"new\" xlink:title=\"psysml:84082b66-a23a-4779-a592-98d74f10d8d7\" xlink:type=\"simple\"><path d=\"M223.62,290.61 C233.72,297.95 243.91,305.35 251.24,310.68 \" fill=\"none\" id=\"E4-&gt;E5\" style=\"stroke: #383838; stroke-width: 1.0; stroke-dasharray: 7.0,7.0;\"/><polygon fill=\"#383838\" points=\"255.42,313.72,250.4976,305.1894,251.3776,310.7774,245.7896,311.6574,255.42,313.72\" style=\"stroke: #383838; stroke-width: 1.0;\"/></a><!--MD5=[15ebcb19ae302d9b601edb458606d402]\n",
       "link E5 to E2--><a href=\"psysml:49753952-5c4c-4ef6-ad04-e80bfe7cb929\" target=\"_top\" title=\"psysml:49753952-5c4c-4ef6-ad04-e80bfe7cb929\" xlink:actuate=\"onRequest\" xlink:href=\"psysml:49753952-5c4c-4ef6-ad04-e80bfe7cb929\" xlink:show=\"new\" xlink:title=\"psysml:49753952-5c4c-4ef6-ad04-e80bfe7cb929\" xlink:type=\"simple\"><path d=\"M264.21,309.64 C266.27,301.44 269,290.5 269,290.5 C269,290.5 281,202.5 281,202.5 C281,202.5 281,147.5 281,147.5 C281,147.5 275.74,138.83 271.07,131.14 \" fill=\"none\" id=\"E5-&gt;E2\" style=\"stroke: #383838; stroke-width: 1.0; stroke-dasharray: 7.0,7.0;\"/><polygon fill=\"#383838\" points=\"268.29,126.57,269.5527,136.3376,270.8897,130.841,276.3863,132.178,268.29,126.57\" style=\"stroke: #383838; stroke-width: 1.0;\"/><text fill=\"#000000\" font-family=\"sans-serif\" font-size=\"13\" lengthAdjust=\"spacingAndGlyphs\" textLength=\"36\" x=\"280\" y=\"223.5669\">[true]</text></a><!--MD5=[1971e9e5c22290b5524a7207e5e46ca0]\n",
       "@startuml\r\n",
       "skinparam ranksep 8\r\n",
       "skinparam linetype polyline\r\n",
       "skinparam monochrome true\r\n",
       "skinparam classbackgroundcolor white\r\n",
       "skinparam shadowing false\r\n",
       "skinparam wrapWidth 300\r\n",
       "hide circle\r\n",
       "\r\n",
       "rec usage \"a\" as E1  <<(T,blue) action>> [[psysml:fa9c3421-7722-4415-b8c7-0ea19e95762e ]] {\r\n",
       "choice \"m\" as E2  [[psysml:60604585-cd78-42b0-92ae-265c1a2862a9 ]] \r\n",
       "accept \" S\" as E3 << accept action>> [[psysml:1a7559c2-685c-4c08-a29a-09c3177cd704 ]] \r\n",
       "send \" S() to  B()\" as E4 << send action>> [[psysml:57acc649-2893-4bd5-b427-585e4a8282d2 ]] \r\n",
       "choice \"noname\" as E5  [[psysml:dcda7bbd-01a5-4374-8a97-a16c2625889c ]] \r\n",
       "[*] ..> E2 [[psysml:3a6c3978-61f5-46d3-ad26-c963b1b56f5b ]] \r\n",
       "E5 ..> [*] [[psysml:36daa16f-4b44-48c5-bcb7-7a401bcea152 ]] \r\n",
       "}\r\n",
       "\r\n",
       "E2 ..> E3 [[psysml:c56e5692-64fd-4b0b-a986-d866765d0210 ]] \r\n",
       "E3 ..> E4 [[psysml:363bb7e0-7ec1-401c-827a-8a23a32c7946 ]] \r\n",
       "E4 ..> E5 [[psysml:84082b66-a23a-4779-a592-98d74f10d8d7 ]] \r\n",
       "E5 ..> E2 [[psysml:49753952-5c4c-4ef6-ad04-e80bfe7cb929 ]] : [true]\r\n",
       "rec def \"B\" as E6  <<(T,blue) action def>> [[psysml:86a7eb05-d2a7-4b0b-add7-eac0d2258e69 ]] {\r\n",
       "}\r\n",
       "\r\n",
       "@enduml\r\n",
       "\n",
       "PlantUML version 1.2020.13(Sat Jun 13 12:26:38 UTC 2020)\n",
       "(EPL source distribution)\n",
       "Java Runtime: OpenJDK Runtime Environment\n",
       "JVM: OpenJDK 64-Bit Server VM\n",
       "Default Encoding: UTF-8\n",
       "Language: en\n",
       "Country: null\n",
       "--></g></svg>"
      ]
     },
     "execution_count": 13,
     "metadata": {},
     "output_type": "execute_result"
    }
   ],
   "source": [
    "%viz --style=\"POLYLINE\" --view=\"Action\" \"ActionTest\""
   ]
  },
  {
   "cell_type": "code",
   "execution_count": 14,
   "id": "6ac3d963",
   "metadata": {
    "execution": {
     "iopub.execute_input": "2021-06-30T09:17:41.387782Z",
     "iopub.status.busy": "2021-06-30T09:17:41.387321Z",
     "iopub.status.idle": "2021-06-30T09:17:41.464845Z",
     "shell.execute_reply": "2021-06-30T09:17:41.462735Z"
    }
   },
   "outputs": [
    {
     "data": {
      "image/svg+xml": [
       "<?xml version=\"1.0\" encoding=\"UTF-8\" standalone=\"no\"?><svg xmlns=\"http://www.w3.org/2000/svg\" xmlns:xlink=\"http://www.w3.org/1999/xlink\" contentScriptType=\"application/ecmascript\" contentStyleType=\"text/css\" height=\"327px\" preserveAspectRatio=\"none\" style=\"width:677px;height:327px;\" version=\"1.1\" viewBox=\"0 0 677 327\" width=\"677px\" zoomAndPan=\"magnify\"><defs/><g><!--MD5=[fbc87193dbaf4d95561dea2c320d4a47]\n",
       "cluster E1--><a href=\"psysml:4a739ce7-b110-4093-8b74-31ee982b1e00\" target=\"_top\" title=\"psysml:4a739ce7-b110-4093-8b74-31ee982b1e00\" xlink:actuate=\"onRequest\" xlink:href=\"psysml:4a739ce7-b110-4093-8b74-31ee982b1e00\" xlink:show=\"new\" xlink:title=\"psysml:4a739ce7-b110-4093-8b74-31ee982b1e00\" xlink:type=\"simple\"><polygon fill=\"#FFFFFF\" points=\"16,6,107,6,114,28.2969,655,28.2969,655,315,16,315,16,6\" style=\"stroke: #000000; stroke-width: 1.5;\"/><line style=\"stroke: #000000; stroke-width: 1.5;\" x1=\"16\" x2=\"114\" y1=\"28.2969\" y2=\"28.2969\"/><text fill=\"#000000\" font-family=\"sans-serif\" font-size=\"14\" font-weight=\"bold\" lengthAdjust=\"spacingAndGlyphs\" textLength=\"85\" x=\"20\" y=\"20.9951\">ActionTest</text></a><!--MD5=[b4997ac47864f28c2f74865a473b2911]\n",
       "class E2--><a href=\"psysml:e3ea157b-753f-4ff0-b9f5-62b19f528d25\" target=\"_top\" title=\"psysml:e3ea157b-753f-4ff0-b9f5-62b19f528d25\" xlink:actuate=\"onRequest\" xlink:href=\"psysml:e3ea157b-753f-4ff0-b9f5-62b19f528d25\" xlink:show=\"new\" xlink:title=\"psysml:e3ea157b-753f-4ff0-b9f5-62b19f528d25\" xlink:type=\"simple\"><rect fill=\"#FFFFFF\" height=\"45.9375\" id=\"E2\" style=\"stroke: #383838; stroke-width: 1.5;\" width=\"95\" x=\"278.5\" y=\"253\"/><text fill=\"#000000\" font-family=\"sans-serif\" font-size=\"12\" font-style=\"italic\" lengthAdjust=\"spacingAndGlyphs\" textLength=\"93\" x=\"279.5\" y=\"269.1387\">«attribute def»</text><text fill=\"#000000\" font-family=\"sans-serif\" font-size=\"12\" lengthAdjust=\"spacingAndGlyphs\" textLength=\"8\" x=\"322\" y=\"283.1074\">S</text><line style=\"stroke: #383838; stroke-width: 1.5;\" x1=\"279.5\" x2=\"372.5\" y1=\"290.9375\" y2=\"290.9375\"/></a><!--MD5=[09b614a08d8cba4a07c9adeb5e0fee81]\n",
       "class E3--><a href=\"psysml:fa9c3421-7722-4415-b8c7-0ea19e95762e\" target=\"_top\" title=\"psysml:fa9c3421-7722-4415-b8c7-0ea19e95762e\" xlink:actuate=\"onRequest\" xlink:href=\"psysml:fa9c3421-7722-4415-b8c7-0ea19e95762e\" xlink:show=\"new\" xlink:title=\"psysml:fa9c3421-7722-4415-b8c7-0ea19e95762e\" xlink:type=\"simple\"><rect fill=\"#FFFFFF\" height=\"45.9375\" id=\"E3\" rx=\"10\" ry=\"10\" style=\"stroke: #383838; stroke-width: 1.5;\" width=\"55\" x=\"298.5\" y=\"41\"/><text fill=\"#000000\" font-family=\"sans-serif\" font-size=\"12\" font-style=\"italic\" lengthAdjust=\"spacingAndGlyphs\" textLength=\"53\" x=\"299.5\" y=\"57.1387\">«action»</text><text fill=\"#000000\" font-family=\"sans-serif\" font-size=\"12\" lengthAdjust=\"spacingAndGlyphs\" textLength=\"8\" x=\"322\" y=\"71.1074\">a</text><line style=\"stroke: #383838; stroke-width: 1.5;\" x1=\"299.5\" x2=\"352.5\" y1=\"78.9375\" y2=\"78.9375\"/></a><!--MD5=[ebbe1d658d1005bcc118a6aa81145e00]\n",
       "class E4--><a href=\"psysml:a6d1daf9-13da-45ca-a864-cb134e7177b5\" target=\"_top\" title=\"psysml:a6d1daf9-13da-45ca-a864-cb134e7177b5\" xlink:actuate=\"onRequest\" xlink:href=\"psysml:a6d1daf9-13da-45ca-a864-cb134e7177b5\" xlink:show=\"new\" xlink:title=\"psysml:a6d1daf9-13da-45ca-a864-cb134e7177b5\" xlink:type=\"simple\"><rect fill=\"#FFFFFF\" height=\"45.9375\" id=\"E4\" rx=\"10\" ry=\"10\" style=\"stroke: #383838; stroke-width: 1.5;\" width=\"83\" x=\"32.5\" y=\"147\"/><text fill=\"#000000\" font-family=\"sans-serif\" font-size=\"12\" font-style=\"italic\" lengthAdjust=\"spacingAndGlyphs\" textLength=\"53\" x=\"47.5\" y=\"163.1387\">«action»</text><text fill=\"#000000\" font-family=\"sans-serif\" font-size=\"12\" lengthAdjust=\"spacingAndGlyphs\" textLength=\"77\" x=\"35.5\" y=\"177.1074\">start: Action</text><line style=\"stroke: #383838; stroke-width: 1.5;\" x1=\"33.5\" x2=\"114.5\" y1=\"184.9375\" y2=\"184.9375\"/></a><!--MD5=[270fce915f116d4de14055a7c1d9a0f3]\n",
       "class E5--><a href=\"psysml:60604585-cd78-42b0-92ae-265c1a2862a9\" target=\"_top\" title=\"psysml:60604585-cd78-42b0-92ae-265c1a2862a9\" xlink:actuate=\"onRequest\" xlink:href=\"psysml:60604585-cd78-42b0-92ae-265c1a2862a9\" xlink:show=\"new\" xlink:title=\"psysml:60604585-cd78-42b0-92ae-265c1a2862a9\" xlink:type=\"simple\"><rect fill=\"#FFFFFF\" height=\"45.9375\" id=\"E5\" rx=\"10\" ry=\"10\" style=\"stroke: #383838; stroke-width: 1.5;\" width=\"89\" x=\"150.5\" y=\"147\"/><text fill=\"#000000\" font-family=\"sans-serif\" font-size=\"12\" font-style=\"italic\" lengthAdjust=\"spacingAndGlyphs\" textLength=\"87\" x=\"151.5\" y=\"163.1387\">«mergeNode»</text><text fill=\"#000000\" font-family=\"sans-serif\" font-size=\"12\" lengthAdjust=\"spacingAndGlyphs\" textLength=\"11\" x=\"189.5\" y=\"177.1074\">m</text><line style=\"stroke: #383838; stroke-width: 1.5;\" x1=\"151.5\" x2=\"238.5\" y1=\"184.9375\" y2=\"184.9375\"/></a><!--MD5=[60a26617385b1d2d0262a64233df1f8d]\n",
       "class E6--><a href=\"psysml:1a7559c2-685c-4c08-a29a-09c3177cd704\" target=\"_top\" title=\"psysml:1a7559c2-685c-4c08-a29a-09c3177cd704\" xlink:actuate=\"onRequest\" xlink:href=\"psysml:1a7559c2-685c-4c08-a29a-09c3177cd704\" xlink:show=\"new\" xlink:title=\"psysml:1a7559c2-685c-4c08-a29a-09c3177cd704\" xlink:type=\"simple\"><rect fill=\"#FFFFFF\" height=\"45.9375\" id=\"E6\" rx=\"10\" ry=\"10\" style=\"stroke: #383838; stroke-width: 1.5;\" width=\"102\" x=\"275\" y=\"147\"/><text fill=\"#000000\" font-family=\"sans-serif\" font-size=\"12\" font-style=\"italic\" lengthAdjust=\"spacingAndGlyphs\" textLength=\"100\" x=\"276\" y=\"163.1387\">«accept action»</text><text fill=\"#000000\" font-family=\"sans-serif\" font-size=\"12\" lengthAdjust=\"spacingAndGlyphs\" text-decoration=\"line-through\" textLength=\"51\" x=\"300.5\" y=\"177.1074\">noname</text><line style=\"stroke: #383838; stroke-width: 1.5;\" x1=\"276\" x2=\"376\" y1=\"184.9375\" y2=\"184.9375\"/></a><!--MD5=[2156ba9850f5573cc1fc38a6a4b2f02b]\n",
       "class E7--><a href=\"psysml:57acc649-2893-4bd5-b427-585e4a8282d2\" target=\"_top\" title=\"psysml:57acc649-2893-4bd5-b427-585e4a8282d2\" xlink:actuate=\"onRequest\" xlink:href=\"psysml:57acc649-2893-4bd5-b427-585e4a8282d2\" xlink:show=\"new\" xlink:title=\"psysml:57acc649-2893-4bd5-b427-585e4a8282d2\" xlink:type=\"simple\"><rect fill=\"#FFFFFF\" height=\"45.9375\" id=\"E7\" rx=\"10\" ry=\"10\" style=\"stroke: #383838; stroke-width: 1.5;\" width=\"90\" x=\"412\" y=\"147\"/><text fill=\"#000000\" font-family=\"sans-serif\" font-size=\"12\" font-style=\"italic\" lengthAdjust=\"spacingAndGlyphs\" textLength=\"88\" x=\"413\" y=\"163.1387\">«send action»</text><text fill=\"#000000\" font-family=\"sans-serif\" font-size=\"12\" lengthAdjust=\"spacingAndGlyphs\" text-decoration=\"line-through\" textLength=\"51\" x=\"431.5\" y=\"177.1074\">noname</text><line style=\"stroke: #383838; stroke-width: 1.5;\" x1=\"413\" x2=\"501\" y1=\"184.9375\" y2=\"184.9375\"/></a><!--MD5=[b9389687b975829384b498ac4b7476b2]\n",
       "class E8--><a href=\"psysml:dcda7bbd-01a5-4374-8a97-a16c2625889c\" target=\"_top\" title=\"psysml:dcda7bbd-01a5-4374-8a97-a16c2625889c\" xlink:actuate=\"onRequest\" xlink:href=\"psysml:dcda7bbd-01a5-4374-8a97-a16c2625889c\" xlink:show=\"new\" xlink:title=\"psysml:dcda7bbd-01a5-4374-8a97-a16c2625889c\" xlink:type=\"simple\"><rect fill=\"#FFFFFF\" height=\"45.9375\" id=\"E8\" rx=\"10\" ry=\"10\" style=\"stroke: #383838; stroke-width: 1.5;\" width=\"101\" x=\"537.5\" y=\"147\"/><text fill=\"#000000\" font-family=\"sans-serif\" font-size=\"12\" font-style=\"italic\" lengthAdjust=\"spacingAndGlyphs\" textLength=\"99\" x=\"538.5\" y=\"163.1387\">«decisionNode»</text><text fill=\"#000000\" font-family=\"sans-serif\" font-size=\"12\" lengthAdjust=\"spacingAndGlyphs\" text-decoration=\"line-through\" textLength=\"51\" x=\"562.5\" y=\"177.1074\">noname</text><line style=\"stroke: #383838; stroke-width: 1.5;\" x1=\"538.5\" x2=\"637.5\" y1=\"184.9375\" y2=\"184.9375\"/></a><!--MD5=[fd4143e9d270a159db93a4ea2a975926]\n",
       "class E9--><a href=\"psysml:86a7eb05-d2a7-4b0b-add7-eac0d2258e69\" target=\"_top\" title=\"psysml:86a7eb05-d2a7-4b0b-add7-eac0d2258e69\" xlink:actuate=\"onRequest\" xlink:href=\"psysml:86a7eb05-d2a7-4b0b-add7-eac0d2258e69\" xlink:show=\"new\" xlink:title=\"psysml:86a7eb05-d2a7-4b0b-add7-eac0d2258e69\" xlink:type=\"simple\"><rect fill=\"#FFFFFF\" height=\"45.9375\" id=\"E9\" style=\"stroke: #383838; stroke-width: 1.5;\" width=\"79\" x=\"108.5\" y=\"41\"/><text fill=\"#000000\" font-family=\"sans-serif\" font-size=\"12\" font-style=\"italic\" lengthAdjust=\"spacingAndGlyphs\" textLength=\"77\" x=\"109.5\" y=\"57.1387\">«action def»</text><text fill=\"#000000\" font-family=\"sans-serif\" font-size=\"12\" lengthAdjust=\"spacingAndGlyphs\" textLength=\"8\" x=\"144\" y=\"71.1074\">B</text><line style=\"stroke: #383838; stroke-width: 1.5;\" x1=\"109.5\" x2=\"186.5\" y1=\"78.9375\" y2=\"78.9375\"/></a><!--MD5=[4672eba38e49728da53d11aeb285b987]\n",
       "reverse link E3 to E4--><a href=\"psysml:52dfc4ad-a62d-4432-a88b-57c0a80d621d\" target=\"_top\" title=\"psysml:52dfc4ad-a62d-4432-a88b-57c0a80d621d\" xlink:actuate=\"onRequest\" xlink:href=\"psysml:52dfc4ad-a62d-4432-a88b-57c0a80d621d\" xlink:show=\"new\" xlink:title=\"psysml:52dfc4ad-a62d-4432-a88b-57c0a80d621d\" xlink:type=\"simple\"><path d=\"M285.79,81.6 C239.27,100.79 163.05,132.25 115.85,151.73 \" fill=\"none\" id=\"E3&lt;-E4\" style=\"stroke: #383838; stroke-width: 1.0;\"/><polygon fill=\"#FFFFFF\" points=\"298.07,76.53,290.9979,75.1209,286.9771,81.107,294.0492,82.5161,298.07,76.53\" style=\"stroke: #383838; stroke-width: 1.0;\"/></a><!--MD5=[191cde3d490a3f6d7bb551fe3ddca469]\n",
       "reverse link E3 to E5--><a href=\"psysml:99d9f5a6-f2b4-4631-bd24-2952b87c2311\" target=\"_top\" title=\"psysml:99d9f5a6-f2b4-4631-bd24-2952b87c2311\" xlink:actuate=\"onRequest\" xlink:href=\"psysml:99d9f5a6-f2b4-4631-bd24-2952b87c2311\" xlink:show=\"new\" xlink:title=\"psysml:99d9f5a6-f2b4-4631-bd24-2952b87c2311\" xlink:type=\"simple\"><path d=\"M287.79,95.33 C266.97,111.86 241.66,131.95 222.74,146.98 \" fill=\"none\" id=\"E3&lt;-E5\" style=\"stroke: #383838; stroke-width: 1.0;\"/><polygon fill=\"#383838\" points=\"298.22,87.06,291.0341,87.6625,288.8265,94.5273,296.0123,93.9249,298.22,87.06\" style=\"stroke: #383838; stroke-width: 1.0;\"/></a><!--MD5=[1026b4b93417a13aa8999a858998add2]\n",
       "reverse link E3 to E6--><a href=\"psysml:14dfaf6d-db59-420e-a3c6-2cc6bbb5f023\" target=\"_top\" title=\"psysml:14dfaf6d-db59-420e-a3c6-2cc6bbb5f023\" xlink:actuate=\"onRequest\" xlink:href=\"psysml:14dfaf6d-db59-420e-a3c6-2cc6bbb5f023\" xlink:show=\"new\" xlink:title=\"psysml:14dfaf6d-db59-420e-a3c6-2cc6bbb5f023\" xlink:type=\"simple\"><path d=\"M326,100.44 C326,115.87 326,133.47 326,146.98 \" fill=\"none\" id=\"E3&lt;-E6\" style=\"stroke: #383838; stroke-width: 1.0;\"/><polygon fill=\"#FFFFFF\" points=\"326,87.06,322,93.06,326,99.06,330,93.06,326,87.06\" style=\"stroke: #383838; stroke-width: 1.0;\"/></a><!--MD5=[3403bfa781cc3da0fd423dbab6f01c63]\n",
       "reverse link E6 to E2--><a href=\"psysml:773d19c1-1d9b-4741-b5ba-dd5a31e080a3\" target=\"_top\" title=\"psysml:773d19c1-1d9b-4741-b5ba-dd5a31e080a3\" xlink:actuate=\"onRequest\" xlink:href=\"psysml:773d19c1-1d9b-4741-b5ba-dd5a31e080a3\" xlink:show=\"new\" xlink:title=\"psysml:773d19c1-1d9b-4741-b5ba-dd5a31e080a3\" xlink:type=\"simple\"><path d=\"M326,206.44 C326,221.87 326,239.47 326,252.98 \" fill=\"none\" id=\"E6&lt;-E2\" style=\"stroke: #383838; stroke-width: 1.0;\"/><polygon fill=\"#FFFFFF\" points=\"326,193.06,322,199.06,326,205.06,330,199.06,326,193.06\" style=\"stroke: #383838; stroke-width: 1.0;\"/></a><!--MD5=[85760999379eecfd2565a9fecdca67e4]\n",
       "reverse link E3 to E7--><a href=\"psysml:4bddb34b-31d0-4487-9835-f5e5c1238220\" target=\"_top\" title=\"psysml:4bddb34b-31d0-4487-9835-f5e5c1238220\" xlink:actuate=\"onRequest\" xlink:href=\"psysml:4bddb34b-31d0-4487-9835-f5e5c1238220\" xlink:show=\"new\" xlink:title=\"psysml:4bddb34b-31d0-4487-9835-f5e5c1238220\" xlink:type=\"simple\"><path d=\"M364.21,95.33 C385.03,111.86 410.34,131.95 429.26,146.98 \" fill=\"none\" id=\"E3&lt;-E7\" style=\"stroke: #383838; stroke-width: 1.0;\"/><polygon fill=\"#FFFFFF\" points=\"353.78,87.06,355.9877,93.9249,363.1735,94.5273,360.9659,87.6625,353.78,87.06\" style=\"stroke: #383838; stroke-width: 1.0;\"/></a><!--MD5=[4cb75b73ec3682b8f7f8edc9cc86126a]\n",
       "reverse link E3 to E8--><a href=\"psysml:010ce356-5f58-462c-8431-75351dc3ac74\" target=\"_top\" title=\"psysml:010ce356-5f58-462c-8431-75351dc3ac74\" xlink:actuate=\"onRequest\" xlink:href=\"psysml:010ce356-5f58-462c-8431-75351dc3ac74\" xlink:show=\"new\" xlink:title=\"psysml:010ce356-5f58-462c-8431-75351dc3ac74\" xlink:type=\"simple\"><path d=\"M365.63,80.73 C411.46,98.92 486.99,128.91 537.12,148.8 \" fill=\"none\" id=\"E3&lt;-E8\" style=\"stroke: #383838; stroke-width: 1.0;\"/><polygon fill=\"#383838\" points=\"353.54,75.93,357.6459,81.858,364.6971,80.348,360.5912,74.42,353.54,75.93\" style=\"stroke: #383838; stroke-width: 1.0;\"/></a><!--MD5=[25e2f1577bb338f6088879ffa89f96cf]\n",
       "@startuml\r\n",
       "skinparam linetype polyline\r\n",
       "skinparam monochrome true\r\n",
       "skinparam classbackgroundcolor white\r\n",
       "skinparam shadowing false\r\n",
       "skinparam wrapWidth 300\r\n",
       "hide circle\r\n",
       "\r\n",
       "package \"ActionTest\" as E1  [[psysml:4a739ce7-b110-4093-8b74-31ee982b1e00 ]]  {\r\n",
       "comp def \"S\" as E2  <<(T,blue) attribute def>> [[psysml:e3ea157b-753f-4ff0-b9f5-62b19f528d25 ]] {\r\n",
       "}\r\n",
       "comp usage \"a\" as E3  <<(T,blue) action>> [[psysml:fa9c3421-7722-4415-b8c7-0ea19e95762e ]] {\r\n",
       "}\r\n",
       "comp usage \"start: Action\" as E4  <<(T,blue) action>> [[psysml:a6d1daf9-13da-45ca-a864-cb134e7177b5 ]] {\r\n",
       "}\r\n",
       "comp usage \"m\" as E5  <<(T,blue) mergeNode>> [[psysml:60604585-cd78-42b0-92ae-265c1a2862a9 ]] {\r\n",
       "}\r\n",
       "comp usage \"<s>noname</s>\" as E6 << accept action>> [[psysml:1a7559c2-685c-4c08-a29a-09c3177cd704 ]] {\r\n",
       "}\r\n",
       "comp usage \"<s>noname</s>\" as E7 << send action>> [[psysml:57acc649-2893-4bd5-b427-585e4a8282d2 ]] {\r\n",
       "}\r\n",
       "comp usage \"<s>noname</s>\" as E8  <<(T,blue) decisionNode>> [[psysml:dcda7bbd-01a5-4374-8a97-a16c2625889c ]] {\r\n",
       "}\r\n",
       "comp def \"B\" as E9  <<(T,blue) action def>> [[psysml:86a7eb05-d2a7-4b0b-add7-eac0d2258e69 ]] {\r\n",
       "}\r\n",
       "E3 o- - E4 [[psysml:52dfc4ad-a62d-4432-a88b-57c0a80d621d ]] \r\n",
       "E3 *- - E5 [[psysml:99d9f5a6-f2b4-4631-bd24-2952b87c2311 ]] \r\n",
       "E3 o- - E6 [[psysml:14dfaf6d-db59-420e-a3c6-2cc6bbb5f023 ]] \r\n",
       "E6 o- - E2 [[psysml:773d19c1-1d9b-4741-b5ba-dd5a31e080a3 ]] \r\n",
       "E3 o- - E7 [[psysml:4bddb34b-31d0-4487-9835-f5e5c1238220 ]] \r\n",
       "E3 *- - E8 [[psysml:010ce356-5f58-462c-8431-75351dc3ac74 ]] \r\n",
       "}\r\n",
       "@enduml\r\n",
       "\n",
       "PlantUML version 1.2020.13(Sat Jun 13 12:26:38 UTC 2020)\n",
       "(EPL source distribution)\n",
       "Java Runtime: OpenJDK Runtime Environment\n",
       "JVM: OpenJDK 64-Bit Server VM\n",
       "Default Encoding: UTF-8\n",
       "Language: en\n",
       "Country: null\n",
       "--></g></svg>"
      ]
     },
     "execution_count": 14,
     "metadata": {},
     "output_type": "execute_result"
    }
   ],
   "source": [
    "%viz --style=\"POLYLINE\" --view=\"Sequence\" \"ActionTest\""
   ]
  },
  {
   "cell_type": "code",
   "execution_count": 15,
   "id": "20fa2e50",
   "metadata": {
    "execution": {
     "iopub.execute_input": "2021-06-30T09:17:41.510968Z",
     "iopub.status.busy": "2021-06-30T09:17:41.510438Z",
     "iopub.status.idle": "2021-06-30T09:17:41.606854Z",
     "shell.execute_reply": "2021-06-30T09:17:41.605051Z"
    }
   },
   "outputs": [
    {
     "data": {
      "image/svg+xml": [
       "<?xml version=\"1.0\" encoding=\"UTF-8\" standalone=\"no\"?><svg xmlns=\"http://www.w3.org/2000/svg\" xmlns:xlink=\"http://www.w3.org/1999/xlink\" contentScriptType=\"application/ecmascript\" contentStyleType=\"text/css\" height=\"684px\" preserveAspectRatio=\"none\" style=\"width:518px;height:684px;\" version=\"1.1\" viewBox=\"0 0 518 684\" width=\"518px\" zoomAndPan=\"magnify\"><defs/><g><!--MD5=[fbc87193dbaf4d95561dea2c320d4a47]\n",
       "cluster E1--><a href=\"psysml:4a739ce7-b110-4093-8b74-31ee982b1e00\" target=\"_top\" title=\"psysml:4a739ce7-b110-4093-8b74-31ee982b1e00\" xlink:actuate=\"onRequest\" xlink:href=\"psysml:4a739ce7-b110-4093-8b74-31ee982b1e00\" xlink:show=\"new\" xlink:title=\"psysml:4a739ce7-b110-4093-8b74-31ee982b1e00\" xlink:type=\"simple\"><polygon fill=\"#FFFFFF\" points=\"16,6,107,6,114,28.2969,496,28.2969,496,672,16,672,16,6\" style=\"stroke: #000000; stroke-width: 1.5;\"/><line style=\"stroke: #000000; stroke-width: 1.5;\" x1=\"16\" x2=\"114\" y1=\"28.2969\" y2=\"28.2969\"/><text fill=\"#000000\" font-family=\"sans-serif\" font-size=\"14\" font-weight=\"bold\" lengthAdjust=\"spacingAndGlyphs\" textLength=\"85\" x=\"20\" y=\"20.9951\">ActionTest</text></a><!--MD5=[d5e69f78d87373223dbae638b30a9c99]\n",
       "cluster E3--><a href=\"psysml:fa9c3421-7722-4415-b8c7-0ea19e95762e\" target=\"_top\" title=\"psysml:fa9c3421-7722-4415-b8c7-0ea19e95762e\" xlink:actuate=\"onRequest\" xlink:href=\"psysml:fa9c3421-7722-4415-b8c7-0ea19e95762e\" xlink:show=\"new\" xlink:title=\"psysml:fa9c3421-7722-4415-b8c7-0ea19e95762e\" xlink:type=\"simple\"><rect fill=\"#FFFFFF\" height=\"599\" id=\"E3\" rx=\"10\" ry=\"10\" style=\"stroke: #383838; stroke-width: 1.5;\" width=\"209\" x=\"263\" y=\"49\"/><rect fill=\"#F8F8F8\" height=\"37.9375\" rx=\"10\" ry=\"10\" style=\"stroke: #F8F8F8; stroke-width: 1.5;\" width=\"209\" x=\"263\" y=\"49\"/><rect fill=\"#F8F8F8\" height=\"10\" style=\"stroke: #F8F8F8; stroke-width: 1.5;\" width=\"209\" x=\"263\" y=\"76.9375\"/><rect fill=\"none\" height=\"599\" id=\"E3\" rx=\"10\" ry=\"10\" style=\"stroke: #383838; stroke-width: 1.5;\" width=\"209\" x=\"263\" y=\"49\"/><text fill=\"#000000\" font-family=\"sans-serif\" font-size=\"12\" font-style=\"italic\" lengthAdjust=\"spacingAndGlyphs\" textLength=\"53\" x=\"341\" y=\"65.1387\">«action»</text><text fill=\"#000000\" font-family=\"sans-serif\" font-size=\"12\" lengthAdjust=\"spacingAndGlyphs\" textLength=\"8\" x=\"363.5\" y=\"79.1074\">a</text><line style=\"stroke: #383838; stroke-width: 1.0;\" x1=\"263\" x2=\"472\" y1=\"86.9375\" y2=\"86.9375\"/></a><!--MD5=[b4997ac47864f28c2f74865a473b2911]\n",
       "class E2--><a href=\"psysml:e3ea157b-753f-4ff0-b9f5-62b19f528d25\" target=\"_top\" title=\"psysml:e3ea157b-753f-4ff0-b9f5-62b19f528d25\" xlink:actuate=\"onRequest\" xlink:href=\"psysml:e3ea157b-753f-4ff0-b9f5-62b19f528d25\" xlink:show=\"new\" xlink:title=\"psysml:e3ea157b-753f-4ff0-b9f5-62b19f528d25\" xlink:type=\"simple\"><rect fill=\"#FFFFFF\" height=\"45.9375\" id=\"E2\" style=\"stroke: #383838; stroke-width: 1.5;\" width=\"95\" x=\"151.5\" y=\"87\"/><text fill=\"#000000\" font-family=\"sans-serif\" font-size=\"12\" font-style=\"italic\" lengthAdjust=\"spacingAndGlyphs\" textLength=\"93\" x=\"152.5\" y=\"103.1387\">«attribute def»</text><text fill=\"#000000\" font-family=\"sans-serif\" font-size=\"12\" lengthAdjust=\"spacingAndGlyphs\" textLength=\"8\" x=\"195\" y=\"117.1074\">S</text><line style=\"stroke: #383838; stroke-width: 1.5;\" x1=\"152.5\" x2=\"245.5\" y1=\"124.9375\" y2=\"124.9375\"/></a><polygon fill=\"#F8F8F8\" points=\"420,194,432,206,420,218,408,206,420,194\" style=\"stroke: #383838; stroke-width: 1.5;\"/><!--MD5=[21dd76c19d33815960c0e92fef8f0eef]\n",
       "entity E5--><a href=\"psysml:1a7559c2-685c-4c08-a29a-09c3177cd704\" target=\"_top\" title=\"psysml:1a7559c2-685c-4c08-a29a-09c3177cd704\" xlink:actuate=\"onRequest\" xlink:href=\"psysml:1a7559c2-685c-4c08-a29a-09c3177cd704\" xlink:show=\"new\" xlink:title=\"psysml:1a7559c2-685c-4c08-a29a-09c3177cd704\" xlink:type=\"simple\"><polygon fill=\"#F8F8F8\" points=\"279,279,279,333.5938,419,333.5938,399,306.2969,419,279\" style=\"stroke: #000000; stroke-width: 1.5;\"/><text fill=\"#000000\" font-family=\"sans-serif\" font-size=\"14\" font-style=\"italic\" lengthAdjust=\"spacingAndGlyphs\" textLength=\"111\" x=\"286\" y=\"301.9951\">«accept action»</text><text fill=\"#000000\" font-family=\"sans-serif\" font-size=\"14\" lengthAdjust=\"spacingAndGlyphs\" textLength=\"9\" x=\"337\" y=\"319.292\">S</text></a><!--MD5=[24d87cdf3002d433f401b2a2aa9f9f65]\n",
       "entity E6--><a href=\"psysml:57acc649-2893-4bd5-b427-585e4a8282d2\" target=\"_top\" title=\"psysml:57acc649-2893-4bd5-b427-585e4a8282d2\" xlink:actuate=\"onRequest\" xlink:href=\"psysml:57acc649-2893-4bd5-b427-585e4a8282d2\" xlink:show=\"new\" xlink:title=\"psysml:57acc649-2893-4bd5-b427-585e4a8282d2\" xlink:type=\"simple\"><polygon fill=\"#F8F8F8\" points=\"279,411,279,465.5938,387,465.5938,407,438.2969,387,411\" style=\"stroke: #000000; stroke-width: 1.5;\"/><text fill=\"#000000\" font-family=\"sans-serif\" font-size=\"14\" font-style=\"italic\" lengthAdjust=\"spacingAndGlyphs\" textLength=\"99\" x=\"286\" y=\"433.9951\">«send action»</text><text fill=\"#000000\" font-family=\"sans-serif\" font-size=\"14\" lengthAdjust=\"spacingAndGlyphs\" textLength=\"65\" x=\"303\" y=\"451.292\">S() to  B()</text></a><polygon fill=\"#F8F8F8\" points=\"418,527,430,539,418,551,406,539,418,527\" style=\"stroke: #383838; stroke-width: 1.5;\"/><ellipse cx=\"420\" cy=\"110\" fill=\"#000000\" rx=\"10\" ry=\"10\" style=\"stroke: none; stroke-width: 1.0;\"/><ellipse cx=\"418\" cy=\"622\" fill=\"none\" rx=\"10\" ry=\"10\" style=\"stroke: #000000; stroke-width: 1.0;\"/><ellipse cx=\"418.5\" cy=\"622.5\" fill=\"#000000\" rx=\"6\" ry=\"6\" style=\"stroke: none; stroke-width: 1.0;\"/><g id=\"E1.E8\"><a href=\"psysml:86a7eb05-d2a7-4b0b-add7-eac0d2258e69\" target=\"_top\" title=\"psysml:86a7eb05-d2a7-4b0b-add7-eac0d2258e69\" xlink:actuate=\"onRequest\" xlink:href=\"psysml:86a7eb05-d2a7-4b0b-add7-eac0d2258e69\" xlink:show=\"new\" xlink:title=\"psysml:86a7eb05-d2a7-4b0b-add7-eac0d2258e69\" xlink:type=\"simple\"><rect fill=\"#FFFFFF\" height=\"42.9375\" id=\"E8\" style=\"stroke: #383838; stroke-width: 1.5;\" width=\"84\" x=\"32\" y=\"88.5\"/><rect fill=\"#F8F8F8\" height=\"37.9375\" style=\"stroke: #383838; stroke-width: 1.5;\" width=\"84\" x=\"32\" y=\"88.5\"/><text fill=\"#000000\" font-family=\"sans-serif\" font-size=\"12\" font-style=\"italic\" lengthAdjust=\"spacingAndGlyphs\" textLength=\"77\" x=\"35.5\" y=\"104.6387\">«action def»</text><text fill=\"#000000\" font-family=\"sans-serif\" font-size=\"12\" lengthAdjust=\"spacingAndGlyphs\" textLength=\"8\" x=\"70\" y=\"118.6074\">B</text></a></g><!--MD5=[f47e10efcf9a6752d55dae986d790ed9]\n",
       "link *start*E3 to E4--><a href=\"psysml:3a6c3978-61f5-46d3-ad26-c963b1b56f5b\" target=\"_top\" title=\"psysml:3a6c3978-61f5-46d3-ad26-c963b1b56f5b\" xlink:actuate=\"onRequest\" xlink:href=\"psysml:3a6c3978-61f5-46d3-ad26-c963b1b56f5b\" xlink:show=\"new\" xlink:title=\"psysml:3a6c3978-61f5-46d3-ad26-c963b1b56f5b\" xlink:type=\"simple\"><path d=\"M420,120.01 C420,135.81 420,168.69 420,188.61 \" fill=\"none\" id=\"*start*E3-&gt;E4\" style=\"stroke: #383838; stroke-width: 1.0;\"/><polygon fill=\"#383838\" points=\"420,193.85,424,184.85,420,188.85,416,184.85,420,193.85\" style=\"stroke: #383838; stroke-width: 1.0;\"/></a><!--MD5=[d19f2eb34364d71b67042106d92f540b]\n",
       "link E7 to *end*E3--><a href=\"psysml:36daa16f-4b44-48c5-bcb7-7a401bcea152\" target=\"_top\" title=\"psysml:36daa16f-4b44-48c5-bcb7-7a401bcea152\" xlink:actuate=\"onRequest\" xlink:href=\"psysml:36daa16f-4b44-48c5-bcb7-7a401bcea152\" xlink:show=\"new\" xlink:title=\"psysml:36daa16f-4b44-48c5-bcb7-7a401bcea152\" xlink:type=\"simple\"><path d=\"M418,551.26 C418,565.66 418,590.63 418,606.46 \" fill=\"none\" id=\"E7-&gt;*end*E3\" style=\"stroke: #383838; stroke-width: 1.0;\"/><polygon fill=\"#383838\" points=\"418,611.84,422,602.84,418,606.84,414,602.84,418,611.84\" style=\"stroke: #383838; stroke-width: 1.0;\"/></a><!--MD5=[1b7591eae5389033d8d09a9d6721a717]\n",
       "link E4 to E5--><a href=\"psysml:c56e5692-64fd-4b0b-a986-d866765d0210\" target=\"_top\" title=\"psysml:c56e5692-64fd-4b0b-a986-d866765d0210\" xlink:actuate=\"onRequest\" xlink:href=\"psysml:c56e5692-64fd-4b0b-a986-d866765d0210\" xlink:show=\"new\" xlink:title=\"psysml:c56e5692-64fd-4b0b-a986-d866765d0210\" xlink:type=\"simple\"><path d=\"M415.34,213.46 C406.55,225.66 386.99,252.8 371.37,274.46 \" fill=\"none\" id=\"E4-&gt;E5\" style=\"stroke: #383838; stroke-width: 1.0;\"/><polygon fill=\"#383838\" points=\"368.31,278.71,376.8093,273.7339,371.227,274.6491,370.3119,269.0667,368.31,278.71\" style=\"stroke: #383838; stroke-width: 1.0;\"/></a><!--MD5=[9120cf2e5df3bff93db8f754bbbc09b4]\n",
       "link E5 to E6--><a href=\"psysml:363bb7e0-7ec1-401c-827a-8a23a32c7946\" target=\"_top\" title=\"psysml:363bb7e0-7ec1-401c-827a-8a23a32c7946\" xlink:actuate=\"onRequest\" xlink:href=\"psysml:363bb7e0-7ec1-401c-827a-8a23a32c7946\" xlink:show=\"new\" xlink:title=\"psysml:363bb7e0-7ec1-401c-827a-8a23a32c7946\" xlink:type=\"simple\"><path d=\"M347.77,334.12 C346.81,354.89 345.48,383.8 344.46,405.77 \" fill=\"none\" id=\"E5-&gt;E6\" style=\"stroke: #383838; stroke-width: 1.0;\"/><polygon fill=\"#383838\" points=\"344.23,410.91,348.6368,402.1021,344.4583,405.9152,340.6452,401.7367,344.23,410.91\" style=\"stroke: #383838; stroke-width: 1.0;\"/></a><!--MD5=[02c70b7c851c11e3980e4e90450dc5dd]\n",
       "link E6 to E7--><a href=\"psysml:84082b66-a23a-4779-a592-98d74f10d8d7\" target=\"_top\" title=\"psysml:84082b66-a23a-4779-a592-98d74f10d8d7\" xlink:actuate=\"onRequest\" xlink:href=\"psysml:84082b66-a23a-4779-a592-98d74f10d8d7\" xlink:show=\"new\" xlink:title=\"psysml:84082b66-a23a-4779-a592-98d74f10d8d7\" xlink:type=\"simple\"><path d=\"M363.3,466.16 C378.71,486.4 399.07,513.14 410.09,527.61 \" fill=\"none\" id=\"E6-&gt;E7\" style=\"stroke: #383838; stroke-width: 1.0;\"/><polygon fill=\"#383838\" points=\"413.2,531.69,410.9398,522.104,410.1749,527.7089,404.57,526.9441,413.2,531.69\" style=\"stroke: #383838; stroke-width: 1.0;\"/></a><!--MD5=[6bdd27f9905911a7e892a3dc65cf6b7c]\n",
       "link E7 to E4--><a href=\"psysml:49753952-5c4c-4ef6-ad04-e80bfe7cb929\" target=\"_top\" title=\"psysml:49753952-5c4c-4ef6-ad04-e80bfe7cb929\" xlink:actuate=\"onRequest\" xlink:href=\"psysml:49753952-5c4c-4ef6-ad04-e80bfe7cb929\" xlink:show=\"new\" xlink:title=\"psysml:49753952-5c4c-4ef6-ad04-e80bfe7cb929\" xlink:type=\"simple\"><path d=\"M419,527.68 C420.94,507.78 425,466 425,466 C425,466 437,334 437,334 C437,334 437,279 437,279 C437,279 428.27,242.03 423.32,221.07 \" fill=\"none\" id=\"E7-&gt;E4\" style=\"stroke: #383838; stroke-width: 1.0;\"/><polygon fill=\"#383838\" points=\"422.15,216.12,420.3382,225.8008,423.3055,220.9846,428.1217,223.9519,422.15,216.12\" style=\"stroke: #383838; stroke-width: 1.0;\"/><text fill=\"#000000\" font-family=\"sans-serif\" font-size=\"13\" lengthAdjust=\"spacingAndGlyphs\" textLength=\"36\" x=\"435\" y=\"377.0669\">[true]</text></a><!--MD5=[3e1a890f063eee40f1a5170194a91d47]\n",
       "@startuml\r\n",
       "skinparam linetype polyline\r\n",
       "skinparam monochrome true\r\n",
       "skinparam classbackgroundcolor white\r\n",
       "skinparam shadowing false\r\n",
       "skinparam wrapWidth 300\r\n",
       "hide circle\r\n",
       "\r\n",
       "package \"ActionTest\" as E1  [[psysml:4a739ce7-b110-4093-8b74-31ee982b1e00 ]]  {\r\n",
       "comp def \"S\" as E2  <<(T,blue) attribute def>> [[psysml:e3ea157b-753f-4ff0-b9f5-62b19f528d25 ]] {\r\n",
       "}\r\n",
       "rec usage \"a\" as E3  <<(T,blue) action>> [[psysml:fa9c3421-7722-4415-b8c7-0ea19e95762e ]] {\r\n",
       "choice \"m\" as E4  [[psysml:60604585-cd78-42b0-92ae-265c1a2862a9 ]] \r\n",
       "accept \" S\" as E5 << accept action>> [[psysml:1a7559c2-685c-4c08-a29a-09c3177cd704 ]] \r\n",
       "send \" S() to  B()\" as E6 << send action>> [[psysml:57acc649-2893-4bd5-b427-585e4a8282d2 ]] \r\n",
       "choice \"noname\" as E7  [[psysml:dcda7bbd-01a5-4374-8a97-a16c2625889c ]] \r\n",
       "[*] - -> E4 [[psysml:3a6c3978-61f5-46d3-ad26-c963b1b56f5b ]] \r\n",
       "E7  - -> [*] [[psysml:36daa16f-4b44-48c5-bcb7-7a401bcea152 ]] \r\n",
       "}\r\n",
       "\r\n",
       "rec def \"B\" as E8  <<(T,blue) action def>> [[psysml:86a7eb05-d2a7-4b0b-add7-eac0d2258e69 ]] {\r\n",
       "}\r\n",
       "\r\n",
       "E4 - -> E5 [[psysml:c56e5692-64fd-4b0b-a986-d866765d0210 ]] \r\n",
       "E5 - -> E6 [[psysml:363bb7e0-7ec1-401c-827a-8a23a32c7946 ]] \r\n",
       "E6 - -> E7 [[psysml:84082b66-a23a-4779-a592-98d74f10d8d7 ]] \r\n",
       "E7  - -> E4 [[psysml:49753952-5c4c-4ef6-ad04-e80bfe7cb929 ]] : [true]\r\n",
       "}\r\n",
       "@enduml\r\n",
       "\n",
       "PlantUML version 1.2020.13(Sat Jun 13 12:26:38 UTC 2020)\n",
       "(EPL source distribution)\n",
       "Java Runtime: OpenJDK Runtime Environment\n",
       "JVM: OpenJDK 64-Bit Server VM\n",
       "Default Encoding: UTF-8\n",
       "Language: en\n",
       "Country: null\n",
       "--></g></svg>"
      ]
     },
     "execution_count": 15,
     "metadata": {},
     "output_type": "execute_result"
    }
   ],
   "source": [
    "%viz --style=\"POLYLINE\" --view=\"MIXED\" \"ActionTest\""
   ]
  },
  {
   "cell_type": "code",
   "execution_count": 16,
   "id": "3bef7d5a",
   "metadata": {
    "execution": {
     "iopub.execute_input": "2021-06-30T09:17:41.658721Z",
     "iopub.status.busy": "2021-06-30T09:17:41.658041Z",
     "iopub.status.idle": "2021-06-30T09:17:41.747565Z",
     "shell.execute_reply": "2021-06-30T09:17:41.747882Z"
    }
   },
   "outputs": [
    {
     "data": {
      "image/svg+xml": [
       "<?xml version=\"1.0\" encoding=\"UTF-8\" standalone=\"no\"?><svg xmlns=\"http://www.w3.org/2000/svg\" xmlns:xlink=\"http://www.w3.org/1999/xlink\" contentScriptType=\"application/ecmascript\" contentStyleType=\"text/css\" height=\"378px\" preserveAspectRatio=\"none\" style=\"width:867px;height:378px;\" version=\"1.1\" viewBox=\"0 0 867 378\" width=\"867px\" zoomAndPan=\"magnify\"><defs/><g><!--MD5=[fbc87193dbaf4d95561dea2c320d4a47]\n",
       "cluster E1--><a href=\"psysml:4a739ce7-b110-4093-8b74-31ee982b1e00\" target=\"_top\" title=\"psysml:4a739ce7-b110-4093-8b74-31ee982b1e00\" xlink:actuate=\"onRequest\" xlink:href=\"psysml:4a739ce7-b110-4093-8b74-31ee982b1e00\" xlink:show=\"new\" xlink:title=\"psysml:4a739ce7-b110-4093-8b74-31ee982b1e00\" xlink:type=\"simple\"><polygon fill=\"#FFFFFF\" points=\"16,6,107,6,114,28.2969,845,28.2969,845,366,16,366,16,6\" style=\"stroke: #000000; stroke-width: 1.5;\"/><line style=\"stroke: #000000; stroke-width: 1.5;\" x1=\"16\" x2=\"114\" y1=\"28.2969\" y2=\"28.2969\"/><text fill=\"#000000\" font-family=\"sans-serif\" font-size=\"14\" font-weight=\"bold\" lengthAdjust=\"spacingAndGlyphs\" textLength=\"85\" x=\"20\" y=\"20.9951\">ActionTest</text></a><!--MD5=[d5e69f78d87373223dbae638b30a9c99]\n",
       "cluster E3--><a href=\"psysml:fa9c3421-7722-4415-b8c7-0ea19e95762e\" target=\"_top\" title=\"psysml:fa9c3421-7722-4415-b8c7-0ea19e95762e\" xlink:actuate=\"onRequest\" xlink:href=\"psysml:fa9c3421-7722-4415-b8c7-0ea19e95762e\" xlink:show=\"new\" xlink:title=\"psysml:fa9c3421-7722-4415-b8c7-0ea19e95762e\" xlink:type=\"simple\"><rect fill=\"#FFFFFF\" height=\"160\" id=\"E3\" rx=\"10\" ry=\"10\" style=\"stroke: #383838; stroke-width: 1.5;\" width=\"767.5\" x=\"53.5\" y=\"49\"/><rect fill=\"#F8F8F8\" height=\"37.9375\" rx=\"10\" ry=\"10\" style=\"stroke: #F8F8F8; stroke-width: 1.5;\" width=\"767.5\" x=\"53.5\" y=\"49\"/><rect fill=\"#F8F8F8\" height=\"10\" style=\"stroke: #F8F8F8; stroke-width: 1.5;\" width=\"767.5\" x=\"53.5\" y=\"76.9375\"/><rect fill=\"none\" height=\"160\" id=\"E3\" rx=\"10\" ry=\"10\" style=\"stroke: #383838; stroke-width: 1.5;\" width=\"767.5\" x=\"53.5\" y=\"49\"/><text fill=\"#000000\" font-family=\"sans-serif\" font-size=\"12\" font-style=\"italic\" lengthAdjust=\"spacingAndGlyphs\" textLength=\"53\" x=\"410.75\" y=\"65.1387\">«action»</text><text fill=\"#000000\" font-family=\"sans-serif\" font-size=\"12\" lengthAdjust=\"spacingAndGlyphs\" textLength=\"8\" x=\"433.25\" y=\"79.1074\">a</text><line style=\"stroke: #383838; stroke-width: 1.0;\" x1=\"53.5\" x2=\"821\" y1=\"86.9375\" y2=\"86.9375\"/></a><!--MD5=[b4997ac47864f28c2f74865a473b2911]\n",
       "class E2--><a href=\"psysml:e3ea157b-753f-4ff0-b9f5-62b19f528d25\" target=\"_top\" title=\"psysml:e3ea157b-753f-4ff0-b9f5-62b19f528d25\" xlink:actuate=\"onRequest\" xlink:href=\"psysml:e3ea157b-753f-4ff0-b9f5-62b19f528d25\" xlink:show=\"new\" xlink:title=\"psysml:e3ea157b-753f-4ff0-b9f5-62b19f528d25\" xlink:type=\"simple\"><rect fill=\"#FFFFFF\" height=\"45.9375\" id=\"E2\" style=\"stroke: #383838; stroke-width: 1.5;\" width=\"95\" x=\"32\" y=\"225\"/><text fill=\"#000000\" font-family=\"sans-serif\" font-size=\"12\" font-style=\"italic\" lengthAdjust=\"spacingAndGlyphs\" textLength=\"93\" x=\"33\" y=\"241.1387\">«attribute def»</text><text fill=\"#000000\" font-family=\"sans-serif\" font-size=\"12\" lengthAdjust=\"spacingAndGlyphs\" textLength=\"8\" x=\"75.5\" y=\"255.1074\">S</text><line style=\"stroke: #383838; stroke-width: 1.5;\" x1=\"33\" x2=\"126\" y1=\"262.9375\" y2=\"262.9375\"/></a><polygon fill=\"#F8F8F8\" points=\"200,114,212,126,200,138,188,126,200,114\" style=\"stroke: #383838; stroke-width: 1.5;\"/><!--MD5=[21dd76c19d33815960c0e92fef8f0eef]\n",
       "entity E5--><a href=\"psysml:1a7559c2-685c-4c08-a29a-09c3177cd704\" target=\"_top\" title=\"psysml:1a7559c2-685c-4c08-a29a-09c3177cd704\" xlink:actuate=\"onRequest\" xlink:href=\"psysml:1a7559c2-685c-4c08-a29a-09c3177cd704\" xlink:show=\"new\" xlink:title=\"psysml:1a7559c2-685c-4c08-a29a-09c3177cd704\" xlink:type=\"simple\"><polygon fill=\"#F8F8F8\" points=\"273,137.5,273,192.0938,413,192.0938,393,164.7969,413,137.5\" style=\"stroke: #000000; stroke-width: 1.5;\"/><text fill=\"#000000\" font-family=\"sans-serif\" font-size=\"14\" font-style=\"italic\" lengthAdjust=\"spacingAndGlyphs\" textLength=\"111\" x=\"280\" y=\"160.4951\">«accept action»</text><text fill=\"#000000\" font-family=\"sans-serif\" font-size=\"14\" lengthAdjust=\"spacingAndGlyphs\" textLength=\"9\" x=\"331\" y=\"177.792\">S</text></a><!--MD5=[24d87cdf3002d433f401b2a2aa9f9f65]\n",
       "entity E6--><a href=\"psysml:57acc649-2893-4bd5-b427-585e4a8282d2\" target=\"_top\" title=\"psysml:57acc649-2893-4bd5-b427-585e4a8282d2\" xlink:actuate=\"onRequest\" xlink:href=\"psysml:57acc649-2893-4bd5-b427-585e4a8282d2\" xlink:show=\"new\" xlink:title=\"psysml:57acc649-2893-4bd5-b427-585e4a8282d2\" xlink:type=\"simple\"><polygon fill=\"#F8F8F8\" points=\"511,137.5,511,192.0938,619,192.0938,639,164.7969,619,137.5\" style=\"stroke: #000000; stroke-width: 1.5;\"/><text fill=\"#000000\" font-family=\"sans-serif\" font-size=\"14\" font-style=\"italic\" lengthAdjust=\"spacingAndGlyphs\" textLength=\"99\" x=\"518\" y=\"160.4951\">«send action»</text><text fill=\"#000000\" font-family=\"sans-serif\" font-size=\"14\" lengthAdjust=\"spacingAndGlyphs\" textLength=\"65\" x=\"535\" y=\"177.792\">S() to  B()</text></a><polygon fill=\"#F8F8F8\" points=\"712,114,724,126,712,138,700,126,712,114\" style=\"stroke: #383838; stroke-width: 1.5;\"/><ellipse cx=\"79.5\" cy=\"126\" fill=\"#000000\" rx=\"10\" ry=\"10\" style=\"stroke: none; stroke-width: 1.0;\"/><ellipse cx=\"795\" cy=\"126\" fill=\"none\" rx=\"10\" ry=\"10\" style=\"stroke: #000000; stroke-width: 1.0;\"/><ellipse cx=\"795.5\" cy=\"126.5\" fill=\"#000000\" rx=\"6\" ry=\"6\" style=\"stroke: none; stroke-width: 1.0;\"/><g id=\"E1.E8\"><a href=\"psysml:86a7eb05-d2a7-4b0b-add7-eac0d2258e69\" target=\"_top\" title=\"psysml:86a7eb05-d2a7-4b0b-add7-eac0d2258e69\" xlink:actuate=\"onRequest\" xlink:href=\"psysml:86a7eb05-d2a7-4b0b-add7-eac0d2258e69\" xlink:show=\"new\" xlink:title=\"psysml:86a7eb05-d2a7-4b0b-add7-eac0d2258e69\" xlink:type=\"simple\"><rect fill=\"#FFFFFF\" height=\"42.9375\" id=\"E8\" style=\"stroke: #383838; stroke-width: 1.5;\" width=\"84\" x=\"37.5\" y=\"306.5\"/><rect fill=\"#F8F8F8\" height=\"37.9375\" style=\"stroke: #383838; stroke-width: 1.5;\" width=\"84\" x=\"37.5\" y=\"306.5\"/><text fill=\"#000000\" font-family=\"sans-serif\" font-size=\"12\" font-style=\"italic\" lengthAdjust=\"spacingAndGlyphs\" textLength=\"77\" x=\"41\" y=\"322.6387\">«action def»</text><text fill=\"#000000\" font-family=\"sans-serif\" font-size=\"12\" lengthAdjust=\"spacingAndGlyphs\" textLength=\"8\" x=\"75.5\" y=\"336.6074\">B</text></a></g><!--MD5=[f47e10efcf9a6752d55dae986d790ed9]\n",
       "link *start*E3 to E4--><a href=\"psysml:3a6c3978-61f5-46d3-ad26-c963b1b56f5b\" target=\"_top\" title=\"psysml:3a6c3978-61f5-46d3-ad26-c963b1b56f5b\" xlink:actuate=\"onRequest\" xlink:href=\"psysml:3a6c3978-61f5-46d3-ad26-c963b1b56f5b\" xlink:show=\"new\" xlink:title=\"psysml:3a6c3978-61f5-46d3-ad26-c963b1b56f5b\" xlink:type=\"simple\"><path d=\"M89.8,126 C109.87,126 157.46,126 182.68,126 \" fill=\"none\" id=\"*start*E3-&gt;E4\" style=\"stroke: #383838; stroke-width: 1.0;\"/><polygon fill=\"#383838\" points=\"187.7,126,178.7,122,182.7,126,178.7,130,187.7,126\" style=\"stroke: #383838; stroke-width: 1.0;\"/></a><!--MD5=[d19f2eb34364d71b67042106d92f540b]\n",
       "link E7 to *end*E3--><a href=\"psysml:36daa16f-4b44-48c5-bcb7-7a401bcea152\" target=\"_top\" title=\"psysml:36daa16f-4b44-48c5-bcb7-7a401bcea152\" xlink:actuate=\"onRequest\" xlink:href=\"psysml:36daa16f-4b44-48c5-bcb7-7a401bcea152\" xlink:show=\"new\" xlink:title=\"psysml:36daa16f-4b44-48c5-bcb7-7a401bcea152\" xlink:type=\"simple\"><path d=\"M724.26,126 C738.66,126 763.63,126 779.46,126 \" fill=\"none\" id=\"E7-&gt;*end*E3\" style=\"stroke: #383838; stroke-width: 1.0;\"/><polygon fill=\"#383838\" points=\"784.84,126,775.84,122,779.84,126,775.84,130,784.84,126\" style=\"stroke: #383838; stroke-width: 1.0;\"/></a><!--MD5=[1b7591eae5389033d8d09a9d6721a717]\n",
       "link E4 to E5--><a href=\"psysml:c56e5692-64fd-4b0b-a986-d866765d0210\" target=\"_top\" title=\"psysml:c56e5692-64fd-4b0b-a986-d866765d0210\" xlink:actuate=\"onRequest\" xlink:href=\"psysml:c56e5692-64fd-4b0b-a986-d866765d0210\" xlink:show=\"new\" xlink:title=\"psysml:c56e5692-64fd-4b0b-a986-d866765d0210\" xlink:type=\"simple\"><path d=\"M209.82,128.44 C221.87,131.77 244.64,138.07 267.93,144.51 \" fill=\"none\" id=\"E4-&gt;E5\" style=\"stroke: #383838; stroke-width: 1.0;\"/><polygon fill=\"#383838\" points=\"272.9,145.89,265.2884,139.6399,268.0802,144.5599,263.1602,147.3517,272.9,145.89\" style=\"stroke: #383838; stroke-width: 1.0;\"/></a><!--MD5=[9120cf2e5df3bff93db8f754bbbc09b4]\n",
       "link E5 to E6--><a href=\"psysml:363bb7e0-7ec1-401c-827a-8a23a32c7946\" target=\"_top\" title=\"psysml:363bb7e0-7ec1-401c-827a-8a23a32c7946\" xlink:actuate=\"onRequest\" xlink:href=\"psysml:363bb7e0-7ec1-401c-827a-8a23a32c7946\" xlink:show=\"new\" xlink:title=\"psysml:363bb7e0-7ec1-401c-827a-8a23a32c7946\" xlink:type=\"simple\"><path d=\"M413.01,165 C442.4,165 476.6,165 505.89,165 \" fill=\"none\" id=\"E5-&gt;E6\" style=\"stroke: #383838; stroke-width: 1.0;\"/><polygon fill=\"#383838\" points=\"510.93,165,501.93,161,505.93,165,501.93,169,510.93,165\" style=\"stroke: #383838; stroke-width: 1.0;\"/></a><!--MD5=[02c70b7c851c11e3980e4e90450dc5dd]\n",
       "link E6 to E7--><a href=\"psysml:84082b66-a23a-4779-a592-98d74f10d8d7\" target=\"_top\" title=\"psysml:84082b66-a23a-4779-a592-98d74f10d8d7\" xlink:actuate=\"onRequest\" xlink:href=\"psysml:84082b66-a23a-4779-a592-98d74f10d8d7\" xlink:show=\"new\" xlink:title=\"psysml:84082b66-a23a-4779-a592-98d74f10d8d7\" xlink:type=\"simple\"><path d=\"M639.15,146.76 C660.96,140.46 683.38,133.98 697.25,129.97 \" fill=\"none\" id=\"E6-&gt;E7\" style=\"stroke: #383838; stroke-width: 1.0;\"/><polygon fill=\"#383838\" points=\"702.29,128.51,692.5337,127.1632,697.4862,129.8968,694.7526,134.8493,702.29,128.51\" style=\"stroke: #383838; stroke-width: 1.0;\"/></a><!--MD5=[6bdd27f9905911a7e892a3dc65cf6b7c]\n",
       "link E7 to E4--><a href=\"psysml:49753952-5c4c-4ef6-ad04-e80bfe7cb929\" target=\"_top\" title=\"psysml:49753952-5c4c-4ef6-ad04-e80bfe7cb929\" xlink:actuate=\"onRequest\" xlink:href=\"psysml:49753952-5c4c-4ef6-ad04-e80bfe7cb929\" xlink:show=\"new\" xlink:title=\"psysml:49753952-5c4c-4ef6-ad04-e80bfe7cb929\" xlink:type=\"simple\"><path d=\"M700.76,124.88 C686.82,123.41 661.06,120.92 639,120 C476.47,113.24 435.53,113.24 273,120 C253.36,120.82 230.77,122.88 216.22,124.36 \" fill=\"none\" id=\"E7-&gt;E4\" style=\"stroke: #383838; stroke-width: 1.0;\"/><polygon fill=\"#383838\" points=\"211.24,124.88,220.6038,127.9327,216.2135,124.3655,219.7806,119.9751,211.24,124.88\" style=\"stroke: #383838; stroke-width: 1.0;\"/><text fill=\"#000000\" font-family=\"sans-serif\" font-size=\"13\" lengthAdjust=\"spacingAndGlyphs\" textLength=\"36\" x=\"444\" y=\"111.0669\">[true]</text></a><!--MD5=[b2f9f6c096a58a67019c44c05e97f3f7]\n",
       "@startuml\r\n",
       "left to right direction\r\n",
       "skinparam monochrome true\r\n",
       "skinparam classbackgroundcolor white\r\n",
       "skinparam shadowing false\r\n",
       "skinparam wrapWidth 300\r\n",
       "hide circle\r\n",
       "\r\n",
       "package \"ActionTest\" as E1  [[psysml:4a739ce7-b110-4093-8b74-31ee982b1e00 ]]  {\r\n",
       "comp def \"S\" as E2  <<(T,blue) attribute def>> [[psysml:e3ea157b-753f-4ff0-b9f5-62b19f528d25 ]] {\r\n",
       "}\r\n",
       "rec usage \"a\" as E3  <<(T,blue) action>> [[psysml:fa9c3421-7722-4415-b8c7-0ea19e95762e ]] {\r\n",
       "choice \"m\" as E4  [[psysml:60604585-cd78-42b0-92ae-265c1a2862a9 ]] \r\n",
       "accept \" S\" as E5 << accept action>> [[psysml:1a7559c2-685c-4c08-a29a-09c3177cd704 ]] \r\n",
       "send \" S() to  B()\" as E6 << send action>> [[psysml:57acc649-2893-4bd5-b427-585e4a8282d2 ]] \r\n",
       "choice \"noname\" as E7  [[psysml:dcda7bbd-01a5-4374-8a97-a16c2625889c ]] \r\n",
       "[*] - -> E4 [[psysml:3a6c3978-61f5-46d3-ad26-c963b1b56f5b ]] \r\n",
       "E7  - -> [*] [[psysml:36daa16f-4b44-48c5-bcb7-7a401bcea152 ]] \r\n",
       "}\r\n",
       "\r\n",
       "rec def \"B\" as E8  <<(T,blue) action def>> [[psysml:86a7eb05-d2a7-4b0b-add7-eac0d2258e69 ]] {\r\n",
       "}\r\n",
       "\r\n",
       "E4 - -> E5 [[psysml:c56e5692-64fd-4b0b-a986-d866765d0210 ]] \r\n",
       "E5 - -> E6 [[psysml:363bb7e0-7ec1-401c-827a-8a23a32c7946 ]] \r\n",
       "E6 - -> E7 [[psysml:84082b66-a23a-4779-a592-98d74f10d8d7 ]] \r\n",
       "E7  - -> E4 [[psysml:49753952-5c4c-4ef6-ad04-e80bfe7cb929 ]] : [true]\r\n",
       "}\r\n",
       "@enduml\r\n",
       "\n",
       "PlantUML version 1.2020.13(Sat Jun 13 12:26:38 UTC 2020)\n",
       "(EPL source distribution)\n",
       "Java Runtime: OpenJDK Runtime Environment\n",
       "JVM: OpenJDK 64-Bit Server VM\n",
       "Default Encoding: UTF-8\n",
       "Language: en\n",
       "Country: null\n",
       "--></g></svg>"
      ]
     },
     "execution_count": 16,
     "metadata": {},
     "output_type": "execute_result"
    }
   ],
   "source": [
    "%viz --style=\"LR\" --view=\"Default\" \"ActionTest\""
   ]
  },
  {
   "cell_type": "code",
   "execution_count": 17,
   "id": "9be38c0a",
   "metadata": {
    "execution": {
     "iopub.execute_input": "2021-06-30T09:17:41.800320Z",
     "iopub.status.busy": "2021-06-30T09:17:41.799698Z",
     "iopub.status.idle": "2021-06-30T09:17:41.865113Z",
     "shell.execute_reply": "2021-06-30T09:17:41.865460Z"
    }
   },
   "outputs": [
    {
     "data": {
      "image/svg+xml": [
       "<?xml version=\"1.0\" encoding=\"UTF-8\" standalone=\"no\"?><svg xmlns=\"http://www.w3.org/2000/svg\" xmlns:xlink=\"http://www.w3.org/1999/xlink\" contentScriptType=\"application/ecmascript\" contentStyleType=\"text/css\" height=\"439px\" preserveAspectRatio=\"none\" style=\"width:466px;height:439px;\" version=\"1.1\" viewBox=\"0 0 466 439\" width=\"466px\" zoomAndPan=\"magnify\"><defs/><g><!--MD5=[fbc87193dbaf4d95561dea2c320d4a47]\n",
       "cluster E1--><a href=\"psysml:4a739ce7-b110-4093-8b74-31ee982b1e00\" target=\"_top\" title=\"psysml:4a739ce7-b110-4093-8b74-31ee982b1e00\" xlink:actuate=\"onRequest\" xlink:href=\"psysml:4a739ce7-b110-4093-8b74-31ee982b1e00\" xlink:show=\"new\" xlink:title=\"psysml:4a739ce7-b110-4093-8b74-31ee982b1e00\" xlink:type=\"simple\"><polygon fill=\"#FFFFFF\" points=\"16,6,107,6,114,28.2969,444,28.2969,444,427,16,427,16,6\" style=\"stroke: #000000; stroke-width: 1.5;\"/><line style=\"stroke: #000000; stroke-width: 1.5;\" x1=\"16\" x2=\"114\" y1=\"28.2969\" y2=\"28.2969\"/><text fill=\"#000000\" font-family=\"sans-serif\" font-size=\"14\" font-weight=\"bold\" lengthAdjust=\"spacingAndGlyphs\" textLength=\"85\" x=\"20\" y=\"20.9951\">ActionTest</text></a><!--MD5=[b4997ac47864f28c2f74865a473b2911]\n",
       "class E2--><a href=\"psysml:e3ea157b-753f-4ff0-b9f5-62b19f528d25\" target=\"_top\" title=\"psysml:e3ea157b-753f-4ff0-b9f5-62b19f528d25\" xlink:actuate=\"onRequest\" xlink:href=\"psysml:e3ea157b-753f-4ff0-b9f5-62b19f528d25\" xlink:show=\"new\" xlink:title=\"psysml:e3ea157b-753f-4ff0-b9f5-62b19f528d25\" xlink:type=\"simple\"><rect fill=\"#FFFFFF\" height=\"45.9375\" id=\"E2\" style=\"stroke: #383838; stroke-width: 1.5;\" width=\"95\" x=\"333\" y=\"203\"/><text fill=\"#000000\" font-family=\"sans-serif\" font-size=\"12\" font-style=\"italic\" lengthAdjust=\"spacingAndGlyphs\" textLength=\"93\" x=\"334\" y=\"219.1387\">«attribute def»</text><text fill=\"#000000\" font-family=\"sans-serif\" font-size=\"12\" lengthAdjust=\"spacingAndGlyphs\" textLength=\"8\" x=\"376.5\" y=\"233.1074\">S</text><line style=\"stroke: #383838; stroke-width: 1.5;\" x1=\"334\" x2=\"427\" y1=\"240.9375\" y2=\"240.9375\"/></a><!--MD5=[09b614a08d8cba4a07c9adeb5e0fee81]\n",
       "class E3--><a href=\"psysml:fa9c3421-7722-4415-b8c7-0ea19e95762e\" target=\"_top\" title=\"psysml:fa9c3421-7722-4415-b8c7-0ea19e95762e\" xlink:actuate=\"onRequest\" xlink:href=\"psysml:fa9c3421-7722-4415-b8c7-0ea19e95762e\" xlink:show=\"new\" xlink:title=\"psysml:fa9c3421-7722-4415-b8c7-0ea19e95762e\" xlink:type=\"simple\"><rect fill=\"#FFFFFF\" height=\"45.9375\" id=\"E3\" rx=\"10\" ry=\"10\" style=\"stroke: #383838; stroke-width: 1.5;\" width=\"55\" x=\"44\" y=\"203\"/><text fill=\"#000000\" font-family=\"sans-serif\" font-size=\"12\" font-style=\"italic\" lengthAdjust=\"spacingAndGlyphs\" textLength=\"53\" x=\"45\" y=\"219.1387\">«action»</text><text fill=\"#000000\" font-family=\"sans-serif\" font-size=\"12\" lengthAdjust=\"spacingAndGlyphs\" textLength=\"8\" x=\"67.5\" y=\"233.1074\">a</text><line style=\"stroke: #383838; stroke-width: 1.5;\" x1=\"45\" x2=\"98\" y1=\"240.9375\" y2=\"240.9375\"/></a><!--MD5=[ebbe1d658d1005bcc118a6aa81145e00]\n",
       "class E4--><a href=\"psysml:a6d1daf9-13da-45ca-a864-cb134e7177b5\" target=\"_top\" title=\"psysml:a6d1daf9-13da-45ca-a864-cb134e7177b5\" xlink:actuate=\"onRequest\" xlink:href=\"psysml:a6d1daf9-13da-45ca-a864-cb134e7177b5\" xlink:show=\"new\" xlink:title=\"psysml:a6d1daf9-13da-45ca-a864-cb134e7177b5\" xlink:type=\"simple\"><rect fill=\"#FFFFFF\" height=\"45.9375\" id=\"E4\" rx=\"10\" ry=\"10\" style=\"stroke: #383838; stroke-width: 1.5;\" width=\"83\" x=\"180.5\" y=\"365\"/><text fill=\"#000000\" font-family=\"sans-serif\" font-size=\"12\" font-style=\"italic\" lengthAdjust=\"spacingAndGlyphs\" textLength=\"53\" x=\"195.5\" y=\"381.1387\">«action»</text><text fill=\"#000000\" font-family=\"sans-serif\" font-size=\"12\" lengthAdjust=\"spacingAndGlyphs\" textLength=\"77\" x=\"183.5\" y=\"395.1074\">start: Action</text><line style=\"stroke: #383838; stroke-width: 1.5;\" x1=\"181.5\" x2=\"262.5\" y1=\"402.9375\" y2=\"402.9375\"/></a><!--MD5=[270fce915f116d4de14055a7c1d9a0f3]\n",
       "class E5--><a href=\"psysml:60604585-cd78-42b0-92ae-265c1a2862a9\" target=\"_top\" title=\"psysml:60604585-cd78-42b0-92ae-265c1a2862a9\" xlink:actuate=\"onRequest\" xlink:href=\"psysml:60604585-cd78-42b0-92ae-265c1a2862a9\" xlink:show=\"new\" xlink:title=\"psysml:60604585-cd78-42b0-92ae-265c1a2862a9\" xlink:type=\"simple\"><rect fill=\"#FFFFFF\" height=\"45.9375\" id=\"E5\" rx=\"10\" ry=\"10\" style=\"stroke: #383838; stroke-width: 1.5;\" width=\"89\" x=\"177.5\" y=\"284\"/><text fill=\"#000000\" font-family=\"sans-serif\" font-size=\"12\" font-style=\"italic\" lengthAdjust=\"spacingAndGlyphs\" textLength=\"87\" x=\"178.5\" y=\"300.1387\">«mergeNode»</text><text fill=\"#000000\" font-family=\"sans-serif\" font-size=\"12\" lengthAdjust=\"spacingAndGlyphs\" textLength=\"11\" x=\"216.5\" y=\"314.1074\">m</text><line style=\"stroke: #383838; stroke-width: 1.5;\" x1=\"178.5\" x2=\"265.5\" y1=\"321.9375\" y2=\"321.9375\"/></a><!--MD5=[60a26617385b1d2d0262a64233df1f8d]\n",
       "class E6--><a href=\"psysml:1a7559c2-685c-4c08-a29a-09c3177cd704\" target=\"_top\" title=\"psysml:1a7559c2-685c-4c08-a29a-09c3177cd704\" xlink:actuate=\"onRequest\" xlink:href=\"psysml:1a7559c2-685c-4c08-a29a-09c3177cd704\" xlink:show=\"new\" xlink:title=\"psysml:1a7559c2-685c-4c08-a29a-09c3177cd704\" xlink:type=\"simple\"><rect fill=\"#FFFFFF\" height=\"45.9375\" id=\"E6\" rx=\"10\" ry=\"10\" style=\"stroke: #383838; stroke-width: 1.5;\" width=\"102\" x=\"171\" y=\"203\"/><text fill=\"#000000\" font-family=\"sans-serif\" font-size=\"12\" font-style=\"italic\" lengthAdjust=\"spacingAndGlyphs\" textLength=\"100\" x=\"172\" y=\"219.1387\">«accept action»</text><text fill=\"#000000\" font-family=\"sans-serif\" font-size=\"12\" lengthAdjust=\"spacingAndGlyphs\" text-decoration=\"line-through\" textLength=\"51\" x=\"196.5\" y=\"233.1074\">noname</text><line style=\"stroke: #383838; stroke-width: 1.5;\" x1=\"172\" x2=\"272\" y1=\"240.9375\" y2=\"240.9375\"/></a><!--MD5=[2156ba9850f5573cc1fc38a6a4b2f02b]\n",
       "class E7--><a href=\"psysml:57acc649-2893-4bd5-b427-585e4a8282d2\" target=\"_top\" title=\"psysml:57acc649-2893-4bd5-b427-585e4a8282d2\" xlink:actuate=\"onRequest\" xlink:href=\"psysml:57acc649-2893-4bd5-b427-585e4a8282d2\" xlink:show=\"new\" xlink:title=\"psysml:57acc649-2893-4bd5-b427-585e4a8282d2\" xlink:type=\"simple\"><rect fill=\"#FFFFFF\" height=\"45.9375\" id=\"E7\" rx=\"10\" ry=\"10\" style=\"stroke: #383838; stroke-width: 1.5;\" width=\"90\" x=\"177\" y=\"122\"/><text fill=\"#000000\" font-family=\"sans-serif\" font-size=\"12\" font-style=\"italic\" lengthAdjust=\"spacingAndGlyphs\" textLength=\"88\" x=\"178\" y=\"138.1387\">«send action»</text><text fill=\"#000000\" font-family=\"sans-serif\" font-size=\"12\" lengthAdjust=\"spacingAndGlyphs\" text-decoration=\"line-through\" textLength=\"51\" x=\"196.5\" y=\"152.1074\">noname</text><line style=\"stroke: #383838; stroke-width: 1.5;\" x1=\"178\" x2=\"266\" y1=\"159.9375\" y2=\"159.9375\"/></a><!--MD5=[b9389687b975829384b498ac4b7476b2]\n",
       "class E8--><a href=\"psysml:dcda7bbd-01a5-4374-8a97-a16c2625889c\" target=\"_top\" title=\"psysml:dcda7bbd-01a5-4374-8a97-a16c2625889c\" xlink:actuate=\"onRequest\" xlink:href=\"psysml:dcda7bbd-01a5-4374-8a97-a16c2625889c\" xlink:show=\"new\" xlink:title=\"psysml:dcda7bbd-01a5-4374-8a97-a16c2625889c\" xlink:type=\"simple\"><rect fill=\"#FFFFFF\" height=\"45.9375\" id=\"E8\" rx=\"10\" ry=\"10\" style=\"stroke: #383838; stroke-width: 1.5;\" width=\"101\" x=\"171.5\" y=\"41\"/><text fill=\"#000000\" font-family=\"sans-serif\" font-size=\"12\" font-style=\"italic\" lengthAdjust=\"spacingAndGlyphs\" textLength=\"99\" x=\"172.5\" y=\"57.1387\">«decisionNode»</text><text fill=\"#000000\" font-family=\"sans-serif\" font-size=\"12\" lengthAdjust=\"spacingAndGlyphs\" text-decoration=\"line-through\" textLength=\"51\" x=\"196.5\" y=\"71.1074\">noname</text><line style=\"stroke: #383838; stroke-width: 1.5;\" x1=\"172.5\" x2=\"271.5\" y1=\"78.9375\" y2=\"78.9375\"/></a><!--MD5=[fd4143e9d270a159db93a4ea2a975926]\n",
       "class E9--><a href=\"psysml:86a7eb05-d2a7-4b0b-add7-eac0d2258e69\" target=\"_top\" title=\"psysml:86a7eb05-d2a7-4b0b-add7-eac0d2258e69\" xlink:actuate=\"onRequest\" xlink:href=\"psysml:86a7eb05-d2a7-4b0b-add7-eac0d2258e69\" xlink:show=\"new\" xlink:title=\"psysml:86a7eb05-d2a7-4b0b-add7-eac0d2258e69\" xlink:type=\"simple\"><rect fill=\"#FFFFFF\" height=\"45.9375\" id=\"E9\" style=\"stroke: #383838; stroke-width: 1.5;\" width=\"79\" x=\"32\" y=\"324\"/><text fill=\"#000000\" font-family=\"sans-serif\" font-size=\"12\" font-style=\"italic\" lengthAdjust=\"spacingAndGlyphs\" textLength=\"77\" x=\"33\" y=\"340.1387\">«action def»</text><text fill=\"#000000\" font-family=\"sans-serif\" font-size=\"12\" lengthAdjust=\"spacingAndGlyphs\" textLength=\"8\" x=\"67.5\" y=\"354.1074\">B</text><line style=\"stroke: #383838; stroke-width: 1.5;\" x1=\"33\" x2=\"110\" y1=\"361.9375\" y2=\"361.9375\"/></a><!--MD5=[4672eba38e49728da53d11aeb285b987]\n",
       "reverse link E3 to E4--><a href=\"psysml:52dfc4ad-a62d-4432-a88b-57c0a80d621d\" target=\"_top\" title=\"psysml:52dfc4ad-a62d-4432-a88b-57c0a80d621d\" xlink:actuate=\"onRequest\" xlink:href=\"psysml:52dfc4ad-a62d-4432-a88b-57c0a80d621d\" xlink:show=\"new\" xlink:title=\"psysml:52dfc4ad-a62d-4432-a88b-57c0a80d621d\" xlink:type=\"simple\"><path d=\"M96.72,259.88 C115.63,285.33 143.27,320.4 171,348 C176.83,353.8 183.47,359.59 189.96,364.89 \" fill=\"none\" id=\"E3&lt;-E4\" style=\"stroke: #383838; stroke-width: 1.0;\"/><polygon fill=\"#FFFFFF\" points=\"88.92,249.27,89.2472,256.4737,96.0226,258.9422,95.6954,251.7386,88.92,249.27\" style=\"stroke: #383838; stroke-width: 1.0;\"/></a><!--MD5=[191cde3d490a3f6d7bb551fe3ddca469]\n",
       "reverse link E3 to E5--><a href=\"psysml:99d9f5a6-f2b4-4631-bd24-2952b87c2311\" target=\"_top\" title=\"psysml:99d9f5a6-f2b4-4631-bd24-2952b87c2311\" xlink:actuate=\"onRequest\" xlink:href=\"psysml:99d9f5a6-f2b4-4631-bd24-2952b87c2311\" xlink:show=\"new\" xlink:title=\"psysml:99d9f5a6-f2b4-4631-bd24-2952b87c2311\" xlink:type=\"simple\"><path d=\"M110.65,246.81 C131.45,258.16 157.25,272.23 178.67,283.91 \" fill=\"none\" id=\"E3&lt;-E5\" style=\"stroke: #383838; stroke-width: 1.0;\"/><polygon fill=\"#383838\" points=\"99.05,240.48,102.4008,246.8653,109.5837,246.2281,106.2329,239.8428,99.05,240.48\" style=\"stroke: #383838; stroke-width: 1.0;\"/></a><!--MD5=[1026b4b93417a13aa8999a858998add2]\n",
       "reverse link E3 to E6--><a href=\"psysml:14dfaf6d-db59-420e-a3c6-2cc6bbb5f023\" target=\"_top\" title=\"psysml:14dfaf6d-db59-420e-a3c6-2cc6bbb5f023\" xlink:actuate=\"onRequest\" xlink:href=\"psysml:14dfaf6d-db59-420e-a3c6-2cc6bbb5f023\" xlink:show=\"new\" xlink:title=\"psysml:14dfaf6d-db59-420e-a3c6-2cc6bbb5f023\" xlink:type=\"simple\"><path d=\"M112.09,226 C130.16,226 151.78,226 170.97,226 \" fill=\"none\" id=\"E3&lt;-E6\" style=\"stroke: #383838; stroke-width: 1.0;\"/><polygon fill=\"#FFFFFF\" points=\"99.05,226,105.05,230,111.05,226,105.05,222,99.05,226\" style=\"stroke: #383838; stroke-width: 1.0;\"/></a><!--MD5=[3403bfa781cc3da0fd423dbab6f01c63]\n",
       "reverse link E6 to E2--><a href=\"psysml:773d19c1-1d9b-4741-b5ba-dd5a31e080a3\" target=\"_top\" title=\"psysml:773d19c1-1d9b-4741-b5ba-dd5a31e080a3\" xlink:actuate=\"onRequest\" xlink:href=\"psysml:773d19c1-1d9b-4741-b5ba-dd5a31e080a3\" xlink:show=\"new\" xlink:title=\"psysml:773d19c1-1d9b-4741-b5ba-dd5a31e080a3\" xlink:type=\"simple\"><path d=\"M286.71,226 C302.17,226 318.43,226 332.93,226 \" fill=\"none\" id=\"E6&lt;-E2\" style=\"stroke: #383838; stroke-width: 1.0;\"/><polygon fill=\"#FFFFFF\" points=\"273.38,226,279.38,230,285.38,226,279.38,222,273.38,226\" style=\"stroke: #383838; stroke-width: 1.0;\"/></a><!--MD5=[85760999379eecfd2565a9fecdca67e4]\n",
       "reverse link E3 to E7--><a href=\"psysml:4bddb34b-31d0-4487-9835-f5e5c1238220\" target=\"_top\" title=\"psysml:4bddb34b-31d0-4487-9835-f5e5c1238220\" xlink:actuate=\"onRequest\" xlink:href=\"psysml:4bddb34b-31d0-4487-9835-f5e5c1238220\" xlink:show=\"new\" xlink:title=\"psysml:4bddb34b-31d0-4487-9835-f5e5c1238220\" xlink:type=\"simple\"><path d=\"M110.65,205.19 C131.45,193.84 157.25,179.77 178.67,168.09 \" fill=\"none\" id=\"E3&lt;-E7\" style=\"stroke: #383838; stroke-width: 1.0;\"/><polygon fill=\"#FFFFFF\" points=\"99.05,211.52,106.2329,212.1572,109.5837,205.7719,102.4008,205.1347,99.05,211.52\" style=\"stroke: #383838; stroke-width: 1.0;\"/></a><!--MD5=[4cb75b73ec3682b8f7f8edc9cc86126a]\n",
       "reverse link E3 to E8--><a href=\"psysml:010ce356-5f58-462c-8431-75351dc3ac74\" target=\"_top\" title=\"psysml:010ce356-5f58-462c-8431-75351dc3ac74\" xlink:actuate=\"onRequest\" xlink:href=\"psysml:010ce356-5f58-462c-8431-75351dc3ac74\" xlink:show=\"new\" xlink:title=\"psysml:010ce356-5f58-462c-8431-75351dc3ac74\" xlink:type=\"simple\"><path d=\"M96.72,192.12 C115.63,166.67 143.27,131.6 171,104 C176.83,98.2 183.47,92.41 189.96,87.11 \" fill=\"none\" id=\"E3&lt;-E8\" style=\"stroke: #383838; stroke-width: 1.0;\"/><polygon fill=\"#383838\" points=\"88.92,202.73,95.6954,200.2614,96.0226,193.0578,89.2472,195.5263,88.92,202.73\" style=\"stroke: #383838; stroke-width: 1.0;\"/></a><!--MD5=[443737be60c979e267bbdff599baeb30]\n",
       "@startuml\r\n",
       "left to right direction\r\n",
       "skinparam monochrome true\r\n",
       "skinparam classbackgroundcolor white\r\n",
       "skinparam shadowing false\r\n",
       "skinparam wrapWidth 300\r\n",
       "hide circle\r\n",
       "\r\n",
       "package \"ActionTest\" as E1  [[psysml:4a739ce7-b110-4093-8b74-31ee982b1e00 ]]  {\r\n",
       "comp def \"S\" as E2  <<(T,blue) attribute def>> [[psysml:e3ea157b-753f-4ff0-b9f5-62b19f528d25 ]] {\r\n",
       "}\r\n",
       "comp usage \"a\" as E3  <<(T,blue) action>> [[psysml:fa9c3421-7722-4415-b8c7-0ea19e95762e ]] {\r\n",
       "}\r\n",
       "comp usage \"start: Action\" as E4  <<(T,blue) action>> [[psysml:a6d1daf9-13da-45ca-a864-cb134e7177b5 ]] {\r\n",
       "}\r\n",
       "comp usage \"m\" as E5  <<(T,blue) mergeNode>> [[psysml:60604585-cd78-42b0-92ae-265c1a2862a9 ]] {\r\n",
       "}\r\n",
       "comp usage \"<s>noname</s>\" as E6 << accept action>> [[psysml:1a7559c2-685c-4c08-a29a-09c3177cd704 ]] {\r\n",
       "}\r\n",
       "comp usage \"<s>noname</s>\" as E7 << send action>> [[psysml:57acc649-2893-4bd5-b427-585e4a8282d2 ]] {\r\n",
       "}\r\n",
       "comp usage \"<s>noname</s>\" as E8  <<(T,blue) decisionNode>> [[psysml:dcda7bbd-01a5-4374-8a97-a16c2625889c ]] {\r\n",
       "}\r\n",
       "comp def \"B\" as E9  <<(T,blue) action def>> [[psysml:86a7eb05-d2a7-4b0b-add7-eac0d2258e69 ]] {\r\n",
       "}\r\n",
       "E3 o- - E4 [[psysml:52dfc4ad-a62d-4432-a88b-57c0a80d621d ]] \r\n",
       "E3 *- - E5 [[psysml:99d9f5a6-f2b4-4631-bd24-2952b87c2311 ]] \r\n",
       "E3 o- - E6 [[psysml:14dfaf6d-db59-420e-a3c6-2cc6bbb5f023 ]] \r\n",
       "E6 o- - E2 [[psysml:773d19c1-1d9b-4741-b5ba-dd5a31e080a3 ]] \r\n",
       "E3 o- - E7 [[psysml:4bddb34b-31d0-4487-9835-f5e5c1238220 ]] \r\n",
       "E3 *- - E8 [[psysml:010ce356-5f58-462c-8431-75351dc3ac74 ]] \r\n",
       "}\r\n",
       "@enduml\r\n",
       "\n",
       "PlantUML version 1.2020.13(Sat Jun 13 12:26:38 UTC 2020)\n",
       "(EPL source distribution)\n",
       "Java Runtime: OpenJDK Runtime Environment\n",
       "JVM: OpenJDK 64-Bit Server VM\n",
       "Default Encoding: UTF-8\n",
       "Language: en\n",
       "Country: null\n",
       "--></g></svg>"
      ]
     },
     "execution_count": 17,
     "metadata": {},
     "output_type": "execute_result"
    }
   ],
   "source": [
    "%viz --style=\"LR\" --view=\"Tree\" \"ActionTest\""
   ]
  },
  {
   "cell_type": "code",
   "execution_count": 18,
   "id": "872cff7c",
   "metadata": {
    "execution": {
     "iopub.execute_input": "2021-06-30T09:17:41.916851Z",
     "iopub.status.busy": "2021-06-30T09:17:41.916244Z",
     "iopub.status.idle": "2021-06-30T09:17:41.923211Z",
     "shell.execute_reply": "2021-06-30T09:17:41.922886Z"
    }
   },
   "outputs": [
    {
     "data": {
      "image/svg+xml": [
       "<?xml version=\"1.0\" encoding=\"UTF-8\" standalone=\"no\"?><svg xmlns=\"http://www.w3.org/2000/svg\" xmlns:xlink=\"http://www.w3.org/1999/xlink\" contentScriptType=\"application/ecmascript\" contentStyleType=\"text/css\" height=\"12px\" preserveAspectRatio=\"none\" style=\"width:12px;height:12px;\" version=\"1.1\" viewBox=\"0 0 12 12\" width=\"12px\" zoomAndPan=\"magnify\"><defs/><g><!--MD5=[19d285c9d72a204eba4e2cd117d745e8]\n",
       "@startuml\r\n",
       "left to right direction\r\n",
       "skinparam monochrome true\r\n",
       "skinparam classbackgroundcolor white\r\n",
       "skinparam shadowing false\r\n",
       "skinparam wrapWidth 300\r\n",
       "hide circle\r\n",
       "\r\n",
       "@enduml\r\n",
       "\n",
       "PlantUML version 1.2020.13(Sat Jun 13 12:26:38 UTC 2020)\n",
       "(EPL source distribution)\n",
       "Java Runtime: OpenJDK Runtime Environment\n",
       "JVM: OpenJDK 64-Bit Server VM\n",
       "Default Encoding: UTF-8\n",
       "Language: en\n",
       "Country: null\n",
       "--></g></svg>"
      ]
     },
     "execution_count": 18,
     "metadata": {},
     "output_type": "execute_result"
    }
   ],
   "source": [
    "%viz --style=\"LR\" --view=\"State\" \"ActionTest\""
   ]
  },
  {
   "cell_type": "code",
   "execution_count": 19,
   "id": "aa36801d",
   "metadata": {
    "execution": {
     "iopub.execute_input": "2021-06-30T09:17:41.975632Z",
     "iopub.status.busy": "2021-06-30T09:17:41.974831Z",
     "iopub.status.idle": "2021-06-30T09:17:42.060854Z",
     "shell.execute_reply": "2021-06-30T09:17:42.057742Z"
    }
   },
   "outputs": [
    {
     "data": {
      "image/svg+xml": [
       "<?xml version=\"1.0\" encoding=\"UTF-8\" standalone=\"no\"?><svg xmlns=\"http://www.w3.org/2000/svg\" xmlns:xlink=\"http://www.w3.org/1999/xlink\" contentScriptType=\"application/ecmascript\" contentStyleType=\"text/css\" height=\"375px\" preserveAspectRatio=\"none\" style=\"width:652px;height:375px;\" version=\"1.1\" viewBox=\"0 0 652 375\" width=\"652px\" zoomAndPan=\"magnify\"><defs/><g><!--MD5=[fbc87193dbaf4d95561dea2c320d4a47]\n",
       "cluster E1--><a href=\"psysml:4a739ce7-b110-4093-8b74-31ee982b1e00\" target=\"_top\" title=\"psysml:4a739ce7-b110-4093-8b74-31ee982b1e00\" xlink:actuate=\"onRequest\" xlink:href=\"psysml:4a739ce7-b110-4093-8b74-31ee982b1e00\" xlink:show=\"new\" xlink:title=\"psysml:4a739ce7-b110-4093-8b74-31ee982b1e00\" xlink:type=\"simple\"><polygon fill=\"#FFFFFF\" points=\"16,6,107,6,114,28.2969,630,28.2969,630,363,16,363,16,6\" style=\"stroke: #000000; stroke-width: 1.5;\"/><line style=\"stroke: #000000; stroke-width: 1.5;\" x1=\"16\" x2=\"114\" y1=\"28.2969\" y2=\"28.2969\"/><text fill=\"#000000\" font-family=\"sans-serif\" font-size=\"14\" font-weight=\"bold\" lengthAdjust=\"spacingAndGlyphs\" textLength=\"85\" x=\"20\" y=\"20.9951\">ActionTest</text></a><!--MD5=[d5e69f78d87373223dbae638b30a9c99]\n",
       "cluster E3--><a href=\"psysml:fa9c3421-7722-4415-b8c7-0ea19e95762e\" target=\"_top\" title=\"psysml:fa9c3421-7722-4415-b8c7-0ea19e95762e\" xlink:actuate=\"onRequest\" xlink:href=\"psysml:fa9c3421-7722-4415-b8c7-0ea19e95762e\" xlink:show=\"new\" xlink:title=\"psysml:fa9c3421-7722-4415-b8c7-0ea19e95762e\" xlink:type=\"simple\"><rect fill=\"#FFFFFF\" height=\"160\" id=\"E3\" rx=\"10\" ry=\"10\" style=\"stroke: #383838; stroke-width: 1.5;\" width=\"550\" x=\"56\" y=\"49\"/><rect fill=\"#F8F8F8\" height=\"37.9375\" rx=\"10\" ry=\"10\" style=\"stroke: #F8F8F8; stroke-width: 1.5;\" width=\"550\" x=\"56\" y=\"49\"/><rect fill=\"#F8F8F8\" height=\"10\" style=\"stroke: #F8F8F8; stroke-width: 1.5;\" width=\"550\" x=\"56\" y=\"76.9375\"/><rect fill=\"none\" height=\"160\" id=\"E3\" rx=\"10\" ry=\"10\" style=\"stroke: #383838; stroke-width: 1.5;\" width=\"550\" x=\"56\" y=\"49\"/><text fill=\"#000000\" font-family=\"sans-serif\" font-size=\"12\" font-style=\"italic\" lengthAdjust=\"spacingAndGlyphs\" textLength=\"53\" x=\"304.5\" y=\"65.1387\">«action»</text><text fill=\"#000000\" font-family=\"sans-serif\" font-size=\"12\" lengthAdjust=\"spacingAndGlyphs\" textLength=\"8\" x=\"327\" y=\"79.1074\">a</text><line style=\"stroke: #383838; stroke-width: 1.0;\" x1=\"56\" x2=\"606\" y1=\"86.9375\" y2=\"86.9375\"/></a><g id=\"E1.E2\"><a href=\"psysml:e3ea157b-753f-4ff0-b9f5-62b19f528d25\" target=\"_top\" title=\"psysml:e3ea157b-753f-4ff0-b9f5-62b19f528d25\" xlink:actuate=\"onRequest\" xlink:href=\"psysml:e3ea157b-753f-4ff0-b9f5-62b19f528d25\" xlink:show=\"new\" xlink:title=\"psysml:e3ea157b-753f-4ff0-b9f5-62b19f528d25\" xlink:type=\"simple\"><rect fill=\"#FFFFFF\" height=\"42.9375\" id=\"E2\" style=\"stroke: #383838; stroke-width: 1.5;\" width=\"100\" x=\"32\" y=\"225.5\"/><rect fill=\"#F8F8F8\" height=\"37.9375\" style=\"stroke: #383838; stroke-width: 1.5;\" width=\"100\" x=\"32\" y=\"225.5\"/><text fill=\"#000000\" font-family=\"sans-serif\" font-size=\"12\" font-style=\"italic\" lengthAdjust=\"spacingAndGlyphs\" textLength=\"93\" x=\"35.5\" y=\"241.6387\">«attribute def»</text><text fill=\"#000000\" font-family=\"sans-serif\" font-size=\"12\" lengthAdjust=\"spacingAndGlyphs\" textLength=\"8\" x=\"78\" y=\"255.6074\">S</text></a></g><polygon fill=\"#F8F8F8\" points=\"161,114,173,126,161,138,149,126,161,114\" style=\"stroke: #383838; stroke-width: 1.5;\"/><!--MD5=[21dd76c19d33815960c0e92fef8f0eef]\n",
       "entity E5--><a href=\"psysml:1a7559c2-685c-4c08-a29a-09c3177cd704\" target=\"_top\" title=\"psysml:1a7559c2-685c-4c08-a29a-09c3177cd704\" xlink:actuate=\"onRequest\" xlink:href=\"psysml:1a7559c2-685c-4c08-a29a-09c3177cd704\" xlink:show=\"new\" xlink:title=\"psysml:1a7559c2-685c-4c08-a29a-09c3177cd704\" xlink:type=\"simple\"><polygon fill=\"#F8F8F8\" points=\"190,137.5,190,192.0938,330,192.0938,310,164.7969,330,137.5\" style=\"stroke: #000000; stroke-width: 1.5;\"/><text fill=\"#000000\" font-family=\"sans-serif\" font-size=\"14\" font-style=\"italic\" lengthAdjust=\"spacingAndGlyphs\" textLength=\"111\" x=\"197\" y=\"160.4951\">«accept action»</text><text fill=\"#000000\" font-family=\"sans-serif\" font-size=\"14\" lengthAdjust=\"spacingAndGlyphs\" textLength=\"9\" x=\"248\" y=\"177.792\">S</text></a><!--MD5=[24d87cdf3002d433f401b2a2aa9f9f65]\n",
       "entity E6--><a href=\"psysml:57acc649-2893-4bd5-b427-585e4a8282d2\" target=\"_top\" title=\"psysml:57acc649-2893-4bd5-b427-585e4a8282d2\" xlink:actuate=\"onRequest\" xlink:href=\"psysml:57acc649-2893-4bd5-b427-585e4a8282d2\" xlink:show=\"new\" xlink:title=\"psysml:57acc649-2893-4bd5-b427-585e4a8282d2\" xlink:type=\"simple\"><polygon fill=\"#F8F8F8\" points=\"384,137.5,384,192.0938,492,192.0938,512,164.7969,492,137.5\" style=\"stroke: #000000; stroke-width: 1.5;\"/><text fill=\"#000000\" font-family=\"sans-serif\" font-size=\"14\" font-style=\"italic\" lengthAdjust=\"spacingAndGlyphs\" textLength=\"99\" x=\"391\" y=\"160.4951\">«send action»</text><text fill=\"#000000\" font-family=\"sans-serif\" font-size=\"14\" lengthAdjust=\"spacingAndGlyphs\" textLength=\"65\" x=\"408\" y=\"177.792\">S() to  B()</text></a><polygon fill=\"#F8F8F8\" points=\"541,114,553,126,541,138,529,126,541,114\" style=\"stroke: #383838; stroke-width: 1.5;\"/><ellipse cx=\"82\" cy=\"126\" fill=\"#000000\" rx=\"10\" ry=\"10\" style=\"stroke: none; stroke-width: 1.0;\"/><ellipse cx=\"580\" cy=\"126\" fill=\"none\" rx=\"10\" ry=\"10\" style=\"stroke: #000000; stroke-width: 1.0;\"/><ellipse cx=\"580.5\" cy=\"126.5\" fill=\"#000000\" rx=\"6\" ry=\"6\" style=\"stroke: none; stroke-width: 1.0;\"/><g id=\"E1.E8\"><a href=\"psysml:86a7eb05-d2a7-4b0b-add7-eac0d2258e69\" target=\"_top\" title=\"psysml:86a7eb05-d2a7-4b0b-add7-eac0d2258e69\" xlink:actuate=\"onRequest\" xlink:href=\"psysml:86a7eb05-d2a7-4b0b-add7-eac0d2258e69\" xlink:show=\"new\" xlink:title=\"psysml:86a7eb05-d2a7-4b0b-add7-eac0d2258e69\" xlink:type=\"simple\"><rect fill=\"#FFFFFF\" height=\"42.9375\" id=\"E8\" style=\"stroke: #383838; stroke-width: 1.5;\" width=\"84\" x=\"40\" y=\"303.5\"/><rect fill=\"#F8F8F8\" height=\"37.9375\" style=\"stroke: #383838; stroke-width: 1.5;\" width=\"84\" x=\"40\" y=\"303.5\"/><text fill=\"#000000\" font-family=\"sans-serif\" font-size=\"12\" font-style=\"italic\" lengthAdjust=\"spacingAndGlyphs\" textLength=\"77\" x=\"43.5\" y=\"319.6387\">«action def»</text><text fill=\"#000000\" font-family=\"sans-serif\" font-size=\"12\" lengthAdjust=\"spacingAndGlyphs\" textLength=\"8\" x=\"78\" y=\"333.6074\">B</text></a></g><!--MD5=[f47e10efcf9a6752d55dae986d790ed9]\n",
       "link *start*E3 to E4--><a href=\"psysml:3a6c3978-61f5-46d3-ad26-c963b1b56f5b\" target=\"_top\" title=\"psysml:3a6c3978-61f5-46d3-ad26-c963b1b56f5b\" xlink:actuate=\"onRequest\" xlink:href=\"psysml:3a6c3978-61f5-46d3-ad26-c963b1b56f5b\" xlink:show=\"new\" xlink:title=\"psysml:3a6c3978-61f5-46d3-ad26-c963b1b56f5b\" xlink:type=\"simple\"><path d=\"M92.14,126 C104.88,126 128.18,126 143.88,126 \" fill=\"none\" id=\"*start*E3-&gt;E4\" style=\"stroke: #383838; stroke-width: 1.0;\"/><polygon fill=\"#383838\" points=\"148.89,126,139.89,122,143.89,126,139.89,130,148.89,126\" style=\"stroke: #383838; stroke-width: 1.0;\"/></a><!--MD5=[d19f2eb34364d71b67042106d92f540b]\n",
       "link E7 to *end*E3--><a href=\"psysml:36daa16f-4b44-48c5-bcb7-7a401bcea152\" target=\"_top\" title=\"psysml:36daa16f-4b44-48c5-bcb7-7a401bcea152\" xlink:actuate=\"onRequest\" xlink:href=\"psysml:36daa16f-4b44-48c5-bcb7-7a401bcea152\" xlink:show=\"new\" xlink:title=\"psysml:36daa16f-4b44-48c5-bcb7-7a401bcea152\" xlink:type=\"simple\"><path d=\"M553.3,126 C556.84,126 560.8,126 564.53,126 \" fill=\"none\" id=\"E7-&gt;*end*E3\" style=\"stroke: #383838; stroke-width: 1.0;\"/><polygon fill=\"#383838\" points=\"569.75,126,560.75,122,564.75,126,560.75,130,569.75,126\" style=\"stroke: #383838; stroke-width: 1.0;\"/></a><!--MD5=[1b7591eae5389033d8d09a9d6721a717]\n",
       "link E4 to E5--><a href=\"psysml:c56e5692-64fd-4b0b-a986-d866765d0210\" target=\"_top\" title=\"psysml:c56e5692-64fd-4b0b-a986-d866765d0210\" xlink:actuate=\"onRequest\" xlink:href=\"psysml:c56e5692-64fd-4b0b-a986-d866765d0210\" xlink:show=\"new\" xlink:title=\"psysml:c56e5692-64fd-4b0b-a986-d866765d0210\" xlink:type=\"simple\"><path d=\"M169.94,129.19 C174.05,130.84 179.5,133.04 185.7,135.53 \" fill=\"none\" id=\"E4-&gt;E5\" style=\"stroke: #383838; stroke-width: 1.0;\"/><polygon fill=\"#383838\" points=\"190.57,137.49,183.7068,130.4263,185.9296,135.6281,180.7278,137.8509,190.57,137.49\" style=\"stroke: #383838; stroke-width: 1.0;\"/></a><!--MD5=[9120cf2e5df3bff93db8f754bbbc09b4]\n",
       "link E5 to E6--><a href=\"psysml:363bb7e0-7ec1-401c-827a-8a23a32c7946\" target=\"_top\" title=\"psysml:363bb7e0-7ec1-401c-827a-8a23a32c7946\" xlink:actuate=\"onRequest\" xlink:href=\"psysml:363bb7e0-7ec1-401c-827a-8a23a32c7946\" xlink:show=\"new\" xlink:title=\"psysml:363bb7e0-7ec1-401c-827a-8a23a32c7946\" xlink:type=\"simple\"><path d=\"M330.26,165 C346.03,165 362.79,165 378.53,165 \" fill=\"none\" id=\"E5-&gt;E6\" style=\"stroke: #383838; stroke-width: 1.0;\"/><polygon fill=\"#383838\" points=\"383.83,165,374.83,161,378.83,165,374.83,169,383.83,165\" style=\"stroke: #383838; stroke-width: 1.0;\"/></a><!--MD5=[02c70b7c851c11e3980e4e90450dc5dd]\n",
       "link E6 to E7--><a href=\"psysml:84082b66-a23a-4779-a592-98d74f10d8d7\" target=\"_top\" title=\"psysml:84082b66-a23a-4779-a592-98d74f10d8d7\" xlink:actuate=\"onRequest\" xlink:href=\"psysml:84082b66-a23a-4779-a592-98d74f10d8d7\" xlink:show=\"new\" xlink:title=\"psysml:84082b66-a23a-4779-a592-98d74f10d8d7\" xlink:type=\"simple\"><path d=\"M512.2,137.91 C517.78,135.52 522.94,133.31 527.26,131.46 \" fill=\"none\" id=\"E6-&gt;E7\" style=\"stroke: #383838; stroke-width: 1.0;\"/><polygon fill=\"#383838\" points=\"531.92,129.46,522.072,129.3287,527.3243,131.4296,525.2234,136.6819,531.92,129.46\" style=\"stroke: #383838; stroke-width: 1.0;\"/></a><!--MD5=[6bdd27f9905911a7e892a3dc65cf6b7c]\n",
       "link E7 to E4--><a href=\"psysml:49753952-5c4c-4ef6-ad04-e80bfe7cb929\" target=\"_top\" title=\"psysml:49753952-5c4c-4ef6-ad04-e80bfe7cb929\" xlink:actuate=\"onRequest\" xlink:href=\"psysml:49753952-5c4c-4ef6-ad04-e80bfe7cb929\" xlink:show=\"new\" xlink:title=\"psysml:49753952-5c4c-4ef6-ad04-e80bfe7cb929\" xlink:type=\"simple\"><path d=\"M531.25,123.63 C525.77,122.26 518.53,120.69 512,120 C369.69,104.92 332.31,104.92 190,120 C185.31,120.5 180.25,121.45 175.74,122.45 \" fill=\"none\" id=\"E7-&gt;E4\" style=\"stroke: #383838; stroke-width: 1.0;\"/><polygon fill=\"#383838\" points=\"170.75,123.63,180.4269,125.4623,175.6171,122.4848,178.5946,117.675,170.75,123.63\" style=\"stroke: #383838; stroke-width: 1.0;\"/><text fill=\"#000000\" font-family=\"sans-serif\" font-size=\"13\" lengthAdjust=\"spacingAndGlyphs\" textLength=\"36\" x=\"339\" y=\"105.0669\">[true]</text></a><!--MD5=[53938a7caf68cf3e4d98261ea805a700]\n",
       "@startuml\r\n",
       "skinparam ranksep 10\r\n",
       "skinparam rectangle {\r\n",
       " backgroundColor<<block>> LightGreen\r\n",
       "}\r\n",
       "left to right direction\r\n",
       "skinparam monochrome true\r\n",
       "skinparam classbackgroundcolor white\r\n",
       "skinparam shadowing false\r\n",
       "skinparam wrapWidth 300\r\n",
       "hide circle\r\n",
       "\r\n",
       "package \"ActionTest\" as E1  [[psysml:4a739ce7-b110-4093-8b74-31ee982b1e00 ]]  {\r\n",
       "def \"S\" as E2  <<(T,blue) attribute def>> [[psysml:e3ea157b-753f-4ff0-b9f5-62b19f528d25 ]] \r\n",
       "rec usage \"a\" as E3  <<(T,blue) action>> [[psysml:fa9c3421-7722-4415-b8c7-0ea19e95762e ]] {\r\n",
       "choice \"m\" as E4  [[psysml:60604585-cd78-42b0-92ae-265c1a2862a9 ]] \r\n",
       "accept \" S\" as E5 << accept action>> [[psysml:1a7559c2-685c-4c08-a29a-09c3177cd704 ]] \r\n",
       "send \" S() to  B()\" as E6 << send action>> [[psysml:57acc649-2893-4bd5-b427-585e4a8282d2 ]] \r\n",
       "choice \"noname\" as E7  [[psysml:dcda7bbd-01a5-4374-8a97-a16c2625889c ]] \r\n",
       "[*] - -> E4 [[psysml:3a6c3978-61f5-46d3-ad26-c963b1b56f5b ]] \r\n",
       "E7  - -> [*] [[psysml:36daa16f-4b44-48c5-bcb7-7a401bcea152 ]] \r\n",
       "}\r\n",
       "\r\n",
       "rec def \"B\" as E8  <<(T,blue) action def>> [[psysml:86a7eb05-d2a7-4b0b-add7-eac0d2258e69 ]] {\r\n",
       "}\r\n",
       "\r\n",
       "E4 - -> E5 [[psysml:c56e5692-64fd-4b0b-a986-d866765d0210 ]] \r\n",
       "E5 - -> E6 [[psysml:363bb7e0-7ec1-401c-827a-8a23a32c7946 ]] \r\n",
       "E6 - -> E7 [[psysml:84082b66-a23a-4779-a592-98d74f10d8d7 ]] \r\n",
       "E7  - -> E4 [[psysml:49753952-5c4c-4ef6-ad04-e80bfe7cb929 ]] : [true]\r\n",
       "}\r\n",
       "@enduml\r\n",
       "\n",
       "PlantUML version 1.2020.13(Sat Jun 13 12:26:38 UTC 2020)\n",
       "(EPL source distribution)\n",
       "Java Runtime: OpenJDK Runtime Environment\n",
       "JVM: OpenJDK 64-Bit Server VM\n",
       "Default Encoding: UTF-8\n",
       "Language: en\n",
       "Country: null\n",
       "--></g></svg>"
      ]
     },
     "execution_count": 19,
     "metadata": {},
     "output_type": "execute_result"
    }
   ],
   "source": [
    "%viz --style=\"LR\" --view=\"Interconnection\" \"ActionTest\""
   ]
  },
  {
   "cell_type": "code",
   "execution_count": 20,
   "id": "4159e947",
   "metadata": {
    "execution": {
     "iopub.execute_input": "2021-06-30T09:17:42.112139Z",
     "iopub.status.busy": "2021-06-30T09:17:42.110713Z",
     "iopub.status.idle": "2021-06-30T09:17:42.199020Z",
     "shell.execute_reply": "2021-06-30T09:17:42.198489Z"
    }
   },
   "outputs": [
    {
     "data": {
      "image/svg+xml": [
       "<?xml version=\"1.0\" encoding=\"UTF-8\" standalone=\"no\"?><svg xmlns=\"http://www.w3.org/2000/svg\" xmlns:xlink=\"http://www.w3.org/1999/xlink\" contentScriptType=\"application/ecmascript\" contentStyleType=\"text/css\" height=\"237px\" preserveAspectRatio=\"none\" style=\"width:577px;height:237px;\" version=\"1.1\" viewBox=\"0 0 577 237\" width=\"577px\" zoomAndPan=\"magnify\"><defs/><g><!--MD5=[fbc87193dbaf4d95561dea2c320d4a47]\n",
       "cluster E1--><a href=\"psysml:fa9c3421-7722-4415-b8c7-0ea19e95762e\" target=\"_top\" title=\"psysml:fa9c3421-7722-4415-b8c7-0ea19e95762e\" xlink:actuate=\"onRequest\" xlink:href=\"psysml:fa9c3421-7722-4415-b8c7-0ea19e95762e\" xlink:show=\"new\" xlink:title=\"psysml:fa9c3421-7722-4415-b8c7-0ea19e95762e\" xlink:type=\"simple\"><rect fill=\"#FFFFFF\" height=\"160\" id=\"E1\" rx=\"10\" ry=\"10\" style=\"stroke: #383838; stroke-width: 1.5;\" width=\"542\" x=\"23\" y=\"7\"/><rect fill=\"#F8F8F8\" height=\"37.9375\" rx=\"10\" ry=\"10\" style=\"stroke: #F8F8F8; stroke-width: 1.5;\" width=\"542\" x=\"23\" y=\"7\"/><rect fill=\"#F8F8F8\" height=\"10\" style=\"stroke: #F8F8F8; stroke-width: 1.5;\" width=\"542\" x=\"23\" y=\"34.9375\"/><rect fill=\"none\" height=\"160\" id=\"E1\" rx=\"10\" ry=\"10\" style=\"stroke: #383838; stroke-width: 1.5;\" width=\"542\" x=\"23\" y=\"7\"/><text fill=\"#000000\" font-family=\"sans-serif\" font-size=\"12\" font-style=\"italic\" lengthAdjust=\"spacingAndGlyphs\" textLength=\"53\" x=\"267.5\" y=\"23.1387\">«action»</text><text fill=\"#000000\" font-family=\"sans-serif\" font-size=\"12\" lengthAdjust=\"spacingAndGlyphs\" textLength=\"8\" x=\"290\" y=\"37.1074\">a</text><line style=\"stroke: #383838; stroke-width: 1.0;\" x1=\"23\" x2=\"565\" y1=\"44.9375\" y2=\"44.9375\"/></a><polygon fill=\"#F8F8F8\" points=\"120,72,132,84,120,96,108,84,120,72\" style=\"stroke: #383838; stroke-width: 1.5;\"/><!--MD5=[a60fb756f580feb9fd8e2cf1329b5c91]\n",
       "entity E3--><a href=\"psysml:1a7559c2-685c-4c08-a29a-09c3177cd704\" target=\"_top\" title=\"psysml:1a7559c2-685c-4c08-a29a-09c3177cd704\" xlink:actuate=\"onRequest\" xlink:href=\"psysml:1a7559c2-685c-4c08-a29a-09c3177cd704\" xlink:show=\"new\" xlink:title=\"psysml:1a7559c2-685c-4c08-a29a-09c3177cd704\" xlink:type=\"simple\"><polygon fill=\"#F8F8F8\" points=\"149,95.5,149,150.0938,289,150.0938,269,122.7969,289,95.5\" style=\"stroke: #000000; stroke-width: 1.5;\"/><text fill=\"#000000\" font-family=\"sans-serif\" font-size=\"14\" font-style=\"italic\" lengthAdjust=\"spacingAndGlyphs\" textLength=\"111\" x=\"156\" y=\"118.4951\">«accept action»</text><text fill=\"#000000\" font-family=\"sans-serif\" font-size=\"14\" lengthAdjust=\"spacingAndGlyphs\" textLength=\"9\" x=\"207\" y=\"135.792\">S</text></a><!--MD5=[961cefdc15414eaa3e87aec9d17c2188]\n",
       "entity E4--><a href=\"psysml:57acc649-2893-4bd5-b427-585e4a8282d2\" target=\"_top\" title=\"psysml:57acc649-2893-4bd5-b427-585e4a8282d2\" xlink:actuate=\"onRequest\" xlink:href=\"psysml:57acc649-2893-4bd5-b427-585e4a8282d2\" xlink:show=\"new\" xlink:title=\"psysml:57acc649-2893-4bd5-b427-585e4a8282d2\" xlink:type=\"simple\"><polygon fill=\"#F8F8F8\" points=\"343,95.5,343,150.0938,451,150.0938,471,122.7969,451,95.5\" style=\"stroke: #000000; stroke-width: 1.5;\"/><text fill=\"#000000\" font-family=\"sans-serif\" font-size=\"14\" font-style=\"italic\" lengthAdjust=\"spacingAndGlyphs\" textLength=\"99\" x=\"350\" y=\"118.4951\">«send action»</text><text fill=\"#000000\" font-family=\"sans-serif\" font-size=\"14\" lengthAdjust=\"spacingAndGlyphs\" textLength=\"65\" x=\"367\" y=\"135.792\">S() to  B()</text></a><polygon fill=\"#F8F8F8\" points=\"500,72,512,84,500,96,488,84,500,72\" style=\"stroke: #383838; stroke-width: 1.5;\"/><ellipse cx=\"49\" cy=\"84\" fill=\"#000000\" rx=\"10\" ry=\"10\" style=\"stroke: none; stroke-width: 1.0;\"/><ellipse cx=\"539\" cy=\"84\" fill=\"none\" rx=\"10\" ry=\"10\" style=\"stroke: #000000; stroke-width: 1.0;\"/><ellipse cx=\"539.5\" cy=\"84.5\" fill=\"#000000\" rx=\"6\" ry=\"6\" style=\"stroke: none; stroke-width: 1.0;\"/><g id=\"E6\"><a href=\"psysml:86a7eb05-d2a7-4b0b-add7-eac0d2258e69\" target=\"_top\" title=\"psysml:86a7eb05-d2a7-4b0b-add7-eac0d2258e69\" xlink:actuate=\"onRequest\" xlink:href=\"psysml:86a7eb05-d2a7-4b0b-add7-eac0d2258e69\" xlink:show=\"new\" xlink:title=\"psysml:86a7eb05-d2a7-4b0b-add7-eac0d2258e69\" xlink:type=\"simple\"><rect fill=\"#FFFFFF\" height=\"42.9375\" id=\"E6\" style=\"stroke: #383838; stroke-width: 1.5;\" width=\"84\" x=\"7\" y=\"183.5\"/><rect fill=\"#F8F8F8\" height=\"37.9375\" style=\"stroke: #383838; stroke-width: 1.5;\" width=\"84\" x=\"7\" y=\"183.5\"/><text fill=\"#000000\" font-family=\"sans-serif\" font-size=\"12\" font-style=\"italic\" lengthAdjust=\"spacingAndGlyphs\" textLength=\"77\" x=\"10.5\" y=\"199.6387\">«action def»</text><text fill=\"#000000\" font-family=\"sans-serif\" font-size=\"12\" lengthAdjust=\"spacingAndGlyphs\" textLength=\"8\" x=\"45\" y=\"213.6074\">B</text></a></g><!--MD5=[cff944eb183b832d446717a4e202d613]\n",
       "link *start*E1 to E2--><a href=\"psysml:3a6c3978-61f5-46d3-ad26-c963b1b56f5b\" target=\"_top\" title=\"psysml:3a6c3978-61f5-46d3-ad26-c963b1b56f5b\" xlink:actuate=\"onRequest\" xlink:href=\"psysml:3a6c3978-61f5-46d3-ad26-c963b1b56f5b\" xlink:show=\"new\" xlink:title=\"psysml:3a6c3978-61f5-46d3-ad26-c963b1b56f5b\" xlink:type=\"simple\"><path d=\"M59.02,84 C70.11,84 89.15,84 102.8,84 \" fill=\"none\" id=\"*start*E1-&gt;E2\" style=\"stroke: #383838; stroke-width: 1.0; stroke-dasharray: 7.0,7.0;\"/><polygon fill=\"#383838\" points=\"107.92,84,98.92,80,102.92,84,98.92,88,107.92,84\" style=\"stroke: #383838; stroke-width: 1.0;\"/></a><!--MD5=[7fc47fc0d107820853a137871ad908c8]\n",
       "link E5 to *end*E1--><a href=\"psysml:36daa16f-4b44-48c5-bcb7-7a401bcea152\" target=\"_top\" title=\"psysml:36daa16f-4b44-48c5-bcb7-7a401bcea152\" xlink:actuate=\"onRequest\" xlink:href=\"psysml:36daa16f-4b44-48c5-bcb7-7a401bcea152\" xlink:show=\"new\" xlink:title=\"psysml:36daa16f-4b44-48c5-bcb7-7a401bcea152\" xlink:type=\"simple\"><path d=\"M512.3,84 C515.84,84 519.8,84 523.53,84 \" fill=\"none\" id=\"E5-&gt;*end*E1\" style=\"stroke: #383838; stroke-width: 1.0; stroke-dasharray: 7.0,7.0;\"/><polygon fill=\"#383838\" points=\"528.75,84,519.75,80,523.75,84,519.75,88,528.75,84\" style=\"stroke: #383838; stroke-width: 1.0;\"/></a><!--MD5=[2720a5a1f2c3fca2055b230370638851]\n",
       "link E2 to E3--><a href=\"psysml:c56e5692-64fd-4b0b-a986-d866765d0210\" target=\"_top\" title=\"psysml:c56e5692-64fd-4b0b-a986-d866765d0210\" xlink:actuate=\"onRequest\" xlink:href=\"psysml:c56e5692-64fd-4b0b-a986-d866765d0210\" xlink:show=\"new\" xlink:title=\"psysml:c56e5692-64fd-4b0b-a986-d866765d0210\" xlink:type=\"simple\"><path d=\"M128.94,87.19 C133.05,88.84 138.5,91.04 144.7,93.53 \" fill=\"none\" id=\"E2-&gt;E3\" style=\"stroke: #383838; stroke-width: 1.0; stroke-dasharray: 7.0,7.0;\"/><polygon fill=\"#383838\" points=\"149.57,95.49,142.7068,88.4263,144.9296,93.6281,139.7278,95.8509,149.57,95.49\" style=\"stroke: #383838; stroke-width: 1.0;\"/></a><!--MD5=[af87c684e3b0d8be13c1a698a818ef1e]\n",
       "link E3 to E4--><a href=\"psysml:363bb7e0-7ec1-401c-827a-8a23a32c7946\" target=\"_top\" title=\"psysml:363bb7e0-7ec1-401c-827a-8a23a32c7946\" xlink:actuate=\"onRequest\" xlink:href=\"psysml:363bb7e0-7ec1-401c-827a-8a23a32c7946\" xlink:show=\"new\" xlink:title=\"psysml:363bb7e0-7ec1-401c-827a-8a23a32c7946\" xlink:type=\"simple\"><path d=\"M289.26,123 C305.03,123 321.79,123 337.53,123 \" fill=\"none\" id=\"E3-&gt;E4\" style=\"stroke: #383838; stroke-width: 1.0; stroke-dasharray: 7.0,7.0;\"/><polygon fill=\"#383838\" points=\"342.83,123,333.83,119,337.83,123,333.83,127,342.83,123\" style=\"stroke: #383838; stroke-width: 1.0;\"/></a><!--MD5=[1b7591eae5389033d8d09a9d6721a717]\n",
       "link E4 to E5--><a href=\"psysml:84082b66-a23a-4779-a592-98d74f10d8d7\" target=\"_top\" title=\"psysml:84082b66-a23a-4779-a592-98d74f10d8d7\" xlink:actuate=\"onRequest\" xlink:href=\"psysml:84082b66-a23a-4779-a592-98d74f10d8d7\" xlink:show=\"new\" xlink:title=\"psysml:84082b66-a23a-4779-a592-98d74f10d8d7\" xlink:type=\"simple\"><path d=\"M471.2,95.91 C476.78,93.52 481.94,91.31 486.26,89.46 \" fill=\"none\" id=\"E4-&gt;E5\" style=\"stroke: #383838; stroke-width: 1.0; stroke-dasharray: 7.0,7.0;\"/><polygon fill=\"#383838\" points=\"490.92,87.46,481.072,87.3287,486.3243,89.4296,484.2234,94.6819,490.92,87.46\" style=\"stroke: #383838; stroke-width: 1.0;\"/></a><!--MD5=[15ebcb19ae302d9b601edb458606d402]\n",
       "link E5 to E2--><a href=\"psysml:49753952-5c4c-4ef6-ad04-e80bfe7cb929\" target=\"_top\" title=\"psysml:49753952-5c4c-4ef6-ad04-e80bfe7cb929\" xlink:actuate=\"onRequest\" xlink:href=\"psysml:49753952-5c4c-4ef6-ad04-e80bfe7cb929\" xlink:show=\"new\" xlink:title=\"psysml:49753952-5c4c-4ef6-ad04-e80bfe7cb929\" xlink:type=\"simple\"><path d=\"M490.25,81.63 C484.77,80.26 477.53,78.69 471,78 C328.69,62.92 291.31,62.92 149,78 C144.31,78.5 139.25,79.45 134.74,80.45 \" fill=\"none\" id=\"E5-&gt;E2\" style=\"stroke: #383838; stroke-width: 1.0; stroke-dasharray: 7.0,7.0;\"/><polygon fill=\"#383838\" points=\"129.75,81.63,139.4269,83.4623,134.6171,80.4848,137.5946,75.675,129.75,81.63\" style=\"stroke: #383838; stroke-width: 1.0;\"/><text fill=\"#000000\" font-family=\"sans-serif\" font-size=\"13\" lengthAdjust=\"spacingAndGlyphs\" textLength=\"36\" x=\"298\" y=\"63.0669\">[true]</text></a><!--MD5=[db5a31bf9effa4db92e46a9b2f4ae588]\n",
       "@startuml\r\n",
       "skinparam ranksep 8\r\n",
       "left to right direction\r\n",
       "skinparam monochrome true\r\n",
       "skinparam classbackgroundcolor white\r\n",
       "skinparam shadowing false\r\n",
       "skinparam wrapWidth 300\r\n",
       "hide circle\r\n",
       "\r\n",
       "rec usage \"a\" as E1  <<(T,blue) action>> [[psysml:fa9c3421-7722-4415-b8c7-0ea19e95762e ]] {\r\n",
       "choice \"m\" as E2  [[psysml:60604585-cd78-42b0-92ae-265c1a2862a9 ]] \r\n",
       "accept \" S\" as E3 << accept action>> [[psysml:1a7559c2-685c-4c08-a29a-09c3177cd704 ]] \r\n",
       "send \" S() to  B()\" as E4 << send action>> [[psysml:57acc649-2893-4bd5-b427-585e4a8282d2 ]] \r\n",
       "choice \"noname\" as E5  [[psysml:dcda7bbd-01a5-4374-8a97-a16c2625889c ]] \r\n",
       "[*] ..> E2 [[psysml:3a6c3978-61f5-46d3-ad26-c963b1b56f5b ]] \r\n",
       "E5 ..> [*] [[psysml:36daa16f-4b44-48c5-bcb7-7a401bcea152 ]] \r\n",
       "}\r\n",
       "\r\n",
       "E2 ..> E3 [[psysml:c56e5692-64fd-4b0b-a986-d866765d0210 ]] \r\n",
       "E3 ..> E4 [[psysml:363bb7e0-7ec1-401c-827a-8a23a32c7946 ]] \r\n",
       "E4 ..> E5 [[psysml:84082b66-a23a-4779-a592-98d74f10d8d7 ]] \r\n",
       "E5 ..> E2 [[psysml:49753952-5c4c-4ef6-ad04-e80bfe7cb929 ]] : [true]\r\n",
       "rec def \"B\" as E6  <<(T,blue) action def>> [[psysml:86a7eb05-d2a7-4b0b-add7-eac0d2258e69 ]] {\r\n",
       "}\r\n",
       "\r\n",
       "@enduml\r\n",
       "\n",
       "PlantUML version 1.2020.13(Sat Jun 13 12:26:38 UTC 2020)\n",
       "(EPL source distribution)\n",
       "Java Runtime: OpenJDK Runtime Environment\n",
       "JVM: OpenJDK 64-Bit Server VM\n",
       "Default Encoding: UTF-8\n",
       "Language: en\n",
       "Country: null\n",
       "--></g></svg>"
      ]
     },
     "execution_count": 20,
     "metadata": {},
     "output_type": "execute_result"
    }
   ],
   "source": [
    "%viz --style=\"LR\" --view=\"Action\" \"ActionTest\""
   ]
  },
  {
   "cell_type": "code",
   "execution_count": 21,
   "id": "c0e52508",
   "metadata": {
    "execution": {
     "iopub.execute_input": "2021-06-30T09:17:42.249685Z",
     "iopub.status.busy": "2021-06-30T09:17:42.248904Z",
     "iopub.status.idle": "2021-06-30T09:17:42.314889Z",
     "shell.execute_reply": "2021-06-30T09:17:42.312542Z"
    }
   },
   "outputs": [
    {
     "data": {
      "image/svg+xml": [
       "<?xml version=\"1.0\" encoding=\"UTF-8\" standalone=\"no\"?><svg xmlns=\"http://www.w3.org/2000/svg\" xmlns:xlink=\"http://www.w3.org/1999/xlink\" contentScriptType=\"application/ecmascript\" contentStyleType=\"text/css\" height=\"439px\" preserveAspectRatio=\"none\" style=\"width:466px;height:439px;\" version=\"1.1\" viewBox=\"0 0 466 439\" width=\"466px\" zoomAndPan=\"magnify\"><defs/><g><!--MD5=[fbc87193dbaf4d95561dea2c320d4a47]\n",
       "cluster E1--><a href=\"psysml:4a739ce7-b110-4093-8b74-31ee982b1e00\" target=\"_top\" title=\"psysml:4a739ce7-b110-4093-8b74-31ee982b1e00\" xlink:actuate=\"onRequest\" xlink:href=\"psysml:4a739ce7-b110-4093-8b74-31ee982b1e00\" xlink:show=\"new\" xlink:title=\"psysml:4a739ce7-b110-4093-8b74-31ee982b1e00\" xlink:type=\"simple\"><polygon fill=\"#FFFFFF\" points=\"16,6,107,6,114,28.2969,444,28.2969,444,427,16,427,16,6\" style=\"stroke: #000000; stroke-width: 1.5;\"/><line style=\"stroke: #000000; stroke-width: 1.5;\" x1=\"16\" x2=\"114\" y1=\"28.2969\" y2=\"28.2969\"/><text fill=\"#000000\" font-family=\"sans-serif\" font-size=\"14\" font-weight=\"bold\" lengthAdjust=\"spacingAndGlyphs\" textLength=\"85\" x=\"20\" y=\"20.9951\">ActionTest</text></a><!--MD5=[b4997ac47864f28c2f74865a473b2911]\n",
       "class E2--><a href=\"psysml:e3ea157b-753f-4ff0-b9f5-62b19f528d25\" target=\"_top\" title=\"psysml:e3ea157b-753f-4ff0-b9f5-62b19f528d25\" xlink:actuate=\"onRequest\" xlink:href=\"psysml:e3ea157b-753f-4ff0-b9f5-62b19f528d25\" xlink:show=\"new\" xlink:title=\"psysml:e3ea157b-753f-4ff0-b9f5-62b19f528d25\" xlink:type=\"simple\"><rect fill=\"#FFFFFF\" height=\"45.9375\" id=\"E2\" style=\"stroke: #383838; stroke-width: 1.5;\" width=\"95\" x=\"333\" y=\"203\"/><text fill=\"#000000\" font-family=\"sans-serif\" font-size=\"12\" font-style=\"italic\" lengthAdjust=\"spacingAndGlyphs\" textLength=\"93\" x=\"334\" y=\"219.1387\">«attribute def»</text><text fill=\"#000000\" font-family=\"sans-serif\" font-size=\"12\" lengthAdjust=\"spacingAndGlyphs\" textLength=\"8\" x=\"376.5\" y=\"233.1074\">S</text><line style=\"stroke: #383838; stroke-width: 1.5;\" x1=\"334\" x2=\"427\" y1=\"240.9375\" y2=\"240.9375\"/></a><!--MD5=[09b614a08d8cba4a07c9adeb5e0fee81]\n",
       "class E3--><a href=\"psysml:fa9c3421-7722-4415-b8c7-0ea19e95762e\" target=\"_top\" title=\"psysml:fa9c3421-7722-4415-b8c7-0ea19e95762e\" xlink:actuate=\"onRequest\" xlink:href=\"psysml:fa9c3421-7722-4415-b8c7-0ea19e95762e\" xlink:show=\"new\" xlink:title=\"psysml:fa9c3421-7722-4415-b8c7-0ea19e95762e\" xlink:type=\"simple\"><rect fill=\"#FFFFFF\" height=\"45.9375\" id=\"E3\" rx=\"10\" ry=\"10\" style=\"stroke: #383838; stroke-width: 1.5;\" width=\"55\" x=\"44\" y=\"203\"/><text fill=\"#000000\" font-family=\"sans-serif\" font-size=\"12\" font-style=\"italic\" lengthAdjust=\"spacingAndGlyphs\" textLength=\"53\" x=\"45\" y=\"219.1387\">«action»</text><text fill=\"#000000\" font-family=\"sans-serif\" font-size=\"12\" lengthAdjust=\"spacingAndGlyphs\" textLength=\"8\" x=\"67.5\" y=\"233.1074\">a</text><line style=\"stroke: #383838; stroke-width: 1.5;\" x1=\"45\" x2=\"98\" y1=\"240.9375\" y2=\"240.9375\"/></a><!--MD5=[ebbe1d658d1005bcc118a6aa81145e00]\n",
       "class E4--><a href=\"psysml:a6d1daf9-13da-45ca-a864-cb134e7177b5\" target=\"_top\" title=\"psysml:a6d1daf9-13da-45ca-a864-cb134e7177b5\" xlink:actuate=\"onRequest\" xlink:href=\"psysml:a6d1daf9-13da-45ca-a864-cb134e7177b5\" xlink:show=\"new\" xlink:title=\"psysml:a6d1daf9-13da-45ca-a864-cb134e7177b5\" xlink:type=\"simple\"><rect fill=\"#FFFFFF\" height=\"45.9375\" id=\"E4\" rx=\"10\" ry=\"10\" style=\"stroke: #383838; stroke-width: 1.5;\" width=\"83\" x=\"180.5\" y=\"365\"/><text fill=\"#000000\" font-family=\"sans-serif\" font-size=\"12\" font-style=\"italic\" lengthAdjust=\"spacingAndGlyphs\" textLength=\"53\" x=\"195.5\" y=\"381.1387\">«action»</text><text fill=\"#000000\" font-family=\"sans-serif\" font-size=\"12\" lengthAdjust=\"spacingAndGlyphs\" textLength=\"77\" x=\"183.5\" y=\"395.1074\">start: Action</text><line style=\"stroke: #383838; stroke-width: 1.5;\" x1=\"181.5\" x2=\"262.5\" y1=\"402.9375\" y2=\"402.9375\"/></a><!--MD5=[270fce915f116d4de14055a7c1d9a0f3]\n",
       "class E5--><a href=\"psysml:60604585-cd78-42b0-92ae-265c1a2862a9\" target=\"_top\" title=\"psysml:60604585-cd78-42b0-92ae-265c1a2862a9\" xlink:actuate=\"onRequest\" xlink:href=\"psysml:60604585-cd78-42b0-92ae-265c1a2862a9\" xlink:show=\"new\" xlink:title=\"psysml:60604585-cd78-42b0-92ae-265c1a2862a9\" xlink:type=\"simple\"><rect fill=\"#FFFFFF\" height=\"45.9375\" id=\"E5\" rx=\"10\" ry=\"10\" style=\"stroke: #383838; stroke-width: 1.5;\" width=\"89\" x=\"177.5\" y=\"284\"/><text fill=\"#000000\" font-family=\"sans-serif\" font-size=\"12\" font-style=\"italic\" lengthAdjust=\"spacingAndGlyphs\" textLength=\"87\" x=\"178.5\" y=\"300.1387\">«mergeNode»</text><text fill=\"#000000\" font-family=\"sans-serif\" font-size=\"12\" lengthAdjust=\"spacingAndGlyphs\" textLength=\"11\" x=\"216.5\" y=\"314.1074\">m</text><line style=\"stroke: #383838; stroke-width: 1.5;\" x1=\"178.5\" x2=\"265.5\" y1=\"321.9375\" y2=\"321.9375\"/></a><!--MD5=[60a26617385b1d2d0262a64233df1f8d]\n",
       "class E6--><a href=\"psysml:1a7559c2-685c-4c08-a29a-09c3177cd704\" target=\"_top\" title=\"psysml:1a7559c2-685c-4c08-a29a-09c3177cd704\" xlink:actuate=\"onRequest\" xlink:href=\"psysml:1a7559c2-685c-4c08-a29a-09c3177cd704\" xlink:show=\"new\" xlink:title=\"psysml:1a7559c2-685c-4c08-a29a-09c3177cd704\" xlink:type=\"simple\"><rect fill=\"#FFFFFF\" height=\"45.9375\" id=\"E6\" rx=\"10\" ry=\"10\" style=\"stroke: #383838; stroke-width: 1.5;\" width=\"102\" x=\"171\" y=\"203\"/><text fill=\"#000000\" font-family=\"sans-serif\" font-size=\"12\" font-style=\"italic\" lengthAdjust=\"spacingAndGlyphs\" textLength=\"100\" x=\"172\" y=\"219.1387\">«accept action»</text><text fill=\"#000000\" font-family=\"sans-serif\" font-size=\"12\" lengthAdjust=\"spacingAndGlyphs\" text-decoration=\"line-through\" textLength=\"51\" x=\"196.5\" y=\"233.1074\">noname</text><line style=\"stroke: #383838; stroke-width: 1.5;\" x1=\"172\" x2=\"272\" y1=\"240.9375\" y2=\"240.9375\"/></a><!--MD5=[2156ba9850f5573cc1fc38a6a4b2f02b]\n",
       "class E7--><a href=\"psysml:57acc649-2893-4bd5-b427-585e4a8282d2\" target=\"_top\" title=\"psysml:57acc649-2893-4bd5-b427-585e4a8282d2\" xlink:actuate=\"onRequest\" xlink:href=\"psysml:57acc649-2893-4bd5-b427-585e4a8282d2\" xlink:show=\"new\" xlink:title=\"psysml:57acc649-2893-4bd5-b427-585e4a8282d2\" xlink:type=\"simple\"><rect fill=\"#FFFFFF\" height=\"45.9375\" id=\"E7\" rx=\"10\" ry=\"10\" style=\"stroke: #383838; stroke-width: 1.5;\" width=\"90\" x=\"177\" y=\"122\"/><text fill=\"#000000\" font-family=\"sans-serif\" font-size=\"12\" font-style=\"italic\" lengthAdjust=\"spacingAndGlyphs\" textLength=\"88\" x=\"178\" y=\"138.1387\">«send action»</text><text fill=\"#000000\" font-family=\"sans-serif\" font-size=\"12\" lengthAdjust=\"spacingAndGlyphs\" text-decoration=\"line-through\" textLength=\"51\" x=\"196.5\" y=\"152.1074\">noname</text><line style=\"stroke: #383838; stroke-width: 1.5;\" x1=\"178\" x2=\"266\" y1=\"159.9375\" y2=\"159.9375\"/></a><!--MD5=[b9389687b975829384b498ac4b7476b2]\n",
       "class E8--><a href=\"psysml:dcda7bbd-01a5-4374-8a97-a16c2625889c\" target=\"_top\" title=\"psysml:dcda7bbd-01a5-4374-8a97-a16c2625889c\" xlink:actuate=\"onRequest\" xlink:href=\"psysml:dcda7bbd-01a5-4374-8a97-a16c2625889c\" xlink:show=\"new\" xlink:title=\"psysml:dcda7bbd-01a5-4374-8a97-a16c2625889c\" xlink:type=\"simple\"><rect fill=\"#FFFFFF\" height=\"45.9375\" id=\"E8\" rx=\"10\" ry=\"10\" style=\"stroke: #383838; stroke-width: 1.5;\" width=\"101\" x=\"171.5\" y=\"41\"/><text fill=\"#000000\" font-family=\"sans-serif\" font-size=\"12\" font-style=\"italic\" lengthAdjust=\"spacingAndGlyphs\" textLength=\"99\" x=\"172.5\" y=\"57.1387\">«decisionNode»</text><text fill=\"#000000\" font-family=\"sans-serif\" font-size=\"12\" lengthAdjust=\"spacingAndGlyphs\" text-decoration=\"line-through\" textLength=\"51\" x=\"196.5\" y=\"71.1074\">noname</text><line style=\"stroke: #383838; stroke-width: 1.5;\" x1=\"172.5\" x2=\"271.5\" y1=\"78.9375\" y2=\"78.9375\"/></a><!--MD5=[fd4143e9d270a159db93a4ea2a975926]\n",
       "class E9--><a href=\"psysml:86a7eb05-d2a7-4b0b-add7-eac0d2258e69\" target=\"_top\" title=\"psysml:86a7eb05-d2a7-4b0b-add7-eac0d2258e69\" xlink:actuate=\"onRequest\" xlink:href=\"psysml:86a7eb05-d2a7-4b0b-add7-eac0d2258e69\" xlink:show=\"new\" xlink:title=\"psysml:86a7eb05-d2a7-4b0b-add7-eac0d2258e69\" xlink:type=\"simple\"><rect fill=\"#FFFFFF\" height=\"45.9375\" id=\"E9\" style=\"stroke: #383838; stroke-width: 1.5;\" width=\"79\" x=\"32\" y=\"324\"/><text fill=\"#000000\" font-family=\"sans-serif\" font-size=\"12\" font-style=\"italic\" lengthAdjust=\"spacingAndGlyphs\" textLength=\"77\" x=\"33\" y=\"340.1387\">«action def»</text><text fill=\"#000000\" font-family=\"sans-serif\" font-size=\"12\" lengthAdjust=\"spacingAndGlyphs\" textLength=\"8\" x=\"67.5\" y=\"354.1074\">B</text><line style=\"stroke: #383838; stroke-width: 1.5;\" x1=\"33\" x2=\"110\" y1=\"361.9375\" y2=\"361.9375\"/></a><!--MD5=[4672eba38e49728da53d11aeb285b987]\n",
       "reverse link E3 to E4--><a href=\"psysml:52dfc4ad-a62d-4432-a88b-57c0a80d621d\" target=\"_top\" title=\"psysml:52dfc4ad-a62d-4432-a88b-57c0a80d621d\" xlink:actuate=\"onRequest\" xlink:href=\"psysml:52dfc4ad-a62d-4432-a88b-57c0a80d621d\" xlink:show=\"new\" xlink:title=\"psysml:52dfc4ad-a62d-4432-a88b-57c0a80d621d\" xlink:type=\"simple\"><path d=\"M96.72,259.88 C115.63,285.33 143.27,320.4 171,348 C176.83,353.8 183.47,359.59 189.96,364.89 \" fill=\"none\" id=\"E3&lt;-E4\" style=\"stroke: #383838; stroke-width: 1.0;\"/><polygon fill=\"#FFFFFF\" points=\"88.92,249.27,89.2472,256.4737,96.0226,258.9422,95.6954,251.7386,88.92,249.27\" style=\"stroke: #383838; stroke-width: 1.0;\"/></a><!--MD5=[191cde3d490a3f6d7bb551fe3ddca469]\n",
       "reverse link E3 to E5--><a href=\"psysml:99d9f5a6-f2b4-4631-bd24-2952b87c2311\" target=\"_top\" title=\"psysml:99d9f5a6-f2b4-4631-bd24-2952b87c2311\" xlink:actuate=\"onRequest\" xlink:href=\"psysml:99d9f5a6-f2b4-4631-bd24-2952b87c2311\" xlink:show=\"new\" xlink:title=\"psysml:99d9f5a6-f2b4-4631-bd24-2952b87c2311\" xlink:type=\"simple\"><path d=\"M110.65,246.81 C131.45,258.16 157.25,272.23 178.67,283.91 \" fill=\"none\" id=\"E3&lt;-E5\" style=\"stroke: #383838; stroke-width: 1.0;\"/><polygon fill=\"#383838\" points=\"99.05,240.48,102.4008,246.8653,109.5837,246.2281,106.2329,239.8428,99.05,240.48\" style=\"stroke: #383838; stroke-width: 1.0;\"/></a><!--MD5=[1026b4b93417a13aa8999a858998add2]\n",
       "reverse link E3 to E6--><a href=\"psysml:14dfaf6d-db59-420e-a3c6-2cc6bbb5f023\" target=\"_top\" title=\"psysml:14dfaf6d-db59-420e-a3c6-2cc6bbb5f023\" xlink:actuate=\"onRequest\" xlink:href=\"psysml:14dfaf6d-db59-420e-a3c6-2cc6bbb5f023\" xlink:show=\"new\" xlink:title=\"psysml:14dfaf6d-db59-420e-a3c6-2cc6bbb5f023\" xlink:type=\"simple\"><path d=\"M112.09,226 C130.16,226 151.78,226 170.97,226 \" fill=\"none\" id=\"E3&lt;-E6\" style=\"stroke: #383838; stroke-width: 1.0;\"/><polygon fill=\"#FFFFFF\" points=\"99.05,226,105.05,230,111.05,226,105.05,222,99.05,226\" style=\"stroke: #383838; stroke-width: 1.0;\"/></a><!--MD5=[3403bfa781cc3da0fd423dbab6f01c63]\n",
       "reverse link E6 to E2--><a href=\"psysml:773d19c1-1d9b-4741-b5ba-dd5a31e080a3\" target=\"_top\" title=\"psysml:773d19c1-1d9b-4741-b5ba-dd5a31e080a3\" xlink:actuate=\"onRequest\" xlink:href=\"psysml:773d19c1-1d9b-4741-b5ba-dd5a31e080a3\" xlink:show=\"new\" xlink:title=\"psysml:773d19c1-1d9b-4741-b5ba-dd5a31e080a3\" xlink:type=\"simple\"><path d=\"M286.71,226 C302.17,226 318.43,226 332.93,226 \" fill=\"none\" id=\"E6&lt;-E2\" style=\"stroke: #383838; stroke-width: 1.0;\"/><polygon fill=\"#FFFFFF\" points=\"273.38,226,279.38,230,285.38,226,279.38,222,273.38,226\" style=\"stroke: #383838; stroke-width: 1.0;\"/></a><!--MD5=[85760999379eecfd2565a9fecdca67e4]\n",
       "reverse link E3 to E7--><a href=\"psysml:4bddb34b-31d0-4487-9835-f5e5c1238220\" target=\"_top\" title=\"psysml:4bddb34b-31d0-4487-9835-f5e5c1238220\" xlink:actuate=\"onRequest\" xlink:href=\"psysml:4bddb34b-31d0-4487-9835-f5e5c1238220\" xlink:show=\"new\" xlink:title=\"psysml:4bddb34b-31d0-4487-9835-f5e5c1238220\" xlink:type=\"simple\"><path d=\"M110.65,205.19 C131.45,193.84 157.25,179.77 178.67,168.09 \" fill=\"none\" id=\"E3&lt;-E7\" style=\"stroke: #383838; stroke-width: 1.0;\"/><polygon fill=\"#FFFFFF\" points=\"99.05,211.52,106.2329,212.1572,109.5837,205.7719,102.4008,205.1347,99.05,211.52\" style=\"stroke: #383838; stroke-width: 1.0;\"/></a><!--MD5=[4cb75b73ec3682b8f7f8edc9cc86126a]\n",
       "reverse link E3 to E8--><a href=\"psysml:010ce356-5f58-462c-8431-75351dc3ac74\" target=\"_top\" title=\"psysml:010ce356-5f58-462c-8431-75351dc3ac74\" xlink:actuate=\"onRequest\" xlink:href=\"psysml:010ce356-5f58-462c-8431-75351dc3ac74\" xlink:show=\"new\" xlink:title=\"psysml:010ce356-5f58-462c-8431-75351dc3ac74\" xlink:type=\"simple\"><path d=\"M96.72,192.12 C115.63,166.67 143.27,131.6 171,104 C176.83,98.2 183.47,92.41 189.96,87.11 \" fill=\"none\" id=\"E3&lt;-E8\" style=\"stroke: #383838; stroke-width: 1.0;\"/><polygon fill=\"#383838\" points=\"88.92,202.73,95.6954,200.2614,96.0226,193.0578,89.2472,195.5263,88.92,202.73\" style=\"stroke: #383838; stroke-width: 1.0;\"/></a><!--MD5=[443737be60c979e267bbdff599baeb30]\n",
       "@startuml\r\n",
       "left to right direction\r\n",
       "skinparam monochrome true\r\n",
       "skinparam classbackgroundcolor white\r\n",
       "skinparam shadowing false\r\n",
       "skinparam wrapWidth 300\r\n",
       "hide circle\r\n",
       "\r\n",
       "package \"ActionTest\" as E1  [[psysml:4a739ce7-b110-4093-8b74-31ee982b1e00 ]]  {\r\n",
       "comp def \"S\" as E2  <<(T,blue) attribute def>> [[psysml:e3ea157b-753f-4ff0-b9f5-62b19f528d25 ]] {\r\n",
       "}\r\n",
       "comp usage \"a\" as E3  <<(T,blue) action>> [[psysml:fa9c3421-7722-4415-b8c7-0ea19e95762e ]] {\r\n",
       "}\r\n",
       "comp usage \"start: Action\" as E4  <<(T,blue) action>> [[psysml:a6d1daf9-13da-45ca-a864-cb134e7177b5 ]] {\r\n",
       "}\r\n",
       "comp usage \"m\" as E5  <<(T,blue) mergeNode>> [[psysml:60604585-cd78-42b0-92ae-265c1a2862a9 ]] {\r\n",
       "}\r\n",
       "comp usage \"<s>noname</s>\" as E6 << accept action>> [[psysml:1a7559c2-685c-4c08-a29a-09c3177cd704 ]] {\r\n",
       "}\r\n",
       "comp usage \"<s>noname</s>\" as E7 << send action>> [[psysml:57acc649-2893-4bd5-b427-585e4a8282d2 ]] {\r\n",
       "}\r\n",
       "comp usage \"<s>noname</s>\" as E8  <<(T,blue) decisionNode>> [[psysml:dcda7bbd-01a5-4374-8a97-a16c2625889c ]] {\r\n",
       "}\r\n",
       "comp def \"B\" as E9  <<(T,blue) action def>> [[psysml:86a7eb05-d2a7-4b0b-add7-eac0d2258e69 ]] {\r\n",
       "}\r\n",
       "E3 o- - E4 [[psysml:52dfc4ad-a62d-4432-a88b-57c0a80d621d ]] \r\n",
       "E3 *- - E5 [[psysml:99d9f5a6-f2b4-4631-bd24-2952b87c2311 ]] \r\n",
       "E3 o- - E6 [[psysml:14dfaf6d-db59-420e-a3c6-2cc6bbb5f023 ]] \r\n",
       "E6 o- - E2 [[psysml:773d19c1-1d9b-4741-b5ba-dd5a31e080a3 ]] \r\n",
       "E3 o- - E7 [[psysml:4bddb34b-31d0-4487-9835-f5e5c1238220 ]] \r\n",
       "E3 *- - E8 [[psysml:010ce356-5f58-462c-8431-75351dc3ac74 ]] \r\n",
       "}\r\n",
       "@enduml\r\n",
       "\n",
       "PlantUML version 1.2020.13(Sat Jun 13 12:26:38 UTC 2020)\n",
       "(EPL source distribution)\n",
       "Java Runtime: OpenJDK Runtime Environment\n",
       "JVM: OpenJDK 64-Bit Server VM\n",
       "Default Encoding: UTF-8\n",
       "Language: en\n",
       "Country: null\n",
       "--></g></svg>"
      ]
     },
     "execution_count": 21,
     "metadata": {},
     "output_type": "execute_result"
    }
   ],
   "source": [
    "%viz --style=\"LR\" --view=\"Sequence\" \"ActionTest\""
   ]
  },
  {
   "cell_type": "code",
   "execution_count": 22,
   "id": "d32e0b38",
   "metadata": {
    "execution": {
     "iopub.execute_input": "2021-06-30T09:17:42.367441Z",
     "iopub.status.busy": "2021-06-30T09:17:42.366768Z",
     "iopub.status.idle": "2021-06-30T09:17:42.442443Z",
     "shell.execute_reply": "2021-06-30T09:17:42.441915Z"
    }
   },
   "outputs": [
    {
     "data": {
      "image/svg+xml": [
       "<?xml version=\"1.0\" encoding=\"UTF-8\" standalone=\"no\"?><svg xmlns=\"http://www.w3.org/2000/svg\" xmlns:xlink=\"http://www.w3.org/1999/xlink\" contentScriptType=\"application/ecmascript\" contentStyleType=\"text/css\" height=\"378px\" preserveAspectRatio=\"none\" style=\"width:867px;height:378px;\" version=\"1.1\" viewBox=\"0 0 867 378\" width=\"867px\" zoomAndPan=\"magnify\"><defs/><g><!--MD5=[fbc87193dbaf4d95561dea2c320d4a47]\n",
       "cluster E1--><a href=\"psysml:4a739ce7-b110-4093-8b74-31ee982b1e00\" target=\"_top\" title=\"psysml:4a739ce7-b110-4093-8b74-31ee982b1e00\" xlink:actuate=\"onRequest\" xlink:href=\"psysml:4a739ce7-b110-4093-8b74-31ee982b1e00\" xlink:show=\"new\" xlink:title=\"psysml:4a739ce7-b110-4093-8b74-31ee982b1e00\" xlink:type=\"simple\"><polygon fill=\"#FFFFFF\" points=\"16,6,107,6,114,28.2969,845,28.2969,845,366,16,366,16,6\" style=\"stroke: #000000; stroke-width: 1.5;\"/><line style=\"stroke: #000000; stroke-width: 1.5;\" x1=\"16\" x2=\"114\" y1=\"28.2969\" y2=\"28.2969\"/><text fill=\"#000000\" font-family=\"sans-serif\" font-size=\"14\" font-weight=\"bold\" lengthAdjust=\"spacingAndGlyphs\" textLength=\"85\" x=\"20\" y=\"20.9951\">ActionTest</text></a><!--MD5=[d5e69f78d87373223dbae638b30a9c99]\n",
       "cluster E3--><a href=\"psysml:fa9c3421-7722-4415-b8c7-0ea19e95762e\" target=\"_top\" title=\"psysml:fa9c3421-7722-4415-b8c7-0ea19e95762e\" xlink:actuate=\"onRequest\" xlink:href=\"psysml:fa9c3421-7722-4415-b8c7-0ea19e95762e\" xlink:show=\"new\" xlink:title=\"psysml:fa9c3421-7722-4415-b8c7-0ea19e95762e\" xlink:type=\"simple\"><rect fill=\"#FFFFFF\" height=\"160\" id=\"E3\" rx=\"10\" ry=\"10\" style=\"stroke: #383838; stroke-width: 1.5;\" width=\"767.5\" x=\"53.5\" y=\"49\"/><rect fill=\"#F8F8F8\" height=\"37.9375\" rx=\"10\" ry=\"10\" style=\"stroke: #F8F8F8; stroke-width: 1.5;\" width=\"767.5\" x=\"53.5\" y=\"49\"/><rect fill=\"#F8F8F8\" height=\"10\" style=\"stroke: #F8F8F8; stroke-width: 1.5;\" width=\"767.5\" x=\"53.5\" y=\"76.9375\"/><rect fill=\"none\" height=\"160\" id=\"E3\" rx=\"10\" ry=\"10\" style=\"stroke: #383838; stroke-width: 1.5;\" width=\"767.5\" x=\"53.5\" y=\"49\"/><text fill=\"#000000\" font-family=\"sans-serif\" font-size=\"12\" font-style=\"italic\" lengthAdjust=\"spacingAndGlyphs\" textLength=\"53\" x=\"410.75\" y=\"65.1387\">«action»</text><text fill=\"#000000\" font-family=\"sans-serif\" font-size=\"12\" lengthAdjust=\"spacingAndGlyphs\" textLength=\"8\" x=\"433.25\" y=\"79.1074\">a</text><line style=\"stroke: #383838; stroke-width: 1.0;\" x1=\"53.5\" x2=\"821\" y1=\"86.9375\" y2=\"86.9375\"/></a><!--MD5=[b4997ac47864f28c2f74865a473b2911]\n",
       "class E2--><a href=\"psysml:e3ea157b-753f-4ff0-b9f5-62b19f528d25\" target=\"_top\" title=\"psysml:e3ea157b-753f-4ff0-b9f5-62b19f528d25\" xlink:actuate=\"onRequest\" xlink:href=\"psysml:e3ea157b-753f-4ff0-b9f5-62b19f528d25\" xlink:show=\"new\" xlink:title=\"psysml:e3ea157b-753f-4ff0-b9f5-62b19f528d25\" xlink:type=\"simple\"><rect fill=\"#FFFFFF\" height=\"45.9375\" id=\"E2\" style=\"stroke: #383838; stroke-width: 1.5;\" width=\"95\" x=\"32\" y=\"225\"/><text fill=\"#000000\" font-family=\"sans-serif\" font-size=\"12\" font-style=\"italic\" lengthAdjust=\"spacingAndGlyphs\" textLength=\"93\" x=\"33\" y=\"241.1387\">«attribute def»</text><text fill=\"#000000\" font-family=\"sans-serif\" font-size=\"12\" lengthAdjust=\"spacingAndGlyphs\" textLength=\"8\" x=\"75.5\" y=\"255.1074\">S</text><line style=\"stroke: #383838; stroke-width: 1.5;\" x1=\"33\" x2=\"126\" y1=\"262.9375\" y2=\"262.9375\"/></a><polygon fill=\"#F8F8F8\" points=\"200,114,212,126,200,138,188,126,200,114\" style=\"stroke: #383838; stroke-width: 1.5;\"/><!--MD5=[21dd76c19d33815960c0e92fef8f0eef]\n",
       "entity E5--><a href=\"psysml:1a7559c2-685c-4c08-a29a-09c3177cd704\" target=\"_top\" title=\"psysml:1a7559c2-685c-4c08-a29a-09c3177cd704\" xlink:actuate=\"onRequest\" xlink:href=\"psysml:1a7559c2-685c-4c08-a29a-09c3177cd704\" xlink:show=\"new\" xlink:title=\"psysml:1a7559c2-685c-4c08-a29a-09c3177cd704\" xlink:type=\"simple\"><polygon fill=\"#F8F8F8\" points=\"273,137.5,273,192.0938,413,192.0938,393,164.7969,413,137.5\" style=\"stroke: #000000; stroke-width: 1.5;\"/><text fill=\"#000000\" font-family=\"sans-serif\" font-size=\"14\" font-style=\"italic\" lengthAdjust=\"spacingAndGlyphs\" textLength=\"111\" x=\"280\" y=\"160.4951\">«accept action»</text><text fill=\"#000000\" font-family=\"sans-serif\" font-size=\"14\" lengthAdjust=\"spacingAndGlyphs\" textLength=\"9\" x=\"331\" y=\"177.792\">S</text></a><!--MD5=[24d87cdf3002d433f401b2a2aa9f9f65]\n",
       "entity E6--><a href=\"psysml:57acc649-2893-4bd5-b427-585e4a8282d2\" target=\"_top\" title=\"psysml:57acc649-2893-4bd5-b427-585e4a8282d2\" xlink:actuate=\"onRequest\" xlink:href=\"psysml:57acc649-2893-4bd5-b427-585e4a8282d2\" xlink:show=\"new\" xlink:title=\"psysml:57acc649-2893-4bd5-b427-585e4a8282d2\" xlink:type=\"simple\"><polygon fill=\"#F8F8F8\" points=\"511,137.5,511,192.0938,619,192.0938,639,164.7969,619,137.5\" style=\"stroke: #000000; stroke-width: 1.5;\"/><text fill=\"#000000\" font-family=\"sans-serif\" font-size=\"14\" font-style=\"italic\" lengthAdjust=\"spacingAndGlyphs\" textLength=\"99\" x=\"518\" y=\"160.4951\">«send action»</text><text fill=\"#000000\" font-family=\"sans-serif\" font-size=\"14\" lengthAdjust=\"spacingAndGlyphs\" textLength=\"65\" x=\"535\" y=\"177.792\">S() to  B()</text></a><polygon fill=\"#F8F8F8\" points=\"712,114,724,126,712,138,700,126,712,114\" style=\"stroke: #383838; stroke-width: 1.5;\"/><ellipse cx=\"79.5\" cy=\"126\" fill=\"#000000\" rx=\"10\" ry=\"10\" style=\"stroke: none; stroke-width: 1.0;\"/><ellipse cx=\"795\" cy=\"126\" fill=\"none\" rx=\"10\" ry=\"10\" style=\"stroke: #000000; stroke-width: 1.0;\"/><ellipse cx=\"795.5\" cy=\"126.5\" fill=\"#000000\" rx=\"6\" ry=\"6\" style=\"stroke: none; stroke-width: 1.0;\"/><g id=\"E1.E8\"><a href=\"psysml:86a7eb05-d2a7-4b0b-add7-eac0d2258e69\" target=\"_top\" title=\"psysml:86a7eb05-d2a7-4b0b-add7-eac0d2258e69\" xlink:actuate=\"onRequest\" xlink:href=\"psysml:86a7eb05-d2a7-4b0b-add7-eac0d2258e69\" xlink:show=\"new\" xlink:title=\"psysml:86a7eb05-d2a7-4b0b-add7-eac0d2258e69\" xlink:type=\"simple\"><rect fill=\"#FFFFFF\" height=\"42.9375\" id=\"E8\" style=\"stroke: #383838; stroke-width: 1.5;\" width=\"84\" x=\"37.5\" y=\"306.5\"/><rect fill=\"#F8F8F8\" height=\"37.9375\" style=\"stroke: #383838; stroke-width: 1.5;\" width=\"84\" x=\"37.5\" y=\"306.5\"/><text fill=\"#000000\" font-family=\"sans-serif\" font-size=\"12\" font-style=\"italic\" lengthAdjust=\"spacingAndGlyphs\" textLength=\"77\" x=\"41\" y=\"322.6387\">«action def»</text><text fill=\"#000000\" font-family=\"sans-serif\" font-size=\"12\" lengthAdjust=\"spacingAndGlyphs\" textLength=\"8\" x=\"75.5\" y=\"336.6074\">B</text></a></g><!--MD5=[f47e10efcf9a6752d55dae986d790ed9]\n",
       "link *start*E3 to E4--><a href=\"psysml:3a6c3978-61f5-46d3-ad26-c963b1b56f5b\" target=\"_top\" title=\"psysml:3a6c3978-61f5-46d3-ad26-c963b1b56f5b\" xlink:actuate=\"onRequest\" xlink:href=\"psysml:3a6c3978-61f5-46d3-ad26-c963b1b56f5b\" xlink:show=\"new\" xlink:title=\"psysml:3a6c3978-61f5-46d3-ad26-c963b1b56f5b\" xlink:type=\"simple\"><path d=\"M89.8,126 C109.87,126 157.46,126 182.68,126 \" fill=\"none\" id=\"*start*E3-&gt;E4\" style=\"stroke: #383838; stroke-width: 1.0;\"/><polygon fill=\"#383838\" points=\"187.7,126,178.7,122,182.7,126,178.7,130,187.7,126\" style=\"stroke: #383838; stroke-width: 1.0;\"/></a><!--MD5=[d19f2eb34364d71b67042106d92f540b]\n",
       "link E7 to *end*E3--><a href=\"psysml:36daa16f-4b44-48c5-bcb7-7a401bcea152\" target=\"_top\" title=\"psysml:36daa16f-4b44-48c5-bcb7-7a401bcea152\" xlink:actuate=\"onRequest\" xlink:href=\"psysml:36daa16f-4b44-48c5-bcb7-7a401bcea152\" xlink:show=\"new\" xlink:title=\"psysml:36daa16f-4b44-48c5-bcb7-7a401bcea152\" xlink:type=\"simple\"><path d=\"M724.26,126 C738.66,126 763.63,126 779.46,126 \" fill=\"none\" id=\"E7-&gt;*end*E3\" style=\"stroke: #383838; stroke-width: 1.0;\"/><polygon fill=\"#383838\" points=\"784.84,126,775.84,122,779.84,126,775.84,130,784.84,126\" style=\"stroke: #383838; stroke-width: 1.0;\"/></a><!--MD5=[1b7591eae5389033d8d09a9d6721a717]\n",
       "link E4 to E5--><a href=\"psysml:c56e5692-64fd-4b0b-a986-d866765d0210\" target=\"_top\" title=\"psysml:c56e5692-64fd-4b0b-a986-d866765d0210\" xlink:actuate=\"onRequest\" xlink:href=\"psysml:c56e5692-64fd-4b0b-a986-d866765d0210\" xlink:show=\"new\" xlink:title=\"psysml:c56e5692-64fd-4b0b-a986-d866765d0210\" xlink:type=\"simple\"><path d=\"M209.82,128.44 C221.87,131.77 244.64,138.07 267.93,144.51 \" fill=\"none\" id=\"E4-&gt;E5\" style=\"stroke: #383838; stroke-width: 1.0;\"/><polygon fill=\"#383838\" points=\"272.9,145.89,265.2884,139.6399,268.0802,144.5599,263.1602,147.3517,272.9,145.89\" style=\"stroke: #383838; stroke-width: 1.0;\"/></a><!--MD5=[9120cf2e5df3bff93db8f754bbbc09b4]\n",
       "link E5 to E6--><a href=\"psysml:363bb7e0-7ec1-401c-827a-8a23a32c7946\" target=\"_top\" title=\"psysml:363bb7e0-7ec1-401c-827a-8a23a32c7946\" xlink:actuate=\"onRequest\" xlink:href=\"psysml:363bb7e0-7ec1-401c-827a-8a23a32c7946\" xlink:show=\"new\" xlink:title=\"psysml:363bb7e0-7ec1-401c-827a-8a23a32c7946\" xlink:type=\"simple\"><path d=\"M413.01,165 C442.4,165 476.6,165 505.89,165 \" fill=\"none\" id=\"E5-&gt;E6\" style=\"stroke: #383838; stroke-width: 1.0;\"/><polygon fill=\"#383838\" points=\"510.93,165,501.93,161,505.93,165,501.93,169,510.93,165\" style=\"stroke: #383838; stroke-width: 1.0;\"/></a><!--MD5=[02c70b7c851c11e3980e4e90450dc5dd]\n",
       "link E6 to E7--><a href=\"psysml:84082b66-a23a-4779-a592-98d74f10d8d7\" target=\"_top\" title=\"psysml:84082b66-a23a-4779-a592-98d74f10d8d7\" xlink:actuate=\"onRequest\" xlink:href=\"psysml:84082b66-a23a-4779-a592-98d74f10d8d7\" xlink:show=\"new\" xlink:title=\"psysml:84082b66-a23a-4779-a592-98d74f10d8d7\" xlink:type=\"simple\"><path d=\"M639.15,146.76 C660.96,140.46 683.38,133.98 697.25,129.97 \" fill=\"none\" id=\"E6-&gt;E7\" style=\"stroke: #383838; stroke-width: 1.0;\"/><polygon fill=\"#383838\" points=\"702.29,128.51,692.5337,127.1632,697.4862,129.8968,694.7526,134.8493,702.29,128.51\" style=\"stroke: #383838; stroke-width: 1.0;\"/></a><!--MD5=[6bdd27f9905911a7e892a3dc65cf6b7c]\n",
       "link E7 to E4--><a href=\"psysml:49753952-5c4c-4ef6-ad04-e80bfe7cb929\" target=\"_top\" title=\"psysml:49753952-5c4c-4ef6-ad04-e80bfe7cb929\" xlink:actuate=\"onRequest\" xlink:href=\"psysml:49753952-5c4c-4ef6-ad04-e80bfe7cb929\" xlink:show=\"new\" xlink:title=\"psysml:49753952-5c4c-4ef6-ad04-e80bfe7cb929\" xlink:type=\"simple\"><path d=\"M700.76,124.88 C686.82,123.41 661.06,120.92 639,120 C476.47,113.24 435.53,113.24 273,120 C253.36,120.82 230.77,122.88 216.22,124.36 \" fill=\"none\" id=\"E7-&gt;E4\" style=\"stroke: #383838; stroke-width: 1.0;\"/><polygon fill=\"#383838\" points=\"211.24,124.88,220.6038,127.9327,216.2135,124.3655,219.7806,119.9751,211.24,124.88\" style=\"stroke: #383838; stroke-width: 1.0;\"/><text fill=\"#000000\" font-family=\"sans-serif\" font-size=\"13\" lengthAdjust=\"spacingAndGlyphs\" textLength=\"36\" x=\"444\" y=\"111.0669\">[true]</text></a><!--MD5=[b2f9f6c096a58a67019c44c05e97f3f7]\n",
       "@startuml\r\n",
       "left to right direction\r\n",
       "skinparam monochrome true\r\n",
       "skinparam classbackgroundcolor white\r\n",
       "skinparam shadowing false\r\n",
       "skinparam wrapWidth 300\r\n",
       "hide circle\r\n",
       "\r\n",
       "package \"ActionTest\" as E1  [[psysml:4a739ce7-b110-4093-8b74-31ee982b1e00 ]]  {\r\n",
       "comp def \"S\" as E2  <<(T,blue) attribute def>> [[psysml:e3ea157b-753f-4ff0-b9f5-62b19f528d25 ]] {\r\n",
       "}\r\n",
       "rec usage \"a\" as E3  <<(T,blue) action>> [[psysml:fa9c3421-7722-4415-b8c7-0ea19e95762e ]] {\r\n",
       "choice \"m\" as E4  [[psysml:60604585-cd78-42b0-92ae-265c1a2862a9 ]] \r\n",
       "accept \" S\" as E5 << accept action>> [[psysml:1a7559c2-685c-4c08-a29a-09c3177cd704 ]] \r\n",
       "send \" S() to  B()\" as E6 << send action>> [[psysml:57acc649-2893-4bd5-b427-585e4a8282d2 ]] \r\n",
       "choice \"noname\" as E7  [[psysml:dcda7bbd-01a5-4374-8a97-a16c2625889c ]] \r\n",
       "[*] - -> E4 [[psysml:3a6c3978-61f5-46d3-ad26-c963b1b56f5b ]] \r\n",
       "E7  - -> [*] [[psysml:36daa16f-4b44-48c5-bcb7-7a401bcea152 ]] \r\n",
       "}\r\n",
       "\r\n",
       "rec def \"B\" as E8  <<(T,blue) action def>> [[psysml:86a7eb05-d2a7-4b0b-add7-eac0d2258e69 ]] {\r\n",
       "}\r\n",
       "\r\n",
       "E4 - -> E5 [[psysml:c56e5692-64fd-4b0b-a986-d866765d0210 ]] \r\n",
       "E5 - -> E6 [[psysml:363bb7e0-7ec1-401c-827a-8a23a32c7946 ]] \r\n",
       "E6 - -> E7 [[psysml:84082b66-a23a-4779-a592-98d74f10d8d7 ]] \r\n",
       "E7  - -> E4 [[psysml:49753952-5c4c-4ef6-ad04-e80bfe7cb929 ]] : [true]\r\n",
       "}\r\n",
       "@enduml\r\n",
       "\n",
       "PlantUML version 1.2020.13(Sat Jun 13 12:26:38 UTC 2020)\n",
       "(EPL source distribution)\n",
       "Java Runtime: OpenJDK Runtime Environment\n",
       "JVM: OpenJDK 64-Bit Server VM\n",
       "Default Encoding: UTF-8\n",
       "Language: en\n",
       "Country: null\n",
       "--></g></svg>"
      ]
     },
     "execution_count": 22,
     "metadata": {},
     "output_type": "execute_result"
    }
   ],
   "source": [
    "%viz --style=\"LR\" --view=\"MIXED\" \"ActionTest\""
   ]
  },
  {
   "cell_type": "code",
   "execution_count": 23,
   "id": "ef2a9ea2",
   "metadata": {
    "execution": {
     "iopub.execute_input": "2021-06-30T09:17:42.495424Z",
     "iopub.status.busy": "2021-06-30T09:17:42.494875Z",
     "iopub.status.idle": "2021-06-30T09:17:42.556155Z",
     "shell.execute_reply": "2021-06-30T09:17:42.556534Z"
    }
   },
   "outputs": [
    {
     "data": {
      "image/svg+xml": [
       "<?xml version=\"1.0\" encoding=\"UTF-8\" standalone=\"no\"?><svg xmlns=\"http://www.w3.org/2000/svg\" xmlns:xlink=\"http://www.w3.org/1999/xlink\" contentScriptType=\"application/ecmascript\" contentStyleType=\"text/css\" height=\"684px\" preserveAspectRatio=\"none\" style=\"width:518px;height:684px;\" version=\"1.1\" viewBox=\"0 0 518 684\" width=\"518px\" zoomAndPan=\"magnify\"><defs><filter height=\"300%\" id=\"f1la42a0dwc38x\" width=\"300%\" x=\"-1\" y=\"-1\"><feGaussianBlur result=\"blurOut\" stdDeviation=\"2.0\"/><feColorMatrix in=\"blurOut\" result=\"blurOut2\" type=\"matrix\" values=\"0 0 0 0 0 0 0 0 0 0 0 0 0 0 0 0 0 0 .4 0\"/><feOffset dx=\"4.0\" dy=\"4.0\" in=\"blurOut2\" result=\"blurOut3\"/><feBlend in=\"SourceGraphic\" in2=\"blurOut3\" mode=\"normal\"/></filter></defs><g><!--MD5=[fbc87193dbaf4d95561dea2c320d4a47]\n",
       "cluster E1--><a href=\"psysml:4a739ce7-b110-4093-8b74-31ee982b1e00\" target=\"_top\" title=\"psysml:4a739ce7-b110-4093-8b74-31ee982b1e00\" xlink:actuate=\"onRequest\" xlink:href=\"psysml:4a739ce7-b110-4093-8b74-31ee982b1e00\" xlink:show=\"new\" xlink:title=\"psysml:4a739ce7-b110-4093-8b74-31ee982b1e00\" xlink:type=\"simple\"><polygon fill=\"#FFFFFF\" filter=\"url(#f1la42a0dwc38x)\" points=\"16,6,107,6,114,28.2969,496,28.2969,496,672,16,672,16,6\" style=\"stroke: #000000; stroke-width: 1.5;\"/><line style=\"stroke: #000000; stroke-width: 1.5;\" x1=\"16\" x2=\"114\" y1=\"28.2969\" y2=\"28.2969\"/><text fill=\"#000000\" font-family=\"sans-serif\" font-size=\"14\" font-weight=\"bold\" lengthAdjust=\"spacingAndGlyphs\" textLength=\"85\" x=\"20\" y=\"20.9951\">ActionTest</text></a><!--MD5=[d5e69f78d87373223dbae638b30a9c99]\n",
       "cluster E3--><a href=\"psysml:fa9c3421-7722-4415-b8c7-0ea19e95762e\" target=\"_top\" title=\"psysml:fa9c3421-7722-4415-b8c7-0ea19e95762e\" xlink:actuate=\"onRequest\" xlink:href=\"psysml:fa9c3421-7722-4415-b8c7-0ea19e95762e\" xlink:show=\"new\" xlink:title=\"psysml:fa9c3421-7722-4415-b8c7-0ea19e95762e\" xlink:type=\"simple\"><rect fill=\"#FFFFFF\" filter=\"url(#f1la42a0dwc38x)\" height=\"599\" id=\"E3\" rx=\"10\" ry=\"10\" style=\"stroke: #A80036; stroke-width: 1.5;\" width=\"209\" x=\"263\" y=\"49\"/><rect fill=\"#FEFECE\" height=\"37.9375\" rx=\"10\" ry=\"10\" style=\"stroke: #FEFECE; stroke-width: 1.5;\" width=\"209\" x=\"263\" y=\"49\"/><rect fill=\"#FEFECE\" height=\"10\" style=\"stroke: #FEFECE; stroke-width: 1.5;\" width=\"209\" x=\"263\" y=\"76.9375\"/><rect fill=\"none\" height=\"599\" id=\"E3\" rx=\"10\" ry=\"10\" style=\"stroke: #A80036; stroke-width: 1.5;\" width=\"209\" x=\"263\" y=\"49\"/><text fill=\"#000000\" font-family=\"sans-serif\" font-size=\"12\" font-style=\"italic\" lengthAdjust=\"spacingAndGlyphs\" textLength=\"53\" x=\"341\" y=\"65.1387\">«action»</text><text fill=\"#000000\" font-family=\"sans-serif\" font-size=\"12\" lengthAdjust=\"spacingAndGlyphs\" textLength=\"8\" x=\"363.5\" y=\"79.1074\">a</text><line style=\"stroke: #A80036; stroke-width: 1.0;\" x1=\"263\" x2=\"472\" y1=\"86.9375\" y2=\"86.9375\"/></a><!--MD5=[b4997ac47864f28c2f74865a473b2911]\n",
       "class E2--><a href=\"psysml:e3ea157b-753f-4ff0-b9f5-62b19f528d25\" target=\"_top\" title=\"psysml:e3ea157b-753f-4ff0-b9f5-62b19f528d25\" xlink:actuate=\"onRequest\" xlink:href=\"psysml:e3ea157b-753f-4ff0-b9f5-62b19f528d25\" xlink:show=\"new\" xlink:title=\"psysml:e3ea157b-753f-4ff0-b9f5-62b19f528d25\" xlink:type=\"simple\"><rect fill=\"#FEFECE\" filter=\"url(#f1la42a0dwc38x)\" height=\"45.9375\" id=\"E2\" style=\"stroke: #A80036; stroke-width: 1.5;\" width=\"95\" x=\"151.5\" y=\"87\"/><text fill=\"#000000\" font-family=\"sans-serif\" font-size=\"12\" font-style=\"italic\" lengthAdjust=\"spacingAndGlyphs\" textLength=\"93\" x=\"152.5\" y=\"103.1387\">«attribute def»</text><text fill=\"#000000\" font-family=\"sans-serif\" font-size=\"12\" lengthAdjust=\"spacingAndGlyphs\" textLength=\"8\" x=\"195\" y=\"117.1074\">S</text><line style=\"stroke: #A80036; stroke-width: 1.5;\" x1=\"152.5\" x2=\"245.5\" y1=\"124.9375\" y2=\"124.9375\"/></a><polygon fill=\"#FEFECE\" filter=\"url(#f1la42a0dwc38x)\" points=\"420,194,432,206,420,218,408,206,420,194\" style=\"stroke: #A80036; stroke-width: 1.5;\"/><!--MD5=[21dd76c19d33815960c0e92fef8f0eef]\n",
       "entity E5--><a href=\"psysml:1a7559c2-685c-4c08-a29a-09c3177cd704\" target=\"_top\" title=\"psysml:1a7559c2-685c-4c08-a29a-09c3177cd704\" xlink:actuate=\"onRequest\" xlink:href=\"psysml:1a7559c2-685c-4c08-a29a-09c3177cd704\" xlink:show=\"new\" xlink:title=\"psysml:1a7559c2-685c-4c08-a29a-09c3177cd704\" xlink:type=\"simple\"><polygon fill=\"#FEFECE\" filter=\"url(#f1la42a0dwc38x)\" points=\"279,279,279,333.5938,419,333.5938,399,306.2969,419,279\" style=\"stroke: #000000; stroke-width: 1.5;\"/><text fill=\"#000000\" font-family=\"sans-serif\" font-size=\"14\" font-style=\"italic\" lengthAdjust=\"spacingAndGlyphs\" textLength=\"111\" x=\"286\" y=\"301.9951\">«accept action»</text><text fill=\"#000000\" font-family=\"sans-serif\" font-size=\"14\" lengthAdjust=\"spacingAndGlyphs\" textLength=\"9\" x=\"337\" y=\"319.292\">S</text></a><!--MD5=[24d87cdf3002d433f401b2a2aa9f9f65]\n",
       "entity E6--><a href=\"psysml:57acc649-2893-4bd5-b427-585e4a8282d2\" target=\"_top\" title=\"psysml:57acc649-2893-4bd5-b427-585e4a8282d2\" xlink:actuate=\"onRequest\" xlink:href=\"psysml:57acc649-2893-4bd5-b427-585e4a8282d2\" xlink:show=\"new\" xlink:title=\"psysml:57acc649-2893-4bd5-b427-585e4a8282d2\" xlink:type=\"simple\"><polygon fill=\"#FEFECE\" filter=\"url(#f1la42a0dwc38x)\" points=\"279,411,279,465.5938,387,465.5938,407,438.2969,387,411\" style=\"stroke: #000000; stroke-width: 1.5;\"/><text fill=\"#000000\" font-family=\"sans-serif\" font-size=\"14\" font-style=\"italic\" lengthAdjust=\"spacingAndGlyphs\" textLength=\"99\" x=\"286\" y=\"433.9951\">«send action»</text><text fill=\"#000000\" font-family=\"sans-serif\" font-size=\"14\" lengthAdjust=\"spacingAndGlyphs\" textLength=\"65\" x=\"303\" y=\"451.292\">S() to  B()</text></a><polygon fill=\"#FEFECE\" filter=\"url(#f1la42a0dwc38x)\" points=\"418,527,430,539,418,551,406,539,418,527\" style=\"stroke: #A80036; stroke-width: 1.5;\"/><ellipse cx=\"420\" cy=\"110\" fill=\"#000000\" filter=\"url(#f1la42a0dwc38x)\" rx=\"10\" ry=\"10\" style=\"stroke: none; stroke-width: 1.0;\"/><ellipse cx=\"418\" cy=\"622\" fill=\"none\" filter=\"url(#f1la42a0dwc38x)\" rx=\"10\" ry=\"10\" style=\"stroke: #000000; stroke-width: 1.0;\"/><ellipse cx=\"418.5\" cy=\"622.5\" fill=\"#000000\" rx=\"6\" ry=\"6\" style=\"stroke: none; stroke-width: 1.0;\"/><g id=\"E1.E8\"><a href=\"psysml:86a7eb05-d2a7-4b0b-add7-eac0d2258e69\" target=\"_top\" title=\"psysml:86a7eb05-d2a7-4b0b-add7-eac0d2258e69\" xlink:actuate=\"onRequest\" xlink:href=\"psysml:86a7eb05-d2a7-4b0b-add7-eac0d2258e69\" xlink:show=\"new\" xlink:title=\"psysml:86a7eb05-d2a7-4b0b-add7-eac0d2258e69\" xlink:type=\"simple\"><rect fill=\"#FEFECE\" filter=\"url(#f1la42a0dwc38x)\" height=\"42.9375\" id=\"E8\" style=\"stroke: #A80036; stroke-width: 1.5;\" width=\"84\" x=\"32\" y=\"88.5\"/><text fill=\"#000000\" font-family=\"sans-serif\" font-size=\"12\" font-style=\"italic\" lengthAdjust=\"spacingAndGlyphs\" textLength=\"77\" x=\"35.5\" y=\"104.6387\">«action def»</text><text fill=\"#000000\" font-family=\"sans-serif\" font-size=\"12\" lengthAdjust=\"spacingAndGlyphs\" textLength=\"8\" x=\"70\" y=\"118.6074\">B</text></a></g><!--MD5=[f47e10efcf9a6752d55dae986d790ed9]\n",
       "link *start*E3 to E4--><a href=\"psysml:3a6c3978-61f5-46d3-ad26-c963b1b56f5b\" target=\"_top\" title=\"psysml:3a6c3978-61f5-46d3-ad26-c963b1b56f5b\" xlink:actuate=\"onRequest\" xlink:href=\"psysml:3a6c3978-61f5-46d3-ad26-c963b1b56f5b\" xlink:show=\"new\" xlink:title=\"psysml:3a6c3978-61f5-46d3-ad26-c963b1b56f5b\" xlink:type=\"simple\"><path d=\"M420,120.01 C420,135.81 420,168.69 420,188.61 \" fill=\"none\" id=\"*start*E3-&gt;E4\" style=\"stroke: #A80036; stroke-width: 1.0;\"/><polygon fill=\"#A80036\" points=\"420,193.85,424,184.85,420,188.85,416,184.85,420,193.85\" style=\"stroke: #A80036; stroke-width: 1.0;\"/></a><!--MD5=[d19f2eb34364d71b67042106d92f540b]\n",
       "link E7 to *end*E3--><a href=\"psysml:36daa16f-4b44-48c5-bcb7-7a401bcea152\" target=\"_top\" title=\"psysml:36daa16f-4b44-48c5-bcb7-7a401bcea152\" xlink:actuate=\"onRequest\" xlink:href=\"psysml:36daa16f-4b44-48c5-bcb7-7a401bcea152\" xlink:show=\"new\" xlink:title=\"psysml:36daa16f-4b44-48c5-bcb7-7a401bcea152\" xlink:type=\"simple\"><path d=\"M418,551.26 C418,565.66 418,590.63 418,606.46 \" fill=\"none\" id=\"E7-&gt;*end*E3\" style=\"stroke: #A80036; stroke-width: 1.0;\"/><polygon fill=\"#A80036\" points=\"418,611.84,422,602.84,418,606.84,414,602.84,418,611.84\" style=\"stroke: #A80036; stroke-width: 1.0;\"/></a><!--MD5=[1b7591eae5389033d8d09a9d6721a717]\n",
       "link E4 to E5--><a href=\"psysml:c56e5692-64fd-4b0b-a986-d866765d0210\" target=\"_top\" title=\"psysml:c56e5692-64fd-4b0b-a986-d866765d0210\" xlink:actuate=\"onRequest\" xlink:href=\"psysml:c56e5692-64fd-4b0b-a986-d866765d0210\" xlink:show=\"new\" xlink:title=\"psysml:c56e5692-64fd-4b0b-a986-d866765d0210\" xlink:type=\"simple\"><path d=\"M415.34,213.46 C406.55,225.66 386.99,252.8 371.37,274.46 \" fill=\"none\" id=\"E4-&gt;E5\" style=\"stroke: #A80036; stroke-width: 1.0;\"/><polygon fill=\"#A80036\" points=\"368.31,278.71,376.8093,273.7339,371.227,274.6491,370.3119,269.0667,368.31,278.71\" style=\"stroke: #A80036; stroke-width: 1.0;\"/></a><!--MD5=[9120cf2e5df3bff93db8f754bbbc09b4]\n",
       "link E5 to E6--><a href=\"psysml:363bb7e0-7ec1-401c-827a-8a23a32c7946\" target=\"_top\" title=\"psysml:363bb7e0-7ec1-401c-827a-8a23a32c7946\" xlink:actuate=\"onRequest\" xlink:href=\"psysml:363bb7e0-7ec1-401c-827a-8a23a32c7946\" xlink:show=\"new\" xlink:title=\"psysml:363bb7e0-7ec1-401c-827a-8a23a32c7946\" xlink:type=\"simple\"><path d=\"M347.77,334.12 C346.81,354.89 345.48,383.8 344.46,405.77 \" fill=\"none\" id=\"E5-&gt;E6\" style=\"stroke: #A80036; stroke-width: 1.0;\"/><polygon fill=\"#A80036\" points=\"344.23,410.91,348.6368,402.1021,344.4583,405.9152,340.6452,401.7367,344.23,410.91\" style=\"stroke: #A80036; stroke-width: 1.0;\"/></a><!--MD5=[02c70b7c851c11e3980e4e90450dc5dd]\n",
       "link E6 to E7--><a href=\"psysml:84082b66-a23a-4779-a592-98d74f10d8d7\" target=\"_top\" title=\"psysml:84082b66-a23a-4779-a592-98d74f10d8d7\" xlink:actuate=\"onRequest\" xlink:href=\"psysml:84082b66-a23a-4779-a592-98d74f10d8d7\" xlink:show=\"new\" xlink:title=\"psysml:84082b66-a23a-4779-a592-98d74f10d8d7\" xlink:type=\"simple\"><path d=\"M363.3,466.16 C378.71,486.4 399.07,513.14 410.09,527.61 \" fill=\"none\" id=\"E6-&gt;E7\" style=\"stroke: #A80036; stroke-width: 1.0;\"/><polygon fill=\"#A80036\" points=\"413.2,531.69,410.9398,522.104,410.1749,527.7089,404.57,526.9441,413.2,531.69\" style=\"stroke: #A80036; stroke-width: 1.0;\"/></a><!--MD5=[6bdd27f9905911a7e892a3dc65cf6b7c]\n",
       "link E7 to E4--><a href=\"psysml:49753952-5c4c-4ef6-ad04-e80bfe7cb929\" target=\"_top\" title=\"psysml:49753952-5c4c-4ef6-ad04-e80bfe7cb929\" xlink:actuate=\"onRequest\" xlink:href=\"psysml:49753952-5c4c-4ef6-ad04-e80bfe7cb929\" xlink:show=\"new\" xlink:title=\"psysml:49753952-5c4c-4ef6-ad04-e80bfe7cb929\" xlink:type=\"simple\"><path d=\"M419.98,528.56 C426.8,494.71 448.32,376.18 437,279 C434.59,258.32 428.42,234.96 424.21,220.61 \" fill=\"none\" id=\"E7-&gt;E4\" style=\"stroke: #A80036; stroke-width: 1.0;\"/><polygon fill=\"#A80036\" points=\"422.76,215.75,421.4935,225.5171,424.1863,220.5423,429.1611,223.2351,422.76,215.75\" style=\"stroke: #A80036; stroke-width: 1.0;\"/><text fill=\"#000000\" font-family=\"sans-serif\" font-size=\"13\" lengthAdjust=\"spacingAndGlyphs\" textLength=\"36\" x=\"440\" y=\"377.0669\">[true]</text></a><!--MD5=[c416a6324887b2ae6fa4842103ed58df]\n",
       "@startuml\r\n",
       "skinparam wrapWidth 300\r\n",
       "hide circle\r\n",
       "\r\n",
       "package \"ActionTest\" as E1  [[psysml:4a739ce7-b110-4093-8b74-31ee982b1e00 ]]  {\r\n",
       "comp def \"S\" as E2  <<(T,blue) attribute def>> [[psysml:e3ea157b-753f-4ff0-b9f5-62b19f528d25 ]] {\r\n",
       "}\r\n",
       "rec usage \"a\" as E3  <<(T,blue) action>> [[psysml:fa9c3421-7722-4415-b8c7-0ea19e95762e ]] {\r\n",
       "choice \"m\" as E4  [[psysml:60604585-cd78-42b0-92ae-265c1a2862a9 ]] \r\n",
       "accept \" S\" as E5 << accept action>> [[psysml:1a7559c2-685c-4c08-a29a-09c3177cd704 ]] \r\n",
       "send \" S() to  B()\" as E6 << send action>> [[psysml:57acc649-2893-4bd5-b427-585e4a8282d2 ]] \r\n",
       "choice \"noname\" as E7  [[psysml:dcda7bbd-01a5-4374-8a97-a16c2625889c ]] \r\n",
       "[*] - -> E4 [[psysml:3a6c3978-61f5-46d3-ad26-c963b1b56f5b ]] \r\n",
       "E7  - -> [*] [[psysml:36daa16f-4b44-48c5-bcb7-7a401bcea152 ]] \r\n",
       "}\r\n",
       "\r\n",
       "rec def \"B\" as E8  <<(T,blue) action def>> [[psysml:86a7eb05-d2a7-4b0b-add7-eac0d2258e69 ]] {\r\n",
       "}\r\n",
       "\r\n",
       "E4 - -> E5 [[psysml:c56e5692-64fd-4b0b-a986-d866765d0210 ]] \r\n",
       "E5 - -> E6 [[psysml:363bb7e0-7ec1-401c-827a-8a23a32c7946 ]] \r\n",
       "E6 - -> E7 [[psysml:84082b66-a23a-4779-a592-98d74f10d8d7 ]] \r\n",
       "E7  - -> E4 [[psysml:49753952-5c4c-4ef6-ad04-e80bfe7cb929 ]] : [true]\r\n",
       "}\r\n",
       "@enduml\r\n",
       "\n",
       "PlantUML version 1.2020.13(Sat Jun 13 12:26:38 UTC 2020)\n",
       "(EPL source distribution)\n",
       "Java Runtime: OpenJDK Runtime Environment\n",
       "JVM: OpenJDK 64-Bit Server VM\n",
       "Default Encoding: UTF-8\n",
       "Language: en\n",
       "Country: null\n",
       "--></g></svg>"
      ]
     },
     "execution_count": 23,
     "metadata": {},
     "output_type": "execute_result"
    }
   ],
   "source": [
    "%viz --style=\"STDCOLOR\" --view=\"Default\" \"ActionTest\""
   ]
  },
  {
   "cell_type": "code",
   "execution_count": 24,
   "id": "6fee7cb5",
   "metadata": {
    "execution": {
     "iopub.execute_input": "2021-06-30T09:17:42.607050Z",
     "iopub.status.busy": "2021-06-30T09:17:42.606415Z",
     "iopub.status.idle": "2021-06-30T09:17:42.665523Z",
     "shell.execute_reply": "2021-06-30T09:17:42.663627Z"
    }
   },
   "outputs": [
    {
     "data": {
      "image/svg+xml": [
       "<?xml version=\"1.0\" encoding=\"UTF-8\" standalone=\"no\"?><svg xmlns=\"http://www.w3.org/2000/svg\" xmlns:xlink=\"http://www.w3.org/1999/xlink\" contentScriptType=\"application/ecmascript\" contentStyleType=\"text/css\" height=\"327px\" preserveAspectRatio=\"none\" style=\"width:677px;height:327px;\" version=\"1.1\" viewBox=\"0 0 677 327\" width=\"677px\" zoomAndPan=\"magnify\"><defs><filter height=\"300%\" id=\"f18z0hoe3o5owt\" width=\"300%\" x=\"-1\" y=\"-1\"><feGaussianBlur result=\"blurOut\" stdDeviation=\"2.0\"/><feColorMatrix in=\"blurOut\" result=\"blurOut2\" type=\"matrix\" values=\"0 0 0 0 0 0 0 0 0 0 0 0 0 0 0 0 0 0 .4 0\"/><feOffset dx=\"4.0\" dy=\"4.0\" in=\"blurOut2\" result=\"blurOut3\"/><feBlend in=\"SourceGraphic\" in2=\"blurOut3\" mode=\"normal\"/></filter></defs><g><!--MD5=[fbc87193dbaf4d95561dea2c320d4a47]\n",
       "cluster E1--><a href=\"psysml:4a739ce7-b110-4093-8b74-31ee982b1e00\" target=\"_top\" title=\"psysml:4a739ce7-b110-4093-8b74-31ee982b1e00\" xlink:actuate=\"onRequest\" xlink:href=\"psysml:4a739ce7-b110-4093-8b74-31ee982b1e00\" xlink:show=\"new\" xlink:title=\"psysml:4a739ce7-b110-4093-8b74-31ee982b1e00\" xlink:type=\"simple\"><polygon fill=\"#FFFFFF\" filter=\"url(#f18z0hoe3o5owt)\" points=\"16,6,107,6,114,28.2969,655,28.2969,655,315,16,315,16,6\" style=\"stroke: #000000; stroke-width: 1.5;\"/><line style=\"stroke: #000000; stroke-width: 1.5;\" x1=\"16\" x2=\"114\" y1=\"28.2969\" y2=\"28.2969\"/><text fill=\"#000000\" font-family=\"sans-serif\" font-size=\"14\" font-weight=\"bold\" lengthAdjust=\"spacingAndGlyphs\" textLength=\"85\" x=\"20\" y=\"20.9951\">ActionTest</text></a><!--MD5=[b4997ac47864f28c2f74865a473b2911]\n",
       "class E2--><a href=\"psysml:e3ea157b-753f-4ff0-b9f5-62b19f528d25\" target=\"_top\" title=\"psysml:e3ea157b-753f-4ff0-b9f5-62b19f528d25\" xlink:actuate=\"onRequest\" xlink:href=\"psysml:e3ea157b-753f-4ff0-b9f5-62b19f528d25\" xlink:show=\"new\" xlink:title=\"psysml:e3ea157b-753f-4ff0-b9f5-62b19f528d25\" xlink:type=\"simple\"><rect fill=\"#FEFECE\" filter=\"url(#f18z0hoe3o5owt)\" height=\"45.9375\" id=\"E2\" style=\"stroke: #A80036; stroke-width: 1.5;\" width=\"95\" x=\"278.5\" y=\"253\"/><text fill=\"#000000\" font-family=\"sans-serif\" font-size=\"12\" font-style=\"italic\" lengthAdjust=\"spacingAndGlyphs\" textLength=\"93\" x=\"279.5\" y=\"269.1387\">«attribute def»</text><text fill=\"#000000\" font-family=\"sans-serif\" font-size=\"12\" lengthAdjust=\"spacingAndGlyphs\" textLength=\"8\" x=\"322\" y=\"283.1074\">S</text><line style=\"stroke: #A80036; stroke-width: 1.5;\" x1=\"279.5\" x2=\"372.5\" y1=\"290.9375\" y2=\"290.9375\"/></a><!--MD5=[09b614a08d8cba4a07c9adeb5e0fee81]\n",
       "class E3--><a href=\"psysml:fa9c3421-7722-4415-b8c7-0ea19e95762e\" target=\"_top\" title=\"psysml:fa9c3421-7722-4415-b8c7-0ea19e95762e\" xlink:actuate=\"onRequest\" xlink:href=\"psysml:fa9c3421-7722-4415-b8c7-0ea19e95762e\" xlink:show=\"new\" xlink:title=\"psysml:fa9c3421-7722-4415-b8c7-0ea19e95762e\" xlink:type=\"simple\"><rect fill=\"#FEFECE\" filter=\"url(#f18z0hoe3o5owt)\" height=\"45.9375\" id=\"E3\" rx=\"10\" ry=\"10\" style=\"stroke: #A80036; stroke-width: 1.5;\" width=\"55\" x=\"298.5\" y=\"41\"/><text fill=\"#000000\" font-family=\"sans-serif\" font-size=\"12\" font-style=\"italic\" lengthAdjust=\"spacingAndGlyphs\" textLength=\"53\" x=\"299.5\" y=\"57.1387\">«action»</text><text fill=\"#000000\" font-family=\"sans-serif\" font-size=\"12\" lengthAdjust=\"spacingAndGlyphs\" textLength=\"8\" x=\"322\" y=\"71.1074\">a</text><line style=\"stroke: #A80036; stroke-width: 1.5;\" x1=\"299.5\" x2=\"352.5\" y1=\"78.9375\" y2=\"78.9375\"/></a><!--MD5=[ebbe1d658d1005bcc118a6aa81145e00]\n",
       "class E4--><a href=\"psysml:a6d1daf9-13da-45ca-a864-cb134e7177b5\" target=\"_top\" title=\"psysml:a6d1daf9-13da-45ca-a864-cb134e7177b5\" xlink:actuate=\"onRequest\" xlink:href=\"psysml:a6d1daf9-13da-45ca-a864-cb134e7177b5\" xlink:show=\"new\" xlink:title=\"psysml:a6d1daf9-13da-45ca-a864-cb134e7177b5\" xlink:type=\"simple\"><rect fill=\"#FEFECE\" filter=\"url(#f18z0hoe3o5owt)\" height=\"45.9375\" id=\"E4\" rx=\"10\" ry=\"10\" style=\"stroke: #A80036; stroke-width: 1.5;\" width=\"83\" x=\"32.5\" y=\"147\"/><text fill=\"#000000\" font-family=\"sans-serif\" font-size=\"12\" font-style=\"italic\" lengthAdjust=\"spacingAndGlyphs\" textLength=\"53\" x=\"47.5\" y=\"163.1387\">«action»</text><text fill=\"#000000\" font-family=\"sans-serif\" font-size=\"12\" lengthAdjust=\"spacingAndGlyphs\" textLength=\"77\" x=\"35.5\" y=\"177.1074\">start: Action</text><line style=\"stroke: #A80036; stroke-width: 1.5;\" x1=\"33.5\" x2=\"114.5\" y1=\"184.9375\" y2=\"184.9375\"/></a><!--MD5=[270fce915f116d4de14055a7c1d9a0f3]\n",
       "class E5--><a href=\"psysml:60604585-cd78-42b0-92ae-265c1a2862a9\" target=\"_top\" title=\"psysml:60604585-cd78-42b0-92ae-265c1a2862a9\" xlink:actuate=\"onRequest\" xlink:href=\"psysml:60604585-cd78-42b0-92ae-265c1a2862a9\" xlink:show=\"new\" xlink:title=\"psysml:60604585-cd78-42b0-92ae-265c1a2862a9\" xlink:type=\"simple\"><rect fill=\"#FEFECE\" filter=\"url(#f18z0hoe3o5owt)\" height=\"45.9375\" id=\"E5\" rx=\"10\" ry=\"10\" style=\"stroke: #A80036; stroke-width: 1.5;\" width=\"89\" x=\"150.5\" y=\"147\"/><text fill=\"#000000\" font-family=\"sans-serif\" font-size=\"12\" font-style=\"italic\" lengthAdjust=\"spacingAndGlyphs\" textLength=\"87\" x=\"151.5\" y=\"163.1387\">«mergeNode»</text><text fill=\"#000000\" font-family=\"sans-serif\" font-size=\"12\" lengthAdjust=\"spacingAndGlyphs\" textLength=\"11\" x=\"189.5\" y=\"177.1074\">m</text><line style=\"stroke: #A80036; stroke-width: 1.5;\" x1=\"151.5\" x2=\"238.5\" y1=\"184.9375\" y2=\"184.9375\"/></a><!--MD5=[60a26617385b1d2d0262a64233df1f8d]\n",
       "class E6--><a href=\"psysml:1a7559c2-685c-4c08-a29a-09c3177cd704\" target=\"_top\" title=\"psysml:1a7559c2-685c-4c08-a29a-09c3177cd704\" xlink:actuate=\"onRequest\" xlink:href=\"psysml:1a7559c2-685c-4c08-a29a-09c3177cd704\" xlink:show=\"new\" xlink:title=\"psysml:1a7559c2-685c-4c08-a29a-09c3177cd704\" xlink:type=\"simple\"><rect fill=\"#FEFECE\" filter=\"url(#f18z0hoe3o5owt)\" height=\"45.9375\" id=\"E6\" rx=\"10\" ry=\"10\" style=\"stroke: #A80036; stroke-width: 1.5;\" width=\"102\" x=\"275\" y=\"147\"/><text fill=\"#000000\" font-family=\"sans-serif\" font-size=\"12\" font-style=\"italic\" lengthAdjust=\"spacingAndGlyphs\" textLength=\"100\" x=\"276\" y=\"163.1387\">«accept action»</text><text fill=\"#000000\" font-family=\"sans-serif\" font-size=\"12\" lengthAdjust=\"spacingAndGlyphs\" text-decoration=\"line-through\" textLength=\"51\" x=\"300.5\" y=\"177.1074\">noname</text><line style=\"stroke: #A80036; stroke-width: 1.5;\" x1=\"276\" x2=\"376\" y1=\"184.9375\" y2=\"184.9375\"/></a><!--MD5=[2156ba9850f5573cc1fc38a6a4b2f02b]\n",
       "class E7--><a href=\"psysml:57acc649-2893-4bd5-b427-585e4a8282d2\" target=\"_top\" title=\"psysml:57acc649-2893-4bd5-b427-585e4a8282d2\" xlink:actuate=\"onRequest\" xlink:href=\"psysml:57acc649-2893-4bd5-b427-585e4a8282d2\" xlink:show=\"new\" xlink:title=\"psysml:57acc649-2893-4bd5-b427-585e4a8282d2\" xlink:type=\"simple\"><rect fill=\"#FEFECE\" filter=\"url(#f18z0hoe3o5owt)\" height=\"45.9375\" id=\"E7\" rx=\"10\" ry=\"10\" style=\"stroke: #A80036; stroke-width: 1.5;\" width=\"90\" x=\"412\" y=\"147\"/><text fill=\"#000000\" font-family=\"sans-serif\" font-size=\"12\" font-style=\"italic\" lengthAdjust=\"spacingAndGlyphs\" textLength=\"88\" x=\"413\" y=\"163.1387\">«send action»</text><text fill=\"#000000\" font-family=\"sans-serif\" font-size=\"12\" lengthAdjust=\"spacingAndGlyphs\" text-decoration=\"line-through\" textLength=\"51\" x=\"431.5\" y=\"177.1074\">noname</text><line style=\"stroke: #A80036; stroke-width: 1.5;\" x1=\"413\" x2=\"501\" y1=\"184.9375\" y2=\"184.9375\"/></a><!--MD5=[b9389687b975829384b498ac4b7476b2]\n",
       "class E8--><a href=\"psysml:dcda7bbd-01a5-4374-8a97-a16c2625889c\" target=\"_top\" title=\"psysml:dcda7bbd-01a5-4374-8a97-a16c2625889c\" xlink:actuate=\"onRequest\" xlink:href=\"psysml:dcda7bbd-01a5-4374-8a97-a16c2625889c\" xlink:show=\"new\" xlink:title=\"psysml:dcda7bbd-01a5-4374-8a97-a16c2625889c\" xlink:type=\"simple\"><rect fill=\"#FEFECE\" filter=\"url(#f18z0hoe3o5owt)\" height=\"45.9375\" id=\"E8\" rx=\"10\" ry=\"10\" style=\"stroke: #A80036; stroke-width: 1.5;\" width=\"101\" x=\"537.5\" y=\"147\"/><text fill=\"#000000\" font-family=\"sans-serif\" font-size=\"12\" font-style=\"italic\" lengthAdjust=\"spacingAndGlyphs\" textLength=\"99\" x=\"538.5\" y=\"163.1387\">«decisionNode»</text><text fill=\"#000000\" font-family=\"sans-serif\" font-size=\"12\" lengthAdjust=\"spacingAndGlyphs\" text-decoration=\"line-through\" textLength=\"51\" x=\"562.5\" y=\"177.1074\">noname</text><line style=\"stroke: #A80036; stroke-width: 1.5;\" x1=\"538.5\" x2=\"637.5\" y1=\"184.9375\" y2=\"184.9375\"/></a><!--MD5=[fd4143e9d270a159db93a4ea2a975926]\n",
       "class E9--><a href=\"psysml:86a7eb05-d2a7-4b0b-add7-eac0d2258e69\" target=\"_top\" title=\"psysml:86a7eb05-d2a7-4b0b-add7-eac0d2258e69\" xlink:actuate=\"onRequest\" xlink:href=\"psysml:86a7eb05-d2a7-4b0b-add7-eac0d2258e69\" xlink:show=\"new\" xlink:title=\"psysml:86a7eb05-d2a7-4b0b-add7-eac0d2258e69\" xlink:type=\"simple\"><rect fill=\"#FEFECE\" filter=\"url(#f18z0hoe3o5owt)\" height=\"45.9375\" id=\"E9\" style=\"stroke: #A80036; stroke-width: 1.5;\" width=\"79\" x=\"108.5\" y=\"41\"/><text fill=\"#000000\" font-family=\"sans-serif\" font-size=\"12\" font-style=\"italic\" lengthAdjust=\"spacingAndGlyphs\" textLength=\"77\" x=\"109.5\" y=\"57.1387\">«action def»</text><text fill=\"#000000\" font-family=\"sans-serif\" font-size=\"12\" lengthAdjust=\"spacingAndGlyphs\" textLength=\"8\" x=\"144\" y=\"71.1074\">B</text><line style=\"stroke: #A80036; stroke-width: 1.5;\" x1=\"109.5\" x2=\"186.5\" y1=\"78.9375\" y2=\"78.9375\"/></a><!--MD5=[4672eba38e49728da53d11aeb285b987]\n",
       "reverse link E3 to E4--><a href=\"psysml:52dfc4ad-a62d-4432-a88b-57c0a80d621d\" target=\"_top\" title=\"psysml:52dfc4ad-a62d-4432-a88b-57c0a80d621d\" xlink:actuate=\"onRequest\" xlink:href=\"psysml:52dfc4ad-a62d-4432-a88b-57c0a80d621d\" xlink:show=\"new\" xlink:title=\"psysml:52dfc4ad-a62d-4432-a88b-57c0a80d621d\" xlink:type=\"simple\"><path d=\"M285.79,81.6 C239.27,100.79 163.05,132.25 115.85,151.73 \" fill=\"none\" id=\"E3&lt;-E4\" style=\"stroke: #A80036; stroke-width: 1.0;\"/><polygon fill=\"#FFFFFF\" points=\"298.07,76.53,290.9979,75.1209,286.9771,81.107,294.0492,82.5161,298.07,76.53\" style=\"stroke: #A80036; stroke-width: 1.0;\"/></a><!--MD5=[191cde3d490a3f6d7bb551fe3ddca469]\n",
       "reverse link E3 to E5--><a href=\"psysml:99d9f5a6-f2b4-4631-bd24-2952b87c2311\" target=\"_top\" title=\"psysml:99d9f5a6-f2b4-4631-bd24-2952b87c2311\" xlink:actuate=\"onRequest\" xlink:href=\"psysml:99d9f5a6-f2b4-4631-bd24-2952b87c2311\" xlink:show=\"new\" xlink:title=\"psysml:99d9f5a6-f2b4-4631-bd24-2952b87c2311\" xlink:type=\"simple\"><path d=\"M287.79,95.33 C266.97,111.86 241.66,131.95 222.74,146.98 \" fill=\"none\" id=\"E3&lt;-E5\" style=\"stroke: #A80036; stroke-width: 1.0;\"/><polygon fill=\"#A80036\" points=\"298.22,87.06,291.0341,87.6625,288.8265,94.5273,296.0123,93.9249,298.22,87.06\" style=\"stroke: #A80036; stroke-width: 1.0;\"/></a><!--MD5=[1026b4b93417a13aa8999a858998add2]\n",
       "reverse link E3 to E6--><a href=\"psysml:14dfaf6d-db59-420e-a3c6-2cc6bbb5f023\" target=\"_top\" title=\"psysml:14dfaf6d-db59-420e-a3c6-2cc6bbb5f023\" xlink:actuate=\"onRequest\" xlink:href=\"psysml:14dfaf6d-db59-420e-a3c6-2cc6bbb5f023\" xlink:show=\"new\" xlink:title=\"psysml:14dfaf6d-db59-420e-a3c6-2cc6bbb5f023\" xlink:type=\"simple\"><path d=\"M326,100.44 C326,115.87 326,133.47 326,146.98 \" fill=\"none\" id=\"E3&lt;-E6\" style=\"stroke: #A80036; stroke-width: 1.0;\"/><polygon fill=\"#FFFFFF\" points=\"326,87.06,322,93.06,326,99.06,330,93.06,326,87.06\" style=\"stroke: #A80036; stroke-width: 1.0;\"/></a><!--MD5=[3403bfa781cc3da0fd423dbab6f01c63]\n",
       "reverse link E6 to E2--><a href=\"psysml:773d19c1-1d9b-4741-b5ba-dd5a31e080a3\" target=\"_top\" title=\"psysml:773d19c1-1d9b-4741-b5ba-dd5a31e080a3\" xlink:actuate=\"onRequest\" xlink:href=\"psysml:773d19c1-1d9b-4741-b5ba-dd5a31e080a3\" xlink:show=\"new\" xlink:title=\"psysml:773d19c1-1d9b-4741-b5ba-dd5a31e080a3\" xlink:type=\"simple\"><path d=\"M326,206.44 C326,221.87 326,239.47 326,252.98 \" fill=\"none\" id=\"E6&lt;-E2\" style=\"stroke: #A80036; stroke-width: 1.0;\"/><polygon fill=\"#FFFFFF\" points=\"326,193.06,322,199.06,326,205.06,330,199.06,326,193.06\" style=\"stroke: #A80036; stroke-width: 1.0;\"/></a><!--MD5=[85760999379eecfd2565a9fecdca67e4]\n",
       "reverse link E3 to E7--><a href=\"psysml:4bddb34b-31d0-4487-9835-f5e5c1238220\" target=\"_top\" title=\"psysml:4bddb34b-31d0-4487-9835-f5e5c1238220\" xlink:actuate=\"onRequest\" xlink:href=\"psysml:4bddb34b-31d0-4487-9835-f5e5c1238220\" xlink:show=\"new\" xlink:title=\"psysml:4bddb34b-31d0-4487-9835-f5e5c1238220\" xlink:type=\"simple\"><path d=\"M364.21,95.33 C385.03,111.86 410.34,131.95 429.26,146.98 \" fill=\"none\" id=\"E3&lt;-E7\" style=\"stroke: #A80036; stroke-width: 1.0;\"/><polygon fill=\"#FFFFFF\" points=\"353.78,87.06,355.9877,93.9249,363.1735,94.5273,360.9659,87.6625,353.78,87.06\" style=\"stroke: #A80036; stroke-width: 1.0;\"/></a><!--MD5=[4cb75b73ec3682b8f7f8edc9cc86126a]\n",
       "reverse link E3 to E8--><a href=\"psysml:010ce356-5f58-462c-8431-75351dc3ac74\" target=\"_top\" title=\"psysml:010ce356-5f58-462c-8431-75351dc3ac74\" xlink:actuate=\"onRequest\" xlink:href=\"psysml:010ce356-5f58-462c-8431-75351dc3ac74\" xlink:show=\"new\" xlink:title=\"psysml:010ce356-5f58-462c-8431-75351dc3ac74\" xlink:type=\"simple\"><path d=\"M365.63,80.73 C411.46,98.92 486.99,128.91 537.12,148.8 \" fill=\"none\" id=\"E3&lt;-E8\" style=\"stroke: #A80036; stroke-width: 1.0;\"/><polygon fill=\"#A80036\" points=\"353.54,75.93,357.6459,81.858,364.6971,80.348,360.5912,74.42,353.54,75.93\" style=\"stroke: #A80036; stroke-width: 1.0;\"/></a><!--MD5=[75aa08b4e13ec6404c9f7898068418d8]\n",
       "@startuml\r\n",
       "skinparam wrapWidth 300\r\n",
       "hide circle\r\n",
       "\r\n",
       "package \"ActionTest\" as E1  [[psysml:4a739ce7-b110-4093-8b74-31ee982b1e00 ]]  {\r\n",
       "comp def \"S\" as E2  <<(T,blue) attribute def>> [[psysml:e3ea157b-753f-4ff0-b9f5-62b19f528d25 ]] {\r\n",
       "}\r\n",
       "comp usage \"a\" as E3  <<(T,blue) action>> [[psysml:fa9c3421-7722-4415-b8c7-0ea19e95762e ]] {\r\n",
       "}\r\n",
       "comp usage \"start: Action\" as E4  <<(T,blue) action>> [[psysml:a6d1daf9-13da-45ca-a864-cb134e7177b5 ]] {\r\n",
       "}\r\n",
       "comp usage \"m\" as E5  <<(T,blue) mergeNode>> [[psysml:60604585-cd78-42b0-92ae-265c1a2862a9 ]] {\r\n",
       "}\r\n",
       "comp usage \"<s>noname</s>\" as E6 << accept action>> [[psysml:1a7559c2-685c-4c08-a29a-09c3177cd704 ]] {\r\n",
       "}\r\n",
       "comp usage \"<s>noname</s>\" as E7 << send action>> [[psysml:57acc649-2893-4bd5-b427-585e4a8282d2 ]] {\r\n",
       "}\r\n",
       "comp usage \"<s>noname</s>\" as E8  <<(T,blue) decisionNode>> [[psysml:dcda7bbd-01a5-4374-8a97-a16c2625889c ]] {\r\n",
       "}\r\n",
       "comp def \"B\" as E9  <<(T,blue) action def>> [[psysml:86a7eb05-d2a7-4b0b-add7-eac0d2258e69 ]] {\r\n",
       "}\r\n",
       "E3 o- - E4 [[psysml:52dfc4ad-a62d-4432-a88b-57c0a80d621d ]] \r\n",
       "E3 *- - E5 [[psysml:99d9f5a6-f2b4-4631-bd24-2952b87c2311 ]] \r\n",
       "E3 o- - E6 [[psysml:14dfaf6d-db59-420e-a3c6-2cc6bbb5f023 ]] \r\n",
       "E6 o- - E2 [[psysml:773d19c1-1d9b-4741-b5ba-dd5a31e080a3 ]] \r\n",
       "E3 o- - E7 [[psysml:4bddb34b-31d0-4487-9835-f5e5c1238220 ]] \r\n",
       "E3 *- - E8 [[psysml:010ce356-5f58-462c-8431-75351dc3ac74 ]] \r\n",
       "}\r\n",
       "@enduml\r\n",
       "\n",
       "PlantUML version 1.2020.13(Sat Jun 13 12:26:38 UTC 2020)\n",
       "(EPL source distribution)\n",
       "Java Runtime: OpenJDK Runtime Environment\n",
       "JVM: OpenJDK 64-Bit Server VM\n",
       "Default Encoding: UTF-8\n",
       "Language: en\n",
       "Country: null\n",
       "--></g></svg>"
      ]
     },
     "execution_count": 24,
     "metadata": {},
     "output_type": "execute_result"
    }
   ],
   "source": [
    "%viz --style=\"STDCOLOR\" --view=\"Tree\" \"ActionTest\""
   ]
  },
  {
   "cell_type": "code",
   "execution_count": 25,
   "id": "90f844bd",
   "metadata": {
    "execution": {
     "iopub.execute_input": "2021-06-30T09:17:42.714948Z",
     "iopub.status.busy": "2021-06-30T09:17:42.714420Z",
     "iopub.status.idle": "2021-06-30T09:17:42.722019Z",
     "shell.execute_reply": "2021-06-30T09:17:42.721535Z"
    }
   },
   "outputs": [
    {
     "data": {
      "image/svg+xml": [
       "<?xml version=\"1.0\" encoding=\"UTF-8\" standalone=\"no\"?><svg xmlns=\"http://www.w3.org/2000/svg\" xmlns:xlink=\"http://www.w3.org/1999/xlink\" contentScriptType=\"application/ecmascript\" contentStyleType=\"text/css\" height=\"12px\" preserveAspectRatio=\"none\" style=\"width:12px;height:12px;\" version=\"1.1\" viewBox=\"0 0 12 12\" width=\"12px\" zoomAndPan=\"magnify\"><defs/><g><!--MD5=[aeeef50f102b80d730deb6443d14f702]\n",
       "@startuml\r\n",
       "skinparam wrapWidth 300\r\n",
       "hide circle\r\n",
       "\r\n",
       "@enduml\r\n",
       "\n",
       "PlantUML version 1.2020.13(Sat Jun 13 12:26:38 UTC 2020)\n",
       "(EPL source distribution)\n",
       "Java Runtime: OpenJDK Runtime Environment\n",
       "JVM: OpenJDK 64-Bit Server VM\n",
       "Default Encoding: UTF-8\n",
       "Language: en\n",
       "Country: null\n",
       "--></g></svg>"
      ]
     },
     "execution_count": 25,
     "metadata": {},
     "output_type": "execute_result"
    }
   ],
   "source": [
    "%viz --style=\"STDCOLOR\" --view=\"State\" \"ActionTest\""
   ]
  },
  {
   "cell_type": "code",
   "execution_count": 26,
   "id": "2ce1c60f",
   "metadata": {
    "execution": {
     "iopub.execute_input": "2021-06-30T09:17:42.772960Z",
     "iopub.status.busy": "2021-06-30T09:17:42.772412Z",
     "iopub.status.idle": "2021-06-30T09:17:42.846822Z",
     "shell.execute_reply": "2021-06-30T09:17:42.846194Z"
    }
   },
   "outputs": [
    {
     "data": {
      "image/svg+xml": [
       "<?xml version=\"1.0\" encoding=\"UTF-8\" standalone=\"no\"?><svg xmlns=\"http://www.w3.org/2000/svg\" xmlns:xlink=\"http://www.w3.org/1999/xlink\" contentScriptType=\"application/ecmascript\" contentStyleType=\"text/css\" height=\"462px\" preserveAspectRatio=\"none\" style=\"width:522px;height:462px;\" version=\"1.1\" viewBox=\"0 0 522 462\" width=\"522px\" zoomAndPan=\"magnify\"><defs><filter height=\"300%\" id=\"f9a0lgsv7noj2\" width=\"300%\" x=\"-1\" y=\"-1\"><feGaussianBlur result=\"blurOut\" stdDeviation=\"2.0\"/><feColorMatrix in=\"blurOut\" result=\"blurOut2\" type=\"matrix\" values=\"0 0 0 0 0 0 0 0 0 0 0 0 0 0 0 0 0 0 .4 0\"/><feOffset dx=\"4.0\" dy=\"4.0\" in=\"blurOut2\" result=\"blurOut3\"/><feBlend in=\"SourceGraphic\" in2=\"blurOut3\" mode=\"normal\"/></filter></defs><g><!--MD5=[fbc87193dbaf4d95561dea2c320d4a47]\n",
       "cluster E1--><a href=\"psysml:4a739ce7-b110-4093-8b74-31ee982b1e00\" target=\"_top\" title=\"psysml:4a739ce7-b110-4093-8b74-31ee982b1e00\" xlink:actuate=\"onRequest\" xlink:href=\"psysml:4a739ce7-b110-4093-8b74-31ee982b1e00\" xlink:show=\"new\" xlink:title=\"psysml:4a739ce7-b110-4093-8b74-31ee982b1e00\" xlink:type=\"simple\"><polygon fill=\"#FFFFFF\" filter=\"url(#f9a0lgsv7noj2)\" points=\"16,6,107,6,114,28.2969,500,28.2969,500,450.5,16,450.5,16,6\" style=\"stroke: #000000; stroke-width: 1.5;\"/><line style=\"stroke: #000000; stroke-width: 1.5;\" x1=\"16\" x2=\"114\" y1=\"28.2969\" y2=\"28.2969\"/><text fill=\"#000000\" font-family=\"sans-serif\" font-size=\"14\" font-weight=\"bold\" lengthAdjust=\"spacingAndGlyphs\" textLength=\"85\" x=\"20\" y=\"20.9951\">ActionTest</text></a><!--MD5=[d5e69f78d87373223dbae638b30a9c99]\n",
       "cluster E3--><a href=\"psysml:fa9c3421-7722-4415-b8c7-0ea19e95762e\" target=\"_top\" title=\"psysml:fa9c3421-7722-4415-b8c7-0ea19e95762e\" xlink:actuate=\"onRequest\" xlink:href=\"psysml:fa9c3421-7722-4415-b8c7-0ea19e95762e\" xlink:show=\"new\" xlink:title=\"psysml:fa9c3421-7722-4415-b8c7-0ea19e95762e\" xlink:type=\"simple\"><rect fill=\"#FFFFFF\" filter=\"url(#f9a0lgsv7noj2)\" height=\"377.5\" id=\"E3\" rx=\"10\" ry=\"10\" style=\"stroke: #A80036; stroke-width: 1.5;\" width=\"209\" x=\"267\" y=\"49\"/><rect fill=\"#FEFECE\" height=\"37.9375\" rx=\"10\" ry=\"10\" style=\"stroke: #FEFECE; stroke-width: 1.5;\" width=\"209\" x=\"267\" y=\"49\"/><rect fill=\"#FEFECE\" height=\"10\" style=\"stroke: #FEFECE; stroke-width: 1.5;\" width=\"209\" x=\"267\" y=\"76.9375\"/><rect fill=\"none\" height=\"377.5\" id=\"E3\" rx=\"10\" ry=\"10\" style=\"stroke: #A80036; stroke-width: 1.5;\" width=\"209\" x=\"267\" y=\"49\"/><text fill=\"#000000\" font-family=\"sans-serif\" font-size=\"12\" font-style=\"italic\" lengthAdjust=\"spacingAndGlyphs\" textLength=\"53\" x=\"345\" y=\"65.1387\">«action»</text><text fill=\"#000000\" font-family=\"sans-serif\" font-size=\"12\" lengthAdjust=\"spacingAndGlyphs\" textLength=\"8\" x=\"367.5\" y=\"79.1074\">a</text><line style=\"stroke: #A80036; stroke-width: 1.0;\" x1=\"267\" x2=\"476\" y1=\"86.9375\" y2=\"86.9375\"/></a><g id=\"E1.E2\"><a href=\"psysml:e3ea157b-753f-4ff0-b9f5-62b19f528d25\" target=\"_top\" title=\"psysml:e3ea157b-753f-4ff0-b9f5-62b19f528d25\" xlink:actuate=\"onRequest\" xlink:href=\"psysml:e3ea157b-753f-4ff0-b9f5-62b19f528d25\" xlink:show=\"new\" xlink:title=\"psysml:e3ea157b-753f-4ff0-b9f5-62b19f528d25\" xlink:type=\"simple\"><rect fill=\"#FEFECE\" filter=\"url(#f9a0lgsv7noj2)\" height=\"42.9375\" id=\"E2\" style=\"stroke: #A80036; stroke-width: 1.5;\" width=\"100\" x=\"151\" y=\"88.5\"/><text fill=\"#000000\" font-family=\"sans-serif\" font-size=\"12\" font-style=\"italic\" lengthAdjust=\"spacingAndGlyphs\" textLength=\"93\" x=\"154.5\" y=\"104.6387\">«attribute def»</text><text fill=\"#000000\" font-family=\"sans-serif\" font-size=\"12\" lengthAdjust=\"spacingAndGlyphs\" textLength=\"8\" x=\"197\" y=\"118.6074\">S</text></a></g><polygon fill=\"#FEFECE\" filter=\"url(#f9a0lgsv7noj2)\" points=\"424,148.5,436,160.5,424,172.5,412,160.5,424,148.5\" style=\"stroke: #A80036; stroke-width: 1.5;\"/><!--MD5=[21dd76c19d33815960c0e92fef8f0eef]\n",
       "entity E5--><a href=\"psysml:1a7559c2-685c-4c08-a29a-09c3177cd704\" target=\"_top\" title=\"psysml:1a7559c2-685c-4c08-a29a-09c3177cd704\" xlink:actuate=\"onRequest\" xlink:href=\"psysml:1a7559c2-685c-4c08-a29a-09c3177cd704\" xlink:show=\"new\" xlink:title=\"psysml:1a7559c2-685c-4c08-a29a-09c3177cd704\" xlink:type=\"simple\"><polygon fill=\"#FEFECE\" filter=\"url(#f9a0lgsv7noj2)\" points=\"283,189.5,283,244.0938,423,244.0938,403,216.7969,423,189.5\" style=\"stroke: #000000; stroke-width: 1.5;\"/><text fill=\"#000000\" font-family=\"sans-serif\" font-size=\"14\" font-style=\"italic\" lengthAdjust=\"spacingAndGlyphs\" textLength=\"111\" x=\"290\" y=\"212.4951\">«accept action»</text><text fill=\"#000000\" font-family=\"sans-serif\" font-size=\"14\" lengthAdjust=\"spacingAndGlyphs\" textLength=\"9\" x=\"341\" y=\"229.792\">S</text></a><!--MD5=[24d87cdf3002d433f401b2a2aa9f9f65]\n",
       "entity E6--><a href=\"psysml:57acc649-2893-4bd5-b427-585e4a8282d2\" target=\"_top\" title=\"psysml:57acc649-2893-4bd5-b427-585e4a8282d2\" xlink:actuate=\"onRequest\" xlink:href=\"psysml:57acc649-2893-4bd5-b427-585e4a8282d2\" xlink:show=\"new\" xlink:title=\"psysml:57acc649-2893-4bd5-b427-585e4a8282d2\" xlink:type=\"simple\"><polygon fill=\"#FEFECE\" filter=\"url(#f9a0lgsv7noj2)\" points=\"283,277.5,283,332.0938,391,332.0938,411,304.7969,391,277.5\" style=\"stroke: #000000; stroke-width: 1.5;\"/><text fill=\"#000000\" font-family=\"sans-serif\" font-size=\"14\" font-style=\"italic\" lengthAdjust=\"spacingAndGlyphs\" textLength=\"99\" x=\"290\" y=\"300.4951\">«send action»</text><text fill=\"#000000\" font-family=\"sans-serif\" font-size=\"14\" lengthAdjust=\"spacingAndGlyphs\" textLength=\"65\" x=\"307\" y=\"317.792\">S() to  B()</text></a><polygon fill=\"#FEFECE\" filter=\"url(#f9a0lgsv7noj2)\" points=\"422,349.5,434,361.5,422,373.5,410,361.5,422,349.5\" style=\"stroke: #A80036; stroke-width: 1.5;\"/><ellipse cx=\"424\" cy=\"110\" fill=\"#000000\" filter=\"url(#f9a0lgsv7noj2)\" rx=\"10\" ry=\"10\" style=\"stroke: none; stroke-width: 1.0;\"/><ellipse cx=\"422\" cy=\"400.5\" fill=\"none\" filter=\"url(#f9a0lgsv7noj2)\" rx=\"10\" ry=\"10\" style=\"stroke: #000000; stroke-width: 1.0;\"/><ellipse cx=\"422.5\" cy=\"401\" fill=\"#000000\" rx=\"6\" ry=\"6\" style=\"stroke: none; stroke-width: 1.0;\"/><g id=\"E1.E8\"><a href=\"psysml:86a7eb05-d2a7-4b0b-add7-eac0d2258e69\" target=\"_top\" title=\"psysml:86a7eb05-d2a7-4b0b-add7-eac0d2258e69\" xlink:actuate=\"onRequest\" xlink:href=\"psysml:86a7eb05-d2a7-4b0b-add7-eac0d2258e69\" xlink:show=\"new\" xlink:title=\"psysml:86a7eb05-d2a7-4b0b-add7-eac0d2258e69\" xlink:type=\"simple\"><rect fill=\"#FEFECE\" filter=\"url(#f9a0lgsv7noj2)\" height=\"42.9375\" id=\"E8\" style=\"stroke: #A80036; stroke-width: 1.5;\" width=\"84\" x=\"32\" y=\"88.5\"/><text fill=\"#000000\" font-family=\"sans-serif\" font-size=\"12\" font-style=\"italic\" lengthAdjust=\"spacingAndGlyphs\" textLength=\"77\" x=\"35.5\" y=\"104.6387\">«action def»</text><text fill=\"#000000\" font-family=\"sans-serif\" font-size=\"12\" lengthAdjust=\"spacingAndGlyphs\" textLength=\"8\" x=\"70\" y=\"118.6074\">B</text></a></g><!--MD5=[f47e10efcf9a6752d55dae986d790ed9]\n",
       "link *start*E3 to E4--><a href=\"psysml:3a6c3978-61f5-46d3-ad26-c963b1b56f5b\" target=\"_top\" title=\"psysml:3a6c3978-61f5-46d3-ad26-c963b1b56f5b\" xlink:actuate=\"onRequest\" xlink:href=\"psysml:3a6c3978-61f5-46d3-ad26-c963b1b56f5b\" xlink:show=\"new\" xlink:title=\"psysml:3a6c3978-61f5-46d3-ad26-c963b1b56f5b\" xlink:type=\"simple\"><path d=\"M424,120.35 C424,126.88 424,135.77 424,143.42 \" fill=\"none\" id=\"*start*E3-&gt;E4\" style=\"stroke: #A80036; stroke-width: 1.0;\"/><polygon fill=\"#A80036\" points=\"424,148.48,428,139.48,424,143.48,420,139.48,424,148.48\" style=\"stroke: #A80036; stroke-width: 1.0;\"/></a><!--MD5=[d19f2eb34364d71b67042106d92f540b]\n",
       "link E7 to *end*E3--><a href=\"psysml:36daa16f-4b44-48c5-bcb7-7a401bcea152\" target=\"_top\" title=\"psysml:36daa16f-4b44-48c5-bcb7-7a401bcea152\" xlink:actuate=\"onRequest\" xlink:href=\"psysml:36daa16f-4b44-48c5-bcb7-7a401bcea152\" xlink:show=\"new\" xlink:title=\"psysml:36daa16f-4b44-48c5-bcb7-7a401bcea152\" xlink:type=\"simple\"><path d=\"M422,373.8 C422,377.34 422,381.3 422,385.03 \" fill=\"none\" id=\"E7-&gt;*end*E3\" style=\"stroke: #A80036; stroke-width: 1.0;\"/><polygon fill=\"#A80036\" points=\"422,390.25,426,381.25,422,385.25,418,381.25,422,390.25\" style=\"stroke: #A80036; stroke-width: 1.0;\"/></a><!--MD5=[1b7591eae5389033d8d09a9d6721a717]\n",
       "link E4 to E5--><a href=\"psysml:c56e5692-64fd-4b0b-a986-d866765d0210\" target=\"_top\" title=\"psysml:c56e5692-64fd-4b0b-a986-d866765d0210\" xlink:actuate=\"onRequest\" xlink:href=\"psysml:c56e5692-64fd-4b0b-a986-d866765d0210\" xlink:show=\"new\" xlink:title=\"psysml:c56e5692-64fd-4b0b-a986-d866765d0210\" xlink:type=\"simple\"><path d=\"M417.45,166.53 C411.33,171.23 401.65,178.66 391.64,186.34 \" fill=\"none\" id=\"E4-&gt;E5\" style=\"stroke: #A80036; stroke-width: 1.0;\"/><polygon fill=\"#A80036\" points=\"387.64,189.41,397.2129,187.0948,391.6037,186.3621,392.3363,180.7529,387.64,189.41\" style=\"stroke: #A80036; stroke-width: 1.0;\"/></a><!--MD5=[9120cf2e5df3bff93db8f754bbbc09b4]\n",
       "link E5 to E6--><a href=\"psysml:363bb7e0-7ec1-401c-827a-8a23a32c7946\" target=\"_top\" title=\"psysml:363bb7e0-7ec1-401c-827a-8a23a32c7946\" xlink:actuate=\"onRequest\" xlink:href=\"psysml:363bb7e0-7ec1-401c-827a-8a23a32c7946\" xlink:show=\"new\" xlink:title=\"psysml:363bb7e0-7ec1-401c-827a-8a23a32c7946\" xlink:type=\"simple\"><path d=\"M351.13,244.74 C350.53,253.4 349.85,263.08 349.23,272.08 \" fill=\"none\" id=\"E5-&gt;E6\" style=\"stroke: #A80036; stroke-width: 1.0;\"/><polygon fill=\"#A80036\" points=\"348.86,277.28,353.468,268.5756,349.203,272.2918,345.4869,268.0268,348.86,277.28\" style=\"stroke: #A80036; stroke-width: 1.0;\"/></a><!--MD5=[02c70b7c851c11e3980e4e90450dc5dd]\n",
       "link E6 to E7--><a href=\"psysml:84082b66-a23a-4779-a592-98d74f10d8d7\" target=\"_top\" title=\"psysml:84082b66-a23a-4779-a592-98d74f10d8d7\" xlink:actuate=\"onRequest\" xlink:href=\"psysml:84082b66-a23a-4779-a592-98d74f10d8d7\" xlink:show=\"new\" xlink:title=\"psysml:84082b66-a23a-4779-a592-98d74f10d8d7\" xlink:type=\"simple\"><path d=\"M383.62,332.61 C393.72,339.95 403.91,347.35 411.24,352.68 \" fill=\"none\" id=\"E6-&gt;E7\" style=\"stroke: #A80036; stroke-width: 1.0;\"/><polygon fill=\"#A80036\" points=\"415.42,355.72,410.4976,347.1894,411.3776,352.7774,405.7896,353.6574,415.42,355.72\" style=\"stroke: #A80036; stroke-width: 1.0;\"/></a><!--MD5=[6bdd27f9905911a7e892a3dc65cf6b7c]\n",
       "link E7 to E4--><a href=\"psysml:49753952-5c4c-4ef6-ad04-e80bfe7cb929\" target=\"_top\" title=\"psysml:49753952-5c4c-4ef6-ad04-e80bfe7cb929\" xlink:actuate=\"onRequest\" xlink:href=\"psysml:49753952-5c4c-4ef6-ad04-e80bfe7cb929\" xlink:show=\"new\" xlink:title=\"psysml:49753952-5c4c-4ef6-ad04-e80bfe7cb929\" xlink:type=\"simple\"><path d=\"M425,352.49 C433.84,327.73 458.06,250.48 441,189.5 C439.26,183.29 435.73,177.1 432.34,172.12 \" fill=\"none\" id=\"E7-&gt;E4\" style=\"stroke: #A80036; stroke-width: 1.0;\"/><polygon fill=\"#A80036\" points=\"429.31,167.92,431.3342,177.5586,432.2364,171.9741,437.8209,172.8763,429.31,167.92\" style=\"stroke: #A80036; stroke-width: 1.0;\"/><text fill=\"#000000\" font-family=\"sans-serif\" font-size=\"13\" lengthAdjust=\"spacingAndGlyphs\" textLength=\"36\" x=\"447\" y=\"265.5669\">[true]</text></a><!--MD5=[de437482068cbeb688d5980a59d0cc9d]\n",
       "@startuml\r\n",
       "skinparam ranksep 10\r\n",
       "skinparam rectangle {\r\n",
       " backgroundColor<<block>> LightGreen\r\n",
       "}\r\n",
       "skinparam wrapWidth 300\r\n",
       "hide circle\r\n",
       "\r\n",
       "package \"ActionTest\" as E1  [[psysml:4a739ce7-b110-4093-8b74-31ee982b1e00 ]]  {\r\n",
       "def \"S\" as E2  <<(T,blue) attribute def>> [[psysml:e3ea157b-753f-4ff0-b9f5-62b19f528d25 ]] \r\n",
       "rec usage \"a\" as E3  <<(T,blue) action>> [[psysml:fa9c3421-7722-4415-b8c7-0ea19e95762e ]] {\r\n",
       "choice \"m\" as E4  [[psysml:60604585-cd78-42b0-92ae-265c1a2862a9 ]] \r\n",
       "accept \" S\" as E5 << accept action>> [[psysml:1a7559c2-685c-4c08-a29a-09c3177cd704 ]] \r\n",
       "send \" S() to  B()\" as E6 << send action>> [[psysml:57acc649-2893-4bd5-b427-585e4a8282d2 ]] \r\n",
       "choice \"noname\" as E7  [[psysml:dcda7bbd-01a5-4374-8a97-a16c2625889c ]] \r\n",
       "[*] - -> E4 [[psysml:3a6c3978-61f5-46d3-ad26-c963b1b56f5b ]] \r\n",
       "E7  - -> [*] [[psysml:36daa16f-4b44-48c5-bcb7-7a401bcea152 ]] \r\n",
       "}\r\n",
       "\r\n",
       "rec def \"B\" as E8  <<(T,blue) action def>> [[psysml:86a7eb05-d2a7-4b0b-add7-eac0d2258e69 ]] {\r\n",
       "}\r\n",
       "\r\n",
       "E4 - -> E5 [[psysml:c56e5692-64fd-4b0b-a986-d866765d0210 ]] \r\n",
       "E5 - -> E6 [[psysml:363bb7e0-7ec1-401c-827a-8a23a32c7946 ]] \r\n",
       "E6 - -> E7 [[psysml:84082b66-a23a-4779-a592-98d74f10d8d7 ]] \r\n",
       "E7  - -> E4 [[psysml:49753952-5c4c-4ef6-ad04-e80bfe7cb929 ]] : [true]\r\n",
       "}\r\n",
       "@enduml\r\n",
       "\n",
       "PlantUML version 1.2020.13(Sat Jun 13 12:26:38 UTC 2020)\n",
       "(EPL source distribution)\n",
       "Java Runtime: OpenJDK Runtime Environment\n",
       "JVM: OpenJDK 64-Bit Server VM\n",
       "Default Encoding: UTF-8\n",
       "Language: en\n",
       "Country: null\n",
       "--></g></svg>"
      ]
     },
     "execution_count": 26,
     "metadata": {},
     "output_type": "execute_result"
    }
   ],
   "source": [
    "%viz --style=\"STDCOLOR\" --view=\"Interconnection\" \"ActionTest\""
   ]
  },
  {
   "cell_type": "code",
   "execution_count": 27,
   "id": "31fdfd90",
   "metadata": {
    "execution": {
     "iopub.execute_input": "2021-06-30T09:17:42.899253Z",
     "iopub.status.busy": "2021-06-30T09:17:42.898508Z",
     "iopub.status.idle": "2021-06-30T09:17:42.962425Z",
     "shell.execute_reply": "2021-06-30T09:17:42.961845Z"
    }
   },
   "outputs": [
    {
     "data": {
      "image/svg+xml": [
       "<?xml version=\"1.0\" encoding=\"UTF-8\" standalone=\"no\"?><svg xmlns=\"http://www.w3.org/2000/svg\" xmlns:xlink=\"http://www.w3.org/1999/xlink\" contentScriptType=\"application/ecmascript\" contentStyleType=\"text/css\" height=\"403px\" preserveAspectRatio=\"none\" style=\"width:335px;height:403px;\" version=\"1.1\" viewBox=\"0 0 335 403\" width=\"335px\" zoomAndPan=\"magnify\"><defs><filter height=\"300%\" id=\"f2g1nlc1cqw2v\" width=\"300%\" x=\"-1\" y=\"-1\"><feGaussianBlur result=\"blurOut\" stdDeviation=\"2.0\"/><feColorMatrix in=\"blurOut\" result=\"blurOut2\" type=\"matrix\" values=\"0 0 0 0 0 0 0 0 0 0 0 0 0 0 0 0 0 0 .4 0\"/><feOffset dx=\"4.0\" dy=\"4.0\" in=\"blurOut2\" result=\"blurOut3\"/><feBlend in=\"SourceGraphic\" in2=\"blurOut3\" mode=\"normal\"/></filter></defs><g><!--MD5=[fbc87193dbaf4d95561dea2c320d4a47]\n",
       "cluster E1--><a href=\"psysml:fa9c3421-7722-4415-b8c7-0ea19e95762e\" target=\"_top\" title=\"psysml:fa9c3421-7722-4415-b8c7-0ea19e95762e\" xlink:actuate=\"onRequest\" xlink:href=\"psysml:fa9c3421-7722-4415-b8c7-0ea19e95762e\" xlink:show=\"new\" xlink:title=\"psysml:fa9c3421-7722-4415-b8c7-0ea19e95762e\" xlink:type=\"simple\"><rect fill=\"#FFFFFF\" filter=\"url(#f2g1nlc1cqw2v)\" height=\"377.5\" id=\"E1\" rx=\"10\" ry=\"10\" style=\"stroke: #A80036; stroke-width: 1.5;\" width=\"209\" x=\"107\" y=\"7\"/><rect fill=\"#FEFECE\" height=\"37.9375\" rx=\"10\" ry=\"10\" style=\"stroke: #FEFECE; stroke-width: 1.5;\" width=\"209\" x=\"107\" y=\"7\"/><rect fill=\"#FEFECE\" height=\"10\" style=\"stroke: #FEFECE; stroke-width: 1.5;\" width=\"209\" x=\"107\" y=\"34.9375\"/><rect fill=\"none\" height=\"377.5\" id=\"E1\" rx=\"10\" ry=\"10\" style=\"stroke: #A80036; stroke-width: 1.5;\" width=\"209\" x=\"107\" y=\"7\"/><text fill=\"#000000\" font-family=\"sans-serif\" font-size=\"12\" font-style=\"italic\" lengthAdjust=\"spacingAndGlyphs\" textLength=\"53\" x=\"185\" y=\"23.1387\">«action»</text><text fill=\"#000000\" font-family=\"sans-serif\" font-size=\"12\" lengthAdjust=\"spacingAndGlyphs\" textLength=\"8\" x=\"207.5\" y=\"37.1074\">a</text><line style=\"stroke: #A80036; stroke-width: 1.0;\" x1=\"107\" x2=\"316\" y1=\"44.9375\" y2=\"44.9375\"/></a><polygon fill=\"#FEFECE\" filter=\"url(#f2g1nlc1cqw2v)\" points=\"264,106.5,276,118.5,264,130.5,252,118.5,264,106.5\" style=\"stroke: #A80036; stroke-width: 1.5;\"/><!--MD5=[a60fb756f580feb9fd8e2cf1329b5c91]\n",
       "entity E3--><a href=\"psysml:1a7559c2-685c-4c08-a29a-09c3177cd704\" target=\"_top\" title=\"psysml:1a7559c2-685c-4c08-a29a-09c3177cd704\" xlink:actuate=\"onRequest\" xlink:href=\"psysml:1a7559c2-685c-4c08-a29a-09c3177cd704\" xlink:show=\"new\" xlink:title=\"psysml:1a7559c2-685c-4c08-a29a-09c3177cd704\" xlink:type=\"simple\"><polygon fill=\"#FEFECE\" filter=\"url(#f2g1nlc1cqw2v)\" points=\"123,147.5,123,202.0938,263,202.0938,243,174.7969,263,147.5\" style=\"stroke: #000000; stroke-width: 1.5;\"/><text fill=\"#000000\" font-family=\"sans-serif\" font-size=\"14\" font-style=\"italic\" lengthAdjust=\"spacingAndGlyphs\" textLength=\"111\" x=\"130\" y=\"170.4951\">«accept action»</text><text fill=\"#000000\" font-family=\"sans-serif\" font-size=\"14\" lengthAdjust=\"spacingAndGlyphs\" textLength=\"9\" x=\"181\" y=\"187.792\">S</text></a><!--MD5=[961cefdc15414eaa3e87aec9d17c2188]\n",
       "entity E4--><a href=\"psysml:57acc649-2893-4bd5-b427-585e4a8282d2\" target=\"_top\" title=\"psysml:57acc649-2893-4bd5-b427-585e4a8282d2\" xlink:actuate=\"onRequest\" xlink:href=\"psysml:57acc649-2893-4bd5-b427-585e4a8282d2\" xlink:show=\"new\" xlink:title=\"psysml:57acc649-2893-4bd5-b427-585e4a8282d2\" xlink:type=\"simple\"><polygon fill=\"#FEFECE\" filter=\"url(#f2g1nlc1cqw2v)\" points=\"123,235.5,123,290.0938,231,290.0938,251,262.7969,231,235.5\" style=\"stroke: #000000; stroke-width: 1.5;\"/><text fill=\"#000000\" font-family=\"sans-serif\" font-size=\"14\" font-style=\"italic\" lengthAdjust=\"spacingAndGlyphs\" textLength=\"99\" x=\"130\" y=\"258.4951\">«send action»</text><text fill=\"#000000\" font-family=\"sans-serif\" font-size=\"14\" lengthAdjust=\"spacingAndGlyphs\" textLength=\"65\" x=\"147\" y=\"275.792\">S() to  B()</text></a><polygon fill=\"#FEFECE\" filter=\"url(#f2g1nlc1cqw2v)\" points=\"262,307.5,274,319.5,262,331.5,250,319.5,262,307.5\" style=\"stroke: #A80036; stroke-width: 1.5;\"/><ellipse cx=\"264\" cy=\"68\" fill=\"#000000\" filter=\"url(#f2g1nlc1cqw2v)\" rx=\"10\" ry=\"10\" style=\"stroke: none; stroke-width: 1.0;\"/><ellipse cx=\"262\" cy=\"358.5\" fill=\"none\" filter=\"url(#f2g1nlc1cqw2v)\" rx=\"10\" ry=\"10\" style=\"stroke: #000000; stroke-width: 1.0;\"/><ellipse cx=\"262.5\" cy=\"359\" fill=\"#000000\" rx=\"6\" ry=\"6\" style=\"stroke: none; stroke-width: 1.0;\"/><g id=\"E6\"><a href=\"psysml:86a7eb05-d2a7-4b0b-add7-eac0d2258e69\" target=\"_top\" title=\"psysml:86a7eb05-d2a7-4b0b-add7-eac0d2258e69\" xlink:actuate=\"onRequest\" xlink:href=\"psysml:86a7eb05-d2a7-4b0b-add7-eac0d2258e69\" xlink:show=\"new\" xlink:title=\"psysml:86a7eb05-d2a7-4b0b-add7-eac0d2258e69\" xlink:type=\"simple\"><rect fill=\"#FEFECE\" filter=\"url(#f2g1nlc1cqw2v)\" height=\"42.9375\" id=\"E6\" style=\"stroke: #A80036; stroke-width: 1.5;\" width=\"84\" x=\"7\" y=\"46.5\"/><text fill=\"#000000\" font-family=\"sans-serif\" font-size=\"12\" font-style=\"italic\" lengthAdjust=\"spacingAndGlyphs\" textLength=\"77\" x=\"10.5\" y=\"62.6387\">«action def»</text><text fill=\"#000000\" font-family=\"sans-serif\" font-size=\"12\" lengthAdjust=\"spacingAndGlyphs\" textLength=\"8\" x=\"45\" y=\"76.6074\">B</text></a></g><!--MD5=[cff944eb183b832d446717a4e202d613]\n",
       "link *start*E1 to E2--><a href=\"psysml:3a6c3978-61f5-46d3-ad26-c963b1b56f5b\" target=\"_top\" title=\"psysml:3a6c3978-61f5-46d3-ad26-c963b1b56f5b\" xlink:actuate=\"onRequest\" xlink:href=\"psysml:3a6c3978-61f5-46d3-ad26-c963b1b56f5b\" xlink:show=\"new\" xlink:title=\"psysml:3a6c3978-61f5-46d3-ad26-c963b1b56f5b\" xlink:type=\"simple\"><path d=\"M264,78.35 C264,84.88 264,93.77 264,101.42 \" fill=\"none\" id=\"*start*E1-&gt;E2\" style=\"stroke: #A80036; stroke-width: 1.0; stroke-dasharray: 7.0,7.0;\"/><polygon fill=\"#A80036\" points=\"264,106.48,268,97.48,264,101.48,260,97.48,264,106.48\" style=\"stroke: #A80036; stroke-width: 1.0;\"/></a><!--MD5=[7fc47fc0d107820853a137871ad908c8]\n",
       "link E5 to *end*E1--><a href=\"psysml:36daa16f-4b44-48c5-bcb7-7a401bcea152\" target=\"_top\" title=\"psysml:36daa16f-4b44-48c5-bcb7-7a401bcea152\" xlink:actuate=\"onRequest\" xlink:href=\"psysml:36daa16f-4b44-48c5-bcb7-7a401bcea152\" xlink:show=\"new\" xlink:title=\"psysml:36daa16f-4b44-48c5-bcb7-7a401bcea152\" xlink:type=\"simple\"><path d=\"M262,331.8 C262,335.34 262,339.3 262,343.03 \" fill=\"none\" id=\"E5-&gt;*end*E1\" style=\"stroke: #A80036; stroke-width: 1.0; stroke-dasharray: 7.0,7.0;\"/><polygon fill=\"#A80036\" points=\"262,348.25,266,339.25,262,343.25,258,339.25,262,348.25\" style=\"stroke: #A80036; stroke-width: 1.0;\"/></a><!--MD5=[2720a5a1f2c3fca2055b230370638851]\n",
       "link E2 to E3--><a href=\"psysml:c56e5692-64fd-4b0b-a986-d866765d0210\" target=\"_top\" title=\"psysml:c56e5692-64fd-4b0b-a986-d866765d0210\" xlink:actuate=\"onRequest\" xlink:href=\"psysml:c56e5692-64fd-4b0b-a986-d866765d0210\" xlink:show=\"new\" xlink:title=\"psysml:c56e5692-64fd-4b0b-a986-d866765d0210\" xlink:type=\"simple\"><path d=\"M257.45,124.53 C251.33,129.23 241.65,136.66 231.64,144.34 \" fill=\"none\" id=\"E2-&gt;E3\" style=\"stroke: #A80036; stroke-width: 1.0; stroke-dasharray: 7.0,7.0;\"/><polygon fill=\"#A80036\" points=\"227.64,147.41,237.2129,145.0948,231.6037,144.3621,232.3363,138.7529,227.64,147.41\" style=\"stroke: #A80036; stroke-width: 1.0;\"/></a><!--MD5=[af87c684e3b0d8be13c1a698a818ef1e]\n",
       "link E3 to E4--><a href=\"psysml:363bb7e0-7ec1-401c-827a-8a23a32c7946\" target=\"_top\" title=\"psysml:363bb7e0-7ec1-401c-827a-8a23a32c7946\" xlink:actuate=\"onRequest\" xlink:href=\"psysml:363bb7e0-7ec1-401c-827a-8a23a32c7946\" xlink:show=\"new\" xlink:title=\"psysml:363bb7e0-7ec1-401c-827a-8a23a32c7946\" xlink:type=\"simple\"><path d=\"M191.13,202.74 C190.53,211.4 189.85,221.08 189.23,230.08 \" fill=\"none\" id=\"E3-&gt;E4\" style=\"stroke: #A80036; stroke-width: 1.0; stroke-dasharray: 7.0,7.0;\"/><polygon fill=\"#A80036\" points=\"188.86,235.28,193.468,226.5756,189.203,230.2918,185.4869,226.0268,188.86,235.28\" style=\"stroke: #A80036; stroke-width: 1.0;\"/></a><!--MD5=[1b7591eae5389033d8d09a9d6721a717]\n",
       "link E4 to E5--><a href=\"psysml:84082b66-a23a-4779-a592-98d74f10d8d7\" target=\"_top\" title=\"psysml:84082b66-a23a-4779-a592-98d74f10d8d7\" xlink:actuate=\"onRequest\" xlink:href=\"psysml:84082b66-a23a-4779-a592-98d74f10d8d7\" xlink:show=\"new\" xlink:title=\"psysml:84082b66-a23a-4779-a592-98d74f10d8d7\" xlink:type=\"simple\"><path d=\"M223.62,290.61 C233.72,297.95 243.91,305.35 251.24,310.68 \" fill=\"none\" id=\"E4-&gt;E5\" style=\"stroke: #A80036; stroke-width: 1.0; stroke-dasharray: 7.0,7.0;\"/><polygon fill=\"#A80036\" points=\"255.42,313.72,250.4976,305.1894,251.3776,310.7774,245.7896,311.6574,255.42,313.72\" style=\"stroke: #A80036; stroke-width: 1.0;\"/></a><!--MD5=[15ebcb19ae302d9b601edb458606d402]\n",
       "link E5 to E2--><a href=\"psysml:49753952-5c4c-4ef6-ad04-e80bfe7cb929\" target=\"_top\" title=\"psysml:49753952-5c4c-4ef6-ad04-e80bfe7cb929\" xlink:actuate=\"onRequest\" xlink:href=\"psysml:49753952-5c4c-4ef6-ad04-e80bfe7cb929\" xlink:show=\"new\" xlink:title=\"psysml:49753952-5c4c-4ef6-ad04-e80bfe7cb929\" xlink:type=\"simple\"><path d=\"M265,310.49 C273.84,285.73 298.06,208.48 281,147.5 C279.26,141.29 275.73,135.1 272.34,130.12 \" fill=\"none\" id=\"E5-&gt;E2\" style=\"stroke: #A80036; stroke-width: 1.0; stroke-dasharray: 7.0,7.0;\"/><polygon fill=\"#A80036\" points=\"269.31,125.92,271.3342,135.5586,272.2364,129.9741,277.8209,130.8763,269.31,125.92\" style=\"stroke: #A80036; stroke-width: 1.0;\"/><text fill=\"#000000\" font-family=\"sans-serif\" font-size=\"13\" lengthAdjust=\"spacingAndGlyphs\" textLength=\"36\" x=\"287\" y=\"223.5669\">[true]</text></a><!--MD5=[85505eee307d6f41257fc44756191a16]\n",
       "@startuml\r\n",
       "skinparam ranksep 8\r\n",
       "skinparam wrapWidth 300\r\n",
       "hide circle\r\n",
       "\r\n",
       "rec usage \"a\" as E1  <<(T,blue) action>> [[psysml:fa9c3421-7722-4415-b8c7-0ea19e95762e ]] {\r\n",
       "choice \"m\" as E2  [[psysml:60604585-cd78-42b0-92ae-265c1a2862a9 ]] \r\n",
       "accept \" S\" as E3 << accept action>> [[psysml:1a7559c2-685c-4c08-a29a-09c3177cd704 ]] \r\n",
       "send \" S() to  B()\" as E4 << send action>> [[psysml:57acc649-2893-4bd5-b427-585e4a8282d2 ]] \r\n",
       "choice \"noname\" as E5  [[psysml:dcda7bbd-01a5-4374-8a97-a16c2625889c ]] \r\n",
       "[*] ..> E2 [[psysml:3a6c3978-61f5-46d3-ad26-c963b1b56f5b ]] \r\n",
       "E5 ..> [*] [[psysml:36daa16f-4b44-48c5-bcb7-7a401bcea152 ]] \r\n",
       "}\r\n",
       "\r\n",
       "E2 ..> E3 [[psysml:c56e5692-64fd-4b0b-a986-d866765d0210 ]] \r\n",
       "E3 ..> E4 [[psysml:363bb7e0-7ec1-401c-827a-8a23a32c7946 ]] \r\n",
       "E4 ..> E5 [[psysml:84082b66-a23a-4779-a592-98d74f10d8d7 ]] \r\n",
       "E5 ..> E2 [[psysml:49753952-5c4c-4ef6-ad04-e80bfe7cb929 ]] : [true]\r\n",
       "rec def \"B\" as E6  <<(T,blue) action def>> [[psysml:86a7eb05-d2a7-4b0b-add7-eac0d2258e69 ]] {\r\n",
       "}\r\n",
       "\r\n",
       "@enduml\r\n",
       "\n",
       "PlantUML version 1.2020.13(Sat Jun 13 12:26:38 UTC 2020)\n",
       "(EPL source distribution)\n",
       "Java Runtime: OpenJDK Runtime Environment\n",
       "JVM: OpenJDK 64-Bit Server VM\n",
       "Default Encoding: UTF-8\n",
       "Language: en\n",
       "Country: null\n",
       "--></g></svg>"
      ]
     },
     "execution_count": 27,
     "metadata": {},
     "output_type": "execute_result"
    }
   ],
   "source": [
    "%viz --style=\"STDCOLOR\" --view=\"Action\" \"ActionTest\""
   ]
  },
  {
   "cell_type": "code",
   "execution_count": 28,
   "id": "786e8fb3",
   "metadata": {
    "execution": {
     "iopub.execute_input": "2021-06-30T09:17:43.013336Z",
     "iopub.status.busy": "2021-06-30T09:17:43.012720Z",
     "iopub.status.idle": "2021-06-30T09:17:43.065199Z",
     "shell.execute_reply": "2021-06-30T09:17:43.064778Z"
    }
   },
   "outputs": [
    {
     "data": {
      "image/svg+xml": [
       "<?xml version=\"1.0\" encoding=\"UTF-8\" standalone=\"no\"?><svg xmlns=\"http://www.w3.org/2000/svg\" xmlns:xlink=\"http://www.w3.org/1999/xlink\" contentScriptType=\"application/ecmascript\" contentStyleType=\"text/css\" height=\"327px\" preserveAspectRatio=\"none\" style=\"width:677px;height:327px;\" version=\"1.1\" viewBox=\"0 0 677 327\" width=\"677px\" zoomAndPan=\"magnify\"><defs><filter height=\"300%\" id=\"f18z0hoe3o5owt\" width=\"300%\" x=\"-1\" y=\"-1\"><feGaussianBlur result=\"blurOut\" stdDeviation=\"2.0\"/><feColorMatrix in=\"blurOut\" result=\"blurOut2\" type=\"matrix\" values=\"0 0 0 0 0 0 0 0 0 0 0 0 0 0 0 0 0 0 .4 0\"/><feOffset dx=\"4.0\" dy=\"4.0\" in=\"blurOut2\" result=\"blurOut3\"/><feBlend in=\"SourceGraphic\" in2=\"blurOut3\" mode=\"normal\"/></filter></defs><g><!--MD5=[fbc87193dbaf4d95561dea2c320d4a47]\n",
       "cluster E1--><a href=\"psysml:4a739ce7-b110-4093-8b74-31ee982b1e00\" target=\"_top\" title=\"psysml:4a739ce7-b110-4093-8b74-31ee982b1e00\" xlink:actuate=\"onRequest\" xlink:href=\"psysml:4a739ce7-b110-4093-8b74-31ee982b1e00\" xlink:show=\"new\" xlink:title=\"psysml:4a739ce7-b110-4093-8b74-31ee982b1e00\" xlink:type=\"simple\"><polygon fill=\"#FFFFFF\" filter=\"url(#f18z0hoe3o5owt)\" points=\"16,6,107,6,114,28.2969,655,28.2969,655,315,16,315,16,6\" style=\"stroke: #000000; stroke-width: 1.5;\"/><line style=\"stroke: #000000; stroke-width: 1.5;\" x1=\"16\" x2=\"114\" y1=\"28.2969\" y2=\"28.2969\"/><text fill=\"#000000\" font-family=\"sans-serif\" font-size=\"14\" font-weight=\"bold\" lengthAdjust=\"spacingAndGlyphs\" textLength=\"85\" x=\"20\" y=\"20.9951\">ActionTest</text></a><!--MD5=[b4997ac47864f28c2f74865a473b2911]\n",
       "class E2--><a href=\"psysml:e3ea157b-753f-4ff0-b9f5-62b19f528d25\" target=\"_top\" title=\"psysml:e3ea157b-753f-4ff0-b9f5-62b19f528d25\" xlink:actuate=\"onRequest\" xlink:href=\"psysml:e3ea157b-753f-4ff0-b9f5-62b19f528d25\" xlink:show=\"new\" xlink:title=\"psysml:e3ea157b-753f-4ff0-b9f5-62b19f528d25\" xlink:type=\"simple\"><rect fill=\"#FEFECE\" filter=\"url(#f18z0hoe3o5owt)\" height=\"45.9375\" id=\"E2\" style=\"stroke: #A80036; stroke-width: 1.5;\" width=\"95\" x=\"278.5\" y=\"253\"/><text fill=\"#000000\" font-family=\"sans-serif\" font-size=\"12\" font-style=\"italic\" lengthAdjust=\"spacingAndGlyphs\" textLength=\"93\" x=\"279.5\" y=\"269.1387\">«attribute def»</text><text fill=\"#000000\" font-family=\"sans-serif\" font-size=\"12\" lengthAdjust=\"spacingAndGlyphs\" textLength=\"8\" x=\"322\" y=\"283.1074\">S</text><line style=\"stroke: #A80036; stroke-width: 1.5;\" x1=\"279.5\" x2=\"372.5\" y1=\"290.9375\" y2=\"290.9375\"/></a><!--MD5=[09b614a08d8cba4a07c9adeb5e0fee81]\n",
       "class E3--><a href=\"psysml:fa9c3421-7722-4415-b8c7-0ea19e95762e\" target=\"_top\" title=\"psysml:fa9c3421-7722-4415-b8c7-0ea19e95762e\" xlink:actuate=\"onRequest\" xlink:href=\"psysml:fa9c3421-7722-4415-b8c7-0ea19e95762e\" xlink:show=\"new\" xlink:title=\"psysml:fa9c3421-7722-4415-b8c7-0ea19e95762e\" xlink:type=\"simple\"><rect fill=\"#FEFECE\" filter=\"url(#f18z0hoe3o5owt)\" height=\"45.9375\" id=\"E3\" rx=\"10\" ry=\"10\" style=\"stroke: #A80036; stroke-width: 1.5;\" width=\"55\" x=\"298.5\" y=\"41\"/><text fill=\"#000000\" font-family=\"sans-serif\" font-size=\"12\" font-style=\"italic\" lengthAdjust=\"spacingAndGlyphs\" textLength=\"53\" x=\"299.5\" y=\"57.1387\">«action»</text><text fill=\"#000000\" font-family=\"sans-serif\" font-size=\"12\" lengthAdjust=\"spacingAndGlyphs\" textLength=\"8\" x=\"322\" y=\"71.1074\">a</text><line style=\"stroke: #A80036; stroke-width: 1.5;\" x1=\"299.5\" x2=\"352.5\" y1=\"78.9375\" y2=\"78.9375\"/></a><!--MD5=[ebbe1d658d1005bcc118a6aa81145e00]\n",
       "class E4--><a href=\"psysml:a6d1daf9-13da-45ca-a864-cb134e7177b5\" target=\"_top\" title=\"psysml:a6d1daf9-13da-45ca-a864-cb134e7177b5\" xlink:actuate=\"onRequest\" xlink:href=\"psysml:a6d1daf9-13da-45ca-a864-cb134e7177b5\" xlink:show=\"new\" xlink:title=\"psysml:a6d1daf9-13da-45ca-a864-cb134e7177b5\" xlink:type=\"simple\"><rect fill=\"#FEFECE\" filter=\"url(#f18z0hoe3o5owt)\" height=\"45.9375\" id=\"E4\" rx=\"10\" ry=\"10\" style=\"stroke: #A80036; stroke-width: 1.5;\" width=\"83\" x=\"32.5\" y=\"147\"/><text fill=\"#000000\" font-family=\"sans-serif\" font-size=\"12\" font-style=\"italic\" lengthAdjust=\"spacingAndGlyphs\" textLength=\"53\" x=\"47.5\" y=\"163.1387\">«action»</text><text fill=\"#000000\" font-family=\"sans-serif\" font-size=\"12\" lengthAdjust=\"spacingAndGlyphs\" textLength=\"77\" x=\"35.5\" y=\"177.1074\">start: Action</text><line style=\"stroke: #A80036; stroke-width: 1.5;\" x1=\"33.5\" x2=\"114.5\" y1=\"184.9375\" y2=\"184.9375\"/></a><!--MD5=[270fce915f116d4de14055a7c1d9a0f3]\n",
       "class E5--><a href=\"psysml:60604585-cd78-42b0-92ae-265c1a2862a9\" target=\"_top\" title=\"psysml:60604585-cd78-42b0-92ae-265c1a2862a9\" xlink:actuate=\"onRequest\" xlink:href=\"psysml:60604585-cd78-42b0-92ae-265c1a2862a9\" xlink:show=\"new\" xlink:title=\"psysml:60604585-cd78-42b0-92ae-265c1a2862a9\" xlink:type=\"simple\"><rect fill=\"#FEFECE\" filter=\"url(#f18z0hoe3o5owt)\" height=\"45.9375\" id=\"E5\" rx=\"10\" ry=\"10\" style=\"stroke: #A80036; stroke-width: 1.5;\" width=\"89\" x=\"150.5\" y=\"147\"/><text fill=\"#000000\" font-family=\"sans-serif\" font-size=\"12\" font-style=\"italic\" lengthAdjust=\"spacingAndGlyphs\" textLength=\"87\" x=\"151.5\" y=\"163.1387\">«mergeNode»</text><text fill=\"#000000\" font-family=\"sans-serif\" font-size=\"12\" lengthAdjust=\"spacingAndGlyphs\" textLength=\"11\" x=\"189.5\" y=\"177.1074\">m</text><line style=\"stroke: #A80036; stroke-width: 1.5;\" x1=\"151.5\" x2=\"238.5\" y1=\"184.9375\" y2=\"184.9375\"/></a><!--MD5=[60a26617385b1d2d0262a64233df1f8d]\n",
       "class E6--><a href=\"psysml:1a7559c2-685c-4c08-a29a-09c3177cd704\" target=\"_top\" title=\"psysml:1a7559c2-685c-4c08-a29a-09c3177cd704\" xlink:actuate=\"onRequest\" xlink:href=\"psysml:1a7559c2-685c-4c08-a29a-09c3177cd704\" xlink:show=\"new\" xlink:title=\"psysml:1a7559c2-685c-4c08-a29a-09c3177cd704\" xlink:type=\"simple\"><rect fill=\"#FEFECE\" filter=\"url(#f18z0hoe3o5owt)\" height=\"45.9375\" id=\"E6\" rx=\"10\" ry=\"10\" style=\"stroke: #A80036; stroke-width: 1.5;\" width=\"102\" x=\"275\" y=\"147\"/><text fill=\"#000000\" font-family=\"sans-serif\" font-size=\"12\" font-style=\"italic\" lengthAdjust=\"spacingAndGlyphs\" textLength=\"100\" x=\"276\" y=\"163.1387\">«accept action»</text><text fill=\"#000000\" font-family=\"sans-serif\" font-size=\"12\" lengthAdjust=\"spacingAndGlyphs\" text-decoration=\"line-through\" textLength=\"51\" x=\"300.5\" y=\"177.1074\">noname</text><line style=\"stroke: #A80036; stroke-width: 1.5;\" x1=\"276\" x2=\"376\" y1=\"184.9375\" y2=\"184.9375\"/></a><!--MD5=[2156ba9850f5573cc1fc38a6a4b2f02b]\n",
       "class E7--><a href=\"psysml:57acc649-2893-4bd5-b427-585e4a8282d2\" target=\"_top\" title=\"psysml:57acc649-2893-4bd5-b427-585e4a8282d2\" xlink:actuate=\"onRequest\" xlink:href=\"psysml:57acc649-2893-4bd5-b427-585e4a8282d2\" xlink:show=\"new\" xlink:title=\"psysml:57acc649-2893-4bd5-b427-585e4a8282d2\" xlink:type=\"simple\"><rect fill=\"#FEFECE\" filter=\"url(#f18z0hoe3o5owt)\" height=\"45.9375\" id=\"E7\" rx=\"10\" ry=\"10\" style=\"stroke: #A80036; stroke-width: 1.5;\" width=\"90\" x=\"412\" y=\"147\"/><text fill=\"#000000\" font-family=\"sans-serif\" font-size=\"12\" font-style=\"italic\" lengthAdjust=\"spacingAndGlyphs\" textLength=\"88\" x=\"413\" y=\"163.1387\">«send action»</text><text fill=\"#000000\" font-family=\"sans-serif\" font-size=\"12\" lengthAdjust=\"spacingAndGlyphs\" text-decoration=\"line-through\" textLength=\"51\" x=\"431.5\" y=\"177.1074\">noname</text><line style=\"stroke: #A80036; stroke-width: 1.5;\" x1=\"413\" x2=\"501\" y1=\"184.9375\" y2=\"184.9375\"/></a><!--MD5=[b9389687b975829384b498ac4b7476b2]\n",
       "class E8--><a href=\"psysml:dcda7bbd-01a5-4374-8a97-a16c2625889c\" target=\"_top\" title=\"psysml:dcda7bbd-01a5-4374-8a97-a16c2625889c\" xlink:actuate=\"onRequest\" xlink:href=\"psysml:dcda7bbd-01a5-4374-8a97-a16c2625889c\" xlink:show=\"new\" xlink:title=\"psysml:dcda7bbd-01a5-4374-8a97-a16c2625889c\" xlink:type=\"simple\"><rect fill=\"#FEFECE\" filter=\"url(#f18z0hoe3o5owt)\" height=\"45.9375\" id=\"E8\" rx=\"10\" ry=\"10\" style=\"stroke: #A80036; stroke-width: 1.5;\" width=\"101\" x=\"537.5\" y=\"147\"/><text fill=\"#000000\" font-family=\"sans-serif\" font-size=\"12\" font-style=\"italic\" lengthAdjust=\"spacingAndGlyphs\" textLength=\"99\" x=\"538.5\" y=\"163.1387\">«decisionNode»</text><text fill=\"#000000\" font-family=\"sans-serif\" font-size=\"12\" lengthAdjust=\"spacingAndGlyphs\" text-decoration=\"line-through\" textLength=\"51\" x=\"562.5\" y=\"177.1074\">noname</text><line style=\"stroke: #A80036; stroke-width: 1.5;\" x1=\"538.5\" x2=\"637.5\" y1=\"184.9375\" y2=\"184.9375\"/></a><!--MD5=[fd4143e9d270a159db93a4ea2a975926]\n",
       "class E9--><a href=\"psysml:86a7eb05-d2a7-4b0b-add7-eac0d2258e69\" target=\"_top\" title=\"psysml:86a7eb05-d2a7-4b0b-add7-eac0d2258e69\" xlink:actuate=\"onRequest\" xlink:href=\"psysml:86a7eb05-d2a7-4b0b-add7-eac0d2258e69\" xlink:show=\"new\" xlink:title=\"psysml:86a7eb05-d2a7-4b0b-add7-eac0d2258e69\" xlink:type=\"simple\"><rect fill=\"#FEFECE\" filter=\"url(#f18z0hoe3o5owt)\" height=\"45.9375\" id=\"E9\" style=\"stroke: #A80036; stroke-width: 1.5;\" width=\"79\" x=\"108.5\" y=\"41\"/><text fill=\"#000000\" font-family=\"sans-serif\" font-size=\"12\" font-style=\"italic\" lengthAdjust=\"spacingAndGlyphs\" textLength=\"77\" x=\"109.5\" y=\"57.1387\">«action def»</text><text fill=\"#000000\" font-family=\"sans-serif\" font-size=\"12\" lengthAdjust=\"spacingAndGlyphs\" textLength=\"8\" x=\"144\" y=\"71.1074\">B</text><line style=\"stroke: #A80036; stroke-width: 1.5;\" x1=\"109.5\" x2=\"186.5\" y1=\"78.9375\" y2=\"78.9375\"/></a><!--MD5=[4672eba38e49728da53d11aeb285b987]\n",
       "reverse link E3 to E4--><a href=\"psysml:52dfc4ad-a62d-4432-a88b-57c0a80d621d\" target=\"_top\" title=\"psysml:52dfc4ad-a62d-4432-a88b-57c0a80d621d\" xlink:actuate=\"onRequest\" xlink:href=\"psysml:52dfc4ad-a62d-4432-a88b-57c0a80d621d\" xlink:show=\"new\" xlink:title=\"psysml:52dfc4ad-a62d-4432-a88b-57c0a80d621d\" xlink:type=\"simple\"><path d=\"M285.79,81.6 C239.27,100.79 163.05,132.25 115.85,151.73 \" fill=\"none\" id=\"E3&lt;-E4\" style=\"stroke: #A80036; stroke-width: 1.0;\"/><polygon fill=\"#FFFFFF\" points=\"298.07,76.53,290.9979,75.1209,286.9771,81.107,294.0492,82.5161,298.07,76.53\" style=\"stroke: #A80036; stroke-width: 1.0;\"/></a><!--MD5=[191cde3d490a3f6d7bb551fe3ddca469]\n",
       "reverse link E3 to E5--><a href=\"psysml:99d9f5a6-f2b4-4631-bd24-2952b87c2311\" target=\"_top\" title=\"psysml:99d9f5a6-f2b4-4631-bd24-2952b87c2311\" xlink:actuate=\"onRequest\" xlink:href=\"psysml:99d9f5a6-f2b4-4631-bd24-2952b87c2311\" xlink:show=\"new\" xlink:title=\"psysml:99d9f5a6-f2b4-4631-bd24-2952b87c2311\" xlink:type=\"simple\"><path d=\"M287.79,95.33 C266.97,111.86 241.66,131.95 222.74,146.98 \" fill=\"none\" id=\"E3&lt;-E5\" style=\"stroke: #A80036; stroke-width: 1.0;\"/><polygon fill=\"#A80036\" points=\"298.22,87.06,291.0341,87.6625,288.8265,94.5273,296.0123,93.9249,298.22,87.06\" style=\"stroke: #A80036; stroke-width: 1.0;\"/></a><!--MD5=[1026b4b93417a13aa8999a858998add2]\n",
       "reverse link E3 to E6--><a href=\"psysml:14dfaf6d-db59-420e-a3c6-2cc6bbb5f023\" target=\"_top\" title=\"psysml:14dfaf6d-db59-420e-a3c6-2cc6bbb5f023\" xlink:actuate=\"onRequest\" xlink:href=\"psysml:14dfaf6d-db59-420e-a3c6-2cc6bbb5f023\" xlink:show=\"new\" xlink:title=\"psysml:14dfaf6d-db59-420e-a3c6-2cc6bbb5f023\" xlink:type=\"simple\"><path d=\"M326,100.44 C326,115.87 326,133.47 326,146.98 \" fill=\"none\" id=\"E3&lt;-E6\" style=\"stroke: #A80036; stroke-width: 1.0;\"/><polygon fill=\"#FFFFFF\" points=\"326,87.06,322,93.06,326,99.06,330,93.06,326,87.06\" style=\"stroke: #A80036; stroke-width: 1.0;\"/></a><!--MD5=[3403bfa781cc3da0fd423dbab6f01c63]\n",
       "reverse link E6 to E2--><a href=\"psysml:773d19c1-1d9b-4741-b5ba-dd5a31e080a3\" target=\"_top\" title=\"psysml:773d19c1-1d9b-4741-b5ba-dd5a31e080a3\" xlink:actuate=\"onRequest\" xlink:href=\"psysml:773d19c1-1d9b-4741-b5ba-dd5a31e080a3\" xlink:show=\"new\" xlink:title=\"psysml:773d19c1-1d9b-4741-b5ba-dd5a31e080a3\" xlink:type=\"simple\"><path d=\"M326,206.44 C326,221.87 326,239.47 326,252.98 \" fill=\"none\" id=\"E6&lt;-E2\" style=\"stroke: #A80036; stroke-width: 1.0;\"/><polygon fill=\"#FFFFFF\" points=\"326,193.06,322,199.06,326,205.06,330,199.06,326,193.06\" style=\"stroke: #A80036; stroke-width: 1.0;\"/></a><!--MD5=[85760999379eecfd2565a9fecdca67e4]\n",
       "reverse link E3 to E7--><a href=\"psysml:4bddb34b-31d0-4487-9835-f5e5c1238220\" target=\"_top\" title=\"psysml:4bddb34b-31d0-4487-9835-f5e5c1238220\" xlink:actuate=\"onRequest\" xlink:href=\"psysml:4bddb34b-31d0-4487-9835-f5e5c1238220\" xlink:show=\"new\" xlink:title=\"psysml:4bddb34b-31d0-4487-9835-f5e5c1238220\" xlink:type=\"simple\"><path d=\"M364.21,95.33 C385.03,111.86 410.34,131.95 429.26,146.98 \" fill=\"none\" id=\"E3&lt;-E7\" style=\"stroke: #A80036; stroke-width: 1.0;\"/><polygon fill=\"#FFFFFF\" points=\"353.78,87.06,355.9877,93.9249,363.1735,94.5273,360.9659,87.6625,353.78,87.06\" style=\"stroke: #A80036; stroke-width: 1.0;\"/></a><!--MD5=[4cb75b73ec3682b8f7f8edc9cc86126a]\n",
       "reverse link E3 to E8--><a href=\"psysml:010ce356-5f58-462c-8431-75351dc3ac74\" target=\"_top\" title=\"psysml:010ce356-5f58-462c-8431-75351dc3ac74\" xlink:actuate=\"onRequest\" xlink:href=\"psysml:010ce356-5f58-462c-8431-75351dc3ac74\" xlink:show=\"new\" xlink:title=\"psysml:010ce356-5f58-462c-8431-75351dc3ac74\" xlink:type=\"simple\"><path d=\"M365.63,80.73 C411.46,98.92 486.99,128.91 537.12,148.8 \" fill=\"none\" id=\"E3&lt;-E8\" style=\"stroke: #A80036; stroke-width: 1.0;\"/><polygon fill=\"#A80036\" points=\"353.54,75.93,357.6459,81.858,364.6971,80.348,360.5912,74.42,353.54,75.93\" style=\"stroke: #A80036; stroke-width: 1.0;\"/></a><!--MD5=[75aa08b4e13ec6404c9f7898068418d8]\n",
       "@startuml\r\n",
       "skinparam wrapWidth 300\r\n",
       "hide circle\r\n",
       "\r\n",
       "package \"ActionTest\" as E1  [[psysml:4a739ce7-b110-4093-8b74-31ee982b1e00 ]]  {\r\n",
       "comp def \"S\" as E2  <<(T,blue) attribute def>> [[psysml:e3ea157b-753f-4ff0-b9f5-62b19f528d25 ]] {\r\n",
       "}\r\n",
       "comp usage \"a\" as E3  <<(T,blue) action>> [[psysml:fa9c3421-7722-4415-b8c7-0ea19e95762e ]] {\r\n",
       "}\r\n",
       "comp usage \"start: Action\" as E4  <<(T,blue) action>> [[psysml:a6d1daf9-13da-45ca-a864-cb134e7177b5 ]] {\r\n",
       "}\r\n",
       "comp usage \"m\" as E5  <<(T,blue) mergeNode>> [[psysml:60604585-cd78-42b0-92ae-265c1a2862a9 ]] {\r\n",
       "}\r\n",
       "comp usage \"<s>noname</s>\" as E6 << accept action>> [[psysml:1a7559c2-685c-4c08-a29a-09c3177cd704 ]] {\r\n",
       "}\r\n",
       "comp usage \"<s>noname</s>\" as E7 << send action>> [[psysml:57acc649-2893-4bd5-b427-585e4a8282d2 ]] {\r\n",
       "}\r\n",
       "comp usage \"<s>noname</s>\" as E8  <<(T,blue) decisionNode>> [[psysml:dcda7bbd-01a5-4374-8a97-a16c2625889c ]] {\r\n",
       "}\r\n",
       "comp def \"B\" as E9  <<(T,blue) action def>> [[psysml:86a7eb05-d2a7-4b0b-add7-eac0d2258e69 ]] {\r\n",
       "}\r\n",
       "E3 o- - E4 [[psysml:52dfc4ad-a62d-4432-a88b-57c0a80d621d ]] \r\n",
       "E3 *- - E5 [[psysml:99d9f5a6-f2b4-4631-bd24-2952b87c2311 ]] \r\n",
       "E3 o- - E6 [[psysml:14dfaf6d-db59-420e-a3c6-2cc6bbb5f023 ]] \r\n",
       "E6 o- - E2 [[psysml:773d19c1-1d9b-4741-b5ba-dd5a31e080a3 ]] \r\n",
       "E3 o- - E7 [[psysml:4bddb34b-31d0-4487-9835-f5e5c1238220 ]] \r\n",
       "E3 *- - E8 [[psysml:010ce356-5f58-462c-8431-75351dc3ac74 ]] \r\n",
       "}\r\n",
       "@enduml\r\n",
       "\n",
       "PlantUML version 1.2020.13(Sat Jun 13 12:26:38 UTC 2020)\n",
       "(EPL source distribution)\n",
       "Java Runtime: OpenJDK Runtime Environment\n",
       "JVM: OpenJDK 64-Bit Server VM\n",
       "Default Encoding: UTF-8\n",
       "Language: en\n",
       "Country: null\n",
       "--></g></svg>"
      ]
     },
     "execution_count": 28,
     "metadata": {},
     "output_type": "execute_result"
    }
   ],
   "source": [
    "%viz --style=\"STDCOLOR\" --view=\"Sequence\" \"ActionTest\""
   ]
  },
  {
   "cell_type": "code",
   "execution_count": 29,
   "id": "8743f726",
   "metadata": {
    "execution": {
     "iopub.execute_input": "2021-06-30T09:17:43.119230Z",
     "iopub.status.busy": "2021-06-30T09:17:43.118155Z",
     "iopub.status.idle": "2021-06-30T09:17:43.190687Z",
     "shell.execute_reply": "2021-06-30T09:17:43.187690Z"
    }
   },
   "outputs": [
    {
     "data": {
      "image/svg+xml": [
       "<?xml version=\"1.0\" encoding=\"UTF-8\" standalone=\"no\"?><svg xmlns=\"http://www.w3.org/2000/svg\" xmlns:xlink=\"http://www.w3.org/1999/xlink\" contentScriptType=\"application/ecmascript\" contentStyleType=\"text/css\" height=\"684px\" preserveAspectRatio=\"none\" style=\"width:518px;height:684px;\" version=\"1.1\" viewBox=\"0 0 518 684\" width=\"518px\" zoomAndPan=\"magnify\"><defs><filter height=\"300%\" id=\"f1la42a0dwc38x\" width=\"300%\" x=\"-1\" y=\"-1\"><feGaussianBlur result=\"blurOut\" stdDeviation=\"2.0\"/><feColorMatrix in=\"blurOut\" result=\"blurOut2\" type=\"matrix\" values=\"0 0 0 0 0 0 0 0 0 0 0 0 0 0 0 0 0 0 .4 0\"/><feOffset dx=\"4.0\" dy=\"4.0\" in=\"blurOut2\" result=\"blurOut3\"/><feBlend in=\"SourceGraphic\" in2=\"blurOut3\" mode=\"normal\"/></filter></defs><g><!--MD5=[fbc87193dbaf4d95561dea2c320d4a47]\n",
       "cluster E1--><a href=\"psysml:4a739ce7-b110-4093-8b74-31ee982b1e00\" target=\"_top\" title=\"psysml:4a739ce7-b110-4093-8b74-31ee982b1e00\" xlink:actuate=\"onRequest\" xlink:href=\"psysml:4a739ce7-b110-4093-8b74-31ee982b1e00\" xlink:show=\"new\" xlink:title=\"psysml:4a739ce7-b110-4093-8b74-31ee982b1e00\" xlink:type=\"simple\"><polygon fill=\"#FFFFFF\" filter=\"url(#f1la42a0dwc38x)\" points=\"16,6,107,6,114,28.2969,496,28.2969,496,672,16,672,16,6\" style=\"stroke: #000000; stroke-width: 1.5;\"/><line style=\"stroke: #000000; stroke-width: 1.5;\" x1=\"16\" x2=\"114\" y1=\"28.2969\" y2=\"28.2969\"/><text fill=\"#000000\" font-family=\"sans-serif\" font-size=\"14\" font-weight=\"bold\" lengthAdjust=\"spacingAndGlyphs\" textLength=\"85\" x=\"20\" y=\"20.9951\">ActionTest</text></a><!--MD5=[d5e69f78d87373223dbae638b30a9c99]\n",
       "cluster E3--><a href=\"psysml:fa9c3421-7722-4415-b8c7-0ea19e95762e\" target=\"_top\" title=\"psysml:fa9c3421-7722-4415-b8c7-0ea19e95762e\" xlink:actuate=\"onRequest\" xlink:href=\"psysml:fa9c3421-7722-4415-b8c7-0ea19e95762e\" xlink:show=\"new\" xlink:title=\"psysml:fa9c3421-7722-4415-b8c7-0ea19e95762e\" xlink:type=\"simple\"><rect fill=\"#FFFFFF\" filter=\"url(#f1la42a0dwc38x)\" height=\"599\" id=\"E3\" rx=\"10\" ry=\"10\" style=\"stroke: #A80036; stroke-width: 1.5;\" width=\"209\" x=\"263\" y=\"49\"/><rect fill=\"#FEFECE\" height=\"37.9375\" rx=\"10\" ry=\"10\" style=\"stroke: #FEFECE; stroke-width: 1.5;\" width=\"209\" x=\"263\" y=\"49\"/><rect fill=\"#FEFECE\" height=\"10\" style=\"stroke: #FEFECE; stroke-width: 1.5;\" width=\"209\" x=\"263\" y=\"76.9375\"/><rect fill=\"none\" height=\"599\" id=\"E3\" rx=\"10\" ry=\"10\" style=\"stroke: #A80036; stroke-width: 1.5;\" width=\"209\" x=\"263\" y=\"49\"/><text fill=\"#000000\" font-family=\"sans-serif\" font-size=\"12\" font-style=\"italic\" lengthAdjust=\"spacingAndGlyphs\" textLength=\"53\" x=\"341\" y=\"65.1387\">«action»</text><text fill=\"#000000\" font-family=\"sans-serif\" font-size=\"12\" lengthAdjust=\"spacingAndGlyphs\" textLength=\"8\" x=\"363.5\" y=\"79.1074\">a</text><line style=\"stroke: #A80036; stroke-width: 1.0;\" x1=\"263\" x2=\"472\" y1=\"86.9375\" y2=\"86.9375\"/></a><!--MD5=[b4997ac47864f28c2f74865a473b2911]\n",
       "class E2--><a href=\"psysml:e3ea157b-753f-4ff0-b9f5-62b19f528d25\" target=\"_top\" title=\"psysml:e3ea157b-753f-4ff0-b9f5-62b19f528d25\" xlink:actuate=\"onRequest\" xlink:href=\"psysml:e3ea157b-753f-4ff0-b9f5-62b19f528d25\" xlink:show=\"new\" xlink:title=\"psysml:e3ea157b-753f-4ff0-b9f5-62b19f528d25\" xlink:type=\"simple\"><rect fill=\"#FEFECE\" filter=\"url(#f1la42a0dwc38x)\" height=\"45.9375\" id=\"E2\" style=\"stroke: #A80036; stroke-width: 1.5;\" width=\"95\" x=\"151.5\" y=\"87\"/><text fill=\"#000000\" font-family=\"sans-serif\" font-size=\"12\" font-style=\"italic\" lengthAdjust=\"spacingAndGlyphs\" textLength=\"93\" x=\"152.5\" y=\"103.1387\">«attribute def»</text><text fill=\"#000000\" font-family=\"sans-serif\" font-size=\"12\" lengthAdjust=\"spacingAndGlyphs\" textLength=\"8\" x=\"195\" y=\"117.1074\">S</text><line style=\"stroke: #A80036; stroke-width: 1.5;\" x1=\"152.5\" x2=\"245.5\" y1=\"124.9375\" y2=\"124.9375\"/></a><polygon fill=\"#FEFECE\" filter=\"url(#f1la42a0dwc38x)\" points=\"420,194,432,206,420,218,408,206,420,194\" style=\"stroke: #A80036; stroke-width: 1.5;\"/><!--MD5=[21dd76c19d33815960c0e92fef8f0eef]\n",
       "entity E5--><a href=\"psysml:1a7559c2-685c-4c08-a29a-09c3177cd704\" target=\"_top\" title=\"psysml:1a7559c2-685c-4c08-a29a-09c3177cd704\" xlink:actuate=\"onRequest\" xlink:href=\"psysml:1a7559c2-685c-4c08-a29a-09c3177cd704\" xlink:show=\"new\" xlink:title=\"psysml:1a7559c2-685c-4c08-a29a-09c3177cd704\" xlink:type=\"simple\"><polygon fill=\"#FEFECE\" filter=\"url(#f1la42a0dwc38x)\" points=\"279,279,279,333.5938,419,333.5938,399,306.2969,419,279\" style=\"stroke: #000000; stroke-width: 1.5;\"/><text fill=\"#000000\" font-family=\"sans-serif\" font-size=\"14\" font-style=\"italic\" lengthAdjust=\"spacingAndGlyphs\" textLength=\"111\" x=\"286\" y=\"301.9951\">«accept action»</text><text fill=\"#000000\" font-family=\"sans-serif\" font-size=\"14\" lengthAdjust=\"spacingAndGlyphs\" textLength=\"9\" x=\"337\" y=\"319.292\">S</text></a><!--MD5=[24d87cdf3002d433f401b2a2aa9f9f65]\n",
       "entity E6--><a href=\"psysml:57acc649-2893-4bd5-b427-585e4a8282d2\" target=\"_top\" title=\"psysml:57acc649-2893-4bd5-b427-585e4a8282d2\" xlink:actuate=\"onRequest\" xlink:href=\"psysml:57acc649-2893-4bd5-b427-585e4a8282d2\" xlink:show=\"new\" xlink:title=\"psysml:57acc649-2893-4bd5-b427-585e4a8282d2\" xlink:type=\"simple\"><polygon fill=\"#FEFECE\" filter=\"url(#f1la42a0dwc38x)\" points=\"279,411,279,465.5938,387,465.5938,407,438.2969,387,411\" style=\"stroke: #000000; stroke-width: 1.5;\"/><text fill=\"#000000\" font-family=\"sans-serif\" font-size=\"14\" font-style=\"italic\" lengthAdjust=\"spacingAndGlyphs\" textLength=\"99\" x=\"286\" y=\"433.9951\">«send action»</text><text fill=\"#000000\" font-family=\"sans-serif\" font-size=\"14\" lengthAdjust=\"spacingAndGlyphs\" textLength=\"65\" x=\"303\" y=\"451.292\">S() to  B()</text></a><polygon fill=\"#FEFECE\" filter=\"url(#f1la42a0dwc38x)\" points=\"418,527,430,539,418,551,406,539,418,527\" style=\"stroke: #A80036; stroke-width: 1.5;\"/><ellipse cx=\"420\" cy=\"110\" fill=\"#000000\" filter=\"url(#f1la42a0dwc38x)\" rx=\"10\" ry=\"10\" style=\"stroke: none; stroke-width: 1.0;\"/><ellipse cx=\"418\" cy=\"622\" fill=\"none\" filter=\"url(#f1la42a0dwc38x)\" rx=\"10\" ry=\"10\" style=\"stroke: #000000; stroke-width: 1.0;\"/><ellipse cx=\"418.5\" cy=\"622.5\" fill=\"#000000\" rx=\"6\" ry=\"6\" style=\"stroke: none; stroke-width: 1.0;\"/><g id=\"E1.E8\"><a href=\"psysml:86a7eb05-d2a7-4b0b-add7-eac0d2258e69\" target=\"_top\" title=\"psysml:86a7eb05-d2a7-4b0b-add7-eac0d2258e69\" xlink:actuate=\"onRequest\" xlink:href=\"psysml:86a7eb05-d2a7-4b0b-add7-eac0d2258e69\" xlink:show=\"new\" xlink:title=\"psysml:86a7eb05-d2a7-4b0b-add7-eac0d2258e69\" xlink:type=\"simple\"><rect fill=\"#FEFECE\" filter=\"url(#f1la42a0dwc38x)\" height=\"42.9375\" id=\"E8\" style=\"stroke: #A80036; stroke-width: 1.5;\" width=\"84\" x=\"32\" y=\"88.5\"/><text fill=\"#000000\" font-family=\"sans-serif\" font-size=\"12\" font-style=\"italic\" lengthAdjust=\"spacingAndGlyphs\" textLength=\"77\" x=\"35.5\" y=\"104.6387\">«action def»</text><text fill=\"#000000\" font-family=\"sans-serif\" font-size=\"12\" lengthAdjust=\"spacingAndGlyphs\" textLength=\"8\" x=\"70\" y=\"118.6074\">B</text></a></g><!--MD5=[f47e10efcf9a6752d55dae986d790ed9]\n",
       "link *start*E3 to E4--><a href=\"psysml:3a6c3978-61f5-46d3-ad26-c963b1b56f5b\" target=\"_top\" title=\"psysml:3a6c3978-61f5-46d3-ad26-c963b1b56f5b\" xlink:actuate=\"onRequest\" xlink:href=\"psysml:3a6c3978-61f5-46d3-ad26-c963b1b56f5b\" xlink:show=\"new\" xlink:title=\"psysml:3a6c3978-61f5-46d3-ad26-c963b1b56f5b\" xlink:type=\"simple\"><path d=\"M420,120.01 C420,135.81 420,168.69 420,188.61 \" fill=\"none\" id=\"*start*E3-&gt;E4\" style=\"stroke: #A80036; stroke-width: 1.0;\"/><polygon fill=\"#A80036\" points=\"420,193.85,424,184.85,420,188.85,416,184.85,420,193.85\" style=\"stroke: #A80036; stroke-width: 1.0;\"/></a><!--MD5=[d19f2eb34364d71b67042106d92f540b]\n",
       "link E7 to *end*E3--><a href=\"psysml:36daa16f-4b44-48c5-bcb7-7a401bcea152\" target=\"_top\" title=\"psysml:36daa16f-4b44-48c5-bcb7-7a401bcea152\" xlink:actuate=\"onRequest\" xlink:href=\"psysml:36daa16f-4b44-48c5-bcb7-7a401bcea152\" xlink:show=\"new\" xlink:title=\"psysml:36daa16f-4b44-48c5-bcb7-7a401bcea152\" xlink:type=\"simple\"><path d=\"M418,551.26 C418,565.66 418,590.63 418,606.46 \" fill=\"none\" id=\"E7-&gt;*end*E3\" style=\"stroke: #A80036; stroke-width: 1.0;\"/><polygon fill=\"#A80036\" points=\"418,611.84,422,602.84,418,606.84,414,602.84,418,611.84\" style=\"stroke: #A80036; stroke-width: 1.0;\"/></a><!--MD5=[1b7591eae5389033d8d09a9d6721a717]\n",
       "link E4 to E5--><a href=\"psysml:c56e5692-64fd-4b0b-a986-d866765d0210\" target=\"_top\" title=\"psysml:c56e5692-64fd-4b0b-a986-d866765d0210\" xlink:actuate=\"onRequest\" xlink:href=\"psysml:c56e5692-64fd-4b0b-a986-d866765d0210\" xlink:show=\"new\" xlink:title=\"psysml:c56e5692-64fd-4b0b-a986-d866765d0210\" xlink:type=\"simple\"><path d=\"M415.34,213.46 C406.55,225.66 386.99,252.8 371.37,274.46 \" fill=\"none\" id=\"E4-&gt;E5\" style=\"stroke: #A80036; stroke-width: 1.0;\"/><polygon fill=\"#A80036\" points=\"368.31,278.71,376.8093,273.7339,371.227,274.6491,370.3119,269.0667,368.31,278.71\" style=\"stroke: #A80036; stroke-width: 1.0;\"/></a><!--MD5=[9120cf2e5df3bff93db8f754bbbc09b4]\n",
       "link E5 to E6--><a href=\"psysml:363bb7e0-7ec1-401c-827a-8a23a32c7946\" target=\"_top\" title=\"psysml:363bb7e0-7ec1-401c-827a-8a23a32c7946\" xlink:actuate=\"onRequest\" xlink:href=\"psysml:363bb7e0-7ec1-401c-827a-8a23a32c7946\" xlink:show=\"new\" xlink:title=\"psysml:363bb7e0-7ec1-401c-827a-8a23a32c7946\" xlink:type=\"simple\"><path d=\"M347.77,334.12 C346.81,354.89 345.48,383.8 344.46,405.77 \" fill=\"none\" id=\"E5-&gt;E6\" style=\"stroke: #A80036; stroke-width: 1.0;\"/><polygon fill=\"#A80036\" points=\"344.23,410.91,348.6368,402.1021,344.4583,405.9152,340.6452,401.7367,344.23,410.91\" style=\"stroke: #A80036; stroke-width: 1.0;\"/></a><!--MD5=[02c70b7c851c11e3980e4e90450dc5dd]\n",
       "link E6 to E7--><a href=\"psysml:84082b66-a23a-4779-a592-98d74f10d8d7\" target=\"_top\" title=\"psysml:84082b66-a23a-4779-a592-98d74f10d8d7\" xlink:actuate=\"onRequest\" xlink:href=\"psysml:84082b66-a23a-4779-a592-98d74f10d8d7\" xlink:show=\"new\" xlink:title=\"psysml:84082b66-a23a-4779-a592-98d74f10d8d7\" xlink:type=\"simple\"><path d=\"M363.3,466.16 C378.71,486.4 399.07,513.14 410.09,527.61 \" fill=\"none\" id=\"E6-&gt;E7\" style=\"stroke: #A80036; stroke-width: 1.0;\"/><polygon fill=\"#A80036\" points=\"413.2,531.69,410.9398,522.104,410.1749,527.7089,404.57,526.9441,413.2,531.69\" style=\"stroke: #A80036; stroke-width: 1.0;\"/></a><!--MD5=[6bdd27f9905911a7e892a3dc65cf6b7c]\n",
       "link E7 to E4--><a href=\"psysml:49753952-5c4c-4ef6-ad04-e80bfe7cb929\" target=\"_top\" title=\"psysml:49753952-5c4c-4ef6-ad04-e80bfe7cb929\" xlink:actuate=\"onRequest\" xlink:href=\"psysml:49753952-5c4c-4ef6-ad04-e80bfe7cb929\" xlink:show=\"new\" xlink:title=\"psysml:49753952-5c4c-4ef6-ad04-e80bfe7cb929\" xlink:type=\"simple\"><path d=\"M419.98,528.56 C426.8,494.71 448.32,376.18 437,279 C434.59,258.32 428.42,234.96 424.21,220.61 \" fill=\"none\" id=\"E7-&gt;E4\" style=\"stroke: #A80036; stroke-width: 1.0;\"/><polygon fill=\"#A80036\" points=\"422.76,215.75,421.4935,225.5171,424.1863,220.5423,429.1611,223.2351,422.76,215.75\" style=\"stroke: #A80036; stroke-width: 1.0;\"/><text fill=\"#000000\" font-family=\"sans-serif\" font-size=\"13\" lengthAdjust=\"spacingAndGlyphs\" textLength=\"36\" x=\"440\" y=\"377.0669\">[true]</text></a><!--MD5=[c416a6324887b2ae6fa4842103ed58df]\n",
       "@startuml\r\n",
       "skinparam wrapWidth 300\r\n",
       "hide circle\r\n",
       "\r\n",
       "package \"ActionTest\" as E1  [[psysml:4a739ce7-b110-4093-8b74-31ee982b1e00 ]]  {\r\n",
       "comp def \"S\" as E2  <<(T,blue) attribute def>> [[psysml:e3ea157b-753f-4ff0-b9f5-62b19f528d25 ]] {\r\n",
       "}\r\n",
       "rec usage \"a\" as E3  <<(T,blue) action>> [[psysml:fa9c3421-7722-4415-b8c7-0ea19e95762e ]] {\r\n",
       "choice \"m\" as E4  [[psysml:60604585-cd78-42b0-92ae-265c1a2862a9 ]] \r\n",
       "accept \" S\" as E5 << accept action>> [[psysml:1a7559c2-685c-4c08-a29a-09c3177cd704 ]] \r\n",
       "send \" S() to  B()\" as E6 << send action>> [[psysml:57acc649-2893-4bd5-b427-585e4a8282d2 ]] \r\n",
       "choice \"noname\" as E7  [[psysml:dcda7bbd-01a5-4374-8a97-a16c2625889c ]] \r\n",
       "[*] - -> E4 [[psysml:3a6c3978-61f5-46d3-ad26-c963b1b56f5b ]] \r\n",
       "E7  - -> [*] [[psysml:36daa16f-4b44-48c5-bcb7-7a401bcea152 ]] \r\n",
       "}\r\n",
       "\r\n",
       "rec def \"B\" as E8  <<(T,blue) action def>> [[psysml:86a7eb05-d2a7-4b0b-add7-eac0d2258e69 ]] {\r\n",
       "}\r\n",
       "\r\n",
       "E4 - -> E5 [[psysml:c56e5692-64fd-4b0b-a986-d866765d0210 ]] \r\n",
       "E5 - -> E6 [[psysml:363bb7e0-7ec1-401c-827a-8a23a32c7946 ]] \r\n",
       "E6 - -> E7 [[psysml:84082b66-a23a-4779-a592-98d74f10d8d7 ]] \r\n",
       "E7  - -> E4 [[psysml:49753952-5c4c-4ef6-ad04-e80bfe7cb929 ]] : [true]\r\n",
       "}\r\n",
       "@enduml\r\n",
       "\n",
       "PlantUML version 1.2020.13(Sat Jun 13 12:26:38 UTC 2020)\n",
       "(EPL source distribution)\n",
       "Java Runtime: OpenJDK Runtime Environment\n",
       "JVM: OpenJDK 64-Bit Server VM\n",
       "Default Encoding: UTF-8\n",
       "Language: en\n",
       "Country: null\n",
       "--></g></svg>"
      ]
     },
     "execution_count": 29,
     "metadata": {},
     "output_type": "execute_result"
    }
   ],
   "source": [
    "%viz --style=\"STDCOLOR\" --view=\"MIXED\" \"ActionTest\""
   ]
  },
  {
   "cell_type": "code",
   "execution_count": 30,
   "id": "2882848d",
   "metadata": {
    "execution": {
     "iopub.execute_input": "2021-06-30T09:17:43.241753Z",
     "iopub.status.busy": "2021-06-30T09:17:43.240245Z",
     "iopub.status.idle": "2021-06-30T09:17:43.335491Z",
     "shell.execute_reply": "2021-06-30T09:17:43.333924Z"
    }
   },
   "outputs": [
    {
     "data": {
      "image/svg+xml": [
       "<?xml version=\"1.0\" encoding=\"UTF-8\" standalone=\"no\"?><svg xmlns=\"http://www.w3.org/2000/svg\" xmlns:xlink=\"http://www.w3.org/1999/xlink\" contentScriptType=\"application/ecmascript\" contentStyleType=\"text/css\" height=\"684px\" preserveAspectRatio=\"none\" style=\"width:570px;height:684px;\" version=\"1.1\" viewBox=\"0 0 570 684\" width=\"570px\" zoomAndPan=\"magnify\"><defs><filter height=\"300%\" id=\"f13l8pqvqgl1mh\" width=\"300%\" x=\"-1\" y=\"-1\"><feGaussianBlur result=\"blurOut\" stdDeviation=\"2.0\"/><feColorMatrix in=\"blurOut\" result=\"blurOut2\" type=\"matrix\" values=\"0 0 0 0 0 0 0 0 0 0 0 0 0 0 0 0 0 0 .4 0\"/><feOffset dx=\"4.0\" dy=\"4.0\" in=\"blurOut2\" result=\"blurOut3\"/><feBlend in=\"SourceGraphic\" in2=\"blurOut3\" mode=\"normal\"/></filter></defs><g><!--MD5=[fbc87193dbaf4d95561dea2c320d4a47]\n",
       "cluster E1--><a href=\"psysml:4a739ce7-b110-4093-8b74-31ee982b1e00\" target=\"_top\" title=\"psysml:4a739ce7-b110-4093-8b74-31ee982b1e00\" xlink:actuate=\"onRequest\" xlink:href=\"psysml:4a739ce7-b110-4093-8b74-31ee982b1e00\" xlink:show=\"new\" xlink:title=\"psysml:4a739ce7-b110-4093-8b74-31ee982b1e00\" xlink:type=\"simple\"><polygon fill=\"#FFFFFF\" filter=\"url(#f13l8pqvqgl1mh)\" points=\"16,6,107,6,114,28.2969,548,28.2969,548,672,16,672,16,6\" style=\"stroke: #000000; stroke-width: 1.5;\"/><line style=\"stroke: #000000; stroke-width: 1.5;\" x1=\"16\" x2=\"114\" y1=\"28.2969\" y2=\"28.2969\"/><text fill=\"#000000\" font-family=\"sans-serif\" font-size=\"14\" font-weight=\"bold\" lengthAdjust=\"spacingAndGlyphs\" textLength=\"85\" x=\"20\" y=\"20.9951\">ActionTest</text></a><!--MD5=[d5e69f78d87373223dbae638b30a9c99]\n",
       "cluster E3--><a href=\"psysml:fa9c3421-7722-4415-b8c7-0ea19e95762e\" target=\"_top\" title=\"psysml:fa9c3421-7722-4415-b8c7-0ea19e95762e\" xlink:actuate=\"onRequest\" xlink:href=\"psysml:fa9c3421-7722-4415-b8c7-0ea19e95762e\" xlink:show=\"new\" xlink:title=\"psysml:fa9c3421-7722-4415-b8c7-0ea19e95762e\" xlink:type=\"simple\"><rect fill=\"#FFFFFF\" filter=\"url(#f13l8pqvqgl1mh)\" height=\"599\" id=\"E3\" rx=\"10\" ry=\"10\" style=\"stroke: #A80036; stroke-width: 1.5;\" width=\"209\" x=\"315\" y=\"49\"/><rect fill=\"#FEFECE\" height=\"37.9375\" rx=\"10\" ry=\"10\" style=\"stroke: #FEFECE; stroke-width: 1.5;\" width=\"209\" x=\"315\" y=\"49\"/><rect fill=\"#FEFECE\" height=\"10\" style=\"stroke: #FEFECE; stroke-width: 1.5;\" width=\"209\" x=\"315\" y=\"76.9375\"/><rect fill=\"none\" height=\"599\" id=\"E3\" rx=\"10\" ry=\"10\" style=\"stroke: #A80036; stroke-width: 1.5;\" width=\"209\" x=\"315\" y=\"49\"/><text fill=\"#000000\" font-family=\"sans-serif\" font-size=\"12\" font-style=\"italic\" lengthAdjust=\"spacingAndGlyphs\" textLength=\"53\" x=\"393\" y=\"65.1387\">«action»</text><text fill=\"#000000\" font-family=\"sans-serif\" font-size=\"12\" lengthAdjust=\"spacingAndGlyphs\" textLength=\"8\" x=\"415.5\" y=\"79.1074\">a</text><line style=\"stroke: #A80036; stroke-width: 1.0;\" x1=\"315\" x2=\"524\" y1=\"86.9375\" y2=\"86.9375\"/></a><!--MD5=[b4997ac47864f28c2f74865a473b2911]\n",
       "class E2--><a href=\"psysml:e3ea157b-753f-4ff0-b9f5-62b19f528d25\" target=\"_top\" title=\"psysml:e3ea157b-753f-4ff0-b9f5-62b19f528d25\" xlink:actuate=\"onRequest\" xlink:href=\"psysml:e3ea157b-753f-4ff0-b9f5-62b19f528d25\" xlink:show=\"new\" xlink:title=\"psysml:e3ea157b-753f-4ff0-b9f5-62b19f528d25\" xlink:type=\"simple\"><rect fill=\"#FEFECE\" filter=\"url(#f13l8pqvqgl1mh)\" height=\"45.9375\" id=\"E2\" style=\"stroke: #A80036; stroke-width: 1.5;\" width=\"121\" x=\"177.5\" y=\"87\"/><ellipse cx=\"192.5\" cy=\"105.9688\" fill=\"#A52A2A\" rx=\"11\" ry=\"11\" style=\"stroke: #A80036; stroke-width: 1.0;\"/><path d=\"M192.0938,101.7813 L192.0938,109.7656 L192.75,109.7656 Q194.1875,109.7656 194.7969,108.8594 Q195.4219,107.9375 195.4219,105.7656 Q195.4219,103.5938 194.7969,102.6875 Q194.1875,101.7813 192.75,101.7813 L192.0938,101.7813 Z M189.6406,99.5781 L192.2656,99.5781 Q195.2969,99.5781 196.625,101.0313 Q197.9688,102.4688 197.9688,105.7656 Q197.9688,109.0625 196.625,110.5156 Q195.2969,111.9688 192.2656,111.9688 L189.6406,111.9688 L189.6406,99.5781 Z \"/><text fill=\"#000000\" font-family=\"sans-serif\" font-size=\"12\" font-style=\"italic\" lengthAdjust=\"spacingAndGlyphs\" textLength=\"93\" x=\"204.5\" y=\"103.1387\">«attribute def»</text><text fill=\"#000000\" font-family=\"sans-serif\" font-size=\"12\" lengthAdjust=\"spacingAndGlyphs\" textLength=\"8\" x=\"247\" y=\"117.1074\">S</text><line style=\"stroke: #A80036; stroke-width: 1.5;\" x1=\"178.5\" x2=\"297.5\" y1=\"124.9375\" y2=\"124.9375\"/></a><polygon fill=\"#FEFECE\" filter=\"url(#f13l8pqvqgl1mh)\" points=\"472,194,484,206,472,218,460,206,472,194\" style=\"stroke: #A80036; stroke-width: 1.5;\"/><!--MD5=[21dd76c19d33815960c0e92fef8f0eef]\n",
       "entity E5--><a href=\"psysml:1a7559c2-685c-4c08-a29a-09c3177cd704\" target=\"_top\" title=\"psysml:1a7559c2-685c-4c08-a29a-09c3177cd704\" xlink:actuate=\"onRequest\" xlink:href=\"psysml:1a7559c2-685c-4c08-a29a-09c3177cd704\" xlink:show=\"new\" xlink:title=\"psysml:1a7559c2-685c-4c08-a29a-09c3177cd704\" xlink:type=\"simple\"><polygon fill=\"#FEFECE\" filter=\"url(#f13l8pqvqgl1mh)\" points=\"331,279,331,333.5938,471,333.5938,451,306.2969,471,279\" style=\"stroke: #000000; stroke-width: 1.5;\"/><text fill=\"#000000\" font-family=\"sans-serif\" font-size=\"14\" font-style=\"italic\" lengthAdjust=\"spacingAndGlyphs\" textLength=\"111\" x=\"338\" y=\"301.9951\">«accept action»</text><text fill=\"#000000\" font-family=\"sans-serif\" font-size=\"14\" lengthAdjust=\"spacingAndGlyphs\" textLength=\"9\" x=\"389\" y=\"319.292\">S</text></a><!--MD5=[24d87cdf3002d433f401b2a2aa9f9f65]\n",
       "entity E6--><a href=\"psysml:57acc649-2893-4bd5-b427-585e4a8282d2\" target=\"_top\" title=\"psysml:57acc649-2893-4bd5-b427-585e4a8282d2\" xlink:actuate=\"onRequest\" xlink:href=\"psysml:57acc649-2893-4bd5-b427-585e4a8282d2\" xlink:show=\"new\" xlink:title=\"psysml:57acc649-2893-4bd5-b427-585e4a8282d2\" xlink:type=\"simple\"><polygon fill=\"#FEFECE\" filter=\"url(#f13l8pqvqgl1mh)\" points=\"331,411,331,465.5938,439,465.5938,459,438.2969,439,411\" style=\"stroke: #000000; stroke-width: 1.5;\"/><text fill=\"#000000\" font-family=\"sans-serif\" font-size=\"14\" font-style=\"italic\" lengthAdjust=\"spacingAndGlyphs\" textLength=\"99\" x=\"338\" y=\"433.9951\">«send action»</text><text fill=\"#000000\" font-family=\"sans-serif\" font-size=\"14\" lengthAdjust=\"spacingAndGlyphs\" textLength=\"65\" x=\"355\" y=\"451.292\">S() to  B()</text></a><polygon fill=\"#FEFECE\" filter=\"url(#f13l8pqvqgl1mh)\" points=\"470,527,482,539,470,551,458,539,470,527\" style=\"stroke: #A80036; stroke-width: 1.5;\"/><ellipse cx=\"472\" cy=\"110\" fill=\"#000000\" filter=\"url(#f13l8pqvqgl1mh)\" rx=\"10\" ry=\"10\" style=\"stroke: none; stroke-width: 1.0;\"/><ellipse cx=\"470\" cy=\"622\" fill=\"none\" filter=\"url(#f13l8pqvqgl1mh)\" rx=\"10\" ry=\"10\" style=\"stroke: #000000; stroke-width: 1.0;\"/><ellipse cx=\"470.5\" cy=\"622.5\" fill=\"#000000\" rx=\"6\" ry=\"6\" style=\"stroke: none; stroke-width: 1.0;\"/><g id=\"E1.E8\"><a href=\"psysml:86a7eb05-d2a7-4b0b-add7-eac0d2258e69\" target=\"_top\" title=\"psysml:86a7eb05-d2a7-4b0b-add7-eac0d2258e69\" xlink:actuate=\"onRequest\" xlink:href=\"psysml:86a7eb05-d2a7-4b0b-add7-eac0d2258e69\" xlink:show=\"new\" xlink:title=\"psysml:86a7eb05-d2a7-4b0b-add7-eac0d2258e69\" xlink:type=\"simple\"><rect fill=\"#FEFECE\" filter=\"url(#f13l8pqvqgl1mh)\" height=\"42.9375\" id=\"E8\" style=\"stroke: #A80036; stroke-width: 1.5;\" width=\"110\" x=\"32\" y=\"88.5\"/><ellipse cx=\"49.25\" cy=\"107.4688\" fill=\"#FFFACD\" rx=\"11\" ry=\"11\" style=\"stroke: #A80036; stroke-width: 1.0;\"/><path d=\"M48.1563,107.8438 L48.1563,111.5156 L49.7813,111.5156 Q50.9531,111.5156 51.4219,111.125 Q51.8906,110.7188 51.8906,109.7188 Q51.8906,108.7188 51.3906,108.2813 Q50.9063,107.8438 49.7813,107.8438 L48.1563,107.8438 Z M48.1563,103.0156 L48.1563,105.8906 L49.7813,105.8906 Q50.7031,105.8906 51.0938,105.5625 Q51.5,105.2188 51.5,104.4688 Q51.5,103.7031 51.0938,103.3594 Q50.6875,103.0156 49.7813,103.0156 L48.1563,103.0156 Z M45.7813,101.0625 L49.7813,101.0625 Q51.8438,101.0625 52.8906,101.8438 Q53.9375,102.625 53.9375,104.1875 Q53.9375,105.3906 53.3125,106.0625 Q52.7031,106.7344 51.5156,106.8438 Q52.9375,106.9844 53.6563,107.7969 Q54.375,108.6094 54.375,110.0625 Q54.375,111.8594 53.2969,112.6719 Q52.2188,113.4688 49.7813,113.4688 L45.7813,113.4688 L45.7813,101.0625 Z \"/><text fill=\"#000000\" font-family=\"sans-serif\" font-size=\"12\" font-style=\"italic\" lengthAdjust=\"spacingAndGlyphs\" textLength=\"77\" x=\"61.75\" y=\"104.6387\">«action def»</text><text fill=\"#000000\" font-family=\"sans-serif\" font-size=\"12\" lengthAdjust=\"spacingAndGlyphs\" textLength=\"8\" x=\"96.25\" y=\"118.6074\">B</text></a></g><!--MD5=[f47e10efcf9a6752d55dae986d790ed9]\n",
       "link *start*E3 to E4--><a href=\"psysml:3a6c3978-61f5-46d3-ad26-c963b1b56f5b\" target=\"_top\" title=\"psysml:3a6c3978-61f5-46d3-ad26-c963b1b56f5b\" xlink:actuate=\"onRequest\" xlink:href=\"psysml:3a6c3978-61f5-46d3-ad26-c963b1b56f5b\" xlink:show=\"new\" xlink:title=\"psysml:3a6c3978-61f5-46d3-ad26-c963b1b56f5b\" xlink:type=\"simple\"><path d=\"M472,120.01 C472,135.81 472,168.69 472,188.61 \" fill=\"none\" id=\"*start*E3-&gt;E4\" style=\"stroke: #A80036; stroke-width: 1.0;\"/><polygon fill=\"#A80036\" points=\"472,193.85,476,184.85,472,188.85,468,184.85,472,193.85\" style=\"stroke: #A80036; stroke-width: 1.0;\"/></a><!--MD5=[d19f2eb34364d71b67042106d92f540b]\n",
       "link E7 to *end*E3--><a href=\"psysml:36daa16f-4b44-48c5-bcb7-7a401bcea152\" target=\"_top\" title=\"psysml:36daa16f-4b44-48c5-bcb7-7a401bcea152\" xlink:actuate=\"onRequest\" xlink:href=\"psysml:36daa16f-4b44-48c5-bcb7-7a401bcea152\" xlink:show=\"new\" xlink:title=\"psysml:36daa16f-4b44-48c5-bcb7-7a401bcea152\" xlink:type=\"simple\"><path d=\"M470,551.26 C470,565.66 470,590.63 470,606.46 \" fill=\"none\" id=\"E7-&gt;*end*E3\" style=\"stroke: #A80036; stroke-width: 1.0;\"/><polygon fill=\"#A80036\" points=\"470,611.84,474,602.84,470,606.84,466,602.84,470,611.84\" style=\"stroke: #A80036; stroke-width: 1.0;\"/></a><!--MD5=[1b7591eae5389033d8d09a9d6721a717]\n",
       "link E4 to E5--><a href=\"psysml:c56e5692-64fd-4b0b-a986-d866765d0210\" target=\"_top\" title=\"psysml:c56e5692-64fd-4b0b-a986-d866765d0210\" xlink:actuate=\"onRequest\" xlink:href=\"psysml:c56e5692-64fd-4b0b-a986-d866765d0210\" xlink:show=\"new\" xlink:title=\"psysml:c56e5692-64fd-4b0b-a986-d866765d0210\" xlink:type=\"simple\"><path d=\"M467.34,213.46 C458.55,225.66 438.99,252.8 423.37,274.46 \" fill=\"none\" id=\"E4-&gt;E5\" style=\"stroke: #A80036; stroke-width: 1.0;\"/><polygon fill=\"#A80036\" points=\"420.31,278.71,428.8093,273.7339,423.227,274.6491,422.3119,269.0667,420.31,278.71\" style=\"stroke: #A80036; stroke-width: 1.0;\"/></a><!--MD5=[9120cf2e5df3bff93db8f754bbbc09b4]\n",
       "link E5 to E6--><a href=\"psysml:363bb7e0-7ec1-401c-827a-8a23a32c7946\" target=\"_top\" title=\"psysml:363bb7e0-7ec1-401c-827a-8a23a32c7946\" xlink:actuate=\"onRequest\" xlink:href=\"psysml:363bb7e0-7ec1-401c-827a-8a23a32c7946\" xlink:show=\"new\" xlink:title=\"psysml:363bb7e0-7ec1-401c-827a-8a23a32c7946\" xlink:type=\"simple\"><path d=\"M399.77,334.12 C398.81,354.89 397.48,383.8 396.46,405.77 \" fill=\"none\" id=\"E5-&gt;E6\" style=\"stroke: #A80036; stroke-width: 1.0;\"/><polygon fill=\"#A80036\" points=\"396.23,410.91,400.6368,402.1021,396.4583,405.9152,392.6452,401.7367,396.23,410.91\" style=\"stroke: #A80036; stroke-width: 1.0;\"/></a><!--MD5=[02c70b7c851c11e3980e4e90450dc5dd]\n",
       "link E6 to E7--><a href=\"psysml:84082b66-a23a-4779-a592-98d74f10d8d7\" target=\"_top\" title=\"psysml:84082b66-a23a-4779-a592-98d74f10d8d7\" xlink:actuate=\"onRequest\" xlink:href=\"psysml:84082b66-a23a-4779-a592-98d74f10d8d7\" xlink:show=\"new\" xlink:title=\"psysml:84082b66-a23a-4779-a592-98d74f10d8d7\" xlink:type=\"simple\"><path d=\"M415.3,466.16 C430.71,486.4 451.07,513.14 462.09,527.61 \" fill=\"none\" id=\"E6-&gt;E7\" style=\"stroke: #A80036; stroke-width: 1.0;\"/><polygon fill=\"#A80036\" points=\"465.2,531.69,462.9398,522.104,462.1749,527.7089,456.57,526.9441,465.2,531.69\" style=\"stroke: #A80036; stroke-width: 1.0;\"/></a><!--MD5=[6bdd27f9905911a7e892a3dc65cf6b7c]\n",
       "link E7 to E4--><a href=\"psysml:49753952-5c4c-4ef6-ad04-e80bfe7cb929\" target=\"_top\" title=\"psysml:49753952-5c4c-4ef6-ad04-e80bfe7cb929\" xlink:actuate=\"onRequest\" xlink:href=\"psysml:49753952-5c4c-4ef6-ad04-e80bfe7cb929\" xlink:show=\"new\" xlink:title=\"psysml:49753952-5c4c-4ef6-ad04-e80bfe7cb929\" xlink:type=\"simple\"><path d=\"M471.98,528.56 C478.8,494.71 500.32,376.18 489,279 C486.59,258.32 480.42,234.96 476.21,220.61 \" fill=\"none\" id=\"E7-&gt;E4\" style=\"stroke: #A80036; stroke-width: 1.0;\"/><polygon fill=\"#A80036\" points=\"474.76,215.75,473.4935,225.5171,476.1863,220.5423,481.1611,223.2351,474.76,215.75\" style=\"stroke: #A80036; stroke-width: 1.0;\"/><text fill=\"#000000\" font-family=\"sans-serif\" font-size=\"13\" lengthAdjust=\"spacingAndGlyphs\" textLength=\"36\" x=\"492\" y=\"377.0669\">[true]</text></a><!--MD5=[c41a27ae8723b0498f44f715281417ad]\n",
       "@startuml\r\n",
       " \r\n",
       "package \"ActionTest\" as E1  [[psysml:4a739ce7-b110-4093-8b74-31ee982b1e00 ]]  {\r\n",
       "comp def \"S\" as E2 << <<(D,brown) attribute def>> [[psysml:e3ea157b-753f-4ff0-b9f5-62b19f528d25 ]] {\r\n",
       "}\r\n",
       "rec usage \"a\" as E3 << <<(U,orange) action>> [[psysml:fa9c3421-7722-4415-b8c7-0ea19e95762e ]] {\r\n",
       "choice \"m\" as E4  [[psysml:60604585-cd78-42b0-92ae-265c1a2862a9 ]] \r\n",
       "accept \" S\" as E5 << accept action>> [[psysml:1a7559c2-685c-4c08-a29a-09c3177cd704 ]] \r\n",
       "send \" S() to  B()\" as E6 << send action>> [[psysml:57acc649-2893-4bd5-b427-585e4a8282d2 ]] \r\n",
       "choice \"noname\" as E7  [[psysml:dcda7bbd-01a5-4374-8a97-a16c2625889c ]] \r\n",
       "[*] - -> E4 [[psysml:3a6c3978-61f5-46d3-ad26-c963b1b56f5b ]] \r\n",
       "E7  - -> [*] [[psysml:36daa16f-4b44-48c5-bcb7-7a401bcea152 ]] \r\n",
       "}\r\n",
       "\r\n",
       "rec def \"B\" as E8 << <<(B,lemonchiffon) action def>> [[psysml:86a7eb05-d2a7-4b0b-add7-eac0d2258e69 ]] {\r\n",
       "}\r\n",
       "\r\n",
       "E4 - -> E5 [[psysml:c56e5692-64fd-4b0b-a986-d866765d0210 ]] \r\n",
       "E5 - -> E6 [[psysml:363bb7e0-7ec1-401c-827a-8a23a32c7946 ]] \r\n",
       "E6 - -> E7 [[psysml:84082b66-a23a-4779-a592-98d74f10d8d7 ]] \r\n",
       "E7  - -> E4 [[psysml:49753952-5c4c-4ef6-ad04-e80bfe7cb929 ]] : [true]\r\n",
       "}\r\n",
       "@enduml\r\n",
       "\n",
       "PlantUML version 1.2020.13(Sat Jun 13 12:26:38 UTC 2020)\n",
       "(EPL source distribution)\n",
       "Java Runtime: OpenJDK Runtime Environment\n",
       "JVM: OpenJDK 64-Bit Server VM\n",
       "Default Encoding: UTF-8\n",
       "Language: en\n",
       "Country: null\n",
       "--></g></svg>"
      ]
     },
     "execution_count": 30,
     "metadata": {},
     "output_type": "execute_result"
    }
   ],
   "source": [
    "%viz --style=\"PLANTUML\" --view=\"Default\" \"ActionTest\""
   ]
  },
  {
   "cell_type": "code",
   "execution_count": 31,
   "id": "f3f9ba97",
   "metadata": {
    "execution": {
     "iopub.execute_input": "2021-06-30T09:17:43.386046Z",
     "iopub.status.busy": "2021-06-30T09:17:43.385205Z",
     "iopub.status.idle": "2021-06-30T09:17:43.444865Z",
     "shell.execute_reply": "2021-06-30T09:17:43.444500Z"
    }
   },
   "outputs": [
    {
     "data": {
      "image/svg+xml": [
       "<?xml version=\"1.0\" encoding=\"UTF-8\" standalone=\"no\"?><svg xmlns=\"http://www.w3.org/2000/svg\" xmlns:xlink=\"http://www.w3.org/1999/xlink\" contentScriptType=\"application/ecmascript\" contentStyleType=\"text/css\" height=\"327px\" preserveAspectRatio=\"none\" style=\"width:807px;height:327px;\" version=\"1.1\" viewBox=\"0 0 807 327\" width=\"807px\" zoomAndPan=\"magnify\"><defs><filter height=\"300%\" id=\"fd3dj5tdzkm6e\" width=\"300%\" x=\"-1\" y=\"-1\"><feGaussianBlur result=\"blurOut\" stdDeviation=\"2.0\"/><feColorMatrix in=\"blurOut\" result=\"blurOut2\" type=\"matrix\" values=\"0 0 0 0 0 0 0 0 0 0 0 0 0 0 0 0 0 0 .4 0\"/><feOffset dx=\"4.0\" dy=\"4.0\" in=\"blurOut2\" result=\"blurOut3\"/><feBlend in=\"SourceGraphic\" in2=\"blurOut3\" mode=\"normal\"/></filter></defs><g><!--MD5=[fbc87193dbaf4d95561dea2c320d4a47]\n",
       "cluster E1--><a href=\"psysml:4a739ce7-b110-4093-8b74-31ee982b1e00\" target=\"_top\" title=\"psysml:4a739ce7-b110-4093-8b74-31ee982b1e00\" xlink:actuate=\"onRequest\" xlink:href=\"psysml:4a739ce7-b110-4093-8b74-31ee982b1e00\" xlink:show=\"new\" xlink:title=\"psysml:4a739ce7-b110-4093-8b74-31ee982b1e00\" xlink:type=\"simple\"><polygon fill=\"#FFFFFF\" filter=\"url(#fd3dj5tdzkm6e)\" points=\"16,6,107,6,114,28.2969,785,28.2969,785,315,16,315,16,6\" style=\"stroke: #000000; stroke-width: 1.5;\"/><line style=\"stroke: #000000; stroke-width: 1.5;\" x1=\"16\" x2=\"114\" y1=\"28.2969\" y2=\"28.2969\"/><text fill=\"#000000\" font-family=\"sans-serif\" font-size=\"14\" font-weight=\"bold\" lengthAdjust=\"spacingAndGlyphs\" textLength=\"85\" x=\"20\" y=\"20.9951\">ActionTest</text></a><!--MD5=[b4997ac47864f28c2f74865a473b2911]\n",
       "class E2--><a href=\"psysml:e3ea157b-753f-4ff0-b9f5-62b19f528d25\" target=\"_top\" title=\"psysml:e3ea157b-753f-4ff0-b9f5-62b19f528d25\" xlink:actuate=\"onRequest\" xlink:href=\"psysml:e3ea157b-753f-4ff0-b9f5-62b19f528d25\" xlink:show=\"new\" xlink:title=\"psysml:e3ea157b-753f-4ff0-b9f5-62b19f528d25\" xlink:type=\"simple\"><rect fill=\"#FEFECE\" filter=\"url(#fd3dj5tdzkm6e)\" height=\"45.9375\" id=\"E2\" style=\"stroke: #A80036; stroke-width: 1.5;\" width=\"121\" x=\"330.5\" y=\"253\"/><ellipse cx=\"345.5\" cy=\"271.9688\" fill=\"#A52A2A\" rx=\"11\" ry=\"11\" style=\"stroke: #A80036; stroke-width: 1.0;\"/><path d=\"M345.0938,267.7813 L345.0938,275.7656 L345.75,275.7656 Q347.1875,275.7656 347.7969,274.8594 Q348.4219,273.9375 348.4219,271.7656 Q348.4219,269.5938 347.7969,268.6875 Q347.1875,267.7813 345.75,267.7813 L345.0938,267.7813 Z M342.6406,265.5781 L345.2656,265.5781 Q348.2969,265.5781 349.625,267.0313 Q350.9688,268.4688 350.9688,271.7656 Q350.9688,275.0625 349.625,276.5156 Q348.2969,277.9688 345.2656,277.9688 L342.6406,277.9688 L342.6406,265.5781 Z \"/><text fill=\"#000000\" font-family=\"sans-serif\" font-size=\"12\" font-style=\"italic\" lengthAdjust=\"spacingAndGlyphs\" textLength=\"93\" x=\"357.5\" y=\"269.1387\">«attribute def»</text><text fill=\"#000000\" font-family=\"sans-serif\" font-size=\"12\" lengthAdjust=\"spacingAndGlyphs\" textLength=\"8\" x=\"400\" y=\"283.1074\">S</text><line style=\"stroke: #A80036; stroke-width: 1.5;\" x1=\"331.5\" x2=\"450.5\" y1=\"290.9375\" y2=\"290.9375\"/></a><!--MD5=[09b614a08d8cba4a07c9adeb5e0fee81]\n",
       "class E3--><a href=\"psysml:fa9c3421-7722-4415-b8c7-0ea19e95762e\" target=\"_top\" title=\"psysml:fa9c3421-7722-4415-b8c7-0ea19e95762e\" xlink:actuate=\"onRequest\" xlink:href=\"psysml:fa9c3421-7722-4415-b8c7-0ea19e95762e\" xlink:show=\"new\" xlink:title=\"psysml:fa9c3421-7722-4415-b8c7-0ea19e95762e\" xlink:type=\"simple\"><rect fill=\"#FEFECE\" filter=\"url(#fd3dj5tdzkm6e)\" height=\"45.9375\" id=\"E3\" rx=\"10\" ry=\"10\" style=\"stroke: #A80036; stroke-width: 1.5;\" width=\"81\" x=\"350.5\" y=\"41\"/><ellipse cx=\"365.5\" cy=\"59.9688\" fill=\"#FFA500\" rx=\"11\" ry=\"11\" style=\"stroke: #A80036; stroke-width: 1.0;\"/><path d=\"M361.375,61.8906 L361.375,54.0781 L363.8281,54.0781 L363.8281,62.5156 Q363.8281,63.4375 364.2969,63.9688 Q364.7813,64.5 365.6094,64.5 Q366.4531,64.5 366.9219,63.9688 Q367.3906,63.4375 367.3906,62.5156 L367.3906,54.0781 L369.8438,54.0781 L369.8438,61.8906 Q369.8438,64.4219 368.8438,65.5625 Q367.8438,66.7031 365.6094,66.7031 Q363.3906,66.7031 362.375,65.5625 Q361.375,64.4219 361.375,61.8906 Z \"/><text fill=\"#000000\" font-family=\"sans-serif\" font-size=\"12\" font-style=\"italic\" lengthAdjust=\"spacingAndGlyphs\" textLength=\"53\" x=\"377.5\" y=\"57.1387\">«action»</text><text fill=\"#000000\" font-family=\"sans-serif\" font-size=\"12\" lengthAdjust=\"spacingAndGlyphs\" textLength=\"8\" x=\"400\" y=\"71.1074\">a</text><line style=\"stroke: #A80036; stroke-width: 1.5;\" x1=\"351.5\" x2=\"430.5\" y1=\"78.9375\" y2=\"78.9375\"/></a><!--MD5=[ebbe1d658d1005bcc118a6aa81145e00]\n",
       "class E4--><a href=\"psysml:a6d1daf9-13da-45ca-a864-cb134e7177b5\" target=\"_top\" title=\"psysml:a6d1daf9-13da-45ca-a864-cb134e7177b5\" xlink:actuate=\"onRequest\" xlink:href=\"psysml:a6d1daf9-13da-45ca-a864-cb134e7177b5\" xlink:show=\"new\" xlink:title=\"psysml:a6d1daf9-13da-45ca-a864-cb134e7177b5\" xlink:type=\"simple\"><rect fill=\"#FEFECE\" filter=\"url(#fd3dj5tdzkm6e)\" height=\"45.9375\" id=\"E4\" rx=\"10\" ry=\"10\" style=\"stroke: #A80036; stroke-width: 1.5;\" width=\"109\" x=\"32.5\" y=\"147\"/><ellipse cx=\"47.5\" cy=\"165.9688\" fill=\"#FFA500\" rx=\"11\" ry=\"11\" style=\"stroke: #A80036; stroke-width: 1.0;\"/><path d=\"M43.375,167.8906 L43.375,160.0781 L45.8281,160.0781 L45.8281,168.5156 Q45.8281,169.4375 46.2969,169.9688 Q46.7813,170.5 47.6094,170.5 Q48.4531,170.5 48.9219,169.9688 Q49.3906,169.4375 49.3906,168.5156 L49.3906,160.0781 L51.8438,160.0781 L51.8438,167.8906 Q51.8438,170.4219 50.8438,171.5625 Q49.8438,172.7031 47.6094,172.7031 Q45.3906,172.7031 44.375,171.5625 Q43.375,170.4219 43.375,167.8906 Z \"/><text fill=\"#000000\" font-family=\"sans-serif\" font-size=\"12\" font-style=\"italic\" lengthAdjust=\"spacingAndGlyphs\" textLength=\"53\" x=\"73.5\" y=\"163.1387\">«action»</text><text fill=\"#000000\" font-family=\"sans-serif\" font-size=\"12\" lengthAdjust=\"spacingAndGlyphs\" textLength=\"77\" x=\"61.5\" y=\"177.1074\">start: Action</text><line style=\"stroke: #A80036; stroke-width: 1.5;\" x1=\"33.5\" x2=\"140.5\" y1=\"184.9375\" y2=\"184.9375\"/></a><!--MD5=[270fce915f116d4de14055a7c1d9a0f3]\n",
       "class E5--><a href=\"psysml:60604585-cd78-42b0-92ae-265c1a2862a9\" target=\"_top\" title=\"psysml:60604585-cd78-42b0-92ae-265c1a2862a9\" xlink:actuate=\"onRequest\" xlink:href=\"psysml:60604585-cd78-42b0-92ae-265c1a2862a9\" xlink:show=\"new\" xlink:title=\"psysml:60604585-cd78-42b0-92ae-265c1a2862a9\" xlink:type=\"simple\"><rect fill=\"#FEFECE\" filter=\"url(#fd3dj5tdzkm6e)\" height=\"45.9375\" id=\"E5\" rx=\"10\" ry=\"10\" style=\"stroke: #A80036; stroke-width: 1.5;\" width=\"115\" x=\"176.5\" y=\"147\"/><ellipse cx=\"191.5\" cy=\"165.9688\" fill=\"#FFA500\" rx=\"11\" ry=\"11\" style=\"stroke: #A80036; stroke-width: 1.0;\"/><path d=\"M187.375,167.8906 L187.375,160.0781 L189.8281,160.0781 L189.8281,168.5156 Q189.8281,169.4375 190.2969,169.9688 Q190.7813,170.5 191.6094,170.5 Q192.4531,170.5 192.9219,169.9688 Q193.3906,169.4375 193.3906,168.5156 L193.3906,160.0781 L195.8438,160.0781 L195.8438,167.8906 Q195.8438,170.4219 194.8438,171.5625 Q193.8438,172.7031 191.6094,172.7031 Q189.3906,172.7031 188.375,171.5625 Q187.375,170.4219 187.375,167.8906 Z \"/><text fill=\"#000000\" font-family=\"sans-serif\" font-size=\"12\" font-style=\"italic\" lengthAdjust=\"spacingAndGlyphs\" textLength=\"87\" x=\"203.5\" y=\"163.1387\">«mergeNode»</text><text fill=\"#000000\" font-family=\"sans-serif\" font-size=\"12\" lengthAdjust=\"spacingAndGlyphs\" textLength=\"11\" x=\"241.5\" y=\"177.1074\">m</text><line style=\"stroke: #A80036; stroke-width: 1.5;\" x1=\"177.5\" x2=\"290.5\" y1=\"184.9375\" y2=\"184.9375\"/></a><!--MD5=[60a26617385b1d2d0262a64233df1f8d]\n",
       "class E6--><a href=\"psysml:1a7559c2-685c-4c08-a29a-09c3177cd704\" target=\"_top\" title=\"psysml:1a7559c2-685c-4c08-a29a-09c3177cd704\" xlink:actuate=\"onRequest\" xlink:href=\"psysml:1a7559c2-685c-4c08-a29a-09c3177cd704\" xlink:show=\"new\" xlink:title=\"psysml:1a7559c2-685c-4c08-a29a-09c3177cd704\" xlink:type=\"simple\"><rect fill=\"#FEFECE\" filter=\"url(#fd3dj5tdzkm6e)\" height=\"45.9375\" id=\"E6\" rx=\"10\" ry=\"10\" style=\"stroke: #A80036; stroke-width: 1.5;\" width=\"128\" x=\"327\" y=\"147\"/><ellipse cx=\"342\" cy=\"165.9688\" fill=\"#B6DBBB\" rx=\"11\" ry=\"11\" style=\"stroke: #A80036; stroke-width: 1.0;\"/><path d=\"M337.875,167.8906 L337.875,160.0781 L340.3281,160.0781 L340.3281,168.5156 Q340.3281,169.4375 340.7969,169.9688 Q341.2813,170.5 342.1094,170.5 Q342.9531,170.5 343.4219,169.9688 Q343.8906,169.4375 343.8906,168.5156 L343.8906,160.0781 L346.3438,160.0781 L346.3438,167.8906 Q346.3438,170.4219 345.3438,171.5625 Q344.3438,172.7031 342.1094,172.7031 Q339.8906,172.7031 338.875,171.5625 Q337.875,170.4219 337.875,167.8906 Z \"/><text fill=\"#000000\" font-family=\"sans-serif\" font-size=\"12\" font-style=\"italic\" lengthAdjust=\"spacingAndGlyphs\" textLength=\"100\" x=\"354\" y=\"163.1387\">«accept action»</text><text fill=\"#000000\" font-family=\"sans-serif\" font-size=\"12\" lengthAdjust=\"spacingAndGlyphs\" text-decoration=\"line-through\" textLength=\"51\" x=\"378.5\" y=\"177.1074\">noname</text><line style=\"stroke: #A80036; stroke-width: 1.5;\" x1=\"328\" x2=\"454\" y1=\"184.9375\" y2=\"184.9375\"/></a><!--MD5=[2156ba9850f5573cc1fc38a6a4b2f02b]\n",
       "class E7--><a href=\"psysml:57acc649-2893-4bd5-b427-585e4a8282d2\" target=\"_top\" title=\"psysml:57acc649-2893-4bd5-b427-585e4a8282d2\" xlink:actuate=\"onRequest\" xlink:href=\"psysml:57acc649-2893-4bd5-b427-585e4a8282d2\" xlink:show=\"new\" xlink:title=\"psysml:57acc649-2893-4bd5-b427-585e4a8282d2\" xlink:type=\"simple\"><rect fill=\"#FEFECE\" filter=\"url(#fd3dj5tdzkm6e)\" height=\"45.9375\" id=\"E7\" rx=\"10\" ry=\"10\" style=\"stroke: #A80036; stroke-width: 1.5;\" width=\"116\" x=\"490\" y=\"147\"/><ellipse cx=\"505\" cy=\"165.9688\" fill=\"#B6DBBB\" rx=\"11\" ry=\"11\" style=\"stroke: #A80036; stroke-width: 1.0;\"/><path d=\"M500.875,167.8906 L500.875,160.0781 L503.3281,160.0781 L503.3281,168.5156 Q503.3281,169.4375 503.7969,169.9688 Q504.2813,170.5 505.1094,170.5 Q505.9531,170.5 506.4219,169.9688 Q506.8906,169.4375 506.8906,168.5156 L506.8906,160.0781 L509.3438,160.0781 L509.3438,167.8906 Q509.3438,170.4219 508.3438,171.5625 Q507.3438,172.7031 505.1094,172.7031 Q502.8906,172.7031 501.875,171.5625 Q500.875,170.4219 500.875,167.8906 Z \"/><text fill=\"#000000\" font-family=\"sans-serif\" font-size=\"12\" font-style=\"italic\" lengthAdjust=\"spacingAndGlyphs\" textLength=\"88\" x=\"517\" y=\"163.1387\">«send action»</text><text fill=\"#000000\" font-family=\"sans-serif\" font-size=\"12\" lengthAdjust=\"spacingAndGlyphs\" text-decoration=\"line-through\" textLength=\"51\" x=\"535.5\" y=\"177.1074\">noname</text><line style=\"stroke: #A80036; stroke-width: 1.5;\" x1=\"491\" x2=\"605\" y1=\"184.9375\" y2=\"184.9375\"/></a><!--MD5=[b9389687b975829384b498ac4b7476b2]\n",
       "class E8--><a href=\"psysml:dcda7bbd-01a5-4374-8a97-a16c2625889c\" target=\"_top\" title=\"psysml:dcda7bbd-01a5-4374-8a97-a16c2625889c\" xlink:actuate=\"onRequest\" xlink:href=\"psysml:dcda7bbd-01a5-4374-8a97-a16c2625889c\" xlink:show=\"new\" xlink:title=\"psysml:dcda7bbd-01a5-4374-8a97-a16c2625889c\" xlink:type=\"simple\"><rect fill=\"#FEFECE\" filter=\"url(#fd3dj5tdzkm6e)\" height=\"45.9375\" id=\"E8\" rx=\"10\" ry=\"10\" style=\"stroke: #A80036; stroke-width: 1.5;\" width=\"127\" x=\"641.5\" y=\"147\"/><ellipse cx=\"656.5\" cy=\"165.9688\" fill=\"#FFA500\" rx=\"11\" ry=\"11\" style=\"stroke: #A80036; stroke-width: 1.0;\"/><path d=\"M652.375,167.8906 L652.375,160.0781 L654.8281,160.0781 L654.8281,168.5156 Q654.8281,169.4375 655.2969,169.9688 Q655.7813,170.5 656.6094,170.5 Q657.4531,170.5 657.9219,169.9688 Q658.3906,169.4375 658.3906,168.5156 L658.3906,160.0781 L660.8438,160.0781 L660.8438,167.8906 Q660.8438,170.4219 659.8438,171.5625 Q658.8438,172.7031 656.6094,172.7031 Q654.3906,172.7031 653.375,171.5625 Q652.375,170.4219 652.375,167.8906 Z \"/><text fill=\"#000000\" font-family=\"sans-serif\" font-size=\"12\" font-style=\"italic\" lengthAdjust=\"spacingAndGlyphs\" textLength=\"99\" x=\"668.5\" y=\"163.1387\">«decisionNode»</text><text fill=\"#000000\" font-family=\"sans-serif\" font-size=\"12\" lengthAdjust=\"spacingAndGlyphs\" text-decoration=\"line-through\" textLength=\"51\" x=\"692.5\" y=\"177.1074\">noname</text><line style=\"stroke: #A80036; stroke-width: 1.5;\" x1=\"642.5\" x2=\"767.5\" y1=\"184.9375\" y2=\"184.9375\"/></a><!--MD5=[fd4143e9d270a159db93a4ea2a975926]\n",
       "class E9--><a href=\"psysml:86a7eb05-d2a7-4b0b-add7-eac0d2258e69\" target=\"_top\" title=\"psysml:86a7eb05-d2a7-4b0b-add7-eac0d2258e69\" xlink:actuate=\"onRequest\" xlink:href=\"psysml:86a7eb05-d2a7-4b0b-add7-eac0d2258e69\" xlink:show=\"new\" xlink:title=\"psysml:86a7eb05-d2a7-4b0b-add7-eac0d2258e69\" xlink:type=\"simple\"><rect fill=\"#FEFECE\" filter=\"url(#fd3dj5tdzkm6e)\" height=\"45.9375\" id=\"E9\" style=\"stroke: #A80036; stroke-width: 1.5;\" width=\"105\" x=\"121.5\" y=\"41\"/><ellipse cx=\"136.5\" cy=\"59.9688\" fill=\"#FFFACD\" rx=\"11\" ry=\"11\" style=\"stroke: #A80036; stroke-width: 1.0;\"/><path d=\"M135.4063,60.3438 L135.4063,64.0156 L137.0313,64.0156 Q138.2031,64.0156 138.6719,63.625 Q139.1406,63.2188 139.1406,62.2188 Q139.1406,61.2188 138.6406,60.7813 Q138.1563,60.3438 137.0313,60.3438 L135.4063,60.3438 Z M135.4063,55.5156 L135.4063,58.3906 L137.0313,58.3906 Q137.9531,58.3906 138.3438,58.0625 Q138.75,57.7188 138.75,56.9688 Q138.75,56.2031 138.3438,55.8594 Q137.9375,55.5156 137.0313,55.5156 L135.4063,55.5156 Z M133.0313,53.5625 L137.0313,53.5625 Q139.0938,53.5625 140.1406,54.3438 Q141.1875,55.125 141.1875,56.6875 Q141.1875,57.8906 140.5625,58.5625 Q139.9531,59.2344 138.7656,59.3438 Q140.1875,59.4844 140.9063,60.2969 Q141.625,61.1094 141.625,62.5625 Q141.625,64.3594 140.5469,65.1719 Q139.4688,65.9688 137.0313,65.9688 L133.0313,65.9688 L133.0313,53.5625 Z \"/><text fill=\"#000000\" font-family=\"sans-serif\" font-size=\"12\" font-style=\"italic\" lengthAdjust=\"spacingAndGlyphs\" textLength=\"77\" x=\"148.5\" y=\"57.1387\">«action def»</text><text fill=\"#000000\" font-family=\"sans-serif\" font-size=\"12\" lengthAdjust=\"spacingAndGlyphs\" textLength=\"8\" x=\"183\" y=\"71.1074\">B</text><line style=\"stroke: #A80036; stroke-width: 1.5;\" x1=\"122.5\" x2=\"225.5\" y1=\"78.9375\" y2=\"78.9375\"/></a><!--MD5=[4672eba38e49728da53d11aeb285b987]\n",
       "reverse link E3 to E4--><a href=\"psysml:52dfc4ad-a62d-4432-a88b-57c0a80d621d\" target=\"_top\" title=\"psysml:52dfc4ad-a62d-4432-a88b-57c0a80d621d\" xlink:actuate=\"onRequest\" xlink:href=\"psysml:52dfc4ad-a62d-4432-a88b-57c0a80d621d\" xlink:show=\"new\" xlink:title=\"psysml:52dfc4ad-a62d-4432-a88b-57c0a80d621d\" xlink:type=\"simple\"><path d=\"M337.69,83.24 C282.62,102.08 197.09,131.34 141.56,150.33 \" fill=\"none\" id=\"E3&lt;-E4\" style=\"stroke: #A80036; stroke-width: 1.0;\"/><polygon fill=\"#FFFFFF\" points=\"350.32,78.92,343.3474,77.0807,338.9678,82.8095,345.9404,84.6488,350.32,78.92\" style=\"stroke: #A80036; stroke-width: 1.0;\"/></a><!--MD5=[191cde3d490a3f6d7bb551fe3ddca469]\n",
       "reverse link E3 to E5--><a href=\"psysml:99d9f5a6-f2b4-4631-bd24-2952b87c2311\" target=\"_top\" title=\"psysml:99d9f5a6-f2b4-4631-bd24-2952b87c2311\" xlink:actuate=\"onRequest\" xlink:href=\"psysml:99d9f5a6-f2b4-4631-bd24-2952b87c2311\" xlink:show=\"new\" xlink:title=\"psysml:99d9f5a6-f2b4-4631-bd24-2952b87c2311\" xlink:type=\"simple\"><path d=\"M346.58,94.42 C321.37,111.12 290.34,131.68 267.25,146.98 \" fill=\"none\" id=\"E3&lt;-E5\" style=\"stroke: #A80036; stroke-width: 1.0;\"/><polygon fill=\"#A80036\" points=\"357.7,87.06,350.4889,87.0402,347.6972,93.689,354.9083,93.7088,357.7,87.06\" style=\"stroke: #A80036; stroke-width: 1.0;\"/></a><!--MD5=[1026b4b93417a13aa8999a858998add2]\n",
       "reverse link E3 to E6--><a href=\"psysml:14dfaf6d-db59-420e-a3c6-2cc6bbb5f023\" target=\"_top\" title=\"psysml:14dfaf6d-db59-420e-a3c6-2cc6bbb5f023\" xlink:actuate=\"onRequest\" xlink:href=\"psysml:14dfaf6d-db59-420e-a3c6-2cc6bbb5f023\" xlink:show=\"new\" xlink:title=\"psysml:14dfaf6d-db59-420e-a3c6-2cc6bbb5f023\" xlink:type=\"simple\"><path d=\"M391,100.44 C391,115.87 391,133.47 391,146.98 \" fill=\"none\" id=\"E3&lt;-E6\" style=\"stroke: #A80036; stroke-width: 1.0;\"/><polygon fill=\"#FFFFFF\" points=\"391,87.06,387,93.06,391,99.06,395,93.06,391,87.06\" style=\"stroke: #A80036; stroke-width: 1.0;\"/></a><!--MD5=[3403bfa781cc3da0fd423dbab6f01c63]\n",
       "reverse link E6 to E2--><a href=\"psysml:773d19c1-1d9b-4741-b5ba-dd5a31e080a3\" target=\"_top\" title=\"psysml:773d19c1-1d9b-4741-b5ba-dd5a31e080a3\" xlink:actuate=\"onRequest\" xlink:href=\"psysml:773d19c1-1d9b-4741-b5ba-dd5a31e080a3\" xlink:show=\"new\" xlink:title=\"psysml:773d19c1-1d9b-4741-b5ba-dd5a31e080a3\" xlink:type=\"simple\"><path d=\"M391,206.44 C391,221.87 391,239.47 391,252.98 \" fill=\"none\" id=\"E6&lt;-E2\" style=\"stroke: #A80036; stroke-width: 1.0;\"/><polygon fill=\"#FFFFFF\" points=\"391,193.06,387,199.06,391,205.06,395,199.06,391,193.06\" style=\"stroke: #A80036; stroke-width: 1.0;\"/></a><!--MD5=[85760999379eecfd2565a9fecdca67e4]\n",
       "reverse link E3 to E7--><a href=\"psysml:4bddb34b-31d0-4487-9835-f5e5c1238220\" target=\"_top\" title=\"psysml:4bddb34b-31d0-4487-9835-f5e5c1238220\" xlink:actuate=\"onRequest\" xlink:href=\"psysml:4bddb34b-31d0-4487-9835-f5e5c1238220\" xlink:show=\"new\" xlink:title=\"psysml:4bddb34b-31d0-4487-9835-f5e5c1238220\" xlink:type=\"simple\"><path d=\"M435.42,94.42 C460.63,111.12 491.66,131.68 514.75,146.98 \" fill=\"none\" id=\"E3&lt;-E7\" style=\"stroke: #A80036; stroke-width: 1.0;\"/><polygon fill=\"#FFFFFF\" points=\"424.3,87.06,427.0917,93.7088,434.3028,93.689,431.5111,87.0402,424.3,87.06\" style=\"stroke: #A80036; stroke-width: 1.0;\"/></a><!--MD5=[4cb75b73ec3682b8f7f8edc9cc86126a]\n",
       "reverse link E3 to E8--><a href=\"psysml:010ce356-5f58-462c-8431-75351dc3ac74\" target=\"_top\" title=\"psysml:010ce356-5f58-462c-8431-75351dc3ac74\" xlink:actuate=\"onRequest\" xlink:href=\"psysml:010ce356-5f58-462c-8431-75351dc3ac74\" xlink:show=\"new\" xlink:title=\"psysml:010ce356-5f58-462c-8431-75351dc3ac74\" xlink:type=\"simple\"><path d=\"M444.21,82.62 C498.65,100.65 583.24,128.67 641.23,147.88 \" fill=\"none\" id=\"E3&lt;-E8\" style=\"stroke: #A80036; stroke-width: 1.0;\"/><polygon fill=\"#A80036\" points=\"431.73,78.49,436.169,84.1729,443.1221,82.261,438.683,76.5781,431.73,78.49\" style=\"stroke: #A80036; stroke-width: 1.0;\"/></a><!--MD5=[8a036503cfa2844bd6973b7cc413c2a7]\n",
       "@startuml\r\n",
       " \r\n",
       "package \"ActionTest\" as E1  [[psysml:4a739ce7-b110-4093-8b74-31ee982b1e00 ]]  {\r\n",
       "comp def \"S\" as E2 << <<(D,brown) attribute def>> [[psysml:e3ea157b-753f-4ff0-b9f5-62b19f528d25 ]] {\r\n",
       "}\r\n",
       "comp usage \"a\" as E3 << <<(U,orange) action>> [[psysml:fa9c3421-7722-4415-b8c7-0ea19e95762e ]] {\r\n",
       "}\r\n",
       "comp usage \"start: Action\" as E4 << <<(U,orange) action>> [[psysml:a6d1daf9-13da-45ca-a864-cb134e7177b5 ]] {\r\n",
       "}\r\n",
       "comp usage \"m\" as E5 << <<(U,orange) mergeNode>> [[psysml:60604585-cd78-42b0-92ae-265c1a2862a9 ]] {\r\n",
       "}\r\n",
       "comp usage \"<s>noname</s>\" as E6 << accept action>> [[psysml:1a7559c2-685c-4c08-a29a-09c3177cd704 ]] {\r\n",
       "}\r\n",
       "comp usage \"<s>noname</s>\" as E7 << send action>> [[psysml:57acc649-2893-4bd5-b427-585e4a8282d2 ]] {\r\n",
       "}\r\n",
       "comp usage \"<s>noname</s>\" as E8 << <<(U,orange) decisionNode>> [[psysml:dcda7bbd-01a5-4374-8a97-a16c2625889c ]] {\r\n",
       "}\r\n",
       "comp def \"B\" as E9 << <<(B,lemonchiffon) action def>> [[psysml:86a7eb05-d2a7-4b0b-add7-eac0d2258e69 ]] {\r\n",
       "}\r\n",
       "E3 o- - E4 [[psysml:52dfc4ad-a62d-4432-a88b-57c0a80d621d ]] \r\n",
       "E3 *- - E5 [[psysml:99d9f5a6-f2b4-4631-bd24-2952b87c2311 ]] \r\n",
       "E3 o- - E6 [[psysml:14dfaf6d-db59-420e-a3c6-2cc6bbb5f023 ]] \r\n",
       "E6 o- - E2 [[psysml:773d19c1-1d9b-4741-b5ba-dd5a31e080a3 ]] \r\n",
       "E3 o- - E7 [[psysml:4bddb34b-31d0-4487-9835-f5e5c1238220 ]] \r\n",
       "E3 *- - E8 [[psysml:010ce356-5f58-462c-8431-75351dc3ac74 ]] \r\n",
       "}\r\n",
       "@enduml\r\n",
       "\n",
       "PlantUML version 1.2020.13(Sat Jun 13 12:26:38 UTC 2020)\n",
       "(EPL source distribution)\n",
       "Java Runtime: OpenJDK Runtime Environment\n",
       "JVM: OpenJDK 64-Bit Server VM\n",
       "Default Encoding: UTF-8\n",
       "Language: en\n",
       "Country: null\n",
       "--></g></svg>"
      ]
     },
     "execution_count": 31,
     "metadata": {},
     "output_type": "execute_result"
    }
   ],
   "source": [
    "%viz --style=\"PLANTUML\" --view=\"Tree\" \"ActionTest\""
   ]
  },
  {
   "cell_type": "code",
   "execution_count": 32,
   "id": "7fc3523b",
   "metadata": {
    "execution": {
     "iopub.execute_input": "2021-06-30T09:17:43.497587Z",
     "iopub.status.busy": "2021-06-30T09:17:43.497109Z",
     "iopub.status.idle": "2021-06-30T09:17:43.619740Z",
     "shell.execute_reply": "2021-06-30T09:17:43.619267Z"
    }
   },
   "outputs": [
    {
     "data": {
      "image/svg+xml": [
       "<?xml version=\"1.0\" encoding=\"UTF-8\" standalone=\"no\"?><svg xmlns=\"http://www.w3.org/2000/svg\" xmlns:xlink=\"http://www.w3.org/1999/xlink\" contentScriptType=\"application/ecmascript\" contentStyleType=\"text/css\" height=\"303px\" preserveAspectRatio=\"none\" style=\"width:603px;height:303px;background:#000000;\" version=\"1.1\" viewBox=\"0 0 603 303\" width=\"603px\" zoomAndPan=\"magnify\"><defs/><g><rect fill=\"#060122\" height=\"1\" style=\"stroke: #060122; stroke-width: 1.0;\" width=\"1\" x=\"0\" y=\"0\"/><rect fill=\"#FFFFFF\" height=\"205.5625\" style=\"stroke: #FFFFFF; stroke-width: 1.0;\" width=\"602\" x=\"0\" y=\"0\"/><text fill=\"#000000\" font-family=\"sans-serif\" font-size=\"12\" font-weight=\"bold\" lengthAdjust=\"spacingAndGlyphs\" textLength=\"159\" x=\"5\" y=\"16.1387\">Welcome to PlantUML!</text><text fill=\"#000000\" font-family=\"sans-serif\" font-size=\"12\" lengthAdjust=\"spacingAndGlyphs\" textLength=\"0\" x=\"9\" y=\"30.1074\"/><text fill=\"#000000\" font-family=\"sans-serif\" font-size=\"12\" lengthAdjust=\"spacingAndGlyphs\" textLength=\"293\" x=\"5\" y=\"44.0762\">If you use this software, you accept its license.</text><text fill=\"#000000\" font-family=\"sans-serif\" font-size=\"12\" lengthAdjust=\"spacingAndGlyphs\" textLength=\"107\" x=\"5\" y=\"58.0449\">(details by typing</text><text fill=\"#000000\" font-family=\"monospace\" font-size=\"12\" lengthAdjust=\"spacingAndGlyphs\" textLength=\"49\" x=\"116\" y=\"58.0449\">license</text><text fill=\"#000000\" font-family=\"sans-serif\" font-size=\"12\" lengthAdjust=\"spacingAndGlyphs\" textLength=\"56\" x=\"169\" y=\"58.0449\">keyword)</text><text fill=\"#000000\" font-family=\"sans-serif\" font-size=\"12\" lengthAdjust=\"spacingAndGlyphs\" textLength=\"0\" x=\"9\" y=\"72.0137\"/><text fill=\"#000000\" font-family=\"sans-serif\" font-size=\"12\" lengthAdjust=\"spacingAndGlyphs\" textLength=\"283\" x=\"5\" y=\"85.9824\">You can start with a simple UML Diagram like:</text><text fill=\"#000000\" font-family=\"sans-serif\" font-size=\"12\" lengthAdjust=\"spacingAndGlyphs\" textLength=\"0\" x=\"9\" y=\"99.9512\"/><text fill=\"#000000\" font-family=\"monospace\" font-size=\"12\" lengthAdjust=\"spacingAndGlyphs\" textLength=\"119\" x=\"5\" y=\"113.9199\">Bob-&gt;Alice: Hello</text><text fill=\"#000000\" font-family=\"sans-serif\" font-size=\"12\" lengthAdjust=\"spacingAndGlyphs\" textLength=\"0\" x=\"9\" y=\"127.8887\"/><text fill=\"#000000\" font-family=\"sans-serif\" font-size=\"12\" lengthAdjust=\"spacingAndGlyphs\" textLength=\"14\" x=\"5\" y=\"141.8574\">Or</text><text fill=\"#000000\" font-family=\"sans-serif\" font-size=\"12\" lengthAdjust=\"spacingAndGlyphs\" textLength=\"0\" x=\"9\" y=\"155.8262\"/><text fill=\"#000000\" font-family=\"monospace\" font-size=\"12\" lengthAdjust=\"spacingAndGlyphs\" textLength=\"91\" x=\"5\" y=\"169.7949\">class Example</text><text fill=\"#000000\" font-family=\"sans-serif\" font-size=\"12\" lengthAdjust=\"spacingAndGlyphs\" textLength=\"0\" x=\"9\" y=\"183.7637\"/><text fill=\"#000000\" font-family=\"sans-serif\" font-size=\"12\" lengthAdjust=\"spacingAndGlyphs\" textLength=\"349\" x=\"5\" y=\"197.7324\">You will find more information about PlantUML syntax on</text><text fill=\"#000000\" font-family=\"sans-serif\" font-size=\"12\" lengthAdjust=\"spacingAndGlyphs\" text-decoration=\"underline\" textLength=\"129\" x=\"358\" y=\"197.7324\">https://plantuml.com</text><image height=\"71\" width=\"80\" x=\"516\" xlink:href=\"data:image/png;base64,iVBORw0KGgoAAAANSUhEUgAAAFAAAABHCAMAAACnHDC8AAADAFBMVEX///+BpbvD3u/f7vfPz8+nz+g3ksuZEDkWADr/ujlvsdpTodLCwsOLwOEbg8T//v6pqamZETnLysvT09To5+jqLS4VATj9/f27u7vDw8MTfsK+v7/j4+SOweJprdjL4/KxsbEri8jk8PgXa57c29uUETez1utQoNJ1tNtEmc9cptWBut6ayOW/3O6YEDjY6vUfhcXBwcHs7Ozw9/v83t79uTn7+/vX19ehoaHx8fG2tLXHx8fuVlfrNTYaBjn/vUH5+fmko6WXl5f/+fn95ub+9PT+8PD3qKidmaMxIUrnqDWcFj7n5eX09PTu7u2SkpKfnZ6rq6z0lJTm4tzJrHUfDT339/eFGDn6tjcrEzOvrbBuZ3l4eomSMS7Hz9Smpqasu8SFiYuQETfa2du1m6OOM051J0NWTWL5xse4uLj6zc33r6/4vb7ydHXqLi/72dntTE3tR0ijbn5jW3C+u8NANVQrG0XFubqRVGZza4GQGT2VaS7a0NPJtI6IJj/zszrfqkXXzr/Hw8cgC0LUqltOQ2JsSC5bTGjOpFafSi2+iDGtyt14m7TJhTCPJUSwoIG/qa+ikHiIgpCRHjI9j8KXbnaQH0FLf6FGPlp0cnYyKE2rg49Wj7dFXHmcwtrp6uu+xMjvYWLvW1z97e3sPD3sP0DuUlP709PYzdDPmzqZWWySRVygfHHd1smWkZ+PgnibETqsl260q5fLuppJLC/dpj2HPFLTtHv/ujrTwJy5s6iWjIi0iD3joTTCmU3trjuvZS2zlFvjq0HSyLbYp0qRts10XGxEKC9yPVBQZIOPdlNvMk2NeYNqRlujtcCVrr3j5eY1gK9Qn9GLp7lbeJXRxrCkiZDaozyukoJ+H0B3rc+OYy+iprJkYXdhmr6ee0afs79xq9BikrGKjI3FomEiLFO0ay6nfIm4pZXRjTFuhZSZWm0zcZyJN0KNTk4eebNfdIGGlZ93h5kcED5nOVYyRWbziIk9dJ4kerE5ZYxRUnLG1d7p8PTvY2PtTk/1nZ1ycV/bAAAFx0lEQVR4Xu1Ye1BUVRg/e3dhl4csKyxqPlBJQVETF2icAY13GogkEFqizqRRpoBpTCIapaUOhWNjUdOMSBpqJYZTg4KigFKADzSIVZ4qD5VFluXhLgvbPee+r49R7v2z3+zcc77fOfPb7zvfPd85uwCIhwT4wPisANwPAuIKHnbHH1I+KwAXDA18ShDW58CneCEnXl8JGwmfHylCPSvlZ/FWxh8YIRIxTWkZAEofkTz8sNq7tAqE2gODOB6GYZobVaH20SVZ4oQcdmXV0L7c4b8OFvJHRoYwdVIoyPX3gxtFDA+V8e6mM8pBoCjij4wQiWo/ALzV/kpkifBi13p4waZuGrJEECycixcEVSbYgFwUozg4/qSraOxrP7O8Eogj2HDxyMWmzpk6823+yIjhvR7fLOpDsCuGhwC0WfbkjQq8A0MWC0EgIYzPCYMymM8Iwcvz6K4IWw8skTrgq3iPMIQnxdfKrvyedpyvbSsyBQt6zcH6OxXmjqYxg9PbgXBBveK6aRAXNEl1Ssc+hz7Bgntyohb/ggQlNrrdzfIuoYKSb79067PrRoLmGo25SeghJRn1yMrSbPTptZaoBlwtlWbBHspxiW+mW8+46ereVnMXGxbFQ+mjofiHZTrclJn5E14UEgdrO9tRVph0HDJlYlRsLv4XFA7RBA1kK5ogBb7gtn08AvxWymc2b+YzLHC3nnOCNHvdayUsZpnnwnPqGf+yGKcPKlv92vtJC209zGyRWJmgyd16sSGGT/AmM2rdKZKZHxwCz7KUodLzJOO8th4OBqxdo0c2tfUkNr3QlJkZQWWMBP0uwBHvmQQb3zRVCMnsMO6ATazf3f0kkza0HTaPCdIhpyTknqP61Te1eV2gRpr1FUn4xtxRT72pDHhj09/UnBLjiv72p4d8FEtlLibBd7Qg0xK5+XfS9q2AzxSVHPnNIMBS8BQPw8N1W4glQWj0mtp4+nSHhvKYOM4GL6vH1jGTcDQ3p1979AQPI5agXEDYwuS5awknJ73rHU56RyLAr6ACpO5iMRGvp3XykjImgs4Fgm2/7URc8dhbeD9jdhYVNon0mdFcAjTIXbmC75VrmVHcQ+JDIXbuNmYUYlZoYx6XcWjKTWavYXd1WzU9OEh9wLFfEVFza5PEhVhDAvfLx60cWM3ePMa9hyZG5DNr6DbQiCUcYU0AKGzGyYxlkf+wxnCk+wdwCbA/TkWH7Dbgoq8dcmKNssQQ3F/JmMxlIj/fzo/7s9OIwUMebbYzbh2zLfk7ehBGzIau6OeO+xzGKlBRwCGAXNaCFgYbRoKG+hMTfMff4M6h0LYxpmv/92ym9tIxc4uRzawynCEWGhum7odf9/75vh8zg0bKijX5AMxhMacsK8pBxaJihtnQqr1KG8yFMzq/dutJ2iKwNCbXA7Yamsm2Xn0XtgtowY3Xy8rpYc4NNqon8eM49k+NtzU55GtMleGAkNR6oldDMhH+e9EX0JB+UYKv4WgLZrLCjHV7wnyYlzJZvYV6A6d1w6xEph842UUyTkjGIbzwRA/JIOBJKSt88yglqND1h6TpiQqQV99wmJ7nknQcgIIHqd00EwSzgudigGYQUHE4qFMcGJb22kp7lNop8p6znStvg5S2e1TVRti56w/zj8fZzKLiDa317MqBQFbs+J3dcbSgo+H4D0kLOokJ82/NR8KZbp9eIZgllwKR8Ec1ejIX827POk/06HpYffGd5dkoZJXMqDAVXd1Nbhavlx4OyuAiPcyAF3Ick8faXAuE5WToApkMxykL1PbNRJ91SDkXOyymPFR1UMlw9GjRPKCrPsRSvUnbzbkELj2PSSRkQLiH1AvROTutlpryLHQAoCD+C2BBP4npMwd9zsIgzgaDsK+bctmVw3hetai5t9RS4PEqub4QnCvxteGzOZyQXxjscxkhHisWKMi72+T0p1dxGeGYkG0ez+eeG7In/n/oNOexC9fzIiLvPxVtKp84iza+AAAAAElFTkSuQmCC\" y=\"6\"/><rect fill=\"#000000\" height=\"96.4844\" style=\"stroke: #000000; stroke-width: 1.0;\" width=\"602\" x=\"0\" y=\"205.5625\"/><rect fill=\"#33FF02\" height=\"21.2969\" style=\"stroke: #33FF02; stroke-width: 1.0;\" width=\"170\" x=\"5\" y=\"210.5625\"/><text fill=\"#000000\" font-family=\"sans-serif\" font-size=\"14\" font-weight=\"bold\" lengthAdjust=\"spacingAndGlyphs\" textLength=\"168\" x=\"6\" y=\"225.5625\">[From string (line 2) ]</text><text fill=\"#33FF02\" font-family=\"sans-serif\" font-size=\"14\" font-weight=\"bold\" lengthAdjust=\"spacingAndGlyphs\" textLength=\"0\" x=\"10\" y=\"245.8594\"/><text fill=\"#33FF02\" font-family=\"sans-serif\" font-size=\"14\" font-weight=\"bold\" lengthAdjust=\"spacingAndGlyphs\" textLength=\"79\" x=\"5\" y=\"262.1563\">@startuml</text><text fill=\"#33FF02\" font-family=\"sans-serif\" font-size=\"14\" font-weight=\"bold\" lengthAdjust=\"spacingAndGlyphs\" textLength=\"0\" x=\"10\" y=\"278.4531\"/><text fill=\"#FF0000\" font-family=\"sans-serif\" font-size=\"14\" font-weight=\"bold\" lengthAdjust=\"spacingAndGlyphs\" textLength=\"142\" x=\"10\" y=\"294.75\">Empty description</text><!--MD5=[f59edd8218d337f74d0c332fc6737304]\n",
       "@startuml\r\n",
       " \r\n",
       "@enduml\r\n",
       "\n",
       "PlantUML version 1.2020.13(Sat Jun 13 12:26:38 UTC 2020)\n",
       "(EPL source distribution)\n",
       "Java Runtime: OpenJDK Runtime Environment\n",
       "JVM: OpenJDK 64-Bit Server VM\n",
       "Default Encoding: UTF-8\n",
       "Language: en\n",
       "Country: null\n",
       "--></g></svg>"
      ]
     },
     "execution_count": 32,
     "metadata": {},
     "output_type": "execute_result"
    }
   ],
   "source": [
    "%viz --style=\"PLANTUML\" --view=\"State\" \"ActionTest\""
   ]
  },
  {
   "cell_type": "code",
   "execution_count": 33,
   "id": "d5c3e319",
   "metadata": {
    "execution": {
     "iopub.execute_input": "2021-06-30T09:17:43.669951Z",
     "iopub.status.busy": "2021-06-30T09:17:43.669242Z",
     "iopub.status.idle": "2021-06-30T09:17:43.741375Z",
     "shell.execute_reply": "2021-06-30T09:17:43.740774Z"
    }
   },
   "outputs": [
    {
     "data": {
      "image/svg+xml": [
       "<?xml version=\"1.0\" encoding=\"UTF-8\" standalone=\"no\"?><svg xmlns=\"http://www.w3.org/2000/svg\" xmlns:xlink=\"http://www.w3.org/1999/xlink\" contentScriptType=\"application/ecmascript\" contentStyleType=\"text/css\" height=\"462px\" preserveAspectRatio=\"none\" style=\"width:574px;height:462px;\" version=\"1.1\" viewBox=\"0 0 574 462\" width=\"574px\" zoomAndPan=\"magnify\"><defs><filter height=\"300%\" id=\"f1o6avasn0y1vs\" width=\"300%\" x=\"-1\" y=\"-1\"><feGaussianBlur result=\"blurOut\" stdDeviation=\"2.0\"/><feColorMatrix in=\"blurOut\" result=\"blurOut2\" type=\"matrix\" values=\"0 0 0 0 0 0 0 0 0 0 0 0 0 0 0 0 0 0 .4 0\"/><feOffset dx=\"4.0\" dy=\"4.0\" in=\"blurOut2\" result=\"blurOut3\"/><feBlend in=\"SourceGraphic\" in2=\"blurOut3\" mode=\"normal\"/></filter></defs><g><!--MD5=[fbc87193dbaf4d95561dea2c320d4a47]\n",
       "cluster E1--><a href=\"psysml:4a739ce7-b110-4093-8b74-31ee982b1e00\" target=\"_top\" title=\"psysml:4a739ce7-b110-4093-8b74-31ee982b1e00\" xlink:actuate=\"onRequest\" xlink:href=\"psysml:4a739ce7-b110-4093-8b74-31ee982b1e00\" xlink:show=\"new\" xlink:title=\"psysml:4a739ce7-b110-4093-8b74-31ee982b1e00\" xlink:type=\"simple\"><polygon fill=\"#FFFFFF\" filter=\"url(#f1o6avasn0y1vs)\" points=\"16,6,107,6,114,28.2969,552,28.2969,552,450.5,16,450.5,16,6\" style=\"stroke: #000000; stroke-width: 1.5;\"/><line style=\"stroke: #000000; stroke-width: 1.5;\" x1=\"16\" x2=\"114\" y1=\"28.2969\" y2=\"28.2969\"/><text fill=\"#000000\" font-family=\"sans-serif\" font-size=\"14\" font-weight=\"bold\" lengthAdjust=\"spacingAndGlyphs\" textLength=\"85\" x=\"20\" y=\"20.9951\">ActionTest</text></a><!--MD5=[d5e69f78d87373223dbae638b30a9c99]\n",
       "cluster E3--><a href=\"psysml:fa9c3421-7722-4415-b8c7-0ea19e95762e\" target=\"_top\" title=\"psysml:fa9c3421-7722-4415-b8c7-0ea19e95762e\" xlink:actuate=\"onRequest\" xlink:href=\"psysml:fa9c3421-7722-4415-b8c7-0ea19e95762e\" xlink:show=\"new\" xlink:title=\"psysml:fa9c3421-7722-4415-b8c7-0ea19e95762e\" xlink:type=\"simple\"><rect fill=\"#FFFFFF\" filter=\"url(#f1o6avasn0y1vs)\" height=\"377.5\" id=\"E3\" rx=\"10\" ry=\"10\" style=\"stroke: #A80036; stroke-width: 1.5;\" width=\"209\" x=\"319\" y=\"49\"/><rect fill=\"#FEFECE\" height=\"37.9375\" rx=\"10\" ry=\"10\" style=\"stroke: #FEFECE; stroke-width: 1.5;\" width=\"209\" x=\"319\" y=\"49\"/><rect fill=\"#FEFECE\" height=\"10\" style=\"stroke: #FEFECE; stroke-width: 1.5;\" width=\"209\" x=\"319\" y=\"76.9375\"/><rect fill=\"none\" height=\"377.5\" id=\"E3\" rx=\"10\" ry=\"10\" style=\"stroke: #A80036; stroke-width: 1.5;\" width=\"209\" x=\"319\" y=\"49\"/><text fill=\"#000000\" font-family=\"sans-serif\" font-size=\"12\" font-style=\"italic\" lengthAdjust=\"spacingAndGlyphs\" textLength=\"53\" x=\"397\" y=\"65.1387\">«action»</text><text fill=\"#000000\" font-family=\"sans-serif\" font-size=\"12\" lengthAdjust=\"spacingAndGlyphs\" textLength=\"8\" x=\"419.5\" y=\"79.1074\">a</text><line style=\"stroke: #A80036; stroke-width: 1.0;\" x1=\"319\" x2=\"528\" y1=\"86.9375\" y2=\"86.9375\"/></a><g id=\"E1.E2\"><a href=\"psysml:e3ea157b-753f-4ff0-b9f5-62b19f528d25\" target=\"_top\" title=\"psysml:e3ea157b-753f-4ff0-b9f5-62b19f528d25\" xlink:actuate=\"onRequest\" xlink:href=\"psysml:e3ea157b-753f-4ff0-b9f5-62b19f528d25\" xlink:show=\"new\" xlink:title=\"psysml:e3ea157b-753f-4ff0-b9f5-62b19f528d25\" xlink:type=\"simple\"><rect fill=\"#FEFECE\" filter=\"url(#f1o6avasn0y1vs)\" height=\"42.9375\" id=\"E2\" style=\"stroke: #A80036; stroke-width: 1.5;\" width=\"126\" x=\"177\" y=\"88.5\"/><ellipse cx=\"194.25\" cy=\"107.4688\" fill=\"#A52A2A\" rx=\"11\" ry=\"11\" style=\"stroke: #A80036; stroke-width: 1.0;\"/><path d=\"M193.8438,103.2813 L193.8438,111.2656 L194.5,111.2656 Q195.9375,111.2656 196.5469,110.3594 Q197.1719,109.4375 197.1719,107.2656 Q197.1719,105.0938 196.5469,104.1875 Q195.9375,103.2813 194.5,103.2813 L193.8438,103.2813 Z M191.3906,101.0781 L194.0156,101.0781 Q197.0469,101.0781 198.375,102.5313 Q199.7188,103.9688 199.7188,107.2656 Q199.7188,110.5625 198.375,112.0156 Q197.0469,113.4688 194.0156,113.4688 L191.3906,113.4688 L191.3906,101.0781 Z \"/><text fill=\"#000000\" font-family=\"sans-serif\" font-size=\"12\" font-style=\"italic\" lengthAdjust=\"spacingAndGlyphs\" textLength=\"93\" x=\"206.75\" y=\"104.6387\">«attribute def»</text><text fill=\"#000000\" font-family=\"sans-serif\" font-size=\"12\" lengthAdjust=\"spacingAndGlyphs\" textLength=\"8\" x=\"249.25\" y=\"118.6074\">S</text></a></g><polygon fill=\"#FEFECE\" filter=\"url(#f1o6avasn0y1vs)\" points=\"476,148.5,488,160.5,476,172.5,464,160.5,476,148.5\" style=\"stroke: #A80036; stroke-width: 1.5;\"/><!--MD5=[21dd76c19d33815960c0e92fef8f0eef]\n",
       "entity E5--><a href=\"psysml:1a7559c2-685c-4c08-a29a-09c3177cd704\" target=\"_top\" title=\"psysml:1a7559c2-685c-4c08-a29a-09c3177cd704\" xlink:actuate=\"onRequest\" xlink:href=\"psysml:1a7559c2-685c-4c08-a29a-09c3177cd704\" xlink:show=\"new\" xlink:title=\"psysml:1a7559c2-685c-4c08-a29a-09c3177cd704\" xlink:type=\"simple\"><polygon fill=\"#FEFECE\" filter=\"url(#f1o6avasn0y1vs)\" points=\"335,189.5,335,244.0938,475,244.0938,455,216.7969,475,189.5\" style=\"stroke: #000000; stroke-width: 1.5;\"/><text fill=\"#000000\" font-family=\"sans-serif\" font-size=\"14\" font-style=\"italic\" lengthAdjust=\"spacingAndGlyphs\" textLength=\"111\" x=\"342\" y=\"212.4951\">«accept action»</text><text fill=\"#000000\" font-family=\"sans-serif\" font-size=\"14\" lengthAdjust=\"spacingAndGlyphs\" textLength=\"9\" x=\"393\" y=\"229.792\">S</text></a><!--MD5=[24d87cdf3002d433f401b2a2aa9f9f65]\n",
       "entity E6--><a href=\"psysml:57acc649-2893-4bd5-b427-585e4a8282d2\" target=\"_top\" title=\"psysml:57acc649-2893-4bd5-b427-585e4a8282d2\" xlink:actuate=\"onRequest\" xlink:href=\"psysml:57acc649-2893-4bd5-b427-585e4a8282d2\" xlink:show=\"new\" xlink:title=\"psysml:57acc649-2893-4bd5-b427-585e4a8282d2\" xlink:type=\"simple\"><polygon fill=\"#FEFECE\" filter=\"url(#f1o6avasn0y1vs)\" points=\"335,277.5,335,332.0938,443,332.0938,463,304.7969,443,277.5\" style=\"stroke: #000000; stroke-width: 1.5;\"/><text fill=\"#000000\" font-family=\"sans-serif\" font-size=\"14\" font-style=\"italic\" lengthAdjust=\"spacingAndGlyphs\" textLength=\"99\" x=\"342\" y=\"300.4951\">«send action»</text><text fill=\"#000000\" font-family=\"sans-serif\" font-size=\"14\" lengthAdjust=\"spacingAndGlyphs\" textLength=\"65\" x=\"359\" y=\"317.792\">S() to  B()</text></a><polygon fill=\"#FEFECE\" filter=\"url(#f1o6avasn0y1vs)\" points=\"474,349.5,486,361.5,474,373.5,462,361.5,474,349.5\" style=\"stroke: #A80036; stroke-width: 1.5;\"/><ellipse cx=\"476\" cy=\"110\" fill=\"#000000\" filter=\"url(#f1o6avasn0y1vs)\" rx=\"10\" ry=\"10\" style=\"stroke: none; stroke-width: 1.0;\"/><ellipse cx=\"474\" cy=\"400.5\" fill=\"none\" filter=\"url(#f1o6avasn0y1vs)\" rx=\"10\" ry=\"10\" style=\"stroke: #000000; stroke-width: 1.0;\"/><ellipse cx=\"474.5\" cy=\"401\" fill=\"#000000\" rx=\"6\" ry=\"6\" style=\"stroke: none; stroke-width: 1.0;\"/><g id=\"E1.E8\"><a href=\"psysml:86a7eb05-d2a7-4b0b-add7-eac0d2258e69\" target=\"_top\" title=\"psysml:86a7eb05-d2a7-4b0b-add7-eac0d2258e69\" xlink:actuate=\"onRequest\" xlink:href=\"psysml:86a7eb05-d2a7-4b0b-add7-eac0d2258e69\" xlink:show=\"new\" xlink:title=\"psysml:86a7eb05-d2a7-4b0b-add7-eac0d2258e69\" xlink:type=\"simple\"><rect fill=\"#FEFECE\" filter=\"url(#f1o6avasn0y1vs)\" height=\"42.9375\" id=\"E8\" style=\"stroke: #A80036; stroke-width: 1.5;\" width=\"110\" x=\"32\" y=\"88.5\"/><ellipse cx=\"49.25\" cy=\"107.4688\" fill=\"#FFFACD\" rx=\"11\" ry=\"11\" style=\"stroke: #A80036; stroke-width: 1.0;\"/><path d=\"M48.1563,107.8438 L48.1563,111.5156 L49.7813,111.5156 Q50.9531,111.5156 51.4219,111.125 Q51.8906,110.7188 51.8906,109.7188 Q51.8906,108.7188 51.3906,108.2813 Q50.9063,107.8438 49.7813,107.8438 L48.1563,107.8438 Z M48.1563,103.0156 L48.1563,105.8906 L49.7813,105.8906 Q50.7031,105.8906 51.0938,105.5625 Q51.5,105.2188 51.5,104.4688 Q51.5,103.7031 51.0938,103.3594 Q50.6875,103.0156 49.7813,103.0156 L48.1563,103.0156 Z M45.7813,101.0625 L49.7813,101.0625 Q51.8438,101.0625 52.8906,101.8438 Q53.9375,102.625 53.9375,104.1875 Q53.9375,105.3906 53.3125,106.0625 Q52.7031,106.7344 51.5156,106.8438 Q52.9375,106.9844 53.6563,107.7969 Q54.375,108.6094 54.375,110.0625 Q54.375,111.8594 53.2969,112.6719 Q52.2188,113.4688 49.7813,113.4688 L45.7813,113.4688 L45.7813,101.0625 Z \"/><text fill=\"#000000\" font-family=\"sans-serif\" font-size=\"12\" font-style=\"italic\" lengthAdjust=\"spacingAndGlyphs\" textLength=\"77\" x=\"61.75\" y=\"104.6387\">«action def»</text><text fill=\"#000000\" font-family=\"sans-serif\" font-size=\"12\" lengthAdjust=\"spacingAndGlyphs\" textLength=\"8\" x=\"96.25\" y=\"118.6074\">B</text></a></g><!--MD5=[f47e10efcf9a6752d55dae986d790ed9]\n",
       "link *start*E3 to E4--><a href=\"psysml:3a6c3978-61f5-46d3-ad26-c963b1b56f5b\" target=\"_top\" title=\"psysml:3a6c3978-61f5-46d3-ad26-c963b1b56f5b\" xlink:actuate=\"onRequest\" xlink:href=\"psysml:3a6c3978-61f5-46d3-ad26-c963b1b56f5b\" xlink:show=\"new\" xlink:title=\"psysml:3a6c3978-61f5-46d3-ad26-c963b1b56f5b\" xlink:type=\"simple\"><path d=\"M476,120.35 C476,126.88 476,135.77 476,143.42 \" fill=\"none\" id=\"*start*E3-&gt;E4\" style=\"stroke: #A80036; stroke-width: 1.0;\"/><polygon fill=\"#A80036\" points=\"476,148.48,480,139.48,476,143.48,472,139.48,476,148.48\" style=\"stroke: #A80036; stroke-width: 1.0;\"/></a><!--MD5=[d19f2eb34364d71b67042106d92f540b]\n",
       "link E7 to *end*E3--><a href=\"psysml:36daa16f-4b44-48c5-bcb7-7a401bcea152\" target=\"_top\" title=\"psysml:36daa16f-4b44-48c5-bcb7-7a401bcea152\" xlink:actuate=\"onRequest\" xlink:href=\"psysml:36daa16f-4b44-48c5-bcb7-7a401bcea152\" xlink:show=\"new\" xlink:title=\"psysml:36daa16f-4b44-48c5-bcb7-7a401bcea152\" xlink:type=\"simple\"><path d=\"M474,373.8 C474,377.34 474,381.3 474,385.03 \" fill=\"none\" id=\"E7-&gt;*end*E3\" style=\"stroke: #A80036; stroke-width: 1.0;\"/><polygon fill=\"#A80036\" points=\"474,390.25,478,381.25,474,385.25,470,381.25,474,390.25\" style=\"stroke: #A80036; stroke-width: 1.0;\"/></a><!--MD5=[1b7591eae5389033d8d09a9d6721a717]\n",
       "link E4 to E5--><a href=\"psysml:c56e5692-64fd-4b0b-a986-d866765d0210\" target=\"_top\" title=\"psysml:c56e5692-64fd-4b0b-a986-d866765d0210\" xlink:actuate=\"onRequest\" xlink:href=\"psysml:c56e5692-64fd-4b0b-a986-d866765d0210\" xlink:show=\"new\" xlink:title=\"psysml:c56e5692-64fd-4b0b-a986-d866765d0210\" xlink:type=\"simple\"><path d=\"M469.45,166.53 C463.33,171.23 453.65,178.66 443.64,186.34 \" fill=\"none\" id=\"E4-&gt;E5\" style=\"stroke: #A80036; stroke-width: 1.0;\"/><polygon fill=\"#A80036\" points=\"439.64,189.41,449.2129,187.0948,443.6037,186.3621,444.3363,180.7529,439.64,189.41\" style=\"stroke: #A80036; stroke-width: 1.0;\"/></a><!--MD5=[9120cf2e5df3bff93db8f754bbbc09b4]\n",
       "link E5 to E6--><a href=\"psysml:363bb7e0-7ec1-401c-827a-8a23a32c7946\" target=\"_top\" title=\"psysml:363bb7e0-7ec1-401c-827a-8a23a32c7946\" xlink:actuate=\"onRequest\" xlink:href=\"psysml:363bb7e0-7ec1-401c-827a-8a23a32c7946\" xlink:show=\"new\" xlink:title=\"psysml:363bb7e0-7ec1-401c-827a-8a23a32c7946\" xlink:type=\"simple\"><path d=\"M403.13,244.74 C402.53,253.4 401.85,263.08 401.23,272.08 \" fill=\"none\" id=\"E5-&gt;E6\" style=\"stroke: #A80036; stroke-width: 1.0;\"/><polygon fill=\"#A80036\" points=\"400.86,277.28,405.468,268.5756,401.203,272.2918,397.4869,268.0268,400.86,277.28\" style=\"stroke: #A80036; stroke-width: 1.0;\"/></a><!--MD5=[02c70b7c851c11e3980e4e90450dc5dd]\n",
       "link E6 to E7--><a href=\"psysml:84082b66-a23a-4779-a592-98d74f10d8d7\" target=\"_top\" title=\"psysml:84082b66-a23a-4779-a592-98d74f10d8d7\" xlink:actuate=\"onRequest\" xlink:href=\"psysml:84082b66-a23a-4779-a592-98d74f10d8d7\" xlink:show=\"new\" xlink:title=\"psysml:84082b66-a23a-4779-a592-98d74f10d8d7\" xlink:type=\"simple\"><path d=\"M435.62,332.61 C445.72,339.95 455.91,347.35 463.24,352.68 \" fill=\"none\" id=\"E6-&gt;E7\" style=\"stroke: #A80036; stroke-width: 1.0;\"/><polygon fill=\"#A80036\" points=\"467.42,355.72,462.4976,347.1894,463.3776,352.7774,457.7896,353.6574,467.42,355.72\" style=\"stroke: #A80036; stroke-width: 1.0;\"/></a><!--MD5=[6bdd27f9905911a7e892a3dc65cf6b7c]\n",
       "link E7 to E4--><a href=\"psysml:49753952-5c4c-4ef6-ad04-e80bfe7cb929\" target=\"_top\" title=\"psysml:49753952-5c4c-4ef6-ad04-e80bfe7cb929\" xlink:actuate=\"onRequest\" xlink:href=\"psysml:49753952-5c4c-4ef6-ad04-e80bfe7cb929\" xlink:show=\"new\" xlink:title=\"psysml:49753952-5c4c-4ef6-ad04-e80bfe7cb929\" xlink:type=\"simple\"><path d=\"M477,352.49 C485.84,327.73 510.06,250.48 493,189.5 C491.26,183.29 487.73,177.1 484.34,172.12 \" fill=\"none\" id=\"E7-&gt;E4\" style=\"stroke: #A80036; stroke-width: 1.0;\"/><polygon fill=\"#A80036\" points=\"481.31,167.92,483.3342,177.5586,484.2364,171.9741,489.8209,172.8763,481.31,167.92\" style=\"stroke: #A80036; stroke-width: 1.0;\"/><text fill=\"#000000\" font-family=\"sans-serif\" font-size=\"13\" lengthAdjust=\"spacingAndGlyphs\" textLength=\"36\" x=\"499\" y=\"265.5669\">[true]</text></a><!--MD5=[6040536ee8a1f738622fd28e47ddea2a]\n",
       "@startuml\r\n",
       "skinparam ranksep 10\r\n",
       "skinparam rectangle {\r\n",
       " backgroundColor<<block>> LightGreen\r\n",
       "}\r\n",
       " \r\n",
       "package \"ActionTest\" as E1  [[psysml:4a739ce7-b110-4093-8b74-31ee982b1e00 ]]  {\r\n",
       "def \"S\" as E2 << <<(D,brown) attribute def>> [[psysml:e3ea157b-753f-4ff0-b9f5-62b19f528d25 ]] \r\n",
       "rec usage \"a\" as E3 << <<(U,orange) action>> [[psysml:fa9c3421-7722-4415-b8c7-0ea19e95762e ]] {\r\n",
       "choice \"m\" as E4  [[psysml:60604585-cd78-42b0-92ae-265c1a2862a9 ]] \r\n",
       "accept \" S\" as E5 << accept action>> [[psysml:1a7559c2-685c-4c08-a29a-09c3177cd704 ]] \r\n",
       "send \" S() to  B()\" as E6 << send action>> [[psysml:57acc649-2893-4bd5-b427-585e4a8282d2 ]] \r\n",
       "choice \"noname\" as E7  [[psysml:dcda7bbd-01a5-4374-8a97-a16c2625889c ]] \r\n",
       "[*] - -> E4 [[psysml:3a6c3978-61f5-46d3-ad26-c963b1b56f5b ]] \r\n",
       "E7  - -> [*] [[psysml:36daa16f-4b44-48c5-bcb7-7a401bcea152 ]] \r\n",
       "}\r\n",
       "\r\n",
       "rec def \"B\" as E8 << <<(B,lemonchiffon) action def>> [[psysml:86a7eb05-d2a7-4b0b-add7-eac0d2258e69 ]] {\r\n",
       "}\r\n",
       "\r\n",
       "E4 - -> E5 [[psysml:c56e5692-64fd-4b0b-a986-d866765d0210 ]] \r\n",
       "E5 - -> E6 [[psysml:363bb7e0-7ec1-401c-827a-8a23a32c7946 ]] \r\n",
       "E6 - -> E7 [[psysml:84082b66-a23a-4779-a592-98d74f10d8d7 ]] \r\n",
       "E7  - -> E4 [[psysml:49753952-5c4c-4ef6-ad04-e80bfe7cb929 ]] : [true]\r\n",
       "}\r\n",
       "@enduml\r\n",
       "\n",
       "PlantUML version 1.2020.13(Sat Jun 13 12:26:38 UTC 2020)\n",
       "(EPL source distribution)\n",
       "Java Runtime: OpenJDK Runtime Environment\n",
       "JVM: OpenJDK 64-Bit Server VM\n",
       "Default Encoding: UTF-8\n",
       "Language: en\n",
       "Country: null\n",
       "--></g></svg>"
      ]
     },
     "execution_count": 33,
     "metadata": {},
     "output_type": "execute_result"
    }
   ],
   "source": [
    "%viz --style=\"PLANTUML\" --view=\"Interconnection\" \"ActionTest\""
   ]
  },
  {
   "cell_type": "code",
   "execution_count": 34,
   "id": "8f4c2040",
   "metadata": {
    "execution": {
     "iopub.execute_input": "2021-06-30T09:17:43.790743Z",
     "iopub.status.busy": "2021-06-30T09:17:43.790189Z",
     "iopub.status.idle": "2021-06-30T09:17:43.858070Z",
     "shell.execute_reply": "2021-06-30T09:17:43.854753Z"
    }
   },
   "outputs": [
    {
     "data": {
      "image/svg+xml": [
       "<?xml version=\"1.0\" encoding=\"UTF-8\" standalone=\"no\"?><svg xmlns=\"http://www.w3.org/2000/svg\" xmlns:xlink=\"http://www.w3.org/1999/xlink\" contentScriptType=\"application/ecmascript\" contentStyleType=\"text/css\" height=\"403px\" preserveAspectRatio=\"none\" style=\"width:361px;height:403px;\" version=\"1.1\" viewBox=\"0 0 361 403\" width=\"361px\" zoomAndPan=\"magnify\"><defs><filter height=\"300%\" id=\"fyskaprqilq91\" width=\"300%\" x=\"-1\" y=\"-1\"><feGaussianBlur result=\"blurOut\" stdDeviation=\"2.0\"/><feColorMatrix in=\"blurOut\" result=\"blurOut2\" type=\"matrix\" values=\"0 0 0 0 0 0 0 0 0 0 0 0 0 0 0 0 0 0 .4 0\"/><feOffset dx=\"4.0\" dy=\"4.0\" in=\"blurOut2\" result=\"blurOut3\"/><feBlend in=\"SourceGraphic\" in2=\"blurOut3\" mode=\"normal\"/></filter></defs><g><!--MD5=[fbc87193dbaf4d95561dea2c320d4a47]\n",
       "cluster E1--><a href=\"psysml:fa9c3421-7722-4415-b8c7-0ea19e95762e\" target=\"_top\" title=\"psysml:fa9c3421-7722-4415-b8c7-0ea19e95762e\" xlink:actuate=\"onRequest\" xlink:href=\"psysml:fa9c3421-7722-4415-b8c7-0ea19e95762e\" xlink:show=\"new\" xlink:title=\"psysml:fa9c3421-7722-4415-b8c7-0ea19e95762e\" xlink:type=\"simple\"><rect fill=\"#FFFFFF\" filter=\"url(#fyskaprqilq91)\" height=\"377.5\" id=\"E1\" rx=\"10\" ry=\"10\" style=\"stroke: #A80036; stroke-width: 1.5;\" width=\"209\" x=\"133\" y=\"7\"/><rect fill=\"#FEFECE\" height=\"37.9375\" rx=\"10\" ry=\"10\" style=\"stroke: #FEFECE; stroke-width: 1.5;\" width=\"209\" x=\"133\" y=\"7\"/><rect fill=\"#FEFECE\" height=\"10\" style=\"stroke: #FEFECE; stroke-width: 1.5;\" width=\"209\" x=\"133\" y=\"34.9375\"/><rect fill=\"none\" height=\"377.5\" id=\"E1\" rx=\"10\" ry=\"10\" style=\"stroke: #A80036; stroke-width: 1.5;\" width=\"209\" x=\"133\" y=\"7\"/><text fill=\"#000000\" font-family=\"sans-serif\" font-size=\"12\" font-style=\"italic\" lengthAdjust=\"spacingAndGlyphs\" textLength=\"53\" x=\"211\" y=\"23.1387\">«action»</text><text fill=\"#000000\" font-family=\"sans-serif\" font-size=\"12\" lengthAdjust=\"spacingAndGlyphs\" textLength=\"8\" x=\"233.5\" y=\"37.1074\">a</text><line style=\"stroke: #A80036; stroke-width: 1.0;\" x1=\"133\" x2=\"342\" y1=\"44.9375\" y2=\"44.9375\"/></a><polygon fill=\"#FEFECE\" filter=\"url(#fyskaprqilq91)\" points=\"290,106.5,302,118.5,290,130.5,278,118.5,290,106.5\" style=\"stroke: #A80036; stroke-width: 1.5;\"/><!--MD5=[a60fb756f580feb9fd8e2cf1329b5c91]\n",
       "entity E3--><a href=\"psysml:1a7559c2-685c-4c08-a29a-09c3177cd704\" target=\"_top\" title=\"psysml:1a7559c2-685c-4c08-a29a-09c3177cd704\" xlink:actuate=\"onRequest\" xlink:href=\"psysml:1a7559c2-685c-4c08-a29a-09c3177cd704\" xlink:show=\"new\" xlink:title=\"psysml:1a7559c2-685c-4c08-a29a-09c3177cd704\" xlink:type=\"simple\"><polygon fill=\"#FEFECE\" filter=\"url(#fyskaprqilq91)\" points=\"149,147.5,149,202.0938,289,202.0938,269,174.7969,289,147.5\" style=\"stroke: #000000; stroke-width: 1.5;\"/><text fill=\"#000000\" font-family=\"sans-serif\" font-size=\"14\" font-style=\"italic\" lengthAdjust=\"spacingAndGlyphs\" textLength=\"111\" x=\"156\" y=\"170.4951\">«accept action»</text><text fill=\"#000000\" font-family=\"sans-serif\" font-size=\"14\" lengthAdjust=\"spacingAndGlyphs\" textLength=\"9\" x=\"207\" y=\"187.792\">S</text></a><!--MD5=[961cefdc15414eaa3e87aec9d17c2188]\n",
       "entity E4--><a href=\"psysml:57acc649-2893-4bd5-b427-585e4a8282d2\" target=\"_top\" title=\"psysml:57acc649-2893-4bd5-b427-585e4a8282d2\" xlink:actuate=\"onRequest\" xlink:href=\"psysml:57acc649-2893-4bd5-b427-585e4a8282d2\" xlink:show=\"new\" xlink:title=\"psysml:57acc649-2893-4bd5-b427-585e4a8282d2\" xlink:type=\"simple\"><polygon fill=\"#FEFECE\" filter=\"url(#fyskaprqilq91)\" points=\"149,235.5,149,290.0938,257,290.0938,277,262.7969,257,235.5\" style=\"stroke: #000000; stroke-width: 1.5;\"/><text fill=\"#000000\" font-family=\"sans-serif\" font-size=\"14\" font-style=\"italic\" lengthAdjust=\"spacingAndGlyphs\" textLength=\"99\" x=\"156\" y=\"258.4951\">«send action»</text><text fill=\"#000000\" font-family=\"sans-serif\" font-size=\"14\" lengthAdjust=\"spacingAndGlyphs\" textLength=\"65\" x=\"173\" y=\"275.792\">S() to  B()</text></a><polygon fill=\"#FEFECE\" filter=\"url(#fyskaprqilq91)\" points=\"288,307.5,300,319.5,288,331.5,276,319.5,288,307.5\" style=\"stroke: #A80036; stroke-width: 1.5;\"/><ellipse cx=\"290\" cy=\"68\" fill=\"#000000\" filter=\"url(#fyskaprqilq91)\" rx=\"10\" ry=\"10\" style=\"stroke: none; stroke-width: 1.0;\"/><ellipse cx=\"288\" cy=\"358.5\" fill=\"none\" filter=\"url(#fyskaprqilq91)\" rx=\"10\" ry=\"10\" style=\"stroke: #000000; stroke-width: 1.0;\"/><ellipse cx=\"288.5\" cy=\"359\" fill=\"#000000\" rx=\"6\" ry=\"6\" style=\"stroke: none; stroke-width: 1.0;\"/><g id=\"E6\"><a href=\"psysml:86a7eb05-d2a7-4b0b-add7-eac0d2258e69\" target=\"_top\" title=\"psysml:86a7eb05-d2a7-4b0b-add7-eac0d2258e69\" xlink:actuate=\"onRequest\" xlink:href=\"psysml:86a7eb05-d2a7-4b0b-add7-eac0d2258e69\" xlink:show=\"new\" xlink:title=\"psysml:86a7eb05-d2a7-4b0b-add7-eac0d2258e69\" xlink:type=\"simple\"><rect fill=\"#FEFECE\" filter=\"url(#fyskaprqilq91)\" height=\"42.9375\" id=\"E6\" style=\"stroke: #A80036; stroke-width: 1.5;\" width=\"110\" x=\"7\" y=\"46.5\"/><ellipse cx=\"24.25\" cy=\"65.4688\" fill=\"#FFFACD\" rx=\"11\" ry=\"11\" style=\"stroke: #A80036; stroke-width: 1.0;\"/><path d=\"M23.1563,65.8438 L23.1563,69.5156 L24.7813,69.5156 Q25.9531,69.5156 26.4219,69.125 Q26.8906,68.7188 26.8906,67.7188 Q26.8906,66.7188 26.3906,66.2813 Q25.9063,65.8438 24.7813,65.8438 L23.1563,65.8438 Z M23.1563,61.0156 L23.1563,63.8906 L24.7813,63.8906 Q25.7031,63.8906 26.0938,63.5625 Q26.5,63.2188 26.5,62.4688 Q26.5,61.7031 26.0938,61.3594 Q25.6875,61.0156 24.7813,61.0156 L23.1563,61.0156 Z M20.7813,59.0625 L24.7813,59.0625 Q26.8438,59.0625 27.8906,59.8438 Q28.9375,60.625 28.9375,62.1875 Q28.9375,63.3906 28.3125,64.0625 Q27.7031,64.7344 26.5156,64.8438 Q27.9375,64.9844 28.6563,65.7969 Q29.375,66.6094 29.375,68.0625 Q29.375,69.8594 28.2969,70.6719 Q27.2188,71.4688 24.7813,71.4688 L20.7813,71.4688 L20.7813,59.0625 Z \"/><text fill=\"#000000\" font-family=\"sans-serif\" font-size=\"12\" font-style=\"italic\" lengthAdjust=\"spacingAndGlyphs\" textLength=\"77\" x=\"36.75\" y=\"62.6387\">«action def»</text><text fill=\"#000000\" font-family=\"sans-serif\" font-size=\"12\" lengthAdjust=\"spacingAndGlyphs\" textLength=\"8\" x=\"71.25\" y=\"76.6074\">B</text></a></g><!--MD5=[cff944eb183b832d446717a4e202d613]\n",
       "link *start*E1 to E2--><a href=\"psysml:3a6c3978-61f5-46d3-ad26-c963b1b56f5b\" target=\"_top\" title=\"psysml:3a6c3978-61f5-46d3-ad26-c963b1b56f5b\" xlink:actuate=\"onRequest\" xlink:href=\"psysml:3a6c3978-61f5-46d3-ad26-c963b1b56f5b\" xlink:show=\"new\" xlink:title=\"psysml:3a6c3978-61f5-46d3-ad26-c963b1b56f5b\" xlink:type=\"simple\"><path d=\"M290,78.35 C290,84.88 290,93.77 290,101.42 \" fill=\"none\" id=\"*start*E1-&gt;E2\" style=\"stroke: #A80036; stroke-width: 1.0; stroke-dasharray: 7.0,7.0;\"/><polygon fill=\"#A80036\" points=\"290,106.48,294,97.48,290,101.48,286,97.48,290,106.48\" style=\"stroke: #A80036; stroke-width: 1.0;\"/></a><!--MD5=[7fc47fc0d107820853a137871ad908c8]\n",
       "link E5 to *end*E1--><a href=\"psysml:36daa16f-4b44-48c5-bcb7-7a401bcea152\" target=\"_top\" title=\"psysml:36daa16f-4b44-48c5-bcb7-7a401bcea152\" xlink:actuate=\"onRequest\" xlink:href=\"psysml:36daa16f-4b44-48c5-bcb7-7a401bcea152\" xlink:show=\"new\" xlink:title=\"psysml:36daa16f-4b44-48c5-bcb7-7a401bcea152\" xlink:type=\"simple\"><path d=\"M288,331.8 C288,335.34 288,339.3 288,343.03 \" fill=\"none\" id=\"E5-&gt;*end*E1\" style=\"stroke: #A80036; stroke-width: 1.0; stroke-dasharray: 7.0,7.0;\"/><polygon fill=\"#A80036\" points=\"288,348.25,292,339.25,288,343.25,284,339.25,288,348.25\" style=\"stroke: #A80036; stroke-width: 1.0;\"/></a><!--MD5=[2720a5a1f2c3fca2055b230370638851]\n",
       "link E2 to E3--><a href=\"psysml:c56e5692-64fd-4b0b-a986-d866765d0210\" target=\"_top\" title=\"psysml:c56e5692-64fd-4b0b-a986-d866765d0210\" xlink:actuate=\"onRequest\" xlink:href=\"psysml:c56e5692-64fd-4b0b-a986-d866765d0210\" xlink:show=\"new\" xlink:title=\"psysml:c56e5692-64fd-4b0b-a986-d866765d0210\" xlink:type=\"simple\"><path d=\"M283.45,124.53 C277.33,129.23 267.65,136.66 257.64,144.34 \" fill=\"none\" id=\"E2-&gt;E3\" style=\"stroke: #A80036; stroke-width: 1.0; stroke-dasharray: 7.0,7.0;\"/><polygon fill=\"#A80036\" points=\"253.64,147.41,263.2129,145.0948,257.6037,144.3621,258.3363,138.7529,253.64,147.41\" style=\"stroke: #A80036; stroke-width: 1.0;\"/></a><!--MD5=[af87c684e3b0d8be13c1a698a818ef1e]\n",
       "link E3 to E4--><a href=\"psysml:363bb7e0-7ec1-401c-827a-8a23a32c7946\" target=\"_top\" title=\"psysml:363bb7e0-7ec1-401c-827a-8a23a32c7946\" xlink:actuate=\"onRequest\" xlink:href=\"psysml:363bb7e0-7ec1-401c-827a-8a23a32c7946\" xlink:show=\"new\" xlink:title=\"psysml:363bb7e0-7ec1-401c-827a-8a23a32c7946\" xlink:type=\"simple\"><path d=\"M217.13,202.74 C216.53,211.4 215.85,221.08 215.23,230.08 \" fill=\"none\" id=\"E3-&gt;E4\" style=\"stroke: #A80036; stroke-width: 1.0; stroke-dasharray: 7.0,7.0;\"/><polygon fill=\"#A80036\" points=\"214.86,235.28,219.468,226.5756,215.203,230.2918,211.4869,226.0268,214.86,235.28\" style=\"stroke: #A80036; stroke-width: 1.0;\"/></a><!--MD5=[1b7591eae5389033d8d09a9d6721a717]\n",
       "link E4 to E5--><a href=\"psysml:84082b66-a23a-4779-a592-98d74f10d8d7\" target=\"_top\" title=\"psysml:84082b66-a23a-4779-a592-98d74f10d8d7\" xlink:actuate=\"onRequest\" xlink:href=\"psysml:84082b66-a23a-4779-a592-98d74f10d8d7\" xlink:show=\"new\" xlink:title=\"psysml:84082b66-a23a-4779-a592-98d74f10d8d7\" xlink:type=\"simple\"><path d=\"M249.62,290.61 C259.72,297.95 269.91,305.35 277.24,310.68 \" fill=\"none\" id=\"E4-&gt;E5\" style=\"stroke: #A80036; stroke-width: 1.0; stroke-dasharray: 7.0,7.0;\"/><polygon fill=\"#A80036\" points=\"281.42,313.72,276.4976,305.1894,277.3776,310.7774,271.7896,311.6574,281.42,313.72\" style=\"stroke: #A80036; stroke-width: 1.0;\"/></a><!--MD5=[15ebcb19ae302d9b601edb458606d402]\n",
       "link E5 to E2--><a href=\"psysml:49753952-5c4c-4ef6-ad04-e80bfe7cb929\" target=\"_top\" title=\"psysml:49753952-5c4c-4ef6-ad04-e80bfe7cb929\" xlink:actuate=\"onRequest\" xlink:href=\"psysml:49753952-5c4c-4ef6-ad04-e80bfe7cb929\" xlink:show=\"new\" xlink:title=\"psysml:49753952-5c4c-4ef6-ad04-e80bfe7cb929\" xlink:type=\"simple\"><path d=\"M291,310.49 C299.84,285.73 324.06,208.48 307,147.5 C305.26,141.29 301.73,135.1 298.34,130.12 \" fill=\"none\" id=\"E5-&gt;E2\" style=\"stroke: #A80036; stroke-width: 1.0; stroke-dasharray: 7.0,7.0;\"/><polygon fill=\"#A80036\" points=\"295.31,125.92,297.3342,135.5586,298.2364,129.9741,303.8209,130.8763,295.31,125.92\" style=\"stroke: #A80036; stroke-width: 1.0;\"/><text fill=\"#000000\" font-family=\"sans-serif\" font-size=\"13\" lengthAdjust=\"spacingAndGlyphs\" textLength=\"36\" x=\"313\" y=\"223.5669\">[true]</text></a><!--MD5=[0ef9e6c8f893c4f9226de98c98b531ee]\n",
       "@startuml\r\n",
       "skinparam ranksep 8\r\n",
       " \r\n",
       "rec usage \"a\" as E1 << <<(U,orange) action>> [[psysml:fa9c3421-7722-4415-b8c7-0ea19e95762e ]] {\r\n",
       "choice \"m\" as E2  [[psysml:60604585-cd78-42b0-92ae-265c1a2862a9 ]] \r\n",
       "accept \" S\" as E3 << accept action>> [[psysml:1a7559c2-685c-4c08-a29a-09c3177cd704 ]] \r\n",
       "send \" S() to  B()\" as E4 << send action>> [[psysml:57acc649-2893-4bd5-b427-585e4a8282d2 ]] \r\n",
       "choice \"noname\" as E5  [[psysml:dcda7bbd-01a5-4374-8a97-a16c2625889c ]] \r\n",
       "[*] ..> E2 [[psysml:3a6c3978-61f5-46d3-ad26-c963b1b56f5b ]] \r\n",
       "E5 ..> [*] [[psysml:36daa16f-4b44-48c5-bcb7-7a401bcea152 ]] \r\n",
       "}\r\n",
       "\r\n",
       "E2 ..> E3 [[psysml:c56e5692-64fd-4b0b-a986-d866765d0210 ]] \r\n",
       "E3 ..> E4 [[psysml:363bb7e0-7ec1-401c-827a-8a23a32c7946 ]] \r\n",
       "E4 ..> E5 [[psysml:84082b66-a23a-4779-a592-98d74f10d8d7 ]] \r\n",
       "E5 ..> E2 [[psysml:49753952-5c4c-4ef6-ad04-e80bfe7cb929 ]] : [true]\r\n",
       "rec def \"B\" as E6 << <<(B,lemonchiffon) action def>> [[psysml:86a7eb05-d2a7-4b0b-add7-eac0d2258e69 ]] {\r\n",
       "}\r\n",
       "\r\n",
       "@enduml\r\n",
       "\n",
       "PlantUML version 1.2020.13(Sat Jun 13 12:26:38 UTC 2020)\n",
       "(EPL source distribution)\n",
       "Java Runtime: OpenJDK Runtime Environment\n",
       "JVM: OpenJDK 64-Bit Server VM\n",
       "Default Encoding: UTF-8\n",
       "Language: en\n",
       "Country: null\n",
       "--></g></svg>"
      ]
     },
     "execution_count": 34,
     "metadata": {},
     "output_type": "execute_result"
    }
   ],
   "source": [
    "%viz --style=\"PLANTUML\" --view=\"Action\" \"ActionTest\""
   ]
  },
  {
   "cell_type": "code",
   "execution_count": 35,
   "id": "225dab61",
   "metadata": {
    "execution": {
     "iopub.execute_input": "2021-06-30T09:17:43.910462Z",
     "iopub.status.busy": "2021-06-30T09:17:43.909283Z",
     "iopub.status.idle": "2021-06-30T09:17:43.964218Z",
     "shell.execute_reply": "2021-06-30T09:17:43.963202Z"
    }
   },
   "outputs": [
    {
     "data": {
      "image/svg+xml": [
       "<?xml version=\"1.0\" encoding=\"UTF-8\" standalone=\"no\"?><svg xmlns=\"http://www.w3.org/2000/svg\" xmlns:xlink=\"http://www.w3.org/1999/xlink\" contentScriptType=\"application/ecmascript\" contentStyleType=\"text/css\" height=\"327px\" preserveAspectRatio=\"none\" style=\"width:807px;height:327px;\" version=\"1.1\" viewBox=\"0 0 807 327\" width=\"807px\" zoomAndPan=\"magnify\"><defs><filter height=\"300%\" id=\"fd3dj5tdzkm6e\" width=\"300%\" x=\"-1\" y=\"-1\"><feGaussianBlur result=\"blurOut\" stdDeviation=\"2.0\"/><feColorMatrix in=\"blurOut\" result=\"blurOut2\" type=\"matrix\" values=\"0 0 0 0 0 0 0 0 0 0 0 0 0 0 0 0 0 0 .4 0\"/><feOffset dx=\"4.0\" dy=\"4.0\" in=\"blurOut2\" result=\"blurOut3\"/><feBlend in=\"SourceGraphic\" in2=\"blurOut3\" mode=\"normal\"/></filter></defs><g><!--MD5=[fbc87193dbaf4d95561dea2c320d4a47]\n",
       "cluster E1--><a href=\"psysml:4a739ce7-b110-4093-8b74-31ee982b1e00\" target=\"_top\" title=\"psysml:4a739ce7-b110-4093-8b74-31ee982b1e00\" xlink:actuate=\"onRequest\" xlink:href=\"psysml:4a739ce7-b110-4093-8b74-31ee982b1e00\" xlink:show=\"new\" xlink:title=\"psysml:4a739ce7-b110-4093-8b74-31ee982b1e00\" xlink:type=\"simple\"><polygon fill=\"#FFFFFF\" filter=\"url(#fd3dj5tdzkm6e)\" points=\"16,6,107,6,114,28.2969,785,28.2969,785,315,16,315,16,6\" style=\"stroke: #000000; stroke-width: 1.5;\"/><line style=\"stroke: #000000; stroke-width: 1.5;\" x1=\"16\" x2=\"114\" y1=\"28.2969\" y2=\"28.2969\"/><text fill=\"#000000\" font-family=\"sans-serif\" font-size=\"14\" font-weight=\"bold\" lengthAdjust=\"spacingAndGlyphs\" textLength=\"85\" x=\"20\" y=\"20.9951\">ActionTest</text></a><!--MD5=[b4997ac47864f28c2f74865a473b2911]\n",
       "class E2--><a href=\"psysml:e3ea157b-753f-4ff0-b9f5-62b19f528d25\" target=\"_top\" title=\"psysml:e3ea157b-753f-4ff0-b9f5-62b19f528d25\" xlink:actuate=\"onRequest\" xlink:href=\"psysml:e3ea157b-753f-4ff0-b9f5-62b19f528d25\" xlink:show=\"new\" xlink:title=\"psysml:e3ea157b-753f-4ff0-b9f5-62b19f528d25\" xlink:type=\"simple\"><rect fill=\"#FEFECE\" filter=\"url(#fd3dj5tdzkm6e)\" height=\"45.9375\" id=\"E2\" style=\"stroke: #A80036; stroke-width: 1.5;\" width=\"121\" x=\"330.5\" y=\"253\"/><ellipse cx=\"345.5\" cy=\"271.9688\" fill=\"#A52A2A\" rx=\"11\" ry=\"11\" style=\"stroke: #A80036; stroke-width: 1.0;\"/><path d=\"M345.0938,267.7813 L345.0938,275.7656 L345.75,275.7656 Q347.1875,275.7656 347.7969,274.8594 Q348.4219,273.9375 348.4219,271.7656 Q348.4219,269.5938 347.7969,268.6875 Q347.1875,267.7813 345.75,267.7813 L345.0938,267.7813 Z M342.6406,265.5781 L345.2656,265.5781 Q348.2969,265.5781 349.625,267.0313 Q350.9688,268.4688 350.9688,271.7656 Q350.9688,275.0625 349.625,276.5156 Q348.2969,277.9688 345.2656,277.9688 L342.6406,277.9688 L342.6406,265.5781 Z \"/><text fill=\"#000000\" font-family=\"sans-serif\" font-size=\"12\" font-style=\"italic\" lengthAdjust=\"spacingAndGlyphs\" textLength=\"93\" x=\"357.5\" y=\"269.1387\">«attribute def»</text><text fill=\"#000000\" font-family=\"sans-serif\" font-size=\"12\" lengthAdjust=\"spacingAndGlyphs\" textLength=\"8\" x=\"400\" y=\"283.1074\">S</text><line style=\"stroke: #A80036; stroke-width: 1.5;\" x1=\"331.5\" x2=\"450.5\" y1=\"290.9375\" y2=\"290.9375\"/></a><!--MD5=[09b614a08d8cba4a07c9adeb5e0fee81]\n",
       "class E3--><a href=\"psysml:fa9c3421-7722-4415-b8c7-0ea19e95762e\" target=\"_top\" title=\"psysml:fa9c3421-7722-4415-b8c7-0ea19e95762e\" xlink:actuate=\"onRequest\" xlink:href=\"psysml:fa9c3421-7722-4415-b8c7-0ea19e95762e\" xlink:show=\"new\" xlink:title=\"psysml:fa9c3421-7722-4415-b8c7-0ea19e95762e\" xlink:type=\"simple\"><rect fill=\"#FEFECE\" filter=\"url(#fd3dj5tdzkm6e)\" height=\"45.9375\" id=\"E3\" rx=\"10\" ry=\"10\" style=\"stroke: #A80036; stroke-width: 1.5;\" width=\"81\" x=\"350.5\" y=\"41\"/><ellipse cx=\"365.5\" cy=\"59.9688\" fill=\"#FFA500\" rx=\"11\" ry=\"11\" style=\"stroke: #A80036; stroke-width: 1.0;\"/><path d=\"M361.375,61.8906 L361.375,54.0781 L363.8281,54.0781 L363.8281,62.5156 Q363.8281,63.4375 364.2969,63.9688 Q364.7813,64.5 365.6094,64.5 Q366.4531,64.5 366.9219,63.9688 Q367.3906,63.4375 367.3906,62.5156 L367.3906,54.0781 L369.8438,54.0781 L369.8438,61.8906 Q369.8438,64.4219 368.8438,65.5625 Q367.8438,66.7031 365.6094,66.7031 Q363.3906,66.7031 362.375,65.5625 Q361.375,64.4219 361.375,61.8906 Z \"/><text fill=\"#000000\" font-family=\"sans-serif\" font-size=\"12\" font-style=\"italic\" lengthAdjust=\"spacingAndGlyphs\" textLength=\"53\" x=\"377.5\" y=\"57.1387\">«action»</text><text fill=\"#000000\" font-family=\"sans-serif\" font-size=\"12\" lengthAdjust=\"spacingAndGlyphs\" textLength=\"8\" x=\"400\" y=\"71.1074\">a</text><line style=\"stroke: #A80036; stroke-width: 1.5;\" x1=\"351.5\" x2=\"430.5\" y1=\"78.9375\" y2=\"78.9375\"/></a><!--MD5=[ebbe1d658d1005bcc118a6aa81145e00]\n",
       "class E4--><a href=\"psysml:a6d1daf9-13da-45ca-a864-cb134e7177b5\" target=\"_top\" title=\"psysml:a6d1daf9-13da-45ca-a864-cb134e7177b5\" xlink:actuate=\"onRequest\" xlink:href=\"psysml:a6d1daf9-13da-45ca-a864-cb134e7177b5\" xlink:show=\"new\" xlink:title=\"psysml:a6d1daf9-13da-45ca-a864-cb134e7177b5\" xlink:type=\"simple\"><rect fill=\"#FEFECE\" filter=\"url(#fd3dj5tdzkm6e)\" height=\"45.9375\" id=\"E4\" rx=\"10\" ry=\"10\" style=\"stroke: #A80036; stroke-width: 1.5;\" width=\"109\" x=\"32.5\" y=\"147\"/><ellipse cx=\"47.5\" cy=\"165.9688\" fill=\"#FFA500\" rx=\"11\" ry=\"11\" style=\"stroke: #A80036; stroke-width: 1.0;\"/><path d=\"M43.375,167.8906 L43.375,160.0781 L45.8281,160.0781 L45.8281,168.5156 Q45.8281,169.4375 46.2969,169.9688 Q46.7813,170.5 47.6094,170.5 Q48.4531,170.5 48.9219,169.9688 Q49.3906,169.4375 49.3906,168.5156 L49.3906,160.0781 L51.8438,160.0781 L51.8438,167.8906 Q51.8438,170.4219 50.8438,171.5625 Q49.8438,172.7031 47.6094,172.7031 Q45.3906,172.7031 44.375,171.5625 Q43.375,170.4219 43.375,167.8906 Z \"/><text fill=\"#000000\" font-family=\"sans-serif\" font-size=\"12\" font-style=\"italic\" lengthAdjust=\"spacingAndGlyphs\" textLength=\"53\" x=\"73.5\" y=\"163.1387\">«action»</text><text fill=\"#000000\" font-family=\"sans-serif\" font-size=\"12\" lengthAdjust=\"spacingAndGlyphs\" textLength=\"77\" x=\"61.5\" y=\"177.1074\">start: Action</text><line style=\"stroke: #A80036; stroke-width: 1.5;\" x1=\"33.5\" x2=\"140.5\" y1=\"184.9375\" y2=\"184.9375\"/></a><!--MD5=[270fce915f116d4de14055a7c1d9a0f3]\n",
       "class E5--><a href=\"psysml:60604585-cd78-42b0-92ae-265c1a2862a9\" target=\"_top\" title=\"psysml:60604585-cd78-42b0-92ae-265c1a2862a9\" xlink:actuate=\"onRequest\" xlink:href=\"psysml:60604585-cd78-42b0-92ae-265c1a2862a9\" xlink:show=\"new\" xlink:title=\"psysml:60604585-cd78-42b0-92ae-265c1a2862a9\" xlink:type=\"simple\"><rect fill=\"#FEFECE\" filter=\"url(#fd3dj5tdzkm6e)\" height=\"45.9375\" id=\"E5\" rx=\"10\" ry=\"10\" style=\"stroke: #A80036; stroke-width: 1.5;\" width=\"115\" x=\"176.5\" y=\"147\"/><ellipse cx=\"191.5\" cy=\"165.9688\" fill=\"#FFA500\" rx=\"11\" ry=\"11\" style=\"stroke: #A80036; stroke-width: 1.0;\"/><path d=\"M187.375,167.8906 L187.375,160.0781 L189.8281,160.0781 L189.8281,168.5156 Q189.8281,169.4375 190.2969,169.9688 Q190.7813,170.5 191.6094,170.5 Q192.4531,170.5 192.9219,169.9688 Q193.3906,169.4375 193.3906,168.5156 L193.3906,160.0781 L195.8438,160.0781 L195.8438,167.8906 Q195.8438,170.4219 194.8438,171.5625 Q193.8438,172.7031 191.6094,172.7031 Q189.3906,172.7031 188.375,171.5625 Q187.375,170.4219 187.375,167.8906 Z \"/><text fill=\"#000000\" font-family=\"sans-serif\" font-size=\"12\" font-style=\"italic\" lengthAdjust=\"spacingAndGlyphs\" textLength=\"87\" x=\"203.5\" y=\"163.1387\">«mergeNode»</text><text fill=\"#000000\" font-family=\"sans-serif\" font-size=\"12\" lengthAdjust=\"spacingAndGlyphs\" textLength=\"11\" x=\"241.5\" y=\"177.1074\">m</text><line style=\"stroke: #A80036; stroke-width: 1.5;\" x1=\"177.5\" x2=\"290.5\" y1=\"184.9375\" y2=\"184.9375\"/></a><!--MD5=[60a26617385b1d2d0262a64233df1f8d]\n",
       "class E6--><a href=\"psysml:1a7559c2-685c-4c08-a29a-09c3177cd704\" target=\"_top\" title=\"psysml:1a7559c2-685c-4c08-a29a-09c3177cd704\" xlink:actuate=\"onRequest\" xlink:href=\"psysml:1a7559c2-685c-4c08-a29a-09c3177cd704\" xlink:show=\"new\" xlink:title=\"psysml:1a7559c2-685c-4c08-a29a-09c3177cd704\" xlink:type=\"simple\"><rect fill=\"#FEFECE\" filter=\"url(#fd3dj5tdzkm6e)\" height=\"45.9375\" id=\"E6\" rx=\"10\" ry=\"10\" style=\"stroke: #A80036; stroke-width: 1.5;\" width=\"128\" x=\"327\" y=\"147\"/><ellipse cx=\"342\" cy=\"165.9688\" fill=\"#B6DBBB\" rx=\"11\" ry=\"11\" style=\"stroke: #A80036; stroke-width: 1.0;\"/><path d=\"M337.875,167.8906 L337.875,160.0781 L340.3281,160.0781 L340.3281,168.5156 Q340.3281,169.4375 340.7969,169.9688 Q341.2813,170.5 342.1094,170.5 Q342.9531,170.5 343.4219,169.9688 Q343.8906,169.4375 343.8906,168.5156 L343.8906,160.0781 L346.3438,160.0781 L346.3438,167.8906 Q346.3438,170.4219 345.3438,171.5625 Q344.3438,172.7031 342.1094,172.7031 Q339.8906,172.7031 338.875,171.5625 Q337.875,170.4219 337.875,167.8906 Z \"/><text fill=\"#000000\" font-family=\"sans-serif\" font-size=\"12\" font-style=\"italic\" lengthAdjust=\"spacingAndGlyphs\" textLength=\"100\" x=\"354\" y=\"163.1387\">«accept action»</text><text fill=\"#000000\" font-family=\"sans-serif\" font-size=\"12\" lengthAdjust=\"spacingAndGlyphs\" text-decoration=\"line-through\" textLength=\"51\" x=\"378.5\" y=\"177.1074\">noname</text><line style=\"stroke: #A80036; stroke-width: 1.5;\" x1=\"328\" x2=\"454\" y1=\"184.9375\" y2=\"184.9375\"/></a><!--MD5=[2156ba9850f5573cc1fc38a6a4b2f02b]\n",
       "class E7--><a href=\"psysml:57acc649-2893-4bd5-b427-585e4a8282d2\" target=\"_top\" title=\"psysml:57acc649-2893-4bd5-b427-585e4a8282d2\" xlink:actuate=\"onRequest\" xlink:href=\"psysml:57acc649-2893-4bd5-b427-585e4a8282d2\" xlink:show=\"new\" xlink:title=\"psysml:57acc649-2893-4bd5-b427-585e4a8282d2\" xlink:type=\"simple\"><rect fill=\"#FEFECE\" filter=\"url(#fd3dj5tdzkm6e)\" height=\"45.9375\" id=\"E7\" rx=\"10\" ry=\"10\" style=\"stroke: #A80036; stroke-width: 1.5;\" width=\"116\" x=\"490\" y=\"147\"/><ellipse cx=\"505\" cy=\"165.9688\" fill=\"#B6DBBB\" rx=\"11\" ry=\"11\" style=\"stroke: #A80036; stroke-width: 1.0;\"/><path d=\"M500.875,167.8906 L500.875,160.0781 L503.3281,160.0781 L503.3281,168.5156 Q503.3281,169.4375 503.7969,169.9688 Q504.2813,170.5 505.1094,170.5 Q505.9531,170.5 506.4219,169.9688 Q506.8906,169.4375 506.8906,168.5156 L506.8906,160.0781 L509.3438,160.0781 L509.3438,167.8906 Q509.3438,170.4219 508.3438,171.5625 Q507.3438,172.7031 505.1094,172.7031 Q502.8906,172.7031 501.875,171.5625 Q500.875,170.4219 500.875,167.8906 Z \"/><text fill=\"#000000\" font-family=\"sans-serif\" font-size=\"12\" font-style=\"italic\" lengthAdjust=\"spacingAndGlyphs\" textLength=\"88\" x=\"517\" y=\"163.1387\">«send action»</text><text fill=\"#000000\" font-family=\"sans-serif\" font-size=\"12\" lengthAdjust=\"spacingAndGlyphs\" text-decoration=\"line-through\" textLength=\"51\" x=\"535.5\" y=\"177.1074\">noname</text><line style=\"stroke: #A80036; stroke-width: 1.5;\" x1=\"491\" x2=\"605\" y1=\"184.9375\" y2=\"184.9375\"/></a><!--MD5=[b9389687b975829384b498ac4b7476b2]\n",
       "class E8--><a href=\"psysml:dcda7bbd-01a5-4374-8a97-a16c2625889c\" target=\"_top\" title=\"psysml:dcda7bbd-01a5-4374-8a97-a16c2625889c\" xlink:actuate=\"onRequest\" xlink:href=\"psysml:dcda7bbd-01a5-4374-8a97-a16c2625889c\" xlink:show=\"new\" xlink:title=\"psysml:dcda7bbd-01a5-4374-8a97-a16c2625889c\" xlink:type=\"simple\"><rect fill=\"#FEFECE\" filter=\"url(#fd3dj5tdzkm6e)\" height=\"45.9375\" id=\"E8\" rx=\"10\" ry=\"10\" style=\"stroke: #A80036; stroke-width: 1.5;\" width=\"127\" x=\"641.5\" y=\"147\"/><ellipse cx=\"656.5\" cy=\"165.9688\" fill=\"#FFA500\" rx=\"11\" ry=\"11\" style=\"stroke: #A80036; stroke-width: 1.0;\"/><path d=\"M652.375,167.8906 L652.375,160.0781 L654.8281,160.0781 L654.8281,168.5156 Q654.8281,169.4375 655.2969,169.9688 Q655.7813,170.5 656.6094,170.5 Q657.4531,170.5 657.9219,169.9688 Q658.3906,169.4375 658.3906,168.5156 L658.3906,160.0781 L660.8438,160.0781 L660.8438,167.8906 Q660.8438,170.4219 659.8438,171.5625 Q658.8438,172.7031 656.6094,172.7031 Q654.3906,172.7031 653.375,171.5625 Q652.375,170.4219 652.375,167.8906 Z \"/><text fill=\"#000000\" font-family=\"sans-serif\" font-size=\"12\" font-style=\"italic\" lengthAdjust=\"spacingAndGlyphs\" textLength=\"99\" x=\"668.5\" y=\"163.1387\">«decisionNode»</text><text fill=\"#000000\" font-family=\"sans-serif\" font-size=\"12\" lengthAdjust=\"spacingAndGlyphs\" text-decoration=\"line-through\" textLength=\"51\" x=\"692.5\" y=\"177.1074\">noname</text><line style=\"stroke: #A80036; stroke-width: 1.5;\" x1=\"642.5\" x2=\"767.5\" y1=\"184.9375\" y2=\"184.9375\"/></a><!--MD5=[fd4143e9d270a159db93a4ea2a975926]\n",
       "class E9--><a href=\"psysml:86a7eb05-d2a7-4b0b-add7-eac0d2258e69\" target=\"_top\" title=\"psysml:86a7eb05-d2a7-4b0b-add7-eac0d2258e69\" xlink:actuate=\"onRequest\" xlink:href=\"psysml:86a7eb05-d2a7-4b0b-add7-eac0d2258e69\" xlink:show=\"new\" xlink:title=\"psysml:86a7eb05-d2a7-4b0b-add7-eac0d2258e69\" xlink:type=\"simple\"><rect fill=\"#FEFECE\" filter=\"url(#fd3dj5tdzkm6e)\" height=\"45.9375\" id=\"E9\" style=\"stroke: #A80036; stroke-width: 1.5;\" width=\"105\" x=\"121.5\" y=\"41\"/><ellipse cx=\"136.5\" cy=\"59.9688\" fill=\"#FFFACD\" rx=\"11\" ry=\"11\" style=\"stroke: #A80036; stroke-width: 1.0;\"/><path d=\"M135.4063,60.3438 L135.4063,64.0156 L137.0313,64.0156 Q138.2031,64.0156 138.6719,63.625 Q139.1406,63.2188 139.1406,62.2188 Q139.1406,61.2188 138.6406,60.7813 Q138.1563,60.3438 137.0313,60.3438 L135.4063,60.3438 Z M135.4063,55.5156 L135.4063,58.3906 L137.0313,58.3906 Q137.9531,58.3906 138.3438,58.0625 Q138.75,57.7188 138.75,56.9688 Q138.75,56.2031 138.3438,55.8594 Q137.9375,55.5156 137.0313,55.5156 L135.4063,55.5156 Z M133.0313,53.5625 L137.0313,53.5625 Q139.0938,53.5625 140.1406,54.3438 Q141.1875,55.125 141.1875,56.6875 Q141.1875,57.8906 140.5625,58.5625 Q139.9531,59.2344 138.7656,59.3438 Q140.1875,59.4844 140.9063,60.2969 Q141.625,61.1094 141.625,62.5625 Q141.625,64.3594 140.5469,65.1719 Q139.4688,65.9688 137.0313,65.9688 L133.0313,65.9688 L133.0313,53.5625 Z \"/><text fill=\"#000000\" font-family=\"sans-serif\" font-size=\"12\" font-style=\"italic\" lengthAdjust=\"spacingAndGlyphs\" textLength=\"77\" x=\"148.5\" y=\"57.1387\">«action def»</text><text fill=\"#000000\" font-family=\"sans-serif\" font-size=\"12\" lengthAdjust=\"spacingAndGlyphs\" textLength=\"8\" x=\"183\" y=\"71.1074\">B</text><line style=\"stroke: #A80036; stroke-width: 1.5;\" x1=\"122.5\" x2=\"225.5\" y1=\"78.9375\" y2=\"78.9375\"/></a><!--MD5=[4672eba38e49728da53d11aeb285b987]\n",
       "reverse link E3 to E4--><a href=\"psysml:52dfc4ad-a62d-4432-a88b-57c0a80d621d\" target=\"_top\" title=\"psysml:52dfc4ad-a62d-4432-a88b-57c0a80d621d\" xlink:actuate=\"onRequest\" xlink:href=\"psysml:52dfc4ad-a62d-4432-a88b-57c0a80d621d\" xlink:show=\"new\" xlink:title=\"psysml:52dfc4ad-a62d-4432-a88b-57c0a80d621d\" xlink:type=\"simple\"><path d=\"M337.69,83.24 C282.62,102.08 197.09,131.34 141.56,150.33 \" fill=\"none\" id=\"E3&lt;-E4\" style=\"stroke: #A80036; stroke-width: 1.0;\"/><polygon fill=\"#FFFFFF\" points=\"350.32,78.92,343.3474,77.0807,338.9678,82.8095,345.9404,84.6488,350.32,78.92\" style=\"stroke: #A80036; stroke-width: 1.0;\"/></a><!--MD5=[191cde3d490a3f6d7bb551fe3ddca469]\n",
       "reverse link E3 to E5--><a href=\"psysml:99d9f5a6-f2b4-4631-bd24-2952b87c2311\" target=\"_top\" title=\"psysml:99d9f5a6-f2b4-4631-bd24-2952b87c2311\" xlink:actuate=\"onRequest\" xlink:href=\"psysml:99d9f5a6-f2b4-4631-bd24-2952b87c2311\" xlink:show=\"new\" xlink:title=\"psysml:99d9f5a6-f2b4-4631-bd24-2952b87c2311\" xlink:type=\"simple\"><path d=\"M346.58,94.42 C321.37,111.12 290.34,131.68 267.25,146.98 \" fill=\"none\" id=\"E3&lt;-E5\" style=\"stroke: #A80036; stroke-width: 1.0;\"/><polygon fill=\"#A80036\" points=\"357.7,87.06,350.4889,87.0402,347.6972,93.689,354.9083,93.7088,357.7,87.06\" style=\"stroke: #A80036; stroke-width: 1.0;\"/></a><!--MD5=[1026b4b93417a13aa8999a858998add2]\n",
       "reverse link E3 to E6--><a href=\"psysml:14dfaf6d-db59-420e-a3c6-2cc6bbb5f023\" target=\"_top\" title=\"psysml:14dfaf6d-db59-420e-a3c6-2cc6bbb5f023\" xlink:actuate=\"onRequest\" xlink:href=\"psysml:14dfaf6d-db59-420e-a3c6-2cc6bbb5f023\" xlink:show=\"new\" xlink:title=\"psysml:14dfaf6d-db59-420e-a3c6-2cc6bbb5f023\" xlink:type=\"simple\"><path d=\"M391,100.44 C391,115.87 391,133.47 391,146.98 \" fill=\"none\" id=\"E3&lt;-E6\" style=\"stroke: #A80036; stroke-width: 1.0;\"/><polygon fill=\"#FFFFFF\" points=\"391,87.06,387,93.06,391,99.06,395,93.06,391,87.06\" style=\"stroke: #A80036; stroke-width: 1.0;\"/></a><!--MD5=[3403bfa781cc3da0fd423dbab6f01c63]\n",
       "reverse link E6 to E2--><a href=\"psysml:773d19c1-1d9b-4741-b5ba-dd5a31e080a3\" target=\"_top\" title=\"psysml:773d19c1-1d9b-4741-b5ba-dd5a31e080a3\" xlink:actuate=\"onRequest\" xlink:href=\"psysml:773d19c1-1d9b-4741-b5ba-dd5a31e080a3\" xlink:show=\"new\" xlink:title=\"psysml:773d19c1-1d9b-4741-b5ba-dd5a31e080a3\" xlink:type=\"simple\"><path d=\"M391,206.44 C391,221.87 391,239.47 391,252.98 \" fill=\"none\" id=\"E6&lt;-E2\" style=\"stroke: #A80036; stroke-width: 1.0;\"/><polygon fill=\"#FFFFFF\" points=\"391,193.06,387,199.06,391,205.06,395,199.06,391,193.06\" style=\"stroke: #A80036; stroke-width: 1.0;\"/></a><!--MD5=[85760999379eecfd2565a9fecdca67e4]\n",
       "reverse link E3 to E7--><a href=\"psysml:4bddb34b-31d0-4487-9835-f5e5c1238220\" target=\"_top\" title=\"psysml:4bddb34b-31d0-4487-9835-f5e5c1238220\" xlink:actuate=\"onRequest\" xlink:href=\"psysml:4bddb34b-31d0-4487-9835-f5e5c1238220\" xlink:show=\"new\" xlink:title=\"psysml:4bddb34b-31d0-4487-9835-f5e5c1238220\" xlink:type=\"simple\"><path d=\"M435.42,94.42 C460.63,111.12 491.66,131.68 514.75,146.98 \" fill=\"none\" id=\"E3&lt;-E7\" style=\"stroke: #A80036; stroke-width: 1.0;\"/><polygon fill=\"#FFFFFF\" points=\"424.3,87.06,427.0917,93.7088,434.3028,93.689,431.5111,87.0402,424.3,87.06\" style=\"stroke: #A80036; stroke-width: 1.0;\"/></a><!--MD5=[4cb75b73ec3682b8f7f8edc9cc86126a]\n",
       "reverse link E3 to E8--><a href=\"psysml:010ce356-5f58-462c-8431-75351dc3ac74\" target=\"_top\" title=\"psysml:010ce356-5f58-462c-8431-75351dc3ac74\" xlink:actuate=\"onRequest\" xlink:href=\"psysml:010ce356-5f58-462c-8431-75351dc3ac74\" xlink:show=\"new\" xlink:title=\"psysml:010ce356-5f58-462c-8431-75351dc3ac74\" xlink:type=\"simple\"><path d=\"M444.21,82.62 C498.65,100.65 583.24,128.67 641.23,147.88 \" fill=\"none\" id=\"E3&lt;-E8\" style=\"stroke: #A80036; stroke-width: 1.0;\"/><polygon fill=\"#A80036\" points=\"431.73,78.49,436.169,84.1729,443.1221,82.261,438.683,76.5781,431.73,78.49\" style=\"stroke: #A80036; stroke-width: 1.0;\"/></a><!--MD5=[8a036503cfa2844bd6973b7cc413c2a7]\n",
       "@startuml\r\n",
       " \r\n",
       "package \"ActionTest\" as E1  [[psysml:4a739ce7-b110-4093-8b74-31ee982b1e00 ]]  {\r\n",
       "comp def \"S\" as E2 << <<(D,brown) attribute def>> [[psysml:e3ea157b-753f-4ff0-b9f5-62b19f528d25 ]] {\r\n",
       "}\r\n",
       "comp usage \"a\" as E3 << <<(U,orange) action>> [[psysml:fa9c3421-7722-4415-b8c7-0ea19e95762e ]] {\r\n",
       "}\r\n",
       "comp usage \"start: Action\" as E4 << <<(U,orange) action>> [[psysml:a6d1daf9-13da-45ca-a864-cb134e7177b5 ]] {\r\n",
       "}\r\n",
       "comp usage \"m\" as E5 << <<(U,orange) mergeNode>> [[psysml:60604585-cd78-42b0-92ae-265c1a2862a9 ]] {\r\n",
       "}\r\n",
       "comp usage \"<s>noname</s>\" as E6 << accept action>> [[psysml:1a7559c2-685c-4c08-a29a-09c3177cd704 ]] {\r\n",
       "}\r\n",
       "comp usage \"<s>noname</s>\" as E7 << send action>> [[psysml:57acc649-2893-4bd5-b427-585e4a8282d2 ]] {\r\n",
       "}\r\n",
       "comp usage \"<s>noname</s>\" as E8 << <<(U,orange) decisionNode>> [[psysml:dcda7bbd-01a5-4374-8a97-a16c2625889c ]] {\r\n",
       "}\r\n",
       "comp def \"B\" as E9 << <<(B,lemonchiffon) action def>> [[psysml:86a7eb05-d2a7-4b0b-add7-eac0d2258e69 ]] {\r\n",
       "}\r\n",
       "E3 o- - E4 [[psysml:52dfc4ad-a62d-4432-a88b-57c0a80d621d ]] \r\n",
       "E3 *- - E5 [[psysml:99d9f5a6-f2b4-4631-bd24-2952b87c2311 ]] \r\n",
       "E3 o- - E6 [[psysml:14dfaf6d-db59-420e-a3c6-2cc6bbb5f023 ]] \r\n",
       "E6 o- - E2 [[psysml:773d19c1-1d9b-4741-b5ba-dd5a31e080a3 ]] \r\n",
       "E3 o- - E7 [[psysml:4bddb34b-31d0-4487-9835-f5e5c1238220 ]] \r\n",
       "E3 *- - E8 [[psysml:010ce356-5f58-462c-8431-75351dc3ac74 ]] \r\n",
       "}\r\n",
       "@enduml\r\n",
       "\n",
       "PlantUML version 1.2020.13(Sat Jun 13 12:26:38 UTC 2020)\n",
       "(EPL source distribution)\n",
       "Java Runtime: OpenJDK Runtime Environment\n",
       "JVM: OpenJDK 64-Bit Server VM\n",
       "Default Encoding: UTF-8\n",
       "Language: en\n",
       "Country: null\n",
       "--></g></svg>"
      ]
     },
     "execution_count": 35,
     "metadata": {},
     "output_type": "execute_result"
    }
   ],
   "source": [
    "%viz --style=\"PLANTUML\" --view=\"Sequence\" \"ActionTest\""
   ]
  },
  {
   "cell_type": "code",
   "execution_count": 36,
   "id": "2e892824",
   "metadata": {
    "execution": {
     "iopub.execute_input": "2021-06-30T09:17:44.014719Z",
     "iopub.status.busy": "2021-06-30T09:17:44.014055Z",
     "iopub.status.idle": "2021-06-30T09:17:44.092464Z",
     "shell.execute_reply": "2021-06-30T09:17:44.091257Z"
    }
   },
   "outputs": [
    {
     "data": {
      "image/svg+xml": [
       "<?xml version=\"1.0\" encoding=\"UTF-8\" standalone=\"no\"?><svg xmlns=\"http://www.w3.org/2000/svg\" xmlns:xlink=\"http://www.w3.org/1999/xlink\" contentScriptType=\"application/ecmascript\" contentStyleType=\"text/css\" height=\"684px\" preserveAspectRatio=\"none\" style=\"width:570px;height:684px;\" version=\"1.1\" viewBox=\"0 0 570 684\" width=\"570px\" zoomAndPan=\"magnify\"><defs><filter height=\"300%\" id=\"f13l8pqvqgl1mh\" width=\"300%\" x=\"-1\" y=\"-1\"><feGaussianBlur result=\"blurOut\" stdDeviation=\"2.0\"/><feColorMatrix in=\"blurOut\" result=\"blurOut2\" type=\"matrix\" values=\"0 0 0 0 0 0 0 0 0 0 0 0 0 0 0 0 0 0 .4 0\"/><feOffset dx=\"4.0\" dy=\"4.0\" in=\"blurOut2\" result=\"blurOut3\"/><feBlend in=\"SourceGraphic\" in2=\"blurOut3\" mode=\"normal\"/></filter></defs><g><!--MD5=[fbc87193dbaf4d95561dea2c320d4a47]\n",
       "cluster E1--><a href=\"psysml:4a739ce7-b110-4093-8b74-31ee982b1e00\" target=\"_top\" title=\"psysml:4a739ce7-b110-4093-8b74-31ee982b1e00\" xlink:actuate=\"onRequest\" xlink:href=\"psysml:4a739ce7-b110-4093-8b74-31ee982b1e00\" xlink:show=\"new\" xlink:title=\"psysml:4a739ce7-b110-4093-8b74-31ee982b1e00\" xlink:type=\"simple\"><polygon fill=\"#FFFFFF\" filter=\"url(#f13l8pqvqgl1mh)\" points=\"16,6,107,6,114,28.2969,548,28.2969,548,672,16,672,16,6\" style=\"stroke: #000000; stroke-width: 1.5;\"/><line style=\"stroke: #000000; stroke-width: 1.5;\" x1=\"16\" x2=\"114\" y1=\"28.2969\" y2=\"28.2969\"/><text fill=\"#000000\" font-family=\"sans-serif\" font-size=\"14\" font-weight=\"bold\" lengthAdjust=\"spacingAndGlyphs\" textLength=\"85\" x=\"20\" y=\"20.9951\">ActionTest</text></a><!--MD5=[d5e69f78d87373223dbae638b30a9c99]\n",
       "cluster E3--><a href=\"psysml:fa9c3421-7722-4415-b8c7-0ea19e95762e\" target=\"_top\" title=\"psysml:fa9c3421-7722-4415-b8c7-0ea19e95762e\" xlink:actuate=\"onRequest\" xlink:href=\"psysml:fa9c3421-7722-4415-b8c7-0ea19e95762e\" xlink:show=\"new\" xlink:title=\"psysml:fa9c3421-7722-4415-b8c7-0ea19e95762e\" xlink:type=\"simple\"><rect fill=\"#FFFFFF\" filter=\"url(#f13l8pqvqgl1mh)\" height=\"599\" id=\"E3\" rx=\"10\" ry=\"10\" style=\"stroke: #A80036; stroke-width: 1.5;\" width=\"209\" x=\"315\" y=\"49\"/><rect fill=\"#FEFECE\" height=\"37.9375\" rx=\"10\" ry=\"10\" style=\"stroke: #FEFECE; stroke-width: 1.5;\" width=\"209\" x=\"315\" y=\"49\"/><rect fill=\"#FEFECE\" height=\"10\" style=\"stroke: #FEFECE; stroke-width: 1.5;\" width=\"209\" x=\"315\" y=\"76.9375\"/><rect fill=\"none\" height=\"599\" id=\"E3\" rx=\"10\" ry=\"10\" style=\"stroke: #A80036; stroke-width: 1.5;\" width=\"209\" x=\"315\" y=\"49\"/><text fill=\"#000000\" font-family=\"sans-serif\" font-size=\"12\" font-style=\"italic\" lengthAdjust=\"spacingAndGlyphs\" textLength=\"53\" x=\"393\" y=\"65.1387\">«action»</text><text fill=\"#000000\" font-family=\"sans-serif\" font-size=\"12\" lengthAdjust=\"spacingAndGlyphs\" textLength=\"8\" x=\"415.5\" y=\"79.1074\">a</text><line style=\"stroke: #A80036; stroke-width: 1.0;\" x1=\"315\" x2=\"524\" y1=\"86.9375\" y2=\"86.9375\"/></a><!--MD5=[b4997ac47864f28c2f74865a473b2911]\n",
       "class E2--><a href=\"psysml:e3ea157b-753f-4ff0-b9f5-62b19f528d25\" target=\"_top\" title=\"psysml:e3ea157b-753f-4ff0-b9f5-62b19f528d25\" xlink:actuate=\"onRequest\" xlink:href=\"psysml:e3ea157b-753f-4ff0-b9f5-62b19f528d25\" xlink:show=\"new\" xlink:title=\"psysml:e3ea157b-753f-4ff0-b9f5-62b19f528d25\" xlink:type=\"simple\"><rect fill=\"#FEFECE\" filter=\"url(#f13l8pqvqgl1mh)\" height=\"45.9375\" id=\"E2\" style=\"stroke: #A80036; stroke-width: 1.5;\" width=\"121\" x=\"177.5\" y=\"87\"/><ellipse cx=\"192.5\" cy=\"105.9688\" fill=\"#A52A2A\" rx=\"11\" ry=\"11\" style=\"stroke: #A80036; stroke-width: 1.0;\"/><path d=\"M192.0938,101.7813 L192.0938,109.7656 L192.75,109.7656 Q194.1875,109.7656 194.7969,108.8594 Q195.4219,107.9375 195.4219,105.7656 Q195.4219,103.5938 194.7969,102.6875 Q194.1875,101.7813 192.75,101.7813 L192.0938,101.7813 Z M189.6406,99.5781 L192.2656,99.5781 Q195.2969,99.5781 196.625,101.0313 Q197.9688,102.4688 197.9688,105.7656 Q197.9688,109.0625 196.625,110.5156 Q195.2969,111.9688 192.2656,111.9688 L189.6406,111.9688 L189.6406,99.5781 Z \"/><text fill=\"#000000\" font-family=\"sans-serif\" font-size=\"12\" font-style=\"italic\" lengthAdjust=\"spacingAndGlyphs\" textLength=\"93\" x=\"204.5\" y=\"103.1387\">«attribute def»</text><text fill=\"#000000\" font-family=\"sans-serif\" font-size=\"12\" lengthAdjust=\"spacingAndGlyphs\" textLength=\"8\" x=\"247\" y=\"117.1074\">S</text><line style=\"stroke: #A80036; stroke-width: 1.5;\" x1=\"178.5\" x2=\"297.5\" y1=\"124.9375\" y2=\"124.9375\"/></a><polygon fill=\"#FEFECE\" filter=\"url(#f13l8pqvqgl1mh)\" points=\"472,194,484,206,472,218,460,206,472,194\" style=\"stroke: #A80036; stroke-width: 1.5;\"/><!--MD5=[21dd76c19d33815960c0e92fef8f0eef]\n",
       "entity E5--><a href=\"psysml:1a7559c2-685c-4c08-a29a-09c3177cd704\" target=\"_top\" title=\"psysml:1a7559c2-685c-4c08-a29a-09c3177cd704\" xlink:actuate=\"onRequest\" xlink:href=\"psysml:1a7559c2-685c-4c08-a29a-09c3177cd704\" xlink:show=\"new\" xlink:title=\"psysml:1a7559c2-685c-4c08-a29a-09c3177cd704\" xlink:type=\"simple\"><polygon fill=\"#FEFECE\" filter=\"url(#f13l8pqvqgl1mh)\" points=\"331,279,331,333.5938,471,333.5938,451,306.2969,471,279\" style=\"stroke: #000000; stroke-width: 1.5;\"/><text fill=\"#000000\" font-family=\"sans-serif\" font-size=\"14\" font-style=\"italic\" lengthAdjust=\"spacingAndGlyphs\" textLength=\"111\" x=\"338\" y=\"301.9951\">«accept action»</text><text fill=\"#000000\" font-family=\"sans-serif\" font-size=\"14\" lengthAdjust=\"spacingAndGlyphs\" textLength=\"9\" x=\"389\" y=\"319.292\">S</text></a><!--MD5=[24d87cdf3002d433f401b2a2aa9f9f65]\n",
       "entity E6--><a href=\"psysml:57acc649-2893-4bd5-b427-585e4a8282d2\" target=\"_top\" title=\"psysml:57acc649-2893-4bd5-b427-585e4a8282d2\" xlink:actuate=\"onRequest\" xlink:href=\"psysml:57acc649-2893-4bd5-b427-585e4a8282d2\" xlink:show=\"new\" xlink:title=\"psysml:57acc649-2893-4bd5-b427-585e4a8282d2\" xlink:type=\"simple\"><polygon fill=\"#FEFECE\" filter=\"url(#f13l8pqvqgl1mh)\" points=\"331,411,331,465.5938,439,465.5938,459,438.2969,439,411\" style=\"stroke: #000000; stroke-width: 1.5;\"/><text fill=\"#000000\" font-family=\"sans-serif\" font-size=\"14\" font-style=\"italic\" lengthAdjust=\"spacingAndGlyphs\" textLength=\"99\" x=\"338\" y=\"433.9951\">«send action»</text><text fill=\"#000000\" font-family=\"sans-serif\" font-size=\"14\" lengthAdjust=\"spacingAndGlyphs\" textLength=\"65\" x=\"355\" y=\"451.292\">S() to  B()</text></a><polygon fill=\"#FEFECE\" filter=\"url(#f13l8pqvqgl1mh)\" points=\"470,527,482,539,470,551,458,539,470,527\" style=\"stroke: #A80036; stroke-width: 1.5;\"/><ellipse cx=\"472\" cy=\"110\" fill=\"#000000\" filter=\"url(#f13l8pqvqgl1mh)\" rx=\"10\" ry=\"10\" style=\"stroke: none; stroke-width: 1.0;\"/><ellipse cx=\"470\" cy=\"622\" fill=\"none\" filter=\"url(#f13l8pqvqgl1mh)\" rx=\"10\" ry=\"10\" style=\"stroke: #000000; stroke-width: 1.0;\"/><ellipse cx=\"470.5\" cy=\"622.5\" fill=\"#000000\" rx=\"6\" ry=\"6\" style=\"stroke: none; stroke-width: 1.0;\"/><g id=\"E1.E8\"><a href=\"psysml:86a7eb05-d2a7-4b0b-add7-eac0d2258e69\" target=\"_top\" title=\"psysml:86a7eb05-d2a7-4b0b-add7-eac0d2258e69\" xlink:actuate=\"onRequest\" xlink:href=\"psysml:86a7eb05-d2a7-4b0b-add7-eac0d2258e69\" xlink:show=\"new\" xlink:title=\"psysml:86a7eb05-d2a7-4b0b-add7-eac0d2258e69\" xlink:type=\"simple\"><rect fill=\"#FEFECE\" filter=\"url(#f13l8pqvqgl1mh)\" height=\"42.9375\" id=\"E8\" style=\"stroke: #A80036; stroke-width: 1.5;\" width=\"110\" x=\"32\" y=\"88.5\"/><ellipse cx=\"49.25\" cy=\"107.4688\" fill=\"#FFFACD\" rx=\"11\" ry=\"11\" style=\"stroke: #A80036; stroke-width: 1.0;\"/><path d=\"M48.1563,107.8438 L48.1563,111.5156 L49.7813,111.5156 Q50.9531,111.5156 51.4219,111.125 Q51.8906,110.7188 51.8906,109.7188 Q51.8906,108.7188 51.3906,108.2813 Q50.9063,107.8438 49.7813,107.8438 L48.1563,107.8438 Z M48.1563,103.0156 L48.1563,105.8906 L49.7813,105.8906 Q50.7031,105.8906 51.0938,105.5625 Q51.5,105.2188 51.5,104.4688 Q51.5,103.7031 51.0938,103.3594 Q50.6875,103.0156 49.7813,103.0156 L48.1563,103.0156 Z M45.7813,101.0625 L49.7813,101.0625 Q51.8438,101.0625 52.8906,101.8438 Q53.9375,102.625 53.9375,104.1875 Q53.9375,105.3906 53.3125,106.0625 Q52.7031,106.7344 51.5156,106.8438 Q52.9375,106.9844 53.6563,107.7969 Q54.375,108.6094 54.375,110.0625 Q54.375,111.8594 53.2969,112.6719 Q52.2188,113.4688 49.7813,113.4688 L45.7813,113.4688 L45.7813,101.0625 Z \"/><text fill=\"#000000\" font-family=\"sans-serif\" font-size=\"12\" font-style=\"italic\" lengthAdjust=\"spacingAndGlyphs\" textLength=\"77\" x=\"61.75\" y=\"104.6387\">«action def»</text><text fill=\"#000000\" font-family=\"sans-serif\" font-size=\"12\" lengthAdjust=\"spacingAndGlyphs\" textLength=\"8\" x=\"96.25\" y=\"118.6074\">B</text></a></g><!--MD5=[f47e10efcf9a6752d55dae986d790ed9]\n",
       "link *start*E3 to E4--><a href=\"psysml:3a6c3978-61f5-46d3-ad26-c963b1b56f5b\" target=\"_top\" title=\"psysml:3a6c3978-61f5-46d3-ad26-c963b1b56f5b\" xlink:actuate=\"onRequest\" xlink:href=\"psysml:3a6c3978-61f5-46d3-ad26-c963b1b56f5b\" xlink:show=\"new\" xlink:title=\"psysml:3a6c3978-61f5-46d3-ad26-c963b1b56f5b\" xlink:type=\"simple\"><path d=\"M472,120.01 C472,135.81 472,168.69 472,188.61 \" fill=\"none\" id=\"*start*E3-&gt;E4\" style=\"stroke: #A80036; stroke-width: 1.0;\"/><polygon fill=\"#A80036\" points=\"472,193.85,476,184.85,472,188.85,468,184.85,472,193.85\" style=\"stroke: #A80036; stroke-width: 1.0;\"/></a><!--MD5=[d19f2eb34364d71b67042106d92f540b]\n",
       "link E7 to *end*E3--><a href=\"psysml:36daa16f-4b44-48c5-bcb7-7a401bcea152\" target=\"_top\" title=\"psysml:36daa16f-4b44-48c5-bcb7-7a401bcea152\" xlink:actuate=\"onRequest\" xlink:href=\"psysml:36daa16f-4b44-48c5-bcb7-7a401bcea152\" xlink:show=\"new\" xlink:title=\"psysml:36daa16f-4b44-48c5-bcb7-7a401bcea152\" xlink:type=\"simple\"><path d=\"M470,551.26 C470,565.66 470,590.63 470,606.46 \" fill=\"none\" id=\"E7-&gt;*end*E3\" style=\"stroke: #A80036; stroke-width: 1.0;\"/><polygon fill=\"#A80036\" points=\"470,611.84,474,602.84,470,606.84,466,602.84,470,611.84\" style=\"stroke: #A80036; stroke-width: 1.0;\"/></a><!--MD5=[1b7591eae5389033d8d09a9d6721a717]\n",
       "link E4 to E5--><a href=\"psysml:c56e5692-64fd-4b0b-a986-d866765d0210\" target=\"_top\" title=\"psysml:c56e5692-64fd-4b0b-a986-d866765d0210\" xlink:actuate=\"onRequest\" xlink:href=\"psysml:c56e5692-64fd-4b0b-a986-d866765d0210\" xlink:show=\"new\" xlink:title=\"psysml:c56e5692-64fd-4b0b-a986-d866765d0210\" xlink:type=\"simple\"><path d=\"M467.34,213.46 C458.55,225.66 438.99,252.8 423.37,274.46 \" fill=\"none\" id=\"E4-&gt;E5\" style=\"stroke: #A80036; stroke-width: 1.0;\"/><polygon fill=\"#A80036\" points=\"420.31,278.71,428.8093,273.7339,423.227,274.6491,422.3119,269.0667,420.31,278.71\" style=\"stroke: #A80036; stroke-width: 1.0;\"/></a><!--MD5=[9120cf2e5df3bff93db8f754bbbc09b4]\n",
       "link E5 to E6--><a href=\"psysml:363bb7e0-7ec1-401c-827a-8a23a32c7946\" target=\"_top\" title=\"psysml:363bb7e0-7ec1-401c-827a-8a23a32c7946\" xlink:actuate=\"onRequest\" xlink:href=\"psysml:363bb7e0-7ec1-401c-827a-8a23a32c7946\" xlink:show=\"new\" xlink:title=\"psysml:363bb7e0-7ec1-401c-827a-8a23a32c7946\" xlink:type=\"simple\"><path d=\"M399.77,334.12 C398.81,354.89 397.48,383.8 396.46,405.77 \" fill=\"none\" id=\"E5-&gt;E6\" style=\"stroke: #A80036; stroke-width: 1.0;\"/><polygon fill=\"#A80036\" points=\"396.23,410.91,400.6368,402.1021,396.4583,405.9152,392.6452,401.7367,396.23,410.91\" style=\"stroke: #A80036; stroke-width: 1.0;\"/></a><!--MD5=[02c70b7c851c11e3980e4e90450dc5dd]\n",
       "link E6 to E7--><a href=\"psysml:84082b66-a23a-4779-a592-98d74f10d8d7\" target=\"_top\" title=\"psysml:84082b66-a23a-4779-a592-98d74f10d8d7\" xlink:actuate=\"onRequest\" xlink:href=\"psysml:84082b66-a23a-4779-a592-98d74f10d8d7\" xlink:show=\"new\" xlink:title=\"psysml:84082b66-a23a-4779-a592-98d74f10d8d7\" xlink:type=\"simple\"><path d=\"M415.3,466.16 C430.71,486.4 451.07,513.14 462.09,527.61 \" fill=\"none\" id=\"E6-&gt;E7\" style=\"stroke: #A80036; stroke-width: 1.0;\"/><polygon fill=\"#A80036\" points=\"465.2,531.69,462.9398,522.104,462.1749,527.7089,456.57,526.9441,465.2,531.69\" style=\"stroke: #A80036; stroke-width: 1.0;\"/></a><!--MD5=[6bdd27f9905911a7e892a3dc65cf6b7c]\n",
       "link E7 to E4--><a href=\"psysml:49753952-5c4c-4ef6-ad04-e80bfe7cb929\" target=\"_top\" title=\"psysml:49753952-5c4c-4ef6-ad04-e80bfe7cb929\" xlink:actuate=\"onRequest\" xlink:href=\"psysml:49753952-5c4c-4ef6-ad04-e80bfe7cb929\" xlink:show=\"new\" xlink:title=\"psysml:49753952-5c4c-4ef6-ad04-e80bfe7cb929\" xlink:type=\"simple\"><path d=\"M471.98,528.56 C478.8,494.71 500.32,376.18 489,279 C486.59,258.32 480.42,234.96 476.21,220.61 \" fill=\"none\" id=\"E7-&gt;E4\" style=\"stroke: #A80036; stroke-width: 1.0;\"/><polygon fill=\"#A80036\" points=\"474.76,215.75,473.4935,225.5171,476.1863,220.5423,481.1611,223.2351,474.76,215.75\" style=\"stroke: #A80036; stroke-width: 1.0;\"/><text fill=\"#000000\" font-family=\"sans-serif\" font-size=\"13\" lengthAdjust=\"spacingAndGlyphs\" textLength=\"36\" x=\"492\" y=\"377.0669\">[true]</text></a><!--MD5=[c41a27ae8723b0498f44f715281417ad]\n",
       "@startuml\r\n",
       " \r\n",
       "package \"ActionTest\" as E1  [[psysml:4a739ce7-b110-4093-8b74-31ee982b1e00 ]]  {\r\n",
       "comp def \"S\" as E2 << <<(D,brown) attribute def>> [[psysml:e3ea157b-753f-4ff0-b9f5-62b19f528d25 ]] {\r\n",
       "}\r\n",
       "rec usage \"a\" as E3 << <<(U,orange) action>> [[psysml:fa9c3421-7722-4415-b8c7-0ea19e95762e ]] {\r\n",
       "choice \"m\" as E4  [[psysml:60604585-cd78-42b0-92ae-265c1a2862a9 ]] \r\n",
       "accept \" S\" as E5 << accept action>> [[psysml:1a7559c2-685c-4c08-a29a-09c3177cd704 ]] \r\n",
       "send \" S() to  B()\" as E6 << send action>> [[psysml:57acc649-2893-4bd5-b427-585e4a8282d2 ]] \r\n",
       "choice \"noname\" as E7  [[psysml:dcda7bbd-01a5-4374-8a97-a16c2625889c ]] \r\n",
       "[*] - -> E4 [[psysml:3a6c3978-61f5-46d3-ad26-c963b1b56f5b ]] \r\n",
       "E7  - -> [*] [[psysml:36daa16f-4b44-48c5-bcb7-7a401bcea152 ]] \r\n",
       "}\r\n",
       "\r\n",
       "rec def \"B\" as E8 << <<(B,lemonchiffon) action def>> [[psysml:86a7eb05-d2a7-4b0b-add7-eac0d2258e69 ]] {\r\n",
       "}\r\n",
       "\r\n",
       "E4 - -> E5 [[psysml:c56e5692-64fd-4b0b-a986-d866765d0210 ]] \r\n",
       "E5 - -> E6 [[psysml:363bb7e0-7ec1-401c-827a-8a23a32c7946 ]] \r\n",
       "E6 - -> E7 [[psysml:84082b66-a23a-4779-a592-98d74f10d8d7 ]] \r\n",
       "E7  - -> E4 [[psysml:49753952-5c4c-4ef6-ad04-e80bfe7cb929 ]] : [true]\r\n",
       "}\r\n",
       "@enduml\r\n",
       "\n",
       "PlantUML version 1.2020.13(Sat Jun 13 12:26:38 UTC 2020)\n",
       "(EPL source distribution)\n",
       "Java Runtime: OpenJDK Runtime Environment\n",
       "JVM: OpenJDK 64-Bit Server VM\n",
       "Default Encoding: UTF-8\n",
       "Language: en\n",
       "Country: null\n",
       "--></g></svg>"
      ]
     },
     "execution_count": 36,
     "metadata": {},
     "output_type": "execute_result"
    }
   ],
   "source": [
    "%viz --style=\"PLANTUML\" --view=\"MIXED\" \"ActionTest\""
   ]
  },
  {
   "cell_type": "code",
   "execution_count": 37,
   "id": "32f59738",
   "metadata": {
    "execution": {
     "iopub.execute_input": "2021-06-30T09:17:44.143083Z",
     "iopub.status.busy": "2021-06-30T09:17:44.142003Z",
     "iopub.status.idle": "2021-06-30T09:17:44.213596Z",
     "shell.execute_reply": "2021-06-30T09:17:44.209533Z"
    }
   },
   "outputs": [
    {
     "data": {
      "image/svg+xml": [
       "<?xml version=\"1.0\" encoding=\"UTF-8\" standalone=\"no\"?><svg xmlns=\"http://www.w3.org/2000/svg\" xmlns:xlink=\"http://www.w3.org/1999/xlink\" contentScriptType=\"application/ecmascript\" contentStyleType=\"text/css\" height=\"684px\" preserveAspectRatio=\"none\" style=\"width:518px;height:684px;\" version=\"1.1\" viewBox=\"0 0 518 684\" width=\"518px\" zoomAndPan=\"magnify\"><defs/><g><!--MD5=[fbc87193dbaf4d95561dea2c320d4a47]\n",
       "cluster E1--><a href=\"psysml:4a739ce7-b110-4093-8b74-31ee982b1e00\" target=\"_top\" title=\"psysml:4a739ce7-b110-4093-8b74-31ee982b1e00\" xlink:actuate=\"onRequest\" xlink:href=\"psysml:4a739ce7-b110-4093-8b74-31ee982b1e00\" xlink:show=\"new\" xlink:title=\"psysml:4a739ce7-b110-4093-8b74-31ee982b1e00\" xlink:type=\"simple\"><polygon fill=\"#FFFFFF\" points=\"16,6,107,6,114,28.2969,496,28.2969,496,672,16,672,16,6\" style=\"stroke: #000000; stroke-width: 1.5;\"/><line style=\"stroke: #000000; stroke-width: 1.5;\" x1=\"16\" x2=\"114\" y1=\"28.2969\" y2=\"28.2969\"/><text fill=\"#000000\" font-family=\"sans-serif\" font-size=\"14\" font-weight=\"bold\" lengthAdjust=\"spacingAndGlyphs\" textLength=\"85\" x=\"20\" y=\"20.9951\">ActionTest</text></a><!--MD5=[d5e69f78d87373223dbae638b30a9c99]\n",
       "cluster E3--><a href=\"psysml:fa9c3421-7722-4415-b8c7-0ea19e95762e\" target=\"_top\" title=\"psysml:fa9c3421-7722-4415-b8c7-0ea19e95762e\" xlink:actuate=\"onRequest\" xlink:href=\"psysml:fa9c3421-7722-4415-b8c7-0ea19e95762e\" xlink:show=\"new\" xlink:title=\"psysml:fa9c3421-7722-4415-b8c7-0ea19e95762e\" xlink:type=\"simple\"><rect fill=\"#FFFFFF\" height=\"599\" id=\"E3\" rx=\"10\" ry=\"10\" style=\"stroke: #383838; stroke-width: 1.5;\" width=\"209\" x=\"263\" y=\"49\"/><rect fill=\"#F8F8F8\" height=\"37.9375\" rx=\"10\" ry=\"10\" style=\"stroke: #F8F8F8; stroke-width: 1.5;\" width=\"209\" x=\"263\" y=\"49\"/><rect fill=\"#F8F8F8\" height=\"10\" style=\"stroke: #F8F8F8; stroke-width: 1.5;\" width=\"209\" x=\"263\" y=\"76.9375\"/><rect fill=\"none\" height=\"599\" id=\"E3\" rx=\"10\" ry=\"10\" style=\"stroke: #383838; stroke-width: 1.5;\" width=\"209\" x=\"263\" y=\"49\"/><text fill=\"#000000\" font-family=\"sans-serif\" font-size=\"12\" font-style=\"italic\" lengthAdjust=\"spacingAndGlyphs\" textLength=\"53\" x=\"341\" y=\"65.1387\">«action»</text><text fill=\"#000000\" font-family=\"sans-serif\" font-size=\"12\" lengthAdjust=\"spacingAndGlyphs\" textLength=\"8\" x=\"363.5\" y=\"79.1074\">a</text><line style=\"stroke: #383838; stroke-width: 1.0;\" x1=\"263\" x2=\"472\" y1=\"86.9375\" y2=\"86.9375\"/></a><!--MD5=[b4997ac47864f28c2f74865a473b2911]\n",
       "class E2--><a href=\"psysml:e3ea157b-753f-4ff0-b9f5-62b19f528d25\" target=\"_top\" title=\"psysml:e3ea157b-753f-4ff0-b9f5-62b19f528d25\" xlink:actuate=\"onRequest\" xlink:href=\"psysml:e3ea157b-753f-4ff0-b9f5-62b19f528d25\" xlink:show=\"new\" xlink:title=\"psysml:e3ea157b-753f-4ff0-b9f5-62b19f528d25\" xlink:type=\"simple\"><rect fill=\"#FFFFFF\" height=\"45.9375\" id=\"E2\" style=\"stroke: #383838; stroke-width: 1.5;\" width=\"95\" x=\"151.5\" y=\"87\"/><text fill=\"#000000\" font-family=\"sans-serif\" font-size=\"12\" font-style=\"italic\" lengthAdjust=\"spacingAndGlyphs\" textLength=\"93\" x=\"152.5\" y=\"103.1387\">«attribute def»</text><text fill=\"#000000\" font-family=\"sans-serif\" font-size=\"12\" lengthAdjust=\"spacingAndGlyphs\" textLength=\"8\" x=\"195\" y=\"117.1074\">S</text><line style=\"stroke: #383838; stroke-width: 1.5;\" x1=\"152.5\" x2=\"245.5\" y1=\"124.9375\" y2=\"124.9375\"/></a><polygon fill=\"#F8F8F8\" points=\"420,194,432,206,420,218,408,206,420,194\" style=\"stroke: #383838; stroke-width: 1.5;\"/><!--MD5=[21dd76c19d33815960c0e92fef8f0eef]\n",
       "entity E5--><a href=\"psysml:1a7559c2-685c-4c08-a29a-09c3177cd704\" target=\"_top\" title=\"psysml:1a7559c2-685c-4c08-a29a-09c3177cd704\" xlink:actuate=\"onRequest\" xlink:href=\"psysml:1a7559c2-685c-4c08-a29a-09c3177cd704\" xlink:show=\"new\" xlink:title=\"psysml:1a7559c2-685c-4c08-a29a-09c3177cd704\" xlink:type=\"simple\"><polygon fill=\"#F8F8F8\" points=\"279,279,279,333.5938,419,333.5938,399,306.2969,419,279\" style=\"stroke: #000000; stroke-width: 1.5;\"/><text fill=\"#000000\" font-family=\"sans-serif\" font-size=\"14\" font-style=\"italic\" lengthAdjust=\"spacingAndGlyphs\" textLength=\"111\" x=\"286\" y=\"301.9951\">«accept action»</text><text fill=\"#000000\" font-family=\"sans-serif\" font-size=\"14\" lengthAdjust=\"spacingAndGlyphs\" textLength=\"9\" x=\"337\" y=\"319.292\">S</text></a><!--MD5=[24d87cdf3002d433f401b2a2aa9f9f65]\n",
       "entity E6--><a href=\"psysml:57acc649-2893-4bd5-b427-585e4a8282d2\" target=\"_top\" title=\"psysml:57acc649-2893-4bd5-b427-585e4a8282d2\" xlink:actuate=\"onRequest\" xlink:href=\"psysml:57acc649-2893-4bd5-b427-585e4a8282d2\" xlink:show=\"new\" xlink:title=\"psysml:57acc649-2893-4bd5-b427-585e4a8282d2\" xlink:type=\"simple\"><polygon fill=\"#F8F8F8\" points=\"279,411,279,465.5938,387,465.5938,407,438.2969,387,411\" style=\"stroke: #000000; stroke-width: 1.5;\"/><text fill=\"#000000\" font-family=\"sans-serif\" font-size=\"14\" font-style=\"italic\" lengthAdjust=\"spacingAndGlyphs\" textLength=\"99\" x=\"286\" y=\"433.9951\">«send action»</text><text fill=\"#000000\" font-family=\"sans-serif\" font-size=\"14\" lengthAdjust=\"spacingAndGlyphs\" textLength=\"65\" x=\"303\" y=\"451.292\">S() to  B()</text></a><polygon fill=\"#F8F8F8\" points=\"418,527,430,539,418,551,406,539,418,527\" style=\"stroke: #383838; stroke-width: 1.5;\"/><ellipse cx=\"420\" cy=\"110\" fill=\"#000000\" rx=\"10\" ry=\"10\" style=\"stroke: none; stroke-width: 1.0;\"/><ellipse cx=\"418\" cy=\"622\" fill=\"none\" rx=\"10\" ry=\"10\" style=\"stroke: #000000; stroke-width: 1.0;\"/><ellipse cx=\"418.5\" cy=\"622.5\" fill=\"#000000\" rx=\"6\" ry=\"6\" style=\"stroke: none; stroke-width: 1.0;\"/><g id=\"E1.E8\"><a href=\"psysml:86a7eb05-d2a7-4b0b-add7-eac0d2258e69\" target=\"_top\" title=\"psysml:86a7eb05-d2a7-4b0b-add7-eac0d2258e69\" xlink:actuate=\"onRequest\" xlink:href=\"psysml:86a7eb05-d2a7-4b0b-add7-eac0d2258e69\" xlink:show=\"new\" xlink:title=\"psysml:86a7eb05-d2a7-4b0b-add7-eac0d2258e69\" xlink:type=\"simple\"><rect fill=\"#FFFFFF\" height=\"42.9375\" id=\"E8\" style=\"stroke: #383838; stroke-width: 1.5;\" width=\"84\" x=\"32\" y=\"88.5\"/><rect fill=\"#F8F8F8\" height=\"37.9375\" style=\"stroke: #383838; stroke-width: 1.5;\" width=\"84\" x=\"32\" y=\"88.5\"/><text fill=\"#000000\" font-family=\"sans-serif\" font-size=\"12\" font-style=\"italic\" lengthAdjust=\"spacingAndGlyphs\" textLength=\"77\" x=\"35.5\" y=\"104.6387\">«action def»</text><text fill=\"#000000\" font-family=\"sans-serif\" font-size=\"12\" lengthAdjust=\"spacingAndGlyphs\" textLength=\"8\" x=\"70\" y=\"118.6074\">B</text></a></g><!--MD5=[f47e10efcf9a6752d55dae986d790ed9]\n",
       "link *start*E3 to E4--><a href=\"psysml:3a6c3978-61f5-46d3-ad26-c963b1b56f5b\" target=\"_top\" title=\"psysml:3a6c3978-61f5-46d3-ad26-c963b1b56f5b\" xlink:actuate=\"onRequest\" xlink:href=\"psysml:3a6c3978-61f5-46d3-ad26-c963b1b56f5b\" xlink:show=\"new\" xlink:title=\"psysml:3a6c3978-61f5-46d3-ad26-c963b1b56f5b\" xlink:type=\"simple\"><path d=\"M420,120.01 C420,135.81 420,168.69 420,188.61 \" fill=\"none\" id=\"*start*E3-&gt;E4\" style=\"stroke: #383838; stroke-width: 1.0;\"/><polygon fill=\"#383838\" points=\"420,193.85,424,184.85,420,188.85,416,184.85,420,193.85\" style=\"stroke: #383838; stroke-width: 1.0;\"/></a><!--MD5=[d19f2eb34364d71b67042106d92f540b]\n",
       "link E7 to *end*E3--><a href=\"psysml:36daa16f-4b44-48c5-bcb7-7a401bcea152\" target=\"_top\" title=\"psysml:36daa16f-4b44-48c5-bcb7-7a401bcea152\" xlink:actuate=\"onRequest\" xlink:href=\"psysml:36daa16f-4b44-48c5-bcb7-7a401bcea152\" xlink:show=\"new\" xlink:title=\"psysml:36daa16f-4b44-48c5-bcb7-7a401bcea152\" xlink:type=\"simple\"><path d=\"M418,551.26 C418,565.66 418,590.63 418,606.46 \" fill=\"none\" id=\"E7-&gt;*end*E3\" style=\"stroke: #383838; stroke-width: 1.0;\"/><polygon fill=\"#383838\" points=\"418,611.84,422,602.84,418,606.84,414,602.84,418,611.84\" style=\"stroke: #383838; stroke-width: 1.0;\"/></a><!--MD5=[1b7591eae5389033d8d09a9d6721a717]\n",
       "link E4 to E5--><a href=\"psysml:c56e5692-64fd-4b0b-a986-d866765d0210\" target=\"_top\" title=\"psysml:c56e5692-64fd-4b0b-a986-d866765d0210\" xlink:actuate=\"onRequest\" xlink:href=\"psysml:c56e5692-64fd-4b0b-a986-d866765d0210\" xlink:show=\"new\" xlink:title=\"psysml:c56e5692-64fd-4b0b-a986-d866765d0210\" xlink:type=\"simple\"><path d=\"M415.34,213.46 C406.55,225.66 386.99,252.8 371.37,274.46 \" fill=\"none\" id=\"E4-&gt;E5\" style=\"stroke: #383838; stroke-width: 1.0;\"/><polygon fill=\"#383838\" points=\"368.31,278.71,376.8093,273.7339,371.227,274.6491,370.3119,269.0667,368.31,278.71\" style=\"stroke: #383838; stroke-width: 1.0;\"/></a><!--MD5=[9120cf2e5df3bff93db8f754bbbc09b4]\n",
       "link E5 to E6--><a href=\"psysml:363bb7e0-7ec1-401c-827a-8a23a32c7946\" target=\"_top\" title=\"psysml:363bb7e0-7ec1-401c-827a-8a23a32c7946\" xlink:actuate=\"onRequest\" xlink:href=\"psysml:363bb7e0-7ec1-401c-827a-8a23a32c7946\" xlink:show=\"new\" xlink:title=\"psysml:363bb7e0-7ec1-401c-827a-8a23a32c7946\" xlink:type=\"simple\"><path d=\"M347.77,334.12 C346.81,354.89 345.48,383.8 344.46,405.77 \" fill=\"none\" id=\"E5-&gt;E6\" style=\"stroke: #383838; stroke-width: 1.0;\"/><polygon fill=\"#383838\" points=\"344.23,410.91,348.6368,402.1021,344.4583,405.9152,340.6452,401.7367,344.23,410.91\" style=\"stroke: #383838; stroke-width: 1.0;\"/></a><!--MD5=[02c70b7c851c11e3980e4e90450dc5dd]\n",
       "link E6 to E7--><a href=\"psysml:84082b66-a23a-4779-a592-98d74f10d8d7\" target=\"_top\" title=\"psysml:84082b66-a23a-4779-a592-98d74f10d8d7\" xlink:actuate=\"onRequest\" xlink:href=\"psysml:84082b66-a23a-4779-a592-98d74f10d8d7\" xlink:show=\"new\" xlink:title=\"psysml:84082b66-a23a-4779-a592-98d74f10d8d7\" xlink:type=\"simple\"><path d=\"M363.3,466.16 C378.71,486.4 399.07,513.14 410.09,527.61 \" fill=\"none\" id=\"E6-&gt;E7\" style=\"stroke: #383838; stroke-width: 1.0;\"/><polygon fill=\"#383838\" points=\"413.2,531.69,410.9398,522.104,410.1749,527.7089,404.57,526.9441,413.2,531.69\" style=\"stroke: #383838; stroke-width: 1.0;\"/></a><!--MD5=[6bdd27f9905911a7e892a3dc65cf6b7c]\n",
       "link E7 to E4--><a href=\"psysml:49753952-5c4c-4ef6-ad04-e80bfe7cb929\" target=\"_top\" title=\"psysml:49753952-5c4c-4ef6-ad04-e80bfe7cb929\" xlink:actuate=\"onRequest\" xlink:href=\"psysml:49753952-5c4c-4ef6-ad04-e80bfe7cb929\" xlink:show=\"new\" xlink:title=\"psysml:49753952-5c4c-4ef6-ad04-e80bfe7cb929\" xlink:type=\"simple\"><path d=\"M419.98,528.56 C426.8,494.71 448.32,376.18 437,279 C434.59,258.32 428.42,234.96 424.21,220.61 \" fill=\"none\" id=\"E7-&gt;E4\" style=\"stroke: #383838; stroke-width: 1.0;\"/><polygon fill=\"#383838\" points=\"422.76,215.75,421.4935,225.5171,424.1863,220.5423,429.1611,223.2351,422.76,215.75\" style=\"stroke: #383838; stroke-width: 1.0;\"/><text fill=\"#000000\" font-family=\"sans-serif\" font-size=\"13\" lengthAdjust=\"spacingAndGlyphs\" textLength=\"36\" x=\"440\" y=\"377.0669\">[true]</text></a><!--MD5=[3d06df4976ee8ad30ad96b31b392326a]\n",
       "@startuml\r\n",
       "skinparam monochrome true\r\n",
       "skinparam classbackgroundcolor white\r\n",
       "skinparam shadowing false\r\n",
       "skinparam wrapWidth 300\r\n",
       "hide circle\r\n",
       "\r\n",
       "package \"ActionTest\" as E1  [[psysml:4a739ce7-b110-4093-8b74-31ee982b1e00 ]]  {\r\n",
       "comp def \"S\" as E2  <<(T,blue) attribute def>> [[psysml:e3ea157b-753f-4ff0-b9f5-62b19f528d25 ]] {\r\n",
       "}\r\n",
       "rec usage \"a\" as E3  <<(T,blue) action>> [[psysml:fa9c3421-7722-4415-b8c7-0ea19e95762e ]] {\r\n",
       "choice \"m\" as E4  [[psysml:60604585-cd78-42b0-92ae-265c1a2862a9 ]] \r\n",
       "accept \" S\" as E5 << accept action>> [[psysml:1a7559c2-685c-4c08-a29a-09c3177cd704 ]] \r\n",
       "send \" S() to  B()\" as E6 << send action>> [[psysml:57acc649-2893-4bd5-b427-585e4a8282d2 ]] \r\n",
       "choice \"noname\" as E7  [[psysml:dcda7bbd-01a5-4374-8a97-a16c2625889c ]] \r\n",
       "[*] - -> E4 [[psysml:3a6c3978-61f5-46d3-ad26-c963b1b56f5b ]] \r\n",
       "E7  - -> [*] [[psysml:36daa16f-4b44-48c5-bcb7-7a401bcea152 ]] \r\n",
       "}\r\n",
       "\r\n",
       "rec def \"B\" as E8  <<(T,blue) action def>> [[psysml:86a7eb05-d2a7-4b0b-add7-eac0d2258e69 ]] {\r\n",
       "}\r\n",
       "\r\n",
       "E4 - -> E5 [[psysml:c56e5692-64fd-4b0b-a986-d866765d0210 ]] \r\n",
       "E5 - -> E6 [[psysml:363bb7e0-7ec1-401c-827a-8a23a32c7946 ]] \r\n",
       "E6 - -> E7 [[psysml:84082b66-a23a-4779-a592-98d74f10d8d7 ]] \r\n",
       "E7  - -> E4 [[psysml:49753952-5c4c-4ef6-ad04-e80bfe7cb929 ]] : [true]\r\n",
       "}\r\n",
       "@enduml\r\n",
       "\n",
       "PlantUML version 1.2020.13(Sat Jun 13 12:26:38 UTC 2020)\n",
       "(EPL source distribution)\n",
       "Java Runtime: OpenJDK Runtime Environment\n",
       "JVM: OpenJDK 64-Bit Server VM\n",
       "Default Encoding: UTF-8\n",
       "Language: en\n",
       "Country: null\n",
       "--></g></svg>"
      ]
     },
     "execution_count": 37,
     "metadata": {},
     "output_type": "execute_result"
    }
   ],
   "source": [
    "%viz --style=\"DEFAULT\" --view=\"Default\" \"ActionTest\""
   ]
  },
  {
   "cell_type": "code",
   "execution_count": 38,
   "id": "de10ee1d",
   "metadata": {
    "execution": {
     "iopub.execute_input": "2021-06-30T09:17:44.263196Z",
     "iopub.status.busy": "2021-06-30T09:17:44.262767Z",
     "iopub.status.idle": "2021-06-30T09:17:44.321638Z",
     "shell.execute_reply": "2021-06-30T09:17:44.321069Z"
    }
   },
   "outputs": [
    {
     "data": {
      "image/svg+xml": [
       "<?xml version=\"1.0\" encoding=\"UTF-8\" standalone=\"no\"?><svg xmlns=\"http://www.w3.org/2000/svg\" xmlns:xlink=\"http://www.w3.org/1999/xlink\" contentScriptType=\"application/ecmascript\" contentStyleType=\"text/css\" height=\"327px\" preserveAspectRatio=\"none\" style=\"width:677px;height:327px;\" version=\"1.1\" viewBox=\"0 0 677 327\" width=\"677px\" zoomAndPan=\"magnify\"><defs/><g><!--MD5=[fbc87193dbaf4d95561dea2c320d4a47]\n",
       "cluster E1--><a href=\"psysml:4a739ce7-b110-4093-8b74-31ee982b1e00\" target=\"_top\" title=\"psysml:4a739ce7-b110-4093-8b74-31ee982b1e00\" xlink:actuate=\"onRequest\" xlink:href=\"psysml:4a739ce7-b110-4093-8b74-31ee982b1e00\" xlink:show=\"new\" xlink:title=\"psysml:4a739ce7-b110-4093-8b74-31ee982b1e00\" xlink:type=\"simple\"><polygon fill=\"#FFFFFF\" points=\"16,6,107,6,114,28.2969,655,28.2969,655,315,16,315,16,6\" style=\"stroke: #000000; stroke-width: 1.5;\"/><line style=\"stroke: #000000; stroke-width: 1.5;\" x1=\"16\" x2=\"114\" y1=\"28.2969\" y2=\"28.2969\"/><text fill=\"#000000\" font-family=\"sans-serif\" font-size=\"14\" font-weight=\"bold\" lengthAdjust=\"spacingAndGlyphs\" textLength=\"85\" x=\"20\" y=\"20.9951\">ActionTest</text></a><!--MD5=[b4997ac47864f28c2f74865a473b2911]\n",
       "class E2--><a href=\"psysml:e3ea157b-753f-4ff0-b9f5-62b19f528d25\" target=\"_top\" title=\"psysml:e3ea157b-753f-4ff0-b9f5-62b19f528d25\" xlink:actuate=\"onRequest\" xlink:href=\"psysml:e3ea157b-753f-4ff0-b9f5-62b19f528d25\" xlink:show=\"new\" xlink:title=\"psysml:e3ea157b-753f-4ff0-b9f5-62b19f528d25\" xlink:type=\"simple\"><rect fill=\"#FFFFFF\" height=\"45.9375\" id=\"E2\" style=\"stroke: #383838; stroke-width: 1.5;\" width=\"95\" x=\"278.5\" y=\"253\"/><text fill=\"#000000\" font-family=\"sans-serif\" font-size=\"12\" font-style=\"italic\" lengthAdjust=\"spacingAndGlyphs\" textLength=\"93\" x=\"279.5\" y=\"269.1387\">«attribute def»</text><text fill=\"#000000\" font-family=\"sans-serif\" font-size=\"12\" lengthAdjust=\"spacingAndGlyphs\" textLength=\"8\" x=\"322\" y=\"283.1074\">S</text><line style=\"stroke: #383838; stroke-width: 1.5;\" x1=\"279.5\" x2=\"372.5\" y1=\"290.9375\" y2=\"290.9375\"/></a><!--MD5=[09b614a08d8cba4a07c9adeb5e0fee81]\n",
       "class E3--><a href=\"psysml:fa9c3421-7722-4415-b8c7-0ea19e95762e\" target=\"_top\" title=\"psysml:fa9c3421-7722-4415-b8c7-0ea19e95762e\" xlink:actuate=\"onRequest\" xlink:href=\"psysml:fa9c3421-7722-4415-b8c7-0ea19e95762e\" xlink:show=\"new\" xlink:title=\"psysml:fa9c3421-7722-4415-b8c7-0ea19e95762e\" xlink:type=\"simple\"><rect fill=\"#FFFFFF\" height=\"45.9375\" id=\"E3\" rx=\"10\" ry=\"10\" style=\"stroke: #383838; stroke-width: 1.5;\" width=\"55\" x=\"298.5\" y=\"41\"/><text fill=\"#000000\" font-family=\"sans-serif\" font-size=\"12\" font-style=\"italic\" lengthAdjust=\"spacingAndGlyphs\" textLength=\"53\" x=\"299.5\" y=\"57.1387\">«action»</text><text fill=\"#000000\" font-family=\"sans-serif\" font-size=\"12\" lengthAdjust=\"spacingAndGlyphs\" textLength=\"8\" x=\"322\" y=\"71.1074\">a</text><line style=\"stroke: #383838; stroke-width: 1.5;\" x1=\"299.5\" x2=\"352.5\" y1=\"78.9375\" y2=\"78.9375\"/></a><!--MD5=[ebbe1d658d1005bcc118a6aa81145e00]\n",
       "class E4--><a href=\"psysml:a6d1daf9-13da-45ca-a864-cb134e7177b5\" target=\"_top\" title=\"psysml:a6d1daf9-13da-45ca-a864-cb134e7177b5\" xlink:actuate=\"onRequest\" xlink:href=\"psysml:a6d1daf9-13da-45ca-a864-cb134e7177b5\" xlink:show=\"new\" xlink:title=\"psysml:a6d1daf9-13da-45ca-a864-cb134e7177b5\" xlink:type=\"simple\"><rect fill=\"#FFFFFF\" height=\"45.9375\" id=\"E4\" rx=\"10\" ry=\"10\" style=\"stroke: #383838; stroke-width: 1.5;\" width=\"83\" x=\"32.5\" y=\"147\"/><text fill=\"#000000\" font-family=\"sans-serif\" font-size=\"12\" font-style=\"italic\" lengthAdjust=\"spacingAndGlyphs\" textLength=\"53\" x=\"47.5\" y=\"163.1387\">«action»</text><text fill=\"#000000\" font-family=\"sans-serif\" font-size=\"12\" lengthAdjust=\"spacingAndGlyphs\" textLength=\"77\" x=\"35.5\" y=\"177.1074\">start: Action</text><line style=\"stroke: #383838; stroke-width: 1.5;\" x1=\"33.5\" x2=\"114.5\" y1=\"184.9375\" y2=\"184.9375\"/></a><!--MD5=[270fce915f116d4de14055a7c1d9a0f3]\n",
       "class E5--><a href=\"psysml:60604585-cd78-42b0-92ae-265c1a2862a9\" target=\"_top\" title=\"psysml:60604585-cd78-42b0-92ae-265c1a2862a9\" xlink:actuate=\"onRequest\" xlink:href=\"psysml:60604585-cd78-42b0-92ae-265c1a2862a9\" xlink:show=\"new\" xlink:title=\"psysml:60604585-cd78-42b0-92ae-265c1a2862a9\" xlink:type=\"simple\"><rect fill=\"#FFFFFF\" height=\"45.9375\" id=\"E5\" rx=\"10\" ry=\"10\" style=\"stroke: #383838; stroke-width: 1.5;\" width=\"89\" x=\"150.5\" y=\"147\"/><text fill=\"#000000\" font-family=\"sans-serif\" font-size=\"12\" font-style=\"italic\" lengthAdjust=\"spacingAndGlyphs\" textLength=\"87\" x=\"151.5\" y=\"163.1387\">«mergeNode»</text><text fill=\"#000000\" font-family=\"sans-serif\" font-size=\"12\" lengthAdjust=\"spacingAndGlyphs\" textLength=\"11\" x=\"189.5\" y=\"177.1074\">m</text><line style=\"stroke: #383838; stroke-width: 1.5;\" x1=\"151.5\" x2=\"238.5\" y1=\"184.9375\" y2=\"184.9375\"/></a><!--MD5=[60a26617385b1d2d0262a64233df1f8d]\n",
       "class E6--><a href=\"psysml:1a7559c2-685c-4c08-a29a-09c3177cd704\" target=\"_top\" title=\"psysml:1a7559c2-685c-4c08-a29a-09c3177cd704\" xlink:actuate=\"onRequest\" xlink:href=\"psysml:1a7559c2-685c-4c08-a29a-09c3177cd704\" xlink:show=\"new\" xlink:title=\"psysml:1a7559c2-685c-4c08-a29a-09c3177cd704\" xlink:type=\"simple\"><rect fill=\"#FFFFFF\" height=\"45.9375\" id=\"E6\" rx=\"10\" ry=\"10\" style=\"stroke: #383838; stroke-width: 1.5;\" width=\"102\" x=\"275\" y=\"147\"/><text fill=\"#000000\" font-family=\"sans-serif\" font-size=\"12\" font-style=\"italic\" lengthAdjust=\"spacingAndGlyphs\" textLength=\"100\" x=\"276\" y=\"163.1387\">«accept action»</text><text fill=\"#000000\" font-family=\"sans-serif\" font-size=\"12\" lengthAdjust=\"spacingAndGlyphs\" text-decoration=\"line-through\" textLength=\"51\" x=\"300.5\" y=\"177.1074\">noname</text><line style=\"stroke: #383838; stroke-width: 1.5;\" x1=\"276\" x2=\"376\" y1=\"184.9375\" y2=\"184.9375\"/></a><!--MD5=[2156ba9850f5573cc1fc38a6a4b2f02b]\n",
       "class E7--><a href=\"psysml:57acc649-2893-4bd5-b427-585e4a8282d2\" target=\"_top\" title=\"psysml:57acc649-2893-4bd5-b427-585e4a8282d2\" xlink:actuate=\"onRequest\" xlink:href=\"psysml:57acc649-2893-4bd5-b427-585e4a8282d2\" xlink:show=\"new\" xlink:title=\"psysml:57acc649-2893-4bd5-b427-585e4a8282d2\" xlink:type=\"simple\"><rect fill=\"#FFFFFF\" height=\"45.9375\" id=\"E7\" rx=\"10\" ry=\"10\" style=\"stroke: #383838; stroke-width: 1.5;\" width=\"90\" x=\"412\" y=\"147\"/><text fill=\"#000000\" font-family=\"sans-serif\" font-size=\"12\" font-style=\"italic\" lengthAdjust=\"spacingAndGlyphs\" textLength=\"88\" x=\"413\" y=\"163.1387\">«send action»</text><text fill=\"#000000\" font-family=\"sans-serif\" font-size=\"12\" lengthAdjust=\"spacingAndGlyphs\" text-decoration=\"line-through\" textLength=\"51\" x=\"431.5\" y=\"177.1074\">noname</text><line style=\"stroke: #383838; stroke-width: 1.5;\" x1=\"413\" x2=\"501\" y1=\"184.9375\" y2=\"184.9375\"/></a><!--MD5=[b9389687b975829384b498ac4b7476b2]\n",
       "class E8--><a href=\"psysml:dcda7bbd-01a5-4374-8a97-a16c2625889c\" target=\"_top\" title=\"psysml:dcda7bbd-01a5-4374-8a97-a16c2625889c\" xlink:actuate=\"onRequest\" xlink:href=\"psysml:dcda7bbd-01a5-4374-8a97-a16c2625889c\" xlink:show=\"new\" xlink:title=\"psysml:dcda7bbd-01a5-4374-8a97-a16c2625889c\" xlink:type=\"simple\"><rect fill=\"#FFFFFF\" height=\"45.9375\" id=\"E8\" rx=\"10\" ry=\"10\" style=\"stroke: #383838; stroke-width: 1.5;\" width=\"101\" x=\"537.5\" y=\"147\"/><text fill=\"#000000\" font-family=\"sans-serif\" font-size=\"12\" font-style=\"italic\" lengthAdjust=\"spacingAndGlyphs\" textLength=\"99\" x=\"538.5\" y=\"163.1387\">«decisionNode»</text><text fill=\"#000000\" font-family=\"sans-serif\" font-size=\"12\" lengthAdjust=\"spacingAndGlyphs\" text-decoration=\"line-through\" textLength=\"51\" x=\"562.5\" y=\"177.1074\">noname</text><line style=\"stroke: #383838; stroke-width: 1.5;\" x1=\"538.5\" x2=\"637.5\" y1=\"184.9375\" y2=\"184.9375\"/></a><!--MD5=[fd4143e9d270a159db93a4ea2a975926]\n",
       "class E9--><a href=\"psysml:86a7eb05-d2a7-4b0b-add7-eac0d2258e69\" target=\"_top\" title=\"psysml:86a7eb05-d2a7-4b0b-add7-eac0d2258e69\" xlink:actuate=\"onRequest\" xlink:href=\"psysml:86a7eb05-d2a7-4b0b-add7-eac0d2258e69\" xlink:show=\"new\" xlink:title=\"psysml:86a7eb05-d2a7-4b0b-add7-eac0d2258e69\" xlink:type=\"simple\"><rect fill=\"#FFFFFF\" height=\"45.9375\" id=\"E9\" style=\"stroke: #383838; stroke-width: 1.5;\" width=\"79\" x=\"108.5\" y=\"41\"/><text fill=\"#000000\" font-family=\"sans-serif\" font-size=\"12\" font-style=\"italic\" lengthAdjust=\"spacingAndGlyphs\" textLength=\"77\" x=\"109.5\" y=\"57.1387\">«action def»</text><text fill=\"#000000\" font-family=\"sans-serif\" font-size=\"12\" lengthAdjust=\"spacingAndGlyphs\" textLength=\"8\" x=\"144\" y=\"71.1074\">B</text><line style=\"stroke: #383838; stroke-width: 1.5;\" x1=\"109.5\" x2=\"186.5\" y1=\"78.9375\" y2=\"78.9375\"/></a><!--MD5=[4672eba38e49728da53d11aeb285b987]\n",
       "reverse link E3 to E4--><a href=\"psysml:52dfc4ad-a62d-4432-a88b-57c0a80d621d\" target=\"_top\" title=\"psysml:52dfc4ad-a62d-4432-a88b-57c0a80d621d\" xlink:actuate=\"onRequest\" xlink:href=\"psysml:52dfc4ad-a62d-4432-a88b-57c0a80d621d\" xlink:show=\"new\" xlink:title=\"psysml:52dfc4ad-a62d-4432-a88b-57c0a80d621d\" xlink:type=\"simple\"><path d=\"M285.79,81.6 C239.27,100.79 163.05,132.25 115.85,151.73 \" fill=\"none\" id=\"E3&lt;-E4\" style=\"stroke: #383838; stroke-width: 1.0;\"/><polygon fill=\"#FFFFFF\" points=\"298.07,76.53,290.9979,75.1209,286.9771,81.107,294.0492,82.5161,298.07,76.53\" style=\"stroke: #383838; stroke-width: 1.0;\"/></a><!--MD5=[191cde3d490a3f6d7bb551fe3ddca469]\n",
       "reverse link E3 to E5--><a href=\"psysml:99d9f5a6-f2b4-4631-bd24-2952b87c2311\" target=\"_top\" title=\"psysml:99d9f5a6-f2b4-4631-bd24-2952b87c2311\" xlink:actuate=\"onRequest\" xlink:href=\"psysml:99d9f5a6-f2b4-4631-bd24-2952b87c2311\" xlink:show=\"new\" xlink:title=\"psysml:99d9f5a6-f2b4-4631-bd24-2952b87c2311\" xlink:type=\"simple\"><path d=\"M287.79,95.33 C266.97,111.86 241.66,131.95 222.74,146.98 \" fill=\"none\" id=\"E3&lt;-E5\" style=\"stroke: #383838; stroke-width: 1.0;\"/><polygon fill=\"#383838\" points=\"298.22,87.06,291.0341,87.6625,288.8265,94.5273,296.0123,93.9249,298.22,87.06\" style=\"stroke: #383838; stroke-width: 1.0;\"/></a><!--MD5=[1026b4b93417a13aa8999a858998add2]\n",
       "reverse link E3 to E6--><a href=\"psysml:14dfaf6d-db59-420e-a3c6-2cc6bbb5f023\" target=\"_top\" title=\"psysml:14dfaf6d-db59-420e-a3c6-2cc6bbb5f023\" xlink:actuate=\"onRequest\" xlink:href=\"psysml:14dfaf6d-db59-420e-a3c6-2cc6bbb5f023\" xlink:show=\"new\" xlink:title=\"psysml:14dfaf6d-db59-420e-a3c6-2cc6bbb5f023\" xlink:type=\"simple\"><path d=\"M326,100.44 C326,115.87 326,133.47 326,146.98 \" fill=\"none\" id=\"E3&lt;-E6\" style=\"stroke: #383838; stroke-width: 1.0;\"/><polygon fill=\"#FFFFFF\" points=\"326,87.06,322,93.06,326,99.06,330,93.06,326,87.06\" style=\"stroke: #383838; stroke-width: 1.0;\"/></a><!--MD5=[3403bfa781cc3da0fd423dbab6f01c63]\n",
       "reverse link E6 to E2--><a href=\"psysml:773d19c1-1d9b-4741-b5ba-dd5a31e080a3\" target=\"_top\" title=\"psysml:773d19c1-1d9b-4741-b5ba-dd5a31e080a3\" xlink:actuate=\"onRequest\" xlink:href=\"psysml:773d19c1-1d9b-4741-b5ba-dd5a31e080a3\" xlink:show=\"new\" xlink:title=\"psysml:773d19c1-1d9b-4741-b5ba-dd5a31e080a3\" xlink:type=\"simple\"><path d=\"M326,206.44 C326,221.87 326,239.47 326,252.98 \" fill=\"none\" id=\"E6&lt;-E2\" style=\"stroke: #383838; stroke-width: 1.0;\"/><polygon fill=\"#FFFFFF\" points=\"326,193.06,322,199.06,326,205.06,330,199.06,326,193.06\" style=\"stroke: #383838; stroke-width: 1.0;\"/></a><!--MD5=[85760999379eecfd2565a9fecdca67e4]\n",
       "reverse link E3 to E7--><a href=\"psysml:4bddb34b-31d0-4487-9835-f5e5c1238220\" target=\"_top\" title=\"psysml:4bddb34b-31d0-4487-9835-f5e5c1238220\" xlink:actuate=\"onRequest\" xlink:href=\"psysml:4bddb34b-31d0-4487-9835-f5e5c1238220\" xlink:show=\"new\" xlink:title=\"psysml:4bddb34b-31d0-4487-9835-f5e5c1238220\" xlink:type=\"simple\"><path d=\"M364.21,95.33 C385.03,111.86 410.34,131.95 429.26,146.98 \" fill=\"none\" id=\"E3&lt;-E7\" style=\"stroke: #383838; stroke-width: 1.0;\"/><polygon fill=\"#FFFFFF\" points=\"353.78,87.06,355.9877,93.9249,363.1735,94.5273,360.9659,87.6625,353.78,87.06\" style=\"stroke: #383838; stroke-width: 1.0;\"/></a><!--MD5=[4cb75b73ec3682b8f7f8edc9cc86126a]\n",
       "reverse link E3 to E8--><a href=\"psysml:010ce356-5f58-462c-8431-75351dc3ac74\" target=\"_top\" title=\"psysml:010ce356-5f58-462c-8431-75351dc3ac74\" xlink:actuate=\"onRequest\" xlink:href=\"psysml:010ce356-5f58-462c-8431-75351dc3ac74\" xlink:show=\"new\" xlink:title=\"psysml:010ce356-5f58-462c-8431-75351dc3ac74\" xlink:type=\"simple\"><path d=\"M365.63,80.73 C411.46,98.92 486.99,128.91 537.12,148.8 \" fill=\"none\" id=\"E3&lt;-E8\" style=\"stroke: #383838; stroke-width: 1.0;\"/><polygon fill=\"#383838\" points=\"353.54,75.93,357.6459,81.858,364.6971,80.348,360.5912,74.42,353.54,75.93\" style=\"stroke: #383838; stroke-width: 1.0;\"/></a><!--MD5=[2e1dd7b04394024d01066abe0748b366]\n",
       "@startuml\r\n",
       "skinparam monochrome true\r\n",
       "skinparam classbackgroundcolor white\r\n",
       "skinparam shadowing false\r\n",
       "skinparam wrapWidth 300\r\n",
       "hide circle\r\n",
       "\r\n",
       "package \"ActionTest\" as E1  [[psysml:4a739ce7-b110-4093-8b74-31ee982b1e00 ]]  {\r\n",
       "comp def \"S\" as E2  <<(T,blue) attribute def>> [[psysml:e3ea157b-753f-4ff0-b9f5-62b19f528d25 ]] {\r\n",
       "}\r\n",
       "comp usage \"a\" as E3  <<(T,blue) action>> [[psysml:fa9c3421-7722-4415-b8c7-0ea19e95762e ]] {\r\n",
       "}\r\n",
       "comp usage \"start: Action\" as E4  <<(T,blue) action>> [[psysml:a6d1daf9-13da-45ca-a864-cb134e7177b5 ]] {\r\n",
       "}\r\n",
       "comp usage \"m\" as E5  <<(T,blue) mergeNode>> [[psysml:60604585-cd78-42b0-92ae-265c1a2862a9 ]] {\r\n",
       "}\r\n",
       "comp usage \"<s>noname</s>\" as E6 << accept action>> [[psysml:1a7559c2-685c-4c08-a29a-09c3177cd704 ]] {\r\n",
       "}\r\n",
       "comp usage \"<s>noname</s>\" as E7 << send action>> [[psysml:57acc649-2893-4bd5-b427-585e4a8282d2 ]] {\r\n",
       "}\r\n",
       "comp usage \"<s>noname</s>\" as E8  <<(T,blue) decisionNode>> [[psysml:dcda7bbd-01a5-4374-8a97-a16c2625889c ]] {\r\n",
       "}\r\n",
       "comp def \"B\" as E9  <<(T,blue) action def>> [[psysml:86a7eb05-d2a7-4b0b-add7-eac0d2258e69 ]] {\r\n",
       "}\r\n",
       "E3 o- - E4 [[psysml:52dfc4ad-a62d-4432-a88b-57c0a80d621d ]] \r\n",
       "E3 *- - E5 [[psysml:99d9f5a6-f2b4-4631-bd24-2952b87c2311 ]] \r\n",
       "E3 o- - E6 [[psysml:14dfaf6d-db59-420e-a3c6-2cc6bbb5f023 ]] \r\n",
       "E6 o- - E2 [[psysml:773d19c1-1d9b-4741-b5ba-dd5a31e080a3 ]] \r\n",
       "E3 o- - E7 [[psysml:4bddb34b-31d0-4487-9835-f5e5c1238220 ]] \r\n",
       "E3 *- - E8 [[psysml:010ce356-5f58-462c-8431-75351dc3ac74 ]] \r\n",
       "}\r\n",
       "@enduml\r\n",
       "\n",
       "PlantUML version 1.2020.13(Sat Jun 13 12:26:38 UTC 2020)\n",
       "(EPL source distribution)\n",
       "Java Runtime: OpenJDK Runtime Environment\n",
       "JVM: OpenJDK 64-Bit Server VM\n",
       "Default Encoding: UTF-8\n",
       "Language: en\n",
       "Country: null\n",
       "--></g></svg>"
      ]
     },
     "execution_count": 38,
     "metadata": {},
     "output_type": "execute_result"
    }
   ],
   "source": [
    "%viz --style=\"DEFAULT\" --view=\"Tree\" \"ActionTest\""
   ]
  },
  {
   "cell_type": "code",
   "execution_count": 39,
   "id": "fc8640ee",
   "metadata": {
    "execution": {
     "iopub.execute_input": "2021-06-30T09:17:44.372054Z",
     "iopub.status.busy": "2021-06-30T09:17:44.371420Z",
     "iopub.status.idle": "2021-06-30T09:17:44.377516Z",
     "shell.execute_reply": "2021-06-30T09:17:44.377028Z"
    }
   },
   "outputs": [
    {
     "data": {
      "image/svg+xml": [
       "<?xml version=\"1.0\" encoding=\"UTF-8\" standalone=\"no\"?><svg xmlns=\"http://www.w3.org/2000/svg\" xmlns:xlink=\"http://www.w3.org/1999/xlink\" contentScriptType=\"application/ecmascript\" contentStyleType=\"text/css\" height=\"12px\" preserveAspectRatio=\"none\" style=\"width:12px;height:12px;\" version=\"1.1\" viewBox=\"0 0 12 12\" width=\"12px\" zoomAndPan=\"magnify\"><defs/><g><!--MD5=[c5f280e076d0d61ccf4b0f27871bda1d]\n",
       "@startuml\r\n",
       "skinparam monochrome true\r\n",
       "skinparam classbackgroundcolor white\r\n",
       "skinparam shadowing false\r\n",
       "skinparam wrapWidth 300\r\n",
       "hide circle\r\n",
       "\r\n",
       "@enduml\r\n",
       "\n",
       "PlantUML version 1.2020.13(Sat Jun 13 12:26:38 UTC 2020)\n",
       "(EPL source distribution)\n",
       "Java Runtime: OpenJDK Runtime Environment\n",
       "JVM: OpenJDK 64-Bit Server VM\n",
       "Default Encoding: UTF-8\n",
       "Language: en\n",
       "Country: null\n",
       "--></g></svg>"
      ]
     },
     "execution_count": 39,
     "metadata": {},
     "output_type": "execute_result"
    }
   ],
   "source": [
    "%viz --style=\"DEFAULT\" --view=\"State\" \"ActionTest\""
   ]
  },
  {
   "cell_type": "code",
   "execution_count": 40,
   "id": "d9c9cfe9",
   "metadata": {
    "execution": {
     "iopub.execute_input": "2021-06-30T09:17:44.429854Z",
     "iopub.status.busy": "2021-06-30T09:17:44.428568Z",
     "iopub.status.idle": "2021-06-30T09:17:44.522504Z",
     "shell.execute_reply": "2021-06-30T09:17:44.521920Z"
    }
   },
   "outputs": [
    {
     "data": {
      "image/svg+xml": [
       "<?xml version=\"1.0\" encoding=\"UTF-8\" standalone=\"no\"?><svg xmlns=\"http://www.w3.org/2000/svg\" xmlns:xlink=\"http://www.w3.org/1999/xlink\" contentScriptType=\"application/ecmascript\" contentStyleType=\"text/css\" height=\"462px\" preserveAspectRatio=\"none\" style=\"width:522px;height:462px;\" version=\"1.1\" viewBox=\"0 0 522 462\" width=\"522px\" zoomAndPan=\"magnify\"><defs/><g><!--MD5=[fbc87193dbaf4d95561dea2c320d4a47]\n",
       "cluster E1--><a href=\"psysml:4a739ce7-b110-4093-8b74-31ee982b1e00\" target=\"_top\" title=\"psysml:4a739ce7-b110-4093-8b74-31ee982b1e00\" xlink:actuate=\"onRequest\" xlink:href=\"psysml:4a739ce7-b110-4093-8b74-31ee982b1e00\" xlink:show=\"new\" xlink:title=\"psysml:4a739ce7-b110-4093-8b74-31ee982b1e00\" xlink:type=\"simple\"><polygon fill=\"#FFFFFF\" points=\"16,6,107,6,114,28.2969,500,28.2969,500,450.5,16,450.5,16,6\" style=\"stroke: #000000; stroke-width: 1.5;\"/><line style=\"stroke: #000000; stroke-width: 1.5;\" x1=\"16\" x2=\"114\" y1=\"28.2969\" y2=\"28.2969\"/><text fill=\"#000000\" font-family=\"sans-serif\" font-size=\"14\" font-weight=\"bold\" lengthAdjust=\"spacingAndGlyphs\" textLength=\"85\" x=\"20\" y=\"20.9951\">ActionTest</text></a><!--MD5=[d5e69f78d87373223dbae638b30a9c99]\n",
       "cluster E3--><a href=\"psysml:fa9c3421-7722-4415-b8c7-0ea19e95762e\" target=\"_top\" title=\"psysml:fa9c3421-7722-4415-b8c7-0ea19e95762e\" xlink:actuate=\"onRequest\" xlink:href=\"psysml:fa9c3421-7722-4415-b8c7-0ea19e95762e\" xlink:show=\"new\" xlink:title=\"psysml:fa9c3421-7722-4415-b8c7-0ea19e95762e\" xlink:type=\"simple\"><rect fill=\"#FFFFFF\" height=\"377.5\" id=\"E3\" rx=\"10\" ry=\"10\" style=\"stroke: #383838; stroke-width: 1.5;\" width=\"209\" x=\"267\" y=\"49\"/><rect fill=\"#F8F8F8\" height=\"37.9375\" rx=\"10\" ry=\"10\" style=\"stroke: #F8F8F8; stroke-width: 1.5;\" width=\"209\" x=\"267\" y=\"49\"/><rect fill=\"#F8F8F8\" height=\"10\" style=\"stroke: #F8F8F8; stroke-width: 1.5;\" width=\"209\" x=\"267\" y=\"76.9375\"/><rect fill=\"none\" height=\"377.5\" id=\"E3\" rx=\"10\" ry=\"10\" style=\"stroke: #383838; stroke-width: 1.5;\" width=\"209\" x=\"267\" y=\"49\"/><text fill=\"#000000\" font-family=\"sans-serif\" font-size=\"12\" font-style=\"italic\" lengthAdjust=\"spacingAndGlyphs\" textLength=\"53\" x=\"345\" y=\"65.1387\">«action»</text><text fill=\"#000000\" font-family=\"sans-serif\" font-size=\"12\" lengthAdjust=\"spacingAndGlyphs\" textLength=\"8\" x=\"367.5\" y=\"79.1074\">a</text><line style=\"stroke: #383838; stroke-width: 1.0;\" x1=\"267\" x2=\"476\" y1=\"86.9375\" y2=\"86.9375\"/></a><g id=\"E1.E2\"><a href=\"psysml:e3ea157b-753f-4ff0-b9f5-62b19f528d25\" target=\"_top\" title=\"psysml:e3ea157b-753f-4ff0-b9f5-62b19f528d25\" xlink:actuate=\"onRequest\" xlink:href=\"psysml:e3ea157b-753f-4ff0-b9f5-62b19f528d25\" xlink:show=\"new\" xlink:title=\"psysml:e3ea157b-753f-4ff0-b9f5-62b19f528d25\" xlink:type=\"simple\"><rect fill=\"#FFFFFF\" height=\"42.9375\" id=\"E2\" style=\"stroke: #383838; stroke-width: 1.5;\" width=\"100\" x=\"151\" y=\"88.5\"/><rect fill=\"#F8F8F8\" height=\"37.9375\" style=\"stroke: #383838; stroke-width: 1.5;\" width=\"100\" x=\"151\" y=\"88.5\"/><text fill=\"#000000\" font-family=\"sans-serif\" font-size=\"12\" font-style=\"italic\" lengthAdjust=\"spacingAndGlyphs\" textLength=\"93\" x=\"154.5\" y=\"104.6387\">«attribute def»</text><text fill=\"#000000\" font-family=\"sans-serif\" font-size=\"12\" lengthAdjust=\"spacingAndGlyphs\" textLength=\"8\" x=\"197\" y=\"118.6074\">S</text></a></g><polygon fill=\"#F8F8F8\" points=\"424,148.5,436,160.5,424,172.5,412,160.5,424,148.5\" style=\"stroke: #383838; stroke-width: 1.5;\"/><!--MD5=[21dd76c19d33815960c0e92fef8f0eef]\n",
       "entity E5--><a href=\"psysml:1a7559c2-685c-4c08-a29a-09c3177cd704\" target=\"_top\" title=\"psysml:1a7559c2-685c-4c08-a29a-09c3177cd704\" xlink:actuate=\"onRequest\" xlink:href=\"psysml:1a7559c2-685c-4c08-a29a-09c3177cd704\" xlink:show=\"new\" xlink:title=\"psysml:1a7559c2-685c-4c08-a29a-09c3177cd704\" xlink:type=\"simple\"><polygon fill=\"#F8F8F8\" points=\"283,189.5,283,244.0938,423,244.0938,403,216.7969,423,189.5\" style=\"stroke: #000000; stroke-width: 1.5;\"/><text fill=\"#000000\" font-family=\"sans-serif\" font-size=\"14\" font-style=\"italic\" lengthAdjust=\"spacingAndGlyphs\" textLength=\"111\" x=\"290\" y=\"212.4951\">«accept action»</text><text fill=\"#000000\" font-family=\"sans-serif\" font-size=\"14\" lengthAdjust=\"spacingAndGlyphs\" textLength=\"9\" x=\"341\" y=\"229.792\">S</text></a><!--MD5=[24d87cdf3002d433f401b2a2aa9f9f65]\n",
       "entity E6--><a href=\"psysml:57acc649-2893-4bd5-b427-585e4a8282d2\" target=\"_top\" title=\"psysml:57acc649-2893-4bd5-b427-585e4a8282d2\" xlink:actuate=\"onRequest\" xlink:href=\"psysml:57acc649-2893-4bd5-b427-585e4a8282d2\" xlink:show=\"new\" xlink:title=\"psysml:57acc649-2893-4bd5-b427-585e4a8282d2\" xlink:type=\"simple\"><polygon fill=\"#F8F8F8\" points=\"283,277.5,283,332.0938,391,332.0938,411,304.7969,391,277.5\" style=\"stroke: #000000; stroke-width: 1.5;\"/><text fill=\"#000000\" font-family=\"sans-serif\" font-size=\"14\" font-style=\"italic\" lengthAdjust=\"spacingAndGlyphs\" textLength=\"99\" x=\"290\" y=\"300.4951\">«send action»</text><text fill=\"#000000\" font-family=\"sans-serif\" font-size=\"14\" lengthAdjust=\"spacingAndGlyphs\" textLength=\"65\" x=\"307\" y=\"317.792\">S() to  B()</text></a><polygon fill=\"#F8F8F8\" points=\"422,349.5,434,361.5,422,373.5,410,361.5,422,349.5\" style=\"stroke: #383838; stroke-width: 1.5;\"/><ellipse cx=\"424\" cy=\"110\" fill=\"#000000\" rx=\"10\" ry=\"10\" style=\"stroke: none; stroke-width: 1.0;\"/><ellipse cx=\"422\" cy=\"400.5\" fill=\"none\" rx=\"10\" ry=\"10\" style=\"stroke: #000000; stroke-width: 1.0;\"/><ellipse cx=\"422.5\" cy=\"401\" fill=\"#000000\" rx=\"6\" ry=\"6\" style=\"stroke: none; stroke-width: 1.0;\"/><g id=\"E1.E8\"><a href=\"psysml:86a7eb05-d2a7-4b0b-add7-eac0d2258e69\" target=\"_top\" title=\"psysml:86a7eb05-d2a7-4b0b-add7-eac0d2258e69\" xlink:actuate=\"onRequest\" xlink:href=\"psysml:86a7eb05-d2a7-4b0b-add7-eac0d2258e69\" xlink:show=\"new\" xlink:title=\"psysml:86a7eb05-d2a7-4b0b-add7-eac0d2258e69\" xlink:type=\"simple\"><rect fill=\"#FFFFFF\" height=\"42.9375\" id=\"E8\" style=\"stroke: #383838; stroke-width: 1.5;\" width=\"84\" x=\"32\" y=\"88.5\"/><rect fill=\"#F8F8F8\" height=\"37.9375\" style=\"stroke: #383838; stroke-width: 1.5;\" width=\"84\" x=\"32\" y=\"88.5\"/><text fill=\"#000000\" font-family=\"sans-serif\" font-size=\"12\" font-style=\"italic\" lengthAdjust=\"spacingAndGlyphs\" textLength=\"77\" x=\"35.5\" y=\"104.6387\">«action def»</text><text fill=\"#000000\" font-family=\"sans-serif\" font-size=\"12\" lengthAdjust=\"spacingAndGlyphs\" textLength=\"8\" x=\"70\" y=\"118.6074\">B</text></a></g><!--MD5=[f47e10efcf9a6752d55dae986d790ed9]\n",
       "link *start*E3 to E4--><a href=\"psysml:3a6c3978-61f5-46d3-ad26-c963b1b56f5b\" target=\"_top\" title=\"psysml:3a6c3978-61f5-46d3-ad26-c963b1b56f5b\" xlink:actuate=\"onRequest\" xlink:href=\"psysml:3a6c3978-61f5-46d3-ad26-c963b1b56f5b\" xlink:show=\"new\" xlink:title=\"psysml:3a6c3978-61f5-46d3-ad26-c963b1b56f5b\" xlink:type=\"simple\"><path d=\"M424,120.35 C424,126.88 424,135.77 424,143.42 \" fill=\"none\" id=\"*start*E3-&gt;E4\" style=\"stroke: #383838; stroke-width: 1.0;\"/><polygon fill=\"#383838\" points=\"424,148.48,428,139.48,424,143.48,420,139.48,424,148.48\" style=\"stroke: #383838; stroke-width: 1.0;\"/></a><!--MD5=[d19f2eb34364d71b67042106d92f540b]\n",
       "link E7 to *end*E3--><a href=\"psysml:36daa16f-4b44-48c5-bcb7-7a401bcea152\" target=\"_top\" title=\"psysml:36daa16f-4b44-48c5-bcb7-7a401bcea152\" xlink:actuate=\"onRequest\" xlink:href=\"psysml:36daa16f-4b44-48c5-bcb7-7a401bcea152\" xlink:show=\"new\" xlink:title=\"psysml:36daa16f-4b44-48c5-bcb7-7a401bcea152\" xlink:type=\"simple\"><path d=\"M422,373.8 C422,377.34 422,381.3 422,385.03 \" fill=\"none\" id=\"E7-&gt;*end*E3\" style=\"stroke: #383838; stroke-width: 1.0;\"/><polygon fill=\"#383838\" points=\"422,390.25,426,381.25,422,385.25,418,381.25,422,390.25\" style=\"stroke: #383838; stroke-width: 1.0;\"/></a><!--MD5=[1b7591eae5389033d8d09a9d6721a717]\n",
       "link E4 to E5--><a href=\"psysml:c56e5692-64fd-4b0b-a986-d866765d0210\" target=\"_top\" title=\"psysml:c56e5692-64fd-4b0b-a986-d866765d0210\" xlink:actuate=\"onRequest\" xlink:href=\"psysml:c56e5692-64fd-4b0b-a986-d866765d0210\" xlink:show=\"new\" xlink:title=\"psysml:c56e5692-64fd-4b0b-a986-d866765d0210\" xlink:type=\"simple\"><path d=\"M417.45,166.53 C411.33,171.23 401.65,178.66 391.64,186.34 \" fill=\"none\" id=\"E4-&gt;E5\" style=\"stroke: #383838; stroke-width: 1.0;\"/><polygon fill=\"#383838\" points=\"387.64,189.41,397.2129,187.0948,391.6037,186.3621,392.3363,180.7529,387.64,189.41\" style=\"stroke: #383838; stroke-width: 1.0;\"/></a><!--MD5=[9120cf2e5df3bff93db8f754bbbc09b4]\n",
       "link E5 to E6--><a href=\"psysml:363bb7e0-7ec1-401c-827a-8a23a32c7946\" target=\"_top\" title=\"psysml:363bb7e0-7ec1-401c-827a-8a23a32c7946\" xlink:actuate=\"onRequest\" xlink:href=\"psysml:363bb7e0-7ec1-401c-827a-8a23a32c7946\" xlink:show=\"new\" xlink:title=\"psysml:363bb7e0-7ec1-401c-827a-8a23a32c7946\" xlink:type=\"simple\"><path d=\"M351.13,244.74 C350.53,253.4 349.85,263.08 349.23,272.08 \" fill=\"none\" id=\"E5-&gt;E6\" style=\"stroke: #383838; stroke-width: 1.0;\"/><polygon fill=\"#383838\" points=\"348.86,277.28,353.468,268.5756,349.203,272.2918,345.4869,268.0268,348.86,277.28\" style=\"stroke: #383838; stroke-width: 1.0;\"/></a><!--MD5=[02c70b7c851c11e3980e4e90450dc5dd]\n",
       "link E6 to E7--><a href=\"psysml:84082b66-a23a-4779-a592-98d74f10d8d7\" target=\"_top\" title=\"psysml:84082b66-a23a-4779-a592-98d74f10d8d7\" xlink:actuate=\"onRequest\" xlink:href=\"psysml:84082b66-a23a-4779-a592-98d74f10d8d7\" xlink:show=\"new\" xlink:title=\"psysml:84082b66-a23a-4779-a592-98d74f10d8d7\" xlink:type=\"simple\"><path d=\"M383.62,332.61 C393.72,339.95 403.91,347.35 411.24,352.68 \" fill=\"none\" id=\"E6-&gt;E7\" style=\"stroke: #383838; stroke-width: 1.0;\"/><polygon fill=\"#383838\" points=\"415.42,355.72,410.4976,347.1894,411.3776,352.7774,405.7896,353.6574,415.42,355.72\" style=\"stroke: #383838; stroke-width: 1.0;\"/></a><!--MD5=[6bdd27f9905911a7e892a3dc65cf6b7c]\n",
       "link E7 to E4--><a href=\"psysml:49753952-5c4c-4ef6-ad04-e80bfe7cb929\" target=\"_top\" title=\"psysml:49753952-5c4c-4ef6-ad04-e80bfe7cb929\" xlink:actuate=\"onRequest\" xlink:href=\"psysml:49753952-5c4c-4ef6-ad04-e80bfe7cb929\" xlink:show=\"new\" xlink:title=\"psysml:49753952-5c4c-4ef6-ad04-e80bfe7cb929\" xlink:type=\"simple\"><path d=\"M425,352.49 C433.84,327.73 458.06,250.48 441,189.5 C439.26,183.29 435.73,177.1 432.34,172.12 \" fill=\"none\" id=\"E7-&gt;E4\" style=\"stroke: #383838; stroke-width: 1.0;\"/><polygon fill=\"#383838\" points=\"429.31,167.92,431.3342,177.5586,432.2364,171.9741,437.8209,172.8763,429.31,167.92\" style=\"stroke: #383838; stroke-width: 1.0;\"/><text fill=\"#000000\" font-family=\"sans-serif\" font-size=\"13\" lengthAdjust=\"spacingAndGlyphs\" textLength=\"36\" x=\"447\" y=\"265.5669\">[true]</text></a><!--MD5=[a6f2a9c629beb2a2fa822d013e49f39e]\n",
       "@startuml\r\n",
       "skinparam ranksep 10\r\n",
       "skinparam rectangle {\r\n",
       " backgroundColor<<block>> LightGreen\r\n",
       "}\r\n",
       "skinparam monochrome true\r\n",
       "skinparam classbackgroundcolor white\r\n",
       "skinparam shadowing false\r\n",
       "skinparam wrapWidth 300\r\n",
       "hide circle\r\n",
       "\r\n",
       "package \"ActionTest\" as E1  [[psysml:4a739ce7-b110-4093-8b74-31ee982b1e00 ]]  {\r\n",
       "def \"S\" as E2  <<(T,blue) attribute def>> [[psysml:e3ea157b-753f-4ff0-b9f5-62b19f528d25 ]] \r\n",
       "rec usage \"a\" as E3  <<(T,blue) action>> [[psysml:fa9c3421-7722-4415-b8c7-0ea19e95762e ]] {\r\n",
       "choice \"m\" as E4  [[psysml:60604585-cd78-42b0-92ae-265c1a2862a9 ]] \r\n",
       "accept \" S\" as E5 << accept action>> [[psysml:1a7559c2-685c-4c08-a29a-09c3177cd704 ]] \r\n",
       "send \" S() to  B()\" as E6 << send action>> [[psysml:57acc649-2893-4bd5-b427-585e4a8282d2 ]] \r\n",
       "choice \"noname\" as E7  [[psysml:dcda7bbd-01a5-4374-8a97-a16c2625889c ]] \r\n",
       "[*] - -> E4 [[psysml:3a6c3978-61f5-46d3-ad26-c963b1b56f5b ]] \r\n",
       "E7  - -> [*] [[psysml:36daa16f-4b44-48c5-bcb7-7a401bcea152 ]] \r\n",
       "}\r\n",
       "\r\n",
       "rec def \"B\" as E8  <<(T,blue) action def>> [[psysml:86a7eb05-d2a7-4b0b-add7-eac0d2258e69 ]] {\r\n",
       "}\r\n",
       "\r\n",
       "E4 - -> E5 [[psysml:c56e5692-64fd-4b0b-a986-d866765d0210 ]] \r\n",
       "E5 - -> E6 [[psysml:363bb7e0-7ec1-401c-827a-8a23a32c7946 ]] \r\n",
       "E6 - -> E7 [[psysml:84082b66-a23a-4779-a592-98d74f10d8d7 ]] \r\n",
       "E7  - -> E4 [[psysml:49753952-5c4c-4ef6-ad04-e80bfe7cb929 ]] : [true]\r\n",
       "}\r\n",
       "@enduml\r\n",
       "\n",
       "PlantUML version 1.2020.13(Sat Jun 13 12:26:38 UTC 2020)\n",
       "(EPL source distribution)\n",
       "Java Runtime: OpenJDK Runtime Environment\n",
       "JVM: OpenJDK 64-Bit Server VM\n",
       "Default Encoding: UTF-8\n",
       "Language: en\n",
       "Country: null\n",
       "--></g></svg>"
      ]
     },
     "execution_count": 40,
     "metadata": {},
     "output_type": "execute_result"
    }
   ],
   "source": [
    "%viz --style=\"DEFAULT\" --view=\"Interconnection\" \"ActionTest\""
   ]
  },
  {
   "cell_type": "code",
   "execution_count": 41,
   "id": "32329763",
   "metadata": {
    "execution": {
     "iopub.execute_input": "2021-06-30T09:17:44.597666Z",
     "iopub.status.busy": "2021-06-30T09:17:44.596892Z",
     "iopub.status.idle": "2021-06-30T09:17:44.674819Z",
     "shell.execute_reply": "2021-06-30T09:17:44.669192Z"
    }
   },
   "outputs": [
    {
     "data": {
      "image/svg+xml": [
       "<?xml version=\"1.0\" encoding=\"UTF-8\" standalone=\"no\"?><svg xmlns=\"http://www.w3.org/2000/svg\" xmlns:xlink=\"http://www.w3.org/1999/xlink\" contentScriptType=\"application/ecmascript\" contentStyleType=\"text/css\" height=\"395px\" preserveAspectRatio=\"none\" style=\"width:335px;height:395px;\" version=\"1.1\" viewBox=\"0 0 335 395\" width=\"335px\" zoomAndPan=\"magnify\"><defs/><g><!--MD5=[fbc87193dbaf4d95561dea2c320d4a47]\n",
       "cluster E1--><a href=\"psysml:fa9c3421-7722-4415-b8c7-0ea19e95762e\" target=\"_top\" title=\"psysml:fa9c3421-7722-4415-b8c7-0ea19e95762e\" xlink:actuate=\"onRequest\" xlink:href=\"psysml:fa9c3421-7722-4415-b8c7-0ea19e95762e\" xlink:show=\"new\" xlink:title=\"psysml:fa9c3421-7722-4415-b8c7-0ea19e95762e\" xlink:type=\"simple\"><rect fill=\"#FFFFFF\" height=\"377.5\" id=\"E1\" rx=\"10\" ry=\"10\" style=\"stroke: #383838; stroke-width: 1.5;\" width=\"209\" x=\"107\" y=\"7\"/><rect fill=\"#F8F8F8\" height=\"37.9375\" rx=\"10\" ry=\"10\" style=\"stroke: #F8F8F8; stroke-width: 1.5;\" width=\"209\" x=\"107\" y=\"7\"/><rect fill=\"#F8F8F8\" height=\"10\" style=\"stroke: #F8F8F8; stroke-width: 1.5;\" width=\"209\" x=\"107\" y=\"34.9375\"/><rect fill=\"none\" height=\"377.5\" id=\"E1\" rx=\"10\" ry=\"10\" style=\"stroke: #383838; stroke-width: 1.5;\" width=\"209\" x=\"107\" y=\"7\"/><text fill=\"#000000\" font-family=\"sans-serif\" font-size=\"12\" font-style=\"italic\" lengthAdjust=\"spacingAndGlyphs\" textLength=\"53\" x=\"185\" y=\"23.1387\">«action»</text><text fill=\"#000000\" font-family=\"sans-serif\" font-size=\"12\" lengthAdjust=\"spacingAndGlyphs\" textLength=\"8\" x=\"207.5\" y=\"37.1074\">a</text><line style=\"stroke: #383838; stroke-width: 1.0;\" x1=\"107\" x2=\"316\" y1=\"44.9375\" y2=\"44.9375\"/></a><polygon fill=\"#F8F8F8\" points=\"264,106.5,276,118.5,264,130.5,252,118.5,264,106.5\" style=\"stroke: #383838; stroke-width: 1.5;\"/><!--MD5=[a60fb756f580feb9fd8e2cf1329b5c91]\n",
       "entity E3--><a href=\"psysml:1a7559c2-685c-4c08-a29a-09c3177cd704\" target=\"_top\" title=\"psysml:1a7559c2-685c-4c08-a29a-09c3177cd704\" xlink:actuate=\"onRequest\" xlink:href=\"psysml:1a7559c2-685c-4c08-a29a-09c3177cd704\" xlink:show=\"new\" xlink:title=\"psysml:1a7559c2-685c-4c08-a29a-09c3177cd704\" xlink:type=\"simple\"><polygon fill=\"#F8F8F8\" points=\"123,147.5,123,202.0938,263,202.0938,243,174.7969,263,147.5\" style=\"stroke: #000000; stroke-width: 1.5;\"/><text fill=\"#000000\" font-family=\"sans-serif\" font-size=\"14\" font-style=\"italic\" lengthAdjust=\"spacingAndGlyphs\" textLength=\"111\" x=\"130\" y=\"170.4951\">«accept action»</text><text fill=\"#000000\" font-family=\"sans-serif\" font-size=\"14\" lengthAdjust=\"spacingAndGlyphs\" textLength=\"9\" x=\"181\" y=\"187.792\">S</text></a><!--MD5=[961cefdc15414eaa3e87aec9d17c2188]\n",
       "entity E4--><a href=\"psysml:57acc649-2893-4bd5-b427-585e4a8282d2\" target=\"_top\" title=\"psysml:57acc649-2893-4bd5-b427-585e4a8282d2\" xlink:actuate=\"onRequest\" xlink:href=\"psysml:57acc649-2893-4bd5-b427-585e4a8282d2\" xlink:show=\"new\" xlink:title=\"psysml:57acc649-2893-4bd5-b427-585e4a8282d2\" xlink:type=\"simple\"><polygon fill=\"#F8F8F8\" points=\"123,235.5,123,290.0938,231,290.0938,251,262.7969,231,235.5\" style=\"stroke: #000000; stroke-width: 1.5;\"/><text fill=\"#000000\" font-family=\"sans-serif\" font-size=\"14\" font-style=\"italic\" lengthAdjust=\"spacingAndGlyphs\" textLength=\"99\" x=\"130\" y=\"258.4951\">«send action»</text><text fill=\"#000000\" font-family=\"sans-serif\" font-size=\"14\" lengthAdjust=\"spacingAndGlyphs\" textLength=\"65\" x=\"147\" y=\"275.792\">S() to  B()</text></a><polygon fill=\"#F8F8F8\" points=\"262,307.5,274,319.5,262,331.5,250,319.5,262,307.5\" style=\"stroke: #383838; stroke-width: 1.5;\"/><ellipse cx=\"264\" cy=\"68\" fill=\"#000000\" rx=\"10\" ry=\"10\" style=\"stroke: none; stroke-width: 1.0;\"/><ellipse cx=\"262\" cy=\"358.5\" fill=\"none\" rx=\"10\" ry=\"10\" style=\"stroke: #000000; stroke-width: 1.0;\"/><ellipse cx=\"262.5\" cy=\"359\" fill=\"#000000\" rx=\"6\" ry=\"6\" style=\"stroke: none; stroke-width: 1.0;\"/><g id=\"E6\"><a href=\"psysml:86a7eb05-d2a7-4b0b-add7-eac0d2258e69\" target=\"_top\" title=\"psysml:86a7eb05-d2a7-4b0b-add7-eac0d2258e69\" xlink:actuate=\"onRequest\" xlink:href=\"psysml:86a7eb05-d2a7-4b0b-add7-eac0d2258e69\" xlink:show=\"new\" xlink:title=\"psysml:86a7eb05-d2a7-4b0b-add7-eac0d2258e69\" xlink:type=\"simple\"><rect fill=\"#FFFFFF\" height=\"42.9375\" id=\"E6\" style=\"stroke: #383838; stroke-width: 1.5;\" width=\"84\" x=\"7\" y=\"46.5\"/><rect fill=\"#F8F8F8\" height=\"37.9375\" style=\"stroke: #383838; stroke-width: 1.5;\" width=\"84\" x=\"7\" y=\"46.5\"/><text fill=\"#000000\" font-family=\"sans-serif\" font-size=\"12\" font-style=\"italic\" lengthAdjust=\"spacingAndGlyphs\" textLength=\"77\" x=\"10.5\" y=\"62.6387\">«action def»</text><text fill=\"#000000\" font-family=\"sans-serif\" font-size=\"12\" lengthAdjust=\"spacingAndGlyphs\" textLength=\"8\" x=\"45\" y=\"76.6074\">B</text></a></g><!--MD5=[cff944eb183b832d446717a4e202d613]\n",
       "link *start*E1 to E2--><a href=\"psysml:3a6c3978-61f5-46d3-ad26-c963b1b56f5b\" target=\"_top\" title=\"psysml:3a6c3978-61f5-46d3-ad26-c963b1b56f5b\" xlink:actuate=\"onRequest\" xlink:href=\"psysml:3a6c3978-61f5-46d3-ad26-c963b1b56f5b\" xlink:show=\"new\" xlink:title=\"psysml:3a6c3978-61f5-46d3-ad26-c963b1b56f5b\" xlink:type=\"simple\"><path d=\"M264,78.35 C264,84.88 264,93.77 264,101.42 \" fill=\"none\" id=\"*start*E1-&gt;E2\" style=\"stroke: #383838; stroke-width: 1.0; stroke-dasharray: 7.0,7.0;\"/><polygon fill=\"#383838\" points=\"264,106.48,268,97.48,264,101.48,260,97.48,264,106.48\" style=\"stroke: #383838; stroke-width: 1.0;\"/></a><!--MD5=[7fc47fc0d107820853a137871ad908c8]\n",
       "link E5 to *end*E1--><a href=\"psysml:36daa16f-4b44-48c5-bcb7-7a401bcea152\" target=\"_top\" title=\"psysml:36daa16f-4b44-48c5-bcb7-7a401bcea152\" xlink:actuate=\"onRequest\" xlink:href=\"psysml:36daa16f-4b44-48c5-bcb7-7a401bcea152\" xlink:show=\"new\" xlink:title=\"psysml:36daa16f-4b44-48c5-bcb7-7a401bcea152\" xlink:type=\"simple\"><path d=\"M262,331.8 C262,335.34 262,339.3 262,343.03 \" fill=\"none\" id=\"E5-&gt;*end*E1\" style=\"stroke: #383838; stroke-width: 1.0; stroke-dasharray: 7.0,7.0;\"/><polygon fill=\"#383838\" points=\"262,348.25,266,339.25,262,343.25,258,339.25,262,348.25\" style=\"stroke: #383838; stroke-width: 1.0;\"/></a><!--MD5=[2720a5a1f2c3fca2055b230370638851]\n",
       "link E2 to E3--><a href=\"psysml:c56e5692-64fd-4b0b-a986-d866765d0210\" target=\"_top\" title=\"psysml:c56e5692-64fd-4b0b-a986-d866765d0210\" xlink:actuate=\"onRequest\" xlink:href=\"psysml:c56e5692-64fd-4b0b-a986-d866765d0210\" xlink:show=\"new\" xlink:title=\"psysml:c56e5692-64fd-4b0b-a986-d866765d0210\" xlink:type=\"simple\"><path d=\"M257.45,124.53 C251.33,129.23 241.65,136.66 231.64,144.34 \" fill=\"none\" id=\"E2-&gt;E3\" style=\"stroke: #383838; stroke-width: 1.0; stroke-dasharray: 7.0,7.0;\"/><polygon fill=\"#383838\" points=\"227.64,147.41,237.2129,145.0948,231.6037,144.3621,232.3363,138.7529,227.64,147.41\" style=\"stroke: #383838; stroke-width: 1.0;\"/></a><!--MD5=[af87c684e3b0d8be13c1a698a818ef1e]\n",
       "link E3 to E4--><a href=\"psysml:363bb7e0-7ec1-401c-827a-8a23a32c7946\" target=\"_top\" title=\"psysml:363bb7e0-7ec1-401c-827a-8a23a32c7946\" xlink:actuate=\"onRequest\" xlink:href=\"psysml:363bb7e0-7ec1-401c-827a-8a23a32c7946\" xlink:show=\"new\" xlink:title=\"psysml:363bb7e0-7ec1-401c-827a-8a23a32c7946\" xlink:type=\"simple\"><path d=\"M191.13,202.74 C190.53,211.4 189.85,221.08 189.23,230.08 \" fill=\"none\" id=\"E3-&gt;E4\" style=\"stroke: #383838; stroke-width: 1.0; stroke-dasharray: 7.0,7.0;\"/><polygon fill=\"#383838\" points=\"188.86,235.28,193.468,226.5756,189.203,230.2918,185.4869,226.0268,188.86,235.28\" style=\"stroke: #383838; stroke-width: 1.0;\"/></a><!--MD5=[1b7591eae5389033d8d09a9d6721a717]\n",
       "link E4 to E5--><a href=\"psysml:84082b66-a23a-4779-a592-98d74f10d8d7\" target=\"_top\" title=\"psysml:84082b66-a23a-4779-a592-98d74f10d8d7\" xlink:actuate=\"onRequest\" xlink:href=\"psysml:84082b66-a23a-4779-a592-98d74f10d8d7\" xlink:show=\"new\" xlink:title=\"psysml:84082b66-a23a-4779-a592-98d74f10d8d7\" xlink:type=\"simple\"><path d=\"M223.62,290.61 C233.72,297.95 243.91,305.35 251.24,310.68 \" fill=\"none\" id=\"E4-&gt;E5\" style=\"stroke: #383838; stroke-width: 1.0; stroke-dasharray: 7.0,7.0;\"/><polygon fill=\"#383838\" points=\"255.42,313.72,250.4976,305.1894,251.3776,310.7774,245.7896,311.6574,255.42,313.72\" style=\"stroke: #383838; stroke-width: 1.0;\"/></a><!--MD5=[15ebcb19ae302d9b601edb458606d402]\n",
       "link E5 to E2--><a href=\"psysml:49753952-5c4c-4ef6-ad04-e80bfe7cb929\" target=\"_top\" title=\"psysml:49753952-5c4c-4ef6-ad04-e80bfe7cb929\" xlink:actuate=\"onRequest\" xlink:href=\"psysml:49753952-5c4c-4ef6-ad04-e80bfe7cb929\" xlink:show=\"new\" xlink:title=\"psysml:49753952-5c4c-4ef6-ad04-e80bfe7cb929\" xlink:type=\"simple\"><path d=\"M265,310.49 C273.84,285.73 298.06,208.48 281,147.5 C279.26,141.29 275.73,135.1 272.34,130.12 \" fill=\"none\" id=\"E5-&gt;E2\" style=\"stroke: #383838; stroke-width: 1.0; stroke-dasharray: 7.0,7.0;\"/><polygon fill=\"#383838\" points=\"269.31,125.92,271.3342,135.5586,272.2364,129.9741,277.8209,130.8763,269.31,125.92\" style=\"stroke: #383838; stroke-width: 1.0;\"/><text fill=\"#000000\" font-family=\"sans-serif\" font-size=\"13\" lengthAdjust=\"spacingAndGlyphs\" textLength=\"36\" x=\"287\" y=\"223.5669\">[true]</text></a><!--MD5=[fc5e12cb80f4f82a6e723ec4dded1af3]\n",
       "@startuml\r\n",
       "skinparam ranksep 8\r\n",
       "skinparam monochrome true\r\n",
       "skinparam classbackgroundcolor white\r\n",
       "skinparam shadowing false\r\n",
       "skinparam wrapWidth 300\r\n",
       "hide circle\r\n",
       "\r\n",
       "rec usage \"a\" as E1  <<(T,blue) action>> [[psysml:fa9c3421-7722-4415-b8c7-0ea19e95762e ]] {\r\n",
       "choice \"m\" as E2  [[psysml:60604585-cd78-42b0-92ae-265c1a2862a9 ]] \r\n",
       "accept \" S\" as E3 << accept action>> [[psysml:1a7559c2-685c-4c08-a29a-09c3177cd704 ]] \r\n",
       "send \" S() to  B()\" as E4 << send action>> [[psysml:57acc649-2893-4bd5-b427-585e4a8282d2 ]] \r\n",
       "choice \"noname\" as E5  [[psysml:dcda7bbd-01a5-4374-8a97-a16c2625889c ]] \r\n",
       "[*] ..> E2 [[psysml:3a6c3978-61f5-46d3-ad26-c963b1b56f5b ]] \r\n",
       "E5 ..> [*] [[psysml:36daa16f-4b44-48c5-bcb7-7a401bcea152 ]] \r\n",
       "}\r\n",
       "\r\n",
       "E2 ..> E3 [[psysml:c56e5692-64fd-4b0b-a986-d866765d0210 ]] \r\n",
       "E3 ..> E4 [[psysml:363bb7e0-7ec1-401c-827a-8a23a32c7946 ]] \r\n",
       "E4 ..> E5 [[psysml:84082b66-a23a-4779-a592-98d74f10d8d7 ]] \r\n",
       "E5 ..> E2 [[psysml:49753952-5c4c-4ef6-ad04-e80bfe7cb929 ]] : [true]\r\n",
       "rec def \"B\" as E6  <<(T,blue) action def>> [[psysml:86a7eb05-d2a7-4b0b-add7-eac0d2258e69 ]] {\r\n",
       "}\r\n",
       "\r\n",
       "@enduml\r\n",
       "\n",
       "PlantUML version 1.2020.13(Sat Jun 13 12:26:38 UTC 2020)\n",
       "(EPL source distribution)\n",
       "Java Runtime: OpenJDK Runtime Environment\n",
       "JVM: OpenJDK 64-Bit Server VM\n",
       "Default Encoding: UTF-8\n",
       "Language: en\n",
       "Country: null\n",
       "--></g></svg>"
      ]
     },
     "execution_count": 41,
     "metadata": {},
     "output_type": "execute_result"
    }
   ],
   "source": [
    "%viz --style=\"DEFAULT\" --view=\"Action\" \"ActionTest\""
   ]
  },
  {
   "cell_type": "code",
   "execution_count": 42,
   "id": "1822e5c0",
   "metadata": {
    "execution": {
     "iopub.execute_input": "2021-06-30T09:17:44.729182Z",
     "iopub.status.busy": "2021-06-30T09:17:44.728049Z",
     "iopub.status.idle": "2021-06-30T09:17:44.795752Z",
     "shell.execute_reply": "2021-06-30T09:17:44.794081Z"
    }
   },
   "outputs": [
    {
     "data": {
      "image/svg+xml": [
       "<?xml version=\"1.0\" encoding=\"UTF-8\" standalone=\"no\"?><svg xmlns=\"http://www.w3.org/2000/svg\" xmlns:xlink=\"http://www.w3.org/1999/xlink\" contentScriptType=\"application/ecmascript\" contentStyleType=\"text/css\" height=\"327px\" preserveAspectRatio=\"none\" style=\"width:677px;height:327px;\" version=\"1.1\" viewBox=\"0 0 677 327\" width=\"677px\" zoomAndPan=\"magnify\"><defs/><g><!--MD5=[fbc87193dbaf4d95561dea2c320d4a47]\n",
       "cluster E1--><a href=\"psysml:4a739ce7-b110-4093-8b74-31ee982b1e00\" target=\"_top\" title=\"psysml:4a739ce7-b110-4093-8b74-31ee982b1e00\" xlink:actuate=\"onRequest\" xlink:href=\"psysml:4a739ce7-b110-4093-8b74-31ee982b1e00\" xlink:show=\"new\" xlink:title=\"psysml:4a739ce7-b110-4093-8b74-31ee982b1e00\" xlink:type=\"simple\"><polygon fill=\"#FFFFFF\" points=\"16,6,107,6,114,28.2969,655,28.2969,655,315,16,315,16,6\" style=\"stroke: #000000; stroke-width: 1.5;\"/><line style=\"stroke: #000000; stroke-width: 1.5;\" x1=\"16\" x2=\"114\" y1=\"28.2969\" y2=\"28.2969\"/><text fill=\"#000000\" font-family=\"sans-serif\" font-size=\"14\" font-weight=\"bold\" lengthAdjust=\"spacingAndGlyphs\" textLength=\"85\" x=\"20\" y=\"20.9951\">ActionTest</text></a><!--MD5=[b4997ac47864f28c2f74865a473b2911]\n",
       "class E2--><a href=\"psysml:e3ea157b-753f-4ff0-b9f5-62b19f528d25\" target=\"_top\" title=\"psysml:e3ea157b-753f-4ff0-b9f5-62b19f528d25\" xlink:actuate=\"onRequest\" xlink:href=\"psysml:e3ea157b-753f-4ff0-b9f5-62b19f528d25\" xlink:show=\"new\" xlink:title=\"psysml:e3ea157b-753f-4ff0-b9f5-62b19f528d25\" xlink:type=\"simple\"><rect fill=\"#FFFFFF\" height=\"45.9375\" id=\"E2\" style=\"stroke: #383838; stroke-width: 1.5;\" width=\"95\" x=\"278.5\" y=\"253\"/><text fill=\"#000000\" font-family=\"sans-serif\" font-size=\"12\" font-style=\"italic\" lengthAdjust=\"spacingAndGlyphs\" textLength=\"93\" x=\"279.5\" y=\"269.1387\">«attribute def»</text><text fill=\"#000000\" font-family=\"sans-serif\" font-size=\"12\" lengthAdjust=\"spacingAndGlyphs\" textLength=\"8\" x=\"322\" y=\"283.1074\">S</text><line style=\"stroke: #383838; stroke-width: 1.5;\" x1=\"279.5\" x2=\"372.5\" y1=\"290.9375\" y2=\"290.9375\"/></a><!--MD5=[09b614a08d8cba4a07c9adeb5e0fee81]\n",
       "class E3--><a href=\"psysml:fa9c3421-7722-4415-b8c7-0ea19e95762e\" target=\"_top\" title=\"psysml:fa9c3421-7722-4415-b8c7-0ea19e95762e\" xlink:actuate=\"onRequest\" xlink:href=\"psysml:fa9c3421-7722-4415-b8c7-0ea19e95762e\" xlink:show=\"new\" xlink:title=\"psysml:fa9c3421-7722-4415-b8c7-0ea19e95762e\" xlink:type=\"simple\"><rect fill=\"#FFFFFF\" height=\"45.9375\" id=\"E3\" rx=\"10\" ry=\"10\" style=\"stroke: #383838; stroke-width: 1.5;\" width=\"55\" x=\"298.5\" y=\"41\"/><text fill=\"#000000\" font-family=\"sans-serif\" font-size=\"12\" font-style=\"italic\" lengthAdjust=\"spacingAndGlyphs\" textLength=\"53\" x=\"299.5\" y=\"57.1387\">«action»</text><text fill=\"#000000\" font-family=\"sans-serif\" font-size=\"12\" lengthAdjust=\"spacingAndGlyphs\" textLength=\"8\" x=\"322\" y=\"71.1074\">a</text><line style=\"stroke: #383838; stroke-width: 1.5;\" x1=\"299.5\" x2=\"352.5\" y1=\"78.9375\" y2=\"78.9375\"/></a><!--MD5=[ebbe1d658d1005bcc118a6aa81145e00]\n",
       "class E4--><a href=\"psysml:a6d1daf9-13da-45ca-a864-cb134e7177b5\" target=\"_top\" title=\"psysml:a6d1daf9-13da-45ca-a864-cb134e7177b5\" xlink:actuate=\"onRequest\" xlink:href=\"psysml:a6d1daf9-13da-45ca-a864-cb134e7177b5\" xlink:show=\"new\" xlink:title=\"psysml:a6d1daf9-13da-45ca-a864-cb134e7177b5\" xlink:type=\"simple\"><rect fill=\"#FFFFFF\" height=\"45.9375\" id=\"E4\" rx=\"10\" ry=\"10\" style=\"stroke: #383838; stroke-width: 1.5;\" width=\"83\" x=\"32.5\" y=\"147\"/><text fill=\"#000000\" font-family=\"sans-serif\" font-size=\"12\" font-style=\"italic\" lengthAdjust=\"spacingAndGlyphs\" textLength=\"53\" x=\"47.5\" y=\"163.1387\">«action»</text><text fill=\"#000000\" font-family=\"sans-serif\" font-size=\"12\" lengthAdjust=\"spacingAndGlyphs\" textLength=\"77\" x=\"35.5\" y=\"177.1074\">start: Action</text><line style=\"stroke: #383838; stroke-width: 1.5;\" x1=\"33.5\" x2=\"114.5\" y1=\"184.9375\" y2=\"184.9375\"/></a><!--MD5=[270fce915f116d4de14055a7c1d9a0f3]\n",
       "class E5--><a href=\"psysml:60604585-cd78-42b0-92ae-265c1a2862a9\" target=\"_top\" title=\"psysml:60604585-cd78-42b0-92ae-265c1a2862a9\" xlink:actuate=\"onRequest\" xlink:href=\"psysml:60604585-cd78-42b0-92ae-265c1a2862a9\" xlink:show=\"new\" xlink:title=\"psysml:60604585-cd78-42b0-92ae-265c1a2862a9\" xlink:type=\"simple\"><rect fill=\"#FFFFFF\" height=\"45.9375\" id=\"E5\" rx=\"10\" ry=\"10\" style=\"stroke: #383838; stroke-width: 1.5;\" width=\"89\" x=\"150.5\" y=\"147\"/><text fill=\"#000000\" font-family=\"sans-serif\" font-size=\"12\" font-style=\"italic\" lengthAdjust=\"spacingAndGlyphs\" textLength=\"87\" x=\"151.5\" y=\"163.1387\">«mergeNode»</text><text fill=\"#000000\" font-family=\"sans-serif\" font-size=\"12\" lengthAdjust=\"spacingAndGlyphs\" textLength=\"11\" x=\"189.5\" y=\"177.1074\">m</text><line style=\"stroke: #383838; stroke-width: 1.5;\" x1=\"151.5\" x2=\"238.5\" y1=\"184.9375\" y2=\"184.9375\"/></a><!--MD5=[60a26617385b1d2d0262a64233df1f8d]\n",
       "class E6--><a href=\"psysml:1a7559c2-685c-4c08-a29a-09c3177cd704\" target=\"_top\" title=\"psysml:1a7559c2-685c-4c08-a29a-09c3177cd704\" xlink:actuate=\"onRequest\" xlink:href=\"psysml:1a7559c2-685c-4c08-a29a-09c3177cd704\" xlink:show=\"new\" xlink:title=\"psysml:1a7559c2-685c-4c08-a29a-09c3177cd704\" xlink:type=\"simple\"><rect fill=\"#FFFFFF\" height=\"45.9375\" id=\"E6\" rx=\"10\" ry=\"10\" style=\"stroke: #383838; stroke-width: 1.5;\" width=\"102\" x=\"275\" y=\"147\"/><text fill=\"#000000\" font-family=\"sans-serif\" font-size=\"12\" font-style=\"italic\" lengthAdjust=\"spacingAndGlyphs\" textLength=\"100\" x=\"276\" y=\"163.1387\">«accept action»</text><text fill=\"#000000\" font-family=\"sans-serif\" font-size=\"12\" lengthAdjust=\"spacingAndGlyphs\" text-decoration=\"line-through\" textLength=\"51\" x=\"300.5\" y=\"177.1074\">noname</text><line style=\"stroke: #383838; stroke-width: 1.5;\" x1=\"276\" x2=\"376\" y1=\"184.9375\" y2=\"184.9375\"/></a><!--MD5=[2156ba9850f5573cc1fc38a6a4b2f02b]\n",
       "class E7--><a href=\"psysml:57acc649-2893-4bd5-b427-585e4a8282d2\" target=\"_top\" title=\"psysml:57acc649-2893-4bd5-b427-585e4a8282d2\" xlink:actuate=\"onRequest\" xlink:href=\"psysml:57acc649-2893-4bd5-b427-585e4a8282d2\" xlink:show=\"new\" xlink:title=\"psysml:57acc649-2893-4bd5-b427-585e4a8282d2\" xlink:type=\"simple\"><rect fill=\"#FFFFFF\" height=\"45.9375\" id=\"E7\" rx=\"10\" ry=\"10\" style=\"stroke: #383838; stroke-width: 1.5;\" width=\"90\" x=\"412\" y=\"147\"/><text fill=\"#000000\" font-family=\"sans-serif\" font-size=\"12\" font-style=\"italic\" lengthAdjust=\"spacingAndGlyphs\" textLength=\"88\" x=\"413\" y=\"163.1387\">«send action»</text><text fill=\"#000000\" font-family=\"sans-serif\" font-size=\"12\" lengthAdjust=\"spacingAndGlyphs\" text-decoration=\"line-through\" textLength=\"51\" x=\"431.5\" y=\"177.1074\">noname</text><line style=\"stroke: #383838; stroke-width: 1.5;\" x1=\"413\" x2=\"501\" y1=\"184.9375\" y2=\"184.9375\"/></a><!--MD5=[b9389687b975829384b498ac4b7476b2]\n",
       "class E8--><a href=\"psysml:dcda7bbd-01a5-4374-8a97-a16c2625889c\" target=\"_top\" title=\"psysml:dcda7bbd-01a5-4374-8a97-a16c2625889c\" xlink:actuate=\"onRequest\" xlink:href=\"psysml:dcda7bbd-01a5-4374-8a97-a16c2625889c\" xlink:show=\"new\" xlink:title=\"psysml:dcda7bbd-01a5-4374-8a97-a16c2625889c\" xlink:type=\"simple\"><rect fill=\"#FFFFFF\" height=\"45.9375\" id=\"E8\" rx=\"10\" ry=\"10\" style=\"stroke: #383838; stroke-width: 1.5;\" width=\"101\" x=\"537.5\" y=\"147\"/><text fill=\"#000000\" font-family=\"sans-serif\" font-size=\"12\" font-style=\"italic\" lengthAdjust=\"spacingAndGlyphs\" textLength=\"99\" x=\"538.5\" y=\"163.1387\">«decisionNode»</text><text fill=\"#000000\" font-family=\"sans-serif\" font-size=\"12\" lengthAdjust=\"spacingAndGlyphs\" text-decoration=\"line-through\" textLength=\"51\" x=\"562.5\" y=\"177.1074\">noname</text><line style=\"stroke: #383838; stroke-width: 1.5;\" x1=\"538.5\" x2=\"637.5\" y1=\"184.9375\" y2=\"184.9375\"/></a><!--MD5=[fd4143e9d270a159db93a4ea2a975926]\n",
       "class E9--><a href=\"psysml:86a7eb05-d2a7-4b0b-add7-eac0d2258e69\" target=\"_top\" title=\"psysml:86a7eb05-d2a7-4b0b-add7-eac0d2258e69\" xlink:actuate=\"onRequest\" xlink:href=\"psysml:86a7eb05-d2a7-4b0b-add7-eac0d2258e69\" xlink:show=\"new\" xlink:title=\"psysml:86a7eb05-d2a7-4b0b-add7-eac0d2258e69\" xlink:type=\"simple\"><rect fill=\"#FFFFFF\" height=\"45.9375\" id=\"E9\" style=\"stroke: #383838; stroke-width: 1.5;\" width=\"79\" x=\"108.5\" y=\"41\"/><text fill=\"#000000\" font-family=\"sans-serif\" font-size=\"12\" font-style=\"italic\" lengthAdjust=\"spacingAndGlyphs\" textLength=\"77\" x=\"109.5\" y=\"57.1387\">«action def»</text><text fill=\"#000000\" font-family=\"sans-serif\" font-size=\"12\" lengthAdjust=\"spacingAndGlyphs\" textLength=\"8\" x=\"144\" y=\"71.1074\">B</text><line style=\"stroke: #383838; stroke-width: 1.5;\" x1=\"109.5\" x2=\"186.5\" y1=\"78.9375\" y2=\"78.9375\"/></a><!--MD5=[4672eba38e49728da53d11aeb285b987]\n",
       "reverse link E3 to E4--><a href=\"psysml:52dfc4ad-a62d-4432-a88b-57c0a80d621d\" target=\"_top\" title=\"psysml:52dfc4ad-a62d-4432-a88b-57c0a80d621d\" xlink:actuate=\"onRequest\" xlink:href=\"psysml:52dfc4ad-a62d-4432-a88b-57c0a80d621d\" xlink:show=\"new\" xlink:title=\"psysml:52dfc4ad-a62d-4432-a88b-57c0a80d621d\" xlink:type=\"simple\"><path d=\"M285.79,81.6 C239.27,100.79 163.05,132.25 115.85,151.73 \" fill=\"none\" id=\"E3&lt;-E4\" style=\"stroke: #383838; stroke-width: 1.0;\"/><polygon fill=\"#FFFFFF\" points=\"298.07,76.53,290.9979,75.1209,286.9771,81.107,294.0492,82.5161,298.07,76.53\" style=\"stroke: #383838; stroke-width: 1.0;\"/></a><!--MD5=[191cde3d490a3f6d7bb551fe3ddca469]\n",
       "reverse link E3 to E5--><a href=\"psysml:99d9f5a6-f2b4-4631-bd24-2952b87c2311\" target=\"_top\" title=\"psysml:99d9f5a6-f2b4-4631-bd24-2952b87c2311\" xlink:actuate=\"onRequest\" xlink:href=\"psysml:99d9f5a6-f2b4-4631-bd24-2952b87c2311\" xlink:show=\"new\" xlink:title=\"psysml:99d9f5a6-f2b4-4631-bd24-2952b87c2311\" xlink:type=\"simple\"><path d=\"M287.79,95.33 C266.97,111.86 241.66,131.95 222.74,146.98 \" fill=\"none\" id=\"E3&lt;-E5\" style=\"stroke: #383838; stroke-width: 1.0;\"/><polygon fill=\"#383838\" points=\"298.22,87.06,291.0341,87.6625,288.8265,94.5273,296.0123,93.9249,298.22,87.06\" style=\"stroke: #383838; stroke-width: 1.0;\"/></a><!--MD5=[1026b4b93417a13aa8999a858998add2]\n",
       "reverse link E3 to E6--><a href=\"psysml:14dfaf6d-db59-420e-a3c6-2cc6bbb5f023\" target=\"_top\" title=\"psysml:14dfaf6d-db59-420e-a3c6-2cc6bbb5f023\" xlink:actuate=\"onRequest\" xlink:href=\"psysml:14dfaf6d-db59-420e-a3c6-2cc6bbb5f023\" xlink:show=\"new\" xlink:title=\"psysml:14dfaf6d-db59-420e-a3c6-2cc6bbb5f023\" xlink:type=\"simple\"><path d=\"M326,100.44 C326,115.87 326,133.47 326,146.98 \" fill=\"none\" id=\"E3&lt;-E6\" style=\"stroke: #383838; stroke-width: 1.0;\"/><polygon fill=\"#FFFFFF\" points=\"326,87.06,322,93.06,326,99.06,330,93.06,326,87.06\" style=\"stroke: #383838; stroke-width: 1.0;\"/></a><!--MD5=[3403bfa781cc3da0fd423dbab6f01c63]\n",
       "reverse link E6 to E2--><a href=\"psysml:773d19c1-1d9b-4741-b5ba-dd5a31e080a3\" target=\"_top\" title=\"psysml:773d19c1-1d9b-4741-b5ba-dd5a31e080a3\" xlink:actuate=\"onRequest\" xlink:href=\"psysml:773d19c1-1d9b-4741-b5ba-dd5a31e080a3\" xlink:show=\"new\" xlink:title=\"psysml:773d19c1-1d9b-4741-b5ba-dd5a31e080a3\" xlink:type=\"simple\"><path d=\"M326,206.44 C326,221.87 326,239.47 326,252.98 \" fill=\"none\" id=\"E6&lt;-E2\" style=\"stroke: #383838; stroke-width: 1.0;\"/><polygon fill=\"#FFFFFF\" points=\"326,193.06,322,199.06,326,205.06,330,199.06,326,193.06\" style=\"stroke: #383838; stroke-width: 1.0;\"/></a><!--MD5=[85760999379eecfd2565a9fecdca67e4]\n",
       "reverse link E3 to E7--><a href=\"psysml:4bddb34b-31d0-4487-9835-f5e5c1238220\" target=\"_top\" title=\"psysml:4bddb34b-31d0-4487-9835-f5e5c1238220\" xlink:actuate=\"onRequest\" xlink:href=\"psysml:4bddb34b-31d0-4487-9835-f5e5c1238220\" xlink:show=\"new\" xlink:title=\"psysml:4bddb34b-31d0-4487-9835-f5e5c1238220\" xlink:type=\"simple\"><path d=\"M364.21,95.33 C385.03,111.86 410.34,131.95 429.26,146.98 \" fill=\"none\" id=\"E3&lt;-E7\" style=\"stroke: #383838; stroke-width: 1.0;\"/><polygon fill=\"#FFFFFF\" points=\"353.78,87.06,355.9877,93.9249,363.1735,94.5273,360.9659,87.6625,353.78,87.06\" style=\"stroke: #383838; stroke-width: 1.0;\"/></a><!--MD5=[4cb75b73ec3682b8f7f8edc9cc86126a]\n",
       "reverse link E3 to E8--><a href=\"psysml:010ce356-5f58-462c-8431-75351dc3ac74\" target=\"_top\" title=\"psysml:010ce356-5f58-462c-8431-75351dc3ac74\" xlink:actuate=\"onRequest\" xlink:href=\"psysml:010ce356-5f58-462c-8431-75351dc3ac74\" xlink:show=\"new\" xlink:title=\"psysml:010ce356-5f58-462c-8431-75351dc3ac74\" xlink:type=\"simple\"><path d=\"M365.63,80.73 C411.46,98.92 486.99,128.91 537.12,148.8 \" fill=\"none\" id=\"E3&lt;-E8\" style=\"stroke: #383838; stroke-width: 1.0;\"/><polygon fill=\"#383838\" points=\"353.54,75.93,357.6459,81.858,364.6971,80.348,360.5912,74.42,353.54,75.93\" style=\"stroke: #383838; stroke-width: 1.0;\"/></a><!--MD5=[2e1dd7b04394024d01066abe0748b366]\n",
       "@startuml\r\n",
       "skinparam monochrome true\r\n",
       "skinparam classbackgroundcolor white\r\n",
       "skinparam shadowing false\r\n",
       "skinparam wrapWidth 300\r\n",
       "hide circle\r\n",
       "\r\n",
       "package \"ActionTest\" as E1  [[psysml:4a739ce7-b110-4093-8b74-31ee982b1e00 ]]  {\r\n",
       "comp def \"S\" as E2  <<(T,blue) attribute def>> [[psysml:e3ea157b-753f-4ff0-b9f5-62b19f528d25 ]] {\r\n",
       "}\r\n",
       "comp usage \"a\" as E3  <<(T,blue) action>> [[psysml:fa9c3421-7722-4415-b8c7-0ea19e95762e ]] {\r\n",
       "}\r\n",
       "comp usage \"start: Action\" as E4  <<(T,blue) action>> [[psysml:a6d1daf9-13da-45ca-a864-cb134e7177b5 ]] {\r\n",
       "}\r\n",
       "comp usage \"m\" as E5  <<(T,blue) mergeNode>> [[psysml:60604585-cd78-42b0-92ae-265c1a2862a9 ]] {\r\n",
       "}\r\n",
       "comp usage \"<s>noname</s>\" as E6 << accept action>> [[psysml:1a7559c2-685c-4c08-a29a-09c3177cd704 ]] {\r\n",
       "}\r\n",
       "comp usage \"<s>noname</s>\" as E7 << send action>> [[psysml:57acc649-2893-4bd5-b427-585e4a8282d2 ]] {\r\n",
       "}\r\n",
       "comp usage \"<s>noname</s>\" as E8  <<(T,blue) decisionNode>> [[psysml:dcda7bbd-01a5-4374-8a97-a16c2625889c ]] {\r\n",
       "}\r\n",
       "comp def \"B\" as E9  <<(T,blue) action def>> [[psysml:86a7eb05-d2a7-4b0b-add7-eac0d2258e69 ]] {\r\n",
       "}\r\n",
       "E3 o- - E4 [[psysml:52dfc4ad-a62d-4432-a88b-57c0a80d621d ]] \r\n",
       "E3 *- - E5 [[psysml:99d9f5a6-f2b4-4631-bd24-2952b87c2311 ]] \r\n",
       "E3 o- - E6 [[psysml:14dfaf6d-db59-420e-a3c6-2cc6bbb5f023 ]] \r\n",
       "E6 o- - E2 [[psysml:773d19c1-1d9b-4741-b5ba-dd5a31e080a3 ]] \r\n",
       "E3 o- - E7 [[psysml:4bddb34b-31d0-4487-9835-f5e5c1238220 ]] \r\n",
       "E3 *- - E8 [[psysml:010ce356-5f58-462c-8431-75351dc3ac74 ]] \r\n",
       "}\r\n",
       "@enduml\r\n",
       "\n",
       "PlantUML version 1.2020.13(Sat Jun 13 12:26:38 UTC 2020)\n",
       "(EPL source distribution)\n",
       "Java Runtime: OpenJDK Runtime Environment\n",
       "JVM: OpenJDK 64-Bit Server VM\n",
       "Default Encoding: UTF-8\n",
       "Language: en\n",
       "Country: null\n",
       "--></g></svg>"
      ]
     },
     "execution_count": 42,
     "metadata": {},
     "output_type": "execute_result"
    }
   ],
   "source": [
    "%viz --style=\"DEFAULT\" --view=\"Sequence\" \"ActionTest\""
   ]
  },
  {
   "cell_type": "code",
   "execution_count": 43,
   "id": "3a2a62e8",
   "metadata": {
    "execution": {
     "iopub.execute_input": "2021-06-30T09:17:44.849763Z",
     "iopub.status.busy": "2021-06-30T09:17:44.848852Z",
     "iopub.status.idle": "2021-06-30T09:17:44.945337Z",
     "shell.execute_reply": "2021-06-30T09:17:44.942051Z"
    }
   },
   "outputs": [
    {
     "data": {
      "image/svg+xml": [
       "<?xml version=\"1.0\" encoding=\"UTF-8\" standalone=\"no\"?><svg xmlns=\"http://www.w3.org/2000/svg\" xmlns:xlink=\"http://www.w3.org/1999/xlink\" contentScriptType=\"application/ecmascript\" contentStyleType=\"text/css\" height=\"684px\" preserveAspectRatio=\"none\" style=\"width:518px;height:684px;\" version=\"1.1\" viewBox=\"0 0 518 684\" width=\"518px\" zoomAndPan=\"magnify\"><defs/><g><!--MD5=[fbc87193dbaf4d95561dea2c320d4a47]\n",
       "cluster E1--><a href=\"psysml:4a739ce7-b110-4093-8b74-31ee982b1e00\" target=\"_top\" title=\"psysml:4a739ce7-b110-4093-8b74-31ee982b1e00\" xlink:actuate=\"onRequest\" xlink:href=\"psysml:4a739ce7-b110-4093-8b74-31ee982b1e00\" xlink:show=\"new\" xlink:title=\"psysml:4a739ce7-b110-4093-8b74-31ee982b1e00\" xlink:type=\"simple\"><polygon fill=\"#FFFFFF\" points=\"16,6,107,6,114,28.2969,496,28.2969,496,672,16,672,16,6\" style=\"stroke: #000000; stroke-width: 1.5;\"/><line style=\"stroke: #000000; stroke-width: 1.5;\" x1=\"16\" x2=\"114\" y1=\"28.2969\" y2=\"28.2969\"/><text fill=\"#000000\" font-family=\"sans-serif\" font-size=\"14\" font-weight=\"bold\" lengthAdjust=\"spacingAndGlyphs\" textLength=\"85\" x=\"20\" y=\"20.9951\">ActionTest</text></a><!--MD5=[d5e69f78d87373223dbae638b30a9c99]\n",
       "cluster E3--><a href=\"psysml:fa9c3421-7722-4415-b8c7-0ea19e95762e\" target=\"_top\" title=\"psysml:fa9c3421-7722-4415-b8c7-0ea19e95762e\" xlink:actuate=\"onRequest\" xlink:href=\"psysml:fa9c3421-7722-4415-b8c7-0ea19e95762e\" xlink:show=\"new\" xlink:title=\"psysml:fa9c3421-7722-4415-b8c7-0ea19e95762e\" xlink:type=\"simple\"><rect fill=\"#FFFFFF\" height=\"599\" id=\"E3\" rx=\"10\" ry=\"10\" style=\"stroke: #383838; stroke-width: 1.5;\" width=\"209\" x=\"263\" y=\"49\"/><rect fill=\"#F8F8F8\" height=\"37.9375\" rx=\"10\" ry=\"10\" style=\"stroke: #F8F8F8; stroke-width: 1.5;\" width=\"209\" x=\"263\" y=\"49\"/><rect fill=\"#F8F8F8\" height=\"10\" style=\"stroke: #F8F8F8; stroke-width: 1.5;\" width=\"209\" x=\"263\" y=\"76.9375\"/><rect fill=\"none\" height=\"599\" id=\"E3\" rx=\"10\" ry=\"10\" style=\"stroke: #383838; stroke-width: 1.5;\" width=\"209\" x=\"263\" y=\"49\"/><text fill=\"#000000\" font-family=\"sans-serif\" font-size=\"12\" font-style=\"italic\" lengthAdjust=\"spacingAndGlyphs\" textLength=\"53\" x=\"341\" y=\"65.1387\">«action»</text><text fill=\"#000000\" font-family=\"sans-serif\" font-size=\"12\" lengthAdjust=\"spacingAndGlyphs\" textLength=\"8\" x=\"363.5\" y=\"79.1074\">a</text><line style=\"stroke: #383838; stroke-width: 1.0;\" x1=\"263\" x2=\"472\" y1=\"86.9375\" y2=\"86.9375\"/></a><!--MD5=[b4997ac47864f28c2f74865a473b2911]\n",
       "class E2--><a href=\"psysml:e3ea157b-753f-4ff0-b9f5-62b19f528d25\" target=\"_top\" title=\"psysml:e3ea157b-753f-4ff0-b9f5-62b19f528d25\" xlink:actuate=\"onRequest\" xlink:href=\"psysml:e3ea157b-753f-4ff0-b9f5-62b19f528d25\" xlink:show=\"new\" xlink:title=\"psysml:e3ea157b-753f-4ff0-b9f5-62b19f528d25\" xlink:type=\"simple\"><rect fill=\"#FFFFFF\" height=\"45.9375\" id=\"E2\" style=\"stroke: #383838; stroke-width: 1.5;\" width=\"95\" x=\"151.5\" y=\"87\"/><text fill=\"#000000\" font-family=\"sans-serif\" font-size=\"12\" font-style=\"italic\" lengthAdjust=\"spacingAndGlyphs\" textLength=\"93\" x=\"152.5\" y=\"103.1387\">«attribute def»</text><text fill=\"#000000\" font-family=\"sans-serif\" font-size=\"12\" lengthAdjust=\"spacingAndGlyphs\" textLength=\"8\" x=\"195\" y=\"117.1074\">S</text><line style=\"stroke: #383838; stroke-width: 1.5;\" x1=\"152.5\" x2=\"245.5\" y1=\"124.9375\" y2=\"124.9375\"/></a><polygon fill=\"#F8F8F8\" points=\"420,194,432,206,420,218,408,206,420,194\" style=\"stroke: #383838; stroke-width: 1.5;\"/><!--MD5=[21dd76c19d33815960c0e92fef8f0eef]\n",
       "entity E5--><a href=\"psysml:1a7559c2-685c-4c08-a29a-09c3177cd704\" target=\"_top\" title=\"psysml:1a7559c2-685c-4c08-a29a-09c3177cd704\" xlink:actuate=\"onRequest\" xlink:href=\"psysml:1a7559c2-685c-4c08-a29a-09c3177cd704\" xlink:show=\"new\" xlink:title=\"psysml:1a7559c2-685c-4c08-a29a-09c3177cd704\" xlink:type=\"simple\"><polygon fill=\"#F8F8F8\" points=\"279,279,279,333.5938,419,333.5938,399,306.2969,419,279\" style=\"stroke: #000000; stroke-width: 1.5;\"/><text fill=\"#000000\" font-family=\"sans-serif\" font-size=\"14\" font-style=\"italic\" lengthAdjust=\"spacingAndGlyphs\" textLength=\"111\" x=\"286\" y=\"301.9951\">«accept action»</text><text fill=\"#000000\" font-family=\"sans-serif\" font-size=\"14\" lengthAdjust=\"spacingAndGlyphs\" textLength=\"9\" x=\"337\" y=\"319.292\">S</text></a><!--MD5=[24d87cdf3002d433f401b2a2aa9f9f65]\n",
       "entity E6--><a href=\"psysml:57acc649-2893-4bd5-b427-585e4a8282d2\" target=\"_top\" title=\"psysml:57acc649-2893-4bd5-b427-585e4a8282d2\" xlink:actuate=\"onRequest\" xlink:href=\"psysml:57acc649-2893-4bd5-b427-585e4a8282d2\" xlink:show=\"new\" xlink:title=\"psysml:57acc649-2893-4bd5-b427-585e4a8282d2\" xlink:type=\"simple\"><polygon fill=\"#F8F8F8\" points=\"279,411,279,465.5938,387,465.5938,407,438.2969,387,411\" style=\"stroke: #000000; stroke-width: 1.5;\"/><text fill=\"#000000\" font-family=\"sans-serif\" font-size=\"14\" font-style=\"italic\" lengthAdjust=\"spacingAndGlyphs\" textLength=\"99\" x=\"286\" y=\"433.9951\">«send action»</text><text fill=\"#000000\" font-family=\"sans-serif\" font-size=\"14\" lengthAdjust=\"spacingAndGlyphs\" textLength=\"65\" x=\"303\" y=\"451.292\">S() to  B()</text></a><polygon fill=\"#F8F8F8\" points=\"418,527,430,539,418,551,406,539,418,527\" style=\"stroke: #383838; stroke-width: 1.5;\"/><ellipse cx=\"420\" cy=\"110\" fill=\"#000000\" rx=\"10\" ry=\"10\" style=\"stroke: none; stroke-width: 1.0;\"/><ellipse cx=\"418\" cy=\"622\" fill=\"none\" rx=\"10\" ry=\"10\" style=\"stroke: #000000; stroke-width: 1.0;\"/><ellipse cx=\"418.5\" cy=\"622.5\" fill=\"#000000\" rx=\"6\" ry=\"6\" style=\"stroke: none; stroke-width: 1.0;\"/><g id=\"E1.E8\"><a href=\"psysml:86a7eb05-d2a7-4b0b-add7-eac0d2258e69\" target=\"_top\" title=\"psysml:86a7eb05-d2a7-4b0b-add7-eac0d2258e69\" xlink:actuate=\"onRequest\" xlink:href=\"psysml:86a7eb05-d2a7-4b0b-add7-eac0d2258e69\" xlink:show=\"new\" xlink:title=\"psysml:86a7eb05-d2a7-4b0b-add7-eac0d2258e69\" xlink:type=\"simple\"><rect fill=\"#FFFFFF\" height=\"42.9375\" id=\"E8\" style=\"stroke: #383838; stroke-width: 1.5;\" width=\"84\" x=\"32\" y=\"88.5\"/><rect fill=\"#F8F8F8\" height=\"37.9375\" style=\"stroke: #383838; stroke-width: 1.5;\" width=\"84\" x=\"32\" y=\"88.5\"/><text fill=\"#000000\" font-family=\"sans-serif\" font-size=\"12\" font-style=\"italic\" lengthAdjust=\"spacingAndGlyphs\" textLength=\"77\" x=\"35.5\" y=\"104.6387\">«action def»</text><text fill=\"#000000\" font-family=\"sans-serif\" font-size=\"12\" lengthAdjust=\"spacingAndGlyphs\" textLength=\"8\" x=\"70\" y=\"118.6074\">B</text></a></g><!--MD5=[f47e10efcf9a6752d55dae986d790ed9]\n",
       "link *start*E3 to E4--><a href=\"psysml:3a6c3978-61f5-46d3-ad26-c963b1b56f5b\" target=\"_top\" title=\"psysml:3a6c3978-61f5-46d3-ad26-c963b1b56f5b\" xlink:actuate=\"onRequest\" xlink:href=\"psysml:3a6c3978-61f5-46d3-ad26-c963b1b56f5b\" xlink:show=\"new\" xlink:title=\"psysml:3a6c3978-61f5-46d3-ad26-c963b1b56f5b\" xlink:type=\"simple\"><path d=\"M420,120.01 C420,135.81 420,168.69 420,188.61 \" fill=\"none\" id=\"*start*E3-&gt;E4\" style=\"stroke: #383838; stroke-width: 1.0;\"/><polygon fill=\"#383838\" points=\"420,193.85,424,184.85,420,188.85,416,184.85,420,193.85\" style=\"stroke: #383838; stroke-width: 1.0;\"/></a><!--MD5=[d19f2eb34364d71b67042106d92f540b]\n",
       "link E7 to *end*E3--><a href=\"psysml:36daa16f-4b44-48c5-bcb7-7a401bcea152\" target=\"_top\" title=\"psysml:36daa16f-4b44-48c5-bcb7-7a401bcea152\" xlink:actuate=\"onRequest\" xlink:href=\"psysml:36daa16f-4b44-48c5-bcb7-7a401bcea152\" xlink:show=\"new\" xlink:title=\"psysml:36daa16f-4b44-48c5-bcb7-7a401bcea152\" xlink:type=\"simple\"><path d=\"M418,551.26 C418,565.66 418,590.63 418,606.46 \" fill=\"none\" id=\"E7-&gt;*end*E3\" style=\"stroke: #383838; stroke-width: 1.0;\"/><polygon fill=\"#383838\" points=\"418,611.84,422,602.84,418,606.84,414,602.84,418,611.84\" style=\"stroke: #383838; stroke-width: 1.0;\"/></a><!--MD5=[1b7591eae5389033d8d09a9d6721a717]\n",
       "link E4 to E5--><a href=\"psysml:c56e5692-64fd-4b0b-a986-d866765d0210\" target=\"_top\" title=\"psysml:c56e5692-64fd-4b0b-a986-d866765d0210\" xlink:actuate=\"onRequest\" xlink:href=\"psysml:c56e5692-64fd-4b0b-a986-d866765d0210\" xlink:show=\"new\" xlink:title=\"psysml:c56e5692-64fd-4b0b-a986-d866765d0210\" xlink:type=\"simple\"><path d=\"M415.34,213.46 C406.55,225.66 386.99,252.8 371.37,274.46 \" fill=\"none\" id=\"E4-&gt;E5\" style=\"stroke: #383838; stroke-width: 1.0;\"/><polygon fill=\"#383838\" points=\"368.31,278.71,376.8093,273.7339,371.227,274.6491,370.3119,269.0667,368.31,278.71\" style=\"stroke: #383838; stroke-width: 1.0;\"/></a><!--MD5=[9120cf2e5df3bff93db8f754bbbc09b4]\n",
       "link E5 to E6--><a href=\"psysml:363bb7e0-7ec1-401c-827a-8a23a32c7946\" target=\"_top\" title=\"psysml:363bb7e0-7ec1-401c-827a-8a23a32c7946\" xlink:actuate=\"onRequest\" xlink:href=\"psysml:363bb7e0-7ec1-401c-827a-8a23a32c7946\" xlink:show=\"new\" xlink:title=\"psysml:363bb7e0-7ec1-401c-827a-8a23a32c7946\" xlink:type=\"simple\"><path d=\"M347.77,334.12 C346.81,354.89 345.48,383.8 344.46,405.77 \" fill=\"none\" id=\"E5-&gt;E6\" style=\"stroke: #383838; stroke-width: 1.0;\"/><polygon fill=\"#383838\" points=\"344.23,410.91,348.6368,402.1021,344.4583,405.9152,340.6452,401.7367,344.23,410.91\" style=\"stroke: #383838; stroke-width: 1.0;\"/></a><!--MD5=[02c70b7c851c11e3980e4e90450dc5dd]\n",
       "link E6 to E7--><a href=\"psysml:84082b66-a23a-4779-a592-98d74f10d8d7\" target=\"_top\" title=\"psysml:84082b66-a23a-4779-a592-98d74f10d8d7\" xlink:actuate=\"onRequest\" xlink:href=\"psysml:84082b66-a23a-4779-a592-98d74f10d8d7\" xlink:show=\"new\" xlink:title=\"psysml:84082b66-a23a-4779-a592-98d74f10d8d7\" xlink:type=\"simple\"><path d=\"M363.3,466.16 C378.71,486.4 399.07,513.14 410.09,527.61 \" fill=\"none\" id=\"E6-&gt;E7\" style=\"stroke: #383838; stroke-width: 1.0;\"/><polygon fill=\"#383838\" points=\"413.2,531.69,410.9398,522.104,410.1749,527.7089,404.57,526.9441,413.2,531.69\" style=\"stroke: #383838; stroke-width: 1.0;\"/></a><!--MD5=[6bdd27f9905911a7e892a3dc65cf6b7c]\n",
       "link E7 to E4--><a href=\"psysml:49753952-5c4c-4ef6-ad04-e80bfe7cb929\" target=\"_top\" title=\"psysml:49753952-5c4c-4ef6-ad04-e80bfe7cb929\" xlink:actuate=\"onRequest\" xlink:href=\"psysml:49753952-5c4c-4ef6-ad04-e80bfe7cb929\" xlink:show=\"new\" xlink:title=\"psysml:49753952-5c4c-4ef6-ad04-e80bfe7cb929\" xlink:type=\"simple\"><path d=\"M419.98,528.56 C426.8,494.71 448.32,376.18 437,279 C434.59,258.32 428.42,234.96 424.21,220.61 \" fill=\"none\" id=\"E7-&gt;E4\" style=\"stroke: #383838; stroke-width: 1.0;\"/><polygon fill=\"#383838\" points=\"422.76,215.75,421.4935,225.5171,424.1863,220.5423,429.1611,223.2351,422.76,215.75\" style=\"stroke: #383838; stroke-width: 1.0;\"/><text fill=\"#000000\" font-family=\"sans-serif\" font-size=\"13\" lengthAdjust=\"spacingAndGlyphs\" textLength=\"36\" x=\"440\" y=\"377.0669\">[true]</text></a><!--MD5=[3d06df4976ee8ad30ad96b31b392326a]\n",
       "@startuml\r\n",
       "skinparam monochrome true\r\n",
       "skinparam classbackgroundcolor white\r\n",
       "skinparam shadowing false\r\n",
       "skinparam wrapWidth 300\r\n",
       "hide circle\r\n",
       "\r\n",
       "package \"ActionTest\" as E1  [[psysml:4a739ce7-b110-4093-8b74-31ee982b1e00 ]]  {\r\n",
       "comp def \"S\" as E2  <<(T,blue) attribute def>> [[psysml:e3ea157b-753f-4ff0-b9f5-62b19f528d25 ]] {\r\n",
       "}\r\n",
       "rec usage \"a\" as E3  <<(T,blue) action>> [[psysml:fa9c3421-7722-4415-b8c7-0ea19e95762e ]] {\r\n",
       "choice \"m\" as E4  [[psysml:60604585-cd78-42b0-92ae-265c1a2862a9 ]] \r\n",
       "accept \" S\" as E5 << accept action>> [[psysml:1a7559c2-685c-4c08-a29a-09c3177cd704 ]] \r\n",
       "send \" S() to  B()\" as E6 << send action>> [[psysml:57acc649-2893-4bd5-b427-585e4a8282d2 ]] \r\n",
       "choice \"noname\" as E7  [[psysml:dcda7bbd-01a5-4374-8a97-a16c2625889c ]] \r\n",
       "[*] - -> E4 [[psysml:3a6c3978-61f5-46d3-ad26-c963b1b56f5b ]] \r\n",
       "E7  - -> [*] [[psysml:36daa16f-4b44-48c5-bcb7-7a401bcea152 ]] \r\n",
       "}\r\n",
       "\r\n",
       "rec def \"B\" as E8  <<(T,blue) action def>> [[psysml:86a7eb05-d2a7-4b0b-add7-eac0d2258e69 ]] {\r\n",
       "}\r\n",
       "\r\n",
       "E4 - -> E5 [[psysml:c56e5692-64fd-4b0b-a986-d866765d0210 ]] \r\n",
       "E5 - -> E6 [[psysml:363bb7e0-7ec1-401c-827a-8a23a32c7946 ]] \r\n",
       "E6 - -> E7 [[psysml:84082b66-a23a-4779-a592-98d74f10d8d7 ]] \r\n",
       "E7  - -> E4 [[psysml:49753952-5c4c-4ef6-ad04-e80bfe7cb929 ]] : [true]\r\n",
       "}\r\n",
       "@enduml\r\n",
       "\n",
       "PlantUML version 1.2020.13(Sat Jun 13 12:26:38 UTC 2020)\n",
       "(EPL source distribution)\n",
       "Java Runtime: OpenJDK Runtime Environment\n",
       "JVM: OpenJDK 64-Bit Server VM\n",
       "Default Encoding: UTF-8\n",
       "Language: en\n",
       "Country: null\n",
       "--></g></svg>"
      ]
     },
     "execution_count": 43,
     "metadata": {},
     "output_type": "execute_result"
    }
   ],
   "source": [
    "%viz --style=\"DEFAULT\" --view=\"MIXED\" \"ActionTest\""
   ]
  },
  {
   "cell_type": "code",
   "execution_count": 44,
   "id": "c585cf8c",
   "metadata": {
    "execution": {
     "iopub.execute_input": "2021-06-30T09:17:45.003208Z",
     "iopub.status.busy": "2021-06-30T09:17:45.001664Z",
     "iopub.status.idle": "2021-06-30T09:17:45.097203Z",
     "shell.execute_reply": "2021-06-30T09:17:45.095111Z"
    }
   },
   "outputs": [
    {
     "data": {
      "image/svg+xml": [
       "<?xml version=\"1.0\" encoding=\"UTF-8\" standalone=\"no\"?><svg xmlns=\"http://www.w3.org/2000/svg\" xmlns:xlink=\"http://www.w3.org/1999/xlink\" contentScriptType=\"application/ecmascript\" contentStyleType=\"text/css\" height=\"684px\" preserveAspectRatio=\"none\" style=\"width:518px;height:684px;\" version=\"1.1\" viewBox=\"0 0 518 684\" width=\"518px\" zoomAndPan=\"magnify\"><defs/><g><!--MD5=[fbc87193dbaf4d95561dea2c320d4a47]\n",
       "cluster E1--><a href=\"psysml:4a739ce7-b110-4093-8b74-31ee982b1e00\" target=\"_top\" title=\"psysml:4a739ce7-b110-4093-8b74-31ee982b1e00\" xlink:actuate=\"onRequest\" xlink:href=\"psysml:4a739ce7-b110-4093-8b74-31ee982b1e00\" xlink:show=\"new\" xlink:title=\"psysml:4a739ce7-b110-4093-8b74-31ee982b1e00\" xlink:type=\"simple\"><polygon fill=\"#FFFFFF\" points=\"16,6,107,6,114,28.2969,496,28.2969,496,672,16,672,16,6\" style=\"stroke: #000000; stroke-width: 1.5;\"/><line style=\"stroke: #000000; stroke-width: 1.5;\" x1=\"16\" x2=\"114\" y1=\"28.2969\" y2=\"28.2969\"/><text fill=\"#000000\" font-family=\"sans-serif\" font-size=\"14\" font-weight=\"bold\" lengthAdjust=\"spacingAndGlyphs\" textLength=\"85\" x=\"20\" y=\"20.9951\">ActionTest</text></a><!--MD5=[d5e69f78d87373223dbae638b30a9c99]\n",
       "cluster E3--><a href=\"psysml:fa9c3421-7722-4415-b8c7-0ea19e95762e\" target=\"_top\" title=\"psysml:fa9c3421-7722-4415-b8c7-0ea19e95762e\" xlink:actuate=\"onRequest\" xlink:href=\"psysml:fa9c3421-7722-4415-b8c7-0ea19e95762e\" xlink:show=\"new\" xlink:title=\"psysml:fa9c3421-7722-4415-b8c7-0ea19e95762e\" xlink:type=\"simple\"><rect fill=\"#FFFFFF\" height=\"599\" id=\"E3\" rx=\"10\" ry=\"10\" style=\"stroke: #383838; stroke-width: 1.5;\" width=\"209\" x=\"263\" y=\"49\"/><rect fill=\"#F8F8F8\" height=\"37.9375\" rx=\"10\" ry=\"10\" style=\"stroke: #F8F8F8; stroke-width: 1.5;\" width=\"209\" x=\"263\" y=\"49\"/><rect fill=\"#F8F8F8\" height=\"10\" style=\"stroke: #F8F8F8; stroke-width: 1.5;\" width=\"209\" x=\"263\" y=\"76.9375\"/><rect fill=\"none\" height=\"599\" id=\"E3\" rx=\"10\" ry=\"10\" style=\"stroke: #383838; stroke-width: 1.5;\" width=\"209\" x=\"263\" y=\"49\"/><text fill=\"#000000\" font-family=\"sans-serif\" font-size=\"12\" font-style=\"italic\" lengthAdjust=\"spacingAndGlyphs\" textLength=\"53\" x=\"341\" y=\"65.1387\">«action»</text><text fill=\"#000000\" font-family=\"sans-serif\" font-size=\"12\" lengthAdjust=\"spacingAndGlyphs\" textLength=\"8\" x=\"363.5\" y=\"79.1074\">a</text><line style=\"stroke: #383838; stroke-width: 1.0;\" x1=\"263\" x2=\"472\" y1=\"86.9375\" y2=\"86.9375\"/></a><!--MD5=[b4997ac47864f28c2f74865a473b2911]\n",
       "class E2--><a href=\"psysml:e3ea157b-753f-4ff0-b9f5-62b19f528d25\" target=\"_top\" title=\"psysml:e3ea157b-753f-4ff0-b9f5-62b19f528d25\" xlink:actuate=\"onRequest\" xlink:href=\"psysml:e3ea157b-753f-4ff0-b9f5-62b19f528d25\" xlink:show=\"new\" xlink:title=\"psysml:e3ea157b-753f-4ff0-b9f5-62b19f528d25\" xlink:type=\"simple\"><rect fill=\"#FFFFFF\" height=\"45.9375\" id=\"E2\" style=\"stroke: #383838; stroke-width: 1.5;\" width=\"95\" x=\"151.5\" y=\"87\"/><text fill=\"#000000\" font-family=\"sans-serif\" font-size=\"12\" font-style=\"italic\" lengthAdjust=\"spacingAndGlyphs\" textLength=\"93\" x=\"152.5\" y=\"103.1387\">«attribute def»</text><text fill=\"#000000\" font-family=\"sans-serif\" font-size=\"12\" lengthAdjust=\"spacingAndGlyphs\" textLength=\"8\" x=\"195\" y=\"117.1074\">S</text><line style=\"stroke: #383838; stroke-width: 1.5;\" x1=\"152.5\" x2=\"245.5\" y1=\"124.9375\" y2=\"124.9375\"/></a><polygon fill=\"#F8F8F8\" points=\"420,194,432,206,420,218,408,206,420,194\" style=\"stroke: #383838; stroke-width: 1.5;\"/><!--MD5=[21dd76c19d33815960c0e92fef8f0eef]\n",
       "entity E5--><a href=\"psysml:1a7559c2-685c-4c08-a29a-09c3177cd704\" target=\"_top\" title=\"psysml:1a7559c2-685c-4c08-a29a-09c3177cd704\" xlink:actuate=\"onRequest\" xlink:href=\"psysml:1a7559c2-685c-4c08-a29a-09c3177cd704\" xlink:show=\"new\" xlink:title=\"psysml:1a7559c2-685c-4c08-a29a-09c3177cd704\" xlink:type=\"simple\"><polygon fill=\"#F8F8F8\" points=\"279,279,279,333.5938,419,333.5938,399,306.2969,419,279\" style=\"stroke: #000000; stroke-width: 1.5;\"/><text fill=\"#000000\" font-family=\"sans-serif\" font-size=\"14\" font-style=\"italic\" lengthAdjust=\"spacingAndGlyphs\" textLength=\"111\" x=\"286\" y=\"301.9951\">«accept action»</text><text fill=\"#000000\" font-family=\"sans-serif\" font-size=\"14\" lengthAdjust=\"spacingAndGlyphs\" textLength=\"9\" x=\"337\" y=\"319.292\">S</text></a><!--MD5=[24d87cdf3002d433f401b2a2aa9f9f65]\n",
       "entity E6--><a href=\"psysml:57acc649-2893-4bd5-b427-585e4a8282d2\" target=\"_top\" title=\"psysml:57acc649-2893-4bd5-b427-585e4a8282d2\" xlink:actuate=\"onRequest\" xlink:href=\"psysml:57acc649-2893-4bd5-b427-585e4a8282d2\" xlink:show=\"new\" xlink:title=\"psysml:57acc649-2893-4bd5-b427-585e4a8282d2\" xlink:type=\"simple\"><polygon fill=\"#F8F8F8\" points=\"279,411,279,465.5938,387,465.5938,407,438.2969,387,411\" style=\"stroke: #000000; stroke-width: 1.5;\"/><text fill=\"#000000\" font-family=\"sans-serif\" font-size=\"14\" font-style=\"italic\" lengthAdjust=\"spacingAndGlyphs\" textLength=\"99\" x=\"286\" y=\"433.9951\">«send action»</text><text fill=\"#000000\" font-family=\"sans-serif\" font-size=\"14\" lengthAdjust=\"spacingAndGlyphs\" textLength=\"65\" x=\"303\" y=\"451.292\">S() to  B()</text></a><polygon fill=\"#F8F8F8\" points=\"418,527,430,539,418,551,406,539,418,527\" style=\"stroke: #383838; stroke-width: 1.5;\"/><ellipse cx=\"420\" cy=\"110\" fill=\"#000000\" rx=\"10\" ry=\"10\" style=\"stroke: none; stroke-width: 1.0;\"/><ellipse cx=\"418\" cy=\"622\" fill=\"none\" rx=\"10\" ry=\"10\" style=\"stroke: #000000; stroke-width: 1.0;\"/><ellipse cx=\"418.5\" cy=\"622.5\" fill=\"#000000\" rx=\"6\" ry=\"6\" style=\"stroke: none; stroke-width: 1.0;\"/><g id=\"E1.E8\"><a href=\"psysml:86a7eb05-d2a7-4b0b-add7-eac0d2258e69\" target=\"_top\" title=\"psysml:86a7eb05-d2a7-4b0b-add7-eac0d2258e69\" xlink:actuate=\"onRequest\" xlink:href=\"psysml:86a7eb05-d2a7-4b0b-add7-eac0d2258e69\" xlink:show=\"new\" xlink:title=\"psysml:86a7eb05-d2a7-4b0b-add7-eac0d2258e69\" xlink:type=\"simple\"><rect fill=\"#FFFFFF\" height=\"42.9375\" id=\"E8\" style=\"stroke: #383838; stroke-width: 1.5;\" width=\"84\" x=\"32\" y=\"88.5\"/><rect fill=\"#F8F8F8\" height=\"37.9375\" style=\"stroke: #383838; stroke-width: 1.5;\" width=\"84\" x=\"32\" y=\"88.5\"/><text fill=\"#000000\" font-family=\"sans-serif\" font-size=\"12\" font-style=\"italic\" lengthAdjust=\"spacingAndGlyphs\" textLength=\"77\" x=\"35.5\" y=\"104.6387\">«action def»</text><text fill=\"#000000\" font-family=\"sans-serif\" font-size=\"12\" lengthAdjust=\"spacingAndGlyphs\" textLength=\"8\" x=\"70\" y=\"118.6074\">B</text></a></g><!--MD5=[f47e10efcf9a6752d55dae986d790ed9]\n",
       "link *start*E3 to E4--><a href=\"psysml:3a6c3978-61f5-46d3-ad26-c963b1b56f5b\" target=\"_top\" title=\"psysml:3a6c3978-61f5-46d3-ad26-c963b1b56f5b\" xlink:actuate=\"onRequest\" xlink:href=\"psysml:3a6c3978-61f5-46d3-ad26-c963b1b56f5b\" xlink:show=\"new\" xlink:title=\"psysml:3a6c3978-61f5-46d3-ad26-c963b1b56f5b\" xlink:type=\"simple\"><path d=\"M420,120.01 C420,135.81 420,168.69 420,188.61 \" fill=\"none\" id=\"*start*E3-&gt;E4\" style=\"stroke: #383838; stroke-width: 1.0;\"/><polygon fill=\"#383838\" points=\"420,193.85,424,184.85,420,188.85,416,184.85,420,193.85\" style=\"stroke: #383838; stroke-width: 1.0;\"/></a><!--MD5=[d19f2eb34364d71b67042106d92f540b]\n",
       "link E7 to *end*E3--><a href=\"psysml:36daa16f-4b44-48c5-bcb7-7a401bcea152\" target=\"_top\" title=\"psysml:36daa16f-4b44-48c5-bcb7-7a401bcea152\" xlink:actuate=\"onRequest\" xlink:href=\"psysml:36daa16f-4b44-48c5-bcb7-7a401bcea152\" xlink:show=\"new\" xlink:title=\"psysml:36daa16f-4b44-48c5-bcb7-7a401bcea152\" xlink:type=\"simple\"><path d=\"M418,551.26 C418,565.66 418,590.63 418,606.46 \" fill=\"none\" id=\"E7-&gt;*end*E3\" style=\"stroke: #383838; stroke-width: 1.0;\"/><polygon fill=\"#383838\" points=\"418,611.84,422,602.84,418,606.84,414,602.84,418,611.84\" style=\"stroke: #383838; stroke-width: 1.0;\"/></a><!--MD5=[1b7591eae5389033d8d09a9d6721a717]\n",
       "link E4 to E5--><a href=\"psysml:c56e5692-64fd-4b0b-a986-d866765d0210\" target=\"_top\" title=\"psysml:c56e5692-64fd-4b0b-a986-d866765d0210\" xlink:actuate=\"onRequest\" xlink:href=\"psysml:c56e5692-64fd-4b0b-a986-d866765d0210\" xlink:show=\"new\" xlink:title=\"psysml:c56e5692-64fd-4b0b-a986-d866765d0210\" xlink:type=\"simple\"><path d=\"M415.34,213.46 C406.55,225.66 386.99,252.8 371.37,274.46 \" fill=\"none\" id=\"E4-&gt;E5\" style=\"stroke: #383838; stroke-width: 1.0;\"/><polygon fill=\"#383838\" points=\"368.31,278.71,376.8093,273.7339,371.227,274.6491,370.3119,269.0667,368.31,278.71\" style=\"stroke: #383838; stroke-width: 1.0;\"/></a><!--MD5=[9120cf2e5df3bff93db8f754bbbc09b4]\n",
       "link E5 to E6--><a href=\"psysml:363bb7e0-7ec1-401c-827a-8a23a32c7946\" target=\"_top\" title=\"psysml:363bb7e0-7ec1-401c-827a-8a23a32c7946\" xlink:actuate=\"onRequest\" xlink:href=\"psysml:363bb7e0-7ec1-401c-827a-8a23a32c7946\" xlink:show=\"new\" xlink:title=\"psysml:363bb7e0-7ec1-401c-827a-8a23a32c7946\" xlink:type=\"simple\"><path d=\"M347.77,334.12 C346.81,354.89 345.48,383.8 344.46,405.77 \" fill=\"none\" id=\"E5-&gt;E6\" style=\"stroke: #383838; stroke-width: 1.0;\"/><polygon fill=\"#383838\" points=\"344.23,410.91,348.6368,402.1021,344.4583,405.9152,340.6452,401.7367,344.23,410.91\" style=\"stroke: #383838; stroke-width: 1.0;\"/></a><!--MD5=[02c70b7c851c11e3980e4e90450dc5dd]\n",
       "link E6 to E7--><a href=\"psysml:84082b66-a23a-4779-a592-98d74f10d8d7\" target=\"_top\" title=\"psysml:84082b66-a23a-4779-a592-98d74f10d8d7\" xlink:actuate=\"onRequest\" xlink:href=\"psysml:84082b66-a23a-4779-a592-98d74f10d8d7\" xlink:show=\"new\" xlink:title=\"psysml:84082b66-a23a-4779-a592-98d74f10d8d7\" xlink:type=\"simple\"><path d=\"M363.3,466.16 C378.71,486.4 399.07,513.14 410.09,527.61 \" fill=\"none\" id=\"E6-&gt;E7\" style=\"stroke: #383838; stroke-width: 1.0;\"/><polygon fill=\"#383838\" points=\"413.2,531.69,410.9398,522.104,410.1749,527.7089,404.57,526.9441,413.2,531.69\" style=\"stroke: #383838; stroke-width: 1.0;\"/></a><!--MD5=[6bdd27f9905911a7e892a3dc65cf6b7c]\n",
       "link E7 to E4--><a href=\"psysml:49753952-5c4c-4ef6-ad04-e80bfe7cb929\" target=\"_top\" title=\"psysml:49753952-5c4c-4ef6-ad04-e80bfe7cb929\" xlink:actuate=\"onRequest\" xlink:href=\"psysml:49753952-5c4c-4ef6-ad04-e80bfe7cb929\" xlink:show=\"new\" xlink:title=\"psysml:49753952-5c4c-4ef6-ad04-e80bfe7cb929\" xlink:type=\"simple\"><path d=\"M419.98,528.56 C426.8,494.71 448.32,376.18 437,279 C434.59,258.32 428.42,234.96 424.21,220.61 \" fill=\"none\" id=\"E7-&gt;E4\" style=\"stroke: #383838; stroke-width: 1.0;\"/><polygon fill=\"#383838\" points=\"422.76,215.75,421.4935,225.5171,424.1863,220.5423,429.1611,223.2351,422.76,215.75\" style=\"stroke: #383838; stroke-width: 1.0;\"/><text fill=\"#000000\" font-family=\"sans-serif\" font-size=\"13\" lengthAdjust=\"spacingAndGlyphs\" textLength=\"36\" x=\"440\" y=\"377.0669\">[true]</text></a><!--MD5=[b3a4bff910c7ef6c207ec46188a295ce]\n",
       "@startuml\r\n",
       "top to bottom direction\r\n",
       "skinparam monochrome true\r\n",
       "skinparam classbackgroundcolor white\r\n",
       "skinparam shadowing false\r\n",
       "skinparam wrapWidth 300\r\n",
       "hide circle\r\n",
       "\r\n",
       "package \"ActionTest\" as E1  [[psysml:4a739ce7-b110-4093-8b74-31ee982b1e00 ]]  {\r\n",
       "comp def \"S\" as E2  <<(T,blue) attribute def>> [[psysml:e3ea157b-753f-4ff0-b9f5-62b19f528d25 ]] {\r\n",
       "}\r\n",
       "rec usage \"a\" as E3  <<(T,blue) action>> [[psysml:fa9c3421-7722-4415-b8c7-0ea19e95762e ]] {\r\n",
       "choice \"m\" as E4  [[psysml:60604585-cd78-42b0-92ae-265c1a2862a9 ]] \r\n",
       "accept \" S\" as E5 << accept action>> [[psysml:1a7559c2-685c-4c08-a29a-09c3177cd704 ]] \r\n",
       "send \" S() to  B()\" as E6 << send action>> [[psysml:57acc649-2893-4bd5-b427-585e4a8282d2 ]] \r\n",
       "choice \"noname\" as E7  [[psysml:dcda7bbd-01a5-4374-8a97-a16c2625889c ]] \r\n",
       "[*] - -> E4 [[psysml:3a6c3978-61f5-46d3-ad26-c963b1b56f5b ]] \r\n",
       "E7  - -> [*] [[psysml:36daa16f-4b44-48c5-bcb7-7a401bcea152 ]] \r\n",
       "}\r\n",
       "\r\n",
       "rec def \"B\" as E8  <<(T,blue) action def>> [[psysml:86a7eb05-d2a7-4b0b-add7-eac0d2258e69 ]] {\r\n",
       "}\r\n",
       "\r\n",
       "E4 - -> E5 [[psysml:c56e5692-64fd-4b0b-a986-d866765d0210 ]] \r\n",
       "E5 - -> E6 [[psysml:363bb7e0-7ec1-401c-827a-8a23a32c7946 ]] \r\n",
       "E6 - -> E7 [[psysml:84082b66-a23a-4779-a592-98d74f10d8d7 ]] \r\n",
       "E7  - -> E4 [[psysml:49753952-5c4c-4ef6-ad04-e80bfe7cb929 ]] : [true]\r\n",
       "}\r\n",
       "@enduml\r\n",
       "\n",
       "PlantUML version 1.2020.13(Sat Jun 13 12:26:38 UTC 2020)\n",
       "(EPL source distribution)\n",
       "Java Runtime: OpenJDK Runtime Environment\n",
       "JVM: OpenJDK 64-Bit Server VM\n",
       "Default Encoding: UTF-8\n",
       "Language: en\n",
       "Country: null\n",
       "--></g></svg>"
      ]
     },
     "execution_count": 44,
     "metadata": {},
     "output_type": "execute_result"
    }
   ],
   "source": [
    "%viz --style=\"TB\" --view=\"Default\" \"ActionTest\""
   ]
  },
  {
   "cell_type": "code",
   "execution_count": 45,
   "id": "82103736",
   "metadata": {
    "execution": {
     "iopub.execute_input": "2021-06-30T09:17:45.150561Z",
     "iopub.status.busy": "2021-06-30T09:17:45.149653Z",
     "iopub.status.idle": "2021-06-30T09:17:45.223613Z",
     "shell.execute_reply": "2021-06-30T09:17:45.220280Z"
    }
   },
   "outputs": [
    {
     "data": {
      "image/svg+xml": [
       "<?xml version=\"1.0\" encoding=\"UTF-8\" standalone=\"no\"?><svg xmlns=\"http://www.w3.org/2000/svg\" xmlns:xlink=\"http://www.w3.org/1999/xlink\" contentScriptType=\"application/ecmascript\" contentStyleType=\"text/css\" height=\"327px\" preserveAspectRatio=\"none\" style=\"width:677px;height:327px;\" version=\"1.1\" viewBox=\"0 0 677 327\" width=\"677px\" zoomAndPan=\"magnify\"><defs/><g><!--MD5=[fbc87193dbaf4d95561dea2c320d4a47]\n",
       "cluster E1--><a href=\"psysml:4a739ce7-b110-4093-8b74-31ee982b1e00\" target=\"_top\" title=\"psysml:4a739ce7-b110-4093-8b74-31ee982b1e00\" xlink:actuate=\"onRequest\" xlink:href=\"psysml:4a739ce7-b110-4093-8b74-31ee982b1e00\" xlink:show=\"new\" xlink:title=\"psysml:4a739ce7-b110-4093-8b74-31ee982b1e00\" xlink:type=\"simple\"><polygon fill=\"#FFFFFF\" points=\"16,6,107,6,114,28.2969,655,28.2969,655,315,16,315,16,6\" style=\"stroke: #000000; stroke-width: 1.5;\"/><line style=\"stroke: #000000; stroke-width: 1.5;\" x1=\"16\" x2=\"114\" y1=\"28.2969\" y2=\"28.2969\"/><text fill=\"#000000\" font-family=\"sans-serif\" font-size=\"14\" font-weight=\"bold\" lengthAdjust=\"spacingAndGlyphs\" textLength=\"85\" x=\"20\" y=\"20.9951\">ActionTest</text></a><!--MD5=[b4997ac47864f28c2f74865a473b2911]\n",
       "class E2--><a href=\"psysml:e3ea157b-753f-4ff0-b9f5-62b19f528d25\" target=\"_top\" title=\"psysml:e3ea157b-753f-4ff0-b9f5-62b19f528d25\" xlink:actuate=\"onRequest\" xlink:href=\"psysml:e3ea157b-753f-4ff0-b9f5-62b19f528d25\" xlink:show=\"new\" xlink:title=\"psysml:e3ea157b-753f-4ff0-b9f5-62b19f528d25\" xlink:type=\"simple\"><rect fill=\"#FFFFFF\" height=\"45.9375\" id=\"E2\" style=\"stroke: #383838; stroke-width: 1.5;\" width=\"95\" x=\"278.5\" y=\"253\"/><text fill=\"#000000\" font-family=\"sans-serif\" font-size=\"12\" font-style=\"italic\" lengthAdjust=\"spacingAndGlyphs\" textLength=\"93\" x=\"279.5\" y=\"269.1387\">«attribute def»</text><text fill=\"#000000\" font-family=\"sans-serif\" font-size=\"12\" lengthAdjust=\"spacingAndGlyphs\" textLength=\"8\" x=\"322\" y=\"283.1074\">S</text><line style=\"stroke: #383838; stroke-width: 1.5;\" x1=\"279.5\" x2=\"372.5\" y1=\"290.9375\" y2=\"290.9375\"/></a><!--MD5=[09b614a08d8cba4a07c9adeb5e0fee81]\n",
       "class E3--><a href=\"psysml:fa9c3421-7722-4415-b8c7-0ea19e95762e\" target=\"_top\" title=\"psysml:fa9c3421-7722-4415-b8c7-0ea19e95762e\" xlink:actuate=\"onRequest\" xlink:href=\"psysml:fa9c3421-7722-4415-b8c7-0ea19e95762e\" xlink:show=\"new\" xlink:title=\"psysml:fa9c3421-7722-4415-b8c7-0ea19e95762e\" xlink:type=\"simple\"><rect fill=\"#FFFFFF\" height=\"45.9375\" id=\"E3\" rx=\"10\" ry=\"10\" style=\"stroke: #383838; stroke-width: 1.5;\" width=\"55\" x=\"298.5\" y=\"41\"/><text fill=\"#000000\" font-family=\"sans-serif\" font-size=\"12\" font-style=\"italic\" lengthAdjust=\"spacingAndGlyphs\" textLength=\"53\" x=\"299.5\" y=\"57.1387\">«action»</text><text fill=\"#000000\" font-family=\"sans-serif\" font-size=\"12\" lengthAdjust=\"spacingAndGlyphs\" textLength=\"8\" x=\"322\" y=\"71.1074\">a</text><line style=\"stroke: #383838; stroke-width: 1.5;\" x1=\"299.5\" x2=\"352.5\" y1=\"78.9375\" y2=\"78.9375\"/></a><!--MD5=[ebbe1d658d1005bcc118a6aa81145e00]\n",
       "class E4--><a href=\"psysml:a6d1daf9-13da-45ca-a864-cb134e7177b5\" target=\"_top\" title=\"psysml:a6d1daf9-13da-45ca-a864-cb134e7177b5\" xlink:actuate=\"onRequest\" xlink:href=\"psysml:a6d1daf9-13da-45ca-a864-cb134e7177b5\" xlink:show=\"new\" xlink:title=\"psysml:a6d1daf9-13da-45ca-a864-cb134e7177b5\" xlink:type=\"simple\"><rect fill=\"#FFFFFF\" height=\"45.9375\" id=\"E4\" rx=\"10\" ry=\"10\" style=\"stroke: #383838; stroke-width: 1.5;\" width=\"83\" x=\"32.5\" y=\"147\"/><text fill=\"#000000\" font-family=\"sans-serif\" font-size=\"12\" font-style=\"italic\" lengthAdjust=\"spacingAndGlyphs\" textLength=\"53\" x=\"47.5\" y=\"163.1387\">«action»</text><text fill=\"#000000\" font-family=\"sans-serif\" font-size=\"12\" lengthAdjust=\"spacingAndGlyphs\" textLength=\"77\" x=\"35.5\" y=\"177.1074\">start: Action</text><line style=\"stroke: #383838; stroke-width: 1.5;\" x1=\"33.5\" x2=\"114.5\" y1=\"184.9375\" y2=\"184.9375\"/></a><!--MD5=[270fce915f116d4de14055a7c1d9a0f3]\n",
       "class E5--><a href=\"psysml:60604585-cd78-42b0-92ae-265c1a2862a9\" target=\"_top\" title=\"psysml:60604585-cd78-42b0-92ae-265c1a2862a9\" xlink:actuate=\"onRequest\" xlink:href=\"psysml:60604585-cd78-42b0-92ae-265c1a2862a9\" xlink:show=\"new\" xlink:title=\"psysml:60604585-cd78-42b0-92ae-265c1a2862a9\" xlink:type=\"simple\"><rect fill=\"#FFFFFF\" height=\"45.9375\" id=\"E5\" rx=\"10\" ry=\"10\" style=\"stroke: #383838; stroke-width: 1.5;\" width=\"89\" x=\"150.5\" y=\"147\"/><text fill=\"#000000\" font-family=\"sans-serif\" font-size=\"12\" font-style=\"italic\" lengthAdjust=\"spacingAndGlyphs\" textLength=\"87\" x=\"151.5\" y=\"163.1387\">«mergeNode»</text><text fill=\"#000000\" font-family=\"sans-serif\" font-size=\"12\" lengthAdjust=\"spacingAndGlyphs\" textLength=\"11\" x=\"189.5\" y=\"177.1074\">m</text><line style=\"stroke: #383838; stroke-width: 1.5;\" x1=\"151.5\" x2=\"238.5\" y1=\"184.9375\" y2=\"184.9375\"/></a><!--MD5=[60a26617385b1d2d0262a64233df1f8d]\n",
       "class E6--><a href=\"psysml:1a7559c2-685c-4c08-a29a-09c3177cd704\" target=\"_top\" title=\"psysml:1a7559c2-685c-4c08-a29a-09c3177cd704\" xlink:actuate=\"onRequest\" xlink:href=\"psysml:1a7559c2-685c-4c08-a29a-09c3177cd704\" xlink:show=\"new\" xlink:title=\"psysml:1a7559c2-685c-4c08-a29a-09c3177cd704\" xlink:type=\"simple\"><rect fill=\"#FFFFFF\" height=\"45.9375\" id=\"E6\" rx=\"10\" ry=\"10\" style=\"stroke: #383838; stroke-width: 1.5;\" width=\"102\" x=\"275\" y=\"147\"/><text fill=\"#000000\" font-family=\"sans-serif\" font-size=\"12\" font-style=\"italic\" lengthAdjust=\"spacingAndGlyphs\" textLength=\"100\" x=\"276\" y=\"163.1387\">«accept action»</text><text fill=\"#000000\" font-family=\"sans-serif\" font-size=\"12\" lengthAdjust=\"spacingAndGlyphs\" text-decoration=\"line-through\" textLength=\"51\" x=\"300.5\" y=\"177.1074\">noname</text><line style=\"stroke: #383838; stroke-width: 1.5;\" x1=\"276\" x2=\"376\" y1=\"184.9375\" y2=\"184.9375\"/></a><!--MD5=[2156ba9850f5573cc1fc38a6a4b2f02b]\n",
       "class E7--><a href=\"psysml:57acc649-2893-4bd5-b427-585e4a8282d2\" target=\"_top\" title=\"psysml:57acc649-2893-4bd5-b427-585e4a8282d2\" xlink:actuate=\"onRequest\" xlink:href=\"psysml:57acc649-2893-4bd5-b427-585e4a8282d2\" xlink:show=\"new\" xlink:title=\"psysml:57acc649-2893-4bd5-b427-585e4a8282d2\" xlink:type=\"simple\"><rect fill=\"#FFFFFF\" height=\"45.9375\" id=\"E7\" rx=\"10\" ry=\"10\" style=\"stroke: #383838; stroke-width: 1.5;\" width=\"90\" x=\"412\" y=\"147\"/><text fill=\"#000000\" font-family=\"sans-serif\" font-size=\"12\" font-style=\"italic\" lengthAdjust=\"spacingAndGlyphs\" textLength=\"88\" x=\"413\" y=\"163.1387\">«send action»</text><text fill=\"#000000\" font-family=\"sans-serif\" font-size=\"12\" lengthAdjust=\"spacingAndGlyphs\" text-decoration=\"line-through\" textLength=\"51\" x=\"431.5\" y=\"177.1074\">noname</text><line style=\"stroke: #383838; stroke-width: 1.5;\" x1=\"413\" x2=\"501\" y1=\"184.9375\" y2=\"184.9375\"/></a><!--MD5=[b9389687b975829384b498ac4b7476b2]\n",
       "class E8--><a href=\"psysml:dcda7bbd-01a5-4374-8a97-a16c2625889c\" target=\"_top\" title=\"psysml:dcda7bbd-01a5-4374-8a97-a16c2625889c\" xlink:actuate=\"onRequest\" xlink:href=\"psysml:dcda7bbd-01a5-4374-8a97-a16c2625889c\" xlink:show=\"new\" xlink:title=\"psysml:dcda7bbd-01a5-4374-8a97-a16c2625889c\" xlink:type=\"simple\"><rect fill=\"#FFFFFF\" height=\"45.9375\" id=\"E8\" rx=\"10\" ry=\"10\" style=\"stroke: #383838; stroke-width: 1.5;\" width=\"101\" x=\"537.5\" y=\"147\"/><text fill=\"#000000\" font-family=\"sans-serif\" font-size=\"12\" font-style=\"italic\" lengthAdjust=\"spacingAndGlyphs\" textLength=\"99\" x=\"538.5\" y=\"163.1387\">«decisionNode»</text><text fill=\"#000000\" font-family=\"sans-serif\" font-size=\"12\" lengthAdjust=\"spacingAndGlyphs\" text-decoration=\"line-through\" textLength=\"51\" x=\"562.5\" y=\"177.1074\">noname</text><line style=\"stroke: #383838; stroke-width: 1.5;\" x1=\"538.5\" x2=\"637.5\" y1=\"184.9375\" y2=\"184.9375\"/></a><!--MD5=[fd4143e9d270a159db93a4ea2a975926]\n",
       "class E9--><a href=\"psysml:86a7eb05-d2a7-4b0b-add7-eac0d2258e69\" target=\"_top\" title=\"psysml:86a7eb05-d2a7-4b0b-add7-eac0d2258e69\" xlink:actuate=\"onRequest\" xlink:href=\"psysml:86a7eb05-d2a7-4b0b-add7-eac0d2258e69\" xlink:show=\"new\" xlink:title=\"psysml:86a7eb05-d2a7-4b0b-add7-eac0d2258e69\" xlink:type=\"simple\"><rect fill=\"#FFFFFF\" height=\"45.9375\" id=\"E9\" style=\"stroke: #383838; stroke-width: 1.5;\" width=\"79\" x=\"108.5\" y=\"41\"/><text fill=\"#000000\" font-family=\"sans-serif\" font-size=\"12\" font-style=\"italic\" lengthAdjust=\"spacingAndGlyphs\" textLength=\"77\" x=\"109.5\" y=\"57.1387\">«action def»</text><text fill=\"#000000\" font-family=\"sans-serif\" font-size=\"12\" lengthAdjust=\"spacingAndGlyphs\" textLength=\"8\" x=\"144\" y=\"71.1074\">B</text><line style=\"stroke: #383838; stroke-width: 1.5;\" x1=\"109.5\" x2=\"186.5\" y1=\"78.9375\" y2=\"78.9375\"/></a><!--MD5=[4672eba38e49728da53d11aeb285b987]\n",
       "reverse link E3 to E4--><a href=\"psysml:52dfc4ad-a62d-4432-a88b-57c0a80d621d\" target=\"_top\" title=\"psysml:52dfc4ad-a62d-4432-a88b-57c0a80d621d\" xlink:actuate=\"onRequest\" xlink:href=\"psysml:52dfc4ad-a62d-4432-a88b-57c0a80d621d\" xlink:show=\"new\" xlink:title=\"psysml:52dfc4ad-a62d-4432-a88b-57c0a80d621d\" xlink:type=\"simple\"><path d=\"M285.79,81.6 C239.27,100.79 163.05,132.25 115.85,151.73 \" fill=\"none\" id=\"E3&lt;-E4\" style=\"stroke: #383838; stroke-width: 1.0;\"/><polygon fill=\"#FFFFFF\" points=\"298.07,76.53,290.9979,75.1209,286.9771,81.107,294.0492,82.5161,298.07,76.53\" style=\"stroke: #383838; stroke-width: 1.0;\"/></a><!--MD5=[191cde3d490a3f6d7bb551fe3ddca469]\n",
       "reverse link E3 to E5--><a href=\"psysml:99d9f5a6-f2b4-4631-bd24-2952b87c2311\" target=\"_top\" title=\"psysml:99d9f5a6-f2b4-4631-bd24-2952b87c2311\" xlink:actuate=\"onRequest\" xlink:href=\"psysml:99d9f5a6-f2b4-4631-bd24-2952b87c2311\" xlink:show=\"new\" xlink:title=\"psysml:99d9f5a6-f2b4-4631-bd24-2952b87c2311\" xlink:type=\"simple\"><path d=\"M287.79,95.33 C266.97,111.86 241.66,131.95 222.74,146.98 \" fill=\"none\" id=\"E3&lt;-E5\" style=\"stroke: #383838; stroke-width: 1.0;\"/><polygon fill=\"#383838\" points=\"298.22,87.06,291.0341,87.6625,288.8265,94.5273,296.0123,93.9249,298.22,87.06\" style=\"stroke: #383838; stroke-width: 1.0;\"/></a><!--MD5=[1026b4b93417a13aa8999a858998add2]\n",
       "reverse link E3 to E6--><a href=\"psysml:14dfaf6d-db59-420e-a3c6-2cc6bbb5f023\" target=\"_top\" title=\"psysml:14dfaf6d-db59-420e-a3c6-2cc6bbb5f023\" xlink:actuate=\"onRequest\" xlink:href=\"psysml:14dfaf6d-db59-420e-a3c6-2cc6bbb5f023\" xlink:show=\"new\" xlink:title=\"psysml:14dfaf6d-db59-420e-a3c6-2cc6bbb5f023\" xlink:type=\"simple\"><path d=\"M326,100.44 C326,115.87 326,133.47 326,146.98 \" fill=\"none\" id=\"E3&lt;-E6\" style=\"stroke: #383838; stroke-width: 1.0;\"/><polygon fill=\"#FFFFFF\" points=\"326,87.06,322,93.06,326,99.06,330,93.06,326,87.06\" style=\"stroke: #383838; stroke-width: 1.0;\"/></a><!--MD5=[3403bfa781cc3da0fd423dbab6f01c63]\n",
       "reverse link E6 to E2--><a href=\"psysml:773d19c1-1d9b-4741-b5ba-dd5a31e080a3\" target=\"_top\" title=\"psysml:773d19c1-1d9b-4741-b5ba-dd5a31e080a3\" xlink:actuate=\"onRequest\" xlink:href=\"psysml:773d19c1-1d9b-4741-b5ba-dd5a31e080a3\" xlink:show=\"new\" xlink:title=\"psysml:773d19c1-1d9b-4741-b5ba-dd5a31e080a3\" xlink:type=\"simple\"><path d=\"M326,206.44 C326,221.87 326,239.47 326,252.98 \" fill=\"none\" id=\"E6&lt;-E2\" style=\"stroke: #383838; stroke-width: 1.0;\"/><polygon fill=\"#FFFFFF\" points=\"326,193.06,322,199.06,326,205.06,330,199.06,326,193.06\" style=\"stroke: #383838; stroke-width: 1.0;\"/></a><!--MD5=[85760999379eecfd2565a9fecdca67e4]\n",
       "reverse link E3 to E7--><a href=\"psysml:4bddb34b-31d0-4487-9835-f5e5c1238220\" target=\"_top\" title=\"psysml:4bddb34b-31d0-4487-9835-f5e5c1238220\" xlink:actuate=\"onRequest\" xlink:href=\"psysml:4bddb34b-31d0-4487-9835-f5e5c1238220\" xlink:show=\"new\" xlink:title=\"psysml:4bddb34b-31d0-4487-9835-f5e5c1238220\" xlink:type=\"simple\"><path d=\"M364.21,95.33 C385.03,111.86 410.34,131.95 429.26,146.98 \" fill=\"none\" id=\"E3&lt;-E7\" style=\"stroke: #383838; stroke-width: 1.0;\"/><polygon fill=\"#FFFFFF\" points=\"353.78,87.06,355.9877,93.9249,363.1735,94.5273,360.9659,87.6625,353.78,87.06\" style=\"stroke: #383838; stroke-width: 1.0;\"/></a><!--MD5=[4cb75b73ec3682b8f7f8edc9cc86126a]\n",
       "reverse link E3 to E8--><a href=\"psysml:010ce356-5f58-462c-8431-75351dc3ac74\" target=\"_top\" title=\"psysml:010ce356-5f58-462c-8431-75351dc3ac74\" xlink:actuate=\"onRequest\" xlink:href=\"psysml:010ce356-5f58-462c-8431-75351dc3ac74\" xlink:show=\"new\" xlink:title=\"psysml:010ce356-5f58-462c-8431-75351dc3ac74\" xlink:type=\"simple\"><path d=\"M365.63,80.73 C411.46,98.92 486.99,128.91 537.12,148.8 \" fill=\"none\" id=\"E3&lt;-E8\" style=\"stroke: #383838; stroke-width: 1.0;\"/><polygon fill=\"#383838\" points=\"353.54,75.93,357.6459,81.858,364.6971,80.348,360.5912,74.42,353.54,75.93\" style=\"stroke: #383838; stroke-width: 1.0;\"/></a><!--MD5=[95f0aa2245c00900eed74ab0a00f4364]\n",
       "@startuml\r\n",
       "top to bottom direction\r\n",
       "skinparam monochrome true\r\n",
       "skinparam classbackgroundcolor white\r\n",
       "skinparam shadowing false\r\n",
       "skinparam wrapWidth 300\r\n",
       "hide circle\r\n",
       "\r\n",
       "package \"ActionTest\" as E1  [[psysml:4a739ce7-b110-4093-8b74-31ee982b1e00 ]]  {\r\n",
       "comp def \"S\" as E2  <<(T,blue) attribute def>> [[psysml:e3ea157b-753f-4ff0-b9f5-62b19f528d25 ]] {\r\n",
       "}\r\n",
       "comp usage \"a\" as E3  <<(T,blue) action>> [[psysml:fa9c3421-7722-4415-b8c7-0ea19e95762e ]] {\r\n",
       "}\r\n",
       "comp usage \"start: Action\" as E4  <<(T,blue) action>> [[psysml:a6d1daf9-13da-45ca-a864-cb134e7177b5 ]] {\r\n",
       "}\r\n",
       "comp usage \"m\" as E5  <<(T,blue) mergeNode>> [[psysml:60604585-cd78-42b0-92ae-265c1a2862a9 ]] {\r\n",
       "}\r\n",
       "comp usage \"<s>noname</s>\" as E6 << accept action>> [[psysml:1a7559c2-685c-4c08-a29a-09c3177cd704 ]] {\r\n",
       "}\r\n",
       "comp usage \"<s>noname</s>\" as E7 << send action>> [[psysml:57acc649-2893-4bd5-b427-585e4a8282d2 ]] {\r\n",
       "}\r\n",
       "comp usage \"<s>noname</s>\" as E8  <<(T,blue) decisionNode>> [[psysml:dcda7bbd-01a5-4374-8a97-a16c2625889c ]] {\r\n",
       "}\r\n",
       "comp def \"B\" as E9  <<(T,blue) action def>> [[psysml:86a7eb05-d2a7-4b0b-add7-eac0d2258e69 ]] {\r\n",
       "}\r\n",
       "E3 o- - E4 [[psysml:52dfc4ad-a62d-4432-a88b-57c0a80d621d ]] \r\n",
       "E3 *- - E5 [[psysml:99d9f5a6-f2b4-4631-bd24-2952b87c2311 ]] \r\n",
       "E3 o- - E6 [[psysml:14dfaf6d-db59-420e-a3c6-2cc6bbb5f023 ]] \r\n",
       "E6 o- - E2 [[psysml:773d19c1-1d9b-4741-b5ba-dd5a31e080a3 ]] \r\n",
       "E3 o- - E7 [[psysml:4bddb34b-31d0-4487-9835-f5e5c1238220 ]] \r\n",
       "E3 *- - E8 [[psysml:010ce356-5f58-462c-8431-75351dc3ac74 ]] \r\n",
       "}\r\n",
       "@enduml\r\n",
       "\n",
       "PlantUML version 1.2020.13(Sat Jun 13 12:26:38 UTC 2020)\n",
       "(EPL source distribution)\n",
       "Java Runtime: OpenJDK Runtime Environment\n",
       "JVM: OpenJDK 64-Bit Server VM\n",
       "Default Encoding: UTF-8\n",
       "Language: en\n",
       "Country: null\n",
       "--></g></svg>"
      ]
     },
     "execution_count": 45,
     "metadata": {},
     "output_type": "execute_result"
    }
   ],
   "source": [
    "%viz --style=\"TB\" --view=\"Tree\" \"ActionTest\""
   ]
  },
  {
   "cell_type": "code",
   "execution_count": 46,
   "id": "1ed62fae",
   "metadata": {
    "execution": {
     "iopub.execute_input": "2021-06-30T09:17:45.288021Z",
     "iopub.status.busy": "2021-06-30T09:17:45.278596Z",
     "iopub.status.idle": "2021-06-30T09:17:45.302071Z",
     "shell.execute_reply": "2021-06-30T09:17:45.295317Z"
    }
   },
   "outputs": [
    {
     "data": {
      "image/svg+xml": [
       "<?xml version=\"1.0\" encoding=\"UTF-8\" standalone=\"no\"?><svg xmlns=\"http://www.w3.org/2000/svg\" xmlns:xlink=\"http://www.w3.org/1999/xlink\" contentScriptType=\"application/ecmascript\" contentStyleType=\"text/css\" height=\"12px\" preserveAspectRatio=\"none\" style=\"width:12px;height:12px;\" version=\"1.1\" viewBox=\"0 0 12 12\" width=\"12px\" zoomAndPan=\"magnify\"><defs/><g><!--MD5=[f4ee21bc66e489b5061b7c3e9601fdef]\n",
       "@startuml\r\n",
       "top to bottom direction\r\n",
       "skinparam monochrome true\r\n",
       "skinparam classbackgroundcolor white\r\n",
       "skinparam shadowing false\r\n",
       "skinparam wrapWidth 300\r\n",
       "hide circle\r\n",
       "\r\n",
       "@enduml\r\n",
       "\n",
       "PlantUML version 1.2020.13(Sat Jun 13 12:26:38 UTC 2020)\n",
       "(EPL source distribution)\n",
       "Java Runtime: OpenJDK Runtime Environment\n",
       "JVM: OpenJDK 64-Bit Server VM\n",
       "Default Encoding: UTF-8\n",
       "Language: en\n",
       "Country: null\n",
       "--></g></svg>"
      ]
     },
     "execution_count": 46,
     "metadata": {},
     "output_type": "execute_result"
    }
   ],
   "source": [
    "%viz --style=\"TB\" --view=\"State\" \"ActionTest\""
   ]
  },
  {
   "cell_type": "code",
   "execution_count": 47,
   "id": "4aba3e2d",
   "metadata": {
    "execution": {
     "iopub.execute_input": "2021-06-30T09:17:45.353582Z",
     "iopub.status.busy": "2021-06-30T09:17:45.352985Z",
     "iopub.status.idle": "2021-06-30T09:17:45.436749Z",
     "shell.execute_reply": "2021-06-30T09:17:45.432678Z"
    }
   },
   "outputs": [
    {
     "data": {
      "image/svg+xml": [
       "<?xml version=\"1.0\" encoding=\"UTF-8\" standalone=\"no\"?><svg xmlns=\"http://www.w3.org/2000/svg\" xmlns:xlink=\"http://www.w3.org/1999/xlink\" contentScriptType=\"application/ecmascript\" contentStyleType=\"text/css\" height=\"462px\" preserveAspectRatio=\"none\" style=\"width:522px;height:462px;\" version=\"1.1\" viewBox=\"0 0 522 462\" width=\"522px\" zoomAndPan=\"magnify\"><defs/><g><!--MD5=[fbc87193dbaf4d95561dea2c320d4a47]\n",
       "cluster E1--><a href=\"psysml:4a739ce7-b110-4093-8b74-31ee982b1e00\" target=\"_top\" title=\"psysml:4a739ce7-b110-4093-8b74-31ee982b1e00\" xlink:actuate=\"onRequest\" xlink:href=\"psysml:4a739ce7-b110-4093-8b74-31ee982b1e00\" xlink:show=\"new\" xlink:title=\"psysml:4a739ce7-b110-4093-8b74-31ee982b1e00\" xlink:type=\"simple\"><polygon fill=\"#FFFFFF\" points=\"16,6,107,6,114,28.2969,500,28.2969,500,450.5,16,450.5,16,6\" style=\"stroke: #000000; stroke-width: 1.5;\"/><line style=\"stroke: #000000; stroke-width: 1.5;\" x1=\"16\" x2=\"114\" y1=\"28.2969\" y2=\"28.2969\"/><text fill=\"#000000\" font-family=\"sans-serif\" font-size=\"14\" font-weight=\"bold\" lengthAdjust=\"spacingAndGlyphs\" textLength=\"85\" x=\"20\" y=\"20.9951\">ActionTest</text></a><!--MD5=[d5e69f78d87373223dbae638b30a9c99]\n",
       "cluster E3--><a href=\"psysml:fa9c3421-7722-4415-b8c7-0ea19e95762e\" target=\"_top\" title=\"psysml:fa9c3421-7722-4415-b8c7-0ea19e95762e\" xlink:actuate=\"onRequest\" xlink:href=\"psysml:fa9c3421-7722-4415-b8c7-0ea19e95762e\" xlink:show=\"new\" xlink:title=\"psysml:fa9c3421-7722-4415-b8c7-0ea19e95762e\" xlink:type=\"simple\"><rect fill=\"#FFFFFF\" height=\"377.5\" id=\"E3\" rx=\"10\" ry=\"10\" style=\"stroke: #383838; stroke-width: 1.5;\" width=\"209\" x=\"267\" y=\"49\"/><rect fill=\"#F8F8F8\" height=\"37.9375\" rx=\"10\" ry=\"10\" style=\"stroke: #F8F8F8; stroke-width: 1.5;\" width=\"209\" x=\"267\" y=\"49\"/><rect fill=\"#F8F8F8\" height=\"10\" style=\"stroke: #F8F8F8; stroke-width: 1.5;\" width=\"209\" x=\"267\" y=\"76.9375\"/><rect fill=\"none\" height=\"377.5\" id=\"E3\" rx=\"10\" ry=\"10\" style=\"stroke: #383838; stroke-width: 1.5;\" width=\"209\" x=\"267\" y=\"49\"/><text fill=\"#000000\" font-family=\"sans-serif\" font-size=\"12\" font-style=\"italic\" lengthAdjust=\"spacingAndGlyphs\" textLength=\"53\" x=\"345\" y=\"65.1387\">«action»</text><text fill=\"#000000\" font-family=\"sans-serif\" font-size=\"12\" lengthAdjust=\"spacingAndGlyphs\" textLength=\"8\" x=\"367.5\" y=\"79.1074\">a</text><line style=\"stroke: #383838; stroke-width: 1.0;\" x1=\"267\" x2=\"476\" y1=\"86.9375\" y2=\"86.9375\"/></a><g id=\"E1.E2\"><a href=\"psysml:e3ea157b-753f-4ff0-b9f5-62b19f528d25\" target=\"_top\" title=\"psysml:e3ea157b-753f-4ff0-b9f5-62b19f528d25\" xlink:actuate=\"onRequest\" xlink:href=\"psysml:e3ea157b-753f-4ff0-b9f5-62b19f528d25\" xlink:show=\"new\" xlink:title=\"psysml:e3ea157b-753f-4ff0-b9f5-62b19f528d25\" xlink:type=\"simple\"><rect fill=\"#FFFFFF\" height=\"42.9375\" id=\"E2\" style=\"stroke: #383838; stroke-width: 1.5;\" width=\"100\" x=\"151\" y=\"88.5\"/><rect fill=\"#F8F8F8\" height=\"37.9375\" style=\"stroke: #383838; stroke-width: 1.5;\" width=\"100\" x=\"151\" y=\"88.5\"/><text fill=\"#000000\" font-family=\"sans-serif\" font-size=\"12\" font-style=\"italic\" lengthAdjust=\"spacingAndGlyphs\" textLength=\"93\" x=\"154.5\" y=\"104.6387\">«attribute def»</text><text fill=\"#000000\" font-family=\"sans-serif\" font-size=\"12\" lengthAdjust=\"spacingAndGlyphs\" textLength=\"8\" x=\"197\" y=\"118.6074\">S</text></a></g><polygon fill=\"#F8F8F8\" points=\"424,148.5,436,160.5,424,172.5,412,160.5,424,148.5\" style=\"stroke: #383838; stroke-width: 1.5;\"/><!--MD5=[21dd76c19d33815960c0e92fef8f0eef]\n",
       "entity E5--><a href=\"psysml:1a7559c2-685c-4c08-a29a-09c3177cd704\" target=\"_top\" title=\"psysml:1a7559c2-685c-4c08-a29a-09c3177cd704\" xlink:actuate=\"onRequest\" xlink:href=\"psysml:1a7559c2-685c-4c08-a29a-09c3177cd704\" xlink:show=\"new\" xlink:title=\"psysml:1a7559c2-685c-4c08-a29a-09c3177cd704\" xlink:type=\"simple\"><polygon fill=\"#F8F8F8\" points=\"283,189.5,283,244.0938,423,244.0938,403,216.7969,423,189.5\" style=\"stroke: #000000; stroke-width: 1.5;\"/><text fill=\"#000000\" font-family=\"sans-serif\" font-size=\"14\" font-style=\"italic\" lengthAdjust=\"spacingAndGlyphs\" textLength=\"111\" x=\"290\" y=\"212.4951\">«accept action»</text><text fill=\"#000000\" font-family=\"sans-serif\" font-size=\"14\" lengthAdjust=\"spacingAndGlyphs\" textLength=\"9\" x=\"341\" y=\"229.792\">S</text></a><!--MD5=[24d87cdf3002d433f401b2a2aa9f9f65]\n",
       "entity E6--><a href=\"psysml:57acc649-2893-4bd5-b427-585e4a8282d2\" target=\"_top\" title=\"psysml:57acc649-2893-4bd5-b427-585e4a8282d2\" xlink:actuate=\"onRequest\" xlink:href=\"psysml:57acc649-2893-4bd5-b427-585e4a8282d2\" xlink:show=\"new\" xlink:title=\"psysml:57acc649-2893-4bd5-b427-585e4a8282d2\" xlink:type=\"simple\"><polygon fill=\"#F8F8F8\" points=\"283,277.5,283,332.0938,391,332.0938,411,304.7969,391,277.5\" style=\"stroke: #000000; stroke-width: 1.5;\"/><text fill=\"#000000\" font-family=\"sans-serif\" font-size=\"14\" font-style=\"italic\" lengthAdjust=\"spacingAndGlyphs\" textLength=\"99\" x=\"290\" y=\"300.4951\">«send action»</text><text fill=\"#000000\" font-family=\"sans-serif\" font-size=\"14\" lengthAdjust=\"spacingAndGlyphs\" textLength=\"65\" x=\"307\" y=\"317.792\">S() to  B()</text></a><polygon fill=\"#F8F8F8\" points=\"422,349.5,434,361.5,422,373.5,410,361.5,422,349.5\" style=\"stroke: #383838; stroke-width: 1.5;\"/><ellipse cx=\"424\" cy=\"110\" fill=\"#000000\" rx=\"10\" ry=\"10\" style=\"stroke: none; stroke-width: 1.0;\"/><ellipse cx=\"422\" cy=\"400.5\" fill=\"none\" rx=\"10\" ry=\"10\" style=\"stroke: #000000; stroke-width: 1.0;\"/><ellipse cx=\"422.5\" cy=\"401\" fill=\"#000000\" rx=\"6\" ry=\"6\" style=\"stroke: none; stroke-width: 1.0;\"/><g id=\"E1.E8\"><a href=\"psysml:86a7eb05-d2a7-4b0b-add7-eac0d2258e69\" target=\"_top\" title=\"psysml:86a7eb05-d2a7-4b0b-add7-eac0d2258e69\" xlink:actuate=\"onRequest\" xlink:href=\"psysml:86a7eb05-d2a7-4b0b-add7-eac0d2258e69\" xlink:show=\"new\" xlink:title=\"psysml:86a7eb05-d2a7-4b0b-add7-eac0d2258e69\" xlink:type=\"simple\"><rect fill=\"#FFFFFF\" height=\"42.9375\" id=\"E8\" style=\"stroke: #383838; stroke-width: 1.5;\" width=\"84\" x=\"32\" y=\"88.5\"/><rect fill=\"#F8F8F8\" height=\"37.9375\" style=\"stroke: #383838; stroke-width: 1.5;\" width=\"84\" x=\"32\" y=\"88.5\"/><text fill=\"#000000\" font-family=\"sans-serif\" font-size=\"12\" font-style=\"italic\" lengthAdjust=\"spacingAndGlyphs\" textLength=\"77\" x=\"35.5\" y=\"104.6387\">«action def»</text><text fill=\"#000000\" font-family=\"sans-serif\" font-size=\"12\" lengthAdjust=\"spacingAndGlyphs\" textLength=\"8\" x=\"70\" y=\"118.6074\">B</text></a></g><!--MD5=[f47e10efcf9a6752d55dae986d790ed9]\n",
       "link *start*E3 to E4--><a href=\"psysml:3a6c3978-61f5-46d3-ad26-c963b1b56f5b\" target=\"_top\" title=\"psysml:3a6c3978-61f5-46d3-ad26-c963b1b56f5b\" xlink:actuate=\"onRequest\" xlink:href=\"psysml:3a6c3978-61f5-46d3-ad26-c963b1b56f5b\" xlink:show=\"new\" xlink:title=\"psysml:3a6c3978-61f5-46d3-ad26-c963b1b56f5b\" xlink:type=\"simple\"><path d=\"M424,120.35 C424,126.88 424,135.77 424,143.42 \" fill=\"none\" id=\"*start*E3-&gt;E4\" style=\"stroke: #383838; stroke-width: 1.0;\"/><polygon fill=\"#383838\" points=\"424,148.48,428,139.48,424,143.48,420,139.48,424,148.48\" style=\"stroke: #383838; stroke-width: 1.0;\"/></a><!--MD5=[d19f2eb34364d71b67042106d92f540b]\n",
       "link E7 to *end*E3--><a href=\"psysml:36daa16f-4b44-48c5-bcb7-7a401bcea152\" target=\"_top\" title=\"psysml:36daa16f-4b44-48c5-bcb7-7a401bcea152\" xlink:actuate=\"onRequest\" xlink:href=\"psysml:36daa16f-4b44-48c5-bcb7-7a401bcea152\" xlink:show=\"new\" xlink:title=\"psysml:36daa16f-4b44-48c5-bcb7-7a401bcea152\" xlink:type=\"simple\"><path d=\"M422,373.8 C422,377.34 422,381.3 422,385.03 \" fill=\"none\" id=\"E7-&gt;*end*E3\" style=\"stroke: #383838; stroke-width: 1.0;\"/><polygon fill=\"#383838\" points=\"422,390.25,426,381.25,422,385.25,418,381.25,422,390.25\" style=\"stroke: #383838; stroke-width: 1.0;\"/></a><!--MD5=[1b7591eae5389033d8d09a9d6721a717]\n",
       "link E4 to E5--><a href=\"psysml:c56e5692-64fd-4b0b-a986-d866765d0210\" target=\"_top\" title=\"psysml:c56e5692-64fd-4b0b-a986-d866765d0210\" xlink:actuate=\"onRequest\" xlink:href=\"psysml:c56e5692-64fd-4b0b-a986-d866765d0210\" xlink:show=\"new\" xlink:title=\"psysml:c56e5692-64fd-4b0b-a986-d866765d0210\" xlink:type=\"simple\"><path d=\"M417.45,166.53 C411.33,171.23 401.65,178.66 391.64,186.34 \" fill=\"none\" id=\"E4-&gt;E5\" style=\"stroke: #383838; stroke-width: 1.0;\"/><polygon fill=\"#383838\" points=\"387.64,189.41,397.2129,187.0948,391.6037,186.3621,392.3363,180.7529,387.64,189.41\" style=\"stroke: #383838; stroke-width: 1.0;\"/></a><!--MD5=[9120cf2e5df3bff93db8f754bbbc09b4]\n",
       "link E5 to E6--><a href=\"psysml:363bb7e0-7ec1-401c-827a-8a23a32c7946\" target=\"_top\" title=\"psysml:363bb7e0-7ec1-401c-827a-8a23a32c7946\" xlink:actuate=\"onRequest\" xlink:href=\"psysml:363bb7e0-7ec1-401c-827a-8a23a32c7946\" xlink:show=\"new\" xlink:title=\"psysml:363bb7e0-7ec1-401c-827a-8a23a32c7946\" xlink:type=\"simple\"><path d=\"M351.13,244.74 C350.53,253.4 349.85,263.08 349.23,272.08 \" fill=\"none\" id=\"E5-&gt;E6\" style=\"stroke: #383838; stroke-width: 1.0;\"/><polygon fill=\"#383838\" points=\"348.86,277.28,353.468,268.5756,349.203,272.2918,345.4869,268.0268,348.86,277.28\" style=\"stroke: #383838; stroke-width: 1.0;\"/></a><!--MD5=[02c70b7c851c11e3980e4e90450dc5dd]\n",
       "link E6 to E7--><a href=\"psysml:84082b66-a23a-4779-a592-98d74f10d8d7\" target=\"_top\" title=\"psysml:84082b66-a23a-4779-a592-98d74f10d8d7\" xlink:actuate=\"onRequest\" xlink:href=\"psysml:84082b66-a23a-4779-a592-98d74f10d8d7\" xlink:show=\"new\" xlink:title=\"psysml:84082b66-a23a-4779-a592-98d74f10d8d7\" xlink:type=\"simple\"><path d=\"M383.62,332.61 C393.72,339.95 403.91,347.35 411.24,352.68 \" fill=\"none\" id=\"E6-&gt;E7\" style=\"stroke: #383838; stroke-width: 1.0;\"/><polygon fill=\"#383838\" points=\"415.42,355.72,410.4976,347.1894,411.3776,352.7774,405.7896,353.6574,415.42,355.72\" style=\"stroke: #383838; stroke-width: 1.0;\"/></a><!--MD5=[6bdd27f9905911a7e892a3dc65cf6b7c]\n",
       "link E7 to E4--><a href=\"psysml:49753952-5c4c-4ef6-ad04-e80bfe7cb929\" target=\"_top\" title=\"psysml:49753952-5c4c-4ef6-ad04-e80bfe7cb929\" xlink:actuate=\"onRequest\" xlink:href=\"psysml:49753952-5c4c-4ef6-ad04-e80bfe7cb929\" xlink:show=\"new\" xlink:title=\"psysml:49753952-5c4c-4ef6-ad04-e80bfe7cb929\" xlink:type=\"simple\"><path d=\"M425,352.49 C433.84,327.73 458.06,250.48 441,189.5 C439.26,183.29 435.73,177.1 432.34,172.12 \" fill=\"none\" id=\"E7-&gt;E4\" style=\"stroke: #383838; stroke-width: 1.0;\"/><polygon fill=\"#383838\" points=\"429.31,167.92,431.3342,177.5586,432.2364,171.9741,437.8209,172.8763,429.31,167.92\" style=\"stroke: #383838; stroke-width: 1.0;\"/><text fill=\"#000000\" font-family=\"sans-serif\" font-size=\"13\" lengthAdjust=\"spacingAndGlyphs\" textLength=\"36\" x=\"447\" y=\"265.5669\">[true]</text></a><!--MD5=[b6ee5d39e56f286f93ca8c32328f810f]\n",
       "@startuml\r\n",
       "skinparam ranksep 10\r\n",
       "skinparam rectangle {\r\n",
       " backgroundColor<<block>> LightGreen\r\n",
       "}\r\n",
       "top to bottom direction\r\n",
       "skinparam monochrome true\r\n",
       "skinparam classbackgroundcolor white\r\n",
       "skinparam shadowing false\r\n",
       "skinparam wrapWidth 300\r\n",
       "hide circle\r\n",
       "\r\n",
       "package \"ActionTest\" as E1  [[psysml:4a739ce7-b110-4093-8b74-31ee982b1e00 ]]  {\r\n",
       "def \"S\" as E2  <<(T,blue) attribute def>> [[psysml:e3ea157b-753f-4ff0-b9f5-62b19f528d25 ]] \r\n",
       "rec usage \"a\" as E3  <<(T,blue) action>> [[psysml:fa9c3421-7722-4415-b8c7-0ea19e95762e ]] {\r\n",
       "choice \"m\" as E4  [[psysml:60604585-cd78-42b0-92ae-265c1a2862a9 ]] \r\n",
       "accept \" S\" as E5 << accept action>> [[psysml:1a7559c2-685c-4c08-a29a-09c3177cd704 ]] \r\n",
       "send \" S() to  B()\" as E6 << send action>> [[psysml:57acc649-2893-4bd5-b427-585e4a8282d2 ]] \r\n",
       "choice \"noname\" as E7  [[psysml:dcda7bbd-01a5-4374-8a97-a16c2625889c ]] \r\n",
       "[*] - -> E4 [[psysml:3a6c3978-61f5-46d3-ad26-c963b1b56f5b ]] \r\n",
       "E7  - -> [*] [[psysml:36daa16f-4b44-48c5-bcb7-7a401bcea152 ]] \r\n",
       "}\r\n",
       "\r\n",
       "rec def \"B\" as E8  <<(T,blue) action def>> [[psysml:86a7eb05-d2a7-4b0b-add7-eac0d2258e69 ]] {\r\n",
       "}\r\n",
       "\r\n",
       "E4 - -> E5 [[psysml:c56e5692-64fd-4b0b-a986-d866765d0210 ]] \r\n",
       "E5 - -> E6 [[psysml:363bb7e0-7ec1-401c-827a-8a23a32c7946 ]] \r\n",
       "E6 - -> E7 [[psysml:84082b66-a23a-4779-a592-98d74f10d8d7 ]] \r\n",
       "E7  - -> E4 [[psysml:49753952-5c4c-4ef6-ad04-e80bfe7cb929 ]] : [true]\r\n",
       "}\r\n",
       "@enduml\r\n",
       "\n",
       "PlantUML version 1.2020.13(Sat Jun 13 12:26:38 UTC 2020)\n",
       "(EPL source distribution)\n",
       "Java Runtime: OpenJDK Runtime Environment\n",
       "JVM: OpenJDK 64-Bit Server VM\n",
       "Default Encoding: UTF-8\n",
       "Language: en\n",
       "Country: null\n",
       "--></g></svg>"
      ]
     },
     "execution_count": 47,
     "metadata": {},
     "output_type": "execute_result"
    }
   ],
   "source": [
    "%viz --style=\"TB\" --view=\"Interconnection\" \"ActionTest\""
   ]
  },
  {
   "cell_type": "code",
   "execution_count": 48,
   "id": "d45f0231",
   "metadata": {
    "execution": {
     "iopub.execute_input": "2021-06-30T09:17:45.490507Z",
     "iopub.status.busy": "2021-06-30T09:17:45.489943Z",
     "iopub.status.idle": "2021-06-30T09:17:45.592613Z",
     "shell.execute_reply": "2021-06-30T09:17:45.590897Z"
    }
   },
   "outputs": [
    {
     "data": {
      "image/svg+xml": [
       "<?xml version=\"1.0\" encoding=\"UTF-8\" standalone=\"no\"?><svg xmlns=\"http://www.w3.org/2000/svg\" xmlns:xlink=\"http://www.w3.org/1999/xlink\" contentScriptType=\"application/ecmascript\" contentStyleType=\"text/css\" height=\"395px\" preserveAspectRatio=\"none\" style=\"width:335px;height:395px;\" version=\"1.1\" viewBox=\"0 0 335 395\" width=\"335px\" zoomAndPan=\"magnify\"><defs/><g><!--MD5=[fbc87193dbaf4d95561dea2c320d4a47]\n",
       "cluster E1--><a href=\"psysml:fa9c3421-7722-4415-b8c7-0ea19e95762e\" target=\"_top\" title=\"psysml:fa9c3421-7722-4415-b8c7-0ea19e95762e\" xlink:actuate=\"onRequest\" xlink:href=\"psysml:fa9c3421-7722-4415-b8c7-0ea19e95762e\" xlink:show=\"new\" xlink:title=\"psysml:fa9c3421-7722-4415-b8c7-0ea19e95762e\" xlink:type=\"simple\"><rect fill=\"#FFFFFF\" height=\"377.5\" id=\"E1\" rx=\"10\" ry=\"10\" style=\"stroke: #383838; stroke-width: 1.5;\" width=\"209\" x=\"107\" y=\"7\"/><rect fill=\"#F8F8F8\" height=\"37.9375\" rx=\"10\" ry=\"10\" style=\"stroke: #F8F8F8; stroke-width: 1.5;\" width=\"209\" x=\"107\" y=\"7\"/><rect fill=\"#F8F8F8\" height=\"10\" style=\"stroke: #F8F8F8; stroke-width: 1.5;\" width=\"209\" x=\"107\" y=\"34.9375\"/><rect fill=\"none\" height=\"377.5\" id=\"E1\" rx=\"10\" ry=\"10\" style=\"stroke: #383838; stroke-width: 1.5;\" width=\"209\" x=\"107\" y=\"7\"/><text fill=\"#000000\" font-family=\"sans-serif\" font-size=\"12\" font-style=\"italic\" lengthAdjust=\"spacingAndGlyphs\" textLength=\"53\" x=\"185\" y=\"23.1387\">«action»</text><text fill=\"#000000\" font-family=\"sans-serif\" font-size=\"12\" lengthAdjust=\"spacingAndGlyphs\" textLength=\"8\" x=\"207.5\" y=\"37.1074\">a</text><line style=\"stroke: #383838; stroke-width: 1.0;\" x1=\"107\" x2=\"316\" y1=\"44.9375\" y2=\"44.9375\"/></a><polygon fill=\"#F8F8F8\" points=\"264,106.5,276,118.5,264,130.5,252,118.5,264,106.5\" style=\"stroke: #383838; stroke-width: 1.5;\"/><!--MD5=[a60fb756f580feb9fd8e2cf1329b5c91]\n",
       "entity E3--><a href=\"psysml:1a7559c2-685c-4c08-a29a-09c3177cd704\" target=\"_top\" title=\"psysml:1a7559c2-685c-4c08-a29a-09c3177cd704\" xlink:actuate=\"onRequest\" xlink:href=\"psysml:1a7559c2-685c-4c08-a29a-09c3177cd704\" xlink:show=\"new\" xlink:title=\"psysml:1a7559c2-685c-4c08-a29a-09c3177cd704\" xlink:type=\"simple\"><polygon fill=\"#F8F8F8\" points=\"123,147.5,123,202.0938,263,202.0938,243,174.7969,263,147.5\" style=\"stroke: #000000; stroke-width: 1.5;\"/><text fill=\"#000000\" font-family=\"sans-serif\" font-size=\"14\" font-style=\"italic\" lengthAdjust=\"spacingAndGlyphs\" textLength=\"111\" x=\"130\" y=\"170.4951\">«accept action»</text><text fill=\"#000000\" font-family=\"sans-serif\" font-size=\"14\" lengthAdjust=\"spacingAndGlyphs\" textLength=\"9\" x=\"181\" y=\"187.792\">S</text></a><!--MD5=[961cefdc15414eaa3e87aec9d17c2188]\n",
       "entity E4--><a href=\"psysml:57acc649-2893-4bd5-b427-585e4a8282d2\" target=\"_top\" title=\"psysml:57acc649-2893-4bd5-b427-585e4a8282d2\" xlink:actuate=\"onRequest\" xlink:href=\"psysml:57acc649-2893-4bd5-b427-585e4a8282d2\" xlink:show=\"new\" xlink:title=\"psysml:57acc649-2893-4bd5-b427-585e4a8282d2\" xlink:type=\"simple\"><polygon fill=\"#F8F8F8\" points=\"123,235.5,123,290.0938,231,290.0938,251,262.7969,231,235.5\" style=\"stroke: #000000; stroke-width: 1.5;\"/><text fill=\"#000000\" font-family=\"sans-serif\" font-size=\"14\" font-style=\"italic\" lengthAdjust=\"spacingAndGlyphs\" textLength=\"99\" x=\"130\" y=\"258.4951\">«send action»</text><text fill=\"#000000\" font-family=\"sans-serif\" font-size=\"14\" lengthAdjust=\"spacingAndGlyphs\" textLength=\"65\" x=\"147\" y=\"275.792\">S() to  B()</text></a><polygon fill=\"#F8F8F8\" points=\"262,307.5,274,319.5,262,331.5,250,319.5,262,307.5\" style=\"stroke: #383838; stroke-width: 1.5;\"/><ellipse cx=\"264\" cy=\"68\" fill=\"#000000\" rx=\"10\" ry=\"10\" style=\"stroke: none; stroke-width: 1.0;\"/><ellipse cx=\"262\" cy=\"358.5\" fill=\"none\" rx=\"10\" ry=\"10\" style=\"stroke: #000000; stroke-width: 1.0;\"/><ellipse cx=\"262.5\" cy=\"359\" fill=\"#000000\" rx=\"6\" ry=\"6\" style=\"stroke: none; stroke-width: 1.0;\"/><g id=\"E6\"><a href=\"psysml:86a7eb05-d2a7-4b0b-add7-eac0d2258e69\" target=\"_top\" title=\"psysml:86a7eb05-d2a7-4b0b-add7-eac0d2258e69\" xlink:actuate=\"onRequest\" xlink:href=\"psysml:86a7eb05-d2a7-4b0b-add7-eac0d2258e69\" xlink:show=\"new\" xlink:title=\"psysml:86a7eb05-d2a7-4b0b-add7-eac0d2258e69\" xlink:type=\"simple\"><rect fill=\"#FFFFFF\" height=\"42.9375\" id=\"E6\" style=\"stroke: #383838; stroke-width: 1.5;\" width=\"84\" x=\"7\" y=\"46.5\"/><rect fill=\"#F8F8F8\" height=\"37.9375\" style=\"stroke: #383838; stroke-width: 1.5;\" width=\"84\" x=\"7\" y=\"46.5\"/><text fill=\"#000000\" font-family=\"sans-serif\" font-size=\"12\" font-style=\"italic\" lengthAdjust=\"spacingAndGlyphs\" textLength=\"77\" x=\"10.5\" y=\"62.6387\">«action def»</text><text fill=\"#000000\" font-family=\"sans-serif\" font-size=\"12\" lengthAdjust=\"spacingAndGlyphs\" textLength=\"8\" x=\"45\" y=\"76.6074\">B</text></a></g><!--MD5=[cff944eb183b832d446717a4e202d613]\n",
       "link *start*E1 to E2--><a href=\"psysml:3a6c3978-61f5-46d3-ad26-c963b1b56f5b\" target=\"_top\" title=\"psysml:3a6c3978-61f5-46d3-ad26-c963b1b56f5b\" xlink:actuate=\"onRequest\" xlink:href=\"psysml:3a6c3978-61f5-46d3-ad26-c963b1b56f5b\" xlink:show=\"new\" xlink:title=\"psysml:3a6c3978-61f5-46d3-ad26-c963b1b56f5b\" xlink:type=\"simple\"><path d=\"M264,78.35 C264,84.88 264,93.77 264,101.42 \" fill=\"none\" id=\"*start*E1-&gt;E2\" style=\"stroke: #383838; stroke-width: 1.0; stroke-dasharray: 7.0,7.0;\"/><polygon fill=\"#383838\" points=\"264,106.48,268,97.48,264,101.48,260,97.48,264,106.48\" style=\"stroke: #383838; stroke-width: 1.0;\"/></a><!--MD5=[7fc47fc0d107820853a137871ad908c8]\n",
       "link E5 to *end*E1--><a href=\"psysml:36daa16f-4b44-48c5-bcb7-7a401bcea152\" target=\"_top\" title=\"psysml:36daa16f-4b44-48c5-bcb7-7a401bcea152\" xlink:actuate=\"onRequest\" xlink:href=\"psysml:36daa16f-4b44-48c5-bcb7-7a401bcea152\" xlink:show=\"new\" xlink:title=\"psysml:36daa16f-4b44-48c5-bcb7-7a401bcea152\" xlink:type=\"simple\"><path d=\"M262,331.8 C262,335.34 262,339.3 262,343.03 \" fill=\"none\" id=\"E5-&gt;*end*E1\" style=\"stroke: #383838; stroke-width: 1.0; stroke-dasharray: 7.0,7.0;\"/><polygon fill=\"#383838\" points=\"262,348.25,266,339.25,262,343.25,258,339.25,262,348.25\" style=\"stroke: #383838; stroke-width: 1.0;\"/></a><!--MD5=[2720a5a1f2c3fca2055b230370638851]\n",
       "link E2 to E3--><a href=\"psysml:c56e5692-64fd-4b0b-a986-d866765d0210\" target=\"_top\" title=\"psysml:c56e5692-64fd-4b0b-a986-d866765d0210\" xlink:actuate=\"onRequest\" xlink:href=\"psysml:c56e5692-64fd-4b0b-a986-d866765d0210\" xlink:show=\"new\" xlink:title=\"psysml:c56e5692-64fd-4b0b-a986-d866765d0210\" xlink:type=\"simple\"><path d=\"M257.45,124.53 C251.33,129.23 241.65,136.66 231.64,144.34 \" fill=\"none\" id=\"E2-&gt;E3\" style=\"stroke: #383838; stroke-width: 1.0; stroke-dasharray: 7.0,7.0;\"/><polygon fill=\"#383838\" points=\"227.64,147.41,237.2129,145.0948,231.6037,144.3621,232.3363,138.7529,227.64,147.41\" style=\"stroke: #383838; stroke-width: 1.0;\"/></a><!--MD5=[af87c684e3b0d8be13c1a698a818ef1e]\n",
       "link E3 to E4--><a href=\"psysml:363bb7e0-7ec1-401c-827a-8a23a32c7946\" target=\"_top\" title=\"psysml:363bb7e0-7ec1-401c-827a-8a23a32c7946\" xlink:actuate=\"onRequest\" xlink:href=\"psysml:363bb7e0-7ec1-401c-827a-8a23a32c7946\" xlink:show=\"new\" xlink:title=\"psysml:363bb7e0-7ec1-401c-827a-8a23a32c7946\" xlink:type=\"simple\"><path d=\"M191.13,202.74 C190.53,211.4 189.85,221.08 189.23,230.08 \" fill=\"none\" id=\"E3-&gt;E4\" style=\"stroke: #383838; stroke-width: 1.0; stroke-dasharray: 7.0,7.0;\"/><polygon fill=\"#383838\" points=\"188.86,235.28,193.468,226.5756,189.203,230.2918,185.4869,226.0268,188.86,235.28\" style=\"stroke: #383838; stroke-width: 1.0;\"/></a><!--MD5=[1b7591eae5389033d8d09a9d6721a717]\n",
       "link E4 to E5--><a href=\"psysml:84082b66-a23a-4779-a592-98d74f10d8d7\" target=\"_top\" title=\"psysml:84082b66-a23a-4779-a592-98d74f10d8d7\" xlink:actuate=\"onRequest\" xlink:href=\"psysml:84082b66-a23a-4779-a592-98d74f10d8d7\" xlink:show=\"new\" xlink:title=\"psysml:84082b66-a23a-4779-a592-98d74f10d8d7\" xlink:type=\"simple\"><path d=\"M223.62,290.61 C233.72,297.95 243.91,305.35 251.24,310.68 \" fill=\"none\" id=\"E4-&gt;E5\" style=\"stroke: #383838; stroke-width: 1.0; stroke-dasharray: 7.0,7.0;\"/><polygon fill=\"#383838\" points=\"255.42,313.72,250.4976,305.1894,251.3776,310.7774,245.7896,311.6574,255.42,313.72\" style=\"stroke: #383838; stroke-width: 1.0;\"/></a><!--MD5=[15ebcb19ae302d9b601edb458606d402]\n",
       "link E5 to E2--><a href=\"psysml:49753952-5c4c-4ef6-ad04-e80bfe7cb929\" target=\"_top\" title=\"psysml:49753952-5c4c-4ef6-ad04-e80bfe7cb929\" xlink:actuate=\"onRequest\" xlink:href=\"psysml:49753952-5c4c-4ef6-ad04-e80bfe7cb929\" xlink:show=\"new\" xlink:title=\"psysml:49753952-5c4c-4ef6-ad04-e80bfe7cb929\" xlink:type=\"simple\"><path d=\"M265,310.49 C273.84,285.73 298.06,208.48 281,147.5 C279.26,141.29 275.73,135.1 272.34,130.12 \" fill=\"none\" id=\"E5-&gt;E2\" style=\"stroke: #383838; stroke-width: 1.0; stroke-dasharray: 7.0,7.0;\"/><polygon fill=\"#383838\" points=\"269.31,125.92,271.3342,135.5586,272.2364,129.9741,277.8209,130.8763,269.31,125.92\" style=\"stroke: #383838; stroke-width: 1.0;\"/><text fill=\"#000000\" font-family=\"sans-serif\" font-size=\"13\" lengthAdjust=\"spacingAndGlyphs\" textLength=\"36\" x=\"287\" y=\"223.5669\">[true]</text></a><!--MD5=[62b0fd082b8187607514ed1d644b6892]\n",
       "@startuml\r\n",
       "skinparam ranksep 8\r\n",
       "top to bottom direction\r\n",
       "skinparam monochrome true\r\n",
       "skinparam classbackgroundcolor white\r\n",
       "skinparam shadowing false\r\n",
       "skinparam wrapWidth 300\r\n",
       "hide circle\r\n",
       "\r\n",
       "rec usage \"a\" as E1  <<(T,blue) action>> [[psysml:fa9c3421-7722-4415-b8c7-0ea19e95762e ]] {\r\n",
       "choice \"m\" as E2  [[psysml:60604585-cd78-42b0-92ae-265c1a2862a9 ]] \r\n",
       "accept \" S\" as E3 << accept action>> [[psysml:1a7559c2-685c-4c08-a29a-09c3177cd704 ]] \r\n",
       "send \" S() to  B()\" as E4 << send action>> [[psysml:57acc649-2893-4bd5-b427-585e4a8282d2 ]] \r\n",
       "choice \"noname\" as E5  [[psysml:dcda7bbd-01a5-4374-8a97-a16c2625889c ]] \r\n",
       "[*] ..> E2 [[psysml:3a6c3978-61f5-46d3-ad26-c963b1b56f5b ]] \r\n",
       "E5 ..> [*] [[psysml:36daa16f-4b44-48c5-bcb7-7a401bcea152 ]] \r\n",
       "}\r\n",
       "\r\n",
       "E2 ..> E3 [[psysml:c56e5692-64fd-4b0b-a986-d866765d0210 ]] \r\n",
       "E3 ..> E4 [[psysml:363bb7e0-7ec1-401c-827a-8a23a32c7946 ]] \r\n",
       "E4 ..> E5 [[psysml:84082b66-a23a-4779-a592-98d74f10d8d7 ]] \r\n",
       "E5 ..> E2 [[psysml:49753952-5c4c-4ef6-ad04-e80bfe7cb929 ]] : [true]\r\n",
       "rec def \"B\" as E6  <<(T,blue) action def>> [[psysml:86a7eb05-d2a7-4b0b-add7-eac0d2258e69 ]] {\r\n",
       "}\r\n",
       "\r\n",
       "@enduml\r\n",
       "\n",
       "PlantUML version 1.2020.13(Sat Jun 13 12:26:38 UTC 2020)\n",
       "(EPL source distribution)\n",
       "Java Runtime: OpenJDK Runtime Environment\n",
       "JVM: OpenJDK 64-Bit Server VM\n",
       "Default Encoding: UTF-8\n",
       "Language: en\n",
       "Country: null\n",
       "--></g></svg>"
      ]
     },
     "execution_count": 48,
     "metadata": {},
     "output_type": "execute_result"
    }
   ],
   "source": [
    "%viz --style=\"TB\" --view=\"Action\" \"ActionTest\""
   ]
  },
  {
   "cell_type": "code",
   "execution_count": 49,
   "id": "679fb794",
   "metadata": {
    "execution": {
     "iopub.execute_input": "2021-06-30T09:17:45.648149Z",
     "iopub.status.busy": "2021-06-30T09:17:45.646538Z",
     "iopub.status.idle": "2021-06-30T09:17:45.713747Z",
     "shell.execute_reply": "2021-06-30T09:17:45.711115Z"
    }
   },
   "outputs": [
    {
     "data": {
      "image/svg+xml": [
       "<?xml version=\"1.0\" encoding=\"UTF-8\" standalone=\"no\"?><svg xmlns=\"http://www.w3.org/2000/svg\" xmlns:xlink=\"http://www.w3.org/1999/xlink\" contentScriptType=\"application/ecmascript\" contentStyleType=\"text/css\" height=\"327px\" preserveAspectRatio=\"none\" style=\"width:677px;height:327px;\" version=\"1.1\" viewBox=\"0 0 677 327\" width=\"677px\" zoomAndPan=\"magnify\"><defs/><g><!--MD5=[fbc87193dbaf4d95561dea2c320d4a47]\n",
       "cluster E1--><a href=\"psysml:4a739ce7-b110-4093-8b74-31ee982b1e00\" target=\"_top\" title=\"psysml:4a739ce7-b110-4093-8b74-31ee982b1e00\" xlink:actuate=\"onRequest\" xlink:href=\"psysml:4a739ce7-b110-4093-8b74-31ee982b1e00\" xlink:show=\"new\" xlink:title=\"psysml:4a739ce7-b110-4093-8b74-31ee982b1e00\" xlink:type=\"simple\"><polygon fill=\"#FFFFFF\" points=\"16,6,107,6,114,28.2969,655,28.2969,655,315,16,315,16,6\" style=\"stroke: #000000; stroke-width: 1.5;\"/><line style=\"stroke: #000000; stroke-width: 1.5;\" x1=\"16\" x2=\"114\" y1=\"28.2969\" y2=\"28.2969\"/><text fill=\"#000000\" font-family=\"sans-serif\" font-size=\"14\" font-weight=\"bold\" lengthAdjust=\"spacingAndGlyphs\" textLength=\"85\" x=\"20\" y=\"20.9951\">ActionTest</text></a><!--MD5=[b4997ac47864f28c2f74865a473b2911]\n",
       "class E2--><a href=\"psysml:e3ea157b-753f-4ff0-b9f5-62b19f528d25\" target=\"_top\" title=\"psysml:e3ea157b-753f-4ff0-b9f5-62b19f528d25\" xlink:actuate=\"onRequest\" xlink:href=\"psysml:e3ea157b-753f-4ff0-b9f5-62b19f528d25\" xlink:show=\"new\" xlink:title=\"psysml:e3ea157b-753f-4ff0-b9f5-62b19f528d25\" xlink:type=\"simple\"><rect fill=\"#FFFFFF\" height=\"45.9375\" id=\"E2\" style=\"stroke: #383838; stroke-width: 1.5;\" width=\"95\" x=\"278.5\" y=\"253\"/><text fill=\"#000000\" font-family=\"sans-serif\" font-size=\"12\" font-style=\"italic\" lengthAdjust=\"spacingAndGlyphs\" textLength=\"93\" x=\"279.5\" y=\"269.1387\">«attribute def»</text><text fill=\"#000000\" font-family=\"sans-serif\" font-size=\"12\" lengthAdjust=\"spacingAndGlyphs\" textLength=\"8\" x=\"322\" y=\"283.1074\">S</text><line style=\"stroke: #383838; stroke-width: 1.5;\" x1=\"279.5\" x2=\"372.5\" y1=\"290.9375\" y2=\"290.9375\"/></a><!--MD5=[09b614a08d8cba4a07c9adeb5e0fee81]\n",
       "class E3--><a href=\"psysml:fa9c3421-7722-4415-b8c7-0ea19e95762e\" target=\"_top\" title=\"psysml:fa9c3421-7722-4415-b8c7-0ea19e95762e\" xlink:actuate=\"onRequest\" xlink:href=\"psysml:fa9c3421-7722-4415-b8c7-0ea19e95762e\" xlink:show=\"new\" xlink:title=\"psysml:fa9c3421-7722-4415-b8c7-0ea19e95762e\" xlink:type=\"simple\"><rect fill=\"#FFFFFF\" height=\"45.9375\" id=\"E3\" rx=\"10\" ry=\"10\" style=\"stroke: #383838; stroke-width: 1.5;\" width=\"55\" x=\"298.5\" y=\"41\"/><text fill=\"#000000\" font-family=\"sans-serif\" font-size=\"12\" font-style=\"italic\" lengthAdjust=\"spacingAndGlyphs\" textLength=\"53\" x=\"299.5\" y=\"57.1387\">«action»</text><text fill=\"#000000\" font-family=\"sans-serif\" font-size=\"12\" lengthAdjust=\"spacingAndGlyphs\" textLength=\"8\" x=\"322\" y=\"71.1074\">a</text><line style=\"stroke: #383838; stroke-width: 1.5;\" x1=\"299.5\" x2=\"352.5\" y1=\"78.9375\" y2=\"78.9375\"/></a><!--MD5=[ebbe1d658d1005bcc118a6aa81145e00]\n",
       "class E4--><a href=\"psysml:a6d1daf9-13da-45ca-a864-cb134e7177b5\" target=\"_top\" title=\"psysml:a6d1daf9-13da-45ca-a864-cb134e7177b5\" xlink:actuate=\"onRequest\" xlink:href=\"psysml:a6d1daf9-13da-45ca-a864-cb134e7177b5\" xlink:show=\"new\" xlink:title=\"psysml:a6d1daf9-13da-45ca-a864-cb134e7177b5\" xlink:type=\"simple\"><rect fill=\"#FFFFFF\" height=\"45.9375\" id=\"E4\" rx=\"10\" ry=\"10\" style=\"stroke: #383838; stroke-width: 1.5;\" width=\"83\" x=\"32.5\" y=\"147\"/><text fill=\"#000000\" font-family=\"sans-serif\" font-size=\"12\" font-style=\"italic\" lengthAdjust=\"spacingAndGlyphs\" textLength=\"53\" x=\"47.5\" y=\"163.1387\">«action»</text><text fill=\"#000000\" font-family=\"sans-serif\" font-size=\"12\" lengthAdjust=\"spacingAndGlyphs\" textLength=\"77\" x=\"35.5\" y=\"177.1074\">start: Action</text><line style=\"stroke: #383838; stroke-width: 1.5;\" x1=\"33.5\" x2=\"114.5\" y1=\"184.9375\" y2=\"184.9375\"/></a><!--MD5=[270fce915f116d4de14055a7c1d9a0f3]\n",
       "class E5--><a href=\"psysml:60604585-cd78-42b0-92ae-265c1a2862a9\" target=\"_top\" title=\"psysml:60604585-cd78-42b0-92ae-265c1a2862a9\" xlink:actuate=\"onRequest\" xlink:href=\"psysml:60604585-cd78-42b0-92ae-265c1a2862a9\" xlink:show=\"new\" xlink:title=\"psysml:60604585-cd78-42b0-92ae-265c1a2862a9\" xlink:type=\"simple\"><rect fill=\"#FFFFFF\" height=\"45.9375\" id=\"E5\" rx=\"10\" ry=\"10\" style=\"stroke: #383838; stroke-width: 1.5;\" width=\"89\" x=\"150.5\" y=\"147\"/><text fill=\"#000000\" font-family=\"sans-serif\" font-size=\"12\" font-style=\"italic\" lengthAdjust=\"spacingAndGlyphs\" textLength=\"87\" x=\"151.5\" y=\"163.1387\">«mergeNode»</text><text fill=\"#000000\" font-family=\"sans-serif\" font-size=\"12\" lengthAdjust=\"spacingAndGlyphs\" textLength=\"11\" x=\"189.5\" y=\"177.1074\">m</text><line style=\"stroke: #383838; stroke-width: 1.5;\" x1=\"151.5\" x2=\"238.5\" y1=\"184.9375\" y2=\"184.9375\"/></a><!--MD5=[60a26617385b1d2d0262a64233df1f8d]\n",
       "class E6--><a href=\"psysml:1a7559c2-685c-4c08-a29a-09c3177cd704\" target=\"_top\" title=\"psysml:1a7559c2-685c-4c08-a29a-09c3177cd704\" xlink:actuate=\"onRequest\" xlink:href=\"psysml:1a7559c2-685c-4c08-a29a-09c3177cd704\" xlink:show=\"new\" xlink:title=\"psysml:1a7559c2-685c-4c08-a29a-09c3177cd704\" xlink:type=\"simple\"><rect fill=\"#FFFFFF\" height=\"45.9375\" id=\"E6\" rx=\"10\" ry=\"10\" style=\"stroke: #383838; stroke-width: 1.5;\" width=\"102\" x=\"275\" y=\"147\"/><text fill=\"#000000\" font-family=\"sans-serif\" font-size=\"12\" font-style=\"italic\" lengthAdjust=\"spacingAndGlyphs\" textLength=\"100\" x=\"276\" y=\"163.1387\">«accept action»</text><text fill=\"#000000\" font-family=\"sans-serif\" font-size=\"12\" lengthAdjust=\"spacingAndGlyphs\" text-decoration=\"line-through\" textLength=\"51\" x=\"300.5\" y=\"177.1074\">noname</text><line style=\"stroke: #383838; stroke-width: 1.5;\" x1=\"276\" x2=\"376\" y1=\"184.9375\" y2=\"184.9375\"/></a><!--MD5=[2156ba9850f5573cc1fc38a6a4b2f02b]\n",
       "class E7--><a href=\"psysml:57acc649-2893-4bd5-b427-585e4a8282d2\" target=\"_top\" title=\"psysml:57acc649-2893-4bd5-b427-585e4a8282d2\" xlink:actuate=\"onRequest\" xlink:href=\"psysml:57acc649-2893-4bd5-b427-585e4a8282d2\" xlink:show=\"new\" xlink:title=\"psysml:57acc649-2893-4bd5-b427-585e4a8282d2\" xlink:type=\"simple\"><rect fill=\"#FFFFFF\" height=\"45.9375\" id=\"E7\" rx=\"10\" ry=\"10\" style=\"stroke: #383838; stroke-width: 1.5;\" width=\"90\" x=\"412\" y=\"147\"/><text fill=\"#000000\" font-family=\"sans-serif\" font-size=\"12\" font-style=\"italic\" lengthAdjust=\"spacingAndGlyphs\" textLength=\"88\" x=\"413\" y=\"163.1387\">«send action»</text><text fill=\"#000000\" font-family=\"sans-serif\" font-size=\"12\" lengthAdjust=\"spacingAndGlyphs\" text-decoration=\"line-through\" textLength=\"51\" x=\"431.5\" y=\"177.1074\">noname</text><line style=\"stroke: #383838; stroke-width: 1.5;\" x1=\"413\" x2=\"501\" y1=\"184.9375\" y2=\"184.9375\"/></a><!--MD5=[b9389687b975829384b498ac4b7476b2]\n",
       "class E8--><a href=\"psysml:dcda7bbd-01a5-4374-8a97-a16c2625889c\" target=\"_top\" title=\"psysml:dcda7bbd-01a5-4374-8a97-a16c2625889c\" xlink:actuate=\"onRequest\" xlink:href=\"psysml:dcda7bbd-01a5-4374-8a97-a16c2625889c\" xlink:show=\"new\" xlink:title=\"psysml:dcda7bbd-01a5-4374-8a97-a16c2625889c\" xlink:type=\"simple\"><rect fill=\"#FFFFFF\" height=\"45.9375\" id=\"E8\" rx=\"10\" ry=\"10\" style=\"stroke: #383838; stroke-width: 1.5;\" width=\"101\" x=\"537.5\" y=\"147\"/><text fill=\"#000000\" font-family=\"sans-serif\" font-size=\"12\" font-style=\"italic\" lengthAdjust=\"spacingAndGlyphs\" textLength=\"99\" x=\"538.5\" y=\"163.1387\">«decisionNode»</text><text fill=\"#000000\" font-family=\"sans-serif\" font-size=\"12\" lengthAdjust=\"spacingAndGlyphs\" text-decoration=\"line-through\" textLength=\"51\" x=\"562.5\" y=\"177.1074\">noname</text><line style=\"stroke: #383838; stroke-width: 1.5;\" x1=\"538.5\" x2=\"637.5\" y1=\"184.9375\" y2=\"184.9375\"/></a><!--MD5=[fd4143e9d270a159db93a4ea2a975926]\n",
       "class E9--><a href=\"psysml:86a7eb05-d2a7-4b0b-add7-eac0d2258e69\" target=\"_top\" title=\"psysml:86a7eb05-d2a7-4b0b-add7-eac0d2258e69\" xlink:actuate=\"onRequest\" xlink:href=\"psysml:86a7eb05-d2a7-4b0b-add7-eac0d2258e69\" xlink:show=\"new\" xlink:title=\"psysml:86a7eb05-d2a7-4b0b-add7-eac0d2258e69\" xlink:type=\"simple\"><rect fill=\"#FFFFFF\" height=\"45.9375\" id=\"E9\" style=\"stroke: #383838; stroke-width: 1.5;\" width=\"79\" x=\"108.5\" y=\"41\"/><text fill=\"#000000\" font-family=\"sans-serif\" font-size=\"12\" font-style=\"italic\" lengthAdjust=\"spacingAndGlyphs\" textLength=\"77\" x=\"109.5\" y=\"57.1387\">«action def»</text><text fill=\"#000000\" font-family=\"sans-serif\" font-size=\"12\" lengthAdjust=\"spacingAndGlyphs\" textLength=\"8\" x=\"144\" y=\"71.1074\">B</text><line style=\"stroke: #383838; stroke-width: 1.5;\" x1=\"109.5\" x2=\"186.5\" y1=\"78.9375\" y2=\"78.9375\"/></a><!--MD5=[4672eba38e49728da53d11aeb285b987]\n",
       "reverse link E3 to E4--><a href=\"psysml:52dfc4ad-a62d-4432-a88b-57c0a80d621d\" target=\"_top\" title=\"psysml:52dfc4ad-a62d-4432-a88b-57c0a80d621d\" xlink:actuate=\"onRequest\" xlink:href=\"psysml:52dfc4ad-a62d-4432-a88b-57c0a80d621d\" xlink:show=\"new\" xlink:title=\"psysml:52dfc4ad-a62d-4432-a88b-57c0a80d621d\" xlink:type=\"simple\"><path d=\"M285.79,81.6 C239.27,100.79 163.05,132.25 115.85,151.73 \" fill=\"none\" id=\"E3&lt;-E4\" style=\"stroke: #383838; stroke-width: 1.0;\"/><polygon fill=\"#FFFFFF\" points=\"298.07,76.53,290.9979,75.1209,286.9771,81.107,294.0492,82.5161,298.07,76.53\" style=\"stroke: #383838; stroke-width: 1.0;\"/></a><!--MD5=[191cde3d490a3f6d7bb551fe3ddca469]\n",
       "reverse link E3 to E5--><a href=\"psysml:99d9f5a6-f2b4-4631-bd24-2952b87c2311\" target=\"_top\" title=\"psysml:99d9f5a6-f2b4-4631-bd24-2952b87c2311\" xlink:actuate=\"onRequest\" xlink:href=\"psysml:99d9f5a6-f2b4-4631-bd24-2952b87c2311\" xlink:show=\"new\" xlink:title=\"psysml:99d9f5a6-f2b4-4631-bd24-2952b87c2311\" xlink:type=\"simple\"><path d=\"M287.79,95.33 C266.97,111.86 241.66,131.95 222.74,146.98 \" fill=\"none\" id=\"E3&lt;-E5\" style=\"stroke: #383838; stroke-width: 1.0;\"/><polygon fill=\"#383838\" points=\"298.22,87.06,291.0341,87.6625,288.8265,94.5273,296.0123,93.9249,298.22,87.06\" style=\"stroke: #383838; stroke-width: 1.0;\"/></a><!--MD5=[1026b4b93417a13aa8999a858998add2]\n",
       "reverse link E3 to E6--><a href=\"psysml:14dfaf6d-db59-420e-a3c6-2cc6bbb5f023\" target=\"_top\" title=\"psysml:14dfaf6d-db59-420e-a3c6-2cc6bbb5f023\" xlink:actuate=\"onRequest\" xlink:href=\"psysml:14dfaf6d-db59-420e-a3c6-2cc6bbb5f023\" xlink:show=\"new\" xlink:title=\"psysml:14dfaf6d-db59-420e-a3c6-2cc6bbb5f023\" xlink:type=\"simple\"><path d=\"M326,100.44 C326,115.87 326,133.47 326,146.98 \" fill=\"none\" id=\"E3&lt;-E6\" style=\"stroke: #383838; stroke-width: 1.0;\"/><polygon fill=\"#FFFFFF\" points=\"326,87.06,322,93.06,326,99.06,330,93.06,326,87.06\" style=\"stroke: #383838; stroke-width: 1.0;\"/></a><!--MD5=[3403bfa781cc3da0fd423dbab6f01c63]\n",
       "reverse link E6 to E2--><a href=\"psysml:773d19c1-1d9b-4741-b5ba-dd5a31e080a3\" target=\"_top\" title=\"psysml:773d19c1-1d9b-4741-b5ba-dd5a31e080a3\" xlink:actuate=\"onRequest\" xlink:href=\"psysml:773d19c1-1d9b-4741-b5ba-dd5a31e080a3\" xlink:show=\"new\" xlink:title=\"psysml:773d19c1-1d9b-4741-b5ba-dd5a31e080a3\" xlink:type=\"simple\"><path d=\"M326,206.44 C326,221.87 326,239.47 326,252.98 \" fill=\"none\" id=\"E6&lt;-E2\" style=\"stroke: #383838; stroke-width: 1.0;\"/><polygon fill=\"#FFFFFF\" points=\"326,193.06,322,199.06,326,205.06,330,199.06,326,193.06\" style=\"stroke: #383838; stroke-width: 1.0;\"/></a><!--MD5=[85760999379eecfd2565a9fecdca67e4]\n",
       "reverse link E3 to E7--><a href=\"psysml:4bddb34b-31d0-4487-9835-f5e5c1238220\" target=\"_top\" title=\"psysml:4bddb34b-31d0-4487-9835-f5e5c1238220\" xlink:actuate=\"onRequest\" xlink:href=\"psysml:4bddb34b-31d0-4487-9835-f5e5c1238220\" xlink:show=\"new\" xlink:title=\"psysml:4bddb34b-31d0-4487-9835-f5e5c1238220\" xlink:type=\"simple\"><path d=\"M364.21,95.33 C385.03,111.86 410.34,131.95 429.26,146.98 \" fill=\"none\" id=\"E3&lt;-E7\" style=\"stroke: #383838; stroke-width: 1.0;\"/><polygon fill=\"#FFFFFF\" points=\"353.78,87.06,355.9877,93.9249,363.1735,94.5273,360.9659,87.6625,353.78,87.06\" style=\"stroke: #383838; stroke-width: 1.0;\"/></a><!--MD5=[4cb75b73ec3682b8f7f8edc9cc86126a]\n",
       "reverse link E3 to E8--><a href=\"psysml:010ce356-5f58-462c-8431-75351dc3ac74\" target=\"_top\" title=\"psysml:010ce356-5f58-462c-8431-75351dc3ac74\" xlink:actuate=\"onRequest\" xlink:href=\"psysml:010ce356-5f58-462c-8431-75351dc3ac74\" xlink:show=\"new\" xlink:title=\"psysml:010ce356-5f58-462c-8431-75351dc3ac74\" xlink:type=\"simple\"><path d=\"M365.63,80.73 C411.46,98.92 486.99,128.91 537.12,148.8 \" fill=\"none\" id=\"E3&lt;-E8\" style=\"stroke: #383838; stroke-width: 1.0;\"/><polygon fill=\"#383838\" points=\"353.54,75.93,357.6459,81.858,364.6971,80.348,360.5912,74.42,353.54,75.93\" style=\"stroke: #383838; stroke-width: 1.0;\"/></a><!--MD5=[95f0aa2245c00900eed74ab0a00f4364]\n",
       "@startuml\r\n",
       "top to bottom direction\r\n",
       "skinparam monochrome true\r\n",
       "skinparam classbackgroundcolor white\r\n",
       "skinparam shadowing false\r\n",
       "skinparam wrapWidth 300\r\n",
       "hide circle\r\n",
       "\r\n",
       "package \"ActionTest\" as E1  [[psysml:4a739ce7-b110-4093-8b74-31ee982b1e00 ]]  {\r\n",
       "comp def \"S\" as E2  <<(T,blue) attribute def>> [[psysml:e3ea157b-753f-4ff0-b9f5-62b19f528d25 ]] {\r\n",
       "}\r\n",
       "comp usage \"a\" as E3  <<(T,blue) action>> [[psysml:fa9c3421-7722-4415-b8c7-0ea19e95762e ]] {\r\n",
       "}\r\n",
       "comp usage \"start: Action\" as E4  <<(T,blue) action>> [[psysml:a6d1daf9-13da-45ca-a864-cb134e7177b5 ]] {\r\n",
       "}\r\n",
       "comp usage \"m\" as E5  <<(T,blue) mergeNode>> [[psysml:60604585-cd78-42b0-92ae-265c1a2862a9 ]] {\r\n",
       "}\r\n",
       "comp usage \"<s>noname</s>\" as E6 << accept action>> [[psysml:1a7559c2-685c-4c08-a29a-09c3177cd704 ]] {\r\n",
       "}\r\n",
       "comp usage \"<s>noname</s>\" as E7 << send action>> [[psysml:57acc649-2893-4bd5-b427-585e4a8282d2 ]] {\r\n",
       "}\r\n",
       "comp usage \"<s>noname</s>\" as E8  <<(T,blue) decisionNode>> [[psysml:dcda7bbd-01a5-4374-8a97-a16c2625889c ]] {\r\n",
       "}\r\n",
       "comp def \"B\" as E9  <<(T,blue) action def>> [[psysml:86a7eb05-d2a7-4b0b-add7-eac0d2258e69 ]] {\r\n",
       "}\r\n",
       "E3 o- - E4 [[psysml:52dfc4ad-a62d-4432-a88b-57c0a80d621d ]] \r\n",
       "E3 *- - E5 [[psysml:99d9f5a6-f2b4-4631-bd24-2952b87c2311 ]] \r\n",
       "E3 o- - E6 [[psysml:14dfaf6d-db59-420e-a3c6-2cc6bbb5f023 ]] \r\n",
       "E6 o- - E2 [[psysml:773d19c1-1d9b-4741-b5ba-dd5a31e080a3 ]] \r\n",
       "E3 o- - E7 [[psysml:4bddb34b-31d0-4487-9835-f5e5c1238220 ]] \r\n",
       "E3 *- - E8 [[psysml:010ce356-5f58-462c-8431-75351dc3ac74 ]] \r\n",
       "}\r\n",
       "@enduml\r\n",
       "\n",
       "PlantUML version 1.2020.13(Sat Jun 13 12:26:38 UTC 2020)\n",
       "(EPL source distribution)\n",
       "Java Runtime: OpenJDK Runtime Environment\n",
       "JVM: OpenJDK 64-Bit Server VM\n",
       "Default Encoding: UTF-8\n",
       "Language: en\n",
       "Country: null\n",
       "--></g></svg>"
      ]
     },
     "execution_count": 49,
     "metadata": {},
     "output_type": "execute_result"
    }
   ],
   "source": [
    "%viz --style=\"TB\" --view=\"Sequence\" \"ActionTest\""
   ]
  },
  {
   "cell_type": "code",
   "execution_count": 50,
   "id": "92e31d5c",
   "metadata": {
    "execution": {
     "iopub.execute_input": "2021-06-30T09:17:45.764017Z",
     "iopub.status.busy": "2021-06-30T09:17:45.762907Z",
     "iopub.status.idle": "2021-06-30T09:17:45.872145Z",
     "shell.execute_reply": "2021-06-30T09:17:45.862663Z"
    }
   },
   "outputs": [
    {
     "data": {
      "image/svg+xml": [
       "<?xml version=\"1.0\" encoding=\"UTF-8\" standalone=\"no\"?><svg xmlns=\"http://www.w3.org/2000/svg\" xmlns:xlink=\"http://www.w3.org/1999/xlink\" contentScriptType=\"application/ecmascript\" contentStyleType=\"text/css\" height=\"684px\" preserveAspectRatio=\"none\" style=\"width:518px;height:684px;\" version=\"1.1\" viewBox=\"0 0 518 684\" width=\"518px\" zoomAndPan=\"magnify\"><defs/><g><!--MD5=[fbc87193dbaf4d95561dea2c320d4a47]\n",
       "cluster E1--><a href=\"psysml:4a739ce7-b110-4093-8b74-31ee982b1e00\" target=\"_top\" title=\"psysml:4a739ce7-b110-4093-8b74-31ee982b1e00\" xlink:actuate=\"onRequest\" xlink:href=\"psysml:4a739ce7-b110-4093-8b74-31ee982b1e00\" xlink:show=\"new\" xlink:title=\"psysml:4a739ce7-b110-4093-8b74-31ee982b1e00\" xlink:type=\"simple\"><polygon fill=\"#FFFFFF\" points=\"16,6,107,6,114,28.2969,496,28.2969,496,672,16,672,16,6\" style=\"stroke: #000000; stroke-width: 1.5;\"/><line style=\"stroke: #000000; stroke-width: 1.5;\" x1=\"16\" x2=\"114\" y1=\"28.2969\" y2=\"28.2969\"/><text fill=\"#000000\" font-family=\"sans-serif\" font-size=\"14\" font-weight=\"bold\" lengthAdjust=\"spacingAndGlyphs\" textLength=\"85\" x=\"20\" y=\"20.9951\">ActionTest</text></a><!--MD5=[d5e69f78d87373223dbae638b30a9c99]\n",
       "cluster E3--><a href=\"psysml:fa9c3421-7722-4415-b8c7-0ea19e95762e\" target=\"_top\" title=\"psysml:fa9c3421-7722-4415-b8c7-0ea19e95762e\" xlink:actuate=\"onRequest\" xlink:href=\"psysml:fa9c3421-7722-4415-b8c7-0ea19e95762e\" xlink:show=\"new\" xlink:title=\"psysml:fa9c3421-7722-4415-b8c7-0ea19e95762e\" xlink:type=\"simple\"><rect fill=\"#FFFFFF\" height=\"599\" id=\"E3\" rx=\"10\" ry=\"10\" style=\"stroke: #383838; stroke-width: 1.5;\" width=\"209\" x=\"263\" y=\"49\"/><rect fill=\"#F8F8F8\" height=\"37.9375\" rx=\"10\" ry=\"10\" style=\"stroke: #F8F8F8; stroke-width: 1.5;\" width=\"209\" x=\"263\" y=\"49\"/><rect fill=\"#F8F8F8\" height=\"10\" style=\"stroke: #F8F8F8; stroke-width: 1.5;\" width=\"209\" x=\"263\" y=\"76.9375\"/><rect fill=\"none\" height=\"599\" id=\"E3\" rx=\"10\" ry=\"10\" style=\"stroke: #383838; stroke-width: 1.5;\" width=\"209\" x=\"263\" y=\"49\"/><text fill=\"#000000\" font-family=\"sans-serif\" font-size=\"12\" font-style=\"italic\" lengthAdjust=\"spacingAndGlyphs\" textLength=\"53\" x=\"341\" y=\"65.1387\">«action»</text><text fill=\"#000000\" font-family=\"sans-serif\" font-size=\"12\" lengthAdjust=\"spacingAndGlyphs\" textLength=\"8\" x=\"363.5\" y=\"79.1074\">a</text><line style=\"stroke: #383838; stroke-width: 1.0;\" x1=\"263\" x2=\"472\" y1=\"86.9375\" y2=\"86.9375\"/></a><!--MD5=[b4997ac47864f28c2f74865a473b2911]\n",
       "class E2--><a href=\"psysml:e3ea157b-753f-4ff0-b9f5-62b19f528d25\" target=\"_top\" title=\"psysml:e3ea157b-753f-4ff0-b9f5-62b19f528d25\" xlink:actuate=\"onRequest\" xlink:href=\"psysml:e3ea157b-753f-4ff0-b9f5-62b19f528d25\" xlink:show=\"new\" xlink:title=\"psysml:e3ea157b-753f-4ff0-b9f5-62b19f528d25\" xlink:type=\"simple\"><rect fill=\"#FFFFFF\" height=\"45.9375\" id=\"E2\" style=\"stroke: #383838; stroke-width: 1.5;\" width=\"95\" x=\"151.5\" y=\"87\"/><text fill=\"#000000\" font-family=\"sans-serif\" font-size=\"12\" font-style=\"italic\" lengthAdjust=\"spacingAndGlyphs\" textLength=\"93\" x=\"152.5\" y=\"103.1387\">«attribute def»</text><text fill=\"#000000\" font-family=\"sans-serif\" font-size=\"12\" lengthAdjust=\"spacingAndGlyphs\" textLength=\"8\" x=\"195\" y=\"117.1074\">S</text><line style=\"stroke: #383838; stroke-width: 1.5;\" x1=\"152.5\" x2=\"245.5\" y1=\"124.9375\" y2=\"124.9375\"/></a><polygon fill=\"#F8F8F8\" points=\"420,194,432,206,420,218,408,206,420,194\" style=\"stroke: #383838; stroke-width: 1.5;\"/><!--MD5=[21dd76c19d33815960c0e92fef8f0eef]\n",
       "entity E5--><a href=\"psysml:1a7559c2-685c-4c08-a29a-09c3177cd704\" target=\"_top\" title=\"psysml:1a7559c2-685c-4c08-a29a-09c3177cd704\" xlink:actuate=\"onRequest\" xlink:href=\"psysml:1a7559c2-685c-4c08-a29a-09c3177cd704\" xlink:show=\"new\" xlink:title=\"psysml:1a7559c2-685c-4c08-a29a-09c3177cd704\" xlink:type=\"simple\"><polygon fill=\"#F8F8F8\" points=\"279,279,279,333.5938,419,333.5938,399,306.2969,419,279\" style=\"stroke: #000000; stroke-width: 1.5;\"/><text fill=\"#000000\" font-family=\"sans-serif\" font-size=\"14\" font-style=\"italic\" lengthAdjust=\"spacingAndGlyphs\" textLength=\"111\" x=\"286\" y=\"301.9951\">«accept action»</text><text fill=\"#000000\" font-family=\"sans-serif\" font-size=\"14\" lengthAdjust=\"spacingAndGlyphs\" textLength=\"9\" x=\"337\" y=\"319.292\">S</text></a><!--MD5=[24d87cdf3002d433f401b2a2aa9f9f65]\n",
       "entity E6--><a href=\"psysml:57acc649-2893-4bd5-b427-585e4a8282d2\" target=\"_top\" title=\"psysml:57acc649-2893-4bd5-b427-585e4a8282d2\" xlink:actuate=\"onRequest\" xlink:href=\"psysml:57acc649-2893-4bd5-b427-585e4a8282d2\" xlink:show=\"new\" xlink:title=\"psysml:57acc649-2893-4bd5-b427-585e4a8282d2\" xlink:type=\"simple\"><polygon fill=\"#F8F8F8\" points=\"279,411,279,465.5938,387,465.5938,407,438.2969,387,411\" style=\"stroke: #000000; stroke-width: 1.5;\"/><text fill=\"#000000\" font-family=\"sans-serif\" font-size=\"14\" font-style=\"italic\" lengthAdjust=\"spacingAndGlyphs\" textLength=\"99\" x=\"286\" y=\"433.9951\">«send action»</text><text fill=\"#000000\" font-family=\"sans-serif\" font-size=\"14\" lengthAdjust=\"spacingAndGlyphs\" textLength=\"65\" x=\"303\" y=\"451.292\">S() to  B()</text></a><polygon fill=\"#F8F8F8\" points=\"418,527,430,539,418,551,406,539,418,527\" style=\"stroke: #383838; stroke-width: 1.5;\"/><ellipse cx=\"420\" cy=\"110\" fill=\"#000000\" rx=\"10\" ry=\"10\" style=\"stroke: none; stroke-width: 1.0;\"/><ellipse cx=\"418\" cy=\"622\" fill=\"none\" rx=\"10\" ry=\"10\" style=\"stroke: #000000; stroke-width: 1.0;\"/><ellipse cx=\"418.5\" cy=\"622.5\" fill=\"#000000\" rx=\"6\" ry=\"6\" style=\"stroke: none; stroke-width: 1.0;\"/><g id=\"E1.E8\"><a href=\"psysml:86a7eb05-d2a7-4b0b-add7-eac0d2258e69\" target=\"_top\" title=\"psysml:86a7eb05-d2a7-4b0b-add7-eac0d2258e69\" xlink:actuate=\"onRequest\" xlink:href=\"psysml:86a7eb05-d2a7-4b0b-add7-eac0d2258e69\" xlink:show=\"new\" xlink:title=\"psysml:86a7eb05-d2a7-4b0b-add7-eac0d2258e69\" xlink:type=\"simple\"><rect fill=\"#FFFFFF\" height=\"42.9375\" id=\"E8\" style=\"stroke: #383838; stroke-width: 1.5;\" width=\"84\" x=\"32\" y=\"88.5\"/><rect fill=\"#F8F8F8\" height=\"37.9375\" style=\"stroke: #383838; stroke-width: 1.5;\" width=\"84\" x=\"32\" y=\"88.5\"/><text fill=\"#000000\" font-family=\"sans-serif\" font-size=\"12\" font-style=\"italic\" lengthAdjust=\"spacingAndGlyphs\" textLength=\"77\" x=\"35.5\" y=\"104.6387\">«action def»</text><text fill=\"#000000\" font-family=\"sans-serif\" font-size=\"12\" lengthAdjust=\"spacingAndGlyphs\" textLength=\"8\" x=\"70\" y=\"118.6074\">B</text></a></g><!--MD5=[f47e10efcf9a6752d55dae986d790ed9]\n",
       "link *start*E3 to E4--><a href=\"psysml:3a6c3978-61f5-46d3-ad26-c963b1b56f5b\" target=\"_top\" title=\"psysml:3a6c3978-61f5-46d3-ad26-c963b1b56f5b\" xlink:actuate=\"onRequest\" xlink:href=\"psysml:3a6c3978-61f5-46d3-ad26-c963b1b56f5b\" xlink:show=\"new\" xlink:title=\"psysml:3a6c3978-61f5-46d3-ad26-c963b1b56f5b\" xlink:type=\"simple\"><path d=\"M420,120.01 C420,135.81 420,168.69 420,188.61 \" fill=\"none\" id=\"*start*E3-&gt;E4\" style=\"stroke: #383838; stroke-width: 1.0;\"/><polygon fill=\"#383838\" points=\"420,193.85,424,184.85,420,188.85,416,184.85,420,193.85\" style=\"stroke: #383838; stroke-width: 1.0;\"/></a><!--MD5=[d19f2eb34364d71b67042106d92f540b]\n",
       "link E7 to *end*E3--><a href=\"psysml:36daa16f-4b44-48c5-bcb7-7a401bcea152\" target=\"_top\" title=\"psysml:36daa16f-4b44-48c5-bcb7-7a401bcea152\" xlink:actuate=\"onRequest\" xlink:href=\"psysml:36daa16f-4b44-48c5-bcb7-7a401bcea152\" xlink:show=\"new\" xlink:title=\"psysml:36daa16f-4b44-48c5-bcb7-7a401bcea152\" xlink:type=\"simple\"><path d=\"M418,551.26 C418,565.66 418,590.63 418,606.46 \" fill=\"none\" id=\"E7-&gt;*end*E3\" style=\"stroke: #383838; stroke-width: 1.0;\"/><polygon fill=\"#383838\" points=\"418,611.84,422,602.84,418,606.84,414,602.84,418,611.84\" style=\"stroke: #383838; stroke-width: 1.0;\"/></a><!--MD5=[1b7591eae5389033d8d09a9d6721a717]\n",
       "link E4 to E5--><a href=\"psysml:c56e5692-64fd-4b0b-a986-d866765d0210\" target=\"_top\" title=\"psysml:c56e5692-64fd-4b0b-a986-d866765d0210\" xlink:actuate=\"onRequest\" xlink:href=\"psysml:c56e5692-64fd-4b0b-a986-d866765d0210\" xlink:show=\"new\" xlink:title=\"psysml:c56e5692-64fd-4b0b-a986-d866765d0210\" xlink:type=\"simple\"><path d=\"M415.34,213.46 C406.55,225.66 386.99,252.8 371.37,274.46 \" fill=\"none\" id=\"E4-&gt;E5\" style=\"stroke: #383838; stroke-width: 1.0;\"/><polygon fill=\"#383838\" points=\"368.31,278.71,376.8093,273.7339,371.227,274.6491,370.3119,269.0667,368.31,278.71\" style=\"stroke: #383838; stroke-width: 1.0;\"/></a><!--MD5=[9120cf2e5df3bff93db8f754bbbc09b4]\n",
       "link E5 to E6--><a href=\"psysml:363bb7e0-7ec1-401c-827a-8a23a32c7946\" target=\"_top\" title=\"psysml:363bb7e0-7ec1-401c-827a-8a23a32c7946\" xlink:actuate=\"onRequest\" xlink:href=\"psysml:363bb7e0-7ec1-401c-827a-8a23a32c7946\" xlink:show=\"new\" xlink:title=\"psysml:363bb7e0-7ec1-401c-827a-8a23a32c7946\" xlink:type=\"simple\"><path d=\"M347.77,334.12 C346.81,354.89 345.48,383.8 344.46,405.77 \" fill=\"none\" id=\"E5-&gt;E6\" style=\"stroke: #383838; stroke-width: 1.0;\"/><polygon fill=\"#383838\" points=\"344.23,410.91,348.6368,402.1021,344.4583,405.9152,340.6452,401.7367,344.23,410.91\" style=\"stroke: #383838; stroke-width: 1.0;\"/></a><!--MD5=[02c70b7c851c11e3980e4e90450dc5dd]\n",
       "link E6 to E7--><a href=\"psysml:84082b66-a23a-4779-a592-98d74f10d8d7\" target=\"_top\" title=\"psysml:84082b66-a23a-4779-a592-98d74f10d8d7\" xlink:actuate=\"onRequest\" xlink:href=\"psysml:84082b66-a23a-4779-a592-98d74f10d8d7\" xlink:show=\"new\" xlink:title=\"psysml:84082b66-a23a-4779-a592-98d74f10d8d7\" xlink:type=\"simple\"><path d=\"M363.3,466.16 C378.71,486.4 399.07,513.14 410.09,527.61 \" fill=\"none\" id=\"E6-&gt;E7\" style=\"stroke: #383838; stroke-width: 1.0;\"/><polygon fill=\"#383838\" points=\"413.2,531.69,410.9398,522.104,410.1749,527.7089,404.57,526.9441,413.2,531.69\" style=\"stroke: #383838; stroke-width: 1.0;\"/></a><!--MD5=[6bdd27f9905911a7e892a3dc65cf6b7c]\n",
       "link E7 to E4--><a href=\"psysml:49753952-5c4c-4ef6-ad04-e80bfe7cb929\" target=\"_top\" title=\"psysml:49753952-5c4c-4ef6-ad04-e80bfe7cb929\" xlink:actuate=\"onRequest\" xlink:href=\"psysml:49753952-5c4c-4ef6-ad04-e80bfe7cb929\" xlink:show=\"new\" xlink:title=\"psysml:49753952-5c4c-4ef6-ad04-e80bfe7cb929\" xlink:type=\"simple\"><path d=\"M419.98,528.56 C426.8,494.71 448.32,376.18 437,279 C434.59,258.32 428.42,234.96 424.21,220.61 \" fill=\"none\" id=\"E7-&gt;E4\" style=\"stroke: #383838; stroke-width: 1.0;\"/><polygon fill=\"#383838\" points=\"422.76,215.75,421.4935,225.5171,424.1863,220.5423,429.1611,223.2351,422.76,215.75\" style=\"stroke: #383838; stroke-width: 1.0;\"/><text fill=\"#000000\" font-family=\"sans-serif\" font-size=\"13\" lengthAdjust=\"spacingAndGlyphs\" textLength=\"36\" x=\"440\" y=\"377.0669\">[true]</text></a><!--MD5=[b3a4bff910c7ef6c207ec46188a295ce]\n",
       "@startuml\r\n",
       "top to bottom direction\r\n",
       "skinparam monochrome true\r\n",
       "skinparam classbackgroundcolor white\r\n",
       "skinparam shadowing false\r\n",
       "skinparam wrapWidth 300\r\n",
       "hide circle\r\n",
       "\r\n",
       "package \"ActionTest\" as E1  [[psysml:4a739ce7-b110-4093-8b74-31ee982b1e00 ]]  {\r\n",
       "comp def \"S\" as E2  <<(T,blue) attribute def>> [[psysml:e3ea157b-753f-4ff0-b9f5-62b19f528d25 ]] {\r\n",
       "}\r\n",
       "rec usage \"a\" as E3  <<(T,blue) action>> [[psysml:fa9c3421-7722-4415-b8c7-0ea19e95762e ]] {\r\n",
       "choice \"m\" as E4  [[psysml:60604585-cd78-42b0-92ae-265c1a2862a9 ]] \r\n",
       "accept \" S\" as E5 << accept action>> [[psysml:1a7559c2-685c-4c08-a29a-09c3177cd704 ]] \r\n",
       "send \" S() to  B()\" as E6 << send action>> [[psysml:57acc649-2893-4bd5-b427-585e4a8282d2 ]] \r\n",
       "choice \"noname\" as E7  [[psysml:dcda7bbd-01a5-4374-8a97-a16c2625889c ]] \r\n",
       "[*] - -> E4 [[psysml:3a6c3978-61f5-46d3-ad26-c963b1b56f5b ]] \r\n",
       "E7  - -> [*] [[psysml:36daa16f-4b44-48c5-bcb7-7a401bcea152 ]] \r\n",
       "}\r\n",
       "\r\n",
       "rec def \"B\" as E8  <<(T,blue) action def>> [[psysml:86a7eb05-d2a7-4b0b-add7-eac0d2258e69 ]] {\r\n",
       "}\r\n",
       "\r\n",
       "E4 - -> E5 [[psysml:c56e5692-64fd-4b0b-a986-d866765d0210 ]] \r\n",
       "E5 - -> E6 [[psysml:363bb7e0-7ec1-401c-827a-8a23a32c7946 ]] \r\n",
       "E6 - -> E7 [[psysml:84082b66-a23a-4779-a592-98d74f10d8d7 ]] \r\n",
       "E7  - -> E4 [[psysml:49753952-5c4c-4ef6-ad04-e80bfe7cb929 ]] : [true]\r\n",
       "}\r\n",
       "@enduml\r\n",
       "\n",
       "PlantUML version 1.2020.13(Sat Jun 13 12:26:38 UTC 2020)\n",
       "(EPL source distribution)\n",
       "Java Runtime: OpenJDK Runtime Environment\n",
       "JVM: OpenJDK 64-Bit Server VM\n",
       "Default Encoding: UTF-8\n",
       "Language: en\n",
       "Country: null\n",
       "--></g></svg>"
      ]
     },
     "execution_count": 50,
     "metadata": {},
     "output_type": "execute_result"
    }
   ],
   "source": [
    "%viz --style=\"TB\" --view=\"MIXED\" \"ActionTest\""
   ]
  },
  {
   "cell_type": "code",
   "execution_count": 51,
   "id": "02ce2d0a",
   "metadata": {
    "execution": {
     "iopub.execute_input": "2021-06-30T09:17:45.922085Z",
     "iopub.status.busy": "2021-06-30T09:17:45.921027Z",
     "iopub.status.idle": "2021-06-30T09:17:46.001822Z",
     "shell.execute_reply": "2021-06-30T09:17:45.999829Z"
    }
   },
   "outputs": [
    {
     "data": {
      "image/svg+xml": [
       "<?xml version=\"1.0\" encoding=\"UTF-8\" standalone=\"no\"?><svg xmlns=\"http://www.w3.org/2000/svg\" xmlns:xlink=\"http://www.w3.org/1999/xlink\" contentScriptType=\"application/ecmascript\" contentStyleType=\"text/css\" height=\"684px\" preserveAspectRatio=\"none\" style=\"width:518px;height:684px;\" version=\"1.1\" viewBox=\"0 0 518 684\" width=\"518px\" zoomAndPan=\"magnify\"><defs/><g><!--MD5=[fbc87193dbaf4d95561dea2c320d4a47]\n",
       "cluster E1--><a href=\"psysml:4a739ce7-b110-4093-8b74-31ee982b1e00\" target=\"_top\" title=\"psysml:4a739ce7-b110-4093-8b74-31ee982b1e00\" xlink:actuate=\"onRequest\" xlink:href=\"psysml:4a739ce7-b110-4093-8b74-31ee982b1e00\" xlink:show=\"new\" xlink:title=\"psysml:4a739ce7-b110-4093-8b74-31ee982b1e00\" xlink:type=\"simple\"><polygon fill=\"#FFFFFF\" points=\"16,6,107,6,114,28.2969,496,28.2969,496,672,16,672,16,6\" style=\"stroke: #000000; stroke-width: 1.5;\"/><line style=\"stroke: #000000; stroke-width: 1.5;\" x1=\"16\" x2=\"114\" y1=\"28.2969\" y2=\"28.2969\"/><text fill=\"#000000\" font-family=\"sans-serif\" font-size=\"14\" font-weight=\"bold\" lengthAdjust=\"spacingAndGlyphs\" textLength=\"85\" x=\"20\" y=\"20.9951\">ActionTest</text></a><!--MD5=[d5e69f78d87373223dbae638b30a9c99]\n",
       "cluster E3--><a href=\"psysml:fa9c3421-7722-4415-b8c7-0ea19e95762e\" target=\"_top\" title=\"psysml:fa9c3421-7722-4415-b8c7-0ea19e95762e\" xlink:actuate=\"onRequest\" xlink:href=\"psysml:fa9c3421-7722-4415-b8c7-0ea19e95762e\" xlink:show=\"new\" xlink:title=\"psysml:fa9c3421-7722-4415-b8c7-0ea19e95762e\" xlink:type=\"simple\"><rect fill=\"#FFFFFF\" height=\"599\" id=\"E3\" rx=\"10\" ry=\"10\" style=\"stroke: #383838; stroke-width: 1.5;\" width=\"209\" x=\"263\" y=\"49\"/><rect fill=\"#F8F8F8\" height=\"37.9375\" rx=\"10\" ry=\"10\" style=\"stroke: #F8F8F8; stroke-width: 1.5;\" width=\"209\" x=\"263\" y=\"49\"/><rect fill=\"#F8F8F8\" height=\"10\" style=\"stroke: #F8F8F8; stroke-width: 1.5;\" width=\"209\" x=\"263\" y=\"76.9375\"/><rect fill=\"none\" height=\"599\" id=\"E3\" rx=\"10\" ry=\"10\" style=\"stroke: #383838; stroke-width: 1.5;\" width=\"209\" x=\"263\" y=\"49\"/><text fill=\"#000000\" font-family=\"sans-serif\" font-size=\"12\" font-style=\"italic\" lengthAdjust=\"spacingAndGlyphs\" textLength=\"53\" x=\"341\" y=\"65.1387\">«action»</text><text fill=\"#000000\" font-family=\"sans-serif\" font-size=\"12\" lengthAdjust=\"spacingAndGlyphs\" textLength=\"8\" x=\"363.5\" y=\"79.1074\">a</text><line style=\"stroke: #383838; stroke-width: 1.0;\" x1=\"263\" x2=\"472\" y1=\"86.9375\" y2=\"86.9375\"/></a><!--MD5=[b4997ac47864f28c2f74865a473b2911]\n",
       "class E2--><a href=\"psysml:e3ea157b-753f-4ff0-b9f5-62b19f528d25\" target=\"_top\" title=\"psysml:e3ea157b-753f-4ff0-b9f5-62b19f528d25\" xlink:actuate=\"onRequest\" xlink:href=\"psysml:e3ea157b-753f-4ff0-b9f5-62b19f528d25\" xlink:show=\"new\" xlink:title=\"psysml:e3ea157b-753f-4ff0-b9f5-62b19f528d25\" xlink:type=\"simple\"><rect fill=\"#FFFFFF\" height=\"45.9375\" id=\"E2\" style=\"stroke: #383838; stroke-width: 1.5;\" width=\"95\" x=\"151.5\" y=\"87\"/><text fill=\"#000000\" font-family=\"sans-serif\" font-size=\"12\" font-style=\"italic\" lengthAdjust=\"spacingAndGlyphs\" textLength=\"93\" x=\"152.5\" y=\"103.1387\">«attribute def»</text><text fill=\"#000000\" font-family=\"sans-serif\" font-size=\"12\" lengthAdjust=\"spacingAndGlyphs\" textLength=\"8\" x=\"195\" y=\"117.1074\">S</text><line style=\"stroke: #383838; stroke-width: 1.5;\" x1=\"152.5\" x2=\"245.5\" y1=\"124.9375\" y2=\"124.9375\"/></a><polygon fill=\"#F8F8F8\" points=\"420,194,432,206,420,218,408,206,420,194\" style=\"stroke: #383838; stroke-width: 1.5;\"/><!--MD5=[21dd76c19d33815960c0e92fef8f0eef]\n",
       "entity E5--><a href=\"psysml:1a7559c2-685c-4c08-a29a-09c3177cd704\" target=\"_top\" title=\"psysml:1a7559c2-685c-4c08-a29a-09c3177cd704\" xlink:actuate=\"onRequest\" xlink:href=\"psysml:1a7559c2-685c-4c08-a29a-09c3177cd704\" xlink:show=\"new\" xlink:title=\"psysml:1a7559c2-685c-4c08-a29a-09c3177cd704\" xlink:type=\"simple\"><polygon fill=\"#F8F8F8\" points=\"279,279,279,333.5938,419,333.5938,399,306.2969,419,279\" style=\"stroke: #000000; stroke-width: 1.5;\"/><text fill=\"#000000\" font-family=\"sans-serif\" font-size=\"14\" font-style=\"italic\" lengthAdjust=\"spacingAndGlyphs\" textLength=\"111\" x=\"286\" y=\"301.9951\">«accept action»</text><text fill=\"#000000\" font-family=\"sans-serif\" font-size=\"14\" lengthAdjust=\"spacingAndGlyphs\" textLength=\"9\" x=\"337\" y=\"319.292\">S</text></a><!--MD5=[24d87cdf3002d433f401b2a2aa9f9f65]\n",
       "entity E6--><a href=\"psysml:57acc649-2893-4bd5-b427-585e4a8282d2\" target=\"_top\" title=\"psysml:57acc649-2893-4bd5-b427-585e4a8282d2\" xlink:actuate=\"onRequest\" xlink:href=\"psysml:57acc649-2893-4bd5-b427-585e4a8282d2\" xlink:show=\"new\" xlink:title=\"psysml:57acc649-2893-4bd5-b427-585e4a8282d2\" xlink:type=\"simple\"><polygon fill=\"#F8F8F8\" points=\"279,411,279,465.5938,387,465.5938,407,438.2969,387,411\" style=\"stroke: #000000; stroke-width: 1.5;\"/><text fill=\"#000000\" font-family=\"sans-serif\" font-size=\"14\" font-style=\"italic\" lengthAdjust=\"spacingAndGlyphs\" textLength=\"99\" x=\"286\" y=\"433.9951\">«send action»</text><text fill=\"#000000\" font-family=\"sans-serif\" font-size=\"14\" lengthAdjust=\"spacingAndGlyphs\" textLength=\"65\" x=\"303\" y=\"451.292\">S() to  B()</text></a><polygon fill=\"#F8F8F8\" points=\"418,527,430,539,418,551,406,539,418,527\" style=\"stroke: #383838; stroke-width: 1.5;\"/><ellipse cx=\"420\" cy=\"110\" fill=\"#000000\" rx=\"10\" ry=\"10\" style=\"stroke: none; stroke-width: 1.0;\"/><ellipse cx=\"418\" cy=\"622\" fill=\"none\" rx=\"10\" ry=\"10\" style=\"stroke: #000000; stroke-width: 1.0;\"/><ellipse cx=\"418.5\" cy=\"622.5\" fill=\"#000000\" rx=\"6\" ry=\"6\" style=\"stroke: none; stroke-width: 1.0;\"/><g id=\"E1.E8\"><a href=\"psysml:86a7eb05-d2a7-4b0b-add7-eac0d2258e69\" target=\"_top\" title=\"psysml:86a7eb05-d2a7-4b0b-add7-eac0d2258e69\" xlink:actuate=\"onRequest\" xlink:href=\"psysml:86a7eb05-d2a7-4b0b-add7-eac0d2258e69\" xlink:show=\"new\" xlink:title=\"psysml:86a7eb05-d2a7-4b0b-add7-eac0d2258e69\" xlink:type=\"simple\"><rect fill=\"#FFFFFF\" height=\"42.9375\" id=\"E8\" style=\"stroke: #383838; stroke-width: 1.5;\" width=\"84\" x=\"32\" y=\"88.5\"/><rect fill=\"#F8F8F8\" height=\"37.9375\" style=\"stroke: #383838; stroke-width: 1.5;\" width=\"84\" x=\"32\" y=\"88.5\"/><text fill=\"#000000\" font-family=\"sans-serif\" font-size=\"12\" font-style=\"italic\" lengthAdjust=\"spacingAndGlyphs\" textLength=\"77\" x=\"35.5\" y=\"104.6387\">«action def»</text><text fill=\"#000000\" font-family=\"sans-serif\" font-size=\"12\" lengthAdjust=\"spacingAndGlyphs\" textLength=\"8\" x=\"70\" y=\"118.6074\">B</text></a></g><!--MD5=[f47e10efcf9a6752d55dae986d790ed9]\n",
       "link *start*E3 to E4--><a href=\"psysml:3a6c3978-61f5-46d3-ad26-c963b1b56f5b\" target=\"_top\" title=\"psysml:3a6c3978-61f5-46d3-ad26-c963b1b56f5b\" xlink:actuate=\"onRequest\" xlink:href=\"psysml:3a6c3978-61f5-46d3-ad26-c963b1b56f5b\" xlink:show=\"new\" xlink:title=\"psysml:3a6c3978-61f5-46d3-ad26-c963b1b56f5b\" xlink:type=\"simple\"><path d=\"M420,120.27 C420,120.27 420,188.7 420,188.7 \" fill=\"none\" id=\"*start*E3-&gt;E4\" style=\"stroke: #383838; stroke-width: 1.0;\"/><polygon fill=\"#383838\" points=\"420,193.7,424,184.7,420,188.7,416,184.7,420,193.7\" style=\"stroke: #383838; stroke-width: 1.0;\"/></a><!--MD5=[d19f2eb34364d71b67042106d92f540b]\n",
       "link E7 to *end*E3--><a href=\"psysml:36daa16f-4b44-48c5-bcb7-7a401bcea152\" target=\"_top\" title=\"psysml:36daa16f-4b44-48c5-bcb7-7a401bcea152\" xlink:actuate=\"onRequest\" xlink:href=\"psysml:36daa16f-4b44-48c5-bcb7-7a401bcea152\" xlink:show=\"new\" xlink:title=\"psysml:36daa16f-4b44-48c5-bcb7-7a401bcea152\" xlink:type=\"simple\"><path d=\"M418,551.25 C418,551.25 418,606.8 418,606.8 \" fill=\"none\" id=\"E7-&gt;*end*E3\" style=\"stroke: #383838; stroke-width: 1.0;\"/><polygon fill=\"#383838\" points=\"418,611.8,422,602.8,418,606.8,414,602.8,418,611.8\" style=\"stroke: #383838; stroke-width: 1.0;\"/></a><!--MD5=[1b7591eae5389033d8d09a9d6721a717]\n",
       "link E4 to E5--><a href=\"psysml:c56e5692-64fd-4b0b-a986-d866765d0210\" target=\"_top\" title=\"psysml:c56e5692-64fd-4b0b-a986-d866765d0210\" xlink:actuate=\"onRequest\" xlink:href=\"psysml:c56e5692-64fd-4b0b-a986-d866765d0210\" xlink:show=\"new\" xlink:title=\"psysml:c56e5692-64fd-4b0b-a986-d866765d0210\" xlink:type=\"simple\"><path d=\"M413.5,211.69 C413.5,211.69 413.5,273.98 413.5,273.98 \" fill=\"none\" id=\"E4-&gt;E5\" style=\"stroke: #383838; stroke-width: 1.0;\"/><polygon fill=\"#383838\" points=\"413.5,278.98,417.5,269.98,413.5,273.98,409.5,269.98,413.5,278.98\" style=\"stroke: #383838; stroke-width: 1.0;\"/></a><!--MD5=[9120cf2e5df3bff93db8f754bbbc09b4]\n",
       "link E5 to E6--><a href=\"psysml:363bb7e0-7ec1-401c-827a-8a23a32c7946\" target=\"_top\" title=\"psysml:363bb7e0-7ec1-401c-827a-8a23a32c7946\" xlink:actuate=\"onRequest\" xlink:href=\"psysml:363bb7e0-7ec1-401c-827a-8a23a32c7946\" xlink:show=\"new\" xlink:title=\"psysml:363bb7e0-7ec1-401c-827a-8a23a32c7946\" xlink:type=\"simple\"><path d=\"M343,334.17 C343,334.17 343,405.86 343,405.86 \" fill=\"none\" id=\"E5-&gt;E6\" style=\"stroke: #383838; stroke-width: 1.0;\"/><polygon fill=\"#383838\" points=\"343,410.86,347,401.86,343,405.86,339,401.86,343,410.86\" style=\"stroke: #383838; stroke-width: 1.0;\"/></a><!--MD5=[02c70b7c851c11e3980e4e90450dc5dd]\n",
       "link E6 to E7--><a href=\"psysml:84082b66-a23a-4779-a592-98d74f10d8d7\" target=\"_top\" title=\"psysml:84082b66-a23a-4779-a592-98d74f10d8d7\" xlink:actuate=\"onRequest\" xlink:href=\"psysml:84082b66-a23a-4779-a592-98d74f10d8d7\" xlink:show=\"new\" xlink:title=\"psysml:84082b66-a23a-4779-a592-98d74f10d8d7\" xlink:type=\"simple\"><path d=\"M407.03,439 C410.74,439 413,439 413,439 C413,439 413,526.81 413,526.81 \" fill=\"none\" id=\"E6-&gt;E7\" style=\"stroke: #383838; stroke-width: 1.0;\"/><polygon fill=\"#383838\" points=\"413,531.81,417,522.81,413,526.81,409,522.81,413,531.81\" style=\"stroke: #383838; stroke-width: 1.0;\"/></a><!--MD5=[6bdd27f9905911a7e892a3dc65cf6b7c]\n",
       "link E7 to E4--><a href=\"psysml:49753952-5c4c-4ef6-ad04-e80bfe7cb929\" target=\"_top\" title=\"psysml:49753952-5c4c-4ef6-ad04-e80bfe7cb929\" xlink:actuate=\"onRequest\" xlink:href=\"psysml:49753952-5c4c-4ef6-ad04-e80bfe7cb929\" xlink:show=\"new\" xlink:title=\"psysml:49753952-5c4c-4ef6-ad04-e80bfe7cb929\" xlink:type=\"simple\"><path d=\"M424.5,533.5 C424.5,533.5 424.5,218.64 424.5,218.64 \" fill=\"none\" id=\"E7-&gt;E4\" style=\"stroke: #383838; stroke-width: 1.0;\"/><polygon fill=\"#383838\" points=\"424.5,213.64,420.5,222.64,424.5,218.64,428.5,222.64,424.5,213.64\" style=\"stroke: #383838; stroke-width: 1.0;\"/><text fill=\"#000000\" font-family=\"sans-serif\" font-size=\"13\" lengthAdjust=\"spacingAndGlyphs\" textLength=\"36\" x=\"419\" y=\"377.0669\">[true]</text></a><!--MD5=[a05056ab57f2b1860bc9e13455fc5372]\n",
       "@startuml\r\n",
       "skinparam linetype ortho\r\n",
       "skinparam monochrome true\r\n",
       "skinparam classbackgroundcolor white\r\n",
       "skinparam shadowing false\r\n",
       "skinparam wrapWidth 300\r\n",
       "hide circle\r\n",
       "\r\n",
       "package \"ActionTest\" as E1  [[psysml:4a739ce7-b110-4093-8b74-31ee982b1e00 ]]  {\r\n",
       "comp def \"S\" as E2  <<(T,blue) attribute def>> [[psysml:e3ea157b-753f-4ff0-b9f5-62b19f528d25 ]] {\r\n",
       "}\r\n",
       "rec usage \"a\" as E3  <<(T,blue) action>> [[psysml:fa9c3421-7722-4415-b8c7-0ea19e95762e ]] {\r\n",
       "choice \"m\" as E4  [[psysml:60604585-cd78-42b0-92ae-265c1a2862a9 ]] \r\n",
       "accept \" S\" as E5 << accept action>> [[psysml:1a7559c2-685c-4c08-a29a-09c3177cd704 ]] \r\n",
       "send \" S() to  B()\" as E6 << send action>> [[psysml:57acc649-2893-4bd5-b427-585e4a8282d2 ]] \r\n",
       "choice \"noname\" as E7  [[psysml:dcda7bbd-01a5-4374-8a97-a16c2625889c ]] \r\n",
       "[*] - -> E4 [[psysml:3a6c3978-61f5-46d3-ad26-c963b1b56f5b ]] \r\n",
       "E7  - -> [*] [[psysml:36daa16f-4b44-48c5-bcb7-7a401bcea152 ]] \r\n",
       "}\r\n",
       "\r\n",
       "rec def \"B\" as E8  <<(T,blue) action def>> [[psysml:86a7eb05-d2a7-4b0b-add7-eac0d2258e69 ]] {\r\n",
       "}\r\n",
       "\r\n",
       "E4 - -> E5 [[psysml:c56e5692-64fd-4b0b-a986-d866765d0210 ]] \r\n",
       "E5 - -> E6 [[psysml:363bb7e0-7ec1-401c-827a-8a23a32c7946 ]] \r\n",
       "E6 - -> E7 [[psysml:84082b66-a23a-4779-a592-98d74f10d8d7 ]] \r\n",
       "E7  - -> E4 [[psysml:49753952-5c4c-4ef6-ad04-e80bfe7cb929 ]] : [true]\r\n",
       "}\r\n",
       "@enduml\r\n",
       "\n",
       "PlantUML version 1.2020.13(Sat Jun 13 12:26:38 UTC 2020)\n",
       "(EPL source distribution)\n",
       "Java Runtime: OpenJDK Runtime Environment\n",
       "JVM: OpenJDK 64-Bit Server VM\n",
       "Default Encoding: UTF-8\n",
       "Language: en\n",
       "Country: null\n",
       "--></g></svg>"
      ]
     },
     "execution_count": 51,
     "metadata": {},
     "output_type": "execute_result"
    }
   ],
   "source": [
    "%viz --style=\"ORTHOLINE\" --view=\"Default\" \"ActionTest\""
   ]
  },
  {
   "cell_type": "code",
   "execution_count": 52,
   "id": "39e1837c",
   "metadata": {
    "execution": {
     "iopub.execute_input": "2021-06-30T09:17:46.052881Z",
     "iopub.status.busy": "2021-06-30T09:17:46.052022Z",
     "iopub.status.idle": "2021-06-30T09:17:46.113834Z",
     "shell.execute_reply": "2021-06-30T09:17:46.111756Z"
    }
   },
   "outputs": [
    {
     "data": {
      "image/svg+xml": [
       "<?xml version=\"1.0\" encoding=\"UTF-8\" standalone=\"no\"?><svg xmlns=\"http://www.w3.org/2000/svg\" xmlns:xlink=\"http://www.w3.org/1999/xlink\" contentScriptType=\"application/ecmascript\" contentStyleType=\"text/css\" height=\"327px\" preserveAspectRatio=\"none\" style=\"width:677px;height:327px;\" version=\"1.1\" viewBox=\"0 0 677 327\" width=\"677px\" zoomAndPan=\"magnify\"><defs/><g><!--MD5=[fbc87193dbaf4d95561dea2c320d4a47]\n",
       "cluster E1--><a href=\"psysml:4a739ce7-b110-4093-8b74-31ee982b1e00\" target=\"_top\" title=\"psysml:4a739ce7-b110-4093-8b74-31ee982b1e00\" xlink:actuate=\"onRequest\" xlink:href=\"psysml:4a739ce7-b110-4093-8b74-31ee982b1e00\" xlink:show=\"new\" xlink:title=\"psysml:4a739ce7-b110-4093-8b74-31ee982b1e00\" xlink:type=\"simple\"><polygon fill=\"#FFFFFF\" points=\"16,6,107,6,114,28.2969,655,28.2969,655,315,16,315,16,6\" style=\"stroke: #000000; stroke-width: 1.5;\"/><line style=\"stroke: #000000; stroke-width: 1.5;\" x1=\"16\" x2=\"114\" y1=\"28.2969\" y2=\"28.2969\"/><text fill=\"#000000\" font-family=\"sans-serif\" font-size=\"14\" font-weight=\"bold\" lengthAdjust=\"spacingAndGlyphs\" textLength=\"85\" x=\"20\" y=\"20.9951\">ActionTest</text></a><!--MD5=[b4997ac47864f28c2f74865a473b2911]\n",
       "class E2--><a href=\"psysml:e3ea157b-753f-4ff0-b9f5-62b19f528d25\" target=\"_top\" title=\"psysml:e3ea157b-753f-4ff0-b9f5-62b19f528d25\" xlink:actuate=\"onRequest\" xlink:href=\"psysml:e3ea157b-753f-4ff0-b9f5-62b19f528d25\" xlink:show=\"new\" xlink:title=\"psysml:e3ea157b-753f-4ff0-b9f5-62b19f528d25\" xlink:type=\"simple\"><rect fill=\"#FFFFFF\" height=\"45.9375\" id=\"E2\" style=\"stroke: #383838; stroke-width: 1.5;\" width=\"95\" x=\"278.5\" y=\"253\"/><text fill=\"#000000\" font-family=\"sans-serif\" font-size=\"12\" font-style=\"italic\" lengthAdjust=\"spacingAndGlyphs\" textLength=\"93\" x=\"279.5\" y=\"269.1387\">«attribute def»</text><text fill=\"#000000\" font-family=\"sans-serif\" font-size=\"12\" lengthAdjust=\"spacingAndGlyphs\" textLength=\"8\" x=\"322\" y=\"283.1074\">S</text><line style=\"stroke: #383838; stroke-width: 1.5;\" x1=\"279.5\" x2=\"372.5\" y1=\"290.9375\" y2=\"290.9375\"/></a><!--MD5=[09b614a08d8cba4a07c9adeb5e0fee81]\n",
       "class E3--><a href=\"psysml:fa9c3421-7722-4415-b8c7-0ea19e95762e\" target=\"_top\" title=\"psysml:fa9c3421-7722-4415-b8c7-0ea19e95762e\" xlink:actuate=\"onRequest\" xlink:href=\"psysml:fa9c3421-7722-4415-b8c7-0ea19e95762e\" xlink:show=\"new\" xlink:title=\"psysml:fa9c3421-7722-4415-b8c7-0ea19e95762e\" xlink:type=\"simple\"><rect fill=\"#FFFFFF\" height=\"45.9375\" id=\"E3\" rx=\"10\" ry=\"10\" style=\"stroke: #383838; stroke-width: 1.5;\" width=\"55\" x=\"298.5\" y=\"41\"/><text fill=\"#000000\" font-family=\"sans-serif\" font-size=\"12\" font-style=\"italic\" lengthAdjust=\"spacingAndGlyphs\" textLength=\"53\" x=\"299.5\" y=\"57.1387\">«action»</text><text fill=\"#000000\" font-family=\"sans-serif\" font-size=\"12\" lengthAdjust=\"spacingAndGlyphs\" textLength=\"8\" x=\"322\" y=\"71.1074\">a</text><line style=\"stroke: #383838; stroke-width: 1.5;\" x1=\"299.5\" x2=\"352.5\" y1=\"78.9375\" y2=\"78.9375\"/></a><!--MD5=[ebbe1d658d1005bcc118a6aa81145e00]\n",
       "class E4--><a href=\"psysml:a6d1daf9-13da-45ca-a864-cb134e7177b5\" target=\"_top\" title=\"psysml:a6d1daf9-13da-45ca-a864-cb134e7177b5\" xlink:actuate=\"onRequest\" xlink:href=\"psysml:a6d1daf9-13da-45ca-a864-cb134e7177b5\" xlink:show=\"new\" xlink:title=\"psysml:a6d1daf9-13da-45ca-a864-cb134e7177b5\" xlink:type=\"simple\"><rect fill=\"#FFFFFF\" height=\"45.9375\" id=\"E4\" rx=\"10\" ry=\"10\" style=\"stroke: #383838; stroke-width: 1.5;\" width=\"83\" x=\"32.5\" y=\"147\"/><text fill=\"#000000\" font-family=\"sans-serif\" font-size=\"12\" font-style=\"italic\" lengthAdjust=\"spacingAndGlyphs\" textLength=\"53\" x=\"47.5\" y=\"163.1387\">«action»</text><text fill=\"#000000\" font-family=\"sans-serif\" font-size=\"12\" lengthAdjust=\"spacingAndGlyphs\" textLength=\"77\" x=\"35.5\" y=\"177.1074\">start: Action</text><line style=\"stroke: #383838; stroke-width: 1.5;\" x1=\"33.5\" x2=\"114.5\" y1=\"184.9375\" y2=\"184.9375\"/></a><!--MD5=[270fce915f116d4de14055a7c1d9a0f3]\n",
       "class E5--><a href=\"psysml:60604585-cd78-42b0-92ae-265c1a2862a9\" target=\"_top\" title=\"psysml:60604585-cd78-42b0-92ae-265c1a2862a9\" xlink:actuate=\"onRequest\" xlink:href=\"psysml:60604585-cd78-42b0-92ae-265c1a2862a9\" xlink:show=\"new\" xlink:title=\"psysml:60604585-cd78-42b0-92ae-265c1a2862a9\" xlink:type=\"simple\"><rect fill=\"#FFFFFF\" height=\"45.9375\" id=\"E5\" rx=\"10\" ry=\"10\" style=\"stroke: #383838; stroke-width: 1.5;\" width=\"89\" x=\"150.5\" y=\"147\"/><text fill=\"#000000\" font-family=\"sans-serif\" font-size=\"12\" font-style=\"italic\" lengthAdjust=\"spacingAndGlyphs\" textLength=\"87\" x=\"151.5\" y=\"163.1387\">«mergeNode»</text><text fill=\"#000000\" font-family=\"sans-serif\" font-size=\"12\" lengthAdjust=\"spacingAndGlyphs\" textLength=\"11\" x=\"189.5\" y=\"177.1074\">m</text><line style=\"stroke: #383838; stroke-width: 1.5;\" x1=\"151.5\" x2=\"238.5\" y1=\"184.9375\" y2=\"184.9375\"/></a><!--MD5=[60a26617385b1d2d0262a64233df1f8d]\n",
       "class E6--><a href=\"psysml:1a7559c2-685c-4c08-a29a-09c3177cd704\" target=\"_top\" title=\"psysml:1a7559c2-685c-4c08-a29a-09c3177cd704\" xlink:actuate=\"onRequest\" xlink:href=\"psysml:1a7559c2-685c-4c08-a29a-09c3177cd704\" xlink:show=\"new\" xlink:title=\"psysml:1a7559c2-685c-4c08-a29a-09c3177cd704\" xlink:type=\"simple\"><rect fill=\"#FFFFFF\" height=\"45.9375\" id=\"E6\" rx=\"10\" ry=\"10\" style=\"stroke: #383838; stroke-width: 1.5;\" width=\"102\" x=\"275\" y=\"147\"/><text fill=\"#000000\" font-family=\"sans-serif\" font-size=\"12\" font-style=\"italic\" lengthAdjust=\"spacingAndGlyphs\" textLength=\"100\" x=\"276\" y=\"163.1387\">«accept action»</text><text fill=\"#000000\" font-family=\"sans-serif\" font-size=\"12\" lengthAdjust=\"spacingAndGlyphs\" text-decoration=\"line-through\" textLength=\"51\" x=\"300.5\" y=\"177.1074\">noname</text><line style=\"stroke: #383838; stroke-width: 1.5;\" x1=\"276\" x2=\"376\" y1=\"184.9375\" y2=\"184.9375\"/></a><!--MD5=[2156ba9850f5573cc1fc38a6a4b2f02b]\n",
       "class E7--><a href=\"psysml:57acc649-2893-4bd5-b427-585e4a8282d2\" target=\"_top\" title=\"psysml:57acc649-2893-4bd5-b427-585e4a8282d2\" xlink:actuate=\"onRequest\" xlink:href=\"psysml:57acc649-2893-4bd5-b427-585e4a8282d2\" xlink:show=\"new\" xlink:title=\"psysml:57acc649-2893-4bd5-b427-585e4a8282d2\" xlink:type=\"simple\"><rect fill=\"#FFFFFF\" height=\"45.9375\" id=\"E7\" rx=\"10\" ry=\"10\" style=\"stroke: #383838; stroke-width: 1.5;\" width=\"90\" x=\"412\" y=\"147\"/><text fill=\"#000000\" font-family=\"sans-serif\" font-size=\"12\" font-style=\"italic\" lengthAdjust=\"spacingAndGlyphs\" textLength=\"88\" x=\"413\" y=\"163.1387\">«send action»</text><text fill=\"#000000\" font-family=\"sans-serif\" font-size=\"12\" lengthAdjust=\"spacingAndGlyphs\" text-decoration=\"line-through\" textLength=\"51\" x=\"431.5\" y=\"177.1074\">noname</text><line style=\"stroke: #383838; stroke-width: 1.5;\" x1=\"413\" x2=\"501\" y1=\"184.9375\" y2=\"184.9375\"/></a><!--MD5=[b9389687b975829384b498ac4b7476b2]\n",
       "class E8--><a href=\"psysml:dcda7bbd-01a5-4374-8a97-a16c2625889c\" target=\"_top\" title=\"psysml:dcda7bbd-01a5-4374-8a97-a16c2625889c\" xlink:actuate=\"onRequest\" xlink:href=\"psysml:dcda7bbd-01a5-4374-8a97-a16c2625889c\" xlink:show=\"new\" xlink:title=\"psysml:dcda7bbd-01a5-4374-8a97-a16c2625889c\" xlink:type=\"simple\"><rect fill=\"#FFFFFF\" height=\"45.9375\" id=\"E8\" rx=\"10\" ry=\"10\" style=\"stroke: #383838; stroke-width: 1.5;\" width=\"101\" x=\"537.5\" y=\"147\"/><text fill=\"#000000\" font-family=\"sans-serif\" font-size=\"12\" font-style=\"italic\" lengthAdjust=\"spacingAndGlyphs\" textLength=\"99\" x=\"538.5\" y=\"163.1387\">«decisionNode»</text><text fill=\"#000000\" font-family=\"sans-serif\" font-size=\"12\" lengthAdjust=\"spacingAndGlyphs\" text-decoration=\"line-through\" textLength=\"51\" x=\"562.5\" y=\"177.1074\">noname</text><line style=\"stroke: #383838; stroke-width: 1.5;\" x1=\"538.5\" x2=\"637.5\" y1=\"184.9375\" y2=\"184.9375\"/></a><!--MD5=[fd4143e9d270a159db93a4ea2a975926]\n",
       "class E9--><a href=\"psysml:86a7eb05-d2a7-4b0b-add7-eac0d2258e69\" target=\"_top\" title=\"psysml:86a7eb05-d2a7-4b0b-add7-eac0d2258e69\" xlink:actuate=\"onRequest\" xlink:href=\"psysml:86a7eb05-d2a7-4b0b-add7-eac0d2258e69\" xlink:show=\"new\" xlink:title=\"psysml:86a7eb05-d2a7-4b0b-add7-eac0d2258e69\" xlink:type=\"simple\"><rect fill=\"#FFFFFF\" height=\"45.9375\" id=\"E9\" style=\"stroke: #383838; stroke-width: 1.5;\" width=\"79\" x=\"108.5\" y=\"41\"/><text fill=\"#000000\" font-family=\"sans-serif\" font-size=\"12\" font-style=\"italic\" lengthAdjust=\"spacingAndGlyphs\" textLength=\"77\" x=\"109.5\" y=\"57.1387\">«action def»</text><text fill=\"#000000\" font-family=\"sans-serif\" font-size=\"12\" lengthAdjust=\"spacingAndGlyphs\" textLength=\"8\" x=\"144\" y=\"71.1074\">B</text><line style=\"stroke: #383838; stroke-width: 1.5;\" x1=\"109.5\" x2=\"186.5\" y1=\"78.9375\" y2=\"78.9375\"/></a><!--MD5=[4672eba38e49728da53d11aeb285b987]\n",
       "reverse link E3 to E4--><a href=\"psysml:52dfc4ad-a62d-4432-a88b-57c0a80d621d\" target=\"_top\" title=\"psysml:52dfc4ad-a62d-4432-a88b-57c0a80d621d\" xlink:actuate=\"onRequest\" xlink:href=\"psysml:52dfc4ad-a62d-4432-a88b-57c0a80d621d\" xlink:show=\"new\" xlink:title=\"psysml:52dfc4ad-a62d-4432-a88b-57c0a80d621d\" xlink:type=\"simple\"><path d=\"M316.83,100.09 C316.83,100.09 316.83,117 316.83,117 C316.83,117 70.5,117 70.5,117 C70.5,117 70.5,132.63 70.5,146.91 \" fill=\"none\" id=\"E3&lt;-E4\" style=\"stroke: #383838; stroke-width: 1.0;\"/><polygon fill=\"#FFFFFF\" points=\"316.83,87.09,312.83,93.09,316.83,99.09,320.83,93.09,316.83,87.09\" style=\"stroke: #383838; stroke-width: 1.0;\"/></a><!--MD5=[191cde3d490a3f6d7bb551fe3ddca469]\n",
       "reverse link E3 to E5--><a href=\"psysml:99d9f5a6-f2b4-4631-bd24-2952b87c2311\" target=\"_top\" title=\"psysml:99d9f5a6-f2b4-4631-bd24-2952b87c2311\" xlink:actuate=\"onRequest\" xlink:href=\"psysml:99d9f5a6-f2b4-4631-bd24-2952b87c2311\" xlink:show=\"new\" xlink:title=\"psysml:99d9f5a6-f2b4-4631-bd24-2952b87c2311\" xlink:type=\"simple\"><path d=\"M285.48,64 C285.48,64 213.5,64 213.5,64 C213.5,64 213.5,115.82 213.5,147 \" fill=\"none\" id=\"E3&lt;-E5\" style=\"stroke: #383838; stroke-width: 1.0;\"/><polygon fill=\"#383838\" points=\"298.48,64,292.48,60,286.48,64,292.48,68,298.48,64\" style=\"stroke: #383838; stroke-width: 1.0;\"/></a><!--MD5=[1026b4b93417a13aa8999a858998add2]\n",
       "reverse link E3 to E6--><a href=\"psysml:14dfaf6d-db59-420e-a3c6-2cc6bbb5f023\" target=\"_top\" title=\"psysml:14dfaf6d-db59-420e-a3c6-2cc6bbb5f023\" xlink:actuate=\"onRequest\" xlink:href=\"psysml:14dfaf6d-db59-420e-a3c6-2cc6bbb5f023\" xlink:show=\"new\" xlink:title=\"psysml:14dfaf6d-db59-420e-a3c6-2cc6bbb5f023\" xlink:type=\"simple\"><path d=\"M335.17,100 C335.17,100 335.17,146.68 335.17,146.68 \" fill=\"none\" id=\"E3&lt;-E6\" style=\"stroke: #383838; stroke-width: 1.0;\"/><polygon fill=\"#FFFFFF\" points=\"335.17,87,331.17,93,335.17,99,339.17,93,335.17,87\" style=\"stroke: #383838; stroke-width: 1.0;\"/></a><!--MD5=[3403bfa781cc3da0fd423dbab6f01c63]\n",
       "reverse link E6 to E2--><a href=\"psysml:773d19c1-1d9b-4741-b5ba-dd5a31e080a3\" target=\"_top\" title=\"psysml:773d19c1-1d9b-4741-b5ba-dd5a31e080a3\" xlink:actuate=\"onRequest\" xlink:href=\"psysml:773d19c1-1d9b-4741-b5ba-dd5a31e080a3\" xlink:show=\"new\" xlink:title=\"psysml:773d19c1-1d9b-4741-b5ba-dd5a31e080a3\" xlink:type=\"simple\"><path d=\"M326,206 C326,206 326,252.68 326,252.68 \" fill=\"none\" id=\"E6&lt;-E2\" style=\"stroke: #383838; stroke-width: 1.0;\"/><polygon fill=\"#FFFFFF\" points=\"326,193,322,199,326,205,330,199,326,193\" style=\"stroke: #383838; stroke-width: 1.0;\"/></a><!--MD5=[85760999379eecfd2565a9fecdca67e4]\n",
       "reverse link E3 to E7--><a href=\"psysml:4bddb34b-31d0-4487-9835-f5e5c1238220\" target=\"_top\" title=\"psysml:4bddb34b-31d0-4487-9835-f5e5c1238220\" xlink:actuate=\"onRequest\" xlink:href=\"psysml:4bddb34b-31d0-4487-9835-f5e5c1238220\" xlink:show=\"new\" xlink:title=\"psysml:4bddb34b-31d0-4487-9835-f5e5c1238220\" xlink:type=\"simple\"><path d=\"M366.78,72 C366.78,72 457,72 457,72 C457,72 457,117.8 457,146.78 \" fill=\"none\" id=\"E3&lt;-E7\" style=\"stroke: #383838; stroke-width: 1.0;\"/><polygon fill=\"#FFFFFF\" points=\"353.78,72,359.78,76,365.78,72,359.78,68,353.78,72\" style=\"stroke: #383838; stroke-width: 1.0;\"/></a><!--MD5=[4cb75b73ec3682b8f7f8edc9cc86126a]\n",
       "reverse link E3 to E8--><a href=\"psysml:010ce356-5f58-462c-8431-75351dc3ac74\" target=\"_top\" title=\"psysml:010ce356-5f58-462c-8431-75351dc3ac74\" xlink:actuate=\"onRequest\" xlink:href=\"psysml:010ce356-5f58-462c-8431-75351dc3ac74\" xlink:show=\"new\" xlink:title=\"psysml:010ce356-5f58-462c-8431-75351dc3ac74\" xlink:type=\"simple\"><path d=\"M366.54,57 C366.54,57 588,57 588,57 C588,57 588,113.8 588,146.86 \" fill=\"none\" id=\"E3&lt;-E8\" style=\"stroke: #383838; stroke-width: 1.0;\"/><polygon fill=\"#383838\" points=\"353.54,57,359.54,61,365.54,57,359.54,53,353.54,57\" style=\"stroke: #383838; stroke-width: 1.0;\"/></a><!--MD5=[e45d04e6bc899a3100f7e7e24acbde02]\n",
       "@startuml\r\n",
       "skinparam linetype ortho\r\n",
       "skinparam monochrome true\r\n",
       "skinparam classbackgroundcolor white\r\n",
       "skinparam shadowing false\r\n",
       "skinparam wrapWidth 300\r\n",
       "hide circle\r\n",
       "\r\n",
       "package \"ActionTest\" as E1  [[psysml:4a739ce7-b110-4093-8b74-31ee982b1e00 ]]  {\r\n",
       "comp def \"S\" as E2  <<(T,blue) attribute def>> [[psysml:e3ea157b-753f-4ff0-b9f5-62b19f528d25 ]] {\r\n",
       "}\r\n",
       "comp usage \"a\" as E3  <<(T,blue) action>> [[psysml:fa9c3421-7722-4415-b8c7-0ea19e95762e ]] {\r\n",
       "}\r\n",
       "comp usage \"start: Action\" as E4  <<(T,blue) action>> [[psysml:a6d1daf9-13da-45ca-a864-cb134e7177b5 ]] {\r\n",
       "}\r\n",
       "comp usage \"m\" as E5  <<(T,blue) mergeNode>> [[psysml:60604585-cd78-42b0-92ae-265c1a2862a9 ]] {\r\n",
       "}\r\n",
       "comp usage \"<s>noname</s>\" as E6 << accept action>> [[psysml:1a7559c2-685c-4c08-a29a-09c3177cd704 ]] {\r\n",
       "}\r\n",
       "comp usage \"<s>noname</s>\" as E7 << send action>> [[psysml:57acc649-2893-4bd5-b427-585e4a8282d2 ]] {\r\n",
       "}\r\n",
       "comp usage \"<s>noname</s>\" as E8  <<(T,blue) decisionNode>> [[psysml:dcda7bbd-01a5-4374-8a97-a16c2625889c ]] {\r\n",
       "}\r\n",
       "comp def \"B\" as E9  <<(T,blue) action def>> [[psysml:86a7eb05-d2a7-4b0b-add7-eac0d2258e69 ]] {\r\n",
       "}\r\n",
       "E3 o- - E4 [[psysml:52dfc4ad-a62d-4432-a88b-57c0a80d621d ]] \r\n",
       "E3 *- - E5 [[psysml:99d9f5a6-f2b4-4631-bd24-2952b87c2311 ]] \r\n",
       "E3 o- - E6 [[psysml:14dfaf6d-db59-420e-a3c6-2cc6bbb5f023 ]] \r\n",
       "E6 o- - E2 [[psysml:773d19c1-1d9b-4741-b5ba-dd5a31e080a3 ]] \r\n",
       "E3 o- - E7 [[psysml:4bddb34b-31d0-4487-9835-f5e5c1238220 ]] \r\n",
       "E3 *- - E8 [[psysml:010ce356-5f58-462c-8431-75351dc3ac74 ]] \r\n",
       "}\r\n",
       "@enduml\r\n",
       "\n",
       "PlantUML version 1.2020.13(Sat Jun 13 12:26:38 UTC 2020)\n",
       "(EPL source distribution)\n",
       "Java Runtime: OpenJDK Runtime Environment\n",
       "JVM: OpenJDK 64-Bit Server VM\n",
       "Default Encoding: UTF-8\n",
       "Language: en\n",
       "Country: null\n",
       "--></g></svg>"
      ]
     },
     "execution_count": 52,
     "metadata": {},
     "output_type": "execute_result"
    }
   ],
   "source": [
    "%viz --style=\"ORTHOLINE\" --view=\"Tree\" \"ActionTest\""
   ]
  },
  {
   "cell_type": "code",
   "execution_count": 53,
   "id": "da6e1659",
   "metadata": {
    "execution": {
     "iopub.execute_input": "2021-06-30T09:17:46.164284Z",
     "iopub.status.busy": "2021-06-30T09:17:46.163604Z",
     "iopub.status.idle": "2021-06-30T09:17:46.170333Z",
     "shell.execute_reply": "2021-06-30T09:17:46.169843Z"
    }
   },
   "outputs": [
    {
     "data": {
      "image/svg+xml": [
       "<?xml version=\"1.0\" encoding=\"UTF-8\" standalone=\"no\"?><svg xmlns=\"http://www.w3.org/2000/svg\" xmlns:xlink=\"http://www.w3.org/1999/xlink\" contentScriptType=\"application/ecmascript\" contentStyleType=\"text/css\" height=\"12px\" preserveAspectRatio=\"none\" style=\"width:12px;height:12px;\" version=\"1.1\" viewBox=\"0 0 12 12\" width=\"12px\" zoomAndPan=\"magnify\"><defs/><g><!--MD5=[97d6f38768b311333d388e66b2b27985]\n",
       "@startuml\r\n",
       "skinparam linetype ortho\r\n",
       "skinparam monochrome true\r\n",
       "skinparam classbackgroundcolor white\r\n",
       "skinparam shadowing false\r\n",
       "skinparam wrapWidth 300\r\n",
       "hide circle\r\n",
       "\r\n",
       "@enduml\r\n",
       "\n",
       "PlantUML version 1.2020.13(Sat Jun 13 12:26:38 UTC 2020)\n",
       "(EPL source distribution)\n",
       "Java Runtime: OpenJDK Runtime Environment\n",
       "JVM: OpenJDK 64-Bit Server VM\n",
       "Default Encoding: UTF-8\n",
       "Language: en\n",
       "Country: null\n",
       "--></g></svg>"
      ]
     },
     "execution_count": 53,
     "metadata": {},
     "output_type": "execute_result"
    }
   ],
   "source": [
    "%viz --style=\"ORTHOLINE\" --view=\"State\" \"ActionTest\""
   ]
  },
  {
   "cell_type": "code",
   "execution_count": 54,
   "id": "a692f881",
   "metadata": {
    "execution": {
     "iopub.execute_input": "2021-06-30T09:17:46.221684Z",
     "iopub.status.busy": "2021-06-30T09:17:46.220893Z",
     "iopub.status.idle": "2021-06-30T09:17:46.305845Z",
     "shell.execute_reply": "2021-06-30T09:17:46.304951Z"
    }
   },
   "outputs": [
    {
     "data": {
      "image/svg+xml": [
       "<?xml version=\"1.0\" encoding=\"UTF-8\" standalone=\"no\"?><svg xmlns=\"http://www.w3.org/2000/svg\" xmlns:xlink=\"http://www.w3.org/1999/xlink\" contentScriptType=\"application/ecmascript\" contentStyleType=\"text/css\" height=\"462px\" preserveAspectRatio=\"none\" style=\"width:522px;height:462px;\" version=\"1.1\" viewBox=\"0 0 522 462\" width=\"522px\" zoomAndPan=\"magnify\"><defs/><g><!--MD5=[fbc87193dbaf4d95561dea2c320d4a47]\n",
       "cluster E1--><a href=\"psysml:4a739ce7-b110-4093-8b74-31ee982b1e00\" target=\"_top\" title=\"psysml:4a739ce7-b110-4093-8b74-31ee982b1e00\" xlink:actuate=\"onRequest\" xlink:href=\"psysml:4a739ce7-b110-4093-8b74-31ee982b1e00\" xlink:show=\"new\" xlink:title=\"psysml:4a739ce7-b110-4093-8b74-31ee982b1e00\" xlink:type=\"simple\"><polygon fill=\"#FFFFFF\" points=\"16,6,107,6,114,28.2969,500,28.2969,500,450.5,16,450.5,16,6\" style=\"stroke: #000000; stroke-width: 1.5;\"/><line style=\"stroke: #000000; stroke-width: 1.5;\" x1=\"16\" x2=\"114\" y1=\"28.2969\" y2=\"28.2969\"/><text fill=\"#000000\" font-family=\"sans-serif\" font-size=\"14\" font-weight=\"bold\" lengthAdjust=\"spacingAndGlyphs\" textLength=\"85\" x=\"20\" y=\"20.9951\">ActionTest</text></a><!--MD5=[d5e69f78d87373223dbae638b30a9c99]\n",
       "cluster E3--><a href=\"psysml:fa9c3421-7722-4415-b8c7-0ea19e95762e\" target=\"_top\" title=\"psysml:fa9c3421-7722-4415-b8c7-0ea19e95762e\" xlink:actuate=\"onRequest\" xlink:href=\"psysml:fa9c3421-7722-4415-b8c7-0ea19e95762e\" xlink:show=\"new\" xlink:title=\"psysml:fa9c3421-7722-4415-b8c7-0ea19e95762e\" xlink:type=\"simple\"><rect fill=\"#FFFFFF\" height=\"377.5\" id=\"E3\" rx=\"10\" ry=\"10\" style=\"stroke: #383838; stroke-width: 1.5;\" width=\"209\" x=\"267\" y=\"49\"/><rect fill=\"#F8F8F8\" height=\"37.9375\" rx=\"10\" ry=\"10\" style=\"stroke: #F8F8F8; stroke-width: 1.5;\" width=\"209\" x=\"267\" y=\"49\"/><rect fill=\"#F8F8F8\" height=\"10\" style=\"stroke: #F8F8F8; stroke-width: 1.5;\" width=\"209\" x=\"267\" y=\"76.9375\"/><rect fill=\"none\" height=\"377.5\" id=\"E3\" rx=\"10\" ry=\"10\" style=\"stroke: #383838; stroke-width: 1.5;\" width=\"209\" x=\"267\" y=\"49\"/><text fill=\"#000000\" font-family=\"sans-serif\" font-size=\"12\" font-style=\"italic\" lengthAdjust=\"spacingAndGlyphs\" textLength=\"53\" x=\"345\" y=\"65.1387\">«action»</text><text fill=\"#000000\" font-family=\"sans-serif\" font-size=\"12\" lengthAdjust=\"spacingAndGlyphs\" textLength=\"8\" x=\"367.5\" y=\"79.1074\">a</text><line style=\"stroke: #383838; stroke-width: 1.0;\" x1=\"267\" x2=\"476\" y1=\"86.9375\" y2=\"86.9375\"/></a><g id=\"E1.E2\"><a href=\"psysml:e3ea157b-753f-4ff0-b9f5-62b19f528d25\" target=\"_top\" title=\"psysml:e3ea157b-753f-4ff0-b9f5-62b19f528d25\" xlink:actuate=\"onRequest\" xlink:href=\"psysml:e3ea157b-753f-4ff0-b9f5-62b19f528d25\" xlink:show=\"new\" xlink:title=\"psysml:e3ea157b-753f-4ff0-b9f5-62b19f528d25\" xlink:type=\"simple\"><rect fill=\"#FFFFFF\" height=\"42.9375\" id=\"E2\" style=\"stroke: #383838; stroke-width: 1.5;\" width=\"100\" x=\"151\" y=\"88.5\"/><rect fill=\"#F8F8F8\" height=\"37.9375\" style=\"stroke: #383838; stroke-width: 1.5;\" width=\"100\" x=\"151\" y=\"88.5\"/><text fill=\"#000000\" font-family=\"sans-serif\" font-size=\"12\" font-style=\"italic\" lengthAdjust=\"spacingAndGlyphs\" textLength=\"93\" x=\"154.5\" y=\"104.6387\">«attribute def»</text><text fill=\"#000000\" font-family=\"sans-serif\" font-size=\"12\" lengthAdjust=\"spacingAndGlyphs\" textLength=\"8\" x=\"197\" y=\"118.6074\">S</text></a></g><polygon fill=\"#F8F8F8\" points=\"424,148.5,436,160.5,424,172.5,412,160.5,424,148.5\" style=\"stroke: #383838; stroke-width: 1.5;\"/><!--MD5=[21dd76c19d33815960c0e92fef8f0eef]\n",
       "entity E5--><a href=\"psysml:1a7559c2-685c-4c08-a29a-09c3177cd704\" target=\"_top\" title=\"psysml:1a7559c2-685c-4c08-a29a-09c3177cd704\" xlink:actuate=\"onRequest\" xlink:href=\"psysml:1a7559c2-685c-4c08-a29a-09c3177cd704\" xlink:show=\"new\" xlink:title=\"psysml:1a7559c2-685c-4c08-a29a-09c3177cd704\" xlink:type=\"simple\"><polygon fill=\"#F8F8F8\" points=\"283,189.5,283,244.0938,423,244.0938,403,216.7969,423,189.5\" style=\"stroke: #000000; stroke-width: 1.5;\"/><text fill=\"#000000\" font-family=\"sans-serif\" font-size=\"14\" font-style=\"italic\" lengthAdjust=\"spacingAndGlyphs\" textLength=\"111\" x=\"290\" y=\"212.4951\">«accept action»</text><text fill=\"#000000\" font-family=\"sans-serif\" font-size=\"14\" lengthAdjust=\"spacingAndGlyphs\" textLength=\"9\" x=\"341\" y=\"229.792\">S</text></a><!--MD5=[24d87cdf3002d433f401b2a2aa9f9f65]\n",
       "entity E6--><a href=\"psysml:57acc649-2893-4bd5-b427-585e4a8282d2\" target=\"_top\" title=\"psysml:57acc649-2893-4bd5-b427-585e4a8282d2\" xlink:actuate=\"onRequest\" xlink:href=\"psysml:57acc649-2893-4bd5-b427-585e4a8282d2\" xlink:show=\"new\" xlink:title=\"psysml:57acc649-2893-4bd5-b427-585e4a8282d2\" xlink:type=\"simple\"><polygon fill=\"#F8F8F8\" points=\"283,277.5,283,332.0938,391,332.0938,411,304.7969,391,277.5\" style=\"stroke: #000000; stroke-width: 1.5;\"/><text fill=\"#000000\" font-family=\"sans-serif\" font-size=\"14\" font-style=\"italic\" lengthAdjust=\"spacingAndGlyphs\" textLength=\"99\" x=\"290\" y=\"300.4951\">«send action»</text><text fill=\"#000000\" font-family=\"sans-serif\" font-size=\"14\" lengthAdjust=\"spacingAndGlyphs\" textLength=\"65\" x=\"307\" y=\"317.792\">S() to  B()</text></a><polygon fill=\"#F8F8F8\" points=\"422,349.5,434,361.5,422,373.5,410,361.5,422,349.5\" style=\"stroke: #383838; stroke-width: 1.5;\"/><ellipse cx=\"424\" cy=\"110\" fill=\"#000000\" rx=\"10\" ry=\"10\" style=\"stroke: none; stroke-width: 1.0;\"/><ellipse cx=\"422\" cy=\"400.5\" fill=\"none\" rx=\"10\" ry=\"10\" style=\"stroke: #000000; stroke-width: 1.0;\"/><ellipse cx=\"422.5\" cy=\"401\" fill=\"#000000\" rx=\"6\" ry=\"6\" style=\"stroke: none; stroke-width: 1.0;\"/><g id=\"E1.E8\"><a href=\"psysml:86a7eb05-d2a7-4b0b-add7-eac0d2258e69\" target=\"_top\" title=\"psysml:86a7eb05-d2a7-4b0b-add7-eac0d2258e69\" xlink:actuate=\"onRequest\" xlink:href=\"psysml:86a7eb05-d2a7-4b0b-add7-eac0d2258e69\" xlink:show=\"new\" xlink:title=\"psysml:86a7eb05-d2a7-4b0b-add7-eac0d2258e69\" xlink:type=\"simple\"><rect fill=\"#FFFFFF\" height=\"42.9375\" id=\"E8\" style=\"stroke: #383838; stroke-width: 1.5;\" width=\"84\" x=\"32\" y=\"88.5\"/><rect fill=\"#F8F8F8\" height=\"37.9375\" style=\"stroke: #383838; stroke-width: 1.5;\" width=\"84\" x=\"32\" y=\"88.5\"/><text fill=\"#000000\" font-family=\"sans-serif\" font-size=\"12\" font-style=\"italic\" lengthAdjust=\"spacingAndGlyphs\" textLength=\"77\" x=\"35.5\" y=\"104.6387\">«action def»</text><text fill=\"#000000\" font-family=\"sans-serif\" font-size=\"12\" lengthAdjust=\"spacingAndGlyphs\" textLength=\"8\" x=\"70\" y=\"118.6074\">B</text></a></g><!--MD5=[f47e10efcf9a6752d55dae986d790ed9]\n",
       "link *start*E3 to E4--><a href=\"psysml:3a6c3978-61f5-46d3-ad26-c963b1b56f5b\" target=\"_top\" title=\"psysml:3a6c3978-61f5-46d3-ad26-c963b1b56f5b\" xlink:actuate=\"onRequest\" xlink:href=\"psysml:3a6c3978-61f5-46d3-ad26-c963b1b56f5b\" xlink:show=\"new\" xlink:title=\"psysml:3a6c3978-61f5-46d3-ad26-c963b1b56f5b\" xlink:type=\"simple\"><path d=\"M424,120.22 C424,120.22 424,143.15 424,143.15 \" fill=\"none\" id=\"*start*E3-&gt;E4\" style=\"stroke: #383838; stroke-width: 1.0;\"/><polygon fill=\"#383838\" points=\"424,148.15,428,139.15,424,143.15,420,139.15,424,148.15\" style=\"stroke: #383838; stroke-width: 1.0;\"/></a><!--MD5=[d19f2eb34364d71b67042106d92f540b]\n",
       "link E7 to *end*E3--><a href=\"psysml:36daa16f-4b44-48c5-bcb7-7a401bcea152\" target=\"_top\" title=\"psysml:36daa16f-4b44-48c5-bcb7-7a401bcea152\" xlink:actuate=\"onRequest\" xlink:href=\"psysml:36daa16f-4b44-48c5-bcb7-7a401bcea152\" xlink:show=\"new\" xlink:title=\"psysml:36daa16f-4b44-48c5-bcb7-7a401bcea152\" xlink:type=\"simple\"><path d=\"M422,373.84 C422,373.84 422,385.46 422,385.46 \" fill=\"none\" id=\"E7-&gt;*end*E3\" style=\"stroke: #383838; stroke-width: 1.0;\"/><polygon fill=\"#383838\" points=\"422,390.46,426,381.46,422,385.46,418,381.46,422,390.46\" style=\"stroke: #383838; stroke-width: 1.0;\"/></a><!--MD5=[1b7591eae5389033d8d09a9d6721a717]\n",
       "link E4 to E5--><a href=\"psysml:c56e5692-64fd-4b0b-a986-d866765d0210\" target=\"_top\" title=\"psysml:c56e5692-64fd-4b0b-a986-d866765d0210\" xlink:actuate=\"onRequest\" xlink:href=\"psysml:c56e5692-64fd-4b0b-a986-d866765d0210\" xlink:show=\"new\" xlink:title=\"psysml:c56e5692-64fd-4b0b-a986-d866765d0210\" xlink:type=\"simple\"><path d=\"M417.5,166.12 C417.5,166.12 417.5,184.3 417.5,184.3 \" fill=\"none\" id=\"E4-&gt;E5\" style=\"stroke: #383838; stroke-width: 1.0;\"/><polygon fill=\"#383838\" points=\"417.5,189.3,421.5,180.3,417.5,184.3,413.5,180.3,417.5,189.3\" style=\"stroke: #383838; stroke-width: 1.0;\"/></a><!--MD5=[9120cf2e5df3bff93db8f754bbbc09b4]\n",
       "link E5 to E6--><a href=\"psysml:363bb7e0-7ec1-401c-827a-8a23a32c7946\" target=\"_top\" title=\"psysml:363bb7e0-7ec1-401c-827a-8a23a32c7946\" xlink:actuate=\"onRequest\" xlink:href=\"psysml:363bb7e0-7ec1-401c-827a-8a23a32c7946\" xlink:show=\"new\" xlink:title=\"psysml:363bb7e0-7ec1-401c-827a-8a23a32c7946\" xlink:type=\"simple\"><path d=\"M347,244.84 C347,244.84 347,272.34 347,272.34 \" fill=\"none\" id=\"E5-&gt;E6\" style=\"stroke: #383838; stroke-width: 1.0;\"/><polygon fill=\"#383838\" points=\"347,277.34,351,268.34,347,272.34,343,268.34,347,277.34\" style=\"stroke: #383838; stroke-width: 1.0;\"/></a><!--MD5=[02c70b7c851c11e3980e4e90450dc5dd]\n",
       "link E6 to E7--><a href=\"psysml:84082b66-a23a-4779-a592-98d74f10d8d7\" target=\"_top\" title=\"psysml:84082b66-a23a-4779-a592-98d74f10d8d7\" xlink:actuate=\"onRequest\" xlink:href=\"psysml:84082b66-a23a-4779-a592-98d74f10d8d7\" xlink:show=\"new\" xlink:title=\"psysml:84082b66-a23a-4779-a592-98d74f10d8d7\" xlink:type=\"simple\"><path d=\"M411.03,305.5 C414.74,305.5 417,305.5 417,305.5 C417,305.5 417,349.18 417,349.18 \" fill=\"none\" id=\"E6-&gt;E7\" style=\"stroke: #383838; stroke-width: 1.0;\"/><polygon fill=\"#383838\" points=\"417,354.18,421,345.18,417,349.18,413,345.18,417,354.18\" style=\"stroke: #383838; stroke-width: 1.0;\"/></a><!--MD5=[6bdd27f9905911a7e892a3dc65cf6b7c]\n",
       "link E7 to E4--><a href=\"psysml:49753952-5c4c-4ef6-ad04-e80bfe7cb929\" target=\"_top\" title=\"psysml:49753952-5c4c-4ef6-ad04-e80bfe7cb929\" xlink:actuate=\"onRequest\" xlink:href=\"psysml:49753952-5c4c-4ef6-ad04-e80bfe7cb929\" xlink:show=\"new\" xlink:title=\"psysml:49753952-5c4c-4ef6-ad04-e80bfe7cb929\" xlink:type=\"simple\"><path d=\"M428.5,355.7 C428.5,355.7 428.5,173.4 428.5,173.4 \" fill=\"none\" id=\"E7-&gt;E4\" style=\"stroke: #383838; stroke-width: 1.0;\"/><polygon fill=\"#383838\" points=\"428.5,168.4,424.5,177.4,428.5,173.4,432.5,177.4,428.5,168.4\" style=\"stroke: #383838; stroke-width: 1.0;\"/><text fill=\"#000000\" font-family=\"sans-serif\" font-size=\"13\" lengthAdjust=\"spacingAndGlyphs\" textLength=\"36\" x=\"423\" y=\"265.5669\">[true]</text></a><!--MD5=[6aaaffd78bf66d45b5bde7bee582708b]\n",
       "@startuml\r\n",
       "skinparam ranksep 10\r\n",
       "skinparam rectangle {\r\n",
       " backgroundColor<<block>> LightGreen\r\n",
       "}\r\n",
       "skinparam linetype ortho\r\n",
       "skinparam monochrome true\r\n",
       "skinparam classbackgroundcolor white\r\n",
       "skinparam shadowing false\r\n",
       "skinparam wrapWidth 300\r\n",
       "hide circle\r\n",
       "\r\n",
       "package \"ActionTest\" as E1  [[psysml:4a739ce7-b110-4093-8b74-31ee982b1e00 ]]  {\r\n",
       "def \"S\" as E2  <<(T,blue) attribute def>> [[psysml:e3ea157b-753f-4ff0-b9f5-62b19f528d25 ]] \r\n",
       "rec usage \"a\" as E3  <<(T,blue) action>> [[psysml:fa9c3421-7722-4415-b8c7-0ea19e95762e ]] {\r\n",
       "choice \"m\" as E4  [[psysml:60604585-cd78-42b0-92ae-265c1a2862a9 ]] \r\n",
       "accept \" S\" as E5 << accept action>> [[psysml:1a7559c2-685c-4c08-a29a-09c3177cd704 ]] \r\n",
       "send \" S() to  B()\" as E6 << send action>> [[psysml:57acc649-2893-4bd5-b427-585e4a8282d2 ]] \r\n",
       "choice \"noname\" as E7  [[psysml:dcda7bbd-01a5-4374-8a97-a16c2625889c ]] \r\n",
       "[*] - -> E4 [[psysml:3a6c3978-61f5-46d3-ad26-c963b1b56f5b ]] \r\n",
       "E7  - -> [*] [[psysml:36daa16f-4b44-48c5-bcb7-7a401bcea152 ]] \r\n",
       "}\r\n",
       "\r\n",
       "rec def \"B\" as E8  <<(T,blue) action def>> [[psysml:86a7eb05-d2a7-4b0b-add7-eac0d2258e69 ]] {\r\n",
       "}\r\n",
       "\r\n",
       "E4 - -> E5 [[psysml:c56e5692-64fd-4b0b-a986-d866765d0210 ]] \r\n",
       "E5 - -> E6 [[psysml:363bb7e0-7ec1-401c-827a-8a23a32c7946 ]] \r\n",
       "E6 - -> E7 [[psysml:84082b66-a23a-4779-a592-98d74f10d8d7 ]] \r\n",
       "E7  - -> E4 [[psysml:49753952-5c4c-4ef6-ad04-e80bfe7cb929 ]] : [true]\r\n",
       "}\r\n",
       "@enduml\r\n",
       "\n",
       "PlantUML version 1.2020.13(Sat Jun 13 12:26:38 UTC 2020)\n",
       "(EPL source distribution)\n",
       "Java Runtime: OpenJDK Runtime Environment\n",
       "JVM: OpenJDK 64-Bit Server VM\n",
       "Default Encoding: UTF-8\n",
       "Language: en\n",
       "Country: null\n",
       "--></g></svg>"
      ]
     },
     "execution_count": 54,
     "metadata": {},
     "output_type": "execute_result"
    }
   ],
   "source": [
    "%viz --style=\"ORTHOLINE\" --view=\"Interconnection\" \"ActionTest\""
   ]
  },
  {
   "cell_type": "code",
   "execution_count": 55,
   "id": "1b5da5b4",
   "metadata": {
    "execution": {
     "iopub.execute_input": "2021-06-30T09:17:46.355744Z",
     "iopub.status.busy": "2021-06-30T09:17:46.355074Z",
     "iopub.status.idle": "2021-06-30T09:17:46.425485Z",
     "shell.execute_reply": "2021-06-30T09:17:46.423044Z"
    }
   },
   "outputs": [
    {
     "data": {
      "image/svg+xml": [
       "<?xml version=\"1.0\" encoding=\"UTF-8\" standalone=\"no\"?><svg xmlns=\"http://www.w3.org/2000/svg\" xmlns:xlink=\"http://www.w3.org/1999/xlink\" contentScriptType=\"application/ecmascript\" contentStyleType=\"text/css\" height=\"395px\" preserveAspectRatio=\"none\" style=\"width:328px;height:395px;\" version=\"1.1\" viewBox=\"0 0 328 395\" width=\"328px\" zoomAndPan=\"magnify\"><defs/><g><!--MD5=[fbc87193dbaf4d95561dea2c320d4a47]\n",
       "cluster E1--><a href=\"psysml:fa9c3421-7722-4415-b8c7-0ea19e95762e\" target=\"_top\" title=\"psysml:fa9c3421-7722-4415-b8c7-0ea19e95762e\" xlink:actuate=\"onRequest\" xlink:href=\"psysml:fa9c3421-7722-4415-b8c7-0ea19e95762e\" xlink:show=\"new\" xlink:title=\"psysml:fa9c3421-7722-4415-b8c7-0ea19e95762e\" xlink:type=\"simple\"><rect fill=\"#FFFFFF\" height=\"377.5\" id=\"E1\" rx=\"10\" ry=\"10\" style=\"stroke: #383838; stroke-width: 1.5;\" width=\"209\" x=\"107\" y=\"7\"/><rect fill=\"#F8F8F8\" height=\"37.9375\" rx=\"10\" ry=\"10\" style=\"stroke: #F8F8F8; stroke-width: 1.5;\" width=\"209\" x=\"107\" y=\"7\"/><rect fill=\"#F8F8F8\" height=\"10\" style=\"stroke: #F8F8F8; stroke-width: 1.5;\" width=\"209\" x=\"107\" y=\"34.9375\"/><rect fill=\"none\" height=\"377.5\" id=\"E1\" rx=\"10\" ry=\"10\" style=\"stroke: #383838; stroke-width: 1.5;\" width=\"209\" x=\"107\" y=\"7\"/><text fill=\"#000000\" font-family=\"sans-serif\" font-size=\"12\" font-style=\"italic\" lengthAdjust=\"spacingAndGlyphs\" textLength=\"53\" x=\"185\" y=\"23.1387\">«action»</text><text fill=\"#000000\" font-family=\"sans-serif\" font-size=\"12\" lengthAdjust=\"spacingAndGlyphs\" textLength=\"8\" x=\"207.5\" y=\"37.1074\">a</text><line style=\"stroke: #383838; stroke-width: 1.0;\" x1=\"107\" x2=\"316\" y1=\"44.9375\" y2=\"44.9375\"/></a><polygon fill=\"#F8F8F8\" points=\"264,106.5,276,118.5,264,130.5,252,118.5,264,106.5\" style=\"stroke: #383838; stroke-width: 1.5;\"/><!--MD5=[a60fb756f580feb9fd8e2cf1329b5c91]\n",
       "entity E3--><a href=\"psysml:1a7559c2-685c-4c08-a29a-09c3177cd704\" target=\"_top\" title=\"psysml:1a7559c2-685c-4c08-a29a-09c3177cd704\" xlink:actuate=\"onRequest\" xlink:href=\"psysml:1a7559c2-685c-4c08-a29a-09c3177cd704\" xlink:show=\"new\" xlink:title=\"psysml:1a7559c2-685c-4c08-a29a-09c3177cd704\" xlink:type=\"simple\"><polygon fill=\"#F8F8F8\" points=\"123,147.5,123,202.0938,263,202.0938,243,174.7969,263,147.5\" style=\"stroke: #000000; stroke-width: 1.5;\"/><text fill=\"#000000\" font-family=\"sans-serif\" font-size=\"14\" font-style=\"italic\" lengthAdjust=\"spacingAndGlyphs\" textLength=\"111\" x=\"130\" y=\"170.4951\">«accept action»</text><text fill=\"#000000\" font-family=\"sans-serif\" font-size=\"14\" lengthAdjust=\"spacingAndGlyphs\" textLength=\"9\" x=\"181\" y=\"187.792\">S</text></a><!--MD5=[961cefdc15414eaa3e87aec9d17c2188]\n",
       "entity E4--><a href=\"psysml:57acc649-2893-4bd5-b427-585e4a8282d2\" target=\"_top\" title=\"psysml:57acc649-2893-4bd5-b427-585e4a8282d2\" xlink:actuate=\"onRequest\" xlink:href=\"psysml:57acc649-2893-4bd5-b427-585e4a8282d2\" xlink:show=\"new\" xlink:title=\"psysml:57acc649-2893-4bd5-b427-585e4a8282d2\" xlink:type=\"simple\"><polygon fill=\"#F8F8F8\" points=\"123,235.5,123,290.0938,231,290.0938,251,262.7969,231,235.5\" style=\"stroke: #000000; stroke-width: 1.5;\"/><text fill=\"#000000\" font-family=\"sans-serif\" font-size=\"14\" font-style=\"italic\" lengthAdjust=\"spacingAndGlyphs\" textLength=\"99\" x=\"130\" y=\"258.4951\">«send action»</text><text fill=\"#000000\" font-family=\"sans-serif\" font-size=\"14\" lengthAdjust=\"spacingAndGlyphs\" textLength=\"65\" x=\"147\" y=\"275.792\">S() to  B()</text></a><polygon fill=\"#F8F8F8\" points=\"262,307.5,274,319.5,262,331.5,250,319.5,262,307.5\" style=\"stroke: #383838; stroke-width: 1.5;\"/><ellipse cx=\"264\" cy=\"68\" fill=\"#000000\" rx=\"10\" ry=\"10\" style=\"stroke: none; stroke-width: 1.0;\"/><ellipse cx=\"262\" cy=\"358.5\" fill=\"none\" rx=\"10\" ry=\"10\" style=\"stroke: #000000; stroke-width: 1.0;\"/><ellipse cx=\"262.5\" cy=\"359\" fill=\"#000000\" rx=\"6\" ry=\"6\" style=\"stroke: none; stroke-width: 1.0;\"/><g id=\"E6\"><a href=\"psysml:86a7eb05-d2a7-4b0b-add7-eac0d2258e69\" target=\"_top\" title=\"psysml:86a7eb05-d2a7-4b0b-add7-eac0d2258e69\" xlink:actuate=\"onRequest\" xlink:href=\"psysml:86a7eb05-d2a7-4b0b-add7-eac0d2258e69\" xlink:show=\"new\" xlink:title=\"psysml:86a7eb05-d2a7-4b0b-add7-eac0d2258e69\" xlink:type=\"simple\"><rect fill=\"#FFFFFF\" height=\"42.9375\" id=\"E6\" style=\"stroke: #383838; stroke-width: 1.5;\" width=\"84\" x=\"7\" y=\"46.5\"/><rect fill=\"#F8F8F8\" height=\"37.9375\" style=\"stroke: #383838; stroke-width: 1.5;\" width=\"84\" x=\"7\" y=\"46.5\"/><text fill=\"#000000\" font-family=\"sans-serif\" font-size=\"12\" font-style=\"italic\" lengthAdjust=\"spacingAndGlyphs\" textLength=\"77\" x=\"10.5\" y=\"62.6387\">«action def»</text><text fill=\"#000000\" font-family=\"sans-serif\" font-size=\"12\" lengthAdjust=\"spacingAndGlyphs\" textLength=\"8\" x=\"45\" y=\"76.6074\">B</text></a></g><!--MD5=[cff944eb183b832d446717a4e202d613]\n",
       "link *start*E1 to E2--><a href=\"psysml:3a6c3978-61f5-46d3-ad26-c963b1b56f5b\" target=\"_top\" title=\"psysml:3a6c3978-61f5-46d3-ad26-c963b1b56f5b\" xlink:actuate=\"onRequest\" xlink:href=\"psysml:3a6c3978-61f5-46d3-ad26-c963b1b56f5b\" xlink:show=\"new\" xlink:title=\"psysml:3a6c3978-61f5-46d3-ad26-c963b1b56f5b\" xlink:type=\"simple\"><path d=\"M264,78.22 C264,78.22 264,101.15 264,101.15 \" fill=\"none\" id=\"*start*E1-&gt;E2\" style=\"stroke: #383838; stroke-width: 1.0; stroke-dasharray: 7.0,7.0;\"/><polygon fill=\"#383838\" points=\"264,106.15,268,97.15,264,101.15,260,97.15,264,106.15\" style=\"stroke: #383838; stroke-width: 1.0;\"/></a><!--MD5=[7fc47fc0d107820853a137871ad908c8]\n",
       "link E5 to *end*E1--><a href=\"psysml:36daa16f-4b44-48c5-bcb7-7a401bcea152\" target=\"_top\" title=\"psysml:36daa16f-4b44-48c5-bcb7-7a401bcea152\" xlink:actuate=\"onRequest\" xlink:href=\"psysml:36daa16f-4b44-48c5-bcb7-7a401bcea152\" xlink:show=\"new\" xlink:title=\"psysml:36daa16f-4b44-48c5-bcb7-7a401bcea152\" xlink:type=\"simple\"><path d=\"M262,331.84 C262,331.84 262,343.46 262,343.46 \" fill=\"none\" id=\"E5-&gt;*end*E1\" style=\"stroke: #383838; stroke-width: 1.0; stroke-dasharray: 7.0,7.0;\"/><polygon fill=\"#383838\" points=\"262,348.46,266,339.46,262,343.46,258,339.46,262,348.46\" style=\"stroke: #383838; stroke-width: 1.0;\"/></a><!--MD5=[2720a5a1f2c3fca2055b230370638851]\n",
       "link E2 to E3--><a href=\"psysml:c56e5692-64fd-4b0b-a986-d866765d0210\" target=\"_top\" title=\"psysml:c56e5692-64fd-4b0b-a986-d866765d0210\" xlink:actuate=\"onRequest\" xlink:href=\"psysml:c56e5692-64fd-4b0b-a986-d866765d0210\" xlink:show=\"new\" xlink:title=\"psysml:c56e5692-64fd-4b0b-a986-d866765d0210\" xlink:type=\"simple\"><path d=\"M257.5,124.12 C257.5,124.12 257.5,142.3 257.5,142.3 \" fill=\"none\" id=\"E2-&gt;E3\" style=\"stroke: #383838; stroke-width: 1.0; stroke-dasharray: 7.0,7.0;\"/><polygon fill=\"#383838\" points=\"257.5,147.3,261.5,138.3,257.5,142.3,253.5,138.3,257.5,147.3\" style=\"stroke: #383838; stroke-width: 1.0;\"/></a><!--MD5=[af87c684e3b0d8be13c1a698a818ef1e]\n",
       "link E3 to E4--><a href=\"psysml:363bb7e0-7ec1-401c-827a-8a23a32c7946\" target=\"_top\" title=\"psysml:363bb7e0-7ec1-401c-827a-8a23a32c7946\" xlink:actuate=\"onRequest\" xlink:href=\"psysml:363bb7e0-7ec1-401c-827a-8a23a32c7946\" xlink:show=\"new\" xlink:title=\"psysml:363bb7e0-7ec1-401c-827a-8a23a32c7946\" xlink:type=\"simple\"><path d=\"M187,202.84 C187,202.84 187,230.34 187,230.34 \" fill=\"none\" id=\"E3-&gt;E4\" style=\"stroke: #383838; stroke-width: 1.0; stroke-dasharray: 7.0,7.0;\"/><polygon fill=\"#383838\" points=\"187,235.34,191,226.34,187,230.34,183,226.34,187,235.34\" style=\"stroke: #383838; stroke-width: 1.0;\"/></a><!--MD5=[1b7591eae5389033d8d09a9d6721a717]\n",
       "link E4 to E5--><a href=\"psysml:84082b66-a23a-4779-a592-98d74f10d8d7\" target=\"_top\" title=\"psysml:84082b66-a23a-4779-a592-98d74f10d8d7\" xlink:actuate=\"onRequest\" xlink:href=\"psysml:84082b66-a23a-4779-a592-98d74f10d8d7\" xlink:show=\"new\" xlink:title=\"psysml:84082b66-a23a-4779-a592-98d74f10d8d7\" xlink:type=\"simple\"><path d=\"M251.03,263.5 C254.74,263.5 257,263.5 257,263.5 C257,263.5 257,307.18 257,307.18 \" fill=\"none\" id=\"E4-&gt;E5\" style=\"stroke: #383838; stroke-width: 1.0; stroke-dasharray: 7.0,7.0;\"/><polygon fill=\"#383838\" points=\"257,312.18,261,303.18,257,307.18,253,303.18,257,312.18\" style=\"stroke: #383838; stroke-width: 1.0;\"/></a><!--MD5=[15ebcb19ae302d9b601edb458606d402]\n",
       "link E5 to E2--><a href=\"psysml:49753952-5c4c-4ef6-ad04-e80bfe7cb929\" target=\"_top\" title=\"psysml:49753952-5c4c-4ef6-ad04-e80bfe7cb929\" xlink:actuate=\"onRequest\" xlink:href=\"psysml:49753952-5c4c-4ef6-ad04-e80bfe7cb929\" xlink:show=\"new\" xlink:title=\"psysml:49753952-5c4c-4ef6-ad04-e80bfe7cb929\" xlink:type=\"simple\"><path d=\"M268.5,313.7 C268.5,313.7 268.5,131.4 268.5,131.4 \" fill=\"none\" id=\"E5-&gt;E2\" style=\"stroke: #383838; stroke-width: 1.0; stroke-dasharray: 7.0,7.0;\"/><polygon fill=\"#383838\" points=\"268.5,126.4,264.5,135.4,268.5,131.4,272.5,135.4,268.5,126.4\" style=\"stroke: #383838; stroke-width: 1.0;\"/><text fill=\"#000000\" font-family=\"sans-serif\" font-size=\"13\" lengthAdjust=\"spacingAndGlyphs\" textLength=\"36\" x=\"263\" y=\"223.5669\">[true]</text></a><!--MD5=[96979d33c0ae687251ac76277edd1e01]\n",
       "@startuml\r\n",
       "skinparam ranksep 8\r\n",
       "skinparam linetype ortho\r\n",
       "skinparam monochrome true\r\n",
       "skinparam classbackgroundcolor white\r\n",
       "skinparam shadowing false\r\n",
       "skinparam wrapWidth 300\r\n",
       "hide circle\r\n",
       "\r\n",
       "rec usage \"a\" as E1  <<(T,blue) action>> [[psysml:fa9c3421-7722-4415-b8c7-0ea19e95762e ]] {\r\n",
       "choice \"m\" as E2  [[psysml:60604585-cd78-42b0-92ae-265c1a2862a9 ]] \r\n",
       "accept \" S\" as E3 << accept action>> [[psysml:1a7559c2-685c-4c08-a29a-09c3177cd704 ]] \r\n",
       "send \" S() to  B()\" as E4 << send action>> [[psysml:57acc649-2893-4bd5-b427-585e4a8282d2 ]] \r\n",
       "choice \"noname\" as E5  [[psysml:dcda7bbd-01a5-4374-8a97-a16c2625889c ]] \r\n",
       "[*] ..> E2 [[psysml:3a6c3978-61f5-46d3-ad26-c963b1b56f5b ]] \r\n",
       "E5 ..> [*] [[psysml:36daa16f-4b44-48c5-bcb7-7a401bcea152 ]] \r\n",
       "}\r\n",
       "\r\n",
       "E2 ..> E3 [[psysml:c56e5692-64fd-4b0b-a986-d866765d0210 ]] \r\n",
       "E3 ..> E4 [[psysml:363bb7e0-7ec1-401c-827a-8a23a32c7946 ]] \r\n",
       "E4 ..> E5 [[psysml:84082b66-a23a-4779-a592-98d74f10d8d7 ]] \r\n",
       "E5 ..> E2 [[psysml:49753952-5c4c-4ef6-ad04-e80bfe7cb929 ]] : [true]\r\n",
       "rec def \"B\" as E6  <<(T,blue) action def>> [[psysml:86a7eb05-d2a7-4b0b-add7-eac0d2258e69 ]] {\r\n",
       "}\r\n",
       "\r\n",
       "@enduml\r\n",
       "\n",
       "PlantUML version 1.2020.13(Sat Jun 13 12:26:38 UTC 2020)\n",
       "(EPL source distribution)\n",
       "Java Runtime: OpenJDK Runtime Environment\n",
       "JVM: OpenJDK 64-Bit Server VM\n",
       "Default Encoding: UTF-8\n",
       "Language: en\n",
       "Country: null\n",
       "--></g></svg>"
      ]
     },
     "execution_count": 55,
     "metadata": {},
     "output_type": "execute_result"
    }
   ],
   "source": [
    "%viz --style=\"ORTHOLINE\" --view=\"Action\" \"ActionTest\""
   ]
  },
  {
   "cell_type": "code",
   "execution_count": 56,
   "id": "55257347",
   "metadata": {
    "execution": {
     "iopub.execute_input": "2021-06-30T09:17:46.476149Z",
     "iopub.status.busy": "2021-06-30T09:17:46.475188Z",
     "iopub.status.idle": "2021-06-30T09:17:46.528340Z",
     "shell.execute_reply": "2021-06-30T09:17:46.525991Z"
    }
   },
   "outputs": [
    {
     "data": {
      "image/svg+xml": [
       "<?xml version=\"1.0\" encoding=\"UTF-8\" standalone=\"no\"?><svg xmlns=\"http://www.w3.org/2000/svg\" xmlns:xlink=\"http://www.w3.org/1999/xlink\" contentScriptType=\"application/ecmascript\" contentStyleType=\"text/css\" height=\"327px\" preserveAspectRatio=\"none\" style=\"width:677px;height:327px;\" version=\"1.1\" viewBox=\"0 0 677 327\" width=\"677px\" zoomAndPan=\"magnify\"><defs/><g><!--MD5=[fbc87193dbaf4d95561dea2c320d4a47]\n",
       "cluster E1--><a href=\"psysml:4a739ce7-b110-4093-8b74-31ee982b1e00\" target=\"_top\" title=\"psysml:4a739ce7-b110-4093-8b74-31ee982b1e00\" xlink:actuate=\"onRequest\" xlink:href=\"psysml:4a739ce7-b110-4093-8b74-31ee982b1e00\" xlink:show=\"new\" xlink:title=\"psysml:4a739ce7-b110-4093-8b74-31ee982b1e00\" xlink:type=\"simple\"><polygon fill=\"#FFFFFF\" points=\"16,6,107,6,114,28.2969,655,28.2969,655,315,16,315,16,6\" style=\"stroke: #000000; stroke-width: 1.5;\"/><line style=\"stroke: #000000; stroke-width: 1.5;\" x1=\"16\" x2=\"114\" y1=\"28.2969\" y2=\"28.2969\"/><text fill=\"#000000\" font-family=\"sans-serif\" font-size=\"14\" font-weight=\"bold\" lengthAdjust=\"spacingAndGlyphs\" textLength=\"85\" x=\"20\" y=\"20.9951\">ActionTest</text></a><!--MD5=[b4997ac47864f28c2f74865a473b2911]\n",
       "class E2--><a href=\"psysml:e3ea157b-753f-4ff0-b9f5-62b19f528d25\" target=\"_top\" title=\"psysml:e3ea157b-753f-4ff0-b9f5-62b19f528d25\" xlink:actuate=\"onRequest\" xlink:href=\"psysml:e3ea157b-753f-4ff0-b9f5-62b19f528d25\" xlink:show=\"new\" xlink:title=\"psysml:e3ea157b-753f-4ff0-b9f5-62b19f528d25\" xlink:type=\"simple\"><rect fill=\"#FFFFFF\" height=\"45.9375\" id=\"E2\" style=\"stroke: #383838; stroke-width: 1.5;\" width=\"95\" x=\"278.5\" y=\"253\"/><text fill=\"#000000\" font-family=\"sans-serif\" font-size=\"12\" font-style=\"italic\" lengthAdjust=\"spacingAndGlyphs\" textLength=\"93\" x=\"279.5\" y=\"269.1387\">«attribute def»</text><text fill=\"#000000\" font-family=\"sans-serif\" font-size=\"12\" lengthAdjust=\"spacingAndGlyphs\" textLength=\"8\" x=\"322\" y=\"283.1074\">S</text><line style=\"stroke: #383838; stroke-width: 1.5;\" x1=\"279.5\" x2=\"372.5\" y1=\"290.9375\" y2=\"290.9375\"/></a><!--MD5=[09b614a08d8cba4a07c9adeb5e0fee81]\n",
       "class E3--><a href=\"psysml:fa9c3421-7722-4415-b8c7-0ea19e95762e\" target=\"_top\" title=\"psysml:fa9c3421-7722-4415-b8c7-0ea19e95762e\" xlink:actuate=\"onRequest\" xlink:href=\"psysml:fa9c3421-7722-4415-b8c7-0ea19e95762e\" xlink:show=\"new\" xlink:title=\"psysml:fa9c3421-7722-4415-b8c7-0ea19e95762e\" xlink:type=\"simple\"><rect fill=\"#FFFFFF\" height=\"45.9375\" id=\"E3\" rx=\"10\" ry=\"10\" style=\"stroke: #383838; stroke-width: 1.5;\" width=\"55\" x=\"298.5\" y=\"41\"/><text fill=\"#000000\" font-family=\"sans-serif\" font-size=\"12\" font-style=\"italic\" lengthAdjust=\"spacingAndGlyphs\" textLength=\"53\" x=\"299.5\" y=\"57.1387\">«action»</text><text fill=\"#000000\" font-family=\"sans-serif\" font-size=\"12\" lengthAdjust=\"spacingAndGlyphs\" textLength=\"8\" x=\"322\" y=\"71.1074\">a</text><line style=\"stroke: #383838; stroke-width: 1.5;\" x1=\"299.5\" x2=\"352.5\" y1=\"78.9375\" y2=\"78.9375\"/></a><!--MD5=[ebbe1d658d1005bcc118a6aa81145e00]\n",
       "class E4--><a href=\"psysml:a6d1daf9-13da-45ca-a864-cb134e7177b5\" target=\"_top\" title=\"psysml:a6d1daf9-13da-45ca-a864-cb134e7177b5\" xlink:actuate=\"onRequest\" xlink:href=\"psysml:a6d1daf9-13da-45ca-a864-cb134e7177b5\" xlink:show=\"new\" xlink:title=\"psysml:a6d1daf9-13da-45ca-a864-cb134e7177b5\" xlink:type=\"simple\"><rect fill=\"#FFFFFF\" height=\"45.9375\" id=\"E4\" rx=\"10\" ry=\"10\" style=\"stroke: #383838; stroke-width: 1.5;\" width=\"83\" x=\"32.5\" y=\"147\"/><text fill=\"#000000\" font-family=\"sans-serif\" font-size=\"12\" font-style=\"italic\" lengthAdjust=\"spacingAndGlyphs\" textLength=\"53\" x=\"47.5\" y=\"163.1387\">«action»</text><text fill=\"#000000\" font-family=\"sans-serif\" font-size=\"12\" lengthAdjust=\"spacingAndGlyphs\" textLength=\"77\" x=\"35.5\" y=\"177.1074\">start: Action</text><line style=\"stroke: #383838; stroke-width: 1.5;\" x1=\"33.5\" x2=\"114.5\" y1=\"184.9375\" y2=\"184.9375\"/></a><!--MD5=[270fce915f116d4de14055a7c1d9a0f3]\n",
       "class E5--><a href=\"psysml:60604585-cd78-42b0-92ae-265c1a2862a9\" target=\"_top\" title=\"psysml:60604585-cd78-42b0-92ae-265c1a2862a9\" xlink:actuate=\"onRequest\" xlink:href=\"psysml:60604585-cd78-42b0-92ae-265c1a2862a9\" xlink:show=\"new\" xlink:title=\"psysml:60604585-cd78-42b0-92ae-265c1a2862a9\" xlink:type=\"simple\"><rect fill=\"#FFFFFF\" height=\"45.9375\" id=\"E5\" rx=\"10\" ry=\"10\" style=\"stroke: #383838; stroke-width: 1.5;\" width=\"89\" x=\"150.5\" y=\"147\"/><text fill=\"#000000\" font-family=\"sans-serif\" font-size=\"12\" font-style=\"italic\" lengthAdjust=\"spacingAndGlyphs\" textLength=\"87\" x=\"151.5\" y=\"163.1387\">«mergeNode»</text><text fill=\"#000000\" font-family=\"sans-serif\" font-size=\"12\" lengthAdjust=\"spacingAndGlyphs\" textLength=\"11\" x=\"189.5\" y=\"177.1074\">m</text><line style=\"stroke: #383838; stroke-width: 1.5;\" x1=\"151.5\" x2=\"238.5\" y1=\"184.9375\" y2=\"184.9375\"/></a><!--MD5=[60a26617385b1d2d0262a64233df1f8d]\n",
       "class E6--><a href=\"psysml:1a7559c2-685c-4c08-a29a-09c3177cd704\" target=\"_top\" title=\"psysml:1a7559c2-685c-4c08-a29a-09c3177cd704\" xlink:actuate=\"onRequest\" xlink:href=\"psysml:1a7559c2-685c-4c08-a29a-09c3177cd704\" xlink:show=\"new\" xlink:title=\"psysml:1a7559c2-685c-4c08-a29a-09c3177cd704\" xlink:type=\"simple\"><rect fill=\"#FFFFFF\" height=\"45.9375\" id=\"E6\" rx=\"10\" ry=\"10\" style=\"stroke: #383838; stroke-width: 1.5;\" width=\"102\" x=\"275\" y=\"147\"/><text fill=\"#000000\" font-family=\"sans-serif\" font-size=\"12\" font-style=\"italic\" lengthAdjust=\"spacingAndGlyphs\" textLength=\"100\" x=\"276\" y=\"163.1387\">«accept action»</text><text fill=\"#000000\" font-family=\"sans-serif\" font-size=\"12\" lengthAdjust=\"spacingAndGlyphs\" text-decoration=\"line-through\" textLength=\"51\" x=\"300.5\" y=\"177.1074\">noname</text><line style=\"stroke: #383838; stroke-width: 1.5;\" x1=\"276\" x2=\"376\" y1=\"184.9375\" y2=\"184.9375\"/></a><!--MD5=[2156ba9850f5573cc1fc38a6a4b2f02b]\n",
       "class E7--><a href=\"psysml:57acc649-2893-4bd5-b427-585e4a8282d2\" target=\"_top\" title=\"psysml:57acc649-2893-4bd5-b427-585e4a8282d2\" xlink:actuate=\"onRequest\" xlink:href=\"psysml:57acc649-2893-4bd5-b427-585e4a8282d2\" xlink:show=\"new\" xlink:title=\"psysml:57acc649-2893-4bd5-b427-585e4a8282d2\" xlink:type=\"simple\"><rect fill=\"#FFFFFF\" height=\"45.9375\" id=\"E7\" rx=\"10\" ry=\"10\" style=\"stroke: #383838; stroke-width: 1.5;\" width=\"90\" x=\"412\" y=\"147\"/><text fill=\"#000000\" font-family=\"sans-serif\" font-size=\"12\" font-style=\"italic\" lengthAdjust=\"spacingAndGlyphs\" textLength=\"88\" x=\"413\" y=\"163.1387\">«send action»</text><text fill=\"#000000\" font-family=\"sans-serif\" font-size=\"12\" lengthAdjust=\"spacingAndGlyphs\" text-decoration=\"line-through\" textLength=\"51\" x=\"431.5\" y=\"177.1074\">noname</text><line style=\"stroke: #383838; stroke-width: 1.5;\" x1=\"413\" x2=\"501\" y1=\"184.9375\" y2=\"184.9375\"/></a><!--MD5=[b9389687b975829384b498ac4b7476b2]\n",
       "class E8--><a href=\"psysml:dcda7bbd-01a5-4374-8a97-a16c2625889c\" target=\"_top\" title=\"psysml:dcda7bbd-01a5-4374-8a97-a16c2625889c\" xlink:actuate=\"onRequest\" xlink:href=\"psysml:dcda7bbd-01a5-4374-8a97-a16c2625889c\" xlink:show=\"new\" xlink:title=\"psysml:dcda7bbd-01a5-4374-8a97-a16c2625889c\" xlink:type=\"simple\"><rect fill=\"#FFFFFF\" height=\"45.9375\" id=\"E8\" rx=\"10\" ry=\"10\" style=\"stroke: #383838; stroke-width: 1.5;\" width=\"101\" x=\"537.5\" y=\"147\"/><text fill=\"#000000\" font-family=\"sans-serif\" font-size=\"12\" font-style=\"italic\" lengthAdjust=\"spacingAndGlyphs\" textLength=\"99\" x=\"538.5\" y=\"163.1387\">«decisionNode»</text><text fill=\"#000000\" font-family=\"sans-serif\" font-size=\"12\" lengthAdjust=\"spacingAndGlyphs\" text-decoration=\"line-through\" textLength=\"51\" x=\"562.5\" y=\"177.1074\">noname</text><line style=\"stroke: #383838; stroke-width: 1.5;\" x1=\"538.5\" x2=\"637.5\" y1=\"184.9375\" y2=\"184.9375\"/></a><!--MD5=[fd4143e9d270a159db93a4ea2a975926]\n",
       "class E9--><a href=\"psysml:86a7eb05-d2a7-4b0b-add7-eac0d2258e69\" target=\"_top\" title=\"psysml:86a7eb05-d2a7-4b0b-add7-eac0d2258e69\" xlink:actuate=\"onRequest\" xlink:href=\"psysml:86a7eb05-d2a7-4b0b-add7-eac0d2258e69\" xlink:show=\"new\" xlink:title=\"psysml:86a7eb05-d2a7-4b0b-add7-eac0d2258e69\" xlink:type=\"simple\"><rect fill=\"#FFFFFF\" height=\"45.9375\" id=\"E9\" style=\"stroke: #383838; stroke-width: 1.5;\" width=\"79\" x=\"108.5\" y=\"41\"/><text fill=\"#000000\" font-family=\"sans-serif\" font-size=\"12\" font-style=\"italic\" lengthAdjust=\"spacingAndGlyphs\" textLength=\"77\" x=\"109.5\" y=\"57.1387\">«action def»</text><text fill=\"#000000\" font-family=\"sans-serif\" font-size=\"12\" lengthAdjust=\"spacingAndGlyphs\" textLength=\"8\" x=\"144\" y=\"71.1074\">B</text><line style=\"stroke: #383838; stroke-width: 1.5;\" x1=\"109.5\" x2=\"186.5\" y1=\"78.9375\" y2=\"78.9375\"/></a><!--MD5=[4672eba38e49728da53d11aeb285b987]\n",
       "reverse link E3 to E4--><a href=\"psysml:52dfc4ad-a62d-4432-a88b-57c0a80d621d\" target=\"_top\" title=\"psysml:52dfc4ad-a62d-4432-a88b-57c0a80d621d\" xlink:actuate=\"onRequest\" xlink:href=\"psysml:52dfc4ad-a62d-4432-a88b-57c0a80d621d\" xlink:show=\"new\" xlink:title=\"psysml:52dfc4ad-a62d-4432-a88b-57c0a80d621d\" xlink:type=\"simple\"><path d=\"M316.83,100.09 C316.83,100.09 316.83,117 316.83,117 C316.83,117 70.5,117 70.5,117 C70.5,117 70.5,132.63 70.5,146.91 \" fill=\"none\" id=\"E3&lt;-E4\" style=\"stroke: #383838; stroke-width: 1.0;\"/><polygon fill=\"#FFFFFF\" points=\"316.83,87.09,312.83,93.09,316.83,99.09,320.83,93.09,316.83,87.09\" style=\"stroke: #383838; stroke-width: 1.0;\"/></a><!--MD5=[191cde3d490a3f6d7bb551fe3ddca469]\n",
       "reverse link E3 to E5--><a href=\"psysml:99d9f5a6-f2b4-4631-bd24-2952b87c2311\" target=\"_top\" title=\"psysml:99d9f5a6-f2b4-4631-bd24-2952b87c2311\" xlink:actuate=\"onRequest\" xlink:href=\"psysml:99d9f5a6-f2b4-4631-bd24-2952b87c2311\" xlink:show=\"new\" xlink:title=\"psysml:99d9f5a6-f2b4-4631-bd24-2952b87c2311\" xlink:type=\"simple\"><path d=\"M285.48,64 C285.48,64 213.5,64 213.5,64 C213.5,64 213.5,115.82 213.5,147 \" fill=\"none\" id=\"E3&lt;-E5\" style=\"stroke: #383838; stroke-width: 1.0;\"/><polygon fill=\"#383838\" points=\"298.48,64,292.48,60,286.48,64,292.48,68,298.48,64\" style=\"stroke: #383838; stroke-width: 1.0;\"/></a><!--MD5=[1026b4b93417a13aa8999a858998add2]\n",
       "reverse link E3 to E6--><a href=\"psysml:14dfaf6d-db59-420e-a3c6-2cc6bbb5f023\" target=\"_top\" title=\"psysml:14dfaf6d-db59-420e-a3c6-2cc6bbb5f023\" xlink:actuate=\"onRequest\" xlink:href=\"psysml:14dfaf6d-db59-420e-a3c6-2cc6bbb5f023\" xlink:show=\"new\" xlink:title=\"psysml:14dfaf6d-db59-420e-a3c6-2cc6bbb5f023\" xlink:type=\"simple\"><path d=\"M335.17,100 C335.17,100 335.17,146.68 335.17,146.68 \" fill=\"none\" id=\"E3&lt;-E6\" style=\"stroke: #383838; stroke-width: 1.0;\"/><polygon fill=\"#FFFFFF\" points=\"335.17,87,331.17,93,335.17,99,339.17,93,335.17,87\" style=\"stroke: #383838; stroke-width: 1.0;\"/></a><!--MD5=[3403bfa781cc3da0fd423dbab6f01c63]\n",
       "reverse link E6 to E2--><a href=\"psysml:773d19c1-1d9b-4741-b5ba-dd5a31e080a3\" target=\"_top\" title=\"psysml:773d19c1-1d9b-4741-b5ba-dd5a31e080a3\" xlink:actuate=\"onRequest\" xlink:href=\"psysml:773d19c1-1d9b-4741-b5ba-dd5a31e080a3\" xlink:show=\"new\" xlink:title=\"psysml:773d19c1-1d9b-4741-b5ba-dd5a31e080a3\" xlink:type=\"simple\"><path d=\"M326,206 C326,206 326,252.68 326,252.68 \" fill=\"none\" id=\"E6&lt;-E2\" style=\"stroke: #383838; stroke-width: 1.0;\"/><polygon fill=\"#FFFFFF\" points=\"326,193,322,199,326,205,330,199,326,193\" style=\"stroke: #383838; stroke-width: 1.0;\"/></a><!--MD5=[85760999379eecfd2565a9fecdca67e4]\n",
       "reverse link E3 to E7--><a href=\"psysml:4bddb34b-31d0-4487-9835-f5e5c1238220\" target=\"_top\" title=\"psysml:4bddb34b-31d0-4487-9835-f5e5c1238220\" xlink:actuate=\"onRequest\" xlink:href=\"psysml:4bddb34b-31d0-4487-9835-f5e5c1238220\" xlink:show=\"new\" xlink:title=\"psysml:4bddb34b-31d0-4487-9835-f5e5c1238220\" xlink:type=\"simple\"><path d=\"M366.78,72 C366.78,72 457,72 457,72 C457,72 457,117.8 457,146.78 \" fill=\"none\" id=\"E3&lt;-E7\" style=\"stroke: #383838; stroke-width: 1.0;\"/><polygon fill=\"#FFFFFF\" points=\"353.78,72,359.78,76,365.78,72,359.78,68,353.78,72\" style=\"stroke: #383838; stroke-width: 1.0;\"/></a><!--MD5=[4cb75b73ec3682b8f7f8edc9cc86126a]\n",
       "reverse link E3 to E8--><a href=\"psysml:010ce356-5f58-462c-8431-75351dc3ac74\" target=\"_top\" title=\"psysml:010ce356-5f58-462c-8431-75351dc3ac74\" xlink:actuate=\"onRequest\" xlink:href=\"psysml:010ce356-5f58-462c-8431-75351dc3ac74\" xlink:show=\"new\" xlink:title=\"psysml:010ce356-5f58-462c-8431-75351dc3ac74\" xlink:type=\"simple\"><path d=\"M366.54,57 C366.54,57 588,57 588,57 C588,57 588,113.8 588,146.86 \" fill=\"none\" id=\"E3&lt;-E8\" style=\"stroke: #383838; stroke-width: 1.0;\"/><polygon fill=\"#383838\" points=\"353.54,57,359.54,61,365.54,57,359.54,53,353.54,57\" style=\"stroke: #383838; stroke-width: 1.0;\"/></a><!--MD5=[e45d04e6bc899a3100f7e7e24acbde02]\n",
       "@startuml\r\n",
       "skinparam linetype ortho\r\n",
       "skinparam monochrome true\r\n",
       "skinparam classbackgroundcolor white\r\n",
       "skinparam shadowing false\r\n",
       "skinparam wrapWidth 300\r\n",
       "hide circle\r\n",
       "\r\n",
       "package \"ActionTest\" as E1  [[psysml:4a739ce7-b110-4093-8b74-31ee982b1e00 ]]  {\r\n",
       "comp def \"S\" as E2  <<(T,blue) attribute def>> [[psysml:e3ea157b-753f-4ff0-b9f5-62b19f528d25 ]] {\r\n",
       "}\r\n",
       "comp usage \"a\" as E3  <<(T,blue) action>> [[psysml:fa9c3421-7722-4415-b8c7-0ea19e95762e ]] {\r\n",
       "}\r\n",
       "comp usage \"start: Action\" as E4  <<(T,blue) action>> [[psysml:a6d1daf9-13da-45ca-a864-cb134e7177b5 ]] {\r\n",
       "}\r\n",
       "comp usage \"m\" as E5  <<(T,blue) mergeNode>> [[psysml:60604585-cd78-42b0-92ae-265c1a2862a9 ]] {\r\n",
       "}\r\n",
       "comp usage \"<s>noname</s>\" as E6 << accept action>> [[psysml:1a7559c2-685c-4c08-a29a-09c3177cd704 ]] {\r\n",
       "}\r\n",
       "comp usage \"<s>noname</s>\" as E7 << send action>> [[psysml:57acc649-2893-4bd5-b427-585e4a8282d2 ]] {\r\n",
       "}\r\n",
       "comp usage \"<s>noname</s>\" as E8  <<(T,blue) decisionNode>> [[psysml:dcda7bbd-01a5-4374-8a97-a16c2625889c ]] {\r\n",
       "}\r\n",
       "comp def \"B\" as E9  <<(T,blue) action def>> [[psysml:86a7eb05-d2a7-4b0b-add7-eac0d2258e69 ]] {\r\n",
       "}\r\n",
       "E3 o- - E4 [[psysml:52dfc4ad-a62d-4432-a88b-57c0a80d621d ]] \r\n",
       "E3 *- - E5 [[psysml:99d9f5a6-f2b4-4631-bd24-2952b87c2311 ]] \r\n",
       "E3 o- - E6 [[psysml:14dfaf6d-db59-420e-a3c6-2cc6bbb5f023 ]] \r\n",
       "E6 o- - E2 [[psysml:773d19c1-1d9b-4741-b5ba-dd5a31e080a3 ]] \r\n",
       "E3 o- - E7 [[psysml:4bddb34b-31d0-4487-9835-f5e5c1238220 ]] \r\n",
       "E3 *- - E8 [[psysml:010ce356-5f58-462c-8431-75351dc3ac74 ]] \r\n",
       "}\r\n",
       "@enduml\r\n",
       "\n",
       "PlantUML version 1.2020.13(Sat Jun 13 12:26:38 UTC 2020)\n",
       "(EPL source distribution)\n",
       "Java Runtime: OpenJDK Runtime Environment\n",
       "JVM: OpenJDK 64-Bit Server VM\n",
       "Default Encoding: UTF-8\n",
       "Language: en\n",
       "Country: null\n",
       "--></g></svg>"
      ]
     },
     "execution_count": 56,
     "metadata": {},
     "output_type": "execute_result"
    }
   ],
   "source": [
    "%viz --style=\"ORTHOLINE\" --view=\"Sequence\" \"ActionTest\""
   ]
  },
  {
   "cell_type": "code",
   "execution_count": 57,
   "id": "d827c7c6",
   "metadata": {
    "execution": {
     "iopub.execute_input": "2021-06-30T09:17:46.577503Z",
     "iopub.status.busy": "2021-06-30T09:17:46.576891Z",
     "iopub.status.idle": "2021-06-30T09:17:46.635105Z",
     "shell.execute_reply": "2021-06-30T09:17:46.633195Z"
    }
   },
   "outputs": [
    {
     "data": {
      "image/svg+xml": [
       "<?xml version=\"1.0\" encoding=\"UTF-8\" standalone=\"no\"?><svg xmlns=\"http://www.w3.org/2000/svg\" xmlns:xlink=\"http://www.w3.org/1999/xlink\" contentScriptType=\"application/ecmascript\" contentStyleType=\"text/css\" height=\"684px\" preserveAspectRatio=\"none\" style=\"width:518px;height:684px;\" version=\"1.1\" viewBox=\"0 0 518 684\" width=\"518px\" zoomAndPan=\"magnify\"><defs/><g><!--MD5=[fbc87193dbaf4d95561dea2c320d4a47]\n",
       "cluster E1--><a href=\"psysml:4a739ce7-b110-4093-8b74-31ee982b1e00\" target=\"_top\" title=\"psysml:4a739ce7-b110-4093-8b74-31ee982b1e00\" xlink:actuate=\"onRequest\" xlink:href=\"psysml:4a739ce7-b110-4093-8b74-31ee982b1e00\" xlink:show=\"new\" xlink:title=\"psysml:4a739ce7-b110-4093-8b74-31ee982b1e00\" xlink:type=\"simple\"><polygon fill=\"#FFFFFF\" points=\"16,6,107,6,114,28.2969,496,28.2969,496,672,16,672,16,6\" style=\"stroke: #000000; stroke-width: 1.5;\"/><line style=\"stroke: #000000; stroke-width: 1.5;\" x1=\"16\" x2=\"114\" y1=\"28.2969\" y2=\"28.2969\"/><text fill=\"#000000\" font-family=\"sans-serif\" font-size=\"14\" font-weight=\"bold\" lengthAdjust=\"spacingAndGlyphs\" textLength=\"85\" x=\"20\" y=\"20.9951\">ActionTest</text></a><!--MD5=[d5e69f78d87373223dbae638b30a9c99]\n",
       "cluster E3--><a href=\"psysml:fa9c3421-7722-4415-b8c7-0ea19e95762e\" target=\"_top\" title=\"psysml:fa9c3421-7722-4415-b8c7-0ea19e95762e\" xlink:actuate=\"onRequest\" xlink:href=\"psysml:fa9c3421-7722-4415-b8c7-0ea19e95762e\" xlink:show=\"new\" xlink:title=\"psysml:fa9c3421-7722-4415-b8c7-0ea19e95762e\" xlink:type=\"simple\"><rect fill=\"#FFFFFF\" height=\"599\" id=\"E3\" rx=\"10\" ry=\"10\" style=\"stroke: #383838; stroke-width: 1.5;\" width=\"209\" x=\"263\" y=\"49\"/><rect fill=\"#F8F8F8\" height=\"37.9375\" rx=\"10\" ry=\"10\" style=\"stroke: #F8F8F8; stroke-width: 1.5;\" width=\"209\" x=\"263\" y=\"49\"/><rect fill=\"#F8F8F8\" height=\"10\" style=\"stroke: #F8F8F8; stroke-width: 1.5;\" width=\"209\" x=\"263\" y=\"76.9375\"/><rect fill=\"none\" height=\"599\" id=\"E3\" rx=\"10\" ry=\"10\" style=\"stroke: #383838; stroke-width: 1.5;\" width=\"209\" x=\"263\" y=\"49\"/><text fill=\"#000000\" font-family=\"sans-serif\" font-size=\"12\" font-style=\"italic\" lengthAdjust=\"spacingAndGlyphs\" textLength=\"53\" x=\"341\" y=\"65.1387\">«action»</text><text fill=\"#000000\" font-family=\"sans-serif\" font-size=\"12\" lengthAdjust=\"spacingAndGlyphs\" textLength=\"8\" x=\"363.5\" y=\"79.1074\">a</text><line style=\"stroke: #383838; stroke-width: 1.0;\" x1=\"263\" x2=\"472\" y1=\"86.9375\" y2=\"86.9375\"/></a><!--MD5=[b4997ac47864f28c2f74865a473b2911]\n",
       "class E2--><a href=\"psysml:e3ea157b-753f-4ff0-b9f5-62b19f528d25\" target=\"_top\" title=\"psysml:e3ea157b-753f-4ff0-b9f5-62b19f528d25\" xlink:actuate=\"onRequest\" xlink:href=\"psysml:e3ea157b-753f-4ff0-b9f5-62b19f528d25\" xlink:show=\"new\" xlink:title=\"psysml:e3ea157b-753f-4ff0-b9f5-62b19f528d25\" xlink:type=\"simple\"><rect fill=\"#FFFFFF\" height=\"45.9375\" id=\"E2\" style=\"stroke: #383838; stroke-width: 1.5;\" width=\"95\" x=\"151.5\" y=\"87\"/><text fill=\"#000000\" font-family=\"sans-serif\" font-size=\"12\" font-style=\"italic\" lengthAdjust=\"spacingAndGlyphs\" textLength=\"93\" x=\"152.5\" y=\"103.1387\">«attribute def»</text><text fill=\"#000000\" font-family=\"sans-serif\" font-size=\"12\" lengthAdjust=\"spacingAndGlyphs\" textLength=\"8\" x=\"195\" y=\"117.1074\">S</text><line style=\"stroke: #383838; stroke-width: 1.5;\" x1=\"152.5\" x2=\"245.5\" y1=\"124.9375\" y2=\"124.9375\"/></a><polygon fill=\"#F8F8F8\" points=\"420,194,432,206,420,218,408,206,420,194\" style=\"stroke: #383838; stroke-width: 1.5;\"/><!--MD5=[21dd76c19d33815960c0e92fef8f0eef]\n",
       "entity E5--><a href=\"psysml:1a7559c2-685c-4c08-a29a-09c3177cd704\" target=\"_top\" title=\"psysml:1a7559c2-685c-4c08-a29a-09c3177cd704\" xlink:actuate=\"onRequest\" xlink:href=\"psysml:1a7559c2-685c-4c08-a29a-09c3177cd704\" xlink:show=\"new\" xlink:title=\"psysml:1a7559c2-685c-4c08-a29a-09c3177cd704\" xlink:type=\"simple\"><polygon fill=\"#F8F8F8\" points=\"279,279,279,333.5938,419,333.5938,399,306.2969,419,279\" style=\"stroke: #000000; stroke-width: 1.5;\"/><text fill=\"#000000\" font-family=\"sans-serif\" font-size=\"14\" font-style=\"italic\" lengthAdjust=\"spacingAndGlyphs\" textLength=\"111\" x=\"286\" y=\"301.9951\">«accept action»</text><text fill=\"#000000\" font-family=\"sans-serif\" font-size=\"14\" lengthAdjust=\"spacingAndGlyphs\" textLength=\"9\" x=\"337\" y=\"319.292\">S</text></a><!--MD5=[24d87cdf3002d433f401b2a2aa9f9f65]\n",
       "entity E6--><a href=\"psysml:57acc649-2893-4bd5-b427-585e4a8282d2\" target=\"_top\" title=\"psysml:57acc649-2893-4bd5-b427-585e4a8282d2\" xlink:actuate=\"onRequest\" xlink:href=\"psysml:57acc649-2893-4bd5-b427-585e4a8282d2\" xlink:show=\"new\" xlink:title=\"psysml:57acc649-2893-4bd5-b427-585e4a8282d2\" xlink:type=\"simple\"><polygon fill=\"#F8F8F8\" points=\"279,411,279,465.5938,387,465.5938,407,438.2969,387,411\" style=\"stroke: #000000; stroke-width: 1.5;\"/><text fill=\"#000000\" font-family=\"sans-serif\" font-size=\"14\" font-style=\"italic\" lengthAdjust=\"spacingAndGlyphs\" textLength=\"99\" x=\"286\" y=\"433.9951\">«send action»</text><text fill=\"#000000\" font-family=\"sans-serif\" font-size=\"14\" lengthAdjust=\"spacingAndGlyphs\" textLength=\"65\" x=\"303\" y=\"451.292\">S() to  B()</text></a><polygon fill=\"#F8F8F8\" points=\"418,527,430,539,418,551,406,539,418,527\" style=\"stroke: #383838; stroke-width: 1.5;\"/><ellipse cx=\"420\" cy=\"110\" fill=\"#000000\" rx=\"10\" ry=\"10\" style=\"stroke: none; stroke-width: 1.0;\"/><ellipse cx=\"418\" cy=\"622\" fill=\"none\" rx=\"10\" ry=\"10\" style=\"stroke: #000000; stroke-width: 1.0;\"/><ellipse cx=\"418.5\" cy=\"622.5\" fill=\"#000000\" rx=\"6\" ry=\"6\" style=\"stroke: none; stroke-width: 1.0;\"/><g id=\"E1.E8\"><a href=\"psysml:86a7eb05-d2a7-4b0b-add7-eac0d2258e69\" target=\"_top\" title=\"psysml:86a7eb05-d2a7-4b0b-add7-eac0d2258e69\" xlink:actuate=\"onRequest\" xlink:href=\"psysml:86a7eb05-d2a7-4b0b-add7-eac0d2258e69\" xlink:show=\"new\" xlink:title=\"psysml:86a7eb05-d2a7-4b0b-add7-eac0d2258e69\" xlink:type=\"simple\"><rect fill=\"#FFFFFF\" height=\"42.9375\" id=\"E8\" style=\"stroke: #383838; stroke-width: 1.5;\" width=\"84\" x=\"32\" y=\"88.5\"/><rect fill=\"#F8F8F8\" height=\"37.9375\" style=\"stroke: #383838; stroke-width: 1.5;\" width=\"84\" x=\"32\" y=\"88.5\"/><text fill=\"#000000\" font-family=\"sans-serif\" font-size=\"12\" font-style=\"italic\" lengthAdjust=\"spacingAndGlyphs\" textLength=\"77\" x=\"35.5\" y=\"104.6387\">«action def»</text><text fill=\"#000000\" font-family=\"sans-serif\" font-size=\"12\" lengthAdjust=\"spacingAndGlyphs\" textLength=\"8\" x=\"70\" y=\"118.6074\">B</text></a></g><!--MD5=[f47e10efcf9a6752d55dae986d790ed9]\n",
       "link *start*E3 to E4--><a href=\"psysml:3a6c3978-61f5-46d3-ad26-c963b1b56f5b\" target=\"_top\" title=\"psysml:3a6c3978-61f5-46d3-ad26-c963b1b56f5b\" xlink:actuate=\"onRequest\" xlink:href=\"psysml:3a6c3978-61f5-46d3-ad26-c963b1b56f5b\" xlink:show=\"new\" xlink:title=\"psysml:3a6c3978-61f5-46d3-ad26-c963b1b56f5b\" xlink:type=\"simple\"><path d=\"M420,120.27 C420,120.27 420,188.7 420,188.7 \" fill=\"none\" id=\"*start*E3-&gt;E4\" style=\"stroke: #383838; stroke-width: 1.0;\"/><polygon fill=\"#383838\" points=\"420,193.7,424,184.7,420,188.7,416,184.7,420,193.7\" style=\"stroke: #383838; stroke-width: 1.0;\"/></a><!--MD5=[d19f2eb34364d71b67042106d92f540b]\n",
       "link E7 to *end*E3--><a href=\"psysml:36daa16f-4b44-48c5-bcb7-7a401bcea152\" target=\"_top\" title=\"psysml:36daa16f-4b44-48c5-bcb7-7a401bcea152\" xlink:actuate=\"onRequest\" xlink:href=\"psysml:36daa16f-4b44-48c5-bcb7-7a401bcea152\" xlink:show=\"new\" xlink:title=\"psysml:36daa16f-4b44-48c5-bcb7-7a401bcea152\" xlink:type=\"simple\"><path d=\"M418,551.25 C418,551.25 418,606.8 418,606.8 \" fill=\"none\" id=\"E7-&gt;*end*E3\" style=\"stroke: #383838; stroke-width: 1.0;\"/><polygon fill=\"#383838\" points=\"418,611.8,422,602.8,418,606.8,414,602.8,418,611.8\" style=\"stroke: #383838; stroke-width: 1.0;\"/></a><!--MD5=[1b7591eae5389033d8d09a9d6721a717]\n",
       "link E4 to E5--><a href=\"psysml:c56e5692-64fd-4b0b-a986-d866765d0210\" target=\"_top\" title=\"psysml:c56e5692-64fd-4b0b-a986-d866765d0210\" xlink:actuate=\"onRequest\" xlink:href=\"psysml:c56e5692-64fd-4b0b-a986-d866765d0210\" xlink:show=\"new\" xlink:title=\"psysml:c56e5692-64fd-4b0b-a986-d866765d0210\" xlink:type=\"simple\"><path d=\"M413.5,211.69 C413.5,211.69 413.5,273.98 413.5,273.98 \" fill=\"none\" id=\"E4-&gt;E5\" style=\"stroke: #383838; stroke-width: 1.0;\"/><polygon fill=\"#383838\" points=\"413.5,278.98,417.5,269.98,413.5,273.98,409.5,269.98,413.5,278.98\" style=\"stroke: #383838; stroke-width: 1.0;\"/></a><!--MD5=[9120cf2e5df3bff93db8f754bbbc09b4]\n",
       "link E5 to E6--><a href=\"psysml:363bb7e0-7ec1-401c-827a-8a23a32c7946\" target=\"_top\" title=\"psysml:363bb7e0-7ec1-401c-827a-8a23a32c7946\" xlink:actuate=\"onRequest\" xlink:href=\"psysml:363bb7e0-7ec1-401c-827a-8a23a32c7946\" xlink:show=\"new\" xlink:title=\"psysml:363bb7e0-7ec1-401c-827a-8a23a32c7946\" xlink:type=\"simple\"><path d=\"M343,334.17 C343,334.17 343,405.86 343,405.86 \" fill=\"none\" id=\"E5-&gt;E6\" style=\"stroke: #383838; stroke-width: 1.0;\"/><polygon fill=\"#383838\" points=\"343,410.86,347,401.86,343,405.86,339,401.86,343,410.86\" style=\"stroke: #383838; stroke-width: 1.0;\"/></a><!--MD5=[02c70b7c851c11e3980e4e90450dc5dd]\n",
       "link E6 to E7--><a href=\"psysml:84082b66-a23a-4779-a592-98d74f10d8d7\" target=\"_top\" title=\"psysml:84082b66-a23a-4779-a592-98d74f10d8d7\" xlink:actuate=\"onRequest\" xlink:href=\"psysml:84082b66-a23a-4779-a592-98d74f10d8d7\" xlink:show=\"new\" xlink:title=\"psysml:84082b66-a23a-4779-a592-98d74f10d8d7\" xlink:type=\"simple\"><path d=\"M407.03,439 C410.74,439 413,439 413,439 C413,439 413,526.81 413,526.81 \" fill=\"none\" id=\"E6-&gt;E7\" style=\"stroke: #383838; stroke-width: 1.0;\"/><polygon fill=\"#383838\" points=\"413,531.81,417,522.81,413,526.81,409,522.81,413,531.81\" style=\"stroke: #383838; stroke-width: 1.0;\"/></a><!--MD5=[6bdd27f9905911a7e892a3dc65cf6b7c]\n",
       "link E7 to E4--><a href=\"psysml:49753952-5c4c-4ef6-ad04-e80bfe7cb929\" target=\"_top\" title=\"psysml:49753952-5c4c-4ef6-ad04-e80bfe7cb929\" xlink:actuate=\"onRequest\" xlink:href=\"psysml:49753952-5c4c-4ef6-ad04-e80bfe7cb929\" xlink:show=\"new\" xlink:title=\"psysml:49753952-5c4c-4ef6-ad04-e80bfe7cb929\" xlink:type=\"simple\"><path d=\"M424.5,533.5 C424.5,533.5 424.5,218.64 424.5,218.64 \" fill=\"none\" id=\"E7-&gt;E4\" style=\"stroke: #383838; stroke-width: 1.0;\"/><polygon fill=\"#383838\" points=\"424.5,213.64,420.5,222.64,424.5,218.64,428.5,222.64,424.5,213.64\" style=\"stroke: #383838; stroke-width: 1.0;\"/><text fill=\"#000000\" font-family=\"sans-serif\" font-size=\"13\" lengthAdjust=\"spacingAndGlyphs\" textLength=\"36\" x=\"419\" y=\"377.0669\">[true]</text></a><!--MD5=[a05056ab57f2b1860bc9e13455fc5372]\n",
       "@startuml\r\n",
       "skinparam linetype ortho\r\n",
       "skinparam monochrome true\r\n",
       "skinparam classbackgroundcolor white\r\n",
       "skinparam shadowing false\r\n",
       "skinparam wrapWidth 300\r\n",
       "hide circle\r\n",
       "\r\n",
       "package \"ActionTest\" as E1  [[psysml:4a739ce7-b110-4093-8b74-31ee982b1e00 ]]  {\r\n",
       "comp def \"S\" as E2  <<(T,blue) attribute def>> [[psysml:e3ea157b-753f-4ff0-b9f5-62b19f528d25 ]] {\r\n",
       "}\r\n",
       "rec usage \"a\" as E3  <<(T,blue) action>> [[psysml:fa9c3421-7722-4415-b8c7-0ea19e95762e ]] {\r\n",
       "choice \"m\" as E4  [[psysml:60604585-cd78-42b0-92ae-265c1a2862a9 ]] \r\n",
       "accept \" S\" as E5 << accept action>> [[psysml:1a7559c2-685c-4c08-a29a-09c3177cd704 ]] \r\n",
       "send \" S() to  B()\" as E6 << send action>> [[psysml:57acc649-2893-4bd5-b427-585e4a8282d2 ]] \r\n",
       "choice \"noname\" as E7  [[psysml:dcda7bbd-01a5-4374-8a97-a16c2625889c ]] \r\n",
       "[*] - -> E4 [[psysml:3a6c3978-61f5-46d3-ad26-c963b1b56f5b ]] \r\n",
       "E7  - -> [*] [[psysml:36daa16f-4b44-48c5-bcb7-7a401bcea152 ]] \r\n",
       "}\r\n",
       "\r\n",
       "rec def \"B\" as E8  <<(T,blue) action def>> [[psysml:86a7eb05-d2a7-4b0b-add7-eac0d2258e69 ]] {\r\n",
       "}\r\n",
       "\r\n",
       "E4 - -> E5 [[psysml:c56e5692-64fd-4b0b-a986-d866765d0210 ]] \r\n",
       "E5 - -> E6 [[psysml:363bb7e0-7ec1-401c-827a-8a23a32c7946 ]] \r\n",
       "E6 - -> E7 [[psysml:84082b66-a23a-4779-a592-98d74f10d8d7 ]] \r\n",
       "E7  - -> E4 [[psysml:49753952-5c4c-4ef6-ad04-e80bfe7cb929 ]] : [true]\r\n",
       "}\r\n",
       "@enduml\r\n",
       "\n",
       "PlantUML version 1.2020.13(Sat Jun 13 12:26:38 UTC 2020)\n",
       "(EPL source distribution)\n",
       "Java Runtime: OpenJDK Runtime Environment\n",
       "JVM: OpenJDK 64-Bit Server VM\n",
       "Default Encoding: UTF-8\n",
       "Language: en\n",
       "Country: null\n",
       "--></g></svg>"
      ]
     },
     "execution_count": 57,
     "metadata": {},
     "output_type": "execute_result"
    }
   ],
   "source": [
    "%viz --style=\"ORTHOLINE\" --view=\"MIXED\" \"ActionTest\""
   ]
  }
 ],
 "metadata": {
  "kernelspec": {
   "display_name": "SysML",
   "language": "sysml",
   "name": "sysml"
  },
  "language_info": {
   "codemirror_mode": "sysml",
   "file_extension": ".sysml",
   "mimetype": "text/x-sysml",
   "name": "SysML",
   "pygments_lexer": "java",
   "version": "1.0.0"
  }
 },
 "nbformat": 4,
 "nbformat_minor": 5
}
