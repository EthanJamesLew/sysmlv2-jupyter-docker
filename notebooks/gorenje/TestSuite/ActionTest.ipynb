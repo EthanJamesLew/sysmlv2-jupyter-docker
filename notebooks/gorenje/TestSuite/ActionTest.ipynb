{
 "cells": [
  {
   "cell_type": "markdown",
   "id": "4c9abb60",
   "metadata": {},
   "source": [
    "# SysML v2 Test Suite\n",
    "\n",
    "This can notebook can be cleared using menu `Edit --> Clear All Outputs` and then all cells can be\n",
    "run using menu `Run --> Run All Cells`.\n",
    "\n",
    "**WARNING**: This file is generated, all modifications here will be ignored.\n"
   ]
  },
  {
   "cell_type": "markdown",
   "id": "98af42ba",
   "metadata": {},
   "source": [
    "## File: ../../sysml/src/examples/Simple Tests/ActionTest.sysml"
   ]
  },
  {
   "cell_type": "code",
   "execution_count": 1,
   "id": "875d9b80",
   "metadata": {
    "execution": {
     "iopub.execute_input": "2021-10-25T08:21:20.060112Z",
     "iopub.status.busy": "2021-10-25T08:21:20.059217Z",
     "iopub.status.idle": "2021-10-25T08:21:20.503781Z",
     "shell.execute_reply": "2021-10-25T08:21:20.504124Z"
    }
   },
   "outputs": [
    {
     "data": {
      "text/plain": [
       "Package ActionTest (97a4862c-68eb-4e2d-9184-5fd3bf5aa2fa)\n"
      ]
     },
     "execution_count": 1,
     "metadata": {},
     "output_type": "execute_result"
    }
   ],
   "source": [
    "package ActionTest {\n",
    "\tattribute def S;\n",
    "\t\n",
    "\taction a {\n",
    "\t\tfirst start;\t\t\n",
    "\t\tthen merge m;\n",
    "\t\tthen accept S; \n",
    "\t\t\n",
    "\t\tthen send S() to B();\t\t\n",
    "\t\tthen decide;\n",
    "\t\t\tif true then m;\n",
    "\t\t\telse done;\n",
    "\t}\n",
    "\t\n",
    "\taction def B;\n",
    "\t\n",
    "}"
   ]
  },
  {
   "cell_type": "code",
   "execution_count": 2,
   "id": "2487ecb1",
   "metadata": {
    "execution": {
     "iopub.execute_input": "2021-10-25T08:21:20.554726Z",
     "iopub.status.busy": "2021-10-25T08:21:20.554298Z",
     "iopub.status.idle": "2021-10-25T08:21:21.057238Z",
     "shell.execute_reply": "2021-10-25T08:21:21.054432Z"
    }
   },
   "outputs": [
    {
     "data": {
      "image/svg+xml": [
       "<?xml version=\"1.0\" encoding=\"UTF-8\" standalone=\"no\"?><svg xmlns=\"http://www.w3.org/2000/svg\" xmlns:xlink=\"http://www.w3.org/1999/xlink\" contentScriptType=\"application/ecmascript\" contentStyleType=\"text/css\" height=\"684px\" preserveAspectRatio=\"none\" style=\"width:526px;height:684px;\" version=\"1.1\" viewBox=\"0 0 526 684\" width=\"526px\" zoomAndPan=\"magnify\"><defs/><g><!--MD5=[fbc87193dbaf4d95561dea2c320d4a47]\n",
       "cluster E1--><a href=\"psysml:b606a038-0c45-436f-a3a1-beef47fa0e17\" target=\"_top\" title=\"psysml:b606a038-0c45-436f-a3a1-beef47fa0e17\" xlink:actuate=\"onRequest\" xlink:href=\"psysml:b606a038-0c45-436f-a3a1-beef47fa0e17\" xlink:show=\"new\" xlink:title=\"psysml:b606a038-0c45-436f-a3a1-beef47fa0e17\" xlink:type=\"simple\"><polygon fill=\"#FFFFFF\" points=\"16,6,96,6,103,28.2969,504,28.2969,504,672,16,672,16,6\" style=\"stroke: #000000; stroke-width: 1.5;\"/><line style=\"stroke: #000000; stroke-width: 1.5;\" x1=\"16\" x2=\"103\" y1=\"28.2969\" y2=\"28.2969\"/><text fill=\"#000000\" font-family=\"sans-serif\" font-size=\"14\" font-weight=\"bold\" lengthAdjust=\"spacingAndGlyphs\" textLength=\"74\" x=\"20\" y=\"20.9951\">ActionTest</text></a><!--MD5=[d5e69f78d87373223dbae638b30a9c99]\n",
       "cluster E3--><a href=\"psysml:69e16b91-de61-4fe2-8ebf-63b040d0687a\" target=\"_top\" title=\"psysml:69e16b91-de61-4fe2-8ebf-63b040d0687a\" xlink:actuate=\"onRequest\" xlink:href=\"psysml:69e16b91-de61-4fe2-8ebf-63b040d0687a\" xlink:show=\"new\" xlink:title=\"psysml:69e16b91-de61-4fe2-8ebf-63b040d0687a\" xlink:type=\"simple\"><rect fill=\"#FFFFFF\" height=\"599\" id=\"E3\" rx=\"10\" ry=\"10\" style=\"stroke: #383838; stroke-width: 1.5;\" width=\"209\" x=\"271\" y=\"49\"/><rect fill=\"#F8F8F8\" height=\"37.9375\" rx=\"10\" ry=\"10\" style=\"stroke: #F8F8F8; stroke-width: 1.5;\" width=\"209\" x=\"271\" y=\"49\"/><rect fill=\"#F8F8F8\" height=\"10\" style=\"stroke: #F8F8F8; stroke-width: 1.5;\" width=\"209\" x=\"271\" y=\"76.9375\"/><rect fill=\"none\" height=\"599\" id=\"E3\" rx=\"10\" ry=\"10\" style=\"stroke: #383838; stroke-width: 1.5;\" width=\"209\" x=\"271\" y=\"49\"/><text fill=\"#000000\" font-family=\"sans-serif\" font-size=\"12\" font-style=\"italic\" lengthAdjust=\"spacingAndGlyphs\" textLength=\"53\" x=\"349\" y=\"65.1387\">«action»</text><text fill=\"#000000\" font-family=\"sans-serif\" font-size=\"12\" lengthAdjust=\"spacingAndGlyphs\" textLength=\"8\" x=\"371.5\" y=\"79.1074\">a</text><line style=\"stroke: #383838; stroke-width: 1.0;\" x1=\"271\" x2=\"480\" y1=\"86.9375\" y2=\"86.9375\"/></a><!--MD5=[b4997ac47864f28c2f74865a473b2911]\n",
       "class E2--><a href=\"psysml:f9329402-d9ed-482b-aa71-2e931e2796d7\" target=\"_top\" title=\"psysml:f9329402-d9ed-482b-aa71-2e931e2796d7\" xlink:actuate=\"onRequest\" xlink:href=\"psysml:f9329402-d9ed-482b-aa71-2e931e2796d7\" xlink:show=\"new\" xlink:title=\"psysml:f9329402-d9ed-482b-aa71-2e931e2796d7\" xlink:type=\"simple\"><rect fill=\"#FFFFFF\" height=\"45.9375\" id=\"E2\" style=\"stroke: #383838; stroke-width: 1.5;\" width=\"99\" x=\"155.5\" y=\"87\"/><text fill=\"#000000\" font-family=\"sans-serif\" font-size=\"12\" font-style=\"italic\" lengthAdjust=\"spacingAndGlyphs\" textLength=\"97\" x=\"156.5\" y=\"103.1387\">«attribute  def»</text><text fill=\"#000000\" font-family=\"sans-serif\" font-size=\"12\" lengthAdjust=\"spacingAndGlyphs\" textLength=\"8\" x=\"201\" y=\"117.1074\">S</text><line style=\"stroke: #383838; stroke-width: 1.5;\" x1=\"156.5\" x2=\"253.5\" y1=\"124.9375\" y2=\"124.9375\"/></a><polygon fill=\"#F8F8F8\" points=\"428,194,440,206,428,218,416,206,428,194\" style=\"stroke: #383838; stroke-width: 1.5;\"/><!--MD5=[21dd76c19d33815960c0e92fef8f0eef]\n",
       "entity E5--><a href=\"psysml:dcf8e234-4de8-4cb8-a947-17c2138066f0\" target=\"_top\" title=\"psysml:dcf8e234-4de8-4cb8-a947-17c2138066f0\" xlink:actuate=\"onRequest\" xlink:href=\"psysml:dcf8e234-4de8-4cb8-a947-17c2138066f0\" xlink:show=\"new\" xlink:title=\"psysml:dcf8e234-4de8-4cb8-a947-17c2138066f0\" xlink:type=\"simple\"><polygon fill=\"#F8F8F8\" points=\"287,279,287,333.5938,427,333.5938,407,306.2969,427,279\" style=\"stroke: #000000; stroke-width: 1.5;\"/><text fill=\"#000000\" font-family=\"sans-serif\" font-size=\"14\" font-style=\"italic\" lengthAdjust=\"spacingAndGlyphs\" textLength=\"111\" x=\"294\" y=\"301.9951\">«accept action»</text><text fill=\"#000000\" font-family=\"sans-serif\" font-size=\"14\" lengthAdjust=\"spacingAndGlyphs\" textLength=\"9\" x=\"345\" y=\"319.292\">S</text></a><!--MD5=[24d87cdf3002d433f401b2a2aa9f9f65]\n",
       "entity E6--><a href=\"psysml:18c3d457-6bb3-4962-a480-0e1b2254a09a\" target=\"_top\" title=\"psysml:18c3d457-6bb3-4962-a480-0e1b2254a09a\" xlink:actuate=\"onRequest\" xlink:href=\"psysml:18c3d457-6bb3-4962-a480-0e1b2254a09a\" xlink:show=\"new\" xlink:title=\"psysml:18c3d457-6bb3-4962-a480-0e1b2254a09a\" xlink:type=\"simple\"><polygon fill=\"#F8F8F8\" points=\"287,411,287,465.5938,395,465.5938,415,438.2969,395,411\" style=\"stroke: #000000; stroke-width: 1.5;\"/><text fill=\"#000000\" font-family=\"sans-serif\" font-size=\"14\" font-style=\"italic\" lengthAdjust=\"spacingAndGlyphs\" textLength=\"99\" x=\"294\" y=\"433.9951\">«send action»</text><text fill=\"#000000\" font-family=\"sans-serif\" font-size=\"14\" lengthAdjust=\"spacingAndGlyphs\" textLength=\"65\" x=\"311\" y=\"451.292\">S() to  B()</text></a><polygon fill=\"#F8F8F8\" points=\"426,527,438,539,426,551,414,539,426,527\" style=\"stroke: #383838; stroke-width: 1.5;\"/><ellipse cx=\"428\" cy=\"110\" fill=\"#000000\" rx=\"10\" ry=\"10\" style=\"stroke: none; stroke-width: 1.0;\"/><ellipse cx=\"426\" cy=\"622\" fill=\"none\" rx=\"10\" ry=\"10\" style=\"stroke: #000000; stroke-width: 1.0;\"/><ellipse cx=\"426.5\" cy=\"622.5\" fill=\"#000000\" rx=\"6\" ry=\"6\" style=\"stroke: none; stroke-width: 1.0;\"/><g id=\"E1.E8\"><a href=\"psysml:530e5343-b7af-483f-85a0-93ec425d0302\" target=\"_top\" title=\"psysml:530e5343-b7af-483f-85a0-93ec425d0302\" xlink:actuate=\"onRequest\" xlink:href=\"psysml:530e5343-b7af-483f-85a0-93ec425d0302\" xlink:show=\"new\" xlink:title=\"psysml:530e5343-b7af-483f-85a0-93ec425d0302\" xlink:type=\"simple\"><rect fill=\"#FFFFFF\" height=\"42.9375\" id=\"E8\" style=\"stroke: #383838; stroke-width: 1.5;\" width=\"88\" x=\"32\" y=\"88.5\"/><rect fill=\"#F8F8F8\" height=\"37.9375\" style=\"stroke: #383838; stroke-width: 1.5;\" width=\"88\" x=\"32\" y=\"88.5\"/><text fill=\"#000000\" font-family=\"sans-serif\" font-size=\"12\" font-style=\"italic\" lengthAdjust=\"spacingAndGlyphs\" textLength=\"81\" x=\"35.5\" y=\"104.6387\">«action  def»</text><text fill=\"#000000\" font-family=\"sans-serif\" font-size=\"12\" lengthAdjust=\"spacingAndGlyphs\" textLength=\"8\" x=\"72\" y=\"118.6074\">B</text></a></g><!--MD5=[f47e10efcf9a6752d55dae986d790ed9]\n",
       "link *start*E3 to E4--><a href=\"psysml:8ec85343-59fa-499c-a77c-a2bbf8c30a9c\" target=\"_top\" title=\"psysml:8ec85343-59fa-499c-a77c-a2bbf8c30a9c\" xlink:actuate=\"onRequest\" xlink:href=\"psysml:8ec85343-59fa-499c-a77c-a2bbf8c30a9c\" xlink:show=\"new\" xlink:title=\"psysml:8ec85343-59fa-499c-a77c-a2bbf8c30a9c\" xlink:type=\"simple\"><path d=\"M428,120.01 C428,135.81 428,168.69 428,188.61 \" fill=\"none\" id=\"*start*E3-&gt;E4\" style=\"stroke: #383838; stroke-width: 1.0;\"/><polygon fill=\"#383838\" points=\"428,193.85,432,184.85,428,188.85,424,184.85,428,193.85\" style=\"stroke: #383838; stroke-width: 1.0;\"/></a><!--MD5=[d19f2eb34364d71b67042106d92f540b]\n",
       "link E7 to *end*E3--><a href=\"psysml:0d9f4e26-bf93-4aba-a8c6-6dafeae60007\" target=\"_top\" title=\"psysml:0d9f4e26-bf93-4aba-a8c6-6dafeae60007\" xlink:actuate=\"onRequest\" xlink:href=\"psysml:0d9f4e26-bf93-4aba-a8c6-6dafeae60007\" xlink:show=\"new\" xlink:title=\"psysml:0d9f4e26-bf93-4aba-a8c6-6dafeae60007\" xlink:type=\"simple\"><path d=\"M426,551.26 C426,565.66 426,590.63 426,606.46 \" fill=\"none\" id=\"E7-&gt;*end*E3\" style=\"stroke: #383838; stroke-width: 1.0;\"/><polygon fill=\"#383838\" points=\"426,611.84,430,602.84,426,606.84,422,602.84,426,611.84\" style=\"stroke: #383838; stroke-width: 1.0;\"/></a><!--MD5=[1b7591eae5389033d8d09a9d6721a717]\n",
       "link E4 to E5--><a href=\"psysml:0f743cc2-6e19-41e4-aad8-79cb567e3158\" target=\"_top\" title=\"psysml:0f743cc2-6e19-41e4-aad8-79cb567e3158\" xlink:actuate=\"onRequest\" xlink:href=\"psysml:0f743cc2-6e19-41e4-aad8-79cb567e3158\" xlink:show=\"new\" xlink:title=\"psysml:0f743cc2-6e19-41e4-aad8-79cb567e3158\" xlink:type=\"simple\"><path d=\"M423.34,213.46 C414.55,225.66 394.99,252.8 379.37,274.46 \" fill=\"none\" id=\"E4-&gt;E5\" style=\"stroke: #383838; stroke-width: 1.0;\"/><polygon fill=\"#383838\" points=\"376.31,278.71,384.8093,273.7339,379.227,274.6491,378.3119,269.0667,376.31,278.71\" style=\"stroke: #383838; stroke-width: 1.0;\"/><text fill=\"#000000\" font-family=\"sans-serif\" font-size=\"13\" lengthAdjust=\"spacingAndGlyphs\" textLength=\"7\" x=\"372.7684\" y=\"268.1162\">*</text></a><!--MD5=[9120cf2e5df3bff93db8f754bbbc09b4]\n",
       "link E5 to E6--><a href=\"psysml:3404b4e6-fa1c-4cf0-a87f-a7f8eafbc3bc\" target=\"_top\" title=\"psysml:3404b4e6-fa1c-4cf0-a87f-a7f8eafbc3bc\" xlink:actuate=\"onRequest\" xlink:href=\"psysml:3404b4e6-fa1c-4cf0-a87f-a7f8eafbc3bc\" xlink:show=\"new\" xlink:title=\"psysml:3404b4e6-fa1c-4cf0-a87f-a7f8eafbc3bc\" xlink:type=\"simple\"><path d=\"M355.77,334.12 C354.81,354.89 353.48,383.8 352.46,405.77 \" fill=\"none\" id=\"E5-&gt;E6\" style=\"stroke: #383838; stroke-width: 1.0;\"/><polygon fill=\"#383838\" points=\"352.23,410.91,356.6368,402.1021,352.4583,405.9152,348.6452,401.7367,352.23,410.91\" style=\"stroke: #383838; stroke-width: 1.0;\"/><text fill=\"#000000\" font-family=\"sans-serif\" font-size=\"13\" lengthAdjust=\"spacingAndGlyphs\" textLength=\"7\" x=\"344.7051\" y=\"399.9247\">*</text></a><!--MD5=[02c70b7c851c11e3980e4e90450dc5dd]\n",
       "link E6 to E7--><a href=\"psysml:a56f0975-9bdd-4db4-ac34-32a8d14536cf\" target=\"_top\" title=\"psysml:a56f0975-9bdd-4db4-ac34-32a8d14536cf\" xlink:actuate=\"onRequest\" xlink:href=\"psysml:a56f0975-9bdd-4db4-ac34-32a8d14536cf\" xlink:show=\"new\" xlink:title=\"psysml:a56f0975-9bdd-4db4-ac34-32a8d14536cf\" xlink:type=\"simple\"><path d=\"M371.3,466.16 C386.71,486.4 407.07,513.14 418.09,527.61 \" fill=\"none\" id=\"E6-&gt;E7\" style=\"stroke: #383838; stroke-width: 1.0;\"/><polygon fill=\"#383838\" points=\"421.2,531.69,418.9398,522.104,418.1749,527.7089,412.57,526.9441,421.2,531.69\" style=\"stroke: #383838; stroke-width: 1.0;\"/><text fill=\"#000000\" font-family=\"sans-serif\" font-size=\"13\" lengthAdjust=\"spacingAndGlyphs\" textLength=\"7\" x=\"406.9375\" y=\"515.8563\">*</text></a><!--MD5=[6bdd27f9905911a7e892a3dc65cf6b7c]\n",
       "link E7 to E4--><a href=\"psysml:2a79c4d0-9744-4107-95b5-d9c642bb083b\" target=\"_top\" title=\"psysml:2a79c4d0-9744-4107-95b5-d9c642bb083b\" xlink:actuate=\"onRequest\" xlink:href=\"psysml:2a79c4d0-9744-4107-95b5-d9c642bb083b\" xlink:show=\"new\" xlink:title=\"psysml:2a79c4d0-9744-4107-95b5-d9c642bb083b\" xlink:type=\"simple\"><path d=\"M427.98,528.56 C434.8,494.71 456.32,376.18 445,279 C442.59,258.32 436.42,234.96 432.21,220.61 \" fill=\"none\" id=\"E7-&gt;E4\" style=\"stroke: #383838; stroke-width: 1.0;\"/><polygon fill=\"#383838\" points=\"430.76,215.75,429.4935,225.5171,432.1863,220.5423,437.1611,223.2351,430.76,215.75\" style=\"stroke: #383838; stroke-width: 1.0;\"/><text fill=\"#000000\" font-family=\"sans-serif\" font-size=\"13\" lengthAdjust=\"spacingAndGlyphs\" textLength=\"36\" x=\"448\" y=\"377.0669\">[true]</text><text fill=\"#000000\" font-family=\"sans-serif\" font-size=\"13\" lengthAdjust=\"spacingAndGlyphs\" textLength=\"7\" x=\"423.3253\" y=\"237.9903\">*</text></a><!--MD5=[7ded468370d9b1c8c776f4e505f34365]\n",
       "@startuml\r\n",
       " skinparam monochrome true\r\n",
       "skinparam classbackgroundcolor white\r\n",
       "skinparam shadowing false\r\n",
       "skinparam wrapWidth 300\r\n",
       "hide circle\r\n",
       "\r\n",
       "package \"ActionTest\" as E1  [[psysml:b606a038-0c45-436f-a3a1-beef47fa0e17 ]]  {\r\n",
       "comp def \"S\" as E2  <<(T,blue) attribute  def>> [[psysml:f9329402-d9ed-482b-aa71-2e931e2796d7 ]] {\r\n",
       "}\r\n",
       "rec usage \"a\" as E3  <<(T,blue) action>> [[psysml:69e16b91-de61-4fe2-8ebf-63b040d0687a ]] {\r\n",
       "choice \"m\" as E4  [[psysml:ba661374-e1ab-49de-aa21-c62362c65829 ]] \r\n",
       "accept \" S\" as E5 << accept action>> [[psysml:dcf8e234-4de8-4cb8-a947-17c2138066f0 ]] \r\n",
       "send \" S() to  B()\" as E6 << send action>> [[psysml:18c3d457-6bb3-4962-a480-0e1b2254a09a ]] \r\n",
       "choice \"<s>noname</s>\" as E7  [[psysml:1cf4a57b-2f41-48db-bb2e-4817b665eacc ]] \r\n",
       "[*] - -> E4 [[psysml:8ec85343-59fa-499c-a77c-a2bbf8c30a9c ]] \r\n",
       "E7  - -> [*] [[psysml:0d9f4e26-bf93-4aba-a8c6-6dafeae60007 ]] \r\n",
       "}\r\n",
       "\r\n",
       "rec def \"B\" as E8  <<(T,blue) action  def>> [[psysml:530e5343-b7af-483f-85a0-93ec425d0302 ]] {\r\n",
       "}\r\n",
       "\r\n",
       "}\r\n",
       "E4 - -> \"*\"E5 [[psysml:0f743cc2-6e19-41e4-aad8-79cb567e3158 ]] \r\n",
       "E5 - -> \"*\"E6 [[psysml:3404b4e6-fa1c-4cf0-a87f-a7f8eafbc3bc ]] \r\n",
       "E6 - -> \"*\"E7 [[psysml:a56f0975-9bdd-4db4-ac34-32a8d14536cf ]] \r\n",
       "E7  - -> \"*\"E4 [[psysml:2a79c4d0-9744-4107-95b5-d9c642bb083b ]] : [true]\r\n",
       "@enduml\r\n",
       "\n",
       "PlantUML version 1.2020.13(Sat Jun 13 12:26:38 UTC 2020)\n",
       "(EPL source distribution)\n",
       "Java Runtime: OpenJDK Runtime Environment\n",
       "JVM: OpenJDK 64-Bit Server VM\n",
       "Default Encoding: UTF-8\n",
       "Language: en\n",
       "Country: null\n",
       "--></g></svg>"
      ]
     },
     "execution_count": 2,
     "metadata": {},
     "output_type": "execute_result"
    }
   ],
   "source": [
    "%viz --style=\"COMPTREE\" --view=\"Default\" \"ActionTest\""
   ]
  },
  {
   "cell_type": "code",
   "execution_count": 3,
   "id": "8544f8d4",
   "metadata": {
    "execution": {
     "iopub.execute_input": "2021-10-25T08:21:21.105203Z",
     "iopub.status.busy": "2021-10-25T08:21:21.104924Z",
     "iopub.status.idle": "2021-10-25T08:21:21.297546Z",
     "shell.execute_reply": "2021-10-25T08:21:21.295170Z"
    }
   },
   "outputs": [
    {
     "data": {
      "image/svg+xml": [
       "<?xml version=\"1.0\" encoding=\"UTF-8\" standalone=\"no\"?><svg xmlns=\"http://www.w3.org/2000/svg\" xmlns:xlink=\"http://www.w3.org/1999/xlink\" contentScriptType=\"application/ecmascript\" contentStyleType=\"text/css\" height=\"479px\" preserveAspectRatio=\"none\" style=\"width:698px;height:479px;\" version=\"1.1\" viewBox=\"0 0 698 479\" width=\"698px\" zoomAndPan=\"magnify\"><defs/><g><!--MD5=[fbc87193dbaf4d95561dea2c320d4a47]\n",
       "cluster E1--><a href=\"psysml:b606a038-0c45-436f-a3a1-beef47fa0e17\" target=\"_top\" title=\"psysml:b606a038-0c45-436f-a3a1-beef47fa0e17\" xlink:actuate=\"onRequest\" xlink:href=\"psysml:b606a038-0c45-436f-a3a1-beef47fa0e17\" xlink:show=\"new\" xlink:title=\"psysml:b606a038-0c45-436f-a3a1-beef47fa0e17\" xlink:type=\"simple\"><polygon fill=\"#FFFFFF\" points=\"16,6,96,6,103,28.2969,676,28.2969,676,467,16,467,16,6\" style=\"stroke: #000000; stroke-width: 1.5;\"/><line style=\"stroke: #000000; stroke-width: 1.5;\" x1=\"16\" x2=\"103\" y1=\"28.2969\" y2=\"28.2969\"/><text fill=\"#000000\" font-family=\"sans-serif\" font-size=\"14\" font-weight=\"bold\" lengthAdjust=\"spacingAndGlyphs\" textLength=\"74\" x=\"20\" y=\"20.9951\">ActionTest</text></a><!--MD5=[b4997ac47864f28c2f74865a473b2911]\n",
       "class E2--><a href=\"psysml:f9329402-d9ed-482b-aa71-2e931e2796d7\" target=\"_top\" title=\"psysml:f9329402-d9ed-482b-aa71-2e931e2796d7\" xlink:actuate=\"onRequest\" xlink:href=\"psysml:f9329402-d9ed-482b-aa71-2e931e2796d7\" xlink:show=\"new\" xlink:title=\"psysml:f9329402-d9ed-482b-aa71-2e931e2796d7\" xlink:type=\"simple\"><rect fill=\"#FFFFFF\" height=\"45.9375\" id=\"E2\" style=\"stroke: #383838; stroke-width: 1.5;\" width=\"99\" x=\"283.5\" y=\"405\"/><text fill=\"#000000\" font-family=\"sans-serif\" font-size=\"12\" font-style=\"italic\" lengthAdjust=\"spacingAndGlyphs\" textLength=\"97\" x=\"284.5\" y=\"421.1387\">«attribute  def»</text><text fill=\"#000000\" font-family=\"sans-serif\" font-size=\"12\" lengthAdjust=\"spacingAndGlyphs\" textLength=\"8\" x=\"329\" y=\"435.1074\">S</text><line style=\"stroke: #383838; stroke-width: 1.5;\" x1=\"284.5\" x2=\"381.5\" y1=\"442.9375\" y2=\"442.9375\"/></a><!--MD5=[09b614a08d8cba4a07c9adeb5e0fee81]\n",
       "class E3--><a href=\"psysml:69e16b91-de61-4fe2-8ebf-63b040d0687a\" target=\"_top\" title=\"psysml:69e16b91-de61-4fe2-8ebf-63b040d0687a\" xlink:actuate=\"onRequest\" xlink:href=\"psysml:69e16b91-de61-4fe2-8ebf-63b040d0687a\" xlink:show=\"new\" xlink:title=\"psysml:69e16b91-de61-4fe2-8ebf-63b040d0687a\" xlink:type=\"simple\"><rect fill=\"#FFFFFF\" height=\"156.375\" id=\"E3\" rx=\"10\" ry=\"10\" style=\"stroke: #383838; stroke-width: 1.5;\" width=\"79\" x=\"293.5\" y=\"41\"/><text fill=\"#000000\" font-family=\"sans-serif\" font-size=\"12\" font-style=\"italic\" lengthAdjust=\"spacingAndGlyphs\" textLength=\"53\" x=\"306.5\" y=\"57.1387\">«action»</text><text fill=\"#000000\" font-family=\"sans-serif\" font-size=\"12\" lengthAdjust=\"spacingAndGlyphs\" textLength=\"8\" x=\"329\" y=\"71.1074\">a</text><line style=\"stroke: #383838; stroke-width: 1.5;\" x1=\"294.5\" x2=\"371.5\" y1=\"78.9375\" y2=\"78.9375\"/><text fill=\"#000000\" font-family=\"sans-serif\" font-size=\"11\" lengthAdjust=\"spacingAndGlyphs\" textLength=\"11\" x=\"299.5\" y=\"109.9526\">to</text><text fill=\"#000000\" font-family=\"sans-serif\" font-size=\"11\" lengthAdjust=\"spacingAndGlyphs\" textLength=\"11\" x=\"299.5\" y=\"122.7573\">to</text><text fill=\"#000000\" font-family=\"sans-serif\" font-size=\"11\" lengthAdjust=\"spacingAndGlyphs\" textLength=\"11\" x=\"299.5\" y=\"135.562\">to</text><text fill=\"#000000\" font-family=\"sans-serif\" font-size=\"11\" lengthAdjust=\"spacingAndGlyphs\" textLength=\"11\" x=\"299.5\" y=\"148.3667\">to</text><line style=\"stroke: #383838; stroke-width: 1.0;\" x1=\"294.5\" x2=\"297.5\" y1=\"93.3398\" y2=\"93.3398\"/><text fill=\"#000000\" font-family=\"sans-serif\" font-size=\"11\" lengthAdjust=\"spacingAndGlyphs\" textLength=\"71\" x=\"297.5\" y=\"96.6479\">successions</text><line style=\"stroke: #383838; stroke-width: 1.0;\" x1=\"368.5\" x2=\"371.5\" y1=\"93.3398\" y2=\"93.3398\"/><text fill=\"#000000\" font-family=\"sans-serif\" font-size=\"11\" lengthAdjust=\"spacingAndGlyphs\" textLength=\"0\" x=\"303.5\" y=\"177.9761\"/><text fill=\"#000000\" font-family=\"sans-serif\" font-size=\"11\" lengthAdjust=\"spacingAndGlyphs\" textLength=\"0\" x=\"303.5\" y=\"190.7808\"/><line style=\"stroke: #383838; stroke-width: 1.0;\" x1=\"294.5\" x2=\"302.5\" y1=\"161.3633\" y2=\"161.3633\"/><text fill=\"#000000\" font-family=\"sans-serif\" font-size=\"11\" lengthAdjust=\"spacingAndGlyphs\" textLength=\"61\" x=\"302.5\" y=\"164.6714\">transitions</text><line style=\"stroke: #383838; stroke-width: 1.0;\" x1=\"363.5\" x2=\"371.5\" y1=\"161.3633\" y2=\"161.3633\"/></a><!--MD5=[ebbe1d658d1005bcc118a6aa81145e00]\n",
       "class E4--><a href=\"psysml:d8f546a6-9527-45eb-b0f0-0c3fcbb6d2a9\" target=\"_top\" title=\"psysml:d8f546a6-9527-45eb-b0f0-0c3fcbb6d2a9\" xlink:actuate=\"onRequest\" xlink:href=\"psysml:d8f546a6-9527-45eb-b0f0-0c3fcbb6d2a9\" xlink:show=\"new\" xlink:title=\"psysml:d8f546a6-9527-45eb-b0f0-0c3fcbb6d2a9\" xlink:type=\"simple\"><rect fill=\"#FFFFFF\" height=\"45.9375\" id=\"E4\" rx=\"10\" ry=\"10\" style=\"stroke: #383838; stroke-width: 1.5;\" width=\"87\" x=\"32.5\" y=\"278\"/><text fill=\"#000000\" font-family=\"sans-serif\" font-size=\"12\" font-style=\"italic\" lengthAdjust=\"spacingAndGlyphs\" textLength=\"53\" x=\"49.5\" y=\"294.1387\">«action»</text><text fill=\"#000000\" font-family=\"sans-serif\" font-size=\"12\" lengthAdjust=\"spacingAndGlyphs\" textLength=\"77\" x=\"35.5\" y=\"308.1074\">start: Action</text><line style=\"stroke: #383838; stroke-width: 1.5;\" x1=\"33.5\" x2=\"118.5\" y1=\"315.9375\" y2=\"315.9375\"/></a><!--MD5=[270fce915f116d4de14055a7c1d9a0f3]\n",
       "class E5--><a href=\"psysml:ba661374-e1ab-49de-aa21-c62362c65829\" target=\"_top\" title=\"psysml:ba661374-e1ab-49de-aa21-c62362c65829\" xlink:actuate=\"onRequest\" xlink:href=\"psysml:ba661374-e1ab-49de-aa21-c62362c65829\" xlink:show=\"new\" xlink:title=\"psysml:ba661374-e1ab-49de-aa21-c62362c65829\" xlink:type=\"simple\"><rect fill=\"#FFFFFF\" height=\"45.9375\" id=\"E5\" rx=\"10\" ry=\"10\" style=\"stroke: #383838; stroke-width: 1.5;\" width=\"92\" x=\"155\" y=\"278\"/><text fill=\"#000000\" font-family=\"sans-serif\" font-size=\"12\" font-style=\"italic\" lengthAdjust=\"spacingAndGlyphs\" textLength=\"90\" x=\"156\" y=\"294.1387\">«merge node»</text><text fill=\"#000000\" font-family=\"sans-serif\" font-size=\"12\" lengthAdjust=\"spacingAndGlyphs\" textLength=\"11\" x=\"195.5\" y=\"308.1074\">m</text><line style=\"stroke: #383838; stroke-width: 1.5;\" x1=\"156\" x2=\"246\" y1=\"315.9375\" y2=\"315.9375\"/></a><!--MD5=[60a26617385b1d2d0262a64233df1f8d]\n",
       "class E6--><a href=\"psysml:dcf8e234-4de8-4cb8-a947-17c2138066f0\" target=\"_top\" title=\"psysml:dcf8e234-4de8-4cb8-a947-17c2138066f0\" xlink:actuate=\"onRequest\" xlink:href=\"psysml:dcf8e234-4de8-4cb8-a947-17c2138066f0\" xlink:show=\"new\" xlink:title=\"psysml:dcf8e234-4de8-4cb8-a947-17c2138066f0\" xlink:type=\"simple\"><rect fill=\"#FFFFFF\" height=\"88.3516\" id=\"E6\" rx=\"10\" ry=\"10\" style=\"stroke: #383838; stroke-width: 1.5;\" width=\"102\" x=\"282\" y=\"257\"/><text fill=\"#000000\" font-family=\"sans-serif\" font-size=\"12\" font-style=\"italic\" lengthAdjust=\"spacingAndGlyphs\" textLength=\"100\" x=\"283\" y=\"273.1387\">«accept action»</text><text fill=\"#000000\" font-family=\"sans-serif\" font-size=\"12\" lengthAdjust=\"spacingAndGlyphs\" text-decoration=\"line-through\" textLength=\"51\" x=\"307.5\" y=\"287.1074\">noname</text><line style=\"stroke: #383838; stroke-width: 1.5;\" x1=\"283\" x2=\"383\" y1=\"294.9375\" y2=\"294.9375\"/><text fill=\"#000000\" font-family=\"sans-serif\" font-size=\"11\" font-weight=\"bold\" lengthAdjust=\"spacingAndGlyphs\" textLength=\"10\" x=\"288\" y=\"325.9526\">in</text><text fill=\"#000000\" font-family=\"sans-serif\" font-size=\"11\" lengthAdjust=\"spacingAndGlyphs\" textLength=\"60\" x=\"302\" y=\"325.9526\">payload: S</text><text fill=\"#000000\" font-family=\"sans-serif\" font-size=\"11\" font-weight=\"bold\" lengthAdjust=\"spacingAndGlyphs\" textLength=\"10\" x=\"288\" y=\"338.7573\">in</text><text fill=\"#000000\" font-family=\"sans-serif\" font-size=\"11\" lengthAdjust=\"spacingAndGlyphs\" textLength=\"46\" x=\"302\" y=\"338.7573\">receiver</text><line style=\"stroke: #383838; stroke-width: 1.0;\" x1=\"283\" x2=\"299.5\" y1=\"309.3398\" y2=\"309.3398\"/><text fill=\"#000000\" font-family=\"sans-serif\" font-size=\"11\" lengthAdjust=\"spacingAndGlyphs\" textLength=\"67\" x=\"299.5\" y=\"312.6479\">parameters</text><line style=\"stroke: #383838; stroke-width: 1.0;\" x1=\"366.5\" x2=\"383\" y1=\"309.3398\" y2=\"309.3398\"/></a><!--MD5=[2156ba9850f5573cc1fc38a6a4b2f02b]\n",
       "class E7--><a href=\"psysml:18c3d457-6bb3-4962-a480-0e1b2254a09a\" target=\"_top\" title=\"psysml:18c3d457-6bb3-4962-a480-0e1b2254a09a\" xlink:actuate=\"onRequest\" xlink:href=\"psysml:18c3d457-6bb3-4962-a480-0e1b2254a09a\" xlink:show=\"new\" xlink:title=\"psysml:18c3d457-6bb3-4962-a480-0e1b2254a09a\" xlink:type=\"simple\"><rect fill=\"#FFFFFF\" height=\"88.3516\" id=\"E7\" rx=\"10\" ry=\"10\" style=\"stroke: #383838; stroke-width: 1.5;\" width=\"101\" x=\"419.5\" y=\"257\"/><text fill=\"#000000\" font-family=\"sans-serif\" font-size=\"12\" font-style=\"italic\" lengthAdjust=\"spacingAndGlyphs\" textLength=\"88\" x=\"426\" y=\"273.1387\">«send action»</text><text fill=\"#000000\" font-family=\"sans-serif\" font-size=\"12\" lengthAdjust=\"spacingAndGlyphs\" text-decoration=\"line-through\" textLength=\"51\" x=\"444.5\" y=\"287.1074\">noname</text><line style=\"stroke: #383838; stroke-width: 1.5;\" x1=\"420.5\" x2=\"519.5\" y1=\"294.9375\" y2=\"294.9375\"/><text fill=\"#000000\" font-family=\"sans-serif\" font-size=\"11\" font-weight=\"bold\" lengthAdjust=\"spacingAndGlyphs\" textLength=\"10\" x=\"425.5\" y=\"325.9526\">in</text><text fill=\"#000000\" font-family=\"sans-serif\" font-size=\"11\" lengthAdjust=\"spacingAndGlyphs\" textLength=\"73\" x=\"439.5\" y=\"325.9526\">payload=S();</text><text fill=\"#000000\" font-family=\"sans-serif\" font-size=\"11\" font-weight=\"bold\" lengthAdjust=\"spacingAndGlyphs\" textLength=\"10\" x=\"425.5\" y=\"338.7573\">in</text><text fill=\"#000000\" font-family=\"sans-serif\" font-size=\"11\" lengthAdjust=\"spacingAndGlyphs\" textLength=\"75\" x=\"439.5\" y=\"338.7573\">receiver=B();</text><line style=\"stroke: #383838; stroke-width: 1.0;\" x1=\"420.5\" x2=\"436.5\" y1=\"309.3398\" y2=\"309.3398\"/><text fill=\"#000000\" font-family=\"sans-serif\" font-size=\"11\" lengthAdjust=\"spacingAndGlyphs\" textLength=\"67\" x=\"436.5\" y=\"312.6479\">parameters</text><line style=\"stroke: #383838; stroke-width: 1.0;\" x1=\"503.5\" x2=\"519.5\" y1=\"309.3398\" y2=\"309.3398\"/></a><!--MD5=[b9389687b975829384b498ac4b7476b2]\n",
       "class E8--><a href=\"psysml:1cf4a57b-2f41-48db-bb2e-4817b665eacc\" target=\"_top\" title=\"psysml:1cf4a57b-2f41-48db-bb2e-4817b665eacc\" xlink:actuate=\"onRequest\" xlink:href=\"psysml:1cf4a57b-2f41-48db-bb2e-4817b665eacc\" xlink:show=\"new\" xlink:title=\"psysml:1cf4a57b-2f41-48db-bb2e-4817b665eacc\" xlink:type=\"simple\"><rect fill=\"#FFFFFF\" height=\"45.9375\" id=\"E8\" rx=\"10\" ry=\"10\" style=\"stroke: #383838; stroke-width: 1.5;\" width=\"104\" x=\"556\" y=\"278\"/><text fill=\"#000000\" font-family=\"sans-serif\" font-size=\"12\" font-style=\"italic\" lengthAdjust=\"spacingAndGlyphs\" textLength=\"102\" x=\"557\" y=\"294.1387\">«decision node»</text><text fill=\"#000000\" font-family=\"sans-serif\" font-size=\"12\" lengthAdjust=\"spacingAndGlyphs\" text-decoration=\"line-through\" textLength=\"51\" x=\"582.5\" y=\"308.1074\">noname</text><line style=\"stroke: #383838; stroke-width: 1.5;\" x1=\"557\" x2=\"659\" y1=\"315.9375\" y2=\"315.9375\"/></a><!--MD5=[fd4143e9d270a159db93a4ea2a975926]\n",
       "class E9--><a href=\"psysml:530e5343-b7af-483f-85a0-93ec425d0302\" target=\"_top\" title=\"psysml:530e5343-b7af-483f-85a0-93ec425d0302\" xlink:actuate=\"onRequest\" xlink:href=\"psysml:530e5343-b7af-483f-85a0-93ec425d0302\" xlink:show=\"new\" xlink:title=\"psysml:530e5343-b7af-483f-85a0-93ec425d0302\" xlink:type=\"simple\"><rect fill=\"#FFFFFF\" height=\"45.9375\" id=\"E9\" style=\"stroke: #383838; stroke-width: 1.5;\" width=\"83\" x=\"104.5\" y=\"96\"/><text fill=\"#000000\" font-family=\"sans-serif\" font-size=\"12\" font-style=\"italic\" lengthAdjust=\"spacingAndGlyphs\" textLength=\"81\" x=\"105.5\" y=\"112.1387\">«action  def»</text><text fill=\"#000000\" font-family=\"sans-serif\" font-size=\"12\" lengthAdjust=\"spacingAndGlyphs\" textLength=\"8\" x=\"142\" y=\"126.1074\">B</text><line style=\"stroke: #383838; stroke-width: 1.5;\" x1=\"105.5\" x2=\"186.5\" y1=\"133.9375\" y2=\"133.9375\"/></a><!--MD5=[4672eba38e49728da53d11aeb285b987]\n",
       "reverse link E3 to E4--><a href=\"psysml:4e23b20a-a36f-46ec-8d5d-d94d3421b796\" target=\"_top\" title=\"psysml:4e23b20a-a36f-46ec-8d5d-d94d3421b796\" xlink:actuate=\"onRequest\" xlink:href=\"psysml:4e23b20a-a36f-46ec-8d5d-d94d3421b796\" xlink:show=\"new\" xlink:title=\"psysml:4e23b20a-a36f-46ec-8d5d-d94d3421b796\" xlink:type=\"simple\"><path d=\"M280.68,156.48 C241.18,184.05 185.65,222.85 137,257 C127.35,263.77 116.85,271.17 107.33,277.88 \" fill=\"none\" id=\"E3&lt;-E4\" style=\"stroke: #383838; stroke-width: 1.0; stroke-dasharray: 7.0,7.0;\"/><ellipse cx=\"286.6201\" cy=\"152.349\" fill=\"#FFFFFF\" rx=\"8\" ry=\"8\" style=\"stroke: #383838; stroke-width: 1.0;\"/><line style=\"stroke: #383838; stroke-width: 1.0;\" x1=\"280.0601\" x2=\"293.18\" y1=\"156.928\" y2=\"147.77\"/><line style=\"stroke: #383838; stroke-width: 1.0;\" x1=\"282.0411\" x2=\"291.1991\" y1=\"145.7891\" y2=\"158.9089\"/></a><!--MD5=[191cde3d490a3f6d7bb551fe3ddca469]\n",
       "reverse link E3 to E5--><a href=\"psysml:ad14583f-f40d-4d66-bbbd-cfa822b8d260\" target=\"_top\" title=\"psysml:ad14583f-f40d-4d66-bbbd-cfa822b8d260\" xlink:actuate=\"onRequest\" xlink:href=\"psysml:ad14583f-f40d-4d66-bbbd-cfa822b8d260\" xlink:show=\"new\" xlink:title=\"psysml:ad14583f-f40d-4d66-bbbd-cfa822b8d260\" xlink:type=\"simple\"><path d=\"M285.45,184.85 C261.55,217.43 234.15,254.8 217.2,277.91 \" fill=\"none\" id=\"E3&lt;-E5\" style=\"stroke: #383838; stroke-width: 1.0;\"/><polygon fill=\"#383838\" points=\"293.4,174.01,286.6268,176.4846,286.3059,183.6885,293.0791,181.214,293.4,174.01\" style=\"stroke: #383838; stroke-width: 1.0;\"/><text fill=\"#000000\" font-family=\"sans-serif\" font-size=\"13\" lengthAdjust=\"spacingAndGlyphs\" textLength=\"7\" x=\"213.6131\" y=\"266.7821\">*</text></a><!--MD5=[1026b4b93417a13aa8999a858998add2]\n",
       "reverse link E3 to E6--><a href=\"psysml:02f2d6be-0a1b-48e7-9525-0788d6b31587\" target=\"_top\" title=\"psysml:02f2d6be-0a1b-48e7-9525-0788d6b31587\" xlink:actuate=\"onRequest\" xlink:href=\"psysml:02f2d6be-0a1b-48e7-9525-0788d6b31587\" xlink:show=\"new\" xlink:title=\"psysml:02f2d6be-0a1b-48e7-9525-0788d6b31587\" xlink:type=\"simple\"><path d=\"M333,210.12 C333,226.38 333,242.64 333,256.77 \" fill=\"none\" id=\"E3&lt;-E6\" style=\"stroke: #383838; stroke-width: 1.0;\"/><polygon fill=\"#383838\" points=\"333,197.12,329,203.12,333,209.12,337,203.12,333,197.12\" style=\"stroke: #383838; stroke-width: 1.0;\"/><text fill=\"#000000\" font-family=\"sans-serif\" font-size=\"13\" lengthAdjust=\"spacingAndGlyphs\" textLength=\"7\" x=\"325.4641\" y=\"245.899\">*</text></a><!--MD5=[3403bfa781cc3da0fd423dbab6f01c63]\n",
       "reverse link E6 to E2--><a href=\"psysml:415ec969-1049-4ff8-b1f4-3b78a625bc7d\" target=\"_top\" title=\"psysml:415ec969-1049-4ff8-b1f4-3b78a625bc7d\" xlink:actuate=\"onRequest\" xlink:href=\"psysml:415ec969-1049-4ff8-b1f4-3b78a625bc7d\" xlink:show=\"new\" xlink:title=\"psysml:415ec969-1049-4ff8-b1f4-3b78a625bc7d\" xlink:type=\"simple\"><path d=\"M320.31,358.11 C320,374.71 320.9,391.92 323.01,404.99 \" fill=\"none\" id=\"E6&lt;-E2\" style=\"stroke: #383838; stroke-width: 1.0;\"/><polygon fill=\"#FFFFFF\" points=\"320.82,345.02,316.5921,350.8617,320.3583,357.0111,324.5862,351.1695,320.82,345.02\" style=\"stroke: #383838; stroke-width: 1.0;\"/></a><!--MD5=[3403bfa781cc3da0fd423dbab6f01c63]\n",
       "reverse link E6 to E2--><a href=\"psysml:415ec969-1049-4ff8-b1f4-3b78a625bc7d\" target=\"_top\" title=\"psysml:415ec969-1049-4ff8-b1f4-3b78a625bc7d\" xlink:actuate=\"onRequest\" xlink:href=\"psysml:415ec969-1049-4ff8-b1f4-3b78a625bc7d\" xlink:show=\"new\" xlink:title=\"psysml:415ec969-1049-4ff8-b1f4-3b78a625bc7d\" xlink:type=\"simple\"><path d=\"M346.44,358.11 C346.76,374.71 345.81,391.92 343.57,404.99 \" fill=\"none\" id=\"E6&lt;-E2-1\" style=\"stroke: #383838; stroke-width: 1.0;\"/><polygon fill=\"#FFFFFF\" points=\"345.9,345.02,342.1473,351.1777,346.388,357.0101,350.1407,350.8524,345.9,345.02\" style=\"stroke: #383838; stroke-width: 1.0;\"/></a><!--MD5=[85760999379eecfd2565a9fecdca67e4]\n",
       "reverse link E3 to E7--><a href=\"psysml:6b163638-00d9-4d11-a021-492b992d4a3f\" target=\"_top\" title=\"psysml:6b163638-00d9-4d11-a021-492b992d4a3f\" xlink:actuate=\"onRequest\" xlink:href=\"psysml:6b163638-00d9-4d11-a021-492b992d4a3f\" xlink:show=\"new\" xlink:title=\"psysml:6b163638-00d9-4d11-a021-492b992d4a3f\" xlink:type=\"simple\"><path d=\"M380.73,182.71 C399.37,207.2 420.27,234.66 437.16,256.86 \" fill=\"none\" id=\"E3&lt;-E7\" style=\"stroke: #383838; stroke-width: 1.0;\"/><polygon fill=\"#383838\" points=\"372.63,172.06,373.0806,179.257,379.8974,181.6091,379.4467,174.4121,372.63,172.06\" style=\"stroke: #383838; stroke-width: 1.0;\"/><text fill=\"#000000\" font-family=\"sans-serif\" font-size=\"13\" lengthAdjust=\"spacingAndGlyphs\" textLength=\"7\" x=\"424.5954\" y=\"246.0028\">*</text></a><!--MD5=[4cb75b73ec3682b8f7f8edc9cc86126a]\n",
       "reverse link E3 to E8--><a href=\"psysml:e0686d6c-32a7-4788-b0ea-8926b68cc818\" target=\"_top\" title=\"psysml:e0686d6c-32a7-4788-b0ea-8926b68cc818\" xlink:actuate=\"onRequest\" xlink:href=\"psysml:e0686d6c-32a7-4788-b0ea-8926b68cc818\" xlink:show=\"new\" xlink:title=\"psysml:e0686d6c-32a7-4788-b0ea-8926b68cc818\" xlink:type=\"simple\"><path d=\"M383.69,153.18 C439.23,189.53 526.74,246.81 574.37,277.99 \" fill=\"none\" id=\"E3&lt;-E8\" style=\"stroke: #383838; stroke-width: 1.0;\"/><polygon fill=\"#383838\" points=\"372.69,145.98,375.5242,152.6108,382.735,152.5449,379.9008,145.9141,372.69,145.98\" style=\"stroke: #383838; stroke-width: 1.0;\"/></a><!--MD5=[a6aa4d09efc8157322ebeda7a01a8ac7]\n",
       "@startuml\r\n",
       " skinparam monochrome true\r\n",
       "skinparam classbackgroundcolor white\r\n",
       "skinparam shadowing false\r\n",
       "skinparam wrapWidth 300\r\n",
       "hide circle\r\n",
       "\r\n",
       "package \"ActionTest\" as E1  [[psysml:b606a038-0c45-436f-a3a1-beef47fa0e17 ]]  {\r\n",
       "comp def \"S\" as E2  <<(T,blue) attribute  def>> [[psysml:f9329402-d9ed-482b-aa71-2e931e2796d7 ]] {\r\n",
       "}\r\n",
       "comp usage \"a\" as E3  <<(T,blue) action>> [[psysml:69e16b91-de61-4fe2-8ebf-63b040d0687a ]] {\r\n",
       "- - successions - -\r\n",
       " to \r\n",
       " to \r\n",
       " to \r\n",
       " to \r\n",
       "- - transitions - -\r\n",
       "\r\n",
       "\r\n",
       "}\r\n",
       "comp usage \"start: Action \" as E4  <<(T,blue) action>> [[psysml:d8f546a6-9527-45eb-b0f0-0c3fcbb6d2a9 ]] {\r\n",
       "}\r\n",
       "comp usage \"m\" as E5  <<(T,blue) merge node>> [[psysml:ba661374-e1ab-49de-aa21-c62362c65829 ]] {\r\n",
       "}\r\n",
       "comp usage \"<s>noname</s>\" as E6 << accept action>> [[psysml:dcf8e234-4de8-4cb8-a947-17c2138066f0 ]] {\r\n",
       "- - parameters - -\r\n",
       "<b>in</b> payload: S\r\n",
       "<b>in</b> receiver\r\n",
       "}\r\n",
       "comp usage \"<s>noname</s>\" as E7 << send action>> [[psysml:18c3d457-6bb3-4962-a480-0e1b2254a09a ]] {\r\n",
       "- - parameters - -\r\n",
       "<b>in</b> payload=S(); \r\n",
       "<b>in</b> receiver=B(); \r\n",
       "}\r\n",
       "comp usage \"<s>noname</s>\" as E8  <<(T,blue) decision node>> [[psysml:1cf4a57b-2f41-48db-bb2e-4817b665eacc ]] {\r\n",
       "}\r\n",
       "comp def \"B\" as E9  <<(T,blue) action  def>> [[psysml:530e5343-b7af-483f-85a0-93ec425d0302 ]] {\r\n",
       "}\r\n",
       "}\r\n",
       "E3 +.. E4 [[psysml:4e23b20a-a36f-46ec-8d5d-d94d3421b796 ]] \r\n",
       "E3 *- - \"*\"E5 [[psysml:ad14583f-f40d-4d66-bbbd-cfa822b8d260 ]] \r\n",
       "E3 *- - \"*\"E6 [[psysml:02f2d6be-0a1b-48e7-9525-0788d6b31587 ]] \r\n",
       "E6 o- - E2 [[psysml:415ec969-1049-4ff8-b1f4-3b78a625bc7d ]] \r\n",
       "E6 o- - E2 [[psysml:415ec969-1049-4ff8-b1f4-3b78a625bc7d ]] \r\n",
       "E3 *- - \"*\"E7 [[psysml:6b163638-00d9-4d11-a021-492b992d4a3f ]] \r\n",
       "E3 *- - E8 [[psysml:e0686d6c-32a7-4788-b0ea-8926b68cc818 ]] \r\n",
       "@enduml\r\n",
       "\n",
       "PlantUML version 1.2020.13(Sat Jun 13 12:26:38 UTC 2020)\n",
       "(EPL source distribution)\n",
       "Java Runtime: OpenJDK Runtime Environment\n",
       "JVM: OpenJDK 64-Bit Server VM\n",
       "Default Encoding: UTF-8\n",
       "Language: en\n",
       "Country: null\n",
       "--></g></svg>"
      ]
     },
     "execution_count": 3,
     "metadata": {},
     "output_type": "execute_result"
    }
   ],
   "source": [
    "%viz --style=\"COMPTREE\" --view=\"Tree\" \"ActionTest\""
   ]
  },
  {
   "cell_type": "code",
   "execution_count": 4,
   "id": "ea1f0205",
   "metadata": {
    "execution": {
     "iopub.execute_input": "2021-10-25T08:21:21.346525Z",
     "iopub.status.busy": "2021-10-25T08:21:21.345949Z",
     "iopub.status.idle": "2021-10-25T08:21:21.351704Z",
     "shell.execute_reply": "2021-10-25T08:21:21.352031Z"
    }
   },
   "outputs": [
    {
     "data": {
      "image/svg+xml": [
       "<?xml version=\"1.0\" encoding=\"UTF-8\" standalone=\"no\"?><svg xmlns=\"http://www.w3.org/2000/svg\" xmlns:xlink=\"http://www.w3.org/1999/xlink\" contentScriptType=\"application/ecmascript\" contentStyleType=\"text/css\" height=\"12px\" preserveAspectRatio=\"none\" style=\"width:12px;height:12px;\" version=\"1.1\" viewBox=\"0 0 12 12\" width=\"12px\" zoomAndPan=\"magnify\"><defs/><g><!--MD5=[f19188ef49e11757b5c46753f95d9edc]\n",
       "@startuml\r\n",
       " skinparam monochrome true\r\n",
       "skinparam classbackgroundcolor white\r\n",
       "skinparam shadowing false\r\n",
       "skinparam wrapWidth 300\r\n",
       "hide circle\r\n",
       "\r\n",
       "@enduml\r\n",
       "\n",
       "PlantUML version 1.2020.13(Sat Jun 13 12:26:38 UTC 2020)\n",
       "(EPL source distribution)\n",
       "Java Runtime: OpenJDK Runtime Environment\n",
       "JVM: OpenJDK 64-Bit Server VM\n",
       "Default Encoding: UTF-8\n",
       "Language: en\n",
       "Country: null\n",
       "--></g></svg>"
      ]
     },
     "execution_count": 4,
     "metadata": {},
     "output_type": "execute_result"
    }
   ],
   "source": [
    "%viz --style=\"COMPTREE\" --view=\"State\" \"ActionTest\""
   ]
  },
  {
   "cell_type": "code",
   "execution_count": 5,
   "id": "02e96b59",
   "metadata": {
    "execution": {
     "iopub.execute_input": "2021-10-25T08:21:21.401803Z",
     "iopub.status.busy": "2021-10-25T08:21:21.401392Z",
     "iopub.status.idle": "2021-10-25T08:21:21.480054Z",
     "shell.execute_reply": "2021-10-25T08:21:21.480422Z"
    }
   },
   "outputs": [
    {
     "data": {
      "image/svg+xml": [
       "<?xml version=\"1.0\" encoding=\"UTF-8\" standalone=\"no\"?><svg xmlns=\"http://www.w3.org/2000/svg\" xmlns:xlink=\"http://www.w3.org/1999/xlink\" contentScriptType=\"application/ecmascript\" contentStyleType=\"text/css\" height=\"462px\" preserveAspectRatio=\"none\" style=\"width:530px;height:462px;\" version=\"1.1\" viewBox=\"0 0 530 462\" width=\"530px\" zoomAndPan=\"magnify\"><defs/><g><!--MD5=[fbc87193dbaf4d95561dea2c320d4a47]\n",
       "cluster E1--><a href=\"psysml:b606a038-0c45-436f-a3a1-beef47fa0e17\" target=\"_top\" title=\"psysml:b606a038-0c45-436f-a3a1-beef47fa0e17\" xlink:actuate=\"onRequest\" xlink:href=\"psysml:b606a038-0c45-436f-a3a1-beef47fa0e17\" xlink:show=\"new\" xlink:title=\"psysml:b606a038-0c45-436f-a3a1-beef47fa0e17\" xlink:type=\"simple\"><polygon fill=\"#FFFFFF\" points=\"16,6,96,6,103,28.2969,508,28.2969,508,450.5,16,450.5,16,6\" style=\"stroke: #000000; stroke-width: 1.5;\"/><line style=\"stroke: #000000; stroke-width: 1.5;\" x1=\"16\" x2=\"103\" y1=\"28.2969\" y2=\"28.2969\"/><text fill=\"#000000\" font-family=\"sans-serif\" font-size=\"14\" font-weight=\"bold\" lengthAdjust=\"spacingAndGlyphs\" textLength=\"74\" x=\"20\" y=\"20.9951\">ActionTest</text></a><!--MD5=[d5e69f78d87373223dbae638b30a9c99]\n",
       "cluster E3--><a href=\"psysml:69e16b91-de61-4fe2-8ebf-63b040d0687a\" target=\"_top\" title=\"psysml:69e16b91-de61-4fe2-8ebf-63b040d0687a\" xlink:actuate=\"onRequest\" xlink:href=\"psysml:69e16b91-de61-4fe2-8ebf-63b040d0687a\" xlink:show=\"new\" xlink:title=\"psysml:69e16b91-de61-4fe2-8ebf-63b040d0687a\" xlink:type=\"simple\"><rect fill=\"#FFFFFF\" height=\"377.5\" id=\"E3\" rx=\"10\" ry=\"10\" style=\"stroke: #383838; stroke-width: 1.5;\" width=\"209\" x=\"275\" y=\"49\"/><rect fill=\"#F8F8F8\" height=\"37.9375\" rx=\"10\" ry=\"10\" style=\"stroke: #F8F8F8; stroke-width: 1.5;\" width=\"209\" x=\"275\" y=\"49\"/><rect fill=\"#F8F8F8\" height=\"10\" style=\"stroke: #F8F8F8; stroke-width: 1.5;\" width=\"209\" x=\"275\" y=\"76.9375\"/><rect fill=\"none\" height=\"377.5\" id=\"E3\" rx=\"10\" ry=\"10\" style=\"stroke: #383838; stroke-width: 1.5;\" width=\"209\" x=\"275\" y=\"49\"/><text fill=\"#000000\" font-family=\"sans-serif\" font-size=\"12\" font-style=\"italic\" lengthAdjust=\"spacingAndGlyphs\" textLength=\"53\" x=\"353\" y=\"65.1387\">«action»</text><text fill=\"#000000\" font-family=\"sans-serif\" font-size=\"12\" lengthAdjust=\"spacingAndGlyphs\" textLength=\"8\" x=\"375.5\" y=\"79.1074\">a</text><line style=\"stroke: #383838; stroke-width: 1.0;\" x1=\"275\" x2=\"484\" y1=\"86.9375\" y2=\"86.9375\"/></a><g id=\"E1.E2\"><a href=\"psysml:f9329402-d9ed-482b-aa71-2e931e2796d7\" target=\"_top\" title=\"psysml:f9329402-d9ed-482b-aa71-2e931e2796d7\" xlink:actuate=\"onRequest\" xlink:href=\"psysml:f9329402-d9ed-482b-aa71-2e931e2796d7\" xlink:show=\"new\" xlink:title=\"psysml:f9329402-d9ed-482b-aa71-2e931e2796d7\" xlink:type=\"simple\"><rect fill=\"#FFFFFF\" height=\"42.9375\" id=\"E2\" style=\"stroke: #383838; stroke-width: 1.5;\" width=\"104\" x=\"155\" y=\"88.5\"/><rect fill=\"#F8F8F8\" height=\"37.9375\" style=\"stroke: #383838; stroke-width: 1.5;\" width=\"104\" x=\"155\" y=\"88.5\"/><text fill=\"#000000\" font-family=\"sans-serif\" font-size=\"12\" font-style=\"italic\" lengthAdjust=\"spacingAndGlyphs\" textLength=\"97\" x=\"158.5\" y=\"104.6387\">«attribute  def»</text><text fill=\"#000000\" font-family=\"sans-serif\" font-size=\"12\" lengthAdjust=\"spacingAndGlyphs\" textLength=\"8\" x=\"203\" y=\"118.6074\">S</text></a></g><polygon fill=\"#F8F8F8\" points=\"432,148.5,444,160.5,432,172.5,420,160.5,432,148.5\" style=\"stroke: #383838; stroke-width: 1.5;\"/><!--MD5=[21dd76c19d33815960c0e92fef8f0eef]\n",
       "entity E5--><a href=\"psysml:dcf8e234-4de8-4cb8-a947-17c2138066f0\" target=\"_top\" title=\"psysml:dcf8e234-4de8-4cb8-a947-17c2138066f0\" xlink:actuate=\"onRequest\" xlink:href=\"psysml:dcf8e234-4de8-4cb8-a947-17c2138066f0\" xlink:show=\"new\" xlink:title=\"psysml:dcf8e234-4de8-4cb8-a947-17c2138066f0\" xlink:type=\"simple\"><polygon fill=\"#F8F8F8\" points=\"291,189.5,291,244.0938,431,244.0938,411,216.7969,431,189.5\" style=\"stroke: #000000; stroke-width: 1.5;\"/><text fill=\"#000000\" font-family=\"sans-serif\" font-size=\"14\" font-style=\"italic\" lengthAdjust=\"spacingAndGlyphs\" textLength=\"111\" x=\"298\" y=\"212.4951\">«accept action»</text><text fill=\"#000000\" font-family=\"sans-serif\" font-size=\"14\" lengthAdjust=\"spacingAndGlyphs\" textLength=\"9\" x=\"349\" y=\"229.792\">S</text></a><!--MD5=[24d87cdf3002d433f401b2a2aa9f9f65]\n",
       "entity E6--><a href=\"psysml:18c3d457-6bb3-4962-a480-0e1b2254a09a\" target=\"_top\" title=\"psysml:18c3d457-6bb3-4962-a480-0e1b2254a09a\" xlink:actuate=\"onRequest\" xlink:href=\"psysml:18c3d457-6bb3-4962-a480-0e1b2254a09a\" xlink:show=\"new\" xlink:title=\"psysml:18c3d457-6bb3-4962-a480-0e1b2254a09a\" xlink:type=\"simple\"><polygon fill=\"#F8F8F8\" points=\"291,277.5,291,332.0938,399,332.0938,419,304.7969,399,277.5\" style=\"stroke: #000000; stroke-width: 1.5;\"/><text fill=\"#000000\" font-family=\"sans-serif\" font-size=\"14\" font-style=\"italic\" lengthAdjust=\"spacingAndGlyphs\" textLength=\"99\" x=\"298\" y=\"300.4951\">«send action»</text><text fill=\"#000000\" font-family=\"sans-serif\" font-size=\"14\" lengthAdjust=\"spacingAndGlyphs\" textLength=\"65\" x=\"315\" y=\"317.792\">S() to  B()</text></a><polygon fill=\"#F8F8F8\" points=\"430,349.5,442,361.5,430,373.5,418,361.5,430,349.5\" style=\"stroke: #383838; stroke-width: 1.5;\"/><ellipse cx=\"432\" cy=\"110\" fill=\"#000000\" rx=\"10\" ry=\"10\" style=\"stroke: none; stroke-width: 1.0;\"/><ellipse cx=\"430\" cy=\"400.5\" fill=\"none\" rx=\"10\" ry=\"10\" style=\"stroke: #000000; stroke-width: 1.0;\"/><ellipse cx=\"430.5\" cy=\"401\" fill=\"#000000\" rx=\"6\" ry=\"6\" style=\"stroke: none; stroke-width: 1.0;\"/><g id=\"E1.E8\"><a href=\"psysml:530e5343-b7af-483f-85a0-93ec425d0302\" target=\"_top\" title=\"psysml:530e5343-b7af-483f-85a0-93ec425d0302\" xlink:actuate=\"onRequest\" xlink:href=\"psysml:530e5343-b7af-483f-85a0-93ec425d0302\" xlink:show=\"new\" xlink:title=\"psysml:530e5343-b7af-483f-85a0-93ec425d0302\" xlink:type=\"simple\"><rect fill=\"#FFFFFF\" height=\"42.9375\" id=\"E8\" style=\"stroke: #383838; stroke-width: 1.5;\" width=\"88\" x=\"32\" y=\"88.5\"/><rect fill=\"#F8F8F8\" height=\"37.9375\" style=\"stroke: #383838; stroke-width: 1.5;\" width=\"88\" x=\"32\" y=\"88.5\"/><text fill=\"#000000\" font-family=\"sans-serif\" font-size=\"12\" font-style=\"italic\" lengthAdjust=\"spacingAndGlyphs\" textLength=\"81\" x=\"35.5\" y=\"104.6387\">«action  def»</text><text fill=\"#000000\" font-family=\"sans-serif\" font-size=\"12\" lengthAdjust=\"spacingAndGlyphs\" textLength=\"8\" x=\"72\" y=\"118.6074\">B</text></a></g><!--MD5=[f47e10efcf9a6752d55dae986d790ed9]\n",
       "link *start*E3 to E4--><a href=\"psysml:8ec85343-59fa-499c-a77c-a2bbf8c30a9c\" target=\"_top\" title=\"psysml:8ec85343-59fa-499c-a77c-a2bbf8c30a9c\" xlink:actuate=\"onRequest\" xlink:href=\"psysml:8ec85343-59fa-499c-a77c-a2bbf8c30a9c\" xlink:show=\"new\" xlink:title=\"psysml:8ec85343-59fa-499c-a77c-a2bbf8c30a9c\" xlink:type=\"simple\"><path d=\"M432,120.35 C432,126.88 432,135.77 432,143.42 \" fill=\"none\" id=\"*start*E3-&gt;E4\" style=\"stroke: #383838; stroke-width: 1.0;\"/><polygon fill=\"#383838\" points=\"432,148.48,436,139.48,432,143.48,428,139.48,432,148.48\" style=\"stroke: #383838; stroke-width: 1.0;\"/></a><!--MD5=[d19f2eb34364d71b67042106d92f540b]\n",
       "link E7 to *end*E3--><a href=\"psysml:0d9f4e26-bf93-4aba-a8c6-6dafeae60007\" target=\"_top\" title=\"psysml:0d9f4e26-bf93-4aba-a8c6-6dafeae60007\" xlink:actuate=\"onRequest\" xlink:href=\"psysml:0d9f4e26-bf93-4aba-a8c6-6dafeae60007\" xlink:show=\"new\" xlink:title=\"psysml:0d9f4e26-bf93-4aba-a8c6-6dafeae60007\" xlink:type=\"simple\"><path d=\"M430,373.8 C430,377.34 430,381.3 430,385.03 \" fill=\"none\" id=\"E7-&gt;*end*E3\" style=\"stroke: #383838; stroke-width: 1.0;\"/><polygon fill=\"#383838\" points=\"430,390.25,434,381.25,430,385.25,426,381.25,430,390.25\" style=\"stroke: #383838; stroke-width: 1.0;\"/></a><!--MD5=[1b7591eae5389033d8d09a9d6721a717]\n",
       "link E4 to E5--><a href=\"psysml:0f743cc2-6e19-41e4-aad8-79cb567e3158\" target=\"_top\" title=\"psysml:0f743cc2-6e19-41e4-aad8-79cb567e3158\" xlink:actuate=\"onRequest\" xlink:href=\"psysml:0f743cc2-6e19-41e4-aad8-79cb567e3158\" xlink:show=\"new\" xlink:title=\"psysml:0f743cc2-6e19-41e4-aad8-79cb567e3158\" xlink:type=\"simple\"><path d=\"M425.45,166.53 C419.33,171.23 409.65,178.66 399.64,186.34 \" fill=\"none\" id=\"E4-&gt;E5\" style=\"stroke: #383838; stroke-width: 1.0;\"/><polygon fill=\"#383838\" points=\"395.64,189.41,405.2129,187.0948,399.6037,186.3621,400.3363,180.7529,395.64,189.41\" style=\"stroke: #383838; stroke-width: 1.0;\"/><text fill=\"#000000\" font-family=\"sans-serif\" font-size=\"13\" lengthAdjust=\"spacingAndGlyphs\" textLength=\"7\" x=\"395.8411\" y=\"178.4247\">*</text></a><!--MD5=[9120cf2e5df3bff93db8f754bbbc09b4]\n",
       "link E5 to E6--><a href=\"psysml:3404b4e6-fa1c-4cf0-a87f-a7f8eafbc3bc\" target=\"_top\" title=\"psysml:3404b4e6-fa1c-4cf0-a87f-a7f8eafbc3bc\" xlink:actuate=\"onRequest\" xlink:href=\"psysml:3404b4e6-fa1c-4cf0-a87f-a7f8eafbc3bc\" xlink:show=\"new\" xlink:title=\"psysml:3404b4e6-fa1c-4cf0-a87f-a7f8eafbc3bc\" xlink:type=\"simple\"><path d=\"M359.13,244.74 C358.53,253.4 357.85,263.08 357.23,272.08 \" fill=\"none\" id=\"E5-&gt;E6\" style=\"stroke: #383838; stroke-width: 1.0;\"/><polygon fill=\"#383838\" points=\"356.86,277.28,361.468,268.5756,357.203,272.2918,353.4869,268.0268,356.86,277.28\" style=\"stroke: #383838; stroke-width: 1.0;\"/><text fill=\"#000000\" font-family=\"sans-serif\" font-size=\"13\" lengthAdjust=\"spacingAndGlyphs\" textLength=\"7\" x=\"349.4808\" y=\"266.2646\">*</text></a><!--MD5=[02c70b7c851c11e3980e4e90450dc5dd]\n",
       "link E6 to E7--><a href=\"psysml:a56f0975-9bdd-4db4-ac34-32a8d14536cf\" target=\"_top\" title=\"psysml:a56f0975-9bdd-4db4-ac34-32a8d14536cf\" xlink:actuate=\"onRequest\" xlink:href=\"psysml:a56f0975-9bdd-4db4-ac34-32a8d14536cf\" xlink:show=\"new\" xlink:title=\"psysml:a56f0975-9bdd-4db4-ac34-32a8d14536cf\" xlink:type=\"simple\"><path d=\"M391.62,332.61 C401.72,339.95 411.91,347.35 419.24,352.68 \" fill=\"none\" id=\"E6-&gt;E7\" style=\"stroke: #383838; stroke-width: 1.0;\"/><polygon fill=\"#383838\" points=\"423.42,355.72,418.4976,347.1894,419.3776,352.7774,413.7896,353.6574,423.42,355.72\" style=\"stroke: #383838; stroke-width: 1.0;\"/><text fill=\"#000000\" font-family=\"sans-serif\" font-size=\"13\" lengthAdjust=\"spacingAndGlyphs\" textLength=\"7\" x=\"405.584\" y=\"338.5823\">*</text></a><!--MD5=[6bdd27f9905911a7e892a3dc65cf6b7c]\n",
       "link E7 to E4--><a href=\"psysml:2a79c4d0-9744-4107-95b5-d9c642bb083b\" target=\"_top\" title=\"psysml:2a79c4d0-9744-4107-95b5-d9c642bb083b\" xlink:actuate=\"onRequest\" xlink:href=\"psysml:2a79c4d0-9744-4107-95b5-d9c642bb083b\" xlink:show=\"new\" xlink:title=\"psysml:2a79c4d0-9744-4107-95b5-d9c642bb083b\" xlink:type=\"simple\"><path d=\"M433,352.49 C441.84,327.73 466.06,250.48 449,189.5 C447.26,183.29 443.73,177.1 440.34,172.12 \" fill=\"none\" id=\"E7-&gt;E4\" style=\"stroke: #383838; stroke-width: 1.0;\"/><polygon fill=\"#383838\" points=\"437.31,167.92,439.3342,177.5586,440.2364,171.9741,445.8209,172.8763,437.31,167.92\" style=\"stroke: #383838; stroke-width: 1.0;\"/><text fill=\"#000000\" font-family=\"sans-serif\" font-size=\"13\" lengthAdjust=\"spacingAndGlyphs\" textLength=\"36\" x=\"455\" y=\"265.5669\">[true]</text><text fill=\"#000000\" font-family=\"sans-serif\" font-size=\"13\" lengthAdjust=\"spacingAndGlyphs\" textLength=\"7\" x=\"438.8853\" y=\"189.5917\">*</text></a><!--MD5=[96d853c9da5bc2ab9510c8c2c2c5f06d]\n",
       "@startuml\r\n",
       "skinparam ranksep 10\r\n",
       "skinparam rectangle {\r\n",
       " backgroundColor<<block>> LightGreen\r\n",
       "}\r\n",
       " skinparam monochrome true\r\n",
       "skinparam classbackgroundcolor white\r\n",
       "skinparam shadowing false\r\n",
       "skinparam wrapWidth 300\r\n",
       "hide circle\r\n",
       "\r\n",
       "package \"ActionTest\" as E1  [[psysml:b606a038-0c45-436f-a3a1-beef47fa0e17 ]]  {\r\n",
       "def \"S\" as E2  <<(T,blue) attribute  def>> [[psysml:f9329402-d9ed-482b-aa71-2e931e2796d7 ]] \r\n",
       "rec usage \"a\" as E3  <<(T,blue) action>> [[psysml:69e16b91-de61-4fe2-8ebf-63b040d0687a ]] {\r\n",
       "choice \"m\" as E4  [[psysml:ba661374-e1ab-49de-aa21-c62362c65829 ]] \r\n",
       "accept \" S\" as E5 << accept action>> [[psysml:dcf8e234-4de8-4cb8-a947-17c2138066f0 ]] \r\n",
       "send \" S() to  B()\" as E6 << send action>> [[psysml:18c3d457-6bb3-4962-a480-0e1b2254a09a ]] \r\n",
       "choice \"<s>noname</s>\" as E7  [[psysml:1cf4a57b-2f41-48db-bb2e-4817b665eacc ]] \r\n",
       "[*] - -> E4 [[psysml:8ec85343-59fa-499c-a77c-a2bbf8c30a9c ]] \r\n",
       "E7  - -> [*] [[psysml:0d9f4e26-bf93-4aba-a8c6-6dafeae60007 ]] \r\n",
       "}\r\n",
       "\r\n",
       "rec def \"B\" as E8  <<(T,blue) action  def>> [[psysml:530e5343-b7af-483f-85a0-93ec425d0302 ]] {\r\n",
       "}\r\n",
       "\r\n",
       "}\r\n",
       "E4 - -> \"*\"E5 [[psysml:0f743cc2-6e19-41e4-aad8-79cb567e3158 ]] \r\n",
       "E5 - -> \"*\"E6 [[psysml:3404b4e6-fa1c-4cf0-a87f-a7f8eafbc3bc ]] \r\n",
       "E6 - -> \"*\"E7 [[psysml:a56f0975-9bdd-4db4-ac34-32a8d14536cf ]] \r\n",
       "E7  - -> \"*\"E4 [[psysml:2a79c4d0-9744-4107-95b5-d9c642bb083b ]] : [true]\r\n",
       "@enduml\r\n",
       "\n",
       "PlantUML version 1.2020.13(Sat Jun 13 12:26:38 UTC 2020)\n",
       "(EPL source distribution)\n",
       "Java Runtime: OpenJDK Runtime Environment\n",
       "JVM: OpenJDK 64-Bit Server VM\n",
       "Default Encoding: UTF-8\n",
       "Language: en\n",
       "Country: null\n",
       "--></g></svg>"
      ]
     },
     "execution_count": 5,
     "metadata": {},
     "output_type": "execute_result"
    }
   ],
   "source": [
    "%viz --style=\"COMPTREE\" --view=\"Interconnection\" \"ActionTest\""
   ]
  },
  {
   "cell_type": "code",
   "execution_count": 6,
   "id": "f7aafc41",
   "metadata": {
    "execution": {
     "iopub.execute_input": "2021-10-25T08:21:21.529499Z",
     "iopub.status.busy": "2021-10-25T08:21:21.529073Z",
     "iopub.status.idle": "2021-10-25T08:21:21.585736Z",
     "shell.execute_reply": "2021-10-25T08:21:21.585394Z"
    }
   },
   "outputs": [
    {
     "data": {
      "image/svg+xml": [
       "<?xml version=\"1.0\" encoding=\"UTF-8\" standalone=\"no\"?><svg xmlns=\"http://www.w3.org/2000/svg\" xmlns:xlink=\"http://www.w3.org/1999/xlink\" contentScriptType=\"application/ecmascript\" contentStyleType=\"text/css\" height=\"395px\" preserveAspectRatio=\"none\" style=\"width:339px;height:395px;\" version=\"1.1\" viewBox=\"0 0 339 395\" width=\"339px\" zoomAndPan=\"magnify\"><defs/><g><!--MD5=[fbc87193dbaf4d95561dea2c320d4a47]\n",
       "cluster E1--><a href=\"psysml:69e16b91-de61-4fe2-8ebf-63b040d0687a\" target=\"_top\" title=\"psysml:69e16b91-de61-4fe2-8ebf-63b040d0687a\" xlink:actuate=\"onRequest\" xlink:href=\"psysml:69e16b91-de61-4fe2-8ebf-63b040d0687a\" xlink:show=\"new\" xlink:title=\"psysml:69e16b91-de61-4fe2-8ebf-63b040d0687a\" xlink:type=\"simple\"><rect fill=\"#FFFFFF\" height=\"377.5\" id=\"E1\" rx=\"10\" ry=\"10\" style=\"stroke: #383838; stroke-width: 1.5;\" width=\"209\" x=\"111\" y=\"7\"/><rect fill=\"#F8F8F8\" height=\"37.9375\" rx=\"10\" ry=\"10\" style=\"stroke: #F8F8F8; stroke-width: 1.5;\" width=\"209\" x=\"111\" y=\"7\"/><rect fill=\"#F8F8F8\" height=\"10\" style=\"stroke: #F8F8F8; stroke-width: 1.5;\" width=\"209\" x=\"111\" y=\"34.9375\"/><rect fill=\"none\" height=\"377.5\" id=\"E1\" rx=\"10\" ry=\"10\" style=\"stroke: #383838; stroke-width: 1.5;\" width=\"209\" x=\"111\" y=\"7\"/><text fill=\"#000000\" font-family=\"sans-serif\" font-size=\"12\" font-style=\"italic\" lengthAdjust=\"spacingAndGlyphs\" textLength=\"53\" x=\"189\" y=\"23.1387\">«action»</text><text fill=\"#000000\" font-family=\"sans-serif\" font-size=\"12\" lengthAdjust=\"spacingAndGlyphs\" textLength=\"8\" x=\"211.5\" y=\"37.1074\">a</text><line style=\"stroke: #383838; stroke-width: 1.0;\" x1=\"111\" x2=\"320\" y1=\"44.9375\" y2=\"44.9375\"/></a><polygon fill=\"#F8F8F8\" points=\"268,106.5,280,118.5,268,130.5,256,118.5,268,106.5\" style=\"stroke: #383838; stroke-width: 1.5;\"/><!--MD5=[a60fb756f580feb9fd8e2cf1329b5c91]\n",
       "entity E3--><a href=\"psysml:dcf8e234-4de8-4cb8-a947-17c2138066f0\" target=\"_top\" title=\"psysml:dcf8e234-4de8-4cb8-a947-17c2138066f0\" xlink:actuate=\"onRequest\" xlink:href=\"psysml:dcf8e234-4de8-4cb8-a947-17c2138066f0\" xlink:show=\"new\" xlink:title=\"psysml:dcf8e234-4de8-4cb8-a947-17c2138066f0\" xlink:type=\"simple\"><polygon fill=\"#F8F8F8\" points=\"127,147.5,127,202.0938,267,202.0938,247,174.7969,267,147.5\" style=\"stroke: #000000; stroke-width: 1.5;\"/><text fill=\"#000000\" font-family=\"sans-serif\" font-size=\"14\" font-style=\"italic\" lengthAdjust=\"spacingAndGlyphs\" textLength=\"111\" x=\"134\" y=\"170.4951\">«accept action»</text><text fill=\"#000000\" font-family=\"sans-serif\" font-size=\"14\" lengthAdjust=\"spacingAndGlyphs\" textLength=\"9\" x=\"185\" y=\"187.792\">S</text></a><!--MD5=[961cefdc15414eaa3e87aec9d17c2188]\n",
       "entity E4--><a href=\"psysml:18c3d457-6bb3-4962-a480-0e1b2254a09a\" target=\"_top\" title=\"psysml:18c3d457-6bb3-4962-a480-0e1b2254a09a\" xlink:actuate=\"onRequest\" xlink:href=\"psysml:18c3d457-6bb3-4962-a480-0e1b2254a09a\" xlink:show=\"new\" xlink:title=\"psysml:18c3d457-6bb3-4962-a480-0e1b2254a09a\" xlink:type=\"simple\"><polygon fill=\"#F8F8F8\" points=\"127,235.5,127,290.0938,235,290.0938,255,262.7969,235,235.5\" style=\"stroke: #000000; stroke-width: 1.5;\"/><text fill=\"#000000\" font-family=\"sans-serif\" font-size=\"14\" font-style=\"italic\" lengthAdjust=\"spacingAndGlyphs\" textLength=\"99\" x=\"134\" y=\"258.4951\">«send action»</text><text fill=\"#000000\" font-family=\"sans-serif\" font-size=\"14\" lengthAdjust=\"spacingAndGlyphs\" textLength=\"65\" x=\"151\" y=\"275.792\">S() to  B()</text></a><polygon fill=\"#F8F8F8\" points=\"266,307.5,278,319.5,266,331.5,254,319.5,266,307.5\" style=\"stroke: #383838; stroke-width: 1.5;\"/><ellipse cx=\"268\" cy=\"68\" fill=\"#000000\" rx=\"10\" ry=\"10\" style=\"stroke: none; stroke-width: 1.0;\"/><ellipse cx=\"266\" cy=\"358.5\" fill=\"none\" rx=\"10\" ry=\"10\" style=\"stroke: #000000; stroke-width: 1.0;\"/><ellipse cx=\"266.5\" cy=\"359\" fill=\"#000000\" rx=\"6\" ry=\"6\" style=\"stroke: none; stroke-width: 1.0;\"/><g id=\"E6\"><a href=\"psysml:530e5343-b7af-483f-85a0-93ec425d0302\" target=\"_top\" title=\"psysml:530e5343-b7af-483f-85a0-93ec425d0302\" xlink:actuate=\"onRequest\" xlink:href=\"psysml:530e5343-b7af-483f-85a0-93ec425d0302\" xlink:show=\"new\" xlink:title=\"psysml:530e5343-b7af-483f-85a0-93ec425d0302\" xlink:type=\"simple\"><rect fill=\"#FFFFFF\" height=\"42.9375\" id=\"E6\" style=\"stroke: #383838; stroke-width: 1.5;\" width=\"88\" x=\"7\" y=\"46.5\"/><rect fill=\"#F8F8F8\" height=\"37.9375\" style=\"stroke: #383838; stroke-width: 1.5;\" width=\"88\" x=\"7\" y=\"46.5\"/><text fill=\"#000000\" font-family=\"sans-serif\" font-size=\"12\" font-style=\"italic\" lengthAdjust=\"spacingAndGlyphs\" textLength=\"81\" x=\"10.5\" y=\"62.6387\">«action  def»</text><text fill=\"#000000\" font-family=\"sans-serif\" font-size=\"12\" lengthAdjust=\"spacingAndGlyphs\" textLength=\"8\" x=\"47\" y=\"76.6074\">B</text></a></g><!--MD5=[cff944eb183b832d446717a4e202d613]\n",
       "link *start*E1 to E2--><a href=\"psysml:8ec85343-59fa-499c-a77c-a2bbf8c30a9c\" target=\"_top\" title=\"psysml:8ec85343-59fa-499c-a77c-a2bbf8c30a9c\" xlink:actuate=\"onRequest\" xlink:href=\"psysml:8ec85343-59fa-499c-a77c-a2bbf8c30a9c\" xlink:show=\"new\" xlink:title=\"psysml:8ec85343-59fa-499c-a77c-a2bbf8c30a9c\" xlink:type=\"simple\"><path d=\"M268,78.35 C268,84.88 268,93.77 268,101.42 \" fill=\"none\" id=\"*start*E1-&gt;E2\" style=\"stroke: #383838; stroke-width: 1.0; stroke-dasharray: 7.0,7.0;\"/><polygon fill=\"#383838\" points=\"268,106.48,272,97.48,268,101.48,264,97.48,268,106.48\" style=\"stroke: #383838; stroke-width: 1.0;\"/></a><!--MD5=[7fc47fc0d107820853a137871ad908c8]\n",
       "link E5 to *end*E1--><a href=\"psysml:0d9f4e26-bf93-4aba-a8c6-6dafeae60007\" target=\"_top\" title=\"psysml:0d9f4e26-bf93-4aba-a8c6-6dafeae60007\" xlink:actuate=\"onRequest\" xlink:href=\"psysml:0d9f4e26-bf93-4aba-a8c6-6dafeae60007\" xlink:show=\"new\" xlink:title=\"psysml:0d9f4e26-bf93-4aba-a8c6-6dafeae60007\" xlink:type=\"simple\"><path d=\"M266,331.8 C266,335.34 266,339.3 266,343.03 \" fill=\"none\" id=\"E5-&gt;*end*E1\" style=\"stroke: #383838; stroke-width: 1.0; stroke-dasharray: 7.0,7.0;\"/><polygon fill=\"#383838\" points=\"266,348.25,270,339.25,266,343.25,262,339.25,266,348.25\" style=\"stroke: #383838; stroke-width: 1.0;\"/></a><!--MD5=[2720a5a1f2c3fca2055b230370638851]\n",
       "link E2 to E3--><a href=\"psysml:0f743cc2-6e19-41e4-aad8-79cb567e3158\" target=\"_top\" title=\"psysml:0f743cc2-6e19-41e4-aad8-79cb567e3158\" xlink:actuate=\"onRequest\" xlink:href=\"psysml:0f743cc2-6e19-41e4-aad8-79cb567e3158\" xlink:show=\"new\" xlink:title=\"psysml:0f743cc2-6e19-41e4-aad8-79cb567e3158\" xlink:type=\"simple\"><path d=\"M261.45,124.53 C255.33,129.23 245.65,136.66 235.64,144.34 \" fill=\"none\" id=\"E2-&gt;E3\" style=\"stroke: #383838; stroke-width: 1.0; stroke-dasharray: 7.0,7.0;\"/><polygon fill=\"#383838\" points=\"231.64,147.41,241.2129,145.0948,235.6037,144.3621,236.3363,138.7529,231.64,147.41\" style=\"stroke: #383838; stroke-width: 1.0;\"/></a><!--MD5=[af87c684e3b0d8be13c1a698a818ef1e]\n",
       "link E3 to E4--><a href=\"psysml:3404b4e6-fa1c-4cf0-a87f-a7f8eafbc3bc\" target=\"_top\" title=\"psysml:3404b4e6-fa1c-4cf0-a87f-a7f8eafbc3bc\" xlink:actuate=\"onRequest\" xlink:href=\"psysml:3404b4e6-fa1c-4cf0-a87f-a7f8eafbc3bc\" xlink:show=\"new\" xlink:title=\"psysml:3404b4e6-fa1c-4cf0-a87f-a7f8eafbc3bc\" xlink:type=\"simple\"><path d=\"M195.13,202.74 C194.53,211.4 193.85,221.08 193.23,230.08 \" fill=\"none\" id=\"E3-&gt;E4\" style=\"stroke: #383838; stroke-width: 1.0; stroke-dasharray: 7.0,7.0;\"/><polygon fill=\"#383838\" points=\"192.86,235.28,197.468,226.5756,193.203,230.2918,189.4869,226.0268,192.86,235.28\" style=\"stroke: #383838; stroke-width: 1.0;\"/></a><!--MD5=[1b7591eae5389033d8d09a9d6721a717]\n",
       "link E4 to E5--><a href=\"psysml:a56f0975-9bdd-4db4-ac34-32a8d14536cf\" target=\"_top\" title=\"psysml:a56f0975-9bdd-4db4-ac34-32a8d14536cf\" xlink:actuate=\"onRequest\" xlink:href=\"psysml:a56f0975-9bdd-4db4-ac34-32a8d14536cf\" xlink:show=\"new\" xlink:title=\"psysml:a56f0975-9bdd-4db4-ac34-32a8d14536cf\" xlink:type=\"simple\"><path d=\"M227.62,290.61 C237.72,297.95 247.91,305.35 255.24,310.68 \" fill=\"none\" id=\"E4-&gt;E5\" style=\"stroke: #383838; stroke-width: 1.0; stroke-dasharray: 7.0,7.0;\"/><polygon fill=\"#383838\" points=\"259.42,313.72,254.4976,305.1894,255.3776,310.7774,249.7896,311.6574,259.42,313.72\" style=\"stroke: #383838; stroke-width: 1.0;\"/></a><!--MD5=[15ebcb19ae302d9b601edb458606d402]\n",
       "link E5 to E2--><a href=\"psysml:2a79c4d0-9744-4107-95b5-d9c642bb083b\" target=\"_top\" title=\"psysml:2a79c4d0-9744-4107-95b5-d9c642bb083b\" xlink:actuate=\"onRequest\" xlink:href=\"psysml:2a79c4d0-9744-4107-95b5-d9c642bb083b\" xlink:show=\"new\" xlink:title=\"psysml:2a79c4d0-9744-4107-95b5-d9c642bb083b\" xlink:type=\"simple\"><path d=\"M269,310.49 C277.84,285.73 302.06,208.48 285,147.5 C283.26,141.29 279.73,135.1 276.34,130.12 \" fill=\"none\" id=\"E5-&gt;E2\" style=\"stroke: #383838; stroke-width: 1.0; stroke-dasharray: 7.0,7.0;\"/><polygon fill=\"#383838\" points=\"273.31,125.92,275.3342,135.5586,276.2364,129.9741,281.8209,130.8763,273.31,125.92\" style=\"stroke: #383838; stroke-width: 1.0;\"/><text fill=\"#000000\" font-family=\"sans-serif\" font-size=\"13\" lengthAdjust=\"spacingAndGlyphs\" textLength=\"36\" x=\"291\" y=\"223.5669\">[true]</text></a><!--MD5=[a39ff2ef430cae903784905f59b42650]\n",
       "@startuml\r\n",
       "skinparam ranksep 8\r\n",
       " skinparam monochrome true\r\n",
       "skinparam classbackgroundcolor white\r\n",
       "skinparam shadowing false\r\n",
       "skinparam wrapWidth 300\r\n",
       "hide circle\r\n",
       "\r\n",
       "rec usage \"a\" as E1  <<(T,blue) action>> [[psysml:69e16b91-de61-4fe2-8ebf-63b040d0687a ]] {\r\n",
       "choice \"m\" as E2  [[psysml:ba661374-e1ab-49de-aa21-c62362c65829 ]] \r\n",
       "accept \" S\" as E3 << accept action>> [[psysml:dcf8e234-4de8-4cb8-a947-17c2138066f0 ]] \r\n",
       "send \" S() to  B()\" as E4 << send action>> [[psysml:18c3d457-6bb3-4962-a480-0e1b2254a09a ]] \r\n",
       "choice \"<s>noname</s>\" as E5  [[psysml:1cf4a57b-2f41-48db-bb2e-4817b665eacc ]] \r\n",
       "[*] ..> E2 [[psysml:8ec85343-59fa-499c-a77c-a2bbf8c30a9c ]] \r\n",
       "E5 ..> [*] [[psysml:0d9f4e26-bf93-4aba-a8c6-6dafeae60007 ]] \r\n",
       "}\r\n",
       "\r\n",
       "E2 ..> E3 [[psysml:0f743cc2-6e19-41e4-aad8-79cb567e3158 ]] \r\n",
       "E3 ..> E4 [[psysml:3404b4e6-fa1c-4cf0-a87f-a7f8eafbc3bc ]] \r\n",
       "E4 ..> E5 [[psysml:a56f0975-9bdd-4db4-ac34-32a8d14536cf ]] \r\n",
       "E5 ..> E2 [[psysml:2a79c4d0-9744-4107-95b5-d9c642bb083b ]] : [true]\r\n",
       "rec def \"B\" as E6  <<(T,blue) action  def>> [[psysml:530e5343-b7af-483f-85a0-93ec425d0302 ]] {\r\n",
       "}\r\n",
       "\r\n",
       "@enduml\r\n",
       "\n",
       "PlantUML version 1.2020.13(Sat Jun 13 12:26:38 UTC 2020)\n",
       "(EPL source distribution)\n",
       "Java Runtime: OpenJDK Runtime Environment\n",
       "JVM: OpenJDK 64-Bit Server VM\n",
       "Default Encoding: UTF-8\n",
       "Language: en\n",
       "Country: null\n",
       "--></g></svg>"
      ]
     },
     "execution_count": 6,
     "metadata": {},
     "output_type": "execute_result"
    }
   ],
   "source": [
    "%viz --style=\"COMPTREE\" --view=\"Action\" \"ActionTest\""
   ]
  },
  {
   "cell_type": "code",
   "execution_count": 7,
   "id": "b6bb90e1",
   "metadata": {
    "execution": {
     "iopub.execute_input": "2021-10-25T08:21:21.635358Z",
     "iopub.status.busy": "2021-10-25T08:21:21.634953Z",
     "iopub.status.idle": "2021-10-25T08:21:21.651254Z",
     "shell.execute_reply": "2021-10-25T08:21:21.651686Z"
    }
   },
   "outputs": [
    {
     "data": {
      "image/svg+xml": [
       "<?xml version=\"1.0\" encoding=\"UTF-8\" standalone=\"no\"?><svg xmlns=\"http://www.w3.org/2000/svg\" xmlns:xlink=\"http://www.w3.org/1999/xlink\" contentScriptType=\"application/ecmascript\" contentStyleType=\"text/css\" height=\"12px\" preserveAspectRatio=\"none\" style=\"width:12px;height:12px;\" version=\"1.1\" viewBox=\"0 0 12 12\" width=\"12px\" zoomAndPan=\"magnify\"><defs/><g><!--MD5=[803fc46c337be7a5c8a9831e35356779]\n",
       "@startuml\r\n",
       "skinparam roundcorner 20\r\n",
       "skinparam BoxPadding 20\r\n",
       "skinparam SequenceBoxBackgroundColor #white\r\n",
       "skinparam style strictuml\r\n",
       "skinparam maxMessageSize 100\r\n",
       " skinparam monochrome true\r\n",
       "skinparam classbackgroundcolor white\r\n",
       "skinparam shadowing false\r\n",
       "skinparam wrapWidth 300\r\n",
       "hide circle\r\n",
       "\r\n",
       "@enduml\r\n",
       "\n",
       "PlantUML version 1.2020.13(Sat Jun 13 12:26:38 UTC 2020)\n",
       "(EPL source distribution)\n",
       "Java Runtime: OpenJDK Runtime Environment\n",
       "JVM: OpenJDK 64-Bit Server VM\n",
       "Default Encoding: UTF-8\n",
       "Language: en\n",
       "Country: null\n",
       "--></g></svg>"
      ]
     },
     "execution_count": 7,
     "metadata": {},
     "output_type": "execute_result"
    }
   ],
   "source": [
    "%viz --style=\"COMPTREE\" --view=\"Sequence\" \"ActionTest\""
   ]
  },
  {
   "cell_type": "code",
   "execution_count": 8,
   "id": "eab62ec4",
   "metadata": {
    "execution": {
     "iopub.execute_input": "2021-10-25T08:21:21.701242Z",
     "iopub.status.busy": "2021-10-25T08:21:21.700817Z",
     "iopub.status.idle": "2021-10-25T08:21:21.755959Z",
     "shell.execute_reply": "2021-10-25T08:21:21.753264Z"
    }
   },
   "outputs": [
    {
     "data": {
      "image/svg+xml": [
       "<?xml version=\"1.0\" encoding=\"UTF-8\" standalone=\"no\"?><svg xmlns=\"http://www.w3.org/2000/svg\" xmlns:xlink=\"http://www.w3.org/1999/xlink\" contentScriptType=\"application/ecmascript\" contentStyleType=\"text/css\" height=\"684px\" preserveAspectRatio=\"none\" style=\"width:526px;height:684px;\" version=\"1.1\" viewBox=\"0 0 526 684\" width=\"526px\" zoomAndPan=\"magnify\"><defs/><g><!--MD5=[fbc87193dbaf4d95561dea2c320d4a47]\n",
       "cluster E1--><a href=\"psysml:b606a038-0c45-436f-a3a1-beef47fa0e17\" target=\"_top\" title=\"psysml:b606a038-0c45-436f-a3a1-beef47fa0e17\" xlink:actuate=\"onRequest\" xlink:href=\"psysml:b606a038-0c45-436f-a3a1-beef47fa0e17\" xlink:show=\"new\" xlink:title=\"psysml:b606a038-0c45-436f-a3a1-beef47fa0e17\" xlink:type=\"simple\"><polygon fill=\"#FFFFFF\" points=\"16,6,96,6,103,28.2969,504,28.2969,504,672,16,672,16,6\" style=\"stroke: #000000; stroke-width: 1.5;\"/><line style=\"stroke: #000000; stroke-width: 1.5;\" x1=\"16\" x2=\"103\" y1=\"28.2969\" y2=\"28.2969\"/><text fill=\"#000000\" font-family=\"sans-serif\" font-size=\"14\" font-weight=\"bold\" lengthAdjust=\"spacingAndGlyphs\" textLength=\"74\" x=\"20\" y=\"20.9951\">ActionTest</text></a><!--MD5=[d5e69f78d87373223dbae638b30a9c99]\n",
       "cluster E3--><a href=\"psysml:69e16b91-de61-4fe2-8ebf-63b040d0687a\" target=\"_top\" title=\"psysml:69e16b91-de61-4fe2-8ebf-63b040d0687a\" xlink:actuate=\"onRequest\" xlink:href=\"psysml:69e16b91-de61-4fe2-8ebf-63b040d0687a\" xlink:show=\"new\" xlink:title=\"psysml:69e16b91-de61-4fe2-8ebf-63b040d0687a\" xlink:type=\"simple\"><rect fill=\"#FFFFFF\" height=\"599\" id=\"E3\" rx=\"10\" ry=\"10\" style=\"stroke: #383838; stroke-width: 1.5;\" width=\"209\" x=\"271\" y=\"49\"/><rect fill=\"#F8F8F8\" height=\"37.9375\" rx=\"10\" ry=\"10\" style=\"stroke: #F8F8F8; stroke-width: 1.5;\" width=\"209\" x=\"271\" y=\"49\"/><rect fill=\"#F8F8F8\" height=\"10\" style=\"stroke: #F8F8F8; stroke-width: 1.5;\" width=\"209\" x=\"271\" y=\"76.9375\"/><rect fill=\"none\" height=\"599\" id=\"E3\" rx=\"10\" ry=\"10\" style=\"stroke: #383838; stroke-width: 1.5;\" width=\"209\" x=\"271\" y=\"49\"/><text fill=\"#000000\" font-family=\"sans-serif\" font-size=\"12\" font-style=\"italic\" lengthAdjust=\"spacingAndGlyphs\" textLength=\"53\" x=\"349\" y=\"65.1387\">«action»</text><text fill=\"#000000\" font-family=\"sans-serif\" font-size=\"12\" lengthAdjust=\"spacingAndGlyphs\" textLength=\"8\" x=\"371.5\" y=\"79.1074\">a</text><line style=\"stroke: #383838; stroke-width: 1.0;\" x1=\"271\" x2=\"480\" y1=\"86.9375\" y2=\"86.9375\"/></a><!--MD5=[b4997ac47864f28c2f74865a473b2911]\n",
       "class E2--><a href=\"psysml:f9329402-d9ed-482b-aa71-2e931e2796d7\" target=\"_top\" title=\"psysml:f9329402-d9ed-482b-aa71-2e931e2796d7\" xlink:actuate=\"onRequest\" xlink:href=\"psysml:f9329402-d9ed-482b-aa71-2e931e2796d7\" xlink:show=\"new\" xlink:title=\"psysml:f9329402-d9ed-482b-aa71-2e931e2796d7\" xlink:type=\"simple\"><rect fill=\"#FFFFFF\" height=\"45.9375\" id=\"E2\" style=\"stroke: #383838; stroke-width: 1.5;\" width=\"99\" x=\"155.5\" y=\"87\"/><text fill=\"#000000\" font-family=\"sans-serif\" font-size=\"12\" font-style=\"italic\" lengthAdjust=\"spacingAndGlyphs\" textLength=\"97\" x=\"156.5\" y=\"103.1387\">«attribute  def»</text><text fill=\"#000000\" font-family=\"sans-serif\" font-size=\"12\" lengthAdjust=\"spacingAndGlyphs\" textLength=\"8\" x=\"201\" y=\"117.1074\">S</text><line style=\"stroke: #383838; stroke-width: 1.5;\" x1=\"156.5\" x2=\"253.5\" y1=\"124.9375\" y2=\"124.9375\"/></a><polygon fill=\"#F8F8F8\" points=\"428,194,440,206,428,218,416,206,428,194\" style=\"stroke: #383838; stroke-width: 1.5;\"/><!--MD5=[21dd76c19d33815960c0e92fef8f0eef]\n",
       "entity E5--><a href=\"psysml:dcf8e234-4de8-4cb8-a947-17c2138066f0\" target=\"_top\" title=\"psysml:dcf8e234-4de8-4cb8-a947-17c2138066f0\" xlink:actuate=\"onRequest\" xlink:href=\"psysml:dcf8e234-4de8-4cb8-a947-17c2138066f0\" xlink:show=\"new\" xlink:title=\"psysml:dcf8e234-4de8-4cb8-a947-17c2138066f0\" xlink:type=\"simple\"><polygon fill=\"#F8F8F8\" points=\"287,279,287,333.5938,427,333.5938,407,306.2969,427,279\" style=\"stroke: #000000; stroke-width: 1.5;\"/><text fill=\"#000000\" font-family=\"sans-serif\" font-size=\"14\" font-style=\"italic\" lengthAdjust=\"spacingAndGlyphs\" textLength=\"111\" x=\"294\" y=\"301.9951\">«accept action»</text><text fill=\"#000000\" font-family=\"sans-serif\" font-size=\"14\" lengthAdjust=\"spacingAndGlyphs\" textLength=\"9\" x=\"345\" y=\"319.292\">S</text></a><!--MD5=[24d87cdf3002d433f401b2a2aa9f9f65]\n",
       "entity E6--><a href=\"psysml:18c3d457-6bb3-4962-a480-0e1b2254a09a\" target=\"_top\" title=\"psysml:18c3d457-6bb3-4962-a480-0e1b2254a09a\" xlink:actuate=\"onRequest\" xlink:href=\"psysml:18c3d457-6bb3-4962-a480-0e1b2254a09a\" xlink:show=\"new\" xlink:title=\"psysml:18c3d457-6bb3-4962-a480-0e1b2254a09a\" xlink:type=\"simple\"><polygon fill=\"#F8F8F8\" points=\"287,411,287,465.5938,395,465.5938,415,438.2969,395,411\" style=\"stroke: #000000; stroke-width: 1.5;\"/><text fill=\"#000000\" font-family=\"sans-serif\" font-size=\"14\" font-style=\"italic\" lengthAdjust=\"spacingAndGlyphs\" textLength=\"99\" x=\"294\" y=\"433.9951\">«send action»</text><text fill=\"#000000\" font-family=\"sans-serif\" font-size=\"14\" lengthAdjust=\"spacingAndGlyphs\" textLength=\"65\" x=\"311\" y=\"451.292\">S() to  B()</text></a><polygon fill=\"#F8F8F8\" points=\"426,527,438,539,426,551,414,539,426,527\" style=\"stroke: #383838; stroke-width: 1.5;\"/><ellipse cx=\"428\" cy=\"110\" fill=\"#000000\" rx=\"10\" ry=\"10\" style=\"stroke: none; stroke-width: 1.0;\"/><ellipse cx=\"426\" cy=\"622\" fill=\"none\" rx=\"10\" ry=\"10\" style=\"stroke: #000000; stroke-width: 1.0;\"/><ellipse cx=\"426.5\" cy=\"622.5\" fill=\"#000000\" rx=\"6\" ry=\"6\" style=\"stroke: none; stroke-width: 1.0;\"/><g id=\"E1.E8\"><a href=\"psysml:530e5343-b7af-483f-85a0-93ec425d0302\" target=\"_top\" title=\"psysml:530e5343-b7af-483f-85a0-93ec425d0302\" xlink:actuate=\"onRequest\" xlink:href=\"psysml:530e5343-b7af-483f-85a0-93ec425d0302\" xlink:show=\"new\" xlink:title=\"psysml:530e5343-b7af-483f-85a0-93ec425d0302\" xlink:type=\"simple\"><rect fill=\"#FFFFFF\" height=\"42.9375\" id=\"E8\" style=\"stroke: #383838; stroke-width: 1.5;\" width=\"88\" x=\"32\" y=\"88.5\"/><rect fill=\"#F8F8F8\" height=\"37.9375\" style=\"stroke: #383838; stroke-width: 1.5;\" width=\"88\" x=\"32\" y=\"88.5\"/><text fill=\"#000000\" font-family=\"sans-serif\" font-size=\"12\" font-style=\"italic\" lengthAdjust=\"spacingAndGlyphs\" textLength=\"81\" x=\"35.5\" y=\"104.6387\">«action  def»</text><text fill=\"#000000\" font-family=\"sans-serif\" font-size=\"12\" lengthAdjust=\"spacingAndGlyphs\" textLength=\"8\" x=\"72\" y=\"118.6074\">B</text></a></g><!--MD5=[f47e10efcf9a6752d55dae986d790ed9]\n",
       "link *start*E3 to E4--><a href=\"psysml:8ec85343-59fa-499c-a77c-a2bbf8c30a9c\" target=\"_top\" title=\"psysml:8ec85343-59fa-499c-a77c-a2bbf8c30a9c\" xlink:actuate=\"onRequest\" xlink:href=\"psysml:8ec85343-59fa-499c-a77c-a2bbf8c30a9c\" xlink:show=\"new\" xlink:title=\"psysml:8ec85343-59fa-499c-a77c-a2bbf8c30a9c\" xlink:type=\"simple\"><path d=\"M428,120.01 C428,135.81 428,168.69 428,188.61 \" fill=\"none\" id=\"*start*E3-&gt;E4\" style=\"stroke: #383838; stroke-width: 1.0;\"/><polygon fill=\"#383838\" points=\"428,193.85,432,184.85,428,188.85,424,184.85,428,193.85\" style=\"stroke: #383838; stroke-width: 1.0;\"/></a><!--MD5=[d19f2eb34364d71b67042106d92f540b]\n",
       "link E7 to *end*E3--><a href=\"psysml:0d9f4e26-bf93-4aba-a8c6-6dafeae60007\" target=\"_top\" title=\"psysml:0d9f4e26-bf93-4aba-a8c6-6dafeae60007\" xlink:actuate=\"onRequest\" xlink:href=\"psysml:0d9f4e26-bf93-4aba-a8c6-6dafeae60007\" xlink:show=\"new\" xlink:title=\"psysml:0d9f4e26-bf93-4aba-a8c6-6dafeae60007\" xlink:type=\"simple\"><path d=\"M426,551.26 C426,565.66 426,590.63 426,606.46 \" fill=\"none\" id=\"E7-&gt;*end*E3\" style=\"stroke: #383838; stroke-width: 1.0;\"/><polygon fill=\"#383838\" points=\"426,611.84,430,602.84,426,606.84,422,602.84,426,611.84\" style=\"stroke: #383838; stroke-width: 1.0;\"/></a><!--MD5=[1b7591eae5389033d8d09a9d6721a717]\n",
       "link E4 to E5--><a href=\"psysml:0f743cc2-6e19-41e4-aad8-79cb567e3158\" target=\"_top\" title=\"psysml:0f743cc2-6e19-41e4-aad8-79cb567e3158\" xlink:actuate=\"onRequest\" xlink:href=\"psysml:0f743cc2-6e19-41e4-aad8-79cb567e3158\" xlink:show=\"new\" xlink:title=\"psysml:0f743cc2-6e19-41e4-aad8-79cb567e3158\" xlink:type=\"simple\"><path d=\"M423.34,213.46 C414.55,225.66 394.99,252.8 379.37,274.46 \" fill=\"none\" id=\"E4-&gt;E5\" style=\"stroke: #383838; stroke-width: 1.0;\"/><polygon fill=\"#383838\" points=\"376.31,278.71,384.8093,273.7339,379.227,274.6491,378.3119,269.0667,376.31,278.71\" style=\"stroke: #383838; stroke-width: 1.0;\"/><text fill=\"#000000\" font-family=\"sans-serif\" font-size=\"13\" lengthAdjust=\"spacingAndGlyphs\" textLength=\"7\" x=\"372.7684\" y=\"268.1162\">*</text></a><!--MD5=[9120cf2e5df3bff93db8f754bbbc09b4]\n",
       "link E5 to E6--><a href=\"psysml:3404b4e6-fa1c-4cf0-a87f-a7f8eafbc3bc\" target=\"_top\" title=\"psysml:3404b4e6-fa1c-4cf0-a87f-a7f8eafbc3bc\" xlink:actuate=\"onRequest\" xlink:href=\"psysml:3404b4e6-fa1c-4cf0-a87f-a7f8eafbc3bc\" xlink:show=\"new\" xlink:title=\"psysml:3404b4e6-fa1c-4cf0-a87f-a7f8eafbc3bc\" xlink:type=\"simple\"><path d=\"M355.77,334.12 C354.81,354.89 353.48,383.8 352.46,405.77 \" fill=\"none\" id=\"E5-&gt;E6\" style=\"stroke: #383838; stroke-width: 1.0;\"/><polygon fill=\"#383838\" points=\"352.23,410.91,356.6368,402.1021,352.4583,405.9152,348.6452,401.7367,352.23,410.91\" style=\"stroke: #383838; stroke-width: 1.0;\"/><text fill=\"#000000\" font-family=\"sans-serif\" font-size=\"13\" lengthAdjust=\"spacingAndGlyphs\" textLength=\"7\" x=\"344.7051\" y=\"399.9247\">*</text></a><!--MD5=[02c70b7c851c11e3980e4e90450dc5dd]\n",
       "link E6 to E7--><a href=\"psysml:a56f0975-9bdd-4db4-ac34-32a8d14536cf\" target=\"_top\" title=\"psysml:a56f0975-9bdd-4db4-ac34-32a8d14536cf\" xlink:actuate=\"onRequest\" xlink:href=\"psysml:a56f0975-9bdd-4db4-ac34-32a8d14536cf\" xlink:show=\"new\" xlink:title=\"psysml:a56f0975-9bdd-4db4-ac34-32a8d14536cf\" xlink:type=\"simple\"><path d=\"M371.3,466.16 C386.71,486.4 407.07,513.14 418.09,527.61 \" fill=\"none\" id=\"E6-&gt;E7\" style=\"stroke: #383838; stroke-width: 1.0;\"/><polygon fill=\"#383838\" points=\"421.2,531.69,418.9398,522.104,418.1749,527.7089,412.57,526.9441,421.2,531.69\" style=\"stroke: #383838; stroke-width: 1.0;\"/><text fill=\"#000000\" font-family=\"sans-serif\" font-size=\"13\" lengthAdjust=\"spacingAndGlyphs\" textLength=\"7\" x=\"406.9375\" y=\"515.8563\">*</text></a><!--MD5=[6bdd27f9905911a7e892a3dc65cf6b7c]\n",
       "link E7 to E4--><a href=\"psysml:2a79c4d0-9744-4107-95b5-d9c642bb083b\" target=\"_top\" title=\"psysml:2a79c4d0-9744-4107-95b5-d9c642bb083b\" xlink:actuate=\"onRequest\" xlink:href=\"psysml:2a79c4d0-9744-4107-95b5-d9c642bb083b\" xlink:show=\"new\" xlink:title=\"psysml:2a79c4d0-9744-4107-95b5-d9c642bb083b\" xlink:type=\"simple\"><path d=\"M427.98,528.56 C434.8,494.71 456.32,376.18 445,279 C442.59,258.32 436.42,234.96 432.21,220.61 \" fill=\"none\" id=\"E7-&gt;E4\" style=\"stroke: #383838; stroke-width: 1.0;\"/><polygon fill=\"#383838\" points=\"430.76,215.75,429.4935,225.5171,432.1863,220.5423,437.1611,223.2351,430.76,215.75\" style=\"stroke: #383838; stroke-width: 1.0;\"/><text fill=\"#000000\" font-family=\"sans-serif\" font-size=\"13\" lengthAdjust=\"spacingAndGlyphs\" textLength=\"36\" x=\"448\" y=\"377.0669\">[true]</text><text fill=\"#000000\" font-family=\"sans-serif\" font-size=\"13\" lengthAdjust=\"spacingAndGlyphs\" textLength=\"7\" x=\"423.3253\" y=\"237.9903\">*</text></a><!--MD5=[7ded468370d9b1c8c776f4e505f34365]\n",
       "@startuml\r\n",
       " skinparam monochrome true\r\n",
       "skinparam classbackgroundcolor white\r\n",
       "skinparam shadowing false\r\n",
       "skinparam wrapWidth 300\r\n",
       "hide circle\r\n",
       "\r\n",
       "package \"ActionTest\" as E1  [[psysml:b606a038-0c45-436f-a3a1-beef47fa0e17 ]]  {\r\n",
       "comp def \"S\" as E2  <<(T,blue) attribute  def>> [[psysml:f9329402-d9ed-482b-aa71-2e931e2796d7 ]] {\r\n",
       "}\r\n",
       "rec usage \"a\" as E3  <<(T,blue) action>> [[psysml:69e16b91-de61-4fe2-8ebf-63b040d0687a ]] {\r\n",
       "choice \"m\" as E4  [[psysml:ba661374-e1ab-49de-aa21-c62362c65829 ]] \r\n",
       "accept \" S\" as E5 << accept action>> [[psysml:dcf8e234-4de8-4cb8-a947-17c2138066f0 ]] \r\n",
       "send \" S() to  B()\" as E6 << send action>> [[psysml:18c3d457-6bb3-4962-a480-0e1b2254a09a ]] \r\n",
       "choice \"<s>noname</s>\" as E7  [[psysml:1cf4a57b-2f41-48db-bb2e-4817b665eacc ]] \r\n",
       "[*] - -> E4 [[psysml:8ec85343-59fa-499c-a77c-a2bbf8c30a9c ]] \r\n",
       "E7  - -> [*] [[psysml:0d9f4e26-bf93-4aba-a8c6-6dafeae60007 ]] \r\n",
       "}\r\n",
       "\r\n",
       "rec def \"B\" as E8  <<(T,blue) action  def>> [[psysml:530e5343-b7af-483f-85a0-93ec425d0302 ]] {\r\n",
       "}\r\n",
       "\r\n",
       "}\r\n",
       "E4 - -> \"*\"E5 [[psysml:0f743cc2-6e19-41e4-aad8-79cb567e3158 ]] \r\n",
       "E5 - -> \"*\"E6 [[psysml:3404b4e6-fa1c-4cf0-a87f-a7f8eafbc3bc ]] \r\n",
       "E6 - -> \"*\"E7 [[psysml:a56f0975-9bdd-4db4-ac34-32a8d14536cf ]] \r\n",
       "E7  - -> \"*\"E4 [[psysml:2a79c4d0-9744-4107-95b5-d9c642bb083b ]] : [true]\r\n",
       "@enduml\r\n",
       "\n",
       "PlantUML version 1.2020.13(Sat Jun 13 12:26:38 UTC 2020)\n",
       "(EPL source distribution)\n",
       "Java Runtime: OpenJDK Runtime Environment\n",
       "JVM: OpenJDK 64-Bit Server VM\n",
       "Default Encoding: UTF-8\n",
       "Language: en\n",
       "Country: null\n",
       "--></g></svg>"
      ]
     },
     "execution_count": 8,
     "metadata": {},
     "output_type": "execute_result"
    }
   ],
   "source": [
    "%viz --style=\"COMPTREE\" --view=\"MIXED\" \"ActionTest\""
   ]
  },
  {
   "cell_type": "code",
   "execution_count": 9,
   "id": "a20ebd7c",
   "metadata": {
    "execution": {
     "iopub.execute_input": "2021-10-25T08:21:21.804168Z",
     "iopub.status.busy": "2021-10-25T08:21:21.803657Z",
     "iopub.status.idle": "2021-10-25T08:21:21.842724Z",
     "shell.execute_reply": "2021-10-25T08:21:21.840908Z"
    }
   },
   "outputs": [
    {
     "data": {
      "image/svg+xml": [
       "<?xml version=\"1.0\" encoding=\"UTF-8\" standalone=\"no\"?><svg xmlns=\"http://www.w3.org/2000/svg\" xmlns:xlink=\"http://www.w3.org/1999/xlink\" contentScriptType=\"application/ecmascript\" contentStyleType=\"text/css\" height=\"684px\" preserveAspectRatio=\"none\" style=\"width:526px;height:684px;\" version=\"1.1\" viewBox=\"0 0 526 684\" width=\"526px\" zoomAndPan=\"magnify\"><defs/><g><!--MD5=[fbc87193dbaf4d95561dea2c320d4a47]\n",
       "cluster E1--><a href=\"psysml:b606a038-0c45-436f-a3a1-beef47fa0e17\" target=\"_top\" title=\"psysml:b606a038-0c45-436f-a3a1-beef47fa0e17\" xlink:actuate=\"onRequest\" xlink:href=\"psysml:b606a038-0c45-436f-a3a1-beef47fa0e17\" xlink:show=\"new\" xlink:title=\"psysml:b606a038-0c45-436f-a3a1-beef47fa0e17\" xlink:type=\"simple\"><polygon fill=\"#FFFFFF\" points=\"16,6,96,6,103,28.2969,504,28.2969,504,672,16,672,16,6\" style=\"stroke: #000000; stroke-width: 1.5;\"/><line style=\"stroke: #000000; stroke-width: 1.5;\" x1=\"16\" x2=\"103\" y1=\"28.2969\" y2=\"28.2969\"/><text fill=\"#000000\" font-family=\"sans-serif\" font-size=\"14\" font-weight=\"bold\" lengthAdjust=\"spacingAndGlyphs\" textLength=\"74\" x=\"20\" y=\"20.9951\">ActionTest</text></a><!--MD5=[d5e69f78d87373223dbae638b30a9c99]\n",
       "cluster E3--><a href=\"psysml:69e16b91-de61-4fe2-8ebf-63b040d0687a\" target=\"_top\" title=\"psysml:69e16b91-de61-4fe2-8ebf-63b040d0687a\" xlink:actuate=\"onRequest\" xlink:href=\"psysml:69e16b91-de61-4fe2-8ebf-63b040d0687a\" xlink:show=\"new\" xlink:title=\"psysml:69e16b91-de61-4fe2-8ebf-63b040d0687a\" xlink:type=\"simple\"><rect fill=\"#FFFFFF\" height=\"599\" id=\"E3\" rx=\"10\" ry=\"10\" style=\"stroke: #383838; stroke-width: 1.5;\" width=\"209\" x=\"271\" y=\"49\"/><rect fill=\"#F8F8F8\" height=\"37.9375\" rx=\"10\" ry=\"10\" style=\"stroke: #F8F8F8; stroke-width: 1.5;\" width=\"209\" x=\"271\" y=\"49\"/><rect fill=\"#F8F8F8\" height=\"10\" style=\"stroke: #F8F8F8; stroke-width: 1.5;\" width=\"209\" x=\"271\" y=\"76.9375\"/><rect fill=\"none\" height=\"599\" id=\"E3\" rx=\"10\" ry=\"10\" style=\"stroke: #383838; stroke-width: 1.5;\" width=\"209\" x=\"271\" y=\"49\"/><text fill=\"#000000\" font-family=\"sans-serif\" font-size=\"12\" font-style=\"italic\" lengthAdjust=\"spacingAndGlyphs\" textLength=\"53\" x=\"349\" y=\"65.1387\">«action»</text><text fill=\"#000000\" font-family=\"sans-serif\" font-size=\"12\" lengthAdjust=\"spacingAndGlyphs\" textLength=\"8\" x=\"371.5\" y=\"79.1074\">a</text><line style=\"stroke: #383838; stroke-width: 1.0;\" x1=\"271\" x2=\"480\" y1=\"86.9375\" y2=\"86.9375\"/></a><!--MD5=[b4997ac47864f28c2f74865a473b2911]\n",
       "class E2--><a href=\"psysml:f9329402-d9ed-482b-aa71-2e931e2796d7\" target=\"_top\" title=\"psysml:f9329402-d9ed-482b-aa71-2e931e2796d7\" xlink:actuate=\"onRequest\" xlink:href=\"psysml:f9329402-d9ed-482b-aa71-2e931e2796d7\" xlink:show=\"new\" xlink:title=\"psysml:f9329402-d9ed-482b-aa71-2e931e2796d7\" xlink:type=\"simple\"><rect fill=\"#FFFFFF\" height=\"45.9375\" id=\"E2\" style=\"stroke: #383838; stroke-width: 1.5;\" width=\"99\" x=\"155.5\" y=\"87\"/><text fill=\"#000000\" font-family=\"sans-serif\" font-size=\"12\" font-style=\"italic\" lengthAdjust=\"spacingAndGlyphs\" textLength=\"97\" x=\"156.5\" y=\"103.1387\">«attribute  def»</text><text fill=\"#000000\" font-family=\"sans-serif\" font-size=\"12\" lengthAdjust=\"spacingAndGlyphs\" textLength=\"8\" x=\"201\" y=\"117.1074\">S</text><line style=\"stroke: #383838; stroke-width: 1.5;\" x1=\"156.5\" x2=\"253.5\" y1=\"124.9375\" y2=\"124.9375\"/></a><polygon fill=\"#F8F8F8\" points=\"428,194,440,206,428,218,416,206,428,194\" style=\"stroke: #383838; stroke-width: 1.5;\"/><!--MD5=[21dd76c19d33815960c0e92fef8f0eef]\n",
       "entity E5--><a href=\"psysml:dcf8e234-4de8-4cb8-a947-17c2138066f0\" target=\"_top\" title=\"psysml:dcf8e234-4de8-4cb8-a947-17c2138066f0\" xlink:actuate=\"onRequest\" xlink:href=\"psysml:dcf8e234-4de8-4cb8-a947-17c2138066f0\" xlink:show=\"new\" xlink:title=\"psysml:dcf8e234-4de8-4cb8-a947-17c2138066f0\" xlink:type=\"simple\"><polygon fill=\"#F8F8F8\" points=\"287,279,287,333.5938,427,333.5938,407,306.2969,427,279\" style=\"stroke: #000000; stroke-width: 1.5;\"/><text fill=\"#000000\" font-family=\"sans-serif\" font-size=\"14\" font-style=\"italic\" lengthAdjust=\"spacingAndGlyphs\" textLength=\"111\" x=\"294\" y=\"301.9951\">«accept action»</text><text fill=\"#000000\" font-family=\"sans-serif\" font-size=\"14\" lengthAdjust=\"spacingAndGlyphs\" textLength=\"9\" x=\"345\" y=\"319.292\">S</text></a><!--MD5=[24d87cdf3002d433f401b2a2aa9f9f65]\n",
       "entity E6--><a href=\"psysml:18c3d457-6bb3-4962-a480-0e1b2254a09a\" target=\"_top\" title=\"psysml:18c3d457-6bb3-4962-a480-0e1b2254a09a\" xlink:actuate=\"onRequest\" xlink:href=\"psysml:18c3d457-6bb3-4962-a480-0e1b2254a09a\" xlink:show=\"new\" xlink:title=\"psysml:18c3d457-6bb3-4962-a480-0e1b2254a09a\" xlink:type=\"simple\"><polygon fill=\"#F8F8F8\" points=\"287,411,287,465.5938,395,465.5938,415,438.2969,395,411\" style=\"stroke: #000000; stroke-width: 1.5;\"/><text fill=\"#000000\" font-family=\"sans-serif\" font-size=\"14\" font-style=\"italic\" lengthAdjust=\"spacingAndGlyphs\" textLength=\"99\" x=\"294\" y=\"433.9951\">«send action»</text><text fill=\"#000000\" font-family=\"sans-serif\" font-size=\"14\" lengthAdjust=\"spacingAndGlyphs\" textLength=\"65\" x=\"311\" y=\"451.292\">S() to  B()</text></a><polygon fill=\"#F8F8F8\" points=\"426,527,438,539,426,551,414,539,426,527\" style=\"stroke: #383838; stroke-width: 1.5;\"/><ellipse cx=\"428\" cy=\"110\" fill=\"#000000\" rx=\"10\" ry=\"10\" style=\"stroke: none; stroke-width: 1.0;\"/><ellipse cx=\"426\" cy=\"622\" fill=\"none\" rx=\"10\" ry=\"10\" style=\"stroke: #000000; stroke-width: 1.0;\"/><ellipse cx=\"426.5\" cy=\"622.5\" fill=\"#000000\" rx=\"6\" ry=\"6\" style=\"stroke: none; stroke-width: 1.0;\"/><g id=\"E1.E8\"><a href=\"psysml:530e5343-b7af-483f-85a0-93ec425d0302\" target=\"_top\" title=\"psysml:530e5343-b7af-483f-85a0-93ec425d0302\" xlink:actuate=\"onRequest\" xlink:href=\"psysml:530e5343-b7af-483f-85a0-93ec425d0302\" xlink:show=\"new\" xlink:title=\"psysml:530e5343-b7af-483f-85a0-93ec425d0302\" xlink:type=\"simple\"><rect fill=\"#FFFFFF\" height=\"42.9375\" id=\"E8\" style=\"stroke: #383838; stroke-width: 1.5;\" width=\"88\" x=\"32\" y=\"88.5\"/><rect fill=\"#F8F8F8\" height=\"37.9375\" style=\"stroke: #383838; stroke-width: 1.5;\" width=\"88\" x=\"32\" y=\"88.5\"/><text fill=\"#000000\" font-family=\"sans-serif\" font-size=\"12\" font-style=\"italic\" lengthAdjust=\"spacingAndGlyphs\" textLength=\"81\" x=\"35.5\" y=\"104.6387\">«action  def»</text><text fill=\"#000000\" font-family=\"sans-serif\" font-size=\"12\" lengthAdjust=\"spacingAndGlyphs\" textLength=\"8\" x=\"72\" y=\"118.6074\">B</text></a></g><!--MD5=[f47e10efcf9a6752d55dae986d790ed9]\n",
       "link *start*E3 to E4--><a href=\"psysml:8ec85343-59fa-499c-a77c-a2bbf8c30a9c\" target=\"_top\" title=\"psysml:8ec85343-59fa-499c-a77c-a2bbf8c30a9c\" xlink:actuate=\"onRequest\" xlink:href=\"psysml:8ec85343-59fa-499c-a77c-a2bbf8c30a9c\" xlink:show=\"new\" xlink:title=\"psysml:8ec85343-59fa-499c-a77c-a2bbf8c30a9c\" xlink:type=\"simple\"><path d=\"M428,120.01 C428,135.81 428,168.69 428,188.61 \" fill=\"none\" id=\"*start*E3-&gt;E4\" style=\"stroke: #383838; stroke-width: 1.0;\"/><polygon fill=\"#383838\" points=\"428,193.85,432,184.85,428,188.85,424,184.85,428,193.85\" style=\"stroke: #383838; stroke-width: 1.0;\"/></a><!--MD5=[d19f2eb34364d71b67042106d92f540b]\n",
       "link E7 to *end*E3--><a href=\"psysml:0d9f4e26-bf93-4aba-a8c6-6dafeae60007\" target=\"_top\" title=\"psysml:0d9f4e26-bf93-4aba-a8c6-6dafeae60007\" xlink:actuate=\"onRequest\" xlink:href=\"psysml:0d9f4e26-bf93-4aba-a8c6-6dafeae60007\" xlink:show=\"new\" xlink:title=\"psysml:0d9f4e26-bf93-4aba-a8c6-6dafeae60007\" xlink:type=\"simple\"><path d=\"M426,551.26 C426,565.66 426,590.63 426,606.46 \" fill=\"none\" id=\"E7-&gt;*end*E3\" style=\"stroke: #383838; stroke-width: 1.0;\"/><polygon fill=\"#383838\" points=\"426,611.84,430,602.84,426,606.84,422,602.84,426,611.84\" style=\"stroke: #383838; stroke-width: 1.0;\"/></a><!--MD5=[1b7591eae5389033d8d09a9d6721a717]\n",
       "link E4 to E5--><a href=\"psysml:0f743cc2-6e19-41e4-aad8-79cb567e3158\" target=\"_top\" title=\"psysml:0f743cc2-6e19-41e4-aad8-79cb567e3158\" xlink:actuate=\"onRequest\" xlink:href=\"psysml:0f743cc2-6e19-41e4-aad8-79cb567e3158\" xlink:show=\"new\" xlink:title=\"psysml:0f743cc2-6e19-41e4-aad8-79cb567e3158\" xlink:type=\"simple\"><path d=\"M423.34,213.46 C414.55,225.66 394.99,252.8 379.37,274.46 \" fill=\"none\" id=\"E4-&gt;E5\" style=\"stroke: #383838; stroke-width: 1.0;\"/><polygon fill=\"#383838\" points=\"376.31,278.71,384.8093,273.7339,379.227,274.6491,378.3119,269.0667,376.31,278.71\" style=\"stroke: #383838; stroke-width: 1.0;\"/><text fill=\"#000000\" font-family=\"sans-serif\" font-size=\"13\" lengthAdjust=\"spacingAndGlyphs\" textLength=\"7\" x=\"372.7684\" y=\"268.1162\">*</text></a><!--MD5=[9120cf2e5df3bff93db8f754bbbc09b4]\n",
       "link E5 to E6--><a href=\"psysml:3404b4e6-fa1c-4cf0-a87f-a7f8eafbc3bc\" target=\"_top\" title=\"psysml:3404b4e6-fa1c-4cf0-a87f-a7f8eafbc3bc\" xlink:actuate=\"onRequest\" xlink:href=\"psysml:3404b4e6-fa1c-4cf0-a87f-a7f8eafbc3bc\" xlink:show=\"new\" xlink:title=\"psysml:3404b4e6-fa1c-4cf0-a87f-a7f8eafbc3bc\" xlink:type=\"simple\"><path d=\"M355.77,334.12 C354.81,354.89 353.48,383.8 352.46,405.77 \" fill=\"none\" id=\"E5-&gt;E6\" style=\"stroke: #383838; stroke-width: 1.0;\"/><polygon fill=\"#383838\" points=\"352.23,410.91,356.6368,402.1021,352.4583,405.9152,348.6452,401.7367,352.23,410.91\" style=\"stroke: #383838; stroke-width: 1.0;\"/><text fill=\"#000000\" font-family=\"sans-serif\" font-size=\"13\" lengthAdjust=\"spacingAndGlyphs\" textLength=\"7\" x=\"344.7051\" y=\"399.9247\">*</text></a><!--MD5=[02c70b7c851c11e3980e4e90450dc5dd]\n",
       "link E6 to E7--><a href=\"psysml:a56f0975-9bdd-4db4-ac34-32a8d14536cf\" target=\"_top\" title=\"psysml:a56f0975-9bdd-4db4-ac34-32a8d14536cf\" xlink:actuate=\"onRequest\" xlink:href=\"psysml:a56f0975-9bdd-4db4-ac34-32a8d14536cf\" xlink:show=\"new\" xlink:title=\"psysml:a56f0975-9bdd-4db4-ac34-32a8d14536cf\" xlink:type=\"simple\"><path d=\"M371.3,466.16 C386.71,486.4 407.07,513.14 418.09,527.61 \" fill=\"none\" id=\"E6-&gt;E7\" style=\"stroke: #383838; stroke-width: 1.0;\"/><polygon fill=\"#383838\" points=\"421.2,531.69,418.9398,522.104,418.1749,527.7089,412.57,526.9441,421.2,531.69\" style=\"stroke: #383838; stroke-width: 1.0;\"/><text fill=\"#000000\" font-family=\"sans-serif\" font-size=\"13\" lengthAdjust=\"spacingAndGlyphs\" textLength=\"7\" x=\"406.9375\" y=\"515.8563\">*</text></a><!--MD5=[6bdd27f9905911a7e892a3dc65cf6b7c]\n",
       "link E7 to E4--><a href=\"psysml:2a79c4d0-9744-4107-95b5-d9c642bb083b\" target=\"_top\" title=\"psysml:2a79c4d0-9744-4107-95b5-d9c642bb083b\" xlink:actuate=\"onRequest\" xlink:href=\"psysml:2a79c4d0-9744-4107-95b5-d9c642bb083b\" xlink:show=\"new\" xlink:title=\"psysml:2a79c4d0-9744-4107-95b5-d9c642bb083b\" xlink:type=\"simple\"><path d=\"M427,527.68 C428.94,507.78 433,466 433,466 C433,466 445,334 445,334 C445,334 445,279 445,279 C445,279 436.27,242.03 431.32,221.07 \" fill=\"none\" id=\"E7-&gt;E4\" style=\"stroke: #383838; stroke-width: 1.0;\"/><polygon fill=\"#383838\" points=\"430.15,216.12,428.3382,225.8008,431.3055,220.9846,436.1217,223.9519,430.15,216.12\" style=\"stroke: #383838; stroke-width: 1.0;\"/><text fill=\"#000000\" font-family=\"sans-serif\" font-size=\"13\" lengthAdjust=\"spacingAndGlyphs\" textLength=\"36\" x=\"443\" y=\"377.0669\">[true]</text><text fill=\"#000000\" font-family=\"sans-serif\" font-size=\"13\" lengthAdjust=\"spacingAndGlyphs\" textLength=\"7\" x=\"422.3906\" y=\"238.1355\">*</text></a><!--MD5=[bc3f321c8590408669ccafba7625162b]\n",
       "@startuml\r\n",
       "skinparam linetype polyline\r\n",
       "skinparam monochrome true\r\n",
       "skinparam classbackgroundcolor white\r\n",
       "skinparam shadowing false\r\n",
       "skinparam wrapWidth 300\r\n",
       "hide circle\r\n",
       "\r\n",
       "package \"ActionTest\" as E1  [[psysml:b606a038-0c45-436f-a3a1-beef47fa0e17 ]]  {\r\n",
       "comp def \"S\" as E2  <<(T,blue) attribute  def>> [[psysml:f9329402-d9ed-482b-aa71-2e931e2796d7 ]] {\r\n",
       "}\r\n",
       "rec usage \"a\" as E3  <<(T,blue) action>> [[psysml:69e16b91-de61-4fe2-8ebf-63b040d0687a ]] {\r\n",
       "choice \"m\" as E4  [[psysml:ba661374-e1ab-49de-aa21-c62362c65829 ]] \r\n",
       "accept \" S\" as E5 << accept action>> [[psysml:dcf8e234-4de8-4cb8-a947-17c2138066f0 ]] \r\n",
       "send \" S() to  B()\" as E6 << send action>> [[psysml:18c3d457-6bb3-4962-a480-0e1b2254a09a ]] \r\n",
       "choice \"<s>noname</s>\" as E7  [[psysml:1cf4a57b-2f41-48db-bb2e-4817b665eacc ]] \r\n",
       "[*] - -> E4 [[psysml:8ec85343-59fa-499c-a77c-a2bbf8c30a9c ]] \r\n",
       "E7  - -> [*] [[psysml:0d9f4e26-bf93-4aba-a8c6-6dafeae60007 ]] \r\n",
       "}\r\n",
       "\r\n",
       "rec def \"B\" as E8  <<(T,blue) action  def>> [[psysml:530e5343-b7af-483f-85a0-93ec425d0302 ]] {\r\n",
       "}\r\n",
       "\r\n",
       "}\r\n",
       "E4 - -> \"*\"E5 [[psysml:0f743cc2-6e19-41e4-aad8-79cb567e3158 ]] \r\n",
       "E5 - -> \"*\"E6 [[psysml:3404b4e6-fa1c-4cf0-a87f-a7f8eafbc3bc ]] \r\n",
       "E6 - -> \"*\"E7 [[psysml:a56f0975-9bdd-4db4-ac34-32a8d14536cf ]] \r\n",
       "E7  - -> \"*\"E4 [[psysml:2a79c4d0-9744-4107-95b5-d9c642bb083b ]] : [true]\r\n",
       "@enduml\r\n",
       "\n",
       "PlantUML version 1.2020.13(Sat Jun 13 12:26:38 UTC 2020)\n",
       "(EPL source distribution)\n",
       "Java Runtime: OpenJDK Runtime Environment\n",
       "JVM: OpenJDK 64-Bit Server VM\n",
       "Default Encoding: UTF-8\n",
       "Language: en\n",
       "Country: null\n",
       "--></g></svg>"
      ]
     },
     "execution_count": 9,
     "metadata": {},
     "output_type": "execute_result"
    }
   ],
   "source": [
    "%viz --style=\"POLYLINE\" --view=\"Default\" \"ActionTest\""
   ]
  },
  {
   "cell_type": "code",
   "execution_count": 10,
   "id": "1f2b2f9f",
   "metadata": {
    "execution": {
     "iopub.execute_input": "2021-10-25T08:21:21.891934Z",
     "iopub.status.busy": "2021-10-25T08:21:21.891518Z",
     "iopub.status.idle": "2021-10-25T08:21:22.055302Z",
     "shell.execute_reply": "2021-10-25T08:21:22.053314Z"
    }
   },
   "outputs": [
    {
     "data": {
      "image/svg+xml": [
       "<?xml version=\"1.0\" encoding=\"UTF-8\" standalone=\"no\"?><svg xmlns=\"http://www.w3.org/2000/svg\" xmlns:xlink=\"http://www.w3.org/1999/xlink\" contentScriptType=\"application/ecmascript\" contentStyleType=\"text/css\" height=\"479px\" preserveAspectRatio=\"none\" style=\"width:698px;height:479px;\" version=\"1.1\" viewBox=\"0 0 698 479\" width=\"698px\" zoomAndPan=\"magnify\"><defs/><g><!--MD5=[fbc87193dbaf4d95561dea2c320d4a47]\n",
       "cluster E1--><a href=\"psysml:b606a038-0c45-436f-a3a1-beef47fa0e17\" target=\"_top\" title=\"psysml:b606a038-0c45-436f-a3a1-beef47fa0e17\" xlink:actuate=\"onRequest\" xlink:href=\"psysml:b606a038-0c45-436f-a3a1-beef47fa0e17\" xlink:show=\"new\" xlink:title=\"psysml:b606a038-0c45-436f-a3a1-beef47fa0e17\" xlink:type=\"simple\"><polygon fill=\"#FFFFFF\" points=\"16,6,96,6,103,28.2969,676,28.2969,676,467,16,467,16,6\" style=\"stroke: #000000; stroke-width: 1.5;\"/><line style=\"stroke: #000000; stroke-width: 1.5;\" x1=\"16\" x2=\"103\" y1=\"28.2969\" y2=\"28.2969\"/><text fill=\"#000000\" font-family=\"sans-serif\" font-size=\"14\" font-weight=\"bold\" lengthAdjust=\"spacingAndGlyphs\" textLength=\"74\" x=\"20\" y=\"20.9951\">ActionTest</text></a><!--MD5=[b4997ac47864f28c2f74865a473b2911]\n",
       "class E2--><a href=\"psysml:f9329402-d9ed-482b-aa71-2e931e2796d7\" target=\"_top\" title=\"psysml:f9329402-d9ed-482b-aa71-2e931e2796d7\" xlink:actuate=\"onRequest\" xlink:href=\"psysml:f9329402-d9ed-482b-aa71-2e931e2796d7\" xlink:show=\"new\" xlink:title=\"psysml:f9329402-d9ed-482b-aa71-2e931e2796d7\" xlink:type=\"simple\"><rect fill=\"#FFFFFF\" height=\"45.9375\" id=\"E2\" style=\"stroke: #383838; stroke-width: 1.5;\" width=\"99\" x=\"283.5\" y=\"405\"/><text fill=\"#000000\" font-family=\"sans-serif\" font-size=\"12\" font-style=\"italic\" lengthAdjust=\"spacingAndGlyphs\" textLength=\"97\" x=\"284.5\" y=\"421.1387\">«attribute  def»</text><text fill=\"#000000\" font-family=\"sans-serif\" font-size=\"12\" lengthAdjust=\"spacingAndGlyphs\" textLength=\"8\" x=\"329\" y=\"435.1074\">S</text><line style=\"stroke: #383838; stroke-width: 1.5;\" x1=\"284.5\" x2=\"381.5\" y1=\"442.9375\" y2=\"442.9375\"/></a><!--MD5=[09b614a08d8cba4a07c9adeb5e0fee81]\n",
       "class E3--><a href=\"psysml:69e16b91-de61-4fe2-8ebf-63b040d0687a\" target=\"_top\" title=\"psysml:69e16b91-de61-4fe2-8ebf-63b040d0687a\" xlink:actuate=\"onRequest\" xlink:href=\"psysml:69e16b91-de61-4fe2-8ebf-63b040d0687a\" xlink:show=\"new\" xlink:title=\"psysml:69e16b91-de61-4fe2-8ebf-63b040d0687a\" xlink:type=\"simple\"><rect fill=\"#FFFFFF\" height=\"156.375\" id=\"E3\" rx=\"10\" ry=\"10\" style=\"stroke: #383838; stroke-width: 1.5;\" width=\"79\" x=\"293.5\" y=\"41\"/><text fill=\"#000000\" font-family=\"sans-serif\" font-size=\"12\" font-style=\"italic\" lengthAdjust=\"spacingAndGlyphs\" textLength=\"53\" x=\"306.5\" y=\"57.1387\">«action»</text><text fill=\"#000000\" font-family=\"sans-serif\" font-size=\"12\" lengthAdjust=\"spacingAndGlyphs\" textLength=\"8\" x=\"329\" y=\"71.1074\">a</text><line style=\"stroke: #383838; stroke-width: 1.5;\" x1=\"294.5\" x2=\"371.5\" y1=\"78.9375\" y2=\"78.9375\"/><text fill=\"#000000\" font-family=\"sans-serif\" font-size=\"11\" lengthAdjust=\"spacingAndGlyphs\" textLength=\"11\" x=\"299.5\" y=\"109.9526\">to</text><text fill=\"#000000\" font-family=\"sans-serif\" font-size=\"11\" lengthAdjust=\"spacingAndGlyphs\" textLength=\"11\" x=\"299.5\" y=\"122.7573\">to</text><text fill=\"#000000\" font-family=\"sans-serif\" font-size=\"11\" lengthAdjust=\"spacingAndGlyphs\" textLength=\"11\" x=\"299.5\" y=\"135.562\">to</text><text fill=\"#000000\" font-family=\"sans-serif\" font-size=\"11\" lengthAdjust=\"spacingAndGlyphs\" textLength=\"11\" x=\"299.5\" y=\"148.3667\">to</text><line style=\"stroke: #383838; stroke-width: 1.0;\" x1=\"294.5\" x2=\"297.5\" y1=\"93.3398\" y2=\"93.3398\"/><text fill=\"#000000\" font-family=\"sans-serif\" font-size=\"11\" lengthAdjust=\"spacingAndGlyphs\" textLength=\"71\" x=\"297.5\" y=\"96.6479\">successions</text><line style=\"stroke: #383838; stroke-width: 1.0;\" x1=\"368.5\" x2=\"371.5\" y1=\"93.3398\" y2=\"93.3398\"/><text fill=\"#000000\" font-family=\"sans-serif\" font-size=\"11\" lengthAdjust=\"spacingAndGlyphs\" textLength=\"0\" x=\"303.5\" y=\"177.9761\"/><text fill=\"#000000\" font-family=\"sans-serif\" font-size=\"11\" lengthAdjust=\"spacingAndGlyphs\" textLength=\"0\" x=\"303.5\" y=\"190.7808\"/><line style=\"stroke: #383838; stroke-width: 1.0;\" x1=\"294.5\" x2=\"302.5\" y1=\"161.3633\" y2=\"161.3633\"/><text fill=\"#000000\" font-family=\"sans-serif\" font-size=\"11\" lengthAdjust=\"spacingAndGlyphs\" textLength=\"61\" x=\"302.5\" y=\"164.6714\">transitions</text><line style=\"stroke: #383838; stroke-width: 1.0;\" x1=\"363.5\" x2=\"371.5\" y1=\"161.3633\" y2=\"161.3633\"/></a><!--MD5=[ebbe1d658d1005bcc118a6aa81145e00]\n",
       "class E4--><a href=\"psysml:d8f546a6-9527-45eb-b0f0-0c3fcbb6d2a9\" target=\"_top\" title=\"psysml:d8f546a6-9527-45eb-b0f0-0c3fcbb6d2a9\" xlink:actuate=\"onRequest\" xlink:href=\"psysml:d8f546a6-9527-45eb-b0f0-0c3fcbb6d2a9\" xlink:show=\"new\" xlink:title=\"psysml:d8f546a6-9527-45eb-b0f0-0c3fcbb6d2a9\" xlink:type=\"simple\"><rect fill=\"#FFFFFF\" height=\"45.9375\" id=\"E4\" rx=\"10\" ry=\"10\" style=\"stroke: #383838; stroke-width: 1.5;\" width=\"87\" x=\"32.5\" y=\"278\"/><text fill=\"#000000\" font-family=\"sans-serif\" font-size=\"12\" font-style=\"italic\" lengthAdjust=\"spacingAndGlyphs\" textLength=\"53\" x=\"49.5\" y=\"294.1387\">«action»</text><text fill=\"#000000\" font-family=\"sans-serif\" font-size=\"12\" lengthAdjust=\"spacingAndGlyphs\" textLength=\"77\" x=\"35.5\" y=\"308.1074\">start: Action</text><line style=\"stroke: #383838; stroke-width: 1.5;\" x1=\"33.5\" x2=\"118.5\" y1=\"315.9375\" y2=\"315.9375\"/></a><!--MD5=[270fce915f116d4de14055a7c1d9a0f3]\n",
       "class E5--><a href=\"psysml:ba661374-e1ab-49de-aa21-c62362c65829\" target=\"_top\" title=\"psysml:ba661374-e1ab-49de-aa21-c62362c65829\" xlink:actuate=\"onRequest\" xlink:href=\"psysml:ba661374-e1ab-49de-aa21-c62362c65829\" xlink:show=\"new\" xlink:title=\"psysml:ba661374-e1ab-49de-aa21-c62362c65829\" xlink:type=\"simple\"><rect fill=\"#FFFFFF\" height=\"45.9375\" id=\"E5\" rx=\"10\" ry=\"10\" style=\"stroke: #383838; stroke-width: 1.5;\" width=\"92\" x=\"155\" y=\"278\"/><text fill=\"#000000\" font-family=\"sans-serif\" font-size=\"12\" font-style=\"italic\" lengthAdjust=\"spacingAndGlyphs\" textLength=\"90\" x=\"156\" y=\"294.1387\">«merge node»</text><text fill=\"#000000\" font-family=\"sans-serif\" font-size=\"12\" lengthAdjust=\"spacingAndGlyphs\" textLength=\"11\" x=\"195.5\" y=\"308.1074\">m</text><line style=\"stroke: #383838; stroke-width: 1.5;\" x1=\"156\" x2=\"246\" y1=\"315.9375\" y2=\"315.9375\"/></a><!--MD5=[60a26617385b1d2d0262a64233df1f8d]\n",
       "class E6--><a href=\"psysml:dcf8e234-4de8-4cb8-a947-17c2138066f0\" target=\"_top\" title=\"psysml:dcf8e234-4de8-4cb8-a947-17c2138066f0\" xlink:actuate=\"onRequest\" xlink:href=\"psysml:dcf8e234-4de8-4cb8-a947-17c2138066f0\" xlink:show=\"new\" xlink:title=\"psysml:dcf8e234-4de8-4cb8-a947-17c2138066f0\" xlink:type=\"simple\"><rect fill=\"#FFFFFF\" height=\"88.3516\" id=\"E6\" rx=\"10\" ry=\"10\" style=\"stroke: #383838; stroke-width: 1.5;\" width=\"102\" x=\"282\" y=\"257\"/><text fill=\"#000000\" font-family=\"sans-serif\" font-size=\"12\" font-style=\"italic\" lengthAdjust=\"spacingAndGlyphs\" textLength=\"100\" x=\"283\" y=\"273.1387\">«accept action»</text><text fill=\"#000000\" font-family=\"sans-serif\" font-size=\"12\" lengthAdjust=\"spacingAndGlyphs\" text-decoration=\"line-through\" textLength=\"51\" x=\"307.5\" y=\"287.1074\">noname</text><line style=\"stroke: #383838; stroke-width: 1.5;\" x1=\"283\" x2=\"383\" y1=\"294.9375\" y2=\"294.9375\"/><text fill=\"#000000\" font-family=\"sans-serif\" font-size=\"11\" font-weight=\"bold\" lengthAdjust=\"spacingAndGlyphs\" textLength=\"10\" x=\"288\" y=\"325.9526\">in</text><text fill=\"#000000\" font-family=\"sans-serif\" font-size=\"11\" lengthAdjust=\"spacingAndGlyphs\" textLength=\"60\" x=\"302\" y=\"325.9526\">payload: S</text><text fill=\"#000000\" font-family=\"sans-serif\" font-size=\"11\" font-weight=\"bold\" lengthAdjust=\"spacingAndGlyphs\" textLength=\"10\" x=\"288\" y=\"338.7573\">in</text><text fill=\"#000000\" font-family=\"sans-serif\" font-size=\"11\" lengthAdjust=\"spacingAndGlyphs\" textLength=\"46\" x=\"302\" y=\"338.7573\">receiver</text><line style=\"stroke: #383838; stroke-width: 1.0;\" x1=\"283\" x2=\"299.5\" y1=\"309.3398\" y2=\"309.3398\"/><text fill=\"#000000\" font-family=\"sans-serif\" font-size=\"11\" lengthAdjust=\"spacingAndGlyphs\" textLength=\"67\" x=\"299.5\" y=\"312.6479\">parameters</text><line style=\"stroke: #383838; stroke-width: 1.0;\" x1=\"366.5\" x2=\"383\" y1=\"309.3398\" y2=\"309.3398\"/></a><!--MD5=[2156ba9850f5573cc1fc38a6a4b2f02b]\n",
       "class E7--><a href=\"psysml:18c3d457-6bb3-4962-a480-0e1b2254a09a\" target=\"_top\" title=\"psysml:18c3d457-6bb3-4962-a480-0e1b2254a09a\" xlink:actuate=\"onRequest\" xlink:href=\"psysml:18c3d457-6bb3-4962-a480-0e1b2254a09a\" xlink:show=\"new\" xlink:title=\"psysml:18c3d457-6bb3-4962-a480-0e1b2254a09a\" xlink:type=\"simple\"><rect fill=\"#FFFFFF\" height=\"88.3516\" id=\"E7\" rx=\"10\" ry=\"10\" style=\"stroke: #383838; stroke-width: 1.5;\" width=\"101\" x=\"419.5\" y=\"257\"/><text fill=\"#000000\" font-family=\"sans-serif\" font-size=\"12\" font-style=\"italic\" lengthAdjust=\"spacingAndGlyphs\" textLength=\"88\" x=\"426\" y=\"273.1387\">«send action»</text><text fill=\"#000000\" font-family=\"sans-serif\" font-size=\"12\" lengthAdjust=\"spacingAndGlyphs\" text-decoration=\"line-through\" textLength=\"51\" x=\"444.5\" y=\"287.1074\">noname</text><line style=\"stroke: #383838; stroke-width: 1.5;\" x1=\"420.5\" x2=\"519.5\" y1=\"294.9375\" y2=\"294.9375\"/><text fill=\"#000000\" font-family=\"sans-serif\" font-size=\"11\" font-weight=\"bold\" lengthAdjust=\"spacingAndGlyphs\" textLength=\"10\" x=\"425.5\" y=\"325.9526\">in</text><text fill=\"#000000\" font-family=\"sans-serif\" font-size=\"11\" lengthAdjust=\"spacingAndGlyphs\" textLength=\"73\" x=\"439.5\" y=\"325.9526\">payload=S();</text><text fill=\"#000000\" font-family=\"sans-serif\" font-size=\"11\" font-weight=\"bold\" lengthAdjust=\"spacingAndGlyphs\" textLength=\"10\" x=\"425.5\" y=\"338.7573\">in</text><text fill=\"#000000\" font-family=\"sans-serif\" font-size=\"11\" lengthAdjust=\"spacingAndGlyphs\" textLength=\"75\" x=\"439.5\" y=\"338.7573\">receiver=B();</text><line style=\"stroke: #383838; stroke-width: 1.0;\" x1=\"420.5\" x2=\"436.5\" y1=\"309.3398\" y2=\"309.3398\"/><text fill=\"#000000\" font-family=\"sans-serif\" font-size=\"11\" lengthAdjust=\"spacingAndGlyphs\" textLength=\"67\" x=\"436.5\" y=\"312.6479\">parameters</text><line style=\"stroke: #383838; stroke-width: 1.0;\" x1=\"503.5\" x2=\"519.5\" y1=\"309.3398\" y2=\"309.3398\"/></a><!--MD5=[b9389687b975829384b498ac4b7476b2]\n",
       "class E8--><a href=\"psysml:1cf4a57b-2f41-48db-bb2e-4817b665eacc\" target=\"_top\" title=\"psysml:1cf4a57b-2f41-48db-bb2e-4817b665eacc\" xlink:actuate=\"onRequest\" xlink:href=\"psysml:1cf4a57b-2f41-48db-bb2e-4817b665eacc\" xlink:show=\"new\" xlink:title=\"psysml:1cf4a57b-2f41-48db-bb2e-4817b665eacc\" xlink:type=\"simple\"><rect fill=\"#FFFFFF\" height=\"45.9375\" id=\"E8\" rx=\"10\" ry=\"10\" style=\"stroke: #383838; stroke-width: 1.5;\" width=\"104\" x=\"556\" y=\"278\"/><text fill=\"#000000\" font-family=\"sans-serif\" font-size=\"12\" font-style=\"italic\" lengthAdjust=\"spacingAndGlyphs\" textLength=\"102\" x=\"557\" y=\"294.1387\">«decision node»</text><text fill=\"#000000\" font-family=\"sans-serif\" font-size=\"12\" lengthAdjust=\"spacingAndGlyphs\" text-decoration=\"line-through\" textLength=\"51\" x=\"582.5\" y=\"308.1074\">noname</text><line style=\"stroke: #383838; stroke-width: 1.5;\" x1=\"557\" x2=\"659\" y1=\"315.9375\" y2=\"315.9375\"/></a><!--MD5=[fd4143e9d270a159db93a4ea2a975926]\n",
       "class E9--><a href=\"psysml:530e5343-b7af-483f-85a0-93ec425d0302\" target=\"_top\" title=\"psysml:530e5343-b7af-483f-85a0-93ec425d0302\" xlink:actuate=\"onRequest\" xlink:href=\"psysml:530e5343-b7af-483f-85a0-93ec425d0302\" xlink:show=\"new\" xlink:title=\"psysml:530e5343-b7af-483f-85a0-93ec425d0302\" xlink:type=\"simple\"><rect fill=\"#FFFFFF\" height=\"45.9375\" id=\"E9\" style=\"stroke: #383838; stroke-width: 1.5;\" width=\"83\" x=\"104.5\" y=\"96\"/><text fill=\"#000000\" font-family=\"sans-serif\" font-size=\"12\" font-style=\"italic\" lengthAdjust=\"spacingAndGlyphs\" textLength=\"81\" x=\"105.5\" y=\"112.1387\">«action  def»</text><text fill=\"#000000\" font-family=\"sans-serif\" font-size=\"12\" lengthAdjust=\"spacingAndGlyphs\" textLength=\"8\" x=\"142\" y=\"126.1074\">B</text><line style=\"stroke: #383838; stroke-width: 1.5;\" x1=\"105.5\" x2=\"186.5\" y1=\"133.9375\" y2=\"133.9375\"/></a><!--MD5=[4672eba38e49728da53d11aeb285b987]\n",
       "reverse link E3 to E4--><a href=\"psysml:4e23b20a-a36f-46ec-8d5d-d94d3421b796\" target=\"_top\" title=\"psysml:4e23b20a-a36f-46ec-8d5d-d94d3421b796\" xlink:actuate=\"onRequest\" xlink:href=\"psysml:4e23b20a-a36f-46ec-8d5d-d94d3421b796\" xlink:show=\"new\" xlink:title=\"psysml:4e23b20a-a36f-46ec-8d5d-d94d3421b796\" xlink:type=\"simple\"><path d=\"M280.68,156.57 C222.62,197.15 137,257 137,257 C137,257 122.22,267.42 107.21,278 \" fill=\"none\" id=\"E3&lt;-E4\" style=\"stroke: #383838; stroke-width: 1.0; stroke-dasharray: 7.0,7.0;\"/><ellipse cx=\"286.7836\" cy=\"152.3041\" fill=\"#FFFFFF\" rx=\"8\" ry=\"8\" style=\"stroke: #383838; stroke-width: 1.0;\"/><line style=\"stroke: #383838; stroke-width: 1.0;\" x1=\"280.2273\" x2=\"293.34\" y1=\"156.8882\" y2=\"147.72\"/><line style=\"stroke: #383838; stroke-width: 1.0;\" x1=\"282.1995\" x2=\"291.3678\" y1=\"145.7478\" y2=\"158.8605\"/></a><!--MD5=[191cde3d490a3f6d7bb551fe3ddca469]\n",
       "reverse link E3 to E5--><a href=\"psysml:ad14583f-f40d-4d66-bbbd-cfa822b8d260\" target=\"_top\" title=\"psysml:ad14583f-f40d-4d66-bbbd-cfa822b8d260\" xlink:actuate=\"onRequest\" xlink:href=\"psysml:ad14583f-f40d-4d66-bbbd-cfa822b8d260\" xlink:show=\"new\" xlink:title=\"psysml:ad14583f-f40d-4d66-bbbd-cfa822b8d260\" xlink:type=\"simple\"><path d=\"M285.45,184.85 C261.55,217.43 234.15,254.8 217.2,277.91 \" fill=\"none\" id=\"E3&lt;-E5\" style=\"stroke: #383838; stroke-width: 1.0;\"/><polygon fill=\"#383838\" points=\"293.4,174.01,286.6268,176.4846,286.3059,183.6885,293.0791,181.214,293.4,174.01\" style=\"stroke: #383838; stroke-width: 1.0;\"/><text fill=\"#000000\" font-family=\"sans-serif\" font-size=\"13\" lengthAdjust=\"spacingAndGlyphs\" textLength=\"7\" x=\"213.6131\" y=\"266.7821\">*</text></a><!--MD5=[1026b4b93417a13aa8999a858998add2]\n",
       "reverse link E3 to E6--><a href=\"psysml:02f2d6be-0a1b-48e7-9525-0788d6b31587\" target=\"_top\" title=\"psysml:02f2d6be-0a1b-48e7-9525-0788d6b31587\" xlink:actuate=\"onRequest\" xlink:href=\"psysml:02f2d6be-0a1b-48e7-9525-0788d6b31587\" xlink:show=\"new\" xlink:title=\"psysml:02f2d6be-0a1b-48e7-9525-0788d6b31587\" xlink:type=\"simple\"><path d=\"M333,210.12 C333,226.38 333,242.64 333,256.77 \" fill=\"none\" id=\"E3&lt;-E6\" style=\"stroke: #383838; stroke-width: 1.0;\"/><polygon fill=\"#383838\" points=\"333,197.12,329,203.12,333,209.12,337,203.12,333,197.12\" style=\"stroke: #383838; stroke-width: 1.0;\"/><text fill=\"#000000\" font-family=\"sans-serif\" font-size=\"13\" lengthAdjust=\"spacingAndGlyphs\" textLength=\"7\" x=\"325.4641\" y=\"245.899\">*</text></a><!--MD5=[3403bfa781cc3da0fd423dbab6f01c63]\n",
       "reverse link E6 to E2--><a href=\"psysml:415ec969-1049-4ff8-b1f4-3b78a625bc7d\" target=\"_top\" title=\"psysml:415ec969-1049-4ff8-b1f4-3b78a625bc7d\" xlink:actuate=\"onRequest\" xlink:href=\"psysml:415ec969-1049-4ff8-b1f4-3b78a625bc7d\" xlink:show=\"new\" xlink:title=\"psysml:415ec969-1049-4ff8-b1f4-3b78a625bc7d\" xlink:type=\"simple\"><path d=\"M320.31,358.11 C320,374.71 320.9,391.92 323.01,404.99 \" fill=\"none\" id=\"E6&lt;-E2\" style=\"stroke: #383838; stroke-width: 1.0;\"/><polygon fill=\"#FFFFFF\" points=\"320.82,345.02,316.5921,350.8617,320.3583,357.0111,324.5862,351.1695,320.82,345.02\" style=\"stroke: #383838; stroke-width: 1.0;\"/></a><!--MD5=[3403bfa781cc3da0fd423dbab6f01c63]\n",
       "reverse link E6 to E2--><a href=\"psysml:415ec969-1049-4ff8-b1f4-3b78a625bc7d\" target=\"_top\" title=\"psysml:415ec969-1049-4ff8-b1f4-3b78a625bc7d\" xlink:actuate=\"onRequest\" xlink:href=\"psysml:415ec969-1049-4ff8-b1f4-3b78a625bc7d\" xlink:show=\"new\" xlink:title=\"psysml:415ec969-1049-4ff8-b1f4-3b78a625bc7d\" xlink:type=\"simple\"><path d=\"M346.44,358.11 C346.76,374.71 345.81,391.92 343.57,404.99 \" fill=\"none\" id=\"E6&lt;-E2-1\" style=\"stroke: #383838; stroke-width: 1.0;\"/><polygon fill=\"#FFFFFF\" points=\"345.9,345.02,342.1473,351.1777,346.388,357.0101,350.1407,350.8524,345.9,345.02\" style=\"stroke: #383838; stroke-width: 1.0;\"/></a><!--MD5=[85760999379eecfd2565a9fecdca67e4]\n",
       "reverse link E3 to E7--><a href=\"psysml:6b163638-00d9-4d11-a021-492b992d4a3f\" target=\"_top\" title=\"psysml:6b163638-00d9-4d11-a021-492b992d4a3f\" xlink:actuate=\"onRequest\" xlink:href=\"psysml:6b163638-00d9-4d11-a021-492b992d4a3f\" xlink:show=\"new\" xlink:title=\"psysml:6b163638-00d9-4d11-a021-492b992d4a3f\" xlink:type=\"simple\"><path d=\"M380.73,182.71 C399.37,207.2 420.27,234.66 437.16,256.86 \" fill=\"none\" id=\"E3&lt;-E7\" style=\"stroke: #383838; stroke-width: 1.0;\"/><polygon fill=\"#383838\" points=\"372.63,172.06,373.0806,179.257,379.8974,181.6091,379.4467,174.4121,372.63,172.06\" style=\"stroke: #383838; stroke-width: 1.0;\"/><text fill=\"#000000\" font-family=\"sans-serif\" font-size=\"13\" lengthAdjust=\"spacingAndGlyphs\" textLength=\"7\" x=\"424.5954\" y=\"246.0028\">*</text></a><!--MD5=[4cb75b73ec3682b8f7f8edc9cc86126a]\n",
       "reverse link E3 to E8--><a href=\"psysml:e0686d6c-32a7-4788-b0ea-8926b68cc818\" target=\"_top\" title=\"psysml:e0686d6c-32a7-4788-b0ea-8926b68cc818\" xlink:actuate=\"onRequest\" xlink:href=\"psysml:e0686d6c-32a7-4788-b0ea-8926b68cc818\" xlink:show=\"new\" xlink:title=\"psysml:e0686d6c-32a7-4788-b0ea-8926b68cc818\" xlink:type=\"simple\"><path d=\"M383.69,153.18 C439.23,189.53 526.74,246.81 574.37,277.99 \" fill=\"none\" id=\"E3&lt;-E8\" style=\"stroke: #383838; stroke-width: 1.0;\"/><polygon fill=\"#383838\" points=\"372.69,145.98,375.5242,152.6108,382.735,152.5449,379.9008,145.9141,372.69,145.98\" style=\"stroke: #383838; stroke-width: 1.0;\"/></a><!--MD5=[f6e04500c1a825881ffd4ce323eb1b08]\n",
       "@startuml\r\n",
       "skinparam linetype polyline\r\n",
       "skinparam monochrome true\r\n",
       "skinparam classbackgroundcolor white\r\n",
       "skinparam shadowing false\r\n",
       "skinparam wrapWidth 300\r\n",
       "hide circle\r\n",
       "\r\n",
       "package \"ActionTest\" as E1  [[psysml:b606a038-0c45-436f-a3a1-beef47fa0e17 ]]  {\r\n",
       "comp def \"S\" as E2  <<(T,blue) attribute  def>> [[psysml:f9329402-d9ed-482b-aa71-2e931e2796d7 ]] {\r\n",
       "}\r\n",
       "comp usage \"a\" as E3  <<(T,blue) action>> [[psysml:69e16b91-de61-4fe2-8ebf-63b040d0687a ]] {\r\n",
       "- - successions - -\r\n",
       " to \r\n",
       " to \r\n",
       " to \r\n",
       " to \r\n",
       "- - transitions - -\r\n",
       "\r\n",
       "\r\n",
       "}\r\n",
       "comp usage \"start: Action \" as E4  <<(T,blue) action>> [[psysml:d8f546a6-9527-45eb-b0f0-0c3fcbb6d2a9 ]] {\r\n",
       "}\r\n",
       "comp usage \"m\" as E5  <<(T,blue) merge node>> [[psysml:ba661374-e1ab-49de-aa21-c62362c65829 ]] {\r\n",
       "}\r\n",
       "comp usage \"<s>noname</s>\" as E6 << accept action>> [[psysml:dcf8e234-4de8-4cb8-a947-17c2138066f0 ]] {\r\n",
       "- - parameters - -\r\n",
       "<b>in</b> payload: S\r\n",
       "<b>in</b> receiver\r\n",
       "}\r\n",
       "comp usage \"<s>noname</s>\" as E7 << send action>> [[psysml:18c3d457-6bb3-4962-a480-0e1b2254a09a ]] {\r\n",
       "- - parameters - -\r\n",
       "<b>in</b> payload=S(); \r\n",
       "<b>in</b> receiver=B(); \r\n",
       "}\r\n",
       "comp usage \"<s>noname</s>\" as E8  <<(T,blue) decision node>> [[psysml:1cf4a57b-2f41-48db-bb2e-4817b665eacc ]] {\r\n",
       "}\r\n",
       "comp def \"B\" as E9  <<(T,blue) action  def>> [[psysml:530e5343-b7af-483f-85a0-93ec425d0302 ]] {\r\n",
       "}\r\n",
       "}\r\n",
       "E3 +.. E4 [[psysml:4e23b20a-a36f-46ec-8d5d-d94d3421b796 ]] \r\n",
       "E3 *- - \"*\"E5 [[psysml:ad14583f-f40d-4d66-bbbd-cfa822b8d260 ]] \r\n",
       "E3 *- - \"*\"E6 [[psysml:02f2d6be-0a1b-48e7-9525-0788d6b31587 ]] \r\n",
       "E6 o- - E2 [[psysml:415ec969-1049-4ff8-b1f4-3b78a625bc7d ]] \r\n",
       "E6 o- - E2 [[psysml:415ec969-1049-4ff8-b1f4-3b78a625bc7d ]] \r\n",
       "E3 *- - \"*\"E7 [[psysml:6b163638-00d9-4d11-a021-492b992d4a3f ]] \r\n",
       "E3 *- - E8 [[psysml:e0686d6c-32a7-4788-b0ea-8926b68cc818 ]] \r\n",
       "@enduml\r\n",
       "\n",
       "PlantUML version 1.2020.13(Sat Jun 13 12:26:38 UTC 2020)\n",
       "(EPL source distribution)\n",
       "Java Runtime: OpenJDK Runtime Environment\n",
       "JVM: OpenJDK 64-Bit Server VM\n",
       "Default Encoding: UTF-8\n",
       "Language: en\n",
       "Country: null\n",
       "--></g></svg>"
      ]
     },
     "execution_count": 10,
     "metadata": {},
     "output_type": "execute_result"
    }
   ],
   "source": [
    "%viz --style=\"POLYLINE\" --view=\"Tree\" \"ActionTest\""
   ]
  },
  {
   "cell_type": "code",
   "execution_count": 11,
   "id": "fcd4a0d4",
   "metadata": {
    "execution": {
     "iopub.execute_input": "2021-10-25T08:21:22.104082Z",
     "iopub.status.busy": "2021-10-25T08:21:22.103644Z",
     "iopub.status.idle": "2021-10-25T08:21:22.108509Z",
     "shell.execute_reply": "2021-10-25T08:21:22.108811Z"
    }
   },
   "outputs": [
    {
     "data": {
      "image/svg+xml": [
       "<?xml version=\"1.0\" encoding=\"UTF-8\" standalone=\"no\"?><svg xmlns=\"http://www.w3.org/2000/svg\" xmlns:xlink=\"http://www.w3.org/1999/xlink\" contentScriptType=\"application/ecmascript\" contentStyleType=\"text/css\" height=\"12px\" preserveAspectRatio=\"none\" style=\"width:12px;height:12px;\" version=\"1.1\" viewBox=\"0 0 12 12\" width=\"12px\" zoomAndPan=\"magnify\"><defs/><g><!--MD5=[896ac0e7a515d8dd7765a661cb4ee08b]\n",
       "@startuml\r\n",
       "skinparam linetype polyline\r\n",
       "skinparam monochrome true\r\n",
       "skinparam classbackgroundcolor white\r\n",
       "skinparam shadowing false\r\n",
       "skinparam wrapWidth 300\r\n",
       "hide circle\r\n",
       "\r\n",
       "@enduml\r\n",
       "\n",
       "PlantUML version 1.2020.13(Sat Jun 13 12:26:38 UTC 2020)\n",
       "(EPL source distribution)\n",
       "Java Runtime: OpenJDK Runtime Environment\n",
       "JVM: OpenJDK 64-Bit Server VM\n",
       "Default Encoding: UTF-8\n",
       "Language: en\n",
       "Country: null\n",
       "--></g></svg>"
      ]
     },
     "execution_count": 11,
     "metadata": {},
     "output_type": "execute_result"
    }
   ],
   "source": [
    "%viz --style=\"POLYLINE\" --view=\"State\" \"ActionTest\""
   ]
  },
  {
   "cell_type": "code",
   "execution_count": 12,
   "id": "a4e6dd8d",
   "metadata": {
    "execution": {
     "iopub.execute_input": "2021-10-25T08:21:22.158318Z",
     "iopub.status.busy": "2021-10-25T08:21:22.157894Z",
     "iopub.status.idle": "2021-10-25T08:21:22.213129Z",
     "shell.execute_reply": "2021-10-25T08:21:22.213542Z"
    }
   },
   "outputs": [
    {
     "data": {
      "image/svg+xml": [
       "<?xml version=\"1.0\" encoding=\"UTF-8\" standalone=\"no\"?><svg xmlns=\"http://www.w3.org/2000/svg\" xmlns:xlink=\"http://www.w3.org/1999/xlink\" contentScriptType=\"application/ecmascript\" contentStyleType=\"text/css\" height=\"462px\" preserveAspectRatio=\"none\" style=\"width:530px;height:462px;\" version=\"1.1\" viewBox=\"0 0 530 462\" width=\"530px\" zoomAndPan=\"magnify\"><defs/><g><!--MD5=[fbc87193dbaf4d95561dea2c320d4a47]\n",
       "cluster E1--><a href=\"psysml:b606a038-0c45-436f-a3a1-beef47fa0e17\" target=\"_top\" title=\"psysml:b606a038-0c45-436f-a3a1-beef47fa0e17\" xlink:actuate=\"onRequest\" xlink:href=\"psysml:b606a038-0c45-436f-a3a1-beef47fa0e17\" xlink:show=\"new\" xlink:title=\"psysml:b606a038-0c45-436f-a3a1-beef47fa0e17\" xlink:type=\"simple\"><polygon fill=\"#FFFFFF\" points=\"16,6,96,6,103,28.2969,508,28.2969,508,450.5,16,450.5,16,6\" style=\"stroke: #000000; stroke-width: 1.5;\"/><line style=\"stroke: #000000; stroke-width: 1.5;\" x1=\"16\" x2=\"103\" y1=\"28.2969\" y2=\"28.2969\"/><text fill=\"#000000\" font-family=\"sans-serif\" font-size=\"14\" font-weight=\"bold\" lengthAdjust=\"spacingAndGlyphs\" textLength=\"74\" x=\"20\" y=\"20.9951\">ActionTest</text></a><!--MD5=[d5e69f78d87373223dbae638b30a9c99]\n",
       "cluster E3--><a href=\"psysml:69e16b91-de61-4fe2-8ebf-63b040d0687a\" target=\"_top\" title=\"psysml:69e16b91-de61-4fe2-8ebf-63b040d0687a\" xlink:actuate=\"onRequest\" xlink:href=\"psysml:69e16b91-de61-4fe2-8ebf-63b040d0687a\" xlink:show=\"new\" xlink:title=\"psysml:69e16b91-de61-4fe2-8ebf-63b040d0687a\" xlink:type=\"simple\"><rect fill=\"#FFFFFF\" height=\"377.5\" id=\"E3\" rx=\"10\" ry=\"10\" style=\"stroke: #383838; stroke-width: 1.5;\" width=\"209\" x=\"275\" y=\"49\"/><rect fill=\"#F8F8F8\" height=\"37.9375\" rx=\"10\" ry=\"10\" style=\"stroke: #F8F8F8; stroke-width: 1.5;\" width=\"209\" x=\"275\" y=\"49\"/><rect fill=\"#F8F8F8\" height=\"10\" style=\"stroke: #F8F8F8; stroke-width: 1.5;\" width=\"209\" x=\"275\" y=\"76.9375\"/><rect fill=\"none\" height=\"377.5\" id=\"E3\" rx=\"10\" ry=\"10\" style=\"stroke: #383838; stroke-width: 1.5;\" width=\"209\" x=\"275\" y=\"49\"/><text fill=\"#000000\" font-family=\"sans-serif\" font-size=\"12\" font-style=\"italic\" lengthAdjust=\"spacingAndGlyphs\" textLength=\"53\" x=\"353\" y=\"65.1387\">«action»</text><text fill=\"#000000\" font-family=\"sans-serif\" font-size=\"12\" lengthAdjust=\"spacingAndGlyphs\" textLength=\"8\" x=\"375.5\" y=\"79.1074\">a</text><line style=\"stroke: #383838; stroke-width: 1.0;\" x1=\"275\" x2=\"484\" y1=\"86.9375\" y2=\"86.9375\"/></a><g id=\"E1.E2\"><a href=\"psysml:f9329402-d9ed-482b-aa71-2e931e2796d7\" target=\"_top\" title=\"psysml:f9329402-d9ed-482b-aa71-2e931e2796d7\" xlink:actuate=\"onRequest\" xlink:href=\"psysml:f9329402-d9ed-482b-aa71-2e931e2796d7\" xlink:show=\"new\" xlink:title=\"psysml:f9329402-d9ed-482b-aa71-2e931e2796d7\" xlink:type=\"simple\"><rect fill=\"#FFFFFF\" height=\"42.9375\" id=\"E2\" style=\"stroke: #383838; stroke-width: 1.5;\" width=\"104\" x=\"155\" y=\"88.5\"/><rect fill=\"#F8F8F8\" height=\"37.9375\" style=\"stroke: #383838; stroke-width: 1.5;\" width=\"104\" x=\"155\" y=\"88.5\"/><text fill=\"#000000\" font-family=\"sans-serif\" font-size=\"12\" font-style=\"italic\" lengthAdjust=\"spacingAndGlyphs\" textLength=\"97\" x=\"158.5\" y=\"104.6387\">«attribute  def»</text><text fill=\"#000000\" font-family=\"sans-serif\" font-size=\"12\" lengthAdjust=\"spacingAndGlyphs\" textLength=\"8\" x=\"203\" y=\"118.6074\">S</text></a></g><polygon fill=\"#F8F8F8\" points=\"432,148.5,444,160.5,432,172.5,420,160.5,432,148.5\" style=\"stroke: #383838; stroke-width: 1.5;\"/><!--MD5=[21dd76c19d33815960c0e92fef8f0eef]\n",
       "entity E5--><a href=\"psysml:dcf8e234-4de8-4cb8-a947-17c2138066f0\" target=\"_top\" title=\"psysml:dcf8e234-4de8-4cb8-a947-17c2138066f0\" xlink:actuate=\"onRequest\" xlink:href=\"psysml:dcf8e234-4de8-4cb8-a947-17c2138066f0\" xlink:show=\"new\" xlink:title=\"psysml:dcf8e234-4de8-4cb8-a947-17c2138066f0\" xlink:type=\"simple\"><polygon fill=\"#F8F8F8\" points=\"291,189.5,291,244.0938,431,244.0938,411,216.7969,431,189.5\" style=\"stroke: #000000; stroke-width: 1.5;\"/><text fill=\"#000000\" font-family=\"sans-serif\" font-size=\"14\" font-style=\"italic\" lengthAdjust=\"spacingAndGlyphs\" textLength=\"111\" x=\"298\" y=\"212.4951\">«accept action»</text><text fill=\"#000000\" font-family=\"sans-serif\" font-size=\"14\" lengthAdjust=\"spacingAndGlyphs\" textLength=\"9\" x=\"349\" y=\"229.792\">S</text></a><!--MD5=[24d87cdf3002d433f401b2a2aa9f9f65]\n",
       "entity E6--><a href=\"psysml:18c3d457-6bb3-4962-a480-0e1b2254a09a\" target=\"_top\" title=\"psysml:18c3d457-6bb3-4962-a480-0e1b2254a09a\" xlink:actuate=\"onRequest\" xlink:href=\"psysml:18c3d457-6bb3-4962-a480-0e1b2254a09a\" xlink:show=\"new\" xlink:title=\"psysml:18c3d457-6bb3-4962-a480-0e1b2254a09a\" xlink:type=\"simple\"><polygon fill=\"#F8F8F8\" points=\"291,277.5,291,332.0938,399,332.0938,419,304.7969,399,277.5\" style=\"stroke: #000000; stroke-width: 1.5;\"/><text fill=\"#000000\" font-family=\"sans-serif\" font-size=\"14\" font-style=\"italic\" lengthAdjust=\"spacingAndGlyphs\" textLength=\"99\" x=\"298\" y=\"300.4951\">«send action»</text><text fill=\"#000000\" font-family=\"sans-serif\" font-size=\"14\" lengthAdjust=\"spacingAndGlyphs\" textLength=\"65\" x=\"315\" y=\"317.792\">S() to  B()</text></a><polygon fill=\"#F8F8F8\" points=\"430,349.5,442,361.5,430,373.5,418,361.5,430,349.5\" style=\"stroke: #383838; stroke-width: 1.5;\"/><ellipse cx=\"432\" cy=\"110\" fill=\"#000000\" rx=\"10\" ry=\"10\" style=\"stroke: none; stroke-width: 1.0;\"/><ellipse cx=\"430\" cy=\"400.5\" fill=\"none\" rx=\"10\" ry=\"10\" style=\"stroke: #000000; stroke-width: 1.0;\"/><ellipse cx=\"430.5\" cy=\"401\" fill=\"#000000\" rx=\"6\" ry=\"6\" style=\"stroke: none; stroke-width: 1.0;\"/><g id=\"E1.E8\"><a href=\"psysml:530e5343-b7af-483f-85a0-93ec425d0302\" target=\"_top\" title=\"psysml:530e5343-b7af-483f-85a0-93ec425d0302\" xlink:actuate=\"onRequest\" xlink:href=\"psysml:530e5343-b7af-483f-85a0-93ec425d0302\" xlink:show=\"new\" xlink:title=\"psysml:530e5343-b7af-483f-85a0-93ec425d0302\" xlink:type=\"simple\"><rect fill=\"#FFFFFF\" height=\"42.9375\" id=\"E8\" style=\"stroke: #383838; stroke-width: 1.5;\" width=\"88\" x=\"32\" y=\"88.5\"/><rect fill=\"#F8F8F8\" height=\"37.9375\" style=\"stroke: #383838; stroke-width: 1.5;\" width=\"88\" x=\"32\" y=\"88.5\"/><text fill=\"#000000\" font-family=\"sans-serif\" font-size=\"12\" font-style=\"italic\" lengthAdjust=\"spacingAndGlyphs\" textLength=\"81\" x=\"35.5\" y=\"104.6387\">«action  def»</text><text fill=\"#000000\" font-family=\"sans-serif\" font-size=\"12\" lengthAdjust=\"spacingAndGlyphs\" textLength=\"8\" x=\"72\" y=\"118.6074\">B</text></a></g><!--MD5=[f47e10efcf9a6752d55dae986d790ed9]\n",
       "link *start*E3 to E4--><a href=\"psysml:8ec85343-59fa-499c-a77c-a2bbf8c30a9c\" target=\"_top\" title=\"psysml:8ec85343-59fa-499c-a77c-a2bbf8c30a9c\" xlink:actuate=\"onRequest\" xlink:href=\"psysml:8ec85343-59fa-499c-a77c-a2bbf8c30a9c\" xlink:show=\"new\" xlink:title=\"psysml:8ec85343-59fa-499c-a77c-a2bbf8c30a9c\" xlink:type=\"simple\"><path d=\"M432,120.35 C432,126.88 432,135.77 432,143.42 \" fill=\"none\" id=\"*start*E3-&gt;E4\" style=\"stroke: #383838; stroke-width: 1.0;\"/><polygon fill=\"#383838\" points=\"432,148.48,436,139.48,432,143.48,428,139.48,432,148.48\" style=\"stroke: #383838; stroke-width: 1.0;\"/></a><!--MD5=[d19f2eb34364d71b67042106d92f540b]\n",
       "link E7 to *end*E3--><a href=\"psysml:0d9f4e26-bf93-4aba-a8c6-6dafeae60007\" target=\"_top\" title=\"psysml:0d9f4e26-bf93-4aba-a8c6-6dafeae60007\" xlink:actuate=\"onRequest\" xlink:href=\"psysml:0d9f4e26-bf93-4aba-a8c6-6dafeae60007\" xlink:show=\"new\" xlink:title=\"psysml:0d9f4e26-bf93-4aba-a8c6-6dafeae60007\" xlink:type=\"simple\"><path d=\"M430,373.8 C430,377.34 430,381.3 430,385.03 \" fill=\"none\" id=\"E7-&gt;*end*E3\" style=\"stroke: #383838; stroke-width: 1.0;\"/><polygon fill=\"#383838\" points=\"430,390.25,434,381.25,430,385.25,426,381.25,430,390.25\" style=\"stroke: #383838; stroke-width: 1.0;\"/></a><!--MD5=[1b7591eae5389033d8d09a9d6721a717]\n",
       "link E4 to E5--><a href=\"psysml:0f743cc2-6e19-41e4-aad8-79cb567e3158\" target=\"_top\" title=\"psysml:0f743cc2-6e19-41e4-aad8-79cb567e3158\" xlink:actuate=\"onRequest\" xlink:href=\"psysml:0f743cc2-6e19-41e4-aad8-79cb567e3158\" xlink:show=\"new\" xlink:title=\"psysml:0f743cc2-6e19-41e4-aad8-79cb567e3158\" xlink:type=\"simple\"><path d=\"M425.45,166.53 C419.33,171.23 409.65,178.66 399.64,186.34 \" fill=\"none\" id=\"E4-&gt;E5\" style=\"stroke: #383838; stroke-width: 1.0;\"/><polygon fill=\"#383838\" points=\"395.64,189.41,405.2129,187.0948,399.6037,186.3621,400.3363,180.7529,395.64,189.41\" style=\"stroke: #383838; stroke-width: 1.0;\"/><text fill=\"#000000\" font-family=\"sans-serif\" font-size=\"13\" lengthAdjust=\"spacingAndGlyphs\" textLength=\"7\" x=\"395.8411\" y=\"178.4247\">*</text></a><!--MD5=[9120cf2e5df3bff93db8f754bbbc09b4]\n",
       "link E5 to E6--><a href=\"psysml:3404b4e6-fa1c-4cf0-a87f-a7f8eafbc3bc\" target=\"_top\" title=\"psysml:3404b4e6-fa1c-4cf0-a87f-a7f8eafbc3bc\" xlink:actuate=\"onRequest\" xlink:href=\"psysml:3404b4e6-fa1c-4cf0-a87f-a7f8eafbc3bc\" xlink:show=\"new\" xlink:title=\"psysml:3404b4e6-fa1c-4cf0-a87f-a7f8eafbc3bc\" xlink:type=\"simple\"><path d=\"M359.13,244.74 C358.53,253.4 357.85,263.08 357.23,272.08 \" fill=\"none\" id=\"E5-&gt;E6\" style=\"stroke: #383838; stroke-width: 1.0;\"/><polygon fill=\"#383838\" points=\"356.86,277.28,361.468,268.5756,357.203,272.2918,353.4869,268.0268,356.86,277.28\" style=\"stroke: #383838; stroke-width: 1.0;\"/><text fill=\"#000000\" font-family=\"sans-serif\" font-size=\"13\" lengthAdjust=\"spacingAndGlyphs\" textLength=\"7\" x=\"349.4808\" y=\"266.2646\">*</text></a><!--MD5=[02c70b7c851c11e3980e4e90450dc5dd]\n",
       "link E6 to E7--><a href=\"psysml:a56f0975-9bdd-4db4-ac34-32a8d14536cf\" target=\"_top\" title=\"psysml:a56f0975-9bdd-4db4-ac34-32a8d14536cf\" xlink:actuate=\"onRequest\" xlink:href=\"psysml:a56f0975-9bdd-4db4-ac34-32a8d14536cf\" xlink:show=\"new\" xlink:title=\"psysml:a56f0975-9bdd-4db4-ac34-32a8d14536cf\" xlink:type=\"simple\"><path d=\"M391.62,332.61 C401.72,339.95 411.91,347.35 419.24,352.68 \" fill=\"none\" id=\"E6-&gt;E7\" style=\"stroke: #383838; stroke-width: 1.0;\"/><polygon fill=\"#383838\" points=\"423.42,355.72,418.4976,347.1894,419.3776,352.7774,413.7896,353.6574,423.42,355.72\" style=\"stroke: #383838; stroke-width: 1.0;\"/><text fill=\"#000000\" font-family=\"sans-serif\" font-size=\"13\" lengthAdjust=\"spacingAndGlyphs\" textLength=\"7\" x=\"405.584\" y=\"338.5823\">*</text></a><!--MD5=[6bdd27f9905911a7e892a3dc65cf6b7c]\n",
       "link E7 to E4--><a href=\"psysml:2a79c4d0-9744-4107-95b5-d9c642bb083b\" target=\"_top\" title=\"psysml:2a79c4d0-9744-4107-95b5-d9c642bb083b\" xlink:actuate=\"onRequest\" xlink:href=\"psysml:2a79c4d0-9744-4107-95b5-d9c642bb083b\" xlink:show=\"new\" xlink:title=\"psysml:2a79c4d0-9744-4107-95b5-d9c642bb083b\" xlink:type=\"simple\"><path d=\"M432.21,351.64 C434.27,343.44 437,332.5 437,332.5 C437,332.5 449,244.5 449,244.5 C449,244.5 449,189.5 449,189.5 C449,189.5 443.74,180.83 439.07,173.14 \" fill=\"none\" id=\"E7-&gt;E4\" style=\"stroke: #383838; stroke-width: 1.0;\"/><polygon fill=\"#383838\" points=\"436.29,168.57,437.5527,178.3376,438.8897,172.841,444.3863,174.178,436.29,168.57\" style=\"stroke: #383838; stroke-width: 1.0;\"/><text fill=\"#000000\" font-family=\"sans-serif\" font-size=\"13\" lengthAdjust=\"spacingAndGlyphs\" textLength=\"36\" x=\"448\" y=\"265.5669\">[true]</text><text fill=\"#000000\" font-family=\"sans-serif\" font-size=\"13\" lengthAdjust=\"spacingAndGlyphs\" textLength=\"7\" x=\"439.1676\" y=\"188.8776\">*</text></a><!--MD5=[aa627fee1180fe04295e276144280027]\n",
       "@startuml\r\n",
       "skinparam ranksep 10\r\n",
       "skinparam rectangle {\r\n",
       " backgroundColor<<block>> LightGreen\r\n",
       "}\r\n",
       "skinparam linetype polyline\r\n",
       "skinparam monochrome true\r\n",
       "skinparam classbackgroundcolor white\r\n",
       "skinparam shadowing false\r\n",
       "skinparam wrapWidth 300\r\n",
       "hide circle\r\n",
       "\r\n",
       "package \"ActionTest\" as E1  [[psysml:b606a038-0c45-436f-a3a1-beef47fa0e17 ]]  {\r\n",
       "def \"S\" as E2  <<(T,blue) attribute  def>> [[psysml:f9329402-d9ed-482b-aa71-2e931e2796d7 ]] \r\n",
       "rec usage \"a\" as E3  <<(T,blue) action>> [[psysml:69e16b91-de61-4fe2-8ebf-63b040d0687a ]] {\r\n",
       "choice \"m\" as E4  [[psysml:ba661374-e1ab-49de-aa21-c62362c65829 ]] \r\n",
       "accept \" S\" as E5 << accept action>> [[psysml:dcf8e234-4de8-4cb8-a947-17c2138066f0 ]] \r\n",
       "send \" S() to  B()\" as E6 << send action>> [[psysml:18c3d457-6bb3-4962-a480-0e1b2254a09a ]] \r\n",
       "choice \"<s>noname</s>\" as E7  [[psysml:1cf4a57b-2f41-48db-bb2e-4817b665eacc ]] \r\n",
       "[*] - -> E4 [[psysml:8ec85343-59fa-499c-a77c-a2bbf8c30a9c ]] \r\n",
       "E7  - -> [*] [[psysml:0d9f4e26-bf93-4aba-a8c6-6dafeae60007 ]] \r\n",
       "}\r\n",
       "\r\n",
       "rec def \"B\" as E8  <<(T,blue) action  def>> [[psysml:530e5343-b7af-483f-85a0-93ec425d0302 ]] {\r\n",
       "}\r\n",
       "\r\n",
       "}\r\n",
       "E4 - -> \"*\"E5 [[psysml:0f743cc2-6e19-41e4-aad8-79cb567e3158 ]] \r\n",
       "E5 - -> \"*\"E6 [[psysml:3404b4e6-fa1c-4cf0-a87f-a7f8eafbc3bc ]] \r\n",
       "E6 - -> \"*\"E7 [[psysml:a56f0975-9bdd-4db4-ac34-32a8d14536cf ]] \r\n",
       "E7  - -> \"*\"E4 [[psysml:2a79c4d0-9744-4107-95b5-d9c642bb083b ]] : [true]\r\n",
       "@enduml\r\n",
       "\n",
       "PlantUML version 1.2020.13(Sat Jun 13 12:26:38 UTC 2020)\n",
       "(EPL source distribution)\n",
       "Java Runtime: OpenJDK Runtime Environment\n",
       "JVM: OpenJDK 64-Bit Server VM\n",
       "Default Encoding: UTF-8\n",
       "Language: en\n",
       "Country: null\n",
       "--></g></svg>"
      ]
     },
     "execution_count": 12,
     "metadata": {},
     "output_type": "execute_result"
    }
   ],
   "source": [
    "%viz --style=\"POLYLINE\" --view=\"Interconnection\" \"ActionTest\""
   ]
  },
  {
   "cell_type": "code",
   "execution_count": 13,
   "id": "54b2dc5b",
   "metadata": {
    "execution": {
     "iopub.execute_input": "2021-10-25T08:21:22.262480Z",
     "iopub.status.busy": "2021-10-25T08:21:22.262060Z",
     "iopub.status.idle": "2021-10-25T08:21:22.312990Z",
     "shell.execute_reply": "2021-10-25T08:21:22.312435Z"
    }
   },
   "outputs": [
    {
     "data": {
      "image/svg+xml": [
       "<?xml version=\"1.0\" encoding=\"UTF-8\" standalone=\"no\"?><svg xmlns=\"http://www.w3.org/2000/svg\" xmlns:xlink=\"http://www.w3.org/1999/xlink\" contentScriptType=\"application/ecmascript\" contentStyleType=\"text/css\" height=\"395px\" preserveAspectRatio=\"none\" style=\"width:332px;height:395px;\" version=\"1.1\" viewBox=\"0 0 332 395\" width=\"332px\" zoomAndPan=\"magnify\"><defs/><g><!--MD5=[fbc87193dbaf4d95561dea2c320d4a47]\n",
       "cluster E1--><a href=\"psysml:69e16b91-de61-4fe2-8ebf-63b040d0687a\" target=\"_top\" title=\"psysml:69e16b91-de61-4fe2-8ebf-63b040d0687a\" xlink:actuate=\"onRequest\" xlink:href=\"psysml:69e16b91-de61-4fe2-8ebf-63b040d0687a\" xlink:show=\"new\" xlink:title=\"psysml:69e16b91-de61-4fe2-8ebf-63b040d0687a\" xlink:type=\"simple\"><rect fill=\"#FFFFFF\" height=\"377.5\" id=\"E1\" rx=\"10\" ry=\"10\" style=\"stroke: #383838; stroke-width: 1.5;\" width=\"209\" x=\"111\" y=\"7\"/><rect fill=\"#F8F8F8\" height=\"37.9375\" rx=\"10\" ry=\"10\" style=\"stroke: #F8F8F8; stroke-width: 1.5;\" width=\"209\" x=\"111\" y=\"7\"/><rect fill=\"#F8F8F8\" height=\"10\" style=\"stroke: #F8F8F8; stroke-width: 1.5;\" width=\"209\" x=\"111\" y=\"34.9375\"/><rect fill=\"none\" height=\"377.5\" id=\"E1\" rx=\"10\" ry=\"10\" style=\"stroke: #383838; stroke-width: 1.5;\" width=\"209\" x=\"111\" y=\"7\"/><text fill=\"#000000\" font-family=\"sans-serif\" font-size=\"12\" font-style=\"italic\" lengthAdjust=\"spacingAndGlyphs\" textLength=\"53\" x=\"189\" y=\"23.1387\">«action»</text><text fill=\"#000000\" font-family=\"sans-serif\" font-size=\"12\" lengthAdjust=\"spacingAndGlyphs\" textLength=\"8\" x=\"211.5\" y=\"37.1074\">a</text><line style=\"stroke: #383838; stroke-width: 1.0;\" x1=\"111\" x2=\"320\" y1=\"44.9375\" y2=\"44.9375\"/></a><polygon fill=\"#F8F8F8\" points=\"268,106.5,280,118.5,268,130.5,256,118.5,268,106.5\" style=\"stroke: #383838; stroke-width: 1.5;\"/><!--MD5=[a60fb756f580feb9fd8e2cf1329b5c91]\n",
       "entity E3--><a href=\"psysml:dcf8e234-4de8-4cb8-a947-17c2138066f0\" target=\"_top\" title=\"psysml:dcf8e234-4de8-4cb8-a947-17c2138066f0\" xlink:actuate=\"onRequest\" xlink:href=\"psysml:dcf8e234-4de8-4cb8-a947-17c2138066f0\" xlink:show=\"new\" xlink:title=\"psysml:dcf8e234-4de8-4cb8-a947-17c2138066f0\" xlink:type=\"simple\"><polygon fill=\"#F8F8F8\" points=\"127,147.5,127,202.0938,267,202.0938,247,174.7969,267,147.5\" style=\"stroke: #000000; stroke-width: 1.5;\"/><text fill=\"#000000\" font-family=\"sans-serif\" font-size=\"14\" font-style=\"italic\" lengthAdjust=\"spacingAndGlyphs\" textLength=\"111\" x=\"134\" y=\"170.4951\">«accept action»</text><text fill=\"#000000\" font-family=\"sans-serif\" font-size=\"14\" lengthAdjust=\"spacingAndGlyphs\" textLength=\"9\" x=\"185\" y=\"187.792\">S</text></a><!--MD5=[961cefdc15414eaa3e87aec9d17c2188]\n",
       "entity E4--><a href=\"psysml:18c3d457-6bb3-4962-a480-0e1b2254a09a\" target=\"_top\" title=\"psysml:18c3d457-6bb3-4962-a480-0e1b2254a09a\" xlink:actuate=\"onRequest\" xlink:href=\"psysml:18c3d457-6bb3-4962-a480-0e1b2254a09a\" xlink:show=\"new\" xlink:title=\"psysml:18c3d457-6bb3-4962-a480-0e1b2254a09a\" xlink:type=\"simple\"><polygon fill=\"#F8F8F8\" points=\"127,235.5,127,290.0938,235,290.0938,255,262.7969,235,235.5\" style=\"stroke: #000000; stroke-width: 1.5;\"/><text fill=\"#000000\" font-family=\"sans-serif\" font-size=\"14\" font-style=\"italic\" lengthAdjust=\"spacingAndGlyphs\" textLength=\"99\" x=\"134\" y=\"258.4951\">«send action»</text><text fill=\"#000000\" font-family=\"sans-serif\" font-size=\"14\" lengthAdjust=\"spacingAndGlyphs\" textLength=\"65\" x=\"151\" y=\"275.792\">S() to  B()</text></a><polygon fill=\"#F8F8F8\" points=\"266,307.5,278,319.5,266,331.5,254,319.5,266,307.5\" style=\"stroke: #383838; stroke-width: 1.5;\"/><ellipse cx=\"268\" cy=\"68\" fill=\"#000000\" rx=\"10\" ry=\"10\" style=\"stroke: none; stroke-width: 1.0;\"/><ellipse cx=\"266\" cy=\"358.5\" fill=\"none\" rx=\"10\" ry=\"10\" style=\"stroke: #000000; stroke-width: 1.0;\"/><ellipse cx=\"266.5\" cy=\"359\" fill=\"#000000\" rx=\"6\" ry=\"6\" style=\"stroke: none; stroke-width: 1.0;\"/><g id=\"E6\"><a href=\"psysml:530e5343-b7af-483f-85a0-93ec425d0302\" target=\"_top\" title=\"psysml:530e5343-b7af-483f-85a0-93ec425d0302\" xlink:actuate=\"onRequest\" xlink:href=\"psysml:530e5343-b7af-483f-85a0-93ec425d0302\" xlink:show=\"new\" xlink:title=\"psysml:530e5343-b7af-483f-85a0-93ec425d0302\" xlink:type=\"simple\"><rect fill=\"#FFFFFF\" height=\"42.9375\" id=\"E6\" style=\"stroke: #383838; stroke-width: 1.5;\" width=\"88\" x=\"7\" y=\"46.5\"/><rect fill=\"#F8F8F8\" height=\"37.9375\" style=\"stroke: #383838; stroke-width: 1.5;\" width=\"88\" x=\"7\" y=\"46.5\"/><text fill=\"#000000\" font-family=\"sans-serif\" font-size=\"12\" font-style=\"italic\" lengthAdjust=\"spacingAndGlyphs\" textLength=\"81\" x=\"10.5\" y=\"62.6387\">«action  def»</text><text fill=\"#000000\" font-family=\"sans-serif\" font-size=\"12\" lengthAdjust=\"spacingAndGlyphs\" textLength=\"8\" x=\"47\" y=\"76.6074\">B</text></a></g><!--MD5=[cff944eb183b832d446717a4e202d613]\n",
       "link *start*E1 to E2--><a href=\"psysml:8ec85343-59fa-499c-a77c-a2bbf8c30a9c\" target=\"_top\" title=\"psysml:8ec85343-59fa-499c-a77c-a2bbf8c30a9c\" xlink:actuate=\"onRequest\" xlink:href=\"psysml:8ec85343-59fa-499c-a77c-a2bbf8c30a9c\" xlink:show=\"new\" xlink:title=\"psysml:8ec85343-59fa-499c-a77c-a2bbf8c30a9c\" xlink:type=\"simple\"><path d=\"M268,78.35 C268,84.88 268,93.77 268,101.42 \" fill=\"none\" id=\"*start*E1-&gt;E2\" style=\"stroke: #383838; stroke-width: 1.0; stroke-dasharray: 7.0,7.0;\"/><polygon fill=\"#383838\" points=\"268,106.48,272,97.48,268,101.48,264,97.48,268,106.48\" style=\"stroke: #383838; stroke-width: 1.0;\"/></a><!--MD5=[7fc47fc0d107820853a137871ad908c8]\n",
       "link E5 to *end*E1--><a href=\"psysml:0d9f4e26-bf93-4aba-a8c6-6dafeae60007\" target=\"_top\" title=\"psysml:0d9f4e26-bf93-4aba-a8c6-6dafeae60007\" xlink:actuate=\"onRequest\" xlink:href=\"psysml:0d9f4e26-bf93-4aba-a8c6-6dafeae60007\" xlink:show=\"new\" xlink:title=\"psysml:0d9f4e26-bf93-4aba-a8c6-6dafeae60007\" xlink:type=\"simple\"><path d=\"M266,331.8 C266,335.34 266,339.3 266,343.03 \" fill=\"none\" id=\"E5-&gt;*end*E1\" style=\"stroke: #383838; stroke-width: 1.0; stroke-dasharray: 7.0,7.0;\"/><polygon fill=\"#383838\" points=\"266,348.25,270,339.25,266,343.25,262,339.25,266,348.25\" style=\"stroke: #383838; stroke-width: 1.0;\"/></a><!--MD5=[2720a5a1f2c3fca2055b230370638851]\n",
       "link E2 to E3--><a href=\"psysml:0f743cc2-6e19-41e4-aad8-79cb567e3158\" target=\"_top\" title=\"psysml:0f743cc2-6e19-41e4-aad8-79cb567e3158\" xlink:actuate=\"onRequest\" xlink:href=\"psysml:0f743cc2-6e19-41e4-aad8-79cb567e3158\" xlink:show=\"new\" xlink:title=\"psysml:0f743cc2-6e19-41e4-aad8-79cb567e3158\" xlink:type=\"simple\"><path d=\"M261.45,124.53 C255.33,129.23 245.65,136.66 235.64,144.34 \" fill=\"none\" id=\"E2-&gt;E3\" style=\"stroke: #383838; stroke-width: 1.0; stroke-dasharray: 7.0,7.0;\"/><polygon fill=\"#383838\" points=\"231.64,147.41,241.2129,145.0948,235.6037,144.3621,236.3363,138.7529,231.64,147.41\" style=\"stroke: #383838; stroke-width: 1.0;\"/></a><!--MD5=[af87c684e3b0d8be13c1a698a818ef1e]\n",
       "link E3 to E4--><a href=\"psysml:3404b4e6-fa1c-4cf0-a87f-a7f8eafbc3bc\" target=\"_top\" title=\"psysml:3404b4e6-fa1c-4cf0-a87f-a7f8eafbc3bc\" xlink:actuate=\"onRequest\" xlink:href=\"psysml:3404b4e6-fa1c-4cf0-a87f-a7f8eafbc3bc\" xlink:show=\"new\" xlink:title=\"psysml:3404b4e6-fa1c-4cf0-a87f-a7f8eafbc3bc\" xlink:type=\"simple\"><path d=\"M195.13,202.74 C194.53,211.4 193.85,221.08 193.23,230.08 \" fill=\"none\" id=\"E3-&gt;E4\" style=\"stroke: #383838; stroke-width: 1.0; stroke-dasharray: 7.0,7.0;\"/><polygon fill=\"#383838\" points=\"192.86,235.28,197.468,226.5756,193.203,230.2918,189.4869,226.0268,192.86,235.28\" style=\"stroke: #383838; stroke-width: 1.0;\"/></a><!--MD5=[1b7591eae5389033d8d09a9d6721a717]\n",
       "link E4 to E5--><a href=\"psysml:a56f0975-9bdd-4db4-ac34-32a8d14536cf\" target=\"_top\" title=\"psysml:a56f0975-9bdd-4db4-ac34-32a8d14536cf\" xlink:actuate=\"onRequest\" xlink:href=\"psysml:a56f0975-9bdd-4db4-ac34-32a8d14536cf\" xlink:show=\"new\" xlink:title=\"psysml:a56f0975-9bdd-4db4-ac34-32a8d14536cf\" xlink:type=\"simple\"><path d=\"M227.62,290.61 C237.72,297.95 247.91,305.35 255.24,310.68 \" fill=\"none\" id=\"E4-&gt;E5\" style=\"stroke: #383838; stroke-width: 1.0; stroke-dasharray: 7.0,7.0;\"/><polygon fill=\"#383838\" points=\"259.42,313.72,254.4976,305.1894,255.3776,310.7774,249.7896,311.6574,259.42,313.72\" style=\"stroke: #383838; stroke-width: 1.0;\"/></a><!--MD5=[15ebcb19ae302d9b601edb458606d402]\n",
       "link E5 to E2--><a href=\"psysml:2a79c4d0-9744-4107-95b5-d9c642bb083b\" target=\"_top\" title=\"psysml:2a79c4d0-9744-4107-95b5-d9c642bb083b\" xlink:actuate=\"onRequest\" xlink:href=\"psysml:2a79c4d0-9744-4107-95b5-d9c642bb083b\" xlink:show=\"new\" xlink:title=\"psysml:2a79c4d0-9744-4107-95b5-d9c642bb083b\" xlink:type=\"simple\"><path d=\"M268.21,309.64 C270.27,301.44 273,290.5 273,290.5 C273,290.5 285,202.5 285,202.5 C285,202.5 285,147.5 285,147.5 C285,147.5 279.74,138.83 275.07,131.14 \" fill=\"none\" id=\"E5-&gt;E2\" style=\"stroke: #383838; stroke-width: 1.0; stroke-dasharray: 7.0,7.0;\"/><polygon fill=\"#383838\" points=\"272.29,126.57,273.5527,136.3376,274.8897,130.841,280.3863,132.178,272.29,126.57\" style=\"stroke: #383838; stroke-width: 1.0;\"/><text fill=\"#000000\" font-family=\"sans-serif\" font-size=\"13\" lengthAdjust=\"spacingAndGlyphs\" textLength=\"36\" x=\"284\" y=\"223.5669\">[true]</text></a><!--MD5=[2d359e043f1c40572c4a8eb27b3defee]\n",
       "@startuml\r\n",
       "skinparam ranksep 8\r\n",
       "skinparam linetype polyline\r\n",
       "skinparam monochrome true\r\n",
       "skinparam classbackgroundcolor white\r\n",
       "skinparam shadowing false\r\n",
       "skinparam wrapWidth 300\r\n",
       "hide circle\r\n",
       "\r\n",
       "rec usage \"a\" as E1  <<(T,blue) action>> [[psysml:69e16b91-de61-4fe2-8ebf-63b040d0687a ]] {\r\n",
       "choice \"m\" as E2  [[psysml:ba661374-e1ab-49de-aa21-c62362c65829 ]] \r\n",
       "accept \" S\" as E3 << accept action>> [[psysml:dcf8e234-4de8-4cb8-a947-17c2138066f0 ]] \r\n",
       "send \" S() to  B()\" as E4 << send action>> [[psysml:18c3d457-6bb3-4962-a480-0e1b2254a09a ]] \r\n",
       "choice \"<s>noname</s>\" as E5  [[psysml:1cf4a57b-2f41-48db-bb2e-4817b665eacc ]] \r\n",
       "[*] ..> E2 [[psysml:8ec85343-59fa-499c-a77c-a2bbf8c30a9c ]] \r\n",
       "E5 ..> [*] [[psysml:0d9f4e26-bf93-4aba-a8c6-6dafeae60007 ]] \r\n",
       "}\r\n",
       "\r\n",
       "E2 ..> E3 [[psysml:0f743cc2-6e19-41e4-aad8-79cb567e3158 ]] \r\n",
       "E3 ..> E4 [[psysml:3404b4e6-fa1c-4cf0-a87f-a7f8eafbc3bc ]] \r\n",
       "E4 ..> E5 [[psysml:a56f0975-9bdd-4db4-ac34-32a8d14536cf ]] \r\n",
       "E5 ..> E2 [[psysml:2a79c4d0-9744-4107-95b5-d9c642bb083b ]] : [true]\r\n",
       "rec def \"B\" as E6  <<(T,blue) action  def>> [[psysml:530e5343-b7af-483f-85a0-93ec425d0302 ]] {\r\n",
       "}\r\n",
       "\r\n",
       "@enduml\r\n",
       "\n",
       "PlantUML version 1.2020.13(Sat Jun 13 12:26:38 UTC 2020)\n",
       "(EPL source distribution)\n",
       "Java Runtime: OpenJDK Runtime Environment\n",
       "JVM: OpenJDK 64-Bit Server VM\n",
       "Default Encoding: UTF-8\n",
       "Language: en\n",
       "Country: null\n",
       "--></g></svg>"
      ]
     },
     "execution_count": 13,
     "metadata": {},
     "output_type": "execute_result"
    }
   ],
   "source": [
    "%viz --style=\"POLYLINE\" --view=\"Action\" \"ActionTest\""
   ]
  },
  {
   "cell_type": "code",
   "execution_count": 14,
   "id": "b2ca6099",
   "metadata": {
    "execution": {
     "iopub.execute_input": "2021-10-25T08:21:22.361676Z",
     "iopub.status.busy": "2021-10-25T08:21:22.361093Z",
     "iopub.status.idle": "2021-10-25T08:21:22.369216Z",
     "shell.execute_reply": "2021-10-25T08:21:22.369693Z"
    }
   },
   "outputs": [
    {
     "data": {
      "image/svg+xml": [
       "<?xml version=\"1.0\" encoding=\"UTF-8\" standalone=\"no\"?><svg xmlns=\"http://www.w3.org/2000/svg\" xmlns:xlink=\"http://www.w3.org/1999/xlink\" contentScriptType=\"application/ecmascript\" contentStyleType=\"text/css\" height=\"12px\" preserveAspectRatio=\"none\" style=\"width:12px;height:12px;\" version=\"1.1\" viewBox=\"0 0 12 12\" width=\"12px\" zoomAndPan=\"magnify\"><defs/><g><!--MD5=[dc938048236c351797870c36b62f92ad]\n",
       "@startuml\r\n",
       "skinparam roundcorner 20\r\n",
       "skinparam BoxPadding 20\r\n",
       "skinparam SequenceBoxBackgroundColor #white\r\n",
       "skinparam style strictuml\r\n",
       "skinparam maxMessageSize 100\r\n",
       "skinparam linetype polyline\r\n",
       "skinparam monochrome true\r\n",
       "skinparam classbackgroundcolor white\r\n",
       "skinparam shadowing false\r\n",
       "skinparam wrapWidth 300\r\n",
       "hide circle\r\n",
       "\r\n",
       "@enduml\r\n",
       "\n",
       "PlantUML version 1.2020.13(Sat Jun 13 12:26:38 UTC 2020)\n",
       "(EPL source distribution)\n",
       "Java Runtime: OpenJDK Runtime Environment\n",
       "JVM: OpenJDK 64-Bit Server VM\n",
       "Default Encoding: UTF-8\n",
       "Language: en\n",
       "Country: null\n",
       "--></g></svg>"
      ]
     },
     "execution_count": 14,
     "metadata": {},
     "output_type": "execute_result"
    }
   ],
   "source": [
    "%viz --style=\"POLYLINE\" --view=\"Sequence\" \"ActionTest\""
   ]
  },
  {
   "cell_type": "code",
   "execution_count": 15,
   "id": "b07d861f",
   "metadata": {
    "execution": {
     "iopub.execute_input": "2021-10-25T08:21:22.418574Z",
     "iopub.status.busy": "2021-10-25T08:21:22.418156Z",
     "iopub.status.idle": "2021-10-25T08:21:22.475812Z",
     "shell.execute_reply": "2021-10-25T08:21:22.475462Z"
    }
   },
   "outputs": [
    {
     "data": {
      "image/svg+xml": [
       "<?xml version=\"1.0\" encoding=\"UTF-8\" standalone=\"no\"?><svg xmlns=\"http://www.w3.org/2000/svg\" xmlns:xlink=\"http://www.w3.org/1999/xlink\" contentScriptType=\"application/ecmascript\" contentStyleType=\"text/css\" height=\"684px\" preserveAspectRatio=\"none\" style=\"width:526px;height:684px;\" version=\"1.1\" viewBox=\"0 0 526 684\" width=\"526px\" zoomAndPan=\"magnify\"><defs/><g><!--MD5=[fbc87193dbaf4d95561dea2c320d4a47]\n",
       "cluster E1--><a href=\"psysml:b606a038-0c45-436f-a3a1-beef47fa0e17\" target=\"_top\" title=\"psysml:b606a038-0c45-436f-a3a1-beef47fa0e17\" xlink:actuate=\"onRequest\" xlink:href=\"psysml:b606a038-0c45-436f-a3a1-beef47fa0e17\" xlink:show=\"new\" xlink:title=\"psysml:b606a038-0c45-436f-a3a1-beef47fa0e17\" xlink:type=\"simple\"><polygon fill=\"#FFFFFF\" points=\"16,6,96,6,103,28.2969,504,28.2969,504,672,16,672,16,6\" style=\"stroke: #000000; stroke-width: 1.5;\"/><line style=\"stroke: #000000; stroke-width: 1.5;\" x1=\"16\" x2=\"103\" y1=\"28.2969\" y2=\"28.2969\"/><text fill=\"#000000\" font-family=\"sans-serif\" font-size=\"14\" font-weight=\"bold\" lengthAdjust=\"spacingAndGlyphs\" textLength=\"74\" x=\"20\" y=\"20.9951\">ActionTest</text></a><!--MD5=[d5e69f78d87373223dbae638b30a9c99]\n",
       "cluster E3--><a href=\"psysml:69e16b91-de61-4fe2-8ebf-63b040d0687a\" target=\"_top\" title=\"psysml:69e16b91-de61-4fe2-8ebf-63b040d0687a\" xlink:actuate=\"onRequest\" xlink:href=\"psysml:69e16b91-de61-4fe2-8ebf-63b040d0687a\" xlink:show=\"new\" xlink:title=\"psysml:69e16b91-de61-4fe2-8ebf-63b040d0687a\" xlink:type=\"simple\"><rect fill=\"#FFFFFF\" height=\"599\" id=\"E3\" rx=\"10\" ry=\"10\" style=\"stroke: #383838; stroke-width: 1.5;\" width=\"209\" x=\"271\" y=\"49\"/><rect fill=\"#F8F8F8\" height=\"37.9375\" rx=\"10\" ry=\"10\" style=\"stroke: #F8F8F8; stroke-width: 1.5;\" width=\"209\" x=\"271\" y=\"49\"/><rect fill=\"#F8F8F8\" height=\"10\" style=\"stroke: #F8F8F8; stroke-width: 1.5;\" width=\"209\" x=\"271\" y=\"76.9375\"/><rect fill=\"none\" height=\"599\" id=\"E3\" rx=\"10\" ry=\"10\" style=\"stroke: #383838; stroke-width: 1.5;\" width=\"209\" x=\"271\" y=\"49\"/><text fill=\"#000000\" font-family=\"sans-serif\" font-size=\"12\" font-style=\"italic\" lengthAdjust=\"spacingAndGlyphs\" textLength=\"53\" x=\"349\" y=\"65.1387\">«action»</text><text fill=\"#000000\" font-family=\"sans-serif\" font-size=\"12\" lengthAdjust=\"spacingAndGlyphs\" textLength=\"8\" x=\"371.5\" y=\"79.1074\">a</text><line style=\"stroke: #383838; stroke-width: 1.0;\" x1=\"271\" x2=\"480\" y1=\"86.9375\" y2=\"86.9375\"/></a><!--MD5=[b4997ac47864f28c2f74865a473b2911]\n",
       "class E2--><a href=\"psysml:f9329402-d9ed-482b-aa71-2e931e2796d7\" target=\"_top\" title=\"psysml:f9329402-d9ed-482b-aa71-2e931e2796d7\" xlink:actuate=\"onRequest\" xlink:href=\"psysml:f9329402-d9ed-482b-aa71-2e931e2796d7\" xlink:show=\"new\" xlink:title=\"psysml:f9329402-d9ed-482b-aa71-2e931e2796d7\" xlink:type=\"simple\"><rect fill=\"#FFFFFF\" height=\"45.9375\" id=\"E2\" style=\"stroke: #383838; stroke-width: 1.5;\" width=\"99\" x=\"155.5\" y=\"87\"/><text fill=\"#000000\" font-family=\"sans-serif\" font-size=\"12\" font-style=\"italic\" lengthAdjust=\"spacingAndGlyphs\" textLength=\"97\" x=\"156.5\" y=\"103.1387\">«attribute  def»</text><text fill=\"#000000\" font-family=\"sans-serif\" font-size=\"12\" lengthAdjust=\"spacingAndGlyphs\" textLength=\"8\" x=\"201\" y=\"117.1074\">S</text><line style=\"stroke: #383838; stroke-width: 1.5;\" x1=\"156.5\" x2=\"253.5\" y1=\"124.9375\" y2=\"124.9375\"/></a><polygon fill=\"#F8F8F8\" points=\"428,194,440,206,428,218,416,206,428,194\" style=\"stroke: #383838; stroke-width: 1.5;\"/><!--MD5=[21dd76c19d33815960c0e92fef8f0eef]\n",
       "entity E5--><a href=\"psysml:dcf8e234-4de8-4cb8-a947-17c2138066f0\" target=\"_top\" title=\"psysml:dcf8e234-4de8-4cb8-a947-17c2138066f0\" xlink:actuate=\"onRequest\" xlink:href=\"psysml:dcf8e234-4de8-4cb8-a947-17c2138066f0\" xlink:show=\"new\" xlink:title=\"psysml:dcf8e234-4de8-4cb8-a947-17c2138066f0\" xlink:type=\"simple\"><polygon fill=\"#F8F8F8\" points=\"287,279,287,333.5938,427,333.5938,407,306.2969,427,279\" style=\"stroke: #000000; stroke-width: 1.5;\"/><text fill=\"#000000\" font-family=\"sans-serif\" font-size=\"14\" font-style=\"italic\" lengthAdjust=\"spacingAndGlyphs\" textLength=\"111\" x=\"294\" y=\"301.9951\">«accept action»</text><text fill=\"#000000\" font-family=\"sans-serif\" font-size=\"14\" lengthAdjust=\"spacingAndGlyphs\" textLength=\"9\" x=\"345\" y=\"319.292\">S</text></a><!--MD5=[24d87cdf3002d433f401b2a2aa9f9f65]\n",
       "entity E6--><a href=\"psysml:18c3d457-6bb3-4962-a480-0e1b2254a09a\" target=\"_top\" title=\"psysml:18c3d457-6bb3-4962-a480-0e1b2254a09a\" xlink:actuate=\"onRequest\" xlink:href=\"psysml:18c3d457-6bb3-4962-a480-0e1b2254a09a\" xlink:show=\"new\" xlink:title=\"psysml:18c3d457-6bb3-4962-a480-0e1b2254a09a\" xlink:type=\"simple\"><polygon fill=\"#F8F8F8\" points=\"287,411,287,465.5938,395,465.5938,415,438.2969,395,411\" style=\"stroke: #000000; stroke-width: 1.5;\"/><text fill=\"#000000\" font-family=\"sans-serif\" font-size=\"14\" font-style=\"italic\" lengthAdjust=\"spacingAndGlyphs\" textLength=\"99\" x=\"294\" y=\"433.9951\">«send action»</text><text fill=\"#000000\" font-family=\"sans-serif\" font-size=\"14\" lengthAdjust=\"spacingAndGlyphs\" textLength=\"65\" x=\"311\" y=\"451.292\">S() to  B()</text></a><polygon fill=\"#F8F8F8\" points=\"426,527,438,539,426,551,414,539,426,527\" style=\"stroke: #383838; stroke-width: 1.5;\"/><ellipse cx=\"428\" cy=\"110\" fill=\"#000000\" rx=\"10\" ry=\"10\" style=\"stroke: none; stroke-width: 1.0;\"/><ellipse cx=\"426\" cy=\"622\" fill=\"none\" rx=\"10\" ry=\"10\" style=\"stroke: #000000; stroke-width: 1.0;\"/><ellipse cx=\"426.5\" cy=\"622.5\" fill=\"#000000\" rx=\"6\" ry=\"6\" style=\"stroke: none; stroke-width: 1.0;\"/><g id=\"E1.E8\"><a href=\"psysml:530e5343-b7af-483f-85a0-93ec425d0302\" target=\"_top\" title=\"psysml:530e5343-b7af-483f-85a0-93ec425d0302\" xlink:actuate=\"onRequest\" xlink:href=\"psysml:530e5343-b7af-483f-85a0-93ec425d0302\" xlink:show=\"new\" xlink:title=\"psysml:530e5343-b7af-483f-85a0-93ec425d0302\" xlink:type=\"simple\"><rect fill=\"#FFFFFF\" height=\"42.9375\" id=\"E8\" style=\"stroke: #383838; stroke-width: 1.5;\" width=\"88\" x=\"32\" y=\"88.5\"/><rect fill=\"#F8F8F8\" height=\"37.9375\" style=\"stroke: #383838; stroke-width: 1.5;\" width=\"88\" x=\"32\" y=\"88.5\"/><text fill=\"#000000\" font-family=\"sans-serif\" font-size=\"12\" font-style=\"italic\" lengthAdjust=\"spacingAndGlyphs\" textLength=\"81\" x=\"35.5\" y=\"104.6387\">«action  def»</text><text fill=\"#000000\" font-family=\"sans-serif\" font-size=\"12\" lengthAdjust=\"spacingAndGlyphs\" textLength=\"8\" x=\"72\" y=\"118.6074\">B</text></a></g><!--MD5=[f47e10efcf9a6752d55dae986d790ed9]\n",
       "link *start*E3 to E4--><a href=\"psysml:8ec85343-59fa-499c-a77c-a2bbf8c30a9c\" target=\"_top\" title=\"psysml:8ec85343-59fa-499c-a77c-a2bbf8c30a9c\" xlink:actuate=\"onRequest\" xlink:href=\"psysml:8ec85343-59fa-499c-a77c-a2bbf8c30a9c\" xlink:show=\"new\" xlink:title=\"psysml:8ec85343-59fa-499c-a77c-a2bbf8c30a9c\" xlink:type=\"simple\"><path d=\"M428,120.01 C428,135.81 428,168.69 428,188.61 \" fill=\"none\" id=\"*start*E3-&gt;E4\" style=\"stroke: #383838; stroke-width: 1.0;\"/><polygon fill=\"#383838\" points=\"428,193.85,432,184.85,428,188.85,424,184.85,428,193.85\" style=\"stroke: #383838; stroke-width: 1.0;\"/></a><!--MD5=[d19f2eb34364d71b67042106d92f540b]\n",
       "link E7 to *end*E3--><a href=\"psysml:0d9f4e26-bf93-4aba-a8c6-6dafeae60007\" target=\"_top\" title=\"psysml:0d9f4e26-bf93-4aba-a8c6-6dafeae60007\" xlink:actuate=\"onRequest\" xlink:href=\"psysml:0d9f4e26-bf93-4aba-a8c6-6dafeae60007\" xlink:show=\"new\" xlink:title=\"psysml:0d9f4e26-bf93-4aba-a8c6-6dafeae60007\" xlink:type=\"simple\"><path d=\"M426,551.26 C426,565.66 426,590.63 426,606.46 \" fill=\"none\" id=\"E7-&gt;*end*E3\" style=\"stroke: #383838; stroke-width: 1.0;\"/><polygon fill=\"#383838\" points=\"426,611.84,430,602.84,426,606.84,422,602.84,426,611.84\" style=\"stroke: #383838; stroke-width: 1.0;\"/></a><!--MD5=[1b7591eae5389033d8d09a9d6721a717]\n",
       "link E4 to E5--><a href=\"psysml:0f743cc2-6e19-41e4-aad8-79cb567e3158\" target=\"_top\" title=\"psysml:0f743cc2-6e19-41e4-aad8-79cb567e3158\" xlink:actuate=\"onRequest\" xlink:href=\"psysml:0f743cc2-6e19-41e4-aad8-79cb567e3158\" xlink:show=\"new\" xlink:title=\"psysml:0f743cc2-6e19-41e4-aad8-79cb567e3158\" xlink:type=\"simple\"><path d=\"M423.34,213.46 C414.55,225.66 394.99,252.8 379.37,274.46 \" fill=\"none\" id=\"E4-&gt;E5\" style=\"stroke: #383838; stroke-width: 1.0;\"/><polygon fill=\"#383838\" points=\"376.31,278.71,384.8093,273.7339,379.227,274.6491,378.3119,269.0667,376.31,278.71\" style=\"stroke: #383838; stroke-width: 1.0;\"/><text fill=\"#000000\" font-family=\"sans-serif\" font-size=\"13\" lengthAdjust=\"spacingAndGlyphs\" textLength=\"7\" x=\"372.7684\" y=\"268.1162\">*</text></a><!--MD5=[9120cf2e5df3bff93db8f754bbbc09b4]\n",
       "link E5 to E6--><a href=\"psysml:3404b4e6-fa1c-4cf0-a87f-a7f8eafbc3bc\" target=\"_top\" title=\"psysml:3404b4e6-fa1c-4cf0-a87f-a7f8eafbc3bc\" xlink:actuate=\"onRequest\" xlink:href=\"psysml:3404b4e6-fa1c-4cf0-a87f-a7f8eafbc3bc\" xlink:show=\"new\" xlink:title=\"psysml:3404b4e6-fa1c-4cf0-a87f-a7f8eafbc3bc\" xlink:type=\"simple\"><path d=\"M355.77,334.12 C354.81,354.89 353.48,383.8 352.46,405.77 \" fill=\"none\" id=\"E5-&gt;E6\" style=\"stroke: #383838; stroke-width: 1.0;\"/><polygon fill=\"#383838\" points=\"352.23,410.91,356.6368,402.1021,352.4583,405.9152,348.6452,401.7367,352.23,410.91\" style=\"stroke: #383838; stroke-width: 1.0;\"/><text fill=\"#000000\" font-family=\"sans-serif\" font-size=\"13\" lengthAdjust=\"spacingAndGlyphs\" textLength=\"7\" x=\"344.7051\" y=\"399.9247\">*</text></a><!--MD5=[02c70b7c851c11e3980e4e90450dc5dd]\n",
       "link E6 to E7--><a href=\"psysml:a56f0975-9bdd-4db4-ac34-32a8d14536cf\" target=\"_top\" title=\"psysml:a56f0975-9bdd-4db4-ac34-32a8d14536cf\" xlink:actuate=\"onRequest\" xlink:href=\"psysml:a56f0975-9bdd-4db4-ac34-32a8d14536cf\" xlink:show=\"new\" xlink:title=\"psysml:a56f0975-9bdd-4db4-ac34-32a8d14536cf\" xlink:type=\"simple\"><path d=\"M371.3,466.16 C386.71,486.4 407.07,513.14 418.09,527.61 \" fill=\"none\" id=\"E6-&gt;E7\" style=\"stroke: #383838; stroke-width: 1.0;\"/><polygon fill=\"#383838\" points=\"421.2,531.69,418.9398,522.104,418.1749,527.7089,412.57,526.9441,421.2,531.69\" style=\"stroke: #383838; stroke-width: 1.0;\"/><text fill=\"#000000\" font-family=\"sans-serif\" font-size=\"13\" lengthAdjust=\"spacingAndGlyphs\" textLength=\"7\" x=\"406.9375\" y=\"515.8563\">*</text></a><!--MD5=[6bdd27f9905911a7e892a3dc65cf6b7c]\n",
       "link E7 to E4--><a href=\"psysml:2a79c4d0-9744-4107-95b5-d9c642bb083b\" target=\"_top\" title=\"psysml:2a79c4d0-9744-4107-95b5-d9c642bb083b\" xlink:actuate=\"onRequest\" xlink:href=\"psysml:2a79c4d0-9744-4107-95b5-d9c642bb083b\" xlink:show=\"new\" xlink:title=\"psysml:2a79c4d0-9744-4107-95b5-d9c642bb083b\" xlink:type=\"simple\"><path d=\"M427,527.68 C428.94,507.78 433,466 433,466 C433,466 445,334 445,334 C445,334 445,279 445,279 C445,279 436.27,242.03 431.32,221.07 \" fill=\"none\" id=\"E7-&gt;E4\" style=\"stroke: #383838; stroke-width: 1.0;\"/><polygon fill=\"#383838\" points=\"430.15,216.12,428.3382,225.8008,431.3055,220.9846,436.1217,223.9519,430.15,216.12\" style=\"stroke: #383838; stroke-width: 1.0;\"/><text fill=\"#000000\" font-family=\"sans-serif\" font-size=\"13\" lengthAdjust=\"spacingAndGlyphs\" textLength=\"36\" x=\"443\" y=\"377.0669\">[true]</text><text fill=\"#000000\" font-family=\"sans-serif\" font-size=\"13\" lengthAdjust=\"spacingAndGlyphs\" textLength=\"7\" x=\"422.3906\" y=\"238.1355\">*</text></a><!--MD5=[bc3f321c8590408669ccafba7625162b]\n",
       "@startuml\r\n",
       "skinparam linetype polyline\r\n",
       "skinparam monochrome true\r\n",
       "skinparam classbackgroundcolor white\r\n",
       "skinparam shadowing false\r\n",
       "skinparam wrapWidth 300\r\n",
       "hide circle\r\n",
       "\r\n",
       "package \"ActionTest\" as E1  [[psysml:b606a038-0c45-436f-a3a1-beef47fa0e17 ]]  {\r\n",
       "comp def \"S\" as E2  <<(T,blue) attribute  def>> [[psysml:f9329402-d9ed-482b-aa71-2e931e2796d7 ]] {\r\n",
       "}\r\n",
       "rec usage \"a\" as E3  <<(T,blue) action>> [[psysml:69e16b91-de61-4fe2-8ebf-63b040d0687a ]] {\r\n",
       "choice \"m\" as E4  [[psysml:ba661374-e1ab-49de-aa21-c62362c65829 ]] \r\n",
       "accept \" S\" as E5 << accept action>> [[psysml:dcf8e234-4de8-4cb8-a947-17c2138066f0 ]] \r\n",
       "send \" S() to  B()\" as E6 << send action>> [[psysml:18c3d457-6bb3-4962-a480-0e1b2254a09a ]] \r\n",
       "choice \"<s>noname</s>\" as E7  [[psysml:1cf4a57b-2f41-48db-bb2e-4817b665eacc ]] \r\n",
       "[*] - -> E4 [[psysml:8ec85343-59fa-499c-a77c-a2bbf8c30a9c ]] \r\n",
       "E7  - -> [*] [[psysml:0d9f4e26-bf93-4aba-a8c6-6dafeae60007 ]] \r\n",
       "}\r\n",
       "\r\n",
       "rec def \"B\" as E8  <<(T,blue) action  def>> [[psysml:530e5343-b7af-483f-85a0-93ec425d0302 ]] {\r\n",
       "}\r\n",
       "\r\n",
       "}\r\n",
       "E4 - -> \"*\"E5 [[psysml:0f743cc2-6e19-41e4-aad8-79cb567e3158 ]] \r\n",
       "E5 - -> \"*\"E6 [[psysml:3404b4e6-fa1c-4cf0-a87f-a7f8eafbc3bc ]] \r\n",
       "E6 - -> \"*\"E7 [[psysml:a56f0975-9bdd-4db4-ac34-32a8d14536cf ]] \r\n",
       "E7  - -> \"*\"E4 [[psysml:2a79c4d0-9744-4107-95b5-d9c642bb083b ]] : [true]\r\n",
       "@enduml\r\n",
       "\n",
       "PlantUML version 1.2020.13(Sat Jun 13 12:26:38 UTC 2020)\n",
       "(EPL source distribution)\n",
       "Java Runtime: OpenJDK Runtime Environment\n",
       "JVM: OpenJDK 64-Bit Server VM\n",
       "Default Encoding: UTF-8\n",
       "Language: en\n",
       "Country: null\n",
       "--></g></svg>"
      ]
     },
     "execution_count": 15,
     "metadata": {},
     "output_type": "execute_result"
    }
   ],
   "source": [
    "%viz --style=\"POLYLINE\" --view=\"MIXED\" \"ActionTest\""
   ]
  },
  {
   "cell_type": "code",
   "execution_count": 16,
   "id": "59574277",
   "metadata": {
    "execution": {
     "iopub.execute_input": "2021-10-25T08:21:22.525483Z",
     "iopub.status.busy": "2021-10-25T08:21:22.525084Z",
     "iopub.status.idle": "2021-10-25T08:21:22.583001Z",
     "shell.execute_reply": "2021-10-25T08:21:22.582662Z"
    }
   },
   "outputs": [
    {
     "data": {
      "image/svg+xml": [
       "<?xml version=\"1.0\" encoding=\"UTF-8\" standalone=\"no\"?><svg xmlns=\"http://www.w3.org/2000/svg\" xmlns:xlink=\"http://www.w3.org/1999/xlink\" contentScriptType=\"application/ecmascript\" contentStyleType=\"text/css\" height=\"378px\" preserveAspectRatio=\"none\" style=\"width:871px;height:378px;\" version=\"1.1\" viewBox=\"0 0 871 378\" width=\"871px\" zoomAndPan=\"magnify\"><defs/><g><!--MD5=[fbc87193dbaf4d95561dea2c320d4a47]\n",
       "cluster E1--><a href=\"psysml:b606a038-0c45-436f-a3a1-beef47fa0e17\" target=\"_top\" title=\"psysml:b606a038-0c45-436f-a3a1-beef47fa0e17\" xlink:actuate=\"onRequest\" xlink:href=\"psysml:b606a038-0c45-436f-a3a1-beef47fa0e17\" xlink:show=\"new\" xlink:title=\"psysml:b606a038-0c45-436f-a3a1-beef47fa0e17\" xlink:type=\"simple\"><polygon fill=\"#FFFFFF\" points=\"16,6,96,6,103,28.2969,849,28.2969,849,366,16,366,16,6\" style=\"stroke: #000000; stroke-width: 1.5;\"/><line style=\"stroke: #000000; stroke-width: 1.5;\" x1=\"16\" x2=\"103\" y1=\"28.2969\" y2=\"28.2969\"/><text fill=\"#000000\" font-family=\"sans-serif\" font-size=\"14\" font-weight=\"bold\" lengthAdjust=\"spacingAndGlyphs\" textLength=\"74\" x=\"20\" y=\"20.9951\">ActionTest</text></a><!--MD5=[d5e69f78d87373223dbae638b30a9c99]\n",
       "cluster E3--><a href=\"psysml:69e16b91-de61-4fe2-8ebf-63b040d0687a\" target=\"_top\" title=\"psysml:69e16b91-de61-4fe2-8ebf-63b040d0687a\" xlink:actuate=\"onRequest\" xlink:href=\"psysml:69e16b91-de61-4fe2-8ebf-63b040d0687a\" xlink:show=\"new\" xlink:title=\"psysml:69e16b91-de61-4fe2-8ebf-63b040d0687a\" xlink:type=\"simple\"><rect fill=\"#FFFFFF\" height=\"160\" id=\"E3\" rx=\"10\" ry=\"10\" style=\"stroke: #383838; stroke-width: 1.5;\" width=\"769.5\" x=\"55.5\" y=\"49\"/><rect fill=\"#F8F8F8\" height=\"37.9375\" rx=\"10\" ry=\"10\" style=\"stroke: #F8F8F8; stroke-width: 1.5;\" width=\"769.5\" x=\"55.5\" y=\"49\"/><rect fill=\"#F8F8F8\" height=\"10\" style=\"stroke: #F8F8F8; stroke-width: 1.5;\" width=\"769.5\" x=\"55.5\" y=\"76.9375\"/><rect fill=\"none\" height=\"160\" id=\"E3\" rx=\"10\" ry=\"10\" style=\"stroke: #383838; stroke-width: 1.5;\" width=\"769.5\" x=\"55.5\" y=\"49\"/><text fill=\"#000000\" font-family=\"sans-serif\" font-size=\"12\" font-style=\"italic\" lengthAdjust=\"spacingAndGlyphs\" textLength=\"53\" x=\"413.75\" y=\"65.1387\">«action»</text><text fill=\"#000000\" font-family=\"sans-serif\" font-size=\"12\" lengthAdjust=\"spacingAndGlyphs\" textLength=\"8\" x=\"436.25\" y=\"79.1074\">a</text><line style=\"stroke: #383838; stroke-width: 1.0;\" x1=\"55.5\" x2=\"825\" y1=\"86.9375\" y2=\"86.9375\"/></a><!--MD5=[b4997ac47864f28c2f74865a473b2911]\n",
       "class E2--><a href=\"psysml:f9329402-d9ed-482b-aa71-2e931e2796d7\" target=\"_top\" title=\"psysml:f9329402-d9ed-482b-aa71-2e931e2796d7\" xlink:actuate=\"onRequest\" xlink:href=\"psysml:f9329402-d9ed-482b-aa71-2e931e2796d7\" xlink:show=\"new\" xlink:title=\"psysml:f9329402-d9ed-482b-aa71-2e931e2796d7\" xlink:type=\"simple\"><rect fill=\"#FFFFFF\" height=\"45.9375\" id=\"E2\" style=\"stroke: #383838; stroke-width: 1.5;\" width=\"99\" x=\"32\" y=\"225\"/><text fill=\"#000000\" font-family=\"sans-serif\" font-size=\"12\" font-style=\"italic\" lengthAdjust=\"spacingAndGlyphs\" textLength=\"97\" x=\"33\" y=\"241.1387\">«attribute  def»</text><text fill=\"#000000\" font-family=\"sans-serif\" font-size=\"12\" lengthAdjust=\"spacingAndGlyphs\" textLength=\"8\" x=\"77.5\" y=\"255.1074\">S</text><line style=\"stroke: #383838; stroke-width: 1.5;\" x1=\"33\" x2=\"130\" y1=\"262.9375\" y2=\"262.9375\"/></a><polygon fill=\"#F8F8F8\" points=\"204,114,216,126,204,138,192,126,204,114\" style=\"stroke: #383838; stroke-width: 1.5;\"/><!--MD5=[21dd76c19d33815960c0e92fef8f0eef]\n",
       "entity E5--><a href=\"psysml:dcf8e234-4de8-4cb8-a947-17c2138066f0\" target=\"_top\" title=\"psysml:dcf8e234-4de8-4cb8-a947-17c2138066f0\" xlink:actuate=\"onRequest\" xlink:href=\"psysml:dcf8e234-4de8-4cb8-a947-17c2138066f0\" xlink:show=\"new\" xlink:title=\"psysml:dcf8e234-4de8-4cb8-a947-17c2138066f0\" xlink:type=\"simple\"><polygon fill=\"#F8F8F8\" points=\"277,137.5,277,192.0938,417,192.0938,397,164.7969,417,137.5\" style=\"stroke: #000000; stroke-width: 1.5;\"/><text fill=\"#000000\" font-family=\"sans-serif\" font-size=\"14\" font-style=\"italic\" lengthAdjust=\"spacingAndGlyphs\" textLength=\"111\" x=\"284\" y=\"160.4951\">«accept action»</text><text fill=\"#000000\" font-family=\"sans-serif\" font-size=\"14\" lengthAdjust=\"spacingAndGlyphs\" textLength=\"9\" x=\"335\" y=\"177.792\">S</text></a><!--MD5=[24d87cdf3002d433f401b2a2aa9f9f65]\n",
       "entity E6--><a href=\"psysml:18c3d457-6bb3-4962-a480-0e1b2254a09a\" target=\"_top\" title=\"psysml:18c3d457-6bb3-4962-a480-0e1b2254a09a\" xlink:actuate=\"onRequest\" xlink:href=\"psysml:18c3d457-6bb3-4962-a480-0e1b2254a09a\" xlink:show=\"new\" xlink:title=\"psysml:18c3d457-6bb3-4962-a480-0e1b2254a09a\" xlink:type=\"simple\"><polygon fill=\"#F8F8F8\" points=\"515,137.5,515,192.0938,623,192.0938,643,164.7969,623,137.5\" style=\"stroke: #000000; stroke-width: 1.5;\"/><text fill=\"#000000\" font-family=\"sans-serif\" font-size=\"14\" font-style=\"italic\" lengthAdjust=\"spacingAndGlyphs\" textLength=\"99\" x=\"522\" y=\"160.4951\">«send action»</text><text fill=\"#000000\" font-family=\"sans-serif\" font-size=\"14\" lengthAdjust=\"spacingAndGlyphs\" textLength=\"65\" x=\"539\" y=\"177.792\">S() to  B()</text></a><polygon fill=\"#F8F8F8\" points=\"716,114,728,126,716,138,704,126,716,114\" style=\"stroke: #383838; stroke-width: 1.5;\"/><ellipse cx=\"81.5\" cy=\"126\" fill=\"#000000\" rx=\"10\" ry=\"10\" style=\"stroke: none; stroke-width: 1.0;\"/><ellipse cx=\"799\" cy=\"126\" fill=\"none\" rx=\"10\" ry=\"10\" style=\"stroke: #000000; stroke-width: 1.0;\"/><ellipse cx=\"799.5\" cy=\"126.5\" fill=\"#000000\" rx=\"6\" ry=\"6\" style=\"stroke: none; stroke-width: 1.0;\"/><g id=\"E1.E8\"><a href=\"psysml:530e5343-b7af-483f-85a0-93ec425d0302\" target=\"_top\" title=\"psysml:530e5343-b7af-483f-85a0-93ec425d0302\" xlink:actuate=\"onRequest\" xlink:href=\"psysml:530e5343-b7af-483f-85a0-93ec425d0302\" xlink:show=\"new\" xlink:title=\"psysml:530e5343-b7af-483f-85a0-93ec425d0302\" xlink:type=\"simple\"><rect fill=\"#FFFFFF\" height=\"42.9375\" id=\"E8\" style=\"stroke: #383838; stroke-width: 1.5;\" width=\"88\" x=\"37.5\" y=\"306.5\"/><rect fill=\"#F8F8F8\" height=\"37.9375\" style=\"stroke: #383838; stroke-width: 1.5;\" width=\"88\" x=\"37.5\" y=\"306.5\"/><text fill=\"#000000\" font-family=\"sans-serif\" font-size=\"12\" font-style=\"italic\" lengthAdjust=\"spacingAndGlyphs\" textLength=\"81\" x=\"41\" y=\"322.6387\">«action  def»</text><text fill=\"#000000\" font-family=\"sans-serif\" font-size=\"12\" lengthAdjust=\"spacingAndGlyphs\" textLength=\"8\" x=\"77.5\" y=\"336.6074\">B</text></a></g><!--MD5=[f47e10efcf9a6752d55dae986d790ed9]\n",
       "link *start*E3 to E4--><a href=\"psysml:8ec85343-59fa-499c-a77c-a2bbf8c30a9c\" target=\"_top\" title=\"psysml:8ec85343-59fa-499c-a77c-a2bbf8c30a9c\" xlink:actuate=\"onRequest\" xlink:href=\"psysml:8ec85343-59fa-499c-a77c-a2bbf8c30a9c\" xlink:show=\"new\" xlink:title=\"psysml:8ec85343-59fa-499c-a77c-a2bbf8c30a9c\" xlink:type=\"simple\"><path d=\"M91.56,126 C111.79,126 160.91,126 186.65,126 \" fill=\"none\" id=\"*start*E3-&gt;E4\" style=\"stroke: #383838; stroke-width: 1.0;\"/><polygon fill=\"#383838\" points=\"191.77,126,182.77,122,186.77,126,182.77,130,191.77,126\" style=\"stroke: #383838; stroke-width: 1.0;\"/></a><!--MD5=[d19f2eb34364d71b67042106d92f540b]\n",
       "link E7 to *end*E3--><a href=\"psysml:0d9f4e26-bf93-4aba-a8c6-6dafeae60007\" target=\"_top\" title=\"psysml:0d9f4e26-bf93-4aba-a8c6-6dafeae60007\" xlink:actuate=\"onRequest\" xlink:href=\"psysml:0d9f4e26-bf93-4aba-a8c6-6dafeae60007\" xlink:show=\"new\" xlink:title=\"psysml:0d9f4e26-bf93-4aba-a8c6-6dafeae60007\" xlink:type=\"simple\"><path d=\"M728.26,126 C742.66,126 767.63,126 783.46,126 \" fill=\"none\" id=\"E7-&gt;*end*E3\" style=\"stroke: #383838; stroke-width: 1.0;\"/><polygon fill=\"#383838\" points=\"788.84,126,779.84,122,783.84,126,779.84,130,788.84,126\" style=\"stroke: #383838; stroke-width: 1.0;\"/></a><!--MD5=[1b7591eae5389033d8d09a9d6721a717]\n",
       "link E4 to E5--><a href=\"psysml:0f743cc2-6e19-41e4-aad8-79cb567e3158\" target=\"_top\" title=\"psysml:0f743cc2-6e19-41e4-aad8-79cb567e3158\" xlink:actuate=\"onRequest\" xlink:href=\"psysml:0f743cc2-6e19-41e4-aad8-79cb567e3158\" xlink:show=\"new\" xlink:title=\"psysml:0f743cc2-6e19-41e4-aad8-79cb567e3158\" xlink:type=\"simple\"><path d=\"M213.82,128.44 C225.87,131.77 248.64,138.07 271.93,144.51 \" fill=\"none\" id=\"E4-&gt;E5\" style=\"stroke: #383838; stroke-width: 1.0;\"/><polygon fill=\"#383838\" points=\"276.9,145.89,269.2884,139.6399,272.0802,144.5599,267.1602,147.3517,276.9,145.89\" style=\"stroke: #383838; stroke-width: 1.0;\"/><text fill=\"#000000\" font-family=\"sans-serif\" font-size=\"13\" lengthAdjust=\"spacingAndGlyphs\" textLength=\"7\" x=\"261.85\" y=\"156.7165\">*</text></a><!--MD5=[9120cf2e5df3bff93db8f754bbbc09b4]\n",
       "link E5 to E6--><a href=\"psysml:3404b4e6-fa1c-4cf0-a87f-a7f8eafbc3bc\" target=\"_top\" title=\"psysml:3404b4e6-fa1c-4cf0-a87f-a7f8eafbc3bc\" xlink:actuate=\"onRequest\" xlink:href=\"psysml:3404b4e6-fa1c-4cf0-a87f-a7f8eafbc3bc\" xlink:show=\"new\" xlink:title=\"psysml:3404b4e6-fa1c-4cf0-a87f-a7f8eafbc3bc\" xlink:type=\"simple\"><path d=\"M417.01,165 C446.4,165 480.6,165 509.89,165 \" fill=\"none\" id=\"E5-&gt;E6\" style=\"stroke: #383838; stroke-width: 1.0;\"/><polygon fill=\"#383838\" points=\"514.93,165,505.93,161,509.93,165,505.93,169,514.93,165\" style=\"stroke: #383838; stroke-width: 1.0;\"/><text fill=\"#000000\" font-family=\"sans-serif\" font-size=\"13\" lengthAdjust=\"spacingAndGlyphs\" textLength=\"7\" x=\"500.1172\" y=\"177.9652\">*</text></a><!--MD5=[02c70b7c851c11e3980e4e90450dc5dd]\n",
       "link E6 to E7--><a href=\"psysml:a56f0975-9bdd-4db4-ac34-32a8d14536cf\" target=\"_top\" title=\"psysml:a56f0975-9bdd-4db4-ac34-32a8d14536cf\" xlink:actuate=\"onRequest\" xlink:href=\"psysml:a56f0975-9bdd-4db4-ac34-32a8d14536cf\" xlink:show=\"new\" xlink:title=\"psysml:a56f0975-9bdd-4db4-ac34-32a8d14536cf\" xlink:type=\"simple\"><path d=\"M643.15,146.76 C664.96,140.46 687.38,133.98 701.25,129.97 \" fill=\"none\" id=\"E6-&gt;E7\" style=\"stroke: #383838; stroke-width: 1.0;\"/><polygon fill=\"#383838\" points=\"706.29,128.51,696.5337,127.1632,701.4862,129.8968,698.7526,134.8493,706.29,128.51\" style=\"stroke: #383838; stroke-width: 1.0;\"/><text fill=\"#000000\" font-family=\"sans-serif\" font-size=\"13\" lengthAdjust=\"spacingAndGlyphs\" textLength=\"7\" x=\"688.8871\" y=\"148.5121\">*</text></a><!--MD5=[6bdd27f9905911a7e892a3dc65cf6b7c]\n",
       "link E7 to E4--><a href=\"psysml:2a79c4d0-9744-4107-95b5-d9c642bb083b\" target=\"_top\" title=\"psysml:2a79c4d0-9744-4107-95b5-d9c642bb083b\" xlink:actuate=\"onRequest\" xlink:href=\"psysml:2a79c4d0-9744-4107-95b5-d9c642bb083b\" xlink:show=\"new\" xlink:title=\"psysml:2a79c4d0-9744-4107-95b5-d9c642bb083b\" xlink:type=\"simple\"><path d=\"M704.76,124.88 C690.82,123.41 665.06,120.92 643,120 C480.47,113.24 439.53,113.24 277,120 C257.36,120.82 234.77,122.88 220.22,124.36 \" fill=\"none\" id=\"E7-&gt;E4\" style=\"stroke: #383838; stroke-width: 1.0;\"/><polygon fill=\"#383838\" points=\"215.24,124.88,224.6038,127.9327,220.2135,124.3655,223.7806,119.9751,215.24,124.88\" style=\"stroke: #383838; stroke-width: 1.0;\"/><text fill=\"#000000\" font-family=\"sans-serif\" font-size=\"13\" lengthAdjust=\"spacingAndGlyphs\" textLength=\"36\" x=\"448\" y=\"111.0669\">[true]</text><text fill=\"#000000\" font-family=\"sans-serif\" font-size=\"13\" lengthAdjust=\"spacingAndGlyphs\" textLength=\"7\" x=\"223.8998\" y=\"140.7342\">*</text></a><!--MD5=[de1ab59626339ae4c5aa5f61a9a5ad7c]\n",
       "@startuml\r\n",
       "left to right direction\r\n",
       "skinparam monochrome true\r\n",
       "skinparam classbackgroundcolor white\r\n",
       "skinparam shadowing false\r\n",
       "skinparam wrapWidth 300\r\n",
       "hide circle\r\n",
       "\r\n",
       "package \"ActionTest\" as E1  [[psysml:b606a038-0c45-436f-a3a1-beef47fa0e17 ]]  {\r\n",
       "comp def \"S\" as E2  <<(T,blue) attribute  def>> [[psysml:f9329402-d9ed-482b-aa71-2e931e2796d7 ]] {\r\n",
       "}\r\n",
       "rec usage \"a\" as E3  <<(T,blue) action>> [[psysml:69e16b91-de61-4fe2-8ebf-63b040d0687a ]] {\r\n",
       "choice \"m\" as E4  [[psysml:ba661374-e1ab-49de-aa21-c62362c65829 ]] \r\n",
       "accept \" S\" as E5 << accept action>> [[psysml:dcf8e234-4de8-4cb8-a947-17c2138066f0 ]] \r\n",
       "send \" S() to  B()\" as E6 << send action>> [[psysml:18c3d457-6bb3-4962-a480-0e1b2254a09a ]] \r\n",
       "choice \"<s>noname</s>\" as E7  [[psysml:1cf4a57b-2f41-48db-bb2e-4817b665eacc ]] \r\n",
       "[*] - -> E4 [[psysml:8ec85343-59fa-499c-a77c-a2bbf8c30a9c ]] \r\n",
       "E7  - -> [*] [[psysml:0d9f4e26-bf93-4aba-a8c6-6dafeae60007 ]] \r\n",
       "}\r\n",
       "\r\n",
       "rec def \"B\" as E8  <<(T,blue) action  def>> [[psysml:530e5343-b7af-483f-85a0-93ec425d0302 ]] {\r\n",
       "}\r\n",
       "\r\n",
       "}\r\n",
       "E4 - -> \"*\"E5 [[psysml:0f743cc2-6e19-41e4-aad8-79cb567e3158 ]] \r\n",
       "E5 - -> \"*\"E6 [[psysml:3404b4e6-fa1c-4cf0-a87f-a7f8eafbc3bc ]] \r\n",
       "E6 - -> \"*\"E7 [[psysml:a56f0975-9bdd-4db4-ac34-32a8d14536cf ]] \r\n",
       "E7  - -> \"*\"E4 [[psysml:2a79c4d0-9744-4107-95b5-d9c642bb083b ]] : [true]\r\n",
       "@enduml\r\n",
       "\n",
       "PlantUML version 1.2020.13(Sat Jun 13 12:26:38 UTC 2020)\n",
       "(EPL source distribution)\n",
       "Java Runtime: OpenJDK Runtime Environment\n",
       "JVM: OpenJDK 64-Bit Server VM\n",
       "Default Encoding: UTF-8\n",
       "Language: en\n",
       "Country: null\n",
       "--></g></svg>"
      ]
     },
     "execution_count": 16,
     "metadata": {},
     "output_type": "execute_result"
    }
   ],
   "source": [
    "%viz --style=\"LR\" --view=\"Default\" \"ActionTest\""
   ]
  },
  {
   "cell_type": "code",
   "execution_count": 17,
   "id": "175582c6",
   "metadata": {
    "execution": {
     "iopub.execute_input": "2021-10-25T08:21:22.632495Z",
     "iopub.status.busy": "2021-10-25T08:21:22.632093Z",
     "iopub.status.idle": "2021-10-25T08:21:22.758166Z",
     "shell.execute_reply": "2021-10-25T08:21:22.757815Z"
    }
   },
   "outputs": [
    {
     "data": {
      "image/svg+xml": [
       "<?xml version=\"1.0\" encoding=\"UTF-8\" standalone=\"no\"?><svg xmlns=\"http://www.w3.org/2000/svg\" xmlns:xlink=\"http://www.w3.org/1999/xlink\" contentScriptType=\"application/ecmascript\" contentStyleType=\"text/css\" height=\"523px\" preserveAspectRatio=\"none\" style=\"width:476px;height:523px;\" version=\"1.1\" viewBox=\"0 0 476 523\" width=\"476px\" zoomAndPan=\"magnify\"><defs/><g><!--MD5=[fbc87193dbaf4d95561dea2c320d4a47]\n",
       "cluster E1--><a href=\"psysml:b606a038-0c45-436f-a3a1-beef47fa0e17\" target=\"_top\" title=\"psysml:b606a038-0c45-436f-a3a1-beef47fa0e17\" xlink:actuate=\"onRequest\" xlink:href=\"psysml:b606a038-0c45-436f-a3a1-beef47fa0e17\" xlink:show=\"new\" xlink:title=\"psysml:b606a038-0c45-436f-a3a1-beef47fa0e17\" xlink:type=\"simple\"><polygon fill=\"#FFFFFF\" points=\"16,6,96,6,103,28.2969,454,28.2969,454,511,16,511,16,6\" style=\"stroke: #000000; stroke-width: 1.5;\"/><line style=\"stroke: #000000; stroke-width: 1.5;\" x1=\"16\" x2=\"103\" y1=\"28.2969\" y2=\"28.2969\"/><text fill=\"#000000\" font-family=\"sans-serif\" font-size=\"14\" font-weight=\"bold\" lengthAdjust=\"spacingAndGlyphs\" textLength=\"74\" x=\"20\" y=\"20.9951\">ActionTest</text></a><!--MD5=[b4997ac47864f28c2f74865a473b2911]\n",
       "class E2--><a href=\"psysml:f9329402-d9ed-482b-aa71-2e931e2796d7\" target=\"_top\" title=\"psysml:f9329402-d9ed-482b-aa71-2e931e2796d7\" xlink:actuate=\"onRequest\" xlink:href=\"psysml:f9329402-d9ed-482b-aa71-2e931e2796d7\" xlink:show=\"new\" xlink:title=\"psysml:f9329402-d9ed-482b-aa71-2e931e2796d7\" xlink:type=\"simple\"><rect fill=\"#FFFFFF\" height=\"45.9375\" id=\"E2\" style=\"stroke: #383838; stroke-width: 1.5;\" width=\"99\" x=\"339\" y=\"266\"/><text fill=\"#000000\" font-family=\"sans-serif\" font-size=\"12\" font-style=\"italic\" lengthAdjust=\"spacingAndGlyphs\" textLength=\"97\" x=\"340\" y=\"282.1387\">«attribute  def»</text><text fill=\"#000000\" font-family=\"sans-serif\" font-size=\"12\" lengthAdjust=\"spacingAndGlyphs\" textLength=\"8\" x=\"384.5\" y=\"296.1074\">S</text><line style=\"stroke: #383838; stroke-width: 1.5;\" x1=\"340\" x2=\"437\" y1=\"303.9375\" y2=\"303.9375\"/></a><!--MD5=[09b614a08d8cba4a07c9adeb5e0fee81]\n",
       "class E3--><a href=\"psysml:69e16b91-de61-4fe2-8ebf-63b040d0687a\" target=\"_top\" title=\"psysml:69e16b91-de61-4fe2-8ebf-63b040d0687a\" xlink:actuate=\"onRequest\" xlink:href=\"psysml:69e16b91-de61-4fe2-8ebf-63b040d0687a\" xlink:show=\"new\" xlink:title=\"psysml:69e16b91-de61-4fe2-8ebf-63b040d0687a\" xlink:type=\"simple\"><rect fill=\"#FFFFFF\" height=\"156.375\" id=\"E3\" rx=\"10\" ry=\"10\" style=\"stroke: #383838; stroke-width: 1.5;\" width=\"79\" x=\"34\" y=\"211\"/><text fill=\"#000000\" font-family=\"sans-serif\" font-size=\"12\" font-style=\"italic\" lengthAdjust=\"spacingAndGlyphs\" textLength=\"53\" x=\"47\" y=\"227.1387\">«action»</text><text fill=\"#000000\" font-family=\"sans-serif\" font-size=\"12\" lengthAdjust=\"spacingAndGlyphs\" textLength=\"8\" x=\"69.5\" y=\"241.1074\">a</text><line style=\"stroke: #383838; stroke-width: 1.5;\" x1=\"35\" x2=\"112\" y1=\"248.9375\" y2=\"248.9375\"/><text fill=\"#000000\" font-family=\"sans-serif\" font-size=\"11\" lengthAdjust=\"spacingAndGlyphs\" textLength=\"11\" x=\"40\" y=\"279.9526\">to</text><text fill=\"#000000\" font-family=\"sans-serif\" font-size=\"11\" lengthAdjust=\"spacingAndGlyphs\" textLength=\"11\" x=\"40\" y=\"292.7573\">to</text><text fill=\"#000000\" font-family=\"sans-serif\" font-size=\"11\" lengthAdjust=\"spacingAndGlyphs\" textLength=\"11\" x=\"40\" y=\"305.562\">to</text><text fill=\"#000000\" font-family=\"sans-serif\" font-size=\"11\" lengthAdjust=\"spacingAndGlyphs\" textLength=\"11\" x=\"40\" y=\"318.3667\">to</text><line style=\"stroke: #383838; stroke-width: 1.0;\" x1=\"35\" x2=\"38\" y1=\"263.3398\" y2=\"263.3398\"/><text fill=\"#000000\" font-family=\"sans-serif\" font-size=\"11\" lengthAdjust=\"spacingAndGlyphs\" textLength=\"71\" x=\"38\" y=\"266.6479\">successions</text><line style=\"stroke: #383838; stroke-width: 1.0;\" x1=\"109\" x2=\"112\" y1=\"263.3398\" y2=\"263.3398\"/><text fill=\"#000000\" font-family=\"sans-serif\" font-size=\"11\" lengthAdjust=\"spacingAndGlyphs\" textLength=\"0\" x=\"44\" y=\"347.9761\"/><text fill=\"#000000\" font-family=\"sans-serif\" font-size=\"11\" lengthAdjust=\"spacingAndGlyphs\" textLength=\"0\" x=\"44\" y=\"360.7808\"/><line style=\"stroke: #383838; stroke-width: 1.0;\" x1=\"35\" x2=\"43\" y1=\"331.3633\" y2=\"331.3633\"/><text fill=\"#000000\" font-family=\"sans-serif\" font-size=\"11\" lengthAdjust=\"spacingAndGlyphs\" textLength=\"61\" x=\"43\" y=\"334.6714\">transitions</text><line style=\"stroke: #383838; stroke-width: 1.0;\" x1=\"104\" x2=\"112\" y1=\"331.3633\" y2=\"331.3633\"/></a><!--MD5=[ebbe1d658d1005bcc118a6aa81145e00]\n",
       "class E4--><a href=\"psysml:d8f546a6-9527-45eb-b0f0-0c3fcbb6d2a9\" target=\"_top\" title=\"psysml:d8f546a6-9527-45eb-b0f0-0c3fcbb6d2a9\" xlink:actuate=\"onRequest\" xlink:href=\"psysml:d8f546a6-9527-45eb-b0f0-0c3fcbb6d2a9\" xlink:show=\"new\" xlink:title=\"psysml:d8f546a6-9527-45eb-b0f0-0c3fcbb6d2a9\" xlink:type=\"simple\"><rect fill=\"#FFFFFF\" height=\"45.9375\" id=\"E4\" rx=\"10\" ry=\"10\" style=\"stroke: #383838; stroke-width: 1.5;\" width=\"87\" x=\"183.5\" y=\"449\"/><text fill=\"#000000\" font-family=\"sans-serif\" font-size=\"12\" font-style=\"italic\" lengthAdjust=\"spacingAndGlyphs\" textLength=\"53\" x=\"200.5\" y=\"465.1387\">«action»</text><text fill=\"#000000\" font-family=\"sans-serif\" font-size=\"12\" lengthAdjust=\"spacingAndGlyphs\" textLength=\"77\" x=\"186.5\" y=\"479.1074\">start: Action</text><line style=\"stroke: #383838; stroke-width: 1.5;\" x1=\"184.5\" x2=\"269.5\" y1=\"486.9375\" y2=\"486.9375\"/></a><!--MD5=[270fce915f116d4de14055a7c1d9a0f3]\n",
       "class E5--><a href=\"psysml:ba661374-e1ab-49de-aa21-c62362c65829\" target=\"_top\" title=\"psysml:ba661374-e1ab-49de-aa21-c62362c65829\" xlink:actuate=\"onRequest\" xlink:href=\"psysml:ba661374-e1ab-49de-aa21-c62362c65829\" xlink:show=\"new\" xlink:title=\"psysml:ba661374-e1ab-49de-aa21-c62362c65829\" xlink:type=\"simple\"><rect fill=\"#FFFFFF\" height=\"45.9375\" id=\"E5\" rx=\"10\" ry=\"10\" style=\"stroke: #383838; stroke-width: 1.5;\" width=\"92\" x=\"181\" y=\"368\"/><text fill=\"#000000\" font-family=\"sans-serif\" font-size=\"12\" font-style=\"italic\" lengthAdjust=\"spacingAndGlyphs\" textLength=\"90\" x=\"182\" y=\"384.1387\">«merge node»</text><text fill=\"#000000\" font-family=\"sans-serif\" font-size=\"12\" lengthAdjust=\"spacingAndGlyphs\" textLength=\"11\" x=\"221.5\" y=\"398.1074\">m</text><line style=\"stroke: #383838; stroke-width: 1.5;\" x1=\"182\" x2=\"272\" y1=\"405.9375\" y2=\"405.9375\"/></a><!--MD5=[60a26617385b1d2d0262a64233df1f8d]\n",
       "class E6--><a href=\"psysml:dcf8e234-4de8-4cb8-a947-17c2138066f0\" target=\"_top\" title=\"psysml:dcf8e234-4de8-4cb8-a947-17c2138066f0\" xlink:actuate=\"onRequest\" xlink:href=\"psysml:dcf8e234-4de8-4cb8-a947-17c2138066f0\" xlink:show=\"new\" xlink:title=\"psysml:dcf8e234-4de8-4cb8-a947-17c2138066f0\" xlink:type=\"simple\"><rect fill=\"#FFFFFF\" height=\"88.3516\" id=\"E6\" rx=\"10\" ry=\"10\" style=\"stroke: #383838; stroke-width: 1.5;\" width=\"102\" x=\"176\" y=\"245\"/><text fill=\"#000000\" font-family=\"sans-serif\" font-size=\"12\" font-style=\"italic\" lengthAdjust=\"spacingAndGlyphs\" textLength=\"100\" x=\"177\" y=\"261.1387\">«accept action»</text><text fill=\"#000000\" font-family=\"sans-serif\" font-size=\"12\" lengthAdjust=\"spacingAndGlyphs\" text-decoration=\"line-through\" textLength=\"51\" x=\"201.5\" y=\"275.1074\">noname</text><line style=\"stroke: #383838; stroke-width: 1.5;\" x1=\"177\" x2=\"277\" y1=\"282.9375\" y2=\"282.9375\"/><text fill=\"#000000\" font-family=\"sans-serif\" font-size=\"11\" font-weight=\"bold\" lengthAdjust=\"spacingAndGlyphs\" textLength=\"10\" x=\"182\" y=\"313.9526\">in</text><text fill=\"#000000\" font-family=\"sans-serif\" font-size=\"11\" lengthAdjust=\"spacingAndGlyphs\" textLength=\"60\" x=\"196\" y=\"313.9526\">payload: S</text><text fill=\"#000000\" font-family=\"sans-serif\" font-size=\"11\" font-weight=\"bold\" lengthAdjust=\"spacingAndGlyphs\" textLength=\"10\" x=\"182\" y=\"326.7573\">in</text><text fill=\"#000000\" font-family=\"sans-serif\" font-size=\"11\" lengthAdjust=\"spacingAndGlyphs\" textLength=\"46\" x=\"196\" y=\"326.7573\">receiver</text><line style=\"stroke: #383838; stroke-width: 1.0;\" x1=\"177\" x2=\"193.5\" y1=\"297.3398\" y2=\"297.3398\"/><text fill=\"#000000\" font-family=\"sans-serif\" font-size=\"11\" lengthAdjust=\"spacingAndGlyphs\" textLength=\"67\" x=\"193.5\" y=\"300.6479\">parameters</text><line style=\"stroke: #383838; stroke-width: 1.0;\" x1=\"260.5\" x2=\"277\" y1=\"297.3398\" y2=\"297.3398\"/></a><!--MD5=[2156ba9850f5573cc1fc38a6a4b2f02b]\n",
       "class E7--><a href=\"psysml:18c3d457-6bb3-4962-a480-0e1b2254a09a\" target=\"_top\" title=\"psysml:18c3d457-6bb3-4962-a480-0e1b2254a09a\" xlink:actuate=\"onRequest\" xlink:href=\"psysml:18c3d457-6bb3-4962-a480-0e1b2254a09a\" xlink:show=\"new\" xlink:title=\"psysml:18c3d457-6bb3-4962-a480-0e1b2254a09a\" xlink:type=\"simple\"><rect fill=\"#FFFFFF\" height=\"88.3516\" id=\"E7\" rx=\"10\" ry=\"10\" style=\"stroke: #383838; stroke-width: 1.5;\" width=\"101\" x=\"176.5\" y=\"122\"/><text fill=\"#000000\" font-family=\"sans-serif\" font-size=\"12\" font-style=\"italic\" lengthAdjust=\"spacingAndGlyphs\" textLength=\"88\" x=\"183\" y=\"138.1387\">«send action»</text><text fill=\"#000000\" font-family=\"sans-serif\" font-size=\"12\" lengthAdjust=\"spacingAndGlyphs\" text-decoration=\"line-through\" textLength=\"51\" x=\"201.5\" y=\"152.1074\">noname</text><line style=\"stroke: #383838; stroke-width: 1.5;\" x1=\"177.5\" x2=\"276.5\" y1=\"159.9375\" y2=\"159.9375\"/><text fill=\"#000000\" font-family=\"sans-serif\" font-size=\"11\" font-weight=\"bold\" lengthAdjust=\"spacingAndGlyphs\" textLength=\"10\" x=\"182.5\" y=\"190.9526\">in</text><text fill=\"#000000\" font-family=\"sans-serif\" font-size=\"11\" lengthAdjust=\"spacingAndGlyphs\" textLength=\"73\" x=\"196.5\" y=\"190.9526\">payload=S();</text><text fill=\"#000000\" font-family=\"sans-serif\" font-size=\"11\" font-weight=\"bold\" lengthAdjust=\"spacingAndGlyphs\" textLength=\"10\" x=\"182.5\" y=\"203.7573\">in</text><text fill=\"#000000\" font-family=\"sans-serif\" font-size=\"11\" lengthAdjust=\"spacingAndGlyphs\" textLength=\"75\" x=\"196.5\" y=\"203.7573\">receiver=B();</text><line style=\"stroke: #383838; stroke-width: 1.0;\" x1=\"177.5\" x2=\"193.5\" y1=\"174.3398\" y2=\"174.3398\"/><text fill=\"#000000\" font-family=\"sans-serif\" font-size=\"11\" lengthAdjust=\"spacingAndGlyphs\" textLength=\"67\" x=\"193.5\" y=\"177.6479\">parameters</text><line style=\"stroke: #383838; stroke-width: 1.0;\" x1=\"260.5\" x2=\"276.5\" y1=\"174.3398\" y2=\"174.3398\"/></a><!--MD5=[b9389687b975829384b498ac4b7476b2]\n",
       "class E8--><a href=\"psysml:1cf4a57b-2f41-48db-bb2e-4817b665eacc\" target=\"_top\" title=\"psysml:1cf4a57b-2f41-48db-bb2e-4817b665eacc\" xlink:actuate=\"onRequest\" xlink:href=\"psysml:1cf4a57b-2f41-48db-bb2e-4817b665eacc\" xlink:show=\"new\" xlink:title=\"psysml:1cf4a57b-2f41-48db-bb2e-4817b665eacc\" xlink:type=\"simple\"><rect fill=\"#FFFFFF\" height=\"45.9375\" id=\"E8\" rx=\"10\" ry=\"10\" style=\"stroke: #383838; stroke-width: 1.5;\" width=\"104\" x=\"175\" y=\"41\"/><text fill=\"#000000\" font-family=\"sans-serif\" font-size=\"12\" font-style=\"italic\" lengthAdjust=\"spacingAndGlyphs\" textLength=\"102\" x=\"176\" y=\"57.1387\">«decision node»</text><text fill=\"#000000\" font-family=\"sans-serif\" font-size=\"12\" lengthAdjust=\"spacingAndGlyphs\" text-decoration=\"line-through\" textLength=\"51\" x=\"201.5\" y=\"71.1074\">noname</text><line style=\"stroke: #383838; stroke-width: 1.5;\" x1=\"176\" x2=\"278\" y1=\"78.9375\" y2=\"78.9375\"/></a><!--MD5=[fd4143e9d270a159db93a4ea2a975926]\n",
       "class E9--><a href=\"psysml:530e5343-b7af-483f-85a0-93ec425d0302\" target=\"_top\" title=\"psysml:530e5343-b7af-483f-85a0-93ec425d0302\" xlink:actuate=\"onRequest\" xlink:href=\"psysml:530e5343-b7af-483f-85a0-93ec425d0302\" xlink:show=\"new\" xlink:title=\"psysml:530e5343-b7af-483f-85a0-93ec425d0302\" xlink:type=\"simple\"><rect fill=\"#FFFFFF\" height=\"45.9375\" id=\"E9\" style=\"stroke: #383838; stroke-width: 1.5;\" width=\"83\" x=\"32\" y=\"425\"/><text fill=\"#000000\" font-family=\"sans-serif\" font-size=\"12\" font-style=\"italic\" lengthAdjust=\"spacingAndGlyphs\" textLength=\"81\" x=\"33\" y=\"441.1387\">«action  def»</text><text fill=\"#000000\" font-family=\"sans-serif\" font-size=\"12\" lengthAdjust=\"spacingAndGlyphs\" textLength=\"8\" x=\"69.5\" y=\"455.1074\">B</text><line style=\"stroke: #383838; stroke-width: 1.5;\" x1=\"33\" x2=\"114\" y1=\"462.9375\" y2=\"462.9375\"/></a><!--MD5=[4672eba38e49728da53d11aeb285b987]\n",
       "reverse link E3 to E4--><a href=\"psysml:4e23b20a-a36f-46ec-8d5d-d94d3421b796\" target=\"_top\" title=\"psysml:4e23b20a-a36f-46ec-8d5d-d94d3421b796\" xlink:actuate=\"onRequest\" xlink:href=\"psysml:4e23b20a-a36f-46ec-8d5d-d94d3421b796\" xlink:show=\"new\" xlink:title=\"psysml:4e23b20a-a36f-46ec-8d5d-d94d3421b796\" xlink:type=\"simple\"><path d=\"M121.53,364.65 C137.24,387.38 155.7,411.66 175,432 C180.58,437.88 187.05,443.61 193.48,448.82 \" fill=\"none\" id=\"E3&lt;-E4\" style=\"stroke: #383838; stroke-width: 1.0; stroke-dasharray: 7.0,7.0;\"/><ellipse cx=\"117.5885\" cy=\"358.8322\" fill=\"#FFFFFF\" rx=\"8\" ry=\"8\" style=\"stroke: #383838; stroke-width: 1.0;\"/><line style=\"stroke: #383838; stroke-width: 1.0;\" x1=\"122.0769\" x2=\"113.1\" y1=\"365.4544\" y2=\"352.21\"/><line style=\"stroke: #383838; stroke-width: 1.0;\" x1=\"110.9663\" x2=\"124.2107\" y1=\"363.3207\" y2=\"354.3437\"/></a><!--MD5=[191cde3d490a3f6d7bb551fe3ddca469]\n",
       "reverse link E3 to E5--><a href=\"psysml:ad14583f-f40d-4d66-bbbd-cfa822b8d260\" target=\"_top\" title=\"psysml:ad14583f-f40d-4d66-bbbd-cfa822b8d260\" xlink:actuate=\"onRequest\" xlink:href=\"psysml:ad14583f-f40d-4d66-bbbd-cfa822b8d260\" xlink:show=\"new\" xlink:title=\"psysml:ad14583f-f40d-4d66-bbbd-cfa822b8d260\" xlink:type=\"simple\"><path d=\"M124.03,322.35 C146.22,337.29 171.83,354.53 191.84,368 \" fill=\"none\" id=\"E3&lt;-E5\" style=\"stroke: #383838; stroke-width: 1.0;\"/><polygon fill=\"#383838\" points=\"113.12,315,115.859,321.6707,123.07,321.708,120.331,315.0373,113.12,315\" style=\"stroke: #383838; stroke-width: 1.0;\"/><text fill=\"#000000\" font-family=\"sans-serif\" font-size=\"13\" lengthAdjust=\"spacingAndGlyphs\" textLength=\"7\" x=\"174.4501\" y=\"356.8963\">*</text></a><!--MD5=[1026b4b93417a13aa8999a858998add2]\n",
       "reverse link E3 to E6--><a href=\"psysml:02f2d6be-0a1b-48e7-9525-0788d6b31587\" target=\"_top\" title=\"psysml:02f2d6be-0a1b-48e7-9525-0788d6b31587\" xlink:actuate=\"onRequest\" xlink:href=\"psysml:02f2d6be-0a1b-48e7-9525-0788d6b31587\" xlink:show=\"new\" xlink:title=\"psysml:02f2d6be-0a1b-48e7-9525-0788d6b31587\" xlink:type=\"simple\"><path d=\"M126.19,289 C142.29,289 160.01,289 175.99,289 \" fill=\"none\" id=\"E3&lt;-E6\" style=\"stroke: #383838; stroke-width: 1.0;\"/><polygon fill=\"#383838\" points=\"113.12,289,119.12,293,125.12,289,119.12,285,113.12,289\" style=\"stroke: #383838; stroke-width: 1.0;\"/><text fill=\"#000000\" font-family=\"sans-serif\" font-size=\"13\" lengthAdjust=\"spacingAndGlyphs\" textLength=\"7\" x=\"160.9838\" y=\"302.1524\">*</text></a><!--MD5=[3403bfa781cc3da0fd423dbab6f01c63]\n",
       "reverse link E6 to E2--><a href=\"psysml:415ec969-1049-4ff8-b1f4-3b78a625bc7d\" target=\"_top\" title=\"psysml:415ec969-1049-4ff8-b1f4-3b78a625bc7d\" xlink:actuate=\"onRequest\" xlink:href=\"psysml:415ec969-1049-4ff8-b1f4-3b78a625bc7d\" xlink:show=\"new\" xlink:title=\"psysml:415ec969-1049-4ff8-b1f4-3b78a625bc7d\" xlink:type=\"simple\"><path d=\"M291.07,301.5 C306.93,301.98 323.7,301.77 338.74,300.85 \" fill=\"none\" id=\"E6&lt;-E2\" style=\"stroke: #383838; stroke-width: 1.0;\"/><polygon fill=\"#FFFFFF\" points=\"278.03,300.93,283.8484,305.1899,290.0184,301.4575,284.2,297.1976,278.03,300.93\" style=\"stroke: #383838; stroke-width: 1.0;\"/></a><!--MD5=[3403bfa781cc3da0fd423dbab6f01c63]\n",
       "reverse link E6 to E2--><a href=\"psysml:415ec969-1049-4ff8-b1f4-3b78a625bc7d\" target=\"_top\" title=\"psysml:415ec969-1049-4ff8-b1f4-3b78a625bc7d\" xlink:actuate=\"onRequest\" xlink:href=\"psysml:415ec969-1049-4ff8-b1f4-3b78a625bc7d\" xlink:show=\"new\" xlink:title=\"psysml:415ec969-1049-4ff8-b1f4-3b78a625bc7d\" xlink:type=\"simple\"><path d=\"M291.07,275.77 C306.93,275.25 323.7,275.48 338.74,276.45 \" fill=\"none\" id=\"E6&lt;-E2-1\" style=\"stroke: #383838; stroke-width: 1.0;\"/><polygon fill=\"#FFFFFF\" points=\"278.03,276.37,284.2123,280.082,290.0166,275.803,283.8343,272.091,278.03,276.37\" style=\"stroke: #383838; stroke-width: 1.0;\"/></a><!--MD5=[85760999379eecfd2565a9fecdca67e4]\n",
       "reverse link E3 to E7--><a href=\"psysml:6b163638-00d9-4d11-a021-492b992d4a3f\" target=\"_top\" title=\"psysml:6b163638-00d9-4d11-a021-492b992d4a3f\" xlink:actuate=\"onRequest\" xlink:href=\"psysml:6b163638-00d9-4d11-a021-492b992d4a3f\" xlink:show=\"new\" xlink:title=\"psysml:6b163638-00d9-4d11-a021-492b992d4a3f\" xlink:type=\"simple\"><path d=\"M123.36,249.33 C140.29,235.59 159.28,220.17 176.27,206.37 \" fill=\"none\" id=\"E3&lt;-E7\" style=\"stroke: #383838; stroke-width: 1.0;\"/><polygon fill=\"#383838\" points=\"113.12,257.64,120.2994,256.9647,122.4374,250.0779,115.258,250.7531,113.12,257.64\" style=\"stroke: #383838; stroke-width: 1.0;\"/><text fill=\"#000000\" font-family=\"sans-serif\" font-size=\"13\" lengthAdjust=\"spacingAndGlyphs\" textLength=\"7\" x=\"161.6439\" y=\"225.1532\">*</text></a><!--MD5=[4cb75b73ec3682b8f7f8edc9cc86126a]\n",
       "reverse link E3 to E8--><a href=\"psysml:e0686d6c-32a7-4788-b0ea-8926b68cc818\" target=\"_top\" title=\"psysml:e0686d6c-32a7-4788-b0ea-8926b68cc818\" xlink:actuate=\"onRequest\" xlink:href=\"psysml:e0686d6c-32a7-4788-b0ea-8926b68cc818\" xlink:show=\"new\" xlink:title=\"psysml:e0686d6c-32a7-4788-b0ea-8926b68cc818\" xlink:type=\"simple\"><path d=\"M114.16,198.76 C130.47,167 151.15,132.22 175,104 C180.08,97.98 186.2,92.27 192.41,87.14 \" fill=\"none\" id=\"E3&lt;-E8\" style=\"stroke: #383838; stroke-width: 1.0;\"/><polygon fill=\"#383838\" points=\"108.13,210.76,114.398,207.1946,113.5176,200.0374,107.2496,203.6028,108.13,210.76\" style=\"stroke: #383838; stroke-width: 1.0;\"/></a><!--MD5=[f23fe6d85f7551e5b6f0c8e4140147a9]\n",
       "@startuml\r\n",
       "left to right direction\r\n",
       "skinparam monochrome true\r\n",
       "skinparam classbackgroundcolor white\r\n",
       "skinparam shadowing false\r\n",
       "skinparam wrapWidth 300\r\n",
       "hide circle\r\n",
       "\r\n",
       "package \"ActionTest\" as E1  [[psysml:b606a038-0c45-436f-a3a1-beef47fa0e17 ]]  {\r\n",
       "comp def \"S\" as E2  <<(T,blue) attribute  def>> [[psysml:f9329402-d9ed-482b-aa71-2e931e2796d7 ]] {\r\n",
       "}\r\n",
       "comp usage \"a\" as E3  <<(T,blue) action>> [[psysml:69e16b91-de61-4fe2-8ebf-63b040d0687a ]] {\r\n",
       "- - successions - -\r\n",
       " to \r\n",
       " to \r\n",
       " to \r\n",
       " to \r\n",
       "- - transitions - -\r\n",
       "\r\n",
       "\r\n",
       "}\r\n",
       "comp usage \"start: Action \" as E4  <<(T,blue) action>> [[psysml:d8f546a6-9527-45eb-b0f0-0c3fcbb6d2a9 ]] {\r\n",
       "}\r\n",
       "comp usage \"m\" as E5  <<(T,blue) merge node>> [[psysml:ba661374-e1ab-49de-aa21-c62362c65829 ]] {\r\n",
       "}\r\n",
       "comp usage \"<s>noname</s>\" as E6 << accept action>> [[psysml:dcf8e234-4de8-4cb8-a947-17c2138066f0 ]] {\r\n",
       "- - parameters - -\r\n",
       "<b>in</b> payload: S\r\n",
       "<b>in</b> receiver\r\n",
       "}\r\n",
       "comp usage \"<s>noname</s>\" as E7 << send action>> [[psysml:18c3d457-6bb3-4962-a480-0e1b2254a09a ]] {\r\n",
       "- - parameters - -\r\n",
       "<b>in</b> payload=S(); \r\n",
       "<b>in</b> receiver=B(); \r\n",
       "}\r\n",
       "comp usage \"<s>noname</s>\" as E8  <<(T,blue) decision node>> [[psysml:1cf4a57b-2f41-48db-bb2e-4817b665eacc ]] {\r\n",
       "}\r\n",
       "comp def \"B\" as E9  <<(T,blue) action  def>> [[psysml:530e5343-b7af-483f-85a0-93ec425d0302 ]] {\r\n",
       "}\r\n",
       "}\r\n",
       "E3 +.. E4 [[psysml:4e23b20a-a36f-46ec-8d5d-d94d3421b796 ]] \r\n",
       "E3 *- - \"*\"E5 [[psysml:ad14583f-f40d-4d66-bbbd-cfa822b8d260 ]] \r\n",
       "E3 *- - \"*\"E6 [[psysml:02f2d6be-0a1b-48e7-9525-0788d6b31587 ]] \r\n",
       "E6 o- - E2 [[psysml:415ec969-1049-4ff8-b1f4-3b78a625bc7d ]] \r\n",
       "E6 o- - E2 [[psysml:415ec969-1049-4ff8-b1f4-3b78a625bc7d ]] \r\n",
       "E3 *- - \"*\"E7 [[psysml:6b163638-00d9-4d11-a021-492b992d4a3f ]] \r\n",
       "E3 *- - E8 [[psysml:e0686d6c-32a7-4788-b0ea-8926b68cc818 ]] \r\n",
       "@enduml\r\n",
       "\n",
       "PlantUML version 1.2020.13(Sat Jun 13 12:26:38 UTC 2020)\n",
       "(EPL source distribution)\n",
       "Java Runtime: OpenJDK Runtime Environment\n",
       "JVM: OpenJDK 64-Bit Server VM\n",
       "Default Encoding: UTF-8\n",
       "Language: en\n",
       "Country: null\n",
       "--></g></svg>"
      ]
     },
     "execution_count": 17,
     "metadata": {},
     "output_type": "execute_result"
    }
   ],
   "source": [
    "%viz --style=\"LR\" --view=\"Tree\" \"ActionTest\""
   ]
  },
  {
   "cell_type": "code",
   "execution_count": 18,
   "id": "8f794b9a",
   "metadata": {
    "execution": {
     "iopub.execute_input": "2021-10-25T08:21:22.807306Z",
     "iopub.status.busy": "2021-10-25T08:21:22.806911Z",
     "iopub.status.idle": "2021-10-25T08:21:22.811404Z",
     "shell.execute_reply": "2021-10-25T08:21:22.811720Z"
    }
   },
   "outputs": [
    {
     "data": {
      "image/svg+xml": [
       "<?xml version=\"1.0\" encoding=\"UTF-8\" standalone=\"no\"?><svg xmlns=\"http://www.w3.org/2000/svg\" xmlns:xlink=\"http://www.w3.org/1999/xlink\" contentScriptType=\"application/ecmascript\" contentStyleType=\"text/css\" height=\"12px\" preserveAspectRatio=\"none\" style=\"width:12px;height:12px;\" version=\"1.1\" viewBox=\"0 0 12 12\" width=\"12px\" zoomAndPan=\"magnify\"><defs/><g><!--MD5=[19d285c9d72a204eba4e2cd117d745e8]\n",
       "@startuml\r\n",
       "left to right direction\r\n",
       "skinparam monochrome true\r\n",
       "skinparam classbackgroundcolor white\r\n",
       "skinparam shadowing false\r\n",
       "skinparam wrapWidth 300\r\n",
       "hide circle\r\n",
       "\r\n",
       "@enduml\r\n",
       "\n",
       "PlantUML version 1.2020.13(Sat Jun 13 12:26:38 UTC 2020)\n",
       "(EPL source distribution)\n",
       "Java Runtime: OpenJDK Runtime Environment\n",
       "JVM: OpenJDK 64-Bit Server VM\n",
       "Default Encoding: UTF-8\n",
       "Language: en\n",
       "Country: null\n",
       "--></g></svg>"
      ]
     },
     "execution_count": 18,
     "metadata": {},
     "output_type": "execute_result"
    }
   ],
   "source": [
    "%viz --style=\"LR\" --view=\"State\" \"ActionTest\""
   ]
  },
  {
   "cell_type": "code",
   "execution_count": 19,
   "id": "b46a4414",
   "metadata": {
    "execution": {
     "iopub.execute_input": "2021-10-25T08:21:22.860965Z",
     "iopub.status.busy": "2021-10-25T08:21:22.860571Z",
     "iopub.status.idle": "2021-10-25T08:21:22.901361Z",
     "shell.execute_reply": "2021-10-25T08:21:22.901674Z"
    }
   },
   "outputs": [
    {
     "data": {
      "image/svg+xml": [
       "<?xml version=\"1.0\" encoding=\"UTF-8\" standalone=\"no\"?><svg xmlns=\"http://www.w3.org/2000/svg\" xmlns:xlink=\"http://www.w3.org/1999/xlink\" contentScriptType=\"application/ecmascript\" contentStyleType=\"text/css\" height=\"375px\" preserveAspectRatio=\"none\" style=\"width:656px;height:375px;\" version=\"1.1\" viewBox=\"0 0 656 375\" width=\"656px\" zoomAndPan=\"magnify\"><defs/><g><!--MD5=[fbc87193dbaf4d95561dea2c320d4a47]\n",
       "cluster E1--><a href=\"psysml:b606a038-0c45-436f-a3a1-beef47fa0e17\" target=\"_top\" title=\"psysml:b606a038-0c45-436f-a3a1-beef47fa0e17\" xlink:actuate=\"onRequest\" xlink:href=\"psysml:b606a038-0c45-436f-a3a1-beef47fa0e17\" xlink:show=\"new\" xlink:title=\"psysml:b606a038-0c45-436f-a3a1-beef47fa0e17\" xlink:type=\"simple\"><polygon fill=\"#FFFFFF\" points=\"16,6,96,6,103,28.2969,634,28.2969,634,363,16,363,16,6\" style=\"stroke: #000000; stroke-width: 1.5;\"/><line style=\"stroke: #000000; stroke-width: 1.5;\" x1=\"16\" x2=\"103\" y1=\"28.2969\" y2=\"28.2969\"/><text fill=\"#000000\" font-family=\"sans-serif\" font-size=\"14\" font-weight=\"bold\" lengthAdjust=\"spacingAndGlyphs\" textLength=\"74\" x=\"20\" y=\"20.9951\">ActionTest</text></a><!--MD5=[d5e69f78d87373223dbae638b30a9c99]\n",
       "cluster E3--><a href=\"psysml:69e16b91-de61-4fe2-8ebf-63b040d0687a\" target=\"_top\" title=\"psysml:69e16b91-de61-4fe2-8ebf-63b040d0687a\" xlink:actuate=\"onRequest\" xlink:href=\"psysml:69e16b91-de61-4fe2-8ebf-63b040d0687a\" xlink:show=\"new\" xlink:title=\"psysml:69e16b91-de61-4fe2-8ebf-63b040d0687a\" xlink:type=\"simple\"><rect fill=\"#FFFFFF\" height=\"160\" id=\"E3\" rx=\"10\" ry=\"10\" style=\"stroke: #383838; stroke-width: 1.5;\" width=\"552\" x=\"58\" y=\"49\"/><rect fill=\"#F8F8F8\" height=\"37.9375\" rx=\"10\" ry=\"10\" style=\"stroke: #F8F8F8; stroke-width: 1.5;\" width=\"552\" x=\"58\" y=\"49\"/><rect fill=\"#F8F8F8\" height=\"10\" style=\"stroke: #F8F8F8; stroke-width: 1.5;\" width=\"552\" x=\"58\" y=\"76.9375\"/><rect fill=\"none\" height=\"160\" id=\"E3\" rx=\"10\" ry=\"10\" style=\"stroke: #383838; stroke-width: 1.5;\" width=\"552\" x=\"58\" y=\"49\"/><text fill=\"#000000\" font-family=\"sans-serif\" font-size=\"12\" font-style=\"italic\" lengthAdjust=\"spacingAndGlyphs\" textLength=\"53\" x=\"307.5\" y=\"65.1387\">«action»</text><text fill=\"#000000\" font-family=\"sans-serif\" font-size=\"12\" lengthAdjust=\"spacingAndGlyphs\" textLength=\"8\" x=\"330\" y=\"79.1074\">a</text><line style=\"stroke: #383838; stroke-width: 1.0;\" x1=\"58\" x2=\"610\" y1=\"86.9375\" y2=\"86.9375\"/></a><g id=\"E1.E2\"><a href=\"psysml:f9329402-d9ed-482b-aa71-2e931e2796d7\" target=\"_top\" title=\"psysml:f9329402-d9ed-482b-aa71-2e931e2796d7\" xlink:actuate=\"onRequest\" xlink:href=\"psysml:f9329402-d9ed-482b-aa71-2e931e2796d7\" xlink:show=\"new\" xlink:title=\"psysml:f9329402-d9ed-482b-aa71-2e931e2796d7\" xlink:type=\"simple\"><rect fill=\"#FFFFFF\" height=\"42.9375\" id=\"E2\" style=\"stroke: #383838; stroke-width: 1.5;\" width=\"104\" x=\"32\" y=\"225.5\"/><rect fill=\"#F8F8F8\" height=\"37.9375\" style=\"stroke: #383838; stroke-width: 1.5;\" width=\"104\" x=\"32\" y=\"225.5\"/><text fill=\"#000000\" font-family=\"sans-serif\" font-size=\"12\" font-style=\"italic\" lengthAdjust=\"spacingAndGlyphs\" textLength=\"97\" x=\"35.5\" y=\"241.6387\">«attribute  def»</text><text fill=\"#000000\" font-family=\"sans-serif\" font-size=\"12\" lengthAdjust=\"spacingAndGlyphs\" textLength=\"8\" x=\"80\" y=\"255.6074\">S</text></a></g><polygon fill=\"#F8F8F8\" points=\"165,114,177,126,165,138,153,126,165,114\" style=\"stroke: #383838; stroke-width: 1.5;\"/><!--MD5=[21dd76c19d33815960c0e92fef8f0eef]\n",
       "entity E5--><a href=\"psysml:dcf8e234-4de8-4cb8-a947-17c2138066f0\" target=\"_top\" title=\"psysml:dcf8e234-4de8-4cb8-a947-17c2138066f0\" xlink:actuate=\"onRequest\" xlink:href=\"psysml:dcf8e234-4de8-4cb8-a947-17c2138066f0\" xlink:show=\"new\" xlink:title=\"psysml:dcf8e234-4de8-4cb8-a947-17c2138066f0\" xlink:type=\"simple\"><polygon fill=\"#F8F8F8\" points=\"194,137.5,194,192.0938,334,192.0938,314,164.7969,334,137.5\" style=\"stroke: #000000; stroke-width: 1.5;\"/><text fill=\"#000000\" font-family=\"sans-serif\" font-size=\"14\" font-style=\"italic\" lengthAdjust=\"spacingAndGlyphs\" textLength=\"111\" x=\"201\" y=\"160.4951\">«accept action»</text><text fill=\"#000000\" font-family=\"sans-serif\" font-size=\"14\" lengthAdjust=\"spacingAndGlyphs\" textLength=\"9\" x=\"252\" y=\"177.792\">S</text></a><!--MD5=[24d87cdf3002d433f401b2a2aa9f9f65]\n",
       "entity E6--><a href=\"psysml:18c3d457-6bb3-4962-a480-0e1b2254a09a\" target=\"_top\" title=\"psysml:18c3d457-6bb3-4962-a480-0e1b2254a09a\" xlink:actuate=\"onRequest\" xlink:href=\"psysml:18c3d457-6bb3-4962-a480-0e1b2254a09a\" xlink:show=\"new\" xlink:title=\"psysml:18c3d457-6bb3-4962-a480-0e1b2254a09a\" xlink:type=\"simple\"><polygon fill=\"#F8F8F8\" points=\"388,137.5,388,192.0938,496,192.0938,516,164.7969,496,137.5\" style=\"stroke: #000000; stroke-width: 1.5;\"/><text fill=\"#000000\" font-family=\"sans-serif\" font-size=\"14\" font-style=\"italic\" lengthAdjust=\"spacingAndGlyphs\" textLength=\"99\" x=\"395\" y=\"160.4951\">«send action»</text><text fill=\"#000000\" font-family=\"sans-serif\" font-size=\"14\" lengthAdjust=\"spacingAndGlyphs\" textLength=\"65\" x=\"412\" y=\"177.792\">S() to  B()</text></a><polygon fill=\"#F8F8F8\" points=\"545,114,557,126,545,138,533,126,545,114\" style=\"stroke: #383838; stroke-width: 1.5;\"/><ellipse cx=\"84\" cy=\"126\" fill=\"#000000\" rx=\"10\" ry=\"10\" style=\"stroke: none; stroke-width: 1.0;\"/><ellipse cx=\"584\" cy=\"126\" fill=\"none\" rx=\"10\" ry=\"10\" style=\"stroke: #000000; stroke-width: 1.0;\"/><ellipse cx=\"584.5\" cy=\"126.5\" fill=\"#000000\" rx=\"6\" ry=\"6\" style=\"stroke: none; stroke-width: 1.0;\"/><g id=\"E1.E8\"><a href=\"psysml:530e5343-b7af-483f-85a0-93ec425d0302\" target=\"_top\" title=\"psysml:530e5343-b7af-483f-85a0-93ec425d0302\" xlink:actuate=\"onRequest\" xlink:href=\"psysml:530e5343-b7af-483f-85a0-93ec425d0302\" xlink:show=\"new\" xlink:title=\"psysml:530e5343-b7af-483f-85a0-93ec425d0302\" xlink:type=\"simple\"><rect fill=\"#FFFFFF\" height=\"42.9375\" id=\"E8\" style=\"stroke: #383838; stroke-width: 1.5;\" width=\"88\" x=\"40\" y=\"303.5\"/><rect fill=\"#F8F8F8\" height=\"37.9375\" style=\"stroke: #383838; stroke-width: 1.5;\" width=\"88\" x=\"40\" y=\"303.5\"/><text fill=\"#000000\" font-family=\"sans-serif\" font-size=\"12\" font-style=\"italic\" lengthAdjust=\"spacingAndGlyphs\" textLength=\"81\" x=\"43.5\" y=\"319.6387\">«action  def»</text><text fill=\"#000000\" font-family=\"sans-serif\" font-size=\"12\" lengthAdjust=\"spacingAndGlyphs\" textLength=\"8\" x=\"80\" y=\"333.6074\">B</text></a></g><!--MD5=[f47e10efcf9a6752d55dae986d790ed9]\n",
       "link *start*E3 to E4--><a href=\"psysml:8ec85343-59fa-499c-a77c-a2bbf8c30a9c\" target=\"_top\" title=\"psysml:8ec85343-59fa-499c-a77c-a2bbf8c30a9c\" xlink:actuate=\"onRequest\" xlink:href=\"psysml:8ec85343-59fa-499c-a77c-a2bbf8c30a9c\" xlink:show=\"new\" xlink:title=\"psysml:8ec85343-59fa-499c-a77c-a2bbf8c30a9c\" xlink:type=\"simple\"><path d=\"M94.06,126 C107.1,126 131.36,126 147.59,126 \" fill=\"none\" id=\"*start*E3-&gt;E4\" style=\"stroke: #383838; stroke-width: 1.0;\"/><polygon fill=\"#383838\" points=\"152.76,126,143.76,122,147.76,126,143.76,130,152.76,126\" style=\"stroke: #383838; stroke-width: 1.0;\"/></a><!--MD5=[d19f2eb34364d71b67042106d92f540b]\n",
       "link E7 to *end*E3--><a href=\"psysml:0d9f4e26-bf93-4aba-a8c6-6dafeae60007\" target=\"_top\" title=\"psysml:0d9f4e26-bf93-4aba-a8c6-6dafeae60007\" xlink:actuate=\"onRequest\" xlink:href=\"psysml:0d9f4e26-bf93-4aba-a8c6-6dafeae60007\" xlink:show=\"new\" xlink:title=\"psysml:0d9f4e26-bf93-4aba-a8c6-6dafeae60007\" xlink:type=\"simple\"><path d=\"M557.3,126 C560.84,126 564.8,126 568.53,126 \" fill=\"none\" id=\"E7-&gt;*end*E3\" style=\"stroke: #383838; stroke-width: 1.0;\"/><polygon fill=\"#383838\" points=\"573.75,126,564.75,122,568.75,126,564.75,130,573.75,126\" style=\"stroke: #383838; stroke-width: 1.0;\"/></a><!--MD5=[1b7591eae5389033d8d09a9d6721a717]\n",
       "link E4 to E5--><a href=\"psysml:0f743cc2-6e19-41e4-aad8-79cb567e3158\" target=\"_top\" title=\"psysml:0f743cc2-6e19-41e4-aad8-79cb567e3158\" xlink:actuate=\"onRequest\" xlink:href=\"psysml:0f743cc2-6e19-41e4-aad8-79cb567e3158\" xlink:show=\"new\" xlink:title=\"psysml:0f743cc2-6e19-41e4-aad8-79cb567e3158\" xlink:type=\"simple\"><path d=\"M173.94,129.19 C178.05,130.84 183.5,133.04 189.7,135.53 \" fill=\"none\" id=\"E4-&gt;E5\" style=\"stroke: #383838; stroke-width: 1.0;\"/><polygon fill=\"#383838\" points=\"194.57,137.49,187.7068,130.4263,189.9296,135.6281,184.7278,137.8509,194.57,137.49\" style=\"stroke: #383838; stroke-width: 1.0;\"/><text fill=\"#000000\" font-family=\"sans-serif\" font-size=\"13\" lengthAdjust=\"spacingAndGlyphs\" textLength=\"7\" x=\"179.1375\" y=\"130.54\">*</text></a><!--MD5=[9120cf2e5df3bff93db8f754bbbc09b4]\n",
       "link E5 to E6--><a href=\"psysml:3404b4e6-fa1c-4cf0-a87f-a7f8eafbc3bc\" target=\"_top\" title=\"psysml:3404b4e6-fa1c-4cf0-a87f-a7f8eafbc3bc\" xlink:actuate=\"onRequest\" xlink:href=\"psysml:3404b4e6-fa1c-4cf0-a87f-a7f8eafbc3bc\" xlink:show=\"new\" xlink:title=\"psysml:3404b4e6-fa1c-4cf0-a87f-a7f8eafbc3bc\" xlink:type=\"simple\"><path d=\"M334.26,165 C350.03,165 366.79,165 382.53,165 \" fill=\"none\" id=\"E5-&gt;E6\" style=\"stroke: #383838; stroke-width: 1.0;\"/><polygon fill=\"#383838\" points=\"387.83,165,378.83,161,382.83,165,378.83,169,387.83,165\" style=\"stroke: #383838; stroke-width: 1.0;\"/><text fill=\"#000000\" font-family=\"sans-serif\" font-size=\"13\" lengthAdjust=\"spacingAndGlyphs\" textLength=\"7\" x=\"373.0057\" y=\"177.9652\">*</text></a><!--MD5=[02c70b7c851c11e3980e4e90450dc5dd]\n",
       "link E6 to E7--><a href=\"psysml:a56f0975-9bdd-4db4-ac34-32a8d14536cf\" target=\"_top\" title=\"psysml:a56f0975-9bdd-4db4-ac34-32a8d14536cf\" xlink:actuate=\"onRequest\" xlink:href=\"psysml:a56f0975-9bdd-4db4-ac34-32a8d14536cf\" xlink:show=\"new\" xlink:title=\"psysml:a56f0975-9bdd-4db4-ac34-32a8d14536cf\" xlink:type=\"simple\"><path d=\"M516.2,137.91 C521.78,135.52 526.94,133.31 531.26,131.46 \" fill=\"none\" id=\"E6-&gt;E7\" style=\"stroke: #383838; stroke-width: 1.0;\"/><polygon fill=\"#383838\" points=\"535.92,129.46,526.072,129.3287,531.3243,131.4296,529.2234,136.6819,535.92,129.46\" style=\"stroke: #383838; stroke-width: 1.0;\"/><text fill=\"#000000\" font-family=\"sans-serif\" font-size=\"13\" lengthAdjust=\"spacingAndGlyphs\" textLength=\"7\" x=\"517.9125\" y=\"151.175\">*</text></a><!--MD5=[6bdd27f9905911a7e892a3dc65cf6b7c]\n",
       "link E7 to E4--><a href=\"psysml:2a79c4d0-9744-4107-95b5-d9c642bb083b\" target=\"_top\" title=\"psysml:2a79c4d0-9744-4107-95b5-d9c642bb083b\" xlink:actuate=\"onRequest\" xlink:href=\"psysml:2a79c4d0-9744-4107-95b5-d9c642bb083b\" xlink:show=\"new\" xlink:title=\"psysml:2a79c4d0-9744-4107-95b5-d9c642bb083b\" xlink:type=\"simple\"><path d=\"M535.25,123.63 C529.77,122.26 522.53,120.69 516,120 C373.69,104.92 336.31,104.92 194,120 C189.31,120.5 184.25,121.45 179.74,122.45 \" fill=\"none\" id=\"E7-&gt;E4\" style=\"stroke: #383838; stroke-width: 1.0;\"/><polygon fill=\"#383838\" points=\"174.75,123.63,184.4269,125.4623,179.6171,122.4848,182.5946,117.675,174.75,123.63\" style=\"stroke: #383838; stroke-width: 1.0;\"/><text fill=\"#000000\" font-family=\"sans-serif\" font-size=\"13\" lengthAdjust=\"spacingAndGlyphs\" textLength=\"36\" x=\"343\" y=\"105.0669\">[true]</text><text fill=\"#000000\" font-family=\"sans-serif\" font-size=\"13\" lengthAdjust=\"spacingAndGlyphs\" textLength=\"7\" x=\"184.8531\" y=\"113.2217\">*</text></a><!--MD5=[1f72ce45e23d6ce135753f1adf32b464]\n",
       "@startuml\r\n",
       "skinparam ranksep 10\r\n",
       "skinparam rectangle {\r\n",
       " backgroundColor<<block>> LightGreen\r\n",
       "}\r\n",
       "left to right direction\r\n",
       "skinparam monochrome true\r\n",
       "skinparam classbackgroundcolor white\r\n",
       "skinparam shadowing false\r\n",
       "skinparam wrapWidth 300\r\n",
       "hide circle\r\n",
       "\r\n",
       "package \"ActionTest\" as E1  [[psysml:b606a038-0c45-436f-a3a1-beef47fa0e17 ]]  {\r\n",
       "def \"S\" as E2  <<(T,blue) attribute  def>> [[psysml:f9329402-d9ed-482b-aa71-2e931e2796d7 ]] \r\n",
       "rec usage \"a\" as E3  <<(T,blue) action>> [[psysml:69e16b91-de61-4fe2-8ebf-63b040d0687a ]] {\r\n",
       "choice \"m\" as E4  [[psysml:ba661374-e1ab-49de-aa21-c62362c65829 ]] \r\n",
       "accept \" S\" as E5 << accept action>> [[psysml:dcf8e234-4de8-4cb8-a947-17c2138066f0 ]] \r\n",
       "send \" S() to  B()\" as E6 << send action>> [[psysml:18c3d457-6bb3-4962-a480-0e1b2254a09a ]] \r\n",
       "choice \"<s>noname</s>\" as E7  [[psysml:1cf4a57b-2f41-48db-bb2e-4817b665eacc ]] \r\n",
       "[*] - -> E4 [[psysml:8ec85343-59fa-499c-a77c-a2bbf8c30a9c ]] \r\n",
       "E7  - -> [*] [[psysml:0d9f4e26-bf93-4aba-a8c6-6dafeae60007 ]] \r\n",
       "}\r\n",
       "\r\n",
       "rec def \"B\" as E8  <<(T,blue) action  def>> [[psysml:530e5343-b7af-483f-85a0-93ec425d0302 ]] {\r\n",
       "}\r\n",
       "\r\n",
       "}\r\n",
       "E4 - -> \"*\"E5 [[psysml:0f743cc2-6e19-41e4-aad8-79cb567e3158 ]] \r\n",
       "E5 - -> \"*\"E6 [[psysml:3404b4e6-fa1c-4cf0-a87f-a7f8eafbc3bc ]] \r\n",
       "E6 - -> \"*\"E7 [[psysml:a56f0975-9bdd-4db4-ac34-32a8d14536cf ]] \r\n",
       "E7  - -> \"*\"E4 [[psysml:2a79c4d0-9744-4107-95b5-d9c642bb083b ]] : [true]\r\n",
       "@enduml\r\n",
       "\n",
       "PlantUML version 1.2020.13(Sat Jun 13 12:26:38 UTC 2020)\n",
       "(EPL source distribution)\n",
       "Java Runtime: OpenJDK Runtime Environment\n",
       "JVM: OpenJDK 64-Bit Server VM\n",
       "Default Encoding: UTF-8\n",
       "Language: en\n",
       "Country: null\n",
       "--></g></svg>"
      ]
     },
     "execution_count": 19,
     "metadata": {},
     "output_type": "execute_result"
    }
   ],
   "source": [
    "%viz --style=\"LR\" --view=\"Interconnection\" \"ActionTest\""
   ]
  },
  {
   "cell_type": "code",
   "execution_count": 20,
   "id": "6f17b126",
   "metadata": {
    "execution": {
     "iopub.execute_input": "2021-10-25T08:21:22.951340Z",
     "iopub.status.busy": "2021-10-25T08:21:22.950946Z",
     "iopub.status.idle": "2021-10-25T08:21:22.996827Z",
     "shell.execute_reply": "2021-10-25T08:21:22.997118Z"
    }
   },
   "outputs": [
    {
     "data": {
      "image/svg+xml": [
       "<?xml version=\"1.0\" encoding=\"UTF-8\" standalone=\"no\"?><svg xmlns=\"http://www.w3.org/2000/svg\" xmlns:xlink=\"http://www.w3.org/1999/xlink\" contentScriptType=\"application/ecmascript\" contentStyleType=\"text/css\" height=\"237px\" preserveAspectRatio=\"none\" style=\"width:581px;height:237px;\" version=\"1.1\" viewBox=\"0 0 581 237\" width=\"581px\" zoomAndPan=\"magnify\"><defs/><g><!--MD5=[fbc87193dbaf4d95561dea2c320d4a47]\n",
       "cluster E1--><a href=\"psysml:69e16b91-de61-4fe2-8ebf-63b040d0687a\" target=\"_top\" title=\"psysml:69e16b91-de61-4fe2-8ebf-63b040d0687a\" xlink:actuate=\"onRequest\" xlink:href=\"psysml:69e16b91-de61-4fe2-8ebf-63b040d0687a\" xlink:show=\"new\" xlink:title=\"psysml:69e16b91-de61-4fe2-8ebf-63b040d0687a\" xlink:type=\"simple\"><rect fill=\"#FFFFFF\" height=\"160\" id=\"E1\" rx=\"10\" ry=\"10\" style=\"stroke: #383838; stroke-width: 1.5;\" width=\"544\" x=\"25\" y=\"7\"/><rect fill=\"#F8F8F8\" height=\"37.9375\" rx=\"10\" ry=\"10\" style=\"stroke: #F8F8F8; stroke-width: 1.5;\" width=\"544\" x=\"25\" y=\"7\"/><rect fill=\"#F8F8F8\" height=\"10\" style=\"stroke: #F8F8F8; stroke-width: 1.5;\" width=\"544\" x=\"25\" y=\"34.9375\"/><rect fill=\"none\" height=\"160\" id=\"E1\" rx=\"10\" ry=\"10\" style=\"stroke: #383838; stroke-width: 1.5;\" width=\"544\" x=\"25\" y=\"7\"/><text fill=\"#000000\" font-family=\"sans-serif\" font-size=\"12\" font-style=\"italic\" lengthAdjust=\"spacingAndGlyphs\" textLength=\"53\" x=\"270.5\" y=\"23.1387\">«action»</text><text fill=\"#000000\" font-family=\"sans-serif\" font-size=\"12\" lengthAdjust=\"spacingAndGlyphs\" textLength=\"8\" x=\"293\" y=\"37.1074\">a</text><line style=\"stroke: #383838; stroke-width: 1.0;\" x1=\"25\" x2=\"569\" y1=\"44.9375\" y2=\"44.9375\"/></a><polygon fill=\"#F8F8F8\" points=\"124,72,136,84,124,96,112,84,124,72\" style=\"stroke: #383838; stroke-width: 1.5;\"/><!--MD5=[a60fb756f580feb9fd8e2cf1329b5c91]\n",
       "entity E3--><a href=\"psysml:dcf8e234-4de8-4cb8-a947-17c2138066f0\" target=\"_top\" title=\"psysml:dcf8e234-4de8-4cb8-a947-17c2138066f0\" xlink:actuate=\"onRequest\" xlink:href=\"psysml:dcf8e234-4de8-4cb8-a947-17c2138066f0\" xlink:show=\"new\" xlink:title=\"psysml:dcf8e234-4de8-4cb8-a947-17c2138066f0\" xlink:type=\"simple\"><polygon fill=\"#F8F8F8\" points=\"153,95.5,153,150.0938,293,150.0938,273,122.7969,293,95.5\" style=\"stroke: #000000; stroke-width: 1.5;\"/><text fill=\"#000000\" font-family=\"sans-serif\" font-size=\"14\" font-style=\"italic\" lengthAdjust=\"spacingAndGlyphs\" textLength=\"111\" x=\"160\" y=\"118.4951\">«accept action»</text><text fill=\"#000000\" font-family=\"sans-serif\" font-size=\"14\" lengthAdjust=\"spacingAndGlyphs\" textLength=\"9\" x=\"211\" y=\"135.792\">S</text></a><!--MD5=[961cefdc15414eaa3e87aec9d17c2188]\n",
       "entity E4--><a href=\"psysml:18c3d457-6bb3-4962-a480-0e1b2254a09a\" target=\"_top\" title=\"psysml:18c3d457-6bb3-4962-a480-0e1b2254a09a\" xlink:actuate=\"onRequest\" xlink:href=\"psysml:18c3d457-6bb3-4962-a480-0e1b2254a09a\" xlink:show=\"new\" xlink:title=\"psysml:18c3d457-6bb3-4962-a480-0e1b2254a09a\" xlink:type=\"simple\"><polygon fill=\"#F8F8F8\" points=\"347,95.5,347,150.0938,455,150.0938,475,122.7969,455,95.5\" style=\"stroke: #000000; stroke-width: 1.5;\"/><text fill=\"#000000\" font-family=\"sans-serif\" font-size=\"14\" font-style=\"italic\" lengthAdjust=\"spacingAndGlyphs\" textLength=\"99\" x=\"354\" y=\"118.4951\">«send action»</text><text fill=\"#000000\" font-family=\"sans-serif\" font-size=\"14\" lengthAdjust=\"spacingAndGlyphs\" textLength=\"65\" x=\"371\" y=\"135.792\">S() to  B()</text></a><polygon fill=\"#F8F8F8\" points=\"504,72,516,84,504,96,492,84,504,72\" style=\"stroke: #383838; stroke-width: 1.5;\"/><ellipse cx=\"51\" cy=\"84\" fill=\"#000000\" rx=\"10\" ry=\"10\" style=\"stroke: none; stroke-width: 1.0;\"/><ellipse cx=\"543\" cy=\"84\" fill=\"none\" rx=\"10\" ry=\"10\" style=\"stroke: #000000; stroke-width: 1.0;\"/><ellipse cx=\"543.5\" cy=\"84.5\" fill=\"#000000\" rx=\"6\" ry=\"6\" style=\"stroke: none; stroke-width: 1.0;\"/><g id=\"E6\"><a href=\"psysml:530e5343-b7af-483f-85a0-93ec425d0302\" target=\"_top\" title=\"psysml:530e5343-b7af-483f-85a0-93ec425d0302\" xlink:actuate=\"onRequest\" xlink:href=\"psysml:530e5343-b7af-483f-85a0-93ec425d0302\" xlink:show=\"new\" xlink:title=\"psysml:530e5343-b7af-483f-85a0-93ec425d0302\" xlink:type=\"simple\"><rect fill=\"#FFFFFF\" height=\"42.9375\" id=\"E6\" style=\"stroke: #383838; stroke-width: 1.5;\" width=\"88\" x=\"7\" y=\"183.5\"/><rect fill=\"#F8F8F8\" height=\"37.9375\" style=\"stroke: #383838; stroke-width: 1.5;\" width=\"88\" x=\"7\" y=\"183.5\"/><text fill=\"#000000\" font-family=\"sans-serif\" font-size=\"12\" font-style=\"italic\" lengthAdjust=\"spacingAndGlyphs\" textLength=\"81\" x=\"10.5\" y=\"199.6387\">«action  def»</text><text fill=\"#000000\" font-family=\"sans-serif\" font-size=\"12\" lengthAdjust=\"spacingAndGlyphs\" textLength=\"8\" x=\"47\" y=\"213.6074\">B</text></a></g><!--MD5=[cff944eb183b832d446717a4e202d613]\n",
       "link *start*E1 to E2--><a href=\"psysml:8ec85343-59fa-499c-a77c-a2bbf8c30a9c\" target=\"_top\" title=\"psysml:8ec85343-59fa-499c-a77c-a2bbf8c30a9c\" xlink:actuate=\"onRequest\" xlink:href=\"psysml:8ec85343-59fa-499c-a77c-a2bbf8c30a9c\" xlink:show=\"new\" xlink:title=\"psysml:8ec85343-59fa-499c-a77c-a2bbf8c30a9c\" xlink:type=\"simple\"><path d=\"M61.28,84 C72.7,84 92.28,84 106.33,84 \" fill=\"none\" id=\"*start*E1-&gt;E2\" style=\"stroke: #383838; stroke-width: 1.0; stroke-dasharray: 7.0,7.0;\"/><polygon fill=\"#383838\" points=\"111.6,84,102.6,80,106.6,84,102.6,88,111.6,84\" style=\"stroke: #383838; stroke-width: 1.0;\"/></a><!--MD5=[7fc47fc0d107820853a137871ad908c8]\n",
       "link E5 to *end*E1--><a href=\"psysml:0d9f4e26-bf93-4aba-a8c6-6dafeae60007\" target=\"_top\" title=\"psysml:0d9f4e26-bf93-4aba-a8c6-6dafeae60007\" xlink:actuate=\"onRequest\" xlink:href=\"psysml:0d9f4e26-bf93-4aba-a8c6-6dafeae60007\" xlink:show=\"new\" xlink:title=\"psysml:0d9f4e26-bf93-4aba-a8c6-6dafeae60007\" xlink:type=\"simple\"><path d=\"M516.3,84 C519.84,84 523.8,84 527.53,84 \" fill=\"none\" id=\"E5-&gt;*end*E1\" style=\"stroke: #383838; stroke-width: 1.0; stroke-dasharray: 7.0,7.0;\"/><polygon fill=\"#383838\" points=\"532.75,84,523.75,80,527.75,84,523.75,88,532.75,84\" style=\"stroke: #383838; stroke-width: 1.0;\"/></a><!--MD5=[2720a5a1f2c3fca2055b230370638851]\n",
       "link E2 to E3--><a href=\"psysml:0f743cc2-6e19-41e4-aad8-79cb567e3158\" target=\"_top\" title=\"psysml:0f743cc2-6e19-41e4-aad8-79cb567e3158\" xlink:actuate=\"onRequest\" xlink:href=\"psysml:0f743cc2-6e19-41e4-aad8-79cb567e3158\" xlink:show=\"new\" xlink:title=\"psysml:0f743cc2-6e19-41e4-aad8-79cb567e3158\" xlink:type=\"simple\"><path d=\"M132.94,87.19 C137.05,88.84 142.5,91.04 148.7,93.53 \" fill=\"none\" id=\"E2-&gt;E3\" style=\"stroke: #383838; stroke-width: 1.0; stroke-dasharray: 7.0,7.0;\"/><polygon fill=\"#383838\" points=\"153.57,95.49,146.7068,88.4263,148.9296,93.6281,143.7278,95.8509,153.57,95.49\" style=\"stroke: #383838; stroke-width: 1.0;\"/></a><!--MD5=[af87c684e3b0d8be13c1a698a818ef1e]\n",
       "link E3 to E4--><a href=\"psysml:3404b4e6-fa1c-4cf0-a87f-a7f8eafbc3bc\" target=\"_top\" title=\"psysml:3404b4e6-fa1c-4cf0-a87f-a7f8eafbc3bc\" xlink:actuate=\"onRequest\" xlink:href=\"psysml:3404b4e6-fa1c-4cf0-a87f-a7f8eafbc3bc\" xlink:show=\"new\" xlink:title=\"psysml:3404b4e6-fa1c-4cf0-a87f-a7f8eafbc3bc\" xlink:type=\"simple\"><path d=\"M293.26,123 C309.03,123 325.79,123 341.53,123 \" fill=\"none\" id=\"E3-&gt;E4\" style=\"stroke: #383838; stroke-width: 1.0; stroke-dasharray: 7.0,7.0;\"/><polygon fill=\"#383838\" points=\"346.83,123,337.83,119,341.83,123,337.83,127,346.83,123\" style=\"stroke: #383838; stroke-width: 1.0;\"/></a><!--MD5=[1b7591eae5389033d8d09a9d6721a717]\n",
       "link E4 to E5--><a href=\"psysml:a56f0975-9bdd-4db4-ac34-32a8d14536cf\" target=\"_top\" title=\"psysml:a56f0975-9bdd-4db4-ac34-32a8d14536cf\" xlink:actuate=\"onRequest\" xlink:href=\"psysml:a56f0975-9bdd-4db4-ac34-32a8d14536cf\" xlink:show=\"new\" xlink:title=\"psysml:a56f0975-9bdd-4db4-ac34-32a8d14536cf\" xlink:type=\"simple\"><path d=\"M475.2,95.91 C480.78,93.52 485.94,91.31 490.26,89.46 \" fill=\"none\" id=\"E4-&gt;E5\" style=\"stroke: #383838; stroke-width: 1.0; stroke-dasharray: 7.0,7.0;\"/><polygon fill=\"#383838\" points=\"494.92,87.46,485.072,87.3287,490.3243,89.4296,488.2234,94.6819,494.92,87.46\" style=\"stroke: #383838; stroke-width: 1.0;\"/></a><!--MD5=[15ebcb19ae302d9b601edb458606d402]\n",
       "link E5 to E2--><a href=\"psysml:2a79c4d0-9744-4107-95b5-d9c642bb083b\" target=\"_top\" title=\"psysml:2a79c4d0-9744-4107-95b5-d9c642bb083b\" xlink:actuate=\"onRequest\" xlink:href=\"psysml:2a79c4d0-9744-4107-95b5-d9c642bb083b\" xlink:show=\"new\" xlink:title=\"psysml:2a79c4d0-9744-4107-95b5-d9c642bb083b\" xlink:type=\"simple\"><path d=\"M494.25,81.63 C488.77,80.26 481.53,78.69 475,78 C332.69,62.92 295.31,62.92 153,78 C148.31,78.5 143.25,79.45 138.74,80.45 \" fill=\"none\" id=\"E5-&gt;E2\" style=\"stroke: #383838; stroke-width: 1.0; stroke-dasharray: 7.0,7.0;\"/><polygon fill=\"#383838\" points=\"133.75,81.63,143.4269,83.4623,138.6171,80.4848,141.5946,75.675,133.75,81.63\" style=\"stroke: #383838; stroke-width: 1.0;\"/><text fill=\"#000000\" font-family=\"sans-serif\" font-size=\"13\" lengthAdjust=\"spacingAndGlyphs\" textLength=\"36\" x=\"302\" y=\"63.0669\">[true]</text></a><!--MD5=[af310cb0d433d49b75e1db5d40c1169f]\n",
       "@startuml\r\n",
       "skinparam ranksep 8\r\n",
       "left to right direction\r\n",
       "skinparam monochrome true\r\n",
       "skinparam classbackgroundcolor white\r\n",
       "skinparam shadowing false\r\n",
       "skinparam wrapWidth 300\r\n",
       "hide circle\r\n",
       "\r\n",
       "rec usage \"a\" as E1  <<(T,blue) action>> [[psysml:69e16b91-de61-4fe2-8ebf-63b040d0687a ]] {\r\n",
       "choice \"m\" as E2  [[psysml:ba661374-e1ab-49de-aa21-c62362c65829 ]] \r\n",
       "accept \" S\" as E3 << accept action>> [[psysml:dcf8e234-4de8-4cb8-a947-17c2138066f0 ]] \r\n",
       "send \" S() to  B()\" as E4 << send action>> [[psysml:18c3d457-6bb3-4962-a480-0e1b2254a09a ]] \r\n",
       "choice \"<s>noname</s>\" as E5  [[psysml:1cf4a57b-2f41-48db-bb2e-4817b665eacc ]] \r\n",
       "[*] ..> E2 [[psysml:8ec85343-59fa-499c-a77c-a2bbf8c30a9c ]] \r\n",
       "E5 ..> [*] [[psysml:0d9f4e26-bf93-4aba-a8c6-6dafeae60007 ]] \r\n",
       "}\r\n",
       "\r\n",
       "E2 ..> E3 [[psysml:0f743cc2-6e19-41e4-aad8-79cb567e3158 ]] \r\n",
       "E3 ..> E4 [[psysml:3404b4e6-fa1c-4cf0-a87f-a7f8eafbc3bc ]] \r\n",
       "E4 ..> E5 [[psysml:a56f0975-9bdd-4db4-ac34-32a8d14536cf ]] \r\n",
       "E5 ..> E2 [[psysml:2a79c4d0-9744-4107-95b5-d9c642bb083b ]] : [true]\r\n",
       "rec def \"B\" as E6  <<(T,blue) action  def>> [[psysml:530e5343-b7af-483f-85a0-93ec425d0302 ]] {\r\n",
       "}\r\n",
       "\r\n",
       "@enduml\r\n",
       "\n",
       "PlantUML version 1.2020.13(Sat Jun 13 12:26:38 UTC 2020)\n",
       "(EPL source distribution)\n",
       "Java Runtime: OpenJDK Runtime Environment\n",
       "JVM: OpenJDK 64-Bit Server VM\n",
       "Default Encoding: UTF-8\n",
       "Language: en\n",
       "Country: null\n",
       "--></g></svg>"
      ]
     },
     "execution_count": 20,
     "metadata": {},
     "output_type": "execute_result"
    }
   ],
   "source": [
    "%viz --style=\"LR\" --view=\"Action\" \"ActionTest\""
   ]
  },
  {
   "cell_type": "code",
   "execution_count": 21,
   "id": "ba357c19",
   "metadata": {
    "execution": {
     "iopub.execute_input": "2021-10-25T08:21:23.046850Z",
     "iopub.status.busy": "2021-10-25T08:21:23.046448Z",
     "iopub.status.idle": "2021-10-25T08:21:23.053607Z",
     "shell.execute_reply": "2021-10-25T08:21:23.053920Z"
    }
   },
   "outputs": [
    {
     "data": {
      "image/svg+xml": [
       "<?xml version=\"1.0\" encoding=\"UTF-8\" standalone=\"no\"?><svg xmlns=\"http://www.w3.org/2000/svg\" xmlns:xlink=\"http://www.w3.org/1999/xlink\" contentScriptType=\"application/ecmascript\" contentStyleType=\"text/css\" height=\"12px\" preserveAspectRatio=\"none\" style=\"width:12px;height:12px;\" version=\"1.1\" viewBox=\"0 0 12 12\" width=\"12px\" zoomAndPan=\"magnify\"><defs/><g><!--MD5=[238c11ea2002f03115ad6b49a457d50e]\n",
       "@startuml\r\n",
       "skinparam roundcorner 20\r\n",
       "skinparam BoxPadding 20\r\n",
       "skinparam SequenceBoxBackgroundColor #white\r\n",
       "skinparam style strictuml\r\n",
       "skinparam maxMessageSize 100\r\n",
       "left to right direction\r\n",
       "skinparam monochrome true\r\n",
       "skinparam classbackgroundcolor white\r\n",
       "skinparam shadowing false\r\n",
       "skinparam wrapWidth 300\r\n",
       "hide circle\r\n",
       "\r\n",
       "@enduml\r\n",
       "\n",
       "PlantUML version 1.2020.13(Sat Jun 13 12:26:38 UTC 2020)\n",
       "(EPL source distribution)\n",
       "Java Runtime: OpenJDK Runtime Environment\n",
       "JVM: OpenJDK 64-Bit Server VM\n",
       "Default Encoding: UTF-8\n",
       "Language: en\n",
       "Country: null\n",
       "--></g></svg>"
      ]
     },
     "execution_count": 21,
     "metadata": {},
     "output_type": "execute_result"
    }
   ],
   "source": [
    "%viz --style=\"LR\" --view=\"Sequence\" \"ActionTest\""
   ]
  },
  {
   "cell_type": "code",
   "execution_count": 22,
   "id": "35583ee9",
   "metadata": {
    "execution": {
     "iopub.execute_input": "2021-10-25T08:21:23.103656Z",
     "iopub.status.busy": "2021-10-25T08:21:23.103258Z",
     "iopub.status.idle": "2021-10-25T08:21:23.162120Z",
     "shell.execute_reply": "2021-10-25T08:21:23.161770Z"
    }
   },
   "outputs": [
    {
     "data": {
      "image/svg+xml": [
       "<?xml version=\"1.0\" encoding=\"UTF-8\" standalone=\"no\"?><svg xmlns=\"http://www.w3.org/2000/svg\" xmlns:xlink=\"http://www.w3.org/1999/xlink\" contentScriptType=\"application/ecmascript\" contentStyleType=\"text/css\" height=\"378px\" preserveAspectRatio=\"none\" style=\"width:871px;height:378px;\" version=\"1.1\" viewBox=\"0 0 871 378\" width=\"871px\" zoomAndPan=\"magnify\"><defs/><g><!--MD5=[fbc87193dbaf4d95561dea2c320d4a47]\n",
       "cluster E1--><a href=\"psysml:b606a038-0c45-436f-a3a1-beef47fa0e17\" target=\"_top\" title=\"psysml:b606a038-0c45-436f-a3a1-beef47fa0e17\" xlink:actuate=\"onRequest\" xlink:href=\"psysml:b606a038-0c45-436f-a3a1-beef47fa0e17\" xlink:show=\"new\" xlink:title=\"psysml:b606a038-0c45-436f-a3a1-beef47fa0e17\" xlink:type=\"simple\"><polygon fill=\"#FFFFFF\" points=\"16,6,96,6,103,28.2969,849,28.2969,849,366,16,366,16,6\" style=\"stroke: #000000; stroke-width: 1.5;\"/><line style=\"stroke: #000000; stroke-width: 1.5;\" x1=\"16\" x2=\"103\" y1=\"28.2969\" y2=\"28.2969\"/><text fill=\"#000000\" font-family=\"sans-serif\" font-size=\"14\" font-weight=\"bold\" lengthAdjust=\"spacingAndGlyphs\" textLength=\"74\" x=\"20\" y=\"20.9951\">ActionTest</text></a><!--MD5=[d5e69f78d87373223dbae638b30a9c99]\n",
       "cluster E3--><a href=\"psysml:69e16b91-de61-4fe2-8ebf-63b040d0687a\" target=\"_top\" title=\"psysml:69e16b91-de61-4fe2-8ebf-63b040d0687a\" xlink:actuate=\"onRequest\" xlink:href=\"psysml:69e16b91-de61-4fe2-8ebf-63b040d0687a\" xlink:show=\"new\" xlink:title=\"psysml:69e16b91-de61-4fe2-8ebf-63b040d0687a\" xlink:type=\"simple\"><rect fill=\"#FFFFFF\" height=\"160\" id=\"E3\" rx=\"10\" ry=\"10\" style=\"stroke: #383838; stroke-width: 1.5;\" width=\"769.5\" x=\"55.5\" y=\"49\"/><rect fill=\"#F8F8F8\" height=\"37.9375\" rx=\"10\" ry=\"10\" style=\"stroke: #F8F8F8; stroke-width: 1.5;\" width=\"769.5\" x=\"55.5\" y=\"49\"/><rect fill=\"#F8F8F8\" height=\"10\" style=\"stroke: #F8F8F8; stroke-width: 1.5;\" width=\"769.5\" x=\"55.5\" y=\"76.9375\"/><rect fill=\"none\" height=\"160\" id=\"E3\" rx=\"10\" ry=\"10\" style=\"stroke: #383838; stroke-width: 1.5;\" width=\"769.5\" x=\"55.5\" y=\"49\"/><text fill=\"#000000\" font-family=\"sans-serif\" font-size=\"12\" font-style=\"italic\" lengthAdjust=\"spacingAndGlyphs\" textLength=\"53\" x=\"413.75\" y=\"65.1387\">«action»</text><text fill=\"#000000\" font-family=\"sans-serif\" font-size=\"12\" lengthAdjust=\"spacingAndGlyphs\" textLength=\"8\" x=\"436.25\" y=\"79.1074\">a</text><line style=\"stroke: #383838; stroke-width: 1.0;\" x1=\"55.5\" x2=\"825\" y1=\"86.9375\" y2=\"86.9375\"/></a><!--MD5=[b4997ac47864f28c2f74865a473b2911]\n",
       "class E2--><a href=\"psysml:f9329402-d9ed-482b-aa71-2e931e2796d7\" target=\"_top\" title=\"psysml:f9329402-d9ed-482b-aa71-2e931e2796d7\" xlink:actuate=\"onRequest\" xlink:href=\"psysml:f9329402-d9ed-482b-aa71-2e931e2796d7\" xlink:show=\"new\" xlink:title=\"psysml:f9329402-d9ed-482b-aa71-2e931e2796d7\" xlink:type=\"simple\"><rect fill=\"#FFFFFF\" height=\"45.9375\" id=\"E2\" style=\"stroke: #383838; stroke-width: 1.5;\" width=\"99\" x=\"32\" y=\"225\"/><text fill=\"#000000\" font-family=\"sans-serif\" font-size=\"12\" font-style=\"italic\" lengthAdjust=\"spacingAndGlyphs\" textLength=\"97\" x=\"33\" y=\"241.1387\">«attribute  def»</text><text fill=\"#000000\" font-family=\"sans-serif\" font-size=\"12\" lengthAdjust=\"spacingAndGlyphs\" textLength=\"8\" x=\"77.5\" y=\"255.1074\">S</text><line style=\"stroke: #383838; stroke-width: 1.5;\" x1=\"33\" x2=\"130\" y1=\"262.9375\" y2=\"262.9375\"/></a><polygon fill=\"#F8F8F8\" points=\"204,114,216,126,204,138,192,126,204,114\" style=\"stroke: #383838; stroke-width: 1.5;\"/><!--MD5=[21dd76c19d33815960c0e92fef8f0eef]\n",
       "entity E5--><a href=\"psysml:dcf8e234-4de8-4cb8-a947-17c2138066f0\" target=\"_top\" title=\"psysml:dcf8e234-4de8-4cb8-a947-17c2138066f0\" xlink:actuate=\"onRequest\" xlink:href=\"psysml:dcf8e234-4de8-4cb8-a947-17c2138066f0\" xlink:show=\"new\" xlink:title=\"psysml:dcf8e234-4de8-4cb8-a947-17c2138066f0\" xlink:type=\"simple\"><polygon fill=\"#F8F8F8\" points=\"277,137.5,277,192.0938,417,192.0938,397,164.7969,417,137.5\" style=\"stroke: #000000; stroke-width: 1.5;\"/><text fill=\"#000000\" font-family=\"sans-serif\" font-size=\"14\" font-style=\"italic\" lengthAdjust=\"spacingAndGlyphs\" textLength=\"111\" x=\"284\" y=\"160.4951\">«accept action»</text><text fill=\"#000000\" font-family=\"sans-serif\" font-size=\"14\" lengthAdjust=\"spacingAndGlyphs\" textLength=\"9\" x=\"335\" y=\"177.792\">S</text></a><!--MD5=[24d87cdf3002d433f401b2a2aa9f9f65]\n",
       "entity E6--><a href=\"psysml:18c3d457-6bb3-4962-a480-0e1b2254a09a\" target=\"_top\" title=\"psysml:18c3d457-6bb3-4962-a480-0e1b2254a09a\" xlink:actuate=\"onRequest\" xlink:href=\"psysml:18c3d457-6bb3-4962-a480-0e1b2254a09a\" xlink:show=\"new\" xlink:title=\"psysml:18c3d457-6bb3-4962-a480-0e1b2254a09a\" xlink:type=\"simple\"><polygon fill=\"#F8F8F8\" points=\"515,137.5,515,192.0938,623,192.0938,643,164.7969,623,137.5\" style=\"stroke: #000000; stroke-width: 1.5;\"/><text fill=\"#000000\" font-family=\"sans-serif\" font-size=\"14\" font-style=\"italic\" lengthAdjust=\"spacingAndGlyphs\" textLength=\"99\" x=\"522\" y=\"160.4951\">«send action»</text><text fill=\"#000000\" font-family=\"sans-serif\" font-size=\"14\" lengthAdjust=\"spacingAndGlyphs\" textLength=\"65\" x=\"539\" y=\"177.792\">S() to  B()</text></a><polygon fill=\"#F8F8F8\" points=\"716,114,728,126,716,138,704,126,716,114\" style=\"stroke: #383838; stroke-width: 1.5;\"/><ellipse cx=\"81.5\" cy=\"126\" fill=\"#000000\" rx=\"10\" ry=\"10\" style=\"stroke: none; stroke-width: 1.0;\"/><ellipse cx=\"799\" cy=\"126\" fill=\"none\" rx=\"10\" ry=\"10\" style=\"stroke: #000000; stroke-width: 1.0;\"/><ellipse cx=\"799.5\" cy=\"126.5\" fill=\"#000000\" rx=\"6\" ry=\"6\" style=\"stroke: none; stroke-width: 1.0;\"/><g id=\"E1.E8\"><a href=\"psysml:530e5343-b7af-483f-85a0-93ec425d0302\" target=\"_top\" title=\"psysml:530e5343-b7af-483f-85a0-93ec425d0302\" xlink:actuate=\"onRequest\" xlink:href=\"psysml:530e5343-b7af-483f-85a0-93ec425d0302\" xlink:show=\"new\" xlink:title=\"psysml:530e5343-b7af-483f-85a0-93ec425d0302\" xlink:type=\"simple\"><rect fill=\"#FFFFFF\" height=\"42.9375\" id=\"E8\" style=\"stroke: #383838; stroke-width: 1.5;\" width=\"88\" x=\"37.5\" y=\"306.5\"/><rect fill=\"#F8F8F8\" height=\"37.9375\" style=\"stroke: #383838; stroke-width: 1.5;\" width=\"88\" x=\"37.5\" y=\"306.5\"/><text fill=\"#000000\" font-family=\"sans-serif\" font-size=\"12\" font-style=\"italic\" lengthAdjust=\"spacingAndGlyphs\" textLength=\"81\" x=\"41\" y=\"322.6387\">«action  def»</text><text fill=\"#000000\" font-family=\"sans-serif\" font-size=\"12\" lengthAdjust=\"spacingAndGlyphs\" textLength=\"8\" x=\"77.5\" y=\"336.6074\">B</text></a></g><!--MD5=[f47e10efcf9a6752d55dae986d790ed9]\n",
       "link *start*E3 to E4--><a href=\"psysml:8ec85343-59fa-499c-a77c-a2bbf8c30a9c\" target=\"_top\" title=\"psysml:8ec85343-59fa-499c-a77c-a2bbf8c30a9c\" xlink:actuate=\"onRequest\" xlink:href=\"psysml:8ec85343-59fa-499c-a77c-a2bbf8c30a9c\" xlink:show=\"new\" xlink:title=\"psysml:8ec85343-59fa-499c-a77c-a2bbf8c30a9c\" xlink:type=\"simple\"><path d=\"M91.56,126 C111.79,126 160.91,126 186.65,126 \" fill=\"none\" id=\"*start*E3-&gt;E4\" style=\"stroke: #383838; stroke-width: 1.0;\"/><polygon fill=\"#383838\" points=\"191.77,126,182.77,122,186.77,126,182.77,130,191.77,126\" style=\"stroke: #383838; stroke-width: 1.0;\"/></a><!--MD5=[d19f2eb34364d71b67042106d92f540b]\n",
       "link E7 to *end*E3--><a href=\"psysml:0d9f4e26-bf93-4aba-a8c6-6dafeae60007\" target=\"_top\" title=\"psysml:0d9f4e26-bf93-4aba-a8c6-6dafeae60007\" xlink:actuate=\"onRequest\" xlink:href=\"psysml:0d9f4e26-bf93-4aba-a8c6-6dafeae60007\" xlink:show=\"new\" xlink:title=\"psysml:0d9f4e26-bf93-4aba-a8c6-6dafeae60007\" xlink:type=\"simple\"><path d=\"M728.26,126 C742.66,126 767.63,126 783.46,126 \" fill=\"none\" id=\"E7-&gt;*end*E3\" style=\"stroke: #383838; stroke-width: 1.0;\"/><polygon fill=\"#383838\" points=\"788.84,126,779.84,122,783.84,126,779.84,130,788.84,126\" style=\"stroke: #383838; stroke-width: 1.0;\"/></a><!--MD5=[1b7591eae5389033d8d09a9d6721a717]\n",
       "link E4 to E5--><a href=\"psysml:0f743cc2-6e19-41e4-aad8-79cb567e3158\" target=\"_top\" title=\"psysml:0f743cc2-6e19-41e4-aad8-79cb567e3158\" xlink:actuate=\"onRequest\" xlink:href=\"psysml:0f743cc2-6e19-41e4-aad8-79cb567e3158\" xlink:show=\"new\" xlink:title=\"psysml:0f743cc2-6e19-41e4-aad8-79cb567e3158\" xlink:type=\"simple\"><path d=\"M213.82,128.44 C225.87,131.77 248.64,138.07 271.93,144.51 \" fill=\"none\" id=\"E4-&gt;E5\" style=\"stroke: #383838; stroke-width: 1.0;\"/><polygon fill=\"#383838\" points=\"276.9,145.89,269.2884,139.6399,272.0802,144.5599,267.1602,147.3517,276.9,145.89\" style=\"stroke: #383838; stroke-width: 1.0;\"/><text fill=\"#000000\" font-family=\"sans-serif\" font-size=\"13\" lengthAdjust=\"spacingAndGlyphs\" textLength=\"7\" x=\"261.85\" y=\"156.7165\">*</text></a><!--MD5=[9120cf2e5df3bff93db8f754bbbc09b4]\n",
       "link E5 to E6--><a href=\"psysml:3404b4e6-fa1c-4cf0-a87f-a7f8eafbc3bc\" target=\"_top\" title=\"psysml:3404b4e6-fa1c-4cf0-a87f-a7f8eafbc3bc\" xlink:actuate=\"onRequest\" xlink:href=\"psysml:3404b4e6-fa1c-4cf0-a87f-a7f8eafbc3bc\" xlink:show=\"new\" xlink:title=\"psysml:3404b4e6-fa1c-4cf0-a87f-a7f8eafbc3bc\" xlink:type=\"simple\"><path d=\"M417.01,165 C446.4,165 480.6,165 509.89,165 \" fill=\"none\" id=\"E5-&gt;E6\" style=\"stroke: #383838; stroke-width: 1.0;\"/><polygon fill=\"#383838\" points=\"514.93,165,505.93,161,509.93,165,505.93,169,514.93,165\" style=\"stroke: #383838; stroke-width: 1.0;\"/><text fill=\"#000000\" font-family=\"sans-serif\" font-size=\"13\" lengthAdjust=\"spacingAndGlyphs\" textLength=\"7\" x=\"500.1172\" y=\"177.9652\">*</text></a><!--MD5=[02c70b7c851c11e3980e4e90450dc5dd]\n",
       "link E6 to E7--><a href=\"psysml:a56f0975-9bdd-4db4-ac34-32a8d14536cf\" target=\"_top\" title=\"psysml:a56f0975-9bdd-4db4-ac34-32a8d14536cf\" xlink:actuate=\"onRequest\" xlink:href=\"psysml:a56f0975-9bdd-4db4-ac34-32a8d14536cf\" xlink:show=\"new\" xlink:title=\"psysml:a56f0975-9bdd-4db4-ac34-32a8d14536cf\" xlink:type=\"simple\"><path d=\"M643.15,146.76 C664.96,140.46 687.38,133.98 701.25,129.97 \" fill=\"none\" id=\"E6-&gt;E7\" style=\"stroke: #383838; stroke-width: 1.0;\"/><polygon fill=\"#383838\" points=\"706.29,128.51,696.5337,127.1632,701.4862,129.8968,698.7526,134.8493,706.29,128.51\" style=\"stroke: #383838; stroke-width: 1.0;\"/><text fill=\"#000000\" font-family=\"sans-serif\" font-size=\"13\" lengthAdjust=\"spacingAndGlyphs\" textLength=\"7\" x=\"688.8871\" y=\"148.5121\">*</text></a><!--MD5=[6bdd27f9905911a7e892a3dc65cf6b7c]\n",
       "link E7 to E4--><a href=\"psysml:2a79c4d0-9744-4107-95b5-d9c642bb083b\" target=\"_top\" title=\"psysml:2a79c4d0-9744-4107-95b5-d9c642bb083b\" xlink:actuate=\"onRequest\" xlink:href=\"psysml:2a79c4d0-9744-4107-95b5-d9c642bb083b\" xlink:show=\"new\" xlink:title=\"psysml:2a79c4d0-9744-4107-95b5-d9c642bb083b\" xlink:type=\"simple\"><path d=\"M704.76,124.88 C690.82,123.41 665.06,120.92 643,120 C480.47,113.24 439.53,113.24 277,120 C257.36,120.82 234.77,122.88 220.22,124.36 \" fill=\"none\" id=\"E7-&gt;E4\" style=\"stroke: #383838; stroke-width: 1.0;\"/><polygon fill=\"#383838\" points=\"215.24,124.88,224.6038,127.9327,220.2135,124.3655,223.7806,119.9751,215.24,124.88\" style=\"stroke: #383838; stroke-width: 1.0;\"/><text fill=\"#000000\" font-family=\"sans-serif\" font-size=\"13\" lengthAdjust=\"spacingAndGlyphs\" textLength=\"36\" x=\"448\" y=\"111.0669\">[true]</text><text fill=\"#000000\" font-family=\"sans-serif\" font-size=\"13\" lengthAdjust=\"spacingAndGlyphs\" textLength=\"7\" x=\"223.8998\" y=\"140.7342\">*</text></a><!--MD5=[de1ab59626339ae4c5aa5f61a9a5ad7c]\n",
       "@startuml\r\n",
       "left to right direction\r\n",
       "skinparam monochrome true\r\n",
       "skinparam classbackgroundcolor white\r\n",
       "skinparam shadowing false\r\n",
       "skinparam wrapWidth 300\r\n",
       "hide circle\r\n",
       "\r\n",
       "package \"ActionTest\" as E1  [[psysml:b606a038-0c45-436f-a3a1-beef47fa0e17 ]]  {\r\n",
       "comp def \"S\" as E2  <<(T,blue) attribute  def>> [[psysml:f9329402-d9ed-482b-aa71-2e931e2796d7 ]] {\r\n",
       "}\r\n",
       "rec usage \"a\" as E3  <<(T,blue) action>> [[psysml:69e16b91-de61-4fe2-8ebf-63b040d0687a ]] {\r\n",
       "choice \"m\" as E4  [[psysml:ba661374-e1ab-49de-aa21-c62362c65829 ]] \r\n",
       "accept \" S\" as E5 << accept action>> [[psysml:dcf8e234-4de8-4cb8-a947-17c2138066f0 ]] \r\n",
       "send \" S() to  B()\" as E6 << send action>> [[psysml:18c3d457-6bb3-4962-a480-0e1b2254a09a ]] \r\n",
       "choice \"<s>noname</s>\" as E7  [[psysml:1cf4a57b-2f41-48db-bb2e-4817b665eacc ]] \r\n",
       "[*] - -> E4 [[psysml:8ec85343-59fa-499c-a77c-a2bbf8c30a9c ]] \r\n",
       "E7  - -> [*] [[psysml:0d9f4e26-bf93-4aba-a8c6-6dafeae60007 ]] \r\n",
       "}\r\n",
       "\r\n",
       "rec def \"B\" as E8  <<(T,blue) action  def>> [[psysml:530e5343-b7af-483f-85a0-93ec425d0302 ]] {\r\n",
       "}\r\n",
       "\r\n",
       "}\r\n",
       "E4 - -> \"*\"E5 [[psysml:0f743cc2-6e19-41e4-aad8-79cb567e3158 ]] \r\n",
       "E5 - -> \"*\"E6 [[psysml:3404b4e6-fa1c-4cf0-a87f-a7f8eafbc3bc ]] \r\n",
       "E6 - -> \"*\"E7 [[psysml:a56f0975-9bdd-4db4-ac34-32a8d14536cf ]] \r\n",
       "E7  - -> \"*\"E4 [[psysml:2a79c4d0-9744-4107-95b5-d9c642bb083b ]] : [true]\r\n",
       "@enduml\r\n",
       "\n",
       "PlantUML version 1.2020.13(Sat Jun 13 12:26:38 UTC 2020)\n",
       "(EPL source distribution)\n",
       "Java Runtime: OpenJDK Runtime Environment\n",
       "JVM: OpenJDK 64-Bit Server VM\n",
       "Default Encoding: UTF-8\n",
       "Language: en\n",
       "Country: null\n",
       "--></g></svg>"
      ]
     },
     "execution_count": 22,
     "metadata": {},
     "output_type": "execute_result"
    }
   ],
   "source": [
    "%viz --style=\"LR\" --view=\"MIXED\" \"ActionTest\""
   ]
  },
  {
   "cell_type": "code",
   "execution_count": 23,
   "id": "4403c73a",
   "metadata": {
    "execution": {
     "iopub.execute_input": "2021-10-25T08:21:23.211494Z",
     "iopub.status.busy": "2021-10-25T08:21:23.211085Z",
     "iopub.status.idle": "2021-10-25T08:21:23.261223Z",
     "shell.execute_reply": "2021-10-25T08:21:23.260886Z"
    }
   },
   "outputs": [
    {
     "data": {
      "image/svg+xml": [
       "<?xml version=\"1.0\" encoding=\"UTF-8\" standalone=\"no\"?><svg xmlns=\"http://www.w3.org/2000/svg\" xmlns:xlink=\"http://www.w3.org/1999/xlink\" contentScriptType=\"application/ecmascript\" contentStyleType=\"text/css\" height=\"684px\" preserveAspectRatio=\"none\" style=\"width:526px;height:684px;\" version=\"1.1\" viewBox=\"0 0 526 684\" width=\"526px\" zoomAndPan=\"magnify\"><defs><filter height=\"300%\" id=\"fv4mzj16hwl25\" width=\"300%\" x=\"-1\" y=\"-1\"><feGaussianBlur result=\"blurOut\" stdDeviation=\"2.0\"/><feColorMatrix in=\"blurOut\" result=\"blurOut2\" type=\"matrix\" values=\"0 0 0 0 0 0 0 0 0 0 0 0 0 0 0 0 0 0 .4 0\"/><feOffset dx=\"4.0\" dy=\"4.0\" in=\"blurOut2\" result=\"blurOut3\"/><feBlend in=\"SourceGraphic\" in2=\"blurOut3\" mode=\"normal\"/></filter></defs><g><!--MD5=[fbc87193dbaf4d95561dea2c320d4a47]\n",
       "cluster E1--><a href=\"psysml:b606a038-0c45-436f-a3a1-beef47fa0e17\" target=\"_top\" title=\"psysml:b606a038-0c45-436f-a3a1-beef47fa0e17\" xlink:actuate=\"onRequest\" xlink:href=\"psysml:b606a038-0c45-436f-a3a1-beef47fa0e17\" xlink:show=\"new\" xlink:title=\"psysml:b606a038-0c45-436f-a3a1-beef47fa0e17\" xlink:type=\"simple\"><polygon fill=\"#FFFFFF\" filter=\"url(#fv4mzj16hwl25)\" points=\"16,6,96,6,103,28.2969,504,28.2969,504,672,16,672,16,6\" style=\"stroke: #000000; stroke-width: 1.5;\"/><line style=\"stroke: #000000; stroke-width: 1.5;\" x1=\"16\" x2=\"103\" y1=\"28.2969\" y2=\"28.2969\"/><text fill=\"#000000\" font-family=\"sans-serif\" font-size=\"14\" font-weight=\"bold\" lengthAdjust=\"spacingAndGlyphs\" textLength=\"74\" x=\"20\" y=\"20.9951\">ActionTest</text></a><!--MD5=[d5e69f78d87373223dbae638b30a9c99]\n",
       "cluster E3--><a href=\"psysml:69e16b91-de61-4fe2-8ebf-63b040d0687a\" target=\"_top\" title=\"psysml:69e16b91-de61-4fe2-8ebf-63b040d0687a\" xlink:actuate=\"onRequest\" xlink:href=\"psysml:69e16b91-de61-4fe2-8ebf-63b040d0687a\" xlink:show=\"new\" xlink:title=\"psysml:69e16b91-de61-4fe2-8ebf-63b040d0687a\" xlink:type=\"simple\"><rect fill=\"#FFFFFF\" filter=\"url(#fv4mzj16hwl25)\" height=\"599\" id=\"E3\" rx=\"10\" ry=\"10\" style=\"stroke: #A80036; stroke-width: 1.5;\" width=\"209\" x=\"271\" y=\"49\"/><rect fill=\"#FEFECE\" height=\"37.9375\" rx=\"10\" ry=\"10\" style=\"stroke: #FEFECE; stroke-width: 1.5;\" width=\"209\" x=\"271\" y=\"49\"/><rect fill=\"#FEFECE\" height=\"10\" style=\"stroke: #FEFECE; stroke-width: 1.5;\" width=\"209\" x=\"271\" y=\"76.9375\"/><rect fill=\"none\" height=\"599\" id=\"E3\" rx=\"10\" ry=\"10\" style=\"stroke: #A80036; stroke-width: 1.5;\" width=\"209\" x=\"271\" y=\"49\"/><text fill=\"#000000\" font-family=\"sans-serif\" font-size=\"12\" font-style=\"italic\" lengthAdjust=\"spacingAndGlyphs\" textLength=\"53\" x=\"349\" y=\"65.1387\">«action»</text><text fill=\"#000000\" font-family=\"sans-serif\" font-size=\"12\" lengthAdjust=\"spacingAndGlyphs\" textLength=\"8\" x=\"371.5\" y=\"79.1074\">a</text><line style=\"stroke: #A80036; stroke-width: 1.0;\" x1=\"271\" x2=\"480\" y1=\"86.9375\" y2=\"86.9375\"/></a><!--MD5=[b4997ac47864f28c2f74865a473b2911]\n",
       "class E2--><a href=\"psysml:f9329402-d9ed-482b-aa71-2e931e2796d7\" target=\"_top\" title=\"psysml:f9329402-d9ed-482b-aa71-2e931e2796d7\" xlink:actuate=\"onRequest\" xlink:href=\"psysml:f9329402-d9ed-482b-aa71-2e931e2796d7\" xlink:show=\"new\" xlink:title=\"psysml:f9329402-d9ed-482b-aa71-2e931e2796d7\" xlink:type=\"simple\"><rect fill=\"#FEFECE\" filter=\"url(#fv4mzj16hwl25)\" height=\"45.9375\" id=\"E2\" style=\"stroke: #A80036; stroke-width: 1.5;\" width=\"99\" x=\"155.5\" y=\"87\"/><text fill=\"#000000\" font-family=\"sans-serif\" font-size=\"12\" font-style=\"italic\" lengthAdjust=\"spacingAndGlyphs\" textLength=\"97\" x=\"156.5\" y=\"103.1387\">«attribute  def»</text><text fill=\"#000000\" font-family=\"sans-serif\" font-size=\"12\" lengthAdjust=\"spacingAndGlyphs\" textLength=\"8\" x=\"201\" y=\"117.1074\">S</text><line style=\"stroke: #A80036; stroke-width: 1.5;\" x1=\"156.5\" x2=\"253.5\" y1=\"124.9375\" y2=\"124.9375\"/></a><polygon fill=\"#FEFECE\" filter=\"url(#fv4mzj16hwl25)\" points=\"428,194,440,206,428,218,416,206,428,194\" style=\"stroke: #A80036; stroke-width: 1.5;\"/><!--MD5=[21dd76c19d33815960c0e92fef8f0eef]\n",
       "entity E5--><a href=\"psysml:dcf8e234-4de8-4cb8-a947-17c2138066f0\" target=\"_top\" title=\"psysml:dcf8e234-4de8-4cb8-a947-17c2138066f0\" xlink:actuate=\"onRequest\" xlink:href=\"psysml:dcf8e234-4de8-4cb8-a947-17c2138066f0\" xlink:show=\"new\" xlink:title=\"psysml:dcf8e234-4de8-4cb8-a947-17c2138066f0\" xlink:type=\"simple\"><polygon fill=\"#FEFECE\" filter=\"url(#fv4mzj16hwl25)\" points=\"287,279,287,333.5938,427,333.5938,407,306.2969,427,279\" style=\"stroke: #000000; stroke-width: 1.5;\"/><text fill=\"#000000\" font-family=\"sans-serif\" font-size=\"14\" font-style=\"italic\" lengthAdjust=\"spacingAndGlyphs\" textLength=\"111\" x=\"294\" y=\"301.9951\">«accept action»</text><text fill=\"#000000\" font-family=\"sans-serif\" font-size=\"14\" lengthAdjust=\"spacingAndGlyphs\" textLength=\"9\" x=\"345\" y=\"319.292\">S</text></a><!--MD5=[24d87cdf3002d433f401b2a2aa9f9f65]\n",
       "entity E6--><a href=\"psysml:18c3d457-6bb3-4962-a480-0e1b2254a09a\" target=\"_top\" title=\"psysml:18c3d457-6bb3-4962-a480-0e1b2254a09a\" xlink:actuate=\"onRequest\" xlink:href=\"psysml:18c3d457-6bb3-4962-a480-0e1b2254a09a\" xlink:show=\"new\" xlink:title=\"psysml:18c3d457-6bb3-4962-a480-0e1b2254a09a\" xlink:type=\"simple\"><polygon fill=\"#FEFECE\" filter=\"url(#fv4mzj16hwl25)\" points=\"287,411,287,465.5938,395,465.5938,415,438.2969,395,411\" style=\"stroke: #000000; stroke-width: 1.5;\"/><text fill=\"#000000\" font-family=\"sans-serif\" font-size=\"14\" font-style=\"italic\" lengthAdjust=\"spacingAndGlyphs\" textLength=\"99\" x=\"294\" y=\"433.9951\">«send action»</text><text fill=\"#000000\" font-family=\"sans-serif\" font-size=\"14\" lengthAdjust=\"spacingAndGlyphs\" textLength=\"65\" x=\"311\" y=\"451.292\">S() to  B()</text></a><polygon fill=\"#FEFECE\" filter=\"url(#fv4mzj16hwl25)\" points=\"426,527,438,539,426,551,414,539,426,527\" style=\"stroke: #A80036; stroke-width: 1.5;\"/><ellipse cx=\"428\" cy=\"110\" fill=\"#000000\" filter=\"url(#fv4mzj16hwl25)\" rx=\"10\" ry=\"10\" style=\"stroke: none; stroke-width: 1.0;\"/><ellipse cx=\"426\" cy=\"622\" fill=\"none\" filter=\"url(#fv4mzj16hwl25)\" rx=\"10\" ry=\"10\" style=\"stroke: #000000; stroke-width: 1.0;\"/><ellipse cx=\"426.5\" cy=\"622.5\" fill=\"#000000\" rx=\"6\" ry=\"6\" style=\"stroke: none; stroke-width: 1.0;\"/><g id=\"E1.E8\"><a href=\"psysml:530e5343-b7af-483f-85a0-93ec425d0302\" target=\"_top\" title=\"psysml:530e5343-b7af-483f-85a0-93ec425d0302\" xlink:actuate=\"onRequest\" xlink:href=\"psysml:530e5343-b7af-483f-85a0-93ec425d0302\" xlink:show=\"new\" xlink:title=\"psysml:530e5343-b7af-483f-85a0-93ec425d0302\" xlink:type=\"simple\"><rect fill=\"#FEFECE\" filter=\"url(#fv4mzj16hwl25)\" height=\"42.9375\" id=\"E8\" style=\"stroke: #A80036; stroke-width: 1.5;\" width=\"88\" x=\"32\" y=\"88.5\"/><text fill=\"#000000\" font-family=\"sans-serif\" font-size=\"12\" font-style=\"italic\" lengthAdjust=\"spacingAndGlyphs\" textLength=\"81\" x=\"35.5\" y=\"104.6387\">«action  def»</text><text fill=\"#000000\" font-family=\"sans-serif\" font-size=\"12\" lengthAdjust=\"spacingAndGlyphs\" textLength=\"8\" x=\"72\" y=\"118.6074\">B</text></a></g><!--MD5=[f47e10efcf9a6752d55dae986d790ed9]\n",
       "link *start*E3 to E4--><a href=\"psysml:8ec85343-59fa-499c-a77c-a2bbf8c30a9c\" target=\"_top\" title=\"psysml:8ec85343-59fa-499c-a77c-a2bbf8c30a9c\" xlink:actuate=\"onRequest\" xlink:href=\"psysml:8ec85343-59fa-499c-a77c-a2bbf8c30a9c\" xlink:show=\"new\" xlink:title=\"psysml:8ec85343-59fa-499c-a77c-a2bbf8c30a9c\" xlink:type=\"simple\"><path d=\"M428,120.01 C428,135.81 428,168.69 428,188.61 \" fill=\"none\" id=\"*start*E3-&gt;E4\" style=\"stroke: #A80036; stroke-width: 1.0;\"/><polygon fill=\"#A80036\" points=\"428,193.85,432,184.85,428,188.85,424,184.85,428,193.85\" style=\"stroke: #A80036; stroke-width: 1.0;\"/></a><!--MD5=[d19f2eb34364d71b67042106d92f540b]\n",
       "link E7 to *end*E3--><a href=\"psysml:0d9f4e26-bf93-4aba-a8c6-6dafeae60007\" target=\"_top\" title=\"psysml:0d9f4e26-bf93-4aba-a8c6-6dafeae60007\" xlink:actuate=\"onRequest\" xlink:href=\"psysml:0d9f4e26-bf93-4aba-a8c6-6dafeae60007\" xlink:show=\"new\" xlink:title=\"psysml:0d9f4e26-bf93-4aba-a8c6-6dafeae60007\" xlink:type=\"simple\"><path d=\"M426,551.26 C426,565.66 426,590.63 426,606.46 \" fill=\"none\" id=\"E7-&gt;*end*E3\" style=\"stroke: #A80036; stroke-width: 1.0;\"/><polygon fill=\"#A80036\" points=\"426,611.84,430,602.84,426,606.84,422,602.84,426,611.84\" style=\"stroke: #A80036; stroke-width: 1.0;\"/></a><!--MD5=[1b7591eae5389033d8d09a9d6721a717]\n",
       "link E4 to E5--><a href=\"psysml:0f743cc2-6e19-41e4-aad8-79cb567e3158\" target=\"_top\" title=\"psysml:0f743cc2-6e19-41e4-aad8-79cb567e3158\" xlink:actuate=\"onRequest\" xlink:href=\"psysml:0f743cc2-6e19-41e4-aad8-79cb567e3158\" xlink:show=\"new\" xlink:title=\"psysml:0f743cc2-6e19-41e4-aad8-79cb567e3158\" xlink:type=\"simple\"><path d=\"M423.34,213.46 C414.55,225.66 394.99,252.8 379.37,274.46 \" fill=\"none\" id=\"E4-&gt;E5\" style=\"stroke: #A80036; stroke-width: 1.0;\"/><polygon fill=\"#A80036\" points=\"376.31,278.71,384.8093,273.7339,379.227,274.6491,378.3119,269.0667,376.31,278.71\" style=\"stroke: #A80036; stroke-width: 1.0;\"/><text fill=\"#000000\" font-family=\"sans-serif\" font-size=\"13\" lengthAdjust=\"spacingAndGlyphs\" textLength=\"7\" x=\"372.7684\" y=\"268.1162\">*</text></a><!--MD5=[9120cf2e5df3bff93db8f754bbbc09b4]\n",
       "link E5 to E6--><a href=\"psysml:3404b4e6-fa1c-4cf0-a87f-a7f8eafbc3bc\" target=\"_top\" title=\"psysml:3404b4e6-fa1c-4cf0-a87f-a7f8eafbc3bc\" xlink:actuate=\"onRequest\" xlink:href=\"psysml:3404b4e6-fa1c-4cf0-a87f-a7f8eafbc3bc\" xlink:show=\"new\" xlink:title=\"psysml:3404b4e6-fa1c-4cf0-a87f-a7f8eafbc3bc\" xlink:type=\"simple\"><path d=\"M355.77,334.12 C354.81,354.89 353.48,383.8 352.46,405.77 \" fill=\"none\" id=\"E5-&gt;E6\" style=\"stroke: #A80036; stroke-width: 1.0;\"/><polygon fill=\"#A80036\" points=\"352.23,410.91,356.6368,402.1021,352.4583,405.9152,348.6452,401.7367,352.23,410.91\" style=\"stroke: #A80036; stroke-width: 1.0;\"/><text fill=\"#000000\" font-family=\"sans-serif\" font-size=\"13\" lengthAdjust=\"spacingAndGlyphs\" textLength=\"7\" x=\"344.7051\" y=\"399.9247\">*</text></a><!--MD5=[02c70b7c851c11e3980e4e90450dc5dd]\n",
       "link E6 to E7--><a href=\"psysml:a56f0975-9bdd-4db4-ac34-32a8d14536cf\" target=\"_top\" title=\"psysml:a56f0975-9bdd-4db4-ac34-32a8d14536cf\" xlink:actuate=\"onRequest\" xlink:href=\"psysml:a56f0975-9bdd-4db4-ac34-32a8d14536cf\" xlink:show=\"new\" xlink:title=\"psysml:a56f0975-9bdd-4db4-ac34-32a8d14536cf\" xlink:type=\"simple\"><path d=\"M371.3,466.16 C386.71,486.4 407.07,513.14 418.09,527.61 \" fill=\"none\" id=\"E6-&gt;E7\" style=\"stroke: #A80036; stroke-width: 1.0;\"/><polygon fill=\"#A80036\" points=\"421.2,531.69,418.9398,522.104,418.1749,527.7089,412.57,526.9441,421.2,531.69\" style=\"stroke: #A80036; stroke-width: 1.0;\"/><text fill=\"#000000\" font-family=\"sans-serif\" font-size=\"13\" lengthAdjust=\"spacingAndGlyphs\" textLength=\"7\" x=\"406.9375\" y=\"515.8563\">*</text></a><!--MD5=[6bdd27f9905911a7e892a3dc65cf6b7c]\n",
       "link E7 to E4--><a href=\"psysml:2a79c4d0-9744-4107-95b5-d9c642bb083b\" target=\"_top\" title=\"psysml:2a79c4d0-9744-4107-95b5-d9c642bb083b\" xlink:actuate=\"onRequest\" xlink:href=\"psysml:2a79c4d0-9744-4107-95b5-d9c642bb083b\" xlink:show=\"new\" xlink:title=\"psysml:2a79c4d0-9744-4107-95b5-d9c642bb083b\" xlink:type=\"simple\"><path d=\"M427.98,528.56 C434.8,494.71 456.32,376.18 445,279 C442.59,258.32 436.42,234.96 432.21,220.61 \" fill=\"none\" id=\"E7-&gt;E4\" style=\"stroke: #A80036; stroke-width: 1.0;\"/><polygon fill=\"#A80036\" points=\"430.76,215.75,429.4935,225.5171,432.1863,220.5423,437.1611,223.2351,430.76,215.75\" style=\"stroke: #A80036; stroke-width: 1.0;\"/><text fill=\"#000000\" font-family=\"sans-serif\" font-size=\"13\" lengthAdjust=\"spacingAndGlyphs\" textLength=\"36\" x=\"448\" y=\"377.0669\">[true]</text><text fill=\"#000000\" font-family=\"sans-serif\" font-size=\"13\" lengthAdjust=\"spacingAndGlyphs\" textLength=\"7\" x=\"423.3253\" y=\"237.9903\">*</text></a><!--MD5=[3696f188fe8957010e6879bda557941d]\n",
       "@startuml\r\n",
       "skinparam wrapWidth 300\r\n",
       "hide circle\r\n",
       "\r\n",
       "package \"ActionTest\" as E1  [[psysml:b606a038-0c45-436f-a3a1-beef47fa0e17 ]]  {\r\n",
       "comp def \"S\" as E2  <<(T,blue) attribute  def>> [[psysml:f9329402-d9ed-482b-aa71-2e931e2796d7 ]] {\r\n",
       "}\r\n",
       "rec usage \"a\" as E3  <<(T,blue) action>> [[psysml:69e16b91-de61-4fe2-8ebf-63b040d0687a ]] {\r\n",
       "choice \"m\" as E4  [[psysml:ba661374-e1ab-49de-aa21-c62362c65829 ]] \r\n",
       "accept \" S\" as E5 << accept action>> [[psysml:dcf8e234-4de8-4cb8-a947-17c2138066f0 ]] \r\n",
       "send \" S() to  B()\" as E6 << send action>> [[psysml:18c3d457-6bb3-4962-a480-0e1b2254a09a ]] \r\n",
       "choice \"<s>noname</s>\" as E7  [[psysml:1cf4a57b-2f41-48db-bb2e-4817b665eacc ]] \r\n",
       "[*] - -> E4 [[psysml:8ec85343-59fa-499c-a77c-a2bbf8c30a9c ]] \r\n",
       "E7  - -> [*] [[psysml:0d9f4e26-bf93-4aba-a8c6-6dafeae60007 ]] \r\n",
       "}\r\n",
       "\r\n",
       "rec def \"B\" as E8  <<(T,blue) action  def>> [[psysml:530e5343-b7af-483f-85a0-93ec425d0302 ]] {\r\n",
       "}\r\n",
       "\r\n",
       "}\r\n",
       "E4 - -> \"*\"E5 [[psysml:0f743cc2-6e19-41e4-aad8-79cb567e3158 ]] \r\n",
       "E5 - -> \"*\"E6 [[psysml:3404b4e6-fa1c-4cf0-a87f-a7f8eafbc3bc ]] \r\n",
       "E6 - -> \"*\"E7 [[psysml:a56f0975-9bdd-4db4-ac34-32a8d14536cf ]] \r\n",
       "E7  - -> \"*\"E4 [[psysml:2a79c4d0-9744-4107-95b5-d9c642bb083b ]] : [true]\r\n",
       "@enduml\r\n",
       "\n",
       "PlantUML version 1.2020.13(Sat Jun 13 12:26:38 UTC 2020)\n",
       "(EPL source distribution)\n",
       "Java Runtime: OpenJDK Runtime Environment\n",
       "JVM: OpenJDK 64-Bit Server VM\n",
       "Default Encoding: UTF-8\n",
       "Language: en\n",
       "Country: null\n",
       "--></g></svg>"
      ]
     },
     "execution_count": 23,
     "metadata": {},
     "output_type": "execute_result"
    }
   ],
   "source": [
    "%viz --style=\"STDCOLOR\" --view=\"Default\" \"ActionTest\""
   ]
  },
  {
   "cell_type": "code",
   "execution_count": 24,
   "id": "e24d4a1e",
   "metadata": {
    "execution": {
     "iopub.execute_input": "2021-10-25T08:21:23.310585Z",
     "iopub.status.busy": "2021-10-25T08:21:23.310161Z",
     "iopub.status.idle": "2021-10-25T08:21:23.445869Z",
     "shell.execute_reply": "2021-10-25T08:21:23.443951Z"
    }
   },
   "outputs": [
    {
     "data": {
      "image/svg+xml": [
       "<?xml version=\"1.0\" encoding=\"UTF-8\" standalone=\"no\"?><svg xmlns=\"http://www.w3.org/2000/svg\" xmlns:xlink=\"http://www.w3.org/1999/xlink\" contentScriptType=\"application/ecmascript\" contentStyleType=\"text/css\" height=\"479px\" preserveAspectRatio=\"none\" style=\"width:698px;height:479px;\" version=\"1.1\" viewBox=\"0 0 698 479\" width=\"698px\" zoomAndPan=\"magnify\"><defs><filter height=\"300%\" id=\"f1k0h1y3c6g08\" width=\"300%\" x=\"-1\" y=\"-1\"><feGaussianBlur result=\"blurOut\" stdDeviation=\"2.0\"/><feColorMatrix in=\"blurOut\" result=\"blurOut2\" type=\"matrix\" values=\"0 0 0 0 0 0 0 0 0 0 0 0 0 0 0 0 0 0 .4 0\"/><feOffset dx=\"4.0\" dy=\"4.0\" in=\"blurOut2\" result=\"blurOut3\"/><feBlend in=\"SourceGraphic\" in2=\"blurOut3\" mode=\"normal\"/></filter></defs><g><!--MD5=[fbc87193dbaf4d95561dea2c320d4a47]\n",
       "cluster E1--><a href=\"psysml:b606a038-0c45-436f-a3a1-beef47fa0e17\" target=\"_top\" title=\"psysml:b606a038-0c45-436f-a3a1-beef47fa0e17\" xlink:actuate=\"onRequest\" xlink:href=\"psysml:b606a038-0c45-436f-a3a1-beef47fa0e17\" xlink:show=\"new\" xlink:title=\"psysml:b606a038-0c45-436f-a3a1-beef47fa0e17\" xlink:type=\"simple\"><polygon fill=\"#FFFFFF\" filter=\"url(#f1k0h1y3c6g08)\" points=\"16,6,96,6,103,28.2969,676,28.2969,676,467,16,467,16,6\" style=\"stroke: #000000; stroke-width: 1.5;\"/><line style=\"stroke: #000000; stroke-width: 1.5;\" x1=\"16\" x2=\"103\" y1=\"28.2969\" y2=\"28.2969\"/><text fill=\"#000000\" font-family=\"sans-serif\" font-size=\"14\" font-weight=\"bold\" lengthAdjust=\"spacingAndGlyphs\" textLength=\"74\" x=\"20\" y=\"20.9951\">ActionTest</text></a><!--MD5=[b4997ac47864f28c2f74865a473b2911]\n",
       "class E2--><a href=\"psysml:f9329402-d9ed-482b-aa71-2e931e2796d7\" target=\"_top\" title=\"psysml:f9329402-d9ed-482b-aa71-2e931e2796d7\" xlink:actuate=\"onRequest\" xlink:href=\"psysml:f9329402-d9ed-482b-aa71-2e931e2796d7\" xlink:show=\"new\" xlink:title=\"psysml:f9329402-d9ed-482b-aa71-2e931e2796d7\" xlink:type=\"simple\"><rect fill=\"#FEFECE\" filter=\"url(#f1k0h1y3c6g08)\" height=\"45.9375\" id=\"E2\" style=\"stroke: #A80036; stroke-width: 1.5;\" width=\"99\" x=\"283.5\" y=\"405\"/><text fill=\"#000000\" font-family=\"sans-serif\" font-size=\"12\" font-style=\"italic\" lengthAdjust=\"spacingAndGlyphs\" textLength=\"97\" x=\"284.5\" y=\"421.1387\">«attribute  def»</text><text fill=\"#000000\" font-family=\"sans-serif\" font-size=\"12\" lengthAdjust=\"spacingAndGlyphs\" textLength=\"8\" x=\"329\" y=\"435.1074\">S</text><line style=\"stroke: #A80036; stroke-width: 1.5;\" x1=\"284.5\" x2=\"381.5\" y1=\"442.9375\" y2=\"442.9375\"/></a><!--MD5=[09b614a08d8cba4a07c9adeb5e0fee81]\n",
       "class E3--><a href=\"psysml:69e16b91-de61-4fe2-8ebf-63b040d0687a\" target=\"_top\" title=\"psysml:69e16b91-de61-4fe2-8ebf-63b040d0687a\" xlink:actuate=\"onRequest\" xlink:href=\"psysml:69e16b91-de61-4fe2-8ebf-63b040d0687a\" xlink:show=\"new\" xlink:title=\"psysml:69e16b91-de61-4fe2-8ebf-63b040d0687a\" xlink:type=\"simple\"><rect fill=\"#FEFECE\" filter=\"url(#f1k0h1y3c6g08)\" height=\"156.375\" id=\"E3\" rx=\"10\" ry=\"10\" style=\"stroke: #A80036; stroke-width: 1.5;\" width=\"79\" x=\"293.5\" y=\"41\"/><text fill=\"#000000\" font-family=\"sans-serif\" font-size=\"12\" font-style=\"italic\" lengthAdjust=\"spacingAndGlyphs\" textLength=\"53\" x=\"306.5\" y=\"57.1387\">«action»</text><text fill=\"#000000\" font-family=\"sans-serif\" font-size=\"12\" lengthAdjust=\"spacingAndGlyphs\" textLength=\"8\" x=\"329\" y=\"71.1074\">a</text><line style=\"stroke: #A80036; stroke-width: 1.5;\" x1=\"294.5\" x2=\"371.5\" y1=\"78.9375\" y2=\"78.9375\"/><text fill=\"#000000\" font-family=\"sans-serif\" font-size=\"11\" lengthAdjust=\"spacingAndGlyphs\" textLength=\"11\" x=\"299.5\" y=\"109.9526\">to</text><text fill=\"#000000\" font-family=\"sans-serif\" font-size=\"11\" lengthAdjust=\"spacingAndGlyphs\" textLength=\"11\" x=\"299.5\" y=\"122.7573\">to</text><text fill=\"#000000\" font-family=\"sans-serif\" font-size=\"11\" lengthAdjust=\"spacingAndGlyphs\" textLength=\"11\" x=\"299.5\" y=\"135.562\">to</text><text fill=\"#000000\" font-family=\"sans-serif\" font-size=\"11\" lengthAdjust=\"spacingAndGlyphs\" textLength=\"11\" x=\"299.5\" y=\"148.3667\">to</text><line style=\"stroke: #A80036; stroke-width: 1.0;\" x1=\"294.5\" x2=\"297.5\" y1=\"93.3398\" y2=\"93.3398\"/><text fill=\"#000000\" font-family=\"sans-serif\" font-size=\"11\" lengthAdjust=\"spacingAndGlyphs\" textLength=\"71\" x=\"297.5\" y=\"96.6479\">successions</text><line style=\"stroke: #A80036; stroke-width: 1.0;\" x1=\"368.5\" x2=\"371.5\" y1=\"93.3398\" y2=\"93.3398\"/><text fill=\"#000000\" font-family=\"sans-serif\" font-size=\"11\" lengthAdjust=\"spacingAndGlyphs\" textLength=\"0\" x=\"303.5\" y=\"177.9761\"/><text fill=\"#000000\" font-family=\"sans-serif\" font-size=\"11\" lengthAdjust=\"spacingAndGlyphs\" textLength=\"0\" x=\"303.5\" y=\"190.7808\"/><line style=\"stroke: #A80036; stroke-width: 1.0;\" x1=\"294.5\" x2=\"302.5\" y1=\"161.3633\" y2=\"161.3633\"/><text fill=\"#000000\" font-family=\"sans-serif\" font-size=\"11\" lengthAdjust=\"spacingAndGlyphs\" textLength=\"61\" x=\"302.5\" y=\"164.6714\">transitions</text><line style=\"stroke: #A80036; stroke-width: 1.0;\" x1=\"363.5\" x2=\"371.5\" y1=\"161.3633\" y2=\"161.3633\"/></a><!--MD5=[ebbe1d658d1005bcc118a6aa81145e00]\n",
       "class E4--><a href=\"psysml:d8f546a6-9527-45eb-b0f0-0c3fcbb6d2a9\" target=\"_top\" title=\"psysml:d8f546a6-9527-45eb-b0f0-0c3fcbb6d2a9\" xlink:actuate=\"onRequest\" xlink:href=\"psysml:d8f546a6-9527-45eb-b0f0-0c3fcbb6d2a9\" xlink:show=\"new\" xlink:title=\"psysml:d8f546a6-9527-45eb-b0f0-0c3fcbb6d2a9\" xlink:type=\"simple\"><rect fill=\"#FEFECE\" filter=\"url(#f1k0h1y3c6g08)\" height=\"45.9375\" id=\"E4\" rx=\"10\" ry=\"10\" style=\"stroke: #A80036; stroke-width: 1.5;\" width=\"87\" x=\"32.5\" y=\"278\"/><text fill=\"#000000\" font-family=\"sans-serif\" font-size=\"12\" font-style=\"italic\" lengthAdjust=\"spacingAndGlyphs\" textLength=\"53\" x=\"49.5\" y=\"294.1387\">«action»</text><text fill=\"#000000\" font-family=\"sans-serif\" font-size=\"12\" lengthAdjust=\"spacingAndGlyphs\" textLength=\"77\" x=\"35.5\" y=\"308.1074\">start: Action</text><line style=\"stroke: #A80036; stroke-width: 1.5;\" x1=\"33.5\" x2=\"118.5\" y1=\"315.9375\" y2=\"315.9375\"/></a><!--MD5=[270fce915f116d4de14055a7c1d9a0f3]\n",
       "class E5--><a href=\"psysml:ba661374-e1ab-49de-aa21-c62362c65829\" target=\"_top\" title=\"psysml:ba661374-e1ab-49de-aa21-c62362c65829\" xlink:actuate=\"onRequest\" xlink:href=\"psysml:ba661374-e1ab-49de-aa21-c62362c65829\" xlink:show=\"new\" xlink:title=\"psysml:ba661374-e1ab-49de-aa21-c62362c65829\" xlink:type=\"simple\"><rect fill=\"#FEFECE\" filter=\"url(#f1k0h1y3c6g08)\" height=\"45.9375\" id=\"E5\" rx=\"10\" ry=\"10\" style=\"stroke: #A80036; stroke-width: 1.5;\" width=\"92\" x=\"155\" y=\"278\"/><text fill=\"#000000\" font-family=\"sans-serif\" font-size=\"12\" font-style=\"italic\" lengthAdjust=\"spacingAndGlyphs\" textLength=\"90\" x=\"156\" y=\"294.1387\">«merge node»</text><text fill=\"#000000\" font-family=\"sans-serif\" font-size=\"12\" lengthAdjust=\"spacingAndGlyphs\" textLength=\"11\" x=\"195.5\" y=\"308.1074\">m</text><line style=\"stroke: #A80036; stroke-width: 1.5;\" x1=\"156\" x2=\"246\" y1=\"315.9375\" y2=\"315.9375\"/></a><!--MD5=[60a26617385b1d2d0262a64233df1f8d]\n",
       "class E6--><a href=\"psysml:dcf8e234-4de8-4cb8-a947-17c2138066f0\" target=\"_top\" title=\"psysml:dcf8e234-4de8-4cb8-a947-17c2138066f0\" xlink:actuate=\"onRequest\" xlink:href=\"psysml:dcf8e234-4de8-4cb8-a947-17c2138066f0\" xlink:show=\"new\" xlink:title=\"psysml:dcf8e234-4de8-4cb8-a947-17c2138066f0\" xlink:type=\"simple\"><rect fill=\"#FEFECE\" filter=\"url(#f1k0h1y3c6g08)\" height=\"88.3516\" id=\"E6\" rx=\"10\" ry=\"10\" style=\"stroke: #A80036; stroke-width: 1.5;\" width=\"102\" x=\"282\" y=\"257\"/><text fill=\"#000000\" font-family=\"sans-serif\" font-size=\"12\" font-style=\"italic\" lengthAdjust=\"spacingAndGlyphs\" textLength=\"100\" x=\"283\" y=\"273.1387\">«accept action»</text><text fill=\"#000000\" font-family=\"sans-serif\" font-size=\"12\" lengthAdjust=\"spacingAndGlyphs\" text-decoration=\"line-through\" textLength=\"51\" x=\"307.5\" y=\"287.1074\">noname</text><line style=\"stroke: #A80036; stroke-width: 1.5;\" x1=\"283\" x2=\"383\" y1=\"294.9375\" y2=\"294.9375\"/><text fill=\"#000000\" font-family=\"sans-serif\" font-size=\"11\" font-weight=\"bold\" lengthAdjust=\"spacingAndGlyphs\" textLength=\"10\" x=\"288\" y=\"325.9526\">in</text><text fill=\"#000000\" font-family=\"sans-serif\" font-size=\"11\" lengthAdjust=\"spacingAndGlyphs\" textLength=\"60\" x=\"302\" y=\"325.9526\">payload: S</text><text fill=\"#000000\" font-family=\"sans-serif\" font-size=\"11\" font-weight=\"bold\" lengthAdjust=\"spacingAndGlyphs\" textLength=\"10\" x=\"288\" y=\"338.7573\">in</text><text fill=\"#000000\" font-family=\"sans-serif\" font-size=\"11\" lengthAdjust=\"spacingAndGlyphs\" textLength=\"46\" x=\"302\" y=\"338.7573\">receiver</text><line style=\"stroke: #A80036; stroke-width: 1.0;\" x1=\"283\" x2=\"299.5\" y1=\"309.3398\" y2=\"309.3398\"/><text fill=\"#000000\" font-family=\"sans-serif\" font-size=\"11\" lengthAdjust=\"spacingAndGlyphs\" textLength=\"67\" x=\"299.5\" y=\"312.6479\">parameters</text><line style=\"stroke: #A80036; stroke-width: 1.0;\" x1=\"366.5\" x2=\"383\" y1=\"309.3398\" y2=\"309.3398\"/></a><!--MD5=[2156ba9850f5573cc1fc38a6a4b2f02b]\n",
       "class E7--><a href=\"psysml:18c3d457-6bb3-4962-a480-0e1b2254a09a\" target=\"_top\" title=\"psysml:18c3d457-6bb3-4962-a480-0e1b2254a09a\" xlink:actuate=\"onRequest\" xlink:href=\"psysml:18c3d457-6bb3-4962-a480-0e1b2254a09a\" xlink:show=\"new\" xlink:title=\"psysml:18c3d457-6bb3-4962-a480-0e1b2254a09a\" xlink:type=\"simple\"><rect fill=\"#FEFECE\" filter=\"url(#f1k0h1y3c6g08)\" height=\"88.3516\" id=\"E7\" rx=\"10\" ry=\"10\" style=\"stroke: #A80036; stroke-width: 1.5;\" width=\"101\" x=\"419.5\" y=\"257\"/><text fill=\"#000000\" font-family=\"sans-serif\" font-size=\"12\" font-style=\"italic\" lengthAdjust=\"spacingAndGlyphs\" textLength=\"88\" x=\"426\" y=\"273.1387\">«send action»</text><text fill=\"#000000\" font-family=\"sans-serif\" font-size=\"12\" lengthAdjust=\"spacingAndGlyphs\" text-decoration=\"line-through\" textLength=\"51\" x=\"444.5\" y=\"287.1074\">noname</text><line style=\"stroke: #A80036; stroke-width: 1.5;\" x1=\"420.5\" x2=\"519.5\" y1=\"294.9375\" y2=\"294.9375\"/><text fill=\"#000000\" font-family=\"sans-serif\" font-size=\"11\" font-weight=\"bold\" lengthAdjust=\"spacingAndGlyphs\" textLength=\"10\" x=\"425.5\" y=\"325.9526\">in</text><text fill=\"#000000\" font-family=\"sans-serif\" font-size=\"11\" lengthAdjust=\"spacingAndGlyphs\" textLength=\"73\" x=\"439.5\" y=\"325.9526\">payload=S();</text><text fill=\"#000000\" font-family=\"sans-serif\" font-size=\"11\" font-weight=\"bold\" lengthAdjust=\"spacingAndGlyphs\" textLength=\"10\" x=\"425.5\" y=\"338.7573\">in</text><text fill=\"#000000\" font-family=\"sans-serif\" font-size=\"11\" lengthAdjust=\"spacingAndGlyphs\" textLength=\"75\" x=\"439.5\" y=\"338.7573\">receiver=B();</text><line style=\"stroke: #A80036; stroke-width: 1.0;\" x1=\"420.5\" x2=\"436.5\" y1=\"309.3398\" y2=\"309.3398\"/><text fill=\"#000000\" font-family=\"sans-serif\" font-size=\"11\" lengthAdjust=\"spacingAndGlyphs\" textLength=\"67\" x=\"436.5\" y=\"312.6479\">parameters</text><line style=\"stroke: #A80036; stroke-width: 1.0;\" x1=\"503.5\" x2=\"519.5\" y1=\"309.3398\" y2=\"309.3398\"/></a><!--MD5=[b9389687b975829384b498ac4b7476b2]\n",
       "class E8--><a href=\"psysml:1cf4a57b-2f41-48db-bb2e-4817b665eacc\" target=\"_top\" title=\"psysml:1cf4a57b-2f41-48db-bb2e-4817b665eacc\" xlink:actuate=\"onRequest\" xlink:href=\"psysml:1cf4a57b-2f41-48db-bb2e-4817b665eacc\" xlink:show=\"new\" xlink:title=\"psysml:1cf4a57b-2f41-48db-bb2e-4817b665eacc\" xlink:type=\"simple\"><rect fill=\"#FEFECE\" filter=\"url(#f1k0h1y3c6g08)\" height=\"45.9375\" id=\"E8\" rx=\"10\" ry=\"10\" style=\"stroke: #A80036; stroke-width: 1.5;\" width=\"104\" x=\"556\" y=\"278\"/><text fill=\"#000000\" font-family=\"sans-serif\" font-size=\"12\" font-style=\"italic\" lengthAdjust=\"spacingAndGlyphs\" textLength=\"102\" x=\"557\" y=\"294.1387\">«decision node»</text><text fill=\"#000000\" font-family=\"sans-serif\" font-size=\"12\" lengthAdjust=\"spacingAndGlyphs\" text-decoration=\"line-through\" textLength=\"51\" x=\"582.5\" y=\"308.1074\">noname</text><line style=\"stroke: #A80036; stroke-width: 1.5;\" x1=\"557\" x2=\"659\" y1=\"315.9375\" y2=\"315.9375\"/></a><!--MD5=[fd4143e9d270a159db93a4ea2a975926]\n",
       "class E9--><a href=\"psysml:530e5343-b7af-483f-85a0-93ec425d0302\" target=\"_top\" title=\"psysml:530e5343-b7af-483f-85a0-93ec425d0302\" xlink:actuate=\"onRequest\" xlink:href=\"psysml:530e5343-b7af-483f-85a0-93ec425d0302\" xlink:show=\"new\" xlink:title=\"psysml:530e5343-b7af-483f-85a0-93ec425d0302\" xlink:type=\"simple\"><rect fill=\"#FEFECE\" filter=\"url(#f1k0h1y3c6g08)\" height=\"45.9375\" id=\"E9\" style=\"stroke: #A80036; stroke-width: 1.5;\" width=\"83\" x=\"104.5\" y=\"96\"/><text fill=\"#000000\" font-family=\"sans-serif\" font-size=\"12\" font-style=\"italic\" lengthAdjust=\"spacingAndGlyphs\" textLength=\"81\" x=\"105.5\" y=\"112.1387\">«action  def»</text><text fill=\"#000000\" font-family=\"sans-serif\" font-size=\"12\" lengthAdjust=\"spacingAndGlyphs\" textLength=\"8\" x=\"142\" y=\"126.1074\">B</text><line style=\"stroke: #A80036; stroke-width: 1.5;\" x1=\"105.5\" x2=\"186.5\" y1=\"133.9375\" y2=\"133.9375\"/></a><!--MD5=[4672eba38e49728da53d11aeb285b987]\n",
       "reverse link E3 to E4--><a href=\"psysml:4e23b20a-a36f-46ec-8d5d-d94d3421b796\" target=\"_top\" title=\"psysml:4e23b20a-a36f-46ec-8d5d-d94d3421b796\" xlink:actuate=\"onRequest\" xlink:href=\"psysml:4e23b20a-a36f-46ec-8d5d-d94d3421b796\" xlink:show=\"new\" xlink:title=\"psysml:4e23b20a-a36f-46ec-8d5d-d94d3421b796\" xlink:type=\"simple\"><path d=\"M280.68,156.48 C241.18,184.05 185.65,222.85 137,257 C127.35,263.77 116.85,271.17 107.33,277.88 \" fill=\"none\" id=\"E3&lt;-E4\" style=\"stroke: #A80036; stroke-width: 1.0; stroke-dasharray: 7.0,7.0;\"/><ellipse cx=\"286.6201\" cy=\"152.349\" fill=\"#FFFFFF\" rx=\"8\" ry=\"8\" style=\"stroke: #A80036; stroke-width: 1.0;\"/><line style=\"stroke: #A80036; stroke-width: 1.0;\" x1=\"280.0601\" x2=\"293.18\" y1=\"156.928\" y2=\"147.77\"/><line style=\"stroke: #A80036; stroke-width: 1.0;\" x1=\"282.0411\" x2=\"291.1991\" y1=\"145.7891\" y2=\"158.9089\"/></a><!--MD5=[191cde3d490a3f6d7bb551fe3ddca469]\n",
       "reverse link E3 to E5--><a href=\"psysml:ad14583f-f40d-4d66-bbbd-cfa822b8d260\" target=\"_top\" title=\"psysml:ad14583f-f40d-4d66-bbbd-cfa822b8d260\" xlink:actuate=\"onRequest\" xlink:href=\"psysml:ad14583f-f40d-4d66-bbbd-cfa822b8d260\" xlink:show=\"new\" xlink:title=\"psysml:ad14583f-f40d-4d66-bbbd-cfa822b8d260\" xlink:type=\"simple\"><path d=\"M285.45,184.85 C261.55,217.43 234.15,254.8 217.2,277.91 \" fill=\"none\" id=\"E3&lt;-E5\" style=\"stroke: #A80036; stroke-width: 1.0;\"/><polygon fill=\"#A80036\" points=\"293.4,174.01,286.6268,176.4846,286.3059,183.6885,293.0791,181.214,293.4,174.01\" style=\"stroke: #A80036; stroke-width: 1.0;\"/><text fill=\"#000000\" font-family=\"sans-serif\" font-size=\"13\" lengthAdjust=\"spacingAndGlyphs\" textLength=\"7\" x=\"213.6131\" y=\"266.7821\">*</text></a><!--MD5=[1026b4b93417a13aa8999a858998add2]\n",
       "reverse link E3 to E6--><a href=\"psysml:02f2d6be-0a1b-48e7-9525-0788d6b31587\" target=\"_top\" title=\"psysml:02f2d6be-0a1b-48e7-9525-0788d6b31587\" xlink:actuate=\"onRequest\" xlink:href=\"psysml:02f2d6be-0a1b-48e7-9525-0788d6b31587\" xlink:show=\"new\" xlink:title=\"psysml:02f2d6be-0a1b-48e7-9525-0788d6b31587\" xlink:type=\"simple\"><path d=\"M333,210.12 C333,226.38 333,242.64 333,256.77 \" fill=\"none\" id=\"E3&lt;-E6\" style=\"stroke: #A80036; stroke-width: 1.0;\"/><polygon fill=\"#A80036\" points=\"333,197.12,329,203.12,333,209.12,337,203.12,333,197.12\" style=\"stroke: #A80036; stroke-width: 1.0;\"/><text fill=\"#000000\" font-family=\"sans-serif\" font-size=\"13\" lengthAdjust=\"spacingAndGlyphs\" textLength=\"7\" x=\"325.4641\" y=\"245.899\">*</text></a><!--MD5=[3403bfa781cc3da0fd423dbab6f01c63]\n",
       "reverse link E6 to E2--><a href=\"psysml:415ec969-1049-4ff8-b1f4-3b78a625bc7d\" target=\"_top\" title=\"psysml:415ec969-1049-4ff8-b1f4-3b78a625bc7d\" xlink:actuate=\"onRequest\" xlink:href=\"psysml:415ec969-1049-4ff8-b1f4-3b78a625bc7d\" xlink:show=\"new\" xlink:title=\"psysml:415ec969-1049-4ff8-b1f4-3b78a625bc7d\" xlink:type=\"simple\"><path d=\"M320.31,358.11 C320,374.71 320.9,391.92 323.01,404.99 \" fill=\"none\" id=\"E6&lt;-E2\" style=\"stroke: #A80036; stroke-width: 1.0;\"/><polygon fill=\"#FFFFFF\" points=\"320.82,345.02,316.5921,350.8617,320.3583,357.0111,324.5862,351.1695,320.82,345.02\" style=\"stroke: #A80036; stroke-width: 1.0;\"/></a><!--MD5=[3403bfa781cc3da0fd423dbab6f01c63]\n",
       "reverse link E6 to E2--><a href=\"psysml:415ec969-1049-4ff8-b1f4-3b78a625bc7d\" target=\"_top\" title=\"psysml:415ec969-1049-4ff8-b1f4-3b78a625bc7d\" xlink:actuate=\"onRequest\" xlink:href=\"psysml:415ec969-1049-4ff8-b1f4-3b78a625bc7d\" xlink:show=\"new\" xlink:title=\"psysml:415ec969-1049-4ff8-b1f4-3b78a625bc7d\" xlink:type=\"simple\"><path d=\"M346.44,358.11 C346.76,374.71 345.81,391.92 343.57,404.99 \" fill=\"none\" id=\"E6&lt;-E2-1\" style=\"stroke: #A80036; stroke-width: 1.0;\"/><polygon fill=\"#FFFFFF\" points=\"345.9,345.02,342.1473,351.1777,346.388,357.0101,350.1407,350.8524,345.9,345.02\" style=\"stroke: #A80036; stroke-width: 1.0;\"/></a><!--MD5=[85760999379eecfd2565a9fecdca67e4]\n",
       "reverse link E3 to E7--><a href=\"psysml:6b163638-00d9-4d11-a021-492b992d4a3f\" target=\"_top\" title=\"psysml:6b163638-00d9-4d11-a021-492b992d4a3f\" xlink:actuate=\"onRequest\" xlink:href=\"psysml:6b163638-00d9-4d11-a021-492b992d4a3f\" xlink:show=\"new\" xlink:title=\"psysml:6b163638-00d9-4d11-a021-492b992d4a3f\" xlink:type=\"simple\"><path d=\"M380.73,182.71 C399.37,207.2 420.27,234.66 437.16,256.86 \" fill=\"none\" id=\"E3&lt;-E7\" style=\"stroke: #A80036; stroke-width: 1.0;\"/><polygon fill=\"#A80036\" points=\"372.63,172.06,373.0806,179.257,379.8974,181.6091,379.4467,174.4121,372.63,172.06\" style=\"stroke: #A80036; stroke-width: 1.0;\"/><text fill=\"#000000\" font-family=\"sans-serif\" font-size=\"13\" lengthAdjust=\"spacingAndGlyphs\" textLength=\"7\" x=\"424.5954\" y=\"246.0028\">*</text></a><!--MD5=[4cb75b73ec3682b8f7f8edc9cc86126a]\n",
       "reverse link E3 to E8--><a href=\"psysml:e0686d6c-32a7-4788-b0ea-8926b68cc818\" target=\"_top\" title=\"psysml:e0686d6c-32a7-4788-b0ea-8926b68cc818\" xlink:actuate=\"onRequest\" xlink:href=\"psysml:e0686d6c-32a7-4788-b0ea-8926b68cc818\" xlink:show=\"new\" xlink:title=\"psysml:e0686d6c-32a7-4788-b0ea-8926b68cc818\" xlink:type=\"simple\"><path d=\"M383.69,153.18 C439.23,189.53 526.74,246.81 574.37,277.99 \" fill=\"none\" id=\"E3&lt;-E8\" style=\"stroke: #A80036; stroke-width: 1.0;\"/><polygon fill=\"#A80036\" points=\"372.69,145.98,375.5242,152.6108,382.735,152.5449,379.9008,145.9141,372.69,145.98\" style=\"stroke: #A80036; stroke-width: 1.0;\"/></a><!--MD5=[f4a8e774887f3faf17c8d68b04137548]\n",
       "@startuml\r\n",
       "skinparam wrapWidth 300\r\n",
       "hide circle\r\n",
       "\r\n",
       "package \"ActionTest\" as E1  [[psysml:b606a038-0c45-436f-a3a1-beef47fa0e17 ]]  {\r\n",
       "comp def \"S\" as E2  <<(T,blue) attribute  def>> [[psysml:f9329402-d9ed-482b-aa71-2e931e2796d7 ]] {\r\n",
       "}\r\n",
       "comp usage \"a\" as E3  <<(T,blue) action>> [[psysml:69e16b91-de61-4fe2-8ebf-63b040d0687a ]] {\r\n",
       "- - successions - -\r\n",
       " to \r\n",
       " to \r\n",
       " to \r\n",
       " to \r\n",
       "- - transitions - -\r\n",
       "\r\n",
       "\r\n",
       "}\r\n",
       "comp usage \"start: Action \" as E4  <<(T,blue) action>> [[psysml:d8f546a6-9527-45eb-b0f0-0c3fcbb6d2a9 ]] {\r\n",
       "}\r\n",
       "comp usage \"m\" as E5  <<(T,blue) merge node>> [[psysml:ba661374-e1ab-49de-aa21-c62362c65829 ]] {\r\n",
       "}\r\n",
       "comp usage \"<s>noname</s>\" as E6 << accept action>> [[psysml:dcf8e234-4de8-4cb8-a947-17c2138066f0 ]] {\r\n",
       "- - parameters - -\r\n",
       "<b>in</b> payload: S\r\n",
       "<b>in</b> receiver\r\n",
       "}\r\n",
       "comp usage \"<s>noname</s>\" as E7 << send action>> [[psysml:18c3d457-6bb3-4962-a480-0e1b2254a09a ]] {\r\n",
       "- - parameters - -\r\n",
       "<b>in</b> payload=S(); \r\n",
       "<b>in</b> receiver=B(); \r\n",
       "}\r\n",
       "comp usage \"<s>noname</s>\" as E8  <<(T,blue) decision node>> [[psysml:1cf4a57b-2f41-48db-bb2e-4817b665eacc ]] {\r\n",
       "}\r\n",
       "comp def \"B\" as E9  <<(T,blue) action  def>> [[psysml:530e5343-b7af-483f-85a0-93ec425d0302 ]] {\r\n",
       "}\r\n",
       "}\r\n",
       "E3 +.. E4 [[psysml:4e23b20a-a36f-46ec-8d5d-d94d3421b796 ]] \r\n",
       "E3 *- - \"*\"E5 [[psysml:ad14583f-f40d-4d66-bbbd-cfa822b8d260 ]] \r\n",
       "E3 *- - \"*\"E6 [[psysml:02f2d6be-0a1b-48e7-9525-0788d6b31587 ]] \r\n",
       "E6 o- - E2 [[psysml:415ec969-1049-4ff8-b1f4-3b78a625bc7d ]] \r\n",
       "E6 o- - E2 [[psysml:415ec969-1049-4ff8-b1f4-3b78a625bc7d ]] \r\n",
       "E3 *- - \"*\"E7 [[psysml:6b163638-00d9-4d11-a021-492b992d4a3f ]] \r\n",
       "E3 *- - E8 [[psysml:e0686d6c-32a7-4788-b0ea-8926b68cc818 ]] \r\n",
       "@enduml\r\n",
       "\n",
       "PlantUML version 1.2020.13(Sat Jun 13 12:26:38 UTC 2020)\n",
       "(EPL source distribution)\n",
       "Java Runtime: OpenJDK Runtime Environment\n",
       "JVM: OpenJDK 64-Bit Server VM\n",
       "Default Encoding: UTF-8\n",
       "Language: en\n",
       "Country: null\n",
       "--></g></svg>"
      ]
     },
     "execution_count": 24,
     "metadata": {},
     "output_type": "execute_result"
    }
   ],
   "source": [
    "%viz --style=\"STDCOLOR\" --view=\"Tree\" \"ActionTest\""
   ]
  },
  {
   "cell_type": "code",
   "execution_count": 25,
   "id": "60f61e61",
   "metadata": {
    "execution": {
     "iopub.execute_input": "2021-10-25T08:21:23.494794Z",
     "iopub.status.busy": "2021-10-25T08:21:23.494386Z",
     "iopub.status.idle": "2021-10-25T08:21:23.498552Z",
     "shell.execute_reply": "2021-10-25T08:21:23.498219Z"
    }
   },
   "outputs": [
    {
     "data": {
      "image/svg+xml": [
       "<?xml version=\"1.0\" encoding=\"UTF-8\" standalone=\"no\"?><svg xmlns=\"http://www.w3.org/2000/svg\" xmlns:xlink=\"http://www.w3.org/1999/xlink\" contentScriptType=\"application/ecmascript\" contentStyleType=\"text/css\" height=\"12px\" preserveAspectRatio=\"none\" style=\"width:12px;height:12px;\" version=\"1.1\" viewBox=\"0 0 12 12\" width=\"12px\" zoomAndPan=\"magnify\"><defs/><g><!--MD5=[aeeef50f102b80d730deb6443d14f702]\n",
       "@startuml\r\n",
       "skinparam wrapWidth 300\r\n",
       "hide circle\r\n",
       "\r\n",
       "@enduml\r\n",
       "\n",
       "PlantUML version 1.2020.13(Sat Jun 13 12:26:38 UTC 2020)\n",
       "(EPL source distribution)\n",
       "Java Runtime: OpenJDK Runtime Environment\n",
       "JVM: OpenJDK 64-Bit Server VM\n",
       "Default Encoding: UTF-8\n",
       "Language: en\n",
       "Country: null\n",
       "--></g></svg>"
      ]
     },
     "execution_count": 25,
     "metadata": {},
     "output_type": "execute_result"
    }
   ],
   "source": [
    "%viz --style=\"STDCOLOR\" --view=\"State\" \"ActionTest\""
   ]
  },
  {
   "cell_type": "code",
   "execution_count": 26,
   "id": "3a4a4255",
   "metadata": {
    "execution": {
     "iopub.execute_input": "2021-10-25T08:21:23.548202Z",
     "iopub.status.busy": "2021-10-25T08:21:23.547794Z",
     "iopub.status.idle": "2021-10-25T08:21:23.601073Z",
     "shell.execute_reply": "2021-10-25T08:21:23.599197Z"
    }
   },
   "outputs": [
    {
     "data": {
      "image/svg+xml": [
       "<?xml version=\"1.0\" encoding=\"UTF-8\" standalone=\"no\"?><svg xmlns=\"http://www.w3.org/2000/svg\" xmlns:xlink=\"http://www.w3.org/1999/xlink\" contentScriptType=\"application/ecmascript\" contentStyleType=\"text/css\" height=\"462px\" preserveAspectRatio=\"none\" style=\"width:530px;height:462px;\" version=\"1.1\" viewBox=\"0 0 530 462\" width=\"530px\" zoomAndPan=\"magnify\"><defs><filter height=\"300%\" id=\"fzj35o2p0mqi6\" width=\"300%\" x=\"-1\" y=\"-1\"><feGaussianBlur result=\"blurOut\" stdDeviation=\"2.0\"/><feColorMatrix in=\"blurOut\" result=\"blurOut2\" type=\"matrix\" values=\"0 0 0 0 0 0 0 0 0 0 0 0 0 0 0 0 0 0 .4 0\"/><feOffset dx=\"4.0\" dy=\"4.0\" in=\"blurOut2\" result=\"blurOut3\"/><feBlend in=\"SourceGraphic\" in2=\"blurOut3\" mode=\"normal\"/></filter></defs><g><!--MD5=[fbc87193dbaf4d95561dea2c320d4a47]\n",
       "cluster E1--><a href=\"psysml:b606a038-0c45-436f-a3a1-beef47fa0e17\" target=\"_top\" title=\"psysml:b606a038-0c45-436f-a3a1-beef47fa0e17\" xlink:actuate=\"onRequest\" xlink:href=\"psysml:b606a038-0c45-436f-a3a1-beef47fa0e17\" xlink:show=\"new\" xlink:title=\"psysml:b606a038-0c45-436f-a3a1-beef47fa0e17\" xlink:type=\"simple\"><polygon fill=\"#FFFFFF\" filter=\"url(#fzj35o2p0mqi6)\" points=\"16,6,96,6,103,28.2969,508,28.2969,508,450.5,16,450.5,16,6\" style=\"stroke: #000000; stroke-width: 1.5;\"/><line style=\"stroke: #000000; stroke-width: 1.5;\" x1=\"16\" x2=\"103\" y1=\"28.2969\" y2=\"28.2969\"/><text fill=\"#000000\" font-family=\"sans-serif\" font-size=\"14\" font-weight=\"bold\" lengthAdjust=\"spacingAndGlyphs\" textLength=\"74\" x=\"20\" y=\"20.9951\">ActionTest</text></a><!--MD5=[d5e69f78d87373223dbae638b30a9c99]\n",
       "cluster E3--><a href=\"psysml:69e16b91-de61-4fe2-8ebf-63b040d0687a\" target=\"_top\" title=\"psysml:69e16b91-de61-4fe2-8ebf-63b040d0687a\" xlink:actuate=\"onRequest\" xlink:href=\"psysml:69e16b91-de61-4fe2-8ebf-63b040d0687a\" xlink:show=\"new\" xlink:title=\"psysml:69e16b91-de61-4fe2-8ebf-63b040d0687a\" xlink:type=\"simple\"><rect fill=\"#FFFFFF\" filter=\"url(#fzj35o2p0mqi6)\" height=\"377.5\" id=\"E3\" rx=\"10\" ry=\"10\" style=\"stroke: #A80036; stroke-width: 1.5;\" width=\"209\" x=\"275\" y=\"49\"/><rect fill=\"#FEFECE\" height=\"37.9375\" rx=\"10\" ry=\"10\" style=\"stroke: #FEFECE; stroke-width: 1.5;\" width=\"209\" x=\"275\" y=\"49\"/><rect fill=\"#FEFECE\" height=\"10\" style=\"stroke: #FEFECE; stroke-width: 1.5;\" width=\"209\" x=\"275\" y=\"76.9375\"/><rect fill=\"none\" height=\"377.5\" id=\"E3\" rx=\"10\" ry=\"10\" style=\"stroke: #A80036; stroke-width: 1.5;\" width=\"209\" x=\"275\" y=\"49\"/><text fill=\"#000000\" font-family=\"sans-serif\" font-size=\"12\" font-style=\"italic\" lengthAdjust=\"spacingAndGlyphs\" textLength=\"53\" x=\"353\" y=\"65.1387\">«action»</text><text fill=\"#000000\" font-family=\"sans-serif\" font-size=\"12\" lengthAdjust=\"spacingAndGlyphs\" textLength=\"8\" x=\"375.5\" y=\"79.1074\">a</text><line style=\"stroke: #A80036; stroke-width: 1.0;\" x1=\"275\" x2=\"484\" y1=\"86.9375\" y2=\"86.9375\"/></a><g id=\"E1.E2\"><a href=\"psysml:f9329402-d9ed-482b-aa71-2e931e2796d7\" target=\"_top\" title=\"psysml:f9329402-d9ed-482b-aa71-2e931e2796d7\" xlink:actuate=\"onRequest\" xlink:href=\"psysml:f9329402-d9ed-482b-aa71-2e931e2796d7\" xlink:show=\"new\" xlink:title=\"psysml:f9329402-d9ed-482b-aa71-2e931e2796d7\" xlink:type=\"simple\"><rect fill=\"#FEFECE\" filter=\"url(#fzj35o2p0mqi6)\" height=\"42.9375\" id=\"E2\" style=\"stroke: #A80036; stroke-width: 1.5;\" width=\"104\" x=\"155\" y=\"88.5\"/><text fill=\"#000000\" font-family=\"sans-serif\" font-size=\"12\" font-style=\"italic\" lengthAdjust=\"spacingAndGlyphs\" textLength=\"97\" x=\"158.5\" y=\"104.6387\">«attribute  def»</text><text fill=\"#000000\" font-family=\"sans-serif\" font-size=\"12\" lengthAdjust=\"spacingAndGlyphs\" textLength=\"8\" x=\"203\" y=\"118.6074\">S</text></a></g><polygon fill=\"#FEFECE\" filter=\"url(#fzj35o2p0mqi6)\" points=\"432,148.5,444,160.5,432,172.5,420,160.5,432,148.5\" style=\"stroke: #A80036; stroke-width: 1.5;\"/><!--MD5=[21dd76c19d33815960c0e92fef8f0eef]\n",
       "entity E5--><a href=\"psysml:dcf8e234-4de8-4cb8-a947-17c2138066f0\" target=\"_top\" title=\"psysml:dcf8e234-4de8-4cb8-a947-17c2138066f0\" xlink:actuate=\"onRequest\" xlink:href=\"psysml:dcf8e234-4de8-4cb8-a947-17c2138066f0\" xlink:show=\"new\" xlink:title=\"psysml:dcf8e234-4de8-4cb8-a947-17c2138066f0\" xlink:type=\"simple\"><polygon fill=\"#FEFECE\" filter=\"url(#fzj35o2p0mqi6)\" points=\"291,189.5,291,244.0938,431,244.0938,411,216.7969,431,189.5\" style=\"stroke: #000000; stroke-width: 1.5;\"/><text fill=\"#000000\" font-family=\"sans-serif\" font-size=\"14\" font-style=\"italic\" lengthAdjust=\"spacingAndGlyphs\" textLength=\"111\" x=\"298\" y=\"212.4951\">«accept action»</text><text fill=\"#000000\" font-family=\"sans-serif\" font-size=\"14\" lengthAdjust=\"spacingAndGlyphs\" textLength=\"9\" x=\"349\" y=\"229.792\">S</text></a><!--MD5=[24d87cdf3002d433f401b2a2aa9f9f65]\n",
       "entity E6--><a href=\"psysml:18c3d457-6bb3-4962-a480-0e1b2254a09a\" target=\"_top\" title=\"psysml:18c3d457-6bb3-4962-a480-0e1b2254a09a\" xlink:actuate=\"onRequest\" xlink:href=\"psysml:18c3d457-6bb3-4962-a480-0e1b2254a09a\" xlink:show=\"new\" xlink:title=\"psysml:18c3d457-6bb3-4962-a480-0e1b2254a09a\" xlink:type=\"simple\"><polygon fill=\"#FEFECE\" filter=\"url(#fzj35o2p0mqi6)\" points=\"291,277.5,291,332.0938,399,332.0938,419,304.7969,399,277.5\" style=\"stroke: #000000; stroke-width: 1.5;\"/><text fill=\"#000000\" font-family=\"sans-serif\" font-size=\"14\" font-style=\"italic\" lengthAdjust=\"spacingAndGlyphs\" textLength=\"99\" x=\"298\" y=\"300.4951\">«send action»</text><text fill=\"#000000\" font-family=\"sans-serif\" font-size=\"14\" lengthAdjust=\"spacingAndGlyphs\" textLength=\"65\" x=\"315\" y=\"317.792\">S() to  B()</text></a><polygon fill=\"#FEFECE\" filter=\"url(#fzj35o2p0mqi6)\" points=\"430,349.5,442,361.5,430,373.5,418,361.5,430,349.5\" style=\"stroke: #A80036; stroke-width: 1.5;\"/><ellipse cx=\"432\" cy=\"110\" fill=\"#000000\" filter=\"url(#fzj35o2p0mqi6)\" rx=\"10\" ry=\"10\" style=\"stroke: none; stroke-width: 1.0;\"/><ellipse cx=\"430\" cy=\"400.5\" fill=\"none\" filter=\"url(#fzj35o2p0mqi6)\" rx=\"10\" ry=\"10\" style=\"stroke: #000000; stroke-width: 1.0;\"/><ellipse cx=\"430.5\" cy=\"401\" fill=\"#000000\" rx=\"6\" ry=\"6\" style=\"stroke: none; stroke-width: 1.0;\"/><g id=\"E1.E8\"><a href=\"psysml:530e5343-b7af-483f-85a0-93ec425d0302\" target=\"_top\" title=\"psysml:530e5343-b7af-483f-85a0-93ec425d0302\" xlink:actuate=\"onRequest\" xlink:href=\"psysml:530e5343-b7af-483f-85a0-93ec425d0302\" xlink:show=\"new\" xlink:title=\"psysml:530e5343-b7af-483f-85a0-93ec425d0302\" xlink:type=\"simple\"><rect fill=\"#FEFECE\" filter=\"url(#fzj35o2p0mqi6)\" height=\"42.9375\" id=\"E8\" style=\"stroke: #A80036; stroke-width: 1.5;\" width=\"88\" x=\"32\" y=\"88.5\"/><text fill=\"#000000\" font-family=\"sans-serif\" font-size=\"12\" font-style=\"italic\" lengthAdjust=\"spacingAndGlyphs\" textLength=\"81\" x=\"35.5\" y=\"104.6387\">«action  def»</text><text fill=\"#000000\" font-family=\"sans-serif\" font-size=\"12\" lengthAdjust=\"spacingAndGlyphs\" textLength=\"8\" x=\"72\" y=\"118.6074\">B</text></a></g><!--MD5=[f47e10efcf9a6752d55dae986d790ed9]\n",
       "link *start*E3 to E4--><a href=\"psysml:8ec85343-59fa-499c-a77c-a2bbf8c30a9c\" target=\"_top\" title=\"psysml:8ec85343-59fa-499c-a77c-a2bbf8c30a9c\" xlink:actuate=\"onRequest\" xlink:href=\"psysml:8ec85343-59fa-499c-a77c-a2bbf8c30a9c\" xlink:show=\"new\" xlink:title=\"psysml:8ec85343-59fa-499c-a77c-a2bbf8c30a9c\" xlink:type=\"simple\"><path d=\"M432,120.35 C432,126.88 432,135.77 432,143.42 \" fill=\"none\" id=\"*start*E3-&gt;E4\" style=\"stroke: #A80036; stroke-width: 1.0;\"/><polygon fill=\"#A80036\" points=\"432,148.48,436,139.48,432,143.48,428,139.48,432,148.48\" style=\"stroke: #A80036; stroke-width: 1.0;\"/></a><!--MD5=[d19f2eb34364d71b67042106d92f540b]\n",
       "link E7 to *end*E3--><a href=\"psysml:0d9f4e26-bf93-4aba-a8c6-6dafeae60007\" target=\"_top\" title=\"psysml:0d9f4e26-bf93-4aba-a8c6-6dafeae60007\" xlink:actuate=\"onRequest\" xlink:href=\"psysml:0d9f4e26-bf93-4aba-a8c6-6dafeae60007\" xlink:show=\"new\" xlink:title=\"psysml:0d9f4e26-bf93-4aba-a8c6-6dafeae60007\" xlink:type=\"simple\"><path d=\"M430,373.8 C430,377.34 430,381.3 430,385.03 \" fill=\"none\" id=\"E7-&gt;*end*E3\" style=\"stroke: #A80036; stroke-width: 1.0;\"/><polygon fill=\"#A80036\" points=\"430,390.25,434,381.25,430,385.25,426,381.25,430,390.25\" style=\"stroke: #A80036; stroke-width: 1.0;\"/></a><!--MD5=[1b7591eae5389033d8d09a9d6721a717]\n",
       "link E4 to E5--><a href=\"psysml:0f743cc2-6e19-41e4-aad8-79cb567e3158\" target=\"_top\" title=\"psysml:0f743cc2-6e19-41e4-aad8-79cb567e3158\" xlink:actuate=\"onRequest\" xlink:href=\"psysml:0f743cc2-6e19-41e4-aad8-79cb567e3158\" xlink:show=\"new\" xlink:title=\"psysml:0f743cc2-6e19-41e4-aad8-79cb567e3158\" xlink:type=\"simple\"><path d=\"M425.45,166.53 C419.33,171.23 409.65,178.66 399.64,186.34 \" fill=\"none\" id=\"E4-&gt;E5\" style=\"stroke: #A80036; stroke-width: 1.0;\"/><polygon fill=\"#A80036\" points=\"395.64,189.41,405.2129,187.0948,399.6037,186.3621,400.3363,180.7529,395.64,189.41\" style=\"stroke: #A80036; stroke-width: 1.0;\"/><text fill=\"#000000\" font-family=\"sans-serif\" font-size=\"13\" lengthAdjust=\"spacingAndGlyphs\" textLength=\"7\" x=\"395.8411\" y=\"178.4247\">*</text></a><!--MD5=[9120cf2e5df3bff93db8f754bbbc09b4]\n",
       "link E5 to E6--><a href=\"psysml:3404b4e6-fa1c-4cf0-a87f-a7f8eafbc3bc\" target=\"_top\" title=\"psysml:3404b4e6-fa1c-4cf0-a87f-a7f8eafbc3bc\" xlink:actuate=\"onRequest\" xlink:href=\"psysml:3404b4e6-fa1c-4cf0-a87f-a7f8eafbc3bc\" xlink:show=\"new\" xlink:title=\"psysml:3404b4e6-fa1c-4cf0-a87f-a7f8eafbc3bc\" xlink:type=\"simple\"><path d=\"M359.13,244.74 C358.53,253.4 357.85,263.08 357.23,272.08 \" fill=\"none\" id=\"E5-&gt;E6\" style=\"stroke: #A80036; stroke-width: 1.0;\"/><polygon fill=\"#A80036\" points=\"356.86,277.28,361.468,268.5756,357.203,272.2918,353.4869,268.0268,356.86,277.28\" style=\"stroke: #A80036; stroke-width: 1.0;\"/><text fill=\"#000000\" font-family=\"sans-serif\" font-size=\"13\" lengthAdjust=\"spacingAndGlyphs\" textLength=\"7\" x=\"349.4808\" y=\"266.2646\">*</text></a><!--MD5=[02c70b7c851c11e3980e4e90450dc5dd]\n",
       "link E6 to E7--><a href=\"psysml:a56f0975-9bdd-4db4-ac34-32a8d14536cf\" target=\"_top\" title=\"psysml:a56f0975-9bdd-4db4-ac34-32a8d14536cf\" xlink:actuate=\"onRequest\" xlink:href=\"psysml:a56f0975-9bdd-4db4-ac34-32a8d14536cf\" xlink:show=\"new\" xlink:title=\"psysml:a56f0975-9bdd-4db4-ac34-32a8d14536cf\" xlink:type=\"simple\"><path d=\"M391.62,332.61 C401.72,339.95 411.91,347.35 419.24,352.68 \" fill=\"none\" id=\"E6-&gt;E7\" style=\"stroke: #A80036; stroke-width: 1.0;\"/><polygon fill=\"#A80036\" points=\"423.42,355.72,418.4976,347.1894,419.3776,352.7774,413.7896,353.6574,423.42,355.72\" style=\"stroke: #A80036; stroke-width: 1.0;\"/><text fill=\"#000000\" font-family=\"sans-serif\" font-size=\"13\" lengthAdjust=\"spacingAndGlyphs\" textLength=\"7\" x=\"405.584\" y=\"338.5823\">*</text></a><!--MD5=[6bdd27f9905911a7e892a3dc65cf6b7c]\n",
       "link E7 to E4--><a href=\"psysml:2a79c4d0-9744-4107-95b5-d9c642bb083b\" target=\"_top\" title=\"psysml:2a79c4d0-9744-4107-95b5-d9c642bb083b\" xlink:actuate=\"onRequest\" xlink:href=\"psysml:2a79c4d0-9744-4107-95b5-d9c642bb083b\" xlink:show=\"new\" xlink:title=\"psysml:2a79c4d0-9744-4107-95b5-d9c642bb083b\" xlink:type=\"simple\"><path d=\"M433,352.49 C441.84,327.73 466.06,250.48 449,189.5 C447.26,183.29 443.73,177.1 440.34,172.12 \" fill=\"none\" id=\"E7-&gt;E4\" style=\"stroke: #A80036; stroke-width: 1.0;\"/><polygon fill=\"#A80036\" points=\"437.31,167.92,439.3342,177.5586,440.2364,171.9741,445.8209,172.8763,437.31,167.92\" style=\"stroke: #A80036; stroke-width: 1.0;\"/><text fill=\"#000000\" font-family=\"sans-serif\" font-size=\"13\" lengthAdjust=\"spacingAndGlyphs\" textLength=\"36\" x=\"455\" y=\"265.5669\">[true]</text><text fill=\"#000000\" font-family=\"sans-serif\" font-size=\"13\" lengthAdjust=\"spacingAndGlyphs\" textLength=\"7\" x=\"438.8853\" y=\"189.5917\">*</text></a><!--MD5=[99556f6c148f5f79e8a965670d591108]\n",
       "@startuml\r\n",
       "skinparam ranksep 10\r\n",
       "skinparam rectangle {\r\n",
       " backgroundColor<<block>> LightGreen\r\n",
       "}\r\n",
       "skinparam wrapWidth 300\r\n",
       "hide circle\r\n",
       "\r\n",
       "package \"ActionTest\" as E1  [[psysml:b606a038-0c45-436f-a3a1-beef47fa0e17 ]]  {\r\n",
       "def \"S\" as E2  <<(T,blue) attribute  def>> [[psysml:f9329402-d9ed-482b-aa71-2e931e2796d7 ]] \r\n",
       "rec usage \"a\" as E3  <<(T,blue) action>> [[psysml:69e16b91-de61-4fe2-8ebf-63b040d0687a ]] {\r\n",
       "choice \"m\" as E4  [[psysml:ba661374-e1ab-49de-aa21-c62362c65829 ]] \r\n",
       "accept \" S\" as E5 << accept action>> [[psysml:dcf8e234-4de8-4cb8-a947-17c2138066f0 ]] \r\n",
       "send \" S() to  B()\" as E6 << send action>> [[psysml:18c3d457-6bb3-4962-a480-0e1b2254a09a ]] \r\n",
       "choice \"<s>noname</s>\" as E7  [[psysml:1cf4a57b-2f41-48db-bb2e-4817b665eacc ]] \r\n",
       "[*] - -> E4 [[psysml:8ec85343-59fa-499c-a77c-a2bbf8c30a9c ]] \r\n",
       "E7  - -> [*] [[psysml:0d9f4e26-bf93-4aba-a8c6-6dafeae60007 ]] \r\n",
       "}\r\n",
       "\r\n",
       "rec def \"B\" as E8  <<(T,blue) action  def>> [[psysml:530e5343-b7af-483f-85a0-93ec425d0302 ]] {\r\n",
       "}\r\n",
       "\r\n",
       "}\r\n",
       "E4 - -> \"*\"E5 [[psysml:0f743cc2-6e19-41e4-aad8-79cb567e3158 ]] \r\n",
       "E5 - -> \"*\"E6 [[psysml:3404b4e6-fa1c-4cf0-a87f-a7f8eafbc3bc ]] \r\n",
       "E6 - -> \"*\"E7 [[psysml:a56f0975-9bdd-4db4-ac34-32a8d14536cf ]] \r\n",
       "E7  - -> \"*\"E4 [[psysml:2a79c4d0-9744-4107-95b5-d9c642bb083b ]] : [true]\r\n",
       "@enduml\r\n",
       "\n",
       "PlantUML version 1.2020.13(Sat Jun 13 12:26:38 UTC 2020)\n",
       "(EPL source distribution)\n",
       "Java Runtime: OpenJDK Runtime Environment\n",
       "JVM: OpenJDK 64-Bit Server VM\n",
       "Default Encoding: UTF-8\n",
       "Language: en\n",
       "Country: null\n",
       "--></g></svg>"
      ]
     },
     "execution_count": 26,
     "metadata": {},
     "output_type": "execute_result"
    }
   ],
   "source": [
    "%viz --style=\"STDCOLOR\" --view=\"Interconnection\" \"ActionTest\""
   ]
  },
  {
   "cell_type": "code",
   "execution_count": 27,
   "id": "081f7440",
   "metadata": {
    "execution": {
     "iopub.execute_input": "2021-10-25T08:21:23.650209Z",
     "iopub.status.busy": "2021-10-25T08:21:23.649792Z",
     "iopub.status.idle": "2021-10-25T08:21:23.685515Z",
     "shell.execute_reply": "2021-10-25T08:21:23.683683Z"
    }
   },
   "outputs": [
    {
     "data": {
      "image/svg+xml": [
       "<?xml version=\"1.0\" encoding=\"UTF-8\" standalone=\"no\"?><svg xmlns=\"http://www.w3.org/2000/svg\" xmlns:xlink=\"http://www.w3.org/1999/xlink\" contentScriptType=\"application/ecmascript\" contentStyleType=\"text/css\" height=\"403px\" preserveAspectRatio=\"none\" style=\"width:339px;height:403px;\" version=\"1.1\" viewBox=\"0 0 339 403\" width=\"339px\" zoomAndPan=\"magnify\"><defs><filter height=\"300%\" id=\"fcoa3cj09h2if\" width=\"300%\" x=\"-1\" y=\"-1\"><feGaussianBlur result=\"blurOut\" stdDeviation=\"2.0\"/><feColorMatrix in=\"blurOut\" result=\"blurOut2\" type=\"matrix\" values=\"0 0 0 0 0 0 0 0 0 0 0 0 0 0 0 0 0 0 .4 0\"/><feOffset dx=\"4.0\" dy=\"4.0\" in=\"blurOut2\" result=\"blurOut3\"/><feBlend in=\"SourceGraphic\" in2=\"blurOut3\" mode=\"normal\"/></filter></defs><g><!--MD5=[fbc87193dbaf4d95561dea2c320d4a47]\n",
       "cluster E1--><a href=\"psysml:69e16b91-de61-4fe2-8ebf-63b040d0687a\" target=\"_top\" title=\"psysml:69e16b91-de61-4fe2-8ebf-63b040d0687a\" xlink:actuate=\"onRequest\" xlink:href=\"psysml:69e16b91-de61-4fe2-8ebf-63b040d0687a\" xlink:show=\"new\" xlink:title=\"psysml:69e16b91-de61-4fe2-8ebf-63b040d0687a\" xlink:type=\"simple\"><rect fill=\"#FFFFFF\" filter=\"url(#fcoa3cj09h2if)\" height=\"377.5\" id=\"E1\" rx=\"10\" ry=\"10\" style=\"stroke: #A80036; stroke-width: 1.5;\" width=\"209\" x=\"111\" y=\"7\"/><rect fill=\"#FEFECE\" height=\"37.9375\" rx=\"10\" ry=\"10\" style=\"stroke: #FEFECE; stroke-width: 1.5;\" width=\"209\" x=\"111\" y=\"7\"/><rect fill=\"#FEFECE\" height=\"10\" style=\"stroke: #FEFECE; stroke-width: 1.5;\" width=\"209\" x=\"111\" y=\"34.9375\"/><rect fill=\"none\" height=\"377.5\" id=\"E1\" rx=\"10\" ry=\"10\" style=\"stroke: #A80036; stroke-width: 1.5;\" width=\"209\" x=\"111\" y=\"7\"/><text fill=\"#000000\" font-family=\"sans-serif\" font-size=\"12\" font-style=\"italic\" lengthAdjust=\"spacingAndGlyphs\" textLength=\"53\" x=\"189\" y=\"23.1387\">«action»</text><text fill=\"#000000\" font-family=\"sans-serif\" font-size=\"12\" lengthAdjust=\"spacingAndGlyphs\" textLength=\"8\" x=\"211.5\" y=\"37.1074\">a</text><line style=\"stroke: #A80036; stroke-width: 1.0;\" x1=\"111\" x2=\"320\" y1=\"44.9375\" y2=\"44.9375\"/></a><polygon fill=\"#FEFECE\" filter=\"url(#fcoa3cj09h2if)\" points=\"268,106.5,280,118.5,268,130.5,256,118.5,268,106.5\" style=\"stroke: #A80036; stroke-width: 1.5;\"/><!--MD5=[a60fb756f580feb9fd8e2cf1329b5c91]\n",
       "entity E3--><a href=\"psysml:dcf8e234-4de8-4cb8-a947-17c2138066f0\" target=\"_top\" title=\"psysml:dcf8e234-4de8-4cb8-a947-17c2138066f0\" xlink:actuate=\"onRequest\" xlink:href=\"psysml:dcf8e234-4de8-4cb8-a947-17c2138066f0\" xlink:show=\"new\" xlink:title=\"psysml:dcf8e234-4de8-4cb8-a947-17c2138066f0\" xlink:type=\"simple\"><polygon fill=\"#FEFECE\" filter=\"url(#fcoa3cj09h2if)\" points=\"127,147.5,127,202.0938,267,202.0938,247,174.7969,267,147.5\" style=\"stroke: #000000; stroke-width: 1.5;\"/><text fill=\"#000000\" font-family=\"sans-serif\" font-size=\"14\" font-style=\"italic\" lengthAdjust=\"spacingAndGlyphs\" textLength=\"111\" x=\"134\" y=\"170.4951\">«accept action»</text><text fill=\"#000000\" font-family=\"sans-serif\" font-size=\"14\" lengthAdjust=\"spacingAndGlyphs\" textLength=\"9\" x=\"185\" y=\"187.792\">S</text></a><!--MD5=[961cefdc15414eaa3e87aec9d17c2188]\n",
       "entity E4--><a href=\"psysml:18c3d457-6bb3-4962-a480-0e1b2254a09a\" target=\"_top\" title=\"psysml:18c3d457-6bb3-4962-a480-0e1b2254a09a\" xlink:actuate=\"onRequest\" xlink:href=\"psysml:18c3d457-6bb3-4962-a480-0e1b2254a09a\" xlink:show=\"new\" xlink:title=\"psysml:18c3d457-6bb3-4962-a480-0e1b2254a09a\" xlink:type=\"simple\"><polygon fill=\"#FEFECE\" filter=\"url(#fcoa3cj09h2if)\" points=\"127,235.5,127,290.0938,235,290.0938,255,262.7969,235,235.5\" style=\"stroke: #000000; stroke-width: 1.5;\"/><text fill=\"#000000\" font-family=\"sans-serif\" font-size=\"14\" font-style=\"italic\" lengthAdjust=\"spacingAndGlyphs\" textLength=\"99\" x=\"134\" y=\"258.4951\">«send action»</text><text fill=\"#000000\" font-family=\"sans-serif\" font-size=\"14\" lengthAdjust=\"spacingAndGlyphs\" textLength=\"65\" x=\"151\" y=\"275.792\">S() to  B()</text></a><polygon fill=\"#FEFECE\" filter=\"url(#fcoa3cj09h2if)\" points=\"266,307.5,278,319.5,266,331.5,254,319.5,266,307.5\" style=\"stroke: #A80036; stroke-width: 1.5;\"/><ellipse cx=\"268\" cy=\"68\" fill=\"#000000\" filter=\"url(#fcoa3cj09h2if)\" rx=\"10\" ry=\"10\" style=\"stroke: none; stroke-width: 1.0;\"/><ellipse cx=\"266\" cy=\"358.5\" fill=\"none\" filter=\"url(#fcoa3cj09h2if)\" rx=\"10\" ry=\"10\" style=\"stroke: #000000; stroke-width: 1.0;\"/><ellipse cx=\"266.5\" cy=\"359\" fill=\"#000000\" rx=\"6\" ry=\"6\" style=\"stroke: none; stroke-width: 1.0;\"/><g id=\"E6\"><a href=\"psysml:530e5343-b7af-483f-85a0-93ec425d0302\" target=\"_top\" title=\"psysml:530e5343-b7af-483f-85a0-93ec425d0302\" xlink:actuate=\"onRequest\" xlink:href=\"psysml:530e5343-b7af-483f-85a0-93ec425d0302\" xlink:show=\"new\" xlink:title=\"psysml:530e5343-b7af-483f-85a0-93ec425d0302\" xlink:type=\"simple\"><rect fill=\"#FEFECE\" filter=\"url(#fcoa3cj09h2if)\" height=\"42.9375\" id=\"E6\" style=\"stroke: #A80036; stroke-width: 1.5;\" width=\"88\" x=\"7\" y=\"46.5\"/><text fill=\"#000000\" font-family=\"sans-serif\" font-size=\"12\" font-style=\"italic\" lengthAdjust=\"spacingAndGlyphs\" textLength=\"81\" x=\"10.5\" y=\"62.6387\">«action  def»</text><text fill=\"#000000\" font-family=\"sans-serif\" font-size=\"12\" lengthAdjust=\"spacingAndGlyphs\" textLength=\"8\" x=\"47\" y=\"76.6074\">B</text></a></g><!--MD5=[cff944eb183b832d446717a4e202d613]\n",
       "link *start*E1 to E2--><a href=\"psysml:8ec85343-59fa-499c-a77c-a2bbf8c30a9c\" target=\"_top\" title=\"psysml:8ec85343-59fa-499c-a77c-a2bbf8c30a9c\" xlink:actuate=\"onRequest\" xlink:href=\"psysml:8ec85343-59fa-499c-a77c-a2bbf8c30a9c\" xlink:show=\"new\" xlink:title=\"psysml:8ec85343-59fa-499c-a77c-a2bbf8c30a9c\" xlink:type=\"simple\"><path d=\"M268,78.35 C268,84.88 268,93.77 268,101.42 \" fill=\"none\" id=\"*start*E1-&gt;E2\" style=\"stroke: #A80036; stroke-width: 1.0; stroke-dasharray: 7.0,7.0;\"/><polygon fill=\"#A80036\" points=\"268,106.48,272,97.48,268,101.48,264,97.48,268,106.48\" style=\"stroke: #A80036; stroke-width: 1.0;\"/></a><!--MD5=[7fc47fc0d107820853a137871ad908c8]\n",
       "link E5 to *end*E1--><a href=\"psysml:0d9f4e26-bf93-4aba-a8c6-6dafeae60007\" target=\"_top\" title=\"psysml:0d9f4e26-bf93-4aba-a8c6-6dafeae60007\" xlink:actuate=\"onRequest\" xlink:href=\"psysml:0d9f4e26-bf93-4aba-a8c6-6dafeae60007\" xlink:show=\"new\" xlink:title=\"psysml:0d9f4e26-bf93-4aba-a8c6-6dafeae60007\" xlink:type=\"simple\"><path d=\"M266,331.8 C266,335.34 266,339.3 266,343.03 \" fill=\"none\" id=\"E5-&gt;*end*E1\" style=\"stroke: #A80036; stroke-width: 1.0; stroke-dasharray: 7.0,7.0;\"/><polygon fill=\"#A80036\" points=\"266,348.25,270,339.25,266,343.25,262,339.25,266,348.25\" style=\"stroke: #A80036; stroke-width: 1.0;\"/></a><!--MD5=[2720a5a1f2c3fca2055b230370638851]\n",
       "link E2 to E3--><a href=\"psysml:0f743cc2-6e19-41e4-aad8-79cb567e3158\" target=\"_top\" title=\"psysml:0f743cc2-6e19-41e4-aad8-79cb567e3158\" xlink:actuate=\"onRequest\" xlink:href=\"psysml:0f743cc2-6e19-41e4-aad8-79cb567e3158\" xlink:show=\"new\" xlink:title=\"psysml:0f743cc2-6e19-41e4-aad8-79cb567e3158\" xlink:type=\"simple\"><path d=\"M261.45,124.53 C255.33,129.23 245.65,136.66 235.64,144.34 \" fill=\"none\" id=\"E2-&gt;E3\" style=\"stroke: #A80036; stroke-width: 1.0; stroke-dasharray: 7.0,7.0;\"/><polygon fill=\"#A80036\" points=\"231.64,147.41,241.2129,145.0948,235.6037,144.3621,236.3363,138.7529,231.64,147.41\" style=\"stroke: #A80036; stroke-width: 1.0;\"/></a><!--MD5=[af87c684e3b0d8be13c1a698a818ef1e]\n",
       "link E3 to E4--><a href=\"psysml:3404b4e6-fa1c-4cf0-a87f-a7f8eafbc3bc\" target=\"_top\" title=\"psysml:3404b4e6-fa1c-4cf0-a87f-a7f8eafbc3bc\" xlink:actuate=\"onRequest\" xlink:href=\"psysml:3404b4e6-fa1c-4cf0-a87f-a7f8eafbc3bc\" xlink:show=\"new\" xlink:title=\"psysml:3404b4e6-fa1c-4cf0-a87f-a7f8eafbc3bc\" xlink:type=\"simple\"><path d=\"M195.13,202.74 C194.53,211.4 193.85,221.08 193.23,230.08 \" fill=\"none\" id=\"E3-&gt;E4\" style=\"stroke: #A80036; stroke-width: 1.0; stroke-dasharray: 7.0,7.0;\"/><polygon fill=\"#A80036\" points=\"192.86,235.28,197.468,226.5756,193.203,230.2918,189.4869,226.0268,192.86,235.28\" style=\"stroke: #A80036; stroke-width: 1.0;\"/></a><!--MD5=[1b7591eae5389033d8d09a9d6721a717]\n",
       "link E4 to E5--><a href=\"psysml:a56f0975-9bdd-4db4-ac34-32a8d14536cf\" target=\"_top\" title=\"psysml:a56f0975-9bdd-4db4-ac34-32a8d14536cf\" xlink:actuate=\"onRequest\" xlink:href=\"psysml:a56f0975-9bdd-4db4-ac34-32a8d14536cf\" xlink:show=\"new\" xlink:title=\"psysml:a56f0975-9bdd-4db4-ac34-32a8d14536cf\" xlink:type=\"simple\"><path d=\"M227.62,290.61 C237.72,297.95 247.91,305.35 255.24,310.68 \" fill=\"none\" id=\"E4-&gt;E5\" style=\"stroke: #A80036; stroke-width: 1.0; stroke-dasharray: 7.0,7.0;\"/><polygon fill=\"#A80036\" points=\"259.42,313.72,254.4976,305.1894,255.3776,310.7774,249.7896,311.6574,259.42,313.72\" style=\"stroke: #A80036; stroke-width: 1.0;\"/></a><!--MD5=[15ebcb19ae302d9b601edb458606d402]\n",
       "link E5 to E2--><a href=\"psysml:2a79c4d0-9744-4107-95b5-d9c642bb083b\" target=\"_top\" title=\"psysml:2a79c4d0-9744-4107-95b5-d9c642bb083b\" xlink:actuate=\"onRequest\" xlink:href=\"psysml:2a79c4d0-9744-4107-95b5-d9c642bb083b\" xlink:show=\"new\" xlink:title=\"psysml:2a79c4d0-9744-4107-95b5-d9c642bb083b\" xlink:type=\"simple\"><path d=\"M269,310.49 C277.84,285.73 302.06,208.48 285,147.5 C283.26,141.29 279.73,135.1 276.34,130.12 \" fill=\"none\" id=\"E5-&gt;E2\" style=\"stroke: #A80036; stroke-width: 1.0; stroke-dasharray: 7.0,7.0;\"/><polygon fill=\"#A80036\" points=\"273.31,125.92,275.3342,135.5586,276.2364,129.9741,281.8209,130.8763,273.31,125.92\" style=\"stroke: #A80036; stroke-width: 1.0;\"/><text fill=\"#000000\" font-family=\"sans-serif\" font-size=\"13\" lengthAdjust=\"spacingAndGlyphs\" textLength=\"36\" x=\"291\" y=\"223.5669\">[true]</text></a><!--MD5=[260106e7f955aec80f2b3488b6cdfefa]\n",
       "@startuml\r\n",
       "skinparam ranksep 8\r\n",
       "skinparam wrapWidth 300\r\n",
       "hide circle\r\n",
       "\r\n",
       "rec usage \"a\" as E1  <<(T,blue) action>> [[psysml:69e16b91-de61-4fe2-8ebf-63b040d0687a ]] {\r\n",
       "choice \"m\" as E2  [[psysml:ba661374-e1ab-49de-aa21-c62362c65829 ]] \r\n",
       "accept \" S\" as E3 << accept action>> [[psysml:dcf8e234-4de8-4cb8-a947-17c2138066f0 ]] \r\n",
       "send \" S() to  B()\" as E4 << send action>> [[psysml:18c3d457-6bb3-4962-a480-0e1b2254a09a ]] \r\n",
       "choice \"<s>noname</s>\" as E5  [[psysml:1cf4a57b-2f41-48db-bb2e-4817b665eacc ]] \r\n",
       "[*] ..> E2 [[psysml:8ec85343-59fa-499c-a77c-a2bbf8c30a9c ]] \r\n",
       "E5 ..> [*] [[psysml:0d9f4e26-bf93-4aba-a8c6-6dafeae60007 ]] \r\n",
       "}\r\n",
       "\r\n",
       "E2 ..> E3 [[psysml:0f743cc2-6e19-41e4-aad8-79cb567e3158 ]] \r\n",
       "E3 ..> E4 [[psysml:3404b4e6-fa1c-4cf0-a87f-a7f8eafbc3bc ]] \r\n",
       "E4 ..> E5 [[psysml:a56f0975-9bdd-4db4-ac34-32a8d14536cf ]] \r\n",
       "E5 ..> E2 [[psysml:2a79c4d0-9744-4107-95b5-d9c642bb083b ]] : [true]\r\n",
       "rec def \"B\" as E6  <<(T,blue) action  def>> [[psysml:530e5343-b7af-483f-85a0-93ec425d0302 ]] {\r\n",
       "}\r\n",
       "\r\n",
       "@enduml\r\n",
       "\n",
       "PlantUML version 1.2020.13(Sat Jun 13 12:26:38 UTC 2020)\n",
       "(EPL source distribution)\n",
       "Java Runtime: OpenJDK Runtime Environment\n",
       "JVM: OpenJDK 64-Bit Server VM\n",
       "Default Encoding: UTF-8\n",
       "Language: en\n",
       "Country: null\n",
       "--></g></svg>"
      ]
     },
     "execution_count": 27,
     "metadata": {},
     "output_type": "execute_result"
    }
   ],
   "source": [
    "%viz --style=\"STDCOLOR\" --view=\"Action\" \"ActionTest\""
   ]
  },
  {
   "cell_type": "code",
   "execution_count": 28,
   "id": "a8700e1f",
   "metadata": {
    "execution": {
     "iopub.execute_input": "2021-10-25T08:21:23.734481Z",
     "iopub.status.busy": "2021-10-25T08:21:23.734056Z",
     "iopub.status.idle": "2021-10-25T08:21:23.738598Z",
     "shell.execute_reply": "2021-10-25T08:21:23.738241Z"
    }
   },
   "outputs": [
    {
     "data": {
      "image/svg+xml": [
       "<?xml version=\"1.0\" encoding=\"UTF-8\" standalone=\"no\"?><svg xmlns=\"http://www.w3.org/2000/svg\" xmlns:xlink=\"http://www.w3.org/1999/xlink\" contentScriptType=\"application/ecmascript\" contentStyleType=\"text/css\" height=\"12px\" preserveAspectRatio=\"none\" style=\"width:12px;height:12px;\" version=\"1.1\" viewBox=\"0 0 12 12\" width=\"12px\" zoomAndPan=\"magnify\"><defs/><g><!--MD5=[6c4bca67b4d71758159a5a7f1f1e1fc2]\n",
       "@startuml\r\n",
       "skinparam roundcorner 20\r\n",
       "skinparam BoxPadding 20\r\n",
       "skinparam SequenceBoxBackgroundColor #white\r\n",
       "skinparam style strictuml\r\n",
       "skinparam maxMessageSize 100\r\n",
       "skinparam wrapWidth 300\r\n",
       "hide circle\r\n",
       "\r\n",
       "@enduml\r\n",
       "\n",
       "PlantUML version 1.2020.13(Sat Jun 13 12:26:38 UTC 2020)\n",
       "(EPL source distribution)\n",
       "Java Runtime: OpenJDK Runtime Environment\n",
       "JVM: OpenJDK 64-Bit Server VM\n",
       "Default Encoding: UTF-8\n",
       "Language: en\n",
       "Country: null\n",
       "--></g></svg>"
      ]
     },
     "execution_count": 28,
     "metadata": {},
     "output_type": "execute_result"
    }
   ],
   "source": [
    "%viz --style=\"STDCOLOR\" --view=\"Sequence\" \"ActionTest\""
   ]
  },
  {
   "cell_type": "code",
   "execution_count": 29,
   "id": "8bdf7c2f",
   "metadata": {
    "execution": {
     "iopub.execute_input": "2021-10-25T08:21:23.788249Z",
     "iopub.status.busy": "2021-10-25T08:21:23.787829Z",
     "iopub.status.idle": "2021-10-25T08:21:23.819618Z",
     "shell.execute_reply": "2021-10-25T08:21:23.817770Z"
    }
   },
   "outputs": [
    {
     "data": {
      "image/svg+xml": [
       "<?xml version=\"1.0\" encoding=\"UTF-8\" standalone=\"no\"?><svg xmlns=\"http://www.w3.org/2000/svg\" xmlns:xlink=\"http://www.w3.org/1999/xlink\" contentScriptType=\"application/ecmascript\" contentStyleType=\"text/css\" height=\"684px\" preserveAspectRatio=\"none\" style=\"width:526px;height:684px;\" version=\"1.1\" viewBox=\"0 0 526 684\" width=\"526px\" zoomAndPan=\"magnify\"><defs><filter height=\"300%\" id=\"fv4mzj16hwl25\" width=\"300%\" x=\"-1\" y=\"-1\"><feGaussianBlur result=\"blurOut\" stdDeviation=\"2.0\"/><feColorMatrix in=\"blurOut\" result=\"blurOut2\" type=\"matrix\" values=\"0 0 0 0 0 0 0 0 0 0 0 0 0 0 0 0 0 0 .4 0\"/><feOffset dx=\"4.0\" dy=\"4.0\" in=\"blurOut2\" result=\"blurOut3\"/><feBlend in=\"SourceGraphic\" in2=\"blurOut3\" mode=\"normal\"/></filter></defs><g><!--MD5=[fbc87193dbaf4d95561dea2c320d4a47]\n",
       "cluster E1--><a href=\"psysml:b606a038-0c45-436f-a3a1-beef47fa0e17\" target=\"_top\" title=\"psysml:b606a038-0c45-436f-a3a1-beef47fa0e17\" xlink:actuate=\"onRequest\" xlink:href=\"psysml:b606a038-0c45-436f-a3a1-beef47fa0e17\" xlink:show=\"new\" xlink:title=\"psysml:b606a038-0c45-436f-a3a1-beef47fa0e17\" xlink:type=\"simple\"><polygon fill=\"#FFFFFF\" filter=\"url(#fv4mzj16hwl25)\" points=\"16,6,96,6,103,28.2969,504,28.2969,504,672,16,672,16,6\" style=\"stroke: #000000; stroke-width: 1.5;\"/><line style=\"stroke: #000000; stroke-width: 1.5;\" x1=\"16\" x2=\"103\" y1=\"28.2969\" y2=\"28.2969\"/><text fill=\"#000000\" font-family=\"sans-serif\" font-size=\"14\" font-weight=\"bold\" lengthAdjust=\"spacingAndGlyphs\" textLength=\"74\" x=\"20\" y=\"20.9951\">ActionTest</text></a><!--MD5=[d5e69f78d87373223dbae638b30a9c99]\n",
       "cluster E3--><a href=\"psysml:69e16b91-de61-4fe2-8ebf-63b040d0687a\" target=\"_top\" title=\"psysml:69e16b91-de61-4fe2-8ebf-63b040d0687a\" xlink:actuate=\"onRequest\" xlink:href=\"psysml:69e16b91-de61-4fe2-8ebf-63b040d0687a\" xlink:show=\"new\" xlink:title=\"psysml:69e16b91-de61-4fe2-8ebf-63b040d0687a\" xlink:type=\"simple\"><rect fill=\"#FFFFFF\" filter=\"url(#fv4mzj16hwl25)\" height=\"599\" id=\"E3\" rx=\"10\" ry=\"10\" style=\"stroke: #A80036; stroke-width: 1.5;\" width=\"209\" x=\"271\" y=\"49\"/><rect fill=\"#FEFECE\" height=\"37.9375\" rx=\"10\" ry=\"10\" style=\"stroke: #FEFECE; stroke-width: 1.5;\" width=\"209\" x=\"271\" y=\"49\"/><rect fill=\"#FEFECE\" height=\"10\" style=\"stroke: #FEFECE; stroke-width: 1.5;\" width=\"209\" x=\"271\" y=\"76.9375\"/><rect fill=\"none\" height=\"599\" id=\"E3\" rx=\"10\" ry=\"10\" style=\"stroke: #A80036; stroke-width: 1.5;\" width=\"209\" x=\"271\" y=\"49\"/><text fill=\"#000000\" font-family=\"sans-serif\" font-size=\"12\" font-style=\"italic\" lengthAdjust=\"spacingAndGlyphs\" textLength=\"53\" x=\"349\" y=\"65.1387\">«action»</text><text fill=\"#000000\" font-family=\"sans-serif\" font-size=\"12\" lengthAdjust=\"spacingAndGlyphs\" textLength=\"8\" x=\"371.5\" y=\"79.1074\">a</text><line style=\"stroke: #A80036; stroke-width: 1.0;\" x1=\"271\" x2=\"480\" y1=\"86.9375\" y2=\"86.9375\"/></a><!--MD5=[b4997ac47864f28c2f74865a473b2911]\n",
       "class E2--><a href=\"psysml:f9329402-d9ed-482b-aa71-2e931e2796d7\" target=\"_top\" title=\"psysml:f9329402-d9ed-482b-aa71-2e931e2796d7\" xlink:actuate=\"onRequest\" xlink:href=\"psysml:f9329402-d9ed-482b-aa71-2e931e2796d7\" xlink:show=\"new\" xlink:title=\"psysml:f9329402-d9ed-482b-aa71-2e931e2796d7\" xlink:type=\"simple\"><rect fill=\"#FEFECE\" filter=\"url(#fv4mzj16hwl25)\" height=\"45.9375\" id=\"E2\" style=\"stroke: #A80036; stroke-width: 1.5;\" width=\"99\" x=\"155.5\" y=\"87\"/><text fill=\"#000000\" font-family=\"sans-serif\" font-size=\"12\" font-style=\"italic\" lengthAdjust=\"spacingAndGlyphs\" textLength=\"97\" x=\"156.5\" y=\"103.1387\">«attribute  def»</text><text fill=\"#000000\" font-family=\"sans-serif\" font-size=\"12\" lengthAdjust=\"spacingAndGlyphs\" textLength=\"8\" x=\"201\" y=\"117.1074\">S</text><line style=\"stroke: #A80036; stroke-width: 1.5;\" x1=\"156.5\" x2=\"253.5\" y1=\"124.9375\" y2=\"124.9375\"/></a><polygon fill=\"#FEFECE\" filter=\"url(#fv4mzj16hwl25)\" points=\"428,194,440,206,428,218,416,206,428,194\" style=\"stroke: #A80036; stroke-width: 1.5;\"/><!--MD5=[21dd76c19d33815960c0e92fef8f0eef]\n",
       "entity E5--><a href=\"psysml:dcf8e234-4de8-4cb8-a947-17c2138066f0\" target=\"_top\" title=\"psysml:dcf8e234-4de8-4cb8-a947-17c2138066f0\" xlink:actuate=\"onRequest\" xlink:href=\"psysml:dcf8e234-4de8-4cb8-a947-17c2138066f0\" xlink:show=\"new\" xlink:title=\"psysml:dcf8e234-4de8-4cb8-a947-17c2138066f0\" xlink:type=\"simple\"><polygon fill=\"#FEFECE\" filter=\"url(#fv4mzj16hwl25)\" points=\"287,279,287,333.5938,427,333.5938,407,306.2969,427,279\" style=\"stroke: #000000; stroke-width: 1.5;\"/><text fill=\"#000000\" font-family=\"sans-serif\" font-size=\"14\" font-style=\"italic\" lengthAdjust=\"spacingAndGlyphs\" textLength=\"111\" x=\"294\" y=\"301.9951\">«accept action»</text><text fill=\"#000000\" font-family=\"sans-serif\" font-size=\"14\" lengthAdjust=\"spacingAndGlyphs\" textLength=\"9\" x=\"345\" y=\"319.292\">S</text></a><!--MD5=[24d87cdf3002d433f401b2a2aa9f9f65]\n",
       "entity E6--><a href=\"psysml:18c3d457-6bb3-4962-a480-0e1b2254a09a\" target=\"_top\" title=\"psysml:18c3d457-6bb3-4962-a480-0e1b2254a09a\" xlink:actuate=\"onRequest\" xlink:href=\"psysml:18c3d457-6bb3-4962-a480-0e1b2254a09a\" xlink:show=\"new\" xlink:title=\"psysml:18c3d457-6bb3-4962-a480-0e1b2254a09a\" xlink:type=\"simple\"><polygon fill=\"#FEFECE\" filter=\"url(#fv4mzj16hwl25)\" points=\"287,411,287,465.5938,395,465.5938,415,438.2969,395,411\" style=\"stroke: #000000; stroke-width: 1.5;\"/><text fill=\"#000000\" font-family=\"sans-serif\" font-size=\"14\" font-style=\"italic\" lengthAdjust=\"spacingAndGlyphs\" textLength=\"99\" x=\"294\" y=\"433.9951\">«send action»</text><text fill=\"#000000\" font-family=\"sans-serif\" font-size=\"14\" lengthAdjust=\"spacingAndGlyphs\" textLength=\"65\" x=\"311\" y=\"451.292\">S() to  B()</text></a><polygon fill=\"#FEFECE\" filter=\"url(#fv4mzj16hwl25)\" points=\"426,527,438,539,426,551,414,539,426,527\" style=\"stroke: #A80036; stroke-width: 1.5;\"/><ellipse cx=\"428\" cy=\"110\" fill=\"#000000\" filter=\"url(#fv4mzj16hwl25)\" rx=\"10\" ry=\"10\" style=\"stroke: none; stroke-width: 1.0;\"/><ellipse cx=\"426\" cy=\"622\" fill=\"none\" filter=\"url(#fv4mzj16hwl25)\" rx=\"10\" ry=\"10\" style=\"stroke: #000000; stroke-width: 1.0;\"/><ellipse cx=\"426.5\" cy=\"622.5\" fill=\"#000000\" rx=\"6\" ry=\"6\" style=\"stroke: none; stroke-width: 1.0;\"/><g id=\"E1.E8\"><a href=\"psysml:530e5343-b7af-483f-85a0-93ec425d0302\" target=\"_top\" title=\"psysml:530e5343-b7af-483f-85a0-93ec425d0302\" xlink:actuate=\"onRequest\" xlink:href=\"psysml:530e5343-b7af-483f-85a0-93ec425d0302\" xlink:show=\"new\" xlink:title=\"psysml:530e5343-b7af-483f-85a0-93ec425d0302\" xlink:type=\"simple\"><rect fill=\"#FEFECE\" filter=\"url(#fv4mzj16hwl25)\" height=\"42.9375\" id=\"E8\" style=\"stroke: #A80036; stroke-width: 1.5;\" width=\"88\" x=\"32\" y=\"88.5\"/><text fill=\"#000000\" font-family=\"sans-serif\" font-size=\"12\" font-style=\"italic\" lengthAdjust=\"spacingAndGlyphs\" textLength=\"81\" x=\"35.5\" y=\"104.6387\">«action  def»</text><text fill=\"#000000\" font-family=\"sans-serif\" font-size=\"12\" lengthAdjust=\"spacingAndGlyphs\" textLength=\"8\" x=\"72\" y=\"118.6074\">B</text></a></g><!--MD5=[f47e10efcf9a6752d55dae986d790ed9]\n",
       "link *start*E3 to E4--><a href=\"psysml:8ec85343-59fa-499c-a77c-a2bbf8c30a9c\" target=\"_top\" title=\"psysml:8ec85343-59fa-499c-a77c-a2bbf8c30a9c\" xlink:actuate=\"onRequest\" xlink:href=\"psysml:8ec85343-59fa-499c-a77c-a2bbf8c30a9c\" xlink:show=\"new\" xlink:title=\"psysml:8ec85343-59fa-499c-a77c-a2bbf8c30a9c\" xlink:type=\"simple\"><path d=\"M428,120.01 C428,135.81 428,168.69 428,188.61 \" fill=\"none\" id=\"*start*E3-&gt;E4\" style=\"stroke: #A80036; stroke-width: 1.0;\"/><polygon fill=\"#A80036\" points=\"428,193.85,432,184.85,428,188.85,424,184.85,428,193.85\" style=\"stroke: #A80036; stroke-width: 1.0;\"/></a><!--MD5=[d19f2eb34364d71b67042106d92f540b]\n",
       "link E7 to *end*E3--><a href=\"psysml:0d9f4e26-bf93-4aba-a8c6-6dafeae60007\" target=\"_top\" title=\"psysml:0d9f4e26-bf93-4aba-a8c6-6dafeae60007\" xlink:actuate=\"onRequest\" xlink:href=\"psysml:0d9f4e26-bf93-4aba-a8c6-6dafeae60007\" xlink:show=\"new\" xlink:title=\"psysml:0d9f4e26-bf93-4aba-a8c6-6dafeae60007\" xlink:type=\"simple\"><path d=\"M426,551.26 C426,565.66 426,590.63 426,606.46 \" fill=\"none\" id=\"E7-&gt;*end*E3\" style=\"stroke: #A80036; stroke-width: 1.0;\"/><polygon fill=\"#A80036\" points=\"426,611.84,430,602.84,426,606.84,422,602.84,426,611.84\" style=\"stroke: #A80036; stroke-width: 1.0;\"/></a><!--MD5=[1b7591eae5389033d8d09a9d6721a717]\n",
       "link E4 to E5--><a href=\"psysml:0f743cc2-6e19-41e4-aad8-79cb567e3158\" target=\"_top\" title=\"psysml:0f743cc2-6e19-41e4-aad8-79cb567e3158\" xlink:actuate=\"onRequest\" xlink:href=\"psysml:0f743cc2-6e19-41e4-aad8-79cb567e3158\" xlink:show=\"new\" xlink:title=\"psysml:0f743cc2-6e19-41e4-aad8-79cb567e3158\" xlink:type=\"simple\"><path d=\"M423.34,213.46 C414.55,225.66 394.99,252.8 379.37,274.46 \" fill=\"none\" id=\"E4-&gt;E5\" style=\"stroke: #A80036; stroke-width: 1.0;\"/><polygon fill=\"#A80036\" points=\"376.31,278.71,384.8093,273.7339,379.227,274.6491,378.3119,269.0667,376.31,278.71\" style=\"stroke: #A80036; stroke-width: 1.0;\"/><text fill=\"#000000\" font-family=\"sans-serif\" font-size=\"13\" lengthAdjust=\"spacingAndGlyphs\" textLength=\"7\" x=\"372.7684\" y=\"268.1162\">*</text></a><!--MD5=[9120cf2e5df3bff93db8f754bbbc09b4]\n",
       "link E5 to E6--><a href=\"psysml:3404b4e6-fa1c-4cf0-a87f-a7f8eafbc3bc\" target=\"_top\" title=\"psysml:3404b4e6-fa1c-4cf0-a87f-a7f8eafbc3bc\" xlink:actuate=\"onRequest\" xlink:href=\"psysml:3404b4e6-fa1c-4cf0-a87f-a7f8eafbc3bc\" xlink:show=\"new\" xlink:title=\"psysml:3404b4e6-fa1c-4cf0-a87f-a7f8eafbc3bc\" xlink:type=\"simple\"><path d=\"M355.77,334.12 C354.81,354.89 353.48,383.8 352.46,405.77 \" fill=\"none\" id=\"E5-&gt;E6\" style=\"stroke: #A80036; stroke-width: 1.0;\"/><polygon fill=\"#A80036\" points=\"352.23,410.91,356.6368,402.1021,352.4583,405.9152,348.6452,401.7367,352.23,410.91\" style=\"stroke: #A80036; stroke-width: 1.0;\"/><text fill=\"#000000\" font-family=\"sans-serif\" font-size=\"13\" lengthAdjust=\"spacingAndGlyphs\" textLength=\"7\" x=\"344.7051\" y=\"399.9247\">*</text></a><!--MD5=[02c70b7c851c11e3980e4e90450dc5dd]\n",
       "link E6 to E7--><a href=\"psysml:a56f0975-9bdd-4db4-ac34-32a8d14536cf\" target=\"_top\" title=\"psysml:a56f0975-9bdd-4db4-ac34-32a8d14536cf\" xlink:actuate=\"onRequest\" xlink:href=\"psysml:a56f0975-9bdd-4db4-ac34-32a8d14536cf\" xlink:show=\"new\" xlink:title=\"psysml:a56f0975-9bdd-4db4-ac34-32a8d14536cf\" xlink:type=\"simple\"><path d=\"M371.3,466.16 C386.71,486.4 407.07,513.14 418.09,527.61 \" fill=\"none\" id=\"E6-&gt;E7\" style=\"stroke: #A80036; stroke-width: 1.0;\"/><polygon fill=\"#A80036\" points=\"421.2,531.69,418.9398,522.104,418.1749,527.7089,412.57,526.9441,421.2,531.69\" style=\"stroke: #A80036; stroke-width: 1.0;\"/><text fill=\"#000000\" font-family=\"sans-serif\" font-size=\"13\" lengthAdjust=\"spacingAndGlyphs\" textLength=\"7\" x=\"406.9375\" y=\"515.8563\">*</text></a><!--MD5=[6bdd27f9905911a7e892a3dc65cf6b7c]\n",
       "link E7 to E4--><a href=\"psysml:2a79c4d0-9744-4107-95b5-d9c642bb083b\" target=\"_top\" title=\"psysml:2a79c4d0-9744-4107-95b5-d9c642bb083b\" xlink:actuate=\"onRequest\" xlink:href=\"psysml:2a79c4d0-9744-4107-95b5-d9c642bb083b\" xlink:show=\"new\" xlink:title=\"psysml:2a79c4d0-9744-4107-95b5-d9c642bb083b\" xlink:type=\"simple\"><path d=\"M427.98,528.56 C434.8,494.71 456.32,376.18 445,279 C442.59,258.32 436.42,234.96 432.21,220.61 \" fill=\"none\" id=\"E7-&gt;E4\" style=\"stroke: #A80036; stroke-width: 1.0;\"/><polygon fill=\"#A80036\" points=\"430.76,215.75,429.4935,225.5171,432.1863,220.5423,437.1611,223.2351,430.76,215.75\" style=\"stroke: #A80036; stroke-width: 1.0;\"/><text fill=\"#000000\" font-family=\"sans-serif\" font-size=\"13\" lengthAdjust=\"spacingAndGlyphs\" textLength=\"36\" x=\"448\" y=\"377.0669\">[true]</text><text fill=\"#000000\" font-family=\"sans-serif\" font-size=\"13\" lengthAdjust=\"spacingAndGlyphs\" textLength=\"7\" x=\"423.3253\" y=\"237.9903\">*</text></a><!--MD5=[3696f188fe8957010e6879bda557941d]\n",
       "@startuml\r\n",
       "skinparam wrapWidth 300\r\n",
       "hide circle\r\n",
       "\r\n",
       "package \"ActionTest\" as E1  [[psysml:b606a038-0c45-436f-a3a1-beef47fa0e17 ]]  {\r\n",
       "comp def \"S\" as E2  <<(T,blue) attribute  def>> [[psysml:f9329402-d9ed-482b-aa71-2e931e2796d7 ]] {\r\n",
       "}\r\n",
       "rec usage \"a\" as E3  <<(T,blue) action>> [[psysml:69e16b91-de61-4fe2-8ebf-63b040d0687a ]] {\r\n",
       "choice \"m\" as E4  [[psysml:ba661374-e1ab-49de-aa21-c62362c65829 ]] \r\n",
       "accept \" S\" as E5 << accept action>> [[psysml:dcf8e234-4de8-4cb8-a947-17c2138066f0 ]] \r\n",
       "send \" S() to  B()\" as E6 << send action>> [[psysml:18c3d457-6bb3-4962-a480-0e1b2254a09a ]] \r\n",
       "choice \"<s>noname</s>\" as E7  [[psysml:1cf4a57b-2f41-48db-bb2e-4817b665eacc ]] \r\n",
       "[*] - -> E4 [[psysml:8ec85343-59fa-499c-a77c-a2bbf8c30a9c ]] \r\n",
       "E7  - -> [*] [[psysml:0d9f4e26-bf93-4aba-a8c6-6dafeae60007 ]] \r\n",
       "}\r\n",
       "\r\n",
       "rec def \"B\" as E8  <<(T,blue) action  def>> [[psysml:530e5343-b7af-483f-85a0-93ec425d0302 ]] {\r\n",
       "}\r\n",
       "\r\n",
       "}\r\n",
       "E4 - -> \"*\"E5 [[psysml:0f743cc2-6e19-41e4-aad8-79cb567e3158 ]] \r\n",
       "E5 - -> \"*\"E6 [[psysml:3404b4e6-fa1c-4cf0-a87f-a7f8eafbc3bc ]] \r\n",
       "E6 - -> \"*\"E7 [[psysml:a56f0975-9bdd-4db4-ac34-32a8d14536cf ]] \r\n",
       "E7  - -> \"*\"E4 [[psysml:2a79c4d0-9744-4107-95b5-d9c642bb083b ]] : [true]\r\n",
       "@enduml\r\n",
       "\n",
       "PlantUML version 1.2020.13(Sat Jun 13 12:26:38 UTC 2020)\n",
       "(EPL source distribution)\n",
       "Java Runtime: OpenJDK Runtime Environment\n",
       "JVM: OpenJDK 64-Bit Server VM\n",
       "Default Encoding: UTF-8\n",
       "Language: en\n",
       "Country: null\n",
       "--></g></svg>"
      ]
     },
     "execution_count": 29,
     "metadata": {},
     "output_type": "execute_result"
    }
   ],
   "source": [
    "%viz --style=\"STDCOLOR\" --view=\"MIXED\" \"ActionTest\""
   ]
  },
  {
   "cell_type": "code",
   "execution_count": 30,
   "id": "0f5f1426",
   "metadata": {
    "execution": {
     "iopub.execute_input": "2021-10-25T08:21:23.868460Z",
     "iopub.status.busy": "2021-10-25T08:21:23.868038Z",
     "iopub.status.idle": "2021-10-25T08:21:23.925684Z",
     "shell.execute_reply": "2021-10-25T08:21:23.925327Z"
    }
   },
   "outputs": [
    {
     "data": {
      "image/svg+xml": [
       "<?xml version=\"1.0\" encoding=\"UTF-8\" standalone=\"no\"?><svg xmlns=\"http://www.w3.org/2000/svg\" xmlns:xlink=\"http://www.w3.org/1999/xlink\" contentScriptType=\"application/ecmascript\" contentStyleType=\"text/css\" height=\"684px\" preserveAspectRatio=\"none\" style=\"width:578px;height:684px;\" version=\"1.1\" viewBox=\"0 0 578 684\" width=\"578px\" zoomAndPan=\"magnify\"><defs><filter height=\"300%\" id=\"fkqjnur3hbyul\" width=\"300%\" x=\"-1\" y=\"-1\"><feGaussianBlur result=\"blurOut\" stdDeviation=\"2.0\"/><feColorMatrix in=\"blurOut\" result=\"blurOut2\" type=\"matrix\" values=\"0 0 0 0 0 0 0 0 0 0 0 0 0 0 0 0 0 0 .4 0\"/><feOffset dx=\"4.0\" dy=\"4.0\" in=\"blurOut2\" result=\"blurOut3\"/><feBlend in=\"SourceGraphic\" in2=\"blurOut3\" mode=\"normal\"/></filter></defs><g><!--MD5=[fbc87193dbaf4d95561dea2c320d4a47]\n",
       "cluster E1--><a href=\"psysml:b606a038-0c45-436f-a3a1-beef47fa0e17\" target=\"_top\" title=\"psysml:b606a038-0c45-436f-a3a1-beef47fa0e17\" xlink:actuate=\"onRequest\" xlink:href=\"psysml:b606a038-0c45-436f-a3a1-beef47fa0e17\" xlink:show=\"new\" xlink:title=\"psysml:b606a038-0c45-436f-a3a1-beef47fa0e17\" xlink:type=\"simple\"><polygon fill=\"#FFFFFF\" filter=\"url(#fkqjnur3hbyul)\" points=\"16,6,96,6,103,28.2969,556,28.2969,556,672,16,672,16,6\" style=\"stroke: #000000; stroke-width: 1.5;\"/><line style=\"stroke: #000000; stroke-width: 1.5;\" x1=\"16\" x2=\"103\" y1=\"28.2969\" y2=\"28.2969\"/><text fill=\"#000000\" font-family=\"sans-serif\" font-size=\"14\" font-weight=\"bold\" lengthAdjust=\"spacingAndGlyphs\" textLength=\"74\" x=\"20\" y=\"20.9951\">ActionTest</text></a><!--MD5=[d5e69f78d87373223dbae638b30a9c99]\n",
       "cluster E3--><a href=\"psysml:69e16b91-de61-4fe2-8ebf-63b040d0687a\" target=\"_top\" title=\"psysml:69e16b91-de61-4fe2-8ebf-63b040d0687a\" xlink:actuate=\"onRequest\" xlink:href=\"psysml:69e16b91-de61-4fe2-8ebf-63b040d0687a\" xlink:show=\"new\" xlink:title=\"psysml:69e16b91-de61-4fe2-8ebf-63b040d0687a\" xlink:type=\"simple\"><rect fill=\"#FFFFFF\" filter=\"url(#fkqjnur3hbyul)\" height=\"599\" id=\"E3\" rx=\"10\" ry=\"10\" style=\"stroke: #A80036; stroke-width: 1.5;\" width=\"209\" x=\"323\" y=\"49\"/><rect fill=\"#FEFECE\" height=\"37.9375\" rx=\"10\" ry=\"10\" style=\"stroke: #FEFECE; stroke-width: 1.5;\" width=\"209\" x=\"323\" y=\"49\"/><rect fill=\"#FEFECE\" height=\"10\" style=\"stroke: #FEFECE; stroke-width: 1.5;\" width=\"209\" x=\"323\" y=\"76.9375\"/><rect fill=\"none\" height=\"599\" id=\"E3\" rx=\"10\" ry=\"10\" style=\"stroke: #A80036; stroke-width: 1.5;\" width=\"209\" x=\"323\" y=\"49\"/><text fill=\"#000000\" font-family=\"sans-serif\" font-size=\"12\" font-style=\"italic\" lengthAdjust=\"spacingAndGlyphs\" textLength=\"53\" x=\"401\" y=\"65.1387\">«action»</text><text fill=\"#000000\" font-family=\"sans-serif\" font-size=\"12\" lengthAdjust=\"spacingAndGlyphs\" textLength=\"8\" x=\"423.5\" y=\"79.1074\">a</text><line style=\"stroke: #A80036; stroke-width: 1.0;\" x1=\"323\" x2=\"532\" y1=\"86.9375\" y2=\"86.9375\"/></a><!--MD5=[b4997ac47864f28c2f74865a473b2911]\n",
       "class E2--><a href=\"psysml:f9329402-d9ed-482b-aa71-2e931e2796d7\" target=\"_top\" title=\"psysml:f9329402-d9ed-482b-aa71-2e931e2796d7\" xlink:actuate=\"onRequest\" xlink:href=\"psysml:f9329402-d9ed-482b-aa71-2e931e2796d7\" xlink:show=\"new\" xlink:title=\"psysml:f9329402-d9ed-482b-aa71-2e931e2796d7\" xlink:type=\"simple\"><rect fill=\"#FEFECE\" filter=\"url(#fkqjnur3hbyul)\" height=\"45.9375\" id=\"E2\" style=\"stroke: #A80036; stroke-width: 1.5;\" width=\"125\" x=\"181.5\" y=\"87\"/><ellipse cx=\"196.5\" cy=\"105.9688\" fill=\"#A52A2A\" rx=\"11\" ry=\"11\" style=\"stroke: #A80036; stroke-width: 1.0;\"/><path d=\"M193.7188,110.9688 L193.7188,100.375 L196.4531,100.375 Q197.8438,100.375 198.6094,100.7656 Q199.3906,101.1406 199.9219,101.8438 Q200.4531,102.5469 200.75,103.5469 Q201.0469,104.5313 201.0469,105.75 Q201,107.3438 200.5,108.5313 Q200.0156,109.7031 198.9688,110.3438 Q197.9375,110.9688 196.25,110.9688 L193.7188,110.9688 Z M195.5781,109.4688 L196.2031,109.4688 Q197.2813,109.4688 197.9375,109.0156 Q198.5938,108.5625 198.875,107.7344 Q199.1719,106.8906 199.1563,105.7656 Q199.1563,104.5938 198.9063,103.7344 Q198.6563,102.8594 198.0469,102.3906 Q197.4375,101.9063 196.3906,101.9063 L195.5781,101.9063 L195.5781,109.4688 Z \"/><text fill=\"#000000\" font-family=\"sans-serif\" font-size=\"12\" font-style=\"italic\" lengthAdjust=\"spacingAndGlyphs\" textLength=\"97\" x=\"208.5\" y=\"103.1387\">«attribute  def»</text><text fill=\"#000000\" font-family=\"sans-serif\" font-size=\"12\" lengthAdjust=\"spacingAndGlyphs\" textLength=\"8\" x=\"253\" y=\"117.1074\">S</text><line style=\"stroke: #A80036; stroke-width: 1.5;\" x1=\"182.5\" x2=\"305.5\" y1=\"124.9375\" y2=\"124.9375\"/></a><polygon fill=\"#FEFECE\" filter=\"url(#fkqjnur3hbyul)\" points=\"480,194,492,206,480,218,468,206,480,194\" style=\"stroke: #A80036; stroke-width: 1.5;\"/><!--MD5=[21dd76c19d33815960c0e92fef8f0eef]\n",
       "entity E5--><a href=\"psysml:dcf8e234-4de8-4cb8-a947-17c2138066f0\" target=\"_top\" title=\"psysml:dcf8e234-4de8-4cb8-a947-17c2138066f0\" xlink:actuate=\"onRequest\" xlink:href=\"psysml:dcf8e234-4de8-4cb8-a947-17c2138066f0\" xlink:show=\"new\" xlink:title=\"psysml:dcf8e234-4de8-4cb8-a947-17c2138066f0\" xlink:type=\"simple\"><polygon fill=\"#FEFECE\" filter=\"url(#fkqjnur3hbyul)\" points=\"339,279,339,333.5938,479,333.5938,459,306.2969,479,279\" style=\"stroke: #000000; stroke-width: 1.5;\"/><text fill=\"#000000\" font-family=\"sans-serif\" font-size=\"14\" font-style=\"italic\" lengthAdjust=\"spacingAndGlyphs\" textLength=\"111\" x=\"346\" y=\"301.9951\">«accept action»</text><text fill=\"#000000\" font-family=\"sans-serif\" font-size=\"14\" lengthAdjust=\"spacingAndGlyphs\" textLength=\"9\" x=\"397\" y=\"319.292\">S</text></a><!--MD5=[24d87cdf3002d433f401b2a2aa9f9f65]\n",
       "entity E6--><a href=\"psysml:18c3d457-6bb3-4962-a480-0e1b2254a09a\" target=\"_top\" title=\"psysml:18c3d457-6bb3-4962-a480-0e1b2254a09a\" xlink:actuate=\"onRequest\" xlink:href=\"psysml:18c3d457-6bb3-4962-a480-0e1b2254a09a\" xlink:show=\"new\" xlink:title=\"psysml:18c3d457-6bb3-4962-a480-0e1b2254a09a\" xlink:type=\"simple\"><polygon fill=\"#FEFECE\" filter=\"url(#fkqjnur3hbyul)\" points=\"339,411,339,465.5938,447,465.5938,467,438.2969,447,411\" style=\"stroke: #000000; stroke-width: 1.5;\"/><text fill=\"#000000\" font-family=\"sans-serif\" font-size=\"14\" font-style=\"italic\" lengthAdjust=\"spacingAndGlyphs\" textLength=\"99\" x=\"346\" y=\"433.9951\">«send action»</text><text fill=\"#000000\" font-family=\"sans-serif\" font-size=\"14\" lengthAdjust=\"spacingAndGlyphs\" textLength=\"65\" x=\"363\" y=\"451.292\">S() to  B()</text></a><polygon fill=\"#FEFECE\" filter=\"url(#fkqjnur3hbyul)\" points=\"478,527,490,539,478,551,466,539,478,527\" style=\"stroke: #A80036; stroke-width: 1.5;\"/><ellipse cx=\"480\" cy=\"110\" fill=\"#000000\" filter=\"url(#fkqjnur3hbyul)\" rx=\"10\" ry=\"10\" style=\"stroke: none; stroke-width: 1.0;\"/><ellipse cx=\"478\" cy=\"622\" fill=\"none\" filter=\"url(#fkqjnur3hbyul)\" rx=\"10\" ry=\"10\" style=\"stroke: #000000; stroke-width: 1.0;\"/><ellipse cx=\"478.5\" cy=\"622.5\" fill=\"#000000\" rx=\"6\" ry=\"6\" style=\"stroke: none; stroke-width: 1.0;\"/><g id=\"E1.E8\"><a href=\"psysml:530e5343-b7af-483f-85a0-93ec425d0302\" target=\"_top\" title=\"psysml:530e5343-b7af-483f-85a0-93ec425d0302\" xlink:actuate=\"onRequest\" xlink:href=\"psysml:530e5343-b7af-483f-85a0-93ec425d0302\" xlink:show=\"new\" xlink:title=\"psysml:530e5343-b7af-483f-85a0-93ec425d0302\" xlink:type=\"simple\"><rect fill=\"#FEFECE\" filter=\"url(#fkqjnur3hbyul)\" height=\"42.9375\" id=\"E8\" style=\"stroke: #A80036; stroke-width: 1.5;\" width=\"114\" x=\"32\" y=\"88.5\"/><ellipse cx=\"49.25\" cy=\"107.4688\" fill=\"#FFFACD\" rx=\"11\" ry=\"11\" style=\"stroke: #A80036; stroke-width: 1.0;\"/><path d=\"M46.125,112.4688 L46.125,101.875 L49.3594,101.875 Q51.2656,101.875 52.1719,102.625 Q53.0938,103.375 53.0938,104.5469 Q53.0938,105.2344 52.7031,105.8906 Q52.3281,106.5469 51.6094,106.8438 Q52.4688,107.2188 52.9844,107.9063 Q53.5,108.5938 53.5,109.4063 Q53.5,110.7813 52.4688,111.625 Q51.4531,112.4688 49.3438,112.4688 L46.125,112.4688 Z M48.0469,106.1094 L49.2031,106.1094 Q50.3281,106.1094 50.7344,105.7344 Q51.1563,105.3438 51.1563,104.7188 Q51.1563,104.1406 50.7344,103.7813 Q50.3125,103.4219 49.375,103.4219 L48.0469,103.4219 L48.0469,106.1094 Z M48.0469,110.8906 L49.5469,110.8906 Q50.4531,110.8906 50.9844,110.5 Q51.5156,110.1094 51.5156,109.3594 Q51.5156,108.5938 51.0156,108.125 Q50.5156,107.6406 49.25,107.6406 L48.0469,107.6406 L48.0469,110.8906 Z \"/><text fill=\"#000000\" font-family=\"sans-serif\" font-size=\"12\" font-style=\"italic\" lengthAdjust=\"spacingAndGlyphs\" textLength=\"81\" x=\"61.75\" y=\"104.6387\">«action  def»</text><text fill=\"#000000\" font-family=\"sans-serif\" font-size=\"12\" lengthAdjust=\"spacingAndGlyphs\" textLength=\"8\" x=\"98.25\" y=\"118.6074\">B</text></a></g><!--MD5=[f47e10efcf9a6752d55dae986d790ed9]\n",
       "link *start*E3 to E4--><a href=\"psysml:8ec85343-59fa-499c-a77c-a2bbf8c30a9c\" target=\"_top\" title=\"psysml:8ec85343-59fa-499c-a77c-a2bbf8c30a9c\" xlink:actuate=\"onRequest\" xlink:href=\"psysml:8ec85343-59fa-499c-a77c-a2bbf8c30a9c\" xlink:show=\"new\" xlink:title=\"psysml:8ec85343-59fa-499c-a77c-a2bbf8c30a9c\" xlink:type=\"simple\"><path d=\"M480,120.01 C480,135.81 480,168.69 480,188.61 \" fill=\"none\" id=\"*start*E3-&gt;E4\" style=\"stroke: #A80036; stroke-width: 1.0;\"/><polygon fill=\"#A80036\" points=\"480,193.85,484,184.85,480,188.85,476,184.85,480,193.85\" style=\"stroke: #A80036; stroke-width: 1.0;\"/></a><!--MD5=[d19f2eb34364d71b67042106d92f540b]\n",
       "link E7 to *end*E3--><a href=\"psysml:0d9f4e26-bf93-4aba-a8c6-6dafeae60007\" target=\"_top\" title=\"psysml:0d9f4e26-bf93-4aba-a8c6-6dafeae60007\" xlink:actuate=\"onRequest\" xlink:href=\"psysml:0d9f4e26-bf93-4aba-a8c6-6dafeae60007\" xlink:show=\"new\" xlink:title=\"psysml:0d9f4e26-bf93-4aba-a8c6-6dafeae60007\" xlink:type=\"simple\"><path d=\"M478,551.26 C478,565.66 478,590.63 478,606.46 \" fill=\"none\" id=\"E7-&gt;*end*E3\" style=\"stroke: #A80036; stroke-width: 1.0;\"/><polygon fill=\"#A80036\" points=\"478,611.84,482,602.84,478,606.84,474,602.84,478,611.84\" style=\"stroke: #A80036; stroke-width: 1.0;\"/></a><!--MD5=[1b7591eae5389033d8d09a9d6721a717]\n",
       "link E4 to E5--><a href=\"psysml:0f743cc2-6e19-41e4-aad8-79cb567e3158\" target=\"_top\" title=\"psysml:0f743cc2-6e19-41e4-aad8-79cb567e3158\" xlink:actuate=\"onRequest\" xlink:href=\"psysml:0f743cc2-6e19-41e4-aad8-79cb567e3158\" xlink:show=\"new\" xlink:title=\"psysml:0f743cc2-6e19-41e4-aad8-79cb567e3158\" xlink:type=\"simple\"><path d=\"M475.34,213.46 C466.55,225.66 446.99,252.8 431.37,274.46 \" fill=\"none\" id=\"E4-&gt;E5\" style=\"stroke: #A80036; stroke-width: 1.0;\"/><polygon fill=\"#A80036\" points=\"428.31,278.71,436.8093,273.7339,431.227,274.6491,430.3119,269.0667,428.31,278.71\" style=\"stroke: #A80036; stroke-width: 1.0;\"/><text fill=\"#000000\" font-family=\"sans-serif\" font-size=\"13\" lengthAdjust=\"spacingAndGlyphs\" textLength=\"7\" x=\"424.7684\" y=\"268.1162\">*</text></a><!--MD5=[9120cf2e5df3bff93db8f754bbbc09b4]\n",
       "link E5 to E6--><a href=\"psysml:3404b4e6-fa1c-4cf0-a87f-a7f8eafbc3bc\" target=\"_top\" title=\"psysml:3404b4e6-fa1c-4cf0-a87f-a7f8eafbc3bc\" xlink:actuate=\"onRequest\" xlink:href=\"psysml:3404b4e6-fa1c-4cf0-a87f-a7f8eafbc3bc\" xlink:show=\"new\" xlink:title=\"psysml:3404b4e6-fa1c-4cf0-a87f-a7f8eafbc3bc\" xlink:type=\"simple\"><path d=\"M407.77,334.12 C406.81,354.89 405.48,383.8 404.46,405.77 \" fill=\"none\" id=\"E5-&gt;E6\" style=\"stroke: #A80036; stroke-width: 1.0;\"/><polygon fill=\"#A80036\" points=\"404.23,410.91,408.6368,402.1021,404.4583,405.9152,400.6452,401.7367,404.23,410.91\" style=\"stroke: #A80036; stroke-width: 1.0;\"/><text fill=\"#000000\" font-family=\"sans-serif\" font-size=\"13\" lengthAdjust=\"spacingAndGlyphs\" textLength=\"7\" x=\"396.7051\" y=\"399.9247\">*</text></a><!--MD5=[02c70b7c851c11e3980e4e90450dc5dd]\n",
       "link E6 to E7--><a href=\"psysml:a56f0975-9bdd-4db4-ac34-32a8d14536cf\" target=\"_top\" title=\"psysml:a56f0975-9bdd-4db4-ac34-32a8d14536cf\" xlink:actuate=\"onRequest\" xlink:href=\"psysml:a56f0975-9bdd-4db4-ac34-32a8d14536cf\" xlink:show=\"new\" xlink:title=\"psysml:a56f0975-9bdd-4db4-ac34-32a8d14536cf\" xlink:type=\"simple\"><path d=\"M423.3,466.16 C438.71,486.4 459.07,513.14 470.09,527.61 \" fill=\"none\" id=\"E6-&gt;E7\" style=\"stroke: #A80036; stroke-width: 1.0;\"/><polygon fill=\"#A80036\" points=\"473.2,531.69,470.9398,522.104,470.1749,527.7089,464.57,526.9441,473.2,531.69\" style=\"stroke: #A80036; stroke-width: 1.0;\"/><text fill=\"#000000\" font-family=\"sans-serif\" font-size=\"13\" lengthAdjust=\"spacingAndGlyphs\" textLength=\"7\" x=\"458.9375\" y=\"515.8563\">*</text></a><!--MD5=[6bdd27f9905911a7e892a3dc65cf6b7c]\n",
       "link E7 to E4--><a href=\"psysml:2a79c4d0-9744-4107-95b5-d9c642bb083b\" target=\"_top\" title=\"psysml:2a79c4d0-9744-4107-95b5-d9c642bb083b\" xlink:actuate=\"onRequest\" xlink:href=\"psysml:2a79c4d0-9744-4107-95b5-d9c642bb083b\" xlink:show=\"new\" xlink:title=\"psysml:2a79c4d0-9744-4107-95b5-d9c642bb083b\" xlink:type=\"simple\"><path d=\"M479.98,528.56 C486.8,494.71 508.32,376.18 497,279 C494.59,258.32 488.42,234.96 484.21,220.61 \" fill=\"none\" id=\"E7-&gt;E4\" style=\"stroke: #A80036; stroke-width: 1.0;\"/><polygon fill=\"#A80036\" points=\"482.76,215.75,481.4935,225.5171,484.1863,220.5423,489.1611,223.2351,482.76,215.75\" style=\"stroke: #A80036; stroke-width: 1.0;\"/><text fill=\"#000000\" font-family=\"sans-serif\" font-size=\"13\" lengthAdjust=\"spacingAndGlyphs\" textLength=\"36\" x=\"500\" y=\"377.0669\">[true]</text><text fill=\"#000000\" font-family=\"sans-serif\" font-size=\"13\" lengthAdjust=\"spacingAndGlyphs\" textLength=\"7\" x=\"475.3253\" y=\"237.9903\">*</text></a><!--MD5=[04c8a670ef15229d15aaf16307c6d80d]\n",
       "@startuml\r\n",
       " \r\n",
       "package \"ActionTest\" as E1  [[psysml:b606a038-0c45-436f-a3a1-beef47fa0e17 ]]  {\r\n",
       "comp def \"S\" as E2 << <<(D,brown) attribute  def>> [[psysml:f9329402-d9ed-482b-aa71-2e931e2796d7 ]] {\r\n",
       "}\r\n",
       "rec usage \"a\" as E3 << <<(U,orange) action>> [[psysml:69e16b91-de61-4fe2-8ebf-63b040d0687a ]] {\r\n",
       "choice \"m\" as E4  [[psysml:ba661374-e1ab-49de-aa21-c62362c65829 ]] \r\n",
       "accept \" S\" as E5 << accept action>> [[psysml:dcf8e234-4de8-4cb8-a947-17c2138066f0 ]] \r\n",
       "send \" S() to  B()\" as E6 << send action>> [[psysml:18c3d457-6bb3-4962-a480-0e1b2254a09a ]] \r\n",
       "choice \"<s>noname</s>\" as E7  [[psysml:1cf4a57b-2f41-48db-bb2e-4817b665eacc ]] \r\n",
       "[*] - -> E4 [[psysml:8ec85343-59fa-499c-a77c-a2bbf8c30a9c ]] \r\n",
       "E7  - -> [*] [[psysml:0d9f4e26-bf93-4aba-a8c6-6dafeae60007 ]] \r\n",
       "}\r\n",
       "\r\n",
       "rec def \"B\" as E8 << <<(B,lemonchiffon) action  def>> [[psysml:530e5343-b7af-483f-85a0-93ec425d0302 ]] {\r\n",
       "}\r\n",
       "\r\n",
       "}\r\n",
       "E4 - -> \"*\"E5 [[psysml:0f743cc2-6e19-41e4-aad8-79cb567e3158 ]] \r\n",
       "E5 - -> \"*\"E6 [[psysml:3404b4e6-fa1c-4cf0-a87f-a7f8eafbc3bc ]] \r\n",
       "E6 - -> \"*\"E7 [[psysml:a56f0975-9bdd-4db4-ac34-32a8d14536cf ]] \r\n",
       "E7  - -> \"*\"E4 [[psysml:2a79c4d0-9744-4107-95b5-d9c642bb083b ]] : [true]\r\n",
       "@enduml\r\n",
       "\n",
       "PlantUML version 1.2020.13(Sat Jun 13 12:26:38 UTC 2020)\n",
       "(EPL source distribution)\n",
       "Java Runtime: OpenJDK Runtime Environment\n",
       "JVM: OpenJDK 64-Bit Server VM\n",
       "Default Encoding: UTF-8\n",
       "Language: en\n",
       "Country: null\n",
       "--></g></svg>"
      ]
     },
     "execution_count": 30,
     "metadata": {},
     "output_type": "execute_result"
    }
   ],
   "source": [
    "%viz --style=\"PLANTUML\" --view=\"Default\" \"ActionTest\""
   ]
  },
  {
   "cell_type": "code",
   "execution_count": 31,
   "id": "8f50aff2",
   "metadata": {
    "execution": {
     "iopub.execute_input": "2021-10-25T08:21:23.974797Z",
     "iopub.status.busy": "2021-10-25T08:21:23.974407Z",
     "iopub.status.idle": "2021-10-25T08:21:24.099066Z",
     "shell.execute_reply": "2021-10-25T08:21:24.097081Z"
    }
   },
   "outputs": [
    {
     "data": {
      "image/svg+xml": [
       "<?xml version=\"1.0\" encoding=\"UTF-8\" standalone=\"no\"?><svg xmlns=\"http://www.w3.org/2000/svg\" xmlns:xlink=\"http://www.w3.org/1999/xlink\" contentScriptType=\"application/ecmascript\" contentStyleType=\"text/css\" height=\"479px\" preserveAspectRatio=\"none\" style=\"width:816px;height:479px;\" version=\"1.1\" viewBox=\"0 0 816 479\" width=\"816px\" zoomAndPan=\"magnify\"><defs><filter height=\"300%\" id=\"fvi374s4vkry7\" width=\"300%\" x=\"-1\" y=\"-1\"><feGaussianBlur result=\"blurOut\" stdDeviation=\"2.0\"/><feColorMatrix in=\"blurOut\" result=\"blurOut2\" type=\"matrix\" values=\"0 0 0 0 0 0 0 0 0 0 0 0 0 0 0 0 0 0 .4 0\"/><feOffset dx=\"4.0\" dy=\"4.0\" in=\"blurOut2\" result=\"blurOut3\"/><feBlend in=\"SourceGraphic\" in2=\"blurOut3\" mode=\"normal\"/></filter></defs><g><!--MD5=[fbc87193dbaf4d95561dea2c320d4a47]\n",
       "cluster E1--><a href=\"psysml:b606a038-0c45-436f-a3a1-beef47fa0e17\" target=\"_top\" title=\"psysml:b606a038-0c45-436f-a3a1-beef47fa0e17\" xlink:actuate=\"onRequest\" xlink:href=\"psysml:b606a038-0c45-436f-a3a1-beef47fa0e17\" xlink:show=\"new\" xlink:title=\"psysml:b606a038-0c45-436f-a3a1-beef47fa0e17\" xlink:type=\"simple\"><polygon fill=\"#FFFFFF\" filter=\"url(#fvi374s4vkry7)\" points=\"16,6,96,6,103,28.2969,794,28.2969,794,467,16,467,16,6\" style=\"stroke: #000000; stroke-width: 1.5;\"/><line style=\"stroke: #000000; stroke-width: 1.5;\" x1=\"16\" x2=\"103\" y1=\"28.2969\" y2=\"28.2969\"/><text fill=\"#000000\" font-family=\"sans-serif\" font-size=\"14\" font-weight=\"bold\" lengthAdjust=\"spacingAndGlyphs\" textLength=\"74\" x=\"20\" y=\"20.9951\">ActionTest</text></a><!--MD5=[b4997ac47864f28c2f74865a473b2911]\n",
       "class E2--><a href=\"psysml:f9329402-d9ed-482b-aa71-2e931e2796d7\" target=\"_top\" title=\"psysml:f9329402-d9ed-482b-aa71-2e931e2796d7\" xlink:actuate=\"onRequest\" xlink:href=\"psysml:f9329402-d9ed-482b-aa71-2e931e2796d7\" xlink:show=\"new\" xlink:title=\"psysml:f9329402-d9ed-482b-aa71-2e931e2796d7\" xlink:type=\"simple\"><rect fill=\"#FEFECE\" filter=\"url(#fvi374s4vkry7)\" height=\"45.9375\" id=\"E2\" style=\"stroke: #A80036; stroke-width: 1.5;\" width=\"125\" x=\"335.5\" y=\"405\"/><ellipse cx=\"350.5\" cy=\"423.9688\" fill=\"#A52A2A\" rx=\"11\" ry=\"11\" style=\"stroke: #A80036; stroke-width: 1.0;\"/><path d=\"M347.7188,428.9688 L347.7188,418.375 L350.4531,418.375 Q351.8438,418.375 352.6094,418.7656 Q353.3906,419.1406 353.9219,419.8438 Q354.4531,420.5469 354.75,421.5469 Q355.0469,422.5313 355.0469,423.75 Q355,425.3438 354.5,426.5313 Q354.0156,427.7031 352.9688,428.3438 Q351.9375,428.9688 350.25,428.9688 L347.7188,428.9688 Z M349.5781,427.4688 L350.2031,427.4688 Q351.2813,427.4688 351.9375,427.0156 Q352.5938,426.5625 352.875,425.7344 Q353.1719,424.8906 353.1563,423.7656 Q353.1563,422.5938 352.9063,421.7344 Q352.6563,420.8594 352.0469,420.3906 Q351.4375,419.9063 350.3906,419.9063 L349.5781,419.9063 L349.5781,427.4688 Z \"/><text fill=\"#000000\" font-family=\"sans-serif\" font-size=\"12\" font-style=\"italic\" lengthAdjust=\"spacingAndGlyphs\" textLength=\"97\" x=\"362.5\" y=\"421.1387\">«attribute  def»</text><text fill=\"#000000\" font-family=\"sans-serif\" font-size=\"12\" lengthAdjust=\"spacingAndGlyphs\" textLength=\"8\" x=\"407\" y=\"435.1074\">S</text><line style=\"stroke: #A80036; stroke-width: 1.5;\" x1=\"336.5\" x2=\"459.5\" y1=\"442.9375\" y2=\"442.9375\"/></a><!--MD5=[09b614a08d8cba4a07c9adeb5e0fee81]\n",
       "class E3--><a href=\"psysml:69e16b91-de61-4fe2-8ebf-63b040d0687a\" target=\"_top\" title=\"psysml:69e16b91-de61-4fe2-8ebf-63b040d0687a\" xlink:actuate=\"onRequest\" xlink:href=\"psysml:69e16b91-de61-4fe2-8ebf-63b040d0687a\" xlink:show=\"new\" xlink:title=\"psysml:69e16b91-de61-4fe2-8ebf-63b040d0687a\" xlink:type=\"simple\"><rect fill=\"#FEFECE\" filter=\"url(#fvi374s4vkry7)\" height=\"156.375\" id=\"E3\" rx=\"10\" ry=\"10\" style=\"stroke: #A80036; stroke-width: 1.5;\" width=\"81\" x=\"357.5\" y=\"41\"/><ellipse cx=\"372.5\" cy=\"59.9688\" fill=\"#FFA500\" rx=\"11\" ry=\"11\" style=\"stroke: #A80036; stroke-width: 1.0;\"/><path d=\"M372.25,65.4375 Q370.5,65.4375 369.5469,64.4063 Q368.6094,63.3594 368.6094,61.5156 L368.6094,54.625 L370.6719,54.625 L370.6719,54.7813 Q370.5781,54.875 370.5469,55.0156 Q370.5313,55.1406 370.5313,55.4063 L370.5313,61.5313 Q370.5313,62.625 370.9063,63.25 Q371.2813,63.875 372.2656,63.875 Q373.25,63.875 373.6406,63.25 Q374.0313,62.625 374.0313,61.4844 L374.0313,54.625 L375.9063,54.625 L375.9063,61.4688 Q375.9063,63.5 374.875,64.4688 Q373.8594,65.4375 372.25,65.4375 Z \"/><text fill=\"#000000\" font-family=\"sans-serif\" font-size=\"12\" font-style=\"italic\" lengthAdjust=\"spacingAndGlyphs\" textLength=\"53\" x=\"384.5\" y=\"57.1387\">«action»</text><text fill=\"#000000\" font-family=\"sans-serif\" font-size=\"12\" lengthAdjust=\"spacingAndGlyphs\" textLength=\"8\" x=\"407\" y=\"71.1074\">a</text><line style=\"stroke: #A80036; stroke-width: 1.5;\" x1=\"358.5\" x2=\"437.5\" y1=\"78.9375\" y2=\"78.9375\"/><text fill=\"#000000\" font-family=\"sans-serif\" font-size=\"11\" lengthAdjust=\"spacingAndGlyphs\" textLength=\"11\" x=\"363.5\" y=\"109.9526\">to</text><text fill=\"#000000\" font-family=\"sans-serif\" font-size=\"11\" lengthAdjust=\"spacingAndGlyphs\" textLength=\"11\" x=\"363.5\" y=\"122.7573\">to</text><text fill=\"#000000\" font-family=\"sans-serif\" font-size=\"11\" lengthAdjust=\"spacingAndGlyphs\" textLength=\"11\" x=\"363.5\" y=\"135.562\">to</text><text fill=\"#000000\" font-family=\"sans-serif\" font-size=\"11\" lengthAdjust=\"spacingAndGlyphs\" textLength=\"11\" x=\"363.5\" y=\"148.3667\">to</text><line style=\"stroke: #A80036; stroke-width: 1.0;\" x1=\"358.5\" x2=\"362.5\" y1=\"93.3398\" y2=\"93.3398\"/><text fill=\"#000000\" font-family=\"sans-serif\" font-size=\"11\" lengthAdjust=\"spacingAndGlyphs\" textLength=\"71\" x=\"362.5\" y=\"96.6479\">successions</text><line style=\"stroke: #A80036; stroke-width: 1.0;\" x1=\"433.5\" x2=\"437.5\" y1=\"93.3398\" y2=\"93.3398\"/><text fill=\"#000000\" font-family=\"sans-serif\" font-size=\"11\" lengthAdjust=\"spacingAndGlyphs\" textLength=\"0\" x=\"367.5\" y=\"177.9761\"/><text fill=\"#000000\" font-family=\"sans-serif\" font-size=\"11\" lengthAdjust=\"spacingAndGlyphs\" textLength=\"0\" x=\"367.5\" y=\"190.7808\"/><line style=\"stroke: #A80036; stroke-width: 1.0;\" x1=\"358.5\" x2=\"367.5\" y1=\"161.3633\" y2=\"161.3633\"/><text fill=\"#000000\" font-family=\"sans-serif\" font-size=\"11\" lengthAdjust=\"spacingAndGlyphs\" textLength=\"61\" x=\"367.5\" y=\"164.6714\">transitions</text><line style=\"stroke: #A80036; stroke-width: 1.0;\" x1=\"428.5\" x2=\"437.5\" y1=\"161.3633\" y2=\"161.3633\"/></a><!--MD5=[ebbe1d658d1005bcc118a6aa81145e00]\n",
       "class E4--><a href=\"psysml:d8f546a6-9527-45eb-b0f0-0c3fcbb6d2a9\" target=\"_top\" title=\"psysml:d8f546a6-9527-45eb-b0f0-0c3fcbb6d2a9\" xlink:actuate=\"onRequest\" xlink:href=\"psysml:d8f546a6-9527-45eb-b0f0-0c3fcbb6d2a9\" xlink:show=\"new\" xlink:title=\"psysml:d8f546a6-9527-45eb-b0f0-0c3fcbb6d2a9\" xlink:type=\"simple\"><rect fill=\"#FEFECE\" filter=\"url(#fvi374s4vkry7)\" height=\"45.9375\" id=\"E4\" rx=\"10\" ry=\"10\" style=\"stroke: #A80036; stroke-width: 1.5;\" width=\"113\" x=\"32.5\" y=\"278\"/><ellipse cx=\"47.5\" cy=\"296.9688\" fill=\"#FFA500\" rx=\"11\" ry=\"11\" style=\"stroke: #A80036; stroke-width: 1.0;\"/><path d=\"M47.25,302.4375 Q45.5,302.4375 44.5469,301.4063 Q43.6094,300.3594 43.6094,298.5156 L43.6094,291.625 L45.6719,291.625 L45.6719,291.7813 Q45.5781,291.875 45.5469,292.0156 Q45.5313,292.1406 45.5313,292.4063 L45.5313,298.5313 Q45.5313,299.625 45.9063,300.25 Q46.2813,300.875 47.2656,300.875 Q48.25,300.875 48.6406,300.25 Q49.0313,299.625 49.0313,298.4844 L49.0313,291.625 L50.9063,291.625 L50.9063,298.4688 Q50.9063,300.5 49.875,301.4688 Q48.8594,302.4375 47.25,302.4375 Z \"/><text fill=\"#000000\" font-family=\"sans-serif\" font-size=\"12\" font-style=\"italic\" lengthAdjust=\"spacingAndGlyphs\" textLength=\"53\" x=\"75.5\" y=\"294.1387\">«action»</text><text fill=\"#000000\" font-family=\"sans-serif\" font-size=\"12\" lengthAdjust=\"spacingAndGlyphs\" textLength=\"77\" x=\"61.5\" y=\"308.1074\">start: Action</text><line style=\"stroke: #A80036; stroke-width: 1.5;\" x1=\"33.5\" x2=\"144.5\" y1=\"315.9375\" y2=\"315.9375\"/></a><!--MD5=[270fce915f116d4de14055a7c1d9a0f3]\n",
       "class E5--><a href=\"psysml:ba661374-e1ab-49de-aa21-c62362c65829\" target=\"_top\" title=\"psysml:ba661374-e1ab-49de-aa21-c62362c65829\" xlink:actuate=\"onRequest\" xlink:href=\"psysml:ba661374-e1ab-49de-aa21-c62362c65829\" xlink:show=\"new\" xlink:title=\"psysml:ba661374-e1ab-49de-aa21-c62362c65829\" xlink:type=\"simple\"><rect fill=\"#FEFECE\" filter=\"url(#fvi374s4vkry7)\" height=\"45.9375\" id=\"E5\" rx=\"10\" ry=\"10\" style=\"stroke: #A80036; stroke-width: 1.5;\" width=\"118\" x=\"181\" y=\"278\"/><ellipse cx=\"196\" cy=\"296.9688\" fill=\"#FFA500\" rx=\"11\" ry=\"11\" style=\"stroke: #A80036; stroke-width: 1.0;\"/><path d=\"M195.75,302.4375 Q194,302.4375 193.0469,301.4063 Q192.1094,300.3594 192.1094,298.5156 L192.1094,291.625 L194.1719,291.625 L194.1719,291.7813 Q194.0781,291.875 194.0469,292.0156 Q194.0313,292.1406 194.0313,292.4063 L194.0313,298.5313 Q194.0313,299.625 194.4063,300.25 Q194.7813,300.875 195.7656,300.875 Q196.75,300.875 197.1406,300.25 Q197.5313,299.625 197.5313,298.4844 L197.5313,291.625 L199.4063,291.625 L199.4063,298.4688 Q199.4063,300.5 198.375,301.4688 Q197.3594,302.4375 195.75,302.4375 Z \"/><text fill=\"#000000\" font-family=\"sans-serif\" font-size=\"12\" font-style=\"italic\" lengthAdjust=\"spacingAndGlyphs\" textLength=\"90\" x=\"208\" y=\"294.1387\">«merge node»</text><text fill=\"#000000\" font-family=\"sans-serif\" font-size=\"12\" lengthAdjust=\"spacingAndGlyphs\" textLength=\"11\" x=\"247.5\" y=\"308.1074\">m</text><line style=\"stroke: #A80036; stroke-width: 1.5;\" x1=\"182\" x2=\"298\" y1=\"315.9375\" y2=\"315.9375\"/></a><!--MD5=[60a26617385b1d2d0262a64233df1f8d]\n",
       "class E6--><a href=\"psysml:dcf8e234-4de8-4cb8-a947-17c2138066f0\" target=\"_top\" title=\"psysml:dcf8e234-4de8-4cb8-a947-17c2138066f0\" xlink:actuate=\"onRequest\" xlink:href=\"psysml:dcf8e234-4de8-4cb8-a947-17c2138066f0\" xlink:show=\"new\" xlink:title=\"psysml:dcf8e234-4de8-4cb8-a947-17c2138066f0\" xlink:type=\"simple\"><rect fill=\"#FEFECE\" filter=\"url(#fvi374s4vkry7)\" height=\"88.3516\" id=\"E6\" rx=\"10\" ry=\"10\" style=\"stroke: #A80036; stroke-width: 1.5;\" width=\"128\" x=\"334\" y=\"257\"/><ellipse cx=\"349\" cy=\"275.9688\" fill=\"#B6DBBB\" rx=\"11\" ry=\"11\" style=\"stroke: #A80036; stroke-width: 1.0;\"/><path d=\"M348.75,281.4375 Q347,281.4375 346.0469,280.4063 Q345.1094,279.3594 345.1094,277.5156 L345.1094,270.625 L347.1719,270.625 L347.1719,270.7813 Q347.0781,270.875 347.0469,271.0156 Q347.0313,271.1406 347.0313,271.4063 L347.0313,277.5313 Q347.0313,278.625 347.4063,279.25 Q347.7813,279.875 348.7656,279.875 Q349.75,279.875 350.1406,279.25 Q350.5313,278.625 350.5313,277.4844 L350.5313,270.625 L352.4063,270.625 L352.4063,277.4688 Q352.4063,279.5 351.375,280.4688 Q350.3594,281.4375 348.75,281.4375 Z \"/><text fill=\"#000000\" font-family=\"sans-serif\" font-size=\"12\" font-style=\"italic\" lengthAdjust=\"spacingAndGlyphs\" textLength=\"100\" x=\"361\" y=\"273.1387\">«accept action»</text><text fill=\"#000000\" font-family=\"sans-serif\" font-size=\"12\" lengthAdjust=\"spacingAndGlyphs\" text-decoration=\"line-through\" textLength=\"51\" x=\"385.5\" y=\"287.1074\">noname</text><line style=\"stroke: #A80036; stroke-width: 1.5;\" x1=\"335\" x2=\"461\" y1=\"294.9375\" y2=\"294.9375\"/><text fill=\"#000000\" font-family=\"sans-serif\" font-size=\"11\" font-weight=\"bold\" lengthAdjust=\"spacingAndGlyphs\" textLength=\"10\" x=\"340\" y=\"325.9526\">in</text><text fill=\"#000000\" font-family=\"sans-serif\" font-size=\"11\" lengthAdjust=\"spacingAndGlyphs\" textLength=\"60\" x=\"354\" y=\"325.9526\">payload: S</text><text fill=\"#000000\" font-family=\"sans-serif\" font-size=\"11\" font-weight=\"bold\" lengthAdjust=\"spacingAndGlyphs\" textLength=\"10\" x=\"340\" y=\"338.7573\">in</text><text fill=\"#000000\" font-family=\"sans-serif\" font-size=\"11\" lengthAdjust=\"spacingAndGlyphs\" textLength=\"46\" x=\"354\" y=\"338.7573\">receiver</text><line style=\"stroke: #A80036; stroke-width: 1.0;\" x1=\"335\" x2=\"364.5\" y1=\"309.3398\" y2=\"309.3398\"/><text fill=\"#000000\" font-family=\"sans-serif\" font-size=\"11\" lengthAdjust=\"spacingAndGlyphs\" textLength=\"67\" x=\"364.5\" y=\"312.6479\">parameters</text><line style=\"stroke: #A80036; stroke-width: 1.0;\" x1=\"431.5\" x2=\"461\" y1=\"309.3398\" y2=\"309.3398\"/></a><!--MD5=[2156ba9850f5573cc1fc38a6a4b2f02b]\n",
       "class E7--><a href=\"psysml:18c3d457-6bb3-4962-a480-0e1b2254a09a\" target=\"_top\" title=\"psysml:18c3d457-6bb3-4962-a480-0e1b2254a09a\" xlink:actuate=\"onRequest\" xlink:href=\"psysml:18c3d457-6bb3-4962-a480-0e1b2254a09a\" xlink:show=\"new\" xlink:title=\"psysml:18c3d457-6bb3-4962-a480-0e1b2254a09a\" xlink:type=\"simple\"><rect fill=\"#FEFECE\" filter=\"url(#fvi374s4vkry7)\" height=\"88.3516\" id=\"E7\" rx=\"10\" ry=\"10\" style=\"stroke: #A80036; stroke-width: 1.5;\" width=\"116\" x=\"497\" y=\"257\"/><ellipse cx=\"512\" cy=\"275.9688\" fill=\"#B6DBBB\" rx=\"11\" ry=\"11\" style=\"stroke: #A80036; stroke-width: 1.0;\"/><path d=\"M511.75,281.4375 Q510,281.4375 509.0469,280.4063 Q508.1094,279.3594 508.1094,277.5156 L508.1094,270.625 L510.1719,270.625 L510.1719,270.7813 Q510.0781,270.875 510.0469,271.0156 Q510.0313,271.1406 510.0313,271.4063 L510.0313,277.5313 Q510.0313,278.625 510.4063,279.25 Q510.7813,279.875 511.7656,279.875 Q512.75,279.875 513.1406,279.25 Q513.5313,278.625 513.5313,277.4844 L513.5313,270.625 L515.4063,270.625 L515.4063,277.4688 Q515.4063,279.5 514.375,280.4688 Q513.3594,281.4375 511.75,281.4375 Z \"/><text fill=\"#000000\" font-family=\"sans-serif\" font-size=\"12\" font-style=\"italic\" lengthAdjust=\"spacingAndGlyphs\" textLength=\"88\" x=\"524\" y=\"273.1387\">«send action»</text><text fill=\"#000000\" font-family=\"sans-serif\" font-size=\"12\" lengthAdjust=\"spacingAndGlyphs\" text-decoration=\"line-through\" textLength=\"51\" x=\"542.5\" y=\"287.1074\">noname</text><line style=\"stroke: #A80036; stroke-width: 1.5;\" x1=\"498\" x2=\"612\" y1=\"294.9375\" y2=\"294.9375\"/><text fill=\"#000000\" font-family=\"sans-serif\" font-size=\"11\" font-weight=\"bold\" lengthAdjust=\"spacingAndGlyphs\" textLength=\"10\" x=\"503\" y=\"325.9526\">in</text><text fill=\"#000000\" font-family=\"sans-serif\" font-size=\"11\" lengthAdjust=\"spacingAndGlyphs\" textLength=\"73\" x=\"517\" y=\"325.9526\">payload=S();</text><text fill=\"#000000\" font-family=\"sans-serif\" font-size=\"11\" font-weight=\"bold\" lengthAdjust=\"spacingAndGlyphs\" textLength=\"10\" x=\"503\" y=\"338.7573\">in</text><text fill=\"#000000\" font-family=\"sans-serif\" font-size=\"11\" lengthAdjust=\"spacingAndGlyphs\" textLength=\"75\" x=\"517\" y=\"338.7573\">receiver=B();</text><line style=\"stroke: #A80036; stroke-width: 1.0;\" x1=\"498\" x2=\"521.5\" y1=\"309.3398\" y2=\"309.3398\"/><text fill=\"#000000\" font-family=\"sans-serif\" font-size=\"11\" lengthAdjust=\"spacingAndGlyphs\" textLength=\"67\" x=\"521.5\" y=\"312.6479\">parameters</text><line style=\"stroke: #A80036; stroke-width: 1.0;\" x1=\"588.5\" x2=\"612\" y1=\"309.3398\" y2=\"309.3398\"/></a><!--MD5=[b9389687b975829384b498ac4b7476b2]\n",
       "class E8--><a href=\"psysml:1cf4a57b-2f41-48db-bb2e-4817b665eacc\" target=\"_top\" title=\"psysml:1cf4a57b-2f41-48db-bb2e-4817b665eacc\" xlink:actuate=\"onRequest\" xlink:href=\"psysml:1cf4a57b-2f41-48db-bb2e-4817b665eacc\" xlink:show=\"new\" xlink:title=\"psysml:1cf4a57b-2f41-48db-bb2e-4817b665eacc\" xlink:type=\"simple\"><rect fill=\"#FEFECE\" filter=\"url(#fvi374s4vkry7)\" height=\"45.9375\" id=\"E8\" rx=\"10\" ry=\"10\" style=\"stroke: #A80036; stroke-width: 1.5;\" width=\"130\" x=\"648\" y=\"278\"/><ellipse cx=\"663\" cy=\"296.9688\" fill=\"#FFA500\" rx=\"11\" ry=\"11\" style=\"stroke: #A80036; stroke-width: 1.0;\"/><path d=\"M662.75,302.4375 Q661,302.4375 660.0469,301.4063 Q659.1094,300.3594 659.1094,298.5156 L659.1094,291.625 L661.1719,291.625 L661.1719,291.7813 Q661.0781,291.875 661.0469,292.0156 Q661.0313,292.1406 661.0313,292.4063 L661.0313,298.5313 Q661.0313,299.625 661.4063,300.25 Q661.7813,300.875 662.7656,300.875 Q663.75,300.875 664.1406,300.25 Q664.5313,299.625 664.5313,298.4844 L664.5313,291.625 L666.4063,291.625 L666.4063,298.4688 Q666.4063,300.5 665.375,301.4688 Q664.3594,302.4375 662.75,302.4375 Z \"/><text fill=\"#000000\" font-family=\"sans-serif\" font-size=\"12\" font-style=\"italic\" lengthAdjust=\"spacingAndGlyphs\" textLength=\"102\" x=\"675\" y=\"294.1387\">«decision node»</text><text fill=\"#000000\" font-family=\"sans-serif\" font-size=\"12\" lengthAdjust=\"spacingAndGlyphs\" text-decoration=\"line-through\" textLength=\"51\" x=\"700.5\" y=\"308.1074\">noname</text><line style=\"stroke: #A80036; stroke-width: 1.5;\" x1=\"649\" x2=\"777\" y1=\"315.9375\" y2=\"315.9375\"/></a><!--MD5=[fd4143e9d270a159db93a4ea2a975926]\n",
       "class E9--><a href=\"psysml:530e5343-b7af-483f-85a0-93ec425d0302\" target=\"_top\" title=\"psysml:530e5343-b7af-483f-85a0-93ec425d0302\" xlink:actuate=\"onRequest\" xlink:href=\"psysml:530e5343-b7af-483f-85a0-93ec425d0302\" xlink:show=\"new\" xlink:title=\"psysml:530e5343-b7af-483f-85a0-93ec425d0302\" xlink:type=\"simple\"><rect fill=\"#FEFECE\" filter=\"url(#fvi374s4vkry7)\" height=\"45.9375\" id=\"E9\" style=\"stroke: #A80036; stroke-width: 1.5;\" width=\"109\" x=\"123.5\" y=\"96\"/><ellipse cx=\"138.5\" cy=\"114.9688\" fill=\"#FFFACD\" rx=\"11\" ry=\"11\" style=\"stroke: #A80036; stroke-width: 1.0;\"/><path d=\"M135.375,119.9688 L135.375,109.375 L138.6094,109.375 Q140.5156,109.375 141.4219,110.125 Q142.3438,110.875 142.3438,112.0469 Q142.3438,112.7344 141.9531,113.3906 Q141.5781,114.0469 140.8594,114.3438 Q141.7188,114.7188 142.2344,115.4063 Q142.75,116.0938 142.75,116.9063 Q142.75,118.2813 141.7188,119.125 Q140.7031,119.9688 138.5938,119.9688 L135.375,119.9688 Z M137.2969,113.6094 L138.4531,113.6094 Q139.5781,113.6094 139.9844,113.2344 Q140.4063,112.8438 140.4063,112.2188 Q140.4063,111.6406 139.9844,111.2813 Q139.5625,110.9219 138.625,110.9219 L137.2969,110.9219 L137.2969,113.6094 Z M137.2969,118.3906 L138.7969,118.3906 Q139.7031,118.3906 140.2344,118 Q140.7656,117.6094 140.7656,116.8594 Q140.7656,116.0938 140.2656,115.625 Q139.7656,115.1406 138.5,115.1406 L137.2969,115.1406 L137.2969,118.3906 Z \"/><text fill=\"#000000\" font-family=\"sans-serif\" font-size=\"12\" font-style=\"italic\" lengthAdjust=\"spacingAndGlyphs\" textLength=\"81\" x=\"150.5\" y=\"112.1387\">«action  def»</text><text fill=\"#000000\" font-family=\"sans-serif\" font-size=\"12\" lengthAdjust=\"spacingAndGlyphs\" textLength=\"8\" x=\"187\" y=\"126.1074\">B</text><line style=\"stroke: #A80036; stroke-width: 1.5;\" x1=\"124.5\" x2=\"231.5\" y1=\"133.9375\" y2=\"133.9375\"/></a><!--MD5=[4672eba38e49728da53d11aeb285b987]\n",
       "reverse link E3 to E4--><a href=\"psysml:4e23b20a-a36f-46ec-8d5d-d94d3421b796\" target=\"_top\" title=\"psysml:4e23b20a-a36f-46ec-8d5d-d94d3421b796\" xlink:actuate=\"onRequest\" xlink:href=\"psysml:4e23b20a-a36f-46ec-8d5d-d94d3421b796\" xlink:show=\"new\" xlink:title=\"psysml:4e23b20a-a36f-46ec-8d5d-d94d3421b796\" xlink:type=\"simple\"><path d=\"M344.26,151.3 C282.11,187.51 181.38,246.19 126.89,277.93 \" fill=\"none\" id=\"E3&lt;-E4\" style=\"stroke: #A80036; stroke-width: 1.0; stroke-dasharray: 7.0,7.0;\"/><ellipse cx=\"350.3795\" cy=\"147.7505\" fill=\"#FFFFFF\" rx=\"8\" ry=\"8\" style=\"stroke: #A80036; stroke-width: 1.0;\"/><line style=\"stroke: #A80036; stroke-width: 1.0;\" x1=\"343.469\" x2=\"357.29\" y1=\"151.781\" y2=\"143.72\"/><line style=\"stroke: #A80036; stroke-width: 1.0;\" x1=\"346.349\" x2=\"354.41\" y1=\"140.84\" y2=\"154.661\"/></a><!--MD5=[191cde3d490a3f6d7bb551fe3ddca469]\n",
       "reverse link E3 to E5--><a href=\"psysml:ad14583f-f40d-4d66-bbbd-cfa822b8d260\" target=\"_top\" title=\"psysml:ad14583f-f40d-4d66-bbbd-cfa822b8d260\" xlink:actuate=\"onRequest\" xlink:href=\"psysml:ad14583f-f40d-4d66-bbbd-cfa822b8d260\" xlink:show=\"new\" xlink:title=\"psysml:ad14583f-f40d-4d66-bbbd-cfa822b8d260\" xlink:type=\"simple\"><path d=\"M348.6,176.28 C318.43,210.65 281.53,252.68 259.44,277.85 \" fill=\"none\" id=\"E3&lt;-E5\" style=\"stroke: #A80036; stroke-width: 1.0;\"/><polygon fill=\"#A80036\" points=\"357.31,166.35,350.3434,168.212,349.3828,175.3588,356.3493,173.4968,357.31,166.35\" style=\"stroke: #A80036; stroke-width: 1.0;\"/><text fill=\"#000000\" font-family=\"sans-serif\" font-size=\"13\" lengthAdjust=\"spacingAndGlyphs\" textLength=\"7\" x=\"256.5246\" y=\"267.0879\">*</text></a><!--MD5=[1026b4b93417a13aa8999a858998add2]\n",
       "reverse link E3 to E6--><a href=\"psysml:02f2d6be-0a1b-48e7-9525-0788d6b31587\" target=\"_top\" title=\"psysml:02f2d6be-0a1b-48e7-9525-0788d6b31587\" xlink:actuate=\"onRequest\" xlink:href=\"psysml:02f2d6be-0a1b-48e7-9525-0788d6b31587\" xlink:show=\"new\" xlink:title=\"psysml:02f2d6be-0a1b-48e7-9525-0788d6b31587\" xlink:type=\"simple\"><path d=\"M398,210.12 C398,226.38 398,242.64 398,256.77 \" fill=\"none\" id=\"E3&lt;-E6\" style=\"stroke: #A80036; stroke-width: 1.0;\"/><polygon fill=\"#A80036\" points=\"398,197.12,394,203.12,398,209.12,402,203.12,398,197.12\" style=\"stroke: #A80036; stroke-width: 1.0;\"/><text fill=\"#000000\" font-family=\"sans-serif\" font-size=\"13\" lengthAdjust=\"spacingAndGlyphs\" textLength=\"7\" x=\"390.4641\" y=\"245.899\">*</text></a><!--MD5=[3403bfa781cc3da0fd423dbab6f01c63]\n",
       "reverse link E6 to E2--><a href=\"psysml:415ec969-1049-4ff8-b1f4-3b78a625bc7d\" target=\"_top\" title=\"psysml:415ec969-1049-4ff8-b1f4-3b78a625bc7d\" xlink:actuate=\"onRequest\" xlink:href=\"psysml:415ec969-1049-4ff8-b1f4-3b78a625bc7d\" xlink:show=\"new\" xlink:title=\"psysml:415ec969-1049-4ff8-b1f4-3b78a625bc7d\" xlink:type=\"simple\"><path d=\"M385.31,358.11 C385,374.71 385.9,391.92 388.01,404.99 \" fill=\"none\" id=\"E6&lt;-E2\" style=\"stroke: #A80036; stroke-width: 1.0;\"/><polygon fill=\"#FFFFFF\" points=\"385.82,345.02,381.5921,350.8617,385.3583,357.0111,389.5862,351.1695,385.82,345.02\" style=\"stroke: #A80036; stroke-width: 1.0;\"/></a><!--MD5=[3403bfa781cc3da0fd423dbab6f01c63]\n",
       "reverse link E6 to E2--><a href=\"psysml:415ec969-1049-4ff8-b1f4-3b78a625bc7d\" target=\"_top\" title=\"psysml:415ec969-1049-4ff8-b1f4-3b78a625bc7d\" xlink:actuate=\"onRequest\" xlink:href=\"psysml:415ec969-1049-4ff8-b1f4-3b78a625bc7d\" xlink:show=\"new\" xlink:title=\"psysml:415ec969-1049-4ff8-b1f4-3b78a625bc7d\" xlink:type=\"simple\"><path d=\"M411.44,358.11 C411.76,374.71 410.81,391.92 408.57,404.99 \" fill=\"none\" id=\"E6&lt;-E2-1\" style=\"stroke: #A80036; stroke-width: 1.0;\"/><polygon fill=\"#FFFFFF\" points=\"410.9,345.02,407.1473,351.1777,411.388,357.0101,415.1407,350.8524,410.9,345.02\" style=\"stroke: #A80036; stroke-width: 1.0;\"/></a><!--MD5=[85760999379eecfd2565a9fecdca67e4]\n",
       "reverse link E3 to E7--><a href=\"psysml:6b163638-00d9-4d11-a021-492b992d4a3f\" target=\"_top\" title=\"psysml:6b163638-00d9-4d11-a021-492b992d4a3f\" xlink:actuate=\"onRequest\" xlink:href=\"psysml:6b163638-00d9-4d11-a021-492b992d4a3f\" xlink:show=\"new\" xlink:title=\"psysml:6b163638-00d9-4d11-a021-492b992d4a3f\" xlink:type=\"simple\"><path d=\"M447.61,176.87 C470.16,202.74 496.42,232.84 517.33,256.81 \" fill=\"none\" id=\"E3&lt;-E7\" style=\"stroke: #A80036; stroke-width: 1.0;\"/><polygon fill=\"#A80036\" points=\"438.84,166.82,439.7726,173.9705,446.7318,175.8599,445.7992,168.7094,438.84,166.82\" style=\"stroke: #A80036; stroke-width: 1.0;\"/><text fill=\"#000000\" font-family=\"sans-serif\" font-size=\"13\" lengthAdjust=\"spacingAndGlyphs\" textLength=\"7\" x=\"504.0258\" y=\"245.9451\">*</text></a><!--MD5=[4cb75b73ec3682b8f7f8edc9cc86126a]\n",
       "reverse link E3 to E8--><a href=\"psysml:e0686d6c-32a7-4788-b0ea-8926b68cc818\" target=\"_top\" title=\"psysml:e0686d6c-32a7-4788-b0ea-8926b68cc818\" xlink:actuate=\"onRequest\" xlink:href=\"psysml:e0686d6c-32a7-4788-b0ea-8926b68cc818\" xlink:show=\"new\" xlink:title=\"psysml:e0686d6c-32a7-4788-b0ea-8926b68cc818\" xlink:type=\"simple\"><path d=\"M450.18,149.82 C513.19,185.82 617.73,245.56 674.1,277.77 \" fill=\"none\" id=\"E3&lt;-E8\" style=\"stroke: #A80036; stroke-width: 1.0;\"/><polygon fill=\"#A80036\" points=\"438.54,143.16,441.7675,149.6085,448.9614,149.1094,445.7338,142.6609,438.54,143.16\" style=\"stroke: #A80036; stroke-width: 1.0;\"/></a><!--MD5=[6ce49f1ee0c572beb2f479987255dfd8]\n",
       "@startuml\r\n",
       " \r\n",
       "package \"ActionTest\" as E1  [[psysml:b606a038-0c45-436f-a3a1-beef47fa0e17 ]]  {\r\n",
       "comp def \"S\" as E2 << <<(D,brown) attribute  def>> [[psysml:f9329402-d9ed-482b-aa71-2e931e2796d7 ]] {\r\n",
       "}\r\n",
       "comp usage \"a\" as E3 << <<(U,orange) action>> [[psysml:69e16b91-de61-4fe2-8ebf-63b040d0687a ]] {\r\n",
       "- - successions - -\r\n",
       " to \r\n",
       " to \r\n",
       " to \r\n",
       " to \r\n",
       "- - transitions - -\r\n",
       "\r\n",
       "\r\n",
       "}\r\n",
       "comp usage \"start: Action \" as E4 << <<(U,orange) action>> [[psysml:d8f546a6-9527-45eb-b0f0-0c3fcbb6d2a9 ]] {\r\n",
       "}\r\n",
       "comp usage \"m\" as E5 << <<(U,orange) merge node>> [[psysml:ba661374-e1ab-49de-aa21-c62362c65829 ]] {\r\n",
       "}\r\n",
       "comp usage \"<s>noname</s>\" as E6 << accept action>> [[psysml:dcf8e234-4de8-4cb8-a947-17c2138066f0 ]] {\r\n",
       "- - parameters - -\r\n",
       "<b>in</b> payload: S\r\n",
       "<b>in</b> receiver\r\n",
       "}\r\n",
       "comp usage \"<s>noname</s>\" as E7 << send action>> [[psysml:18c3d457-6bb3-4962-a480-0e1b2254a09a ]] {\r\n",
       "- - parameters - -\r\n",
       "<b>in</b> payload=S(); \r\n",
       "<b>in</b> receiver=B(); \r\n",
       "}\r\n",
       "comp usage \"<s>noname</s>\" as E8 << <<(U,orange) decision node>> [[psysml:1cf4a57b-2f41-48db-bb2e-4817b665eacc ]] {\r\n",
       "}\r\n",
       "comp def \"B\" as E9 << <<(B,lemonchiffon) action  def>> [[psysml:530e5343-b7af-483f-85a0-93ec425d0302 ]] {\r\n",
       "}\r\n",
       "}\r\n",
       "E3 +.. E4 [[psysml:4e23b20a-a36f-46ec-8d5d-d94d3421b796 ]] \r\n",
       "E3 *- - \"*\"E5 [[psysml:ad14583f-f40d-4d66-bbbd-cfa822b8d260 ]] \r\n",
       "E3 *- - \"*\"E6 [[psysml:02f2d6be-0a1b-48e7-9525-0788d6b31587 ]] \r\n",
       "E6 o- - E2 [[psysml:415ec969-1049-4ff8-b1f4-3b78a625bc7d ]] \r\n",
       "E6 o- - E2 [[psysml:415ec969-1049-4ff8-b1f4-3b78a625bc7d ]] \r\n",
       "E3 *- - \"*\"E7 [[psysml:6b163638-00d9-4d11-a021-492b992d4a3f ]] \r\n",
       "E3 *- - E8 [[psysml:e0686d6c-32a7-4788-b0ea-8926b68cc818 ]] \r\n",
       "@enduml\r\n",
       "\n",
       "PlantUML version 1.2020.13(Sat Jun 13 12:26:38 UTC 2020)\n",
       "(EPL source distribution)\n",
       "Java Runtime: OpenJDK Runtime Environment\n",
       "JVM: OpenJDK 64-Bit Server VM\n",
       "Default Encoding: UTF-8\n",
       "Language: en\n",
       "Country: null\n",
       "--></g></svg>"
      ]
     },
     "execution_count": 31,
     "metadata": {},
     "output_type": "execute_result"
    }
   ],
   "source": [
    "%viz --style=\"PLANTUML\" --view=\"Tree\" \"ActionTest\""
   ]
  },
  {
   "cell_type": "code",
   "execution_count": 32,
   "id": "47e518b9",
   "metadata": {
    "execution": {
     "iopub.execute_input": "2021-10-25T08:21:24.147746Z",
     "iopub.status.busy": "2021-10-25T08:21:24.147354Z",
     "iopub.status.idle": "2021-10-25T08:21:24.199305Z",
     "shell.execute_reply": "2021-10-25T08:21:24.197033Z"
    }
   },
   "outputs": [
    {
     "data": {
      "image/svg+xml": [
       "<?xml version=\"1.0\" encoding=\"UTF-8\" standalone=\"no\"?><svg xmlns=\"http://www.w3.org/2000/svg\" xmlns:xlink=\"http://www.w3.org/1999/xlink\" contentScriptType=\"application/ecmascript\" contentStyleType=\"text/css\" height=\"300px\" preserveAspectRatio=\"none\" style=\"width:603px;height:300px;background:#000000;\" version=\"1.1\" viewBox=\"0 0 603 300\" width=\"603px\" zoomAndPan=\"magnify\"><defs/><g><rect fill=\"#202500\" height=\"1\" style=\"stroke: #202500; stroke-width: 1.0;\" width=\"1\" x=\"0\" y=\"0\"/><rect fill=\"#FFFFFF\" height=\"202.8012\" style=\"stroke: #FFFFFF; stroke-width: 1.0;\" width=\"602\" x=\"0\" y=\"0\"/><text fill=\"#000000\" font-family=\"sans-serif\" font-size=\"12\" font-weight=\"bold\" lengthAdjust=\"spacingAndGlyphs\" textLength=\"139\" x=\"5\" y=\"16.1387\">Welcome to PlantUML!</text><text fill=\"#000000\" font-family=\"sans-serif\" font-size=\"12\" lengthAdjust=\"spacingAndGlyphs\" textLength=\"0\" x=\"9\" y=\"30.1074\"/><text fill=\"#000000\" font-family=\"sans-serif\" font-size=\"12\" lengthAdjust=\"spacingAndGlyphs\" textLength=\"293\" x=\"5\" y=\"44.0762\">If you use this software, you accept its license.</text><text fill=\"#000000\" font-family=\"sans-serif\" font-size=\"12\" lengthAdjust=\"spacingAndGlyphs\" textLength=\"107\" x=\"5\" y=\"58.0449\">(details by typing</text><text fill=\"#000000\" font-family=\"monospace\" font-size=\"12\" lengthAdjust=\"spacingAndGlyphs\" textLength=\"42\" x=\"116\" y=\"58.595\">license</text><text fill=\"#000000\" font-family=\"sans-serif\" font-size=\"12\" lengthAdjust=\"spacingAndGlyphs\" textLength=\"56\" x=\"162\" y=\"58.0449\">keyword)</text><text fill=\"#000000\" font-family=\"sans-serif\" font-size=\"12\" lengthAdjust=\"spacingAndGlyphs\" textLength=\"0\" x=\"9\" y=\"72.0137\"/><text fill=\"#000000\" font-family=\"sans-serif\" font-size=\"12\" lengthAdjust=\"spacingAndGlyphs\" textLength=\"283\" x=\"5\" y=\"85.9824\">You can start with a simple UML Diagram like:</text><text fill=\"#000000\" font-family=\"sans-serif\" font-size=\"12\" lengthAdjust=\"spacingAndGlyphs\" textLength=\"0\" x=\"9\" y=\"99.9512\"/><text fill=\"#000000\" font-family=\"monospace\" font-size=\"12\" lengthAdjust=\"spacingAndGlyphs\" textLength=\"102\" x=\"5\" y=\"113.0893\">Bob-&gt;Alice: Hello</text><text fill=\"#000000\" font-family=\"sans-serif\" font-size=\"12\" lengthAdjust=\"spacingAndGlyphs\" textLength=\"0\" x=\"9\" y=\"126.508\"/><text fill=\"#000000\" font-family=\"sans-serif\" font-size=\"12\" lengthAdjust=\"spacingAndGlyphs\" textLength=\"14\" x=\"5\" y=\"140.4768\">Or</text><text fill=\"#000000\" font-family=\"sans-serif\" font-size=\"12\" lengthAdjust=\"spacingAndGlyphs\" textLength=\"0\" x=\"9\" y=\"154.4455\"/><text fill=\"#000000\" font-family=\"monospace\" font-size=\"12\" lengthAdjust=\"spacingAndGlyphs\" textLength=\"78\" x=\"5\" y=\"167.5837\">class Example</text><text fill=\"#000000\" font-family=\"sans-serif\" font-size=\"12\" lengthAdjust=\"spacingAndGlyphs\" textLength=\"0\" x=\"9\" y=\"181.0023\"/><text fill=\"#000000\" font-family=\"sans-serif\" font-size=\"12\" lengthAdjust=\"spacingAndGlyphs\" textLength=\"349\" x=\"5\" y=\"194.9711\">You will find more information about PlantUML syntax on</text><text fill=\"#000000\" font-family=\"sans-serif\" font-size=\"12\" lengthAdjust=\"spacingAndGlyphs\" text-decoration=\"underline\" textLength=\"129\" x=\"358\" y=\"194.9711\">https://plantuml.com</text><image height=\"71\" width=\"80\" x=\"516\" xlink:href=\"data:image/png;base64,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\" y=\"6\"/><rect fill=\"#000000\" height=\"96.4844\" style=\"stroke: #000000; stroke-width: 1.0;\" width=\"602\" x=\"0\" y=\"202.8012\"/><rect fill=\"#33FF02\" height=\"21.2969\" style=\"stroke: #33FF02; stroke-width: 1.0;\" width=\"145\" x=\"5\" y=\"207.8012\"/><text fill=\"#000000\" font-family=\"sans-serif\" font-size=\"14\" font-weight=\"bold\" lengthAdjust=\"spacingAndGlyphs\" textLength=\"143\" x=\"6\" y=\"222.8012\">[From string (line 2) ]</text><text fill=\"#33FF02\" font-family=\"sans-serif\" font-size=\"14\" font-weight=\"bold\" lengthAdjust=\"spacingAndGlyphs\" textLength=\"0\" x=\"9\" y=\"243.0981\"/><text fill=\"#33FF02\" font-family=\"sans-serif\" font-size=\"14\" font-weight=\"bold\" lengthAdjust=\"spacingAndGlyphs\" textLength=\"70\" x=\"5\" y=\"259.3949\">@startuml</text><text fill=\"#33FF02\" font-family=\"sans-serif\" font-size=\"14\" font-weight=\"bold\" lengthAdjust=\"spacingAndGlyphs\" textLength=\"0\" x=\"9\" y=\"275.6918\"/><text fill=\"#FF0000\" font-family=\"sans-serif\" font-size=\"14\" font-weight=\"bold\" lengthAdjust=\"spacingAndGlyphs\" textLength=\"124\" x=\"9\" y=\"291.9887\">Empty description</text><!--MD5=[f59edd8218d337f74d0c332fc6737304]\n",
       "@startuml\r\n",
       " \r\n",
       "@enduml\r\n",
       "\n",
       "PlantUML version 1.2020.13(Sat Jun 13 12:26:38 UTC 2020)\n",
       "(EPL source distribution)\n",
       "Java Runtime: OpenJDK Runtime Environment\n",
       "JVM: OpenJDK 64-Bit Server VM\n",
       "Default Encoding: UTF-8\n",
       "Language: en\n",
       "Country: null\n",
       "--></g></svg>"
      ]
     },
     "execution_count": 32,
     "metadata": {},
     "output_type": "execute_result"
    }
   ],
   "source": [
    "%viz --style=\"PLANTUML\" --view=\"State\" \"ActionTest\""
   ]
  },
  {
   "cell_type": "code",
   "execution_count": 33,
   "id": "12232d9e",
   "metadata": {
    "execution": {
     "iopub.execute_input": "2021-10-25T08:21:24.247643Z",
     "iopub.status.busy": "2021-10-25T08:21:24.247223Z",
     "iopub.status.idle": "2021-10-25T08:21:24.286467Z",
     "shell.execute_reply": "2021-10-25T08:21:24.284173Z"
    }
   },
   "outputs": [
    {
     "data": {
      "image/svg+xml": [
       "<?xml version=\"1.0\" encoding=\"UTF-8\" standalone=\"no\"?><svg xmlns=\"http://www.w3.org/2000/svg\" xmlns:xlink=\"http://www.w3.org/1999/xlink\" contentScriptType=\"application/ecmascript\" contentStyleType=\"text/css\" height=\"462px\" preserveAspectRatio=\"none\" style=\"width:582px;height:462px;\" version=\"1.1\" viewBox=\"0 0 582 462\" width=\"582px\" zoomAndPan=\"magnify\"><defs><filter height=\"300%\" id=\"fw6i7hdz1sm20\" width=\"300%\" x=\"-1\" y=\"-1\"><feGaussianBlur result=\"blurOut\" stdDeviation=\"2.0\"/><feColorMatrix in=\"blurOut\" result=\"blurOut2\" type=\"matrix\" values=\"0 0 0 0 0 0 0 0 0 0 0 0 0 0 0 0 0 0 .4 0\"/><feOffset dx=\"4.0\" dy=\"4.0\" in=\"blurOut2\" result=\"blurOut3\"/><feBlend in=\"SourceGraphic\" in2=\"blurOut3\" mode=\"normal\"/></filter></defs><g><!--MD5=[fbc87193dbaf4d95561dea2c320d4a47]\n",
       "cluster E1--><a href=\"psysml:b606a038-0c45-436f-a3a1-beef47fa0e17\" target=\"_top\" title=\"psysml:b606a038-0c45-436f-a3a1-beef47fa0e17\" xlink:actuate=\"onRequest\" xlink:href=\"psysml:b606a038-0c45-436f-a3a1-beef47fa0e17\" xlink:show=\"new\" xlink:title=\"psysml:b606a038-0c45-436f-a3a1-beef47fa0e17\" xlink:type=\"simple\"><polygon fill=\"#FFFFFF\" filter=\"url(#fw6i7hdz1sm20)\" points=\"16,6,96,6,103,28.2969,560,28.2969,560,450.5,16,450.5,16,6\" style=\"stroke: #000000; stroke-width: 1.5;\"/><line style=\"stroke: #000000; stroke-width: 1.5;\" x1=\"16\" x2=\"103\" y1=\"28.2969\" y2=\"28.2969\"/><text fill=\"#000000\" font-family=\"sans-serif\" font-size=\"14\" font-weight=\"bold\" lengthAdjust=\"spacingAndGlyphs\" textLength=\"74\" x=\"20\" y=\"20.9951\">ActionTest</text></a><!--MD5=[d5e69f78d87373223dbae638b30a9c99]\n",
       "cluster E3--><a href=\"psysml:69e16b91-de61-4fe2-8ebf-63b040d0687a\" target=\"_top\" title=\"psysml:69e16b91-de61-4fe2-8ebf-63b040d0687a\" xlink:actuate=\"onRequest\" xlink:href=\"psysml:69e16b91-de61-4fe2-8ebf-63b040d0687a\" xlink:show=\"new\" xlink:title=\"psysml:69e16b91-de61-4fe2-8ebf-63b040d0687a\" xlink:type=\"simple\"><rect fill=\"#FFFFFF\" filter=\"url(#fw6i7hdz1sm20)\" height=\"377.5\" id=\"E3\" rx=\"10\" ry=\"10\" style=\"stroke: #A80036; stroke-width: 1.5;\" width=\"209\" x=\"327\" y=\"49\"/><rect fill=\"#FEFECE\" height=\"37.9375\" rx=\"10\" ry=\"10\" style=\"stroke: #FEFECE; stroke-width: 1.5;\" width=\"209\" x=\"327\" y=\"49\"/><rect fill=\"#FEFECE\" height=\"10\" style=\"stroke: #FEFECE; stroke-width: 1.5;\" width=\"209\" x=\"327\" y=\"76.9375\"/><rect fill=\"none\" height=\"377.5\" id=\"E3\" rx=\"10\" ry=\"10\" style=\"stroke: #A80036; stroke-width: 1.5;\" width=\"209\" x=\"327\" y=\"49\"/><text fill=\"#000000\" font-family=\"sans-serif\" font-size=\"12\" font-style=\"italic\" lengthAdjust=\"spacingAndGlyphs\" textLength=\"53\" x=\"405\" y=\"65.1387\">«action»</text><text fill=\"#000000\" font-family=\"sans-serif\" font-size=\"12\" lengthAdjust=\"spacingAndGlyphs\" textLength=\"8\" x=\"427.5\" y=\"79.1074\">a</text><line style=\"stroke: #A80036; stroke-width: 1.0;\" x1=\"327\" x2=\"536\" y1=\"86.9375\" y2=\"86.9375\"/></a><g id=\"E1.E2\"><a href=\"psysml:f9329402-d9ed-482b-aa71-2e931e2796d7\" target=\"_top\" title=\"psysml:f9329402-d9ed-482b-aa71-2e931e2796d7\" xlink:actuate=\"onRequest\" xlink:href=\"psysml:f9329402-d9ed-482b-aa71-2e931e2796d7\" xlink:show=\"new\" xlink:title=\"psysml:f9329402-d9ed-482b-aa71-2e931e2796d7\" xlink:type=\"simple\"><rect fill=\"#FEFECE\" filter=\"url(#fw6i7hdz1sm20)\" height=\"42.9375\" id=\"E2\" style=\"stroke: #A80036; stroke-width: 1.5;\" width=\"130\" x=\"181\" y=\"88.5\"/><ellipse cx=\"198.25\" cy=\"107.4688\" fill=\"#A52A2A\" rx=\"11\" ry=\"11\" style=\"stroke: #A80036; stroke-width: 1.0;\"/><path d=\"M195.4688,112.4688 L195.4688,101.875 L198.2031,101.875 Q199.5938,101.875 200.3594,102.2656 Q201.1406,102.6406 201.6719,103.3438 Q202.2031,104.0469 202.5,105.0469 Q202.7969,106.0313 202.7969,107.25 Q202.75,108.8438 202.25,110.0313 Q201.7656,111.2031 200.7188,111.8438 Q199.6875,112.4688 198,112.4688 L195.4688,112.4688 Z M197.3281,110.9688 L197.9531,110.9688 Q199.0313,110.9688 199.6875,110.5156 Q200.3438,110.0625 200.625,109.2344 Q200.9219,108.3906 200.9063,107.2656 Q200.9063,106.0938 200.6563,105.2344 Q200.4063,104.3594 199.7969,103.8906 Q199.1875,103.4063 198.1406,103.4063 L197.3281,103.4063 L197.3281,110.9688 Z \"/><text fill=\"#000000\" font-family=\"sans-serif\" font-size=\"12\" font-style=\"italic\" lengthAdjust=\"spacingAndGlyphs\" textLength=\"97\" x=\"210.75\" y=\"104.6387\">«attribute  def»</text><text fill=\"#000000\" font-family=\"sans-serif\" font-size=\"12\" lengthAdjust=\"spacingAndGlyphs\" textLength=\"8\" x=\"255.25\" y=\"118.6074\">S</text></a></g><polygon fill=\"#FEFECE\" filter=\"url(#fw6i7hdz1sm20)\" points=\"484,148.5,496,160.5,484,172.5,472,160.5,484,148.5\" style=\"stroke: #A80036; stroke-width: 1.5;\"/><!--MD5=[21dd76c19d33815960c0e92fef8f0eef]\n",
       "entity E5--><a href=\"psysml:dcf8e234-4de8-4cb8-a947-17c2138066f0\" target=\"_top\" title=\"psysml:dcf8e234-4de8-4cb8-a947-17c2138066f0\" xlink:actuate=\"onRequest\" xlink:href=\"psysml:dcf8e234-4de8-4cb8-a947-17c2138066f0\" xlink:show=\"new\" xlink:title=\"psysml:dcf8e234-4de8-4cb8-a947-17c2138066f0\" xlink:type=\"simple\"><polygon fill=\"#FEFECE\" filter=\"url(#fw6i7hdz1sm20)\" points=\"343,189.5,343,244.0938,483,244.0938,463,216.7969,483,189.5\" style=\"stroke: #000000; stroke-width: 1.5;\"/><text fill=\"#000000\" font-family=\"sans-serif\" font-size=\"14\" font-style=\"italic\" lengthAdjust=\"spacingAndGlyphs\" textLength=\"111\" x=\"350\" y=\"212.4951\">«accept action»</text><text fill=\"#000000\" font-family=\"sans-serif\" font-size=\"14\" lengthAdjust=\"spacingAndGlyphs\" textLength=\"9\" x=\"401\" y=\"229.792\">S</text></a><!--MD5=[24d87cdf3002d433f401b2a2aa9f9f65]\n",
       "entity E6--><a href=\"psysml:18c3d457-6bb3-4962-a480-0e1b2254a09a\" target=\"_top\" title=\"psysml:18c3d457-6bb3-4962-a480-0e1b2254a09a\" xlink:actuate=\"onRequest\" xlink:href=\"psysml:18c3d457-6bb3-4962-a480-0e1b2254a09a\" xlink:show=\"new\" xlink:title=\"psysml:18c3d457-6bb3-4962-a480-0e1b2254a09a\" xlink:type=\"simple\"><polygon fill=\"#FEFECE\" filter=\"url(#fw6i7hdz1sm20)\" points=\"343,277.5,343,332.0938,451,332.0938,471,304.7969,451,277.5\" style=\"stroke: #000000; stroke-width: 1.5;\"/><text fill=\"#000000\" font-family=\"sans-serif\" font-size=\"14\" font-style=\"italic\" lengthAdjust=\"spacingAndGlyphs\" textLength=\"99\" x=\"350\" y=\"300.4951\">«send action»</text><text fill=\"#000000\" font-family=\"sans-serif\" font-size=\"14\" lengthAdjust=\"spacingAndGlyphs\" textLength=\"65\" x=\"367\" y=\"317.792\">S() to  B()</text></a><polygon fill=\"#FEFECE\" filter=\"url(#fw6i7hdz1sm20)\" points=\"482,349.5,494,361.5,482,373.5,470,361.5,482,349.5\" style=\"stroke: #A80036; stroke-width: 1.5;\"/><ellipse cx=\"484\" cy=\"110\" fill=\"#000000\" filter=\"url(#fw6i7hdz1sm20)\" rx=\"10\" ry=\"10\" style=\"stroke: none; stroke-width: 1.0;\"/><ellipse cx=\"482\" cy=\"400.5\" fill=\"none\" filter=\"url(#fw6i7hdz1sm20)\" rx=\"10\" ry=\"10\" style=\"stroke: #000000; stroke-width: 1.0;\"/><ellipse cx=\"482.5\" cy=\"401\" fill=\"#000000\" rx=\"6\" ry=\"6\" style=\"stroke: none; stroke-width: 1.0;\"/><g id=\"E1.E8\"><a href=\"psysml:530e5343-b7af-483f-85a0-93ec425d0302\" target=\"_top\" title=\"psysml:530e5343-b7af-483f-85a0-93ec425d0302\" xlink:actuate=\"onRequest\" xlink:href=\"psysml:530e5343-b7af-483f-85a0-93ec425d0302\" xlink:show=\"new\" xlink:title=\"psysml:530e5343-b7af-483f-85a0-93ec425d0302\" xlink:type=\"simple\"><rect fill=\"#FEFECE\" filter=\"url(#fw6i7hdz1sm20)\" height=\"42.9375\" id=\"E8\" style=\"stroke: #A80036; stroke-width: 1.5;\" width=\"114\" x=\"32\" y=\"88.5\"/><ellipse cx=\"49.25\" cy=\"107.4688\" fill=\"#FFFACD\" rx=\"11\" ry=\"11\" style=\"stroke: #A80036; stroke-width: 1.0;\"/><path d=\"M46.125,112.4688 L46.125,101.875 L49.3594,101.875 Q51.2656,101.875 52.1719,102.625 Q53.0938,103.375 53.0938,104.5469 Q53.0938,105.2344 52.7031,105.8906 Q52.3281,106.5469 51.6094,106.8438 Q52.4688,107.2188 52.9844,107.9063 Q53.5,108.5938 53.5,109.4063 Q53.5,110.7813 52.4688,111.625 Q51.4531,112.4688 49.3438,112.4688 L46.125,112.4688 Z M48.0469,106.1094 L49.2031,106.1094 Q50.3281,106.1094 50.7344,105.7344 Q51.1563,105.3438 51.1563,104.7188 Q51.1563,104.1406 50.7344,103.7813 Q50.3125,103.4219 49.375,103.4219 L48.0469,103.4219 L48.0469,106.1094 Z M48.0469,110.8906 L49.5469,110.8906 Q50.4531,110.8906 50.9844,110.5 Q51.5156,110.1094 51.5156,109.3594 Q51.5156,108.5938 51.0156,108.125 Q50.5156,107.6406 49.25,107.6406 L48.0469,107.6406 L48.0469,110.8906 Z \"/><text fill=\"#000000\" font-family=\"sans-serif\" font-size=\"12\" font-style=\"italic\" lengthAdjust=\"spacingAndGlyphs\" textLength=\"81\" x=\"61.75\" y=\"104.6387\">«action  def»</text><text fill=\"#000000\" font-family=\"sans-serif\" font-size=\"12\" lengthAdjust=\"spacingAndGlyphs\" textLength=\"8\" x=\"98.25\" y=\"118.6074\">B</text></a></g><!--MD5=[f47e10efcf9a6752d55dae986d790ed9]\n",
       "link *start*E3 to E4--><a href=\"psysml:8ec85343-59fa-499c-a77c-a2bbf8c30a9c\" target=\"_top\" title=\"psysml:8ec85343-59fa-499c-a77c-a2bbf8c30a9c\" xlink:actuate=\"onRequest\" xlink:href=\"psysml:8ec85343-59fa-499c-a77c-a2bbf8c30a9c\" xlink:show=\"new\" xlink:title=\"psysml:8ec85343-59fa-499c-a77c-a2bbf8c30a9c\" xlink:type=\"simple\"><path d=\"M484,120.35 C484,126.88 484,135.77 484,143.42 \" fill=\"none\" id=\"*start*E3-&gt;E4\" style=\"stroke: #A80036; stroke-width: 1.0;\"/><polygon fill=\"#A80036\" points=\"484,148.48,488,139.48,484,143.48,480,139.48,484,148.48\" style=\"stroke: #A80036; stroke-width: 1.0;\"/></a><!--MD5=[d19f2eb34364d71b67042106d92f540b]\n",
       "link E7 to *end*E3--><a href=\"psysml:0d9f4e26-bf93-4aba-a8c6-6dafeae60007\" target=\"_top\" title=\"psysml:0d9f4e26-bf93-4aba-a8c6-6dafeae60007\" xlink:actuate=\"onRequest\" xlink:href=\"psysml:0d9f4e26-bf93-4aba-a8c6-6dafeae60007\" xlink:show=\"new\" xlink:title=\"psysml:0d9f4e26-bf93-4aba-a8c6-6dafeae60007\" xlink:type=\"simple\"><path d=\"M482,373.8 C482,377.34 482,381.3 482,385.03 \" fill=\"none\" id=\"E7-&gt;*end*E3\" style=\"stroke: #A80036; stroke-width: 1.0;\"/><polygon fill=\"#A80036\" points=\"482,390.25,486,381.25,482,385.25,478,381.25,482,390.25\" style=\"stroke: #A80036; stroke-width: 1.0;\"/></a><!--MD5=[1b7591eae5389033d8d09a9d6721a717]\n",
       "link E4 to E5--><a href=\"psysml:0f743cc2-6e19-41e4-aad8-79cb567e3158\" target=\"_top\" title=\"psysml:0f743cc2-6e19-41e4-aad8-79cb567e3158\" xlink:actuate=\"onRequest\" xlink:href=\"psysml:0f743cc2-6e19-41e4-aad8-79cb567e3158\" xlink:show=\"new\" xlink:title=\"psysml:0f743cc2-6e19-41e4-aad8-79cb567e3158\" xlink:type=\"simple\"><path d=\"M477.45,166.53 C471.33,171.23 461.65,178.66 451.64,186.34 \" fill=\"none\" id=\"E4-&gt;E5\" style=\"stroke: #A80036; stroke-width: 1.0;\"/><polygon fill=\"#A80036\" points=\"447.64,189.41,457.2129,187.0948,451.6037,186.3621,452.3363,180.7529,447.64,189.41\" style=\"stroke: #A80036; stroke-width: 1.0;\"/><text fill=\"#000000\" font-family=\"sans-serif\" font-size=\"13\" lengthAdjust=\"spacingAndGlyphs\" textLength=\"7\" x=\"447.8411\" y=\"178.4247\">*</text></a><!--MD5=[9120cf2e5df3bff93db8f754bbbc09b4]\n",
       "link E5 to E6--><a href=\"psysml:3404b4e6-fa1c-4cf0-a87f-a7f8eafbc3bc\" target=\"_top\" title=\"psysml:3404b4e6-fa1c-4cf0-a87f-a7f8eafbc3bc\" xlink:actuate=\"onRequest\" xlink:href=\"psysml:3404b4e6-fa1c-4cf0-a87f-a7f8eafbc3bc\" xlink:show=\"new\" xlink:title=\"psysml:3404b4e6-fa1c-4cf0-a87f-a7f8eafbc3bc\" xlink:type=\"simple\"><path d=\"M411.13,244.74 C410.53,253.4 409.85,263.08 409.23,272.08 \" fill=\"none\" id=\"E5-&gt;E6\" style=\"stroke: #A80036; stroke-width: 1.0;\"/><polygon fill=\"#A80036\" points=\"408.86,277.28,413.468,268.5756,409.203,272.2918,405.4869,268.0268,408.86,277.28\" style=\"stroke: #A80036; stroke-width: 1.0;\"/><text fill=\"#000000\" font-family=\"sans-serif\" font-size=\"13\" lengthAdjust=\"spacingAndGlyphs\" textLength=\"7\" x=\"401.4808\" y=\"266.2646\">*</text></a><!--MD5=[02c70b7c851c11e3980e4e90450dc5dd]\n",
       "link E6 to E7--><a href=\"psysml:a56f0975-9bdd-4db4-ac34-32a8d14536cf\" target=\"_top\" title=\"psysml:a56f0975-9bdd-4db4-ac34-32a8d14536cf\" xlink:actuate=\"onRequest\" xlink:href=\"psysml:a56f0975-9bdd-4db4-ac34-32a8d14536cf\" xlink:show=\"new\" xlink:title=\"psysml:a56f0975-9bdd-4db4-ac34-32a8d14536cf\" xlink:type=\"simple\"><path d=\"M443.62,332.61 C453.72,339.95 463.91,347.35 471.24,352.68 \" fill=\"none\" id=\"E6-&gt;E7\" style=\"stroke: #A80036; stroke-width: 1.0;\"/><polygon fill=\"#A80036\" points=\"475.42,355.72,470.4976,347.1894,471.3776,352.7774,465.7896,353.6574,475.42,355.72\" style=\"stroke: #A80036; stroke-width: 1.0;\"/><text fill=\"#000000\" font-family=\"sans-serif\" font-size=\"13\" lengthAdjust=\"spacingAndGlyphs\" textLength=\"7\" x=\"457.584\" y=\"338.5823\">*</text></a><!--MD5=[6bdd27f9905911a7e892a3dc65cf6b7c]\n",
       "link E7 to E4--><a href=\"psysml:2a79c4d0-9744-4107-95b5-d9c642bb083b\" target=\"_top\" title=\"psysml:2a79c4d0-9744-4107-95b5-d9c642bb083b\" xlink:actuate=\"onRequest\" xlink:href=\"psysml:2a79c4d0-9744-4107-95b5-d9c642bb083b\" xlink:show=\"new\" xlink:title=\"psysml:2a79c4d0-9744-4107-95b5-d9c642bb083b\" xlink:type=\"simple\"><path d=\"M485,352.49 C493.84,327.73 518.06,250.48 501,189.5 C499.26,183.29 495.73,177.1 492.34,172.12 \" fill=\"none\" id=\"E7-&gt;E4\" style=\"stroke: #A80036; stroke-width: 1.0;\"/><polygon fill=\"#A80036\" points=\"489.31,167.92,491.3342,177.5586,492.2364,171.9741,497.8209,172.8763,489.31,167.92\" style=\"stroke: #A80036; stroke-width: 1.0;\"/><text fill=\"#000000\" font-family=\"sans-serif\" font-size=\"13\" lengthAdjust=\"spacingAndGlyphs\" textLength=\"36\" x=\"507\" y=\"265.5669\">[true]</text><text fill=\"#000000\" font-family=\"sans-serif\" font-size=\"13\" lengthAdjust=\"spacingAndGlyphs\" textLength=\"7\" x=\"490.8853\" y=\"189.5917\">*</text></a><!--MD5=[867ce5ce87b53d5ccf4f299a646ca44b]\n",
       "@startuml\r\n",
       "skinparam ranksep 10\r\n",
       "skinparam rectangle {\r\n",
       " backgroundColor<<block>> LightGreen\r\n",
       "}\r\n",
       " \r\n",
       "package \"ActionTest\" as E1  [[psysml:b606a038-0c45-436f-a3a1-beef47fa0e17 ]]  {\r\n",
       "def \"S\" as E2 << <<(D,brown) attribute  def>> [[psysml:f9329402-d9ed-482b-aa71-2e931e2796d7 ]] \r\n",
       "rec usage \"a\" as E3 << <<(U,orange) action>> [[psysml:69e16b91-de61-4fe2-8ebf-63b040d0687a ]] {\r\n",
       "choice \"m\" as E4  [[psysml:ba661374-e1ab-49de-aa21-c62362c65829 ]] \r\n",
       "accept \" S\" as E5 << accept action>> [[psysml:dcf8e234-4de8-4cb8-a947-17c2138066f0 ]] \r\n",
       "send \" S() to  B()\" as E6 << send action>> [[psysml:18c3d457-6bb3-4962-a480-0e1b2254a09a ]] \r\n",
       "choice \"<s>noname</s>\" as E7  [[psysml:1cf4a57b-2f41-48db-bb2e-4817b665eacc ]] \r\n",
       "[*] - -> E4 [[psysml:8ec85343-59fa-499c-a77c-a2bbf8c30a9c ]] \r\n",
       "E7  - -> [*] [[psysml:0d9f4e26-bf93-4aba-a8c6-6dafeae60007 ]] \r\n",
       "}\r\n",
       "\r\n",
       "rec def \"B\" as E8 << <<(B,lemonchiffon) action  def>> [[psysml:530e5343-b7af-483f-85a0-93ec425d0302 ]] {\r\n",
       "}\r\n",
       "\r\n",
       "}\r\n",
       "E4 - -> \"*\"E5 [[psysml:0f743cc2-6e19-41e4-aad8-79cb567e3158 ]] \r\n",
       "E5 - -> \"*\"E6 [[psysml:3404b4e6-fa1c-4cf0-a87f-a7f8eafbc3bc ]] \r\n",
       "E6 - -> \"*\"E7 [[psysml:a56f0975-9bdd-4db4-ac34-32a8d14536cf ]] \r\n",
       "E7  - -> \"*\"E4 [[psysml:2a79c4d0-9744-4107-95b5-d9c642bb083b ]] : [true]\r\n",
       "@enduml\r\n",
       "\n",
       "PlantUML version 1.2020.13(Sat Jun 13 12:26:38 UTC 2020)\n",
       "(EPL source distribution)\n",
       "Java Runtime: OpenJDK Runtime Environment\n",
       "JVM: OpenJDK 64-Bit Server VM\n",
       "Default Encoding: UTF-8\n",
       "Language: en\n",
       "Country: null\n",
       "--></g></svg>"
      ]
     },
     "execution_count": 33,
     "metadata": {},
     "output_type": "execute_result"
    }
   ],
   "source": [
    "%viz --style=\"PLANTUML\" --view=\"Interconnection\" \"ActionTest\""
   ]
  },
  {
   "cell_type": "code",
   "execution_count": 34,
   "id": "8e13e0d7",
   "metadata": {
    "execution": {
     "iopub.execute_input": "2021-10-25T08:21:24.334883Z",
     "iopub.status.busy": "2021-10-25T08:21:24.334467Z",
     "iopub.status.idle": "2021-10-25T08:21:24.377564Z",
     "shell.execute_reply": "2021-10-25T08:21:24.377057Z"
    }
   },
   "outputs": [
    {
     "data": {
      "image/svg+xml": [
       "<?xml version=\"1.0\" encoding=\"UTF-8\" standalone=\"no\"?><svg xmlns=\"http://www.w3.org/2000/svg\" xmlns:xlink=\"http://www.w3.org/1999/xlink\" contentScriptType=\"application/ecmascript\" contentStyleType=\"text/css\" height=\"403px\" preserveAspectRatio=\"none\" style=\"width:365px;height:403px;\" version=\"1.1\" viewBox=\"0 0 365 403\" width=\"365px\" zoomAndPan=\"magnify\"><defs><filter height=\"300%\" id=\"fblfpyojg27kr\" width=\"300%\" x=\"-1\" y=\"-1\"><feGaussianBlur result=\"blurOut\" stdDeviation=\"2.0\"/><feColorMatrix in=\"blurOut\" result=\"blurOut2\" type=\"matrix\" values=\"0 0 0 0 0 0 0 0 0 0 0 0 0 0 0 0 0 0 .4 0\"/><feOffset dx=\"4.0\" dy=\"4.0\" in=\"blurOut2\" result=\"blurOut3\"/><feBlend in=\"SourceGraphic\" in2=\"blurOut3\" mode=\"normal\"/></filter></defs><g><!--MD5=[fbc87193dbaf4d95561dea2c320d4a47]\n",
       "cluster E1--><a href=\"psysml:69e16b91-de61-4fe2-8ebf-63b040d0687a\" target=\"_top\" title=\"psysml:69e16b91-de61-4fe2-8ebf-63b040d0687a\" xlink:actuate=\"onRequest\" xlink:href=\"psysml:69e16b91-de61-4fe2-8ebf-63b040d0687a\" xlink:show=\"new\" xlink:title=\"psysml:69e16b91-de61-4fe2-8ebf-63b040d0687a\" xlink:type=\"simple\"><rect fill=\"#FFFFFF\" filter=\"url(#fblfpyojg27kr)\" height=\"377.5\" id=\"E1\" rx=\"10\" ry=\"10\" style=\"stroke: #A80036; stroke-width: 1.5;\" width=\"209\" x=\"137\" y=\"7\"/><rect fill=\"#FEFECE\" height=\"37.9375\" rx=\"10\" ry=\"10\" style=\"stroke: #FEFECE; stroke-width: 1.5;\" width=\"209\" x=\"137\" y=\"7\"/><rect fill=\"#FEFECE\" height=\"10\" style=\"stroke: #FEFECE; stroke-width: 1.5;\" width=\"209\" x=\"137\" y=\"34.9375\"/><rect fill=\"none\" height=\"377.5\" id=\"E1\" rx=\"10\" ry=\"10\" style=\"stroke: #A80036; stroke-width: 1.5;\" width=\"209\" x=\"137\" y=\"7\"/><text fill=\"#000000\" font-family=\"sans-serif\" font-size=\"12\" font-style=\"italic\" lengthAdjust=\"spacingAndGlyphs\" textLength=\"53\" x=\"215\" y=\"23.1387\">«action»</text><text fill=\"#000000\" font-family=\"sans-serif\" font-size=\"12\" lengthAdjust=\"spacingAndGlyphs\" textLength=\"8\" x=\"237.5\" y=\"37.1074\">a</text><line style=\"stroke: #A80036; stroke-width: 1.0;\" x1=\"137\" x2=\"346\" y1=\"44.9375\" y2=\"44.9375\"/></a><polygon fill=\"#FEFECE\" filter=\"url(#fblfpyojg27kr)\" points=\"294,106.5,306,118.5,294,130.5,282,118.5,294,106.5\" style=\"stroke: #A80036; stroke-width: 1.5;\"/><!--MD5=[a60fb756f580feb9fd8e2cf1329b5c91]\n",
       "entity E3--><a href=\"psysml:dcf8e234-4de8-4cb8-a947-17c2138066f0\" target=\"_top\" title=\"psysml:dcf8e234-4de8-4cb8-a947-17c2138066f0\" xlink:actuate=\"onRequest\" xlink:href=\"psysml:dcf8e234-4de8-4cb8-a947-17c2138066f0\" xlink:show=\"new\" xlink:title=\"psysml:dcf8e234-4de8-4cb8-a947-17c2138066f0\" xlink:type=\"simple\"><polygon fill=\"#FEFECE\" filter=\"url(#fblfpyojg27kr)\" points=\"153,147.5,153,202.0938,293,202.0938,273,174.7969,293,147.5\" style=\"stroke: #000000; stroke-width: 1.5;\"/><text fill=\"#000000\" font-family=\"sans-serif\" font-size=\"14\" font-style=\"italic\" lengthAdjust=\"spacingAndGlyphs\" textLength=\"111\" x=\"160\" y=\"170.4951\">«accept action»</text><text fill=\"#000000\" font-family=\"sans-serif\" font-size=\"14\" lengthAdjust=\"spacingAndGlyphs\" textLength=\"9\" x=\"211\" y=\"187.792\">S</text></a><!--MD5=[961cefdc15414eaa3e87aec9d17c2188]\n",
       "entity E4--><a href=\"psysml:18c3d457-6bb3-4962-a480-0e1b2254a09a\" target=\"_top\" title=\"psysml:18c3d457-6bb3-4962-a480-0e1b2254a09a\" xlink:actuate=\"onRequest\" xlink:href=\"psysml:18c3d457-6bb3-4962-a480-0e1b2254a09a\" xlink:show=\"new\" xlink:title=\"psysml:18c3d457-6bb3-4962-a480-0e1b2254a09a\" xlink:type=\"simple\"><polygon fill=\"#FEFECE\" filter=\"url(#fblfpyojg27kr)\" points=\"153,235.5,153,290.0938,261,290.0938,281,262.7969,261,235.5\" style=\"stroke: #000000; stroke-width: 1.5;\"/><text fill=\"#000000\" font-family=\"sans-serif\" font-size=\"14\" font-style=\"italic\" lengthAdjust=\"spacingAndGlyphs\" textLength=\"99\" x=\"160\" y=\"258.4951\">«send action»</text><text fill=\"#000000\" font-family=\"sans-serif\" font-size=\"14\" lengthAdjust=\"spacingAndGlyphs\" textLength=\"65\" x=\"177\" y=\"275.792\">S() to  B()</text></a><polygon fill=\"#FEFECE\" filter=\"url(#fblfpyojg27kr)\" points=\"292,307.5,304,319.5,292,331.5,280,319.5,292,307.5\" style=\"stroke: #A80036; stroke-width: 1.5;\"/><ellipse cx=\"294\" cy=\"68\" fill=\"#000000\" filter=\"url(#fblfpyojg27kr)\" rx=\"10\" ry=\"10\" style=\"stroke: none; stroke-width: 1.0;\"/><ellipse cx=\"292\" cy=\"358.5\" fill=\"none\" filter=\"url(#fblfpyojg27kr)\" rx=\"10\" ry=\"10\" style=\"stroke: #000000; stroke-width: 1.0;\"/><ellipse cx=\"292.5\" cy=\"359\" fill=\"#000000\" rx=\"6\" ry=\"6\" style=\"stroke: none; stroke-width: 1.0;\"/><g id=\"E6\"><a href=\"psysml:530e5343-b7af-483f-85a0-93ec425d0302\" target=\"_top\" title=\"psysml:530e5343-b7af-483f-85a0-93ec425d0302\" xlink:actuate=\"onRequest\" xlink:href=\"psysml:530e5343-b7af-483f-85a0-93ec425d0302\" xlink:show=\"new\" xlink:title=\"psysml:530e5343-b7af-483f-85a0-93ec425d0302\" xlink:type=\"simple\"><rect fill=\"#FEFECE\" filter=\"url(#fblfpyojg27kr)\" height=\"42.9375\" id=\"E6\" style=\"stroke: #A80036; stroke-width: 1.5;\" width=\"114\" x=\"7\" y=\"46.5\"/><ellipse cx=\"24.25\" cy=\"65.4688\" fill=\"#FFFACD\" rx=\"11\" ry=\"11\" style=\"stroke: #A80036; stroke-width: 1.0;\"/><path d=\"M21.125,70.4688 L21.125,59.875 L24.3594,59.875 Q26.2656,59.875 27.1719,60.625 Q28.0938,61.375 28.0938,62.5469 Q28.0938,63.2344 27.7031,63.8906 Q27.3281,64.5469 26.6094,64.8438 Q27.4688,65.2188 27.9844,65.9063 Q28.5,66.5938 28.5,67.4063 Q28.5,68.7813 27.4688,69.625 Q26.4531,70.4688 24.3438,70.4688 L21.125,70.4688 Z M23.0469,64.1094 L24.2031,64.1094 Q25.3281,64.1094 25.7344,63.7344 Q26.1563,63.3438 26.1563,62.7188 Q26.1563,62.1406 25.7344,61.7813 Q25.3125,61.4219 24.375,61.4219 L23.0469,61.4219 L23.0469,64.1094 Z M23.0469,68.8906 L24.5469,68.8906 Q25.4531,68.8906 25.9844,68.5 Q26.5156,68.1094 26.5156,67.3594 Q26.5156,66.5938 26.0156,66.125 Q25.5156,65.6406 24.25,65.6406 L23.0469,65.6406 L23.0469,68.8906 Z \"/><text fill=\"#000000\" font-family=\"sans-serif\" font-size=\"12\" font-style=\"italic\" lengthAdjust=\"spacingAndGlyphs\" textLength=\"81\" x=\"36.75\" y=\"62.6387\">«action  def»</text><text fill=\"#000000\" font-family=\"sans-serif\" font-size=\"12\" lengthAdjust=\"spacingAndGlyphs\" textLength=\"8\" x=\"73.25\" y=\"76.6074\">B</text></a></g><!--MD5=[cff944eb183b832d446717a4e202d613]\n",
       "link *start*E1 to E2--><a href=\"psysml:8ec85343-59fa-499c-a77c-a2bbf8c30a9c\" target=\"_top\" title=\"psysml:8ec85343-59fa-499c-a77c-a2bbf8c30a9c\" xlink:actuate=\"onRequest\" xlink:href=\"psysml:8ec85343-59fa-499c-a77c-a2bbf8c30a9c\" xlink:show=\"new\" xlink:title=\"psysml:8ec85343-59fa-499c-a77c-a2bbf8c30a9c\" xlink:type=\"simple\"><path d=\"M294,78.35 C294,84.88 294,93.77 294,101.42 \" fill=\"none\" id=\"*start*E1-&gt;E2\" style=\"stroke: #A80036; stroke-width: 1.0; stroke-dasharray: 7.0,7.0;\"/><polygon fill=\"#A80036\" points=\"294,106.48,298,97.48,294,101.48,290,97.48,294,106.48\" style=\"stroke: #A80036; stroke-width: 1.0;\"/></a><!--MD5=[7fc47fc0d107820853a137871ad908c8]\n",
       "link E5 to *end*E1--><a href=\"psysml:0d9f4e26-bf93-4aba-a8c6-6dafeae60007\" target=\"_top\" title=\"psysml:0d9f4e26-bf93-4aba-a8c6-6dafeae60007\" xlink:actuate=\"onRequest\" xlink:href=\"psysml:0d9f4e26-bf93-4aba-a8c6-6dafeae60007\" xlink:show=\"new\" xlink:title=\"psysml:0d9f4e26-bf93-4aba-a8c6-6dafeae60007\" xlink:type=\"simple\"><path d=\"M292,331.8 C292,335.34 292,339.3 292,343.03 \" fill=\"none\" id=\"E5-&gt;*end*E1\" style=\"stroke: #A80036; stroke-width: 1.0; stroke-dasharray: 7.0,7.0;\"/><polygon fill=\"#A80036\" points=\"292,348.25,296,339.25,292,343.25,288,339.25,292,348.25\" style=\"stroke: #A80036; stroke-width: 1.0;\"/></a><!--MD5=[2720a5a1f2c3fca2055b230370638851]\n",
       "link E2 to E3--><a href=\"psysml:0f743cc2-6e19-41e4-aad8-79cb567e3158\" target=\"_top\" title=\"psysml:0f743cc2-6e19-41e4-aad8-79cb567e3158\" xlink:actuate=\"onRequest\" xlink:href=\"psysml:0f743cc2-6e19-41e4-aad8-79cb567e3158\" xlink:show=\"new\" xlink:title=\"psysml:0f743cc2-6e19-41e4-aad8-79cb567e3158\" xlink:type=\"simple\"><path d=\"M287.45,124.53 C281.33,129.23 271.65,136.66 261.64,144.34 \" fill=\"none\" id=\"E2-&gt;E3\" style=\"stroke: #A80036; stroke-width: 1.0; stroke-dasharray: 7.0,7.0;\"/><polygon fill=\"#A80036\" points=\"257.64,147.41,267.2129,145.0948,261.6037,144.3621,262.3363,138.7529,257.64,147.41\" style=\"stroke: #A80036; stroke-width: 1.0;\"/></a><!--MD5=[af87c684e3b0d8be13c1a698a818ef1e]\n",
       "link E3 to E4--><a href=\"psysml:3404b4e6-fa1c-4cf0-a87f-a7f8eafbc3bc\" target=\"_top\" title=\"psysml:3404b4e6-fa1c-4cf0-a87f-a7f8eafbc3bc\" xlink:actuate=\"onRequest\" xlink:href=\"psysml:3404b4e6-fa1c-4cf0-a87f-a7f8eafbc3bc\" xlink:show=\"new\" xlink:title=\"psysml:3404b4e6-fa1c-4cf0-a87f-a7f8eafbc3bc\" xlink:type=\"simple\"><path d=\"M221.13,202.74 C220.53,211.4 219.85,221.08 219.23,230.08 \" fill=\"none\" id=\"E3-&gt;E4\" style=\"stroke: #A80036; stroke-width: 1.0; stroke-dasharray: 7.0,7.0;\"/><polygon fill=\"#A80036\" points=\"218.86,235.28,223.468,226.5756,219.203,230.2918,215.4869,226.0268,218.86,235.28\" style=\"stroke: #A80036; stroke-width: 1.0;\"/></a><!--MD5=[1b7591eae5389033d8d09a9d6721a717]\n",
       "link E4 to E5--><a href=\"psysml:a56f0975-9bdd-4db4-ac34-32a8d14536cf\" target=\"_top\" title=\"psysml:a56f0975-9bdd-4db4-ac34-32a8d14536cf\" xlink:actuate=\"onRequest\" xlink:href=\"psysml:a56f0975-9bdd-4db4-ac34-32a8d14536cf\" xlink:show=\"new\" xlink:title=\"psysml:a56f0975-9bdd-4db4-ac34-32a8d14536cf\" xlink:type=\"simple\"><path d=\"M253.62,290.61 C263.72,297.95 273.91,305.35 281.24,310.68 \" fill=\"none\" id=\"E4-&gt;E5\" style=\"stroke: #A80036; stroke-width: 1.0; stroke-dasharray: 7.0,7.0;\"/><polygon fill=\"#A80036\" points=\"285.42,313.72,280.4976,305.1894,281.3776,310.7774,275.7896,311.6574,285.42,313.72\" style=\"stroke: #A80036; stroke-width: 1.0;\"/></a><!--MD5=[15ebcb19ae302d9b601edb458606d402]\n",
       "link E5 to E2--><a href=\"psysml:2a79c4d0-9744-4107-95b5-d9c642bb083b\" target=\"_top\" title=\"psysml:2a79c4d0-9744-4107-95b5-d9c642bb083b\" xlink:actuate=\"onRequest\" xlink:href=\"psysml:2a79c4d0-9744-4107-95b5-d9c642bb083b\" xlink:show=\"new\" xlink:title=\"psysml:2a79c4d0-9744-4107-95b5-d9c642bb083b\" xlink:type=\"simple\"><path d=\"M295,310.49 C303.84,285.73 328.06,208.48 311,147.5 C309.26,141.29 305.73,135.1 302.34,130.12 \" fill=\"none\" id=\"E5-&gt;E2\" style=\"stroke: #A80036; stroke-width: 1.0; stroke-dasharray: 7.0,7.0;\"/><polygon fill=\"#A80036\" points=\"299.31,125.92,301.3342,135.5586,302.2364,129.9741,307.8209,130.8763,299.31,125.92\" style=\"stroke: #A80036; stroke-width: 1.0;\"/><text fill=\"#000000\" font-family=\"sans-serif\" font-size=\"13\" lengthAdjust=\"spacingAndGlyphs\" textLength=\"36\" x=\"317\" y=\"223.5669\">[true]</text></a><!--MD5=[026d740319b31f32d805c2c5b204344a]\n",
       "@startuml\r\n",
       "skinparam ranksep 8\r\n",
       " \r\n",
       "rec usage \"a\" as E1 << <<(U,orange) action>> [[psysml:69e16b91-de61-4fe2-8ebf-63b040d0687a ]] {\r\n",
       "choice \"m\" as E2  [[psysml:ba661374-e1ab-49de-aa21-c62362c65829 ]] \r\n",
       "accept \" S\" as E3 << accept action>> [[psysml:dcf8e234-4de8-4cb8-a947-17c2138066f0 ]] \r\n",
       "send \" S() to  B()\" as E4 << send action>> [[psysml:18c3d457-6bb3-4962-a480-0e1b2254a09a ]] \r\n",
       "choice \"<s>noname</s>\" as E5  [[psysml:1cf4a57b-2f41-48db-bb2e-4817b665eacc ]] \r\n",
       "[*] ..> E2 [[psysml:8ec85343-59fa-499c-a77c-a2bbf8c30a9c ]] \r\n",
       "E5 ..> [*] [[psysml:0d9f4e26-bf93-4aba-a8c6-6dafeae60007 ]] \r\n",
       "}\r\n",
       "\r\n",
       "E2 ..> E3 [[psysml:0f743cc2-6e19-41e4-aad8-79cb567e3158 ]] \r\n",
       "E3 ..> E4 [[psysml:3404b4e6-fa1c-4cf0-a87f-a7f8eafbc3bc ]] \r\n",
       "E4 ..> E5 [[psysml:a56f0975-9bdd-4db4-ac34-32a8d14536cf ]] \r\n",
       "E5 ..> E2 [[psysml:2a79c4d0-9744-4107-95b5-d9c642bb083b ]] : [true]\r\n",
       "rec def \"B\" as E6 << <<(B,lemonchiffon) action  def>> [[psysml:530e5343-b7af-483f-85a0-93ec425d0302 ]] {\r\n",
       "}\r\n",
       "\r\n",
       "@enduml\r\n",
       "\n",
       "PlantUML version 1.2020.13(Sat Jun 13 12:26:38 UTC 2020)\n",
       "(EPL source distribution)\n",
       "Java Runtime: OpenJDK Runtime Environment\n",
       "JVM: OpenJDK 64-Bit Server VM\n",
       "Default Encoding: UTF-8\n",
       "Language: en\n",
       "Country: null\n",
       "--></g></svg>"
      ]
     },
     "execution_count": 34,
     "metadata": {},
     "output_type": "execute_result"
    }
   ],
   "source": [
    "%viz --style=\"PLANTUML\" --view=\"Action\" \"ActionTest\""
   ]
  },
  {
   "cell_type": "code",
   "execution_count": 35,
   "id": "e561d39c",
   "metadata": {
    "execution": {
     "iopub.execute_input": "2021-10-25T08:21:24.425518Z",
     "iopub.status.busy": "2021-10-25T08:21:24.425222Z",
     "iopub.status.idle": "2021-10-25T08:21:24.430978Z",
     "shell.execute_reply": "2021-10-25T08:21:24.431211Z"
    }
   },
   "outputs": [
    {
     "data": {
      "image/svg+xml": [
       "<?xml version=\"1.0\" encoding=\"UTF-8\" standalone=\"no\"?><svg xmlns=\"http://www.w3.org/2000/svg\" xmlns:xlink=\"http://www.w3.org/1999/xlink\" contentScriptType=\"application/ecmascript\" contentStyleType=\"text/css\" height=\"12px\" preserveAspectRatio=\"none\" style=\"width:12px;height:12px;\" version=\"1.1\" viewBox=\"0 0 12 12\" width=\"12px\" zoomAndPan=\"magnify\"><defs/><g><!--MD5=[ca4faa0b02def275ea33c14ea7a1a98d]\n",
       "@startuml\r\n",
       "skinparam roundcorner 20\r\n",
       "skinparam BoxPadding 20\r\n",
       "skinparam SequenceBoxBackgroundColor #white\r\n",
       "skinparam style strictuml\r\n",
       "skinparam maxMessageSize 100\r\n",
       " \r\n",
       "@enduml\r\n",
       "\n",
       "PlantUML version 1.2020.13(Sat Jun 13 12:26:38 UTC 2020)\n",
       "(EPL source distribution)\n",
       "Java Runtime: OpenJDK Runtime Environment\n",
       "JVM: OpenJDK 64-Bit Server VM\n",
       "Default Encoding: UTF-8\n",
       "Language: en\n",
       "Country: null\n",
       "--></g></svg>"
      ]
     },
     "execution_count": 35,
     "metadata": {},
     "output_type": "execute_result"
    }
   ],
   "source": [
    "%viz --style=\"PLANTUML\" --view=\"Sequence\" \"ActionTest\""
   ]
  },
  {
   "cell_type": "code",
   "execution_count": 36,
   "id": "13b9cae3",
   "metadata": {
    "execution": {
     "iopub.execute_input": "2021-10-25T08:21:24.481408Z",
     "iopub.status.busy": "2021-10-25T08:21:24.481074Z",
     "iopub.status.idle": "2021-10-25T08:21:24.529757Z",
     "shell.execute_reply": "2021-10-25T08:21:24.529556Z"
    }
   },
   "outputs": [
    {
     "data": {
      "image/svg+xml": [
       "<?xml version=\"1.0\" encoding=\"UTF-8\" standalone=\"no\"?><svg xmlns=\"http://www.w3.org/2000/svg\" xmlns:xlink=\"http://www.w3.org/1999/xlink\" contentScriptType=\"application/ecmascript\" contentStyleType=\"text/css\" height=\"684px\" preserveAspectRatio=\"none\" style=\"width:578px;height:684px;\" version=\"1.1\" viewBox=\"0 0 578 684\" width=\"578px\" zoomAndPan=\"magnify\"><defs><filter height=\"300%\" id=\"fkqjnur3hbyul\" width=\"300%\" x=\"-1\" y=\"-1\"><feGaussianBlur result=\"blurOut\" stdDeviation=\"2.0\"/><feColorMatrix in=\"blurOut\" result=\"blurOut2\" type=\"matrix\" values=\"0 0 0 0 0 0 0 0 0 0 0 0 0 0 0 0 0 0 .4 0\"/><feOffset dx=\"4.0\" dy=\"4.0\" in=\"blurOut2\" result=\"blurOut3\"/><feBlend in=\"SourceGraphic\" in2=\"blurOut3\" mode=\"normal\"/></filter></defs><g><!--MD5=[fbc87193dbaf4d95561dea2c320d4a47]\n",
       "cluster E1--><a href=\"psysml:b606a038-0c45-436f-a3a1-beef47fa0e17\" target=\"_top\" title=\"psysml:b606a038-0c45-436f-a3a1-beef47fa0e17\" xlink:actuate=\"onRequest\" xlink:href=\"psysml:b606a038-0c45-436f-a3a1-beef47fa0e17\" xlink:show=\"new\" xlink:title=\"psysml:b606a038-0c45-436f-a3a1-beef47fa0e17\" xlink:type=\"simple\"><polygon fill=\"#FFFFFF\" filter=\"url(#fkqjnur3hbyul)\" points=\"16,6,96,6,103,28.2969,556,28.2969,556,672,16,672,16,6\" style=\"stroke: #000000; stroke-width: 1.5;\"/><line style=\"stroke: #000000; stroke-width: 1.5;\" x1=\"16\" x2=\"103\" y1=\"28.2969\" y2=\"28.2969\"/><text fill=\"#000000\" font-family=\"sans-serif\" font-size=\"14\" font-weight=\"bold\" lengthAdjust=\"spacingAndGlyphs\" textLength=\"74\" x=\"20\" y=\"20.9951\">ActionTest</text></a><!--MD5=[d5e69f78d87373223dbae638b30a9c99]\n",
       "cluster E3--><a href=\"psysml:69e16b91-de61-4fe2-8ebf-63b040d0687a\" target=\"_top\" title=\"psysml:69e16b91-de61-4fe2-8ebf-63b040d0687a\" xlink:actuate=\"onRequest\" xlink:href=\"psysml:69e16b91-de61-4fe2-8ebf-63b040d0687a\" xlink:show=\"new\" xlink:title=\"psysml:69e16b91-de61-4fe2-8ebf-63b040d0687a\" xlink:type=\"simple\"><rect fill=\"#FFFFFF\" filter=\"url(#fkqjnur3hbyul)\" height=\"599\" id=\"E3\" rx=\"10\" ry=\"10\" style=\"stroke: #A80036; stroke-width: 1.5;\" width=\"209\" x=\"323\" y=\"49\"/><rect fill=\"#FEFECE\" height=\"37.9375\" rx=\"10\" ry=\"10\" style=\"stroke: #FEFECE; stroke-width: 1.5;\" width=\"209\" x=\"323\" y=\"49\"/><rect fill=\"#FEFECE\" height=\"10\" style=\"stroke: #FEFECE; stroke-width: 1.5;\" width=\"209\" x=\"323\" y=\"76.9375\"/><rect fill=\"none\" height=\"599\" id=\"E3\" rx=\"10\" ry=\"10\" style=\"stroke: #A80036; stroke-width: 1.5;\" width=\"209\" x=\"323\" y=\"49\"/><text fill=\"#000000\" font-family=\"sans-serif\" font-size=\"12\" font-style=\"italic\" lengthAdjust=\"spacingAndGlyphs\" textLength=\"53\" x=\"401\" y=\"65.1387\">«action»</text><text fill=\"#000000\" font-family=\"sans-serif\" font-size=\"12\" lengthAdjust=\"spacingAndGlyphs\" textLength=\"8\" x=\"423.5\" y=\"79.1074\">a</text><line style=\"stroke: #A80036; stroke-width: 1.0;\" x1=\"323\" x2=\"532\" y1=\"86.9375\" y2=\"86.9375\"/></a><!--MD5=[b4997ac47864f28c2f74865a473b2911]\n",
       "class E2--><a href=\"psysml:f9329402-d9ed-482b-aa71-2e931e2796d7\" target=\"_top\" title=\"psysml:f9329402-d9ed-482b-aa71-2e931e2796d7\" xlink:actuate=\"onRequest\" xlink:href=\"psysml:f9329402-d9ed-482b-aa71-2e931e2796d7\" xlink:show=\"new\" xlink:title=\"psysml:f9329402-d9ed-482b-aa71-2e931e2796d7\" xlink:type=\"simple\"><rect fill=\"#FEFECE\" filter=\"url(#fkqjnur3hbyul)\" height=\"45.9375\" id=\"E2\" style=\"stroke: #A80036; stroke-width: 1.5;\" width=\"125\" x=\"181.5\" y=\"87\"/><ellipse cx=\"196.5\" cy=\"105.9688\" fill=\"#A52A2A\" rx=\"11\" ry=\"11\" style=\"stroke: #A80036; stroke-width: 1.0;\"/><path d=\"M193.7188,110.9688 L193.7188,100.375 L196.4531,100.375 Q197.8438,100.375 198.6094,100.7656 Q199.3906,101.1406 199.9219,101.8438 Q200.4531,102.5469 200.75,103.5469 Q201.0469,104.5313 201.0469,105.75 Q201,107.3438 200.5,108.5313 Q200.0156,109.7031 198.9688,110.3438 Q197.9375,110.9688 196.25,110.9688 L193.7188,110.9688 Z M195.5781,109.4688 L196.2031,109.4688 Q197.2813,109.4688 197.9375,109.0156 Q198.5938,108.5625 198.875,107.7344 Q199.1719,106.8906 199.1563,105.7656 Q199.1563,104.5938 198.9063,103.7344 Q198.6563,102.8594 198.0469,102.3906 Q197.4375,101.9063 196.3906,101.9063 L195.5781,101.9063 L195.5781,109.4688 Z \"/><text fill=\"#000000\" font-family=\"sans-serif\" font-size=\"12\" font-style=\"italic\" lengthAdjust=\"spacingAndGlyphs\" textLength=\"97\" x=\"208.5\" y=\"103.1387\">«attribute  def»</text><text fill=\"#000000\" font-family=\"sans-serif\" font-size=\"12\" lengthAdjust=\"spacingAndGlyphs\" textLength=\"8\" x=\"253\" y=\"117.1074\">S</text><line style=\"stroke: #A80036; stroke-width: 1.5;\" x1=\"182.5\" x2=\"305.5\" y1=\"124.9375\" y2=\"124.9375\"/></a><polygon fill=\"#FEFECE\" filter=\"url(#fkqjnur3hbyul)\" points=\"480,194,492,206,480,218,468,206,480,194\" style=\"stroke: #A80036; stroke-width: 1.5;\"/><!--MD5=[21dd76c19d33815960c0e92fef8f0eef]\n",
       "entity E5--><a href=\"psysml:dcf8e234-4de8-4cb8-a947-17c2138066f0\" target=\"_top\" title=\"psysml:dcf8e234-4de8-4cb8-a947-17c2138066f0\" xlink:actuate=\"onRequest\" xlink:href=\"psysml:dcf8e234-4de8-4cb8-a947-17c2138066f0\" xlink:show=\"new\" xlink:title=\"psysml:dcf8e234-4de8-4cb8-a947-17c2138066f0\" xlink:type=\"simple\"><polygon fill=\"#FEFECE\" filter=\"url(#fkqjnur3hbyul)\" points=\"339,279,339,333.5938,479,333.5938,459,306.2969,479,279\" style=\"stroke: #000000; stroke-width: 1.5;\"/><text fill=\"#000000\" font-family=\"sans-serif\" font-size=\"14\" font-style=\"italic\" lengthAdjust=\"spacingAndGlyphs\" textLength=\"111\" x=\"346\" y=\"301.9951\">«accept action»</text><text fill=\"#000000\" font-family=\"sans-serif\" font-size=\"14\" lengthAdjust=\"spacingAndGlyphs\" textLength=\"9\" x=\"397\" y=\"319.292\">S</text></a><!--MD5=[24d87cdf3002d433f401b2a2aa9f9f65]\n",
       "entity E6--><a href=\"psysml:18c3d457-6bb3-4962-a480-0e1b2254a09a\" target=\"_top\" title=\"psysml:18c3d457-6bb3-4962-a480-0e1b2254a09a\" xlink:actuate=\"onRequest\" xlink:href=\"psysml:18c3d457-6bb3-4962-a480-0e1b2254a09a\" xlink:show=\"new\" xlink:title=\"psysml:18c3d457-6bb3-4962-a480-0e1b2254a09a\" xlink:type=\"simple\"><polygon fill=\"#FEFECE\" filter=\"url(#fkqjnur3hbyul)\" points=\"339,411,339,465.5938,447,465.5938,467,438.2969,447,411\" style=\"stroke: #000000; stroke-width: 1.5;\"/><text fill=\"#000000\" font-family=\"sans-serif\" font-size=\"14\" font-style=\"italic\" lengthAdjust=\"spacingAndGlyphs\" textLength=\"99\" x=\"346\" y=\"433.9951\">«send action»</text><text fill=\"#000000\" font-family=\"sans-serif\" font-size=\"14\" lengthAdjust=\"spacingAndGlyphs\" textLength=\"65\" x=\"363\" y=\"451.292\">S() to  B()</text></a><polygon fill=\"#FEFECE\" filter=\"url(#fkqjnur3hbyul)\" points=\"478,527,490,539,478,551,466,539,478,527\" style=\"stroke: #A80036; stroke-width: 1.5;\"/><ellipse cx=\"480\" cy=\"110\" fill=\"#000000\" filter=\"url(#fkqjnur3hbyul)\" rx=\"10\" ry=\"10\" style=\"stroke: none; stroke-width: 1.0;\"/><ellipse cx=\"478\" cy=\"622\" fill=\"none\" filter=\"url(#fkqjnur3hbyul)\" rx=\"10\" ry=\"10\" style=\"stroke: #000000; stroke-width: 1.0;\"/><ellipse cx=\"478.5\" cy=\"622.5\" fill=\"#000000\" rx=\"6\" ry=\"6\" style=\"stroke: none; stroke-width: 1.0;\"/><g id=\"E1.E8\"><a href=\"psysml:530e5343-b7af-483f-85a0-93ec425d0302\" target=\"_top\" title=\"psysml:530e5343-b7af-483f-85a0-93ec425d0302\" xlink:actuate=\"onRequest\" xlink:href=\"psysml:530e5343-b7af-483f-85a0-93ec425d0302\" xlink:show=\"new\" xlink:title=\"psysml:530e5343-b7af-483f-85a0-93ec425d0302\" xlink:type=\"simple\"><rect fill=\"#FEFECE\" filter=\"url(#fkqjnur3hbyul)\" height=\"42.9375\" id=\"E8\" style=\"stroke: #A80036; stroke-width: 1.5;\" width=\"114\" x=\"32\" y=\"88.5\"/><ellipse cx=\"49.25\" cy=\"107.4688\" fill=\"#FFFACD\" rx=\"11\" ry=\"11\" style=\"stroke: #A80036; stroke-width: 1.0;\"/><path d=\"M46.125,112.4688 L46.125,101.875 L49.3594,101.875 Q51.2656,101.875 52.1719,102.625 Q53.0938,103.375 53.0938,104.5469 Q53.0938,105.2344 52.7031,105.8906 Q52.3281,106.5469 51.6094,106.8438 Q52.4688,107.2188 52.9844,107.9063 Q53.5,108.5938 53.5,109.4063 Q53.5,110.7813 52.4688,111.625 Q51.4531,112.4688 49.3438,112.4688 L46.125,112.4688 Z M48.0469,106.1094 L49.2031,106.1094 Q50.3281,106.1094 50.7344,105.7344 Q51.1563,105.3438 51.1563,104.7188 Q51.1563,104.1406 50.7344,103.7813 Q50.3125,103.4219 49.375,103.4219 L48.0469,103.4219 L48.0469,106.1094 Z M48.0469,110.8906 L49.5469,110.8906 Q50.4531,110.8906 50.9844,110.5 Q51.5156,110.1094 51.5156,109.3594 Q51.5156,108.5938 51.0156,108.125 Q50.5156,107.6406 49.25,107.6406 L48.0469,107.6406 L48.0469,110.8906 Z \"/><text fill=\"#000000\" font-family=\"sans-serif\" font-size=\"12\" font-style=\"italic\" lengthAdjust=\"spacingAndGlyphs\" textLength=\"81\" x=\"61.75\" y=\"104.6387\">«action  def»</text><text fill=\"#000000\" font-family=\"sans-serif\" font-size=\"12\" lengthAdjust=\"spacingAndGlyphs\" textLength=\"8\" x=\"98.25\" y=\"118.6074\">B</text></a></g><!--MD5=[f47e10efcf9a6752d55dae986d790ed9]\n",
       "link *start*E3 to E4--><a href=\"psysml:8ec85343-59fa-499c-a77c-a2bbf8c30a9c\" target=\"_top\" title=\"psysml:8ec85343-59fa-499c-a77c-a2bbf8c30a9c\" xlink:actuate=\"onRequest\" xlink:href=\"psysml:8ec85343-59fa-499c-a77c-a2bbf8c30a9c\" xlink:show=\"new\" xlink:title=\"psysml:8ec85343-59fa-499c-a77c-a2bbf8c30a9c\" xlink:type=\"simple\"><path d=\"M480,120.01 C480,135.81 480,168.69 480,188.61 \" fill=\"none\" id=\"*start*E3-&gt;E4\" style=\"stroke: #A80036; stroke-width: 1.0;\"/><polygon fill=\"#A80036\" points=\"480,193.85,484,184.85,480,188.85,476,184.85,480,193.85\" style=\"stroke: #A80036; stroke-width: 1.0;\"/></a><!--MD5=[d19f2eb34364d71b67042106d92f540b]\n",
       "link E7 to *end*E3--><a href=\"psysml:0d9f4e26-bf93-4aba-a8c6-6dafeae60007\" target=\"_top\" title=\"psysml:0d9f4e26-bf93-4aba-a8c6-6dafeae60007\" xlink:actuate=\"onRequest\" xlink:href=\"psysml:0d9f4e26-bf93-4aba-a8c6-6dafeae60007\" xlink:show=\"new\" xlink:title=\"psysml:0d9f4e26-bf93-4aba-a8c6-6dafeae60007\" xlink:type=\"simple\"><path d=\"M478,551.26 C478,565.66 478,590.63 478,606.46 \" fill=\"none\" id=\"E7-&gt;*end*E3\" style=\"stroke: #A80036; stroke-width: 1.0;\"/><polygon fill=\"#A80036\" points=\"478,611.84,482,602.84,478,606.84,474,602.84,478,611.84\" style=\"stroke: #A80036; stroke-width: 1.0;\"/></a><!--MD5=[1b7591eae5389033d8d09a9d6721a717]\n",
       "link E4 to E5--><a href=\"psysml:0f743cc2-6e19-41e4-aad8-79cb567e3158\" target=\"_top\" title=\"psysml:0f743cc2-6e19-41e4-aad8-79cb567e3158\" xlink:actuate=\"onRequest\" xlink:href=\"psysml:0f743cc2-6e19-41e4-aad8-79cb567e3158\" xlink:show=\"new\" xlink:title=\"psysml:0f743cc2-6e19-41e4-aad8-79cb567e3158\" xlink:type=\"simple\"><path d=\"M475.34,213.46 C466.55,225.66 446.99,252.8 431.37,274.46 \" fill=\"none\" id=\"E4-&gt;E5\" style=\"stroke: #A80036; stroke-width: 1.0;\"/><polygon fill=\"#A80036\" points=\"428.31,278.71,436.8093,273.7339,431.227,274.6491,430.3119,269.0667,428.31,278.71\" style=\"stroke: #A80036; stroke-width: 1.0;\"/><text fill=\"#000000\" font-family=\"sans-serif\" font-size=\"13\" lengthAdjust=\"spacingAndGlyphs\" textLength=\"7\" x=\"424.7684\" y=\"268.1162\">*</text></a><!--MD5=[9120cf2e5df3bff93db8f754bbbc09b4]\n",
       "link E5 to E6--><a href=\"psysml:3404b4e6-fa1c-4cf0-a87f-a7f8eafbc3bc\" target=\"_top\" title=\"psysml:3404b4e6-fa1c-4cf0-a87f-a7f8eafbc3bc\" xlink:actuate=\"onRequest\" xlink:href=\"psysml:3404b4e6-fa1c-4cf0-a87f-a7f8eafbc3bc\" xlink:show=\"new\" xlink:title=\"psysml:3404b4e6-fa1c-4cf0-a87f-a7f8eafbc3bc\" xlink:type=\"simple\"><path d=\"M407.77,334.12 C406.81,354.89 405.48,383.8 404.46,405.77 \" fill=\"none\" id=\"E5-&gt;E6\" style=\"stroke: #A80036; stroke-width: 1.0;\"/><polygon fill=\"#A80036\" points=\"404.23,410.91,408.6368,402.1021,404.4583,405.9152,400.6452,401.7367,404.23,410.91\" style=\"stroke: #A80036; stroke-width: 1.0;\"/><text fill=\"#000000\" font-family=\"sans-serif\" font-size=\"13\" lengthAdjust=\"spacingAndGlyphs\" textLength=\"7\" x=\"396.7051\" y=\"399.9247\">*</text></a><!--MD5=[02c70b7c851c11e3980e4e90450dc5dd]\n",
       "link E6 to E7--><a href=\"psysml:a56f0975-9bdd-4db4-ac34-32a8d14536cf\" target=\"_top\" title=\"psysml:a56f0975-9bdd-4db4-ac34-32a8d14536cf\" xlink:actuate=\"onRequest\" xlink:href=\"psysml:a56f0975-9bdd-4db4-ac34-32a8d14536cf\" xlink:show=\"new\" xlink:title=\"psysml:a56f0975-9bdd-4db4-ac34-32a8d14536cf\" xlink:type=\"simple\"><path d=\"M423.3,466.16 C438.71,486.4 459.07,513.14 470.09,527.61 \" fill=\"none\" id=\"E6-&gt;E7\" style=\"stroke: #A80036; stroke-width: 1.0;\"/><polygon fill=\"#A80036\" points=\"473.2,531.69,470.9398,522.104,470.1749,527.7089,464.57,526.9441,473.2,531.69\" style=\"stroke: #A80036; stroke-width: 1.0;\"/><text fill=\"#000000\" font-family=\"sans-serif\" font-size=\"13\" lengthAdjust=\"spacingAndGlyphs\" textLength=\"7\" x=\"458.9375\" y=\"515.8563\">*</text></a><!--MD5=[6bdd27f9905911a7e892a3dc65cf6b7c]\n",
       "link E7 to E4--><a href=\"psysml:2a79c4d0-9744-4107-95b5-d9c642bb083b\" target=\"_top\" title=\"psysml:2a79c4d0-9744-4107-95b5-d9c642bb083b\" xlink:actuate=\"onRequest\" xlink:href=\"psysml:2a79c4d0-9744-4107-95b5-d9c642bb083b\" xlink:show=\"new\" xlink:title=\"psysml:2a79c4d0-9744-4107-95b5-d9c642bb083b\" xlink:type=\"simple\"><path d=\"M479.98,528.56 C486.8,494.71 508.32,376.18 497,279 C494.59,258.32 488.42,234.96 484.21,220.61 \" fill=\"none\" id=\"E7-&gt;E4\" style=\"stroke: #A80036; stroke-width: 1.0;\"/><polygon fill=\"#A80036\" points=\"482.76,215.75,481.4935,225.5171,484.1863,220.5423,489.1611,223.2351,482.76,215.75\" style=\"stroke: #A80036; stroke-width: 1.0;\"/><text fill=\"#000000\" font-family=\"sans-serif\" font-size=\"13\" lengthAdjust=\"spacingAndGlyphs\" textLength=\"36\" x=\"500\" y=\"377.0669\">[true]</text><text fill=\"#000000\" font-family=\"sans-serif\" font-size=\"13\" lengthAdjust=\"spacingAndGlyphs\" textLength=\"7\" x=\"475.3253\" y=\"237.9903\">*</text></a><!--MD5=[04c8a670ef15229d15aaf16307c6d80d]\n",
       "@startuml\r\n",
       " \r\n",
       "package \"ActionTest\" as E1  [[psysml:b606a038-0c45-436f-a3a1-beef47fa0e17 ]]  {\r\n",
       "comp def \"S\" as E2 << <<(D,brown) attribute  def>> [[psysml:f9329402-d9ed-482b-aa71-2e931e2796d7 ]] {\r\n",
       "}\r\n",
       "rec usage \"a\" as E3 << <<(U,orange) action>> [[psysml:69e16b91-de61-4fe2-8ebf-63b040d0687a ]] {\r\n",
       "choice \"m\" as E4  [[psysml:ba661374-e1ab-49de-aa21-c62362c65829 ]] \r\n",
       "accept \" S\" as E5 << accept action>> [[psysml:dcf8e234-4de8-4cb8-a947-17c2138066f0 ]] \r\n",
       "send \" S() to  B()\" as E6 << send action>> [[psysml:18c3d457-6bb3-4962-a480-0e1b2254a09a ]] \r\n",
       "choice \"<s>noname</s>\" as E7  [[psysml:1cf4a57b-2f41-48db-bb2e-4817b665eacc ]] \r\n",
       "[*] - -> E4 [[psysml:8ec85343-59fa-499c-a77c-a2bbf8c30a9c ]] \r\n",
       "E7  - -> [*] [[psysml:0d9f4e26-bf93-4aba-a8c6-6dafeae60007 ]] \r\n",
       "}\r\n",
       "\r\n",
       "rec def \"B\" as E8 << <<(B,lemonchiffon) action  def>> [[psysml:530e5343-b7af-483f-85a0-93ec425d0302 ]] {\r\n",
       "}\r\n",
       "\r\n",
       "}\r\n",
       "E4 - -> \"*\"E5 [[psysml:0f743cc2-6e19-41e4-aad8-79cb567e3158 ]] \r\n",
       "E5 - -> \"*\"E6 [[psysml:3404b4e6-fa1c-4cf0-a87f-a7f8eafbc3bc ]] \r\n",
       "E6 - -> \"*\"E7 [[psysml:a56f0975-9bdd-4db4-ac34-32a8d14536cf ]] \r\n",
       "E7  - -> \"*\"E4 [[psysml:2a79c4d0-9744-4107-95b5-d9c642bb083b ]] : [true]\r\n",
       "@enduml\r\n",
       "\n",
       "PlantUML version 1.2020.13(Sat Jun 13 12:26:38 UTC 2020)\n",
       "(EPL source distribution)\n",
       "Java Runtime: OpenJDK Runtime Environment\n",
       "JVM: OpenJDK 64-Bit Server VM\n",
       "Default Encoding: UTF-8\n",
       "Language: en\n",
       "Country: null\n",
       "--></g></svg>"
      ]
     },
     "execution_count": 36,
     "metadata": {},
     "output_type": "execute_result"
    }
   ],
   "source": [
    "%viz --style=\"PLANTUML\" --view=\"MIXED\" \"ActionTest\""
   ]
  },
  {
   "cell_type": "code",
   "execution_count": 37,
   "id": "8571c409",
   "metadata": {
    "execution": {
     "iopub.execute_input": "2021-10-25T08:21:24.579172Z",
     "iopub.status.busy": "2021-10-25T08:21:24.578922Z",
     "iopub.status.idle": "2021-10-25T08:21:24.628056Z",
     "shell.execute_reply": "2021-10-25T08:21:24.627695Z"
    }
   },
   "outputs": [
    {
     "data": {
      "image/svg+xml": [
       "<?xml version=\"1.0\" encoding=\"UTF-8\" standalone=\"no\"?><svg xmlns=\"http://www.w3.org/2000/svg\" xmlns:xlink=\"http://www.w3.org/1999/xlink\" contentScriptType=\"application/ecmascript\" contentStyleType=\"text/css\" height=\"684px\" preserveAspectRatio=\"none\" style=\"width:526px;height:684px;\" version=\"1.1\" viewBox=\"0 0 526 684\" width=\"526px\" zoomAndPan=\"magnify\"><defs/><g><!--MD5=[fbc87193dbaf4d95561dea2c320d4a47]\n",
       "cluster E1--><a href=\"psysml:b606a038-0c45-436f-a3a1-beef47fa0e17\" target=\"_top\" title=\"psysml:b606a038-0c45-436f-a3a1-beef47fa0e17\" xlink:actuate=\"onRequest\" xlink:href=\"psysml:b606a038-0c45-436f-a3a1-beef47fa0e17\" xlink:show=\"new\" xlink:title=\"psysml:b606a038-0c45-436f-a3a1-beef47fa0e17\" xlink:type=\"simple\"><polygon fill=\"#FFFFFF\" points=\"16,6,96,6,103,28.2969,504,28.2969,504,672,16,672,16,6\" style=\"stroke: #000000; stroke-width: 1.5;\"/><line style=\"stroke: #000000; stroke-width: 1.5;\" x1=\"16\" x2=\"103\" y1=\"28.2969\" y2=\"28.2969\"/><text fill=\"#000000\" font-family=\"sans-serif\" font-size=\"14\" font-weight=\"bold\" lengthAdjust=\"spacingAndGlyphs\" textLength=\"74\" x=\"20\" y=\"20.9951\">ActionTest</text></a><!--MD5=[d5e69f78d87373223dbae638b30a9c99]\n",
       "cluster E3--><a href=\"psysml:69e16b91-de61-4fe2-8ebf-63b040d0687a\" target=\"_top\" title=\"psysml:69e16b91-de61-4fe2-8ebf-63b040d0687a\" xlink:actuate=\"onRequest\" xlink:href=\"psysml:69e16b91-de61-4fe2-8ebf-63b040d0687a\" xlink:show=\"new\" xlink:title=\"psysml:69e16b91-de61-4fe2-8ebf-63b040d0687a\" xlink:type=\"simple\"><rect fill=\"#FFFFFF\" height=\"599\" id=\"E3\" rx=\"10\" ry=\"10\" style=\"stroke: #383838; stroke-width: 1.5;\" width=\"209\" x=\"271\" y=\"49\"/><rect fill=\"#F8F8F8\" height=\"37.9375\" rx=\"10\" ry=\"10\" style=\"stroke: #F8F8F8; stroke-width: 1.5;\" width=\"209\" x=\"271\" y=\"49\"/><rect fill=\"#F8F8F8\" height=\"10\" style=\"stroke: #F8F8F8; stroke-width: 1.5;\" width=\"209\" x=\"271\" y=\"76.9375\"/><rect fill=\"none\" height=\"599\" id=\"E3\" rx=\"10\" ry=\"10\" style=\"stroke: #383838; stroke-width: 1.5;\" width=\"209\" x=\"271\" y=\"49\"/><text fill=\"#000000\" font-family=\"sans-serif\" font-size=\"12\" font-style=\"italic\" lengthAdjust=\"spacingAndGlyphs\" textLength=\"53\" x=\"349\" y=\"65.1387\">«action»</text><text fill=\"#000000\" font-family=\"sans-serif\" font-size=\"12\" lengthAdjust=\"spacingAndGlyphs\" textLength=\"8\" x=\"371.5\" y=\"79.1074\">a</text><line style=\"stroke: #383838; stroke-width: 1.0;\" x1=\"271\" x2=\"480\" y1=\"86.9375\" y2=\"86.9375\"/></a><!--MD5=[b4997ac47864f28c2f74865a473b2911]\n",
       "class E2--><a href=\"psysml:f9329402-d9ed-482b-aa71-2e931e2796d7\" target=\"_top\" title=\"psysml:f9329402-d9ed-482b-aa71-2e931e2796d7\" xlink:actuate=\"onRequest\" xlink:href=\"psysml:f9329402-d9ed-482b-aa71-2e931e2796d7\" xlink:show=\"new\" xlink:title=\"psysml:f9329402-d9ed-482b-aa71-2e931e2796d7\" xlink:type=\"simple\"><rect fill=\"#FFFFFF\" height=\"45.9375\" id=\"E2\" style=\"stroke: #383838; stroke-width: 1.5;\" width=\"99\" x=\"155.5\" y=\"87\"/><text fill=\"#000000\" font-family=\"sans-serif\" font-size=\"12\" font-style=\"italic\" lengthAdjust=\"spacingAndGlyphs\" textLength=\"97\" x=\"156.5\" y=\"103.1387\">«attribute  def»</text><text fill=\"#000000\" font-family=\"sans-serif\" font-size=\"12\" lengthAdjust=\"spacingAndGlyphs\" textLength=\"8\" x=\"201\" y=\"117.1074\">S</text><line style=\"stroke: #383838; stroke-width: 1.5;\" x1=\"156.5\" x2=\"253.5\" y1=\"124.9375\" y2=\"124.9375\"/></a><polygon fill=\"#F8F8F8\" points=\"428,194,440,206,428,218,416,206,428,194\" style=\"stroke: #383838; stroke-width: 1.5;\"/><!--MD5=[21dd76c19d33815960c0e92fef8f0eef]\n",
       "entity E5--><a href=\"psysml:dcf8e234-4de8-4cb8-a947-17c2138066f0\" target=\"_top\" title=\"psysml:dcf8e234-4de8-4cb8-a947-17c2138066f0\" xlink:actuate=\"onRequest\" xlink:href=\"psysml:dcf8e234-4de8-4cb8-a947-17c2138066f0\" xlink:show=\"new\" xlink:title=\"psysml:dcf8e234-4de8-4cb8-a947-17c2138066f0\" xlink:type=\"simple\"><polygon fill=\"#F8F8F8\" points=\"287,279,287,333.5938,427,333.5938,407,306.2969,427,279\" style=\"stroke: #000000; stroke-width: 1.5;\"/><text fill=\"#000000\" font-family=\"sans-serif\" font-size=\"14\" font-style=\"italic\" lengthAdjust=\"spacingAndGlyphs\" textLength=\"111\" x=\"294\" y=\"301.9951\">«accept action»</text><text fill=\"#000000\" font-family=\"sans-serif\" font-size=\"14\" lengthAdjust=\"spacingAndGlyphs\" textLength=\"9\" x=\"345\" y=\"319.292\">S</text></a><!--MD5=[24d87cdf3002d433f401b2a2aa9f9f65]\n",
       "entity E6--><a href=\"psysml:18c3d457-6bb3-4962-a480-0e1b2254a09a\" target=\"_top\" title=\"psysml:18c3d457-6bb3-4962-a480-0e1b2254a09a\" xlink:actuate=\"onRequest\" xlink:href=\"psysml:18c3d457-6bb3-4962-a480-0e1b2254a09a\" xlink:show=\"new\" xlink:title=\"psysml:18c3d457-6bb3-4962-a480-0e1b2254a09a\" xlink:type=\"simple\"><polygon fill=\"#F8F8F8\" points=\"287,411,287,465.5938,395,465.5938,415,438.2969,395,411\" style=\"stroke: #000000; stroke-width: 1.5;\"/><text fill=\"#000000\" font-family=\"sans-serif\" font-size=\"14\" font-style=\"italic\" lengthAdjust=\"spacingAndGlyphs\" textLength=\"99\" x=\"294\" y=\"433.9951\">«send action»</text><text fill=\"#000000\" font-family=\"sans-serif\" font-size=\"14\" lengthAdjust=\"spacingAndGlyphs\" textLength=\"65\" x=\"311\" y=\"451.292\">S() to  B()</text></a><polygon fill=\"#F8F8F8\" points=\"426,527,438,539,426,551,414,539,426,527\" style=\"stroke: #383838; stroke-width: 1.5;\"/><ellipse cx=\"428\" cy=\"110\" fill=\"#000000\" rx=\"10\" ry=\"10\" style=\"stroke: none; stroke-width: 1.0;\"/><ellipse cx=\"426\" cy=\"622\" fill=\"none\" rx=\"10\" ry=\"10\" style=\"stroke: #000000; stroke-width: 1.0;\"/><ellipse cx=\"426.5\" cy=\"622.5\" fill=\"#000000\" rx=\"6\" ry=\"6\" style=\"stroke: none; stroke-width: 1.0;\"/><g id=\"E1.E8\"><a href=\"psysml:530e5343-b7af-483f-85a0-93ec425d0302\" target=\"_top\" title=\"psysml:530e5343-b7af-483f-85a0-93ec425d0302\" xlink:actuate=\"onRequest\" xlink:href=\"psysml:530e5343-b7af-483f-85a0-93ec425d0302\" xlink:show=\"new\" xlink:title=\"psysml:530e5343-b7af-483f-85a0-93ec425d0302\" xlink:type=\"simple\"><rect fill=\"#FFFFFF\" height=\"42.9375\" id=\"E8\" style=\"stroke: #383838; stroke-width: 1.5;\" width=\"88\" x=\"32\" y=\"88.5\"/><rect fill=\"#F8F8F8\" height=\"37.9375\" style=\"stroke: #383838; stroke-width: 1.5;\" width=\"88\" x=\"32\" y=\"88.5\"/><text fill=\"#000000\" font-family=\"sans-serif\" font-size=\"12\" font-style=\"italic\" lengthAdjust=\"spacingAndGlyphs\" textLength=\"81\" x=\"35.5\" y=\"104.6387\">«action  def»</text><text fill=\"#000000\" font-family=\"sans-serif\" font-size=\"12\" lengthAdjust=\"spacingAndGlyphs\" textLength=\"8\" x=\"72\" y=\"118.6074\">B</text></a></g><!--MD5=[f47e10efcf9a6752d55dae986d790ed9]\n",
       "link *start*E3 to E4--><a href=\"psysml:8ec85343-59fa-499c-a77c-a2bbf8c30a9c\" target=\"_top\" title=\"psysml:8ec85343-59fa-499c-a77c-a2bbf8c30a9c\" xlink:actuate=\"onRequest\" xlink:href=\"psysml:8ec85343-59fa-499c-a77c-a2bbf8c30a9c\" xlink:show=\"new\" xlink:title=\"psysml:8ec85343-59fa-499c-a77c-a2bbf8c30a9c\" xlink:type=\"simple\"><path d=\"M428,120.01 C428,135.81 428,168.69 428,188.61 \" fill=\"none\" id=\"*start*E3-&gt;E4\" style=\"stroke: #383838; stroke-width: 1.0;\"/><polygon fill=\"#383838\" points=\"428,193.85,432,184.85,428,188.85,424,184.85,428,193.85\" style=\"stroke: #383838; stroke-width: 1.0;\"/></a><!--MD5=[d19f2eb34364d71b67042106d92f540b]\n",
       "link E7 to *end*E3--><a href=\"psysml:0d9f4e26-bf93-4aba-a8c6-6dafeae60007\" target=\"_top\" title=\"psysml:0d9f4e26-bf93-4aba-a8c6-6dafeae60007\" xlink:actuate=\"onRequest\" xlink:href=\"psysml:0d9f4e26-bf93-4aba-a8c6-6dafeae60007\" xlink:show=\"new\" xlink:title=\"psysml:0d9f4e26-bf93-4aba-a8c6-6dafeae60007\" xlink:type=\"simple\"><path d=\"M426,551.26 C426,565.66 426,590.63 426,606.46 \" fill=\"none\" id=\"E7-&gt;*end*E3\" style=\"stroke: #383838; stroke-width: 1.0;\"/><polygon fill=\"#383838\" points=\"426,611.84,430,602.84,426,606.84,422,602.84,426,611.84\" style=\"stroke: #383838; stroke-width: 1.0;\"/></a><!--MD5=[1b7591eae5389033d8d09a9d6721a717]\n",
       "link E4 to E5--><a href=\"psysml:0f743cc2-6e19-41e4-aad8-79cb567e3158\" target=\"_top\" title=\"psysml:0f743cc2-6e19-41e4-aad8-79cb567e3158\" xlink:actuate=\"onRequest\" xlink:href=\"psysml:0f743cc2-6e19-41e4-aad8-79cb567e3158\" xlink:show=\"new\" xlink:title=\"psysml:0f743cc2-6e19-41e4-aad8-79cb567e3158\" xlink:type=\"simple\"><path d=\"M423.34,213.46 C414.55,225.66 394.99,252.8 379.37,274.46 \" fill=\"none\" id=\"E4-&gt;E5\" style=\"stroke: #383838; stroke-width: 1.0;\"/><polygon fill=\"#383838\" points=\"376.31,278.71,384.8093,273.7339,379.227,274.6491,378.3119,269.0667,376.31,278.71\" style=\"stroke: #383838; stroke-width: 1.0;\"/><text fill=\"#000000\" font-family=\"sans-serif\" font-size=\"13\" lengthAdjust=\"spacingAndGlyphs\" textLength=\"7\" x=\"372.7684\" y=\"268.1162\">*</text></a><!--MD5=[9120cf2e5df3bff93db8f754bbbc09b4]\n",
       "link E5 to E6--><a href=\"psysml:3404b4e6-fa1c-4cf0-a87f-a7f8eafbc3bc\" target=\"_top\" title=\"psysml:3404b4e6-fa1c-4cf0-a87f-a7f8eafbc3bc\" xlink:actuate=\"onRequest\" xlink:href=\"psysml:3404b4e6-fa1c-4cf0-a87f-a7f8eafbc3bc\" xlink:show=\"new\" xlink:title=\"psysml:3404b4e6-fa1c-4cf0-a87f-a7f8eafbc3bc\" xlink:type=\"simple\"><path d=\"M355.77,334.12 C354.81,354.89 353.48,383.8 352.46,405.77 \" fill=\"none\" id=\"E5-&gt;E6\" style=\"stroke: #383838; stroke-width: 1.0;\"/><polygon fill=\"#383838\" points=\"352.23,410.91,356.6368,402.1021,352.4583,405.9152,348.6452,401.7367,352.23,410.91\" style=\"stroke: #383838; stroke-width: 1.0;\"/><text fill=\"#000000\" font-family=\"sans-serif\" font-size=\"13\" lengthAdjust=\"spacingAndGlyphs\" textLength=\"7\" x=\"344.7051\" y=\"399.9247\">*</text></a><!--MD5=[02c70b7c851c11e3980e4e90450dc5dd]\n",
       "link E6 to E7--><a href=\"psysml:a56f0975-9bdd-4db4-ac34-32a8d14536cf\" target=\"_top\" title=\"psysml:a56f0975-9bdd-4db4-ac34-32a8d14536cf\" xlink:actuate=\"onRequest\" xlink:href=\"psysml:a56f0975-9bdd-4db4-ac34-32a8d14536cf\" xlink:show=\"new\" xlink:title=\"psysml:a56f0975-9bdd-4db4-ac34-32a8d14536cf\" xlink:type=\"simple\"><path d=\"M371.3,466.16 C386.71,486.4 407.07,513.14 418.09,527.61 \" fill=\"none\" id=\"E6-&gt;E7\" style=\"stroke: #383838; stroke-width: 1.0;\"/><polygon fill=\"#383838\" points=\"421.2,531.69,418.9398,522.104,418.1749,527.7089,412.57,526.9441,421.2,531.69\" style=\"stroke: #383838; stroke-width: 1.0;\"/><text fill=\"#000000\" font-family=\"sans-serif\" font-size=\"13\" lengthAdjust=\"spacingAndGlyphs\" textLength=\"7\" x=\"406.9375\" y=\"515.8563\">*</text></a><!--MD5=[6bdd27f9905911a7e892a3dc65cf6b7c]\n",
       "link E7 to E4--><a href=\"psysml:2a79c4d0-9744-4107-95b5-d9c642bb083b\" target=\"_top\" title=\"psysml:2a79c4d0-9744-4107-95b5-d9c642bb083b\" xlink:actuate=\"onRequest\" xlink:href=\"psysml:2a79c4d0-9744-4107-95b5-d9c642bb083b\" xlink:show=\"new\" xlink:title=\"psysml:2a79c4d0-9744-4107-95b5-d9c642bb083b\" xlink:type=\"simple\"><path d=\"M427.98,528.56 C434.8,494.71 456.32,376.18 445,279 C442.59,258.32 436.42,234.96 432.21,220.61 \" fill=\"none\" id=\"E7-&gt;E4\" style=\"stroke: #383838; stroke-width: 1.0;\"/><polygon fill=\"#383838\" points=\"430.76,215.75,429.4935,225.5171,432.1863,220.5423,437.1611,223.2351,430.76,215.75\" style=\"stroke: #383838; stroke-width: 1.0;\"/><text fill=\"#000000\" font-family=\"sans-serif\" font-size=\"13\" lengthAdjust=\"spacingAndGlyphs\" textLength=\"36\" x=\"448\" y=\"377.0669\">[true]</text><text fill=\"#000000\" font-family=\"sans-serif\" font-size=\"13\" lengthAdjust=\"spacingAndGlyphs\" textLength=\"7\" x=\"423.3253\" y=\"237.9903\">*</text></a><!--MD5=[473f832779c2cb97658ee7c956177f4f]\n",
       "@startuml\r\n",
       "skinparam monochrome true\r\n",
       "skinparam classbackgroundcolor white\r\n",
       "skinparam shadowing false\r\n",
       "skinparam wrapWidth 300\r\n",
       "hide circle\r\n",
       "\r\n",
       "package \"ActionTest\" as E1  [[psysml:b606a038-0c45-436f-a3a1-beef47fa0e17 ]]  {\r\n",
       "comp def \"S\" as E2  <<(T,blue) attribute  def>> [[psysml:f9329402-d9ed-482b-aa71-2e931e2796d7 ]] {\r\n",
       "}\r\n",
       "rec usage \"a\" as E3  <<(T,blue) action>> [[psysml:69e16b91-de61-4fe2-8ebf-63b040d0687a ]] {\r\n",
       "choice \"m\" as E4  [[psysml:ba661374-e1ab-49de-aa21-c62362c65829 ]] \r\n",
       "accept \" S\" as E5 << accept action>> [[psysml:dcf8e234-4de8-4cb8-a947-17c2138066f0 ]] \r\n",
       "send \" S() to  B()\" as E6 << send action>> [[psysml:18c3d457-6bb3-4962-a480-0e1b2254a09a ]] \r\n",
       "choice \"<s>noname</s>\" as E7  [[psysml:1cf4a57b-2f41-48db-bb2e-4817b665eacc ]] \r\n",
       "[*] - -> E4 [[psysml:8ec85343-59fa-499c-a77c-a2bbf8c30a9c ]] \r\n",
       "E7  - -> [*] [[psysml:0d9f4e26-bf93-4aba-a8c6-6dafeae60007 ]] \r\n",
       "}\r\n",
       "\r\n",
       "rec def \"B\" as E8  <<(T,blue) action  def>> [[psysml:530e5343-b7af-483f-85a0-93ec425d0302 ]] {\r\n",
       "}\r\n",
       "\r\n",
       "}\r\n",
       "E4 - -> \"*\"E5 [[psysml:0f743cc2-6e19-41e4-aad8-79cb567e3158 ]] \r\n",
       "E5 - -> \"*\"E6 [[psysml:3404b4e6-fa1c-4cf0-a87f-a7f8eafbc3bc ]] \r\n",
       "E6 - -> \"*\"E7 [[psysml:a56f0975-9bdd-4db4-ac34-32a8d14536cf ]] \r\n",
       "E7  - -> \"*\"E4 [[psysml:2a79c4d0-9744-4107-95b5-d9c642bb083b ]] : [true]\r\n",
       "@enduml\r\n",
       "\n",
       "PlantUML version 1.2020.13(Sat Jun 13 12:26:38 UTC 2020)\n",
       "(EPL source distribution)\n",
       "Java Runtime: OpenJDK Runtime Environment\n",
       "JVM: OpenJDK 64-Bit Server VM\n",
       "Default Encoding: UTF-8\n",
       "Language: en\n",
       "Country: null\n",
       "--></g></svg>"
      ]
     },
     "execution_count": 37,
     "metadata": {},
     "output_type": "execute_result"
    }
   ],
   "source": [
    "%viz --style=\"DEFAULT\" --view=\"Default\" \"ActionTest\""
   ]
  },
  {
   "cell_type": "code",
   "execution_count": 38,
   "id": "c19cb2d0",
   "metadata": {
    "execution": {
     "iopub.execute_input": "2021-10-25T08:21:24.677498Z",
     "iopub.status.busy": "2021-10-25T08:21:24.676921Z",
     "iopub.status.idle": "2021-10-25T08:21:24.808027Z",
     "shell.execute_reply": "2021-10-25T08:21:24.805476Z"
    }
   },
   "outputs": [
    {
     "data": {
      "image/svg+xml": [
       "<?xml version=\"1.0\" encoding=\"UTF-8\" standalone=\"no\"?><svg xmlns=\"http://www.w3.org/2000/svg\" xmlns:xlink=\"http://www.w3.org/1999/xlink\" contentScriptType=\"application/ecmascript\" contentStyleType=\"text/css\" height=\"479px\" preserveAspectRatio=\"none\" style=\"width:698px;height:479px;\" version=\"1.1\" viewBox=\"0 0 698 479\" width=\"698px\" zoomAndPan=\"magnify\"><defs/><g><!--MD5=[fbc87193dbaf4d95561dea2c320d4a47]\n",
       "cluster E1--><a href=\"psysml:b606a038-0c45-436f-a3a1-beef47fa0e17\" target=\"_top\" title=\"psysml:b606a038-0c45-436f-a3a1-beef47fa0e17\" xlink:actuate=\"onRequest\" xlink:href=\"psysml:b606a038-0c45-436f-a3a1-beef47fa0e17\" xlink:show=\"new\" xlink:title=\"psysml:b606a038-0c45-436f-a3a1-beef47fa0e17\" xlink:type=\"simple\"><polygon fill=\"#FFFFFF\" points=\"16,6,96,6,103,28.2969,676,28.2969,676,467,16,467,16,6\" style=\"stroke: #000000; stroke-width: 1.5;\"/><line style=\"stroke: #000000; stroke-width: 1.5;\" x1=\"16\" x2=\"103\" y1=\"28.2969\" y2=\"28.2969\"/><text fill=\"#000000\" font-family=\"sans-serif\" font-size=\"14\" font-weight=\"bold\" lengthAdjust=\"spacingAndGlyphs\" textLength=\"74\" x=\"20\" y=\"20.9951\">ActionTest</text></a><!--MD5=[b4997ac47864f28c2f74865a473b2911]\n",
       "class E2--><a href=\"psysml:f9329402-d9ed-482b-aa71-2e931e2796d7\" target=\"_top\" title=\"psysml:f9329402-d9ed-482b-aa71-2e931e2796d7\" xlink:actuate=\"onRequest\" xlink:href=\"psysml:f9329402-d9ed-482b-aa71-2e931e2796d7\" xlink:show=\"new\" xlink:title=\"psysml:f9329402-d9ed-482b-aa71-2e931e2796d7\" xlink:type=\"simple\"><rect fill=\"#FFFFFF\" height=\"45.9375\" id=\"E2\" style=\"stroke: #383838; stroke-width: 1.5;\" width=\"99\" x=\"283.5\" y=\"405\"/><text fill=\"#000000\" font-family=\"sans-serif\" font-size=\"12\" font-style=\"italic\" lengthAdjust=\"spacingAndGlyphs\" textLength=\"97\" x=\"284.5\" y=\"421.1387\">«attribute  def»</text><text fill=\"#000000\" font-family=\"sans-serif\" font-size=\"12\" lengthAdjust=\"spacingAndGlyphs\" textLength=\"8\" x=\"329\" y=\"435.1074\">S</text><line style=\"stroke: #383838; stroke-width: 1.5;\" x1=\"284.5\" x2=\"381.5\" y1=\"442.9375\" y2=\"442.9375\"/></a><!--MD5=[09b614a08d8cba4a07c9adeb5e0fee81]\n",
       "class E3--><a href=\"psysml:69e16b91-de61-4fe2-8ebf-63b040d0687a\" target=\"_top\" title=\"psysml:69e16b91-de61-4fe2-8ebf-63b040d0687a\" xlink:actuate=\"onRequest\" xlink:href=\"psysml:69e16b91-de61-4fe2-8ebf-63b040d0687a\" xlink:show=\"new\" xlink:title=\"psysml:69e16b91-de61-4fe2-8ebf-63b040d0687a\" xlink:type=\"simple\"><rect fill=\"#FFFFFF\" height=\"156.375\" id=\"E3\" rx=\"10\" ry=\"10\" style=\"stroke: #383838; stroke-width: 1.5;\" width=\"79\" x=\"293.5\" y=\"41\"/><text fill=\"#000000\" font-family=\"sans-serif\" font-size=\"12\" font-style=\"italic\" lengthAdjust=\"spacingAndGlyphs\" textLength=\"53\" x=\"306.5\" y=\"57.1387\">«action»</text><text fill=\"#000000\" font-family=\"sans-serif\" font-size=\"12\" lengthAdjust=\"spacingAndGlyphs\" textLength=\"8\" x=\"329\" y=\"71.1074\">a</text><line style=\"stroke: #383838; stroke-width: 1.5;\" x1=\"294.5\" x2=\"371.5\" y1=\"78.9375\" y2=\"78.9375\"/><text fill=\"#000000\" font-family=\"sans-serif\" font-size=\"11\" lengthAdjust=\"spacingAndGlyphs\" textLength=\"11\" x=\"299.5\" y=\"109.9526\">to</text><text fill=\"#000000\" font-family=\"sans-serif\" font-size=\"11\" lengthAdjust=\"spacingAndGlyphs\" textLength=\"11\" x=\"299.5\" y=\"122.7573\">to</text><text fill=\"#000000\" font-family=\"sans-serif\" font-size=\"11\" lengthAdjust=\"spacingAndGlyphs\" textLength=\"11\" x=\"299.5\" y=\"135.562\">to</text><text fill=\"#000000\" font-family=\"sans-serif\" font-size=\"11\" lengthAdjust=\"spacingAndGlyphs\" textLength=\"11\" x=\"299.5\" y=\"148.3667\">to</text><line style=\"stroke: #383838; stroke-width: 1.0;\" x1=\"294.5\" x2=\"297.5\" y1=\"93.3398\" y2=\"93.3398\"/><text fill=\"#000000\" font-family=\"sans-serif\" font-size=\"11\" lengthAdjust=\"spacingAndGlyphs\" textLength=\"71\" x=\"297.5\" y=\"96.6479\">successions</text><line style=\"stroke: #383838; stroke-width: 1.0;\" x1=\"368.5\" x2=\"371.5\" y1=\"93.3398\" y2=\"93.3398\"/><text fill=\"#000000\" font-family=\"sans-serif\" font-size=\"11\" lengthAdjust=\"spacingAndGlyphs\" textLength=\"0\" x=\"303.5\" y=\"177.9761\"/><text fill=\"#000000\" font-family=\"sans-serif\" font-size=\"11\" lengthAdjust=\"spacingAndGlyphs\" textLength=\"0\" x=\"303.5\" y=\"190.7808\"/><line style=\"stroke: #383838; stroke-width: 1.0;\" x1=\"294.5\" x2=\"302.5\" y1=\"161.3633\" y2=\"161.3633\"/><text fill=\"#000000\" font-family=\"sans-serif\" font-size=\"11\" lengthAdjust=\"spacingAndGlyphs\" textLength=\"61\" x=\"302.5\" y=\"164.6714\">transitions</text><line style=\"stroke: #383838; stroke-width: 1.0;\" x1=\"363.5\" x2=\"371.5\" y1=\"161.3633\" y2=\"161.3633\"/></a><!--MD5=[ebbe1d658d1005bcc118a6aa81145e00]\n",
       "class E4--><a href=\"psysml:d8f546a6-9527-45eb-b0f0-0c3fcbb6d2a9\" target=\"_top\" title=\"psysml:d8f546a6-9527-45eb-b0f0-0c3fcbb6d2a9\" xlink:actuate=\"onRequest\" xlink:href=\"psysml:d8f546a6-9527-45eb-b0f0-0c3fcbb6d2a9\" xlink:show=\"new\" xlink:title=\"psysml:d8f546a6-9527-45eb-b0f0-0c3fcbb6d2a9\" xlink:type=\"simple\"><rect fill=\"#FFFFFF\" height=\"45.9375\" id=\"E4\" rx=\"10\" ry=\"10\" style=\"stroke: #383838; stroke-width: 1.5;\" width=\"87\" x=\"32.5\" y=\"278\"/><text fill=\"#000000\" font-family=\"sans-serif\" font-size=\"12\" font-style=\"italic\" lengthAdjust=\"spacingAndGlyphs\" textLength=\"53\" x=\"49.5\" y=\"294.1387\">«action»</text><text fill=\"#000000\" font-family=\"sans-serif\" font-size=\"12\" lengthAdjust=\"spacingAndGlyphs\" textLength=\"77\" x=\"35.5\" y=\"308.1074\">start: Action</text><line style=\"stroke: #383838; stroke-width: 1.5;\" x1=\"33.5\" x2=\"118.5\" y1=\"315.9375\" y2=\"315.9375\"/></a><!--MD5=[270fce915f116d4de14055a7c1d9a0f3]\n",
       "class E5--><a href=\"psysml:ba661374-e1ab-49de-aa21-c62362c65829\" target=\"_top\" title=\"psysml:ba661374-e1ab-49de-aa21-c62362c65829\" xlink:actuate=\"onRequest\" xlink:href=\"psysml:ba661374-e1ab-49de-aa21-c62362c65829\" xlink:show=\"new\" xlink:title=\"psysml:ba661374-e1ab-49de-aa21-c62362c65829\" xlink:type=\"simple\"><rect fill=\"#FFFFFF\" height=\"45.9375\" id=\"E5\" rx=\"10\" ry=\"10\" style=\"stroke: #383838; stroke-width: 1.5;\" width=\"92\" x=\"155\" y=\"278\"/><text fill=\"#000000\" font-family=\"sans-serif\" font-size=\"12\" font-style=\"italic\" lengthAdjust=\"spacingAndGlyphs\" textLength=\"90\" x=\"156\" y=\"294.1387\">«merge node»</text><text fill=\"#000000\" font-family=\"sans-serif\" font-size=\"12\" lengthAdjust=\"spacingAndGlyphs\" textLength=\"11\" x=\"195.5\" y=\"308.1074\">m</text><line style=\"stroke: #383838; stroke-width: 1.5;\" x1=\"156\" x2=\"246\" y1=\"315.9375\" y2=\"315.9375\"/></a><!--MD5=[60a26617385b1d2d0262a64233df1f8d]\n",
       "class E6--><a href=\"psysml:dcf8e234-4de8-4cb8-a947-17c2138066f0\" target=\"_top\" title=\"psysml:dcf8e234-4de8-4cb8-a947-17c2138066f0\" xlink:actuate=\"onRequest\" xlink:href=\"psysml:dcf8e234-4de8-4cb8-a947-17c2138066f0\" xlink:show=\"new\" xlink:title=\"psysml:dcf8e234-4de8-4cb8-a947-17c2138066f0\" xlink:type=\"simple\"><rect fill=\"#FFFFFF\" height=\"88.3516\" id=\"E6\" rx=\"10\" ry=\"10\" style=\"stroke: #383838; stroke-width: 1.5;\" width=\"102\" x=\"282\" y=\"257\"/><text fill=\"#000000\" font-family=\"sans-serif\" font-size=\"12\" font-style=\"italic\" lengthAdjust=\"spacingAndGlyphs\" textLength=\"100\" x=\"283\" y=\"273.1387\">«accept action»</text><text fill=\"#000000\" font-family=\"sans-serif\" font-size=\"12\" lengthAdjust=\"spacingAndGlyphs\" text-decoration=\"line-through\" textLength=\"51\" x=\"307.5\" y=\"287.1074\">noname</text><line style=\"stroke: #383838; stroke-width: 1.5;\" x1=\"283\" x2=\"383\" y1=\"294.9375\" y2=\"294.9375\"/><text fill=\"#000000\" font-family=\"sans-serif\" font-size=\"11\" font-weight=\"bold\" lengthAdjust=\"spacingAndGlyphs\" textLength=\"10\" x=\"288\" y=\"325.9526\">in</text><text fill=\"#000000\" font-family=\"sans-serif\" font-size=\"11\" lengthAdjust=\"spacingAndGlyphs\" textLength=\"60\" x=\"302\" y=\"325.9526\">payload: S</text><text fill=\"#000000\" font-family=\"sans-serif\" font-size=\"11\" font-weight=\"bold\" lengthAdjust=\"spacingAndGlyphs\" textLength=\"10\" x=\"288\" y=\"338.7573\">in</text><text fill=\"#000000\" font-family=\"sans-serif\" font-size=\"11\" lengthAdjust=\"spacingAndGlyphs\" textLength=\"46\" x=\"302\" y=\"338.7573\">receiver</text><line style=\"stroke: #383838; stroke-width: 1.0;\" x1=\"283\" x2=\"299.5\" y1=\"309.3398\" y2=\"309.3398\"/><text fill=\"#000000\" font-family=\"sans-serif\" font-size=\"11\" lengthAdjust=\"spacingAndGlyphs\" textLength=\"67\" x=\"299.5\" y=\"312.6479\">parameters</text><line style=\"stroke: #383838; stroke-width: 1.0;\" x1=\"366.5\" x2=\"383\" y1=\"309.3398\" y2=\"309.3398\"/></a><!--MD5=[2156ba9850f5573cc1fc38a6a4b2f02b]\n",
       "class E7--><a href=\"psysml:18c3d457-6bb3-4962-a480-0e1b2254a09a\" target=\"_top\" title=\"psysml:18c3d457-6bb3-4962-a480-0e1b2254a09a\" xlink:actuate=\"onRequest\" xlink:href=\"psysml:18c3d457-6bb3-4962-a480-0e1b2254a09a\" xlink:show=\"new\" xlink:title=\"psysml:18c3d457-6bb3-4962-a480-0e1b2254a09a\" xlink:type=\"simple\"><rect fill=\"#FFFFFF\" height=\"88.3516\" id=\"E7\" rx=\"10\" ry=\"10\" style=\"stroke: #383838; stroke-width: 1.5;\" width=\"101\" x=\"419.5\" y=\"257\"/><text fill=\"#000000\" font-family=\"sans-serif\" font-size=\"12\" font-style=\"italic\" lengthAdjust=\"spacingAndGlyphs\" textLength=\"88\" x=\"426\" y=\"273.1387\">«send action»</text><text fill=\"#000000\" font-family=\"sans-serif\" font-size=\"12\" lengthAdjust=\"spacingAndGlyphs\" text-decoration=\"line-through\" textLength=\"51\" x=\"444.5\" y=\"287.1074\">noname</text><line style=\"stroke: #383838; stroke-width: 1.5;\" x1=\"420.5\" x2=\"519.5\" y1=\"294.9375\" y2=\"294.9375\"/><text fill=\"#000000\" font-family=\"sans-serif\" font-size=\"11\" font-weight=\"bold\" lengthAdjust=\"spacingAndGlyphs\" textLength=\"10\" x=\"425.5\" y=\"325.9526\">in</text><text fill=\"#000000\" font-family=\"sans-serif\" font-size=\"11\" lengthAdjust=\"spacingAndGlyphs\" textLength=\"73\" x=\"439.5\" y=\"325.9526\">payload=S();</text><text fill=\"#000000\" font-family=\"sans-serif\" font-size=\"11\" font-weight=\"bold\" lengthAdjust=\"spacingAndGlyphs\" textLength=\"10\" x=\"425.5\" y=\"338.7573\">in</text><text fill=\"#000000\" font-family=\"sans-serif\" font-size=\"11\" lengthAdjust=\"spacingAndGlyphs\" textLength=\"75\" x=\"439.5\" y=\"338.7573\">receiver=B();</text><line style=\"stroke: #383838; stroke-width: 1.0;\" x1=\"420.5\" x2=\"436.5\" y1=\"309.3398\" y2=\"309.3398\"/><text fill=\"#000000\" font-family=\"sans-serif\" font-size=\"11\" lengthAdjust=\"spacingAndGlyphs\" textLength=\"67\" x=\"436.5\" y=\"312.6479\">parameters</text><line style=\"stroke: #383838; stroke-width: 1.0;\" x1=\"503.5\" x2=\"519.5\" y1=\"309.3398\" y2=\"309.3398\"/></a><!--MD5=[b9389687b975829384b498ac4b7476b2]\n",
       "class E8--><a href=\"psysml:1cf4a57b-2f41-48db-bb2e-4817b665eacc\" target=\"_top\" title=\"psysml:1cf4a57b-2f41-48db-bb2e-4817b665eacc\" xlink:actuate=\"onRequest\" xlink:href=\"psysml:1cf4a57b-2f41-48db-bb2e-4817b665eacc\" xlink:show=\"new\" xlink:title=\"psysml:1cf4a57b-2f41-48db-bb2e-4817b665eacc\" xlink:type=\"simple\"><rect fill=\"#FFFFFF\" height=\"45.9375\" id=\"E8\" rx=\"10\" ry=\"10\" style=\"stroke: #383838; stroke-width: 1.5;\" width=\"104\" x=\"556\" y=\"278\"/><text fill=\"#000000\" font-family=\"sans-serif\" font-size=\"12\" font-style=\"italic\" lengthAdjust=\"spacingAndGlyphs\" textLength=\"102\" x=\"557\" y=\"294.1387\">«decision node»</text><text fill=\"#000000\" font-family=\"sans-serif\" font-size=\"12\" lengthAdjust=\"spacingAndGlyphs\" text-decoration=\"line-through\" textLength=\"51\" x=\"582.5\" y=\"308.1074\">noname</text><line style=\"stroke: #383838; stroke-width: 1.5;\" x1=\"557\" x2=\"659\" y1=\"315.9375\" y2=\"315.9375\"/></a><!--MD5=[fd4143e9d270a159db93a4ea2a975926]\n",
       "class E9--><a href=\"psysml:530e5343-b7af-483f-85a0-93ec425d0302\" target=\"_top\" title=\"psysml:530e5343-b7af-483f-85a0-93ec425d0302\" xlink:actuate=\"onRequest\" xlink:href=\"psysml:530e5343-b7af-483f-85a0-93ec425d0302\" xlink:show=\"new\" xlink:title=\"psysml:530e5343-b7af-483f-85a0-93ec425d0302\" xlink:type=\"simple\"><rect fill=\"#FFFFFF\" height=\"45.9375\" id=\"E9\" style=\"stroke: #383838; stroke-width: 1.5;\" width=\"83\" x=\"104.5\" y=\"96\"/><text fill=\"#000000\" font-family=\"sans-serif\" font-size=\"12\" font-style=\"italic\" lengthAdjust=\"spacingAndGlyphs\" textLength=\"81\" x=\"105.5\" y=\"112.1387\">«action  def»</text><text fill=\"#000000\" font-family=\"sans-serif\" font-size=\"12\" lengthAdjust=\"spacingAndGlyphs\" textLength=\"8\" x=\"142\" y=\"126.1074\">B</text><line style=\"stroke: #383838; stroke-width: 1.5;\" x1=\"105.5\" x2=\"186.5\" y1=\"133.9375\" y2=\"133.9375\"/></a><!--MD5=[4672eba38e49728da53d11aeb285b987]\n",
       "reverse link E3 to E4--><a href=\"psysml:4e23b20a-a36f-46ec-8d5d-d94d3421b796\" target=\"_top\" title=\"psysml:4e23b20a-a36f-46ec-8d5d-d94d3421b796\" xlink:actuate=\"onRequest\" xlink:href=\"psysml:4e23b20a-a36f-46ec-8d5d-d94d3421b796\" xlink:show=\"new\" xlink:title=\"psysml:4e23b20a-a36f-46ec-8d5d-d94d3421b796\" xlink:type=\"simple\"><path d=\"M280.68,156.48 C241.18,184.05 185.65,222.85 137,257 C127.35,263.77 116.85,271.17 107.33,277.88 \" fill=\"none\" id=\"E3&lt;-E4\" style=\"stroke: #383838; stroke-width: 1.0; stroke-dasharray: 7.0,7.0;\"/><ellipse cx=\"286.6201\" cy=\"152.349\" fill=\"#FFFFFF\" rx=\"8\" ry=\"8\" style=\"stroke: #383838; stroke-width: 1.0;\"/><line style=\"stroke: #383838; stroke-width: 1.0;\" x1=\"280.0601\" x2=\"293.18\" y1=\"156.928\" y2=\"147.77\"/><line style=\"stroke: #383838; stroke-width: 1.0;\" x1=\"282.0411\" x2=\"291.1991\" y1=\"145.7891\" y2=\"158.9089\"/></a><!--MD5=[191cde3d490a3f6d7bb551fe3ddca469]\n",
       "reverse link E3 to E5--><a href=\"psysml:ad14583f-f40d-4d66-bbbd-cfa822b8d260\" target=\"_top\" title=\"psysml:ad14583f-f40d-4d66-bbbd-cfa822b8d260\" xlink:actuate=\"onRequest\" xlink:href=\"psysml:ad14583f-f40d-4d66-bbbd-cfa822b8d260\" xlink:show=\"new\" xlink:title=\"psysml:ad14583f-f40d-4d66-bbbd-cfa822b8d260\" xlink:type=\"simple\"><path d=\"M285.45,184.85 C261.55,217.43 234.15,254.8 217.2,277.91 \" fill=\"none\" id=\"E3&lt;-E5\" style=\"stroke: #383838; stroke-width: 1.0;\"/><polygon fill=\"#383838\" points=\"293.4,174.01,286.6268,176.4846,286.3059,183.6885,293.0791,181.214,293.4,174.01\" style=\"stroke: #383838; stroke-width: 1.0;\"/><text fill=\"#000000\" font-family=\"sans-serif\" font-size=\"13\" lengthAdjust=\"spacingAndGlyphs\" textLength=\"7\" x=\"213.6131\" y=\"266.7821\">*</text></a><!--MD5=[1026b4b93417a13aa8999a858998add2]\n",
       "reverse link E3 to E6--><a href=\"psysml:02f2d6be-0a1b-48e7-9525-0788d6b31587\" target=\"_top\" title=\"psysml:02f2d6be-0a1b-48e7-9525-0788d6b31587\" xlink:actuate=\"onRequest\" xlink:href=\"psysml:02f2d6be-0a1b-48e7-9525-0788d6b31587\" xlink:show=\"new\" xlink:title=\"psysml:02f2d6be-0a1b-48e7-9525-0788d6b31587\" xlink:type=\"simple\"><path d=\"M333,210.12 C333,226.38 333,242.64 333,256.77 \" fill=\"none\" id=\"E3&lt;-E6\" style=\"stroke: #383838; stroke-width: 1.0;\"/><polygon fill=\"#383838\" points=\"333,197.12,329,203.12,333,209.12,337,203.12,333,197.12\" style=\"stroke: #383838; stroke-width: 1.0;\"/><text fill=\"#000000\" font-family=\"sans-serif\" font-size=\"13\" lengthAdjust=\"spacingAndGlyphs\" textLength=\"7\" x=\"325.4641\" y=\"245.899\">*</text></a><!--MD5=[3403bfa781cc3da0fd423dbab6f01c63]\n",
       "reverse link E6 to E2--><a href=\"psysml:415ec969-1049-4ff8-b1f4-3b78a625bc7d\" target=\"_top\" title=\"psysml:415ec969-1049-4ff8-b1f4-3b78a625bc7d\" xlink:actuate=\"onRequest\" xlink:href=\"psysml:415ec969-1049-4ff8-b1f4-3b78a625bc7d\" xlink:show=\"new\" xlink:title=\"psysml:415ec969-1049-4ff8-b1f4-3b78a625bc7d\" xlink:type=\"simple\"><path d=\"M320.31,358.11 C320,374.71 320.9,391.92 323.01,404.99 \" fill=\"none\" id=\"E6&lt;-E2\" style=\"stroke: #383838; stroke-width: 1.0;\"/><polygon fill=\"#FFFFFF\" points=\"320.82,345.02,316.5921,350.8617,320.3583,357.0111,324.5862,351.1695,320.82,345.02\" style=\"stroke: #383838; stroke-width: 1.0;\"/></a><!--MD5=[3403bfa781cc3da0fd423dbab6f01c63]\n",
       "reverse link E6 to E2--><a href=\"psysml:415ec969-1049-4ff8-b1f4-3b78a625bc7d\" target=\"_top\" title=\"psysml:415ec969-1049-4ff8-b1f4-3b78a625bc7d\" xlink:actuate=\"onRequest\" xlink:href=\"psysml:415ec969-1049-4ff8-b1f4-3b78a625bc7d\" xlink:show=\"new\" xlink:title=\"psysml:415ec969-1049-4ff8-b1f4-3b78a625bc7d\" xlink:type=\"simple\"><path d=\"M346.44,358.11 C346.76,374.71 345.81,391.92 343.57,404.99 \" fill=\"none\" id=\"E6&lt;-E2-1\" style=\"stroke: #383838; stroke-width: 1.0;\"/><polygon fill=\"#FFFFFF\" points=\"345.9,345.02,342.1473,351.1777,346.388,357.0101,350.1407,350.8524,345.9,345.02\" style=\"stroke: #383838; stroke-width: 1.0;\"/></a><!--MD5=[85760999379eecfd2565a9fecdca67e4]\n",
       "reverse link E3 to E7--><a href=\"psysml:6b163638-00d9-4d11-a021-492b992d4a3f\" target=\"_top\" title=\"psysml:6b163638-00d9-4d11-a021-492b992d4a3f\" xlink:actuate=\"onRequest\" xlink:href=\"psysml:6b163638-00d9-4d11-a021-492b992d4a3f\" xlink:show=\"new\" xlink:title=\"psysml:6b163638-00d9-4d11-a021-492b992d4a3f\" xlink:type=\"simple\"><path d=\"M380.73,182.71 C399.37,207.2 420.27,234.66 437.16,256.86 \" fill=\"none\" id=\"E3&lt;-E7\" style=\"stroke: #383838; stroke-width: 1.0;\"/><polygon fill=\"#383838\" points=\"372.63,172.06,373.0806,179.257,379.8974,181.6091,379.4467,174.4121,372.63,172.06\" style=\"stroke: #383838; stroke-width: 1.0;\"/><text fill=\"#000000\" font-family=\"sans-serif\" font-size=\"13\" lengthAdjust=\"spacingAndGlyphs\" textLength=\"7\" x=\"424.5954\" y=\"246.0028\">*</text></a><!--MD5=[4cb75b73ec3682b8f7f8edc9cc86126a]\n",
       "reverse link E3 to E8--><a href=\"psysml:e0686d6c-32a7-4788-b0ea-8926b68cc818\" target=\"_top\" title=\"psysml:e0686d6c-32a7-4788-b0ea-8926b68cc818\" xlink:actuate=\"onRequest\" xlink:href=\"psysml:e0686d6c-32a7-4788-b0ea-8926b68cc818\" xlink:show=\"new\" xlink:title=\"psysml:e0686d6c-32a7-4788-b0ea-8926b68cc818\" xlink:type=\"simple\"><path d=\"M383.69,153.18 C439.23,189.53 526.74,246.81 574.37,277.99 \" fill=\"none\" id=\"E3&lt;-E8\" style=\"stroke: #383838; stroke-width: 1.0;\"/><polygon fill=\"#383838\" points=\"372.69,145.98,375.5242,152.6108,382.735,152.5449,379.9008,145.9141,372.69,145.98\" style=\"stroke: #383838; stroke-width: 1.0;\"/></a><!--MD5=[4f24c74e23107b0e5f7e02ecb2f4062f]\n",
       "@startuml\r\n",
       "skinparam monochrome true\r\n",
       "skinparam classbackgroundcolor white\r\n",
       "skinparam shadowing false\r\n",
       "skinparam wrapWidth 300\r\n",
       "hide circle\r\n",
       "\r\n",
       "package \"ActionTest\" as E1  [[psysml:b606a038-0c45-436f-a3a1-beef47fa0e17 ]]  {\r\n",
       "comp def \"S\" as E2  <<(T,blue) attribute  def>> [[psysml:f9329402-d9ed-482b-aa71-2e931e2796d7 ]] {\r\n",
       "}\r\n",
       "comp usage \"a\" as E3  <<(T,blue) action>> [[psysml:69e16b91-de61-4fe2-8ebf-63b040d0687a ]] {\r\n",
       "- - successions - -\r\n",
       " to \r\n",
       " to \r\n",
       " to \r\n",
       " to \r\n",
       "- - transitions - -\r\n",
       "\r\n",
       "\r\n",
       "}\r\n",
       "comp usage \"start: Action \" as E4  <<(T,blue) action>> [[psysml:d8f546a6-9527-45eb-b0f0-0c3fcbb6d2a9 ]] {\r\n",
       "}\r\n",
       "comp usage \"m\" as E5  <<(T,blue) merge node>> [[psysml:ba661374-e1ab-49de-aa21-c62362c65829 ]] {\r\n",
       "}\r\n",
       "comp usage \"<s>noname</s>\" as E6 << accept action>> [[psysml:dcf8e234-4de8-4cb8-a947-17c2138066f0 ]] {\r\n",
       "- - parameters - -\r\n",
       "<b>in</b> payload: S\r\n",
       "<b>in</b> receiver\r\n",
       "}\r\n",
       "comp usage \"<s>noname</s>\" as E7 << send action>> [[psysml:18c3d457-6bb3-4962-a480-0e1b2254a09a ]] {\r\n",
       "- - parameters - -\r\n",
       "<b>in</b> payload=S(); \r\n",
       "<b>in</b> receiver=B(); \r\n",
       "}\r\n",
       "comp usage \"<s>noname</s>\" as E8  <<(T,blue) decision node>> [[psysml:1cf4a57b-2f41-48db-bb2e-4817b665eacc ]] {\r\n",
       "}\r\n",
       "comp def \"B\" as E9  <<(T,blue) action  def>> [[psysml:530e5343-b7af-483f-85a0-93ec425d0302 ]] {\r\n",
       "}\r\n",
       "}\r\n",
       "E3 +.. E4 [[psysml:4e23b20a-a36f-46ec-8d5d-d94d3421b796 ]] \r\n",
       "E3 *- - \"*\"E5 [[psysml:ad14583f-f40d-4d66-bbbd-cfa822b8d260 ]] \r\n",
       "E3 *- - \"*\"E6 [[psysml:02f2d6be-0a1b-48e7-9525-0788d6b31587 ]] \r\n",
       "E6 o- - E2 [[psysml:415ec969-1049-4ff8-b1f4-3b78a625bc7d ]] \r\n",
       "E6 o- - E2 [[psysml:415ec969-1049-4ff8-b1f4-3b78a625bc7d ]] \r\n",
       "E3 *- - \"*\"E7 [[psysml:6b163638-00d9-4d11-a021-492b992d4a3f ]] \r\n",
       "E3 *- - E8 [[psysml:e0686d6c-32a7-4788-b0ea-8926b68cc818 ]] \r\n",
       "@enduml\r\n",
       "\n",
       "PlantUML version 1.2020.13(Sat Jun 13 12:26:38 UTC 2020)\n",
       "(EPL source distribution)\n",
       "Java Runtime: OpenJDK Runtime Environment\n",
       "JVM: OpenJDK 64-Bit Server VM\n",
       "Default Encoding: UTF-8\n",
       "Language: en\n",
       "Country: null\n",
       "--></g></svg>"
      ]
     },
     "execution_count": 38,
     "metadata": {},
     "output_type": "execute_result"
    }
   ],
   "source": [
    "%viz --style=\"DEFAULT\" --view=\"Tree\" \"ActionTest\""
   ]
  },
  {
   "cell_type": "code",
   "execution_count": 39,
   "id": "abfe2b21",
   "metadata": {
    "execution": {
     "iopub.execute_input": "2021-10-25T08:21:24.856118Z",
     "iopub.status.busy": "2021-10-25T08:21:24.855702Z",
     "iopub.status.idle": "2021-10-25T08:21:24.859663Z",
     "shell.execute_reply": "2021-10-25T08:21:24.859307Z"
    }
   },
   "outputs": [
    {
     "data": {
      "image/svg+xml": [
       "<?xml version=\"1.0\" encoding=\"UTF-8\" standalone=\"no\"?><svg xmlns=\"http://www.w3.org/2000/svg\" xmlns:xlink=\"http://www.w3.org/1999/xlink\" contentScriptType=\"application/ecmascript\" contentStyleType=\"text/css\" height=\"12px\" preserveAspectRatio=\"none\" style=\"width:12px;height:12px;\" version=\"1.1\" viewBox=\"0 0 12 12\" width=\"12px\" zoomAndPan=\"magnify\"><defs/><g><!--MD5=[c5f280e076d0d61ccf4b0f27871bda1d]\n",
       "@startuml\r\n",
       "skinparam monochrome true\r\n",
       "skinparam classbackgroundcolor white\r\n",
       "skinparam shadowing false\r\n",
       "skinparam wrapWidth 300\r\n",
       "hide circle\r\n",
       "\r\n",
       "@enduml\r\n",
       "\n",
       "PlantUML version 1.2020.13(Sat Jun 13 12:26:38 UTC 2020)\n",
       "(EPL source distribution)\n",
       "Java Runtime: OpenJDK Runtime Environment\n",
       "JVM: OpenJDK 64-Bit Server VM\n",
       "Default Encoding: UTF-8\n",
       "Language: en\n",
       "Country: null\n",
       "--></g></svg>"
      ]
     },
     "execution_count": 39,
     "metadata": {},
     "output_type": "execute_result"
    }
   ],
   "source": [
    "%viz --style=\"DEFAULT\" --view=\"State\" \"ActionTest\""
   ]
  },
  {
   "cell_type": "code",
   "execution_count": 40,
   "id": "b89e448f",
   "metadata": {
    "execution": {
     "iopub.execute_input": "2021-10-25T08:21:24.909286Z",
     "iopub.status.busy": "2021-10-25T08:21:24.908710Z",
     "iopub.status.idle": "2021-10-25T08:21:24.953159Z",
     "shell.execute_reply": "2021-10-25T08:21:24.952818Z"
    }
   },
   "outputs": [
    {
     "data": {
      "image/svg+xml": [
       "<?xml version=\"1.0\" encoding=\"UTF-8\" standalone=\"no\"?><svg xmlns=\"http://www.w3.org/2000/svg\" xmlns:xlink=\"http://www.w3.org/1999/xlink\" contentScriptType=\"application/ecmascript\" contentStyleType=\"text/css\" height=\"462px\" preserveAspectRatio=\"none\" style=\"width:530px;height:462px;\" version=\"1.1\" viewBox=\"0 0 530 462\" width=\"530px\" zoomAndPan=\"magnify\"><defs/><g><!--MD5=[fbc87193dbaf4d95561dea2c320d4a47]\n",
       "cluster E1--><a href=\"psysml:b606a038-0c45-436f-a3a1-beef47fa0e17\" target=\"_top\" title=\"psysml:b606a038-0c45-436f-a3a1-beef47fa0e17\" xlink:actuate=\"onRequest\" xlink:href=\"psysml:b606a038-0c45-436f-a3a1-beef47fa0e17\" xlink:show=\"new\" xlink:title=\"psysml:b606a038-0c45-436f-a3a1-beef47fa0e17\" xlink:type=\"simple\"><polygon fill=\"#FFFFFF\" points=\"16,6,96,6,103,28.2969,508,28.2969,508,450.5,16,450.5,16,6\" style=\"stroke: #000000; stroke-width: 1.5;\"/><line style=\"stroke: #000000; stroke-width: 1.5;\" x1=\"16\" x2=\"103\" y1=\"28.2969\" y2=\"28.2969\"/><text fill=\"#000000\" font-family=\"sans-serif\" font-size=\"14\" font-weight=\"bold\" lengthAdjust=\"spacingAndGlyphs\" textLength=\"74\" x=\"20\" y=\"20.9951\">ActionTest</text></a><!--MD5=[d5e69f78d87373223dbae638b30a9c99]\n",
       "cluster E3--><a href=\"psysml:69e16b91-de61-4fe2-8ebf-63b040d0687a\" target=\"_top\" title=\"psysml:69e16b91-de61-4fe2-8ebf-63b040d0687a\" xlink:actuate=\"onRequest\" xlink:href=\"psysml:69e16b91-de61-4fe2-8ebf-63b040d0687a\" xlink:show=\"new\" xlink:title=\"psysml:69e16b91-de61-4fe2-8ebf-63b040d0687a\" xlink:type=\"simple\"><rect fill=\"#FFFFFF\" height=\"377.5\" id=\"E3\" rx=\"10\" ry=\"10\" style=\"stroke: #383838; stroke-width: 1.5;\" width=\"209\" x=\"275\" y=\"49\"/><rect fill=\"#F8F8F8\" height=\"37.9375\" rx=\"10\" ry=\"10\" style=\"stroke: #F8F8F8; stroke-width: 1.5;\" width=\"209\" x=\"275\" y=\"49\"/><rect fill=\"#F8F8F8\" height=\"10\" style=\"stroke: #F8F8F8; stroke-width: 1.5;\" width=\"209\" x=\"275\" y=\"76.9375\"/><rect fill=\"none\" height=\"377.5\" id=\"E3\" rx=\"10\" ry=\"10\" style=\"stroke: #383838; stroke-width: 1.5;\" width=\"209\" x=\"275\" y=\"49\"/><text fill=\"#000000\" font-family=\"sans-serif\" font-size=\"12\" font-style=\"italic\" lengthAdjust=\"spacingAndGlyphs\" textLength=\"53\" x=\"353\" y=\"65.1387\">«action»</text><text fill=\"#000000\" font-family=\"sans-serif\" font-size=\"12\" lengthAdjust=\"spacingAndGlyphs\" textLength=\"8\" x=\"375.5\" y=\"79.1074\">a</text><line style=\"stroke: #383838; stroke-width: 1.0;\" x1=\"275\" x2=\"484\" y1=\"86.9375\" y2=\"86.9375\"/></a><g id=\"E1.E2\"><a href=\"psysml:f9329402-d9ed-482b-aa71-2e931e2796d7\" target=\"_top\" title=\"psysml:f9329402-d9ed-482b-aa71-2e931e2796d7\" xlink:actuate=\"onRequest\" xlink:href=\"psysml:f9329402-d9ed-482b-aa71-2e931e2796d7\" xlink:show=\"new\" xlink:title=\"psysml:f9329402-d9ed-482b-aa71-2e931e2796d7\" xlink:type=\"simple\"><rect fill=\"#FFFFFF\" height=\"42.9375\" id=\"E2\" style=\"stroke: #383838; stroke-width: 1.5;\" width=\"104\" x=\"155\" y=\"88.5\"/><rect fill=\"#F8F8F8\" height=\"37.9375\" style=\"stroke: #383838; stroke-width: 1.5;\" width=\"104\" x=\"155\" y=\"88.5\"/><text fill=\"#000000\" font-family=\"sans-serif\" font-size=\"12\" font-style=\"italic\" lengthAdjust=\"spacingAndGlyphs\" textLength=\"97\" x=\"158.5\" y=\"104.6387\">«attribute  def»</text><text fill=\"#000000\" font-family=\"sans-serif\" font-size=\"12\" lengthAdjust=\"spacingAndGlyphs\" textLength=\"8\" x=\"203\" y=\"118.6074\">S</text></a></g><polygon fill=\"#F8F8F8\" points=\"432,148.5,444,160.5,432,172.5,420,160.5,432,148.5\" style=\"stroke: #383838; stroke-width: 1.5;\"/><!--MD5=[21dd76c19d33815960c0e92fef8f0eef]\n",
       "entity E5--><a href=\"psysml:dcf8e234-4de8-4cb8-a947-17c2138066f0\" target=\"_top\" title=\"psysml:dcf8e234-4de8-4cb8-a947-17c2138066f0\" xlink:actuate=\"onRequest\" xlink:href=\"psysml:dcf8e234-4de8-4cb8-a947-17c2138066f0\" xlink:show=\"new\" xlink:title=\"psysml:dcf8e234-4de8-4cb8-a947-17c2138066f0\" xlink:type=\"simple\"><polygon fill=\"#F8F8F8\" points=\"291,189.5,291,244.0938,431,244.0938,411,216.7969,431,189.5\" style=\"stroke: #000000; stroke-width: 1.5;\"/><text fill=\"#000000\" font-family=\"sans-serif\" font-size=\"14\" font-style=\"italic\" lengthAdjust=\"spacingAndGlyphs\" textLength=\"111\" x=\"298\" y=\"212.4951\">«accept action»</text><text fill=\"#000000\" font-family=\"sans-serif\" font-size=\"14\" lengthAdjust=\"spacingAndGlyphs\" textLength=\"9\" x=\"349\" y=\"229.792\">S</text></a><!--MD5=[24d87cdf3002d433f401b2a2aa9f9f65]\n",
       "entity E6--><a href=\"psysml:18c3d457-6bb3-4962-a480-0e1b2254a09a\" target=\"_top\" title=\"psysml:18c3d457-6bb3-4962-a480-0e1b2254a09a\" xlink:actuate=\"onRequest\" xlink:href=\"psysml:18c3d457-6bb3-4962-a480-0e1b2254a09a\" xlink:show=\"new\" xlink:title=\"psysml:18c3d457-6bb3-4962-a480-0e1b2254a09a\" xlink:type=\"simple\"><polygon fill=\"#F8F8F8\" points=\"291,277.5,291,332.0938,399,332.0938,419,304.7969,399,277.5\" style=\"stroke: #000000; stroke-width: 1.5;\"/><text fill=\"#000000\" font-family=\"sans-serif\" font-size=\"14\" font-style=\"italic\" lengthAdjust=\"spacingAndGlyphs\" textLength=\"99\" x=\"298\" y=\"300.4951\">«send action»</text><text fill=\"#000000\" font-family=\"sans-serif\" font-size=\"14\" lengthAdjust=\"spacingAndGlyphs\" textLength=\"65\" x=\"315\" y=\"317.792\">S() to  B()</text></a><polygon fill=\"#F8F8F8\" points=\"430,349.5,442,361.5,430,373.5,418,361.5,430,349.5\" style=\"stroke: #383838; stroke-width: 1.5;\"/><ellipse cx=\"432\" cy=\"110\" fill=\"#000000\" rx=\"10\" ry=\"10\" style=\"stroke: none; stroke-width: 1.0;\"/><ellipse cx=\"430\" cy=\"400.5\" fill=\"none\" rx=\"10\" ry=\"10\" style=\"stroke: #000000; stroke-width: 1.0;\"/><ellipse cx=\"430.5\" cy=\"401\" fill=\"#000000\" rx=\"6\" ry=\"6\" style=\"stroke: none; stroke-width: 1.0;\"/><g id=\"E1.E8\"><a href=\"psysml:530e5343-b7af-483f-85a0-93ec425d0302\" target=\"_top\" title=\"psysml:530e5343-b7af-483f-85a0-93ec425d0302\" xlink:actuate=\"onRequest\" xlink:href=\"psysml:530e5343-b7af-483f-85a0-93ec425d0302\" xlink:show=\"new\" xlink:title=\"psysml:530e5343-b7af-483f-85a0-93ec425d0302\" xlink:type=\"simple\"><rect fill=\"#FFFFFF\" height=\"42.9375\" id=\"E8\" style=\"stroke: #383838; stroke-width: 1.5;\" width=\"88\" x=\"32\" y=\"88.5\"/><rect fill=\"#F8F8F8\" height=\"37.9375\" style=\"stroke: #383838; stroke-width: 1.5;\" width=\"88\" x=\"32\" y=\"88.5\"/><text fill=\"#000000\" font-family=\"sans-serif\" font-size=\"12\" font-style=\"italic\" lengthAdjust=\"spacingAndGlyphs\" textLength=\"81\" x=\"35.5\" y=\"104.6387\">«action  def»</text><text fill=\"#000000\" font-family=\"sans-serif\" font-size=\"12\" lengthAdjust=\"spacingAndGlyphs\" textLength=\"8\" x=\"72\" y=\"118.6074\">B</text></a></g><!--MD5=[f47e10efcf9a6752d55dae986d790ed9]\n",
       "link *start*E3 to E4--><a href=\"psysml:8ec85343-59fa-499c-a77c-a2bbf8c30a9c\" target=\"_top\" title=\"psysml:8ec85343-59fa-499c-a77c-a2bbf8c30a9c\" xlink:actuate=\"onRequest\" xlink:href=\"psysml:8ec85343-59fa-499c-a77c-a2bbf8c30a9c\" xlink:show=\"new\" xlink:title=\"psysml:8ec85343-59fa-499c-a77c-a2bbf8c30a9c\" xlink:type=\"simple\"><path d=\"M432,120.35 C432,126.88 432,135.77 432,143.42 \" fill=\"none\" id=\"*start*E3-&gt;E4\" style=\"stroke: #383838; stroke-width: 1.0;\"/><polygon fill=\"#383838\" points=\"432,148.48,436,139.48,432,143.48,428,139.48,432,148.48\" style=\"stroke: #383838; stroke-width: 1.0;\"/></a><!--MD5=[d19f2eb34364d71b67042106d92f540b]\n",
       "link E7 to *end*E3--><a href=\"psysml:0d9f4e26-bf93-4aba-a8c6-6dafeae60007\" target=\"_top\" title=\"psysml:0d9f4e26-bf93-4aba-a8c6-6dafeae60007\" xlink:actuate=\"onRequest\" xlink:href=\"psysml:0d9f4e26-bf93-4aba-a8c6-6dafeae60007\" xlink:show=\"new\" xlink:title=\"psysml:0d9f4e26-bf93-4aba-a8c6-6dafeae60007\" xlink:type=\"simple\"><path d=\"M430,373.8 C430,377.34 430,381.3 430,385.03 \" fill=\"none\" id=\"E7-&gt;*end*E3\" style=\"stroke: #383838; stroke-width: 1.0;\"/><polygon fill=\"#383838\" points=\"430,390.25,434,381.25,430,385.25,426,381.25,430,390.25\" style=\"stroke: #383838; stroke-width: 1.0;\"/></a><!--MD5=[1b7591eae5389033d8d09a9d6721a717]\n",
       "link E4 to E5--><a href=\"psysml:0f743cc2-6e19-41e4-aad8-79cb567e3158\" target=\"_top\" title=\"psysml:0f743cc2-6e19-41e4-aad8-79cb567e3158\" xlink:actuate=\"onRequest\" xlink:href=\"psysml:0f743cc2-6e19-41e4-aad8-79cb567e3158\" xlink:show=\"new\" xlink:title=\"psysml:0f743cc2-6e19-41e4-aad8-79cb567e3158\" xlink:type=\"simple\"><path d=\"M425.45,166.53 C419.33,171.23 409.65,178.66 399.64,186.34 \" fill=\"none\" id=\"E4-&gt;E5\" style=\"stroke: #383838; stroke-width: 1.0;\"/><polygon fill=\"#383838\" points=\"395.64,189.41,405.2129,187.0948,399.6037,186.3621,400.3363,180.7529,395.64,189.41\" style=\"stroke: #383838; stroke-width: 1.0;\"/><text fill=\"#000000\" font-family=\"sans-serif\" font-size=\"13\" lengthAdjust=\"spacingAndGlyphs\" textLength=\"7\" x=\"395.8411\" y=\"178.4247\">*</text></a><!--MD5=[9120cf2e5df3bff93db8f754bbbc09b4]\n",
       "link E5 to E6--><a href=\"psysml:3404b4e6-fa1c-4cf0-a87f-a7f8eafbc3bc\" target=\"_top\" title=\"psysml:3404b4e6-fa1c-4cf0-a87f-a7f8eafbc3bc\" xlink:actuate=\"onRequest\" xlink:href=\"psysml:3404b4e6-fa1c-4cf0-a87f-a7f8eafbc3bc\" xlink:show=\"new\" xlink:title=\"psysml:3404b4e6-fa1c-4cf0-a87f-a7f8eafbc3bc\" xlink:type=\"simple\"><path d=\"M359.13,244.74 C358.53,253.4 357.85,263.08 357.23,272.08 \" fill=\"none\" id=\"E5-&gt;E6\" style=\"stroke: #383838; stroke-width: 1.0;\"/><polygon fill=\"#383838\" points=\"356.86,277.28,361.468,268.5756,357.203,272.2918,353.4869,268.0268,356.86,277.28\" style=\"stroke: #383838; stroke-width: 1.0;\"/><text fill=\"#000000\" font-family=\"sans-serif\" font-size=\"13\" lengthAdjust=\"spacingAndGlyphs\" textLength=\"7\" x=\"349.4808\" y=\"266.2646\">*</text></a><!--MD5=[02c70b7c851c11e3980e4e90450dc5dd]\n",
       "link E6 to E7--><a href=\"psysml:a56f0975-9bdd-4db4-ac34-32a8d14536cf\" target=\"_top\" title=\"psysml:a56f0975-9bdd-4db4-ac34-32a8d14536cf\" xlink:actuate=\"onRequest\" xlink:href=\"psysml:a56f0975-9bdd-4db4-ac34-32a8d14536cf\" xlink:show=\"new\" xlink:title=\"psysml:a56f0975-9bdd-4db4-ac34-32a8d14536cf\" xlink:type=\"simple\"><path d=\"M391.62,332.61 C401.72,339.95 411.91,347.35 419.24,352.68 \" fill=\"none\" id=\"E6-&gt;E7\" style=\"stroke: #383838; stroke-width: 1.0;\"/><polygon fill=\"#383838\" points=\"423.42,355.72,418.4976,347.1894,419.3776,352.7774,413.7896,353.6574,423.42,355.72\" style=\"stroke: #383838; stroke-width: 1.0;\"/><text fill=\"#000000\" font-family=\"sans-serif\" font-size=\"13\" lengthAdjust=\"spacingAndGlyphs\" textLength=\"7\" x=\"405.584\" y=\"338.5823\">*</text></a><!--MD5=[6bdd27f9905911a7e892a3dc65cf6b7c]\n",
       "link E7 to E4--><a href=\"psysml:2a79c4d0-9744-4107-95b5-d9c642bb083b\" target=\"_top\" title=\"psysml:2a79c4d0-9744-4107-95b5-d9c642bb083b\" xlink:actuate=\"onRequest\" xlink:href=\"psysml:2a79c4d0-9744-4107-95b5-d9c642bb083b\" xlink:show=\"new\" xlink:title=\"psysml:2a79c4d0-9744-4107-95b5-d9c642bb083b\" xlink:type=\"simple\"><path d=\"M433,352.49 C441.84,327.73 466.06,250.48 449,189.5 C447.26,183.29 443.73,177.1 440.34,172.12 \" fill=\"none\" id=\"E7-&gt;E4\" style=\"stroke: #383838; stroke-width: 1.0;\"/><polygon fill=\"#383838\" points=\"437.31,167.92,439.3342,177.5586,440.2364,171.9741,445.8209,172.8763,437.31,167.92\" style=\"stroke: #383838; stroke-width: 1.0;\"/><text fill=\"#000000\" font-family=\"sans-serif\" font-size=\"13\" lengthAdjust=\"spacingAndGlyphs\" textLength=\"36\" x=\"455\" y=\"265.5669\">[true]</text><text fill=\"#000000\" font-family=\"sans-serif\" font-size=\"13\" lengthAdjust=\"spacingAndGlyphs\" textLength=\"7\" x=\"438.8853\" y=\"189.5917\">*</text></a><!--MD5=[8df7e099384a2c13c4543e8b680ed705]\n",
       "@startuml\r\n",
       "skinparam ranksep 10\r\n",
       "skinparam rectangle {\r\n",
       " backgroundColor<<block>> LightGreen\r\n",
       "}\r\n",
       "skinparam monochrome true\r\n",
       "skinparam classbackgroundcolor white\r\n",
       "skinparam shadowing false\r\n",
       "skinparam wrapWidth 300\r\n",
       "hide circle\r\n",
       "\r\n",
       "package \"ActionTest\" as E1  [[psysml:b606a038-0c45-436f-a3a1-beef47fa0e17 ]]  {\r\n",
       "def \"S\" as E2  <<(T,blue) attribute  def>> [[psysml:f9329402-d9ed-482b-aa71-2e931e2796d7 ]] \r\n",
       "rec usage \"a\" as E3  <<(T,blue) action>> [[psysml:69e16b91-de61-4fe2-8ebf-63b040d0687a ]] {\r\n",
       "choice \"m\" as E4  [[psysml:ba661374-e1ab-49de-aa21-c62362c65829 ]] \r\n",
       "accept \" S\" as E5 << accept action>> [[psysml:dcf8e234-4de8-4cb8-a947-17c2138066f0 ]] \r\n",
       "send \" S() to  B()\" as E6 << send action>> [[psysml:18c3d457-6bb3-4962-a480-0e1b2254a09a ]] \r\n",
       "choice \"<s>noname</s>\" as E7  [[psysml:1cf4a57b-2f41-48db-bb2e-4817b665eacc ]] \r\n",
       "[*] - -> E4 [[psysml:8ec85343-59fa-499c-a77c-a2bbf8c30a9c ]] \r\n",
       "E7  - -> [*] [[psysml:0d9f4e26-bf93-4aba-a8c6-6dafeae60007 ]] \r\n",
       "}\r\n",
       "\r\n",
       "rec def \"B\" as E8  <<(T,blue) action  def>> [[psysml:530e5343-b7af-483f-85a0-93ec425d0302 ]] {\r\n",
       "}\r\n",
       "\r\n",
       "}\r\n",
       "E4 - -> \"*\"E5 [[psysml:0f743cc2-6e19-41e4-aad8-79cb567e3158 ]] \r\n",
       "E5 - -> \"*\"E6 [[psysml:3404b4e6-fa1c-4cf0-a87f-a7f8eafbc3bc ]] \r\n",
       "E6 - -> \"*\"E7 [[psysml:a56f0975-9bdd-4db4-ac34-32a8d14536cf ]] \r\n",
       "E7  - -> \"*\"E4 [[psysml:2a79c4d0-9744-4107-95b5-d9c642bb083b ]] : [true]\r\n",
       "@enduml\r\n",
       "\n",
       "PlantUML version 1.2020.13(Sat Jun 13 12:26:38 UTC 2020)\n",
       "(EPL source distribution)\n",
       "Java Runtime: OpenJDK Runtime Environment\n",
       "JVM: OpenJDK 64-Bit Server VM\n",
       "Default Encoding: UTF-8\n",
       "Language: en\n",
       "Country: null\n",
       "--></g></svg>"
      ]
     },
     "execution_count": 40,
     "metadata": {},
     "output_type": "execute_result"
    }
   ],
   "source": [
    "%viz --style=\"DEFAULT\" --view=\"Interconnection\" \"ActionTest\""
   ]
  },
  {
   "cell_type": "code",
   "execution_count": 41,
   "id": "51644b98",
   "metadata": {
    "execution": {
     "iopub.execute_input": "2021-10-25T08:21:25.002501Z",
     "iopub.status.busy": "2021-10-25T08:21:25.002100Z",
     "iopub.status.idle": "2021-10-25T08:21:25.047496Z",
     "shell.execute_reply": "2021-10-25T08:21:25.045119Z"
    }
   },
   "outputs": [
    {
     "data": {
      "image/svg+xml": [
       "<?xml version=\"1.0\" encoding=\"UTF-8\" standalone=\"no\"?><svg xmlns=\"http://www.w3.org/2000/svg\" xmlns:xlink=\"http://www.w3.org/1999/xlink\" contentScriptType=\"application/ecmascript\" contentStyleType=\"text/css\" height=\"395px\" preserveAspectRatio=\"none\" style=\"width:339px;height:395px;\" version=\"1.1\" viewBox=\"0 0 339 395\" width=\"339px\" zoomAndPan=\"magnify\"><defs/><g><!--MD5=[fbc87193dbaf4d95561dea2c320d4a47]\n",
       "cluster E1--><a href=\"psysml:69e16b91-de61-4fe2-8ebf-63b040d0687a\" target=\"_top\" title=\"psysml:69e16b91-de61-4fe2-8ebf-63b040d0687a\" xlink:actuate=\"onRequest\" xlink:href=\"psysml:69e16b91-de61-4fe2-8ebf-63b040d0687a\" xlink:show=\"new\" xlink:title=\"psysml:69e16b91-de61-4fe2-8ebf-63b040d0687a\" xlink:type=\"simple\"><rect fill=\"#FFFFFF\" height=\"377.5\" id=\"E1\" rx=\"10\" ry=\"10\" style=\"stroke: #383838; stroke-width: 1.5;\" width=\"209\" x=\"111\" y=\"7\"/><rect fill=\"#F8F8F8\" height=\"37.9375\" rx=\"10\" ry=\"10\" style=\"stroke: #F8F8F8; stroke-width: 1.5;\" width=\"209\" x=\"111\" y=\"7\"/><rect fill=\"#F8F8F8\" height=\"10\" style=\"stroke: #F8F8F8; stroke-width: 1.5;\" width=\"209\" x=\"111\" y=\"34.9375\"/><rect fill=\"none\" height=\"377.5\" id=\"E1\" rx=\"10\" ry=\"10\" style=\"stroke: #383838; stroke-width: 1.5;\" width=\"209\" x=\"111\" y=\"7\"/><text fill=\"#000000\" font-family=\"sans-serif\" font-size=\"12\" font-style=\"italic\" lengthAdjust=\"spacingAndGlyphs\" textLength=\"53\" x=\"189\" y=\"23.1387\">«action»</text><text fill=\"#000000\" font-family=\"sans-serif\" font-size=\"12\" lengthAdjust=\"spacingAndGlyphs\" textLength=\"8\" x=\"211.5\" y=\"37.1074\">a</text><line style=\"stroke: #383838; stroke-width: 1.0;\" x1=\"111\" x2=\"320\" y1=\"44.9375\" y2=\"44.9375\"/></a><polygon fill=\"#F8F8F8\" points=\"268,106.5,280,118.5,268,130.5,256,118.5,268,106.5\" style=\"stroke: #383838; stroke-width: 1.5;\"/><!--MD5=[a60fb756f580feb9fd8e2cf1329b5c91]\n",
       "entity E3--><a href=\"psysml:dcf8e234-4de8-4cb8-a947-17c2138066f0\" target=\"_top\" title=\"psysml:dcf8e234-4de8-4cb8-a947-17c2138066f0\" xlink:actuate=\"onRequest\" xlink:href=\"psysml:dcf8e234-4de8-4cb8-a947-17c2138066f0\" xlink:show=\"new\" xlink:title=\"psysml:dcf8e234-4de8-4cb8-a947-17c2138066f0\" xlink:type=\"simple\"><polygon fill=\"#F8F8F8\" points=\"127,147.5,127,202.0938,267,202.0938,247,174.7969,267,147.5\" style=\"stroke: #000000; stroke-width: 1.5;\"/><text fill=\"#000000\" font-family=\"sans-serif\" font-size=\"14\" font-style=\"italic\" lengthAdjust=\"spacingAndGlyphs\" textLength=\"111\" x=\"134\" y=\"170.4951\">«accept action»</text><text fill=\"#000000\" font-family=\"sans-serif\" font-size=\"14\" lengthAdjust=\"spacingAndGlyphs\" textLength=\"9\" x=\"185\" y=\"187.792\">S</text></a><!--MD5=[961cefdc15414eaa3e87aec9d17c2188]\n",
       "entity E4--><a href=\"psysml:18c3d457-6bb3-4962-a480-0e1b2254a09a\" target=\"_top\" title=\"psysml:18c3d457-6bb3-4962-a480-0e1b2254a09a\" xlink:actuate=\"onRequest\" xlink:href=\"psysml:18c3d457-6bb3-4962-a480-0e1b2254a09a\" xlink:show=\"new\" xlink:title=\"psysml:18c3d457-6bb3-4962-a480-0e1b2254a09a\" xlink:type=\"simple\"><polygon fill=\"#F8F8F8\" points=\"127,235.5,127,290.0938,235,290.0938,255,262.7969,235,235.5\" style=\"stroke: #000000; stroke-width: 1.5;\"/><text fill=\"#000000\" font-family=\"sans-serif\" font-size=\"14\" font-style=\"italic\" lengthAdjust=\"spacingAndGlyphs\" textLength=\"99\" x=\"134\" y=\"258.4951\">«send action»</text><text fill=\"#000000\" font-family=\"sans-serif\" font-size=\"14\" lengthAdjust=\"spacingAndGlyphs\" textLength=\"65\" x=\"151\" y=\"275.792\">S() to  B()</text></a><polygon fill=\"#F8F8F8\" points=\"266,307.5,278,319.5,266,331.5,254,319.5,266,307.5\" style=\"stroke: #383838; stroke-width: 1.5;\"/><ellipse cx=\"268\" cy=\"68\" fill=\"#000000\" rx=\"10\" ry=\"10\" style=\"stroke: none; stroke-width: 1.0;\"/><ellipse cx=\"266\" cy=\"358.5\" fill=\"none\" rx=\"10\" ry=\"10\" style=\"stroke: #000000; stroke-width: 1.0;\"/><ellipse cx=\"266.5\" cy=\"359\" fill=\"#000000\" rx=\"6\" ry=\"6\" style=\"stroke: none; stroke-width: 1.0;\"/><g id=\"E6\"><a href=\"psysml:530e5343-b7af-483f-85a0-93ec425d0302\" target=\"_top\" title=\"psysml:530e5343-b7af-483f-85a0-93ec425d0302\" xlink:actuate=\"onRequest\" xlink:href=\"psysml:530e5343-b7af-483f-85a0-93ec425d0302\" xlink:show=\"new\" xlink:title=\"psysml:530e5343-b7af-483f-85a0-93ec425d0302\" xlink:type=\"simple\"><rect fill=\"#FFFFFF\" height=\"42.9375\" id=\"E6\" style=\"stroke: #383838; stroke-width: 1.5;\" width=\"88\" x=\"7\" y=\"46.5\"/><rect fill=\"#F8F8F8\" height=\"37.9375\" style=\"stroke: #383838; stroke-width: 1.5;\" width=\"88\" x=\"7\" y=\"46.5\"/><text fill=\"#000000\" font-family=\"sans-serif\" font-size=\"12\" font-style=\"italic\" lengthAdjust=\"spacingAndGlyphs\" textLength=\"81\" x=\"10.5\" y=\"62.6387\">«action  def»</text><text fill=\"#000000\" font-family=\"sans-serif\" font-size=\"12\" lengthAdjust=\"spacingAndGlyphs\" textLength=\"8\" x=\"47\" y=\"76.6074\">B</text></a></g><!--MD5=[cff944eb183b832d446717a4e202d613]\n",
       "link *start*E1 to E2--><a href=\"psysml:8ec85343-59fa-499c-a77c-a2bbf8c30a9c\" target=\"_top\" title=\"psysml:8ec85343-59fa-499c-a77c-a2bbf8c30a9c\" xlink:actuate=\"onRequest\" xlink:href=\"psysml:8ec85343-59fa-499c-a77c-a2bbf8c30a9c\" xlink:show=\"new\" xlink:title=\"psysml:8ec85343-59fa-499c-a77c-a2bbf8c30a9c\" xlink:type=\"simple\"><path d=\"M268,78.35 C268,84.88 268,93.77 268,101.42 \" fill=\"none\" id=\"*start*E1-&gt;E2\" style=\"stroke: #383838; stroke-width: 1.0; stroke-dasharray: 7.0,7.0;\"/><polygon fill=\"#383838\" points=\"268,106.48,272,97.48,268,101.48,264,97.48,268,106.48\" style=\"stroke: #383838; stroke-width: 1.0;\"/></a><!--MD5=[7fc47fc0d107820853a137871ad908c8]\n",
       "link E5 to *end*E1--><a href=\"psysml:0d9f4e26-bf93-4aba-a8c6-6dafeae60007\" target=\"_top\" title=\"psysml:0d9f4e26-bf93-4aba-a8c6-6dafeae60007\" xlink:actuate=\"onRequest\" xlink:href=\"psysml:0d9f4e26-bf93-4aba-a8c6-6dafeae60007\" xlink:show=\"new\" xlink:title=\"psysml:0d9f4e26-bf93-4aba-a8c6-6dafeae60007\" xlink:type=\"simple\"><path d=\"M266,331.8 C266,335.34 266,339.3 266,343.03 \" fill=\"none\" id=\"E5-&gt;*end*E1\" style=\"stroke: #383838; stroke-width: 1.0; stroke-dasharray: 7.0,7.0;\"/><polygon fill=\"#383838\" points=\"266,348.25,270,339.25,266,343.25,262,339.25,266,348.25\" style=\"stroke: #383838; stroke-width: 1.0;\"/></a><!--MD5=[2720a5a1f2c3fca2055b230370638851]\n",
       "link E2 to E3--><a href=\"psysml:0f743cc2-6e19-41e4-aad8-79cb567e3158\" target=\"_top\" title=\"psysml:0f743cc2-6e19-41e4-aad8-79cb567e3158\" xlink:actuate=\"onRequest\" xlink:href=\"psysml:0f743cc2-6e19-41e4-aad8-79cb567e3158\" xlink:show=\"new\" xlink:title=\"psysml:0f743cc2-6e19-41e4-aad8-79cb567e3158\" xlink:type=\"simple\"><path d=\"M261.45,124.53 C255.33,129.23 245.65,136.66 235.64,144.34 \" fill=\"none\" id=\"E2-&gt;E3\" style=\"stroke: #383838; stroke-width: 1.0; stroke-dasharray: 7.0,7.0;\"/><polygon fill=\"#383838\" points=\"231.64,147.41,241.2129,145.0948,235.6037,144.3621,236.3363,138.7529,231.64,147.41\" style=\"stroke: #383838; stroke-width: 1.0;\"/></a><!--MD5=[af87c684e3b0d8be13c1a698a818ef1e]\n",
       "link E3 to E4--><a href=\"psysml:3404b4e6-fa1c-4cf0-a87f-a7f8eafbc3bc\" target=\"_top\" title=\"psysml:3404b4e6-fa1c-4cf0-a87f-a7f8eafbc3bc\" xlink:actuate=\"onRequest\" xlink:href=\"psysml:3404b4e6-fa1c-4cf0-a87f-a7f8eafbc3bc\" xlink:show=\"new\" xlink:title=\"psysml:3404b4e6-fa1c-4cf0-a87f-a7f8eafbc3bc\" xlink:type=\"simple\"><path d=\"M195.13,202.74 C194.53,211.4 193.85,221.08 193.23,230.08 \" fill=\"none\" id=\"E3-&gt;E4\" style=\"stroke: #383838; stroke-width: 1.0; stroke-dasharray: 7.0,7.0;\"/><polygon fill=\"#383838\" points=\"192.86,235.28,197.468,226.5756,193.203,230.2918,189.4869,226.0268,192.86,235.28\" style=\"stroke: #383838; stroke-width: 1.0;\"/></a><!--MD5=[1b7591eae5389033d8d09a9d6721a717]\n",
       "link E4 to E5--><a href=\"psysml:a56f0975-9bdd-4db4-ac34-32a8d14536cf\" target=\"_top\" title=\"psysml:a56f0975-9bdd-4db4-ac34-32a8d14536cf\" xlink:actuate=\"onRequest\" xlink:href=\"psysml:a56f0975-9bdd-4db4-ac34-32a8d14536cf\" xlink:show=\"new\" xlink:title=\"psysml:a56f0975-9bdd-4db4-ac34-32a8d14536cf\" xlink:type=\"simple\"><path d=\"M227.62,290.61 C237.72,297.95 247.91,305.35 255.24,310.68 \" fill=\"none\" id=\"E4-&gt;E5\" style=\"stroke: #383838; stroke-width: 1.0; stroke-dasharray: 7.0,7.0;\"/><polygon fill=\"#383838\" points=\"259.42,313.72,254.4976,305.1894,255.3776,310.7774,249.7896,311.6574,259.42,313.72\" style=\"stroke: #383838; stroke-width: 1.0;\"/></a><!--MD5=[15ebcb19ae302d9b601edb458606d402]\n",
       "link E5 to E2--><a href=\"psysml:2a79c4d0-9744-4107-95b5-d9c642bb083b\" target=\"_top\" title=\"psysml:2a79c4d0-9744-4107-95b5-d9c642bb083b\" xlink:actuate=\"onRequest\" xlink:href=\"psysml:2a79c4d0-9744-4107-95b5-d9c642bb083b\" xlink:show=\"new\" xlink:title=\"psysml:2a79c4d0-9744-4107-95b5-d9c642bb083b\" xlink:type=\"simple\"><path d=\"M269,310.49 C277.84,285.73 302.06,208.48 285,147.5 C283.26,141.29 279.73,135.1 276.34,130.12 \" fill=\"none\" id=\"E5-&gt;E2\" style=\"stroke: #383838; stroke-width: 1.0; stroke-dasharray: 7.0,7.0;\"/><polygon fill=\"#383838\" points=\"273.31,125.92,275.3342,135.5586,276.2364,129.9741,281.8209,130.8763,273.31,125.92\" style=\"stroke: #383838; stroke-width: 1.0;\"/><text fill=\"#000000\" font-family=\"sans-serif\" font-size=\"13\" lengthAdjust=\"spacingAndGlyphs\" textLength=\"36\" x=\"291\" y=\"223.5669\">[true]</text></a><!--MD5=[93aacbf05049b61201705808e59177a7]\n",
       "@startuml\r\n",
       "skinparam ranksep 8\r\n",
       "skinparam monochrome true\r\n",
       "skinparam classbackgroundcolor white\r\n",
       "skinparam shadowing false\r\n",
       "skinparam wrapWidth 300\r\n",
       "hide circle\r\n",
       "\r\n",
       "rec usage \"a\" as E1  <<(T,blue) action>> [[psysml:69e16b91-de61-4fe2-8ebf-63b040d0687a ]] {\r\n",
       "choice \"m\" as E2  [[psysml:ba661374-e1ab-49de-aa21-c62362c65829 ]] \r\n",
       "accept \" S\" as E3 << accept action>> [[psysml:dcf8e234-4de8-4cb8-a947-17c2138066f0 ]] \r\n",
       "send \" S() to  B()\" as E4 << send action>> [[psysml:18c3d457-6bb3-4962-a480-0e1b2254a09a ]] \r\n",
       "choice \"<s>noname</s>\" as E5  [[psysml:1cf4a57b-2f41-48db-bb2e-4817b665eacc ]] \r\n",
       "[*] ..> E2 [[psysml:8ec85343-59fa-499c-a77c-a2bbf8c30a9c ]] \r\n",
       "E5 ..> [*] [[psysml:0d9f4e26-bf93-4aba-a8c6-6dafeae60007 ]] \r\n",
       "}\r\n",
       "\r\n",
       "E2 ..> E3 [[psysml:0f743cc2-6e19-41e4-aad8-79cb567e3158 ]] \r\n",
       "E3 ..> E4 [[psysml:3404b4e6-fa1c-4cf0-a87f-a7f8eafbc3bc ]] \r\n",
       "E4 ..> E5 [[psysml:a56f0975-9bdd-4db4-ac34-32a8d14536cf ]] \r\n",
       "E5 ..> E2 [[psysml:2a79c4d0-9744-4107-95b5-d9c642bb083b ]] : [true]\r\n",
       "rec def \"B\" as E6  <<(T,blue) action  def>> [[psysml:530e5343-b7af-483f-85a0-93ec425d0302 ]] {\r\n",
       "}\r\n",
       "\r\n",
       "@enduml\r\n",
       "\n",
       "PlantUML version 1.2020.13(Sat Jun 13 12:26:38 UTC 2020)\n",
       "(EPL source distribution)\n",
       "Java Runtime: OpenJDK Runtime Environment\n",
       "JVM: OpenJDK 64-Bit Server VM\n",
       "Default Encoding: UTF-8\n",
       "Language: en\n",
       "Country: null\n",
       "--></g></svg>"
      ]
     },
     "execution_count": 41,
     "metadata": {},
     "output_type": "execute_result"
    }
   ],
   "source": [
    "%viz --style=\"DEFAULT\" --view=\"Action\" \"ActionTest\""
   ]
  },
  {
   "cell_type": "code",
   "execution_count": 42,
   "id": "7df33e8b",
   "metadata": {
    "execution": {
     "iopub.execute_input": "2021-10-25T08:21:25.095390Z",
     "iopub.status.busy": "2021-10-25T08:21:25.095166Z",
     "iopub.status.idle": "2021-10-25T08:21:25.100669Z",
     "shell.execute_reply": "2021-10-25T08:21:25.100835Z"
    }
   },
   "outputs": [
    {
     "data": {
      "image/svg+xml": [
       "<?xml version=\"1.0\" encoding=\"UTF-8\" standalone=\"no\"?><svg xmlns=\"http://www.w3.org/2000/svg\" xmlns:xlink=\"http://www.w3.org/1999/xlink\" contentScriptType=\"application/ecmascript\" contentStyleType=\"text/css\" height=\"12px\" preserveAspectRatio=\"none\" style=\"width:12px;height:12px;\" version=\"1.1\" viewBox=\"0 0 12 12\" width=\"12px\" zoomAndPan=\"magnify\"><defs/><g><!--MD5=[0b72472770326784bf6c2b53246e1e64]\n",
       "@startuml\r\n",
       "skinparam roundcorner 20\r\n",
       "skinparam BoxPadding 20\r\n",
       "skinparam SequenceBoxBackgroundColor #white\r\n",
       "skinparam style strictuml\r\n",
       "skinparam maxMessageSize 100\r\n",
       "skinparam monochrome true\r\n",
       "skinparam classbackgroundcolor white\r\n",
       "skinparam shadowing false\r\n",
       "skinparam wrapWidth 300\r\n",
       "hide circle\r\n",
       "\r\n",
       "@enduml\r\n",
       "\n",
       "PlantUML version 1.2020.13(Sat Jun 13 12:26:38 UTC 2020)\n",
       "(EPL source distribution)\n",
       "Java Runtime: OpenJDK Runtime Environment\n",
       "JVM: OpenJDK 64-Bit Server VM\n",
       "Default Encoding: UTF-8\n",
       "Language: en\n",
       "Country: null\n",
       "--></g></svg>"
      ]
     },
     "execution_count": 42,
     "metadata": {},
     "output_type": "execute_result"
    }
   ],
   "source": [
    "%viz --style=\"DEFAULT\" --view=\"Sequence\" \"ActionTest\""
   ]
  },
  {
   "cell_type": "code",
   "execution_count": 43,
   "id": "915be231",
   "metadata": {
    "execution": {
     "iopub.execute_input": "2021-10-25T08:21:25.151489Z",
     "iopub.status.busy": "2021-10-25T08:21:25.151050Z",
     "iopub.status.idle": "2021-10-25T08:21:25.199276Z",
     "shell.execute_reply": "2021-10-25T08:21:25.197337Z"
    }
   },
   "outputs": [
    {
     "data": {
      "image/svg+xml": [
       "<?xml version=\"1.0\" encoding=\"UTF-8\" standalone=\"no\"?><svg xmlns=\"http://www.w3.org/2000/svg\" xmlns:xlink=\"http://www.w3.org/1999/xlink\" contentScriptType=\"application/ecmascript\" contentStyleType=\"text/css\" height=\"684px\" preserveAspectRatio=\"none\" style=\"width:526px;height:684px;\" version=\"1.1\" viewBox=\"0 0 526 684\" width=\"526px\" zoomAndPan=\"magnify\"><defs/><g><!--MD5=[fbc87193dbaf4d95561dea2c320d4a47]\n",
       "cluster E1--><a href=\"psysml:b606a038-0c45-436f-a3a1-beef47fa0e17\" target=\"_top\" title=\"psysml:b606a038-0c45-436f-a3a1-beef47fa0e17\" xlink:actuate=\"onRequest\" xlink:href=\"psysml:b606a038-0c45-436f-a3a1-beef47fa0e17\" xlink:show=\"new\" xlink:title=\"psysml:b606a038-0c45-436f-a3a1-beef47fa0e17\" xlink:type=\"simple\"><polygon fill=\"#FFFFFF\" points=\"16,6,96,6,103,28.2969,504,28.2969,504,672,16,672,16,6\" style=\"stroke: #000000; stroke-width: 1.5;\"/><line style=\"stroke: #000000; stroke-width: 1.5;\" x1=\"16\" x2=\"103\" y1=\"28.2969\" y2=\"28.2969\"/><text fill=\"#000000\" font-family=\"sans-serif\" font-size=\"14\" font-weight=\"bold\" lengthAdjust=\"spacingAndGlyphs\" textLength=\"74\" x=\"20\" y=\"20.9951\">ActionTest</text></a><!--MD5=[d5e69f78d87373223dbae638b30a9c99]\n",
       "cluster E3--><a href=\"psysml:69e16b91-de61-4fe2-8ebf-63b040d0687a\" target=\"_top\" title=\"psysml:69e16b91-de61-4fe2-8ebf-63b040d0687a\" xlink:actuate=\"onRequest\" xlink:href=\"psysml:69e16b91-de61-4fe2-8ebf-63b040d0687a\" xlink:show=\"new\" xlink:title=\"psysml:69e16b91-de61-4fe2-8ebf-63b040d0687a\" xlink:type=\"simple\"><rect fill=\"#FFFFFF\" height=\"599\" id=\"E3\" rx=\"10\" ry=\"10\" style=\"stroke: #383838; stroke-width: 1.5;\" width=\"209\" x=\"271\" y=\"49\"/><rect fill=\"#F8F8F8\" height=\"37.9375\" rx=\"10\" ry=\"10\" style=\"stroke: #F8F8F8; stroke-width: 1.5;\" width=\"209\" x=\"271\" y=\"49\"/><rect fill=\"#F8F8F8\" height=\"10\" style=\"stroke: #F8F8F8; stroke-width: 1.5;\" width=\"209\" x=\"271\" y=\"76.9375\"/><rect fill=\"none\" height=\"599\" id=\"E3\" rx=\"10\" ry=\"10\" style=\"stroke: #383838; stroke-width: 1.5;\" width=\"209\" x=\"271\" y=\"49\"/><text fill=\"#000000\" font-family=\"sans-serif\" font-size=\"12\" font-style=\"italic\" lengthAdjust=\"spacingAndGlyphs\" textLength=\"53\" x=\"349\" y=\"65.1387\">«action»</text><text fill=\"#000000\" font-family=\"sans-serif\" font-size=\"12\" lengthAdjust=\"spacingAndGlyphs\" textLength=\"8\" x=\"371.5\" y=\"79.1074\">a</text><line style=\"stroke: #383838; stroke-width: 1.0;\" x1=\"271\" x2=\"480\" y1=\"86.9375\" y2=\"86.9375\"/></a><!--MD5=[b4997ac47864f28c2f74865a473b2911]\n",
       "class E2--><a href=\"psysml:f9329402-d9ed-482b-aa71-2e931e2796d7\" target=\"_top\" title=\"psysml:f9329402-d9ed-482b-aa71-2e931e2796d7\" xlink:actuate=\"onRequest\" xlink:href=\"psysml:f9329402-d9ed-482b-aa71-2e931e2796d7\" xlink:show=\"new\" xlink:title=\"psysml:f9329402-d9ed-482b-aa71-2e931e2796d7\" xlink:type=\"simple\"><rect fill=\"#FFFFFF\" height=\"45.9375\" id=\"E2\" style=\"stroke: #383838; stroke-width: 1.5;\" width=\"99\" x=\"155.5\" y=\"87\"/><text fill=\"#000000\" font-family=\"sans-serif\" font-size=\"12\" font-style=\"italic\" lengthAdjust=\"spacingAndGlyphs\" textLength=\"97\" x=\"156.5\" y=\"103.1387\">«attribute  def»</text><text fill=\"#000000\" font-family=\"sans-serif\" font-size=\"12\" lengthAdjust=\"spacingAndGlyphs\" textLength=\"8\" x=\"201\" y=\"117.1074\">S</text><line style=\"stroke: #383838; stroke-width: 1.5;\" x1=\"156.5\" x2=\"253.5\" y1=\"124.9375\" y2=\"124.9375\"/></a><polygon fill=\"#F8F8F8\" points=\"428,194,440,206,428,218,416,206,428,194\" style=\"stroke: #383838; stroke-width: 1.5;\"/><!--MD5=[21dd76c19d33815960c0e92fef8f0eef]\n",
       "entity E5--><a href=\"psysml:dcf8e234-4de8-4cb8-a947-17c2138066f0\" target=\"_top\" title=\"psysml:dcf8e234-4de8-4cb8-a947-17c2138066f0\" xlink:actuate=\"onRequest\" xlink:href=\"psysml:dcf8e234-4de8-4cb8-a947-17c2138066f0\" xlink:show=\"new\" xlink:title=\"psysml:dcf8e234-4de8-4cb8-a947-17c2138066f0\" xlink:type=\"simple\"><polygon fill=\"#F8F8F8\" points=\"287,279,287,333.5938,427,333.5938,407,306.2969,427,279\" style=\"stroke: #000000; stroke-width: 1.5;\"/><text fill=\"#000000\" font-family=\"sans-serif\" font-size=\"14\" font-style=\"italic\" lengthAdjust=\"spacingAndGlyphs\" textLength=\"111\" x=\"294\" y=\"301.9951\">«accept action»</text><text fill=\"#000000\" font-family=\"sans-serif\" font-size=\"14\" lengthAdjust=\"spacingAndGlyphs\" textLength=\"9\" x=\"345\" y=\"319.292\">S</text></a><!--MD5=[24d87cdf3002d433f401b2a2aa9f9f65]\n",
       "entity E6--><a href=\"psysml:18c3d457-6bb3-4962-a480-0e1b2254a09a\" target=\"_top\" title=\"psysml:18c3d457-6bb3-4962-a480-0e1b2254a09a\" xlink:actuate=\"onRequest\" xlink:href=\"psysml:18c3d457-6bb3-4962-a480-0e1b2254a09a\" xlink:show=\"new\" xlink:title=\"psysml:18c3d457-6bb3-4962-a480-0e1b2254a09a\" xlink:type=\"simple\"><polygon fill=\"#F8F8F8\" points=\"287,411,287,465.5938,395,465.5938,415,438.2969,395,411\" style=\"stroke: #000000; stroke-width: 1.5;\"/><text fill=\"#000000\" font-family=\"sans-serif\" font-size=\"14\" font-style=\"italic\" lengthAdjust=\"spacingAndGlyphs\" textLength=\"99\" x=\"294\" y=\"433.9951\">«send action»</text><text fill=\"#000000\" font-family=\"sans-serif\" font-size=\"14\" lengthAdjust=\"spacingAndGlyphs\" textLength=\"65\" x=\"311\" y=\"451.292\">S() to  B()</text></a><polygon fill=\"#F8F8F8\" points=\"426,527,438,539,426,551,414,539,426,527\" style=\"stroke: #383838; stroke-width: 1.5;\"/><ellipse cx=\"428\" cy=\"110\" fill=\"#000000\" rx=\"10\" ry=\"10\" style=\"stroke: none; stroke-width: 1.0;\"/><ellipse cx=\"426\" cy=\"622\" fill=\"none\" rx=\"10\" ry=\"10\" style=\"stroke: #000000; stroke-width: 1.0;\"/><ellipse cx=\"426.5\" cy=\"622.5\" fill=\"#000000\" rx=\"6\" ry=\"6\" style=\"stroke: none; stroke-width: 1.0;\"/><g id=\"E1.E8\"><a href=\"psysml:530e5343-b7af-483f-85a0-93ec425d0302\" target=\"_top\" title=\"psysml:530e5343-b7af-483f-85a0-93ec425d0302\" xlink:actuate=\"onRequest\" xlink:href=\"psysml:530e5343-b7af-483f-85a0-93ec425d0302\" xlink:show=\"new\" xlink:title=\"psysml:530e5343-b7af-483f-85a0-93ec425d0302\" xlink:type=\"simple\"><rect fill=\"#FFFFFF\" height=\"42.9375\" id=\"E8\" style=\"stroke: #383838; stroke-width: 1.5;\" width=\"88\" x=\"32\" y=\"88.5\"/><rect fill=\"#F8F8F8\" height=\"37.9375\" style=\"stroke: #383838; stroke-width: 1.5;\" width=\"88\" x=\"32\" y=\"88.5\"/><text fill=\"#000000\" font-family=\"sans-serif\" font-size=\"12\" font-style=\"italic\" lengthAdjust=\"spacingAndGlyphs\" textLength=\"81\" x=\"35.5\" y=\"104.6387\">«action  def»</text><text fill=\"#000000\" font-family=\"sans-serif\" font-size=\"12\" lengthAdjust=\"spacingAndGlyphs\" textLength=\"8\" x=\"72\" y=\"118.6074\">B</text></a></g><!--MD5=[f47e10efcf9a6752d55dae986d790ed9]\n",
       "link *start*E3 to E4--><a href=\"psysml:8ec85343-59fa-499c-a77c-a2bbf8c30a9c\" target=\"_top\" title=\"psysml:8ec85343-59fa-499c-a77c-a2bbf8c30a9c\" xlink:actuate=\"onRequest\" xlink:href=\"psysml:8ec85343-59fa-499c-a77c-a2bbf8c30a9c\" xlink:show=\"new\" xlink:title=\"psysml:8ec85343-59fa-499c-a77c-a2bbf8c30a9c\" xlink:type=\"simple\"><path d=\"M428,120.01 C428,135.81 428,168.69 428,188.61 \" fill=\"none\" id=\"*start*E3-&gt;E4\" style=\"stroke: #383838; stroke-width: 1.0;\"/><polygon fill=\"#383838\" points=\"428,193.85,432,184.85,428,188.85,424,184.85,428,193.85\" style=\"stroke: #383838; stroke-width: 1.0;\"/></a><!--MD5=[d19f2eb34364d71b67042106d92f540b]\n",
       "link E7 to *end*E3--><a href=\"psysml:0d9f4e26-bf93-4aba-a8c6-6dafeae60007\" target=\"_top\" title=\"psysml:0d9f4e26-bf93-4aba-a8c6-6dafeae60007\" xlink:actuate=\"onRequest\" xlink:href=\"psysml:0d9f4e26-bf93-4aba-a8c6-6dafeae60007\" xlink:show=\"new\" xlink:title=\"psysml:0d9f4e26-bf93-4aba-a8c6-6dafeae60007\" xlink:type=\"simple\"><path d=\"M426,551.26 C426,565.66 426,590.63 426,606.46 \" fill=\"none\" id=\"E7-&gt;*end*E3\" style=\"stroke: #383838; stroke-width: 1.0;\"/><polygon fill=\"#383838\" points=\"426,611.84,430,602.84,426,606.84,422,602.84,426,611.84\" style=\"stroke: #383838; stroke-width: 1.0;\"/></a><!--MD5=[1b7591eae5389033d8d09a9d6721a717]\n",
       "link E4 to E5--><a href=\"psysml:0f743cc2-6e19-41e4-aad8-79cb567e3158\" target=\"_top\" title=\"psysml:0f743cc2-6e19-41e4-aad8-79cb567e3158\" xlink:actuate=\"onRequest\" xlink:href=\"psysml:0f743cc2-6e19-41e4-aad8-79cb567e3158\" xlink:show=\"new\" xlink:title=\"psysml:0f743cc2-6e19-41e4-aad8-79cb567e3158\" xlink:type=\"simple\"><path d=\"M423.34,213.46 C414.55,225.66 394.99,252.8 379.37,274.46 \" fill=\"none\" id=\"E4-&gt;E5\" style=\"stroke: #383838; stroke-width: 1.0;\"/><polygon fill=\"#383838\" points=\"376.31,278.71,384.8093,273.7339,379.227,274.6491,378.3119,269.0667,376.31,278.71\" style=\"stroke: #383838; stroke-width: 1.0;\"/><text fill=\"#000000\" font-family=\"sans-serif\" font-size=\"13\" lengthAdjust=\"spacingAndGlyphs\" textLength=\"7\" x=\"372.7684\" y=\"268.1162\">*</text></a><!--MD5=[9120cf2e5df3bff93db8f754bbbc09b4]\n",
       "link E5 to E6--><a href=\"psysml:3404b4e6-fa1c-4cf0-a87f-a7f8eafbc3bc\" target=\"_top\" title=\"psysml:3404b4e6-fa1c-4cf0-a87f-a7f8eafbc3bc\" xlink:actuate=\"onRequest\" xlink:href=\"psysml:3404b4e6-fa1c-4cf0-a87f-a7f8eafbc3bc\" xlink:show=\"new\" xlink:title=\"psysml:3404b4e6-fa1c-4cf0-a87f-a7f8eafbc3bc\" xlink:type=\"simple\"><path d=\"M355.77,334.12 C354.81,354.89 353.48,383.8 352.46,405.77 \" fill=\"none\" id=\"E5-&gt;E6\" style=\"stroke: #383838; stroke-width: 1.0;\"/><polygon fill=\"#383838\" points=\"352.23,410.91,356.6368,402.1021,352.4583,405.9152,348.6452,401.7367,352.23,410.91\" style=\"stroke: #383838; stroke-width: 1.0;\"/><text fill=\"#000000\" font-family=\"sans-serif\" font-size=\"13\" lengthAdjust=\"spacingAndGlyphs\" textLength=\"7\" x=\"344.7051\" y=\"399.9247\">*</text></a><!--MD5=[02c70b7c851c11e3980e4e90450dc5dd]\n",
       "link E6 to E7--><a href=\"psysml:a56f0975-9bdd-4db4-ac34-32a8d14536cf\" target=\"_top\" title=\"psysml:a56f0975-9bdd-4db4-ac34-32a8d14536cf\" xlink:actuate=\"onRequest\" xlink:href=\"psysml:a56f0975-9bdd-4db4-ac34-32a8d14536cf\" xlink:show=\"new\" xlink:title=\"psysml:a56f0975-9bdd-4db4-ac34-32a8d14536cf\" xlink:type=\"simple\"><path d=\"M371.3,466.16 C386.71,486.4 407.07,513.14 418.09,527.61 \" fill=\"none\" id=\"E6-&gt;E7\" style=\"stroke: #383838; stroke-width: 1.0;\"/><polygon fill=\"#383838\" points=\"421.2,531.69,418.9398,522.104,418.1749,527.7089,412.57,526.9441,421.2,531.69\" style=\"stroke: #383838; stroke-width: 1.0;\"/><text fill=\"#000000\" font-family=\"sans-serif\" font-size=\"13\" lengthAdjust=\"spacingAndGlyphs\" textLength=\"7\" x=\"406.9375\" y=\"515.8563\">*</text></a><!--MD5=[6bdd27f9905911a7e892a3dc65cf6b7c]\n",
       "link E7 to E4--><a href=\"psysml:2a79c4d0-9744-4107-95b5-d9c642bb083b\" target=\"_top\" title=\"psysml:2a79c4d0-9744-4107-95b5-d9c642bb083b\" xlink:actuate=\"onRequest\" xlink:href=\"psysml:2a79c4d0-9744-4107-95b5-d9c642bb083b\" xlink:show=\"new\" xlink:title=\"psysml:2a79c4d0-9744-4107-95b5-d9c642bb083b\" xlink:type=\"simple\"><path d=\"M427.98,528.56 C434.8,494.71 456.32,376.18 445,279 C442.59,258.32 436.42,234.96 432.21,220.61 \" fill=\"none\" id=\"E7-&gt;E4\" style=\"stroke: #383838; stroke-width: 1.0;\"/><polygon fill=\"#383838\" points=\"430.76,215.75,429.4935,225.5171,432.1863,220.5423,437.1611,223.2351,430.76,215.75\" style=\"stroke: #383838; stroke-width: 1.0;\"/><text fill=\"#000000\" font-family=\"sans-serif\" font-size=\"13\" lengthAdjust=\"spacingAndGlyphs\" textLength=\"36\" x=\"448\" y=\"377.0669\">[true]</text><text fill=\"#000000\" font-family=\"sans-serif\" font-size=\"13\" lengthAdjust=\"spacingAndGlyphs\" textLength=\"7\" x=\"423.3253\" y=\"237.9903\">*</text></a><!--MD5=[473f832779c2cb97658ee7c956177f4f]\n",
       "@startuml\r\n",
       "skinparam monochrome true\r\n",
       "skinparam classbackgroundcolor white\r\n",
       "skinparam shadowing false\r\n",
       "skinparam wrapWidth 300\r\n",
       "hide circle\r\n",
       "\r\n",
       "package \"ActionTest\" as E1  [[psysml:b606a038-0c45-436f-a3a1-beef47fa0e17 ]]  {\r\n",
       "comp def \"S\" as E2  <<(T,blue) attribute  def>> [[psysml:f9329402-d9ed-482b-aa71-2e931e2796d7 ]] {\r\n",
       "}\r\n",
       "rec usage \"a\" as E3  <<(T,blue) action>> [[psysml:69e16b91-de61-4fe2-8ebf-63b040d0687a ]] {\r\n",
       "choice \"m\" as E4  [[psysml:ba661374-e1ab-49de-aa21-c62362c65829 ]] \r\n",
       "accept \" S\" as E5 << accept action>> [[psysml:dcf8e234-4de8-4cb8-a947-17c2138066f0 ]] \r\n",
       "send \" S() to  B()\" as E6 << send action>> [[psysml:18c3d457-6bb3-4962-a480-0e1b2254a09a ]] \r\n",
       "choice \"<s>noname</s>\" as E7  [[psysml:1cf4a57b-2f41-48db-bb2e-4817b665eacc ]] \r\n",
       "[*] - -> E4 [[psysml:8ec85343-59fa-499c-a77c-a2bbf8c30a9c ]] \r\n",
       "E7  - -> [*] [[psysml:0d9f4e26-bf93-4aba-a8c6-6dafeae60007 ]] \r\n",
       "}\r\n",
       "\r\n",
       "rec def \"B\" as E8  <<(T,blue) action  def>> [[psysml:530e5343-b7af-483f-85a0-93ec425d0302 ]] {\r\n",
       "}\r\n",
       "\r\n",
       "}\r\n",
       "E4 - -> \"*\"E5 [[psysml:0f743cc2-6e19-41e4-aad8-79cb567e3158 ]] \r\n",
       "E5 - -> \"*\"E6 [[psysml:3404b4e6-fa1c-4cf0-a87f-a7f8eafbc3bc ]] \r\n",
       "E6 - -> \"*\"E7 [[psysml:a56f0975-9bdd-4db4-ac34-32a8d14536cf ]] \r\n",
       "E7  - -> \"*\"E4 [[psysml:2a79c4d0-9744-4107-95b5-d9c642bb083b ]] : [true]\r\n",
       "@enduml\r\n",
       "\n",
       "PlantUML version 1.2020.13(Sat Jun 13 12:26:38 UTC 2020)\n",
       "(EPL source distribution)\n",
       "Java Runtime: OpenJDK Runtime Environment\n",
       "JVM: OpenJDK 64-Bit Server VM\n",
       "Default Encoding: UTF-8\n",
       "Language: en\n",
       "Country: null\n",
       "--></g></svg>"
      ]
     },
     "execution_count": 43,
     "metadata": {},
     "output_type": "execute_result"
    }
   ],
   "source": [
    "%viz --style=\"DEFAULT\" --view=\"MIXED\" \"ActionTest\""
   ]
  },
  {
   "cell_type": "code",
   "execution_count": 44,
   "id": "76c9f90b",
   "metadata": {
    "execution": {
     "iopub.execute_input": "2021-10-25T08:21:25.248028Z",
     "iopub.status.busy": "2021-10-25T08:21:25.247603Z",
     "iopub.status.idle": "2021-10-25T08:21:25.295527Z",
     "shell.execute_reply": "2021-10-25T08:21:25.293652Z"
    }
   },
   "outputs": [
    {
     "data": {
      "image/svg+xml": [
       "<?xml version=\"1.0\" encoding=\"UTF-8\" standalone=\"no\"?><svg xmlns=\"http://www.w3.org/2000/svg\" xmlns:xlink=\"http://www.w3.org/1999/xlink\" contentScriptType=\"application/ecmascript\" contentStyleType=\"text/css\" height=\"684px\" preserveAspectRatio=\"none\" style=\"width:526px;height:684px;\" version=\"1.1\" viewBox=\"0 0 526 684\" width=\"526px\" zoomAndPan=\"magnify\"><defs/><g><!--MD5=[fbc87193dbaf4d95561dea2c320d4a47]\n",
       "cluster E1--><a href=\"psysml:b606a038-0c45-436f-a3a1-beef47fa0e17\" target=\"_top\" title=\"psysml:b606a038-0c45-436f-a3a1-beef47fa0e17\" xlink:actuate=\"onRequest\" xlink:href=\"psysml:b606a038-0c45-436f-a3a1-beef47fa0e17\" xlink:show=\"new\" xlink:title=\"psysml:b606a038-0c45-436f-a3a1-beef47fa0e17\" xlink:type=\"simple\"><polygon fill=\"#FFFFFF\" points=\"16,6,96,6,103,28.2969,504,28.2969,504,672,16,672,16,6\" style=\"stroke: #000000; stroke-width: 1.5;\"/><line style=\"stroke: #000000; stroke-width: 1.5;\" x1=\"16\" x2=\"103\" y1=\"28.2969\" y2=\"28.2969\"/><text fill=\"#000000\" font-family=\"sans-serif\" font-size=\"14\" font-weight=\"bold\" lengthAdjust=\"spacingAndGlyphs\" textLength=\"74\" x=\"20\" y=\"20.9951\">ActionTest</text></a><!--MD5=[d5e69f78d87373223dbae638b30a9c99]\n",
       "cluster E3--><a href=\"psysml:69e16b91-de61-4fe2-8ebf-63b040d0687a\" target=\"_top\" title=\"psysml:69e16b91-de61-4fe2-8ebf-63b040d0687a\" xlink:actuate=\"onRequest\" xlink:href=\"psysml:69e16b91-de61-4fe2-8ebf-63b040d0687a\" xlink:show=\"new\" xlink:title=\"psysml:69e16b91-de61-4fe2-8ebf-63b040d0687a\" xlink:type=\"simple\"><rect fill=\"#FFFFFF\" height=\"599\" id=\"E3\" rx=\"10\" ry=\"10\" style=\"stroke: #383838; stroke-width: 1.5;\" width=\"209\" x=\"271\" y=\"49\"/><rect fill=\"#F8F8F8\" height=\"37.9375\" rx=\"10\" ry=\"10\" style=\"stroke: #F8F8F8; stroke-width: 1.5;\" width=\"209\" x=\"271\" y=\"49\"/><rect fill=\"#F8F8F8\" height=\"10\" style=\"stroke: #F8F8F8; stroke-width: 1.5;\" width=\"209\" x=\"271\" y=\"76.9375\"/><rect fill=\"none\" height=\"599\" id=\"E3\" rx=\"10\" ry=\"10\" style=\"stroke: #383838; stroke-width: 1.5;\" width=\"209\" x=\"271\" y=\"49\"/><text fill=\"#000000\" font-family=\"sans-serif\" font-size=\"12\" font-style=\"italic\" lengthAdjust=\"spacingAndGlyphs\" textLength=\"53\" x=\"349\" y=\"65.1387\">«action»</text><text fill=\"#000000\" font-family=\"sans-serif\" font-size=\"12\" lengthAdjust=\"spacingAndGlyphs\" textLength=\"8\" x=\"371.5\" y=\"79.1074\">a</text><line style=\"stroke: #383838; stroke-width: 1.0;\" x1=\"271\" x2=\"480\" y1=\"86.9375\" y2=\"86.9375\"/></a><!--MD5=[b4997ac47864f28c2f74865a473b2911]\n",
       "class E2--><a href=\"psysml:f9329402-d9ed-482b-aa71-2e931e2796d7\" target=\"_top\" title=\"psysml:f9329402-d9ed-482b-aa71-2e931e2796d7\" xlink:actuate=\"onRequest\" xlink:href=\"psysml:f9329402-d9ed-482b-aa71-2e931e2796d7\" xlink:show=\"new\" xlink:title=\"psysml:f9329402-d9ed-482b-aa71-2e931e2796d7\" xlink:type=\"simple\"><rect fill=\"#FFFFFF\" height=\"45.9375\" id=\"E2\" style=\"stroke: #383838; stroke-width: 1.5;\" width=\"99\" x=\"155.5\" y=\"87\"/><text fill=\"#000000\" font-family=\"sans-serif\" font-size=\"12\" font-style=\"italic\" lengthAdjust=\"spacingAndGlyphs\" textLength=\"97\" x=\"156.5\" y=\"103.1387\">«attribute  def»</text><text fill=\"#000000\" font-family=\"sans-serif\" font-size=\"12\" lengthAdjust=\"spacingAndGlyphs\" textLength=\"8\" x=\"201\" y=\"117.1074\">S</text><line style=\"stroke: #383838; stroke-width: 1.5;\" x1=\"156.5\" x2=\"253.5\" y1=\"124.9375\" y2=\"124.9375\"/></a><polygon fill=\"#F8F8F8\" points=\"428,194,440,206,428,218,416,206,428,194\" style=\"stroke: #383838; stroke-width: 1.5;\"/><!--MD5=[21dd76c19d33815960c0e92fef8f0eef]\n",
       "entity E5--><a href=\"psysml:dcf8e234-4de8-4cb8-a947-17c2138066f0\" target=\"_top\" title=\"psysml:dcf8e234-4de8-4cb8-a947-17c2138066f0\" xlink:actuate=\"onRequest\" xlink:href=\"psysml:dcf8e234-4de8-4cb8-a947-17c2138066f0\" xlink:show=\"new\" xlink:title=\"psysml:dcf8e234-4de8-4cb8-a947-17c2138066f0\" xlink:type=\"simple\"><polygon fill=\"#F8F8F8\" points=\"287,279,287,333.5938,427,333.5938,407,306.2969,427,279\" style=\"stroke: #000000; stroke-width: 1.5;\"/><text fill=\"#000000\" font-family=\"sans-serif\" font-size=\"14\" font-style=\"italic\" lengthAdjust=\"spacingAndGlyphs\" textLength=\"111\" x=\"294\" y=\"301.9951\">«accept action»</text><text fill=\"#000000\" font-family=\"sans-serif\" font-size=\"14\" lengthAdjust=\"spacingAndGlyphs\" textLength=\"9\" x=\"345\" y=\"319.292\">S</text></a><!--MD5=[24d87cdf3002d433f401b2a2aa9f9f65]\n",
       "entity E6--><a href=\"psysml:18c3d457-6bb3-4962-a480-0e1b2254a09a\" target=\"_top\" title=\"psysml:18c3d457-6bb3-4962-a480-0e1b2254a09a\" xlink:actuate=\"onRequest\" xlink:href=\"psysml:18c3d457-6bb3-4962-a480-0e1b2254a09a\" xlink:show=\"new\" xlink:title=\"psysml:18c3d457-6bb3-4962-a480-0e1b2254a09a\" xlink:type=\"simple\"><polygon fill=\"#F8F8F8\" points=\"287,411,287,465.5938,395,465.5938,415,438.2969,395,411\" style=\"stroke: #000000; stroke-width: 1.5;\"/><text fill=\"#000000\" font-family=\"sans-serif\" font-size=\"14\" font-style=\"italic\" lengthAdjust=\"spacingAndGlyphs\" textLength=\"99\" x=\"294\" y=\"433.9951\">«send action»</text><text fill=\"#000000\" font-family=\"sans-serif\" font-size=\"14\" lengthAdjust=\"spacingAndGlyphs\" textLength=\"65\" x=\"311\" y=\"451.292\">S() to  B()</text></a><polygon fill=\"#F8F8F8\" points=\"426,527,438,539,426,551,414,539,426,527\" style=\"stroke: #383838; stroke-width: 1.5;\"/><ellipse cx=\"428\" cy=\"110\" fill=\"#000000\" rx=\"10\" ry=\"10\" style=\"stroke: none; stroke-width: 1.0;\"/><ellipse cx=\"426\" cy=\"622\" fill=\"none\" rx=\"10\" ry=\"10\" style=\"stroke: #000000; stroke-width: 1.0;\"/><ellipse cx=\"426.5\" cy=\"622.5\" fill=\"#000000\" rx=\"6\" ry=\"6\" style=\"stroke: none; stroke-width: 1.0;\"/><g id=\"E1.E8\"><a href=\"psysml:530e5343-b7af-483f-85a0-93ec425d0302\" target=\"_top\" title=\"psysml:530e5343-b7af-483f-85a0-93ec425d0302\" xlink:actuate=\"onRequest\" xlink:href=\"psysml:530e5343-b7af-483f-85a0-93ec425d0302\" xlink:show=\"new\" xlink:title=\"psysml:530e5343-b7af-483f-85a0-93ec425d0302\" xlink:type=\"simple\"><rect fill=\"#FFFFFF\" height=\"42.9375\" id=\"E8\" style=\"stroke: #383838; stroke-width: 1.5;\" width=\"88\" x=\"32\" y=\"88.5\"/><rect fill=\"#F8F8F8\" height=\"37.9375\" style=\"stroke: #383838; stroke-width: 1.5;\" width=\"88\" x=\"32\" y=\"88.5\"/><text fill=\"#000000\" font-family=\"sans-serif\" font-size=\"12\" font-style=\"italic\" lengthAdjust=\"spacingAndGlyphs\" textLength=\"81\" x=\"35.5\" y=\"104.6387\">«action  def»</text><text fill=\"#000000\" font-family=\"sans-serif\" font-size=\"12\" lengthAdjust=\"spacingAndGlyphs\" textLength=\"8\" x=\"72\" y=\"118.6074\">B</text></a></g><!--MD5=[f47e10efcf9a6752d55dae986d790ed9]\n",
       "link *start*E3 to E4--><a href=\"psysml:8ec85343-59fa-499c-a77c-a2bbf8c30a9c\" target=\"_top\" title=\"psysml:8ec85343-59fa-499c-a77c-a2bbf8c30a9c\" xlink:actuate=\"onRequest\" xlink:href=\"psysml:8ec85343-59fa-499c-a77c-a2bbf8c30a9c\" xlink:show=\"new\" xlink:title=\"psysml:8ec85343-59fa-499c-a77c-a2bbf8c30a9c\" xlink:type=\"simple\"><path d=\"M428,120.01 C428,135.81 428,168.69 428,188.61 \" fill=\"none\" id=\"*start*E3-&gt;E4\" style=\"stroke: #383838; stroke-width: 1.0;\"/><polygon fill=\"#383838\" points=\"428,193.85,432,184.85,428,188.85,424,184.85,428,193.85\" style=\"stroke: #383838; stroke-width: 1.0;\"/></a><!--MD5=[d19f2eb34364d71b67042106d92f540b]\n",
       "link E7 to *end*E3--><a href=\"psysml:0d9f4e26-bf93-4aba-a8c6-6dafeae60007\" target=\"_top\" title=\"psysml:0d9f4e26-bf93-4aba-a8c6-6dafeae60007\" xlink:actuate=\"onRequest\" xlink:href=\"psysml:0d9f4e26-bf93-4aba-a8c6-6dafeae60007\" xlink:show=\"new\" xlink:title=\"psysml:0d9f4e26-bf93-4aba-a8c6-6dafeae60007\" xlink:type=\"simple\"><path d=\"M426,551.26 C426,565.66 426,590.63 426,606.46 \" fill=\"none\" id=\"E7-&gt;*end*E3\" style=\"stroke: #383838; stroke-width: 1.0;\"/><polygon fill=\"#383838\" points=\"426,611.84,430,602.84,426,606.84,422,602.84,426,611.84\" style=\"stroke: #383838; stroke-width: 1.0;\"/></a><!--MD5=[1b7591eae5389033d8d09a9d6721a717]\n",
       "link E4 to E5--><a href=\"psysml:0f743cc2-6e19-41e4-aad8-79cb567e3158\" target=\"_top\" title=\"psysml:0f743cc2-6e19-41e4-aad8-79cb567e3158\" xlink:actuate=\"onRequest\" xlink:href=\"psysml:0f743cc2-6e19-41e4-aad8-79cb567e3158\" xlink:show=\"new\" xlink:title=\"psysml:0f743cc2-6e19-41e4-aad8-79cb567e3158\" xlink:type=\"simple\"><path d=\"M423.34,213.46 C414.55,225.66 394.99,252.8 379.37,274.46 \" fill=\"none\" id=\"E4-&gt;E5\" style=\"stroke: #383838; stroke-width: 1.0;\"/><polygon fill=\"#383838\" points=\"376.31,278.71,384.8093,273.7339,379.227,274.6491,378.3119,269.0667,376.31,278.71\" style=\"stroke: #383838; stroke-width: 1.0;\"/><text fill=\"#000000\" font-family=\"sans-serif\" font-size=\"13\" lengthAdjust=\"spacingAndGlyphs\" textLength=\"7\" x=\"372.7684\" y=\"268.1162\">*</text></a><!--MD5=[9120cf2e5df3bff93db8f754bbbc09b4]\n",
       "link E5 to E6--><a href=\"psysml:3404b4e6-fa1c-4cf0-a87f-a7f8eafbc3bc\" target=\"_top\" title=\"psysml:3404b4e6-fa1c-4cf0-a87f-a7f8eafbc3bc\" xlink:actuate=\"onRequest\" xlink:href=\"psysml:3404b4e6-fa1c-4cf0-a87f-a7f8eafbc3bc\" xlink:show=\"new\" xlink:title=\"psysml:3404b4e6-fa1c-4cf0-a87f-a7f8eafbc3bc\" xlink:type=\"simple\"><path d=\"M355.77,334.12 C354.81,354.89 353.48,383.8 352.46,405.77 \" fill=\"none\" id=\"E5-&gt;E6\" style=\"stroke: #383838; stroke-width: 1.0;\"/><polygon fill=\"#383838\" points=\"352.23,410.91,356.6368,402.1021,352.4583,405.9152,348.6452,401.7367,352.23,410.91\" style=\"stroke: #383838; stroke-width: 1.0;\"/><text fill=\"#000000\" font-family=\"sans-serif\" font-size=\"13\" lengthAdjust=\"spacingAndGlyphs\" textLength=\"7\" x=\"344.7051\" y=\"399.9247\">*</text></a><!--MD5=[02c70b7c851c11e3980e4e90450dc5dd]\n",
       "link E6 to E7--><a href=\"psysml:a56f0975-9bdd-4db4-ac34-32a8d14536cf\" target=\"_top\" title=\"psysml:a56f0975-9bdd-4db4-ac34-32a8d14536cf\" xlink:actuate=\"onRequest\" xlink:href=\"psysml:a56f0975-9bdd-4db4-ac34-32a8d14536cf\" xlink:show=\"new\" xlink:title=\"psysml:a56f0975-9bdd-4db4-ac34-32a8d14536cf\" xlink:type=\"simple\"><path d=\"M371.3,466.16 C386.71,486.4 407.07,513.14 418.09,527.61 \" fill=\"none\" id=\"E6-&gt;E7\" style=\"stroke: #383838; stroke-width: 1.0;\"/><polygon fill=\"#383838\" points=\"421.2,531.69,418.9398,522.104,418.1749,527.7089,412.57,526.9441,421.2,531.69\" style=\"stroke: #383838; stroke-width: 1.0;\"/><text fill=\"#000000\" font-family=\"sans-serif\" font-size=\"13\" lengthAdjust=\"spacingAndGlyphs\" textLength=\"7\" x=\"406.9375\" y=\"515.8563\">*</text></a><!--MD5=[6bdd27f9905911a7e892a3dc65cf6b7c]\n",
       "link E7 to E4--><a href=\"psysml:2a79c4d0-9744-4107-95b5-d9c642bb083b\" target=\"_top\" title=\"psysml:2a79c4d0-9744-4107-95b5-d9c642bb083b\" xlink:actuate=\"onRequest\" xlink:href=\"psysml:2a79c4d0-9744-4107-95b5-d9c642bb083b\" xlink:show=\"new\" xlink:title=\"psysml:2a79c4d0-9744-4107-95b5-d9c642bb083b\" xlink:type=\"simple\"><path d=\"M427.98,528.56 C434.8,494.71 456.32,376.18 445,279 C442.59,258.32 436.42,234.96 432.21,220.61 \" fill=\"none\" id=\"E7-&gt;E4\" style=\"stroke: #383838; stroke-width: 1.0;\"/><polygon fill=\"#383838\" points=\"430.76,215.75,429.4935,225.5171,432.1863,220.5423,437.1611,223.2351,430.76,215.75\" style=\"stroke: #383838; stroke-width: 1.0;\"/><text fill=\"#000000\" font-family=\"sans-serif\" font-size=\"13\" lengthAdjust=\"spacingAndGlyphs\" textLength=\"36\" x=\"448\" y=\"377.0669\">[true]</text><text fill=\"#000000\" font-family=\"sans-serif\" font-size=\"13\" lengthAdjust=\"spacingAndGlyphs\" textLength=\"7\" x=\"423.3253\" y=\"237.9903\">*</text></a><!--MD5=[6fbd87bdc2ae8cfc8354ab6db59e0a2f]\n",
       "@startuml\r\n",
       "top to bottom direction\r\n",
       "skinparam monochrome true\r\n",
       "skinparam classbackgroundcolor white\r\n",
       "skinparam shadowing false\r\n",
       "skinparam wrapWidth 300\r\n",
       "hide circle\r\n",
       "\r\n",
       "package \"ActionTest\" as E1  [[psysml:b606a038-0c45-436f-a3a1-beef47fa0e17 ]]  {\r\n",
       "comp def \"S\" as E2  <<(T,blue) attribute  def>> [[psysml:f9329402-d9ed-482b-aa71-2e931e2796d7 ]] {\r\n",
       "}\r\n",
       "rec usage \"a\" as E3  <<(T,blue) action>> [[psysml:69e16b91-de61-4fe2-8ebf-63b040d0687a ]] {\r\n",
       "choice \"m\" as E4  [[psysml:ba661374-e1ab-49de-aa21-c62362c65829 ]] \r\n",
       "accept \" S\" as E5 << accept action>> [[psysml:dcf8e234-4de8-4cb8-a947-17c2138066f0 ]] \r\n",
       "send \" S() to  B()\" as E6 << send action>> [[psysml:18c3d457-6bb3-4962-a480-0e1b2254a09a ]] \r\n",
       "choice \"<s>noname</s>\" as E7  [[psysml:1cf4a57b-2f41-48db-bb2e-4817b665eacc ]] \r\n",
       "[*] - -> E4 [[psysml:8ec85343-59fa-499c-a77c-a2bbf8c30a9c ]] \r\n",
       "E7  - -> [*] [[psysml:0d9f4e26-bf93-4aba-a8c6-6dafeae60007 ]] \r\n",
       "}\r\n",
       "\r\n",
       "rec def \"B\" as E8  <<(T,blue) action  def>> [[psysml:530e5343-b7af-483f-85a0-93ec425d0302 ]] {\r\n",
       "}\r\n",
       "\r\n",
       "}\r\n",
       "E4 - -> \"*\"E5 [[psysml:0f743cc2-6e19-41e4-aad8-79cb567e3158 ]] \r\n",
       "E5 - -> \"*\"E6 [[psysml:3404b4e6-fa1c-4cf0-a87f-a7f8eafbc3bc ]] \r\n",
       "E6 - -> \"*\"E7 [[psysml:a56f0975-9bdd-4db4-ac34-32a8d14536cf ]] \r\n",
       "E7  - -> \"*\"E4 [[psysml:2a79c4d0-9744-4107-95b5-d9c642bb083b ]] : [true]\r\n",
       "@enduml\r\n",
       "\n",
       "PlantUML version 1.2020.13(Sat Jun 13 12:26:38 UTC 2020)\n",
       "(EPL source distribution)\n",
       "Java Runtime: OpenJDK Runtime Environment\n",
       "JVM: OpenJDK 64-Bit Server VM\n",
       "Default Encoding: UTF-8\n",
       "Language: en\n",
       "Country: null\n",
       "--></g></svg>"
      ]
     },
     "execution_count": 44,
     "metadata": {},
     "output_type": "execute_result"
    }
   ],
   "source": [
    "%viz --style=\"TB\" --view=\"Default\" \"ActionTest\""
   ]
  },
  {
   "cell_type": "code",
   "execution_count": 45,
   "id": "f629ce54",
   "metadata": {
    "execution": {
     "iopub.execute_input": "2021-10-25T08:21:25.344349Z",
     "iopub.status.busy": "2021-10-25T08:21:25.343936Z",
     "iopub.status.idle": "2021-10-25T08:21:25.475554Z",
     "shell.execute_reply": "2021-10-25T08:21:25.473379Z"
    }
   },
   "outputs": [
    {
     "data": {
      "image/svg+xml": [
       "<?xml version=\"1.0\" encoding=\"UTF-8\" standalone=\"no\"?><svg xmlns=\"http://www.w3.org/2000/svg\" xmlns:xlink=\"http://www.w3.org/1999/xlink\" contentScriptType=\"application/ecmascript\" contentStyleType=\"text/css\" height=\"479px\" preserveAspectRatio=\"none\" style=\"width:698px;height:479px;\" version=\"1.1\" viewBox=\"0 0 698 479\" width=\"698px\" zoomAndPan=\"magnify\"><defs/><g><!--MD5=[fbc87193dbaf4d95561dea2c320d4a47]\n",
       "cluster E1--><a href=\"psysml:b606a038-0c45-436f-a3a1-beef47fa0e17\" target=\"_top\" title=\"psysml:b606a038-0c45-436f-a3a1-beef47fa0e17\" xlink:actuate=\"onRequest\" xlink:href=\"psysml:b606a038-0c45-436f-a3a1-beef47fa0e17\" xlink:show=\"new\" xlink:title=\"psysml:b606a038-0c45-436f-a3a1-beef47fa0e17\" xlink:type=\"simple\"><polygon fill=\"#FFFFFF\" points=\"16,6,96,6,103,28.2969,676,28.2969,676,467,16,467,16,6\" style=\"stroke: #000000; stroke-width: 1.5;\"/><line style=\"stroke: #000000; stroke-width: 1.5;\" x1=\"16\" x2=\"103\" y1=\"28.2969\" y2=\"28.2969\"/><text fill=\"#000000\" font-family=\"sans-serif\" font-size=\"14\" font-weight=\"bold\" lengthAdjust=\"spacingAndGlyphs\" textLength=\"74\" x=\"20\" y=\"20.9951\">ActionTest</text></a><!--MD5=[b4997ac47864f28c2f74865a473b2911]\n",
       "class E2--><a href=\"psysml:f9329402-d9ed-482b-aa71-2e931e2796d7\" target=\"_top\" title=\"psysml:f9329402-d9ed-482b-aa71-2e931e2796d7\" xlink:actuate=\"onRequest\" xlink:href=\"psysml:f9329402-d9ed-482b-aa71-2e931e2796d7\" xlink:show=\"new\" xlink:title=\"psysml:f9329402-d9ed-482b-aa71-2e931e2796d7\" xlink:type=\"simple\"><rect fill=\"#FFFFFF\" height=\"45.9375\" id=\"E2\" style=\"stroke: #383838; stroke-width: 1.5;\" width=\"99\" x=\"283.5\" y=\"405\"/><text fill=\"#000000\" font-family=\"sans-serif\" font-size=\"12\" font-style=\"italic\" lengthAdjust=\"spacingAndGlyphs\" textLength=\"97\" x=\"284.5\" y=\"421.1387\">«attribute  def»</text><text fill=\"#000000\" font-family=\"sans-serif\" font-size=\"12\" lengthAdjust=\"spacingAndGlyphs\" textLength=\"8\" x=\"329\" y=\"435.1074\">S</text><line style=\"stroke: #383838; stroke-width: 1.5;\" x1=\"284.5\" x2=\"381.5\" y1=\"442.9375\" y2=\"442.9375\"/></a><!--MD5=[09b614a08d8cba4a07c9adeb5e0fee81]\n",
       "class E3--><a href=\"psysml:69e16b91-de61-4fe2-8ebf-63b040d0687a\" target=\"_top\" title=\"psysml:69e16b91-de61-4fe2-8ebf-63b040d0687a\" xlink:actuate=\"onRequest\" xlink:href=\"psysml:69e16b91-de61-4fe2-8ebf-63b040d0687a\" xlink:show=\"new\" xlink:title=\"psysml:69e16b91-de61-4fe2-8ebf-63b040d0687a\" xlink:type=\"simple\"><rect fill=\"#FFFFFF\" height=\"156.375\" id=\"E3\" rx=\"10\" ry=\"10\" style=\"stroke: #383838; stroke-width: 1.5;\" width=\"79\" x=\"293.5\" y=\"41\"/><text fill=\"#000000\" font-family=\"sans-serif\" font-size=\"12\" font-style=\"italic\" lengthAdjust=\"spacingAndGlyphs\" textLength=\"53\" x=\"306.5\" y=\"57.1387\">«action»</text><text fill=\"#000000\" font-family=\"sans-serif\" font-size=\"12\" lengthAdjust=\"spacingAndGlyphs\" textLength=\"8\" x=\"329\" y=\"71.1074\">a</text><line style=\"stroke: #383838; stroke-width: 1.5;\" x1=\"294.5\" x2=\"371.5\" y1=\"78.9375\" y2=\"78.9375\"/><text fill=\"#000000\" font-family=\"sans-serif\" font-size=\"11\" lengthAdjust=\"spacingAndGlyphs\" textLength=\"11\" x=\"299.5\" y=\"109.9526\">to</text><text fill=\"#000000\" font-family=\"sans-serif\" font-size=\"11\" lengthAdjust=\"spacingAndGlyphs\" textLength=\"11\" x=\"299.5\" y=\"122.7573\">to</text><text fill=\"#000000\" font-family=\"sans-serif\" font-size=\"11\" lengthAdjust=\"spacingAndGlyphs\" textLength=\"11\" x=\"299.5\" y=\"135.562\">to</text><text fill=\"#000000\" font-family=\"sans-serif\" font-size=\"11\" lengthAdjust=\"spacingAndGlyphs\" textLength=\"11\" x=\"299.5\" y=\"148.3667\">to</text><line style=\"stroke: #383838; stroke-width: 1.0;\" x1=\"294.5\" x2=\"297.5\" y1=\"93.3398\" y2=\"93.3398\"/><text fill=\"#000000\" font-family=\"sans-serif\" font-size=\"11\" lengthAdjust=\"spacingAndGlyphs\" textLength=\"71\" x=\"297.5\" y=\"96.6479\">successions</text><line style=\"stroke: #383838; stroke-width: 1.0;\" x1=\"368.5\" x2=\"371.5\" y1=\"93.3398\" y2=\"93.3398\"/><text fill=\"#000000\" font-family=\"sans-serif\" font-size=\"11\" lengthAdjust=\"spacingAndGlyphs\" textLength=\"0\" x=\"303.5\" y=\"177.9761\"/><text fill=\"#000000\" font-family=\"sans-serif\" font-size=\"11\" lengthAdjust=\"spacingAndGlyphs\" textLength=\"0\" x=\"303.5\" y=\"190.7808\"/><line style=\"stroke: #383838; stroke-width: 1.0;\" x1=\"294.5\" x2=\"302.5\" y1=\"161.3633\" y2=\"161.3633\"/><text fill=\"#000000\" font-family=\"sans-serif\" font-size=\"11\" lengthAdjust=\"spacingAndGlyphs\" textLength=\"61\" x=\"302.5\" y=\"164.6714\">transitions</text><line style=\"stroke: #383838; stroke-width: 1.0;\" x1=\"363.5\" x2=\"371.5\" y1=\"161.3633\" y2=\"161.3633\"/></a><!--MD5=[ebbe1d658d1005bcc118a6aa81145e00]\n",
       "class E4--><a href=\"psysml:d8f546a6-9527-45eb-b0f0-0c3fcbb6d2a9\" target=\"_top\" title=\"psysml:d8f546a6-9527-45eb-b0f0-0c3fcbb6d2a9\" xlink:actuate=\"onRequest\" xlink:href=\"psysml:d8f546a6-9527-45eb-b0f0-0c3fcbb6d2a9\" xlink:show=\"new\" xlink:title=\"psysml:d8f546a6-9527-45eb-b0f0-0c3fcbb6d2a9\" xlink:type=\"simple\"><rect fill=\"#FFFFFF\" height=\"45.9375\" id=\"E4\" rx=\"10\" ry=\"10\" style=\"stroke: #383838; stroke-width: 1.5;\" width=\"87\" x=\"32.5\" y=\"278\"/><text fill=\"#000000\" font-family=\"sans-serif\" font-size=\"12\" font-style=\"italic\" lengthAdjust=\"spacingAndGlyphs\" textLength=\"53\" x=\"49.5\" y=\"294.1387\">«action»</text><text fill=\"#000000\" font-family=\"sans-serif\" font-size=\"12\" lengthAdjust=\"spacingAndGlyphs\" textLength=\"77\" x=\"35.5\" y=\"308.1074\">start: Action</text><line style=\"stroke: #383838; stroke-width: 1.5;\" x1=\"33.5\" x2=\"118.5\" y1=\"315.9375\" y2=\"315.9375\"/></a><!--MD5=[270fce915f116d4de14055a7c1d9a0f3]\n",
       "class E5--><a href=\"psysml:ba661374-e1ab-49de-aa21-c62362c65829\" target=\"_top\" title=\"psysml:ba661374-e1ab-49de-aa21-c62362c65829\" xlink:actuate=\"onRequest\" xlink:href=\"psysml:ba661374-e1ab-49de-aa21-c62362c65829\" xlink:show=\"new\" xlink:title=\"psysml:ba661374-e1ab-49de-aa21-c62362c65829\" xlink:type=\"simple\"><rect fill=\"#FFFFFF\" height=\"45.9375\" id=\"E5\" rx=\"10\" ry=\"10\" style=\"stroke: #383838; stroke-width: 1.5;\" width=\"92\" x=\"155\" y=\"278\"/><text fill=\"#000000\" font-family=\"sans-serif\" font-size=\"12\" font-style=\"italic\" lengthAdjust=\"spacingAndGlyphs\" textLength=\"90\" x=\"156\" y=\"294.1387\">«merge node»</text><text fill=\"#000000\" font-family=\"sans-serif\" font-size=\"12\" lengthAdjust=\"spacingAndGlyphs\" textLength=\"11\" x=\"195.5\" y=\"308.1074\">m</text><line style=\"stroke: #383838; stroke-width: 1.5;\" x1=\"156\" x2=\"246\" y1=\"315.9375\" y2=\"315.9375\"/></a><!--MD5=[60a26617385b1d2d0262a64233df1f8d]\n",
       "class E6--><a href=\"psysml:dcf8e234-4de8-4cb8-a947-17c2138066f0\" target=\"_top\" title=\"psysml:dcf8e234-4de8-4cb8-a947-17c2138066f0\" xlink:actuate=\"onRequest\" xlink:href=\"psysml:dcf8e234-4de8-4cb8-a947-17c2138066f0\" xlink:show=\"new\" xlink:title=\"psysml:dcf8e234-4de8-4cb8-a947-17c2138066f0\" xlink:type=\"simple\"><rect fill=\"#FFFFFF\" height=\"88.3516\" id=\"E6\" rx=\"10\" ry=\"10\" style=\"stroke: #383838; stroke-width: 1.5;\" width=\"102\" x=\"282\" y=\"257\"/><text fill=\"#000000\" font-family=\"sans-serif\" font-size=\"12\" font-style=\"italic\" lengthAdjust=\"spacingAndGlyphs\" textLength=\"100\" x=\"283\" y=\"273.1387\">«accept action»</text><text fill=\"#000000\" font-family=\"sans-serif\" font-size=\"12\" lengthAdjust=\"spacingAndGlyphs\" text-decoration=\"line-through\" textLength=\"51\" x=\"307.5\" y=\"287.1074\">noname</text><line style=\"stroke: #383838; stroke-width: 1.5;\" x1=\"283\" x2=\"383\" y1=\"294.9375\" y2=\"294.9375\"/><text fill=\"#000000\" font-family=\"sans-serif\" font-size=\"11\" font-weight=\"bold\" lengthAdjust=\"spacingAndGlyphs\" textLength=\"10\" x=\"288\" y=\"325.9526\">in</text><text fill=\"#000000\" font-family=\"sans-serif\" font-size=\"11\" lengthAdjust=\"spacingAndGlyphs\" textLength=\"60\" x=\"302\" y=\"325.9526\">payload: S</text><text fill=\"#000000\" font-family=\"sans-serif\" font-size=\"11\" font-weight=\"bold\" lengthAdjust=\"spacingAndGlyphs\" textLength=\"10\" x=\"288\" y=\"338.7573\">in</text><text fill=\"#000000\" font-family=\"sans-serif\" font-size=\"11\" lengthAdjust=\"spacingAndGlyphs\" textLength=\"46\" x=\"302\" y=\"338.7573\">receiver</text><line style=\"stroke: #383838; stroke-width: 1.0;\" x1=\"283\" x2=\"299.5\" y1=\"309.3398\" y2=\"309.3398\"/><text fill=\"#000000\" font-family=\"sans-serif\" font-size=\"11\" lengthAdjust=\"spacingAndGlyphs\" textLength=\"67\" x=\"299.5\" y=\"312.6479\">parameters</text><line style=\"stroke: #383838; stroke-width: 1.0;\" x1=\"366.5\" x2=\"383\" y1=\"309.3398\" y2=\"309.3398\"/></a><!--MD5=[2156ba9850f5573cc1fc38a6a4b2f02b]\n",
       "class E7--><a href=\"psysml:18c3d457-6bb3-4962-a480-0e1b2254a09a\" target=\"_top\" title=\"psysml:18c3d457-6bb3-4962-a480-0e1b2254a09a\" xlink:actuate=\"onRequest\" xlink:href=\"psysml:18c3d457-6bb3-4962-a480-0e1b2254a09a\" xlink:show=\"new\" xlink:title=\"psysml:18c3d457-6bb3-4962-a480-0e1b2254a09a\" xlink:type=\"simple\"><rect fill=\"#FFFFFF\" height=\"88.3516\" id=\"E7\" rx=\"10\" ry=\"10\" style=\"stroke: #383838; stroke-width: 1.5;\" width=\"101\" x=\"419.5\" y=\"257\"/><text fill=\"#000000\" font-family=\"sans-serif\" font-size=\"12\" font-style=\"italic\" lengthAdjust=\"spacingAndGlyphs\" textLength=\"88\" x=\"426\" y=\"273.1387\">«send action»</text><text fill=\"#000000\" font-family=\"sans-serif\" font-size=\"12\" lengthAdjust=\"spacingAndGlyphs\" text-decoration=\"line-through\" textLength=\"51\" x=\"444.5\" y=\"287.1074\">noname</text><line style=\"stroke: #383838; stroke-width: 1.5;\" x1=\"420.5\" x2=\"519.5\" y1=\"294.9375\" y2=\"294.9375\"/><text fill=\"#000000\" font-family=\"sans-serif\" font-size=\"11\" font-weight=\"bold\" lengthAdjust=\"spacingAndGlyphs\" textLength=\"10\" x=\"425.5\" y=\"325.9526\">in</text><text fill=\"#000000\" font-family=\"sans-serif\" font-size=\"11\" lengthAdjust=\"spacingAndGlyphs\" textLength=\"73\" x=\"439.5\" y=\"325.9526\">payload=S();</text><text fill=\"#000000\" font-family=\"sans-serif\" font-size=\"11\" font-weight=\"bold\" lengthAdjust=\"spacingAndGlyphs\" textLength=\"10\" x=\"425.5\" y=\"338.7573\">in</text><text fill=\"#000000\" font-family=\"sans-serif\" font-size=\"11\" lengthAdjust=\"spacingAndGlyphs\" textLength=\"75\" x=\"439.5\" y=\"338.7573\">receiver=B();</text><line style=\"stroke: #383838; stroke-width: 1.0;\" x1=\"420.5\" x2=\"436.5\" y1=\"309.3398\" y2=\"309.3398\"/><text fill=\"#000000\" font-family=\"sans-serif\" font-size=\"11\" lengthAdjust=\"spacingAndGlyphs\" textLength=\"67\" x=\"436.5\" y=\"312.6479\">parameters</text><line style=\"stroke: #383838; stroke-width: 1.0;\" x1=\"503.5\" x2=\"519.5\" y1=\"309.3398\" y2=\"309.3398\"/></a><!--MD5=[b9389687b975829384b498ac4b7476b2]\n",
       "class E8--><a href=\"psysml:1cf4a57b-2f41-48db-bb2e-4817b665eacc\" target=\"_top\" title=\"psysml:1cf4a57b-2f41-48db-bb2e-4817b665eacc\" xlink:actuate=\"onRequest\" xlink:href=\"psysml:1cf4a57b-2f41-48db-bb2e-4817b665eacc\" xlink:show=\"new\" xlink:title=\"psysml:1cf4a57b-2f41-48db-bb2e-4817b665eacc\" xlink:type=\"simple\"><rect fill=\"#FFFFFF\" height=\"45.9375\" id=\"E8\" rx=\"10\" ry=\"10\" style=\"stroke: #383838; stroke-width: 1.5;\" width=\"104\" x=\"556\" y=\"278\"/><text fill=\"#000000\" font-family=\"sans-serif\" font-size=\"12\" font-style=\"italic\" lengthAdjust=\"spacingAndGlyphs\" textLength=\"102\" x=\"557\" y=\"294.1387\">«decision node»</text><text fill=\"#000000\" font-family=\"sans-serif\" font-size=\"12\" lengthAdjust=\"spacingAndGlyphs\" text-decoration=\"line-through\" textLength=\"51\" x=\"582.5\" y=\"308.1074\">noname</text><line style=\"stroke: #383838; stroke-width: 1.5;\" x1=\"557\" x2=\"659\" y1=\"315.9375\" y2=\"315.9375\"/></a><!--MD5=[fd4143e9d270a159db93a4ea2a975926]\n",
       "class E9--><a href=\"psysml:530e5343-b7af-483f-85a0-93ec425d0302\" target=\"_top\" title=\"psysml:530e5343-b7af-483f-85a0-93ec425d0302\" xlink:actuate=\"onRequest\" xlink:href=\"psysml:530e5343-b7af-483f-85a0-93ec425d0302\" xlink:show=\"new\" xlink:title=\"psysml:530e5343-b7af-483f-85a0-93ec425d0302\" xlink:type=\"simple\"><rect fill=\"#FFFFFF\" height=\"45.9375\" id=\"E9\" style=\"stroke: #383838; stroke-width: 1.5;\" width=\"83\" x=\"104.5\" y=\"96\"/><text fill=\"#000000\" font-family=\"sans-serif\" font-size=\"12\" font-style=\"italic\" lengthAdjust=\"spacingAndGlyphs\" textLength=\"81\" x=\"105.5\" y=\"112.1387\">«action  def»</text><text fill=\"#000000\" font-family=\"sans-serif\" font-size=\"12\" lengthAdjust=\"spacingAndGlyphs\" textLength=\"8\" x=\"142\" y=\"126.1074\">B</text><line style=\"stroke: #383838; stroke-width: 1.5;\" x1=\"105.5\" x2=\"186.5\" y1=\"133.9375\" y2=\"133.9375\"/></a><!--MD5=[4672eba38e49728da53d11aeb285b987]\n",
       "reverse link E3 to E4--><a href=\"psysml:4e23b20a-a36f-46ec-8d5d-d94d3421b796\" target=\"_top\" title=\"psysml:4e23b20a-a36f-46ec-8d5d-d94d3421b796\" xlink:actuate=\"onRequest\" xlink:href=\"psysml:4e23b20a-a36f-46ec-8d5d-d94d3421b796\" xlink:show=\"new\" xlink:title=\"psysml:4e23b20a-a36f-46ec-8d5d-d94d3421b796\" xlink:type=\"simple\"><path d=\"M280.68,156.48 C241.18,184.05 185.65,222.85 137,257 C127.35,263.77 116.85,271.17 107.33,277.88 \" fill=\"none\" id=\"E3&lt;-E4\" style=\"stroke: #383838; stroke-width: 1.0; stroke-dasharray: 7.0,7.0;\"/><ellipse cx=\"286.6201\" cy=\"152.349\" fill=\"#FFFFFF\" rx=\"8\" ry=\"8\" style=\"stroke: #383838; stroke-width: 1.0;\"/><line style=\"stroke: #383838; stroke-width: 1.0;\" x1=\"280.0601\" x2=\"293.18\" y1=\"156.928\" y2=\"147.77\"/><line style=\"stroke: #383838; stroke-width: 1.0;\" x1=\"282.0411\" x2=\"291.1991\" y1=\"145.7891\" y2=\"158.9089\"/></a><!--MD5=[191cde3d490a3f6d7bb551fe3ddca469]\n",
       "reverse link E3 to E5--><a href=\"psysml:ad14583f-f40d-4d66-bbbd-cfa822b8d260\" target=\"_top\" title=\"psysml:ad14583f-f40d-4d66-bbbd-cfa822b8d260\" xlink:actuate=\"onRequest\" xlink:href=\"psysml:ad14583f-f40d-4d66-bbbd-cfa822b8d260\" xlink:show=\"new\" xlink:title=\"psysml:ad14583f-f40d-4d66-bbbd-cfa822b8d260\" xlink:type=\"simple\"><path d=\"M285.45,184.85 C261.55,217.43 234.15,254.8 217.2,277.91 \" fill=\"none\" id=\"E3&lt;-E5\" style=\"stroke: #383838; stroke-width: 1.0;\"/><polygon fill=\"#383838\" points=\"293.4,174.01,286.6268,176.4846,286.3059,183.6885,293.0791,181.214,293.4,174.01\" style=\"stroke: #383838; stroke-width: 1.0;\"/><text fill=\"#000000\" font-family=\"sans-serif\" font-size=\"13\" lengthAdjust=\"spacingAndGlyphs\" textLength=\"7\" x=\"213.6131\" y=\"266.7821\">*</text></a><!--MD5=[1026b4b93417a13aa8999a858998add2]\n",
       "reverse link E3 to E6--><a href=\"psysml:02f2d6be-0a1b-48e7-9525-0788d6b31587\" target=\"_top\" title=\"psysml:02f2d6be-0a1b-48e7-9525-0788d6b31587\" xlink:actuate=\"onRequest\" xlink:href=\"psysml:02f2d6be-0a1b-48e7-9525-0788d6b31587\" xlink:show=\"new\" xlink:title=\"psysml:02f2d6be-0a1b-48e7-9525-0788d6b31587\" xlink:type=\"simple\"><path d=\"M333,210.12 C333,226.38 333,242.64 333,256.77 \" fill=\"none\" id=\"E3&lt;-E6\" style=\"stroke: #383838; stroke-width: 1.0;\"/><polygon fill=\"#383838\" points=\"333,197.12,329,203.12,333,209.12,337,203.12,333,197.12\" style=\"stroke: #383838; stroke-width: 1.0;\"/><text fill=\"#000000\" font-family=\"sans-serif\" font-size=\"13\" lengthAdjust=\"spacingAndGlyphs\" textLength=\"7\" x=\"325.4641\" y=\"245.899\">*</text></a><!--MD5=[3403bfa781cc3da0fd423dbab6f01c63]\n",
       "reverse link E6 to E2--><a href=\"psysml:415ec969-1049-4ff8-b1f4-3b78a625bc7d\" target=\"_top\" title=\"psysml:415ec969-1049-4ff8-b1f4-3b78a625bc7d\" xlink:actuate=\"onRequest\" xlink:href=\"psysml:415ec969-1049-4ff8-b1f4-3b78a625bc7d\" xlink:show=\"new\" xlink:title=\"psysml:415ec969-1049-4ff8-b1f4-3b78a625bc7d\" xlink:type=\"simple\"><path d=\"M320.31,358.11 C320,374.71 320.9,391.92 323.01,404.99 \" fill=\"none\" id=\"E6&lt;-E2\" style=\"stroke: #383838; stroke-width: 1.0;\"/><polygon fill=\"#FFFFFF\" points=\"320.82,345.02,316.5921,350.8617,320.3583,357.0111,324.5862,351.1695,320.82,345.02\" style=\"stroke: #383838; stroke-width: 1.0;\"/></a><!--MD5=[3403bfa781cc3da0fd423dbab6f01c63]\n",
       "reverse link E6 to E2--><a href=\"psysml:415ec969-1049-4ff8-b1f4-3b78a625bc7d\" target=\"_top\" title=\"psysml:415ec969-1049-4ff8-b1f4-3b78a625bc7d\" xlink:actuate=\"onRequest\" xlink:href=\"psysml:415ec969-1049-4ff8-b1f4-3b78a625bc7d\" xlink:show=\"new\" xlink:title=\"psysml:415ec969-1049-4ff8-b1f4-3b78a625bc7d\" xlink:type=\"simple\"><path d=\"M346.44,358.11 C346.76,374.71 345.81,391.92 343.57,404.99 \" fill=\"none\" id=\"E6&lt;-E2-1\" style=\"stroke: #383838; stroke-width: 1.0;\"/><polygon fill=\"#FFFFFF\" points=\"345.9,345.02,342.1473,351.1777,346.388,357.0101,350.1407,350.8524,345.9,345.02\" style=\"stroke: #383838; stroke-width: 1.0;\"/></a><!--MD5=[85760999379eecfd2565a9fecdca67e4]\n",
       "reverse link E3 to E7--><a href=\"psysml:6b163638-00d9-4d11-a021-492b992d4a3f\" target=\"_top\" title=\"psysml:6b163638-00d9-4d11-a021-492b992d4a3f\" xlink:actuate=\"onRequest\" xlink:href=\"psysml:6b163638-00d9-4d11-a021-492b992d4a3f\" xlink:show=\"new\" xlink:title=\"psysml:6b163638-00d9-4d11-a021-492b992d4a3f\" xlink:type=\"simple\"><path d=\"M380.73,182.71 C399.37,207.2 420.27,234.66 437.16,256.86 \" fill=\"none\" id=\"E3&lt;-E7\" style=\"stroke: #383838; stroke-width: 1.0;\"/><polygon fill=\"#383838\" points=\"372.63,172.06,373.0806,179.257,379.8974,181.6091,379.4467,174.4121,372.63,172.06\" style=\"stroke: #383838; stroke-width: 1.0;\"/><text fill=\"#000000\" font-family=\"sans-serif\" font-size=\"13\" lengthAdjust=\"spacingAndGlyphs\" textLength=\"7\" x=\"424.5954\" y=\"246.0028\">*</text></a><!--MD5=[4cb75b73ec3682b8f7f8edc9cc86126a]\n",
       "reverse link E3 to E8--><a href=\"psysml:e0686d6c-32a7-4788-b0ea-8926b68cc818\" target=\"_top\" title=\"psysml:e0686d6c-32a7-4788-b0ea-8926b68cc818\" xlink:actuate=\"onRequest\" xlink:href=\"psysml:e0686d6c-32a7-4788-b0ea-8926b68cc818\" xlink:show=\"new\" xlink:title=\"psysml:e0686d6c-32a7-4788-b0ea-8926b68cc818\" xlink:type=\"simple\"><path d=\"M383.69,153.18 C439.23,189.53 526.74,246.81 574.37,277.99 \" fill=\"none\" id=\"E3&lt;-E8\" style=\"stroke: #383838; stroke-width: 1.0;\"/><polygon fill=\"#383838\" points=\"372.69,145.98,375.5242,152.6108,382.735,152.5449,379.9008,145.9141,372.69,145.98\" style=\"stroke: #383838; stroke-width: 1.0;\"/></a><!--MD5=[da0e4dff1682768483284912eccbfea3]\n",
       "@startuml\r\n",
       "top to bottom direction\r\n",
       "skinparam monochrome true\r\n",
       "skinparam classbackgroundcolor white\r\n",
       "skinparam shadowing false\r\n",
       "skinparam wrapWidth 300\r\n",
       "hide circle\r\n",
       "\r\n",
       "package \"ActionTest\" as E1  [[psysml:b606a038-0c45-436f-a3a1-beef47fa0e17 ]]  {\r\n",
       "comp def \"S\" as E2  <<(T,blue) attribute  def>> [[psysml:f9329402-d9ed-482b-aa71-2e931e2796d7 ]] {\r\n",
       "}\r\n",
       "comp usage \"a\" as E3  <<(T,blue) action>> [[psysml:69e16b91-de61-4fe2-8ebf-63b040d0687a ]] {\r\n",
       "- - successions - -\r\n",
       " to \r\n",
       " to \r\n",
       " to \r\n",
       " to \r\n",
       "- - transitions - -\r\n",
       "\r\n",
       "\r\n",
       "}\r\n",
       "comp usage \"start: Action \" as E4  <<(T,blue) action>> [[psysml:d8f546a6-9527-45eb-b0f0-0c3fcbb6d2a9 ]] {\r\n",
       "}\r\n",
       "comp usage \"m\" as E5  <<(T,blue) merge node>> [[psysml:ba661374-e1ab-49de-aa21-c62362c65829 ]] {\r\n",
       "}\r\n",
       "comp usage \"<s>noname</s>\" as E6 << accept action>> [[psysml:dcf8e234-4de8-4cb8-a947-17c2138066f0 ]] {\r\n",
       "- - parameters - -\r\n",
       "<b>in</b> payload: S\r\n",
       "<b>in</b> receiver\r\n",
       "}\r\n",
       "comp usage \"<s>noname</s>\" as E7 << send action>> [[psysml:18c3d457-6bb3-4962-a480-0e1b2254a09a ]] {\r\n",
       "- - parameters - -\r\n",
       "<b>in</b> payload=S(); \r\n",
       "<b>in</b> receiver=B(); \r\n",
       "}\r\n",
       "comp usage \"<s>noname</s>\" as E8  <<(T,blue) decision node>> [[psysml:1cf4a57b-2f41-48db-bb2e-4817b665eacc ]] {\r\n",
       "}\r\n",
       "comp def \"B\" as E9  <<(T,blue) action  def>> [[psysml:530e5343-b7af-483f-85a0-93ec425d0302 ]] {\r\n",
       "}\r\n",
       "}\r\n",
       "E3 +.. E4 [[psysml:4e23b20a-a36f-46ec-8d5d-d94d3421b796 ]] \r\n",
       "E3 *- - \"*\"E5 [[psysml:ad14583f-f40d-4d66-bbbd-cfa822b8d260 ]] \r\n",
       "E3 *- - \"*\"E6 [[psysml:02f2d6be-0a1b-48e7-9525-0788d6b31587 ]] \r\n",
       "E6 o- - E2 [[psysml:415ec969-1049-4ff8-b1f4-3b78a625bc7d ]] \r\n",
       "E6 o- - E2 [[psysml:415ec969-1049-4ff8-b1f4-3b78a625bc7d ]] \r\n",
       "E3 *- - \"*\"E7 [[psysml:6b163638-00d9-4d11-a021-492b992d4a3f ]] \r\n",
       "E3 *- - E8 [[psysml:e0686d6c-32a7-4788-b0ea-8926b68cc818 ]] \r\n",
       "@enduml\r\n",
       "\n",
       "PlantUML version 1.2020.13(Sat Jun 13 12:26:38 UTC 2020)\n",
       "(EPL source distribution)\n",
       "Java Runtime: OpenJDK Runtime Environment\n",
       "JVM: OpenJDK 64-Bit Server VM\n",
       "Default Encoding: UTF-8\n",
       "Language: en\n",
       "Country: null\n",
       "--></g></svg>"
      ]
     },
     "execution_count": 45,
     "metadata": {},
     "output_type": "execute_result"
    }
   ],
   "source": [
    "%viz --style=\"TB\" --view=\"Tree\" \"ActionTest\""
   ]
  },
  {
   "cell_type": "code",
   "execution_count": 46,
   "id": "f42e9848",
   "metadata": {
    "execution": {
     "iopub.execute_input": "2021-10-25T08:21:25.523790Z",
     "iopub.status.busy": "2021-10-25T08:21:25.523330Z",
     "iopub.status.idle": "2021-10-25T08:21:25.527568Z",
     "shell.execute_reply": "2021-10-25T08:21:25.527189Z"
    }
   },
   "outputs": [
    {
     "data": {
      "image/svg+xml": [
       "<?xml version=\"1.0\" encoding=\"UTF-8\" standalone=\"no\"?><svg xmlns=\"http://www.w3.org/2000/svg\" xmlns:xlink=\"http://www.w3.org/1999/xlink\" contentScriptType=\"application/ecmascript\" contentStyleType=\"text/css\" height=\"12px\" preserveAspectRatio=\"none\" style=\"width:12px;height:12px;\" version=\"1.1\" viewBox=\"0 0 12 12\" width=\"12px\" zoomAndPan=\"magnify\"><defs/><g><!--MD5=[f4ee21bc66e489b5061b7c3e9601fdef]\n",
       "@startuml\r\n",
       "top to bottom direction\r\n",
       "skinparam monochrome true\r\n",
       "skinparam classbackgroundcolor white\r\n",
       "skinparam shadowing false\r\n",
       "skinparam wrapWidth 300\r\n",
       "hide circle\r\n",
       "\r\n",
       "@enduml\r\n",
       "\n",
       "PlantUML version 1.2020.13(Sat Jun 13 12:26:38 UTC 2020)\n",
       "(EPL source distribution)\n",
       "Java Runtime: OpenJDK Runtime Environment\n",
       "JVM: OpenJDK 64-Bit Server VM\n",
       "Default Encoding: UTF-8\n",
       "Language: en\n",
       "Country: null\n",
       "--></g></svg>"
      ]
     },
     "execution_count": 46,
     "metadata": {},
     "output_type": "execute_result"
    }
   ],
   "source": [
    "%viz --style=\"TB\" --view=\"State\" \"ActionTest\""
   ]
  },
  {
   "cell_type": "code",
   "execution_count": 47,
   "id": "bbe167c7",
   "metadata": {
    "execution": {
     "iopub.execute_input": "2021-10-25T08:21:25.577037Z",
     "iopub.status.busy": "2021-10-25T08:21:25.576589Z",
     "iopub.status.idle": "2021-10-25T08:21:25.619266Z",
     "shell.execute_reply": "2021-10-25T08:21:25.617172Z"
    }
   },
   "outputs": [
    {
     "data": {
      "image/svg+xml": [
       "<?xml version=\"1.0\" encoding=\"UTF-8\" standalone=\"no\"?><svg xmlns=\"http://www.w3.org/2000/svg\" xmlns:xlink=\"http://www.w3.org/1999/xlink\" contentScriptType=\"application/ecmascript\" contentStyleType=\"text/css\" height=\"462px\" preserveAspectRatio=\"none\" style=\"width:530px;height:462px;\" version=\"1.1\" viewBox=\"0 0 530 462\" width=\"530px\" zoomAndPan=\"magnify\"><defs/><g><!--MD5=[fbc87193dbaf4d95561dea2c320d4a47]\n",
       "cluster E1--><a href=\"psysml:b606a038-0c45-436f-a3a1-beef47fa0e17\" target=\"_top\" title=\"psysml:b606a038-0c45-436f-a3a1-beef47fa0e17\" xlink:actuate=\"onRequest\" xlink:href=\"psysml:b606a038-0c45-436f-a3a1-beef47fa0e17\" xlink:show=\"new\" xlink:title=\"psysml:b606a038-0c45-436f-a3a1-beef47fa0e17\" xlink:type=\"simple\"><polygon fill=\"#FFFFFF\" points=\"16,6,96,6,103,28.2969,508,28.2969,508,450.5,16,450.5,16,6\" style=\"stroke: #000000; stroke-width: 1.5;\"/><line style=\"stroke: #000000; stroke-width: 1.5;\" x1=\"16\" x2=\"103\" y1=\"28.2969\" y2=\"28.2969\"/><text fill=\"#000000\" font-family=\"sans-serif\" font-size=\"14\" font-weight=\"bold\" lengthAdjust=\"spacingAndGlyphs\" textLength=\"74\" x=\"20\" y=\"20.9951\">ActionTest</text></a><!--MD5=[d5e69f78d87373223dbae638b30a9c99]\n",
       "cluster E3--><a href=\"psysml:69e16b91-de61-4fe2-8ebf-63b040d0687a\" target=\"_top\" title=\"psysml:69e16b91-de61-4fe2-8ebf-63b040d0687a\" xlink:actuate=\"onRequest\" xlink:href=\"psysml:69e16b91-de61-4fe2-8ebf-63b040d0687a\" xlink:show=\"new\" xlink:title=\"psysml:69e16b91-de61-4fe2-8ebf-63b040d0687a\" xlink:type=\"simple\"><rect fill=\"#FFFFFF\" height=\"377.5\" id=\"E3\" rx=\"10\" ry=\"10\" style=\"stroke: #383838; stroke-width: 1.5;\" width=\"209\" x=\"275\" y=\"49\"/><rect fill=\"#F8F8F8\" height=\"37.9375\" rx=\"10\" ry=\"10\" style=\"stroke: #F8F8F8; stroke-width: 1.5;\" width=\"209\" x=\"275\" y=\"49\"/><rect fill=\"#F8F8F8\" height=\"10\" style=\"stroke: #F8F8F8; stroke-width: 1.5;\" width=\"209\" x=\"275\" y=\"76.9375\"/><rect fill=\"none\" height=\"377.5\" id=\"E3\" rx=\"10\" ry=\"10\" style=\"stroke: #383838; stroke-width: 1.5;\" width=\"209\" x=\"275\" y=\"49\"/><text fill=\"#000000\" font-family=\"sans-serif\" font-size=\"12\" font-style=\"italic\" lengthAdjust=\"spacingAndGlyphs\" textLength=\"53\" x=\"353\" y=\"65.1387\">«action»</text><text fill=\"#000000\" font-family=\"sans-serif\" font-size=\"12\" lengthAdjust=\"spacingAndGlyphs\" textLength=\"8\" x=\"375.5\" y=\"79.1074\">a</text><line style=\"stroke: #383838; stroke-width: 1.0;\" x1=\"275\" x2=\"484\" y1=\"86.9375\" y2=\"86.9375\"/></a><g id=\"E1.E2\"><a href=\"psysml:f9329402-d9ed-482b-aa71-2e931e2796d7\" target=\"_top\" title=\"psysml:f9329402-d9ed-482b-aa71-2e931e2796d7\" xlink:actuate=\"onRequest\" xlink:href=\"psysml:f9329402-d9ed-482b-aa71-2e931e2796d7\" xlink:show=\"new\" xlink:title=\"psysml:f9329402-d9ed-482b-aa71-2e931e2796d7\" xlink:type=\"simple\"><rect fill=\"#FFFFFF\" height=\"42.9375\" id=\"E2\" style=\"stroke: #383838; stroke-width: 1.5;\" width=\"104\" x=\"155\" y=\"88.5\"/><rect fill=\"#F8F8F8\" height=\"37.9375\" style=\"stroke: #383838; stroke-width: 1.5;\" width=\"104\" x=\"155\" y=\"88.5\"/><text fill=\"#000000\" font-family=\"sans-serif\" font-size=\"12\" font-style=\"italic\" lengthAdjust=\"spacingAndGlyphs\" textLength=\"97\" x=\"158.5\" y=\"104.6387\">«attribute  def»</text><text fill=\"#000000\" font-family=\"sans-serif\" font-size=\"12\" lengthAdjust=\"spacingAndGlyphs\" textLength=\"8\" x=\"203\" y=\"118.6074\">S</text></a></g><polygon fill=\"#F8F8F8\" points=\"432,148.5,444,160.5,432,172.5,420,160.5,432,148.5\" style=\"stroke: #383838; stroke-width: 1.5;\"/><!--MD5=[21dd76c19d33815960c0e92fef8f0eef]\n",
       "entity E5--><a href=\"psysml:dcf8e234-4de8-4cb8-a947-17c2138066f0\" target=\"_top\" title=\"psysml:dcf8e234-4de8-4cb8-a947-17c2138066f0\" xlink:actuate=\"onRequest\" xlink:href=\"psysml:dcf8e234-4de8-4cb8-a947-17c2138066f0\" xlink:show=\"new\" xlink:title=\"psysml:dcf8e234-4de8-4cb8-a947-17c2138066f0\" xlink:type=\"simple\"><polygon fill=\"#F8F8F8\" points=\"291,189.5,291,244.0938,431,244.0938,411,216.7969,431,189.5\" style=\"stroke: #000000; stroke-width: 1.5;\"/><text fill=\"#000000\" font-family=\"sans-serif\" font-size=\"14\" font-style=\"italic\" lengthAdjust=\"spacingAndGlyphs\" textLength=\"111\" x=\"298\" y=\"212.4951\">«accept action»</text><text fill=\"#000000\" font-family=\"sans-serif\" font-size=\"14\" lengthAdjust=\"spacingAndGlyphs\" textLength=\"9\" x=\"349\" y=\"229.792\">S</text></a><!--MD5=[24d87cdf3002d433f401b2a2aa9f9f65]\n",
       "entity E6--><a href=\"psysml:18c3d457-6bb3-4962-a480-0e1b2254a09a\" target=\"_top\" title=\"psysml:18c3d457-6bb3-4962-a480-0e1b2254a09a\" xlink:actuate=\"onRequest\" xlink:href=\"psysml:18c3d457-6bb3-4962-a480-0e1b2254a09a\" xlink:show=\"new\" xlink:title=\"psysml:18c3d457-6bb3-4962-a480-0e1b2254a09a\" xlink:type=\"simple\"><polygon fill=\"#F8F8F8\" points=\"291,277.5,291,332.0938,399,332.0938,419,304.7969,399,277.5\" style=\"stroke: #000000; stroke-width: 1.5;\"/><text fill=\"#000000\" font-family=\"sans-serif\" font-size=\"14\" font-style=\"italic\" lengthAdjust=\"spacingAndGlyphs\" textLength=\"99\" x=\"298\" y=\"300.4951\">«send action»</text><text fill=\"#000000\" font-family=\"sans-serif\" font-size=\"14\" lengthAdjust=\"spacingAndGlyphs\" textLength=\"65\" x=\"315\" y=\"317.792\">S() to  B()</text></a><polygon fill=\"#F8F8F8\" points=\"430,349.5,442,361.5,430,373.5,418,361.5,430,349.5\" style=\"stroke: #383838; stroke-width: 1.5;\"/><ellipse cx=\"432\" cy=\"110\" fill=\"#000000\" rx=\"10\" ry=\"10\" style=\"stroke: none; stroke-width: 1.0;\"/><ellipse cx=\"430\" cy=\"400.5\" fill=\"none\" rx=\"10\" ry=\"10\" style=\"stroke: #000000; stroke-width: 1.0;\"/><ellipse cx=\"430.5\" cy=\"401\" fill=\"#000000\" rx=\"6\" ry=\"6\" style=\"stroke: none; stroke-width: 1.0;\"/><g id=\"E1.E8\"><a href=\"psysml:530e5343-b7af-483f-85a0-93ec425d0302\" target=\"_top\" title=\"psysml:530e5343-b7af-483f-85a0-93ec425d0302\" xlink:actuate=\"onRequest\" xlink:href=\"psysml:530e5343-b7af-483f-85a0-93ec425d0302\" xlink:show=\"new\" xlink:title=\"psysml:530e5343-b7af-483f-85a0-93ec425d0302\" xlink:type=\"simple\"><rect fill=\"#FFFFFF\" height=\"42.9375\" id=\"E8\" style=\"stroke: #383838; stroke-width: 1.5;\" width=\"88\" x=\"32\" y=\"88.5\"/><rect fill=\"#F8F8F8\" height=\"37.9375\" style=\"stroke: #383838; stroke-width: 1.5;\" width=\"88\" x=\"32\" y=\"88.5\"/><text fill=\"#000000\" font-family=\"sans-serif\" font-size=\"12\" font-style=\"italic\" lengthAdjust=\"spacingAndGlyphs\" textLength=\"81\" x=\"35.5\" y=\"104.6387\">«action  def»</text><text fill=\"#000000\" font-family=\"sans-serif\" font-size=\"12\" lengthAdjust=\"spacingAndGlyphs\" textLength=\"8\" x=\"72\" y=\"118.6074\">B</text></a></g><!--MD5=[f47e10efcf9a6752d55dae986d790ed9]\n",
       "link *start*E3 to E4--><a href=\"psysml:8ec85343-59fa-499c-a77c-a2bbf8c30a9c\" target=\"_top\" title=\"psysml:8ec85343-59fa-499c-a77c-a2bbf8c30a9c\" xlink:actuate=\"onRequest\" xlink:href=\"psysml:8ec85343-59fa-499c-a77c-a2bbf8c30a9c\" xlink:show=\"new\" xlink:title=\"psysml:8ec85343-59fa-499c-a77c-a2bbf8c30a9c\" xlink:type=\"simple\"><path d=\"M432,120.35 C432,126.88 432,135.77 432,143.42 \" fill=\"none\" id=\"*start*E3-&gt;E4\" style=\"stroke: #383838; stroke-width: 1.0;\"/><polygon fill=\"#383838\" points=\"432,148.48,436,139.48,432,143.48,428,139.48,432,148.48\" style=\"stroke: #383838; stroke-width: 1.0;\"/></a><!--MD5=[d19f2eb34364d71b67042106d92f540b]\n",
       "link E7 to *end*E3--><a href=\"psysml:0d9f4e26-bf93-4aba-a8c6-6dafeae60007\" target=\"_top\" title=\"psysml:0d9f4e26-bf93-4aba-a8c6-6dafeae60007\" xlink:actuate=\"onRequest\" xlink:href=\"psysml:0d9f4e26-bf93-4aba-a8c6-6dafeae60007\" xlink:show=\"new\" xlink:title=\"psysml:0d9f4e26-bf93-4aba-a8c6-6dafeae60007\" xlink:type=\"simple\"><path d=\"M430,373.8 C430,377.34 430,381.3 430,385.03 \" fill=\"none\" id=\"E7-&gt;*end*E3\" style=\"stroke: #383838; stroke-width: 1.0;\"/><polygon fill=\"#383838\" points=\"430,390.25,434,381.25,430,385.25,426,381.25,430,390.25\" style=\"stroke: #383838; stroke-width: 1.0;\"/></a><!--MD5=[1b7591eae5389033d8d09a9d6721a717]\n",
       "link E4 to E5--><a href=\"psysml:0f743cc2-6e19-41e4-aad8-79cb567e3158\" target=\"_top\" title=\"psysml:0f743cc2-6e19-41e4-aad8-79cb567e3158\" xlink:actuate=\"onRequest\" xlink:href=\"psysml:0f743cc2-6e19-41e4-aad8-79cb567e3158\" xlink:show=\"new\" xlink:title=\"psysml:0f743cc2-6e19-41e4-aad8-79cb567e3158\" xlink:type=\"simple\"><path d=\"M425.45,166.53 C419.33,171.23 409.65,178.66 399.64,186.34 \" fill=\"none\" id=\"E4-&gt;E5\" style=\"stroke: #383838; stroke-width: 1.0;\"/><polygon fill=\"#383838\" points=\"395.64,189.41,405.2129,187.0948,399.6037,186.3621,400.3363,180.7529,395.64,189.41\" style=\"stroke: #383838; stroke-width: 1.0;\"/><text fill=\"#000000\" font-family=\"sans-serif\" font-size=\"13\" lengthAdjust=\"spacingAndGlyphs\" textLength=\"7\" x=\"395.8411\" y=\"178.4247\">*</text></a><!--MD5=[9120cf2e5df3bff93db8f754bbbc09b4]\n",
       "link E5 to E6--><a href=\"psysml:3404b4e6-fa1c-4cf0-a87f-a7f8eafbc3bc\" target=\"_top\" title=\"psysml:3404b4e6-fa1c-4cf0-a87f-a7f8eafbc3bc\" xlink:actuate=\"onRequest\" xlink:href=\"psysml:3404b4e6-fa1c-4cf0-a87f-a7f8eafbc3bc\" xlink:show=\"new\" xlink:title=\"psysml:3404b4e6-fa1c-4cf0-a87f-a7f8eafbc3bc\" xlink:type=\"simple\"><path d=\"M359.13,244.74 C358.53,253.4 357.85,263.08 357.23,272.08 \" fill=\"none\" id=\"E5-&gt;E6\" style=\"stroke: #383838; stroke-width: 1.0;\"/><polygon fill=\"#383838\" points=\"356.86,277.28,361.468,268.5756,357.203,272.2918,353.4869,268.0268,356.86,277.28\" style=\"stroke: #383838; stroke-width: 1.0;\"/><text fill=\"#000000\" font-family=\"sans-serif\" font-size=\"13\" lengthAdjust=\"spacingAndGlyphs\" textLength=\"7\" x=\"349.4808\" y=\"266.2646\">*</text></a><!--MD5=[02c70b7c851c11e3980e4e90450dc5dd]\n",
       "link E6 to E7--><a href=\"psysml:a56f0975-9bdd-4db4-ac34-32a8d14536cf\" target=\"_top\" title=\"psysml:a56f0975-9bdd-4db4-ac34-32a8d14536cf\" xlink:actuate=\"onRequest\" xlink:href=\"psysml:a56f0975-9bdd-4db4-ac34-32a8d14536cf\" xlink:show=\"new\" xlink:title=\"psysml:a56f0975-9bdd-4db4-ac34-32a8d14536cf\" xlink:type=\"simple\"><path d=\"M391.62,332.61 C401.72,339.95 411.91,347.35 419.24,352.68 \" fill=\"none\" id=\"E6-&gt;E7\" style=\"stroke: #383838; stroke-width: 1.0;\"/><polygon fill=\"#383838\" points=\"423.42,355.72,418.4976,347.1894,419.3776,352.7774,413.7896,353.6574,423.42,355.72\" style=\"stroke: #383838; stroke-width: 1.0;\"/><text fill=\"#000000\" font-family=\"sans-serif\" font-size=\"13\" lengthAdjust=\"spacingAndGlyphs\" textLength=\"7\" x=\"405.584\" y=\"338.5823\">*</text></a><!--MD5=[6bdd27f9905911a7e892a3dc65cf6b7c]\n",
       "link E7 to E4--><a href=\"psysml:2a79c4d0-9744-4107-95b5-d9c642bb083b\" target=\"_top\" title=\"psysml:2a79c4d0-9744-4107-95b5-d9c642bb083b\" xlink:actuate=\"onRequest\" xlink:href=\"psysml:2a79c4d0-9744-4107-95b5-d9c642bb083b\" xlink:show=\"new\" xlink:title=\"psysml:2a79c4d0-9744-4107-95b5-d9c642bb083b\" xlink:type=\"simple\"><path d=\"M433,352.49 C441.84,327.73 466.06,250.48 449,189.5 C447.26,183.29 443.73,177.1 440.34,172.12 \" fill=\"none\" id=\"E7-&gt;E4\" style=\"stroke: #383838; stroke-width: 1.0;\"/><polygon fill=\"#383838\" points=\"437.31,167.92,439.3342,177.5586,440.2364,171.9741,445.8209,172.8763,437.31,167.92\" style=\"stroke: #383838; stroke-width: 1.0;\"/><text fill=\"#000000\" font-family=\"sans-serif\" font-size=\"13\" lengthAdjust=\"spacingAndGlyphs\" textLength=\"36\" x=\"455\" y=\"265.5669\">[true]</text><text fill=\"#000000\" font-family=\"sans-serif\" font-size=\"13\" lengthAdjust=\"spacingAndGlyphs\" textLength=\"7\" x=\"438.8853\" y=\"189.5917\">*</text></a><!--MD5=[89676c81ca195f026f10e4ec3607d3c9]\n",
       "@startuml\r\n",
       "skinparam ranksep 10\r\n",
       "skinparam rectangle {\r\n",
       " backgroundColor<<block>> LightGreen\r\n",
       "}\r\n",
       "top to bottom direction\r\n",
       "skinparam monochrome true\r\n",
       "skinparam classbackgroundcolor white\r\n",
       "skinparam shadowing false\r\n",
       "skinparam wrapWidth 300\r\n",
       "hide circle\r\n",
       "\r\n",
       "package \"ActionTest\" as E1  [[psysml:b606a038-0c45-436f-a3a1-beef47fa0e17 ]]  {\r\n",
       "def \"S\" as E2  <<(T,blue) attribute  def>> [[psysml:f9329402-d9ed-482b-aa71-2e931e2796d7 ]] \r\n",
       "rec usage \"a\" as E3  <<(T,blue) action>> [[psysml:69e16b91-de61-4fe2-8ebf-63b040d0687a ]] {\r\n",
       "choice \"m\" as E4  [[psysml:ba661374-e1ab-49de-aa21-c62362c65829 ]] \r\n",
       "accept \" S\" as E5 << accept action>> [[psysml:dcf8e234-4de8-4cb8-a947-17c2138066f0 ]] \r\n",
       "send \" S() to  B()\" as E6 << send action>> [[psysml:18c3d457-6bb3-4962-a480-0e1b2254a09a ]] \r\n",
       "choice \"<s>noname</s>\" as E7  [[psysml:1cf4a57b-2f41-48db-bb2e-4817b665eacc ]] \r\n",
       "[*] - -> E4 [[psysml:8ec85343-59fa-499c-a77c-a2bbf8c30a9c ]] \r\n",
       "E7  - -> [*] [[psysml:0d9f4e26-bf93-4aba-a8c6-6dafeae60007 ]] \r\n",
       "}\r\n",
       "\r\n",
       "rec def \"B\" as E8  <<(T,blue) action  def>> [[psysml:530e5343-b7af-483f-85a0-93ec425d0302 ]] {\r\n",
       "}\r\n",
       "\r\n",
       "}\r\n",
       "E4 - -> \"*\"E5 [[psysml:0f743cc2-6e19-41e4-aad8-79cb567e3158 ]] \r\n",
       "E5 - -> \"*\"E6 [[psysml:3404b4e6-fa1c-4cf0-a87f-a7f8eafbc3bc ]] \r\n",
       "E6 - -> \"*\"E7 [[psysml:a56f0975-9bdd-4db4-ac34-32a8d14536cf ]] \r\n",
       "E7  - -> \"*\"E4 [[psysml:2a79c4d0-9744-4107-95b5-d9c642bb083b ]] : [true]\r\n",
       "@enduml\r\n",
       "\n",
       "PlantUML version 1.2020.13(Sat Jun 13 12:26:38 UTC 2020)\n",
       "(EPL source distribution)\n",
       "Java Runtime: OpenJDK Runtime Environment\n",
       "JVM: OpenJDK 64-Bit Server VM\n",
       "Default Encoding: UTF-8\n",
       "Language: en\n",
       "Country: null\n",
       "--></g></svg>"
      ]
     },
     "execution_count": 47,
     "metadata": {},
     "output_type": "execute_result"
    }
   ],
   "source": [
    "%viz --style=\"TB\" --view=\"Interconnection\" \"ActionTest\""
   ]
  },
  {
   "cell_type": "code",
   "execution_count": 48,
   "id": "4e24e738",
   "metadata": {
    "execution": {
     "iopub.execute_input": "2021-10-25T08:21:25.667919Z",
     "iopub.status.busy": "2021-10-25T08:21:25.667676Z",
     "iopub.status.idle": "2021-10-25T08:21:25.708525Z",
     "shell.execute_reply": "2021-10-25T08:21:25.706729Z"
    }
   },
   "outputs": [
    {
     "data": {
      "image/svg+xml": [
       "<?xml version=\"1.0\" encoding=\"UTF-8\" standalone=\"no\"?><svg xmlns=\"http://www.w3.org/2000/svg\" xmlns:xlink=\"http://www.w3.org/1999/xlink\" contentScriptType=\"application/ecmascript\" contentStyleType=\"text/css\" height=\"395px\" preserveAspectRatio=\"none\" style=\"width:339px;height:395px;\" version=\"1.1\" viewBox=\"0 0 339 395\" width=\"339px\" zoomAndPan=\"magnify\"><defs/><g><!--MD5=[fbc87193dbaf4d95561dea2c320d4a47]\n",
       "cluster E1--><a href=\"psysml:69e16b91-de61-4fe2-8ebf-63b040d0687a\" target=\"_top\" title=\"psysml:69e16b91-de61-4fe2-8ebf-63b040d0687a\" xlink:actuate=\"onRequest\" xlink:href=\"psysml:69e16b91-de61-4fe2-8ebf-63b040d0687a\" xlink:show=\"new\" xlink:title=\"psysml:69e16b91-de61-4fe2-8ebf-63b040d0687a\" xlink:type=\"simple\"><rect fill=\"#FFFFFF\" height=\"377.5\" id=\"E1\" rx=\"10\" ry=\"10\" style=\"stroke: #383838; stroke-width: 1.5;\" width=\"209\" x=\"111\" y=\"7\"/><rect fill=\"#F8F8F8\" height=\"37.9375\" rx=\"10\" ry=\"10\" style=\"stroke: #F8F8F8; stroke-width: 1.5;\" width=\"209\" x=\"111\" y=\"7\"/><rect fill=\"#F8F8F8\" height=\"10\" style=\"stroke: #F8F8F8; stroke-width: 1.5;\" width=\"209\" x=\"111\" y=\"34.9375\"/><rect fill=\"none\" height=\"377.5\" id=\"E1\" rx=\"10\" ry=\"10\" style=\"stroke: #383838; stroke-width: 1.5;\" width=\"209\" x=\"111\" y=\"7\"/><text fill=\"#000000\" font-family=\"sans-serif\" font-size=\"12\" font-style=\"italic\" lengthAdjust=\"spacingAndGlyphs\" textLength=\"53\" x=\"189\" y=\"23.1387\">«action»</text><text fill=\"#000000\" font-family=\"sans-serif\" font-size=\"12\" lengthAdjust=\"spacingAndGlyphs\" textLength=\"8\" x=\"211.5\" y=\"37.1074\">a</text><line style=\"stroke: #383838; stroke-width: 1.0;\" x1=\"111\" x2=\"320\" y1=\"44.9375\" y2=\"44.9375\"/></a><polygon fill=\"#F8F8F8\" points=\"268,106.5,280,118.5,268,130.5,256,118.5,268,106.5\" style=\"stroke: #383838; stroke-width: 1.5;\"/><!--MD5=[a60fb756f580feb9fd8e2cf1329b5c91]\n",
       "entity E3--><a href=\"psysml:dcf8e234-4de8-4cb8-a947-17c2138066f0\" target=\"_top\" title=\"psysml:dcf8e234-4de8-4cb8-a947-17c2138066f0\" xlink:actuate=\"onRequest\" xlink:href=\"psysml:dcf8e234-4de8-4cb8-a947-17c2138066f0\" xlink:show=\"new\" xlink:title=\"psysml:dcf8e234-4de8-4cb8-a947-17c2138066f0\" xlink:type=\"simple\"><polygon fill=\"#F8F8F8\" points=\"127,147.5,127,202.0938,267,202.0938,247,174.7969,267,147.5\" style=\"stroke: #000000; stroke-width: 1.5;\"/><text fill=\"#000000\" font-family=\"sans-serif\" font-size=\"14\" font-style=\"italic\" lengthAdjust=\"spacingAndGlyphs\" textLength=\"111\" x=\"134\" y=\"170.4951\">«accept action»</text><text fill=\"#000000\" font-family=\"sans-serif\" font-size=\"14\" lengthAdjust=\"spacingAndGlyphs\" textLength=\"9\" x=\"185\" y=\"187.792\">S</text></a><!--MD5=[961cefdc15414eaa3e87aec9d17c2188]\n",
       "entity E4--><a href=\"psysml:18c3d457-6bb3-4962-a480-0e1b2254a09a\" target=\"_top\" title=\"psysml:18c3d457-6bb3-4962-a480-0e1b2254a09a\" xlink:actuate=\"onRequest\" xlink:href=\"psysml:18c3d457-6bb3-4962-a480-0e1b2254a09a\" xlink:show=\"new\" xlink:title=\"psysml:18c3d457-6bb3-4962-a480-0e1b2254a09a\" xlink:type=\"simple\"><polygon fill=\"#F8F8F8\" points=\"127,235.5,127,290.0938,235,290.0938,255,262.7969,235,235.5\" style=\"stroke: #000000; stroke-width: 1.5;\"/><text fill=\"#000000\" font-family=\"sans-serif\" font-size=\"14\" font-style=\"italic\" lengthAdjust=\"spacingAndGlyphs\" textLength=\"99\" x=\"134\" y=\"258.4951\">«send action»</text><text fill=\"#000000\" font-family=\"sans-serif\" font-size=\"14\" lengthAdjust=\"spacingAndGlyphs\" textLength=\"65\" x=\"151\" y=\"275.792\">S() to  B()</text></a><polygon fill=\"#F8F8F8\" points=\"266,307.5,278,319.5,266,331.5,254,319.5,266,307.5\" style=\"stroke: #383838; stroke-width: 1.5;\"/><ellipse cx=\"268\" cy=\"68\" fill=\"#000000\" rx=\"10\" ry=\"10\" style=\"stroke: none; stroke-width: 1.0;\"/><ellipse cx=\"266\" cy=\"358.5\" fill=\"none\" rx=\"10\" ry=\"10\" style=\"stroke: #000000; stroke-width: 1.0;\"/><ellipse cx=\"266.5\" cy=\"359\" fill=\"#000000\" rx=\"6\" ry=\"6\" style=\"stroke: none; stroke-width: 1.0;\"/><g id=\"E6\"><a href=\"psysml:530e5343-b7af-483f-85a0-93ec425d0302\" target=\"_top\" title=\"psysml:530e5343-b7af-483f-85a0-93ec425d0302\" xlink:actuate=\"onRequest\" xlink:href=\"psysml:530e5343-b7af-483f-85a0-93ec425d0302\" xlink:show=\"new\" xlink:title=\"psysml:530e5343-b7af-483f-85a0-93ec425d0302\" xlink:type=\"simple\"><rect fill=\"#FFFFFF\" height=\"42.9375\" id=\"E6\" style=\"stroke: #383838; stroke-width: 1.5;\" width=\"88\" x=\"7\" y=\"46.5\"/><rect fill=\"#F8F8F8\" height=\"37.9375\" style=\"stroke: #383838; stroke-width: 1.5;\" width=\"88\" x=\"7\" y=\"46.5\"/><text fill=\"#000000\" font-family=\"sans-serif\" font-size=\"12\" font-style=\"italic\" lengthAdjust=\"spacingAndGlyphs\" textLength=\"81\" x=\"10.5\" y=\"62.6387\">«action  def»</text><text fill=\"#000000\" font-family=\"sans-serif\" font-size=\"12\" lengthAdjust=\"spacingAndGlyphs\" textLength=\"8\" x=\"47\" y=\"76.6074\">B</text></a></g><!--MD5=[cff944eb183b832d446717a4e202d613]\n",
       "link *start*E1 to E2--><a href=\"psysml:8ec85343-59fa-499c-a77c-a2bbf8c30a9c\" target=\"_top\" title=\"psysml:8ec85343-59fa-499c-a77c-a2bbf8c30a9c\" xlink:actuate=\"onRequest\" xlink:href=\"psysml:8ec85343-59fa-499c-a77c-a2bbf8c30a9c\" xlink:show=\"new\" xlink:title=\"psysml:8ec85343-59fa-499c-a77c-a2bbf8c30a9c\" xlink:type=\"simple\"><path d=\"M268,78.35 C268,84.88 268,93.77 268,101.42 \" fill=\"none\" id=\"*start*E1-&gt;E2\" style=\"stroke: #383838; stroke-width: 1.0; stroke-dasharray: 7.0,7.0;\"/><polygon fill=\"#383838\" points=\"268,106.48,272,97.48,268,101.48,264,97.48,268,106.48\" style=\"stroke: #383838; stroke-width: 1.0;\"/></a><!--MD5=[7fc47fc0d107820853a137871ad908c8]\n",
       "link E5 to *end*E1--><a href=\"psysml:0d9f4e26-bf93-4aba-a8c6-6dafeae60007\" target=\"_top\" title=\"psysml:0d9f4e26-bf93-4aba-a8c6-6dafeae60007\" xlink:actuate=\"onRequest\" xlink:href=\"psysml:0d9f4e26-bf93-4aba-a8c6-6dafeae60007\" xlink:show=\"new\" xlink:title=\"psysml:0d9f4e26-bf93-4aba-a8c6-6dafeae60007\" xlink:type=\"simple\"><path d=\"M266,331.8 C266,335.34 266,339.3 266,343.03 \" fill=\"none\" id=\"E5-&gt;*end*E1\" style=\"stroke: #383838; stroke-width: 1.0; stroke-dasharray: 7.0,7.0;\"/><polygon fill=\"#383838\" points=\"266,348.25,270,339.25,266,343.25,262,339.25,266,348.25\" style=\"stroke: #383838; stroke-width: 1.0;\"/></a><!--MD5=[2720a5a1f2c3fca2055b230370638851]\n",
       "link E2 to E3--><a href=\"psysml:0f743cc2-6e19-41e4-aad8-79cb567e3158\" target=\"_top\" title=\"psysml:0f743cc2-6e19-41e4-aad8-79cb567e3158\" xlink:actuate=\"onRequest\" xlink:href=\"psysml:0f743cc2-6e19-41e4-aad8-79cb567e3158\" xlink:show=\"new\" xlink:title=\"psysml:0f743cc2-6e19-41e4-aad8-79cb567e3158\" xlink:type=\"simple\"><path d=\"M261.45,124.53 C255.33,129.23 245.65,136.66 235.64,144.34 \" fill=\"none\" id=\"E2-&gt;E3\" style=\"stroke: #383838; stroke-width: 1.0; stroke-dasharray: 7.0,7.0;\"/><polygon fill=\"#383838\" points=\"231.64,147.41,241.2129,145.0948,235.6037,144.3621,236.3363,138.7529,231.64,147.41\" style=\"stroke: #383838; stroke-width: 1.0;\"/></a><!--MD5=[af87c684e3b0d8be13c1a698a818ef1e]\n",
       "link E3 to E4--><a href=\"psysml:3404b4e6-fa1c-4cf0-a87f-a7f8eafbc3bc\" target=\"_top\" title=\"psysml:3404b4e6-fa1c-4cf0-a87f-a7f8eafbc3bc\" xlink:actuate=\"onRequest\" xlink:href=\"psysml:3404b4e6-fa1c-4cf0-a87f-a7f8eafbc3bc\" xlink:show=\"new\" xlink:title=\"psysml:3404b4e6-fa1c-4cf0-a87f-a7f8eafbc3bc\" xlink:type=\"simple\"><path d=\"M195.13,202.74 C194.53,211.4 193.85,221.08 193.23,230.08 \" fill=\"none\" id=\"E3-&gt;E4\" style=\"stroke: #383838; stroke-width: 1.0; stroke-dasharray: 7.0,7.0;\"/><polygon fill=\"#383838\" points=\"192.86,235.28,197.468,226.5756,193.203,230.2918,189.4869,226.0268,192.86,235.28\" style=\"stroke: #383838; stroke-width: 1.0;\"/></a><!--MD5=[1b7591eae5389033d8d09a9d6721a717]\n",
       "link E4 to E5--><a href=\"psysml:a56f0975-9bdd-4db4-ac34-32a8d14536cf\" target=\"_top\" title=\"psysml:a56f0975-9bdd-4db4-ac34-32a8d14536cf\" xlink:actuate=\"onRequest\" xlink:href=\"psysml:a56f0975-9bdd-4db4-ac34-32a8d14536cf\" xlink:show=\"new\" xlink:title=\"psysml:a56f0975-9bdd-4db4-ac34-32a8d14536cf\" xlink:type=\"simple\"><path d=\"M227.62,290.61 C237.72,297.95 247.91,305.35 255.24,310.68 \" fill=\"none\" id=\"E4-&gt;E5\" style=\"stroke: #383838; stroke-width: 1.0; stroke-dasharray: 7.0,7.0;\"/><polygon fill=\"#383838\" points=\"259.42,313.72,254.4976,305.1894,255.3776,310.7774,249.7896,311.6574,259.42,313.72\" style=\"stroke: #383838; stroke-width: 1.0;\"/></a><!--MD5=[15ebcb19ae302d9b601edb458606d402]\n",
       "link E5 to E2--><a href=\"psysml:2a79c4d0-9744-4107-95b5-d9c642bb083b\" target=\"_top\" title=\"psysml:2a79c4d0-9744-4107-95b5-d9c642bb083b\" xlink:actuate=\"onRequest\" xlink:href=\"psysml:2a79c4d0-9744-4107-95b5-d9c642bb083b\" xlink:show=\"new\" xlink:title=\"psysml:2a79c4d0-9744-4107-95b5-d9c642bb083b\" xlink:type=\"simple\"><path d=\"M269,310.49 C277.84,285.73 302.06,208.48 285,147.5 C283.26,141.29 279.73,135.1 276.34,130.12 \" fill=\"none\" id=\"E5-&gt;E2\" style=\"stroke: #383838; stroke-width: 1.0; stroke-dasharray: 7.0,7.0;\"/><polygon fill=\"#383838\" points=\"273.31,125.92,275.3342,135.5586,276.2364,129.9741,281.8209,130.8763,273.31,125.92\" style=\"stroke: #383838; stroke-width: 1.0;\"/><text fill=\"#000000\" font-family=\"sans-serif\" font-size=\"13\" lengthAdjust=\"spacingAndGlyphs\" textLength=\"36\" x=\"291\" y=\"223.5669\">[true]</text></a><!--MD5=[ec7354dbf8bacfa9e1dbd31b23f6496a]\n",
       "@startuml\r\n",
       "skinparam ranksep 8\r\n",
       "top to bottom direction\r\n",
       "skinparam monochrome true\r\n",
       "skinparam classbackgroundcolor white\r\n",
       "skinparam shadowing false\r\n",
       "skinparam wrapWidth 300\r\n",
       "hide circle\r\n",
       "\r\n",
       "rec usage \"a\" as E1  <<(T,blue) action>> [[psysml:69e16b91-de61-4fe2-8ebf-63b040d0687a ]] {\r\n",
       "choice \"m\" as E2  [[psysml:ba661374-e1ab-49de-aa21-c62362c65829 ]] \r\n",
       "accept \" S\" as E3 << accept action>> [[psysml:dcf8e234-4de8-4cb8-a947-17c2138066f0 ]] \r\n",
       "send \" S() to  B()\" as E4 << send action>> [[psysml:18c3d457-6bb3-4962-a480-0e1b2254a09a ]] \r\n",
       "choice \"<s>noname</s>\" as E5  [[psysml:1cf4a57b-2f41-48db-bb2e-4817b665eacc ]] \r\n",
       "[*] ..> E2 [[psysml:8ec85343-59fa-499c-a77c-a2bbf8c30a9c ]] \r\n",
       "E5 ..> [*] [[psysml:0d9f4e26-bf93-4aba-a8c6-6dafeae60007 ]] \r\n",
       "}\r\n",
       "\r\n",
       "E2 ..> E3 [[psysml:0f743cc2-6e19-41e4-aad8-79cb567e3158 ]] \r\n",
       "E3 ..> E4 [[psysml:3404b4e6-fa1c-4cf0-a87f-a7f8eafbc3bc ]] \r\n",
       "E4 ..> E5 [[psysml:a56f0975-9bdd-4db4-ac34-32a8d14536cf ]] \r\n",
       "E5 ..> E2 [[psysml:2a79c4d0-9744-4107-95b5-d9c642bb083b ]] : [true]\r\n",
       "rec def \"B\" as E6  <<(T,blue) action  def>> [[psysml:530e5343-b7af-483f-85a0-93ec425d0302 ]] {\r\n",
       "}\r\n",
       "\r\n",
       "@enduml\r\n",
       "\n",
       "PlantUML version 1.2020.13(Sat Jun 13 12:26:38 UTC 2020)\n",
       "(EPL source distribution)\n",
       "Java Runtime: OpenJDK Runtime Environment\n",
       "JVM: OpenJDK 64-Bit Server VM\n",
       "Default Encoding: UTF-8\n",
       "Language: en\n",
       "Country: null\n",
       "--></g></svg>"
      ]
     },
     "execution_count": 48,
     "metadata": {},
     "output_type": "execute_result"
    }
   ],
   "source": [
    "%viz --style=\"TB\" --view=\"Action\" \"ActionTest\""
   ]
  },
  {
   "cell_type": "code",
   "execution_count": 49,
   "id": "7b5e5d0f",
   "metadata": {
    "execution": {
     "iopub.execute_input": "2021-10-25T08:21:25.757883Z",
     "iopub.status.busy": "2021-10-25T08:21:25.757471Z",
     "iopub.status.idle": "2021-10-25T08:21:25.764105Z",
     "shell.execute_reply": "2021-10-25T08:21:25.763713Z"
    }
   },
   "outputs": [
    {
     "data": {
      "image/svg+xml": [
       "<?xml version=\"1.0\" encoding=\"UTF-8\" standalone=\"no\"?><svg xmlns=\"http://www.w3.org/2000/svg\" xmlns:xlink=\"http://www.w3.org/1999/xlink\" contentScriptType=\"application/ecmascript\" contentStyleType=\"text/css\" height=\"12px\" preserveAspectRatio=\"none\" style=\"width:12px;height:12px;\" version=\"1.1\" viewBox=\"0 0 12 12\" width=\"12px\" zoomAndPan=\"magnify\"><defs/><g><!--MD5=[e1ab0c84c44d2fef8bf5f140f2689906]\n",
       "@startuml\r\n",
       "skinparam roundcorner 20\r\n",
       "skinparam BoxPadding 20\r\n",
       "skinparam SequenceBoxBackgroundColor #white\r\n",
       "skinparam style strictuml\r\n",
       "skinparam maxMessageSize 100\r\n",
       "top to bottom direction\r\n",
       "skinparam monochrome true\r\n",
       "skinparam classbackgroundcolor white\r\n",
       "skinparam shadowing false\r\n",
       "skinparam wrapWidth 300\r\n",
       "hide circle\r\n",
       "\r\n",
       "@enduml\r\n",
       "\n",
       "PlantUML version 1.2020.13(Sat Jun 13 12:26:38 UTC 2020)\n",
       "(EPL source distribution)\n",
       "Java Runtime: OpenJDK Runtime Environment\n",
       "JVM: OpenJDK 64-Bit Server VM\n",
       "Default Encoding: UTF-8\n",
       "Language: en\n",
       "Country: null\n",
       "--></g></svg>"
      ]
     },
     "execution_count": 49,
     "metadata": {},
     "output_type": "execute_result"
    }
   ],
   "source": [
    "%viz --style=\"TB\" --view=\"Sequence\" \"ActionTest\""
   ]
  },
  {
   "cell_type": "code",
   "execution_count": 50,
   "id": "d70b79f5",
   "metadata": {
    "execution": {
     "iopub.execute_input": "2021-10-25T08:21:25.813768Z",
     "iopub.status.busy": "2021-10-25T08:21:25.813299Z",
     "iopub.status.idle": "2021-10-25T08:21:25.853617Z",
     "shell.execute_reply": "2021-10-25T08:21:25.851843Z"
    }
   },
   "outputs": [
    {
     "data": {
      "image/svg+xml": [
       "<?xml version=\"1.0\" encoding=\"UTF-8\" standalone=\"no\"?><svg xmlns=\"http://www.w3.org/2000/svg\" xmlns:xlink=\"http://www.w3.org/1999/xlink\" contentScriptType=\"application/ecmascript\" contentStyleType=\"text/css\" height=\"684px\" preserveAspectRatio=\"none\" style=\"width:526px;height:684px;\" version=\"1.1\" viewBox=\"0 0 526 684\" width=\"526px\" zoomAndPan=\"magnify\"><defs/><g><!--MD5=[fbc87193dbaf4d95561dea2c320d4a47]\n",
       "cluster E1--><a href=\"psysml:b606a038-0c45-436f-a3a1-beef47fa0e17\" target=\"_top\" title=\"psysml:b606a038-0c45-436f-a3a1-beef47fa0e17\" xlink:actuate=\"onRequest\" xlink:href=\"psysml:b606a038-0c45-436f-a3a1-beef47fa0e17\" xlink:show=\"new\" xlink:title=\"psysml:b606a038-0c45-436f-a3a1-beef47fa0e17\" xlink:type=\"simple\"><polygon fill=\"#FFFFFF\" points=\"16,6,96,6,103,28.2969,504,28.2969,504,672,16,672,16,6\" style=\"stroke: #000000; stroke-width: 1.5;\"/><line style=\"stroke: #000000; stroke-width: 1.5;\" x1=\"16\" x2=\"103\" y1=\"28.2969\" y2=\"28.2969\"/><text fill=\"#000000\" font-family=\"sans-serif\" font-size=\"14\" font-weight=\"bold\" lengthAdjust=\"spacingAndGlyphs\" textLength=\"74\" x=\"20\" y=\"20.9951\">ActionTest</text></a><!--MD5=[d5e69f78d87373223dbae638b30a9c99]\n",
       "cluster E3--><a href=\"psysml:69e16b91-de61-4fe2-8ebf-63b040d0687a\" target=\"_top\" title=\"psysml:69e16b91-de61-4fe2-8ebf-63b040d0687a\" xlink:actuate=\"onRequest\" xlink:href=\"psysml:69e16b91-de61-4fe2-8ebf-63b040d0687a\" xlink:show=\"new\" xlink:title=\"psysml:69e16b91-de61-4fe2-8ebf-63b040d0687a\" xlink:type=\"simple\"><rect fill=\"#FFFFFF\" height=\"599\" id=\"E3\" rx=\"10\" ry=\"10\" style=\"stroke: #383838; stroke-width: 1.5;\" width=\"209\" x=\"271\" y=\"49\"/><rect fill=\"#F8F8F8\" height=\"37.9375\" rx=\"10\" ry=\"10\" style=\"stroke: #F8F8F8; stroke-width: 1.5;\" width=\"209\" x=\"271\" y=\"49\"/><rect fill=\"#F8F8F8\" height=\"10\" style=\"stroke: #F8F8F8; stroke-width: 1.5;\" width=\"209\" x=\"271\" y=\"76.9375\"/><rect fill=\"none\" height=\"599\" id=\"E3\" rx=\"10\" ry=\"10\" style=\"stroke: #383838; stroke-width: 1.5;\" width=\"209\" x=\"271\" y=\"49\"/><text fill=\"#000000\" font-family=\"sans-serif\" font-size=\"12\" font-style=\"italic\" lengthAdjust=\"spacingAndGlyphs\" textLength=\"53\" x=\"349\" y=\"65.1387\">«action»</text><text fill=\"#000000\" font-family=\"sans-serif\" font-size=\"12\" lengthAdjust=\"spacingAndGlyphs\" textLength=\"8\" x=\"371.5\" y=\"79.1074\">a</text><line style=\"stroke: #383838; stroke-width: 1.0;\" x1=\"271\" x2=\"480\" y1=\"86.9375\" y2=\"86.9375\"/></a><!--MD5=[b4997ac47864f28c2f74865a473b2911]\n",
       "class E2--><a href=\"psysml:f9329402-d9ed-482b-aa71-2e931e2796d7\" target=\"_top\" title=\"psysml:f9329402-d9ed-482b-aa71-2e931e2796d7\" xlink:actuate=\"onRequest\" xlink:href=\"psysml:f9329402-d9ed-482b-aa71-2e931e2796d7\" xlink:show=\"new\" xlink:title=\"psysml:f9329402-d9ed-482b-aa71-2e931e2796d7\" xlink:type=\"simple\"><rect fill=\"#FFFFFF\" height=\"45.9375\" id=\"E2\" style=\"stroke: #383838; stroke-width: 1.5;\" width=\"99\" x=\"155.5\" y=\"87\"/><text fill=\"#000000\" font-family=\"sans-serif\" font-size=\"12\" font-style=\"italic\" lengthAdjust=\"spacingAndGlyphs\" textLength=\"97\" x=\"156.5\" y=\"103.1387\">«attribute  def»</text><text fill=\"#000000\" font-family=\"sans-serif\" font-size=\"12\" lengthAdjust=\"spacingAndGlyphs\" textLength=\"8\" x=\"201\" y=\"117.1074\">S</text><line style=\"stroke: #383838; stroke-width: 1.5;\" x1=\"156.5\" x2=\"253.5\" y1=\"124.9375\" y2=\"124.9375\"/></a><polygon fill=\"#F8F8F8\" points=\"428,194,440,206,428,218,416,206,428,194\" style=\"stroke: #383838; stroke-width: 1.5;\"/><!--MD5=[21dd76c19d33815960c0e92fef8f0eef]\n",
       "entity E5--><a href=\"psysml:dcf8e234-4de8-4cb8-a947-17c2138066f0\" target=\"_top\" title=\"psysml:dcf8e234-4de8-4cb8-a947-17c2138066f0\" xlink:actuate=\"onRequest\" xlink:href=\"psysml:dcf8e234-4de8-4cb8-a947-17c2138066f0\" xlink:show=\"new\" xlink:title=\"psysml:dcf8e234-4de8-4cb8-a947-17c2138066f0\" xlink:type=\"simple\"><polygon fill=\"#F8F8F8\" points=\"287,279,287,333.5938,427,333.5938,407,306.2969,427,279\" style=\"stroke: #000000; stroke-width: 1.5;\"/><text fill=\"#000000\" font-family=\"sans-serif\" font-size=\"14\" font-style=\"italic\" lengthAdjust=\"spacingAndGlyphs\" textLength=\"111\" x=\"294\" y=\"301.9951\">«accept action»</text><text fill=\"#000000\" font-family=\"sans-serif\" font-size=\"14\" lengthAdjust=\"spacingAndGlyphs\" textLength=\"9\" x=\"345\" y=\"319.292\">S</text></a><!--MD5=[24d87cdf3002d433f401b2a2aa9f9f65]\n",
       "entity E6--><a href=\"psysml:18c3d457-6bb3-4962-a480-0e1b2254a09a\" target=\"_top\" title=\"psysml:18c3d457-6bb3-4962-a480-0e1b2254a09a\" xlink:actuate=\"onRequest\" xlink:href=\"psysml:18c3d457-6bb3-4962-a480-0e1b2254a09a\" xlink:show=\"new\" xlink:title=\"psysml:18c3d457-6bb3-4962-a480-0e1b2254a09a\" xlink:type=\"simple\"><polygon fill=\"#F8F8F8\" points=\"287,411,287,465.5938,395,465.5938,415,438.2969,395,411\" style=\"stroke: #000000; stroke-width: 1.5;\"/><text fill=\"#000000\" font-family=\"sans-serif\" font-size=\"14\" font-style=\"italic\" lengthAdjust=\"spacingAndGlyphs\" textLength=\"99\" x=\"294\" y=\"433.9951\">«send action»</text><text fill=\"#000000\" font-family=\"sans-serif\" font-size=\"14\" lengthAdjust=\"spacingAndGlyphs\" textLength=\"65\" x=\"311\" y=\"451.292\">S() to  B()</text></a><polygon fill=\"#F8F8F8\" points=\"426,527,438,539,426,551,414,539,426,527\" style=\"stroke: #383838; stroke-width: 1.5;\"/><ellipse cx=\"428\" cy=\"110\" fill=\"#000000\" rx=\"10\" ry=\"10\" style=\"stroke: none; stroke-width: 1.0;\"/><ellipse cx=\"426\" cy=\"622\" fill=\"none\" rx=\"10\" ry=\"10\" style=\"stroke: #000000; stroke-width: 1.0;\"/><ellipse cx=\"426.5\" cy=\"622.5\" fill=\"#000000\" rx=\"6\" ry=\"6\" style=\"stroke: none; stroke-width: 1.0;\"/><g id=\"E1.E8\"><a href=\"psysml:530e5343-b7af-483f-85a0-93ec425d0302\" target=\"_top\" title=\"psysml:530e5343-b7af-483f-85a0-93ec425d0302\" xlink:actuate=\"onRequest\" xlink:href=\"psysml:530e5343-b7af-483f-85a0-93ec425d0302\" xlink:show=\"new\" xlink:title=\"psysml:530e5343-b7af-483f-85a0-93ec425d0302\" xlink:type=\"simple\"><rect fill=\"#FFFFFF\" height=\"42.9375\" id=\"E8\" style=\"stroke: #383838; stroke-width: 1.5;\" width=\"88\" x=\"32\" y=\"88.5\"/><rect fill=\"#F8F8F8\" height=\"37.9375\" style=\"stroke: #383838; stroke-width: 1.5;\" width=\"88\" x=\"32\" y=\"88.5\"/><text fill=\"#000000\" font-family=\"sans-serif\" font-size=\"12\" font-style=\"italic\" lengthAdjust=\"spacingAndGlyphs\" textLength=\"81\" x=\"35.5\" y=\"104.6387\">«action  def»</text><text fill=\"#000000\" font-family=\"sans-serif\" font-size=\"12\" lengthAdjust=\"spacingAndGlyphs\" textLength=\"8\" x=\"72\" y=\"118.6074\">B</text></a></g><!--MD5=[f47e10efcf9a6752d55dae986d790ed9]\n",
       "link *start*E3 to E4--><a href=\"psysml:8ec85343-59fa-499c-a77c-a2bbf8c30a9c\" target=\"_top\" title=\"psysml:8ec85343-59fa-499c-a77c-a2bbf8c30a9c\" xlink:actuate=\"onRequest\" xlink:href=\"psysml:8ec85343-59fa-499c-a77c-a2bbf8c30a9c\" xlink:show=\"new\" xlink:title=\"psysml:8ec85343-59fa-499c-a77c-a2bbf8c30a9c\" xlink:type=\"simple\"><path d=\"M428,120.01 C428,135.81 428,168.69 428,188.61 \" fill=\"none\" id=\"*start*E3-&gt;E4\" style=\"stroke: #383838; stroke-width: 1.0;\"/><polygon fill=\"#383838\" points=\"428,193.85,432,184.85,428,188.85,424,184.85,428,193.85\" style=\"stroke: #383838; stroke-width: 1.0;\"/></a><!--MD5=[d19f2eb34364d71b67042106d92f540b]\n",
       "link E7 to *end*E3--><a href=\"psysml:0d9f4e26-bf93-4aba-a8c6-6dafeae60007\" target=\"_top\" title=\"psysml:0d9f4e26-bf93-4aba-a8c6-6dafeae60007\" xlink:actuate=\"onRequest\" xlink:href=\"psysml:0d9f4e26-bf93-4aba-a8c6-6dafeae60007\" xlink:show=\"new\" xlink:title=\"psysml:0d9f4e26-bf93-4aba-a8c6-6dafeae60007\" xlink:type=\"simple\"><path d=\"M426,551.26 C426,565.66 426,590.63 426,606.46 \" fill=\"none\" id=\"E7-&gt;*end*E3\" style=\"stroke: #383838; stroke-width: 1.0;\"/><polygon fill=\"#383838\" points=\"426,611.84,430,602.84,426,606.84,422,602.84,426,611.84\" style=\"stroke: #383838; stroke-width: 1.0;\"/></a><!--MD5=[1b7591eae5389033d8d09a9d6721a717]\n",
       "link E4 to E5--><a href=\"psysml:0f743cc2-6e19-41e4-aad8-79cb567e3158\" target=\"_top\" title=\"psysml:0f743cc2-6e19-41e4-aad8-79cb567e3158\" xlink:actuate=\"onRequest\" xlink:href=\"psysml:0f743cc2-6e19-41e4-aad8-79cb567e3158\" xlink:show=\"new\" xlink:title=\"psysml:0f743cc2-6e19-41e4-aad8-79cb567e3158\" xlink:type=\"simple\"><path d=\"M423.34,213.46 C414.55,225.66 394.99,252.8 379.37,274.46 \" fill=\"none\" id=\"E4-&gt;E5\" style=\"stroke: #383838; stroke-width: 1.0;\"/><polygon fill=\"#383838\" points=\"376.31,278.71,384.8093,273.7339,379.227,274.6491,378.3119,269.0667,376.31,278.71\" style=\"stroke: #383838; stroke-width: 1.0;\"/><text fill=\"#000000\" font-family=\"sans-serif\" font-size=\"13\" lengthAdjust=\"spacingAndGlyphs\" textLength=\"7\" x=\"372.7684\" y=\"268.1162\">*</text></a><!--MD5=[9120cf2e5df3bff93db8f754bbbc09b4]\n",
       "link E5 to E6--><a href=\"psysml:3404b4e6-fa1c-4cf0-a87f-a7f8eafbc3bc\" target=\"_top\" title=\"psysml:3404b4e6-fa1c-4cf0-a87f-a7f8eafbc3bc\" xlink:actuate=\"onRequest\" xlink:href=\"psysml:3404b4e6-fa1c-4cf0-a87f-a7f8eafbc3bc\" xlink:show=\"new\" xlink:title=\"psysml:3404b4e6-fa1c-4cf0-a87f-a7f8eafbc3bc\" xlink:type=\"simple\"><path d=\"M355.77,334.12 C354.81,354.89 353.48,383.8 352.46,405.77 \" fill=\"none\" id=\"E5-&gt;E6\" style=\"stroke: #383838; stroke-width: 1.0;\"/><polygon fill=\"#383838\" points=\"352.23,410.91,356.6368,402.1021,352.4583,405.9152,348.6452,401.7367,352.23,410.91\" style=\"stroke: #383838; stroke-width: 1.0;\"/><text fill=\"#000000\" font-family=\"sans-serif\" font-size=\"13\" lengthAdjust=\"spacingAndGlyphs\" textLength=\"7\" x=\"344.7051\" y=\"399.9247\">*</text></a><!--MD5=[02c70b7c851c11e3980e4e90450dc5dd]\n",
       "link E6 to E7--><a href=\"psysml:a56f0975-9bdd-4db4-ac34-32a8d14536cf\" target=\"_top\" title=\"psysml:a56f0975-9bdd-4db4-ac34-32a8d14536cf\" xlink:actuate=\"onRequest\" xlink:href=\"psysml:a56f0975-9bdd-4db4-ac34-32a8d14536cf\" xlink:show=\"new\" xlink:title=\"psysml:a56f0975-9bdd-4db4-ac34-32a8d14536cf\" xlink:type=\"simple\"><path d=\"M371.3,466.16 C386.71,486.4 407.07,513.14 418.09,527.61 \" fill=\"none\" id=\"E6-&gt;E7\" style=\"stroke: #383838; stroke-width: 1.0;\"/><polygon fill=\"#383838\" points=\"421.2,531.69,418.9398,522.104,418.1749,527.7089,412.57,526.9441,421.2,531.69\" style=\"stroke: #383838; stroke-width: 1.0;\"/><text fill=\"#000000\" font-family=\"sans-serif\" font-size=\"13\" lengthAdjust=\"spacingAndGlyphs\" textLength=\"7\" x=\"406.9375\" y=\"515.8563\">*</text></a><!--MD5=[6bdd27f9905911a7e892a3dc65cf6b7c]\n",
       "link E7 to E4--><a href=\"psysml:2a79c4d0-9744-4107-95b5-d9c642bb083b\" target=\"_top\" title=\"psysml:2a79c4d0-9744-4107-95b5-d9c642bb083b\" xlink:actuate=\"onRequest\" xlink:href=\"psysml:2a79c4d0-9744-4107-95b5-d9c642bb083b\" xlink:show=\"new\" xlink:title=\"psysml:2a79c4d0-9744-4107-95b5-d9c642bb083b\" xlink:type=\"simple\"><path d=\"M427.98,528.56 C434.8,494.71 456.32,376.18 445,279 C442.59,258.32 436.42,234.96 432.21,220.61 \" fill=\"none\" id=\"E7-&gt;E4\" style=\"stroke: #383838; stroke-width: 1.0;\"/><polygon fill=\"#383838\" points=\"430.76,215.75,429.4935,225.5171,432.1863,220.5423,437.1611,223.2351,430.76,215.75\" style=\"stroke: #383838; stroke-width: 1.0;\"/><text fill=\"#000000\" font-family=\"sans-serif\" font-size=\"13\" lengthAdjust=\"spacingAndGlyphs\" textLength=\"36\" x=\"448\" y=\"377.0669\">[true]</text><text fill=\"#000000\" font-family=\"sans-serif\" font-size=\"13\" lengthAdjust=\"spacingAndGlyphs\" textLength=\"7\" x=\"423.3253\" y=\"237.9903\">*</text></a><!--MD5=[6fbd87bdc2ae8cfc8354ab6db59e0a2f]\n",
       "@startuml\r\n",
       "top to bottom direction\r\n",
       "skinparam monochrome true\r\n",
       "skinparam classbackgroundcolor white\r\n",
       "skinparam shadowing false\r\n",
       "skinparam wrapWidth 300\r\n",
       "hide circle\r\n",
       "\r\n",
       "package \"ActionTest\" as E1  [[psysml:b606a038-0c45-436f-a3a1-beef47fa0e17 ]]  {\r\n",
       "comp def \"S\" as E2  <<(T,blue) attribute  def>> [[psysml:f9329402-d9ed-482b-aa71-2e931e2796d7 ]] {\r\n",
       "}\r\n",
       "rec usage \"a\" as E3  <<(T,blue) action>> [[psysml:69e16b91-de61-4fe2-8ebf-63b040d0687a ]] {\r\n",
       "choice \"m\" as E4  [[psysml:ba661374-e1ab-49de-aa21-c62362c65829 ]] \r\n",
       "accept \" S\" as E5 << accept action>> [[psysml:dcf8e234-4de8-4cb8-a947-17c2138066f0 ]] \r\n",
       "send \" S() to  B()\" as E6 << send action>> [[psysml:18c3d457-6bb3-4962-a480-0e1b2254a09a ]] \r\n",
       "choice \"<s>noname</s>\" as E7  [[psysml:1cf4a57b-2f41-48db-bb2e-4817b665eacc ]] \r\n",
       "[*] - -> E4 [[psysml:8ec85343-59fa-499c-a77c-a2bbf8c30a9c ]] \r\n",
       "E7  - -> [*] [[psysml:0d9f4e26-bf93-4aba-a8c6-6dafeae60007 ]] \r\n",
       "}\r\n",
       "\r\n",
       "rec def \"B\" as E8  <<(T,blue) action  def>> [[psysml:530e5343-b7af-483f-85a0-93ec425d0302 ]] {\r\n",
       "}\r\n",
       "\r\n",
       "}\r\n",
       "E4 - -> \"*\"E5 [[psysml:0f743cc2-6e19-41e4-aad8-79cb567e3158 ]] \r\n",
       "E5 - -> \"*\"E6 [[psysml:3404b4e6-fa1c-4cf0-a87f-a7f8eafbc3bc ]] \r\n",
       "E6 - -> \"*\"E7 [[psysml:a56f0975-9bdd-4db4-ac34-32a8d14536cf ]] \r\n",
       "E7  - -> \"*\"E4 [[psysml:2a79c4d0-9744-4107-95b5-d9c642bb083b ]] : [true]\r\n",
       "@enduml\r\n",
       "\n",
       "PlantUML version 1.2020.13(Sat Jun 13 12:26:38 UTC 2020)\n",
       "(EPL source distribution)\n",
       "Java Runtime: OpenJDK Runtime Environment\n",
       "JVM: OpenJDK 64-Bit Server VM\n",
       "Default Encoding: UTF-8\n",
       "Language: en\n",
       "Country: null\n",
       "--></g></svg>"
      ]
     },
     "execution_count": 50,
     "metadata": {},
     "output_type": "execute_result"
    }
   ],
   "source": [
    "%viz --style=\"TB\" --view=\"MIXED\" \"ActionTest\""
   ]
  },
  {
   "cell_type": "code",
   "execution_count": 51,
   "id": "d66d67a6",
   "metadata": {
    "execution": {
     "iopub.execute_input": "2021-10-25T08:21:25.902870Z",
     "iopub.status.busy": "2021-10-25T08:21:25.902472Z",
     "iopub.status.idle": "2021-10-25T08:21:25.947544Z",
     "shell.execute_reply": "2021-10-25T08:21:25.945865Z"
    }
   },
   "outputs": [
    {
     "data": {
      "image/svg+xml": [
       "<?xml version=\"1.0\" encoding=\"UTF-8\" standalone=\"no\"?><svg xmlns=\"http://www.w3.org/2000/svg\" xmlns:xlink=\"http://www.w3.org/1999/xlink\" contentScriptType=\"application/ecmascript\" contentStyleType=\"text/css\" height=\"684px\" preserveAspectRatio=\"none\" style=\"width:526px;height:684px;\" version=\"1.1\" viewBox=\"0 0 526 684\" width=\"526px\" zoomAndPan=\"magnify\"><defs/><g><!--MD5=[fbc87193dbaf4d95561dea2c320d4a47]\n",
       "cluster E1--><a href=\"psysml:b606a038-0c45-436f-a3a1-beef47fa0e17\" target=\"_top\" title=\"psysml:b606a038-0c45-436f-a3a1-beef47fa0e17\" xlink:actuate=\"onRequest\" xlink:href=\"psysml:b606a038-0c45-436f-a3a1-beef47fa0e17\" xlink:show=\"new\" xlink:title=\"psysml:b606a038-0c45-436f-a3a1-beef47fa0e17\" xlink:type=\"simple\"><polygon fill=\"#FFFFFF\" points=\"16,6,96,6,103,28.2969,504,28.2969,504,672,16,672,16,6\" style=\"stroke: #000000; stroke-width: 1.5;\"/><line style=\"stroke: #000000; stroke-width: 1.5;\" x1=\"16\" x2=\"103\" y1=\"28.2969\" y2=\"28.2969\"/><text fill=\"#000000\" font-family=\"sans-serif\" font-size=\"14\" font-weight=\"bold\" lengthAdjust=\"spacingAndGlyphs\" textLength=\"74\" x=\"20\" y=\"20.9951\">ActionTest</text></a><!--MD5=[d5e69f78d87373223dbae638b30a9c99]\n",
       "cluster E3--><a href=\"psysml:69e16b91-de61-4fe2-8ebf-63b040d0687a\" target=\"_top\" title=\"psysml:69e16b91-de61-4fe2-8ebf-63b040d0687a\" xlink:actuate=\"onRequest\" xlink:href=\"psysml:69e16b91-de61-4fe2-8ebf-63b040d0687a\" xlink:show=\"new\" xlink:title=\"psysml:69e16b91-de61-4fe2-8ebf-63b040d0687a\" xlink:type=\"simple\"><rect fill=\"#FFFFFF\" height=\"599\" id=\"E3\" rx=\"10\" ry=\"10\" style=\"stroke: #383838; stroke-width: 1.5;\" width=\"209\" x=\"271\" y=\"49\"/><rect fill=\"#F8F8F8\" height=\"37.9375\" rx=\"10\" ry=\"10\" style=\"stroke: #F8F8F8; stroke-width: 1.5;\" width=\"209\" x=\"271\" y=\"49\"/><rect fill=\"#F8F8F8\" height=\"10\" style=\"stroke: #F8F8F8; stroke-width: 1.5;\" width=\"209\" x=\"271\" y=\"76.9375\"/><rect fill=\"none\" height=\"599\" id=\"E3\" rx=\"10\" ry=\"10\" style=\"stroke: #383838; stroke-width: 1.5;\" width=\"209\" x=\"271\" y=\"49\"/><text fill=\"#000000\" font-family=\"sans-serif\" font-size=\"12\" font-style=\"italic\" lengthAdjust=\"spacingAndGlyphs\" textLength=\"53\" x=\"349\" y=\"65.1387\">«action»</text><text fill=\"#000000\" font-family=\"sans-serif\" font-size=\"12\" lengthAdjust=\"spacingAndGlyphs\" textLength=\"8\" x=\"371.5\" y=\"79.1074\">a</text><line style=\"stroke: #383838; stroke-width: 1.0;\" x1=\"271\" x2=\"480\" y1=\"86.9375\" y2=\"86.9375\"/></a><!--MD5=[b4997ac47864f28c2f74865a473b2911]\n",
       "class E2--><a href=\"psysml:f9329402-d9ed-482b-aa71-2e931e2796d7\" target=\"_top\" title=\"psysml:f9329402-d9ed-482b-aa71-2e931e2796d7\" xlink:actuate=\"onRequest\" xlink:href=\"psysml:f9329402-d9ed-482b-aa71-2e931e2796d7\" xlink:show=\"new\" xlink:title=\"psysml:f9329402-d9ed-482b-aa71-2e931e2796d7\" xlink:type=\"simple\"><rect fill=\"#FFFFFF\" height=\"45.9375\" id=\"E2\" style=\"stroke: #383838; stroke-width: 1.5;\" width=\"99\" x=\"155.5\" y=\"87\"/><text fill=\"#000000\" font-family=\"sans-serif\" font-size=\"12\" font-style=\"italic\" lengthAdjust=\"spacingAndGlyphs\" textLength=\"97\" x=\"156.5\" y=\"103.1387\">«attribute  def»</text><text fill=\"#000000\" font-family=\"sans-serif\" font-size=\"12\" lengthAdjust=\"spacingAndGlyphs\" textLength=\"8\" x=\"201\" y=\"117.1074\">S</text><line style=\"stroke: #383838; stroke-width: 1.5;\" x1=\"156.5\" x2=\"253.5\" y1=\"124.9375\" y2=\"124.9375\"/></a><polygon fill=\"#F8F8F8\" points=\"428,194,440,206,428,218,416,206,428,194\" style=\"stroke: #383838; stroke-width: 1.5;\"/><!--MD5=[21dd76c19d33815960c0e92fef8f0eef]\n",
       "entity E5--><a href=\"psysml:dcf8e234-4de8-4cb8-a947-17c2138066f0\" target=\"_top\" title=\"psysml:dcf8e234-4de8-4cb8-a947-17c2138066f0\" xlink:actuate=\"onRequest\" xlink:href=\"psysml:dcf8e234-4de8-4cb8-a947-17c2138066f0\" xlink:show=\"new\" xlink:title=\"psysml:dcf8e234-4de8-4cb8-a947-17c2138066f0\" xlink:type=\"simple\"><polygon fill=\"#F8F8F8\" points=\"287,279,287,333.5938,427,333.5938,407,306.2969,427,279\" style=\"stroke: #000000; stroke-width: 1.5;\"/><text fill=\"#000000\" font-family=\"sans-serif\" font-size=\"14\" font-style=\"italic\" lengthAdjust=\"spacingAndGlyphs\" textLength=\"111\" x=\"294\" y=\"301.9951\">«accept action»</text><text fill=\"#000000\" font-family=\"sans-serif\" font-size=\"14\" lengthAdjust=\"spacingAndGlyphs\" textLength=\"9\" x=\"345\" y=\"319.292\">S</text></a><!--MD5=[24d87cdf3002d433f401b2a2aa9f9f65]\n",
       "entity E6--><a href=\"psysml:18c3d457-6bb3-4962-a480-0e1b2254a09a\" target=\"_top\" title=\"psysml:18c3d457-6bb3-4962-a480-0e1b2254a09a\" xlink:actuate=\"onRequest\" xlink:href=\"psysml:18c3d457-6bb3-4962-a480-0e1b2254a09a\" xlink:show=\"new\" xlink:title=\"psysml:18c3d457-6bb3-4962-a480-0e1b2254a09a\" xlink:type=\"simple\"><polygon fill=\"#F8F8F8\" points=\"287,411,287,465.5938,395,465.5938,415,438.2969,395,411\" style=\"stroke: #000000; stroke-width: 1.5;\"/><text fill=\"#000000\" font-family=\"sans-serif\" font-size=\"14\" font-style=\"italic\" lengthAdjust=\"spacingAndGlyphs\" textLength=\"99\" x=\"294\" y=\"433.9951\">«send action»</text><text fill=\"#000000\" font-family=\"sans-serif\" font-size=\"14\" lengthAdjust=\"spacingAndGlyphs\" textLength=\"65\" x=\"311\" y=\"451.292\">S() to  B()</text></a><polygon fill=\"#F8F8F8\" points=\"426,527,438,539,426,551,414,539,426,527\" style=\"stroke: #383838; stroke-width: 1.5;\"/><ellipse cx=\"428\" cy=\"110\" fill=\"#000000\" rx=\"10\" ry=\"10\" style=\"stroke: none; stroke-width: 1.0;\"/><ellipse cx=\"426\" cy=\"622\" fill=\"none\" rx=\"10\" ry=\"10\" style=\"stroke: #000000; stroke-width: 1.0;\"/><ellipse cx=\"426.5\" cy=\"622.5\" fill=\"#000000\" rx=\"6\" ry=\"6\" style=\"stroke: none; stroke-width: 1.0;\"/><g id=\"E1.E8\"><a href=\"psysml:530e5343-b7af-483f-85a0-93ec425d0302\" target=\"_top\" title=\"psysml:530e5343-b7af-483f-85a0-93ec425d0302\" xlink:actuate=\"onRequest\" xlink:href=\"psysml:530e5343-b7af-483f-85a0-93ec425d0302\" xlink:show=\"new\" xlink:title=\"psysml:530e5343-b7af-483f-85a0-93ec425d0302\" xlink:type=\"simple\"><rect fill=\"#FFFFFF\" height=\"42.9375\" id=\"E8\" style=\"stroke: #383838; stroke-width: 1.5;\" width=\"88\" x=\"32\" y=\"88.5\"/><rect fill=\"#F8F8F8\" height=\"37.9375\" style=\"stroke: #383838; stroke-width: 1.5;\" width=\"88\" x=\"32\" y=\"88.5\"/><text fill=\"#000000\" font-family=\"sans-serif\" font-size=\"12\" font-style=\"italic\" lengthAdjust=\"spacingAndGlyphs\" textLength=\"81\" x=\"35.5\" y=\"104.6387\">«action  def»</text><text fill=\"#000000\" font-family=\"sans-serif\" font-size=\"12\" lengthAdjust=\"spacingAndGlyphs\" textLength=\"8\" x=\"72\" y=\"118.6074\">B</text></a></g><!--MD5=[f47e10efcf9a6752d55dae986d790ed9]\n",
       "link *start*E3 to E4--><a href=\"psysml:8ec85343-59fa-499c-a77c-a2bbf8c30a9c\" target=\"_top\" title=\"psysml:8ec85343-59fa-499c-a77c-a2bbf8c30a9c\" xlink:actuate=\"onRequest\" xlink:href=\"psysml:8ec85343-59fa-499c-a77c-a2bbf8c30a9c\" xlink:show=\"new\" xlink:title=\"psysml:8ec85343-59fa-499c-a77c-a2bbf8c30a9c\" xlink:type=\"simple\"><path d=\"M428,120.27 C428,120.27 428,188.7 428,188.7 \" fill=\"none\" id=\"*start*E3-&gt;E4\" style=\"stroke: #383838; stroke-width: 1.0;\"/><polygon fill=\"#383838\" points=\"428,193.7,432,184.7,428,188.7,424,184.7,428,193.7\" style=\"stroke: #383838; stroke-width: 1.0;\"/></a><!--MD5=[d19f2eb34364d71b67042106d92f540b]\n",
       "link E7 to *end*E3--><a href=\"psysml:0d9f4e26-bf93-4aba-a8c6-6dafeae60007\" target=\"_top\" title=\"psysml:0d9f4e26-bf93-4aba-a8c6-6dafeae60007\" xlink:actuate=\"onRequest\" xlink:href=\"psysml:0d9f4e26-bf93-4aba-a8c6-6dafeae60007\" xlink:show=\"new\" xlink:title=\"psysml:0d9f4e26-bf93-4aba-a8c6-6dafeae60007\" xlink:type=\"simple\"><path d=\"M426,551.25 C426,551.25 426,606.8 426,606.8 \" fill=\"none\" id=\"E7-&gt;*end*E3\" style=\"stroke: #383838; stroke-width: 1.0;\"/><polygon fill=\"#383838\" points=\"426,611.8,430,602.8,426,606.8,422,602.8,426,611.8\" style=\"stroke: #383838; stroke-width: 1.0;\"/></a><!--MD5=[1b7591eae5389033d8d09a9d6721a717]\n",
       "link E4 to E5--><a href=\"psysml:0f743cc2-6e19-41e4-aad8-79cb567e3158\" target=\"_top\" title=\"psysml:0f743cc2-6e19-41e4-aad8-79cb567e3158\" xlink:actuate=\"onRequest\" xlink:href=\"psysml:0f743cc2-6e19-41e4-aad8-79cb567e3158\" xlink:show=\"new\" xlink:title=\"psysml:0f743cc2-6e19-41e4-aad8-79cb567e3158\" xlink:type=\"simple\"><path d=\"M421.5,211.69 C421.5,211.69 421.5,273.98 421.5,273.98 \" fill=\"none\" id=\"E4-&gt;E5\" style=\"stroke: #383838; stroke-width: 1.0;\"/><polygon fill=\"#383838\" points=\"421.5,278.98,425.5,269.98,421.5,273.98,417.5,269.98,421.5,278.98\" style=\"stroke: #383838; stroke-width: 1.0;\"/><text fill=\"#000000\" font-family=\"sans-serif\" font-size=\"13\" lengthAdjust=\"spacingAndGlyphs\" textLength=\"7\" x=\"428.6063\" y=\"268.0108\">*</text></a><!--MD5=[9120cf2e5df3bff93db8f754bbbc09b4]\n",
       "link E5 to E6--><a href=\"psysml:3404b4e6-fa1c-4cf0-a87f-a7f8eafbc3bc\" target=\"_top\" title=\"psysml:3404b4e6-fa1c-4cf0-a87f-a7f8eafbc3bc\" xlink:actuate=\"onRequest\" xlink:href=\"psysml:3404b4e6-fa1c-4cf0-a87f-a7f8eafbc3bc\" xlink:show=\"new\" xlink:title=\"psysml:3404b4e6-fa1c-4cf0-a87f-a7f8eafbc3bc\" xlink:type=\"simple\"><path d=\"M351,334.17 C351,334.17 351,405.86 351,405.86 \" fill=\"none\" id=\"E5-&gt;E6\" style=\"stroke: #383838; stroke-width: 1.0;\"/><polygon fill=\"#383838\" points=\"351,410.86,355,401.86,351,405.86,347,401.86,351,410.86\" style=\"stroke: #383838; stroke-width: 1.0;\"/><text fill=\"#000000\" font-family=\"sans-serif\" font-size=\"13\" lengthAdjust=\"spacingAndGlyphs\" textLength=\"7\" x=\"343.1906\" y=\"399.8631\">*</text></a><!--MD5=[02c70b7c851c11e3980e4e90450dc5dd]\n",
       "link E6 to E7--><a href=\"psysml:a56f0975-9bdd-4db4-ac34-32a8d14536cf\" target=\"_top\" title=\"psysml:a56f0975-9bdd-4db4-ac34-32a8d14536cf\" xlink:actuate=\"onRequest\" xlink:href=\"psysml:a56f0975-9bdd-4db4-ac34-32a8d14536cf\" xlink:show=\"new\" xlink:title=\"psysml:a56f0975-9bdd-4db4-ac34-32a8d14536cf\" xlink:type=\"simple\"><path d=\"M415.03,439 C418.74,439 421,439 421,439 C421,439 421,526.81 421,526.81 \" fill=\"none\" id=\"E6-&gt;E7\" style=\"stroke: #383838; stroke-width: 1.0;\"/><polygon fill=\"#383838\" points=\"421,531.81,425,522.81,421,526.81,417,522.81,421,531.81\" style=\"stroke: #383838; stroke-width: 1.0;\"/><text fill=\"#000000\" font-family=\"sans-serif\" font-size=\"13\" lengthAdjust=\"spacingAndGlyphs\" textLength=\"7\" x=\"406.5625\" y=\"516.0813\">*</text></a><!--MD5=[6bdd27f9905911a7e892a3dc65cf6b7c]\n",
       "link E7 to E4--><a href=\"psysml:2a79c4d0-9744-4107-95b5-d9c642bb083b\" target=\"_top\" title=\"psysml:2a79c4d0-9744-4107-95b5-d9c642bb083b\" xlink:actuate=\"onRequest\" xlink:href=\"psysml:2a79c4d0-9744-4107-95b5-d9c642bb083b\" xlink:show=\"new\" xlink:title=\"psysml:2a79c4d0-9744-4107-95b5-d9c642bb083b\" xlink:type=\"simple\"><path d=\"M432.5,533.5 C432.5,533.5 432.5,218.64 432.5,218.64 \" fill=\"none\" id=\"E7-&gt;E4\" style=\"stroke: #383838; stroke-width: 1.0;\"/><polygon fill=\"#383838\" points=\"432.5,213.64,428.5,222.64,432.5,218.64,436.5,222.64,432.5,213.64\" style=\"stroke: #383838; stroke-width: 1.0;\"/><text fill=\"#000000\" font-family=\"sans-serif\" font-size=\"13\" lengthAdjust=\"spacingAndGlyphs\" textLength=\"36\" x=\"427\" y=\"377.0669\">[true]</text><text fill=\"#000000\" font-family=\"sans-serif\" font-size=\"13\" lengthAdjust=\"spacingAndGlyphs\" textLength=\"7\" x=\"426.325\" y=\"238.2522\">*</text></a><!--MD5=[4d48253dd6b463f93c510030e9633fd8]\n",
       "@startuml\r\n",
       "skinparam linetype ortho\r\n",
       "skinparam monochrome true\r\n",
       "skinparam classbackgroundcolor white\r\n",
       "skinparam shadowing false\r\n",
       "skinparam wrapWidth 300\r\n",
       "hide circle\r\n",
       "\r\n",
       "package \"ActionTest\" as E1  [[psysml:b606a038-0c45-436f-a3a1-beef47fa0e17 ]]  {\r\n",
       "comp def \"S\" as E2  <<(T,blue) attribute  def>> [[psysml:f9329402-d9ed-482b-aa71-2e931e2796d7 ]] {\r\n",
       "}\r\n",
       "rec usage \"a\" as E3  <<(T,blue) action>> [[psysml:69e16b91-de61-4fe2-8ebf-63b040d0687a ]] {\r\n",
       "choice \"m\" as E4  [[psysml:ba661374-e1ab-49de-aa21-c62362c65829 ]] \r\n",
       "accept \" S\" as E5 << accept action>> [[psysml:dcf8e234-4de8-4cb8-a947-17c2138066f0 ]] \r\n",
       "send \" S() to  B()\" as E6 << send action>> [[psysml:18c3d457-6bb3-4962-a480-0e1b2254a09a ]] \r\n",
       "choice \"<s>noname</s>\" as E7  [[psysml:1cf4a57b-2f41-48db-bb2e-4817b665eacc ]] \r\n",
       "[*] - -> E4 [[psysml:8ec85343-59fa-499c-a77c-a2bbf8c30a9c ]] \r\n",
       "E7  - -> [*] [[psysml:0d9f4e26-bf93-4aba-a8c6-6dafeae60007 ]] \r\n",
       "}\r\n",
       "\r\n",
       "rec def \"B\" as E8  <<(T,blue) action  def>> [[psysml:530e5343-b7af-483f-85a0-93ec425d0302 ]] {\r\n",
       "}\r\n",
       "\r\n",
       "}\r\n",
       "E4 - -> \"*\"E5 [[psysml:0f743cc2-6e19-41e4-aad8-79cb567e3158 ]] \r\n",
       "E5 - -> \"*\"E6 [[psysml:3404b4e6-fa1c-4cf0-a87f-a7f8eafbc3bc ]] \r\n",
       "E6 - -> \"*\"E7 [[psysml:a56f0975-9bdd-4db4-ac34-32a8d14536cf ]] \r\n",
       "E7  - -> \"*\"E4 [[psysml:2a79c4d0-9744-4107-95b5-d9c642bb083b ]] : [true]\r\n",
       "@enduml\r\n",
       "\n",
       "PlantUML version 1.2020.13(Sat Jun 13 12:26:38 UTC 2020)\n",
       "(EPL source distribution)\n",
       "Java Runtime: OpenJDK Runtime Environment\n",
       "JVM: OpenJDK 64-Bit Server VM\n",
       "Default Encoding: UTF-8\n",
       "Language: en\n",
       "Country: null\n",
       "--></g></svg>"
      ]
     },
     "execution_count": 51,
     "metadata": {},
     "output_type": "execute_result"
    }
   ],
   "source": [
    "%viz --style=\"ORTHOLINE\" --view=\"Default\" \"ActionTest\""
   ]
  },
  {
   "cell_type": "code",
   "execution_count": 52,
   "id": "65a53713",
   "metadata": {
    "execution": {
     "iopub.execute_input": "2021-10-25T08:21:25.996745Z",
     "iopub.status.busy": "2021-10-25T08:21:25.996340Z",
     "iopub.status.idle": "2021-10-25T08:21:26.116395Z",
     "shell.execute_reply": "2021-10-25T08:21:26.114479Z"
    }
   },
   "outputs": [
    {
     "data": {
      "image/svg+xml": [
       "<?xml version=\"1.0\" encoding=\"UTF-8\" standalone=\"no\"?><svg xmlns=\"http://www.w3.org/2000/svg\" xmlns:xlink=\"http://www.w3.org/1999/xlink\" contentScriptType=\"application/ecmascript\" contentStyleType=\"text/css\" height=\"479px\" preserveAspectRatio=\"none\" style=\"width:698px;height:479px;\" version=\"1.1\" viewBox=\"0 0 698 479\" width=\"698px\" zoomAndPan=\"magnify\"><defs/><g><!--MD5=[fbc87193dbaf4d95561dea2c320d4a47]\n",
       "cluster E1--><a href=\"psysml:b606a038-0c45-436f-a3a1-beef47fa0e17\" target=\"_top\" title=\"psysml:b606a038-0c45-436f-a3a1-beef47fa0e17\" xlink:actuate=\"onRequest\" xlink:href=\"psysml:b606a038-0c45-436f-a3a1-beef47fa0e17\" xlink:show=\"new\" xlink:title=\"psysml:b606a038-0c45-436f-a3a1-beef47fa0e17\" xlink:type=\"simple\"><polygon fill=\"#FFFFFF\" points=\"16,6,96,6,103,28.2969,676,28.2969,676,467,16,467,16,6\" style=\"stroke: #000000; stroke-width: 1.5;\"/><line style=\"stroke: #000000; stroke-width: 1.5;\" x1=\"16\" x2=\"103\" y1=\"28.2969\" y2=\"28.2969\"/><text fill=\"#000000\" font-family=\"sans-serif\" font-size=\"14\" font-weight=\"bold\" lengthAdjust=\"spacingAndGlyphs\" textLength=\"74\" x=\"20\" y=\"20.9951\">ActionTest</text></a><!--MD5=[b4997ac47864f28c2f74865a473b2911]\n",
       "class E2--><a href=\"psysml:f9329402-d9ed-482b-aa71-2e931e2796d7\" target=\"_top\" title=\"psysml:f9329402-d9ed-482b-aa71-2e931e2796d7\" xlink:actuate=\"onRequest\" xlink:href=\"psysml:f9329402-d9ed-482b-aa71-2e931e2796d7\" xlink:show=\"new\" xlink:title=\"psysml:f9329402-d9ed-482b-aa71-2e931e2796d7\" xlink:type=\"simple\"><rect fill=\"#FFFFFF\" height=\"45.9375\" id=\"E2\" style=\"stroke: #383838; stroke-width: 1.5;\" width=\"99\" x=\"283.5\" y=\"405\"/><text fill=\"#000000\" font-family=\"sans-serif\" font-size=\"12\" font-style=\"italic\" lengthAdjust=\"spacingAndGlyphs\" textLength=\"97\" x=\"284.5\" y=\"421.1387\">«attribute  def»</text><text fill=\"#000000\" font-family=\"sans-serif\" font-size=\"12\" lengthAdjust=\"spacingAndGlyphs\" textLength=\"8\" x=\"329\" y=\"435.1074\">S</text><line style=\"stroke: #383838; stroke-width: 1.5;\" x1=\"284.5\" x2=\"381.5\" y1=\"442.9375\" y2=\"442.9375\"/></a><!--MD5=[09b614a08d8cba4a07c9adeb5e0fee81]\n",
       "class E3--><a href=\"psysml:69e16b91-de61-4fe2-8ebf-63b040d0687a\" target=\"_top\" title=\"psysml:69e16b91-de61-4fe2-8ebf-63b040d0687a\" xlink:actuate=\"onRequest\" xlink:href=\"psysml:69e16b91-de61-4fe2-8ebf-63b040d0687a\" xlink:show=\"new\" xlink:title=\"psysml:69e16b91-de61-4fe2-8ebf-63b040d0687a\" xlink:type=\"simple\"><rect fill=\"#FFFFFF\" height=\"156.375\" id=\"E3\" rx=\"10\" ry=\"10\" style=\"stroke: #383838; stroke-width: 1.5;\" width=\"79\" x=\"293.5\" y=\"41\"/><text fill=\"#000000\" font-family=\"sans-serif\" font-size=\"12\" font-style=\"italic\" lengthAdjust=\"spacingAndGlyphs\" textLength=\"53\" x=\"306.5\" y=\"57.1387\">«action»</text><text fill=\"#000000\" font-family=\"sans-serif\" font-size=\"12\" lengthAdjust=\"spacingAndGlyphs\" textLength=\"8\" x=\"329\" y=\"71.1074\">a</text><line style=\"stroke: #383838; stroke-width: 1.5;\" x1=\"294.5\" x2=\"371.5\" y1=\"78.9375\" y2=\"78.9375\"/><text fill=\"#000000\" font-family=\"sans-serif\" font-size=\"11\" lengthAdjust=\"spacingAndGlyphs\" textLength=\"11\" x=\"299.5\" y=\"109.9526\">to</text><text fill=\"#000000\" font-family=\"sans-serif\" font-size=\"11\" lengthAdjust=\"spacingAndGlyphs\" textLength=\"11\" x=\"299.5\" y=\"122.7573\">to</text><text fill=\"#000000\" font-family=\"sans-serif\" font-size=\"11\" lengthAdjust=\"spacingAndGlyphs\" textLength=\"11\" x=\"299.5\" y=\"135.562\">to</text><text fill=\"#000000\" font-family=\"sans-serif\" font-size=\"11\" lengthAdjust=\"spacingAndGlyphs\" textLength=\"11\" x=\"299.5\" y=\"148.3667\">to</text><line style=\"stroke: #383838; stroke-width: 1.0;\" x1=\"294.5\" x2=\"297.5\" y1=\"93.3398\" y2=\"93.3398\"/><text fill=\"#000000\" font-family=\"sans-serif\" font-size=\"11\" lengthAdjust=\"spacingAndGlyphs\" textLength=\"71\" x=\"297.5\" y=\"96.6479\">successions</text><line style=\"stroke: #383838; stroke-width: 1.0;\" x1=\"368.5\" x2=\"371.5\" y1=\"93.3398\" y2=\"93.3398\"/><text fill=\"#000000\" font-family=\"sans-serif\" font-size=\"11\" lengthAdjust=\"spacingAndGlyphs\" textLength=\"0\" x=\"303.5\" y=\"177.9761\"/><text fill=\"#000000\" font-family=\"sans-serif\" font-size=\"11\" lengthAdjust=\"spacingAndGlyphs\" textLength=\"0\" x=\"303.5\" y=\"190.7808\"/><line style=\"stroke: #383838; stroke-width: 1.0;\" x1=\"294.5\" x2=\"302.5\" y1=\"161.3633\" y2=\"161.3633\"/><text fill=\"#000000\" font-family=\"sans-serif\" font-size=\"11\" lengthAdjust=\"spacingAndGlyphs\" textLength=\"61\" x=\"302.5\" y=\"164.6714\">transitions</text><line style=\"stroke: #383838; stroke-width: 1.0;\" x1=\"363.5\" x2=\"371.5\" y1=\"161.3633\" y2=\"161.3633\"/></a><!--MD5=[ebbe1d658d1005bcc118a6aa81145e00]\n",
       "class E4--><a href=\"psysml:d8f546a6-9527-45eb-b0f0-0c3fcbb6d2a9\" target=\"_top\" title=\"psysml:d8f546a6-9527-45eb-b0f0-0c3fcbb6d2a9\" xlink:actuate=\"onRequest\" xlink:href=\"psysml:d8f546a6-9527-45eb-b0f0-0c3fcbb6d2a9\" xlink:show=\"new\" xlink:title=\"psysml:d8f546a6-9527-45eb-b0f0-0c3fcbb6d2a9\" xlink:type=\"simple\"><rect fill=\"#FFFFFF\" height=\"45.9375\" id=\"E4\" rx=\"10\" ry=\"10\" style=\"stroke: #383838; stroke-width: 1.5;\" width=\"87\" x=\"32.5\" y=\"278\"/><text fill=\"#000000\" font-family=\"sans-serif\" font-size=\"12\" font-style=\"italic\" lengthAdjust=\"spacingAndGlyphs\" textLength=\"53\" x=\"49.5\" y=\"294.1387\">«action»</text><text fill=\"#000000\" font-family=\"sans-serif\" font-size=\"12\" lengthAdjust=\"spacingAndGlyphs\" textLength=\"77\" x=\"35.5\" y=\"308.1074\">start: Action</text><line style=\"stroke: #383838; stroke-width: 1.5;\" x1=\"33.5\" x2=\"118.5\" y1=\"315.9375\" y2=\"315.9375\"/></a><!--MD5=[270fce915f116d4de14055a7c1d9a0f3]\n",
       "class E5--><a href=\"psysml:ba661374-e1ab-49de-aa21-c62362c65829\" target=\"_top\" title=\"psysml:ba661374-e1ab-49de-aa21-c62362c65829\" xlink:actuate=\"onRequest\" xlink:href=\"psysml:ba661374-e1ab-49de-aa21-c62362c65829\" xlink:show=\"new\" xlink:title=\"psysml:ba661374-e1ab-49de-aa21-c62362c65829\" xlink:type=\"simple\"><rect fill=\"#FFFFFF\" height=\"45.9375\" id=\"E5\" rx=\"10\" ry=\"10\" style=\"stroke: #383838; stroke-width: 1.5;\" width=\"92\" x=\"155\" y=\"278\"/><text fill=\"#000000\" font-family=\"sans-serif\" font-size=\"12\" font-style=\"italic\" lengthAdjust=\"spacingAndGlyphs\" textLength=\"90\" x=\"156\" y=\"294.1387\">«merge node»</text><text fill=\"#000000\" font-family=\"sans-serif\" font-size=\"12\" lengthAdjust=\"spacingAndGlyphs\" textLength=\"11\" x=\"195.5\" y=\"308.1074\">m</text><line style=\"stroke: #383838; stroke-width: 1.5;\" x1=\"156\" x2=\"246\" y1=\"315.9375\" y2=\"315.9375\"/></a><!--MD5=[60a26617385b1d2d0262a64233df1f8d]\n",
       "class E6--><a href=\"psysml:dcf8e234-4de8-4cb8-a947-17c2138066f0\" target=\"_top\" title=\"psysml:dcf8e234-4de8-4cb8-a947-17c2138066f0\" xlink:actuate=\"onRequest\" xlink:href=\"psysml:dcf8e234-4de8-4cb8-a947-17c2138066f0\" xlink:show=\"new\" xlink:title=\"psysml:dcf8e234-4de8-4cb8-a947-17c2138066f0\" xlink:type=\"simple\"><rect fill=\"#FFFFFF\" height=\"88.3516\" id=\"E6\" rx=\"10\" ry=\"10\" style=\"stroke: #383838; stroke-width: 1.5;\" width=\"102\" x=\"282\" y=\"257\"/><text fill=\"#000000\" font-family=\"sans-serif\" font-size=\"12\" font-style=\"italic\" lengthAdjust=\"spacingAndGlyphs\" textLength=\"100\" x=\"283\" y=\"273.1387\">«accept action»</text><text fill=\"#000000\" font-family=\"sans-serif\" font-size=\"12\" lengthAdjust=\"spacingAndGlyphs\" text-decoration=\"line-through\" textLength=\"51\" x=\"307.5\" y=\"287.1074\">noname</text><line style=\"stroke: #383838; stroke-width: 1.5;\" x1=\"283\" x2=\"383\" y1=\"294.9375\" y2=\"294.9375\"/><text fill=\"#000000\" font-family=\"sans-serif\" font-size=\"11\" font-weight=\"bold\" lengthAdjust=\"spacingAndGlyphs\" textLength=\"10\" x=\"288\" y=\"325.9526\">in</text><text fill=\"#000000\" font-family=\"sans-serif\" font-size=\"11\" lengthAdjust=\"spacingAndGlyphs\" textLength=\"60\" x=\"302\" y=\"325.9526\">payload: S</text><text fill=\"#000000\" font-family=\"sans-serif\" font-size=\"11\" font-weight=\"bold\" lengthAdjust=\"spacingAndGlyphs\" textLength=\"10\" x=\"288\" y=\"338.7573\">in</text><text fill=\"#000000\" font-family=\"sans-serif\" font-size=\"11\" lengthAdjust=\"spacingAndGlyphs\" textLength=\"46\" x=\"302\" y=\"338.7573\">receiver</text><line style=\"stroke: #383838; stroke-width: 1.0;\" x1=\"283\" x2=\"299.5\" y1=\"309.3398\" y2=\"309.3398\"/><text fill=\"#000000\" font-family=\"sans-serif\" font-size=\"11\" lengthAdjust=\"spacingAndGlyphs\" textLength=\"67\" x=\"299.5\" y=\"312.6479\">parameters</text><line style=\"stroke: #383838; stroke-width: 1.0;\" x1=\"366.5\" x2=\"383\" y1=\"309.3398\" y2=\"309.3398\"/></a><!--MD5=[2156ba9850f5573cc1fc38a6a4b2f02b]\n",
       "class E7--><a href=\"psysml:18c3d457-6bb3-4962-a480-0e1b2254a09a\" target=\"_top\" title=\"psysml:18c3d457-6bb3-4962-a480-0e1b2254a09a\" xlink:actuate=\"onRequest\" xlink:href=\"psysml:18c3d457-6bb3-4962-a480-0e1b2254a09a\" xlink:show=\"new\" xlink:title=\"psysml:18c3d457-6bb3-4962-a480-0e1b2254a09a\" xlink:type=\"simple\"><rect fill=\"#FFFFFF\" height=\"88.3516\" id=\"E7\" rx=\"10\" ry=\"10\" style=\"stroke: #383838; stroke-width: 1.5;\" width=\"101\" x=\"419.5\" y=\"257\"/><text fill=\"#000000\" font-family=\"sans-serif\" font-size=\"12\" font-style=\"italic\" lengthAdjust=\"spacingAndGlyphs\" textLength=\"88\" x=\"426\" y=\"273.1387\">«send action»</text><text fill=\"#000000\" font-family=\"sans-serif\" font-size=\"12\" lengthAdjust=\"spacingAndGlyphs\" text-decoration=\"line-through\" textLength=\"51\" x=\"444.5\" y=\"287.1074\">noname</text><line style=\"stroke: #383838; stroke-width: 1.5;\" x1=\"420.5\" x2=\"519.5\" y1=\"294.9375\" y2=\"294.9375\"/><text fill=\"#000000\" font-family=\"sans-serif\" font-size=\"11\" font-weight=\"bold\" lengthAdjust=\"spacingAndGlyphs\" textLength=\"10\" x=\"425.5\" y=\"325.9526\">in</text><text fill=\"#000000\" font-family=\"sans-serif\" font-size=\"11\" lengthAdjust=\"spacingAndGlyphs\" textLength=\"73\" x=\"439.5\" y=\"325.9526\">payload=S();</text><text fill=\"#000000\" font-family=\"sans-serif\" font-size=\"11\" font-weight=\"bold\" lengthAdjust=\"spacingAndGlyphs\" textLength=\"10\" x=\"425.5\" y=\"338.7573\">in</text><text fill=\"#000000\" font-family=\"sans-serif\" font-size=\"11\" lengthAdjust=\"spacingAndGlyphs\" textLength=\"75\" x=\"439.5\" y=\"338.7573\">receiver=B();</text><line style=\"stroke: #383838; stroke-width: 1.0;\" x1=\"420.5\" x2=\"436.5\" y1=\"309.3398\" y2=\"309.3398\"/><text fill=\"#000000\" font-family=\"sans-serif\" font-size=\"11\" lengthAdjust=\"spacingAndGlyphs\" textLength=\"67\" x=\"436.5\" y=\"312.6479\">parameters</text><line style=\"stroke: #383838; stroke-width: 1.0;\" x1=\"503.5\" x2=\"519.5\" y1=\"309.3398\" y2=\"309.3398\"/></a><!--MD5=[b9389687b975829384b498ac4b7476b2]\n",
       "class E8--><a href=\"psysml:1cf4a57b-2f41-48db-bb2e-4817b665eacc\" target=\"_top\" title=\"psysml:1cf4a57b-2f41-48db-bb2e-4817b665eacc\" xlink:actuate=\"onRequest\" xlink:href=\"psysml:1cf4a57b-2f41-48db-bb2e-4817b665eacc\" xlink:show=\"new\" xlink:title=\"psysml:1cf4a57b-2f41-48db-bb2e-4817b665eacc\" xlink:type=\"simple\"><rect fill=\"#FFFFFF\" height=\"45.9375\" id=\"E8\" rx=\"10\" ry=\"10\" style=\"stroke: #383838; stroke-width: 1.5;\" width=\"104\" x=\"556\" y=\"278\"/><text fill=\"#000000\" font-family=\"sans-serif\" font-size=\"12\" font-style=\"italic\" lengthAdjust=\"spacingAndGlyphs\" textLength=\"102\" x=\"557\" y=\"294.1387\">«decision node»</text><text fill=\"#000000\" font-family=\"sans-serif\" font-size=\"12\" lengthAdjust=\"spacingAndGlyphs\" text-decoration=\"line-through\" textLength=\"51\" x=\"582.5\" y=\"308.1074\">noname</text><line style=\"stroke: #383838; stroke-width: 1.5;\" x1=\"557\" x2=\"659\" y1=\"315.9375\" y2=\"315.9375\"/></a><!--MD5=[fd4143e9d270a159db93a4ea2a975926]\n",
       "class E9--><a href=\"psysml:530e5343-b7af-483f-85a0-93ec425d0302\" target=\"_top\" title=\"psysml:530e5343-b7af-483f-85a0-93ec425d0302\" xlink:actuate=\"onRequest\" xlink:href=\"psysml:530e5343-b7af-483f-85a0-93ec425d0302\" xlink:show=\"new\" xlink:title=\"psysml:530e5343-b7af-483f-85a0-93ec425d0302\" xlink:type=\"simple\"><rect fill=\"#FFFFFF\" height=\"45.9375\" id=\"E9\" style=\"stroke: #383838; stroke-width: 1.5;\" width=\"83\" x=\"104.5\" y=\"96\"/><text fill=\"#000000\" font-family=\"sans-serif\" font-size=\"12\" font-style=\"italic\" lengthAdjust=\"spacingAndGlyphs\" textLength=\"81\" x=\"105.5\" y=\"112.1387\">«action  def»</text><text fill=\"#000000\" font-family=\"sans-serif\" font-size=\"12\" lengthAdjust=\"spacingAndGlyphs\" textLength=\"8\" x=\"142\" y=\"126.1074\">B</text><line style=\"stroke: #383838; stroke-width: 1.5;\" x1=\"105.5\" x2=\"186.5\" y1=\"133.9375\" y2=\"133.9375\"/></a><!--MD5=[4672eba38e49728da53d11aeb285b987]\n",
       "reverse link E3 to E4--><a href=\"psysml:4e23b20a-a36f-46ec-8d5d-d94d3421b796\" target=\"_top\" title=\"psysml:4e23b20a-a36f-46ec-8d5d-d94d3421b796\" xlink:actuate=\"onRequest\" xlink:href=\"psysml:4e23b20a-a36f-46ec-8d5d-d94d3421b796\" xlink:show=\"new\" xlink:title=\"psysml:4e23b20a-a36f-46ec-8d5d-d94d3421b796\" xlink:type=\"simple\"><path d=\"M278.49,161 C278.49,161 112,161 112,161 C112,161 112,238.12 112,277.88 \" fill=\"none\" id=\"E3&lt;-E4\" style=\"stroke: #383838; stroke-width: 1.0; stroke-dasharray: 7.0,7.0;\"/><ellipse cx=\"285.49\" cy=\"161\" fill=\"#FFFFFF\" rx=\"8\" ry=\"8\" style=\"stroke: #383838; stroke-width: 1.0;\"/><line style=\"stroke: #383838; stroke-width: 1.0;\" x1=\"277.49\" x2=\"293.49\" y1=\"161\" y2=\"161\"/><line style=\"stroke: #383838; stroke-width: 1.0;\" x1=\"285.49\" x2=\"285.49\" y1=\"153\" y2=\"169\"/></a><!--MD5=[191cde3d490a3f6d7bb551fe3ddca469]\n",
       "reverse link E3 to E5--><a href=\"psysml:ad14583f-f40d-4d66-bbbd-cfa822b8d260\" target=\"_top\" title=\"psysml:ad14583f-f40d-4d66-bbbd-cfa822b8d260\" xlink:actuate=\"onRequest\" xlink:href=\"psysml:ad14583f-f40d-4d66-bbbd-cfa822b8d260\" xlink:show=\"new\" xlink:title=\"psysml:ad14583f-f40d-4d66-bbbd-cfa822b8d260\" xlink:type=\"simple\"><path d=\"M280.49,179 C280.49,179 217.25,179 217.25,179 C217.25,179 217.25,242.37 217.25,277.77 \" fill=\"none\" id=\"E3&lt;-E5\" style=\"stroke: #383838; stroke-width: 1.0;\"/><polygon fill=\"#383838\" points=\"293.49,179,287.49,175,281.49,179,287.49,183,293.49,179\" style=\"stroke: #383838; stroke-width: 1.0;\"/><text fill=\"#000000\" font-family=\"sans-serif\" font-size=\"13\" lengthAdjust=\"spacingAndGlyphs\" textLength=\"7\" x=\"213.5172\" y=\"266.9874\">*</text></a><!--MD5=[1026b4b93417a13aa8999a858998add2]\n",
       "reverse link E3 to E6--><a href=\"psysml:02f2d6be-0a1b-48e7-9525-0788d6b31587\" target=\"_top\" title=\"psysml:02f2d6be-0a1b-48e7-9525-0788d6b31587\" xlink:actuate=\"onRequest\" xlink:href=\"psysml:02f2d6be-0a1b-48e7-9525-0788d6b31587\" xlink:show=\"new\" xlink:title=\"psysml:02f2d6be-0a1b-48e7-9525-0788d6b31587\" xlink:type=\"simple\"><path d=\"M333,210.24 C333,210.24 333,256.91 333,256.91 \" fill=\"none\" id=\"E3&lt;-E6\" style=\"stroke: #383838; stroke-width: 1.0;\"/><polygon fill=\"#383838\" points=\"333,197.24,329,203.24,333,209.24,337,203.24,333,197.24\" style=\"stroke: #383838; stroke-width: 1.0;\"/><text fill=\"#000000\" font-family=\"sans-serif\" font-size=\"13\" lengthAdjust=\"spacingAndGlyphs\" textLength=\"7\" x=\"325.4641\" y=\"246.0604\">*</text></a><!--MD5=[3403bfa781cc3da0fd423dbab6f01c63]\n",
       "reverse link E6 to E2--><a href=\"psysml:415ec969-1049-4ff8-b1f4-3b78a625bc7d\" target=\"_top\" title=\"psysml:415ec969-1049-4ff8-b1f4-3b78a625bc7d\" xlink:actuate=\"onRequest\" xlink:href=\"psysml:415ec969-1049-4ff8-b1f4-3b78a625bc7d\" xlink:show=\"new\" xlink:title=\"psysml:415ec969-1049-4ff8-b1f4-3b78a625bc7d\" xlink:type=\"simple\"><path d=\"M316.5,358.06 C316.5,358.06 316.5,404.7 316.5,404.7 \" fill=\"none\" id=\"E6&lt;-E2\" style=\"stroke: #383838; stroke-width: 1.0;\"/><polygon fill=\"#FFFFFF\" points=\"316.5,345.06,312.5,351.06,316.5,357.06,320.5,351.06,316.5,345.06\" style=\"stroke: #383838; stroke-width: 1.0;\"/></a><!--MD5=[3403bfa781cc3da0fd423dbab6f01c63]\n",
       "reverse link E6 to E2--><a href=\"psysml:415ec969-1049-4ff8-b1f4-3b78a625bc7d\" target=\"_top\" title=\"psysml:415ec969-1049-4ff8-b1f4-3b78a625bc7d\" xlink:actuate=\"onRequest\" xlink:href=\"psysml:415ec969-1049-4ff8-b1f4-3b78a625bc7d\" xlink:show=\"new\" xlink:title=\"psysml:415ec969-1049-4ff8-b1f4-3b78a625bc7d\" xlink:type=\"simple\"><path d=\"M349.5,358.06 C349.5,358.06 349.5,404.7 349.5,404.7 \" fill=\"none\" id=\"E6&lt;-E2-1\" style=\"stroke: #383838; stroke-width: 1.0;\"/><polygon fill=\"#FFFFFF\" points=\"349.5,345.06,345.5,351.06,349.5,357.06,353.5,351.06,349.5,345.06\" style=\"stroke: #383838; stroke-width: 1.0;\"/></a><!--MD5=[85760999379eecfd2565a9fecdca67e4]\n",
       "reverse link E3 to E7--><a href=\"psysml:6b163638-00d9-4d11-a021-492b992d4a3f\" target=\"_top\" title=\"psysml:6b163638-00d9-4d11-a021-492b992d4a3f\" xlink:actuate=\"onRequest\" xlink:href=\"psysml:6b163638-00d9-4d11-a021-492b992d4a3f\" xlink:show=\"new\" xlink:title=\"psysml:6b163638-00d9-4d11-a021-492b992d4a3f\" xlink:type=\"simple\"><path d=\"M385.63,145 C385.63,145 470,145 470,145 C470,145 470,210.59 470,256.71 \" fill=\"none\" id=\"E3&lt;-E7\" style=\"stroke: #383838; stroke-width: 1.0;\"/><polygon fill=\"#383838\" points=\"372.63,145,378.63,149,384.63,145,378.63,141,372.63,145\" style=\"stroke: #383838; stroke-width: 1.0;\"/><text fill=\"#000000\" font-family=\"sans-serif\" font-size=\"13\" lengthAdjust=\"spacingAndGlyphs\" textLength=\"7\" x=\"462.4641\" y=\"245.8298\">*</text></a><!--MD5=[4cb75b73ec3682b8f7f8edc9cc86126a]\n",
       "reverse link E3 to E8--><a href=\"psysml:e0686d6c-32a7-4788-b0ea-8926b68cc818\" target=\"_top\" title=\"psysml:e0686d6c-32a7-4788-b0ea-8926b68cc818\" xlink:actuate=\"onRequest\" xlink:href=\"psysml:e0686d6c-32a7-4788-b0ea-8926b68cc818\" xlink:show=\"new\" xlink:title=\"psysml:e0686d6c-32a7-4788-b0ea-8926b68cc818\" xlink:type=\"simple\"><path d=\"M385.69,93 C385.69,93 608,93 608,93 C608,93 608,223.79 608,277.95 \" fill=\"none\" id=\"E3&lt;-E8\" style=\"stroke: #383838; stroke-width: 1.0;\"/><polygon fill=\"#383838\" points=\"372.69,93,378.69,97,384.69,93,378.69,89,372.69,93\" style=\"stroke: #383838; stroke-width: 1.0;\"/></a><!--MD5=[80d7237bfd47fb141fd66323bd064c8a]\n",
       "@startuml\r\n",
       "skinparam linetype ortho\r\n",
       "skinparam monochrome true\r\n",
       "skinparam classbackgroundcolor white\r\n",
       "skinparam shadowing false\r\n",
       "skinparam wrapWidth 300\r\n",
       "hide circle\r\n",
       "\r\n",
       "package \"ActionTest\" as E1  [[psysml:b606a038-0c45-436f-a3a1-beef47fa0e17 ]]  {\r\n",
       "comp def \"S\" as E2  <<(T,blue) attribute  def>> [[psysml:f9329402-d9ed-482b-aa71-2e931e2796d7 ]] {\r\n",
       "}\r\n",
       "comp usage \"a\" as E3  <<(T,blue) action>> [[psysml:69e16b91-de61-4fe2-8ebf-63b040d0687a ]] {\r\n",
       "- - successions - -\r\n",
       " to \r\n",
       " to \r\n",
       " to \r\n",
       " to \r\n",
       "- - transitions - -\r\n",
       "\r\n",
       "\r\n",
       "}\r\n",
       "comp usage \"start: Action \" as E4  <<(T,blue) action>> [[psysml:d8f546a6-9527-45eb-b0f0-0c3fcbb6d2a9 ]] {\r\n",
       "}\r\n",
       "comp usage \"m\" as E5  <<(T,blue) merge node>> [[psysml:ba661374-e1ab-49de-aa21-c62362c65829 ]] {\r\n",
       "}\r\n",
       "comp usage \"<s>noname</s>\" as E6 << accept action>> [[psysml:dcf8e234-4de8-4cb8-a947-17c2138066f0 ]] {\r\n",
       "- - parameters - -\r\n",
       "<b>in</b> payload: S\r\n",
       "<b>in</b> receiver\r\n",
       "}\r\n",
       "comp usage \"<s>noname</s>\" as E7 << send action>> [[psysml:18c3d457-6bb3-4962-a480-0e1b2254a09a ]] {\r\n",
       "- - parameters - -\r\n",
       "<b>in</b> payload=S(); \r\n",
       "<b>in</b> receiver=B(); \r\n",
       "}\r\n",
       "comp usage \"<s>noname</s>\" as E8  <<(T,blue) decision node>> [[psysml:1cf4a57b-2f41-48db-bb2e-4817b665eacc ]] {\r\n",
       "}\r\n",
       "comp def \"B\" as E9  <<(T,blue) action  def>> [[psysml:530e5343-b7af-483f-85a0-93ec425d0302 ]] {\r\n",
       "}\r\n",
       "}\r\n",
       "E3 +.. E4 [[psysml:4e23b20a-a36f-46ec-8d5d-d94d3421b796 ]] \r\n",
       "E3 *- - \"*\"E5 [[psysml:ad14583f-f40d-4d66-bbbd-cfa822b8d260 ]] \r\n",
       "E3 *- - \"*\"E6 [[psysml:02f2d6be-0a1b-48e7-9525-0788d6b31587 ]] \r\n",
       "E6 o- - E2 [[psysml:415ec969-1049-4ff8-b1f4-3b78a625bc7d ]] \r\n",
       "E6 o- - E2 [[psysml:415ec969-1049-4ff8-b1f4-3b78a625bc7d ]] \r\n",
       "E3 *- - \"*\"E7 [[psysml:6b163638-00d9-4d11-a021-492b992d4a3f ]] \r\n",
       "E3 *- - E8 [[psysml:e0686d6c-32a7-4788-b0ea-8926b68cc818 ]] \r\n",
       "@enduml\r\n",
       "\n",
       "PlantUML version 1.2020.13(Sat Jun 13 12:26:38 UTC 2020)\n",
       "(EPL source distribution)\n",
       "Java Runtime: OpenJDK Runtime Environment\n",
       "JVM: OpenJDK 64-Bit Server VM\n",
       "Default Encoding: UTF-8\n",
       "Language: en\n",
       "Country: null\n",
       "--></g></svg>"
      ]
     },
     "execution_count": 52,
     "metadata": {},
     "output_type": "execute_result"
    }
   ],
   "source": [
    "%viz --style=\"ORTHOLINE\" --view=\"Tree\" \"ActionTest\""
   ]
  },
  {
   "cell_type": "code",
   "execution_count": 53,
   "id": "e3fe7425",
   "metadata": {
    "execution": {
     "iopub.execute_input": "2021-10-25T08:21:26.165096Z",
     "iopub.status.busy": "2021-10-25T08:21:26.164702Z",
     "iopub.status.idle": "2021-10-25T08:21:26.169200Z",
     "shell.execute_reply": "2021-10-25T08:21:26.168823Z"
    }
   },
   "outputs": [
    {
     "data": {
      "image/svg+xml": [
       "<?xml version=\"1.0\" encoding=\"UTF-8\" standalone=\"no\"?><svg xmlns=\"http://www.w3.org/2000/svg\" xmlns:xlink=\"http://www.w3.org/1999/xlink\" contentScriptType=\"application/ecmascript\" contentStyleType=\"text/css\" height=\"12px\" preserveAspectRatio=\"none\" style=\"width:12px;height:12px;\" version=\"1.1\" viewBox=\"0 0 12 12\" width=\"12px\" zoomAndPan=\"magnify\"><defs/><g><!--MD5=[97d6f38768b311333d388e66b2b27985]\n",
       "@startuml\r\n",
       "skinparam linetype ortho\r\n",
       "skinparam monochrome true\r\n",
       "skinparam classbackgroundcolor white\r\n",
       "skinparam shadowing false\r\n",
       "skinparam wrapWidth 300\r\n",
       "hide circle\r\n",
       "\r\n",
       "@enduml\r\n",
       "\n",
       "PlantUML version 1.2020.13(Sat Jun 13 12:26:38 UTC 2020)\n",
       "(EPL source distribution)\n",
       "Java Runtime: OpenJDK Runtime Environment\n",
       "JVM: OpenJDK 64-Bit Server VM\n",
       "Default Encoding: UTF-8\n",
       "Language: en\n",
       "Country: null\n",
       "--></g></svg>"
      ]
     },
     "execution_count": 53,
     "metadata": {},
     "output_type": "execute_result"
    }
   ],
   "source": [
    "%viz --style=\"ORTHOLINE\" --view=\"State\" \"ActionTest\""
   ]
  },
  {
   "cell_type": "code",
   "execution_count": 54,
   "id": "40e052b9",
   "metadata": {
    "execution": {
     "iopub.execute_input": "2021-10-25T08:21:26.218570Z",
     "iopub.status.busy": "2021-10-25T08:21:26.218180Z",
     "iopub.status.idle": "2021-10-25T08:21:26.277735Z",
     "shell.execute_reply": "2021-10-25T08:21:26.277385Z"
    }
   },
   "outputs": [
    {
     "data": {
      "image/svg+xml": [
       "<?xml version=\"1.0\" encoding=\"UTF-8\" standalone=\"no\"?><svg xmlns=\"http://www.w3.org/2000/svg\" xmlns:xlink=\"http://www.w3.org/1999/xlink\" contentScriptType=\"application/ecmascript\" contentStyleType=\"text/css\" height=\"462px\" preserveAspectRatio=\"none\" style=\"width:530px;height:462px;\" version=\"1.1\" viewBox=\"0 0 530 462\" width=\"530px\" zoomAndPan=\"magnify\"><defs/><g><!--MD5=[fbc87193dbaf4d95561dea2c320d4a47]\n",
       "cluster E1--><a href=\"psysml:b606a038-0c45-436f-a3a1-beef47fa0e17\" target=\"_top\" title=\"psysml:b606a038-0c45-436f-a3a1-beef47fa0e17\" xlink:actuate=\"onRequest\" xlink:href=\"psysml:b606a038-0c45-436f-a3a1-beef47fa0e17\" xlink:show=\"new\" xlink:title=\"psysml:b606a038-0c45-436f-a3a1-beef47fa0e17\" xlink:type=\"simple\"><polygon fill=\"#FFFFFF\" points=\"16,6,96,6,103,28.2969,508,28.2969,508,450.5,16,450.5,16,6\" style=\"stroke: #000000; stroke-width: 1.5;\"/><line style=\"stroke: #000000; stroke-width: 1.5;\" x1=\"16\" x2=\"103\" y1=\"28.2969\" y2=\"28.2969\"/><text fill=\"#000000\" font-family=\"sans-serif\" font-size=\"14\" font-weight=\"bold\" lengthAdjust=\"spacingAndGlyphs\" textLength=\"74\" x=\"20\" y=\"20.9951\">ActionTest</text></a><!--MD5=[d5e69f78d87373223dbae638b30a9c99]\n",
       "cluster E3--><a href=\"psysml:69e16b91-de61-4fe2-8ebf-63b040d0687a\" target=\"_top\" title=\"psysml:69e16b91-de61-4fe2-8ebf-63b040d0687a\" xlink:actuate=\"onRequest\" xlink:href=\"psysml:69e16b91-de61-4fe2-8ebf-63b040d0687a\" xlink:show=\"new\" xlink:title=\"psysml:69e16b91-de61-4fe2-8ebf-63b040d0687a\" xlink:type=\"simple\"><rect fill=\"#FFFFFF\" height=\"377.5\" id=\"E3\" rx=\"10\" ry=\"10\" style=\"stroke: #383838; stroke-width: 1.5;\" width=\"209\" x=\"275\" y=\"49\"/><rect fill=\"#F8F8F8\" height=\"37.9375\" rx=\"10\" ry=\"10\" style=\"stroke: #F8F8F8; stroke-width: 1.5;\" width=\"209\" x=\"275\" y=\"49\"/><rect fill=\"#F8F8F8\" height=\"10\" style=\"stroke: #F8F8F8; stroke-width: 1.5;\" width=\"209\" x=\"275\" y=\"76.9375\"/><rect fill=\"none\" height=\"377.5\" id=\"E3\" rx=\"10\" ry=\"10\" style=\"stroke: #383838; stroke-width: 1.5;\" width=\"209\" x=\"275\" y=\"49\"/><text fill=\"#000000\" font-family=\"sans-serif\" font-size=\"12\" font-style=\"italic\" lengthAdjust=\"spacingAndGlyphs\" textLength=\"53\" x=\"353\" y=\"65.1387\">«action»</text><text fill=\"#000000\" font-family=\"sans-serif\" font-size=\"12\" lengthAdjust=\"spacingAndGlyphs\" textLength=\"8\" x=\"375.5\" y=\"79.1074\">a</text><line style=\"stroke: #383838; stroke-width: 1.0;\" x1=\"275\" x2=\"484\" y1=\"86.9375\" y2=\"86.9375\"/></a><g id=\"E1.E2\"><a href=\"psysml:f9329402-d9ed-482b-aa71-2e931e2796d7\" target=\"_top\" title=\"psysml:f9329402-d9ed-482b-aa71-2e931e2796d7\" xlink:actuate=\"onRequest\" xlink:href=\"psysml:f9329402-d9ed-482b-aa71-2e931e2796d7\" xlink:show=\"new\" xlink:title=\"psysml:f9329402-d9ed-482b-aa71-2e931e2796d7\" xlink:type=\"simple\"><rect fill=\"#FFFFFF\" height=\"42.9375\" id=\"E2\" style=\"stroke: #383838; stroke-width: 1.5;\" width=\"104\" x=\"155\" y=\"88.5\"/><rect fill=\"#F8F8F8\" height=\"37.9375\" style=\"stroke: #383838; stroke-width: 1.5;\" width=\"104\" x=\"155\" y=\"88.5\"/><text fill=\"#000000\" font-family=\"sans-serif\" font-size=\"12\" font-style=\"italic\" lengthAdjust=\"spacingAndGlyphs\" textLength=\"97\" x=\"158.5\" y=\"104.6387\">«attribute  def»</text><text fill=\"#000000\" font-family=\"sans-serif\" font-size=\"12\" lengthAdjust=\"spacingAndGlyphs\" textLength=\"8\" x=\"203\" y=\"118.6074\">S</text></a></g><polygon fill=\"#F8F8F8\" points=\"432,148.5,444,160.5,432,172.5,420,160.5,432,148.5\" style=\"stroke: #383838; stroke-width: 1.5;\"/><!--MD5=[21dd76c19d33815960c0e92fef8f0eef]\n",
       "entity E5--><a href=\"psysml:dcf8e234-4de8-4cb8-a947-17c2138066f0\" target=\"_top\" title=\"psysml:dcf8e234-4de8-4cb8-a947-17c2138066f0\" xlink:actuate=\"onRequest\" xlink:href=\"psysml:dcf8e234-4de8-4cb8-a947-17c2138066f0\" xlink:show=\"new\" xlink:title=\"psysml:dcf8e234-4de8-4cb8-a947-17c2138066f0\" xlink:type=\"simple\"><polygon fill=\"#F8F8F8\" points=\"291,189.5,291,244.0938,431,244.0938,411,216.7969,431,189.5\" style=\"stroke: #000000; stroke-width: 1.5;\"/><text fill=\"#000000\" font-family=\"sans-serif\" font-size=\"14\" font-style=\"italic\" lengthAdjust=\"spacingAndGlyphs\" textLength=\"111\" x=\"298\" y=\"212.4951\">«accept action»</text><text fill=\"#000000\" font-family=\"sans-serif\" font-size=\"14\" lengthAdjust=\"spacingAndGlyphs\" textLength=\"9\" x=\"349\" y=\"229.792\">S</text></a><!--MD5=[24d87cdf3002d433f401b2a2aa9f9f65]\n",
       "entity E6--><a href=\"psysml:18c3d457-6bb3-4962-a480-0e1b2254a09a\" target=\"_top\" title=\"psysml:18c3d457-6bb3-4962-a480-0e1b2254a09a\" xlink:actuate=\"onRequest\" xlink:href=\"psysml:18c3d457-6bb3-4962-a480-0e1b2254a09a\" xlink:show=\"new\" xlink:title=\"psysml:18c3d457-6bb3-4962-a480-0e1b2254a09a\" xlink:type=\"simple\"><polygon fill=\"#F8F8F8\" points=\"291,277.5,291,332.0938,399,332.0938,419,304.7969,399,277.5\" style=\"stroke: #000000; stroke-width: 1.5;\"/><text fill=\"#000000\" font-family=\"sans-serif\" font-size=\"14\" font-style=\"italic\" lengthAdjust=\"spacingAndGlyphs\" textLength=\"99\" x=\"298\" y=\"300.4951\">«send action»</text><text fill=\"#000000\" font-family=\"sans-serif\" font-size=\"14\" lengthAdjust=\"spacingAndGlyphs\" textLength=\"65\" x=\"315\" y=\"317.792\">S() to  B()</text></a><polygon fill=\"#F8F8F8\" points=\"430,349.5,442,361.5,430,373.5,418,361.5,430,349.5\" style=\"stroke: #383838; stroke-width: 1.5;\"/><ellipse cx=\"432\" cy=\"110\" fill=\"#000000\" rx=\"10\" ry=\"10\" style=\"stroke: none; stroke-width: 1.0;\"/><ellipse cx=\"430\" cy=\"400.5\" fill=\"none\" rx=\"10\" ry=\"10\" style=\"stroke: #000000; stroke-width: 1.0;\"/><ellipse cx=\"430.5\" cy=\"401\" fill=\"#000000\" rx=\"6\" ry=\"6\" style=\"stroke: none; stroke-width: 1.0;\"/><g id=\"E1.E8\"><a href=\"psysml:530e5343-b7af-483f-85a0-93ec425d0302\" target=\"_top\" title=\"psysml:530e5343-b7af-483f-85a0-93ec425d0302\" xlink:actuate=\"onRequest\" xlink:href=\"psysml:530e5343-b7af-483f-85a0-93ec425d0302\" xlink:show=\"new\" xlink:title=\"psysml:530e5343-b7af-483f-85a0-93ec425d0302\" xlink:type=\"simple\"><rect fill=\"#FFFFFF\" height=\"42.9375\" id=\"E8\" style=\"stroke: #383838; stroke-width: 1.5;\" width=\"88\" x=\"32\" y=\"88.5\"/><rect fill=\"#F8F8F8\" height=\"37.9375\" style=\"stroke: #383838; stroke-width: 1.5;\" width=\"88\" x=\"32\" y=\"88.5\"/><text fill=\"#000000\" font-family=\"sans-serif\" font-size=\"12\" font-style=\"italic\" lengthAdjust=\"spacingAndGlyphs\" textLength=\"81\" x=\"35.5\" y=\"104.6387\">«action  def»</text><text fill=\"#000000\" font-family=\"sans-serif\" font-size=\"12\" lengthAdjust=\"spacingAndGlyphs\" textLength=\"8\" x=\"72\" y=\"118.6074\">B</text></a></g><!--MD5=[f47e10efcf9a6752d55dae986d790ed9]\n",
       "link *start*E3 to E4--><a href=\"psysml:8ec85343-59fa-499c-a77c-a2bbf8c30a9c\" target=\"_top\" title=\"psysml:8ec85343-59fa-499c-a77c-a2bbf8c30a9c\" xlink:actuate=\"onRequest\" xlink:href=\"psysml:8ec85343-59fa-499c-a77c-a2bbf8c30a9c\" xlink:show=\"new\" xlink:title=\"psysml:8ec85343-59fa-499c-a77c-a2bbf8c30a9c\" xlink:type=\"simple\"><path d=\"M432,120.22 C432,120.22 432,143.15 432,143.15 \" fill=\"none\" id=\"*start*E3-&gt;E4\" style=\"stroke: #383838; stroke-width: 1.0;\"/><polygon fill=\"#383838\" points=\"432,148.15,436,139.15,432,143.15,428,139.15,432,148.15\" style=\"stroke: #383838; stroke-width: 1.0;\"/></a><!--MD5=[d19f2eb34364d71b67042106d92f540b]\n",
       "link E7 to *end*E3--><a href=\"psysml:0d9f4e26-bf93-4aba-a8c6-6dafeae60007\" target=\"_top\" title=\"psysml:0d9f4e26-bf93-4aba-a8c6-6dafeae60007\" xlink:actuate=\"onRequest\" xlink:href=\"psysml:0d9f4e26-bf93-4aba-a8c6-6dafeae60007\" xlink:show=\"new\" xlink:title=\"psysml:0d9f4e26-bf93-4aba-a8c6-6dafeae60007\" xlink:type=\"simple\"><path d=\"M430,373.84 C430,373.84 430,385.46 430,385.46 \" fill=\"none\" id=\"E7-&gt;*end*E3\" style=\"stroke: #383838; stroke-width: 1.0;\"/><polygon fill=\"#383838\" points=\"430,390.46,434,381.46,430,385.46,426,381.46,430,390.46\" style=\"stroke: #383838; stroke-width: 1.0;\"/></a><!--MD5=[1b7591eae5389033d8d09a9d6721a717]\n",
       "link E4 to E5--><a href=\"psysml:0f743cc2-6e19-41e4-aad8-79cb567e3158\" target=\"_top\" title=\"psysml:0f743cc2-6e19-41e4-aad8-79cb567e3158\" xlink:actuate=\"onRequest\" xlink:href=\"psysml:0f743cc2-6e19-41e4-aad8-79cb567e3158\" xlink:show=\"new\" xlink:title=\"psysml:0f743cc2-6e19-41e4-aad8-79cb567e3158\" xlink:type=\"simple\"><path d=\"M425.5,166.12 C425.5,166.12 425.5,184.3 425.5,184.3 \" fill=\"none\" id=\"E4-&gt;E5\" style=\"stroke: #383838; stroke-width: 1.0;\"/><polygon fill=\"#383838\" points=\"425.5,189.3,429.5,180.3,425.5,184.3,421.5,180.3,425.5,189.3\" style=\"stroke: #383838; stroke-width: 1.0;\"/><text fill=\"#000000\" font-family=\"sans-serif\" font-size=\"13\" lengthAdjust=\"spacingAndGlyphs\" textLength=\"7\" x=\"439.5133\" y=\"180.8235\">*</text></a><!--MD5=[9120cf2e5df3bff93db8f754bbbc09b4]\n",
       "link E5 to E6--><a href=\"psysml:3404b4e6-fa1c-4cf0-a87f-a7f8eafbc3bc\" target=\"_top\" title=\"psysml:3404b4e6-fa1c-4cf0-a87f-a7f8eafbc3bc\" xlink:actuate=\"onRequest\" xlink:href=\"psysml:3404b4e6-fa1c-4cf0-a87f-a7f8eafbc3bc\" xlink:show=\"new\" xlink:title=\"psysml:3404b4e6-fa1c-4cf0-a87f-a7f8eafbc3bc\" xlink:type=\"simple\"><path d=\"M355,244.84 C355,244.84 355,272.34 355,272.34 \" fill=\"none\" id=\"E5-&gt;E6\" style=\"stroke: #383838; stroke-width: 1.0;\"/><polygon fill=\"#383838\" points=\"355,277.34,359,268.34,355,272.34,351,268.34,355,277.34\" style=\"stroke: #383838; stroke-width: 1.0;\"/><text fill=\"#000000\" font-family=\"sans-serif\" font-size=\"13\" lengthAdjust=\"spacingAndGlyphs\" textLength=\"7\" x=\"347.1906\" y=\"266.3385\">*</text></a><!--MD5=[02c70b7c851c11e3980e4e90450dc5dd]\n",
       "link E6 to E7--><a href=\"psysml:a56f0975-9bdd-4db4-ac34-32a8d14536cf\" target=\"_top\" title=\"psysml:a56f0975-9bdd-4db4-ac34-32a8d14536cf\" xlink:actuate=\"onRequest\" xlink:href=\"psysml:a56f0975-9bdd-4db4-ac34-32a8d14536cf\" xlink:show=\"new\" xlink:title=\"psysml:a56f0975-9bdd-4db4-ac34-32a8d14536cf\" xlink:type=\"simple\"><path d=\"M419.03,305.5 C422.74,305.5 425,305.5 425,305.5 C425,305.5 425,349.18 425,349.18 \" fill=\"none\" id=\"E6-&gt;E7\" style=\"stroke: #383838; stroke-width: 1.0;\"/><polygon fill=\"#383838\" points=\"425,354.18,429,345.18,425,349.18,421,345.18,425,354.18\" style=\"stroke: #383838; stroke-width: 1.0;\"/><text fill=\"#000000\" font-family=\"sans-serif\" font-size=\"13\" lengthAdjust=\"spacingAndGlyphs\" textLength=\"7\" x=\"412.3803\" y=\"338.545\">*</text></a><!--MD5=[6bdd27f9905911a7e892a3dc65cf6b7c]\n",
       "link E7 to E4--><a href=\"psysml:2a79c4d0-9744-4107-95b5-d9c642bb083b\" target=\"_top\" title=\"psysml:2a79c4d0-9744-4107-95b5-d9c642bb083b\" xlink:actuate=\"onRequest\" xlink:href=\"psysml:2a79c4d0-9744-4107-95b5-d9c642bb083b\" xlink:show=\"new\" xlink:title=\"psysml:2a79c4d0-9744-4107-95b5-d9c642bb083b\" xlink:type=\"simple\"><path d=\"M436.5,355.7 C436.5,355.7 436.5,173.4 436.5,173.4 \" fill=\"none\" id=\"E7-&gt;E4\" style=\"stroke: #383838; stroke-width: 1.0;\"/><polygon fill=\"#383838\" points=\"436.5,168.4,432.5,177.4,436.5,173.4,440.5,177.4,436.5,168.4\" style=\"stroke: #383838; stroke-width: 1.0;\"/><text fill=\"#000000\" font-family=\"sans-serif\" font-size=\"13\" lengthAdjust=\"spacingAndGlyphs\" textLength=\"36\" x=\"431\" y=\"265.5669\">[true]</text><text fill=\"#000000\" font-family=\"sans-serif\" font-size=\"13\" lengthAdjust=\"spacingAndGlyphs\" textLength=\"7\" x=\"439.1585\" y=\"189.1549\">*</text></a><!--MD5=[c3ef20b47adf3eb350049646d9d570cd]\n",
       "@startuml\r\n",
       "skinparam ranksep 10\r\n",
       "skinparam rectangle {\r\n",
       " backgroundColor<<block>> LightGreen\r\n",
       "}\r\n",
       "skinparam linetype ortho\r\n",
       "skinparam monochrome true\r\n",
       "skinparam classbackgroundcolor white\r\n",
       "skinparam shadowing false\r\n",
       "skinparam wrapWidth 300\r\n",
       "hide circle\r\n",
       "\r\n",
       "package \"ActionTest\" as E1  [[psysml:b606a038-0c45-436f-a3a1-beef47fa0e17 ]]  {\r\n",
       "def \"S\" as E2  <<(T,blue) attribute  def>> [[psysml:f9329402-d9ed-482b-aa71-2e931e2796d7 ]] \r\n",
       "rec usage \"a\" as E3  <<(T,blue) action>> [[psysml:69e16b91-de61-4fe2-8ebf-63b040d0687a ]] {\r\n",
       "choice \"m\" as E4  [[psysml:ba661374-e1ab-49de-aa21-c62362c65829 ]] \r\n",
       "accept \" S\" as E5 << accept action>> [[psysml:dcf8e234-4de8-4cb8-a947-17c2138066f0 ]] \r\n",
       "send \" S() to  B()\" as E6 << send action>> [[psysml:18c3d457-6bb3-4962-a480-0e1b2254a09a ]] \r\n",
       "choice \"<s>noname</s>\" as E7  [[psysml:1cf4a57b-2f41-48db-bb2e-4817b665eacc ]] \r\n",
       "[*] - -> E4 [[psysml:8ec85343-59fa-499c-a77c-a2bbf8c30a9c ]] \r\n",
       "E7  - -> [*] [[psysml:0d9f4e26-bf93-4aba-a8c6-6dafeae60007 ]] \r\n",
       "}\r\n",
       "\r\n",
       "rec def \"B\" as E8  <<(T,blue) action  def>> [[psysml:530e5343-b7af-483f-85a0-93ec425d0302 ]] {\r\n",
       "}\r\n",
       "\r\n",
       "}\r\n",
       "E4 - -> \"*\"E5 [[psysml:0f743cc2-6e19-41e4-aad8-79cb567e3158 ]] \r\n",
       "E5 - -> \"*\"E6 [[psysml:3404b4e6-fa1c-4cf0-a87f-a7f8eafbc3bc ]] \r\n",
       "E6 - -> \"*\"E7 [[psysml:a56f0975-9bdd-4db4-ac34-32a8d14536cf ]] \r\n",
       "E7  - -> \"*\"E4 [[psysml:2a79c4d0-9744-4107-95b5-d9c642bb083b ]] : [true]\r\n",
       "@enduml\r\n",
       "\n",
       "PlantUML version 1.2020.13(Sat Jun 13 12:26:38 UTC 2020)\n",
       "(EPL source distribution)\n",
       "Java Runtime: OpenJDK Runtime Environment\n",
       "JVM: OpenJDK 64-Bit Server VM\n",
       "Default Encoding: UTF-8\n",
       "Language: en\n",
       "Country: null\n",
       "--></g></svg>"
      ]
     },
     "execution_count": 54,
     "metadata": {},
     "output_type": "execute_result"
    }
   ],
   "source": [
    "%viz --style=\"ORTHOLINE\" --view=\"Interconnection\" \"ActionTest\""
   ]
  },
  {
   "cell_type": "code",
   "execution_count": 55,
   "id": "13c3aead",
   "metadata": {
    "execution": {
     "iopub.execute_input": "2021-10-25T08:21:26.326654Z",
     "iopub.status.busy": "2021-10-25T08:21:26.326251Z",
     "iopub.status.idle": "2021-10-25T08:21:26.367024Z",
     "shell.execute_reply": "2021-10-25T08:21:26.366674Z"
    }
   },
   "outputs": [
    {
     "data": {
      "image/svg+xml": [
       "<?xml version=\"1.0\" encoding=\"UTF-8\" standalone=\"no\"?><svg xmlns=\"http://www.w3.org/2000/svg\" xmlns:xlink=\"http://www.w3.org/1999/xlink\" contentScriptType=\"application/ecmascript\" contentStyleType=\"text/css\" height=\"395px\" preserveAspectRatio=\"none\" style=\"width:332px;height:395px;\" version=\"1.1\" viewBox=\"0 0 332 395\" width=\"332px\" zoomAndPan=\"magnify\"><defs/><g><!--MD5=[fbc87193dbaf4d95561dea2c320d4a47]\n",
       "cluster E1--><a href=\"psysml:69e16b91-de61-4fe2-8ebf-63b040d0687a\" target=\"_top\" title=\"psysml:69e16b91-de61-4fe2-8ebf-63b040d0687a\" xlink:actuate=\"onRequest\" xlink:href=\"psysml:69e16b91-de61-4fe2-8ebf-63b040d0687a\" xlink:show=\"new\" xlink:title=\"psysml:69e16b91-de61-4fe2-8ebf-63b040d0687a\" xlink:type=\"simple\"><rect fill=\"#FFFFFF\" height=\"377.5\" id=\"E1\" rx=\"10\" ry=\"10\" style=\"stroke: #383838; stroke-width: 1.5;\" width=\"209\" x=\"111\" y=\"7\"/><rect fill=\"#F8F8F8\" height=\"37.9375\" rx=\"10\" ry=\"10\" style=\"stroke: #F8F8F8; stroke-width: 1.5;\" width=\"209\" x=\"111\" y=\"7\"/><rect fill=\"#F8F8F8\" height=\"10\" style=\"stroke: #F8F8F8; stroke-width: 1.5;\" width=\"209\" x=\"111\" y=\"34.9375\"/><rect fill=\"none\" height=\"377.5\" id=\"E1\" rx=\"10\" ry=\"10\" style=\"stroke: #383838; stroke-width: 1.5;\" width=\"209\" x=\"111\" y=\"7\"/><text fill=\"#000000\" font-family=\"sans-serif\" font-size=\"12\" font-style=\"italic\" lengthAdjust=\"spacingAndGlyphs\" textLength=\"53\" x=\"189\" y=\"23.1387\">«action»</text><text fill=\"#000000\" font-family=\"sans-serif\" font-size=\"12\" lengthAdjust=\"spacingAndGlyphs\" textLength=\"8\" x=\"211.5\" y=\"37.1074\">a</text><line style=\"stroke: #383838; stroke-width: 1.0;\" x1=\"111\" x2=\"320\" y1=\"44.9375\" y2=\"44.9375\"/></a><polygon fill=\"#F8F8F8\" points=\"268,106.5,280,118.5,268,130.5,256,118.5,268,106.5\" style=\"stroke: #383838; stroke-width: 1.5;\"/><!--MD5=[a60fb756f580feb9fd8e2cf1329b5c91]\n",
       "entity E3--><a href=\"psysml:dcf8e234-4de8-4cb8-a947-17c2138066f0\" target=\"_top\" title=\"psysml:dcf8e234-4de8-4cb8-a947-17c2138066f0\" xlink:actuate=\"onRequest\" xlink:href=\"psysml:dcf8e234-4de8-4cb8-a947-17c2138066f0\" xlink:show=\"new\" xlink:title=\"psysml:dcf8e234-4de8-4cb8-a947-17c2138066f0\" xlink:type=\"simple\"><polygon fill=\"#F8F8F8\" points=\"127,147.5,127,202.0938,267,202.0938,247,174.7969,267,147.5\" style=\"stroke: #000000; stroke-width: 1.5;\"/><text fill=\"#000000\" font-family=\"sans-serif\" font-size=\"14\" font-style=\"italic\" lengthAdjust=\"spacingAndGlyphs\" textLength=\"111\" x=\"134\" y=\"170.4951\">«accept action»</text><text fill=\"#000000\" font-family=\"sans-serif\" font-size=\"14\" lengthAdjust=\"spacingAndGlyphs\" textLength=\"9\" x=\"185\" y=\"187.792\">S</text></a><!--MD5=[961cefdc15414eaa3e87aec9d17c2188]\n",
       "entity E4--><a href=\"psysml:18c3d457-6bb3-4962-a480-0e1b2254a09a\" target=\"_top\" title=\"psysml:18c3d457-6bb3-4962-a480-0e1b2254a09a\" xlink:actuate=\"onRequest\" xlink:href=\"psysml:18c3d457-6bb3-4962-a480-0e1b2254a09a\" xlink:show=\"new\" xlink:title=\"psysml:18c3d457-6bb3-4962-a480-0e1b2254a09a\" xlink:type=\"simple\"><polygon fill=\"#F8F8F8\" points=\"127,235.5,127,290.0938,235,290.0938,255,262.7969,235,235.5\" style=\"stroke: #000000; stroke-width: 1.5;\"/><text fill=\"#000000\" font-family=\"sans-serif\" font-size=\"14\" font-style=\"italic\" lengthAdjust=\"spacingAndGlyphs\" textLength=\"99\" x=\"134\" y=\"258.4951\">«send action»</text><text fill=\"#000000\" font-family=\"sans-serif\" font-size=\"14\" lengthAdjust=\"spacingAndGlyphs\" textLength=\"65\" x=\"151\" y=\"275.792\">S() to  B()</text></a><polygon fill=\"#F8F8F8\" points=\"266,307.5,278,319.5,266,331.5,254,319.5,266,307.5\" style=\"stroke: #383838; stroke-width: 1.5;\"/><ellipse cx=\"268\" cy=\"68\" fill=\"#000000\" rx=\"10\" ry=\"10\" style=\"stroke: none; stroke-width: 1.0;\"/><ellipse cx=\"266\" cy=\"358.5\" fill=\"none\" rx=\"10\" ry=\"10\" style=\"stroke: #000000; stroke-width: 1.0;\"/><ellipse cx=\"266.5\" cy=\"359\" fill=\"#000000\" rx=\"6\" ry=\"6\" style=\"stroke: none; stroke-width: 1.0;\"/><g id=\"E6\"><a href=\"psysml:530e5343-b7af-483f-85a0-93ec425d0302\" target=\"_top\" title=\"psysml:530e5343-b7af-483f-85a0-93ec425d0302\" xlink:actuate=\"onRequest\" xlink:href=\"psysml:530e5343-b7af-483f-85a0-93ec425d0302\" xlink:show=\"new\" xlink:title=\"psysml:530e5343-b7af-483f-85a0-93ec425d0302\" xlink:type=\"simple\"><rect fill=\"#FFFFFF\" height=\"42.9375\" id=\"E6\" style=\"stroke: #383838; stroke-width: 1.5;\" width=\"88\" x=\"7\" y=\"46.5\"/><rect fill=\"#F8F8F8\" height=\"37.9375\" style=\"stroke: #383838; stroke-width: 1.5;\" width=\"88\" x=\"7\" y=\"46.5\"/><text fill=\"#000000\" font-family=\"sans-serif\" font-size=\"12\" font-style=\"italic\" lengthAdjust=\"spacingAndGlyphs\" textLength=\"81\" x=\"10.5\" y=\"62.6387\">«action  def»</text><text fill=\"#000000\" font-family=\"sans-serif\" font-size=\"12\" lengthAdjust=\"spacingAndGlyphs\" textLength=\"8\" x=\"47\" y=\"76.6074\">B</text></a></g><!--MD5=[cff944eb183b832d446717a4e202d613]\n",
       "link *start*E1 to E2--><a href=\"psysml:8ec85343-59fa-499c-a77c-a2bbf8c30a9c\" target=\"_top\" title=\"psysml:8ec85343-59fa-499c-a77c-a2bbf8c30a9c\" xlink:actuate=\"onRequest\" xlink:href=\"psysml:8ec85343-59fa-499c-a77c-a2bbf8c30a9c\" xlink:show=\"new\" xlink:title=\"psysml:8ec85343-59fa-499c-a77c-a2bbf8c30a9c\" xlink:type=\"simple\"><path d=\"M268,78.22 C268,78.22 268,101.15 268,101.15 \" fill=\"none\" id=\"*start*E1-&gt;E2\" style=\"stroke: #383838; stroke-width: 1.0; stroke-dasharray: 7.0,7.0;\"/><polygon fill=\"#383838\" points=\"268,106.15,272,97.15,268,101.15,264,97.15,268,106.15\" style=\"stroke: #383838; stroke-width: 1.0;\"/></a><!--MD5=[7fc47fc0d107820853a137871ad908c8]\n",
       "link E5 to *end*E1--><a href=\"psysml:0d9f4e26-bf93-4aba-a8c6-6dafeae60007\" target=\"_top\" title=\"psysml:0d9f4e26-bf93-4aba-a8c6-6dafeae60007\" xlink:actuate=\"onRequest\" xlink:href=\"psysml:0d9f4e26-bf93-4aba-a8c6-6dafeae60007\" xlink:show=\"new\" xlink:title=\"psysml:0d9f4e26-bf93-4aba-a8c6-6dafeae60007\" xlink:type=\"simple\"><path d=\"M266,331.84 C266,331.84 266,343.46 266,343.46 \" fill=\"none\" id=\"E5-&gt;*end*E1\" style=\"stroke: #383838; stroke-width: 1.0; stroke-dasharray: 7.0,7.0;\"/><polygon fill=\"#383838\" points=\"266,348.46,270,339.46,266,343.46,262,339.46,266,348.46\" style=\"stroke: #383838; stroke-width: 1.0;\"/></a><!--MD5=[2720a5a1f2c3fca2055b230370638851]\n",
       "link E2 to E3--><a href=\"psysml:0f743cc2-6e19-41e4-aad8-79cb567e3158\" target=\"_top\" title=\"psysml:0f743cc2-6e19-41e4-aad8-79cb567e3158\" xlink:actuate=\"onRequest\" xlink:href=\"psysml:0f743cc2-6e19-41e4-aad8-79cb567e3158\" xlink:show=\"new\" xlink:title=\"psysml:0f743cc2-6e19-41e4-aad8-79cb567e3158\" xlink:type=\"simple\"><path d=\"M261.5,124.12 C261.5,124.12 261.5,142.3 261.5,142.3 \" fill=\"none\" id=\"E2-&gt;E3\" style=\"stroke: #383838; stroke-width: 1.0; stroke-dasharray: 7.0,7.0;\"/><polygon fill=\"#383838\" points=\"261.5,147.3,265.5,138.3,261.5,142.3,257.5,138.3,261.5,147.3\" style=\"stroke: #383838; stroke-width: 1.0;\"/></a><!--MD5=[af87c684e3b0d8be13c1a698a818ef1e]\n",
       "link E3 to E4--><a href=\"psysml:3404b4e6-fa1c-4cf0-a87f-a7f8eafbc3bc\" target=\"_top\" title=\"psysml:3404b4e6-fa1c-4cf0-a87f-a7f8eafbc3bc\" xlink:actuate=\"onRequest\" xlink:href=\"psysml:3404b4e6-fa1c-4cf0-a87f-a7f8eafbc3bc\" xlink:show=\"new\" xlink:title=\"psysml:3404b4e6-fa1c-4cf0-a87f-a7f8eafbc3bc\" xlink:type=\"simple\"><path d=\"M191,202.84 C191,202.84 191,230.34 191,230.34 \" fill=\"none\" id=\"E3-&gt;E4\" style=\"stroke: #383838; stroke-width: 1.0; stroke-dasharray: 7.0,7.0;\"/><polygon fill=\"#383838\" points=\"191,235.34,195,226.34,191,230.34,187,226.34,191,235.34\" style=\"stroke: #383838; stroke-width: 1.0;\"/></a><!--MD5=[1b7591eae5389033d8d09a9d6721a717]\n",
       "link E4 to E5--><a href=\"psysml:a56f0975-9bdd-4db4-ac34-32a8d14536cf\" target=\"_top\" title=\"psysml:a56f0975-9bdd-4db4-ac34-32a8d14536cf\" xlink:actuate=\"onRequest\" xlink:href=\"psysml:a56f0975-9bdd-4db4-ac34-32a8d14536cf\" xlink:show=\"new\" xlink:title=\"psysml:a56f0975-9bdd-4db4-ac34-32a8d14536cf\" xlink:type=\"simple\"><path d=\"M255.03,263.5 C258.74,263.5 261,263.5 261,263.5 C261,263.5 261,307.18 261,307.18 \" fill=\"none\" id=\"E4-&gt;E5\" style=\"stroke: #383838; stroke-width: 1.0; stroke-dasharray: 7.0,7.0;\"/><polygon fill=\"#383838\" points=\"261,312.18,265,303.18,261,307.18,257,303.18,261,312.18\" style=\"stroke: #383838; stroke-width: 1.0;\"/></a><!--MD5=[15ebcb19ae302d9b601edb458606d402]\n",
       "link E5 to E2--><a href=\"psysml:2a79c4d0-9744-4107-95b5-d9c642bb083b\" target=\"_top\" title=\"psysml:2a79c4d0-9744-4107-95b5-d9c642bb083b\" xlink:actuate=\"onRequest\" xlink:href=\"psysml:2a79c4d0-9744-4107-95b5-d9c642bb083b\" xlink:show=\"new\" xlink:title=\"psysml:2a79c4d0-9744-4107-95b5-d9c642bb083b\" xlink:type=\"simple\"><path d=\"M272.5,313.7 C272.5,313.7 272.5,131.4 272.5,131.4 \" fill=\"none\" id=\"E5-&gt;E2\" style=\"stroke: #383838; stroke-width: 1.0; stroke-dasharray: 7.0,7.0;\"/><polygon fill=\"#383838\" points=\"272.5,126.4,268.5,135.4,272.5,131.4,276.5,135.4,272.5,126.4\" style=\"stroke: #383838; stroke-width: 1.0;\"/><text fill=\"#000000\" font-family=\"sans-serif\" font-size=\"13\" lengthAdjust=\"spacingAndGlyphs\" textLength=\"36\" x=\"267\" y=\"223.5669\">[true]</text></a><!--MD5=[53b74bd3679a4b1e455d92d5d7833843]\n",
       "@startuml\r\n",
       "skinparam ranksep 8\r\n",
       "skinparam linetype ortho\r\n",
       "skinparam monochrome true\r\n",
       "skinparam classbackgroundcolor white\r\n",
       "skinparam shadowing false\r\n",
       "skinparam wrapWidth 300\r\n",
       "hide circle\r\n",
       "\r\n",
       "rec usage \"a\" as E1  <<(T,blue) action>> [[psysml:69e16b91-de61-4fe2-8ebf-63b040d0687a ]] {\r\n",
       "choice \"m\" as E2  [[psysml:ba661374-e1ab-49de-aa21-c62362c65829 ]] \r\n",
       "accept \" S\" as E3 << accept action>> [[psysml:dcf8e234-4de8-4cb8-a947-17c2138066f0 ]] \r\n",
       "send \" S() to  B()\" as E4 << send action>> [[psysml:18c3d457-6bb3-4962-a480-0e1b2254a09a ]] \r\n",
       "choice \"<s>noname</s>\" as E5  [[psysml:1cf4a57b-2f41-48db-bb2e-4817b665eacc ]] \r\n",
       "[*] ..> E2 [[psysml:8ec85343-59fa-499c-a77c-a2bbf8c30a9c ]] \r\n",
       "E5 ..> [*] [[psysml:0d9f4e26-bf93-4aba-a8c6-6dafeae60007 ]] \r\n",
       "}\r\n",
       "\r\n",
       "E2 ..> E3 [[psysml:0f743cc2-6e19-41e4-aad8-79cb567e3158 ]] \r\n",
       "E3 ..> E4 [[psysml:3404b4e6-fa1c-4cf0-a87f-a7f8eafbc3bc ]] \r\n",
       "E4 ..> E5 [[psysml:a56f0975-9bdd-4db4-ac34-32a8d14536cf ]] \r\n",
       "E5 ..> E2 [[psysml:2a79c4d0-9744-4107-95b5-d9c642bb083b ]] : [true]\r\n",
       "rec def \"B\" as E6  <<(T,blue) action  def>> [[psysml:530e5343-b7af-483f-85a0-93ec425d0302 ]] {\r\n",
       "}\r\n",
       "\r\n",
       "@enduml\r\n",
       "\n",
       "PlantUML version 1.2020.13(Sat Jun 13 12:26:38 UTC 2020)\n",
       "(EPL source distribution)\n",
       "Java Runtime: OpenJDK Runtime Environment\n",
       "JVM: OpenJDK 64-Bit Server VM\n",
       "Default Encoding: UTF-8\n",
       "Language: en\n",
       "Country: null\n",
       "--></g></svg>"
      ]
     },
     "execution_count": 55,
     "metadata": {},
     "output_type": "execute_result"
    }
   ],
   "source": [
    "%viz --style=\"ORTHOLINE\" --view=\"Action\" \"ActionTest\""
   ]
  },
  {
   "cell_type": "code",
   "execution_count": 56,
   "id": "82f9a406",
   "metadata": {
    "execution": {
     "iopub.execute_input": "2021-10-25T08:21:26.416322Z",
     "iopub.status.busy": "2021-10-25T08:21:26.415926Z",
     "iopub.status.idle": "2021-10-25T08:21:26.422433Z",
     "shell.execute_reply": "2021-10-25T08:21:26.422086Z"
    }
   },
   "outputs": [
    {
     "data": {
      "image/svg+xml": [
       "<?xml version=\"1.0\" encoding=\"UTF-8\" standalone=\"no\"?><svg xmlns=\"http://www.w3.org/2000/svg\" xmlns:xlink=\"http://www.w3.org/1999/xlink\" contentScriptType=\"application/ecmascript\" contentStyleType=\"text/css\" height=\"12px\" preserveAspectRatio=\"none\" style=\"width:12px;height:12px;\" version=\"1.1\" viewBox=\"0 0 12 12\" width=\"12px\" zoomAndPan=\"magnify\"><defs/><g><!--MD5=[30fc1de5121c5abddedd55b44417fde8]\n",
       "@startuml\r\n",
       "skinparam roundcorner 20\r\n",
       "skinparam BoxPadding 20\r\n",
       "skinparam SequenceBoxBackgroundColor #white\r\n",
       "skinparam style strictuml\r\n",
       "skinparam maxMessageSize 100\r\n",
       "skinparam linetype ortho\r\n",
       "skinparam monochrome true\r\n",
       "skinparam classbackgroundcolor white\r\n",
       "skinparam shadowing false\r\n",
       "skinparam wrapWidth 300\r\n",
       "hide circle\r\n",
       "\r\n",
       "@enduml\r\n",
       "\n",
       "PlantUML version 1.2020.13(Sat Jun 13 12:26:38 UTC 2020)\n",
       "(EPL source distribution)\n",
       "Java Runtime: OpenJDK Runtime Environment\n",
       "JVM: OpenJDK 64-Bit Server VM\n",
       "Default Encoding: UTF-8\n",
       "Language: en\n",
       "Country: null\n",
       "--></g></svg>"
      ]
     },
     "execution_count": 56,
     "metadata": {},
     "output_type": "execute_result"
    }
   ],
   "source": [
    "%viz --style=\"ORTHOLINE\" --view=\"Sequence\" \"ActionTest\""
   ]
  },
  {
   "cell_type": "code",
   "execution_count": 57,
   "id": "dd0208cb",
   "metadata": {
    "execution": {
     "iopub.execute_input": "2021-10-25T08:21:26.471875Z",
     "iopub.status.busy": "2021-10-25T08:21:26.471482Z",
     "iopub.status.idle": "2021-10-25T08:21:26.519829Z",
     "shell.execute_reply": "2021-10-25T08:21:26.519482Z"
    }
   },
   "outputs": [
    {
     "data": {
      "image/svg+xml": [
       "<?xml version=\"1.0\" encoding=\"UTF-8\" standalone=\"no\"?><svg xmlns=\"http://www.w3.org/2000/svg\" xmlns:xlink=\"http://www.w3.org/1999/xlink\" contentScriptType=\"application/ecmascript\" contentStyleType=\"text/css\" height=\"684px\" preserveAspectRatio=\"none\" style=\"width:526px;height:684px;\" version=\"1.1\" viewBox=\"0 0 526 684\" width=\"526px\" zoomAndPan=\"magnify\"><defs/><g><!--MD5=[fbc87193dbaf4d95561dea2c320d4a47]\n",
       "cluster E1--><a href=\"psysml:b606a038-0c45-436f-a3a1-beef47fa0e17\" target=\"_top\" title=\"psysml:b606a038-0c45-436f-a3a1-beef47fa0e17\" xlink:actuate=\"onRequest\" xlink:href=\"psysml:b606a038-0c45-436f-a3a1-beef47fa0e17\" xlink:show=\"new\" xlink:title=\"psysml:b606a038-0c45-436f-a3a1-beef47fa0e17\" xlink:type=\"simple\"><polygon fill=\"#FFFFFF\" points=\"16,6,96,6,103,28.2969,504,28.2969,504,672,16,672,16,6\" style=\"stroke: #000000; stroke-width: 1.5;\"/><line style=\"stroke: #000000; stroke-width: 1.5;\" x1=\"16\" x2=\"103\" y1=\"28.2969\" y2=\"28.2969\"/><text fill=\"#000000\" font-family=\"sans-serif\" font-size=\"14\" font-weight=\"bold\" lengthAdjust=\"spacingAndGlyphs\" textLength=\"74\" x=\"20\" y=\"20.9951\">ActionTest</text></a><!--MD5=[d5e69f78d87373223dbae638b30a9c99]\n",
       "cluster E3--><a href=\"psysml:69e16b91-de61-4fe2-8ebf-63b040d0687a\" target=\"_top\" title=\"psysml:69e16b91-de61-4fe2-8ebf-63b040d0687a\" xlink:actuate=\"onRequest\" xlink:href=\"psysml:69e16b91-de61-4fe2-8ebf-63b040d0687a\" xlink:show=\"new\" xlink:title=\"psysml:69e16b91-de61-4fe2-8ebf-63b040d0687a\" xlink:type=\"simple\"><rect fill=\"#FFFFFF\" height=\"599\" id=\"E3\" rx=\"10\" ry=\"10\" style=\"stroke: #383838; stroke-width: 1.5;\" width=\"209\" x=\"271\" y=\"49\"/><rect fill=\"#F8F8F8\" height=\"37.9375\" rx=\"10\" ry=\"10\" style=\"stroke: #F8F8F8; stroke-width: 1.5;\" width=\"209\" x=\"271\" y=\"49\"/><rect fill=\"#F8F8F8\" height=\"10\" style=\"stroke: #F8F8F8; stroke-width: 1.5;\" width=\"209\" x=\"271\" y=\"76.9375\"/><rect fill=\"none\" height=\"599\" id=\"E3\" rx=\"10\" ry=\"10\" style=\"stroke: #383838; stroke-width: 1.5;\" width=\"209\" x=\"271\" y=\"49\"/><text fill=\"#000000\" font-family=\"sans-serif\" font-size=\"12\" font-style=\"italic\" lengthAdjust=\"spacingAndGlyphs\" textLength=\"53\" x=\"349\" y=\"65.1387\">«action»</text><text fill=\"#000000\" font-family=\"sans-serif\" font-size=\"12\" lengthAdjust=\"spacingAndGlyphs\" textLength=\"8\" x=\"371.5\" y=\"79.1074\">a</text><line style=\"stroke: #383838; stroke-width: 1.0;\" x1=\"271\" x2=\"480\" y1=\"86.9375\" y2=\"86.9375\"/></a><!--MD5=[b4997ac47864f28c2f74865a473b2911]\n",
       "class E2--><a href=\"psysml:f9329402-d9ed-482b-aa71-2e931e2796d7\" target=\"_top\" title=\"psysml:f9329402-d9ed-482b-aa71-2e931e2796d7\" xlink:actuate=\"onRequest\" xlink:href=\"psysml:f9329402-d9ed-482b-aa71-2e931e2796d7\" xlink:show=\"new\" xlink:title=\"psysml:f9329402-d9ed-482b-aa71-2e931e2796d7\" xlink:type=\"simple\"><rect fill=\"#FFFFFF\" height=\"45.9375\" id=\"E2\" style=\"stroke: #383838; stroke-width: 1.5;\" width=\"99\" x=\"155.5\" y=\"87\"/><text fill=\"#000000\" font-family=\"sans-serif\" font-size=\"12\" font-style=\"italic\" lengthAdjust=\"spacingAndGlyphs\" textLength=\"97\" x=\"156.5\" y=\"103.1387\">«attribute  def»</text><text fill=\"#000000\" font-family=\"sans-serif\" font-size=\"12\" lengthAdjust=\"spacingAndGlyphs\" textLength=\"8\" x=\"201\" y=\"117.1074\">S</text><line style=\"stroke: #383838; stroke-width: 1.5;\" x1=\"156.5\" x2=\"253.5\" y1=\"124.9375\" y2=\"124.9375\"/></a><polygon fill=\"#F8F8F8\" points=\"428,194,440,206,428,218,416,206,428,194\" style=\"stroke: #383838; stroke-width: 1.5;\"/><!--MD5=[21dd76c19d33815960c0e92fef8f0eef]\n",
       "entity E5--><a href=\"psysml:dcf8e234-4de8-4cb8-a947-17c2138066f0\" target=\"_top\" title=\"psysml:dcf8e234-4de8-4cb8-a947-17c2138066f0\" xlink:actuate=\"onRequest\" xlink:href=\"psysml:dcf8e234-4de8-4cb8-a947-17c2138066f0\" xlink:show=\"new\" xlink:title=\"psysml:dcf8e234-4de8-4cb8-a947-17c2138066f0\" xlink:type=\"simple\"><polygon fill=\"#F8F8F8\" points=\"287,279,287,333.5938,427,333.5938,407,306.2969,427,279\" style=\"stroke: #000000; stroke-width: 1.5;\"/><text fill=\"#000000\" font-family=\"sans-serif\" font-size=\"14\" font-style=\"italic\" lengthAdjust=\"spacingAndGlyphs\" textLength=\"111\" x=\"294\" y=\"301.9951\">«accept action»</text><text fill=\"#000000\" font-family=\"sans-serif\" font-size=\"14\" lengthAdjust=\"spacingAndGlyphs\" textLength=\"9\" x=\"345\" y=\"319.292\">S</text></a><!--MD5=[24d87cdf3002d433f401b2a2aa9f9f65]\n",
       "entity E6--><a href=\"psysml:18c3d457-6bb3-4962-a480-0e1b2254a09a\" target=\"_top\" title=\"psysml:18c3d457-6bb3-4962-a480-0e1b2254a09a\" xlink:actuate=\"onRequest\" xlink:href=\"psysml:18c3d457-6bb3-4962-a480-0e1b2254a09a\" xlink:show=\"new\" xlink:title=\"psysml:18c3d457-6bb3-4962-a480-0e1b2254a09a\" xlink:type=\"simple\"><polygon fill=\"#F8F8F8\" points=\"287,411,287,465.5938,395,465.5938,415,438.2969,395,411\" style=\"stroke: #000000; stroke-width: 1.5;\"/><text fill=\"#000000\" font-family=\"sans-serif\" font-size=\"14\" font-style=\"italic\" lengthAdjust=\"spacingAndGlyphs\" textLength=\"99\" x=\"294\" y=\"433.9951\">«send action»</text><text fill=\"#000000\" font-family=\"sans-serif\" font-size=\"14\" lengthAdjust=\"spacingAndGlyphs\" textLength=\"65\" x=\"311\" y=\"451.292\">S() to  B()</text></a><polygon fill=\"#F8F8F8\" points=\"426,527,438,539,426,551,414,539,426,527\" style=\"stroke: #383838; stroke-width: 1.5;\"/><ellipse cx=\"428\" cy=\"110\" fill=\"#000000\" rx=\"10\" ry=\"10\" style=\"stroke: none; stroke-width: 1.0;\"/><ellipse cx=\"426\" cy=\"622\" fill=\"none\" rx=\"10\" ry=\"10\" style=\"stroke: #000000; stroke-width: 1.0;\"/><ellipse cx=\"426.5\" cy=\"622.5\" fill=\"#000000\" rx=\"6\" ry=\"6\" style=\"stroke: none; stroke-width: 1.0;\"/><g id=\"E1.E8\"><a href=\"psysml:530e5343-b7af-483f-85a0-93ec425d0302\" target=\"_top\" title=\"psysml:530e5343-b7af-483f-85a0-93ec425d0302\" xlink:actuate=\"onRequest\" xlink:href=\"psysml:530e5343-b7af-483f-85a0-93ec425d0302\" xlink:show=\"new\" xlink:title=\"psysml:530e5343-b7af-483f-85a0-93ec425d0302\" xlink:type=\"simple\"><rect fill=\"#FFFFFF\" height=\"42.9375\" id=\"E8\" style=\"stroke: #383838; stroke-width: 1.5;\" width=\"88\" x=\"32\" y=\"88.5\"/><rect fill=\"#F8F8F8\" height=\"37.9375\" style=\"stroke: #383838; stroke-width: 1.5;\" width=\"88\" x=\"32\" y=\"88.5\"/><text fill=\"#000000\" font-family=\"sans-serif\" font-size=\"12\" font-style=\"italic\" lengthAdjust=\"spacingAndGlyphs\" textLength=\"81\" x=\"35.5\" y=\"104.6387\">«action  def»</text><text fill=\"#000000\" font-family=\"sans-serif\" font-size=\"12\" lengthAdjust=\"spacingAndGlyphs\" textLength=\"8\" x=\"72\" y=\"118.6074\">B</text></a></g><!--MD5=[f47e10efcf9a6752d55dae986d790ed9]\n",
       "link *start*E3 to E4--><a href=\"psysml:8ec85343-59fa-499c-a77c-a2bbf8c30a9c\" target=\"_top\" title=\"psysml:8ec85343-59fa-499c-a77c-a2bbf8c30a9c\" xlink:actuate=\"onRequest\" xlink:href=\"psysml:8ec85343-59fa-499c-a77c-a2bbf8c30a9c\" xlink:show=\"new\" xlink:title=\"psysml:8ec85343-59fa-499c-a77c-a2bbf8c30a9c\" xlink:type=\"simple\"><path d=\"M428,120.27 C428,120.27 428,188.7 428,188.7 \" fill=\"none\" id=\"*start*E3-&gt;E4\" style=\"stroke: #383838; stroke-width: 1.0;\"/><polygon fill=\"#383838\" points=\"428,193.7,432,184.7,428,188.7,424,184.7,428,193.7\" style=\"stroke: #383838; stroke-width: 1.0;\"/></a><!--MD5=[d19f2eb34364d71b67042106d92f540b]\n",
       "link E7 to *end*E3--><a href=\"psysml:0d9f4e26-bf93-4aba-a8c6-6dafeae60007\" target=\"_top\" title=\"psysml:0d9f4e26-bf93-4aba-a8c6-6dafeae60007\" xlink:actuate=\"onRequest\" xlink:href=\"psysml:0d9f4e26-bf93-4aba-a8c6-6dafeae60007\" xlink:show=\"new\" xlink:title=\"psysml:0d9f4e26-bf93-4aba-a8c6-6dafeae60007\" xlink:type=\"simple\"><path d=\"M426,551.25 C426,551.25 426,606.8 426,606.8 \" fill=\"none\" id=\"E7-&gt;*end*E3\" style=\"stroke: #383838; stroke-width: 1.0;\"/><polygon fill=\"#383838\" points=\"426,611.8,430,602.8,426,606.8,422,602.8,426,611.8\" style=\"stroke: #383838; stroke-width: 1.0;\"/></a><!--MD5=[1b7591eae5389033d8d09a9d6721a717]\n",
       "link E4 to E5--><a href=\"psysml:0f743cc2-6e19-41e4-aad8-79cb567e3158\" target=\"_top\" title=\"psysml:0f743cc2-6e19-41e4-aad8-79cb567e3158\" xlink:actuate=\"onRequest\" xlink:href=\"psysml:0f743cc2-6e19-41e4-aad8-79cb567e3158\" xlink:show=\"new\" xlink:title=\"psysml:0f743cc2-6e19-41e4-aad8-79cb567e3158\" xlink:type=\"simple\"><path d=\"M421.5,211.69 C421.5,211.69 421.5,273.98 421.5,273.98 \" fill=\"none\" id=\"E4-&gt;E5\" style=\"stroke: #383838; stroke-width: 1.0;\"/><polygon fill=\"#383838\" points=\"421.5,278.98,425.5,269.98,421.5,273.98,417.5,269.98,421.5,278.98\" style=\"stroke: #383838; stroke-width: 1.0;\"/><text fill=\"#000000\" font-family=\"sans-serif\" font-size=\"13\" lengthAdjust=\"spacingAndGlyphs\" textLength=\"7\" x=\"428.6063\" y=\"268.0108\">*</text></a><!--MD5=[9120cf2e5df3bff93db8f754bbbc09b4]\n",
       "link E5 to E6--><a href=\"psysml:3404b4e6-fa1c-4cf0-a87f-a7f8eafbc3bc\" target=\"_top\" title=\"psysml:3404b4e6-fa1c-4cf0-a87f-a7f8eafbc3bc\" xlink:actuate=\"onRequest\" xlink:href=\"psysml:3404b4e6-fa1c-4cf0-a87f-a7f8eafbc3bc\" xlink:show=\"new\" xlink:title=\"psysml:3404b4e6-fa1c-4cf0-a87f-a7f8eafbc3bc\" xlink:type=\"simple\"><path d=\"M351,334.17 C351,334.17 351,405.86 351,405.86 \" fill=\"none\" id=\"E5-&gt;E6\" style=\"stroke: #383838; stroke-width: 1.0;\"/><polygon fill=\"#383838\" points=\"351,410.86,355,401.86,351,405.86,347,401.86,351,410.86\" style=\"stroke: #383838; stroke-width: 1.0;\"/><text fill=\"#000000\" font-family=\"sans-serif\" font-size=\"13\" lengthAdjust=\"spacingAndGlyphs\" textLength=\"7\" x=\"343.1906\" y=\"399.8631\">*</text></a><!--MD5=[02c70b7c851c11e3980e4e90450dc5dd]\n",
       "link E6 to E7--><a href=\"psysml:a56f0975-9bdd-4db4-ac34-32a8d14536cf\" target=\"_top\" title=\"psysml:a56f0975-9bdd-4db4-ac34-32a8d14536cf\" xlink:actuate=\"onRequest\" xlink:href=\"psysml:a56f0975-9bdd-4db4-ac34-32a8d14536cf\" xlink:show=\"new\" xlink:title=\"psysml:a56f0975-9bdd-4db4-ac34-32a8d14536cf\" xlink:type=\"simple\"><path d=\"M415.03,439 C418.74,439 421,439 421,439 C421,439 421,526.81 421,526.81 \" fill=\"none\" id=\"E6-&gt;E7\" style=\"stroke: #383838; stroke-width: 1.0;\"/><polygon fill=\"#383838\" points=\"421,531.81,425,522.81,421,526.81,417,522.81,421,531.81\" style=\"stroke: #383838; stroke-width: 1.0;\"/><text fill=\"#000000\" font-family=\"sans-serif\" font-size=\"13\" lengthAdjust=\"spacingAndGlyphs\" textLength=\"7\" x=\"406.5625\" y=\"516.0813\">*</text></a><!--MD5=[6bdd27f9905911a7e892a3dc65cf6b7c]\n",
       "link E7 to E4--><a href=\"psysml:2a79c4d0-9744-4107-95b5-d9c642bb083b\" target=\"_top\" title=\"psysml:2a79c4d0-9744-4107-95b5-d9c642bb083b\" xlink:actuate=\"onRequest\" xlink:href=\"psysml:2a79c4d0-9744-4107-95b5-d9c642bb083b\" xlink:show=\"new\" xlink:title=\"psysml:2a79c4d0-9744-4107-95b5-d9c642bb083b\" xlink:type=\"simple\"><path d=\"M432.5,533.5 C432.5,533.5 432.5,218.64 432.5,218.64 \" fill=\"none\" id=\"E7-&gt;E4\" style=\"stroke: #383838; stroke-width: 1.0;\"/><polygon fill=\"#383838\" points=\"432.5,213.64,428.5,222.64,432.5,218.64,436.5,222.64,432.5,213.64\" style=\"stroke: #383838; stroke-width: 1.0;\"/><text fill=\"#000000\" font-family=\"sans-serif\" font-size=\"13\" lengthAdjust=\"spacingAndGlyphs\" textLength=\"36\" x=\"427\" y=\"377.0669\">[true]</text><text fill=\"#000000\" font-family=\"sans-serif\" font-size=\"13\" lengthAdjust=\"spacingAndGlyphs\" textLength=\"7\" x=\"426.325\" y=\"238.2522\">*</text></a><!--MD5=[4d48253dd6b463f93c510030e9633fd8]\n",
       "@startuml\r\n",
       "skinparam linetype ortho\r\n",
       "skinparam monochrome true\r\n",
       "skinparam classbackgroundcolor white\r\n",
       "skinparam shadowing false\r\n",
       "skinparam wrapWidth 300\r\n",
       "hide circle\r\n",
       "\r\n",
       "package \"ActionTest\" as E1  [[psysml:b606a038-0c45-436f-a3a1-beef47fa0e17 ]]  {\r\n",
       "comp def \"S\" as E2  <<(T,blue) attribute  def>> [[psysml:f9329402-d9ed-482b-aa71-2e931e2796d7 ]] {\r\n",
       "}\r\n",
       "rec usage \"a\" as E3  <<(T,blue) action>> [[psysml:69e16b91-de61-4fe2-8ebf-63b040d0687a ]] {\r\n",
       "choice \"m\" as E4  [[psysml:ba661374-e1ab-49de-aa21-c62362c65829 ]] \r\n",
       "accept \" S\" as E5 << accept action>> [[psysml:dcf8e234-4de8-4cb8-a947-17c2138066f0 ]] \r\n",
       "send \" S() to  B()\" as E6 << send action>> [[psysml:18c3d457-6bb3-4962-a480-0e1b2254a09a ]] \r\n",
       "choice \"<s>noname</s>\" as E7  [[psysml:1cf4a57b-2f41-48db-bb2e-4817b665eacc ]] \r\n",
       "[*] - -> E4 [[psysml:8ec85343-59fa-499c-a77c-a2bbf8c30a9c ]] \r\n",
       "E7  - -> [*] [[psysml:0d9f4e26-bf93-4aba-a8c6-6dafeae60007 ]] \r\n",
       "}\r\n",
       "\r\n",
       "rec def \"B\" as E8  <<(T,blue) action  def>> [[psysml:530e5343-b7af-483f-85a0-93ec425d0302 ]] {\r\n",
       "}\r\n",
       "\r\n",
       "}\r\n",
       "E4 - -> \"*\"E5 [[psysml:0f743cc2-6e19-41e4-aad8-79cb567e3158 ]] \r\n",
       "E5 - -> \"*\"E6 [[psysml:3404b4e6-fa1c-4cf0-a87f-a7f8eafbc3bc ]] \r\n",
       "E6 - -> \"*\"E7 [[psysml:a56f0975-9bdd-4db4-ac34-32a8d14536cf ]] \r\n",
       "E7  - -> \"*\"E4 [[psysml:2a79c4d0-9744-4107-95b5-d9c642bb083b ]] : [true]\r\n",
       "@enduml\r\n",
       "\n",
       "PlantUML version 1.2020.13(Sat Jun 13 12:26:38 UTC 2020)\n",
       "(EPL source distribution)\n",
       "Java Runtime: OpenJDK Runtime Environment\n",
       "JVM: OpenJDK 64-Bit Server VM\n",
       "Default Encoding: UTF-8\n",
       "Language: en\n",
       "Country: null\n",
       "--></g></svg>"
      ]
     },
     "execution_count": 57,
     "metadata": {},
     "output_type": "execute_result"
    }
   ],
   "source": [
    "%viz --style=\"ORTHOLINE\" --view=\"MIXED\" \"ActionTest\""
   ]
  }
 ],
 "metadata": {
  "kernelspec": {
   "display_name": "SysML",
   "language": "sysml",
   "name": "sysml"
  },
  "language_info": {
   "codemirror_mode": "sysml",
   "file_extension": ".sysml",
   "mimetype": "text/x-sysml",
   "name": "SysML",
   "pygments_lexer": "java",
   "version": "1.0.0"
  }
 },
 "nbformat": 4,
 "nbformat_minor": 5
}
