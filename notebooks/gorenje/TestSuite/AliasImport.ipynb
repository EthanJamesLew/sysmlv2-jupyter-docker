{
 "cells": [
  {
   "cell_type": "markdown",
   "id": "7c1d44f2",
   "metadata": {},
   "source": [
    "# SysML v2 Test Suite\n",
    "\n",
    "This can notebook can be cleared using menu `Edit --> Clear All Outputs` and then all cells can be\n",
    "run using menu `Run --> Run All Cells`.\n",
    "\n",
    "**WARNING**: This file is generated, all modifications here will be ignored.\n"
   ]
  },
  {
   "cell_type": "markdown",
   "id": "062fec19",
   "metadata": {},
   "source": [
    "## File: ../../sysml/src/examples/Import Tests/AliasImport.sysml"
   ]
  },
  {
   "cell_type": "code",
   "execution_count": 1,
   "id": "3ab337b5",
   "metadata": {
    "execution": {
     "iopub.execute_input": "2022-03-21T07:53:00.531652Z",
     "iopub.status.busy": "2022-03-21T07:53:00.530483Z",
     "iopub.status.idle": "2022-03-21T07:53:00.645357Z",
     "shell.execute_reply": "2022-03-21T07:53:00.644838Z"
    }
   },
   "outputs": [
    {
     "data": {
      "text/plain": [
       "Package AliasImport (6767f22a-9236-4929-8ae7-4dfbaa6108ab)\n"
      ]
     },
     "execution_count": 1,
     "metadata": {},
     "output_type": "execute_result"
    }
   ],
   "source": [
    "package AliasImport {\n",
    "\tpackage Definitions {\n",
    "\t    part def Vehicle;\n",
    "\t    \n",
    "\t    alias Car for Vehicle;\n",
    "\t}\n",
    "\t\n",
    "\tpackage Usages {\n",
    "\t    import Definitions::Car;\n",
    "\t\n",
    "\t    part vehicle : Car;\n",
    "\t}\n",
    "}"
   ]
  },
  {
   "cell_type": "code",
   "execution_count": 2,
   "id": "0bd87686",
   "metadata": {
    "execution": {
     "iopub.execute_input": "2022-03-21T07:53:00.696690Z",
     "iopub.status.busy": "2022-03-21T07:53:00.696260Z",
     "iopub.status.idle": "2022-03-21T07:53:01.107373Z",
     "shell.execute_reply": "2022-03-21T07:53:01.105369Z"
    }
   },
   "outputs": [
    {
     "data": {
      "image/svg+xml": [
       "<?xml version=\"1.0\" encoding=\"UTF-8\" standalone=\"no\"?><svg xmlns=\"http://www.w3.org/2000/svg\" xmlns:xlink=\"http://www.w3.org/1999/xlink\" contentScriptType=\"application/ecmascript\" contentStyleType=\"text/css\" height=\"360px\" preserveAspectRatio=\"none\" style=\"width:275px;height:360px;\" version=\"1.1\" viewBox=\"0 0 275 360\" width=\"275px\" zoomAndPan=\"magnify\"><defs/><g><!--MD5=[fbc87193dbaf4d95561dea2c320d4a47]\n",
       "cluster E1--><a href=\"psysml:a585b742-f262-46cd-b94a-c90c9e84789e\" target=\"_top\" title=\"psysml:a585b742-f262-46cd-b94a-c90c9e84789e\" xlink:actuate=\"onRequest\" xlink:href=\"psysml:a585b742-f262-46cd-b94a-c90c9e84789e\" xlink:show=\"new\" xlink:title=\"psysml:a585b742-f262-46cd-b94a-c90c9e84789e\" xlink:type=\"simple\"><polygon fill=\"#FFFFFF\" points=\"16,6,97,6,104,28.2969,253,28.2969,253,348,16,348,16,6\" style=\"stroke: #000000; stroke-width: 1.5;\"/><line style=\"stroke: #000000; stroke-width: 1.5;\" x1=\"16\" x2=\"104\" y1=\"28.2969\" y2=\"28.2969\"/><text fill=\"#000000\" font-family=\"sans-serif\" font-size=\"14\" font-weight=\"bold\" lengthAdjust=\"spacingAndGlyphs\" textLength=\"75\" x=\"20\" y=\"20.9951\">AliasImport</text></a><!--MD5=[e4f7fae6ed58524ba242bb0b0d3be6b7]\n",
       "cluster E2--><a href=\"psysml:336f27c4-53da-4ebc-95bd-6f6303678a10\" target=\"_top\" title=\"psysml:336f27c4-53da-4ebc-95bd-6f6303678a10\" xlink:actuate=\"onRequest\" xlink:href=\"psysml:336f27c4-53da-4ebc-95bd-6f6303678a10\" xlink:show=\"new\" xlink:title=\"psysml:336f27c4-53da-4ebc-95bd-6f6303678a10\" xlink:type=\"simple\"><polygon fill=\"#FFFFFF\" points=\"65,227,144,227,151,249.2969,167,249.2969,167,324,65,324,65,227\" style=\"stroke: #000000; stroke-width: 1.5;\"/><line style=\"stroke: #000000; stroke-width: 1.5;\" x1=\"65\" x2=\"151\" y1=\"249.2969\" y2=\"249.2969\"/><text fill=\"#000000\" font-family=\"sans-serif\" font-size=\"14\" font-weight=\"bold\" lengthAdjust=\"spacingAndGlyphs\" textLength=\"73\" x=\"69\" y=\"241.9951\">Definitions</text></a><!--MD5=[f6df4d0ebaf0b5dfb2ced0ae5af7c670]\n",
       "cluster E4--><a href=\"psysml:1c99181b-1c33-4a44-b1a9-f0fa19d834f2\" target=\"_top\" title=\"psysml:1c99181b-1c33-4a44-b1a9-f0fa19d834f2\" xlink:actuate=\"onRequest\" xlink:href=\"psysml:1c99181b-1c33-4a44-b1a9-f0fa19d834f2\" xlink:show=\"new\" xlink:title=\"psysml:1c99181b-1c33-4a44-b1a9-f0fa19d834f2\" xlink:type=\"simple\"><polygon fill=\"#FFFFFF\" points=\"48,57,106,57,113,79.2969,221,79.2969,221,170,48,170,48,57\" style=\"stroke: #000000; stroke-width: 1.5;\"/><line style=\"stroke: #000000; stroke-width: 1.5;\" x1=\"48\" x2=\"113\" y1=\"79.2969\" y2=\"79.2969\"/><text fill=\"#000000\" font-family=\"sans-serif\" font-size=\"14\" font-weight=\"bold\" lengthAdjust=\"spacingAndGlyphs\" textLength=\"52\" x=\"52\" y=\"71.9951\">Usages</text></a><!--MD5=[09b614a08d8cba4a07c9adeb5e0fee81]\n",
       "class E3--><a href=\"psysml:e00f8094-2dc0-4541-ab70-7f0589b02177\" target=\"_top\" title=\"psysml:e00f8094-2dc0-4541-ab70-7f0589b02177\" xlink:actuate=\"onRequest\" xlink:href=\"psysml:e00f8094-2dc0-4541-ab70-7f0589b02177\" xlink:show=\"new\" xlink:title=\"psysml:e00f8094-2dc0-4541-ab70-7f0589b02177\" xlink:type=\"simple\"><rect fill=\"#FFFFFF\" height=\"45.9375\" id=\"E3\" style=\"stroke: #383838; stroke-width: 1.5;\" width=\"70\" x=\"81\" y=\"262\"/><text fill=\"#000000\" font-family=\"sans-serif\" font-size=\"12\" font-style=\"italic\" lengthAdjust=\"spacingAndGlyphs\" textLength=\"68\" x=\"82\" y=\"278.1387\">«part  def»</text><text fill=\"#000000\" font-family=\"sans-serif\" font-size=\"12\" lengthAdjust=\"spacingAndGlyphs\" textLength=\"45\" x=\"93.5\" y=\"292.1074\">Vehicle</text><line style=\"stroke: #383838; stroke-width: 1.5;\" x1=\"82\" x2=\"150\" y1=\"299.9375\" y2=\"299.9375\"/></a><!--MD5=[270fce915f116d4de14055a7c1d9a0f3]\n",
       "class E5--><a href=\"psysml:9c534076-d85a-4836-b001-6ecd6cbd12fb\" target=\"_top\" title=\"psysml:9c534076-d85a-4836-b001-6ecd6cbd12fb\" xlink:actuate=\"onRequest\" xlink:href=\"psysml:9c534076-d85a-4836-b001-6ecd6cbd12fb\" xlink:show=\"new\" xlink:title=\"psysml:9c534076-d85a-4836-b001-6ecd6cbd12fb\" xlink:type=\"simple\"><rect fill=\"#FFFFFF\" height=\"45.9375\" id=\"E5\" rx=\"10\" ry=\"10\" style=\"stroke: #383838; stroke-width: 1.5;\" width=\"106\" x=\"91\" y=\"100\"/><text fill=\"#000000\" font-family=\"sans-serif\" font-size=\"12\" font-style=\"italic\" lengthAdjust=\"spacingAndGlyphs\" textLength=\"40\" x=\"124\" y=\"116.1387\">«part»</text><text fill=\"#000000\" font-family=\"sans-serif\" font-size=\"12\" lengthAdjust=\"spacingAndGlyphs\" textLength=\"96\" x=\"94\" y=\"130.1074\">vehicle: Vehicle</text><line style=\"stroke: #383838; stroke-width: 1.5;\" x1=\"92\" x2=\"196\" y1=\"137.9375\" y2=\"137.9375\"/></a><!--MD5=[f0cdf4548168e5211fb3a02bf679d63a]\n",
       "link E4 to E3--><a href=\"psysml:754d7efd-e1b6-49fa-9136-3270d64a1ac4\" target=\"_top\" title=\"psysml:754d7efd-e1b6-49fa-9136-3270d64a1ac4\" xlink:actuate=\"onRequest\" xlink:href=\"psysml:754d7efd-e1b6-49fa-9136-3270d64a1ac4\" xlink:show=\"new\" xlink:title=\"psysml:754d7efd-e1b6-49fa-9136-3270d64a1ac4\" xlink:type=\"simple\"><path d=\"M58.5005,170.0549 C58.5193,170.2001 58.5383,170.3454 58.5574,170.4908 C58.6338,171.0725 58.7124,171.6562 58.7932,172.2415 C58.9548,173.4122 59.1253,174.5898 59.3052,175.7725 C59.6651,178.1379 60.0625,180.5238 60.5014,182.9158 C62.2569,192.4838 64.675,202.15 68,211 C74.23,227.58 84.77,244.23 94.38,257.43 \" fill=\"none\" id=\"E4-&gt;E3\" style=\"stroke: #383838; stroke-width: 1.0; stroke-dasharray: 7.0,7.0;\"/><polygon fill=\"#383838\" points=\"97.6,261.77,95.4384,252.1613,94.616,257.758,89.0193,256.9357,97.6,261.77\" style=\"stroke: #383838; stroke-width: 1.0;\"/><text fill=\"#000000\" font-family=\"sans-serif\" font-size=\"13\" lengthAdjust=\"spacingAndGlyphs\" textLength=\"58\" x=\"69\" y=\"207.0669\">«import»</text></a><!--MD5=[e9be52314489bd878ff4c7144b63c9e1]\n",
       "link E5 to E3--><a href=\"psysml:35d55ec3-6fe4-4032-923f-7a8654029377\" target=\"_top\" title=\"psysml:35d55ec3-6fe4-4032-923f-7a8654029377\" xlink:actuate=\"onRequest\" xlink:href=\"psysml:35d55ec3-6fe4-4032-923f-7a8654029377\" xlink:show=\"new\" xlink:title=\"psysml:35d55ec3-6fe4-4032-923f-7a8654029377\" xlink:type=\"simple\"><path d=\"M143.03,146.32 C142,163.98 139.95,189.21 136,211 C134.13,221.29 131.49,232.23 128.74,242.43 \" fill=\"none\" id=\"E5-&gt;E3\" style=\"stroke: #383838; stroke-width: 1.0;\"/><polygon fill=\"#FFFFFF\" points=\"123.15,261.87,121.6727,241.6755,135.1276,245.544,123.15,261.87\" style=\"stroke: #383838; stroke-width: 1.0;\"/><ellipse cx=\"125.1699\" cy=\"236.7501\" fill=\"#383838\" rx=\"2\" ry=\"2\" style=\"stroke: #383838; stroke-width: 1.0;\"/><ellipse cx=\"134.7805\" cy=\"239.5133\" fill=\"#383838\" rx=\"2\" ry=\"2\" style=\"stroke: #383838; stroke-width: 1.0;\"/></a><!--MD5=[3f665a020627a365a81fc83500dcefb8]\n",
       "@startuml\r\n",
       " skinparam monochrome true\r\n",
       "skinparam classbackgroundcolor white\r\n",
       "skinparam shadowing false\r\n",
       "skinparam wrapWidth 300\r\n",
       "hide circle\r\n",
       "\r\n",
       "package \"AliasImport\" as E1  [[psysml:a585b742-f262-46cd-b94a-c90c9e84789e ]]  {\r\n",
       "package \"Definitions\" as E2  [[psysml:336f27c4-53da-4ebc-95bd-6f6303678a10 ]]  {\r\n",
       "comp def \"Vehicle\" as E3  <<(T,blue) part  def>> [[psysml:e00f8094-2dc0-4541-ab70-7f0589b02177 ]] {\r\n",
       "}\r\n",
       "}\r\n",
       "package \"Usages\" as E4  [[psysml:1c99181b-1c33-4a44-b1a9-f0fa19d834f2 ]]  {\r\n",
       "comp usage \"vehicle: Vehicle \" as E5  <<(T,blue) part>> [[psysml:9c534076-d85a-4836-b001-6ecd6cbd12fb ]] {\r\n",
       "}\r\n",
       "}\r\n",
       "}\r\n",
       "E4 ..> E3 [[psysml:754d7efd-e1b6-49fa-9136-3270d64a1ac4 ]] : <<import>>\r\n",
       "E5 - -:|> E3 [[psysml:35d55ec3-6fe4-4032-923f-7a8654029377 ]] \r\n",
       "@enduml\r\n",
       "\n",
       "PlantUML version 1.2020.13(Sat Jun 13 12:26:38 UTC 2020)\n",
       "(EPL source distribution)\n",
       "Java Runtime: OpenJDK Runtime Environment\n",
       "JVM: OpenJDK 64-Bit Server VM\n",
       "Default Encoding: UTF-8\n",
       "Language: en\n",
       "Country: null\n",
       "--></g></svg>"
      ]
     },
     "execution_count": 2,
     "metadata": {},
     "output_type": "execute_result"
    }
   ],
   "source": [
    "%viz --style=\"COMPTREE\" --view=\"Default\" \"AliasImport\""
   ]
  },
  {
   "cell_type": "code",
   "execution_count": 3,
   "id": "a713da76",
   "metadata": {
    "execution": {
     "iopub.execute_input": "2022-03-21T07:53:01.155741Z",
     "iopub.status.busy": "2022-03-21T07:53:01.155504Z",
     "iopub.status.idle": "2022-03-21T07:53:01.207767Z",
     "shell.execute_reply": "2022-03-21T07:53:01.205882Z"
    }
   },
   "outputs": [
    {
     "data": {
      "image/svg+xml": [
       "<?xml version=\"1.0\" encoding=\"UTF-8\" standalone=\"no\"?><svg xmlns=\"http://www.w3.org/2000/svg\" xmlns:xlink=\"http://www.w3.org/1999/xlink\" contentScriptType=\"application/ecmascript\" contentStyleType=\"text/css\" height=\"360px\" preserveAspectRatio=\"none\" style=\"width:275px;height:360px;\" version=\"1.1\" viewBox=\"0 0 275 360\" width=\"275px\" zoomAndPan=\"magnify\"><defs/><g><!--MD5=[fbc87193dbaf4d95561dea2c320d4a47]\n",
       "cluster E1--><a href=\"psysml:a585b742-f262-46cd-b94a-c90c9e84789e\" target=\"_top\" title=\"psysml:a585b742-f262-46cd-b94a-c90c9e84789e\" xlink:actuate=\"onRequest\" xlink:href=\"psysml:a585b742-f262-46cd-b94a-c90c9e84789e\" xlink:show=\"new\" xlink:title=\"psysml:a585b742-f262-46cd-b94a-c90c9e84789e\" xlink:type=\"simple\"><polygon fill=\"#FFFFFF\" points=\"16,6,97,6,104,28.2969,253,28.2969,253,348,16,348,16,6\" style=\"stroke: #000000; stroke-width: 1.5;\"/><line style=\"stroke: #000000; stroke-width: 1.5;\" x1=\"16\" x2=\"104\" y1=\"28.2969\" y2=\"28.2969\"/><text fill=\"#000000\" font-family=\"sans-serif\" font-size=\"14\" font-weight=\"bold\" lengthAdjust=\"spacingAndGlyphs\" textLength=\"75\" x=\"20\" y=\"20.9951\">AliasImport</text></a><!--MD5=[e4f7fae6ed58524ba242bb0b0d3be6b7]\n",
       "cluster E2--><a href=\"psysml:336f27c4-53da-4ebc-95bd-6f6303678a10\" target=\"_top\" title=\"psysml:336f27c4-53da-4ebc-95bd-6f6303678a10\" xlink:actuate=\"onRequest\" xlink:href=\"psysml:336f27c4-53da-4ebc-95bd-6f6303678a10\" xlink:show=\"new\" xlink:title=\"psysml:336f27c4-53da-4ebc-95bd-6f6303678a10\" xlink:type=\"simple\"><polygon fill=\"#FFFFFF\" points=\"65,227,144,227,151,249.2969,167,249.2969,167,324,65,324,65,227\" style=\"stroke: #000000; stroke-width: 1.5;\"/><line style=\"stroke: #000000; stroke-width: 1.5;\" x1=\"65\" x2=\"151\" y1=\"249.2969\" y2=\"249.2969\"/><text fill=\"#000000\" font-family=\"sans-serif\" font-size=\"14\" font-weight=\"bold\" lengthAdjust=\"spacingAndGlyphs\" textLength=\"73\" x=\"69\" y=\"241.9951\">Definitions</text></a><!--MD5=[f6df4d0ebaf0b5dfb2ced0ae5af7c670]\n",
       "cluster E4--><a href=\"psysml:1c99181b-1c33-4a44-b1a9-f0fa19d834f2\" target=\"_top\" title=\"psysml:1c99181b-1c33-4a44-b1a9-f0fa19d834f2\" xlink:actuate=\"onRequest\" xlink:href=\"psysml:1c99181b-1c33-4a44-b1a9-f0fa19d834f2\" xlink:show=\"new\" xlink:title=\"psysml:1c99181b-1c33-4a44-b1a9-f0fa19d834f2\" xlink:type=\"simple\"><polygon fill=\"#FFFFFF\" points=\"48,57,106,57,113,79.2969,221,79.2969,221,170,48,170,48,57\" style=\"stroke: #000000; stroke-width: 1.5;\"/><line style=\"stroke: #000000; stroke-width: 1.5;\" x1=\"48\" x2=\"113\" y1=\"79.2969\" y2=\"79.2969\"/><text fill=\"#000000\" font-family=\"sans-serif\" font-size=\"14\" font-weight=\"bold\" lengthAdjust=\"spacingAndGlyphs\" textLength=\"52\" x=\"52\" y=\"71.9951\">Usages</text></a><!--MD5=[09b614a08d8cba4a07c9adeb5e0fee81]\n",
       "class E3--><a href=\"psysml:e00f8094-2dc0-4541-ab70-7f0589b02177\" target=\"_top\" title=\"psysml:e00f8094-2dc0-4541-ab70-7f0589b02177\" xlink:actuate=\"onRequest\" xlink:href=\"psysml:e00f8094-2dc0-4541-ab70-7f0589b02177\" xlink:show=\"new\" xlink:title=\"psysml:e00f8094-2dc0-4541-ab70-7f0589b02177\" xlink:type=\"simple\"><rect fill=\"#FFFFFF\" height=\"45.9375\" id=\"E3\" style=\"stroke: #383838; stroke-width: 1.5;\" width=\"70\" x=\"81\" y=\"262\"/><text fill=\"#000000\" font-family=\"sans-serif\" font-size=\"12\" font-style=\"italic\" lengthAdjust=\"spacingAndGlyphs\" textLength=\"68\" x=\"82\" y=\"278.1387\">«part  def»</text><text fill=\"#000000\" font-family=\"sans-serif\" font-size=\"12\" lengthAdjust=\"spacingAndGlyphs\" textLength=\"45\" x=\"93.5\" y=\"292.1074\">Vehicle</text><line style=\"stroke: #383838; stroke-width: 1.5;\" x1=\"82\" x2=\"150\" y1=\"299.9375\" y2=\"299.9375\"/></a><!--MD5=[270fce915f116d4de14055a7c1d9a0f3]\n",
       "class E5--><a href=\"psysml:9c534076-d85a-4836-b001-6ecd6cbd12fb\" target=\"_top\" title=\"psysml:9c534076-d85a-4836-b001-6ecd6cbd12fb\" xlink:actuate=\"onRequest\" xlink:href=\"psysml:9c534076-d85a-4836-b001-6ecd6cbd12fb\" xlink:show=\"new\" xlink:title=\"psysml:9c534076-d85a-4836-b001-6ecd6cbd12fb\" xlink:type=\"simple\"><rect fill=\"#FFFFFF\" height=\"45.9375\" id=\"E5\" rx=\"10\" ry=\"10\" style=\"stroke: #383838; stroke-width: 1.5;\" width=\"106\" x=\"91\" y=\"100\"/><text fill=\"#000000\" font-family=\"sans-serif\" font-size=\"12\" font-style=\"italic\" lengthAdjust=\"spacingAndGlyphs\" textLength=\"40\" x=\"124\" y=\"116.1387\">«part»</text><text fill=\"#000000\" font-family=\"sans-serif\" font-size=\"12\" lengthAdjust=\"spacingAndGlyphs\" textLength=\"96\" x=\"94\" y=\"130.1074\">vehicle: Vehicle</text><line style=\"stroke: #383838; stroke-width: 1.5;\" x1=\"92\" x2=\"196\" y1=\"137.9375\" y2=\"137.9375\"/></a><!--MD5=[f0cdf4548168e5211fb3a02bf679d63a]\n",
       "link E4 to E3--><a href=\"psysml:754d7efd-e1b6-49fa-9136-3270d64a1ac4\" target=\"_top\" title=\"psysml:754d7efd-e1b6-49fa-9136-3270d64a1ac4\" xlink:actuate=\"onRequest\" xlink:href=\"psysml:754d7efd-e1b6-49fa-9136-3270d64a1ac4\" xlink:show=\"new\" xlink:title=\"psysml:754d7efd-e1b6-49fa-9136-3270d64a1ac4\" xlink:type=\"simple\"><path d=\"M58.5005,170.0549 C58.5193,170.2001 58.5383,170.3454 58.5574,170.4908 C58.6338,171.0725 58.7124,171.6562 58.7932,172.2415 C58.9548,173.4122 59.1253,174.5898 59.3052,175.7725 C59.6651,178.1379 60.0625,180.5238 60.5014,182.9158 C62.2569,192.4838 64.675,202.15 68,211 C74.23,227.58 84.77,244.23 94.38,257.43 \" fill=\"none\" id=\"E4-&gt;E3\" style=\"stroke: #383838; stroke-width: 1.0; stroke-dasharray: 7.0,7.0;\"/><polygon fill=\"#383838\" points=\"97.6,261.77,95.4384,252.1613,94.616,257.758,89.0193,256.9357,97.6,261.77\" style=\"stroke: #383838; stroke-width: 1.0;\"/><text fill=\"#000000\" font-family=\"sans-serif\" font-size=\"13\" lengthAdjust=\"spacingAndGlyphs\" textLength=\"58\" x=\"69\" y=\"207.0669\">«import»</text></a><!--MD5=[e9be52314489bd878ff4c7144b63c9e1]\n",
       "link E5 to E3--><a href=\"psysml:35d55ec3-6fe4-4032-923f-7a8654029377\" target=\"_top\" title=\"psysml:35d55ec3-6fe4-4032-923f-7a8654029377\" xlink:actuate=\"onRequest\" xlink:href=\"psysml:35d55ec3-6fe4-4032-923f-7a8654029377\" xlink:show=\"new\" xlink:title=\"psysml:35d55ec3-6fe4-4032-923f-7a8654029377\" xlink:type=\"simple\"><path d=\"M143.03,146.32 C142,163.98 139.95,189.21 136,211 C134.13,221.29 131.49,232.23 128.74,242.43 \" fill=\"none\" id=\"E5-&gt;E3\" style=\"stroke: #383838; stroke-width: 1.0;\"/><polygon fill=\"#FFFFFF\" points=\"123.15,261.87,121.6727,241.6755,135.1276,245.544,123.15,261.87\" style=\"stroke: #383838; stroke-width: 1.0;\"/><ellipse cx=\"125.1699\" cy=\"236.7501\" fill=\"#383838\" rx=\"2\" ry=\"2\" style=\"stroke: #383838; stroke-width: 1.0;\"/><ellipse cx=\"134.7805\" cy=\"239.5133\" fill=\"#383838\" rx=\"2\" ry=\"2\" style=\"stroke: #383838; stroke-width: 1.0;\"/></a><!--MD5=[3f665a020627a365a81fc83500dcefb8]\n",
       "@startuml\r\n",
       " skinparam monochrome true\r\n",
       "skinparam classbackgroundcolor white\r\n",
       "skinparam shadowing false\r\n",
       "skinparam wrapWidth 300\r\n",
       "hide circle\r\n",
       "\r\n",
       "package \"AliasImport\" as E1  [[psysml:a585b742-f262-46cd-b94a-c90c9e84789e ]]  {\r\n",
       "package \"Definitions\" as E2  [[psysml:336f27c4-53da-4ebc-95bd-6f6303678a10 ]]  {\r\n",
       "comp def \"Vehicle\" as E3  <<(T,blue) part  def>> [[psysml:e00f8094-2dc0-4541-ab70-7f0589b02177 ]] {\r\n",
       "}\r\n",
       "}\r\n",
       "package \"Usages\" as E4  [[psysml:1c99181b-1c33-4a44-b1a9-f0fa19d834f2 ]]  {\r\n",
       "comp usage \"vehicle: Vehicle \" as E5  <<(T,blue) part>> [[psysml:9c534076-d85a-4836-b001-6ecd6cbd12fb ]] {\r\n",
       "}\r\n",
       "}\r\n",
       "}\r\n",
       "E4 ..> E3 [[psysml:754d7efd-e1b6-49fa-9136-3270d64a1ac4 ]] : <<import>>\r\n",
       "E5 - -:|> E3 [[psysml:35d55ec3-6fe4-4032-923f-7a8654029377 ]] \r\n",
       "@enduml\r\n",
       "\n",
       "PlantUML version 1.2020.13(Sat Jun 13 12:26:38 UTC 2020)\n",
       "(EPL source distribution)\n",
       "Java Runtime: OpenJDK Runtime Environment\n",
       "JVM: OpenJDK 64-Bit Server VM\n",
       "Default Encoding: UTF-8\n",
       "Language: en\n",
       "Country: null\n",
       "--></g></svg>"
      ]
     },
     "execution_count": 3,
     "metadata": {},
     "output_type": "execute_result"
    }
   ],
   "source": [
    "%viz --style=\"COMPTREE\" --view=\"Tree\" \"AliasImport\""
   ]
  },
  {
   "cell_type": "code",
   "execution_count": 4,
   "id": "73645c29",
   "metadata": {
    "execution": {
     "iopub.execute_input": "2022-03-21T07:53:01.256779Z",
     "iopub.status.busy": "2022-03-21T07:53:01.256450Z",
     "iopub.status.idle": "2022-03-21T07:53:01.262295Z",
     "shell.execute_reply": "2022-03-21T07:53:01.262637Z"
    }
   },
   "outputs": [
    {
     "data": {
      "image/svg+xml": [
       "<?xml version=\"1.0\" encoding=\"UTF-8\" standalone=\"no\"?><svg xmlns=\"http://www.w3.org/2000/svg\" xmlns:xlink=\"http://www.w3.org/1999/xlink\" contentScriptType=\"application/ecmascript\" contentStyleType=\"text/css\" height=\"12px\" preserveAspectRatio=\"none\" style=\"width:12px;height:12px;\" version=\"1.1\" viewBox=\"0 0 12 12\" width=\"12px\" zoomAndPan=\"magnify\"><defs/><g><!--MD5=[f19188ef49e11757b5c46753f95d9edc]\n",
       "@startuml\r\n",
       " skinparam monochrome true\r\n",
       "skinparam classbackgroundcolor white\r\n",
       "skinparam shadowing false\r\n",
       "skinparam wrapWidth 300\r\n",
       "hide circle\r\n",
       "\r\n",
       "@enduml\r\n",
       "\n",
       "PlantUML version 1.2020.13(Sat Jun 13 12:26:38 UTC 2020)\n",
       "(EPL source distribution)\n",
       "Java Runtime: OpenJDK Runtime Environment\n",
       "JVM: OpenJDK 64-Bit Server VM\n",
       "Default Encoding: UTF-8\n",
       "Language: en\n",
       "Country: null\n",
       "--></g></svg>"
      ]
     },
     "execution_count": 4,
     "metadata": {},
     "output_type": "execute_result"
    }
   ],
   "source": [
    "%viz --style=\"COMPTREE\" --view=\"State\" \"AliasImport\""
   ]
  },
  {
   "cell_type": "code",
   "execution_count": 5,
   "id": "a801b777",
   "metadata": {
    "execution": {
     "iopub.execute_input": "2022-03-21T07:53:01.312720Z",
     "iopub.status.busy": "2022-03-21T07:53:01.312206Z",
     "iopub.status.idle": "2022-03-21T07:53:01.353638Z",
     "shell.execute_reply": "2022-03-21T07:53:01.353996Z"
    }
   },
   "outputs": [
    {
     "data": {
      "image/svg+xml": [
       "<?xml version=\"1.0\" encoding=\"UTF-8\" standalone=\"no\"?><svg xmlns=\"http://www.w3.org/2000/svg\" xmlns:xlink=\"http://www.w3.org/1999/xlink\" contentScriptType=\"application/ecmascript\" contentStyleType=\"text/css\" height=\"351px\" preserveAspectRatio=\"none\" style=\"width:302px;height:351px;\" version=\"1.1\" viewBox=\"0 0 302 351\" width=\"302px\" zoomAndPan=\"magnify\"><defs/><g><!--MD5=[fbc87193dbaf4d95561dea2c320d4a47]\n",
       "cluster E1--><a href=\"psysml:a585b742-f262-46cd-b94a-c90c9e84789e\" target=\"_top\" title=\"psysml:a585b742-f262-46cd-b94a-c90c9e84789e\" xlink:actuate=\"onRequest\" xlink:href=\"psysml:a585b742-f262-46cd-b94a-c90c9e84789e\" xlink:show=\"new\" xlink:title=\"psysml:a585b742-f262-46cd-b94a-c90c9e84789e\" xlink:type=\"simple\"><polygon fill=\"#FFFFFF\" points=\"16,6,97,6,104,28.2969,280,28.2969,280,339,16,339,16,6\" style=\"stroke: #000000; stroke-width: 1.5;\"/><line style=\"stroke: #000000; stroke-width: 1.5;\" x1=\"16\" x2=\"104\" y1=\"28.2969\" y2=\"28.2969\"/><text fill=\"#000000\" font-family=\"sans-serif\" font-size=\"14\" font-weight=\"bold\" lengthAdjust=\"spacingAndGlyphs\" textLength=\"75\" x=\"20\" y=\"20.9951\">AliasImport</text></a><!--MD5=[e4f7fae6ed58524ba242bb0b0d3be6b7]\n",
       "cluster E2--><a href=\"psysml:336f27c4-53da-4ebc-95bd-6f6303678a10\" target=\"_top\" title=\"psysml:336f27c4-53da-4ebc-95bd-6f6303678a10\" xlink:actuate=\"onRequest\" xlink:href=\"psysml:336f27c4-53da-4ebc-95bd-6f6303678a10\" xlink:show=\"new\" xlink:title=\"psysml:336f27c4-53da-4ebc-95bd-6f6303678a10\" xlink:type=\"simple\"><polygon fill=\"#FFFFFF\" points=\"40,221,119,221,126,243.2969,256,243.2969,256,315,40,315,40,221\" style=\"stroke: #000000; stroke-width: 1.5;\"/><line style=\"stroke: #000000; stroke-width: 1.5;\" x1=\"40\" x2=\"126\" y1=\"243.2969\" y2=\"243.2969\"/><text fill=\"#000000\" font-family=\"sans-serif\" font-size=\"14\" font-weight=\"bold\" lengthAdjust=\"spacingAndGlyphs\" textLength=\"73\" x=\"44\" y=\"235.9951\">Definitions</text></a><!--MD5=[de5ec2e2e8f62f467e546659f5068c88]\n",
       "cluster E5--><a href=\"psysml:1c99181b-1c33-4a44-b1a9-f0fa19d834f2\" target=\"_top\" title=\"psysml:1c99181b-1c33-4a44-b1a9-f0fa19d834f2\" xlink:actuate=\"onRequest\" xlink:href=\"psysml:1c99181b-1c33-4a44-b1a9-f0fa19d834f2\" xlink:show=\"new\" xlink:title=\"psysml:1c99181b-1c33-4a44-b1a9-f0fa19d834f2\" xlink:type=\"simple\"><polygon fill=\"#FFFFFF\" points=\"74,57,132,57,139,79.2969,248,79.2969,248,164,74,164,74,57\" style=\"stroke: #000000; stroke-width: 1.5;\"/><line style=\"stroke: #000000; stroke-width: 1.5;\" x1=\"74\" x2=\"139\" y1=\"79.2969\" y2=\"79.2969\"/><text fill=\"#000000\" font-family=\"sans-serif\" font-size=\"14\" font-weight=\"bold\" lengthAdjust=\"spacingAndGlyphs\" textLength=\"52\" x=\"78\" y=\"71.9951\">Usages</text></a><g id=\"E1.E2.E3\"><a href=\"psysml:e00f8094-2dc0-4541-ab70-7f0589b02177\" target=\"_top\" title=\"psysml:e00f8094-2dc0-4541-ab70-7f0589b02177\" xlink:actuate=\"onRequest\" xlink:href=\"psysml:e00f8094-2dc0-4541-ab70-7f0589b02177\" xlink:show=\"new\" xlink:title=\"psysml:e00f8094-2dc0-4541-ab70-7f0589b02177\" xlink:type=\"simple\"><rect fill=\"#FFFFFF\" height=\"42.9375\" id=\"E3\" style=\"stroke: #383838; stroke-width: 1.5;\" width=\"75\" x=\"165.5\" y=\"256\"/><rect fill=\"#F8F8F8\" height=\"37.9375\" style=\"stroke: #383838; stroke-width: 1.5;\" width=\"75\" x=\"165.5\" y=\"256\"/><text fill=\"#000000\" font-family=\"sans-serif\" font-size=\"12\" font-style=\"italic\" lengthAdjust=\"spacingAndGlyphs\" textLength=\"68\" x=\"169\" y=\"272.1387\">«part  def»</text><text fill=\"#000000\" font-family=\"sans-serif\" font-size=\"12\" lengthAdjust=\"spacingAndGlyphs\" textLength=\"45\" x=\"180.5\" y=\"286.1074\">Vehicle</text></a></g><g id=\"E1.E2.E4\"><a href=\"psysml:e00f8094-2dc0-4541-ab70-7f0589b02177\" target=\"_top\" title=\"psysml:e00f8094-2dc0-4541-ab70-7f0589b02177\" xlink:actuate=\"onRequest\" xlink:href=\"psysml:e00f8094-2dc0-4541-ab70-7f0589b02177\" xlink:show=\"new\" xlink:title=\"psysml:e00f8094-2dc0-4541-ab70-7f0589b02177\" xlink:type=\"simple\"><rect fill=\"#FFFFFF\" height=\"42.9375\" id=\"E4\" style=\"stroke: #383838; stroke-width: 1.5;\" width=\"75\" x=\"55.5\" y=\"256\"/><rect fill=\"#F8F8F8\" height=\"37.9375\" style=\"stroke: #383838; stroke-width: 1.5;\" width=\"75\" x=\"55.5\" y=\"256\"/><text fill=\"#000000\" font-family=\"sans-serif\" font-size=\"12\" font-style=\"italic\" lengthAdjust=\"spacingAndGlyphs\" textLength=\"68\" x=\"59\" y=\"272.1387\">«part  def»</text><text fill=\"#000000\" font-family=\"sans-serif\" font-size=\"12\" lengthAdjust=\"spacingAndGlyphs\" textLength=\"45\" x=\"70.5\" y=\"286.1074\">Vehicle</text></a></g><g id=\"E1.E5.E6\"><a href=\"psysml:9c534076-d85a-4836-b001-6ecd6cbd12fb\" target=\"_top\" title=\"psysml:9c534076-d85a-4836-b001-6ecd6cbd12fb\" xlink:actuate=\"onRequest\" xlink:href=\"psysml:9c534076-d85a-4836-b001-6ecd6cbd12fb\" xlink:show=\"new\" xlink:title=\"psysml:9c534076-d85a-4836-b001-6ecd6cbd12fb\" xlink:type=\"simple\"><rect fill=\"#FFFFFF\" height=\"40\" id=\"E6\" rx=\"10\" ry=\"10\" style=\"stroke: #383838; stroke-width: 1.5;\" width=\"107\" x=\"117.5\" y=\"100\"/><rect fill=\"#F8F8F8\" height=\"23.9688\" rx=\"10\" ry=\"10\" style=\"stroke: #F8F8F8; stroke-width: 1.5;\" width=\"107\" x=\"117.5\" y=\"100\"/><rect fill=\"#F8F8F8\" height=\"10\" style=\"stroke: #F8F8F8; stroke-width: 1.5;\" width=\"107\" x=\"117.5\" y=\"113.9688\"/><rect fill=\"none\" height=\"40\" id=\"E6\" rx=\"10\" ry=\"10\" style=\"stroke: #383838; stroke-width: 1.5;\" width=\"107\" x=\"117.5\" y=\"100\"/><text fill=\"#000000\" font-family=\"sans-serif\" font-size=\"12\" lengthAdjust=\"spacingAndGlyphs\" textLength=\"96\" x=\"123\" y=\"116.1387\">vehicle: Vehicle</text></a></g><!--MD5=[1c62de2aa5b76f0fb657ff8443a1a700]\n",
       "link E5 to E4--><a href=\"psysml:754d7efd-e1b6-49fa-9136-3270d64a1ac4\" target=\"_top\" title=\"psysml:754d7efd-e1b6-49fa-9136-3270d64a1ac4\" xlink:actuate=\"onRequest\" xlink:href=\"psysml:754d7efd-e1b6-49fa-9136-3270d64a1ac4\" xlink:show=\"new\" xlink:title=\"psysml:754d7efd-e1b6-49fa-9136-3270d64a1ac4\" xlink:type=\"simple\"><path d=\"M85.0613,164.274 C85.0754,164.474 85.0896,164.6743 85.1038,164.8751 C85.1322,165.2765 85.1608,165.6795 85.1894,166.0839 C85.3039,167.7016 85.42,169.3423 85.5375,171.0025 C87.4175,197.565 89.65,229.1 91.18,250.73 \" fill=\"none\" id=\"E5-&gt;E4\" style=\"stroke: #383838; stroke-width: 1.0; stroke-dasharray: 7.0,7.0;\"/><polygon fill=\"#383838\" points=\"91.54,255.81,94.8867,246.5472,91.1827,250.8228,86.9072,247.1188,91.54,255.81\" style=\"stroke: #383838; stroke-width: 1.0;\"/><text fill=\"#000000\" font-family=\"sans-serif\" font-size=\"13\" lengthAdjust=\"spacingAndGlyphs\" textLength=\"58\" x=\"88\" y=\"201.0669\">«import»</text></a><!--MD5=[7a60a81b9a2522ad42c3627b012d3074]\n",
       "@startuml\r\n",
       "skinparam ranksep 10\r\n",
       "skinparam rectangle {\r\n",
       " backgroundColor<<block>> LightGreen\r\n",
       "}\r\n",
       " skinparam monochrome true\r\n",
       "skinparam classbackgroundcolor white\r\n",
       "skinparam shadowing false\r\n",
       "skinparam wrapWidth 300\r\n",
       "hide circle\r\n",
       "\r\n",
       "package \"AliasImport\" as E1  [[psysml:a585b742-f262-46cd-b94a-c90c9e84789e ]]  {\r\n",
       "package \"Definitions\" as E2  [[psysml:336f27c4-53da-4ebc-95bd-6f6303678a10 ]]  {\r\n",
       "rec def \"Vehicle\" as E3  <<(T,blue) part  def>> [[psysml:e00f8094-2dc0-4541-ab70-7f0589b02177 ]] {\r\n",
       "}\r\n",
       "rec def \"Vehicle\" as E4  <<(T,blue) part  def>> [[psysml:e00f8094-2dc0-4541-ab70-7f0589b02177 ]] {\r\n",
       "}\r\n",
       "}\r\n",
       "package \"Usages\" as E5  [[psysml:1c99181b-1c33-4a44-b1a9-f0fa19d834f2 ]]  {\r\n",
       "rec usage \"vehicle: Vehicle\" as E6  [[psysml:9c534076-d85a-4836-b001-6ecd6cbd12fb ]] {\r\n",
       "}\r\n",
       "}\r\n",
       "}\r\n",
       "E5 ..> E4 [[psysml:754d7efd-e1b6-49fa-9136-3270d64a1ac4 ]] : <<import>>\r\n",
       "@enduml\r\n",
       "\n",
       "PlantUML version 1.2020.13(Sat Jun 13 12:26:38 UTC 2020)\n",
       "(EPL source distribution)\n",
       "Java Runtime: OpenJDK Runtime Environment\n",
       "JVM: OpenJDK 64-Bit Server VM\n",
       "Default Encoding: UTF-8\n",
       "Language: en\n",
       "Country: null\n",
       "--></g></svg>"
      ]
     },
     "execution_count": 5,
     "metadata": {},
     "output_type": "execute_result"
    }
   ],
   "source": [
    "%viz --style=\"COMPTREE\" --view=\"Interconnection\" \"AliasImport\""
   ]
  },
  {
   "cell_type": "code",
   "execution_count": 6,
   "id": "cd84d10d",
   "metadata": {
    "execution": {
     "iopub.execute_input": "2022-03-21T07:53:01.403997Z",
     "iopub.status.busy": "2022-03-21T07:53:01.403503Z",
     "iopub.status.idle": "2022-03-21T07:53:01.410434Z",
     "shell.execute_reply": "2022-03-21T07:53:01.410810Z"
    }
   },
   "outputs": [
    {
     "data": {
      "image/svg+xml": [
       "<?xml version=\"1.0\" encoding=\"UTF-8\" standalone=\"no\"?><svg xmlns=\"http://www.w3.org/2000/svg\" xmlns:xlink=\"http://www.w3.org/1999/xlink\" contentScriptType=\"application/ecmascript\" contentStyleType=\"text/css\" height=\"12px\" preserveAspectRatio=\"none\" style=\"width:12px;height:12px;\" version=\"1.1\" viewBox=\"0 0 12 12\" width=\"12px\" zoomAndPan=\"magnify\"><defs/><g><!--MD5=[655b888544ca4751ea36af1068543f84]\n",
       "@startuml\r\n",
       "skinparam ranksep 8\r\n",
       " skinparam monochrome true\r\n",
       "skinparam classbackgroundcolor white\r\n",
       "skinparam shadowing false\r\n",
       "skinparam wrapWidth 300\r\n",
       "hide circle\r\n",
       "\r\n",
       "@enduml\r\n",
       "\n",
       "PlantUML version 1.2020.13(Sat Jun 13 12:26:38 UTC 2020)\n",
       "(EPL source distribution)\n",
       "Java Runtime: OpenJDK Runtime Environment\n",
       "JVM: OpenJDK 64-Bit Server VM\n",
       "Default Encoding: UTF-8\n",
       "Language: en\n",
       "Country: null\n",
       "--></g></svg>"
      ]
     },
     "execution_count": 6,
     "metadata": {},
     "output_type": "execute_result"
    }
   ],
   "source": [
    "%viz --style=\"COMPTREE\" --view=\"Action\" \"AliasImport\""
   ]
  },
  {
   "cell_type": "code",
   "execution_count": 7,
   "id": "0422f7fd",
   "metadata": {
    "execution": {
     "iopub.execute_input": "2022-03-21T07:53:01.460923Z",
     "iopub.status.busy": "2022-03-21T07:53:01.460454Z",
     "iopub.status.idle": "2022-03-21T07:53:01.472357Z",
     "shell.execute_reply": "2022-03-21T07:53:01.472683Z"
    }
   },
   "outputs": [
    {
     "data": {
      "image/svg+xml": [
       "<?xml version=\"1.0\" encoding=\"UTF-8\" standalone=\"no\"?><svg xmlns=\"http://www.w3.org/2000/svg\" xmlns:xlink=\"http://www.w3.org/1999/xlink\" contentScriptType=\"application/ecmascript\" contentStyleType=\"text/css\" height=\"12px\" preserveAspectRatio=\"none\" style=\"width:12px;height:12px;\" version=\"1.1\" viewBox=\"0 0 12 12\" width=\"12px\" zoomAndPan=\"magnify\"><defs/><g><!--MD5=[803fc46c337be7a5c8a9831e35356779]\n",
       "@startuml\r\n",
       "skinparam roundcorner 20\r\n",
       "skinparam BoxPadding 20\r\n",
       "skinparam SequenceBoxBackgroundColor #white\r\n",
       "skinparam style strictuml\r\n",
       "skinparam maxMessageSize 100\r\n",
       " skinparam monochrome true\r\n",
       "skinparam classbackgroundcolor white\r\n",
       "skinparam shadowing false\r\n",
       "skinparam wrapWidth 300\r\n",
       "hide circle\r\n",
       "\r\n",
       "@enduml\r\n",
       "\n",
       "PlantUML version 1.2020.13(Sat Jun 13 12:26:38 UTC 2020)\n",
       "(EPL source distribution)\n",
       "Java Runtime: OpenJDK Runtime Environment\n",
       "JVM: OpenJDK 64-Bit Server VM\n",
       "Default Encoding: UTF-8\n",
       "Language: en\n",
       "Country: null\n",
       "--></g></svg>"
      ]
     },
     "execution_count": 7,
     "metadata": {},
     "output_type": "execute_result"
    }
   ],
   "source": [
    "%viz --style=\"COMPTREE\" --view=\"Sequence\" \"AliasImport\""
   ]
  },
  {
   "cell_type": "code",
   "execution_count": 8,
   "id": "e027ea36",
   "metadata": {
    "execution": {
     "iopub.execute_input": "2022-03-21T07:53:01.522829Z",
     "iopub.status.busy": "2022-03-21T07:53:01.522399Z",
     "iopub.status.idle": "2022-03-21T07:53:01.562836Z",
     "shell.execute_reply": "2022-03-21T07:53:01.563293Z"
    }
   },
   "outputs": [
    {
     "data": {
      "image/svg+xml": [
       "<?xml version=\"1.0\" encoding=\"UTF-8\" standalone=\"no\"?><svg xmlns=\"http://www.w3.org/2000/svg\" xmlns:xlink=\"http://www.w3.org/1999/xlink\" contentScriptType=\"application/ecmascript\" contentStyleType=\"text/css\" height=\"360px\" preserveAspectRatio=\"none\" style=\"width:275px;height:360px;\" version=\"1.1\" viewBox=\"0 0 275 360\" width=\"275px\" zoomAndPan=\"magnify\"><defs/><g><!--MD5=[fbc87193dbaf4d95561dea2c320d4a47]\n",
       "cluster E1--><a href=\"psysml:a585b742-f262-46cd-b94a-c90c9e84789e\" target=\"_top\" title=\"psysml:a585b742-f262-46cd-b94a-c90c9e84789e\" xlink:actuate=\"onRequest\" xlink:href=\"psysml:a585b742-f262-46cd-b94a-c90c9e84789e\" xlink:show=\"new\" xlink:title=\"psysml:a585b742-f262-46cd-b94a-c90c9e84789e\" xlink:type=\"simple\"><polygon fill=\"#FFFFFF\" points=\"16,6,97,6,104,28.2969,253,28.2969,253,348,16,348,16,6\" style=\"stroke: #000000; stroke-width: 1.5;\"/><line style=\"stroke: #000000; stroke-width: 1.5;\" x1=\"16\" x2=\"104\" y1=\"28.2969\" y2=\"28.2969\"/><text fill=\"#000000\" font-family=\"sans-serif\" font-size=\"14\" font-weight=\"bold\" lengthAdjust=\"spacingAndGlyphs\" textLength=\"75\" x=\"20\" y=\"20.9951\">AliasImport</text></a><!--MD5=[e4f7fae6ed58524ba242bb0b0d3be6b7]\n",
       "cluster E2--><a href=\"psysml:336f27c4-53da-4ebc-95bd-6f6303678a10\" target=\"_top\" title=\"psysml:336f27c4-53da-4ebc-95bd-6f6303678a10\" xlink:actuate=\"onRequest\" xlink:href=\"psysml:336f27c4-53da-4ebc-95bd-6f6303678a10\" xlink:show=\"new\" xlink:title=\"psysml:336f27c4-53da-4ebc-95bd-6f6303678a10\" xlink:type=\"simple\"><polygon fill=\"#FFFFFF\" points=\"65,227,144,227,151,249.2969,167,249.2969,167,324,65,324,65,227\" style=\"stroke: #000000; stroke-width: 1.5;\"/><line style=\"stroke: #000000; stroke-width: 1.5;\" x1=\"65\" x2=\"151\" y1=\"249.2969\" y2=\"249.2969\"/><text fill=\"#000000\" font-family=\"sans-serif\" font-size=\"14\" font-weight=\"bold\" lengthAdjust=\"spacingAndGlyphs\" textLength=\"73\" x=\"69\" y=\"241.9951\">Definitions</text></a><!--MD5=[f6df4d0ebaf0b5dfb2ced0ae5af7c670]\n",
       "cluster E4--><a href=\"psysml:1c99181b-1c33-4a44-b1a9-f0fa19d834f2\" target=\"_top\" title=\"psysml:1c99181b-1c33-4a44-b1a9-f0fa19d834f2\" xlink:actuate=\"onRequest\" xlink:href=\"psysml:1c99181b-1c33-4a44-b1a9-f0fa19d834f2\" xlink:show=\"new\" xlink:title=\"psysml:1c99181b-1c33-4a44-b1a9-f0fa19d834f2\" xlink:type=\"simple\"><polygon fill=\"#FFFFFF\" points=\"48,57,106,57,113,79.2969,221,79.2969,221,170,48,170,48,57\" style=\"stroke: #000000; stroke-width: 1.5;\"/><line style=\"stroke: #000000; stroke-width: 1.5;\" x1=\"48\" x2=\"113\" y1=\"79.2969\" y2=\"79.2969\"/><text fill=\"#000000\" font-family=\"sans-serif\" font-size=\"14\" font-weight=\"bold\" lengthAdjust=\"spacingAndGlyphs\" textLength=\"52\" x=\"52\" y=\"71.9951\">Usages</text></a><!--MD5=[09b614a08d8cba4a07c9adeb5e0fee81]\n",
       "class E3--><a href=\"psysml:e00f8094-2dc0-4541-ab70-7f0589b02177\" target=\"_top\" title=\"psysml:e00f8094-2dc0-4541-ab70-7f0589b02177\" xlink:actuate=\"onRequest\" xlink:href=\"psysml:e00f8094-2dc0-4541-ab70-7f0589b02177\" xlink:show=\"new\" xlink:title=\"psysml:e00f8094-2dc0-4541-ab70-7f0589b02177\" xlink:type=\"simple\"><rect fill=\"#FFFFFF\" height=\"45.9375\" id=\"E3\" style=\"stroke: #383838; stroke-width: 1.5;\" width=\"70\" x=\"81\" y=\"262\"/><text fill=\"#000000\" font-family=\"sans-serif\" font-size=\"12\" font-style=\"italic\" lengthAdjust=\"spacingAndGlyphs\" textLength=\"68\" x=\"82\" y=\"278.1387\">«part  def»</text><text fill=\"#000000\" font-family=\"sans-serif\" font-size=\"12\" lengthAdjust=\"spacingAndGlyphs\" textLength=\"45\" x=\"93.5\" y=\"292.1074\">Vehicle</text><line style=\"stroke: #383838; stroke-width: 1.5;\" x1=\"82\" x2=\"150\" y1=\"299.9375\" y2=\"299.9375\"/></a><!--MD5=[270fce915f116d4de14055a7c1d9a0f3]\n",
       "class E5--><a href=\"psysml:9c534076-d85a-4836-b001-6ecd6cbd12fb\" target=\"_top\" title=\"psysml:9c534076-d85a-4836-b001-6ecd6cbd12fb\" xlink:actuate=\"onRequest\" xlink:href=\"psysml:9c534076-d85a-4836-b001-6ecd6cbd12fb\" xlink:show=\"new\" xlink:title=\"psysml:9c534076-d85a-4836-b001-6ecd6cbd12fb\" xlink:type=\"simple\"><rect fill=\"#FFFFFF\" height=\"45.9375\" id=\"E5\" rx=\"10\" ry=\"10\" style=\"stroke: #383838; stroke-width: 1.5;\" width=\"106\" x=\"91\" y=\"100\"/><text fill=\"#000000\" font-family=\"sans-serif\" font-size=\"12\" font-style=\"italic\" lengthAdjust=\"spacingAndGlyphs\" textLength=\"40\" x=\"124\" y=\"116.1387\">«part»</text><text fill=\"#000000\" font-family=\"sans-serif\" font-size=\"12\" lengthAdjust=\"spacingAndGlyphs\" textLength=\"96\" x=\"94\" y=\"130.1074\">vehicle: Vehicle</text><line style=\"stroke: #383838; stroke-width: 1.5;\" x1=\"92\" x2=\"196\" y1=\"137.9375\" y2=\"137.9375\"/></a><!--MD5=[f0cdf4548168e5211fb3a02bf679d63a]\n",
       "link E4 to E3--><a href=\"psysml:754d7efd-e1b6-49fa-9136-3270d64a1ac4\" target=\"_top\" title=\"psysml:754d7efd-e1b6-49fa-9136-3270d64a1ac4\" xlink:actuate=\"onRequest\" xlink:href=\"psysml:754d7efd-e1b6-49fa-9136-3270d64a1ac4\" xlink:show=\"new\" xlink:title=\"psysml:754d7efd-e1b6-49fa-9136-3270d64a1ac4\" xlink:type=\"simple\"><path d=\"M58.5005,170.0549 C58.5193,170.2001 58.5383,170.3454 58.5574,170.4908 C58.6338,171.0725 58.7124,171.6562 58.7932,172.2415 C58.9548,173.4122 59.1253,174.5898 59.3052,175.7725 C59.6651,178.1379 60.0625,180.5238 60.5014,182.9158 C62.2569,192.4838 64.675,202.15 68,211 C74.23,227.58 84.77,244.23 94.38,257.43 \" fill=\"none\" id=\"E4-&gt;E3\" style=\"stroke: #383838; stroke-width: 1.0; stroke-dasharray: 7.0,7.0;\"/><polygon fill=\"#383838\" points=\"97.6,261.77,95.4384,252.1613,94.616,257.758,89.0193,256.9357,97.6,261.77\" style=\"stroke: #383838; stroke-width: 1.0;\"/><text fill=\"#000000\" font-family=\"sans-serif\" font-size=\"13\" lengthAdjust=\"spacingAndGlyphs\" textLength=\"58\" x=\"69\" y=\"207.0669\">«import»</text></a><!--MD5=[e9be52314489bd878ff4c7144b63c9e1]\n",
       "link E5 to E3--><a href=\"psysml:35d55ec3-6fe4-4032-923f-7a8654029377\" target=\"_top\" title=\"psysml:35d55ec3-6fe4-4032-923f-7a8654029377\" xlink:actuate=\"onRequest\" xlink:href=\"psysml:35d55ec3-6fe4-4032-923f-7a8654029377\" xlink:show=\"new\" xlink:title=\"psysml:35d55ec3-6fe4-4032-923f-7a8654029377\" xlink:type=\"simple\"><path d=\"M143.03,146.32 C142,163.98 139.95,189.21 136,211 C134.13,221.29 131.49,232.23 128.74,242.43 \" fill=\"none\" id=\"E5-&gt;E3\" style=\"stroke: #383838; stroke-width: 1.0;\"/><polygon fill=\"#FFFFFF\" points=\"123.15,261.87,121.6727,241.6755,135.1276,245.544,123.15,261.87\" style=\"stroke: #383838; stroke-width: 1.0;\"/><ellipse cx=\"125.1699\" cy=\"236.7501\" fill=\"#383838\" rx=\"2\" ry=\"2\" style=\"stroke: #383838; stroke-width: 1.0;\"/><ellipse cx=\"134.7805\" cy=\"239.5133\" fill=\"#383838\" rx=\"2\" ry=\"2\" style=\"stroke: #383838; stroke-width: 1.0;\"/></a><!--MD5=[3f665a020627a365a81fc83500dcefb8]\n",
       "@startuml\r\n",
       " skinparam monochrome true\r\n",
       "skinparam classbackgroundcolor white\r\n",
       "skinparam shadowing false\r\n",
       "skinparam wrapWidth 300\r\n",
       "hide circle\r\n",
       "\r\n",
       "package \"AliasImport\" as E1  [[psysml:a585b742-f262-46cd-b94a-c90c9e84789e ]]  {\r\n",
       "package \"Definitions\" as E2  [[psysml:336f27c4-53da-4ebc-95bd-6f6303678a10 ]]  {\r\n",
       "comp def \"Vehicle\" as E3  <<(T,blue) part  def>> [[psysml:e00f8094-2dc0-4541-ab70-7f0589b02177 ]] {\r\n",
       "}\r\n",
       "}\r\n",
       "package \"Usages\" as E4  [[psysml:1c99181b-1c33-4a44-b1a9-f0fa19d834f2 ]]  {\r\n",
       "comp usage \"vehicle: Vehicle \" as E5  <<(T,blue) part>> [[psysml:9c534076-d85a-4836-b001-6ecd6cbd12fb ]] {\r\n",
       "}\r\n",
       "}\r\n",
       "}\r\n",
       "E4 ..> E3 [[psysml:754d7efd-e1b6-49fa-9136-3270d64a1ac4 ]] : <<import>>\r\n",
       "E5 - -:|> E3 [[psysml:35d55ec3-6fe4-4032-923f-7a8654029377 ]] \r\n",
       "@enduml\r\n",
       "\n",
       "PlantUML version 1.2020.13(Sat Jun 13 12:26:38 UTC 2020)\n",
       "(EPL source distribution)\n",
       "Java Runtime: OpenJDK Runtime Environment\n",
       "JVM: OpenJDK 64-Bit Server VM\n",
       "Default Encoding: UTF-8\n",
       "Language: en\n",
       "Country: null\n",
       "--></g></svg>"
      ]
     },
     "execution_count": 8,
     "metadata": {},
     "output_type": "execute_result"
    }
   ],
   "source": [
    "%viz --style=\"COMPTREE\" --view=\"MIXED\" \"AliasImport\""
   ]
  },
  {
   "cell_type": "code",
   "execution_count": 9,
   "id": "530888e4",
   "metadata": {
    "execution": {
     "iopub.execute_input": "2022-03-21T07:53:01.612864Z",
     "iopub.status.busy": "2022-03-21T07:53:01.612420Z",
     "iopub.status.idle": "2022-03-21T07:53:01.653164Z",
     "shell.execute_reply": "2022-03-21T07:53:01.652777Z"
    }
   },
   "outputs": [
    {
     "data": {
      "image/svg+xml": [
       "<?xml version=\"1.0\" encoding=\"UTF-8\" standalone=\"no\"?><svg xmlns=\"http://www.w3.org/2000/svg\" xmlns:xlink=\"http://www.w3.org/1999/xlink\" contentScriptType=\"application/ecmascript\" contentStyleType=\"text/css\" height=\"360px\" preserveAspectRatio=\"none\" style=\"width:275px;height:360px;\" version=\"1.1\" viewBox=\"0 0 275 360\" width=\"275px\" zoomAndPan=\"magnify\"><defs/><g><!--MD5=[fbc87193dbaf4d95561dea2c320d4a47]\n",
       "cluster E1--><a href=\"psysml:a585b742-f262-46cd-b94a-c90c9e84789e\" target=\"_top\" title=\"psysml:a585b742-f262-46cd-b94a-c90c9e84789e\" xlink:actuate=\"onRequest\" xlink:href=\"psysml:a585b742-f262-46cd-b94a-c90c9e84789e\" xlink:show=\"new\" xlink:title=\"psysml:a585b742-f262-46cd-b94a-c90c9e84789e\" xlink:type=\"simple\"><polygon fill=\"#FFFFFF\" points=\"16,6,97,6,104,28.2969,253,28.2969,253,348,16,348,16,6\" style=\"stroke: #000000; stroke-width: 1.5;\"/><line style=\"stroke: #000000; stroke-width: 1.5;\" x1=\"16\" x2=\"104\" y1=\"28.2969\" y2=\"28.2969\"/><text fill=\"#000000\" font-family=\"sans-serif\" font-size=\"14\" font-weight=\"bold\" lengthAdjust=\"spacingAndGlyphs\" textLength=\"75\" x=\"20\" y=\"20.9951\">AliasImport</text></a><!--MD5=[e4f7fae6ed58524ba242bb0b0d3be6b7]\n",
       "cluster E2--><a href=\"psysml:336f27c4-53da-4ebc-95bd-6f6303678a10\" target=\"_top\" title=\"psysml:336f27c4-53da-4ebc-95bd-6f6303678a10\" xlink:actuate=\"onRequest\" xlink:href=\"psysml:336f27c4-53da-4ebc-95bd-6f6303678a10\" xlink:show=\"new\" xlink:title=\"psysml:336f27c4-53da-4ebc-95bd-6f6303678a10\" xlink:type=\"simple\"><polygon fill=\"#FFFFFF\" points=\"65,227,144,227,151,249.2969,167,249.2969,167,324,65,324,65,227\" style=\"stroke: #000000; stroke-width: 1.5;\"/><line style=\"stroke: #000000; stroke-width: 1.5;\" x1=\"65\" x2=\"151\" y1=\"249.2969\" y2=\"249.2969\"/><text fill=\"#000000\" font-family=\"sans-serif\" font-size=\"14\" font-weight=\"bold\" lengthAdjust=\"spacingAndGlyphs\" textLength=\"73\" x=\"69\" y=\"241.9951\">Definitions</text></a><!--MD5=[f6df4d0ebaf0b5dfb2ced0ae5af7c670]\n",
       "cluster E4--><a href=\"psysml:1c99181b-1c33-4a44-b1a9-f0fa19d834f2\" target=\"_top\" title=\"psysml:1c99181b-1c33-4a44-b1a9-f0fa19d834f2\" xlink:actuate=\"onRequest\" xlink:href=\"psysml:1c99181b-1c33-4a44-b1a9-f0fa19d834f2\" xlink:show=\"new\" xlink:title=\"psysml:1c99181b-1c33-4a44-b1a9-f0fa19d834f2\" xlink:type=\"simple\"><polygon fill=\"#FFFFFF\" points=\"48,57,106,57,113,79.2969,221,79.2969,221,170,48,170,48,57\" style=\"stroke: #000000; stroke-width: 1.5;\"/><line style=\"stroke: #000000; stroke-width: 1.5;\" x1=\"48\" x2=\"113\" y1=\"79.2969\" y2=\"79.2969\"/><text fill=\"#000000\" font-family=\"sans-serif\" font-size=\"14\" font-weight=\"bold\" lengthAdjust=\"spacingAndGlyphs\" textLength=\"52\" x=\"52\" y=\"71.9951\">Usages</text></a><!--MD5=[09b614a08d8cba4a07c9adeb5e0fee81]\n",
       "class E3--><a href=\"psysml:e00f8094-2dc0-4541-ab70-7f0589b02177\" target=\"_top\" title=\"psysml:e00f8094-2dc0-4541-ab70-7f0589b02177\" xlink:actuate=\"onRequest\" xlink:href=\"psysml:e00f8094-2dc0-4541-ab70-7f0589b02177\" xlink:show=\"new\" xlink:title=\"psysml:e00f8094-2dc0-4541-ab70-7f0589b02177\" xlink:type=\"simple\"><rect fill=\"#FFFFFF\" height=\"45.9375\" id=\"E3\" style=\"stroke: #383838; stroke-width: 1.5;\" width=\"70\" x=\"81\" y=\"262\"/><text fill=\"#000000\" font-family=\"sans-serif\" font-size=\"12\" font-style=\"italic\" lengthAdjust=\"spacingAndGlyphs\" textLength=\"68\" x=\"82\" y=\"278.1387\">«part  def»</text><text fill=\"#000000\" font-family=\"sans-serif\" font-size=\"12\" lengthAdjust=\"spacingAndGlyphs\" textLength=\"45\" x=\"93.5\" y=\"292.1074\">Vehicle</text><line style=\"stroke: #383838; stroke-width: 1.5;\" x1=\"82\" x2=\"150\" y1=\"299.9375\" y2=\"299.9375\"/></a><!--MD5=[270fce915f116d4de14055a7c1d9a0f3]\n",
       "class E5--><a href=\"psysml:9c534076-d85a-4836-b001-6ecd6cbd12fb\" target=\"_top\" title=\"psysml:9c534076-d85a-4836-b001-6ecd6cbd12fb\" xlink:actuate=\"onRequest\" xlink:href=\"psysml:9c534076-d85a-4836-b001-6ecd6cbd12fb\" xlink:show=\"new\" xlink:title=\"psysml:9c534076-d85a-4836-b001-6ecd6cbd12fb\" xlink:type=\"simple\"><rect fill=\"#FFFFFF\" height=\"45.9375\" id=\"E5\" rx=\"10\" ry=\"10\" style=\"stroke: #383838; stroke-width: 1.5;\" width=\"106\" x=\"91\" y=\"100\"/><text fill=\"#000000\" font-family=\"sans-serif\" font-size=\"12\" font-style=\"italic\" lengthAdjust=\"spacingAndGlyphs\" textLength=\"40\" x=\"124\" y=\"116.1387\">«part»</text><text fill=\"#000000\" font-family=\"sans-serif\" font-size=\"12\" lengthAdjust=\"spacingAndGlyphs\" textLength=\"96\" x=\"94\" y=\"130.1074\">vehicle: Vehicle</text><line style=\"stroke: #383838; stroke-width: 1.5;\" x1=\"92\" x2=\"196\" y1=\"137.9375\" y2=\"137.9375\"/></a><!--MD5=[f0cdf4548168e5211fb3a02bf679d63a]\n",
       "link E4 to E3--><a href=\"psysml:754d7efd-e1b6-49fa-9136-3270d64a1ac4\" target=\"_top\" title=\"psysml:754d7efd-e1b6-49fa-9136-3270d64a1ac4\" xlink:actuate=\"onRequest\" xlink:href=\"psysml:754d7efd-e1b6-49fa-9136-3270d64a1ac4\" xlink:show=\"new\" xlink:title=\"psysml:754d7efd-e1b6-49fa-9136-3270d64a1ac4\" xlink:type=\"simple\"><path d=\"M62.3475,170.0242 C62.3705,170.1912 62.3936,170.3582 62.4166,170.5251 C62.5087,171.1927 62.6006,171.8594 62.6924,172.5245 C62.8758,173.8547 63.0585,175.1785 63.2395,176.4909 C63.6016,179.1157 63.9573,181.6948 64.3012,184.1877 C64.989,189.1736 65.6292,193.8147 66.1772,197.7869 C67.2731,205.7313 68,211 68,211 C68,211 84.75,236.48 98.47,257.33 \" fill=\"none\" id=\"E4-&gt;E3\" style=\"stroke: #383838; stroke-width: 1.0; stroke-dasharray: 7.0,7.0;\"/><polygon fill=\"#383838\" points=\"101.34,261.7,99.7376,251.9824,98.593,257.5222,93.0531,256.3776,101.34,261.7\" style=\"stroke: #383838; stroke-width: 1.0;\"/><text fill=\"#000000\" font-family=\"sans-serif\" font-size=\"13\" lengthAdjust=\"spacingAndGlyphs\" textLength=\"58\" x=\"69\" y=\"207.0669\">«import»</text></a><!--MD5=[e9be52314489bd878ff4c7144b63c9e1]\n",
       "link E5 to E3--><a href=\"psysml:35d55ec3-6fe4-4032-923f-7a8654029377\" target=\"_top\" title=\"psysml:35d55ec3-6fe4-4032-923f-7a8654029377\" xlink:actuate=\"onRequest\" xlink:href=\"psysml:35d55ec3-6fe4-4032-923f-7a8654029377\" xlink:show=\"new\" xlink:title=\"psysml:35d55ec3-6fe4-4032-923f-7a8654029377\" xlink:type=\"simple\"><path d=\"M141.94,146.4 C139.57,172.18 136,211 136,211 C136,211 131.91,225.94 127.42,242.3 \" fill=\"none\" id=\"E5-&gt;E3\" style=\"stroke: #383838; stroke-width: 1.0;\"/><polygon fill=\"#FFFFFF\" points=\"122.11,261.7,120.3774,241.5258,133.8801,245.2238,122.11,261.7\" style=\"stroke: #383838; stroke-width: 1.0;\"/><ellipse cx=\"123.8119\" cy=\"236.5565\" fill=\"#383838\" rx=\"2\" ry=\"2\" style=\"stroke: #383838; stroke-width: 1.0;\"/><ellipse cx=\"133.4568\" cy=\"239.198\" fill=\"#383838\" rx=\"2\" ry=\"2\" style=\"stroke: #383838; stroke-width: 1.0;\"/></a><!--MD5=[71db72836673cb9c3dbeb7fe0d77e616]\n",
       "@startuml\r\n",
       "skinparam linetype polyline\r\n",
       "skinparam monochrome true\r\n",
       "skinparam classbackgroundcolor white\r\n",
       "skinparam shadowing false\r\n",
       "skinparam wrapWidth 300\r\n",
       "hide circle\r\n",
       "\r\n",
       "package \"AliasImport\" as E1  [[psysml:a585b742-f262-46cd-b94a-c90c9e84789e ]]  {\r\n",
       "package \"Definitions\" as E2  [[psysml:336f27c4-53da-4ebc-95bd-6f6303678a10 ]]  {\r\n",
       "comp def \"Vehicle\" as E3  <<(T,blue) part  def>> [[psysml:e00f8094-2dc0-4541-ab70-7f0589b02177 ]] {\r\n",
       "}\r\n",
       "}\r\n",
       "package \"Usages\" as E4  [[psysml:1c99181b-1c33-4a44-b1a9-f0fa19d834f2 ]]  {\r\n",
       "comp usage \"vehicle: Vehicle \" as E5  <<(T,blue) part>> [[psysml:9c534076-d85a-4836-b001-6ecd6cbd12fb ]] {\r\n",
       "}\r\n",
       "}\r\n",
       "}\r\n",
       "E4 ..> E3 [[psysml:754d7efd-e1b6-49fa-9136-3270d64a1ac4 ]] : <<import>>\r\n",
       "E5 - -:|> E3 [[psysml:35d55ec3-6fe4-4032-923f-7a8654029377 ]] \r\n",
       "@enduml\r\n",
       "\n",
       "PlantUML version 1.2020.13(Sat Jun 13 12:26:38 UTC 2020)\n",
       "(EPL source distribution)\n",
       "Java Runtime: OpenJDK Runtime Environment\n",
       "JVM: OpenJDK 64-Bit Server VM\n",
       "Default Encoding: UTF-8\n",
       "Language: en\n",
       "Country: null\n",
       "--></g></svg>"
      ]
     },
     "execution_count": 9,
     "metadata": {},
     "output_type": "execute_result"
    }
   ],
   "source": [
    "%viz --style=\"POLYLINE\" --view=\"Default\" \"AliasImport\""
   ]
  },
  {
   "cell_type": "code",
   "execution_count": 10,
   "id": "6bde2c87",
   "metadata": {
    "execution": {
     "iopub.execute_input": "2022-03-21T07:53:01.702767Z",
     "iopub.status.busy": "2022-03-21T07:53:01.702321Z",
     "iopub.status.idle": "2022-03-21T07:53:01.741209Z",
     "shell.execute_reply": "2022-03-21T07:53:01.740839Z"
    }
   },
   "outputs": [
    {
     "data": {
      "image/svg+xml": [
       "<?xml version=\"1.0\" encoding=\"UTF-8\" standalone=\"no\"?><svg xmlns=\"http://www.w3.org/2000/svg\" xmlns:xlink=\"http://www.w3.org/1999/xlink\" contentScriptType=\"application/ecmascript\" contentStyleType=\"text/css\" height=\"360px\" preserveAspectRatio=\"none\" style=\"width:275px;height:360px;\" version=\"1.1\" viewBox=\"0 0 275 360\" width=\"275px\" zoomAndPan=\"magnify\"><defs/><g><!--MD5=[fbc87193dbaf4d95561dea2c320d4a47]\n",
       "cluster E1--><a href=\"psysml:a585b742-f262-46cd-b94a-c90c9e84789e\" target=\"_top\" title=\"psysml:a585b742-f262-46cd-b94a-c90c9e84789e\" xlink:actuate=\"onRequest\" xlink:href=\"psysml:a585b742-f262-46cd-b94a-c90c9e84789e\" xlink:show=\"new\" xlink:title=\"psysml:a585b742-f262-46cd-b94a-c90c9e84789e\" xlink:type=\"simple\"><polygon fill=\"#FFFFFF\" points=\"16,6,97,6,104,28.2969,253,28.2969,253,348,16,348,16,6\" style=\"stroke: #000000; stroke-width: 1.5;\"/><line style=\"stroke: #000000; stroke-width: 1.5;\" x1=\"16\" x2=\"104\" y1=\"28.2969\" y2=\"28.2969\"/><text fill=\"#000000\" font-family=\"sans-serif\" font-size=\"14\" font-weight=\"bold\" lengthAdjust=\"spacingAndGlyphs\" textLength=\"75\" x=\"20\" y=\"20.9951\">AliasImport</text></a><!--MD5=[e4f7fae6ed58524ba242bb0b0d3be6b7]\n",
       "cluster E2--><a href=\"psysml:336f27c4-53da-4ebc-95bd-6f6303678a10\" target=\"_top\" title=\"psysml:336f27c4-53da-4ebc-95bd-6f6303678a10\" xlink:actuate=\"onRequest\" xlink:href=\"psysml:336f27c4-53da-4ebc-95bd-6f6303678a10\" xlink:show=\"new\" xlink:title=\"psysml:336f27c4-53da-4ebc-95bd-6f6303678a10\" xlink:type=\"simple\"><polygon fill=\"#FFFFFF\" points=\"65,227,144,227,151,249.2969,167,249.2969,167,324,65,324,65,227\" style=\"stroke: #000000; stroke-width: 1.5;\"/><line style=\"stroke: #000000; stroke-width: 1.5;\" x1=\"65\" x2=\"151\" y1=\"249.2969\" y2=\"249.2969\"/><text fill=\"#000000\" font-family=\"sans-serif\" font-size=\"14\" font-weight=\"bold\" lengthAdjust=\"spacingAndGlyphs\" textLength=\"73\" x=\"69\" y=\"241.9951\">Definitions</text></a><!--MD5=[f6df4d0ebaf0b5dfb2ced0ae5af7c670]\n",
       "cluster E4--><a href=\"psysml:1c99181b-1c33-4a44-b1a9-f0fa19d834f2\" target=\"_top\" title=\"psysml:1c99181b-1c33-4a44-b1a9-f0fa19d834f2\" xlink:actuate=\"onRequest\" xlink:href=\"psysml:1c99181b-1c33-4a44-b1a9-f0fa19d834f2\" xlink:show=\"new\" xlink:title=\"psysml:1c99181b-1c33-4a44-b1a9-f0fa19d834f2\" xlink:type=\"simple\"><polygon fill=\"#FFFFFF\" points=\"48,57,106,57,113,79.2969,221,79.2969,221,170,48,170,48,57\" style=\"stroke: #000000; stroke-width: 1.5;\"/><line style=\"stroke: #000000; stroke-width: 1.5;\" x1=\"48\" x2=\"113\" y1=\"79.2969\" y2=\"79.2969\"/><text fill=\"#000000\" font-family=\"sans-serif\" font-size=\"14\" font-weight=\"bold\" lengthAdjust=\"spacingAndGlyphs\" textLength=\"52\" x=\"52\" y=\"71.9951\">Usages</text></a><!--MD5=[09b614a08d8cba4a07c9adeb5e0fee81]\n",
       "class E3--><a href=\"psysml:e00f8094-2dc0-4541-ab70-7f0589b02177\" target=\"_top\" title=\"psysml:e00f8094-2dc0-4541-ab70-7f0589b02177\" xlink:actuate=\"onRequest\" xlink:href=\"psysml:e00f8094-2dc0-4541-ab70-7f0589b02177\" xlink:show=\"new\" xlink:title=\"psysml:e00f8094-2dc0-4541-ab70-7f0589b02177\" xlink:type=\"simple\"><rect fill=\"#FFFFFF\" height=\"45.9375\" id=\"E3\" style=\"stroke: #383838; stroke-width: 1.5;\" width=\"70\" x=\"81\" y=\"262\"/><text fill=\"#000000\" font-family=\"sans-serif\" font-size=\"12\" font-style=\"italic\" lengthAdjust=\"spacingAndGlyphs\" textLength=\"68\" x=\"82\" y=\"278.1387\">«part  def»</text><text fill=\"#000000\" font-family=\"sans-serif\" font-size=\"12\" lengthAdjust=\"spacingAndGlyphs\" textLength=\"45\" x=\"93.5\" y=\"292.1074\">Vehicle</text><line style=\"stroke: #383838; stroke-width: 1.5;\" x1=\"82\" x2=\"150\" y1=\"299.9375\" y2=\"299.9375\"/></a><!--MD5=[270fce915f116d4de14055a7c1d9a0f3]\n",
       "class E5--><a href=\"psysml:9c534076-d85a-4836-b001-6ecd6cbd12fb\" target=\"_top\" title=\"psysml:9c534076-d85a-4836-b001-6ecd6cbd12fb\" xlink:actuate=\"onRequest\" xlink:href=\"psysml:9c534076-d85a-4836-b001-6ecd6cbd12fb\" xlink:show=\"new\" xlink:title=\"psysml:9c534076-d85a-4836-b001-6ecd6cbd12fb\" xlink:type=\"simple\"><rect fill=\"#FFFFFF\" height=\"45.9375\" id=\"E5\" rx=\"10\" ry=\"10\" style=\"stroke: #383838; stroke-width: 1.5;\" width=\"106\" x=\"91\" y=\"100\"/><text fill=\"#000000\" font-family=\"sans-serif\" font-size=\"12\" font-style=\"italic\" lengthAdjust=\"spacingAndGlyphs\" textLength=\"40\" x=\"124\" y=\"116.1387\">«part»</text><text fill=\"#000000\" font-family=\"sans-serif\" font-size=\"12\" lengthAdjust=\"spacingAndGlyphs\" textLength=\"96\" x=\"94\" y=\"130.1074\">vehicle: Vehicle</text><line style=\"stroke: #383838; stroke-width: 1.5;\" x1=\"92\" x2=\"196\" y1=\"137.9375\" y2=\"137.9375\"/></a><!--MD5=[f0cdf4548168e5211fb3a02bf679d63a]\n",
       "link E4 to E3--><a href=\"psysml:754d7efd-e1b6-49fa-9136-3270d64a1ac4\" target=\"_top\" title=\"psysml:754d7efd-e1b6-49fa-9136-3270d64a1ac4\" xlink:actuate=\"onRequest\" xlink:href=\"psysml:754d7efd-e1b6-49fa-9136-3270d64a1ac4\" xlink:show=\"new\" xlink:title=\"psysml:754d7efd-e1b6-49fa-9136-3270d64a1ac4\" xlink:type=\"simple\"><path d=\"M62.3475,170.0242 C62.3705,170.1912 62.3936,170.3582 62.4166,170.5251 C62.5087,171.1927 62.6006,171.8594 62.6924,172.5245 C62.8758,173.8547 63.0585,175.1785 63.2395,176.4909 C63.6016,179.1157 63.9573,181.6948 64.3012,184.1877 C64.989,189.1736 65.6292,193.8147 66.1772,197.7869 C67.2731,205.7313 68,211 68,211 C68,211 84.75,236.48 98.47,257.33 \" fill=\"none\" id=\"E4-&gt;E3\" style=\"stroke: #383838; stroke-width: 1.0; stroke-dasharray: 7.0,7.0;\"/><polygon fill=\"#383838\" points=\"101.34,261.7,99.7376,251.9824,98.593,257.5222,93.0531,256.3776,101.34,261.7\" style=\"stroke: #383838; stroke-width: 1.0;\"/><text fill=\"#000000\" font-family=\"sans-serif\" font-size=\"13\" lengthAdjust=\"spacingAndGlyphs\" textLength=\"58\" x=\"69\" y=\"207.0669\">«import»</text></a><!--MD5=[e9be52314489bd878ff4c7144b63c9e1]\n",
       "link E5 to E3--><a href=\"psysml:35d55ec3-6fe4-4032-923f-7a8654029377\" target=\"_top\" title=\"psysml:35d55ec3-6fe4-4032-923f-7a8654029377\" xlink:actuate=\"onRequest\" xlink:href=\"psysml:35d55ec3-6fe4-4032-923f-7a8654029377\" xlink:show=\"new\" xlink:title=\"psysml:35d55ec3-6fe4-4032-923f-7a8654029377\" xlink:type=\"simple\"><path d=\"M141.94,146.4 C139.57,172.18 136,211 136,211 C136,211 131.91,225.94 127.42,242.3 \" fill=\"none\" id=\"E5-&gt;E3\" style=\"stroke: #383838; stroke-width: 1.0;\"/><polygon fill=\"#FFFFFF\" points=\"122.11,261.7,120.3774,241.5258,133.8801,245.2238,122.11,261.7\" style=\"stroke: #383838; stroke-width: 1.0;\"/><ellipse cx=\"123.8119\" cy=\"236.5565\" fill=\"#383838\" rx=\"2\" ry=\"2\" style=\"stroke: #383838; stroke-width: 1.0;\"/><ellipse cx=\"133.4568\" cy=\"239.198\" fill=\"#383838\" rx=\"2\" ry=\"2\" style=\"stroke: #383838; stroke-width: 1.0;\"/></a><!--MD5=[71db72836673cb9c3dbeb7fe0d77e616]\n",
       "@startuml\r\n",
       "skinparam linetype polyline\r\n",
       "skinparam monochrome true\r\n",
       "skinparam classbackgroundcolor white\r\n",
       "skinparam shadowing false\r\n",
       "skinparam wrapWidth 300\r\n",
       "hide circle\r\n",
       "\r\n",
       "package \"AliasImport\" as E1  [[psysml:a585b742-f262-46cd-b94a-c90c9e84789e ]]  {\r\n",
       "package \"Definitions\" as E2  [[psysml:336f27c4-53da-4ebc-95bd-6f6303678a10 ]]  {\r\n",
       "comp def \"Vehicle\" as E3  <<(T,blue) part  def>> [[psysml:e00f8094-2dc0-4541-ab70-7f0589b02177 ]] {\r\n",
       "}\r\n",
       "}\r\n",
       "package \"Usages\" as E4  [[psysml:1c99181b-1c33-4a44-b1a9-f0fa19d834f2 ]]  {\r\n",
       "comp usage \"vehicle: Vehicle \" as E5  <<(T,blue) part>> [[psysml:9c534076-d85a-4836-b001-6ecd6cbd12fb ]] {\r\n",
       "}\r\n",
       "}\r\n",
       "}\r\n",
       "E4 ..> E3 [[psysml:754d7efd-e1b6-49fa-9136-3270d64a1ac4 ]] : <<import>>\r\n",
       "E5 - -:|> E3 [[psysml:35d55ec3-6fe4-4032-923f-7a8654029377 ]] \r\n",
       "@enduml\r\n",
       "\n",
       "PlantUML version 1.2020.13(Sat Jun 13 12:26:38 UTC 2020)\n",
       "(EPL source distribution)\n",
       "Java Runtime: OpenJDK Runtime Environment\n",
       "JVM: OpenJDK 64-Bit Server VM\n",
       "Default Encoding: UTF-8\n",
       "Language: en\n",
       "Country: null\n",
       "--></g></svg>"
      ]
     },
     "execution_count": 10,
     "metadata": {},
     "output_type": "execute_result"
    }
   ],
   "source": [
    "%viz --style=\"POLYLINE\" --view=\"Tree\" \"AliasImport\""
   ]
  },
  {
   "cell_type": "code",
   "execution_count": 11,
   "id": "d2a30098",
   "metadata": {
    "execution": {
     "iopub.execute_input": "2022-03-21T07:53:01.791085Z",
     "iopub.status.busy": "2022-03-21T07:53:01.790664Z",
     "iopub.status.idle": "2022-03-21T07:53:01.796822Z",
     "shell.execute_reply": "2022-03-21T07:53:01.797137Z"
    }
   },
   "outputs": [
    {
     "data": {
      "image/svg+xml": [
       "<?xml version=\"1.0\" encoding=\"UTF-8\" standalone=\"no\"?><svg xmlns=\"http://www.w3.org/2000/svg\" xmlns:xlink=\"http://www.w3.org/1999/xlink\" contentScriptType=\"application/ecmascript\" contentStyleType=\"text/css\" height=\"12px\" preserveAspectRatio=\"none\" style=\"width:12px;height:12px;\" version=\"1.1\" viewBox=\"0 0 12 12\" width=\"12px\" zoomAndPan=\"magnify\"><defs/><g><!--MD5=[896ac0e7a515d8dd7765a661cb4ee08b]\n",
       "@startuml\r\n",
       "skinparam linetype polyline\r\n",
       "skinparam monochrome true\r\n",
       "skinparam classbackgroundcolor white\r\n",
       "skinparam shadowing false\r\n",
       "skinparam wrapWidth 300\r\n",
       "hide circle\r\n",
       "\r\n",
       "@enduml\r\n",
       "\n",
       "PlantUML version 1.2020.13(Sat Jun 13 12:26:38 UTC 2020)\n",
       "(EPL source distribution)\n",
       "Java Runtime: OpenJDK Runtime Environment\n",
       "JVM: OpenJDK 64-Bit Server VM\n",
       "Default Encoding: UTF-8\n",
       "Language: en\n",
       "Country: null\n",
       "--></g></svg>"
      ]
     },
     "execution_count": 11,
     "metadata": {},
     "output_type": "execute_result"
    }
   ],
   "source": [
    "%viz --style=\"POLYLINE\" --view=\"State\" \"AliasImport\""
   ]
  },
  {
   "cell_type": "code",
   "execution_count": 12,
   "id": "c0e2aaa1",
   "metadata": {
    "execution": {
     "iopub.execute_input": "2022-03-21T07:53:01.847485Z",
     "iopub.status.busy": "2022-03-21T07:53:01.847078Z",
     "iopub.status.idle": "2022-03-21T07:53:01.884147Z",
     "shell.execute_reply": "2022-03-21T07:53:01.883798Z"
    }
   },
   "outputs": [
    {
     "data": {
      "image/svg+xml": [
       "<?xml version=\"1.0\" encoding=\"UTF-8\" standalone=\"no\"?><svg xmlns=\"http://www.w3.org/2000/svg\" xmlns:xlink=\"http://www.w3.org/1999/xlink\" contentScriptType=\"application/ecmascript\" contentStyleType=\"text/css\" height=\"351px\" preserveAspectRatio=\"none\" style=\"width:302px;height:351px;\" version=\"1.1\" viewBox=\"0 0 302 351\" width=\"302px\" zoomAndPan=\"magnify\"><defs/><g><!--MD5=[fbc87193dbaf4d95561dea2c320d4a47]\n",
       "cluster E1--><a href=\"psysml:a585b742-f262-46cd-b94a-c90c9e84789e\" target=\"_top\" title=\"psysml:a585b742-f262-46cd-b94a-c90c9e84789e\" xlink:actuate=\"onRequest\" xlink:href=\"psysml:a585b742-f262-46cd-b94a-c90c9e84789e\" xlink:show=\"new\" xlink:title=\"psysml:a585b742-f262-46cd-b94a-c90c9e84789e\" xlink:type=\"simple\"><polygon fill=\"#FFFFFF\" points=\"16,6,97,6,104,28.2969,280,28.2969,280,339,16,339,16,6\" style=\"stroke: #000000; stroke-width: 1.5;\"/><line style=\"stroke: #000000; stroke-width: 1.5;\" x1=\"16\" x2=\"104\" y1=\"28.2969\" y2=\"28.2969\"/><text fill=\"#000000\" font-family=\"sans-serif\" font-size=\"14\" font-weight=\"bold\" lengthAdjust=\"spacingAndGlyphs\" textLength=\"75\" x=\"20\" y=\"20.9951\">AliasImport</text></a><!--MD5=[e4f7fae6ed58524ba242bb0b0d3be6b7]\n",
       "cluster E2--><a href=\"psysml:336f27c4-53da-4ebc-95bd-6f6303678a10\" target=\"_top\" title=\"psysml:336f27c4-53da-4ebc-95bd-6f6303678a10\" xlink:actuate=\"onRequest\" xlink:href=\"psysml:336f27c4-53da-4ebc-95bd-6f6303678a10\" xlink:show=\"new\" xlink:title=\"psysml:336f27c4-53da-4ebc-95bd-6f6303678a10\" xlink:type=\"simple\"><polygon fill=\"#FFFFFF\" points=\"40,221,119,221,126,243.2969,256,243.2969,256,315,40,315,40,221\" style=\"stroke: #000000; stroke-width: 1.5;\"/><line style=\"stroke: #000000; stroke-width: 1.5;\" x1=\"40\" x2=\"126\" y1=\"243.2969\" y2=\"243.2969\"/><text fill=\"#000000\" font-family=\"sans-serif\" font-size=\"14\" font-weight=\"bold\" lengthAdjust=\"spacingAndGlyphs\" textLength=\"73\" x=\"44\" y=\"235.9951\">Definitions</text></a><!--MD5=[de5ec2e2e8f62f467e546659f5068c88]\n",
       "cluster E5--><a href=\"psysml:1c99181b-1c33-4a44-b1a9-f0fa19d834f2\" target=\"_top\" title=\"psysml:1c99181b-1c33-4a44-b1a9-f0fa19d834f2\" xlink:actuate=\"onRequest\" xlink:href=\"psysml:1c99181b-1c33-4a44-b1a9-f0fa19d834f2\" xlink:show=\"new\" xlink:title=\"psysml:1c99181b-1c33-4a44-b1a9-f0fa19d834f2\" xlink:type=\"simple\"><polygon fill=\"#FFFFFF\" points=\"74,57,132,57,139,79.2969,248,79.2969,248,164,74,164,74,57\" style=\"stroke: #000000; stroke-width: 1.5;\"/><line style=\"stroke: #000000; stroke-width: 1.5;\" x1=\"74\" x2=\"139\" y1=\"79.2969\" y2=\"79.2969\"/><text fill=\"#000000\" font-family=\"sans-serif\" font-size=\"14\" font-weight=\"bold\" lengthAdjust=\"spacingAndGlyphs\" textLength=\"52\" x=\"78\" y=\"71.9951\">Usages</text></a><g id=\"E1.E2.E3\"><a href=\"psysml:e00f8094-2dc0-4541-ab70-7f0589b02177\" target=\"_top\" title=\"psysml:e00f8094-2dc0-4541-ab70-7f0589b02177\" xlink:actuate=\"onRequest\" xlink:href=\"psysml:e00f8094-2dc0-4541-ab70-7f0589b02177\" xlink:show=\"new\" xlink:title=\"psysml:e00f8094-2dc0-4541-ab70-7f0589b02177\" xlink:type=\"simple\"><rect fill=\"#FFFFFF\" height=\"42.9375\" id=\"E3\" style=\"stroke: #383838; stroke-width: 1.5;\" width=\"75\" x=\"165.5\" y=\"256\"/><rect fill=\"#F8F8F8\" height=\"37.9375\" style=\"stroke: #383838; stroke-width: 1.5;\" width=\"75\" x=\"165.5\" y=\"256\"/><text fill=\"#000000\" font-family=\"sans-serif\" font-size=\"12\" font-style=\"italic\" lengthAdjust=\"spacingAndGlyphs\" textLength=\"68\" x=\"169\" y=\"272.1387\">«part  def»</text><text fill=\"#000000\" font-family=\"sans-serif\" font-size=\"12\" lengthAdjust=\"spacingAndGlyphs\" textLength=\"45\" x=\"180.5\" y=\"286.1074\">Vehicle</text></a></g><g id=\"E1.E2.E4\"><a href=\"psysml:e00f8094-2dc0-4541-ab70-7f0589b02177\" target=\"_top\" title=\"psysml:e00f8094-2dc0-4541-ab70-7f0589b02177\" xlink:actuate=\"onRequest\" xlink:href=\"psysml:e00f8094-2dc0-4541-ab70-7f0589b02177\" xlink:show=\"new\" xlink:title=\"psysml:e00f8094-2dc0-4541-ab70-7f0589b02177\" xlink:type=\"simple\"><rect fill=\"#FFFFFF\" height=\"42.9375\" id=\"E4\" style=\"stroke: #383838; stroke-width: 1.5;\" width=\"75\" x=\"55.5\" y=\"256\"/><rect fill=\"#F8F8F8\" height=\"37.9375\" style=\"stroke: #383838; stroke-width: 1.5;\" width=\"75\" x=\"55.5\" y=\"256\"/><text fill=\"#000000\" font-family=\"sans-serif\" font-size=\"12\" font-style=\"italic\" lengthAdjust=\"spacingAndGlyphs\" textLength=\"68\" x=\"59\" y=\"272.1387\">«part  def»</text><text fill=\"#000000\" font-family=\"sans-serif\" font-size=\"12\" lengthAdjust=\"spacingAndGlyphs\" textLength=\"45\" x=\"70.5\" y=\"286.1074\">Vehicle</text></a></g><g id=\"E1.E5.E6\"><a href=\"psysml:9c534076-d85a-4836-b001-6ecd6cbd12fb\" target=\"_top\" title=\"psysml:9c534076-d85a-4836-b001-6ecd6cbd12fb\" xlink:actuate=\"onRequest\" xlink:href=\"psysml:9c534076-d85a-4836-b001-6ecd6cbd12fb\" xlink:show=\"new\" xlink:title=\"psysml:9c534076-d85a-4836-b001-6ecd6cbd12fb\" xlink:type=\"simple\"><rect fill=\"#FFFFFF\" height=\"40\" id=\"E6\" rx=\"10\" ry=\"10\" style=\"stroke: #383838; stroke-width: 1.5;\" width=\"107\" x=\"117.5\" y=\"100\"/><rect fill=\"#F8F8F8\" height=\"23.9688\" rx=\"10\" ry=\"10\" style=\"stroke: #F8F8F8; stroke-width: 1.5;\" width=\"107\" x=\"117.5\" y=\"100\"/><rect fill=\"#F8F8F8\" height=\"10\" style=\"stroke: #F8F8F8; stroke-width: 1.5;\" width=\"107\" x=\"117.5\" y=\"113.9688\"/><rect fill=\"none\" height=\"40\" id=\"E6\" rx=\"10\" ry=\"10\" style=\"stroke: #383838; stroke-width: 1.5;\" width=\"107\" x=\"117.5\" y=\"100\"/><text fill=\"#000000\" font-family=\"sans-serif\" font-size=\"12\" lengthAdjust=\"spacingAndGlyphs\" textLength=\"96\" x=\"123\" y=\"116.1387\">vehicle: Vehicle</text></a></g><!--MD5=[1c62de2aa5b76f0fb657ff8443a1a700]\n",
       "link E5 to E4--><a href=\"psysml:754d7efd-e1b6-49fa-9136-3270d64a1ac4\" target=\"_top\" title=\"psysml:754d7efd-e1b6-49fa-9136-3270d64a1ac4\" xlink:actuate=\"onRequest\" xlink:href=\"psysml:754d7efd-e1b6-49fa-9136-3270d64a1ac4\" xlink:show=\"new\" xlink:title=\"psysml:754d7efd-e1b6-49fa-9136-3270d64a1ac4\" xlink:type=\"simple\"><path d=\"M85.0613,164.274 C85.0754,164.474 85.0896,164.6743 85.1038,164.8751 C85.1322,165.2765 85.1608,165.6795 85.1894,166.0839 C85.3039,167.7016 85.42,169.3423 85.5375,171.0025 C87.4175,197.565 89.65,229.1 91.18,250.73 \" fill=\"none\" id=\"E5-&gt;E4\" style=\"stroke: #383838; stroke-width: 1.0; stroke-dasharray: 7.0,7.0;\"/><polygon fill=\"#383838\" points=\"91.54,255.81,94.8867,246.5472,91.1827,250.8228,86.9072,247.1188,91.54,255.81\" style=\"stroke: #383838; stroke-width: 1.0;\"/><text fill=\"#000000\" font-family=\"sans-serif\" font-size=\"13\" lengthAdjust=\"spacingAndGlyphs\" textLength=\"58\" x=\"88\" y=\"201.0669\">«import»</text></a><!--MD5=[7950fda78bf04459a384b320201a6209]\n",
       "@startuml\r\n",
       "skinparam ranksep 10\r\n",
       "skinparam rectangle {\r\n",
       " backgroundColor<<block>> LightGreen\r\n",
       "}\r\n",
       "skinparam linetype polyline\r\n",
       "skinparam monochrome true\r\n",
       "skinparam classbackgroundcolor white\r\n",
       "skinparam shadowing false\r\n",
       "skinparam wrapWidth 300\r\n",
       "hide circle\r\n",
       "\r\n",
       "package \"AliasImport\" as E1  [[psysml:a585b742-f262-46cd-b94a-c90c9e84789e ]]  {\r\n",
       "package \"Definitions\" as E2  [[psysml:336f27c4-53da-4ebc-95bd-6f6303678a10 ]]  {\r\n",
       "rec def \"Vehicle\" as E3  <<(T,blue) part  def>> [[psysml:e00f8094-2dc0-4541-ab70-7f0589b02177 ]] {\r\n",
       "}\r\n",
       "rec def \"Vehicle\" as E4  <<(T,blue) part  def>> [[psysml:e00f8094-2dc0-4541-ab70-7f0589b02177 ]] {\r\n",
       "}\r\n",
       "}\r\n",
       "package \"Usages\" as E5  [[psysml:1c99181b-1c33-4a44-b1a9-f0fa19d834f2 ]]  {\r\n",
       "rec usage \"vehicle: Vehicle\" as E6  [[psysml:9c534076-d85a-4836-b001-6ecd6cbd12fb ]] {\r\n",
       "}\r\n",
       "}\r\n",
       "}\r\n",
       "E5 ..> E4 [[psysml:754d7efd-e1b6-49fa-9136-3270d64a1ac4 ]] : <<import>>\r\n",
       "@enduml\r\n",
       "\n",
       "PlantUML version 1.2020.13(Sat Jun 13 12:26:38 UTC 2020)\n",
       "(EPL source distribution)\n",
       "Java Runtime: OpenJDK Runtime Environment\n",
       "JVM: OpenJDK 64-Bit Server VM\n",
       "Default Encoding: UTF-8\n",
       "Language: en\n",
       "Country: null\n",
       "--></g></svg>"
      ]
     },
     "execution_count": 12,
     "metadata": {},
     "output_type": "execute_result"
    }
   ],
   "source": [
    "%viz --style=\"POLYLINE\" --view=\"Interconnection\" \"AliasImport\""
   ]
  },
  {
   "cell_type": "code",
   "execution_count": 13,
   "id": "25554268",
   "metadata": {
    "execution": {
     "iopub.execute_input": "2022-03-21T07:53:01.934224Z",
     "iopub.status.busy": "2022-03-21T07:53:01.933815Z",
     "iopub.status.idle": "2022-03-21T07:53:01.940184Z",
     "shell.execute_reply": "2022-03-21T07:53:01.940508Z"
    }
   },
   "outputs": [
    {
     "data": {
      "image/svg+xml": [
       "<?xml version=\"1.0\" encoding=\"UTF-8\" standalone=\"no\"?><svg xmlns=\"http://www.w3.org/2000/svg\" xmlns:xlink=\"http://www.w3.org/1999/xlink\" contentScriptType=\"application/ecmascript\" contentStyleType=\"text/css\" height=\"12px\" preserveAspectRatio=\"none\" style=\"width:12px;height:12px;\" version=\"1.1\" viewBox=\"0 0 12 12\" width=\"12px\" zoomAndPan=\"magnify\"><defs/><g><!--MD5=[97bbf32f66ccd50cbc40d92ea8f5a65e]\n",
       "@startuml\r\n",
       "skinparam ranksep 8\r\n",
       "skinparam linetype polyline\r\n",
       "skinparam monochrome true\r\n",
       "skinparam classbackgroundcolor white\r\n",
       "skinparam shadowing false\r\n",
       "skinparam wrapWidth 300\r\n",
       "hide circle\r\n",
       "\r\n",
       "@enduml\r\n",
       "\n",
       "PlantUML version 1.2020.13(Sat Jun 13 12:26:38 UTC 2020)\n",
       "(EPL source distribution)\n",
       "Java Runtime: OpenJDK Runtime Environment\n",
       "JVM: OpenJDK 64-Bit Server VM\n",
       "Default Encoding: UTF-8\n",
       "Language: en\n",
       "Country: null\n",
       "--></g></svg>"
      ]
     },
     "execution_count": 13,
     "metadata": {},
     "output_type": "execute_result"
    }
   ],
   "source": [
    "%viz --style=\"POLYLINE\" --view=\"Action\" \"AliasImport\""
   ]
  },
  {
   "cell_type": "code",
   "execution_count": 14,
   "id": "a6458592",
   "metadata": {
    "execution": {
     "iopub.execute_input": "2022-03-21T07:53:01.990657Z",
     "iopub.status.busy": "2022-03-21T07:53:01.990256Z",
     "iopub.status.idle": "2022-03-21T07:53:01.996731Z",
     "shell.execute_reply": "2022-03-21T07:53:01.997058Z"
    }
   },
   "outputs": [
    {
     "data": {
      "image/svg+xml": [
       "<?xml version=\"1.0\" encoding=\"UTF-8\" standalone=\"no\"?><svg xmlns=\"http://www.w3.org/2000/svg\" xmlns:xlink=\"http://www.w3.org/1999/xlink\" contentScriptType=\"application/ecmascript\" contentStyleType=\"text/css\" height=\"12px\" preserveAspectRatio=\"none\" style=\"width:12px;height:12px;\" version=\"1.1\" viewBox=\"0 0 12 12\" width=\"12px\" zoomAndPan=\"magnify\"><defs/><g><!--MD5=[dc938048236c351797870c36b62f92ad]\n",
       "@startuml\r\n",
       "skinparam roundcorner 20\r\n",
       "skinparam BoxPadding 20\r\n",
       "skinparam SequenceBoxBackgroundColor #white\r\n",
       "skinparam style strictuml\r\n",
       "skinparam maxMessageSize 100\r\n",
       "skinparam linetype polyline\r\n",
       "skinparam monochrome true\r\n",
       "skinparam classbackgroundcolor white\r\n",
       "skinparam shadowing false\r\n",
       "skinparam wrapWidth 300\r\n",
       "hide circle\r\n",
       "\r\n",
       "@enduml\r\n",
       "\n",
       "PlantUML version 1.2020.13(Sat Jun 13 12:26:38 UTC 2020)\n",
       "(EPL source distribution)\n",
       "Java Runtime: OpenJDK Runtime Environment\n",
       "JVM: OpenJDK 64-Bit Server VM\n",
       "Default Encoding: UTF-8\n",
       "Language: en\n",
       "Country: null\n",
       "--></g></svg>"
      ]
     },
     "execution_count": 14,
     "metadata": {},
     "output_type": "execute_result"
    }
   ],
   "source": [
    "%viz --style=\"POLYLINE\" --view=\"Sequence\" \"AliasImport\""
   ]
  },
  {
   "cell_type": "code",
   "execution_count": 15,
   "id": "2da86028",
   "metadata": {
    "execution": {
     "iopub.execute_input": "2022-03-21T07:53:02.047233Z",
     "iopub.status.busy": "2022-03-21T07:53:02.046813Z",
     "iopub.status.idle": "2022-03-21T07:53:02.082698Z",
     "shell.execute_reply": "2022-03-21T07:53:02.082332Z"
    }
   },
   "outputs": [
    {
     "data": {
      "image/svg+xml": [
       "<?xml version=\"1.0\" encoding=\"UTF-8\" standalone=\"no\"?><svg xmlns=\"http://www.w3.org/2000/svg\" xmlns:xlink=\"http://www.w3.org/1999/xlink\" contentScriptType=\"application/ecmascript\" contentStyleType=\"text/css\" height=\"360px\" preserveAspectRatio=\"none\" style=\"width:275px;height:360px;\" version=\"1.1\" viewBox=\"0 0 275 360\" width=\"275px\" zoomAndPan=\"magnify\"><defs/><g><!--MD5=[fbc87193dbaf4d95561dea2c320d4a47]\n",
       "cluster E1--><a href=\"psysml:a585b742-f262-46cd-b94a-c90c9e84789e\" target=\"_top\" title=\"psysml:a585b742-f262-46cd-b94a-c90c9e84789e\" xlink:actuate=\"onRequest\" xlink:href=\"psysml:a585b742-f262-46cd-b94a-c90c9e84789e\" xlink:show=\"new\" xlink:title=\"psysml:a585b742-f262-46cd-b94a-c90c9e84789e\" xlink:type=\"simple\"><polygon fill=\"#FFFFFF\" points=\"16,6,97,6,104,28.2969,253,28.2969,253,348,16,348,16,6\" style=\"stroke: #000000; stroke-width: 1.5;\"/><line style=\"stroke: #000000; stroke-width: 1.5;\" x1=\"16\" x2=\"104\" y1=\"28.2969\" y2=\"28.2969\"/><text fill=\"#000000\" font-family=\"sans-serif\" font-size=\"14\" font-weight=\"bold\" lengthAdjust=\"spacingAndGlyphs\" textLength=\"75\" x=\"20\" y=\"20.9951\">AliasImport</text></a><!--MD5=[e4f7fae6ed58524ba242bb0b0d3be6b7]\n",
       "cluster E2--><a href=\"psysml:336f27c4-53da-4ebc-95bd-6f6303678a10\" target=\"_top\" title=\"psysml:336f27c4-53da-4ebc-95bd-6f6303678a10\" xlink:actuate=\"onRequest\" xlink:href=\"psysml:336f27c4-53da-4ebc-95bd-6f6303678a10\" xlink:show=\"new\" xlink:title=\"psysml:336f27c4-53da-4ebc-95bd-6f6303678a10\" xlink:type=\"simple\"><polygon fill=\"#FFFFFF\" points=\"65,227,144,227,151,249.2969,167,249.2969,167,324,65,324,65,227\" style=\"stroke: #000000; stroke-width: 1.5;\"/><line style=\"stroke: #000000; stroke-width: 1.5;\" x1=\"65\" x2=\"151\" y1=\"249.2969\" y2=\"249.2969\"/><text fill=\"#000000\" font-family=\"sans-serif\" font-size=\"14\" font-weight=\"bold\" lengthAdjust=\"spacingAndGlyphs\" textLength=\"73\" x=\"69\" y=\"241.9951\">Definitions</text></a><!--MD5=[f6df4d0ebaf0b5dfb2ced0ae5af7c670]\n",
       "cluster E4--><a href=\"psysml:1c99181b-1c33-4a44-b1a9-f0fa19d834f2\" target=\"_top\" title=\"psysml:1c99181b-1c33-4a44-b1a9-f0fa19d834f2\" xlink:actuate=\"onRequest\" xlink:href=\"psysml:1c99181b-1c33-4a44-b1a9-f0fa19d834f2\" xlink:show=\"new\" xlink:title=\"psysml:1c99181b-1c33-4a44-b1a9-f0fa19d834f2\" xlink:type=\"simple\"><polygon fill=\"#FFFFFF\" points=\"48,57,106,57,113,79.2969,221,79.2969,221,170,48,170,48,57\" style=\"stroke: #000000; stroke-width: 1.5;\"/><line style=\"stroke: #000000; stroke-width: 1.5;\" x1=\"48\" x2=\"113\" y1=\"79.2969\" y2=\"79.2969\"/><text fill=\"#000000\" font-family=\"sans-serif\" font-size=\"14\" font-weight=\"bold\" lengthAdjust=\"spacingAndGlyphs\" textLength=\"52\" x=\"52\" y=\"71.9951\">Usages</text></a><!--MD5=[09b614a08d8cba4a07c9adeb5e0fee81]\n",
       "class E3--><a href=\"psysml:e00f8094-2dc0-4541-ab70-7f0589b02177\" target=\"_top\" title=\"psysml:e00f8094-2dc0-4541-ab70-7f0589b02177\" xlink:actuate=\"onRequest\" xlink:href=\"psysml:e00f8094-2dc0-4541-ab70-7f0589b02177\" xlink:show=\"new\" xlink:title=\"psysml:e00f8094-2dc0-4541-ab70-7f0589b02177\" xlink:type=\"simple\"><rect fill=\"#FFFFFF\" height=\"45.9375\" id=\"E3\" style=\"stroke: #383838; stroke-width: 1.5;\" width=\"70\" x=\"81\" y=\"262\"/><text fill=\"#000000\" font-family=\"sans-serif\" font-size=\"12\" font-style=\"italic\" lengthAdjust=\"spacingAndGlyphs\" textLength=\"68\" x=\"82\" y=\"278.1387\">«part  def»</text><text fill=\"#000000\" font-family=\"sans-serif\" font-size=\"12\" lengthAdjust=\"spacingAndGlyphs\" textLength=\"45\" x=\"93.5\" y=\"292.1074\">Vehicle</text><line style=\"stroke: #383838; stroke-width: 1.5;\" x1=\"82\" x2=\"150\" y1=\"299.9375\" y2=\"299.9375\"/></a><!--MD5=[270fce915f116d4de14055a7c1d9a0f3]\n",
       "class E5--><a href=\"psysml:9c534076-d85a-4836-b001-6ecd6cbd12fb\" target=\"_top\" title=\"psysml:9c534076-d85a-4836-b001-6ecd6cbd12fb\" xlink:actuate=\"onRequest\" xlink:href=\"psysml:9c534076-d85a-4836-b001-6ecd6cbd12fb\" xlink:show=\"new\" xlink:title=\"psysml:9c534076-d85a-4836-b001-6ecd6cbd12fb\" xlink:type=\"simple\"><rect fill=\"#FFFFFF\" height=\"45.9375\" id=\"E5\" rx=\"10\" ry=\"10\" style=\"stroke: #383838; stroke-width: 1.5;\" width=\"106\" x=\"91\" y=\"100\"/><text fill=\"#000000\" font-family=\"sans-serif\" font-size=\"12\" font-style=\"italic\" lengthAdjust=\"spacingAndGlyphs\" textLength=\"40\" x=\"124\" y=\"116.1387\">«part»</text><text fill=\"#000000\" font-family=\"sans-serif\" font-size=\"12\" lengthAdjust=\"spacingAndGlyphs\" textLength=\"96\" x=\"94\" y=\"130.1074\">vehicle: Vehicle</text><line style=\"stroke: #383838; stroke-width: 1.5;\" x1=\"92\" x2=\"196\" y1=\"137.9375\" y2=\"137.9375\"/></a><!--MD5=[f0cdf4548168e5211fb3a02bf679d63a]\n",
       "link E4 to E3--><a href=\"psysml:754d7efd-e1b6-49fa-9136-3270d64a1ac4\" target=\"_top\" title=\"psysml:754d7efd-e1b6-49fa-9136-3270d64a1ac4\" xlink:actuate=\"onRequest\" xlink:href=\"psysml:754d7efd-e1b6-49fa-9136-3270d64a1ac4\" xlink:show=\"new\" xlink:title=\"psysml:754d7efd-e1b6-49fa-9136-3270d64a1ac4\" xlink:type=\"simple\"><path d=\"M62.3475,170.0242 C62.3705,170.1912 62.3936,170.3582 62.4166,170.5251 C62.5087,171.1927 62.6006,171.8594 62.6924,172.5245 C62.8758,173.8547 63.0585,175.1785 63.2395,176.4909 C63.6016,179.1157 63.9573,181.6948 64.3012,184.1877 C64.989,189.1736 65.6292,193.8147 66.1772,197.7869 C67.2731,205.7313 68,211 68,211 C68,211 84.75,236.48 98.47,257.33 \" fill=\"none\" id=\"E4-&gt;E3\" style=\"stroke: #383838; stroke-width: 1.0; stroke-dasharray: 7.0,7.0;\"/><polygon fill=\"#383838\" points=\"101.34,261.7,99.7376,251.9824,98.593,257.5222,93.0531,256.3776,101.34,261.7\" style=\"stroke: #383838; stroke-width: 1.0;\"/><text fill=\"#000000\" font-family=\"sans-serif\" font-size=\"13\" lengthAdjust=\"spacingAndGlyphs\" textLength=\"58\" x=\"69\" y=\"207.0669\">«import»</text></a><!--MD5=[e9be52314489bd878ff4c7144b63c9e1]\n",
       "link E5 to E3--><a href=\"psysml:35d55ec3-6fe4-4032-923f-7a8654029377\" target=\"_top\" title=\"psysml:35d55ec3-6fe4-4032-923f-7a8654029377\" xlink:actuate=\"onRequest\" xlink:href=\"psysml:35d55ec3-6fe4-4032-923f-7a8654029377\" xlink:show=\"new\" xlink:title=\"psysml:35d55ec3-6fe4-4032-923f-7a8654029377\" xlink:type=\"simple\"><path d=\"M141.94,146.4 C139.57,172.18 136,211 136,211 C136,211 131.91,225.94 127.42,242.3 \" fill=\"none\" id=\"E5-&gt;E3\" style=\"stroke: #383838; stroke-width: 1.0;\"/><polygon fill=\"#FFFFFF\" points=\"122.11,261.7,120.3774,241.5258,133.8801,245.2238,122.11,261.7\" style=\"stroke: #383838; stroke-width: 1.0;\"/><ellipse cx=\"123.8119\" cy=\"236.5565\" fill=\"#383838\" rx=\"2\" ry=\"2\" style=\"stroke: #383838; stroke-width: 1.0;\"/><ellipse cx=\"133.4568\" cy=\"239.198\" fill=\"#383838\" rx=\"2\" ry=\"2\" style=\"stroke: #383838; stroke-width: 1.0;\"/></a><!--MD5=[71db72836673cb9c3dbeb7fe0d77e616]\n",
       "@startuml\r\n",
       "skinparam linetype polyline\r\n",
       "skinparam monochrome true\r\n",
       "skinparam classbackgroundcolor white\r\n",
       "skinparam shadowing false\r\n",
       "skinparam wrapWidth 300\r\n",
       "hide circle\r\n",
       "\r\n",
       "package \"AliasImport\" as E1  [[psysml:a585b742-f262-46cd-b94a-c90c9e84789e ]]  {\r\n",
       "package \"Definitions\" as E2  [[psysml:336f27c4-53da-4ebc-95bd-6f6303678a10 ]]  {\r\n",
       "comp def \"Vehicle\" as E3  <<(T,blue) part  def>> [[psysml:e00f8094-2dc0-4541-ab70-7f0589b02177 ]] {\r\n",
       "}\r\n",
       "}\r\n",
       "package \"Usages\" as E4  [[psysml:1c99181b-1c33-4a44-b1a9-f0fa19d834f2 ]]  {\r\n",
       "comp usage \"vehicle: Vehicle \" as E5  <<(T,blue) part>> [[psysml:9c534076-d85a-4836-b001-6ecd6cbd12fb ]] {\r\n",
       "}\r\n",
       "}\r\n",
       "}\r\n",
       "E4 ..> E3 [[psysml:754d7efd-e1b6-49fa-9136-3270d64a1ac4 ]] : <<import>>\r\n",
       "E5 - -:|> E3 [[psysml:35d55ec3-6fe4-4032-923f-7a8654029377 ]] \r\n",
       "@enduml\r\n",
       "\n",
       "PlantUML version 1.2020.13(Sat Jun 13 12:26:38 UTC 2020)\n",
       "(EPL source distribution)\n",
       "Java Runtime: OpenJDK Runtime Environment\n",
       "JVM: OpenJDK 64-Bit Server VM\n",
       "Default Encoding: UTF-8\n",
       "Language: en\n",
       "Country: null\n",
       "--></g></svg>"
      ]
     },
     "execution_count": 15,
     "metadata": {},
     "output_type": "execute_result"
    }
   ],
   "source": [
    "%viz --style=\"POLYLINE\" --view=\"MIXED\" \"AliasImport\""
   ]
  },
  {
   "cell_type": "code",
   "execution_count": 16,
   "id": "3149f9e3",
   "metadata": {
    "execution": {
     "iopub.execute_input": "2022-03-21T07:53:02.132744Z",
     "iopub.status.busy": "2022-03-21T07:53:02.132333Z",
     "iopub.status.idle": "2022-03-21T07:53:02.182487Z",
     "shell.execute_reply": "2022-03-21T07:53:02.180473Z"
    }
   },
   "outputs": [
    {
     "data": {
      "image/svg+xml": [
       "<?xml version=\"1.0\" encoding=\"UTF-8\" standalone=\"no\"?><svg xmlns=\"http://www.w3.org/2000/svg\" xmlns:xlink=\"http://www.w3.org/1999/xlink\" contentScriptType=\"application/ecmascript\" contentStyleType=\"text/css\" height=\"233px\" preserveAspectRatio=\"none\" style=\"width:450px;height:233px;\" version=\"1.1\" viewBox=\"0 0 450 233\" width=\"450px\" zoomAndPan=\"magnify\"><defs/><g><!--MD5=[fbc87193dbaf4d95561dea2c320d4a47]\n",
       "cluster E1--><a href=\"psysml:a585b742-f262-46cd-b94a-c90c9e84789e\" target=\"_top\" title=\"psysml:a585b742-f262-46cd-b94a-c90c9e84789e\" xlink:actuate=\"onRequest\" xlink:href=\"psysml:a585b742-f262-46cd-b94a-c90c9e84789e\" xlink:show=\"new\" xlink:title=\"psysml:a585b742-f262-46cd-b94a-c90c9e84789e\" xlink:type=\"simple\"><polygon fill=\"#FFFFFF\" points=\"16,6,97,6,104,28.2969,428,28.2969,428,221,16,221,16,6\" style=\"stroke: #000000; stroke-width: 1.5;\"/><line style=\"stroke: #000000; stroke-width: 1.5;\" x1=\"16\" x2=\"104\" y1=\"28.2969\" y2=\"28.2969\"/><text fill=\"#000000\" font-family=\"sans-serif\" font-size=\"14\" font-weight=\"bold\" lengthAdjust=\"spacingAndGlyphs\" textLength=\"75\" x=\"20\" y=\"20.9951\">AliasImport</text></a><!--MD5=[e4f7fae6ed58524ba242bb0b0d3be6b7]\n",
       "cluster E2--><a href=\"psysml:336f27c4-53da-4ebc-95bd-6f6303678a10\" target=\"_top\" title=\"psysml:336f27c4-53da-4ebc-95bd-6f6303678a10\" xlink:actuate=\"onRequest\" xlink:href=\"psysml:336f27c4-53da-4ebc-95bd-6f6303678a10\" xlink:show=\"new\" xlink:title=\"psysml:336f27c4-53da-4ebc-95bd-6f6303678a10\" xlink:type=\"simple\"><polygon fill=\"#FFFFFF\" points=\"302,87,381,87,388,109.2969,404,109.2969,404,184,302,184,302,87\" style=\"stroke: #000000; stroke-width: 1.5;\"/><line style=\"stroke: #000000; stroke-width: 1.5;\" x1=\"302\" x2=\"388\" y1=\"109.2969\" y2=\"109.2969\"/><text fill=\"#000000\" font-family=\"sans-serif\" font-size=\"14\" font-weight=\"bold\" lengthAdjust=\"spacingAndGlyphs\" textLength=\"73\" x=\"306\" y=\"101.9951\">Definitions</text></a><!--MD5=[f6df4d0ebaf0b5dfb2ced0ae5af7c670]\n",
       "cluster E4--><a href=\"psysml:1c99181b-1c33-4a44-b1a9-f0fa19d834f2\" target=\"_top\" title=\"psysml:1c99181b-1c33-4a44-b1a9-f0fa19d834f2\" xlink:actuate=\"onRequest\" xlink:href=\"psysml:1c99181b-1c33-4a44-b1a9-f0fa19d834f2\" xlink:show=\"new\" xlink:title=\"psysml:1c99181b-1c33-4a44-b1a9-f0fa19d834f2\" xlink:type=\"simple\"><polygon fill=\"#FFFFFF\" points=\"48,57,106,57,113,79.2969,202,79.2969,202,189,48,189,48,57\" style=\"stroke: #000000; stroke-width: 1.5;\"/><line style=\"stroke: #000000; stroke-width: 1.5;\" x1=\"48\" x2=\"113\" y1=\"79.2969\" y2=\"79.2969\"/><text fill=\"#000000\" font-family=\"sans-serif\" font-size=\"14\" font-weight=\"bold\" lengthAdjust=\"spacingAndGlyphs\" textLength=\"52\" x=\"52\" y=\"71.9951\">Usages</text></a><!--MD5=[09b614a08d8cba4a07c9adeb5e0fee81]\n",
       "class E3--><a href=\"psysml:e00f8094-2dc0-4541-ab70-7f0589b02177\" target=\"_top\" title=\"psysml:e00f8094-2dc0-4541-ab70-7f0589b02177\" xlink:actuate=\"onRequest\" xlink:href=\"psysml:e00f8094-2dc0-4541-ab70-7f0589b02177\" xlink:show=\"new\" xlink:title=\"psysml:e00f8094-2dc0-4541-ab70-7f0589b02177\" xlink:type=\"simple\"><rect fill=\"#FFFFFF\" height=\"45.9375\" id=\"E3\" style=\"stroke: #383838; stroke-width: 1.5;\" width=\"70\" x=\"318\" y=\"122\"/><text fill=\"#000000\" font-family=\"sans-serif\" font-size=\"12\" font-style=\"italic\" lengthAdjust=\"spacingAndGlyphs\" textLength=\"68\" x=\"319\" y=\"138.1387\">«part  def»</text><text fill=\"#000000\" font-family=\"sans-serif\" font-size=\"12\" lengthAdjust=\"spacingAndGlyphs\" textLength=\"45\" x=\"330.5\" y=\"152.1074\">Vehicle</text><line style=\"stroke: #383838; stroke-width: 1.5;\" x1=\"319\" x2=\"387\" y1=\"159.9375\" y2=\"159.9375\"/></a><!--MD5=[270fce915f116d4de14055a7c1d9a0f3]\n",
       "class E5--><a href=\"psysml:9c534076-d85a-4836-b001-6ecd6cbd12fb\" target=\"_top\" title=\"psysml:9c534076-d85a-4836-b001-6ecd6cbd12fb\" xlink:actuate=\"onRequest\" xlink:href=\"psysml:9c534076-d85a-4836-b001-6ecd6cbd12fb\" xlink:show=\"new\" xlink:title=\"psysml:9c534076-d85a-4836-b001-6ecd6cbd12fb\" xlink:type=\"simple\"><rect fill=\"#FFFFFF\" height=\"45.9375\" id=\"E5\" rx=\"10\" ry=\"10\" style=\"stroke: #383838; stroke-width: 1.5;\" width=\"106\" x=\"72\" y=\"100\"/><text fill=\"#000000\" font-family=\"sans-serif\" font-size=\"12\" font-style=\"italic\" lengthAdjust=\"spacingAndGlyphs\" textLength=\"40\" x=\"105\" y=\"116.1387\">«part»</text><text fill=\"#000000\" font-family=\"sans-serif\" font-size=\"12\" lengthAdjust=\"spacingAndGlyphs\" textLength=\"96\" x=\"75\" y=\"130.1074\">vehicle: Vehicle</text><line style=\"stroke: #383838; stroke-width: 1.5;\" x1=\"73\" x2=\"177\" y1=\"137.9375\" y2=\"137.9375\"/></a><!--MD5=[f0cdf4548168e5211fb3a02bf679d63a]\n",
       "link E4 to E3--><a href=\"psysml:754d7efd-e1b6-49fa-9136-3270d64a1ac4\" target=\"_top\" title=\"psysml:754d7efd-e1b6-49fa-9136-3270d64a1ac4\" xlink:actuate=\"onRequest\" xlink:href=\"psysml:754d7efd-e1b6-49fa-9136-3270d64a1ac4\" xlink:show=\"new\" xlink:title=\"psysml:754d7efd-e1b6-49fa-9136-3270d64a1ac4\" xlink:type=\"simple\"><path d=\"M202.5512,175.6038 C203.614,175.5 204.6821,175.3944 205.7552,175.2869 C214.3394,174.4273 223.2381,173.4495 232.2475,172.3403 C250.2662,170.1219 268.7275,167.3775 286,164 C294.79,162.28 304.1,159.94 312.87,157.48 \" fill=\"none\" id=\"E4-&gt;E3\" style=\"stroke: #383838; stroke-width: 1.0; stroke-dasharray: 7.0,7.0;\"/><polygon fill=\"#383838\" points=\"317.68,156.11,307.9274,154.7364,312.8724,157.4836,310.1252,162.4286,317.68,156.11\" style=\"stroke: #383838; stroke-width: 1.0;\"/><text fill=\"#000000\" font-family=\"sans-serif\" font-size=\"13\" lengthAdjust=\"spacingAndGlyphs\" textLength=\"58\" x=\"227\" y=\"160.0669\">«import»</text></a><!--MD5=[e9be52314489bd878ff4c7144b63c9e1]\n",
       "link E5 to E3--><a href=\"psysml:35d55ec3-6fe4-4032-923f-7a8654029377\" target=\"_top\" title=\"psysml:35d55ec3-6fe4-4032-923f-7a8654029377\" xlink:actuate=\"onRequest\" xlink:href=\"psysml:35d55ec3-6fe4-4032-923f-7a8654029377\" xlink:show=\"new\" xlink:title=\"psysml:35d55ec3-6fe4-4032-923f-7a8654029377\" xlink:type=\"simple\"><path d=\"M178.13,128.07 C213.9,131.56 261.27,136.17 297.52,139.7 \" fill=\"none\" id=\"E5-&gt;E3\" style=\"stroke: #383838; stroke-width: 1.0;\"/><polygon fill=\"#FFFFFF\" points=\"317.68,141.66,298.0937,146.7959,299.4432,132.8611,317.68,141.66\" style=\"stroke: #383838; stroke-width: 1.0;\"/><ellipse cx=\"292.6131\" cy=\"144.2558\" fill=\"#383838\" rx=\"2\" ry=\"2\" style=\"stroke: #383838; stroke-width: 1.0;\"/><ellipse cx=\"293.577\" cy=\"134.3024\" fill=\"#383838\" rx=\"2\" ry=\"2\" style=\"stroke: #383838; stroke-width: 1.0;\"/></a><!--MD5=[0497677833467cb9a6634ddabfd6a207]\n",
       "@startuml\r\n",
       "left to right direction\r\n",
       "skinparam monochrome true\r\n",
       "skinparam classbackgroundcolor white\r\n",
       "skinparam shadowing false\r\n",
       "skinparam wrapWidth 300\r\n",
       "hide circle\r\n",
       "\r\n",
       "package \"AliasImport\" as E1  [[psysml:a585b742-f262-46cd-b94a-c90c9e84789e ]]  {\r\n",
       "package \"Definitions\" as E2  [[psysml:336f27c4-53da-4ebc-95bd-6f6303678a10 ]]  {\r\n",
       "comp def \"Vehicle\" as E3  <<(T,blue) part  def>> [[psysml:e00f8094-2dc0-4541-ab70-7f0589b02177 ]] {\r\n",
       "}\r\n",
       "}\r\n",
       "package \"Usages\" as E4  [[psysml:1c99181b-1c33-4a44-b1a9-f0fa19d834f2 ]]  {\r\n",
       "comp usage \"vehicle: Vehicle \" as E5  <<(T,blue) part>> [[psysml:9c534076-d85a-4836-b001-6ecd6cbd12fb ]] {\r\n",
       "}\r\n",
       "}\r\n",
       "}\r\n",
       "E4 ..> E3 [[psysml:754d7efd-e1b6-49fa-9136-3270d64a1ac4 ]] : <<import>>\r\n",
       "E5 - -:|> E3 [[psysml:35d55ec3-6fe4-4032-923f-7a8654029377 ]] \r\n",
       "@enduml\r\n",
       "\n",
       "PlantUML version 1.2020.13(Sat Jun 13 12:26:38 UTC 2020)\n",
       "(EPL source distribution)\n",
       "Java Runtime: OpenJDK Runtime Environment\n",
       "JVM: OpenJDK 64-Bit Server VM\n",
       "Default Encoding: UTF-8\n",
       "Language: en\n",
       "Country: null\n",
       "--></g></svg>"
      ]
     },
     "execution_count": 16,
     "metadata": {},
     "output_type": "execute_result"
    }
   ],
   "source": [
    "%viz --style=\"LR\" --view=\"Default\" \"AliasImport\""
   ]
  },
  {
   "cell_type": "code",
   "execution_count": 17,
   "id": "ea9c8cc7",
   "metadata": {
    "execution": {
     "iopub.execute_input": "2022-03-21T07:53:02.231541Z",
     "iopub.status.busy": "2022-03-21T07:53:02.231082Z",
     "iopub.status.idle": "2022-03-21T07:53:02.265630Z",
     "shell.execute_reply": "2022-03-21T07:53:02.265247Z"
    }
   },
   "outputs": [
    {
     "data": {
      "image/svg+xml": [
       "<?xml version=\"1.0\" encoding=\"UTF-8\" standalone=\"no\"?><svg xmlns=\"http://www.w3.org/2000/svg\" xmlns:xlink=\"http://www.w3.org/1999/xlink\" contentScriptType=\"application/ecmascript\" contentStyleType=\"text/css\" height=\"233px\" preserveAspectRatio=\"none\" style=\"width:450px;height:233px;\" version=\"1.1\" viewBox=\"0 0 450 233\" width=\"450px\" zoomAndPan=\"magnify\"><defs/><g><!--MD5=[fbc87193dbaf4d95561dea2c320d4a47]\n",
       "cluster E1--><a href=\"psysml:a585b742-f262-46cd-b94a-c90c9e84789e\" target=\"_top\" title=\"psysml:a585b742-f262-46cd-b94a-c90c9e84789e\" xlink:actuate=\"onRequest\" xlink:href=\"psysml:a585b742-f262-46cd-b94a-c90c9e84789e\" xlink:show=\"new\" xlink:title=\"psysml:a585b742-f262-46cd-b94a-c90c9e84789e\" xlink:type=\"simple\"><polygon fill=\"#FFFFFF\" points=\"16,6,97,6,104,28.2969,428,28.2969,428,221,16,221,16,6\" style=\"stroke: #000000; stroke-width: 1.5;\"/><line style=\"stroke: #000000; stroke-width: 1.5;\" x1=\"16\" x2=\"104\" y1=\"28.2969\" y2=\"28.2969\"/><text fill=\"#000000\" font-family=\"sans-serif\" font-size=\"14\" font-weight=\"bold\" lengthAdjust=\"spacingAndGlyphs\" textLength=\"75\" x=\"20\" y=\"20.9951\">AliasImport</text></a><!--MD5=[e4f7fae6ed58524ba242bb0b0d3be6b7]\n",
       "cluster E2--><a href=\"psysml:336f27c4-53da-4ebc-95bd-6f6303678a10\" target=\"_top\" title=\"psysml:336f27c4-53da-4ebc-95bd-6f6303678a10\" xlink:actuate=\"onRequest\" xlink:href=\"psysml:336f27c4-53da-4ebc-95bd-6f6303678a10\" xlink:show=\"new\" xlink:title=\"psysml:336f27c4-53da-4ebc-95bd-6f6303678a10\" xlink:type=\"simple\"><polygon fill=\"#FFFFFF\" points=\"302,87,381,87,388,109.2969,404,109.2969,404,184,302,184,302,87\" style=\"stroke: #000000; stroke-width: 1.5;\"/><line style=\"stroke: #000000; stroke-width: 1.5;\" x1=\"302\" x2=\"388\" y1=\"109.2969\" y2=\"109.2969\"/><text fill=\"#000000\" font-family=\"sans-serif\" font-size=\"14\" font-weight=\"bold\" lengthAdjust=\"spacingAndGlyphs\" textLength=\"73\" x=\"306\" y=\"101.9951\">Definitions</text></a><!--MD5=[f6df4d0ebaf0b5dfb2ced0ae5af7c670]\n",
       "cluster E4--><a href=\"psysml:1c99181b-1c33-4a44-b1a9-f0fa19d834f2\" target=\"_top\" title=\"psysml:1c99181b-1c33-4a44-b1a9-f0fa19d834f2\" xlink:actuate=\"onRequest\" xlink:href=\"psysml:1c99181b-1c33-4a44-b1a9-f0fa19d834f2\" xlink:show=\"new\" xlink:title=\"psysml:1c99181b-1c33-4a44-b1a9-f0fa19d834f2\" xlink:type=\"simple\"><polygon fill=\"#FFFFFF\" points=\"48,57,106,57,113,79.2969,202,79.2969,202,189,48,189,48,57\" style=\"stroke: #000000; stroke-width: 1.5;\"/><line style=\"stroke: #000000; stroke-width: 1.5;\" x1=\"48\" x2=\"113\" y1=\"79.2969\" y2=\"79.2969\"/><text fill=\"#000000\" font-family=\"sans-serif\" font-size=\"14\" font-weight=\"bold\" lengthAdjust=\"spacingAndGlyphs\" textLength=\"52\" x=\"52\" y=\"71.9951\">Usages</text></a><!--MD5=[09b614a08d8cba4a07c9adeb5e0fee81]\n",
       "class E3--><a href=\"psysml:e00f8094-2dc0-4541-ab70-7f0589b02177\" target=\"_top\" title=\"psysml:e00f8094-2dc0-4541-ab70-7f0589b02177\" xlink:actuate=\"onRequest\" xlink:href=\"psysml:e00f8094-2dc0-4541-ab70-7f0589b02177\" xlink:show=\"new\" xlink:title=\"psysml:e00f8094-2dc0-4541-ab70-7f0589b02177\" xlink:type=\"simple\"><rect fill=\"#FFFFFF\" height=\"45.9375\" id=\"E3\" style=\"stroke: #383838; stroke-width: 1.5;\" width=\"70\" x=\"318\" y=\"122\"/><text fill=\"#000000\" font-family=\"sans-serif\" font-size=\"12\" font-style=\"italic\" lengthAdjust=\"spacingAndGlyphs\" textLength=\"68\" x=\"319\" y=\"138.1387\">«part  def»</text><text fill=\"#000000\" font-family=\"sans-serif\" font-size=\"12\" lengthAdjust=\"spacingAndGlyphs\" textLength=\"45\" x=\"330.5\" y=\"152.1074\">Vehicle</text><line style=\"stroke: #383838; stroke-width: 1.5;\" x1=\"319\" x2=\"387\" y1=\"159.9375\" y2=\"159.9375\"/></a><!--MD5=[270fce915f116d4de14055a7c1d9a0f3]\n",
       "class E5--><a href=\"psysml:9c534076-d85a-4836-b001-6ecd6cbd12fb\" target=\"_top\" title=\"psysml:9c534076-d85a-4836-b001-6ecd6cbd12fb\" xlink:actuate=\"onRequest\" xlink:href=\"psysml:9c534076-d85a-4836-b001-6ecd6cbd12fb\" xlink:show=\"new\" xlink:title=\"psysml:9c534076-d85a-4836-b001-6ecd6cbd12fb\" xlink:type=\"simple\"><rect fill=\"#FFFFFF\" height=\"45.9375\" id=\"E5\" rx=\"10\" ry=\"10\" style=\"stroke: #383838; stroke-width: 1.5;\" width=\"106\" x=\"72\" y=\"100\"/><text fill=\"#000000\" font-family=\"sans-serif\" font-size=\"12\" font-style=\"italic\" lengthAdjust=\"spacingAndGlyphs\" textLength=\"40\" x=\"105\" y=\"116.1387\">«part»</text><text fill=\"#000000\" font-family=\"sans-serif\" font-size=\"12\" lengthAdjust=\"spacingAndGlyphs\" textLength=\"96\" x=\"75\" y=\"130.1074\">vehicle: Vehicle</text><line style=\"stroke: #383838; stroke-width: 1.5;\" x1=\"73\" x2=\"177\" y1=\"137.9375\" y2=\"137.9375\"/></a><!--MD5=[f0cdf4548168e5211fb3a02bf679d63a]\n",
       "link E4 to E3--><a href=\"psysml:754d7efd-e1b6-49fa-9136-3270d64a1ac4\" target=\"_top\" title=\"psysml:754d7efd-e1b6-49fa-9136-3270d64a1ac4\" xlink:actuate=\"onRequest\" xlink:href=\"psysml:754d7efd-e1b6-49fa-9136-3270d64a1ac4\" xlink:show=\"new\" xlink:title=\"psysml:754d7efd-e1b6-49fa-9136-3270d64a1ac4\" xlink:type=\"simple\"><path d=\"M202.5512,175.6038 C203.614,175.5 204.6821,175.3944 205.7552,175.2869 C214.3394,174.4273 223.2381,173.4495 232.2475,172.3403 C250.2662,170.1219 268.7275,167.3775 286,164 C294.79,162.28 304.1,159.94 312.87,157.48 \" fill=\"none\" id=\"E4-&gt;E3\" style=\"stroke: #383838; stroke-width: 1.0; stroke-dasharray: 7.0,7.0;\"/><polygon fill=\"#383838\" points=\"317.68,156.11,307.9274,154.7364,312.8724,157.4836,310.1252,162.4286,317.68,156.11\" style=\"stroke: #383838; stroke-width: 1.0;\"/><text fill=\"#000000\" font-family=\"sans-serif\" font-size=\"13\" lengthAdjust=\"spacingAndGlyphs\" textLength=\"58\" x=\"227\" y=\"160.0669\">«import»</text></a><!--MD5=[e9be52314489bd878ff4c7144b63c9e1]\n",
       "link E5 to E3--><a href=\"psysml:35d55ec3-6fe4-4032-923f-7a8654029377\" target=\"_top\" title=\"psysml:35d55ec3-6fe4-4032-923f-7a8654029377\" xlink:actuate=\"onRequest\" xlink:href=\"psysml:35d55ec3-6fe4-4032-923f-7a8654029377\" xlink:show=\"new\" xlink:title=\"psysml:35d55ec3-6fe4-4032-923f-7a8654029377\" xlink:type=\"simple\"><path d=\"M178.13,128.07 C213.9,131.56 261.27,136.17 297.52,139.7 \" fill=\"none\" id=\"E5-&gt;E3\" style=\"stroke: #383838; stroke-width: 1.0;\"/><polygon fill=\"#FFFFFF\" points=\"317.68,141.66,298.0937,146.7959,299.4432,132.8611,317.68,141.66\" style=\"stroke: #383838; stroke-width: 1.0;\"/><ellipse cx=\"292.6131\" cy=\"144.2558\" fill=\"#383838\" rx=\"2\" ry=\"2\" style=\"stroke: #383838; stroke-width: 1.0;\"/><ellipse cx=\"293.577\" cy=\"134.3024\" fill=\"#383838\" rx=\"2\" ry=\"2\" style=\"stroke: #383838; stroke-width: 1.0;\"/></a><!--MD5=[0497677833467cb9a6634ddabfd6a207]\n",
       "@startuml\r\n",
       "left to right direction\r\n",
       "skinparam monochrome true\r\n",
       "skinparam classbackgroundcolor white\r\n",
       "skinparam shadowing false\r\n",
       "skinparam wrapWidth 300\r\n",
       "hide circle\r\n",
       "\r\n",
       "package \"AliasImport\" as E1  [[psysml:a585b742-f262-46cd-b94a-c90c9e84789e ]]  {\r\n",
       "package \"Definitions\" as E2  [[psysml:336f27c4-53da-4ebc-95bd-6f6303678a10 ]]  {\r\n",
       "comp def \"Vehicle\" as E3  <<(T,blue) part  def>> [[psysml:e00f8094-2dc0-4541-ab70-7f0589b02177 ]] {\r\n",
       "}\r\n",
       "}\r\n",
       "package \"Usages\" as E4  [[psysml:1c99181b-1c33-4a44-b1a9-f0fa19d834f2 ]]  {\r\n",
       "comp usage \"vehicle: Vehicle \" as E5  <<(T,blue) part>> [[psysml:9c534076-d85a-4836-b001-6ecd6cbd12fb ]] {\r\n",
       "}\r\n",
       "}\r\n",
       "}\r\n",
       "E4 ..> E3 [[psysml:754d7efd-e1b6-49fa-9136-3270d64a1ac4 ]] : <<import>>\r\n",
       "E5 - -:|> E3 [[psysml:35d55ec3-6fe4-4032-923f-7a8654029377 ]] \r\n",
       "@enduml\r\n",
       "\n",
       "PlantUML version 1.2020.13(Sat Jun 13 12:26:38 UTC 2020)\n",
       "(EPL source distribution)\n",
       "Java Runtime: OpenJDK Runtime Environment\n",
       "JVM: OpenJDK 64-Bit Server VM\n",
       "Default Encoding: UTF-8\n",
       "Language: en\n",
       "Country: null\n",
       "--></g></svg>"
      ]
     },
     "execution_count": 17,
     "metadata": {},
     "output_type": "execute_result"
    }
   ],
   "source": [
    "%viz --style=\"LR\" --view=\"Tree\" \"AliasImport\""
   ]
  },
  {
   "cell_type": "code",
   "execution_count": 18,
   "id": "c1fd8b53",
   "metadata": {
    "execution": {
     "iopub.execute_input": "2022-03-21T07:53:02.315362Z",
     "iopub.status.busy": "2022-03-21T07:53:02.314952Z",
     "iopub.status.idle": "2022-03-21T07:53:02.320893Z",
     "shell.execute_reply": "2022-03-21T07:53:02.321217Z"
    }
   },
   "outputs": [
    {
     "data": {
      "image/svg+xml": [
       "<?xml version=\"1.0\" encoding=\"UTF-8\" standalone=\"no\"?><svg xmlns=\"http://www.w3.org/2000/svg\" xmlns:xlink=\"http://www.w3.org/1999/xlink\" contentScriptType=\"application/ecmascript\" contentStyleType=\"text/css\" height=\"12px\" preserveAspectRatio=\"none\" style=\"width:12px;height:12px;\" version=\"1.1\" viewBox=\"0 0 12 12\" width=\"12px\" zoomAndPan=\"magnify\"><defs/><g><!--MD5=[19d285c9d72a204eba4e2cd117d745e8]\n",
       "@startuml\r\n",
       "left to right direction\r\n",
       "skinparam monochrome true\r\n",
       "skinparam classbackgroundcolor white\r\n",
       "skinparam shadowing false\r\n",
       "skinparam wrapWidth 300\r\n",
       "hide circle\r\n",
       "\r\n",
       "@enduml\r\n",
       "\n",
       "PlantUML version 1.2020.13(Sat Jun 13 12:26:38 UTC 2020)\n",
       "(EPL source distribution)\n",
       "Java Runtime: OpenJDK Runtime Environment\n",
       "JVM: OpenJDK 64-Bit Server VM\n",
       "Default Encoding: UTF-8\n",
       "Language: en\n",
       "Country: null\n",
       "--></g></svg>"
      ]
     },
     "execution_count": 18,
     "metadata": {},
     "output_type": "execute_result"
    }
   ],
   "source": [
    "%viz --style=\"LR\" --view=\"State\" \"AliasImport\""
   ]
  },
  {
   "cell_type": "code",
   "execution_count": 19,
   "id": "4b70ac71",
   "metadata": {
    "execution": {
     "iopub.execute_input": "2022-03-21T07:53:02.371077Z",
     "iopub.status.busy": "2022-03-21T07:53:02.370657Z",
     "iopub.status.idle": "2022-03-21T07:53:02.406030Z",
     "shell.execute_reply": "2022-03-21T07:53:02.406332Z"
    }
   },
   "outputs": [
    {
     "data": {
      "image/svg+xml": [
       "<?xml version=\"1.0\" encoding=\"UTF-8\" standalone=\"no\"?><svg xmlns=\"http://www.w3.org/2000/svg\" xmlns:xlink=\"http://www.w3.org/1999/xlink\" contentScriptType=\"application/ecmascript\" contentStyleType=\"text/css\" height=\"258px\" preserveAspectRatio=\"none\" style=\"width:456px;height:258px;\" version=\"1.1\" viewBox=\"0 0 456 258\" width=\"456px\" zoomAndPan=\"magnify\"><defs/><g><!--MD5=[fbc87193dbaf4d95561dea2c320d4a47]\n",
       "cluster E1--><a href=\"psysml:a585b742-f262-46cd-b94a-c90c9e84789e\" target=\"_top\" title=\"psysml:a585b742-f262-46cd-b94a-c90c9e84789e\" xlink:actuate=\"onRequest\" xlink:href=\"psysml:a585b742-f262-46cd-b94a-c90c9e84789e\" xlink:show=\"new\" xlink:title=\"psysml:a585b742-f262-46cd-b94a-c90c9e84789e\" xlink:type=\"simple\"><polygon fill=\"#FFFFFF\" points=\"16,6,97,6,104,28.2969,434,28.2969,434,246,16,246,16,6\" style=\"stroke: #000000; stroke-width: 1.5;\"/><line style=\"stroke: #000000; stroke-width: 1.5;\" x1=\"16\" x2=\"104\" y1=\"28.2969\" y2=\"28.2969\"/><text fill=\"#000000\" font-family=\"sans-serif\" font-size=\"14\" font-weight=\"bold\" lengthAdjust=\"spacingAndGlyphs\" textLength=\"75\" x=\"20\" y=\"20.9951\">AliasImport</text></a><!--MD5=[e4f7fae6ed58524ba242bb0b0d3be6b7]\n",
       "cluster E2--><a href=\"psysml:336f27c4-53da-4ebc-95bd-6f6303678a10\" target=\"_top\" title=\"psysml:336f27c4-53da-4ebc-95bd-6f6303678a10\" xlink:actuate=\"onRequest\" xlink:href=\"psysml:336f27c4-53da-4ebc-95bd-6f6303678a10\" xlink:show=\"new\" xlink:title=\"psysml:336f27c4-53da-4ebc-95bd-6f6303678a10\" xlink:type=\"simple\"><polygon fill=\"#FFFFFF\" points=\"303,49,382,49,389,71.2969,410,71.2969,410,222,303,222,303,49\" style=\"stroke: #000000; stroke-width: 1.5;\"/><line style=\"stroke: #000000; stroke-width: 1.5;\" x1=\"303\" x2=\"389\" y1=\"71.2969\" y2=\"71.2969\"/><text fill=\"#000000\" font-family=\"sans-serif\" font-size=\"14\" font-weight=\"bold\" lengthAdjust=\"spacingAndGlyphs\" textLength=\"73\" x=\"307\" y=\"63.9951\">Definitions</text></a><!--MD5=[de5ec2e2e8f62f467e546659f5068c88]\n",
       "cluster E5--><a href=\"psysml:1c99181b-1c33-4a44-b1a9-f0fa19d834f2\" target=\"_top\" title=\"psysml:1c99181b-1c33-4a44-b1a9-f0fa19d834f2\" xlink:actuate=\"onRequest\" xlink:href=\"psysml:1c99181b-1c33-4a44-b1a9-f0fa19d834f2\" xlink:show=\"new\" xlink:title=\"psysml:1c99181b-1c33-4a44-b1a9-f0fa19d834f2\" xlink:type=\"simple\"><polygon fill=\"#FFFFFF\" points=\"48,66,106,66,113,88.2969,203,88.2969,203,192,48,192,48,66\" style=\"stroke: #000000; stroke-width: 1.5;\"/><line style=\"stroke: #000000; stroke-width: 1.5;\" x1=\"48\" x2=\"113\" y1=\"88.2969\" y2=\"88.2969\"/><text fill=\"#000000\" font-family=\"sans-serif\" font-size=\"14\" font-weight=\"bold\" lengthAdjust=\"spacingAndGlyphs\" textLength=\"52\" x=\"52\" y=\"80.9951\">Usages</text></a><g id=\"E1.E2.E3\"><a href=\"psysml:e00f8094-2dc0-4541-ab70-7f0589b02177\" target=\"_top\" title=\"psysml:e00f8094-2dc0-4541-ab70-7f0589b02177\" xlink:actuate=\"onRequest\" xlink:href=\"psysml:e00f8094-2dc0-4541-ab70-7f0589b02177\" xlink:show=\"new\" xlink:title=\"psysml:e00f8094-2dc0-4541-ab70-7f0589b02177\" xlink:type=\"simple\"><rect fill=\"#FFFFFF\" height=\"42.9375\" id=\"E3\" style=\"stroke: #383838; stroke-width: 1.5;\" width=\"75\" x=\"319\" y=\"84.5\"/><rect fill=\"#F8F8F8\" height=\"37.9375\" style=\"stroke: #383838; stroke-width: 1.5;\" width=\"75\" x=\"319\" y=\"84.5\"/><text fill=\"#000000\" font-family=\"sans-serif\" font-size=\"12\" font-style=\"italic\" lengthAdjust=\"spacingAndGlyphs\" textLength=\"68\" x=\"322.5\" y=\"100.6387\">«part  def»</text><text fill=\"#000000\" font-family=\"sans-serif\" font-size=\"12\" lengthAdjust=\"spacingAndGlyphs\" textLength=\"45\" x=\"334\" y=\"114.6074\">Vehicle</text></a></g><g id=\"E1.E2.E4\"><a href=\"psysml:e00f8094-2dc0-4541-ab70-7f0589b02177\" target=\"_top\" title=\"psysml:e00f8094-2dc0-4541-ab70-7f0589b02177\" xlink:actuate=\"onRequest\" xlink:href=\"psysml:e00f8094-2dc0-4541-ab70-7f0589b02177\" xlink:show=\"new\" xlink:title=\"psysml:e00f8094-2dc0-4541-ab70-7f0589b02177\" xlink:type=\"simple\"><rect fill=\"#FFFFFF\" height=\"42.9375\" id=\"E4\" style=\"stroke: #383838; stroke-width: 1.5;\" width=\"75\" x=\"319\" y=\"162.5\"/><rect fill=\"#F8F8F8\" height=\"37.9375\" style=\"stroke: #383838; stroke-width: 1.5;\" width=\"75\" x=\"319\" y=\"162.5\"/><text fill=\"#000000\" font-family=\"sans-serif\" font-size=\"12\" font-style=\"italic\" lengthAdjust=\"spacingAndGlyphs\" textLength=\"68\" x=\"322.5\" y=\"178.6387\">«part  def»</text><text fill=\"#000000\" font-family=\"sans-serif\" font-size=\"12\" lengthAdjust=\"spacingAndGlyphs\" textLength=\"45\" x=\"334\" y=\"192.6074\">Vehicle</text></a></g><g id=\"E1.E5.E6\"><a href=\"psysml:9c534076-d85a-4836-b001-6ecd6cbd12fb\" target=\"_top\" title=\"psysml:9c534076-d85a-4836-b001-6ecd6cbd12fb\" xlink:actuate=\"onRequest\" xlink:href=\"psysml:9c534076-d85a-4836-b001-6ecd6cbd12fb\" xlink:show=\"new\" xlink:title=\"psysml:9c534076-d85a-4836-b001-6ecd6cbd12fb\" xlink:type=\"simple\"><rect fill=\"#FFFFFF\" height=\"40\" id=\"E6\" rx=\"10\" ry=\"10\" style=\"stroke: #383838; stroke-width: 1.5;\" width=\"107\" x=\"72\" y=\"109\"/><rect fill=\"#F8F8F8\" height=\"23.9688\" rx=\"10\" ry=\"10\" style=\"stroke: #F8F8F8; stroke-width: 1.5;\" width=\"107\" x=\"72\" y=\"109\"/><rect fill=\"#F8F8F8\" height=\"10\" style=\"stroke: #F8F8F8; stroke-width: 1.5;\" width=\"107\" x=\"72\" y=\"122.9688\"/><rect fill=\"none\" height=\"40\" id=\"E6\" rx=\"10\" ry=\"10\" style=\"stroke: #383838; stroke-width: 1.5;\" width=\"107\" x=\"72\" y=\"109\"/><text fill=\"#000000\" font-family=\"sans-serif\" font-size=\"12\" lengthAdjust=\"spacingAndGlyphs\" textLength=\"96\" x=\"77.5\" y=\"125.1387\">vehicle: Vehicle</text></a></g><!--MD5=[1c62de2aa5b76f0fb657ff8443a1a700]\n",
       "link E5 to E4--><a href=\"psysml:754d7efd-e1b6-49fa-9136-3270d64a1ac4\" target=\"_top\" title=\"psysml:754d7efd-e1b6-49fa-9136-3270d64a1ac4\" xlink:actuate=\"onRequest\" xlink:href=\"psysml:754d7efd-e1b6-49fa-9136-3270d64a1ac4\" xlink:show=\"new\" xlink:title=\"psysml:754d7efd-e1b6-49fa-9136-3270d64a1ac4\" xlink:type=\"simple\"><path d=\"M203.0355,184 C203.6391,184 204.2442,184 204.8508,184 C207.2773,184 209.7279,184 212.1977,184 C217.1372,184 222.1533,184 227.2056,184 C237.3104,184 247.5607,184 257.6355,184 C277.785,184 297.2325,184 313.41,184 \" fill=\"none\" id=\"E5-&gt;E4\" style=\"stroke: #383838; stroke-width: 1.0; stroke-dasharray: 7.0,7.0;\"/><polygon fill=\"#383838\" points=\"318.74,184,309.74,180,313.74,184,309.74,188,318.74,184\" style=\"stroke: #383838; stroke-width: 1.0;\"/><text fill=\"#000000\" font-family=\"sans-serif\" font-size=\"13\" lengthAdjust=\"spacingAndGlyphs\" textLength=\"58\" x=\"228\" y=\"180.0669\">«import»</text></a><!--MD5=[67fd0150c2156b2e7c2408a89629a513]\n",
       "@startuml\r\n",
       "skinparam ranksep 10\r\n",
       "skinparam rectangle {\r\n",
       " backgroundColor<<block>> LightGreen\r\n",
       "}\r\n",
       "left to right direction\r\n",
       "skinparam monochrome true\r\n",
       "skinparam classbackgroundcolor white\r\n",
       "skinparam shadowing false\r\n",
       "skinparam wrapWidth 300\r\n",
       "hide circle\r\n",
       "\r\n",
       "package \"AliasImport\" as E1  [[psysml:a585b742-f262-46cd-b94a-c90c9e84789e ]]  {\r\n",
       "package \"Definitions\" as E2  [[psysml:336f27c4-53da-4ebc-95bd-6f6303678a10 ]]  {\r\n",
       "rec def \"Vehicle\" as E3  <<(T,blue) part  def>> [[psysml:e00f8094-2dc0-4541-ab70-7f0589b02177 ]] {\r\n",
       "}\r\n",
       "rec def \"Vehicle\" as E4  <<(T,blue) part  def>> [[psysml:e00f8094-2dc0-4541-ab70-7f0589b02177 ]] {\r\n",
       "}\r\n",
       "}\r\n",
       "package \"Usages\" as E5  [[psysml:1c99181b-1c33-4a44-b1a9-f0fa19d834f2 ]]  {\r\n",
       "rec usage \"vehicle: Vehicle\" as E6  [[psysml:9c534076-d85a-4836-b001-6ecd6cbd12fb ]] {\r\n",
       "}\r\n",
       "}\r\n",
       "}\r\n",
       "E5 ..> E4 [[psysml:754d7efd-e1b6-49fa-9136-3270d64a1ac4 ]] : <<import>>\r\n",
       "@enduml\r\n",
       "\n",
       "PlantUML version 1.2020.13(Sat Jun 13 12:26:38 UTC 2020)\n",
       "(EPL source distribution)\n",
       "Java Runtime: OpenJDK Runtime Environment\n",
       "JVM: OpenJDK 64-Bit Server VM\n",
       "Default Encoding: UTF-8\n",
       "Language: en\n",
       "Country: null\n",
       "--></g></svg>"
      ]
     },
     "execution_count": 19,
     "metadata": {},
     "output_type": "execute_result"
    }
   ],
   "source": [
    "%viz --style=\"LR\" --view=\"Interconnection\" \"AliasImport\""
   ]
  },
  {
   "cell_type": "code",
   "execution_count": 20,
   "id": "1ac77c07",
   "metadata": {
    "execution": {
     "iopub.execute_input": "2022-03-21T07:53:02.456503Z",
     "iopub.status.busy": "2022-03-21T07:53:02.456092Z",
     "iopub.status.idle": "2022-03-21T07:53:02.462321Z",
     "shell.execute_reply": "2022-03-21T07:53:02.462637Z"
    }
   },
   "outputs": [
    {
     "data": {
      "image/svg+xml": [
       "<?xml version=\"1.0\" encoding=\"UTF-8\" standalone=\"no\"?><svg xmlns=\"http://www.w3.org/2000/svg\" xmlns:xlink=\"http://www.w3.org/1999/xlink\" contentScriptType=\"application/ecmascript\" contentStyleType=\"text/css\" height=\"12px\" preserveAspectRatio=\"none\" style=\"width:12px;height:12px;\" version=\"1.1\" viewBox=\"0 0 12 12\" width=\"12px\" zoomAndPan=\"magnify\"><defs/><g><!--MD5=[7aeb398939421629f6affaa4a1a7b125]\n",
       "@startuml\r\n",
       "skinparam ranksep 8\r\n",
       "left to right direction\r\n",
       "skinparam monochrome true\r\n",
       "skinparam classbackgroundcolor white\r\n",
       "skinparam shadowing false\r\n",
       "skinparam wrapWidth 300\r\n",
       "hide circle\r\n",
       "\r\n",
       "@enduml\r\n",
       "\n",
       "PlantUML version 1.2020.13(Sat Jun 13 12:26:38 UTC 2020)\n",
       "(EPL source distribution)\n",
       "Java Runtime: OpenJDK Runtime Environment\n",
       "JVM: OpenJDK 64-Bit Server VM\n",
       "Default Encoding: UTF-8\n",
       "Language: en\n",
       "Country: null\n",
       "--></g></svg>"
      ]
     },
     "execution_count": 20,
     "metadata": {},
     "output_type": "execute_result"
    }
   ],
   "source": [
    "%viz --style=\"LR\" --view=\"Action\" \"AliasImport\""
   ]
  },
  {
   "cell_type": "code",
   "execution_count": 21,
   "id": "2e6e38ce",
   "metadata": {
    "execution": {
     "iopub.execute_input": "2022-03-21T07:53:02.513143Z",
     "iopub.status.busy": "2022-03-21T07:53:02.512667Z",
     "iopub.status.idle": "2022-03-21T07:53:02.518495Z",
     "shell.execute_reply": "2022-03-21T07:53:02.518813Z"
    }
   },
   "outputs": [
    {
     "data": {
      "image/svg+xml": [
       "<?xml version=\"1.0\" encoding=\"UTF-8\" standalone=\"no\"?><svg xmlns=\"http://www.w3.org/2000/svg\" xmlns:xlink=\"http://www.w3.org/1999/xlink\" contentScriptType=\"application/ecmascript\" contentStyleType=\"text/css\" height=\"12px\" preserveAspectRatio=\"none\" style=\"width:12px;height:12px;\" version=\"1.1\" viewBox=\"0 0 12 12\" width=\"12px\" zoomAndPan=\"magnify\"><defs/><g><!--MD5=[238c11ea2002f03115ad6b49a457d50e]\n",
       "@startuml\r\n",
       "skinparam roundcorner 20\r\n",
       "skinparam BoxPadding 20\r\n",
       "skinparam SequenceBoxBackgroundColor #white\r\n",
       "skinparam style strictuml\r\n",
       "skinparam maxMessageSize 100\r\n",
       "left to right direction\r\n",
       "skinparam monochrome true\r\n",
       "skinparam classbackgroundcolor white\r\n",
       "skinparam shadowing false\r\n",
       "skinparam wrapWidth 300\r\n",
       "hide circle\r\n",
       "\r\n",
       "@enduml\r\n",
       "\n",
       "PlantUML version 1.2020.13(Sat Jun 13 12:26:38 UTC 2020)\n",
       "(EPL source distribution)\n",
       "Java Runtime: OpenJDK Runtime Environment\n",
       "JVM: OpenJDK 64-Bit Server VM\n",
       "Default Encoding: UTF-8\n",
       "Language: en\n",
       "Country: null\n",
       "--></g></svg>"
      ]
     },
     "execution_count": 21,
     "metadata": {},
     "output_type": "execute_result"
    }
   ],
   "source": [
    "%viz --style=\"LR\" --view=\"Sequence\" \"AliasImport\""
   ]
  },
  {
   "cell_type": "code",
   "execution_count": 22,
   "id": "43f41dd7",
   "metadata": {
    "execution": {
     "iopub.execute_input": "2022-03-21T07:53:02.569119Z",
     "iopub.status.busy": "2022-03-21T07:53:02.568709Z",
     "iopub.status.idle": "2022-03-21T07:53:02.601642Z",
     "shell.execute_reply": "2022-03-21T07:53:02.601276Z"
    }
   },
   "outputs": [
    {
     "data": {
      "image/svg+xml": [
       "<?xml version=\"1.0\" encoding=\"UTF-8\" standalone=\"no\"?><svg xmlns=\"http://www.w3.org/2000/svg\" xmlns:xlink=\"http://www.w3.org/1999/xlink\" contentScriptType=\"application/ecmascript\" contentStyleType=\"text/css\" height=\"233px\" preserveAspectRatio=\"none\" style=\"width:450px;height:233px;\" version=\"1.1\" viewBox=\"0 0 450 233\" width=\"450px\" zoomAndPan=\"magnify\"><defs/><g><!--MD5=[fbc87193dbaf4d95561dea2c320d4a47]\n",
       "cluster E1--><a href=\"psysml:a585b742-f262-46cd-b94a-c90c9e84789e\" target=\"_top\" title=\"psysml:a585b742-f262-46cd-b94a-c90c9e84789e\" xlink:actuate=\"onRequest\" xlink:href=\"psysml:a585b742-f262-46cd-b94a-c90c9e84789e\" xlink:show=\"new\" xlink:title=\"psysml:a585b742-f262-46cd-b94a-c90c9e84789e\" xlink:type=\"simple\"><polygon fill=\"#FFFFFF\" points=\"16,6,97,6,104,28.2969,428,28.2969,428,221,16,221,16,6\" style=\"stroke: #000000; stroke-width: 1.5;\"/><line style=\"stroke: #000000; stroke-width: 1.5;\" x1=\"16\" x2=\"104\" y1=\"28.2969\" y2=\"28.2969\"/><text fill=\"#000000\" font-family=\"sans-serif\" font-size=\"14\" font-weight=\"bold\" lengthAdjust=\"spacingAndGlyphs\" textLength=\"75\" x=\"20\" y=\"20.9951\">AliasImport</text></a><!--MD5=[e4f7fae6ed58524ba242bb0b0d3be6b7]\n",
       "cluster E2--><a href=\"psysml:336f27c4-53da-4ebc-95bd-6f6303678a10\" target=\"_top\" title=\"psysml:336f27c4-53da-4ebc-95bd-6f6303678a10\" xlink:actuate=\"onRequest\" xlink:href=\"psysml:336f27c4-53da-4ebc-95bd-6f6303678a10\" xlink:show=\"new\" xlink:title=\"psysml:336f27c4-53da-4ebc-95bd-6f6303678a10\" xlink:type=\"simple\"><polygon fill=\"#FFFFFF\" points=\"302,87,381,87,388,109.2969,404,109.2969,404,184,302,184,302,87\" style=\"stroke: #000000; stroke-width: 1.5;\"/><line style=\"stroke: #000000; stroke-width: 1.5;\" x1=\"302\" x2=\"388\" y1=\"109.2969\" y2=\"109.2969\"/><text fill=\"#000000\" font-family=\"sans-serif\" font-size=\"14\" font-weight=\"bold\" lengthAdjust=\"spacingAndGlyphs\" textLength=\"73\" x=\"306\" y=\"101.9951\">Definitions</text></a><!--MD5=[f6df4d0ebaf0b5dfb2ced0ae5af7c670]\n",
       "cluster E4--><a href=\"psysml:1c99181b-1c33-4a44-b1a9-f0fa19d834f2\" target=\"_top\" title=\"psysml:1c99181b-1c33-4a44-b1a9-f0fa19d834f2\" xlink:actuate=\"onRequest\" xlink:href=\"psysml:1c99181b-1c33-4a44-b1a9-f0fa19d834f2\" xlink:show=\"new\" xlink:title=\"psysml:1c99181b-1c33-4a44-b1a9-f0fa19d834f2\" xlink:type=\"simple\"><polygon fill=\"#FFFFFF\" points=\"48,57,106,57,113,79.2969,202,79.2969,202,189,48,189,48,57\" style=\"stroke: #000000; stroke-width: 1.5;\"/><line style=\"stroke: #000000; stroke-width: 1.5;\" x1=\"48\" x2=\"113\" y1=\"79.2969\" y2=\"79.2969\"/><text fill=\"#000000\" font-family=\"sans-serif\" font-size=\"14\" font-weight=\"bold\" lengthAdjust=\"spacingAndGlyphs\" textLength=\"52\" x=\"52\" y=\"71.9951\">Usages</text></a><!--MD5=[09b614a08d8cba4a07c9adeb5e0fee81]\n",
       "class E3--><a href=\"psysml:e00f8094-2dc0-4541-ab70-7f0589b02177\" target=\"_top\" title=\"psysml:e00f8094-2dc0-4541-ab70-7f0589b02177\" xlink:actuate=\"onRequest\" xlink:href=\"psysml:e00f8094-2dc0-4541-ab70-7f0589b02177\" xlink:show=\"new\" xlink:title=\"psysml:e00f8094-2dc0-4541-ab70-7f0589b02177\" xlink:type=\"simple\"><rect fill=\"#FFFFFF\" height=\"45.9375\" id=\"E3\" style=\"stroke: #383838; stroke-width: 1.5;\" width=\"70\" x=\"318\" y=\"122\"/><text fill=\"#000000\" font-family=\"sans-serif\" font-size=\"12\" font-style=\"italic\" lengthAdjust=\"spacingAndGlyphs\" textLength=\"68\" x=\"319\" y=\"138.1387\">«part  def»</text><text fill=\"#000000\" font-family=\"sans-serif\" font-size=\"12\" lengthAdjust=\"spacingAndGlyphs\" textLength=\"45\" x=\"330.5\" y=\"152.1074\">Vehicle</text><line style=\"stroke: #383838; stroke-width: 1.5;\" x1=\"319\" x2=\"387\" y1=\"159.9375\" y2=\"159.9375\"/></a><!--MD5=[270fce915f116d4de14055a7c1d9a0f3]\n",
       "class E5--><a href=\"psysml:9c534076-d85a-4836-b001-6ecd6cbd12fb\" target=\"_top\" title=\"psysml:9c534076-d85a-4836-b001-6ecd6cbd12fb\" xlink:actuate=\"onRequest\" xlink:href=\"psysml:9c534076-d85a-4836-b001-6ecd6cbd12fb\" xlink:show=\"new\" xlink:title=\"psysml:9c534076-d85a-4836-b001-6ecd6cbd12fb\" xlink:type=\"simple\"><rect fill=\"#FFFFFF\" height=\"45.9375\" id=\"E5\" rx=\"10\" ry=\"10\" style=\"stroke: #383838; stroke-width: 1.5;\" width=\"106\" x=\"72\" y=\"100\"/><text fill=\"#000000\" font-family=\"sans-serif\" font-size=\"12\" font-style=\"italic\" lengthAdjust=\"spacingAndGlyphs\" textLength=\"40\" x=\"105\" y=\"116.1387\">«part»</text><text fill=\"#000000\" font-family=\"sans-serif\" font-size=\"12\" lengthAdjust=\"spacingAndGlyphs\" textLength=\"96\" x=\"75\" y=\"130.1074\">vehicle: Vehicle</text><line style=\"stroke: #383838; stroke-width: 1.5;\" x1=\"73\" x2=\"177\" y1=\"137.9375\" y2=\"137.9375\"/></a><!--MD5=[f0cdf4548168e5211fb3a02bf679d63a]\n",
       "link E4 to E3--><a href=\"psysml:754d7efd-e1b6-49fa-9136-3270d64a1ac4\" target=\"_top\" title=\"psysml:754d7efd-e1b6-49fa-9136-3270d64a1ac4\" xlink:actuate=\"onRequest\" xlink:href=\"psysml:754d7efd-e1b6-49fa-9136-3270d64a1ac4\" xlink:show=\"new\" xlink:title=\"psysml:754d7efd-e1b6-49fa-9136-3270d64a1ac4\" xlink:type=\"simple\"><path d=\"M202.5512,175.6038 C203.614,175.5 204.6821,175.3944 205.7552,175.2869 C214.3394,174.4273 223.2381,173.4495 232.2475,172.3403 C250.2662,170.1219 268.7275,167.3775 286,164 C294.79,162.28 304.1,159.94 312.87,157.48 \" fill=\"none\" id=\"E4-&gt;E3\" style=\"stroke: #383838; stroke-width: 1.0; stroke-dasharray: 7.0,7.0;\"/><polygon fill=\"#383838\" points=\"317.68,156.11,307.9274,154.7364,312.8724,157.4836,310.1252,162.4286,317.68,156.11\" style=\"stroke: #383838; stroke-width: 1.0;\"/><text fill=\"#000000\" font-family=\"sans-serif\" font-size=\"13\" lengthAdjust=\"spacingAndGlyphs\" textLength=\"58\" x=\"227\" y=\"160.0669\">«import»</text></a><!--MD5=[e9be52314489bd878ff4c7144b63c9e1]\n",
       "link E5 to E3--><a href=\"psysml:35d55ec3-6fe4-4032-923f-7a8654029377\" target=\"_top\" title=\"psysml:35d55ec3-6fe4-4032-923f-7a8654029377\" xlink:actuate=\"onRequest\" xlink:href=\"psysml:35d55ec3-6fe4-4032-923f-7a8654029377\" xlink:show=\"new\" xlink:title=\"psysml:35d55ec3-6fe4-4032-923f-7a8654029377\" xlink:type=\"simple\"><path d=\"M178.13,128.07 C213.9,131.56 261.27,136.17 297.52,139.7 \" fill=\"none\" id=\"E5-&gt;E3\" style=\"stroke: #383838; stroke-width: 1.0;\"/><polygon fill=\"#FFFFFF\" points=\"317.68,141.66,298.0937,146.7959,299.4432,132.8611,317.68,141.66\" style=\"stroke: #383838; stroke-width: 1.0;\"/><ellipse cx=\"292.6131\" cy=\"144.2558\" fill=\"#383838\" rx=\"2\" ry=\"2\" style=\"stroke: #383838; stroke-width: 1.0;\"/><ellipse cx=\"293.577\" cy=\"134.3024\" fill=\"#383838\" rx=\"2\" ry=\"2\" style=\"stroke: #383838; stroke-width: 1.0;\"/></a><!--MD5=[0497677833467cb9a6634ddabfd6a207]\n",
       "@startuml\r\n",
       "left to right direction\r\n",
       "skinparam monochrome true\r\n",
       "skinparam classbackgroundcolor white\r\n",
       "skinparam shadowing false\r\n",
       "skinparam wrapWidth 300\r\n",
       "hide circle\r\n",
       "\r\n",
       "package \"AliasImport\" as E1  [[psysml:a585b742-f262-46cd-b94a-c90c9e84789e ]]  {\r\n",
       "package \"Definitions\" as E2  [[psysml:336f27c4-53da-4ebc-95bd-6f6303678a10 ]]  {\r\n",
       "comp def \"Vehicle\" as E3  <<(T,blue) part  def>> [[psysml:e00f8094-2dc0-4541-ab70-7f0589b02177 ]] {\r\n",
       "}\r\n",
       "}\r\n",
       "package \"Usages\" as E4  [[psysml:1c99181b-1c33-4a44-b1a9-f0fa19d834f2 ]]  {\r\n",
       "comp usage \"vehicle: Vehicle \" as E5  <<(T,blue) part>> [[psysml:9c534076-d85a-4836-b001-6ecd6cbd12fb ]] {\r\n",
       "}\r\n",
       "}\r\n",
       "}\r\n",
       "E4 ..> E3 [[psysml:754d7efd-e1b6-49fa-9136-3270d64a1ac4 ]] : <<import>>\r\n",
       "E5 - -:|> E3 [[psysml:35d55ec3-6fe4-4032-923f-7a8654029377 ]] \r\n",
       "@enduml\r\n",
       "\n",
       "PlantUML version 1.2020.13(Sat Jun 13 12:26:38 UTC 2020)\n",
       "(EPL source distribution)\n",
       "Java Runtime: OpenJDK Runtime Environment\n",
       "JVM: OpenJDK 64-Bit Server VM\n",
       "Default Encoding: UTF-8\n",
       "Language: en\n",
       "Country: null\n",
       "--></g></svg>"
      ]
     },
     "execution_count": 22,
     "metadata": {},
     "output_type": "execute_result"
    }
   ],
   "source": [
    "%viz --style=\"LR\" --view=\"MIXED\" \"AliasImport\""
   ]
  },
  {
   "cell_type": "code",
   "execution_count": 23,
   "id": "e2eb8485",
   "metadata": {
    "execution": {
     "iopub.execute_input": "2022-03-21T07:53:02.651772Z",
     "iopub.status.busy": "2022-03-21T07:53:02.651161Z",
     "iopub.status.idle": "2022-03-21T07:53:02.683219Z",
     "shell.execute_reply": "2022-03-21T07:53:02.682826Z"
    }
   },
   "outputs": [
    {
     "data": {
      "image/svg+xml": [
       "<?xml version=\"1.0\" encoding=\"UTF-8\" standalone=\"no\"?><svg xmlns=\"http://www.w3.org/2000/svg\" xmlns:xlink=\"http://www.w3.org/1999/xlink\" contentScriptType=\"application/ecmascript\" contentStyleType=\"text/css\" height=\"360px\" preserveAspectRatio=\"none\" style=\"width:275px;height:360px;\" version=\"1.1\" viewBox=\"0 0 275 360\" width=\"275px\" zoomAndPan=\"magnify\"><defs><filter height=\"300%\" id=\"fy0e8ja2o4jeg\" width=\"300%\" x=\"-1\" y=\"-1\"><feGaussianBlur result=\"blurOut\" stdDeviation=\"2.0\"/><feColorMatrix in=\"blurOut\" result=\"blurOut2\" type=\"matrix\" values=\"0 0 0 0 0 0 0 0 0 0 0 0 0 0 0 0 0 0 .4 0\"/><feOffset dx=\"4.0\" dy=\"4.0\" in=\"blurOut2\" result=\"blurOut3\"/><feBlend in=\"SourceGraphic\" in2=\"blurOut3\" mode=\"normal\"/></filter></defs><g><!--MD5=[fbc87193dbaf4d95561dea2c320d4a47]\n",
       "cluster E1--><a href=\"psysml:a585b742-f262-46cd-b94a-c90c9e84789e\" target=\"_top\" title=\"psysml:a585b742-f262-46cd-b94a-c90c9e84789e\" xlink:actuate=\"onRequest\" xlink:href=\"psysml:a585b742-f262-46cd-b94a-c90c9e84789e\" xlink:show=\"new\" xlink:title=\"psysml:a585b742-f262-46cd-b94a-c90c9e84789e\" xlink:type=\"simple\"><polygon fill=\"#FFFFFF\" filter=\"url(#fy0e8ja2o4jeg)\" points=\"16,6,97,6,104,28.2969,253,28.2969,253,348,16,348,16,6\" style=\"stroke: #000000; stroke-width: 1.5;\"/><line style=\"stroke: #000000; stroke-width: 1.5;\" x1=\"16\" x2=\"104\" y1=\"28.2969\" y2=\"28.2969\"/><text fill=\"#000000\" font-family=\"sans-serif\" font-size=\"14\" font-weight=\"bold\" lengthAdjust=\"spacingAndGlyphs\" textLength=\"75\" x=\"20\" y=\"20.9951\">AliasImport</text></a><!--MD5=[e4f7fae6ed58524ba242bb0b0d3be6b7]\n",
       "cluster E2--><a href=\"psysml:336f27c4-53da-4ebc-95bd-6f6303678a10\" target=\"_top\" title=\"psysml:336f27c4-53da-4ebc-95bd-6f6303678a10\" xlink:actuate=\"onRequest\" xlink:href=\"psysml:336f27c4-53da-4ebc-95bd-6f6303678a10\" xlink:show=\"new\" xlink:title=\"psysml:336f27c4-53da-4ebc-95bd-6f6303678a10\" xlink:type=\"simple\"><polygon fill=\"#FFFFFF\" filter=\"url(#fy0e8ja2o4jeg)\" points=\"65,227,144,227,151,249.2969,167,249.2969,167,324,65,324,65,227\" style=\"stroke: #000000; stroke-width: 1.5;\"/><line style=\"stroke: #000000; stroke-width: 1.5;\" x1=\"65\" x2=\"151\" y1=\"249.2969\" y2=\"249.2969\"/><text fill=\"#000000\" font-family=\"sans-serif\" font-size=\"14\" font-weight=\"bold\" lengthAdjust=\"spacingAndGlyphs\" textLength=\"73\" x=\"69\" y=\"241.9951\">Definitions</text></a><!--MD5=[f6df4d0ebaf0b5dfb2ced0ae5af7c670]\n",
       "cluster E4--><a href=\"psysml:1c99181b-1c33-4a44-b1a9-f0fa19d834f2\" target=\"_top\" title=\"psysml:1c99181b-1c33-4a44-b1a9-f0fa19d834f2\" xlink:actuate=\"onRequest\" xlink:href=\"psysml:1c99181b-1c33-4a44-b1a9-f0fa19d834f2\" xlink:show=\"new\" xlink:title=\"psysml:1c99181b-1c33-4a44-b1a9-f0fa19d834f2\" xlink:type=\"simple\"><polygon fill=\"#FFFFFF\" filter=\"url(#fy0e8ja2o4jeg)\" points=\"48,57,106,57,113,79.2969,221,79.2969,221,170,48,170,48,57\" style=\"stroke: #000000; stroke-width: 1.5;\"/><line style=\"stroke: #000000; stroke-width: 1.5;\" x1=\"48\" x2=\"113\" y1=\"79.2969\" y2=\"79.2969\"/><text fill=\"#000000\" font-family=\"sans-serif\" font-size=\"14\" font-weight=\"bold\" lengthAdjust=\"spacingAndGlyphs\" textLength=\"52\" x=\"52\" y=\"71.9951\">Usages</text></a><!--MD5=[09b614a08d8cba4a07c9adeb5e0fee81]\n",
       "class E3--><a href=\"psysml:e00f8094-2dc0-4541-ab70-7f0589b02177\" target=\"_top\" title=\"psysml:e00f8094-2dc0-4541-ab70-7f0589b02177\" xlink:actuate=\"onRequest\" xlink:href=\"psysml:e00f8094-2dc0-4541-ab70-7f0589b02177\" xlink:show=\"new\" xlink:title=\"psysml:e00f8094-2dc0-4541-ab70-7f0589b02177\" xlink:type=\"simple\"><rect fill=\"#FEFECE\" filter=\"url(#fy0e8ja2o4jeg)\" height=\"45.9375\" id=\"E3\" style=\"stroke: #A80036; stroke-width: 1.5;\" width=\"70\" x=\"81\" y=\"262\"/><text fill=\"#000000\" font-family=\"sans-serif\" font-size=\"12\" font-style=\"italic\" lengthAdjust=\"spacingAndGlyphs\" textLength=\"68\" x=\"82\" y=\"278.1387\">«part  def»</text><text fill=\"#000000\" font-family=\"sans-serif\" font-size=\"12\" lengthAdjust=\"spacingAndGlyphs\" textLength=\"45\" x=\"93.5\" y=\"292.1074\">Vehicle</text><line style=\"stroke: #A80036; stroke-width: 1.5;\" x1=\"82\" x2=\"150\" y1=\"299.9375\" y2=\"299.9375\"/></a><!--MD5=[270fce915f116d4de14055a7c1d9a0f3]\n",
       "class E5--><a href=\"psysml:9c534076-d85a-4836-b001-6ecd6cbd12fb\" target=\"_top\" title=\"psysml:9c534076-d85a-4836-b001-6ecd6cbd12fb\" xlink:actuate=\"onRequest\" xlink:href=\"psysml:9c534076-d85a-4836-b001-6ecd6cbd12fb\" xlink:show=\"new\" xlink:title=\"psysml:9c534076-d85a-4836-b001-6ecd6cbd12fb\" xlink:type=\"simple\"><rect fill=\"#FEFECE\" filter=\"url(#fy0e8ja2o4jeg)\" height=\"45.9375\" id=\"E5\" rx=\"10\" ry=\"10\" style=\"stroke: #A80036; stroke-width: 1.5;\" width=\"106\" x=\"91\" y=\"100\"/><text fill=\"#000000\" font-family=\"sans-serif\" font-size=\"12\" font-style=\"italic\" lengthAdjust=\"spacingAndGlyphs\" textLength=\"40\" x=\"124\" y=\"116.1387\">«part»</text><text fill=\"#000000\" font-family=\"sans-serif\" font-size=\"12\" lengthAdjust=\"spacingAndGlyphs\" textLength=\"96\" x=\"94\" y=\"130.1074\">vehicle: Vehicle</text><line style=\"stroke: #A80036; stroke-width: 1.5;\" x1=\"92\" x2=\"196\" y1=\"137.9375\" y2=\"137.9375\"/></a><!--MD5=[f0cdf4548168e5211fb3a02bf679d63a]\n",
       "link E4 to E3--><a href=\"psysml:754d7efd-e1b6-49fa-9136-3270d64a1ac4\" target=\"_top\" title=\"psysml:754d7efd-e1b6-49fa-9136-3270d64a1ac4\" xlink:actuate=\"onRequest\" xlink:href=\"psysml:754d7efd-e1b6-49fa-9136-3270d64a1ac4\" xlink:show=\"new\" xlink:title=\"psysml:754d7efd-e1b6-49fa-9136-3270d64a1ac4\" xlink:type=\"simple\"><path d=\"M58.5005,170.0549 C58.5193,170.2001 58.5383,170.3454 58.5574,170.4908 C58.6338,171.0725 58.7124,171.6562 58.7932,172.2415 C58.9548,173.4122 59.1253,174.5898 59.3052,175.7725 C59.6651,178.1379 60.0625,180.5238 60.5014,182.9158 C62.2569,192.4838 64.675,202.15 68,211 C74.23,227.58 84.77,244.23 94.38,257.43 \" fill=\"none\" id=\"E4-&gt;E3\" style=\"stroke: #A80036; stroke-width: 1.0; stroke-dasharray: 7.0,7.0;\"/><polygon fill=\"#A80036\" points=\"97.6,261.77,95.4384,252.1613,94.616,257.758,89.0193,256.9357,97.6,261.77\" style=\"stroke: #A80036; stroke-width: 1.0;\"/><text fill=\"#000000\" font-family=\"sans-serif\" font-size=\"13\" lengthAdjust=\"spacingAndGlyphs\" textLength=\"58\" x=\"69\" y=\"207.0669\">«import»</text></a><!--MD5=[e9be52314489bd878ff4c7144b63c9e1]\n",
       "link E5 to E3--><a href=\"psysml:35d55ec3-6fe4-4032-923f-7a8654029377\" target=\"_top\" title=\"psysml:35d55ec3-6fe4-4032-923f-7a8654029377\" xlink:actuate=\"onRequest\" xlink:href=\"psysml:35d55ec3-6fe4-4032-923f-7a8654029377\" xlink:show=\"new\" xlink:title=\"psysml:35d55ec3-6fe4-4032-923f-7a8654029377\" xlink:type=\"simple\"><path d=\"M143.03,146.32 C142,163.98 139.95,189.21 136,211 C134.13,221.29 131.49,232.23 128.74,242.43 \" fill=\"none\" id=\"E5-&gt;E3\" style=\"stroke: #A80036; stroke-width: 1.0;\"/><polygon fill=\"#FFFFFF\" points=\"123.15,261.87,121.6727,241.6755,135.1276,245.544,123.15,261.87\" style=\"stroke: #A80036; stroke-width: 1.0;\"/><ellipse cx=\"125.1699\" cy=\"236.7501\" fill=\"#A80036\" rx=\"2\" ry=\"2\" style=\"stroke: #A80036; stroke-width: 1.0;\"/><ellipse cx=\"134.7805\" cy=\"239.5133\" fill=\"#A80036\" rx=\"2\" ry=\"2\" style=\"stroke: #A80036; stroke-width: 1.0;\"/></a><!--MD5=[23b21ad1744690ea49ff6ca2a687cff6]\n",
       "@startuml\r\n",
       "skinparam wrapWidth 300\r\n",
       "hide circle\r\n",
       "\r\n",
       "package \"AliasImport\" as E1  [[psysml:a585b742-f262-46cd-b94a-c90c9e84789e ]]  {\r\n",
       "package \"Definitions\" as E2  [[psysml:336f27c4-53da-4ebc-95bd-6f6303678a10 ]]  {\r\n",
       "comp def \"Vehicle\" as E3  <<(T,blue) part  def>> [[psysml:e00f8094-2dc0-4541-ab70-7f0589b02177 ]] {\r\n",
       "}\r\n",
       "}\r\n",
       "package \"Usages\" as E4  [[psysml:1c99181b-1c33-4a44-b1a9-f0fa19d834f2 ]]  {\r\n",
       "comp usage \"vehicle: Vehicle \" as E5  <<(T,blue) part>> [[psysml:9c534076-d85a-4836-b001-6ecd6cbd12fb ]] {\r\n",
       "}\r\n",
       "}\r\n",
       "}\r\n",
       "E4 ..> E3 [[psysml:754d7efd-e1b6-49fa-9136-3270d64a1ac4 ]] : <<import>>\r\n",
       "E5 - -:|> E3 [[psysml:35d55ec3-6fe4-4032-923f-7a8654029377 ]] \r\n",
       "@enduml\r\n",
       "\n",
       "PlantUML version 1.2020.13(Sat Jun 13 12:26:38 UTC 2020)\n",
       "(EPL source distribution)\n",
       "Java Runtime: OpenJDK Runtime Environment\n",
       "JVM: OpenJDK 64-Bit Server VM\n",
       "Default Encoding: UTF-8\n",
       "Language: en\n",
       "Country: null\n",
       "--></g></svg>"
      ]
     },
     "execution_count": 23,
     "metadata": {},
     "output_type": "execute_result"
    }
   ],
   "source": [
    "%viz --style=\"STDCOLOR\" --view=\"Default\" \"AliasImport\""
   ]
  },
  {
   "cell_type": "code",
   "execution_count": 24,
   "id": "cb86acdf",
   "metadata": {
    "execution": {
     "iopub.execute_input": "2022-03-21T07:53:02.733193Z",
     "iopub.status.busy": "2022-03-21T07:53:02.732579Z",
     "iopub.status.idle": "2022-03-21T07:53:02.763441Z",
     "shell.execute_reply": "2022-03-21T07:53:02.763062Z"
    }
   },
   "outputs": [
    {
     "data": {
      "image/svg+xml": [
       "<?xml version=\"1.0\" encoding=\"UTF-8\" standalone=\"no\"?><svg xmlns=\"http://www.w3.org/2000/svg\" xmlns:xlink=\"http://www.w3.org/1999/xlink\" contentScriptType=\"application/ecmascript\" contentStyleType=\"text/css\" height=\"360px\" preserveAspectRatio=\"none\" style=\"width:275px;height:360px;\" version=\"1.1\" viewBox=\"0 0 275 360\" width=\"275px\" zoomAndPan=\"magnify\"><defs><filter height=\"300%\" id=\"fy0e8ja2o4jeg\" width=\"300%\" x=\"-1\" y=\"-1\"><feGaussianBlur result=\"blurOut\" stdDeviation=\"2.0\"/><feColorMatrix in=\"blurOut\" result=\"blurOut2\" type=\"matrix\" values=\"0 0 0 0 0 0 0 0 0 0 0 0 0 0 0 0 0 0 .4 0\"/><feOffset dx=\"4.0\" dy=\"4.0\" in=\"blurOut2\" result=\"blurOut3\"/><feBlend in=\"SourceGraphic\" in2=\"blurOut3\" mode=\"normal\"/></filter></defs><g><!--MD5=[fbc87193dbaf4d95561dea2c320d4a47]\n",
       "cluster E1--><a href=\"psysml:a585b742-f262-46cd-b94a-c90c9e84789e\" target=\"_top\" title=\"psysml:a585b742-f262-46cd-b94a-c90c9e84789e\" xlink:actuate=\"onRequest\" xlink:href=\"psysml:a585b742-f262-46cd-b94a-c90c9e84789e\" xlink:show=\"new\" xlink:title=\"psysml:a585b742-f262-46cd-b94a-c90c9e84789e\" xlink:type=\"simple\"><polygon fill=\"#FFFFFF\" filter=\"url(#fy0e8ja2o4jeg)\" points=\"16,6,97,6,104,28.2969,253,28.2969,253,348,16,348,16,6\" style=\"stroke: #000000; stroke-width: 1.5;\"/><line style=\"stroke: #000000; stroke-width: 1.5;\" x1=\"16\" x2=\"104\" y1=\"28.2969\" y2=\"28.2969\"/><text fill=\"#000000\" font-family=\"sans-serif\" font-size=\"14\" font-weight=\"bold\" lengthAdjust=\"spacingAndGlyphs\" textLength=\"75\" x=\"20\" y=\"20.9951\">AliasImport</text></a><!--MD5=[e4f7fae6ed58524ba242bb0b0d3be6b7]\n",
       "cluster E2--><a href=\"psysml:336f27c4-53da-4ebc-95bd-6f6303678a10\" target=\"_top\" title=\"psysml:336f27c4-53da-4ebc-95bd-6f6303678a10\" xlink:actuate=\"onRequest\" xlink:href=\"psysml:336f27c4-53da-4ebc-95bd-6f6303678a10\" xlink:show=\"new\" xlink:title=\"psysml:336f27c4-53da-4ebc-95bd-6f6303678a10\" xlink:type=\"simple\"><polygon fill=\"#FFFFFF\" filter=\"url(#fy0e8ja2o4jeg)\" points=\"65,227,144,227,151,249.2969,167,249.2969,167,324,65,324,65,227\" style=\"stroke: #000000; stroke-width: 1.5;\"/><line style=\"stroke: #000000; stroke-width: 1.5;\" x1=\"65\" x2=\"151\" y1=\"249.2969\" y2=\"249.2969\"/><text fill=\"#000000\" font-family=\"sans-serif\" font-size=\"14\" font-weight=\"bold\" lengthAdjust=\"spacingAndGlyphs\" textLength=\"73\" x=\"69\" y=\"241.9951\">Definitions</text></a><!--MD5=[f6df4d0ebaf0b5dfb2ced0ae5af7c670]\n",
       "cluster E4--><a href=\"psysml:1c99181b-1c33-4a44-b1a9-f0fa19d834f2\" target=\"_top\" title=\"psysml:1c99181b-1c33-4a44-b1a9-f0fa19d834f2\" xlink:actuate=\"onRequest\" xlink:href=\"psysml:1c99181b-1c33-4a44-b1a9-f0fa19d834f2\" xlink:show=\"new\" xlink:title=\"psysml:1c99181b-1c33-4a44-b1a9-f0fa19d834f2\" xlink:type=\"simple\"><polygon fill=\"#FFFFFF\" filter=\"url(#fy0e8ja2o4jeg)\" points=\"48,57,106,57,113,79.2969,221,79.2969,221,170,48,170,48,57\" style=\"stroke: #000000; stroke-width: 1.5;\"/><line style=\"stroke: #000000; stroke-width: 1.5;\" x1=\"48\" x2=\"113\" y1=\"79.2969\" y2=\"79.2969\"/><text fill=\"#000000\" font-family=\"sans-serif\" font-size=\"14\" font-weight=\"bold\" lengthAdjust=\"spacingAndGlyphs\" textLength=\"52\" x=\"52\" y=\"71.9951\">Usages</text></a><!--MD5=[09b614a08d8cba4a07c9adeb5e0fee81]\n",
       "class E3--><a href=\"psysml:e00f8094-2dc0-4541-ab70-7f0589b02177\" target=\"_top\" title=\"psysml:e00f8094-2dc0-4541-ab70-7f0589b02177\" xlink:actuate=\"onRequest\" xlink:href=\"psysml:e00f8094-2dc0-4541-ab70-7f0589b02177\" xlink:show=\"new\" xlink:title=\"psysml:e00f8094-2dc0-4541-ab70-7f0589b02177\" xlink:type=\"simple\"><rect fill=\"#FEFECE\" filter=\"url(#fy0e8ja2o4jeg)\" height=\"45.9375\" id=\"E3\" style=\"stroke: #A80036; stroke-width: 1.5;\" width=\"70\" x=\"81\" y=\"262\"/><text fill=\"#000000\" font-family=\"sans-serif\" font-size=\"12\" font-style=\"italic\" lengthAdjust=\"spacingAndGlyphs\" textLength=\"68\" x=\"82\" y=\"278.1387\">«part  def»</text><text fill=\"#000000\" font-family=\"sans-serif\" font-size=\"12\" lengthAdjust=\"spacingAndGlyphs\" textLength=\"45\" x=\"93.5\" y=\"292.1074\">Vehicle</text><line style=\"stroke: #A80036; stroke-width: 1.5;\" x1=\"82\" x2=\"150\" y1=\"299.9375\" y2=\"299.9375\"/></a><!--MD5=[270fce915f116d4de14055a7c1d9a0f3]\n",
       "class E5--><a href=\"psysml:9c534076-d85a-4836-b001-6ecd6cbd12fb\" target=\"_top\" title=\"psysml:9c534076-d85a-4836-b001-6ecd6cbd12fb\" xlink:actuate=\"onRequest\" xlink:href=\"psysml:9c534076-d85a-4836-b001-6ecd6cbd12fb\" xlink:show=\"new\" xlink:title=\"psysml:9c534076-d85a-4836-b001-6ecd6cbd12fb\" xlink:type=\"simple\"><rect fill=\"#FEFECE\" filter=\"url(#fy0e8ja2o4jeg)\" height=\"45.9375\" id=\"E5\" rx=\"10\" ry=\"10\" style=\"stroke: #A80036; stroke-width: 1.5;\" width=\"106\" x=\"91\" y=\"100\"/><text fill=\"#000000\" font-family=\"sans-serif\" font-size=\"12\" font-style=\"italic\" lengthAdjust=\"spacingAndGlyphs\" textLength=\"40\" x=\"124\" y=\"116.1387\">«part»</text><text fill=\"#000000\" font-family=\"sans-serif\" font-size=\"12\" lengthAdjust=\"spacingAndGlyphs\" textLength=\"96\" x=\"94\" y=\"130.1074\">vehicle: Vehicle</text><line style=\"stroke: #A80036; stroke-width: 1.5;\" x1=\"92\" x2=\"196\" y1=\"137.9375\" y2=\"137.9375\"/></a><!--MD5=[f0cdf4548168e5211fb3a02bf679d63a]\n",
       "link E4 to E3--><a href=\"psysml:754d7efd-e1b6-49fa-9136-3270d64a1ac4\" target=\"_top\" title=\"psysml:754d7efd-e1b6-49fa-9136-3270d64a1ac4\" xlink:actuate=\"onRequest\" xlink:href=\"psysml:754d7efd-e1b6-49fa-9136-3270d64a1ac4\" xlink:show=\"new\" xlink:title=\"psysml:754d7efd-e1b6-49fa-9136-3270d64a1ac4\" xlink:type=\"simple\"><path d=\"M58.5005,170.0549 C58.5193,170.2001 58.5383,170.3454 58.5574,170.4908 C58.6338,171.0725 58.7124,171.6562 58.7932,172.2415 C58.9548,173.4122 59.1253,174.5898 59.3052,175.7725 C59.6651,178.1379 60.0625,180.5238 60.5014,182.9158 C62.2569,192.4838 64.675,202.15 68,211 C74.23,227.58 84.77,244.23 94.38,257.43 \" fill=\"none\" id=\"E4-&gt;E3\" style=\"stroke: #A80036; stroke-width: 1.0; stroke-dasharray: 7.0,7.0;\"/><polygon fill=\"#A80036\" points=\"97.6,261.77,95.4384,252.1613,94.616,257.758,89.0193,256.9357,97.6,261.77\" style=\"stroke: #A80036; stroke-width: 1.0;\"/><text fill=\"#000000\" font-family=\"sans-serif\" font-size=\"13\" lengthAdjust=\"spacingAndGlyphs\" textLength=\"58\" x=\"69\" y=\"207.0669\">«import»</text></a><!--MD5=[e9be52314489bd878ff4c7144b63c9e1]\n",
       "link E5 to E3--><a href=\"psysml:35d55ec3-6fe4-4032-923f-7a8654029377\" target=\"_top\" title=\"psysml:35d55ec3-6fe4-4032-923f-7a8654029377\" xlink:actuate=\"onRequest\" xlink:href=\"psysml:35d55ec3-6fe4-4032-923f-7a8654029377\" xlink:show=\"new\" xlink:title=\"psysml:35d55ec3-6fe4-4032-923f-7a8654029377\" xlink:type=\"simple\"><path d=\"M143.03,146.32 C142,163.98 139.95,189.21 136,211 C134.13,221.29 131.49,232.23 128.74,242.43 \" fill=\"none\" id=\"E5-&gt;E3\" style=\"stroke: #A80036; stroke-width: 1.0;\"/><polygon fill=\"#FFFFFF\" points=\"123.15,261.87,121.6727,241.6755,135.1276,245.544,123.15,261.87\" style=\"stroke: #A80036; stroke-width: 1.0;\"/><ellipse cx=\"125.1699\" cy=\"236.7501\" fill=\"#A80036\" rx=\"2\" ry=\"2\" style=\"stroke: #A80036; stroke-width: 1.0;\"/><ellipse cx=\"134.7805\" cy=\"239.5133\" fill=\"#A80036\" rx=\"2\" ry=\"2\" style=\"stroke: #A80036; stroke-width: 1.0;\"/></a><!--MD5=[23b21ad1744690ea49ff6ca2a687cff6]\n",
       "@startuml\r\n",
       "skinparam wrapWidth 300\r\n",
       "hide circle\r\n",
       "\r\n",
       "package \"AliasImport\" as E1  [[psysml:a585b742-f262-46cd-b94a-c90c9e84789e ]]  {\r\n",
       "package \"Definitions\" as E2  [[psysml:336f27c4-53da-4ebc-95bd-6f6303678a10 ]]  {\r\n",
       "comp def \"Vehicle\" as E3  <<(T,blue) part  def>> [[psysml:e00f8094-2dc0-4541-ab70-7f0589b02177 ]] {\r\n",
       "}\r\n",
       "}\r\n",
       "package \"Usages\" as E4  [[psysml:1c99181b-1c33-4a44-b1a9-f0fa19d834f2 ]]  {\r\n",
       "comp usage \"vehicle: Vehicle \" as E5  <<(T,blue) part>> [[psysml:9c534076-d85a-4836-b001-6ecd6cbd12fb ]] {\r\n",
       "}\r\n",
       "}\r\n",
       "}\r\n",
       "E4 ..> E3 [[psysml:754d7efd-e1b6-49fa-9136-3270d64a1ac4 ]] : <<import>>\r\n",
       "E5 - -:|> E3 [[psysml:35d55ec3-6fe4-4032-923f-7a8654029377 ]] \r\n",
       "@enduml\r\n",
       "\n",
       "PlantUML version 1.2020.13(Sat Jun 13 12:26:38 UTC 2020)\n",
       "(EPL source distribution)\n",
       "Java Runtime: OpenJDK Runtime Environment\n",
       "JVM: OpenJDK 64-Bit Server VM\n",
       "Default Encoding: UTF-8\n",
       "Language: en\n",
       "Country: null\n",
       "--></g></svg>"
      ]
     },
     "execution_count": 24,
     "metadata": {},
     "output_type": "execute_result"
    }
   ],
   "source": [
    "%viz --style=\"STDCOLOR\" --view=\"Tree\" \"AliasImport\""
   ]
  },
  {
   "cell_type": "code",
   "execution_count": 25,
   "id": "57dda2e3",
   "metadata": {
    "execution": {
     "iopub.execute_input": "2022-03-21T07:53:02.813355Z",
     "iopub.status.busy": "2022-03-21T07:53:02.812747Z",
     "iopub.status.idle": "2022-03-21T07:53:02.818382Z",
     "shell.execute_reply": "2022-03-21T07:53:02.818037Z"
    }
   },
   "outputs": [
    {
     "data": {
      "image/svg+xml": [
       "<?xml version=\"1.0\" encoding=\"UTF-8\" standalone=\"no\"?><svg xmlns=\"http://www.w3.org/2000/svg\" xmlns:xlink=\"http://www.w3.org/1999/xlink\" contentScriptType=\"application/ecmascript\" contentStyleType=\"text/css\" height=\"12px\" preserveAspectRatio=\"none\" style=\"width:12px;height:12px;\" version=\"1.1\" viewBox=\"0 0 12 12\" width=\"12px\" zoomAndPan=\"magnify\"><defs/><g><!--MD5=[aeeef50f102b80d730deb6443d14f702]\n",
       "@startuml\r\n",
       "skinparam wrapWidth 300\r\n",
       "hide circle\r\n",
       "\r\n",
       "@enduml\r\n",
       "\n",
       "PlantUML version 1.2020.13(Sat Jun 13 12:26:38 UTC 2020)\n",
       "(EPL source distribution)\n",
       "Java Runtime: OpenJDK Runtime Environment\n",
       "JVM: OpenJDK 64-Bit Server VM\n",
       "Default Encoding: UTF-8\n",
       "Language: en\n",
       "Country: null\n",
       "--></g></svg>"
      ]
     },
     "execution_count": 25,
     "metadata": {},
     "output_type": "execute_result"
    }
   ],
   "source": [
    "%viz --style=\"STDCOLOR\" --view=\"State\" \"AliasImport\""
   ]
  },
  {
   "cell_type": "code",
   "execution_count": 26,
   "id": "d8fbc9fb",
   "metadata": {
    "execution": {
     "iopub.execute_input": "2022-03-21T07:53:02.868683Z",
     "iopub.status.busy": "2022-03-21T07:53:02.868058Z",
     "iopub.status.idle": "2022-03-21T07:53:02.898263Z",
     "shell.execute_reply": "2022-03-21T07:53:02.897889Z"
    }
   },
   "outputs": [
    {
     "data": {
      "image/svg+xml": [
       "<?xml version=\"1.0\" encoding=\"UTF-8\" standalone=\"no\"?><svg xmlns=\"http://www.w3.org/2000/svg\" xmlns:xlink=\"http://www.w3.org/1999/xlink\" contentScriptType=\"application/ecmascript\" contentStyleType=\"text/css\" height=\"351px\" preserveAspectRatio=\"none\" style=\"width:302px;height:351px;\" version=\"1.1\" viewBox=\"0 0 302 351\" width=\"302px\" zoomAndPan=\"magnify\"><defs><filter height=\"300%\" id=\"f1n2avc76fkb3m\" width=\"300%\" x=\"-1\" y=\"-1\"><feGaussianBlur result=\"blurOut\" stdDeviation=\"2.0\"/><feColorMatrix in=\"blurOut\" result=\"blurOut2\" type=\"matrix\" values=\"0 0 0 0 0 0 0 0 0 0 0 0 0 0 0 0 0 0 .4 0\"/><feOffset dx=\"4.0\" dy=\"4.0\" in=\"blurOut2\" result=\"blurOut3\"/><feBlend in=\"SourceGraphic\" in2=\"blurOut3\" mode=\"normal\"/></filter></defs><g><!--MD5=[fbc87193dbaf4d95561dea2c320d4a47]\n",
       "cluster E1--><a href=\"psysml:a585b742-f262-46cd-b94a-c90c9e84789e\" target=\"_top\" title=\"psysml:a585b742-f262-46cd-b94a-c90c9e84789e\" xlink:actuate=\"onRequest\" xlink:href=\"psysml:a585b742-f262-46cd-b94a-c90c9e84789e\" xlink:show=\"new\" xlink:title=\"psysml:a585b742-f262-46cd-b94a-c90c9e84789e\" xlink:type=\"simple\"><polygon fill=\"#FFFFFF\" filter=\"url(#f1n2avc76fkb3m)\" points=\"16,6,97,6,104,28.2969,280,28.2969,280,339,16,339,16,6\" style=\"stroke: #000000; stroke-width: 1.5;\"/><line style=\"stroke: #000000; stroke-width: 1.5;\" x1=\"16\" x2=\"104\" y1=\"28.2969\" y2=\"28.2969\"/><text fill=\"#000000\" font-family=\"sans-serif\" font-size=\"14\" font-weight=\"bold\" lengthAdjust=\"spacingAndGlyphs\" textLength=\"75\" x=\"20\" y=\"20.9951\">AliasImport</text></a><!--MD5=[e4f7fae6ed58524ba242bb0b0d3be6b7]\n",
       "cluster E2--><a href=\"psysml:336f27c4-53da-4ebc-95bd-6f6303678a10\" target=\"_top\" title=\"psysml:336f27c4-53da-4ebc-95bd-6f6303678a10\" xlink:actuate=\"onRequest\" xlink:href=\"psysml:336f27c4-53da-4ebc-95bd-6f6303678a10\" xlink:show=\"new\" xlink:title=\"psysml:336f27c4-53da-4ebc-95bd-6f6303678a10\" xlink:type=\"simple\"><polygon fill=\"#FFFFFF\" filter=\"url(#f1n2avc76fkb3m)\" points=\"40,221,119,221,126,243.2969,256,243.2969,256,315,40,315,40,221\" style=\"stroke: #000000; stroke-width: 1.5;\"/><line style=\"stroke: #000000; stroke-width: 1.5;\" x1=\"40\" x2=\"126\" y1=\"243.2969\" y2=\"243.2969\"/><text fill=\"#000000\" font-family=\"sans-serif\" font-size=\"14\" font-weight=\"bold\" lengthAdjust=\"spacingAndGlyphs\" textLength=\"73\" x=\"44\" y=\"235.9951\">Definitions</text></a><!--MD5=[de5ec2e2e8f62f467e546659f5068c88]\n",
       "cluster E5--><a href=\"psysml:1c99181b-1c33-4a44-b1a9-f0fa19d834f2\" target=\"_top\" title=\"psysml:1c99181b-1c33-4a44-b1a9-f0fa19d834f2\" xlink:actuate=\"onRequest\" xlink:href=\"psysml:1c99181b-1c33-4a44-b1a9-f0fa19d834f2\" xlink:show=\"new\" xlink:title=\"psysml:1c99181b-1c33-4a44-b1a9-f0fa19d834f2\" xlink:type=\"simple\"><polygon fill=\"#FFFFFF\" filter=\"url(#f1n2avc76fkb3m)\" points=\"74,57,132,57,139,79.2969,248,79.2969,248,164,74,164,74,57\" style=\"stroke: #000000; stroke-width: 1.5;\"/><line style=\"stroke: #000000; stroke-width: 1.5;\" x1=\"74\" x2=\"139\" y1=\"79.2969\" y2=\"79.2969\"/><text fill=\"#000000\" font-family=\"sans-serif\" font-size=\"14\" font-weight=\"bold\" lengthAdjust=\"spacingAndGlyphs\" textLength=\"52\" x=\"78\" y=\"71.9951\">Usages</text></a><g id=\"E1.E2.E3\"><a href=\"psysml:e00f8094-2dc0-4541-ab70-7f0589b02177\" target=\"_top\" title=\"psysml:e00f8094-2dc0-4541-ab70-7f0589b02177\" xlink:actuate=\"onRequest\" xlink:href=\"psysml:e00f8094-2dc0-4541-ab70-7f0589b02177\" xlink:show=\"new\" xlink:title=\"psysml:e00f8094-2dc0-4541-ab70-7f0589b02177\" xlink:type=\"simple\"><rect fill=\"#FEFECE\" filter=\"url(#f1n2avc76fkb3m)\" height=\"42.9375\" id=\"E3\" style=\"stroke: #A80036; stroke-width: 1.5;\" width=\"75\" x=\"165.5\" y=\"256\"/><text fill=\"#000000\" font-family=\"sans-serif\" font-size=\"12\" font-style=\"italic\" lengthAdjust=\"spacingAndGlyphs\" textLength=\"68\" x=\"169\" y=\"272.1387\">«part  def»</text><text fill=\"#000000\" font-family=\"sans-serif\" font-size=\"12\" lengthAdjust=\"spacingAndGlyphs\" textLength=\"45\" x=\"180.5\" y=\"286.1074\">Vehicle</text></a></g><g id=\"E1.E2.E4\"><a href=\"psysml:e00f8094-2dc0-4541-ab70-7f0589b02177\" target=\"_top\" title=\"psysml:e00f8094-2dc0-4541-ab70-7f0589b02177\" xlink:actuate=\"onRequest\" xlink:href=\"psysml:e00f8094-2dc0-4541-ab70-7f0589b02177\" xlink:show=\"new\" xlink:title=\"psysml:e00f8094-2dc0-4541-ab70-7f0589b02177\" xlink:type=\"simple\"><rect fill=\"#FEFECE\" filter=\"url(#f1n2avc76fkb3m)\" height=\"42.9375\" id=\"E4\" style=\"stroke: #A80036; stroke-width: 1.5;\" width=\"75\" x=\"55.5\" y=\"256\"/><text fill=\"#000000\" font-family=\"sans-serif\" font-size=\"12\" font-style=\"italic\" lengthAdjust=\"spacingAndGlyphs\" textLength=\"68\" x=\"59\" y=\"272.1387\">«part  def»</text><text fill=\"#000000\" font-family=\"sans-serif\" font-size=\"12\" lengthAdjust=\"spacingAndGlyphs\" textLength=\"45\" x=\"70.5\" y=\"286.1074\">Vehicle</text></a></g><g id=\"E1.E5.E6\"><a href=\"psysml:9c534076-d85a-4836-b001-6ecd6cbd12fb\" target=\"_top\" title=\"psysml:9c534076-d85a-4836-b001-6ecd6cbd12fb\" xlink:actuate=\"onRequest\" xlink:href=\"psysml:9c534076-d85a-4836-b001-6ecd6cbd12fb\" xlink:show=\"new\" xlink:title=\"psysml:9c534076-d85a-4836-b001-6ecd6cbd12fb\" xlink:type=\"simple\"><rect fill=\"#FEFECE\" filter=\"url(#f1n2avc76fkb3m)\" height=\"40\" id=\"E6\" rx=\"10\" ry=\"10\" style=\"stroke: #A80036; stroke-width: 1.5;\" width=\"107\" x=\"117.5\" y=\"100\"/><text fill=\"#000000\" font-family=\"sans-serif\" font-size=\"12\" lengthAdjust=\"spacingAndGlyphs\" textLength=\"96\" x=\"123\" y=\"116.1387\">vehicle: Vehicle</text></a></g><!--MD5=[1c62de2aa5b76f0fb657ff8443a1a700]\n",
       "link E5 to E4--><a href=\"psysml:754d7efd-e1b6-49fa-9136-3270d64a1ac4\" target=\"_top\" title=\"psysml:754d7efd-e1b6-49fa-9136-3270d64a1ac4\" xlink:actuate=\"onRequest\" xlink:href=\"psysml:754d7efd-e1b6-49fa-9136-3270d64a1ac4\" xlink:show=\"new\" xlink:title=\"psysml:754d7efd-e1b6-49fa-9136-3270d64a1ac4\" xlink:type=\"simple\"><path d=\"M85.0613,164.274 C85.0754,164.474 85.0896,164.6743 85.1038,164.8751 C85.1322,165.2765 85.1608,165.6795 85.1894,166.0839 C85.3039,167.7016 85.42,169.3423 85.5375,171.0025 C87.4175,197.565 89.65,229.1 91.18,250.73 \" fill=\"none\" id=\"E5-&gt;E4\" style=\"stroke: #A80036; stroke-width: 1.0; stroke-dasharray: 7.0,7.0;\"/><polygon fill=\"#A80036\" points=\"91.54,255.81,94.8867,246.5472,91.1827,250.8228,86.9072,247.1188,91.54,255.81\" style=\"stroke: #A80036; stroke-width: 1.0;\"/><text fill=\"#000000\" font-family=\"sans-serif\" font-size=\"13\" lengthAdjust=\"spacingAndGlyphs\" textLength=\"58\" x=\"88\" y=\"201.0669\">«import»</text></a><!--MD5=[629d1fc058787140f9c693008883e942]\n",
       "@startuml\r\n",
       "skinparam ranksep 10\r\n",
       "skinparam rectangle {\r\n",
       " backgroundColor<<block>> LightGreen\r\n",
       "}\r\n",
       "skinparam wrapWidth 300\r\n",
       "hide circle\r\n",
       "\r\n",
       "package \"AliasImport\" as E1  [[psysml:a585b742-f262-46cd-b94a-c90c9e84789e ]]  {\r\n",
       "package \"Definitions\" as E2  [[psysml:336f27c4-53da-4ebc-95bd-6f6303678a10 ]]  {\r\n",
       "rec def \"Vehicle\" as E3  <<(T,blue) part  def>> [[psysml:e00f8094-2dc0-4541-ab70-7f0589b02177 ]] {\r\n",
       "}\r\n",
       "rec def \"Vehicle\" as E4  <<(T,blue) part  def>> [[psysml:e00f8094-2dc0-4541-ab70-7f0589b02177 ]] {\r\n",
       "}\r\n",
       "}\r\n",
       "package \"Usages\" as E5  [[psysml:1c99181b-1c33-4a44-b1a9-f0fa19d834f2 ]]  {\r\n",
       "rec usage \"vehicle: Vehicle\" as E6  [[psysml:9c534076-d85a-4836-b001-6ecd6cbd12fb ]] {\r\n",
       "}\r\n",
       "}\r\n",
       "}\r\n",
       "E5 ..> E4 [[psysml:754d7efd-e1b6-49fa-9136-3270d64a1ac4 ]] : <<import>>\r\n",
       "@enduml\r\n",
       "\n",
       "PlantUML version 1.2020.13(Sat Jun 13 12:26:38 UTC 2020)\n",
       "(EPL source distribution)\n",
       "Java Runtime: OpenJDK Runtime Environment\n",
       "JVM: OpenJDK 64-Bit Server VM\n",
       "Default Encoding: UTF-8\n",
       "Language: en\n",
       "Country: null\n",
       "--></g></svg>"
      ]
     },
     "execution_count": 26,
     "metadata": {},
     "output_type": "execute_result"
    }
   ],
   "source": [
    "%viz --style=\"STDCOLOR\" --view=\"Interconnection\" \"AliasImport\""
   ]
  },
  {
   "cell_type": "code",
   "execution_count": 27,
   "id": "ffd4d7ae",
   "metadata": {
    "execution": {
     "iopub.execute_input": "2022-03-21T07:53:02.948149Z",
     "iopub.status.busy": "2022-03-21T07:53:02.947553Z",
     "iopub.status.idle": "2022-03-21T07:53:02.953108Z",
     "shell.execute_reply": "2022-03-21T07:53:02.952750Z"
    }
   },
   "outputs": [
    {
     "data": {
      "image/svg+xml": [
       "<?xml version=\"1.0\" encoding=\"UTF-8\" standalone=\"no\"?><svg xmlns=\"http://www.w3.org/2000/svg\" xmlns:xlink=\"http://www.w3.org/1999/xlink\" contentScriptType=\"application/ecmascript\" contentStyleType=\"text/css\" height=\"12px\" preserveAspectRatio=\"none\" style=\"width:12px;height:12px;\" version=\"1.1\" viewBox=\"0 0 12 12\" width=\"12px\" zoomAndPan=\"magnify\"><defs/><g><!--MD5=[9863325348a96a77dacc89509d8ee65e]\n",
       "@startuml\r\n",
       "skinparam ranksep 8\r\n",
       "skinparam wrapWidth 300\r\n",
       "hide circle\r\n",
       "\r\n",
       "@enduml\r\n",
       "\n",
       "PlantUML version 1.2020.13(Sat Jun 13 12:26:38 UTC 2020)\n",
       "(EPL source distribution)\n",
       "Java Runtime: OpenJDK Runtime Environment\n",
       "JVM: OpenJDK 64-Bit Server VM\n",
       "Default Encoding: UTF-8\n",
       "Language: en\n",
       "Country: null\n",
       "--></g></svg>"
      ]
     },
     "execution_count": 27,
     "metadata": {},
     "output_type": "execute_result"
    }
   ],
   "source": [
    "%viz --style=\"STDCOLOR\" --view=\"Action\" \"AliasImport\""
   ]
  },
  {
   "cell_type": "code",
   "execution_count": 28,
   "id": "b10c48ef",
   "metadata": {
    "execution": {
     "iopub.execute_input": "2022-03-21T07:53:03.003426Z",
     "iopub.status.busy": "2022-03-21T07:53:03.002807Z",
     "iopub.status.idle": "2022-03-21T07:53:03.008204Z",
     "shell.execute_reply": "2022-03-21T07:53:03.008504Z"
    }
   },
   "outputs": [
    {
     "data": {
      "image/svg+xml": [
       "<?xml version=\"1.0\" encoding=\"UTF-8\" standalone=\"no\"?><svg xmlns=\"http://www.w3.org/2000/svg\" xmlns:xlink=\"http://www.w3.org/1999/xlink\" contentScriptType=\"application/ecmascript\" contentStyleType=\"text/css\" height=\"12px\" preserveAspectRatio=\"none\" style=\"width:12px;height:12px;\" version=\"1.1\" viewBox=\"0 0 12 12\" width=\"12px\" zoomAndPan=\"magnify\"><defs/><g><!--MD5=[6c4bca67b4d71758159a5a7f1f1e1fc2]\n",
       "@startuml\r\n",
       "skinparam roundcorner 20\r\n",
       "skinparam BoxPadding 20\r\n",
       "skinparam SequenceBoxBackgroundColor #white\r\n",
       "skinparam style strictuml\r\n",
       "skinparam maxMessageSize 100\r\n",
       "skinparam wrapWidth 300\r\n",
       "hide circle\r\n",
       "\r\n",
       "@enduml\r\n",
       "\n",
       "PlantUML version 1.2020.13(Sat Jun 13 12:26:38 UTC 2020)\n",
       "(EPL source distribution)\n",
       "Java Runtime: OpenJDK Runtime Environment\n",
       "JVM: OpenJDK 64-Bit Server VM\n",
       "Default Encoding: UTF-8\n",
       "Language: en\n",
       "Country: null\n",
       "--></g></svg>"
      ]
     },
     "execution_count": 28,
     "metadata": {},
     "output_type": "execute_result"
    }
   ],
   "source": [
    "%viz --style=\"STDCOLOR\" --view=\"Sequence\" \"AliasImport\""
   ]
  },
  {
   "cell_type": "code",
   "execution_count": 29,
   "id": "7d5a9eb5",
   "metadata": {
    "execution": {
     "iopub.execute_input": "2022-03-21T07:53:03.058823Z",
     "iopub.status.busy": "2022-03-21T07:53:03.058207Z",
     "iopub.status.idle": "2022-03-21T07:53:03.087644Z",
     "shell.execute_reply": "2022-03-21T07:53:03.087224Z"
    }
   },
   "outputs": [
    {
     "data": {
      "image/svg+xml": [
       "<?xml version=\"1.0\" encoding=\"UTF-8\" standalone=\"no\"?><svg xmlns=\"http://www.w3.org/2000/svg\" xmlns:xlink=\"http://www.w3.org/1999/xlink\" contentScriptType=\"application/ecmascript\" contentStyleType=\"text/css\" height=\"360px\" preserveAspectRatio=\"none\" style=\"width:275px;height:360px;\" version=\"1.1\" viewBox=\"0 0 275 360\" width=\"275px\" zoomAndPan=\"magnify\"><defs><filter height=\"300%\" id=\"fy0e8ja2o4jeg\" width=\"300%\" x=\"-1\" y=\"-1\"><feGaussianBlur result=\"blurOut\" stdDeviation=\"2.0\"/><feColorMatrix in=\"blurOut\" result=\"blurOut2\" type=\"matrix\" values=\"0 0 0 0 0 0 0 0 0 0 0 0 0 0 0 0 0 0 .4 0\"/><feOffset dx=\"4.0\" dy=\"4.0\" in=\"blurOut2\" result=\"blurOut3\"/><feBlend in=\"SourceGraphic\" in2=\"blurOut3\" mode=\"normal\"/></filter></defs><g><!--MD5=[fbc87193dbaf4d95561dea2c320d4a47]\n",
       "cluster E1--><a href=\"psysml:a585b742-f262-46cd-b94a-c90c9e84789e\" target=\"_top\" title=\"psysml:a585b742-f262-46cd-b94a-c90c9e84789e\" xlink:actuate=\"onRequest\" xlink:href=\"psysml:a585b742-f262-46cd-b94a-c90c9e84789e\" xlink:show=\"new\" xlink:title=\"psysml:a585b742-f262-46cd-b94a-c90c9e84789e\" xlink:type=\"simple\"><polygon fill=\"#FFFFFF\" filter=\"url(#fy0e8ja2o4jeg)\" points=\"16,6,97,6,104,28.2969,253,28.2969,253,348,16,348,16,6\" style=\"stroke: #000000; stroke-width: 1.5;\"/><line style=\"stroke: #000000; stroke-width: 1.5;\" x1=\"16\" x2=\"104\" y1=\"28.2969\" y2=\"28.2969\"/><text fill=\"#000000\" font-family=\"sans-serif\" font-size=\"14\" font-weight=\"bold\" lengthAdjust=\"spacingAndGlyphs\" textLength=\"75\" x=\"20\" y=\"20.9951\">AliasImport</text></a><!--MD5=[e4f7fae6ed58524ba242bb0b0d3be6b7]\n",
       "cluster E2--><a href=\"psysml:336f27c4-53da-4ebc-95bd-6f6303678a10\" target=\"_top\" title=\"psysml:336f27c4-53da-4ebc-95bd-6f6303678a10\" xlink:actuate=\"onRequest\" xlink:href=\"psysml:336f27c4-53da-4ebc-95bd-6f6303678a10\" xlink:show=\"new\" xlink:title=\"psysml:336f27c4-53da-4ebc-95bd-6f6303678a10\" xlink:type=\"simple\"><polygon fill=\"#FFFFFF\" filter=\"url(#fy0e8ja2o4jeg)\" points=\"65,227,144,227,151,249.2969,167,249.2969,167,324,65,324,65,227\" style=\"stroke: #000000; stroke-width: 1.5;\"/><line style=\"stroke: #000000; stroke-width: 1.5;\" x1=\"65\" x2=\"151\" y1=\"249.2969\" y2=\"249.2969\"/><text fill=\"#000000\" font-family=\"sans-serif\" font-size=\"14\" font-weight=\"bold\" lengthAdjust=\"spacingAndGlyphs\" textLength=\"73\" x=\"69\" y=\"241.9951\">Definitions</text></a><!--MD5=[f6df4d0ebaf0b5dfb2ced0ae5af7c670]\n",
       "cluster E4--><a href=\"psysml:1c99181b-1c33-4a44-b1a9-f0fa19d834f2\" target=\"_top\" title=\"psysml:1c99181b-1c33-4a44-b1a9-f0fa19d834f2\" xlink:actuate=\"onRequest\" xlink:href=\"psysml:1c99181b-1c33-4a44-b1a9-f0fa19d834f2\" xlink:show=\"new\" xlink:title=\"psysml:1c99181b-1c33-4a44-b1a9-f0fa19d834f2\" xlink:type=\"simple\"><polygon fill=\"#FFFFFF\" filter=\"url(#fy0e8ja2o4jeg)\" points=\"48,57,106,57,113,79.2969,221,79.2969,221,170,48,170,48,57\" style=\"stroke: #000000; stroke-width: 1.5;\"/><line style=\"stroke: #000000; stroke-width: 1.5;\" x1=\"48\" x2=\"113\" y1=\"79.2969\" y2=\"79.2969\"/><text fill=\"#000000\" font-family=\"sans-serif\" font-size=\"14\" font-weight=\"bold\" lengthAdjust=\"spacingAndGlyphs\" textLength=\"52\" x=\"52\" y=\"71.9951\">Usages</text></a><!--MD5=[09b614a08d8cba4a07c9adeb5e0fee81]\n",
       "class E3--><a href=\"psysml:e00f8094-2dc0-4541-ab70-7f0589b02177\" target=\"_top\" title=\"psysml:e00f8094-2dc0-4541-ab70-7f0589b02177\" xlink:actuate=\"onRequest\" xlink:href=\"psysml:e00f8094-2dc0-4541-ab70-7f0589b02177\" xlink:show=\"new\" xlink:title=\"psysml:e00f8094-2dc0-4541-ab70-7f0589b02177\" xlink:type=\"simple\"><rect fill=\"#FEFECE\" filter=\"url(#fy0e8ja2o4jeg)\" height=\"45.9375\" id=\"E3\" style=\"stroke: #A80036; stroke-width: 1.5;\" width=\"70\" x=\"81\" y=\"262\"/><text fill=\"#000000\" font-family=\"sans-serif\" font-size=\"12\" font-style=\"italic\" lengthAdjust=\"spacingAndGlyphs\" textLength=\"68\" x=\"82\" y=\"278.1387\">«part  def»</text><text fill=\"#000000\" font-family=\"sans-serif\" font-size=\"12\" lengthAdjust=\"spacingAndGlyphs\" textLength=\"45\" x=\"93.5\" y=\"292.1074\">Vehicle</text><line style=\"stroke: #A80036; stroke-width: 1.5;\" x1=\"82\" x2=\"150\" y1=\"299.9375\" y2=\"299.9375\"/></a><!--MD5=[270fce915f116d4de14055a7c1d9a0f3]\n",
       "class E5--><a href=\"psysml:9c534076-d85a-4836-b001-6ecd6cbd12fb\" target=\"_top\" title=\"psysml:9c534076-d85a-4836-b001-6ecd6cbd12fb\" xlink:actuate=\"onRequest\" xlink:href=\"psysml:9c534076-d85a-4836-b001-6ecd6cbd12fb\" xlink:show=\"new\" xlink:title=\"psysml:9c534076-d85a-4836-b001-6ecd6cbd12fb\" xlink:type=\"simple\"><rect fill=\"#FEFECE\" filter=\"url(#fy0e8ja2o4jeg)\" height=\"45.9375\" id=\"E5\" rx=\"10\" ry=\"10\" style=\"stroke: #A80036; stroke-width: 1.5;\" width=\"106\" x=\"91\" y=\"100\"/><text fill=\"#000000\" font-family=\"sans-serif\" font-size=\"12\" font-style=\"italic\" lengthAdjust=\"spacingAndGlyphs\" textLength=\"40\" x=\"124\" y=\"116.1387\">«part»</text><text fill=\"#000000\" font-family=\"sans-serif\" font-size=\"12\" lengthAdjust=\"spacingAndGlyphs\" textLength=\"96\" x=\"94\" y=\"130.1074\">vehicle: Vehicle</text><line style=\"stroke: #A80036; stroke-width: 1.5;\" x1=\"92\" x2=\"196\" y1=\"137.9375\" y2=\"137.9375\"/></a><!--MD5=[f0cdf4548168e5211fb3a02bf679d63a]\n",
       "link E4 to E3--><a href=\"psysml:754d7efd-e1b6-49fa-9136-3270d64a1ac4\" target=\"_top\" title=\"psysml:754d7efd-e1b6-49fa-9136-3270d64a1ac4\" xlink:actuate=\"onRequest\" xlink:href=\"psysml:754d7efd-e1b6-49fa-9136-3270d64a1ac4\" xlink:show=\"new\" xlink:title=\"psysml:754d7efd-e1b6-49fa-9136-3270d64a1ac4\" xlink:type=\"simple\"><path d=\"M58.5005,170.0549 C58.5193,170.2001 58.5383,170.3454 58.5574,170.4908 C58.6338,171.0725 58.7124,171.6562 58.7932,172.2415 C58.9548,173.4122 59.1253,174.5898 59.3052,175.7725 C59.6651,178.1379 60.0625,180.5238 60.5014,182.9158 C62.2569,192.4838 64.675,202.15 68,211 C74.23,227.58 84.77,244.23 94.38,257.43 \" fill=\"none\" id=\"E4-&gt;E3\" style=\"stroke: #A80036; stroke-width: 1.0; stroke-dasharray: 7.0,7.0;\"/><polygon fill=\"#A80036\" points=\"97.6,261.77,95.4384,252.1613,94.616,257.758,89.0193,256.9357,97.6,261.77\" style=\"stroke: #A80036; stroke-width: 1.0;\"/><text fill=\"#000000\" font-family=\"sans-serif\" font-size=\"13\" lengthAdjust=\"spacingAndGlyphs\" textLength=\"58\" x=\"69\" y=\"207.0669\">«import»</text></a><!--MD5=[e9be52314489bd878ff4c7144b63c9e1]\n",
       "link E5 to E3--><a href=\"psysml:35d55ec3-6fe4-4032-923f-7a8654029377\" target=\"_top\" title=\"psysml:35d55ec3-6fe4-4032-923f-7a8654029377\" xlink:actuate=\"onRequest\" xlink:href=\"psysml:35d55ec3-6fe4-4032-923f-7a8654029377\" xlink:show=\"new\" xlink:title=\"psysml:35d55ec3-6fe4-4032-923f-7a8654029377\" xlink:type=\"simple\"><path d=\"M143.03,146.32 C142,163.98 139.95,189.21 136,211 C134.13,221.29 131.49,232.23 128.74,242.43 \" fill=\"none\" id=\"E5-&gt;E3\" style=\"stroke: #A80036; stroke-width: 1.0;\"/><polygon fill=\"#FFFFFF\" points=\"123.15,261.87,121.6727,241.6755,135.1276,245.544,123.15,261.87\" style=\"stroke: #A80036; stroke-width: 1.0;\"/><ellipse cx=\"125.1699\" cy=\"236.7501\" fill=\"#A80036\" rx=\"2\" ry=\"2\" style=\"stroke: #A80036; stroke-width: 1.0;\"/><ellipse cx=\"134.7805\" cy=\"239.5133\" fill=\"#A80036\" rx=\"2\" ry=\"2\" style=\"stroke: #A80036; stroke-width: 1.0;\"/></a><!--MD5=[23b21ad1744690ea49ff6ca2a687cff6]\n",
       "@startuml\r\n",
       "skinparam wrapWidth 300\r\n",
       "hide circle\r\n",
       "\r\n",
       "package \"AliasImport\" as E1  [[psysml:a585b742-f262-46cd-b94a-c90c9e84789e ]]  {\r\n",
       "package \"Definitions\" as E2  [[psysml:336f27c4-53da-4ebc-95bd-6f6303678a10 ]]  {\r\n",
       "comp def \"Vehicle\" as E3  <<(T,blue) part  def>> [[psysml:e00f8094-2dc0-4541-ab70-7f0589b02177 ]] {\r\n",
       "}\r\n",
       "}\r\n",
       "package \"Usages\" as E4  [[psysml:1c99181b-1c33-4a44-b1a9-f0fa19d834f2 ]]  {\r\n",
       "comp usage \"vehicle: Vehicle \" as E5  <<(T,blue) part>> [[psysml:9c534076-d85a-4836-b001-6ecd6cbd12fb ]] {\r\n",
       "}\r\n",
       "}\r\n",
       "}\r\n",
       "E4 ..> E3 [[psysml:754d7efd-e1b6-49fa-9136-3270d64a1ac4 ]] : <<import>>\r\n",
       "E5 - -:|> E3 [[psysml:35d55ec3-6fe4-4032-923f-7a8654029377 ]] \r\n",
       "@enduml\r\n",
       "\n",
       "PlantUML version 1.2020.13(Sat Jun 13 12:26:38 UTC 2020)\n",
       "(EPL source distribution)\n",
       "Java Runtime: OpenJDK Runtime Environment\n",
       "JVM: OpenJDK 64-Bit Server VM\n",
       "Default Encoding: UTF-8\n",
       "Language: en\n",
       "Country: null\n",
       "--></g></svg>"
      ]
     },
     "execution_count": 29,
     "metadata": {},
     "output_type": "execute_result"
    }
   ],
   "source": [
    "%viz --style=\"STDCOLOR\" --view=\"MIXED\" \"AliasImport\""
   ]
  },
  {
   "cell_type": "code",
   "execution_count": 30,
   "id": "ba55d6d5",
   "metadata": {
    "execution": {
     "iopub.execute_input": "2022-03-21T07:53:03.137472Z",
     "iopub.status.busy": "2022-03-21T07:53:03.136859Z",
     "iopub.status.idle": "2022-03-21T07:53:03.188678Z",
     "shell.execute_reply": "2022-03-21T07:53:03.188298Z"
    }
   },
   "outputs": [
    {
     "data": {
      "image/svg+xml": [
       "<?xml version=\"1.0\" encoding=\"UTF-8\" standalone=\"no\"?><svg xmlns=\"http://www.w3.org/2000/svg\" xmlns:xlink=\"http://www.w3.org/1999/xlink\" contentScriptType=\"application/ecmascript\" contentStyleType=\"text/css\" height=\"354px\" preserveAspectRatio=\"none\" style=\"width:301px;height:354px;\" version=\"1.1\" viewBox=\"0 0 301 354\" width=\"301px\" zoomAndPan=\"magnify\"><defs><filter height=\"300%\" id=\"f1sebv09rn7pm4\" width=\"300%\" x=\"-1\" y=\"-1\"><feGaussianBlur result=\"blurOut\" stdDeviation=\"2.0\"/><feColorMatrix in=\"blurOut\" result=\"blurOut2\" type=\"matrix\" values=\"0 0 0 0 0 0 0 0 0 0 0 0 0 0 0 0 0 0 .4 0\"/><feOffset dx=\"4.0\" dy=\"4.0\" in=\"blurOut2\" result=\"blurOut3\"/><feBlend in=\"SourceGraphic\" in2=\"blurOut3\" mode=\"normal\"/></filter></defs><g><!--MD5=[fbc87193dbaf4d95561dea2c320d4a47]\n",
       "cluster E1--><a href=\"psysml:a585b742-f262-46cd-b94a-c90c9e84789e\" target=\"_top\" title=\"psysml:a585b742-f262-46cd-b94a-c90c9e84789e\" xlink:actuate=\"onRequest\" xlink:href=\"psysml:a585b742-f262-46cd-b94a-c90c9e84789e\" xlink:show=\"new\" xlink:title=\"psysml:a585b742-f262-46cd-b94a-c90c9e84789e\" xlink:type=\"simple\"><polygon fill=\"#FFFFFF\" filter=\"url(#f1sebv09rn7pm4)\" points=\"16,6,97,6,104,28.2969,279,28.2969,279,342,16,342,16,6\" style=\"stroke: #000000; stroke-width: 1.5;\"/><line style=\"stroke: #000000; stroke-width: 1.5;\" x1=\"16\" x2=\"104\" y1=\"28.2969\" y2=\"28.2969\"/><text fill=\"#000000\" font-family=\"sans-serif\" font-size=\"14\" font-weight=\"bold\" lengthAdjust=\"spacingAndGlyphs\" textLength=\"75\" x=\"20\" y=\"20.9951\">AliasImport</text></a><!--MD5=[e4f7fae6ed58524ba242bb0b0d3be6b7]\n",
       "cluster E2--><a href=\"psysml:336f27c4-53da-4ebc-95bd-6f6303678a10\" target=\"_top\" title=\"psysml:336f27c4-53da-4ebc-95bd-6f6303678a10\" xlink:actuate=\"onRequest\" xlink:href=\"psysml:336f27c4-53da-4ebc-95bd-6f6303678a10\" xlink:show=\"new\" xlink:title=\"psysml:336f27c4-53da-4ebc-95bd-6f6303678a10\" xlink:type=\"simple\"><polygon fill=\"#FFFFFF\" filter=\"url(#f1sebv09rn7pm4)\" points=\"68,227,147,227,154,249.2969,178,249.2969,178,318,68,318,68,227\" style=\"stroke: #000000; stroke-width: 1.5;\"/><line style=\"stroke: #000000; stroke-width: 1.5;\" x1=\"68\" x2=\"154\" y1=\"249.2969\" y2=\"249.2969\"/><text fill=\"#000000\" font-family=\"sans-serif\" font-size=\"14\" font-weight=\"bold\" lengthAdjust=\"spacingAndGlyphs\" textLength=\"73\" x=\"72\" y=\"241.9951\">Definitions</text></a><!--MD5=[f6df4d0ebaf0b5dfb2ced0ae5af7c670]\n",
       "cluster E4--><a href=\"psysml:1c99181b-1c33-4a44-b1a9-f0fa19d834f2\" target=\"_top\" title=\"psysml:1c99181b-1c33-4a44-b1a9-f0fa19d834f2\" xlink:actuate=\"onRequest\" xlink:href=\"psysml:1c99181b-1c33-4a44-b1a9-f0fa19d834f2\" xlink:show=\"new\" xlink:title=\"psysml:1c99181b-1c33-4a44-b1a9-f0fa19d834f2\" xlink:type=\"simple\"><polygon fill=\"#FFFFFF\" filter=\"url(#f1sebv09rn7pm4)\" points=\"48,57,106,57,113,79.2969,247,79.2969,247,170,48,170,48,57\" style=\"stroke: #000000; stroke-width: 1.5;\"/><line style=\"stroke: #000000; stroke-width: 1.5;\" x1=\"48\" x2=\"113\" y1=\"79.2969\" y2=\"79.2969\"/><text fill=\"#000000\" font-family=\"sans-serif\" font-size=\"14\" font-weight=\"bold\" lengthAdjust=\"spacingAndGlyphs\" textLength=\"52\" x=\"52\" y=\"71.9951\">Usages</text></a><!--MD5=[09b614a08d8cba4a07c9adeb5e0fee81]\n",
       "class E3--><a href=\"psysml:e00f8094-2dc0-4541-ab70-7f0589b02177\" target=\"_top\" title=\"psysml:e00f8094-2dc0-4541-ab70-7f0589b02177\" xlink:actuate=\"onRequest\" xlink:href=\"psysml:e00f8094-2dc0-4541-ab70-7f0589b02177\" xlink:show=\"new\" xlink:title=\"psysml:e00f8094-2dc0-4541-ab70-7f0589b02177\" xlink:type=\"simple\"><rect fill=\"#FEFECE\" filter=\"url(#f1sebv09rn7pm4)\" height=\"40\" id=\"E3\" style=\"stroke: #A80036; stroke-width: 1.5;\" width=\"77\" x=\"84.5\" y=\"262\"/><ellipse cx=\"99.5\" cy=\"278\" fill=\"#008000\" rx=\"11\" ry=\"11\" style=\"stroke: #A80036; stroke-width: 1.0;\"/><path d=\"M96.375,283 L96.375,272.4063 L99.6094,272.4063 Q101.5156,272.4063 102.4219,273.1563 Q103.3438,273.9063 103.3438,275.0781 Q103.3438,275.7656 102.9531,276.4219 Q102.5781,277.0781 101.8594,277.375 Q102.7188,277.75 103.2344,278.4375 Q103.75,279.125 103.75,279.9375 Q103.75,281.3125 102.7188,282.1563 Q101.7031,283 99.5938,283 L96.375,283 Z M98.2969,276.6406 L99.4531,276.6406 Q100.5781,276.6406 100.9844,276.2656 Q101.4063,275.875 101.4063,275.25 Q101.4063,274.6719 100.9844,274.3125 Q100.5625,273.9531 99.625,273.9531 L98.2969,273.9531 L98.2969,276.6406 Z M98.2969,281.4219 L99.7969,281.4219 Q100.7031,281.4219 101.2344,281.0313 Q101.7656,280.6406 101.7656,279.8906 Q101.7656,279.125 101.2656,278.6563 Q100.7656,278.1719 99.5,278.1719 L98.2969,278.1719 L98.2969,281.4219 Z \"/><text fill=\"#000000\" font-family=\"sans-serif\" font-size=\"12\" lengthAdjust=\"spacingAndGlyphs\" textLength=\"45\" x=\"113.5\" y=\"282.1543\">Vehicle</text><line style=\"stroke: #A80036; stroke-width: 1.5;\" x1=\"85.5\" x2=\"160.5\" y1=\"294\" y2=\"294\"/></a><!--MD5=[270fce915f116d4de14055a7c1d9a0f3]\n",
       "class E5--><a href=\"psysml:9c534076-d85a-4836-b001-6ecd6cbd12fb\" target=\"_top\" title=\"psysml:9c534076-d85a-4836-b001-6ecd6cbd12fb\" xlink:actuate=\"onRequest\" xlink:href=\"psysml:9c534076-d85a-4836-b001-6ecd6cbd12fb\" xlink:show=\"new\" xlink:title=\"psysml:9c534076-d85a-4836-b001-6ecd6cbd12fb\" xlink:type=\"simple\"><rect fill=\"#FEFECE\" filter=\"url(#f1sebv09rn7pm4)\" height=\"45.9375\" id=\"E5\" rx=\"10\" ry=\"10\" style=\"stroke: #A80036; stroke-width: 1.5;\" width=\"132\" x=\"91\" y=\"100\"/><ellipse cx=\"106\" cy=\"118.9688\" fill=\"#32CD32\" rx=\"11\" ry=\"11\" style=\"stroke: #A80036; stroke-width: 1.0;\"/><path d=\"M102.8125,123.9688 L102.8125,113.375 L106.4219,113.375 Q107.6406,113.375 108.4375,113.8125 Q109.2344,114.2344 109.6094,114.9375 Q110,115.6406 110,116.4844 Q110,117.3281 109.625,118.0156 Q109.2656,118.7031 108.4688,119.125 Q107.6875,119.5313 106.5,119.5313 L104.7656,119.5313 L104.7656,123.9688 L102.8125,123.9688 Z M104.7656,117.9375 L106.375,117.9375 Q107.1875,117.9375 107.6094,117.5313 Q108.0313,117.125 108.0313,116.4844 Q108.0313,115.8594 107.6094,115.4531 Q107.1875,115.0469 106.3906,115.0469 L104.7656,115.0469 L104.7656,117.9375 Z \"/><text fill=\"#000000\" font-family=\"sans-serif\" font-size=\"12\" font-style=\"italic\" lengthAdjust=\"spacingAndGlyphs\" textLength=\"40\" x=\"150\" y=\"116.1387\">«part»</text><text fill=\"#000000\" font-family=\"sans-serif\" font-size=\"12\" lengthAdjust=\"spacingAndGlyphs\" textLength=\"96\" x=\"120\" y=\"130.1074\">vehicle: Vehicle</text><line style=\"stroke: #A80036; stroke-width: 1.5;\" x1=\"92\" x2=\"222\" y1=\"137.9375\" y2=\"137.9375\"/></a><!--MD5=[f0cdf4548168e5211fb3a02bf679d63a]\n",
       "link E4 to E3--><a href=\"psysml:754d7efd-e1b6-49fa-9136-3270d64a1ac4\" target=\"_top\" title=\"psysml:754d7efd-e1b6-49fa-9136-3270d64a1ac4\" xlink:actuate=\"onRequest\" xlink:href=\"psysml:754d7efd-e1b6-49fa-9136-3270d64a1ac4\" xlink:show=\"new\" xlink:title=\"psysml:754d7efd-e1b6-49fa-9136-3270d64a1ac4\" xlink:type=\"simple\"><path d=\"M64.7031,170.0373 C64.7389,170.1824 64.7749,170.3277 64.8109,170.4731 C64.9551,171.0548 65.1012,171.6384 65.2493,172.2237 C65.5455,173.3944 65.8496,174.572 66.1615,175.7548 C66.7854,178.1203 67.4411,180.5064 68.1292,182.8989 C70.8819,192.4688 74.155,202.14 78,211 C85.13,227.43 95.91,244.37 105.13,257.46 \" fill=\"none\" id=\"E4-&gt;E3\" style=\"stroke: #A80036; stroke-width: 1.0; stroke-dasharray: 7.0,7.0;\"/><polygon fill=\"#A80036\" points=\"108.19,261.75,106.2042,252.1034,105.2798,257.6842,99.699,256.7598,108.19,261.75\" style=\"stroke: #A80036; stroke-width: 1.0;\"/><text fill=\"#000000\" font-family=\"sans-serif\" font-size=\"13\" lengthAdjust=\"spacingAndGlyphs\" textLength=\"58\" x=\"79\" y=\"207.0669\">«import»</text></a><!--MD5=[e9be52314489bd878ff4c7144b63c9e1]\n",
       "link E5 to E3--><a href=\"psysml:35d55ec3-6fe4-4032-923f-7a8654029377\" target=\"_top\" title=\"psysml:35d55ec3-6fe4-4032-923f-7a8654029377\" xlink:actuate=\"onRequest\" xlink:href=\"psysml:35d55ec3-6fe4-4032-923f-7a8654029377\" xlink:show=\"new\" xlink:title=\"psysml:35d55ec3-6fe4-4032-923f-7a8654029377\" xlink:type=\"simple\"><path d=\"M155.39,146.01 C153.82,163.72 150.92,189.17 146,211 C143.65,221.45 140.37,232.55 137.03,242.76 \" fill=\"none\" id=\"E5-&gt;E3\" style=\"stroke: #A80036; stroke-width: 1.0;\"/><polygon fill=\"#FFFFFF\" points=\"130.35,261.97,129.9691,241.7251,143.1946,246.317,130.35,261.97\" style=\"stroke: #A80036; stroke-width: 1.0;\"/><ellipse cx=\"133.7281\" cy=\"236.9964\" fill=\"#A80036\" rx=\"2\" ry=\"2\" style=\"stroke: #A80036; stroke-width: 1.0;\"/><ellipse cx=\"143.1749\" cy=\"240.2764\" fill=\"#A80036\" rx=\"2\" ry=\"2\" style=\"stroke: #A80036; stroke-width: 1.0;\"/></a><!--MD5=[03a00707a73704b0e12d60927e1e51a0]\n",
       "@startuml\r\n",
       " \r\n",
       "package \"AliasImport\" as E1  [[psysml:a585b742-f262-46cd-b94a-c90c9e84789e ]]  {\r\n",
       "package \"Definitions\" as E2  [[psysml:336f27c4-53da-4ebc-95bd-6f6303678a10 ]]  {\r\n",
       "comp def \"Vehicle\" as E3 << << (B,green) >> [[psysml:e00f8094-2dc0-4541-ab70-7f0589b02177 ]] {\r\n",
       "}\r\n",
       "}\r\n",
       "package \"Usages\" as E4  [[psysml:1c99181b-1c33-4a44-b1a9-f0fa19d834f2 ]]  {\r\n",
       "comp usage \"vehicle: Vehicle \" as E5 << << (P,limegreen) part>> [[psysml:9c534076-d85a-4836-b001-6ecd6cbd12fb ]] {\r\n",
       "}\r\n",
       "}\r\n",
       "}\r\n",
       "E4 ..> E3 [[psysml:754d7efd-e1b6-49fa-9136-3270d64a1ac4 ]] : <<import>>\r\n",
       "E5 - -:|> E3 [[psysml:35d55ec3-6fe4-4032-923f-7a8654029377 ]] \r\n",
       "@enduml\r\n",
       "\n",
       "PlantUML version 1.2020.13(Sat Jun 13 12:26:38 UTC 2020)\n",
       "(EPL source distribution)\n",
       "Java Runtime: OpenJDK Runtime Environment\n",
       "JVM: OpenJDK 64-Bit Server VM\n",
       "Default Encoding: UTF-8\n",
       "Language: en\n",
       "Country: null\n",
       "--></g></svg>"
      ]
     },
     "execution_count": 30,
     "metadata": {},
     "output_type": "execute_result"
    }
   ],
   "source": [
    "%viz --style=\"PLANTUML\" --view=\"Default\" \"AliasImport\""
   ]
  },
  {
   "cell_type": "code",
   "execution_count": 31,
   "id": "eee400c7",
   "metadata": {
    "execution": {
     "iopub.execute_input": "2022-03-21T07:53:03.238445Z",
     "iopub.status.busy": "2022-03-21T07:53:03.237825Z",
     "iopub.status.idle": "2022-03-21T07:53:03.263822Z",
     "shell.execute_reply": "2022-03-21T07:53:03.263418Z"
    }
   },
   "outputs": [
    {
     "data": {
      "image/svg+xml": [
       "<?xml version=\"1.0\" encoding=\"UTF-8\" standalone=\"no\"?><svg xmlns=\"http://www.w3.org/2000/svg\" xmlns:xlink=\"http://www.w3.org/1999/xlink\" contentScriptType=\"application/ecmascript\" contentStyleType=\"text/css\" height=\"354px\" preserveAspectRatio=\"none\" style=\"width:301px;height:354px;\" version=\"1.1\" viewBox=\"0 0 301 354\" width=\"301px\" zoomAndPan=\"magnify\"><defs><filter height=\"300%\" id=\"f1sebv09rn7pm4\" width=\"300%\" x=\"-1\" y=\"-1\"><feGaussianBlur result=\"blurOut\" stdDeviation=\"2.0\"/><feColorMatrix in=\"blurOut\" result=\"blurOut2\" type=\"matrix\" values=\"0 0 0 0 0 0 0 0 0 0 0 0 0 0 0 0 0 0 .4 0\"/><feOffset dx=\"4.0\" dy=\"4.0\" in=\"blurOut2\" result=\"blurOut3\"/><feBlend in=\"SourceGraphic\" in2=\"blurOut3\" mode=\"normal\"/></filter></defs><g><!--MD5=[fbc87193dbaf4d95561dea2c320d4a47]\n",
       "cluster E1--><a href=\"psysml:a585b742-f262-46cd-b94a-c90c9e84789e\" target=\"_top\" title=\"psysml:a585b742-f262-46cd-b94a-c90c9e84789e\" xlink:actuate=\"onRequest\" xlink:href=\"psysml:a585b742-f262-46cd-b94a-c90c9e84789e\" xlink:show=\"new\" xlink:title=\"psysml:a585b742-f262-46cd-b94a-c90c9e84789e\" xlink:type=\"simple\"><polygon fill=\"#FFFFFF\" filter=\"url(#f1sebv09rn7pm4)\" points=\"16,6,97,6,104,28.2969,279,28.2969,279,342,16,342,16,6\" style=\"stroke: #000000; stroke-width: 1.5;\"/><line style=\"stroke: #000000; stroke-width: 1.5;\" x1=\"16\" x2=\"104\" y1=\"28.2969\" y2=\"28.2969\"/><text fill=\"#000000\" font-family=\"sans-serif\" font-size=\"14\" font-weight=\"bold\" lengthAdjust=\"spacingAndGlyphs\" textLength=\"75\" x=\"20\" y=\"20.9951\">AliasImport</text></a><!--MD5=[e4f7fae6ed58524ba242bb0b0d3be6b7]\n",
       "cluster E2--><a href=\"psysml:336f27c4-53da-4ebc-95bd-6f6303678a10\" target=\"_top\" title=\"psysml:336f27c4-53da-4ebc-95bd-6f6303678a10\" xlink:actuate=\"onRequest\" xlink:href=\"psysml:336f27c4-53da-4ebc-95bd-6f6303678a10\" xlink:show=\"new\" xlink:title=\"psysml:336f27c4-53da-4ebc-95bd-6f6303678a10\" xlink:type=\"simple\"><polygon fill=\"#FFFFFF\" filter=\"url(#f1sebv09rn7pm4)\" points=\"68,227,147,227,154,249.2969,178,249.2969,178,318,68,318,68,227\" style=\"stroke: #000000; stroke-width: 1.5;\"/><line style=\"stroke: #000000; stroke-width: 1.5;\" x1=\"68\" x2=\"154\" y1=\"249.2969\" y2=\"249.2969\"/><text fill=\"#000000\" font-family=\"sans-serif\" font-size=\"14\" font-weight=\"bold\" lengthAdjust=\"spacingAndGlyphs\" textLength=\"73\" x=\"72\" y=\"241.9951\">Definitions</text></a><!--MD5=[f6df4d0ebaf0b5dfb2ced0ae5af7c670]\n",
       "cluster E4--><a href=\"psysml:1c99181b-1c33-4a44-b1a9-f0fa19d834f2\" target=\"_top\" title=\"psysml:1c99181b-1c33-4a44-b1a9-f0fa19d834f2\" xlink:actuate=\"onRequest\" xlink:href=\"psysml:1c99181b-1c33-4a44-b1a9-f0fa19d834f2\" xlink:show=\"new\" xlink:title=\"psysml:1c99181b-1c33-4a44-b1a9-f0fa19d834f2\" xlink:type=\"simple\"><polygon fill=\"#FFFFFF\" filter=\"url(#f1sebv09rn7pm4)\" points=\"48,57,106,57,113,79.2969,247,79.2969,247,170,48,170,48,57\" style=\"stroke: #000000; stroke-width: 1.5;\"/><line style=\"stroke: #000000; stroke-width: 1.5;\" x1=\"48\" x2=\"113\" y1=\"79.2969\" y2=\"79.2969\"/><text fill=\"#000000\" font-family=\"sans-serif\" font-size=\"14\" font-weight=\"bold\" lengthAdjust=\"spacingAndGlyphs\" textLength=\"52\" x=\"52\" y=\"71.9951\">Usages</text></a><!--MD5=[09b614a08d8cba4a07c9adeb5e0fee81]\n",
       "class E3--><a href=\"psysml:e00f8094-2dc0-4541-ab70-7f0589b02177\" target=\"_top\" title=\"psysml:e00f8094-2dc0-4541-ab70-7f0589b02177\" xlink:actuate=\"onRequest\" xlink:href=\"psysml:e00f8094-2dc0-4541-ab70-7f0589b02177\" xlink:show=\"new\" xlink:title=\"psysml:e00f8094-2dc0-4541-ab70-7f0589b02177\" xlink:type=\"simple\"><rect fill=\"#FEFECE\" filter=\"url(#f1sebv09rn7pm4)\" height=\"40\" id=\"E3\" style=\"stroke: #A80036; stroke-width: 1.5;\" width=\"77\" x=\"84.5\" y=\"262\"/><ellipse cx=\"99.5\" cy=\"278\" fill=\"#008000\" rx=\"11\" ry=\"11\" style=\"stroke: #A80036; stroke-width: 1.0;\"/><path d=\"M96.375,283 L96.375,272.4063 L99.6094,272.4063 Q101.5156,272.4063 102.4219,273.1563 Q103.3438,273.9063 103.3438,275.0781 Q103.3438,275.7656 102.9531,276.4219 Q102.5781,277.0781 101.8594,277.375 Q102.7188,277.75 103.2344,278.4375 Q103.75,279.125 103.75,279.9375 Q103.75,281.3125 102.7188,282.1563 Q101.7031,283 99.5938,283 L96.375,283 Z M98.2969,276.6406 L99.4531,276.6406 Q100.5781,276.6406 100.9844,276.2656 Q101.4063,275.875 101.4063,275.25 Q101.4063,274.6719 100.9844,274.3125 Q100.5625,273.9531 99.625,273.9531 L98.2969,273.9531 L98.2969,276.6406 Z M98.2969,281.4219 L99.7969,281.4219 Q100.7031,281.4219 101.2344,281.0313 Q101.7656,280.6406 101.7656,279.8906 Q101.7656,279.125 101.2656,278.6563 Q100.7656,278.1719 99.5,278.1719 L98.2969,278.1719 L98.2969,281.4219 Z \"/><text fill=\"#000000\" font-family=\"sans-serif\" font-size=\"12\" lengthAdjust=\"spacingAndGlyphs\" textLength=\"45\" x=\"113.5\" y=\"282.1543\">Vehicle</text><line style=\"stroke: #A80036; stroke-width: 1.5;\" x1=\"85.5\" x2=\"160.5\" y1=\"294\" y2=\"294\"/></a><!--MD5=[270fce915f116d4de14055a7c1d9a0f3]\n",
       "class E5--><a href=\"psysml:9c534076-d85a-4836-b001-6ecd6cbd12fb\" target=\"_top\" title=\"psysml:9c534076-d85a-4836-b001-6ecd6cbd12fb\" xlink:actuate=\"onRequest\" xlink:href=\"psysml:9c534076-d85a-4836-b001-6ecd6cbd12fb\" xlink:show=\"new\" xlink:title=\"psysml:9c534076-d85a-4836-b001-6ecd6cbd12fb\" xlink:type=\"simple\"><rect fill=\"#FEFECE\" filter=\"url(#f1sebv09rn7pm4)\" height=\"45.9375\" id=\"E5\" rx=\"10\" ry=\"10\" style=\"stroke: #A80036; stroke-width: 1.5;\" width=\"132\" x=\"91\" y=\"100\"/><ellipse cx=\"106\" cy=\"118.9688\" fill=\"#32CD32\" rx=\"11\" ry=\"11\" style=\"stroke: #A80036; stroke-width: 1.0;\"/><path d=\"M102.8125,123.9688 L102.8125,113.375 L106.4219,113.375 Q107.6406,113.375 108.4375,113.8125 Q109.2344,114.2344 109.6094,114.9375 Q110,115.6406 110,116.4844 Q110,117.3281 109.625,118.0156 Q109.2656,118.7031 108.4688,119.125 Q107.6875,119.5313 106.5,119.5313 L104.7656,119.5313 L104.7656,123.9688 L102.8125,123.9688 Z M104.7656,117.9375 L106.375,117.9375 Q107.1875,117.9375 107.6094,117.5313 Q108.0313,117.125 108.0313,116.4844 Q108.0313,115.8594 107.6094,115.4531 Q107.1875,115.0469 106.3906,115.0469 L104.7656,115.0469 L104.7656,117.9375 Z \"/><text fill=\"#000000\" font-family=\"sans-serif\" font-size=\"12\" font-style=\"italic\" lengthAdjust=\"spacingAndGlyphs\" textLength=\"40\" x=\"150\" y=\"116.1387\">«part»</text><text fill=\"#000000\" font-family=\"sans-serif\" font-size=\"12\" lengthAdjust=\"spacingAndGlyphs\" textLength=\"96\" x=\"120\" y=\"130.1074\">vehicle: Vehicle</text><line style=\"stroke: #A80036; stroke-width: 1.5;\" x1=\"92\" x2=\"222\" y1=\"137.9375\" y2=\"137.9375\"/></a><!--MD5=[f0cdf4548168e5211fb3a02bf679d63a]\n",
       "link E4 to E3--><a href=\"psysml:754d7efd-e1b6-49fa-9136-3270d64a1ac4\" target=\"_top\" title=\"psysml:754d7efd-e1b6-49fa-9136-3270d64a1ac4\" xlink:actuate=\"onRequest\" xlink:href=\"psysml:754d7efd-e1b6-49fa-9136-3270d64a1ac4\" xlink:show=\"new\" xlink:title=\"psysml:754d7efd-e1b6-49fa-9136-3270d64a1ac4\" xlink:type=\"simple\"><path d=\"M64.7031,170.0373 C64.7389,170.1824 64.7749,170.3277 64.8109,170.4731 C64.9551,171.0548 65.1012,171.6384 65.2493,172.2237 C65.5455,173.3944 65.8496,174.572 66.1615,175.7548 C66.7854,178.1203 67.4411,180.5064 68.1292,182.8989 C70.8819,192.4688 74.155,202.14 78,211 C85.13,227.43 95.91,244.37 105.13,257.46 \" fill=\"none\" id=\"E4-&gt;E3\" style=\"stroke: #A80036; stroke-width: 1.0; stroke-dasharray: 7.0,7.0;\"/><polygon fill=\"#A80036\" points=\"108.19,261.75,106.2042,252.1034,105.2798,257.6842,99.699,256.7598,108.19,261.75\" style=\"stroke: #A80036; stroke-width: 1.0;\"/><text fill=\"#000000\" font-family=\"sans-serif\" font-size=\"13\" lengthAdjust=\"spacingAndGlyphs\" textLength=\"58\" x=\"79\" y=\"207.0669\">«import»</text></a><!--MD5=[e9be52314489bd878ff4c7144b63c9e1]\n",
       "link E5 to E3--><a href=\"psysml:35d55ec3-6fe4-4032-923f-7a8654029377\" target=\"_top\" title=\"psysml:35d55ec3-6fe4-4032-923f-7a8654029377\" xlink:actuate=\"onRequest\" xlink:href=\"psysml:35d55ec3-6fe4-4032-923f-7a8654029377\" xlink:show=\"new\" xlink:title=\"psysml:35d55ec3-6fe4-4032-923f-7a8654029377\" xlink:type=\"simple\"><path d=\"M155.39,146.01 C153.82,163.72 150.92,189.17 146,211 C143.65,221.45 140.37,232.55 137.03,242.76 \" fill=\"none\" id=\"E5-&gt;E3\" style=\"stroke: #A80036; stroke-width: 1.0;\"/><polygon fill=\"#FFFFFF\" points=\"130.35,261.97,129.9691,241.7251,143.1946,246.317,130.35,261.97\" style=\"stroke: #A80036; stroke-width: 1.0;\"/><ellipse cx=\"133.7281\" cy=\"236.9964\" fill=\"#A80036\" rx=\"2\" ry=\"2\" style=\"stroke: #A80036; stroke-width: 1.0;\"/><ellipse cx=\"143.1749\" cy=\"240.2764\" fill=\"#A80036\" rx=\"2\" ry=\"2\" style=\"stroke: #A80036; stroke-width: 1.0;\"/></a><!--MD5=[03a00707a73704b0e12d60927e1e51a0]\n",
       "@startuml\r\n",
       " \r\n",
       "package \"AliasImport\" as E1  [[psysml:a585b742-f262-46cd-b94a-c90c9e84789e ]]  {\r\n",
       "package \"Definitions\" as E2  [[psysml:336f27c4-53da-4ebc-95bd-6f6303678a10 ]]  {\r\n",
       "comp def \"Vehicle\" as E3 << << (B,green) >> [[psysml:e00f8094-2dc0-4541-ab70-7f0589b02177 ]] {\r\n",
       "}\r\n",
       "}\r\n",
       "package \"Usages\" as E4  [[psysml:1c99181b-1c33-4a44-b1a9-f0fa19d834f2 ]]  {\r\n",
       "comp usage \"vehicle: Vehicle \" as E5 << << (P,limegreen) part>> [[psysml:9c534076-d85a-4836-b001-6ecd6cbd12fb ]] {\r\n",
       "}\r\n",
       "}\r\n",
       "}\r\n",
       "E4 ..> E3 [[psysml:754d7efd-e1b6-49fa-9136-3270d64a1ac4 ]] : <<import>>\r\n",
       "E5 - -:|> E3 [[psysml:35d55ec3-6fe4-4032-923f-7a8654029377 ]] \r\n",
       "@enduml\r\n",
       "\n",
       "PlantUML version 1.2020.13(Sat Jun 13 12:26:38 UTC 2020)\n",
       "(EPL source distribution)\n",
       "Java Runtime: OpenJDK Runtime Environment\n",
       "JVM: OpenJDK 64-Bit Server VM\n",
       "Default Encoding: UTF-8\n",
       "Language: en\n",
       "Country: null\n",
       "--></g></svg>"
      ]
     },
     "execution_count": 31,
     "metadata": {},
     "output_type": "execute_result"
    }
   ],
   "source": [
    "%viz --style=\"PLANTUML\" --view=\"Tree\" \"AliasImport\""
   ]
  },
  {
   "cell_type": "code",
   "execution_count": 32,
   "id": "ff40c71d",
   "metadata": {
    "execution": {
     "iopub.execute_input": "2022-03-21T07:53:03.313629Z",
     "iopub.status.busy": "2022-03-21T07:53:03.313039Z",
     "iopub.status.idle": "2022-03-21T07:53:03.409176Z",
     "shell.execute_reply": "2022-03-21T07:53:03.408958Z"
    }
   },
   "outputs": [
    {
     "data": {
      "image/svg+xml": [
       "<?xml version=\"1.0\" encoding=\"UTF-8\" standalone=\"no\"?><svg xmlns=\"http://www.w3.org/2000/svg\" xmlns:xlink=\"http://www.w3.org/1999/xlink\" contentScriptType=\"application/ecmascript\" contentStyleType=\"text/css\" height=\"300px\" preserveAspectRatio=\"none\" style=\"width:603px;height:300px;background:#000000;\" version=\"1.1\" viewBox=\"0 0 603 300\" width=\"603px\" zoomAndPan=\"magnify\"><defs/><g><rect fill=\"#021A00\" height=\"1\" style=\"stroke: #021A00; stroke-width: 1.0;\" width=\"1\" x=\"0\" y=\"0\"/><rect fill=\"#FFFFFF\" height=\"202.8012\" style=\"stroke: #FFFFFF; stroke-width: 1.0;\" width=\"602\" x=\"0\" y=\"0\"/><text fill=\"#000000\" font-family=\"sans-serif\" font-size=\"12\" font-weight=\"bold\" lengthAdjust=\"spacingAndGlyphs\" textLength=\"139\" x=\"5\" y=\"16.1387\">Welcome to PlantUML!</text><text fill=\"#000000\" font-family=\"sans-serif\" font-size=\"12\" lengthAdjust=\"spacingAndGlyphs\" textLength=\"0\" x=\"9\" y=\"30.1074\"/><text fill=\"#000000\" font-family=\"sans-serif\" font-size=\"12\" lengthAdjust=\"spacingAndGlyphs\" textLength=\"293\" x=\"5\" y=\"44.0762\">If you use this software, you accept its license.</text><text fill=\"#000000\" font-family=\"sans-serif\" font-size=\"12\" lengthAdjust=\"spacingAndGlyphs\" textLength=\"107\" x=\"5\" y=\"58.0449\">(details by typing</text><text fill=\"#000000\" font-family=\"monospace\" font-size=\"12\" lengthAdjust=\"spacingAndGlyphs\" textLength=\"42\" x=\"116\" y=\"58.595\">license</text><text fill=\"#000000\" font-family=\"sans-serif\" font-size=\"12\" lengthAdjust=\"spacingAndGlyphs\" textLength=\"56\" x=\"162\" y=\"58.0449\">keyword)</text><text fill=\"#000000\" font-family=\"sans-serif\" font-size=\"12\" lengthAdjust=\"spacingAndGlyphs\" textLength=\"0\" x=\"9\" y=\"72.0137\"/><text fill=\"#000000\" font-family=\"sans-serif\" font-size=\"12\" lengthAdjust=\"spacingAndGlyphs\" textLength=\"283\" x=\"5\" y=\"85.9824\">You can start with a simple UML Diagram like:</text><text fill=\"#000000\" font-family=\"sans-serif\" font-size=\"12\" lengthAdjust=\"spacingAndGlyphs\" textLength=\"0\" x=\"9\" y=\"99.9512\"/><text fill=\"#000000\" font-family=\"monospace\" font-size=\"12\" lengthAdjust=\"spacingAndGlyphs\" textLength=\"102\" x=\"5\" y=\"113.0893\">Bob-&gt;Alice: Hello</text><text fill=\"#000000\" font-family=\"sans-serif\" font-size=\"12\" lengthAdjust=\"spacingAndGlyphs\" textLength=\"0\" x=\"9\" y=\"126.508\"/><text fill=\"#000000\" font-family=\"sans-serif\" font-size=\"12\" lengthAdjust=\"spacingAndGlyphs\" textLength=\"14\" x=\"5\" y=\"140.4768\">Or</text><text fill=\"#000000\" font-family=\"sans-serif\" font-size=\"12\" lengthAdjust=\"spacingAndGlyphs\" textLength=\"0\" x=\"9\" y=\"154.4455\"/><text fill=\"#000000\" font-family=\"monospace\" font-size=\"12\" lengthAdjust=\"spacingAndGlyphs\" textLength=\"78\" x=\"5\" y=\"167.5837\">class Example</text><text fill=\"#000000\" font-family=\"sans-serif\" font-size=\"12\" lengthAdjust=\"spacingAndGlyphs\" textLength=\"0\" x=\"9\" y=\"181.0023\"/><text fill=\"#000000\" font-family=\"sans-serif\" font-size=\"12\" lengthAdjust=\"spacingAndGlyphs\" textLength=\"349\" x=\"5\" y=\"194.9711\">You will find more information about PlantUML syntax on</text><text fill=\"#000000\" font-family=\"sans-serif\" font-size=\"12\" lengthAdjust=\"spacingAndGlyphs\" text-decoration=\"underline\" textLength=\"129\" x=\"358\" y=\"194.9711\">https://plantuml.com</text><image height=\"71\" width=\"80\" x=\"516\" xlink:href=\"data:image/png;base64,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\" y=\"6\"/><rect fill=\"#000000\" height=\"96.4844\" style=\"stroke: #000000; stroke-width: 1.0;\" width=\"602\" x=\"0\" y=\"202.8012\"/><rect fill=\"#33FF02\" height=\"21.2969\" style=\"stroke: #33FF02; stroke-width: 1.0;\" width=\"145\" x=\"5\" y=\"207.8012\"/><text fill=\"#000000\" font-family=\"sans-serif\" font-size=\"14\" font-weight=\"bold\" lengthAdjust=\"spacingAndGlyphs\" textLength=\"143\" x=\"6\" y=\"222.8012\">[From string (line 2) ]</text><text fill=\"#33FF02\" font-family=\"sans-serif\" font-size=\"14\" font-weight=\"bold\" lengthAdjust=\"spacingAndGlyphs\" textLength=\"0\" x=\"9\" y=\"243.0981\"/><text fill=\"#33FF02\" font-family=\"sans-serif\" font-size=\"14\" font-weight=\"bold\" lengthAdjust=\"spacingAndGlyphs\" textLength=\"70\" x=\"5\" y=\"259.3949\">@startuml</text><text fill=\"#33FF02\" font-family=\"sans-serif\" font-size=\"14\" font-weight=\"bold\" lengthAdjust=\"spacingAndGlyphs\" textLength=\"0\" x=\"9\" y=\"275.6918\"/><text fill=\"#FF0000\" font-family=\"sans-serif\" font-size=\"14\" font-weight=\"bold\" lengthAdjust=\"spacingAndGlyphs\" textLength=\"124\" x=\"9\" y=\"291.9887\">Empty description</text><!--MD5=[f59edd8218d337f74d0c332fc6737304]\n",
       "@startuml\r\n",
       " \r\n",
       "@enduml\r\n",
       "\n",
       "PlantUML version 1.2020.13(Sat Jun 13 12:26:38 UTC 2020)\n",
       "(EPL source distribution)\n",
       "Java Runtime: OpenJDK Runtime Environment\n",
       "JVM: OpenJDK 64-Bit Server VM\n",
       "Default Encoding: UTF-8\n",
       "Language: en\n",
       "Country: null\n",
       "--></g></svg>"
      ]
     },
     "execution_count": 32,
     "metadata": {},
     "output_type": "execute_result"
    }
   ],
   "source": [
    "%viz --style=\"PLANTUML\" --view=\"State\" \"AliasImport\""
   ]
  },
  {
   "cell_type": "code",
   "execution_count": 33,
   "id": "b2efef64",
   "metadata": {
    "execution": {
     "iopub.execute_input": "2022-03-21T07:53:03.459013Z",
     "iopub.status.busy": "2022-03-21T07:53:03.458711Z",
     "iopub.status.idle": "2022-03-21T07:53:03.477819Z",
     "shell.execute_reply": "2022-03-21T07:53:03.477618Z"
    }
   },
   "outputs": [
    {
     "data": {
      "image/svg+xml": [
       "<?xml version=\"1.0\" encoding=\"UTF-8\" standalone=\"no\"?><svg xmlns=\"http://www.w3.org/2000/svg\" xmlns:xlink=\"http://www.w3.org/1999/xlink\" contentScriptType=\"application/ecmascript\" contentStyleType=\"text/css\" height=\"348px\" preserveAspectRatio=\"none\" style=\"width:317px;height:348px;\" version=\"1.1\" viewBox=\"0 0 317 348\" width=\"317px\" zoomAndPan=\"magnify\"><defs><filter height=\"300%\" id=\"f1a3kkefjwzw2d\" width=\"300%\" x=\"-1\" y=\"-1\"><feGaussianBlur result=\"blurOut\" stdDeviation=\"2.0\"/><feColorMatrix in=\"blurOut\" result=\"blurOut2\" type=\"matrix\" values=\"0 0 0 0 0 0 0 0 0 0 0 0 0 0 0 0 0 0 .4 0\"/><feOffset dx=\"4.0\" dy=\"4.0\" in=\"blurOut2\" result=\"blurOut3\"/><feBlend in=\"SourceGraphic\" in2=\"blurOut3\" mode=\"normal\"/></filter></defs><g><!--MD5=[fbc87193dbaf4d95561dea2c320d4a47]\n",
       "cluster E1--><a href=\"psysml:a585b742-f262-46cd-b94a-c90c9e84789e\" target=\"_top\" title=\"psysml:a585b742-f262-46cd-b94a-c90c9e84789e\" xlink:actuate=\"onRequest\" xlink:href=\"psysml:a585b742-f262-46cd-b94a-c90c9e84789e\" xlink:show=\"new\" xlink:title=\"psysml:a585b742-f262-46cd-b94a-c90c9e84789e\" xlink:type=\"simple\"><polygon fill=\"#FFFFFF\" filter=\"url(#f1a3kkefjwzw2d)\" points=\"16,6,97,6,104,28.2969,295,28.2969,295,336,16,336,16,6\" style=\"stroke: #000000; stroke-width: 1.5;\"/><line style=\"stroke: #000000; stroke-width: 1.5;\" x1=\"16\" x2=\"104\" y1=\"28.2969\" y2=\"28.2969\"/><text fill=\"#000000\" font-family=\"sans-serif\" font-size=\"14\" font-weight=\"bold\" lengthAdjust=\"spacingAndGlyphs\" textLength=\"75\" x=\"20\" y=\"20.9951\">AliasImport</text></a><!--MD5=[e4f7fae6ed58524ba242bb0b0d3be6b7]\n",
       "cluster E2--><a href=\"psysml:336f27c4-53da-4ebc-95bd-6f6303678a10\" target=\"_top\" title=\"psysml:336f27c4-53da-4ebc-95bd-6f6303678a10\" xlink:actuate=\"onRequest\" xlink:href=\"psysml:336f27c4-53da-4ebc-95bd-6f6303678a10\" xlink:show=\"new\" xlink:title=\"psysml:336f27c4-53da-4ebc-95bd-6f6303678a10\" xlink:type=\"simple\"><polygon fill=\"#FFFFFF\" filter=\"url(#f1a3kkefjwzw2d)\" points=\"40,221,119,221,126,243.2969,271,243.2969,271,312,40,312,40,221\" style=\"stroke: #000000; stroke-width: 1.5;\"/><line style=\"stroke: #000000; stroke-width: 1.5;\" x1=\"40\" x2=\"126\" y1=\"243.2969\" y2=\"243.2969\"/><text fill=\"#000000\" font-family=\"sans-serif\" font-size=\"14\" font-weight=\"bold\" lengthAdjust=\"spacingAndGlyphs\" textLength=\"73\" x=\"44\" y=\"235.9951\">Definitions</text></a><!--MD5=[de5ec2e2e8f62f467e546659f5068c88]\n",
       "cluster E5--><a href=\"psysml:1c99181b-1c33-4a44-b1a9-f0fa19d834f2\" target=\"_top\" title=\"psysml:1c99181b-1c33-4a44-b1a9-f0fa19d834f2\" xlink:actuate=\"onRequest\" xlink:href=\"psysml:1c99181b-1c33-4a44-b1a9-f0fa19d834f2\" xlink:show=\"new\" xlink:title=\"psysml:1c99181b-1c33-4a44-b1a9-f0fa19d834f2\" xlink:type=\"simple\"><polygon fill=\"#FFFFFF\" filter=\"url(#f1a3kkefjwzw2d)\" points=\"62,57,120,57,127,79.2969,263,79.2969,263,164,62,164,62,57\" style=\"stroke: #000000; stroke-width: 1.5;\"/><line style=\"stroke: #000000; stroke-width: 1.5;\" x1=\"62\" x2=\"127\" y1=\"79.2969\" y2=\"79.2969\"/><text fill=\"#000000\" font-family=\"sans-serif\" font-size=\"14\" font-weight=\"bold\" lengthAdjust=\"spacingAndGlyphs\" textLength=\"52\" x=\"66\" y=\"71.9951\">Usages</text></a><g id=\"E1.E2.E3\"><a href=\"psysml:e00f8094-2dc0-4541-ab70-7f0589b02177\" target=\"_top\" title=\"psysml:e00f8094-2dc0-4541-ab70-7f0589b02177\" xlink:actuate=\"onRequest\" xlink:href=\"psysml:e00f8094-2dc0-4541-ab70-7f0589b02177\" xlink:show=\"new\" xlink:title=\"psysml:e00f8094-2dc0-4541-ab70-7f0589b02177\" xlink:type=\"simple\"><rect fill=\"#FEFECE\" filter=\"url(#f1a3kkefjwzw2d)\" height=\"40\" id=\"E3\" style=\"stroke: #A80036; stroke-width: 1.5;\" width=\"82\" x=\"173\" y=\"256\"/><ellipse cx=\"190.25\" cy=\"272\" fill=\"#008000\" rx=\"11\" ry=\"11\" style=\"stroke: #A80036; stroke-width: 1.0;\"/><path d=\"M187.125,277 L187.125,266.4063 L190.3594,266.4063 Q192.2656,266.4063 193.1719,267.1563 Q194.0938,267.9063 194.0938,269.0781 Q194.0938,269.7656 193.7031,270.4219 Q193.3281,271.0781 192.6094,271.375 Q193.4688,271.75 193.9844,272.4375 Q194.5,273.125 194.5,273.9375 Q194.5,275.3125 193.4688,276.1563 Q192.4531,277 190.3438,277 L187.125,277 Z M189.0469,270.6406 L190.2031,270.6406 Q191.3281,270.6406 191.7344,270.2656 Q192.1563,269.875 192.1563,269.25 Q192.1563,268.6719 191.7344,268.3125 Q191.3125,267.9531 190.375,267.9531 L189.0469,267.9531 L189.0469,270.6406 Z M189.0469,275.4219 L190.5469,275.4219 Q191.4531,275.4219 191.9844,275.0313 Q192.5156,274.6406 192.5156,273.8906 Q192.5156,273.125 192.0156,272.6563 Q191.5156,272.1719 190.25,272.1719 L189.0469,272.1719 L189.0469,275.4219 Z \"/><text fill=\"#000000\" font-family=\"sans-serif\" font-size=\"12\" lengthAdjust=\"spacingAndGlyphs\" textLength=\"45\" x=\"204.75\" y=\"276.1543\">Vehicle</text></a></g><g id=\"E1.E2.E4\"><a href=\"psysml:e00f8094-2dc0-4541-ab70-7f0589b02177\" target=\"_top\" title=\"psysml:e00f8094-2dc0-4541-ab70-7f0589b02177\" xlink:actuate=\"onRequest\" xlink:href=\"psysml:e00f8094-2dc0-4541-ab70-7f0589b02177\" xlink:show=\"new\" xlink:title=\"psysml:e00f8094-2dc0-4541-ab70-7f0589b02177\" xlink:type=\"simple\"><rect fill=\"#FEFECE\" filter=\"url(#f1a3kkefjwzw2d)\" height=\"40\" id=\"E4\" style=\"stroke: #A80036; stroke-width: 1.5;\" width=\"82\" x=\"56\" y=\"256\"/><ellipse cx=\"73.25\" cy=\"272\" fill=\"#008000\" rx=\"11\" ry=\"11\" style=\"stroke: #A80036; stroke-width: 1.0;\"/><path d=\"M70.125,277 L70.125,266.4063 L73.3594,266.4063 Q75.2656,266.4063 76.1719,267.1563 Q77.0938,267.9063 77.0938,269.0781 Q77.0938,269.7656 76.7031,270.4219 Q76.3281,271.0781 75.6094,271.375 Q76.4688,271.75 76.9844,272.4375 Q77.5,273.125 77.5,273.9375 Q77.5,275.3125 76.4688,276.1563 Q75.4531,277 73.3438,277 L70.125,277 Z M72.0469,270.6406 L73.2031,270.6406 Q74.3281,270.6406 74.7344,270.2656 Q75.1563,269.875 75.1563,269.25 Q75.1563,268.6719 74.7344,268.3125 Q74.3125,267.9531 73.375,267.9531 L72.0469,267.9531 L72.0469,270.6406 Z M72.0469,275.4219 L73.5469,275.4219 Q74.4531,275.4219 74.9844,275.0313 Q75.5156,274.6406 75.5156,273.8906 Q75.5156,273.125 75.0156,272.6563 Q74.5156,272.1719 73.25,272.1719 L72.0469,272.1719 L72.0469,275.4219 Z \"/><text fill=\"#000000\" font-family=\"sans-serif\" font-size=\"12\" lengthAdjust=\"spacingAndGlyphs\" textLength=\"45\" x=\"87.75\" y=\"276.1543\">Vehicle</text></a></g><g id=\"E1.E5.E6\"><a href=\"psysml:9c534076-d85a-4836-b001-6ecd6cbd12fb\" target=\"_top\" title=\"psysml:9c534076-d85a-4836-b001-6ecd6cbd12fb\" xlink:actuate=\"onRequest\" xlink:href=\"psysml:9c534076-d85a-4836-b001-6ecd6cbd12fb\" xlink:show=\"new\" xlink:title=\"psysml:9c534076-d85a-4836-b001-6ecd6cbd12fb\" xlink:type=\"simple\"><rect fill=\"#FEFECE\" filter=\"url(#f1a3kkefjwzw2d)\" height=\"40\" id=\"E6\" rx=\"10\" ry=\"10\" style=\"stroke: #A80036; stroke-width: 1.5;\" width=\"133\" x=\"105.5\" y=\"100\"/><ellipse cx=\"122.75\" cy=\"116\" fill=\"#B6DBBB\" rx=\"11\" ry=\"11\" style=\"stroke: #A80036; stroke-width: 1.0;\"/><path d=\"M122.5,121.4688 Q120.75,121.4688 119.7969,120.4375 Q118.8594,119.3906 118.8594,117.5469 L118.8594,110.6563 L120.9219,110.6563 L120.9219,110.8125 Q120.8281,110.9063 120.7969,111.0469 Q120.7813,111.1719 120.7813,111.4375 L120.7813,117.5625 Q120.7813,118.6563 121.1563,119.2813 Q121.5313,119.9063 122.5156,119.9063 Q123.5,119.9063 123.8906,119.2813 Q124.2813,118.6563 124.2813,117.5156 L124.2813,110.6563 L126.1563,110.6563 L126.1563,117.5 Q126.1563,119.5313 125.125,120.5 Q124.1094,121.4688 122.5,121.4688 Z \"/><text fill=\"#000000\" font-family=\"sans-serif\" font-size=\"12\" lengthAdjust=\"spacingAndGlyphs\" textLength=\"96\" x=\"137.25\" y=\"120.1543\">vehicle: Vehicle</text></a></g><!--MD5=[1c62de2aa5b76f0fb657ff8443a1a700]\n",
       "link E5 to E4--><a href=\"psysml:754d7efd-e1b6-49fa-9136-3270d64a1ac4\" target=\"_top\" title=\"psysml:754d7efd-e1b6-49fa-9136-3270d64a1ac4\" xlink:actuate=\"onRequest\" xlink:href=\"psysml:754d7efd-e1b6-49fa-9136-3270d64a1ac4\" xlink:show=\"new\" xlink:title=\"psysml:754d7efd-e1b6-49fa-9136-3270d64a1ac4\" xlink:type=\"simple\"><path d=\"M77.6388,164.5679 C77.674,164.7689 77.7093,164.9703 77.7447,165.172 C77.8154,165.5755 77.8864,165.9804 77.9576,166.3867 C78.2426,168.0122 78.5315,169.6603 78.8237,171.3275 C83.5,198.0025 89.03,229.55 92.75,250.78 \" fill=\"none\" id=\"E5-&gt;E4\" style=\"stroke: #A80036; stroke-width: 1.0; stroke-dasharray: 7.0,7.0;\"/><polygon fill=\"#A80036\" points=\"93.62,255.74,96.0141,246.1866,92.7609,250.8144,88.1331,247.5612,93.62,255.74\" style=\"stroke: #A80036; stroke-width: 1.0;\"/><text fill=\"#000000\" font-family=\"sans-serif\" font-size=\"13\" lengthAdjust=\"spacingAndGlyphs\" textLength=\"58\" x=\"85\" y=\"201.0669\">«import»</text></a><!--MD5=[f729961a97d3d67d398b98cc0fa07c16]\n",
       "@startuml\r\n",
       "skinparam ranksep 10\r\n",
       "skinparam rectangle {\r\n",
       " backgroundColor<<block>> LightGreen\r\n",
       "}\r\n",
       " \r\n",
       "package \"AliasImport\" as E1  [[psysml:a585b742-f262-46cd-b94a-c90c9e84789e ]]  {\r\n",
       "package \"Definitions\" as E2  [[psysml:336f27c4-53da-4ebc-95bd-6f6303678a10 ]]  {\r\n",
       "rec def \"Vehicle\" as E3 << << (B,green) >> [[psysml:e00f8094-2dc0-4541-ab70-7f0589b02177 ]] {\r\n",
       "}\r\n",
       "rec def \"Vehicle\" as E4 << << (B,green) >> [[psysml:e00f8094-2dc0-4541-ab70-7f0589b02177 ]] {\r\n",
       "}\r\n",
       "}\r\n",
       "package \"Usages\" as E5  [[psysml:1c99181b-1c33-4a44-b1a9-f0fa19d834f2 ]]  {\r\n",
       "rec usage \"vehicle: Vehicle\" as E6  [[psysml:9c534076-d85a-4836-b001-6ecd6cbd12fb ]] {\r\n",
       "}\r\n",
       "}\r\n",
       "}\r\n",
       "E5 ..> E4 [[psysml:754d7efd-e1b6-49fa-9136-3270d64a1ac4 ]] : <<import>>\r\n",
       "@enduml\r\n",
       "\n",
       "PlantUML version 1.2020.13(Sat Jun 13 12:26:38 UTC 2020)\n",
       "(EPL source distribution)\n",
       "Java Runtime: OpenJDK Runtime Environment\n",
       "JVM: OpenJDK 64-Bit Server VM\n",
       "Default Encoding: UTF-8\n",
       "Language: en\n",
       "Country: null\n",
       "--></g></svg>"
      ]
     },
     "execution_count": 33,
     "metadata": {},
     "output_type": "execute_result"
    }
   ],
   "source": [
    "%viz --style=\"PLANTUML\" --view=\"Interconnection\" \"AliasImport\""
   ]
  },
  {
   "cell_type": "code",
   "execution_count": 34,
   "id": "69c06f04",
   "metadata": {
    "execution": {
     "iopub.execute_input": "2022-03-21T07:53:03.527668Z",
     "iopub.status.busy": "2022-03-21T07:53:03.527361Z",
     "iopub.status.idle": "2022-03-21T07:53:03.530471Z",
     "shell.execute_reply": "2022-03-21T07:53:03.530294Z"
    }
   },
   "outputs": [
    {
     "data": {
      "image/svg+xml": [
       "<?xml version=\"1.0\" encoding=\"UTF-8\" standalone=\"no\"?><svg xmlns=\"http://www.w3.org/2000/svg\" xmlns:xlink=\"http://www.w3.org/1999/xlink\" contentScriptType=\"application/ecmascript\" contentStyleType=\"text/css\" height=\"12px\" preserveAspectRatio=\"none\" style=\"width:12px;height:12px;\" version=\"1.1\" viewBox=\"0 0 12 12\" width=\"12px\" zoomAndPan=\"magnify\"><defs/><g><!--MD5=[6a4cb978cab31700e1ce5529f947a75d]\n",
       "@startuml\r\n",
       "skinparam ranksep 8\r\n",
       " \r\n",
       "@enduml\r\n",
       "\n",
       "PlantUML version 1.2020.13(Sat Jun 13 12:26:38 UTC 2020)\n",
       "(EPL source distribution)\n",
       "Java Runtime: OpenJDK Runtime Environment\n",
       "JVM: OpenJDK 64-Bit Server VM\n",
       "Default Encoding: UTF-8\n",
       "Language: en\n",
       "Country: null\n",
       "--></g></svg>"
      ]
     },
     "execution_count": 34,
     "metadata": {},
     "output_type": "execute_result"
    }
   ],
   "source": [
    "%viz --style=\"PLANTUML\" --view=\"Action\" \"AliasImport\""
   ]
  },
  {
   "cell_type": "code",
   "execution_count": 35,
   "id": "4bdad383",
   "metadata": {
    "execution": {
     "iopub.execute_input": "2022-03-21T07:53:03.581679Z",
     "iopub.status.busy": "2022-03-21T07:53:03.581072Z",
     "iopub.status.idle": "2022-03-21T07:53:03.586333Z",
     "shell.execute_reply": "2022-03-21T07:53:03.585993Z"
    }
   },
   "outputs": [
    {
     "data": {
      "image/svg+xml": [
       "<?xml version=\"1.0\" encoding=\"UTF-8\" standalone=\"no\"?><svg xmlns=\"http://www.w3.org/2000/svg\" xmlns:xlink=\"http://www.w3.org/1999/xlink\" contentScriptType=\"application/ecmascript\" contentStyleType=\"text/css\" height=\"12px\" preserveAspectRatio=\"none\" style=\"width:12px;height:12px;\" version=\"1.1\" viewBox=\"0 0 12 12\" width=\"12px\" zoomAndPan=\"magnify\"><defs/><g><!--MD5=[ca4faa0b02def275ea33c14ea7a1a98d]\n",
       "@startuml\r\n",
       "skinparam roundcorner 20\r\n",
       "skinparam BoxPadding 20\r\n",
       "skinparam SequenceBoxBackgroundColor #white\r\n",
       "skinparam style strictuml\r\n",
       "skinparam maxMessageSize 100\r\n",
       " \r\n",
       "@enduml\r\n",
       "\n",
       "PlantUML version 1.2020.13(Sat Jun 13 12:26:38 UTC 2020)\n",
       "(EPL source distribution)\n",
       "Java Runtime: OpenJDK Runtime Environment\n",
       "JVM: OpenJDK 64-Bit Server VM\n",
       "Default Encoding: UTF-8\n",
       "Language: en\n",
       "Country: null\n",
       "--></g></svg>"
      ]
     },
     "execution_count": 35,
     "metadata": {},
     "output_type": "execute_result"
    }
   ],
   "source": [
    "%viz --style=\"PLANTUML\" --view=\"Sequence\" \"AliasImport\""
   ]
  },
  {
   "cell_type": "code",
   "execution_count": 36,
   "id": "340af093",
   "metadata": {
    "execution": {
     "iopub.execute_input": "2022-03-21T07:53:03.637122Z",
     "iopub.status.busy": "2022-03-21T07:53:03.636470Z",
     "iopub.status.idle": "2022-03-21T07:53:03.666648Z",
     "shell.execute_reply": "2022-03-21T07:53:03.666235Z"
    }
   },
   "outputs": [
    {
     "data": {
      "image/svg+xml": [
       "<?xml version=\"1.0\" encoding=\"UTF-8\" standalone=\"no\"?><svg xmlns=\"http://www.w3.org/2000/svg\" xmlns:xlink=\"http://www.w3.org/1999/xlink\" contentScriptType=\"application/ecmascript\" contentStyleType=\"text/css\" height=\"354px\" preserveAspectRatio=\"none\" style=\"width:301px;height:354px;\" version=\"1.1\" viewBox=\"0 0 301 354\" width=\"301px\" zoomAndPan=\"magnify\"><defs><filter height=\"300%\" id=\"f1sebv09rn7pm4\" width=\"300%\" x=\"-1\" y=\"-1\"><feGaussianBlur result=\"blurOut\" stdDeviation=\"2.0\"/><feColorMatrix in=\"blurOut\" result=\"blurOut2\" type=\"matrix\" values=\"0 0 0 0 0 0 0 0 0 0 0 0 0 0 0 0 0 0 .4 0\"/><feOffset dx=\"4.0\" dy=\"4.0\" in=\"blurOut2\" result=\"blurOut3\"/><feBlend in=\"SourceGraphic\" in2=\"blurOut3\" mode=\"normal\"/></filter></defs><g><!--MD5=[fbc87193dbaf4d95561dea2c320d4a47]\n",
       "cluster E1--><a href=\"psysml:a585b742-f262-46cd-b94a-c90c9e84789e\" target=\"_top\" title=\"psysml:a585b742-f262-46cd-b94a-c90c9e84789e\" xlink:actuate=\"onRequest\" xlink:href=\"psysml:a585b742-f262-46cd-b94a-c90c9e84789e\" xlink:show=\"new\" xlink:title=\"psysml:a585b742-f262-46cd-b94a-c90c9e84789e\" xlink:type=\"simple\"><polygon fill=\"#FFFFFF\" filter=\"url(#f1sebv09rn7pm4)\" points=\"16,6,97,6,104,28.2969,279,28.2969,279,342,16,342,16,6\" style=\"stroke: #000000; stroke-width: 1.5;\"/><line style=\"stroke: #000000; stroke-width: 1.5;\" x1=\"16\" x2=\"104\" y1=\"28.2969\" y2=\"28.2969\"/><text fill=\"#000000\" font-family=\"sans-serif\" font-size=\"14\" font-weight=\"bold\" lengthAdjust=\"spacingAndGlyphs\" textLength=\"75\" x=\"20\" y=\"20.9951\">AliasImport</text></a><!--MD5=[e4f7fae6ed58524ba242bb0b0d3be6b7]\n",
       "cluster E2--><a href=\"psysml:336f27c4-53da-4ebc-95bd-6f6303678a10\" target=\"_top\" title=\"psysml:336f27c4-53da-4ebc-95bd-6f6303678a10\" xlink:actuate=\"onRequest\" xlink:href=\"psysml:336f27c4-53da-4ebc-95bd-6f6303678a10\" xlink:show=\"new\" xlink:title=\"psysml:336f27c4-53da-4ebc-95bd-6f6303678a10\" xlink:type=\"simple\"><polygon fill=\"#FFFFFF\" filter=\"url(#f1sebv09rn7pm4)\" points=\"68,227,147,227,154,249.2969,178,249.2969,178,318,68,318,68,227\" style=\"stroke: #000000; stroke-width: 1.5;\"/><line style=\"stroke: #000000; stroke-width: 1.5;\" x1=\"68\" x2=\"154\" y1=\"249.2969\" y2=\"249.2969\"/><text fill=\"#000000\" font-family=\"sans-serif\" font-size=\"14\" font-weight=\"bold\" lengthAdjust=\"spacingAndGlyphs\" textLength=\"73\" x=\"72\" y=\"241.9951\">Definitions</text></a><!--MD5=[f6df4d0ebaf0b5dfb2ced0ae5af7c670]\n",
       "cluster E4--><a href=\"psysml:1c99181b-1c33-4a44-b1a9-f0fa19d834f2\" target=\"_top\" title=\"psysml:1c99181b-1c33-4a44-b1a9-f0fa19d834f2\" xlink:actuate=\"onRequest\" xlink:href=\"psysml:1c99181b-1c33-4a44-b1a9-f0fa19d834f2\" xlink:show=\"new\" xlink:title=\"psysml:1c99181b-1c33-4a44-b1a9-f0fa19d834f2\" xlink:type=\"simple\"><polygon fill=\"#FFFFFF\" filter=\"url(#f1sebv09rn7pm4)\" points=\"48,57,106,57,113,79.2969,247,79.2969,247,170,48,170,48,57\" style=\"stroke: #000000; stroke-width: 1.5;\"/><line style=\"stroke: #000000; stroke-width: 1.5;\" x1=\"48\" x2=\"113\" y1=\"79.2969\" y2=\"79.2969\"/><text fill=\"#000000\" font-family=\"sans-serif\" font-size=\"14\" font-weight=\"bold\" lengthAdjust=\"spacingAndGlyphs\" textLength=\"52\" x=\"52\" y=\"71.9951\">Usages</text></a><!--MD5=[09b614a08d8cba4a07c9adeb5e0fee81]\n",
       "class E3--><a href=\"psysml:e00f8094-2dc0-4541-ab70-7f0589b02177\" target=\"_top\" title=\"psysml:e00f8094-2dc0-4541-ab70-7f0589b02177\" xlink:actuate=\"onRequest\" xlink:href=\"psysml:e00f8094-2dc0-4541-ab70-7f0589b02177\" xlink:show=\"new\" xlink:title=\"psysml:e00f8094-2dc0-4541-ab70-7f0589b02177\" xlink:type=\"simple\"><rect fill=\"#FEFECE\" filter=\"url(#f1sebv09rn7pm4)\" height=\"40\" id=\"E3\" style=\"stroke: #A80036; stroke-width: 1.5;\" width=\"77\" x=\"84.5\" y=\"262\"/><ellipse cx=\"99.5\" cy=\"278\" fill=\"#008000\" rx=\"11\" ry=\"11\" style=\"stroke: #A80036; stroke-width: 1.0;\"/><path d=\"M96.375,283 L96.375,272.4063 L99.6094,272.4063 Q101.5156,272.4063 102.4219,273.1563 Q103.3438,273.9063 103.3438,275.0781 Q103.3438,275.7656 102.9531,276.4219 Q102.5781,277.0781 101.8594,277.375 Q102.7188,277.75 103.2344,278.4375 Q103.75,279.125 103.75,279.9375 Q103.75,281.3125 102.7188,282.1563 Q101.7031,283 99.5938,283 L96.375,283 Z M98.2969,276.6406 L99.4531,276.6406 Q100.5781,276.6406 100.9844,276.2656 Q101.4063,275.875 101.4063,275.25 Q101.4063,274.6719 100.9844,274.3125 Q100.5625,273.9531 99.625,273.9531 L98.2969,273.9531 L98.2969,276.6406 Z M98.2969,281.4219 L99.7969,281.4219 Q100.7031,281.4219 101.2344,281.0313 Q101.7656,280.6406 101.7656,279.8906 Q101.7656,279.125 101.2656,278.6563 Q100.7656,278.1719 99.5,278.1719 L98.2969,278.1719 L98.2969,281.4219 Z \"/><text fill=\"#000000\" font-family=\"sans-serif\" font-size=\"12\" lengthAdjust=\"spacingAndGlyphs\" textLength=\"45\" x=\"113.5\" y=\"282.1543\">Vehicle</text><line style=\"stroke: #A80036; stroke-width: 1.5;\" x1=\"85.5\" x2=\"160.5\" y1=\"294\" y2=\"294\"/></a><!--MD5=[270fce915f116d4de14055a7c1d9a0f3]\n",
       "class E5--><a href=\"psysml:9c534076-d85a-4836-b001-6ecd6cbd12fb\" target=\"_top\" title=\"psysml:9c534076-d85a-4836-b001-6ecd6cbd12fb\" xlink:actuate=\"onRequest\" xlink:href=\"psysml:9c534076-d85a-4836-b001-6ecd6cbd12fb\" xlink:show=\"new\" xlink:title=\"psysml:9c534076-d85a-4836-b001-6ecd6cbd12fb\" xlink:type=\"simple\"><rect fill=\"#FEFECE\" filter=\"url(#f1sebv09rn7pm4)\" height=\"45.9375\" id=\"E5\" rx=\"10\" ry=\"10\" style=\"stroke: #A80036; stroke-width: 1.5;\" width=\"132\" x=\"91\" y=\"100\"/><ellipse cx=\"106\" cy=\"118.9688\" fill=\"#32CD32\" rx=\"11\" ry=\"11\" style=\"stroke: #A80036; stroke-width: 1.0;\"/><path d=\"M102.8125,123.9688 L102.8125,113.375 L106.4219,113.375 Q107.6406,113.375 108.4375,113.8125 Q109.2344,114.2344 109.6094,114.9375 Q110,115.6406 110,116.4844 Q110,117.3281 109.625,118.0156 Q109.2656,118.7031 108.4688,119.125 Q107.6875,119.5313 106.5,119.5313 L104.7656,119.5313 L104.7656,123.9688 L102.8125,123.9688 Z M104.7656,117.9375 L106.375,117.9375 Q107.1875,117.9375 107.6094,117.5313 Q108.0313,117.125 108.0313,116.4844 Q108.0313,115.8594 107.6094,115.4531 Q107.1875,115.0469 106.3906,115.0469 L104.7656,115.0469 L104.7656,117.9375 Z \"/><text fill=\"#000000\" font-family=\"sans-serif\" font-size=\"12\" font-style=\"italic\" lengthAdjust=\"spacingAndGlyphs\" textLength=\"40\" x=\"150\" y=\"116.1387\">«part»</text><text fill=\"#000000\" font-family=\"sans-serif\" font-size=\"12\" lengthAdjust=\"spacingAndGlyphs\" textLength=\"96\" x=\"120\" y=\"130.1074\">vehicle: Vehicle</text><line style=\"stroke: #A80036; stroke-width: 1.5;\" x1=\"92\" x2=\"222\" y1=\"137.9375\" y2=\"137.9375\"/></a><!--MD5=[f0cdf4548168e5211fb3a02bf679d63a]\n",
       "link E4 to E3--><a href=\"psysml:754d7efd-e1b6-49fa-9136-3270d64a1ac4\" target=\"_top\" title=\"psysml:754d7efd-e1b6-49fa-9136-3270d64a1ac4\" xlink:actuate=\"onRequest\" xlink:href=\"psysml:754d7efd-e1b6-49fa-9136-3270d64a1ac4\" xlink:show=\"new\" xlink:title=\"psysml:754d7efd-e1b6-49fa-9136-3270d64a1ac4\" xlink:type=\"simple\"><path d=\"M64.7031,170.0373 C64.7389,170.1824 64.7749,170.3277 64.8109,170.4731 C64.9551,171.0548 65.1012,171.6384 65.2493,172.2237 C65.5455,173.3944 65.8496,174.572 66.1615,175.7548 C66.7854,178.1203 67.4411,180.5064 68.1292,182.8989 C70.8819,192.4688 74.155,202.14 78,211 C85.13,227.43 95.91,244.37 105.13,257.46 \" fill=\"none\" id=\"E4-&gt;E3\" style=\"stroke: #A80036; stroke-width: 1.0; stroke-dasharray: 7.0,7.0;\"/><polygon fill=\"#A80036\" points=\"108.19,261.75,106.2042,252.1034,105.2798,257.6842,99.699,256.7598,108.19,261.75\" style=\"stroke: #A80036; stroke-width: 1.0;\"/><text fill=\"#000000\" font-family=\"sans-serif\" font-size=\"13\" lengthAdjust=\"spacingAndGlyphs\" textLength=\"58\" x=\"79\" y=\"207.0669\">«import»</text></a><!--MD5=[e9be52314489bd878ff4c7144b63c9e1]\n",
       "link E5 to E3--><a href=\"psysml:35d55ec3-6fe4-4032-923f-7a8654029377\" target=\"_top\" title=\"psysml:35d55ec3-6fe4-4032-923f-7a8654029377\" xlink:actuate=\"onRequest\" xlink:href=\"psysml:35d55ec3-6fe4-4032-923f-7a8654029377\" xlink:show=\"new\" xlink:title=\"psysml:35d55ec3-6fe4-4032-923f-7a8654029377\" xlink:type=\"simple\"><path d=\"M155.39,146.01 C153.82,163.72 150.92,189.17 146,211 C143.65,221.45 140.37,232.55 137.03,242.76 \" fill=\"none\" id=\"E5-&gt;E3\" style=\"stroke: #A80036; stroke-width: 1.0;\"/><polygon fill=\"#FFFFFF\" points=\"130.35,261.97,129.9691,241.7251,143.1946,246.317,130.35,261.97\" style=\"stroke: #A80036; stroke-width: 1.0;\"/><ellipse cx=\"133.7281\" cy=\"236.9964\" fill=\"#A80036\" rx=\"2\" ry=\"2\" style=\"stroke: #A80036; stroke-width: 1.0;\"/><ellipse cx=\"143.1749\" cy=\"240.2764\" fill=\"#A80036\" rx=\"2\" ry=\"2\" style=\"stroke: #A80036; stroke-width: 1.0;\"/></a><!--MD5=[03a00707a73704b0e12d60927e1e51a0]\n",
       "@startuml\r\n",
       " \r\n",
       "package \"AliasImport\" as E1  [[psysml:a585b742-f262-46cd-b94a-c90c9e84789e ]]  {\r\n",
       "package \"Definitions\" as E2  [[psysml:336f27c4-53da-4ebc-95bd-6f6303678a10 ]]  {\r\n",
       "comp def \"Vehicle\" as E3 << << (B,green) >> [[psysml:e00f8094-2dc0-4541-ab70-7f0589b02177 ]] {\r\n",
       "}\r\n",
       "}\r\n",
       "package \"Usages\" as E4  [[psysml:1c99181b-1c33-4a44-b1a9-f0fa19d834f2 ]]  {\r\n",
       "comp usage \"vehicle: Vehicle \" as E5 << << (P,limegreen) part>> [[psysml:9c534076-d85a-4836-b001-6ecd6cbd12fb ]] {\r\n",
       "}\r\n",
       "}\r\n",
       "}\r\n",
       "E4 ..> E3 [[psysml:754d7efd-e1b6-49fa-9136-3270d64a1ac4 ]] : <<import>>\r\n",
       "E5 - -:|> E3 [[psysml:35d55ec3-6fe4-4032-923f-7a8654029377 ]] \r\n",
       "@enduml\r\n",
       "\n",
       "PlantUML version 1.2020.13(Sat Jun 13 12:26:38 UTC 2020)\n",
       "(EPL source distribution)\n",
       "Java Runtime: OpenJDK Runtime Environment\n",
       "JVM: OpenJDK 64-Bit Server VM\n",
       "Default Encoding: UTF-8\n",
       "Language: en\n",
       "Country: null\n",
       "--></g></svg>"
      ]
     },
     "execution_count": 36,
     "metadata": {},
     "output_type": "execute_result"
    }
   ],
   "source": [
    "%viz --style=\"PLANTUML\" --view=\"MIXED\" \"AliasImport\""
   ]
  },
  {
   "cell_type": "code",
   "execution_count": 37,
   "id": "fbd3c1ba",
   "metadata": {
    "execution": {
     "iopub.execute_input": "2022-03-21T07:53:03.716187Z",
     "iopub.status.busy": "2022-03-21T07:53:03.715571Z",
     "iopub.status.idle": "2022-03-21T07:53:03.747763Z",
     "shell.execute_reply": "2022-03-21T07:53:03.747367Z"
    }
   },
   "outputs": [
    {
     "data": {
      "image/svg+xml": [
       "<?xml version=\"1.0\" encoding=\"UTF-8\" standalone=\"no\"?><svg xmlns=\"http://www.w3.org/2000/svg\" xmlns:xlink=\"http://www.w3.org/1999/xlink\" contentScriptType=\"application/ecmascript\" contentStyleType=\"text/css\" height=\"360px\" preserveAspectRatio=\"none\" style=\"width:275px;height:360px;\" version=\"1.1\" viewBox=\"0 0 275 360\" width=\"275px\" zoomAndPan=\"magnify\"><defs/><g><!--MD5=[fbc87193dbaf4d95561dea2c320d4a47]\n",
       "cluster E1--><a href=\"psysml:a585b742-f262-46cd-b94a-c90c9e84789e\" target=\"_top\" title=\"psysml:a585b742-f262-46cd-b94a-c90c9e84789e\" xlink:actuate=\"onRequest\" xlink:href=\"psysml:a585b742-f262-46cd-b94a-c90c9e84789e\" xlink:show=\"new\" xlink:title=\"psysml:a585b742-f262-46cd-b94a-c90c9e84789e\" xlink:type=\"simple\"><polygon fill=\"#FFFFFF\" points=\"16,6,97,6,104,28.2969,253,28.2969,253,348,16,348,16,6\" style=\"stroke: #000000; stroke-width: 1.5;\"/><line style=\"stroke: #000000; stroke-width: 1.5;\" x1=\"16\" x2=\"104\" y1=\"28.2969\" y2=\"28.2969\"/><text fill=\"#000000\" font-family=\"sans-serif\" font-size=\"14\" font-weight=\"bold\" lengthAdjust=\"spacingAndGlyphs\" textLength=\"75\" x=\"20\" y=\"20.9951\">AliasImport</text></a><!--MD5=[e4f7fae6ed58524ba242bb0b0d3be6b7]\n",
       "cluster E2--><a href=\"psysml:336f27c4-53da-4ebc-95bd-6f6303678a10\" target=\"_top\" title=\"psysml:336f27c4-53da-4ebc-95bd-6f6303678a10\" xlink:actuate=\"onRequest\" xlink:href=\"psysml:336f27c4-53da-4ebc-95bd-6f6303678a10\" xlink:show=\"new\" xlink:title=\"psysml:336f27c4-53da-4ebc-95bd-6f6303678a10\" xlink:type=\"simple\"><polygon fill=\"#FFFFFF\" points=\"65,227,144,227,151,249.2969,167,249.2969,167,324,65,324,65,227\" style=\"stroke: #000000; stroke-width: 1.5;\"/><line style=\"stroke: #000000; stroke-width: 1.5;\" x1=\"65\" x2=\"151\" y1=\"249.2969\" y2=\"249.2969\"/><text fill=\"#000000\" font-family=\"sans-serif\" font-size=\"14\" font-weight=\"bold\" lengthAdjust=\"spacingAndGlyphs\" textLength=\"73\" x=\"69\" y=\"241.9951\">Definitions</text></a><!--MD5=[f6df4d0ebaf0b5dfb2ced0ae5af7c670]\n",
       "cluster E4--><a href=\"psysml:1c99181b-1c33-4a44-b1a9-f0fa19d834f2\" target=\"_top\" title=\"psysml:1c99181b-1c33-4a44-b1a9-f0fa19d834f2\" xlink:actuate=\"onRequest\" xlink:href=\"psysml:1c99181b-1c33-4a44-b1a9-f0fa19d834f2\" xlink:show=\"new\" xlink:title=\"psysml:1c99181b-1c33-4a44-b1a9-f0fa19d834f2\" xlink:type=\"simple\"><polygon fill=\"#FFFFFF\" points=\"48,57,106,57,113,79.2969,221,79.2969,221,170,48,170,48,57\" style=\"stroke: #000000; stroke-width: 1.5;\"/><line style=\"stroke: #000000; stroke-width: 1.5;\" x1=\"48\" x2=\"113\" y1=\"79.2969\" y2=\"79.2969\"/><text fill=\"#000000\" font-family=\"sans-serif\" font-size=\"14\" font-weight=\"bold\" lengthAdjust=\"spacingAndGlyphs\" textLength=\"52\" x=\"52\" y=\"71.9951\">Usages</text></a><!--MD5=[09b614a08d8cba4a07c9adeb5e0fee81]\n",
       "class E3--><a href=\"psysml:e00f8094-2dc0-4541-ab70-7f0589b02177\" target=\"_top\" title=\"psysml:e00f8094-2dc0-4541-ab70-7f0589b02177\" xlink:actuate=\"onRequest\" xlink:href=\"psysml:e00f8094-2dc0-4541-ab70-7f0589b02177\" xlink:show=\"new\" xlink:title=\"psysml:e00f8094-2dc0-4541-ab70-7f0589b02177\" xlink:type=\"simple\"><rect fill=\"#FFFFFF\" height=\"45.9375\" id=\"E3\" style=\"stroke: #383838; stroke-width: 1.5;\" width=\"70\" x=\"81\" y=\"262\"/><text fill=\"#000000\" font-family=\"sans-serif\" font-size=\"12\" font-style=\"italic\" lengthAdjust=\"spacingAndGlyphs\" textLength=\"68\" x=\"82\" y=\"278.1387\">«part  def»</text><text fill=\"#000000\" font-family=\"sans-serif\" font-size=\"12\" lengthAdjust=\"spacingAndGlyphs\" textLength=\"45\" x=\"93.5\" y=\"292.1074\">Vehicle</text><line style=\"stroke: #383838; stroke-width: 1.5;\" x1=\"82\" x2=\"150\" y1=\"299.9375\" y2=\"299.9375\"/></a><!--MD5=[270fce915f116d4de14055a7c1d9a0f3]\n",
       "class E5--><a href=\"psysml:9c534076-d85a-4836-b001-6ecd6cbd12fb\" target=\"_top\" title=\"psysml:9c534076-d85a-4836-b001-6ecd6cbd12fb\" xlink:actuate=\"onRequest\" xlink:href=\"psysml:9c534076-d85a-4836-b001-6ecd6cbd12fb\" xlink:show=\"new\" xlink:title=\"psysml:9c534076-d85a-4836-b001-6ecd6cbd12fb\" xlink:type=\"simple\"><rect fill=\"#FFFFFF\" height=\"45.9375\" id=\"E5\" rx=\"10\" ry=\"10\" style=\"stroke: #383838; stroke-width: 1.5;\" width=\"106\" x=\"91\" y=\"100\"/><text fill=\"#000000\" font-family=\"sans-serif\" font-size=\"12\" font-style=\"italic\" lengthAdjust=\"spacingAndGlyphs\" textLength=\"40\" x=\"124\" y=\"116.1387\">«part»</text><text fill=\"#000000\" font-family=\"sans-serif\" font-size=\"12\" lengthAdjust=\"spacingAndGlyphs\" textLength=\"96\" x=\"94\" y=\"130.1074\">vehicle: Vehicle</text><line style=\"stroke: #383838; stroke-width: 1.5;\" x1=\"92\" x2=\"196\" y1=\"137.9375\" y2=\"137.9375\"/></a><!--MD5=[f0cdf4548168e5211fb3a02bf679d63a]\n",
       "link E4 to E3--><a href=\"psysml:754d7efd-e1b6-49fa-9136-3270d64a1ac4\" target=\"_top\" title=\"psysml:754d7efd-e1b6-49fa-9136-3270d64a1ac4\" xlink:actuate=\"onRequest\" xlink:href=\"psysml:754d7efd-e1b6-49fa-9136-3270d64a1ac4\" xlink:show=\"new\" xlink:title=\"psysml:754d7efd-e1b6-49fa-9136-3270d64a1ac4\" xlink:type=\"simple\"><path d=\"M58.5005,170.0549 C58.5193,170.2001 58.5383,170.3454 58.5574,170.4908 C58.6338,171.0725 58.7124,171.6562 58.7932,172.2415 C58.9548,173.4122 59.1253,174.5898 59.3052,175.7725 C59.6651,178.1379 60.0625,180.5238 60.5014,182.9158 C62.2569,192.4838 64.675,202.15 68,211 C74.23,227.58 84.77,244.23 94.38,257.43 \" fill=\"none\" id=\"E4-&gt;E3\" style=\"stroke: #383838; stroke-width: 1.0; stroke-dasharray: 7.0,7.0;\"/><polygon fill=\"#383838\" points=\"97.6,261.77,95.4384,252.1613,94.616,257.758,89.0193,256.9357,97.6,261.77\" style=\"stroke: #383838; stroke-width: 1.0;\"/><text fill=\"#000000\" font-family=\"sans-serif\" font-size=\"13\" lengthAdjust=\"spacingAndGlyphs\" textLength=\"58\" x=\"69\" y=\"207.0669\">«import»</text></a><!--MD5=[e9be52314489bd878ff4c7144b63c9e1]\n",
       "link E5 to E3--><a href=\"psysml:35d55ec3-6fe4-4032-923f-7a8654029377\" target=\"_top\" title=\"psysml:35d55ec3-6fe4-4032-923f-7a8654029377\" xlink:actuate=\"onRequest\" xlink:href=\"psysml:35d55ec3-6fe4-4032-923f-7a8654029377\" xlink:show=\"new\" xlink:title=\"psysml:35d55ec3-6fe4-4032-923f-7a8654029377\" xlink:type=\"simple\"><path d=\"M143.03,146.32 C142,163.98 139.95,189.21 136,211 C134.13,221.29 131.49,232.23 128.74,242.43 \" fill=\"none\" id=\"E5-&gt;E3\" style=\"stroke: #383838; stroke-width: 1.0;\"/><polygon fill=\"#FFFFFF\" points=\"123.15,261.87,121.6727,241.6755,135.1276,245.544,123.15,261.87\" style=\"stroke: #383838; stroke-width: 1.0;\"/><ellipse cx=\"125.1699\" cy=\"236.7501\" fill=\"#383838\" rx=\"2\" ry=\"2\" style=\"stroke: #383838; stroke-width: 1.0;\"/><ellipse cx=\"134.7805\" cy=\"239.5133\" fill=\"#383838\" rx=\"2\" ry=\"2\" style=\"stroke: #383838; stroke-width: 1.0;\"/></a><!--MD5=[6234348c01281f1c658da60a8a536d6a]\n",
       "@startuml\r\n",
       "skinparam monochrome true\r\n",
       "skinparam classbackgroundcolor white\r\n",
       "skinparam shadowing false\r\n",
       "skinparam wrapWidth 300\r\n",
       "hide circle\r\n",
       "\r\n",
       "package \"AliasImport\" as E1  [[psysml:a585b742-f262-46cd-b94a-c90c9e84789e ]]  {\r\n",
       "package \"Definitions\" as E2  [[psysml:336f27c4-53da-4ebc-95bd-6f6303678a10 ]]  {\r\n",
       "comp def \"Vehicle\" as E3  <<(T,blue) part  def>> [[psysml:e00f8094-2dc0-4541-ab70-7f0589b02177 ]] {\r\n",
       "}\r\n",
       "}\r\n",
       "package \"Usages\" as E4  [[psysml:1c99181b-1c33-4a44-b1a9-f0fa19d834f2 ]]  {\r\n",
       "comp usage \"vehicle: Vehicle \" as E5  <<(T,blue) part>> [[psysml:9c534076-d85a-4836-b001-6ecd6cbd12fb ]] {\r\n",
       "}\r\n",
       "}\r\n",
       "}\r\n",
       "E4 ..> E3 [[psysml:754d7efd-e1b6-49fa-9136-3270d64a1ac4 ]] : <<import>>\r\n",
       "E5 - -:|> E3 [[psysml:35d55ec3-6fe4-4032-923f-7a8654029377 ]] \r\n",
       "@enduml\r\n",
       "\n",
       "PlantUML version 1.2020.13(Sat Jun 13 12:26:38 UTC 2020)\n",
       "(EPL source distribution)\n",
       "Java Runtime: OpenJDK Runtime Environment\n",
       "JVM: OpenJDK 64-Bit Server VM\n",
       "Default Encoding: UTF-8\n",
       "Language: en\n",
       "Country: null\n",
       "--></g></svg>"
      ]
     },
     "execution_count": 37,
     "metadata": {},
     "output_type": "execute_result"
    }
   ],
   "source": [
    "%viz --style=\"DEFAULT\" --view=\"Default\" \"AliasImport\""
   ]
  },
  {
   "cell_type": "code",
   "execution_count": 38,
   "id": "aa5c9109",
   "metadata": {
    "execution": {
     "iopub.execute_input": "2022-03-21T07:53:03.797688Z",
     "iopub.status.busy": "2022-03-21T07:53:03.797066Z",
     "iopub.status.idle": "2022-03-21T07:53:03.833839Z",
     "shell.execute_reply": "2022-03-21T07:53:03.833451Z"
    }
   },
   "outputs": [
    {
     "data": {
      "image/svg+xml": [
       "<?xml version=\"1.0\" encoding=\"UTF-8\" standalone=\"no\"?><svg xmlns=\"http://www.w3.org/2000/svg\" xmlns:xlink=\"http://www.w3.org/1999/xlink\" contentScriptType=\"application/ecmascript\" contentStyleType=\"text/css\" height=\"360px\" preserveAspectRatio=\"none\" style=\"width:275px;height:360px;\" version=\"1.1\" viewBox=\"0 0 275 360\" width=\"275px\" zoomAndPan=\"magnify\"><defs/><g><!--MD5=[fbc87193dbaf4d95561dea2c320d4a47]\n",
       "cluster E1--><a href=\"psysml:a585b742-f262-46cd-b94a-c90c9e84789e\" target=\"_top\" title=\"psysml:a585b742-f262-46cd-b94a-c90c9e84789e\" xlink:actuate=\"onRequest\" xlink:href=\"psysml:a585b742-f262-46cd-b94a-c90c9e84789e\" xlink:show=\"new\" xlink:title=\"psysml:a585b742-f262-46cd-b94a-c90c9e84789e\" xlink:type=\"simple\"><polygon fill=\"#FFFFFF\" points=\"16,6,97,6,104,28.2969,253,28.2969,253,348,16,348,16,6\" style=\"stroke: #000000; stroke-width: 1.5;\"/><line style=\"stroke: #000000; stroke-width: 1.5;\" x1=\"16\" x2=\"104\" y1=\"28.2969\" y2=\"28.2969\"/><text fill=\"#000000\" font-family=\"sans-serif\" font-size=\"14\" font-weight=\"bold\" lengthAdjust=\"spacingAndGlyphs\" textLength=\"75\" x=\"20\" y=\"20.9951\">AliasImport</text></a><!--MD5=[e4f7fae6ed58524ba242bb0b0d3be6b7]\n",
       "cluster E2--><a href=\"psysml:336f27c4-53da-4ebc-95bd-6f6303678a10\" target=\"_top\" title=\"psysml:336f27c4-53da-4ebc-95bd-6f6303678a10\" xlink:actuate=\"onRequest\" xlink:href=\"psysml:336f27c4-53da-4ebc-95bd-6f6303678a10\" xlink:show=\"new\" xlink:title=\"psysml:336f27c4-53da-4ebc-95bd-6f6303678a10\" xlink:type=\"simple\"><polygon fill=\"#FFFFFF\" points=\"65,227,144,227,151,249.2969,167,249.2969,167,324,65,324,65,227\" style=\"stroke: #000000; stroke-width: 1.5;\"/><line style=\"stroke: #000000; stroke-width: 1.5;\" x1=\"65\" x2=\"151\" y1=\"249.2969\" y2=\"249.2969\"/><text fill=\"#000000\" font-family=\"sans-serif\" font-size=\"14\" font-weight=\"bold\" lengthAdjust=\"spacingAndGlyphs\" textLength=\"73\" x=\"69\" y=\"241.9951\">Definitions</text></a><!--MD5=[f6df4d0ebaf0b5dfb2ced0ae5af7c670]\n",
       "cluster E4--><a href=\"psysml:1c99181b-1c33-4a44-b1a9-f0fa19d834f2\" target=\"_top\" title=\"psysml:1c99181b-1c33-4a44-b1a9-f0fa19d834f2\" xlink:actuate=\"onRequest\" xlink:href=\"psysml:1c99181b-1c33-4a44-b1a9-f0fa19d834f2\" xlink:show=\"new\" xlink:title=\"psysml:1c99181b-1c33-4a44-b1a9-f0fa19d834f2\" xlink:type=\"simple\"><polygon fill=\"#FFFFFF\" points=\"48,57,106,57,113,79.2969,221,79.2969,221,170,48,170,48,57\" style=\"stroke: #000000; stroke-width: 1.5;\"/><line style=\"stroke: #000000; stroke-width: 1.5;\" x1=\"48\" x2=\"113\" y1=\"79.2969\" y2=\"79.2969\"/><text fill=\"#000000\" font-family=\"sans-serif\" font-size=\"14\" font-weight=\"bold\" lengthAdjust=\"spacingAndGlyphs\" textLength=\"52\" x=\"52\" y=\"71.9951\">Usages</text></a><!--MD5=[09b614a08d8cba4a07c9adeb5e0fee81]\n",
       "class E3--><a href=\"psysml:e00f8094-2dc0-4541-ab70-7f0589b02177\" target=\"_top\" title=\"psysml:e00f8094-2dc0-4541-ab70-7f0589b02177\" xlink:actuate=\"onRequest\" xlink:href=\"psysml:e00f8094-2dc0-4541-ab70-7f0589b02177\" xlink:show=\"new\" xlink:title=\"psysml:e00f8094-2dc0-4541-ab70-7f0589b02177\" xlink:type=\"simple\"><rect fill=\"#FFFFFF\" height=\"45.9375\" id=\"E3\" style=\"stroke: #383838; stroke-width: 1.5;\" width=\"70\" x=\"81\" y=\"262\"/><text fill=\"#000000\" font-family=\"sans-serif\" font-size=\"12\" font-style=\"italic\" lengthAdjust=\"spacingAndGlyphs\" textLength=\"68\" x=\"82\" y=\"278.1387\">«part  def»</text><text fill=\"#000000\" font-family=\"sans-serif\" font-size=\"12\" lengthAdjust=\"spacingAndGlyphs\" textLength=\"45\" x=\"93.5\" y=\"292.1074\">Vehicle</text><line style=\"stroke: #383838; stroke-width: 1.5;\" x1=\"82\" x2=\"150\" y1=\"299.9375\" y2=\"299.9375\"/></a><!--MD5=[270fce915f116d4de14055a7c1d9a0f3]\n",
       "class E5--><a href=\"psysml:9c534076-d85a-4836-b001-6ecd6cbd12fb\" target=\"_top\" title=\"psysml:9c534076-d85a-4836-b001-6ecd6cbd12fb\" xlink:actuate=\"onRequest\" xlink:href=\"psysml:9c534076-d85a-4836-b001-6ecd6cbd12fb\" xlink:show=\"new\" xlink:title=\"psysml:9c534076-d85a-4836-b001-6ecd6cbd12fb\" xlink:type=\"simple\"><rect fill=\"#FFFFFF\" height=\"45.9375\" id=\"E5\" rx=\"10\" ry=\"10\" style=\"stroke: #383838; stroke-width: 1.5;\" width=\"106\" x=\"91\" y=\"100\"/><text fill=\"#000000\" font-family=\"sans-serif\" font-size=\"12\" font-style=\"italic\" lengthAdjust=\"spacingAndGlyphs\" textLength=\"40\" x=\"124\" y=\"116.1387\">«part»</text><text fill=\"#000000\" font-family=\"sans-serif\" font-size=\"12\" lengthAdjust=\"spacingAndGlyphs\" textLength=\"96\" x=\"94\" y=\"130.1074\">vehicle: Vehicle</text><line style=\"stroke: #383838; stroke-width: 1.5;\" x1=\"92\" x2=\"196\" y1=\"137.9375\" y2=\"137.9375\"/></a><!--MD5=[f0cdf4548168e5211fb3a02bf679d63a]\n",
       "link E4 to E3--><a href=\"psysml:754d7efd-e1b6-49fa-9136-3270d64a1ac4\" target=\"_top\" title=\"psysml:754d7efd-e1b6-49fa-9136-3270d64a1ac4\" xlink:actuate=\"onRequest\" xlink:href=\"psysml:754d7efd-e1b6-49fa-9136-3270d64a1ac4\" xlink:show=\"new\" xlink:title=\"psysml:754d7efd-e1b6-49fa-9136-3270d64a1ac4\" xlink:type=\"simple\"><path d=\"M58.5005,170.0549 C58.5193,170.2001 58.5383,170.3454 58.5574,170.4908 C58.6338,171.0725 58.7124,171.6562 58.7932,172.2415 C58.9548,173.4122 59.1253,174.5898 59.3052,175.7725 C59.6651,178.1379 60.0625,180.5238 60.5014,182.9158 C62.2569,192.4838 64.675,202.15 68,211 C74.23,227.58 84.77,244.23 94.38,257.43 \" fill=\"none\" id=\"E4-&gt;E3\" style=\"stroke: #383838; stroke-width: 1.0; stroke-dasharray: 7.0,7.0;\"/><polygon fill=\"#383838\" points=\"97.6,261.77,95.4384,252.1613,94.616,257.758,89.0193,256.9357,97.6,261.77\" style=\"stroke: #383838; stroke-width: 1.0;\"/><text fill=\"#000000\" font-family=\"sans-serif\" font-size=\"13\" lengthAdjust=\"spacingAndGlyphs\" textLength=\"58\" x=\"69\" y=\"207.0669\">«import»</text></a><!--MD5=[e9be52314489bd878ff4c7144b63c9e1]\n",
       "link E5 to E3--><a href=\"psysml:35d55ec3-6fe4-4032-923f-7a8654029377\" target=\"_top\" title=\"psysml:35d55ec3-6fe4-4032-923f-7a8654029377\" xlink:actuate=\"onRequest\" xlink:href=\"psysml:35d55ec3-6fe4-4032-923f-7a8654029377\" xlink:show=\"new\" xlink:title=\"psysml:35d55ec3-6fe4-4032-923f-7a8654029377\" xlink:type=\"simple\"><path d=\"M143.03,146.32 C142,163.98 139.95,189.21 136,211 C134.13,221.29 131.49,232.23 128.74,242.43 \" fill=\"none\" id=\"E5-&gt;E3\" style=\"stroke: #383838; stroke-width: 1.0;\"/><polygon fill=\"#FFFFFF\" points=\"123.15,261.87,121.6727,241.6755,135.1276,245.544,123.15,261.87\" style=\"stroke: #383838; stroke-width: 1.0;\"/><ellipse cx=\"125.1699\" cy=\"236.7501\" fill=\"#383838\" rx=\"2\" ry=\"2\" style=\"stroke: #383838; stroke-width: 1.0;\"/><ellipse cx=\"134.7805\" cy=\"239.5133\" fill=\"#383838\" rx=\"2\" ry=\"2\" style=\"stroke: #383838; stroke-width: 1.0;\"/></a><!--MD5=[6234348c01281f1c658da60a8a536d6a]\n",
       "@startuml\r\n",
       "skinparam monochrome true\r\n",
       "skinparam classbackgroundcolor white\r\n",
       "skinparam shadowing false\r\n",
       "skinparam wrapWidth 300\r\n",
       "hide circle\r\n",
       "\r\n",
       "package \"AliasImport\" as E1  [[psysml:a585b742-f262-46cd-b94a-c90c9e84789e ]]  {\r\n",
       "package \"Definitions\" as E2  [[psysml:336f27c4-53da-4ebc-95bd-6f6303678a10 ]]  {\r\n",
       "comp def \"Vehicle\" as E3  <<(T,blue) part  def>> [[psysml:e00f8094-2dc0-4541-ab70-7f0589b02177 ]] {\r\n",
       "}\r\n",
       "}\r\n",
       "package \"Usages\" as E4  [[psysml:1c99181b-1c33-4a44-b1a9-f0fa19d834f2 ]]  {\r\n",
       "comp usage \"vehicle: Vehicle \" as E5  <<(T,blue) part>> [[psysml:9c534076-d85a-4836-b001-6ecd6cbd12fb ]] {\r\n",
       "}\r\n",
       "}\r\n",
       "}\r\n",
       "E4 ..> E3 [[psysml:754d7efd-e1b6-49fa-9136-3270d64a1ac4 ]] : <<import>>\r\n",
       "E5 - -:|> E3 [[psysml:35d55ec3-6fe4-4032-923f-7a8654029377 ]] \r\n",
       "@enduml\r\n",
       "\n",
       "PlantUML version 1.2020.13(Sat Jun 13 12:26:38 UTC 2020)\n",
       "(EPL source distribution)\n",
       "Java Runtime: OpenJDK Runtime Environment\n",
       "JVM: OpenJDK 64-Bit Server VM\n",
       "Default Encoding: UTF-8\n",
       "Language: en\n",
       "Country: null\n",
       "--></g></svg>"
      ]
     },
     "execution_count": 38,
     "metadata": {},
     "output_type": "execute_result"
    }
   ],
   "source": [
    "%viz --style=\"DEFAULT\" --view=\"Tree\" \"AliasImport\""
   ]
  },
  {
   "cell_type": "code",
   "execution_count": 39,
   "id": "a165d224",
   "metadata": {
    "execution": {
     "iopub.execute_input": "2022-03-21T07:53:03.883320Z",
     "iopub.status.busy": "2022-03-21T07:53:03.882907Z",
     "iopub.status.idle": "2022-03-21T07:53:03.887261Z",
     "shell.execute_reply": "2022-03-21T07:53:03.887573Z"
    }
   },
   "outputs": [
    {
     "data": {
      "image/svg+xml": [
       "<?xml version=\"1.0\" encoding=\"UTF-8\" standalone=\"no\"?><svg xmlns=\"http://www.w3.org/2000/svg\" xmlns:xlink=\"http://www.w3.org/1999/xlink\" contentScriptType=\"application/ecmascript\" contentStyleType=\"text/css\" height=\"12px\" preserveAspectRatio=\"none\" style=\"width:12px;height:12px;\" version=\"1.1\" viewBox=\"0 0 12 12\" width=\"12px\" zoomAndPan=\"magnify\"><defs/><g><!--MD5=[c5f280e076d0d61ccf4b0f27871bda1d]\n",
       "@startuml\r\n",
       "skinparam monochrome true\r\n",
       "skinparam classbackgroundcolor white\r\n",
       "skinparam shadowing false\r\n",
       "skinparam wrapWidth 300\r\n",
       "hide circle\r\n",
       "\r\n",
       "@enduml\r\n",
       "\n",
       "PlantUML version 1.2020.13(Sat Jun 13 12:26:38 UTC 2020)\n",
       "(EPL source distribution)\n",
       "Java Runtime: OpenJDK Runtime Environment\n",
       "JVM: OpenJDK 64-Bit Server VM\n",
       "Default Encoding: UTF-8\n",
       "Language: en\n",
       "Country: null\n",
       "--></g></svg>"
      ]
     },
     "execution_count": 39,
     "metadata": {},
     "output_type": "execute_result"
    }
   ],
   "source": [
    "%viz --style=\"DEFAULT\" --view=\"State\" \"AliasImport\""
   ]
  },
  {
   "cell_type": "code",
   "execution_count": 40,
   "id": "f30c0204",
   "metadata": {
    "execution": {
     "iopub.execute_input": "2022-03-21T07:53:03.937641Z",
     "iopub.status.busy": "2022-03-21T07:53:03.937220Z",
     "iopub.status.idle": "2022-03-21T07:53:03.965507Z",
     "shell.execute_reply": "2022-03-21T07:53:03.965113Z"
    }
   },
   "outputs": [
    {
     "data": {
      "image/svg+xml": [
       "<?xml version=\"1.0\" encoding=\"UTF-8\" standalone=\"no\"?><svg xmlns=\"http://www.w3.org/2000/svg\" xmlns:xlink=\"http://www.w3.org/1999/xlink\" contentScriptType=\"application/ecmascript\" contentStyleType=\"text/css\" height=\"351px\" preserveAspectRatio=\"none\" style=\"width:302px;height:351px;\" version=\"1.1\" viewBox=\"0 0 302 351\" width=\"302px\" zoomAndPan=\"magnify\"><defs/><g><!--MD5=[fbc87193dbaf4d95561dea2c320d4a47]\n",
       "cluster E1--><a href=\"psysml:a585b742-f262-46cd-b94a-c90c9e84789e\" target=\"_top\" title=\"psysml:a585b742-f262-46cd-b94a-c90c9e84789e\" xlink:actuate=\"onRequest\" xlink:href=\"psysml:a585b742-f262-46cd-b94a-c90c9e84789e\" xlink:show=\"new\" xlink:title=\"psysml:a585b742-f262-46cd-b94a-c90c9e84789e\" xlink:type=\"simple\"><polygon fill=\"#FFFFFF\" points=\"16,6,97,6,104,28.2969,280,28.2969,280,339,16,339,16,6\" style=\"stroke: #000000; stroke-width: 1.5;\"/><line style=\"stroke: #000000; stroke-width: 1.5;\" x1=\"16\" x2=\"104\" y1=\"28.2969\" y2=\"28.2969\"/><text fill=\"#000000\" font-family=\"sans-serif\" font-size=\"14\" font-weight=\"bold\" lengthAdjust=\"spacingAndGlyphs\" textLength=\"75\" x=\"20\" y=\"20.9951\">AliasImport</text></a><!--MD5=[e4f7fae6ed58524ba242bb0b0d3be6b7]\n",
       "cluster E2--><a href=\"psysml:336f27c4-53da-4ebc-95bd-6f6303678a10\" target=\"_top\" title=\"psysml:336f27c4-53da-4ebc-95bd-6f6303678a10\" xlink:actuate=\"onRequest\" xlink:href=\"psysml:336f27c4-53da-4ebc-95bd-6f6303678a10\" xlink:show=\"new\" xlink:title=\"psysml:336f27c4-53da-4ebc-95bd-6f6303678a10\" xlink:type=\"simple\"><polygon fill=\"#FFFFFF\" points=\"40,221,119,221,126,243.2969,256,243.2969,256,315,40,315,40,221\" style=\"stroke: #000000; stroke-width: 1.5;\"/><line style=\"stroke: #000000; stroke-width: 1.5;\" x1=\"40\" x2=\"126\" y1=\"243.2969\" y2=\"243.2969\"/><text fill=\"#000000\" font-family=\"sans-serif\" font-size=\"14\" font-weight=\"bold\" lengthAdjust=\"spacingAndGlyphs\" textLength=\"73\" x=\"44\" y=\"235.9951\">Definitions</text></a><!--MD5=[de5ec2e2e8f62f467e546659f5068c88]\n",
       "cluster E5--><a href=\"psysml:1c99181b-1c33-4a44-b1a9-f0fa19d834f2\" target=\"_top\" title=\"psysml:1c99181b-1c33-4a44-b1a9-f0fa19d834f2\" xlink:actuate=\"onRequest\" xlink:href=\"psysml:1c99181b-1c33-4a44-b1a9-f0fa19d834f2\" xlink:show=\"new\" xlink:title=\"psysml:1c99181b-1c33-4a44-b1a9-f0fa19d834f2\" xlink:type=\"simple\"><polygon fill=\"#FFFFFF\" points=\"74,57,132,57,139,79.2969,248,79.2969,248,164,74,164,74,57\" style=\"stroke: #000000; stroke-width: 1.5;\"/><line style=\"stroke: #000000; stroke-width: 1.5;\" x1=\"74\" x2=\"139\" y1=\"79.2969\" y2=\"79.2969\"/><text fill=\"#000000\" font-family=\"sans-serif\" font-size=\"14\" font-weight=\"bold\" lengthAdjust=\"spacingAndGlyphs\" textLength=\"52\" x=\"78\" y=\"71.9951\">Usages</text></a><g id=\"E1.E2.E3\"><a href=\"psysml:e00f8094-2dc0-4541-ab70-7f0589b02177\" target=\"_top\" title=\"psysml:e00f8094-2dc0-4541-ab70-7f0589b02177\" xlink:actuate=\"onRequest\" xlink:href=\"psysml:e00f8094-2dc0-4541-ab70-7f0589b02177\" xlink:show=\"new\" xlink:title=\"psysml:e00f8094-2dc0-4541-ab70-7f0589b02177\" xlink:type=\"simple\"><rect fill=\"#FFFFFF\" height=\"42.9375\" id=\"E3\" style=\"stroke: #383838; stroke-width: 1.5;\" width=\"75\" x=\"165.5\" y=\"256\"/><rect fill=\"#F8F8F8\" height=\"37.9375\" style=\"stroke: #383838; stroke-width: 1.5;\" width=\"75\" x=\"165.5\" y=\"256\"/><text fill=\"#000000\" font-family=\"sans-serif\" font-size=\"12\" font-style=\"italic\" lengthAdjust=\"spacingAndGlyphs\" textLength=\"68\" x=\"169\" y=\"272.1387\">«part  def»</text><text fill=\"#000000\" font-family=\"sans-serif\" font-size=\"12\" lengthAdjust=\"spacingAndGlyphs\" textLength=\"45\" x=\"180.5\" y=\"286.1074\">Vehicle</text></a></g><g id=\"E1.E2.E4\"><a href=\"psysml:e00f8094-2dc0-4541-ab70-7f0589b02177\" target=\"_top\" title=\"psysml:e00f8094-2dc0-4541-ab70-7f0589b02177\" xlink:actuate=\"onRequest\" xlink:href=\"psysml:e00f8094-2dc0-4541-ab70-7f0589b02177\" xlink:show=\"new\" xlink:title=\"psysml:e00f8094-2dc0-4541-ab70-7f0589b02177\" xlink:type=\"simple\"><rect fill=\"#FFFFFF\" height=\"42.9375\" id=\"E4\" style=\"stroke: #383838; stroke-width: 1.5;\" width=\"75\" x=\"55.5\" y=\"256\"/><rect fill=\"#F8F8F8\" height=\"37.9375\" style=\"stroke: #383838; stroke-width: 1.5;\" width=\"75\" x=\"55.5\" y=\"256\"/><text fill=\"#000000\" font-family=\"sans-serif\" font-size=\"12\" font-style=\"italic\" lengthAdjust=\"spacingAndGlyphs\" textLength=\"68\" x=\"59\" y=\"272.1387\">«part  def»</text><text fill=\"#000000\" font-family=\"sans-serif\" font-size=\"12\" lengthAdjust=\"spacingAndGlyphs\" textLength=\"45\" x=\"70.5\" y=\"286.1074\">Vehicle</text></a></g><g id=\"E1.E5.E6\"><a href=\"psysml:9c534076-d85a-4836-b001-6ecd6cbd12fb\" target=\"_top\" title=\"psysml:9c534076-d85a-4836-b001-6ecd6cbd12fb\" xlink:actuate=\"onRequest\" xlink:href=\"psysml:9c534076-d85a-4836-b001-6ecd6cbd12fb\" xlink:show=\"new\" xlink:title=\"psysml:9c534076-d85a-4836-b001-6ecd6cbd12fb\" xlink:type=\"simple\"><rect fill=\"#FFFFFF\" height=\"40\" id=\"E6\" rx=\"10\" ry=\"10\" style=\"stroke: #383838; stroke-width: 1.5;\" width=\"107\" x=\"117.5\" y=\"100\"/><rect fill=\"#F8F8F8\" height=\"23.9688\" rx=\"10\" ry=\"10\" style=\"stroke: #F8F8F8; stroke-width: 1.5;\" width=\"107\" x=\"117.5\" y=\"100\"/><rect fill=\"#F8F8F8\" height=\"10\" style=\"stroke: #F8F8F8; stroke-width: 1.5;\" width=\"107\" x=\"117.5\" y=\"113.9688\"/><rect fill=\"none\" height=\"40\" id=\"E6\" rx=\"10\" ry=\"10\" style=\"stroke: #383838; stroke-width: 1.5;\" width=\"107\" x=\"117.5\" y=\"100\"/><text fill=\"#000000\" font-family=\"sans-serif\" font-size=\"12\" lengthAdjust=\"spacingAndGlyphs\" textLength=\"96\" x=\"123\" y=\"116.1387\">vehicle: Vehicle</text></a></g><!--MD5=[1c62de2aa5b76f0fb657ff8443a1a700]\n",
       "link E5 to E4--><a href=\"psysml:754d7efd-e1b6-49fa-9136-3270d64a1ac4\" target=\"_top\" title=\"psysml:754d7efd-e1b6-49fa-9136-3270d64a1ac4\" xlink:actuate=\"onRequest\" xlink:href=\"psysml:754d7efd-e1b6-49fa-9136-3270d64a1ac4\" xlink:show=\"new\" xlink:title=\"psysml:754d7efd-e1b6-49fa-9136-3270d64a1ac4\" xlink:type=\"simple\"><path d=\"M85.0613,164.274 C85.0754,164.474 85.0896,164.6743 85.1038,164.8751 C85.1322,165.2765 85.1608,165.6795 85.1894,166.0839 C85.3039,167.7016 85.42,169.3423 85.5375,171.0025 C87.4175,197.565 89.65,229.1 91.18,250.73 \" fill=\"none\" id=\"E5-&gt;E4\" style=\"stroke: #383838; stroke-width: 1.0; stroke-dasharray: 7.0,7.0;\"/><polygon fill=\"#383838\" points=\"91.54,255.81,94.8867,246.5472,91.1827,250.8228,86.9072,247.1188,91.54,255.81\" style=\"stroke: #383838; stroke-width: 1.0;\"/><text fill=\"#000000\" font-family=\"sans-serif\" font-size=\"13\" lengthAdjust=\"spacingAndGlyphs\" textLength=\"58\" x=\"88\" y=\"201.0669\">«import»</text></a><!--MD5=[274a2ff589e79655230cd382401b035c]\n",
       "@startuml\r\n",
       "skinparam ranksep 10\r\n",
       "skinparam rectangle {\r\n",
       " backgroundColor<<block>> LightGreen\r\n",
       "}\r\n",
       "skinparam monochrome true\r\n",
       "skinparam classbackgroundcolor white\r\n",
       "skinparam shadowing false\r\n",
       "skinparam wrapWidth 300\r\n",
       "hide circle\r\n",
       "\r\n",
       "package \"AliasImport\" as E1  [[psysml:a585b742-f262-46cd-b94a-c90c9e84789e ]]  {\r\n",
       "package \"Definitions\" as E2  [[psysml:336f27c4-53da-4ebc-95bd-6f6303678a10 ]]  {\r\n",
       "rec def \"Vehicle\" as E3  <<(T,blue) part  def>> [[psysml:e00f8094-2dc0-4541-ab70-7f0589b02177 ]] {\r\n",
       "}\r\n",
       "rec def \"Vehicle\" as E4  <<(T,blue) part  def>> [[psysml:e00f8094-2dc0-4541-ab70-7f0589b02177 ]] {\r\n",
       "}\r\n",
       "}\r\n",
       "package \"Usages\" as E5  [[psysml:1c99181b-1c33-4a44-b1a9-f0fa19d834f2 ]]  {\r\n",
       "rec usage \"vehicle: Vehicle\" as E6  [[psysml:9c534076-d85a-4836-b001-6ecd6cbd12fb ]] {\r\n",
       "}\r\n",
       "}\r\n",
       "}\r\n",
       "E5 ..> E4 [[psysml:754d7efd-e1b6-49fa-9136-3270d64a1ac4 ]] : <<import>>\r\n",
       "@enduml\r\n",
       "\n",
       "PlantUML version 1.2020.13(Sat Jun 13 12:26:38 UTC 2020)\n",
       "(EPL source distribution)\n",
       "Java Runtime: OpenJDK Runtime Environment\n",
       "JVM: OpenJDK 64-Bit Server VM\n",
       "Default Encoding: UTF-8\n",
       "Language: en\n",
       "Country: null\n",
       "--></g></svg>"
      ]
     },
     "execution_count": 40,
     "metadata": {},
     "output_type": "execute_result"
    }
   ],
   "source": [
    "%viz --style=\"DEFAULT\" --view=\"Interconnection\" \"AliasImport\""
   ]
  },
  {
   "cell_type": "code",
   "execution_count": 41,
   "id": "89385ad3",
   "metadata": {
    "execution": {
     "iopub.execute_input": "2022-03-21T07:53:04.015059Z",
     "iopub.status.busy": "2022-03-21T07:53:04.014641Z",
     "iopub.status.idle": "2022-03-21T07:53:04.018954Z",
     "shell.execute_reply": "2022-03-21T07:53:04.019250Z"
    }
   },
   "outputs": [
    {
     "data": {
      "image/svg+xml": [
       "<?xml version=\"1.0\" encoding=\"UTF-8\" standalone=\"no\"?><svg xmlns=\"http://www.w3.org/2000/svg\" xmlns:xlink=\"http://www.w3.org/1999/xlink\" contentScriptType=\"application/ecmascript\" contentStyleType=\"text/css\" height=\"12px\" preserveAspectRatio=\"none\" style=\"width:12px;height:12px;\" version=\"1.1\" viewBox=\"0 0 12 12\" width=\"12px\" zoomAndPan=\"magnify\"><defs/><g><!--MD5=[388f21188e31bfdd97050473b19af356]\n",
       "@startuml\r\n",
       "skinparam ranksep 8\r\n",
       "skinparam monochrome true\r\n",
       "skinparam classbackgroundcolor white\r\n",
       "skinparam shadowing false\r\n",
       "skinparam wrapWidth 300\r\n",
       "hide circle\r\n",
       "\r\n",
       "@enduml\r\n",
       "\n",
       "PlantUML version 1.2020.13(Sat Jun 13 12:26:38 UTC 2020)\n",
       "(EPL source distribution)\n",
       "Java Runtime: OpenJDK Runtime Environment\n",
       "JVM: OpenJDK 64-Bit Server VM\n",
       "Default Encoding: UTF-8\n",
       "Language: en\n",
       "Country: null\n",
       "--></g></svg>"
      ]
     },
     "execution_count": 41,
     "metadata": {},
     "output_type": "execute_result"
    }
   ],
   "source": [
    "%viz --style=\"DEFAULT\" --view=\"Action\" \"AliasImport\""
   ]
  },
  {
   "cell_type": "code",
   "execution_count": 42,
   "id": "279404b7",
   "metadata": {
    "execution": {
     "iopub.execute_input": "2022-03-21T07:53:04.069169Z",
     "iopub.status.busy": "2022-03-21T07:53:04.068766Z",
     "iopub.status.idle": "2022-03-21T07:53:04.073266Z",
     "shell.execute_reply": "2022-03-21T07:53:04.073587Z"
    }
   },
   "outputs": [
    {
     "data": {
      "image/svg+xml": [
       "<?xml version=\"1.0\" encoding=\"UTF-8\" standalone=\"no\"?><svg xmlns=\"http://www.w3.org/2000/svg\" xmlns:xlink=\"http://www.w3.org/1999/xlink\" contentScriptType=\"application/ecmascript\" contentStyleType=\"text/css\" height=\"12px\" preserveAspectRatio=\"none\" style=\"width:12px;height:12px;\" version=\"1.1\" viewBox=\"0 0 12 12\" width=\"12px\" zoomAndPan=\"magnify\"><defs/><g><!--MD5=[0b72472770326784bf6c2b53246e1e64]\n",
       "@startuml\r\n",
       "skinparam roundcorner 20\r\n",
       "skinparam BoxPadding 20\r\n",
       "skinparam SequenceBoxBackgroundColor #white\r\n",
       "skinparam style strictuml\r\n",
       "skinparam maxMessageSize 100\r\n",
       "skinparam monochrome true\r\n",
       "skinparam classbackgroundcolor white\r\n",
       "skinparam shadowing false\r\n",
       "skinparam wrapWidth 300\r\n",
       "hide circle\r\n",
       "\r\n",
       "@enduml\r\n",
       "\n",
       "PlantUML version 1.2020.13(Sat Jun 13 12:26:38 UTC 2020)\n",
       "(EPL source distribution)\n",
       "Java Runtime: OpenJDK Runtime Environment\n",
       "JVM: OpenJDK 64-Bit Server VM\n",
       "Default Encoding: UTF-8\n",
       "Language: en\n",
       "Country: null\n",
       "--></g></svg>"
      ]
     },
     "execution_count": 42,
     "metadata": {},
     "output_type": "execute_result"
    }
   ],
   "source": [
    "%viz --style=\"DEFAULT\" --view=\"Sequence\" \"AliasImport\""
   ]
  },
  {
   "cell_type": "code",
   "execution_count": 43,
   "id": "ad5214d6",
   "metadata": {
    "execution": {
     "iopub.execute_input": "2022-03-21T07:53:04.123563Z",
     "iopub.status.busy": "2022-03-21T07:53:04.123160Z",
     "iopub.status.idle": "2022-03-21T07:53:04.150164Z",
     "shell.execute_reply": "2022-03-21T07:53:04.149802Z"
    }
   },
   "outputs": [
    {
     "data": {
      "image/svg+xml": [
       "<?xml version=\"1.0\" encoding=\"UTF-8\" standalone=\"no\"?><svg xmlns=\"http://www.w3.org/2000/svg\" xmlns:xlink=\"http://www.w3.org/1999/xlink\" contentScriptType=\"application/ecmascript\" contentStyleType=\"text/css\" height=\"360px\" preserveAspectRatio=\"none\" style=\"width:275px;height:360px;\" version=\"1.1\" viewBox=\"0 0 275 360\" width=\"275px\" zoomAndPan=\"magnify\"><defs/><g><!--MD5=[fbc87193dbaf4d95561dea2c320d4a47]\n",
       "cluster E1--><a href=\"psysml:a585b742-f262-46cd-b94a-c90c9e84789e\" target=\"_top\" title=\"psysml:a585b742-f262-46cd-b94a-c90c9e84789e\" xlink:actuate=\"onRequest\" xlink:href=\"psysml:a585b742-f262-46cd-b94a-c90c9e84789e\" xlink:show=\"new\" xlink:title=\"psysml:a585b742-f262-46cd-b94a-c90c9e84789e\" xlink:type=\"simple\"><polygon fill=\"#FFFFFF\" points=\"16,6,97,6,104,28.2969,253,28.2969,253,348,16,348,16,6\" style=\"stroke: #000000; stroke-width: 1.5;\"/><line style=\"stroke: #000000; stroke-width: 1.5;\" x1=\"16\" x2=\"104\" y1=\"28.2969\" y2=\"28.2969\"/><text fill=\"#000000\" font-family=\"sans-serif\" font-size=\"14\" font-weight=\"bold\" lengthAdjust=\"spacingAndGlyphs\" textLength=\"75\" x=\"20\" y=\"20.9951\">AliasImport</text></a><!--MD5=[e4f7fae6ed58524ba242bb0b0d3be6b7]\n",
       "cluster E2--><a href=\"psysml:336f27c4-53da-4ebc-95bd-6f6303678a10\" target=\"_top\" title=\"psysml:336f27c4-53da-4ebc-95bd-6f6303678a10\" xlink:actuate=\"onRequest\" xlink:href=\"psysml:336f27c4-53da-4ebc-95bd-6f6303678a10\" xlink:show=\"new\" xlink:title=\"psysml:336f27c4-53da-4ebc-95bd-6f6303678a10\" xlink:type=\"simple\"><polygon fill=\"#FFFFFF\" points=\"65,227,144,227,151,249.2969,167,249.2969,167,324,65,324,65,227\" style=\"stroke: #000000; stroke-width: 1.5;\"/><line style=\"stroke: #000000; stroke-width: 1.5;\" x1=\"65\" x2=\"151\" y1=\"249.2969\" y2=\"249.2969\"/><text fill=\"#000000\" font-family=\"sans-serif\" font-size=\"14\" font-weight=\"bold\" lengthAdjust=\"spacingAndGlyphs\" textLength=\"73\" x=\"69\" y=\"241.9951\">Definitions</text></a><!--MD5=[f6df4d0ebaf0b5dfb2ced0ae5af7c670]\n",
       "cluster E4--><a href=\"psysml:1c99181b-1c33-4a44-b1a9-f0fa19d834f2\" target=\"_top\" title=\"psysml:1c99181b-1c33-4a44-b1a9-f0fa19d834f2\" xlink:actuate=\"onRequest\" xlink:href=\"psysml:1c99181b-1c33-4a44-b1a9-f0fa19d834f2\" xlink:show=\"new\" xlink:title=\"psysml:1c99181b-1c33-4a44-b1a9-f0fa19d834f2\" xlink:type=\"simple\"><polygon fill=\"#FFFFFF\" points=\"48,57,106,57,113,79.2969,221,79.2969,221,170,48,170,48,57\" style=\"stroke: #000000; stroke-width: 1.5;\"/><line style=\"stroke: #000000; stroke-width: 1.5;\" x1=\"48\" x2=\"113\" y1=\"79.2969\" y2=\"79.2969\"/><text fill=\"#000000\" font-family=\"sans-serif\" font-size=\"14\" font-weight=\"bold\" lengthAdjust=\"spacingAndGlyphs\" textLength=\"52\" x=\"52\" y=\"71.9951\">Usages</text></a><!--MD5=[09b614a08d8cba4a07c9adeb5e0fee81]\n",
       "class E3--><a href=\"psysml:e00f8094-2dc0-4541-ab70-7f0589b02177\" target=\"_top\" title=\"psysml:e00f8094-2dc0-4541-ab70-7f0589b02177\" xlink:actuate=\"onRequest\" xlink:href=\"psysml:e00f8094-2dc0-4541-ab70-7f0589b02177\" xlink:show=\"new\" xlink:title=\"psysml:e00f8094-2dc0-4541-ab70-7f0589b02177\" xlink:type=\"simple\"><rect fill=\"#FFFFFF\" height=\"45.9375\" id=\"E3\" style=\"stroke: #383838; stroke-width: 1.5;\" width=\"70\" x=\"81\" y=\"262\"/><text fill=\"#000000\" font-family=\"sans-serif\" font-size=\"12\" font-style=\"italic\" lengthAdjust=\"spacingAndGlyphs\" textLength=\"68\" x=\"82\" y=\"278.1387\">«part  def»</text><text fill=\"#000000\" font-family=\"sans-serif\" font-size=\"12\" lengthAdjust=\"spacingAndGlyphs\" textLength=\"45\" x=\"93.5\" y=\"292.1074\">Vehicle</text><line style=\"stroke: #383838; stroke-width: 1.5;\" x1=\"82\" x2=\"150\" y1=\"299.9375\" y2=\"299.9375\"/></a><!--MD5=[270fce915f116d4de14055a7c1d9a0f3]\n",
       "class E5--><a href=\"psysml:9c534076-d85a-4836-b001-6ecd6cbd12fb\" target=\"_top\" title=\"psysml:9c534076-d85a-4836-b001-6ecd6cbd12fb\" xlink:actuate=\"onRequest\" xlink:href=\"psysml:9c534076-d85a-4836-b001-6ecd6cbd12fb\" xlink:show=\"new\" xlink:title=\"psysml:9c534076-d85a-4836-b001-6ecd6cbd12fb\" xlink:type=\"simple\"><rect fill=\"#FFFFFF\" height=\"45.9375\" id=\"E5\" rx=\"10\" ry=\"10\" style=\"stroke: #383838; stroke-width: 1.5;\" width=\"106\" x=\"91\" y=\"100\"/><text fill=\"#000000\" font-family=\"sans-serif\" font-size=\"12\" font-style=\"italic\" lengthAdjust=\"spacingAndGlyphs\" textLength=\"40\" x=\"124\" y=\"116.1387\">«part»</text><text fill=\"#000000\" font-family=\"sans-serif\" font-size=\"12\" lengthAdjust=\"spacingAndGlyphs\" textLength=\"96\" x=\"94\" y=\"130.1074\">vehicle: Vehicle</text><line style=\"stroke: #383838; stroke-width: 1.5;\" x1=\"92\" x2=\"196\" y1=\"137.9375\" y2=\"137.9375\"/></a><!--MD5=[f0cdf4548168e5211fb3a02bf679d63a]\n",
       "link E4 to E3--><a href=\"psysml:754d7efd-e1b6-49fa-9136-3270d64a1ac4\" target=\"_top\" title=\"psysml:754d7efd-e1b6-49fa-9136-3270d64a1ac4\" xlink:actuate=\"onRequest\" xlink:href=\"psysml:754d7efd-e1b6-49fa-9136-3270d64a1ac4\" xlink:show=\"new\" xlink:title=\"psysml:754d7efd-e1b6-49fa-9136-3270d64a1ac4\" xlink:type=\"simple\"><path d=\"M58.5005,170.0549 C58.5193,170.2001 58.5383,170.3454 58.5574,170.4908 C58.6338,171.0725 58.7124,171.6562 58.7932,172.2415 C58.9548,173.4122 59.1253,174.5898 59.3052,175.7725 C59.6651,178.1379 60.0625,180.5238 60.5014,182.9158 C62.2569,192.4838 64.675,202.15 68,211 C74.23,227.58 84.77,244.23 94.38,257.43 \" fill=\"none\" id=\"E4-&gt;E3\" style=\"stroke: #383838; stroke-width: 1.0; stroke-dasharray: 7.0,7.0;\"/><polygon fill=\"#383838\" points=\"97.6,261.77,95.4384,252.1613,94.616,257.758,89.0193,256.9357,97.6,261.77\" style=\"stroke: #383838; stroke-width: 1.0;\"/><text fill=\"#000000\" font-family=\"sans-serif\" font-size=\"13\" lengthAdjust=\"spacingAndGlyphs\" textLength=\"58\" x=\"69\" y=\"207.0669\">«import»</text></a><!--MD5=[e9be52314489bd878ff4c7144b63c9e1]\n",
       "link E5 to E3--><a href=\"psysml:35d55ec3-6fe4-4032-923f-7a8654029377\" target=\"_top\" title=\"psysml:35d55ec3-6fe4-4032-923f-7a8654029377\" xlink:actuate=\"onRequest\" xlink:href=\"psysml:35d55ec3-6fe4-4032-923f-7a8654029377\" xlink:show=\"new\" xlink:title=\"psysml:35d55ec3-6fe4-4032-923f-7a8654029377\" xlink:type=\"simple\"><path d=\"M143.03,146.32 C142,163.98 139.95,189.21 136,211 C134.13,221.29 131.49,232.23 128.74,242.43 \" fill=\"none\" id=\"E5-&gt;E3\" style=\"stroke: #383838; stroke-width: 1.0;\"/><polygon fill=\"#FFFFFF\" points=\"123.15,261.87,121.6727,241.6755,135.1276,245.544,123.15,261.87\" style=\"stroke: #383838; stroke-width: 1.0;\"/><ellipse cx=\"125.1699\" cy=\"236.7501\" fill=\"#383838\" rx=\"2\" ry=\"2\" style=\"stroke: #383838; stroke-width: 1.0;\"/><ellipse cx=\"134.7805\" cy=\"239.5133\" fill=\"#383838\" rx=\"2\" ry=\"2\" style=\"stroke: #383838; stroke-width: 1.0;\"/></a><!--MD5=[6234348c01281f1c658da60a8a536d6a]\n",
       "@startuml\r\n",
       "skinparam monochrome true\r\n",
       "skinparam classbackgroundcolor white\r\n",
       "skinparam shadowing false\r\n",
       "skinparam wrapWidth 300\r\n",
       "hide circle\r\n",
       "\r\n",
       "package \"AliasImport\" as E1  [[psysml:a585b742-f262-46cd-b94a-c90c9e84789e ]]  {\r\n",
       "package \"Definitions\" as E2  [[psysml:336f27c4-53da-4ebc-95bd-6f6303678a10 ]]  {\r\n",
       "comp def \"Vehicle\" as E3  <<(T,blue) part  def>> [[psysml:e00f8094-2dc0-4541-ab70-7f0589b02177 ]] {\r\n",
       "}\r\n",
       "}\r\n",
       "package \"Usages\" as E4  [[psysml:1c99181b-1c33-4a44-b1a9-f0fa19d834f2 ]]  {\r\n",
       "comp usage \"vehicle: Vehicle \" as E5  <<(T,blue) part>> [[psysml:9c534076-d85a-4836-b001-6ecd6cbd12fb ]] {\r\n",
       "}\r\n",
       "}\r\n",
       "}\r\n",
       "E4 ..> E3 [[psysml:754d7efd-e1b6-49fa-9136-3270d64a1ac4 ]] : <<import>>\r\n",
       "E5 - -:|> E3 [[psysml:35d55ec3-6fe4-4032-923f-7a8654029377 ]] \r\n",
       "@enduml\r\n",
       "\n",
       "PlantUML version 1.2020.13(Sat Jun 13 12:26:38 UTC 2020)\n",
       "(EPL source distribution)\n",
       "Java Runtime: OpenJDK Runtime Environment\n",
       "JVM: OpenJDK 64-Bit Server VM\n",
       "Default Encoding: UTF-8\n",
       "Language: en\n",
       "Country: null\n",
       "--></g></svg>"
      ]
     },
     "execution_count": 43,
     "metadata": {},
     "output_type": "execute_result"
    }
   ],
   "source": [
    "%viz --style=\"DEFAULT\" --view=\"MIXED\" \"AliasImport\""
   ]
  },
  {
   "cell_type": "code",
   "execution_count": 44,
   "id": "71323a20",
   "metadata": {
    "execution": {
     "iopub.execute_input": "2022-03-21T07:53:04.199732Z",
     "iopub.status.busy": "2022-03-21T07:53:04.199327Z",
     "iopub.status.idle": "2022-03-21T07:53:04.223152Z",
     "shell.execute_reply": "2022-03-21T07:53:04.222778Z"
    }
   },
   "outputs": [
    {
     "data": {
      "image/svg+xml": [
       "<?xml version=\"1.0\" encoding=\"UTF-8\" standalone=\"no\"?><svg xmlns=\"http://www.w3.org/2000/svg\" xmlns:xlink=\"http://www.w3.org/1999/xlink\" contentScriptType=\"application/ecmascript\" contentStyleType=\"text/css\" height=\"360px\" preserveAspectRatio=\"none\" style=\"width:275px;height:360px;\" version=\"1.1\" viewBox=\"0 0 275 360\" width=\"275px\" zoomAndPan=\"magnify\"><defs/><g><!--MD5=[fbc87193dbaf4d95561dea2c320d4a47]\n",
       "cluster E1--><a href=\"psysml:a585b742-f262-46cd-b94a-c90c9e84789e\" target=\"_top\" title=\"psysml:a585b742-f262-46cd-b94a-c90c9e84789e\" xlink:actuate=\"onRequest\" xlink:href=\"psysml:a585b742-f262-46cd-b94a-c90c9e84789e\" xlink:show=\"new\" xlink:title=\"psysml:a585b742-f262-46cd-b94a-c90c9e84789e\" xlink:type=\"simple\"><polygon fill=\"#FFFFFF\" points=\"16,6,97,6,104,28.2969,253,28.2969,253,348,16,348,16,6\" style=\"stroke: #000000; stroke-width: 1.5;\"/><line style=\"stroke: #000000; stroke-width: 1.5;\" x1=\"16\" x2=\"104\" y1=\"28.2969\" y2=\"28.2969\"/><text fill=\"#000000\" font-family=\"sans-serif\" font-size=\"14\" font-weight=\"bold\" lengthAdjust=\"spacingAndGlyphs\" textLength=\"75\" x=\"20\" y=\"20.9951\">AliasImport</text></a><!--MD5=[e4f7fae6ed58524ba242bb0b0d3be6b7]\n",
       "cluster E2--><a href=\"psysml:336f27c4-53da-4ebc-95bd-6f6303678a10\" target=\"_top\" title=\"psysml:336f27c4-53da-4ebc-95bd-6f6303678a10\" xlink:actuate=\"onRequest\" xlink:href=\"psysml:336f27c4-53da-4ebc-95bd-6f6303678a10\" xlink:show=\"new\" xlink:title=\"psysml:336f27c4-53da-4ebc-95bd-6f6303678a10\" xlink:type=\"simple\"><polygon fill=\"#FFFFFF\" points=\"65,227,144,227,151,249.2969,167,249.2969,167,324,65,324,65,227\" style=\"stroke: #000000; stroke-width: 1.5;\"/><line style=\"stroke: #000000; stroke-width: 1.5;\" x1=\"65\" x2=\"151\" y1=\"249.2969\" y2=\"249.2969\"/><text fill=\"#000000\" font-family=\"sans-serif\" font-size=\"14\" font-weight=\"bold\" lengthAdjust=\"spacingAndGlyphs\" textLength=\"73\" x=\"69\" y=\"241.9951\">Definitions</text></a><!--MD5=[f6df4d0ebaf0b5dfb2ced0ae5af7c670]\n",
       "cluster E4--><a href=\"psysml:1c99181b-1c33-4a44-b1a9-f0fa19d834f2\" target=\"_top\" title=\"psysml:1c99181b-1c33-4a44-b1a9-f0fa19d834f2\" xlink:actuate=\"onRequest\" xlink:href=\"psysml:1c99181b-1c33-4a44-b1a9-f0fa19d834f2\" xlink:show=\"new\" xlink:title=\"psysml:1c99181b-1c33-4a44-b1a9-f0fa19d834f2\" xlink:type=\"simple\"><polygon fill=\"#FFFFFF\" points=\"48,57,106,57,113,79.2969,221,79.2969,221,170,48,170,48,57\" style=\"stroke: #000000; stroke-width: 1.5;\"/><line style=\"stroke: #000000; stroke-width: 1.5;\" x1=\"48\" x2=\"113\" y1=\"79.2969\" y2=\"79.2969\"/><text fill=\"#000000\" font-family=\"sans-serif\" font-size=\"14\" font-weight=\"bold\" lengthAdjust=\"spacingAndGlyphs\" textLength=\"52\" x=\"52\" y=\"71.9951\">Usages</text></a><!--MD5=[09b614a08d8cba4a07c9adeb5e0fee81]\n",
       "class E3--><a href=\"psysml:e00f8094-2dc0-4541-ab70-7f0589b02177\" target=\"_top\" title=\"psysml:e00f8094-2dc0-4541-ab70-7f0589b02177\" xlink:actuate=\"onRequest\" xlink:href=\"psysml:e00f8094-2dc0-4541-ab70-7f0589b02177\" xlink:show=\"new\" xlink:title=\"psysml:e00f8094-2dc0-4541-ab70-7f0589b02177\" xlink:type=\"simple\"><rect fill=\"#FFFFFF\" height=\"45.9375\" id=\"E3\" style=\"stroke: #383838; stroke-width: 1.5;\" width=\"70\" x=\"81\" y=\"262\"/><text fill=\"#000000\" font-family=\"sans-serif\" font-size=\"12\" font-style=\"italic\" lengthAdjust=\"spacingAndGlyphs\" textLength=\"68\" x=\"82\" y=\"278.1387\">«part  def»</text><text fill=\"#000000\" font-family=\"sans-serif\" font-size=\"12\" lengthAdjust=\"spacingAndGlyphs\" textLength=\"45\" x=\"93.5\" y=\"292.1074\">Vehicle</text><line style=\"stroke: #383838; stroke-width: 1.5;\" x1=\"82\" x2=\"150\" y1=\"299.9375\" y2=\"299.9375\"/></a><!--MD5=[270fce915f116d4de14055a7c1d9a0f3]\n",
       "class E5--><a href=\"psysml:9c534076-d85a-4836-b001-6ecd6cbd12fb\" target=\"_top\" title=\"psysml:9c534076-d85a-4836-b001-6ecd6cbd12fb\" xlink:actuate=\"onRequest\" xlink:href=\"psysml:9c534076-d85a-4836-b001-6ecd6cbd12fb\" xlink:show=\"new\" xlink:title=\"psysml:9c534076-d85a-4836-b001-6ecd6cbd12fb\" xlink:type=\"simple\"><rect fill=\"#FFFFFF\" height=\"45.9375\" id=\"E5\" rx=\"10\" ry=\"10\" style=\"stroke: #383838; stroke-width: 1.5;\" width=\"106\" x=\"91\" y=\"100\"/><text fill=\"#000000\" font-family=\"sans-serif\" font-size=\"12\" font-style=\"italic\" lengthAdjust=\"spacingAndGlyphs\" textLength=\"40\" x=\"124\" y=\"116.1387\">«part»</text><text fill=\"#000000\" font-family=\"sans-serif\" font-size=\"12\" lengthAdjust=\"spacingAndGlyphs\" textLength=\"96\" x=\"94\" y=\"130.1074\">vehicle: Vehicle</text><line style=\"stroke: #383838; stroke-width: 1.5;\" x1=\"92\" x2=\"196\" y1=\"137.9375\" y2=\"137.9375\"/></a><!--MD5=[f0cdf4548168e5211fb3a02bf679d63a]\n",
       "link E4 to E3--><a href=\"psysml:754d7efd-e1b6-49fa-9136-3270d64a1ac4\" target=\"_top\" title=\"psysml:754d7efd-e1b6-49fa-9136-3270d64a1ac4\" xlink:actuate=\"onRequest\" xlink:href=\"psysml:754d7efd-e1b6-49fa-9136-3270d64a1ac4\" xlink:show=\"new\" xlink:title=\"psysml:754d7efd-e1b6-49fa-9136-3270d64a1ac4\" xlink:type=\"simple\"><path d=\"M58.5005,170.0549 C58.5193,170.2001 58.5383,170.3454 58.5574,170.4908 C58.6338,171.0725 58.7124,171.6562 58.7932,172.2415 C58.9548,173.4122 59.1253,174.5898 59.3052,175.7725 C59.6651,178.1379 60.0625,180.5238 60.5014,182.9158 C62.2569,192.4838 64.675,202.15 68,211 C74.23,227.58 84.77,244.23 94.38,257.43 \" fill=\"none\" id=\"E4-&gt;E3\" style=\"stroke: #383838; stroke-width: 1.0; stroke-dasharray: 7.0,7.0;\"/><polygon fill=\"#383838\" points=\"97.6,261.77,95.4384,252.1613,94.616,257.758,89.0193,256.9357,97.6,261.77\" style=\"stroke: #383838; stroke-width: 1.0;\"/><text fill=\"#000000\" font-family=\"sans-serif\" font-size=\"13\" lengthAdjust=\"spacingAndGlyphs\" textLength=\"58\" x=\"69\" y=\"207.0669\">«import»</text></a><!--MD5=[e9be52314489bd878ff4c7144b63c9e1]\n",
       "link E5 to E3--><a href=\"psysml:35d55ec3-6fe4-4032-923f-7a8654029377\" target=\"_top\" title=\"psysml:35d55ec3-6fe4-4032-923f-7a8654029377\" xlink:actuate=\"onRequest\" xlink:href=\"psysml:35d55ec3-6fe4-4032-923f-7a8654029377\" xlink:show=\"new\" xlink:title=\"psysml:35d55ec3-6fe4-4032-923f-7a8654029377\" xlink:type=\"simple\"><path d=\"M143.03,146.32 C142,163.98 139.95,189.21 136,211 C134.13,221.29 131.49,232.23 128.74,242.43 \" fill=\"none\" id=\"E5-&gt;E3\" style=\"stroke: #383838; stroke-width: 1.0;\"/><polygon fill=\"#FFFFFF\" points=\"123.15,261.87,121.6727,241.6755,135.1276,245.544,123.15,261.87\" style=\"stroke: #383838; stroke-width: 1.0;\"/><ellipse cx=\"125.1699\" cy=\"236.7501\" fill=\"#383838\" rx=\"2\" ry=\"2\" style=\"stroke: #383838; stroke-width: 1.0;\"/><ellipse cx=\"134.7805\" cy=\"239.5133\" fill=\"#383838\" rx=\"2\" ry=\"2\" style=\"stroke: #383838; stroke-width: 1.0;\"/></a><!--MD5=[8f9669b109e350a35d8faca51095430a]\n",
       "@startuml\r\n",
       "top to bottom direction\r\n",
       "skinparam monochrome true\r\n",
       "skinparam classbackgroundcolor white\r\n",
       "skinparam shadowing false\r\n",
       "skinparam wrapWidth 300\r\n",
       "hide circle\r\n",
       "\r\n",
       "package \"AliasImport\" as E1  [[psysml:a585b742-f262-46cd-b94a-c90c9e84789e ]]  {\r\n",
       "package \"Definitions\" as E2  [[psysml:336f27c4-53da-4ebc-95bd-6f6303678a10 ]]  {\r\n",
       "comp def \"Vehicle\" as E3  <<(T,blue) part  def>> [[psysml:e00f8094-2dc0-4541-ab70-7f0589b02177 ]] {\r\n",
       "}\r\n",
       "}\r\n",
       "package \"Usages\" as E4  [[psysml:1c99181b-1c33-4a44-b1a9-f0fa19d834f2 ]]  {\r\n",
       "comp usage \"vehicle: Vehicle \" as E5  <<(T,blue) part>> [[psysml:9c534076-d85a-4836-b001-6ecd6cbd12fb ]] {\r\n",
       "}\r\n",
       "}\r\n",
       "}\r\n",
       "E4 ..> E3 [[psysml:754d7efd-e1b6-49fa-9136-3270d64a1ac4 ]] : <<import>>\r\n",
       "E5 - -:|> E3 [[psysml:35d55ec3-6fe4-4032-923f-7a8654029377 ]] \r\n",
       "@enduml\r\n",
       "\n",
       "PlantUML version 1.2020.13(Sat Jun 13 12:26:38 UTC 2020)\n",
       "(EPL source distribution)\n",
       "Java Runtime: OpenJDK Runtime Environment\n",
       "JVM: OpenJDK 64-Bit Server VM\n",
       "Default Encoding: UTF-8\n",
       "Language: en\n",
       "Country: null\n",
       "--></g></svg>"
      ]
     },
     "execution_count": 44,
     "metadata": {},
     "output_type": "execute_result"
    }
   ],
   "source": [
    "%viz --style=\"TB\" --view=\"Default\" \"AliasImport\""
   ]
  },
  {
   "cell_type": "code",
   "execution_count": 45,
   "id": "a9da9e31",
   "metadata": {
    "execution": {
     "iopub.execute_input": "2022-03-21T07:53:04.272619Z",
     "iopub.status.busy": "2022-03-21T07:53:04.272218Z",
     "iopub.status.idle": "2022-03-21T07:53:04.299268Z",
     "shell.execute_reply": "2022-03-21T07:53:04.298888Z"
    }
   },
   "outputs": [
    {
     "data": {
      "image/svg+xml": [
       "<?xml version=\"1.0\" encoding=\"UTF-8\" standalone=\"no\"?><svg xmlns=\"http://www.w3.org/2000/svg\" xmlns:xlink=\"http://www.w3.org/1999/xlink\" contentScriptType=\"application/ecmascript\" contentStyleType=\"text/css\" height=\"360px\" preserveAspectRatio=\"none\" style=\"width:275px;height:360px;\" version=\"1.1\" viewBox=\"0 0 275 360\" width=\"275px\" zoomAndPan=\"magnify\"><defs/><g><!--MD5=[fbc87193dbaf4d95561dea2c320d4a47]\n",
       "cluster E1--><a href=\"psysml:a585b742-f262-46cd-b94a-c90c9e84789e\" target=\"_top\" title=\"psysml:a585b742-f262-46cd-b94a-c90c9e84789e\" xlink:actuate=\"onRequest\" xlink:href=\"psysml:a585b742-f262-46cd-b94a-c90c9e84789e\" xlink:show=\"new\" xlink:title=\"psysml:a585b742-f262-46cd-b94a-c90c9e84789e\" xlink:type=\"simple\"><polygon fill=\"#FFFFFF\" points=\"16,6,97,6,104,28.2969,253,28.2969,253,348,16,348,16,6\" style=\"stroke: #000000; stroke-width: 1.5;\"/><line style=\"stroke: #000000; stroke-width: 1.5;\" x1=\"16\" x2=\"104\" y1=\"28.2969\" y2=\"28.2969\"/><text fill=\"#000000\" font-family=\"sans-serif\" font-size=\"14\" font-weight=\"bold\" lengthAdjust=\"spacingAndGlyphs\" textLength=\"75\" x=\"20\" y=\"20.9951\">AliasImport</text></a><!--MD5=[e4f7fae6ed58524ba242bb0b0d3be6b7]\n",
       "cluster E2--><a href=\"psysml:336f27c4-53da-4ebc-95bd-6f6303678a10\" target=\"_top\" title=\"psysml:336f27c4-53da-4ebc-95bd-6f6303678a10\" xlink:actuate=\"onRequest\" xlink:href=\"psysml:336f27c4-53da-4ebc-95bd-6f6303678a10\" xlink:show=\"new\" xlink:title=\"psysml:336f27c4-53da-4ebc-95bd-6f6303678a10\" xlink:type=\"simple\"><polygon fill=\"#FFFFFF\" points=\"65,227,144,227,151,249.2969,167,249.2969,167,324,65,324,65,227\" style=\"stroke: #000000; stroke-width: 1.5;\"/><line style=\"stroke: #000000; stroke-width: 1.5;\" x1=\"65\" x2=\"151\" y1=\"249.2969\" y2=\"249.2969\"/><text fill=\"#000000\" font-family=\"sans-serif\" font-size=\"14\" font-weight=\"bold\" lengthAdjust=\"spacingAndGlyphs\" textLength=\"73\" x=\"69\" y=\"241.9951\">Definitions</text></a><!--MD5=[f6df4d0ebaf0b5dfb2ced0ae5af7c670]\n",
       "cluster E4--><a href=\"psysml:1c99181b-1c33-4a44-b1a9-f0fa19d834f2\" target=\"_top\" title=\"psysml:1c99181b-1c33-4a44-b1a9-f0fa19d834f2\" xlink:actuate=\"onRequest\" xlink:href=\"psysml:1c99181b-1c33-4a44-b1a9-f0fa19d834f2\" xlink:show=\"new\" xlink:title=\"psysml:1c99181b-1c33-4a44-b1a9-f0fa19d834f2\" xlink:type=\"simple\"><polygon fill=\"#FFFFFF\" points=\"48,57,106,57,113,79.2969,221,79.2969,221,170,48,170,48,57\" style=\"stroke: #000000; stroke-width: 1.5;\"/><line style=\"stroke: #000000; stroke-width: 1.5;\" x1=\"48\" x2=\"113\" y1=\"79.2969\" y2=\"79.2969\"/><text fill=\"#000000\" font-family=\"sans-serif\" font-size=\"14\" font-weight=\"bold\" lengthAdjust=\"spacingAndGlyphs\" textLength=\"52\" x=\"52\" y=\"71.9951\">Usages</text></a><!--MD5=[09b614a08d8cba4a07c9adeb5e0fee81]\n",
       "class E3--><a href=\"psysml:e00f8094-2dc0-4541-ab70-7f0589b02177\" target=\"_top\" title=\"psysml:e00f8094-2dc0-4541-ab70-7f0589b02177\" xlink:actuate=\"onRequest\" xlink:href=\"psysml:e00f8094-2dc0-4541-ab70-7f0589b02177\" xlink:show=\"new\" xlink:title=\"psysml:e00f8094-2dc0-4541-ab70-7f0589b02177\" xlink:type=\"simple\"><rect fill=\"#FFFFFF\" height=\"45.9375\" id=\"E3\" style=\"stroke: #383838; stroke-width: 1.5;\" width=\"70\" x=\"81\" y=\"262\"/><text fill=\"#000000\" font-family=\"sans-serif\" font-size=\"12\" font-style=\"italic\" lengthAdjust=\"spacingAndGlyphs\" textLength=\"68\" x=\"82\" y=\"278.1387\">«part  def»</text><text fill=\"#000000\" font-family=\"sans-serif\" font-size=\"12\" lengthAdjust=\"spacingAndGlyphs\" textLength=\"45\" x=\"93.5\" y=\"292.1074\">Vehicle</text><line style=\"stroke: #383838; stroke-width: 1.5;\" x1=\"82\" x2=\"150\" y1=\"299.9375\" y2=\"299.9375\"/></a><!--MD5=[270fce915f116d4de14055a7c1d9a0f3]\n",
       "class E5--><a href=\"psysml:9c534076-d85a-4836-b001-6ecd6cbd12fb\" target=\"_top\" title=\"psysml:9c534076-d85a-4836-b001-6ecd6cbd12fb\" xlink:actuate=\"onRequest\" xlink:href=\"psysml:9c534076-d85a-4836-b001-6ecd6cbd12fb\" xlink:show=\"new\" xlink:title=\"psysml:9c534076-d85a-4836-b001-6ecd6cbd12fb\" xlink:type=\"simple\"><rect fill=\"#FFFFFF\" height=\"45.9375\" id=\"E5\" rx=\"10\" ry=\"10\" style=\"stroke: #383838; stroke-width: 1.5;\" width=\"106\" x=\"91\" y=\"100\"/><text fill=\"#000000\" font-family=\"sans-serif\" font-size=\"12\" font-style=\"italic\" lengthAdjust=\"spacingAndGlyphs\" textLength=\"40\" x=\"124\" y=\"116.1387\">«part»</text><text fill=\"#000000\" font-family=\"sans-serif\" font-size=\"12\" lengthAdjust=\"spacingAndGlyphs\" textLength=\"96\" x=\"94\" y=\"130.1074\">vehicle: Vehicle</text><line style=\"stroke: #383838; stroke-width: 1.5;\" x1=\"92\" x2=\"196\" y1=\"137.9375\" y2=\"137.9375\"/></a><!--MD5=[f0cdf4548168e5211fb3a02bf679d63a]\n",
       "link E4 to E3--><a href=\"psysml:754d7efd-e1b6-49fa-9136-3270d64a1ac4\" target=\"_top\" title=\"psysml:754d7efd-e1b6-49fa-9136-3270d64a1ac4\" xlink:actuate=\"onRequest\" xlink:href=\"psysml:754d7efd-e1b6-49fa-9136-3270d64a1ac4\" xlink:show=\"new\" xlink:title=\"psysml:754d7efd-e1b6-49fa-9136-3270d64a1ac4\" xlink:type=\"simple\"><path d=\"M58.5005,170.0549 C58.5193,170.2001 58.5383,170.3454 58.5574,170.4908 C58.6338,171.0725 58.7124,171.6562 58.7932,172.2415 C58.9548,173.4122 59.1253,174.5898 59.3052,175.7725 C59.6651,178.1379 60.0625,180.5238 60.5014,182.9158 C62.2569,192.4838 64.675,202.15 68,211 C74.23,227.58 84.77,244.23 94.38,257.43 \" fill=\"none\" id=\"E4-&gt;E3\" style=\"stroke: #383838; stroke-width: 1.0; stroke-dasharray: 7.0,7.0;\"/><polygon fill=\"#383838\" points=\"97.6,261.77,95.4384,252.1613,94.616,257.758,89.0193,256.9357,97.6,261.77\" style=\"stroke: #383838; stroke-width: 1.0;\"/><text fill=\"#000000\" font-family=\"sans-serif\" font-size=\"13\" lengthAdjust=\"spacingAndGlyphs\" textLength=\"58\" x=\"69\" y=\"207.0669\">«import»</text></a><!--MD5=[e9be52314489bd878ff4c7144b63c9e1]\n",
       "link E5 to E3--><a href=\"psysml:35d55ec3-6fe4-4032-923f-7a8654029377\" target=\"_top\" title=\"psysml:35d55ec3-6fe4-4032-923f-7a8654029377\" xlink:actuate=\"onRequest\" xlink:href=\"psysml:35d55ec3-6fe4-4032-923f-7a8654029377\" xlink:show=\"new\" xlink:title=\"psysml:35d55ec3-6fe4-4032-923f-7a8654029377\" xlink:type=\"simple\"><path d=\"M143.03,146.32 C142,163.98 139.95,189.21 136,211 C134.13,221.29 131.49,232.23 128.74,242.43 \" fill=\"none\" id=\"E5-&gt;E3\" style=\"stroke: #383838; stroke-width: 1.0;\"/><polygon fill=\"#FFFFFF\" points=\"123.15,261.87,121.6727,241.6755,135.1276,245.544,123.15,261.87\" style=\"stroke: #383838; stroke-width: 1.0;\"/><ellipse cx=\"125.1699\" cy=\"236.7501\" fill=\"#383838\" rx=\"2\" ry=\"2\" style=\"stroke: #383838; stroke-width: 1.0;\"/><ellipse cx=\"134.7805\" cy=\"239.5133\" fill=\"#383838\" rx=\"2\" ry=\"2\" style=\"stroke: #383838; stroke-width: 1.0;\"/></a><!--MD5=[8f9669b109e350a35d8faca51095430a]\n",
       "@startuml\r\n",
       "top to bottom direction\r\n",
       "skinparam monochrome true\r\n",
       "skinparam classbackgroundcolor white\r\n",
       "skinparam shadowing false\r\n",
       "skinparam wrapWidth 300\r\n",
       "hide circle\r\n",
       "\r\n",
       "package \"AliasImport\" as E1  [[psysml:a585b742-f262-46cd-b94a-c90c9e84789e ]]  {\r\n",
       "package \"Definitions\" as E2  [[psysml:336f27c4-53da-4ebc-95bd-6f6303678a10 ]]  {\r\n",
       "comp def \"Vehicle\" as E3  <<(T,blue) part  def>> [[psysml:e00f8094-2dc0-4541-ab70-7f0589b02177 ]] {\r\n",
       "}\r\n",
       "}\r\n",
       "package \"Usages\" as E4  [[psysml:1c99181b-1c33-4a44-b1a9-f0fa19d834f2 ]]  {\r\n",
       "comp usage \"vehicle: Vehicle \" as E5  <<(T,blue) part>> [[psysml:9c534076-d85a-4836-b001-6ecd6cbd12fb ]] {\r\n",
       "}\r\n",
       "}\r\n",
       "}\r\n",
       "E4 ..> E3 [[psysml:754d7efd-e1b6-49fa-9136-3270d64a1ac4 ]] : <<import>>\r\n",
       "E5 - -:|> E3 [[psysml:35d55ec3-6fe4-4032-923f-7a8654029377 ]] \r\n",
       "@enduml\r\n",
       "\n",
       "PlantUML version 1.2020.13(Sat Jun 13 12:26:38 UTC 2020)\n",
       "(EPL source distribution)\n",
       "Java Runtime: OpenJDK Runtime Environment\n",
       "JVM: OpenJDK 64-Bit Server VM\n",
       "Default Encoding: UTF-8\n",
       "Language: en\n",
       "Country: null\n",
       "--></g></svg>"
      ]
     },
     "execution_count": 45,
     "metadata": {},
     "output_type": "execute_result"
    }
   ],
   "source": [
    "%viz --style=\"TB\" --view=\"Tree\" \"AliasImport\""
   ]
  },
  {
   "cell_type": "code",
   "execution_count": 46,
   "id": "77296158",
   "metadata": {
    "execution": {
     "iopub.execute_input": "2022-03-21T07:53:04.348688Z",
     "iopub.status.busy": "2022-03-21T07:53:04.348291Z",
     "iopub.status.idle": "2022-03-21T07:53:04.352950Z",
     "shell.execute_reply": "2022-03-21T07:53:04.352604Z"
    }
   },
   "outputs": [
    {
     "data": {
      "image/svg+xml": [
       "<?xml version=\"1.0\" encoding=\"UTF-8\" standalone=\"no\"?><svg xmlns=\"http://www.w3.org/2000/svg\" xmlns:xlink=\"http://www.w3.org/1999/xlink\" contentScriptType=\"application/ecmascript\" contentStyleType=\"text/css\" height=\"12px\" preserveAspectRatio=\"none\" style=\"width:12px;height:12px;\" version=\"1.1\" viewBox=\"0 0 12 12\" width=\"12px\" zoomAndPan=\"magnify\"><defs/><g><!--MD5=[f4ee21bc66e489b5061b7c3e9601fdef]\n",
       "@startuml\r\n",
       "top to bottom direction\r\n",
       "skinparam monochrome true\r\n",
       "skinparam classbackgroundcolor white\r\n",
       "skinparam shadowing false\r\n",
       "skinparam wrapWidth 300\r\n",
       "hide circle\r\n",
       "\r\n",
       "@enduml\r\n",
       "\n",
       "PlantUML version 1.2020.13(Sat Jun 13 12:26:38 UTC 2020)\n",
       "(EPL source distribution)\n",
       "Java Runtime: OpenJDK Runtime Environment\n",
       "JVM: OpenJDK 64-Bit Server VM\n",
       "Default Encoding: UTF-8\n",
       "Language: en\n",
       "Country: null\n",
       "--></g></svg>"
      ]
     },
     "execution_count": 46,
     "metadata": {},
     "output_type": "execute_result"
    }
   ],
   "source": [
    "%viz --style=\"TB\" --view=\"State\" \"AliasImport\""
   ]
  },
  {
   "cell_type": "code",
   "execution_count": 47,
   "id": "58df4b2f",
   "metadata": {
    "execution": {
     "iopub.execute_input": "2022-03-21T07:53:04.402764Z",
     "iopub.status.busy": "2022-03-21T07:53:04.402371Z",
     "iopub.status.idle": "2022-03-21T07:53:04.427611Z",
     "shell.execute_reply": "2022-03-21T07:53:04.427261Z"
    }
   },
   "outputs": [
    {
     "data": {
      "image/svg+xml": [
       "<?xml version=\"1.0\" encoding=\"UTF-8\" standalone=\"no\"?><svg xmlns=\"http://www.w3.org/2000/svg\" xmlns:xlink=\"http://www.w3.org/1999/xlink\" contentScriptType=\"application/ecmascript\" contentStyleType=\"text/css\" height=\"351px\" preserveAspectRatio=\"none\" style=\"width:302px;height:351px;\" version=\"1.1\" viewBox=\"0 0 302 351\" width=\"302px\" zoomAndPan=\"magnify\"><defs/><g><!--MD5=[fbc87193dbaf4d95561dea2c320d4a47]\n",
       "cluster E1--><a href=\"psysml:a585b742-f262-46cd-b94a-c90c9e84789e\" target=\"_top\" title=\"psysml:a585b742-f262-46cd-b94a-c90c9e84789e\" xlink:actuate=\"onRequest\" xlink:href=\"psysml:a585b742-f262-46cd-b94a-c90c9e84789e\" xlink:show=\"new\" xlink:title=\"psysml:a585b742-f262-46cd-b94a-c90c9e84789e\" xlink:type=\"simple\"><polygon fill=\"#FFFFFF\" points=\"16,6,97,6,104,28.2969,280,28.2969,280,339,16,339,16,6\" style=\"stroke: #000000; stroke-width: 1.5;\"/><line style=\"stroke: #000000; stroke-width: 1.5;\" x1=\"16\" x2=\"104\" y1=\"28.2969\" y2=\"28.2969\"/><text fill=\"#000000\" font-family=\"sans-serif\" font-size=\"14\" font-weight=\"bold\" lengthAdjust=\"spacingAndGlyphs\" textLength=\"75\" x=\"20\" y=\"20.9951\">AliasImport</text></a><!--MD5=[e4f7fae6ed58524ba242bb0b0d3be6b7]\n",
       "cluster E2--><a href=\"psysml:336f27c4-53da-4ebc-95bd-6f6303678a10\" target=\"_top\" title=\"psysml:336f27c4-53da-4ebc-95bd-6f6303678a10\" xlink:actuate=\"onRequest\" xlink:href=\"psysml:336f27c4-53da-4ebc-95bd-6f6303678a10\" xlink:show=\"new\" xlink:title=\"psysml:336f27c4-53da-4ebc-95bd-6f6303678a10\" xlink:type=\"simple\"><polygon fill=\"#FFFFFF\" points=\"40,221,119,221,126,243.2969,256,243.2969,256,315,40,315,40,221\" style=\"stroke: #000000; stroke-width: 1.5;\"/><line style=\"stroke: #000000; stroke-width: 1.5;\" x1=\"40\" x2=\"126\" y1=\"243.2969\" y2=\"243.2969\"/><text fill=\"#000000\" font-family=\"sans-serif\" font-size=\"14\" font-weight=\"bold\" lengthAdjust=\"spacingAndGlyphs\" textLength=\"73\" x=\"44\" y=\"235.9951\">Definitions</text></a><!--MD5=[de5ec2e2e8f62f467e546659f5068c88]\n",
       "cluster E5--><a href=\"psysml:1c99181b-1c33-4a44-b1a9-f0fa19d834f2\" target=\"_top\" title=\"psysml:1c99181b-1c33-4a44-b1a9-f0fa19d834f2\" xlink:actuate=\"onRequest\" xlink:href=\"psysml:1c99181b-1c33-4a44-b1a9-f0fa19d834f2\" xlink:show=\"new\" xlink:title=\"psysml:1c99181b-1c33-4a44-b1a9-f0fa19d834f2\" xlink:type=\"simple\"><polygon fill=\"#FFFFFF\" points=\"74,57,132,57,139,79.2969,248,79.2969,248,164,74,164,74,57\" style=\"stroke: #000000; stroke-width: 1.5;\"/><line style=\"stroke: #000000; stroke-width: 1.5;\" x1=\"74\" x2=\"139\" y1=\"79.2969\" y2=\"79.2969\"/><text fill=\"#000000\" font-family=\"sans-serif\" font-size=\"14\" font-weight=\"bold\" lengthAdjust=\"spacingAndGlyphs\" textLength=\"52\" x=\"78\" y=\"71.9951\">Usages</text></a><g id=\"E1.E2.E3\"><a href=\"psysml:e00f8094-2dc0-4541-ab70-7f0589b02177\" target=\"_top\" title=\"psysml:e00f8094-2dc0-4541-ab70-7f0589b02177\" xlink:actuate=\"onRequest\" xlink:href=\"psysml:e00f8094-2dc0-4541-ab70-7f0589b02177\" xlink:show=\"new\" xlink:title=\"psysml:e00f8094-2dc0-4541-ab70-7f0589b02177\" xlink:type=\"simple\"><rect fill=\"#FFFFFF\" height=\"42.9375\" id=\"E3\" style=\"stroke: #383838; stroke-width: 1.5;\" width=\"75\" x=\"165.5\" y=\"256\"/><rect fill=\"#F8F8F8\" height=\"37.9375\" style=\"stroke: #383838; stroke-width: 1.5;\" width=\"75\" x=\"165.5\" y=\"256\"/><text fill=\"#000000\" font-family=\"sans-serif\" font-size=\"12\" font-style=\"italic\" lengthAdjust=\"spacingAndGlyphs\" textLength=\"68\" x=\"169\" y=\"272.1387\">«part  def»</text><text fill=\"#000000\" font-family=\"sans-serif\" font-size=\"12\" lengthAdjust=\"spacingAndGlyphs\" textLength=\"45\" x=\"180.5\" y=\"286.1074\">Vehicle</text></a></g><g id=\"E1.E2.E4\"><a href=\"psysml:e00f8094-2dc0-4541-ab70-7f0589b02177\" target=\"_top\" title=\"psysml:e00f8094-2dc0-4541-ab70-7f0589b02177\" xlink:actuate=\"onRequest\" xlink:href=\"psysml:e00f8094-2dc0-4541-ab70-7f0589b02177\" xlink:show=\"new\" xlink:title=\"psysml:e00f8094-2dc0-4541-ab70-7f0589b02177\" xlink:type=\"simple\"><rect fill=\"#FFFFFF\" height=\"42.9375\" id=\"E4\" style=\"stroke: #383838; stroke-width: 1.5;\" width=\"75\" x=\"55.5\" y=\"256\"/><rect fill=\"#F8F8F8\" height=\"37.9375\" style=\"stroke: #383838; stroke-width: 1.5;\" width=\"75\" x=\"55.5\" y=\"256\"/><text fill=\"#000000\" font-family=\"sans-serif\" font-size=\"12\" font-style=\"italic\" lengthAdjust=\"spacingAndGlyphs\" textLength=\"68\" x=\"59\" y=\"272.1387\">«part  def»</text><text fill=\"#000000\" font-family=\"sans-serif\" font-size=\"12\" lengthAdjust=\"spacingAndGlyphs\" textLength=\"45\" x=\"70.5\" y=\"286.1074\">Vehicle</text></a></g><g id=\"E1.E5.E6\"><a href=\"psysml:9c534076-d85a-4836-b001-6ecd6cbd12fb\" target=\"_top\" title=\"psysml:9c534076-d85a-4836-b001-6ecd6cbd12fb\" xlink:actuate=\"onRequest\" xlink:href=\"psysml:9c534076-d85a-4836-b001-6ecd6cbd12fb\" xlink:show=\"new\" xlink:title=\"psysml:9c534076-d85a-4836-b001-6ecd6cbd12fb\" xlink:type=\"simple\"><rect fill=\"#FFFFFF\" height=\"40\" id=\"E6\" rx=\"10\" ry=\"10\" style=\"stroke: #383838; stroke-width: 1.5;\" width=\"107\" x=\"117.5\" y=\"100\"/><rect fill=\"#F8F8F8\" height=\"23.9688\" rx=\"10\" ry=\"10\" style=\"stroke: #F8F8F8; stroke-width: 1.5;\" width=\"107\" x=\"117.5\" y=\"100\"/><rect fill=\"#F8F8F8\" height=\"10\" style=\"stroke: #F8F8F8; stroke-width: 1.5;\" width=\"107\" x=\"117.5\" y=\"113.9688\"/><rect fill=\"none\" height=\"40\" id=\"E6\" rx=\"10\" ry=\"10\" style=\"stroke: #383838; stroke-width: 1.5;\" width=\"107\" x=\"117.5\" y=\"100\"/><text fill=\"#000000\" font-family=\"sans-serif\" font-size=\"12\" lengthAdjust=\"spacingAndGlyphs\" textLength=\"96\" x=\"123\" y=\"116.1387\">vehicle: Vehicle</text></a></g><!--MD5=[1c62de2aa5b76f0fb657ff8443a1a700]\n",
       "link E5 to E4--><a href=\"psysml:754d7efd-e1b6-49fa-9136-3270d64a1ac4\" target=\"_top\" title=\"psysml:754d7efd-e1b6-49fa-9136-3270d64a1ac4\" xlink:actuate=\"onRequest\" xlink:href=\"psysml:754d7efd-e1b6-49fa-9136-3270d64a1ac4\" xlink:show=\"new\" xlink:title=\"psysml:754d7efd-e1b6-49fa-9136-3270d64a1ac4\" xlink:type=\"simple\"><path d=\"M85.0613,164.274 C85.0754,164.474 85.0896,164.6743 85.1038,164.8751 C85.1322,165.2765 85.1608,165.6795 85.1894,166.0839 C85.3039,167.7016 85.42,169.3423 85.5375,171.0025 C87.4175,197.565 89.65,229.1 91.18,250.73 \" fill=\"none\" id=\"E5-&gt;E4\" style=\"stroke: #383838; stroke-width: 1.0; stroke-dasharray: 7.0,7.0;\"/><polygon fill=\"#383838\" points=\"91.54,255.81,94.8867,246.5472,91.1827,250.8228,86.9072,247.1188,91.54,255.81\" style=\"stroke: #383838; stroke-width: 1.0;\"/><text fill=\"#000000\" font-family=\"sans-serif\" font-size=\"13\" lengthAdjust=\"spacingAndGlyphs\" textLength=\"58\" x=\"88\" y=\"201.0669\">«import»</text></a><!--MD5=[081b1c820029386e426a181da24847c0]\n",
       "@startuml\r\n",
       "skinparam ranksep 10\r\n",
       "skinparam rectangle {\r\n",
       " backgroundColor<<block>> LightGreen\r\n",
       "}\r\n",
       "top to bottom direction\r\n",
       "skinparam monochrome true\r\n",
       "skinparam classbackgroundcolor white\r\n",
       "skinparam shadowing false\r\n",
       "skinparam wrapWidth 300\r\n",
       "hide circle\r\n",
       "\r\n",
       "package \"AliasImport\" as E1  [[psysml:a585b742-f262-46cd-b94a-c90c9e84789e ]]  {\r\n",
       "package \"Definitions\" as E2  [[psysml:336f27c4-53da-4ebc-95bd-6f6303678a10 ]]  {\r\n",
       "rec def \"Vehicle\" as E3  <<(T,blue) part  def>> [[psysml:e00f8094-2dc0-4541-ab70-7f0589b02177 ]] {\r\n",
       "}\r\n",
       "rec def \"Vehicle\" as E4  <<(T,blue) part  def>> [[psysml:e00f8094-2dc0-4541-ab70-7f0589b02177 ]] {\r\n",
       "}\r\n",
       "}\r\n",
       "package \"Usages\" as E5  [[psysml:1c99181b-1c33-4a44-b1a9-f0fa19d834f2 ]]  {\r\n",
       "rec usage \"vehicle: Vehicle\" as E6  [[psysml:9c534076-d85a-4836-b001-6ecd6cbd12fb ]] {\r\n",
       "}\r\n",
       "}\r\n",
       "}\r\n",
       "E5 ..> E4 [[psysml:754d7efd-e1b6-49fa-9136-3270d64a1ac4 ]] : <<import>>\r\n",
       "@enduml\r\n",
       "\n",
       "PlantUML version 1.2020.13(Sat Jun 13 12:26:38 UTC 2020)\n",
       "(EPL source distribution)\n",
       "Java Runtime: OpenJDK Runtime Environment\n",
       "JVM: OpenJDK 64-Bit Server VM\n",
       "Default Encoding: UTF-8\n",
       "Language: en\n",
       "Country: null\n",
       "--></g></svg>"
      ]
     },
     "execution_count": 47,
     "metadata": {},
     "output_type": "execute_result"
    }
   ],
   "source": [
    "%viz --style=\"TB\" --view=\"Interconnection\" \"AliasImport\""
   ]
  },
  {
   "cell_type": "code",
   "execution_count": 48,
   "id": "404de4c9",
   "metadata": {
    "execution": {
     "iopub.execute_input": "2022-03-21T07:53:04.477353Z",
     "iopub.status.busy": "2022-03-21T07:53:04.476957Z",
     "iopub.status.idle": "2022-03-21T07:53:04.481337Z",
     "shell.execute_reply": "2022-03-21T07:53:04.481646Z"
    }
   },
   "outputs": [
    {
     "data": {
      "image/svg+xml": [
       "<?xml version=\"1.0\" encoding=\"UTF-8\" standalone=\"no\"?><svg xmlns=\"http://www.w3.org/2000/svg\" xmlns:xlink=\"http://www.w3.org/1999/xlink\" contentScriptType=\"application/ecmascript\" contentStyleType=\"text/css\" height=\"12px\" preserveAspectRatio=\"none\" style=\"width:12px;height:12px;\" version=\"1.1\" viewBox=\"0 0 12 12\" width=\"12px\" zoomAndPan=\"magnify\"><defs/><g><!--MD5=[06afc254b03ac5e9d9fb7773b07d0800]\n",
       "@startuml\r\n",
       "skinparam ranksep 8\r\n",
       "top to bottom direction\r\n",
       "skinparam monochrome true\r\n",
       "skinparam classbackgroundcolor white\r\n",
       "skinparam shadowing false\r\n",
       "skinparam wrapWidth 300\r\n",
       "hide circle\r\n",
       "\r\n",
       "@enduml\r\n",
       "\n",
       "PlantUML version 1.2020.13(Sat Jun 13 12:26:38 UTC 2020)\n",
       "(EPL source distribution)\n",
       "Java Runtime: OpenJDK Runtime Environment\n",
       "JVM: OpenJDK 64-Bit Server VM\n",
       "Default Encoding: UTF-8\n",
       "Language: en\n",
       "Country: null\n",
       "--></g></svg>"
      ]
     },
     "execution_count": 48,
     "metadata": {},
     "output_type": "execute_result"
    }
   ],
   "source": [
    "%viz --style=\"TB\" --view=\"Action\" \"AliasImport\""
   ]
  },
  {
   "cell_type": "code",
   "execution_count": 49,
   "id": "d3988bd2",
   "metadata": {
    "execution": {
     "iopub.execute_input": "2022-03-21T07:53:04.531883Z",
     "iopub.status.busy": "2022-03-21T07:53:04.531483Z",
     "iopub.status.idle": "2022-03-21T07:53:04.535973Z",
     "shell.execute_reply": "2022-03-21T07:53:04.536283Z"
    }
   },
   "outputs": [
    {
     "data": {
      "image/svg+xml": [
       "<?xml version=\"1.0\" encoding=\"UTF-8\" standalone=\"no\"?><svg xmlns=\"http://www.w3.org/2000/svg\" xmlns:xlink=\"http://www.w3.org/1999/xlink\" contentScriptType=\"application/ecmascript\" contentStyleType=\"text/css\" height=\"12px\" preserveAspectRatio=\"none\" style=\"width:12px;height:12px;\" version=\"1.1\" viewBox=\"0 0 12 12\" width=\"12px\" zoomAndPan=\"magnify\"><defs/><g><!--MD5=[e1ab0c84c44d2fef8bf5f140f2689906]\n",
       "@startuml\r\n",
       "skinparam roundcorner 20\r\n",
       "skinparam BoxPadding 20\r\n",
       "skinparam SequenceBoxBackgroundColor #white\r\n",
       "skinparam style strictuml\r\n",
       "skinparam maxMessageSize 100\r\n",
       "top to bottom direction\r\n",
       "skinparam monochrome true\r\n",
       "skinparam classbackgroundcolor white\r\n",
       "skinparam shadowing false\r\n",
       "skinparam wrapWidth 300\r\n",
       "hide circle\r\n",
       "\r\n",
       "@enduml\r\n",
       "\n",
       "PlantUML version 1.2020.13(Sat Jun 13 12:26:38 UTC 2020)\n",
       "(EPL source distribution)\n",
       "Java Runtime: OpenJDK Runtime Environment\n",
       "JVM: OpenJDK 64-Bit Server VM\n",
       "Default Encoding: UTF-8\n",
       "Language: en\n",
       "Country: null\n",
       "--></g></svg>"
      ]
     },
     "execution_count": 49,
     "metadata": {},
     "output_type": "execute_result"
    }
   ],
   "source": [
    "%viz --style=\"TB\" --view=\"Sequence\" \"AliasImport\""
   ]
  },
  {
   "cell_type": "code",
   "execution_count": 50,
   "id": "5037190f",
   "metadata": {
    "execution": {
     "iopub.execute_input": "2022-03-21T07:53:04.586453Z",
     "iopub.status.busy": "2022-03-21T07:53:04.586058Z",
     "iopub.status.idle": "2022-03-21T07:53:04.612588Z",
     "shell.execute_reply": "2022-03-21T07:53:04.611335Z"
    }
   },
   "outputs": [
    {
     "data": {
      "image/svg+xml": [
       "<?xml version=\"1.0\" encoding=\"UTF-8\" standalone=\"no\"?><svg xmlns=\"http://www.w3.org/2000/svg\" xmlns:xlink=\"http://www.w3.org/1999/xlink\" contentScriptType=\"application/ecmascript\" contentStyleType=\"text/css\" height=\"360px\" preserveAspectRatio=\"none\" style=\"width:275px;height:360px;\" version=\"1.1\" viewBox=\"0 0 275 360\" width=\"275px\" zoomAndPan=\"magnify\"><defs/><g><!--MD5=[fbc87193dbaf4d95561dea2c320d4a47]\n",
       "cluster E1--><a href=\"psysml:a585b742-f262-46cd-b94a-c90c9e84789e\" target=\"_top\" title=\"psysml:a585b742-f262-46cd-b94a-c90c9e84789e\" xlink:actuate=\"onRequest\" xlink:href=\"psysml:a585b742-f262-46cd-b94a-c90c9e84789e\" xlink:show=\"new\" xlink:title=\"psysml:a585b742-f262-46cd-b94a-c90c9e84789e\" xlink:type=\"simple\"><polygon fill=\"#FFFFFF\" points=\"16,6,97,6,104,28.2969,253,28.2969,253,348,16,348,16,6\" style=\"stroke: #000000; stroke-width: 1.5;\"/><line style=\"stroke: #000000; stroke-width: 1.5;\" x1=\"16\" x2=\"104\" y1=\"28.2969\" y2=\"28.2969\"/><text fill=\"#000000\" font-family=\"sans-serif\" font-size=\"14\" font-weight=\"bold\" lengthAdjust=\"spacingAndGlyphs\" textLength=\"75\" x=\"20\" y=\"20.9951\">AliasImport</text></a><!--MD5=[e4f7fae6ed58524ba242bb0b0d3be6b7]\n",
       "cluster E2--><a href=\"psysml:336f27c4-53da-4ebc-95bd-6f6303678a10\" target=\"_top\" title=\"psysml:336f27c4-53da-4ebc-95bd-6f6303678a10\" xlink:actuate=\"onRequest\" xlink:href=\"psysml:336f27c4-53da-4ebc-95bd-6f6303678a10\" xlink:show=\"new\" xlink:title=\"psysml:336f27c4-53da-4ebc-95bd-6f6303678a10\" xlink:type=\"simple\"><polygon fill=\"#FFFFFF\" points=\"65,227,144,227,151,249.2969,167,249.2969,167,324,65,324,65,227\" style=\"stroke: #000000; stroke-width: 1.5;\"/><line style=\"stroke: #000000; stroke-width: 1.5;\" x1=\"65\" x2=\"151\" y1=\"249.2969\" y2=\"249.2969\"/><text fill=\"#000000\" font-family=\"sans-serif\" font-size=\"14\" font-weight=\"bold\" lengthAdjust=\"spacingAndGlyphs\" textLength=\"73\" x=\"69\" y=\"241.9951\">Definitions</text></a><!--MD5=[f6df4d0ebaf0b5dfb2ced0ae5af7c670]\n",
       "cluster E4--><a href=\"psysml:1c99181b-1c33-4a44-b1a9-f0fa19d834f2\" target=\"_top\" title=\"psysml:1c99181b-1c33-4a44-b1a9-f0fa19d834f2\" xlink:actuate=\"onRequest\" xlink:href=\"psysml:1c99181b-1c33-4a44-b1a9-f0fa19d834f2\" xlink:show=\"new\" xlink:title=\"psysml:1c99181b-1c33-4a44-b1a9-f0fa19d834f2\" xlink:type=\"simple\"><polygon fill=\"#FFFFFF\" points=\"48,57,106,57,113,79.2969,221,79.2969,221,170,48,170,48,57\" style=\"stroke: #000000; stroke-width: 1.5;\"/><line style=\"stroke: #000000; stroke-width: 1.5;\" x1=\"48\" x2=\"113\" y1=\"79.2969\" y2=\"79.2969\"/><text fill=\"#000000\" font-family=\"sans-serif\" font-size=\"14\" font-weight=\"bold\" lengthAdjust=\"spacingAndGlyphs\" textLength=\"52\" x=\"52\" y=\"71.9951\">Usages</text></a><!--MD5=[09b614a08d8cba4a07c9adeb5e0fee81]\n",
       "class E3--><a href=\"psysml:e00f8094-2dc0-4541-ab70-7f0589b02177\" target=\"_top\" title=\"psysml:e00f8094-2dc0-4541-ab70-7f0589b02177\" xlink:actuate=\"onRequest\" xlink:href=\"psysml:e00f8094-2dc0-4541-ab70-7f0589b02177\" xlink:show=\"new\" xlink:title=\"psysml:e00f8094-2dc0-4541-ab70-7f0589b02177\" xlink:type=\"simple\"><rect fill=\"#FFFFFF\" height=\"45.9375\" id=\"E3\" style=\"stroke: #383838; stroke-width: 1.5;\" width=\"70\" x=\"81\" y=\"262\"/><text fill=\"#000000\" font-family=\"sans-serif\" font-size=\"12\" font-style=\"italic\" lengthAdjust=\"spacingAndGlyphs\" textLength=\"68\" x=\"82\" y=\"278.1387\">«part  def»</text><text fill=\"#000000\" font-family=\"sans-serif\" font-size=\"12\" lengthAdjust=\"spacingAndGlyphs\" textLength=\"45\" x=\"93.5\" y=\"292.1074\">Vehicle</text><line style=\"stroke: #383838; stroke-width: 1.5;\" x1=\"82\" x2=\"150\" y1=\"299.9375\" y2=\"299.9375\"/></a><!--MD5=[270fce915f116d4de14055a7c1d9a0f3]\n",
       "class E5--><a href=\"psysml:9c534076-d85a-4836-b001-6ecd6cbd12fb\" target=\"_top\" title=\"psysml:9c534076-d85a-4836-b001-6ecd6cbd12fb\" xlink:actuate=\"onRequest\" xlink:href=\"psysml:9c534076-d85a-4836-b001-6ecd6cbd12fb\" xlink:show=\"new\" xlink:title=\"psysml:9c534076-d85a-4836-b001-6ecd6cbd12fb\" xlink:type=\"simple\"><rect fill=\"#FFFFFF\" height=\"45.9375\" id=\"E5\" rx=\"10\" ry=\"10\" style=\"stroke: #383838; stroke-width: 1.5;\" width=\"106\" x=\"91\" y=\"100\"/><text fill=\"#000000\" font-family=\"sans-serif\" font-size=\"12\" font-style=\"italic\" lengthAdjust=\"spacingAndGlyphs\" textLength=\"40\" x=\"124\" y=\"116.1387\">«part»</text><text fill=\"#000000\" font-family=\"sans-serif\" font-size=\"12\" lengthAdjust=\"spacingAndGlyphs\" textLength=\"96\" x=\"94\" y=\"130.1074\">vehicle: Vehicle</text><line style=\"stroke: #383838; stroke-width: 1.5;\" x1=\"92\" x2=\"196\" y1=\"137.9375\" y2=\"137.9375\"/></a><!--MD5=[f0cdf4548168e5211fb3a02bf679d63a]\n",
       "link E4 to E3--><a href=\"psysml:754d7efd-e1b6-49fa-9136-3270d64a1ac4\" target=\"_top\" title=\"psysml:754d7efd-e1b6-49fa-9136-3270d64a1ac4\" xlink:actuate=\"onRequest\" xlink:href=\"psysml:754d7efd-e1b6-49fa-9136-3270d64a1ac4\" xlink:show=\"new\" xlink:title=\"psysml:754d7efd-e1b6-49fa-9136-3270d64a1ac4\" xlink:type=\"simple\"><path d=\"M58.5005,170.0549 C58.5193,170.2001 58.5383,170.3454 58.5574,170.4908 C58.6338,171.0725 58.7124,171.6562 58.7932,172.2415 C58.9548,173.4122 59.1253,174.5898 59.3052,175.7725 C59.6651,178.1379 60.0625,180.5238 60.5014,182.9158 C62.2569,192.4838 64.675,202.15 68,211 C74.23,227.58 84.77,244.23 94.38,257.43 \" fill=\"none\" id=\"E4-&gt;E3\" style=\"stroke: #383838; stroke-width: 1.0; stroke-dasharray: 7.0,7.0;\"/><polygon fill=\"#383838\" points=\"97.6,261.77,95.4384,252.1613,94.616,257.758,89.0193,256.9357,97.6,261.77\" style=\"stroke: #383838; stroke-width: 1.0;\"/><text fill=\"#000000\" font-family=\"sans-serif\" font-size=\"13\" lengthAdjust=\"spacingAndGlyphs\" textLength=\"58\" x=\"69\" y=\"207.0669\">«import»</text></a><!--MD5=[e9be52314489bd878ff4c7144b63c9e1]\n",
       "link E5 to E3--><a href=\"psysml:35d55ec3-6fe4-4032-923f-7a8654029377\" target=\"_top\" title=\"psysml:35d55ec3-6fe4-4032-923f-7a8654029377\" xlink:actuate=\"onRequest\" xlink:href=\"psysml:35d55ec3-6fe4-4032-923f-7a8654029377\" xlink:show=\"new\" xlink:title=\"psysml:35d55ec3-6fe4-4032-923f-7a8654029377\" xlink:type=\"simple\"><path d=\"M143.03,146.32 C142,163.98 139.95,189.21 136,211 C134.13,221.29 131.49,232.23 128.74,242.43 \" fill=\"none\" id=\"E5-&gt;E3\" style=\"stroke: #383838; stroke-width: 1.0;\"/><polygon fill=\"#FFFFFF\" points=\"123.15,261.87,121.6727,241.6755,135.1276,245.544,123.15,261.87\" style=\"stroke: #383838; stroke-width: 1.0;\"/><ellipse cx=\"125.1699\" cy=\"236.7501\" fill=\"#383838\" rx=\"2\" ry=\"2\" style=\"stroke: #383838; stroke-width: 1.0;\"/><ellipse cx=\"134.7805\" cy=\"239.5133\" fill=\"#383838\" rx=\"2\" ry=\"2\" style=\"stroke: #383838; stroke-width: 1.0;\"/></a><!--MD5=[8f9669b109e350a35d8faca51095430a]\n",
       "@startuml\r\n",
       "top to bottom direction\r\n",
       "skinparam monochrome true\r\n",
       "skinparam classbackgroundcolor white\r\n",
       "skinparam shadowing false\r\n",
       "skinparam wrapWidth 300\r\n",
       "hide circle\r\n",
       "\r\n",
       "package \"AliasImport\" as E1  [[psysml:a585b742-f262-46cd-b94a-c90c9e84789e ]]  {\r\n",
       "package \"Definitions\" as E2  [[psysml:336f27c4-53da-4ebc-95bd-6f6303678a10 ]]  {\r\n",
       "comp def \"Vehicle\" as E3  <<(T,blue) part  def>> [[psysml:e00f8094-2dc0-4541-ab70-7f0589b02177 ]] {\r\n",
       "}\r\n",
       "}\r\n",
       "package \"Usages\" as E4  [[psysml:1c99181b-1c33-4a44-b1a9-f0fa19d834f2 ]]  {\r\n",
       "comp usage \"vehicle: Vehicle \" as E5  <<(T,blue) part>> [[psysml:9c534076-d85a-4836-b001-6ecd6cbd12fb ]] {\r\n",
       "}\r\n",
       "}\r\n",
       "}\r\n",
       "E4 ..> E3 [[psysml:754d7efd-e1b6-49fa-9136-3270d64a1ac4 ]] : <<import>>\r\n",
       "E5 - -:|> E3 [[psysml:35d55ec3-6fe4-4032-923f-7a8654029377 ]] \r\n",
       "@enduml\r\n",
       "\n",
       "PlantUML version 1.2020.13(Sat Jun 13 12:26:38 UTC 2020)\n",
       "(EPL source distribution)\n",
       "Java Runtime: OpenJDK Runtime Environment\n",
       "JVM: OpenJDK 64-Bit Server VM\n",
       "Default Encoding: UTF-8\n",
       "Language: en\n",
       "Country: null\n",
       "--></g></svg>"
      ]
     },
     "execution_count": 50,
     "metadata": {},
     "output_type": "execute_result"
    }
   ],
   "source": [
    "%viz --style=\"TB\" --view=\"MIXED\" \"AliasImport\""
   ]
  },
  {
   "cell_type": "code",
   "execution_count": 51,
   "id": "9efda4d5",
   "metadata": {
    "execution": {
     "iopub.execute_input": "2022-03-21T07:53:04.662077Z",
     "iopub.status.busy": "2022-03-21T07:53:04.661676Z",
     "iopub.status.idle": "2022-03-21T07:53:04.689489Z",
     "shell.execute_reply": "2022-03-21T07:53:04.688004Z"
    }
   },
   "outputs": [
    {
     "data": {
      "image/svg+xml": [
       "<?xml version=\"1.0\" encoding=\"UTF-8\" standalone=\"no\"?><svg xmlns=\"http://www.w3.org/2000/svg\" xmlns:xlink=\"http://www.w3.org/1999/xlink\" contentScriptType=\"application/ecmascript\" contentStyleType=\"text/css\" height=\"360px\" preserveAspectRatio=\"none\" style=\"width:275px;height:360px;\" version=\"1.1\" viewBox=\"0 0 275 360\" width=\"275px\" zoomAndPan=\"magnify\"><defs/><g><!--MD5=[fbc87193dbaf4d95561dea2c320d4a47]\n",
       "cluster E1--><a href=\"psysml:a585b742-f262-46cd-b94a-c90c9e84789e\" target=\"_top\" title=\"psysml:a585b742-f262-46cd-b94a-c90c9e84789e\" xlink:actuate=\"onRequest\" xlink:href=\"psysml:a585b742-f262-46cd-b94a-c90c9e84789e\" xlink:show=\"new\" xlink:title=\"psysml:a585b742-f262-46cd-b94a-c90c9e84789e\" xlink:type=\"simple\"><polygon fill=\"#FFFFFF\" points=\"16,6,97,6,104,28.2969,253,28.2969,253,348,16,348,16,6\" style=\"stroke: #000000; stroke-width: 1.5;\"/><line style=\"stroke: #000000; stroke-width: 1.5;\" x1=\"16\" x2=\"104\" y1=\"28.2969\" y2=\"28.2969\"/><text fill=\"#000000\" font-family=\"sans-serif\" font-size=\"14\" font-weight=\"bold\" lengthAdjust=\"spacingAndGlyphs\" textLength=\"75\" x=\"20\" y=\"20.9951\">AliasImport</text></a><!--MD5=[e4f7fae6ed58524ba242bb0b0d3be6b7]\n",
       "cluster E2--><a href=\"psysml:336f27c4-53da-4ebc-95bd-6f6303678a10\" target=\"_top\" title=\"psysml:336f27c4-53da-4ebc-95bd-6f6303678a10\" xlink:actuate=\"onRequest\" xlink:href=\"psysml:336f27c4-53da-4ebc-95bd-6f6303678a10\" xlink:show=\"new\" xlink:title=\"psysml:336f27c4-53da-4ebc-95bd-6f6303678a10\" xlink:type=\"simple\"><polygon fill=\"#FFFFFF\" points=\"65,227,144,227,151,249.2969,167,249.2969,167,324,65,324,65,227\" style=\"stroke: #000000; stroke-width: 1.5;\"/><line style=\"stroke: #000000; stroke-width: 1.5;\" x1=\"65\" x2=\"151\" y1=\"249.2969\" y2=\"249.2969\"/><text fill=\"#000000\" font-family=\"sans-serif\" font-size=\"14\" font-weight=\"bold\" lengthAdjust=\"spacingAndGlyphs\" textLength=\"73\" x=\"69\" y=\"241.9951\">Definitions</text></a><!--MD5=[f6df4d0ebaf0b5dfb2ced0ae5af7c670]\n",
       "cluster E4--><a href=\"psysml:1c99181b-1c33-4a44-b1a9-f0fa19d834f2\" target=\"_top\" title=\"psysml:1c99181b-1c33-4a44-b1a9-f0fa19d834f2\" xlink:actuate=\"onRequest\" xlink:href=\"psysml:1c99181b-1c33-4a44-b1a9-f0fa19d834f2\" xlink:show=\"new\" xlink:title=\"psysml:1c99181b-1c33-4a44-b1a9-f0fa19d834f2\" xlink:type=\"simple\"><polygon fill=\"#FFFFFF\" points=\"48,57,106,57,113,79.2969,221,79.2969,221,170,48,170,48,57\" style=\"stroke: #000000; stroke-width: 1.5;\"/><line style=\"stroke: #000000; stroke-width: 1.5;\" x1=\"48\" x2=\"113\" y1=\"79.2969\" y2=\"79.2969\"/><text fill=\"#000000\" font-family=\"sans-serif\" font-size=\"14\" font-weight=\"bold\" lengthAdjust=\"spacingAndGlyphs\" textLength=\"52\" x=\"52\" y=\"71.9951\">Usages</text></a><!--MD5=[09b614a08d8cba4a07c9adeb5e0fee81]\n",
       "class E3--><a href=\"psysml:e00f8094-2dc0-4541-ab70-7f0589b02177\" target=\"_top\" title=\"psysml:e00f8094-2dc0-4541-ab70-7f0589b02177\" xlink:actuate=\"onRequest\" xlink:href=\"psysml:e00f8094-2dc0-4541-ab70-7f0589b02177\" xlink:show=\"new\" xlink:title=\"psysml:e00f8094-2dc0-4541-ab70-7f0589b02177\" xlink:type=\"simple\"><rect fill=\"#FFFFFF\" height=\"45.9375\" id=\"E3\" style=\"stroke: #383838; stroke-width: 1.5;\" width=\"70\" x=\"81\" y=\"262\"/><text fill=\"#000000\" font-family=\"sans-serif\" font-size=\"12\" font-style=\"italic\" lengthAdjust=\"spacingAndGlyphs\" textLength=\"68\" x=\"82\" y=\"278.1387\">«part  def»</text><text fill=\"#000000\" font-family=\"sans-serif\" font-size=\"12\" lengthAdjust=\"spacingAndGlyphs\" textLength=\"45\" x=\"93.5\" y=\"292.1074\">Vehicle</text><line style=\"stroke: #383838; stroke-width: 1.5;\" x1=\"82\" x2=\"150\" y1=\"299.9375\" y2=\"299.9375\"/></a><!--MD5=[270fce915f116d4de14055a7c1d9a0f3]\n",
       "class E5--><a href=\"psysml:9c534076-d85a-4836-b001-6ecd6cbd12fb\" target=\"_top\" title=\"psysml:9c534076-d85a-4836-b001-6ecd6cbd12fb\" xlink:actuate=\"onRequest\" xlink:href=\"psysml:9c534076-d85a-4836-b001-6ecd6cbd12fb\" xlink:show=\"new\" xlink:title=\"psysml:9c534076-d85a-4836-b001-6ecd6cbd12fb\" xlink:type=\"simple\"><rect fill=\"#FFFFFF\" height=\"45.9375\" id=\"E5\" rx=\"10\" ry=\"10\" style=\"stroke: #383838; stroke-width: 1.5;\" width=\"106\" x=\"91\" y=\"100\"/><text fill=\"#000000\" font-family=\"sans-serif\" font-size=\"12\" font-style=\"italic\" lengthAdjust=\"spacingAndGlyphs\" textLength=\"40\" x=\"124\" y=\"116.1387\">«part»</text><text fill=\"#000000\" font-family=\"sans-serif\" font-size=\"12\" lengthAdjust=\"spacingAndGlyphs\" textLength=\"96\" x=\"94\" y=\"130.1074\">vehicle: Vehicle</text><line style=\"stroke: #383838; stroke-width: 1.5;\" x1=\"92\" x2=\"196\" y1=\"137.9375\" y2=\"137.9375\"/></a><!--MD5=[f0cdf4548168e5211fb3a02bf679d63a]\n",
       "link E4 to E3--><a href=\"psysml:754d7efd-e1b6-49fa-9136-3270d64a1ac4\" target=\"_top\" title=\"psysml:754d7efd-e1b6-49fa-9136-3270d64a1ac4\" xlink:actuate=\"onRequest\" xlink:href=\"psysml:754d7efd-e1b6-49fa-9136-3270d64a1ac4\" xlink:show=\"new\" xlink:title=\"psysml:754d7efd-e1b6-49fa-9136-3270d64a1ac4\" xlink:type=\"simple\"><path d=\"M86,170.5461 C86,170.7974 86,171.0491 86,171.3013 C86,173.3182 86,175.3597 86,177.4175 C86,181.5331 86,185.7141 86,189.895 C86,223.3425 86,256.79 86,256.79 \" fill=\"none\" id=\"E4-&gt;E3\" style=\"stroke: #383838; stroke-width: 1.0; stroke-dasharray: 7.0,7.0;\"/><polygon fill=\"#383838\" points=\"86,261.79,90,252.79,86,256.79,82,252.79,86,261.79\" style=\"stroke: #383838; stroke-width: 1.0;\"/><text fill=\"#000000\" font-family=\"sans-serif\" font-size=\"13\" lengthAdjust=\"spacingAndGlyphs\" textLength=\"58\" x=\"73\" y=\"207.0669\">«import»</text></a><!--MD5=[e9be52314489bd878ff4c7144b63c9e1]\n",
       "link E5 to E3--><a href=\"psysml:35d55ec3-6fe4-4032-923f-7a8654029377\" target=\"_top\" title=\"psysml:35d55ec3-6fe4-4032-923f-7a8654029377\" xlink:actuate=\"onRequest\" xlink:href=\"psysml:35d55ec3-6fe4-4032-923f-7a8654029377\" xlink:show=\"new\" xlink:title=\"psysml:35d55ec3-6fe4-4032-923f-7a8654029377\" xlink:type=\"simple\"><path d=\"M121,146.21 C121,146.21 121,241.83 121,241.83 \" fill=\"none\" id=\"E5-&gt;E3\" style=\"stroke: #383838; stroke-width: 1.0;\"/><polygon fill=\"#FFFFFF\" points=\"121,261.83,114,242.83,128,242.83,121,261.83\" style=\"stroke: #383838; stroke-width: 1.0;\"/><ellipse cx=\"116\" cy=\"237.13\" fill=\"#383838\" rx=\"2\" ry=\"2\" style=\"stroke: #383838; stroke-width: 1.0;\"/><ellipse cx=\"126\" cy=\"237.13\" fill=\"#383838\" rx=\"2\" ry=\"2\" style=\"stroke: #383838; stroke-width: 1.0;\"/></a><!--MD5=[f46634423065503d74ed13701e6c6b24]\n",
       "@startuml\r\n",
       "skinparam linetype ortho\r\n",
       "skinparam monochrome true\r\n",
       "skinparam classbackgroundcolor white\r\n",
       "skinparam shadowing false\r\n",
       "skinparam wrapWidth 300\r\n",
       "hide circle\r\n",
       "\r\n",
       "package \"AliasImport\" as E1  [[psysml:a585b742-f262-46cd-b94a-c90c9e84789e ]]  {\r\n",
       "package \"Definitions\" as E2  [[psysml:336f27c4-53da-4ebc-95bd-6f6303678a10 ]]  {\r\n",
       "comp def \"Vehicle\" as E3  <<(T,blue) part  def>> [[psysml:e00f8094-2dc0-4541-ab70-7f0589b02177 ]] {\r\n",
       "}\r\n",
       "}\r\n",
       "package \"Usages\" as E4  [[psysml:1c99181b-1c33-4a44-b1a9-f0fa19d834f2 ]]  {\r\n",
       "comp usage \"vehicle: Vehicle \" as E5  <<(T,blue) part>> [[psysml:9c534076-d85a-4836-b001-6ecd6cbd12fb ]] {\r\n",
       "}\r\n",
       "}\r\n",
       "}\r\n",
       "E4 ..> E3 [[psysml:754d7efd-e1b6-49fa-9136-3270d64a1ac4 ]] : <<import>>\r\n",
       "E5 - -:|> E3 [[psysml:35d55ec3-6fe4-4032-923f-7a8654029377 ]] \r\n",
       "@enduml\r\n",
       "\n",
       "PlantUML version 1.2020.13(Sat Jun 13 12:26:38 UTC 2020)\n",
       "(EPL source distribution)\n",
       "Java Runtime: OpenJDK Runtime Environment\n",
       "JVM: OpenJDK 64-Bit Server VM\n",
       "Default Encoding: UTF-8\n",
       "Language: en\n",
       "Country: null\n",
       "--></g></svg>"
      ]
     },
     "execution_count": 51,
     "metadata": {},
     "output_type": "execute_result"
    }
   ],
   "source": [
    "%viz --style=\"ORTHOLINE\" --view=\"Default\" \"AliasImport\""
   ]
  },
  {
   "cell_type": "code",
   "execution_count": 52,
   "id": "990742db",
   "metadata": {
    "execution": {
     "iopub.execute_input": "2022-03-21T07:53:04.739061Z",
     "iopub.status.busy": "2022-03-21T07:53:04.738642Z",
     "iopub.status.idle": "2022-03-21T07:53:04.765795Z",
     "shell.execute_reply": "2022-03-21T07:53:04.764493Z"
    }
   },
   "outputs": [
    {
     "data": {
      "image/svg+xml": [
       "<?xml version=\"1.0\" encoding=\"UTF-8\" standalone=\"no\"?><svg xmlns=\"http://www.w3.org/2000/svg\" xmlns:xlink=\"http://www.w3.org/1999/xlink\" contentScriptType=\"application/ecmascript\" contentStyleType=\"text/css\" height=\"360px\" preserveAspectRatio=\"none\" style=\"width:275px;height:360px;\" version=\"1.1\" viewBox=\"0 0 275 360\" width=\"275px\" zoomAndPan=\"magnify\"><defs/><g><!--MD5=[fbc87193dbaf4d95561dea2c320d4a47]\n",
       "cluster E1--><a href=\"psysml:a585b742-f262-46cd-b94a-c90c9e84789e\" target=\"_top\" title=\"psysml:a585b742-f262-46cd-b94a-c90c9e84789e\" xlink:actuate=\"onRequest\" xlink:href=\"psysml:a585b742-f262-46cd-b94a-c90c9e84789e\" xlink:show=\"new\" xlink:title=\"psysml:a585b742-f262-46cd-b94a-c90c9e84789e\" xlink:type=\"simple\"><polygon fill=\"#FFFFFF\" points=\"16,6,97,6,104,28.2969,253,28.2969,253,348,16,348,16,6\" style=\"stroke: #000000; stroke-width: 1.5;\"/><line style=\"stroke: #000000; stroke-width: 1.5;\" x1=\"16\" x2=\"104\" y1=\"28.2969\" y2=\"28.2969\"/><text fill=\"#000000\" font-family=\"sans-serif\" font-size=\"14\" font-weight=\"bold\" lengthAdjust=\"spacingAndGlyphs\" textLength=\"75\" x=\"20\" y=\"20.9951\">AliasImport</text></a><!--MD5=[e4f7fae6ed58524ba242bb0b0d3be6b7]\n",
       "cluster E2--><a href=\"psysml:336f27c4-53da-4ebc-95bd-6f6303678a10\" target=\"_top\" title=\"psysml:336f27c4-53da-4ebc-95bd-6f6303678a10\" xlink:actuate=\"onRequest\" xlink:href=\"psysml:336f27c4-53da-4ebc-95bd-6f6303678a10\" xlink:show=\"new\" xlink:title=\"psysml:336f27c4-53da-4ebc-95bd-6f6303678a10\" xlink:type=\"simple\"><polygon fill=\"#FFFFFF\" points=\"65,227,144,227,151,249.2969,167,249.2969,167,324,65,324,65,227\" style=\"stroke: #000000; stroke-width: 1.5;\"/><line style=\"stroke: #000000; stroke-width: 1.5;\" x1=\"65\" x2=\"151\" y1=\"249.2969\" y2=\"249.2969\"/><text fill=\"#000000\" font-family=\"sans-serif\" font-size=\"14\" font-weight=\"bold\" lengthAdjust=\"spacingAndGlyphs\" textLength=\"73\" x=\"69\" y=\"241.9951\">Definitions</text></a><!--MD5=[f6df4d0ebaf0b5dfb2ced0ae5af7c670]\n",
       "cluster E4--><a href=\"psysml:1c99181b-1c33-4a44-b1a9-f0fa19d834f2\" target=\"_top\" title=\"psysml:1c99181b-1c33-4a44-b1a9-f0fa19d834f2\" xlink:actuate=\"onRequest\" xlink:href=\"psysml:1c99181b-1c33-4a44-b1a9-f0fa19d834f2\" xlink:show=\"new\" xlink:title=\"psysml:1c99181b-1c33-4a44-b1a9-f0fa19d834f2\" xlink:type=\"simple\"><polygon fill=\"#FFFFFF\" points=\"48,57,106,57,113,79.2969,221,79.2969,221,170,48,170,48,57\" style=\"stroke: #000000; stroke-width: 1.5;\"/><line style=\"stroke: #000000; stroke-width: 1.5;\" x1=\"48\" x2=\"113\" y1=\"79.2969\" y2=\"79.2969\"/><text fill=\"#000000\" font-family=\"sans-serif\" font-size=\"14\" font-weight=\"bold\" lengthAdjust=\"spacingAndGlyphs\" textLength=\"52\" x=\"52\" y=\"71.9951\">Usages</text></a><!--MD5=[09b614a08d8cba4a07c9adeb5e0fee81]\n",
       "class E3--><a href=\"psysml:e00f8094-2dc0-4541-ab70-7f0589b02177\" target=\"_top\" title=\"psysml:e00f8094-2dc0-4541-ab70-7f0589b02177\" xlink:actuate=\"onRequest\" xlink:href=\"psysml:e00f8094-2dc0-4541-ab70-7f0589b02177\" xlink:show=\"new\" xlink:title=\"psysml:e00f8094-2dc0-4541-ab70-7f0589b02177\" xlink:type=\"simple\"><rect fill=\"#FFFFFF\" height=\"45.9375\" id=\"E3\" style=\"stroke: #383838; stroke-width: 1.5;\" width=\"70\" x=\"81\" y=\"262\"/><text fill=\"#000000\" font-family=\"sans-serif\" font-size=\"12\" font-style=\"italic\" lengthAdjust=\"spacingAndGlyphs\" textLength=\"68\" x=\"82\" y=\"278.1387\">«part  def»</text><text fill=\"#000000\" font-family=\"sans-serif\" font-size=\"12\" lengthAdjust=\"spacingAndGlyphs\" textLength=\"45\" x=\"93.5\" y=\"292.1074\">Vehicle</text><line style=\"stroke: #383838; stroke-width: 1.5;\" x1=\"82\" x2=\"150\" y1=\"299.9375\" y2=\"299.9375\"/></a><!--MD5=[270fce915f116d4de14055a7c1d9a0f3]\n",
       "class E5--><a href=\"psysml:9c534076-d85a-4836-b001-6ecd6cbd12fb\" target=\"_top\" title=\"psysml:9c534076-d85a-4836-b001-6ecd6cbd12fb\" xlink:actuate=\"onRequest\" xlink:href=\"psysml:9c534076-d85a-4836-b001-6ecd6cbd12fb\" xlink:show=\"new\" xlink:title=\"psysml:9c534076-d85a-4836-b001-6ecd6cbd12fb\" xlink:type=\"simple\"><rect fill=\"#FFFFFF\" height=\"45.9375\" id=\"E5\" rx=\"10\" ry=\"10\" style=\"stroke: #383838; stroke-width: 1.5;\" width=\"106\" x=\"91\" y=\"100\"/><text fill=\"#000000\" font-family=\"sans-serif\" font-size=\"12\" font-style=\"italic\" lengthAdjust=\"spacingAndGlyphs\" textLength=\"40\" x=\"124\" y=\"116.1387\">«part»</text><text fill=\"#000000\" font-family=\"sans-serif\" font-size=\"12\" lengthAdjust=\"spacingAndGlyphs\" textLength=\"96\" x=\"94\" y=\"130.1074\">vehicle: Vehicle</text><line style=\"stroke: #383838; stroke-width: 1.5;\" x1=\"92\" x2=\"196\" y1=\"137.9375\" y2=\"137.9375\"/></a><!--MD5=[f0cdf4548168e5211fb3a02bf679d63a]\n",
       "link E4 to E3--><a href=\"psysml:754d7efd-e1b6-49fa-9136-3270d64a1ac4\" target=\"_top\" title=\"psysml:754d7efd-e1b6-49fa-9136-3270d64a1ac4\" xlink:actuate=\"onRequest\" xlink:href=\"psysml:754d7efd-e1b6-49fa-9136-3270d64a1ac4\" xlink:show=\"new\" xlink:title=\"psysml:754d7efd-e1b6-49fa-9136-3270d64a1ac4\" xlink:type=\"simple\"><path d=\"M86,170.5461 C86,170.7974 86,171.0491 86,171.3013 C86,173.3182 86,175.3597 86,177.4175 C86,181.5331 86,185.7141 86,189.895 C86,223.3425 86,256.79 86,256.79 \" fill=\"none\" id=\"E4-&gt;E3\" style=\"stroke: #383838; stroke-width: 1.0; stroke-dasharray: 7.0,7.0;\"/><polygon fill=\"#383838\" points=\"86,261.79,90,252.79,86,256.79,82,252.79,86,261.79\" style=\"stroke: #383838; stroke-width: 1.0;\"/><text fill=\"#000000\" font-family=\"sans-serif\" font-size=\"13\" lengthAdjust=\"spacingAndGlyphs\" textLength=\"58\" x=\"73\" y=\"207.0669\">«import»</text></a><!--MD5=[e9be52314489bd878ff4c7144b63c9e1]\n",
       "link E5 to E3--><a href=\"psysml:35d55ec3-6fe4-4032-923f-7a8654029377\" target=\"_top\" title=\"psysml:35d55ec3-6fe4-4032-923f-7a8654029377\" xlink:actuate=\"onRequest\" xlink:href=\"psysml:35d55ec3-6fe4-4032-923f-7a8654029377\" xlink:show=\"new\" xlink:title=\"psysml:35d55ec3-6fe4-4032-923f-7a8654029377\" xlink:type=\"simple\"><path d=\"M121,146.21 C121,146.21 121,241.83 121,241.83 \" fill=\"none\" id=\"E5-&gt;E3\" style=\"stroke: #383838; stroke-width: 1.0;\"/><polygon fill=\"#FFFFFF\" points=\"121,261.83,114,242.83,128,242.83,121,261.83\" style=\"stroke: #383838; stroke-width: 1.0;\"/><ellipse cx=\"116\" cy=\"237.13\" fill=\"#383838\" rx=\"2\" ry=\"2\" style=\"stroke: #383838; stroke-width: 1.0;\"/><ellipse cx=\"126\" cy=\"237.13\" fill=\"#383838\" rx=\"2\" ry=\"2\" style=\"stroke: #383838; stroke-width: 1.0;\"/></a><!--MD5=[f46634423065503d74ed13701e6c6b24]\n",
       "@startuml\r\n",
       "skinparam linetype ortho\r\n",
       "skinparam monochrome true\r\n",
       "skinparam classbackgroundcolor white\r\n",
       "skinparam shadowing false\r\n",
       "skinparam wrapWidth 300\r\n",
       "hide circle\r\n",
       "\r\n",
       "package \"AliasImport\" as E1  [[psysml:a585b742-f262-46cd-b94a-c90c9e84789e ]]  {\r\n",
       "package \"Definitions\" as E2  [[psysml:336f27c4-53da-4ebc-95bd-6f6303678a10 ]]  {\r\n",
       "comp def \"Vehicle\" as E3  <<(T,blue) part  def>> [[psysml:e00f8094-2dc0-4541-ab70-7f0589b02177 ]] {\r\n",
       "}\r\n",
       "}\r\n",
       "package \"Usages\" as E4  [[psysml:1c99181b-1c33-4a44-b1a9-f0fa19d834f2 ]]  {\r\n",
       "comp usage \"vehicle: Vehicle \" as E5  <<(T,blue) part>> [[psysml:9c534076-d85a-4836-b001-6ecd6cbd12fb ]] {\r\n",
       "}\r\n",
       "}\r\n",
       "}\r\n",
       "E4 ..> E3 [[psysml:754d7efd-e1b6-49fa-9136-3270d64a1ac4 ]] : <<import>>\r\n",
       "E5 - -:|> E3 [[psysml:35d55ec3-6fe4-4032-923f-7a8654029377 ]] \r\n",
       "@enduml\r\n",
       "\n",
       "PlantUML version 1.2020.13(Sat Jun 13 12:26:38 UTC 2020)\n",
       "(EPL source distribution)\n",
       "Java Runtime: OpenJDK Runtime Environment\n",
       "JVM: OpenJDK 64-Bit Server VM\n",
       "Default Encoding: UTF-8\n",
       "Language: en\n",
       "Country: null\n",
       "--></g></svg>"
      ]
     },
     "execution_count": 52,
     "metadata": {},
     "output_type": "execute_result"
    }
   ],
   "source": [
    "%viz --style=\"ORTHOLINE\" --view=\"Tree\" \"AliasImport\""
   ]
  },
  {
   "cell_type": "code",
   "execution_count": 53,
   "id": "dc204839",
   "metadata": {
    "execution": {
     "iopub.execute_input": "2022-03-21T07:53:04.815251Z",
     "iopub.status.busy": "2022-03-21T07:53:04.814821Z",
     "iopub.status.idle": "2022-03-21T07:53:04.819703Z",
     "shell.execute_reply": "2022-03-21T07:53:04.819359Z"
    }
   },
   "outputs": [
    {
     "data": {
      "image/svg+xml": [
       "<?xml version=\"1.0\" encoding=\"UTF-8\" standalone=\"no\"?><svg xmlns=\"http://www.w3.org/2000/svg\" xmlns:xlink=\"http://www.w3.org/1999/xlink\" contentScriptType=\"application/ecmascript\" contentStyleType=\"text/css\" height=\"12px\" preserveAspectRatio=\"none\" style=\"width:12px;height:12px;\" version=\"1.1\" viewBox=\"0 0 12 12\" width=\"12px\" zoomAndPan=\"magnify\"><defs/><g><!--MD5=[97d6f38768b311333d388e66b2b27985]\n",
       "@startuml\r\n",
       "skinparam linetype ortho\r\n",
       "skinparam monochrome true\r\n",
       "skinparam classbackgroundcolor white\r\n",
       "skinparam shadowing false\r\n",
       "skinparam wrapWidth 300\r\n",
       "hide circle\r\n",
       "\r\n",
       "@enduml\r\n",
       "\n",
       "PlantUML version 1.2020.13(Sat Jun 13 12:26:38 UTC 2020)\n",
       "(EPL source distribution)\n",
       "Java Runtime: OpenJDK Runtime Environment\n",
       "JVM: OpenJDK 64-Bit Server VM\n",
       "Default Encoding: UTF-8\n",
       "Language: en\n",
       "Country: null\n",
       "--></g></svg>"
      ]
     },
     "execution_count": 53,
     "metadata": {},
     "output_type": "execute_result"
    }
   ],
   "source": [
    "%viz --style=\"ORTHOLINE\" --view=\"State\" \"AliasImport\""
   ]
  },
  {
   "cell_type": "code",
   "execution_count": 54,
   "id": "884bf4b1",
   "metadata": {
    "execution": {
     "iopub.execute_input": "2022-03-21T07:53:04.869553Z",
     "iopub.status.busy": "2022-03-21T07:53:04.869135Z",
     "iopub.status.idle": "2022-03-21T07:53:04.896590Z",
     "shell.execute_reply": "2022-03-21T07:53:04.894906Z"
    }
   },
   "outputs": [
    {
     "data": {
      "image/svg+xml": [
       "<?xml version=\"1.0\" encoding=\"UTF-8\" standalone=\"no\"?><svg xmlns=\"http://www.w3.org/2000/svg\" xmlns:xlink=\"http://www.w3.org/1999/xlink\" contentScriptType=\"application/ecmascript\" contentStyleType=\"text/css\" height=\"351px\" preserveAspectRatio=\"none\" style=\"width:302px;height:351px;\" version=\"1.1\" viewBox=\"0 0 302 351\" width=\"302px\" zoomAndPan=\"magnify\"><defs/><g><!--MD5=[fbc87193dbaf4d95561dea2c320d4a47]\n",
       "cluster E1--><a href=\"psysml:a585b742-f262-46cd-b94a-c90c9e84789e\" target=\"_top\" title=\"psysml:a585b742-f262-46cd-b94a-c90c9e84789e\" xlink:actuate=\"onRequest\" xlink:href=\"psysml:a585b742-f262-46cd-b94a-c90c9e84789e\" xlink:show=\"new\" xlink:title=\"psysml:a585b742-f262-46cd-b94a-c90c9e84789e\" xlink:type=\"simple\"><polygon fill=\"#FFFFFF\" points=\"16,6,97,6,104,28.2969,280,28.2969,280,339,16,339,16,6\" style=\"stroke: #000000; stroke-width: 1.5;\"/><line style=\"stroke: #000000; stroke-width: 1.5;\" x1=\"16\" x2=\"104\" y1=\"28.2969\" y2=\"28.2969\"/><text fill=\"#000000\" font-family=\"sans-serif\" font-size=\"14\" font-weight=\"bold\" lengthAdjust=\"spacingAndGlyphs\" textLength=\"75\" x=\"20\" y=\"20.9951\">AliasImport</text></a><!--MD5=[e4f7fae6ed58524ba242bb0b0d3be6b7]\n",
       "cluster E2--><a href=\"psysml:336f27c4-53da-4ebc-95bd-6f6303678a10\" target=\"_top\" title=\"psysml:336f27c4-53da-4ebc-95bd-6f6303678a10\" xlink:actuate=\"onRequest\" xlink:href=\"psysml:336f27c4-53da-4ebc-95bd-6f6303678a10\" xlink:show=\"new\" xlink:title=\"psysml:336f27c4-53da-4ebc-95bd-6f6303678a10\" xlink:type=\"simple\"><polygon fill=\"#FFFFFF\" points=\"40,221,119,221,126,243.2969,256,243.2969,256,315,40,315,40,221\" style=\"stroke: #000000; stroke-width: 1.5;\"/><line style=\"stroke: #000000; stroke-width: 1.5;\" x1=\"40\" x2=\"126\" y1=\"243.2969\" y2=\"243.2969\"/><text fill=\"#000000\" font-family=\"sans-serif\" font-size=\"14\" font-weight=\"bold\" lengthAdjust=\"spacingAndGlyphs\" textLength=\"73\" x=\"44\" y=\"235.9951\">Definitions</text></a><!--MD5=[de5ec2e2e8f62f467e546659f5068c88]\n",
       "cluster E5--><a href=\"psysml:1c99181b-1c33-4a44-b1a9-f0fa19d834f2\" target=\"_top\" title=\"psysml:1c99181b-1c33-4a44-b1a9-f0fa19d834f2\" xlink:actuate=\"onRequest\" xlink:href=\"psysml:1c99181b-1c33-4a44-b1a9-f0fa19d834f2\" xlink:show=\"new\" xlink:title=\"psysml:1c99181b-1c33-4a44-b1a9-f0fa19d834f2\" xlink:type=\"simple\"><polygon fill=\"#FFFFFF\" points=\"74,57,132,57,139,79.2969,248,79.2969,248,164,74,164,74,57\" style=\"stroke: #000000; stroke-width: 1.5;\"/><line style=\"stroke: #000000; stroke-width: 1.5;\" x1=\"74\" x2=\"139\" y1=\"79.2969\" y2=\"79.2969\"/><text fill=\"#000000\" font-family=\"sans-serif\" font-size=\"14\" font-weight=\"bold\" lengthAdjust=\"spacingAndGlyphs\" textLength=\"52\" x=\"78\" y=\"71.9951\">Usages</text></a><g id=\"E1.E2.E3\"><a href=\"psysml:e00f8094-2dc0-4541-ab70-7f0589b02177\" target=\"_top\" title=\"psysml:e00f8094-2dc0-4541-ab70-7f0589b02177\" xlink:actuate=\"onRequest\" xlink:href=\"psysml:e00f8094-2dc0-4541-ab70-7f0589b02177\" xlink:show=\"new\" xlink:title=\"psysml:e00f8094-2dc0-4541-ab70-7f0589b02177\" xlink:type=\"simple\"><rect fill=\"#FFFFFF\" height=\"42.9375\" id=\"E3\" style=\"stroke: #383838; stroke-width: 1.5;\" width=\"75\" x=\"165.5\" y=\"256\"/><rect fill=\"#F8F8F8\" height=\"37.9375\" style=\"stroke: #383838; stroke-width: 1.5;\" width=\"75\" x=\"165.5\" y=\"256\"/><text fill=\"#000000\" font-family=\"sans-serif\" font-size=\"12\" font-style=\"italic\" lengthAdjust=\"spacingAndGlyphs\" textLength=\"68\" x=\"169\" y=\"272.1387\">«part  def»</text><text fill=\"#000000\" font-family=\"sans-serif\" font-size=\"12\" lengthAdjust=\"spacingAndGlyphs\" textLength=\"45\" x=\"180.5\" y=\"286.1074\">Vehicle</text></a></g><g id=\"E1.E2.E4\"><a href=\"psysml:e00f8094-2dc0-4541-ab70-7f0589b02177\" target=\"_top\" title=\"psysml:e00f8094-2dc0-4541-ab70-7f0589b02177\" xlink:actuate=\"onRequest\" xlink:href=\"psysml:e00f8094-2dc0-4541-ab70-7f0589b02177\" xlink:show=\"new\" xlink:title=\"psysml:e00f8094-2dc0-4541-ab70-7f0589b02177\" xlink:type=\"simple\"><rect fill=\"#FFFFFF\" height=\"42.9375\" id=\"E4\" style=\"stroke: #383838; stroke-width: 1.5;\" width=\"75\" x=\"55.5\" y=\"256\"/><rect fill=\"#F8F8F8\" height=\"37.9375\" style=\"stroke: #383838; stroke-width: 1.5;\" width=\"75\" x=\"55.5\" y=\"256\"/><text fill=\"#000000\" font-family=\"sans-serif\" font-size=\"12\" font-style=\"italic\" lengthAdjust=\"spacingAndGlyphs\" textLength=\"68\" x=\"59\" y=\"272.1387\">«part  def»</text><text fill=\"#000000\" font-family=\"sans-serif\" font-size=\"12\" lengthAdjust=\"spacingAndGlyphs\" textLength=\"45\" x=\"70.5\" y=\"286.1074\">Vehicle</text></a></g><g id=\"E1.E5.E6\"><a href=\"psysml:9c534076-d85a-4836-b001-6ecd6cbd12fb\" target=\"_top\" title=\"psysml:9c534076-d85a-4836-b001-6ecd6cbd12fb\" xlink:actuate=\"onRequest\" xlink:href=\"psysml:9c534076-d85a-4836-b001-6ecd6cbd12fb\" xlink:show=\"new\" xlink:title=\"psysml:9c534076-d85a-4836-b001-6ecd6cbd12fb\" xlink:type=\"simple\"><rect fill=\"#FFFFFF\" height=\"40\" id=\"E6\" rx=\"10\" ry=\"10\" style=\"stroke: #383838; stroke-width: 1.5;\" width=\"107\" x=\"117.5\" y=\"100\"/><rect fill=\"#F8F8F8\" height=\"23.9688\" rx=\"10\" ry=\"10\" style=\"stroke: #F8F8F8; stroke-width: 1.5;\" width=\"107\" x=\"117.5\" y=\"100\"/><rect fill=\"#F8F8F8\" height=\"10\" style=\"stroke: #F8F8F8; stroke-width: 1.5;\" width=\"107\" x=\"117.5\" y=\"113.9688\"/><rect fill=\"none\" height=\"40\" id=\"E6\" rx=\"10\" ry=\"10\" style=\"stroke: #383838; stroke-width: 1.5;\" width=\"107\" x=\"117.5\" y=\"100\"/><text fill=\"#000000\" font-family=\"sans-serif\" font-size=\"12\" lengthAdjust=\"spacingAndGlyphs\" textLength=\"96\" x=\"123\" y=\"116.1387\">vehicle: Vehicle</text></a></g><!--MD5=[1c62de2aa5b76f0fb657ff8443a1a700]\n",
       "link E5 to E4--><a href=\"psysml:754d7efd-e1b6-49fa-9136-3270d64a1ac4\" target=\"_top\" title=\"psysml:754d7efd-e1b6-49fa-9136-3270d64a1ac4\" xlink:actuate=\"onRequest\" xlink:href=\"psysml:754d7efd-e1b6-49fa-9136-3270d64a1ac4\" xlink:show=\"new\" xlink:title=\"psysml:754d7efd-e1b6-49fa-9136-3270d64a1ac4\" xlink:type=\"simple\"><path d=\"M82,164.6076 C82,165.5779 82,166.5551 82,167.5382 C82,169.5045 82,171.4947 82,173.5009 C82,177.5131 82,181.5891 82,185.665 C82,218.2725 82,250.88 82,250.88 \" fill=\"none\" id=\"E5-&gt;E4\" style=\"stroke: #383838; stroke-width: 1.0; stroke-dasharray: 7.0,7.0;\"/><polygon fill=\"#383838\" points=\"82,255.88,86,246.88,82,250.88,78,246.88,82,255.88\" style=\"stroke: #383838; stroke-width: 1.0;\"/><text fill=\"#000000\" font-family=\"sans-serif\" font-size=\"13\" lengthAdjust=\"spacingAndGlyphs\" textLength=\"58\" x=\"88\" y=\"201.0669\">«import»</text></a><!--MD5=[1fb8e22dfbd0ab64f91eed549b283817]\n",
       "@startuml\r\n",
       "skinparam ranksep 10\r\n",
       "skinparam rectangle {\r\n",
       " backgroundColor<<block>> LightGreen\r\n",
       "}\r\n",
       "skinparam linetype ortho\r\n",
       "skinparam monochrome true\r\n",
       "skinparam classbackgroundcolor white\r\n",
       "skinparam shadowing false\r\n",
       "skinparam wrapWidth 300\r\n",
       "hide circle\r\n",
       "\r\n",
       "package \"AliasImport\" as E1  [[psysml:a585b742-f262-46cd-b94a-c90c9e84789e ]]  {\r\n",
       "package \"Definitions\" as E2  [[psysml:336f27c4-53da-4ebc-95bd-6f6303678a10 ]]  {\r\n",
       "rec def \"Vehicle\" as E3  <<(T,blue) part  def>> [[psysml:e00f8094-2dc0-4541-ab70-7f0589b02177 ]] {\r\n",
       "}\r\n",
       "rec def \"Vehicle\" as E4  <<(T,blue) part  def>> [[psysml:e00f8094-2dc0-4541-ab70-7f0589b02177 ]] {\r\n",
       "}\r\n",
       "}\r\n",
       "package \"Usages\" as E5  [[psysml:1c99181b-1c33-4a44-b1a9-f0fa19d834f2 ]]  {\r\n",
       "rec usage \"vehicle: Vehicle\" as E6  [[psysml:9c534076-d85a-4836-b001-6ecd6cbd12fb ]] {\r\n",
       "}\r\n",
       "}\r\n",
       "}\r\n",
       "E5 ..> E4 [[psysml:754d7efd-e1b6-49fa-9136-3270d64a1ac4 ]] : <<import>>\r\n",
       "@enduml\r\n",
       "\n",
       "PlantUML version 1.2020.13(Sat Jun 13 12:26:38 UTC 2020)\n",
       "(EPL source distribution)\n",
       "Java Runtime: OpenJDK Runtime Environment\n",
       "JVM: OpenJDK 64-Bit Server VM\n",
       "Default Encoding: UTF-8\n",
       "Language: en\n",
       "Country: null\n",
       "--></g></svg>"
      ]
     },
     "execution_count": 54,
     "metadata": {},
     "output_type": "execute_result"
    }
   ],
   "source": [
    "%viz --style=\"ORTHOLINE\" --view=\"Interconnection\" \"AliasImport\""
   ]
  },
  {
   "cell_type": "code",
   "execution_count": 55,
   "id": "afd1fbb7",
   "metadata": {
    "execution": {
     "iopub.execute_input": "2022-03-21T07:53:04.945572Z",
     "iopub.status.busy": "2022-03-21T07:53:04.945158Z",
     "iopub.status.idle": "2022-03-21T07:53:04.950011Z",
     "shell.execute_reply": "2022-03-21T07:53:04.949667Z"
    }
   },
   "outputs": [
    {
     "data": {
      "image/svg+xml": [
       "<?xml version=\"1.0\" encoding=\"UTF-8\" standalone=\"no\"?><svg xmlns=\"http://www.w3.org/2000/svg\" xmlns:xlink=\"http://www.w3.org/1999/xlink\" contentScriptType=\"application/ecmascript\" contentStyleType=\"text/css\" height=\"12px\" preserveAspectRatio=\"none\" style=\"width:12px;height:12px;\" version=\"1.1\" viewBox=\"0 0 12 12\" width=\"12px\" zoomAndPan=\"magnify\"><defs/><g><!--MD5=[72934c63077099a26744516a776b4749]\n",
       "@startuml\r\n",
       "skinparam ranksep 8\r\n",
       "skinparam linetype ortho\r\n",
       "skinparam monochrome true\r\n",
       "skinparam classbackgroundcolor white\r\n",
       "skinparam shadowing false\r\n",
       "skinparam wrapWidth 300\r\n",
       "hide circle\r\n",
       "\r\n",
       "@enduml\r\n",
       "\n",
       "PlantUML version 1.2020.13(Sat Jun 13 12:26:38 UTC 2020)\n",
       "(EPL source distribution)\n",
       "Java Runtime: OpenJDK Runtime Environment\n",
       "JVM: OpenJDK 64-Bit Server VM\n",
       "Default Encoding: UTF-8\n",
       "Language: en\n",
       "Country: null\n",
       "--></g></svg>"
      ]
     },
     "execution_count": 55,
     "metadata": {},
     "output_type": "execute_result"
    }
   ],
   "source": [
    "%viz --style=\"ORTHOLINE\" --view=\"Action\" \"AliasImport\""
   ]
  },
  {
   "cell_type": "code",
   "execution_count": 56,
   "id": "35637e29",
   "metadata": {
    "execution": {
     "iopub.execute_input": "2022-03-21T07:53:04.999845Z",
     "iopub.status.busy": "2022-03-21T07:53:04.999445Z",
     "iopub.status.idle": "2022-03-21T07:53:05.004342Z",
     "shell.execute_reply": "2022-03-21T07:53:05.003997Z"
    }
   },
   "outputs": [
    {
     "data": {
      "image/svg+xml": [
       "<?xml version=\"1.0\" encoding=\"UTF-8\" standalone=\"no\"?><svg xmlns=\"http://www.w3.org/2000/svg\" xmlns:xlink=\"http://www.w3.org/1999/xlink\" contentScriptType=\"application/ecmascript\" contentStyleType=\"text/css\" height=\"12px\" preserveAspectRatio=\"none\" style=\"width:12px;height:12px;\" version=\"1.1\" viewBox=\"0 0 12 12\" width=\"12px\" zoomAndPan=\"magnify\"><defs/><g><!--MD5=[30fc1de5121c5abddedd55b44417fde8]\n",
       "@startuml\r\n",
       "skinparam roundcorner 20\r\n",
       "skinparam BoxPadding 20\r\n",
       "skinparam SequenceBoxBackgroundColor #white\r\n",
       "skinparam style strictuml\r\n",
       "skinparam maxMessageSize 100\r\n",
       "skinparam linetype ortho\r\n",
       "skinparam monochrome true\r\n",
       "skinparam classbackgroundcolor white\r\n",
       "skinparam shadowing false\r\n",
       "skinparam wrapWidth 300\r\n",
       "hide circle\r\n",
       "\r\n",
       "@enduml\r\n",
       "\n",
       "PlantUML version 1.2020.13(Sat Jun 13 12:26:38 UTC 2020)\n",
       "(EPL source distribution)\n",
       "Java Runtime: OpenJDK Runtime Environment\n",
       "JVM: OpenJDK 64-Bit Server VM\n",
       "Default Encoding: UTF-8\n",
       "Language: en\n",
       "Country: null\n",
       "--></g></svg>"
      ]
     },
     "execution_count": 56,
     "metadata": {},
     "output_type": "execute_result"
    }
   ],
   "source": [
    "%viz --style=\"ORTHOLINE\" --view=\"Sequence\" \"AliasImport\""
   ]
  },
  {
   "cell_type": "code",
   "execution_count": 57,
   "id": "853c3b6c",
   "metadata": {
    "execution": {
     "iopub.execute_input": "2022-03-21T07:53:05.054098Z",
     "iopub.status.busy": "2022-03-21T07:53:05.053680Z",
     "iopub.status.idle": "2022-03-21T07:53:05.080046Z",
     "shell.execute_reply": "2022-03-21T07:53:05.078766Z"
    }
   },
   "outputs": [
    {
     "data": {
      "image/svg+xml": [
       "<?xml version=\"1.0\" encoding=\"UTF-8\" standalone=\"no\"?><svg xmlns=\"http://www.w3.org/2000/svg\" xmlns:xlink=\"http://www.w3.org/1999/xlink\" contentScriptType=\"application/ecmascript\" contentStyleType=\"text/css\" height=\"360px\" preserveAspectRatio=\"none\" style=\"width:275px;height:360px;\" version=\"1.1\" viewBox=\"0 0 275 360\" width=\"275px\" zoomAndPan=\"magnify\"><defs/><g><!--MD5=[fbc87193dbaf4d95561dea2c320d4a47]\n",
       "cluster E1--><a href=\"psysml:a585b742-f262-46cd-b94a-c90c9e84789e\" target=\"_top\" title=\"psysml:a585b742-f262-46cd-b94a-c90c9e84789e\" xlink:actuate=\"onRequest\" xlink:href=\"psysml:a585b742-f262-46cd-b94a-c90c9e84789e\" xlink:show=\"new\" xlink:title=\"psysml:a585b742-f262-46cd-b94a-c90c9e84789e\" xlink:type=\"simple\"><polygon fill=\"#FFFFFF\" points=\"16,6,97,6,104,28.2969,253,28.2969,253,348,16,348,16,6\" style=\"stroke: #000000; stroke-width: 1.5;\"/><line style=\"stroke: #000000; stroke-width: 1.5;\" x1=\"16\" x2=\"104\" y1=\"28.2969\" y2=\"28.2969\"/><text fill=\"#000000\" font-family=\"sans-serif\" font-size=\"14\" font-weight=\"bold\" lengthAdjust=\"spacingAndGlyphs\" textLength=\"75\" x=\"20\" y=\"20.9951\">AliasImport</text></a><!--MD5=[e4f7fae6ed58524ba242bb0b0d3be6b7]\n",
       "cluster E2--><a href=\"psysml:336f27c4-53da-4ebc-95bd-6f6303678a10\" target=\"_top\" title=\"psysml:336f27c4-53da-4ebc-95bd-6f6303678a10\" xlink:actuate=\"onRequest\" xlink:href=\"psysml:336f27c4-53da-4ebc-95bd-6f6303678a10\" xlink:show=\"new\" xlink:title=\"psysml:336f27c4-53da-4ebc-95bd-6f6303678a10\" xlink:type=\"simple\"><polygon fill=\"#FFFFFF\" points=\"65,227,144,227,151,249.2969,167,249.2969,167,324,65,324,65,227\" style=\"stroke: #000000; stroke-width: 1.5;\"/><line style=\"stroke: #000000; stroke-width: 1.5;\" x1=\"65\" x2=\"151\" y1=\"249.2969\" y2=\"249.2969\"/><text fill=\"#000000\" font-family=\"sans-serif\" font-size=\"14\" font-weight=\"bold\" lengthAdjust=\"spacingAndGlyphs\" textLength=\"73\" x=\"69\" y=\"241.9951\">Definitions</text></a><!--MD5=[f6df4d0ebaf0b5dfb2ced0ae5af7c670]\n",
       "cluster E4--><a href=\"psysml:1c99181b-1c33-4a44-b1a9-f0fa19d834f2\" target=\"_top\" title=\"psysml:1c99181b-1c33-4a44-b1a9-f0fa19d834f2\" xlink:actuate=\"onRequest\" xlink:href=\"psysml:1c99181b-1c33-4a44-b1a9-f0fa19d834f2\" xlink:show=\"new\" xlink:title=\"psysml:1c99181b-1c33-4a44-b1a9-f0fa19d834f2\" xlink:type=\"simple\"><polygon fill=\"#FFFFFF\" points=\"48,57,106,57,113,79.2969,221,79.2969,221,170,48,170,48,57\" style=\"stroke: #000000; stroke-width: 1.5;\"/><line style=\"stroke: #000000; stroke-width: 1.5;\" x1=\"48\" x2=\"113\" y1=\"79.2969\" y2=\"79.2969\"/><text fill=\"#000000\" font-family=\"sans-serif\" font-size=\"14\" font-weight=\"bold\" lengthAdjust=\"spacingAndGlyphs\" textLength=\"52\" x=\"52\" y=\"71.9951\">Usages</text></a><!--MD5=[09b614a08d8cba4a07c9adeb5e0fee81]\n",
       "class E3--><a href=\"psysml:e00f8094-2dc0-4541-ab70-7f0589b02177\" target=\"_top\" title=\"psysml:e00f8094-2dc0-4541-ab70-7f0589b02177\" xlink:actuate=\"onRequest\" xlink:href=\"psysml:e00f8094-2dc0-4541-ab70-7f0589b02177\" xlink:show=\"new\" xlink:title=\"psysml:e00f8094-2dc0-4541-ab70-7f0589b02177\" xlink:type=\"simple\"><rect fill=\"#FFFFFF\" height=\"45.9375\" id=\"E3\" style=\"stroke: #383838; stroke-width: 1.5;\" width=\"70\" x=\"81\" y=\"262\"/><text fill=\"#000000\" font-family=\"sans-serif\" font-size=\"12\" font-style=\"italic\" lengthAdjust=\"spacingAndGlyphs\" textLength=\"68\" x=\"82\" y=\"278.1387\">«part  def»</text><text fill=\"#000000\" font-family=\"sans-serif\" font-size=\"12\" lengthAdjust=\"spacingAndGlyphs\" textLength=\"45\" x=\"93.5\" y=\"292.1074\">Vehicle</text><line style=\"stroke: #383838; stroke-width: 1.5;\" x1=\"82\" x2=\"150\" y1=\"299.9375\" y2=\"299.9375\"/></a><!--MD5=[270fce915f116d4de14055a7c1d9a0f3]\n",
       "class E5--><a href=\"psysml:9c534076-d85a-4836-b001-6ecd6cbd12fb\" target=\"_top\" title=\"psysml:9c534076-d85a-4836-b001-6ecd6cbd12fb\" xlink:actuate=\"onRequest\" xlink:href=\"psysml:9c534076-d85a-4836-b001-6ecd6cbd12fb\" xlink:show=\"new\" xlink:title=\"psysml:9c534076-d85a-4836-b001-6ecd6cbd12fb\" xlink:type=\"simple\"><rect fill=\"#FFFFFF\" height=\"45.9375\" id=\"E5\" rx=\"10\" ry=\"10\" style=\"stroke: #383838; stroke-width: 1.5;\" width=\"106\" x=\"91\" y=\"100\"/><text fill=\"#000000\" font-family=\"sans-serif\" font-size=\"12\" font-style=\"italic\" lengthAdjust=\"spacingAndGlyphs\" textLength=\"40\" x=\"124\" y=\"116.1387\">«part»</text><text fill=\"#000000\" font-family=\"sans-serif\" font-size=\"12\" lengthAdjust=\"spacingAndGlyphs\" textLength=\"96\" x=\"94\" y=\"130.1074\">vehicle: Vehicle</text><line style=\"stroke: #383838; stroke-width: 1.5;\" x1=\"92\" x2=\"196\" y1=\"137.9375\" y2=\"137.9375\"/></a><!--MD5=[f0cdf4548168e5211fb3a02bf679d63a]\n",
       "link E4 to E3--><a href=\"psysml:754d7efd-e1b6-49fa-9136-3270d64a1ac4\" target=\"_top\" title=\"psysml:754d7efd-e1b6-49fa-9136-3270d64a1ac4\" xlink:actuate=\"onRequest\" xlink:href=\"psysml:754d7efd-e1b6-49fa-9136-3270d64a1ac4\" xlink:show=\"new\" xlink:title=\"psysml:754d7efd-e1b6-49fa-9136-3270d64a1ac4\" xlink:type=\"simple\"><path d=\"M86,170.5461 C86,170.7974 86,171.0491 86,171.3013 C86,173.3182 86,175.3597 86,177.4175 C86,181.5331 86,185.7141 86,189.895 C86,223.3425 86,256.79 86,256.79 \" fill=\"none\" id=\"E4-&gt;E3\" style=\"stroke: #383838; stroke-width: 1.0; stroke-dasharray: 7.0,7.0;\"/><polygon fill=\"#383838\" points=\"86,261.79,90,252.79,86,256.79,82,252.79,86,261.79\" style=\"stroke: #383838; stroke-width: 1.0;\"/><text fill=\"#000000\" font-family=\"sans-serif\" font-size=\"13\" lengthAdjust=\"spacingAndGlyphs\" textLength=\"58\" x=\"73\" y=\"207.0669\">«import»</text></a><!--MD5=[e9be52314489bd878ff4c7144b63c9e1]\n",
       "link E5 to E3--><a href=\"psysml:35d55ec3-6fe4-4032-923f-7a8654029377\" target=\"_top\" title=\"psysml:35d55ec3-6fe4-4032-923f-7a8654029377\" xlink:actuate=\"onRequest\" xlink:href=\"psysml:35d55ec3-6fe4-4032-923f-7a8654029377\" xlink:show=\"new\" xlink:title=\"psysml:35d55ec3-6fe4-4032-923f-7a8654029377\" xlink:type=\"simple\"><path d=\"M121,146.21 C121,146.21 121,241.83 121,241.83 \" fill=\"none\" id=\"E5-&gt;E3\" style=\"stroke: #383838; stroke-width: 1.0;\"/><polygon fill=\"#FFFFFF\" points=\"121,261.83,114,242.83,128,242.83,121,261.83\" style=\"stroke: #383838; stroke-width: 1.0;\"/><ellipse cx=\"116\" cy=\"237.13\" fill=\"#383838\" rx=\"2\" ry=\"2\" style=\"stroke: #383838; stroke-width: 1.0;\"/><ellipse cx=\"126\" cy=\"237.13\" fill=\"#383838\" rx=\"2\" ry=\"2\" style=\"stroke: #383838; stroke-width: 1.0;\"/></a><!--MD5=[f46634423065503d74ed13701e6c6b24]\n",
       "@startuml\r\n",
       "skinparam linetype ortho\r\n",
       "skinparam monochrome true\r\n",
       "skinparam classbackgroundcolor white\r\n",
       "skinparam shadowing false\r\n",
       "skinparam wrapWidth 300\r\n",
       "hide circle\r\n",
       "\r\n",
       "package \"AliasImport\" as E1  [[psysml:a585b742-f262-46cd-b94a-c90c9e84789e ]]  {\r\n",
       "package \"Definitions\" as E2  [[psysml:336f27c4-53da-4ebc-95bd-6f6303678a10 ]]  {\r\n",
       "comp def \"Vehicle\" as E3  <<(T,blue) part  def>> [[psysml:e00f8094-2dc0-4541-ab70-7f0589b02177 ]] {\r\n",
       "}\r\n",
       "}\r\n",
       "package \"Usages\" as E4  [[psysml:1c99181b-1c33-4a44-b1a9-f0fa19d834f2 ]]  {\r\n",
       "comp usage \"vehicle: Vehicle \" as E5  <<(T,blue) part>> [[psysml:9c534076-d85a-4836-b001-6ecd6cbd12fb ]] {\r\n",
       "}\r\n",
       "}\r\n",
       "}\r\n",
       "E4 ..> E3 [[psysml:754d7efd-e1b6-49fa-9136-3270d64a1ac4 ]] : <<import>>\r\n",
       "E5 - -:|> E3 [[psysml:35d55ec3-6fe4-4032-923f-7a8654029377 ]] \r\n",
       "@enduml\r\n",
       "\n",
       "PlantUML version 1.2020.13(Sat Jun 13 12:26:38 UTC 2020)\n",
       "(EPL source distribution)\n",
       "Java Runtime: OpenJDK Runtime Environment\n",
       "JVM: OpenJDK 64-Bit Server VM\n",
       "Default Encoding: UTF-8\n",
       "Language: en\n",
       "Country: null\n",
       "--></g></svg>"
      ]
     },
     "execution_count": 57,
     "metadata": {},
     "output_type": "execute_result"
    }
   ],
   "source": [
    "%viz --style=\"ORTHOLINE\" --view=\"MIXED\" \"AliasImport\""
   ]
  }
 ],
 "metadata": {
  "kernelspec": {
   "display_name": "SysML",
   "language": "sysml",
   "name": "sysml"
  },
  "language_info": {
   "codemirror_mode": "sysml",
   "file_extension": ".sysml",
   "mimetype": "text/x-sysml",
   "name": "SysML",
   "pygments_lexer": "java",
   "version": "1.0.0"
  }
 },
 "nbformat": 4,
 "nbformat_minor": 5
}
