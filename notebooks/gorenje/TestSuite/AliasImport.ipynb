{
 "cells": [
  {
   "cell_type": "markdown",
   "id": "739338dc",
   "metadata": {},
   "source": [
    "# SysML v2 Test Suite\n",
    "\n",
    "This can notebook can be cleared using menu `Edit --> Clear All Outputs` and then all cells can be\n",
    "run using menu `Run --> Run All Cells`.\n",
    "\n",
    "**WARNING**: This file is generated, all modifications here will be ignored.\n"
   ]
  },
  {
   "cell_type": "markdown",
   "id": "64d7dbf9",
   "metadata": {},
   "source": [
    "## File: ../../sysml/src/examples/Import Tests/AliasImport.sysml"
   ]
  },
  {
   "cell_type": "code",
   "execution_count": 1,
   "id": "2309c2cf",
   "metadata": {
    "execution": {
     "iopub.execute_input": "2021-10-03T08:30:55.196075Z",
     "iopub.status.busy": "2021-10-03T08:30:55.195070Z",
     "iopub.status.idle": "2021-10-03T08:30:55.307246Z",
     "shell.execute_reply": "2021-10-03T08:30:55.307486Z"
    }
   },
   "outputs": [
    {
     "data": {
      "text/plain": [
       "Package AliasImport (098222f9-fc99-407f-9eff-75967593965d)\n"
      ]
     },
     "execution_count": 1,
     "metadata": {},
     "output_type": "execute_result"
    }
   ],
   "source": [
    "package AliasImport {\n",
    "\tpackage Definitions {\n",
    "\t    part def Vehicle;\n",
    "\t    \n",
    "\t    alias Car for Vehicle;\n",
    "\t}\n",
    "\t\n",
    "\tpackage Usages {\n",
    "\t    import Definitions::Car;\n",
    "\t\n",
    "\t    part vehicle : Car;\n",
    "\t}\n",
    "}"
   ]
  },
  {
   "cell_type": "code",
   "execution_count": 2,
   "id": "c2a9f559",
   "metadata": {
    "execution": {
     "iopub.execute_input": "2021-10-03T08:30:55.359079Z",
     "iopub.status.busy": "2021-10-03T08:30:55.358546Z",
     "iopub.status.idle": "2021-10-03T08:30:55.817250Z",
     "shell.execute_reply": "2021-10-03T08:30:55.815111Z"
    }
   },
   "outputs": [
    {
     "data": {
      "image/svg+xml": [
       "<?xml version=\"1.0\" encoding=\"UTF-8\" standalone=\"no\"?><svg xmlns=\"http://www.w3.org/2000/svg\" xmlns:xlink=\"http://www.w3.org/1999/xlink\" contentScriptType=\"application/ecmascript\" contentStyleType=\"text/css\" height=\"303px\" preserveAspectRatio=\"none\" style=\"width:220px;height:303px;\" version=\"1.1\" viewBox=\"0 0 220 303\" width=\"220px\" zoomAndPan=\"magnify\"><defs/><g><!--MD5=[fbc87193dbaf4d95561dea2c320d4a47]\n",
       "cluster E1--><a href=\"psysml:da265157-d0d4-4951-bf22-47d5659e31ef\" target=\"_top\" title=\"psysml:da265157-d0d4-4951-bf22-47d5659e31ef\" xlink:actuate=\"onRequest\" xlink:href=\"psysml:da265157-d0d4-4951-bf22-47d5659e31ef\" xlink:show=\"new\" xlink:title=\"psysml:da265157-d0d4-4951-bf22-47d5659e31ef\" xlink:type=\"simple\"><polygon fill=\"#FFFFFF\" points=\"16,6,97,6,104,28.2969,198,28.2969,198,291,16,291,16,6\" style=\"stroke: #000000; stroke-width: 1.5;\"/><line style=\"stroke: #000000; stroke-width: 1.5;\" x1=\"16\" x2=\"104\" y1=\"28.2969\" y2=\"28.2969\"/><text fill=\"#000000\" font-family=\"sans-serif\" font-size=\"14\" font-weight=\"bold\" lengthAdjust=\"spacingAndGlyphs\" textLength=\"75\" x=\"20\" y=\"20.9951\">AliasImport</text></a><!--MD5=[e4f7fae6ed58524ba242bb0b0d3be6b7]\n",
       "cluster E2--><a href=\"psysml:2fd87941-b162-4111-8987-3fc5534acf16\" target=\"_top\" title=\"psysml:2fd87941-b162-4111-8987-3fc5534acf16\" xlink:actuate=\"onRequest\" xlink:href=\"psysml:2fd87941-b162-4111-8987-3fc5534acf16\" xlink:show=\"new\" xlink:title=\"psysml:2fd87941-b162-4111-8987-3fc5534acf16\" xlink:type=\"simple\"><polygon fill=\"#FFFFFF\" points=\"58,170,137,170,144,192.2969,156,192.2969,156,267,58,267,58,170\" style=\"stroke: #000000; stroke-width: 1.5;\"/><line style=\"stroke: #000000; stroke-width: 1.5;\" x1=\"58\" x2=\"144\" y1=\"192.2969\" y2=\"192.2969\"/><text fill=\"#000000\" font-family=\"sans-serif\" font-size=\"14\" font-weight=\"bold\" lengthAdjust=\"spacingAndGlyphs\" textLength=\"73\" x=\"62\" y=\"184.9951\">Definitions</text></a><!--MD5=[f6df4d0ebaf0b5dfb2ced0ae5af7c670]\n",
       "cluster E4--><a href=\"psysml:e3968260-a676-422f-8ca6-ec1afe8a305b\" target=\"_top\" title=\"psysml:e3968260-a676-422f-8ca6-ec1afe8a305b\" xlink:actuate=\"onRequest\" xlink:href=\"psysml:e3968260-a676-422f-8ca6-ec1afe8a305b\" xlink:show=\"new\" xlink:title=\"psysml:e3968260-a676-422f-8ca6-ec1afe8a305b\" xlink:type=\"simple\"><polygon fill=\"#FFFFFF\" points=\"40,49,98,49,105,71.2969,174,71.2969,174,146,40,146,40,49\" style=\"stroke: #000000; stroke-width: 1.5;\"/><line style=\"stroke: #000000; stroke-width: 1.5;\" x1=\"40\" x2=\"105\" y1=\"71.2969\" y2=\"71.2969\"/><text fill=\"#000000\" font-family=\"sans-serif\" font-size=\"14\" font-weight=\"bold\" lengthAdjust=\"spacingAndGlyphs\" textLength=\"52\" x=\"44\" y=\"63.9951\">Usages</text></a><!--MD5=[09b614a08d8cba4a07c9adeb5e0fee81]\n",
       "class E3--><a href=\"psysml:42326513-c813-4f17-9254-875ba93877ec\" target=\"_top\" title=\"psysml:42326513-c813-4f17-9254-875ba93877ec\" xlink:actuate=\"onRequest\" xlink:href=\"psysml:42326513-c813-4f17-9254-875ba93877ec\" xlink:show=\"new\" xlink:title=\"psysml:42326513-c813-4f17-9254-875ba93877ec\" xlink:type=\"simple\"><rect fill=\"#FFFFFF\" height=\"45.9375\" id=\"E3\" style=\"stroke: #383838; stroke-width: 1.5;\" width=\"66\" x=\"74\" y=\"205\"/><text fill=\"#000000\" font-family=\"sans-serif\" font-size=\"12\" font-style=\"italic\" lengthAdjust=\"spacingAndGlyphs\" textLength=\"64\" x=\"75\" y=\"221.1387\">«part def»</text><text fill=\"#000000\" font-family=\"sans-serif\" font-size=\"12\" lengthAdjust=\"spacingAndGlyphs\" textLength=\"45\" x=\"84.5\" y=\"235.1074\">Vehicle</text><line style=\"stroke: #383838; stroke-width: 1.5;\" x1=\"75\" x2=\"139\" y1=\"242.9375\" y2=\"242.9375\"/></a><!--MD5=[270fce915f116d4de14055a7c1d9a0f3]\n",
       "class E5--><a href=\"psysml:d491d5f9-6d8b-4b1d-a51c-b8388350c517\" target=\"_top\" title=\"psysml:d491d5f9-6d8b-4b1d-a51c-b8388350c517\" xlink:actuate=\"onRequest\" xlink:href=\"psysml:d491d5f9-6d8b-4b1d-a51c-b8388350c517\" xlink:show=\"new\" xlink:title=\"psysml:d491d5f9-6d8b-4b1d-a51c-b8388350c517\" xlink:type=\"simple\"><rect fill=\"#FFFFFF\" height=\"45.9375\" id=\"E5\" rx=\"10\" ry=\"10\" style=\"stroke: #383838; stroke-width: 1.5;\" width=\"102\" x=\"56\" y=\"84\"/><text fill=\"#000000\" font-family=\"sans-serif\" font-size=\"12\" font-style=\"italic\" lengthAdjust=\"spacingAndGlyphs\" textLength=\"40\" x=\"87\" y=\"100.1387\">«part»</text><text fill=\"#000000\" font-family=\"sans-serif\" font-size=\"12\" lengthAdjust=\"spacingAndGlyphs\" textLength=\"96\" x=\"59\" y=\"114.1074\">vehicle: Vehicle</text><line style=\"stroke: #383838; stroke-width: 1.5;\" x1=\"57\" x2=\"157\" y1=\"121.9375\" y2=\"121.9375\"/></a><!--MD5=[e9be52314489bd878ff4c7144b63c9e1]\n",
       "link E5 to E3--><a href=\"psysml:c9bd4828-45e6-4eb9-80eb-81bfe8e91163\" target=\"_top\" title=\"psysml:c9bd4828-45e6-4eb9-80eb-81bfe8e91163\" xlink:actuate=\"onRequest\" xlink:href=\"psysml:c9bd4828-45e6-4eb9-80eb-81bfe8e91163\" xlink:show=\"new\" xlink:title=\"psysml:c9bd4828-45e6-4eb9-80eb-81bfe8e91163\" xlink:type=\"simple\"><path d=\"M107,130.1 C107,145.37 107,166.16 107,184.57 \" fill=\"none\" id=\"E5-&gt;E3\" style=\"stroke: #383838; stroke-width: 1.0;\"/><polygon fill=\"#FFFFFF\" points=\"107,204.61,100,185.61,114,185.61,107,204.61\" style=\"stroke: #383838; stroke-width: 1.0;\"/><ellipse cx=\"102\" cy=\"179.91\" fill=\"#383838\" rx=\"2\" ry=\"2\" style=\"stroke: #383838; stroke-width: 1.0;\"/><ellipse cx=\"112\" cy=\"179.91\" fill=\"#383838\" rx=\"2\" ry=\"2\" style=\"stroke: #383838; stroke-width: 1.0;\"/></a><!--MD5=[03697014ba3e38a4f5b0cd3716f9f2ed]\n",
       "@startuml\r\n",
       " skinparam monochrome true\r\n",
       "skinparam classbackgroundcolor white\r\n",
       "skinparam shadowing false\r\n",
       "skinparam wrapWidth 300\r\n",
       "hide circle\r\n",
       "\r\n",
       "package \"AliasImport\" as E1  [[psysml:da265157-d0d4-4951-bf22-47d5659e31ef ]]  {\r\n",
       "package \"Definitions\" as E2  [[psysml:2fd87941-b162-4111-8987-3fc5534acf16 ]]  {\r\n",
       "comp def \"Vehicle\" as E3  <<(T,blue) part def>> [[psysml:42326513-c813-4f17-9254-875ba93877ec ]] {\r\n",
       "}\r\n",
       "}\r\n",
       "package \"Usages\" as E4  [[psysml:e3968260-a676-422f-8ca6-ec1afe8a305b ]]  {\r\n",
       "comp usage \"vehicle: Vehicle\" as E5  <<(T,blue) part>> [[psysml:d491d5f9-6d8b-4b1d-a51c-b8388350c517 ]] {\r\n",
       "}\r\n",
       "}\r\n",
       "}\r\n",
       "E5 - -:|> E3 [[psysml:c9bd4828-45e6-4eb9-80eb-81bfe8e91163 ]] \r\n",
       "@enduml\r\n",
       "\n",
       "PlantUML version 1.2020.13(Sat Jun 13 12:26:38 UTC 2020)\n",
       "(EPL source distribution)\n",
       "Java Runtime: OpenJDK Runtime Environment\n",
       "JVM: OpenJDK 64-Bit Server VM\n",
       "Default Encoding: UTF-8\n",
       "Language: en\n",
       "Country: null\n",
       "--></g></svg>"
      ]
     },
     "execution_count": 2,
     "metadata": {},
     "output_type": "execute_result"
    }
   ],
   "source": [
    "%viz --style=\"COMPTREE\" --view=\"Default\" \"AliasImport\""
   ]
  },
  {
   "cell_type": "code",
   "execution_count": 3,
   "id": "9339768c",
   "metadata": {
    "execution": {
     "iopub.execute_input": "2021-10-03T08:30:55.866692Z",
     "iopub.status.busy": "2021-10-03T08:30:55.866039Z",
     "iopub.status.idle": "2021-10-03T08:30:55.908719Z",
     "shell.execute_reply": "2021-10-03T08:30:55.909059Z"
    }
   },
   "outputs": [
    {
     "data": {
      "image/svg+xml": [
       "<?xml version=\"1.0\" encoding=\"UTF-8\" standalone=\"no\"?><svg xmlns=\"http://www.w3.org/2000/svg\" xmlns:xlink=\"http://www.w3.org/1999/xlink\" contentScriptType=\"application/ecmascript\" contentStyleType=\"text/css\" height=\"303px\" preserveAspectRatio=\"none\" style=\"width:220px;height:303px;\" version=\"1.1\" viewBox=\"0 0 220 303\" width=\"220px\" zoomAndPan=\"magnify\"><defs/><g><!--MD5=[fbc87193dbaf4d95561dea2c320d4a47]\n",
       "cluster E1--><a href=\"psysml:da265157-d0d4-4951-bf22-47d5659e31ef\" target=\"_top\" title=\"psysml:da265157-d0d4-4951-bf22-47d5659e31ef\" xlink:actuate=\"onRequest\" xlink:href=\"psysml:da265157-d0d4-4951-bf22-47d5659e31ef\" xlink:show=\"new\" xlink:title=\"psysml:da265157-d0d4-4951-bf22-47d5659e31ef\" xlink:type=\"simple\"><polygon fill=\"#FFFFFF\" points=\"16,6,97,6,104,28.2969,198,28.2969,198,291,16,291,16,6\" style=\"stroke: #000000; stroke-width: 1.5;\"/><line style=\"stroke: #000000; stroke-width: 1.5;\" x1=\"16\" x2=\"104\" y1=\"28.2969\" y2=\"28.2969\"/><text fill=\"#000000\" font-family=\"sans-serif\" font-size=\"14\" font-weight=\"bold\" lengthAdjust=\"spacingAndGlyphs\" textLength=\"75\" x=\"20\" y=\"20.9951\">AliasImport</text></a><!--MD5=[e4f7fae6ed58524ba242bb0b0d3be6b7]\n",
       "cluster E2--><a href=\"psysml:2fd87941-b162-4111-8987-3fc5534acf16\" target=\"_top\" title=\"psysml:2fd87941-b162-4111-8987-3fc5534acf16\" xlink:actuate=\"onRequest\" xlink:href=\"psysml:2fd87941-b162-4111-8987-3fc5534acf16\" xlink:show=\"new\" xlink:title=\"psysml:2fd87941-b162-4111-8987-3fc5534acf16\" xlink:type=\"simple\"><polygon fill=\"#FFFFFF\" points=\"58,170,137,170,144,192.2969,156,192.2969,156,267,58,267,58,170\" style=\"stroke: #000000; stroke-width: 1.5;\"/><line style=\"stroke: #000000; stroke-width: 1.5;\" x1=\"58\" x2=\"144\" y1=\"192.2969\" y2=\"192.2969\"/><text fill=\"#000000\" font-family=\"sans-serif\" font-size=\"14\" font-weight=\"bold\" lengthAdjust=\"spacingAndGlyphs\" textLength=\"73\" x=\"62\" y=\"184.9951\">Definitions</text></a><!--MD5=[f6df4d0ebaf0b5dfb2ced0ae5af7c670]\n",
       "cluster E4--><a href=\"psysml:e3968260-a676-422f-8ca6-ec1afe8a305b\" target=\"_top\" title=\"psysml:e3968260-a676-422f-8ca6-ec1afe8a305b\" xlink:actuate=\"onRequest\" xlink:href=\"psysml:e3968260-a676-422f-8ca6-ec1afe8a305b\" xlink:show=\"new\" xlink:title=\"psysml:e3968260-a676-422f-8ca6-ec1afe8a305b\" xlink:type=\"simple\"><polygon fill=\"#FFFFFF\" points=\"40,49,98,49,105,71.2969,174,71.2969,174,146,40,146,40,49\" style=\"stroke: #000000; stroke-width: 1.5;\"/><line style=\"stroke: #000000; stroke-width: 1.5;\" x1=\"40\" x2=\"105\" y1=\"71.2969\" y2=\"71.2969\"/><text fill=\"#000000\" font-family=\"sans-serif\" font-size=\"14\" font-weight=\"bold\" lengthAdjust=\"spacingAndGlyphs\" textLength=\"52\" x=\"44\" y=\"63.9951\">Usages</text></a><!--MD5=[09b614a08d8cba4a07c9adeb5e0fee81]\n",
       "class E3--><a href=\"psysml:42326513-c813-4f17-9254-875ba93877ec\" target=\"_top\" title=\"psysml:42326513-c813-4f17-9254-875ba93877ec\" xlink:actuate=\"onRequest\" xlink:href=\"psysml:42326513-c813-4f17-9254-875ba93877ec\" xlink:show=\"new\" xlink:title=\"psysml:42326513-c813-4f17-9254-875ba93877ec\" xlink:type=\"simple\"><rect fill=\"#FFFFFF\" height=\"45.9375\" id=\"E3\" style=\"stroke: #383838; stroke-width: 1.5;\" width=\"66\" x=\"74\" y=\"205\"/><text fill=\"#000000\" font-family=\"sans-serif\" font-size=\"12\" font-style=\"italic\" lengthAdjust=\"spacingAndGlyphs\" textLength=\"64\" x=\"75\" y=\"221.1387\">«part def»</text><text fill=\"#000000\" font-family=\"sans-serif\" font-size=\"12\" lengthAdjust=\"spacingAndGlyphs\" textLength=\"45\" x=\"84.5\" y=\"235.1074\">Vehicle</text><line style=\"stroke: #383838; stroke-width: 1.5;\" x1=\"75\" x2=\"139\" y1=\"242.9375\" y2=\"242.9375\"/></a><!--MD5=[270fce915f116d4de14055a7c1d9a0f3]\n",
       "class E5--><a href=\"psysml:d491d5f9-6d8b-4b1d-a51c-b8388350c517\" target=\"_top\" title=\"psysml:d491d5f9-6d8b-4b1d-a51c-b8388350c517\" xlink:actuate=\"onRequest\" xlink:href=\"psysml:d491d5f9-6d8b-4b1d-a51c-b8388350c517\" xlink:show=\"new\" xlink:title=\"psysml:d491d5f9-6d8b-4b1d-a51c-b8388350c517\" xlink:type=\"simple\"><rect fill=\"#FFFFFF\" height=\"45.9375\" id=\"E5\" rx=\"10\" ry=\"10\" style=\"stroke: #383838; stroke-width: 1.5;\" width=\"102\" x=\"56\" y=\"84\"/><text fill=\"#000000\" font-family=\"sans-serif\" font-size=\"12\" font-style=\"italic\" lengthAdjust=\"spacingAndGlyphs\" textLength=\"40\" x=\"87\" y=\"100.1387\">«part»</text><text fill=\"#000000\" font-family=\"sans-serif\" font-size=\"12\" lengthAdjust=\"spacingAndGlyphs\" textLength=\"96\" x=\"59\" y=\"114.1074\">vehicle: Vehicle</text><line style=\"stroke: #383838; stroke-width: 1.5;\" x1=\"57\" x2=\"157\" y1=\"121.9375\" y2=\"121.9375\"/></a><!--MD5=[e9be52314489bd878ff4c7144b63c9e1]\n",
       "link E5 to E3--><a href=\"psysml:c9bd4828-45e6-4eb9-80eb-81bfe8e91163\" target=\"_top\" title=\"psysml:c9bd4828-45e6-4eb9-80eb-81bfe8e91163\" xlink:actuate=\"onRequest\" xlink:href=\"psysml:c9bd4828-45e6-4eb9-80eb-81bfe8e91163\" xlink:show=\"new\" xlink:title=\"psysml:c9bd4828-45e6-4eb9-80eb-81bfe8e91163\" xlink:type=\"simple\"><path d=\"M107,130.1 C107,145.37 107,166.16 107,184.57 \" fill=\"none\" id=\"E5-&gt;E3\" style=\"stroke: #383838; stroke-width: 1.0;\"/><polygon fill=\"#FFFFFF\" points=\"107,204.61,100,185.61,114,185.61,107,204.61\" style=\"stroke: #383838; stroke-width: 1.0;\"/><ellipse cx=\"102\" cy=\"179.91\" fill=\"#383838\" rx=\"2\" ry=\"2\" style=\"stroke: #383838; stroke-width: 1.0;\"/><ellipse cx=\"112\" cy=\"179.91\" fill=\"#383838\" rx=\"2\" ry=\"2\" style=\"stroke: #383838; stroke-width: 1.0;\"/></a><!--MD5=[03697014ba3e38a4f5b0cd3716f9f2ed]\n",
       "@startuml\r\n",
       " skinparam monochrome true\r\n",
       "skinparam classbackgroundcolor white\r\n",
       "skinparam shadowing false\r\n",
       "skinparam wrapWidth 300\r\n",
       "hide circle\r\n",
       "\r\n",
       "package \"AliasImport\" as E1  [[psysml:da265157-d0d4-4951-bf22-47d5659e31ef ]]  {\r\n",
       "package \"Definitions\" as E2  [[psysml:2fd87941-b162-4111-8987-3fc5534acf16 ]]  {\r\n",
       "comp def \"Vehicle\" as E3  <<(T,blue) part def>> [[psysml:42326513-c813-4f17-9254-875ba93877ec ]] {\r\n",
       "}\r\n",
       "}\r\n",
       "package \"Usages\" as E4  [[psysml:e3968260-a676-422f-8ca6-ec1afe8a305b ]]  {\r\n",
       "comp usage \"vehicle: Vehicle\" as E5  <<(T,blue) part>> [[psysml:d491d5f9-6d8b-4b1d-a51c-b8388350c517 ]] {\r\n",
       "}\r\n",
       "}\r\n",
       "}\r\n",
       "E5 - -:|> E3 [[psysml:c9bd4828-45e6-4eb9-80eb-81bfe8e91163 ]] \r\n",
       "@enduml\r\n",
       "\n",
       "PlantUML version 1.2020.13(Sat Jun 13 12:26:38 UTC 2020)\n",
       "(EPL source distribution)\n",
       "Java Runtime: OpenJDK Runtime Environment\n",
       "JVM: OpenJDK 64-Bit Server VM\n",
       "Default Encoding: UTF-8\n",
       "Language: en\n",
       "Country: null\n",
       "--></g></svg>"
      ]
     },
     "execution_count": 3,
     "metadata": {},
     "output_type": "execute_result"
    }
   ],
   "source": [
    "%viz --style=\"COMPTREE\" --view=\"Tree\" \"AliasImport\""
   ]
  },
  {
   "cell_type": "code",
   "execution_count": 4,
   "id": "4fef4e51",
   "metadata": {
    "execution": {
     "iopub.execute_input": "2021-10-03T08:30:55.958974Z",
     "iopub.status.busy": "2021-10-03T08:30:55.958505Z",
     "iopub.status.idle": "2021-10-03T08:30:55.968314Z",
     "shell.execute_reply": "2021-10-03T08:30:55.968650Z"
    }
   },
   "outputs": [
    {
     "data": {
      "image/svg+xml": [
       "<?xml version=\"1.0\" encoding=\"UTF-8\" standalone=\"no\"?><svg xmlns=\"http://www.w3.org/2000/svg\" xmlns:xlink=\"http://www.w3.org/1999/xlink\" contentScriptType=\"application/ecmascript\" contentStyleType=\"text/css\" height=\"12px\" preserveAspectRatio=\"none\" style=\"width:12px;height:12px;\" version=\"1.1\" viewBox=\"0 0 12 12\" width=\"12px\" zoomAndPan=\"magnify\"><defs/><g><!--MD5=[f19188ef49e11757b5c46753f95d9edc]\n",
       "@startuml\r\n",
       " skinparam monochrome true\r\n",
       "skinparam classbackgroundcolor white\r\n",
       "skinparam shadowing false\r\n",
       "skinparam wrapWidth 300\r\n",
       "hide circle\r\n",
       "\r\n",
       "@enduml\r\n",
       "\n",
       "PlantUML version 1.2020.13(Sat Jun 13 12:26:38 UTC 2020)\n",
       "(EPL source distribution)\n",
       "Java Runtime: OpenJDK Runtime Environment\n",
       "JVM: OpenJDK 64-Bit Server VM\n",
       "Default Encoding: UTF-8\n",
       "Language: en\n",
       "Country: null\n",
       "--></g></svg>"
      ]
     },
     "execution_count": 4,
     "metadata": {},
     "output_type": "execute_result"
    }
   ],
   "source": [
    "%viz --style=\"COMPTREE\" --view=\"State\" \"AliasImport\""
   ]
  },
  {
   "cell_type": "code",
   "execution_count": 5,
   "id": "8227eb3c",
   "metadata": {
    "execution": {
     "iopub.execute_input": "2021-10-03T08:30:56.018795Z",
     "iopub.status.busy": "2021-10-03T08:30:56.018338Z",
     "iopub.status.idle": "2021-10-03T08:30:56.066015Z",
     "shell.execute_reply": "2021-10-03T08:30:56.066278Z"
    }
   },
   "outputs": [
    {
     "data": {
      "image/svg+xml": [
       "<?xml version=\"1.0\" encoding=\"UTF-8\" standalone=\"no\"?><svg xmlns=\"http://www.w3.org/2000/svg\" xmlns:xlink=\"http://www.w3.org/1999/xlink\" contentScriptType=\"application/ecmascript\" contentStyleType=\"text/css\" height=\"179px\" preserveAspectRatio=\"none\" style=\"width:458px;height:179px;\" version=\"1.1\" viewBox=\"0 0 458 179\" width=\"458px\" zoomAndPan=\"magnify\"><defs/><g><!--MD5=[fbc87193dbaf4d95561dea2c320d4a47]\n",
       "cluster E1--><a href=\"psysml:da265157-d0d4-4951-bf22-47d5659e31ef\" target=\"_top\" title=\"psysml:da265157-d0d4-4951-bf22-47d5659e31ef\" xlink:actuate=\"onRequest\" xlink:href=\"psysml:da265157-d0d4-4951-bf22-47d5659e31ef\" xlink:show=\"new\" xlink:title=\"psysml:da265157-d0d4-4951-bf22-47d5659e31ef\" xlink:type=\"simple\"><polygon fill=\"#FFFFFF\" points=\"16,6,97,6,104,28.2969,436,28.2969,436,167,16,167,16,6\" style=\"stroke: #000000; stroke-width: 1.5;\"/><line style=\"stroke: #000000; stroke-width: 1.5;\" x1=\"16\" x2=\"104\" y1=\"28.2969\" y2=\"28.2969\"/><text fill=\"#000000\" font-family=\"sans-serif\" font-size=\"14\" font-weight=\"bold\" lengthAdjust=\"spacingAndGlyphs\" textLength=\"75\" x=\"20\" y=\"20.9951\">AliasImport</text></a><!--MD5=[e4f7fae6ed58524ba242bb0b0d3be6b7]\n",
       "cluster E2--><a href=\"psysml:2fd87941-b162-4111-8987-3fc5534acf16\" target=\"_top\" title=\"psysml:2fd87941-b162-4111-8987-3fc5534acf16\" xlink:actuate=\"onRequest\" xlink:href=\"psysml:2fd87941-b162-4111-8987-3fc5534acf16\" xlink:show=\"new\" xlink:title=\"psysml:2fd87941-b162-4111-8987-3fc5534acf16\" xlink:type=\"simple\"><polygon fill=\"#FFFFFF\" points=\"202,49,281,49,288,71.2969,412,71.2969,412,143,202,143,202,49\" style=\"stroke: #000000; stroke-width: 1.5;\"/><line style=\"stroke: #000000; stroke-width: 1.5;\" x1=\"202\" x2=\"288\" y1=\"71.2969\" y2=\"71.2969\"/><text fill=\"#000000\" font-family=\"sans-serif\" font-size=\"14\" font-weight=\"bold\" lengthAdjust=\"spacingAndGlyphs\" textLength=\"73\" x=\"206\" y=\"63.9951\">Definitions</text></a><!--MD5=[de5ec2e2e8f62f467e546659f5068c88]\n",
       "cluster E5--><a href=\"psysml:e3968260-a676-422f-8ca6-ec1afe8a305b\" target=\"_top\" title=\"psysml:e3968260-a676-422f-8ca6-ec1afe8a305b\" xlink:actuate=\"onRequest\" xlink:href=\"psysml:e3968260-a676-422f-8ca6-ec1afe8a305b\" xlink:show=\"new\" xlink:title=\"psysml:e3968260-a676-422f-8ca6-ec1afe8a305b\" xlink:type=\"simple\"><polygon fill=\"#FFFFFF\" points=\"40,50.5,98,50.5,105,72.7969,178,72.7969,178,141.5,40,141.5,40,50.5\" style=\"stroke: #000000; stroke-width: 1.5;\"/><line style=\"stroke: #000000; stroke-width: 1.5;\" x1=\"40\" x2=\"105\" y1=\"72.7969\" y2=\"72.7969\"/><text fill=\"#000000\" font-family=\"sans-serif\" font-size=\"14\" font-weight=\"bold\" lengthAdjust=\"spacingAndGlyphs\" textLength=\"52\" x=\"44\" y=\"65.4951\">Usages</text></a><g id=\"E1.E2.E3\"><a href=\"psysml:42326513-c813-4f17-9254-875ba93877ec\" target=\"_top\" title=\"psysml:42326513-c813-4f17-9254-875ba93877ec\" xlink:actuate=\"onRequest\" xlink:href=\"psysml:42326513-c813-4f17-9254-875ba93877ec\" xlink:show=\"new\" xlink:title=\"psysml:42326513-c813-4f17-9254-875ba93877ec\" xlink:type=\"simple\"><rect fill=\"#FFFFFF\" height=\"42.9375\" id=\"E3\" style=\"stroke: #383838; stroke-width: 1.5;\" width=\"71\" x=\"324.5\" y=\"84\"/><rect fill=\"#F8F8F8\" height=\"37.9375\" style=\"stroke: #383838; stroke-width: 1.5;\" width=\"71\" x=\"324.5\" y=\"84\"/><text fill=\"#000000\" font-family=\"sans-serif\" font-size=\"12\" font-style=\"italic\" lengthAdjust=\"spacingAndGlyphs\" textLength=\"64\" x=\"328\" y=\"100.1387\">«part def»</text><text fill=\"#000000\" font-family=\"sans-serif\" font-size=\"12\" lengthAdjust=\"spacingAndGlyphs\" textLength=\"45\" x=\"337.5\" y=\"114.1074\">Vehicle</text></a></g><g id=\"E1.E2.E4\"><a href=\"psysml:42326513-c813-4f17-9254-875ba93877ec\" target=\"_top\" title=\"psysml:42326513-c813-4f17-9254-875ba93877ec\" xlink:actuate=\"onRequest\" xlink:href=\"psysml:42326513-c813-4f17-9254-875ba93877ec\" xlink:show=\"new\" xlink:title=\"psysml:42326513-c813-4f17-9254-875ba93877ec\" xlink:type=\"simple\"><rect fill=\"#FFFFFF\" height=\"42.9375\" id=\"E4\" style=\"stroke: #383838; stroke-width: 1.5;\" width=\"71\" x=\"218.5\" y=\"84\"/><rect fill=\"#F8F8F8\" height=\"37.9375\" style=\"stroke: #383838; stroke-width: 1.5;\" width=\"71\" x=\"218.5\" y=\"84\"/><text fill=\"#000000\" font-family=\"sans-serif\" font-size=\"12\" font-style=\"italic\" lengthAdjust=\"spacingAndGlyphs\" textLength=\"64\" x=\"222\" y=\"100.1387\">«part def»</text><text fill=\"#000000\" font-family=\"sans-serif\" font-size=\"12\" lengthAdjust=\"spacingAndGlyphs\" textLength=\"45\" x=\"231.5\" y=\"114.1074\">Vehicle</text></a></g><g id=\"E1.E5.E6\"><a href=\"psysml:d491d5f9-6d8b-4b1d-a51c-b8388350c517\" target=\"_top\" title=\"psysml:d491d5f9-6d8b-4b1d-a51c-b8388350c517\" xlink:actuate=\"onRequest\" xlink:href=\"psysml:d491d5f9-6d8b-4b1d-a51c-b8388350c517\" xlink:show=\"new\" xlink:title=\"psysml:d491d5f9-6d8b-4b1d-a51c-b8388350c517\" xlink:type=\"simple\"><rect fill=\"#FFFFFF\" height=\"40\" id=\"E6\" rx=\"10\" ry=\"10\" style=\"stroke: #383838; stroke-width: 1.5;\" width=\"107\" x=\"55.5\" y=\"85.5\"/><rect fill=\"#F8F8F8\" height=\"23.9688\" rx=\"10\" ry=\"10\" style=\"stroke: #F8F8F8; stroke-width: 1.5;\" width=\"107\" x=\"55.5\" y=\"85.5\"/><rect fill=\"#F8F8F8\" height=\"10\" style=\"stroke: #F8F8F8; stroke-width: 1.5;\" width=\"107\" x=\"55.5\" y=\"99.4688\"/><rect fill=\"none\" height=\"40\" id=\"E6\" rx=\"10\" ry=\"10\" style=\"stroke: #383838; stroke-width: 1.5;\" width=\"107\" x=\"55.5\" y=\"85.5\"/><text fill=\"#000000\" font-family=\"sans-serif\" font-size=\"12\" lengthAdjust=\"spacingAndGlyphs\" textLength=\"96\" x=\"61\" y=\"101.6387\">vehicle: Vehicle</text></a></g><!--MD5=[6138565d3b9c59ab3bc841c5bb581b3f]\n",
       "@startuml\r\n",
       "skinparam ranksep 10\r\n",
       "skinparam rectangle {\r\n",
       " backgroundColor<<block>> LightGreen\r\n",
       "}\r\n",
       " skinparam monochrome true\r\n",
       "skinparam classbackgroundcolor white\r\n",
       "skinparam shadowing false\r\n",
       "skinparam wrapWidth 300\r\n",
       "hide circle\r\n",
       "\r\n",
       "package \"AliasImport\" as E1  [[psysml:da265157-d0d4-4951-bf22-47d5659e31ef ]]  {\r\n",
       "package \"Definitions\" as E2  [[psysml:2fd87941-b162-4111-8987-3fc5534acf16 ]]  {\r\n",
       "rec def \"Vehicle\" as E3  <<(T,blue) part def>> [[psysml:42326513-c813-4f17-9254-875ba93877ec ]] {\r\n",
       "}\r\n",
       "rec def \"Vehicle\" as E4  <<(T,blue) part def>> [[psysml:42326513-c813-4f17-9254-875ba93877ec ]] {\r\n",
       "}\r\n",
       "}\r\n",
       "package \"Usages\" as E5  [[psysml:e3968260-a676-422f-8ca6-ec1afe8a305b ]]  {\r\n",
       "rec usage \"vehicle: Vehicle\" as E6  [[psysml:d491d5f9-6d8b-4b1d-a51c-b8388350c517 ]] {\r\n",
       "}\r\n",
       "}\r\n",
       "}\r\n",
       "@enduml\r\n",
       "\n",
       "PlantUML version 1.2020.13(Sat Jun 13 12:26:38 UTC 2020)\n",
       "(EPL source distribution)\n",
       "Java Runtime: OpenJDK Runtime Environment\n",
       "JVM: OpenJDK 64-Bit Server VM\n",
       "Default Encoding: UTF-8\n",
       "Language: en\n",
       "Country: null\n",
       "--></g></svg>"
      ]
     },
     "execution_count": 5,
     "metadata": {},
     "output_type": "execute_result"
    }
   ],
   "source": [
    "%viz --style=\"COMPTREE\" --view=\"Interconnection\" \"AliasImport\""
   ]
  },
  {
   "cell_type": "code",
   "execution_count": 6,
   "id": "869ecf0d",
   "metadata": {
    "execution": {
     "iopub.execute_input": "2021-10-03T08:30:56.116559Z",
     "iopub.status.busy": "2021-10-03T08:30:56.116105Z",
     "iopub.status.idle": "2021-10-03T08:30:56.125316Z",
     "shell.execute_reply": "2021-10-03T08:30:56.125641Z"
    }
   },
   "outputs": [
    {
     "data": {
      "image/svg+xml": [
       "<?xml version=\"1.0\" encoding=\"UTF-8\" standalone=\"no\"?><svg xmlns=\"http://www.w3.org/2000/svg\" xmlns:xlink=\"http://www.w3.org/1999/xlink\" contentScriptType=\"application/ecmascript\" contentStyleType=\"text/css\" height=\"12px\" preserveAspectRatio=\"none\" style=\"width:12px;height:12px;\" version=\"1.1\" viewBox=\"0 0 12 12\" width=\"12px\" zoomAndPan=\"magnify\"><defs/><g><!--MD5=[655b888544ca4751ea36af1068543f84]\n",
       "@startuml\r\n",
       "skinparam ranksep 8\r\n",
       " skinparam monochrome true\r\n",
       "skinparam classbackgroundcolor white\r\n",
       "skinparam shadowing false\r\n",
       "skinparam wrapWidth 300\r\n",
       "hide circle\r\n",
       "\r\n",
       "@enduml\r\n",
       "\n",
       "PlantUML version 1.2020.13(Sat Jun 13 12:26:38 UTC 2020)\n",
       "(EPL source distribution)\n",
       "Java Runtime: OpenJDK Runtime Environment\n",
       "JVM: OpenJDK 64-Bit Server VM\n",
       "Default Encoding: UTF-8\n",
       "Language: en\n",
       "Country: null\n",
       "--></g></svg>"
      ]
     },
     "execution_count": 6,
     "metadata": {},
     "output_type": "execute_result"
    }
   ],
   "source": [
    "%viz --style=\"COMPTREE\" --view=\"Action\" \"AliasImport\""
   ]
  },
  {
   "cell_type": "code",
   "execution_count": 7,
   "id": "5ef9b45e",
   "metadata": {
    "execution": {
     "iopub.execute_input": "2021-10-03T08:30:56.175638Z",
     "iopub.status.busy": "2021-10-03T08:30:56.175225Z",
     "iopub.status.idle": "2021-10-03T08:30:56.188739Z",
     "shell.execute_reply": "2021-10-03T08:30:56.189073Z"
    }
   },
   "outputs": [
    {
     "data": {
      "image/svg+xml": [
       "<?xml version=\"1.0\" encoding=\"UTF-8\" standalone=\"no\"?><svg xmlns=\"http://www.w3.org/2000/svg\" xmlns:xlink=\"http://www.w3.org/1999/xlink\" contentScriptType=\"application/ecmascript\" contentStyleType=\"text/css\" height=\"12px\" preserveAspectRatio=\"none\" style=\"width:12px;height:12px;\" version=\"1.1\" viewBox=\"0 0 12 12\" width=\"12px\" zoomAndPan=\"magnify\"><defs/><g><!--MD5=[803fc46c337be7a5c8a9831e35356779]\n",
       "@startuml\r\n",
       "skinparam roundcorner 20\r\n",
       "skinparam BoxPadding 20\r\n",
       "skinparam SequenceBoxBackgroundColor #white\r\n",
       "skinparam style strictuml\r\n",
       "skinparam maxMessageSize 100\r\n",
       " skinparam monochrome true\r\n",
       "skinparam classbackgroundcolor white\r\n",
       "skinparam shadowing false\r\n",
       "skinparam wrapWidth 300\r\n",
       "hide circle\r\n",
       "\r\n",
       "@enduml\r\n",
       "\n",
       "PlantUML version 1.2020.13(Sat Jun 13 12:26:38 UTC 2020)\n",
       "(EPL source distribution)\n",
       "Java Runtime: OpenJDK Runtime Environment\n",
       "JVM: OpenJDK 64-Bit Server VM\n",
       "Default Encoding: UTF-8\n",
       "Language: en\n",
       "Country: null\n",
       "--></g></svg>"
      ]
     },
     "execution_count": 7,
     "metadata": {},
     "output_type": "execute_result"
    }
   ],
   "source": [
    "%viz --style=\"COMPTREE\" --view=\"Sequence\" \"AliasImport\""
   ]
  },
  {
   "cell_type": "code",
   "execution_count": 8,
   "id": "0b119251",
   "metadata": {
    "execution": {
     "iopub.execute_input": "2021-10-03T08:30:56.238936Z",
     "iopub.status.busy": "2021-10-03T08:30:56.238429Z",
     "iopub.status.idle": "2021-10-03T08:30:56.278000Z",
     "shell.execute_reply": "2021-10-03T08:30:56.277624Z"
    }
   },
   "outputs": [
    {
     "data": {
      "image/svg+xml": [
       "<?xml version=\"1.0\" encoding=\"UTF-8\" standalone=\"no\"?><svg xmlns=\"http://www.w3.org/2000/svg\" xmlns:xlink=\"http://www.w3.org/1999/xlink\" contentScriptType=\"application/ecmascript\" contentStyleType=\"text/css\" height=\"303px\" preserveAspectRatio=\"none\" style=\"width:220px;height:303px;\" version=\"1.1\" viewBox=\"0 0 220 303\" width=\"220px\" zoomAndPan=\"magnify\"><defs/><g><!--MD5=[fbc87193dbaf4d95561dea2c320d4a47]\n",
       "cluster E1--><a href=\"psysml:da265157-d0d4-4951-bf22-47d5659e31ef\" target=\"_top\" title=\"psysml:da265157-d0d4-4951-bf22-47d5659e31ef\" xlink:actuate=\"onRequest\" xlink:href=\"psysml:da265157-d0d4-4951-bf22-47d5659e31ef\" xlink:show=\"new\" xlink:title=\"psysml:da265157-d0d4-4951-bf22-47d5659e31ef\" xlink:type=\"simple\"><polygon fill=\"#FFFFFF\" points=\"16,6,97,6,104,28.2969,198,28.2969,198,291,16,291,16,6\" style=\"stroke: #000000; stroke-width: 1.5;\"/><line style=\"stroke: #000000; stroke-width: 1.5;\" x1=\"16\" x2=\"104\" y1=\"28.2969\" y2=\"28.2969\"/><text fill=\"#000000\" font-family=\"sans-serif\" font-size=\"14\" font-weight=\"bold\" lengthAdjust=\"spacingAndGlyphs\" textLength=\"75\" x=\"20\" y=\"20.9951\">AliasImport</text></a><!--MD5=[e4f7fae6ed58524ba242bb0b0d3be6b7]\n",
       "cluster E2--><a href=\"psysml:2fd87941-b162-4111-8987-3fc5534acf16\" target=\"_top\" title=\"psysml:2fd87941-b162-4111-8987-3fc5534acf16\" xlink:actuate=\"onRequest\" xlink:href=\"psysml:2fd87941-b162-4111-8987-3fc5534acf16\" xlink:show=\"new\" xlink:title=\"psysml:2fd87941-b162-4111-8987-3fc5534acf16\" xlink:type=\"simple\"><polygon fill=\"#FFFFFF\" points=\"58,170,137,170,144,192.2969,156,192.2969,156,267,58,267,58,170\" style=\"stroke: #000000; stroke-width: 1.5;\"/><line style=\"stroke: #000000; stroke-width: 1.5;\" x1=\"58\" x2=\"144\" y1=\"192.2969\" y2=\"192.2969\"/><text fill=\"#000000\" font-family=\"sans-serif\" font-size=\"14\" font-weight=\"bold\" lengthAdjust=\"spacingAndGlyphs\" textLength=\"73\" x=\"62\" y=\"184.9951\">Definitions</text></a><!--MD5=[f6df4d0ebaf0b5dfb2ced0ae5af7c670]\n",
       "cluster E4--><a href=\"psysml:e3968260-a676-422f-8ca6-ec1afe8a305b\" target=\"_top\" title=\"psysml:e3968260-a676-422f-8ca6-ec1afe8a305b\" xlink:actuate=\"onRequest\" xlink:href=\"psysml:e3968260-a676-422f-8ca6-ec1afe8a305b\" xlink:show=\"new\" xlink:title=\"psysml:e3968260-a676-422f-8ca6-ec1afe8a305b\" xlink:type=\"simple\"><polygon fill=\"#FFFFFF\" points=\"40,49,98,49,105,71.2969,174,71.2969,174,146,40,146,40,49\" style=\"stroke: #000000; stroke-width: 1.5;\"/><line style=\"stroke: #000000; stroke-width: 1.5;\" x1=\"40\" x2=\"105\" y1=\"71.2969\" y2=\"71.2969\"/><text fill=\"#000000\" font-family=\"sans-serif\" font-size=\"14\" font-weight=\"bold\" lengthAdjust=\"spacingAndGlyphs\" textLength=\"52\" x=\"44\" y=\"63.9951\">Usages</text></a><!--MD5=[09b614a08d8cba4a07c9adeb5e0fee81]\n",
       "class E3--><a href=\"psysml:42326513-c813-4f17-9254-875ba93877ec\" target=\"_top\" title=\"psysml:42326513-c813-4f17-9254-875ba93877ec\" xlink:actuate=\"onRequest\" xlink:href=\"psysml:42326513-c813-4f17-9254-875ba93877ec\" xlink:show=\"new\" xlink:title=\"psysml:42326513-c813-4f17-9254-875ba93877ec\" xlink:type=\"simple\"><rect fill=\"#FFFFFF\" height=\"45.9375\" id=\"E3\" style=\"stroke: #383838; stroke-width: 1.5;\" width=\"66\" x=\"74\" y=\"205\"/><text fill=\"#000000\" font-family=\"sans-serif\" font-size=\"12\" font-style=\"italic\" lengthAdjust=\"spacingAndGlyphs\" textLength=\"64\" x=\"75\" y=\"221.1387\">«part def»</text><text fill=\"#000000\" font-family=\"sans-serif\" font-size=\"12\" lengthAdjust=\"spacingAndGlyphs\" textLength=\"45\" x=\"84.5\" y=\"235.1074\">Vehicle</text><line style=\"stroke: #383838; stroke-width: 1.5;\" x1=\"75\" x2=\"139\" y1=\"242.9375\" y2=\"242.9375\"/></a><!--MD5=[270fce915f116d4de14055a7c1d9a0f3]\n",
       "class E5--><a href=\"psysml:d491d5f9-6d8b-4b1d-a51c-b8388350c517\" target=\"_top\" title=\"psysml:d491d5f9-6d8b-4b1d-a51c-b8388350c517\" xlink:actuate=\"onRequest\" xlink:href=\"psysml:d491d5f9-6d8b-4b1d-a51c-b8388350c517\" xlink:show=\"new\" xlink:title=\"psysml:d491d5f9-6d8b-4b1d-a51c-b8388350c517\" xlink:type=\"simple\"><rect fill=\"#FFFFFF\" height=\"45.9375\" id=\"E5\" rx=\"10\" ry=\"10\" style=\"stroke: #383838; stroke-width: 1.5;\" width=\"102\" x=\"56\" y=\"84\"/><text fill=\"#000000\" font-family=\"sans-serif\" font-size=\"12\" font-style=\"italic\" lengthAdjust=\"spacingAndGlyphs\" textLength=\"40\" x=\"87\" y=\"100.1387\">«part»</text><text fill=\"#000000\" font-family=\"sans-serif\" font-size=\"12\" lengthAdjust=\"spacingAndGlyphs\" textLength=\"96\" x=\"59\" y=\"114.1074\">vehicle: Vehicle</text><line style=\"stroke: #383838; stroke-width: 1.5;\" x1=\"57\" x2=\"157\" y1=\"121.9375\" y2=\"121.9375\"/></a><!--MD5=[e9be52314489bd878ff4c7144b63c9e1]\n",
       "link E5 to E3--><a href=\"psysml:c9bd4828-45e6-4eb9-80eb-81bfe8e91163\" target=\"_top\" title=\"psysml:c9bd4828-45e6-4eb9-80eb-81bfe8e91163\" xlink:actuate=\"onRequest\" xlink:href=\"psysml:c9bd4828-45e6-4eb9-80eb-81bfe8e91163\" xlink:show=\"new\" xlink:title=\"psysml:c9bd4828-45e6-4eb9-80eb-81bfe8e91163\" xlink:type=\"simple\"><path d=\"M107,130.1 C107,145.37 107,166.16 107,184.57 \" fill=\"none\" id=\"E5-&gt;E3\" style=\"stroke: #383838; stroke-width: 1.0;\"/><polygon fill=\"#FFFFFF\" points=\"107,204.61,100,185.61,114,185.61,107,204.61\" style=\"stroke: #383838; stroke-width: 1.0;\"/><ellipse cx=\"102\" cy=\"179.91\" fill=\"#383838\" rx=\"2\" ry=\"2\" style=\"stroke: #383838; stroke-width: 1.0;\"/><ellipse cx=\"112\" cy=\"179.91\" fill=\"#383838\" rx=\"2\" ry=\"2\" style=\"stroke: #383838; stroke-width: 1.0;\"/></a><!--MD5=[03697014ba3e38a4f5b0cd3716f9f2ed]\n",
       "@startuml\r\n",
       " skinparam monochrome true\r\n",
       "skinparam classbackgroundcolor white\r\n",
       "skinparam shadowing false\r\n",
       "skinparam wrapWidth 300\r\n",
       "hide circle\r\n",
       "\r\n",
       "package \"AliasImport\" as E1  [[psysml:da265157-d0d4-4951-bf22-47d5659e31ef ]]  {\r\n",
       "package \"Definitions\" as E2  [[psysml:2fd87941-b162-4111-8987-3fc5534acf16 ]]  {\r\n",
       "comp def \"Vehicle\" as E3  <<(T,blue) part def>> [[psysml:42326513-c813-4f17-9254-875ba93877ec ]] {\r\n",
       "}\r\n",
       "}\r\n",
       "package \"Usages\" as E4  [[psysml:e3968260-a676-422f-8ca6-ec1afe8a305b ]]  {\r\n",
       "comp usage \"vehicle: Vehicle\" as E5  <<(T,blue) part>> [[psysml:d491d5f9-6d8b-4b1d-a51c-b8388350c517 ]] {\r\n",
       "}\r\n",
       "}\r\n",
       "}\r\n",
       "E5 - -:|> E3 [[psysml:c9bd4828-45e6-4eb9-80eb-81bfe8e91163 ]] \r\n",
       "@enduml\r\n",
       "\n",
       "PlantUML version 1.2020.13(Sat Jun 13 12:26:38 UTC 2020)\n",
       "(EPL source distribution)\n",
       "Java Runtime: OpenJDK Runtime Environment\n",
       "JVM: OpenJDK 64-Bit Server VM\n",
       "Default Encoding: UTF-8\n",
       "Language: en\n",
       "Country: null\n",
       "--></g></svg>"
      ]
     },
     "execution_count": 8,
     "metadata": {},
     "output_type": "execute_result"
    }
   ],
   "source": [
    "%viz --style=\"COMPTREE\" --view=\"MIXED\" \"AliasImport\""
   ]
  },
  {
   "cell_type": "code",
   "execution_count": 9,
   "id": "3a7c5677",
   "metadata": {
    "execution": {
     "iopub.execute_input": "2021-10-03T08:30:56.327628Z",
     "iopub.status.busy": "2021-10-03T08:30:56.327039Z",
     "iopub.status.idle": "2021-10-03T08:30:56.374134Z",
     "shell.execute_reply": "2021-10-03T08:30:56.374464Z"
    }
   },
   "outputs": [
    {
     "data": {
      "image/svg+xml": [
       "<?xml version=\"1.0\" encoding=\"UTF-8\" standalone=\"no\"?><svg xmlns=\"http://www.w3.org/2000/svg\" xmlns:xlink=\"http://www.w3.org/1999/xlink\" contentScriptType=\"application/ecmascript\" contentStyleType=\"text/css\" height=\"303px\" preserveAspectRatio=\"none\" style=\"width:220px;height:303px;\" version=\"1.1\" viewBox=\"0 0 220 303\" width=\"220px\" zoomAndPan=\"magnify\"><defs/><g><!--MD5=[fbc87193dbaf4d95561dea2c320d4a47]\n",
       "cluster E1--><a href=\"psysml:da265157-d0d4-4951-bf22-47d5659e31ef\" target=\"_top\" title=\"psysml:da265157-d0d4-4951-bf22-47d5659e31ef\" xlink:actuate=\"onRequest\" xlink:href=\"psysml:da265157-d0d4-4951-bf22-47d5659e31ef\" xlink:show=\"new\" xlink:title=\"psysml:da265157-d0d4-4951-bf22-47d5659e31ef\" xlink:type=\"simple\"><polygon fill=\"#FFFFFF\" points=\"16,6,97,6,104,28.2969,198,28.2969,198,291,16,291,16,6\" style=\"stroke: #000000; stroke-width: 1.5;\"/><line style=\"stroke: #000000; stroke-width: 1.5;\" x1=\"16\" x2=\"104\" y1=\"28.2969\" y2=\"28.2969\"/><text fill=\"#000000\" font-family=\"sans-serif\" font-size=\"14\" font-weight=\"bold\" lengthAdjust=\"spacingAndGlyphs\" textLength=\"75\" x=\"20\" y=\"20.9951\">AliasImport</text></a><!--MD5=[e4f7fae6ed58524ba242bb0b0d3be6b7]\n",
       "cluster E2--><a href=\"psysml:2fd87941-b162-4111-8987-3fc5534acf16\" target=\"_top\" title=\"psysml:2fd87941-b162-4111-8987-3fc5534acf16\" xlink:actuate=\"onRequest\" xlink:href=\"psysml:2fd87941-b162-4111-8987-3fc5534acf16\" xlink:show=\"new\" xlink:title=\"psysml:2fd87941-b162-4111-8987-3fc5534acf16\" xlink:type=\"simple\"><polygon fill=\"#FFFFFF\" points=\"58,170,137,170,144,192.2969,156,192.2969,156,267,58,267,58,170\" style=\"stroke: #000000; stroke-width: 1.5;\"/><line style=\"stroke: #000000; stroke-width: 1.5;\" x1=\"58\" x2=\"144\" y1=\"192.2969\" y2=\"192.2969\"/><text fill=\"#000000\" font-family=\"sans-serif\" font-size=\"14\" font-weight=\"bold\" lengthAdjust=\"spacingAndGlyphs\" textLength=\"73\" x=\"62\" y=\"184.9951\">Definitions</text></a><!--MD5=[f6df4d0ebaf0b5dfb2ced0ae5af7c670]\n",
       "cluster E4--><a href=\"psysml:e3968260-a676-422f-8ca6-ec1afe8a305b\" target=\"_top\" title=\"psysml:e3968260-a676-422f-8ca6-ec1afe8a305b\" xlink:actuate=\"onRequest\" xlink:href=\"psysml:e3968260-a676-422f-8ca6-ec1afe8a305b\" xlink:show=\"new\" xlink:title=\"psysml:e3968260-a676-422f-8ca6-ec1afe8a305b\" xlink:type=\"simple\"><polygon fill=\"#FFFFFF\" points=\"40,49,98,49,105,71.2969,174,71.2969,174,146,40,146,40,49\" style=\"stroke: #000000; stroke-width: 1.5;\"/><line style=\"stroke: #000000; stroke-width: 1.5;\" x1=\"40\" x2=\"105\" y1=\"71.2969\" y2=\"71.2969\"/><text fill=\"#000000\" font-family=\"sans-serif\" font-size=\"14\" font-weight=\"bold\" lengthAdjust=\"spacingAndGlyphs\" textLength=\"52\" x=\"44\" y=\"63.9951\">Usages</text></a><!--MD5=[09b614a08d8cba4a07c9adeb5e0fee81]\n",
       "class E3--><a href=\"psysml:42326513-c813-4f17-9254-875ba93877ec\" target=\"_top\" title=\"psysml:42326513-c813-4f17-9254-875ba93877ec\" xlink:actuate=\"onRequest\" xlink:href=\"psysml:42326513-c813-4f17-9254-875ba93877ec\" xlink:show=\"new\" xlink:title=\"psysml:42326513-c813-4f17-9254-875ba93877ec\" xlink:type=\"simple\"><rect fill=\"#FFFFFF\" height=\"45.9375\" id=\"E3\" style=\"stroke: #383838; stroke-width: 1.5;\" width=\"66\" x=\"74\" y=\"205\"/><text fill=\"#000000\" font-family=\"sans-serif\" font-size=\"12\" font-style=\"italic\" lengthAdjust=\"spacingAndGlyphs\" textLength=\"64\" x=\"75\" y=\"221.1387\">«part def»</text><text fill=\"#000000\" font-family=\"sans-serif\" font-size=\"12\" lengthAdjust=\"spacingAndGlyphs\" textLength=\"45\" x=\"84.5\" y=\"235.1074\">Vehicle</text><line style=\"stroke: #383838; stroke-width: 1.5;\" x1=\"75\" x2=\"139\" y1=\"242.9375\" y2=\"242.9375\"/></a><!--MD5=[270fce915f116d4de14055a7c1d9a0f3]\n",
       "class E5--><a href=\"psysml:d491d5f9-6d8b-4b1d-a51c-b8388350c517\" target=\"_top\" title=\"psysml:d491d5f9-6d8b-4b1d-a51c-b8388350c517\" xlink:actuate=\"onRequest\" xlink:href=\"psysml:d491d5f9-6d8b-4b1d-a51c-b8388350c517\" xlink:show=\"new\" xlink:title=\"psysml:d491d5f9-6d8b-4b1d-a51c-b8388350c517\" xlink:type=\"simple\"><rect fill=\"#FFFFFF\" height=\"45.9375\" id=\"E5\" rx=\"10\" ry=\"10\" style=\"stroke: #383838; stroke-width: 1.5;\" width=\"102\" x=\"56\" y=\"84\"/><text fill=\"#000000\" font-family=\"sans-serif\" font-size=\"12\" font-style=\"italic\" lengthAdjust=\"spacingAndGlyphs\" textLength=\"40\" x=\"87\" y=\"100.1387\">«part»</text><text fill=\"#000000\" font-family=\"sans-serif\" font-size=\"12\" lengthAdjust=\"spacingAndGlyphs\" textLength=\"96\" x=\"59\" y=\"114.1074\">vehicle: Vehicle</text><line style=\"stroke: #383838; stroke-width: 1.5;\" x1=\"57\" x2=\"157\" y1=\"121.9375\" y2=\"121.9375\"/></a><!--MD5=[e9be52314489bd878ff4c7144b63c9e1]\n",
       "link E5 to E3--><a href=\"psysml:c9bd4828-45e6-4eb9-80eb-81bfe8e91163\" target=\"_top\" title=\"psysml:c9bd4828-45e6-4eb9-80eb-81bfe8e91163\" xlink:actuate=\"onRequest\" xlink:href=\"psysml:c9bd4828-45e6-4eb9-80eb-81bfe8e91163\" xlink:show=\"new\" xlink:title=\"psysml:c9bd4828-45e6-4eb9-80eb-81bfe8e91163\" xlink:type=\"simple\"><path d=\"M107,130.1 C107,145.37 107,166.16 107,184.57 \" fill=\"none\" id=\"E5-&gt;E3\" style=\"stroke: #383838; stroke-width: 1.0;\"/><polygon fill=\"#FFFFFF\" points=\"107,204.61,100,185.61,114,185.61,107,204.61\" style=\"stroke: #383838; stroke-width: 1.0;\"/><ellipse cx=\"102\" cy=\"179.91\" fill=\"#383838\" rx=\"2\" ry=\"2\" style=\"stroke: #383838; stroke-width: 1.0;\"/><ellipse cx=\"112\" cy=\"179.91\" fill=\"#383838\" rx=\"2\" ry=\"2\" style=\"stroke: #383838; stroke-width: 1.0;\"/></a><!--MD5=[a2516fe522fb0d8aaf12d0f325777789]\n",
       "@startuml\r\n",
       "skinparam linetype polyline\r\n",
       "skinparam monochrome true\r\n",
       "skinparam classbackgroundcolor white\r\n",
       "skinparam shadowing false\r\n",
       "skinparam wrapWidth 300\r\n",
       "hide circle\r\n",
       "\r\n",
       "package \"AliasImport\" as E1  [[psysml:da265157-d0d4-4951-bf22-47d5659e31ef ]]  {\r\n",
       "package \"Definitions\" as E2  [[psysml:2fd87941-b162-4111-8987-3fc5534acf16 ]]  {\r\n",
       "comp def \"Vehicle\" as E3  <<(T,blue) part def>> [[psysml:42326513-c813-4f17-9254-875ba93877ec ]] {\r\n",
       "}\r\n",
       "}\r\n",
       "package \"Usages\" as E4  [[psysml:e3968260-a676-422f-8ca6-ec1afe8a305b ]]  {\r\n",
       "comp usage \"vehicle: Vehicle\" as E5  <<(T,blue) part>> [[psysml:d491d5f9-6d8b-4b1d-a51c-b8388350c517 ]] {\r\n",
       "}\r\n",
       "}\r\n",
       "}\r\n",
       "E5 - -:|> E3 [[psysml:c9bd4828-45e6-4eb9-80eb-81bfe8e91163 ]] \r\n",
       "@enduml\r\n",
       "\n",
       "PlantUML version 1.2020.13(Sat Jun 13 12:26:38 UTC 2020)\n",
       "(EPL source distribution)\n",
       "Java Runtime: OpenJDK Runtime Environment\n",
       "JVM: OpenJDK 64-Bit Server VM\n",
       "Default Encoding: UTF-8\n",
       "Language: en\n",
       "Country: null\n",
       "--></g></svg>"
      ]
     },
     "execution_count": 9,
     "metadata": {},
     "output_type": "execute_result"
    }
   ],
   "source": [
    "%viz --style=\"POLYLINE\" --view=\"Default\" \"AliasImport\""
   ]
  },
  {
   "cell_type": "code",
   "execution_count": 10,
   "id": "24d93a48",
   "metadata": {
    "execution": {
     "iopub.execute_input": "2021-10-03T08:30:56.424231Z",
     "iopub.status.busy": "2021-10-03T08:30:56.423796Z",
     "iopub.status.idle": "2021-10-03T08:30:56.452829Z",
     "shell.execute_reply": "2021-10-03T08:30:56.450362Z"
    }
   },
   "outputs": [
    {
     "data": {
      "image/svg+xml": [
       "<?xml version=\"1.0\" encoding=\"UTF-8\" standalone=\"no\"?><svg xmlns=\"http://www.w3.org/2000/svg\" xmlns:xlink=\"http://www.w3.org/1999/xlink\" contentScriptType=\"application/ecmascript\" contentStyleType=\"text/css\" height=\"303px\" preserveAspectRatio=\"none\" style=\"width:220px;height:303px;\" version=\"1.1\" viewBox=\"0 0 220 303\" width=\"220px\" zoomAndPan=\"magnify\"><defs/><g><!--MD5=[fbc87193dbaf4d95561dea2c320d4a47]\n",
       "cluster E1--><a href=\"psysml:da265157-d0d4-4951-bf22-47d5659e31ef\" target=\"_top\" title=\"psysml:da265157-d0d4-4951-bf22-47d5659e31ef\" xlink:actuate=\"onRequest\" xlink:href=\"psysml:da265157-d0d4-4951-bf22-47d5659e31ef\" xlink:show=\"new\" xlink:title=\"psysml:da265157-d0d4-4951-bf22-47d5659e31ef\" xlink:type=\"simple\"><polygon fill=\"#FFFFFF\" points=\"16,6,97,6,104,28.2969,198,28.2969,198,291,16,291,16,6\" style=\"stroke: #000000; stroke-width: 1.5;\"/><line style=\"stroke: #000000; stroke-width: 1.5;\" x1=\"16\" x2=\"104\" y1=\"28.2969\" y2=\"28.2969\"/><text fill=\"#000000\" font-family=\"sans-serif\" font-size=\"14\" font-weight=\"bold\" lengthAdjust=\"spacingAndGlyphs\" textLength=\"75\" x=\"20\" y=\"20.9951\">AliasImport</text></a><!--MD5=[e4f7fae6ed58524ba242bb0b0d3be6b7]\n",
       "cluster E2--><a href=\"psysml:2fd87941-b162-4111-8987-3fc5534acf16\" target=\"_top\" title=\"psysml:2fd87941-b162-4111-8987-3fc5534acf16\" xlink:actuate=\"onRequest\" xlink:href=\"psysml:2fd87941-b162-4111-8987-3fc5534acf16\" xlink:show=\"new\" xlink:title=\"psysml:2fd87941-b162-4111-8987-3fc5534acf16\" xlink:type=\"simple\"><polygon fill=\"#FFFFFF\" points=\"58,170,137,170,144,192.2969,156,192.2969,156,267,58,267,58,170\" style=\"stroke: #000000; stroke-width: 1.5;\"/><line style=\"stroke: #000000; stroke-width: 1.5;\" x1=\"58\" x2=\"144\" y1=\"192.2969\" y2=\"192.2969\"/><text fill=\"#000000\" font-family=\"sans-serif\" font-size=\"14\" font-weight=\"bold\" lengthAdjust=\"spacingAndGlyphs\" textLength=\"73\" x=\"62\" y=\"184.9951\">Definitions</text></a><!--MD5=[f6df4d0ebaf0b5dfb2ced0ae5af7c670]\n",
       "cluster E4--><a href=\"psysml:e3968260-a676-422f-8ca6-ec1afe8a305b\" target=\"_top\" title=\"psysml:e3968260-a676-422f-8ca6-ec1afe8a305b\" xlink:actuate=\"onRequest\" xlink:href=\"psysml:e3968260-a676-422f-8ca6-ec1afe8a305b\" xlink:show=\"new\" xlink:title=\"psysml:e3968260-a676-422f-8ca6-ec1afe8a305b\" xlink:type=\"simple\"><polygon fill=\"#FFFFFF\" points=\"40,49,98,49,105,71.2969,174,71.2969,174,146,40,146,40,49\" style=\"stroke: #000000; stroke-width: 1.5;\"/><line style=\"stroke: #000000; stroke-width: 1.5;\" x1=\"40\" x2=\"105\" y1=\"71.2969\" y2=\"71.2969\"/><text fill=\"#000000\" font-family=\"sans-serif\" font-size=\"14\" font-weight=\"bold\" lengthAdjust=\"spacingAndGlyphs\" textLength=\"52\" x=\"44\" y=\"63.9951\">Usages</text></a><!--MD5=[09b614a08d8cba4a07c9adeb5e0fee81]\n",
       "class E3--><a href=\"psysml:42326513-c813-4f17-9254-875ba93877ec\" target=\"_top\" title=\"psysml:42326513-c813-4f17-9254-875ba93877ec\" xlink:actuate=\"onRequest\" xlink:href=\"psysml:42326513-c813-4f17-9254-875ba93877ec\" xlink:show=\"new\" xlink:title=\"psysml:42326513-c813-4f17-9254-875ba93877ec\" xlink:type=\"simple\"><rect fill=\"#FFFFFF\" height=\"45.9375\" id=\"E3\" style=\"stroke: #383838; stroke-width: 1.5;\" width=\"66\" x=\"74\" y=\"205\"/><text fill=\"#000000\" font-family=\"sans-serif\" font-size=\"12\" font-style=\"italic\" lengthAdjust=\"spacingAndGlyphs\" textLength=\"64\" x=\"75\" y=\"221.1387\">«part def»</text><text fill=\"#000000\" font-family=\"sans-serif\" font-size=\"12\" lengthAdjust=\"spacingAndGlyphs\" textLength=\"45\" x=\"84.5\" y=\"235.1074\">Vehicle</text><line style=\"stroke: #383838; stroke-width: 1.5;\" x1=\"75\" x2=\"139\" y1=\"242.9375\" y2=\"242.9375\"/></a><!--MD5=[270fce915f116d4de14055a7c1d9a0f3]\n",
       "class E5--><a href=\"psysml:d491d5f9-6d8b-4b1d-a51c-b8388350c517\" target=\"_top\" title=\"psysml:d491d5f9-6d8b-4b1d-a51c-b8388350c517\" xlink:actuate=\"onRequest\" xlink:href=\"psysml:d491d5f9-6d8b-4b1d-a51c-b8388350c517\" xlink:show=\"new\" xlink:title=\"psysml:d491d5f9-6d8b-4b1d-a51c-b8388350c517\" xlink:type=\"simple\"><rect fill=\"#FFFFFF\" height=\"45.9375\" id=\"E5\" rx=\"10\" ry=\"10\" style=\"stroke: #383838; stroke-width: 1.5;\" width=\"102\" x=\"56\" y=\"84\"/><text fill=\"#000000\" font-family=\"sans-serif\" font-size=\"12\" font-style=\"italic\" lengthAdjust=\"spacingAndGlyphs\" textLength=\"40\" x=\"87\" y=\"100.1387\">«part»</text><text fill=\"#000000\" font-family=\"sans-serif\" font-size=\"12\" lengthAdjust=\"spacingAndGlyphs\" textLength=\"96\" x=\"59\" y=\"114.1074\">vehicle: Vehicle</text><line style=\"stroke: #383838; stroke-width: 1.5;\" x1=\"57\" x2=\"157\" y1=\"121.9375\" y2=\"121.9375\"/></a><!--MD5=[e9be52314489bd878ff4c7144b63c9e1]\n",
       "link E5 to E3--><a href=\"psysml:c9bd4828-45e6-4eb9-80eb-81bfe8e91163\" target=\"_top\" title=\"psysml:c9bd4828-45e6-4eb9-80eb-81bfe8e91163\" xlink:actuate=\"onRequest\" xlink:href=\"psysml:c9bd4828-45e6-4eb9-80eb-81bfe8e91163\" xlink:show=\"new\" xlink:title=\"psysml:c9bd4828-45e6-4eb9-80eb-81bfe8e91163\" xlink:type=\"simple\"><path d=\"M107,130.1 C107,145.37 107,166.16 107,184.57 \" fill=\"none\" id=\"E5-&gt;E3\" style=\"stroke: #383838; stroke-width: 1.0;\"/><polygon fill=\"#FFFFFF\" points=\"107,204.61,100,185.61,114,185.61,107,204.61\" style=\"stroke: #383838; stroke-width: 1.0;\"/><ellipse cx=\"102\" cy=\"179.91\" fill=\"#383838\" rx=\"2\" ry=\"2\" style=\"stroke: #383838; stroke-width: 1.0;\"/><ellipse cx=\"112\" cy=\"179.91\" fill=\"#383838\" rx=\"2\" ry=\"2\" style=\"stroke: #383838; stroke-width: 1.0;\"/></a><!--MD5=[a2516fe522fb0d8aaf12d0f325777789]\n",
       "@startuml\r\n",
       "skinparam linetype polyline\r\n",
       "skinparam monochrome true\r\n",
       "skinparam classbackgroundcolor white\r\n",
       "skinparam shadowing false\r\n",
       "skinparam wrapWidth 300\r\n",
       "hide circle\r\n",
       "\r\n",
       "package \"AliasImport\" as E1  [[psysml:da265157-d0d4-4951-bf22-47d5659e31ef ]]  {\r\n",
       "package \"Definitions\" as E2  [[psysml:2fd87941-b162-4111-8987-3fc5534acf16 ]]  {\r\n",
       "comp def \"Vehicle\" as E3  <<(T,blue) part def>> [[psysml:42326513-c813-4f17-9254-875ba93877ec ]] {\r\n",
       "}\r\n",
       "}\r\n",
       "package \"Usages\" as E4  [[psysml:e3968260-a676-422f-8ca6-ec1afe8a305b ]]  {\r\n",
       "comp usage \"vehicle: Vehicle\" as E5  <<(T,blue) part>> [[psysml:d491d5f9-6d8b-4b1d-a51c-b8388350c517 ]] {\r\n",
       "}\r\n",
       "}\r\n",
       "}\r\n",
       "E5 - -:|> E3 [[psysml:c9bd4828-45e6-4eb9-80eb-81bfe8e91163 ]] \r\n",
       "@enduml\r\n",
       "\n",
       "PlantUML version 1.2020.13(Sat Jun 13 12:26:38 UTC 2020)\n",
       "(EPL source distribution)\n",
       "Java Runtime: OpenJDK Runtime Environment\n",
       "JVM: OpenJDK 64-Bit Server VM\n",
       "Default Encoding: UTF-8\n",
       "Language: en\n",
       "Country: null\n",
       "--></g></svg>"
      ]
     },
     "execution_count": 10,
     "metadata": {},
     "output_type": "execute_result"
    }
   ],
   "source": [
    "%viz --style=\"POLYLINE\" --view=\"Tree\" \"AliasImport\""
   ]
  },
  {
   "cell_type": "code",
   "execution_count": 11,
   "id": "3f820959",
   "metadata": {
    "execution": {
     "iopub.execute_input": "2021-10-03T08:30:56.501288Z",
     "iopub.status.busy": "2021-10-03T08:30:56.500879Z",
     "iopub.status.idle": "2021-10-03T08:30:56.508094Z",
     "shell.execute_reply": "2021-10-03T08:30:56.508410Z"
    }
   },
   "outputs": [
    {
     "data": {
      "image/svg+xml": [
       "<?xml version=\"1.0\" encoding=\"UTF-8\" standalone=\"no\"?><svg xmlns=\"http://www.w3.org/2000/svg\" xmlns:xlink=\"http://www.w3.org/1999/xlink\" contentScriptType=\"application/ecmascript\" contentStyleType=\"text/css\" height=\"12px\" preserveAspectRatio=\"none\" style=\"width:12px;height:12px;\" version=\"1.1\" viewBox=\"0 0 12 12\" width=\"12px\" zoomAndPan=\"magnify\"><defs/><g><!--MD5=[896ac0e7a515d8dd7765a661cb4ee08b]\n",
       "@startuml\r\n",
       "skinparam linetype polyline\r\n",
       "skinparam monochrome true\r\n",
       "skinparam classbackgroundcolor white\r\n",
       "skinparam shadowing false\r\n",
       "skinparam wrapWidth 300\r\n",
       "hide circle\r\n",
       "\r\n",
       "@enduml\r\n",
       "\n",
       "PlantUML version 1.2020.13(Sat Jun 13 12:26:38 UTC 2020)\n",
       "(EPL source distribution)\n",
       "Java Runtime: OpenJDK Runtime Environment\n",
       "JVM: OpenJDK 64-Bit Server VM\n",
       "Default Encoding: UTF-8\n",
       "Language: en\n",
       "Country: null\n",
       "--></g></svg>"
      ]
     },
     "execution_count": 11,
     "metadata": {},
     "output_type": "execute_result"
    }
   ],
   "source": [
    "%viz --style=\"POLYLINE\" --view=\"State\" \"AliasImport\""
   ]
  },
  {
   "cell_type": "code",
   "execution_count": 12,
   "id": "c4e9a96b",
   "metadata": {
    "execution": {
     "iopub.execute_input": "2021-10-03T08:30:56.558467Z",
     "iopub.status.busy": "2021-10-03T08:30:56.558051Z",
     "iopub.status.idle": "2021-10-03T08:30:56.594502Z",
     "shell.execute_reply": "2021-10-03T08:30:56.594825Z"
    }
   },
   "outputs": [
    {
     "data": {
      "image/svg+xml": [
       "<?xml version=\"1.0\" encoding=\"UTF-8\" standalone=\"no\"?><svg xmlns=\"http://www.w3.org/2000/svg\" xmlns:xlink=\"http://www.w3.org/1999/xlink\" contentScriptType=\"application/ecmascript\" contentStyleType=\"text/css\" height=\"179px\" preserveAspectRatio=\"none\" style=\"width:458px;height:179px;\" version=\"1.1\" viewBox=\"0 0 458 179\" width=\"458px\" zoomAndPan=\"magnify\"><defs/><g><!--MD5=[fbc87193dbaf4d95561dea2c320d4a47]\n",
       "cluster E1--><a href=\"psysml:da265157-d0d4-4951-bf22-47d5659e31ef\" target=\"_top\" title=\"psysml:da265157-d0d4-4951-bf22-47d5659e31ef\" xlink:actuate=\"onRequest\" xlink:href=\"psysml:da265157-d0d4-4951-bf22-47d5659e31ef\" xlink:show=\"new\" xlink:title=\"psysml:da265157-d0d4-4951-bf22-47d5659e31ef\" xlink:type=\"simple\"><polygon fill=\"#FFFFFF\" points=\"16,6,97,6,104,28.2969,436,28.2969,436,167,16,167,16,6\" style=\"stroke: #000000; stroke-width: 1.5;\"/><line style=\"stroke: #000000; stroke-width: 1.5;\" x1=\"16\" x2=\"104\" y1=\"28.2969\" y2=\"28.2969\"/><text fill=\"#000000\" font-family=\"sans-serif\" font-size=\"14\" font-weight=\"bold\" lengthAdjust=\"spacingAndGlyphs\" textLength=\"75\" x=\"20\" y=\"20.9951\">AliasImport</text></a><!--MD5=[e4f7fae6ed58524ba242bb0b0d3be6b7]\n",
       "cluster E2--><a href=\"psysml:2fd87941-b162-4111-8987-3fc5534acf16\" target=\"_top\" title=\"psysml:2fd87941-b162-4111-8987-3fc5534acf16\" xlink:actuate=\"onRequest\" xlink:href=\"psysml:2fd87941-b162-4111-8987-3fc5534acf16\" xlink:show=\"new\" xlink:title=\"psysml:2fd87941-b162-4111-8987-3fc5534acf16\" xlink:type=\"simple\"><polygon fill=\"#FFFFFF\" points=\"202,49,281,49,288,71.2969,412,71.2969,412,143,202,143,202,49\" style=\"stroke: #000000; stroke-width: 1.5;\"/><line style=\"stroke: #000000; stroke-width: 1.5;\" x1=\"202\" x2=\"288\" y1=\"71.2969\" y2=\"71.2969\"/><text fill=\"#000000\" font-family=\"sans-serif\" font-size=\"14\" font-weight=\"bold\" lengthAdjust=\"spacingAndGlyphs\" textLength=\"73\" x=\"206\" y=\"63.9951\">Definitions</text></a><!--MD5=[de5ec2e2e8f62f467e546659f5068c88]\n",
       "cluster E5--><a href=\"psysml:e3968260-a676-422f-8ca6-ec1afe8a305b\" target=\"_top\" title=\"psysml:e3968260-a676-422f-8ca6-ec1afe8a305b\" xlink:actuate=\"onRequest\" xlink:href=\"psysml:e3968260-a676-422f-8ca6-ec1afe8a305b\" xlink:show=\"new\" xlink:title=\"psysml:e3968260-a676-422f-8ca6-ec1afe8a305b\" xlink:type=\"simple\"><polygon fill=\"#FFFFFF\" points=\"40,50.5,98,50.5,105,72.7969,178,72.7969,178,141.5,40,141.5,40,50.5\" style=\"stroke: #000000; stroke-width: 1.5;\"/><line style=\"stroke: #000000; stroke-width: 1.5;\" x1=\"40\" x2=\"105\" y1=\"72.7969\" y2=\"72.7969\"/><text fill=\"#000000\" font-family=\"sans-serif\" font-size=\"14\" font-weight=\"bold\" lengthAdjust=\"spacingAndGlyphs\" textLength=\"52\" x=\"44\" y=\"65.4951\">Usages</text></a><g id=\"E1.E2.E3\"><a href=\"psysml:42326513-c813-4f17-9254-875ba93877ec\" target=\"_top\" title=\"psysml:42326513-c813-4f17-9254-875ba93877ec\" xlink:actuate=\"onRequest\" xlink:href=\"psysml:42326513-c813-4f17-9254-875ba93877ec\" xlink:show=\"new\" xlink:title=\"psysml:42326513-c813-4f17-9254-875ba93877ec\" xlink:type=\"simple\"><rect fill=\"#FFFFFF\" height=\"42.9375\" id=\"E3\" style=\"stroke: #383838; stroke-width: 1.5;\" width=\"71\" x=\"324.5\" y=\"84\"/><rect fill=\"#F8F8F8\" height=\"37.9375\" style=\"stroke: #383838; stroke-width: 1.5;\" width=\"71\" x=\"324.5\" y=\"84\"/><text fill=\"#000000\" font-family=\"sans-serif\" font-size=\"12\" font-style=\"italic\" lengthAdjust=\"spacingAndGlyphs\" textLength=\"64\" x=\"328\" y=\"100.1387\">«part def»</text><text fill=\"#000000\" font-family=\"sans-serif\" font-size=\"12\" lengthAdjust=\"spacingAndGlyphs\" textLength=\"45\" x=\"337.5\" y=\"114.1074\">Vehicle</text></a></g><g id=\"E1.E2.E4\"><a href=\"psysml:42326513-c813-4f17-9254-875ba93877ec\" target=\"_top\" title=\"psysml:42326513-c813-4f17-9254-875ba93877ec\" xlink:actuate=\"onRequest\" xlink:href=\"psysml:42326513-c813-4f17-9254-875ba93877ec\" xlink:show=\"new\" xlink:title=\"psysml:42326513-c813-4f17-9254-875ba93877ec\" xlink:type=\"simple\"><rect fill=\"#FFFFFF\" height=\"42.9375\" id=\"E4\" style=\"stroke: #383838; stroke-width: 1.5;\" width=\"71\" x=\"218.5\" y=\"84\"/><rect fill=\"#F8F8F8\" height=\"37.9375\" style=\"stroke: #383838; stroke-width: 1.5;\" width=\"71\" x=\"218.5\" y=\"84\"/><text fill=\"#000000\" font-family=\"sans-serif\" font-size=\"12\" font-style=\"italic\" lengthAdjust=\"spacingAndGlyphs\" textLength=\"64\" x=\"222\" y=\"100.1387\">«part def»</text><text fill=\"#000000\" font-family=\"sans-serif\" font-size=\"12\" lengthAdjust=\"spacingAndGlyphs\" textLength=\"45\" x=\"231.5\" y=\"114.1074\">Vehicle</text></a></g><g id=\"E1.E5.E6\"><a href=\"psysml:d491d5f9-6d8b-4b1d-a51c-b8388350c517\" target=\"_top\" title=\"psysml:d491d5f9-6d8b-4b1d-a51c-b8388350c517\" xlink:actuate=\"onRequest\" xlink:href=\"psysml:d491d5f9-6d8b-4b1d-a51c-b8388350c517\" xlink:show=\"new\" xlink:title=\"psysml:d491d5f9-6d8b-4b1d-a51c-b8388350c517\" xlink:type=\"simple\"><rect fill=\"#FFFFFF\" height=\"40\" id=\"E6\" rx=\"10\" ry=\"10\" style=\"stroke: #383838; stroke-width: 1.5;\" width=\"107\" x=\"55.5\" y=\"85.5\"/><rect fill=\"#F8F8F8\" height=\"23.9688\" rx=\"10\" ry=\"10\" style=\"stroke: #F8F8F8; stroke-width: 1.5;\" width=\"107\" x=\"55.5\" y=\"85.5\"/><rect fill=\"#F8F8F8\" height=\"10\" style=\"stroke: #F8F8F8; stroke-width: 1.5;\" width=\"107\" x=\"55.5\" y=\"99.4688\"/><rect fill=\"none\" height=\"40\" id=\"E6\" rx=\"10\" ry=\"10\" style=\"stroke: #383838; stroke-width: 1.5;\" width=\"107\" x=\"55.5\" y=\"85.5\"/><text fill=\"#000000\" font-family=\"sans-serif\" font-size=\"12\" lengthAdjust=\"spacingAndGlyphs\" textLength=\"96\" x=\"61\" y=\"101.6387\">vehicle: Vehicle</text></a></g><!--MD5=[ee11e0950025d22976e1710ee79ae6f1]\n",
       "@startuml\r\n",
       "skinparam ranksep 10\r\n",
       "skinparam rectangle {\r\n",
       " backgroundColor<<block>> LightGreen\r\n",
       "}\r\n",
       "skinparam linetype polyline\r\n",
       "skinparam monochrome true\r\n",
       "skinparam classbackgroundcolor white\r\n",
       "skinparam shadowing false\r\n",
       "skinparam wrapWidth 300\r\n",
       "hide circle\r\n",
       "\r\n",
       "package \"AliasImport\" as E1  [[psysml:da265157-d0d4-4951-bf22-47d5659e31ef ]]  {\r\n",
       "package \"Definitions\" as E2  [[psysml:2fd87941-b162-4111-8987-3fc5534acf16 ]]  {\r\n",
       "rec def \"Vehicle\" as E3  <<(T,blue) part def>> [[psysml:42326513-c813-4f17-9254-875ba93877ec ]] {\r\n",
       "}\r\n",
       "rec def \"Vehicle\" as E4  <<(T,blue) part def>> [[psysml:42326513-c813-4f17-9254-875ba93877ec ]] {\r\n",
       "}\r\n",
       "}\r\n",
       "package \"Usages\" as E5  [[psysml:e3968260-a676-422f-8ca6-ec1afe8a305b ]]  {\r\n",
       "rec usage \"vehicle: Vehicle\" as E6  [[psysml:d491d5f9-6d8b-4b1d-a51c-b8388350c517 ]] {\r\n",
       "}\r\n",
       "}\r\n",
       "}\r\n",
       "@enduml\r\n",
       "\n",
       "PlantUML version 1.2020.13(Sat Jun 13 12:26:38 UTC 2020)\n",
       "(EPL source distribution)\n",
       "Java Runtime: OpenJDK Runtime Environment\n",
       "JVM: OpenJDK 64-Bit Server VM\n",
       "Default Encoding: UTF-8\n",
       "Language: en\n",
       "Country: null\n",
       "--></g></svg>"
      ]
     },
     "execution_count": 12,
     "metadata": {},
     "output_type": "execute_result"
    }
   ],
   "source": [
    "%viz --style=\"POLYLINE\" --view=\"Interconnection\" \"AliasImport\""
   ]
  },
  {
   "cell_type": "code",
   "execution_count": 13,
   "id": "a2a25b14",
   "metadata": {
    "execution": {
     "iopub.execute_input": "2021-10-03T08:30:56.644489Z",
     "iopub.status.busy": "2021-10-03T08:30:56.644053Z",
     "iopub.status.idle": "2021-10-03T08:30:56.651115Z",
     "shell.execute_reply": "2021-10-03T08:30:56.651556Z"
    }
   },
   "outputs": [
    {
     "data": {
      "image/svg+xml": [
       "<?xml version=\"1.0\" encoding=\"UTF-8\" standalone=\"no\"?><svg xmlns=\"http://www.w3.org/2000/svg\" xmlns:xlink=\"http://www.w3.org/1999/xlink\" contentScriptType=\"application/ecmascript\" contentStyleType=\"text/css\" height=\"12px\" preserveAspectRatio=\"none\" style=\"width:12px;height:12px;\" version=\"1.1\" viewBox=\"0 0 12 12\" width=\"12px\" zoomAndPan=\"magnify\"><defs/><g><!--MD5=[97bbf32f66ccd50cbc40d92ea8f5a65e]\n",
       "@startuml\r\n",
       "skinparam ranksep 8\r\n",
       "skinparam linetype polyline\r\n",
       "skinparam monochrome true\r\n",
       "skinparam classbackgroundcolor white\r\n",
       "skinparam shadowing false\r\n",
       "skinparam wrapWidth 300\r\n",
       "hide circle\r\n",
       "\r\n",
       "@enduml\r\n",
       "\n",
       "PlantUML version 1.2020.13(Sat Jun 13 12:26:38 UTC 2020)\n",
       "(EPL source distribution)\n",
       "Java Runtime: OpenJDK Runtime Environment\n",
       "JVM: OpenJDK 64-Bit Server VM\n",
       "Default Encoding: UTF-8\n",
       "Language: en\n",
       "Country: null\n",
       "--></g></svg>"
      ]
     },
     "execution_count": 13,
     "metadata": {},
     "output_type": "execute_result"
    }
   ],
   "source": [
    "%viz --style=\"POLYLINE\" --view=\"Action\" \"AliasImport\""
   ]
  },
  {
   "cell_type": "code",
   "execution_count": 14,
   "id": "3f6071b7",
   "metadata": {
    "execution": {
     "iopub.execute_input": "2021-10-03T08:30:56.700899Z",
     "iopub.status.busy": "2021-10-03T08:30:56.700468Z",
     "iopub.status.idle": "2021-10-03T08:30:56.707724Z",
     "shell.execute_reply": "2021-10-03T08:30:56.708065Z"
    }
   },
   "outputs": [
    {
     "data": {
      "image/svg+xml": [
       "<?xml version=\"1.0\" encoding=\"UTF-8\" standalone=\"no\"?><svg xmlns=\"http://www.w3.org/2000/svg\" xmlns:xlink=\"http://www.w3.org/1999/xlink\" contentScriptType=\"application/ecmascript\" contentStyleType=\"text/css\" height=\"12px\" preserveAspectRatio=\"none\" style=\"width:12px;height:12px;\" version=\"1.1\" viewBox=\"0 0 12 12\" width=\"12px\" zoomAndPan=\"magnify\"><defs/><g><!--MD5=[dc938048236c351797870c36b62f92ad]\n",
       "@startuml\r\n",
       "skinparam roundcorner 20\r\n",
       "skinparam BoxPadding 20\r\n",
       "skinparam SequenceBoxBackgroundColor #white\r\n",
       "skinparam style strictuml\r\n",
       "skinparam maxMessageSize 100\r\n",
       "skinparam linetype polyline\r\n",
       "skinparam monochrome true\r\n",
       "skinparam classbackgroundcolor white\r\n",
       "skinparam shadowing false\r\n",
       "skinparam wrapWidth 300\r\n",
       "hide circle\r\n",
       "\r\n",
       "@enduml\r\n",
       "\n",
       "PlantUML version 1.2020.13(Sat Jun 13 12:26:38 UTC 2020)\n",
       "(EPL source distribution)\n",
       "Java Runtime: OpenJDK Runtime Environment\n",
       "JVM: OpenJDK 64-Bit Server VM\n",
       "Default Encoding: UTF-8\n",
       "Language: en\n",
       "Country: null\n",
       "--></g></svg>"
      ]
     },
     "execution_count": 14,
     "metadata": {},
     "output_type": "execute_result"
    }
   ],
   "source": [
    "%viz --style=\"POLYLINE\" --view=\"Sequence\" \"AliasImport\""
   ]
  },
  {
   "cell_type": "code",
   "execution_count": 15,
   "id": "66930bca",
   "metadata": {
    "execution": {
     "iopub.execute_input": "2021-10-03T08:30:56.757926Z",
     "iopub.status.busy": "2021-10-03T08:30:56.757406Z",
     "iopub.status.idle": "2021-10-03T08:30:56.791819Z",
     "shell.execute_reply": "2021-10-03T08:30:56.791434Z"
    }
   },
   "outputs": [
    {
     "data": {
      "image/svg+xml": [
       "<?xml version=\"1.0\" encoding=\"UTF-8\" standalone=\"no\"?><svg xmlns=\"http://www.w3.org/2000/svg\" xmlns:xlink=\"http://www.w3.org/1999/xlink\" contentScriptType=\"application/ecmascript\" contentStyleType=\"text/css\" height=\"303px\" preserveAspectRatio=\"none\" style=\"width:220px;height:303px;\" version=\"1.1\" viewBox=\"0 0 220 303\" width=\"220px\" zoomAndPan=\"magnify\"><defs/><g><!--MD5=[fbc87193dbaf4d95561dea2c320d4a47]\n",
       "cluster E1--><a href=\"psysml:da265157-d0d4-4951-bf22-47d5659e31ef\" target=\"_top\" title=\"psysml:da265157-d0d4-4951-bf22-47d5659e31ef\" xlink:actuate=\"onRequest\" xlink:href=\"psysml:da265157-d0d4-4951-bf22-47d5659e31ef\" xlink:show=\"new\" xlink:title=\"psysml:da265157-d0d4-4951-bf22-47d5659e31ef\" xlink:type=\"simple\"><polygon fill=\"#FFFFFF\" points=\"16,6,97,6,104,28.2969,198,28.2969,198,291,16,291,16,6\" style=\"stroke: #000000; stroke-width: 1.5;\"/><line style=\"stroke: #000000; stroke-width: 1.5;\" x1=\"16\" x2=\"104\" y1=\"28.2969\" y2=\"28.2969\"/><text fill=\"#000000\" font-family=\"sans-serif\" font-size=\"14\" font-weight=\"bold\" lengthAdjust=\"spacingAndGlyphs\" textLength=\"75\" x=\"20\" y=\"20.9951\">AliasImport</text></a><!--MD5=[e4f7fae6ed58524ba242bb0b0d3be6b7]\n",
       "cluster E2--><a href=\"psysml:2fd87941-b162-4111-8987-3fc5534acf16\" target=\"_top\" title=\"psysml:2fd87941-b162-4111-8987-3fc5534acf16\" xlink:actuate=\"onRequest\" xlink:href=\"psysml:2fd87941-b162-4111-8987-3fc5534acf16\" xlink:show=\"new\" xlink:title=\"psysml:2fd87941-b162-4111-8987-3fc5534acf16\" xlink:type=\"simple\"><polygon fill=\"#FFFFFF\" points=\"58,170,137,170,144,192.2969,156,192.2969,156,267,58,267,58,170\" style=\"stroke: #000000; stroke-width: 1.5;\"/><line style=\"stroke: #000000; stroke-width: 1.5;\" x1=\"58\" x2=\"144\" y1=\"192.2969\" y2=\"192.2969\"/><text fill=\"#000000\" font-family=\"sans-serif\" font-size=\"14\" font-weight=\"bold\" lengthAdjust=\"spacingAndGlyphs\" textLength=\"73\" x=\"62\" y=\"184.9951\">Definitions</text></a><!--MD5=[f6df4d0ebaf0b5dfb2ced0ae5af7c670]\n",
       "cluster E4--><a href=\"psysml:e3968260-a676-422f-8ca6-ec1afe8a305b\" target=\"_top\" title=\"psysml:e3968260-a676-422f-8ca6-ec1afe8a305b\" xlink:actuate=\"onRequest\" xlink:href=\"psysml:e3968260-a676-422f-8ca6-ec1afe8a305b\" xlink:show=\"new\" xlink:title=\"psysml:e3968260-a676-422f-8ca6-ec1afe8a305b\" xlink:type=\"simple\"><polygon fill=\"#FFFFFF\" points=\"40,49,98,49,105,71.2969,174,71.2969,174,146,40,146,40,49\" style=\"stroke: #000000; stroke-width: 1.5;\"/><line style=\"stroke: #000000; stroke-width: 1.5;\" x1=\"40\" x2=\"105\" y1=\"71.2969\" y2=\"71.2969\"/><text fill=\"#000000\" font-family=\"sans-serif\" font-size=\"14\" font-weight=\"bold\" lengthAdjust=\"spacingAndGlyphs\" textLength=\"52\" x=\"44\" y=\"63.9951\">Usages</text></a><!--MD5=[09b614a08d8cba4a07c9adeb5e0fee81]\n",
       "class E3--><a href=\"psysml:42326513-c813-4f17-9254-875ba93877ec\" target=\"_top\" title=\"psysml:42326513-c813-4f17-9254-875ba93877ec\" xlink:actuate=\"onRequest\" xlink:href=\"psysml:42326513-c813-4f17-9254-875ba93877ec\" xlink:show=\"new\" xlink:title=\"psysml:42326513-c813-4f17-9254-875ba93877ec\" xlink:type=\"simple\"><rect fill=\"#FFFFFF\" height=\"45.9375\" id=\"E3\" style=\"stroke: #383838; stroke-width: 1.5;\" width=\"66\" x=\"74\" y=\"205\"/><text fill=\"#000000\" font-family=\"sans-serif\" font-size=\"12\" font-style=\"italic\" lengthAdjust=\"spacingAndGlyphs\" textLength=\"64\" x=\"75\" y=\"221.1387\">«part def»</text><text fill=\"#000000\" font-family=\"sans-serif\" font-size=\"12\" lengthAdjust=\"spacingAndGlyphs\" textLength=\"45\" x=\"84.5\" y=\"235.1074\">Vehicle</text><line style=\"stroke: #383838; stroke-width: 1.5;\" x1=\"75\" x2=\"139\" y1=\"242.9375\" y2=\"242.9375\"/></a><!--MD5=[270fce915f116d4de14055a7c1d9a0f3]\n",
       "class E5--><a href=\"psysml:d491d5f9-6d8b-4b1d-a51c-b8388350c517\" target=\"_top\" title=\"psysml:d491d5f9-6d8b-4b1d-a51c-b8388350c517\" xlink:actuate=\"onRequest\" xlink:href=\"psysml:d491d5f9-6d8b-4b1d-a51c-b8388350c517\" xlink:show=\"new\" xlink:title=\"psysml:d491d5f9-6d8b-4b1d-a51c-b8388350c517\" xlink:type=\"simple\"><rect fill=\"#FFFFFF\" height=\"45.9375\" id=\"E5\" rx=\"10\" ry=\"10\" style=\"stroke: #383838; stroke-width: 1.5;\" width=\"102\" x=\"56\" y=\"84\"/><text fill=\"#000000\" font-family=\"sans-serif\" font-size=\"12\" font-style=\"italic\" lengthAdjust=\"spacingAndGlyphs\" textLength=\"40\" x=\"87\" y=\"100.1387\">«part»</text><text fill=\"#000000\" font-family=\"sans-serif\" font-size=\"12\" lengthAdjust=\"spacingAndGlyphs\" textLength=\"96\" x=\"59\" y=\"114.1074\">vehicle: Vehicle</text><line style=\"stroke: #383838; stroke-width: 1.5;\" x1=\"57\" x2=\"157\" y1=\"121.9375\" y2=\"121.9375\"/></a><!--MD5=[e9be52314489bd878ff4c7144b63c9e1]\n",
       "link E5 to E3--><a href=\"psysml:c9bd4828-45e6-4eb9-80eb-81bfe8e91163\" target=\"_top\" title=\"psysml:c9bd4828-45e6-4eb9-80eb-81bfe8e91163\" xlink:actuate=\"onRequest\" xlink:href=\"psysml:c9bd4828-45e6-4eb9-80eb-81bfe8e91163\" xlink:show=\"new\" xlink:title=\"psysml:c9bd4828-45e6-4eb9-80eb-81bfe8e91163\" xlink:type=\"simple\"><path d=\"M107,130.1 C107,145.37 107,166.16 107,184.57 \" fill=\"none\" id=\"E5-&gt;E3\" style=\"stroke: #383838; stroke-width: 1.0;\"/><polygon fill=\"#FFFFFF\" points=\"107,204.61,100,185.61,114,185.61,107,204.61\" style=\"stroke: #383838; stroke-width: 1.0;\"/><ellipse cx=\"102\" cy=\"179.91\" fill=\"#383838\" rx=\"2\" ry=\"2\" style=\"stroke: #383838; stroke-width: 1.0;\"/><ellipse cx=\"112\" cy=\"179.91\" fill=\"#383838\" rx=\"2\" ry=\"2\" style=\"stroke: #383838; stroke-width: 1.0;\"/></a><!--MD5=[a2516fe522fb0d8aaf12d0f325777789]\n",
       "@startuml\r\n",
       "skinparam linetype polyline\r\n",
       "skinparam monochrome true\r\n",
       "skinparam classbackgroundcolor white\r\n",
       "skinparam shadowing false\r\n",
       "skinparam wrapWidth 300\r\n",
       "hide circle\r\n",
       "\r\n",
       "package \"AliasImport\" as E1  [[psysml:da265157-d0d4-4951-bf22-47d5659e31ef ]]  {\r\n",
       "package \"Definitions\" as E2  [[psysml:2fd87941-b162-4111-8987-3fc5534acf16 ]]  {\r\n",
       "comp def \"Vehicle\" as E3  <<(T,blue) part def>> [[psysml:42326513-c813-4f17-9254-875ba93877ec ]] {\r\n",
       "}\r\n",
       "}\r\n",
       "package \"Usages\" as E4  [[psysml:e3968260-a676-422f-8ca6-ec1afe8a305b ]]  {\r\n",
       "comp usage \"vehicle: Vehicle\" as E5  <<(T,blue) part>> [[psysml:d491d5f9-6d8b-4b1d-a51c-b8388350c517 ]] {\r\n",
       "}\r\n",
       "}\r\n",
       "}\r\n",
       "E5 - -:|> E3 [[psysml:c9bd4828-45e6-4eb9-80eb-81bfe8e91163 ]] \r\n",
       "@enduml\r\n",
       "\n",
       "PlantUML version 1.2020.13(Sat Jun 13 12:26:38 UTC 2020)\n",
       "(EPL source distribution)\n",
       "Java Runtime: OpenJDK Runtime Environment\n",
       "JVM: OpenJDK 64-Bit Server VM\n",
       "Default Encoding: UTF-8\n",
       "Language: en\n",
       "Country: null\n",
       "--></g></svg>"
      ]
     },
     "execution_count": 15,
     "metadata": {},
     "output_type": "execute_result"
    }
   ],
   "source": [
    "%viz --style=\"POLYLINE\" --view=\"MIXED\" \"AliasImport\""
   ]
  },
  {
   "cell_type": "code",
   "execution_count": 16,
   "id": "6e248cdd",
   "metadata": {
    "execution": {
     "iopub.execute_input": "2021-10-03T08:30:56.841201Z",
     "iopub.status.busy": "2021-10-03T08:30:56.840788Z",
     "iopub.status.idle": "2021-10-03T08:30:56.873705Z",
     "shell.execute_reply": "2021-10-03T08:30:56.873338Z"
    }
   },
   "outputs": [
    {
     "data": {
      "image/svg+xml": [
       "<?xml version=\"1.0\" encoding=\"UTF-8\" standalone=\"no\"?><svg xmlns=\"http://www.w3.org/2000/svg\" xmlns:xlink=\"http://www.w3.org/1999/xlink\" contentScriptType=\"application/ecmascript\" contentStyleType=\"text/css\" height=\"182px\" preserveAspectRatio=\"none\" style=\"width:346px;height:182px;\" version=\"1.1\" viewBox=\"0 0 346 182\" width=\"346px\" zoomAndPan=\"magnify\"><defs/><g><!--MD5=[fbc87193dbaf4d95561dea2c320d4a47]\n",
       "cluster E1--><a href=\"psysml:da265157-d0d4-4951-bf22-47d5659e31ef\" target=\"_top\" title=\"psysml:da265157-d0d4-4951-bf22-47d5659e31ef\" xlink:actuate=\"onRequest\" xlink:href=\"psysml:da265157-d0d4-4951-bf22-47d5659e31ef\" xlink:show=\"new\" xlink:title=\"psysml:da265157-d0d4-4951-bf22-47d5659e31ef\" xlink:type=\"simple\"><polygon fill=\"#FFFFFF\" points=\"16,6,97,6,104,28.2969,324,28.2969,324,170,16,170,16,6\" style=\"stroke: #000000; stroke-width: 1.5;\"/><line style=\"stroke: #000000; stroke-width: 1.5;\" x1=\"16\" x2=\"104\" y1=\"28.2969\" y2=\"28.2969\"/><text fill=\"#000000\" font-family=\"sans-serif\" font-size=\"14\" font-weight=\"bold\" lengthAdjust=\"spacingAndGlyphs\" textLength=\"75\" x=\"20\" y=\"20.9951\">AliasImport</text></a><!--MD5=[e4f7fae6ed58524ba242bb0b0d3be6b7]\n",
       "cluster E2--><a href=\"psysml:2fd87941-b162-4111-8987-3fc5534acf16\" target=\"_top\" title=\"psysml:2fd87941-b162-4111-8987-3fc5534acf16\" xlink:actuate=\"onRequest\" xlink:href=\"psysml:2fd87941-b162-4111-8987-3fc5534acf16\" xlink:show=\"new\" xlink:title=\"psysml:2fd87941-b162-4111-8987-3fc5534acf16\" xlink:type=\"simple\"><polygon fill=\"#FFFFFF\" points=\"202,49,281,49,288,71.2969,300,71.2969,300,146,202,146,202,49\" style=\"stroke: #000000; stroke-width: 1.5;\"/><line style=\"stroke: #000000; stroke-width: 1.5;\" x1=\"202\" x2=\"288\" y1=\"71.2969\" y2=\"71.2969\"/><text fill=\"#000000\" font-family=\"sans-serif\" font-size=\"14\" font-weight=\"bold\" lengthAdjust=\"spacingAndGlyphs\" textLength=\"73\" x=\"206\" y=\"63.9951\">Definitions</text></a><!--MD5=[f6df4d0ebaf0b5dfb2ced0ae5af7c670]\n",
       "cluster E4--><a href=\"psysml:e3968260-a676-422f-8ca6-ec1afe8a305b\" target=\"_top\" title=\"psysml:e3968260-a676-422f-8ca6-ec1afe8a305b\" xlink:actuate=\"onRequest\" xlink:href=\"psysml:e3968260-a676-422f-8ca6-ec1afe8a305b\" xlink:show=\"new\" xlink:title=\"psysml:e3968260-a676-422f-8ca6-ec1afe8a305b\" xlink:type=\"simple\"><polygon fill=\"#FFFFFF\" points=\"40,49,98,49,105,71.2969,174,71.2969,174,146,40,146,40,49\" style=\"stroke: #000000; stroke-width: 1.5;\"/><line style=\"stroke: #000000; stroke-width: 1.5;\" x1=\"40\" x2=\"105\" y1=\"71.2969\" y2=\"71.2969\"/><text fill=\"#000000\" font-family=\"sans-serif\" font-size=\"14\" font-weight=\"bold\" lengthAdjust=\"spacingAndGlyphs\" textLength=\"52\" x=\"44\" y=\"63.9951\">Usages</text></a><!--MD5=[09b614a08d8cba4a07c9adeb5e0fee81]\n",
       "class E3--><a href=\"psysml:42326513-c813-4f17-9254-875ba93877ec\" target=\"_top\" title=\"psysml:42326513-c813-4f17-9254-875ba93877ec\" xlink:actuate=\"onRequest\" xlink:href=\"psysml:42326513-c813-4f17-9254-875ba93877ec\" xlink:show=\"new\" xlink:title=\"psysml:42326513-c813-4f17-9254-875ba93877ec\" xlink:type=\"simple\"><rect fill=\"#FFFFFF\" height=\"45.9375\" id=\"E3\" style=\"stroke: #383838; stroke-width: 1.5;\" width=\"66\" x=\"218\" y=\"84\"/><text fill=\"#000000\" font-family=\"sans-serif\" font-size=\"12\" font-style=\"italic\" lengthAdjust=\"spacingAndGlyphs\" textLength=\"64\" x=\"219\" y=\"100.1387\">«part def»</text><text fill=\"#000000\" font-family=\"sans-serif\" font-size=\"12\" lengthAdjust=\"spacingAndGlyphs\" textLength=\"45\" x=\"228.5\" y=\"114.1074\">Vehicle</text><line style=\"stroke: #383838; stroke-width: 1.5;\" x1=\"219\" x2=\"283\" y1=\"121.9375\" y2=\"121.9375\"/></a><!--MD5=[270fce915f116d4de14055a7c1d9a0f3]\n",
       "class E5--><a href=\"psysml:d491d5f9-6d8b-4b1d-a51c-b8388350c517\" target=\"_top\" title=\"psysml:d491d5f9-6d8b-4b1d-a51c-b8388350c517\" xlink:actuate=\"onRequest\" xlink:href=\"psysml:d491d5f9-6d8b-4b1d-a51c-b8388350c517\" xlink:show=\"new\" xlink:title=\"psysml:d491d5f9-6d8b-4b1d-a51c-b8388350c517\" xlink:type=\"simple\"><rect fill=\"#FFFFFF\" height=\"45.9375\" id=\"E5\" rx=\"10\" ry=\"10\" style=\"stroke: #383838; stroke-width: 1.5;\" width=\"102\" x=\"56\" y=\"84\"/><text fill=\"#000000\" font-family=\"sans-serif\" font-size=\"12\" font-style=\"italic\" lengthAdjust=\"spacingAndGlyphs\" textLength=\"40\" x=\"87\" y=\"100.1387\">«part»</text><text fill=\"#000000\" font-family=\"sans-serif\" font-size=\"12\" lengthAdjust=\"spacingAndGlyphs\" textLength=\"96\" x=\"59\" y=\"114.1074\">vehicle: Vehicle</text><line style=\"stroke: #383838; stroke-width: 1.5;\" x1=\"57\" x2=\"157\" y1=\"121.9375\" y2=\"121.9375\"/></a><!--MD5=[e9be52314489bd878ff4c7144b63c9e1]\n",
       "link E5 to E3--><a href=\"psysml:c9bd4828-45e6-4eb9-80eb-81bfe8e91163\" target=\"_top\" title=\"psysml:c9bd4828-45e6-4eb9-80eb-81bfe8e91163\" xlink:actuate=\"onRequest\" xlink:href=\"psysml:c9bd4828-45e6-4eb9-80eb-81bfe8e91163\" xlink:show=\"new\" xlink:title=\"psysml:c9bd4828-45e6-4eb9-80eb-81bfe8e91163\" xlink:type=\"simple\"><path d=\"M158.06,107 C170.75,107 184.42,107 197.23,107 \" fill=\"none\" id=\"E5-&gt;E3\" style=\"stroke: #383838; stroke-width: 1.0;\"/><polygon fill=\"#FFFFFF\" points=\"217.67,107,198.67,114,198.67,100,217.67,107\" style=\"stroke: #383838; stroke-width: 1.0;\"/><ellipse cx=\"192.97\" cy=\"112\" fill=\"#383838\" rx=\"2\" ry=\"2\" style=\"stroke: #383838; stroke-width: 1.0;\"/><ellipse cx=\"192.97\" cy=\"102\" fill=\"#383838\" rx=\"2\" ry=\"2\" style=\"stroke: #383838; stroke-width: 1.0;\"/></a><!--MD5=[96edb654ee60f073b2364e2e6489d2eb]\n",
       "@startuml\r\n",
       "left to right direction\r\n",
       "skinparam monochrome true\r\n",
       "skinparam classbackgroundcolor white\r\n",
       "skinparam shadowing false\r\n",
       "skinparam wrapWidth 300\r\n",
       "hide circle\r\n",
       "\r\n",
       "package \"AliasImport\" as E1  [[psysml:da265157-d0d4-4951-bf22-47d5659e31ef ]]  {\r\n",
       "package \"Definitions\" as E2  [[psysml:2fd87941-b162-4111-8987-3fc5534acf16 ]]  {\r\n",
       "comp def \"Vehicle\" as E3  <<(T,blue) part def>> [[psysml:42326513-c813-4f17-9254-875ba93877ec ]] {\r\n",
       "}\r\n",
       "}\r\n",
       "package \"Usages\" as E4  [[psysml:e3968260-a676-422f-8ca6-ec1afe8a305b ]]  {\r\n",
       "comp usage \"vehicle: Vehicle\" as E5  <<(T,blue) part>> [[psysml:d491d5f9-6d8b-4b1d-a51c-b8388350c517 ]] {\r\n",
       "}\r\n",
       "}\r\n",
       "}\r\n",
       "E5 - -:|> E3 [[psysml:c9bd4828-45e6-4eb9-80eb-81bfe8e91163 ]] \r\n",
       "@enduml\r\n",
       "\n",
       "PlantUML version 1.2020.13(Sat Jun 13 12:26:38 UTC 2020)\n",
       "(EPL source distribution)\n",
       "Java Runtime: OpenJDK Runtime Environment\n",
       "JVM: OpenJDK 64-Bit Server VM\n",
       "Default Encoding: UTF-8\n",
       "Language: en\n",
       "Country: null\n",
       "--></g></svg>"
      ]
     },
     "execution_count": 16,
     "metadata": {},
     "output_type": "execute_result"
    }
   ],
   "source": [
    "%viz --style=\"LR\" --view=\"Default\" \"AliasImport\""
   ]
  },
  {
   "cell_type": "code",
   "execution_count": 17,
   "id": "b858be77",
   "metadata": {
    "execution": {
     "iopub.execute_input": "2021-10-03T08:30:56.923617Z",
     "iopub.status.busy": "2021-10-03T08:30:56.923195Z",
     "iopub.status.idle": "2021-10-03T08:30:56.956548Z",
     "shell.execute_reply": "2021-10-03T08:30:56.956055Z"
    }
   },
   "outputs": [
    {
     "data": {
      "image/svg+xml": [
       "<?xml version=\"1.0\" encoding=\"UTF-8\" standalone=\"no\"?><svg xmlns=\"http://www.w3.org/2000/svg\" xmlns:xlink=\"http://www.w3.org/1999/xlink\" contentScriptType=\"application/ecmascript\" contentStyleType=\"text/css\" height=\"182px\" preserveAspectRatio=\"none\" style=\"width:346px;height:182px;\" version=\"1.1\" viewBox=\"0 0 346 182\" width=\"346px\" zoomAndPan=\"magnify\"><defs/><g><!--MD5=[fbc87193dbaf4d95561dea2c320d4a47]\n",
       "cluster E1--><a href=\"psysml:da265157-d0d4-4951-bf22-47d5659e31ef\" target=\"_top\" title=\"psysml:da265157-d0d4-4951-bf22-47d5659e31ef\" xlink:actuate=\"onRequest\" xlink:href=\"psysml:da265157-d0d4-4951-bf22-47d5659e31ef\" xlink:show=\"new\" xlink:title=\"psysml:da265157-d0d4-4951-bf22-47d5659e31ef\" xlink:type=\"simple\"><polygon fill=\"#FFFFFF\" points=\"16,6,97,6,104,28.2969,324,28.2969,324,170,16,170,16,6\" style=\"stroke: #000000; stroke-width: 1.5;\"/><line style=\"stroke: #000000; stroke-width: 1.5;\" x1=\"16\" x2=\"104\" y1=\"28.2969\" y2=\"28.2969\"/><text fill=\"#000000\" font-family=\"sans-serif\" font-size=\"14\" font-weight=\"bold\" lengthAdjust=\"spacingAndGlyphs\" textLength=\"75\" x=\"20\" y=\"20.9951\">AliasImport</text></a><!--MD5=[e4f7fae6ed58524ba242bb0b0d3be6b7]\n",
       "cluster E2--><a href=\"psysml:2fd87941-b162-4111-8987-3fc5534acf16\" target=\"_top\" title=\"psysml:2fd87941-b162-4111-8987-3fc5534acf16\" xlink:actuate=\"onRequest\" xlink:href=\"psysml:2fd87941-b162-4111-8987-3fc5534acf16\" xlink:show=\"new\" xlink:title=\"psysml:2fd87941-b162-4111-8987-3fc5534acf16\" xlink:type=\"simple\"><polygon fill=\"#FFFFFF\" points=\"202,49,281,49,288,71.2969,300,71.2969,300,146,202,146,202,49\" style=\"stroke: #000000; stroke-width: 1.5;\"/><line style=\"stroke: #000000; stroke-width: 1.5;\" x1=\"202\" x2=\"288\" y1=\"71.2969\" y2=\"71.2969\"/><text fill=\"#000000\" font-family=\"sans-serif\" font-size=\"14\" font-weight=\"bold\" lengthAdjust=\"spacingAndGlyphs\" textLength=\"73\" x=\"206\" y=\"63.9951\">Definitions</text></a><!--MD5=[f6df4d0ebaf0b5dfb2ced0ae5af7c670]\n",
       "cluster E4--><a href=\"psysml:e3968260-a676-422f-8ca6-ec1afe8a305b\" target=\"_top\" title=\"psysml:e3968260-a676-422f-8ca6-ec1afe8a305b\" xlink:actuate=\"onRequest\" xlink:href=\"psysml:e3968260-a676-422f-8ca6-ec1afe8a305b\" xlink:show=\"new\" xlink:title=\"psysml:e3968260-a676-422f-8ca6-ec1afe8a305b\" xlink:type=\"simple\"><polygon fill=\"#FFFFFF\" points=\"40,49,98,49,105,71.2969,174,71.2969,174,146,40,146,40,49\" style=\"stroke: #000000; stroke-width: 1.5;\"/><line style=\"stroke: #000000; stroke-width: 1.5;\" x1=\"40\" x2=\"105\" y1=\"71.2969\" y2=\"71.2969\"/><text fill=\"#000000\" font-family=\"sans-serif\" font-size=\"14\" font-weight=\"bold\" lengthAdjust=\"spacingAndGlyphs\" textLength=\"52\" x=\"44\" y=\"63.9951\">Usages</text></a><!--MD5=[09b614a08d8cba4a07c9adeb5e0fee81]\n",
       "class E3--><a href=\"psysml:42326513-c813-4f17-9254-875ba93877ec\" target=\"_top\" title=\"psysml:42326513-c813-4f17-9254-875ba93877ec\" xlink:actuate=\"onRequest\" xlink:href=\"psysml:42326513-c813-4f17-9254-875ba93877ec\" xlink:show=\"new\" xlink:title=\"psysml:42326513-c813-4f17-9254-875ba93877ec\" xlink:type=\"simple\"><rect fill=\"#FFFFFF\" height=\"45.9375\" id=\"E3\" style=\"stroke: #383838; stroke-width: 1.5;\" width=\"66\" x=\"218\" y=\"84\"/><text fill=\"#000000\" font-family=\"sans-serif\" font-size=\"12\" font-style=\"italic\" lengthAdjust=\"spacingAndGlyphs\" textLength=\"64\" x=\"219\" y=\"100.1387\">«part def»</text><text fill=\"#000000\" font-family=\"sans-serif\" font-size=\"12\" lengthAdjust=\"spacingAndGlyphs\" textLength=\"45\" x=\"228.5\" y=\"114.1074\">Vehicle</text><line style=\"stroke: #383838; stroke-width: 1.5;\" x1=\"219\" x2=\"283\" y1=\"121.9375\" y2=\"121.9375\"/></a><!--MD5=[270fce915f116d4de14055a7c1d9a0f3]\n",
       "class E5--><a href=\"psysml:d491d5f9-6d8b-4b1d-a51c-b8388350c517\" target=\"_top\" title=\"psysml:d491d5f9-6d8b-4b1d-a51c-b8388350c517\" xlink:actuate=\"onRequest\" xlink:href=\"psysml:d491d5f9-6d8b-4b1d-a51c-b8388350c517\" xlink:show=\"new\" xlink:title=\"psysml:d491d5f9-6d8b-4b1d-a51c-b8388350c517\" xlink:type=\"simple\"><rect fill=\"#FFFFFF\" height=\"45.9375\" id=\"E5\" rx=\"10\" ry=\"10\" style=\"stroke: #383838; stroke-width: 1.5;\" width=\"102\" x=\"56\" y=\"84\"/><text fill=\"#000000\" font-family=\"sans-serif\" font-size=\"12\" font-style=\"italic\" lengthAdjust=\"spacingAndGlyphs\" textLength=\"40\" x=\"87\" y=\"100.1387\">«part»</text><text fill=\"#000000\" font-family=\"sans-serif\" font-size=\"12\" lengthAdjust=\"spacingAndGlyphs\" textLength=\"96\" x=\"59\" y=\"114.1074\">vehicle: Vehicle</text><line style=\"stroke: #383838; stroke-width: 1.5;\" x1=\"57\" x2=\"157\" y1=\"121.9375\" y2=\"121.9375\"/></a><!--MD5=[e9be52314489bd878ff4c7144b63c9e1]\n",
       "link E5 to E3--><a href=\"psysml:c9bd4828-45e6-4eb9-80eb-81bfe8e91163\" target=\"_top\" title=\"psysml:c9bd4828-45e6-4eb9-80eb-81bfe8e91163\" xlink:actuate=\"onRequest\" xlink:href=\"psysml:c9bd4828-45e6-4eb9-80eb-81bfe8e91163\" xlink:show=\"new\" xlink:title=\"psysml:c9bd4828-45e6-4eb9-80eb-81bfe8e91163\" xlink:type=\"simple\"><path d=\"M158.06,107 C170.75,107 184.42,107 197.23,107 \" fill=\"none\" id=\"E5-&gt;E3\" style=\"stroke: #383838; stroke-width: 1.0;\"/><polygon fill=\"#FFFFFF\" points=\"217.67,107,198.67,114,198.67,100,217.67,107\" style=\"stroke: #383838; stroke-width: 1.0;\"/><ellipse cx=\"192.97\" cy=\"112\" fill=\"#383838\" rx=\"2\" ry=\"2\" style=\"stroke: #383838; stroke-width: 1.0;\"/><ellipse cx=\"192.97\" cy=\"102\" fill=\"#383838\" rx=\"2\" ry=\"2\" style=\"stroke: #383838; stroke-width: 1.0;\"/></a><!--MD5=[96edb654ee60f073b2364e2e6489d2eb]\n",
       "@startuml\r\n",
       "left to right direction\r\n",
       "skinparam monochrome true\r\n",
       "skinparam classbackgroundcolor white\r\n",
       "skinparam shadowing false\r\n",
       "skinparam wrapWidth 300\r\n",
       "hide circle\r\n",
       "\r\n",
       "package \"AliasImport\" as E1  [[psysml:da265157-d0d4-4951-bf22-47d5659e31ef ]]  {\r\n",
       "package \"Definitions\" as E2  [[psysml:2fd87941-b162-4111-8987-3fc5534acf16 ]]  {\r\n",
       "comp def \"Vehicle\" as E3  <<(T,blue) part def>> [[psysml:42326513-c813-4f17-9254-875ba93877ec ]] {\r\n",
       "}\r\n",
       "}\r\n",
       "package \"Usages\" as E4  [[psysml:e3968260-a676-422f-8ca6-ec1afe8a305b ]]  {\r\n",
       "comp usage \"vehicle: Vehicle\" as E5  <<(T,blue) part>> [[psysml:d491d5f9-6d8b-4b1d-a51c-b8388350c517 ]] {\r\n",
       "}\r\n",
       "}\r\n",
       "}\r\n",
       "E5 - -:|> E3 [[psysml:c9bd4828-45e6-4eb9-80eb-81bfe8e91163 ]] \r\n",
       "@enduml\r\n",
       "\n",
       "PlantUML version 1.2020.13(Sat Jun 13 12:26:38 UTC 2020)\n",
       "(EPL source distribution)\n",
       "Java Runtime: OpenJDK Runtime Environment\n",
       "JVM: OpenJDK 64-Bit Server VM\n",
       "Default Encoding: UTF-8\n",
       "Language: en\n",
       "Country: null\n",
       "--></g></svg>"
      ]
     },
     "execution_count": 17,
     "metadata": {},
     "output_type": "execute_result"
    }
   ],
   "source": [
    "%viz --style=\"LR\" --view=\"Tree\" \"AliasImport\""
   ]
  },
  {
   "cell_type": "code",
   "execution_count": 18,
   "id": "510bb6e0",
   "metadata": {
    "execution": {
     "iopub.execute_input": "2021-10-03T08:30:57.005236Z",
     "iopub.status.busy": "2021-10-03T08:30:57.004674Z",
     "iopub.status.idle": "2021-10-03T08:30:57.010612Z",
     "shell.execute_reply": "2021-10-03T08:30:57.010933Z"
    }
   },
   "outputs": [
    {
     "data": {
      "image/svg+xml": [
       "<?xml version=\"1.0\" encoding=\"UTF-8\" standalone=\"no\"?><svg xmlns=\"http://www.w3.org/2000/svg\" xmlns:xlink=\"http://www.w3.org/1999/xlink\" contentScriptType=\"application/ecmascript\" contentStyleType=\"text/css\" height=\"12px\" preserveAspectRatio=\"none\" style=\"width:12px;height:12px;\" version=\"1.1\" viewBox=\"0 0 12 12\" width=\"12px\" zoomAndPan=\"magnify\"><defs/><g><!--MD5=[19d285c9d72a204eba4e2cd117d745e8]\n",
       "@startuml\r\n",
       "left to right direction\r\n",
       "skinparam monochrome true\r\n",
       "skinparam classbackgroundcolor white\r\n",
       "skinparam shadowing false\r\n",
       "skinparam wrapWidth 300\r\n",
       "hide circle\r\n",
       "\r\n",
       "@enduml\r\n",
       "\n",
       "PlantUML version 1.2020.13(Sat Jun 13 12:26:38 UTC 2020)\n",
       "(EPL source distribution)\n",
       "Java Runtime: OpenJDK Runtime Environment\n",
       "JVM: OpenJDK 64-Bit Server VM\n",
       "Default Encoding: UTF-8\n",
       "Language: en\n",
       "Country: null\n",
       "--></g></svg>"
      ]
     },
     "execution_count": 18,
     "metadata": {},
     "output_type": "execute_result"
    }
   ],
   "source": [
    "%viz --style=\"LR\" --view=\"State\" \"AliasImport\""
   ]
  },
  {
   "cell_type": "code",
   "execution_count": 19,
   "id": "13712270",
   "metadata": {
    "execution": {
     "iopub.execute_input": "2021-10-03T08:30:57.060434Z",
     "iopub.status.busy": "2021-10-03T08:30:57.059872Z",
     "iopub.status.idle": "2021-10-03T08:30:57.096078Z",
     "shell.execute_reply": "2021-10-03T08:30:57.095577Z"
    }
   },
   "outputs": [
    {
     "data": {
      "image/svg+xml": [
       "<?xml version=\"1.0\" encoding=\"UTF-8\" standalone=\"no\"?><svg xmlns=\"http://www.w3.org/2000/svg\" xmlns:xlink=\"http://www.w3.org/1999/xlink\" contentScriptType=\"application/ecmascript\" contentStyleType=\"text/css\" height=\"373px\" preserveAspectRatio=\"none\" style=\"width:225px;height:373px;\" version=\"1.1\" viewBox=\"0 0 225 373\" width=\"225px\" zoomAndPan=\"magnify\"><defs/><g><!--MD5=[fbc87193dbaf4d95561dea2c320d4a47]\n",
       "cluster E1--><a href=\"psysml:da265157-d0d4-4951-bf22-47d5659e31ef\" target=\"_top\" title=\"psysml:da265157-d0d4-4951-bf22-47d5659e31ef\" xlink:actuate=\"onRequest\" xlink:href=\"psysml:da265157-d0d4-4951-bf22-47d5659e31ef\" xlink:show=\"new\" xlink:title=\"psysml:da265157-d0d4-4951-bf22-47d5659e31ef\" xlink:type=\"simple\"><polygon fill=\"#FFFFFF\" points=\"16,6,97,6,104,28.2969,203,28.2969,203,361,16,361,16,6\" style=\"stroke: #000000; stroke-width: 1.5;\"/><line style=\"stroke: #000000; stroke-width: 1.5;\" x1=\"16\" x2=\"104\" y1=\"28.2969\" y2=\"28.2969\"/><text fill=\"#000000\" font-family=\"sans-serif\" font-size=\"14\" font-weight=\"bold\" lengthAdjust=\"spacingAndGlyphs\" textLength=\"75\" x=\"20\" y=\"20.9951\">AliasImport</text></a><!--MD5=[e4f7fae6ed58524ba242bb0b0d3be6b7]\n",
       "cluster E2--><a href=\"psysml:2fd87941-b162-4111-8987-3fc5534acf16\" target=\"_top\" title=\"psysml:2fd87941-b162-4111-8987-3fc5534acf16\" xlink:actuate=\"onRequest\" xlink:href=\"psysml:2fd87941-b162-4111-8987-3fc5534acf16\" xlink:show=\"new\" xlink:title=\"psysml:2fd87941-b162-4111-8987-3fc5534acf16\" xlink:type=\"simple\"><polygon fill=\"#FFFFFF\" points=\"58,49,137,49,144,71.2969,161,71.2969,161,222,58,222,58,49\" style=\"stroke: #000000; stroke-width: 1.5;\"/><line style=\"stroke: #000000; stroke-width: 1.5;\" x1=\"58\" x2=\"144\" y1=\"71.2969\" y2=\"71.2969\"/><text fill=\"#000000\" font-family=\"sans-serif\" font-size=\"14\" font-weight=\"bold\" lengthAdjust=\"spacingAndGlyphs\" textLength=\"73\" x=\"62\" y=\"63.9951\">Definitions</text></a><!--MD5=[de5ec2e2e8f62f467e546659f5068c88]\n",
       "cluster E5--><a href=\"psysml:e3968260-a676-422f-8ca6-ec1afe8a305b\" target=\"_top\" title=\"psysml:e3968260-a676-422f-8ca6-ec1afe8a305b\" xlink:actuate=\"onRequest\" xlink:href=\"psysml:e3968260-a676-422f-8ca6-ec1afe8a305b\" xlink:show=\"new\" xlink:title=\"psysml:e3968260-a676-422f-8ca6-ec1afe8a305b\" xlink:type=\"simple\"><polygon fill=\"#FFFFFF\" points=\"40,246,98,246,105,268.2969,179,268.2969,179,337,40,337,40,246\" style=\"stroke: #000000; stroke-width: 1.5;\"/><line style=\"stroke: #000000; stroke-width: 1.5;\" x1=\"40\" x2=\"105\" y1=\"268.2969\" y2=\"268.2969\"/><text fill=\"#000000\" font-family=\"sans-serif\" font-size=\"14\" font-weight=\"bold\" lengthAdjust=\"spacingAndGlyphs\" textLength=\"52\" x=\"44\" y=\"260.9951\">Usages</text></a><g id=\"E1.E2.E3\"><a href=\"psysml:42326513-c813-4f17-9254-875ba93877ec\" target=\"_top\" title=\"psysml:42326513-c813-4f17-9254-875ba93877ec\" xlink:actuate=\"onRequest\" xlink:href=\"psysml:42326513-c813-4f17-9254-875ba93877ec\" xlink:show=\"new\" xlink:title=\"psysml:42326513-c813-4f17-9254-875ba93877ec\" xlink:type=\"simple\"><rect fill=\"#FFFFFF\" height=\"42.9375\" id=\"E3\" style=\"stroke: #383838; stroke-width: 1.5;\" width=\"71\" x=\"74\" y=\"84.5\"/><rect fill=\"#F8F8F8\" height=\"37.9375\" style=\"stroke: #383838; stroke-width: 1.5;\" width=\"71\" x=\"74\" y=\"84.5\"/><text fill=\"#000000\" font-family=\"sans-serif\" font-size=\"12\" font-style=\"italic\" lengthAdjust=\"spacingAndGlyphs\" textLength=\"64\" x=\"77.5\" y=\"100.6387\">«part def»</text><text fill=\"#000000\" font-family=\"sans-serif\" font-size=\"12\" lengthAdjust=\"spacingAndGlyphs\" textLength=\"45\" x=\"87\" y=\"114.6074\">Vehicle</text></a></g><g id=\"E1.E2.E4\"><a href=\"psysml:42326513-c813-4f17-9254-875ba93877ec\" target=\"_top\" title=\"psysml:42326513-c813-4f17-9254-875ba93877ec\" xlink:actuate=\"onRequest\" xlink:href=\"psysml:42326513-c813-4f17-9254-875ba93877ec\" xlink:show=\"new\" xlink:title=\"psysml:42326513-c813-4f17-9254-875ba93877ec\" xlink:type=\"simple\"><rect fill=\"#FFFFFF\" height=\"42.9375\" id=\"E4\" style=\"stroke: #383838; stroke-width: 1.5;\" width=\"71\" x=\"74\" y=\"162.5\"/><rect fill=\"#F8F8F8\" height=\"37.9375\" style=\"stroke: #383838; stroke-width: 1.5;\" width=\"71\" x=\"74\" y=\"162.5\"/><text fill=\"#000000\" font-family=\"sans-serif\" font-size=\"12\" font-style=\"italic\" lengthAdjust=\"spacingAndGlyphs\" textLength=\"64\" x=\"77.5\" y=\"178.6387\">«part def»</text><text fill=\"#000000\" font-family=\"sans-serif\" font-size=\"12\" lengthAdjust=\"spacingAndGlyphs\" textLength=\"45\" x=\"87\" y=\"192.6074\">Vehicle</text></a></g><g id=\"E1.E5.E6\"><a href=\"psysml:d491d5f9-6d8b-4b1d-a51c-b8388350c517\" target=\"_top\" title=\"psysml:d491d5f9-6d8b-4b1d-a51c-b8388350c517\" xlink:actuate=\"onRequest\" xlink:href=\"psysml:d491d5f9-6d8b-4b1d-a51c-b8388350c517\" xlink:show=\"new\" xlink:title=\"psysml:d491d5f9-6d8b-4b1d-a51c-b8388350c517\" xlink:type=\"simple\"><rect fill=\"#FFFFFF\" height=\"40\" id=\"E6\" rx=\"10\" ry=\"10\" style=\"stroke: #383838; stroke-width: 1.5;\" width=\"107\" x=\"56\" y=\"281\"/><rect fill=\"#F8F8F8\" height=\"23.9688\" rx=\"10\" ry=\"10\" style=\"stroke: #F8F8F8; stroke-width: 1.5;\" width=\"107\" x=\"56\" y=\"281\"/><rect fill=\"#F8F8F8\" height=\"10\" style=\"stroke: #F8F8F8; stroke-width: 1.5;\" width=\"107\" x=\"56\" y=\"294.9688\"/><rect fill=\"none\" height=\"40\" id=\"E6\" rx=\"10\" ry=\"10\" style=\"stroke: #383838; stroke-width: 1.5;\" width=\"107\" x=\"56\" y=\"281\"/><text fill=\"#000000\" font-family=\"sans-serif\" font-size=\"12\" lengthAdjust=\"spacingAndGlyphs\" textLength=\"96\" x=\"61.5\" y=\"297.1387\">vehicle: Vehicle</text></a></g><!--MD5=[4ea6ec59a47252994d6cd26ee7d5ab18]\n",
       "@startuml\r\n",
       "skinparam ranksep 10\r\n",
       "skinparam rectangle {\r\n",
       " backgroundColor<<block>> LightGreen\r\n",
       "}\r\n",
       "left to right direction\r\n",
       "skinparam monochrome true\r\n",
       "skinparam classbackgroundcolor white\r\n",
       "skinparam shadowing false\r\n",
       "skinparam wrapWidth 300\r\n",
       "hide circle\r\n",
       "\r\n",
       "package \"AliasImport\" as E1  [[psysml:da265157-d0d4-4951-bf22-47d5659e31ef ]]  {\r\n",
       "package \"Definitions\" as E2  [[psysml:2fd87941-b162-4111-8987-3fc5534acf16 ]]  {\r\n",
       "rec def \"Vehicle\" as E3  <<(T,blue) part def>> [[psysml:42326513-c813-4f17-9254-875ba93877ec ]] {\r\n",
       "}\r\n",
       "rec def \"Vehicle\" as E4  <<(T,blue) part def>> [[psysml:42326513-c813-4f17-9254-875ba93877ec ]] {\r\n",
       "}\r\n",
       "}\r\n",
       "package \"Usages\" as E5  [[psysml:e3968260-a676-422f-8ca6-ec1afe8a305b ]]  {\r\n",
       "rec usage \"vehicle: Vehicle\" as E6  [[psysml:d491d5f9-6d8b-4b1d-a51c-b8388350c517 ]] {\r\n",
       "}\r\n",
       "}\r\n",
       "}\r\n",
       "@enduml\r\n",
       "\n",
       "PlantUML version 1.2020.13(Sat Jun 13 12:26:38 UTC 2020)\n",
       "(EPL source distribution)\n",
       "Java Runtime: OpenJDK Runtime Environment\n",
       "JVM: OpenJDK 64-Bit Server VM\n",
       "Default Encoding: UTF-8\n",
       "Language: en\n",
       "Country: null\n",
       "--></g></svg>"
      ]
     },
     "execution_count": 19,
     "metadata": {},
     "output_type": "execute_result"
    }
   ],
   "source": [
    "%viz --style=\"LR\" --view=\"Interconnection\" \"AliasImport\""
   ]
  },
  {
   "cell_type": "code",
   "execution_count": 20,
   "id": "ef4e6ef1",
   "metadata": {
    "execution": {
     "iopub.execute_input": "2021-10-03T08:30:57.144703Z",
     "iopub.status.busy": "2021-10-03T08:30:57.144294Z",
     "iopub.status.idle": "2021-10-03T08:30:57.150190Z",
     "shell.execute_reply": "2021-10-03T08:30:57.150506Z"
    }
   },
   "outputs": [
    {
     "data": {
      "image/svg+xml": [
       "<?xml version=\"1.0\" encoding=\"UTF-8\" standalone=\"no\"?><svg xmlns=\"http://www.w3.org/2000/svg\" xmlns:xlink=\"http://www.w3.org/1999/xlink\" contentScriptType=\"application/ecmascript\" contentStyleType=\"text/css\" height=\"12px\" preserveAspectRatio=\"none\" style=\"width:12px;height:12px;\" version=\"1.1\" viewBox=\"0 0 12 12\" width=\"12px\" zoomAndPan=\"magnify\"><defs/><g><!--MD5=[7aeb398939421629f6affaa4a1a7b125]\n",
       "@startuml\r\n",
       "skinparam ranksep 8\r\n",
       "left to right direction\r\n",
       "skinparam monochrome true\r\n",
       "skinparam classbackgroundcolor white\r\n",
       "skinparam shadowing false\r\n",
       "skinparam wrapWidth 300\r\n",
       "hide circle\r\n",
       "\r\n",
       "@enduml\r\n",
       "\n",
       "PlantUML version 1.2020.13(Sat Jun 13 12:26:38 UTC 2020)\n",
       "(EPL source distribution)\n",
       "Java Runtime: OpenJDK Runtime Environment\n",
       "JVM: OpenJDK 64-Bit Server VM\n",
       "Default Encoding: UTF-8\n",
       "Language: en\n",
       "Country: null\n",
       "--></g></svg>"
      ]
     },
     "execution_count": 20,
     "metadata": {},
     "output_type": "execute_result"
    }
   ],
   "source": [
    "%viz --style=\"LR\" --view=\"Action\" \"AliasImport\""
   ]
  },
  {
   "cell_type": "code",
   "execution_count": 21,
   "id": "f8c49059",
   "metadata": {
    "execution": {
     "iopub.execute_input": "2021-10-03T08:30:57.200361Z",
     "iopub.status.busy": "2021-10-03T08:30:57.199885Z",
     "iopub.status.idle": "2021-10-03T08:30:57.206221Z",
     "shell.execute_reply": "2021-10-03T08:30:57.206537Z"
    }
   },
   "outputs": [
    {
     "data": {
      "image/svg+xml": [
       "<?xml version=\"1.0\" encoding=\"UTF-8\" standalone=\"no\"?><svg xmlns=\"http://www.w3.org/2000/svg\" xmlns:xlink=\"http://www.w3.org/1999/xlink\" contentScriptType=\"application/ecmascript\" contentStyleType=\"text/css\" height=\"12px\" preserveAspectRatio=\"none\" style=\"width:12px;height:12px;\" version=\"1.1\" viewBox=\"0 0 12 12\" width=\"12px\" zoomAndPan=\"magnify\"><defs/><g><!--MD5=[238c11ea2002f03115ad6b49a457d50e]\n",
       "@startuml\r\n",
       "skinparam roundcorner 20\r\n",
       "skinparam BoxPadding 20\r\n",
       "skinparam SequenceBoxBackgroundColor #white\r\n",
       "skinparam style strictuml\r\n",
       "skinparam maxMessageSize 100\r\n",
       "left to right direction\r\n",
       "skinparam monochrome true\r\n",
       "skinparam classbackgroundcolor white\r\n",
       "skinparam shadowing false\r\n",
       "skinparam wrapWidth 300\r\n",
       "hide circle\r\n",
       "\r\n",
       "@enduml\r\n",
       "\n",
       "PlantUML version 1.2020.13(Sat Jun 13 12:26:38 UTC 2020)\n",
       "(EPL source distribution)\n",
       "Java Runtime: OpenJDK Runtime Environment\n",
       "JVM: OpenJDK 64-Bit Server VM\n",
       "Default Encoding: UTF-8\n",
       "Language: en\n",
       "Country: null\n",
       "--></g></svg>"
      ]
     },
     "execution_count": 21,
     "metadata": {},
     "output_type": "execute_result"
    }
   ],
   "source": [
    "%viz --style=\"LR\" --view=\"Sequence\" \"AliasImport\""
   ]
  },
  {
   "cell_type": "code",
   "execution_count": 22,
   "id": "79807842",
   "metadata": {
    "execution": {
     "iopub.execute_input": "2021-10-03T08:30:57.256606Z",
     "iopub.status.busy": "2021-10-03T08:30:57.256053Z",
     "iopub.status.idle": "2021-10-03T08:30:57.289218Z",
     "shell.execute_reply": "2021-10-03T08:30:57.288859Z"
    }
   },
   "outputs": [
    {
     "data": {
      "image/svg+xml": [
       "<?xml version=\"1.0\" encoding=\"UTF-8\" standalone=\"no\"?><svg xmlns=\"http://www.w3.org/2000/svg\" xmlns:xlink=\"http://www.w3.org/1999/xlink\" contentScriptType=\"application/ecmascript\" contentStyleType=\"text/css\" height=\"182px\" preserveAspectRatio=\"none\" style=\"width:346px;height:182px;\" version=\"1.1\" viewBox=\"0 0 346 182\" width=\"346px\" zoomAndPan=\"magnify\"><defs/><g><!--MD5=[fbc87193dbaf4d95561dea2c320d4a47]\n",
       "cluster E1--><a href=\"psysml:da265157-d0d4-4951-bf22-47d5659e31ef\" target=\"_top\" title=\"psysml:da265157-d0d4-4951-bf22-47d5659e31ef\" xlink:actuate=\"onRequest\" xlink:href=\"psysml:da265157-d0d4-4951-bf22-47d5659e31ef\" xlink:show=\"new\" xlink:title=\"psysml:da265157-d0d4-4951-bf22-47d5659e31ef\" xlink:type=\"simple\"><polygon fill=\"#FFFFFF\" points=\"16,6,97,6,104,28.2969,324,28.2969,324,170,16,170,16,6\" style=\"stroke: #000000; stroke-width: 1.5;\"/><line style=\"stroke: #000000; stroke-width: 1.5;\" x1=\"16\" x2=\"104\" y1=\"28.2969\" y2=\"28.2969\"/><text fill=\"#000000\" font-family=\"sans-serif\" font-size=\"14\" font-weight=\"bold\" lengthAdjust=\"spacingAndGlyphs\" textLength=\"75\" x=\"20\" y=\"20.9951\">AliasImport</text></a><!--MD5=[e4f7fae6ed58524ba242bb0b0d3be6b7]\n",
       "cluster E2--><a href=\"psysml:2fd87941-b162-4111-8987-3fc5534acf16\" target=\"_top\" title=\"psysml:2fd87941-b162-4111-8987-3fc5534acf16\" xlink:actuate=\"onRequest\" xlink:href=\"psysml:2fd87941-b162-4111-8987-3fc5534acf16\" xlink:show=\"new\" xlink:title=\"psysml:2fd87941-b162-4111-8987-3fc5534acf16\" xlink:type=\"simple\"><polygon fill=\"#FFFFFF\" points=\"202,49,281,49,288,71.2969,300,71.2969,300,146,202,146,202,49\" style=\"stroke: #000000; stroke-width: 1.5;\"/><line style=\"stroke: #000000; stroke-width: 1.5;\" x1=\"202\" x2=\"288\" y1=\"71.2969\" y2=\"71.2969\"/><text fill=\"#000000\" font-family=\"sans-serif\" font-size=\"14\" font-weight=\"bold\" lengthAdjust=\"spacingAndGlyphs\" textLength=\"73\" x=\"206\" y=\"63.9951\">Definitions</text></a><!--MD5=[f6df4d0ebaf0b5dfb2ced0ae5af7c670]\n",
       "cluster E4--><a href=\"psysml:e3968260-a676-422f-8ca6-ec1afe8a305b\" target=\"_top\" title=\"psysml:e3968260-a676-422f-8ca6-ec1afe8a305b\" xlink:actuate=\"onRequest\" xlink:href=\"psysml:e3968260-a676-422f-8ca6-ec1afe8a305b\" xlink:show=\"new\" xlink:title=\"psysml:e3968260-a676-422f-8ca6-ec1afe8a305b\" xlink:type=\"simple\"><polygon fill=\"#FFFFFF\" points=\"40,49,98,49,105,71.2969,174,71.2969,174,146,40,146,40,49\" style=\"stroke: #000000; stroke-width: 1.5;\"/><line style=\"stroke: #000000; stroke-width: 1.5;\" x1=\"40\" x2=\"105\" y1=\"71.2969\" y2=\"71.2969\"/><text fill=\"#000000\" font-family=\"sans-serif\" font-size=\"14\" font-weight=\"bold\" lengthAdjust=\"spacingAndGlyphs\" textLength=\"52\" x=\"44\" y=\"63.9951\">Usages</text></a><!--MD5=[09b614a08d8cba4a07c9adeb5e0fee81]\n",
       "class E3--><a href=\"psysml:42326513-c813-4f17-9254-875ba93877ec\" target=\"_top\" title=\"psysml:42326513-c813-4f17-9254-875ba93877ec\" xlink:actuate=\"onRequest\" xlink:href=\"psysml:42326513-c813-4f17-9254-875ba93877ec\" xlink:show=\"new\" xlink:title=\"psysml:42326513-c813-4f17-9254-875ba93877ec\" xlink:type=\"simple\"><rect fill=\"#FFFFFF\" height=\"45.9375\" id=\"E3\" style=\"stroke: #383838; stroke-width: 1.5;\" width=\"66\" x=\"218\" y=\"84\"/><text fill=\"#000000\" font-family=\"sans-serif\" font-size=\"12\" font-style=\"italic\" lengthAdjust=\"spacingAndGlyphs\" textLength=\"64\" x=\"219\" y=\"100.1387\">«part def»</text><text fill=\"#000000\" font-family=\"sans-serif\" font-size=\"12\" lengthAdjust=\"spacingAndGlyphs\" textLength=\"45\" x=\"228.5\" y=\"114.1074\">Vehicle</text><line style=\"stroke: #383838; stroke-width: 1.5;\" x1=\"219\" x2=\"283\" y1=\"121.9375\" y2=\"121.9375\"/></a><!--MD5=[270fce915f116d4de14055a7c1d9a0f3]\n",
       "class E5--><a href=\"psysml:d491d5f9-6d8b-4b1d-a51c-b8388350c517\" target=\"_top\" title=\"psysml:d491d5f9-6d8b-4b1d-a51c-b8388350c517\" xlink:actuate=\"onRequest\" xlink:href=\"psysml:d491d5f9-6d8b-4b1d-a51c-b8388350c517\" xlink:show=\"new\" xlink:title=\"psysml:d491d5f9-6d8b-4b1d-a51c-b8388350c517\" xlink:type=\"simple\"><rect fill=\"#FFFFFF\" height=\"45.9375\" id=\"E5\" rx=\"10\" ry=\"10\" style=\"stroke: #383838; stroke-width: 1.5;\" width=\"102\" x=\"56\" y=\"84\"/><text fill=\"#000000\" font-family=\"sans-serif\" font-size=\"12\" font-style=\"italic\" lengthAdjust=\"spacingAndGlyphs\" textLength=\"40\" x=\"87\" y=\"100.1387\">«part»</text><text fill=\"#000000\" font-family=\"sans-serif\" font-size=\"12\" lengthAdjust=\"spacingAndGlyphs\" textLength=\"96\" x=\"59\" y=\"114.1074\">vehicle: Vehicle</text><line style=\"stroke: #383838; stroke-width: 1.5;\" x1=\"57\" x2=\"157\" y1=\"121.9375\" y2=\"121.9375\"/></a><!--MD5=[e9be52314489bd878ff4c7144b63c9e1]\n",
       "link E5 to E3--><a href=\"psysml:c9bd4828-45e6-4eb9-80eb-81bfe8e91163\" target=\"_top\" title=\"psysml:c9bd4828-45e6-4eb9-80eb-81bfe8e91163\" xlink:actuate=\"onRequest\" xlink:href=\"psysml:c9bd4828-45e6-4eb9-80eb-81bfe8e91163\" xlink:show=\"new\" xlink:title=\"psysml:c9bd4828-45e6-4eb9-80eb-81bfe8e91163\" xlink:type=\"simple\"><path d=\"M158.06,107 C170.75,107 184.42,107 197.23,107 \" fill=\"none\" id=\"E5-&gt;E3\" style=\"stroke: #383838; stroke-width: 1.0;\"/><polygon fill=\"#FFFFFF\" points=\"217.67,107,198.67,114,198.67,100,217.67,107\" style=\"stroke: #383838; stroke-width: 1.0;\"/><ellipse cx=\"192.97\" cy=\"112\" fill=\"#383838\" rx=\"2\" ry=\"2\" style=\"stroke: #383838; stroke-width: 1.0;\"/><ellipse cx=\"192.97\" cy=\"102\" fill=\"#383838\" rx=\"2\" ry=\"2\" style=\"stroke: #383838; stroke-width: 1.0;\"/></a><!--MD5=[96edb654ee60f073b2364e2e6489d2eb]\n",
       "@startuml\r\n",
       "left to right direction\r\n",
       "skinparam monochrome true\r\n",
       "skinparam classbackgroundcolor white\r\n",
       "skinparam shadowing false\r\n",
       "skinparam wrapWidth 300\r\n",
       "hide circle\r\n",
       "\r\n",
       "package \"AliasImport\" as E1  [[psysml:da265157-d0d4-4951-bf22-47d5659e31ef ]]  {\r\n",
       "package \"Definitions\" as E2  [[psysml:2fd87941-b162-4111-8987-3fc5534acf16 ]]  {\r\n",
       "comp def \"Vehicle\" as E3  <<(T,blue) part def>> [[psysml:42326513-c813-4f17-9254-875ba93877ec ]] {\r\n",
       "}\r\n",
       "}\r\n",
       "package \"Usages\" as E4  [[psysml:e3968260-a676-422f-8ca6-ec1afe8a305b ]]  {\r\n",
       "comp usage \"vehicle: Vehicle\" as E5  <<(T,blue) part>> [[psysml:d491d5f9-6d8b-4b1d-a51c-b8388350c517 ]] {\r\n",
       "}\r\n",
       "}\r\n",
       "}\r\n",
       "E5 - -:|> E3 [[psysml:c9bd4828-45e6-4eb9-80eb-81bfe8e91163 ]] \r\n",
       "@enduml\r\n",
       "\n",
       "PlantUML version 1.2020.13(Sat Jun 13 12:26:38 UTC 2020)\n",
       "(EPL source distribution)\n",
       "Java Runtime: OpenJDK Runtime Environment\n",
       "JVM: OpenJDK 64-Bit Server VM\n",
       "Default Encoding: UTF-8\n",
       "Language: en\n",
       "Country: null\n",
       "--></g></svg>"
      ]
     },
     "execution_count": 22,
     "metadata": {},
     "output_type": "execute_result"
    }
   ],
   "source": [
    "%viz --style=\"LR\" --view=\"MIXED\" \"AliasImport\""
   ]
  },
  {
   "cell_type": "code",
   "execution_count": 23,
   "id": "fc75e5b8",
   "metadata": {
    "execution": {
     "iopub.execute_input": "2021-10-03T08:30:57.338464Z",
     "iopub.status.busy": "2021-10-03T08:30:57.338022Z",
     "iopub.status.idle": "2021-10-03T08:30:57.368995Z",
     "shell.execute_reply": "2021-10-03T08:30:57.368633Z"
    }
   },
   "outputs": [
    {
     "data": {
      "image/svg+xml": [
       "<?xml version=\"1.0\" encoding=\"UTF-8\" standalone=\"no\"?><svg xmlns=\"http://www.w3.org/2000/svg\" xmlns:xlink=\"http://www.w3.org/1999/xlink\" contentScriptType=\"application/ecmascript\" contentStyleType=\"text/css\" height=\"303px\" preserveAspectRatio=\"none\" style=\"width:220px;height:303px;\" version=\"1.1\" viewBox=\"0 0 220 303\" width=\"220px\" zoomAndPan=\"magnify\"><defs><filter height=\"300%\" id=\"ff89nkxkanmd9\" width=\"300%\" x=\"-1\" y=\"-1\"><feGaussianBlur result=\"blurOut\" stdDeviation=\"2.0\"/><feColorMatrix in=\"blurOut\" result=\"blurOut2\" type=\"matrix\" values=\"0 0 0 0 0 0 0 0 0 0 0 0 0 0 0 0 0 0 .4 0\"/><feOffset dx=\"4.0\" dy=\"4.0\" in=\"blurOut2\" result=\"blurOut3\"/><feBlend in=\"SourceGraphic\" in2=\"blurOut3\" mode=\"normal\"/></filter></defs><g><!--MD5=[fbc87193dbaf4d95561dea2c320d4a47]\n",
       "cluster E1--><a href=\"psysml:da265157-d0d4-4951-bf22-47d5659e31ef\" target=\"_top\" title=\"psysml:da265157-d0d4-4951-bf22-47d5659e31ef\" xlink:actuate=\"onRequest\" xlink:href=\"psysml:da265157-d0d4-4951-bf22-47d5659e31ef\" xlink:show=\"new\" xlink:title=\"psysml:da265157-d0d4-4951-bf22-47d5659e31ef\" xlink:type=\"simple\"><polygon fill=\"#FFFFFF\" filter=\"url(#ff89nkxkanmd9)\" points=\"16,6,97,6,104,28.2969,198,28.2969,198,291,16,291,16,6\" style=\"stroke: #000000; stroke-width: 1.5;\"/><line style=\"stroke: #000000; stroke-width: 1.5;\" x1=\"16\" x2=\"104\" y1=\"28.2969\" y2=\"28.2969\"/><text fill=\"#000000\" font-family=\"sans-serif\" font-size=\"14\" font-weight=\"bold\" lengthAdjust=\"spacingAndGlyphs\" textLength=\"75\" x=\"20\" y=\"20.9951\">AliasImport</text></a><!--MD5=[e4f7fae6ed58524ba242bb0b0d3be6b7]\n",
       "cluster E2--><a href=\"psysml:2fd87941-b162-4111-8987-3fc5534acf16\" target=\"_top\" title=\"psysml:2fd87941-b162-4111-8987-3fc5534acf16\" xlink:actuate=\"onRequest\" xlink:href=\"psysml:2fd87941-b162-4111-8987-3fc5534acf16\" xlink:show=\"new\" xlink:title=\"psysml:2fd87941-b162-4111-8987-3fc5534acf16\" xlink:type=\"simple\"><polygon fill=\"#FFFFFF\" filter=\"url(#ff89nkxkanmd9)\" points=\"58,170,137,170,144,192.2969,156,192.2969,156,267,58,267,58,170\" style=\"stroke: #000000; stroke-width: 1.5;\"/><line style=\"stroke: #000000; stroke-width: 1.5;\" x1=\"58\" x2=\"144\" y1=\"192.2969\" y2=\"192.2969\"/><text fill=\"#000000\" font-family=\"sans-serif\" font-size=\"14\" font-weight=\"bold\" lengthAdjust=\"spacingAndGlyphs\" textLength=\"73\" x=\"62\" y=\"184.9951\">Definitions</text></a><!--MD5=[f6df4d0ebaf0b5dfb2ced0ae5af7c670]\n",
       "cluster E4--><a href=\"psysml:e3968260-a676-422f-8ca6-ec1afe8a305b\" target=\"_top\" title=\"psysml:e3968260-a676-422f-8ca6-ec1afe8a305b\" xlink:actuate=\"onRequest\" xlink:href=\"psysml:e3968260-a676-422f-8ca6-ec1afe8a305b\" xlink:show=\"new\" xlink:title=\"psysml:e3968260-a676-422f-8ca6-ec1afe8a305b\" xlink:type=\"simple\"><polygon fill=\"#FFFFFF\" filter=\"url(#ff89nkxkanmd9)\" points=\"40,49,98,49,105,71.2969,174,71.2969,174,146,40,146,40,49\" style=\"stroke: #000000; stroke-width: 1.5;\"/><line style=\"stroke: #000000; stroke-width: 1.5;\" x1=\"40\" x2=\"105\" y1=\"71.2969\" y2=\"71.2969\"/><text fill=\"#000000\" font-family=\"sans-serif\" font-size=\"14\" font-weight=\"bold\" lengthAdjust=\"spacingAndGlyphs\" textLength=\"52\" x=\"44\" y=\"63.9951\">Usages</text></a><!--MD5=[09b614a08d8cba4a07c9adeb5e0fee81]\n",
       "class E3--><a href=\"psysml:42326513-c813-4f17-9254-875ba93877ec\" target=\"_top\" title=\"psysml:42326513-c813-4f17-9254-875ba93877ec\" xlink:actuate=\"onRequest\" xlink:href=\"psysml:42326513-c813-4f17-9254-875ba93877ec\" xlink:show=\"new\" xlink:title=\"psysml:42326513-c813-4f17-9254-875ba93877ec\" xlink:type=\"simple\"><rect fill=\"#FEFECE\" filter=\"url(#ff89nkxkanmd9)\" height=\"45.9375\" id=\"E3\" style=\"stroke: #A80036; stroke-width: 1.5;\" width=\"66\" x=\"74\" y=\"205\"/><text fill=\"#000000\" font-family=\"sans-serif\" font-size=\"12\" font-style=\"italic\" lengthAdjust=\"spacingAndGlyphs\" textLength=\"64\" x=\"75\" y=\"221.1387\">«part def»</text><text fill=\"#000000\" font-family=\"sans-serif\" font-size=\"12\" lengthAdjust=\"spacingAndGlyphs\" textLength=\"45\" x=\"84.5\" y=\"235.1074\">Vehicle</text><line style=\"stroke: #A80036; stroke-width: 1.5;\" x1=\"75\" x2=\"139\" y1=\"242.9375\" y2=\"242.9375\"/></a><!--MD5=[270fce915f116d4de14055a7c1d9a0f3]\n",
       "class E5--><a href=\"psysml:d491d5f9-6d8b-4b1d-a51c-b8388350c517\" target=\"_top\" title=\"psysml:d491d5f9-6d8b-4b1d-a51c-b8388350c517\" xlink:actuate=\"onRequest\" xlink:href=\"psysml:d491d5f9-6d8b-4b1d-a51c-b8388350c517\" xlink:show=\"new\" xlink:title=\"psysml:d491d5f9-6d8b-4b1d-a51c-b8388350c517\" xlink:type=\"simple\"><rect fill=\"#FEFECE\" filter=\"url(#ff89nkxkanmd9)\" height=\"45.9375\" id=\"E5\" rx=\"10\" ry=\"10\" style=\"stroke: #A80036; stroke-width: 1.5;\" width=\"102\" x=\"56\" y=\"84\"/><text fill=\"#000000\" font-family=\"sans-serif\" font-size=\"12\" font-style=\"italic\" lengthAdjust=\"spacingAndGlyphs\" textLength=\"40\" x=\"87\" y=\"100.1387\">«part»</text><text fill=\"#000000\" font-family=\"sans-serif\" font-size=\"12\" lengthAdjust=\"spacingAndGlyphs\" textLength=\"96\" x=\"59\" y=\"114.1074\">vehicle: Vehicle</text><line style=\"stroke: #A80036; stroke-width: 1.5;\" x1=\"57\" x2=\"157\" y1=\"121.9375\" y2=\"121.9375\"/></a><!--MD5=[e9be52314489bd878ff4c7144b63c9e1]\n",
       "link E5 to E3--><a href=\"psysml:c9bd4828-45e6-4eb9-80eb-81bfe8e91163\" target=\"_top\" title=\"psysml:c9bd4828-45e6-4eb9-80eb-81bfe8e91163\" xlink:actuate=\"onRequest\" xlink:href=\"psysml:c9bd4828-45e6-4eb9-80eb-81bfe8e91163\" xlink:show=\"new\" xlink:title=\"psysml:c9bd4828-45e6-4eb9-80eb-81bfe8e91163\" xlink:type=\"simple\"><path d=\"M107,130.1 C107,145.37 107,166.16 107,184.57 \" fill=\"none\" id=\"E5-&gt;E3\" style=\"stroke: #A80036; stroke-width: 1.0;\"/><polygon fill=\"#FFFFFF\" points=\"107,204.61,100,185.61,114,185.61,107,204.61\" style=\"stroke: #A80036; stroke-width: 1.0;\"/><ellipse cx=\"102\" cy=\"179.91\" fill=\"#A80036\" rx=\"2\" ry=\"2\" style=\"stroke: #A80036; stroke-width: 1.0;\"/><ellipse cx=\"112\" cy=\"179.91\" fill=\"#A80036\" rx=\"2\" ry=\"2\" style=\"stroke: #A80036; stroke-width: 1.0;\"/></a><!--MD5=[a6a7b8d11b238b81b4a9eb3d82d92977]\n",
       "@startuml\r\n",
       "skinparam wrapWidth 300\r\n",
       "hide circle\r\n",
       "\r\n",
       "package \"AliasImport\" as E1  [[psysml:da265157-d0d4-4951-bf22-47d5659e31ef ]]  {\r\n",
       "package \"Definitions\" as E2  [[psysml:2fd87941-b162-4111-8987-3fc5534acf16 ]]  {\r\n",
       "comp def \"Vehicle\" as E3  <<(T,blue) part def>> [[psysml:42326513-c813-4f17-9254-875ba93877ec ]] {\r\n",
       "}\r\n",
       "}\r\n",
       "package \"Usages\" as E4  [[psysml:e3968260-a676-422f-8ca6-ec1afe8a305b ]]  {\r\n",
       "comp usage \"vehicle: Vehicle\" as E5  <<(T,blue) part>> [[psysml:d491d5f9-6d8b-4b1d-a51c-b8388350c517 ]] {\r\n",
       "}\r\n",
       "}\r\n",
       "}\r\n",
       "E5 - -:|> E3 [[psysml:c9bd4828-45e6-4eb9-80eb-81bfe8e91163 ]] \r\n",
       "@enduml\r\n",
       "\n",
       "PlantUML version 1.2020.13(Sat Jun 13 12:26:38 UTC 2020)\n",
       "(EPL source distribution)\n",
       "Java Runtime: OpenJDK Runtime Environment\n",
       "JVM: OpenJDK 64-Bit Server VM\n",
       "Default Encoding: UTF-8\n",
       "Language: en\n",
       "Country: null\n",
       "--></g></svg>"
      ]
     },
     "execution_count": 23,
     "metadata": {},
     "output_type": "execute_result"
    }
   ],
   "source": [
    "%viz --style=\"STDCOLOR\" --view=\"Default\" \"AliasImport\""
   ]
  },
  {
   "cell_type": "code",
   "execution_count": 24,
   "id": "ebd258ef",
   "metadata": {
    "execution": {
     "iopub.execute_input": "2021-10-03T08:30:57.418405Z",
     "iopub.status.busy": "2021-10-03T08:30:57.417965Z",
     "iopub.status.idle": "2021-10-03T08:30:57.448220Z",
     "shell.execute_reply": "2021-10-03T08:30:57.447852Z"
    }
   },
   "outputs": [
    {
     "data": {
      "image/svg+xml": [
       "<?xml version=\"1.0\" encoding=\"UTF-8\" standalone=\"no\"?><svg xmlns=\"http://www.w3.org/2000/svg\" xmlns:xlink=\"http://www.w3.org/1999/xlink\" contentScriptType=\"application/ecmascript\" contentStyleType=\"text/css\" height=\"303px\" preserveAspectRatio=\"none\" style=\"width:220px;height:303px;\" version=\"1.1\" viewBox=\"0 0 220 303\" width=\"220px\" zoomAndPan=\"magnify\"><defs><filter height=\"300%\" id=\"ff89nkxkanmd9\" width=\"300%\" x=\"-1\" y=\"-1\"><feGaussianBlur result=\"blurOut\" stdDeviation=\"2.0\"/><feColorMatrix in=\"blurOut\" result=\"blurOut2\" type=\"matrix\" values=\"0 0 0 0 0 0 0 0 0 0 0 0 0 0 0 0 0 0 .4 0\"/><feOffset dx=\"4.0\" dy=\"4.0\" in=\"blurOut2\" result=\"blurOut3\"/><feBlend in=\"SourceGraphic\" in2=\"blurOut3\" mode=\"normal\"/></filter></defs><g><!--MD5=[fbc87193dbaf4d95561dea2c320d4a47]\n",
       "cluster E1--><a href=\"psysml:da265157-d0d4-4951-bf22-47d5659e31ef\" target=\"_top\" title=\"psysml:da265157-d0d4-4951-bf22-47d5659e31ef\" xlink:actuate=\"onRequest\" xlink:href=\"psysml:da265157-d0d4-4951-bf22-47d5659e31ef\" xlink:show=\"new\" xlink:title=\"psysml:da265157-d0d4-4951-bf22-47d5659e31ef\" xlink:type=\"simple\"><polygon fill=\"#FFFFFF\" filter=\"url(#ff89nkxkanmd9)\" points=\"16,6,97,6,104,28.2969,198,28.2969,198,291,16,291,16,6\" style=\"stroke: #000000; stroke-width: 1.5;\"/><line style=\"stroke: #000000; stroke-width: 1.5;\" x1=\"16\" x2=\"104\" y1=\"28.2969\" y2=\"28.2969\"/><text fill=\"#000000\" font-family=\"sans-serif\" font-size=\"14\" font-weight=\"bold\" lengthAdjust=\"spacingAndGlyphs\" textLength=\"75\" x=\"20\" y=\"20.9951\">AliasImport</text></a><!--MD5=[e4f7fae6ed58524ba242bb0b0d3be6b7]\n",
       "cluster E2--><a href=\"psysml:2fd87941-b162-4111-8987-3fc5534acf16\" target=\"_top\" title=\"psysml:2fd87941-b162-4111-8987-3fc5534acf16\" xlink:actuate=\"onRequest\" xlink:href=\"psysml:2fd87941-b162-4111-8987-3fc5534acf16\" xlink:show=\"new\" xlink:title=\"psysml:2fd87941-b162-4111-8987-3fc5534acf16\" xlink:type=\"simple\"><polygon fill=\"#FFFFFF\" filter=\"url(#ff89nkxkanmd9)\" points=\"58,170,137,170,144,192.2969,156,192.2969,156,267,58,267,58,170\" style=\"stroke: #000000; stroke-width: 1.5;\"/><line style=\"stroke: #000000; stroke-width: 1.5;\" x1=\"58\" x2=\"144\" y1=\"192.2969\" y2=\"192.2969\"/><text fill=\"#000000\" font-family=\"sans-serif\" font-size=\"14\" font-weight=\"bold\" lengthAdjust=\"spacingAndGlyphs\" textLength=\"73\" x=\"62\" y=\"184.9951\">Definitions</text></a><!--MD5=[f6df4d0ebaf0b5dfb2ced0ae5af7c670]\n",
       "cluster E4--><a href=\"psysml:e3968260-a676-422f-8ca6-ec1afe8a305b\" target=\"_top\" title=\"psysml:e3968260-a676-422f-8ca6-ec1afe8a305b\" xlink:actuate=\"onRequest\" xlink:href=\"psysml:e3968260-a676-422f-8ca6-ec1afe8a305b\" xlink:show=\"new\" xlink:title=\"psysml:e3968260-a676-422f-8ca6-ec1afe8a305b\" xlink:type=\"simple\"><polygon fill=\"#FFFFFF\" filter=\"url(#ff89nkxkanmd9)\" points=\"40,49,98,49,105,71.2969,174,71.2969,174,146,40,146,40,49\" style=\"stroke: #000000; stroke-width: 1.5;\"/><line style=\"stroke: #000000; stroke-width: 1.5;\" x1=\"40\" x2=\"105\" y1=\"71.2969\" y2=\"71.2969\"/><text fill=\"#000000\" font-family=\"sans-serif\" font-size=\"14\" font-weight=\"bold\" lengthAdjust=\"spacingAndGlyphs\" textLength=\"52\" x=\"44\" y=\"63.9951\">Usages</text></a><!--MD5=[09b614a08d8cba4a07c9adeb5e0fee81]\n",
       "class E3--><a href=\"psysml:42326513-c813-4f17-9254-875ba93877ec\" target=\"_top\" title=\"psysml:42326513-c813-4f17-9254-875ba93877ec\" xlink:actuate=\"onRequest\" xlink:href=\"psysml:42326513-c813-4f17-9254-875ba93877ec\" xlink:show=\"new\" xlink:title=\"psysml:42326513-c813-4f17-9254-875ba93877ec\" xlink:type=\"simple\"><rect fill=\"#FEFECE\" filter=\"url(#ff89nkxkanmd9)\" height=\"45.9375\" id=\"E3\" style=\"stroke: #A80036; stroke-width: 1.5;\" width=\"66\" x=\"74\" y=\"205\"/><text fill=\"#000000\" font-family=\"sans-serif\" font-size=\"12\" font-style=\"italic\" lengthAdjust=\"spacingAndGlyphs\" textLength=\"64\" x=\"75\" y=\"221.1387\">«part def»</text><text fill=\"#000000\" font-family=\"sans-serif\" font-size=\"12\" lengthAdjust=\"spacingAndGlyphs\" textLength=\"45\" x=\"84.5\" y=\"235.1074\">Vehicle</text><line style=\"stroke: #A80036; stroke-width: 1.5;\" x1=\"75\" x2=\"139\" y1=\"242.9375\" y2=\"242.9375\"/></a><!--MD5=[270fce915f116d4de14055a7c1d9a0f3]\n",
       "class E5--><a href=\"psysml:d491d5f9-6d8b-4b1d-a51c-b8388350c517\" target=\"_top\" title=\"psysml:d491d5f9-6d8b-4b1d-a51c-b8388350c517\" xlink:actuate=\"onRequest\" xlink:href=\"psysml:d491d5f9-6d8b-4b1d-a51c-b8388350c517\" xlink:show=\"new\" xlink:title=\"psysml:d491d5f9-6d8b-4b1d-a51c-b8388350c517\" xlink:type=\"simple\"><rect fill=\"#FEFECE\" filter=\"url(#ff89nkxkanmd9)\" height=\"45.9375\" id=\"E5\" rx=\"10\" ry=\"10\" style=\"stroke: #A80036; stroke-width: 1.5;\" width=\"102\" x=\"56\" y=\"84\"/><text fill=\"#000000\" font-family=\"sans-serif\" font-size=\"12\" font-style=\"italic\" lengthAdjust=\"spacingAndGlyphs\" textLength=\"40\" x=\"87\" y=\"100.1387\">«part»</text><text fill=\"#000000\" font-family=\"sans-serif\" font-size=\"12\" lengthAdjust=\"spacingAndGlyphs\" textLength=\"96\" x=\"59\" y=\"114.1074\">vehicle: Vehicle</text><line style=\"stroke: #A80036; stroke-width: 1.5;\" x1=\"57\" x2=\"157\" y1=\"121.9375\" y2=\"121.9375\"/></a><!--MD5=[e9be52314489bd878ff4c7144b63c9e1]\n",
       "link E5 to E3--><a href=\"psysml:c9bd4828-45e6-4eb9-80eb-81bfe8e91163\" target=\"_top\" title=\"psysml:c9bd4828-45e6-4eb9-80eb-81bfe8e91163\" xlink:actuate=\"onRequest\" xlink:href=\"psysml:c9bd4828-45e6-4eb9-80eb-81bfe8e91163\" xlink:show=\"new\" xlink:title=\"psysml:c9bd4828-45e6-4eb9-80eb-81bfe8e91163\" xlink:type=\"simple\"><path d=\"M107,130.1 C107,145.37 107,166.16 107,184.57 \" fill=\"none\" id=\"E5-&gt;E3\" style=\"stroke: #A80036; stroke-width: 1.0;\"/><polygon fill=\"#FFFFFF\" points=\"107,204.61,100,185.61,114,185.61,107,204.61\" style=\"stroke: #A80036; stroke-width: 1.0;\"/><ellipse cx=\"102\" cy=\"179.91\" fill=\"#A80036\" rx=\"2\" ry=\"2\" style=\"stroke: #A80036; stroke-width: 1.0;\"/><ellipse cx=\"112\" cy=\"179.91\" fill=\"#A80036\" rx=\"2\" ry=\"2\" style=\"stroke: #A80036; stroke-width: 1.0;\"/></a><!--MD5=[a6a7b8d11b238b81b4a9eb3d82d92977]\n",
       "@startuml\r\n",
       "skinparam wrapWidth 300\r\n",
       "hide circle\r\n",
       "\r\n",
       "package \"AliasImport\" as E1  [[psysml:da265157-d0d4-4951-bf22-47d5659e31ef ]]  {\r\n",
       "package \"Definitions\" as E2  [[psysml:2fd87941-b162-4111-8987-3fc5534acf16 ]]  {\r\n",
       "comp def \"Vehicle\" as E3  <<(T,blue) part def>> [[psysml:42326513-c813-4f17-9254-875ba93877ec ]] {\r\n",
       "}\r\n",
       "}\r\n",
       "package \"Usages\" as E4  [[psysml:e3968260-a676-422f-8ca6-ec1afe8a305b ]]  {\r\n",
       "comp usage \"vehicle: Vehicle\" as E5  <<(T,blue) part>> [[psysml:d491d5f9-6d8b-4b1d-a51c-b8388350c517 ]] {\r\n",
       "}\r\n",
       "}\r\n",
       "}\r\n",
       "E5 - -:|> E3 [[psysml:c9bd4828-45e6-4eb9-80eb-81bfe8e91163 ]] \r\n",
       "@enduml\r\n",
       "\n",
       "PlantUML version 1.2020.13(Sat Jun 13 12:26:38 UTC 2020)\n",
       "(EPL source distribution)\n",
       "Java Runtime: OpenJDK Runtime Environment\n",
       "JVM: OpenJDK 64-Bit Server VM\n",
       "Default Encoding: UTF-8\n",
       "Language: en\n",
       "Country: null\n",
       "--></g></svg>"
      ]
     },
     "execution_count": 24,
     "metadata": {},
     "output_type": "execute_result"
    }
   ],
   "source": [
    "%viz --style=\"STDCOLOR\" --view=\"Tree\" \"AliasImport\""
   ]
  },
  {
   "cell_type": "code",
   "execution_count": 25,
   "id": "f8cde8a7",
   "metadata": {
    "execution": {
     "iopub.execute_input": "2021-10-03T08:30:57.497568Z",
     "iopub.status.busy": "2021-10-03T08:30:57.497152Z",
     "iopub.status.idle": "2021-10-03T08:30:57.502333Z",
     "shell.execute_reply": "2021-10-03T08:30:57.502629Z"
    }
   },
   "outputs": [
    {
     "data": {
      "image/svg+xml": [
       "<?xml version=\"1.0\" encoding=\"UTF-8\" standalone=\"no\"?><svg xmlns=\"http://www.w3.org/2000/svg\" xmlns:xlink=\"http://www.w3.org/1999/xlink\" contentScriptType=\"application/ecmascript\" contentStyleType=\"text/css\" height=\"12px\" preserveAspectRatio=\"none\" style=\"width:12px;height:12px;\" version=\"1.1\" viewBox=\"0 0 12 12\" width=\"12px\" zoomAndPan=\"magnify\"><defs/><g><!--MD5=[aeeef50f102b80d730deb6443d14f702]\n",
       "@startuml\r\n",
       "skinparam wrapWidth 300\r\n",
       "hide circle\r\n",
       "\r\n",
       "@enduml\r\n",
       "\n",
       "PlantUML version 1.2020.13(Sat Jun 13 12:26:38 UTC 2020)\n",
       "(EPL source distribution)\n",
       "Java Runtime: OpenJDK Runtime Environment\n",
       "JVM: OpenJDK 64-Bit Server VM\n",
       "Default Encoding: UTF-8\n",
       "Language: en\n",
       "Country: null\n",
       "--></g></svg>"
      ]
     },
     "execution_count": 25,
     "metadata": {},
     "output_type": "execute_result"
    }
   ],
   "source": [
    "%viz --style=\"STDCOLOR\" --view=\"State\" \"AliasImport\""
   ]
  },
  {
   "cell_type": "code",
   "execution_count": 26,
   "id": "33e6dce6",
   "metadata": {
    "execution": {
     "iopub.execute_input": "2021-10-03T08:30:57.552284Z",
     "iopub.status.busy": "2021-10-03T08:30:57.551871Z",
     "iopub.status.idle": "2021-10-03T08:30:57.582030Z",
     "shell.execute_reply": "2021-10-03T08:30:57.581669Z"
    }
   },
   "outputs": [
    {
     "data": {
      "image/svg+xml": [
       "<?xml version=\"1.0\" encoding=\"UTF-8\" standalone=\"no\"?><svg xmlns=\"http://www.w3.org/2000/svg\" xmlns:xlink=\"http://www.w3.org/1999/xlink\" contentScriptType=\"application/ecmascript\" contentStyleType=\"text/css\" height=\"179px\" preserveAspectRatio=\"none\" style=\"width:458px;height:179px;\" version=\"1.1\" viewBox=\"0 0 458 179\" width=\"458px\" zoomAndPan=\"magnify\"><defs><filter height=\"300%\" id=\"fwumku33bukag\" width=\"300%\" x=\"-1\" y=\"-1\"><feGaussianBlur result=\"blurOut\" stdDeviation=\"2.0\"/><feColorMatrix in=\"blurOut\" result=\"blurOut2\" type=\"matrix\" values=\"0 0 0 0 0 0 0 0 0 0 0 0 0 0 0 0 0 0 .4 0\"/><feOffset dx=\"4.0\" dy=\"4.0\" in=\"blurOut2\" result=\"blurOut3\"/><feBlend in=\"SourceGraphic\" in2=\"blurOut3\" mode=\"normal\"/></filter></defs><g><!--MD5=[fbc87193dbaf4d95561dea2c320d4a47]\n",
       "cluster E1--><a href=\"psysml:da265157-d0d4-4951-bf22-47d5659e31ef\" target=\"_top\" title=\"psysml:da265157-d0d4-4951-bf22-47d5659e31ef\" xlink:actuate=\"onRequest\" xlink:href=\"psysml:da265157-d0d4-4951-bf22-47d5659e31ef\" xlink:show=\"new\" xlink:title=\"psysml:da265157-d0d4-4951-bf22-47d5659e31ef\" xlink:type=\"simple\"><polygon fill=\"#FFFFFF\" filter=\"url(#fwumku33bukag)\" points=\"16,6,97,6,104,28.2969,436,28.2969,436,167,16,167,16,6\" style=\"stroke: #000000; stroke-width: 1.5;\"/><line style=\"stroke: #000000; stroke-width: 1.5;\" x1=\"16\" x2=\"104\" y1=\"28.2969\" y2=\"28.2969\"/><text fill=\"#000000\" font-family=\"sans-serif\" font-size=\"14\" font-weight=\"bold\" lengthAdjust=\"spacingAndGlyphs\" textLength=\"75\" x=\"20\" y=\"20.9951\">AliasImport</text></a><!--MD5=[e4f7fae6ed58524ba242bb0b0d3be6b7]\n",
       "cluster E2--><a href=\"psysml:2fd87941-b162-4111-8987-3fc5534acf16\" target=\"_top\" title=\"psysml:2fd87941-b162-4111-8987-3fc5534acf16\" xlink:actuate=\"onRequest\" xlink:href=\"psysml:2fd87941-b162-4111-8987-3fc5534acf16\" xlink:show=\"new\" xlink:title=\"psysml:2fd87941-b162-4111-8987-3fc5534acf16\" xlink:type=\"simple\"><polygon fill=\"#FFFFFF\" filter=\"url(#fwumku33bukag)\" points=\"202,49,281,49,288,71.2969,412,71.2969,412,143,202,143,202,49\" style=\"stroke: #000000; stroke-width: 1.5;\"/><line style=\"stroke: #000000; stroke-width: 1.5;\" x1=\"202\" x2=\"288\" y1=\"71.2969\" y2=\"71.2969\"/><text fill=\"#000000\" font-family=\"sans-serif\" font-size=\"14\" font-weight=\"bold\" lengthAdjust=\"spacingAndGlyphs\" textLength=\"73\" x=\"206\" y=\"63.9951\">Definitions</text></a><!--MD5=[de5ec2e2e8f62f467e546659f5068c88]\n",
       "cluster E5--><a href=\"psysml:e3968260-a676-422f-8ca6-ec1afe8a305b\" target=\"_top\" title=\"psysml:e3968260-a676-422f-8ca6-ec1afe8a305b\" xlink:actuate=\"onRequest\" xlink:href=\"psysml:e3968260-a676-422f-8ca6-ec1afe8a305b\" xlink:show=\"new\" xlink:title=\"psysml:e3968260-a676-422f-8ca6-ec1afe8a305b\" xlink:type=\"simple\"><polygon fill=\"#FFFFFF\" filter=\"url(#fwumku33bukag)\" points=\"40,50.5,98,50.5,105,72.7969,178,72.7969,178,141.5,40,141.5,40,50.5\" style=\"stroke: #000000; stroke-width: 1.5;\"/><line style=\"stroke: #000000; stroke-width: 1.5;\" x1=\"40\" x2=\"105\" y1=\"72.7969\" y2=\"72.7969\"/><text fill=\"#000000\" font-family=\"sans-serif\" font-size=\"14\" font-weight=\"bold\" lengthAdjust=\"spacingAndGlyphs\" textLength=\"52\" x=\"44\" y=\"65.4951\">Usages</text></a><g id=\"E1.E2.E3\"><a href=\"psysml:42326513-c813-4f17-9254-875ba93877ec\" target=\"_top\" title=\"psysml:42326513-c813-4f17-9254-875ba93877ec\" xlink:actuate=\"onRequest\" xlink:href=\"psysml:42326513-c813-4f17-9254-875ba93877ec\" xlink:show=\"new\" xlink:title=\"psysml:42326513-c813-4f17-9254-875ba93877ec\" xlink:type=\"simple\"><rect fill=\"#FEFECE\" filter=\"url(#fwumku33bukag)\" height=\"42.9375\" id=\"E3\" style=\"stroke: #A80036; stroke-width: 1.5;\" width=\"71\" x=\"324.5\" y=\"84\"/><text fill=\"#000000\" font-family=\"sans-serif\" font-size=\"12\" font-style=\"italic\" lengthAdjust=\"spacingAndGlyphs\" textLength=\"64\" x=\"328\" y=\"100.1387\">«part def»</text><text fill=\"#000000\" font-family=\"sans-serif\" font-size=\"12\" lengthAdjust=\"spacingAndGlyphs\" textLength=\"45\" x=\"337.5\" y=\"114.1074\">Vehicle</text></a></g><g id=\"E1.E2.E4\"><a href=\"psysml:42326513-c813-4f17-9254-875ba93877ec\" target=\"_top\" title=\"psysml:42326513-c813-4f17-9254-875ba93877ec\" xlink:actuate=\"onRequest\" xlink:href=\"psysml:42326513-c813-4f17-9254-875ba93877ec\" xlink:show=\"new\" xlink:title=\"psysml:42326513-c813-4f17-9254-875ba93877ec\" xlink:type=\"simple\"><rect fill=\"#FEFECE\" filter=\"url(#fwumku33bukag)\" height=\"42.9375\" id=\"E4\" style=\"stroke: #A80036; stroke-width: 1.5;\" width=\"71\" x=\"218.5\" y=\"84\"/><text fill=\"#000000\" font-family=\"sans-serif\" font-size=\"12\" font-style=\"italic\" lengthAdjust=\"spacingAndGlyphs\" textLength=\"64\" x=\"222\" y=\"100.1387\">«part def»</text><text fill=\"#000000\" font-family=\"sans-serif\" font-size=\"12\" lengthAdjust=\"spacingAndGlyphs\" textLength=\"45\" x=\"231.5\" y=\"114.1074\">Vehicle</text></a></g><g id=\"E1.E5.E6\"><a href=\"psysml:d491d5f9-6d8b-4b1d-a51c-b8388350c517\" target=\"_top\" title=\"psysml:d491d5f9-6d8b-4b1d-a51c-b8388350c517\" xlink:actuate=\"onRequest\" xlink:href=\"psysml:d491d5f9-6d8b-4b1d-a51c-b8388350c517\" xlink:show=\"new\" xlink:title=\"psysml:d491d5f9-6d8b-4b1d-a51c-b8388350c517\" xlink:type=\"simple\"><rect fill=\"#FEFECE\" filter=\"url(#fwumku33bukag)\" height=\"40\" id=\"E6\" rx=\"10\" ry=\"10\" style=\"stroke: #A80036; stroke-width: 1.5;\" width=\"107\" x=\"55.5\" y=\"85.5\"/><text fill=\"#000000\" font-family=\"sans-serif\" font-size=\"12\" lengthAdjust=\"spacingAndGlyphs\" textLength=\"96\" x=\"61\" y=\"101.6387\">vehicle: Vehicle</text></a></g><!--MD5=[7dc54a3b82bd798b28cf4ba42ac16ac0]\n",
       "@startuml\r\n",
       "skinparam ranksep 10\r\n",
       "skinparam rectangle {\r\n",
       " backgroundColor<<block>> LightGreen\r\n",
       "}\r\n",
       "skinparam wrapWidth 300\r\n",
       "hide circle\r\n",
       "\r\n",
       "package \"AliasImport\" as E1  [[psysml:da265157-d0d4-4951-bf22-47d5659e31ef ]]  {\r\n",
       "package \"Definitions\" as E2  [[psysml:2fd87941-b162-4111-8987-3fc5534acf16 ]]  {\r\n",
       "rec def \"Vehicle\" as E3  <<(T,blue) part def>> [[psysml:42326513-c813-4f17-9254-875ba93877ec ]] {\r\n",
       "}\r\n",
       "rec def \"Vehicle\" as E4  <<(T,blue) part def>> [[psysml:42326513-c813-4f17-9254-875ba93877ec ]] {\r\n",
       "}\r\n",
       "}\r\n",
       "package \"Usages\" as E5  [[psysml:e3968260-a676-422f-8ca6-ec1afe8a305b ]]  {\r\n",
       "rec usage \"vehicle: Vehicle\" as E6  [[psysml:d491d5f9-6d8b-4b1d-a51c-b8388350c517 ]] {\r\n",
       "}\r\n",
       "}\r\n",
       "}\r\n",
       "@enduml\r\n",
       "\n",
       "PlantUML version 1.2020.13(Sat Jun 13 12:26:38 UTC 2020)\n",
       "(EPL source distribution)\n",
       "Java Runtime: OpenJDK Runtime Environment\n",
       "JVM: OpenJDK 64-Bit Server VM\n",
       "Default Encoding: UTF-8\n",
       "Language: en\n",
       "Country: null\n",
       "--></g></svg>"
      ]
     },
     "execution_count": 26,
     "metadata": {},
     "output_type": "execute_result"
    }
   ],
   "source": [
    "%viz --style=\"STDCOLOR\" --view=\"Interconnection\" \"AliasImport\""
   ]
  },
  {
   "cell_type": "code",
   "execution_count": 27,
   "id": "327202b4",
   "metadata": {
    "execution": {
     "iopub.execute_input": "2021-10-03T08:30:57.631426Z",
     "iopub.status.busy": "2021-10-03T08:30:57.631020Z",
     "iopub.status.idle": "2021-10-03T08:30:57.636340Z",
     "shell.execute_reply": "2021-10-03T08:30:57.636634Z"
    }
   },
   "outputs": [
    {
     "data": {
      "image/svg+xml": [
       "<?xml version=\"1.0\" encoding=\"UTF-8\" standalone=\"no\"?><svg xmlns=\"http://www.w3.org/2000/svg\" xmlns:xlink=\"http://www.w3.org/1999/xlink\" contentScriptType=\"application/ecmascript\" contentStyleType=\"text/css\" height=\"12px\" preserveAspectRatio=\"none\" style=\"width:12px;height:12px;\" version=\"1.1\" viewBox=\"0 0 12 12\" width=\"12px\" zoomAndPan=\"magnify\"><defs/><g><!--MD5=[9863325348a96a77dacc89509d8ee65e]\n",
       "@startuml\r\n",
       "skinparam ranksep 8\r\n",
       "skinparam wrapWidth 300\r\n",
       "hide circle\r\n",
       "\r\n",
       "@enduml\r\n",
       "\n",
       "PlantUML version 1.2020.13(Sat Jun 13 12:26:38 UTC 2020)\n",
       "(EPL source distribution)\n",
       "Java Runtime: OpenJDK Runtime Environment\n",
       "JVM: OpenJDK 64-Bit Server VM\n",
       "Default Encoding: UTF-8\n",
       "Language: en\n",
       "Country: null\n",
       "--></g></svg>"
      ]
     },
     "execution_count": 27,
     "metadata": {},
     "output_type": "execute_result"
    }
   ],
   "source": [
    "%viz --style=\"STDCOLOR\" --view=\"Action\" \"AliasImport\""
   ]
  },
  {
   "cell_type": "code",
   "execution_count": 28,
   "id": "8ff0838f",
   "metadata": {
    "execution": {
     "iopub.execute_input": "2021-10-03T08:30:57.686231Z",
     "iopub.status.busy": "2021-10-03T08:30:57.685826Z",
     "iopub.status.idle": "2021-10-03T08:30:57.691358Z",
     "shell.execute_reply": "2021-10-03T08:30:57.691024Z"
    }
   },
   "outputs": [
    {
     "data": {
      "image/svg+xml": [
       "<?xml version=\"1.0\" encoding=\"UTF-8\" standalone=\"no\"?><svg xmlns=\"http://www.w3.org/2000/svg\" xmlns:xlink=\"http://www.w3.org/1999/xlink\" contentScriptType=\"application/ecmascript\" contentStyleType=\"text/css\" height=\"12px\" preserveAspectRatio=\"none\" style=\"width:12px;height:12px;\" version=\"1.1\" viewBox=\"0 0 12 12\" width=\"12px\" zoomAndPan=\"magnify\"><defs/><g><!--MD5=[6c4bca67b4d71758159a5a7f1f1e1fc2]\n",
       "@startuml\r\n",
       "skinparam roundcorner 20\r\n",
       "skinparam BoxPadding 20\r\n",
       "skinparam SequenceBoxBackgroundColor #white\r\n",
       "skinparam style strictuml\r\n",
       "skinparam maxMessageSize 100\r\n",
       "skinparam wrapWidth 300\r\n",
       "hide circle\r\n",
       "\r\n",
       "@enduml\r\n",
       "\n",
       "PlantUML version 1.2020.13(Sat Jun 13 12:26:38 UTC 2020)\n",
       "(EPL source distribution)\n",
       "Java Runtime: OpenJDK Runtime Environment\n",
       "JVM: OpenJDK 64-Bit Server VM\n",
       "Default Encoding: UTF-8\n",
       "Language: en\n",
       "Country: null\n",
       "--></g></svg>"
      ]
     },
     "execution_count": 28,
     "metadata": {},
     "output_type": "execute_result"
    }
   ],
   "source": [
    "%viz --style=\"STDCOLOR\" --view=\"Sequence\" \"AliasImport\""
   ]
  },
  {
   "cell_type": "code",
   "execution_count": 29,
   "id": "e50103f4",
   "metadata": {
    "execution": {
     "iopub.execute_input": "2021-10-03T08:30:57.740856Z",
     "iopub.status.busy": "2021-10-03T08:30:57.740459Z",
     "iopub.status.idle": "2021-10-03T08:30:57.769797Z",
     "shell.execute_reply": "2021-10-03T08:30:57.769443Z"
    }
   },
   "outputs": [
    {
     "data": {
      "image/svg+xml": [
       "<?xml version=\"1.0\" encoding=\"UTF-8\" standalone=\"no\"?><svg xmlns=\"http://www.w3.org/2000/svg\" xmlns:xlink=\"http://www.w3.org/1999/xlink\" contentScriptType=\"application/ecmascript\" contentStyleType=\"text/css\" height=\"303px\" preserveAspectRatio=\"none\" style=\"width:220px;height:303px;\" version=\"1.1\" viewBox=\"0 0 220 303\" width=\"220px\" zoomAndPan=\"magnify\"><defs><filter height=\"300%\" id=\"ff89nkxkanmd9\" width=\"300%\" x=\"-1\" y=\"-1\"><feGaussianBlur result=\"blurOut\" stdDeviation=\"2.0\"/><feColorMatrix in=\"blurOut\" result=\"blurOut2\" type=\"matrix\" values=\"0 0 0 0 0 0 0 0 0 0 0 0 0 0 0 0 0 0 .4 0\"/><feOffset dx=\"4.0\" dy=\"4.0\" in=\"blurOut2\" result=\"blurOut3\"/><feBlend in=\"SourceGraphic\" in2=\"blurOut3\" mode=\"normal\"/></filter></defs><g><!--MD5=[fbc87193dbaf4d95561dea2c320d4a47]\n",
       "cluster E1--><a href=\"psysml:da265157-d0d4-4951-bf22-47d5659e31ef\" target=\"_top\" title=\"psysml:da265157-d0d4-4951-bf22-47d5659e31ef\" xlink:actuate=\"onRequest\" xlink:href=\"psysml:da265157-d0d4-4951-bf22-47d5659e31ef\" xlink:show=\"new\" xlink:title=\"psysml:da265157-d0d4-4951-bf22-47d5659e31ef\" xlink:type=\"simple\"><polygon fill=\"#FFFFFF\" filter=\"url(#ff89nkxkanmd9)\" points=\"16,6,97,6,104,28.2969,198,28.2969,198,291,16,291,16,6\" style=\"stroke: #000000; stroke-width: 1.5;\"/><line style=\"stroke: #000000; stroke-width: 1.5;\" x1=\"16\" x2=\"104\" y1=\"28.2969\" y2=\"28.2969\"/><text fill=\"#000000\" font-family=\"sans-serif\" font-size=\"14\" font-weight=\"bold\" lengthAdjust=\"spacingAndGlyphs\" textLength=\"75\" x=\"20\" y=\"20.9951\">AliasImport</text></a><!--MD5=[e4f7fae6ed58524ba242bb0b0d3be6b7]\n",
       "cluster E2--><a href=\"psysml:2fd87941-b162-4111-8987-3fc5534acf16\" target=\"_top\" title=\"psysml:2fd87941-b162-4111-8987-3fc5534acf16\" xlink:actuate=\"onRequest\" xlink:href=\"psysml:2fd87941-b162-4111-8987-3fc5534acf16\" xlink:show=\"new\" xlink:title=\"psysml:2fd87941-b162-4111-8987-3fc5534acf16\" xlink:type=\"simple\"><polygon fill=\"#FFFFFF\" filter=\"url(#ff89nkxkanmd9)\" points=\"58,170,137,170,144,192.2969,156,192.2969,156,267,58,267,58,170\" style=\"stroke: #000000; stroke-width: 1.5;\"/><line style=\"stroke: #000000; stroke-width: 1.5;\" x1=\"58\" x2=\"144\" y1=\"192.2969\" y2=\"192.2969\"/><text fill=\"#000000\" font-family=\"sans-serif\" font-size=\"14\" font-weight=\"bold\" lengthAdjust=\"spacingAndGlyphs\" textLength=\"73\" x=\"62\" y=\"184.9951\">Definitions</text></a><!--MD5=[f6df4d0ebaf0b5dfb2ced0ae5af7c670]\n",
       "cluster E4--><a href=\"psysml:e3968260-a676-422f-8ca6-ec1afe8a305b\" target=\"_top\" title=\"psysml:e3968260-a676-422f-8ca6-ec1afe8a305b\" xlink:actuate=\"onRequest\" xlink:href=\"psysml:e3968260-a676-422f-8ca6-ec1afe8a305b\" xlink:show=\"new\" xlink:title=\"psysml:e3968260-a676-422f-8ca6-ec1afe8a305b\" xlink:type=\"simple\"><polygon fill=\"#FFFFFF\" filter=\"url(#ff89nkxkanmd9)\" points=\"40,49,98,49,105,71.2969,174,71.2969,174,146,40,146,40,49\" style=\"stroke: #000000; stroke-width: 1.5;\"/><line style=\"stroke: #000000; stroke-width: 1.5;\" x1=\"40\" x2=\"105\" y1=\"71.2969\" y2=\"71.2969\"/><text fill=\"#000000\" font-family=\"sans-serif\" font-size=\"14\" font-weight=\"bold\" lengthAdjust=\"spacingAndGlyphs\" textLength=\"52\" x=\"44\" y=\"63.9951\">Usages</text></a><!--MD5=[09b614a08d8cba4a07c9adeb5e0fee81]\n",
       "class E3--><a href=\"psysml:42326513-c813-4f17-9254-875ba93877ec\" target=\"_top\" title=\"psysml:42326513-c813-4f17-9254-875ba93877ec\" xlink:actuate=\"onRequest\" xlink:href=\"psysml:42326513-c813-4f17-9254-875ba93877ec\" xlink:show=\"new\" xlink:title=\"psysml:42326513-c813-4f17-9254-875ba93877ec\" xlink:type=\"simple\"><rect fill=\"#FEFECE\" filter=\"url(#ff89nkxkanmd9)\" height=\"45.9375\" id=\"E3\" style=\"stroke: #A80036; stroke-width: 1.5;\" width=\"66\" x=\"74\" y=\"205\"/><text fill=\"#000000\" font-family=\"sans-serif\" font-size=\"12\" font-style=\"italic\" lengthAdjust=\"spacingAndGlyphs\" textLength=\"64\" x=\"75\" y=\"221.1387\">«part def»</text><text fill=\"#000000\" font-family=\"sans-serif\" font-size=\"12\" lengthAdjust=\"spacingAndGlyphs\" textLength=\"45\" x=\"84.5\" y=\"235.1074\">Vehicle</text><line style=\"stroke: #A80036; stroke-width: 1.5;\" x1=\"75\" x2=\"139\" y1=\"242.9375\" y2=\"242.9375\"/></a><!--MD5=[270fce915f116d4de14055a7c1d9a0f3]\n",
       "class E5--><a href=\"psysml:d491d5f9-6d8b-4b1d-a51c-b8388350c517\" target=\"_top\" title=\"psysml:d491d5f9-6d8b-4b1d-a51c-b8388350c517\" xlink:actuate=\"onRequest\" xlink:href=\"psysml:d491d5f9-6d8b-4b1d-a51c-b8388350c517\" xlink:show=\"new\" xlink:title=\"psysml:d491d5f9-6d8b-4b1d-a51c-b8388350c517\" xlink:type=\"simple\"><rect fill=\"#FEFECE\" filter=\"url(#ff89nkxkanmd9)\" height=\"45.9375\" id=\"E5\" rx=\"10\" ry=\"10\" style=\"stroke: #A80036; stroke-width: 1.5;\" width=\"102\" x=\"56\" y=\"84\"/><text fill=\"#000000\" font-family=\"sans-serif\" font-size=\"12\" font-style=\"italic\" lengthAdjust=\"spacingAndGlyphs\" textLength=\"40\" x=\"87\" y=\"100.1387\">«part»</text><text fill=\"#000000\" font-family=\"sans-serif\" font-size=\"12\" lengthAdjust=\"spacingAndGlyphs\" textLength=\"96\" x=\"59\" y=\"114.1074\">vehicle: Vehicle</text><line style=\"stroke: #A80036; stroke-width: 1.5;\" x1=\"57\" x2=\"157\" y1=\"121.9375\" y2=\"121.9375\"/></a><!--MD5=[e9be52314489bd878ff4c7144b63c9e1]\n",
       "link E5 to E3--><a href=\"psysml:c9bd4828-45e6-4eb9-80eb-81bfe8e91163\" target=\"_top\" title=\"psysml:c9bd4828-45e6-4eb9-80eb-81bfe8e91163\" xlink:actuate=\"onRequest\" xlink:href=\"psysml:c9bd4828-45e6-4eb9-80eb-81bfe8e91163\" xlink:show=\"new\" xlink:title=\"psysml:c9bd4828-45e6-4eb9-80eb-81bfe8e91163\" xlink:type=\"simple\"><path d=\"M107,130.1 C107,145.37 107,166.16 107,184.57 \" fill=\"none\" id=\"E5-&gt;E3\" style=\"stroke: #A80036; stroke-width: 1.0;\"/><polygon fill=\"#FFFFFF\" points=\"107,204.61,100,185.61,114,185.61,107,204.61\" style=\"stroke: #A80036; stroke-width: 1.0;\"/><ellipse cx=\"102\" cy=\"179.91\" fill=\"#A80036\" rx=\"2\" ry=\"2\" style=\"stroke: #A80036; stroke-width: 1.0;\"/><ellipse cx=\"112\" cy=\"179.91\" fill=\"#A80036\" rx=\"2\" ry=\"2\" style=\"stroke: #A80036; stroke-width: 1.0;\"/></a><!--MD5=[a6a7b8d11b238b81b4a9eb3d82d92977]\n",
       "@startuml\r\n",
       "skinparam wrapWidth 300\r\n",
       "hide circle\r\n",
       "\r\n",
       "package \"AliasImport\" as E1  [[psysml:da265157-d0d4-4951-bf22-47d5659e31ef ]]  {\r\n",
       "package \"Definitions\" as E2  [[psysml:2fd87941-b162-4111-8987-3fc5534acf16 ]]  {\r\n",
       "comp def \"Vehicle\" as E3  <<(T,blue) part def>> [[psysml:42326513-c813-4f17-9254-875ba93877ec ]] {\r\n",
       "}\r\n",
       "}\r\n",
       "package \"Usages\" as E4  [[psysml:e3968260-a676-422f-8ca6-ec1afe8a305b ]]  {\r\n",
       "comp usage \"vehicle: Vehicle\" as E5  <<(T,blue) part>> [[psysml:d491d5f9-6d8b-4b1d-a51c-b8388350c517 ]] {\r\n",
       "}\r\n",
       "}\r\n",
       "}\r\n",
       "E5 - -:|> E3 [[psysml:c9bd4828-45e6-4eb9-80eb-81bfe8e91163 ]] \r\n",
       "@enduml\r\n",
       "\n",
       "PlantUML version 1.2020.13(Sat Jun 13 12:26:38 UTC 2020)\n",
       "(EPL source distribution)\n",
       "Java Runtime: OpenJDK Runtime Environment\n",
       "JVM: OpenJDK 64-Bit Server VM\n",
       "Default Encoding: UTF-8\n",
       "Language: en\n",
       "Country: null\n",
       "--></g></svg>"
      ]
     },
     "execution_count": 29,
     "metadata": {},
     "output_type": "execute_result"
    }
   ],
   "source": [
    "%viz --style=\"STDCOLOR\" --view=\"MIXED\" \"AliasImport\""
   ]
  },
  {
   "cell_type": "code",
   "execution_count": 30,
   "id": "8ba75052",
   "metadata": {
    "execution": {
     "iopub.execute_input": "2021-10-03T08:30:57.819152Z",
     "iopub.status.busy": "2021-10-03T08:30:57.818749Z",
     "iopub.status.idle": "2021-10-03T08:30:57.868225Z",
     "shell.execute_reply": "2021-10-03T08:30:57.867866Z"
    }
   },
   "outputs": [
    {
     "data": {
      "image/svg+xml": [
       "<?xml version=\"1.0\" encoding=\"UTF-8\" standalone=\"no\"?><svg xmlns=\"http://www.w3.org/2000/svg\" xmlns:xlink=\"http://www.w3.org/1999/xlink\" contentScriptType=\"application/ecmascript\" contentStyleType=\"text/css\" height=\"297px\" preserveAspectRatio=\"none\" style=\"width:246px;height:297px;\" version=\"1.1\" viewBox=\"0 0 246 297\" width=\"246px\" zoomAndPan=\"magnify\"><defs><filter height=\"300%\" id=\"f1sxu4l70qq9e3\" width=\"300%\" x=\"-1\" y=\"-1\"><feGaussianBlur result=\"blurOut\" stdDeviation=\"2.0\"/><feColorMatrix in=\"blurOut\" result=\"blurOut2\" type=\"matrix\" values=\"0 0 0 0 0 0 0 0 0 0 0 0 0 0 0 0 0 0 .4 0\"/><feOffset dx=\"4.0\" dy=\"4.0\" in=\"blurOut2\" result=\"blurOut3\"/><feBlend in=\"SourceGraphic\" in2=\"blurOut3\" mode=\"normal\"/></filter></defs><g><!--MD5=[fbc87193dbaf4d95561dea2c320d4a47]\n",
       "cluster E1--><a href=\"psysml:da265157-d0d4-4951-bf22-47d5659e31ef\" target=\"_top\" title=\"psysml:da265157-d0d4-4951-bf22-47d5659e31ef\" xlink:actuate=\"onRequest\" xlink:href=\"psysml:da265157-d0d4-4951-bf22-47d5659e31ef\" xlink:show=\"new\" xlink:title=\"psysml:da265157-d0d4-4951-bf22-47d5659e31ef\" xlink:type=\"simple\"><polygon fill=\"#FFFFFF\" filter=\"url(#f1sxu4l70qq9e3)\" points=\"16,6,97,6,104,28.2969,224,28.2969,224,285,16,285,16,6\" style=\"stroke: #000000; stroke-width: 1.5;\"/><line style=\"stroke: #000000; stroke-width: 1.5;\" x1=\"16\" x2=\"104\" y1=\"28.2969\" y2=\"28.2969\"/><text fill=\"#000000\" font-family=\"sans-serif\" font-size=\"14\" font-weight=\"bold\" lengthAdjust=\"spacingAndGlyphs\" textLength=\"75\" x=\"20\" y=\"20.9951\">AliasImport</text></a><!--MD5=[e4f7fae6ed58524ba242bb0b0d3be6b7]\n",
       "cluster E2--><a href=\"psysml:2fd87941-b162-4111-8987-3fc5534acf16\" target=\"_top\" title=\"psysml:2fd87941-b162-4111-8987-3fc5534acf16\" xlink:actuate=\"onRequest\" xlink:href=\"psysml:2fd87941-b162-4111-8987-3fc5534acf16\" xlink:show=\"new\" xlink:title=\"psysml:2fd87941-b162-4111-8987-3fc5534acf16\" xlink:type=\"simple\"><polygon fill=\"#FFFFFF\" filter=\"url(#f1sxu4l70qq9e3)\" points=\"65,170,144,170,151,192.2969,175,192.2969,175,261,65,261,65,170\" style=\"stroke: #000000; stroke-width: 1.5;\"/><line style=\"stroke: #000000; stroke-width: 1.5;\" x1=\"65\" x2=\"151\" y1=\"192.2969\" y2=\"192.2969\"/><text fill=\"#000000\" font-family=\"sans-serif\" font-size=\"14\" font-weight=\"bold\" lengthAdjust=\"spacingAndGlyphs\" textLength=\"73\" x=\"69\" y=\"184.9951\">Definitions</text></a><!--MD5=[f6df4d0ebaf0b5dfb2ced0ae5af7c670]\n",
       "cluster E4--><a href=\"psysml:e3968260-a676-422f-8ca6-ec1afe8a305b\" target=\"_top\" title=\"psysml:e3968260-a676-422f-8ca6-ec1afe8a305b\" xlink:actuate=\"onRequest\" xlink:href=\"psysml:e3968260-a676-422f-8ca6-ec1afe8a305b\" xlink:show=\"new\" xlink:title=\"psysml:e3968260-a676-422f-8ca6-ec1afe8a305b\" xlink:type=\"simple\"><polygon fill=\"#FFFFFF\" filter=\"url(#f1sxu4l70qq9e3)\" points=\"40,49,98,49,105,71.2969,200,71.2969,200,146,40,146,40,49\" style=\"stroke: #000000; stroke-width: 1.5;\"/><line style=\"stroke: #000000; stroke-width: 1.5;\" x1=\"40\" x2=\"105\" y1=\"71.2969\" y2=\"71.2969\"/><text fill=\"#000000\" font-family=\"sans-serif\" font-size=\"14\" font-weight=\"bold\" lengthAdjust=\"spacingAndGlyphs\" textLength=\"52\" x=\"44\" y=\"63.9951\">Usages</text></a><!--MD5=[09b614a08d8cba4a07c9adeb5e0fee81]\n",
       "class E3--><a href=\"psysml:42326513-c813-4f17-9254-875ba93877ec\" target=\"_top\" title=\"psysml:42326513-c813-4f17-9254-875ba93877ec\" xlink:actuate=\"onRequest\" xlink:href=\"psysml:42326513-c813-4f17-9254-875ba93877ec\" xlink:show=\"new\" xlink:title=\"psysml:42326513-c813-4f17-9254-875ba93877ec\" xlink:type=\"simple\"><rect fill=\"#FEFECE\" filter=\"url(#f1sxu4l70qq9e3)\" height=\"40\" id=\"E3\" style=\"stroke: #A80036; stroke-width: 1.5;\" width=\"77\" x=\"81.5\" y=\"205\"/><ellipse cx=\"96.5\" cy=\"221\" fill=\"#008000\" rx=\"11\" ry=\"11\" style=\"stroke: #A80036; stroke-width: 1.0;\"/><path d=\"M93.375,226 L93.375,215.4063 L96.6094,215.4063 Q98.5156,215.4063 99.4219,216.1563 Q100.3438,216.9063 100.3438,218.0781 Q100.3438,218.7656 99.9531,219.4219 Q99.5781,220.0781 98.8594,220.375 Q99.7188,220.75 100.2344,221.4375 Q100.75,222.125 100.75,222.9375 Q100.75,224.3125 99.7188,225.1563 Q98.7031,226 96.5938,226 L93.375,226 Z M95.2969,219.6406 L96.4531,219.6406 Q97.5781,219.6406 97.9844,219.2656 Q98.4063,218.875 98.4063,218.25 Q98.4063,217.6719 97.9844,217.3125 Q97.5625,216.9531 96.625,216.9531 L95.2969,216.9531 L95.2969,219.6406 Z M95.2969,224.4219 L96.7969,224.4219 Q97.7031,224.4219 98.2344,224.0313 Q98.7656,223.6406 98.7656,222.8906 Q98.7656,222.125 98.2656,221.6563 Q97.7656,221.1719 96.5,221.1719 L95.2969,221.1719 L95.2969,224.4219 Z \"/><text fill=\"#000000\" font-family=\"sans-serif\" font-size=\"12\" lengthAdjust=\"spacingAndGlyphs\" textLength=\"45\" x=\"110.5\" y=\"225.1543\">Vehicle</text><line style=\"stroke: #A80036; stroke-width: 1.5;\" x1=\"82.5\" x2=\"157.5\" y1=\"237\" y2=\"237\"/></a><!--MD5=[270fce915f116d4de14055a7c1d9a0f3]\n",
       "class E5--><a href=\"psysml:d491d5f9-6d8b-4b1d-a51c-b8388350c517\" target=\"_top\" title=\"psysml:d491d5f9-6d8b-4b1d-a51c-b8388350c517\" xlink:actuate=\"onRequest\" xlink:href=\"psysml:d491d5f9-6d8b-4b1d-a51c-b8388350c517\" xlink:show=\"new\" xlink:title=\"psysml:d491d5f9-6d8b-4b1d-a51c-b8388350c517\" xlink:type=\"simple\"><rect fill=\"#FEFECE\" filter=\"url(#f1sxu4l70qq9e3)\" height=\"45.9375\" id=\"E5\" rx=\"10\" ry=\"10\" style=\"stroke: #A80036; stroke-width: 1.5;\" width=\"128\" x=\"56\" y=\"84\"/><ellipse cx=\"71\" cy=\"102.9688\" fill=\"#32CD32\" rx=\"11\" ry=\"11\" style=\"stroke: #A80036; stroke-width: 1.0;\"/><path d=\"M67.8125,107.9688 L67.8125,97.375 L71.4219,97.375 Q72.6406,97.375 73.4375,97.8125 Q74.2344,98.2344 74.6094,98.9375 Q75,99.6406 75,100.4844 Q75,101.3281 74.625,102.0156 Q74.2656,102.7031 73.4688,103.125 Q72.6875,103.5313 71.5,103.5313 L69.7656,103.5313 L69.7656,107.9688 L67.8125,107.9688 Z M69.7656,101.9375 L71.375,101.9375 Q72.1875,101.9375 72.6094,101.5313 Q73.0313,101.125 73.0313,100.4844 Q73.0313,99.8594 72.6094,99.4531 Q72.1875,99.0469 71.3906,99.0469 L69.7656,99.0469 L69.7656,101.9375 Z \"/><text fill=\"#000000\" font-family=\"sans-serif\" font-size=\"12\" font-style=\"italic\" lengthAdjust=\"spacingAndGlyphs\" textLength=\"40\" x=\"113\" y=\"100.1387\">«part»</text><text fill=\"#000000\" font-family=\"sans-serif\" font-size=\"12\" lengthAdjust=\"spacingAndGlyphs\" textLength=\"96\" x=\"85\" y=\"114.1074\">vehicle: Vehicle</text><line style=\"stroke: #A80036; stroke-width: 1.5;\" x1=\"57\" x2=\"183\" y1=\"121.9375\" y2=\"121.9375\"/></a><!--MD5=[e9be52314489bd878ff4c7144b63c9e1]\n",
       "link E5 to E3--><a href=\"psysml:c9bd4828-45e6-4eb9-80eb-81bfe8e91163\" target=\"_top\" title=\"psysml:c9bd4828-45e6-4eb9-80eb-81bfe8e91163\" xlink:actuate=\"onRequest\" xlink:href=\"psysml:c9bd4828-45e6-4eb9-80eb-81bfe8e91163\" xlink:show=\"new\" xlink:title=\"psysml:c9bd4828-45e6-4eb9-80eb-81bfe8e91163\" xlink:type=\"simple\"><path d=\"M120,130.09 C120,145.42 120,166.27 120,184.42 \" fill=\"none\" id=\"E5-&gt;E3\" style=\"stroke: #A80036; stroke-width: 1.0;\"/><polygon fill=\"#FFFFFF\" points=\"120,204.69,113,185.69,127,185.69,120,204.69\" style=\"stroke: #A80036; stroke-width: 1.0;\"/><ellipse cx=\"115\" cy=\"179.99\" fill=\"#A80036\" rx=\"2\" ry=\"2\" style=\"stroke: #A80036; stroke-width: 1.0;\"/><ellipse cx=\"125\" cy=\"179.99\" fill=\"#A80036\" rx=\"2\" ry=\"2\" style=\"stroke: #A80036; stroke-width: 1.0;\"/></a><!--MD5=[7652e7a1953e68dbf1c0497d0dee7dae]\n",
       "@startuml\r\n",
       " \r\n",
       "package \"AliasImport\" as E1  [[psysml:da265157-d0d4-4951-bf22-47d5659e31ef ]]  {\r\n",
       "package \"Definitions\" as E2  [[psysml:2fd87941-b162-4111-8987-3fc5534acf16 ]]  {\r\n",
       "comp def \"Vehicle\" as E3 << << (B,green) >> [[psysml:42326513-c813-4f17-9254-875ba93877ec ]] {\r\n",
       "}\r\n",
       "}\r\n",
       "package \"Usages\" as E4  [[psysml:e3968260-a676-422f-8ca6-ec1afe8a305b ]]  {\r\n",
       "comp usage \"vehicle: Vehicle\" as E5 << << (P,limegreen) part>> [[psysml:d491d5f9-6d8b-4b1d-a51c-b8388350c517 ]] {\r\n",
       "}\r\n",
       "}\r\n",
       "}\r\n",
       "E5 - -:|> E3 [[psysml:c9bd4828-45e6-4eb9-80eb-81bfe8e91163 ]] \r\n",
       "@enduml\r\n",
       "\n",
       "PlantUML version 1.2020.13(Sat Jun 13 12:26:38 UTC 2020)\n",
       "(EPL source distribution)\n",
       "Java Runtime: OpenJDK Runtime Environment\n",
       "JVM: OpenJDK 64-Bit Server VM\n",
       "Default Encoding: UTF-8\n",
       "Language: en\n",
       "Country: null\n",
       "--></g></svg>"
      ]
     },
     "execution_count": 30,
     "metadata": {},
     "output_type": "execute_result"
    }
   ],
   "source": [
    "%viz --style=\"PLANTUML\" --view=\"Default\" \"AliasImport\""
   ]
  },
  {
   "cell_type": "code",
   "execution_count": 31,
   "id": "04f1ec07",
   "metadata": {
    "execution": {
     "iopub.execute_input": "2021-10-03T08:30:57.917550Z",
     "iopub.status.busy": "2021-10-03T08:30:57.917152Z",
     "iopub.status.idle": "2021-10-03T08:30:57.946961Z",
     "shell.execute_reply": "2021-10-03T08:30:57.946543Z"
    }
   },
   "outputs": [
    {
     "data": {
      "image/svg+xml": [
       "<?xml version=\"1.0\" encoding=\"UTF-8\" standalone=\"no\"?><svg xmlns=\"http://www.w3.org/2000/svg\" xmlns:xlink=\"http://www.w3.org/1999/xlink\" contentScriptType=\"application/ecmascript\" contentStyleType=\"text/css\" height=\"297px\" preserveAspectRatio=\"none\" style=\"width:246px;height:297px;\" version=\"1.1\" viewBox=\"0 0 246 297\" width=\"246px\" zoomAndPan=\"magnify\"><defs><filter height=\"300%\" id=\"f1sxu4l70qq9e3\" width=\"300%\" x=\"-1\" y=\"-1\"><feGaussianBlur result=\"blurOut\" stdDeviation=\"2.0\"/><feColorMatrix in=\"blurOut\" result=\"blurOut2\" type=\"matrix\" values=\"0 0 0 0 0 0 0 0 0 0 0 0 0 0 0 0 0 0 .4 0\"/><feOffset dx=\"4.0\" dy=\"4.0\" in=\"blurOut2\" result=\"blurOut3\"/><feBlend in=\"SourceGraphic\" in2=\"blurOut3\" mode=\"normal\"/></filter></defs><g><!--MD5=[fbc87193dbaf4d95561dea2c320d4a47]\n",
       "cluster E1--><a href=\"psysml:da265157-d0d4-4951-bf22-47d5659e31ef\" target=\"_top\" title=\"psysml:da265157-d0d4-4951-bf22-47d5659e31ef\" xlink:actuate=\"onRequest\" xlink:href=\"psysml:da265157-d0d4-4951-bf22-47d5659e31ef\" xlink:show=\"new\" xlink:title=\"psysml:da265157-d0d4-4951-bf22-47d5659e31ef\" xlink:type=\"simple\"><polygon fill=\"#FFFFFF\" filter=\"url(#f1sxu4l70qq9e3)\" points=\"16,6,97,6,104,28.2969,224,28.2969,224,285,16,285,16,6\" style=\"stroke: #000000; stroke-width: 1.5;\"/><line style=\"stroke: #000000; stroke-width: 1.5;\" x1=\"16\" x2=\"104\" y1=\"28.2969\" y2=\"28.2969\"/><text fill=\"#000000\" font-family=\"sans-serif\" font-size=\"14\" font-weight=\"bold\" lengthAdjust=\"spacingAndGlyphs\" textLength=\"75\" x=\"20\" y=\"20.9951\">AliasImport</text></a><!--MD5=[e4f7fae6ed58524ba242bb0b0d3be6b7]\n",
       "cluster E2--><a href=\"psysml:2fd87941-b162-4111-8987-3fc5534acf16\" target=\"_top\" title=\"psysml:2fd87941-b162-4111-8987-3fc5534acf16\" xlink:actuate=\"onRequest\" xlink:href=\"psysml:2fd87941-b162-4111-8987-3fc5534acf16\" xlink:show=\"new\" xlink:title=\"psysml:2fd87941-b162-4111-8987-3fc5534acf16\" xlink:type=\"simple\"><polygon fill=\"#FFFFFF\" filter=\"url(#f1sxu4l70qq9e3)\" points=\"65,170,144,170,151,192.2969,175,192.2969,175,261,65,261,65,170\" style=\"stroke: #000000; stroke-width: 1.5;\"/><line style=\"stroke: #000000; stroke-width: 1.5;\" x1=\"65\" x2=\"151\" y1=\"192.2969\" y2=\"192.2969\"/><text fill=\"#000000\" font-family=\"sans-serif\" font-size=\"14\" font-weight=\"bold\" lengthAdjust=\"spacingAndGlyphs\" textLength=\"73\" x=\"69\" y=\"184.9951\">Definitions</text></a><!--MD5=[f6df4d0ebaf0b5dfb2ced0ae5af7c670]\n",
       "cluster E4--><a href=\"psysml:e3968260-a676-422f-8ca6-ec1afe8a305b\" target=\"_top\" title=\"psysml:e3968260-a676-422f-8ca6-ec1afe8a305b\" xlink:actuate=\"onRequest\" xlink:href=\"psysml:e3968260-a676-422f-8ca6-ec1afe8a305b\" xlink:show=\"new\" xlink:title=\"psysml:e3968260-a676-422f-8ca6-ec1afe8a305b\" xlink:type=\"simple\"><polygon fill=\"#FFFFFF\" filter=\"url(#f1sxu4l70qq9e3)\" points=\"40,49,98,49,105,71.2969,200,71.2969,200,146,40,146,40,49\" style=\"stroke: #000000; stroke-width: 1.5;\"/><line style=\"stroke: #000000; stroke-width: 1.5;\" x1=\"40\" x2=\"105\" y1=\"71.2969\" y2=\"71.2969\"/><text fill=\"#000000\" font-family=\"sans-serif\" font-size=\"14\" font-weight=\"bold\" lengthAdjust=\"spacingAndGlyphs\" textLength=\"52\" x=\"44\" y=\"63.9951\">Usages</text></a><!--MD5=[09b614a08d8cba4a07c9adeb5e0fee81]\n",
       "class E3--><a href=\"psysml:42326513-c813-4f17-9254-875ba93877ec\" target=\"_top\" title=\"psysml:42326513-c813-4f17-9254-875ba93877ec\" xlink:actuate=\"onRequest\" xlink:href=\"psysml:42326513-c813-4f17-9254-875ba93877ec\" xlink:show=\"new\" xlink:title=\"psysml:42326513-c813-4f17-9254-875ba93877ec\" xlink:type=\"simple\"><rect fill=\"#FEFECE\" filter=\"url(#f1sxu4l70qq9e3)\" height=\"40\" id=\"E3\" style=\"stroke: #A80036; stroke-width: 1.5;\" width=\"77\" x=\"81.5\" y=\"205\"/><ellipse cx=\"96.5\" cy=\"221\" fill=\"#008000\" rx=\"11\" ry=\"11\" style=\"stroke: #A80036; stroke-width: 1.0;\"/><path d=\"M93.375,226 L93.375,215.4063 L96.6094,215.4063 Q98.5156,215.4063 99.4219,216.1563 Q100.3438,216.9063 100.3438,218.0781 Q100.3438,218.7656 99.9531,219.4219 Q99.5781,220.0781 98.8594,220.375 Q99.7188,220.75 100.2344,221.4375 Q100.75,222.125 100.75,222.9375 Q100.75,224.3125 99.7188,225.1563 Q98.7031,226 96.5938,226 L93.375,226 Z M95.2969,219.6406 L96.4531,219.6406 Q97.5781,219.6406 97.9844,219.2656 Q98.4063,218.875 98.4063,218.25 Q98.4063,217.6719 97.9844,217.3125 Q97.5625,216.9531 96.625,216.9531 L95.2969,216.9531 L95.2969,219.6406 Z M95.2969,224.4219 L96.7969,224.4219 Q97.7031,224.4219 98.2344,224.0313 Q98.7656,223.6406 98.7656,222.8906 Q98.7656,222.125 98.2656,221.6563 Q97.7656,221.1719 96.5,221.1719 L95.2969,221.1719 L95.2969,224.4219 Z \"/><text fill=\"#000000\" font-family=\"sans-serif\" font-size=\"12\" lengthAdjust=\"spacingAndGlyphs\" textLength=\"45\" x=\"110.5\" y=\"225.1543\">Vehicle</text><line style=\"stroke: #A80036; stroke-width: 1.5;\" x1=\"82.5\" x2=\"157.5\" y1=\"237\" y2=\"237\"/></a><!--MD5=[270fce915f116d4de14055a7c1d9a0f3]\n",
       "class E5--><a href=\"psysml:d491d5f9-6d8b-4b1d-a51c-b8388350c517\" target=\"_top\" title=\"psysml:d491d5f9-6d8b-4b1d-a51c-b8388350c517\" xlink:actuate=\"onRequest\" xlink:href=\"psysml:d491d5f9-6d8b-4b1d-a51c-b8388350c517\" xlink:show=\"new\" xlink:title=\"psysml:d491d5f9-6d8b-4b1d-a51c-b8388350c517\" xlink:type=\"simple\"><rect fill=\"#FEFECE\" filter=\"url(#f1sxu4l70qq9e3)\" height=\"45.9375\" id=\"E5\" rx=\"10\" ry=\"10\" style=\"stroke: #A80036; stroke-width: 1.5;\" width=\"128\" x=\"56\" y=\"84\"/><ellipse cx=\"71\" cy=\"102.9688\" fill=\"#32CD32\" rx=\"11\" ry=\"11\" style=\"stroke: #A80036; stroke-width: 1.0;\"/><path d=\"M67.8125,107.9688 L67.8125,97.375 L71.4219,97.375 Q72.6406,97.375 73.4375,97.8125 Q74.2344,98.2344 74.6094,98.9375 Q75,99.6406 75,100.4844 Q75,101.3281 74.625,102.0156 Q74.2656,102.7031 73.4688,103.125 Q72.6875,103.5313 71.5,103.5313 L69.7656,103.5313 L69.7656,107.9688 L67.8125,107.9688 Z M69.7656,101.9375 L71.375,101.9375 Q72.1875,101.9375 72.6094,101.5313 Q73.0313,101.125 73.0313,100.4844 Q73.0313,99.8594 72.6094,99.4531 Q72.1875,99.0469 71.3906,99.0469 L69.7656,99.0469 L69.7656,101.9375 Z \"/><text fill=\"#000000\" font-family=\"sans-serif\" font-size=\"12\" font-style=\"italic\" lengthAdjust=\"spacingAndGlyphs\" textLength=\"40\" x=\"113\" y=\"100.1387\">«part»</text><text fill=\"#000000\" font-family=\"sans-serif\" font-size=\"12\" lengthAdjust=\"spacingAndGlyphs\" textLength=\"96\" x=\"85\" y=\"114.1074\">vehicle: Vehicle</text><line style=\"stroke: #A80036; stroke-width: 1.5;\" x1=\"57\" x2=\"183\" y1=\"121.9375\" y2=\"121.9375\"/></a><!--MD5=[e9be52314489bd878ff4c7144b63c9e1]\n",
       "link E5 to E3--><a href=\"psysml:c9bd4828-45e6-4eb9-80eb-81bfe8e91163\" target=\"_top\" title=\"psysml:c9bd4828-45e6-4eb9-80eb-81bfe8e91163\" xlink:actuate=\"onRequest\" xlink:href=\"psysml:c9bd4828-45e6-4eb9-80eb-81bfe8e91163\" xlink:show=\"new\" xlink:title=\"psysml:c9bd4828-45e6-4eb9-80eb-81bfe8e91163\" xlink:type=\"simple\"><path d=\"M120,130.09 C120,145.42 120,166.27 120,184.42 \" fill=\"none\" id=\"E5-&gt;E3\" style=\"stroke: #A80036; stroke-width: 1.0;\"/><polygon fill=\"#FFFFFF\" points=\"120,204.69,113,185.69,127,185.69,120,204.69\" style=\"stroke: #A80036; stroke-width: 1.0;\"/><ellipse cx=\"115\" cy=\"179.99\" fill=\"#A80036\" rx=\"2\" ry=\"2\" style=\"stroke: #A80036; stroke-width: 1.0;\"/><ellipse cx=\"125\" cy=\"179.99\" fill=\"#A80036\" rx=\"2\" ry=\"2\" style=\"stroke: #A80036; stroke-width: 1.0;\"/></a><!--MD5=[7652e7a1953e68dbf1c0497d0dee7dae]\n",
       "@startuml\r\n",
       " \r\n",
       "package \"AliasImport\" as E1  [[psysml:da265157-d0d4-4951-bf22-47d5659e31ef ]]  {\r\n",
       "package \"Definitions\" as E2  [[psysml:2fd87941-b162-4111-8987-3fc5534acf16 ]]  {\r\n",
       "comp def \"Vehicle\" as E3 << << (B,green) >> [[psysml:42326513-c813-4f17-9254-875ba93877ec ]] {\r\n",
       "}\r\n",
       "}\r\n",
       "package \"Usages\" as E4  [[psysml:e3968260-a676-422f-8ca6-ec1afe8a305b ]]  {\r\n",
       "comp usage \"vehicle: Vehicle\" as E5 << << (P,limegreen) part>> [[psysml:d491d5f9-6d8b-4b1d-a51c-b8388350c517 ]] {\r\n",
       "}\r\n",
       "}\r\n",
       "}\r\n",
       "E5 - -:|> E3 [[psysml:c9bd4828-45e6-4eb9-80eb-81bfe8e91163 ]] \r\n",
       "@enduml\r\n",
       "\n",
       "PlantUML version 1.2020.13(Sat Jun 13 12:26:38 UTC 2020)\n",
       "(EPL source distribution)\n",
       "Java Runtime: OpenJDK Runtime Environment\n",
       "JVM: OpenJDK 64-Bit Server VM\n",
       "Default Encoding: UTF-8\n",
       "Language: en\n",
       "Country: null\n",
       "--></g></svg>"
      ]
     },
     "execution_count": 31,
     "metadata": {},
     "output_type": "execute_result"
    }
   ],
   "source": [
    "%viz --style=\"PLANTUML\" --view=\"Tree\" \"AliasImport\""
   ]
  },
  {
   "cell_type": "code",
   "execution_count": 32,
   "id": "3768562e",
   "metadata": {
    "execution": {
     "iopub.execute_input": "2021-10-03T08:30:57.996006Z",
     "iopub.status.busy": "2021-10-03T08:30:57.995591Z",
     "iopub.status.idle": "2021-10-03T08:30:58.155247Z",
     "shell.execute_reply": "2021-10-03T08:30:58.153442Z"
    }
   },
   "outputs": [
    {
     "data": {
      "image/svg+xml": [
       "<?xml version=\"1.0\" encoding=\"UTF-8\" standalone=\"no\"?><svg xmlns=\"http://www.w3.org/2000/svg\" xmlns:xlink=\"http://www.w3.org/1999/xlink\" contentScriptType=\"application/ecmascript\" contentStyleType=\"text/css\" height=\"365px\" preserveAspectRatio=\"none\" style=\"width:603px;height:365px;background:#000000;\" version=\"1.1\" viewBox=\"0 0 603 365\" width=\"603px\" zoomAndPan=\"magnify\"><defs/><g><rect fill=\"#1D0612\" height=\"1\" style=\"stroke: #1D0612; stroke-width: 1.0;\" width=\"1\" x=\"0\" y=\"0\"/><rect fill=\"#EAE2C9\" height=\"65.1875\" style=\"stroke: #EAE2C9; stroke-width: 1.0;\" width=\"602\" x=\"0\" y=\"0\"/><text fill=\"#000000\" font-family=\"sans-serif\" font-size=\"14\" font-weight=\"bold\" lengthAdjust=\"spacingAndGlyphs\" textLength=\"267\" x=\"10\" y=\"12.9951\">Add your own dedication into PlantUML</text><text fill=\"#000000\" font-family=\"sans-serif\" font-size=\"14\" lengthAdjust=\"spacingAndGlyphs\" textLength=\"0\" x=\"14\" y=\"29.292\"/><text fill=\"#000000\" font-family=\"sans-serif\" font-size=\"14\" lengthAdjust=\"spacingAndGlyphs\" textLength=\"154\" x=\"10\" y=\"45.5889\">For just $5 per month!</text><text fill=\"#000000\" font-family=\"sans-serif\" font-size=\"14\" lengthAdjust=\"spacingAndGlyphs\" textLength=\"69\" x=\"10\" y=\"61.8857\">Details on</text><a href=\"http://plantuml.com/dedication\" target=\"_top\" title=\"http://plantuml.com/dedication\" xlink:actuate=\"onRequest\" xlink:href=\"http://plantuml.com/dedication\" xlink:show=\"new\" xlink:title=\"http://plantuml.com/dedication\" xlink:type=\"simple\"><text fill=\"#000000\" font-family=\"sans-serif\" font-size=\"14\" font-style=\"italic\" lengthAdjust=\"spacingAndGlyphs\" textLength=\"213\" x=\"83\" y=\"61.8857\">http://plantuml.com/dedication</text></a><rect fill=\"#FFFFFF\" height=\"202.8012\" style=\"stroke: #FFFFFF; stroke-width: 1.0;\" width=\"602\" x=\"0\" y=\"65.1875\"/><text fill=\"#000000\" font-family=\"sans-serif\" font-size=\"12\" font-weight=\"bold\" lengthAdjust=\"spacingAndGlyphs\" textLength=\"139\" x=\"5\" y=\"81.3262\">Welcome to PlantUML!</text><text fill=\"#000000\" font-family=\"sans-serif\" font-size=\"12\" lengthAdjust=\"spacingAndGlyphs\" textLength=\"0\" x=\"9\" y=\"95.2949\"/><text fill=\"#000000\" font-family=\"sans-serif\" font-size=\"12\" lengthAdjust=\"spacingAndGlyphs\" textLength=\"293\" x=\"5\" y=\"109.2637\">If you use this software, you accept its license.</text><text fill=\"#000000\" font-family=\"sans-serif\" font-size=\"12\" lengthAdjust=\"spacingAndGlyphs\" textLength=\"107\" x=\"5\" y=\"123.2324\">(details by typing</text><text fill=\"#000000\" font-family=\"monospace\" font-size=\"12\" lengthAdjust=\"spacingAndGlyphs\" textLength=\"42\" x=\"116\" y=\"123.7825\">license</text><text fill=\"#000000\" font-family=\"sans-serif\" font-size=\"12\" lengthAdjust=\"spacingAndGlyphs\" textLength=\"56\" x=\"162\" y=\"123.2324\">keyword)</text><text fill=\"#000000\" font-family=\"sans-serif\" font-size=\"12\" lengthAdjust=\"spacingAndGlyphs\" textLength=\"0\" x=\"9\" y=\"137.2012\"/><text fill=\"#000000\" font-family=\"sans-serif\" font-size=\"12\" lengthAdjust=\"spacingAndGlyphs\" textLength=\"283\" x=\"5\" y=\"151.1699\">You can start with a simple UML Diagram like:</text><text fill=\"#000000\" font-family=\"sans-serif\" font-size=\"12\" lengthAdjust=\"spacingAndGlyphs\" textLength=\"0\" x=\"9\" y=\"165.1387\"/><text fill=\"#000000\" font-family=\"monospace\" font-size=\"12\" lengthAdjust=\"spacingAndGlyphs\" textLength=\"102\" x=\"5\" y=\"178.2768\">Bob-&gt;Alice: Hello</text><text fill=\"#000000\" font-family=\"sans-serif\" font-size=\"12\" lengthAdjust=\"spacingAndGlyphs\" textLength=\"0\" x=\"9\" y=\"191.6955\"/><text fill=\"#000000\" font-family=\"sans-serif\" font-size=\"12\" lengthAdjust=\"spacingAndGlyphs\" textLength=\"14\" x=\"5\" y=\"205.6643\">Or</text><text fill=\"#000000\" font-family=\"sans-serif\" font-size=\"12\" lengthAdjust=\"spacingAndGlyphs\" textLength=\"0\" x=\"9\" y=\"219.633\"/><text fill=\"#000000\" font-family=\"monospace\" font-size=\"12\" lengthAdjust=\"spacingAndGlyphs\" textLength=\"78\" x=\"5\" y=\"232.7712\">class Example</text><text fill=\"#000000\" font-family=\"sans-serif\" font-size=\"12\" lengthAdjust=\"spacingAndGlyphs\" textLength=\"0\" x=\"9\" y=\"246.1898\"/><text fill=\"#000000\" font-family=\"sans-serif\" font-size=\"12\" lengthAdjust=\"spacingAndGlyphs\" textLength=\"349\" x=\"5\" y=\"260.1586\">You will find more information about PlantUML syntax on</text><text fill=\"#000000\" font-family=\"sans-serif\" font-size=\"12\" lengthAdjust=\"spacingAndGlyphs\" text-decoration=\"underline\" textLength=\"129\" x=\"358\" y=\"260.1586\">https://plantuml.com</text><image height=\"71\" width=\"80\" x=\"516\" xlink:href=\"data:image/png;base64,iVBORw0KGgoAAAANSUhEUgAAAFAAAABHCAMAAACnHDC8AAADAFBMVEX///+BpbvD3u/f7vfPz8+nz+g3ksuZEDkWADr/ujlvsdpTodLCwsOLwOEbg8T//v6pqamZETnLysvT09To5+jqLS4VATj9/f27u7vDw8MTfsK+v7/j4+SOweJprdjL4/KxsbEri8jk8PgXa57c29uUETez1utQoNJ1tNtEmc9cptWBut6ayOW/3O6YEDjY6vUfhcXBwcHs7Ozw9/v83t79uTn7+/vX19ehoaHx8fG2tLXHx8fuVlfrNTYaBjn/vUH5+fmko6WXl5f/+fn95ub+9PT+8PD3qKidmaMxIUrnqDWcFj7n5eX09PTu7u2SkpKfnZ6rq6z0lJTm4tzJrHUfDT339/eFGDn6tjcrEzOvrbBuZ3l4eomSMS7Hz9Smpqasu8SFiYuQETfa2du1m6OOM051J0NWTWL5xse4uLj6zc33r6/4vb7ydHXqLi/72dntTE3tR0ijbn5jW3C+u8NANVQrG0XFubqRVGZza4GQGT2VaS7a0NPJtI6IJj/zszrfqkXXzr/Hw8cgC0LUqltOQ2JsSC5bTGjOpFafSi2+iDGtyt14m7TJhTCPJUSwoIG/qa+ikHiIgpCRHjI9j8KXbnaQH0FLf6FGPlp0cnYyKE2rg49Wj7dFXHmcwtrp6uu+xMjvYWLvW1z97e3sPD3sP0DuUlP709PYzdDPmzqZWWySRVygfHHd1smWkZ+PgnibETqsl260q5fLuppJLC/dpj2HPFLTtHv/ujrTwJy5s6iWjIi0iD3joTTCmU3trjuvZS2zlFvjq0HSyLbYp0qRts10XGxEKC9yPVBQZIOPdlNvMk2NeYNqRlujtcCVrr3j5eY1gK9Qn9GLp7lbeJXRxrCkiZDaozyukoJ+H0B3rc+OYy+iprJkYXdhmr6ee0afs79xq9BikrGKjI3FomEiLFO0ay6nfIm4pZXRjTFuhZSZWm0zcZyJN0KNTk4eebNfdIGGlZ93h5kcED5nOVYyRWbziIk9dJ4kerE5ZYxRUnLG1d7p8PTvY2PtTk/1nZ1ycV/bAAAFx0lEQVR4Xu1Ye1BUVRg/e3dhl4csKyxqPlBJQVETF2icAY13GogkEFqizqRRpoBpTCIapaUOhWNjUdOMSBpqJYZTg4KigFKADzSIVZ4qD5VFluXhLgvbPee+r49R7v2z3+zcc77fOfPb7zvfPd85uwCIhwT4wPisANwPAuIKHnbHH1I+KwAXDA18ShDW58CneCEnXl8JGwmfHylCPSvlZ/FWxh8YIRIxTWkZAEofkTz8sNq7tAqE2gODOB6GYZobVaH20SVZ4oQcdmXV0L7c4b8OFvJHRoYwdVIoyPX3gxtFDA+V8e6mM8pBoCjij4wQiWo/ALzV/kpkifBi13p4waZuGrJEECycixcEVSbYgFwUozg4/qSraOxrP7O8Eogj2HDxyMWmzpk6823+yIjhvR7fLOpDsCuGhwC0WfbkjQq8A0MWC0EgIYzPCYMymM8Iwcvz6K4IWw8skTrgq3iPMIQnxdfKrvyedpyvbSsyBQt6zcH6OxXmjqYxg9PbgXBBveK6aRAXNEl1Ssc+hz7Bgntyohb/ggQlNrrdzfIuoYKSb79067PrRoLmGo25SeghJRn1yMrSbPTptZaoBlwtlWbBHspxiW+mW8+46ereVnMXGxbFQ+mjofiHZTrclJn5E14UEgdrO9tRVph0HDJlYlRsLv4XFA7RBA1kK5ogBb7gtn08AvxWymc2b+YzLHC3nnOCNHvdayUsZpnnwnPqGf+yGKcPKlv92vtJC209zGyRWJmgyd16sSGGT/AmM2rdKZKZHxwCz7KUodLzJOO8th4OBqxdo0c2tfUkNr3QlJkZQWWMBP0uwBHvmQQb3zRVCMnsMO6ATazf3f0kkza0HTaPCdIhpyTknqP61Te1eV2gRpr1FUn4xtxRT72pDHhj09/UnBLjiv72p4d8FEtlLibBd7Qg0xK5+XfS9q2AzxSVHPnNIMBS8BQPw8N1W4glQWj0mtp4+nSHhvKYOM4GL6vH1jGTcDQ3p1979AQPI5agXEDYwuS5awknJ73rHU56RyLAr6ACpO5iMRGvp3XykjImgs4Fgm2/7URc8dhbeD9jdhYVNon0mdFcAjTIXbmC75VrmVHcQ+JDIXbuNmYUYlZoYx6XcWjKTWavYXd1WzU9OEh9wLFfEVFza5PEhVhDAvfLx60cWM3ePMa9hyZG5DNr6DbQiCUcYU0AKGzGyYxlkf+wxnCk+wdwCbA/TkWH7Dbgoq8dcmKNssQQ3F/JmMxlIj/fzo/7s9OIwUMebbYzbh2zLfk7ehBGzIau6OeO+xzGKlBRwCGAXNaCFgYbRoKG+hMTfMff4M6h0LYxpmv/92ym9tIxc4uRzawynCEWGhum7odf9/75vh8zg0bKijX5AMxhMacsK8pBxaJihtnQqr1KG8yFMzq/dutJ2iKwNCbXA7Yamsm2Xn0XtgtowY3Xy8rpYc4NNqon8eM49k+NtzU55GtMleGAkNR6oldDMhH+e9EX0JB+UYKv4WgLZrLCjHV7wnyYlzJZvYV6A6d1w6xEph842UUyTkjGIbzwRA/JIOBJKSt88yglqND1h6TpiQqQV99wmJ7nknQcgIIHqd00EwSzgudigGYQUHE4qFMcGJb22kp7lNop8p6znStvg5S2e1TVRti56w/zj8fZzKLiDa317MqBQFbs+J3dcbSgo+H4D0kLOokJ82/NR8KZbp9eIZgllwKR8Ec1ejIX827POk/06HpYffGd5dkoZJXMqDAVXd1Nbhavlx4OyuAiPcyAF3Ick8faXAuE5WToApkMxykL1PbNRJ91SDkXOyymPFR1UMlw9GjRPKCrPsRSvUnbzbkELj2PSSRkQLiH1AvROTutlpryLHQAoCD+C2BBP4npMwd9zsIgzgaDsK+bctmVw3hetai5t9RS4PEqub4QnCvxteGzOZyQXxjscxkhHisWKMi72+T0p1dxGeGYkG0ez+eeG7In/n/oNOexC9fzIiLvPxVtKp84iza+AAAAAElFTkSuQmCC\" y=\"71.1875\"/><rect fill=\"#000000\" height=\"96.4844\" style=\"stroke: #000000; stroke-width: 1.0;\" width=\"602\" x=\"0\" y=\"267.9887\"/><rect fill=\"#33FF02\" height=\"21.2969\" style=\"stroke: #33FF02; stroke-width: 1.0;\" width=\"145\" x=\"5\" y=\"272.9887\"/><text fill=\"#000000\" font-family=\"sans-serif\" font-size=\"14\" font-weight=\"bold\" lengthAdjust=\"spacingAndGlyphs\" textLength=\"143\" x=\"6\" y=\"287.9887\">[From string (line 2) ]</text><text fill=\"#33FF02\" font-family=\"sans-serif\" font-size=\"14\" font-weight=\"bold\" lengthAdjust=\"spacingAndGlyphs\" textLength=\"0\" x=\"9\" y=\"308.2856\"/><text fill=\"#33FF02\" font-family=\"sans-serif\" font-size=\"14\" font-weight=\"bold\" lengthAdjust=\"spacingAndGlyphs\" textLength=\"70\" x=\"5\" y=\"324.5824\">@startuml</text><text fill=\"#33FF02\" font-family=\"sans-serif\" font-size=\"14\" font-weight=\"bold\" lengthAdjust=\"spacingAndGlyphs\" textLength=\"0\" x=\"9\" y=\"340.8793\"/><text fill=\"#FF0000\" font-family=\"sans-serif\" font-size=\"14\" font-weight=\"bold\" lengthAdjust=\"spacingAndGlyphs\" textLength=\"124\" x=\"9\" y=\"357.1762\">Empty description</text><!--MD5=[f59edd8218d337f74d0c332fc6737304]\n",
       "@startuml\r\n",
       " \r\n",
       "@enduml\r\n",
       "\n",
       "PlantUML version 1.2020.13(Sat Jun 13 12:26:38 UTC 2020)\n",
       "(EPL source distribution)\n",
       "Java Runtime: OpenJDK Runtime Environment\n",
       "JVM: OpenJDK 64-Bit Server VM\n",
       "Default Encoding: UTF-8\n",
       "Language: en\n",
       "Country: null\n",
       "--></g></svg>"
      ]
     },
     "execution_count": 32,
     "metadata": {},
     "output_type": "execute_result"
    }
   ],
   "source": [
    "%viz --style=\"PLANTUML\" --view=\"State\" \"AliasImport\""
   ]
  },
  {
   "cell_type": "code",
   "execution_count": 33,
   "id": "312a9b14",
   "metadata": {
    "execution": {
     "iopub.execute_input": "2021-10-03T08:30:58.204013Z",
     "iopub.status.busy": "2021-10-03T08:30:58.203600Z",
     "iopub.status.idle": "2021-10-03T08:30:58.228475Z",
     "shell.execute_reply": "2021-10-03T08:30:58.228122Z"
    }
   },
   "outputs": [
    {
     "data": {
      "image/svg+xml": [
       "<?xml version=\"1.0\" encoding=\"UTF-8\" standalone=\"no\"?><svg xmlns=\"http://www.w3.org/2000/svg\" xmlns:xlink=\"http://www.w3.org/1999/xlink\" contentScriptType=\"application/ecmascript\" contentStyleType=\"text/css\" height=\"176px\" preserveAspectRatio=\"none\" style=\"width:507px;height:176px;\" version=\"1.1\" viewBox=\"0 0 507 176\" width=\"507px\" zoomAndPan=\"magnify\"><defs><filter height=\"300%\" id=\"fxsq4udojoqp9\" width=\"300%\" x=\"-1\" y=\"-1\"><feGaussianBlur result=\"blurOut\" stdDeviation=\"2.0\"/><feColorMatrix in=\"blurOut\" result=\"blurOut2\" type=\"matrix\" values=\"0 0 0 0 0 0 0 0 0 0 0 0 0 0 0 0 0 0 .4 0\"/><feOffset dx=\"4.0\" dy=\"4.0\" in=\"blurOut2\" result=\"blurOut3\"/><feBlend in=\"SourceGraphic\" in2=\"blurOut3\" mode=\"normal\"/></filter></defs><g><!--MD5=[fbc87193dbaf4d95561dea2c320d4a47]\n",
       "cluster E1--><a href=\"psysml:da265157-d0d4-4951-bf22-47d5659e31ef\" target=\"_top\" title=\"psysml:da265157-d0d4-4951-bf22-47d5659e31ef\" xlink:actuate=\"onRequest\" xlink:href=\"psysml:da265157-d0d4-4951-bf22-47d5659e31ef\" xlink:show=\"new\" xlink:title=\"psysml:da265157-d0d4-4951-bf22-47d5659e31ef\" xlink:type=\"simple\"><polygon fill=\"#FFFFFF\" filter=\"url(#fxsq4udojoqp9)\" points=\"16,6,97,6,104,28.2969,485,28.2969,485,164,16,164,16,6\" style=\"stroke: #000000; stroke-width: 1.5;\"/><line style=\"stroke: #000000; stroke-width: 1.5;\" x1=\"16\" x2=\"104\" y1=\"28.2969\" y2=\"28.2969\"/><text fill=\"#000000\" font-family=\"sans-serif\" font-size=\"14\" font-weight=\"bold\" lengthAdjust=\"spacingAndGlyphs\" textLength=\"75\" x=\"20\" y=\"20.9951\">AliasImport</text></a><!--MD5=[e4f7fae6ed58524ba242bb0b0d3be6b7]\n",
       "cluster E2--><a href=\"psysml:2fd87941-b162-4111-8987-3fc5534acf16\" target=\"_top\" title=\"psysml:2fd87941-b162-4111-8987-3fc5534acf16\" xlink:actuate=\"onRequest\" xlink:href=\"psysml:2fd87941-b162-4111-8987-3fc5534acf16\" xlink:show=\"new\" xlink:title=\"psysml:2fd87941-b162-4111-8987-3fc5534acf16\" xlink:type=\"simple\"><polygon fill=\"#FFFFFF\" filter=\"url(#fxsq4udojoqp9)\" points=\"230,49,309,49,316,71.2969,461,71.2969,461,140,230,140,230,49\" style=\"stroke: #000000; stroke-width: 1.5;\"/><line style=\"stroke: #000000; stroke-width: 1.5;\" x1=\"230\" x2=\"316\" y1=\"71.2969\" y2=\"71.2969\"/><text fill=\"#000000\" font-family=\"sans-serif\" font-size=\"14\" font-weight=\"bold\" lengthAdjust=\"spacingAndGlyphs\" textLength=\"73\" x=\"234\" y=\"63.9951\">Definitions</text></a><!--MD5=[de5ec2e2e8f62f467e546659f5068c88]\n",
       "cluster E5--><a href=\"psysml:e3968260-a676-422f-8ca6-ec1afe8a305b\" target=\"_top\" title=\"psysml:e3968260-a676-422f-8ca6-ec1afe8a305b\" xlink:actuate=\"onRequest\" xlink:href=\"psysml:e3968260-a676-422f-8ca6-ec1afe8a305b\" xlink:show=\"new\" xlink:title=\"psysml:e3968260-a676-422f-8ca6-ec1afe8a305b\" xlink:type=\"simple\"><polygon fill=\"#FFFFFF\" filter=\"url(#fxsq4udojoqp9)\" points=\"40,49,98,49,105,71.2969,206,71.2969,206,140,40,140,40,49\" style=\"stroke: #000000; stroke-width: 1.5;\"/><line style=\"stroke: #000000; stroke-width: 1.5;\" x1=\"40\" x2=\"105\" y1=\"71.2969\" y2=\"71.2969\"/><text fill=\"#000000\" font-family=\"sans-serif\" font-size=\"14\" font-weight=\"bold\" lengthAdjust=\"spacingAndGlyphs\" textLength=\"52\" x=\"44\" y=\"63.9951\">Usages</text></a><g id=\"E1.E2.E3\"><a href=\"psysml:42326513-c813-4f17-9254-875ba93877ec\" target=\"_top\" title=\"psysml:42326513-c813-4f17-9254-875ba93877ec\" xlink:actuate=\"onRequest\" xlink:href=\"psysml:42326513-c813-4f17-9254-875ba93877ec\" xlink:show=\"new\" xlink:title=\"psysml:42326513-c813-4f17-9254-875ba93877ec\" xlink:type=\"simple\"><rect fill=\"#FEFECE\" filter=\"url(#fxsq4udojoqp9)\" height=\"40\" id=\"E3\" style=\"stroke: #A80036; stroke-width: 1.5;\" width=\"82\" x=\"363\" y=\"84\"/><ellipse cx=\"380.25\" cy=\"100\" fill=\"#008000\" rx=\"11\" ry=\"11\" style=\"stroke: #A80036; stroke-width: 1.0;\"/><path d=\"M377.125,105 L377.125,94.4063 L380.3594,94.4063 Q382.2656,94.4063 383.1719,95.1563 Q384.0938,95.9063 384.0938,97.0781 Q384.0938,97.7656 383.7031,98.4219 Q383.3281,99.0781 382.6094,99.375 Q383.4688,99.75 383.9844,100.4375 Q384.5,101.125 384.5,101.9375 Q384.5,103.3125 383.4688,104.1563 Q382.4531,105 380.3438,105 L377.125,105 Z M379.0469,98.6406 L380.2031,98.6406 Q381.3281,98.6406 381.7344,98.2656 Q382.1563,97.875 382.1563,97.25 Q382.1563,96.6719 381.7344,96.3125 Q381.3125,95.9531 380.375,95.9531 L379.0469,95.9531 L379.0469,98.6406 Z M379.0469,103.4219 L380.5469,103.4219 Q381.4531,103.4219 381.9844,103.0313 Q382.5156,102.6406 382.5156,101.8906 Q382.5156,101.125 382.0156,100.6563 Q381.5156,100.1719 380.25,100.1719 L379.0469,100.1719 L379.0469,103.4219 Z \"/><text fill=\"#000000\" font-family=\"sans-serif\" font-size=\"12\" lengthAdjust=\"spacingAndGlyphs\" textLength=\"45\" x=\"394.75\" y=\"104.1543\">Vehicle</text></a></g><g id=\"E1.E2.E4\"><a href=\"psysml:42326513-c813-4f17-9254-875ba93877ec\" target=\"_top\" title=\"psysml:42326513-c813-4f17-9254-875ba93877ec\" xlink:actuate=\"onRequest\" xlink:href=\"psysml:42326513-c813-4f17-9254-875ba93877ec\" xlink:show=\"new\" xlink:title=\"psysml:42326513-c813-4f17-9254-875ba93877ec\" xlink:type=\"simple\"><rect fill=\"#FEFECE\" filter=\"url(#fxsq4udojoqp9)\" height=\"40\" id=\"E4\" style=\"stroke: #A80036; stroke-width: 1.5;\" width=\"82\" x=\"246\" y=\"84\"/><ellipse cx=\"263.25\" cy=\"100\" fill=\"#008000\" rx=\"11\" ry=\"11\" style=\"stroke: #A80036; stroke-width: 1.0;\"/><path d=\"M260.125,105 L260.125,94.4063 L263.3594,94.4063 Q265.2656,94.4063 266.1719,95.1563 Q267.0938,95.9063 267.0938,97.0781 Q267.0938,97.7656 266.7031,98.4219 Q266.3281,99.0781 265.6094,99.375 Q266.4688,99.75 266.9844,100.4375 Q267.5,101.125 267.5,101.9375 Q267.5,103.3125 266.4688,104.1563 Q265.4531,105 263.3438,105 L260.125,105 Z M262.0469,98.6406 L263.2031,98.6406 Q264.3281,98.6406 264.7344,98.2656 Q265.1563,97.875 265.1563,97.25 Q265.1563,96.6719 264.7344,96.3125 Q264.3125,95.9531 263.375,95.9531 L262.0469,95.9531 L262.0469,98.6406 Z M262.0469,103.4219 L263.5469,103.4219 Q264.4531,103.4219 264.9844,103.0313 Q265.5156,102.6406 265.5156,101.8906 Q265.5156,101.125 265.0156,100.6563 Q264.5156,100.1719 263.25,100.1719 L262.0469,100.1719 L262.0469,103.4219 Z \"/><text fill=\"#000000\" font-family=\"sans-serif\" font-size=\"12\" lengthAdjust=\"spacingAndGlyphs\" textLength=\"45\" x=\"277.75\" y=\"104.1543\">Vehicle</text></a></g><g id=\"E1.E5.E6\"><a href=\"psysml:d491d5f9-6d8b-4b1d-a51c-b8388350c517\" target=\"_top\" title=\"psysml:d491d5f9-6d8b-4b1d-a51c-b8388350c517\" xlink:actuate=\"onRequest\" xlink:href=\"psysml:d491d5f9-6d8b-4b1d-a51c-b8388350c517\" xlink:show=\"new\" xlink:title=\"psysml:d491d5f9-6d8b-4b1d-a51c-b8388350c517\" xlink:type=\"simple\"><rect fill=\"#FEFECE\" filter=\"url(#fxsq4udojoqp9)\" height=\"40\" id=\"E6\" rx=\"10\" ry=\"10\" style=\"stroke: #A80036; stroke-width: 1.5;\" width=\"133\" x=\"56.5\" y=\"84\"/><ellipse cx=\"73.75\" cy=\"100\" fill=\"#B6DBBB\" rx=\"11\" ry=\"11\" style=\"stroke: #A80036; stroke-width: 1.0;\"/><path d=\"M73.5,105.4688 Q71.75,105.4688 70.7969,104.4375 Q69.8594,103.3906 69.8594,101.5469 L69.8594,94.6563 L71.9219,94.6563 L71.9219,94.8125 Q71.8281,94.9063 71.7969,95.0469 Q71.7813,95.1719 71.7813,95.4375 L71.7813,101.5625 Q71.7813,102.6563 72.1563,103.2813 Q72.5313,103.9063 73.5156,103.9063 Q74.5,103.9063 74.8906,103.2813 Q75.2813,102.6563 75.2813,101.5156 L75.2813,94.6563 L77.1563,94.6563 L77.1563,101.5 Q77.1563,103.5313 76.125,104.5 Q75.1094,105.4688 73.5,105.4688 Z \"/><text fill=\"#000000\" font-family=\"sans-serif\" font-size=\"12\" lengthAdjust=\"spacingAndGlyphs\" textLength=\"96\" x=\"88.25\" y=\"104.1543\">vehicle: Vehicle</text></a></g><!--MD5=[d834af577c4e3c2edf736ca5e4bf843e]\n",
       "@startuml\r\n",
       "skinparam ranksep 10\r\n",
       "skinparam rectangle {\r\n",
       " backgroundColor<<block>> LightGreen\r\n",
       "}\r\n",
       " \r\n",
       "package \"AliasImport\" as E1  [[psysml:da265157-d0d4-4951-bf22-47d5659e31ef ]]  {\r\n",
       "package \"Definitions\" as E2  [[psysml:2fd87941-b162-4111-8987-3fc5534acf16 ]]  {\r\n",
       "rec def \"Vehicle\" as E3 << << (B,green) >> [[psysml:42326513-c813-4f17-9254-875ba93877ec ]] {\r\n",
       "}\r\n",
       "rec def \"Vehicle\" as E4 << << (B,green) >> [[psysml:42326513-c813-4f17-9254-875ba93877ec ]] {\r\n",
       "}\r\n",
       "}\r\n",
       "package \"Usages\" as E5  [[psysml:e3968260-a676-422f-8ca6-ec1afe8a305b ]]  {\r\n",
       "rec usage \"vehicle: Vehicle\" as E6  [[psysml:d491d5f9-6d8b-4b1d-a51c-b8388350c517 ]] {\r\n",
       "}\r\n",
       "}\r\n",
       "}\r\n",
       "@enduml\r\n",
       "\n",
       "PlantUML version 1.2020.13(Sat Jun 13 12:26:38 UTC 2020)\n",
       "(EPL source distribution)\n",
       "Java Runtime: OpenJDK Runtime Environment\n",
       "JVM: OpenJDK 64-Bit Server VM\n",
       "Default Encoding: UTF-8\n",
       "Language: en\n",
       "Country: null\n",
       "--></g></svg>"
      ]
     },
     "execution_count": 33,
     "metadata": {},
     "output_type": "execute_result"
    }
   ],
   "source": [
    "%viz --style=\"PLANTUML\" --view=\"Interconnection\" \"AliasImport\""
   ]
  },
  {
   "cell_type": "code",
   "execution_count": 34,
   "id": "25070f42",
   "metadata": {
    "execution": {
     "iopub.execute_input": "2021-10-03T08:30:58.277982Z",
     "iopub.status.busy": "2021-10-03T08:30:58.277582Z",
     "iopub.status.idle": "2021-10-03T08:30:58.282739Z",
     "shell.execute_reply": "2021-10-03T08:30:58.282372Z"
    }
   },
   "outputs": [
    {
     "data": {
      "image/svg+xml": [
       "<?xml version=\"1.0\" encoding=\"UTF-8\" standalone=\"no\"?><svg xmlns=\"http://www.w3.org/2000/svg\" xmlns:xlink=\"http://www.w3.org/1999/xlink\" contentScriptType=\"application/ecmascript\" contentStyleType=\"text/css\" height=\"12px\" preserveAspectRatio=\"none\" style=\"width:12px;height:12px;\" version=\"1.1\" viewBox=\"0 0 12 12\" width=\"12px\" zoomAndPan=\"magnify\"><defs/><g><!--MD5=[6a4cb978cab31700e1ce5529f947a75d]\n",
       "@startuml\r\n",
       "skinparam ranksep 8\r\n",
       " \r\n",
       "@enduml\r\n",
       "\n",
       "PlantUML version 1.2020.13(Sat Jun 13 12:26:38 UTC 2020)\n",
       "(EPL source distribution)\n",
       "Java Runtime: OpenJDK Runtime Environment\n",
       "JVM: OpenJDK 64-Bit Server VM\n",
       "Default Encoding: UTF-8\n",
       "Language: en\n",
       "Country: null\n",
       "--></g></svg>"
      ]
     },
     "execution_count": 34,
     "metadata": {},
     "output_type": "execute_result"
    }
   ],
   "source": [
    "%viz --style=\"PLANTUML\" --view=\"Action\" \"AliasImport\""
   ]
  },
  {
   "cell_type": "code",
   "execution_count": 35,
   "id": "93d05ed8",
   "metadata": {
    "execution": {
     "iopub.execute_input": "2021-10-03T08:30:58.332531Z",
     "iopub.status.busy": "2021-10-03T08:30:58.332125Z",
     "iopub.status.idle": "2021-10-03T08:30:58.337765Z",
     "shell.execute_reply": "2021-10-03T08:30:58.337430Z"
    }
   },
   "outputs": [
    {
     "data": {
      "image/svg+xml": [
       "<?xml version=\"1.0\" encoding=\"UTF-8\" standalone=\"no\"?><svg xmlns=\"http://www.w3.org/2000/svg\" xmlns:xlink=\"http://www.w3.org/1999/xlink\" contentScriptType=\"application/ecmascript\" contentStyleType=\"text/css\" height=\"12px\" preserveAspectRatio=\"none\" style=\"width:12px;height:12px;\" version=\"1.1\" viewBox=\"0 0 12 12\" width=\"12px\" zoomAndPan=\"magnify\"><defs/><g><!--MD5=[ca4faa0b02def275ea33c14ea7a1a98d]\n",
       "@startuml\r\n",
       "skinparam roundcorner 20\r\n",
       "skinparam BoxPadding 20\r\n",
       "skinparam SequenceBoxBackgroundColor #white\r\n",
       "skinparam style strictuml\r\n",
       "skinparam maxMessageSize 100\r\n",
       " \r\n",
       "@enduml\r\n",
       "\n",
       "PlantUML version 1.2020.13(Sat Jun 13 12:26:38 UTC 2020)\n",
       "(EPL source distribution)\n",
       "Java Runtime: OpenJDK Runtime Environment\n",
       "JVM: OpenJDK 64-Bit Server VM\n",
       "Default Encoding: UTF-8\n",
       "Language: en\n",
       "Country: null\n",
       "--></g></svg>"
      ]
     },
     "execution_count": 35,
     "metadata": {},
     "output_type": "execute_result"
    }
   ],
   "source": [
    "%viz --style=\"PLANTUML\" --view=\"Sequence\" \"AliasImport\""
   ]
  },
  {
   "cell_type": "code",
   "execution_count": 36,
   "id": "905371b1",
   "metadata": {
    "execution": {
     "iopub.execute_input": "2021-10-03T08:30:58.387502Z",
     "iopub.status.busy": "2021-10-03T08:30:58.387071Z",
     "iopub.status.idle": "2021-10-03T08:30:58.415916Z",
     "shell.execute_reply": "2021-10-03T08:30:58.415546Z"
    }
   },
   "outputs": [
    {
     "data": {
      "image/svg+xml": [
       "<?xml version=\"1.0\" encoding=\"UTF-8\" standalone=\"no\"?><svg xmlns=\"http://www.w3.org/2000/svg\" xmlns:xlink=\"http://www.w3.org/1999/xlink\" contentScriptType=\"application/ecmascript\" contentStyleType=\"text/css\" height=\"297px\" preserveAspectRatio=\"none\" style=\"width:246px;height:297px;\" version=\"1.1\" viewBox=\"0 0 246 297\" width=\"246px\" zoomAndPan=\"magnify\"><defs><filter height=\"300%\" id=\"f1sxu4l70qq9e3\" width=\"300%\" x=\"-1\" y=\"-1\"><feGaussianBlur result=\"blurOut\" stdDeviation=\"2.0\"/><feColorMatrix in=\"blurOut\" result=\"blurOut2\" type=\"matrix\" values=\"0 0 0 0 0 0 0 0 0 0 0 0 0 0 0 0 0 0 .4 0\"/><feOffset dx=\"4.0\" dy=\"4.0\" in=\"blurOut2\" result=\"blurOut3\"/><feBlend in=\"SourceGraphic\" in2=\"blurOut3\" mode=\"normal\"/></filter></defs><g><!--MD5=[fbc87193dbaf4d95561dea2c320d4a47]\n",
       "cluster E1--><a href=\"psysml:da265157-d0d4-4951-bf22-47d5659e31ef\" target=\"_top\" title=\"psysml:da265157-d0d4-4951-bf22-47d5659e31ef\" xlink:actuate=\"onRequest\" xlink:href=\"psysml:da265157-d0d4-4951-bf22-47d5659e31ef\" xlink:show=\"new\" xlink:title=\"psysml:da265157-d0d4-4951-bf22-47d5659e31ef\" xlink:type=\"simple\"><polygon fill=\"#FFFFFF\" filter=\"url(#f1sxu4l70qq9e3)\" points=\"16,6,97,6,104,28.2969,224,28.2969,224,285,16,285,16,6\" style=\"stroke: #000000; stroke-width: 1.5;\"/><line style=\"stroke: #000000; stroke-width: 1.5;\" x1=\"16\" x2=\"104\" y1=\"28.2969\" y2=\"28.2969\"/><text fill=\"#000000\" font-family=\"sans-serif\" font-size=\"14\" font-weight=\"bold\" lengthAdjust=\"spacingAndGlyphs\" textLength=\"75\" x=\"20\" y=\"20.9951\">AliasImport</text></a><!--MD5=[e4f7fae6ed58524ba242bb0b0d3be6b7]\n",
       "cluster E2--><a href=\"psysml:2fd87941-b162-4111-8987-3fc5534acf16\" target=\"_top\" title=\"psysml:2fd87941-b162-4111-8987-3fc5534acf16\" xlink:actuate=\"onRequest\" xlink:href=\"psysml:2fd87941-b162-4111-8987-3fc5534acf16\" xlink:show=\"new\" xlink:title=\"psysml:2fd87941-b162-4111-8987-3fc5534acf16\" xlink:type=\"simple\"><polygon fill=\"#FFFFFF\" filter=\"url(#f1sxu4l70qq9e3)\" points=\"65,170,144,170,151,192.2969,175,192.2969,175,261,65,261,65,170\" style=\"stroke: #000000; stroke-width: 1.5;\"/><line style=\"stroke: #000000; stroke-width: 1.5;\" x1=\"65\" x2=\"151\" y1=\"192.2969\" y2=\"192.2969\"/><text fill=\"#000000\" font-family=\"sans-serif\" font-size=\"14\" font-weight=\"bold\" lengthAdjust=\"spacingAndGlyphs\" textLength=\"73\" x=\"69\" y=\"184.9951\">Definitions</text></a><!--MD5=[f6df4d0ebaf0b5dfb2ced0ae5af7c670]\n",
       "cluster E4--><a href=\"psysml:e3968260-a676-422f-8ca6-ec1afe8a305b\" target=\"_top\" title=\"psysml:e3968260-a676-422f-8ca6-ec1afe8a305b\" xlink:actuate=\"onRequest\" xlink:href=\"psysml:e3968260-a676-422f-8ca6-ec1afe8a305b\" xlink:show=\"new\" xlink:title=\"psysml:e3968260-a676-422f-8ca6-ec1afe8a305b\" xlink:type=\"simple\"><polygon fill=\"#FFFFFF\" filter=\"url(#f1sxu4l70qq9e3)\" points=\"40,49,98,49,105,71.2969,200,71.2969,200,146,40,146,40,49\" style=\"stroke: #000000; stroke-width: 1.5;\"/><line style=\"stroke: #000000; stroke-width: 1.5;\" x1=\"40\" x2=\"105\" y1=\"71.2969\" y2=\"71.2969\"/><text fill=\"#000000\" font-family=\"sans-serif\" font-size=\"14\" font-weight=\"bold\" lengthAdjust=\"spacingAndGlyphs\" textLength=\"52\" x=\"44\" y=\"63.9951\">Usages</text></a><!--MD5=[09b614a08d8cba4a07c9adeb5e0fee81]\n",
       "class E3--><a href=\"psysml:42326513-c813-4f17-9254-875ba93877ec\" target=\"_top\" title=\"psysml:42326513-c813-4f17-9254-875ba93877ec\" xlink:actuate=\"onRequest\" xlink:href=\"psysml:42326513-c813-4f17-9254-875ba93877ec\" xlink:show=\"new\" xlink:title=\"psysml:42326513-c813-4f17-9254-875ba93877ec\" xlink:type=\"simple\"><rect fill=\"#FEFECE\" filter=\"url(#f1sxu4l70qq9e3)\" height=\"40\" id=\"E3\" style=\"stroke: #A80036; stroke-width: 1.5;\" width=\"77\" x=\"81.5\" y=\"205\"/><ellipse cx=\"96.5\" cy=\"221\" fill=\"#008000\" rx=\"11\" ry=\"11\" style=\"stroke: #A80036; stroke-width: 1.0;\"/><path d=\"M93.375,226 L93.375,215.4063 L96.6094,215.4063 Q98.5156,215.4063 99.4219,216.1563 Q100.3438,216.9063 100.3438,218.0781 Q100.3438,218.7656 99.9531,219.4219 Q99.5781,220.0781 98.8594,220.375 Q99.7188,220.75 100.2344,221.4375 Q100.75,222.125 100.75,222.9375 Q100.75,224.3125 99.7188,225.1563 Q98.7031,226 96.5938,226 L93.375,226 Z M95.2969,219.6406 L96.4531,219.6406 Q97.5781,219.6406 97.9844,219.2656 Q98.4063,218.875 98.4063,218.25 Q98.4063,217.6719 97.9844,217.3125 Q97.5625,216.9531 96.625,216.9531 L95.2969,216.9531 L95.2969,219.6406 Z M95.2969,224.4219 L96.7969,224.4219 Q97.7031,224.4219 98.2344,224.0313 Q98.7656,223.6406 98.7656,222.8906 Q98.7656,222.125 98.2656,221.6563 Q97.7656,221.1719 96.5,221.1719 L95.2969,221.1719 L95.2969,224.4219 Z \"/><text fill=\"#000000\" font-family=\"sans-serif\" font-size=\"12\" lengthAdjust=\"spacingAndGlyphs\" textLength=\"45\" x=\"110.5\" y=\"225.1543\">Vehicle</text><line style=\"stroke: #A80036; stroke-width: 1.5;\" x1=\"82.5\" x2=\"157.5\" y1=\"237\" y2=\"237\"/></a><!--MD5=[270fce915f116d4de14055a7c1d9a0f3]\n",
       "class E5--><a href=\"psysml:d491d5f9-6d8b-4b1d-a51c-b8388350c517\" target=\"_top\" title=\"psysml:d491d5f9-6d8b-4b1d-a51c-b8388350c517\" xlink:actuate=\"onRequest\" xlink:href=\"psysml:d491d5f9-6d8b-4b1d-a51c-b8388350c517\" xlink:show=\"new\" xlink:title=\"psysml:d491d5f9-6d8b-4b1d-a51c-b8388350c517\" xlink:type=\"simple\"><rect fill=\"#FEFECE\" filter=\"url(#f1sxu4l70qq9e3)\" height=\"45.9375\" id=\"E5\" rx=\"10\" ry=\"10\" style=\"stroke: #A80036; stroke-width: 1.5;\" width=\"128\" x=\"56\" y=\"84\"/><ellipse cx=\"71\" cy=\"102.9688\" fill=\"#32CD32\" rx=\"11\" ry=\"11\" style=\"stroke: #A80036; stroke-width: 1.0;\"/><path d=\"M67.8125,107.9688 L67.8125,97.375 L71.4219,97.375 Q72.6406,97.375 73.4375,97.8125 Q74.2344,98.2344 74.6094,98.9375 Q75,99.6406 75,100.4844 Q75,101.3281 74.625,102.0156 Q74.2656,102.7031 73.4688,103.125 Q72.6875,103.5313 71.5,103.5313 L69.7656,103.5313 L69.7656,107.9688 L67.8125,107.9688 Z M69.7656,101.9375 L71.375,101.9375 Q72.1875,101.9375 72.6094,101.5313 Q73.0313,101.125 73.0313,100.4844 Q73.0313,99.8594 72.6094,99.4531 Q72.1875,99.0469 71.3906,99.0469 L69.7656,99.0469 L69.7656,101.9375 Z \"/><text fill=\"#000000\" font-family=\"sans-serif\" font-size=\"12\" font-style=\"italic\" lengthAdjust=\"spacingAndGlyphs\" textLength=\"40\" x=\"113\" y=\"100.1387\">«part»</text><text fill=\"#000000\" font-family=\"sans-serif\" font-size=\"12\" lengthAdjust=\"spacingAndGlyphs\" textLength=\"96\" x=\"85\" y=\"114.1074\">vehicle: Vehicle</text><line style=\"stroke: #A80036; stroke-width: 1.5;\" x1=\"57\" x2=\"183\" y1=\"121.9375\" y2=\"121.9375\"/></a><!--MD5=[e9be52314489bd878ff4c7144b63c9e1]\n",
       "link E5 to E3--><a href=\"psysml:c9bd4828-45e6-4eb9-80eb-81bfe8e91163\" target=\"_top\" title=\"psysml:c9bd4828-45e6-4eb9-80eb-81bfe8e91163\" xlink:actuate=\"onRequest\" xlink:href=\"psysml:c9bd4828-45e6-4eb9-80eb-81bfe8e91163\" xlink:show=\"new\" xlink:title=\"psysml:c9bd4828-45e6-4eb9-80eb-81bfe8e91163\" xlink:type=\"simple\"><path d=\"M120,130.09 C120,145.42 120,166.27 120,184.42 \" fill=\"none\" id=\"E5-&gt;E3\" style=\"stroke: #A80036; stroke-width: 1.0;\"/><polygon fill=\"#FFFFFF\" points=\"120,204.69,113,185.69,127,185.69,120,204.69\" style=\"stroke: #A80036; stroke-width: 1.0;\"/><ellipse cx=\"115\" cy=\"179.99\" fill=\"#A80036\" rx=\"2\" ry=\"2\" style=\"stroke: #A80036; stroke-width: 1.0;\"/><ellipse cx=\"125\" cy=\"179.99\" fill=\"#A80036\" rx=\"2\" ry=\"2\" style=\"stroke: #A80036; stroke-width: 1.0;\"/></a><!--MD5=[7652e7a1953e68dbf1c0497d0dee7dae]\n",
       "@startuml\r\n",
       " \r\n",
       "package \"AliasImport\" as E1  [[psysml:da265157-d0d4-4951-bf22-47d5659e31ef ]]  {\r\n",
       "package \"Definitions\" as E2  [[psysml:2fd87941-b162-4111-8987-3fc5534acf16 ]]  {\r\n",
       "comp def \"Vehicle\" as E3 << << (B,green) >> [[psysml:42326513-c813-4f17-9254-875ba93877ec ]] {\r\n",
       "}\r\n",
       "}\r\n",
       "package \"Usages\" as E4  [[psysml:e3968260-a676-422f-8ca6-ec1afe8a305b ]]  {\r\n",
       "comp usage \"vehicle: Vehicle\" as E5 << << (P,limegreen) part>> [[psysml:d491d5f9-6d8b-4b1d-a51c-b8388350c517 ]] {\r\n",
       "}\r\n",
       "}\r\n",
       "}\r\n",
       "E5 - -:|> E3 [[psysml:c9bd4828-45e6-4eb9-80eb-81bfe8e91163 ]] \r\n",
       "@enduml\r\n",
       "\n",
       "PlantUML version 1.2020.13(Sat Jun 13 12:26:38 UTC 2020)\n",
       "(EPL source distribution)\n",
       "Java Runtime: OpenJDK Runtime Environment\n",
       "JVM: OpenJDK 64-Bit Server VM\n",
       "Default Encoding: UTF-8\n",
       "Language: en\n",
       "Country: null\n",
       "--></g></svg>"
      ]
     },
     "execution_count": 36,
     "metadata": {},
     "output_type": "execute_result"
    }
   ],
   "source": [
    "%viz --style=\"PLANTUML\" --view=\"MIXED\" \"AliasImport\""
   ]
  },
  {
   "cell_type": "code",
   "execution_count": 37,
   "id": "81f648aa",
   "metadata": {
    "execution": {
     "iopub.execute_input": "2021-10-03T08:30:58.465119Z",
     "iopub.status.busy": "2021-10-03T08:30:58.464705Z",
     "iopub.status.idle": "2021-10-03T08:30:58.490799Z",
     "shell.execute_reply": "2021-10-03T08:30:58.490437Z"
    }
   },
   "outputs": [
    {
     "data": {
      "image/svg+xml": [
       "<?xml version=\"1.0\" encoding=\"UTF-8\" standalone=\"no\"?><svg xmlns=\"http://www.w3.org/2000/svg\" xmlns:xlink=\"http://www.w3.org/1999/xlink\" contentScriptType=\"application/ecmascript\" contentStyleType=\"text/css\" height=\"303px\" preserveAspectRatio=\"none\" style=\"width:220px;height:303px;\" version=\"1.1\" viewBox=\"0 0 220 303\" width=\"220px\" zoomAndPan=\"magnify\"><defs/><g><!--MD5=[fbc87193dbaf4d95561dea2c320d4a47]\n",
       "cluster E1--><a href=\"psysml:da265157-d0d4-4951-bf22-47d5659e31ef\" target=\"_top\" title=\"psysml:da265157-d0d4-4951-bf22-47d5659e31ef\" xlink:actuate=\"onRequest\" xlink:href=\"psysml:da265157-d0d4-4951-bf22-47d5659e31ef\" xlink:show=\"new\" xlink:title=\"psysml:da265157-d0d4-4951-bf22-47d5659e31ef\" xlink:type=\"simple\"><polygon fill=\"#FFFFFF\" points=\"16,6,97,6,104,28.2969,198,28.2969,198,291,16,291,16,6\" style=\"stroke: #000000; stroke-width: 1.5;\"/><line style=\"stroke: #000000; stroke-width: 1.5;\" x1=\"16\" x2=\"104\" y1=\"28.2969\" y2=\"28.2969\"/><text fill=\"#000000\" font-family=\"sans-serif\" font-size=\"14\" font-weight=\"bold\" lengthAdjust=\"spacingAndGlyphs\" textLength=\"75\" x=\"20\" y=\"20.9951\">AliasImport</text></a><!--MD5=[e4f7fae6ed58524ba242bb0b0d3be6b7]\n",
       "cluster E2--><a href=\"psysml:2fd87941-b162-4111-8987-3fc5534acf16\" target=\"_top\" title=\"psysml:2fd87941-b162-4111-8987-3fc5534acf16\" xlink:actuate=\"onRequest\" xlink:href=\"psysml:2fd87941-b162-4111-8987-3fc5534acf16\" xlink:show=\"new\" xlink:title=\"psysml:2fd87941-b162-4111-8987-3fc5534acf16\" xlink:type=\"simple\"><polygon fill=\"#FFFFFF\" points=\"58,170,137,170,144,192.2969,156,192.2969,156,267,58,267,58,170\" style=\"stroke: #000000; stroke-width: 1.5;\"/><line style=\"stroke: #000000; stroke-width: 1.5;\" x1=\"58\" x2=\"144\" y1=\"192.2969\" y2=\"192.2969\"/><text fill=\"#000000\" font-family=\"sans-serif\" font-size=\"14\" font-weight=\"bold\" lengthAdjust=\"spacingAndGlyphs\" textLength=\"73\" x=\"62\" y=\"184.9951\">Definitions</text></a><!--MD5=[f6df4d0ebaf0b5dfb2ced0ae5af7c670]\n",
       "cluster E4--><a href=\"psysml:e3968260-a676-422f-8ca6-ec1afe8a305b\" target=\"_top\" title=\"psysml:e3968260-a676-422f-8ca6-ec1afe8a305b\" xlink:actuate=\"onRequest\" xlink:href=\"psysml:e3968260-a676-422f-8ca6-ec1afe8a305b\" xlink:show=\"new\" xlink:title=\"psysml:e3968260-a676-422f-8ca6-ec1afe8a305b\" xlink:type=\"simple\"><polygon fill=\"#FFFFFF\" points=\"40,49,98,49,105,71.2969,174,71.2969,174,146,40,146,40,49\" style=\"stroke: #000000; stroke-width: 1.5;\"/><line style=\"stroke: #000000; stroke-width: 1.5;\" x1=\"40\" x2=\"105\" y1=\"71.2969\" y2=\"71.2969\"/><text fill=\"#000000\" font-family=\"sans-serif\" font-size=\"14\" font-weight=\"bold\" lengthAdjust=\"spacingAndGlyphs\" textLength=\"52\" x=\"44\" y=\"63.9951\">Usages</text></a><!--MD5=[09b614a08d8cba4a07c9adeb5e0fee81]\n",
       "class E3--><a href=\"psysml:42326513-c813-4f17-9254-875ba93877ec\" target=\"_top\" title=\"psysml:42326513-c813-4f17-9254-875ba93877ec\" xlink:actuate=\"onRequest\" xlink:href=\"psysml:42326513-c813-4f17-9254-875ba93877ec\" xlink:show=\"new\" xlink:title=\"psysml:42326513-c813-4f17-9254-875ba93877ec\" xlink:type=\"simple\"><rect fill=\"#FFFFFF\" height=\"45.9375\" id=\"E3\" style=\"stroke: #383838; stroke-width: 1.5;\" width=\"66\" x=\"74\" y=\"205\"/><text fill=\"#000000\" font-family=\"sans-serif\" font-size=\"12\" font-style=\"italic\" lengthAdjust=\"spacingAndGlyphs\" textLength=\"64\" x=\"75\" y=\"221.1387\">«part def»</text><text fill=\"#000000\" font-family=\"sans-serif\" font-size=\"12\" lengthAdjust=\"spacingAndGlyphs\" textLength=\"45\" x=\"84.5\" y=\"235.1074\">Vehicle</text><line style=\"stroke: #383838; stroke-width: 1.5;\" x1=\"75\" x2=\"139\" y1=\"242.9375\" y2=\"242.9375\"/></a><!--MD5=[270fce915f116d4de14055a7c1d9a0f3]\n",
       "class E5--><a href=\"psysml:d491d5f9-6d8b-4b1d-a51c-b8388350c517\" target=\"_top\" title=\"psysml:d491d5f9-6d8b-4b1d-a51c-b8388350c517\" xlink:actuate=\"onRequest\" xlink:href=\"psysml:d491d5f9-6d8b-4b1d-a51c-b8388350c517\" xlink:show=\"new\" xlink:title=\"psysml:d491d5f9-6d8b-4b1d-a51c-b8388350c517\" xlink:type=\"simple\"><rect fill=\"#FFFFFF\" height=\"45.9375\" id=\"E5\" rx=\"10\" ry=\"10\" style=\"stroke: #383838; stroke-width: 1.5;\" width=\"102\" x=\"56\" y=\"84\"/><text fill=\"#000000\" font-family=\"sans-serif\" font-size=\"12\" font-style=\"italic\" lengthAdjust=\"spacingAndGlyphs\" textLength=\"40\" x=\"87\" y=\"100.1387\">«part»</text><text fill=\"#000000\" font-family=\"sans-serif\" font-size=\"12\" lengthAdjust=\"spacingAndGlyphs\" textLength=\"96\" x=\"59\" y=\"114.1074\">vehicle: Vehicle</text><line style=\"stroke: #383838; stroke-width: 1.5;\" x1=\"57\" x2=\"157\" y1=\"121.9375\" y2=\"121.9375\"/></a><!--MD5=[e9be52314489bd878ff4c7144b63c9e1]\n",
       "link E5 to E3--><a href=\"psysml:c9bd4828-45e6-4eb9-80eb-81bfe8e91163\" target=\"_top\" title=\"psysml:c9bd4828-45e6-4eb9-80eb-81bfe8e91163\" xlink:actuate=\"onRequest\" xlink:href=\"psysml:c9bd4828-45e6-4eb9-80eb-81bfe8e91163\" xlink:show=\"new\" xlink:title=\"psysml:c9bd4828-45e6-4eb9-80eb-81bfe8e91163\" xlink:type=\"simple\"><path d=\"M107,130.1 C107,145.37 107,166.16 107,184.57 \" fill=\"none\" id=\"E5-&gt;E3\" style=\"stroke: #383838; stroke-width: 1.0;\"/><polygon fill=\"#FFFFFF\" points=\"107,204.61,100,185.61,114,185.61,107,204.61\" style=\"stroke: #383838; stroke-width: 1.0;\"/><ellipse cx=\"102\" cy=\"179.91\" fill=\"#383838\" rx=\"2\" ry=\"2\" style=\"stroke: #383838; stroke-width: 1.0;\"/><ellipse cx=\"112\" cy=\"179.91\" fill=\"#383838\" rx=\"2\" ry=\"2\" style=\"stroke: #383838; stroke-width: 1.0;\"/></a><!--MD5=[4f5f55ff7f64895e2909ff6e67e04432]\n",
       "@startuml\r\n",
       "skinparam monochrome true\r\n",
       "skinparam classbackgroundcolor white\r\n",
       "skinparam shadowing false\r\n",
       "skinparam wrapWidth 300\r\n",
       "hide circle\r\n",
       "\r\n",
       "package \"AliasImport\" as E1  [[psysml:da265157-d0d4-4951-bf22-47d5659e31ef ]]  {\r\n",
       "package \"Definitions\" as E2  [[psysml:2fd87941-b162-4111-8987-3fc5534acf16 ]]  {\r\n",
       "comp def \"Vehicle\" as E3  <<(T,blue) part def>> [[psysml:42326513-c813-4f17-9254-875ba93877ec ]] {\r\n",
       "}\r\n",
       "}\r\n",
       "package \"Usages\" as E4  [[psysml:e3968260-a676-422f-8ca6-ec1afe8a305b ]]  {\r\n",
       "comp usage \"vehicle: Vehicle\" as E5  <<(T,blue) part>> [[psysml:d491d5f9-6d8b-4b1d-a51c-b8388350c517 ]] {\r\n",
       "}\r\n",
       "}\r\n",
       "}\r\n",
       "E5 - -:|> E3 [[psysml:c9bd4828-45e6-4eb9-80eb-81bfe8e91163 ]] \r\n",
       "@enduml\r\n",
       "\n",
       "PlantUML version 1.2020.13(Sat Jun 13 12:26:38 UTC 2020)\n",
       "(EPL source distribution)\n",
       "Java Runtime: OpenJDK Runtime Environment\n",
       "JVM: OpenJDK 64-Bit Server VM\n",
       "Default Encoding: UTF-8\n",
       "Language: en\n",
       "Country: null\n",
       "--></g></svg>"
      ]
     },
     "execution_count": 37,
     "metadata": {},
     "output_type": "execute_result"
    }
   ],
   "source": [
    "%viz --style=\"DEFAULT\" --view=\"Default\" \"AliasImport\""
   ]
  },
  {
   "cell_type": "code",
   "execution_count": 38,
   "id": "410dfc0e",
   "metadata": {
    "execution": {
     "iopub.execute_input": "2021-10-03T08:30:58.540045Z",
     "iopub.status.busy": "2021-10-03T08:30:58.539629Z",
     "iopub.status.idle": "2021-10-03T08:30:58.566807Z",
     "shell.execute_reply": "2021-10-03T08:30:58.566449Z"
    }
   },
   "outputs": [
    {
     "data": {
      "image/svg+xml": [
       "<?xml version=\"1.0\" encoding=\"UTF-8\" standalone=\"no\"?><svg xmlns=\"http://www.w3.org/2000/svg\" xmlns:xlink=\"http://www.w3.org/1999/xlink\" contentScriptType=\"application/ecmascript\" contentStyleType=\"text/css\" height=\"303px\" preserveAspectRatio=\"none\" style=\"width:220px;height:303px;\" version=\"1.1\" viewBox=\"0 0 220 303\" width=\"220px\" zoomAndPan=\"magnify\"><defs/><g><!--MD5=[fbc87193dbaf4d95561dea2c320d4a47]\n",
       "cluster E1--><a href=\"psysml:da265157-d0d4-4951-bf22-47d5659e31ef\" target=\"_top\" title=\"psysml:da265157-d0d4-4951-bf22-47d5659e31ef\" xlink:actuate=\"onRequest\" xlink:href=\"psysml:da265157-d0d4-4951-bf22-47d5659e31ef\" xlink:show=\"new\" xlink:title=\"psysml:da265157-d0d4-4951-bf22-47d5659e31ef\" xlink:type=\"simple\"><polygon fill=\"#FFFFFF\" points=\"16,6,97,6,104,28.2969,198,28.2969,198,291,16,291,16,6\" style=\"stroke: #000000; stroke-width: 1.5;\"/><line style=\"stroke: #000000; stroke-width: 1.5;\" x1=\"16\" x2=\"104\" y1=\"28.2969\" y2=\"28.2969\"/><text fill=\"#000000\" font-family=\"sans-serif\" font-size=\"14\" font-weight=\"bold\" lengthAdjust=\"spacingAndGlyphs\" textLength=\"75\" x=\"20\" y=\"20.9951\">AliasImport</text></a><!--MD5=[e4f7fae6ed58524ba242bb0b0d3be6b7]\n",
       "cluster E2--><a href=\"psysml:2fd87941-b162-4111-8987-3fc5534acf16\" target=\"_top\" title=\"psysml:2fd87941-b162-4111-8987-3fc5534acf16\" xlink:actuate=\"onRequest\" xlink:href=\"psysml:2fd87941-b162-4111-8987-3fc5534acf16\" xlink:show=\"new\" xlink:title=\"psysml:2fd87941-b162-4111-8987-3fc5534acf16\" xlink:type=\"simple\"><polygon fill=\"#FFFFFF\" points=\"58,170,137,170,144,192.2969,156,192.2969,156,267,58,267,58,170\" style=\"stroke: #000000; stroke-width: 1.5;\"/><line style=\"stroke: #000000; stroke-width: 1.5;\" x1=\"58\" x2=\"144\" y1=\"192.2969\" y2=\"192.2969\"/><text fill=\"#000000\" font-family=\"sans-serif\" font-size=\"14\" font-weight=\"bold\" lengthAdjust=\"spacingAndGlyphs\" textLength=\"73\" x=\"62\" y=\"184.9951\">Definitions</text></a><!--MD5=[f6df4d0ebaf0b5dfb2ced0ae5af7c670]\n",
       "cluster E4--><a href=\"psysml:e3968260-a676-422f-8ca6-ec1afe8a305b\" target=\"_top\" title=\"psysml:e3968260-a676-422f-8ca6-ec1afe8a305b\" xlink:actuate=\"onRequest\" xlink:href=\"psysml:e3968260-a676-422f-8ca6-ec1afe8a305b\" xlink:show=\"new\" xlink:title=\"psysml:e3968260-a676-422f-8ca6-ec1afe8a305b\" xlink:type=\"simple\"><polygon fill=\"#FFFFFF\" points=\"40,49,98,49,105,71.2969,174,71.2969,174,146,40,146,40,49\" style=\"stroke: #000000; stroke-width: 1.5;\"/><line style=\"stroke: #000000; stroke-width: 1.5;\" x1=\"40\" x2=\"105\" y1=\"71.2969\" y2=\"71.2969\"/><text fill=\"#000000\" font-family=\"sans-serif\" font-size=\"14\" font-weight=\"bold\" lengthAdjust=\"spacingAndGlyphs\" textLength=\"52\" x=\"44\" y=\"63.9951\">Usages</text></a><!--MD5=[09b614a08d8cba4a07c9adeb5e0fee81]\n",
       "class E3--><a href=\"psysml:42326513-c813-4f17-9254-875ba93877ec\" target=\"_top\" title=\"psysml:42326513-c813-4f17-9254-875ba93877ec\" xlink:actuate=\"onRequest\" xlink:href=\"psysml:42326513-c813-4f17-9254-875ba93877ec\" xlink:show=\"new\" xlink:title=\"psysml:42326513-c813-4f17-9254-875ba93877ec\" xlink:type=\"simple\"><rect fill=\"#FFFFFF\" height=\"45.9375\" id=\"E3\" style=\"stroke: #383838; stroke-width: 1.5;\" width=\"66\" x=\"74\" y=\"205\"/><text fill=\"#000000\" font-family=\"sans-serif\" font-size=\"12\" font-style=\"italic\" lengthAdjust=\"spacingAndGlyphs\" textLength=\"64\" x=\"75\" y=\"221.1387\">«part def»</text><text fill=\"#000000\" font-family=\"sans-serif\" font-size=\"12\" lengthAdjust=\"spacingAndGlyphs\" textLength=\"45\" x=\"84.5\" y=\"235.1074\">Vehicle</text><line style=\"stroke: #383838; stroke-width: 1.5;\" x1=\"75\" x2=\"139\" y1=\"242.9375\" y2=\"242.9375\"/></a><!--MD5=[270fce915f116d4de14055a7c1d9a0f3]\n",
       "class E5--><a href=\"psysml:d491d5f9-6d8b-4b1d-a51c-b8388350c517\" target=\"_top\" title=\"psysml:d491d5f9-6d8b-4b1d-a51c-b8388350c517\" xlink:actuate=\"onRequest\" xlink:href=\"psysml:d491d5f9-6d8b-4b1d-a51c-b8388350c517\" xlink:show=\"new\" xlink:title=\"psysml:d491d5f9-6d8b-4b1d-a51c-b8388350c517\" xlink:type=\"simple\"><rect fill=\"#FFFFFF\" height=\"45.9375\" id=\"E5\" rx=\"10\" ry=\"10\" style=\"stroke: #383838; stroke-width: 1.5;\" width=\"102\" x=\"56\" y=\"84\"/><text fill=\"#000000\" font-family=\"sans-serif\" font-size=\"12\" font-style=\"italic\" lengthAdjust=\"spacingAndGlyphs\" textLength=\"40\" x=\"87\" y=\"100.1387\">«part»</text><text fill=\"#000000\" font-family=\"sans-serif\" font-size=\"12\" lengthAdjust=\"spacingAndGlyphs\" textLength=\"96\" x=\"59\" y=\"114.1074\">vehicle: Vehicle</text><line style=\"stroke: #383838; stroke-width: 1.5;\" x1=\"57\" x2=\"157\" y1=\"121.9375\" y2=\"121.9375\"/></a><!--MD5=[e9be52314489bd878ff4c7144b63c9e1]\n",
       "link E5 to E3--><a href=\"psysml:c9bd4828-45e6-4eb9-80eb-81bfe8e91163\" target=\"_top\" title=\"psysml:c9bd4828-45e6-4eb9-80eb-81bfe8e91163\" xlink:actuate=\"onRequest\" xlink:href=\"psysml:c9bd4828-45e6-4eb9-80eb-81bfe8e91163\" xlink:show=\"new\" xlink:title=\"psysml:c9bd4828-45e6-4eb9-80eb-81bfe8e91163\" xlink:type=\"simple\"><path d=\"M107,130.1 C107,145.37 107,166.16 107,184.57 \" fill=\"none\" id=\"E5-&gt;E3\" style=\"stroke: #383838; stroke-width: 1.0;\"/><polygon fill=\"#FFFFFF\" points=\"107,204.61,100,185.61,114,185.61,107,204.61\" style=\"stroke: #383838; stroke-width: 1.0;\"/><ellipse cx=\"102\" cy=\"179.91\" fill=\"#383838\" rx=\"2\" ry=\"2\" style=\"stroke: #383838; stroke-width: 1.0;\"/><ellipse cx=\"112\" cy=\"179.91\" fill=\"#383838\" rx=\"2\" ry=\"2\" style=\"stroke: #383838; stroke-width: 1.0;\"/></a><!--MD5=[4f5f55ff7f64895e2909ff6e67e04432]\n",
       "@startuml\r\n",
       "skinparam monochrome true\r\n",
       "skinparam classbackgroundcolor white\r\n",
       "skinparam shadowing false\r\n",
       "skinparam wrapWidth 300\r\n",
       "hide circle\r\n",
       "\r\n",
       "package \"AliasImport\" as E1  [[psysml:da265157-d0d4-4951-bf22-47d5659e31ef ]]  {\r\n",
       "package \"Definitions\" as E2  [[psysml:2fd87941-b162-4111-8987-3fc5534acf16 ]]  {\r\n",
       "comp def \"Vehicle\" as E3  <<(T,blue) part def>> [[psysml:42326513-c813-4f17-9254-875ba93877ec ]] {\r\n",
       "}\r\n",
       "}\r\n",
       "package \"Usages\" as E4  [[psysml:e3968260-a676-422f-8ca6-ec1afe8a305b ]]  {\r\n",
       "comp usage \"vehicle: Vehicle\" as E5  <<(T,blue) part>> [[psysml:d491d5f9-6d8b-4b1d-a51c-b8388350c517 ]] {\r\n",
       "}\r\n",
       "}\r\n",
       "}\r\n",
       "E5 - -:|> E3 [[psysml:c9bd4828-45e6-4eb9-80eb-81bfe8e91163 ]] \r\n",
       "@enduml\r\n",
       "\n",
       "PlantUML version 1.2020.13(Sat Jun 13 12:26:38 UTC 2020)\n",
       "(EPL source distribution)\n",
       "Java Runtime: OpenJDK Runtime Environment\n",
       "JVM: OpenJDK 64-Bit Server VM\n",
       "Default Encoding: UTF-8\n",
       "Language: en\n",
       "Country: null\n",
       "--></g></svg>"
      ]
     },
     "execution_count": 38,
     "metadata": {},
     "output_type": "execute_result"
    }
   ],
   "source": [
    "%viz --style=\"DEFAULT\" --view=\"Tree\" \"AliasImport\""
   ]
  },
  {
   "cell_type": "code",
   "execution_count": 39,
   "id": "b783170f",
   "metadata": {
    "execution": {
     "iopub.execute_input": "2021-10-03T08:30:58.616113Z",
     "iopub.status.busy": "2021-10-03T08:30:58.615701Z",
     "iopub.status.idle": "2021-10-03T08:30:58.620554Z",
     "shell.execute_reply": "2021-10-03T08:30:58.620224Z"
    }
   },
   "outputs": [
    {
     "data": {
      "image/svg+xml": [
       "<?xml version=\"1.0\" encoding=\"UTF-8\" standalone=\"no\"?><svg xmlns=\"http://www.w3.org/2000/svg\" xmlns:xlink=\"http://www.w3.org/1999/xlink\" contentScriptType=\"application/ecmascript\" contentStyleType=\"text/css\" height=\"12px\" preserveAspectRatio=\"none\" style=\"width:12px;height:12px;\" version=\"1.1\" viewBox=\"0 0 12 12\" width=\"12px\" zoomAndPan=\"magnify\"><defs/><g><!--MD5=[c5f280e076d0d61ccf4b0f27871bda1d]\n",
       "@startuml\r\n",
       "skinparam monochrome true\r\n",
       "skinparam classbackgroundcolor white\r\n",
       "skinparam shadowing false\r\n",
       "skinparam wrapWidth 300\r\n",
       "hide circle\r\n",
       "\r\n",
       "@enduml\r\n",
       "\n",
       "PlantUML version 1.2020.13(Sat Jun 13 12:26:38 UTC 2020)\n",
       "(EPL source distribution)\n",
       "Java Runtime: OpenJDK Runtime Environment\n",
       "JVM: OpenJDK 64-Bit Server VM\n",
       "Default Encoding: UTF-8\n",
       "Language: en\n",
       "Country: null\n",
       "--></g></svg>"
      ]
     },
     "execution_count": 39,
     "metadata": {},
     "output_type": "execute_result"
    }
   ],
   "source": [
    "%viz --style=\"DEFAULT\" --view=\"State\" \"AliasImport\""
   ]
  },
  {
   "cell_type": "code",
   "execution_count": 40,
   "id": "d9f8f720",
   "metadata": {
    "execution": {
     "iopub.execute_input": "2021-10-03T08:30:58.670041Z",
     "iopub.status.busy": "2021-10-03T08:30:58.669640Z",
     "iopub.status.idle": "2021-10-03T08:30:58.696429Z",
     "shell.execute_reply": "2021-10-03T08:30:58.696071Z"
    }
   },
   "outputs": [
    {
     "data": {
      "image/svg+xml": [
       "<?xml version=\"1.0\" encoding=\"UTF-8\" standalone=\"no\"?><svg xmlns=\"http://www.w3.org/2000/svg\" xmlns:xlink=\"http://www.w3.org/1999/xlink\" contentScriptType=\"application/ecmascript\" contentStyleType=\"text/css\" height=\"179px\" preserveAspectRatio=\"none\" style=\"width:458px;height:179px;\" version=\"1.1\" viewBox=\"0 0 458 179\" width=\"458px\" zoomAndPan=\"magnify\"><defs/><g><!--MD5=[fbc87193dbaf4d95561dea2c320d4a47]\n",
       "cluster E1--><a href=\"psysml:da265157-d0d4-4951-bf22-47d5659e31ef\" target=\"_top\" title=\"psysml:da265157-d0d4-4951-bf22-47d5659e31ef\" xlink:actuate=\"onRequest\" xlink:href=\"psysml:da265157-d0d4-4951-bf22-47d5659e31ef\" xlink:show=\"new\" xlink:title=\"psysml:da265157-d0d4-4951-bf22-47d5659e31ef\" xlink:type=\"simple\"><polygon fill=\"#FFFFFF\" points=\"16,6,97,6,104,28.2969,436,28.2969,436,167,16,167,16,6\" style=\"stroke: #000000; stroke-width: 1.5;\"/><line style=\"stroke: #000000; stroke-width: 1.5;\" x1=\"16\" x2=\"104\" y1=\"28.2969\" y2=\"28.2969\"/><text fill=\"#000000\" font-family=\"sans-serif\" font-size=\"14\" font-weight=\"bold\" lengthAdjust=\"spacingAndGlyphs\" textLength=\"75\" x=\"20\" y=\"20.9951\">AliasImport</text></a><!--MD5=[e4f7fae6ed58524ba242bb0b0d3be6b7]\n",
       "cluster E2--><a href=\"psysml:2fd87941-b162-4111-8987-3fc5534acf16\" target=\"_top\" title=\"psysml:2fd87941-b162-4111-8987-3fc5534acf16\" xlink:actuate=\"onRequest\" xlink:href=\"psysml:2fd87941-b162-4111-8987-3fc5534acf16\" xlink:show=\"new\" xlink:title=\"psysml:2fd87941-b162-4111-8987-3fc5534acf16\" xlink:type=\"simple\"><polygon fill=\"#FFFFFF\" points=\"202,49,281,49,288,71.2969,412,71.2969,412,143,202,143,202,49\" style=\"stroke: #000000; stroke-width: 1.5;\"/><line style=\"stroke: #000000; stroke-width: 1.5;\" x1=\"202\" x2=\"288\" y1=\"71.2969\" y2=\"71.2969\"/><text fill=\"#000000\" font-family=\"sans-serif\" font-size=\"14\" font-weight=\"bold\" lengthAdjust=\"spacingAndGlyphs\" textLength=\"73\" x=\"206\" y=\"63.9951\">Definitions</text></a><!--MD5=[de5ec2e2e8f62f467e546659f5068c88]\n",
       "cluster E5--><a href=\"psysml:e3968260-a676-422f-8ca6-ec1afe8a305b\" target=\"_top\" title=\"psysml:e3968260-a676-422f-8ca6-ec1afe8a305b\" xlink:actuate=\"onRequest\" xlink:href=\"psysml:e3968260-a676-422f-8ca6-ec1afe8a305b\" xlink:show=\"new\" xlink:title=\"psysml:e3968260-a676-422f-8ca6-ec1afe8a305b\" xlink:type=\"simple\"><polygon fill=\"#FFFFFF\" points=\"40,50.5,98,50.5,105,72.7969,178,72.7969,178,141.5,40,141.5,40,50.5\" style=\"stroke: #000000; stroke-width: 1.5;\"/><line style=\"stroke: #000000; stroke-width: 1.5;\" x1=\"40\" x2=\"105\" y1=\"72.7969\" y2=\"72.7969\"/><text fill=\"#000000\" font-family=\"sans-serif\" font-size=\"14\" font-weight=\"bold\" lengthAdjust=\"spacingAndGlyphs\" textLength=\"52\" x=\"44\" y=\"65.4951\">Usages</text></a><g id=\"E1.E2.E3\"><a href=\"psysml:42326513-c813-4f17-9254-875ba93877ec\" target=\"_top\" title=\"psysml:42326513-c813-4f17-9254-875ba93877ec\" xlink:actuate=\"onRequest\" xlink:href=\"psysml:42326513-c813-4f17-9254-875ba93877ec\" xlink:show=\"new\" xlink:title=\"psysml:42326513-c813-4f17-9254-875ba93877ec\" xlink:type=\"simple\"><rect fill=\"#FFFFFF\" height=\"42.9375\" id=\"E3\" style=\"stroke: #383838; stroke-width: 1.5;\" width=\"71\" x=\"324.5\" y=\"84\"/><rect fill=\"#F8F8F8\" height=\"37.9375\" style=\"stroke: #383838; stroke-width: 1.5;\" width=\"71\" x=\"324.5\" y=\"84\"/><text fill=\"#000000\" font-family=\"sans-serif\" font-size=\"12\" font-style=\"italic\" lengthAdjust=\"spacingAndGlyphs\" textLength=\"64\" x=\"328\" y=\"100.1387\">«part def»</text><text fill=\"#000000\" font-family=\"sans-serif\" font-size=\"12\" lengthAdjust=\"spacingAndGlyphs\" textLength=\"45\" x=\"337.5\" y=\"114.1074\">Vehicle</text></a></g><g id=\"E1.E2.E4\"><a href=\"psysml:42326513-c813-4f17-9254-875ba93877ec\" target=\"_top\" title=\"psysml:42326513-c813-4f17-9254-875ba93877ec\" xlink:actuate=\"onRequest\" xlink:href=\"psysml:42326513-c813-4f17-9254-875ba93877ec\" xlink:show=\"new\" xlink:title=\"psysml:42326513-c813-4f17-9254-875ba93877ec\" xlink:type=\"simple\"><rect fill=\"#FFFFFF\" height=\"42.9375\" id=\"E4\" style=\"stroke: #383838; stroke-width: 1.5;\" width=\"71\" x=\"218.5\" y=\"84\"/><rect fill=\"#F8F8F8\" height=\"37.9375\" style=\"stroke: #383838; stroke-width: 1.5;\" width=\"71\" x=\"218.5\" y=\"84\"/><text fill=\"#000000\" font-family=\"sans-serif\" font-size=\"12\" font-style=\"italic\" lengthAdjust=\"spacingAndGlyphs\" textLength=\"64\" x=\"222\" y=\"100.1387\">«part def»</text><text fill=\"#000000\" font-family=\"sans-serif\" font-size=\"12\" lengthAdjust=\"spacingAndGlyphs\" textLength=\"45\" x=\"231.5\" y=\"114.1074\">Vehicle</text></a></g><g id=\"E1.E5.E6\"><a href=\"psysml:d491d5f9-6d8b-4b1d-a51c-b8388350c517\" target=\"_top\" title=\"psysml:d491d5f9-6d8b-4b1d-a51c-b8388350c517\" xlink:actuate=\"onRequest\" xlink:href=\"psysml:d491d5f9-6d8b-4b1d-a51c-b8388350c517\" xlink:show=\"new\" xlink:title=\"psysml:d491d5f9-6d8b-4b1d-a51c-b8388350c517\" xlink:type=\"simple\"><rect fill=\"#FFFFFF\" height=\"40\" id=\"E6\" rx=\"10\" ry=\"10\" style=\"stroke: #383838; stroke-width: 1.5;\" width=\"107\" x=\"55.5\" y=\"85.5\"/><rect fill=\"#F8F8F8\" height=\"23.9688\" rx=\"10\" ry=\"10\" style=\"stroke: #F8F8F8; stroke-width: 1.5;\" width=\"107\" x=\"55.5\" y=\"85.5\"/><rect fill=\"#F8F8F8\" height=\"10\" style=\"stroke: #F8F8F8; stroke-width: 1.5;\" width=\"107\" x=\"55.5\" y=\"99.4688\"/><rect fill=\"none\" height=\"40\" id=\"E6\" rx=\"10\" ry=\"10\" style=\"stroke: #383838; stroke-width: 1.5;\" width=\"107\" x=\"55.5\" y=\"85.5\"/><text fill=\"#000000\" font-family=\"sans-serif\" font-size=\"12\" lengthAdjust=\"spacingAndGlyphs\" textLength=\"96\" x=\"61\" y=\"101.6387\">vehicle: Vehicle</text></a></g><!--MD5=[814fcc47ad11ff0946ce94f5e66a18f7]\n",
       "@startuml\r\n",
       "skinparam ranksep 10\r\n",
       "skinparam rectangle {\r\n",
       " backgroundColor<<block>> LightGreen\r\n",
       "}\r\n",
       "skinparam monochrome true\r\n",
       "skinparam classbackgroundcolor white\r\n",
       "skinparam shadowing false\r\n",
       "skinparam wrapWidth 300\r\n",
       "hide circle\r\n",
       "\r\n",
       "package \"AliasImport\" as E1  [[psysml:da265157-d0d4-4951-bf22-47d5659e31ef ]]  {\r\n",
       "package \"Definitions\" as E2  [[psysml:2fd87941-b162-4111-8987-3fc5534acf16 ]]  {\r\n",
       "rec def \"Vehicle\" as E3  <<(T,blue) part def>> [[psysml:42326513-c813-4f17-9254-875ba93877ec ]] {\r\n",
       "}\r\n",
       "rec def \"Vehicle\" as E4  <<(T,blue) part def>> [[psysml:42326513-c813-4f17-9254-875ba93877ec ]] {\r\n",
       "}\r\n",
       "}\r\n",
       "package \"Usages\" as E5  [[psysml:e3968260-a676-422f-8ca6-ec1afe8a305b ]]  {\r\n",
       "rec usage \"vehicle: Vehicle\" as E6  [[psysml:d491d5f9-6d8b-4b1d-a51c-b8388350c517 ]] {\r\n",
       "}\r\n",
       "}\r\n",
       "}\r\n",
       "@enduml\r\n",
       "\n",
       "PlantUML version 1.2020.13(Sat Jun 13 12:26:38 UTC 2020)\n",
       "(EPL source distribution)\n",
       "Java Runtime: OpenJDK Runtime Environment\n",
       "JVM: OpenJDK 64-Bit Server VM\n",
       "Default Encoding: UTF-8\n",
       "Language: en\n",
       "Country: null\n",
       "--></g></svg>"
      ]
     },
     "execution_count": 40,
     "metadata": {},
     "output_type": "execute_result"
    }
   ],
   "source": [
    "%viz --style=\"DEFAULT\" --view=\"Interconnection\" \"AliasImport\""
   ]
  },
  {
   "cell_type": "code",
   "execution_count": 41,
   "id": "aefd5b91",
   "metadata": {
    "execution": {
     "iopub.execute_input": "2021-10-03T08:30:58.745595Z",
     "iopub.status.busy": "2021-10-03T08:30:58.745197Z",
     "iopub.status.idle": "2021-10-03T08:30:58.750096Z",
     "shell.execute_reply": "2021-10-03T08:30:58.749763Z"
    }
   },
   "outputs": [
    {
     "data": {
      "image/svg+xml": [
       "<?xml version=\"1.0\" encoding=\"UTF-8\" standalone=\"no\"?><svg xmlns=\"http://www.w3.org/2000/svg\" xmlns:xlink=\"http://www.w3.org/1999/xlink\" contentScriptType=\"application/ecmascript\" contentStyleType=\"text/css\" height=\"12px\" preserveAspectRatio=\"none\" style=\"width:12px;height:12px;\" version=\"1.1\" viewBox=\"0 0 12 12\" width=\"12px\" zoomAndPan=\"magnify\"><defs/><g><!--MD5=[388f21188e31bfdd97050473b19af356]\n",
       "@startuml\r\n",
       "skinparam ranksep 8\r\n",
       "skinparam monochrome true\r\n",
       "skinparam classbackgroundcolor white\r\n",
       "skinparam shadowing false\r\n",
       "skinparam wrapWidth 300\r\n",
       "hide circle\r\n",
       "\r\n",
       "@enduml\r\n",
       "\n",
       "PlantUML version 1.2020.13(Sat Jun 13 12:26:38 UTC 2020)\n",
       "(EPL source distribution)\n",
       "Java Runtime: OpenJDK Runtime Environment\n",
       "JVM: OpenJDK 64-Bit Server VM\n",
       "Default Encoding: UTF-8\n",
       "Language: en\n",
       "Country: null\n",
       "--></g></svg>"
      ]
     },
     "execution_count": 41,
     "metadata": {},
     "output_type": "execute_result"
    }
   ],
   "source": [
    "%viz --style=\"DEFAULT\" --view=\"Action\" \"AliasImport\""
   ]
  },
  {
   "cell_type": "code",
   "execution_count": 42,
   "id": "fbfd26b6",
   "metadata": {
    "execution": {
     "iopub.execute_input": "2021-10-03T08:30:58.799496Z",
     "iopub.status.busy": "2021-10-03T08:30:58.799096Z",
     "iopub.status.idle": "2021-10-03T08:30:58.803869Z",
     "shell.execute_reply": "2021-10-03T08:30:58.804159Z"
    }
   },
   "outputs": [
    {
     "data": {
      "image/svg+xml": [
       "<?xml version=\"1.0\" encoding=\"UTF-8\" standalone=\"no\"?><svg xmlns=\"http://www.w3.org/2000/svg\" xmlns:xlink=\"http://www.w3.org/1999/xlink\" contentScriptType=\"application/ecmascript\" contentStyleType=\"text/css\" height=\"12px\" preserveAspectRatio=\"none\" style=\"width:12px;height:12px;\" version=\"1.1\" viewBox=\"0 0 12 12\" width=\"12px\" zoomAndPan=\"magnify\"><defs/><g><!--MD5=[0b72472770326784bf6c2b53246e1e64]\n",
       "@startuml\r\n",
       "skinparam roundcorner 20\r\n",
       "skinparam BoxPadding 20\r\n",
       "skinparam SequenceBoxBackgroundColor #white\r\n",
       "skinparam style strictuml\r\n",
       "skinparam maxMessageSize 100\r\n",
       "skinparam monochrome true\r\n",
       "skinparam classbackgroundcolor white\r\n",
       "skinparam shadowing false\r\n",
       "skinparam wrapWidth 300\r\n",
       "hide circle\r\n",
       "\r\n",
       "@enduml\r\n",
       "\n",
       "PlantUML version 1.2020.13(Sat Jun 13 12:26:38 UTC 2020)\n",
       "(EPL source distribution)\n",
       "Java Runtime: OpenJDK Runtime Environment\n",
       "JVM: OpenJDK 64-Bit Server VM\n",
       "Default Encoding: UTF-8\n",
       "Language: en\n",
       "Country: null\n",
       "--></g></svg>"
      ]
     },
     "execution_count": 42,
     "metadata": {},
     "output_type": "execute_result"
    }
   ],
   "source": [
    "%viz --style=\"DEFAULT\" --view=\"Sequence\" \"AliasImport\""
   ]
  },
  {
   "cell_type": "code",
   "execution_count": 43,
   "id": "f6709213",
   "metadata": {
    "execution": {
     "iopub.execute_input": "2021-10-03T08:30:58.853697Z",
     "iopub.status.busy": "2021-10-03T08:30:58.853299Z",
     "iopub.status.idle": "2021-10-03T08:30:58.879030Z",
     "shell.execute_reply": "2021-10-03T08:30:58.878671Z"
    }
   },
   "outputs": [
    {
     "data": {
      "image/svg+xml": [
       "<?xml version=\"1.0\" encoding=\"UTF-8\" standalone=\"no\"?><svg xmlns=\"http://www.w3.org/2000/svg\" xmlns:xlink=\"http://www.w3.org/1999/xlink\" contentScriptType=\"application/ecmascript\" contentStyleType=\"text/css\" height=\"303px\" preserveAspectRatio=\"none\" style=\"width:220px;height:303px;\" version=\"1.1\" viewBox=\"0 0 220 303\" width=\"220px\" zoomAndPan=\"magnify\"><defs/><g><!--MD5=[fbc87193dbaf4d95561dea2c320d4a47]\n",
       "cluster E1--><a href=\"psysml:da265157-d0d4-4951-bf22-47d5659e31ef\" target=\"_top\" title=\"psysml:da265157-d0d4-4951-bf22-47d5659e31ef\" xlink:actuate=\"onRequest\" xlink:href=\"psysml:da265157-d0d4-4951-bf22-47d5659e31ef\" xlink:show=\"new\" xlink:title=\"psysml:da265157-d0d4-4951-bf22-47d5659e31ef\" xlink:type=\"simple\"><polygon fill=\"#FFFFFF\" points=\"16,6,97,6,104,28.2969,198,28.2969,198,291,16,291,16,6\" style=\"stroke: #000000; stroke-width: 1.5;\"/><line style=\"stroke: #000000; stroke-width: 1.5;\" x1=\"16\" x2=\"104\" y1=\"28.2969\" y2=\"28.2969\"/><text fill=\"#000000\" font-family=\"sans-serif\" font-size=\"14\" font-weight=\"bold\" lengthAdjust=\"spacingAndGlyphs\" textLength=\"75\" x=\"20\" y=\"20.9951\">AliasImport</text></a><!--MD5=[e4f7fae6ed58524ba242bb0b0d3be6b7]\n",
       "cluster E2--><a href=\"psysml:2fd87941-b162-4111-8987-3fc5534acf16\" target=\"_top\" title=\"psysml:2fd87941-b162-4111-8987-3fc5534acf16\" xlink:actuate=\"onRequest\" xlink:href=\"psysml:2fd87941-b162-4111-8987-3fc5534acf16\" xlink:show=\"new\" xlink:title=\"psysml:2fd87941-b162-4111-8987-3fc5534acf16\" xlink:type=\"simple\"><polygon fill=\"#FFFFFF\" points=\"58,170,137,170,144,192.2969,156,192.2969,156,267,58,267,58,170\" style=\"stroke: #000000; stroke-width: 1.5;\"/><line style=\"stroke: #000000; stroke-width: 1.5;\" x1=\"58\" x2=\"144\" y1=\"192.2969\" y2=\"192.2969\"/><text fill=\"#000000\" font-family=\"sans-serif\" font-size=\"14\" font-weight=\"bold\" lengthAdjust=\"spacingAndGlyphs\" textLength=\"73\" x=\"62\" y=\"184.9951\">Definitions</text></a><!--MD5=[f6df4d0ebaf0b5dfb2ced0ae5af7c670]\n",
       "cluster E4--><a href=\"psysml:e3968260-a676-422f-8ca6-ec1afe8a305b\" target=\"_top\" title=\"psysml:e3968260-a676-422f-8ca6-ec1afe8a305b\" xlink:actuate=\"onRequest\" xlink:href=\"psysml:e3968260-a676-422f-8ca6-ec1afe8a305b\" xlink:show=\"new\" xlink:title=\"psysml:e3968260-a676-422f-8ca6-ec1afe8a305b\" xlink:type=\"simple\"><polygon fill=\"#FFFFFF\" points=\"40,49,98,49,105,71.2969,174,71.2969,174,146,40,146,40,49\" style=\"stroke: #000000; stroke-width: 1.5;\"/><line style=\"stroke: #000000; stroke-width: 1.5;\" x1=\"40\" x2=\"105\" y1=\"71.2969\" y2=\"71.2969\"/><text fill=\"#000000\" font-family=\"sans-serif\" font-size=\"14\" font-weight=\"bold\" lengthAdjust=\"spacingAndGlyphs\" textLength=\"52\" x=\"44\" y=\"63.9951\">Usages</text></a><!--MD5=[09b614a08d8cba4a07c9adeb5e0fee81]\n",
       "class E3--><a href=\"psysml:42326513-c813-4f17-9254-875ba93877ec\" target=\"_top\" title=\"psysml:42326513-c813-4f17-9254-875ba93877ec\" xlink:actuate=\"onRequest\" xlink:href=\"psysml:42326513-c813-4f17-9254-875ba93877ec\" xlink:show=\"new\" xlink:title=\"psysml:42326513-c813-4f17-9254-875ba93877ec\" xlink:type=\"simple\"><rect fill=\"#FFFFFF\" height=\"45.9375\" id=\"E3\" style=\"stroke: #383838; stroke-width: 1.5;\" width=\"66\" x=\"74\" y=\"205\"/><text fill=\"#000000\" font-family=\"sans-serif\" font-size=\"12\" font-style=\"italic\" lengthAdjust=\"spacingAndGlyphs\" textLength=\"64\" x=\"75\" y=\"221.1387\">«part def»</text><text fill=\"#000000\" font-family=\"sans-serif\" font-size=\"12\" lengthAdjust=\"spacingAndGlyphs\" textLength=\"45\" x=\"84.5\" y=\"235.1074\">Vehicle</text><line style=\"stroke: #383838; stroke-width: 1.5;\" x1=\"75\" x2=\"139\" y1=\"242.9375\" y2=\"242.9375\"/></a><!--MD5=[270fce915f116d4de14055a7c1d9a0f3]\n",
       "class E5--><a href=\"psysml:d491d5f9-6d8b-4b1d-a51c-b8388350c517\" target=\"_top\" title=\"psysml:d491d5f9-6d8b-4b1d-a51c-b8388350c517\" xlink:actuate=\"onRequest\" xlink:href=\"psysml:d491d5f9-6d8b-4b1d-a51c-b8388350c517\" xlink:show=\"new\" xlink:title=\"psysml:d491d5f9-6d8b-4b1d-a51c-b8388350c517\" xlink:type=\"simple\"><rect fill=\"#FFFFFF\" height=\"45.9375\" id=\"E5\" rx=\"10\" ry=\"10\" style=\"stroke: #383838; stroke-width: 1.5;\" width=\"102\" x=\"56\" y=\"84\"/><text fill=\"#000000\" font-family=\"sans-serif\" font-size=\"12\" font-style=\"italic\" lengthAdjust=\"spacingAndGlyphs\" textLength=\"40\" x=\"87\" y=\"100.1387\">«part»</text><text fill=\"#000000\" font-family=\"sans-serif\" font-size=\"12\" lengthAdjust=\"spacingAndGlyphs\" textLength=\"96\" x=\"59\" y=\"114.1074\">vehicle: Vehicle</text><line style=\"stroke: #383838; stroke-width: 1.5;\" x1=\"57\" x2=\"157\" y1=\"121.9375\" y2=\"121.9375\"/></a><!--MD5=[e9be52314489bd878ff4c7144b63c9e1]\n",
       "link E5 to E3--><a href=\"psysml:c9bd4828-45e6-4eb9-80eb-81bfe8e91163\" target=\"_top\" title=\"psysml:c9bd4828-45e6-4eb9-80eb-81bfe8e91163\" xlink:actuate=\"onRequest\" xlink:href=\"psysml:c9bd4828-45e6-4eb9-80eb-81bfe8e91163\" xlink:show=\"new\" xlink:title=\"psysml:c9bd4828-45e6-4eb9-80eb-81bfe8e91163\" xlink:type=\"simple\"><path d=\"M107,130.1 C107,145.37 107,166.16 107,184.57 \" fill=\"none\" id=\"E5-&gt;E3\" style=\"stroke: #383838; stroke-width: 1.0;\"/><polygon fill=\"#FFFFFF\" points=\"107,204.61,100,185.61,114,185.61,107,204.61\" style=\"stroke: #383838; stroke-width: 1.0;\"/><ellipse cx=\"102\" cy=\"179.91\" fill=\"#383838\" rx=\"2\" ry=\"2\" style=\"stroke: #383838; stroke-width: 1.0;\"/><ellipse cx=\"112\" cy=\"179.91\" fill=\"#383838\" rx=\"2\" ry=\"2\" style=\"stroke: #383838; stroke-width: 1.0;\"/></a><!--MD5=[4f5f55ff7f64895e2909ff6e67e04432]\n",
       "@startuml\r\n",
       "skinparam monochrome true\r\n",
       "skinparam classbackgroundcolor white\r\n",
       "skinparam shadowing false\r\n",
       "skinparam wrapWidth 300\r\n",
       "hide circle\r\n",
       "\r\n",
       "package \"AliasImport\" as E1  [[psysml:da265157-d0d4-4951-bf22-47d5659e31ef ]]  {\r\n",
       "package \"Definitions\" as E2  [[psysml:2fd87941-b162-4111-8987-3fc5534acf16 ]]  {\r\n",
       "comp def \"Vehicle\" as E3  <<(T,blue) part def>> [[psysml:42326513-c813-4f17-9254-875ba93877ec ]] {\r\n",
       "}\r\n",
       "}\r\n",
       "package \"Usages\" as E4  [[psysml:e3968260-a676-422f-8ca6-ec1afe8a305b ]]  {\r\n",
       "comp usage \"vehicle: Vehicle\" as E5  <<(T,blue) part>> [[psysml:d491d5f9-6d8b-4b1d-a51c-b8388350c517 ]] {\r\n",
       "}\r\n",
       "}\r\n",
       "}\r\n",
       "E5 - -:|> E3 [[psysml:c9bd4828-45e6-4eb9-80eb-81bfe8e91163 ]] \r\n",
       "@enduml\r\n",
       "\n",
       "PlantUML version 1.2020.13(Sat Jun 13 12:26:38 UTC 2020)\n",
       "(EPL source distribution)\n",
       "Java Runtime: OpenJDK Runtime Environment\n",
       "JVM: OpenJDK 64-Bit Server VM\n",
       "Default Encoding: UTF-8\n",
       "Language: en\n",
       "Country: null\n",
       "--></g></svg>"
      ]
     },
     "execution_count": 43,
     "metadata": {},
     "output_type": "execute_result"
    }
   ],
   "source": [
    "%viz --style=\"DEFAULT\" --view=\"MIXED\" \"AliasImport\""
   ]
  },
  {
   "cell_type": "code",
   "execution_count": 44,
   "id": "37746558",
   "metadata": {
    "execution": {
     "iopub.execute_input": "2021-10-03T08:30:58.928185Z",
     "iopub.status.busy": "2021-10-03T08:30:58.927767Z",
     "iopub.status.idle": "2021-10-03T08:30:58.953131Z",
     "shell.execute_reply": "2021-10-03T08:30:58.952775Z"
    }
   },
   "outputs": [
    {
     "data": {
      "image/svg+xml": [
       "<?xml version=\"1.0\" encoding=\"UTF-8\" standalone=\"no\"?><svg xmlns=\"http://www.w3.org/2000/svg\" xmlns:xlink=\"http://www.w3.org/1999/xlink\" contentScriptType=\"application/ecmascript\" contentStyleType=\"text/css\" height=\"303px\" preserveAspectRatio=\"none\" style=\"width:220px;height:303px;\" version=\"1.1\" viewBox=\"0 0 220 303\" width=\"220px\" zoomAndPan=\"magnify\"><defs/><g><!--MD5=[fbc87193dbaf4d95561dea2c320d4a47]\n",
       "cluster E1--><a href=\"psysml:da265157-d0d4-4951-bf22-47d5659e31ef\" target=\"_top\" title=\"psysml:da265157-d0d4-4951-bf22-47d5659e31ef\" xlink:actuate=\"onRequest\" xlink:href=\"psysml:da265157-d0d4-4951-bf22-47d5659e31ef\" xlink:show=\"new\" xlink:title=\"psysml:da265157-d0d4-4951-bf22-47d5659e31ef\" xlink:type=\"simple\"><polygon fill=\"#FFFFFF\" points=\"16,6,97,6,104,28.2969,198,28.2969,198,291,16,291,16,6\" style=\"stroke: #000000; stroke-width: 1.5;\"/><line style=\"stroke: #000000; stroke-width: 1.5;\" x1=\"16\" x2=\"104\" y1=\"28.2969\" y2=\"28.2969\"/><text fill=\"#000000\" font-family=\"sans-serif\" font-size=\"14\" font-weight=\"bold\" lengthAdjust=\"spacingAndGlyphs\" textLength=\"75\" x=\"20\" y=\"20.9951\">AliasImport</text></a><!--MD5=[e4f7fae6ed58524ba242bb0b0d3be6b7]\n",
       "cluster E2--><a href=\"psysml:2fd87941-b162-4111-8987-3fc5534acf16\" target=\"_top\" title=\"psysml:2fd87941-b162-4111-8987-3fc5534acf16\" xlink:actuate=\"onRequest\" xlink:href=\"psysml:2fd87941-b162-4111-8987-3fc5534acf16\" xlink:show=\"new\" xlink:title=\"psysml:2fd87941-b162-4111-8987-3fc5534acf16\" xlink:type=\"simple\"><polygon fill=\"#FFFFFF\" points=\"58,170,137,170,144,192.2969,156,192.2969,156,267,58,267,58,170\" style=\"stroke: #000000; stroke-width: 1.5;\"/><line style=\"stroke: #000000; stroke-width: 1.5;\" x1=\"58\" x2=\"144\" y1=\"192.2969\" y2=\"192.2969\"/><text fill=\"#000000\" font-family=\"sans-serif\" font-size=\"14\" font-weight=\"bold\" lengthAdjust=\"spacingAndGlyphs\" textLength=\"73\" x=\"62\" y=\"184.9951\">Definitions</text></a><!--MD5=[f6df4d0ebaf0b5dfb2ced0ae5af7c670]\n",
       "cluster E4--><a href=\"psysml:e3968260-a676-422f-8ca6-ec1afe8a305b\" target=\"_top\" title=\"psysml:e3968260-a676-422f-8ca6-ec1afe8a305b\" xlink:actuate=\"onRequest\" xlink:href=\"psysml:e3968260-a676-422f-8ca6-ec1afe8a305b\" xlink:show=\"new\" xlink:title=\"psysml:e3968260-a676-422f-8ca6-ec1afe8a305b\" xlink:type=\"simple\"><polygon fill=\"#FFFFFF\" points=\"40,49,98,49,105,71.2969,174,71.2969,174,146,40,146,40,49\" style=\"stroke: #000000; stroke-width: 1.5;\"/><line style=\"stroke: #000000; stroke-width: 1.5;\" x1=\"40\" x2=\"105\" y1=\"71.2969\" y2=\"71.2969\"/><text fill=\"#000000\" font-family=\"sans-serif\" font-size=\"14\" font-weight=\"bold\" lengthAdjust=\"spacingAndGlyphs\" textLength=\"52\" x=\"44\" y=\"63.9951\">Usages</text></a><!--MD5=[09b614a08d8cba4a07c9adeb5e0fee81]\n",
       "class E3--><a href=\"psysml:42326513-c813-4f17-9254-875ba93877ec\" target=\"_top\" title=\"psysml:42326513-c813-4f17-9254-875ba93877ec\" xlink:actuate=\"onRequest\" xlink:href=\"psysml:42326513-c813-4f17-9254-875ba93877ec\" xlink:show=\"new\" xlink:title=\"psysml:42326513-c813-4f17-9254-875ba93877ec\" xlink:type=\"simple\"><rect fill=\"#FFFFFF\" height=\"45.9375\" id=\"E3\" style=\"stroke: #383838; stroke-width: 1.5;\" width=\"66\" x=\"74\" y=\"205\"/><text fill=\"#000000\" font-family=\"sans-serif\" font-size=\"12\" font-style=\"italic\" lengthAdjust=\"spacingAndGlyphs\" textLength=\"64\" x=\"75\" y=\"221.1387\">«part def»</text><text fill=\"#000000\" font-family=\"sans-serif\" font-size=\"12\" lengthAdjust=\"spacingAndGlyphs\" textLength=\"45\" x=\"84.5\" y=\"235.1074\">Vehicle</text><line style=\"stroke: #383838; stroke-width: 1.5;\" x1=\"75\" x2=\"139\" y1=\"242.9375\" y2=\"242.9375\"/></a><!--MD5=[270fce915f116d4de14055a7c1d9a0f3]\n",
       "class E5--><a href=\"psysml:d491d5f9-6d8b-4b1d-a51c-b8388350c517\" target=\"_top\" title=\"psysml:d491d5f9-6d8b-4b1d-a51c-b8388350c517\" xlink:actuate=\"onRequest\" xlink:href=\"psysml:d491d5f9-6d8b-4b1d-a51c-b8388350c517\" xlink:show=\"new\" xlink:title=\"psysml:d491d5f9-6d8b-4b1d-a51c-b8388350c517\" xlink:type=\"simple\"><rect fill=\"#FFFFFF\" height=\"45.9375\" id=\"E5\" rx=\"10\" ry=\"10\" style=\"stroke: #383838; stroke-width: 1.5;\" width=\"102\" x=\"56\" y=\"84\"/><text fill=\"#000000\" font-family=\"sans-serif\" font-size=\"12\" font-style=\"italic\" lengthAdjust=\"spacingAndGlyphs\" textLength=\"40\" x=\"87\" y=\"100.1387\">«part»</text><text fill=\"#000000\" font-family=\"sans-serif\" font-size=\"12\" lengthAdjust=\"spacingAndGlyphs\" textLength=\"96\" x=\"59\" y=\"114.1074\">vehicle: Vehicle</text><line style=\"stroke: #383838; stroke-width: 1.5;\" x1=\"57\" x2=\"157\" y1=\"121.9375\" y2=\"121.9375\"/></a><!--MD5=[e9be52314489bd878ff4c7144b63c9e1]\n",
       "link E5 to E3--><a href=\"psysml:c9bd4828-45e6-4eb9-80eb-81bfe8e91163\" target=\"_top\" title=\"psysml:c9bd4828-45e6-4eb9-80eb-81bfe8e91163\" xlink:actuate=\"onRequest\" xlink:href=\"psysml:c9bd4828-45e6-4eb9-80eb-81bfe8e91163\" xlink:show=\"new\" xlink:title=\"psysml:c9bd4828-45e6-4eb9-80eb-81bfe8e91163\" xlink:type=\"simple\"><path d=\"M107,130.1 C107,145.37 107,166.16 107,184.57 \" fill=\"none\" id=\"E5-&gt;E3\" style=\"stroke: #383838; stroke-width: 1.0;\"/><polygon fill=\"#FFFFFF\" points=\"107,204.61,100,185.61,114,185.61,107,204.61\" style=\"stroke: #383838; stroke-width: 1.0;\"/><ellipse cx=\"102\" cy=\"179.91\" fill=\"#383838\" rx=\"2\" ry=\"2\" style=\"stroke: #383838; stroke-width: 1.0;\"/><ellipse cx=\"112\" cy=\"179.91\" fill=\"#383838\" rx=\"2\" ry=\"2\" style=\"stroke: #383838; stroke-width: 1.0;\"/></a><!--MD5=[e1f3c0dc00ee1743bb48717a1ed0e77f]\n",
       "@startuml\r\n",
       "top to bottom direction\r\n",
       "skinparam monochrome true\r\n",
       "skinparam classbackgroundcolor white\r\n",
       "skinparam shadowing false\r\n",
       "skinparam wrapWidth 300\r\n",
       "hide circle\r\n",
       "\r\n",
       "package \"AliasImport\" as E1  [[psysml:da265157-d0d4-4951-bf22-47d5659e31ef ]]  {\r\n",
       "package \"Definitions\" as E2  [[psysml:2fd87941-b162-4111-8987-3fc5534acf16 ]]  {\r\n",
       "comp def \"Vehicle\" as E3  <<(T,blue) part def>> [[psysml:42326513-c813-4f17-9254-875ba93877ec ]] {\r\n",
       "}\r\n",
       "}\r\n",
       "package \"Usages\" as E4  [[psysml:e3968260-a676-422f-8ca6-ec1afe8a305b ]]  {\r\n",
       "comp usage \"vehicle: Vehicle\" as E5  <<(T,blue) part>> [[psysml:d491d5f9-6d8b-4b1d-a51c-b8388350c517 ]] {\r\n",
       "}\r\n",
       "}\r\n",
       "}\r\n",
       "E5 - -:|> E3 [[psysml:c9bd4828-45e6-4eb9-80eb-81bfe8e91163 ]] \r\n",
       "@enduml\r\n",
       "\n",
       "PlantUML version 1.2020.13(Sat Jun 13 12:26:38 UTC 2020)\n",
       "(EPL source distribution)\n",
       "Java Runtime: OpenJDK Runtime Environment\n",
       "JVM: OpenJDK 64-Bit Server VM\n",
       "Default Encoding: UTF-8\n",
       "Language: en\n",
       "Country: null\n",
       "--></g></svg>"
      ]
     },
     "execution_count": 44,
     "metadata": {},
     "output_type": "execute_result"
    }
   ],
   "source": [
    "%viz --style=\"TB\" --view=\"Default\" \"AliasImport\""
   ]
  },
  {
   "cell_type": "code",
   "execution_count": 45,
   "id": "245bea97",
   "metadata": {
    "execution": {
     "iopub.execute_input": "2021-10-03T08:30:59.002358Z",
     "iopub.status.busy": "2021-10-03T08:30:59.001958Z",
     "iopub.status.idle": "2021-10-03T08:30:59.026818Z",
     "shell.execute_reply": "2021-10-03T08:30:59.026464Z"
    }
   },
   "outputs": [
    {
     "data": {
      "image/svg+xml": [
       "<?xml version=\"1.0\" encoding=\"UTF-8\" standalone=\"no\"?><svg xmlns=\"http://www.w3.org/2000/svg\" xmlns:xlink=\"http://www.w3.org/1999/xlink\" contentScriptType=\"application/ecmascript\" contentStyleType=\"text/css\" height=\"303px\" preserveAspectRatio=\"none\" style=\"width:220px;height:303px;\" version=\"1.1\" viewBox=\"0 0 220 303\" width=\"220px\" zoomAndPan=\"magnify\"><defs/><g><!--MD5=[fbc87193dbaf4d95561dea2c320d4a47]\n",
       "cluster E1--><a href=\"psysml:da265157-d0d4-4951-bf22-47d5659e31ef\" target=\"_top\" title=\"psysml:da265157-d0d4-4951-bf22-47d5659e31ef\" xlink:actuate=\"onRequest\" xlink:href=\"psysml:da265157-d0d4-4951-bf22-47d5659e31ef\" xlink:show=\"new\" xlink:title=\"psysml:da265157-d0d4-4951-bf22-47d5659e31ef\" xlink:type=\"simple\"><polygon fill=\"#FFFFFF\" points=\"16,6,97,6,104,28.2969,198,28.2969,198,291,16,291,16,6\" style=\"stroke: #000000; stroke-width: 1.5;\"/><line style=\"stroke: #000000; stroke-width: 1.5;\" x1=\"16\" x2=\"104\" y1=\"28.2969\" y2=\"28.2969\"/><text fill=\"#000000\" font-family=\"sans-serif\" font-size=\"14\" font-weight=\"bold\" lengthAdjust=\"spacingAndGlyphs\" textLength=\"75\" x=\"20\" y=\"20.9951\">AliasImport</text></a><!--MD5=[e4f7fae6ed58524ba242bb0b0d3be6b7]\n",
       "cluster E2--><a href=\"psysml:2fd87941-b162-4111-8987-3fc5534acf16\" target=\"_top\" title=\"psysml:2fd87941-b162-4111-8987-3fc5534acf16\" xlink:actuate=\"onRequest\" xlink:href=\"psysml:2fd87941-b162-4111-8987-3fc5534acf16\" xlink:show=\"new\" xlink:title=\"psysml:2fd87941-b162-4111-8987-3fc5534acf16\" xlink:type=\"simple\"><polygon fill=\"#FFFFFF\" points=\"58,170,137,170,144,192.2969,156,192.2969,156,267,58,267,58,170\" style=\"stroke: #000000; stroke-width: 1.5;\"/><line style=\"stroke: #000000; stroke-width: 1.5;\" x1=\"58\" x2=\"144\" y1=\"192.2969\" y2=\"192.2969\"/><text fill=\"#000000\" font-family=\"sans-serif\" font-size=\"14\" font-weight=\"bold\" lengthAdjust=\"spacingAndGlyphs\" textLength=\"73\" x=\"62\" y=\"184.9951\">Definitions</text></a><!--MD5=[f6df4d0ebaf0b5dfb2ced0ae5af7c670]\n",
       "cluster E4--><a href=\"psysml:e3968260-a676-422f-8ca6-ec1afe8a305b\" target=\"_top\" title=\"psysml:e3968260-a676-422f-8ca6-ec1afe8a305b\" xlink:actuate=\"onRequest\" xlink:href=\"psysml:e3968260-a676-422f-8ca6-ec1afe8a305b\" xlink:show=\"new\" xlink:title=\"psysml:e3968260-a676-422f-8ca6-ec1afe8a305b\" xlink:type=\"simple\"><polygon fill=\"#FFFFFF\" points=\"40,49,98,49,105,71.2969,174,71.2969,174,146,40,146,40,49\" style=\"stroke: #000000; stroke-width: 1.5;\"/><line style=\"stroke: #000000; stroke-width: 1.5;\" x1=\"40\" x2=\"105\" y1=\"71.2969\" y2=\"71.2969\"/><text fill=\"#000000\" font-family=\"sans-serif\" font-size=\"14\" font-weight=\"bold\" lengthAdjust=\"spacingAndGlyphs\" textLength=\"52\" x=\"44\" y=\"63.9951\">Usages</text></a><!--MD5=[09b614a08d8cba4a07c9adeb5e0fee81]\n",
       "class E3--><a href=\"psysml:42326513-c813-4f17-9254-875ba93877ec\" target=\"_top\" title=\"psysml:42326513-c813-4f17-9254-875ba93877ec\" xlink:actuate=\"onRequest\" xlink:href=\"psysml:42326513-c813-4f17-9254-875ba93877ec\" xlink:show=\"new\" xlink:title=\"psysml:42326513-c813-4f17-9254-875ba93877ec\" xlink:type=\"simple\"><rect fill=\"#FFFFFF\" height=\"45.9375\" id=\"E3\" style=\"stroke: #383838; stroke-width: 1.5;\" width=\"66\" x=\"74\" y=\"205\"/><text fill=\"#000000\" font-family=\"sans-serif\" font-size=\"12\" font-style=\"italic\" lengthAdjust=\"spacingAndGlyphs\" textLength=\"64\" x=\"75\" y=\"221.1387\">«part def»</text><text fill=\"#000000\" font-family=\"sans-serif\" font-size=\"12\" lengthAdjust=\"spacingAndGlyphs\" textLength=\"45\" x=\"84.5\" y=\"235.1074\">Vehicle</text><line style=\"stroke: #383838; stroke-width: 1.5;\" x1=\"75\" x2=\"139\" y1=\"242.9375\" y2=\"242.9375\"/></a><!--MD5=[270fce915f116d4de14055a7c1d9a0f3]\n",
       "class E5--><a href=\"psysml:d491d5f9-6d8b-4b1d-a51c-b8388350c517\" target=\"_top\" title=\"psysml:d491d5f9-6d8b-4b1d-a51c-b8388350c517\" xlink:actuate=\"onRequest\" xlink:href=\"psysml:d491d5f9-6d8b-4b1d-a51c-b8388350c517\" xlink:show=\"new\" xlink:title=\"psysml:d491d5f9-6d8b-4b1d-a51c-b8388350c517\" xlink:type=\"simple\"><rect fill=\"#FFFFFF\" height=\"45.9375\" id=\"E5\" rx=\"10\" ry=\"10\" style=\"stroke: #383838; stroke-width: 1.5;\" width=\"102\" x=\"56\" y=\"84\"/><text fill=\"#000000\" font-family=\"sans-serif\" font-size=\"12\" font-style=\"italic\" lengthAdjust=\"spacingAndGlyphs\" textLength=\"40\" x=\"87\" y=\"100.1387\">«part»</text><text fill=\"#000000\" font-family=\"sans-serif\" font-size=\"12\" lengthAdjust=\"spacingAndGlyphs\" textLength=\"96\" x=\"59\" y=\"114.1074\">vehicle: Vehicle</text><line style=\"stroke: #383838; stroke-width: 1.5;\" x1=\"57\" x2=\"157\" y1=\"121.9375\" y2=\"121.9375\"/></a><!--MD5=[e9be52314489bd878ff4c7144b63c9e1]\n",
       "link E5 to E3--><a href=\"psysml:c9bd4828-45e6-4eb9-80eb-81bfe8e91163\" target=\"_top\" title=\"psysml:c9bd4828-45e6-4eb9-80eb-81bfe8e91163\" xlink:actuate=\"onRequest\" xlink:href=\"psysml:c9bd4828-45e6-4eb9-80eb-81bfe8e91163\" xlink:show=\"new\" xlink:title=\"psysml:c9bd4828-45e6-4eb9-80eb-81bfe8e91163\" xlink:type=\"simple\"><path d=\"M107,130.1 C107,145.37 107,166.16 107,184.57 \" fill=\"none\" id=\"E5-&gt;E3\" style=\"stroke: #383838; stroke-width: 1.0;\"/><polygon fill=\"#FFFFFF\" points=\"107,204.61,100,185.61,114,185.61,107,204.61\" style=\"stroke: #383838; stroke-width: 1.0;\"/><ellipse cx=\"102\" cy=\"179.91\" fill=\"#383838\" rx=\"2\" ry=\"2\" style=\"stroke: #383838; stroke-width: 1.0;\"/><ellipse cx=\"112\" cy=\"179.91\" fill=\"#383838\" rx=\"2\" ry=\"2\" style=\"stroke: #383838; stroke-width: 1.0;\"/></a><!--MD5=[e1f3c0dc00ee1743bb48717a1ed0e77f]\n",
       "@startuml\r\n",
       "top to bottom direction\r\n",
       "skinparam monochrome true\r\n",
       "skinparam classbackgroundcolor white\r\n",
       "skinparam shadowing false\r\n",
       "skinparam wrapWidth 300\r\n",
       "hide circle\r\n",
       "\r\n",
       "package \"AliasImport\" as E1  [[psysml:da265157-d0d4-4951-bf22-47d5659e31ef ]]  {\r\n",
       "package \"Definitions\" as E2  [[psysml:2fd87941-b162-4111-8987-3fc5534acf16 ]]  {\r\n",
       "comp def \"Vehicle\" as E3  <<(T,blue) part def>> [[psysml:42326513-c813-4f17-9254-875ba93877ec ]] {\r\n",
       "}\r\n",
       "}\r\n",
       "package \"Usages\" as E4  [[psysml:e3968260-a676-422f-8ca6-ec1afe8a305b ]]  {\r\n",
       "comp usage \"vehicle: Vehicle\" as E5  <<(T,blue) part>> [[psysml:d491d5f9-6d8b-4b1d-a51c-b8388350c517 ]] {\r\n",
       "}\r\n",
       "}\r\n",
       "}\r\n",
       "E5 - -:|> E3 [[psysml:c9bd4828-45e6-4eb9-80eb-81bfe8e91163 ]] \r\n",
       "@enduml\r\n",
       "\n",
       "PlantUML version 1.2020.13(Sat Jun 13 12:26:38 UTC 2020)\n",
       "(EPL source distribution)\n",
       "Java Runtime: OpenJDK Runtime Environment\n",
       "JVM: OpenJDK 64-Bit Server VM\n",
       "Default Encoding: UTF-8\n",
       "Language: en\n",
       "Country: null\n",
       "--></g></svg>"
      ]
     },
     "execution_count": 45,
     "metadata": {},
     "output_type": "execute_result"
    }
   ],
   "source": [
    "%viz --style=\"TB\" --view=\"Tree\" \"AliasImport\""
   ]
  },
  {
   "cell_type": "code",
   "execution_count": 46,
   "id": "03fd8705",
   "metadata": {
    "execution": {
     "iopub.execute_input": "2021-10-03T08:30:59.076013Z",
     "iopub.status.busy": "2021-10-03T08:30:59.075588Z",
     "iopub.status.idle": "2021-10-03T08:30:59.080261Z",
     "shell.execute_reply": "2021-10-03T08:30:59.079914Z"
    }
   },
   "outputs": [
    {
     "data": {
      "image/svg+xml": [
       "<?xml version=\"1.0\" encoding=\"UTF-8\" standalone=\"no\"?><svg xmlns=\"http://www.w3.org/2000/svg\" xmlns:xlink=\"http://www.w3.org/1999/xlink\" contentScriptType=\"application/ecmascript\" contentStyleType=\"text/css\" height=\"12px\" preserveAspectRatio=\"none\" style=\"width:12px;height:12px;\" version=\"1.1\" viewBox=\"0 0 12 12\" width=\"12px\" zoomAndPan=\"magnify\"><defs/><g><!--MD5=[f4ee21bc66e489b5061b7c3e9601fdef]\n",
       "@startuml\r\n",
       "top to bottom direction\r\n",
       "skinparam monochrome true\r\n",
       "skinparam classbackgroundcolor white\r\n",
       "skinparam shadowing false\r\n",
       "skinparam wrapWidth 300\r\n",
       "hide circle\r\n",
       "\r\n",
       "@enduml\r\n",
       "\n",
       "PlantUML version 1.2020.13(Sat Jun 13 12:26:38 UTC 2020)\n",
       "(EPL source distribution)\n",
       "Java Runtime: OpenJDK Runtime Environment\n",
       "JVM: OpenJDK 64-Bit Server VM\n",
       "Default Encoding: UTF-8\n",
       "Language: en\n",
       "Country: null\n",
       "--></g></svg>"
      ]
     },
     "execution_count": 46,
     "metadata": {},
     "output_type": "execute_result"
    }
   ],
   "source": [
    "%viz --style=\"TB\" --view=\"State\" \"AliasImport\""
   ]
  },
  {
   "cell_type": "code",
   "execution_count": 47,
   "id": "0db20fde",
   "metadata": {
    "execution": {
     "iopub.execute_input": "2021-10-03T08:30:59.129691Z",
     "iopub.status.busy": "2021-10-03T08:30:59.129292Z",
     "iopub.status.idle": "2021-10-03T08:30:59.154506Z",
     "shell.execute_reply": "2021-10-03T08:30:59.154147Z"
    }
   },
   "outputs": [
    {
     "data": {
      "image/svg+xml": [
       "<?xml version=\"1.0\" encoding=\"UTF-8\" standalone=\"no\"?><svg xmlns=\"http://www.w3.org/2000/svg\" xmlns:xlink=\"http://www.w3.org/1999/xlink\" contentScriptType=\"application/ecmascript\" contentStyleType=\"text/css\" height=\"179px\" preserveAspectRatio=\"none\" style=\"width:458px;height:179px;\" version=\"1.1\" viewBox=\"0 0 458 179\" width=\"458px\" zoomAndPan=\"magnify\"><defs/><g><!--MD5=[fbc87193dbaf4d95561dea2c320d4a47]\n",
       "cluster E1--><a href=\"psysml:da265157-d0d4-4951-bf22-47d5659e31ef\" target=\"_top\" title=\"psysml:da265157-d0d4-4951-bf22-47d5659e31ef\" xlink:actuate=\"onRequest\" xlink:href=\"psysml:da265157-d0d4-4951-bf22-47d5659e31ef\" xlink:show=\"new\" xlink:title=\"psysml:da265157-d0d4-4951-bf22-47d5659e31ef\" xlink:type=\"simple\"><polygon fill=\"#FFFFFF\" points=\"16,6,97,6,104,28.2969,436,28.2969,436,167,16,167,16,6\" style=\"stroke: #000000; stroke-width: 1.5;\"/><line style=\"stroke: #000000; stroke-width: 1.5;\" x1=\"16\" x2=\"104\" y1=\"28.2969\" y2=\"28.2969\"/><text fill=\"#000000\" font-family=\"sans-serif\" font-size=\"14\" font-weight=\"bold\" lengthAdjust=\"spacingAndGlyphs\" textLength=\"75\" x=\"20\" y=\"20.9951\">AliasImport</text></a><!--MD5=[e4f7fae6ed58524ba242bb0b0d3be6b7]\n",
       "cluster E2--><a href=\"psysml:2fd87941-b162-4111-8987-3fc5534acf16\" target=\"_top\" title=\"psysml:2fd87941-b162-4111-8987-3fc5534acf16\" xlink:actuate=\"onRequest\" xlink:href=\"psysml:2fd87941-b162-4111-8987-3fc5534acf16\" xlink:show=\"new\" xlink:title=\"psysml:2fd87941-b162-4111-8987-3fc5534acf16\" xlink:type=\"simple\"><polygon fill=\"#FFFFFF\" points=\"202,49,281,49,288,71.2969,412,71.2969,412,143,202,143,202,49\" style=\"stroke: #000000; stroke-width: 1.5;\"/><line style=\"stroke: #000000; stroke-width: 1.5;\" x1=\"202\" x2=\"288\" y1=\"71.2969\" y2=\"71.2969\"/><text fill=\"#000000\" font-family=\"sans-serif\" font-size=\"14\" font-weight=\"bold\" lengthAdjust=\"spacingAndGlyphs\" textLength=\"73\" x=\"206\" y=\"63.9951\">Definitions</text></a><!--MD5=[de5ec2e2e8f62f467e546659f5068c88]\n",
       "cluster E5--><a href=\"psysml:e3968260-a676-422f-8ca6-ec1afe8a305b\" target=\"_top\" title=\"psysml:e3968260-a676-422f-8ca6-ec1afe8a305b\" xlink:actuate=\"onRequest\" xlink:href=\"psysml:e3968260-a676-422f-8ca6-ec1afe8a305b\" xlink:show=\"new\" xlink:title=\"psysml:e3968260-a676-422f-8ca6-ec1afe8a305b\" xlink:type=\"simple\"><polygon fill=\"#FFFFFF\" points=\"40,50.5,98,50.5,105,72.7969,178,72.7969,178,141.5,40,141.5,40,50.5\" style=\"stroke: #000000; stroke-width: 1.5;\"/><line style=\"stroke: #000000; stroke-width: 1.5;\" x1=\"40\" x2=\"105\" y1=\"72.7969\" y2=\"72.7969\"/><text fill=\"#000000\" font-family=\"sans-serif\" font-size=\"14\" font-weight=\"bold\" lengthAdjust=\"spacingAndGlyphs\" textLength=\"52\" x=\"44\" y=\"65.4951\">Usages</text></a><g id=\"E1.E2.E3\"><a href=\"psysml:42326513-c813-4f17-9254-875ba93877ec\" target=\"_top\" title=\"psysml:42326513-c813-4f17-9254-875ba93877ec\" xlink:actuate=\"onRequest\" xlink:href=\"psysml:42326513-c813-4f17-9254-875ba93877ec\" xlink:show=\"new\" xlink:title=\"psysml:42326513-c813-4f17-9254-875ba93877ec\" xlink:type=\"simple\"><rect fill=\"#FFFFFF\" height=\"42.9375\" id=\"E3\" style=\"stroke: #383838; stroke-width: 1.5;\" width=\"71\" x=\"324.5\" y=\"84\"/><rect fill=\"#F8F8F8\" height=\"37.9375\" style=\"stroke: #383838; stroke-width: 1.5;\" width=\"71\" x=\"324.5\" y=\"84\"/><text fill=\"#000000\" font-family=\"sans-serif\" font-size=\"12\" font-style=\"italic\" lengthAdjust=\"spacingAndGlyphs\" textLength=\"64\" x=\"328\" y=\"100.1387\">«part def»</text><text fill=\"#000000\" font-family=\"sans-serif\" font-size=\"12\" lengthAdjust=\"spacingAndGlyphs\" textLength=\"45\" x=\"337.5\" y=\"114.1074\">Vehicle</text></a></g><g id=\"E1.E2.E4\"><a href=\"psysml:42326513-c813-4f17-9254-875ba93877ec\" target=\"_top\" title=\"psysml:42326513-c813-4f17-9254-875ba93877ec\" xlink:actuate=\"onRequest\" xlink:href=\"psysml:42326513-c813-4f17-9254-875ba93877ec\" xlink:show=\"new\" xlink:title=\"psysml:42326513-c813-4f17-9254-875ba93877ec\" xlink:type=\"simple\"><rect fill=\"#FFFFFF\" height=\"42.9375\" id=\"E4\" style=\"stroke: #383838; stroke-width: 1.5;\" width=\"71\" x=\"218.5\" y=\"84\"/><rect fill=\"#F8F8F8\" height=\"37.9375\" style=\"stroke: #383838; stroke-width: 1.5;\" width=\"71\" x=\"218.5\" y=\"84\"/><text fill=\"#000000\" font-family=\"sans-serif\" font-size=\"12\" font-style=\"italic\" lengthAdjust=\"spacingAndGlyphs\" textLength=\"64\" x=\"222\" y=\"100.1387\">«part def»</text><text fill=\"#000000\" font-family=\"sans-serif\" font-size=\"12\" lengthAdjust=\"spacingAndGlyphs\" textLength=\"45\" x=\"231.5\" y=\"114.1074\">Vehicle</text></a></g><g id=\"E1.E5.E6\"><a href=\"psysml:d491d5f9-6d8b-4b1d-a51c-b8388350c517\" target=\"_top\" title=\"psysml:d491d5f9-6d8b-4b1d-a51c-b8388350c517\" xlink:actuate=\"onRequest\" xlink:href=\"psysml:d491d5f9-6d8b-4b1d-a51c-b8388350c517\" xlink:show=\"new\" xlink:title=\"psysml:d491d5f9-6d8b-4b1d-a51c-b8388350c517\" xlink:type=\"simple\"><rect fill=\"#FFFFFF\" height=\"40\" id=\"E6\" rx=\"10\" ry=\"10\" style=\"stroke: #383838; stroke-width: 1.5;\" width=\"107\" x=\"55.5\" y=\"85.5\"/><rect fill=\"#F8F8F8\" height=\"23.9688\" rx=\"10\" ry=\"10\" style=\"stroke: #F8F8F8; stroke-width: 1.5;\" width=\"107\" x=\"55.5\" y=\"85.5\"/><rect fill=\"#F8F8F8\" height=\"10\" style=\"stroke: #F8F8F8; stroke-width: 1.5;\" width=\"107\" x=\"55.5\" y=\"99.4688\"/><rect fill=\"none\" height=\"40\" id=\"E6\" rx=\"10\" ry=\"10\" style=\"stroke: #383838; stroke-width: 1.5;\" width=\"107\" x=\"55.5\" y=\"85.5\"/><text fill=\"#000000\" font-family=\"sans-serif\" font-size=\"12\" lengthAdjust=\"spacingAndGlyphs\" textLength=\"96\" x=\"61\" y=\"101.6387\">vehicle: Vehicle</text></a></g><!--MD5=[5954ba07c0ec7ef31a4b01690b0ca599]\n",
       "@startuml\r\n",
       "skinparam ranksep 10\r\n",
       "skinparam rectangle {\r\n",
       " backgroundColor<<block>> LightGreen\r\n",
       "}\r\n",
       "top to bottom direction\r\n",
       "skinparam monochrome true\r\n",
       "skinparam classbackgroundcolor white\r\n",
       "skinparam shadowing false\r\n",
       "skinparam wrapWidth 300\r\n",
       "hide circle\r\n",
       "\r\n",
       "package \"AliasImport\" as E1  [[psysml:da265157-d0d4-4951-bf22-47d5659e31ef ]]  {\r\n",
       "package \"Definitions\" as E2  [[psysml:2fd87941-b162-4111-8987-3fc5534acf16 ]]  {\r\n",
       "rec def \"Vehicle\" as E3  <<(T,blue) part def>> [[psysml:42326513-c813-4f17-9254-875ba93877ec ]] {\r\n",
       "}\r\n",
       "rec def \"Vehicle\" as E4  <<(T,blue) part def>> [[psysml:42326513-c813-4f17-9254-875ba93877ec ]] {\r\n",
       "}\r\n",
       "}\r\n",
       "package \"Usages\" as E5  [[psysml:e3968260-a676-422f-8ca6-ec1afe8a305b ]]  {\r\n",
       "rec usage \"vehicle: Vehicle\" as E6  [[psysml:d491d5f9-6d8b-4b1d-a51c-b8388350c517 ]] {\r\n",
       "}\r\n",
       "}\r\n",
       "}\r\n",
       "@enduml\r\n",
       "\n",
       "PlantUML version 1.2020.13(Sat Jun 13 12:26:38 UTC 2020)\n",
       "(EPL source distribution)\n",
       "Java Runtime: OpenJDK Runtime Environment\n",
       "JVM: OpenJDK 64-Bit Server VM\n",
       "Default Encoding: UTF-8\n",
       "Language: en\n",
       "Country: null\n",
       "--></g></svg>"
      ]
     },
     "execution_count": 47,
     "metadata": {},
     "output_type": "execute_result"
    }
   ],
   "source": [
    "%viz --style=\"TB\" --view=\"Interconnection\" \"AliasImport\""
   ]
  },
  {
   "cell_type": "code",
   "execution_count": 48,
   "id": "11a98cac",
   "metadata": {
    "execution": {
     "iopub.execute_input": "2021-10-03T08:30:59.203721Z",
     "iopub.status.busy": "2021-10-03T08:30:59.203322Z",
     "iopub.status.idle": "2021-10-03T08:30:59.208143Z",
     "shell.execute_reply": "2021-10-03T08:30:59.207777Z"
    }
   },
   "outputs": [
    {
     "data": {
      "image/svg+xml": [
       "<?xml version=\"1.0\" encoding=\"UTF-8\" standalone=\"no\"?><svg xmlns=\"http://www.w3.org/2000/svg\" xmlns:xlink=\"http://www.w3.org/1999/xlink\" contentScriptType=\"application/ecmascript\" contentStyleType=\"text/css\" height=\"12px\" preserveAspectRatio=\"none\" style=\"width:12px;height:12px;\" version=\"1.1\" viewBox=\"0 0 12 12\" width=\"12px\" zoomAndPan=\"magnify\"><defs/><g><!--MD5=[06afc254b03ac5e9d9fb7773b07d0800]\n",
       "@startuml\r\n",
       "skinparam ranksep 8\r\n",
       "top to bottom direction\r\n",
       "skinparam monochrome true\r\n",
       "skinparam classbackgroundcolor white\r\n",
       "skinparam shadowing false\r\n",
       "skinparam wrapWidth 300\r\n",
       "hide circle\r\n",
       "\r\n",
       "@enduml\r\n",
       "\n",
       "PlantUML version 1.2020.13(Sat Jun 13 12:26:38 UTC 2020)\n",
       "(EPL source distribution)\n",
       "Java Runtime: OpenJDK Runtime Environment\n",
       "JVM: OpenJDK 64-Bit Server VM\n",
       "Default Encoding: UTF-8\n",
       "Language: en\n",
       "Country: null\n",
       "--></g></svg>"
      ]
     },
     "execution_count": 48,
     "metadata": {},
     "output_type": "execute_result"
    }
   ],
   "source": [
    "%viz --style=\"TB\" --view=\"Action\" \"AliasImport\""
   ]
  },
  {
   "cell_type": "code",
   "execution_count": 49,
   "id": "470e0b61",
   "metadata": {
    "execution": {
     "iopub.execute_input": "2021-10-03T08:30:59.257747Z",
     "iopub.status.busy": "2021-10-03T08:30:59.257344Z",
     "iopub.status.idle": "2021-10-03T08:30:59.262453Z",
     "shell.execute_reply": "2021-10-03T08:30:59.262104Z"
    }
   },
   "outputs": [
    {
     "data": {
      "image/svg+xml": [
       "<?xml version=\"1.0\" encoding=\"UTF-8\" standalone=\"no\"?><svg xmlns=\"http://www.w3.org/2000/svg\" xmlns:xlink=\"http://www.w3.org/1999/xlink\" contentScriptType=\"application/ecmascript\" contentStyleType=\"text/css\" height=\"12px\" preserveAspectRatio=\"none\" style=\"width:12px;height:12px;\" version=\"1.1\" viewBox=\"0 0 12 12\" width=\"12px\" zoomAndPan=\"magnify\"><defs/><g><!--MD5=[e1ab0c84c44d2fef8bf5f140f2689906]\n",
       "@startuml\r\n",
       "skinparam roundcorner 20\r\n",
       "skinparam BoxPadding 20\r\n",
       "skinparam SequenceBoxBackgroundColor #white\r\n",
       "skinparam style strictuml\r\n",
       "skinparam maxMessageSize 100\r\n",
       "top to bottom direction\r\n",
       "skinparam monochrome true\r\n",
       "skinparam classbackgroundcolor white\r\n",
       "skinparam shadowing false\r\n",
       "skinparam wrapWidth 300\r\n",
       "hide circle\r\n",
       "\r\n",
       "@enduml\r\n",
       "\n",
       "PlantUML version 1.2020.13(Sat Jun 13 12:26:38 UTC 2020)\n",
       "(EPL source distribution)\n",
       "Java Runtime: OpenJDK Runtime Environment\n",
       "JVM: OpenJDK 64-Bit Server VM\n",
       "Default Encoding: UTF-8\n",
       "Language: en\n",
       "Country: null\n",
       "--></g></svg>"
      ]
     },
     "execution_count": 49,
     "metadata": {},
     "output_type": "execute_result"
    }
   ],
   "source": [
    "%viz --style=\"TB\" --view=\"Sequence\" \"AliasImport\""
   ]
  },
  {
   "cell_type": "code",
   "execution_count": 50,
   "id": "4c45b9a7",
   "metadata": {
    "execution": {
     "iopub.execute_input": "2021-10-03T08:30:59.312089Z",
     "iopub.status.busy": "2021-10-03T08:30:59.311681Z",
     "iopub.status.idle": "2021-10-03T08:30:59.336989Z",
     "shell.execute_reply": "2021-10-03T08:30:59.336605Z"
    }
   },
   "outputs": [
    {
     "data": {
      "image/svg+xml": [
       "<?xml version=\"1.0\" encoding=\"UTF-8\" standalone=\"no\"?><svg xmlns=\"http://www.w3.org/2000/svg\" xmlns:xlink=\"http://www.w3.org/1999/xlink\" contentScriptType=\"application/ecmascript\" contentStyleType=\"text/css\" height=\"303px\" preserveAspectRatio=\"none\" style=\"width:220px;height:303px;\" version=\"1.1\" viewBox=\"0 0 220 303\" width=\"220px\" zoomAndPan=\"magnify\"><defs/><g><!--MD5=[fbc87193dbaf4d95561dea2c320d4a47]\n",
       "cluster E1--><a href=\"psysml:da265157-d0d4-4951-bf22-47d5659e31ef\" target=\"_top\" title=\"psysml:da265157-d0d4-4951-bf22-47d5659e31ef\" xlink:actuate=\"onRequest\" xlink:href=\"psysml:da265157-d0d4-4951-bf22-47d5659e31ef\" xlink:show=\"new\" xlink:title=\"psysml:da265157-d0d4-4951-bf22-47d5659e31ef\" xlink:type=\"simple\"><polygon fill=\"#FFFFFF\" points=\"16,6,97,6,104,28.2969,198,28.2969,198,291,16,291,16,6\" style=\"stroke: #000000; stroke-width: 1.5;\"/><line style=\"stroke: #000000; stroke-width: 1.5;\" x1=\"16\" x2=\"104\" y1=\"28.2969\" y2=\"28.2969\"/><text fill=\"#000000\" font-family=\"sans-serif\" font-size=\"14\" font-weight=\"bold\" lengthAdjust=\"spacingAndGlyphs\" textLength=\"75\" x=\"20\" y=\"20.9951\">AliasImport</text></a><!--MD5=[e4f7fae6ed58524ba242bb0b0d3be6b7]\n",
       "cluster E2--><a href=\"psysml:2fd87941-b162-4111-8987-3fc5534acf16\" target=\"_top\" title=\"psysml:2fd87941-b162-4111-8987-3fc5534acf16\" xlink:actuate=\"onRequest\" xlink:href=\"psysml:2fd87941-b162-4111-8987-3fc5534acf16\" xlink:show=\"new\" xlink:title=\"psysml:2fd87941-b162-4111-8987-3fc5534acf16\" xlink:type=\"simple\"><polygon fill=\"#FFFFFF\" points=\"58,170,137,170,144,192.2969,156,192.2969,156,267,58,267,58,170\" style=\"stroke: #000000; stroke-width: 1.5;\"/><line style=\"stroke: #000000; stroke-width: 1.5;\" x1=\"58\" x2=\"144\" y1=\"192.2969\" y2=\"192.2969\"/><text fill=\"#000000\" font-family=\"sans-serif\" font-size=\"14\" font-weight=\"bold\" lengthAdjust=\"spacingAndGlyphs\" textLength=\"73\" x=\"62\" y=\"184.9951\">Definitions</text></a><!--MD5=[f6df4d0ebaf0b5dfb2ced0ae5af7c670]\n",
       "cluster E4--><a href=\"psysml:e3968260-a676-422f-8ca6-ec1afe8a305b\" target=\"_top\" title=\"psysml:e3968260-a676-422f-8ca6-ec1afe8a305b\" xlink:actuate=\"onRequest\" xlink:href=\"psysml:e3968260-a676-422f-8ca6-ec1afe8a305b\" xlink:show=\"new\" xlink:title=\"psysml:e3968260-a676-422f-8ca6-ec1afe8a305b\" xlink:type=\"simple\"><polygon fill=\"#FFFFFF\" points=\"40,49,98,49,105,71.2969,174,71.2969,174,146,40,146,40,49\" style=\"stroke: #000000; stroke-width: 1.5;\"/><line style=\"stroke: #000000; stroke-width: 1.5;\" x1=\"40\" x2=\"105\" y1=\"71.2969\" y2=\"71.2969\"/><text fill=\"#000000\" font-family=\"sans-serif\" font-size=\"14\" font-weight=\"bold\" lengthAdjust=\"spacingAndGlyphs\" textLength=\"52\" x=\"44\" y=\"63.9951\">Usages</text></a><!--MD5=[09b614a08d8cba4a07c9adeb5e0fee81]\n",
       "class E3--><a href=\"psysml:42326513-c813-4f17-9254-875ba93877ec\" target=\"_top\" title=\"psysml:42326513-c813-4f17-9254-875ba93877ec\" xlink:actuate=\"onRequest\" xlink:href=\"psysml:42326513-c813-4f17-9254-875ba93877ec\" xlink:show=\"new\" xlink:title=\"psysml:42326513-c813-4f17-9254-875ba93877ec\" xlink:type=\"simple\"><rect fill=\"#FFFFFF\" height=\"45.9375\" id=\"E3\" style=\"stroke: #383838; stroke-width: 1.5;\" width=\"66\" x=\"74\" y=\"205\"/><text fill=\"#000000\" font-family=\"sans-serif\" font-size=\"12\" font-style=\"italic\" lengthAdjust=\"spacingAndGlyphs\" textLength=\"64\" x=\"75\" y=\"221.1387\">«part def»</text><text fill=\"#000000\" font-family=\"sans-serif\" font-size=\"12\" lengthAdjust=\"spacingAndGlyphs\" textLength=\"45\" x=\"84.5\" y=\"235.1074\">Vehicle</text><line style=\"stroke: #383838; stroke-width: 1.5;\" x1=\"75\" x2=\"139\" y1=\"242.9375\" y2=\"242.9375\"/></a><!--MD5=[270fce915f116d4de14055a7c1d9a0f3]\n",
       "class E5--><a href=\"psysml:d491d5f9-6d8b-4b1d-a51c-b8388350c517\" target=\"_top\" title=\"psysml:d491d5f9-6d8b-4b1d-a51c-b8388350c517\" xlink:actuate=\"onRequest\" xlink:href=\"psysml:d491d5f9-6d8b-4b1d-a51c-b8388350c517\" xlink:show=\"new\" xlink:title=\"psysml:d491d5f9-6d8b-4b1d-a51c-b8388350c517\" xlink:type=\"simple\"><rect fill=\"#FFFFFF\" height=\"45.9375\" id=\"E5\" rx=\"10\" ry=\"10\" style=\"stroke: #383838; stroke-width: 1.5;\" width=\"102\" x=\"56\" y=\"84\"/><text fill=\"#000000\" font-family=\"sans-serif\" font-size=\"12\" font-style=\"italic\" lengthAdjust=\"spacingAndGlyphs\" textLength=\"40\" x=\"87\" y=\"100.1387\">«part»</text><text fill=\"#000000\" font-family=\"sans-serif\" font-size=\"12\" lengthAdjust=\"spacingAndGlyphs\" textLength=\"96\" x=\"59\" y=\"114.1074\">vehicle: Vehicle</text><line style=\"stroke: #383838; stroke-width: 1.5;\" x1=\"57\" x2=\"157\" y1=\"121.9375\" y2=\"121.9375\"/></a><!--MD5=[e9be52314489bd878ff4c7144b63c9e1]\n",
       "link E5 to E3--><a href=\"psysml:c9bd4828-45e6-4eb9-80eb-81bfe8e91163\" target=\"_top\" title=\"psysml:c9bd4828-45e6-4eb9-80eb-81bfe8e91163\" xlink:actuate=\"onRequest\" xlink:href=\"psysml:c9bd4828-45e6-4eb9-80eb-81bfe8e91163\" xlink:show=\"new\" xlink:title=\"psysml:c9bd4828-45e6-4eb9-80eb-81bfe8e91163\" xlink:type=\"simple\"><path d=\"M107,130.1 C107,145.37 107,166.16 107,184.57 \" fill=\"none\" id=\"E5-&gt;E3\" style=\"stroke: #383838; stroke-width: 1.0;\"/><polygon fill=\"#FFFFFF\" points=\"107,204.61,100,185.61,114,185.61,107,204.61\" style=\"stroke: #383838; stroke-width: 1.0;\"/><ellipse cx=\"102\" cy=\"179.91\" fill=\"#383838\" rx=\"2\" ry=\"2\" style=\"stroke: #383838; stroke-width: 1.0;\"/><ellipse cx=\"112\" cy=\"179.91\" fill=\"#383838\" rx=\"2\" ry=\"2\" style=\"stroke: #383838; stroke-width: 1.0;\"/></a><!--MD5=[e1f3c0dc00ee1743bb48717a1ed0e77f]\n",
       "@startuml\r\n",
       "top to bottom direction\r\n",
       "skinparam monochrome true\r\n",
       "skinparam classbackgroundcolor white\r\n",
       "skinparam shadowing false\r\n",
       "skinparam wrapWidth 300\r\n",
       "hide circle\r\n",
       "\r\n",
       "package \"AliasImport\" as E1  [[psysml:da265157-d0d4-4951-bf22-47d5659e31ef ]]  {\r\n",
       "package \"Definitions\" as E2  [[psysml:2fd87941-b162-4111-8987-3fc5534acf16 ]]  {\r\n",
       "comp def \"Vehicle\" as E3  <<(T,blue) part def>> [[psysml:42326513-c813-4f17-9254-875ba93877ec ]] {\r\n",
       "}\r\n",
       "}\r\n",
       "package \"Usages\" as E4  [[psysml:e3968260-a676-422f-8ca6-ec1afe8a305b ]]  {\r\n",
       "comp usage \"vehicle: Vehicle\" as E5  <<(T,blue) part>> [[psysml:d491d5f9-6d8b-4b1d-a51c-b8388350c517 ]] {\r\n",
       "}\r\n",
       "}\r\n",
       "}\r\n",
       "E5 - -:|> E3 [[psysml:c9bd4828-45e6-4eb9-80eb-81bfe8e91163 ]] \r\n",
       "@enduml\r\n",
       "\n",
       "PlantUML version 1.2020.13(Sat Jun 13 12:26:38 UTC 2020)\n",
       "(EPL source distribution)\n",
       "Java Runtime: OpenJDK Runtime Environment\n",
       "JVM: OpenJDK 64-Bit Server VM\n",
       "Default Encoding: UTF-8\n",
       "Language: en\n",
       "Country: null\n",
       "--></g></svg>"
      ]
     },
     "execution_count": 50,
     "metadata": {},
     "output_type": "execute_result"
    }
   ],
   "source": [
    "%viz --style=\"TB\" --view=\"MIXED\" \"AliasImport\""
   ]
  },
  {
   "cell_type": "code",
   "execution_count": 51,
   "id": "6c1d67ac",
   "metadata": {
    "execution": {
     "iopub.execute_input": "2021-10-03T08:30:59.386181Z",
     "iopub.status.busy": "2021-10-03T08:30:59.385782Z",
     "iopub.status.idle": "2021-10-03T08:30:59.413270Z",
     "shell.execute_reply": "2021-10-03T08:30:59.412910Z"
    }
   },
   "outputs": [
    {
     "data": {
      "image/svg+xml": [
       "<?xml version=\"1.0\" encoding=\"UTF-8\" standalone=\"no\"?><svg xmlns=\"http://www.w3.org/2000/svg\" xmlns:xlink=\"http://www.w3.org/1999/xlink\" contentScriptType=\"application/ecmascript\" contentStyleType=\"text/css\" height=\"303px\" preserveAspectRatio=\"none\" style=\"width:220px;height:303px;\" version=\"1.1\" viewBox=\"0 0 220 303\" width=\"220px\" zoomAndPan=\"magnify\"><defs/><g><!--MD5=[fbc87193dbaf4d95561dea2c320d4a47]\n",
       "cluster E1--><a href=\"psysml:da265157-d0d4-4951-bf22-47d5659e31ef\" target=\"_top\" title=\"psysml:da265157-d0d4-4951-bf22-47d5659e31ef\" xlink:actuate=\"onRequest\" xlink:href=\"psysml:da265157-d0d4-4951-bf22-47d5659e31ef\" xlink:show=\"new\" xlink:title=\"psysml:da265157-d0d4-4951-bf22-47d5659e31ef\" xlink:type=\"simple\"><polygon fill=\"#FFFFFF\" points=\"16,6,97,6,104,28.2969,198,28.2969,198,291,16,291,16,6\" style=\"stroke: #000000; stroke-width: 1.5;\"/><line style=\"stroke: #000000; stroke-width: 1.5;\" x1=\"16\" x2=\"104\" y1=\"28.2969\" y2=\"28.2969\"/><text fill=\"#000000\" font-family=\"sans-serif\" font-size=\"14\" font-weight=\"bold\" lengthAdjust=\"spacingAndGlyphs\" textLength=\"75\" x=\"20\" y=\"20.9951\">AliasImport</text></a><!--MD5=[e4f7fae6ed58524ba242bb0b0d3be6b7]\n",
       "cluster E2--><a href=\"psysml:2fd87941-b162-4111-8987-3fc5534acf16\" target=\"_top\" title=\"psysml:2fd87941-b162-4111-8987-3fc5534acf16\" xlink:actuate=\"onRequest\" xlink:href=\"psysml:2fd87941-b162-4111-8987-3fc5534acf16\" xlink:show=\"new\" xlink:title=\"psysml:2fd87941-b162-4111-8987-3fc5534acf16\" xlink:type=\"simple\"><polygon fill=\"#FFFFFF\" points=\"58,170,137,170,144,192.2969,156,192.2969,156,267,58,267,58,170\" style=\"stroke: #000000; stroke-width: 1.5;\"/><line style=\"stroke: #000000; stroke-width: 1.5;\" x1=\"58\" x2=\"144\" y1=\"192.2969\" y2=\"192.2969\"/><text fill=\"#000000\" font-family=\"sans-serif\" font-size=\"14\" font-weight=\"bold\" lengthAdjust=\"spacingAndGlyphs\" textLength=\"73\" x=\"62\" y=\"184.9951\">Definitions</text></a><!--MD5=[f6df4d0ebaf0b5dfb2ced0ae5af7c670]\n",
       "cluster E4--><a href=\"psysml:e3968260-a676-422f-8ca6-ec1afe8a305b\" target=\"_top\" title=\"psysml:e3968260-a676-422f-8ca6-ec1afe8a305b\" xlink:actuate=\"onRequest\" xlink:href=\"psysml:e3968260-a676-422f-8ca6-ec1afe8a305b\" xlink:show=\"new\" xlink:title=\"psysml:e3968260-a676-422f-8ca6-ec1afe8a305b\" xlink:type=\"simple\"><polygon fill=\"#FFFFFF\" points=\"40,49,98,49,105,71.2969,174,71.2969,174,146,40,146,40,49\" style=\"stroke: #000000; stroke-width: 1.5;\"/><line style=\"stroke: #000000; stroke-width: 1.5;\" x1=\"40\" x2=\"105\" y1=\"71.2969\" y2=\"71.2969\"/><text fill=\"#000000\" font-family=\"sans-serif\" font-size=\"14\" font-weight=\"bold\" lengthAdjust=\"spacingAndGlyphs\" textLength=\"52\" x=\"44\" y=\"63.9951\">Usages</text></a><!--MD5=[09b614a08d8cba4a07c9adeb5e0fee81]\n",
       "class E3--><a href=\"psysml:42326513-c813-4f17-9254-875ba93877ec\" target=\"_top\" title=\"psysml:42326513-c813-4f17-9254-875ba93877ec\" xlink:actuate=\"onRequest\" xlink:href=\"psysml:42326513-c813-4f17-9254-875ba93877ec\" xlink:show=\"new\" xlink:title=\"psysml:42326513-c813-4f17-9254-875ba93877ec\" xlink:type=\"simple\"><rect fill=\"#FFFFFF\" height=\"45.9375\" id=\"E3\" style=\"stroke: #383838; stroke-width: 1.5;\" width=\"66\" x=\"74\" y=\"205\"/><text fill=\"#000000\" font-family=\"sans-serif\" font-size=\"12\" font-style=\"italic\" lengthAdjust=\"spacingAndGlyphs\" textLength=\"64\" x=\"75\" y=\"221.1387\">«part def»</text><text fill=\"#000000\" font-family=\"sans-serif\" font-size=\"12\" lengthAdjust=\"spacingAndGlyphs\" textLength=\"45\" x=\"84.5\" y=\"235.1074\">Vehicle</text><line style=\"stroke: #383838; stroke-width: 1.5;\" x1=\"75\" x2=\"139\" y1=\"242.9375\" y2=\"242.9375\"/></a><!--MD5=[270fce915f116d4de14055a7c1d9a0f3]\n",
       "class E5--><a href=\"psysml:d491d5f9-6d8b-4b1d-a51c-b8388350c517\" target=\"_top\" title=\"psysml:d491d5f9-6d8b-4b1d-a51c-b8388350c517\" xlink:actuate=\"onRequest\" xlink:href=\"psysml:d491d5f9-6d8b-4b1d-a51c-b8388350c517\" xlink:show=\"new\" xlink:title=\"psysml:d491d5f9-6d8b-4b1d-a51c-b8388350c517\" xlink:type=\"simple\"><rect fill=\"#FFFFFF\" height=\"45.9375\" id=\"E5\" rx=\"10\" ry=\"10\" style=\"stroke: #383838; stroke-width: 1.5;\" width=\"102\" x=\"56\" y=\"84\"/><text fill=\"#000000\" font-family=\"sans-serif\" font-size=\"12\" font-style=\"italic\" lengthAdjust=\"spacingAndGlyphs\" textLength=\"40\" x=\"87\" y=\"100.1387\">«part»</text><text fill=\"#000000\" font-family=\"sans-serif\" font-size=\"12\" lengthAdjust=\"spacingAndGlyphs\" textLength=\"96\" x=\"59\" y=\"114.1074\">vehicle: Vehicle</text><line style=\"stroke: #383838; stroke-width: 1.5;\" x1=\"57\" x2=\"157\" y1=\"121.9375\" y2=\"121.9375\"/></a><!--MD5=[e9be52314489bd878ff4c7144b63c9e1]\n",
       "link E5 to E3--><a href=\"psysml:c9bd4828-45e6-4eb9-80eb-81bfe8e91163\" target=\"_top\" title=\"psysml:c9bd4828-45e6-4eb9-80eb-81bfe8e91163\" xlink:actuate=\"onRequest\" xlink:href=\"psysml:c9bd4828-45e6-4eb9-80eb-81bfe8e91163\" xlink:show=\"new\" xlink:title=\"psysml:c9bd4828-45e6-4eb9-80eb-81bfe8e91163\" xlink:type=\"simple\"><path d=\"M107,130.04 C107,130.04 107,184.63 107,184.63 \" fill=\"none\" id=\"E5-&gt;E3\" style=\"stroke: #383838; stroke-width: 1.0;\"/><polygon fill=\"#FFFFFF\" points=\"107,204.63,100,185.63,114,185.63,107,204.63\" style=\"stroke: #383838; stroke-width: 1.0;\"/><ellipse cx=\"102\" cy=\"179.93\" fill=\"#383838\" rx=\"2\" ry=\"2\" style=\"stroke: #383838; stroke-width: 1.0;\"/><ellipse cx=\"112\" cy=\"179.93\" fill=\"#383838\" rx=\"2\" ry=\"2\" style=\"stroke: #383838; stroke-width: 1.0;\"/></a><!--MD5=[92885520e745b691d4a439263e480486]\n",
       "@startuml\r\n",
       "skinparam linetype ortho\r\n",
       "skinparam monochrome true\r\n",
       "skinparam classbackgroundcolor white\r\n",
       "skinparam shadowing false\r\n",
       "skinparam wrapWidth 300\r\n",
       "hide circle\r\n",
       "\r\n",
       "package \"AliasImport\" as E1  [[psysml:da265157-d0d4-4951-bf22-47d5659e31ef ]]  {\r\n",
       "package \"Definitions\" as E2  [[psysml:2fd87941-b162-4111-8987-3fc5534acf16 ]]  {\r\n",
       "comp def \"Vehicle\" as E3  <<(T,blue) part def>> [[psysml:42326513-c813-4f17-9254-875ba93877ec ]] {\r\n",
       "}\r\n",
       "}\r\n",
       "package \"Usages\" as E4  [[psysml:e3968260-a676-422f-8ca6-ec1afe8a305b ]]  {\r\n",
       "comp usage \"vehicle: Vehicle\" as E5  <<(T,blue) part>> [[psysml:d491d5f9-6d8b-4b1d-a51c-b8388350c517 ]] {\r\n",
       "}\r\n",
       "}\r\n",
       "}\r\n",
       "E5 - -:|> E3 [[psysml:c9bd4828-45e6-4eb9-80eb-81bfe8e91163 ]] \r\n",
       "@enduml\r\n",
       "\n",
       "PlantUML version 1.2020.13(Sat Jun 13 12:26:38 UTC 2020)\n",
       "(EPL source distribution)\n",
       "Java Runtime: OpenJDK Runtime Environment\n",
       "JVM: OpenJDK 64-Bit Server VM\n",
       "Default Encoding: UTF-8\n",
       "Language: en\n",
       "Country: null\n",
       "--></g></svg>"
      ]
     },
     "execution_count": 51,
     "metadata": {},
     "output_type": "execute_result"
    }
   ],
   "source": [
    "%viz --style=\"ORTHOLINE\" --view=\"Default\" \"AliasImport\""
   ]
  },
  {
   "cell_type": "code",
   "execution_count": 52,
   "id": "0c6082bc",
   "metadata": {
    "execution": {
     "iopub.execute_input": "2021-10-03T08:30:59.462452Z",
     "iopub.status.busy": "2021-10-03T08:30:59.462053Z",
     "iopub.status.idle": "2021-10-03T08:30:59.488890Z",
     "shell.execute_reply": "2021-10-03T08:30:59.488540Z"
    }
   },
   "outputs": [
    {
     "data": {
      "image/svg+xml": [
       "<?xml version=\"1.0\" encoding=\"UTF-8\" standalone=\"no\"?><svg xmlns=\"http://www.w3.org/2000/svg\" xmlns:xlink=\"http://www.w3.org/1999/xlink\" contentScriptType=\"application/ecmascript\" contentStyleType=\"text/css\" height=\"303px\" preserveAspectRatio=\"none\" style=\"width:220px;height:303px;\" version=\"1.1\" viewBox=\"0 0 220 303\" width=\"220px\" zoomAndPan=\"magnify\"><defs/><g><!--MD5=[fbc87193dbaf4d95561dea2c320d4a47]\n",
       "cluster E1--><a href=\"psysml:da265157-d0d4-4951-bf22-47d5659e31ef\" target=\"_top\" title=\"psysml:da265157-d0d4-4951-bf22-47d5659e31ef\" xlink:actuate=\"onRequest\" xlink:href=\"psysml:da265157-d0d4-4951-bf22-47d5659e31ef\" xlink:show=\"new\" xlink:title=\"psysml:da265157-d0d4-4951-bf22-47d5659e31ef\" xlink:type=\"simple\"><polygon fill=\"#FFFFFF\" points=\"16,6,97,6,104,28.2969,198,28.2969,198,291,16,291,16,6\" style=\"stroke: #000000; stroke-width: 1.5;\"/><line style=\"stroke: #000000; stroke-width: 1.5;\" x1=\"16\" x2=\"104\" y1=\"28.2969\" y2=\"28.2969\"/><text fill=\"#000000\" font-family=\"sans-serif\" font-size=\"14\" font-weight=\"bold\" lengthAdjust=\"spacingAndGlyphs\" textLength=\"75\" x=\"20\" y=\"20.9951\">AliasImport</text></a><!--MD5=[e4f7fae6ed58524ba242bb0b0d3be6b7]\n",
       "cluster E2--><a href=\"psysml:2fd87941-b162-4111-8987-3fc5534acf16\" target=\"_top\" title=\"psysml:2fd87941-b162-4111-8987-3fc5534acf16\" xlink:actuate=\"onRequest\" xlink:href=\"psysml:2fd87941-b162-4111-8987-3fc5534acf16\" xlink:show=\"new\" xlink:title=\"psysml:2fd87941-b162-4111-8987-3fc5534acf16\" xlink:type=\"simple\"><polygon fill=\"#FFFFFF\" points=\"58,170,137,170,144,192.2969,156,192.2969,156,267,58,267,58,170\" style=\"stroke: #000000; stroke-width: 1.5;\"/><line style=\"stroke: #000000; stroke-width: 1.5;\" x1=\"58\" x2=\"144\" y1=\"192.2969\" y2=\"192.2969\"/><text fill=\"#000000\" font-family=\"sans-serif\" font-size=\"14\" font-weight=\"bold\" lengthAdjust=\"spacingAndGlyphs\" textLength=\"73\" x=\"62\" y=\"184.9951\">Definitions</text></a><!--MD5=[f6df4d0ebaf0b5dfb2ced0ae5af7c670]\n",
       "cluster E4--><a href=\"psysml:e3968260-a676-422f-8ca6-ec1afe8a305b\" target=\"_top\" title=\"psysml:e3968260-a676-422f-8ca6-ec1afe8a305b\" xlink:actuate=\"onRequest\" xlink:href=\"psysml:e3968260-a676-422f-8ca6-ec1afe8a305b\" xlink:show=\"new\" xlink:title=\"psysml:e3968260-a676-422f-8ca6-ec1afe8a305b\" xlink:type=\"simple\"><polygon fill=\"#FFFFFF\" points=\"40,49,98,49,105,71.2969,174,71.2969,174,146,40,146,40,49\" style=\"stroke: #000000; stroke-width: 1.5;\"/><line style=\"stroke: #000000; stroke-width: 1.5;\" x1=\"40\" x2=\"105\" y1=\"71.2969\" y2=\"71.2969\"/><text fill=\"#000000\" font-family=\"sans-serif\" font-size=\"14\" font-weight=\"bold\" lengthAdjust=\"spacingAndGlyphs\" textLength=\"52\" x=\"44\" y=\"63.9951\">Usages</text></a><!--MD5=[09b614a08d8cba4a07c9adeb5e0fee81]\n",
       "class E3--><a href=\"psysml:42326513-c813-4f17-9254-875ba93877ec\" target=\"_top\" title=\"psysml:42326513-c813-4f17-9254-875ba93877ec\" xlink:actuate=\"onRequest\" xlink:href=\"psysml:42326513-c813-4f17-9254-875ba93877ec\" xlink:show=\"new\" xlink:title=\"psysml:42326513-c813-4f17-9254-875ba93877ec\" xlink:type=\"simple\"><rect fill=\"#FFFFFF\" height=\"45.9375\" id=\"E3\" style=\"stroke: #383838; stroke-width: 1.5;\" width=\"66\" x=\"74\" y=\"205\"/><text fill=\"#000000\" font-family=\"sans-serif\" font-size=\"12\" font-style=\"italic\" lengthAdjust=\"spacingAndGlyphs\" textLength=\"64\" x=\"75\" y=\"221.1387\">«part def»</text><text fill=\"#000000\" font-family=\"sans-serif\" font-size=\"12\" lengthAdjust=\"spacingAndGlyphs\" textLength=\"45\" x=\"84.5\" y=\"235.1074\">Vehicle</text><line style=\"stroke: #383838; stroke-width: 1.5;\" x1=\"75\" x2=\"139\" y1=\"242.9375\" y2=\"242.9375\"/></a><!--MD5=[270fce915f116d4de14055a7c1d9a0f3]\n",
       "class E5--><a href=\"psysml:d491d5f9-6d8b-4b1d-a51c-b8388350c517\" target=\"_top\" title=\"psysml:d491d5f9-6d8b-4b1d-a51c-b8388350c517\" xlink:actuate=\"onRequest\" xlink:href=\"psysml:d491d5f9-6d8b-4b1d-a51c-b8388350c517\" xlink:show=\"new\" xlink:title=\"psysml:d491d5f9-6d8b-4b1d-a51c-b8388350c517\" xlink:type=\"simple\"><rect fill=\"#FFFFFF\" height=\"45.9375\" id=\"E5\" rx=\"10\" ry=\"10\" style=\"stroke: #383838; stroke-width: 1.5;\" width=\"102\" x=\"56\" y=\"84\"/><text fill=\"#000000\" font-family=\"sans-serif\" font-size=\"12\" font-style=\"italic\" lengthAdjust=\"spacingAndGlyphs\" textLength=\"40\" x=\"87\" y=\"100.1387\">«part»</text><text fill=\"#000000\" font-family=\"sans-serif\" font-size=\"12\" lengthAdjust=\"spacingAndGlyphs\" textLength=\"96\" x=\"59\" y=\"114.1074\">vehicle: Vehicle</text><line style=\"stroke: #383838; stroke-width: 1.5;\" x1=\"57\" x2=\"157\" y1=\"121.9375\" y2=\"121.9375\"/></a><!--MD5=[e9be52314489bd878ff4c7144b63c9e1]\n",
       "link E5 to E3--><a href=\"psysml:c9bd4828-45e6-4eb9-80eb-81bfe8e91163\" target=\"_top\" title=\"psysml:c9bd4828-45e6-4eb9-80eb-81bfe8e91163\" xlink:actuate=\"onRequest\" xlink:href=\"psysml:c9bd4828-45e6-4eb9-80eb-81bfe8e91163\" xlink:show=\"new\" xlink:title=\"psysml:c9bd4828-45e6-4eb9-80eb-81bfe8e91163\" xlink:type=\"simple\"><path d=\"M107,130.04 C107,130.04 107,184.63 107,184.63 \" fill=\"none\" id=\"E5-&gt;E3\" style=\"stroke: #383838; stroke-width: 1.0;\"/><polygon fill=\"#FFFFFF\" points=\"107,204.63,100,185.63,114,185.63,107,204.63\" style=\"stroke: #383838; stroke-width: 1.0;\"/><ellipse cx=\"102\" cy=\"179.93\" fill=\"#383838\" rx=\"2\" ry=\"2\" style=\"stroke: #383838; stroke-width: 1.0;\"/><ellipse cx=\"112\" cy=\"179.93\" fill=\"#383838\" rx=\"2\" ry=\"2\" style=\"stroke: #383838; stroke-width: 1.0;\"/></a><!--MD5=[92885520e745b691d4a439263e480486]\n",
       "@startuml\r\n",
       "skinparam linetype ortho\r\n",
       "skinparam monochrome true\r\n",
       "skinparam classbackgroundcolor white\r\n",
       "skinparam shadowing false\r\n",
       "skinparam wrapWidth 300\r\n",
       "hide circle\r\n",
       "\r\n",
       "package \"AliasImport\" as E1  [[psysml:da265157-d0d4-4951-bf22-47d5659e31ef ]]  {\r\n",
       "package \"Definitions\" as E2  [[psysml:2fd87941-b162-4111-8987-3fc5534acf16 ]]  {\r\n",
       "comp def \"Vehicle\" as E3  <<(T,blue) part def>> [[psysml:42326513-c813-4f17-9254-875ba93877ec ]] {\r\n",
       "}\r\n",
       "}\r\n",
       "package \"Usages\" as E4  [[psysml:e3968260-a676-422f-8ca6-ec1afe8a305b ]]  {\r\n",
       "comp usage \"vehicle: Vehicle\" as E5  <<(T,blue) part>> [[psysml:d491d5f9-6d8b-4b1d-a51c-b8388350c517 ]] {\r\n",
       "}\r\n",
       "}\r\n",
       "}\r\n",
       "E5 - -:|> E3 [[psysml:c9bd4828-45e6-4eb9-80eb-81bfe8e91163 ]] \r\n",
       "@enduml\r\n",
       "\n",
       "PlantUML version 1.2020.13(Sat Jun 13 12:26:38 UTC 2020)\n",
       "(EPL source distribution)\n",
       "Java Runtime: OpenJDK Runtime Environment\n",
       "JVM: OpenJDK 64-Bit Server VM\n",
       "Default Encoding: UTF-8\n",
       "Language: en\n",
       "Country: null\n",
       "--></g></svg>"
      ]
     },
     "execution_count": 52,
     "metadata": {},
     "output_type": "execute_result"
    }
   ],
   "source": [
    "%viz --style=\"ORTHOLINE\" --view=\"Tree\" \"AliasImport\""
   ]
  },
  {
   "cell_type": "code",
   "execution_count": 53,
   "id": "2e171bd4",
   "metadata": {
    "execution": {
     "iopub.execute_input": "2021-10-03T08:30:59.538234Z",
     "iopub.status.busy": "2021-10-03T08:30:59.537836Z",
     "iopub.status.idle": "2021-10-03T08:30:59.542919Z",
     "shell.execute_reply": "2021-10-03T08:30:59.542568Z"
    }
   },
   "outputs": [
    {
     "data": {
      "image/svg+xml": [
       "<?xml version=\"1.0\" encoding=\"UTF-8\" standalone=\"no\"?><svg xmlns=\"http://www.w3.org/2000/svg\" xmlns:xlink=\"http://www.w3.org/1999/xlink\" contentScriptType=\"application/ecmascript\" contentStyleType=\"text/css\" height=\"12px\" preserveAspectRatio=\"none\" style=\"width:12px;height:12px;\" version=\"1.1\" viewBox=\"0 0 12 12\" width=\"12px\" zoomAndPan=\"magnify\"><defs/><g><!--MD5=[97d6f38768b311333d388e66b2b27985]\n",
       "@startuml\r\n",
       "skinparam linetype ortho\r\n",
       "skinparam monochrome true\r\n",
       "skinparam classbackgroundcolor white\r\n",
       "skinparam shadowing false\r\n",
       "skinparam wrapWidth 300\r\n",
       "hide circle\r\n",
       "\r\n",
       "@enduml\r\n",
       "\n",
       "PlantUML version 1.2020.13(Sat Jun 13 12:26:38 UTC 2020)\n",
       "(EPL source distribution)\n",
       "Java Runtime: OpenJDK Runtime Environment\n",
       "JVM: OpenJDK 64-Bit Server VM\n",
       "Default Encoding: UTF-8\n",
       "Language: en\n",
       "Country: null\n",
       "--></g></svg>"
      ]
     },
     "execution_count": 53,
     "metadata": {},
     "output_type": "execute_result"
    }
   ],
   "source": [
    "%viz --style=\"ORTHOLINE\" --view=\"State\" \"AliasImport\""
   ]
  },
  {
   "cell_type": "code",
   "execution_count": 54,
   "id": "4f29d7cc",
   "metadata": {
    "execution": {
     "iopub.execute_input": "2021-10-03T08:30:59.592287Z",
     "iopub.status.busy": "2021-10-03T08:30:59.591889Z",
     "iopub.status.idle": "2021-10-03T08:30:59.621925Z",
     "shell.execute_reply": "2021-10-03T08:30:59.621556Z"
    }
   },
   "outputs": [
    {
     "data": {
      "image/svg+xml": [
       "<?xml version=\"1.0\" encoding=\"UTF-8\" standalone=\"no\"?><svg xmlns=\"http://www.w3.org/2000/svg\" xmlns:xlink=\"http://www.w3.org/1999/xlink\" contentScriptType=\"application/ecmascript\" contentStyleType=\"text/css\" height=\"179px\" preserveAspectRatio=\"none\" style=\"width:458px;height:179px;\" version=\"1.1\" viewBox=\"0 0 458 179\" width=\"458px\" zoomAndPan=\"magnify\"><defs/><g><!--MD5=[fbc87193dbaf4d95561dea2c320d4a47]\n",
       "cluster E1--><a href=\"psysml:da265157-d0d4-4951-bf22-47d5659e31ef\" target=\"_top\" title=\"psysml:da265157-d0d4-4951-bf22-47d5659e31ef\" xlink:actuate=\"onRequest\" xlink:href=\"psysml:da265157-d0d4-4951-bf22-47d5659e31ef\" xlink:show=\"new\" xlink:title=\"psysml:da265157-d0d4-4951-bf22-47d5659e31ef\" xlink:type=\"simple\"><polygon fill=\"#FFFFFF\" points=\"16,6,97,6,104,28.2969,436,28.2969,436,167,16,167,16,6\" style=\"stroke: #000000; stroke-width: 1.5;\"/><line style=\"stroke: #000000; stroke-width: 1.5;\" x1=\"16\" x2=\"104\" y1=\"28.2969\" y2=\"28.2969\"/><text fill=\"#000000\" font-family=\"sans-serif\" font-size=\"14\" font-weight=\"bold\" lengthAdjust=\"spacingAndGlyphs\" textLength=\"75\" x=\"20\" y=\"20.9951\">AliasImport</text></a><!--MD5=[e4f7fae6ed58524ba242bb0b0d3be6b7]\n",
       "cluster E2--><a href=\"psysml:2fd87941-b162-4111-8987-3fc5534acf16\" target=\"_top\" title=\"psysml:2fd87941-b162-4111-8987-3fc5534acf16\" xlink:actuate=\"onRequest\" xlink:href=\"psysml:2fd87941-b162-4111-8987-3fc5534acf16\" xlink:show=\"new\" xlink:title=\"psysml:2fd87941-b162-4111-8987-3fc5534acf16\" xlink:type=\"simple\"><polygon fill=\"#FFFFFF\" points=\"202,49,281,49,288,71.2969,412,71.2969,412,143,202,143,202,49\" style=\"stroke: #000000; stroke-width: 1.5;\"/><line style=\"stroke: #000000; stroke-width: 1.5;\" x1=\"202\" x2=\"288\" y1=\"71.2969\" y2=\"71.2969\"/><text fill=\"#000000\" font-family=\"sans-serif\" font-size=\"14\" font-weight=\"bold\" lengthAdjust=\"spacingAndGlyphs\" textLength=\"73\" x=\"206\" y=\"63.9951\">Definitions</text></a><!--MD5=[de5ec2e2e8f62f467e546659f5068c88]\n",
       "cluster E5--><a href=\"psysml:e3968260-a676-422f-8ca6-ec1afe8a305b\" target=\"_top\" title=\"psysml:e3968260-a676-422f-8ca6-ec1afe8a305b\" xlink:actuate=\"onRequest\" xlink:href=\"psysml:e3968260-a676-422f-8ca6-ec1afe8a305b\" xlink:show=\"new\" xlink:title=\"psysml:e3968260-a676-422f-8ca6-ec1afe8a305b\" xlink:type=\"simple\"><polygon fill=\"#FFFFFF\" points=\"40,50.5,98,50.5,105,72.7969,178,72.7969,178,141.5,40,141.5,40,50.5\" style=\"stroke: #000000; stroke-width: 1.5;\"/><line style=\"stroke: #000000; stroke-width: 1.5;\" x1=\"40\" x2=\"105\" y1=\"72.7969\" y2=\"72.7969\"/><text fill=\"#000000\" font-family=\"sans-serif\" font-size=\"14\" font-weight=\"bold\" lengthAdjust=\"spacingAndGlyphs\" textLength=\"52\" x=\"44\" y=\"65.4951\">Usages</text></a><g id=\"E1.E2.E3\"><a href=\"psysml:42326513-c813-4f17-9254-875ba93877ec\" target=\"_top\" title=\"psysml:42326513-c813-4f17-9254-875ba93877ec\" xlink:actuate=\"onRequest\" xlink:href=\"psysml:42326513-c813-4f17-9254-875ba93877ec\" xlink:show=\"new\" xlink:title=\"psysml:42326513-c813-4f17-9254-875ba93877ec\" xlink:type=\"simple\"><rect fill=\"#FFFFFF\" height=\"42.9375\" id=\"E3\" style=\"stroke: #383838; stroke-width: 1.5;\" width=\"71\" x=\"324.5\" y=\"84\"/><rect fill=\"#F8F8F8\" height=\"37.9375\" style=\"stroke: #383838; stroke-width: 1.5;\" width=\"71\" x=\"324.5\" y=\"84\"/><text fill=\"#000000\" font-family=\"sans-serif\" font-size=\"12\" font-style=\"italic\" lengthAdjust=\"spacingAndGlyphs\" textLength=\"64\" x=\"328\" y=\"100.1387\">«part def»</text><text fill=\"#000000\" font-family=\"sans-serif\" font-size=\"12\" lengthAdjust=\"spacingAndGlyphs\" textLength=\"45\" x=\"337.5\" y=\"114.1074\">Vehicle</text></a></g><g id=\"E1.E2.E4\"><a href=\"psysml:42326513-c813-4f17-9254-875ba93877ec\" target=\"_top\" title=\"psysml:42326513-c813-4f17-9254-875ba93877ec\" xlink:actuate=\"onRequest\" xlink:href=\"psysml:42326513-c813-4f17-9254-875ba93877ec\" xlink:show=\"new\" xlink:title=\"psysml:42326513-c813-4f17-9254-875ba93877ec\" xlink:type=\"simple\"><rect fill=\"#FFFFFF\" height=\"42.9375\" id=\"E4\" style=\"stroke: #383838; stroke-width: 1.5;\" width=\"71\" x=\"218.5\" y=\"84\"/><rect fill=\"#F8F8F8\" height=\"37.9375\" style=\"stroke: #383838; stroke-width: 1.5;\" width=\"71\" x=\"218.5\" y=\"84\"/><text fill=\"#000000\" font-family=\"sans-serif\" font-size=\"12\" font-style=\"italic\" lengthAdjust=\"spacingAndGlyphs\" textLength=\"64\" x=\"222\" y=\"100.1387\">«part def»</text><text fill=\"#000000\" font-family=\"sans-serif\" font-size=\"12\" lengthAdjust=\"spacingAndGlyphs\" textLength=\"45\" x=\"231.5\" y=\"114.1074\">Vehicle</text></a></g><g id=\"E1.E5.E6\"><a href=\"psysml:d491d5f9-6d8b-4b1d-a51c-b8388350c517\" target=\"_top\" title=\"psysml:d491d5f9-6d8b-4b1d-a51c-b8388350c517\" xlink:actuate=\"onRequest\" xlink:href=\"psysml:d491d5f9-6d8b-4b1d-a51c-b8388350c517\" xlink:show=\"new\" xlink:title=\"psysml:d491d5f9-6d8b-4b1d-a51c-b8388350c517\" xlink:type=\"simple\"><rect fill=\"#FFFFFF\" height=\"40\" id=\"E6\" rx=\"10\" ry=\"10\" style=\"stroke: #383838; stroke-width: 1.5;\" width=\"107\" x=\"55.5\" y=\"85.5\"/><rect fill=\"#F8F8F8\" height=\"23.9688\" rx=\"10\" ry=\"10\" style=\"stroke: #F8F8F8; stroke-width: 1.5;\" width=\"107\" x=\"55.5\" y=\"85.5\"/><rect fill=\"#F8F8F8\" height=\"10\" style=\"stroke: #F8F8F8; stroke-width: 1.5;\" width=\"107\" x=\"55.5\" y=\"99.4688\"/><rect fill=\"none\" height=\"40\" id=\"E6\" rx=\"10\" ry=\"10\" style=\"stroke: #383838; stroke-width: 1.5;\" width=\"107\" x=\"55.5\" y=\"85.5\"/><text fill=\"#000000\" font-family=\"sans-serif\" font-size=\"12\" lengthAdjust=\"spacingAndGlyphs\" textLength=\"96\" x=\"61\" y=\"101.6387\">vehicle: Vehicle</text></a></g><!--MD5=[43731a45fd042f93dc25bd96146b85d9]\n",
       "@startuml\r\n",
       "skinparam ranksep 10\r\n",
       "skinparam rectangle {\r\n",
       " backgroundColor<<block>> LightGreen\r\n",
       "}\r\n",
       "skinparam linetype ortho\r\n",
       "skinparam monochrome true\r\n",
       "skinparam classbackgroundcolor white\r\n",
       "skinparam shadowing false\r\n",
       "skinparam wrapWidth 300\r\n",
       "hide circle\r\n",
       "\r\n",
       "package \"AliasImport\" as E1  [[psysml:da265157-d0d4-4951-bf22-47d5659e31ef ]]  {\r\n",
       "package \"Definitions\" as E2  [[psysml:2fd87941-b162-4111-8987-3fc5534acf16 ]]  {\r\n",
       "rec def \"Vehicle\" as E3  <<(T,blue) part def>> [[psysml:42326513-c813-4f17-9254-875ba93877ec ]] {\r\n",
       "}\r\n",
       "rec def \"Vehicle\" as E4  <<(T,blue) part def>> [[psysml:42326513-c813-4f17-9254-875ba93877ec ]] {\r\n",
       "}\r\n",
       "}\r\n",
       "package \"Usages\" as E5  [[psysml:e3968260-a676-422f-8ca6-ec1afe8a305b ]]  {\r\n",
       "rec usage \"vehicle: Vehicle\" as E6  [[psysml:d491d5f9-6d8b-4b1d-a51c-b8388350c517 ]] {\r\n",
       "}\r\n",
       "}\r\n",
       "}\r\n",
       "@enduml\r\n",
       "\n",
       "PlantUML version 1.2020.13(Sat Jun 13 12:26:38 UTC 2020)\n",
       "(EPL source distribution)\n",
       "Java Runtime: OpenJDK Runtime Environment\n",
       "JVM: OpenJDK 64-Bit Server VM\n",
       "Default Encoding: UTF-8\n",
       "Language: en\n",
       "Country: null\n",
       "--></g></svg>"
      ]
     },
     "execution_count": 54,
     "metadata": {},
     "output_type": "execute_result"
    }
   ],
   "source": [
    "%viz --style=\"ORTHOLINE\" --view=\"Interconnection\" \"AliasImport\""
   ]
  },
  {
   "cell_type": "code",
   "execution_count": 55,
   "id": "4f9e1a70",
   "metadata": {
    "execution": {
     "iopub.execute_input": "2021-10-03T08:30:59.670720Z",
     "iopub.status.busy": "2021-10-03T08:30:59.670322Z",
     "iopub.status.idle": "2021-10-03T08:30:59.675351Z",
     "shell.execute_reply": "2021-10-03T08:30:59.675004Z"
    }
   },
   "outputs": [
    {
     "data": {
      "image/svg+xml": [
       "<?xml version=\"1.0\" encoding=\"UTF-8\" standalone=\"no\"?><svg xmlns=\"http://www.w3.org/2000/svg\" xmlns:xlink=\"http://www.w3.org/1999/xlink\" contentScriptType=\"application/ecmascript\" contentStyleType=\"text/css\" height=\"12px\" preserveAspectRatio=\"none\" style=\"width:12px;height:12px;\" version=\"1.1\" viewBox=\"0 0 12 12\" width=\"12px\" zoomAndPan=\"magnify\"><defs/><g><!--MD5=[72934c63077099a26744516a776b4749]\n",
       "@startuml\r\n",
       "skinparam ranksep 8\r\n",
       "skinparam linetype ortho\r\n",
       "skinparam monochrome true\r\n",
       "skinparam classbackgroundcolor white\r\n",
       "skinparam shadowing false\r\n",
       "skinparam wrapWidth 300\r\n",
       "hide circle\r\n",
       "\r\n",
       "@enduml\r\n",
       "\n",
       "PlantUML version 1.2020.13(Sat Jun 13 12:26:38 UTC 2020)\n",
       "(EPL source distribution)\n",
       "Java Runtime: OpenJDK Runtime Environment\n",
       "JVM: OpenJDK 64-Bit Server VM\n",
       "Default Encoding: UTF-8\n",
       "Language: en\n",
       "Country: null\n",
       "--></g></svg>"
      ]
     },
     "execution_count": 55,
     "metadata": {},
     "output_type": "execute_result"
    }
   ],
   "source": [
    "%viz --style=\"ORTHOLINE\" --view=\"Action\" \"AliasImport\""
   ]
  },
  {
   "cell_type": "code",
   "execution_count": 56,
   "id": "f66689e0",
   "metadata": {
    "execution": {
     "iopub.execute_input": "2021-10-03T08:30:59.724688Z",
     "iopub.status.busy": "2021-10-03T08:30:59.724290Z",
     "iopub.status.idle": "2021-10-03T08:30:59.729185Z",
     "shell.execute_reply": "2021-10-03T08:30:59.728855Z"
    }
   },
   "outputs": [
    {
     "data": {
      "image/svg+xml": [
       "<?xml version=\"1.0\" encoding=\"UTF-8\" standalone=\"no\"?><svg xmlns=\"http://www.w3.org/2000/svg\" xmlns:xlink=\"http://www.w3.org/1999/xlink\" contentScriptType=\"application/ecmascript\" contentStyleType=\"text/css\" height=\"12px\" preserveAspectRatio=\"none\" style=\"width:12px;height:12px;\" version=\"1.1\" viewBox=\"0 0 12 12\" width=\"12px\" zoomAndPan=\"magnify\"><defs/><g><!--MD5=[30fc1de5121c5abddedd55b44417fde8]\n",
       "@startuml\r\n",
       "skinparam roundcorner 20\r\n",
       "skinparam BoxPadding 20\r\n",
       "skinparam SequenceBoxBackgroundColor #white\r\n",
       "skinparam style strictuml\r\n",
       "skinparam maxMessageSize 100\r\n",
       "skinparam linetype ortho\r\n",
       "skinparam monochrome true\r\n",
       "skinparam classbackgroundcolor white\r\n",
       "skinparam shadowing false\r\n",
       "skinparam wrapWidth 300\r\n",
       "hide circle\r\n",
       "\r\n",
       "@enduml\r\n",
       "\n",
       "PlantUML version 1.2020.13(Sat Jun 13 12:26:38 UTC 2020)\n",
       "(EPL source distribution)\n",
       "Java Runtime: OpenJDK Runtime Environment\n",
       "JVM: OpenJDK 64-Bit Server VM\n",
       "Default Encoding: UTF-8\n",
       "Language: en\n",
       "Country: null\n",
       "--></g></svg>"
      ]
     },
     "execution_count": 56,
     "metadata": {},
     "output_type": "execute_result"
    }
   ],
   "source": [
    "%viz --style=\"ORTHOLINE\" --view=\"Sequence\" \"AliasImport\""
   ]
  },
  {
   "cell_type": "code",
   "execution_count": 57,
   "id": "754a193d",
   "metadata": {
    "execution": {
     "iopub.execute_input": "2021-10-03T08:30:59.778520Z",
     "iopub.status.busy": "2021-10-03T08:30:59.778119Z",
     "iopub.status.idle": "2021-10-03T08:30:59.802401Z",
     "shell.execute_reply": "2021-10-03T08:30:59.802050Z"
    }
   },
   "outputs": [
    {
     "data": {
      "image/svg+xml": [
       "<?xml version=\"1.0\" encoding=\"UTF-8\" standalone=\"no\"?><svg xmlns=\"http://www.w3.org/2000/svg\" xmlns:xlink=\"http://www.w3.org/1999/xlink\" contentScriptType=\"application/ecmascript\" contentStyleType=\"text/css\" height=\"303px\" preserveAspectRatio=\"none\" style=\"width:220px;height:303px;\" version=\"1.1\" viewBox=\"0 0 220 303\" width=\"220px\" zoomAndPan=\"magnify\"><defs/><g><!--MD5=[fbc87193dbaf4d95561dea2c320d4a47]\n",
       "cluster E1--><a href=\"psysml:da265157-d0d4-4951-bf22-47d5659e31ef\" target=\"_top\" title=\"psysml:da265157-d0d4-4951-bf22-47d5659e31ef\" xlink:actuate=\"onRequest\" xlink:href=\"psysml:da265157-d0d4-4951-bf22-47d5659e31ef\" xlink:show=\"new\" xlink:title=\"psysml:da265157-d0d4-4951-bf22-47d5659e31ef\" xlink:type=\"simple\"><polygon fill=\"#FFFFFF\" points=\"16,6,97,6,104,28.2969,198,28.2969,198,291,16,291,16,6\" style=\"stroke: #000000; stroke-width: 1.5;\"/><line style=\"stroke: #000000; stroke-width: 1.5;\" x1=\"16\" x2=\"104\" y1=\"28.2969\" y2=\"28.2969\"/><text fill=\"#000000\" font-family=\"sans-serif\" font-size=\"14\" font-weight=\"bold\" lengthAdjust=\"spacingAndGlyphs\" textLength=\"75\" x=\"20\" y=\"20.9951\">AliasImport</text></a><!--MD5=[e4f7fae6ed58524ba242bb0b0d3be6b7]\n",
       "cluster E2--><a href=\"psysml:2fd87941-b162-4111-8987-3fc5534acf16\" target=\"_top\" title=\"psysml:2fd87941-b162-4111-8987-3fc5534acf16\" xlink:actuate=\"onRequest\" xlink:href=\"psysml:2fd87941-b162-4111-8987-3fc5534acf16\" xlink:show=\"new\" xlink:title=\"psysml:2fd87941-b162-4111-8987-3fc5534acf16\" xlink:type=\"simple\"><polygon fill=\"#FFFFFF\" points=\"58,170,137,170,144,192.2969,156,192.2969,156,267,58,267,58,170\" style=\"stroke: #000000; stroke-width: 1.5;\"/><line style=\"stroke: #000000; stroke-width: 1.5;\" x1=\"58\" x2=\"144\" y1=\"192.2969\" y2=\"192.2969\"/><text fill=\"#000000\" font-family=\"sans-serif\" font-size=\"14\" font-weight=\"bold\" lengthAdjust=\"spacingAndGlyphs\" textLength=\"73\" x=\"62\" y=\"184.9951\">Definitions</text></a><!--MD5=[f6df4d0ebaf0b5dfb2ced0ae5af7c670]\n",
       "cluster E4--><a href=\"psysml:e3968260-a676-422f-8ca6-ec1afe8a305b\" target=\"_top\" title=\"psysml:e3968260-a676-422f-8ca6-ec1afe8a305b\" xlink:actuate=\"onRequest\" xlink:href=\"psysml:e3968260-a676-422f-8ca6-ec1afe8a305b\" xlink:show=\"new\" xlink:title=\"psysml:e3968260-a676-422f-8ca6-ec1afe8a305b\" xlink:type=\"simple\"><polygon fill=\"#FFFFFF\" points=\"40,49,98,49,105,71.2969,174,71.2969,174,146,40,146,40,49\" style=\"stroke: #000000; stroke-width: 1.5;\"/><line style=\"stroke: #000000; stroke-width: 1.5;\" x1=\"40\" x2=\"105\" y1=\"71.2969\" y2=\"71.2969\"/><text fill=\"#000000\" font-family=\"sans-serif\" font-size=\"14\" font-weight=\"bold\" lengthAdjust=\"spacingAndGlyphs\" textLength=\"52\" x=\"44\" y=\"63.9951\">Usages</text></a><!--MD5=[09b614a08d8cba4a07c9adeb5e0fee81]\n",
       "class E3--><a href=\"psysml:42326513-c813-4f17-9254-875ba93877ec\" target=\"_top\" title=\"psysml:42326513-c813-4f17-9254-875ba93877ec\" xlink:actuate=\"onRequest\" xlink:href=\"psysml:42326513-c813-4f17-9254-875ba93877ec\" xlink:show=\"new\" xlink:title=\"psysml:42326513-c813-4f17-9254-875ba93877ec\" xlink:type=\"simple\"><rect fill=\"#FFFFFF\" height=\"45.9375\" id=\"E3\" style=\"stroke: #383838; stroke-width: 1.5;\" width=\"66\" x=\"74\" y=\"205\"/><text fill=\"#000000\" font-family=\"sans-serif\" font-size=\"12\" font-style=\"italic\" lengthAdjust=\"spacingAndGlyphs\" textLength=\"64\" x=\"75\" y=\"221.1387\">«part def»</text><text fill=\"#000000\" font-family=\"sans-serif\" font-size=\"12\" lengthAdjust=\"spacingAndGlyphs\" textLength=\"45\" x=\"84.5\" y=\"235.1074\">Vehicle</text><line style=\"stroke: #383838; stroke-width: 1.5;\" x1=\"75\" x2=\"139\" y1=\"242.9375\" y2=\"242.9375\"/></a><!--MD5=[270fce915f116d4de14055a7c1d9a0f3]\n",
       "class E5--><a href=\"psysml:d491d5f9-6d8b-4b1d-a51c-b8388350c517\" target=\"_top\" title=\"psysml:d491d5f9-6d8b-4b1d-a51c-b8388350c517\" xlink:actuate=\"onRequest\" xlink:href=\"psysml:d491d5f9-6d8b-4b1d-a51c-b8388350c517\" xlink:show=\"new\" xlink:title=\"psysml:d491d5f9-6d8b-4b1d-a51c-b8388350c517\" xlink:type=\"simple\"><rect fill=\"#FFFFFF\" height=\"45.9375\" id=\"E5\" rx=\"10\" ry=\"10\" style=\"stroke: #383838; stroke-width: 1.5;\" width=\"102\" x=\"56\" y=\"84\"/><text fill=\"#000000\" font-family=\"sans-serif\" font-size=\"12\" font-style=\"italic\" lengthAdjust=\"spacingAndGlyphs\" textLength=\"40\" x=\"87\" y=\"100.1387\">«part»</text><text fill=\"#000000\" font-family=\"sans-serif\" font-size=\"12\" lengthAdjust=\"spacingAndGlyphs\" textLength=\"96\" x=\"59\" y=\"114.1074\">vehicle: Vehicle</text><line style=\"stroke: #383838; stroke-width: 1.5;\" x1=\"57\" x2=\"157\" y1=\"121.9375\" y2=\"121.9375\"/></a><!--MD5=[e9be52314489bd878ff4c7144b63c9e1]\n",
       "link E5 to E3--><a href=\"psysml:c9bd4828-45e6-4eb9-80eb-81bfe8e91163\" target=\"_top\" title=\"psysml:c9bd4828-45e6-4eb9-80eb-81bfe8e91163\" xlink:actuate=\"onRequest\" xlink:href=\"psysml:c9bd4828-45e6-4eb9-80eb-81bfe8e91163\" xlink:show=\"new\" xlink:title=\"psysml:c9bd4828-45e6-4eb9-80eb-81bfe8e91163\" xlink:type=\"simple\"><path d=\"M107,130.04 C107,130.04 107,184.63 107,184.63 \" fill=\"none\" id=\"E5-&gt;E3\" style=\"stroke: #383838; stroke-width: 1.0;\"/><polygon fill=\"#FFFFFF\" points=\"107,204.63,100,185.63,114,185.63,107,204.63\" style=\"stroke: #383838; stroke-width: 1.0;\"/><ellipse cx=\"102\" cy=\"179.93\" fill=\"#383838\" rx=\"2\" ry=\"2\" style=\"stroke: #383838; stroke-width: 1.0;\"/><ellipse cx=\"112\" cy=\"179.93\" fill=\"#383838\" rx=\"2\" ry=\"2\" style=\"stroke: #383838; stroke-width: 1.0;\"/></a><!--MD5=[92885520e745b691d4a439263e480486]\n",
       "@startuml\r\n",
       "skinparam linetype ortho\r\n",
       "skinparam monochrome true\r\n",
       "skinparam classbackgroundcolor white\r\n",
       "skinparam shadowing false\r\n",
       "skinparam wrapWidth 300\r\n",
       "hide circle\r\n",
       "\r\n",
       "package \"AliasImport\" as E1  [[psysml:da265157-d0d4-4951-bf22-47d5659e31ef ]]  {\r\n",
       "package \"Definitions\" as E2  [[psysml:2fd87941-b162-4111-8987-3fc5534acf16 ]]  {\r\n",
       "comp def \"Vehicle\" as E3  <<(T,blue) part def>> [[psysml:42326513-c813-4f17-9254-875ba93877ec ]] {\r\n",
       "}\r\n",
       "}\r\n",
       "package \"Usages\" as E4  [[psysml:e3968260-a676-422f-8ca6-ec1afe8a305b ]]  {\r\n",
       "comp usage \"vehicle: Vehicle\" as E5  <<(T,blue) part>> [[psysml:d491d5f9-6d8b-4b1d-a51c-b8388350c517 ]] {\r\n",
       "}\r\n",
       "}\r\n",
       "}\r\n",
       "E5 - -:|> E3 [[psysml:c9bd4828-45e6-4eb9-80eb-81bfe8e91163 ]] \r\n",
       "@enduml\r\n",
       "\n",
       "PlantUML version 1.2020.13(Sat Jun 13 12:26:38 UTC 2020)\n",
       "(EPL source distribution)\n",
       "Java Runtime: OpenJDK Runtime Environment\n",
       "JVM: OpenJDK 64-Bit Server VM\n",
       "Default Encoding: UTF-8\n",
       "Language: en\n",
       "Country: null\n",
       "--></g></svg>"
      ]
     },
     "execution_count": 57,
     "metadata": {},
     "output_type": "execute_result"
    }
   ],
   "source": [
    "%viz --style=\"ORTHOLINE\" --view=\"MIXED\" \"AliasImport\""
   ]
  }
 ],
 "metadata": {
  "kernelspec": {
   "display_name": "SysML",
   "language": "sysml",
   "name": "sysml"
  },
  "language_info": {
   "codemirror_mode": "sysml",
   "file_extension": ".sysml",
   "mimetype": "text/x-sysml",
   "name": "SysML",
   "pygments_lexer": "java",
   "version": "1.0.0"
  }
 },
 "nbformat": 4,
 "nbformat_minor": 5
}
