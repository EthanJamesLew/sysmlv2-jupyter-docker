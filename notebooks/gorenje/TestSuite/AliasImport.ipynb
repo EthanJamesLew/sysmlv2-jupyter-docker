{
 "cells": [
  {
   "cell_type": "markdown",
   "id": "69ac1e19",
   "metadata": {},
   "source": [
    "# SysML v2 Test Suite\n",
    "\n",
    "This can notebook can be cleared using menu `Edit --> Clear All Outputs` and then all cells can be\n",
    "run using menu `Run --> Run All Cells`.\n",
    "\n",
    "**WARNING**: This file is generated, all modifications here will be ignored.\n"
   ]
  },
  {
   "cell_type": "markdown",
   "id": "dcfe8b12",
   "metadata": {},
   "source": [
    "## File: ../../sysml/src/examples/Import Tests/AliasImport.sysml"
   ]
  },
  {
   "cell_type": "code",
   "execution_count": 1,
   "id": "7406208f",
   "metadata": {
    "execution": {
     "iopub.execute_input": "2022-05-19T08:46:14.260967Z",
     "iopub.status.busy": "2022-05-19T08:46:14.259820Z",
     "iopub.status.idle": "2022-05-19T08:46:14.378926Z",
     "shell.execute_reply": "2022-05-19T08:46:14.379378Z"
    }
   },
   "outputs": [
    {
     "data": {
      "text/plain": [
       "Package AliasImport (2a0424ca-0ea8-4c9d-a1b7-bd1ebfa50d2f)\n"
      ]
     },
     "execution_count": 1,
     "metadata": {},
     "output_type": "execute_result"
    }
   ],
   "source": [
    "package AliasImport {\n",
    "\tpackage Definitions {\n",
    "\t    part def Vehicle;\n",
    "\t    \n",
    "\t    alias Car for Vehicle;\n",
    "\t}\n",
    "\t\n",
    "\tpackage Usages {\n",
    "\t    import Definitions::Car;\n",
    "\t\n",
    "\t    part vehicle : Car;\n",
    "\t}\n",
    "}"
   ]
  },
  {
   "cell_type": "code",
   "execution_count": 2,
   "id": "6b974fe6",
   "metadata": {
    "execution": {
     "iopub.execute_input": "2022-05-19T08:46:14.429359Z",
     "iopub.status.busy": "2022-05-19T08:46:14.429079Z",
     "iopub.status.idle": "2022-05-19T08:46:14.993378Z",
     "shell.execute_reply": "2022-05-19T08:46:14.991676Z"
    }
   },
   "outputs": [
    {
     "data": {
      "image/svg+xml": [
       "<?xml version=\"1.0\" encoding=\"UTF-8\" standalone=\"no\"?><svg xmlns=\"http://www.w3.org/2000/svg\" xmlns:xlink=\"http://www.w3.org/1999/xlink\" contentScriptType=\"application/ecmascript\" contentStyleType=\"text/css\" height=\"360px\" preserveAspectRatio=\"none\" style=\"width:275px;height:360px;\" version=\"1.1\" viewBox=\"0 0 275 360\" width=\"275px\" zoomAndPan=\"magnify\"><defs/><g><!--MD5=[fbc87193dbaf4d95561dea2c320d4a47]\n",
       "cluster E1--><a href=\"psysml:2a0424ca-0ea8-4c9d-a1b7-bd1ebfa50d2f\" target=\"_top\" title=\"psysml:2a0424ca-0ea8-4c9d-a1b7-bd1ebfa50d2f\" xlink:actuate=\"onRequest\" xlink:href=\"psysml:2a0424ca-0ea8-4c9d-a1b7-bd1ebfa50d2f\" xlink:show=\"new\" xlink:title=\"psysml:2a0424ca-0ea8-4c9d-a1b7-bd1ebfa50d2f\" xlink:type=\"simple\"><polygon fill=\"#FFFFFF\" points=\"16,6,97,6,104,28.2969,253,28.2969,253,348,16,348,16,6\" style=\"stroke: #000000; stroke-width: 1.5;\"/><line style=\"stroke: #000000; stroke-width: 1.5;\" x1=\"16\" x2=\"104\" y1=\"28.2969\" y2=\"28.2969\"/><text fill=\"#000000\" font-family=\"sans-serif\" font-size=\"14\" font-weight=\"bold\" lengthAdjust=\"spacingAndGlyphs\" textLength=\"75\" x=\"20\" y=\"20.9951\">AliasImport</text></a><!--MD5=[e4f7fae6ed58524ba242bb0b0d3be6b7]\n",
       "cluster E2--><a href=\"psysml:1b261b72-bc02-4122-a178-845f71db1598\" target=\"_top\" title=\"psysml:1b261b72-bc02-4122-a178-845f71db1598\" xlink:actuate=\"onRequest\" xlink:href=\"psysml:1b261b72-bc02-4122-a178-845f71db1598\" xlink:show=\"new\" xlink:title=\"psysml:1b261b72-bc02-4122-a178-845f71db1598\" xlink:type=\"simple\"><polygon fill=\"#FFFFFF\" points=\"65,227,144,227,151,249.2969,167,249.2969,167,324,65,324,65,227\" style=\"stroke: #000000; stroke-width: 1.5;\"/><line style=\"stroke: #000000; stroke-width: 1.5;\" x1=\"65\" x2=\"151\" y1=\"249.2969\" y2=\"249.2969\"/><text fill=\"#000000\" font-family=\"sans-serif\" font-size=\"14\" font-weight=\"bold\" lengthAdjust=\"spacingAndGlyphs\" textLength=\"73\" x=\"69\" y=\"241.9951\">Definitions</text></a><!--MD5=[f6df4d0ebaf0b5dfb2ced0ae5af7c670]\n",
       "cluster E4--><a href=\"psysml:944b5b0e-65e9-4e4f-876e-9affde2d942d\" target=\"_top\" title=\"psysml:944b5b0e-65e9-4e4f-876e-9affde2d942d\" xlink:actuate=\"onRequest\" xlink:href=\"psysml:944b5b0e-65e9-4e4f-876e-9affde2d942d\" xlink:show=\"new\" xlink:title=\"psysml:944b5b0e-65e9-4e4f-876e-9affde2d942d\" xlink:type=\"simple\"><polygon fill=\"#FFFFFF\" points=\"48,57,106,57,113,79.2969,221,79.2969,221,170,48,170,48,57\" style=\"stroke: #000000; stroke-width: 1.5;\"/><line style=\"stroke: #000000; stroke-width: 1.5;\" x1=\"48\" x2=\"113\" y1=\"79.2969\" y2=\"79.2969\"/><text fill=\"#000000\" font-family=\"sans-serif\" font-size=\"14\" font-weight=\"bold\" lengthAdjust=\"spacingAndGlyphs\" textLength=\"52\" x=\"52\" y=\"71.9951\">Usages</text></a><!--MD5=[09b614a08d8cba4a07c9adeb5e0fee81]\n",
       "class E3--><a href=\"psysml:0e061c30-2d05-4525-ad81-a01ef286857e\" target=\"_top\" title=\"psysml:0e061c30-2d05-4525-ad81-a01ef286857e\" xlink:actuate=\"onRequest\" xlink:href=\"psysml:0e061c30-2d05-4525-ad81-a01ef286857e\" xlink:show=\"new\" xlink:title=\"psysml:0e061c30-2d05-4525-ad81-a01ef286857e\" xlink:type=\"simple\"><rect fill=\"#FFFFFF\" height=\"45.9375\" id=\"E3\" style=\"stroke: #383838; stroke-width: 1.5;\" width=\"70\" x=\"81\" y=\"262\"/><text fill=\"#000000\" font-family=\"sans-serif\" font-size=\"12\" font-style=\"italic\" lengthAdjust=\"spacingAndGlyphs\" textLength=\"68\" x=\"82\" y=\"278.1387\">«part  def»</text><text fill=\"#000000\" font-family=\"sans-serif\" font-size=\"12\" lengthAdjust=\"spacingAndGlyphs\" textLength=\"45\" x=\"93.5\" y=\"292.1074\">Vehicle</text><line style=\"stroke: #383838; stroke-width: 1.5;\" x1=\"82\" x2=\"150\" y1=\"299.9375\" y2=\"299.9375\"/></a><!--MD5=[270fce915f116d4de14055a7c1d9a0f3]\n",
       "class E5--><a href=\"psysml:61c6492a-41aa-4c1c-be1c-3a26db9abbc8\" target=\"_top\" title=\"psysml:61c6492a-41aa-4c1c-be1c-3a26db9abbc8\" xlink:actuate=\"onRequest\" xlink:href=\"psysml:61c6492a-41aa-4c1c-be1c-3a26db9abbc8\" xlink:show=\"new\" xlink:title=\"psysml:61c6492a-41aa-4c1c-be1c-3a26db9abbc8\" xlink:type=\"simple\"><rect fill=\"#FFFFFF\" height=\"45.9375\" id=\"E5\" rx=\"10\" ry=\"10\" style=\"stroke: #383838; stroke-width: 1.5;\" width=\"106\" x=\"91\" y=\"100\"/><text fill=\"#000000\" font-family=\"sans-serif\" font-size=\"12\" font-style=\"italic\" lengthAdjust=\"spacingAndGlyphs\" textLength=\"40\" x=\"124\" y=\"116.1387\">«part»</text><text fill=\"#000000\" font-family=\"sans-serif\" font-size=\"12\" lengthAdjust=\"spacingAndGlyphs\" textLength=\"96\" x=\"94\" y=\"130.1074\">vehicle: Vehicle</text><line style=\"stroke: #383838; stroke-width: 1.5;\" x1=\"92\" x2=\"196\" y1=\"137.9375\" y2=\"137.9375\"/></a><!--MD5=[f0cdf4548168e5211fb3a02bf679d63a]\n",
       "link E4 to E3--><a href=\"psysml:ef5e87d6-f969-4b16-bad6-f15ecd335219\" target=\"_top\" title=\"psysml:ef5e87d6-f969-4b16-bad6-f15ecd335219\" xlink:actuate=\"onRequest\" xlink:href=\"psysml:ef5e87d6-f969-4b16-bad6-f15ecd335219\" xlink:show=\"new\" xlink:title=\"psysml:ef5e87d6-f969-4b16-bad6-f15ecd335219\" xlink:type=\"simple\"><path d=\"M58.5005,170.0549 C58.5193,170.2001 58.5383,170.3454 58.5574,170.4908 C58.6338,171.0725 58.7124,171.6562 58.7932,172.2415 C58.9548,173.4122 59.1253,174.5898 59.3052,175.7725 C59.6651,178.1379 60.0625,180.5238 60.5014,182.9158 C62.2569,192.4838 64.675,202.15 68,211 C74.23,227.58 84.77,244.23 94.38,257.43 \" fill=\"none\" id=\"E4-&gt;E3\" style=\"stroke: #383838; stroke-width: 1.0; stroke-dasharray: 7.0,7.0;\"/><polygon fill=\"#383838\" points=\"97.6,261.77,95.4384,252.1613,94.616,257.758,89.0193,256.9357,97.6,261.77\" style=\"stroke: #383838; stroke-width: 1.0;\"/><text fill=\"#000000\" font-family=\"sans-serif\" font-size=\"13\" lengthAdjust=\"spacingAndGlyphs\" textLength=\"58\" x=\"69\" y=\"207.0669\">«import»</text></a><!--MD5=[e9be52314489bd878ff4c7144b63c9e1]\n",
       "link E5 to E3--><a href=\"psysml:144792e9-f989-4dc0-84af-44c5bd60762e\" target=\"_top\" title=\"psysml:144792e9-f989-4dc0-84af-44c5bd60762e\" xlink:actuate=\"onRequest\" xlink:href=\"psysml:144792e9-f989-4dc0-84af-44c5bd60762e\" xlink:show=\"new\" xlink:title=\"psysml:144792e9-f989-4dc0-84af-44c5bd60762e\" xlink:type=\"simple\"><path d=\"M143.03,146.32 C142,163.98 139.95,189.21 136,211 C134.13,221.29 131.49,232.23 128.74,242.43 \" fill=\"none\" id=\"E5-&gt;E3\" style=\"stroke: #383838; stroke-width: 1.0;\"/><polygon fill=\"#FFFFFF\" points=\"123.15,261.87,121.6727,241.6755,135.1276,245.544,123.15,261.87\" style=\"stroke: #383838; stroke-width: 1.0;\"/><ellipse cx=\"125.1699\" cy=\"236.7501\" fill=\"#383838\" rx=\"2\" ry=\"2\" style=\"stroke: #383838; stroke-width: 1.0;\"/><ellipse cx=\"134.7805\" cy=\"239.5133\" fill=\"#383838\" rx=\"2\" ry=\"2\" style=\"stroke: #383838; stroke-width: 1.0;\"/></a><!--MD5=[74ddc2c53af843d9d76a908004aa8f65]\n",
       "@startuml\r\n",
       " skinparam monochrome true\r\n",
       "skinparam classbackgroundcolor white\r\n",
       "skinparam shadowing false\r\n",
       "skinparam wrapWidth 300\r\n",
       "hide circle\r\n",
       "\r\n",
       "package \"AliasImport\" as E1  [[psysml:2a0424ca-0ea8-4c9d-a1b7-bd1ebfa50d2f ]]  {\r\n",
       "package \"Definitions\" as E2  [[psysml:1b261b72-bc02-4122-a178-845f71db1598 ]]  {\r\n",
       "comp def \"Vehicle\" as E3  <<(T,blue) part  def>> [[psysml:0e061c30-2d05-4525-ad81-a01ef286857e ]] {\r\n",
       "}\r\n",
       "}\r\n",
       "package \"Usages\" as E4  [[psysml:944b5b0e-65e9-4e4f-876e-9affde2d942d ]]  {\r\n",
       "comp usage \"vehicle: Vehicle \" as E5  <<(T,blue) part>> [[psysml:61c6492a-41aa-4c1c-be1c-3a26db9abbc8 ]] {\r\n",
       "}\r\n",
       "}\r\n",
       "}\r\n",
       "E4 ..> E3 [[psysml:ef5e87d6-f969-4b16-bad6-f15ecd335219 ]] : <<import>>\r\n",
       "E5 - -:|> E3 [[psysml:144792e9-f989-4dc0-84af-44c5bd60762e ]] \r\n",
       "@enduml\r\n",
       "\n",
       "PlantUML version 1.2020.13(Sat Jun 13 12:26:38 UTC 2020)\n",
       "(EPL source distribution)\n",
       "Java Runtime: OpenJDK Runtime Environment\n",
       "JVM: OpenJDK 64-Bit Server VM\n",
       "Default Encoding: UTF-8\n",
       "Language: en\n",
       "Country: null\n",
       "--></g></svg>"
      ]
     },
     "execution_count": 2,
     "metadata": {},
     "output_type": "execute_result"
    }
   ],
   "source": [
    "%viz --style=\"COMPTREE\" --view=\"Default\" \"AliasImport\""
   ]
  },
  {
   "cell_type": "code",
   "execution_count": 3,
   "id": "802b554e",
   "metadata": {
    "execution": {
     "iopub.execute_input": "2022-05-19T08:46:15.043059Z",
     "iopub.status.busy": "2022-05-19T08:46:15.042475Z",
     "iopub.status.idle": "2022-05-19T08:46:15.091457Z",
     "shell.execute_reply": "2022-05-19T08:46:15.091918Z"
    }
   },
   "outputs": [
    {
     "data": {
      "image/svg+xml": [
       "<?xml version=\"1.0\" encoding=\"UTF-8\" standalone=\"no\"?><svg xmlns=\"http://www.w3.org/2000/svg\" xmlns:xlink=\"http://www.w3.org/1999/xlink\" contentScriptType=\"application/ecmascript\" contentStyleType=\"text/css\" height=\"360px\" preserveAspectRatio=\"none\" style=\"width:275px;height:360px;\" version=\"1.1\" viewBox=\"0 0 275 360\" width=\"275px\" zoomAndPan=\"magnify\"><defs/><g><!--MD5=[fbc87193dbaf4d95561dea2c320d4a47]\n",
       "cluster E1--><a href=\"psysml:2a0424ca-0ea8-4c9d-a1b7-bd1ebfa50d2f\" target=\"_top\" title=\"psysml:2a0424ca-0ea8-4c9d-a1b7-bd1ebfa50d2f\" xlink:actuate=\"onRequest\" xlink:href=\"psysml:2a0424ca-0ea8-4c9d-a1b7-bd1ebfa50d2f\" xlink:show=\"new\" xlink:title=\"psysml:2a0424ca-0ea8-4c9d-a1b7-bd1ebfa50d2f\" xlink:type=\"simple\"><polygon fill=\"#FFFFFF\" points=\"16,6,97,6,104,28.2969,253,28.2969,253,348,16,348,16,6\" style=\"stroke: #000000; stroke-width: 1.5;\"/><line style=\"stroke: #000000; stroke-width: 1.5;\" x1=\"16\" x2=\"104\" y1=\"28.2969\" y2=\"28.2969\"/><text fill=\"#000000\" font-family=\"sans-serif\" font-size=\"14\" font-weight=\"bold\" lengthAdjust=\"spacingAndGlyphs\" textLength=\"75\" x=\"20\" y=\"20.9951\">AliasImport</text></a><!--MD5=[e4f7fae6ed58524ba242bb0b0d3be6b7]\n",
       "cluster E2--><a href=\"psysml:1b261b72-bc02-4122-a178-845f71db1598\" target=\"_top\" title=\"psysml:1b261b72-bc02-4122-a178-845f71db1598\" xlink:actuate=\"onRequest\" xlink:href=\"psysml:1b261b72-bc02-4122-a178-845f71db1598\" xlink:show=\"new\" xlink:title=\"psysml:1b261b72-bc02-4122-a178-845f71db1598\" xlink:type=\"simple\"><polygon fill=\"#FFFFFF\" points=\"65,227,144,227,151,249.2969,167,249.2969,167,324,65,324,65,227\" style=\"stroke: #000000; stroke-width: 1.5;\"/><line style=\"stroke: #000000; stroke-width: 1.5;\" x1=\"65\" x2=\"151\" y1=\"249.2969\" y2=\"249.2969\"/><text fill=\"#000000\" font-family=\"sans-serif\" font-size=\"14\" font-weight=\"bold\" lengthAdjust=\"spacingAndGlyphs\" textLength=\"73\" x=\"69\" y=\"241.9951\">Definitions</text></a><!--MD5=[f6df4d0ebaf0b5dfb2ced0ae5af7c670]\n",
       "cluster E4--><a href=\"psysml:944b5b0e-65e9-4e4f-876e-9affde2d942d\" target=\"_top\" title=\"psysml:944b5b0e-65e9-4e4f-876e-9affde2d942d\" xlink:actuate=\"onRequest\" xlink:href=\"psysml:944b5b0e-65e9-4e4f-876e-9affde2d942d\" xlink:show=\"new\" xlink:title=\"psysml:944b5b0e-65e9-4e4f-876e-9affde2d942d\" xlink:type=\"simple\"><polygon fill=\"#FFFFFF\" points=\"48,57,106,57,113,79.2969,221,79.2969,221,170,48,170,48,57\" style=\"stroke: #000000; stroke-width: 1.5;\"/><line style=\"stroke: #000000; stroke-width: 1.5;\" x1=\"48\" x2=\"113\" y1=\"79.2969\" y2=\"79.2969\"/><text fill=\"#000000\" font-family=\"sans-serif\" font-size=\"14\" font-weight=\"bold\" lengthAdjust=\"spacingAndGlyphs\" textLength=\"52\" x=\"52\" y=\"71.9951\">Usages</text></a><!--MD5=[09b614a08d8cba4a07c9adeb5e0fee81]\n",
       "class E3--><a href=\"psysml:0e061c30-2d05-4525-ad81-a01ef286857e\" target=\"_top\" title=\"psysml:0e061c30-2d05-4525-ad81-a01ef286857e\" xlink:actuate=\"onRequest\" xlink:href=\"psysml:0e061c30-2d05-4525-ad81-a01ef286857e\" xlink:show=\"new\" xlink:title=\"psysml:0e061c30-2d05-4525-ad81-a01ef286857e\" xlink:type=\"simple\"><rect fill=\"#FFFFFF\" height=\"45.9375\" id=\"E3\" style=\"stroke: #383838; stroke-width: 1.5;\" width=\"70\" x=\"81\" y=\"262\"/><text fill=\"#000000\" font-family=\"sans-serif\" font-size=\"12\" font-style=\"italic\" lengthAdjust=\"spacingAndGlyphs\" textLength=\"68\" x=\"82\" y=\"278.1387\">«part  def»</text><text fill=\"#000000\" font-family=\"sans-serif\" font-size=\"12\" lengthAdjust=\"spacingAndGlyphs\" textLength=\"45\" x=\"93.5\" y=\"292.1074\">Vehicle</text><line style=\"stroke: #383838; stroke-width: 1.5;\" x1=\"82\" x2=\"150\" y1=\"299.9375\" y2=\"299.9375\"/></a><!--MD5=[270fce915f116d4de14055a7c1d9a0f3]\n",
       "class E5--><a href=\"psysml:61c6492a-41aa-4c1c-be1c-3a26db9abbc8\" target=\"_top\" title=\"psysml:61c6492a-41aa-4c1c-be1c-3a26db9abbc8\" xlink:actuate=\"onRequest\" xlink:href=\"psysml:61c6492a-41aa-4c1c-be1c-3a26db9abbc8\" xlink:show=\"new\" xlink:title=\"psysml:61c6492a-41aa-4c1c-be1c-3a26db9abbc8\" xlink:type=\"simple\"><rect fill=\"#FFFFFF\" height=\"45.9375\" id=\"E5\" rx=\"10\" ry=\"10\" style=\"stroke: #383838; stroke-width: 1.5;\" width=\"106\" x=\"91\" y=\"100\"/><text fill=\"#000000\" font-family=\"sans-serif\" font-size=\"12\" font-style=\"italic\" lengthAdjust=\"spacingAndGlyphs\" textLength=\"40\" x=\"124\" y=\"116.1387\">«part»</text><text fill=\"#000000\" font-family=\"sans-serif\" font-size=\"12\" lengthAdjust=\"spacingAndGlyphs\" textLength=\"96\" x=\"94\" y=\"130.1074\">vehicle: Vehicle</text><line style=\"stroke: #383838; stroke-width: 1.5;\" x1=\"92\" x2=\"196\" y1=\"137.9375\" y2=\"137.9375\"/></a><!--MD5=[f0cdf4548168e5211fb3a02bf679d63a]\n",
       "link E4 to E3--><a href=\"psysml:ef5e87d6-f969-4b16-bad6-f15ecd335219\" target=\"_top\" title=\"psysml:ef5e87d6-f969-4b16-bad6-f15ecd335219\" xlink:actuate=\"onRequest\" xlink:href=\"psysml:ef5e87d6-f969-4b16-bad6-f15ecd335219\" xlink:show=\"new\" xlink:title=\"psysml:ef5e87d6-f969-4b16-bad6-f15ecd335219\" xlink:type=\"simple\"><path d=\"M58.5005,170.0549 C58.5193,170.2001 58.5383,170.3454 58.5574,170.4908 C58.6338,171.0725 58.7124,171.6562 58.7932,172.2415 C58.9548,173.4122 59.1253,174.5898 59.3052,175.7725 C59.6651,178.1379 60.0625,180.5238 60.5014,182.9158 C62.2569,192.4838 64.675,202.15 68,211 C74.23,227.58 84.77,244.23 94.38,257.43 \" fill=\"none\" id=\"E4-&gt;E3\" style=\"stroke: #383838; stroke-width: 1.0; stroke-dasharray: 7.0,7.0;\"/><polygon fill=\"#383838\" points=\"97.6,261.77,95.4384,252.1613,94.616,257.758,89.0193,256.9357,97.6,261.77\" style=\"stroke: #383838; stroke-width: 1.0;\"/><text fill=\"#000000\" font-family=\"sans-serif\" font-size=\"13\" lengthAdjust=\"spacingAndGlyphs\" textLength=\"58\" x=\"69\" y=\"207.0669\">«import»</text></a><!--MD5=[e9be52314489bd878ff4c7144b63c9e1]\n",
       "link E5 to E3--><a href=\"psysml:144792e9-f989-4dc0-84af-44c5bd60762e\" target=\"_top\" title=\"psysml:144792e9-f989-4dc0-84af-44c5bd60762e\" xlink:actuate=\"onRequest\" xlink:href=\"psysml:144792e9-f989-4dc0-84af-44c5bd60762e\" xlink:show=\"new\" xlink:title=\"psysml:144792e9-f989-4dc0-84af-44c5bd60762e\" xlink:type=\"simple\"><path d=\"M143.03,146.32 C142,163.98 139.95,189.21 136,211 C134.13,221.29 131.49,232.23 128.74,242.43 \" fill=\"none\" id=\"E5-&gt;E3\" style=\"stroke: #383838; stroke-width: 1.0;\"/><polygon fill=\"#FFFFFF\" points=\"123.15,261.87,121.6727,241.6755,135.1276,245.544,123.15,261.87\" style=\"stroke: #383838; stroke-width: 1.0;\"/><ellipse cx=\"125.1699\" cy=\"236.7501\" fill=\"#383838\" rx=\"2\" ry=\"2\" style=\"stroke: #383838; stroke-width: 1.0;\"/><ellipse cx=\"134.7805\" cy=\"239.5133\" fill=\"#383838\" rx=\"2\" ry=\"2\" style=\"stroke: #383838; stroke-width: 1.0;\"/></a><!--MD5=[74ddc2c53af843d9d76a908004aa8f65]\n",
       "@startuml\r\n",
       " skinparam monochrome true\r\n",
       "skinparam classbackgroundcolor white\r\n",
       "skinparam shadowing false\r\n",
       "skinparam wrapWidth 300\r\n",
       "hide circle\r\n",
       "\r\n",
       "package \"AliasImport\" as E1  [[psysml:2a0424ca-0ea8-4c9d-a1b7-bd1ebfa50d2f ]]  {\r\n",
       "package \"Definitions\" as E2  [[psysml:1b261b72-bc02-4122-a178-845f71db1598 ]]  {\r\n",
       "comp def \"Vehicle\" as E3  <<(T,blue) part  def>> [[psysml:0e061c30-2d05-4525-ad81-a01ef286857e ]] {\r\n",
       "}\r\n",
       "}\r\n",
       "package \"Usages\" as E4  [[psysml:944b5b0e-65e9-4e4f-876e-9affde2d942d ]]  {\r\n",
       "comp usage \"vehicle: Vehicle \" as E5  <<(T,blue) part>> [[psysml:61c6492a-41aa-4c1c-be1c-3a26db9abbc8 ]] {\r\n",
       "}\r\n",
       "}\r\n",
       "}\r\n",
       "E4 ..> E3 [[psysml:ef5e87d6-f969-4b16-bad6-f15ecd335219 ]] : <<import>>\r\n",
       "E5 - -:|> E3 [[psysml:144792e9-f989-4dc0-84af-44c5bd60762e ]] \r\n",
       "@enduml\r\n",
       "\n",
       "PlantUML version 1.2020.13(Sat Jun 13 12:26:38 UTC 2020)\n",
       "(EPL source distribution)\n",
       "Java Runtime: OpenJDK Runtime Environment\n",
       "JVM: OpenJDK 64-Bit Server VM\n",
       "Default Encoding: UTF-8\n",
       "Language: en\n",
       "Country: null\n",
       "--></g></svg>"
      ]
     },
     "execution_count": 3,
     "metadata": {},
     "output_type": "execute_result"
    }
   ],
   "source": [
    "%viz --style=\"COMPTREE\" --view=\"Tree\" \"AliasImport\""
   ]
  },
  {
   "cell_type": "code",
   "execution_count": 4,
   "id": "a3f2ce47",
   "metadata": {
    "execution": {
     "iopub.execute_input": "2022-05-19T08:46:15.141723Z",
     "iopub.status.busy": "2022-05-19T08:46:15.141390Z",
     "iopub.status.idle": "2022-05-19T08:46:15.150052Z",
     "shell.execute_reply": "2022-05-19T08:46:15.150278Z"
    }
   },
   "outputs": [
    {
     "data": {
      "image/svg+xml": [
       "<?xml version=\"1.0\" encoding=\"UTF-8\" standalone=\"no\"?><svg xmlns=\"http://www.w3.org/2000/svg\" xmlns:xlink=\"http://www.w3.org/1999/xlink\" contentScriptType=\"application/ecmascript\" contentStyleType=\"text/css\" height=\"12px\" preserveAspectRatio=\"none\" style=\"width:12px;height:12px;\" version=\"1.1\" viewBox=\"0 0 12 12\" width=\"12px\" zoomAndPan=\"magnify\"><defs/><g><!--MD5=[f19188ef49e11757b5c46753f95d9edc]\n",
       "@startuml\r\n",
       " skinparam monochrome true\r\n",
       "skinparam classbackgroundcolor white\r\n",
       "skinparam shadowing false\r\n",
       "skinparam wrapWidth 300\r\n",
       "hide circle\r\n",
       "\r\n",
       "@enduml\r\n",
       "\n",
       "PlantUML version 1.2020.13(Sat Jun 13 12:26:38 UTC 2020)\n",
       "(EPL source distribution)\n",
       "Java Runtime: OpenJDK Runtime Environment\n",
       "JVM: OpenJDK 64-Bit Server VM\n",
       "Default Encoding: UTF-8\n",
       "Language: en\n",
       "Country: null\n",
       "--></g></svg>"
      ]
     },
     "execution_count": 4,
     "metadata": {},
     "output_type": "execute_result"
    }
   ],
   "source": [
    "%viz --style=\"COMPTREE\" --view=\"State\" \"AliasImport\""
   ]
  },
  {
   "cell_type": "code",
   "execution_count": 5,
   "id": "b784df76",
   "metadata": {
    "execution": {
     "iopub.execute_input": "2022-05-19T08:46:15.201316Z",
     "iopub.status.busy": "2022-05-19T08:46:15.200968Z",
     "iopub.status.idle": "2022-05-19T08:46:15.248404Z",
     "shell.execute_reply": "2022-05-19T08:46:15.248177Z"
    }
   },
   "outputs": [
    {
     "data": {
      "image/svg+xml": [
       "<?xml version=\"1.0\" encoding=\"UTF-8\" standalone=\"no\"?><svg xmlns=\"http://www.w3.org/2000/svg\" xmlns:xlink=\"http://www.w3.org/1999/xlink\" contentScriptType=\"application/ecmascript\" contentStyleType=\"text/css\" height=\"351px\" preserveAspectRatio=\"none\" style=\"width:302px;height:351px;\" version=\"1.1\" viewBox=\"0 0 302 351\" width=\"302px\" zoomAndPan=\"magnify\"><defs/><g><!--MD5=[fbc87193dbaf4d95561dea2c320d4a47]\n",
       "cluster E1--><a href=\"psysml:2a0424ca-0ea8-4c9d-a1b7-bd1ebfa50d2f\" target=\"_top\" title=\"psysml:2a0424ca-0ea8-4c9d-a1b7-bd1ebfa50d2f\" xlink:actuate=\"onRequest\" xlink:href=\"psysml:2a0424ca-0ea8-4c9d-a1b7-bd1ebfa50d2f\" xlink:show=\"new\" xlink:title=\"psysml:2a0424ca-0ea8-4c9d-a1b7-bd1ebfa50d2f\" xlink:type=\"simple\"><polygon fill=\"#FFFFFF\" points=\"16,6,97,6,104,28.2969,280,28.2969,280,339,16,339,16,6\" style=\"stroke: #000000; stroke-width: 1.5;\"/><line style=\"stroke: #000000; stroke-width: 1.5;\" x1=\"16\" x2=\"104\" y1=\"28.2969\" y2=\"28.2969\"/><text fill=\"#000000\" font-family=\"sans-serif\" font-size=\"14\" font-weight=\"bold\" lengthAdjust=\"spacingAndGlyphs\" textLength=\"75\" x=\"20\" y=\"20.9951\">AliasImport</text></a><!--MD5=[e4f7fae6ed58524ba242bb0b0d3be6b7]\n",
       "cluster E2--><a href=\"psysml:1b261b72-bc02-4122-a178-845f71db1598\" target=\"_top\" title=\"psysml:1b261b72-bc02-4122-a178-845f71db1598\" xlink:actuate=\"onRequest\" xlink:href=\"psysml:1b261b72-bc02-4122-a178-845f71db1598\" xlink:show=\"new\" xlink:title=\"psysml:1b261b72-bc02-4122-a178-845f71db1598\" xlink:type=\"simple\"><polygon fill=\"#FFFFFF\" points=\"40,221,119,221,126,243.2969,256,243.2969,256,315,40,315,40,221\" style=\"stroke: #000000; stroke-width: 1.5;\"/><line style=\"stroke: #000000; stroke-width: 1.5;\" x1=\"40\" x2=\"126\" y1=\"243.2969\" y2=\"243.2969\"/><text fill=\"#000000\" font-family=\"sans-serif\" font-size=\"14\" font-weight=\"bold\" lengthAdjust=\"spacingAndGlyphs\" textLength=\"73\" x=\"44\" y=\"235.9951\">Definitions</text></a><!--MD5=[de5ec2e2e8f62f467e546659f5068c88]\n",
       "cluster E5--><a href=\"psysml:944b5b0e-65e9-4e4f-876e-9affde2d942d\" target=\"_top\" title=\"psysml:944b5b0e-65e9-4e4f-876e-9affde2d942d\" xlink:actuate=\"onRequest\" xlink:href=\"psysml:944b5b0e-65e9-4e4f-876e-9affde2d942d\" xlink:show=\"new\" xlink:title=\"psysml:944b5b0e-65e9-4e4f-876e-9affde2d942d\" xlink:type=\"simple\"><polygon fill=\"#FFFFFF\" points=\"56,57,114,57,121,79.2969,230,79.2969,230,164,56,164,56,57\" style=\"stroke: #000000; stroke-width: 1.5;\"/><line style=\"stroke: #000000; stroke-width: 1.5;\" x1=\"56\" x2=\"121\" y1=\"79.2969\" y2=\"79.2969\"/><text fill=\"#000000\" font-family=\"sans-serif\" font-size=\"14\" font-weight=\"bold\" lengthAdjust=\"spacingAndGlyphs\" textLength=\"52\" x=\"60\" y=\"71.9951\">Usages</text></a><g id=\"E1.E2.E3\"><a href=\"psysml:0e061c30-2d05-4525-ad81-a01ef286857e\" target=\"_top\" title=\"psysml:0e061c30-2d05-4525-ad81-a01ef286857e\" xlink:actuate=\"onRequest\" xlink:href=\"psysml:0e061c30-2d05-4525-ad81-a01ef286857e\" xlink:show=\"new\" xlink:title=\"psysml:0e061c30-2d05-4525-ad81-a01ef286857e\" xlink:type=\"simple\"><rect fill=\"#FFFFFF\" height=\"42.9375\" id=\"E3\" style=\"stroke: #383838; stroke-width: 1.5;\" width=\"75\" x=\"165.5\" y=\"256\"/><rect fill=\"#F8F8F8\" height=\"37.9375\" style=\"stroke: #383838; stroke-width: 1.5;\" width=\"75\" x=\"165.5\" y=\"256\"/><text fill=\"#000000\" font-family=\"sans-serif\" font-size=\"12\" font-style=\"italic\" lengthAdjust=\"spacingAndGlyphs\" textLength=\"68\" x=\"169\" y=\"272.1387\">«part  def»</text><text fill=\"#000000\" font-family=\"sans-serif\" font-size=\"12\" lengthAdjust=\"spacingAndGlyphs\" textLength=\"45\" x=\"180.5\" y=\"286.1074\">Vehicle</text></a></g><g id=\"E1.E2.E4\"><a href=\"psysml:0e061c30-2d05-4525-ad81-a01ef286857e\" target=\"_top\" title=\"psysml:0e061c30-2d05-4525-ad81-a01ef286857e\" xlink:actuate=\"onRequest\" xlink:href=\"psysml:0e061c30-2d05-4525-ad81-a01ef286857e\" xlink:show=\"new\" xlink:title=\"psysml:0e061c30-2d05-4525-ad81-a01ef286857e\" xlink:type=\"simple\"><rect fill=\"#FFFFFF\" height=\"42.9375\" id=\"E4\" style=\"stroke: #383838; stroke-width: 1.5;\" width=\"75\" x=\"55.5\" y=\"256\"/><rect fill=\"#F8F8F8\" height=\"37.9375\" style=\"stroke: #383838; stroke-width: 1.5;\" width=\"75\" x=\"55.5\" y=\"256\"/><text fill=\"#000000\" font-family=\"sans-serif\" font-size=\"12\" font-style=\"italic\" lengthAdjust=\"spacingAndGlyphs\" textLength=\"68\" x=\"59\" y=\"272.1387\">«part  def»</text><text fill=\"#000000\" font-family=\"sans-serif\" font-size=\"12\" lengthAdjust=\"spacingAndGlyphs\" textLength=\"45\" x=\"70.5\" y=\"286.1074\">Vehicle</text></a></g><g id=\"E1.E5.E6\"><a href=\"psysml:61c6492a-41aa-4c1c-be1c-3a26db9abbc8\" target=\"_top\" title=\"psysml:61c6492a-41aa-4c1c-be1c-3a26db9abbc8\" xlink:actuate=\"onRequest\" xlink:href=\"psysml:61c6492a-41aa-4c1c-be1c-3a26db9abbc8\" xlink:show=\"new\" xlink:title=\"psysml:61c6492a-41aa-4c1c-be1c-3a26db9abbc8\" xlink:type=\"simple\"><rect fill=\"#FFFFFF\" height=\"40\" id=\"E6\" rx=\"10\" ry=\"10\" style=\"stroke: #383838; stroke-width: 1.5;\" width=\"107\" x=\"99.5\" y=\"100\"/><rect fill=\"#F8F8F8\" height=\"23.9688\" rx=\"10\" ry=\"10\" style=\"stroke: #F8F8F8; stroke-width: 1.5;\" width=\"107\" x=\"99.5\" y=\"100\"/><rect fill=\"#F8F8F8\" height=\"10\" style=\"stroke: #F8F8F8; stroke-width: 1.5;\" width=\"107\" x=\"99.5\" y=\"113.9688\"/><rect fill=\"none\" height=\"40\" id=\"E6\" rx=\"10\" ry=\"10\" style=\"stroke: #383838; stroke-width: 1.5;\" width=\"107\" x=\"99.5\" y=\"100\"/><text fill=\"#000000\" font-family=\"sans-serif\" font-size=\"12\" lengthAdjust=\"spacingAndGlyphs\" textLength=\"96\" x=\"105\" y=\"116.1387\">vehicle: Vehicle</text></a></g><!--MD5=[1c62de2aa5b76f0fb657ff8443a1a700]\n",
       "link E5 to E4--><a href=\"psysml:ef5e87d6-f969-4b16-bad6-f15ecd335219\" target=\"_top\" title=\"psysml:ef5e87d6-f969-4b16-bad6-f15ecd335219\" xlink:actuate=\"onRequest\" xlink:href=\"psysml:ef5e87d6-f969-4b16-bad6-f15ecd335219\" xlink:show=\"new\" xlink:title=\"psysml:ef5e87d6-f969-4b16-bad6-f15ecd335219\" xlink:type=\"simple\"><path d=\"M67.2559,164.3434 C67.2848,164.6227 67.314,164.9026 67.3433,165.183 C67.4021,165.7439 67.4617,166.3071 67.5224,166.8722 C67.6436,168.0025 67.7685,169.141 67.8973,170.2859 C68.1549,172.5759 68.4278,174.8919 68.7167,177.2213 C69.8725,186.5388 71.285,196.07 73,205 C75.97,220.45 80.65,237.41 84.74,250.94 \" fill=\"none\" id=\"E5-&gt;E4\" style=\"stroke: #383838; stroke-width: 1.0; stroke-dasharray: 7.0,7.0;\"/><polygon fill=\"#383838\" points=\"86.21,255.76,87.3802,245.9809,84.7366,250.982,79.7354,248.3384,86.21,255.76\" style=\"stroke: #383838; stroke-width: 1.0;\"/><text fill=\"#000000\" font-family=\"sans-serif\" font-size=\"13\" lengthAdjust=\"spacingAndGlyphs\" textLength=\"58\" x=\"74\" y=\"201.0669\">«import»</text></a><!--MD5=[f667431f98296947986a1a7595a31603]\n",
       "link E6 to E4--><a href=\"psysml:144792e9-f989-4dc0-84af-44c5bd60762e\" target=\"_top\" title=\"psysml:144792e9-f989-4dc0-84af-44c5bd60762e\" xlink:actuate=\"onRequest\" xlink:href=\"psysml:144792e9-f989-4dc0-84af-44c5bd60762e\" xlink:show=\"new\" xlink:title=\"psysml:144792e9-f989-4dc0-84af-44c5bd60762e\" xlink:type=\"simple\"><path d=\"M151.34,140.23 C149.38,157.62 145.27,183.68 137,205 C132.5,216.61 126.1,228.43 119.57,239.03 \" fill=\"none\" id=\"E6-&gt;E4\" style=\"stroke: #383838; stroke-width: 1.0;\"/><polygon fill=\"#FFFFFF\" points=\"108.43,255.98,113.0161,236.2577,124.7153,243.9472,108.43,255.98\" style=\"stroke: #383838; stroke-width: 1.0;\"/><ellipse cx=\"117.8182\" cy=\"232.593\" fill=\"#383838\" rx=\"2\" ry=\"2\" style=\"stroke: #383838; stroke-width: 1.0;\"/><ellipse cx=\"126.1747\" cy=\"238.0855\" fill=\"#383838\" rx=\"2\" ry=\"2\" style=\"stroke: #383838; stroke-width: 1.0;\"/></a><!--MD5=[f237f27647624c47e8a9ffe0428bb2d3]\n",
       "@startuml\r\n",
       "skinparam ranksep 10\r\n",
       "skinparam rectangle {\r\n",
       " backgroundColor<<block>> LightGreen\r\n",
       "}\r\n",
       " skinparam monochrome true\r\n",
       "skinparam classbackgroundcolor white\r\n",
       "skinparam shadowing false\r\n",
       "skinparam wrapWidth 300\r\n",
       "hide circle\r\n",
       "\r\n",
       "package \"AliasImport\" as E1  [[psysml:2a0424ca-0ea8-4c9d-a1b7-bd1ebfa50d2f ]]  {\r\n",
       "package \"Definitions\" as E2  [[psysml:1b261b72-bc02-4122-a178-845f71db1598 ]]  {\r\n",
       "rec def \"Vehicle\" as E3  <<(T,blue) part  def>> [[psysml:0e061c30-2d05-4525-ad81-a01ef286857e ]] {\r\n",
       "}\r\n",
       "rec def \"Vehicle\" as E4  <<(T,blue) part  def>> [[psysml:0e061c30-2d05-4525-ad81-a01ef286857e ]] {\r\n",
       "}\r\n",
       "}\r\n",
       "package \"Usages\" as E5  [[psysml:944b5b0e-65e9-4e4f-876e-9affde2d942d ]]  {\r\n",
       "rec usage \"vehicle: Vehicle\" as E6  [[psysml:61c6492a-41aa-4c1c-be1c-3a26db9abbc8 ]] {\r\n",
       "}\r\n",
       "}\r\n",
       "}\r\n",
       "E5 ..> E4 [[psysml:ef5e87d6-f969-4b16-bad6-f15ecd335219 ]] : <<import>>\r\n",
       "E6 - -:|> E4 [[psysml:144792e9-f989-4dc0-84af-44c5bd60762e ]] \r\n",
       "@enduml\r\n",
       "\n",
       "PlantUML version 1.2020.13(Sat Jun 13 12:26:38 UTC 2020)\n",
       "(EPL source distribution)\n",
       "Java Runtime: OpenJDK Runtime Environment\n",
       "JVM: OpenJDK 64-Bit Server VM\n",
       "Default Encoding: UTF-8\n",
       "Language: en\n",
       "Country: null\n",
       "--></g></svg>"
      ]
     },
     "execution_count": 5,
     "metadata": {},
     "output_type": "execute_result"
    }
   ],
   "source": [
    "%viz --style=\"COMPTREE\" --view=\"Interconnection\" \"AliasImport\""
   ]
  },
  {
   "cell_type": "code",
   "execution_count": 6,
   "id": "7bdbbd97",
   "metadata": {
    "execution": {
     "iopub.execute_input": "2022-05-19T08:46:15.298737Z",
     "iopub.status.busy": "2022-05-19T08:46:15.298378Z",
     "iopub.status.idle": "2022-05-19T08:46:15.305391Z",
     "shell.execute_reply": "2022-05-19T08:46:15.305765Z"
    }
   },
   "outputs": [
    {
     "data": {
      "image/svg+xml": [
       "<?xml version=\"1.0\" encoding=\"UTF-8\" standalone=\"no\"?><svg xmlns=\"http://www.w3.org/2000/svg\" xmlns:xlink=\"http://www.w3.org/1999/xlink\" contentScriptType=\"application/ecmascript\" contentStyleType=\"text/css\" height=\"12px\" preserveAspectRatio=\"none\" style=\"width:12px;height:12px;\" version=\"1.1\" viewBox=\"0 0 12 12\" width=\"12px\" zoomAndPan=\"magnify\"><defs/><g><!--MD5=[655b888544ca4751ea36af1068543f84]\n",
       "@startuml\r\n",
       "skinparam ranksep 8\r\n",
       " skinparam monochrome true\r\n",
       "skinparam classbackgroundcolor white\r\n",
       "skinparam shadowing false\r\n",
       "skinparam wrapWidth 300\r\n",
       "hide circle\r\n",
       "\r\n",
       "@enduml\r\n",
       "\n",
       "PlantUML version 1.2020.13(Sat Jun 13 12:26:38 UTC 2020)\n",
       "(EPL source distribution)\n",
       "Java Runtime: OpenJDK Runtime Environment\n",
       "JVM: OpenJDK 64-Bit Server VM\n",
       "Default Encoding: UTF-8\n",
       "Language: en\n",
       "Country: null\n",
       "--></g></svg>"
      ]
     },
     "execution_count": 6,
     "metadata": {},
     "output_type": "execute_result"
    }
   ],
   "source": [
    "%viz --style=\"COMPTREE\" --view=\"Action\" \"AliasImport\""
   ]
  },
  {
   "cell_type": "code",
   "execution_count": 7,
   "id": "df647313",
   "metadata": {
    "execution": {
     "iopub.execute_input": "2022-05-19T08:46:15.355938Z",
     "iopub.status.busy": "2022-05-19T08:46:15.355415Z",
     "iopub.status.idle": "2022-05-19T08:46:15.369380Z",
     "shell.execute_reply": "2022-05-19T08:46:15.368950Z"
    }
   },
   "outputs": [
    {
     "data": {
      "image/svg+xml": [
       "<?xml version=\"1.0\" encoding=\"UTF-8\" standalone=\"no\"?><svg xmlns=\"http://www.w3.org/2000/svg\" xmlns:xlink=\"http://www.w3.org/1999/xlink\" contentScriptType=\"application/ecmascript\" contentStyleType=\"text/css\" height=\"12px\" preserveAspectRatio=\"none\" style=\"width:12px;height:12px;\" version=\"1.1\" viewBox=\"0 0 12 12\" width=\"12px\" zoomAndPan=\"magnify\"><defs/><g><!--MD5=[803fc46c337be7a5c8a9831e35356779]\n",
       "@startuml\r\n",
       "skinparam roundcorner 20\r\n",
       "skinparam BoxPadding 20\r\n",
       "skinparam SequenceBoxBackgroundColor #white\r\n",
       "skinparam style strictuml\r\n",
       "skinparam maxMessageSize 100\r\n",
       " skinparam monochrome true\r\n",
       "skinparam classbackgroundcolor white\r\n",
       "skinparam shadowing false\r\n",
       "skinparam wrapWidth 300\r\n",
       "hide circle\r\n",
       "\r\n",
       "@enduml\r\n",
       "\n",
       "PlantUML version 1.2020.13(Sat Jun 13 12:26:38 UTC 2020)\n",
       "(EPL source distribution)\n",
       "Java Runtime: OpenJDK Runtime Environment\n",
       "JVM: OpenJDK 64-Bit Server VM\n",
       "Default Encoding: UTF-8\n",
       "Language: en\n",
       "Country: null\n",
       "--></g></svg>"
      ]
     },
     "execution_count": 7,
     "metadata": {},
     "output_type": "execute_result"
    }
   ],
   "source": [
    "%viz --style=\"COMPTREE\" --view=\"Sequence\" \"AliasImport\""
   ]
  },
  {
   "cell_type": "code",
   "execution_count": 8,
   "id": "0602138e",
   "metadata": {
    "execution": {
     "iopub.execute_input": "2022-05-19T08:46:15.419275Z",
     "iopub.status.busy": "2022-05-19T08:46:15.418802Z",
     "iopub.status.idle": "2022-05-19T08:46:15.468417Z",
     "shell.execute_reply": "2022-05-19T08:46:15.467893Z"
    }
   },
   "outputs": [
    {
     "data": {
      "image/svg+xml": [
       "<?xml version=\"1.0\" encoding=\"UTF-8\" standalone=\"no\"?><svg xmlns=\"http://www.w3.org/2000/svg\" xmlns:xlink=\"http://www.w3.org/1999/xlink\" contentScriptType=\"application/ecmascript\" contentStyleType=\"text/css\" height=\"360px\" preserveAspectRatio=\"none\" style=\"width:275px;height:360px;\" version=\"1.1\" viewBox=\"0 0 275 360\" width=\"275px\" zoomAndPan=\"magnify\"><defs/><g><!--MD5=[fbc87193dbaf4d95561dea2c320d4a47]\n",
       "cluster E1--><a href=\"psysml:2a0424ca-0ea8-4c9d-a1b7-bd1ebfa50d2f\" target=\"_top\" title=\"psysml:2a0424ca-0ea8-4c9d-a1b7-bd1ebfa50d2f\" xlink:actuate=\"onRequest\" xlink:href=\"psysml:2a0424ca-0ea8-4c9d-a1b7-bd1ebfa50d2f\" xlink:show=\"new\" xlink:title=\"psysml:2a0424ca-0ea8-4c9d-a1b7-bd1ebfa50d2f\" xlink:type=\"simple\"><polygon fill=\"#FFFFFF\" points=\"16,6,97,6,104,28.2969,253,28.2969,253,348,16,348,16,6\" style=\"stroke: #000000; stroke-width: 1.5;\"/><line style=\"stroke: #000000; stroke-width: 1.5;\" x1=\"16\" x2=\"104\" y1=\"28.2969\" y2=\"28.2969\"/><text fill=\"#000000\" font-family=\"sans-serif\" font-size=\"14\" font-weight=\"bold\" lengthAdjust=\"spacingAndGlyphs\" textLength=\"75\" x=\"20\" y=\"20.9951\">AliasImport</text></a><!--MD5=[e4f7fae6ed58524ba242bb0b0d3be6b7]\n",
       "cluster E2--><a href=\"psysml:1b261b72-bc02-4122-a178-845f71db1598\" target=\"_top\" title=\"psysml:1b261b72-bc02-4122-a178-845f71db1598\" xlink:actuate=\"onRequest\" xlink:href=\"psysml:1b261b72-bc02-4122-a178-845f71db1598\" xlink:show=\"new\" xlink:title=\"psysml:1b261b72-bc02-4122-a178-845f71db1598\" xlink:type=\"simple\"><polygon fill=\"#FFFFFF\" points=\"65,227,144,227,151,249.2969,167,249.2969,167,324,65,324,65,227\" style=\"stroke: #000000; stroke-width: 1.5;\"/><line style=\"stroke: #000000; stroke-width: 1.5;\" x1=\"65\" x2=\"151\" y1=\"249.2969\" y2=\"249.2969\"/><text fill=\"#000000\" font-family=\"sans-serif\" font-size=\"14\" font-weight=\"bold\" lengthAdjust=\"spacingAndGlyphs\" textLength=\"73\" x=\"69\" y=\"241.9951\">Definitions</text></a><!--MD5=[f6df4d0ebaf0b5dfb2ced0ae5af7c670]\n",
       "cluster E4--><a href=\"psysml:944b5b0e-65e9-4e4f-876e-9affde2d942d\" target=\"_top\" title=\"psysml:944b5b0e-65e9-4e4f-876e-9affde2d942d\" xlink:actuate=\"onRequest\" xlink:href=\"psysml:944b5b0e-65e9-4e4f-876e-9affde2d942d\" xlink:show=\"new\" xlink:title=\"psysml:944b5b0e-65e9-4e4f-876e-9affde2d942d\" xlink:type=\"simple\"><polygon fill=\"#FFFFFF\" points=\"48,57,106,57,113,79.2969,221,79.2969,221,170,48,170,48,57\" style=\"stroke: #000000; stroke-width: 1.5;\"/><line style=\"stroke: #000000; stroke-width: 1.5;\" x1=\"48\" x2=\"113\" y1=\"79.2969\" y2=\"79.2969\"/><text fill=\"#000000\" font-family=\"sans-serif\" font-size=\"14\" font-weight=\"bold\" lengthAdjust=\"spacingAndGlyphs\" textLength=\"52\" x=\"52\" y=\"71.9951\">Usages</text></a><!--MD5=[09b614a08d8cba4a07c9adeb5e0fee81]\n",
       "class E3--><a href=\"psysml:0e061c30-2d05-4525-ad81-a01ef286857e\" target=\"_top\" title=\"psysml:0e061c30-2d05-4525-ad81-a01ef286857e\" xlink:actuate=\"onRequest\" xlink:href=\"psysml:0e061c30-2d05-4525-ad81-a01ef286857e\" xlink:show=\"new\" xlink:title=\"psysml:0e061c30-2d05-4525-ad81-a01ef286857e\" xlink:type=\"simple\"><rect fill=\"#FFFFFF\" height=\"45.9375\" id=\"E3\" style=\"stroke: #383838; stroke-width: 1.5;\" width=\"70\" x=\"81\" y=\"262\"/><text fill=\"#000000\" font-family=\"sans-serif\" font-size=\"12\" font-style=\"italic\" lengthAdjust=\"spacingAndGlyphs\" textLength=\"68\" x=\"82\" y=\"278.1387\">«part  def»</text><text fill=\"#000000\" font-family=\"sans-serif\" font-size=\"12\" lengthAdjust=\"spacingAndGlyphs\" textLength=\"45\" x=\"93.5\" y=\"292.1074\">Vehicle</text><line style=\"stroke: #383838; stroke-width: 1.5;\" x1=\"82\" x2=\"150\" y1=\"299.9375\" y2=\"299.9375\"/></a><!--MD5=[270fce915f116d4de14055a7c1d9a0f3]\n",
       "class E5--><a href=\"psysml:61c6492a-41aa-4c1c-be1c-3a26db9abbc8\" target=\"_top\" title=\"psysml:61c6492a-41aa-4c1c-be1c-3a26db9abbc8\" xlink:actuate=\"onRequest\" xlink:href=\"psysml:61c6492a-41aa-4c1c-be1c-3a26db9abbc8\" xlink:show=\"new\" xlink:title=\"psysml:61c6492a-41aa-4c1c-be1c-3a26db9abbc8\" xlink:type=\"simple\"><rect fill=\"#FFFFFF\" height=\"45.9375\" id=\"E5\" rx=\"10\" ry=\"10\" style=\"stroke: #383838; stroke-width: 1.5;\" width=\"106\" x=\"91\" y=\"100\"/><text fill=\"#000000\" font-family=\"sans-serif\" font-size=\"12\" font-style=\"italic\" lengthAdjust=\"spacingAndGlyphs\" textLength=\"40\" x=\"124\" y=\"116.1387\">«part»</text><text fill=\"#000000\" font-family=\"sans-serif\" font-size=\"12\" lengthAdjust=\"spacingAndGlyphs\" textLength=\"96\" x=\"94\" y=\"130.1074\">vehicle: Vehicle</text><line style=\"stroke: #383838; stroke-width: 1.5;\" x1=\"92\" x2=\"196\" y1=\"137.9375\" y2=\"137.9375\"/></a><!--MD5=[f0cdf4548168e5211fb3a02bf679d63a]\n",
       "link E4 to E3--><a href=\"psysml:ef5e87d6-f969-4b16-bad6-f15ecd335219\" target=\"_top\" title=\"psysml:ef5e87d6-f969-4b16-bad6-f15ecd335219\" xlink:actuate=\"onRequest\" xlink:href=\"psysml:ef5e87d6-f969-4b16-bad6-f15ecd335219\" xlink:show=\"new\" xlink:title=\"psysml:ef5e87d6-f969-4b16-bad6-f15ecd335219\" xlink:type=\"simple\"><path d=\"M58.5005,170.0549 C58.5193,170.2001 58.5383,170.3454 58.5574,170.4908 C58.6338,171.0725 58.7124,171.6562 58.7932,172.2415 C58.9548,173.4122 59.1253,174.5898 59.3052,175.7725 C59.6651,178.1379 60.0625,180.5238 60.5014,182.9158 C62.2569,192.4838 64.675,202.15 68,211 C74.23,227.58 84.77,244.23 94.38,257.43 \" fill=\"none\" id=\"E4-&gt;E3\" style=\"stroke: #383838; stroke-width: 1.0; stroke-dasharray: 7.0,7.0;\"/><polygon fill=\"#383838\" points=\"97.6,261.77,95.4384,252.1613,94.616,257.758,89.0193,256.9357,97.6,261.77\" style=\"stroke: #383838; stroke-width: 1.0;\"/><text fill=\"#000000\" font-family=\"sans-serif\" font-size=\"13\" lengthAdjust=\"spacingAndGlyphs\" textLength=\"58\" x=\"69\" y=\"207.0669\">«import»</text></a><!--MD5=[e9be52314489bd878ff4c7144b63c9e1]\n",
       "link E5 to E3--><a href=\"psysml:144792e9-f989-4dc0-84af-44c5bd60762e\" target=\"_top\" title=\"psysml:144792e9-f989-4dc0-84af-44c5bd60762e\" xlink:actuate=\"onRequest\" xlink:href=\"psysml:144792e9-f989-4dc0-84af-44c5bd60762e\" xlink:show=\"new\" xlink:title=\"psysml:144792e9-f989-4dc0-84af-44c5bd60762e\" xlink:type=\"simple\"><path d=\"M143.03,146.32 C142,163.98 139.95,189.21 136,211 C134.13,221.29 131.49,232.23 128.74,242.43 \" fill=\"none\" id=\"E5-&gt;E3\" style=\"stroke: #383838; stroke-width: 1.0;\"/><polygon fill=\"#FFFFFF\" points=\"123.15,261.87,121.6727,241.6755,135.1276,245.544,123.15,261.87\" style=\"stroke: #383838; stroke-width: 1.0;\"/><ellipse cx=\"125.1699\" cy=\"236.7501\" fill=\"#383838\" rx=\"2\" ry=\"2\" style=\"stroke: #383838; stroke-width: 1.0;\"/><ellipse cx=\"134.7805\" cy=\"239.5133\" fill=\"#383838\" rx=\"2\" ry=\"2\" style=\"stroke: #383838; stroke-width: 1.0;\"/></a><!--MD5=[74ddc2c53af843d9d76a908004aa8f65]\n",
       "@startuml\r\n",
       " skinparam monochrome true\r\n",
       "skinparam classbackgroundcolor white\r\n",
       "skinparam shadowing false\r\n",
       "skinparam wrapWidth 300\r\n",
       "hide circle\r\n",
       "\r\n",
       "package \"AliasImport\" as E1  [[psysml:2a0424ca-0ea8-4c9d-a1b7-bd1ebfa50d2f ]]  {\r\n",
       "package \"Definitions\" as E2  [[psysml:1b261b72-bc02-4122-a178-845f71db1598 ]]  {\r\n",
       "comp def \"Vehicle\" as E3  <<(T,blue) part  def>> [[psysml:0e061c30-2d05-4525-ad81-a01ef286857e ]] {\r\n",
       "}\r\n",
       "}\r\n",
       "package \"Usages\" as E4  [[psysml:944b5b0e-65e9-4e4f-876e-9affde2d942d ]]  {\r\n",
       "comp usage \"vehicle: Vehicle \" as E5  <<(T,blue) part>> [[psysml:61c6492a-41aa-4c1c-be1c-3a26db9abbc8 ]] {\r\n",
       "}\r\n",
       "}\r\n",
       "}\r\n",
       "E4 ..> E3 [[psysml:ef5e87d6-f969-4b16-bad6-f15ecd335219 ]] : <<import>>\r\n",
       "E5 - -:|> E3 [[psysml:144792e9-f989-4dc0-84af-44c5bd60762e ]] \r\n",
       "@enduml\r\n",
       "\n",
       "PlantUML version 1.2020.13(Sat Jun 13 12:26:38 UTC 2020)\n",
       "(EPL source distribution)\n",
       "Java Runtime: OpenJDK Runtime Environment\n",
       "JVM: OpenJDK 64-Bit Server VM\n",
       "Default Encoding: UTF-8\n",
       "Language: en\n",
       "Country: null\n",
       "--></g></svg>"
      ]
     },
     "execution_count": 8,
     "metadata": {},
     "output_type": "execute_result"
    }
   ],
   "source": [
    "%viz --style=\"COMPTREE\" --view=\"MIXED\" \"AliasImport\""
   ]
  },
  {
   "cell_type": "code",
   "execution_count": 9,
   "id": "4b69d3bb",
   "metadata": {
    "execution": {
     "iopub.execute_input": "2022-05-19T08:46:15.518501Z",
     "iopub.status.busy": "2022-05-19T08:46:15.517898Z",
     "iopub.status.idle": "2022-05-19T08:46:15.563540Z",
     "shell.execute_reply": "2022-05-19T08:46:15.563120Z"
    }
   },
   "outputs": [
    {
     "data": {
      "image/svg+xml": [
       "<?xml version=\"1.0\" encoding=\"UTF-8\" standalone=\"no\"?><svg xmlns=\"http://www.w3.org/2000/svg\" xmlns:xlink=\"http://www.w3.org/1999/xlink\" contentScriptType=\"application/ecmascript\" contentStyleType=\"text/css\" height=\"360px\" preserveAspectRatio=\"none\" style=\"width:275px;height:360px;\" version=\"1.1\" viewBox=\"0 0 275 360\" width=\"275px\" zoomAndPan=\"magnify\"><defs/><g><!--MD5=[fbc87193dbaf4d95561dea2c320d4a47]\n",
       "cluster E1--><a href=\"psysml:2a0424ca-0ea8-4c9d-a1b7-bd1ebfa50d2f\" target=\"_top\" title=\"psysml:2a0424ca-0ea8-4c9d-a1b7-bd1ebfa50d2f\" xlink:actuate=\"onRequest\" xlink:href=\"psysml:2a0424ca-0ea8-4c9d-a1b7-bd1ebfa50d2f\" xlink:show=\"new\" xlink:title=\"psysml:2a0424ca-0ea8-4c9d-a1b7-bd1ebfa50d2f\" xlink:type=\"simple\"><polygon fill=\"#FFFFFF\" points=\"16,6,97,6,104,28.2969,253,28.2969,253,348,16,348,16,6\" style=\"stroke: #000000; stroke-width: 1.5;\"/><line style=\"stroke: #000000; stroke-width: 1.5;\" x1=\"16\" x2=\"104\" y1=\"28.2969\" y2=\"28.2969\"/><text fill=\"#000000\" font-family=\"sans-serif\" font-size=\"14\" font-weight=\"bold\" lengthAdjust=\"spacingAndGlyphs\" textLength=\"75\" x=\"20\" y=\"20.9951\">AliasImport</text></a><!--MD5=[e4f7fae6ed58524ba242bb0b0d3be6b7]\n",
       "cluster E2--><a href=\"psysml:1b261b72-bc02-4122-a178-845f71db1598\" target=\"_top\" title=\"psysml:1b261b72-bc02-4122-a178-845f71db1598\" xlink:actuate=\"onRequest\" xlink:href=\"psysml:1b261b72-bc02-4122-a178-845f71db1598\" xlink:show=\"new\" xlink:title=\"psysml:1b261b72-bc02-4122-a178-845f71db1598\" xlink:type=\"simple\"><polygon fill=\"#FFFFFF\" points=\"65,227,144,227,151,249.2969,167,249.2969,167,324,65,324,65,227\" style=\"stroke: #000000; stroke-width: 1.5;\"/><line style=\"stroke: #000000; stroke-width: 1.5;\" x1=\"65\" x2=\"151\" y1=\"249.2969\" y2=\"249.2969\"/><text fill=\"#000000\" font-family=\"sans-serif\" font-size=\"14\" font-weight=\"bold\" lengthAdjust=\"spacingAndGlyphs\" textLength=\"73\" x=\"69\" y=\"241.9951\">Definitions</text></a><!--MD5=[f6df4d0ebaf0b5dfb2ced0ae5af7c670]\n",
       "cluster E4--><a href=\"psysml:944b5b0e-65e9-4e4f-876e-9affde2d942d\" target=\"_top\" title=\"psysml:944b5b0e-65e9-4e4f-876e-9affde2d942d\" xlink:actuate=\"onRequest\" xlink:href=\"psysml:944b5b0e-65e9-4e4f-876e-9affde2d942d\" xlink:show=\"new\" xlink:title=\"psysml:944b5b0e-65e9-4e4f-876e-9affde2d942d\" xlink:type=\"simple\"><polygon fill=\"#FFFFFF\" points=\"48,57,106,57,113,79.2969,221,79.2969,221,170,48,170,48,57\" style=\"stroke: #000000; stroke-width: 1.5;\"/><line style=\"stroke: #000000; stroke-width: 1.5;\" x1=\"48\" x2=\"113\" y1=\"79.2969\" y2=\"79.2969\"/><text fill=\"#000000\" font-family=\"sans-serif\" font-size=\"14\" font-weight=\"bold\" lengthAdjust=\"spacingAndGlyphs\" textLength=\"52\" x=\"52\" y=\"71.9951\">Usages</text></a><!--MD5=[09b614a08d8cba4a07c9adeb5e0fee81]\n",
       "class E3--><a href=\"psysml:0e061c30-2d05-4525-ad81-a01ef286857e\" target=\"_top\" title=\"psysml:0e061c30-2d05-4525-ad81-a01ef286857e\" xlink:actuate=\"onRequest\" xlink:href=\"psysml:0e061c30-2d05-4525-ad81-a01ef286857e\" xlink:show=\"new\" xlink:title=\"psysml:0e061c30-2d05-4525-ad81-a01ef286857e\" xlink:type=\"simple\"><rect fill=\"#FFFFFF\" height=\"45.9375\" id=\"E3\" style=\"stroke: #383838; stroke-width: 1.5;\" width=\"70\" x=\"81\" y=\"262\"/><text fill=\"#000000\" font-family=\"sans-serif\" font-size=\"12\" font-style=\"italic\" lengthAdjust=\"spacingAndGlyphs\" textLength=\"68\" x=\"82\" y=\"278.1387\">«part  def»</text><text fill=\"#000000\" font-family=\"sans-serif\" font-size=\"12\" lengthAdjust=\"spacingAndGlyphs\" textLength=\"45\" x=\"93.5\" y=\"292.1074\">Vehicle</text><line style=\"stroke: #383838; stroke-width: 1.5;\" x1=\"82\" x2=\"150\" y1=\"299.9375\" y2=\"299.9375\"/></a><!--MD5=[270fce915f116d4de14055a7c1d9a0f3]\n",
       "class E5--><a href=\"psysml:61c6492a-41aa-4c1c-be1c-3a26db9abbc8\" target=\"_top\" title=\"psysml:61c6492a-41aa-4c1c-be1c-3a26db9abbc8\" xlink:actuate=\"onRequest\" xlink:href=\"psysml:61c6492a-41aa-4c1c-be1c-3a26db9abbc8\" xlink:show=\"new\" xlink:title=\"psysml:61c6492a-41aa-4c1c-be1c-3a26db9abbc8\" xlink:type=\"simple\"><rect fill=\"#FFFFFF\" height=\"45.9375\" id=\"E5\" rx=\"10\" ry=\"10\" style=\"stroke: #383838; stroke-width: 1.5;\" width=\"106\" x=\"91\" y=\"100\"/><text fill=\"#000000\" font-family=\"sans-serif\" font-size=\"12\" font-style=\"italic\" lengthAdjust=\"spacingAndGlyphs\" textLength=\"40\" x=\"124\" y=\"116.1387\">«part»</text><text fill=\"#000000\" font-family=\"sans-serif\" font-size=\"12\" lengthAdjust=\"spacingAndGlyphs\" textLength=\"96\" x=\"94\" y=\"130.1074\">vehicle: Vehicle</text><line style=\"stroke: #383838; stroke-width: 1.5;\" x1=\"92\" x2=\"196\" y1=\"137.9375\" y2=\"137.9375\"/></a><!--MD5=[f0cdf4548168e5211fb3a02bf679d63a]\n",
       "link E4 to E3--><a href=\"psysml:ef5e87d6-f969-4b16-bad6-f15ecd335219\" target=\"_top\" title=\"psysml:ef5e87d6-f969-4b16-bad6-f15ecd335219\" xlink:actuate=\"onRequest\" xlink:href=\"psysml:ef5e87d6-f969-4b16-bad6-f15ecd335219\" xlink:show=\"new\" xlink:title=\"psysml:ef5e87d6-f969-4b16-bad6-f15ecd335219\" xlink:type=\"simple\"><path d=\"M62.3475,170.0242 C62.3705,170.1912 62.3936,170.3582 62.4166,170.5251 C62.5087,171.1927 62.6006,171.8594 62.6924,172.5245 C62.8758,173.8547 63.0585,175.1785 63.2395,176.4909 C63.6016,179.1157 63.9573,181.6948 64.3012,184.1877 C64.989,189.1736 65.6292,193.8147 66.1772,197.7869 C67.2731,205.7313 68,211 68,211 C68,211 84.75,236.48 98.47,257.33 \" fill=\"none\" id=\"E4-&gt;E3\" style=\"stroke: #383838; stroke-width: 1.0; stroke-dasharray: 7.0,7.0;\"/><polygon fill=\"#383838\" points=\"101.34,261.7,99.7376,251.9824,98.593,257.5222,93.0531,256.3776,101.34,261.7\" style=\"stroke: #383838; stroke-width: 1.0;\"/><text fill=\"#000000\" font-family=\"sans-serif\" font-size=\"13\" lengthAdjust=\"spacingAndGlyphs\" textLength=\"58\" x=\"69\" y=\"207.0669\">«import»</text></a><!--MD5=[e9be52314489bd878ff4c7144b63c9e1]\n",
       "link E5 to E3--><a href=\"psysml:144792e9-f989-4dc0-84af-44c5bd60762e\" target=\"_top\" title=\"psysml:144792e9-f989-4dc0-84af-44c5bd60762e\" xlink:actuate=\"onRequest\" xlink:href=\"psysml:144792e9-f989-4dc0-84af-44c5bd60762e\" xlink:show=\"new\" xlink:title=\"psysml:144792e9-f989-4dc0-84af-44c5bd60762e\" xlink:type=\"simple\"><path d=\"M141.94,146.4 C139.57,172.18 136,211 136,211 C136,211 131.91,225.94 127.42,242.3 \" fill=\"none\" id=\"E5-&gt;E3\" style=\"stroke: #383838; stroke-width: 1.0;\"/><polygon fill=\"#FFFFFF\" points=\"122.11,261.7,120.3774,241.5258,133.8801,245.2238,122.11,261.7\" style=\"stroke: #383838; stroke-width: 1.0;\"/><ellipse cx=\"123.8119\" cy=\"236.5565\" fill=\"#383838\" rx=\"2\" ry=\"2\" style=\"stroke: #383838; stroke-width: 1.0;\"/><ellipse cx=\"133.4568\" cy=\"239.198\" fill=\"#383838\" rx=\"2\" ry=\"2\" style=\"stroke: #383838; stroke-width: 1.0;\"/></a><!--MD5=[a83ab01da60637e34a2bca35eec07e77]\n",
       "@startuml\r\n",
       "skinparam linetype polyline\r\n",
       "skinparam monochrome true\r\n",
       "skinparam classbackgroundcolor white\r\n",
       "skinparam shadowing false\r\n",
       "skinparam wrapWidth 300\r\n",
       "hide circle\r\n",
       "\r\n",
       "package \"AliasImport\" as E1  [[psysml:2a0424ca-0ea8-4c9d-a1b7-bd1ebfa50d2f ]]  {\r\n",
       "package \"Definitions\" as E2  [[psysml:1b261b72-bc02-4122-a178-845f71db1598 ]]  {\r\n",
       "comp def \"Vehicle\" as E3  <<(T,blue) part  def>> [[psysml:0e061c30-2d05-4525-ad81-a01ef286857e ]] {\r\n",
       "}\r\n",
       "}\r\n",
       "package \"Usages\" as E4  [[psysml:944b5b0e-65e9-4e4f-876e-9affde2d942d ]]  {\r\n",
       "comp usage \"vehicle: Vehicle \" as E5  <<(T,blue) part>> [[psysml:61c6492a-41aa-4c1c-be1c-3a26db9abbc8 ]] {\r\n",
       "}\r\n",
       "}\r\n",
       "}\r\n",
       "E4 ..> E3 [[psysml:ef5e87d6-f969-4b16-bad6-f15ecd335219 ]] : <<import>>\r\n",
       "E5 - -:|> E3 [[psysml:144792e9-f989-4dc0-84af-44c5bd60762e ]] \r\n",
       "@enduml\r\n",
       "\n",
       "PlantUML version 1.2020.13(Sat Jun 13 12:26:38 UTC 2020)\n",
       "(EPL source distribution)\n",
       "Java Runtime: OpenJDK Runtime Environment\n",
       "JVM: OpenJDK 64-Bit Server VM\n",
       "Default Encoding: UTF-8\n",
       "Language: en\n",
       "Country: null\n",
       "--></g></svg>"
      ]
     },
     "execution_count": 9,
     "metadata": {},
     "output_type": "execute_result"
    }
   ],
   "source": [
    "%viz --style=\"POLYLINE\" --view=\"Default\" \"AliasImport\""
   ]
  },
  {
   "cell_type": "code",
   "execution_count": 10,
   "id": "b47dc00e",
   "metadata": {
    "execution": {
     "iopub.execute_input": "2022-05-19T08:46:15.613513Z",
     "iopub.status.busy": "2022-05-19T08:46:15.613047Z",
     "iopub.status.idle": "2022-05-19T08:46:15.662479Z",
     "shell.execute_reply": "2022-05-19T08:46:15.662825Z"
    }
   },
   "outputs": [
    {
     "data": {
      "image/svg+xml": [
       "<?xml version=\"1.0\" encoding=\"UTF-8\" standalone=\"no\"?><svg xmlns=\"http://www.w3.org/2000/svg\" xmlns:xlink=\"http://www.w3.org/1999/xlink\" contentScriptType=\"application/ecmascript\" contentStyleType=\"text/css\" height=\"360px\" preserveAspectRatio=\"none\" style=\"width:275px;height:360px;\" version=\"1.1\" viewBox=\"0 0 275 360\" width=\"275px\" zoomAndPan=\"magnify\"><defs/><g><!--MD5=[fbc87193dbaf4d95561dea2c320d4a47]\n",
       "cluster E1--><a href=\"psysml:2a0424ca-0ea8-4c9d-a1b7-bd1ebfa50d2f\" target=\"_top\" title=\"psysml:2a0424ca-0ea8-4c9d-a1b7-bd1ebfa50d2f\" xlink:actuate=\"onRequest\" xlink:href=\"psysml:2a0424ca-0ea8-4c9d-a1b7-bd1ebfa50d2f\" xlink:show=\"new\" xlink:title=\"psysml:2a0424ca-0ea8-4c9d-a1b7-bd1ebfa50d2f\" xlink:type=\"simple\"><polygon fill=\"#FFFFFF\" points=\"16,6,97,6,104,28.2969,253,28.2969,253,348,16,348,16,6\" style=\"stroke: #000000; stroke-width: 1.5;\"/><line style=\"stroke: #000000; stroke-width: 1.5;\" x1=\"16\" x2=\"104\" y1=\"28.2969\" y2=\"28.2969\"/><text fill=\"#000000\" font-family=\"sans-serif\" font-size=\"14\" font-weight=\"bold\" lengthAdjust=\"spacingAndGlyphs\" textLength=\"75\" x=\"20\" y=\"20.9951\">AliasImport</text></a><!--MD5=[e4f7fae6ed58524ba242bb0b0d3be6b7]\n",
       "cluster E2--><a href=\"psysml:1b261b72-bc02-4122-a178-845f71db1598\" target=\"_top\" title=\"psysml:1b261b72-bc02-4122-a178-845f71db1598\" xlink:actuate=\"onRequest\" xlink:href=\"psysml:1b261b72-bc02-4122-a178-845f71db1598\" xlink:show=\"new\" xlink:title=\"psysml:1b261b72-bc02-4122-a178-845f71db1598\" xlink:type=\"simple\"><polygon fill=\"#FFFFFF\" points=\"65,227,144,227,151,249.2969,167,249.2969,167,324,65,324,65,227\" style=\"stroke: #000000; stroke-width: 1.5;\"/><line style=\"stroke: #000000; stroke-width: 1.5;\" x1=\"65\" x2=\"151\" y1=\"249.2969\" y2=\"249.2969\"/><text fill=\"#000000\" font-family=\"sans-serif\" font-size=\"14\" font-weight=\"bold\" lengthAdjust=\"spacingAndGlyphs\" textLength=\"73\" x=\"69\" y=\"241.9951\">Definitions</text></a><!--MD5=[f6df4d0ebaf0b5dfb2ced0ae5af7c670]\n",
       "cluster E4--><a href=\"psysml:944b5b0e-65e9-4e4f-876e-9affde2d942d\" target=\"_top\" title=\"psysml:944b5b0e-65e9-4e4f-876e-9affde2d942d\" xlink:actuate=\"onRequest\" xlink:href=\"psysml:944b5b0e-65e9-4e4f-876e-9affde2d942d\" xlink:show=\"new\" xlink:title=\"psysml:944b5b0e-65e9-4e4f-876e-9affde2d942d\" xlink:type=\"simple\"><polygon fill=\"#FFFFFF\" points=\"48,57,106,57,113,79.2969,221,79.2969,221,170,48,170,48,57\" style=\"stroke: #000000; stroke-width: 1.5;\"/><line style=\"stroke: #000000; stroke-width: 1.5;\" x1=\"48\" x2=\"113\" y1=\"79.2969\" y2=\"79.2969\"/><text fill=\"#000000\" font-family=\"sans-serif\" font-size=\"14\" font-weight=\"bold\" lengthAdjust=\"spacingAndGlyphs\" textLength=\"52\" x=\"52\" y=\"71.9951\">Usages</text></a><!--MD5=[09b614a08d8cba4a07c9adeb5e0fee81]\n",
       "class E3--><a href=\"psysml:0e061c30-2d05-4525-ad81-a01ef286857e\" target=\"_top\" title=\"psysml:0e061c30-2d05-4525-ad81-a01ef286857e\" xlink:actuate=\"onRequest\" xlink:href=\"psysml:0e061c30-2d05-4525-ad81-a01ef286857e\" xlink:show=\"new\" xlink:title=\"psysml:0e061c30-2d05-4525-ad81-a01ef286857e\" xlink:type=\"simple\"><rect fill=\"#FFFFFF\" height=\"45.9375\" id=\"E3\" style=\"stroke: #383838; stroke-width: 1.5;\" width=\"70\" x=\"81\" y=\"262\"/><text fill=\"#000000\" font-family=\"sans-serif\" font-size=\"12\" font-style=\"italic\" lengthAdjust=\"spacingAndGlyphs\" textLength=\"68\" x=\"82\" y=\"278.1387\">«part  def»</text><text fill=\"#000000\" font-family=\"sans-serif\" font-size=\"12\" lengthAdjust=\"spacingAndGlyphs\" textLength=\"45\" x=\"93.5\" y=\"292.1074\">Vehicle</text><line style=\"stroke: #383838; stroke-width: 1.5;\" x1=\"82\" x2=\"150\" y1=\"299.9375\" y2=\"299.9375\"/></a><!--MD5=[270fce915f116d4de14055a7c1d9a0f3]\n",
       "class E5--><a href=\"psysml:61c6492a-41aa-4c1c-be1c-3a26db9abbc8\" target=\"_top\" title=\"psysml:61c6492a-41aa-4c1c-be1c-3a26db9abbc8\" xlink:actuate=\"onRequest\" xlink:href=\"psysml:61c6492a-41aa-4c1c-be1c-3a26db9abbc8\" xlink:show=\"new\" xlink:title=\"psysml:61c6492a-41aa-4c1c-be1c-3a26db9abbc8\" xlink:type=\"simple\"><rect fill=\"#FFFFFF\" height=\"45.9375\" id=\"E5\" rx=\"10\" ry=\"10\" style=\"stroke: #383838; stroke-width: 1.5;\" width=\"106\" x=\"91\" y=\"100\"/><text fill=\"#000000\" font-family=\"sans-serif\" font-size=\"12\" font-style=\"italic\" lengthAdjust=\"spacingAndGlyphs\" textLength=\"40\" x=\"124\" y=\"116.1387\">«part»</text><text fill=\"#000000\" font-family=\"sans-serif\" font-size=\"12\" lengthAdjust=\"spacingAndGlyphs\" textLength=\"96\" x=\"94\" y=\"130.1074\">vehicle: Vehicle</text><line style=\"stroke: #383838; stroke-width: 1.5;\" x1=\"92\" x2=\"196\" y1=\"137.9375\" y2=\"137.9375\"/></a><!--MD5=[f0cdf4548168e5211fb3a02bf679d63a]\n",
       "link E4 to E3--><a href=\"psysml:ef5e87d6-f969-4b16-bad6-f15ecd335219\" target=\"_top\" title=\"psysml:ef5e87d6-f969-4b16-bad6-f15ecd335219\" xlink:actuate=\"onRequest\" xlink:href=\"psysml:ef5e87d6-f969-4b16-bad6-f15ecd335219\" xlink:show=\"new\" xlink:title=\"psysml:ef5e87d6-f969-4b16-bad6-f15ecd335219\" xlink:type=\"simple\"><path d=\"M62.3475,170.0242 C62.3705,170.1912 62.3936,170.3582 62.4166,170.5251 C62.5087,171.1927 62.6006,171.8594 62.6924,172.5245 C62.8758,173.8547 63.0585,175.1785 63.2395,176.4909 C63.6016,179.1157 63.9573,181.6948 64.3012,184.1877 C64.989,189.1736 65.6292,193.8147 66.1772,197.7869 C67.2731,205.7313 68,211 68,211 C68,211 84.75,236.48 98.47,257.33 \" fill=\"none\" id=\"E4-&gt;E3\" style=\"stroke: #383838; stroke-width: 1.0; stroke-dasharray: 7.0,7.0;\"/><polygon fill=\"#383838\" points=\"101.34,261.7,99.7376,251.9824,98.593,257.5222,93.0531,256.3776,101.34,261.7\" style=\"stroke: #383838; stroke-width: 1.0;\"/><text fill=\"#000000\" font-family=\"sans-serif\" font-size=\"13\" lengthAdjust=\"spacingAndGlyphs\" textLength=\"58\" x=\"69\" y=\"207.0669\">«import»</text></a><!--MD5=[e9be52314489bd878ff4c7144b63c9e1]\n",
       "link E5 to E3--><a href=\"psysml:144792e9-f989-4dc0-84af-44c5bd60762e\" target=\"_top\" title=\"psysml:144792e9-f989-4dc0-84af-44c5bd60762e\" xlink:actuate=\"onRequest\" xlink:href=\"psysml:144792e9-f989-4dc0-84af-44c5bd60762e\" xlink:show=\"new\" xlink:title=\"psysml:144792e9-f989-4dc0-84af-44c5bd60762e\" xlink:type=\"simple\"><path d=\"M141.94,146.4 C139.57,172.18 136,211 136,211 C136,211 131.91,225.94 127.42,242.3 \" fill=\"none\" id=\"E5-&gt;E3\" style=\"stroke: #383838; stroke-width: 1.0;\"/><polygon fill=\"#FFFFFF\" points=\"122.11,261.7,120.3774,241.5258,133.8801,245.2238,122.11,261.7\" style=\"stroke: #383838; stroke-width: 1.0;\"/><ellipse cx=\"123.8119\" cy=\"236.5565\" fill=\"#383838\" rx=\"2\" ry=\"2\" style=\"stroke: #383838; stroke-width: 1.0;\"/><ellipse cx=\"133.4568\" cy=\"239.198\" fill=\"#383838\" rx=\"2\" ry=\"2\" style=\"stroke: #383838; stroke-width: 1.0;\"/></a><!--MD5=[a83ab01da60637e34a2bca35eec07e77]\n",
       "@startuml\r\n",
       "skinparam linetype polyline\r\n",
       "skinparam monochrome true\r\n",
       "skinparam classbackgroundcolor white\r\n",
       "skinparam shadowing false\r\n",
       "skinparam wrapWidth 300\r\n",
       "hide circle\r\n",
       "\r\n",
       "package \"AliasImport\" as E1  [[psysml:2a0424ca-0ea8-4c9d-a1b7-bd1ebfa50d2f ]]  {\r\n",
       "package \"Definitions\" as E2  [[psysml:1b261b72-bc02-4122-a178-845f71db1598 ]]  {\r\n",
       "comp def \"Vehicle\" as E3  <<(T,blue) part  def>> [[psysml:0e061c30-2d05-4525-ad81-a01ef286857e ]] {\r\n",
       "}\r\n",
       "}\r\n",
       "package \"Usages\" as E4  [[psysml:944b5b0e-65e9-4e4f-876e-9affde2d942d ]]  {\r\n",
       "comp usage \"vehicle: Vehicle \" as E5  <<(T,blue) part>> [[psysml:61c6492a-41aa-4c1c-be1c-3a26db9abbc8 ]] {\r\n",
       "}\r\n",
       "}\r\n",
       "}\r\n",
       "E4 ..> E3 [[psysml:ef5e87d6-f969-4b16-bad6-f15ecd335219 ]] : <<import>>\r\n",
       "E5 - -:|> E3 [[psysml:144792e9-f989-4dc0-84af-44c5bd60762e ]] \r\n",
       "@enduml\r\n",
       "\n",
       "PlantUML version 1.2020.13(Sat Jun 13 12:26:38 UTC 2020)\n",
       "(EPL source distribution)\n",
       "Java Runtime: OpenJDK Runtime Environment\n",
       "JVM: OpenJDK 64-Bit Server VM\n",
       "Default Encoding: UTF-8\n",
       "Language: en\n",
       "Country: null\n",
       "--></g></svg>"
      ]
     },
     "execution_count": 10,
     "metadata": {},
     "output_type": "execute_result"
    }
   ],
   "source": [
    "%viz --style=\"POLYLINE\" --view=\"Tree\" \"AliasImport\""
   ]
  },
  {
   "cell_type": "code",
   "execution_count": 11,
   "id": "38cd9dbd",
   "metadata": {
    "execution": {
     "iopub.execute_input": "2022-05-19T08:46:15.712914Z",
     "iopub.status.busy": "2022-05-19T08:46:15.712386Z",
     "iopub.status.idle": "2022-05-19T08:46:15.717046Z",
     "shell.execute_reply": "2022-05-19T08:46:15.716666Z"
    }
   },
   "outputs": [
    {
     "data": {
      "image/svg+xml": [
       "<?xml version=\"1.0\" encoding=\"UTF-8\" standalone=\"no\"?><svg xmlns=\"http://www.w3.org/2000/svg\" xmlns:xlink=\"http://www.w3.org/1999/xlink\" contentScriptType=\"application/ecmascript\" contentStyleType=\"text/css\" height=\"12px\" preserveAspectRatio=\"none\" style=\"width:12px;height:12px;\" version=\"1.1\" viewBox=\"0 0 12 12\" width=\"12px\" zoomAndPan=\"magnify\"><defs/><g><!--MD5=[896ac0e7a515d8dd7765a661cb4ee08b]\n",
       "@startuml\r\n",
       "skinparam linetype polyline\r\n",
       "skinparam monochrome true\r\n",
       "skinparam classbackgroundcolor white\r\n",
       "skinparam shadowing false\r\n",
       "skinparam wrapWidth 300\r\n",
       "hide circle\r\n",
       "\r\n",
       "@enduml\r\n",
       "\n",
       "PlantUML version 1.2020.13(Sat Jun 13 12:26:38 UTC 2020)\n",
       "(EPL source distribution)\n",
       "Java Runtime: OpenJDK Runtime Environment\n",
       "JVM: OpenJDK 64-Bit Server VM\n",
       "Default Encoding: UTF-8\n",
       "Language: en\n",
       "Country: null\n",
       "--></g></svg>"
      ]
     },
     "execution_count": 11,
     "metadata": {},
     "output_type": "execute_result"
    }
   ],
   "source": [
    "%viz --style=\"POLYLINE\" --view=\"State\" \"AliasImport\""
   ]
  },
  {
   "cell_type": "code",
   "execution_count": 12,
   "id": "a20dce92",
   "metadata": {
    "execution": {
     "iopub.execute_input": "2022-05-19T08:46:15.766985Z",
     "iopub.status.busy": "2022-05-19T08:46:15.766517Z",
     "iopub.status.idle": "2022-05-19T08:46:15.808826Z",
     "shell.execute_reply": "2022-05-19T08:46:15.808413Z"
    }
   },
   "outputs": [
    {
     "data": {
      "image/svg+xml": [
       "<?xml version=\"1.0\" encoding=\"UTF-8\" standalone=\"no\"?><svg xmlns=\"http://www.w3.org/2000/svg\" xmlns:xlink=\"http://www.w3.org/1999/xlink\" contentScriptType=\"application/ecmascript\" contentStyleType=\"text/css\" height=\"351px\" preserveAspectRatio=\"none\" style=\"width:302px;height:351px;\" version=\"1.1\" viewBox=\"0 0 302 351\" width=\"302px\" zoomAndPan=\"magnify\"><defs/><g><!--MD5=[fbc87193dbaf4d95561dea2c320d4a47]\n",
       "cluster E1--><a href=\"psysml:2a0424ca-0ea8-4c9d-a1b7-bd1ebfa50d2f\" target=\"_top\" title=\"psysml:2a0424ca-0ea8-4c9d-a1b7-bd1ebfa50d2f\" xlink:actuate=\"onRequest\" xlink:href=\"psysml:2a0424ca-0ea8-4c9d-a1b7-bd1ebfa50d2f\" xlink:show=\"new\" xlink:title=\"psysml:2a0424ca-0ea8-4c9d-a1b7-bd1ebfa50d2f\" xlink:type=\"simple\"><polygon fill=\"#FFFFFF\" points=\"16,6,97,6,104,28.2969,280,28.2969,280,339,16,339,16,6\" style=\"stroke: #000000; stroke-width: 1.5;\"/><line style=\"stroke: #000000; stroke-width: 1.5;\" x1=\"16\" x2=\"104\" y1=\"28.2969\" y2=\"28.2969\"/><text fill=\"#000000\" font-family=\"sans-serif\" font-size=\"14\" font-weight=\"bold\" lengthAdjust=\"spacingAndGlyphs\" textLength=\"75\" x=\"20\" y=\"20.9951\">AliasImport</text></a><!--MD5=[e4f7fae6ed58524ba242bb0b0d3be6b7]\n",
       "cluster E2--><a href=\"psysml:1b261b72-bc02-4122-a178-845f71db1598\" target=\"_top\" title=\"psysml:1b261b72-bc02-4122-a178-845f71db1598\" xlink:actuate=\"onRequest\" xlink:href=\"psysml:1b261b72-bc02-4122-a178-845f71db1598\" xlink:show=\"new\" xlink:title=\"psysml:1b261b72-bc02-4122-a178-845f71db1598\" xlink:type=\"simple\"><polygon fill=\"#FFFFFF\" points=\"40,221,119,221,126,243.2969,256,243.2969,256,315,40,315,40,221\" style=\"stroke: #000000; stroke-width: 1.5;\"/><line style=\"stroke: #000000; stroke-width: 1.5;\" x1=\"40\" x2=\"126\" y1=\"243.2969\" y2=\"243.2969\"/><text fill=\"#000000\" font-family=\"sans-serif\" font-size=\"14\" font-weight=\"bold\" lengthAdjust=\"spacingAndGlyphs\" textLength=\"73\" x=\"44\" y=\"235.9951\">Definitions</text></a><!--MD5=[de5ec2e2e8f62f467e546659f5068c88]\n",
       "cluster E5--><a href=\"psysml:944b5b0e-65e9-4e4f-876e-9affde2d942d\" target=\"_top\" title=\"psysml:944b5b0e-65e9-4e4f-876e-9affde2d942d\" xlink:actuate=\"onRequest\" xlink:href=\"psysml:944b5b0e-65e9-4e4f-876e-9affde2d942d\" xlink:show=\"new\" xlink:title=\"psysml:944b5b0e-65e9-4e4f-876e-9affde2d942d\" xlink:type=\"simple\"><polygon fill=\"#FFFFFF\" points=\"56,57,114,57,121,79.2969,230,79.2969,230,164,56,164,56,57\" style=\"stroke: #000000; stroke-width: 1.5;\"/><line style=\"stroke: #000000; stroke-width: 1.5;\" x1=\"56\" x2=\"121\" y1=\"79.2969\" y2=\"79.2969\"/><text fill=\"#000000\" font-family=\"sans-serif\" font-size=\"14\" font-weight=\"bold\" lengthAdjust=\"spacingAndGlyphs\" textLength=\"52\" x=\"60\" y=\"71.9951\">Usages</text></a><g id=\"E1.E2.E3\"><a href=\"psysml:0e061c30-2d05-4525-ad81-a01ef286857e\" target=\"_top\" title=\"psysml:0e061c30-2d05-4525-ad81-a01ef286857e\" xlink:actuate=\"onRequest\" xlink:href=\"psysml:0e061c30-2d05-4525-ad81-a01ef286857e\" xlink:show=\"new\" xlink:title=\"psysml:0e061c30-2d05-4525-ad81-a01ef286857e\" xlink:type=\"simple\"><rect fill=\"#FFFFFF\" height=\"42.9375\" id=\"E3\" style=\"stroke: #383838; stroke-width: 1.5;\" width=\"75\" x=\"165.5\" y=\"256\"/><rect fill=\"#F8F8F8\" height=\"37.9375\" style=\"stroke: #383838; stroke-width: 1.5;\" width=\"75\" x=\"165.5\" y=\"256\"/><text fill=\"#000000\" font-family=\"sans-serif\" font-size=\"12\" font-style=\"italic\" lengthAdjust=\"spacingAndGlyphs\" textLength=\"68\" x=\"169\" y=\"272.1387\">«part  def»</text><text fill=\"#000000\" font-family=\"sans-serif\" font-size=\"12\" lengthAdjust=\"spacingAndGlyphs\" textLength=\"45\" x=\"180.5\" y=\"286.1074\">Vehicle</text></a></g><g id=\"E1.E2.E4\"><a href=\"psysml:0e061c30-2d05-4525-ad81-a01ef286857e\" target=\"_top\" title=\"psysml:0e061c30-2d05-4525-ad81-a01ef286857e\" xlink:actuate=\"onRequest\" xlink:href=\"psysml:0e061c30-2d05-4525-ad81-a01ef286857e\" xlink:show=\"new\" xlink:title=\"psysml:0e061c30-2d05-4525-ad81-a01ef286857e\" xlink:type=\"simple\"><rect fill=\"#FFFFFF\" height=\"42.9375\" id=\"E4\" style=\"stroke: #383838; stroke-width: 1.5;\" width=\"75\" x=\"55.5\" y=\"256\"/><rect fill=\"#F8F8F8\" height=\"37.9375\" style=\"stroke: #383838; stroke-width: 1.5;\" width=\"75\" x=\"55.5\" y=\"256\"/><text fill=\"#000000\" font-family=\"sans-serif\" font-size=\"12\" font-style=\"italic\" lengthAdjust=\"spacingAndGlyphs\" textLength=\"68\" x=\"59\" y=\"272.1387\">«part  def»</text><text fill=\"#000000\" font-family=\"sans-serif\" font-size=\"12\" lengthAdjust=\"spacingAndGlyphs\" textLength=\"45\" x=\"70.5\" y=\"286.1074\">Vehicle</text></a></g><g id=\"E1.E5.E6\"><a href=\"psysml:61c6492a-41aa-4c1c-be1c-3a26db9abbc8\" target=\"_top\" title=\"psysml:61c6492a-41aa-4c1c-be1c-3a26db9abbc8\" xlink:actuate=\"onRequest\" xlink:href=\"psysml:61c6492a-41aa-4c1c-be1c-3a26db9abbc8\" xlink:show=\"new\" xlink:title=\"psysml:61c6492a-41aa-4c1c-be1c-3a26db9abbc8\" xlink:type=\"simple\"><rect fill=\"#FFFFFF\" height=\"40\" id=\"E6\" rx=\"10\" ry=\"10\" style=\"stroke: #383838; stroke-width: 1.5;\" width=\"107\" x=\"99.5\" y=\"100\"/><rect fill=\"#F8F8F8\" height=\"23.9688\" rx=\"10\" ry=\"10\" style=\"stroke: #F8F8F8; stroke-width: 1.5;\" width=\"107\" x=\"99.5\" y=\"100\"/><rect fill=\"#F8F8F8\" height=\"10\" style=\"stroke: #F8F8F8; stroke-width: 1.5;\" width=\"107\" x=\"99.5\" y=\"113.9688\"/><rect fill=\"none\" height=\"40\" id=\"E6\" rx=\"10\" ry=\"10\" style=\"stroke: #383838; stroke-width: 1.5;\" width=\"107\" x=\"99.5\" y=\"100\"/><text fill=\"#000000\" font-family=\"sans-serif\" font-size=\"12\" lengthAdjust=\"spacingAndGlyphs\" textLength=\"96\" x=\"105\" y=\"116.1387\">vehicle: Vehicle</text></a></g><!--MD5=[1c62de2aa5b76f0fb657ff8443a1a700]\n",
       "link E5 to E4--><a href=\"psysml:ef5e87d6-f969-4b16-bad6-f15ecd335219\" target=\"_top\" title=\"psysml:ef5e87d6-f969-4b16-bad6-f15ecd335219\" xlink:actuate=\"onRequest\" xlink:href=\"psysml:ef5e87d6-f969-4b16-bad6-f15ecd335219\" xlink:show=\"new\" xlink:title=\"psysml:ef5e87d6-f969-4b16-bad6-f15ecd335219\" xlink:type=\"simple\"><path d=\"M68.6581,164.4668 C68.6754,164.6282 68.6927,164.7896 68.71,164.951 C68.7446,165.2737 68.7791,165.5962 68.8136,165.9185 C68.8827,166.5632 68.9516,167.2069 69.0204,167.849 C69.158,169.1334 69.2949,170.4116 69.4306,171.6788 C69.7021,174.2132 69.9689,176.7035 70.2267,179.1106 C70.7424,183.9248 71.2224,188.4061 71.6333,192.2416 C72.455,199.9125 73,205 73,205 C73,205 80.12,230.46 85.86,250.99 \" fill=\"none\" id=\"E5-&gt;E4\" style=\"stroke: #383838; stroke-width: 1.0; stroke-dasharray: 7.0,7.0;\"/><polygon fill=\"#383838\" points=\"87.22,255.82,88.628,246.0723,85.8634,251.0076,80.9281,248.2429,87.22,255.82\" style=\"stroke: #383838; stroke-width: 1.0;\"/><text fill=\"#000000\" font-family=\"sans-serif\" font-size=\"13\" lengthAdjust=\"spacingAndGlyphs\" textLength=\"58\" x=\"74\" y=\"201.0669\">«import»</text></a><!--MD5=[f667431f98296947986a1a7595a31603]\n",
       "link E6 to E4--><a href=\"psysml:144792e9-f989-4dc0-84af-44c5bd60762e\" target=\"_top\" title=\"psysml:144792e9-f989-4dc0-84af-44c5bd60762e\" xlink:actuate=\"onRequest\" xlink:href=\"psysml:144792e9-f989-4dc0-84af-44c5bd60762e\" xlink:show=\"new\" xlink:title=\"psysml:144792e9-f989-4dc0-84af-44c5bd60762e\" xlink:type=\"simple\"><path d=\"M149.37,140.06 C144.65,164.84 137,205 137,205 C137,205 126.83,221.53 116.26,238.7 \" fill=\"none\" id=\"E6-&gt;E4\" style=\"stroke: #383838; stroke-width: 1.0;\"/><polygon fill=\"#FFFFFF\" points=\"105.73,255.82,109.7197,235.9685,121.6454,243.302,105.73,255.82\" style=\"stroke: #383838; stroke-width: 1.0;\"/><ellipse cx=\"114.4092\" cy=\"232.1607\" fill=\"#383838\" rx=\"2\" ry=\"2\" style=\"stroke: #383838; stroke-width: 1.0;\"/><ellipse cx=\"122.9275\" cy=\"237.3989\" fill=\"#383838\" rx=\"2\" ry=\"2\" style=\"stroke: #383838; stroke-width: 1.0;\"/></a><!--MD5=[18ad021464bcef9b765adea30955fc55]\n",
       "@startuml\r\n",
       "skinparam ranksep 10\r\n",
       "skinparam rectangle {\r\n",
       " backgroundColor<<block>> LightGreen\r\n",
       "}\r\n",
       "skinparam linetype polyline\r\n",
       "skinparam monochrome true\r\n",
       "skinparam classbackgroundcolor white\r\n",
       "skinparam shadowing false\r\n",
       "skinparam wrapWidth 300\r\n",
       "hide circle\r\n",
       "\r\n",
       "package \"AliasImport\" as E1  [[psysml:2a0424ca-0ea8-4c9d-a1b7-bd1ebfa50d2f ]]  {\r\n",
       "package \"Definitions\" as E2  [[psysml:1b261b72-bc02-4122-a178-845f71db1598 ]]  {\r\n",
       "rec def \"Vehicle\" as E3  <<(T,blue) part  def>> [[psysml:0e061c30-2d05-4525-ad81-a01ef286857e ]] {\r\n",
       "}\r\n",
       "rec def \"Vehicle\" as E4  <<(T,blue) part  def>> [[psysml:0e061c30-2d05-4525-ad81-a01ef286857e ]] {\r\n",
       "}\r\n",
       "}\r\n",
       "package \"Usages\" as E5  [[psysml:944b5b0e-65e9-4e4f-876e-9affde2d942d ]]  {\r\n",
       "rec usage \"vehicle: Vehicle\" as E6  [[psysml:61c6492a-41aa-4c1c-be1c-3a26db9abbc8 ]] {\r\n",
       "}\r\n",
       "}\r\n",
       "}\r\n",
       "E5 ..> E4 [[psysml:ef5e87d6-f969-4b16-bad6-f15ecd335219 ]] : <<import>>\r\n",
       "E6 - -:|> E4 [[psysml:144792e9-f989-4dc0-84af-44c5bd60762e ]] \r\n",
       "@enduml\r\n",
       "\n",
       "PlantUML version 1.2020.13(Sat Jun 13 12:26:38 UTC 2020)\n",
       "(EPL source distribution)\n",
       "Java Runtime: OpenJDK Runtime Environment\n",
       "JVM: OpenJDK 64-Bit Server VM\n",
       "Default Encoding: UTF-8\n",
       "Language: en\n",
       "Country: null\n",
       "--></g></svg>"
      ]
     },
     "execution_count": 12,
     "metadata": {},
     "output_type": "execute_result"
    }
   ],
   "source": [
    "%viz --style=\"POLYLINE\" --view=\"Interconnection\" \"AliasImport\""
   ]
  },
  {
   "cell_type": "code",
   "execution_count": 13,
   "id": "ffe2c8da",
   "metadata": {
    "execution": {
     "iopub.execute_input": "2022-05-19T08:46:15.858859Z",
     "iopub.status.busy": "2022-05-19T08:46:15.858398Z",
     "iopub.status.idle": "2022-05-19T08:46:15.864971Z",
     "shell.execute_reply": "2022-05-19T08:46:15.865309Z"
    }
   },
   "outputs": [
    {
     "data": {
      "image/svg+xml": [
       "<?xml version=\"1.0\" encoding=\"UTF-8\" standalone=\"no\"?><svg xmlns=\"http://www.w3.org/2000/svg\" xmlns:xlink=\"http://www.w3.org/1999/xlink\" contentScriptType=\"application/ecmascript\" contentStyleType=\"text/css\" height=\"12px\" preserveAspectRatio=\"none\" style=\"width:12px;height:12px;\" version=\"1.1\" viewBox=\"0 0 12 12\" width=\"12px\" zoomAndPan=\"magnify\"><defs/><g><!--MD5=[97bbf32f66ccd50cbc40d92ea8f5a65e]\n",
       "@startuml\r\n",
       "skinparam ranksep 8\r\n",
       "skinparam linetype polyline\r\n",
       "skinparam monochrome true\r\n",
       "skinparam classbackgroundcolor white\r\n",
       "skinparam shadowing false\r\n",
       "skinparam wrapWidth 300\r\n",
       "hide circle\r\n",
       "\r\n",
       "@enduml\r\n",
       "\n",
       "PlantUML version 1.2020.13(Sat Jun 13 12:26:38 UTC 2020)\n",
       "(EPL source distribution)\n",
       "Java Runtime: OpenJDK Runtime Environment\n",
       "JVM: OpenJDK 64-Bit Server VM\n",
       "Default Encoding: UTF-8\n",
       "Language: en\n",
       "Country: null\n",
       "--></g></svg>"
      ]
     },
     "execution_count": 13,
     "metadata": {},
     "output_type": "execute_result"
    }
   ],
   "source": [
    "%viz --style=\"POLYLINE\" --view=\"Action\" \"AliasImport\""
   ]
  },
  {
   "cell_type": "code",
   "execution_count": 14,
   "id": "3c8ae13f",
   "metadata": {
    "execution": {
     "iopub.execute_input": "2022-05-19T08:46:15.915576Z",
     "iopub.status.busy": "2022-05-19T08:46:15.915115Z",
     "iopub.status.idle": "2022-05-19T08:46:15.921389Z",
     "shell.execute_reply": "2022-05-19T08:46:15.921711Z"
    }
   },
   "outputs": [
    {
     "data": {
      "image/svg+xml": [
       "<?xml version=\"1.0\" encoding=\"UTF-8\" standalone=\"no\"?><svg xmlns=\"http://www.w3.org/2000/svg\" xmlns:xlink=\"http://www.w3.org/1999/xlink\" contentScriptType=\"application/ecmascript\" contentStyleType=\"text/css\" height=\"12px\" preserveAspectRatio=\"none\" style=\"width:12px;height:12px;\" version=\"1.1\" viewBox=\"0 0 12 12\" width=\"12px\" zoomAndPan=\"magnify\"><defs/><g><!--MD5=[dc938048236c351797870c36b62f92ad]\n",
       "@startuml\r\n",
       "skinparam roundcorner 20\r\n",
       "skinparam BoxPadding 20\r\n",
       "skinparam SequenceBoxBackgroundColor #white\r\n",
       "skinparam style strictuml\r\n",
       "skinparam maxMessageSize 100\r\n",
       "skinparam linetype polyline\r\n",
       "skinparam monochrome true\r\n",
       "skinparam classbackgroundcolor white\r\n",
       "skinparam shadowing false\r\n",
       "skinparam wrapWidth 300\r\n",
       "hide circle\r\n",
       "\r\n",
       "@enduml\r\n",
       "\n",
       "PlantUML version 1.2020.13(Sat Jun 13 12:26:38 UTC 2020)\n",
       "(EPL source distribution)\n",
       "Java Runtime: OpenJDK Runtime Environment\n",
       "JVM: OpenJDK 64-Bit Server VM\n",
       "Default Encoding: UTF-8\n",
       "Language: en\n",
       "Country: null\n",
       "--></g></svg>"
      ]
     },
     "execution_count": 14,
     "metadata": {},
     "output_type": "execute_result"
    }
   ],
   "source": [
    "%viz --style=\"POLYLINE\" --view=\"Sequence\" \"AliasImport\""
   ]
  },
  {
   "cell_type": "code",
   "execution_count": 15,
   "id": "90a96cdc",
   "metadata": {
    "execution": {
     "iopub.execute_input": "2022-05-19T08:46:15.971910Z",
     "iopub.status.busy": "2022-05-19T08:46:15.971451Z",
     "iopub.status.idle": "2022-05-19T08:46:16.008181Z",
     "shell.execute_reply": "2022-05-19T08:46:16.007776Z"
    }
   },
   "outputs": [
    {
     "data": {
      "image/svg+xml": [
       "<?xml version=\"1.0\" encoding=\"UTF-8\" standalone=\"no\"?><svg xmlns=\"http://www.w3.org/2000/svg\" xmlns:xlink=\"http://www.w3.org/1999/xlink\" contentScriptType=\"application/ecmascript\" contentStyleType=\"text/css\" height=\"360px\" preserveAspectRatio=\"none\" style=\"width:275px;height:360px;\" version=\"1.1\" viewBox=\"0 0 275 360\" width=\"275px\" zoomAndPan=\"magnify\"><defs/><g><!--MD5=[fbc87193dbaf4d95561dea2c320d4a47]\n",
       "cluster E1--><a href=\"psysml:2a0424ca-0ea8-4c9d-a1b7-bd1ebfa50d2f\" target=\"_top\" title=\"psysml:2a0424ca-0ea8-4c9d-a1b7-bd1ebfa50d2f\" xlink:actuate=\"onRequest\" xlink:href=\"psysml:2a0424ca-0ea8-4c9d-a1b7-bd1ebfa50d2f\" xlink:show=\"new\" xlink:title=\"psysml:2a0424ca-0ea8-4c9d-a1b7-bd1ebfa50d2f\" xlink:type=\"simple\"><polygon fill=\"#FFFFFF\" points=\"16,6,97,6,104,28.2969,253,28.2969,253,348,16,348,16,6\" style=\"stroke: #000000; stroke-width: 1.5;\"/><line style=\"stroke: #000000; stroke-width: 1.5;\" x1=\"16\" x2=\"104\" y1=\"28.2969\" y2=\"28.2969\"/><text fill=\"#000000\" font-family=\"sans-serif\" font-size=\"14\" font-weight=\"bold\" lengthAdjust=\"spacingAndGlyphs\" textLength=\"75\" x=\"20\" y=\"20.9951\">AliasImport</text></a><!--MD5=[e4f7fae6ed58524ba242bb0b0d3be6b7]\n",
       "cluster E2--><a href=\"psysml:1b261b72-bc02-4122-a178-845f71db1598\" target=\"_top\" title=\"psysml:1b261b72-bc02-4122-a178-845f71db1598\" xlink:actuate=\"onRequest\" xlink:href=\"psysml:1b261b72-bc02-4122-a178-845f71db1598\" xlink:show=\"new\" xlink:title=\"psysml:1b261b72-bc02-4122-a178-845f71db1598\" xlink:type=\"simple\"><polygon fill=\"#FFFFFF\" points=\"65,227,144,227,151,249.2969,167,249.2969,167,324,65,324,65,227\" style=\"stroke: #000000; stroke-width: 1.5;\"/><line style=\"stroke: #000000; stroke-width: 1.5;\" x1=\"65\" x2=\"151\" y1=\"249.2969\" y2=\"249.2969\"/><text fill=\"#000000\" font-family=\"sans-serif\" font-size=\"14\" font-weight=\"bold\" lengthAdjust=\"spacingAndGlyphs\" textLength=\"73\" x=\"69\" y=\"241.9951\">Definitions</text></a><!--MD5=[f6df4d0ebaf0b5dfb2ced0ae5af7c670]\n",
       "cluster E4--><a href=\"psysml:944b5b0e-65e9-4e4f-876e-9affde2d942d\" target=\"_top\" title=\"psysml:944b5b0e-65e9-4e4f-876e-9affde2d942d\" xlink:actuate=\"onRequest\" xlink:href=\"psysml:944b5b0e-65e9-4e4f-876e-9affde2d942d\" xlink:show=\"new\" xlink:title=\"psysml:944b5b0e-65e9-4e4f-876e-9affde2d942d\" xlink:type=\"simple\"><polygon fill=\"#FFFFFF\" points=\"48,57,106,57,113,79.2969,221,79.2969,221,170,48,170,48,57\" style=\"stroke: #000000; stroke-width: 1.5;\"/><line style=\"stroke: #000000; stroke-width: 1.5;\" x1=\"48\" x2=\"113\" y1=\"79.2969\" y2=\"79.2969\"/><text fill=\"#000000\" font-family=\"sans-serif\" font-size=\"14\" font-weight=\"bold\" lengthAdjust=\"spacingAndGlyphs\" textLength=\"52\" x=\"52\" y=\"71.9951\">Usages</text></a><!--MD5=[09b614a08d8cba4a07c9adeb5e0fee81]\n",
       "class E3--><a href=\"psysml:0e061c30-2d05-4525-ad81-a01ef286857e\" target=\"_top\" title=\"psysml:0e061c30-2d05-4525-ad81-a01ef286857e\" xlink:actuate=\"onRequest\" xlink:href=\"psysml:0e061c30-2d05-4525-ad81-a01ef286857e\" xlink:show=\"new\" xlink:title=\"psysml:0e061c30-2d05-4525-ad81-a01ef286857e\" xlink:type=\"simple\"><rect fill=\"#FFFFFF\" height=\"45.9375\" id=\"E3\" style=\"stroke: #383838; stroke-width: 1.5;\" width=\"70\" x=\"81\" y=\"262\"/><text fill=\"#000000\" font-family=\"sans-serif\" font-size=\"12\" font-style=\"italic\" lengthAdjust=\"spacingAndGlyphs\" textLength=\"68\" x=\"82\" y=\"278.1387\">«part  def»</text><text fill=\"#000000\" font-family=\"sans-serif\" font-size=\"12\" lengthAdjust=\"spacingAndGlyphs\" textLength=\"45\" x=\"93.5\" y=\"292.1074\">Vehicle</text><line style=\"stroke: #383838; stroke-width: 1.5;\" x1=\"82\" x2=\"150\" y1=\"299.9375\" y2=\"299.9375\"/></a><!--MD5=[270fce915f116d4de14055a7c1d9a0f3]\n",
       "class E5--><a href=\"psysml:61c6492a-41aa-4c1c-be1c-3a26db9abbc8\" target=\"_top\" title=\"psysml:61c6492a-41aa-4c1c-be1c-3a26db9abbc8\" xlink:actuate=\"onRequest\" xlink:href=\"psysml:61c6492a-41aa-4c1c-be1c-3a26db9abbc8\" xlink:show=\"new\" xlink:title=\"psysml:61c6492a-41aa-4c1c-be1c-3a26db9abbc8\" xlink:type=\"simple\"><rect fill=\"#FFFFFF\" height=\"45.9375\" id=\"E5\" rx=\"10\" ry=\"10\" style=\"stroke: #383838; stroke-width: 1.5;\" width=\"106\" x=\"91\" y=\"100\"/><text fill=\"#000000\" font-family=\"sans-serif\" font-size=\"12\" font-style=\"italic\" lengthAdjust=\"spacingAndGlyphs\" textLength=\"40\" x=\"124\" y=\"116.1387\">«part»</text><text fill=\"#000000\" font-family=\"sans-serif\" font-size=\"12\" lengthAdjust=\"spacingAndGlyphs\" textLength=\"96\" x=\"94\" y=\"130.1074\">vehicle: Vehicle</text><line style=\"stroke: #383838; stroke-width: 1.5;\" x1=\"92\" x2=\"196\" y1=\"137.9375\" y2=\"137.9375\"/></a><!--MD5=[f0cdf4548168e5211fb3a02bf679d63a]\n",
       "link E4 to E3--><a href=\"psysml:ef5e87d6-f969-4b16-bad6-f15ecd335219\" target=\"_top\" title=\"psysml:ef5e87d6-f969-4b16-bad6-f15ecd335219\" xlink:actuate=\"onRequest\" xlink:href=\"psysml:ef5e87d6-f969-4b16-bad6-f15ecd335219\" xlink:show=\"new\" xlink:title=\"psysml:ef5e87d6-f969-4b16-bad6-f15ecd335219\" xlink:type=\"simple\"><path d=\"M62.3475,170.0242 C62.3705,170.1912 62.3936,170.3582 62.4166,170.5251 C62.5087,171.1927 62.6006,171.8594 62.6924,172.5245 C62.8758,173.8547 63.0585,175.1785 63.2395,176.4909 C63.6016,179.1157 63.9573,181.6948 64.3012,184.1877 C64.989,189.1736 65.6292,193.8147 66.1772,197.7869 C67.2731,205.7313 68,211 68,211 C68,211 84.75,236.48 98.47,257.33 \" fill=\"none\" id=\"E4-&gt;E3\" style=\"stroke: #383838; stroke-width: 1.0; stroke-dasharray: 7.0,7.0;\"/><polygon fill=\"#383838\" points=\"101.34,261.7,99.7376,251.9824,98.593,257.5222,93.0531,256.3776,101.34,261.7\" style=\"stroke: #383838; stroke-width: 1.0;\"/><text fill=\"#000000\" font-family=\"sans-serif\" font-size=\"13\" lengthAdjust=\"spacingAndGlyphs\" textLength=\"58\" x=\"69\" y=\"207.0669\">«import»</text></a><!--MD5=[e9be52314489bd878ff4c7144b63c9e1]\n",
       "link E5 to E3--><a href=\"psysml:144792e9-f989-4dc0-84af-44c5bd60762e\" target=\"_top\" title=\"psysml:144792e9-f989-4dc0-84af-44c5bd60762e\" xlink:actuate=\"onRequest\" xlink:href=\"psysml:144792e9-f989-4dc0-84af-44c5bd60762e\" xlink:show=\"new\" xlink:title=\"psysml:144792e9-f989-4dc0-84af-44c5bd60762e\" xlink:type=\"simple\"><path d=\"M141.94,146.4 C139.57,172.18 136,211 136,211 C136,211 131.91,225.94 127.42,242.3 \" fill=\"none\" id=\"E5-&gt;E3\" style=\"stroke: #383838; stroke-width: 1.0;\"/><polygon fill=\"#FFFFFF\" points=\"122.11,261.7,120.3774,241.5258,133.8801,245.2238,122.11,261.7\" style=\"stroke: #383838; stroke-width: 1.0;\"/><ellipse cx=\"123.8119\" cy=\"236.5565\" fill=\"#383838\" rx=\"2\" ry=\"2\" style=\"stroke: #383838; stroke-width: 1.0;\"/><ellipse cx=\"133.4568\" cy=\"239.198\" fill=\"#383838\" rx=\"2\" ry=\"2\" style=\"stroke: #383838; stroke-width: 1.0;\"/></a><!--MD5=[a83ab01da60637e34a2bca35eec07e77]\n",
       "@startuml\r\n",
       "skinparam linetype polyline\r\n",
       "skinparam monochrome true\r\n",
       "skinparam classbackgroundcolor white\r\n",
       "skinparam shadowing false\r\n",
       "skinparam wrapWidth 300\r\n",
       "hide circle\r\n",
       "\r\n",
       "package \"AliasImport\" as E1  [[psysml:2a0424ca-0ea8-4c9d-a1b7-bd1ebfa50d2f ]]  {\r\n",
       "package \"Definitions\" as E2  [[psysml:1b261b72-bc02-4122-a178-845f71db1598 ]]  {\r\n",
       "comp def \"Vehicle\" as E3  <<(T,blue) part  def>> [[psysml:0e061c30-2d05-4525-ad81-a01ef286857e ]] {\r\n",
       "}\r\n",
       "}\r\n",
       "package \"Usages\" as E4  [[psysml:944b5b0e-65e9-4e4f-876e-9affde2d942d ]]  {\r\n",
       "comp usage \"vehicle: Vehicle \" as E5  <<(T,blue) part>> [[psysml:61c6492a-41aa-4c1c-be1c-3a26db9abbc8 ]] {\r\n",
       "}\r\n",
       "}\r\n",
       "}\r\n",
       "E4 ..> E3 [[psysml:ef5e87d6-f969-4b16-bad6-f15ecd335219 ]] : <<import>>\r\n",
       "E5 - -:|> E3 [[psysml:144792e9-f989-4dc0-84af-44c5bd60762e ]] \r\n",
       "@enduml\r\n",
       "\n",
       "PlantUML version 1.2020.13(Sat Jun 13 12:26:38 UTC 2020)\n",
       "(EPL source distribution)\n",
       "Java Runtime: OpenJDK Runtime Environment\n",
       "JVM: OpenJDK 64-Bit Server VM\n",
       "Default Encoding: UTF-8\n",
       "Language: en\n",
       "Country: null\n",
       "--></g></svg>"
      ]
     },
     "execution_count": 15,
     "metadata": {},
     "output_type": "execute_result"
    }
   ],
   "source": [
    "%viz --style=\"POLYLINE\" --view=\"MIXED\" \"AliasImport\""
   ]
  },
  {
   "cell_type": "code",
   "execution_count": 16,
   "id": "a3b84d7f",
   "metadata": {
    "execution": {
     "iopub.execute_input": "2022-05-19T08:46:16.058536Z",
     "iopub.status.busy": "2022-05-19T08:46:16.058074Z",
     "iopub.status.idle": "2022-05-19T08:46:16.094697Z",
     "shell.execute_reply": "2022-05-19T08:46:16.094144Z"
    }
   },
   "outputs": [
    {
     "data": {
      "image/svg+xml": [
       "<?xml version=\"1.0\" encoding=\"UTF-8\" standalone=\"no\"?><svg xmlns=\"http://www.w3.org/2000/svg\" xmlns:xlink=\"http://www.w3.org/1999/xlink\" contentScriptType=\"application/ecmascript\" contentStyleType=\"text/css\" height=\"233px\" preserveAspectRatio=\"none\" style=\"width:450px;height:233px;\" version=\"1.1\" viewBox=\"0 0 450 233\" width=\"450px\" zoomAndPan=\"magnify\"><defs/><g><!--MD5=[fbc87193dbaf4d95561dea2c320d4a47]\n",
       "cluster E1--><a href=\"psysml:2a0424ca-0ea8-4c9d-a1b7-bd1ebfa50d2f\" target=\"_top\" title=\"psysml:2a0424ca-0ea8-4c9d-a1b7-bd1ebfa50d2f\" xlink:actuate=\"onRequest\" xlink:href=\"psysml:2a0424ca-0ea8-4c9d-a1b7-bd1ebfa50d2f\" xlink:show=\"new\" xlink:title=\"psysml:2a0424ca-0ea8-4c9d-a1b7-bd1ebfa50d2f\" xlink:type=\"simple\"><polygon fill=\"#FFFFFF\" points=\"16,6,97,6,104,28.2969,428,28.2969,428,221,16,221,16,6\" style=\"stroke: #000000; stroke-width: 1.5;\"/><line style=\"stroke: #000000; stroke-width: 1.5;\" x1=\"16\" x2=\"104\" y1=\"28.2969\" y2=\"28.2969\"/><text fill=\"#000000\" font-family=\"sans-serif\" font-size=\"14\" font-weight=\"bold\" lengthAdjust=\"spacingAndGlyphs\" textLength=\"75\" x=\"20\" y=\"20.9951\">AliasImport</text></a><!--MD5=[e4f7fae6ed58524ba242bb0b0d3be6b7]\n",
       "cluster E2--><a href=\"psysml:1b261b72-bc02-4122-a178-845f71db1598\" target=\"_top\" title=\"psysml:1b261b72-bc02-4122-a178-845f71db1598\" xlink:actuate=\"onRequest\" xlink:href=\"psysml:1b261b72-bc02-4122-a178-845f71db1598\" xlink:show=\"new\" xlink:title=\"psysml:1b261b72-bc02-4122-a178-845f71db1598\" xlink:type=\"simple\"><polygon fill=\"#FFFFFF\" points=\"302,87,381,87,388,109.2969,404,109.2969,404,184,302,184,302,87\" style=\"stroke: #000000; stroke-width: 1.5;\"/><line style=\"stroke: #000000; stroke-width: 1.5;\" x1=\"302\" x2=\"388\" y1=\"109.2969\" y2=\"109.2969\"/><text fill=\"#000000\" font-family=\"sans-serif\" font-size=\"14\" font-weight=\"bold\" lengthAdjust=\"spacingAndGlyphs\" textLength=\"73\" x=\"306\" y=\"101.9951\">Definitions</text></a><!--MD5=[f6df4d0ebaf0b5dfb2ced0ae5af7c670]\n",
       "cluster E4--><a href=\"psysml:944b5b0e-65e9-4e4f-876e-9affde2d942d\" target=\"_top\" title=\"psysml:944b5b0e-65e9-4e4f-876e-9affde2d942d\" xlink:actuate=\"onRequest\" xlink:href=\"psysml:944b5b0e-65e9-4e4f-876e-9affde2d942d\" xlink:show=\"new\" xlink:title=\"psysml:944b5b0e-65e9-4e4f-876e-9affde2d942d\" xlink:type=\"simple\"><polygon fill=\"#FFFFFF\" points=\"48,57,106,57,113,79.2969,202,79.2969,202,189,48,189,48,57\" style=\"stroke: #000000; stroke-width: 1.5;\"/><line style=\"stroke: #000000; stroke-width: 1.5;\" x1=\"48\" x2=\"113\" y1=\"79.2969\" y2=\"79.2969\"/><text fill=\"#000000\" font-family=\"sans-serif\" font-size=\"14\" font-weight=\"bold\" lengthAdjust=\"spacingAndGlyphs\" textLength=\"52\" x=\"52\" y=\"71.9951\">Usages</text></a><!--MD5=[09b614a08d8cba4a07c9adeb5e0fee81]\n",
       "class E3--><a href=\"psysml:0e061c30-2d05-4525-ad81-a01ef286857e\" target=\"_top\" title=\"psysml:0e061c30-2d05-4525-ad81-a01ef286857e\" xlink:actuate=\"onRequest\" xlink:href=\"psysml:0e061c30-2d05-4525-ad81-a01ef286857e\" xlink:show=\"new\" xlink:title=\"psysml:0e061c30-2d05-4525-ad81-a01ef286857e\" xlink:type=\"simple\"><rect fill=\"#FFFFFF\" height=\"45.9375\" id=\"E3\" style=\"stroke: #383838; stroke-width: 1.5;\" width=\"70\" x=\"318\" y=\"122\"/><text fill=\"#000000\" font-family=\"sans-serif\" font-size=\"12\" font-style=\"italic\" lengthAdjust=\"spacingAndGlyphs\" textLength=\"68\" x=\"319\" y=\"138.1387\">«part  def»</text><text fill=\"#000000\" font-family=\"sans-serif\" font-size=\"12\" lengthAdjust=\"spacingAndGlyphs\" textLength=\"45\" x=\"330.5\" y=\"152.1074\">Vehicle</text><line style=\"stroke: #383838; stroke-width: 1.5;\" x1=\"319\" x2=\"387\" y1=\"159.9375\" y2=\"159.9375\"/></a><!--MD5=[270fce915f116d4de14055a7c1d9a0f3]\n",
       "class E5--><a href=\"psysml:61c6492a-41aa-4c1c-be1c-3a26db9abbc8\" target=\"_top\" title=\"psysml:61c6492a-41aa-4c1c-be1c-3a26db9abbc8\" xlink:actuate=\"onRequest\" xlink:href=\"psysml:61c6492a-41aa-4c1c-be1c-3a26db9abbc8\" xlink:show=\"new\" xlink:title=\"psysml:61c6492a-41aa-4c1c-be1c-3a26db9abbc8\" xlink:type=\"simple\"><rect fill=\"#FFFFFF\" height=\"45.9375\" id=\"E5\" rx=\"10\" ry=\"10\" style=\"stroke: #383838; stroke-width: 1.5;\" width=\"106\" x=\"72\" y=\"100\"/><text fill=\"#000000\" font-family=\"sans-serif\" font-size=\"12\" font-style=\"italic\" lengthAdjust=\"spacingAndGlyphs\" textLength=\"40\" x=\"105\" y=\"116.1387\">«part»</text><text fill=\"#000000\" font-family=\"sans-serif\" font-size=\"12\" lengthAdjust=\"spacingAndGlyphs\" textLength=\"96\" x=\"75\" y=\"130.1074\">vehicle: Vehicle</text><line style=\"stroke: #383838; stroke-width: 1.5;\" x1=\"73\" x2=\"177\" y1=\"137.9375\" y2=\"137.9375\"/></a><!--MD5=[f0cdf4548168e5211fb3a02bf679d63a]\n",
       "link E4 to E3--><a href=\"psysml:ef5e87d6-f969-4b16-bad6-f15ecd335219\" target=\"_top\" title=\"psysml:ef5e87d6-f969-4b16-bad6-f15ecd335219\" xlink:actuate=\"onRequest\" xlink:href=\"psysml:ef5e87d6-f969-4b16-bad6-f15ecd335219\" xlink:show=\"new\" xlink:title=\"psysml:ef5e87d6-f969-4b16-bad6-f15ecd335219\" xlink:type=\"simple\"><path d=\"M202.5512,175.6038 C203.614,175.5 204.6821,175.3944 205.7552,175.2869 C214.3394,174.4273 223.2381,173.4495 232.2475,172.3403 C250.2662,170.1219 268.7275,167.3775 286,164 C294.79,162.28 304.1,159.94 312.87,157.48 \" fill=\"none\" id=\"E4-&gt;E3\" style=\"stroke: #383838; stroke-width: 1.0; stroke-dasharray: 7.0,7.0;\"/><polygon fill=\"#383838\" points=\"317.68,156.11,307.9274,154.7364,312.8724,157.4836,310.1252,162.4286,317.68,156.11\" style=\"stroke: #383838; stroke-width: 1.0;\"/><text fill=\"#000000\" font-family=\"sans-serif\" font-size=\"13\" lengthAdjust=\"spacingAndGlyphs\" textLength=\"58\" x=\"227\" y=\"160.0669\">«import»</text></a><!--MD5=[e9be52314489bd878ff4c7144b63c9e1]\n",
       "link E5 to E3--><a href=\"psysml:144792e9-f989-4dc0-84af-44c5bd60762e\" target=\"_top\" title=\"psysml:144792e9-f989-4dc0-84af-44c5bd60762e\" xlink:actuate=\"onRequest\" xlink:href=\"psysml:144792e9-f989-4dc0-84af-44c5bd60762e\" xlink:show=\"new\" xlink:title=\"psysml:144792e9-f989-4dc0-84af-44c5bd60762e\" xlink:type=\"simple\"><path d=\"M178.13,128.07 C213.9,131.56 261.27,136.17 297.52,139.7 \" fill=\"none\" id=\"E5-&gt;E3\" style=\"stroke: #383838; stroke-width: 1.0;\"/><polygon fill=\"#FFFFFF\" points=\"317.68,141.66,298.0937,146.7959,299.4432,132.8611,317.68,141.66\" style=\"stroke: #383838; stroke-width: 1.0;\"/><ellipse cx=\"292.6131\" cy=\"144.2558\" fill=\"#383838\" rx=\"2\" ry=\"2\" style=\"stroke: #383838; stroke-width: 1.0;\"/><ellipse cx=\"293.577\" cy=\"134.3024\" fill=\"#383838\" rx=\"2\" ry=\"2\" style=\"stroke: #383838; stroke-width: 1.0;\"/></a><!--MD5=[6abb77b3469d17c0c03f4c9db345f6ad]\n",
       "@startuml\r\n",
       "left to right direction\r\n",
       "skinparam monochrome true\r\n",
       "skinparam classbackgroundcolor white\r\n",
       "skinparam shadowing false\r\n",
       "skinparam wrapWidth 300\r\n",
       "hide circle\r\n",
       "\r\n",
       "package \"AliasImport\" as E1  [[psysml:2a0424ca-0ea8-4c9d-a1b7-bd1ebfa50d2f ]]  {\r\n",
       "package \"Definitions\" as E2  [[psysml:1b261b72-bc02-4122-a178-845f71db1598 ]]  {\r\n",
       "comp def \"Vehicle\" as E3  <<(T,blue) part  def>> [[psysml:0e061c30-2d05-4525-ad81-a01ef286857e ]] {\r\n",
       "}\r\n",
       "}\r\n",
       "package \"Usages\" as E4  [[psysml:944b5b0e-65e9-4e4f-876e-9affde2d942d ]]  {\r\n",
       "comp usage \"vehicle: Vehicle \" as E5  <<(T,blue) part>> [[psysml:61c6492a-41aa-4c1c-be1c-3a26db9abbc8 ]] {\r\n",
       "}\r\n",
       "}\r\n",
       "}\r\n",
       "E4 ..> E3 [[psysml:ef5e87d6-f969-4b16-bad6-f15ecd335219 ]] : <<import>>\r\n",
       "E5 - -:|> E3 [[psysml:144792e9-f989-4dc0-84af-44c5bd60762e ]] \r\n",
       "@enduml\r\n",
       "\n",
       "PlantUML version 1.2020.13(Sat Jun 13 12:26:38 UTC 2020)\n",
       "(EPL source distribution)\n",
       "Java Runtime: OpenJDK Runtime Environment\n",
       "JVM: OpenJDK 64-Bit Server VM\n",
       "Default Encoding: UTF-8\n",
       "Language: en\n",
       "Country: null\n",
       "--></g></svg>"
      ]
     },
     "execution_count": 16,
     "metadata": {},
     "output_type": "execute_result"
    }
   ],
   "source": [
    "%viz --style=\"LR\" --view=\"Default\" \"AliasImport\""
   ]
  },
  {
   "cell_type": "code",
   "execution_count": 17,
   "id": "f5b8084c",
   "metadata": {
    "execution": {
     "iopub.execute_input": "2022-05-19T08:46:16.143919Z",
     "iopub.status.busy": "2022-05-19T08:46:16.143456Z",
     "iopub.status.idle": "2022-05-19T08:46:16.180466Z",
     "shell.execute_reply": "2022-05-19T08:46:16.180050Z"
    }
   },
   "outputs": [
    {
     "data": {
      "image/svg+xml": [
       "<?xml version=\"1.0\" encoding=\"UTF-8\" standalone=\"no\"?><svg xmlns=\"http://www.w3.org/2000/svg\" xmlns:xlink=\"http://www.w3.org/1999/xlink\" contentScriptType=\"application/ecmascript\" contentStyleType=\"text/css\" height=\"233px\" preserveAspectRatio=\"none\" style=\"width:450px;height:233px;\" version=\"1.1\" viewBox=\"0 0 450 233\" width=\"450px\" zoomAndPan=\"magnify\"><defs/><g><!--MD5=[fbc87193dbaf4d95561dea2c320d4a47]\n",
       "cluster E1--><a href=\"psysml:2a0424ca-0ea8-4c9d-a1b7-bd1ebfa50d2f\" target=\"_top\" title=\"psysml:2a0424ca-0ea8-4c9d-a1b7-bd1ebfa50d2f\" xlink:actuate=\"onRequest\" xlink:href=\"psysml:2a0424ca-0ea8-4c9d-a1b7-bd1ebfa50d2f\" xlink:show=\"new\" xlink:title=\"psysml:2a0424ca-0ea8-4c9d-a1b7-bd1ebfa50d2f\" xlink:type=\"simple\"><polygon fill=\"#FFFFFF\" points=\"16,6,97,6,104,28.2969,428,28.2969,428,221,16,221,16,6\" style=\"stroke: #000000; stroke-width: 1.5;\"/><line style=\"stroke: #000000; stroke-width: 1.5;\" x1=\"16\" x2=\"104\" y1=\"28.2969\" y2=\"28.2969\"/><text fill=\"#000000\" font-family=\"sans-serif\" font-size=\"14\" font-weight=\"bold\" lengthAdjust=\"spacingAndGlyphs\" textLength=\"75\" x=\"20\" y=\"20.9951\">AliasImport</text></a><!--MD5=[e4f7fae6ed58524ba242bb0b0d3be6b7]\n",
       "cluster E2--><a href=\"psysml:1b261b72-bc02-4122-a178-845f71db1598\" target=\"_top\" title=\"psysml:1b261b72-bc02-4122-a178-845f71db1598\" xlink:actuate=\"onRequest\" xlink:href=\"psysml:1b261b72-bc02-4122-a178-845f71db1598\" xlink:show=\"new\" xlink:title=\"psysml:1b261b72-bc02-4122-a178-845f71db1598\" xlink:type=\"simple\"><polygon fill=\"#FFFFFF\" points=\"302,87,381,87,388,109.2969,404,109.2969,404,184,302,184,302,87\" style=\"stroke: #000000; stroke-width: 1.5;\"/><line style=\"stroke: #000000; stroke-width: 1.5;\" x1=\"302\" x2=\"388\" y1=\"109.2969\" y2=\"109.2969\"/><text fill=\"#000000\" font-family=\"sans-serif\" font-size=\"14\" font-weight=\"bold\" lengthAdjust=\"spacingAndGlyphs\" textLength=\"73\" x=\"306\" y=\"101.9951\">Definitions</text></a><!--MD5=[f6df4d0ebaf0b5dfb2ced0ae5af7c670]\n",
       "cluster E4--><a href=\"psysml:944b5b0e-65e9-4e4f-876e-9affde2d942d\" target=\"_top\" title=\"psysml:944b5b0e-65e9-4e4f-876e-9affde2d942d\" xlink:actuate=\"onRequest\" xlink:href=\"psysml:944b5b0e-65e9-4e4f-876e-9affde2d942d\" xlink:show=\"new\" xlink:title=\"psysml:944b5b0e-65e9-4e4f-876e-9affde2d942d\" xlink:type=\"simple\"><polygon fill=\"#FFFFFF\" points=\"48,57,106,57,113,79.2969,202,79.2969,202,189,48,189,48,57\" style=\"stroke: #000000; stroke-width: 1.5;\"/><line style=\"stroke: #000000; stroke-width: 1.5;\" x1=\"48\" x2=\"113\" y1=\"79.2969\" y2=\"79.2969\"/><text fill=\"#000000\" font-family=\"sans-serif\" font-size=\"14\" font-weight=\"bold\" lengthAdjust=\"spacingAndGlyphs\" textLength=\"52\" x=\"52\" y=\"71.9951\">Usages</text></a><!--MD5=[09b614a08d8cba4a07c9adeb5e0fee81]\n",
       "class E3--><a href=\"psysml:0e061c30-2d05-4525-ad81-a01ef286857e\" target=\"_top\" title=\"psysml:0e061c30-2d05-4525-ad81-a01ef286857e\" xlink:actuate=\"onRequest\" xlink:href=\"psysml:0e061c30-2d05-4525-ad81-a01ef286857e\" xlink:show=\"new\" xlink:title=\"psysml:0e061c30-2d05-4525-ad81-a01ef286857e\" xlink:type=\"simple\"><rect fill=\"#FFFFFF\" height=\"45.9375\" id=\"E3\" style=\"stroke: #383838; stroke-width: 1.5;\" width=\"70\" x=\"318\" y=\"122\"/><text fill=\"#000000\" font-family=\"sans-serif\" font-size=\"12\" font-style=\"italic\" lengthAdjust=\"spacingAndGlyphs\" textLength=\"68\" x=\"319\" y=\"138.1387\">«part  def»</text><text fill=\"#000000\" font-family=\"sans-serif\" font-size=\"12\" lengthAdjust=\"spacingAndGlyphs\" textLength=\"45\" x=\"330.5\" y=\"152.1074\">Vehicle</text><line style=\"stroke: #383838; stroke-width: 1.5;\" x1=\"319\" x2=\"387\" y1=\"159.9375\" y2=\"159.9375\"/></a><!--MD5=[270fce915f116d4de14055a7c1d9a0f3]\n",
       "class E5--><a href=\"psysml:61c6492a-41aa-4c1c-be1c-3a26db9abbc8\" target=\"_top\" title=\"psysml:61c6492a-41aa-4c1c-be1c-3a26db9abbc8\" xlink:actuate=\"onRequest\" xlink:href=\"psysml:61c6492a-41aa-4c1c-be1c-3a26db9abbc8\" xlink:show=\"new\" xlink:title=\"psysml:61c6492a-41aa-4c1c-be1c-3a26db9abbc8\" xlink:type=\"simple\"><rect fill=\"#FFFFFF\" height=\"45.9375\" id=\"E5\" rx=\"10\" ry=\"10\" style=\"stroke: #383838; stroke-width: 1.5;\" width=\"106\" x=\"72\" y=\"100\"/><text fill=\"#000000\" font-family=\"sans-serif\" font-size=\"12\" font-style=\"italic\" lengthAdjust=\"spacingAndGlyphs\" textLength=\"40\" x=\"105\" y=\"116.1387\">«part»</text><text fill=\"#000000\" font-family=\"sans-serif\" font-size=\"12\" lengthAdjust=\"spacingAndGlyphs\" textLength=\"96\" x=\"75\" y=\"130.1074\">vehicle: Vehicle</text><line style=\"stroke: #383838; stroke-width: 1.5;\" x1=\"73\" x2=\"177\" y1=\"137.9375\" y2=\"137.9375\"/></a><!--MD5=[f0cdf4548168e5211fb3a02bf679d63a]\n",
       "link E4 to E3--><a href=\"psysml:ef5e87d6-f969-4b16-bad6-f15ecd335219\" target=\"_top\" title=\"psysml:ef5e87d6-f969-4b16-bad6-f15ecd335219\" xlink:actuate=\"onRequest\" xlink:href=\"psysml:ef5e87d6-f969-4b16-bad6-f15ecd335219\" xlink:show=\"new\" xlink:title=\"psysml:ef5e87d6-f969-4b16-bad6-f15ecd335219\" xlink:type=\"simple\"><path d=\"M202.5512,175.6038 C203.614,175.5 204.6821,175.3944 205.7552,175.2869 C214.3394,174.4273 223.2381,173.4495 232.2475,172.3403 C250.2662,170.1219 268.7275,167.3775 286,164 C294.79,162.28 304.1,159.94 312.87,157.48 \" fill=\"none\" id=\"E4-&gt;E3\" style=\"stroke: #383838; stroke-width: 1.0; stroke-dasharray: 7.0,7.0;\"/><polygon fill=\"#383838\" points=\"317.68,156.11,307.9274,154.7364,312.8724,157.4836,310.1252,162.4286,317.68,156.11\" style=\"stroke: #383838; stroke-width: 1.0;\"/><text fill=\"#000000\" font-family=\"sans-serif\" font-size=\"13\" lengthAdjust=\"spacingAndGlyphs\" textLength=\"58\" x=\"227\" y=\"160.0669\">«import»</text></a><!--MD5=[e9be52314489bd878ff4c7144b63c9e1]\n",
       "link E5 to E3--><a href=\"psysml:144792e9-f989-4dc0-84af-44c5bd60762e\" target=\"_top\" title=\"psysml:144792e9-f989-4dc0-84af-44c5bd60762e\" xlink:actuate=\"onRequest\" xlink:href=\"psysml:144792e9-f989-4dc0-84af-44c5bd60762e\" xlink:show=\"new\" xlink:title=\"psysml:144792e9-f989-4dc0-84af-44c5bd60762e\" xlink:type=\"simple\"><path d=\"M178.13,128.07 C213.9,131.56 261.27,136.17 297.52,139.7 \" fill=\"none\" id=\"E5-&gt;E3\" style=\"stroke: #383838; stroke-width: 1.0;\"/><polygon fill=\"#FFFFFF\" points=\"317.68,141.66,298.0937,146.7959,299.4432,132.8611,317.68,141.66\" style=\"stroke: #383838; stroke-width: 1.0;\"/><ellipse cx=\"292.6131\" cy=\"144.2558\" fill=\"#383838\" rx=\"2\" ry=\"2\" style=\"stroke: #383838; stroke-width: 1.0;\"/><ellipse cx=\"293.577\" cy=\"134.3024\" fill=\"#383838\" rx=\"2\" ry=\"2\" style=\"stroke: #383838; stroke-width: 1.0;\"/></a><!--MD5=[6abb77b3469d17c0c03f4c9db345f6ad]\n",
       "@startuml\r\n",
       "left to right direction\r\n",
       "skinparam monochrome true\r\n",
       "skinparam classbackgroundcolor white\r\n",
       "skinparam shadowing false\r\n",
       "skinparam wrapWidth 300\r\n",
       "hide circle\r\n",
       "\r\n",
       "package \"AliasImport\" as E1  [[psysml:2a0424ca-0ea8-4c9d-a1b7-bd1ebfa50d2f ]]  {\r\n",
       "package \"Definitions\" as E2  [[psysml:1b261b72-bc02-4122-a178-845f71db1598 ]]  {\r\n",
       "comp def \"Vehicle\" as E3  <<(T,blue) part  def>> [[psysml:0e061c30-2d05-4525-ad81-a01ef286857e ]] {\r\n",
       "}\r\n",
       "}\r\n",
       "package \"Usages\" as E4  [[psysml:944b5b0e-65e9-4e4f-876e-9affde2d942d ]]  {\r\n",
       "comp usage \"vehicle: Vehicle \" as E5  <<(T,blue) part>> [[psysml:61c6492a-41aa-4c1c-be1c-3a26db9abbc8 ]] {\r\n",
       "}\r\n",
       "}\r\n",
       "}\r\n",
       "E4 ..> E3 [[psysml:ef5e87d6-f969-4b16-bad6-f15ecd335219 ]] : <<import>>\r\n",
       "E5 - -:|> E3 [[psysml:144792e9-f989-4dc0-84af-44c5bd60762e ]] \r\n",
       "@enduml\r\n",
       "\n",
       "PlantUML version 1.2020.13(Sat Jun 13 12:26:38 UTC 2020)\n",
       "(EPL source distribution)\n",
       "Java Runtime: OpenJDK Runtime Environment\n",
       "JVM: OpenJDK 64-Bit Server VM\n",
       "Default Encoding: UTF-8\n",
       "Language: en\n",
       "Country: null\n",
       "--></g></svg>"
      ]
     },
     "execution_count": 17,
     "metadata": {},
     "output_type": "execute_result"
    }
   ],
   "source": [
    "%viz --style=\"LR\" --view=\"Tree\" \"AliasImport\""
   ]
  },
  {
   "cell_type": "code",
   "execution_count": 18,
   "id": "fbf72c71",
   "metadata": {
    "execution": {
     "iopub.execute_input": "2022-05-19T08:46:16.230018Z",
     "iopub.status.busy": "2022-05-19T08:46:16.229528Z",
     "iopub.status.idle": "2022-05-19T08:46:16.235978Z",
     "shell.execute_reply": "2022-05-19T08:46:16.236315Z"
    }
   },
   "outputs": [
    {
     "data": {
      "image/svg+xml": [
       "<?xml version=\"1.0\" encoding=\"UTF-8\" standalone=\"no\"?><svg xmlns=\"http://www.w3.org/2000/svg\" xmlns:xlink=\"http://www.w3.org/1999/xlink\" contentScriptType=\"application/ecmascript\" contentStyleType=\"text/css\" height=\"12px\" preserveAspectRatio=\"none\" style=\"width:12px;height:12px;\" version=\"1.1\" viewBox=\"0 0 12 12\" width=\"12px\" zoomAndPan=\"magnify\"><defs/><g><!--MD5=[19d285c9d72a204eba4e2cd117d745e8]\n",
       "@startuml\r\n",
       "left to right direction\r\n",
       "skinparam monochrome true\r\n",
       "skinparam classbackgroundcolor white\r\n",
       "skinparam shadowing false\r\n",
       "skinparam wrapWidth 300\r\n",
       "hide circle\r\n",
       "\r\n",
       "@enduml\r\n",
       "\n",
       "PlantUML version 1.2020.13(Sat Jun 13 12:26:38 UTC 2020)\n",
       "(EPL source distribution)\n",
       "Java Runtime: OpenJDK Runtime Environment\n",
       "JVM: OpenJDK 64-Bit Server VM\n",
       "Default Encoding: UTF-8\n",
       "Language: en\n",
       "Country: null\n",
       "--></g></svg>"
      ]
     },
     "execution_count": 18,
     "metadata": {},
     "output_type": "execute_result"
    }
   ],
   "source": [
    "%viz --style=\"LR\" --view=\"State\" \"AliasImport\""
   ]
  },
  {
   "cell_type": "code",
   "execution_count": 19,
   "id": "1cae7cce",
   "metadata": {
    "execution": {
     "iopub.execute_input": "2022-05-19T08:46:16.286540Z",
     "iopub.status.busy": "2022-05-19T08:46:16.285972Z",
     "iopub.status.idle": "2022-05-19T08:46:16.323132Z",
     "shell.execute_reply": "2022-05-19T08:46:16.321621Z"
    }
   },
   "outputs": [
    {
     "data": {
      "image/svg+xml": [
       "<?xml version=\"1.0\" encoding=\"UTF-8\" standalone=\"no\"?><svg xmlns=\"http://www.w3.org/2000/svg\" xmlns:xlink=\"http://www.w3.org/1999/xlink\" contentScriptType=\"application/ecmascript\" contentStyleType=\"text/css\" height=\"258px\" preserveAspectRatio=\"none\" style=\"width:456px;height:258px;\" version=\"1.1\" viewBox=\"0 0 456 258\" width=\"456px\" zoomAndPan=\"magnify\"><defs/><g><!--MD5=[fbc87193dbaf4d95561dea2c320d4a47]\n",
       "cluster E1--><a href=\"psysml:2a0424ca-0ea8-4c9d-a1b7-bd1ebfa50d2f\" target=\"_top\" title=\"psysml:2a0424ca-0ea8-4c9d-a1b7-bd1ebfa50d2f\" xlink:actuate=\"onRequest\" xlink:href=\"psysml:2a0424ca-0ea8-4c9d-a1b7-bd1ebfa50d2f\" xlink:show=\"new\" xlink:title=\"psysml:2a0424ca-0ea8-4c9d-a1b7-bd1ebfa50d2f\" xlink:type=\"simple\"><polygon fill=\"#FFFFFF\" points=\"16,6,97,6,104,28.2969,434,28.2969,434,246,16,246,16,6\" style=\"stroke: #000000; stroke-width: 1.5;\"/><line style=\"stroke: #000000; stroke-width: 1.5;\" x1=\"16\" x2=\"104\" y1=\"28.2969\" y2=\"28.2969\"/><text fill=\"#000000\" font-family=\"sans-serif\" font-size=\"14\" font-weight=\"bold\" lengthAdjust=\"spacingAndGlyphs\" textLength=\"75\" x=\"20\" y=\"20.9951\">AliasImport</text></a><!--MD5=[e4f7fae6ed58524ba242bb0b0d3be6b7]\n",
       "cluster E2--><a href=\"psysml:1b261b72-bc02-4122-a178-845f71db1598\" target=\"_top\" title=\"psysml:1b261b72-bc02-4122-a178-845f71db1598\" xlink:actuate=\"onRequest\" xlink:href=\"psysml:1b261b72-bc02-4122-a178-845f71db1598\" xlink:show=\"new\" xlink:title=\"psysml:1b261b72-bc02-4122-a178-845f71db1598\" xlink:type=\"simple\"><polygon fill=\"#FFFFFF\" points=\"303,49,382,49,389,71.2969,410,71.2969,410,222,303,222,303,49\" style=\"stroke: #000000; stroke-width: 1.5;\"/><line style=\"stroke: #000000; stroke-width: 1.5;\" x1=\"303\" x2=\"389\" y1=\"71.2969\" y2=\"71.2969\"/><text fill=\"#000000\" font-family=\"sans-serif\" font-size=\"14\" font-weight=\"bold\" lengthAdjust=\"spacingAndGlyphs\" textLength=\"73\" x=\"307\" y=\"63.9951\">Definitions</text></a><!--MD5=[de5ec2e2e8f62f467e546659f5068c88]\n",
       "cluster E5--><a href=\"psysml:944b5b0e-65e9-4e4f-876e-9affde2d942d\" target=\"_top\" title=\"psysml:944b5b0e-65e9-4e4f-876e-9affde2d942d\" xlink:actuate=\"onRequest\" xlink:href=\"psysml:944b5b0e-65e9-4e4f-876e-9affde2d942d\" xlink:show=\"new\" xlink:title=\"psysml:944b5b0e-65e9-4e4f-876e-9affde2d942d\" xlink:type=\"simple\"><polygon fill=\"#FFFFFF\" points=\"48,80,106,80,113,102.2969,203,102.2969,203,206,48,206,48,80\" style=\"stroke: #000000; stroke-width: 1.5;\"/><line style=\"stroke: #000000; stroke-width: 1.5;\" x1=\"48\" x2=\"113\" y1=\"102.2969\" y2=\"102.2969\"/><text fill=\"#000000\" font-family=\"sans-serif\" font-size=\"14\" font-weight=\"bold\" lengthAdjust=\"spacingAndGlyphs\" textLength=\"52\" x=\"52\" y=\"94.9951\">Usages</text></a><g id=\"E1.E2.E3\"><a href=\"psysml:0e061c30-2d05-4525-ad81-a01ef286857e\" target=\"_top\" title=\"psysml:0e061c30-2d05-4525-ad81-a01ef286857e\" xlink:actuate=\"onRequest\" xlink:href=\"psysml:0e061c30-2d05-4525-ad81-a01ef286857e\" xlink:show=\"new\" xlink:title=\"psysml:0e061c30-2d05-4525-ad81-a01ef286857e\" xlink:type=\"simple\"><rect fill=\"#FFFFFF\" height=\"42.9375\" id=\"E3\" style=\"stroke: #383838; stroke-width: 1.5;\" width=\"75\" x=\"319\" y=\"84.5\"/><rect fill=\"#F8F8F8\" height=\"37.9375\" style=\"stroke: #383838; stroke-width: 1.5;\" width=\"75\" x=\"319\" y=\"84.5\"/><text fill=\"#000000\" font-family=\"sans-serif\" font-size=\"12\" font-style=\"italic\" lengthAdjust=\"spacingAndGlyphs\" textLength=\"68\" x=\"322.5\" y=\"100.6387\">«part  def»</text><text fill=\"#000000\" font-family=\"sans-serif\" font-size=\"12\" lengthAdjust=\"spacingAndGlyphs\" textLength=\"45\" x=\"334\" y=\"114.6074\">Vehicle</text></a></g><g id=\"E1.E2.E4\"><a href=\"psysml:0e061c30-2d05-4525-ad81-a01ef286857e\" target=\"_top\" title=\"psysml:0e061c30-2d05-4525-ad81-a01ef286857e\" xlink:actuate=\"onRequest\" xlink:href=\"psysml:0e061c30-2d05-4525-ad81-a01ef286857e\" xlink:show=\"new\" xlink:title=\"psysml:0e061c30-2d05-4525-ad81-a01ef286857e\" xlink:type=\"simple\"><rect fill=\"#FFFFFF\" height=\"42.9375\" id=\"E4\" style=\"stroke: #383838; stroke-width: 1.5;\" width=\"75\" x=\"319\" y=\"162.5\"/><rect fill=\"#F8F8F8\" height=\"37.9375\" style=\"stroke: #383838; stroke-width: 1.5;\" width=\"75\" x=\"319\" y=\"162.5\"/><text fill=\"#000000\" font-family=\"sans-serif\" font-size=\"12\" font-style=\"italic\" lengthAdjust=\"spacingAndGlyphs\" textLength=\"68\" x=\"322.5\" y=\"178.6387\">«part  def»</text><text fill=\"#000000\" font-family=\"sans-serif\" font-size=\"12\" lengthAdjust=\"spacingAndGlyphs\" textLength=\"45\" x=\"334\" y=\"192.6074\">Vehicle</text></a></g><g id=\"E1.E5.E6\"><a href=\"psysml:61c6492a-41aa-4c1c-be1c-3a26db9abbc8\" target=\"_top\" title=\"psysml:61c6492a-41aa-4c1c-be1c-3a26db9abbc8\" xlink:actuate=\"onRequest\" xlink:href=\"psysml:61c6492a-41aa-4c1c-be1c-3a26db9abbc8\" xlink:show=\"new\" xlink:title=\"psysml:61c6492a-41aa-4c1c-be1c-3a26db9abbc8\" xlink:type=\"simple\"><rect fill=\"#FFFFFF\" height=\"40\" id=\"E6\" rx=\"10\" ry=\"10\" style=\"stroke: #383838; stroke-width: 1.5;\" width=\"107\" x=\"72\" y=\"123\"/><rect fill=\"#F8F8F8\" height=\"23.9688\" rx=\"10\" ry=\"10\" style=\"stroke: #F8F8F8; stroke-width: 1.5;\" width=\"107\" x=\"72\" y=\"123\"/><rect fill=\"#F8F8F8\" height=\"10\" style=\"stroke: #F8F8F8; stroke-width: 1.5;\" width=\"107\" x=\"72\" y=\"136.9688\"/><rect fill=\"none\" height=\"40\" id=\"E6\" rx=\"10\" ry=\"10\" style=\"stroke: #383838; stroke-width: 1.5;\" width=\"107\" x=\"72\" y=\"123\"/><text fill=\"#000000\" font-family=\"sans-serif\" font-size=\"12\" lengthAdjust=\"spacingAndGlyphs\" textLength=\"96\" x=\"77.5\" y=\"139.1387\">vehicle: Vehicle</text></a></g><!--MD5=[1c62de2aa5b76f0fb657ff8443a1a700]\n",
       "link E5 to E4--><a href=\"psysml:ef5e87d6-f969-4b16-bad6-f15ecd335219\" target=\"_top\" title=\"psysml:ef5e87d6-f969-4b16-bad6-f15ecd335219\" xlink:actuate=\"onRequest\" xlink:href=\"psysml:ef5e87d6-f969-4b16-bad6-f15ecd335219\" xlink:show=\"new\" xlink:title=\"psysml:ef5e87d6-f969-4b16-bad6-f15ecd335219\" xlink:type=\"simple\"><path d=\"M203.0355,193.3194 C203.6391,193.2826 204.2442,193.2456 204.8508,193.2085 C207.2773,193.0601 209.7279,192.9103 212.1977,192.7593 C217.1372,192.4574 222.1533,192.1507 227.2056,191.8419 C237.3104,191.2241 247.5607,190.5974 257.6355,189.9814 C277.785,188.7494 297.2325,187.56 313.41,186.57 \" fill=\"none\" id=\"E5-&gt;E4\" style=\"stroke: #383838; stroke-width: 1.0; stroke-dasharray: 7.0,7.0;\"/><polygon fill=\"#383838\" points=\"318.74,186.25,309.5062,182.8241,313.7499,186.5646,310.0095,190.8083,318.74,186.25\" style=\"stroke: #383838; stroke-width: 1.0;\"/><text fill=\"#000000\" font-family=\"sans-serif\" font-size=\"13\" lengthAdjust=\"spacingAndGlyphs\" textLength=\"58\" x=\"228\" y=\"185.0669\">«import»</text></a><!--MD5=[f667431f98296947986a1a7595a31603]\n",
       "link E6 to E4--><a href=\"psysml:144792e9-f989-4dc0-84af-44c5bd60762e\" target=\"_top\" title=\"psysml:144792e9-f989-4dc0-84af-44c5bd60762e\" xlink:actuate=\"onRequest\" xlink:href=\"psysml:144792e9-f989-4dc0-84af-44c5bd60762e\" xlink:show=\"new\" xlink:title=\"psysml:144792e9-f989-4dc0-84af-44c5bd60762e\" xlink:type=\"simple\"><path d=\"M179.25,147.83 C210.73,151.23 251.39,156.52 287,164 C291.07,164.86 295.26,165.83 299.45,166.88 \" fill=\"none\" id=\"E6-&gt;E4\" style=\"stroke: #383838; stroke-width: 1.0;\"/><polygon fill=\"#FFFFFF\" points=\"318.79,172.15,298.617,173.8965,302.3057,160.3912,318.79,172.15\" style=\"stroke: #383838; stroke-width: 1.0;\"/><ellipse cx=\"293.6454\" cy=\"170.4654\" fill=\"#383838\" rx=\"2\" ry=\"2\" style=\"stroke: #383838; stroke-width: 1.0;\"/><ellipse cx=\"296.2802\" cy=\"160.8187\" fill=\"#383838\" rx=\"2\" ry=\"2\" style=\"stroke: #383838; stroke-width: 1.0;\"/></a><!--MD5=[00470503ce79bba0aad2c2f5d512bb30]\n",
       "@startuml\r\n",
       "skinparam ranksep 10\r\n",
       "skinparam rectangle {\r\n",
       " backgroundColor<<block>> LightGreen\r\n",
       "}\r\n",
       "left to right direction\r\n",
       "skinparam monochrome true\r\n",
       "skinparam classbackgroundcolor white\r\n",
       "skinparam shadowing false\r\n",
       "skinparam wrapWidth 300\r\n",
       "hide circle\r\n",
       "\r\n",
       "package \"AliasImport\" as E1  [[psysml:2a0424ca-0ea8-4c9d-a1b7-bd1ebfa50d2f ]]  {\r\n",
       "package \"Definitions\" as E2  [[psysml:1b261b72-bc02-4122-a178-845f71db1598 ]]  {\r\n",
       "rec def \"Vehicle\" as E3  <<(T,blue) part  def>> [[psysml:0e061c30-2d05-4525-ad81-a01ef286857e ]] {\r\n",
       "}\r\n",
       "rec def \"Vehicle\" as E4  <<(T,blue) part  def>> [[psysml:0e061c30-2d05-4525-ad81-a01ef286857e ]] {\r\n",
       "}\r\n",
       "}\r\n",
       "package \"Usages\" as E5  [[psysml:944b5b0e-65e9-4e4f-876e-9affde2d942d ]]  {\r\n",
       "rec usage \"vehicle: Vehicle\" as E6  [[psysml:61c6492a-41aa-4c1c-be1c-3a26db9abbc8 ]] {\r\n",
       "}\r\n",
       "}\r\n",
       "}\r\n",
       "E5 ..> E4 [[psysml:ef5e87d6-f969-4b16-bad6-f15ecd335219 ]] : <<import>>\r\n",
       "E6 - -:|> E4 [[psysml:144792e9-f989-4dc0-84af-44c5bd60762e ]] \r\n",
       "@enduml\r\n",
       "\n",
       "PlantUML version 1.2020.13(Sat Jun 13 12:26:38 UTC 2020)\n",
       "(EPL source distribution)\n",
       "Java Runtime: OpenJDK Runtime Environment\n",
       "JVM: OpenJDK 64-Bit Server VM\n",
       "Default Encoding: UTF-8\n",
       "Language: en\n",
       "Country: null\n",
       "--></g></svg>"
      ]
     },
     "execution_count": 19,
     "metadata": {},
     "output_type": "execute_result"
    }
   ],
   "source": [
    "%viz --style=\"LR\" --view=\"Interconnection\" \"AliasImport\""
   ]
  },
  {
   "cell_type": "code",
   "execution_count": 20,
   "id": "1d2bfc20",
   "metadata": {
    "execution": {
     "iopub.execute_input": "2022-05-19T08:46:16.373024Z",
     "iopub.status.busy": "2022-05-19T08:46:16.372496Z",
     "iopub.status.idle": "2022-05-19T08:46:16.379533Z",
     "shell.execute_reply": "2022-05-19T08:46:16.379864Z"
    }
   },
   "outputs": [
    {
     "data": {
      "image/svg+xml": [
       "<?xml version=\"1.0\" encoding=\"UTF-8\" standalone=\"no\"?><svg xmlns=\"http://www.w3.org/2000/svg\" xmlns:xlink=\"http://www.w3.org/1999/xlink\" contentScriptType=\"application/ecmascript\" contentStyleType=\"text/css\" height=\"12px\" preserveAspectRatio=\"none\" style=\"width:12px;height:12px;\" version=\"1.1\" viewBox=\"0 0 12 12\" width=\"12px\" zoomAndPan=\"magnify\"><defs/><g><!--MD5=[7aeb398939421629f6affaa4a1a7b125]\n",
       "@startuml\r\n",
       "skinparam ranksep 8\r\n",
       "left to right direction\r\n",
       "skinparam monochrome true\r\n",
       "skinparam classbackgroundcolor white\r\n",
       "skinparam shadowing false\r\n",
       "skinparam wrapWidth 300\r\n",
       "hide circle\r\n",
       "\r\n",
       "@enduml\r\n",
       "\n",
       "PlantUML version 1.2020.13(Sat Jun 13 12:26:38 UTC 2020)\n",
       "(EPL source distribution)\n",
       "Java Runtime: OpenJDK Runtime Environment\n",
       "JVM: OpenJDK 64-Bit Server VM\n",
       "Default Encoding: UTF-8\n",
       "Language: en\n",
       "Country: null\n",
       "--></g></svg>"
      ]
     },
     "execution_count": 20,
     "metadata": {},
     "output_type": "execute_result"
    }
   ],
   "source": [
    "%viz --style=\"LR\" --view=\"Action\" \"AliasImport\""
   ]
  },
  {
   "cell_type": "code",
   "execution_count": 21,
   "id": "8315371a",
   "metadata": {
    "execution": {
     "iopub.execute_input": "2022-05-19T08:46:16.430515Z",
     "iopub.status.busy": "2022-05-19T08:46:16.430025Z",
     "iopub.status.idle": "2022-05-19T08:46:16.436692Z",
     "shell.execute_reply": "2022-05-19T08:46:16.437031Z"
    }
   },
   "outputs": [
    {
     "data": {
      "image/svg+xml": [
       "<?xml version=\"1.0\" encoding=\"UTF-8\" standalone=\"no\"?><svg xmlns=\"http://www.w3.org/2000/svg\" xmlns:xlink=\"http://www.w3.org/1999/xlink\" contentScriptType=\"application/ecmascript\" contentStyleType=\"text/css\" height=\"12px\" preserveAspectRatio=\"none\" style=\"width:12px;height:12px;\" version=\"1.1\" viewBox=\"0 0 12 12\" width=\"12px\" zoomAndPan=\"magnify\"><defs/><g><!--MD5=[238c11ea2002f03115ad6b49a457d50e]\n",
       "@startuml\r\n",
       "skinparam roundcorner 20\r\n",
       "skinparam BoxPadding 20\r\n",
       "skinparam SequenceBoxBackgroundColor #white\r\n",
       "skinparam style strictuml\r\n",
       "skinparam maxMessageSize 100\r\n",
       "left to right direction\r\n",
       "skinparam monochrome true\r\n",
       "skinparam classbackgroundcolor white\r\n",
       "skinparam shadowing false\r\n",
       "skinparam wrapWidth 300\r\n",
       "hide circle\r\n",
       "\r\n",
       "@enduml\r\n",
       "\n",
       "PlantUML version 1.2020.13(Sat Jun 13 12:26:38 UTC 2020)\n",
       "(EPL source distribution)\n",
       "Java Runtime: OpenJDK Runtime Environment\n",
       "JVM: OpenJDK 64-Bit Server VM\n",
       "Default Encoding: UTF-8\n",
       "Language: en\n",
       "Country: null\n",
       "--></g></svg>"
      ]
     },
     "execution_count": 21,
     "metadata": {},
     "output_type": "execute_result"
    }
   ],
   "source": [
    "%viz --style=\"LR\" --view=\"Sequence\" \"AliasImport\""
   ]
  },
  {
   "cell_type": "code",
   "execution_count": 22,
   "id": "4862baa3",
   "metadata": {
    "execution": {
     "iopub.execute_input": "2022-05-19T08:46:16.487351Z",
     "iopub.status.busy": "2022-05-19T08:46:16.486853Z",
     "iopub.status.idle": "2022-05-19T08:46:16.519928Z",
     "shell.execute_reply": "2022-05-19T08:46:16.519488Z"
    }
   },
   "outputs": [
    {
     "data": {
      "image/svg+xml": [
       "<?xml version=\"1.0\" encoding=\"UTF-8\" standalone=\"no\"?><svg xmlns=\"http://www.w3.org/2000/svg\" xmlns:xlink=\"http://www.w3.org/1999/xlink\" contentScriptType=\"application/ecmascript\" contentStyleType=\"text/css\" height=\"233px\" preserveAspectRatio=\"none\" style=\"width:450px;height:233px;\" version=\"1.1\" viewBox=\"0 0 450 233\" width=\"450px\" zoomAndPan=\"magnify\"><defs/><g><!--MD5=[fbc87193dbaf4d95561dea2c320d4a47]\n",
       "cluster E1--><a href=\"psysml:2a0424ca-0ea8-4c9d-a1b7-bd1ebfa50d2f\" target=\"_top\" title=\"psysml:2a0424ca-0ea8-4c9d-a1b7-bd1ebfa50d2f\" xlink:actuate=\"onRequest\" xlink:href=\"psysml:2a0424ca-0ea8-4c9d-a1b7-bd1ebfa50d2f\" xlink:show=\"new\" xlink:title=\"psysml:2a0424ca-0ea8-4c9d-a1b7-bd1ebfa50d2f\" xlink:type=\"simple\"><polygon fill=\"#FFFFFF\" points=\"16,6,97,6,104,28.2969,428,28.2969,428,221,16,221,16,6\" style=\"stroke: #000000; stroke-width: 1.5;\"/><line style=\"stroke: #000000; stroke-width: 1.5;\" x1=\"16\" x2=\"104\" y1=\"28.2969\" y2=\"28.2969\"/><text fill=\"#000000\" font-family=\"sans-serif\" font-size=\"14\" font-weight=\"bold\" lengthAdjust=\"spacingAndGlyphs\" textLength=\"75\" x=\"20\" y=\"20.9951\">AliasImport</text></a><!--MD5=[e4f7fae6ed58524ba242bb0b0d3be6b7]\n",
       "cluster E2--><a href=\"psysml:1b261b72-bc02-4122-a178-845f71db1598\" target=\"_top\" title=\"psysml:1b261b72-bc02-4122-a178-845f71db1598\" xlink:actuate=\"onRequest\" xlink:href=\"psysml:1b261b72-bc02-4122-a178-845f71db1598\" xlink:show=\"new\" xlink:title=\"psysml:1b261b72-bc02-4122-a178-845f71db1598\" xlink:type=\"simple\"><polygon fill=\"#FFFFFF\" points=\"302,87,381,87,388,109.2969,404,109.2969,404,184,302,184,302,87\" style=\"stroke: #000000; stroke-width: 1.5;\"/><line style=\"stroke: #000000; stroke-width: 1.5;\" x1=\"302\" x2=\"388\" y1=\"109.2969\" y2=\"109.2969\"/><text fill=\"#000000\" font-family=\"sans-serif\" font-size=\"14\" font-weight=\"bold\" lengthAdjust=\"spacingAndGlyphs\" textLength=\"73\" x=\"306\" y=\"101.9951\">Definitions</text></a><!--MD5=[f6df4d0ebaf0b5dfb2ced0ae5af7c670]\n",
       "cluster E4--><a href=\"psysml:944b5b0e-65e9-4e4f-876e-9affde2d942d\" target=\"_top\" title=\"psysml:944b5b0e-65e9-4e4f-876e-9affde2d942d\" xlink:actuate=\"onRequest\" xlink:href=\"psysml:944b5b0e-65e9-4e4f-876e-9affde2d942d\" xlink:show=\"new\" xlink:title=\"psysml:944b5b0e-65e9-4e4f-876e-9affde2d942d\" xlink:type=\"simple\"><polygon fill=\"#FFFFFF\" points=\"48,57,106,57,113,79.2969,202,79.2969,202,189,48,189,48,57\" style=\"stroke: #000000; stroke-width: 1.5;\"/><line style=\"stroke: #000000; stroke-width: 1.5;\" x1=\"48\" x2=\"113\" y1=\"79.2969\" y2=\"79.2969\"/><text fill=\"#000000\" font-family=\"sans-serif\" font-size=\"14\" font-weight=\"bold\" lengthAdjust=\"spacingAndGlyphs\" textLength=\"52\" x=\"52\" y=\"71.9951\">Usages</text></a><!--MD5=[09b614a08d8cba4a07c9adeb5e0fee81]\n",
       "class E3--><a href=\"psysml:0e061c30-2d05-4525-ad81-a01ef286857e\" target=\"_top\" title=\"psysml:0e061c30-2d05-4525-ad81-a01ef286857e\" xlink:actuate=\"onRequest\" xlink:href=\"psysml:0e061c30-2d05-4525-ad81-a01ef286857e\" xlink:show=\"new\" xlink:title=\"psysml:0e061c30-2d05-4525-ad81-a01ef286857e\" xlink:type=\"simple\"><rect fill=\"#FFFFFF\" height=\"45.9375\" id=\"E3\" style=\"stroke: #383838; stroke-width: 1.5;\" width=\"70\" x=\"318\" y=\"122\"/><text fill=\"#000000\" font-family=\"sans-serif\" font-size=\"12\" font-style=\"italic\" lengthAdjust=\"spacingAndGlyphs\" textLength=\"68\" x=\"319\" y=\"138.1387\">«part  def»</text><text fill=\"#000000\" font-family=\"sans-serif\" font-size=\"12\" lengthAdjust=\"spacingAndGlyphs\" textLength=\"45\" x=\"330.5\" y=\"152.1074\">Vehicle</text><line style=\"stroke: #383838; stroke-width: 1.5;\" x1=\"319\" x2=\"387\" y1=\"159.9375\" y2=\"159.9375\"/></a><!--MD5=[270fce915f116d4de14055a7c1d9a0f3]\n",
       "class E5--><a href=\"psysml:61c6492a-41aa-4c1c-be1c-3a26db9abbc8\" target=\"_top\" title=\"psysml:61c6492a-41aa-4c1c-be1c-3a26db9abbc8\" xlink:actuate=\"onRequest\" xlink:href=\"psysml:61c6492a-41aa-4c1c-be1c-3a26db9abbc8\" xlink:show=\"new\" xlink:title=\"psysml:61c6492a-41aa-4c1c-be1c-3a26db9abbc8\" xlink:type=\"simple\"><rect fill=\"#FFFFFF\" height=\"45.9375\" id=\"E5\" rx=\"10\" ry=\"10\" style=\"stroke: #383838; stroke-width: 1.5;\" width=\"106\" x=\"72\" y=\"100\"/><text fill=\"#000000\" font-family=\"sans-serif\" font-size=\"12\" font-style=\"italic\" lengthAdjust=\"spacingAndGlyphs\" textLength=\"40\" x=\"105\" y=\"116.1387\">«part»</text><text fill=\"#000000\" font-family=\"sans-serif\" font-size=\"12\" lengthAdjust=\"spacingAndGlyphs\" textLength=\"96\" x=\"75\" y=\"130.1074\">vehicle: Vehicle</text><line style=\"stroke: #383838; stroke-width: 1.5;\" x1=\"73\" x2=\"177\" y1=\"137.9375\" y2=\"137.9375\"/></a><!--MD5=[f0cdf4548168e5211fb3a02bf679d63a]\n",
       "link E4 to E3--><a href=\"psysml:ef5e87d6-f969-4b16-bad6-f15ecd335219\" target=\"_top\" title=\"psysml:ef5e87d6-f969-4b16-bad6-f15ecd335219\" xlink:actuate=\"onRequest\" xlink:href=\"psysml:ef5e87d6-f969-4b16-bad6-f15ecd335219\" xlink:show=\"new\" xlink:title=\"psysml:ef5e87d6-f969-4b16-bad6-f15ecd335219\" xlink:type=\"simple\"><path d=\"M202.5512,175.6038 C203.614,175.5 204.6821,175.3944 205.7552,175.2869 C214.3394,174.4273 223.2381,173.4495 232.2475,172.3403 C250.2662,170.1219 268.7275,167.3775 286,164 C294.79,162.28 304.1,159.94 312.87,157.48 \" fill=\"none\" id=\"E4-&gt;E3\" style=\"stroke: #383838; stroke-width: 1.0; stroke-dasharray: 7.0,7.0;\"/><polygon fill=\"#383838\" points=\"317.68,156.11,307.9274,154.7364,312.8724,157.4836,310.1252,162.4286,317.68,156.11\" style=\"stroke: #383838; stroke-width: 1.0;\"/><text fill=\"#000000\" font-family=\"sans-serif\" font-size=\"13\" lengthAdjust=\"spacingAndGlyphs\" textLength=\"58\" x=\"227\" y=\"160.0669\">«import»</text></a><!--MD5=[e9be52314489bd878ff4c7144b63c9e1]\n",
       "link E5 to E3--><a href=\"psysml:144792e9-f989-4dc0-84af-44c5bd60762e\" target=\"_top\" title=\"psysml:144792e9-f989-4dc0-84af-44c5bd60762e\" xlink:actuate=\"onRequest\" xlink:href=\"psysml:144792e9-f989-4dc0-84af-44c5bd60762e\" xlink:show=\"new\" xlink:title=\"psysml:144792e9-f989-4dc0-84af-44c5bd60762e\" xlink:type=\"simple\"><path d=\"M178.13,128.07 C213.9,131.56 261.27,136.17 297.52,139.7 \" fill=\"none\" id=\"E5-&gt;E3\" style=\"stroke: #383838; stroke-width: 1.0;\"/><polygon fill=\"#FFFFFF\" points=\"317.68,141.66,298.0937,146.7959,299.4432,132.8611,317.68,141.66\" style=\"stroke: #383838; stroke-width: 1.0;\"/><ellipse cx=\"292.6131\" cy=\"144.2558\" fill=\"#383838\" rx=\"2\" ry=\"2\" style=\"stroke: #383838; stroke-width: 1.0;\"/><ellipse cx=\"293.577\" cy=\"134.3024\" fill=\"#383838\" rx=\"2\" ry=\"2\" style=\"stroke: #383838; stroke-width: 1.0;\"/></a><!--MD5=[6abb77b3469d17c0c03f4c9db345f6ad]\n",
       "@startuml\r\n",
       "left to right direction\r\n",
       "skinparam monochrome true\r\n",
       "skinparam classbackgroundcolor white\r\n",
       "skinparam shadowing false\r\n",
       "skinparam wrapWidth 300\r\n",
       "hide circle\r\n",
       "\r\n",
       "package \"AliasImport\" as E1  [[psysml:2a0424ca-0ea8-4c9d-a1b7-bd1ebfa50d2f ]]  {\r\n",
       "package \"Definitions\" as E2  [[psysml:1b261b72-bc02-4122-a178-845f71db1598 ]]  {\r\n",
       "comp def \"Vehicle\" as E3  <<(T,blue) part  def>> [[psysml:0e061c30-2d05-4525-ad81-a01ef286857e ]] {\r\n",
       "}\r\n",
       "}\r\n",
       "package \"Usages\" as E4  [[psysml:944b5b0e-65e9-4e4f-876e-9affde2d942d ]]  {\r\n",
       "comp usage \"vehicle: Vehicle \" as E5  <<(T,blue) part>> [[psysml:61c6492a-41aa-4c1c-be1c-3a26db9abbc8 ]] {\r\n",
       "}\r\n",
       "}\r\n",
       "}\r\n",
       "E4 ..> E3 [[psysml:ef5e87d6-f969-4b16-bad6-f15ecd335219 ]] : <<import>>\r\n",
       "E5 - -:|> E3 [[psysml:144792e9-f989-4dc0-84af-44c5bd60762e ]] \r\n",
       "@enduml\r\n",
       "\n",
       "PlantUML version 1.2020.13(Sat Jun 13 12:26:38 UTC 2020)\n",
       "(EPL source distribution)\n",
       "Java Runtime: OpenJDK Runtime Environment\n",
       "JVM: OpenJDK 64-Bit Server VM\n",
       "Default Encoding: UTF-8\n",
       "Language: en\n",
       "Country: null\n",
       "--></g></svg>"
      ]
     },
     "execution_count": 22,
     "metadata": {},
     "output_type": "execute_result"
    }
   ],
   "source": [
    "%viz --style=\"LR\" --view=\"MIXED\" \"AliasImport\""
   ]
  },
  {
   "cell_type": "code",
   "execution_count": 23,
   "id": "62cf329a",
   "metadata": {
    "execution": {
     "iopub.execute_input": "2022-05-19T08:46:16.569800Z",
     "iopub.status.busy": "2022-05-19T08:46:16.569307Z",
     "iopub.status.idle": "2022-05-19T08:46:16.602656Z",
     "shell.execute_reply": "2022-05-19T08:46:16.602994Z"
    }
   },
   "outputs": [
    {
     "data": {
      "image/svg+xml": [
       "<?xml version=\"1.0\" encoding=\"UTF-8\" standalone=\"no\"?><svg xmlns=\"http://www.w3.org/2000/svg\" xmlns:xlink=\"http://www.w3.org/1999/xlink\" contentScriptType=\"application/ecmascript\" contentStyleType=\"text/css\" height=\"360px\" preserveAspectRatio=\"none\" style=\"width:275px;height:360px;\" version=\"1.1\" viewBox=\"0 0 275 360\" width=\"275px\" zoomAndPan=\"magnify\"><defs><filter height=\"300%\" id=\"f1o1plztn01zrs\" width=\"300%\" x=\"-1\" y=\"-1\"><feGaussianBlur result=\"blurOut\" stdDeviation=\"2.0\"/><feColorMatrix in=\"blurOut\" result=\"blurOut2\" type=\"matrix\" values=\"0 0 0 0 0 0 0 0 0 0 0 0 0 0 0 0 0 0 .4 0\"/><feOffset dx=\"4.0\" dy=\"4.0\" in=\"blurOut2\" result=\"blurOut3\"/><feBlend in=\"SourceGraphic\" in2=\"blurOut3\" mode=\"normal\"/></filter></defs><g><!--MD5=[fbc87193dbaf4d95561dea2c320d4a47]\n",
       "cluster E1--><a href=\"psysml:2a0424ca-0ea8-4c9d-a1b7-bd1ebfa50d2f\" target=\"_top\" title=\"psysml:2a0424ca-0ea8-4c9d-a1b7-bd1ebfa50d2f\" xlink:actuate=\"onRequest\" xlink:href=\"psysml:2a0424ca-0ea8-4c9d-a1b7-bd1ebfa50d2f\" xlink:show=\"new\" xlink:title=\"psysml:2a0424ca-0ea8-4c9d-a1b7-bd1ebfa50d2f\" xlink:type=\"simple\"><polygon fill=\"#FFFFFF\" filter=\"url(#f1o1plztn01zrs)\" points=\"16,6,97,6,104,28.2969,253,28.2969,253,348,16,348,16,6\" style=\"stroke: #000000; stroke-width: 1.5;\"/><line style=\"stroke: #000000; stroke-width: 1.5;\" x1=\"16\" x2=\"104\" y1=\"28.2969\" y2=\"28.2969\"/><text fill=\"#000000\" font-family=\"sans-serif\" font-size=\"14\" font-weight=\"bold\" lengthAdjust=\"spacingAndGlyphs\" textLength=\"75\" x=\"20\" y=\"20.9951\">AliasImport</text></a><!--MD5=[e4f7fae6ed58524ba242bb0b0d3be6b7]\n",
       "cluster E2--><a href=\"psysml:1b261b72-bc02-4122-a178-845f71db1598\" target=\"_top\" title=\"psysml:1b261b72-bc02-4122-a178-845f71db1598\" xlink:actuate=\"onRequest\" xlink:href=\"psysml:1b261b72-bc02-4122-a178-845f71db1598\" xlink:show=\"new\" xlink:title=\"psysml:1b261b72-bc02-4122-a178-845f71db1598\" xlink:type=\"simple\"><polygon fill=\"#FFFFFF\" filter=\"url(#f1o1plztn01zrs)\" points=\"65,227,144,227,151,249.2969,167,249.2969,167,324,65,324,65,227\" style=\"stroke: #000000; stroke-width: 1.5;\"/><line style=\"stroke: #000000; stroke-width: 1.5;\" x1=\"65\" x2=\"151\" y1=\"249.2969\" y2=\"249.2969\"/><text fill=\"#000000\" font-family=\"sans-serif\" font-size=\"14\" font-weight=\"bold\" lengthAdjust=\"spacingAndGlyphs\" textLength=\"73\" x=\"69\" y=\"241.9951\">Definitions</text></a><!--MD5=[f6df4d0ebaf0b5dfb2ced0ae5af7c670]\n",
       "cluster E4--><a href=\"psysml:944b5b0e-65e9-4e4f-876e-9affde2d942d\" target=\"_top\" title=\"psysml:944b5b0e-65e9-4e4f-876e-9affde2d942d\" xlink:actuate=\"onRequest\" xlink:href=\"psysml:944b5b0e-65e9-4e4f-876e-9affde2d942d\" xlink:show=\"new\" xlink:title=\"psysml:944b5b0e-65e9-4e4f-876e-9affde2d942d\" xlink:type=\"simple\"><polygon fill=\"#FFFFFF\" filter=\"url(#f1o1plztn01zrs)\" points=\"48,57,106,57,113,79.2969,221,79.2969,221,170,48,170,48,57\" style=\"stroke: #000000; stroke-width: 1.5;\"/><line style=\"stroke: #000000; stroke-width: 1.5;\" x1=\"48\" x2=\"113\" y1=\"79.2969\" y2=\"79.2969\"/><text fill=\"#000000\" font-family=\"sans-serif\" font-size=\"14\" font-weight=\"bold\" lengthAdjust=\"spacingAndGlyphs\" textLength=\"52\" x=\"52\" y=\"71.9951\">Usages</text></a><!--MD5=[09b614a08d8cba4a07c9adeb5e0fee81]\n",
       "class E3--><a href=\"psysml:0e061c30-2d05-4525-ad81-a01ef286857e\" target=\"_top\" title=\"psysml:0e061c30-2d05-4525-ad81-a01ef286857e\" xlink:actuate=\"onRequest\" xlink:href=\"psysml:0e061c30-2d05-4525-ad81-a01ef286857e\" xlink:show=\"new\" xlink:title=\"psysml:0e061c30-2d05-4525-ad81-a01ef286857e\" xlink:type=\"simple\"><rect fill=\"#FEFECE\" filter=\"url(#f1o1plztn01zrs)\" height=\"45.9375\" id=\"E3\" style=\"stroke: #A80036; stroke-width: 1.5;\" width=\"70\" x=\"81\" y=\"262\"/><text fill=\"#000000\" font-family=\"sans-serif\" font-size=\"12\" font-style=\"italic\" lengthAdjust=\"spacingAndGlyphs\" textLength=\"68\" x=\"82\" y=\"278.1387\">«part  def»</text><text fill=\"#000000\" font-family=\"sans-serif\" font-size=\"12\" lengthAdjust=\"spacingAndGlyphs\" textLength=\"45\" x=\"93.5\" y=\"292.1074\">Vehicle</text><line style=\"stroke: #A80036; stroke-width: 1.5;\" x1=\"82\" x2=\"150\" y1=\"299.9375\" y2=\"299.9375\"/></a><!--MD5=[270fce915f116d4de14055a7c1d9a0f3]\n",
       "class E5--><a href=\"psysml:61c6492a-41aa-4c1c-be1c-3a26db9abbc8\" target=\"_top\" title=\"psysml:61c6492a-41aa-4c1c-be1c-3a26db9abbc8\" xlink:actuate=\"onRequest\" xlink:href=\"psysml:61c6492a-41aa-4c1c-be1c-3a26db9abbc8\" xlink:show=\"new\" xlink:title=\"psysml:61c6492a-41aa-4c1c-be1c-3a26db9abbc8\" xlink:type=\"simple\"><rect fill=\"#FEFECE\" filter=\"url(#f1o1plztn01zrs)\" height=\"45.9375\" id=\"E5\" rx=\"10\" ry=\"10\" style=\"stroke: #A80036; stroke-width: 1.5;\" width=\"106\" x=\"91\" y=\"100\"/><text fill=\"#000000\" font-family=\"sans-serif\" font-size=\"12\" font-style=\"italic\" lengthAdjust=\"spacingAndGlyphs\" textLength=\"40\" x=\"124\" y=\"116.1387\">«part»</text><text fill=\"#000000\" font-family=\"sans-serif\" font-size=\"12\" lengthAdjust=\"spacingAndGlyphs\" textLength=\"96\" x=\"94\" y=\"130.1074\">vehicle: Vehicle</text><line style=\"stroke: #A80036; stroke-width: 1.5;\" x1=\"92\" x2=\"196\" y1=\"137.9375\" y2=\"137.9375\"/></a><!--MD5=[f0cdf4548168e5211fb3a02bf679d63a]\n",
       "link E4 to E3--><a href=\"psysml:ef5e87d6-f969-4b16-bad6-f15ecd335219\" target=\"_top\" title=\"psysml:ef5e87d6-f969-4b16-bad6-f15ecd335219\" xlink:actuate=\"onRequest\" xlink:href=\"psysml:ef5e87d6-f969-4b16-bad6-f15ecd335219\" xlink:show=\"new\" xlink:title=\"psysml:ef5e87d6-f969-4b16-bad6-f15ecd335219\" xlink:type=\"simple\"><path d=\"M58.5005,170.0549 C58.5193,170.2001 58.5383,170.3454 58.5574,170.4908 C58.6338,171.0725 58.7124,171.6562 58.7932,172.2415 C58.9548,173.4122 59.1253,174.5898 59.3052,175.7725 C59.6651,178.1379 60.0625,180.5238 60.5014,182.9158 C62.2569,192.4838 64.675,202.15 68,211 C74.23,227.58 84.77,244.23 94.38,257.43 \" fill=\"none\" id=\"E4-&gt;E3\" style=\"stroke: #A80036; stroke-width: 1.0; stroke-dasharray: 7.0,7.0;\"/><polygon fill=\"#A80036\" points=\"97.6,261.77,95.4384,252.1613,94.616,257.758,89.0193,256.9357,97.6,261.77\" style=\"stroke: #A80036; stroke-width: 1.0;\"/><text fill=\"#000000\" font-family=\"sans-serif\" font-size=\"13\" lengthAdjust=\"spacingAndGlyphs\" textLength=\"58\" x=\"69\" y=\"207.0669\">«import»</text></a><!--MD5=[e9be52314489bd878ff4c7144b63c9e1]\n",
       "link E5 to E3--><a href=\"psysml:144792e9-f989-4dc0-84af-44c5bd60762e\" target=\"_top\" title=\"psysml:144792e9-f989-4dc0-84af-44c5bd60762e\" xlink:actuate=\"onRequest\" xlink:href=\"psysml:144792e9-f989-4dc0-84af-44c5bd60762e\" xlink:show=\"new\" xlink:title=\"psysml:144792e9-f989-4dc0-84af-44c5bd60762e\" xlink:type=\"simple\"><path d=\"M143.03,146.32 C142,163.98 139.95,189.21 136,211 C134.13,221.29 131.49,232.23 128.74,242.43 \" fill=\"none\" id=\"E5-&gt;E3\" style=\"stroke: #A80036; stroke-width: 1.0;\"/><polygon fill=\"#FFFFFF\" points=\"123.15,261.87,121.6727,241.6755,135.1276,245.544,123.15,261.87\" style=\"stroke: #A80036; stroke-width: 1.0;\"/><ellipse cx=\"125.1699\" cy=\"236.7501\" fill=\"#A80036\" rx=\"2\" ry=\"2\" style=\"stroke: #A80036; stroke-width: 1.0;\"/><ellipse cx=\"134.7805\" cy=\"239.5133\" fill=\"#A80036\" rx=\"2\" ry=\"2\" style=\"stroke: #A80036; stroke-width: 1.0;\"/></a><!--MD5=[7a76a6ed9e3857eae8ecb906efa8ec0d]\n",
       "@startuml\r\n",
       "skinparam wrapWidth 300\r\n",
       "hide circle\r\n",
       "\r\n",
       "package \"AliasImport\" as E1  [[psysml:2a0424ca-0ea8-4c9d-a1b7-bd1ebfa50d2f ]]  {\r\n",
       "package \"Definitions\" as E2  [[psysml:1b261b72-bc02-4122-a178-845f71db1598 ]]  {\r\n",
       "comp def \"Vehicle\" as E3  <<(T,blue) part  def>> [[psysml:0e061c30-2d05-4525-ad81-a01ef286857e ]] {\r\n",
       "}\r\n",
       "}\r\n",
       "package \"Usages\" as E4  [[psysml:944b5b0e-65e9-4e4f-876e-9affde2d942d ]]  {\r\n",
       "comp usage \"vehicle: Vehicle \" as E5  <<(T,blue) part>> [[psysml:61c6492a-41aa-4c1c-be1c-3a26db9abbc8 ]] {\r\n",
       "}\r\n",
       "}\r\n",
       "}\r\n",
       "E4 ..> E3 [[psysml:ef5e87d6-f969-4b16-bad6-f15ecd335219 ]] : <<import>>\r\n",
       "E5 - -:|> E3 [[psysml:144792e9-f989-4dc0-84af-44c5bd60762e ]] \r\n",
       "@enduml\r\n",
       "\n",
       "PlantUML version 1.2020.13(Sat Jun 13 12:26:38 UTC 2020)\n",
       "(EPL source distribution)\n",
       "Java Runtime: OpenJDK Runtime Environment\n",
       "JVM: OpenJDK 64-Bit Server VM\n",
       "Default Encoding: UTF-8\n",
       "Language: en\n",
       "Country: null\n",
       "--></g></svg>"
      ]
     },
     "execution_count": 23,
     "metadata": {},
     "output_type": "execute_result"
    }
   ],
   "source": [
    "%viz --style=\"STDCOLOR\" --view=\"Default\" \"AliasImport\""
   ]
  },
  {
   "cell_type": "code",
   "execution_count": 24,
   "id": "f0303394",
   "metadata": {
    "execution": {
     "iopub.execute_input": "2022-05-19T08:46:16.652902Z",
     "iopub.status.busy": "2022-05-19T08:46:16.652335Z",
     "iopub.status.idle": "2022-05-19T08:46:16.686649Z",
     "shell.execute_reply": "2022-05-19T08:46:16.686197Z"
    }
   },
   "outputs": [
    {
     "data": {
      "image/svg+xml": [
       "<?xml version=\"1.0\" encoding=\"UTF-8\" standalone=\"no\"?><svg xmlns=\"http://www.w3.org/2000/svg\" xmlns:xlink=\"http://www.w3.org/1999/xlink\" contentScriptType=\"application/ecmascript\" contentStyleType=\"text/css\" height=\"360px\" preserveAspectRatio=\"none\" style=\"width:275px;height:360px;\" version=\"1.1\" viewBox=\"0 0 275 360\" width=\"275px\" zoomAndPan=\"magnify\"><defs><filter height=\"300%\" id=\"f1o1plztn01zrs\" width=\"300%\" x=\"-1\" y=\"-1\"><feGaussianBlur result=\"blurOut\" stdDeviation=\"2.0\"/><feColorMatrix in=\"blurOut\" result=\"blurOut2\" type=\"matrix\" values=\"0 0 0 0 0 0 0 0 0 0 0 0 0 0 0 0 0 0 .4 0\"/><feOffset dx=\"4.0\" dy=\"4.0\" in=\"blurOut2\" result=\"blurOut3\"/><feBlend in=\"SourceGraphic\" in2=\"blurOut3\" mode=\"normal\"/></filter></defs><g><!--MD5=[fbc87193dbaf4d95561dea2c320d4a47]\n",
       "cluster E1--><a href=\"psysml:2a0424ca-0ea8-4c9d-a1b7-bd1ebfa50d2f\" target=\"_top\" title=\"psysml:2a0424ca-0ea8-4c9d-a1b7-bd1ebfa50d2f\" xlink:actuate=\"onRequest\" xlink:href=\"psysml:2a0424ca-0ea8-4c9d-a1b7-bd1ebfa50d2f\" xlink:show=\"new\" xlink:title=\"psysml:2a0424ca-0ea8-4c9d-a1b7-bd1ebfa50d2f\" xlink:type=\"simple\"><polygon fill=\"#FFFFFF\" filter=\"url(#f1o1plztn01zrs)\" points=\"16,6,97,6,104,28.2969,253,28.2969,253,348,16,348,16,6\" style=\"stroke: #000000; stroke-width: 1.5;\"/><line style=\"stroke: #000000; stroke-width: 1.5;\" x1=\"16\" x2=\"104\" y1=\"28.2969\" y2=\"28.2969\"/><text fill=\"#000000\" font-family=\"sans-serif\" font-size=\"14\" font-weight=\"bold\" lengthAdjust=\"spacingAndGlyphs\" textLength=\"75\" x=\"20\" y=\"20.9951\">AliasImport</text></a><!--MD5=[e4f7fae6ed58524ba242bb0b0d3be6b7]\n",
       "cluster E2--><a href=\"psysml:1b261b72-bc02-4122-a178-845f71db1598\" target=\"_top\" title=\"psysml:1b261b72-bc02-4122-a178-845f71db1598\" xlink:actuate=\"onRequest\" xlink:href=\"psysml:1b261b72-bc02-4122-a178-845f71db1598\" xlink:show=\"new\" xlink:title=\"psysml:1b261b72-bc02-4122-a178-845f71db1598\" xlink:type=\"simple\"><polygon fill=\"#FFFFFF\" filter=\"url(#f1o1plztn01zrs)\" points=\"65,227,144,227,151,249.2969,167,249.2969,167,324,65,324,65,227\" style=\"stroke: #000000; stroke-width: 1.5;\"/><line style=\"stroke: #000000; stroke-width: 1.5;\" x1=\"65\" x2=\"151\" y1=\"249.2969\" y2=\"249.2969\"/><text fill=\"#000000\" font-family=\"sans-serif\" font-size=\"14\" font-weight=\"bold\" lengthAdjust=\"spacingAndGlyphs\" textLength=\"73\" x=\"69\" y=\"241.9951\">Definitions</text></a><!--MD5=[f6df4d0ebaf0b5dfb2ced0ae5af7c670]\n",
       "cluster E4--><a href=\"psysml:944b5b0e-65e9-4e4f-876e-9affde2d942d\" target=\"_top\" title=\"psysml:944b5b0e-65e9-4e4f-876e-9affde2d942d\" xlink:actuate=\"onRequest\" xlink:href=\"psysml:944b5b0e-65e9-4e4f-876e-9affde2d942d\" xlink:show=\"new\" xlink:title=\"psysml:944b5b0e-65e9-4e4f-876e-9affde2d942d\" xlink:type=\"simple\"><polygon fill=\"#FFFFFF\" filter=\"url(#f1o1plztn01zrs)\" points=\"48,57,106,57,113,79.2969,221,79.2969,221,170,48,170,48,57\" style=\"stroke: #000000; stroke-width: 1.5;\"/><line style=\"stroke: #000000; stroke-width: 1.5;\" x1=\"48\" x2=\"113\" y1=\"79.2969\" y2=\"79.2969\"/><text fill=\"#000000\" font-family=\"sans-serif\" font-size=\"14\" font-weight=\"bold\" lengthAdjust=\"spacingAndGlyphs\" textLength=\"52\" x=\"52\" y=\"71.9951\">Usages</text></a><!--MD5=[09b614a08d8cba4a07c9adeb5e0fee81]\n",
       "class E3--><a href=\"psysml:0e061c30-2d05-4525-ad81-a01ef286857e\" target=\"_top\" title=\"psysml:0e061c30-2d05-4525-ad81-a01ef286857e\" xlink:actuate=\"onRequest\" xlink:href=\"psysml:0e061c30-2d05-4525-ad81-a01ef286857e\" xlink:show=\"new\" xlink:title=\"psysml:0e061c30-2d05-4525-ad81-a01ef286857e\" xlink:type=\"simple\"><rect fill=\"#FEFECE\" filter=\"url(#f1o1plztn01zrs)\" height=\"45.9375\" id=\"E3\" style=\"stroke: #A80036; stroke-width: 1.5;\" width=\"70\" x=\"81\" y=\"262\"/><text fill=\"#000000\" font-family=\"sans-serif\" font-size=\"12\" font-style=\"italic\" lengthAdjust=\"spacingAndGlyphs\" textLength=\"68\" x=\"82\" y=\"278.1387\">«part  def»</text><text fill=\"#000000\" font-family=\"sans-serif\" font-size=\"12\" lengthAdjust=\"spacingAndGlyphs\" textLength=\"45\" x=\"93.5\" y=\"292.1074\">Vehicle</text><line style=\"stroke: #A80036; stroke-width: 1.5;\" x1=\"82\" x2=\"150\" y1=\"299.9375\" y2=\"299.9375\"/></a><!--MD5=[270fce915f116d4de14055a7c1d9a0f3]\n",
       "class E5--><a href=\"psysml:61c6492a-41aa-4c1c-be1c-3a26db9abbc8\" target=\"_top\" title=\"psysml:61c6492a-41aa-4c1c-be1c-3a26db9abbc8\" xlink:actuate=\"onRequest\" xlink:href=\"psysml:61c6492a-41aa-4c1c-be1c-3a26db9abbc8\" xlink:show=\"new\" xlink:title=\"psysml:61c6492a-41aa-4c1c-be1c-3a26db9abbc8\" xlink:type=\"simple\"><rect fill=\"#FEFECE\" filter=\"url(#f1o1plztn01zrs)\" height=\"45.9375\" id=\"E5\" rx=\"10\" ry=\"10\" style=\"stroke: #A80036; stroke-width: 1.5;\" width=\"106\" x=\"91\" y=\"100\"/><text fill=\"#000000\" font-family=\"sans-serif\" font-size=\"12\" font-style=\"italic\" lengthAdjust=\"spacingAndGlyphs\" textLength=\"40\" x=\"124\" y=\"116.1387\">«part»</text><text fill=\"#000000\" font-family=\"sans-serif\" font-size=\"12\" lengthAdjust=\"spacingAndGlyphs\" textLength=\"96\" x=\"94\" y=\"130.1074\">vehicle: Vehicle</text><line style=\"stroke: #A80036; stroke-width: 1.5;\" x1=\"92\" x2=\"196\" y1=\"137.9375\" y2=\"137.9375\"/></a><!--MD5=[f0cdf4548168e5211fb3a02bf679d63a]\n",
       "link E4 to E3--><a href=\"psysml:ef5e87d6-f969-4b16-bad6-f15ecd335219\" target=\"_top\" title=\"psysml:ef5e87d6-f969-4b16-bad6-f15ecd335219\" xlink:actuate=\"onRequest\" xlink:href=\"psysml:ef5e87d6-f969-4b16-bad6-f15ecd335219\" xlink:show=\"new\" xlink:title=\"psysml:ef5e87d6-f969-4b16-bad6-f15ecd335219\" xlink:type=\"simple\"><path d=\"M58.5005,170.0549 C58.5193,170.2001 58.5383,170.3454 58.5574,170.4908 C58.6338,171.0725 58.7124,171.6562 58.7932,172.2415 C58.9548,173.4122 59.1253,174.5898 59.3052,175.7725 C59.6651,178.1379 60.0625,180.5238 60.5014,182.9158 C62.2569,192.4838 64.675,202.15 68,211 C74.23,227.58 84.77,244.23 94.38,257.43 \" fill=\"none\" id=\"E4-&gt;E3\" style=\"stroke: #A80036; stroke-width: 1.0; stroke-dasharray: 7.0,7.0;\"/><polygon fill=\"#A80036\" points=\"97.6,261.77,95.4384,252.1613,94.616,257.758,89.0193,256.9357,97.6,261.77\" style=\"stroke: #A80036; stroke-width: 1.0;\"/><text fill=\"#000000\" font-family=\"sans-serif\" font-size=\"13\" lengthAdjust=\"spacingAndGlyphs\" textLength=\"58\" x=\"69\" y=\"207.0669\">«import»</text></a><!--MD5=[e9be52314489bd878ff4c7144b63c9e1]\n",
       "link E5 to E3--><a href=\"psysml:144792e9-f989-4dc0-84af-44c5bd60762e\" target=\"_top\" title=\"psysml:144792e9-f989-4dc0-84af-44c5bd60762e\" xlink:actuate=\"onRequest\" xlink:href=\"psysml:144792e9-f989-4dc0-84af-44c5bd60762e\" xlink:show=\"new\" xlink:title=\"psysml:144792e9-f989-4dc0-84af-44c5bd60762e\" xlink:type=\"simple\"><path d=\"M143.03,146.32 C142,163.98 139.95,189.21 136,211 C134.13,221.29 131.49,232.23 128.74,242.43 \" fill=\"none\" id=\"E5-&gt;E3\" style=\"stroke: #A80036; stroke-width: 1.0;\"/><polygon fill=\"#FFFFFF\" points=\"123.15,261.87,121.6727,241.6755,135.1276,245.544,123.15,261.87\" style=\"stroke: #A80036; stroke-width: 1.0;\"/><ellipse cx=\"125.1699\" cy=\"236.7501\" fill=\"#A80036\" rx=\"2\" ry=\"2\" style=\"stroke: #A80036; stroke-width: 1.0;\"/><ellipse cx=\"134.7805\" cy=\"239.5133\" fill=\"#A80036\" rx=\"2\" ry=\"2\" style=\"stroke: #A80036; stroke-width: 1.0;\"/></a><!--MD5=[7a76a6ed9e3857eae8ecb906efa8ec0d]\n",
       "@startuml\r\n",
       "skinparam wrapWidth 300\r\n",
       "hide circle\r\n",
       "\r\n",
       "package \"AliasImport\" as E1  [[psysml:2a0424ca-0ea8-4c9d-a1b7-bd1ebfa50d2f ]]  {\r\n",
       "package \"Definitions\" as E2  [[psysml:1b261b72-bc02-4122-a178-845f71db1598 ]]  {\r\n",
       "comp def \"Vehicle\" as E3  <<(T,blue) part  def>> [[psysml:0e061c30-2d05-4525-ad81-a01ef286857e ]] {\r\n",
       "}\r\n",
       "}\r\n",
       "package \"Usages\" as E4  [[psysml:944b5b0e-65e9-4e4f-876e-9affde2d942d ]]  {\r\n",
       "comp usage \"vehicle: Vehicle \" as E5  <<(T,blue) part>> [[psysml:61c6492a-41aa-4c1c-be1c-3a26db9abbc8 ]] {\r\n",
       "}\r\n",
       "}\r\n",
       "}\r\n",
       "E4 ..> E3 [[psysml:ef5e87d6-f969-4b16-bad6-f15ecd335219 ]] : <<import>>\r\n",
       "E5 - -:|> E3 [[psysml:144792e9-f989-4dc0-84af-44c5bd60762e ]] \r\n",
       "@enduml\r\n",
       "\n",
       "PlantUML version 1.2020.13(Sat Jun 13 12:26:38 UTC 2020)\n",
       "(EPL source distribution)\n",
       "Java Runtime: OpenJDK Runtime Environment\n",
       "JVM: OpenJDK 64-Bit Server VM\n",
       "Default Encoding: UTF-8\n",
       "Language: en\n",
       "Country: null\n",
       "--></g></svg>"
      ]
     },
     "execution_count": 24,
     "metadata": {},
     "output_type": "execute_result"
    }
   ],
   "source": [
    "%viz --style=\"STDCOLOR\" --view=\"Tree\" \"AliasImport\""
   ]
  },
  {
   "cell_type": "code",
   "execution_count": 25,
   "id": "aa86f4f7",
   "metadata": {
    "execution": {
     "iopub.execute_input": "2022-05-19T08:46:16.736639Z",
     "iopub.status.busy": "2022-05-19T08:46:16.736126Z",
     "iopub.status.idle": "2022-05-19T08:46:16.741228Z",
     "shell.execute_reply": "2022-05-19T08:46:16.741532Z"
    }
   },
   "outputs": [
    {
     "data": {
      "image/svg+xml": [
       "<?xml version=\"1.0\" encoding=\"UTF-8\" standalone=\"no\"?><svg xmlns=\"http://www.w3.org/2000/svg\" xmlns:xlink=\"http://www.w3.org/1999/xlink\" contentScriptType=\"application/ecmascript\" contentStyleType=\"text/css\" height=\"12px\" preserveAspectRatio=\"none\" style=\"width:12px;height:12px;\" version=\"1.1\" viewBox=\"0 0 12 12\" width=\"12px\" zoomAndPan=\"magnify\"><defs/><g><!--MD5=[aeeef50f102b80d730deb6443d14f702]\n",
       "@startuml\r\n",
       "skinparam wrapWidth 300\r\n",
       "hide circle\r\n",
       "\r\n",
       "@enduml\r\n",
       "\n",
       "PlantUML version 1.2020.13(Sat Jun 13 12:26:38 UTC 2020)\n",
       "(EPL source distribution)\n",
       "Java Runtime: OpenJDK Runtime Environment\n",
       "JVM: OpenJDK 64-Bit Server VM\n",
       "Default Encoding: UTF-8\n",
       "Language: en\n",
       "Country: null\n",
       "--></g></svg>"
      ]
     },
     "execution_count": 25,
     "metadata": {},
     "output_type": "execute_result"
    }
   ],
   "source": [
    "%viz --style=\"STDCOLOR\" --view=\"State\" \"AliasImport\""
   ]
  },
  {
   "cell_type": "code",
   "execution_count": 26,
   "id": "86d2b323",
   "metadata": {
    "execution": {
     "iopub.execute_input": "2022-05-19T08:46:16.791471Z",
     "iopub.status.busy": "2022-05-19T08:46:16.791011Z",
     "iopub.status.idle": "2022-05-19T08:46:16.824261Z",
     "shell.execute_reply": "2022-05-19T08:46:16.822351Z"
    }
   },
   "outputs": [
    {
     "data": {
      "image/svg+xml": [
       "<?xml version=\"1.0\" encoding=\"UTF-8\" standalone=\"no\"?><svg xmlns=\"http://www.w3.org/2000/svg\" xmlns:xlink=\"http://www.w3.org/1999/xlink\" contentScriptType=\"application/ecmascript\" contentStyleType=\"text/css\" height=\"351px\" preserveAspectRatio=\"none\" style=\"width:302px;height:351px;\" version=\"1.1\" viewBox=\"0 0 302 351\" width=\"302px\" zoomAndPan=\"magnify\"><defs><filter height=\"300%\" id=\"f1hdv291r4ohal\" width=\"300%\" x=\"-1\" y=\"-1\"><feGaussianBlur result=\"blurOut\" stdDeviation=\"2.0\"/><feColorMatrix in=\"blurOut\" result=\"blurOut2\" type=\"matrix\" values=\"0 0 0 0 0 0 0 0 0 0 0 0 0 0 0 0 0 0 .4 0\"/><feOffset dx=\"4.0\" dy=\"4.0\" in=\"blurOut2\" result=\"blurOut3\"/><feBlend in=\"SourceGraphic\" in2=\"blurOut3\" mode=\"normal\"/></filter></defs><g><!--MD5=[fbc87193dbaf4d95561dea2c320d4a47]\n",
       "cluster E1--><a href=\"psysml:2a0424ca-0ea8-4c9d-a1b7-bd1ebfa50d2f\" target=\"_top\" title=\"psysml:2a0424ca-0ea8-4c9d-a1b7-bd1ebfa50d2f\" xlink:actuate=\"onRequest\" xlink:href=\"psysml:2a0424ca-0ea8-4c9d-a1b7-bd1ebfa50d2f\" xlink:show=\"new\" xlink:title=\"psysml:2a0424ca-0ea8-4c9d-a1b7-bd1ebfa50d2f\" xlink:type=\"simple\"><polygon fill=\"#FFFFFF\" filter=\"url(#f1hdv291r4ohal)\" points=\"16,6,97,6,104,28.2969,280,28.2969,280,339,16,339,16,6\" style=\"stroke: #000000; stroke-width: 1.5;\"/><line style=\"stroke: #000000; stroke-width: 1.5;\" x1=\"16\" x2=\"104\" y1=\"28.2969\" y2=\"28.2969\"/><text fill=\"#000000\" font-family=\"sans-serif\" font-size=\"14\" font-weight=\"bold\" lengthAdjust=\"spacingAndGlyphs\" textLength=\"75\" x=\"20\" y=\"20.9951\">AliasImport</text></a><!--MD5=[e4f7fae6ed58524ba242bb0b0d3be6b7]\n",
       "cluster E2--><a href=\"psysml:1b261b72-bc02-4122-a178-845f71db1598\" target=\"_top\" title=\"psysml:1b261b72-bc02-4122-a178-845f71db1598\" xlink:actuate=\"onRequest\" xlink:href=\"psysml:1b261b72-bc02-4122-a178-845f71db1598\" xlink:show=\"new\" xlink:title=\"psysml:1b261b72-bc02-4122-a178-845f71db1598\" xlink:type=\"simple\"><polygon fill=\"#FFFFFF\" filter=\"url(#f1hdv291r4ohal)\" points=\"40,221,119,221,126,243.2969,256,243.2969,256,315,40,315,40,221\" style=\"stroke: #000000; stroke-width: 1.5;\"/><line style=\"stroke: #000000; stroke-width: 1.5;\" x1=\"40\" x2=\"126\" y1=\"243.2969\" y2=\"243.2969\"/><text fill=\"#000000\" font-family=\"sans-serif\" font-size=\"14\" font-weight=\"bold\" lengthAdjust=\"spacingAndGlyphs\" textLength=\"73\" x=\"44\" y=\"235.9951\">Definitions</text></a><!--MD5=[de5ec2e2e8f62f467e546659f5068c88]\n",
       "cluster E5--><a href=\"psysml:944b5b0e-65e9-4e4f-876e-9affde2d942d\" target=\"_top\" title=\"psysml:944b5b0e-65e9-4e4f-876e-9affde2d942d\" xlink:actuate=\"onRequest\" xlink:href=\"psysml:944b5b0e-65e9-4e4f-876e-9affde2d942d\" xlink:show=\"new\" xlink:title=\"psysml:944b5b0e-65e9-4e4f-876e-9affde2d942d\" xlink:type=\"simple\"><polygon fill=\"#FFFFFF\" filter=\"url(#f1hdv291r4ohal)\" points=\"56,57,114,57,121,79.2969,230,79.2969,230,164,56,164,56,57\" style=\"stroke: #000000; stroke-width: 1.5;\"/><line style=\"stroke: #000000; stroke-width: 1.5;\" x1=\"56\" x2=\"121\" y1=\"79.2969\" y2=\"79.2969\"/><text fill=\"#000000\" font-family=\"sans-serif\" font-size=\"14\" font-weight=\"bold\" lengthAdjust=\"spacingAndGlyphs\" textLength=\"52\" x=\"60\" y=\"71.9951\">Usages</text></a><g id=\"E1.E2.E3\"><a href=\"psysml:0e061c30-2d05-4525-ad81-a01ef286857e\" target=\"_top\" title=\"psysml:0e061c30-2d05-4525-ad81-a01ef286857e\" xlink:actuate=\"onRequest\" xlink:href=\"psysml:0e061c30-2d05-4525-ad81-a01ef286857e\" xlink:show=\"new\" xlink:title=\"psysml:0e061c30-2d05-4525-ad81-a01ef286857e\" xlink:type=\"simple\"><rect fill=\"#FEFECE\" filter=\"url(#f1hdv291r4ohal)\" height=\"42.9375\" id=\"E3\" style=\"stroke: #A80036; stroke-width: 1.5;\" width=\"75\" x=\"165.5\" y=\"256\"/><text fill=\"#000000\" font-family=\"sans-serif\" font-size=\"12\" font-style=\"italic\" lengthAdjust=\"spacingAndGlyphs\" textLength=\"68\" x=\"169\" y=\"272.1387\">«part  def»</text><text fill=\"#000000\" font-family=\"sans-serif\" font-size=\"12\" lengthAdjust=\"spacingAndGlyphs\" textLength=\"45\" x=\"180.5\" y=\"286.1074\">Vehicle</text></a></g><g id=\"E1.E2.E4\"><a href=\"psysml:0e061c30-2d05-4525-ad81-a01ef286857e\" target=\"_top\" title=\"psysml:0e061c30-2d05-4525-ad81-a01ef286857e\" xlink:actuate=\"onRequest\" xlink:href=\"psysml:0e061c30-2d05-4525-ad81-a01ef286857e\" xlink:show=\"new\" xlink:title=\"psysml:0e061c30-2d05-4525-ad81-a01ef286857e\" xlink:type=\"simple\"><rect fill=\"#FEFECE\" filter=\"url(#f1hdv291r4ohal)\" height=\"42.9375\" id=\"E4\" style=\"stroke: #A80036; stroke-width: 1.5;\" width=\"75\" x=\"55.5\" y=\"256\"/><text fill=\"#000000\" font-family=\"sans-serif\" font-size=\"12\" font-style=\"italic\" lengthAdjust=\"spacingAndGlyphs\" textLength=\"68\" x=\"59\" y=\"272.1387\">«part  def»</text><text fill=\"#000000\" font-family=\"sans-serif\" font-size=\"12\" lengthAdjust=\"spacingAndGlyphs\" textLength=\"45\" x=\"70.5\" y=\"286.1074\">Vehicle</text></a></g><g id=\"E1.E5.E6\"><a href=\"psysml:61c6492a-41aa-4c1c-be1c-3a26db9abbc8\" target=\"_top\" title=\"psysml:61c6492a-41aa-4c1c-be1c-3a26db9abbc8\" xlink:actuate=\"onRequest\" xlink:href=\"psysml:61c6492a-41aa-4c1c-be1c-3a26db9abbc8\" xlink:show=\"new\" xlink:title=\"psysml:61c6492a-41aa-4c1c-be1c-3a26db9abbc8\" xlink:type=\"simple\"><rect fill=\"#FEFECE\" filter=\"url(#f1hdv291r4ohal)\" height=\"40\" id=\"E6\" rx=\"10\" ry=\"10\" style=\"stroke: #A80036; stroke-width: 1.5;\" width=\"107\" x=\"99.5\" y=\"100\"/><text fill=\"#000000\" font-family=\"sans-serif\" font-size=\"12\" lengthAdjust=\"spacingAndGlyphs\" textLength=\"96\" x=\"105\" y=\"116.1387\">vehicle: Vehicle</text></a></g><!--MD5=[1c62de2aa5b76f0fb657ff8443a1a700]\n",
       "link E5 to E4--><a href=\"psysml:ef5e87d6-f969-4b16-bad6-f15ecd335219\" target=\"_top\" title=\"psysml:ef5e87d6-f969-4b16-bad6-f15ecd335219\" xlink:actuate=\"onRequest\" xlink:href=\"psysml:ef5e87d6-f969-4b16-bad6-f15ecd335219\" xlink:show=\"new\" xlink:title=\"psysml:ef5e87d6-f969-4b16-bad6-f15ecd335219\" xlink:type=\"simple\"><path d=\"M67.2559,164.3434 C67.2848,164.6227 67.314,164.9026 67.3433,165.183 C67.4021,165.7439 67.4617,166.3071 67.5224,166.8722 C67.6436,168.0025 67.7685,169.141 67.8973,170.2859 C68.1549,172.5759 68.4278,174.8919 68.7167,177.2213 C69.8725,186.5388 71.285,196.07 73,205 C75.97,220.45 80.65,237.41 84.74,250.94 \" fill=\"none\" id=\"E5-&gt;E4\" style=\"stroke: #A80036; stroke-width: 1.0; stroke-dasharray: 7.0,7.0;\"/><polygon fill=\"#A80036\" points=\"86.21,255.76,87.3802,245.9809,84.7366,250.982,79.7354,248.3384,86.21,255.76\" style=\"stroke: #A80036; stroke-width: 1.0;\"/><text fill=\"#000000\" font-family=\"sans-serif\" font-size=\"13\" lengthAdjust=\"spacingAndGlyphs\" textLength=\"58\" x=\"74\" y=\"201.0669\">«import»</text></a><!--MD5=[f667431f98296947986a1a7595a31603]\n",
       "link E6 to E4--><a href=\"psysml:144792e9-f989-4dc0-84af-44c5bd60762e\" target=\"_top\" title=\"psysml:144792e9-f989-4dc0-84af-44c5bd60762e\" xlink:actuate=\"onRequest\" xlink:href=\"psysml:144792e9-f989-4dc0-84af-44c5bd60762e\" xlink:show=\"new\" xlink:title=\"psysml:144792e9-f989-4dc0-84af-44c5bd60762e\" xlink:type=\"simple\"><path d=\"M151.34,140.23 C149.38,157.62 145.27,183.68 137,205 C132.5,216.61 126.1,228.43 119.57,239.03 \" fill=\"none\" id=\"E6-&gt;E4\" style=\"stroke: #A80036; stroke-width: 1.0;\"/><polygon fill=\"#FFFFFF\" points=\"108.43,255.98,113.0161,236.2577,124.7153,243.9472,108.43,255.98\" style=\"stroke: #A80036; stroke-width: 1.0;\"/><ellipse cx=\"117.8182\" cy=\"232.593\" fill=\"#A80036\" rx=\"2\" ry=\"2\" style=\"stroke: #A80036; stroke-width: 1.0;\"/><ellipse cx=\"126.1747\" cy=\"238.0855\" fill=\"#A80036\" rx=\"2\" ry=\"2\" style=\"stroke: #A80036; stroke-width: 1.0;\"/></a><!--MD5=[78464cef11f6dea9c88d9ee26e8208d6]\n",
       "@startuml\r\n",
       "skinparam ranksep 10\r\n",
       "skinparam rectangle {\r\n",
       " backgroundColor<<block>> LightGreen\r\n",
       "}\r\n",
       "skinparam wrapWidth 300\r\n",
       "hide circle\r\n",
       "\r\n",
       "package \"AliasImport\" as E1  [[psysml:2a0424ca-0ea8-4c9d-a1b7-bd1ebfa50d2f ]]  {\r\n",
       "package \"Definitions\" as E2  [[psysml:1b261b72-bc02-4122-a178-845f71db1598 ]]  {\r\n",
       "rec def \"Vehicle\" as E3  <<(T,blue) part  def>> [[psysml:0e061c30-2d05-4525-ad81-a01ef286857e ]] {\r\n",
       "}\r\n",
       "rec def \"Vehicle\" as E4  <<(T,blue) part  def>> [[psysml:0e061c30-2d05-4525-ad81-a01ef286857e ]] {\r\n",
       "}\r\n",
       "}\r\n",
       "package \"Usages\" as E5  [[psysml:944b5b0e-65e9-4e4f-876e-9affde2d942d ]]  {\r\n",
       "rec usage \"vehicle: Vehicle\" as E6  [[psysml:61c6492a-41aa-4c1c-be1c-3a26db9abbc8 ]] {\r\n",
       "}\r\n",
       "}\r\n",
       "}\r\n",
       "E5 ..> E4 [[psysml:ef5e87d6-f969-4b16-bad6-f15ecd335219 ]] : <<import>>\r\n",
       "E6 - -:|> E4 [[psysml:144792e9-f989-4dc0-84af-44c5bd60762e ]] \r\n",
       "@enduml\r\n",
       "\n",
       "PlantUML version 1.2020.13(Sat Jun 13 12:26:38 UTC 2020)\n",
       "(EPL source distribution)\n",
       "Java Runtime: OpenJDK Runtime Environment\n",
       "JVM: OpenJDK 64-Bit Server VM\n",
       "Default Encoding: UTF-8\n",
       "Language: en\n",
       "Country: null\n",
       "--></g></svg>"
      ]
     },
     "execution_count": 26,
     "metadata": {},
     "output_type": "execute_result"
    }
   ],
   "source": [
    "%viz --style=\"STDCOLOR\" --view=\"Interconnection\" \"AliasImport\""
   ]
  },
  {
   "cell_type": "code",
   "execution_count": 27,
   "id": "385c6f82",
   "metadata": {
    "execution": {
     "iopub.execute_input": "2022-05-19T08:46:16.873220Z",
     "iopub.status.busy": "2022-05-19T08:46:16.872762Z",
     "iopub.status.idle": "2022-05-19T08:46:16.879110Z",
     "shell.execute_reply": "2022-05-19T08:46:16.878725Z"
    }
   },
   "outputs": [
    {
     "data": {
      "image/svg+xml": [
       "<?xml version=\"1.0\" encoding=\"UTF-8\" standalone=\"no\"?><svg xmlns=\"http://www.w3.org/2000/svg\" xmlns:xlink=\"http://www.w3.org/1999/xlink\" contentScriptType=\"application/ecmascript\" contentStyleType=\"text/css\" height=\"12px\" preserveAspectRatio=\"none\" style=\"width:12px;height:12px;\" version=\"1.1\" viewBox=\"0 0 12 12\" width=\"12px\" zoomAndPan=\"magnify\"><defs/><g><!--MD5=[9863325348a96a77dacc89509d8ee65e]\n",
       "@startuml\r\n",
       "skinparam ranksep 8\r\n",
       "skinparam wrapWidth 300\r\n",
       "hide circle\r\n",
       "\r\n",
       "@enduml\r\n",
       "\n",
       "PlantUML version 1.2020.13(Sat Jun 13 12:26:38 UTC 2020)\n",
       "(EPL source distribution)\n",
       "Java Runtime: OpenJDK Runtime Environment\n",
       "JVM: OpenJDK 64-Bit Server VM\n",
       "Default Encoding: UTF-8\n",
       "Language: en\n",
       "Country: null\n",
       "--></g></svg>"
      ]
     },
     "execution_count": 27,
     "metadata": {},
     "output_type": "execute_result"
    }
   ],
   "source": [
    "%viz --style=\"STDCOLOR\" --view=\"Action\" \"AliasImport\""
   ]
  },
  {
   "cell_type": "code",
   "execution_count": 28,
   "id": "170cf631",
   "metadata": {
    "execution": {
     "iopub.execute_input": "2022-05-19T08:46:16.929173Z",
     "iopub.status.busy": "2022-05-19T08:46:16.928716Z",
     "iopub.status.idle": "2022-05-19T08:46:16.934163Z",
     "shell.execute_reply": "2022-05-19T08:46:16.934481Z"
    }
   },
   "outputs": [
    {
     "data": {
      "image/svg+xml": [
       "<?xml version=\"1.0\" encoding=\"UTF-8\" standalone=\"no\"?><svg xmlns=\"http://www.w3.org/2000/svg\" xmlns:xlink=\"http://www.w3.org/1999/xlink\" contentScriptType=\"application/ecmascript\" contentStyleType=\"text/css\" height=\"12px\" preserveAspectRatio=\"none\" style=\"width:12px;height:12px;\" version=\"1.1\" viewBox=\"0 0 12 12\" width=\"12px\" zoomAndPan=\"magnify\"><defs/><g><!--MD5=[6c4bca67b4d71758159a5a7f1f1e1fc2]\n",
       "@startuml\r\n",
       "skinparam roundcorner 20\r\n",
       "skinparam BoxPadding 20\r\n",
       "skinparam SequenceBoxBackgroundColor #white\r\n",
       "skinparam style strictuml\r\n",
       "skinparam maxMessageSize 100\r\n",
       "skinparam wrapWidth 300\r\n",
       "hide circle\r\n",
       "\r\n",
       "@enduml\r\n",
       "\n",
       "PlantUML version 1.2020.13(Sat Jun 13 12:26:38 UTC 2020)\n",
       "(EPL source distribution)\n",
       "Java Runtime: OpenJDK Runtime Environment\n",
       "JVM: OpenJDK 64-Bit Server VM\n",
       "Default Encoding: UTF-8\n",
       "Language: en\n",
       "Country: null\n",
       "--></g></svg>"
      ]
     },
     "execution_count": 28,
     "metadata": {},
     "output_type": "execute_result"
    }
   ],
   "source": [
    "%viz --style=\"STDCOLOR\" --view=\"Sequence\" \"AliasImport\""
   ]
  },
  {
   "cell_type": "code",
   "execution_count": 29,
   "id": "71e33108",
   "metadata": {
    "execution": {
     "iopub.execute_input": "2022-05-19T08:46:16.984583Z",
     "iopub.status.busy": "2022-05-19T08:46:16.984119Z",
     "iopub.status.idle": "2022-05-19T08:46:17.015833Z",
     "shell.execute_reply": "2022-05-19T08:46:17.015423Z"
    }
   },
   "outputs": [
    {
     "data": {
      "image/svg+xml": [
       "<?xml version=\"1.0\" encoding=\"UTF-8\" standalone=\"no\"?><svg xmlns=\"http://www.w3.org/2000/svg\" xmlns:xlink=\"http://www.w3.org/1999/xlink\" contentScriptType=\"application/ecmascript\" contentStyleType=\"text/css\" height=\"360px\" preserveAspectRatio=\"none\" style=\"width:275px;height:360px;\" version=\"1.1\" viewBox=\"0 0 275 360\" width=\"275px\" zoomAndPan=\"magnify\"><defs><filter height=\"300%\" id=\"f1o1plztn01zrs\" width=\"300%\" x=\"-1\" y=\"-1\"><feGaussianBlur result=\"blurOut\" stdDeviation=\"2.0\"/><feColorMatrix in=\"blurOut\" result=\"blurOut2\" type=\"matrix\" values=\"0 0 0 0 0 0 0 0 0 0 0 0 0 0 0 0 0 0 .4 0\"/><feOffset dx=\"4.0\" dy=\"4.0\" in=\"blurOut2\" result=\"blurOut3\"/><feBlend in=\"SourceGraphic\" in2=\"blurOut3\" mode=\"normal\"/></filter></defs><g><!--MD5=[fbc87193dbaf4d95561dea2c320d4a47]\n",
       "cluster E1--><a href=\"psysml:2a0424ca-0ea8-4c9d-a1b7-bd1ebfa50d2f\" target=\"_top\" title=\"psysml:2a0424ca-0ea8-4c9d-a1b7-bd1ebfa50d2f\" xlink:actuate=\"onRequest\" xlink:href=\"psysml:2a0424ca-0ea8-4c9d-a1b7-bd1ebfa50d2f\" xlink:show=\"new\" xlink:title=\"psysml:2a0424ca-0ea8-4c9d-a1b7-bd1ebfa50d2f\" xlink:type=\"simple\"><polygon fill=\"#FFFFFF\" filter=\"url(#f1o1plztn01zrs)\" points=\"16,6,97,6,104,28.2969,253,28.2969,253,348,16,348,16,6\" style=\"stroke: #000000; stroke-width: 1.5;\"/><line style=\"stroke: #000000; stroke-width: 1.5;\" x1=\"16\" x2=\"104\" y1=\"28.2969\" y2=\"28.2969\"/><text fill=\"#000000\" font-family=\"sans-serif\" font-size=\"14\" font-weight=\"bold\" lengthAdjust=\"spacingAndGlyphs\" textLength=\"75\" x=\"20\" y=\"20.9951\">AliasImport</text></a><!--MD5=[e4f7fae6ed58524ba242bb0b0d3be6b7]\n",
       "cluster E2--><a href=\"psysml:1b261b72-bc02-4122-a178-845f71db1598\" target=\"_top\" title=\"psysml:1b261b72-bc02-4122-a178-845f71db1598\" xlink:actuate=\"onRequest\" xlink:href=\"psysml:1b261b72-bc02-4122-a178-845f71db1598\" xlink:show=\"new\" xlink:title=\"psysml:1b261b72-bc02-4122-a178-845f71db1598\" xlink:type=\"simple\"><polygon fill=\"#FFFFFF\" filter=\"url(#f1o1plztn01zrs)\" points=\"65,227,144,227,151,249.2969,167,249.2969,167,324,65,324,65,227\" style=\"stroke: #000000; stroke-width: 1.5;\"/><line style=\"stroke: #000000; stroke-width: 1.5;\" x1=\"65\" x2=\"151\" y1=\"249.2969\" y2=\"249.2969\"/><text fill=\"#000000\" font-family=\"sans-serif\" font-size=\"14\" font-weight=\"bold\" lengthAdjust=\"spacingAndGlyphs\" textLength=\"73\" x=\"69\" y=\"241.9951\">Definitions</text></a><!--MD5=[f6df4d0ebaf0b5dfb2ced0ae5af7c670]\n",
       "cluster E4--><a href=\"psysml:944b5b0e-65e9-4e4f-876e-9affde2d942d\" target=\"_top\" title=\"psysml:944b5b0e-65e9-4e4f-876e-9affde2d942d\" xlink:actuate=\"onRequest\" xlink:href=\"psysml:944b5b0e-65e9-4e4f-876e-9affde2d942d\" xlink:show=\"new\" xlink:title=\"psysml:944b5b0e-65e9-4e4f-876e-9affde2d942d\" xlink:type=\"simple\"><polygon fill=\"#FFFFFF\" filter=\"url(#f1o1plztn01zrs)\" points=\"48,57,106,57,113,79.2969,221,79.2969,221,170,48,170,48,57\" style=\"stroke: #000000; stroke-width: 1.5;\"/><line style=\"stroke: #000000; stroke-width: 1.5;\" x1=\"48\" x2=\"113\" y1=\"79.2969\" y2=\"79.2969\"/><text fill=\"#000000\" font-family=\"sans-serif\" font-size=\"14\" font-weight=\"bold\" lengthAdjust=\"spacingAndGlyphs\" textLength=\"52\" x=\"52\" y=\"71.9951\">Usages</text></a><!--MD5=[09b614a08d8cba4a07c9adeb5e0fee81]\n",
       "class E3--><a href=\"psysml:0e061c30-2d05-4525-ad81-a01ef286857e\" target=\"_top\" title=\"psysml:0e061c30-2d05-4525-ad81-a01ef286857e\" xlink:actuate=\"onRequest\" xlink:href=\"psysml:0e061c30-2d05-4525-ad81-a01ef286857e\" xlink:show=\"new\" xlink:title=\"psysml:0e061c30-2d05-4525-ad81-a01ef286857e\" xlink:type=\"simple\"><rect fill=\"#FEFECE\" filter=\"url(#f1o1plztn01zrs)\" height=\"45.9375\" id=\"E3\" style=\"stroke: #A80036; stroke-width: 1.5;\" width=\"70\" x=\"81\" y=\"262\"/><text fill=\"#000000\" font-family=\"sans-serif\" font-size=\"12\" font-style=\"italic\" lengthAdjust=\"spacingAndGlyphs\" textLength=\"68\" x=\"82\" y=\"278.1387\">«part  def»</text><text fill=\"#000000\" font-family=\"sans-serif\" font-size=\"12\" lengthAdjust=\"spacingAndGlyphs\" textLength=\"45\" x=\"93.5\" y=\"292.1074\">Vehicle</text><line style=\"stroke: #A80036; stroke-width: 1.5;\" x1=\"82\" x2=\"150\" y1=\"299.9375\" y2=\"299.9375\"/></a><!--MD5=[270fce915f116d4de14055a7c1d9a0f3]\n",
       "class E5--><a href=\"psysml:61c6492a-41aa-4c1c-be1c-3a26db9abbc8\" target=\"_top\" title=\"psysml:61c6492a-41aa-4c1c-be1c-3a26db9abbc8\" xlink:actuate=\"onRequest\" xlink:href=\"psysml:61c6492a-41aa-4c1c-be1c-3a26db9abbc8\" xlink:show=\"new\" xlink:title=\"psysml:61c6492a-41aa-4c1c-be1c-3a26db9abbc8\" xlink:type=\"simple\"><rect fill=\"#FEFECE\" filter=\"url(#f1o1plztn01zrs)\" height=\"45.9375\" id=\"E5\" rx=\"10\" ry=\"10\" style=\"stroke: #A80036; stroke-width: 1.5;\" width=\"106\" x=\"91\" y=\"100\"/><text fill=\"#000000\" font-family=\"sans-serif\" font-size=\"12\" font-style=\"italic\" lengthAdjust=\"spacingAndGlyphs\" textLength=\"40\" x=\"124\" y=\"116.1387\">«part»</text><text fill=\"#000000\" font-family=\"sans-serif\" font-size=\"12\" lengthAdjust=\"spacingAndGlyphs\" textLength=\"96\" x=\"94\" y=\"130.1074\">vehicle: Vehicle</text><line style=\"stroke: #A80036; stroke-width: 1.5;\" x1=\"92\" x2=\"196\" y1=\"137.9375\" y2=\"137.9375\"/></a><!--MD5=[f0cdf4548168e5211fb3a02bf679d63a]\n",
       "link E4 to E3--><a href=\"psysml:ef5e87d6-f969-4b16-bad6-f15ecd335219\" target=\"_top\" title=\"psysml:ef5e87d6-f969-4b16-bad6-f15ecd335219\" xlink:actuate=\"onRequest\" xlink:href=\"psysml:ef5e87d6-f969-4b16-bad6-f15ecd335219\" xlink:show=\"new\" xlink:title=\"psysml:ef5e87d6-f969-4b16-bad6-f15ecd335219\" xlink:type=\"simple\"><path d=\"M58.5005,170.0549 C58.5193,170.2001 58.5383,170.3454 58.5574,170.4908 C58.6338,171.0725 58.7124,171.6562 58.7932,172.2415 C58.9548,173.4122 59.1253,174.5898 59.3052,175.7725 C59.6651,178.1379 60.0625,180.5238 60.5014,182.9158 C62.2569,192.4838 64.675,202.15 68,211 C74.23,227.58 84.77,244.23 94.38,257.43 \" fill=\"none\" id=\"E4-&gt;E3\" style=\"stroke: #A80036; stroke-width: 1.0; stroke-dasharray: 7.0,7.0;\"/><polygon fill=\"#A80036\" points=\"97.6,261.77,95.4384,252.1613,94.616,257.758,89.0193,256.9357,97.6,261.77\" style=\"stroke: #A80036; stroke-width: 1.0;\"/><text fill=\"#000000\" font-family=\"sans-serif\" font-size=\"13\" lengthAdjust=\"spacingAndGlyphs\" textLength=\"58\" x=\"69\" y=\"207.0669\">«import»</text></a><!--MD5=[e9be52314489bd878ff4c7144b63c9e1]\n",
       "link E5 to E3--><a href=\"psysml:144792e9-f989-4dc0-84af-44c5bd60762e\" target=\"_top\" title=\"psysml:144792e9-f989-4dc0-84af-44c5bd60762e\" xlink:actuate=\"onRequest\" xlink:href=\"psysml:144792e9-f989-4dc0-84af-44c5bd60762e\" xlink:show=\"new\" xlink:title=\"psysml:144792e9-f989-4dc0-84af-44c5bd60762e\" xlink:type=\"simple\"><path d=\"M143.03,146.32 C142,163.98 139.95,189.21 136,211 C134.13,221.29 131.49,232.23 128.74,242.43 \" fill=\"none\" id=\"E5-&gt;E3\" style=\"stroke: #A80036; stroke-width: 1.0;\"/><polygon fill=\"#FFFFFF\" points=\"123.15,261.87,121.6727,241.6755,135.1276,245.544,123.15,261.87\" style=\"stroke: #A80036; stroke-width: 1.0;\"/><ellipse cx=\"125.1699\" cy=\"236.7501\" fill=\"#A80036\" rx=\"2\" ry=\"2\" style=\"stroke: #A80036; stroke-width: 1.0;\"/><ellipse cx=\"134.7805\" cy=\"239.5133\" fill=\"#A80036\" rx=\"2\" ry=\"2\" style=\"stroke: #A80036; stroke-width: 1.0;\"/></a><!--MD5=[7a76a6ed9e3857eae8ecb906efa8ec0d]\n",
       "@startuml\r\n",
       "skinparam wrapWidth 300\r\n",
       "hide circle\r\n",
       "\r\n",
       "package \"AliasImport\" as E1  [[psysml:2a0424ca-0ea8-4c9d-a1b7-bd1ebfa50d2f ]]  {\r\n",
       "package \"Definitions\" as E2  [[psysml:1b261b72-bc02-4122-a178-845f71db1598 ]]  {\r\n",
       "comp def \"Vehicle\" as E3  <<(T,blue) part  def>> [[psysml:0e061c30-2d05-4525-ad81-a01ef286857e ]] {\r\n",
       "}\r\n",
       "}\r\n",
       "package \"Usages\" as E4  [[psysml:944b5b0e-65e9-4e4f-876e-9affde2d942d ]]  {\r\n",
       "comp usage \"vehicle: Vehicle \" as E5  <<(T,blue) part>> [[psysml:61c6492a-41aa-4c1c-be1c-3a26db9abbc8 ]] {\r\n",
       "}\r\n",
       "}\r\n",
       "}\r\n",
       "E4 ..> E3 [[psysml:ef5e87d6-f969-4b16-bad6-f15ecd335219 ]] : <<import>>\r\n",
       "E5 - -:|> E3 [[psysml:144792e9-f989-4dc0-84af-44c5bd60762e ]] \r\n",
       "@enduml\r\n",
       "\n",
       "PlantUML version 1.2020.13(Sat Jun 13 12:26:38 UTC 2020)\n",
       "(EPL source distribution)\n",
       "Java Runtime: OpenJDK Runtime Environment\n",
       "JVM: OpenJDK 64-Bit Server VM\n",
       "Default Encoding: UTF-8\n",
       "Language: en\n",
       "Country: null\n",
       "--></g></svg>"
      ]
     },
     "execution_count": 29,
     "metadata": {},
     "output_type": "execute_result"
    }
   ],
   "source": [
    "%viz --style=\"STDCOLOR\" --view=\"MIXED\" \"AliasImport\""
   ]
  },
  {
   "cell_type": "code",
   "execution_count": 30,
   "id": "44a031ec",
   "metadata": {
    "execution": {
     "iopub.execute_input": "2022-05-19T08:46:17.065648Z",
     "iopub.status.busy": "2022-05-19T08:46:17.065199Z",
     "iopub.status.idle": "2022-05-19T08:46:17.122301Z",
     "shell.execute_reply": "2022-05-19T08:46:17.120804Z"
    }
   },
   "outputs": [
    {
     "data": {
      "image/svg+xml": [
       "<?xml version=\"1.0\" encoding=\"UTF-8\" standalone=\"no\"?><svg xmlns=\"http://www.w3.org/2000/svg\" xmlns:xlink=\"http://www.w3.org/1999/xlink\" contentScriptType=\"application/ecmascript\" contentStyleType=\"text/css\" height=\"354px\" preserveAspectRatio=\"none\" style=\"width:301px;height:354px;\" version=\"1.1\" viewBox=\"0 0 301 354\" width=\"301px\" zoomAndPan=\"magnify\"><defs><filter height=\"300%\" id=\"flsrd3s27pd9a\" width=\"300%\" x=\"-1\" y=\"-1\"><feGaussianBlur result=\"blurOut\" stdDeviation=\"2.0\"/><feColorMatrix in=\"blurOut\" result=\"blurOut2\" type=\"matrix\" values=\"0 0 0 0 0 0 0 0 0 0 0 0 0 0 0 0 0 0 .4 0\"/><feOffset dx=\"4.0\" dy=\"4.0\" in=\"blurOut2\" result=\"blurOut3\"/><feBlend in=\"SourceGraphic\" in2=\"blurOut3\" mode=\"normal\"/></filter></defs><g><!--MD5=[fbc87193dbaf4d95561dea2c320d4a47]\n",
       "cluster E1--><a href=\"psysml:2a0424ca-0ea8-4c9d-a1b7-bd1ebfa50d2f\" target=\"_top\" title=\"psysml:2a0424ca-0ea8-4c9d-a1b7-bd1ebfa50d2f\" xlink:actuate=\"onRequest\" xlink:href=\"psysml:2a0424ca-0ea8-4c9d-a1b7-bd1ebfa50d2f\" xlink:show=\"new\" xlink:title=\"psysml:2a0424ca-0ea8-4c9d-a1b7-bd1ebfa50d2f\" xlink:type=\"simple\"><polygon fill=\"#FFFFFF\" filter=\"url(#flsrd3s27pd9a)\" points=\"16,6,97,6,104,28.2969,279,28.2969,279,342,16,342,16,6\" style=\"stroke: #000000; stroke-width: 1.5;\"/><line style=\"stroke: #000000; stroke-width: 1.5;\" x1=\"16\" x2=\"104\" y1=\"28.2969\" y2=\"28.2969\"/><text fill=\"#000000\" font-family=\"sans-serif\" font-size=\"14\" font-weight=\"bold\" lengthAdjust=\"spacingAndGlyphs\" textLength=\"75\" x=\"20\" y=\"20.9951\">AliasImport</text></a><!--MD5=[e4f7fae6ed58524ba242bb0b0d3be6b7]\n",
       "cluster E2--><a href=\"psysml:1b261b72-bc02-4122-a178-845f71db1598\" target=\"_top\" title=\"psysml:1b261b72-bc02-4122-a178-845f71db1598\" xlink:actuate=\"onRequest\" xlink:href=\"psysml:1b261b72-bc02-4122-a178-845f71db1598\" xlink:show=\"new\" xlink:title=\"psysml:1b261b72-bc02-4122-a178-845f71db1598\" xlink:type=\"simple\"><polygon fill=\"#FFFFFF\" filter=\"url(#flsrd3s27pd9a)\" points=\"68,227,147,227,154,249.2969,178,249.2969,178,318,68,318,68,227\" style=\"stroke: #000000; stroke-width: 1.5;\"/><line style=\"stroke: #000000; stroke-width: 1.5;\" x1=\"68\" x2=\"154\" y1=\"249.2969\" y2=\"249.2969\"/><text fill=\"#000000\" font-family=\"sans-serif\" font-size=\"14\" font-weight=\"bold\" lengthAdjust=\"spacingAndGlyphs\" textLength=\"73\" x=\"72\" y=\"241.9951\">Definitions</text></a><!--MD5=[f6df4d0ebaf0b5dfb2ced0ae5af7c670]\n",
       "cluster E4--><a href=\"psysml:944b5b0e-65e9-4e4f-876e-9affde2d942d\" target=\"_top\" title=\"psysml:944b5b0e-65e9-4e4f-876e-9affde2d942d\" xlink:actuate=\"onRequest\" xlink:href=\"psysml:944b5b0e-65e9-4e4f-876e-9affde2d942d\" xlink:show=\"new\" xlink:title=\"psysml:944b5b0e-65e9-4e4f-876e-9affde2d942d\" xlink:type=\"simple\"><polygon fill=\"#FFFFFF\" filter=\"url(#flsrd3s27pd9a)\" points=\"48,57,106,57,113,79.2969,247,79.2969,247,170,48,170,48,57\" style=\"stroke: #000000; stroke-width: 1.5;\"/><line style=\"stroke: #000000; stroke-width: 1.5;\" x1=\"48\" x2=\"113\" y1=\"79.2969\" y2=\"79.2969\"/><text fill=\"#000000\" font-family=\"sans-serif\" font-size=\"14\" font-weight=\"bold\" lengthAdjust=\"spacingAndGlyphs\" textLength=\"52\" x=\"52\" y=\"71.9951\">Usages</text></a><!--MD5=[09b614a08d8cba4a07c9adeb5e0fee81]\n",
       "class E3--><a href=\"psysml:0e061c30-2d05-4525-ad81-a01ef286857e\" target=\"_top\" title=\"psysml:0e061c30-2d05-4525-ad81-a01ef286857e\" xlink:actuate=\"onRequest\" xlink:href=\"psysml:0e061c30-2d05-4525-ad81-a01ef286857e\" xlink:show=\"new\" xlink:title=\"psysml:0e061c30-2d05-4525-ad81-a01ef286857e\" xlink:type=\"simple\"><rect fill=\"#FEFECE\" filter=\"url(#flsrd3s27pd9a)\" height=\"40\" id=\"E3\" style=\"stroke: #A80036; stroke-width: 1.5;\" width=\"77\" x=\"84.5\" y=\"262\"/><ellipse cx=\"99.5\" cy=\"278\" fill=\"#008000\" rx=\"11\" ry=\"11\" style=\"stroke: #A80036; stroke-width: 1.0;\"/><path d=\"M96.375,283 L96.375,272.4063 L99.6094,272.4063 Q101.5156,272.4063 102.4219,273.1563 Q103.3438,273.9063 103.3438,275.0781 Q103.3438,275.7656 102.9531,276.4219 Q102.5781,277.0781 101.8594,277.375 Q102.7188,277.75 103.2344,278.4375 Q103.75,279.125 103.75,279.9375 Q103.75,281.3125 102.7188,282.1563 Q101.7031,283 99.5938,283 L96.375,283 Z M98.2969,276.6406 L99.4531,276.6406 Q100.5781,276.6406 100.9844,276.2656 Q101.4063,275.875 101.4063,275.25 Q101.4063,274.6719 100.9844,274.3125 Q100.5625,273.9531 99.625,273.9531 L98.2969,273.9531 L98.2969,276.6406 Z M98.2969,281.4219 L99.7969,281.4219 Q100.7031,281.4219 101.2344,281.0313 Q101.7656,280.6406 101.7656,279.8906 Q101.7656,279.125 101.2656,278.6563 Q100.7656,278.1719 99.5,278.1719 L98.2969,278.1719 L98.2969,281.4219 Z \"/><text fill=\"#000000\" font-family=\"sans-serif\" font-size=\"12\" lengthAdjust=\"spacingAndGlyphs\" textLength=\"45\" x=\"113.5\" y=\"282.1543\">Vehicle</text><line style=\"stroke: #A80036; stroke-width: 1.5;\" x1=\"85.5\" x2=\"160.5\" y1=\"294\" y2=\"294\"/></a><!--MD5=[270fce915f116d4de14055a7c1d9a0f3]\n",
       "class E5--><a href=\"psysml:61c6492a-41aa-4c1c-be1c-3a26db9abbc8\" target=\"_top\" title=\"psysml:61c6492a-41aa-4c1c-be1c-3a26db9abbc8\" xlink:actuate=\"onRequest\" xlink:href=\"psysml:61c6492a-41aa-4c1c-be1c-3a26db9abbc8\" xlink:show=\"new\" xlink:title=\"psysml:61c6492a-41aa-4c1c-be1c-3a26db9abbc8\" xlink:type=\"simple\"><rect fill=\"#FEFECE\" filter=\"url(#flsrd3s27pd9a)\" height=\"45.9375\" id=\"E5\" rx=\"10\" ry=\"10\" style=\"stroke: #A80036; stroke-width: 1.5;\" width=\"132\" x=\"91\" y=\"100\"/><ellipse cx=\"106\" cy=\"118.9688\" fill=\"#32CD32\" rx=\"11\" ry=\"11\" style=\"stroke: #A80036; stroke-width: 1.0;\"/><path d=\"M102.8125,123.9688 L102.8125,113.375 L106.4219,113.375 Q107.6406,113.375 108.4375,113.8125 Q109.2344,114.2344 109.6094,114.9375 Q110,115.6406 110,116.4844 Q110,117.3281 109.625,118.0156 Q109.2656,118.7031 108.4688,119.125 Q107.6875,119.5313 106.5,119.5313 L104.7656,119.5313 L104.7656,123.9688 L102.8125,123.9688 Z M104.7656,117.9375 L106.375,117.9375 Q107.1875,117.9375 107.6094,117.5313 Q108.0313,117.125 108.0313,116.4844 Q108.0313,115.8594 107.6094,115.4531 Q107.1875,115.0469 106.3906,115.0469 L104.7656,115.0469 L104.7656,117.9375 Z \"/><text fill=\"#000000\" font-family=\"sans-serif\" font-size=\"12\" font-style=\"italic\" lengthAdjust=\"spacingAndGlyphs\" textLength=\"40\" x=\"150\" y=\"116.1387\">«part»</text><text fill=\"#000000\" font-family=\"sans-serif\" font-size=\"12\" lengthAdjust=\"spacingAndGlyphs\" textLength=\"96\" x=\"120\" y=\"130.1074\">vehicle: Vehicle</text><line style=\"stroke: #A80036; stroke-width: 1.5;\" x1=\"92\" x2=\"222\" y1=\"137.9375\" y2=\"137.9375\"/></a><!--MD5=[f0cdf4548168e5211fb3a02bf679d63a]\n",
       "link E4 to E3--><a href=\"psysml:ef5e87d6-f969-4b16-bad6-f15ecd335219\" target=\"_top\" title=\"psysml:ef5e87d6-f969-4b16-bad6-f15ecd335219\" xlink:actuate=\"onRequest\" xlink:href=\"psysml:ef5e87d6-f969-4b16-bad6-f15ecd335219\" xlink:show=\"new\" xlink:title=\"psysml:ef5e87d6-f969-4b16-bad6-f15ecd335219\" xlink:type=\"simple\"><path d=\"M64.7031,170.0373 C64.7389,170.1824 64.7749,170.3277 64.8109,170.4731 C64.9551,171.0548 65.1012,171.6384 65.2493,172.2237 C65.5455,173.3944 65.8496,174.572 66.1615,175.7548 C66.7854,178.1203 67.4411,180.5064 68.1292,182.8989 C70.8819,192.4688 74.155,202.14 78,211 C85.13,227.43 95.91,244.37 105.13,257.46 \" fill=\"none\" id=\"E4-&gt;E3\" style=\"stroke: #A80036; stroke-width: 1.0; stroke-dasharray: 7.0,7.0;\"/><polygon fill=\"#A80036\" points=\"108.19,261.75,106.2042,252.1034,105.2798,257.6842,99.699,256.7598,108.19,261.75\" style=\"stroke: #A80036; stroke-width: 1.0;\"/><text fill=\"#000000\" font-family=\"sans-serif\" font-size=\"13\" lengthAdjust=\"spacingAndGlyphs\" textLength=\"58\" x=\"79\" y=\"207.0669\">«import»</text></a><!--MD5=[e9be52314489bd878ff4c7144b63c9e1]\n",
       "link E5 to E3--><a href=\"psysml:144792e9-f989-4dc0-84af-44c5bd60762e\" target=\"_top\" title=\"psysml:144792e9-f989-4dc0-84af-44c5bd60762e\" xlink:actuate=\"onRequest\" xlink:href=\"psysml:144792e9-f989-4dc0-84af-44c5bd60762e\" xlink:show=\"new\" xlink:title=\"psysml:144792e9-f989-4dc0-84af-44c5bd60762e\" xlink:type=\"simple\"><path d=\"M155.39,146.01 C153.82,163.72 150.92,189.17 146,211 C143.65,221.45 140.37,232.55 137.03,242.76 \" fill=\"none\" id=\"E5-&gt;E3\" style=\"stroke: #A80036; stroke-width: 1.0;\"/><polygon fill=\"#FFFFFF\" points=\"130.35,261.97,129.9691,241.7251,143.1946,246.317,130.35,261.97\" style=\"stroke: #A80036; stroke-width: 1.0;\"/><ellipse cx=\"133.7281\" cy=\"236.9964\" fill=\"#A80036\" rx=\"2\" ry=\"2\" style=\"stroke: #A80036; stroke-width: 1.0;\"/><ellipse cx=\"143.1749\" cy=\"240.2764\" fill=\"#A80036\" rx=\"2\" ry=\"2\" style=\"stroke: #A80036; stroke-width: 1.0;\"/></a><!--MD5=[250ca708eba0f6a9d1e8bd55ca284daf]\n",
       "@startuml\r\n",
       " \r\n",
       "package \"AliasImport\" as E1  [[psysml:2a0424ca-0ea8-4c9d-a1b7-bd1ebfa50d2f ]]  {\r\n",
       "package \"Definitions\" as E2  [[psysml:1b261b72-bc02-4122-a178-845f71db1598 ]]  {\r\n",
       "comp def \"Vehicle\" as E3 << << (B,green) >> [[psysml:0e061c30-2d05-4525-ad81-a01ef286857e ]] {\r\n",
       "}\r\n",
       "}\r\n",
       "package \"Usages\" as E4  [[psysml:944b5b0e-65e9-4e4f-876e-9affde2d942d ]]  {\r\n",
       "comp usage \"vehicle: Vehicle \" as E5 << << (P,limegreen) part>> [[psysml:61c6492a-41aa-4c1c-be1c-3a26db9abbc8 ]] {\r\n",
       "}\r\n",
       "}\r\n",
       "}\r\n",
       "E4 ..> E3 [[psysml:ef5e87d6-f969-4b16-bad6-f15ecd335219 ]] : <<import>>\r\n",
       "E5 - -:|> E3 [[psysml:144792e9-f989-4dc0-84af-44c5bd60762e ]] \r\n",
       "@enduml\r\n",
       "\n",
       "PlantUML version 1.2020.13(Sat Jun 13 12:26:38 UTC 2020)\n",
       "(EPL source distribution)\n",
       "Java Runtime: OpenJDK Runtime Environment\n",
       "JVM: OpenJDK 64-Bit Server VM\n",
       "Default Encoding: UTF-8\n",
       "Language: en\n",
       "Country: null\n",
       "--></g></svg>"
      ]
     },
     "execution_count": 30,
     "metadata": {},
     "output_type": "execute_result"
    }
   ],
   "source": [
    "%viz --style=\"PLANTUML\" --view=\"Default\" \"AliasImport\""
   ]
  },
  {
   "cell_type": "code",
   "execution_count": 31,
   "id": "ae20119c",
   "metadata": {
    "execution": {
     "iopub.execute_input": "2022-05-19T08:46:17.171662Z",
     "iopub.status.busy": "2022-05-19T08:46:17.171196Z",
     "iopub.status.idle": "2022-05-19T08:46:17.202567Z",
     "shell.execute_reply": "2022-05-19T08:46:17.202873Z"
    }
   },
   "outputs": [
    {
     "data": {
      "image/svg+xml": [
       "<?xml version=\"1.0\" encoding=\"UTF-8\" standalone=\"no\"?><svg xmlns=\"http://www.w3.org/2000/svg\" xmlns:xlink=\"http://www.w3.org/1999/xlink\" contentScriptType=\"application/ecmascript\" contentStyleType=\"text/css\" height=\"354px\" preserveAspectRatio=\"none\" style=\"width:301px;height:354px;\" version=\"1.1\" viewBox=\"0 0 301 354\" width=\"301px\" zoomAndPan=\"magnify\"><defs><filter height=\"300%\" id=\"flsrd3s27pd9a\" width=\"300%\" x=\"-1\" y=\"-1\"><feGaussianBlur result=\"blurOut\" stdDeviation=\"2.0\"/><feColorMatrix in=\"blurOut\" result=\"blurOut2\" type=\"matrix\" values=\"0 0 0 0 0 0 0 0 0 0 0 0 0 0 0 0 0 0 .4 0\"/><feOffset dx=\"4.0\" dy=\"4.0\" in=\"blurOut2\" result=\"blurOut3\"/><feBlend in=\"SourceGraphic\" in2=\"blurOut3\" mode=\"normal\"/></filter></defs><g><!--MD5=[fbc87193dbaf4d95561dea2c320d4a47]\n",
       "cluster E1--><a href=\"psysml:2a0424ca-0ea8-4c9d-a1b7-bd1ebfa50d2f\" target=\"_top\" title=\"psysml:2a0424ca-0ea8-4c9d-a1b7-bd1ebfa50d2f\" xlink:actuate=\"onRequest\" xlink:href=\"psysml:2a0424ca-0ea8-4c9d-a1b7-bd1ebfa50d2f\" xlink:show=\"new\" xlink:title=\"psysml:2a0424ca-0ea8-4c9d-a1b7-bd1ebfa50d2f\" xlink:type=\"simple\"><polygon fill=\"#FFFFFF\" filter=\"url(#flsrd3s27pd9a)\" points=\"16,6,97,6,104,28.2969,279,28.2969,279,342,16,342,16,6\" style=\"stroke: #000000; stroke-width: 1.5;\"/><line style=\"stroke: #000000; stroke-width: 1.5;\" x1=\"16\" x2=\"104\" y1=\"28.2969\" y2=\"28.2969\"/><text fill=\"#000000\" font-family=\"sans-serif\" font-size=\"14\" font-weight=\"bold\" lengthAdjust=\"spacingAndGlyphs\" textLength=\"75\" x=\"20\" y=\"20.9951\">AliasImport</text></a><!--MD5=[e4f7fae6ed58524ba242bb0b0d3be6b7]\n",
       "cluster E2--><a href=\"psysml:1b261b72-bc02-4122-a178-845f71db1598\" target=\"_top\" title=\"psysml:1b261b72-bc02-4122-a178-845f71db1598\" xlink:actuate=\"onRequest\" xlink:href=\"psysml:1b261b72-bc02-4122-a178-845f71db1598\" xlink:show=\"new\" xlink:title=\"psysml:1b261b72-bc02-4122-a178-845f71db1598\" xlink:type=\"simple\"><polygon fill=\"#FFFFFF\" filter=\"url(#flsrd3s27pd9a)\" points=\"68,227,147,227,154,249.2969,178,249.2969,178,318,68,318,68,227\" style=\"stroke: #000000; stroke-width: 1.5;\"/><line style=\"stroke: #000000; stroke-width: 1.5;\" x1=\"68\" x2=\"154\" y1=\"249.2969\" y2=\"249.2969\"/><text fill=\"#000000\" font-family=\"sans-serif\" font-size=\"14\" font-weight=\"bold\" lengthAdjust=\"spacingAndGlyphs\" textLength=\"73\" x=\"72\" y=\"241.9951\">Definitions</text></a><!--MD5=[f6df4d0ebaf0b5dfb2ced0ae5af7c670]\n",
       "cluster E4--><a href=\"psysml:944b5b0e-65e9-4e4f-876e-9affde2d942d\" target=\"_top\" title=\"psysml:944b5b0e-65e9-4e4f-876e-9affde2d942d\" xlink:actuate=\"onRequest\" xlink:href=\"psysml:944b5b0e-65e9-4e4f-876e-9affde2d942d\" xlink:show=\"new\" xlink:title=\"psysml:944b5b0e-65e9-4e4f-876e-9affde2d942d\" xlink:type=\"simple\"><polygon fill=\"#FFFFFF\" filter=\"url(#flsrd3s27pd9a)\" points=\"48,57,106,57,113,79.2969,247,79.2969,247,170,48,170,48,57\" style=\"stroke: #000000; stroke-width: 1.5;\"/><line style=\"stroke: #000000; stroke-width: 1.5;\" x1=\"48\" x2=\"113\" y1=\"79.2969\" y2=\"79.2969\"/><text fill=\"#000000\" font-family=\"sans-serif\" font-size=\"14\" font-weight=\"bold\" lengthAdjust=\"spacingAndGlyphs\" textLength=\"52\" x=\"52\" y=\"71.9951\">Usages</text></a><!--MD5=[09b614a08d8cba4a07c9adeb5e0fee81]\n",
       "class E3--><a href=\"psysml:0e061c30-2d05-4525-ad81-a01ef286857e\" target=\"_top\" title=\"psysml:0e061c30-2d05-4525-ad81-a01ef286857e\" xlink:actuate=\"onRequest\" xlink:href=\"psysml:0e061c30-2d05-4525-ad81-a01ef286857e\" xlink:show=\"new\" xlink:title=\"psysml:0e061c30-2d05-4525-ad81-a01ef286857e\" xlink:type=\"simple\"><rect fill=\"#FEFECE\" filter=\"url(#flsrd3s27pd9a)\" height=\"40\" id=\"E3\" style=\"stroke: #A80036; stroke-width: 1.5;\" width=\"77\" x=\"84.5\" y=\"262\"/><ellipse cx=\"99.5\" cy=\"278\" fill=\"#008000\" rx=\"11\" ry=\"11\" style=\"stroke: #A80036; stroke-width: 1.0;\"/><path d=\"M96.375,283 L96.375,272.4063 L99.6094,272.4063 Q101.5156,272.4063 102.4219,273.1563 Q103.3438,273.9063 103.3438,275.0781 Q103.3438,275.7656 102.9531,276.4219 Q102.5781,277.0781 101.8594,277.375 Q102.7188,277.75 103.2344,278.4375 Q103.75,279.125 103.75,279.9375 Q103.75,281.3125 102.7188,282.1563 Q101.7031,283 99.5938,283 L96.375,283 Z M98.2969,276.6406 L99.4531,276.6406 Q100.5781,276.6406 100.9844,276.2656 Q101.4063,275.875 101.4063,275.25 Q101.4063,274.6719 100.9844,274.3125 Q100.5625,273.9531 99.625,273.9531 L98.2969,273.9531 L98.2969,276.6406 Z M98.2969,281.4219 L99.7969,281.4219 Q100.7031,281.4219 101.2344,281.0313 Q101.7656,280.6406 101.7656,279.8906 Q101.7656,279.125 101.2656,278.6563 Q100.7656,278.1719 99.5,278.1719 L98.2969,278.1719 L98.2969,281.4219 Z \"/><text fill=\"#000000\" font-family=\"sans-serif\" font-size=\"12\" lengthAdjust=\"spacingAndGlyphs\" textLength=\"45\" x=\"113.5\" y=\"282.1543\">Vehicle</text><line style=\"stroke: #A80036; stroke-width: 1.5;\" x1=\"85.5\" x2=\"160.5\" y1=\"294\" y2=\"294\"/></a><!--MD5=[270fce915f116d4de14055a7c1d9a0f3]\n",
       "class E5--><a href=\"psysml:61c6492a-41aa-4c1c-be1c-3a26db9abbc8\" target=\"_top\" title=\"psysml:61c6492a-41aa-4c1c-be1c-3a26db9abbc8\" xlink:actuate=\"onRequest\" xlink:href=\"psysml:61c6492a-41aa-4c1c-be1c-3a26db9abbc8\" xlink:show=\"new\" xlink:title=\"psysml:61c6492a-41aa-4c1c-be1c-3a26db9abbc8\" xlink:type=\"simple\"><rect fill=\"#FEFECE\" filter=\"url(#flsrd3s27pd9a)\" height=\"45.9375\" id=\"E5\" rx=\"10\" ry=\"10\" style=\"stroke: #A80036; stroke-width: 1.5;\" width=\"132\" x=\"91\" y=\"100\"/><ellipse cx=\"106\" cy=\"118.9688\" fill=\"#32CD32\" rx=\"11\" ry=\"11\" style=\"stroke: #A80036; stroke-width: 1.0;\"/><path d=\"M102.8125,123.9688 L102.8125,113.375 L106.4219,113.375 Q107.6406,113.375 108.4375,113.8125 Q109.2344,114.2344 109.6094,114.9375 Q110,115.6406 110,116.4844 Q110,117.3281 109.625,118.0156 Q109.2656,118.7031 108.4688,119.125 Q107.6875,119.5313 106.5,119.5313 L104.7656,119.5313 L104.7656,123.9688 L102.8125,123.9688 Z M104.7656,117.9375 L106.375,117.9375 Q107.1875,117.9375 107.6094,117.5313 Q108.0313,117.125 108.0313,116.4844 Q108.0313,115.8594 107.6094,115.4531 Q107.1875,115.0469 106.3906,115.0469 L104.7656,115.0469 L104.7656,117.9375 Z \"/><text fill=\"#000000\" font-family=\"sans-serif\" font-size=\"12\" font-style=\"italic\" lengthAdjust=\"spacingAndGlyphs\" textLength=\"40\" x=\"150\" y=\"116.1387\">«part»</text><text fill=\"#000000\" font-family=\"sans-serif\" font-size=\"12\" lengthAdjust=\"spacingAndGlyphs\" textLength=\"96\" x=\"120\" y=\"130.1074\">vehicle: Vehicle</text><line style=\"stroke: #A80036; stroke-width: 1.5;\" x1=\"92\" x2=\"222\" y1=\"137.9375\" y2=\"137.9375\"/></a><!--MD5=[f0cdf4548168e5211fb3a02bf679d63a]\n",
       "link E4 to E3--><a href=\"psysml:ef5e87d6-f969-4b16-bad6-f15ecd335219\" target=\"_top\" title=\"psysml:ef5e87d6-f969-4b16-bad6-f15ecd335219\" xlink:actuate=\"onRequest\" xlink:href=\"psysml:ef5e87d6-f969-4b16-bad6-f15ecd335219\" xlink:show=\"new\" xlink:title=\"psysml:ef5e87d6-f969-4b16-bad6-f15ecd335219\" xlink:type=\"simple\"><path d=\"M64.7031,170.0373 C64.7389,170.1824 64.7749,170.3277 64.8109,170.4731 C64.9551,171.0548 65.1012,171.6384 65.2493,172.2237 C65.5455,173.3944 65.8496,174.572 66.1615,175.7548 C66.7854,178.1203 67.4411,180.5064 68.1292,182.8989 C70.8819,192.4688 74.155,202.14 78,211 C85.13,227.43 95.91,244.37 105.13,257.46 \" fill=\"none\" id=\"E4-&gt;E3\" style=\"stroke: #A80036; stroke-width: 1.0; stroke-dasharray: 7.0,7.0;\"/><polygon fill=\"#A80036\" points=\"108.19,261.75,106.2042,252.1034,105.2798,257.6842,99.699,256.7598,108.19,261.75\" style=\"stroke: #A80036; stroke-width: 1.0;\"/><text fill=\"#000000\" font-family=\"sans-serif\" font-size=\"13\" lengthAdjust=\"spacingAndGlyphs\" textLength=\"58\" x=\"79\" y=\"207.0669\">«import»</text></a><!--MD5=[e9be52314489bd878ff4c7144b63c9e1]\n",
       "link E5 to E3--><a href=\"psysml:144792e9-f989-4dc0-84af-44c5bd60762e\" target=\"_top\" title=\"psysml:144792e9-f989-4dc0-84af-44c5bd60762e\" xlink:actuate=\"onRequest\" xlink:href=\"psysml:144792e9-f989-4dc0-84af-44c5bd60762e\" xlink:show=\"new\" xlink:title=\"psysml:144792e9-f989-4dc0-84af-44c5bd60762e\" xlink:type=\"simple\"><path d=\"M155.39,146.01 C153.82,163.72 150.92,189.17 146,211 C143.65,221.45 140.37,232.55 137.03,242.76 \" fill=\"none\" id=\"E5-&gt;E3\" style=\"stroke: #A80036; stroke-width: 1.0;\"/><polygon fill=\"#FFFFFF\" points=\"130.35,261.97,129.9691,241.7251,143.1946,246.317,130.35,261.97\" style=\"stroke: #A80036; stroke-width: 1.0;\"/><ellipse cx=\"133.7281\" cy=\"236.9964\" fill=\"#A80036\" rx=\"2\" ry=\"2\" style=\"stroke: #A80036; stroke-width: 1.0;\"/><ellipse cx=\"143.1749\" cy=\"240.2764\" fill=\"#A80036\" rx=\"2\" ry=\"2\" style=\"stroke: #A80036; stroke-width: 1.0;\"/></a><!--MD5=[250ca708eba0f6a9d1e8bd55ca284daf]\n",
       "@startuml\r\n",
       " \r\n",
       "package \"AliasImport\" as E1  [[psysml:2a0424ca-0ea8-4c9d-a1b7-bd1ebfa50d2f ]]  {\r\n",
       "package \"Definitions\" as E2  [[psysml:1b261b72-bc02-4122-a178-845f71db1598 ]]  {\r\n",
       "comp def \"Vehicle\" as E3 << << (B,green) >> [[psysml:0e061c30-2d05-4525-ad81-a01ef286857e ]] {\r\n",
       "}\r\n",
       "}\r\n",
       "package \"Usages\" as E4  [[psysml:944b5b0e-65e9-4e4f-876e-9affde2d942d ]]  {\r\n",
       "comp usage \"vehicle: Vehicle \" as E5 << << (P,limegreen) part>> [[psysml:61c6492a-41aa-4c1c-be1c-3a26db9abbc8 ]] {\r\n",
       "}\r\n",
       "}\r\n",
       "}\r\n",
       "E4 ..> E3 [[psysml:ef5e87d6-f969-4b16-bad6-f15ecd335219 ]] : <<import>>\r\n",
       "E5 - -:|> E3 [[psysml:144792e9-f989-4dc0-84af-44c5bd60762e ]] \r\n",
       "@enduml\r\n",
       "\n",
       "PlantUML version 1.2020.13(Sat Jun 13 12:26:38 UTC 2020)\n",
       "(EPL source distribution)\n",
       "Java Runtime: OpenJDK Runtime Environment\n",
       "JVM: OpenJDK 64-Bit Server VM\n",
       "Default Encoding: UTF-8\n",
       "Language: en\n",
       "Country: null\n",
       "--></g></svg>"
      ]
     },
     "execution_count": 31,
     "metadata": {},
     "output_type": "execute_result"
    }
   ],
   "source": [
    "%viz --style=\"PLANTUML\" --view=\"Tree\" \"AliasImport\""
   ]
  },
  {
   "cell_type": "code",
   "execution_count": 32,
   "id": "eb0e1e69",
   "metadata": {
    "execution": {
     "iopub.execute_input": "2022-05-19T08:46:17.253198Z",
     "iopub.status.busy": "2022-05-19T08:46:17.252563Z",
     "iopub.status.idle": "2022-05-19T08:46:17.345673Z",
     "shell.execute_reply": "2022-05-19T08:46:17.344258Z"
    }
   },
   "outputs": [
    {
     "data": {
      "image/svg+xml": [
       "<?xml version=\"1.0\" encoding=\"UTF-8\" standalone=\"no\"?><svg xmlns=\"http://www.w3.org/2000/svg\" xmlns:xlink=\"http://www.w3.org/1999/xlink\" contentScriptType=\"application/ecmascript\" contentStyleType=\"text/css\" height=\"300px\" preserveAspectRatio=\"none\" style=\"width:603px;height:300px;background:#000000;\" version=\"1.1\" viewBox=\"0 0 603 300\" width=\"603px\" zoomAndPan=\"magnify\"><defs/><g><rect fill=\"#22160A\" height=\"1\" style=\"stroke: #22160A; stroke-width: 1.0;\" width=\"1\" x=\"0\" y=\"0\"/><rect fill=\"#FFFFFF\" height=\"202.8012\" style=\"stroke: #FFFFFF; stroke-width: 1.0;\" width=\"602\" x=\"0\" y=\"0\"/><text fill=\"#000000\" font-family=\"sans-serif\" font-size=\"12\" font-weight=\"bold\" lengthAdjust=\"spacingAndGlyphs\" textLength=\"139\" x=\"5\" y=\"16.1387\">Welcome to PlantUML!</text><text fill=\"#000000\" font-family=\"sans-serif\" font-size=\"12\" lengthAdjust=\"spacingAndGlyphs\" textLength=\"0\" x=\"9\" y=\"30.1074\"/><text fill=\"#000000\" font-family=\"sans-serif\" font-size=\"12\" lengthAdjust=\"spacingAndGlyphs\" textLength=\"293\" x=\"5\" y=\"44.0762\">If you use this software, you accept its license.</text><text fill=\"#000000\" font-family=\"sans-serif\" font-size=\"12\" lengthAdjust=\"spacingAndGlyphs\" textLength=\"107\" x=\"5\" y=\"58.0449\">(details by typing</text><text fill=\"#000000\" font-family=\"monospace\" font-size=\"12\" lengthAdjust=\"spacingAndGlyphs\" textLength=\"42\" x=\"116\" y=\"58.595\">license</text><text fill=\"#000000\" font-family=\"sans-serif\" font-size=\"12\" lengthAdjust=\"spacingAndGlyphs\" textLength=\"56\" x=\"162\" y=\"58.0449\">keyword)</text><text fill=\"#000000\" font-family=\"sans-serif\" font-size=\"12\" lengthAdjust=\"spacingAndGlyphs\" textLength=\"0\" x=\"9\" y=\"72.0137\"/><text fill=\"#000000\" font-family=\"sans-serif\" font-size=\"12\" lengthAdjust=\"spacingAndGlyphs\" textLength=\"283\" x=\"5\" y=\"85.9824\">You can start with a simple UML Diagram like:</text><text fill=\"#000000\" font-family=\"sans-serif\" font-size=\"12\" lengthAdjust=\"spacingAndGlyphs\" textLength=\"0\" x=\"9\" y=\"99.9512\"/><text fill=\"#000000\" font-family=\"monospace\" font-size=\"12\" lengthAdjust=\"spacingAndGlyphs\" textLength=\"102\" x=\"5\" y=\"113.0893\">Bob-&gt;Alice: Hello</text><text fill=\"#000000\" font-family=\"sans-serif\" font-size=\"12\" lengthAdjust=\"spacingAndGlyphs\" textLength=\"0\" x=\"9\" y=\"126.508\"/><text fill=\"#000000\" font-family=\"sans-serif\" font-size=\"12\" lengthAdjust=\"spacingAndGlyphs\" textLength=\"14\" x=\"5\" y=\"140.4768\">Or</text><text fill=\"#000000\" font-family=\"sans-serif\" font-size=\"12\" lengthAdjust=\"spacingAndGlyphs\" textLength=\"0\" x=\"9\" y=\"154.4455\"/><text fill=\"#000000\" font-family=\"monospace\" font-size=\"12\" lengthAdjust=\"spacingAndGlyphs\" textLength=\"78\" x=\"5\" y=\"167.5837\">class Example</text><text fill=\"#000000\" font-family=\"sans-serif\" font-size=\"12\" lengthAdjust=\"spacingAndGlyphs\" textLength=\"0\" x=\"9\" y=\"181.0023\"/><text fill=\"#000000\" font-family=\"sans-serif\" font-size=\"12\" lengthAdjust=\"spacingAndGlyphs\" textLength=\"349\" x=\"5\" y=\"194.9711\">You will find more information about PlantUML syntax on</text><text fill=\"#000000\" font-family=\"sans-serif\" font-size=\"12\" lengthAdjust=\"spacingAndGlyphs\" text-decoration=\"underline\" textLength=\"129\" x=\"358\" y=\"194.9711\">https://plantuml.com</text><image height=\"71\" width=\"80\" x=\"516\" xlink:href=\"data:image/png;base64,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\" y=\"6\"/><rect fill=\"#000000\" height=\"96.4844\" style=\"stroke: #000000; stroke-width: 1.0;\" width=\"602\" x=\"0\" y=\"202.8012\"/><rect fill=\"#33FF02\" height=\"21.2969\" style=\"stroke: #33FF02; stroke-width: 1.0;\" width=\"145\" x=\"5\" y=\"207.8012\"/><text fill=\"#000000\" font-family=\"sans-serif\" font-size=\"14\" font-weight=\"bold\" lengthAdjust=\"spacingAndGlyphs\" textLength=\"143\" x=\"6\" y=\"222.8012\">[From string (line 2) ]</text><text fill=\"#33FF02\" font-family=\"sans-serif\" font-size=\"14\" font-weight=\"bold\" lengthAdjust=\"spacingAndGlyphs\" textLength=\"0\" x=\"9\" y=\"243.0981\"/><text fill=\"#33FF02\" font-family=\"sans-serif\" font-size=\"14\" font-weight=\"bold\" lengthAdjust=\"spacingAndGlyphs\" textLength=\"70\" x=\"5\" y=\"259.3949\">@startuml</text><text fill=\"#33FF02\" font-family=\"sans-serif\" font-size=\"14\" font-weight=\"bold\" lengthAdjust=\"spacingAndGlyphs\" textLength=\"0\" x=\"9\" y=\"275.6918\"/><text fill=\"#FF0000\" font-family=\"sans-serif\" font-size=\"14\" font-weight=\"bold\" lengthAdjust=\"spacingAndGlyphs\" textLength=\"124\" x=\"9\" y=\"291.9887\">Empty description</text><!--MD5=[f59edd8218d337f74d0c332fc6737304]\n",
       "@startuml\r\n",
       " \r\n",
       "@enduml\r\n",
       "\n",
       "PlantUML version 1.2020.13(Sat Jun 13 12:26:38 UTC 2020)\n",
       "(EPL source distribution)\n",
       "Java Runtime: OpenJDK Runtime Environment\n",
       "JVM: OpenJDK 64-Bit Server VM\n",
       "Default Encoding: UTF-8\n",
       "Language: en\n",
       "Country: null\n",
       "--></g></svg>"
      ]
     },
     "execution_count": 32,
     "metadata": {},
     "output_type": "execute_result"
    }
   ],
   "source": [
    "%viz --style=\"PLANTUML\" --view=\"State\" \"AliasImport\""
   ]
  },
  {
   "cell_type": "code",
   "execution_count": 33,
   "id": "9ea2d14d",
   "metadata": {
    "execution": {
     "iopub.execute_input": "2022-05-19T08:46:17.395124Z",
     "iopub.status.busy": "2022-05-19T08:46:17.394629Z",
     "iopub.status.idle": "2022-05-19T08:46:17.414130Z",
     "shell.execute_reply": "2022-05-19T08:46:17.412675Z"
    }
   },
   "outputs": [
    {
     "data": {
      "image/svg+xml": [
       "<?xml version=\"1.0\" encoding=\"UTF-8\" standalone=\"no\"?><svg xmlns=\"http://www.w3.org/2000/svg\" xmlns:xlink=\"http://www.w3.org/1999/xlink\" contentScriptType=\"application/ecmascript\" contentStyleType=\"text/css\" height=\"348px\" preserveAspectRatio=\"none\" style=\"width:317px;height:348px;\" version=\"1.1\" viewBox=\"0 0 317 348\" width=\"317px\" zoomAndPan=\"magnify\"><defs><filter height=\"300%\" id=\"f16fd7dlw6rfi4\" width=\"300%\" x=\"-1\" y=\"-1\"><feGaussianBlur result=\"blurOut\" stdDeviation=\"2.0\"/><feColorMatrix in=\"blurOut\" result=\"blurOut2\" type=\"matrix\" values=\"0 0 0 0 0 0 0 0 0 0 0 0 0 0 0 0 0 0 .4 0\"/><feOffset dx=\"4.0\" dy=\"4.0\" in=\"blurOut2\" result=\"blurOut3\"/><feBlend in=\"SourceGraphic\" in2=\"blurOut3\" mode=\"normal\"/></filter></defs><g><!--MD5=[fbc87193dbaf4d95561dea2c320d4a47]\n",
       "cluster E1--><a href=\"psysml:2a0424ca-0ea8-4c9d-a1b7-bd1ebfa50d2f\" target=\"_top\" title=\"psysml:2a0424ca-0ea8-4c9d-a1b7-bd1ebfa50d2f\" xlink:actuate=\"onRequest\" xlink:href=\"psysml:2a0424ca-0ea8-4c9d-a1b7-bd1ebfa50d2f\" xlink:show=\"new\" xlink:title=\"psysml:2a0424ca-0ea8-4c9d-a1b7-bd1ebfa50d2f\" xlink:type=\"simple\"><polygon fill=\"#FFFFFF\" filter=\"url(#f16fd7dlw6rfi4)\" points=\"16,6,97,6,104,28.2969,295,28.2969,295,336,16,336,16,6\" style=\"stroke: #000000; stroke-width: 1.5;\"/><line style=\"stroke: #000000; stroke-width: 1.5;\" x1=\"16\" x2=\"104\" y1=\"28.2969\" y2=\"28.2969\"/><text fill=\"#000000\" font-family=\"sans-serif\" font-size=\"14\" font-weight=\"bold\" lengthAdjust=\"spacingAndGlyphs\" textLength=\"75\" x=\"20\" y=\"20.9951\">AliasImport</text></a><!--MD5=[e4f7fae6ed58524ba242bb0b0d3be6b7]\n",
       "cluster E2--><a href=\"psysml:1b261b72-bc02-4122-a178-845f71db1598\" target=\"_top\" title=\"psysml:1b261b72-bc02-4122-a178-845f71db1598\" xlink:actuate=\"onRequest\" xlink:href=\"psysml:1b261b72-bc02-4122-a178-845f71db1598\" xlink:show=\"new\" xlink:title=\"psysml:1b261b72-bc02-4122-a178-845f71db1598\" xlink:type=\"simple\"><polygon fill=\"#FFFFFF\" filter=\"url(#f16fd7dlw6rfi4)\" points=\"40,221,119,221,126,243.2969,271,243.2969,271,312,40,312,40,221\" style=\"stroke: #000000; stroke-width: 1.5;\"/><line style=\"stroke: #000000; stroke-width: 1.5;\" x1=\"40\" x2=\"126\" y1=\"243.2969\" y2=\"243.2969\"/><text fill=\"#000000\" font-family=\"sans-serif\" font-size=\"14\" font-weight=\"bold\" lengthAdjust=\"spacingAndGlyphs\" textLength=\"73\" x=\"44\" y=\"235.9951\">Definitions</text></a><!--MD5=[de5ec2e2e8f62f467e546659f5068c88]\n",
       "cluster E5--><a href=\"psysml:944b5b0e-65e9-4e4f-876e-9affde2d942d\" target=\"_top\" title=\"psysml:944b5b0e-65e9-4e4f-876e-9affde2d942d\" xlink:actuate=\"onRequest\" xlink:href=\"psysml:944b5b0e-65e9-4e4f-876e-9affde2d942d\" xlink:show=\"new\" xlink:title=\"psysml:944b5b0e-65e9-4e4f-876e-9affde2d942d\" xlink:type=\"simple\"><polygon fill=\"#FFFFFF\" filter=\"url(#f16fd7dlw6rfi4)\" points=\"55,57,113,57,120,79.2969,256,79.2969,256,164,55,164,55,57\" style=\"stroke: #000000; stroke-width: 1.5;\"/><line style=\"stroke: #000000; stroke-width: 1.5;\" x1=\"55\" x2=\"120\" y1=\"79.2969\" y2=\"79.2969\"/><text fill=\"#000000\" font-family=\"sans-serif\" font-size=\"14\" font-weight=\"bold\" lengthAdjust=\"spacingAndGlyphs\" textLength=\"52\" x=\"59\" y=\"71.9951\">Usages</text></a><g id=\"E1.E2.E3\"><a href=\"psysml:0e061c30-2d05-4525-ad81-a01ef286857e\" target=\"_top\" title=\"psysml:0e061c30-2d05-4525-ad81-a01ef286857e\" xlink:actuate=\"onRequest\" xlink:href=\"psysml:0e061c30-2d05-4525-ad81-a01ef286857e\" xlink:show=\"new\" xlink:title=\"psysml:0e061c30-2d05-4525-ad81-a01ef286857e\" xlink:type=\"simple\"><rect fill=\"#FEFECE\" filter=\"url(#f16fd7dlw6rfi4)\" height=\"40\" id=\"E3\" style=\"stroke: #A80036; stroke-width: 1.5;\" width=\"82\" x=\"173\" y=\"256\"/><ellipse cx=\"190.25\" cy=\"272\" fill=\"#008000\" rx=\"11\" ry=\"11\" style=\"stroke: #A80036; stroke-width: 1.0;\"/><path d=\"M187.125,277 L187.125,266.4063 L190.3594,266.4063 Q192.2656,266.4063 193.1719,267.1563 Q194.0938,267.9063 194.0938,269.0781 Q194.0938,269.7656 193.7031,270.4219 Q193.3281,271.0781 192.6094,271.375 Q193.4688,271.75 193.9844,272.4375 Q194.5,273.125 194.5,273.9375 Q194.5,275.3125 193.4688,276.1563 Q192.4531,277 190.3438,277 L187.125,277 Z M189.0469,270.6406 L190.2031,270.6406 Q191.3281,270.6406 191.7344,270.2656 Q192.1563,269.875 192.1563,269.25 Q192.1563,268.6719 191.7344,268.3125 Q191.3125,267.9531 190.375,267.9531 L189.0469,267.9531 L189.0469,270.6406 Z M189.0469,275.4219 L190.5469,275.4219 Q191.4531,275.4219 191.9844,275.0313 Q192.5156,274.6406 192.5156,273.8906 Q192.5156,273.125 192.0156,272.6563 Q191.5156,272.1719 190.25,272.1719 L189.0469,272.1719 L189.0469,275.4219 Z \"/><text fill=\"#000000\" font-family=\"sans-serif\" font-size=\"12\" lengthAdjust=\"spacingAndGlyphs\" textLength=\"45\" x=\"204.75\" y=\"276.1543\">Vehicle</text></a></g><g id=\"E1.E2.E4\"><a href=\"psysml:0e061c30-2d05-4525-ad81-a01ef286857e\" target=\"_top\" title=\"psysml:0e061c30-2d05-4525-ad81-a01ef286857e\" xlink:actuate=\"onRequest\" xlink:href=\"psysml:0e061c30-2d05-4525-ad81-a01ef286857e\" xlink:show=\"new\" xlink:title=\"psysml:0e061c30-2d05-4525-ad81-a01ef286857e\" xlink:type=\"simple\"><rect fill=\"#FEFECE\" filter=\"url(#f16fd7dlw6rfi4)\" height=\"40\" id=\"E4\" style=\"stroke: #A80036; stroke-width: 1.5;\" width=\"82\" x=\"56\" y=\"256\"/><ellipse cx=\"73.25\" cy=\"272\" fill=\"#008000\" rx=\"11\" ry=\"11\" style=\"stroke: #A80036; stroke-width: 1.0;\"/><path d=\"M70.125,277 L70.125,266.4063 L73.3594,266.4063 Q75.2656,266.4063 76.1719,267.1563 Q77.0938,267.9063 77.0938,269.0781 Q77.0938,269.7656 76.7031,270.4219 Q76.3281,271.0781 75.6094,271.375 Q76.4688,271.75 76.9844,272.4375 Q77.5,273.125 77.5,273.9375 Q77.5,275.3125 76.4688,276.1563 Q75.4531,277 73.3438,277 L70.125,277 Z M72.0469,270.6406 L73.2031,270.6406 Q74.3281,270.6406 74.7344,270.2656 Q75.1563,269.875 75.1563,269.25 Q75.1563,268.6719 74.7344,268.3125 Q74.3125,267.9531 73.375,267.9531 L72.0469,267.9531 L72.0469,270.6406 Z M72.0469,275.4219 L73.5469,275.4219 Q74.4531,275.4219 74.9844,275.0313 Q75.5156,274.6406 75.5156,273.8906 Q75.5156,273.125 75.0156,272.6563 Q74.5156,272.1719 73.25,272.1719 L72.0469,272.1719 L72.0469,275.4219 Z \"/><text fill=\"#000000\" font-family=\"sans-serif\" font-size=\"12\" lengthAdjust=\"spacingAndGlyphs\" textLength=\"45\" x=\"87.75\" y=\"276.1543\">Vehicle</text></a></g><g id=\"E1.E5.E6\"><a href=\"psysml:61c6492a-41aa-4c1c-be1c-3a26db9abbc8\" target=\"_top\" title=\"psysml:61c6492a-41aa-4c1c-be1c-3a26db9abbc8\" xlink:actuate=\"onRequest\" xlink:href=\"psysml:61c6492a-41aa-4c1c-be1c-3a26db9abbc8\" xlink:show=\"new\" xlink:title=\"psysml:61c6492a-41aa-4c1c-be1c-3a26db9abbc8\" xlink:type=\"simple\"><rect fill=\"#FEFECE\" filter=\"url(#f16fd7dlw6rfi4)\" height=\"40\" id=\"E6\" rx=\"10\" ry=\"10\" style=\"stroke: #A80036; stroke-width: 1.5;\" width=\"133\" x=\"98.5\" y=\"100\"/><ellipse cx=\"115.75\" cy=\"116\" fill=\"#B6DBBB\" rx=\"11\" ry=\"11\" style=\"stroke: #A80036; stroke-width: 1.0;\"/><path d=\"M115.5,121.4688 Q113.75,121.4688 112.7969,120.4375 Q111.8594,119.3906 111.8594,117.5469 L111.8594,110.6563 L113.9219,110.6563 L113.9219,110.8125 Q113.8281,110.9063 113.7969,111.0469 Q113.7813,111.1719 113.7813,111.4375 L113.7813,117.5625 Q113.7813,118.6563 114.1563,119.2813 Q114.5313,119.9063 115.5156,119.9063 Q116.5,119.9063 116.8906,119.2813 Q117.2813,118.6563 117.2813,117.5156 L117.2813,110.6563 L119.1563,110.6563 L119.1563,117.5 Q119.1563,119.5313 118.125,120.5 Q117.1094,121.4688 115.5,121.4688 Z \"/><text fill=\"#000000\" font-family=\"sans-serif\" font-size=\"12\" lengthAdjust=\"spacingAndGlyphs\" textLength=\"96\" x=\"130.25\" y=\"120.1543\">vehicle: Vehicle</text></a></g><!--MD5=[1c62de2aa5b76f0fb657ff8443a1a700]\n",
       "link E5 to E4--><a href=\"psysml:ef5e87d6-f969-4b16-bad6-f15ecd335219\" target=\"_top\" title=\"psysml:ef5e87d6-f969-4b16-bad6-f15ecd335219\" xlink:actuate=\"onRequest\" xlink:href=\"psysml:ef5e87d6-f969-4b16-bad6-f15ecd335219\" xlink:show=\"new\" xlink:title=\"psysml:ef5e87d6-f969-4b16-bad6-f15ecd335219\" xlink:type=\"simple\"><path d=\"M72.6174,164.5679 C72.6618,164.7689 72.7063,164.9703 72.7508,165.172 C72.8399,165.5755 72.9293,165.9804 73.019,166.3867 C73.3779,168.0122 73.7419,169.6603 74.11,171.3275 C80,198.0025 86.965,229.55 91.65,250.78 \" fill=\"none\" id=\"E5-&gt;E4\" style=\"stroke: #A80036; stroke-width: 1.0; stroke-dasharray: 7.0,7.0;\"/><polygon fill=\"#A80036\" points=\"92.75,255.74,94.7024,246.0866,91.6653,250.8591,86.8929,247.822,92.75,255.74\" style=\"stroke: #A80036; stroke-width: 1.0;\"/><text fill=\"#000000\" font-family=\"sans-serif\" font-size=\"13\" lengthAdjust=\"spacingAndGlyphs\" textLength=\"58\" x=\"82\" y=\"201.0669\">«import»</text></a><!--MD5=[f667431f98296947986a1a7595a31603]\n",
       "link E6 to E4--><a href=\"psysml:144792e9-f989-4dc0-84af-44c5bd60762e\" target=\"_top\" title=\"psysml:144792e9-f989-4dc0-84af-44c5bd60762e\" xlink:actuate=\"onRequest\" xlink:href=\"psysml:144792e9-f989-4dc0-84af-44c5bd60762e\" xlink:show=\"new\" xlink:title=\"psysml:144792e9-f989-4dc0-84af-44c5bd60762e\" xlink:type=\"simple\"><path d=\"M162.84,140.01 C160.36,157.48 155.38,183.81 146,205 C140.73,216.91 133.32,228.88 125.85,239.47 \" fill=\"none\" id=\"E6-&gt;E4\" style=\"stroke: #A80036; stroke-width: 1.0;\"/><polygon fill=\"#FFFFFF\" points=\"113.59,255.73,119.4205,236.3391,130.6073,244.7567,113.59,255.73\" style=\"stroke: #A80036; stroke-width: 1.0;\"/><ellipse cx=\"124.4457\" cy=\"232.987\" fill=\"#A80036\" rx=\"2\" ry=\"2\" style=\"stroke: #A80036; stroke-width: 1.0;\"/><ellipse cx=\"132.4363\" cy=\"238.9996\" fill=\"#A80036\" rx=\"2\" ry=\"2\" style=\"stroke: #A80036; stroke-width: 1.0;\"/></a><!--MD5=[1fe3725a4a9ad0ed2f2bb4a732837cf1]\n",
       "@startuml\r\n",
       "skinparam ranksep 10\r\n",
       "skinparam rectangle {\r\n",
       " backgroundColor<<block>> LightGreen\r\n",
       "}\r\n",
       " \r\n",
       "package \"AliasImport\" as E1  [[psysml:2a0424ca-0ea8-4c9d-a1b7-bd1ebfa50d2f ]]  {\r\n",
       "package \"Definitions\" as E2  [[psysml:1b261b72-bc02-4122-a178-845f71db1598 ]]  {\r\n",
       "rec def \"Vehicle\" as E3 << << (B,green) >> [[psysml:0e061c30-2d05-4525-ad81-a01ef286857e ]] {\r\n",
       "}\r\n",
       "rec def \"Vehicle\" as E4 << << (B,green) >> [[psysml:0e061c30-2d05-4525-ad81-a01ef286857e ]] {\r\n",
       "}\r\n",
       "}\r\n",
       "package \"Usages\" as E5  [[psysml:944b5b0e-65e9-4e4f-876e-9affde2d942d ]]  {\r\n",
       "rec usage \"vehicle: Vehicle\" as E6  [[psysml:61c6492a-41aa-4c1c-be1c-3a26db9abbc8 ]] {\r\n",
       "}\r\n",
       "}\r\n",
       "}\r\n",
       "E5 ..> E4 [[psysml:ef5e87d6-f969-4b16-bad6-f15ecd335219 ]] : <<import>>\r\n",
       "E6 - -:|> E4 [[psysml:144792e9-f989-4dc0-84af-44c5bd60762e ]] \r\n",
       "@enduml\r\n",
       "\n",
       "PlantUML version 1.2020.13(Sat Jun 13 12:26:38 UTC 2020)\n",
       "(EPL source distribution)\n",
       "Java Runtime: OpenJDK Runtime Environment\n",
       "JVM: OpenJDK 64-Bit Server VM\n",
       "Default Encoding: UTF-8\n",
       "Language: en\n",
       "Country: null\n",
       "--></g></svg>"
      ]
     },
     "execution_count": 33,
     "metadata": {},
     "output_type": "execute_result"
    }
   ],
   "source": [
    "%viz --style=\"PLANTUML\" --view=\"Interconnection\" \"AliasImport\""
   ]
  },
  {
   "cell_type": "code",
   "execution_count": 34,
   "id": "13df4db4",
   "metadata": {
    "execution": {
     "iopub.execute_input": "2022-05-19T08:46:17.463500Z",
     "iopub.status.busy": "2022-05-19T08:46:17.463042Z",
     "iopub.status.idle": "2022-05-19T08:46:17.466932Z",
     "shell.execute_reply": "2022-05-19T08:46:17.466500Z"
    }
   },
   "outputs": [
    {
     "data": {
      "image/svg+xml": [
       "<?xml version=\"1.0\" encoding=\"UTF-8\" standalone=\"no\"?><svg xmlns=\"http://www.w3.org/2000/svg\" xmlns:xlink=\"http://www.w3.org/1999/xlink\" contentScriptType=\"application/ecmascript\" contentStyleType=\"text/css\" height=\"12px\" preserveAspectRatio=\"none\" style=\"width:12px;height:12px;\" version=\"1.1\" viewBox=\"0 0 12 12\" width=\"12px\" zoomAndPan=\"magnify\"><defs/><g><!--MD5=[6a4cb978cab31700e1ce5529f947a75d]\n",
       "@startuml\r\n",
       "skinparam ranksep 8\r\n",
       " \r\n",
       "@enduml\r\n",
       "\n",
       "PlantUML version 1.2020.13(Sat Jun 13 12:26:38 UTC 2020)\n",
       "(EPL source distribution)\n",
       "Java Runtime: OpenJDK Runtime Environment\n",
       "JVM: OpenJDK 64-Bit Server VM\n",
       "Default Encoding: UTF-8\n",
       "Language: en\n",
       "Country: null\n",
       "--></g></svg>"
      ]
     },
     "execution_count": 34,
     "metadata": {},
     "output_type": "execute_result"
    }
   ],
   "source": [
    "%viz --style=\"PLANTUML\" --view=\"Action\" \"AliasImport\""
   ]
  },
  {
   "cell_type": "code",
   "execution_count": 35,
   "id": "55071e2e",
   "metadata": {
    "execution": {
     "iopub.execute_input": "2022-05-19T08:46:17.516207Z",
     "iopub.status.busy": "2022-05-19T08:46:17.515743Z",
     "iopub.status.idle": "2022-05-19T08:46:17.521888Z",
     "shell.execute_reply": "2022-05-19T08:46:17.522196Z"
    }
   },
   "outputs": [
    {
     "data": {
      "image/svg+xml": [
       "<?xml version=\"1.0\" encoding=\"UTF-8\" standalone=\"no\"?><svg xmlns=\"http://www.w3.org/2000/svg\" xmlns:xlink=\"http://www.w3.org/1999/xlink\" contentScriptType=\"application/ecmascript\" contentStyleType=\"text/css\" height=\"12px\" preserveAspectRatio=\"none\" style=\"width:12px;height:12px;\" version=\"1.1\" viewBox=\"0 0 12 12\" width=\"12px\" zoomAndPan=\"magnify\"><defs/><g><!--MD5=[ca4faa0b02def275ea33c14ea7a1a98d]\n",
       "@startuml\r\n",
       "skinparam roundcorner 20\r\n",
       "skinparam BoxPadding 20\r\n",
       "skinparam SequenceBoxBackgroundColor #white\r\n",
       "skinparam style strictuml\r\n",
       "skinparam maxMessageSize 100\r\n",
       " \r\n",
       "@enduml\r\n",
       "\n",
       "PlantUML version 1.2020.13(Sat Jun 13 12:26:38 UTC 2020)\n",
       "(EPL source distribution)\n",
       "Java Runtime: OpenJDK Runtime Environment\n",
       "JVM: OpenJDK 64-Bit Server VM\n",
       "Default Encoding: UTF-8\n",
       "Language: en\n",
       "Country: null\n",
       "--></g></svg>"
      ]
     },
     "execution_count": 35,
     "metadata": {},
     "output_type": "execute_result"
    }
   ],
   "source": [
    "%viz --style=\"PLANTUML\" --view=\"Sequence\" \"AliasImport\""
   ]
  },
  {
   "cell_type": "code",
   "execution_count": 36,
   "id": "28882f3d",
   "metadata": {
    "execution": {
     "iopub.execute_input": "2022-05-19T08:46:17.570776Z",
     "iopub.status.busy": "2022-05-19T08:46:17.570116Z",
     "iopub.status.idle": "2022-05-19T08:46:17.600457Z",
     "shell.execute_reply": "2022-05-19T08:46:17.600043Z"
    }
   },
   "outputs": [
    {
     "data": {
      "image/svg+xml": [
       "<?xml version=\"1.0\" encoding=\"UTF-8\" standalone=\"no\"?><svg xmlns=\"http://www.w3.org/2000/svg\" xmlns:xlink=\"http://www.w3.org/1999/xlink\" contentScriptType=\"application/ecmascript\" contentStyleType=\"text/css\" height=\"354px\" preserveAspectRatio=\"none\" style=\"width:301px;height:354px;\" version=\"1.1\" viewBox=\"0 0 301 354\" width=\"301px\" zoomAndPan=\"magnify\"><defs><filter height=\"300%\" id=\"flsrd3s27pd9a\" width=\"300%\" x=\"-1\" y=\"-1\"><feGaussianBlur result=\"blurOut\" stdDeviation=\"2.0\"/><feColorMatrix in=\"blurOut\" result=\"blurOut2\" type=\"matrix\" values=\"0 0 0 0 0 0 0 0 0 0 0 0 0 0 0 0 0 0 .4 0\"/><feOffset dx=\"4.0\" dy=\"4.0\" in=\"blurOut2\" result=\"blurOut3\"/><feBlend in=\"SourceGraphic\" in2=\"blurOut3\" mode=\"normal\"/></filter></defs><g><!--MD5=[fbc87193dbaf4d95561dea2c320d4a47]\n",
       "cluster E1--><a href=\"psysml:2a0424ca-0ea8-4c9d-a1b7-bd1ebfa50d2f\" target=\"_top\" title=\"psysml:2a0424ca-0ea8-4c9d-a1b7-bd1ebfa50d2f\" xlink:actuate=\"onRequest\" xlink:href=\"psysml:2a0424ca-0ea8-4c9d-a1b7-bd1ebfa50d2f\" xlink:show=\"new\" xlink:title=\"psysml:2a0424ca-0ea8-4c9d-a1b7-bd1ebfa50d2f\" xlink:type=\"simple\"><polygon fill=\"#FFFFFF\" filter=\"url(#flsrd3s27pd9a)\" points=\"16,6,97,6,104,28.2969,279,28.2969,279,342,16,342,16,6\" style=\"stroke: #000000; stroke-width: 1.5;\"/><line style=\"stroke: #000000; stroke-width: 1.5;\" x1=\"16\" x2=\"104\" y1=\"28.2969\" y2=\"28.2969\"/><text fill=\"#000000\" font-family=\"sans-serif\" font-size=\"14\" font-weight=\"bold\" lengthAdjust=\"spacingAndGlyphs\" textLength=\"75\" x=\"20\" y=\"20.9951\">AliasImport</text></a><!--MD5=[e4f7fae6ed58524ba242bb0b0d3be6b7]\n",
       "cluster E2--><a href=\"psysml:1b261b72-bc02-4122-a178-845f71db1598\" target=\"_top\" title=\"psysml:1b261b72-bc02-4122-a178-845f71db1598\" xlink:actuate=\"onRequest\" xlink:href=\"psysml:1b261b72-bc02-4122-a178-845f71db1598\" xlink:show=\"new\" xlink:title=\"psysml:1b261b72-bc02-4122-a178-845f71db1598\" xlink:type=\"simple\"><polygon fill=\"#FFFFFF\" filter=\"url(#flsrd3s27pd9a)\" points=\"68,227,147,227,154,249.2969,178,249.2969,178,318,68,318,68,227\" style=\"stroke: #000000; stroke-width: 1.5;\"/><line style=\"stroke: #000000; stroke-width: 1.5;\" x1=\"68\" x2=\"154\" y1=\"249.2969\" y2=\"249.2969\"/><text fill=\"#000000\" font-family=\"sans-serif\" font-size=\"14\" font-weight=\"bold\" lengthAdjust=\"spacingAndGlyphs\" textLength=\"73\" x=\"72\" y=\"241.9951\">Definitions</text></a><!--MD5=[f6df4d0ebaf0b5dfb2ced0ae5af7c670]\n",
       "cluster E4--><a href=\"psysml:944b5b0e-65e9-4e4f-876e-9affde2d942d\" target=\"_top\" title=\"psysml:944b5b0e-65e9-4e4f-876e-9affde2d942d\" xlink:actuate=\"onRequest\" xlink:href=\"psysml:944b5b0e-65e9-4e4f-876e-9affde2d942d\" xlink:show=\"new\" xlink:title=\"psysml:944b5b0e-65e9-4e4f-876e-9affde2d942d\" xlink:type=\"simple\"><polygon fill=\"#FFFFFF\" filter=\"url(#flsrd3s27pd9a)\" points=\"48,57,106,57,113,79.2969,247,79.2969,247,170,48,170,48,57\" style=\"stroke: #000000; stroke-width: 1.5;\"/><line style=\"stroke: #000000; stroke-width: 1.5;\" x1=\"48\" x2=\"113\" y1=\"79.2969\" y2=\"79.2969\"/><text fill=\"#000000\" font-family=\"sans-serif\" font-size=\"14\" font-weight=\"bold\" lengthAdjust=\"spacingAndGlyphs\" textLength=\"52\" x=\"52\" y=\"71.9951\">Usages</text></a><!--MD5=[09b614a08d8cba4a07c9adeb5e0fee81]\n",
       "class E3--><a href=\"psysml:0e061c30-2d05-4525-ad81-a01ef286857e\" target=\"_top\" title=\"psysml:0e061c30-2d05-4525-ad81-a01ef286857e\" xlink:actuate=\"onRequest\" xlink:href=\"psysml:0e061c30-2d05-4525-ad81-a01ef286857e\" xlink:show=\"new\" xlink:title=\"psysml:0e061c30-2d05-4525-ad81-a01ef286857e\" xlink:type=\"simple\"><rect fill=\"#FEFECE\" filter=\"url(#flsrd3s27pd9a)\" height=\"40\" id=\"E3\" style=\"stroke: #A80036; stroke-width: 1.5;\" width=\"77\" x=\"84.5\" y=\"262\"/><ellipse cx=\"99.5\" cy=\"278\" fill=\"#008000\" rx=\"11\" ry=\"11\" style=\"stroke: #A80036; stroke-width: 1.0;\"/><path d=\"M96.375,283 L96.375,272.4063 L99.6094,272.4063 Q101.5156,272.4063 102.4219,273.1563 Q103.3438,273.9063 103.3438,275.0781 Q103.3438,275.7656 102.9531,276.4219 Q102.5781,277.0781 101.8594,277.375 Q102.7188,277.75 103.2344,278.4375 Q103.75,279.125 103.75,279.9375 Q103.75,281.3125 102.7188,282.1563 Q101.7031,283 99.5938,283 L96.375,283 Z M98.2969,276.6406 L99.4531,276.6406 Q100.5781,276.6406 100.9844,276.2656 Q101.4063,275.875 101.4063,275.25 Q101.4063,274.6719 100.9844,274.3125 Q100.5625,273.9531 99.625,273.9531 L98.2969,273.9531 L98.2969,276.6406 Z M98.2969,281.4219 L99.7969,281.4219 Q100.7031,281.4219 101.2344,281.0313 Q101.7656,280.6406 101.7656,279.8906 Q101.7656,279.125 101.2656,278.6563 Q100.7656,278.1719 99.5,278.1719 L98.2969,278.1719 L98.2969,281.4219 Z \"/><text fill=\"#000000\" font-family=\"sans-serif\" font-size=\"12\" lengthAdjust=\"spacingAndGlyphs\" textLength=\"45\" x=\"113.5\" y=\"282.1543\">Vehicle</text><line style=\"stroke: #A80036; stroke-width: 1.5;\" x1=\"85.5\" x2=\"160.5\" y1=\"294\" y2=\"294\"/></a><!--MD5=[270fce915f116d4de14055a7c1d9a0f3]\n",
       "class E5--><a href=\"psysml:61c6492a-41aa-4c1c-be1c-3a26db9abbc8\" target=\"_top\" title=\"psysml:61c6492a-41aa-4c1c-be1c-3a26db9abbc8\" xlink:actuate=\"onRequest\" xlink:href=\"psysml:61c6492a-41aa-4c1c-be1c-3a26db9abbc8\" xlink:show=\"new\" xlink:title=\"psysml:61c6492a-41aa-4c1c-be1c-3a26db9abbc8\" xlink:type=\"simple\"><rect fill=\"#FEFECE\" filter=\"url(#flsrd3s27pd9a)\" height=\"45.9375\" id=\"E5\" rx=\"10\" ry=\"10\" style=\"stroke: #A80036; stroke-width: 1.5;\" width=\"132\" x=\"91\" y=\"100\"/><ellipse cx=\"106\" cy=\"118.9688\" fill=\"#32CD32\" rx=\"11\" ry=\"11\" style=\"stroke: #A80036; stroke-width: 1.0;\"/><path d=\"M102.8125,123.9688 L102.8125,113.375 L106.4219,113.375 Q107.6406,113.375 108.4375,113.8125 Q109.2344,114.2344 109.6094,114.9375 Q110,115.6406 110,116.4844 Q110,117.3281 109.625,118.0156 Q109.2656,118.7031 108.4688,119.125 Q107.6875,119.5313 106.5,119.5313 L104.7656,119.5313 L104.7656,123.9688 L102.8125,123.9688 Z M104.7656,117.9375 L106.375,117.9375 Q107.1875,117.9375 107.6094,117.5313 Q108.0313,117.125 108.0313,116.4844 Q108.0313,115.8594 107.6094,115.4531 Q107.1875,115.0469 106.3906,115.0469 L104.7656,115.0469 L104.7656,117.9375 Z \"/><text fill=\"#000000\" font-family=\"sans-serif\" font-size=\"12\" font-style=\"italic\" lengthAdjust=\"spacingAndGlyphs\" textLength=\"40\" x=\"150\" y=\"116.1387\">«part»</text><text fill=\"#000000\" font-family=\"sans-serif\" font-size=\"12\" lengthAdjust=\"spacingAndGlyphs\" textLength=\"96\" x=\"120\" y=\"130.1074\">vehicle: Vehicle</text><line style=\"stroke: #A80036; stroke-width: 1.5;\" x1=\"92\" x2=\"222\" y1=\"137.9375\" y2=\"137.9375\"/></a><!--MD5=[f0cdf4548168e5211fb3a02bf679d63a]\n",
       "link E4 to E3--><a href=\"psysml:ef5e87d6-f969-4b16-bad6-f15ecd335219\" target=\"_top\" title=\"psysml:ef5e87d6-f969-4b16-bad6-f15ecd335219\" xlink:actuate=\"onRequest\" xlink:href=\"psysml:ef5e87d6-f969-4b16-bad6-f15ecd335219\" xlink:show=\"new\" xlink:title=\"psysml:ef5e87d6-f969-4b16-bad6-f15ecd335219\" xlink:type=\"simple\"><path d=\"M64.7031,170.0373 C64.7389,170.1824 64.7749,170.3277 64.8109,170.4731 C64.9551,171.0548 65.1012,171.6384 65.2493,172.2237 C65.5455,173.3944 65.8496,174.572 66.1615,175.7548 C66.7854,178.1203 67.4411,180.5064 68.1292,182.8989 C70.8819,192.4688 74.155,202.14 78,211 C85.13,227.43 95.91,244.37 105.13,257.46 \" fill=\"none\" id=\"E4-&gt;E3\" style=\"stroke: #A80036; stroke-width: 1.0; stroke-dasharray: 7.0,7.0;\"/><polygon fill=\"#A80036\" points=\"108.19,261.75,106.2042,252.1034,105.2798,257.6842,99.699,256.7598,108.19,261.75\" style=\"stroke: #A80036; stroke-width: 1.0;\"/><text fill=\"#000000\" font-family=\"sans-serif\" font-size=\"13\" lengthAdjust=\"spacingAndGlyphs\" textLength=\"58\" x=\"79\" y=\"207.0669\">«import»</text></a><!--MD5=[e9be52314489bd878ff4c7144b63c9e1]\n",
       "link E5 to E3--><a href=\"psysml:144792e9-f989-4dc0-84af-44c5bd60762e\" target=\"_top\" title=\"psysml:144792e9-f989-4dc0-84af-44c5bd60762e\" xlink:actuate=\"onRequest\" xlink:href=\"psysml:144792e9-f989-4dc0-84af-44c5bd60762e\" xlink:show=\"new\" xlink:title=\"psysml:144792e9-f989-4dc0-84af-44c5bd60762e\" xlink:type=\"simple\"><path d=\"M155.39,146.01 C153.82,163.72 150.92,189.17 146,211 C143.65,221.45 140.37,232.55 137.03,242.76 \" fill=\"none\" id=\"E5-&gt;E3\" style=\"stroke: #A80036; stroke-width: 1.0;\"/><polygon fill=\"#FFFFFF\" points=\"130.35,261.97,129.9691,241.7251,143.1946,246.317,130.35,261.97\" style=\"stroke: #A80036; stroke-width: 1.0;\"/><ellipse cx=\"133.7281\" cy=\"236.9964\" fill=\"#A80036\" rx=\"2\" ry=\"2\" style=\"stroke: #A80036; stroke-width: 1.0;\"/><ellipse cx=\"143.1749\" cy=\"240.2764\" fill=\"#A80036\" rx=\"2\" ry=\"2\" style=\"stroke: #A80036; stroke-width: 1.0;\"/></a><!--MD5=[250ca708eba0f6a9d1e8bd55ca284daf]\n",
       "@startuml\r\n",
       " \r\n",
       "package \"AliasImport\" as E1  [[psysml:2a0424ca-0ea8-4c9d-a1b7-bd1ebfa50d2f ]]  {\r\n",
       "package \"Definitions\" as E2  [[psysml:1b261b72-bc02-4122-a178-845f71db1598 ]]  {\r\n",
       "comp def \"Vehicle\" as E3 << << (B,green) >> [[psysml:0e061c30-2d05-4525-ad81-a01ef286857e ]] {\r\n",
       "}\r\n",
       "}\r\n",
       "package \"Usages\" as E4  [[psysml:944b5b0e-65e9-4e4f-876e-9affde2d942d ]]  {\r\n",
       "comp usage \"vehicle: Vehicle \" as E5 << << (P,limegreen) part>> [[psysml:61c6492a-41aa-4c1c-be1c-3a26db9abbc8 ]] {\r\n",
       "}\r\n",
       "}\r\n",
       "}\r\n",
       "E4 ..> E3 [[psysml:ef5e87d6-f969-4b16-bad6-f15ecd335219 ]] : <<import>>\r\n",
       "E5 - -:|> E3 [[psysml:144792e9-f989-4dc0-84af-44c5bd60762e ]] \r\n",
       "@enduml\r\n",
       "\n",
       "PlantUML version 1.2020.13(Sat Jun 13 12:26:38 UTC 2020)\n",
       "(EPL source distribution)\n",
       "Java Runtime: OpenJDK Runtime Environment\n",
       "JVM: OpenJDK 64-Bit Server VM\n",
       "Default Encoding: UTF-8\n",
       "Language: en\n",
       "Country: null\n",
       "--></g></svg>"
      ]
     },
     "execution_count": 36,
     "metadata": {},
     "output_type": "execute_result"
    }
   ],
   "source": [
    "%viz --style=\"PLANTUML\" --view=\"MIXED\" \"AliasImport\""
   ]
  },
  {
   "cell_type": "code",
   "execution_count": 37,
   "id": "f898c149",
   "metadata": {
    "execution": {
     "iopub.execute_input": "2022-05-19T08:46:17.650149Z",
     "iopub.status.busy": "2022-05-19T08:46:17.649698Z",
     "iopub.status.idle": "2022-05-19T08:46:17.679617Z",
     "shell.execute_reply": "2022-05-19T08:46:17.679207Z"
    }
   },
   "outputs": [
    {
     "data": {
      "image/svg+xml": [
       "<?xml version=\"1.0\" encoding=\"UTF-8\" standalone=\"no\"?><svg xmlns=\"http://www.w3.org/2000/svg\" xmlns:xlink=\"http://www.w3.org/1999/xlink\" contentScriptType=\"application/ecmascript\" contentStyleType=\"text/css\" height=\"360px\" preserveAspectRatio=\"none\" style=\"width:275px;height:360px;\" version=\"1.1\" viewBox=\"0 0 275 360\" width=\"275px\" zoomAndPan=\"magnify\"><defs/><g><!--MD5=[fbc87193dbaf4d95561dea2c320d4a47]\n",
       "cluster E1--><a href=\"psysml:2a0424ca-0ea8-4c9d-a1b7-bd1ebfa50d2f\" target=\"_top\" title=\"psysml:2a0424ca-0ea8-4c9d-a1b7-bd1ebfa50d2f\" xlink:actuate=\"onRequest\" xlink:href=\"psysml:2a0424ca-0ea8-4c9d-a1b7-bd1ebfa50d2f\" xlink:show=\"new\" xlink:title=\"psysml:2a0424ca-0ea8-4c9d-a1b7-bd1ebfa50d2f\" xlink:type=\"simple\"><polygon fill=\"#FFFFFF\" points=\"16,6,97,6,104,28.2969,253,28.2969,253,348,16,348,16,6\" style=\"stroke: #000000; stroke-width: 1.5;\"/><line style=\"stroke: #000000; stroke-width: 1.5;\" x1=\"16\" x2=\"104\" y1=\"28.2969\" y2=\"28.2969\"/><text fill=\"#000000\" font-family=\"sans-serif\" font-size=\"14\" font-weight=\"bold\" lengthAdjust=\"spacingAndGlyphs\" textLength=\"75\" x=\"20\" y=\"20.9951\">AliasImport</text></a><!--MD5=[e4f7fae6ed58524ba242bb0b0d3be6b7]\n",
       "cluster E2--><a href=\"psysml:1b261b72-bc02-4122-a178-845f71db1598\" target=\"_top\" title=\"psysml:1b261b72-bc02-4122-a178-845f71db1598\" xlink:actuate=\"onRequest\" xlink:href=\"psysml:1b261b72-bc02-4122-a178-845f71db1598\" xlink:show=\"new\" xlink:title=\"psysml:1b261b72-bc02-4122-a178-845f71db1598\" xlink:type=\"simple\"><polygon fill=\"#FFFFFF\" points=\"65,227,144,227,151,249.2969,167,249.2969,167,324,65,324,65,227\" style=\"stroke: #000000; stroke-width: 1.5;\"/><line style=\"stroke: #000000; stroke-width: 1.5;\" x1=\"65\" x2=\"151\" y1=\"249.2969\" y2=\"249.2969\"/><text fill=\"#000000\" font-family=\"sans-serif\" font-size=\"14\" font-weight=\"bold\" lengthAdjust=\"spacingAndGlyphs\" textLength=\"73\" x=\"69\" y=\"241.9951\">Definitions</text></a><!--MD5=[f6df4d0ebaf0b5dfb2ced0ae5af7c670]\n",
       "cluster E4--><a href=\"psysml:944b5b0e-65e9-4e4f-876e-9affde2d942d\" target=\"_top\" title=\"psysml:944b5b0e-65e9-4e4f-876e-9affde2d942d\" xlink:actuate=\"onRequest\" xlink:href=\"psysml:944b5b0e-65e9-4e4f-876e-9affde2d942d\" xlink:show=\"new\" xlink:title=\"psysml:944b5b0e-65e9-4e4f-876e-9affde2d942d\" xlink:type=\"simple\"><polygon fill=\"#FFFFFF\" points=\"48,57,106,57,113,79.2969,221,79.2969,221,170,48,170,48,57\" style=\"stroke: #000000; stroke-width: 1.5;\"/><line style=\"stroke: #000000; stroke-width: 1.5;\" x1=\"48\" x2=\"113\" y1=\"79.2969\" y2=\"79.2969\"/><text fill=\"#000000\" font-family=\"sans-serif\" font-size=\"14\" font-weight=\"bold\" lengthAdjust=\"spacingAndGlyphs\" textLength=\"52\" x=\"52\" y=\"71.9951\">Usages</text></a><!--MD5=[09b614a08d8cba4a07c9adeb5e0fee81]\n",
       "class E3--><a href=\"psysml:0e061c30-2d05-4525-ad81-a01ef286857e\" target=\"_top\" title=\"psysml:0e061c30-2d05-4525-ad81-a01ef286857e\" xlink:actuate=\"onRequest\" xlink:href=\"psysml:0e061c30-2d05-4525-ad81-a01ef286857e\" xlink:show=\"new\" xlink:title=\"psysml:0e061c30-2d05-4525-ad81-a01ef286857e\" xlink:type=\"simple\"><rect fill=\"#FFFFFF\" height=\"45.9375\" id=\"E3\" style=\"stroke: #383838; stroke-width: 1.5;\" width=\"70\" x=\"81\" y=\"262\"/><text fill=\"#000000\" font-family=\"sans-serif\" font-size=\"12\" font-style=\"italic\" lengthAdjust=\"spacingAndGlyphs\" textLength=\"68\" x=\"82\" y=\"278.1387\">«part  def»</text><text fill=\"#000000\" font-family=\"sans-serif\" font-size=\"12\" lengthAdjust=\"spacingAndGlyphs\" textLength=\"45\" x=\"93.5\" y=\"292.1074\">Vehicle</text><line style=\"stroke: #383838; stroke-width: 1.5;\" x1=\"82\" x2=\"150\" y1=\"299.9375\" y2=\"299.9375\"/></a><!--MD5=[270fce915f116d4de14055a7c1d9a0f3]\n",
       "class E5--><a href=\"psysml:61c6492a-41aa-4c1c-be1c-3a26db9abbc8\" target=\"_top\" title=\"psysml:61c6492a-41aa-4c1c-be1c-3a26db9abbc8\" xlink:actuate=\"onRequest\" xlink:href=\"psysml:61c6492a-41aa-4c1c-be1c-3a26db9abbc8\" xlink:show=\"new\" xlink:title=\"psysml:61c6492a-41aa-4c1c-be1c-3a26db9abbc8\" xlink:type=\"simple\"><rect fill=\"#FFFFFF\" height=\"45.9375\" id=\"E5\" rx=\"10\" ry=\"10\" style=\"stroke: #383838; stroke-width: 1.5;\" width=\"106\" x=\"91\" y=\"100\"/><text fill=\"#000000\" font-family=\"sans-serif\" font-size=\"12\" font-style=\"italic\" lengthAdjust=\"spacingAndGlyphs\" textLength=\"40\" x=\"124\" y=\"116.1387\">«part»</text><text fill=\"#000000\" font-family=\"sans-serif\" font-size=\"12\" lengthAdjust=\"spacingAndGlyphs\" textLength=\"96\" x=\"94\" y=\"130.1074\">vehicle: Vehicle</text><line style=\"stroke: #383838; stroke-width: 1.5;\" x1=\"92\" x2=\"196\" y1=\"137.9375\" y2=\"137.9375\"/></a><!--MD5=[f0cdf4548168e5211fb3a02bf679d63a]\n",
       "link E4 to E3--><a href=\"psysml:ef5e87d6-f969-4b16-bad6-f15ecd335219\" target=\"_top\" title=\"psysml:ef5e87d6-f969-4b16-bad6-f15ecd335219\" xlink:actuate=\"onRequest\" xlink:href=\"psysml:ef5e87d6-f969-4b16-bad6-f15ecd335219\" xlink:show=\"new\" xlink:title=\"psysml:ef5e87d6-f969-4b16-bad6-f15ecd335219\" xlink:type=\"simple\"><path d=\"M58.5005,170.0549 C58.5193,170.2001 58.5383,170.3454 58.5574,170.4908 C58.6338,171.0725 58.7124,171.6562 58.7932,172.2415 C58.9548,173.4122 59.1253,174.5898 59.3052,175.7725 C59.6651,178.1379 60.0625,180.5238 60.5014,182.9158 C62.2569,192.4838 64.675,202.15 68,211 C74.23,227.58 84.77,244.23 94.38,257.43 \" fill=\"none\" id=\"E4-&gt;E3\" style=\"stroke: #383838; stroke-width: 1.0; stroke-dasharray: 7.0,7.0;\"/><polygon fill=\"#383838\" points=\"97.6,261.77,95.4384,252.1613,94.616,257.758,89.0193,256.9357,97.6,261.77\" style=\"stroke: #383838; stroke-width: 1.0;\"/><text fill=\"#000000\" font-family=\"sans-serif\" font-size=\"13\" lengthAdjust=\"spacingAndGlyphs\" textLength=\"58\" x=\"69\" y=\"207.0669\">«import»</text></a><!--MD5=[e9be52314489bd878ff4c7144b63c9e1]\n",
       "link E5 to E3--><a href=\"psysml:144792e9-f989-4dc0-84af-44c5bd60762e\" target=\"_top\" title=\"psysml:144792e9-f989-4dc0-84af-44c5bd60762e\" xlink:actuate=\"onRequest\" xlink:href=\"psysml:144792e9-f989-4dc0-84af-44c5bd60762e\" xlink:show=\"new\" xlink:title=\"psysml:144792e9-f989-4dc0-84af-44c5bd60762e\" xlink:type=\"simple\"><path d=\"M143.03,146.32 C142,163.98 139.95,189.21 136,211 C134.13,221.29 131.49,232.23 128.74,242.43 \" fill=\"none\" id=\"E5-&gt;E3\" style=\"stroke: #383838; stroke-width: 1.0;\"/><polygon fill=\"#FFFFFF\" points=\"123.15,261.87,121.6727,241.6755,135.1276,245.544,123.15,261.87\" style=\"stroke: #383838; stroke-width: 1.0;\"/><ellipse cx=\"125.1699\" cy=\"236.7501\" fill=\"#383838\" rx=\"2\" ry=\"2\" style=\"stroke: #383838; stroke-width: 1.0;\"/><ellipse cx=\"134.7805\" cy=\"239.5133\" fill=\"#383838\" rx=\"2\" ry=\"2\" style=\"stroke: #383838; stroke-width: 1.0;\"/></a><!--MD5=[4fdfd3d95ae5a29164452a24c865cead]\n",
       "@startuml\r\n",
       "skinparam monochrome true\r\n",
       "skinparam classbackgroundcolor white\r\n",
       "skinparam shadowing false\r\n",
       "skinparam wrapWidth 300\r\n",
       "hide circle\r\n",
       "\r\n",
       "package \"AliasImport\" as E1  [[psysml:2a0424ca-0ea8-4c9d-a1b7-bd1ebfa50d2f ]]  {\r\n",
       "package \"Definitions\" as E2  [[psysml:1b261b72-bc02-4122-a178-845f71db1598 ]]  {\r\n",
       "comp def \"Vehicle\" as E3  <<(T,blue) part  def>> [[psysml:0e061c30-2d05-4525-ad81-a01ef286857e ]] {\r\n",
       "}\r\n",
       "}\r\n",
       "package \"Usages\" as E4  [[psysml:944b5b0e-65e9-4e4f-876e-9affde2d942d ]]  {\r\n",
       "comp usage \"vehicle: Vehicle \" as E5  <<(T,blue) part>> [[psysml:61c6492a-41aa-4c1c-be1c-3a26db9abbc8 ]] {\r\n",
       "}\r\n",
       "}\r\n",
       "}\r\n",
       "E4 ..> E3 [[psysml:ef5e87d6-f969-4b16-bad6-f15ecd335219 ]] : <<import>>\r\n",
       "E5 - -:|> E3 [[psysml:144792e9-f989-4dc0-84af-44c5bd60762e ]] \r\n",
       "@enduml\r\n",
       "\n",
       "PlantUML version 1.2020.13(Sat Jun 13 12:26:38 UTC 2020)\n",
       "(EPL source distribution)\n",
       "Java Runtime: OpenJDK Runtime Environment\n",
       "JVM: OpenJDK 64-Bit Server VM\n",
       "Default Encoding: UTF-8\n",
       "Language: en\n",
       "Country: null\n",
       "--></g></svg>"
      ]
     },
     "execution_count": 37,
     "metadata": {},
     "output_type": "execute_result"
    }
   ],
   "source": [
    "%viz --style=\"DEFAULT\" --view=\"Default\" \"AliasImport\""
   ]
  },
  {
   "cell_type": "code",
   "execution_count": 38,
   "id": "30f01ec5",
   "metadata": {
    "execution": {
     "iopub.execute_input": "2022-05-19T08:46:17.729456Z",
     "iopub.status.busy": "2022-05-19T08:46:17.728933Z",
     "iopub.status.idle": "2022-05-19T08:46:17.757882Z",
     "shell.execute_reply": "2022-05-19T08:46:17.757477Z"
    }
   },
   "outputs": [
    {
     "data": {
      "image/svg+xml": [
       "<?xml version=\"1.0\" encoding=\"UTF-8\" standalone=\"no\"?><svg xmlns=\"http://www.w3.org/2000/svg\" xmlns:xlink=\"http://www.w3.org/1999/xlink\" contentScriptType=\"application/ecmascript\" contentStyleType=\"text/css\" height=\"360px\" preserveAspectRatio=\"none\" style=\"width:275px;height:360px;\" version=\"1.1\" viewBox=\"0 0 275 360\" width=\"275px\" zoomAndPan=\"magnify\"><defs/><g><!--MD5=[fbc87193dbaf4d95561dea2c320d4a47]\n",
       "cluster E1--><a href=\"psysml:2a0424ca-0ea8-4c9d-a1b7-bd1ebfa50d2f\" target=\"_top\" title=\"psysml:2a0424ca-0ea8-4c9d-a1b7-bd1ebfa50d2f\" xlink:actuate=\"onRequest\" xlink:href=\"psysml:2a0424ca-0ea8-4c9d-a1b7-bd1ebfa50d2f\" xlink:show=\"new\" xlink:title=\"psysml:2a0424ca-0ea8-4c9d-a1b7-bd1ebfa50d2f\" xlink:type=\"simple\"><polygon fill=\"#FFFFFF\" points=\"16,6,97,6,104,28.2969,253,28.2969,253,348,16,348,16,6\" style=\"stroke: #000000; stroke-width: 1.5;\"/><line style=\"stroke: #000000; stroke-width: 1.5;\" x1=\"16\" x2=\"104\" y1=\"28.2969\" y2=\"28.2969\"/><text fill=\"#000000\" font-family=\"sans-serif\" font-size=\"14\" font-weight=\"bold\" lengthAdjust=\"spacingAndGlyphs\" textLength=\"75\" x=\"20\" y=\"20.9951\">AliasImport</text></a><!--MD5=[e4f7fae6ed58524ba242bb0b0d3be6b7]\n",
       "cluster E2--><a href=\"psysml:1b261b72-bc02-4122-a178-845f71db1598\" target=\"_top\" title=\"psysml:1b261b72-bc02-4122-a178-845f71db1598\" xlink:actuate=\"onRequest\" xlink:href=\"psysml:1b261b72-bc02-4122-a178-845f71db1598\" xlink:show=\"new\" xlink:title=\"psysml:1b261b72-bc02-4122-a178-845f71db1598\" xlink:type=\"simple\"><polygon fill=\"#FFFFFF\" points=\"65,227,144,227,151,249.2969,167,249.2969,167,324,65,324,65,227\" style=\"stroke: #000000; stroke-width: 1.5;\"/><line style=\"stroke: #000000; stroke-width: 1.5;\" x1=\"65\" x2=\"151\" y1=\"249.2969\" y2=\"249.2969\"/><text fill=\"#000000\" font-family=\"sans-serif\" font-size=\"14\" font-weight=\"bold\" lengthAdjust=\"spacingAndGlyphs\" textLength=\"73\" x=\"69\" y=\"241.9951\">Definitions</text></a><!--MD5=[f6df4d0ebaf0b5dfb2ced0ae5af7c670]\n",
       "cluster E4--><a href=\"psysml:944b5b0e-65e9-4e4f-876e-9affde2d942d\" target=\"_top\" title=\"psysml:944b5b0e-65e9-4e4f-876e-9affde2d942d\" xlink:actuate=\"onRequest\" xlink:href=\"psysml:944b5b0e-65e9-4e4f-876e-9affde2d942d\" xlink:show=\"new\" xlink:title=\"psysml:944b5b0e-65e9-4e4f-876e-9affde2d942d\" xlink:type=\"simple\"><polygon fill=\"#FFFFFF\" points=\"48,57,106,57,113,79.2969,221,79.2969,221,170,48,170,48,57\" style=\"stroke: #000000; stroke-width: 1.5;\"/><line style=\"stroke: #000000; stroke-width: 1.5;\" x1=\"48\" x2=\"113\" y1=\"79.2969\" y2=\"79.2969\"/><text fill=\"#000000\" font-family=\"sans-serif\" font-size=\"14\" font-weight=\"bold\" lengthAdjust=\"spacingAndGlyphs\" textLength=\"52\" x=\"52\" y=\"71.9951\">Usages</text></a><!--MD5=[09b614a08d8cba4a07c9adeb5e0fee81]\n",
       "class E3--><a href=\"psysml:0e061c30-2d05-4525-ad81-a01ef286857e\" target=\"_top\" title=\"psysml:0e061c30-2d05-4525-ad81-a01ef286857e\" xlink:actuate=\"onRequest\" xlink:href=\"psysml:0e061c30-2d05-4525-ad81-a01ef286857e\" xlink:show=\"new\" xlink:title=\"psysml:0e061c30-2d05-4525-ad81-a01ef286857e\" xlink:type=\"simple\"><rect fill=\"#FFFFFF\" height=\"45.9375\" id=\"E3\" style=\"stroke: #383838; stroke-width: 1.5;\" width=\"70\" x=\"81\" y=\"262\"/><text fill=\"#000000\" font-family=\"sans-serif\" font-size=\"12\" font-style=\"italic\" lengthAdjust=\"spacingAndGlyphs\" textLength=\"68\" x=\"82\" y=\"278.1387\">«part  def»</text><text fill=\"#000000\" font-family=\"sans-serif\" font-size=\"12\" lengthAdjust=\"spacingAndGlyphs\" textLength=\"45\" x=\"93.5\" y=\"292.1074\">Vehicle</text><line style=\"stroke: #383838; stroke-width: 1.5;\" x1=\"82\" x2=\"150\" y1=\"299.9375\" y2=\"299.9375\"/></a><!--MD5=[270fce915f116d4de14055a7c1d9a0f3]\n",
       "class E5--><a href=\"psysml:61c6492a-41aa-4c1c-be1c-3a26db9abbc8\" target=\"_top\" title=\"psysml:61c6492a-41aa-4c1c-be1c-3a26db9abbc8\" xlink:actuate=\"onRequest\" xlink:href=\"psysml:61c6492a-41aa-4c1c-be1c-3a26db9abbc8\" xlink:show=\"new\" xlink:title=\"psysml:61c6492a-41aa-4c1c-be1c-3a26db9abbc8\" xlink:type=\"simple\"><rect fill=\"#FFFFFF\" height=\"45.9375\" id=\"E5\" rx=\"10\" ry=\"10\" style=\"stroke: #383838; stroke-width: 1.5;\" width=\"106\" x=\"91\" y=\"100\"/><text fill=\"#000000\" font-family=\"sans-serif\" font-size=\"12\" font-style=\"italic\" lengthAdjust=\"spacingAndGlyphs\" textLength=\"40\" x=\"124\" y=\"116.1387\">«part»</text><text fill=\"#000000\" font-family=\"sans-serif\" font-size=\"12\" lengthAdjust=\"spacingAndGlyphs\" textLength=\"96\" x=\"94\" y=\"130.1074\">vehicle: Vehicle</text><line style=\"stroke: #383838; stroke-width: 1.5;\" x1=\"92\" x2=\"196\" y1=\"137.9375\" y2=\"137.9375\"/></a><!--MD5=[f0cdf4548168e5211fb3a02bf679d63a]\n",
       "link E4 to E3--><a href=\"psysml:ef5e87d6-f969-4b16-bad6-f15ecd335219\" target=\"_top\" title=\"psysml:ef5e87d6-f969-4b16-bad6-f15ecd335219\" xlink:actuate=\"onRequest\" xlink:href=\"psysml:ef5e87d6-f969-4b16-bad6-f15ecd335219\" xlink:show=\"new\" xlink:title=\"psysml:ef5e87d6-f969-4b16-bad6-f15ecd335219\" xlink:type=\"simple\"><path d=\"M58.5005,170.0549 C58.5193,170.2001 58.5383,170.3454 58.5574,170.4908 C58.6338,171.0725 58.7124,171.6562 58.7932,172.2415 C58.9548,173.4122 59.1253,174.5898 59.3052,175.7725 C59.6651,178.1379 60.0625,180.5238 60.5014,182.9158 C62.2569,192.4838 64.675,202.15 68,211 C74.23,227.58 84.77,244.23 94.38,257.43 \" fill=\"none\" id=\"E4-&gt;E3\" style=\"stroke: #383838; stroke-width: 1.0; stroke-dasharray: 7.0,7.0;\"/><polygon fill=\"#383838\" points=\"97.6,261.77,95.4384,252.1613,94.616,257.758,89.0193,256.9357,97.6,261.77\" style=\"stroke: #383838; stroke-width: 1.0;\"/><text fill=\"#000000\" font-family=\"sans-serif\" font-size=\"13\" lengthAdjust=\"spacingAndGlyphs\" textLength=\"58\" x=\"69\" y=\"207.0669\">«import»</text></a><!--MD5=[e9be52314489bd878ff4c7144b63c9e1]\n",
       "link E5 to E3--><a href=\"psysml:144792e9-f989-4dc0-84af-44c5bd60762e\" target=\"_top\" title=\"psysml:144792e9-f989-4dc0-84af-44c5bd60762e\" xlink:actuate=\"onRequest\" xlink:href=\"psysml:144792e9-f989-4dc0-84af-44c5bd60762e\" xlink:show=\"new\" xlink:title=\"psysml:144792e9-f989-4dc0-84af-44c5bd60762e\" xlink:type=\"simple\"><path d=\"M143.03,146.32 C142,163.98 139.95,189.21 136,211 C134.13,221.29 131.49,232.23 128.74,242.43 \" fill=\"none\" id=\"E5-&gt;E3\" style=\"stroke: #383838; stroke-width: 1.0;\"/><polygon fill=\"#FFFFFF\" points=\"123.15,261.87,121.6727,241.6755,135.1276,245.544,123.15,261.87\" style=\"stroke: #383838; stroke-width: 1.0;\"/><ellipse cx=\"125.1699\" cy=\"236.7501\" fill=\"#383838\" rx=\"2\" ry=\"2\" style=\"stroke: #383838; stroke-width: 1.0;\"/><ellipse cx=\"134.7805\" cy=\"239.5133\" fill=\"#383838\" rx=\"2\" ry=\"2\" style=\"stroke: #383838; stroke-width: 1.0;\"/></a><!--MD5=[4fdfd3d95ae5a29164452a24c865cead]\n",
       "@startuml\r\n",
       "skinparam monochrome true\r\n",
       "skinparam classbackgroundcolor white\r\n",
       "skinparam shadowing false\r\n",
       "skinparam wrapWidth 300\r\n",
       "hide circle\r\n",
       "\r\n",
       "package \"AliasImport\" as E1  [[psysml:2a0424ca-0ea8-4c9d-a1b7-bd1ebfa50d2f ]]  {\r\n",
       "package \"Definitions\" as E2  [[psysml:1b261b72-bc02-4122-a178-845f71db1598 ]]  {\r\n",
       "comp def \"Vehicle\" as E3  <<(T,blue) part  def>> [[psysml:0e061c30-2d05-4525-ad81-a01ef286857e ]] {\r\n",
       "}\r\n",
       "}\r\n",
       "package \"Usages\" as E4  [[psysml:944b5b0e-65e9-4e4f-876e-9affde2d942d ]]  {\r\n",
       "comp usage \"vehicle: Vehicle \" as E5  <<(T,blue) part>> [[psysml:61c6492a-41aa-4c1c-be1c-3a26db9abbc8 ]] {\r\n",
       "}\r\n",
       "}\r\n",
       "}\r\n",
       "E4 ..> E3 [[psysml:ef5e87d6-f969-4b16-bad6-f15ecd335219 ]] : <<import>>\r\n",
       "E5 - -:|> E3 [[psysml:144792e9-f989-4dc0-84af-44c5bd60762e ]] \r\n",
       "@enduml\r\n",
       "\n",
       "PlantUML version 1.2020.13(Sat Jun 13 12:26:38 UTC 2020)\n",
       "(EPL source distribution)\n",
       "Java Runtime: OpenJDK Runtime Environment\n",
       "JVM: OpenJDK 64-Bit Server VM\n",
       "Default Encoding: UTF-8\n",
       "Language: en\n",
       "Country: null\n",
       "--></g></svg>"
      ]
     },
     "execution_count": 38,
     "metadata": {},
     "output_type": "execute_result"
    }
   ],
   "source": [
    "%viz --style=\"DEFAULT\" --view=\"Tree\" \"AliasImport\""
   ]
  },
  {
   "cell_type": "code",
   "execution_count": 39,
   "id": "a3f90bf7",
   "metadata": {
    "execution": {
     "iopub.execute_input": "2022-05-19T08:46:17.807705Z",
     "iopub.status.busy": "2022-05-19T08:46:17.807239Z",
     "iopub.status.idle": "2022-05-19T08:46:17.811973Z",
     "shell.execute_reply": "2022-05-19T08:46:17.812289Z"
    }
   },
   "outputs": [
    {
     "data": {
      "image/svg+xml": [
       "<?xml version=\"1.0\" encoding=\"UTF-8\" standalone=\"no\"?><svg xmlns=\"http://www.w3.org/2000/svg\" xmlns:xlink=\"http://www.w3.org/1999/xlink\" contentScriptType=\"application/ecmascript\" contentStyleType=\"text/css\" height=\"12px\" preserveAspectRatio=\"none\" style=\"width:12px;height:12px;\" version=\"1.1\" viewBox=\"0 0 12 12\" width=\"12px\" zoomAndPan=\"magnify\"><defs/><g><!--MD5=[c5f280e076d0d61ccf4b0f27871bda1d]\n",
       "@startuml\r\n",
       "skinparam monochrome true\r\n",
       "skinparam classbackgroundcolor white\r\n",
       "skinparam shadowing false\r\n",
       "skinparam wrapWidth 300\r\n",
       "hide circle\r\n",
       "\r\n",
       "@enduml\r\n",
       "\n",
       "PlantUML version 1.2020.13(Sat Jun 13 12:26:38 UTC 2020)\n",
       "(EPL source distribution)\n",
       "Java Runtime: OpenJDK Runtime Environment\n",
       "JVM: OpenJDK 64-Bit Server VM\n",
       "Default Encoding: UTF-8\n",
       "Language: en\n",
       "Country: null\n",
       "--></g></svg>"
      ]
     },
     "execution_count": 39,
     "metadata": {},
     "output_type": "execute_result"
    }
   ],
   "source": [
    "%viz --style=\"DEFAULT\" --view=\"State\" \"AliasImport\""
   ]
  },
  {
   "cell_type": "code",
   "execution_count": 40,
   "id": "89019b66",
   "metadata": {
    "execution": {
     "iopub.execute_input": "2022-05-19T08:46:17.862573Z",
     "iopub.status.busy": "2022-05-19T08:46:17.862050Z",
     "iopub.status.idle": "2022-05-19T08:46:17.893366Z",
     "shell.execute_reply": "2022-05-19T08:46:17.891756Z"
    }
   },
   "outputs": [
    {
     "data": {
      "image/svg+xml": [
       "<?xml version=\"1.0\" encoding=\"UTF-8\" standalone=\"no\"?><svg xmlns=\"http://www.w3.org/2000/svg\" xmlns:xlink=\"http://www.w3.org/1999/xlink\" contentScriptType=\"application/ecmascript\" contentStyleType=\"text/css\" height=\"351px\" preserveAspectRatio=\"none\" style=\"width:302px;height:351px;\" version=\"1.1\" viewBox=\"0 0 302 351\" width=\"302px\" zoomAndPan=\"magnify\"><defs/><g><!--MD5=[fbc87193dbaf4d95561dea2c320d4a47]\n",
       "cluster E1--><a href=\"psysml:2a0424ca-0ea8-4c9d-a1b7-bd1ebfa50d2f\" target=\"_top\" title=\"psysml:2a0424ca-0ea8-4c9d-a1b7-bd1ebfa50d2f\" xlink:actuate=\"onRequest\" xlink:href=\"psysml:2a0424ca-0ea8-4c9d-a1b7-bd1ebfa50d2f\" xlink:show=\"new\" xlink:title=\"psysml:2a0424ca-0ea8-4c9d-a1b7-bd1ebfa50d2f\" xlink:type=\"simple\"><polygon fill=\"#FFFFFF\" points=\"16,6,97,6,104,28.2969,280,28.2969,280,339,16,339,16,6\" style=\"stroke: #000000; stroke-width: 1.5;\"/><line style=\"stroke: #000000; stroke-width: 1.5;\" x1=\"16\" x2=\"104\" y1=\"28.2969\" y2=\"28.2969\"/><text fill=\"#000000\" font-family=\"sans-serif\" font-size=\"14\" font-weight=\"bold\" lengthAdjust=\"spacingAndGlyphs\" textLength=\"75\" x=\"20\" y=\"20.9951\">AliasImport</text></a><!--MD5=[e4f7fae6ed58524ba242bb0b0d3be6b7]\n",
       "cluster E2--><a href=\"psysml:1b261b72-bc02-4122-a178-845f71db1598\" target=\"_top\" title=\"psysml:1b261b72-bc02-4122-a178-845f71db1598\" xlink:actuate=\"onRequest\" xlink:href=\"psysml:1b261b72-bc02-4122-a178-845f71db1598\" xlink:show=\"new\" xlink:title=\"psysml:1b261b72-bc02-4122-a178-845f71db1598\" xlink:type=\"simple\"><polygon fill=\"#FFFFFF\" points=\"40,221,119,221,126,243.2969,256,243.2969,256,315,40,315,40,221\" style=\"stroke: #000000; stroke-width: 1.5;\"/><line style=\"stroke: #000000; stroke-width: 1.5;\" x1=\"40\" x2=\"126\" y1=\"243.2969\" y2=\"243.2969\"/><text fill=\"#000000\" font-family=\"sans-serif\" font-size=\"14\" font-weight=\"bold\" lengthAdjust=\"spacingAndGlyphs\" textLength=\"73\" x=\"44\" y=\"235.9951\">Definitions</text></a><!--MD5=[de5ec2e2e8f62f467e546659f5068c88]\n",
       "cluster E5--><a href=\"psysml:944b5b0e-65e9-4e4f-876e-9affde2d942d\" target=\"_top\" title=\"psysml:944b5b0e-65e9-4e4f-876e-9affde2d942d\" xlink:actuate=\"onRequest\" xlink:href=\"psysml:944b5b0e-65e9-4e4f-876e-9affde2d942d\" xlink:show=\"new\" xlink:title=\"psysml:944b5b0e-65e9-4e4f-876e-9affde2d942d\" xlink:type=\"simple\"><polygon fill=\"#FFFFFF\" points=\"56,57,114,57,121,79.2969,230,79.2969,230,164,56,164,56,57\" style=\"stroke: #000000; stroke-width: 1.5;\"/><line style=\"stroke: #000000; stroke-width: 1.5;\" x1=\"56\" x2=\"121\" y1=\"79.2969\" y2=\"79.2969\"/><text fill=\"#000000\" font-family=\"sans-serif\" font-size=\"14\" font-weight=\"bold\" lengthAdjust=\"spacingAndGlyphs\" textLength=\"52\" x=\"60\" y=\"71.9951\">Usages</text></a><g id=\"E1.E2.E3\"><a href=\"psysml:0e061c30-2d05-4525-ad81-a01ef286857e\" target=\"_top\" title=\"psysml:0e061c30-2d05-4525-ad81-a01ef286857e\" xlink:actuate=\"onRequest\" xlink:href=\"psysml:0e061c30-2d05-4525-ad81-a01ef286857e\" xlink:show=\"new\" xlink:title=\"psysml:0e061c30-2d05-4525-ad81-a01ef286857e\" xlink:type=\"simple\"><rect fill=\"#FFFFFF\" height=\"42.9375\" id=\"E3\" style=\"stroke: #383838; stroke-width: 1.5;\" width=\"75\" x=\"165.5\" y=\"256\"/><rect fill=\"#F8F8F8\" height=\"37.9375\" style=\"stroke: #383838; stroke-width: 1.5;\" width=\"75\" x=\"165.5\" y=\"256\"/><text fill=\"#000000\" font-family=\"sans-serif\" font-size=\"12\" font-style=\"italic\" lengthAdjust=\"spacingAndGlyphs\" textLength=\"68\" x=\"169\" y=\"272.1387\">«part  def»</text><text fill=\"#000000\" font-family=\"sans-serif\" font-size=\"12\" lengthAdjust=\"spacingAndGlyphs\" textLength=\"45\" x=\"180.5\" y=\"286.1074\">Vehicle</text></a></g><g id=\"E1.E2.E4\"><a href=\"psysml:0e061c30-2d05-4525-ad81-a01ef286857e\" target=\"_top\" title=\"psysml:0e061c30-2d05-4525-ad81-a01ef286857e\" xlink:actuate=\"onRequest\" xlink:href=\"psysml:0e061c30-2d05-4525-ad81-a01ef286857e\" xlink:show=\"new\" xlink:title=\"psysml:0e061c30-2d05-4525-ad81-a01ef286857e\" xlink:type=\"simple\"><rect fill=\"#FFFFFF\" height=\"42.9375\" id=\"E4\" style=\"stroke: #383838; stroke-width: 1.5;\" width=\"75\" x=\"55.5\" y=\"256\"/><rect fill=\"#F8F8F8\" height=\"37.9375\" style=\"stroke: #383838; stroke-width: 1.5;\" width=\"75\" x=\"55.5\" y=\"256\"/><text fill=\"#000000\" font-family=\"sans-serif\" font-size=\"12\" font-style=\"italic\" lengthAdjust=\"spacingAndGlyphs\" textLength=\"68\" x=\"59\" y=\"272.1387\">«part  def»</text><text fill=\"#000000\" font-family=\"sans-serif\" font-size=\"12\" lengthAdjust=\"spacingAndGlyphs\" textLength=\"45\" x=\"70.5\" y=\"286.1074\">Vehicle</text></a></g><g id=\"E1.E5.E6\"><a href=\"psysml:61c6492a-41aa-4c1c-be1c-3a26db9abbc8\" target=\"_top\" title=\"psysml:61c6492a-41aa-4c1c-be1c-3a26db9abbc8\" xlink:actuate=\"onRequest\" xlink:href=\"psysml:61c6492a-41aa-4c1c-be1c-3a26db9abbc8\" xlink:show=\"new\" xlink:title=\"psysml:61c6492a-41aa-4c1c-be1c-3a26db9abbc8\" xlink:type=\"simple\"><rect fill=\"#FFFFFF\" height=\"40\" id=\"E6\" rx=\"10\" ry=\"10\" style=\"stroke: #383838; stroke-width: 1.5;\" width=\"107\" x=\"99.5\" y=\"100\"/><rect fill=\"#F8F8F8\" height=\"23.9688\" rx=\"10\" ry=\"10\" style=\"stroke: #F8F8F8; stroke-width: 1.5;\" width=\"107\" x=\"99.5\" y=\"100\"/><rect fill=\"#F8F8F8\" height=\"10\" style=\"stroke: #F8F8F8; stroke-width: 1.5;\" width=\"107\" x=\"99.5\" y=\"113.9688\"/><rect fill=\"none\" height=\"40\" id=\"E6\" rx=\"10\" ry=\"10\" style=\"stroke: #383838; stroke-width: 1.5;\" width=\"107\" x=\"99.5\" y=\"100\"/><text fill=\"#000000\" font-family=\"sans-serif\" font-size=\"12\" lengthAdjust=\"spacingAndGlyphs\" textLength=\"96\" x=\"105\" y=\"116.1387\">vehicle: Vehicle</text></a></g><!--MD5=[1c62de2aa5b76f0fb657ff8443a1a700]\n",
       "link E5 to E4--><a href=\"psysml:ef5e87d6-f969-4b16-bad6-f15ecd335219\" target=\"_top\" title=\"psysml:ef5e87d6-f969-4b16-bad6-f15ecd335219\" xlink:actuate=\"onRequest\" xlink:href=\"psysml:ef5e87d6-f969-4b16-bad6-f15ecd335219\" xlink:show=\"new\" xlink:title=\"psysml:ef5e87d6-f969-4b16-bad6-f15ecd335219\" xlink:type=\"simple\"><path d=\"M67.2559,164.3434 C67.2848,164.6227 67.314,164.9026 67.3433,165.183 C67.4021,165.7439 67.4617,166.3071 67.5224,166.8722 C67.6436,168.0025 67.7685,169.141 67.8973,170.2859 C68.1549,172.5759 68.4278,174.8919 68.7167,177.2213 C69.8725,186.5388 71.285,196.07 73,205 C75.97,220.45 80.65,237.41 84.74,250.94 \" fill=\"none\" id=\"E5-&gt;E4\" style=\"stroke: #383838; stroke-width: 1.0; stroke-dasharray: 7.0,7.0;\"/><polygon fill=\"#383838\" points=\"86.21,255.76,87.3802,245.9809,84.7366,250.982,79.7354,248.3384,86.21,255.76\" style=\"stroke: #383838; stroke-width: 1.0;\"/><text fill=\"#000000\" font-family=\"sans-serif\" font-size=\"13\" lengthAdjust=\"spacingAndGlyphs\" textLength=\"58\" x=\"74\" y=\"201.0669\">«import»</text></a><!--MD5=[f667431f98296947986a1a7595a31603]\n",
       "link E6 to E4--><a href=\"psysml:144792e9-f989-4dc0-84af-44c5bd60762e\" target=\"_top\" title=\"psysml:144792e9-f989-4dc0-84af-44c5bd60762e\" xlink:actuate=\"onRequest\" xlink:href=\"psysml:144792e9-f989-4dc0-84af-44c5bd60762e\" xlink:show=\"new\" xlink:title=\"psysml:144792e9-f989-4dc0-84af-44c5bd60762e\" xlink:type=\"simple\"><path d=\"M151.34,140.23 C149.38,157.62 145.27,183.68 137,205 C132.5,216.61 126.1,228.43 119.57,239.03 \" fill=\"none\" id=\"E6-&gt;E4\" style=\"stroke: #383838; stroke-width: 1.0;\"/><polygon fill=\"#FFFFFF\" points=\"108.43,255.98,113.0161,236.2577,124.7153,243.9472,108.43,255.98\" style=\"stroke: #383838; stroke-width: 1.0;\"/><ellipse cx=\"117.8182\" cy=\"232.593\" fill=\"#383838\" rx=\"2\" ry=\"2\" style=\"stroke: #383838; stroke-width: 1.0;\"/><ellipse cx=\"126.1747\" cy=\"238.0855\" fill=\"#383838\" rx=\"2\" ry=\"2\" style=\"stroke: #383838; stroke-width: 1.0;\"/></a><!--MD5=[2125619414f040c69821f14fbf0d965b]\n",
       "@startuml\r\n",
       "skinparam ranksep 10\r\n",
       "skinparam rectangle {\r\n",
       " backgroundColor<<block>> LightGreen\r\n",
       "}\r\n",
       "skinparam monochrome true\r\n",
       "skinparam classbackgroundcolor white\r\n",
       "skinparam shadowing false\r\n",
       "skinparam wrapWidth 300\r\n",
       "hide circle\r\n",
       "\r\n",
       "package \"AliasImport\" as E1  [[psysml:2a0424ca-0ea8-4c9d-a1b7-bd1ebfa50d2f ]]  {\r\n",
       "package \"Definitions\" as E2  [[psysml:1b261b72-bc02-4122-a178-845f71db1598 ]]  {\r\n",
       "rec def \"Vehicle\" as E3  <<(T,blue) part  def>> [[psysml:0e061c30-2d05-4525-ad81-a01ef286857e ]] {\r\n",
       "}\r\n",
       "rec def \"Vehicle\" as E4  <<(T,blue) part  def>> [[psysml:0e061c30-2d05-4525-ad81-a01ef286857e ]] {\r\n",
       "}\r\n",
       "}\r\n",
       "package \"Usages\" as E5  [[psysml:944b5b0e-65e9-4e4f-876e-9affde2d942d ]]  {\r\n",
       "rec usage \"vehicle: Vehicle\" as E6  [[psysml:61c6492a-41aa-4c1c-be1c-3a26db9abbc8 ]] {\r\n",
       "}\r\n",
       "}\r\n",
       "}\r\n",
       "E5 ..> E4 [[psysml:ef5e87d6-f969-4b16-bad6-f15ecd335219 ]] : <<import>>\r\n",
       "E6 - -:|> E4 [[psysml:144792e9-f989-4dc0-84af-44c5bd60762e ]] \r\n",
       "@enduml\r\n",
       "\n",
       "PlantUML version 1.2020.13(Sat Jun 13 12:26:38 UTC 2020)\n",
       "(EPL source distribution)\n",
       "Java Runtime: OpenJDK Runtime Environment\n",
       "JVM: OpenJDK 64-Bit Server VM\n",
       "Default Encoding: UTF-8\n",
       "Language: en\n",
       "Country: null\n",
       "--></g></svg>"
      ]
     },
     "execution_count": 40,
     "metadata": {},
     "output_type": "execute_result"
    }
   ],
   "source": [
    "%viz --style=\"DEFAULT\" --view=\"Interconnection\" \"AliasImport\""
   ]
  },
  {
   "cell_type": "code",
   "execution_count": 41,
   "id": "4e03a7be",
   "metadata": {
    "execution": {
     "iopub.execute_input": "2022-05-19T08:46:17.942583Z",
     "iopub.status.busy": "2022-05-19T08:46:17.942113Z",
     "iopub.status.idle": "2022-05-19T08:46:17.947186Z",
     "shell.execute_reply": "2022-05-19T08:46:17.946806Z"
    }
   },
   "outputs": [
    {
     "data": {
      "image/svg+xml": [
       "<?xml version=\"1.0\" encoding=\"UTF-8\" standalone=\"no\"?><svg xmlns=\"http://www.w3.org/2000/svg\" xmlns:xlink=\"http://www.w3.org/1999/xlink\" contentScriptType=\"application/ecmascript\" contentStyleType=\"text/css\" height=\"12px\" preserveAspectRatio=\"none\" style=\"width:12px;height:12px;\" version=\"1.1\" viewBox=\"0 0 12 12\" width=\"12px\" zoomAndPan=\"magnify\"><defs/><g><!--MD5=[388f21188e31bfdd97050473b19af356]\n",
       "@startuml\r\n",
       "skinparam ranksep 8\r\n",
       "skinparam monochrome true\r\n",
       "skinparam classbackgroundcolor white\r\n",
       "skinparam shadowing false\r\n",
       "skinparam wrapWidth 300\r\n",
       "hide circle\r\n",
       "\r\n",
       "@enduml\r\n",
       "\n",
       "PlantUML version 1.2020.13(Sat Jun 13 12:26:38 UTC 2020)\n",
       "(EPL source distribution)\n",
       "Java Runtime: OpenJDK Runtime Environment\n",
       "JVM: OpenJDK 64-Bit Server VM\n",
       "Default Encoding: UTF-8\n",
       "Language: en\n",
       "Country: null\n",
       "--></g></svg>"
      ]
     },
     "execution_count": 41,
     "metadata": {},
     "output_type": "execute_result"
    }
   ],
   "source": [
    "%viz --style=\"DEFAULT\" --view=\"Action\" \"AliasImport\""
   ]
  },
  {
   "cell_type": "code",
   "execution_count": 42,
   "id": "96ad0bc2",
   "metadata": {
    "execution": {
     "iopub.execute_input": "2022-05-19T08:46:17.997209Z",
     "iopub.status.busy": "2022-05-19T08:46:17.996748Z",
     "iopub.status.idle": "2022-05-19T08:46:18.001862Z",
     "shell.execute_reply": "2022-05-19T08:46:18.002180Z"
    }
   },
   "outputs": [
    {
     "data": {
      "image/svg+xml": [
       "<?xml version=\"1.0\" encoding=\"UTF-8\" standalone=\"no\"?><svg xmlns=\"http://www.w3.org/2000/svg\" xmlns:xlink=\"http://www.w3.org/1999/xlink\" contentScriptType=\"application/ecmascript\" contentStyleType=\"text/css\" height=\"12px\" preserveAspectRatio=\"none\" style=\"width:12px;height:12px;\" version=\"1.1\" viewBox=\"0 0 12 12\" width=\"12px\" zoomAndPan=\"magnify\"><defs/><g><!--MD5=[0b72472770326784bf6c2b53246e1e64]\n",
       "@startuml\r\n",
       "skinparam roundcorner 20\r\n",
       "skinparam BoxPadding 20\r\n",
       "skinparam SequenceBoxBackgroundColor #white\r\n",
       "skinparam style strictuml\r\n",
       "skinparam maxMessageSize 100\r\n",
       "skinparam monochrome true\r\n",
       "skinparam classbackgroundcolor white\r\n",
       "skinparam shadowing false\r\n",
       "skinparam wrapWidth 300\r\n",
       "hide circle\r\n",
       "\r\n",
       "@enduml\r\n",
       "\n",
       "PlantUML version 1.2020.13(Sat Jun 13 12:26:38 UTC 2020)\n",
       "(EPL source distribution)\n",
       "Java Runtime: OpenJDK Runtime Environment\n",
       "JVM: OpenJDK 64-Bit Server VM\n",
       "Default Encoding: UTF-8\n",
       "Language: en\n",
       "Country: null\n",
       "--></g></svg>"
      ]
     },
     "execution_count": 42,
     "metadata": {},
     "output_type": "execute_result"
    }
   ],
   "source": [
    "%viz --style=\"DEFAULT\" --view=\"Sequence\" \"AliasImport\""
   ]
  },
  {
   "cell_type": "code",
   "execution_count": 43,
   "id": "606a264a",
   "metadata": {
    "execution": {
     "iopub.execute_input": "2022-05-19T08:46:18.052219Z",
     "iopub.status.busy": "2022-05-19T08:46:18.051770Z",
     "iopub.status.idle": "2022-05-19T08:46:18.080421Z",
     "shell.execute_reply": "2022-05-19T08:46:18.080018Z"
    }
   },
   "outputs": [
    {
     "data": {
      "image/svg+xml": [
       "<?xml version=\"1.0\" encoding=\"UTF-8\" standalone=\"no\"?><svg xmlns=\"http://www.w3.org/2000/svg\" xmlns:xlink=\"http://www.w3.org/1999/xlink\" contentScriptType=\"application/ecmascript\" contentStyleType=\"text/css\" height=\"360px\" preserveAspectRatio=\"none\" style=\"width:275px;height:360px;\" version=\"1.1\" viewBox=\"0 0 275 360\" width=\"275px\" zoomAndPan=\"magnify\"><defs/><g><!--MD5=[fbc87193dbaf4d95561dea2c320d4a47]\n",
       "cluster E1--><a href=\"psysml:2a0424ca-0ea8-4c9d-a1b7-bd1ebfa50d2f\" target=\"_top\" title=\"psysml:2a0424ca-0ea8-4c9d-a1b7-bd1ebfa50d2f\" xlink:actuate=\"onRequest\" xlink:href=\"psysml:2a0424ca-0ea8-4c9d-a1b7-bd1ebfa50d2f\" xlink:show=\"new\" xlink:title=\"psysml:2a0424ca-0ea8-4c9d-a1b7-bd1ebfa50d2f\" xlink:type=\"simple\"><polygon fill=\"#FFFFFF\" points=\"16,6,97,6,104,28.2969,253,28.2969,253,348,16,348,16,6\" style=\"stroke: #000000; stroke-width: 1.5;\"/><line style=\"stroke: #000000; stroke-width: 1.5;\" x1=\"16\" x2=\"104\" y1=\"28.2969\" y2=\"28.2969\"/><text fill=\"#000000\" font-family=\"sans-serif\" font-size=\"14\" font-weight=\"bold\" lengthAdjust=\"spacingAndGlyphs\" textLength=\"75\" x=\"20\" y=\"20.9951\">AliasImport</text></a><!--MD5=[e4f7fae6ed58524ba242bb0b0d3be6b7]\n",
       "cluster E2--><a href=\"psysml:1b261b72-bc02-4122-a178-845f71db1598\" target=\"_top\" title=\"psysml:1b261b72-bc02-4122-a178-845f71db1598\" xlink:actuate=\"onRequest\" xlink:href=\"psysml:1b261b72-bc02-4122-a178-845f71db1598\" xlink:show=\"new\" xlink:title=\"psysml:1b261b72-bc02-4122-a178-845f71db1598\" xlink:type=\"simple\"><polygon fill=\"#FFFFFF\" points=\"65,227,144,227,151,249.2969,167,249.2969,167,324,65,324,65,227\" style=\"stroke: #000000; stroke-width: 1.5;\"/><line style=\"stroke: #000000; stroke-width: 1.5;\" x1=\"65\" x2=\"151\" y1=\"249.2969\" y2=\"249.2969\"/><text fill=\"#000000\" font-family=\"sans-serif\" font-size=\"14\" font-weight=\"bold\" lengthAdjust=\"spacingAndGlyphs\" textLength=\"73\" x=\"69\" y=\"241.9951\">Definitions</text></a><!--MD5=[f6df4d0ebaf0b5dfb2ced0ae5af7c670]\n",
       "cluster E4--><a href=\"psysml:944b5b0e-65e9-4e4f-876e-9affde2d942d\" target=\"_top\" title=\"psysml:944b5b0e-65e9-4e4f-876e-9affde2d942d\" xlink:actuate=\"onRequest\" xlink:href=\"psysml:944b5b0e-65e9-4e4f-876e-9affde2d942d\" xlink:show=\"new\" xlink:title=\"psysml:944b5b0e-65e9-4e4f-876e-9affde2d942d\" xlink:type=\"simple\"><polygon fill=\"#FFFFFF\" points=\"48,57,106,57,113,79.2969,221,79.2969,221,170,48,170,48,57\" style=\"stroke: #000000; stroke-width: 1.5;\"/><line style=\"stroke: #000000; stroke-width: 1.5;\" x1=\"48\" x2=\"113\" y1=\"79.2969\" y2=\"79.2969\"/><text fill=\"#000000\" font-family=\"sans-serif\" font-size=\"14\" font-weight=\"bold\" lengthAdjust=\"spacingAndGlyphs\" textLength=\"52\" x=\"52\" y=\"71.9951\">Usages</text></a><!--MD5=[09b614a08d8cba4a07c9adeb5e0fee81]\n",
       "class E3--><a href=\"psysml:0e061c30-2d05-4525-ad81-a01ef286857e\" target=\"_top\" title=\"psysml:0e061c30-2d05-4525-ad81-a01ef286857e\" xlink:actuate=\"onRequest\" xlink:href=\"psysml:0e061c30-2d05-4525-ad81-a01ef286857e\" xlink:show=\"new\" xlink:title=\"psysml:0e061c30-2d05-4525-ad81-a01ef286857e\" xlink:type=\"simple\"><rect fill=\"#FFFFFF\" height=\"45.9375\" id=\"E3\" style=\"stroke: #383838; stroke-width: 1.5;\" width=\"70\" x=\"81\" y=\"262\"/><text fill=\"#000000\" font-family=\"sans-serif\" font-size=\"12\" font-style=\"italic\" lengthAdjust=\"spacingAndGlyphs\" textLength=\"68\" x=\"82\" y=\"278.1387\">«part  def»</text><text fill=\"#000000\" font-family=\"sans-serif\" font-size=\"12\" lengthAdjust=\"spacingAndGlyphs\" textLength=\"45\" x=\"93.5\" y=\"292.1074\">Vehicle</text><line style=\"stroke: #383838; stroke-width: 1.5;\" x1=\"82\" x2=\"150\" y1=\"299.9375\" y2=\"299.9375\"/></a><!--MD5=[270fce915f116d4de14055a7c1d9a0f3]\n",
       "class E5--><a href=\"psysml:61c6492a-41aa-4c1c-be1c-3a26db9abbc8\" target=\"_top\" title=\"psysml:61c6492a-41aa-4c1c-be1c-3a26db9abbc8\" xlink:actuate=\"onRequest\" xlink:href=\"psysml:61c6492a-41aa-4c1c-be1c-3a26db9abbc8\" xlink:show=\"new\" xlink:title=\"psysml:61c6492a-41aa-4c1c-be1c-3a26db9abbc8\" xlink:type=\"simple\"><rect fill=\"#FFFFFF\" height=\"45.9375\" id=\"E5\" rx=\"10\" ry=\"10\" style=\"stroke: #383838; stroke-width: 1.5;\" width=\"106\" x=\"91\" y=\"100\"/><text fill=\"#000000\" font-family=\"sans-serif\" font-size=\"12\" font-style=\"italic\" lengthAdjust=\"spacingAndGlyphs\" textLength=\"40\" x=\"124\" y=\"116.1387\">«part»</text><text fill=\"#000000\" font-family=\"sans-serif\" font-size=\"12\" lengthAdjust=\"spacingAndGlyphs\" textLength=\"96\" x=\"94\" y=\"130.1074\">vehicle: Vehicle</text><line style=\"stroke: #383838; stroke-width: 1.5;\" x1=\"92\" x2=\"196\" y1=\"137.9375\" y2=\"137.9375\"/></a><!--MD5=[f0cdf4548168e5211fb3a02bf679d63a]\n",
       "link E4 to E3--><a href=\"psysml:ef5e87d6-f969-4b16-bad6-f15ecd335219\" target=\"_top\" title=\"psysml:ef5e87d6-f969-4b16-bad6-f15ecd335219\" xlink:actuate=\"onRequest\" xlink:href=\"psysml:ef5e87d6-f969-4b16-bad6-f15ecd335219\" xlink:show=\"new\" xlink:title=\"psysml:ef5e87d6-f969-4b16-bad6-f15ecd335219\" xlink:type=\"simple\"><path d=\"M58.5005,170.0549 C58.5193,170.2001 58.5383,170.3454 58.5574,170.4908 C58.6338,171.0725 58.7124,171.6562 58.7932,172.2415 C58.9548,173.4122 59.1253,174.5898 59.3052,175.7725 C59.6651,178.1379 60.0625,180.5238 60.5014,182.9158 C62.2569,192.4838 64.675,202.15 68,211 C74.23,227.58 84.77,244.23 94.38,257.43 \" fill=\"none\" id=\"E4-&gt;E3\" style=\"stroke: #383838; stroke-width: 1.0; stroke-dasharray: 7.0,7.0;\"/><polygon fill=\"#383838\" points=\"97.6,261.77,95.4384,252.1613,94.616,257.758,89.0193,256.9357,97.6,261.77\" style=\"stroke: #383838; stroke-width: 1.0;\"/><text fill=\"#000000\" font-family=\"sans-serif\" font-size=\"13\" lengthAdjust=\"spacingAndGlyphs\" textLength=\"58\" x=\"69\" y=\"207.0669\">«import»</text></a><!--MD5=[e9be52314489bd878ff4c7144b63c9e1]\n",
       "link E5 to E3--><a href=\"psysml:144792e9-f989-4dc0-84af-44c5bd60762e\" target=\"_top\" title=\"psysml:144792e9-f989-4dc0-84af-44c5bd60762e\" xlink:actuate=\"onRequest\" xlink:href=\"psysml:144792e9-f989-4dc0-84af-44c5bd60762e\" xlink:show=\"new\" xlink:title=\"psysml:144792e9-f989-4dc0-84af-44c5bd60762e\" xlink:type=\"simple\"><path d=\"M143.03,146.32 C142,163.98 139.95,189.21 136,211 C134.13,221.29 131.49,232.23 128.74,242.43 \" fill=\"none\" id=\"E5-&gt;E3\" style=\"stroke: #383838; stroke-width: 1.0;\"/><polygon fill=\"#FFFFFF\" points=\"123.15,261.87,121.6727,241.6755,135.1276,245.544,123.15,261.87\" style=\"stroke: #383838; stroke-width: 1.0;\"/><ellipse cx=\"125.1699\" cy=\"236.7501\" fill=\"#383838\" rx=\"2\" ry=\"2\" style=\"stroke: #383838; stroke-width: 1.0;\"/><ellipse cx=\"134.7805\" cy=\"239.5133\" fill=\"#383838\" rx=\"2\" ry=\"2\" style=\"stroke: #383838; stroke-width: 1.0;\"/></a><!--MD5=[4fdfd3d95ae5a29164452a24c865cead]\n",
       "@startuml\r\n",
       "skinparam monochrome true\r\n",
       "skinparam classbackgroundcolor white\r\n",
       "skinparam shadowing false\r\n",
       "skinparam wrapWidth 300\r\n",
       "hide circle\r\n",
       "\r\n",
       "package \"AliasImport\" as E1  [[psysml:2a0424ca-0ea8-4c9d-a1b7-bd1ebfa50d2f ]]  {\r\n",
       "package \"Definitions\" as E2  [[psysml:1b261b72-bc02-4122-a178-845f71db1598 ]]  {\r\n",
       "comp def \"Vehicle\" as E3  <<(T,blue) part  def>> [[psysml:0e061c30-2d05-4525-ad81-a01ef286857e ]] {\r\n",
       "}\r\n",
       "}\r\n",
       "package \"Usages\" as E4  [[psysml:944b5b0e-65e9-4e4f-876e-9affde2d942d ]]  {\r\n",
       "comp usage \"vehicle: Vehicle \" as E5  <<(T,blue) part>> [[psysml:61c6492a-41aa-4c1c-be1c-3a26db9abbc8 ]] {\r\n",
       "}\r\n",
       "}\r\n",
       "}\r\n",
       "E4 ..> E3 [[psysml:ef5e87d6-f969-4b16-bad6-f15ecd335219 ]] : <<import>>\r\n",
       "E5 - -:|> E3 [[psysml:144792e9-f989-4dc0-84af-44c5bd60762e ]] \r\n",
       "@enduml\r\n",
       "\n",
       "PlantUML version 1.2020.13(Sat Jun 13 12:26:38 UTC 2020)\n",
       "(EPL source distribution)\n",
       "Java Runtime: OpenJDK Runtime Environment\n",
       "JVM: OpenJDK 64-Bit Server VM\n",
       "Default Encoding: UTF-8\n",
       "Language: en\n",
       "Country: null\n",
       "--></g></svg>"
      ]
     },
     "execution_count": 43,
     "metadata": {},
     "output_type": "execute_result"
    }
   ],
   "source": [
    "%viz --style=\"DEFAULT\" --view=\"MIXED\" \"AliasImport\""
   ]
  },
  {
   "cell_type": "code",
   "execution_count": 44,
   "id": "1b999ed0",
   "metadata": {
    "execution": {
     "iopub.execute_input": "2022-05-19T08:46:18.130340Z",
     "iopub.status.busy": "2022-05-19T08:46:18.129841Z",
     "iopub.status.idle": "2022-05-19T08:46:18.158160Z",
     "shell.execute_reply": "2022-05-19T08:46:18.156741Z"
    }
   },
   "outputs": [
    {
     "data": {
      "image/svg+xml": [
       "<?xml version=\"1.0\" encoding=\"UTF-8\" standalone=\"no\"?><svg xmlns=\"http://www.w3.org/2000/svg\" xmlns:xlink=\"http://www.w3.org/1999/xlink\" contentScriptType=\"application/ecmascript\" contentStyleType=\"text/css\" height=\"360px\" preserveAspectRatio=\"none\" style=\"width:275px;height:360px;\" version=\"1.1\" viewBox=\"0 0 275 360\" width=\"275px\" zoomAndPan=\"magnify\"><defs/><g><!--MD5=[fbc87193dbaf4d95561dea2c320d4a47]\n",
       "cluster E1--><a href=\"psysml:2a0424ca-0ea8-4c9d-a1b7-bd1ebfa50d2f\" target=\"_top\" title=\"psysml:2a0424ca-0ea8-4c9d-a1b7-bd1ebfa50d2f\" xlink:actuate=\"onRequest\" xlink:href=\"psysml:2a0424ca-0ea8-4c9d-a1b7-bd1ebfa50d2f\" xlink:show=\"new\" xlink:title=\"psysml:2a0424ca-0ea8-4c9d-a1b7-bd1ebfa50d2f\" xlink:type=\"simple\"><polygon fill=\"#FFFFFF\" points=\"16,6,97,6,104,28.2969,253,28.2969,253,348,16,348,16,6\" style=\"stroke: #000000; stroke-width: 1.5;\"/><line style=\"stroke: #000000; stroke-width: 1.5;\" x1=\"16\" x2=\"104\" y1=\"28.2969\" y2=\"28.2969\"/><text fill=\"#000000\" font-family=\"sans-serif\" font-size=\"14\" font-weight=\"bold\" lengthAdjust=\"spacingAndGlyphs\" textLength=\"75\" x=\"20\" y=\"20.9951\">AliasImport</text></a><!--MD5=[e4f7fae6ed58524ba242bb0b0d3be6b7]\n",
       "cluster E2--><a href=\"psysml:1b261b72-bc02-4122-a178-845f71db1598\" target=\"_top\" title=\"psysml:1b261b72-bc02-4122-a178-845f71db1598\" xlink:actuate=\"onRequest\" xlink:href=\"psysml:1b261b72-bc02-4122-a178-845f71db1598\" xlink:show=\"new\" xlink:title=\"psysml:1b261b72-bc02-4122-a178-845f71db1598\" xlink:type=\"simple\"><polygon fill=\"#FFFFFF\" points=\"65,227,144,227,151,249.2969,167,249.2969,167,324,65,324,65,227\" style=\"stroke: #000000; stroke-width: 1.5;\"/><line style=\"stroke: #000000; stroke-width: 1.5;\" x1=\"65\" x2=\"151\" y1=\"249.2969\" y2=\"249.2969\"/><text fill=\"#000000\" font-family=\"sans-serif\" font-size=\"14\" font-weight=\"bold\" lengthAdjust=\"spacingAndGlyphs\" textLength=\"73\" x=\"69\" y=\"241.9951\">Definitions</text></a><!--MD5=[f6df4d0ebaf0b5dfb2ced0ae5af7c670]\n",
       "cluster E4--><a href=\"psysml:944b5b0e-65e9-4e4f-876e-9affde2d942d\" target=\"_top\" title=\"psysml:944b5b0e-65e9-4e4f-876e-9affde2d942d\" xlink:actuate=\"onRequest\" xlink:href=\"psysml:944b5b0e-65e9-4e4f-876e-9affde2d942d\" xlink:show=\"new\" xlink:title=\"psysml:944b5b0e-65e9-4e4f-876e-9affde2d942d\" xlink:type=\"simple\"><polygon fill=\"#FFFFFF\" points=\"48,57,106,57,113,79.2969,221,79.2969,221,170,48,170,48,57\" style=\"stroke: #000000; stroke-width: 1.5;\"/><line style=\"stroke: #000000; stroke-width: 1.5;\" x1=\"48\" x2=\"113\" y1=\"79.2969\" y2=\"79.2969\"/><text fill=\"#000000\" font-family=\"sans-serif\" font-size=\"14\" font-weight=\"bold\" lengthAdjust=\"spacingAndGlyphs\" textLength=\"52\" x=\"52\" y=\"71.9951\">Usages</text></a><!--MD5=[09b614a08d8cba4a07c9adeb5e0fee81]\n",
       "class E3--><a href=\"psysml:0e061c30-2d05-4525-ad81-a01ef286857e\" target=\"_top\" title=\"psysml:0e061c30-2d05-4525-ad81-a01ef286857e\" xlink:actuate=\"onRequest\" xlink:href=\"psysml:0e061c30-2d05-4525-ad81-a01ef286857e\" xlink:show=\"new\" xlink:title=\"psysml:0e061c30-2d05-4525-ad81-a01ef286857e\" xlink:type=\"simple\"><rect fill=\"#FFFFFF\" height=\"45.9375\" id=\"E3\" style=\"stroke: #383838; stroke-width: 1.5;\" width=\"70\" x=\"81\" y=\"262\"/><text fill=\"#000000\" font-family=\"sans-serif\" font-size=\"12\" font-style=\"italic\" lengthAdjust=\"spacingAndGlyphs\" textLength=\"68\" x=\"82\" y=\"278.1387\">«part  def»</text><text fill=\"#000000\" font-family=\"sans-serif\" font-size=\"12\" lengthAdjust=\"spacingAndGlyphs\" textLength=\"45\" x=\"93.5\" y=\"292.1074\">Vehicle</text><line style=\"stroke: #383838; stroke-width: 1.5;\" x1=\"82\" x2=\"150\" y1=\"299.9375\" y2=\"299.9375\"/></a><!--MD5=[270fce915f116d4de14055a7c1d9a0f3]\n",
       "class E5--><a href=\"psysml:61c6492a-41aa-4c1c-be1c-3a26db9abbc8\" target=\"_top\" title=\"psysml:61c6492a-41aa-4c1c-be1c-3a26db9abbc8\" xlink:actuate=\"onRequest\" xlink:href=\"psysml:61c6492a-41aa-4c1c-be1c-3a26db9abbc8\" xlink:show=\"new\" xlink:title=\"psysml:61c6492a-41aa-4c1c-be1c-3a26db9abbc8\" xlink:type=\"simple\"><rect fill=\"#FFFFFF\" height=\"45.9375\" id=\"E5\" rx=\"10\" ry=\"10\" style=\"stroke: #383838; stroke-width: 1.5;\" width=\"106\" x=\"91\" y=\"100\"/><text fill=\"#000000\" font-family=\"sans-serif\" font-size=\"12\" font-style=\"italic\" lengthAdjust=\"spacingAndGlyphs\" textLength=\"40\" x=\"124\" y=\"116.1387\">«part»</text><text fill=\"#000000\" font-family=\"sans-serif\" font-size=\"12\" lengthAdjust=\"spacingAndGlyphs\" textLength=\"96\" x=\"94\" y=\"130.1074\">vehicle: Vehicle</text><line style=\"stroke: #383838; stroke-width: 1.5;\" x1=\"92\" x2=\"196\" y1=\"137.9375\" y2=\"137.9375\"/></a><!--MD5=[f0cdf4548168e5211fb3a02bf679d63a]\n",
       "link E4 to E3--><a href=\"psysml:ef5e87d6-f969-4b16-bad6-f15ecd335219\" target=\"_top\" title=\"psysml:ef5e87d6-f969-4b16-bad6-f15ecd335219\" xlink:actuate=\"onRequest\" xlink:href=\"psysml:ef5e87d6-f969-4b16-bad6-f15ecd335219\" xlink:show=\"new\" xlink:title=\"psysml:ef5e87d6-f969-4b16-bad6-f15ecd335219\" xlink:type=\"simple\"><path d=\"M58.5005,170.0549 C58.5193,170.2001 58.5383,170.3454 58.5574,170.4908 C58.6338,171.0725 58.7124,171.6562 58.7932,172.2415 C58.9548,173.4122 59.1253,174.5898 59.3052,175.7725 C59.6651,178.1379 60.0625,180.5238 60.5014,182.9158 C62.2569,192.4838 64.675,202.15 68,211 C74.23,227.58 84.77,244.23 94.38,257.43 \" fill=\"none\" id=\"E4-&gt;E3\" style=\"stroke: #383838; stroke-width: 1.0; stroke-dasharray: 7.0,7.0;\"/><polygon fill=\"#383838\" points=\"97.6,261.77,95.4384,252.1613,94.616,257.758,89.0193,256.9357,97.6,261.77\" style=\"stroke: #383838; stroke-width: 1.0;\"/><text fill=\"#000000\" font-family=\"sans-serif\" font-size=\"13\" lengthAdjust=\"spacingAndGlyphs\" textLength=\"58\" x=\"69\" y=\"207.0669\">«import»</text></a><!--MD5=[e9be52314489bd878ff4c7144b63c9e1]\n",
       "link E5 to E3--><a href=\"psysml:144792e9-f989-4dc0-84af-44c5bd60762e\" target=\"_top\" title=\"psysml:144792e9-f989-4dc0-84af-44c5bd60762e\" xlink:actuate=\"onRequest\" xlink:href=\"psysml:144792e9-f989-4dc0-84af-44c5bd60762e\" xlink:show=\"new\" xlink:title=\"psysml:144792e9-f989-4dc0-84af-44c5bd60762e\" xlink:type=\"simple\"><path d=\"M143.03,146.32 C142,163.98 139.95,189.21 136,211 C134.13,221.29 131.49,232.23 128.74,242.43 \" fill=\"none\" id=\"E5-&gt;E3\" style=\"stroke: #383838; stroke-width: 1.0;\"/><polygon fill=\"#FFFFFF\" points=\"123.15,261.87,121.6727,241.6755,135.1276,245.544,123.15,261.87\" style=\"stroke: #383838; stroke-width: 1.0;\"/><ellipse cx=\"125.1699\" cy=\"236.7501\" fill=\"#383838\" rx=\"2\" ry=\"2\" style=\"stroke: #383838; stroke-width: 1.0;\"/><ellipse cx=\"134.7805\" cy=\"239.5133\" fill=\"#383838\" rx=\"2\" ry=\"2\" style=\"stroke: #383838; stroke-width: 1.0;\"/></a><!--MD5=[079307991dab157f517c4bf5611cc811]\n",
       "@startuml\r\n",
       "top to bottom direction\r\n",
       "skinparam monochrome true\r\n",
       "skinparam classbackgroundcolor white\r\n",
       "skinparam shadowing false\r\n",
       "skinparam wrapWidth 300\r\n",
       "hide circle\r\n",
       "\r\n",
       "package \"AliasImport\" as E1  [[psysml:2a0424ca-0ea8-4c9d-a1b7-bd1ebfa50d2f ]]  {\r\n",
       "package \"Definitions\" as E2  [[psysml:1b261b72-bc02-4122-a178-845f71db1598 ]]  {\r\n",
       "comp def \"Vehicle\" as E3  <<(T,blue) part  def>> [[psysml:0e061c30-2d05-4525-ad81-a01ef286857e ]] {\r\n",
       "}\r\n",
       "}\r\n",
       "package \"Usages\" as E4  [[psysml:944b5b0e-65e9-4e4f-876e-9affde2d942d ]]  {\r\n",
       "comp usage \"vehicle: Vehicle \" as E5  <<(T,blue) part>> [[psysml:61c6492a-41aa-4c1c-be1c-3a26db9abbc8 ]] {\r\n",
       "}\r\n",
       "}\r\n",
       "}\r\n",
       "E4 ..> E3 [[psysml:ef5e87d6-f969-4b16-bad6-f15ecd335219 ]] : <<import>>\r\n",
       "E5 - -:|> E3 [[psysml:144792e9-f989-4dc0-84af-44c5bd60762e ]] \r\n",
       "@enduml\r\n",
       "\n",
       "PlantUML version 1.2020.13(Sat Jun 13 12:26:38 UTC 2020)\n",
       "(EPL source distribution)\n",
       "Java Runtime: OpenJDK Runtime Environment\n",
       "JVM: OpenJDK 64-Bit Server VM\n",
       "Default Encoding: UTF-8\n",
       "Language: en\n",
       "Country: null\n",
       "--></g></svg>"
      ]
     },
     "execution_count": 44,
     "metadata": {},
     "output_type": "execute_result"
    }
   ],
   "source": [
    "%viz --style=\"TB\" --view=\"Default\" \"AliasImport\""
   ]
  },
  {
   "cell_type": "code",
   "execution_count": 45,
   "id": "ba7c37ad",
   "metadata": {
    "execution": {
     "iopub.execute_input": "2022-05-19T08:46:18.207805Z",
     "iopub.status.busy": "2022-05-19T08:46:18.207178Z",
     "iopub.status.idle": "2022-05-19T08:46:18.236157Z",
     "shell.execute_reply": "2022-05-19T08:46:18.234736Z"
    }
   },
   "outputs": [
    {
     "data": {
      "image/svg+xml": [
       "<?xml version=\"1.0\" encoding=\"UTF-8\" standalone=\"no\"?><svg xmlns=\"http://www.w3.org/2000/svg\" xmlns:xlink=\"http://www.w3.org/1999/xlink\" contentScriptType=\"application/ecmascript\" contentStyleType=\"text/css\" height=\"360px\" preserveAspectRatio=\"none\" style=\"width:275px;height:360px;\" version=\"1.1\" viewBox=\"0 0 275 360\" width=\"275px\" zoomAndPan=\"magnify\"><defs/><g><!--MD5=[fbc87193dbaf4d95561dea2c320d4a47]\n",
       "cluster E1--><a href=\"psysml:2a0424ca-0ea8-4c9d-a1b7-bd1ebfa50d2f\" target=\"_top\" title=\"psysml:2a0424ca-0ea8-4c9d-a1b7-bd1ebfa50d2f\" xlink:actuate=\"onRequest\" xlink:href=\"psysml:2a0424ca-0ea8-4c9d-a1b7-bd1ebfa50d2f\" xlink:show=\"new\" xlink:title=\"psysml:2a0424ca-0ea8-4c9d-a1b7-bd1ebfa50d2f\" xlink:type=\"simple\"><polygon fill=\"#FFFFFF\" points=\"16,6,97,6,104,28.2969,253,28.2969,253,348,16,348,16,6\" style=\"stroke: #000000; stroke-width: 1.5;\"/><line style=\"stroke: #000000; stroke-width: 1.5;\" x1=\"16\" x2=\"104\" y1=\"28.2969\" y2=\"28.2969\"/><text fill=\"#000000\" font-family=\"sans-serif\" font-size=\"14\" font-weight=\"bold\" lengthAdjust=\"spacingAndGlyphs\" textLength=\"75\" x=\"20\" y=\"20.9951\">AliasImport</text></a><!--MD5=[e4f7fae6ed58524ba242bb0b0d3be6b7]\n",
       "cluster E2--><a href=\"psysml:1b261b72-bc02-4122-a178-845f71db1598\" target=\"_top\" title=\"psysml:1b261b72-bc02-4122-a178-845f71db1598\" xlink:actuate=\"onRequest\" xlink:href=\"psysml:1b261b72-bc02-4122-a178-845f71db1598\" xlink:show=\"new\" xlink:title=\"psysml:1b261b72-bc02-4122-a178-845f71db1598\" xlink:type=\"simple\"><polygon fill=\"#FFFFFF\" points=\"65,227,144,227,151,249.2969,167,249.2969,167,324,65,324,65,227\" style=\"stroke: #000000; stroke-width: 1.5;\"/><line style=\"stroke: #000000; stroke-width: 1.5;\" x1=\"65\" x2=\"151\" y1=\"249.2969\" y2=\"249.2969\"/><text fill=\"#000000\" font-family=\"sans-serif\" font-size=\"14\" font-weight=\"bold\" lengthAdjust=\"spacingAndGlyphs\" textLength=\"73\" x=\"69\" y=\"241.9951\">Definitions</text></a><!--MD5=[f6df4d0ebaf0b5dfb2ced0ae5af7c670]\n",
       "cluster E4--><a href=\"psysml:944b5b0e-65e9-4e4f-876e-9affde2d942d\" target=\"_top\" title=\"psysml:944b5b0e-65e9-4e4f-876e-9affde2d942d\" xlink:actuate=\"onRequest\" xlink:href=\"psysml:944b5b0e-65e9-4e4f-876e-9affde2d942d\" xlink:show=\"new\" xlink:title=\"psysml:944b5b0e-65e9-4e4f-876e-9affde2d942d\" xlink:type=\"simple\"><polygon fill=\"#FFFFFF\" points=\"48,57,106,57,113,79.2969,221,79.2969,221,170,48,170,48,57\" style=\"stroke: #000000; stroke-width: 1.5;\"/><line style=\"stroke: #000000; stroke-width: 1.5;\" x1=\"48\" x2=\"113\" y1=\"79.2969\" y2=\"79.2969\"/><text fill=\"#000000\" font-family=\"sans-serif\" font-size=\"14\" font-weight=\"bold\" lengthAdjust=\"spacingAndGlyphs\" textLength=\"52\" x=\"52\" y=\"71.9951\">Usages</text></a><!--MD5=[09b614a08d8cba4a07c9adeb5e0fee81]\n",
       "class E3--><a href=\"psysml:0e061c30-2d05-4525-ad81-a01ef286857e\" target=\"_top\" title=\"psysml:0e061c30-2d05-4525-ad81-a01ef286857e\" xlink:actuate=\"onRequest\" xlink:href=\"psysml:0e061c30-2d05-4525-ad81-a01ef286857e\" xlink:show=\"new\" xlink:title=\"psysml:0e061c30-2d05-4525-ad81-a01ef286857e\" xlink:type=\"simple\"><rect fill=\"#FFFFFF\" height=\"45.9375\" id=\"E3\" style=\"stroke: #383838; stroke-width: 1.5;\" width=\"70\" x=\"81\" y=\"262\"/><text fill=\"#000000\" font-family=\"sans-serif\" font-size=\"12\" font-style=\"italic\" lengthAdjust=\"spacingAndGlyphs\" textLength=\"68\" x=\"82\" y=\"278.1387\">«part  def»</text><text fill=\"#000000\" font-family=\"sans-serif\" font-size=\"12\" lengthAdjust=\"spacingAndGlyphs\" textLength=\"45\" x=\"93.5\" y=\"292.1074\">Vehicle</text><line style=\"stroke: #383838; stroke-width: 1.5;\" x1=\"82\" x2=\"150\" y1=\"299.9375\" y2=\"299.9375\"/></a><!--MD5=[270fce915f116d4de14055a7c1d9a0f3]\n",
       "class E5--><a href=\"psysml:61c6492a-41aa-4c1c-be1c-3a26db9abbc8\" target=\"_top\" title=\"psysml:61c6492a-41aa-4c1c-be1c-3a26db9abbc8\" xlink:actuate=\"onRequest\" xlink:href=\"psysml:61c6492a-41aa-4c1c-be1c-3a26db9abbc8\" xlink:show=\"new\" xlink:title=\"psysml:61c6492a-41aa-4c1c-be1c-3a26db9abbc8\" xlink:type=\"simple\"><rect fill=\"#FFFFFF\" height=\"45.9375\" id=\"E5\" rx=\"10\" ry=\"10\" style=\"stroke: #383838; stroke-width: 1.5;\" width=\"106\" x=\"91\" y=\"100\"/><text fill=\"#000000\" font-family=\"sans-serif\" font-size=\"12\" font-style=\"italic\" lengthAdjust=\"spacingAndGlyphs\" textLength=\"40\" x=\"124\" y=\"116.1387\">«part»</text><text fill=\"#000000\" font-family=\"sans-serif\" font-size=\"12\" lengthAdjust=\"spacingAndGlyphs\" textLength=\"96\" x=\"94\" y=\"130.1074\">vehicle: Vehicle</text><line style=\"stroke: #383838; stroke-width: 1.5;\" x1=\"92\" x2=\"196\" y1=\"137.9375\" y2=\"137.9375\"/></a><!--MD5=[f0cdf4548168e5211fb3a02bf679d63a]\n",
       "link E4 to E3--><a href=\"psysml:ef5e87d6-f969-4b16-bad6-f15ecd335219\" target=\"_top\" title=\"psysml:ef5e87d6-f969-4b16-bad6-f15ecd335219\" xlink:actuate=\"onRequest\" xlink:href=\"psysml:ef5e87d6-f969-4b16-bad6-f15ecd335219\" xlink:show=\"new\" xlink:title=\"psysml:ef5e87d6-f969-4b16-bad6-f15ecd335219\" xlink:type=\"simple\"><path d=\"M58.5005,170.0549 C58.5193,170.2001 58.5383,170.3454 58.5574,170.4908 C58.6338,171.0725 58.7124,171.6562 58.7932,172.2415 C58.9548,173.4122 59.1253,174.5898 59.3052,175.7725 C59.6651,178.1379 60.0625,180.5238 60.5014,182.9158 C62.2569,192.4838 64.675,202.15 68,211 C74.23,227.58 84.77,244.23 94.38,257.43 \" fill=\"none\" id=\"E4-&gt;E3\" style=\"stroke: #383838; stroke-width: 1.0; stroke-dasharray: 7.0,7.0;\"/><polygon fill=\"#383838\" points=\"97.6,261.77,95.4384,252.1613,94.616,257.758,89.0193,256.9357,97.6,261.77\" style=\"stroke: #383838; stroke-width: 1.0;\"/><text fill=\"#000000\" font-family=\"sans-serif\" font-size=\"13\" lengthAdjust=\"spacingAndGlyphs\" textLength=\"58\" x=\"69\" y=\"207.0669\">«import»</text></a><!--MD5=[e9be52314489bd878ff4c7144b63c9e1]\n",
       "link E5 to E3--><a href=\"psysml:144792e9-f989-4dc0-84af-44c5bd60762e\" target=\"_top\" title=\"psysml:144792e9-f989-4dc0-84af-44c5bd60762e\" xlink:actuate=\"onRequest\" xlink:href=\"psysml:144792e9-f989-4dc0-84af-44c5bd60762e\" xlink:show=\"new\" xlink:title=\"psysml:144792e9-f989-4dc0-84af-44c5bd60762e\" xlink:type=\"simple\"><path d=\"M143.03,146.32 C142,163.98 139.95,189.21 136,211 C134.13,221.29 131.49,232.23 128.74,242.43 \" fill=\"none\" id=\"E5-&gt;E3\" style=\"stroke: #383838; stroke-width: 1.0;\"/><polygon fill=\"#FFFFFF\" points=\"123.15,261.87,121.6727,241.6755,135.1276,245.544,123.15,261.87\" style=\"stroke: #383838; stroke-width: 1.0;\"/><ellipse cx=\"125.1699\" cy=\"236.7501\" fill=\"#383838\" rx=\"2\" ry=\"2\" style=\"stroke: #383838; stroke-width: 1.0;\"/><ellipse cx=\"134.7805\" cy=\"239.5133\" fill=\"#383838\" rx=\"2\" ry=\"2\" style=\"stroke: #383838; stroke-width: 1.0;\"/></a><!--MD5=[079307991dab157f517c4bf5611cc811]\n",
       "@startuml\r\n",
       "top to bottom direction\r\n",
       "skinparam monochrome true\r\n",
       "skinparam classbackgroundcolor white\r\n",
       "skinparam shadowing false\r\n",
       "skinparam wrapWidth 300\r\n",
       "hide circle\r\n",
       "\r\n",
       "package \"AliasImport\" as E1  [[psysml:2a0424ca-0ea8-4c9d-a1b7-bd1ebfa50d2f ]]  {\r\n",
       "package \"Definitions\" as E2  [[psysml:1b261b72-bc02-4122-a178-845f71db1598 ]]  {\r\n",
       "comp def \"Vehicle\" as E3  <<(T,blue) part  def>> [[psysml:0e061c30-2d05-4525-ad81-a01ef286857e ]] {\r\n",
       "}\r\n",
       "}\r\n",
       "package \"Usages\" as E4  [[psysml:944b5b0e-65e9-4e4f-876e-9affde2d942d ]]  {\r\n",
       "comp usage \"vehicle: Vehicle \" as E5  <<(T,blue) part>> [[psysml:61c6492a-41aa-4c1c-be1c-3a26db9abbc8 ]] {\r\n",
       "}\r\n",
       "}\r\n",
       "}\r\n",
       "E4 ..> E3 [[psysml:ef5e87d6-f969-4b16-bad6-f15ecd335219 ]] : <<import>>\r\n",
       "E5 - -:|> E3 [[psysml:144792e9-f989-4dc0-84af-44c5bd60762e ]] \r\n",
       "@enduml\r\n",
       "\n",
       "PlantUML version 1.2020.13(Sat Jun 13 12:26:38 UTC 2020)\n",
       "(EPL source distribution)\n",
       "Java Runtime: OpenJDK Runtime Environment\n",
       "JVM: OpenJDK 64-Bit Server VM\n",
       "Default Encoding: UTF-8\n",
       "Language: en\n",
       "Country: null\n",
       "--></g></svg>"
      ]
     },
     "execution_count": 45,
     "metadata": {},
     "output_type": "execute_result"
    }
   ],
   "source": [
    "%viz --style=\"TB\" --view=\"Tree\" \"AliasImport\""
   ]
  },
  {
   "cell_type": "code",
   "execution_count": 46,
   "id": "32f8783f",
   "metadata": {
    "execution": {
     "iopub.execute_input": "2022-05-19T08:46:18.285544Z",
     "iopub.status.busy": "2022-05-19T08:46:18.285095Z",
     "iopub.status.idle": "2022-05-19T08:46:18.290122Z",
     "shell.execute_reply": "2022-05-19T08:46:18.289748Z"
    }
   },
   "outputs": [
    {
     "data": {
      "image/svg+xml": [
       "<?xml version=\"1.0\" encoding=\"UTF-8\" standalone=\"no\"?><svg xmlns=\"http://www.w3.org/2000/svg\" xmlns:xlink=\"http://www.w3.org/1999/xlink\" contentScriptType=\"application/ecmascript\" contentStyleType=\"text/css\" height=\"12px\" preserveAspectRatio=\"none\" style=\"width:12px;height:12px;\" version=\"1.1\" viewBox=\"0 0 12 12\" width=\"12px\" zoomAndPan=\"magnify\"><defs/><g><!--MD5=[f4ee21bc66e489b5061b7c3e9601fdef]\n",
       "@startuml\r\n",
       "top to bottom direction\r\n",
       "skinparam monochrome true\r\n",
       "skinparam classbackgroundcolor white\r\n",
       "skinparam shadowing false\r\n",
       "skinparam wrapWidth 300\r\n",
       "hide circle\r\n",
       "\r\n",
       "@enduml\r\n",
       "\n",
       "PlantUML version 1.2020.13(Sat Jun 13 12:26:38 UTC 2020)\n",
       "(EPL source distribution)\n",
       "Java Runtime: OpenJDK Runtime Environment\n",
       "JVM: OpenJDK 64-Bit Server VM\n",
       "Default Encoding: UTF-8\n",
       "Language: en\n",
       "Country: null\n",
       "--></g></svg>"
      ]
     },
     "execution_count": 46,
     "metadata": {},
     "output_type": "execute_result"
    }
   ],
   "source": [
    "%viz --style=\"TB\" --view=\"State\" \"AliasImport\""
   ]
  },
  {
   "cell_type": "code",
   "execution_count": 47,
   "id": "94fbe1fe",
   "metadata": {
    "execution": {
     "iopub.execute_input": "2022-05-19T08:46:18.340328Z",
     "iopub.status.busy": "2022-05-19T08:46:18.339708Z",
     "iopub.status.idle": "2022-05-19T08:46:18.370176Z",
     "shell.execute_reply": "2022-05-19T08:46:18.368703Z"
    }
   },
   "outputs": [
    {
     "data": {
      "image/svg+xml": [
       "<?xml version=\"1.0\" encoding=\"UTF-8\" standalone=\"no\"?><svg xmlns=\"http://www.w3.org/2000/svg\" xmlns:xlink=\"http://www.w3.org/1999/xlink\" contentScriptType=\"application/ecmascript\" contentStyleType=\"text/css\" height=\"351px\" preserveAspectRatio=\"none\" style=\"width:302px;height:351px;\" version=\"1.1\" viewBox=\"0 0 302 351\" width=\"302px\" zoomAndPan=\"magnify\"><defs/><g><!--MD5=[fbc87193dbaf4d95561dea2c320d4a47]\n",
       "cluster E1--><a href=\"psysml:2a0424ca-0ea8-4c9d-a1b7-bd1ebfa50d2f\" target=\"_top\" title=\"psysml:2a0424ca-0ea8-4c9d-a1b7-bd1ebfa50d2f\" xlink:actuate=\"onRequest\" xlink:href=\"psysml:2a0424ca-0ea8-4c9d-a1b7-bd1ebfa50d2f\" xlink:show=\"new\" xlink:title=\"psysml:2a0424ca-0ea8-4c9d-a1b7-bd1ebfa50d2f\" xlink:type=\"simple\"><polygon fill=\"#FFFFFF\" points=\"16,6,97,6,104,28.2969,280,28.2969,280,339,16,339,16,6\" style=\"stroke: #000000; stroke-width: 1.5;\"/><line style=\"stroke: #000000; stroke-width: 1.5;\" x1=\"16\" x2=\"104\" y1=\"28.2969\" y2=\"28.2969\"/><text fill=\"#000000\" font-family=\"sans-serif\" font-size=\"14\" font-weight=\"bold\" lengthAdjust=\"spacingAndGlyphs\" textLength=\"75\" x=\"20\" y=\"20.9951\">AliasImport</text></a><!--MD5=[e4f7fae6ed58524ba242bb0b0d3be6b7]\n",
       "cluster E2--><a href=\"psysml:1b261b72-bc02-4122-a178-845f71db1598\" target=\"_top\" title=\"psysml:1b261b72-bc02-4122-a178-845f71db1598\" xlink:actuate=\"onRequest\" xlink:href=\"psysml:1b261b72-bc02-4122-a178-845f71db1598\" xlink:show=\"new\" xlink:title=\"psysml:1b261b72-bc02-4122-a178-845f71db1598\" xlink:type=\"simple\"><polygon fill=\"#FFFFFF\" points=\"40,221,119,221,126,243.2969,256,243.2969,256,315,40,315,40,221\" style=\"stroke: #000000; stroke-width: 1.5;\"/><line style=\"stroke: #000000; stroke-width: 1.5;\" x1=\"40\" x2=\"126\" y1=\"243.2969\" y2=\"243.2969\"/><text fill=\"#000000\" font-family=\"sans-serif\" font-size=\"14\" font-weight=\"bold\" lengthAdjust=\"spacingAndGlyphs\" textLength=\"73\" x=\"44\" y=\"235.9951\">Definitions</text></a><!--MD5=[de5ec2e2e8f62f467e546659f5068c88]\n",
       "cluster E5--><a href=\"psysml:944b5b0e-65e9-4e4f-876e-9affde2d942d\" target=\"_top\" title=\"psysml:944b5b0e-65e9-4e4f-876e-9affde2d942d\" xlink:actuate=\"onRequest\" xlink:href=\"psysml:944b5b0e-65e9-4e4f-876e-9affde2d942d\" xlink:show=\"new\" xlink:title=\"psysml:944b5b0e-65e9-4e4f-876e-9affde2d942d\" xlink:type=\"simple\"><polygon fill=\"#FFFFFF\" points=\"56,57,114,57,121,79.2969,230,79.2969,230,164,56,164,56,57\" style=\"stroke: #000000; stroke-width: 1.5;\"/><line style=\"stroke: #000000; stroke-width: 1.5;\" x1=\"56\" x2=\"121\" y1=\"79.2969\" y2=\"79.2969\"/><text fill=\"#000000\" font-family=\"sans-serif\" font-size=\"14\" font-weight=\"bold\" lengthAdjust=\"spacingAndGlyphs\" textLength=\"52\" x=\"60\" y=\"71.9951\">Usages</text></a><g id=\"E1.E2.E3\"><a href=\"psysml:0e061c30-2d05-4525-ad81-a01ef286857e\" target=\"_top\" title=\"psysml:0e061c30-2d05-4525-ad81-a01ef286857e\" xlink:actuate=\"onRequest\" xlink:href=\"psysml:0e061c30-2d05-4525-ad81-a01ef286857e\" xlink:show=\"new\" xlink:title=\"psysml:0e061c30-2d05-4525-ad81-a01ef286857e\" xlink:type=\"simple\"><rect fill=\"#FFFFFF\" height=\"42.9375\" id=\"E3\" style=\"stroke: #383838; stroke-width: 1.5;\" width=\"75\" x=\"165.5\" y=\"256\"/><rect fill=\"#F8F8F8\" height=\"37.9375\" style=\"stroke: #383838; stroke-width: 1.5;\" width=\"75\" x=\"165.5\" y=\"256\"/><text fill=\"#000000\" font-family=\"sans-serif\" font-size=\"12\" font-style=\"italic\" lengthAdjust=\"spacingAndGlyphs\" textLength=\"68\" x=\"169\" y=\"272.1387\">«part  def»</text><text fill=\"#000000\" font-family=\"sans-serif\" font-size=\"12\" lengthAdjust=\"spacingAndGlyphs\" textLength=\"45\" x=\"180.5\" y=\"286.1074\">Vehicle</text></a></g><g id=\"E1.E2.E4\"><a href=\"psysml:0e061c30-2d05-4525-ad81-a01ef286857e\" target=\"_top\" title=\"psysml:0e061c30-2d05-4525-ad81-a01ef286857e\" xlink:actuate=\"onRequest\" xlink:href=\"psysml:0e061c30-2d05-4525-ad81-a01ef286857e\" xlink:show=\"new\" xlink:title=\"psysml:0e061c30-2d05-4525-ad81-a01ef286857e\" xlink:type=\"simple\"><rect fill=\"#FFFFFF\" height=\"42.9375\" id=\"E4\" style=\"stroke: #383838; stroke-width: 1.5;\" width=\"75\" x=\"55.5\" y=\"256\"/><rect fill=\"#F8F8F8\" height=\"37.9375\" style=\"stroke: #383838; stroke-width: 1.5;\" width=\"75\" x=\"55.5\" y=\"256\"/><text fill=\"#000000\" font-family=\"sans-serif\" font-size=\"12\" font-style=\"italic\" lengthAdjust=\"spacingAndGlyphs\" textLength=\"68\" x=\"59\" y=\"272.1387\">«part  def»</text><text fill=\"#000000\" font-family=\"sans-serif\" font-size=\"12\" lengthAdjust=\"spacingAndGlyphs\" textLength=\"45\" x=\"70.5\" y=\"286.1074\">Vehicle</text></a></g><g id=\"E1.E5.E6\"><a href=\"psysml:61c6492a-41aa-4c1c-be1c-3a26db9abbc8\" target=\"_top\" title=\"psysml:61c6492a-41aa-4c1c-be1c-3a26db9abbc8\" xlink:actuate=\"onRequest\" xlink:href=\"psysml:61c6492a-41aa-4c1c-be1c-3a26db9abbc8\" xlink:show=\"new\" xlink:title=\"psysml:61c6492a-41aa-4c1c-be1c-3a26db9abbc8\" xlink:type=\"simple\"><rect fill=\"#FFFFFF\" height=\"40\" id=\"E6\" rx=\"10\" ry=\"10\" style=\"stroke: #383838; stroke-width: 1.5;\" width=\"107\" x=\"99.5\" y=\"100\"/><rect fill=\"#F8F8F8\" height=\"23.9688\" rx=\"10\" ry=\"10\" style=\"stroke: #F8F8F8; stroke-width: 1.5;\" width=\"107\" x=\"99.5\" y=\"100\"/><rect fill=\"#F8F8F8\" height=\"10\" style=\"stroke: #F8F8F8; stroke-width: 1.5;\" width=\"107\" x=\"99.5\" y=\"113.9688\"/><rect fill=\"none\" height=\"40\" id=\"E6\" rx=\"10\" ry=\"10\" style=\"stroke: #383838; stroke-width: 1.5;\" width=\"107\" x=\"99.5\" y=\"100\"/><text fill=\"#000000\" font-family=\"sans-serif\" font-size=\"12\" lengthAdjust=\"spacingAndGlyphs\" textLength=\"96\" x=\"105\" y=\"116.1387\">vehicle: Vehicle</text></a></g><!--MD5=[1c62de2aa5b76f0fb657ff8443a1a700]\n",
       "link E5 to E4--><a href=\"psysml:ef5e87d6-f969-4b16-bad6-f15ecd335219\" target=\"_top\" title=\"psysml:ef5e87d6-f969-4b16-bad6-f15ecd335219\" xlink:actuate=\"onRequest\" xlink:href=\"psysml:ef5e87d6-f969-4b16-bad6-f15ecd335219\" xlink:show=\"new\" xlink:title=\"psysml:ef5e87d6-f969-4b16-bad6-f15ecd335219\" xlink:type=\"simple\"><path d=\"M67.2559,164.3434 C67.2848,164.6227 67.314,164.9026 67.3433,165.183 C67.4021,165.7439 67.4617,166.3071 67.5224,166.8722 C67.6436,168.0025 67.7685,169.141 67.8973,170.2859 C68.1549,172.5759 68.4278,174.8919 68.7167,177.2213 C69.8725,186.5388 71.285,196.07 73,205 C75.97,220.45 80.65,237.41 84.74,250.94 \" fill=\"none\" id=\"E5-&gt;E4\" style=\"stroke: #383838; stroke-width: 1.0; stroke-dasharray: 7.0,7.0;\"/><polygon fill=\"#383838\" points=\"86.21,255.76,87.3802,245.9809,84.7366,250.982,79.7354,248.3384,86.21,255.76\" style=\"stroke: #383838; stroke-width: 1.0;\"/><text fill=\"#000000\" font-family=\"sans-serif\" font-size=\"13\" lengthAdjust=\"spacingAndGlyphs\" textLength=\"58\" x=\"74\" y=\"201.0669\">«import»</text></a><!--MD5=[f667431f98296947986a1a7595a31603]\n",
       "link E6 to E4--><a href=\"psysml:144792e9-f989-4dc0-84af-44c5bd60762e\" target=\"_top\" title=\"psysml:144792e9-f989-4dc0-84af-44c5bd60762e\" xlink:actuate=\"onRequest\" xlink:href=\"psysml:144792e9-f989-4dc0-84af-44c5bd60762e\" xlink:show=\"new\" xlink:title=\"psysml:144792e9-f989-4dc0-84af-44c5bd60762e\" xlink:type=\"simple\"><path d=\"M151.34,140.23 C149.38,157.62 145.27,183.68 137,205 C132.5,216.61 126.1,228.43 119.57,239.03 \" fill=\"none\" id=\"E6-&gt;E4\" style=\"stroke: #383838; stroke-width: 1.0;\"/><polygon fill=\"#FFFFFF\" points=\"108.43,255.98,113.0161,236.2577,124.7153,243.9472,108.43,255.98\" style=\"stroke: #383838; stroke-width: 1.0;\"/><ellipse cx=\"117.8182\" cy=\"232.593\" fill=\"#383838\" rx=\"2\" ry=\"2\" style=\"stroke: #383838; stroke-width: 1.0;\"/><ellipse cx=\"126.1747\" cy=\"238.0855\" fill=\"#383838\" rx=\"2\" ry=\"2\" style=\"stroke: #383838; stroke-width: 1.0;\"/></a><!--MD5=[78f3fcc08430a96eeb1139ccc49976d8]\n",
       "@startuml\r\n",
       "skinparam ranksep 10\r\n",
       "skinparam rectangle {\r\n",
       " backgroundColor<<block>> LightGreen\r\n",
       "}\r\n",
       "top to bottom direction\r\n",
       "skinparam monochrome true\r\n",
       "skinparam classbackgroundcolor white\r\n",
       "skinparam shadowing false\r\n",
       "skinparam wrapWidth 300\r\n",
       "hide circle\r\n",
       "\r\n",
       "package \"AliasImport\" as E1  [[psysml:2a0424ca-0ea8-4c9d-a1b7-bd1ebfa50d2f ]]  {\r\n",
       "package \"Definitions\" as E2  [[psysml:1b261b72-bc02-4122-a178-845f71db1598 ]]  {\r\n",
       "rec def \"Vehicle\" as E3  <<(T,blue) part  def>> [[psysml:0e061c30-2d05-4525-ad81-a01ef286857e ]] {\r\n",
       "}\r\n",
       "rec def \"Vehicle\" as E4  <<(T,blue) part  def>> [[psysml:0e061c30-2d05-4525-ad81-a01ef286857e ]] {\r\n",
       "}\r\n",
       "}\r\n",
       "package \"Usages\" as E5  [[psysml:944b5b0e-65e9-4e4f-876e-9affde2d942d ]]  {\r\n",
       "rec usage \"vehicle: Vehicle\" as E6  [[psysml:61c6492a-41aa-4c1c-be1c-3a26db9abbc8 ]] {\r\n",
       "}\r\n",
       "}\r\n",
       "}\r\n",
       "E5 ..> E4 [[psysml:ef5e87d6-f969-4b16-bad6-f15ecd335219 ]] : <<import>>\r\n",
       "E6 - -:|> E4 [[psysml:144792e9-f989-4dc0-84af-44c5bd60762e ]] \r\n",
       "@enduml\r\n",
       "\n",
       "PlantUML version 1.2020.13(Sat Jun 13 12:26:38 UTC 2020)\n",
       "(EPL source distribution)\n",
       "Java Runtime: OpenJDK Runtime Environment\n",
       "JVM: OpenJDK 64-Bit Server VM\n",
       "Default Encoding: UTF-8\n",
       "Language: en\n",
       "Country: null\n",
       "--></g></svg>"
      ]
     },
     "execution_count": 47,
     "metadata": {},
     "output_type": "execute_result"
    }
   ],
   "source": [
    "%viz --style=\"TB\" --view=\"Interconnection\" \"AliasImport\""
   ]
  },
  {
   "cell_type": "code",
   "execution_count": 48,
   "id": "a99cf415",
   "metadata": {
    "execution": {
     "iopub.execute_input": "2022-05-19T08:46:18.420008Z",
     "iopub.status.busy": "2022-05-19T08:46:18.419431Z",
     "iopub.status.idle": "2022-05-19T08:46:18.424595Z",
     "shell.execute_reply": "2022-05-19T08:46:18.424184Z"
    }
   },
   "outputs": [
    {
     "data": {
      "image/svg+xml": [
       "<?xml version=\"1.0\" encoding=\"UTF-8\" standalone=\"no\"?><svg xmlns=\"http://www.w3.org/2000/svg\" xmlns:xlink=\"http://www.w3.org/1999/xlink\" contentScriptType=\"application/ecmascript\" contentStyleType=\"text/css\" height=\"12px\" preserveAspectRatio=\"none\" style=\"width:12px;height:12px;\" version=\"1.1\" viewBox=\"0 0 12 12\" width=\"12px\" zoomAndPan=\"magnify\"><defs/><g><!--MD5=[06afc254b03ac5e9d9fb7773b07d0800]\n",
       "@startuml\r\n",
       "skinparam ranksep 8\r\n",
       "top to bottom direction\r\n",
       "skinparam monochrome true\r\n",
       "skinparam classbackgroundcolor white\r\n",
       "skinparam shadowing false\r\n",
       "skinparam wrapWidth 300\r\n",
       "hide circle\r\n",
       "\r\n",
       "@enduml\r\n",
       "\n",
       "PlantUML version 1.2020.13(Sat Jun 13 12:26:38 UTC 2020)\n",
       "(EPL source distribution)\n",
       "Java Runtime: OpenJDK Runtime Environment\n",
       "JVM: OpenJDK 64-Bit Server VM\n",
       "Default Encoding: UTF-8\n",
       "Language: en\n",
       "Country: null\n",
       "--></g></svg>"
      ]
     },
     "execution_count": 48,
     "metadata": {},
     "output_type": "execute_result"
    }
   ],
   "source": [
    "%viz --style=\"TB\" --view=\"Action\" \"AliasImport\""
   ]
  },
  {
   "cell_type": "code",
   "execution_count": 49,
   "id": "8c92fe20",
   "metadata": {
    "execution": {
     "iopub.execute_input": "2022-05-19T08:46:18.474884Z",
     "iopub.status.busy": "2022-05-19T08:46:18.474388Z",
     "iopub.status.idle": "2022-05-19T08:46:18.479834Z",
     "shell.execute_reply": "2022-05-19T08:46:18.479438Z"
    }
   },
   "outputs": [
    {
     "data": {
      "image/svg+xml": [
       "<?xml version=\"1.0\" encoding=\"UTF-8\" standalone=\"no\"?><svg xmlns=\"http://www.w3.org/2000/svg\" xmlns:xlink=\"http://www.w3.org/1999/xlink\" contentScriptType=\"application/ecmascript\" contentStyleType=\"text/css\" height=\"12px\" preserveAspectRatio=\"none\" style=\"width:12px;height:12px;\" version=\"1.1\" viewBox=\"0 0 12 12\" width=\"12px\" zoomAndPan=\"magnify\"><defs/><g><!--MD5=[e1ab0c84c44d2fef8bf5f140f2689906]\n",
       "@startuml\r\n",
       "skinparam roundcorner 20\r\n",
       "skinparam BoxPadding 20\r\n",
       "skinparam SequenceBoxBackgroundColor #white\r\n",
       "skinparam style strictuml\r\n",
       "skinparam maxMessageSize 100\r\n",
       "top to bottom direction\r\n",
       "skinparam monochrome true\r\n",
       "skinparam classbackgroundcolor white\r\n",
       "skinparam shadowing false\r\n",
       "skinparam wrapWidth 300\r\n",
       "hide circle\r\n",
       "\r\n",
       "@enduml\r\n",
       "\n",
       "PlantUML version 1.2020.13(Sat Jun 13 12:26:38 UTC 2020)\n",
       "(EPL source distribution)\n",
       "Java Runtime: OpenJDK Runtime Environment\n",
       "JVM: OpenJDK 64-Bit Server VM\n",
       "Default Encoding: UTF-8\n",
       "Language: en\n",
       "Country: null\n",
       "--></g></svg>"
      ]
     },
     "execution_count": 49,
     "metadata": {},
     "output_type": "execute_result"
    }
   ],
   "source": [
    "%viz --style=\"TB\" --view=\"Sequence\" \"AliasImport\""
   ]
  },
  {
   "cell_type": "code",
   "execution_count": 50,
   "id": "d53722aa",
   "metadata": {
    "execution": {
     "iopub.execute_input": "2022-05-19T08:46:18.530189Z",
     "iopub.status.busy": "2022-05-19T08:46:18.529732Z",
     "iopub.status.idle": "2022-05-19T08:46:18.557163Z",
     "shell.execute_reply": "2022-05-19T08:46:18.555762Z"
    }
   },
   "outputs": [
    {
     "data": {
      "image/svg+xml": [
       "<?xml version=\"1.0\" encoding=\"UTF-8\" standalone=\"no\"?><svg xmlns=\"http://www.w3.org/2000/svg\" xmlns:xlink=\"http://www.w3.org/1999/xlink\" contentScriptType=\"application/ecmascript\" contentStyleType=\"text/css\" height=\"360px\" preserveAspectRatio=\"none\" style=\"width:275px;height:360px;\" version=\"1.1\" viewBox=\"0 0 275 360\" width=\"275px\" zoomAndPan=\"magnify\"><defs/><g><!--MD5=[fbc87193dbaf4d95561dea2c320d4a47]\n",
       "cluster E1--><a href=\"psysml:2a0424ca-0ea8-4c9d-a1b7-bd1ebfa50d2f\" target=\"_top\" title=\"psysml:2a0424ca-0ea8-4c9d-a1b7-bd1ebfa50d2f\" xlink:actuate=\"onRequest\" xlink:href=\"psysml:2a0424ca-0ea8-4c9d-a1b7-bd1ebfa50d2f\" xlink:show=\"new\" xlink:title=\"psysml:2a0424ca-0ea8-4c9d-a1b7-bd1ebfa50d2f\" xlink:type=\"simple\"><polygon fill=\"#FFFFFF\" points=\"16,6,97,6,104,28.2969,253,28.2969,253,348,16,348,16,6\" style=\"stroke: #000000; stroke-width: 1.5;\"/><line style=\"stroke: #000000; stroke-width: 1.5;\" x1=\"16\" x2=\"104\" y1=\"28.2969\" y2=\"28.2969\"/><text fill=\"#000000\" font-family=\"sans-serif\" font-size=\"14\" font-weight=\"bold\" lengthAdjust=\"spacingAndGlyphs\" textLength=\"75\" x=\"20\" y=\"20.9951\">AliasImport</text></a><!--MD5=[e4f7fae6ed58524ba242bb0b0d3be6b7]\n",
       "cluster E2--><a href=\"psysml:1b261b72-bc02-4122-a178-845f71db1598\" target=\"_top\" title=\"psysml:1b261b72-bc02-4122-a178-845f71db1598\" xlink:actuate=\"onRequest\" xlink:href=\"psysml:1b261b72-bc02-4122-a178-845f71db1598\" xlink:show=\"new\" xlink:title=\"psysml:1b261b72-bc02-4122-a178-845f71db1598\" xlink:type=\"simple\"><polygon fill=\"#FFFFFF\" points=\"65,227,144,227,151,249.2969,167,249.2969,167,324,65,324,65,227\" style=\"stroke: #000000; stroke-width: 1.5;\"/><line style=\"stroke: #000000; stroke-width: 1.5;\" x1=\"65\" x2=\"151\" y1=\"249.2969\" y2=\"249.2969\"/><text fill=\"#000000\" font-family=\"sans-serif\" font-size=\"14\" font-weight=\"bold\" lengthAdjust=\"spacingAndGlyphs\" textLength=\"73\" x=\"69\" y=\"241.9951\">Definitions</text></a><!--MD5=[f6df4d0ebaf0b5dfb2ced0ae5af7c670]\n",
       "cluster E4--><a href=\"psysml:944b5b0e-65e9-4e4f-876e-9affde2d942d\" target=\"_top\" title=\"psysml:944b5b0e-65e9-4e4f-876e-9affde2d942d\" xlink:actuate=\"onRequest\" xlink:href=\"psysml:944b5b0e-65e9-4e4f-876e-9affde2d942d\" xlink:show=\"new\" xlink:title=\"psysml:944b5b0e-65e9-4e4f-876e-9affde2d942d\" xlink:type=\"simple\"><polygon fill=\"#FFFFFF\" points=\"48,57,106,57,113,79.2969,221,79.2969,221,170,48,170,48,57\" style=\"stroke: #000000; stroke-width: 1.5;\"/><line style=\"stroke: #000000; stroke-width: 1.5;\" x1=\"48\" x2=\"113\" y1=\"79.2969\" y2=\"79.2969\"/><text fill=\"#000000\" font-family=\"sans-serif\" font-size=\"14\" font-weight=\"bold\" lengthAdjust=\"spacingAndGlyphs\" textLength=\"52\" x=\"52\" y=\"71.9951\">Usages</text></a><!--MD5=[09b614a08d8cba4a07c9adeb5e0fee81]\n",
       "class E3--><a href=\"psysml:0e061c30-2d05-4525-ad81-a01ef286857e\" target=\"_top\" title=\"psysml:0e061c30-2d05-4525-ad81-a01ef286857e\" xlink:actuate=\"onRequest\" xlink:href=\"psysml:0e061c30-2d05-4525-ad81-a01ef286857e\" xlink:show=\"new\" xlink:title=\"psysml:0e061c30-2d05-4525-ad81-a01ef286857e\" xlink:type=\"simple\"><rect fill=\"#FFFFFF\" height=\"45.9375\" id=\"E3\" style=\"stroke: #383838; stroke-width: 1.5;\" width=\"70\" x=\"81\" y=\"262\"/><text fill=\"#000000\" font-family=\"sans-serif\" font-size=\"12\" font-style=\"italic\" lengthAdjust=\"spacingAndGlyphs\" textLength=\"68\" x=\"82\" y=\"278.1387\">«part  def»</text><text fill=\"#000000\" font-family=\"sans-serif\" font-size=\"12\" lengthAdjust=\"spacingAndGlyphs\" textLength=\"45\" x=\"93.5\" y=\"292.1074\">Vehicle</text><line style=\"stroke: #383838; stroke-width: 1.5;\" x1=\"82\" x2=\"150\" y1=\"299.9375\" y2=\"299.9375\"/></a><!--MD5=[270fce915f116d4de14055a7c1d9a0f3]\n",
       "class E5--><a href=\"psysml:61c6492a-41aa-4c1c-be1c-3a26db9abbc8\" target=\"_top\" title=\"psysml:61c6492a-41aa-4c1c-be1c-3a26db9abbc8\" xlink:actuate=\"onRequest\" xlink:href=\"psysml:61c6492a-41aa-4c1c-be1c-3a26db9abbc8\" xlink:show=\"new\" xlink:title=\"psysml:61c6492a-41aa-4c1c-be1c-3a26db9abbc8\" xlink:type=\"simple\"><rect fill=\"#FFFFFF\" height=\"45.9375\" id=\"E5\" rx=\"10\" ry=\"10\" style=\"stroke: #383838; stroke-width: 1.5;\" width=\"106\" x=\"91\" y=\"100\"/><text fill=\"#000000\" font-family=\"sans-serif\" font-size=\"12\" font-style=\"italic\" lengthAdjust=\"spacingAndGlyphs\" textLength=\"40\" x=\"124\" y=\"116.1387\">«part»</text><text fill=\"#000000\" font-family=\"sans-serif\" font-size=\"12\" lengthAdjust=\"spacingAndGlyphs\" textLength=\"96\" x=\"94\" y=\"130.1074\">vehicle: Vehicle</text><line style=\"stroke: #383838; stroke-width: 1.5;\" x1=\"92\" x2=\"196\" y1=\"137.9375\" y2=\"137.9375\"/></a><!--MD5=[f0cdf4548168e5211fb3a02bf679d63a]\n",
       "link E4 to E3--><a href=\"psysml:ef5e87d6-f969-4b16-bad6-f15ecd335219\" target=\"_top\" title=\"psysml:ef5e87d6-f969-4b16-bad6-f15ecd335219\" xlink:actuate=\"onRequest\" xlink:href=\"psysml:ef5e87d6-f969-4b16-bad6-f15ecd335219\" xlink:show=\"new\" xlink:title=\"psysml:ef5e87d6-f969-4b16-bad6-f15ecd335219\" xlink:type=\"simple\"><path d=\"M58.5005,170.0549 C58.5193,170.2001 58.5383,170.3454 58.5574,170.4908 C58.6338,171.0725 58.7124,171.6562 58.7932,172.2415 C58.9548,173.4122 59.1253,174.5898 59.3052,175.7725 C59.6651,178.1379 60.0625,180.5238 60.5014,182.9158 C62.2569,192.4838 64.675,202.15 68,211 C74.23,227.58 84.77,244.23 94.38,257.43 \" fill=\"none\" id=\"E4-&gt;E3\" style=\"stroke: #383838; stroke-width: 1.0; stroke-dasharray: 7.0,7.0;\"/><polygon fill=\"#383838\" points=\"97.6,261.77,95.4384,252.1613,94.616,257.758,89.0193,256.9357,97.6,261.77\" style=\"stroke: #383838; stroke-width: 1.0;\"/><text fill=\"#000000\" font-family=\"sans-serif\" font-size=\"13\" lengthAdjust=\"spacingAndGlyphs\" textLength=\"58\" x=\"69\" y=\"207.0669\">«import»</text></a><!--MD5=[e9be52314489bd878ff4c7144b63c9e1]\n",
       "link E5 to E3--><a href=\"psysml:144792e9-f989-4dc0-84af-44c5bd60762e\" target=\"_top\" title=\"psysml:144792e9-f989-4dc0-84af-44c5bd60762e\" xlink:actuate=\"onRequest\" xlink:href=\"psysml:144792e9-f989-4dc0-84af-44c5bd60762e\" xlink:show=\"new\" xlink:title=\"psysml:144792e9-f989-4dc0-84af-44c5bd60762e\" xlink:type=\"simple\"><path d=\"M143.03,146.32 C142,163.98 139.95,189.21 136,211 C134.13,221.29 131.49,232.23 128.74,242.43 \" fill=\"none\" id=\"E5-&gt;E3\" style=\"stroke: #383838; stroke-width: 1.0;\"/><polygon fill=\"#FFFFFF\" points=\"123.15,261.87,121.6727,241.6755,135.1276,245.544,123.15,261.87\" style=\"stroke: #383838; stroke-width: 1.0;\"/><ellipse cx=\"125.1699\" cy=\"236.7501\" fill=\"#383838\" rx=\"2\" ry=\"2\" style=\"stroke: #383838; stroke-width: 1.0;\"/><ellipse cx=\"134.7805\" cy=\"239.5133\" fill=\"#383838\" rx=\"2\" ry=\"2\" style=\"stroke: #383838; stroke-width: 1.0;\"/></a><!--MD5=[079307991dab157f517c4bf5611cc811]\n",
       "@startuml\r\n",
       "top to bottom direction\r\n",
       "skinparam monochrome true\r\n",
       "skinparam classbackgroundcolor white\r\n",
       "skinparam shadowing false\r\n",
       "skinparam wrapWidth 300\r\n",
       "hide circle\r\n",
       "\r\n",
       "package \"AliasImport\" as E1  [[psysml:2a0424ca-0ea8-4c9d-a1b7-bd1ebfa50d2f ]]  {\r\n",
       "package \"Definitions\" as E2  [[psysml:1b261b72-bc02-4122-a178-845f71db1598 ]]  {\r\n",
       "comp def \"Vehicle\" as E3  <<(T,blue) part  def>> [[psysml:0e061c30-2d05-4525-ad81-a01ef286857e ]] {\r\n",
       "}\r\n",
       "}\r\n",
       "package \"Usages\" as E4  [[psysml:944b5b0e-65e9-4e4f-876e-9affde2d942d ]]  {\r\n",
       "comp usage \"vehicle: Vehicle \" as E5  <<(T,blue) part>> [[psysml:61c6492a-41aa-4c1c-be1c-3a26db9abbc8 ]] {\r\n",
       "}\r\n",
       "}\r\n",
       "}\r\n",
       "E4 ..> E3 [[psysml:ef5e87d6-f969-4b16-bad6-f15ecd335219 ]] : <<import>>\r\n",
       "E5 - -:|> E3 [[psysml:144792e9-f989-4dc0-84af-44c5bd60762e ]] \r\n",
       "@enduml\r\n",
       "\n",
       "PlantUML version 1.2020.13(Sat Jun 13 12:26:38 UTC 2020)\n",
       "(EPL source distribution)\n",
       "Java Runtime: OpenJDK Runtime Environment\n",
       "JVM: OpenJDK 64-Bit Server VM\n",
       "Default Encoding: UTF-8\n",
       "Language: en\n",
       "Country: null\n",
       "--></g></svg>"
      ]
     },
     "execution_count": 50,
     "metadata": {},
     "output_type": "execute_result"
    }
   ],
   "source": [
    "%viz --style=\"TB\" --view=\"MIXED\" \"AliasImport\""
   ]
  },
  {
   "cell_type": "code",
   "execution_count": 51,
   "id": "b6e128df",
   "metadata": {
    "execution": {
     "iopub.execute_input": "2022-05-19T08:46:18.606625Z",
     "iopub.status.busy": "2022-05-19T08:46:18.606179Z",
     "iopub.status.idle": "2022-05-19T08:46:18.636337Z",
     "shell.execute_reply": "2022-05-19T08:46:18.635914Z"
    }
   },
   "outputs": [
    {
     "data": {
      "image/svg+xml": [
       "<?xml version=\"1.0\" encoding=\"UTF-8\" standalone=\"no\"?><svg xmlns=\"http://www.w3.org/2000/svg\" xmlns:xlink=\"http://www.w3.org/1999/xlink\" contentScriptType=\"application/ecmascript\" contentStyleType=\"text/css\" height=\"360px\" preserveAspectRatio=\"none\" style=\"width:275px;height:360px;\" version=\"1.1\" viewBox=\"0 0 275 360\" width=\"275px\" zoomAndPan=\"magnify\"><defs/><g><!--MD5=[fbc87193dbaf4d95561dea2c320d4a47]\n",
       "cluster E1--><a href=\"psysml:2a0424ca-0ea8-4c9d-a1b7-bd1ebfa50d2f\" target=\"_top\" title=\"psysml:2a0424ca-0ea8-4c9d-a1b7-bd1ebfa50d2f\" xlink:actuate=\"onRequest\" xlink:href=\"psysml:2a0424ca-0ea8-4c9d-a1b7-bd1ebfa50d2f\" xlink:show=\"new\" xlink:title=\"psysml:2a0424ca-0ea8-4c9d-a1b7-bd1ebfa50d2f\" xlink:type=\"simple\"><polygon fill=\"#FFFFFF\" points=\"16,6,97,6,104,28.2969,253,28.2969,253,348,16,348,16,6\" style=\"stroke: #000000; stroke-width: 1.5;\"/><line style=\"stroke: #000000; stroke-width: 1.5;\" x1=\"16\" x2=\"104\" y1=\"28.2969\" y2=\"28.2969\"/><text fill=\"#000000\" font-family=\"sans-serif\" font-size=\"14\" font-weight=\"bold\" lengthAdjust=\"spacingAndGlyphs\" textLength=\"75\" x=\"20\" y=\"20.9951\">AliasImport</text></a><!--MD5=[e4f7fae6ed58524ba242bb0b0d3be6b7]\n",
       "cluster E2--><a href=\"psysml:1b261b72-bc02-4122-a178-845f71db1598\" target=\"_top\" title=\"psysml:1b261b72-bc02-4122-a178-845f71db1598\" xlink:actuate=\"onRequest\" xlink:href=\"psysml:1b261b72-bc02-4122-a178-845f71db1598\" xlink:show=\"new\" xlink:title=\"psysml:1b261b72-bc02-4122-a178-845f71db1598\" xlink:type=\"simple\"><polygon fill=\"#FFFFFF\" points=\"65,227,144,227,151,249.2969,167,249.2969,167,324,65,324,65,227\" style=\"stroke: #000000; stroke-width: 1.5;\"/><line style=\"stroke: #000000; stroke-width: 1.5;\" x1=\"65\" x2=\"151\" y1=\"249.2969\" y2=\"249.2969\"/><text fill=\"#000000\" font-family=\"sans-serif\" font-size=\"14\" font-weight=\"bold\" lengthAdjust=\"spacingAndGlyphs\" textLength=\"73\" x=\"69\" y=\"241.9951\">Definitions</text></a><!--MD5=[f6df4d0ebaf0b5dfb2ced0ae5af7c670]\n",
       "cluster E4--><a href=\"psysml:944b5b0e-65e9-4e4f-876e-9affde2d942d\" target=\"_top\" title=\"psysml:944b5b0e-65e9-4e4f-876e-9affde2d942d\" xlink:actuate=\"onRequest\" xlink:href=\"psysml:944b5b0e-65e9-4e4f-876e-9affde2d942d\" xlink:show=\"new\" xlink:title=\"psysml:944b5b0e-65e9-4e4f-876e-9affde2d942d\" xlink:type=\"simple\"><polygon fill=\"#FFFFFF\" points=\"48,57,106,57,113,79.2969,221,79.2969,221,170,48,170,48,57\" style=\"stroke: #000000; stroke-width: 1.5;\"/><line style=\"stroke: #000000; stroke-width: 1.5;\" x1=\"48\" x2=\"113\" y1=\"79.2969\" y2=\"79.2969\"/><text fill=\"#000000\" font-family=\"sans-serif\" font-size=\"14\" font-weight=\"bold\" lengthAdjust=\"spacingAndGlyphs\" textLength=\"52\" x=\"52\" y=\"71.9951\">Usages</text></a><!--MD5=[09b614a08d8cba4a07c9adeb5e0fee81]\n",
       "class E3--><a href=\"psysml:0e061c30-2d05-4525-ad81-a01ef286857e\" target=\"_top\" title=\"psysml:0e061c30-2d05-4525-ad81-a01ef286857e\" xlink:actuate=\"onRequest\" xlink:href=\"psysml:0e061c30-2d05-4525-ad81-a01ef286857e\" xlink:show=\"new\" xlink:title=\"psysml:0e061c30-2d05-4525-ad81-a01ef286857e\" xlink:type=\"simple\"><rect fill=\"#FFFFFF\" height=\"45.9375\" id=\"E3\" style=\"stroke: #383838; stroke-width: 1.5;\" width=\"70\" x=\"81\" y=\"262\"/><text fill=\"#000000\" font-family=\"sans-serif\" font-size=\"12\" font-style=\"italic\" lengthAdjust=\"spacingAndGlyphs\" textLength=\"68\" x=\"82\" y=\"278.1387\">«part  def»</text><text fill=\"#000000\" font-family=\"sans-serif\" font-size=\"12\" lengthAdjust=\"spacingAndGlyphs\" textLength=\"45\" x=\"93.5\" y=\"292.1074\">Vehicle</text><line style=\"stroke: #383838; stroke-width: 1.5;\" x1=\"82\" x2=\"150\" y1=\"299.9375\" y2=\"299.9375\"/></a><!--MD5=[270fce915f116d4de14055a7c1d9a0f3]\n",
       "class E5--><a href=\"psysml:61c6492a-41aa-4c1c-be1c-3a26db9abbc8\" target=\"_top\" title=\"psysml:61c6492a-41aa-4c1c-be1c-3a26db9abbc8\" xlink:actuate=\"onRequest\" xlink:href=\"psysml:61c6492a-41aa-4c1c-be1c-3a26db9abbc8\" xlink:show=\"new\" xlink:title=\"psysml:61c6492a-41aa-4c1c-be1c-3a26db9abbc8\" xlink:type=\"simple\"><rect fill=\"#FFFFFF\" height=\"45.9375\" id=\"E5\" rx=\"10\" ry=\"10\" style=\"stroke: #383838; stroke-width: 1.5;\" width=\"106\" x=\"91\" y=\"100\"/><text fill=\"#000000\" font-family=\"sans-serif\" font-size=\"12\" font-style=\"italic\" lengthAdjust=\"spacingAndGlyphs\" textLength=\"40\" x=\"124\" y=\"116.1387\">«part»</text><text fill=\"#000000\" font-family=\"sans-serif\" font-size=\"12\" lengthAdjust=\"spacingAndGlyphs\" textLength=\"96\" x=\"94\" y=\"130.1074\">vehicle: Vehicle</text><line style=\"stroke: #383838; stroke-width: 1.5;\" x1=\"92\" x2=\"196\" y1=\"137.9375\" y2=\"137.9375\"/></a><!--MD5=[f0cdf4548168e5211fb3a02bf679d63a]\n",
       "link E4 to E3--><a href=\"psysml:ef5e87d6-f969-4b16-bad6-f15ecd335219\" target=\"_top\" title=\"psysml:ef5e87d6-f969-4b16-bad6-f15ecd335219\" xlink:actuate=\"onRequest\" xlink:href=\"psysml:ef5e87d6-f969-4b16-bad6-f15ecd335219\" xlink:show=\"new\" xlink:title=\"psysml:ef5e87d6-f969-4b16-bad6-f15ecd335219\" xlink:type=\"simple\"><path d=\"M86,170.5461 C86,170.7974 86,171.0491 86,171.3013 C86,173.3182 86,175.3597 86,177.4175 C86,181.5331 86,185.7141 86,189.895 C86,223.3425 86,256.79 86,256.79 \" fill=\"none\" id=\"E4-&gt;E3\" style=\"stroke: #383838; stroke-width: 1.0; stroke-dasharray: 7.0,7.0;\"/><polygon fill=\"#383838\" points=\"86,261.79,90,252.79,86,256.79,82,252.79,86,261.79\" style=\"stroke: #383838; stroke-width: 1.0;\"/><text fill=\"#000000\" font-family=\"sans-serif\" font-size=\"13\" lengthAdjust=\"spacingAndGlyphs\" textLength=\"58\" x=\"73\" y=\"207.0669\">«import»</text></a><!--MD5=[e9be52314489bd878ff4c7144b63c9e1]\n",
       "link E5 to E3--><a href=\"psysml:144792e9-f989-4dc0-84af-44c5bd60762e\" target=\"_top\" title=\"psysml:144792e9-f989-4dc0-84af-44c5bd60762e\" xlink:actuate=\"onRequest\" xlink:href=\"psysml:144792e9-f989-4dc0-84af-44c5bd60762e\" xlink:show=\"new\" xlink:title=\"psysml:144792e9-f989-4dc0-84af-44c5bd60762e\" xlink:type=\"simple\"><path d=\"M121,146.21 C121,146.21 121,241.83 121,241.83 \" fill=\"none\" id=\"E5-&gt;E3\" style=\"stroke: #383838; stroke-width: 1.0;\"/><polygon fill=\"#FFFFFF\" points=\"121,261.83,114,242.83,128,242.83,121,261.83\" style=\"stroke: #383838; stroke-width: 1.0;\"/><ellipse cx=\"116\" cy=\"237.13\" fill=\"#383838\" rx=\"2\" ry=\"2\" style=\"stroke: #383838; stroke-width: 1.0;\"/><ellipse cx=\"126\" cy=\"237.13\" fill=\"#383838\" rx=\"2\" ry=\"2\" style=\"stroke: #383838; stroke-width: 1.0;\"/></a><!--MD5=[3d8fa0c36485ff0b325352bd6248f49d]\n",
       "@startuml\r\n",
       "skinparam linetype ortho\r\n",
       "skinparam monochrome true\r\n",
       "skinparam classbackgroundcolor white\r\n",
       "skinparam shadowing false\r\n",
       "skinparam wrapWidth 300\r\n",
       "hide circle\r\n",
       "\r\n",
       "package \"AliasImport\" as E1  [[psysml:2a0424ca-0ea8-4c9d-a1b7-bd1ebfa50d2f ]]  {\r\n",
       "package \"Definitions\" as E2  [[psysml:1b261b72-bc02-4122-a178-845f71db1598 ]]  {\r\n",
       "comp def \"Vehicle\" as E3  <<(T,blue) part  def>> [[psysml:0e061c30-2d05-4525-ad81-a01ef286857e ]] {\r\n",
       "}\r\n",
       "}\r\n",
       "package \"Usages\" as E4  [[psysml:944b5b0e-65e9-4e4f-876e-9affde2d942d ]]  {\r\n",
       "comp usage \"vehicle: Vehicle \" as E5  <<(T,blue) part>> [[psysml:61c6492a-41aa-4c1c-be1c-3a26db9abbc8 ]] {\r\n",
       "}\r\n",
       "}\r\n",
       "}\r\n",
       "E4 ..> E3 [[psysml:ef5e87d6-f969-4b16-bad6-f15ecd335219 ]] : <<import>>\r\n",
       "E5 - -:|> E3 [[psysml:144792e9-f989-4dc0-84af-44c5bd60762e ]] \r\n",
       "@enduml\r\n",
       "\n",
       "PlantUML version 1.2020.13(Sat Jun 13 12:26:38 UTC 2020)\n",
       "(EPL source distribution)\n",
       "Java Runtime: OpenJDK Runtime Environment\n",
       "JVM: OpenJDK 64-Bit Server VM\n",
       "Default Encoding: UTF-8\n",
       "Language: en\n",
       "Country: null\n",
       "--></g></svg>"
      ]
     },
     "execution_count": 51,
     "metadata": {},
     "output_type": "execute_result"
    }
   ],
   "source": [
    "%viz --style=\"ORTHOLINE\" --view=\"Default\" \"AliasImport\""
   ]
  },
  {
   "cell_type": "code",
   "execution_count": 52,
   "id": "fbe653b6",
   "metadata": {
    "execution": {
     "iopub.execute_input": "2022-05-19T08:46:18.685770Z",
     "iopub.status.busy": "2022-05-19T08:46:18.685308Z",
     "iopub.status.idle": "2022-05-19T08:46:18.715091Z",
     "shell.execute_reply": "2022-05-19T08:46:18.714675Z"
    }
   },
   "outputs": [
    {
     "data": {
      "image/svg+xml": [
       "<?xml version=\"1.0\" encoding=\"UTF-8\" standalone=\"no\"?><svg xmlns=\"http://www.w3.org/2000/svg\" xmlns:xlink=\"http://www.w3.org/1999/xlink\" contentScriptType=\"application/ecmascript\" contentStyleType=\"text/css\" height=\"360px\" preserveAspectRatio=\"none\" style=\"width:275px;height:360px;\" version=\"1.1\" viewBox=\"0 0 275 360\" width=\"275px\" zoomAndPan=\"magnify\"><defs/><g><!--MD5=[fbc87193dbaf4d95561dea2c320d4a47]\n",
       "cluster E1--><a href=\"psysml:2a0424ca-0ea8-4c9d-a1b7-bd1ebfa50d2f\" target=\"_top\" title=\"psysml:2a0424ca-0ea8-4c9d-a1b7-bd1ebfa50d2f\" xlink:actuate=\"onRequest\" xlink:href=\"psysml:2a0424ca-0ea8-4c9d-a1b7-bd1ebfa50d2f\" xlink:show=\"new\" xlink:title=\"psysml:2a0424ca-0ea8-4c9d-a1b7-bd1ebfa50d2f\" xlink:type=\"simple\"><polygon fill=\"#FFFFFF\" points=\"16,6,97,6,104,28.2969,253,28.2969,253,348,16,348,16,6\" style=\"stroke: #000000; stroke-width: 1.5;\"/><line style=\"stroke: #000000; stroke-width: 1.5;\" x1=\"16\" x2=\"104\" y1=\"28.2969\" y2=\"28.2969\"/><text fill=\"#000000\" font-family=\"sans-serif\" font-size=\"14\" font-weight=\"bold\" lengthAdjust=\"spacingAndGlyphs\" textLength=\"75\" x=\"20\" y=\"20.9951\">AliasImport</text></a><!--MD5=[e4f7fae6ed58524ba242bb0b0d3be6b7]\n",
       "cluster E2--><a href=\"psysml:1b261b72-bc02-4122-a178-845f71db1598\" target=\"_top\" title=\"psysml:1b261b72-bc02-4122-a178-845f71db1598\" xlink:actuate=\"onRequest\" xlink:href=\"psysml:1b261b72-bc02-4122-a178-845f71db1598\" xlink:show=\"new\" xlink:title=\"psysml:1b261b72-bc02-4122-a178-845f71db1598\" xlink:type=\"simple\"><polygon fill=\"#FFFFFF\" points=\"65,227,144,227,151,249.2969,167,249.2969,167,324,65,324,65,227\" style=\"stroke: #000000; stroke-width: 1.5;\"/><line style=\"stroke: #000000; stroke-width: 1.5;\" x1=\"65\" x2=\"151\" y1=\"249.2969\" y2=\"249.2969\"/><text fill=\"#000000\" font-family=\"sans-serif\" font-size=\"14\" font-weight=\"bold\" lengthAdjust=\"spacingAndGlyphs\" textLength=\"73\" x=\"69\" y=\"241.9951\">Definitions</text></a><!--MD5=[f6df4d0ebaf0b5dfb2ced0ae5af7c670]\n",
       "cluster E4--><a href=\"psysml:944b5b0e-65e9-4e4f-876e-9affde2d942d\" target=\"_top\" title=\"psysml:944b5b0e-65e9-4e4f-876e-9affde2d942d\" xlink:actuate=\"onRequest\" xlink:href=\"psysml:944b5b0e-65e9-4e4f-876e-9affde2d942d\" xlink:show=\"new\" xlink:title=\"psysml:944b5b0e-65e9-4e4f-876e-9affde2d942d\" xlink:type=\"simple\"><polygon fill=\"#FFFFFF\" points=\"48,57,106,57,113,79.2969,221,79.2969,221,170,48,170,48,57\" style=\"stroke: #000000; stroke-width: 1.5;\"/><line style=\"stroke: #000000; stroke-width: 1.5;\" x1=\"48\" x2=\"113\" y1=\"79.2969\" y2=\"79.2969\"/><text fill=\"#000000\" font-family=\"sans-serif\" font-size=\"14\" font-weight=\"bold\" lengthAdjust=\"spacingAndGlyphs\" textLength=\"52\" x=\"52\" y=\"71.9951\">Usages</text></a><!--MD5=[09b614a08d8cba4a07c9adeb5e0fee81]\n",
       "class E3--><a href=\"psysml:0e061c30-2d05-4525-ad81-a01ef286857e\" target=\"_top\" title=\"psysml:0e061c30-2d05-4525-ad81-a01ef286857e\" xlink:actuate=\"onRequest\" xlink:href=\"psysml:0e061c30-2d05-4525-ad81-a01ef286857e\" xlink:show=\"new\" xlink:title=\"psysml:0e061c30-2d05-4525-ad81-a01ef286857e\" xlink:type=\"simple\"><rect fill=\"#FFFFFF\" height=\"45.9375\" id=\"E3\" style=\"stroke: #383838; stroke-width: 1.5;\" width=\"70\" x=\"81\" y=\"262\"/><text fill=\"#000000\" font-family=\"sans-serif\" font-size=\"12\" font-style=\"italic\" lengthAdjust=\"spacingAndGlyphs\" textLength=\"68\" x=\"82\" y=\"278.1387\">«part  def»</text><text fill=\"#000000\" font-family=\"sans-serif\" font-size=\"12\" lengthAdjust=\"spacingAndGlyphs\" textLength=\"45\" x=\"93.5\" y=\"292.1074\">Vehicle</text><line style=\"stroke: #383838; stroke-width: 1.5;\" x1=\"82\" x2=\"150\" y1=\"299.9375\" y2=\"299.9375\"/></a><!--MD5=[270fce915f116d4de14055a7c1d9a0f3]\n",
       "class E5--><a href=\"psysml:61c6492a-41aa-4c1c-be1c-3a26db9abbc8\" target=\"_top\" title=\"psysml:61c6492a-41aa-4c1c-be1c-3a26db9abbc8\" xlink:actuate=\"onRequest\" xlink:href=\"psysml:61c6492a-41aa-4c1c-be1c-3a26db9abbc8\" xlink:show=\"new\" xlink:title=\"psysml:61c6492a-41aa-4c1c-be1c-3a26db9abbc8\" xlink:type=\"simple\"><rect fill=\"#FFFFFF\" height=\"45.9375\" id=\"E5\" rx=\"10\" ry=\"10\" style=\"stroke: #383838; stroke-width: 1.5;\" width=\"106\" x=\"91\" y=\"100\"/><text fill=\"#000000\" font-family=\"sans-serif\" font-size=\"12\" font-style=\"italic\" lengthAdjust=\"spacingAndGlyphs\" textLength=\"40\" x=\"124\" y=\"116.1387\">«part»</text><text fill=\"#000000\" font-family=\"sans-serif\" font-size=\"12\" lengthAdjust=\"spacingAndGlyphs\" textLength=\"96\" x=\"94\" y=\"130.1074\">vehicle: Vehicle</text><line style=\"stroke: #383838; stroke-width: 1.5;\" x1=\"92\" x2=\"196\" y1=\"137.9375\" y2=\"137.9375\"/></a><!--MD5=[f0cdf4548168e5211fb3a02bf679d63a]\n",
       "link E4 to E3--><a href=\"psysml:ef5e87d6-f969-4b16-bad6-f15ecd335219\" target=\"_top\" title=\"psysml:ef5e87d6-f969-4b16-bad6-f15ecd335219\" xlink:actuate=\"onRequest\" xlink:href=\"psysml:ef5e87d6-f969-4b16-bad6-f15ecd335219\" xlink:show=\"new\" xlink:title=\"psysml:ef5e87d6-f969-4b16-bad6-f15ecd335219\" xlink:type=\"simple\"><path d=\"M86,170.5461 C86,170.7974 86,171.0491 86,171.3013 C86,173.3182 86,175.3597 86,177.4175 C86,181.5331 86,185.7141 86,189.895 C86,223.3425 86,256.79 86,256.79 \" fill=\"none\" id=\"E4-&gt;E3\" style=\"stroke: #383838; stroke-width: 1.0; stroke-dasharray: 7.0,7.0;\"/><polygon fill=\"#383838\" points=\"86,261.79,90,252.79,86,256.79,82,252.79,86,261.79\" style=\"stroke: #383838; stroke-width: 1.0;\"/><text fill=\"#000000\" font-family=\"sans-serif\" font-size=\"13\" lengthAdjust=\"spacingAndGlyphs\" textLength=\"58\" x=\"73\" y=\"207.0669\">«import»</text></a><!--MD5=[e9be52314489bd878ff4c7144b63c9e1]\n",
       "link E5 to E3--><a href=\"psysml:144792e9-f989-4dc0-84af-44c5bd60762e\" target=\"_top\" title=\"psysml:144792e9-f989-4dc0-84af-44c5bd60762e\" xlink:actuate=\"onRequest\" xlink:href=\"psysml:144792e9-f989-4dc0-84af-44c5bd60762e\" xlink:show=\"new\" xlink:title=\"psysml:144792e9-f989-4dc0-84af-44c5bd60762e\" xlink:type=\"simple\"><path d=\"M121,146.21 C121,146.21 121,241.83 121,241.83 \" fill=\"none\" id=\"E5-&gt;E3\" style=\"stroke: #383838; stroke-width: 1.0;\"/><polygon fill=\"#FFFFFF\" points=\"121,261.83,114,242.83,128,242.83,121,261.83\" style=\"stroke: #383838; stroke-width: 1.0;\"/><ellipse cx=\"116\" cy=\"237.13\" fill=\"#383838\" rx=\"2\" ry=\"2\" style=\"stroke: #383838; stroke-width: 1.0;\"/><ellipse cx=\"126\" cy=\"237.13\" fill=\"#383838\" rx=\"2\" ry=\"2\" style=\"stroke: #383838; stroke-width: 1.0;\"/></a><!--MD5=[3d8fa0c36485ff0b325352bd6248f49d]\n",
       "@startuml\r\n",
       "skinparam linetype ortho\r\n",
       "skinparam monochrome true\r\n",
       "skinparam classbackgroundcolor white\r\n",
       "skinparam shadowing false\r\n",
       "skinparam wrapWidth 300\r\n",
       "hide circle\r\n",
       "\r\n",
       "package \"AliasImport\" as E1  [[psysml:2a0424ca-0ea8-4c9d-a1b7-bd1ebfa50d2f ]]  {\r\n",
       "package \"Definitions\" as E2  [[psysml:1b261b72-bc02-4122-a178-845f71db1598 ]]  {\r\n",
       "comp def \"Vehicle\" as E3  <<(T,blue) part  def>> [[psysml:0e061c30-2d05-4525-ad81-a01ef286857e ]] {\r\n",
       "}\r\n",
       "}\r\n",
       "package \"Usages\" as E4  [[psysml:944b5b0e-65e9-4e4f-876e-9affde2d942d ]]  {\r\n",
       "comp usage \"vehicle: Vehicle \" as E5  <<(T,blue) part>> [[psysml:61c6492a-41aa-4c1c-be1c-3a26db9abbc8 ]] {\r\n",
       "}\r\n",
       "}\r\n",
       "}\r\n",
       "E4 ..> E3 [[psysml:ef5e87d6-f969-4b16-bad6-f15ecd335219 ]] : <<import>>\r\n",
       "E5 - -:|> E3 [[psysml:144792e9-f989-4dc0-84af-44c5bd60762e ]] \r\n",
       "@enduml\r\n",
       "\n",
       "PlantUML version 1.2020.13(Sat Jun 13 12:26:38 UTC 2020)\n",
       "(EPL source distribution)\n",
       "Java Runtime: OpenJDK Runtime Environment\n",
       "JVM: OpenJDK 64-Bit Server VM\n",
       "Default Encoding: UTF-8\n",
       "Language: en\n",
       "Country: null\n",
       "--></g></svg>"
      ]
     },
     "execution_count": 52,
     "metadata": {},
     "output_type": "execute_result"
    }
   ],
   "source": [
    "%viz --style=\"ORTHOLINE\" --view=\"Tree\" \"AliasImport\""
   ]
  },
  {
   "cell_type": "code",
   "execution_count": 53,
   "id": "99480ed0",
   "metadata": {
    "execution": {
     "iopub.execute_input": "2022-05-19T08:46:18.764662Z",
     "iopub.status.busy": "2022-05-19T08:46:18.764191Z",
     "iopub.status.idle": "2022-05-19T08:46:18.770867Z",
     "shell.execute_reply": "2022-05-19T08:46:18.770419Z"
    }
   },
   "outputs": [
    {
     "data": {
      "image/svg+xml": [
       "<?xml version=\"1.0\" encoding=\"UTF-8\" standalone=\"no\"?><svg xmlns=\"http://www.w3.org/2000/svg\" xmlns:xlink=\"http://www.w3.org/1999/xlink\" contentScriptType=\"application/ecmascript\" contentStyleType=\"text/css\" height=\"12px\" preserveAspectRatio=\"none\" style=\"width:12px;height:12px;\" version=\"1.1\" viewBox=\"0 0 12 12\" width=\"12px\" zoomAndPan=\"magnify\"><defs/><g><!--MD5=[97d6f38768b311333d388e66b2b27985]\n",
       "@startuml\r\n",
       "skinparam linetype ortho\r\n",
       "skinparam monochrome true\r\n",
       "skinparam classbackgroundcolor white\r\n",
       "skinparam shadowing false\r\n",
       "skinparam wrapWidth 300\r\n",
       "hide circle\r\n",
       "\r\n",
       "@enduml\r\n",
       "\n",
       "PlantUML version 1.2020.13(Sat Jun 13 12:26:38 UTC 2020)\n",
       "(EPL source distribution)\n",
       "Java Runtime: OpenJDK Runtime Environment\n",
       "JVM: OpenJDK 64-Bit Server VM\n",
       "Default Encoding: UTF-8\n",
       "Language: en\n",
       "Country: null\n",
       "--></g></svg>"
      ]
     },
     "execution_count": 53,
     "metadata": {},
     "output_type": "execute_result"
    }
   ],
   "source": [
    "%viz --style=\"ORTHOLINE\" --view=\"State\" \"AliasImport\""
   ]
  },
  {
   "cell_type": "code",
   "execution_count": 54,
   "id": "21c5ccae",
   "metadata": {
    "execution": {
     "iopub.execute_input": "2022-05-19T08:46:18.820183Z",
     "iopub.status.busy": "2022-05-19T08:46:18.819651Z",
     "iopub.status.idle": "2022-05-19T08:46:18.857721Z",
     "shell.execute_reply": "2022-05-19T08:46:18.856193Z"
    }
   },
   "outputs": [
    {
     "data": {
      "image/svg+xml": [
       "<?xml version=\"1.0\" encoding=\"UTF-8\" standalone=\"no\"?><svg xmlns=\"http://www.w3.org/2000/svg\" xmlns:xlink=\"http://www.w3.org/1999/xlink\" contentScriptType=\"application/ecmascript\" contentStyleType=\"text/css\" height=\"351px\" preserveAspectRatio=\"none\" style=\"width:302px;height:351px;\" version=\"1.1\" viewBox=\"0 0 302 351\" width=\"302px\" zoomAndPan=\"magnify\"><defs/><g><!--MD5=[fbc87193dbaf4d95561dea2c320d4a47]\n",
       "cluster E1--><a href=\"psysml:2a0424ca-0ea8-4c9d-a1b7-bd1ebfa50d2f\" target=\"_top\" title=\"psysml:2a0424ca-0ea8-4c9d-a1b7-bd1ebfa50d2f\" xlink:actuate=\"onRequest\" xlink:href=\"psysml:2a0424ca-0ea8-4c9d-a1b7-bd1ebfa50d2f\" xlink:show=\"new\" xlink:title=\"psysml:2a0424ca-0ea8-4c9d-a1b7-bd1ebfa50d2f\" xlink:type=\"simple\"><polygon fill=\"#FFFFFF\" points=\"16,6,97,6,104,28.2969,280,28.2969,280,339,16,339,16,6\" style=\"stroke: #000000; stroke-width: 1.5;\"/><line style=\"stroke: #000000; stroke-width: 1.5;\" x1=\"16\" x2=\"104\" y1=\"28.2969\" y2=\"28.2969\"/><text fill=\"#000000\" font-family=\"sans-serif\" font-size=\"14\" font-weight=\"bold\" lengthAdjust=\"spacingAndGlyphs\" textLength=\"75\" x=\"20\" y=\"20.9951\">AliasImport</text></a><!--MD5=[e4f7fae6ed58524ba242bb0b0d3be6b7]\n",
       "cluster E2--><a href=\"psysml:1b261b72-bc02-4122-a178-845f71db1598\" target=\"_top\" title=\"psysml:1b261b72-bc02-4122-a178-845f71db1598\" xlink:actuate=\"onRequest\" xlink:href=\"psysml:1b261b72-bc02-4122-a178-845f71db1598\" xlink:show=\"new\" xlink:title=\"psysml:1b261b72-bc02-4122-a178-845f71db1598\" xlink:type=\"simple\"><polygon fill=\"#FFFFFF\" points=\"40,221,119,221,126,243.2969,256,243.2969,256,315,40,315,40,221\" style=\"stroke: #000000; stroke-width: 1.5;\"/><line style=\"stroke: #000000; stroke-width: 1.5;\" x1=\"40\" x2=\"126\" y1=\"243.2969\" y2=\"243.2969\"/><text fill=\"#000000\" font-family=\"sans-serif\" font-size=\"14\" font-weight=\"bold\" lengthAdjust=\"spacingAndGlyphs\" textLength=\"73\" x=\"44\" y=\"235.9951\">Definitions</text></a><!--MD5=[de5ec2e2e8f62f467e546659f5068c88]\n",
       "cluster E5--><a href=\"psysml:944b5b0e-65e9-4e4f-876e-9affde2d942d\" target=\"_top\" title=\"psysml:944b5b0e-65e9-4e4f-876e-9affde2d942d\" xlink:actuate=\"onRequest\" xlink:href=\"psysml:944b5b0e-65e9-4e4f-876e-9affde2d942d\" xlink:show=\"new\" xlink:title=\"psysml:944b5b0e-65e9-4e4f-876e-9affde2d942d\" xlink:type=\"simple\"><polygon fill=\"#FFFFFF\" points=\"56,57,114,57,121,79.2969,230,79.2969,230,164,56,164,56,57\" style=\"stroke: #000000; stroke-width: 1.5;\"/><line style=\"stroke: #000000; stroke-width: 1.5;\" x1=\"56\" x2=\"121\" y1=\"79.2969\" y2=\"79.2969\"/><text fill=\"#000000\" font-family=\"sans-serif\" font-size=\"14\" font-weight=\"bold\" lengthAdjust=\"spacingAndGlyphs\" textLength=\"52\" x=\"60\" y=\"71.9951\">Usages</text></a><g id=\"E1.E2.E3\"><a href=\"psysml:0e061c30-2d05-4525-ad81-a01ef286857e\" target=\"_top\" title=\"psysml:0e061c30-2d05-4525-ad81-a01ef286857e\" xlink:actuate=\"onRequest\" xlink:href=\"psysml:0e061c30-2d05-4525-ad81-a01ef286857e\" xlink:show=\"new\" xlink:title=\"psysml:0e061c30-2d05-4525-ad81-a01ef286857e\" xlink:type=\"simple\"><rect fill=\"#FFFFFF\" height=\"42.9375\" id=\"E3\" style=\"stroke: #383838; stroke-width: 1.5;\" width=\"75\" x=\"165.5\" y=\"256\"/><rect fill=\"#F8F8F8\" height=\"37.9375\" style=\"stroke: #383838; stroke-width: 1.5;\" width=\"75\" x=\"165.5\" y=\"256\"/><text fill=\"#000000\" font-family=\"sans-serif\" font-size=\"12\" font-style=\"italic\" lengthAdjust=\"spacingAndGlyphs\" textLength=\"68\" x=\"169\" y=\"272.1387\">«part  def»</text><text fill=\"#000000\" font-family=\"sans-serif\" font-size=\"12\" lengthAdjust=\"spacingAndGlyphs\" textLength=\"45\" x=\"180.5\" y=\"286.1074\">Vehicle</text></a></g><g id=\"E1.E2.E4\"><a href=\"psysml:0e061c30-2d05-4525-ad81-a01ef286857e\" target=\"_top\" title=\"psysml:0e061c30-2d05-4525-ad81-a01ef286857e\" xlink:actuate=\"onRequest\" xlink:href=\"psysml:0e061c30-2d05-4525-ad81-a01ef286857e\" xlink:show=\"new\" xlink:title=\"psysml:0e061c30-2d05-4525-ad81-a01ef286857e\" xlink:type=\"simple\"><rect fill=\"#FFFFFF\" height=\"42.9375\" id=\"E4\" style=\"stroke: #383838; stroke-width: 1.5;\" width=\"75\" x=\"55.5\" y=\"256\"/><rect fill=\"#F8F8F8\" height=\"37.9375\" style=\"stroke: #383838; stroke-width: 1.5;\" width=\"75\" x=\"55.5\" y=\"256\"/><text fill=\"#000000\" font-family=\"sans-serif\" font-size=\"12\" font-style=\"italic\" lengthAdjust=\"spacingAndGlyphs\" textLength=\"68\" x=\"59\" y=\"272.1387\">«part  def»</text><text fill=\"#000000\" font-family=\"sans-serif\" font-size=\"12\" lengthAdjust=\"spacingAndGlyphs\" textLength=\"45\" x=\"70.5\" y=\"286.1074\">Vehicle</text></a></g><g id=\"E1.E5.E6\"><a href=\"psysml:61c6492a-41aa-4c1c-be1c-3a26db9abbc8\" target=\"_top\" title=\"psysml:61c6492a-41aa-4c1c-be1c-3a26db9abbc8\" xlink:actuate=\"onRequest\" xlink:href=\"psysml:61c6492a-41aa-4c1c-be1c-3a26db9abbc8\" xlink:show=\"new\" xlink:title=\"psysml:61c6492a-41aa-4c1c-be1c-3a26db9abbc8\" xlink:type=\"simple\"><rect fill=\"#FFFFFF\" height=\"40\" id=\"E6\" rx=\"10\" ry=\"10\" style=\"stroke: #383838; stroke-width: 1.5;\" width=\"107\" x=\"99.5\" y=\"100\"/><rect fill=\"#F8F8F8\" height=\"23.9688\" rx=\"10\" ry=\"10\" style=\"stroke: #F8F8F8; stroke-width: 1.5;\" width=\"107\" x=\"99.5\" y=\"100\"/><rect fill=\"#F8F8F8\" height=\"10\" style=\"stroke: #F8F8F8; stroke-width: 1.5;\" width=\"107\" x=\"99.5\" y=\"113.9688\"/><rect fill=\"none\" height=\"40\" id=\"E6\" rx=\"10\" ry=\"10\" style=\"stroke: #383838; stroke-width: 1.5;\" width=\"107\" x=\"99.5\" y=\"100\"/><text fill=\"#000000\" font-family=\"sans-serif\" font-size=\"12\" lengthAdjust=\"spacingAndGlyphs\" textLength=\"96\" x=\"105\" y=\"116.1387\">vehicle: Vehicle</text></a></g><!--MD5=[1c62de2aa5b76f0fb657ff8443a1a700]\n",
       "link E5 to E4--><a href=\"psysml:ef5e87d6-f969-4b16-bad6-f15ecd335219\" target=\"_top\" title=\"psysml:ef5e87d6-f969-4b16-bad6-f15ecd335219\" xlink:actuate=\"onRequest\" xlink:href=\"psysml:ef5e87d6-f969-4b16-bad6-f15ecd335219\" xlink:show=\"new\" xlink:title=\"psysml:ef5e87d6-f969-4b16-bad6-f15ecd335219\" xlink:type=\"simple\"><path d=\"M64,164.6076 C64,165.5779 64,166.5551 64,167.5382 C64,169.5045 64,171.4947 64,173.5009 C64,177.5131 64,181.5891 64,185.665 C64,218.2725 64,250.88 64,250.88 \" fill=\"none\" id=\"E5-&gt;E4\" style=\"stroke: #383838; stroke-width: 1.0; stroke-dasharray: 7.0,7.0;\"/><polygon fill=\"#383838\" points=\"64,255.88,68,246.88,64,250.88,60,246.88,64,255.88\" style=\"stroke: #383838; stroke-width: 1.0;\"/><text fill=\"#000000\" font-family=\"sans-serif\" font-size=\"13\" lengthAdjust=\"spacingAndGlyphs\" textLength=\"58\" x=\"74\" y=\"201.0669\">«import»</text></a><!--MD5=[f667431f98296947986a1a7595a31603]\n",
       "link E6 to E4--><a href=\"psysml:144792e9-f989-4dc0-84af-44c5bd60762e\" target=\"_top\" title=\"psysml:144792e9-f989-4dc0-84af-44c5bd60762e\" xlink:actuate=\"onRequest\" xlink:href=\"psysml:144792e9-f989-4dc0-84af-44c5bd60762e\" xlink:show=\"new\" xlink:title=\"psysml:144792e9-f989-4dc0-84af-44c5bd60762e\" xlink:type=\"simple\"><path d=\"M115,140.27 C115,140.27 115,235.8 115,235.8 \" fill=\"none\" id=\"E6-&gt;E4\" style=\"stroke: #383838; stroke-width: 1.0;\"/><polygon fill=\"#FFFFFF\" points=\"115,255.8,108,236.8,122,236.8,115,255.8\" style=\"stroke: #383838; stroke-width: 1.0;\"/><ellipse cx=\"110\" cy=\"231.1\" fill=\"#383838\" rx=\"2\" ry=\"2\" style=\"stroke: #383838; stroke-width: 1.0;\"/><ellipse cx=\"120\" cy=\"231.1\" fill=\"#383838\" rx=\"2\" ry=\"2\" style=\"stroke: #383838; stroke-width: 1.0;\"/></a><!--MD5=[5d982ab91dc898ff6223fd48ebfe64ea]\n",
       "@startuml\r\n",
       "skinparam ranksep 10\r\n",
       "skinparam rectangle {\r\n",
       " backgroundColor<<block>> LightGreen\r\n",
       "}\r\n",
       "skinparam linetype ortho\r\n",
       "skinparam monochrome true\r\n",
       "skinparam classbackgroundcolor white\r\n",
       "skinparam shadowing false\r\n",
       "skinparam wrapWidth 300\r\n",
       "hide circle\r\n",
       "\r\n",
       "package \"AliasImport\" as E1  [[psysml:2a0424ca-0ea8-4c9d-a1b7-bd1ebfa50d2f ]]  {\r\n",
       "package \"Definitions\" as E2  [[psysml:1b261b72-bc02-4122-a178-845f71db1598 ]]  {\r\n",
       "rec def \"Vehicle\" as E3  <<(T,blue) part  def>> [[psysml:0e061c30-2d05-4525-ad81-a01ef286857e ]] {\r\n",
       "}\r\n",
       "rec def \"Vehicle\" as E4  <<(T,blue) part  def>> [[psysml:0e061c30-2d05-4525-ad81-a01ef286857e ]] {\r\n",
       "}\r\n",
       "}\r\n",
       "package \"Usages\" as E5  [[psysml:944b5b0e-65e9-4e4f-876e-9affde2d942d ]]  {\r\n",
       "rec usage \"vehicle: Vehicle\" as E6  [[psysml:61c6492a-41aa-4c1c-be1c-3a26db9abbc8 ]] {\r\n",
       "}\r\n",
       "}\r\n",
       "}\r\n",
       "E5 ..> E4 [[psysml:ef5e87d6-f969-4b16-bad6-f15ecd335219 ]] : <<import>>\r\n",
       "E6 - -:|> E4 [[psysml:144792e9-f989-4dc0-84af-44c5bd60762e ]] \r\n",
       "@enduml\r\n",
       "\n",
       "PlantUML version 1.2020.13(Sat Jun 13 12:26:38 UTC 2020)\n",
       "(EPL source distribution)\n",
       "Java Runtime: OpenJDK Runtime Environment\n",
       "JVM: OpenJDK 64-Bit Server VM\n",
       "Default Encoding: UTF-8\n",
       "Language: en\n",
       "Country: null\n",
       "--></g></svg>"
      ]
     },
     "execution_count": 54,
     "metadata": {},
     "output_type": "execute_result"
    }
   ],
   "source": [
    "%viz --style=\"ORTHOLINE\" --view=\"Interconnection\" \"AliasImport\""
   ]
  },
  {
   "cell_type": "code",
   "execution_count": 55,
   "id": "51bf5cfa",
   "metadata": {
    "execution": {
     "iopub.execute_input": "2022-05-19T08:46:18.906755Z",
     "iopub.status.busy": "2022-05-19T08:46:18.906263Z",
     "iopub.status.idle": "2022-05-19T08:46:18.911357Z",
     "shell.execute_reply": "2022-05-19T08:46:18.910950Z"
    }
   },
   "outputs": [
    {
     "data": {
      "image/svg+xml": [
       "<?xml version=\"1.0\" encoding=\"UTF-8\" standalone=\"no\"?><svg xmlns=\"http://www.w3.org/2000/svg\" xmlns:xlink=\"http://www.w3.org/1999/xlink\" contentScriptType=\"application/ecmascript\" contentStyleType=\"text/css\" height=\"12px\" preserveAspectRatio=\"none\" style=\"width:12px;height:12px;\" version=\"1.1\" viewBox=\"0 0 12 12\" width=\"12px\" zoomAndPan=\"magnify\"><defs/><g><!--MD5=[72934c63077099a26744516a776b4749]\n",
       "@startuml\r\n",
       "skinparam ranksep 8\r\n",
       "skinparam linetype ortho\r\n",
       "skinparam monochrome true\r\n",
       "skinparam classbackgroundcolor white\r\n",
       "skinparam shadowing false\r\n",
       "skinparam wrapWidth 300\r\n",
       "hide circle\r\n",
       "\r\n",
       "@enduml\r\n",
       "\n",
       "PlantUML version 1.2020.13(Sat Jun 13 12:26:38 UTC 2020)\n",
       "(EPL source distribution)\n",
       "Java Runtime: OpenJDK Runtime Environment\n",
       "JVM: OpenJDK 64-Bit Server VM\n",
       "Default Encoding: UTF-8\n",
       "Language: en\n",
       "Country: null\n",
       "--></g></svg>"
      ]
     },
     "execution_count": 55,
     "metadata": {},
     "output_type": "execute_result"
    }
   ],
   "source": [
    "%viz --style=\"ORTHOLINE\" --view=\"Action\" \"AliasImport\""
   ]
  },
  {
   "cell_type": "code",
   "execution_count": 56,
   "id": "1e78afaa",
   "metadata": {
    "execution": {
     "iopub.execute_input": "2022-05-19T08:46:18.961120Z",
     "iopub.status.busy": "2022-05-19T08:46:18.960653Z",
     "iopub.status.idle": "2022-05-19T08:46:18.966296Z",
     "shell.execute_reply": "2022-05-19T08:46:18.965888Z"
    }
   },
   "outputs": [
    {
     "data": {
      "image/svg+xml": [
       "<?xml version=\"1.0\" encoding=\"UTF-8\" standalone=\"no\"?><svg xmlns=\"http://www.w3.org/2000/svg\" xmlns:xlink=\"http://www.w3.org/1999/xlink\" contentScriptType=\"application/ecmascript\" contentStyleType=\"text/css\" height=\"12px\" preserveAspectRatio=\"none\" style=\"width:12px;height:12px;\" version=\"1.1\" viewBox=\"0 0 12 12\" width=\"12px\" zoomAndPan=\"magnify\"><defs/><g><!--MD5=[30fc1de5121c5abddedd55b44417fde8]\n",
       "@startuml\r\n",
       "skinparam roundcorner 20\r\n",
       "skinparam BoxPadding 20\r\n",
       "skinparam SequenceBoxBackgroundColor #white\r\n",
       "skinparam style strictuml\r\n",
       "skinparam maxMessageSize 100\r\n",
       "skinparam linetype ortho\r\n",
       "skinparam monochrome true\r\n",
       "skinparam classbackgroundcolor white\r\n",
       "skinparam shadowing false\r\n",
       "skinparam wrapWidth 300\r\n",
       "hide circle\r\n",
       "\r\n",
       "@enduml\r\n",
       "\n",
       "PlantUML version 1.2020.13(Sat Jun 13 12:26:38 UTC 2020)\n",
       "(EPL source distribution)\n",
       "Java Runtime: OpenJDK Runtime Environment\n",
       "JVM: OpenJDK 64-Bit Server VM\n",
       "Default Encoding: UTF-8\n",
       "Language: en\n",
       "Country: null\n",
       "--></g></svg>"
      ]
     },
     "execution_count": 56,
     "metadata": {},
     "output_type": "execute_result"
    }
   ],
   "source": [
    "%viz --style=\"ORTHOLINE\" --view=\"Sequence\" \"AliasImport\""
   ]
  },
  {
   "cell_type": "code",
   "execution_count": 57,
   "id": "a7431f18",
   "metadata": {
    "execution": {
     "iopub.execute_input": "2022-05-19T08:46:19.016195Z",
     "iopub.status.busy": "2022-05-19T08:46:19.015579Z",
     "iopub.status.idle": "2022-05-19T08:46:19.040432Z",
     "shell.execute_reply": "2022-05-19T08:46:19.038898Z"
    }
   },
   "outputs": [
    {
     "data": {
      "image/svg+xml": [
       "<?xml version=\"1.0\" encoding=\"UTF-8\" standalone=\"no\"?><svg xmlns=\"http://www.w3.org/2000/svg\" xmlns:xlink=\"http://www.w3.org/1999/xlink\" contentScriptType=\"application/ecmascript\" contentStyleType=\"text/css\" height=\"360px\" preserveAspectRatio=\"none\" style=\"width:275px;height:360px;\" version=\"1.1\" viewBox=\"0 0 275 360\" width=\"275px\" zoomAndPan=\"magnify\"><defs/><g><!--MD5=[fbc87193dbaf4d95561dea2c320d4a47]\n",
       "cluster E1--><a href=\"psysml:2a0424ca-0ea8-4c9d-a1b7-bd1ebfa50d2f\" target=\"_top\" title=\"psysml:2a0424ca-0ea8-4c9d-a1b7-bd1ebfa50d2f\" xlink:actuate=\"onRequest\" xlink:href=\"psysml:2a0424ca-0ea8-4c9d-a1b7-bd1ebfa50d2f\" xlink:show=\"new\" xlink:title=\"psysml:2a0424ca-0ea8-4c9d-a1b7-bd1ebfa50d2f\" xlink:type=\"simple\"><polygon fill=\"#FFFFFF\" points=\"16,6,97,6,104,28.2969,253,28.2969,253,348,16,348,16,6\" style=\"stroke: #000000; stroke-width: 1.5;\"/><line style=\"stroke: #000000; stroke-width: 1.5;\" x1=\"16\" x2=\"104\" y1=\"28.2969\" y2=\"28.2969\"/><text fill=\"#000000\" font-family=\"sans-serif\" font-size=\"14\" font-weight=\"bold\" lengthAdjust=\"spacingAndGlyphs\" textLength=\"75\" x=\"20\" y=\"20.9951\">AliasImport</text></a><!--MD5=[e4f7fae6ed58524ba242bb0b0d3be6b7]\n",
       "cluster E2--><a href=\"psysml:1b261b72-bc02-4122-a178-845f71db1598\" target=\"_top\" title=\"psysml:1b261b72-bc02-4122-a178-845f71db1598\" xlink:actuate=\"onRequest\" xlink:href=\"psysml:1b261b72-bc02-4122-a178-845f71db1598\" xlink:show=\"new\" xlink:title=\"psysml:1b261b72-bc02-4122-a178-845f71db1598\" xlink:type=\"simple\"><polygon fill=\"#FFFFFF\" points=\"65,227,144,227,151,249.2969,167,249.2969,167,324,65,324,65,227\" style=\"stroke: #000000; stroke-width: 1.5;\"/><line style=\"stroke: #000000; stroke-width: 1.5;\" x1=\"65\" x2=\"151\" y1=\"249.2969\" y2=\"249.2969\"/><text fill=\"#000000\" font-family=\"sans-serif\" font-size=\"14\" font-weight=\"bold\" lengthAdjust=\"spacingAndGlyphs\" textLength=\"73\" x=\"69\" y=\"241.9951\">Definitions</text></a><!--MD5=[f6df4d0ebaf0b5dfb2ced0ae5af7c670]\n",
       "cluster E4--><a href=\"psysml:944b5b0e-65e9-4e4f-876e-9affde2d942d\" target=\"_top\" title=\"psysml:944b5b0e-65e9-4e4f-876e-9affde2d942d\" xlink:actuate=\"onRequest\" xlink:href=\"psysml:944b5b0e-65e9-4e4f-876e-9affde2d942d\" xlink:show=\"new\" xlink:title=\"psysml:944b5b0e-65e9-4e4f-876e-9affde2d942d\" xlink:type=\"simple\"><polygon fill=\"#FFFFFF\" points=\"48,57,106,57,113,79.2969,221,79.2969,221,170,48,170,48,57\" style=\"stroke: #000000; stroke-width: 1.5;\"/><line style=\"stroke: #000000; stroke-width: 1.5;\" x1=\"48\" x2=\"113\" y1=\"79.2969\" y2=\"79.2969\"/><text fill=\"#000000\" font-family=\"sans-serif\" font-size=\"14\" font-weight=\"bold\" lengthAdjust=\"spacingAndGlyphs\" textLength=\"52\" x=\"52\" y=\"71.9951\">Usages</text></a><!--MD5=[09b614a08d8cba4a07c9adeb5e0fee81]\n",
       "class E3--><a href=\"psysml:0e061c30-2d05-4525-ad81-a01ef286857e\" target=\"_top\" title=\"psysml:0e061c30-2d05-4525-ad81-a01ef286857e\" xlink:actuate=\"onRequest\" xlink:href=\"psysml:0e061c30-2d05-4525-ad81-a01ef286857e\" xlink:show=\"new\" xlink:title=\"psysml:0e061c30-2d05-4525-ad81-a01ef286857e\" xlink:type=\"simple\"><rect fill=\"#FFFFFF\" height=\"45.9375\" id=\"E3\" style=\"stroke: #383838; stroke-width: 1.5;\" width=\"70\" x=\"81\" y=\"262\"/><text fill=\"#000000\" font-family=\"sans-serif\" font-size=\"12\" font-style=\"italic\" lengthAdjust=\"spacingAndGlyphs\" textLength=\"68\" x=\"82\" y=\"278.1387\">«part  def»</text><text fill=\"#000000\" font-family=\"sans-serif\" font-size=\"12\" lengthAdjust=\"spacingAndGlyphs\" textLength=\"45\" x=\"93.5\" y=\"292.1074\">Vehicle</text><line style=\"stroke: #383838; stroke-width: 1.5;\" x1=\"82\" x2=\"150\" y1=\"299.9375\" y2=\"299.9375\"/></a><!--MD5=[270fce915f116d4de14055a7c1d9a0f3]\n",
       "class E5--><a href=\"psysml:61c6492a-41aa-4c1c-be1c-3a26db9abbc8\" target=\"_top\" title=\"psysml:61c6492a-41aa-4c1c-be1c-3a26db9abbc8\" xlink:actuate=\"onRequest\" xlink:href=\"psysml:61c6492a-41aa-4c1c-be1c-3a26db9abbc8\" xlink:show=\"new\" xlink:title=\"psysml:61c6492a-41aa-4c1c-be1c-3a26db9abbc8\" xlink:type=\"simple\"><rect fill=\"#FFFFFF\" height=\"45.9375\" id=\"E5\" rx=\"10\" ry=\"10\" style=\"stroke: #383838; stroke-width: 1.5;\" width=\"106\" x=\"91\" y=\"100\"/><text fill=\"#000000\" font-family=\"sans-serif\" font-size=\"12\" font-style=\"italic\" lengthAdjust=\"spacingAndGlyphs\" textLength=\"40\" x=\"124\" y=\"116.1387\">«part»</text><text fill=\"#000000\" font-family=\"sans-serif\" font-size=\"12\" lengthAdjust=\"spacingAndGlyphs\" textLength=\"96\" x=\"94\" y=\"130.1074\">vehicle: Vehicle</text><line style=\"stroke: #383838; stroke-width: 1.5;\" x1=\"92\" x2=\"196\" y1=\"137.9375\" y2=\"137.9375\"/></a><!--MD5=[f0cdf4548168e5211fb3a02bf679d63a]\n",
       "link E4 to E3--><a href=\"psysml:ef5e87d6-f969-4b16-bad6-f15ecd335219\" target=\"_top\" title=\"psysml:ef5e87d6-f969-4b16-bad6-f15ecd335219\" xlink:actuate=\"onRequest\" xlink:href=\"psysml:ef5e87d6-f969-4b16-bad6-f15ecd335219\" xlink:show=\"new\" xlink:title=\"psysml:ef5e87d6-f969-4b16-bad6-f15ecd335219\" xlink:type=\"simple\"><path d=\"M86,170.5461 C86,170.7974 86,171.0491 86,171.3013 C86,173.3182 86,175.3597 86,177.4175 C86,181.5331 86,185.7141 86,189.895 C86,223.3425 86,256.79 86,256.79 \" fill=\"none\" id=\"E4-&gt;E3\" style=\"stroke: #383838; stroke-width: 1.0; stroke-dasharray: 7.0,7.0;\"/><polygon fill=\"#383838\" points=\"86,261.79,90,252.79,86,256.79,82,252.79,86,261.79\" style=\"stroke: #383838; stroke-width: 1.0;\"/><text fill=\"#000000\" font-family=\"sans-serif\" font-size=\"13\" lengthAdjust=\"spacingAndGlyphs\" textLength=\"58\" x=\"73\" y=\"207.0669\">«import»</text></a><!--MD5=[e9be52314489bd878ff4c7144b63c9e1]\n",
       "link E5 to E3--><a href=\"psysml:144792e9-f989-4dc0-84af-44c5bd60762e\" target=\"_top\" title=\"psysml:144792e9-f989-4dc0-84af-44c5bd60762e\" xlink:actuate=\"onRequest\" xlink:href=\"psysml:144792e9-f989-4dc0-84af-44c5bd60762e\" xlink:show=\"new\" xlink:title=\"psysml:144792e9-f989-4dc0-84af-44c5bd60762e\" xlink:type=\"simple\"><path d=\"M121,146.21 C121,146.21 121,241.83 121,241.83 \" fill=\"none\" id=\"E5-&gt;E3\" style=\"stroke: #383838; stroke-width: 1.0;\"/><polygon fill=\"#FFFFFF\" points=\"121,261.83,114,242.83,128,242.83,121,261.83\" style=\"stroke: #383838; stroke-width: 1.0;\"/><ellipse cx=\"116\" cy=\"237.13\" fill=\"#383838\" rx=\"2\" ry=\"2\" style=\"stroke: #383838; stroke-width: 1.0;\"/><ellipse cx=\"126\" cy=\"237.13\" fill=\"#383838\" rx=\"2\" ry=\"2\" style=\"stroke: #383838; stroke-width: 1.0;\"/></a><!--MD5=[3d8fa0c36485ff0b325352bd6248f49d]\n",
       "@startuml\r\n",
       "skinparam linetype ortho\r\n",
       "skinparam monochrome true\r\n",
       "skinparam classbackgroundcolor white\r\n",
       "skinparam shadowing false\r\n",
       "skinparam wrapWidth 300\r\n",
       "hide circle\r\n",
       "\r\n",
       "package \"AliasImport\" as E1  [[psysml:2a0424ca-0ea8-4c9d-a1b7-bd1ebfa50d2f ]]  {\r\n",
       "package \"Definitions\" as E2  [[psysml:1b261b72-bc02-4122-a178-845f71db1598 ]]  {\r\n",
       "comp def \"Vehicle\" as E3  <<(T,blue) part  def>> [[psysml:0e061c30-2d05-4525-ad81-a01ef286857e ]] {\r\n",
       "}\r\n",
       "}\r\n",
       "package \"Usages\" as E4  [[psysml:944b5b0e-65e9-4e4f-876e-9affde2d942d ]]  {\r\n",
       "comp usage \"vehicle: Vehicle \" as E5  <<(T,blue) part>> [[psysml:61c6492a-41aa-4c1c-be1c-3a26db9abbc8 ]] {\r\n",
       "}\r\n",
       "}\r\n",
       "}\r\n",
       "E4 ..> E3 [[psysml:ef5e87d6-f969-4b16-bad6-f15ecd335219 ]] : <<import>>\r\n",
       "E5 - -:|> E3 [[psysml:144792e9-f989-4dc0-84af-44c5bd60762e ]] \r\n",
       "@enduml\r\n",
       "\n",
       "PlantUML version 1.2020.13(Sat Jun 13 12:26:38 UTC 2020)\n",
       "(EPL source distribution)\n",
       "Java Runtime: OpenJDK Runtime Environment\n",
       "JVM: OpenJDK 64-Bit Server VM\n",
       "Default Encoding: UTF-8\n",
       "Language: en\n",
       "Country: null\n",
       "--></g></svg>"
      ]
     },
     "execution_count": 57,
     "metadata": {},
     "output_type": "execute_result"
    }
   ],
   "source": [
    "%viz --style=\"ORTHOLINE\" --view=\"MIXED\" \"AliasImport\""
   ]
  }
 ],
 "metadata": {
  "kernelspec": {
   "display_name": "SysML",
   "language": "sysml",
   "name": "sysml"
  },
  "language_info": {
   "codemirror_mode": "sysml",
   "file_extension": ".sysml",
   "mimetype": "text/x-sysml",
   "name": "SysML",
   "pygments_lexer": "java",
   "version": "1.0.0"
  }
 },
 "nbformat": 4,
 "nbformat_minor": 5
}
