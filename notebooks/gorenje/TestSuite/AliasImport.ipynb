{
 "cells": [
  {
   "cell_type": "markdown",
   "id": "e77161a9",
   "metadata": {},
   "source": [
    "# SysML v2 Test Suite\n",
    "\n",
    "This can notebook can be cleared using menu `Edit --> Clear All Outputs` and then all cells can be\n",
    "run using menu `Run --> Run All Cells`.\n",
    "\n",
    "**WARNING**: This file is generated, all modifications here will be ignored.\n"
   ]
  },
  {
   "cell_type": "markdown",
   "id": "88f30a23",
   "metadata": {},
   "source": [
    "## File: ../../sysml/src/examples/Import Tests/AliasImport.sysml"
   ]
  },
  {
   "cell_type": "code",
   "execution_count": 1,
   "id": "bc446690",
   "metadata": {
    "execution": {
     "iopub.execute_input": "2021-09-27T07:19:53.031525Z",
     "iopub.status.busy": "2021-09-27T07:19:53.030567Z",
     "iopub.status.idle": "2021-09-27T07:19:53.143026Z",
     "shell.execute_reply": "2021-09-27T07:19:53.142626Z"
    }
   },
   "outputs": [
    {
     "data": {
      "text/plain": [
       "Package AliasImport (38fcb79c-fe3f-4572-9c2d-85d3f32197fc)\n"
      ]
     },
     "execution_count": 1,
     "metadata": {},
     "output_type": "execute_result"
    }
   ],
   "source": [
    "package AliasImport {\n",
    "\tpackage Definitions {\n",
    "\t    part def Vehicle;\n",
    "\t    \n",
    "\t    alias Car for Vehicle;\n",
    "\t}\n",
    "\t\n",
    "\tpackage Usages {\n",
    "\t    import Definitions::Car;\n",
    "\t\n",
    "\t    part vehicle : Car;\n",
    "\t}\n",
    "}"
   ]
  },
  {
   "cell_type": "code",
   "execution_count": 2,
   "id": "3480e765",
   "metadata": {
    "execution": {
     "iopub.execute_input": "2021-09-27T07:19:53.194611Z",
     "iopub.status.busy": "2021-09-27T07:19:53.194345Z",
     "iopub.status.idle": "2021-09-27T07:19:53.665283Z",
     "shell.execute_reply": "2021-09-27T07:19:53.663888Z"
    }
   },
   "outputs": [
    {
     "data": {
      "image/svg+xml": [
       "<?xml version=\"1.0\" encoding=\"UTF-8\" standalone=\"no\"?><svg xmlns=\"http://www.w3.org/2000/svg\" xmlns:xlink=\"http://www.w3.org/1999/xlink\" contentScriptType=\"application/ecmascript\" contentStyleType=\"text/css\" height=\"303px\" preserveAspectRatio=\"none\" style=\"width:220px;height:303px;\" version=\"1.1\" viewBox=\"0 0 220 303\" width=\"220px\" zoomAndPan=\"magnify\"><defs/><g><!--MD5=[fbc87193dbaf4d95561dea2c320d4a47]\n",
       "cluster E1--><a href=\"psysml:4c778e7a-b929-42de-9fbe-71ac5f912e3c\" target=\"_top\" title=\"psysml:4c778e7a-b929-42de-9fbe-71ac5f912e3c\" xlink:actuate=\"onRequest\" xlink:href=\"psysml:4c778e7a-b929-42de-9fbe-71ac5f912e3c\" xlink:show=\"new\" xlink:title=\"psysml:4c778e7a-b929-42de-9fbe-71ac5f912e3c\" xlink:type=\"simple\"><polygon fill=\"#FFFFFF\" points=\"16,6,97,6,104,28.2969,198,28.2969,198,291,16,291,16,6\" style=\"stroke: #000000; stroke-width: 1.5;\"/><line style=\"stroke: #000000; stroke-width: 1.5;\" x1=\"16\" x2=\"104\" y1=\"28.2969\" y2=\"28.2969\"/><text fill=\"#000000\" font-family=\"sans-serif\" font-size=\"14\" font-weight=\"bold\" lengthAdjust=\"spacingAndGlyphs\" textLength=\"75\" x=\"20\" y=\"20.9951\">AliasImport</text></a><!--MD5=[e4f7fae6ed58524ba242bb0b0d3be6b7]\n",
       "cluster E2--><a href=\"psysml:5f40b44b-bd87-468f-b109-35ffc9f78ab6\" target=\"_top\" title=\"psysml:5f40b44b-bd87-468f-b109-35ffc9f78ab6\" xlink:actuate=\"onRequest\" xlink:href=\"psysml:5f40b44b-bd87-468f-b109-35ffc9f78ab6\" xlink:show=\"new\" xlink:title=\"psysml:5f40b44b-bd87-468f-b109-35ffc9f78ab6\" xlink:type=\"simple\"><polygon fill=\"#FFFFFF\" points=\"58,170,137,170,144,192.2969,156,192.2969,156,267,58,267,58,170\" style=\"stroke: #000000; stroke-width: 1.5;\"/><line style=\"stroke: #000000; stroke-width: 1.5;\" x1=\"58\" x2=\"144\" y1=\"192.2969\" y2=\"192.2969\"/><text fill=\"#000000\" font-family=\"sans-serif\" font-size=\"14\" font-weight=\"bold\" lengthAdjust=\"spacingAndGlyphs\" textLength=\"73\" x=\"62\" y=\"184.9951\">Definitions</text></a><!--MD5=[f6df4d0ebaf0b5dfb2ced0ae5af7c670]\n",
       "cluster E4--><a href=\"psysml:ea2bdd2c-ef7f-4fe4-8ff5-76ffc4616c11\" target=\"_top\" title=\"psysml:ea2bdd2c-ef7f-4fe4-8ff5-76ffc4616c11\" xlink:actuate=\"onRequest\" xlink:href=\"psysml:ea2bdd2c-ef7f-4fe4-8ff5-76ffc4616c11\" xlink:show=\"new\" xlink:title=\"psysml:ea2bdd2c-ef7f-4fe4-8ff5-76ffc4616c11\" xlink:type=\"simple\"><polygon fill=\"#FFFFFF\" points=\"40,49,98,49,105,71.2969,174,71.2969,174,146,40,146,40,49\" style=\"stroke: #000000; stroke-width: 1.5;\"/><line style=\"stroke: #000000; stroke-width: 1.5;\" x1=\"40\" x2=\"105\" y1=\"71.2969\" y2=\"71.2969\"/><text fill=\"#000000\" font-family=\"sans-serif\" font-size=\"14\" font-weight=\"bold\" lengthAdjust=\"spacingAndGlyphs\" textLength=\"52\" x=\"44\" y=\"63.9951\">Usages</text></a><!--MD5=[09b614a08d8cba4a07c9adeb5e0fee81]\n",
       "class E3--><a href=\"psysml:1b4a97b7-4457-459f-aed1-97b0f48f7241\" target=\"_top\" title=\"psysml:1b4a97b7-4457-459f-aed1-97b0f48f7241\" xlink:actuate=\"onRequest\" xlink:href=\"psysml:1b4a97b7-4457-459f-aed1-97b0f48f7241\" xlink:show=\"new\" xlink:title=\"psysml:1b4a97b7-4457-459f-aed1-97b0f48f7241\" xlink:type=\"simple\"><rect fill=\"#FFFFFF\" height=\"45.9375\" id=\"E3\" style=\"stroke: #383838; stroke-width: 1.5;\" width=\"66\" x=\"74\" y=\"205\"/><text fill=\"#000000\" font-family=\"sans-serif\" font-size=\"12\" font-style=\"italic\" lengthAdjust=\"spacingAndGlyphs\" textLength=\"64\" x=\"75\" y=\"221.1387\">«part def»</text><text fill=\"#000000\" font-family=\"sans-serif\" font-size=\"12\" lengthAdjust=\"spacingAndGlyphs\" textLength=\"45\" x=\"84.5\" y=\"235.1074\">Vehicle</text><line style=\"stroke: #383838; stroke-width: 1.5;\" x1=\"75\" x2=\"139\" y1=\"242.9375\" y2=\"242.9375\"/></a><!--MD5=[270fce915f116d4de14055a7c1d9a0f3]\n",
       "class E5--><a href=\"psysml:ea5f8fdf-b305-409f-85bc-0024bea5295e\" target=\"_top\" title=\"psysml:ea5f8fdf-b305-409f-85bc-0024bea5295e\" xlink:actuate=\"onRequest\" xlink:href=\"psysml:ea5f8fdf-b305-409f-85bc-0024bea5295e\" xlink:show=\"new\" xlink:title=\"psysml:ea5f8fdf-b305-409f-85bc-0024bea5295e\" xlink:type=\"simple\"><rect fill=\"#FFFFFF\" height=\"45.9375\" id=\"E5\" rx=\"10\" ry=\"10\" style=\"stroke: #383838; stroke-width: 1.5;\" width=\"102\" x=\"56\" y=\"84\"/><text fill=\"#000000\" font-family=\"sans-serif\" font-size=\"12\" font-style=\"italic\" lengthAdjust=\"spacingAndGlyphs\" textLength=\"40\" x=\"87\" y=\"100.1387\">«part»</text><text fill=\"#000000\" font-family=\"sans-serif\" font-size=\"12\" lengthAdjust=\"spacingAndGlyphs\" textLength=\"96\" x=\"59\" y=\"114.1074\">vehicle: Vehicle</text><line style=\"stroke: #383838; stroke-width: 1.5;\" x1=\"57\" x2=\"157\" y1=\"121.9375\" y2=\"121.9375\"/></a><!--MD5=[e9be52314489bd878ff4c7144b63c9e1]\n",
       "link E5 to E3--><a href=\"psysml:4cdeda76-c42f-43d9-9b0b-b21e3f7ae647\" target=\"_top\" title=\"psysml:4cdeda76-c42f-43d9-9b0b-b21e3f7ae647\" xlink:actuate=\"onRequest\" xlink:href=\"psysml:4cdeda76-c42f-43d9-9b0b-b21e3f7ae647\" xlink:show=\"new\" xlink:title=\"psysml:4cdeda76-c42f-43d9-9b0b-b21e3f7ae647\" xlink:type=\"simple\"><path d=\"M107,130.1 C107,145.37 107,166.16 107,184.57 \" fill=\"none\" id=\"E5-&gt;E3\" style=\"stroke: #383838; stroke-width: 1.0;\"/><polygon fill=\"#FFFFFF\" points=\"107,204.61,100,185.61,114,185.61,107,204.61\" style=\"stroke: #383838; stroke-width: 1.0;\"/><ellipse cx=\"102\" cy=\"179.91\" fill=\"#383838\" rx=\"2\" ry=\"2\" style=\"stroke: #383838; stroke-width: 1.0;\"/><ellipse cx=\"112\" cy=\"179.91\" fill=\"#383838\" rx=\"2\" ry=\"2\" style=\"stroke: #383838; stroke-width: 1.0;\"/></a><!--MD5=[095e72ab2f767e94e47b39a6b2c8225f]\n",
       "@startuml\r\n",
       " skinparam monochrome true\r\n",
       "skinparam classbackgroundcolor white\r\n",
       "skinparam shadowing false\r\n",
       "skinparam wrapWidth 300\r\n",
       "hide circle\r\n",
       "\r\n",
       "package \"AliasImport\" as E1  [[psysml:4c778e7a-b929-42de-9fbe-71ac5f912e3c ]]  {\r\n",
       "package \"Definitions\" as E2  [[psysml:5f40b44b-bd87-468f-b109-35ffc9f78ab6 ]]  {\r\n",
       "comp def \"Vehicle\" as E3  <<(T,blue) part def>> [[psysml:1b4a97b7-4457-459f-aed1-97b0f48f7241 ]] {\r\n",
       "}\r\n",
       "}\r\n",
       "package \"Usages\" as E4  [[psysml:ea2bdd2c-ef7f-4fe4-8ff5-76ffc4616c11 ]]  {\r\n",
       "comp usage \"vehicle: Vehicle\" as E5  <<(T,blue) part>> [[psysml:ea5f8fdf-b305-409f-85bc-0024bea5295e ]] {\r\n",
       "}\r\n",
       "}\r\n",
       "}\r\n",
       "E5 - -:|> E3 [[psysml:4cdeda76-c42f-43d9-9b0b-b21e3f7ae647 ]] \r\n",
       "@enduml\r\n",
       "\n",
       "PlantUML version 1.2020.13(Sat Jun 13 12:26:38 UTC 2020)\n",
       "(EPL source distribution)\n",
       "Java Runtime: OpenJDK Runtime Environment\n",
       "JVM: OpenJDK 64-Bit Server VM\n",
       "Default Encoding: UTF-8\n",
       "Language: en\n",
       "Country: null\n",
       "--></g></svg>"
      ]
     },
     "execution_count": 2,
     "metadata": {},
     "output_type": "execute_result"
    }
   ],
   "source": [
    "%viz --style=\"COMPTREE\" --view=\"Default\" \"AliasImport\""
   ]
  },
  {
   "cell_type": "code",
   "execution_count": 3,
   "id": "0ca7759e",
   "metadata": {
    "execution": {
     "iopub.execute_input": "2021-09-27T07:19:53.715024Z",
     "iopub.status.busy": "2021-09-27T07:19:53.714598Z",
     "iopub.status.idle": "2021-09-27T07:19:53.760695Z",
     "shell.execute_reply": "2021-09-27T07:19:53.761076Z"
    }
   },
   "outputs": [
    {
     "data": {
      "image/svg+xml": [
       "<?xml version=\"1.0\" encoding=\"UTF-8\" standalone=\"no\"?><svg xmlns=\"http://www.w3.org/2000/svg\" xmlns:xlink=\"http://www.w3.org/1999/xlink\" contentScriptType=\"application/ecmascript\" contentStyleType=\"text/css\" height=\"303px\" preserveAspectRatio=\"none\" style=\"width:220px;height:303px;\" version=\"1.1\" viewBox=\"0 0 220 303\" width=\"220px\" zoomAndPan=\"magnify\"><defs/><g><!--MD5=[fbc87193dbaf4d95561dea2c320d4a47]\n",
       "cluster E1--><a href=\"psysml:4c778e7a-b929-42de-9fbe-71ac5f912e3c\" target=\"_top\" title=\"psysml:4c778e7a-b929-42de-9fbe-71ac5f912e3c\" xlink:actuate=\"onRequest\" xlink:href=\"psysml:4c778e7a-b929-42de-9fbe-71ac5f912e3c\" xlink:show=\"new\" xlink:title=\"psysml:4c778e7a-b929-42de-9fbe-71ac5f912e3c\" xlink:type=\"simple\"><polygon fill=\"#FFFFFF\" points=\"16,6,97,6,104,28.2969,198,28.2969,198,291,16,291,16,6\" style=\"stroke: #000000; stroke-width: 1.5;\"/><line style=\"stroke: #000000; stroke-width: 1.5;\" x1=\"16\" x2=\"104\" y1=\"28.2969\" y2=\"28.2969\"/><text fill=\"#000000\" font-family=\"sans-serif\" font-size=\"14\" font-weight=\"bold\" lengthAdjust=\"spacingAndGlyphs\" textLength=\"75\" x=\"20\" y=\"20.9951\">AliasImport</text></a><!--MD5=[e4f7fae6ed58524ba242bb0b0d3be6b7]\n",
       "cluster E2--><a href=\"psysml:5f40b44b-bd87-468f-b109-35ffc9f78ab6\" target=\"_top\" title=\"psysml:5f40b44b-bd87-468f-b109-35ffc9f78ab6\" xlink:actuate=\"onRequest\" xlink:href=\"psysml:5f40b44b-bd87-468f-b109-35ffc9f78ab6\" xlink:show=\"new\" xlink:title=\"psysml:5f40b44b-bd87-468f-b109-35ffc9f78ab6\" xlink:type=\"simple\"><polygon fill=\"#FFFFFF\" points=\"58,170,137,170,144,192.2969,156,192.2969,156,267,58,267,58,170\" style=\"stroke: #000000; stroke-width: 1.5;\"/><line style=\"stroke: #000000; stroke-width: 1.5;\" x1=\"58\" x2=\"144\" y1=\"192.2969\" y2=\"192.2969\"/><text fill=\"#000000\" font-family=\"sans-serif\" font-size=\"14\" font-weight=\"bold\" lengthAdjust=\"spacingAndGlyphs\" textLength=\"73\" x=\"62\" y=\"184.9951\">Definitions</text></a><!--MD5=[f6df4d0ebaf0b5dfb2ced0ae5af7c670]\n",
       "cluster E4--><a href=\"psysml:ea2bdd2c-ef7f-4fe4-8ff5-76ffc4616c11\" target=\"_top\" title=\"psysml:ea2bdd2c-ef7f-4fe4-8ff5-76ffc4616c11\" xlink:actuate=\"onRequest\" xlink:href=\"psysml:ea2bdd2c-ef7f-4fe4-8ff5-76ffc4616c11\" xlink:show=\"new\" xlink:title=\"psysml:ea2bdd2c-ef7f-4fe4-8ff5-76ffc4616c11\" xlink:type=\"simple\"><polygon fill=\"#FFFFFF\" points=\"40,49,98,49,105,71.2969,174,71.2969,174,146,40,146,40,49\" style=\"stroke: #000000; stroke-width: 1.5;\"/><line style=\"stroke: #000000; stroke-width: 1.5;\" x1=\"40\" x2=\"105\" y1=\"71.2969\" y2=\"71.2969\"/><text fill=\"#000000\" font-family=\"sans-serif\" font-size=\"14\" font-weight=\"bold\" lengthAdjust=\"spacingAndGlyphs\" textLength=\"52\" x=\"44\" y=\"63.9951\">Usages</text></a><!--MD5=[09b614a08d8cba4a07c9adeb5e0fee81]\n",
       "class E3--><a href=\"psysml:1b4a97b7-4457-459f-aed1-97b0f48f7241\" target=\"_top\" title=\"psysml:1b4a97b7-4457-459f-aed1-97b0f48f7241\" xlink:actuate=\"onRequest\" xlink:href=\"psysml:1b4a97b7-4457-459f-aed1-97b0f48f7241\" xlink:show=\"new\" xlink:title=\"psysml:1b4a97b7-4457-459f-aed1-97b0f48f7241\" xlink:type=\"simple\"><rect fill=\"#FFFFFF\" height=\"45.9375\" id=\"E3\" style=\"stroke: #383838; stroke-width: 1.5;\" width=\"66\" x=\"74\" y=\"205\"/><text fill=\"#000000\" font-family=\"sans-serif\" font-size=\"12\" font-style=\"italic\" lengthAdjust=\"spacingAndGlyphs\" textLength=\"64\" x=\"75\" y=\"221.1387\">«part def»</text><text fill=\"#000000\" font-family=\"sans-serif\" font-size=\"12\" lengthAdjust=\"spacingAndGlyphs\" textLength=\"45\" x=\"84.5\" y=\"235.1074\">Vehicle</text><line style=\"stroke: #383838; stroke-width: 1.5;\" x1=\"75\" x2=\"139\" y1=\"242.9375\" y2=\"242.9375\"/></a><!--MD5=[270fce915f116d4de14055a7c1d9a0f3]\n",
       "class E5--><a href=\"psysml:ea5f8fdf-b305-409f-85bc-0024bea5295e\" target=\"_top\" title=\"psysml:ea5f8fdf-b305-409f-85bc-0024bea5295e\" xlink:actuate=\"onRequest\" xlink:href=\"psysml:ea5f8fdf-b305-409f-85bc-0024bea5295e\" xlink:show=\"new\" xlink:title=\"psysml:ea5f8fdf-b305-409f-85bc-0024bea5295e\" xlink:type=\"simple\"><rect fill=\"#FFFFFF\" height=\"45.9375\" id=\"E5\" rx=\"10\" ry=\"10\" style=\"stroke: #383838; stroke-width: 1.5;\" width=\"102\" x=\"56\" y=\"84\"/><text fill=\"#000000\" font-family=\"sans-serif\" font-size=\"12\" font-style=\"italic\" lengthAdjust=\"spacingAndGlyphs\" textLength=\"40\" x=\"87\" y=\"100.1387\">«part»</text><text fill=\"#000000\" font-family=\"sans-serif\" font-size=\"12\" lengthAdjust=\"spacingAndGlyphs\" textLength=\"96\" x=\"59\" y=\"114.1074\">vehicle: Vehicle</text><line style=\"stroke: #383838; stroke-width: 1.5;\" x1=\"57\" x2=\"157\" y1=\"121.9375\" y2=\"121.9375\"/></a><!--MD5=[e9be52314489bd878ff4c7144b63c9e1]\n",
       "link E5 to E3--><a href=\"psysml:4cdeda76-c42f-43d9-9b0b-b21e3f7ae647\" target=\"_top\" title=\"psysml:4cdeda76-c42f-43d9-9b0b-b21e3f7ae647\" xlink:actuate=\"onRequest\" xlink:href=\"psysml:4cdeda76-c42f-43d9-9b0b-b21e3f7ae647\" xlink:show=\"new\" xlink:title=\"psysml:4cdeda76-c42f-43d9-9b0b-b21e3f7ae647\" xlink:type=\"simple\"><path d=\"M107,130.1 C107,145.37 107,166.16 107,184.57 \" fill=\"none\" id=\"E5-&gt;E3\" style=\"stroke: #383838; stroke-width: 1.0;\"/><polygon fill=\"#FFFFFF\" points=\"107,204.61,100,185.61,114,185.61,107,204.61\" style=\"stroke: #383838; stroke-width: 1.0;\"/><ellipse cx=\"102\" cy=\"179.91\" fill=\"#383838\" rx=\"2\" ry=\"2\" style=\"stroke: #383838; stroke-width: 1.0;\"/><ellipse cx=\"112\" cy=\"179.91\" fill=\"#383838\" rx=\"2\" ry=\"2\" style=\"stroke: #383838; stroke-width: 1.0;\"/></a><!--MD5=[095e72ab2f767e94e47b39a6b2c8225f]\n",
       "@startuml\r\n",
       " skinparam monochrome true\r\n",
       "skinparam classbackgroundcolor white\r\n",
       "skinparam shadowing false\r\n",
       "skinparam wrapWidth 300\r\n",
       "hide circle\r\n",
       "\r\n",
       "package \"AliasImport\" as E1  [[psysml:4c778e7a-b929-42de-9fbe-71ac5f912e3c ]]  {\r\n",
       "package \"Definitions\" as E2  [[psysml:5f40b44b-bd87-468f-b109-35ffc9f78ab6 ]]  {\r\n",
       "comp def \"Vehicle\" as E3  <<(T,blue) part def>> [[psysml:1b4a97b7-4457-459f-aed1-97b0f48f7241 ]] {\r\n",
       "}\r\n",
       "}\r\n",
       "package \"Usages\" as E4  [[psysml:ea2bdd2c-ef7f-4fe4-8ff5-76ffc4616c11 ]]  {\r\n",
       "comp usage \"vehicle: Vehicle\" as E5  <<(T,blue) part>> [[psysml:ea5f8fdf-b305-409f-85bc-0024bea5295e ]] {\r\n",
       "}\r\n",
       "}\r\n",
       "}\r\n",
       "E5 - -:|> E3 [[psysml:4cdeda76-c42f-43d9-9b0b-b21e3f7ae647 ]] \r\n",
       "@enduml\r\n",
       "\n",
       "PlantUML version 1.2020.13(Sat Jun 13 12:26:38 UTC 2020)\n",
       "(EPL source distribution)\n",
       "Java Runtime: OpenJDK Runtime Environment\n",
       "JVM: OpenJDK 64-Bit Server VM\n",
       "Default Encoding: UTF-8\n",
       "Language: en\n",
       "Country: null\n",
       "--></g></svg>"
      ]
     },
     "execution_count": 3,
     "metadata": {},
     "output_type": "execute_result"
    }
   ],
   "source": [
    "%viz --style=\"COMPTREE\" --view=\"Tree\" \"AliasImport\""
   ]
  },
  {
   "cell_type": "code",
   "execution_count": 4,
   "id": "69be9af9",
   "metadata": {
    "execution": {
     "iopub.execute_input": "2021-09-27T07:19:53.811559Z",
     "iopub.status.busy": "2021-09-27T07:19:53.810920Z",
     "iopub.status.idle": "2021-09-27T07:19:53.821286Z",
     "shell.execute_reply": "2021-09-27T07:19:53.821663Z"
    }
   },
   "outputs": [
    {
     "data": {
      "image/svg+xml": [
       "<?xml version=\"1.0\" encoding=\"UTF-8\" standalone=\"no\"?><svg xmlns=\"http://www.w3.org/2000/svg\" xmlns:xlink=\"http://www.w3.org/1999/xlink\" contentScriptType=\"application/ecmascript\" contentStyleType=\"text/css\" height=\"12px\" preserveAspectRatio=\"none\" style=\"width:12px;height:12px;\" version=\"1.1\" viewBox=\"0 0 12 12\" width=\"12px\" zoomAndPan=\"magnify\"><defs/><g><!--MD5=[f19188ef49e11757b5c46753f95d9edc]\n",
       "@startuml\r\n",
       " skinparam monochrome true\r\n",
       "skinparam classbackgroundcolor white\r\n",
       "skinparam shadowing false\r\n",
       "skinparam wrapWidth 300\r\n",
       "hide circle\r\n",
       "\r\n",
       "@enduml\r\n",
       "\n",
       "PlantUML version 1.2020.13(Sat Jun 13 12:26:38 UTC 2020)\n",
       "(EPL source distribution)\n",
       "Java Runtime: OpenJDK Runtime Environment\n",
       "JVM: OpenJDK 64-Bit Server VM\n",
       "Default Encoding: UTF-8\n",
       "Language: en\n",
       "Country: null\n",
       "--></g></svg>"
      ]
     },
     "execution_count": 4,
     "metadata": {},
     "output_type": "execute_result"
    }
   ],
   "source": [
    "%viz --style=\"COMPTREE\" --view=\"State\" \"AliasImport\""
   ]
  },
  {
   "cell_type": "code",
   "execution_count": 5,
   "id": "1ed1cdfe",
   "metadata": {
    "execution": {
     "iopub.execute_input": "2021-09-27T07:19:53.871968Z",
     "iopub.status.busy": "2021-09-27T07:19:53.871521Z",
     "iopub.status.idle": "2021-09-27T07:19:53.906484Z",
     "shell.execute_reply": "2021-09-27T07:19:53.904730Z"
    }
   },
   "outputs": [
    {
     "data": {
      "image/svg+xml": [
       "<?xml version=\"1.0\" encoding=\"UTF-8\" standalone=\"no\"?><svg xmlns=\"http://www.w3.org/2000/svg\" xmlns:xlink=\"http://www.w3.org/1999/xlink\" contentScriptType=\"application/ecmascript\" contentStyleType=\"text/css\" height=\"179px\" preserveAspectRatio=\"none\" style=\"width:458px;height:179px;\" version=\"1.1\" viewBox=\"0 0 458 179\" width=\"458px\" zoomAndPan=\"magnify\"><defs/><g><!--MD5=[fbc87193dbaf4d95561dea2c320d4a47]\n",
       "cluster E1--><a href=\"psysml:4c778e7a-b929-42de-9fbe-71ac5f912e3c\" target=\"_top\" title=\"psysml:4c778e7a-b929-42de-9fbe-71ac5f912e3c\" xlink:actuate=\"onRequest\" xlink:href=\"psysml:4c778e7a-b929-42de-9fbe-71ac5f912e3c\" xlink:show=\"new\" xlink:title=\"psysml:4c778e7a-b929-42de-9fbe-71ac5f912e3c\" xlink:type=\"simple\"><polygon fill=\"#FFFFFF\" points=\"16,6,97,6,104,28.2969,436,28.2969,436,167,16,167,16,6\" style=\"stroke: #000000; stroke-width: 1.5;\"/><line style=\"stroke: #000000; stroke-width: 1.5;\" x1=\"16\" x2=\"104\" y1=\"28.2969\" y2=\"28.2969\"/><text fill=\"#000000\" font-family=\"sans-serif\" font-size=\"14\" font-weight=\"bold\" lengthAdjust=\"spacingAndGlyphs\" textLength=\"75\" x=\"20\" y=\"20.9951\">AliasImport</text></a><!--MD5=[e4f7fae6ed58524ba242bb0b0d3be6b7]\n",
       "cluster E2--><a href=\"psysml:5f40b44b-bd87-468f-b109-35ffc9f78ab6\" target=\"_top\" title=\"psysml:5f40b44b-bd87-468f-b109-35ffc9f78ab6\" xlink:actuate=\"onRequest\" xlink:href=\"psysml:5f40b44b-bd87-468f-b109-35ffc9f78ab6\" xlink:show=\"new\" xlink:title=\"psysml:5f40b44b-bd87-468f-b109-35ffc9f78ab6\" xlink:type=\"simple\"><polygon fill=\"#FFFFFF\" points=\"202,49,281,49,288,71.2969,412,71.2969,412,143,202,143,202,49\" style=\"stroke: #000000; stroke-width: 1.5;\"/><line style=\"stroke: #000000; stroke-width: 1.5;\" x1=\"202\" x2=\"288\" y1=\"71.2969\" y2=\"71.2969\"/><text fill=\"#000000\" font-family=\"sans-serif\" font-size=\"14\" font-weight=\"bold\" lengthAdjust=\"spacingAndGlyphs\" textLength=\"73\" x=\"206\" y=\"63.9951\">Definitions</text></a><!--MD5=[de5ec2e2e8f62f467e546659f5068c88]\n",
       "cluster E5--><a href=\"psysml:ea2bdd2c-ef7f-4fe4-8ff5-76ffc4616c11\" target=\"_top\" title=\"psysml:ea2bdd2c-ef7f-4fe4-8ff5-76ffc4616c11\" xlink:actuate=\"onRequest\" xlink:href=\"psysml:ea2bdd2c-ef7f-4fe4-8ff5-76ffc4616c11\" xlink:show=\"new\" xlink:title=\"psysml:ea2bdd2c-ef7f-4fe4-8ff5-76ffc4616c11\" xlink:type=\"simple\"><polygon fill=\"#FFFFFF\" points=\"40,50.5,98,50.5,105,72.7969,178,72.7969,178,141.5,40,141.5,40,50.5\" style=\"stroke: #000000; stroke-width: 1.5;\"/><line style=\"stroke: #000000; stroke-width: 1.5;\" x1=\"40\" x2=\"105\" y1=\"72.7969\" y2=\"72.7969\"/><text fill=\"#000000\" font-family=\"sans-serif\" font-size=\"14\" font-weight=\"bold\" lengthAdjust=\"spacingAndGlyphs\" textLength=\"52\" x=\"44\" y=\"65.4951\">Usages</text></a><g id=\"E1.E2.E3\"><a href=\"psysml:1b4a97b7-4457-459f-aed1-97b0f48f7241\" target=\"_top\" title=\"psysml:1b4a97b7-4457-459f-aed1-97b0f48f7241\" xlink:actuate=\"onRequest\" xlink:href=\"psysml:1b4a97b7-4457-459f-aed1-97b0f48f7241\" xlink:show=\"new\" xlink:title=\"psysml:1b4a97b7-4457-459f-aed1-97b0f48f7241\" xlink:type=\"simple\"><rect fill=\"#FFFFFF\" height=\"42.9375\" id=\"E3\" style=\"stroke: #383838; stroke-width: 1.5;\" width=\"71\" x=\"324.5\" y=\"84\"/><rect fill=\"#F8F8F8\" height=\"37.9375\" style=\"stroke: #383838; stroke-width: 1.5;\" width=\"71\" x=\"324.5\" y=\"84\"/><text fill=\"#000000\" font-family=\"sans-serif\" font-size=\"12\" font-style=\"italic\" lengthAdjust=\"spacingAndGlyphs\" textLength=\"64\" x=\"328\" y=\"100.1387\">«part def»</text><text fill=\"#000000\" font-family=\"sans-serif\" font-size=\"12\" lengthAdjust=\"spacingAndGlyphs\" textLength=\"45\" x=\"337.5\" y=\"114.1074\">Vehicle</text></a></g><g id=\"E1.E2.E4\"><a href=\"psysml:1b4a97b7-4457-459f-aed1-97b0f48f7241\" target=\"_top\" title=\"psysml:1b4a97b7-4457-459f-aed1-97b0f48f7241\" xlink:actuate=\"onRequest\" xlink:href=\"psysml:1b4a97b7-4457-459f-aed1-97b0f48f7241\" xlink:show=\"new\" xlink:title=\"psysml:1b4a97b7-4457-459f-aed1-97b0f48f7241\" xlink:type=\"simple\"><rect fill=\"#FFFFFF\" height=\"42.9375\" id=\"E4\" style=\"stroke: #383838; stroke-width: 1.5;\" width=\"71\" x=\"218.5\" y=\"84\"/><rect fill=\"#F8F8F8\" height=\"37.9375\" style=\"stroke: #383838; stroke-width: 1.5;\" width=\"71\" x=\"218.5\" y=\"84\"/><text fill=\"#000000\" font-family=\"sans-serif\" font-size=\"12\" font-style=\"italic\" lengthAdjust=\"spacingAndGlyphs\" textLength=\"64\" x=\"222\" y=\"100.1387\">«part def»</text><text fill=\"#000000\" font-family=\"sans-serif\" font-size=\"12\" lengthAdjust=\"spacingAndGlyphs\" textLength=\"45\" x=\"231.5\" y=\"114.1074\">Vehicle</text></a></g><g id=\"E1.E5.E6\"><a href=\"psysml:ea5f8fdf-b305-409f-85bc-0024bea5295e\" target=\"_top\" title=\"psysml:ea5f8fdf-b305-409f-85bc-0024bea5295e\" xlink:actuate=\"onRequest\" xlink:href=\"psysml:ea5f8fdf-b305-409f-85bc-0024bea5295e\" xlink:show=\"new\" xlink:title=\"psysml:ea5f8fdf-b305-409f-85bc-0024bea5295e\" xlink:type=\"simple\"><rect fill=\"#FFFFFF\" height=\"40\" id=\"E6\" rx=\"10\" ry=\"10\" style=\"stroke: #383838; stroke-width: 1.5;\" width=\"107\" x=\"55.5\" y=\"85.5\"/><rect fill=\"#F8F8F8\" height=\"23.9688\" rx=\"10\" ry=\"10\" style=\"stroke: #F8F8F8; stroke-width: 1.5;\" width=\"107\" x=\"55.5\" y=\"85.5\"/><rect fill=\"#F8F8F8\" height=\"10\" style=\"stroke: #F8F8F8; stroke-width: 1.5;\" width=\"107\" x=\"55.5\" y=\"99.4688\"/><rect fill=\"none\" height=\"40\" id=\"E6\" rx=\"10\" ry=\"10\" style=\"stroke: #383838; stroke-width: 1.5;\" width=\"107\" x=\"55.5\" y=\"85.5\"/><text fill=\"#000000\" font-family=\"sans-serif\" font-size=\"12\" lengthAdjust=\"spacingAndGlyphs\" textLength=\"96\" x=\"61\" y=\"101.6387\">vehicle: Vehicle</text></a></g><!--MD5=[4cffbd2e857614ba667a1c12084139d7]\n",
       "@startuml\r\n",
       "skinparam ranksep 10\r\n",
       "skinparam rectangle {\r\n",
       " backgroundColor<<block>> LightGreen\r\n",
       "}\r\n",
       " skinparam monochrome true\r\n",
       "skinparam classbackgroundcolor white\r\n",
       "skinparam shadowing false\r\n",
       "skinparam wrapWidth 300\r\n",
       "hide circle\r\n",
       "\r\n",
       "package \"AliasImport\" as E1  [[psysml:4c778e7a-b929-42de-9fbe-71ac5f912e3c ]]  {\r\n",
       "package \"Definitions\" as E2  [[psysml:5f40b44b-bd87-468f-b109-35ffc9f78ab6 ]]  {\r\n",
       "rec def \"Vehicle\" as E3  <<(T,blue) part def>> [[psysml:1b4a97b7-4457-459f-aed1-97b0f48f7241 ]] {\r\n",
       "}\r\n",
       "rec def \"Vehicle\" as E4  <<(T,blue) part def>> [[psysml:1b4a97b7-4457-459f-aed1-97b0f48f7241 ]] {\r\n",
       "}\r\n",
       "}\r\n",
       "package \"Usages\" as E5  [[psysml:ea2bdd2c-ef7f-4fe4-8ff5-76ffc4616c11 ]]  {\r\n",
       "rec usage \"vehicle: Vehicle\" as E6  [[psysml:ea5f8fdf-b305-409f-85bc-0024bea5295e ]] {\r\n",
       "}\r\n",
       "}\r\n",
       "}\r\n",
       "@enduml\r\n",
       "\n",
       "PlantUML version 1.2020.13(Sat Jun 13 12:26:38 UTC 2020)\n",
       "(EPL source distribution)\n",
       "Java Runtime: OpenJDK Runtime Environment\n",
       "JVM: OpenJDK 64-Bit Server VM\n",
       "Default Encoding: UTF-8\n",
       "Language: en\n",
       "Country: null\n",
       "--></g></svg>"
      ]
     },
     "execution_count": 5,
     "metadata": {},
     "output_type": "execute_result"
    }
   ],
   "source": [
    "%viz --style=\"COMPTREE\" --view=\"Interconnection\" \"AliasImport\""
   ]
  },
  {
   "cell_type": "code",
   "execution_count": 6,
   "id": "2cff8f89",
   "metadata": {
    "execution": {
     "iopub.execute_input": "2021-09-27T07:19:53.956004Z",
     "iopub.status.busy": "2021-09-27T07:19:53.955563Z",
     "iopub.status.idle": "2021-09-27T07:19:53.963878Z",
     "shell.execute_reply": "2021-09-27T07:19:53.964203Z"
    }
   },
   "outputs": [
    {
     "data": {
      "image/svg+xml": [
       "<?xml version=\"1.0\" encoding=\"UTF-8\" standalone=\"no\"?><svg xmlns=\"http://www.w3.org/2000/svg\" xmlns:xlink=\"http://www.w3.org/1999/xlink\" contentScriptType=\"application/ecmascript\" contentStyleType=\"text/css\" height=\"12px\" preserveAspectRatio=\"none\" style=\"width:12px;height:12px;\" version=\"1.1\" viewBox=\"0 0 12 12\" width=\"12px\" zoomAndPan=\"magnify\"><defs/><g><!--MD5=[655b888544ca4751ea36af1068543f84]\n",
       "@startuml\r\n",
       "skinparam ranksep 8\r\n",
       " skinparam monochrome true\r\n",
       "skinparam classbackgroundcolor white\r\n",
       "skinparam shadowing false\r\n",
       "skinparam wrapWidth 300\r\n",
       "hide circle\r\n",
       "\r\n",
       "@enduml\r\n",
       "\n",
       "PlantUML version 1.2020.13(Sat Jun 13 12:26:38 UTC 2020)\n",
       "(EPL source distribution)\n",
       "Java Runtime: OpenJDK Runtime Environment\n",
       "JVM: OpenJDK 64-Bit Server VM\n",
       "Default Encoding: UTF-8\n",
       "Language: en\n",
       "Country: null\n",
       "--></g></svg>"
      ]
     },
     "execution_count": 6,
     "metadata": {},
     "output_type": "execute_result"
    }
   ],
   "source": [
    "%viz --style=\"COMPTREE\" --view=\"Action\" \"AliasImport\""
   ]
  },
  {
   "cell_type": "code",
   "execution_count": 7,
   "id": "dd057ba4",
   "metadata": {
    "execution": {
     "iopub.execute_input": "2021-09-27T07:19:54.015150Z",
     "iopub.status.busy": "2021-09-27T07:19:54.014726Z",
     "iopub.status.idle": "2021-09-27T07:19:54.027321Z",
     "shell.execute_reply": "2021-09-27T07:19:54.027643Z"
    }
   },
   "outputs": [
    {
     "data": {
      "image/svg+xml": [
       "<?xml version=\"1.0\" encoding=\"UTF-8\" standalone=\"no\"?><svg xmlns=\"http://www.w3.org/2000/svg\" xmlns:xlink=\"http://www.w3.org/1999/xlink\" contentScriptType=\"application/ecmascript\" contentStyleType=\"text/css\" height=\"12px\" preserveAspectRatio=\"none\" style=\"width:12px;height:12px;\" version=\"1.1\" viewBox=\"0 0 12 12\" width=\"12px\" zoomAndPan=\"magnify\"><defs/><g><!--MD5=[803fc46c337be7a5c8a9831e35356779]\n",
       "@startuml\r\n",
       "skinparam roundcorner 20\r\n",
       "skinparam BoxPadding 20\r\n",
       "skinparam SequenceBoxBackgroundColor #white\r\n",
       "skinparam style strictuml\r\n",
       "skinparam maxMessageSize 100\r\n",
       " skinparam monochrome true\r\n",
       "skinparam classbackgroundcolor white\r\n",
       "skinparam shadowing false\r\n",
       "skinparam wrapWidth 300\r\n",
       "hide circle\r\n",
       "\r\n",
       "@enduml\r\n",
       "\n",
       "PlantUML version 1.2020.13(Sat Jun 13 12:26:38 UTC 2020)\n",
       "(EPL source distribution)\n",
       "Java Runtime: OpenJDK Runtime Environment\n",
       "JVM: OpenJDK 64-Bit Server VM\n",
       "Default Encoding: UTF-8\n",
       "Language: en\n",
       "Country: null\n",
       "--></g></svg>"
      ]
     },
     "execution_count": 7,
     "metadata": {},
     "output_type": "execute_result"
    }
   ],
   "source": [
    "%viz --style=\"COMPTREE\" --view=\"Sequence\" \"AliasImport\""
   ]
  },
  {
   "cell_type": "code",
   "execution_count": 8,
   "id": "41a1c4cf",
   "metadata": {
    "execution": {
     "iopub.execute_input": "2021-09-27T07:19:54.078134Z",
     "iopub.status.busy": "2021-09-27T07:19:54.077711Z",
     "iopub.status.idle": "2021-09-27T07:19:54.119934Z",
     "shell.execute_reply": "2021-09-27T07:19:54.120232Z"
    }
   },
   "outputs": [
    {
     "data": {
      "image/svg+xml": [
       "<?xml version=\"1.0\" encoding=\"UTF-8\" standalone=\"no\"?><svg xmlns=\"http://www.w3.org/2000/svg\" xmlns:xlink=\"http://www.w3.org/1999/xlink\" contentScriptType=\"application/ecmascript\" contentStyleType=\"text/css\" height=\"303px\" preserveAspectRatio=\"none\" style=\"width:220px;height:303px;\" version=\"1.1\" viewBox=\"0 0 220 303\" width=\"220px\" zoomAndPan=\"magnify\"><defs/><g><!--MD5=[fbc87193dbaf4d95561dea2c320d4a47]\n",
       "cluster E1--><a href=\"psysml:4c778e7a-b929-42de-9fbe-71ac5f912e3c\" target=\"_top\" title=\"psysml:4c778e7a-b929-42de-9fbe-71ac5f912e3c\" xlink:actuate=\"onRequest\" xlink:href=\"psysml:4c778e7a-b929-42de-9fbe-71ac5f912e3c\" xlink:show=\"new\" xlink:title=\"psysml:4c778e7a-b929-42de-9fbe-71ac5f912e3c\" xlink:type=\"simple\"><polygon fill=\"#FFFFFF\" points=\"16,6,97,6,104,28.2969,198,28.2969,198,291,16,291,16,6\" style=\"stroke: #000000; stroke-width: 1.5;\"/><line style=\"stroke: #000000; stroke-width: 1.5;\" x1=\"16\" x2=\"104\" y1=\"28.2969\" y2=\"28.2969\"/><text fill=\"#000000\" font-family=\"sans-serif\" font-size=\"14\" font-weight=\"bold\" lengthAdjust=\"spacingAndGlyphs\" textLength=\"75\" x=\"20\" y=\"20.9951\">AliasImport</text></a><!--MD5=[e4f7fae6ed58524ba242bb0b0d3be6b7]\n",
       "cluster E2--><a href=\"psysml:5f40b44b-bd87-468f-b109-35ffc9f78ab6\" target=\"_top\" title=\"psysml:5f40b44b-bd87-468f-b109-35ffc9f78ab6\" xlink:actuate=\"onRequest\" xlink:href=\"psysml:5f40b44b-bd87-468f-b109-35ffc9f78ab6\" xlink:show=\"new\" xlink:title=\"psysml:5f40b44b-bd87-468f-b109-35ffc9f78ab6\" xlink:type=\"simple\"><polygon fill=\"#FFFFFF\" points=\"58,170,137,170,144,192.2969,156,192.2969,156,267,58,267,58,170\" style=\"stroke: #000000; stroke-width: 1.5;\"/><line style=\"stroke: #000000; stroke-width: 1.5;\" x1=\"58\" x2=\"144\" y1=\"192.2969\" y2=\"192.2969\"/><text fill=\"#000000\" font-family=\"sans-serif\" font-size=\"14\" font-weight=\"bold\" lengthAdjust=\"spacingAndGlyphs\" textLength=\"73\" x=\"62\" y=\"184.9951\">Definitions</text></a><!--MD5=[f6df4d0ebaf0b5dfb2ced0ae5af7c670]\n",
       "cluster E4--><a href=\"psysml:ea2bdd2c-ef7f-4fe4-8ff5-76ffc4616c11\" target=\"_top\" title=\"psysml:ea2bdd2c-ef7f-4fe4-8ff5-76ffc4616c11\" xlink:actuate=\"onRequest\" xlink:href=\"psysml:ea2bdd2c-ef7f-4fe4-8ff5-76ffc4616c11\" xlink:show=\"new\" xlink:title=\"psysml:ea2bdd2c-ef7f-4fe4-8ff5-76ffc4616c11\" xlink:type=\"simple\"><polygon fill=\"#FFFFFF\" points=\"40,49,98,49,105,71.2969,174,71.2969,174,146,40,146,40,49\" style=\"stroke: #000000; stroke-width: 1.5;\"/><line style=\"stroke: #000000; stroke-width: 1.5;\" x1=\"40\" x2=\"105\" y1=\"71.2969\" y2=\"71.2969\"/><text fill=\"#000000\" font-family=\"sans-serif\" font-size=\"14\" font-weight=\"bold\" lengthAdjust=\"spacingAndGlyphs\" textLength=\"52\" x=\"44\" y=\"63.9951\">Usages</text></a><!--MD5=[09b614a08d8cba4a07c9adeb5e0fee81]\n",
       "class E3--><a href=\"psysml:1b4a97b7-4457-459f-aed1-97b0f48f7241\" target=\"_top\" title=\"psysml:1b4a97b7-4457-459f-aed1-97b0f48f7241\" xlink:actuate=\"onRequest\" xlink:href=\"psysml:1b4a97b7-4457-459f-aed1-97b0f48f7241\" xlink:show=\"new\" xlink:title=\"psysml:1b4a97b7-4457-459f-aed1-97b0f48f7241\" xlink:type=\"simple\"><rect fill=\"#FFFFFF\" height=\"45.9375\" id=\"E3\" style=\"stroke: #383838; stroke-width: 1.5;\" width=\"66\" x=\"74\" y=\"205\"/><text fill=\"#000000\" font-family=\"sans-serif\" font-size=\"12\" font-style=\"italic\" lengthAdjust=\"spacingAndGlyphs\" textLength=\"64\" x=\"75\" y=\"221.1387\">«part def»</text><text fill=\"#000000\" font-family=\"sans-serif\" font-size=\"12\" lengthAdjust=\"spacingAndGlyphs\" textLength=\"45\" x=\"84.5\" y=\"235.1074\">Vehicle</text><line style=\"stroke: #383838; stroke-width: 1.5;\" x1=\"75\" x2=\"139\" y1=\"242.9375\" y2=\"242.9375\"/></a><!--MD5=[270fce915f116d4de14055a7c1d9a0f3]\n",
       "class E5--><a href=\"psysml:ea5f8fdf-b305-409f-85bc-0024bea5295e\" target=\"_top\" title=\"psysml:ea5f8fdf-b305-409f-85bc-0024bea5295e\" xlink:actuate=\"onRequest\" xlink:href=\"psysml:ea5f8fdf-b305-409f-85bc-0024bea5295e\" xlink:show=\"new\" xlink:title=\"psysml:ea5f8fdf-b305-409f-85bc-0024bea5295e\" xlink:type=\"simple\"><rect fill=\"#FFFFFF\" height=\"45.9375\" id=\"E5\" rx=\"10\" ry=\"10\" style=\"stroke: #383838; stroke-width: 1.5;\" width=\"102\" x=\"56\" y=\"84\"/><text fill=\"#000000\" font-family=\"sans-serif\" font-size=\"12\" font-style=\"italic\" lengthAdjust=\"spacingAndGlyphs\" textLength=\"40\" x=\"87\" y=\"100.1387\">«part»</text><text fill=\"#000000\" font-family=\"sans-serif\" font-size=\"12\" lengthAdjust=\"spacingAndGlyphs\" textLength=\"96\" x=\"59\" y=\"114.1074\">vehicle: Vehicle</text><line style=\"stroke: #383838; stroke-width: 1.5;\" x1=\"57\" x2=\"157\" y1=\"121.9375\" y2=\"121.9375\"/></a><!--MD5=[e9be52314489bd878ff4c7144b63c9e1]\n",
       "link E5 to E3--><a href=\"psysml:4cdeda76-c42f-43d9-9b0b-b21e3f7ae647\" target=\"_top\" title=\"psysml:4cdeda76-c42f-43d9-9b0b-b21e3f7ae647\" xlink:actuate=\"onRequest\" xlink:href=\"psysml:4cdeda76-c42f-43d9-9b0b-b21e3f7ae647\" xlink:show=\"new\" xlink:title=\"psysml:4cdeda76-c42f-43d9-9b0b-b21e3f7ae647\" xlink:type=\"simple\"><path d=\"M107,130.1 C107,145.37 107,166.16 107,184.57 \" fill=\"none\" id=\"E5-&gt;E3\" style=\"stroke: #383838; stroke-width: 1.0;\"/><polygon fill=\"#FFFFFF\" points=\"107,204.61,100,185.61,114,185.61,107,204.61\" style=\"stroke: #383838; stroke-width: 1.0;\"/><ellipse cx=\"102\" cy=\"179.91\" fill=\"#383838\" rx=\"2\" ry=\"2\" style=\"stroke: #383838; stroke-width: 1.0;\"/><ellipse cx=\"112\" cy=\"179.91\" fill=\"#383838\" rx=\"2\" ry=\"2\" style=\"stroke: #383838; stroke-width: 1.0;\"/></a><!--MD5=[095e72ab2f767e94e47b39a6b2c8225f]\n",
       "@startuml\r\n",
       " skinparam monochrome true\r\n",
       "skinparam classbackgroundcolor white\r\n",
       "skinparam shadowing false\r\n",
       "skinparam wrapWidth 300\r\n",
       "hide circle\r\n",
       "\r\n",
       "package \"AliasImport\" as E1  [[psysml:4c778e7a-b929-42de-9fbe-71ac5f912e3c ]]  {\r\n",
       "package \"Definitions\" as E2  [[psysml:5f40b44b-bd87-468f-b109-35ffc9f78ab6 ]]  {\r\n",
       "comp def \"Vehicle\" as E3  <<(T,blue) part def>> [[psysml:1b4a97b7-4457-459f-aed1-97b0f48f7241 ]] {\r\n",
       "}\r\n",
       "}\r\n",
       "package \"Usages\" as E4  [[psysml:ea2bdd2c-ef7f-4fe4-8ff5-76ffc4616c11 ]]  {\r\n",
       "comp usage \"vehicle: Vehicle\" as E5  <<(T,blue) part>> [[psysml:ea5f8fdf-b305-409f-85bc-0024bea5295e ]] {\r\n",
       "}\r\n",
       "}\r\n",
       "}\r\n",
       "E5 - -:|> E3 [[psysml:4cdeda76-c42f-43d9-9b0b-b21e3f7ae647 ]] \r\n",
       "@enduml\r\n",
       "\n",
       "PlantUML version 1.2020.13(Sat Jun 13 12:26:38 UTC 2020)\n",
       "(EPL source distribution)\n",
       "Java Runtime: OpenJDK Runtime Environment\n",
       "JVM: OpenJDK 64-Bit Server VM\n",
       "Default Encoding: UTF-8\n",
       "Language: en\n",
       "Country: null\n",
       "--></g></svg>"
      ]
     },
     "execution_count": 8,
     "metadata": {},
     "output_type": "execute_result"
    }
   ],
   "source": [
    "%viz --style=\"COMPTREE\" --view=\"MIXED\" \"AliasImport\""
   ]
  },
  {
   "cell_type": "code",
   "execution_count": 9,
   "id": "c498c8cd",
   "metadata": {
    "execution": {
     "iopub.execute_input": "2021-09-27T07:19:54.170365Z",
     "iopub.status.busy": "2021-09-27T07:19:54.169962Z",
     "iopub.status.idle": "2021-09-27T07:19:54.192234Z",
     "shell.execute_reply": "2021-09-27T07:19:54.191057Z"
    }
   },
   "outputs": [
    {
     "data": {
      "image/svg+xml": [
       "<?xml version=\"1.0\" encoding=\"UTF-8\" standalone=\"no\"?><svg xmlns=\"http://www.w3.org/2000/svg\" xmlns:xlink=\"http://www.w3.org/1999/xlink\" contentScriptType=\"application/ecmascript\" contentStyleType=\"text/css\" height=\"303px\" preserveAspectRatio=\"none\" style=\"width:220px;height:303px;\" version=\"1.1\" viewBox=\"0 0 220 303\" width=\"220px\" zoomAndPan=\"magnify\"><defs/><g><!--MD5=[fbc87193dbaf4d95561dea2c320d4a47]\n",
       "cluster E1--><a href=\"psysml:4c778e7a-b929-42de-9fbe-71ac5f912e3c\" target=\"_top\" title=\"psysml:4c778e7a-b929-42de-9fbe-71ac5f912e3c\" xlink:actuate=\"onRequest\" xlink:href=\"psysml:4c778e7a-b929-42de-9fbe-71ac5f912e3c\" xlink:show=\"new\" xlink:title=\"psysml:4c778e7a-b929-42de-9fbe-71ac5f912e3c\" xlink:type=\"simple\"><polygon fill=\"#FFFFFF\" points=\"16,6,97,6,104,28.2969,198,28.2969,198,291,16,291,16,6\" style=\"stroke: #000000; stroke-width: 1.5;\"/><line style=\"stroke: #000000; stroke-width: 1.5;\" x1=\"16\" x2=\"104\" y1=\"28.2969\" y2=\"28.2969\"/><text fill=\"#000000\" font-family=\"sans-serif\" font-size=\"14\" font-weight=\"bold\" lengthAdjust=\"spacingAndGlyphs\" textLength=\"75\" x=\"20\" y=\"20.9951\">AliasImport</text></a><!--MD5=[e4f7fae6ed58524ba242bb0b0d3be6b7]\n",
       "cluster E2--><a href=\"psysml:5f40b44b-bd87-468f-b109-35ffc9f78ab6\" target=\"_top\" title=\"psysml:5f40b44b-bd87-468f-b109-35ffc9f78ab6\" xlink:actuate=\"onRequest\" xlink:href=\"psysml:5f40b44b-bd87-468f-b109-35ffc9f78ab6\" xlink:show=\"new\" xlink:title=\"psysml:5f40b44b-bd87-468f-b109-35ffc9f78ab6\" xlink:type=\"simple\"><polygon fill=\"#FFFFFF\" points=\"58,170,137,170,144,192.2969,156,192.2969,156,267,58,267,58,170\" style=\"stroke: #000000; stroke-width: 1.5;\"/><line style=\"stroke: #000000; stroke-width: 1.5;\" x1=\"58\" x2=\"144\" y1=\"192.2969\" y2=\"192.2969\"/><text fill=\"#000000\" font-family=\"sans-serif\" font-size=\"14\" font-weight=\"bold\" lengthAdjust=\"spacingAndGlyphs\" textLength=\"73\" x=\"62\" y=\"184.9951\">Definitions</text></a><!--MD5=[f6df4d0ebaf0b5dfb2ced0ae5af7c670]\n",
       "cluster E4--><a href=\"psysml:ea2bdd2c-ef7f-4fe4-8ff5-76ffc4616c11\" target=\"_top\" title=\"psysml:ea2bdd2c-ef7f-4fe4-8ff5-76ffc4616c11\" xlink:actuate=\"onRequest\" xlink:href=\"psysml:ea2bdd2c-ef7f-4fe4-8ff5-76ffc4616c11\" xlink:show=\"new\" xlink:title=\"psysml:ea2bdd2c-ef7f-4fe4-8ff5-76ffc4616c11\" xlink:type=\"simple\"><polygon fill=\"#FFFFFF\" points=\"40,49,98,49,105,71.2969,174,71.2969,174,146,40,146,40,49\" style=\"stroke: #000000; stroke-width: 1.5;\"/><line style=\"stroke: #000000; stroke-width: 1.5;\" x1=\"40\" x2=\"105\" y1=\"71.2969\" y2=\"71.2969\"/><text fill=\"#000000\" font-family=\"sans-serif\" font-size=\"14\" font-weight=\"bold\" lengthAdjust=\"spacingAndGlyphs\" textLength=\"52\" x=\"44\" y=\"63.9951\">Usages</text></a><!--MD5=[09b614a08d8cba4a07c9adeb5e0fee81]\n",
       "class E3--><a href=\"psysml:1b4a97b7-4457-459f-aed1-97b0f48f7241\" target=\"_top\" title=\"psysml:1b4a97b7-4457-459f-aed1-97b0f48f7241\" xlink:actuate=\"onRequest\" xlink:href=\"psysml:1b4a97b7-4457-459f-aed1-97b0f48f7241\" xlink:show=\"new\" xlink:title=\"psysml:1b4a97b7-4457-459f-aed1-97b0f48f7241\" xlink:type=\"simple\"><rect fill=\"#FFFFFF\" height=\"45.9375\" id=\"E3\" style=\"stroke: #383838; stroke-width: 1.5;\" width=\"66\" x=\"74\" y=\"205\"/><text fill=\"#000000\" font-family=\"sans-serif\" font-size=\"12\" font-style=\"italic\" lengthAdjust=\"spacingAndGlyphs\" textLength=\"64\" x=\"75\" y=\"221.1387\">«part def»</text><text fill=\"#000000\" font-family=\"sans-serif\" font-size=\"12\" lengthAdjust=\"spacingAndGlyphs\" textLength=\"45\" x=\"84.5\" y=\"235.1074\">Vehicle</text><line style=\"stroke: #383838; stroke-width: 1.5;\" x1=\"75\" x2=\"139\" y1=\"242.9375\" y2=\"242.9375\"/></a><!--MD5=[270fce915f116d4de14055a7c1d9a0f3]\n",
       "class E5--><a href=\"psysml:ea5f8fdf-b305-409f-85bc-0024bea5295e\" target=\"_top\" title=\"psysml:ea5f8fdf-b305-409f-85bc-0024bea5295e\" xlink:actuate=\"onRequest\" xlink:href=\"psysml:ea5f8fdf-b305-409f-85bc-0024bea5295e\" xlink:show=\"new\" xlink:title=\"psysml:ea5f8fdf-b305-409f-85bc-0024bea5295e\" xlink:type=\"simple\"><rect fill=\"#FFFFFF\" height=\"45.9375\" id=\"E5\" rx=\"10\" ry=\"10\" style=\"stroke: #383838; stroke-width: 1.5;\" width=\"102\" x=\"56\" y=\"84\"/><text fill=\"#000000\" font-family=\"sans-serif\" font-size=\"12\" font-style=\"italic\" lengthAdjust=\"spacingAndGlyphs\" textLength=\"40\" x=\"87\" y=\"100.1387\">«part»</text><text fill=\"#000000\" font-family=\"sans-serif\" font-size=\"12\" lengthAdjust=\"spacingAndGlyphs\" textLength=\"96\" x=\"59\" y=\"114.1074\">vehicle: Vehicle</text><line style=\"stroke: #383838; stroke-width: 1.5;\" x1=\"57\" x2=\"157\" y1=\"121.9375\" y2=\"121.9375\"/></a><!--MD5=[e9be52314489bd878ff4c7144b63c9e1]\n",
       "link E5 to E3--><a href=\"psysml:4cdeda76-c42f-43d9-9b0b-b21e3f7ae647\" target=\"_top\" title=\"psysml:4cdeda76-c42f-43d9-9b0b-b21e3f7ae647\" xlink:actuate=\"onRequest\" xlink:href=\"psysml:4cdeda76-c42f-43d9-9b0b-b21e3f7ae647\" xlink:show=\"new\" xlink:title=\"psysml:4cdeda76-c42f-43d9-9b0b-b21e3f7ae647\" xlink:type=\"simple\"><path d=\"M107,130.1 C107,145.37 107,166.16 107,184.57 \" fill=\"none\" id=\"E5-&gt;E3\" style=\"stroke: #383838; stroke-width: 1.0;\"/><polygon fill=\"#FFFFFF\" points=\"107,204.61,100,185.61,114,185.61,107,204.61\" style=\"stroke: #383838; stroke-width: 1.0;\"/><ellipse cx=\"102\" cy=\"179.91\" fill=\"#383838\" rx=\"2\" ry=\"2\" style=\"stroke: #383838; stroke-width: 1.0;\"/><ellipse cx=\"112\" cy=\"179.91\" fill=\"#383838\" rx=\"2\" ry=\"2\" style=\"stroke: #383838; stroke-width: 1.0;\"/></a><!--MD5=[91481c90fb1fe78cf30a45e9aede7763]\n",
       "@startuml\r\n",
       "skinparam linetype polyline\r\n",
       "skinparam monochrome true\r\n",
       "skinparam classbackgroundcolor white\r\n",
       "skinparam shadowing false\r\n",
       "skinparam wrapWidth 300\r\n",
       "hide circle\r\n",
       "\r\n",
       "package \"AliasImport\" as E1  [[psysml:4c778e7a-b929-42de-9fbe-71ac5f912e3c ]]  {\r\n",
       "package \"Definitions\" as E2  [[psysml:5f40b44b-bd87-468f-b109-35ffc9f78ab6 ]]  {\r\n",
       "comp def \"Vehicle\" as E3  <<(T,blue) part def>> [[psysml:1b4a97b7-4457-459f-aed1-97b0f48f7241 ]] {\r\n",
       "}\r\n",
       "}\r\n",
       "package \"Usages\" as E4  [[psysml:ea2bdd2c-ef7f-4fe4-8ff5-76ffc4616c11 ]]  {\r\n",
       "comp usage \"vehicle: Vehicle\" as E5  <<(T,blue) part>> [[psysml:ea5f8fdf-b305-409f-85bc-0024bea5295e ]] {\r\n",
       "}\r\n",
       "}\r\n",
       "}\r\n",
       "E5 - -:|> E3 [[psysml:4cdeda76-c42f-43d9-9b0b-b21e3f7ae647 ]] \r\n",
       "@enduml\r\n",
       "\n",
       "PlantUML version 1.2020.13(Sat Jun 13 12:26:38 UTC 2020)\n",
       "(EPL source distribution)\n",
       "Java Runtime: OpenJDK Runtime Environment\n",
       "JVM: OpenJDK 64-Bit Server VM\n",
       "Default Encoding: UTF-8\n",
       "Language: en\n",
       "Country: null\n",
       "--></g></svg>"
      ]
     },
     "execution_count": 9,
     "metadata": {},
     "output_type": "execute_result"
    }
   ],
   "source": [
    "%viz --style=\"POLYLINE\" --view=\"Default\" \"AliasImport\""
   ]
  },
  {
   "cell_type": "code",
   "execution_count": 10,
   "id": "0e6810b3",
   "metadata": {
    "execution": {
     "iopub.execute_input": "2021-09-27T07:19:54.242079Z",
     "iopub.status.busy": "2021-09-27T07:19:54.241658Z",
     "iopub.status.idle": "2021-09-27T07:19:54.267390Z",
     "shell.execute_reply": "2021-09-27T07:19:54.266174Z"
    }
   },
   "outputs": [
    {
     "data": {
      "image/svg+xml": [
       "<?xml version=\"1.0\" encoding=\"UTF-8\" standalone=\"no\"?><svg xmlns=\"http://www.w3.org/2000/svg\" xmlns:xlink=\"http://www.w3.org/1999/xlink\" contentScriptType=\"application/ecmascript\" contentStyleType=\"text/css\" height=\"303px\" preserveAspectRatio=\"none\" style=\"width:220px;height:303px;\" version=\"1.1\" viewBox=\"0 0 220 303\" width=\"220px\" zoomAndPan=\"magnify\"><defs/><g><!--MD5=[fbc87193dbaf4d95561dea2c320d4a47]\n",
       "cluster E1--><a href=\"psysml:4c778e7a-b929-42de-9fbe-71ac5f912e3c\" target=\"_top\" title=\"psysml:4c778e7a-b929-42de-9fbe-71ac5f912e3c\" xlink:actuate=\"onRequest\" xlink:href=\"psysml:4c778e7a-b929-42de-9fbe-71ac5f912e3c\" xlink:show=\"new\" xlink:title=\"psysml:4c778e7a-b929-42de-9fbe-71ac5f912e3c\" xlink:type=\"simple\"><polygon fill=\"#FFFFFF\" points=\"16,6,97,6,104,28.2969,198,28.2969,198,291,16,291,16,6\" style=\"stroke: #000000; stroke-width: 1.5;\"/><line style=\"stroke: #000000; stroke-width: 1.5;\" x1=\"16\" x2=\"104\" y1=\"28.2969\" y2=\"28.2969\"/><text fill=\"#000000\" font-family=\"sans-serif\" font-size=\"14\" font-weight=\"bold\" lengthAdjust=\"spacingAndGlyphs\" textLength=\"75\" x=\"20\" y=\"20.9951\">AliasImport</text></a><!--MD5=[e4f7fae6ed58524ba242bb0b0d3be6b7]\n",
       "cluster E2--><a href=\"psysml:5f40b44b-bd87-468f-b109-35ffc9f78ab6\" target=\"_top\" title=\"psysml:5f40b44b-bd87-468f-b109-35ffc9f78ab6\" xlink:actuate=\"onRequest\" xlink:href=\"psysml:5f40b44b-bd87-468f-b109-35ffc9f78ab6\" xlink:show=\"new\" xlink:title=\"psysml:5f40b44b-bd87-468f-b109-35ffc9f78ab6\" xlink:type=\"simple\"><polygon fill=\"#FFFFFF\" points=\"58,170,137,170,144,192.2969,156,192.2969,156,267,58,267,58,170\" style=\"stroke: #000000; stroke-width: 1.5;\"/><line style=\"stroke: #000000; stroke-width: 1.5;\" x1=\"58\" x2=\"144\" y1=\"192.2969\" y2=\"192.2969\"/><text fill=\"#000000\" font-family=\"sans-serif\" font-size=\"14\" font-weight=\"bold\" lengthAdjust=\"spacingAndGlyphs\" textLength=\"73\" x=\"62\" y=\"184.9951\">Definitions</text></a><!--MD5=[f6df4d0ebaf0b5dfb2ced0ae5af7c670]\n",
       "cluster E4--><a href=\"psysml:ea2bdd2c-ef7f-4fe4-8ff5-76ffc4616c11\" target=\"_top\" title=\"psysml:ea2bdd2c-ef7f-4fe4-8ff5-76ffc4616c11\" xlink:actuate=\"onRequest\" xlink:href=\"psysml:ea2bdd2c-ef7f-4fe4-8ff5-76ffc4616c11\" xlink:show=\"new\" xlink:title=\"psysml:ea2bdd2c-ef7f-4fe4-8ff5-76ffc4616c11\" xlink:type=\"simple\"><polygon fill=\"#FFFFFF\" points=\"40,49,98,49,105,71.2969,174,71.2969,174,146,40,146,40,49\" style=\"stroke: #000000; stroke-width: 1.5;\"/><line style=\"stroke: #000000; stroke-width: 1.5;\" x1=\"40\" x2=\"105\" y1=\"71.2969\" y2=\"71.2969\"/><text fill=\"#000000\" font-family=\"sans-serif\" font-size=\"14\" font-weight=\"bold\" lengthAdjust=\"spacingAndGlyphs\" textLength=\"52\" x=\"44\" y=\"63.9951\">Usages</text></a><!--MD5=[09b614a08d8cba4a07c9adeb5e0fee81]\n",
       "class E3--><a href=\"psysml:1b4a97b7-4457-459f-aed1-97b0f48f7241\" target=\"_top\" title=\"psysml:1b4a97b7-4457-459f-aed1-97b0f48f7241\" xlink:actuate=\"onRequest\" xlink:href=\"psysml:1b4a97b7-4457-459f-aed1-97b0f48f7241\" xlink:show=\"new\" xlink:title=\"psysml:1b4a97b7-4457-459f-aed1-97b0f48f7241\" xlink:type=\"simple\"><rect fill=\"#FFFFFF\" height=\"45.9375\" id=\"E3\" style=\"stroke: #383838; stroke-width: 1.5;\" width=\"66\" x=\"74\" y=\"205\"/><text fill=\"#000000\" font-family=\"sans-serif\" font-size=\"12\" font-style=\"italic\" lengthAdjust=\"spacingAndGlyphs\" textLength=\"64\" x=\"75\" y=\"221.1387\">«part def»</text><text fill=\"#000000\" font-family=\"sans-serif\" font-size=\"12\" lengthAdjust=\"spacingAndGlyphs\" textLength=\"45\" x=\"84.5\" y=\"235.1074\">Vehicle</text><line style=\"stroke: #383838; stroke-width: 1.5;\" x1=\"75\" x2=\"139\" y1=\"242.9375\" y2=\"242.9375\"/></a><!--MD5=[270fce915f116d4de14055a7c1d9a0f3]\n",
       "class E5--><a href=\"psysml:ea5f8fdf-b305-409f-85bc-0024bea5295e\" target=\"_top\" title=\"psysml:ea5f8fdf-b305-409f-85bc-0024bea5295e\" xlink:actuate=\"onRequest\" xlink:href=\"psysml:ea5f8fdf-b305-409f-85bc-0024bea5295e\" xlink:show=\"new\" xlink:title=\"psysml:ea5f8fdf-b305-409f-85bc-0024bea5295e\" xlink:type=\"simple\"><rect fill=\"#FFFFFF\" height=\"45.9375\" id=\"E5\" rx=\"10\" ry=\"10\" style=\"stroke: #383838; stroke-width: 1.5;\" width=\"102\" x=\"56\" y=\"84\"/><text fill=\"#000000\" font-family=\"sans-serif\" font-size=\"12\" font-style=\"italic\" lengthAdjust=\"spacingAndGlyphs\" textLength=\"40\" x=\"87\" y=\"100.1387\">«part»</text><text fill=\"#000000\" font-family=\"sans-serif\" font-size=\"12\" lengthAdjust=\"spacingAndGlyphs\" textLength=\"96\" x=\"59\" y=\"114.1074\">vehicle: Vehicle</text><line style=\"stroke: #383838; stroke-width: 1.5;\" x1=\"57\" x2=\"157\" y1=\"121.9375\" y2=\"121.9375\"/></a><!--MD5=[e9be52314489bd878ff4c7144b63c9e1]\n",
       "link E5 to E3--><a href=\"psysml:4cdeda76-c42f-43d9-9b0b-b21e3f7ae647\" target=\"_top\" title=\"psysml:4cdeda76-c42f-43d9-9b0b-b21e3f7ae647\" xlink:actuate=\"onRequest\" xlink:href=\"psysml:4cdeda76-c42f-43d9-9b0b-b21e3f7ae647\" xlink:show=\"new\" xlink:title=\"psysml:4cdeda76-c42f-43d9-9b0b-b21e3f7ae647\" xlink:type=\"simple\"><path d=\"M107,130.1 C107,145.37 107,166.16 107,184.57 \" fill=\"none\" id=\"E5-&gt;E3\" style=\"stroke: #383838; stroke-width: 1.0;\"/><polygon fill=\"#FFFFFF\" points=\"107,204.61,100,185.61,114,185.61,107,204.61\" style=\"stroke: #383838; stroke-width: 1.0;\"/><ellipse cx=\"102\" cy=\"179.91\" fill=\"#383838\" rx=\"2\" ry=\"2\" style=\"stroke: #383838; stroke-width: 1.0;\"/><ellipse cx=\"112\" cy=\"179.91\" fill=\"#383838\" rx=\"2\" ry=\"2\" style=\"stroke: #383838; stroke-width: 1.0;\"/></a><!--MD5=[91481c90fb1fe78cf30a45e9aede7763]\n",
       "@startuml\r\n",
       "skinparam linetype polyline\r\n",
       "skinparam monochrome true\r\n",
       "skinparam classbackgroundcolor white\r\n",
       "skinparam shadowing false\r\n",
       "skinparam wrapWidth 300\r\n",
       "hide circle\r\n",
       "\r\n",
       "package \"AliasImport\" as E1  [[psysml:4c778e7a-b929-42de-9fbe-71ac5f912e3c ]]  {\r\n",
       "package \"Definitions\" as E2  [[psysml:5f40b44b-bd87-468f-b109-35ffc9f78ab6 ]]  {\r\n",
       "comp def \"Vehicle\" as E3  <<(T,blue) part def>> [[psysml:1b4a97b7-4457-459f-aed1-97b0f48f7241 ]] {\r\n",
       "}\r\n",
       "}\r\n",
       "package \"Usages\" as E4  [[psysml:ea2bdd2c-ef7f-4fe4-8ff5-76ffc4616c11 ]]  {\r\n",
       "comp usage \"vehicle: Vehicle\" as E5  <<(T,blue) part>> [[psysml:ea5f8fdf-b305-409f-85bc-0024bea5295e ]] {\r\n",
       "}\r\n",
       "}\r\n",
       "}\r\n",
       "E5 - -:|> E3 [[psysml:4cdeda76-c42f-43d9-9b0b-b21e3f7ae647 ]] \r\n",
       "@enduml\r\n",
       "\n",
       "PlantUML version 1.2020.13(Sat Jun 13 12:26:38 UTC 2020)\n",
       "(EPL source distribution)\n",
       "Java Runtime: OpenJDK Runtime Environment\n",
       "JVM: OpenJDK 64-Bit Server VM\n",
       "Default Encoding: UTF-8\n",
       "Language: en\n",
       "Country: null\n",
       "--></g></svg>"
      ]
     },
     "execution_count": 10,
     "metadata": {},
     "output_type": "execute_result"
    }
   ],
   "source": [
    "%viz --style=\"POLYLINE\" --view=\"Tree\" \"AliasImport\""
   ]
  },
  {
   "cell_type": "code",
   "execution_count": 11,
   "id": "5a869e5e",
   "metadata": {
    "execution": {
     "iopub.execute_input": "2021-09-27T07:19:54.317000Z",
     "iopub.status.busy": "2021-09-27T07:19:54.316593Z",
     "iopub.status.idle": "2021-09-27T07:19:54.321438Z",
     "shell.execute_reply": "2021-09-27T07:19:54.321102Z"
    }
   },
   "outputs": [
    {
     "data": {
      "image/svg+xml": [
       "<?xml version=\"1.0\" encoding=\"UTF-8\" standalone=\"no\"?><svg xmlns=\"http://www.w3.org/2000/svg\" xmlns:xlink=\"http://www.w3.org/1999/xlink\" contentScriptType=\"application/ecmascript\" contentStyleType=\"text/css\" height=\"12px\" preserveAspectRatio=\"none\" style=\"width:12px;height:12px;\" version=\"1.1\" viewBox=\"0 0 12 12\" width=\"12px\" zoomAndPan=\"magnify\"><defs/><g><!--MD5=[896ac0e7a515d8dd7765a661cb4ee08b]\n",
       "@startuml\r\n",
       "skinparam linetype polyline\r\n",
       "skinparam monochrome true\r\n",
       "skinparam classbackgroundcolor white\r\n",
       "skinparam shadowing false\r\n",
       "skinparam wrapWidth 300\r\n",
       "hide circle\r\n",
       "\r\n",
       "@enduml\r\n",
       "\n",
       "PlantUML version 1.2020.13(Sat Jun 13 12:26:38 UTC 2020)\n",
       "(EPL source distribution)\n",
       "Java Runtime: OpenJDK Runtime Environment\n",
       "JVM: OpenJDK 64-Bit Server VM\n",
       "Default Encoding: UTF-8\n",
       "Language: en\n",
       "Country: null\n",
       "--></g></svg>"
      ]
     },
     "execution_count": 11,
     "metadata": {},
     "output_type": "execute_result"
    }
   ],
   "source": [
    "%viz --style=\"POLYLINE\" --view=\"State\" \"AliasImport\""
   ]
  },
  {
   "cell_type": "code",
   "execution_count": 12,
   "id": "83cbb6ad",
   "metadata": {
    "execution": {
     "iopub.execute_input": "2021-09-27T07:19:54.371435Z",
     "iopub.status.busy": "2021-09-27T07:19:54.371031Z",
     "iopub.status.idle": "2021-09-27T07:19:54.396062Z",
     "shell.execute_reply": "2021-09-27T07:19:54.394725Z"
    }
   },
   "outputs": [
    {
     "data": {
      "image/svg+xml": [
       "<?xml version=\"1.0\" encoding=\"UTF-8\" standalone=\"no\"?><svg xmlns=\"http://www.w3.org/2000/svg\" xmlns:xlink=\"http://www.w3.org/1999/xlink\" contentScriptType=\"application/ecmascript\" contentStyleType=\"text/css\" height=\"179px\" preserveAspectRatio=\"none\" style=\"width:458px;height:179px;\" version=\"1.1\" viewBox=\"0 0 458 179\" width=\"458px\" zoomAndPan=\"magnify\"><defs/><g><!--MD5=[fbc87193dbaf4d95561dea2c320d4a47]\n",
       "cluster E1--><a href=\"psysml:4c778e7a-b929-42de-9fbe-71ac5f912e3c\" target=\"_top\" title=\"psysml:4c778e7a-b929-42de-9fbe-71ac5f912e3c\" xlink:actuate=\"onRequest\" xlink:href=\"psysml:4c778e7a-b929-42de-9fbe-71ac5f912e3c\" xlink:show=\"new\" xlink:title=\"psysml:4c778e7a-b929-42de-9fbe-71ac5f912e3c\" xlink:type=\"simple\"><polygon fill=\"#FFFFFF\" points=\"16,6,97,6,104,28.2969,436,28.2969,436,167,16,167,16,6\" style=\"stroke: #000000; stroke-width: 1.5;\"/><line style=\"stroke: #000000; stroke-width: 1.5;\" x1=\"16\" x2=\"104\" y1=\"28.2969\" y2=\"28.2969\"/><text fill=\"#000000\" font-family=\"sans-serif\" font-size=\"14\" font-weight=\"bold\" lengthAdjust=\"spacingAndGlyphs\" textLength=\"75\" x=\"20\" y=\"20.9951\">AliasImport</text></a><!--MD5=[e4f7fae6ed58524ba242bb0b0d3be6b7]\n",
       "cluster E2--><a href=\"psysml:5f40b44b-bd87-468f-b109-35ffc9f78ab6\" target=\"_top\" title=\"psysml:5f40b44b-bd87-468f-b109-35ffc9f78ab6\" xlink:actuate=\"onRequest\" xlink:href=\"psysml:5f40b44b-bd87-468f-b109-35ffc9f78ab6\" xlink:show=\"new\" xlink:title=\"psysml:5f40b44b-bd87-468f-b109-35ffc9f78ab6\" xlink:type=\"simple\"><polygon fill=\"#FFFFFF\" points=\"202,49,281,49,288,71.2969,412,71.2969,412,143,202,143,202,49\" style=\"stroke: #000000; stroke-width: 1.5;\"/><line style=\"stroke: #000000; stroke-width: 1.5;\" x1=\"202\" x2=\"288\" y1=\"71.2969\" y2=\"71.2969\"/><text fill=\"#000000\" font-family=\"sans-serif\" font-size=\"14\" font-weight=\"bold\" lengthAdjust=\"spacingAndGlyphs\" textLength=\"73\" x=\"206\" y=\"63.9951\">Definitions</text></a><!--MD5=[de5ec2e2e8f62f467e546659f5068c88]\n",
       "cluster E5--><a href=\"psysml:ea2bdd2c-ef7f-4fe4-8ff5-76ffc4616c11\" target=\"_top\" title=\"psysml:ea2bdd2c-ef7f-4fe4-8ff5-76ffc4616c11\" xlink:actuate=\"onRequest\" xlink:href=\"psysml:ea2bdd2c-ef7f-4fe4-8ff5-76ffc4616c11\" xlink:show=\"new\" xlink:title=\"psysml:ea2bdd2c-ef7f-4fe4-8ff5-76ffc4616c11\" xlink:type=\"simple\"><polygon fill=\"#FFFFFF\" points=\"40,50.5,98,50.5,105,72.7969,178,72.7969,178,141.5,40,141.5,40,50.5\" style=\"stroke: #000000; stroke-width: 1.5;\"/><line style=\"stroke: #000000; stroke-width: 1.5;\" x1=\"40\" x2=\"105\" y1=\"72.7969\" y2=\"72.7969\"/><text fill=\"#000000\" font-family=\"sans-serif\" font-size=\"14\" font-weight=\"bold\" lengthAdjust=\"spacingAndGlyphs\" textLength=\"52\" x=\"44\" y=\"65.4951\">Usages</text></a><g id=\"E1.E2.E3\"><a href=\"psysml:1b4a97b7-4457-459f-aed1-97b0f48f7241\" target=\"_top\" title=\"psysml:1b4a97b7-4457-459f-aed1-97b0f48f7241\" xlink:actuate=\"onRequest\" xlink:href=\"psysml:1b4a97b7-4457-459f-aed1-97b0f48f7241\" xlink:show=\"new\" xlink:title=\"psysml:1b4a97b7-4457-459f-aed1-97b0f48f7241\" xlink:type=\"simple\"><rect fill=\"#FFFFFF\" height=\"42.9375\" id=\"E3\" style=\"stroke: #383838; stroke-width: 1.5;\" width=\"71\" x=\"324.5\" y=\"84\"/><rect fill=\"#F8F8F8\" height=\"37.9375\" style=\"stroke: #383838; stroke-width: 1.5;\" width=\"71\" x=\"324.5\" y=\"84\"/><text fill=\"#000000\" font-family=\"sans-serif\" font-size=\"12\" font-style=\"italic\" lengthAdjust=\"spacingAndGlyphs\" textLength=\"64\" x=\"328\" y=\"100.1387\">«part def»</text><text fill=\"#000000\" font-family=\"sans-serif\" font-size=\"12\" lengthAdjust=\"spacingAndGlyphs\" textLength=\"45\" x=\"337.5\" y=\"114.1074\">Vehicle</text></a></g><g id=\"E1.E2.E4\"><a href=\"psysml:1b4a97b7-4457-459f-aed1-97b0f48f7241\" target=\"_top\" title=\"psysml:1b4a97b7-4457-459f-aed1-97b0f48f7241\" xlink:actuate=\"onRequest\" xlink:href=\"psysml:1b4a97b7-4457-459f-aed1-97b0f48f7241\" xlink:show=\"new\" xlink:title=\"psysml:1b4a97b7-4457-459f-aed1-97b0f48f7241\" xlink:type=\"simple\"><rect fill=\"#FFFFFF\" height=\"42.9375\" id=\"E4\" style=\"stroke: #383838; stroke-width: 1.5;\" width=\"71\" x=\"218.5\" y=\"84\"/><rect fill=\"#F8F8F8\" height=\"37.9375\" style=\"stroke: #383838; stroke-width: 1.5;\" width=\"71\" x=\"218.5\" y=\"84\"/><text fill=\"#000000\" font-family=\"sans-serif\" font-size=\"12\" font-style=\"italic\" lengthAdjust=\"spacingAndGlyphs\" textLength=\"64\" x=\"222\" y=\"100.1387\">«part def»</text><text fill=\"#000000\" font-family=\"sans-serif\" font-size=\"12\" lengthAdjust=\"spacingAndGlyphs\" textLength=\"45\" x=\"231.5\" y=\"114.1074\">Vehicle</text></a></g><g id=\"E1.E5.E6\"><a href=\"psysml:ea5f8fdf-b305-409f-85bc-0024bea5295e\" target=\"_top\" title=\"psysml:ea5f8fdf-b305-409f-85bc-0024bea5295e\" xlink:actuate=\"onRequest\" xlink:href=\"psysml:ea5f8fdf-b305-409f-85bc-0024bea5295e\" xlink:show=\"new\" xlink:title=\"psysml:ea5f8fdf-b305-409f-85bc-0024bea5295e\" xlink:type=\"simple\"><rect fill=\"#FFFFFF\" height=\"40\" id=\"E6\" rx=\"10\" ry=\"10\" style=\"stroke: #383838; stroke-width: 1.5;\" width=\"107\" x=\"55.5\" y=\"85.5\"/><rect fill=\"#F8F8F8\" height=\"23.9688\" rx=\"10\" ry=\"10\" style=\"stroke: #F8F8F8; stroke-width: 1.5;\" width=\"107\" x=\"55.5\" y=\"85.5\"/><rect fill=\"#F8F8F8\" height=\"10\" style=\"stroke: #F8F8F8; stroke-width: 1.5;\" width=\"107\" x=\"55.5\" y=\"99.4688\"/><rect fill=\"none\" height=\"40\" id=\"E6\" rx=\"10\" ry=\"10\" style=\"stroke: #383838; stroke-width: 1.5;\" width=\"107\" x=\"55.5\" y=\"85.5\"/><text fill=\"#000000\" font-family=\"sans-serif\" font-size=\"12\" lengthAdjust=\"spacingAndGlyphs\" textLength=\"96\" x=\"61\" y=\"101.6387\">vehicle: Vehicle</text></a></g><!--MD5=[953574c103aeeeb009605ca1b608d125]\n",
       "@startuml\r\n",
       "skinparam ranksep 10\r\n",
       "skinparam rectangle {\r\n",
       " backgroundColor<<block>> LightGreen\r\n",
       "}\r\n",
       "skinparam linetype polyline\r\n",
       "skinparam monochrome true\r\n",
       "skinparam classbackgroundcolor white\r\n",
       "skinparam shadowing false\r\n",
       "skinparam wrapWidth 300\r\n",
       "hide circle\r\n",
       "\r\n",
       "package \"AliasImport\" as E1  [[psysml:4c778e7a-b929-42de-9fbe-71ac5f912e3c ]]  {\r\n",
       "package \"Definitions\" as E2  [[psysml:5f40b44b-bd87-468f-b109-35ffc9f78ab6 ]]  {\r\n",
       "rec def \"Vehicle\" as E3  <<(T,blue) part def>> [[psysml:1b4a97b7-4457-459f-aed1-97b0f48f7241 ]] {\r\n",
       "}\r\n",
       "rec def \"Vehicle\" as E4  <<(T,blue) part def>> [[psysml:1b4a97b7-4457-459f-aed1-97b0f48f7241 ]] {\r\n",
       "}\r\n",
       "}\r\n",
       "package \"Usages\" as E5  [[psysml:ea2bdd2c-ef7f-4fe4-8ff5-76ffc4616c11 ]]  {\r\n",
       "rec usage \"vehicle: Vehicle\" as E6  [[psysml:ea5f8fdf-b305-409f-85bc-0024bea5295e ]] {\r\n",
       "}\r\n",
       "}\r\n",
       "}\r\n",
       "@enduml\r\n",
       "\n",
       "PlantUML version 1.2020.13(Sat Jun 13 12:26:38 UTC 2020)\n",
       "(EPL source distribution)\n",
       "Java Runtime: OpenJDK Runtime Environment\n",
       "JVM: OpenJDK 64-Bit Server VM\n",
       "Default Encoding: UTF-8\n",
       "Language: en\n",
       "Country: null\n",
       "--></g></svg>"
      ]
     },
     "execution_count": 12,
     "metadata": {},
     "output_type": "execute_result"
    }
   ],
   "source": [
    "%viz --style=\"POLYLINE\" --view=\"Interconnection\" \"AliasImport\""
   ]
  },
  {
   "cell_type": "code",
   "execution_count": 13,
   "id": "d819ab28",
   "metadata": {
    "execution": {
     "iopub.execute_input": "2021-09-27T07:19:54.445855Z",
     "iopub.status.busy": "2021-09-27T07:19:54.445351Z",
     "iopub.status.idle": "2021-09-27T07:19:54.448928Z",
     "shell.execute_reply": "2021-09-27T07:19:54.449276Z"
    }
   },
   "outputs": [
    {
     "data": {
      "image/svg+xml": [
       "<?xml version=\"1.0\" encoding=\"UTF-8\" standalone=\"no\"?><svg xmlns=\"http://www.w3.org/2000/svg\" xmlns:xlink=\"http://www.w3.org/1999/xlink\" contentScriptType=\"application/ecmascript\" contentStyleType=\"text/css\" height=\"12px\" preserveAspectRatio=\"none\" style=\"width:12px;height:12px;\" version=\"1.1\" viewBox=\"0 0 12 12\" width=\"12px\" zoomAndPan=\"magnify\"><defs/><g><!--MD5=[97bbf32f66ccd50cbc40d92ea8f5a65e]\n",
       "@startuml\r\n",
       "skinparam ranksep 8\r\n",
       "skinparam linetype polyline\r\n",
       "skinparam monochrome true\r\n",
       "skinparam classbackgroundcolor white\r\n",
       "skinparam shadowing false\r\n",
       "skinparam wrapWidth 300\r\n",
       "hide circle\r\n",
       "\r\n",
       "@enduml\r\n",
       "\n",
       "PlantUML version 1.2020.13(Sat Jun 13 12:26:38 UTC 2020)\n",
       "(EPL source distribution)\n",
       "Java Runtime: OpenJDK Runtime Environment\n",
       "JVM: OpenJDK 64-Bit Server VM\n",
       "Default Encoding: UTF-8\n",
       "Language: en\n",
       "Country: null\n",
       "--></g></svg>"
      ]
     },
     "execution_count": 13,
     "metadata": {},
     "output_type": "execute_result"
    }
   ],
   "source": [
    "%viz --style=\"POLYLINE\" --view=\"Action\" \"AliasImport\""
   ]
  },
  {
   "cell_type": "code",
   "execution_count": 14,
   "id": "3d2473ea",
   "metadata": {
    "execution": {
     "iopub.execute_input": "2021-09-27T07:19:54.499393Z",
     "iopub.status.busy": "2021-09-27T07:19:54.498906Z",
     "iopub.status.idle": "2021-09-27T07:19:54.503244Z",
     "shell.execute_reply": "2021-09-27T07:19:54.502837Z"
    }
   },
   "outputs": [
    {
     "data": {
      "image/svg+xml": [
       "<?xml version=\"1.0\" encoding=\"UTF-8\" standalone=\"no\"?><svg xmlns=\"http://www.w3.org/2000/svg\" xmlns:xlink=\"http://www.w3.org/1999/xlink\" contentScriptType=\"application/ecmascript\" contentStyleType=\"text/css\" height=\"12px\" preserveAspectRatio=\"none\" style=\"width:12px;height:12px;\" version=\"1.1\" viewBox=\"0 0 12 12\" width=\"12px\" zoomAndPan=\"magnify\"><defs/><g><!--MD5=[dc938048236c351797870c36b62f92ad]\n",
       "@startuml\r\n",
       "skinparam roundcorner 20\r\n",
       "skinparam BoxPadding 20\r\n",
       "skinparam SequenceBoxBackgroundColor #white\r\n",
       "skinparam style strictuml\r\n",
       "skinparam maxMessageSize 100\r\n",
       "skinparam linetype polyline\r\n",
       "skinparam monochrome true\r\n",
       "skinparam classbackgroundcolor white\r\n",
       "skinparam shadowing false\r\n",
       "skinparam wrapWidth 300\r\n",
       "hide circle\r\n",
       "\r\n",
       "@enduml\r\n",
       "\n",
       "PlantUML version 1.2020.13(Sat Jun 13 12:26:38 UTC 2020)\n",
       "(EPL source distribution)\n",
       "Java Runtime: OpenJDK Runtime Environment\n",
       "JVM: OpenJDK 64-Bit Server VM\n",
       "Default Encoding: UTF-8\n",
       "Language: en\n",
       "Country: null\n",
       "--></g></svg>"
      ]
     },
     "execution_count": 14,
     "metadata": {},
     "output_type": "execute_result"
    }
   ],
   "source": [
    "%viz --style=\"POLYLINE\" --view=\"Sequence\" \"AliasImport\""
   ]
  },
  {
   "cell_type": "code",
   "execution_count": 15,
   "id": "75943b79",
   "metadata": {
    "execution": {
     "iopub.execute_input": "2021-09-27T07:19:54.553093Z",
     "iopub.status.busy": "2021-09-27T07:19:54.552659Z",
     "iopub.status.idle": "2021-09-27T07:19:54.578391Z",
     "shell.execute_reply": "2021-09-27T07:19:54.577125Z"
    }
   },
   "outputs": [
    {
     "data": {
      "image/svg+xml": [
       "<?xml version=\"1.0\" encoding=\"UTF-8\" standalone=\"no\"?><svg xmlns=\"http://www.w3.org/2000/svg\" xmlns:xlink=\"http://www.w3.org/1999/xlink\" contentScriptType=\"application/ecmascript\" contentStyleType=\"text/css\" height=\"303px\" preserveAspectRatio=\"none\" style=\"width:220px;height:303px;\" version=\"1.1\" viewBox=\"0 0 220 303\" width=\"220px\" zoomAndPan=\"magnify\"><defs/><g><!--MD5=[fbc87193dbaf4d95561dea2c320d4a47]\n",
       "cluster E1--><a href=\"psysml:4c778e7a-b929-42de-9fbe-71ac5f912e3c\" target=\"_top\" title=\"psysml:4c778e7a-b929-42de-9fbe-71ac5f912e3c\" xlink:actuate=\"onRequest\" xlink:href=\"psysml:4c778e7a-b929-42de-9fbe-71ac5f912e3c\" xlink:show=\"new\" xlink:title=\"psysml:4c778e7a-b929-42de-9fbe-71ac5f912e3c\" xlink:type=\"simple\"><polygon fill=\"#FFFFFF\" points=\"16,6,97,6,104,28.2969,198,28.2969,198,291,16,291,16,6\" style=\"stroke: #000000; stroke-width: 1.5;\"/><line style=\"stroke: #000000; stroke-width: 1.5;\" x1=\"16\" x2=\"104\" y1=\"28.2969\" y2=\"28.2969\"/><text fill=\"#000000\" font-family=\"sans-serif\" font-size=\"14\" font-weight=\"bold\" lengthAdjust=\"spacingAndGlyphs\" textLength=\"75\" x=\"20\" y=\"20.9951\">AliasImport</text></a><!--MD5=[e4f7fae6ed58524ba242bb0b0d3be6b7]\n",
       "cluster E2--><a href=\"psysml:5f40b44b-bd87-468f-b109-35ffc9f78ab6\" target=\"_top\" title=\"psysml:5f40b44b-bd87-468f-b109-35ffc9f78ab6\" xlink:actuate=\"onRequest\" xlink:href=\"psysml:5f40b44b-bd87-468f-b109-35ffc9f78ab6\" xlink:show=\"new\" xlink:title=\"psysml:5f40b44b-bd87-468f-b109-35ffc9f78ab6\" xlink:type=\"simple\"><polygon fill=\"#FFFFFF\" points=\"58,170,137,170,144,192.2969,156,192.2969,156,267,58,267,58,170\" style=\"stroke: #000000; stroke-width: 1.5;\"/><line style=\"stroke: #000000; stroke-width: 1.5;\" x1=\"58\" x2=\"144\" y1=\"192.2969\" y2=\"192.2969\"/><text fill=\"#000000\" font-family=\"sans-serif\" font-size=\"14\" font-weight=\"bold\" lengthAdjust=\"spacingAndGlyphs\" textLength=\"73\" x=\"62\" y=\"184.9951\">Definitions</text></a><!--MD5=[f6df4d0ebaf0b5dfb2ced0ae5af7c670]\n",
       "cluster E4--><a href=\"psysml:ea2bdd2c-ef7f-4fe4-8ff5-76ffc4616c11\" target=\"_top\" title=\"psysml:ea2bdd2c-ef7f-4fe4-8ff5-76ffc4616c11\" xlink:actuate=\"onRequest\" xlink:href=\"psysml:ea2bdd2c-ef7f-4fe4-8ff5-76ffc4616c11\" xlink:show=\"new\" xlink:title=\"psysml:ea2bdd2c-ef7f-4fe4-8ff5-76ffc4616c11\" xlink:type=\"simple\"><polygon fill=\"#FFFFFF\" points=\"40,49,98,49,105,71.2969,174,71.2969,174,146,40,146,40,49\" style=\"stroke: #000000; stroke-width: 1.5;\"/><line style=\"stroke: #000000; stroke-width: 1.5;\" x1=\"40\" x2=\"105\" y1=\"71.2969\" y2=\"71.2969\"/><text fill=\"#000000\" font-family=\"sans-serif\" font-size=\"14\" font-weight=\"bold\" lengthAdjust=\"spacingAndGlyphs\" textLength=\"52\" x=\"44\" y=\"63.9951\">Usages</text></a><!--MD5=[09b614a08d8cba4a07c9adeb5e0fee81]\n",
       "class E3--><a href=\"psysml:1b4a97b7-4457-459f-aed1-97b0f48f7241\" target=\"_top\" title=\"psysml:1b4a97b7-4457-459f-aed1-97b0f48f7241\" xlink:actuate=\"onRequest\" xlink:href=\"psysml:1b4a97b7-4457-459f-aed1-97b0f48f7241\" xlink:show=\"new\" xlink:title=\"psysml:1b4a97b7-4457-459f-aed1-97b0f48f7241\" xlink:type=\"simple\"><rect fill=\"#FFFFFF\" height=\"45.9375\" id=\"E3\" style=\"stroke: #383838; stroke-width: 1.5;\" width=\"66\" x=\"74\" y=\"205\"/><text fill=\"#000000\" font-family=\"sans-serif\" font-size=\"12\" font-style=\"italic\" lengthAdjust=\"spacingAndGlyphs\" textLength=\"64\" x=\"75\" y=\"221.1387\">«part def»</text><text fill=\"#000000\" font-family=\"sans-serif\" font-size=\"12\" lengthAdjust=\"spacingAndGlyphs\" textLength=\"45\" x=\"84.5\" y=\"235.1074\">Vehicle</text><line style=\"stroke: #383838; stroke-width: 1.5;\" x1=\"75\" x2=\"139\" y1=\"242.9375\" y2=\"242.9375\"/></a><!--MD5=[270fce915f116d4de14055a7c1d9a0f3]\n",
       "class E5--><a href=\"psysml:ea5f8fdf-b305-409f-85bc-0024bea5295e\" target=\"_top\" title=\"psysml:ea5f8fdf-b305-409f-85bc-0024bea5295e\" xlink:actuate=\"onRequest\" xlink:href=\"psysml:ea5f8fdf-b305-409f-85bc-0024bea5295e\" xlink:show=\"new\" xlink:title=\"psysml:ea5f8fdf-b305-409f-85bc-0024bea5295e\" xlink:type=\"simple\"><rect fill=\"#FFFFFF\" height=\"45.9375\" id=\"E5\" rx=\"10\" ry=\"10\" style=\"stroke: #383838; stroke-width: 1.5;\" width=\"102\" x=\"56\" y=\"84\"/><text fill=\"#000000\" font-family=\"sans-serif\" font-size=\"12\" font-style=\"italic\" lengthAdjust=\"spacingAndGlyphs\" textLength=\"40\" x=\"87\" y=\"100.1387\">«part»</text><text fill=\"#000000\" font-family=\"sans-serif\" font-size=\"12\" lengthAdjust=\"spacingAndGlyphs\" textLength=\"96\" x=\"59\" y=\"114.1074\">vehicle: Vehicle</text><line style=\"stroke: #383838; stroke-width: 1.5;\" x1=\"57\" x2=\"157\" y1=\"121.9375\" y2=\"121.9375\"/></a><!--MD5=[e9be52314489bd878ff4c7144b63c9e1]\n",
       "link E5 to E3--><a href=\"psysml:4cdeda76-c42f-43d9-9b0b-b21e3f7ae647\" target=\"_top\" title=\"psysml:4cdeda76-c42f-43d9-9b0b-b21e3f7ae647\" xlink:actuate=\"onRequest\" xlink:href=\"psysml:4cdeda76-c42f-43d9-9b0b-b21e3f7ae647\" xlink:show=\"new\" xlink:title=\"psysml:4cdeda76-c42f-43d9-9b0b-b21e3f7ae647\" xlink:type=\"simple\"><path d=\"M107,130.1 C107,145.37 107,166.16 107,184.57 \" fill=\"none\" id=\"E5-&gt;E3\" style=\"stroke: #383838; stroke-width: 1.0;\"/><polygon fill=\"#FFFFFF\" points=\"107,204.61,100,185.61,114,185.61,107,204.61\" style=\"stroke: #383838; stroke-width: 1.0;\"/><ellipse cx=\"102\" cy=\"179.91\" fill=\"#383838\" rx=\"2\" ry=\"2\" style=\"stroke: #383838; stroke-width: 1.0;\"/><ellipse cx=\"112\" cy=\"179.91\" fill=\"#383838\" rx=\"2\" ry=\"2\" style=\"stroke: #383838; stroke-width: 1.0;\"/></a><!--MD5=[91481c90fb1fe78cf30a45e9aede7763]\n",
       "@startuml\r\n",
       "skinparam linetype polyline\r\n",
       "skinparam monochrome true\r\n",
       "skinparam classbackgroundcolor white\r\n",
       "skinparam shadowing false\r\n",
       "skinparam wrapWidth 300\r\n",
       "hide circle\r\n",
       "\r\n",
       "package \"AliasImport\" as E1  [[psysml:4c778e7a-b929-42de-9fbe-71ac5f912e3c ]]  {\r\n",
       "package \"Definitions\" as E2  [[psysml:5f40b44b-bd87-468f-b109-35ffc9f78ab6 ]]  {\r\n",
       "comp def \"Vehicle\" as E3  <<(T,blue) part def>> [[psysml:1b4a97b7-4457-459f-aed1-97b0f48f7241 ]] {\r\n",
       "}\r\n",
       "}\r\n",
       "package \"Usages\" as E4  [[psysml:ea2bdd2c-ef7f-4fe4-8ff5-76ffc4616c11 ]]  {\r\n",
       "comp usage \"vehicle: Vehicle\" as E5  <<(T,blue) part>> [[psysml:ea5f8fdf-b305-409f-85bc-0024bea5295e ]] {\r\n",
       "}\r\n",
       "}\r\n",
       "}\r\n",
       "E5 - -:|> E3 [[psysml:4cdeda76-c42f-43d9-9b0b-b21e3f7ae647 ]] \r\n",
       "@enduml\r\n",
       "\n",
       "PlantUML version 1.2020.13(Sat Jun 13 12:26:38 UTC 2020)\n",
       "(EPL source distribution)\n",
       "Java Runtime: OpenJDK Runtime Environment\n",
       "JVM: OpenJDK 64-Bit Server VM\n",
       "Default Encoding: UTF-8\n",
       "Language: en\n",
       "Country: null\n",
       "--></g></svg>"
      ]
     },
     "execution_count": 15,
     "metadata": {},
     "output_type": "execute_result"
    }
   ],
   "source": [
    "%viz --style=\"POLYLINE\" --view=\"MIXED\" \"AliasImport\""
   ]
  },
  {
   "cell_type": "code",
   "execution_count": 16,
   "id": "e253f22a",
   "metadata": {
    "execution": {
     "iopub.execute_input": "2021-09-27T07:19:54.628558Z",
     "iopub.status.busy": "2021-09-27T07:19:54.628123Z",
     "iopub.status.idle": "2021-09-27T07:19:54.664232Z",
     "shell.execute_reply": "2021-09-27T07:19:54.662979Z"
    }
   },
   "outputs": [
    {
     "data": {
      "image/svg+xml": [
       "<?xml version=\"1.0\" encoding=\"UTF-8\" standalone=\"no\"?><svg xmlns=\"http://www.w3.org/2000/svg\" xmlns:xlink=\"http://www.w3.org/1999/xlink\" contentScriptType=\"application/ecmascript\" contentStyleType=\"text/css\" height=\"182px\" preserveAspectRatio=\"none\" style=\"width:346px;height:182px;\" version=\"1.1\" viewBox=\"0 0 346 182\" width=\"346px\" zoomAndPan=\"magnify\"><defs/><g><!--MD5=[fbc87193dbaf4d95561dea2c320d4a47]\n",
       "cluster E1--><a href=\"psysml:4c778e7a-b929-42de-9fbe-71ac5f912e3c\" target=\"_top\" title=\"psysml:4c778e7a-b929-42de-9fbe-71ac5f912e3c\" xlink:actuate=\"onRequest\" xlink:href=\"psysml:4c778e7a-b929-42de-9fbe-71ac5f912e3c\" xlink:show=\"new\" xlink:title=\"psysml:4c778e7a-b929-42de-9fbe-71ac5f912e3c\" xlink:type=\"simple\"><polygon fill=\"#FFFFFF\" points=\"16,6,97,6,104,28.2969,324,28.2969,324,170,16,170,16,6\" style=\"stroke: #000000; stroke-width: 1.5;\"/><line style=\"stroke: #000000; stroke-width: 1.5;\" x1=\"16\" x2=\"104\" y1=\"28.2969\" y2=\"28.2969\"/><text fill=\"#000000\" font-family=\"sans-serif\" font-size=\"14\" font-weight=\"bold\" lengthAdjust=\"spacingAndGlyphs\" textLength=\"75\" x=\"20\" y=\"20.9951\">AliasImport</text></a><!--MD5=[e4f7fae6ed58524ba242bb0b0d3be6b7]\n",
       "cluster E2--><a href=\"psysml:5f40b44b-bd87-468f-b109-35ffc9f78ab6\" target=\"_top\" title=\"psysml:5f40b44b-bd87-468f-b109-35ffc9f78ab6\" xlink:actuate=\"onRequest\" xlink:href=\"psysml:5f40b44b-bd87-468f-b109-35ffc9f78ab6\" xlink:show=\"new\" xlink:title=\"psysml:5f40b44b-bd87-468f-b109-35ffc9f78ab6\" xlink:type=\"simple\"><polygon fill=\"#FFFFFF\" points=\"202,49,281,49,288,71.2969,300,71.2969,300,146,202,146,202,49\" style=\"stroke: #000000; stroke-width: 1.5;\"/><line style=\"stroke: #000000; stroke-width: 1.5;\" x1=\"202\" x2=\"288\" y1=\"71.2969\" y2=\"71.2969\"/><text fill=\"#000000\" font-family=\"sans-serif\" font-size=\"14\" font-weight=\"bold\" lengthAdjust=\"spacingAndGlyphs\" textLength=\"73\" x=\"206\" y=\"63.9951\">Definitions</text></a><!--MD5=[f6df4d0ebaf0b5dfb2ced0ae5af7c670]\n",
       "cluster E4--><a href=\"psysml:ea2bdd2c-ef7f-4fe4-8ff5-76ffc4616c11\" target=\"_top\" title=\"psysml:ea2bdd2c-ef7f-4fe4-8ff5-76ffc4616c11\" xlink:actuate=\"onRequest\" xlink:href=\"psysml:ea2bdd2c-ef7f-4fe4-8ff5-76ffc4616c11\" xlink:show=\"new\" xlink:title=\"psysml:ea2bdd2c-ef7f-4fe4-8ff5-76ffc4616c11\" xlink:type=\"simple\"><polygon fill=\"#FFFFFF\" points=\"40,49,98,49,105,71.2969,174,71.2969,174,146,40,146,40,49\" style=\"stroke: #000000; stroke-width: 1.5;\"/><line style=\"stroke: #000000; stroke-width: 1.5;\" x1=\"40\" x2=\"105\" y1=\"71.2969\" y2=\"71.2969\"/><text fill=\"#000000\" font-family=\"sans-serif\" font-size=\"14\" font-weight=\"bold\" lengthAdjust=\"spacingAndGlyphs\" textLength=\"52\" x=\"44\" y=\"63.9951\">Usages</text></a><!--MD5=[09b614a08d8cba4a07c9adeb5e0fee81]\n",
       "class E3--><a href=\"psysml:1b4a97b7-4457-459f-aed1-97b0f48f7241\" target=\"_top\" title=\"psysml:1b4a97b7-4457-459f-aed1-97b0f48f7241\" xlink:actuate=\"onRequest\" xlink:href=\"psysml:1b4a97b7-4457-459f-aed1-97b0f48f7241\" xlink:show=\"new\" xlink:title=\"psysml:1b4a97b7-4457-459f-aed1-97b0f48f7241\" xlink:type=\"simple\"><rect fill=\"#FFFFFF\" height=\"45.9375\" id=\"E3\" style=\"stroke: #383838; stroke-width: 1.5;\" width=\"66\" x=\"218\" y=\"84\"/><text fill=\"#000000\" font-family=\"sans-serif\" font-size=\"12\" font-style=\"italic\" lengthAdjust=\"spacingAndGlyphs\" textLength=\"64\" x=\"219\" y=\"100.1387\">«part def»</text><text fill=\"#000000\" font-family=\"sans-serif\" font-size=\"12\" lengthAdjust=\"spacingAndGlyphs\" textLength=\"45\" x=\"228.5\" y=\"114.1074\">Vehicle</text><line style=\"stroke: #383838; stroke-width: 1.5;\" x1=\"219\" x2=\"283\" y1=\"121.9375\" y2=\"121.9375\"/></a><!--MD5=[270fce915f116d4de14055a7c1d9a0f3]\n",
       "class E5--><a href=\"psysml:ea5f8fdf-b305-409f-85bc-0024bea5295e\" target=\"_top\" title=\"psysml:ea5f8fdf-b305-409f-85bc-0024bea5295e\" xlink:actuate=\"onRequest\" xlink:href=\"psysml:ea5f8fdf-b305-409f-85bc-0024bea5295e\" xlink:show=\"new\" xlink:title=\"psysml:ea5f8fdf-b305-409f-85bc-0024bea5295e\" xlink:type=\"simple\"><rect fill=\"#FFFFFF\" height=\"45.9375\" id=\"E5\" rx=\"10\" ry=\"10\" style=\"stroke: #383838; stroke-width: 1.5;\" width=\"102\" x=\"56\" y=\"84\"/><text fill=\"#000000\" font-family=\"sans-serif\" font-size=\"12\" font-style=\"italic\" lengthAdjust=\"spacingAndGlyphs\" textLength=\"40\" x=\"87\" y=\"100.1387\">«part»</text><text fill=\"#000000\" font-family=\"sans-serif\" font-size=\"12\" lengthAdjust=\"spacingAndGlyphs\" textLength=\"96\" x=\"59\" y=\"114.1074\">vehicle: Vehicle</text><line style=\"stroke: #383838; stroke-width: 1.5;\" x1=\"57\" x2=\"157\" y1=\"121.9375\" y2=\"121.9375\"/></a><!--MD5=[e9be52314489bd878ff4c7144b63c9e1]\n",
       "link E5 to E3--><a href=\"psysml:4cdeda76-c42f-43d9-9b0b-b21e3f7ae647\" target=\"_top\" title=\"psysml:4cdeda76-c42f-43d9-9b0b-b21e3f7ae647\" xlink:actuate=\"onRequest\" xlink:href=\"psysml:4cdeda76-c42f-43d9-9b0b-b21e3f7ae647\" xlink:show=\"new\" xlink:title=\"psysml:4cdeda76-c42f-43d9-9b0b-b21e3f7ae647\" xlink:type=\"simple\"><path d=\"M158.06,107 C170.75,107 184.42,107 197.23,107 \" fill=\"none\" id=\"E5-&gt;E3\" style=\"stroke: #383838; stroke-width: 1.0;\"/><polygon fill=\"#FFFFFF\" points=\"217.67,107,198.67,114,198.67,100,217.67,107\" style=\"stroke: #383838; stroke-width: 1.0;\"/><ellipse cx=\"192.97\" cy=\"112\" fill=\"#383838\" rx=\"2\" ry=\"2\" style=\"stroke: #383838; stroke-width: 1.0;\"/><ellipse cx=\"192.97\" cy=\"102\" fill=\"#383838\" rx=\"2\" ry=\"2\" style=\"stroke: #383838; stroke-width: 1.0;\"/></a><!--MD5=[2912118c656b6656d51a55be02022be2]\n",
       "@startuml\r\n",
       "left to right direction\r\n",
       "skinparam monochrome true\r\n",
       "skinparam classbackgroundcolor white\r\n",
       "skinparam shadowing false\r\n",
       "skinparam wrapWidth 300\r\n",
       "hide circle\r\n",
       "\r\n",
       "package \"AliasImport\" as E1  [[psysml:4c778e7a-b929-42de-9fbe-71ac5f912e3c ]]  {\r\n",
       "package \"Definitions\" as E2  [[psysml:5f40b44b-bd87-468f-b109-35ffc9f78ab6 ]]  {\r\n",
       "comp def \"Vehicle\" as E3  <<(T,blue) part def>> [[psysml:1b4a97b7-4457-459f-aed1-97b0f48f7241 ]] {\r\n",
       "}\r\n",
       "}\r\n",
       "package \"Usages\" as E4  [[psysml:ea2bdd2c-ef7f-4fe4-8ff5-76ffc4616c11 ]]  {\r\n",
       "comp usage \"vehicle: Vehicle\" as E5  <<(T,blue) part>> [[psysml:ea5f8fdf-b305-409f-85bc-0024bea5295e ]] {\r\n",
       "}\r\n",
       "}\r\n",
       "}\r\n",
       "E5 - -:|> E3 [[psysml:4cdeda76-c42f-43d9-9b0b-b21e3f7ae647 ]] \r\n",
       "@enduml\r\n",
       "\n",
       "PlantUML version 1.2020.13(Sat Jun 13 12:26:38 UTC 2020)\n",
       "(EPL source distribution)\n",
       "Java Runtime: OpenJDK Runtime Environment\n",
       "JVM: OpenJDK 64-Bit Server VM\n",
       "Default Encoding: UTF-8\n",
       "Language: en\n",
       "Country: null\n",
       "--></g></svg>"
      ]
     },
     "execution_count": 16,
     "metadata": {},
     "output_type": "execute_result"
    }
   ],
   "source": [
    "%viz --style=\"LR\" --view=\"Default\" \"AliasImport\""
   ]
  },
  {
   "cell_type": "code",
   "execution_count": 17,
   "id": "60d289b4",
   "metadata": {
    "execution": {
     "iopub.execute_input": "2021-09-27T07:19:54.713883Z",
     "iopub.status.busy": "2021-09-27T07:19:54.713433Z",
     "iopub.status.idle": "2021-09-27T07:19:54.738565Z",
     "shell.execute_reply": "2021-09-27T07:19:54.737223Z"
    }
   },
   "outputs": [
    {
     "data": {
      "image/svg+xml": [
       "<?xml version=\"1.0\" encoding=\"UTF-8\" standalone=\"no\"?><svg xmlns=\"http://www.w3.org/2000/svg\" xmlns:xlink=\"http://www.w3.org/1999/xlink\" contentScriptType=\"application/ecmascript\" contentStyleType=\"text/css\" height=\"182px\" preserveAspectRatio=\"none\" style=\"width:346px;height:182px;\" version=\"1.1\" viewBox=\"0 0 346 182\" width=\"346px\" zoomAndPan=\"magnify\"><defs/><g><!--MD5=[fbc87193dbaf4d95561dea2c320d4a47]\n",
       "cluster E1--><a href=\"psysml:4c778e7a-b929-42de-9fbe-71ac5f912e3c\" target=\"_top\" title=\"psysml:4c778e7a-b929-42de-9fbe-71ac5f912e3c\" xlink:actuate=\"onRequest\" xlink:href=\"psysml:4c778e7a-b929-42de-9fbe-71ac5f912e3c\" xlink:show=\"new\" xlink:title=\"psysml:4c778e7a-b929-42de-9fbe-71ac5f912e3c\" xlink:type=\"simple\"><polygon fill=\"#FFFFFF\" points=\"16,6,97,6,104,28.2969,324,28.2969,324,170,16,170,16,6\" style=\"stroke: #000000; stroke-width: 1.5;\"/><line style=\"stroke: #000000; stroke-width: 1.5;\" x1=\"16\" x2=\"104\" y1=\"28.2969\" y2=\"28.2969\"/><text fill=\"#000000\" font-family=\"sans-serif\" font-size=\"14\" font-weight=\"bold\" lengthAdjust=\"spacingAndGlyphs\" textLength=\"75\" x=\"20\" y=\"20.9951\">AliasImport</text></a><!--MD5=[e4f7fae6ed58524ba242bb0b0d3be6b7]\n",
       "cluster E2--><a href=\"psysml:5f40b44b-bd87-468f-b109-35ffc9f78ab6\" target=\"_top\" title=\"psysml:5f40b44b-bd87-468f-b109-35ffc9f78ab6\" xlink:actuate=\"onRequest\" xlink:href=\"psysml:5f40b44b-bd87-468f-b109-35ffc9f78ab6\" xlink:show=\"new\" xlink:title=\"psysml:5f40b44b-bd87-468f-b109-35ffc9f78ab6\" xlink:type=\"simple\"><polygon fill=\"#FFFFFF\" points=\"202,49,281,49,288,71.2969,300,71.2969,300,146,202,146,202,49\" style=\"stroke: #000000; stroke-width: 1.5;\"/><line style=\"stroke: #000000; stroke-width: 1.5;\" x1=\"202\" x2=\"288\" y1=\"71.2969\" y2=\"71.2969\"/><text fill=\"#000000\" font-family=\"sans-serif\" font-size=\"14\" font-weight=\"bold\" lengthAdjust=\"spacingAndGlyphs\" textLength=\"73\" x=\"206\" y=\"63.9951\">Definitions</text></a><!--MD5=[f6df4d0ebaf0b5dfb2ced0ae5af7c670]\n",
       "cluster E4--><a href=\"psysml:ea2bdd2c-ef7f-4fe4-8ff5-76ffc4616c11\" target=\"_top\" title=\"psysml:ea2bdd2c-ef7f-4fe4-8ff5-76ffc4616c11\" xlink:actuate=\"onRequest\" xlink:href=\"psysml:ea2bdd2c-ef7f-4fe4-8ff5-76ffc4616c11\" xlink:show=\"new\" xlink:title=\"psysml:ea2bdd2c-ef7f-4fe4-8ff5-76ffc4616c11\" xlink:type=\"simple\"><polygon fill=\"#FFFFFF\" points=\"40,49,98,49,105,71.2969,174,71.2969,174,146,40,146,40,49\" style=\"stroke: #000000; stroke-width: 1.5;\"/><line style=\"stroke: #000000; stroke-width: 1.5;\" x1=\"40\" x2=\"105\" y1=\"71.2969\" y2=\"71.2969\"/><text fill=\"#000000\" font-family=\"sans-serif\" font-size=\"14\" font-weight=\"bold\" lengthAdjust=\"spacingAndGlyphs\" textLength=\"52\" x=\"44\" y=\"63.9951\">Usages</text></a><!--MD5=[09b614a08d8cba4a07c9adeb5e0fee81]\n",
       "class E3--><a href=\"psysml:1b4a97b7-4457-459f-aed1-97b0f48f7241\" target=\"_top\" title=\"psysml:1b4a97b7-4457-459f-aed1-97b0f48f7241\" xlink:actuate=\"onRequest\" xlink:href=\"psysml:1b4a97b7-4457-459f-aed1-97b0f48f7241\" xlink:show=\"new\" xlink:title=\"psysml:1b4a97b7-4457-459f-aed1-97b0f48f7241\" xlink:type=\"simple\"><rect fill=\"#FFFFFF\" height=\"45.9375\" id=\"E3\" style=\"stroke: #383838; stroke-width: 1.5;\" width=\"66\" x=\"218\" y=\"84\"/><text fill=\"#000000\" font-family=\"sans-serif\" font-size=\"12\" font-style=\"italic\" lengthAdjust=\"spacingAndGlyphs\" textLength=\"64\" x=\"219\" y=\"100.1387\">«part def»</text><text fill=\"#000000\" font-family=\"sans-serif\" font-size=\"12\" lengthAdjust=\"spacingAndGlyphs\" textLength=\"45\" x=\"228.5\" y=\"114.1074\">Vehicle</text><line style=\"stroke: #383838; stroke-width: 1.5;\" x1=\"219\" x2=\"283\" y1=\"121.9375\" y2=\"121.9375\"/></a><!--MD5=[270fce915f116d4de14055a7c1d9a0f3]\n",
       "class E5--><a href=\"psysml:ea5f8fdf-b305-409f-85bc-0024bea5295e\" target=\"_top\" title=\"psysml:ea5f8fdf-b305-409f-85bc-0024bea5295e\" xlink:actuate=\"onRequest\" xlink:href=\"psysml:ea5f8fdf-b305-409f-85bc-0024bea5295e\" xlink:show=\"new\" xlink:title=\"psysml:ea5f8fdf-b305-409f-85bc-0024bea5295e\" xlink:type=\"simple\"><rect fill=\"#FFFFFF\" height=\"45.9375\" id=\"E5\" rx=\"10\" ry=\"10\" style=\"stroke: #383838; stroke-width: 1.5;\" width=\"102\" x=\"56\" y=\"84\"/><text fill=\"#000000\" font-family=\"sans-serif\" font-size=\"12\" font-style=\"italic\" lengthAdjust=\"spacingAndGlyphs\" textLength=\"40\" x=\"87\" y=\"100.1387\">«part»</text><text fill=\"#000000\" font-family=\"sans-serif\" font-size=\"12\" lengthAdjust=\"spacingAndGlyphs\" textLength=\"96\" x=\"59\" y=\"114.1074\">vehicle: Vehicle</text><line style=\"stroke: #383838; stroke-width: 1.5;\" x1=\"57\" x2=\"157\" y1=\"121.9375\" y2=\"121.9375\"/></a><!--MD5=[e9be52314489bd878ff4c7144b63c9e1]\n",
       "link E5 to E3--><a href=\"psysml:4cdeda76-c42f-43d9-9b0b-b21e3f7ae647\" target=\"_top\" title=\"psysml:4cdeda76-c42f-43d9-9b0b-b21e3f7ae647\" xlink:actuate=\"onRequest\" xlink:href=\"psysml:4cdeda76-c42f-43d9-9b0b-b21e3f7ae647\" xlink:show=\"new\" xlink:title=\"psysml:4cdeda76-c42f-43d9-9b0b-b21e3f7ae647\" xlink:type=\"simple\"><path d=\"M158.06,107 C170.75,107 184.42,107 197.23,107 \" fill=\"none\" id=\"E5-&gt;E3\" style=\"stroke: #383838; stroke-width: 1.0;\"/><polygon fill=\"#FFFFFF\" points=\"217.67,107,198.67,114,198.67,100,217.67,107\" style=\"stroke: #383838; stroke-width: 1.0;\"/><ellipse cx=\"192.97\" cy=\"112\" fill=\"#383838\" rx=\"2\" ry=\"2\" style=\"stroke: #383838; stroke-width: 1.0;\"/><ellipse cx=\"192.97\" cy=\"102\" fill=\"#383838\" rx=\"2\" ry=\"2\" style=\"stroke: #383838; stroke-width: 1.0;\"/></a><!--MD5=[2912118c656b6656d51a55be02022be2]\n",
       "@startuml\r\n",
       "left to right direction\r\n",
       "skinparam monochrome true\r\n",
       "skinparam classbackgroundcolor white\r\n",
       "skinparam shadowing false\r\n",
       "skinparam wrapWidth 300\r\n",
       "hide circle\r\n",
       "\r\n",
       "package \"AliasImport\" as E1  [[psysml:4c778e7a-b929-42de-9fbe-71ac5f912e3c ]]  {\r\n",
       "package \"Definitions\" as E2  [[psysml:5f40b44b-bd87-468f-b109-35ffc9f78ab6 ]]  {\r\n",
       "comp def \"Vehicle\" as E3  <<(T,blue) part def>> [[psysml:1b4a97b7-4457-459f-aed1-97b0f48f7241 ]] {\r\n",
       "}\r\n",
       "}\r\n",
       "package \"Usages\" as E4  [[psysml:ea2bdd2c-ef7f-4fe4-8ff5-76ffc4616c11 ]]  {\r\n",
       "comp usage \"vehicle: Vehicle\" as E5  <<(T,blue) part>> [[psysml:ea5f8fdf-b305-409f-85bc-0024bea5295e ]] {\r\n",
       "}\r\n",
       "}\r\n",
       "}\r\n",
       "E5 - -:|> E3 [[psysml:4cdeda76-c42f-43d9-9b0b-b21e3f7ae647 ]] \r\n",
       "@enduml\r\n",
       "\n",
       "PlantUML version 1.2020.13(Sat Jun 13 12:26:38 UTC 2020)\n",
       "(EPL source distribution)\n",
       "Java Runtime: OpenJDK Runtime Environment\n",
       "JVM: OpenJDK 64-Bit Server VM\n",
       "Default Encoding: UTF-8\n",
       "Language: en\n",
       "Country: null\n",
       "--></g></svg>"
      ]
     },
     "execution_count": 17,
     "metadata": {},
     "output_type": "execute_result"
    }
   ],
   "source": [
    "%viz --style=\"LR\" --view=\"Tree\" \"AliasImport\""
   ]
  },
  {
   "cell_type": "code",
   "execution_count": 18,
   "id": "507ef3e6",
   "metadata": {
    "execution": {
     "iopub.execute_input": "2021-09-27T07:19:54.788362Z",
     "iopub.status.busy": "2021-09-27T07:19:54.787868Z",
     "iopub.status.idle": "2021-09-27T07:19:54.791649Z",
     "shell.execute_reply": "2021-09-27T07:19:54.791253Z"
    }
   },
   "outputs": [
    {
     "data": {
      "image/svg+xml": [
       "<?xml version=\"1.0\" encoding=\"UTF-8\" standalone=\"no\"?><svg xmlns=\"http://www.w3.org/2000/svg\" xmlns:xlink=\"http://www.w3.org/1999/xlink\" contentScriptType=\"application/ecmascript\" contentStyleType=\"text/css\" height=\"12px\" preserveAspectRatio=\"none\" style=\"width:12px;height:12px;\" version=\"1.1\" viewBox=\"0 0 12 12\" width=\"12px\" zoomAndPan=\"magnify\"><defs/><g><!--MD5=[19d285c9d72a204eba4e2cd117d745e8]\n",
       "@startuml\r\n",
       "left to right direction\r\n",
       "skinparam monochrome true\r\n",
       "skinparam classbackgroundcolor white\r\n",
       "skinparam shadowing false\r\n",
       "skinparam wrapWidth 300\r\n",
       "hide circle\r\n",
       "\r\n",
       "@enduml\r\n",
       "\n",
       "PlantUML version 1.2020.13(Sat Jun 13 12:26:38 UTC 2020)\n",
       "(EPL source distribution)\n",
       "Java Runtime: OpenJDK Runtime Environment\n",
       "JVM: OpenJDK 64-Bit Server VM\n",
       "Default Encoding: UTF-8\n",
       "Language: en\n",
       "Country: null\n",
       "--></g></svg>"
      ]
     },
     "execution_count": 18,
     "metadata": {},
     "output_type": "execute_result"
    }
   ],
   "source": [
    "%viz --style=\"LR\" --view=\"State\" \"AliasImport\""
   ]
  },
  {
   "cell_type": "code",
   "execution_count": 19,
   "id": "3ab497c6",
   "metadata": {
    "execution": {
     "iopub.execute_input": "2021-09-27T07:19:54.841947Z",
     "iopub.status.busy": "2021-09-27T07:19:54.841480Z",
     "iopub.status.idle": "2021-09-27T07:19:54.866075Z",
     "shell.execute_reply": "2021-09-27T07:19:54.865674Z"
    }
   },
   "outputs": [
    {
     "data": {
      "image/svg+xml": [
       "<?xml version=\"1.0\" encoding=\"UTF-8\" standalone=\"no\"?><svg xmlns=\"http://www.w3.org/2000/svg\" xmlns:xlink=\"http://www.w3.org/1999/xlink\" contentScriptType=\"application/ecmascript\" contentStyleType=\"text/css\" height=\"373px\" preserveAspectRatio=\"none\" style=\"width:225px;height:373px;\" version=\"1.1\" viewBox=\"0 0 225 373\" width=\"225px\" zoomAndPan=\"magnify\"><defs/><g><!--MD5=[fbc87193dbaf4d95561dea2c320d4a47]\n",
       "cluster E1--><a href=\"psysml:4c778e7a-b929-42de-9fbe-71ac5f912e3c\" target=\"_top\" title=\"psysml:4c778e7a-b929-42de-9fbe-71ac5f912e3c\" xlink:actuate=\"onRequest\" xlink:href=\"psysml:4c778e7a-b929-42de-9fbe-71ac5f912e3c\" xlink:show=\"new\" xlink:title=\"psysml:4c778e7a-b929-42de-9fbe-71ac5f912e3c\" xlink:type=\"simple\"><polygon fill=\"#FFFFFF\" points=\"16,6,97,6,104,28.2969,203,28.2969,203,361,16,361,16,6\" style=\"stroke: #000000; stroke-width: 1.5;\"/><line style=\"stroke: #000000; stroke-width: 1.5;\" x1=\"16\" x2=\"104\" y1=\"28.2969\" y2=\"28.2969\"/><text fill=\"#000000\" font-family=\"sans-serif\" font-size=\"14\" font-weight=\"bold\" lengthAdjust=\"spacingAndGlyphs\" textLength=\"75\" x=\"20\" y=\"20.9951\">AliasImport</text></a><!--MD5=[e4f7fae6ed58524ba242bb0b0d3be6b7]\n",
       "cluster E2--><a href=\"psysml:5f40b44b-bd87-468f-b109-35ffc9f78ab6\" target=\"_top\" title=\"psysml:5f40b44b-bd87-468f-b109-35ffc9f78ab6\" xlink:actuate=\"onRequest\" xlink:href=\"psysml:5f40b44b-bd87-468f-b109-35ffc9f78ab6\" xlink:show=\"new\" xlink:title=\"psysml:5f40b44b-bd87-468f-b109-35ffc9f78ab6\" xlink:type=\"simple\"><polygon fill=\"#FFFFFF\" points=\"58,49,137,49,144,71.2969,161,71.2969,161,222,58,222,58,49\" style=\"stroke: #000000; stroke-width: 1.5;\"/><line style=\"stroke: #000000; stroke-width: 1.5;\" x1=\"58\" x2=\"144\" y1=\"71.2969\" y2=\"71.2969\"/><text fill=\"#000000\" font-family=\"sans-serif\" font-size=\"14\" font-weight=\"bold\" lengthAdjust=\"spacingAndGlyphs\" textLength=\"73\" x=\"62\" y=\"63.9951\">Definitions</text></a><!--MD5=[de5ec2e2e8f62f467e546659f5068c88]\n",
       "cluster E5--><a href=\"psysml:ea2bdd2c-ef7f-4fe4-8ff5-76ffc4616c11\" target=\"_top\" title=\"psysml:ea2bdd2c-ef7f-4fe4-8ff5-76ffc4616c11\" xlink:actuate=\"onRequest\" xlink:href=\"psysml:ea2bdd2c-ef7f-4fe4-8ff5-76ffc4616c11\" xlink:show=\"new\" xlink:title=\"psysml:ea2bdd2c-ef7f-4fe4-8ff5-76ffc4616c11\" xlink:type=\"simple\"><polygon fill=\"#FFFFFF\" points=\"40,246,98,246,105,268.2969,179,268.2969,179,337,40,337,40,246\" style=\"stroke: #000000; stroke-width: 1.5;\"/><line style=\"stroke: #000000; stroke-width: 1.5;\" x1=\"40\" x2=\"105\" y1=\"268.2969\" y2=\"268.2969\"/><text fill=\"#000000\" font-family=\"sans-serif\" font-size=\"14\" font-weight=\"bold\" lengthAdjust=\"spacingAndGlyphs\" textLength=\"52\" x=\"44\" y=\"260.9951\">Usages</text></a><g id=\"E1.E2.E3\"><a href=\"psysml:1b4a97b7-4457-459f-aed1-97b0f48f7241\" target=\"_top\" title=\"psysml:1b4a97b7-4457-459f-aed1-97b0f48f7241\" xlink:actuate=\"onRequest\" xlink:href=\"psysml:1b4a97b7-4457-459f-aed1-97b0f48f7241\" xlink:show=\"new\" xlink:title=\"psysml:1b4a97b7-4457-459f-aed1-97b0f48f7241\" xlink:type=\"simple\"><rect fill=\"#FFFFFF\" height=\"42.9375\" id=\"E3\" style=\"stroke: #383838; stroke-width: 1.5;\" width=\"71\" x=\"74\" y=\"84.5\"/><rect fill=\"#F8F8F8\" height=\"37.9375\" style=\"stroke: #383838; stroke-width: 1.5;\" width=\"71\" x=\"74\" y=\"84.5\"/><text fill=\"#000000\" font-family=\"sans-serif\" font-size=\"12\" font-style=\"italic\" lengthAdjust=\"spacingAndGlyphs\" textLength=\"64\" x=\"77.5\" y=\"100.6387\">«part def»</text><text fill=\"#000000\" font-family=\"sans-serif\" font-size=\"12\" lengthAdjust=\"spacingAndGlyphs\" textLength=\"45\" x=\"87\" y=\"114.6074\">Vehicle</text></a></g><g id=\"E1.E2.E4\"><a href=\"psysml:1b4a97b7-4457-459f-aed1-97b0f48f7241\" target=\"_top\" title=\"psysml:1b4a97b7-4457-459f-aed1-97b0f48f7241\" xlink:actuate=\"onRequest\" xlink:href=\"psysml:1b4a97b7-4457-459f-aed1-97b0f48f7241\" xlink:show=\"new\" xlink:title=\"psysml:1b4a97b7-4457-459f-aed1-97b0f48f7241\" xlink:type=\"simple\"><rect fill=\"#FFFFFF\" height=\"42.9375\" id=\"E4\" style=\"stroke: #383838; stroke-width: 1.5;\" width=\"71\" x=\"74\" y=\"162.5\"/><rect fill=\"#F8F8F8\" height=\"37.9375\" style=\"stroke: #383838; stroke-width: 1.5;\" width=\"71\" x=\"74\" y=\"162.5\"/><text fill=\"#000000\" font-family=\"sans-serif\" font-size=\"12\" font-style=\"italic\" lengthAdjust=\"spacingAndGlyphs\" textLength=\"64\" x=\"77.5\" y=\"178.6387\">«part def»</text><text fill=\"#000000\" font-family=\"sans-serif\" font-size=\"12\" lengthAdjust=\"spacingAndGlyphs\" textLength=\"45\" x=\"87\" y=\"192.6074\">Vehicle</text></a></g><g id=\"E1.E5.E6\"><a href=\"psysml:ea5f8fdf-b305-409f-85bc-0024bea5295e\" target=\"_top\" title=\"psysml:ea5f8fdf-b305-409f-85bc-0024bea5295e\" xlink:actuate=\"onRequest\" xlink:href=\"psysml:ea5f8fdf-b305-409f-85bc-0024bea5295e\" xlink:show=\"new\" xlink:title=\"psysml:ea5f8fdf-b305-409f-85bc-0024bea5295e\" xlink:type=\"simple\"><rect fill=\"#FFFFFF\" height=\"40\" id=\"E6\" rx=\"10\" ry=\"10\" style=\"stroke: #383838; stroke-width: 1.5;\" width=\"107\" x=\"56\" y=\"281\"/><rect fill=\"#F8F8F8\" height=\"23.9688\" rx=\"10\" ry=\"10\" style=\"stroke: #F8F8F8; stroke-width: 1.5;\" width=\"107\" x=\"56\" y=\"281\"/><rect fill=\"#F8F8F8\" height=\"10\" style=\"stroke: #F8F8F8; stroke-width: 1.5;\" width=\"107\" x=\"56\" y=\"294.9688\"/><rect fill=\"none\" height=\"40\" id=\"E6\" rx=\"10\" ry=\"10\" style=\"stroke: #383838; stroke-width: 1.5;\" width=\"107\" x=\"56\" y=\"281\"/><text fill=\"#000000\" font-family=\"sans-serif\" font-size=\"12\" lengthAdjust=\"spacingAndGlyphs\" textLength=\"96\" x=\"61.5\" y=\"297.1387\">vehicle: Vehicle</text></a></g><!--MD5=[0edc6c01a8616eb37f8aa099be9f3f2f]\n",
       "@startuml\r\n",
       "skinparam ranksep 10\r\n",
       "skinparam rectangle {\r\n",
       " backgroundColor<<block>> LightGreen\r\n",
       "}\r\n",
       "left to right direction\r\n",
       "skinparam monochrome true\r\n",
       "skinparam classbackgroundcolor white\r\n",
       "skinparam shadowing false\r\n",
       "skinparam wrapWidth 300\r\n",
       "hide circle\r\n",
       "\r\n",
       "package \"AliasImport\" as E1  [[psysml:4c778e7a-b929-42de-9fbe-71ac5f912e3c ]]  {\r\n",
       "package \"Definitions\" as E2  [[psysml:5f40b44b-bd87-468f-b109-35ffc9f78ab6 ]]  {\r\n",
       "rec def \"Vehicle\" as E3  <<(T,blue) part def>> [[psysml:1b4a97b7-4457-459f-aed1-97b0f48f7241 ]] {\r\n",
       "}\r\n",
       "rec def \"Vehicle\" as E4  <<(T,blue) part def>> [[psysml:1b4a97b7-4457-459f-aed1-97b0f48f7241 ]] {\r\n",
       "}\r\n",
       "}\r\n",
       "package \"Usages\" as E5  [[psysml:ea2bdd2c-ef7f-4fe4-8ff5-76ffc4616c11 ]]  {\r\n",
       "rec usage \"vehicle: Vehicle\" as E6  [[psysml:ea5f8fdf-b305-409f-85bc-0024bea5295e ]] {\r\n",
       "}\r\n",
       "}\r\n",
       "}\r\n",
       "@enduml\r\n",
       "\n",
       "PlantUML version 1.2020.13(Sat Jun 13 12:26:38 UTC 2020)\n",
       "(EPL source distribution)\n",
       "Java Runtime: OpenJDK Runtime Environment\n",
       "JVM: OpenJDK 64-Bit Server VM\n",
       "Default Encoding: UTF-8\n",
       "Language: en\n",
       "Country: null\n",
       "--></g></svg>"
      ]
     },
     "execution_count": 19,
     "metadata": {},
     "output_type": "execute_result"
    }
   ],
   "source": [
    "%viz --style=\"LR\" --view=\"Interconnection\" \"AliasImport\""
   ]
  },
  {
   "cell_type": "code",
   "execution_count": 20,
   "id": "2028b751",
   "metadata": {
    "execution": {
     "iopub.execute_input": "2021-09-27T07:19:54.915335Z",
     "iopub.status.busy": "2021-09-27T07:19:54.914858Z",
     "iopub.status.idle": "2021-09-27T07:19:54.919834Z",
     "shell.execute_reply": "2021-09-27T07:19:54.920164Z"
    }
   },
   "outputs": [
    {
     "data": {
      "image/svg+xml": [
       "<?xml version=\"1.0\" encoding=\"UTF-8\" standalone=\"no\"?><svg xmlns=\"http://www.w3.org/2000/svg\" xmlns:xlink=\"http://www.w3.org/1999/xlink\" contentScriptType=\"application/ecmascript\" contentStyleType=\"text/css\" height=\"12px\" preserveAspectRatio=\"none\" style=\"width:12px;height:12px;\" version=\"1.1\" viewBox=\"0 0 12 12\" width=\"12px\" zoomAndPan=\"magnify\"><defs/><g><!--MD5=[7aeb398939421629f6affaa4a1a7b125]\n",
       "@startuml\r\n",
       "skinparam ranksep 8\r\n",
       "left to right direction\r\n",
       "skinparam monochrome true\r\n",
       "skinparam classbackgroundcolor white\r\n",
       "skinparam shadowing false\r\n",
       "skinparam wrapWidth 300\r\n",
       "hide circle\r\n",
       "\r\n",
       "@enduml\r\n",
       "\n",
       "PlantUML version 1.2020.13(Sat Jun 13 12:26:38 UTC 2020)\n",
       "(EPL source distribution)\n",
       "Java Runtime: OpenJDK Runtime Environment\n",
       "JVM: OpenJDK 64-Bit Server VM\n",
       "Default Encoding: UTF-8\n",
       "Language: en\n",
       "Country: null\n",
       "--></g></svg>"
      ]
     },
     "execution_count": 20,
     "metadata": {},
     "output_type": "execute_result"
    }
   ],
   "source": [
    "%viz --style=\"LR\" --view=\"Action\" \"AliasImport\""
   ]
  },
  {
   "cell_type": "code",
   "execution_count": 21,
   "id": "093c977a",
   "metadata": {
    "execution": {
     "iopub.execute_input": "2021-09-27T07:19:54.970584Z",
     "iopub.status.busy": "2021-09-27T07:19:54.970149Z",
     "iopub.status.idle": "2021-09-27T07:19:54.976088Z",
     "shell.execute_reply": "2021-09-27T07:19:54.976411Z"
    }
   },
   "outputs": [
    {
     "data": {
      "image/svg+xml": [
       "<?xml version=\"1.0\" encoding=\"UTF-8\" standalone=\"no\"?><svg xmlns=\"http://www.w3.org/2000/svg\" xmlns:xlink=\"http://www.w3.org/1999/xlink\" contentScriptType=\"application/ecmascript\" contentStyleType=\"text/css\" height=\"12px\" preserveAspectRatio=\"none\" style=\"width:12px;height:12px;\" version=\"1.1\" viewBox=\"0 0 12 12\" width=\"12px\" zoomAndPan=\"magnify\"><defs/><g><!--MD5=[238c11ea2002f03115ad6b49a457d50e]\n",
       "@startuml\r\n",
       "skinparam roundcorner 20\r\n",
       "skinparam BoxPadding 20\r\n",
       "skinparam SequenceBoxBackgroundColor #white\r\n",
       "skinparam style strictuml\r\n",
       "skinparam maxMessageSize 100\r\n",
       "left to right direction\r\n",
       "skinparam monochrome true\r\n",
       "skinparam classbackgroundcolor white\r\n",
       "skinparam shadowing false\r\n",
       "skinparam wrapWidth 300\r\n",
       "hide circle\r\n",
       "\r\n",
       "@enduml\r\n",
       "\n",
       "PlantUML version 1.2020.13(Sat Jun 13 12:26:38 UTC 2020)\n",
       "(EPL source distribution)\n",
       "Java Runtime: OpenJDK Runtime Environment\n",
       "JVM: OpenJDK 64-Bit Server VM\n",
       "Default Encoding: UTF-8\n",
       "Language: en\n",
       "Country: null\n",
       "--></g></svg>"
      ]
     },
     "execution_count": 21,
     "metadata": {},
     "output_type": "execute_result"
    }
   ],
   "source": [
    "%viz --style=\"LR\" --view=\"Sequence\" \"AliasImport\""
   ]
  },
  {
   "cell_type": "code",
   "execution_count": 22,
   "id": "2db03bfb",
   "metadata": {
    "execution": {
     "iopub.execute_input": "2021-09-27T07:19:55.026556Z",
     "iopub.status.busy": "2021-09-27T07:19:55.026130Z",
     "iopub.status.idle": "2021-09-27T07:19:55.054404Z",
     "shell.execute_reply": "2021-09-27T07:19:55.054037Z"
    }
   },
   "outputs": [
    {
     "data": {
      "image/svg+xml": [
       "<?xml version=\"1.0\" encoding=\"UTF-8\" standalone=\"no\"?><svg xmlns=\"http://www.w3.org/2000/svg\" xmlns:xlink=\"http://www.w3.org/1999/xlink\" contentScriptType=\"application/ecmascript\" contentStyleType=\"text/css\" height=\"182px\" preserveAspectRatio=\"none\" style=\"width:346px;height:182px;\" version=\"1.1\" viewBox=\"0 0 346 182\" width=\"346px\" zoomAndPan=\"magnify\"><defs/><g><!--MD5=[fbc87193dbaf4d95561dea2c320d4a47]\n",
       "cluster E1--><a href=\"psysml:4c778e7a-b929-42de-9fbe-71ac5f912e3c\" target=\"_top\" title=\"psysml:4c778e7a-b929-42de-9fbe-71ac5f912e3c\" xlink:actuate=\"onRequest\" xlink:href=\"psysml:4c778e7a-b929-42de-9fbe-71ac5f912e3c\" xlink:show=\"new\" xlink:title=\"psysml:4c778e7a-b929-42de-9fbe-71ac5f912e3c\" xlink:type=\"simple\"><polygon fill=\"#FFFFFF\" points=\"16,6,97,6,104,28.2969,324,28.2969,324,170,16,170,16,6\" style=\"stroke: #000000; stroke-width: 1.5;\"/><line style=\"stroke: #000000; stroke-width: 1.5;\" x1=\"16\" x2=\"104\" y1=\"28.2969\" y2=\"28.2969\"/><text fill=\"#000000\" font-family=\"sans-serif\" font-size=\"14\" font-weight=\"bold\" lengthAdjust=\"spacingAndGlyphs\" textLength=\"75\" x=\"20\" y=\"20.9951\">AliasImport</text></a><!--MD5=[e4f7fae6ed58524ba242bb0b0d3be6b7]\n",
       "cluster E2--><a href=\"psysml:5f40b44b-bd87-468f-b109-35ffc9f78ab6\" target=\"_top\" title=\"psysml:5f40b44b-bd87-468f-b109-35ffc9f78ab6\" xlink:actuate=\"onRequest\" xlink:href=\"psysml:5f40b44b-bd87-468f-b109-35ffc9f78ab6\" xlink:show=\"new\" xlink:title=\"psysml:5f40b44b-bd87-468f-b109-35ffc9f78ab6\" xlink:type=\"simple\"><polygon fill=\"#FFFFFF\" points=\"202,49,281,49,288,71.2969,300,71.2969,300,146,202,146,202,49\" style=\"stroke: #000000; stroke-width: 1.5;\"/><line style=\"stroke: #000000; stroke-width: 1.5;\" x1=\"202\" x2=\"288\" y1=\"71.2969\" y2=\"71.2969\"/><text fill=\"#000000\" font-family=\"sans-serif\" font-size=\"14\" font-weight=\"bold\" lengthAdjust=\"spacingAndGlyphs\" textLength=\"73\" x=\"206\" y=\"63.9951\">Definitions</text></a><!--MD5=[f6df4d0ebaf0b5dfb2ced0ae5af7c670]\n",
       "cluster E4--><a href=\"psysml:ea2bdd2c-ef7f-4fe4-8ff5-76ffc4616c11\" target=\"_top\" title=\"psysml:ea2bdd2c-ef7f-4fe4-8ff5-76ffc4616c11\" xlink:actuate=\"onRequest\" xlink:href=\"psysml:ea2bdd2c-ef7f-4fe4-8ff5-76ffc4616c11\" xlink:show=\"new\" xlink:title=\"psysml:ea2bdd2c-ef7f-4fe4-8ff5-76ffc4616c11\" xlink:type=\"simple\"><polygon fill=\"#FFFFFF\" points=\"40,49,98,49,105,71.2969,174,71.2969,174,146,40,146,40,49\" style=\"stroke: #000000; stroke-width: 1.5;\"/><line style=\"stroke: #000000; stroke-width: 1.5;\" x1=\"40\" x2=\"105\" y1=\"71.2969\" y2=\"71.2969\"/><text fill=\"#000000\" font-family=\"sans-serif\" font-size=\"14\" font-weight=\"bold\" lengthAdjust=\"spacingAndGlyphs\" textLength=\"52\" x=\"44\" y=\"63.9951\">Usages</text></a><!--MD5=[09b614a08d8cba4a07c9adeb5e0fee81]\n",
       "class E3--><a href=\"psysml:1b4a97b7-4457-459f-aed1-97b0f48f7241\" target=\"_top\" title=\"psysml:1b4a97b7-4457-459f-aed1-97b0f48f7241\" xlink:actuate=\"onRequest\" xlink:href=\"psysml:1b4a97b7-4457-459f-aed1-97b0f48f7241\" xlink:show=\"new\" xlink:title=\"psysml:1b4a97b7-4457-459f-aed1-97b0f48f7241\" xlink:type=\"simple\"><rect fill=\"#FFFFFF\" height=\"45.9375\" id=\"E3\" style=\"stroke: #383838; stroke-width: 1.5;\" width=\"66\" x=\"218\" y=\"84\"/><text fill=\"#000000\" font-family=\"sans-serif\" font-size=\"12\" font-style=\"italic\" lengthAdjust=\"spacingAndGlyphs\" textLength=\"64\" x=\"219\" y=\"100.1387\">«part def»</text><text fill=\"#000000\" font-family=\"sans-serif\" font-size=\"12\" lengthAdjust=\"spacingAndGlyphs\" textLength=\"45\" x=\"228.5\" y=\"114.1074\">Vehicle</text><line style=\"stroke: #383838; stroke-width: 1.5;\" x1=\"219\" x2=\"283\" y1=\"121.9375\" y2=\"121.9375\"/></a><!--MD5=[270fce915f116d4de14055a7c1d9a0f3]\n",
       "class E5--><a href=\"psysml:ea5f8fdf-b305-409f-85bc-0024bea5295e\" target=\"_top\" title=\"psysml:ea5f8fdf-b305-409f-85bc-0024bea5295e\" xlink:actuate=\"onRequest\" xlink:href=\"psysml:ea5f8fdf-b305-409f-85bc-0024bea5295e\" xlink:show=\"new\" xlink:title=\"psysml:ea5f8fdf-b305-409f-85bc-0024bea5295e\" xlink:type=\"simple\"><rect fill=\"#FFFFFF\" height=\"45.9375\" id=\"E5\" rx=\"10\" ry=\"10\" style=\"stroke: #383838; stroke-width: 1.5;\" width=\"102\" x=\"56\" y=\"84\"/><text fill=\"#000000\" font-family=\"sans-serif\" font-size=\"12\" font-style=\"italic\" lengthAdjust=\"spacingAndGlyphs\" textLength=\"40\" x=\"87\" y=\"100.1387\">«part»</text><text fill=\"#000000\" font-family=\"sans-serif\" font-size=\"12\" lengthAdjust=\"spacingAndGlyphs\" textLength=\"96\" x=\"59\" y=\"114.1074\">vehicle: Vehicle</text><line style=\"stroke: #383838; stroke-width: 1.5;\" x1=\"57\" x2=\"157\" y1=\"121.9375\" y2=\"121.9375\"/></a><!--MD5=[e9be52314489bd878ff4c7144b63c9e1]\n",
       "link E5 to E3--><a href=\"psysml:4cdeda76-c42f-43d9-9b0b-b21e3f7ae647\" target=\"_top\" title=\"psysml:4cdeda76-c42f-43d9-9b0b-b21e3f7ae647\" xlink:actuate=\"onRequest\" xlink:href=\"psysml:4cdeda76-c42f-43d9-9b0b-b21e3f7ae647\" xlink:show=\"new\" xlink:title=\"psysml:4cdeda76-c42f-43d9-9b0b-b21e3f7ae647\" xlink:type=\"simple\"><path d=\"M158.06,107 C170.75,107 184.42,107 197.23,107 \" fill=\"none\" id=\"E5-&gt;E3\" style=\"stroke: #383838; stroke-width: 1.0;\"/><polygon fill=\"#FFFFFF\" points=\"217.67,107,198.67,114,198.67,100,217.67,107\" style=\"stroke: #383838; stroke-width: 1.0;\"/><ellipse cx=\"192.97\" cy=\"112\" fill=\"#383838\" rx=\"2\" ry=\"2\" style=\"stroke: #383838; stroke-width: 1.0;\"/><ellipse cx=\"192.97\" cy=\"102\" fill=\"#383838\" rx=\"2\" ry=\"2\" style=\"stroke: #383838; stroke-width: 1.0;\"/></a><!--MD5=[2912118c656b6656d51a55be02022be2]\n",
       "@startuml\r\n",
       "left to right direction\r\n",
       "skinparam monochrome true\r\n",
       "skinparam classbackgroundcolor white\r\n",
       "skinparam shadowing false\r\n",
       "skinparam wrapWidth 300\r\n",
       "hide circle\r\n",
       "\r\n",
       "package \"AliasImport\" as E1  [[psysml:4c778e7a-b929-42de-9fbe-71ac5f912e3c ]]  {\r\n",
       "package \"Definitions\" as E2  [[psysml:5f40b44b-bd87-468f-b109-35ffc9f78ab6 ]]  {\r\n",
       "comp def \"Vehicle\" as E3  <<(T,blue) part def>> [[psysml:1b4a97b7-4457-459f-aed1-97b0f48f7241 ]] {\r\n",
       "}\r\n",
       "}\r\n",
       "package \"Usages\" as E4  [[psysml:ea2bdd2c-ef7f-4fe4-8ff5-76ffc4616c11 ]]  {\r\n",
       "comp usage \"vehicle: Vehicle\" as E5  <<(T,blue) part>> [[psysml:ea5f8fdf-b305-409f-85bc-0024bea5295e ]] {\r\n",
       "}\r\n",
       "}\r\n",
       "}\r\n",
       "E5 - -:|> E3 [[psysml:4cdeda76-c42f-43d9-9b0b-b21e3f7ae647 ]] \r\n",
       "@enduml\r\n",
       "\n",
       "PlantUML version 1.2020.13(Sat Jun 13 12:26:38 UTC 2020)\n",
       "(EPL source distribution)\n",
       "Java Runtime: OpenJDK Runtime Environment\n",
       "JVM: OpenJDK 64-Bit Server VM\n",
       "Default Encoding: UTF-8\n",
       "Language: en\n",
       "Country: null\n",
       "--></g></svg>"
      ]
     },
     "execution_count": 22,
     "metadata": {},
     "output_type": "execute_result"
    }
   ],
   "source": [
    "%viz --style=\"LR\" --view=\"MIXED\" \"AliasImport\""
   ]
  },
  {
   "cell_type": "code",
   "execution_count": 23,
   "id": "bba2c7a8",
   "metadata": {
    "execution": {
     "iopub.execute_input": "2021-09-27T07:19:55.104162Z",
     "iopub.status.busy": "2021-09-27T07:19:55.103738Z",
     "iopub.status.idle": "2021-09-27T07:19:55.127170Z",
     "shell.execute_reply": "2021-09-27T07:19:55.125907Z"
    }
   },
   "outputs": [
    {
     "data": {
      "image/svg+xml": [
       "<?xml version=\"1.0\" encoding=\"UTF-8\" standalone=\"no\"?><svg xmlns=\"http://www.w3.org/2000/svg\" xmlns:xlink=\"http://www.w3.org/1999/xlink\" contentScriptType=\"application/ecmascript\" contentStyleType=\"text/css\" height=\"303px\" preserveAspectRatio=\"none\" style=\"width:220px;height:303px;\" version=\"1.1\" viewBox=\"0 0 220 303\" width=\"220px\" zoomAndPan=\"magnify\"><defs><filter height=\"300%\" id=\"f50hm0sz2g3u4\" width=\"300%\" x=\"-1\" y=\"-1\"><feGaussianBlur result=\"blurOut\" stdDeviation=\"2.0\"/><feColorMatrix in=\"blurOut\" result=\"blurOut2\" type=\"matrix\" values=\"0 0 0 0 0 0 0 0 0 0 0 0 0 0 0 0 0 0 .4 0\"/><feOffset dx=\"4.0\" dy=\"4.0\" in=\"blurOut2\" result=\"blurOut3\"/><feBlend in=\"SourceGraphic\" in2=\"blurOut3\" mode=\"normal\"/></filter></defs><g><!--MD5=[fbc87193dbaf4d95561dea2c320d4a47]\n",
       "cluster E1--><a href=\"psysml:4c778e7a-b929-42de-9fbe-71ac5f912e3c\" target=\"_top\" title=\"psysml:4c778e7a-b929-42de-9fbe-71ac5f912e3c\" xlink:actuate=\"onRequest\" xlink:href=\"psysml:4c778e7a-b929-42de-9fbe-71ac5f912e3c\" xlink:show=\"new\" xlink:title=\"psysml:4c778e7a-b929-42de-9fbe-71ac5f912e3c\" xlink:type=\"simple\"><polygon fill=\"#FFFFFF\" filter=\"url(#f50hm0sz2g3u4)\" points=\"16,6,97,6,104,28.2969,198,28.2969,198,291,16,291,16,6\" style=\"stroke: #000000; stroke-width: 1.5;\"/><line style=\"stroke: #000000; stroke-width: 1.5;\" x1=\"16\" x2=\"104\" y1=\"28.2969\" y2=\"28.2969\"/><text fill=\"#000000\" font-family=\"sans-serif\" font-size=\"14\" font-weight=\"bold\" lengthAdjust=\"spacingAndGlyphs\" textLength=\"75\" x=\"20\" y=\"20.9951\">AliasImport</text></a><!--MD5=[e4f7fae6ed58524ba242bb0b0d3be6b7]\n",
       "cluster E2--><a href=\"psysml:5f40b44b-bd87-468f-b109-35ffc9f78ab6\" target=\"_top\" title=\"psysml:5f40b44b-bd87-468f-b109-35ffc9f78ab6\" xlink:actuate=\"onRequest\" xlink:href=\"psysml:5f40b44b-bd87-468f-b109-35ffc9f78ab6\" xlink:show=\"new\" xlink:title=\"psysml:5f40b44b-bd87-468f-b109-35ffc9f78ab6\" xlink:type=\"simple\"><polygon fill=\"#FFFFFF\" filter=\"url(#f50hm0sz2g3u4)\" points=\"58,170,137,170,144,192.2969,156,192.2969,156,267,58,267,58,170\" style=\"stroke: #000000; stroke-width: 1.5;\"/><line style=\"stroke: #000000; stroke-width: 1.5;\" x1=\"58\" x2=\"144\" y1=\"192.2969\" y2=\"192.2969\"/><text fill=\"#000000\" font-family=\"sans-serif\" font-size=\"14\" font-weight=\"bold\" lengthAdjust=\"spacingAndGlyphs\" textLength=\"73\" x=\"62\" y=\"184.9951\">Definitions</text></a><!--MD5=[f6df4d0ebaf0b5dfb2ced0ae5af7c670]\n",
       "cluster E4--><a href=\"psysml:ea2bdd2c-ef7f-4fe4-8ff5-76ffc4616c11\" target=\"_top\" title=\"psysml:ea2bdd2c-ef7f-4fe4-8ff5-76ffc4616c11\" xlink:actuate=\"onRequest\" xlink:href=\"psysml:ea2bdd2c-ef7f-4fe4-8ff5-76ffc4616c11\" xlink:show=\"new\" xlink:title=\"psysml:ea2bdd2c-ef7f-4fe4-8ff5-76ffc4616c11\" xlink:type=\"simple\"><polygon fill=\"#FFFFFF\" filter=\"url(#f50hm0sz2g3u4)\" points=\"40,49,98,49,105,71.2969,174,71.2969,174,146,40,146,40,49\" style=\"stroke: #000000; stroke-width: 1.5;\"/><line style=\"stroke: #000000; stroke-width: 1.5;\" x1=\"40\" x2=\"105\" y1=\"71.2969\" y2=\"71.2969\"/><text fill=\"#000000\" font-family=\"sans-serif\" font-size=\"14\" font-weight=\"bold\" lengthAdjust=\"spacingAndGlyphs\" textLength=\"52\" x=\"44\" y=\"63.9951\">Usages</text></a><!--MD5=[09b614a08d8cba4a07c9adeb5e0fee81]\n",
       "class E3--><a href=\"psysml:1b4a97b7-4457-459f-aed1-97b0f48f7241\" target=\"_top\" title=\"psysml:1b4a97b7-4457-459f-aed1-97b0f48f7241\" xlink:actuate=\"onRequest\" xlink:href=\"psysml:1b4a97b7-4457-459f-aed1-97b0f48f7241\" xlink:show=\"new\" xlink:title=\"psysml:1b4a97b7-4457-459f-aed1-97b0f48f7241\" xlink:type=\"simple\"><rect fill=\"#FEFECE\" filter=\"url(#f50hm0sz2g3u4)\" height=\"45.9375\" id=\"E3\" style=\"stroke: #A80036; stroke-width: 1.5;\" width=\"66\" x=\"74\" y=\"205\"/><text fill=\"#000000\" font-family=\"sans-serif\" font-size=\"12\" font-style=\"italic\" lengthAdjust=\"spacingAndGlyphs\" textLength=\"64\" x=\"75\" y=\"221.1387\">«part def»</text><text fill=\"#000000\" font-family=\"sans-serif\" font-size=\"12\" lengthAdjust=\"spacingAndGlyphs\" textLength=\"45\" x=\"84.5\" y=\"235.1074\">Vehicle</text><line style=\"stroke: #A80036; stroke-width: 1.5;\" x1=\"75\" x2=\"139\" y1=\"242.9375\" y2=\"242.9375\"/></a><!--MD5=[270fce915f116d4de14055a7c1d9a0f3]\n",
       "class E5--><a href=\"psysml:ea5f8fdf-b305-409f-85bc-0024bea5295e\" target=\"_top\" title=\"psysml:ea5f8fdf-b305-409f-85bc-0024bea5295e\" xlink:actuate=\"onRequest\" xlink:href=\"psysml:ea5f8fdf-b305-409f-85bc-0024bea5295e\" xlink:show=\"new\" xlink:title=\"psysml:ea5f8fdf-b305-409f-85bc-0024bea5295e\" xlink:type=\"simple\"><rect fill=\"#FEFECE\" filter=\"url(#f50hm0sz2g3u4)\" height=\"45.9375\" id=\"E5\" rx=\"10\" ry=\"10\" style=\"stroke: #A80036; stroke-width: 1.5;\" width=\"102\" x=\"56\" y=\"84\"/><text fill=\"#000000\" font-family=\"sans-serif\" font-size=\"12\" font-style=\"italic\" lengthAdjust=\"spacingAndGlyphs\" textLength=\"40\" x=\"87\" y=\"100.1387\">«part»</text><text fill=\"#000000\" font-family=\"sans-serif\" font-size=\"12\" lengthAdjust=\"spacingAndGlyphs\" textLength=\"96\" x=\"59\" y=\"114.1074\">vehicle: Vehicle</text><line style=\"stroke: #A80036; stroke-width: 1.5;\" x1=\"57\" x2=\"157\" y1=\"121.9375\" y2=\"121.9375\"/></a><!--MD5=[e9be52314489bd878ff4c7144b63c9e1]\n",
       "link E5 to E3--><a href=\"psysml:4cdeda76-c42f-43d9-9b0b-b21e3f7ae647\" target=\"_top\" title=\"psysml:4cdeda76-c42f-43d9-9b0b-b21e3f7ae647\" xlink:actuate=\"onRequest\" xlink:href=\"psysml:4cdeda76-c42f-43d9-9b0b-b21e3f7ae647\" xlink:show=\"new\" xlink:title=\"psysml:4cdeda76-c42f-43d9-9b0b-b21e3f7ae647\" xlink:type=\"simple\"><path d=\"M107,130.1 C107,145.37 107,166.16 107,184.57 \" fill=\"none\" id=\"E5-&gt;E3\" style=\"stroke: #A80036; stroke-width: 1.0;\"/><polygon fill=\"#FFFFFF\" points=\"107,204.61,100,185.61,114,185.61,107,204.61\" style=\"stroke: #A80036; stroke-width: 1.0;\"/><ellipse cx=\"102\" cy=\"179.91\" fill=\"#A80036\" rx=\"2\" ry=\"2\" style=\"stroke: #A80036; stroke-width: 1.0;\"/><ellipse cx=\"112\" cy=\"179.91\" fill=\"#A80036\" rx=\"2\" ry=\"2\" style=\"stroke: #A80036; stroke-width: 1.0;\"/></a><!--MD5=[12ab94e836d43c49f47cbb60bdcc3dce]\n",
       "@startuml\r\n",
       "skinparam wrapWidth 300\r\n",
       "hide circle\r\n",
       "\r\n",
       "package \"AliasImport\" as E1  [[psysml:4c778e7a-b929-42de-9fbe-71ac5f912e3c ]]  {\r\n",
       "package \"Definitions\" as E2  [[psysml:5f40b44b-bd87-468f-b109-35ffc9f78ab6 ]]  {\r\n",
       "comp def \"Vehicle\" as E3  <<(T,blue) part def>> [[psysml:1b4a97b7-4457-459f-aed1-97b0f48f7241 ]] {\r\n",
       "}\r\n",
       "}\r\n",
       "package \"Usages\" as E4  [[psysml:ea2bdd2c-ef7f-4fe4-8ff5-76ffc4616c11 ]]  {\r\n",
       "comp usage \"vehicle: Vehicle\" as E5  <<(T,blue) part>> [[psysml:ea5f8fdf-b305-409f-85bc-0024bea5295e ]] {\r\n",
       "}\r\n",
       "}\r\n",
       "}\r\n",
       "E5 - -:|> E3 [[psysml:4cdeda76-c42f-43d9-9b0b-b21e3f7ae647 ]] \r\n",
       "@enduml\r\n",
       "\n",
       "PlantUML version 1.2020.13(Sat Jun 13 12:26:38 UTC 2020)\n",
       "(EPL source distribution)\n",
       "Java Runtime: OpenJDK Runtime Environment\n",
       "JVM: OpenJDK 64-Bit Server VM\n",
       "Default Encoding: UTF-8\n",
       "Language: en\n",
       "Country: null\n",
       "--></g></svg>"
      ]
     },
     "execution_count": 23,
     "metadata": {},
     "output_type": "execute_result"
    }
   ],
   "source": [
    "%viz --style=\"STDCOLOR\" --view=\"Default\" \"AliasImport\""
   ]
  },
  {
   "cell_type": "code",
   "execution_count": 24,
   "id": "49102d3e",
   "metadata": {
    "execution": {
     "iopub.execute_input": "2021-09-27T07:19:55.176891Z",
     "iopub.status.busy": "2021-09-27T07:19:55.176464Z",
     "iopub.status.idle": "2021-09-27T07:19:55.206309Z",
     "shell.execute_reply": "2021-09-27T07:19:55.205037Z"
    }
   },
   "outputs": [
    {
     "data": {
      "image/svg+xml": [
       "<?xml version=\"1.0\" encoding=\"UTF-8\" standalone=\"no\"?><svg xmlns=\"http://www.w3.org/2000/svg\" xmlns:xlink=\"http://www.w3.org/1999/xlink\" contentScriptType=\"application/ecmascript\" contentStyleType=\"text/css\" height=\"303px\" preserveAspectRatio=\"none\" style=\"width:220px;height:303px;\" version=\"1.1\" viewBox=\"0 0 220 303\" width=\"220px\" zoomAndPan=\"magnify\"><defs><filter height=\"300%\" id=\"f50hm0sz2g3u4\" width=\"300%\" x=\"-1\" y=\"-1\"><feGaussianBlur result=\"blurOut\" stdDeviation=\"2.0\"/><feColorMatrix in=\"blurOut\" result=\"blurOut2\" type=\"matrix\" values=\"0 0 0 0 0 0 0 0 0 0 0 0 0 0 0 0 0 0 .4 0\"/><feOffset dx=\"4.0\" dy=\"4.0\" in=\"blurOut2\" result=\"blurOut3\"/><feBlend in=\"SourceGraphic\" in2=\"blurOut3\" mode=\"normal\"/></filter></defs><g><!--MD5=[fbc87193dbaf4d95561dea2c320d4a47]\n",
       "cluster E1--><a href=\"psysml:4c778e7a-b929-42de-9fbe-71ac5f912e3c\" target=\"_top\" title=\"psysml:4c778e7a-b929-42de-9fbe-71ac5f912e3c\" xlink:actuate=\"onRequest\" xlink:href=\"psysml:4c778e7a-b929-42de-9fbe-71ac5f912e3c\" xlink:show=\"new\" xlink:title=\"psysml:4c778e7a-b929-42de-9fbe-71ac5f912e3c\" xlink:type=\"simple\"><polygon fill=\"#FFFFFF\" filter=\"url(#f50hm0sz2g3u4)\" points=\"16,6,97,6,104,28.2969,198,28.2969,198,291,16,291,16,6\" style=\"stroke: #000000; stroke-width: 1.5;\"/><line style=\"stroke: #000000; stroke-width: 1.5;\" x1=\"16\" x2=\"104\" y1=\"28.2969\" y2=\"28.2969\"/><text fill=\"#000000\" font-family=\"sans-serif\" font-size=\"14\" font-weight=\"bold\" lengthAdjust=\"spacingAndGlyphs\" textLength=\"75\" x=\"20\" y=\"20.9951\">AliasImport</text></a><!--MD5=[e4f7fae6ed58524ba242bb0b0d3be6b7]\n",
       "cluster E2--><a href=\"psysml:5f40b44b-bd87-468f-b109-35ffc9f78ab6\" target=\"_top\" title=\"psysml:5f40b44b-bd87-468f-b109-35ffc9f78ab6\" xlink:actuate=\"onRequest\" xlink:href=\"psysml:5f40b44b-bd87-468f-b109-35ffc9f78ab6\" xlink:show=\"new\" xlink:title=\"psysml:5f40b44b-bd87-468f-b109-35ffc9f78ab6\" xlink:type=\"simple\"><polygon fill=\"#FFFFFF\" filter=\"url(#f50hm0sz2g3u4)\" points=\"58,170,137,170,144,192.2969,156,192.2969,156,267,58,267,58,170\" style=\"stroke: #000000; stroke-width: 1.5;\"/><line style=\"stroke: #000000; stroke-width: 1.5;\" x1=\"58\" x2=\"144\" y1=\"192.2969\" y2=\"192.2969\"/><text fill=\"#000000\" font-family=\"sans-serif\" font-size=\"14\" font-weight=\"bold\" lengthAdjust=\"spacingAndGlyphs\" textLength=\"73\" x=\"62\" y=\"184.9951\">Definitions</text></a><!--MD5=[f6df4d0ebaf0b5dfb2ced0ae5af7c670]\n",
       "cluster E4--><a href=\"psysml:ea2bdd2c-ef7f-4fe4-8ff5-76ffc4616c11\" target=\"_top\" title=\"psysml:ea2bdd2c-ef7f-4fe4-8ff5-76ffc4616c11\" xlink:actuate=\"onRequest\" xlink:href=\"psysml:ea2bdd2c-ef7f-4fe4-8ff5-76ffc4616c11\" xlink:show=\"new\" xlink:title=\"psysml:ea2bdd2c-ef7f-4fe4-8ff5-76ffc4616c11\" xlink:type=\"simple\"><polygon fill=\"#FFFFFF\" filter=\"url(#f50hm0sz2g3u4)\" points=\"40,49,98,49,105,71.2969,174,71.2969,174,146,40,146,40,49\" style=\"stroke: #000000; stroke-width: 1.5;\"/><line style=\"stroke: #000000; stroke-width: 1.5;\" x1=\"40\" x2=\"105\" y1=\"71.2969\" y2=\"71.2969\"/><text fill=\"#000000\" font-family=\"sans-serif\" font-size=\"14\" font-weight=\"bold\" lengthAdjust=\"spacingAndGlyphs\" textLength=\"52\" x=\"44\" y=\"63.9951\">Usages</text></a><!--MD5=[09b614a08d8cba4a07c9adeb5e0fee81]\n",
       "class E3--><a href=\"psysml:1b4a97b7-4457-459f-aed1-97b0f48f7241\" target=\"_top\" title=\"psysml:1b4a97b7-4457-459f-aed1-97b0f48f7241\" xlink:actuate=\"onRequest\" xlink:href=\"psysml:1b4a97b7-4457-459f-aed1-97b0f48f7241\" xlink:show=\"new\" xlink:title=\"psysml:1b4a97b7-4457-459f-aed1-97b0f48f7241\" xlink:type=\"simple\"><rect fill=\"#FEFECE\" filter=\"url(#f50hm0sz2g3u4)\" height=\"45.9375\" id=\"E3\" style=\"stroke: #A80036; stroke-width: 1.5;\" width=\"66\" x=\"74\" y=\"205\"/><text fill=\"#000000\" font-family=\"sans-serif\" font-size=\"12\" font-style=\"italic\" lengthAdjust=\"spacingAndGlyphs\" textLength=\"64\" x=\"75\" y=\"221.1387\">«part def»</text><text fill=\"#000000\" font-family=\"sans-serif\" font-size=\"12\" lengthAdjust=\"spacingAndGlyphs\" textLength=\"45\" x=\"84.5\" y=\"235.1074\">Vehicle</text><line style=\"stroke: #A80036; stroke-width: 1.5;\" x1=\"75\" x2=\"139\" y1=\"242.9375\" y2=\"242.9375\"/></a><!--MD5=[270fce915f116d4de14055a7c1d9a0f3]\n",
       "class E5--><a href=\"psysml:ea5f8fdf-b305-409f-85bc-0024bea5295e\" target=\"_top\" title=\"psysml:ea5f8fdf-b305-409f-85bc-0024bea5295e\" xlink:actuate=\"onRequest\" xlink:href=\"psysml:ea5f8fdf-b305-409f-85bc-0024bea5295e\" xlink:show=\"new\" xlink:title=\"psysml:ea5f8fdf-b305-409f-85bc-0024bea5295e\" xlink:type=\"simple\"><rect fill=\"#FEFECE\" filter=\"url(#f50hm0sz2g3u4)\" height=\"45.9375\" id=\"E5\" rx=\"10\" ry=\"10\" style=\"stroke: #A80036; stroke-width: 1.5;\" width=\"102\" x=\"56\" y=\"84\"/><text fill=\"#000000\" font-family=\"sans-serif\" font-size=\"12\" font-style=\"italic\" lengthAdjust=\"spacingAndGlyphs\" textLength=\"40\" x=\"87\" y=\"100.1387\">«part»</text><text fill=\"#000000\" font-family=\"sans-serif\" font-size=\"12\" lengthAdjust=\"spacingAndGlyphs\" textLength=\"96\" x=\"59\" y=\"114.1074\">vehicle: Vehicle</text><line style=\"stroke: #A80036; stroke-width: 1.5;\" x1=\"57\" x2=\"157\" y1=\"121.9375\" y2=\"121.9375\"/></a><!--MD5=[e9be52314489bd878ff4c7144b63c9e1]\n",
       "link E5 to E3--><a href=\"psysml:4cdeda76-c42f-43d9-9b0b-b21e3f7ae647\" target=\"_top\" title=\"psysml:4cdeda76-c42f-43d9-9b0b-b21e3f7ae647\" xlink:actuate=\"onRequest\" xlink:href=\"psysml:4cdeda76-c42f-43d9-9b0b-b21e3f7ae647\" xlink:show=\"new\" xlink:title=\"psysml:4cdeda76-c42f-43d9-9b0b-b21e3f7ae647\" xlink:type=\"simple\"><path d=\"M107,130.1 C107,145.37 107,166.16 107,184.57 \" fill=\"none\" id=\"E5-&gt;E3\" style=\"stroke: #A80036; stroke-width: 1.0;\"/><polygon fill=\"#FFFFFF\" points=\"107,204.61,100,185.61,114,185.61,107,204.61\" style=\"stroke: #A80036; stroke-width: 1.0;\"/><ellipse cx=\"102\" cy=\"179.91\" fill=\"#A80036\" rx=\"2\" ry=\"2\" style=\"stroke: #A80036; stroke-width: 1.0;\"/><ellipse cx=\"112\" cy=\"179.91\" fill=\"#A80036\" rx=\"2\" ry=\"2\" style=\"stroke: #A80036; stroke-width: 1.0;\"/></a><!--MD5=[12ab94e836d43c49f47cbb60bdcc3dce]\n",
       "@startuml\r\n",
       "skinparam wrapWidth 300\r\n",
       "hide circle\r\n",
       "\r\n",
       "package \"AliasImport\" as E1  [[psysml:4c778e7a-b929-42de-9fbe-71ac5f912e3c ]]  {\r\n",
       "package \"Definitions\" as E2  [[psysml:5f40b44b-bd87-468f-b109-35ffc9f78ab6 ]]  {\r\n",
       "comp def \"Vehicle\" as E3  <<(T,blue) part def>> [[psysml:1b4a97b7-4457-459f-aed1-97b0f48f7241 ]] {\r\n",
       "}\r\n",
       "}\r\n",
       "package \"Usages\" as E4  [[psysml:ea2bdd2c-ef7f-4fe4-8ff5-76ffc4616c11 ]]  {\r\n",
       "comp usage \"vehicle: Vehicle\" as E5  <<(T,blue) part>> [[psysml:ea5f8fdf-b305-409f-85bc-0024bea5295e ]] {\r\n",
       "}\r\n",
       "}\r\n",
       "}\r\n",
       "E5 - -:|> E3 [[psysml:4cdeda76-c42f-43d9-9b0b-b21e3f7ae647 ]] \r\n",
       "@enduml\r\n",
       "\n",
       "PlantUML version 1.2020.13(Sat Jun 13 12:26:38 UTC 2020)\n",
       "(EPL source distribution)\n",
       "Java Runtime: OpenJDK Runtime Environment\n",
       "JVM: OpenJDK 64-Bit Server VM\n",
       "Default Encoding: UTF-8\n",
       "Language: en\n",
       "Country: null\n",
       "--></g></svg>"
      ]
     },
     "execution_count": 24,
     "metadata": {},
     "output_type": "execute_result"
    }
   ],
   "source": [
    "%viz --style=\"STDCOLOR\" --view=\"Tree\" \"AliasImport\""
   ]
  },
  {
   "cell_type": "code",
   "execution_count": 25,
   "id": "7658ee80",
   "metadata": {
    "execution": {
     "iopub.execute_input": "2021-09-27T07:19:55.255826Z",
     "iopub.status.busy": "2021-09-27T07:19:55.255402Z",
     "iopub.status.idle": "2021-09-27T07:19:55.258587Z",
     "shell.execute_reply": "2021-09-27T07:19:55.258230Z"
    }
   },
   "outputs": [
    {
     "data": {
      "image/svg+xml": [
       "<?xml version=\"1.0\" encoding=\"UTF-8\" standalone=\"no\"?><svg xmlns=\"http://www.w3.org/2000/svg\" xmlns:xlink=\"http://www.w3.org/1999/xlink\" contentScriptType=\"application/ecmascript\" contentStyleType=\"text/css\" height=\"12px\" preserveAspectRatio=\"none\" style=\"width:12px;height:12px;\" version=\"1.1\" viewBox=\"0 0 12 12\" width=\"12px\" zoomAndPan=\"magnify\"><defs/><g><!--MD5=[aeeef50f102b80d730deb6443d14f702]\n",
       "@startuml\r\n",
       "skinparam wrapWidth 300\r\n",
       "hide circle\r\n",
       "\r\n",
       "@enduml\r\n",
       "\n",
       "PlantUML version 1.2020.13(Sat Jun 13 12:26:38 UTC 2020)\n",
       "(EPL source distribution)\n",
       "Java Runtime: OpenJDK Runtime Environment\n",
       "JVM: OpenJDK 64-Bit Server VM\n",
       "Default Encoding: UTF-8\n",
       "Language: en\n",
       "Country: null\n",
       "--></g></svg>"
      ]
     },
     "execution_count": 25,
     "metadata": {},
     "output_type": "execute_result"
    }
   ],
   "source": [
    "%viz --style=\"STDCOLOR\" --view=\"State\" \"AliasImport\""
   ]
  },
  {
   "cell_type": "code",
   "execution_count": 26,
   "id": "d71b4d60",
   "metadata": {
    "execution": {
     "iopub.execute_input": "2021-09-27T07:19:55.308526Z",
     "iopub.status.busy": "2021-09-27T07:19:55.308099Z",
     "iopub.status.idle": "2021-09-27T07:19:55.337731Z",
     "shell.execute_reply": "2021-09-27T07:19:55.336348Z"
    }
   },
   "outputs": [
    {
     "data": {
      "image/svg+xml": [
       "<?xml version=\"1.0\" encoding=\"UTF-8\" standalone=\"no\"?><svg xmlns=\"http://www.w3.org/2000/svg\" xmlns:xlink=\"http://www.w3.org/1999/xlink\" contentScriptType=\"application/ecmascript\" contentStyleType=\"text/css\" height=\"179px\" preserveAspectRatio=\"none\" style=\"width:458px;height:179px;\" version=\"1.1\" viewBox=\"0 0 458 179\" width=\"458px\" zoomAndPan=\"magnify\"><defs><filter height=\"300%\" id=\"fzcg0kscq4u9s\" width=\"300%\" x=\"-1\" y=\"-1\"><feGaussianBlur result=\"blurOut\" stdDeviation=\"2.0\"/><feColorMatrix in=\"blurOut\" result=\"blurOut2\" type=\"matrix\" values=\"0 0 0 0 0 0 0 0 0 0 0 0 0 0 0 0 0 0 .4 0\"/><feOffset dx=\"4.0\" dy=\"4.0\" in=\"blurOut2\" result=\"blurOut3\"/><feBlend in=\"SourceGraphic\" in2=\"blurOut3\" mode=\"normal\"/></filter></defs><g><!--MD5=[fbc87193dbaf4d95561dea2c320d4a47]\n",
       "cluster E1--><a href=\"psysml:4c778e7a-b929-42de-9fbe-71ac5f912e3c\" target=\"_top\" title=\"psysml:4c778e7a-b929-42de-9fbe-71ac5f912e3c\" xlink:actuate=\"onRequest\" xlink:href=\"psysml:4c778e7a-b929-42de-9fbe-71ac5f912e3c\" xlink:show=\"new\" xlink:title=\"psysml:4c778e7a-b929-42de-9fbe-71ac5f912e3c\" xlink:type=\"simple\"><polygon fill=\"#FFFFFF\" filter=\"url(#fzcg0kscq4u9s)\" points=\"16,6,97,6,104,28.2969,436,28.2969,436,167,16,167,16,6\" style=\"stroke: #000000; stroke-width: 1.5;\"/><line style=\"stroke: #000000; stroke-width: 1.5;\" x1=\"16\" x2=\"104\" y1=\"28.2969\" y2=\"28.2969\"/><text fill=\"#000000\" font-family=\"sans-serif\" font-size=\"14\" font-weight=\"bold\" lengthAdjust=\"spacingAndGlyphs\" textLength=\"75\" x=\"20\" y=\"20.9951\">AliasImport</text></a><!--MD5=[e4f7fae6ed58524ba242bb0b0d3be6b7]\n",
       "cluster E2--><a href=\"psysml:5f40b44b-bd87-468f-b109-35ffc9f78ab6\" target=\"_top\" title=\"psysml:5f40b44b-bd87-468f-b109-35ffc9f78ab6\" xlink:actuate=\"onRequest\" xlink:href=\"psysml:5f40b44b-bd87-468f-b109-35ffc9f78ab6\" xlink:show=\"new\" xlink:title=\"psysml:5f40b44b-bd87-468f-b109-35ffc9f78ab6\" xlink:type=\"simple\"><polygon fill=\"#FFFFFF\" filter=\"url(#fzcg0kscq4u9s)\" points=\"202,49,281,49,288,71.2969,412,71.2969,412,143,202,143,202,49\" style=\"stroke: #000000; stroke-width: 1.5;\"/><line style=\"stroke: #000000; stroke-width: 1.5;\" x1=\"202\" x2=\"288\" y1=\"71.2969\" y2=\"71.2969\"/><text fill=\"#000000\" font-family=\"sans-serif\" font-size=\"14\" font-weight=\"bold\" lengthAdjust=\"spacingAndGlyphs\" textLength=\"73\" x=\"206\" y=\"63.9951\">Definitions</text></a><!--MD5=[de5ec2e2e8f62f467e546659f5068c88]\n",
       "cluster E5--><a href=\"psysml:ea2bdd2c-ef7f-4fe4-8ff5-76ffc4616c11\" target=\"_top\" title=\"psysml:ea2bdd2c-ef7f-4fe4-8ff5-76ffc4616c11\" xlink:actuate=\"onRequest\" xlink:href=\"psysml:ea2bdd2c-ef7f-4fe4-8ff5-76ffc4616c11\" xlink:show=\"new\" xlink:title=\"psysml:ea2bdd2c-ef7f-4fe4-8ff5-76ffc4616c11\" xlink:type=\"simple\"><polygon fill=\"#FFFFFF\" filter=\"url(#fzcg0kscq4u9s)\" points=\"40,50.5,98,50.5,105,72.7969,178,72.7969,178,141.5,40,141.5,40,50.5\" style=\"stroke: #000000; stroke-width: 1.5;\"/><line style=\"stroke: #000000; stroke-width: 1.5;\" x1=\"40\" x2=\"105\" y1=\"72.7969\" y2=\"72.7969\"/><text fill=\"#000000\" font-family=\"sans-serif\" font-size=\"14\" font-weight=\"bold\" lengthAdjust=\"spacingAndGlyphs\" textLength=\"52\" x=\"44\" y=\"65.4951\">Usages</text></a><g id=\"E1.E2.E3\"><a href=\"psysml:1b4a97b7-4457-459f-aed1-97b0f48f7241\" target=\"_top\" title=\"psysml:1b4a97b7-4457-459f-aed1-97b0f48f7241\" xlink:actuate=\"onRequest\" xlink:href=\"psysml:1b4a97b7-4457-459f-aed1-97b0f48f7241\" xlink:show=\"new\" xlink:title=\"psysml:1b4a97b7-4457-459f-aed1-97b0f48f7241\" xlink:type=\"simple\"><rect fill=\"#FEFECE\" filter=\"url(#fzcg0kscq4u9s)\" height=\"42.9375\" id=\"E3\" style=\"stroke: #A80036; stroke-width: 1.5;\" width=\"71\" x=\"324.5\" y=\"84\"/><text fill=\"#000000\" font-family=\"sans-serif\" font-size=\"12\" font-style=\"italic\" lengthAdjust=\"spacingAndGlyphs\" textLength=\"64\" x=\"328\" y=\"100.1387\">«part def»</text><text fill=\"#000000\" font-family=\"sans-serif\" font-size=\"12\" lengthAdjust=\"spacingAndGlyphs\" textLength=\"45\" x=\"337.5\" y=\"114.1074\">Vehicle</text></a></g><g id=\"E1.E2.E4\"><a href=\"psysml:1b4a97b7-4457-459f-aed1-97b0f48f7241\" target=\"_top\" title=\"psysml:1b4a97b7-4457-459f-aed1-97b0f48f7241\" xlink:actuate=\"onRequest\" xlink:href=\"psysml:1b4a97b7-4457-459f-aed1-97b0f48f7241\" xlink:show=\"new\" xlink:title=\"psysml:1b4a97b7-4457-459f-aed1-97b0f48f7241\" xlink:type=\"simple\"><rect fill=\"#FEFECE\" filter=\"url(#fzcg0kscq4u9s)\" height=\"42.9375\" id=\"E4\" style=\"stroke: #A80036; stroke-width: 1.5;\" width=\"71\" x=\"218.5\" y=\"84\"/><text fill=\"#000000\" font-family=\"sans-serif\" font-size=\"12\" font-style=\"italic\" lengthAdjust=\"spacingAndGlyphs\" textLength=\"64\" x=\"222\" y=\"100.1387\">«part def»</text><text fill=\"#000000\" font-family=\"sans-serif\" font-size=\"12\" lengthAdjust=\"spacingAndGlyphs\" textLength=\"45\" x=\"231.5\" y=\"114.1074\">Vehicle</text></a></g><g id=\"E1.E5.E6\"><a href=\"psysml:ea5f8fdf-b305-409f-85bc-0024bea5295e\" target=\"_top\" title=\"psysml:ea5f8fdf-b305-409f-85bc-0024bea5295e\" xlink:actuate=\"onRequest\" xlink:href=\"psysml:ea5f8fdf-b305-409f-85bc-0024bea5295e\" xlink:show=\"new\" xlink:title=\"psysml:ea5f8fdf-b305-409f-85bc-0024bea5295e\" xlink:type=\"simple\"><rect fill=\"#FEFECE\" filter=\"url(#fzcg0kscq4u9s)\" height=\"40\" id=\"E6\" rx=\"10\" ry=\"10\" style=\"stroke: #A80036; stroke-width: 1.5;\" width=\"107\" x=\"55.5\" y=\"85.5\"/><text fill=\"#000000\" font-family=\"sans-serif\" font-size=\"12\" lengthAdjust=\"spacingAndGlyphs\" textLength=\"96\" x=\"61\" y=\"101.6387\">vehicle: Vehicle</text></a></g><!--MD5=[d38a3919419581996b236e6a9bc2bb94]\n",
       "@startuml\r\n",
       "skinparam ranksep 10\r\n",
       "skinparam rectangle {\r\n",
       " backgroundColor<<block>> LightGreen\r\n",
       "}\r\n",
       "skinparam wrapWidth 300\r\n",
       "hide circle\r\n",
       "\r\n",
       "package \"AliasImport\" as E1  [[psysml:4c778e7a-b929-42de-9fbe-71ac5f912e3c ]]  {\r\n",
       "package \"Definitions\" as E2  [[psysml:5f40b44b-bd87-468f-b109-35ffc9f78ab6 ]]  {\r\n",
       "rec def \"Vehicle\" as E3  <<(T,blue) part def>> [[psysml:1b4a97b7-4457-459f-aed1-97b0f48f7241 ]] {\r\n",
       "}\r\n",
       "rec def \"Vehicle\" as E4  <<(T,blue) part def>> [[psysml:1b4a97b7-4457-459f-aed1-97b0f48f7241 ]] {\r\n",
       "}\r\n",
       "}\r\n",
       "package \"Usages\" as E5  [[psysml:ea2bdd2c-ef7f-4fe4-8ff5-76ffc4616c11 ]]  {\r\n",
       "rec usage \"vehicle: Vehicle\" as E6  [[psysml:ea5f8fdf-b305-409f-85bc-0024bea5295e ]] {\r\n",
       "}\r\n",
       "}\r\n",
       "}\r\n",
       "@enduml\r\n",
       "\n",
       "PlantUML version 1.2020.13(Sat Jun 13 12:26:38 UTC 2020)\n",
       "(EPL source distribution)\n",
       "Java Runtime: OpenJDK Runtime Environment\n",
       "JVM: OpenJDK 64-Bit Server VM\n",
       "Default Encoding: UTF-8\n",
       "Language: en\n",
       "Country: null\n",
       "--></g></svg>"
      ]
     },
     "execution_count": 26,
     "metadata": {},
     "output_type": "execute_result"
    }
   ],
   "source": [
    "%viz --style=\"STDCOLOR\" --view=\"Interconnection\" \"AliasImport\""
   ]
  },
  {
   "cell_type": "code",
   "execution_count": 27,
   "id": "94422e04",
   "metadata": {
    "execution": {
     "iopub.execute_input": "2021-09-27T07:19:55.387335Z",
     "iopub.status.busy": "2021-09-27T07:19:55.386883Z",
     "iopub.status.idle": "2021-09-27T07:19:55.390623Z",
     "shell.execute_reply": "2021-09-27T07:19:55.390250Z"
    }
   },
   "outputs": [
    {
     "data": {
      "image/svg+xml": [
       "<?xml version=\"1.0\" encoding=\"UTF-8\" standalone=\"no\"?><svg xmlns=\"http://www.w3.org/2000/svg\" xmlns:xlink=\"http://www.w3.org/1999/xlink\" contentScriptType=\"application/ecmascript\" contentStyleType=\"text/css\" height=\"12px\" preserveAspectRatio=\"none\" style=\"width:12px;height:12px;\" version=\"1.1\" viewBox=\"0 0 12 12\" width=\"12px\" zoomAndPan=\"magnify\"><defs/><g><!--MD5=[9863325348a96a77dacc89509d8ee65e]\n",
       "@startuml\r\n",
       "skinparam ranksep 8\r\n",
       "skinparam wrapWidth 300\r\n",
       "hide circle\r\n",
       "\r\n",
       "@enduml\r\n",
       "\n",
       "PlantUML version 1.2020.13(Sat Jun 13 12:26:38 UTC 2020)\n",
       "(EPL source distribution)\n",
       "Java Runtime: OpenJDK Runtime Environment\n",
       "JVM: OpenJDK 64-Bit Server VM\n",
       "Default Encoding: UTF-8\n",
       "Language: en\n",
       "Country: null\n",
       "--></g></svg>"
      ]
     },
     "execution_count": 27,
     "metadata": {},
     "output_type": "execute_result"
    }
   ],
   "source": [
    "%viz --style=\"STDCOLOR\" --view=\"Action\" \"AliasImport\""
   ]
  },
  {
   "cell_type": "code",
   "execution_count": 28,
   "id": "ec5efa71",
   "metadata": {
    "execution": {
     "iopub.execute_input": "2021-09-27T07:19:55.440485Z",
     "iopub.status.busy": "2021-09-27T07:19:55.440050Z",
     "iopub.status.idle": "2021-09-27T07:19:55.443352Z",
     "shell.execute_reply": "2021-09-27T07:19:55.442985Z"
    }
   },
   "outputs": [
    {
     "data": {
      "image/svg+xml": [
       "<?xml version=\"1.0\" encoding=\"UTF-8\" standalone=\"no\"?><svg xmlns=\"http://www.w3.org/2000/svg\" xmlns:xlink=\"http://www.w3.org/1999/xlink\" contentScriptType=\"application/ecmascript\" contentStyleType=\"text/css\" height=\"12px\" preserveAspectRatio=\"none\" style=\"width:12px;height:12px;\" version=\"1.1\" viewBox=\"0 0 12 12\" width=\"12px\" zoomAndPan=\"magnify\"><defs/><g><!--MD5=[6c4bca67b4d71758159a5a7f1f1e1fc2]\n",
       "@startuml\r\n",
       "skinparam roundcorner 20\r\n",
       "skinparam BoxPadding 20\r\n",
       "skinparam SequenceBoxBackgroundColor #white\r\n",
       "skinparam style strictuml\r\n",
       "skinparam maxMessageSize 100\r\n",
       "skinparam wrapWidth 300\r\n",
       "hide circle\r\n",
       "\r\n",
       "@enduml\r\n",
       "\n",
       "PlantUML version 1.2020.13(Sat Jun 13 12:26:38 UTC 2020)\n",
       "(EPL source distribution)\n",
       "Java Runtime: OpenJDK Runtime Environment\n",
       "JVM: OpenJDK 64-Bit Server VM\n",
       "Default Encoding: UTF-8\n",
       "Language: en\n",
       "Country: null\n",
       "--></g></svg>"
      ]
     },
     "execution_count": 28,
     "metadata": {},
     "output_type": "execute_result"
    }
   ],
   "source": [
    "%viz --style=\"STDCOLOR\" --view=\"Sequence\" \"AliasImport\""
   ]
  },
  {
   "cell_type": "code",
   "execution_count": 29,
   "id": "b80b51c4",
   "metadata": {
    "execution": {
     "iopub.execute_input": "2021-09-27T07:19:55.493350Z",
     "iopub.status.busy": "2021-09-27T07:19:55.492918Z",
     "iopub.status.idle": "2021-09-27T07:19:55.517644Z",
     "shell.execute_reply": "2021-09-27T07:19:55.517273Z"
    }
   },
   "outputs": [
    {
     "data": {
      "image/svg+xml": [
       "<?xml version=\"1.0\" encoding=\"UTF-8\" standalone=\"no\"?><svg xmlns=\"http://www.w3.org/2000/svg\" xmlns:xlink=\"http://www.w3.org/1999/xlink\" contentScriptType=\"application/ecmascript\" contentStyleType=\"text/css\" height=\"303px\" preserveAspectRatio=\"none\" style=\"width:220px;height:303px;\" version=\"1.1\" viewBox=\"0 0 220 303\" width=\"220px\" zoomAndPan=\"magnify\"><defs><filter height=\"300%\" id=\"f50hm0sz2g3u4\" width=\"300%\" x=\"-1\" y=\"-1\"><feGaussianBlur result=\"blurOut\" stdDeviation=\"2.0\"/><feColorMatrix in=\"blurOut\" result=\"blurOut2\" type=\"matrix\" values=\"0 0 0 0 0 0 0 0 0 0 0 0 0 0 0 0 0 0 .4 0\"/><feOffset dx=\"4.0\" dy=\"4.0\" in=\"blurOut2\" result=\"blurOut3\"/><feBlend in=\"SourceGraphic\" in2=\"blurOut3\" mode=\"normal\"/></filter></defs><g><!--MD5=[fbc87193dbaf4d95561dea2c320d4a47]\n",
       "cluster E1--><a href=\"psysml:4c778e7a-b929-42de-9fbe-71ac5f912e3c\" target=\"_top\" title=\"psysml:4c778e7a-b929-42de-9fbe-71ac5f912e3c\" xlink:actuate=\"onRequest\" xlink:href=\"psysml:4c778e7a-b929-42de-9fbe-71ac5f912e3c\" xlink:show=\"new\" xlink:title=\"psysml:4c778e7a-b929-42de-9fbe-71ac5f912e3c\" xlink:type=\"simple\"><polygon fill=\"#FFFFFF\" filter=\"url(#f50hm0sz2g3u4)\" points=\"16,6,97,6,104,28.2969,198,28.2969,198,291,16,291,16,6\" style=\"stroke: #000000; stroke-width: 1.5;\"/><line style=\"stroke: #000000; stroke-width: 1.5;\" x1=\"16\" x2=\"104\" y1=\"28.2969\" y2=\"28.2969\"/><text fill=\"#000000\" font-family=\"sans-serif\" font-size=\"14\" font-weight=\"bold\" lengthAdjust=\"spacingAndGlyphs\" textLength=\"75\" x=\"20\" y=\"20.9951\">AliasImport</text></a><!--MD5=[e4f7fae6ed58524ba242bb0b0d3be6b7]\n",
       "cluster E2--><a href=\"psysml:5f40b44b-bd87-468f-b109-35ffc9f78ab6\" target=\"_top\" title=\"psysml:5f40b44b-bd87-468f-b109-35ffc9f78ab6\" xlink:actuate=\"onRequest\" xlink:href=\"psysml:5f40b44b-bd87-468f-b109-35ffc9f78ab6\" xlink:show=\"new\" xlink:title=\"psysml:5f40b44b-bd87-468f-b109-35ffc9f78ab6\" xlink:type=\"simple\"><polygon fill=\"#FFFFFF\" filter=\"url(#f50hm0sz2g3u4)\" points=\"58,170,137,170,144,192.2969,156,192.2969,156,267,58,267,58,170\" style=\"stroke: #000000; stroke-width: 1.5;\"/><line style=\"stroke: #000000; stroke-width: 1.5;\" x1=\"58\" x2=\"144\" y1=\"192.2969\" y2=\"192.2969\"/><text fill=\"#000000\" font-family=\"sans-serif\" font-size=\"14\" font-weight=\"bold\" lengthAdjust=\"spacingAndGlyphs\" textLength=\"73\" x=\"62\" y=\"184.9951\">Definitions</text></a><!--MD5=[f6df4d0ebaf0b5dfb2ced0ae5af7c670]\n",
       "cluster E4--><a href=\"psysml:ea2bdd2c-ef7f-4fe4-8ff5-76ffc4616c11\" target=\"_top\" title=\"psysml:ea2bdd2c-ef7f-4fe4-8ff5-76ffc4616c11\" xlink:actuate=\"onRequest\" xlink:href=\"psysml:ea2bdd2c-ef7f-4fe4-8ff5-76ffc4616c11\" xlink:show=\"new\" xlink:title=\"psysml:ea2bdd2c-ef7f-4fe4-8ff5-76ffc4616c11\" xlink:type=\"simple\"><polygon fill=\"#FFFFFF\" filter=\"url(#f50hm0sz2g3u4)\" points=\"40,49,98,49,105,71.2969,174,71.2969,174,146,40,146,40,49\" style=\"stroke: #000000; stroke-width: 1.5;\"/><line style=\"stroke: #000000; stroke-width: 1.5;\" x1=\"40\" x2=\"105\" y1=\"71.2969\" y2=\"71.2969\"/><text fill=\"#000000\" font-family=\"sans-serif\" font-size=\"14\" font-weight=\"bold\" lengthAdjust=\"spacingAndGlyphs\" textLength=\"52\" x=\"44\" y=\"63.9951\">Usages</text></a><!--MD5=[09b614a08d8cba4a07c9adeb5e0fee81]\n",
       "class E3--><a href=\"psysml:1b4a97b7-4457-459f-aed1-97b0f48f7241\" target=\"_top\" title=\"psysml:1b4a97b7-4457-459f-aed1-97b0f48f7241\" xlink:actuate=\"onRequest\" xlink:href=\"psysml:1b4a97b7-4457-459f-aed1-97b0f48f7241\" xlink:show=\"new\" xlink:title=\"psysml:1b4a97b7-4457-459f-aed1-97b0f48f7241\" xlink:type=\"simple\"><rect fill=\"#FEFECE\" filter=\"url(#f50hm0sz2g3u4)\" height=\"45.9375\" id=\"E3\" style=\"stroke: #A80036; stroke-width: 1.5;\" width=\"66\" x=\"74\" y=\"205\"/><text fill=\"#000000\" font-family=\"sans-serif\" font-size=\"12\" font-style=\"italic\" lengthAdjust=\"spacingAndGlyphs\" textLength=\"64\" x=\"75\" y=\"221.1387\">«part def»</text><text fill=\"#000000\" font-family=\"sans-serif\" font-size=\"12\" lengthAdjust=\"spacingAndGlyphs\" textLength=\"45\" x=\"84.5\" y=\"235.1074\">Vehicle</text><line style=\"stroke: #A80036; stroke-width: 1.5;\" x1=\"75\" x2=\"139\" y1=\"242.9375\" y2=\"242.9375\"/></a><!--MD5=[270fce915f116d4de14055a7c1d9a0f3]\n",
       "class E5--><a href=\"psysml:ea5f8fdf-b305-409f-85bc-0024bea5295e\" target=\"_top\" title=\"psysml:ea5f8fdf-b305-409f-85bc-0024bea5295e\" xlink:actuate=\"onRequest\" xlink:href=\"psysml:ea5f8fdf-b305-409f-85bc-0024bea5295e\" xlink:show=\"new\" xlink:title=\"psysml:ea5f8fdf-b305-409f-85bc-0024bea5295e\" xlink:type=\"simple\"><rect fill=\"#FEFECE\" filter=\"url(#f50hm0sz2g3u4)\" height=\"45.9375\" id=\"E5\" rx=\"10\" ry=\"10\" style=\"stroke: #A80036; stroke-width: 1.5;\" width=\"102\" x=\"56\" y=\"84\"/><text fill=\"#000000\" font-family=\"sans-serif\" font-size=\"12\" font-style=\"italic\" lengthAdjust=\"spacingAndGlyphs\" textLength=\"40\" x=\"87\" y=\"100.1387\">«part»</text><text fill=\"#000000\" font-family=\"sans-serif\" font-size=\"12\" lengthAdjust=\"spacingAndGlyphs\" textLength=\"96\" x=\"59\" y=\"114.1074\">vehicle: Vehicle</text><line style=\"stroke: #A80036; stroke-width: 1.5;\" x1=\"57\" x2=\"157\" y1=\"121.9375\" y2=\"121.9375\"/></a><!--MD5=[e9be52314489bd878ff4c7144b63c9e1]\n",
       "link E5 to E3--><a href=\"psysml:4cdeda76-c42f-43d9-9b0b-b21e3f7ae647\" target=\"_top\" title=\"psysml:4cdeda76-c42f-43d9-9b0b-b21e3f7ae647\" xlink:actuate=\"onRequest\" xlink:href=\"psysml:4cdeda76-c42f-43d9-9b0b-b21e3f7ae647\" xlink:show=\"new\" xlink:title=\"psysml:4cdeda76-c42f-43d9-9b0b-b21e3f7ae647\" xlink:type=\"simple\"><path d=\"M107,130.1 C107,145.37 107,166.16 107,184.57 \" fill=\"none\" id=\"E5-&gt;E3\" style=\"stroke: #A80036; stroke-width: 1.0;\"/><polygon fill=\"#FFFFFF\" points=\"107,204.61,100,185.61,114,185.61,107,204.61\" style=\"stroke: #A80036; stroke-width: 1.0;\"/><ellipse cx=\"102\" cy=\"179.91\" fill=\"#A80036\" rx=\"2\" ry=\"2\" style=\"stroke: #A80036; stroke-width: 1.0;\"/><ellipse cx=\"112\" cy=\"179.91\" fill=\"#A80036\" rx=\"2\" ry=\"2\" style=\"stroke: #A80036; stroke-width: 1.0;\"/></a><!--MD5=[12ab94e836d43c49f47cbb60bdcc3dce]\n",
       "@startuml\r\n",
       "skinparam wrapWidth 300\r\n",
       "hide circle\r\n",
       "\r\n",
       "package \"AliasImport\" as E1  [[psysml:4c778e7a-b929-42de-9fbe-71ac5f912e3c ]]  {\r\n",
       "package \"Definitions\" as E2  [[psysml:5f40b44b-bd87-468f-b109-35ffc9f78ab6 ]]  {\r\n",
       "comp def \"Vehicle\" as E3  <<(T,blue) part def>> [[psysml:1b4a97b7-4457-459f-aed1-97b0f48f7241 ]] {\r\n",
       "}\r\n",
       "}\r\n",
       "package \"Usages\" as E4  [[psysml:ea2bdd2c-ef7f-4fe4-8ff5-76ffc4616c11 ]]  {\r\n",
       "comp usage \"vehicle: Vehicle\" as E5  <<(T,blue) part>> [[psysml:ea5f8fdf-b305-409f-85bc-0024bea5295e ]] {\r\n",
       "}\r\n",
       "}\r\n",
       "}\r\n",
       "E5 - -:|> E3 [[psysml:4cdeda76-c42f-43d9-9b0b-b21e3f7ae647 ]] \r\n",
       "@enduml\r\n",
       "\n",
       "PlantUML version 1.2020.13(Sat Jun 13 12:26:38 UTC 2020)\n",
       "(EPL source distribution)\n",
       "Java Runtime: OpenJDK Runtime Environment\n",
       "JVM: OpenJDK 64-Bit Server VM\n",
       "Default Encoding: UTF-8\n",
       "Language: en\n",
       "Country: null\n",
       "--></g></svg>"
      ]
     },
     "execution_count": 29,
     "metadata": {},
     "output_type": "execute_result"
    }
   ],
   "source": [
    "%viz --style=\"STDCOLOR\" --view=\"MIXED\" \"AliasImport\""
   ]
  },
  {
   "cell_type": "code",
   "execution_count": 30,
   "id": "4f6ff22b",
   "metadata": {
    "execution": {
     "iopub.execute_input": "2021-09-27T07:19:55.567380Z",
     "iopub.status.busy": "2021-09-27T07:19:55.566950Z",
     "iopub.status.idle": "2021-09-27T07:19:55.617791Z",
     "shell.execute_reply": "2021-09-27T07:19:55.616479Z"
    }
   },
   "outputs": [
    {
     "data": {
      "image/svg+xml": [
       "<?xml version=\"1.0\" encoding=\"UTF-8\" standalone=\"no\"?><svg xmlns=\"http://www.w3.org/2000/svg\" xmlns:xlink=\"http://www.w3.org/1999/xlink\" contentScriptType=\"application/ecmascript\" contentStyleType=\"text/css\" height=\"297px\" preserveAspectRatio=\"none\" style=\"width:246px;height:297px;\" version=\"1.1\" viewBox=\"0 0 246 297\" width=\"246px\" zoomAndPan=\"magnify\"><defs><filter height=\"300%\" id=\"fsvrm6r36itnm\" width=\"300%\" x=\"-1\" y=\"-1\"><feGaussianBlur result=\"blurOut\" stdDeviation=\"2.0\"/><feColorMatrix in=\"blurOut\" result=\"blurOut2\" type=\"matrix\" values=\"0 0 0 0 0 0 0 0 0 0 0 0 0 0 0 0 0 0 .4 0\"/><feOffset dx=\"4.0\" dy=\"4.0\" in=\"blurOut2\" result=\"blurOut3\"/><feBlend in=\"SourceGraphic\" in2=\"blurOut3\" mode=\"normal\"/></filter></defs><g><!--MD5=[fbc87193dbaf4d95561dea2c320d4a47]\n",
       "cluster E1--><a href=\"psysml:4c778e7a-b929-42de-9fbe-71ac5f912e3c\" target=\"_top\" title=\"psysml:4c778e7a-b929-42de-9fbe-71ac5f912e3c\" xlink:actuate=\"onRequest\" xlink:href=\"psysml:4c778e7a-b929-42de-9fbe-71ac5f912e3c\" xlink:show=\"new\" xlink:title=\"psysml:4c778e7a-b929-42de-9fbe-71ac5f912e3c\" xlink:type=\"simple\"><polygon fill=\"#FFFFFF\" filter=\"url(#fsvrm6r36itnm)\" points=\"16,6,97,6,104,28.2969,224,28.2969,224,285,16,285,16,6\" style=\"stroke: #000000; stroke-width: 1.5;\"/><line style=\"stroke: #000000; stroke-width: 1.5;\" x1=\"16\" x2=\"104\" y1=\"28.2969\" y2=\"28.2969\"/><text fill=\"#000000\" font-family=\"sans-serif\" font-size=\"14\" font-weight=\"bold\" lengthAdjust=\"spacingAndGlyphs\" textLength=\"75\" x=\"20\" y=\"20.9951\">AliasImport</text></a><!--MD5=[e4f7fae6ed58524ba242bb0b0d3be6b7]\n",
       "cluster E2--><a href=\"psysml:5f40b44b-bd87-468f-b109-35ffc9f78ab6\" target=\"_top\" title=\"psysml:5f40b44b-bd87-468f-b109-35ffc9f78ab6\" xlink:actuate=\"onRequest\" xlink:href=\"psysml:5f40b44b-bd87-468f-b109-35ffc9f78ab6\" xlink:show=\"new\" xlink:title=\"psysml:5f40b44b-bd87-468f-b109-35ffc9f78ab6\" xlink:type=\"simple\"><polygon fill=\"#FFFFFF\" filter=\"url(#fsvrm6r36itnm)\" points=\"65,170,144,170,151,192.2969,175,192.2969,175,261,65,261,65,170\" style=\"stroke: #000000; stroke-width: 1.5;\"/><line style=\"stroke: #000000; stroke-width: 1.5;\" x1=\"65\" x2=\"151\" y1=\"192.2969\" y2=\"192.2969\"/><text fill=\"#000000\" font-family=\"sans-serif\" font-size=\"14\" font-weight=\"bold\" lengthAdjust=\"spacingAndGlyphs\" textLength=\"73\" x=\"69\" y=\"184.9951\">Definitions</text></a><!--MD5=[f6df4d0ebaf0b5dfb2ced0ae5af7c670]\n",
       "cluster E4--><a href=\"psysml:ea2bdd2c-ef7f-4fe4-8ff5-76ffc4616c11\" target=\"_top\" title=\"psysml:ea2bdd2c-ef7f-4fe4-8ff5-76ffc4616c11\" xlink:actuate=\"onRequest\" xlink:href=\"psysml:ea2bdd2c-ef7f-4fe4-8ff5-76ffc4616c11\" xlink:show=\"new\" xlink:title=\"psysml:ea2bdd2c-ef7f-4fe4-8ff5-76ffc4616c11\" xlink:type=\"simple\"><polygon fill=\"#FFFFFF\" filter=\"url(#fsvrm6r36itnm)\" points=\"40,49,98,49,105,71.2969,200,71.2969,200,146,40,146,40,49\" style=\"stroke: #000000; stroke-width: 1.5;\"/><line style=\"stroke: #000000; stroke-width: 1.5;\" x1=\"40\" x2=\"105\" y1=\"71.2969\" y2=\"71.2969\"/><text fill=\"#000000\" font-family=\"sans-serif\" font-size=\"14\" font-weight=\"bold\" lengthAdjust=\"spacingAndGlyphs\" textLength=\"52\" x=\"44\" y=\"63.9951\">Usages</text></a><!--MD5=[09b614a08d8cba4a07c9adeb5e0fee81]\n",
       "class E3--><a href=\"psysml:1b4a97b7-4457-459f-aed1-97b0f48f7241\" target=\"_top\" title=\"psysml:1b4a97b7-4457-459f-aed1-97b0f48f7241\" xlink:actuate=\"onRequest\" xlink:href=\"psysml:1b4a97b7-4457-459f-aed1-97b0f48f7241\" xlink:show=\"new\" xlink:title=\"psysml:1b4a97b7-4457-459f-aed1-97b0f48f7241\" xlink:type=\"simple\"><rect fill=\"#FEFECE\" filter=\"url(#fsvrm6r36itnm)\" height=\"40\" id=\"E3\" style=\"stroke: #A80036; stroke-width: 1.5;\" width=\"77\" x=\"81.5\" y=\"205\"/><ellipse cx=\"96.5\" cy=\"221\" fill=\"#008000\" rx=\"11\" ry=\"11\" style=\"stroke: #A80036; stroke-width: 1.0;\"/><path d=\"M93.375,226 L93.375,215.4063 L96.6094,215.4063 Q98.5156,215.4063 99.4219,216.1563 Q100.3438,216.9063 100.3438,218.0781 Q100.3438,218.7656 99.9531,219.4219 Q99.5781,220.0781 98.8594,220.375 Q99.7188,220.75 100.2344,221.4375 Q100.75,222.125 100.75,222.9375 Q100.75,224.3125 99.7188,225.1563 Q98.7031,226 96.5938,226 L93.375,226 Z M95.2969,219.6406 L96.4531,219.6406 Q97.5781,219.6406 97.9844,219.2656 Q98.4063,218.875 98.4063,218.25 Q98.4063,217.6719 97.9844,217.3125 Q97.5625,216.9531 96.625,216.9531 L95.2969,216.9531 L95.2969,219.6406 Z M95.2969,224.4219 L96.7969,224.4219 Q97.7031,224.4219 98.2344,224.0313 Q98.7656,223.6406 98.7656,222.8906 Q98.7656,222.125 98.2656,221.6563 Q97.7656,221.1719 96.5,221.1719 L95.2969,221.1719 L95.2969,224.4219 Z \"/><text fill=\"#000000\" font-family=\"sans-serif\" font-size=\"12\" lengthAdjust=\"spacingAndGlyphs\" textLength=\"45\" x=\"110.5\" y=\"225.1543\">Vehicle</text><line style=\"stroke: #A80036; stroke-width: 1.5;\" x1=\"82.5\" x2=\"157.5\" y1=\"237\" y2=\"237\"/></a><!--MD5=[270fce915f116d4de14055a7c1d9a0f3]\n",
       "class E5--><a href=\"psysml:ea5f8fdf-b305-409f-85bc-0024bea5295e\" target=\"_top\" title=\"psysml:ea5f8fdf-b305-409f-85bc-0024bea5295e\" xlink:actuate=\"onRequest\" xlink:href=\"psysml:ea5f8fdf-b305-409f-85bc-0024bea5295e\" xlink:show=\"new\" xlink:title=\"psysml:ea5f8fdf-b305-409f-85bc-0024bea5295e\" xlink:type=\"simple\"><rect fill=\"#FEFECE\" filter=\"url(#fsvrm6r36itnm)\" height=\"45.9375\" id=\"E5\" rx=\"10\" ry=\"10\" style=\"stroke: #A80036; stroke-width: 1.5;\" width=\"128\" x=\"56\" y=\"84\"/><ellipse cx=\"71\" cy=\"102.9688\" fill=\"#32CD32\" rx=\"11\" ry=\"11\" style=\"stroke: #A80036; stroke-width: 1.0;\"/><path d=\"M67.8125,107.9688 L67.8125,97.375 L71.4219,97.375 Q72.6406,97.375 73.4375,97.8125 Q74.2344,98.2344 74.6094,98.9375 Q75,99.6406 75,100.4844 Q75,101.3281 74.625,102.0156 Q74.2656,102.7031 73.4688,103.125 Q72.6875,103.5313 71.5,103.5313 L69.7656,103.5313 L69.7656,107.9688 L67.8125,107.9688 Z M69.7656,101.9375 L71.375,101.9375 Q72.1875,101.9375 72.6094,101.5313 Q73.0313,101.125 73.0313,100.4844 Q73.0313,99.8594 72.6094,99.4531 Q72.1875,99.0469 71.3906,99.0469 L69.7656,99.0469 L69.7656,101.9375 Z \"/><text fill=\"#000000\" font-family=\"sans-serif\" font-size=\"12\" font-style=\"italic\" lengthAdjust=\"spacingAndGlyphs\" textLength=\"40\" x=\"113\" y=\"100.1387\">«part»</text><text fill=\"#000000\" font-family=\"sans-serif\" font-size=\"12\" lengthAdjust=\"spacingAndGlyphs\" textLength=\"96\" x=\"85\" y=\"114.1074\">vehicle: Vehicle</text><line style=\"stroke: #A80036; stroke-width: 1.5;\" x1=\"57\" x2=\"183\" y1=\"121.9375\" y2=\"121.9375\"/></a><!--MD5=[e9be52314489bd878ff4c7144b63c9e1]\n",
       "link E5 to E3--><a href=\"psysml:4cdeda76-c42f-43d9-9b0b-b21e3f7ae647\" target=\"_top\" title=\"psysml:4cdeda76-c42f-43d9-9b0b-b21e3f7ae647\" xlink:actuate=\"onRequest\" xlink:href=\"psysml:4cdeda76-c42f-43d9-9b0b-b21e3f7ae647\" xlink:show=\"new\" xlink:title=\"psysml:4cdeda76-c42f-43d9-9b0b-b21e3f7ae647\" xlink:type=\"simple\"><path d=\"M120,130.09 C120,145.42 120,166.27 120,184.42 \" fill=\"none\" id=\"E5-&gt;E3\" style=\"stroke: #A80036; stroke-width: 1.0;\"/><polygon fill=\"#FFFFFF\" points=\"120,204.69,113,185.69,127,185.69,120,204.69\" style=\"stroke: #A80036; stroke-width: 1.0;\"/><ellipse cx=\"115\" cy=\"179.99\" fill=\"#A80036\" rx=\"2\" ry=\"2\" style=\"stroke: #A80036; stroke-width: 1.0;\"/><ellipse cx=\"125\" cy=\"179.99\" fill=\"#A80036\" rx=\"2\" ry=\"2\" style=\"stroke: #A80036; stroke-width: 1.0;\"/></a><!--MD5=[f82a8b77bc100befa33cc20e98abbcfc]\n",
       "@startuml\r\n",
       " \r\n",
       "package \"AliasImport\" as E1  [[psysml:4c778e7a-b929-42de-9fbe-71ac5f912e3c ]]  {\r\n",
       "package \"Definitions\" as E2  [[psysml:5f40b44b-bd87-468f-b109-35ffc9f78ab6 ]]  {\r\n",
       "comp def \"Vehicle\" as E3 << << (B,green) >> [[psysml:1b4a97b7-4457-459f-aed1-97b0f48f7241 ]] {\r\n",
       "}\r\n",
       "}\r\n",
       "package \"Usages\" as E4  [[psysml:ea2bdd2c-ef7f-4fe4-8ff5-76ffc4616c11 ]]  {\r\n",
       "comp usage \"vehicle: Vehicle\" as E5 << << (P,limegreen) part>> [[psysml:ea5f8fdf-b305-409f-85bc-0024bea5295e ]] {\r\n",
       "}\r\n",
       "}\r\n",
       "}\r\n",
       "E5 - -:|> E3 [[psysml:4cdeda76-c42f-43d9-9b0b-b21e3f7ae647 ]] \r\n",
       "@enduml\r\n",
       "\n",
       "PlantUML version 1.2020.13(Sat Jun 13 12:26:38 UTC 2020)\n",
       "(EPL source distribution)\n",
       "Java Runtime: OpenJDK Runtime Environment\n",
       "JVM: OpenJDK 64-Bit Server VM\n",
       "Default Encoding: UTF-8\n",
       "Language: en\n",
       "Country: null\n",
       "--></g></svg>"
      ]
     },
     "execution_count": 30,
     "metadata": {},
     "output_type": "execute_result"
    }
   ],
   "source": [
    "%viz --style=\"PLANTUML\" --view=\"Default\" \"AliasImport\""
   ]
  },
  {
   "cell_type": "code",
   "execution_count": 31,
   "id": "3117d2a9",
   "metadata": {
    "execution": {
     "iopub.execute_input": "2021-09-27T07:19:55.667003Z",
     "iopub.status.busy": "2021-09-27T07:19:55.666589Z",
     "iopub.status.idle": "2021-09-27T07:19:55.687951Z",
     "shell.execute_reply": "2021-09-27T07:19:55.687589Z"
    }
   },
   "outputs": [
    {
     "data": {
      "image/svg+xml": [
       "<?xml version=\"1.0\" encoding=\"UTF-8\" standalone=\"no\"?><svg xmlns=\"http://www.w3.org/2000/svg\" xmlns:xlink=\"http://www.w3.org/1999/xlink\" contentScriptType=\"application/ecmascript\" contentStyleType=\"text/css\" height=\"297px\" preserveAspectRatio=\"none\" style=\"width:246px;height:297px;\" version=\"1.1\" viewBox=\"0 0 246 297\" width=\"246px\" zoomAndPan=\"magnify\"><defs><filter height=\"300%\" id=\"fsvrm6r36itnm\" width=\"300%\" x=\"-1\" y=\"-1\"><feGaussianBlur result=\"blurOut\" stdDeviation=\"2.0\"/><feColorMatrix in=\"blurOut\" result=\"blurOut2\" type=\"matrix\" values=\"0 0 0 0 0 0 0 0 0 0 0 0 0 0 0 0 0 0 .4 0\"/><feOffset dx=\"4.0\" dy=\"4.0\" in=\"blurOut2\" result=\"blurOut3\"/><feBlend in=\"SourceGraphic\" in2=\"blurOut3\" mode=\"normal\"/></filter></defs><g><!--MD5=[fbc87193dbaf4d95561dea2c320d4a47]\n",
       "cluster E1--><a href=\"psysml:4c778e7a-b929-42de-9fbe-71ac5f912e3c\" target=\"_top\" title=\"psysml:4c778e7a-b929-42de-9fbe-71ac5f912e3c\" xlink:actuate=\"onRequest\" xlink:href=\"psysml:4c778e7a-b929-42de-9fbe-71ac5f912e3c\" xlink:show=\"new\" xlink:title=\"psysml:4c778e7a-b929-42de-9fbe-71ac5f912e3c\" xlink:type=\"simple\"><polygon fill=\"#FFFFFF\" filter=\"url(#fsvrm6r36itnm)\" points=\"16,6,97,6,104,28.2969,224,28.2969,224,285,16,285,16,6\" style=\"stroke: #000000; stroke-width: 1.5;\"/><line style=\"stroke: #000000; stroke-width: 1.5;\" x1=\"16\" x2=\"104\" y1=\"28.2969\" y2=\"28.2969\"/><text fill=\"#000000\" font-family=\"sans-serif\" font-size=\"14\" font-weight=\"bold\" lengthAdjust=\"spacingAndGlyphs\" textLength=\"75\" x=\"20\" y=\"20.9951\">AliasImport</text></a><!--MD5=[e4f7fae6ed58524ba242bb0b0d3be6b7]\n",
       "cluster E2--><a href=\"psysml:5f40b44b-bd87-468f-b109-35ffc9f78ab6\" target=\"_top\" title=\"psysml:5f40b44b-bd87-468f-b109-35ffc9f78ab6\" xlink:actuate=\"onRequest\" xlink:href=\"psysml:5f40b44b-bd87-468f-b109-35ffc9f78ab6\" xlink:show=\"new\" xlink:title=\"psysml:5f40b44b-bd87-468f-b109-35ffc9f78ab6\" xlink:type=\"simple\"><polygon fill=\"#FFFFFF\" filter=\"url(#fsvrm6r36itnm)\" points=\"65,170,144,170,151,192.2969,175,192.2969,175,261,65,261,65,170\" style=\"stroke: #000000; stroke-width: 1.5;\"/><line style=\"stroke: #000000; stroke-width: 1.5;\" x1=\"65\" x2=\"151\" y1=\"192.2969\" y2=\"192.2969\"/><text fill=\"#000000\" font-family=\"sans-serif\" font-size=\"14\" font-weight=\"bold\" lengthAdjust=\"spacingAndGlyphs\" textLength=\"73\" x=\"69\" y=\"184.9951\">Definitions</text></a><!--MD5=[f6df4d0ebaf0b5dfb2ced0ae5af7c670]\n",
       "cluster E4--><a href=\"psysml:ea2bdd2c-ef7f-4fe4-8ff5-76ffc4616c11\" target=\"_top\" title=\"psysml:ea2bdd2c-ef7f-4fe4-8ff5-76ffc4616c11\" xlink:actuate=\"onRequest\" xlink:href=\"psysml:ea2bdd2c-ef7f-4fe4-8ff5-76ffc4616c11\" xlink:show=\"new\" xlink:title=\"psysml:ea2bdd2c-ef7f-4fe4-8ff5-76ffc4616c11\" xlink:type=\"simple\"><polygon fill=\"#FFFFFF\" filter=\"url(#fsvrm6r36itnm)\" points=\"40,49,98,49,105,71.2969,200,71.2969,200,146,40,146,40,49\" style=\"stroke: #000000; stroke-width: 1.5;\"/><line style=\"stroke: #000000; stroke-width: 1.5;\" x1=\"40\" x2=\"105\" y1=\"71.2969\" y2=\"71.2969\"/><text fill=\"#000000\" font-family=\"sans-serif\" font-size=\"14\" font-weight=\"bold\" lengthAdjust=\"spacingAndGlyphs\" textLength=\"52\" x=\"44\" y=\"63.9951\">Usages</text></a><!--MD5=[09b614a08d8cba4a07c9adeb5e0fee81]\n",
       "class E3--><a href=\"psysml:1b4a97b7-4457-459f-aed1-97b0f48f7241\" target=\"_top\" title=\"psysml:1b4a97b7-4457-459f-aed1-97b0f48f7241\" xlink:actuate=\"onRequest\" xlink:href=\"psysml:1b4a97b7-4457-459f-aed1-97b0f48f7241\" xlink:show=\"new\" xlink:title=\"psysml:1b4a97b7-4457-459f-aed1-97b0f48f7241\" xlink:type=\"simple\"><rect fill=\"#FEFECE\" filter=\"url(#fsvrm6r36itnm)\" height=\"40\" id=\"E3\" style=\"stroke: #A80036; stroke-width: 1.5;\" width=\"77\" x=\"81.5\" y=\"205\"/><ellipse cx=\"96.5\" cy=\"221\" fill=\"#008000\" rx=\"11\" ry=\"11\" style=\"stroke: #A80036; stroke-width: 1.0;\"/><path d=\"M93.375,226 L93.375,215.4063 L96.6094,215.4063 Q98.5156,215.4063 99.4219,216.1563 Q100.3438,216.9063 100.3438,218.0781 Q100.3438,218.7656 99.9531,219.4219 Q99.5781,220.0781 98.8594,220.375 Q99.7188,220.75 100.2344,221.4375 Q100.75,222.125 100.75,222.9375 Q100.75,224.3125 99.7188,225.1563 Q98.7031,226 96.5938,226 L93.375,226 Z M95.2969,219.6406 L96.4531,219.6406 Q97.5781,219.6406 97.9844,219.2656 Q98.4063,218.875 98.4063,218.25 Q98.4063,217.6719 97.9844,217.3125 Q97.5625,216.9531 96.625,216.9531 L95.2969,216.9531 L95.2969,219.6406 Z M95.2969,224.4219 L96.7969,224.4219 Q97.7031,224.4219 98.2344,224.0313 Q98.7656,223.6406 98.7656,222.8906 Q98.7656,222.125 98.2656,221.6563 Q97.7656,221.1719 96.5,221.1719 L95.2969,221.1719 L95.2969,224.4219 Z \"/><text fill=\"#000000\" font-family=\"sans-serif\" font-size=\"12\" lengthAdjust=\"spacingAndGlyphs\" textLength=\"45\" x=\"110.5\" y=\"225.1543\">Vehicle</text><line style=\"stroke: #A80036; stroke-width: 1.5;\" x1=\"82.5\" x2=\"157.5\" y1=\"237\" y2=\"237\"/></a><!--MD5=[270fce915f116d4de14055a7c1d9a0f3]\n",
       "class E5--><a href=\"psysml:ea5f8fdf-b305-409f-85bc-0024bea5295e\" target=\"_top\" title=\"psysml:ea5f8fdf-b305-409f-85bc-0024bea5295e\" xlink:actuate=\"onRequest\" xlink:href=\"psysml:ea5f8fdf-b305-409f-85bc-0024bea5295e\" xlink:show=\"new\" xlink:title=\"psysml:ea5f8fdf-b305-409f-85bc-0024bea5295e\" xlink:type=\"simple\"><rect fill=\"#FEFECE\" filter=\"url(#fsvrm6r36itnm)\" height=\"45.9375\" id=\"E5\" rx=\"10\" ry=\"10\" style=\"stroke: #A80036; stroke-width: 1.5;\" width=\"128\" x=\"56\" y=\"84\"/><ellipse cx=\"71\" cy=\"102.9688\" fill=\"#32CD32\" rx=\"11\" ry=\"11\" style=\"stroke: #A80036; stroke-width: 1.0;\"/><path d=\"M67.8125,107.9688 L67.8125,97.375 L71.4219,97.375 Q72.6406,97.375 73.4375,97.8125 Q74.2344,98.2344 74.6094,98.9375 Q75,99.6406 75,100.4844 Q75,101.3281 74.625,102.0156 Q74.2656,102.7031 73.4688,103.125 Q72.6875,103.5313 71.5,103.5313 L69.7656,103.5313 L69.7656,107.9688 L67.8125,107.9688 Z M69.7656,101.9375 L71.375,101.9375 Q72.1875,101.9375 72.6094,101.5313 Q73.0313,101.125 73.0313,100.4844 Q73.0313,99.8594 72.6094,99.4531 Q72.1875,99.0469 71.3906,99.0469 L69.7656,99.0469 L69.7656,101.9375 Z \"/><text fill=\"#000000\" font-family=\"sans-serif\" font-size=\"12\" font-style=\"italic\" lengthAdjust=\"spacingAndGlyphs\" textLength=\"40\" x=\"113\" y=\"100.1387\">«part»</text><text fill=\"#000000\" font-family=\"sans-serif\" font-size=\"12\" lengthAdjust=\"spacingAndGlyphs\" textLength=\"96\" x=\"85\" y=\"114.1074\">vehicle: Vehicle</text><line style=\"stroke: #A80036; stroke-width: 1.5;\" x1=\"57\" x2=\"183\" y1=\"121.9375\" y2=\"121.9375\"/></a><!--MD5=[e9be52314489bd878ff4c7144b63c9e1]\n",
       "link E5 to E3--><a href=\"psysml:4cdeda76-c42f-43d9-9b0b-b21e3f7ae647\" target=\"_top\" title=\"psysml:4cdeda76-c42f-43d9-9b0b-b21e3f7ae647\" xlink:actuate=\"onRequest\" xlink:href=\"psysml:4cdeda76-c42f-43d9-9b0b-b21e3f7ae647\" xlink:show=\"new\" xlink:title=\"psysml:4cdeda76-c42f-43d9-9b0b-b21e3f7ae647\" xlink:type=\"simple\"><path d=\"M120,130.09 C120,145.42 120,166.27 120,184.42 \" fill=\"none\" id=\"E5-&gt;E3\" style=\"stroke: #A80036; stroke-width: 1.0;\"/><polygon fill=\"#FFFFFF\" points=\"120,204.69,113,185.69,127,185.69,120,204.69\" style=\"stroke: #A80036; stroke-width: 1.0;\"/><ellipse cx=\"115\" cy=\"179.99\" fill=\"#A80036\" rx=\"2\" ry=\"2\" style=\"stroke: #A80036; stroke-width: 1.0;\"/><ellipse cx=\"125\" cy=\"179.99\" fill=\"#A80036\" rx=\"2\" ry=\"2\" style=\"stroke: #A80036; stroke-width: 1.0;\"/></a><!--MD5=[f82a8b77bc100befa33cc20e98abbcfc]\n",
       "@startuml\r\n",
       " \r\n",
       "package \"AliasImport\" as E1  [[psysml:4c778e7a-b929-42de-9fbe-71ac5f912e3c ]]  {\r\n",
       "package \"Definitions\" as E2  [[psysml:5f40b44b-bd87-468f-b109-35ffc9f78ab6 ]]  {\r\n",
       "comp def \"Vehicle\" as E3 << << (B,green) >> [[psysml:1b4a97b7-4457-459f-aed1-97b0f48f7241 ]] {\r\n",
       "}\r\n",
       "}\r\n",
       "package \"Usages\" as E4  [[psysml:ea2bdd2c-ef7f-4fe4-8ff5-76ffc4616c11 ]]  {\r\n",
       "comp usage \"vehicle: Vehicle\" as E5 << << (P,limegreen) part>> [[psysml:ea5f8fdf-b305-409f-85bc-0024bea5295e ]] {\r\n",
       "}\r\n",
       "}\r\n",
       "}\r\n",
       "E5 - -:|> E3 [[psysml:4cdeda76-c42f-43d9-9b0b-b21e3f7ae647 ]] \r\n",
       "@enduml\r\n",
       "\n",
       "PlantUML version 1.2020.13(Sat Jun 13 12:26:38 UTC 2020)\n",
       "(EPL source distribution)\n",
       "Java Runtime: OpenJDK Runtime Environment\n",
       "JVM: OpenJDK 64-Bit Server VM\n",
       "Default Encoding: UTF-8\n",
       "Language: en\n",
       "Country: null\n",
       "--></g></svg>"
      ]
     },
     "execution_count": 31,
     "metadata": {},
     "output_type": "execute_result"
    }
   ],
   "source": [
    "%viz --style=\"PLANTUML\" --view=\"Tree\" \"AliasImport\""
   ]
  },
  {
   "cell_type": "code",
   "execution_count": 32,
   "id": "c3b557df",
   "metadata": {
    "execution": {
     "iopub.execute_input": "2021-09-27T07:19:55.737828Z",
     "iopub.status.busy": "2021-09-27T07:19:55.737405Z",
     "iopub.status.idle": "2021-09-27T07:19:55.821887Z",
     "shell.execute_reply": "2021-09-27T07:19:55.821538Z"
    }
   },
   "outputs": [
    {
     "data": {
      "image/svg+xml": [
       "<?xml version=\"1.0\" encoding=\"UTF-8\" standalone=\"no\"?><svg xmlns=\"http://www.w3.org/2000/svg\" xmlns:xlink=\"http://www.w3.org/1999/xlink\" contentScriptType=\"application/ecmascript\" contentStyleType=\"text/css\" height=\"300px\" preserveAspectRatio=\"none\" style=\"width:603px;height:300px;background:#000000;\" version=\"1.1\" viewBox=\"0 0 603 300\" width=\"603px\" zoomAndPan=\"magnify\"><defs/><g><rect fill=\"#020218\" height=\"1\" style=\"stroke: #020218; stroke-width: 1.0;\" width=\"1\" x=\"0\" y=\"0\"/><rect fill=\"#FFFFFF\" height=\"202.8012\" style=\"stroke: #FFFFFF; stroke-width: 1.0;\" width=\"602\" x=\"0\" y=\"0\"/><text fill=\"#000000\" font-family=\"sans-serif\" font-size=\"12\" font-weight=\"bold\" lengthAdjust=\"spacingAndGlyphs\" textLength=\"139\" x=\"5\" y=\"16.1387\">Welcome to PlantUML!</text><text fill=\"#000000\" font-family=\"sans-serif\" font-size=\"12\" lengthAdjust=\"spacingAndGlyphs\" textLength=\"0\" x=\"9\" y=\"30.1074\"/><text fill=\"#000000\" font-family=\"sans-serif\" font-size=\"12\" lengthAdjust=\"spacingAndGlyphs\" textLength=\"293\" x=\"5\" y=\"44.0762\">If you use this software, you accept its license.</text><text fill=\"#000000\" font-family=\"sans-serif\" font-size=\"12\" lengthAdjust=\"spacingAndGlyphs\" textLength=\"107\" x=\"5\" y=\"58.0449\">(details by typing</text><text fill=\"#000000\" font-family=\"monospace\" font-size=\"12\" lengthAdjust=\"spacingAndGlyphs\" textLength=\"42\" x=\"116\" y=\"58.595\">license</text><text fill=\"#000000\" font-family=\"sans-serif\" font-size=\"12\" lengthAdjust=\"spacingAndGlyphs\" textLength=\"56\" x=\"162\" y=\"58.0449\">keyword)</text><text fill=\"#000000\" font-family=\"sans-serif\" font-size=\"12\" lengthAdjust=\"spacingAndGlyphs\" textLength=\"0\" x=\"9\" y=\"72.0137\"/><text fill=\"#000000\" font-family=\"sans-serif\" font-size=\"12\" lengthAdjust=\"spacingAndGlyphs\" textLength=\"283\" x=\"5\" y=\"85.9824\">You can start with a simple UML Diagram like:</text><text fill=\"#000000\" font-family=\"sans-serif\" font-size=\"12\" lengthAdjust=\"spacingAndGlyphs\" textLength=\"0\" x=\"9\" y=\"99.9512\"/><text fill=\"#000000\" font-family=\"monospace\" font-size=\"12\" lengthAdjust=\"spacingAndGlyphs\" textLength=\"102\" x=\"5\" y=\"113.0893\">Bob-&gt;Alice: Hello</text><text fill=\"#000000\" font-family=\"sans-serif\" font-size=\"12\" lengthAdjust=\"spacingAndGlyphs\" textLength=\"0\" x=\"9\" y=\"126.508\"/><text fill=\"#000000\" font-family=\"sans-serif\" font-size=\"12\" lengthAdjust=\"spacingAndGlyphs\" textLength=\"14\" x=\"5\" y=\"140.4768\">Or</text><text fill=\"#000000\" font-family=\"sans-serif\" font-size=\"12\" lengthAdjust=\"spacingAndGlyphs\" textLength=\"0\" x=\"9\" y=\"154.4455\"/><text fill=\"#000000\" font-family=\"monospace\" font-size=\"12\" lengthAdjust=\"spacingAndGlyphs\" textLength=\"78\" x=\"5\" y=\"167.5837\">class Example</text><text fill=\"#000000\" font-family=\"sans-serif\" font-size=\"12\" lengthAdjust=\"spacingAndGlyphs\" textLength=\"0\" x=\"9\" y=\"181.0023\"/><text fill=\"#000000\" font-family=\"sans-serif\" font-size=\"12\" lengthAdjust=\"spacingAndGlyphs\" textLength=\"349\" x=\"5\" y=\"194.9711\">You will find more information about PlantUML syntax on</text><text fill=\"#000000\" font-family=\"sans-serif\" font-size=\"12\" lengthAdjust=\"spacingAndGlyphs\" text-decoration=\"underline\" textLength=\"129\" x=\"358\" y=\"194.9711\">https://plantuml.com</text><image height=\"71\" width=\"80\" x=\"516\" xlink:href=\"data:image/png;base64,iVBORw0KGgoAAAANSUhEUgAAAFAAAABHCAMAAACnHDC8AAADAFBMVEX///+BpbvD3u/f7vfPz8+nz+g3ksuZEDkWADr/ujlvsdpTodLCwsOLwOEbg8T//v6pqamZETnLysvT09To5+jqLS4VATj9/f27u7vDw8MTfsK+v7/j4+SOweJprdjL4/KxsbEri8jk8PgXa57c29uUETez1utQoNJ1tNtEmc9cptWBut6ayOW/3O6YEDjY6vUfhcXBwcHs7Ozw9/v83t79uTn7+/vX19ehoaHx8fG2tLXHx8fuVlfrNTYaBjn/vUH5+fmko6WXl5f/+fn95ub+9PT+8PD3qKidmaMxIUrnqDWcFj7n5eX09PTu7u2SkpKfnZ6rq6z0lJTm4tzJrHUfDT339/eFGDn6tjcrEzOvrbBuZ3l4eomSMS7Hz9Smpqasu8SFiYuQETfa2du1m6OOM051J0NWTWL5xse4uLj6zc33r6/4vb7ydHXqLi/72dntTE3tR0ijbn5jW3C+u8NANVQrG0XFubqRVGZza4GQGT2VaS7a0NPJtI6IJj/zszrfqkXXzr/Hw8cgC0LUqltOQ2JsSC5bTGjOpFafSi2+iDGtyt14m7TJhTCPJUSwoIG/qa+ikHiIgpCRHjI9j8KXbnaQH0FLf6FGPlp0cnYyKE2rg49Wj7dFXHmcwtrp6uu+xMjvYWLvW1z97e3sPD3sP0DuUlP709PYzdDPmzqZWWySRVygfHHd1smWkZ+PgnibETqsl260q5fLuppJLC/dpj2HPFLTtHv/ujrTwJy5s6iWjIi0iD3joTTCmU3trjuvZS2zlFvjq0HSyLbYp0qRts10XGxEKC9yPVBQZIOPdlNvMk2NeYNqRlujtcCVrr3j5eY1gK9Qn9GLp7lbeJXRxrCkiZDaozyukoJ+H0B3rc+OYy+iprJkYXdhmr6ee0afs79xq9BikrGKjI3FomEiLFO0ay6nfIm4pZXRjTFuhZSZWm0zcZyJN0KNTk4eebNfdIGGlZ93h5kcED5nOVYyRWbziIk9dJ4kerE5ZYxRUnLG1d7p8PTvY2PtTk/1nZ1ycV/bAAAFx0lEQVR4Xu1Ye1BUVRg/e3dhl4csKyxqPlBJQVETF2icAY13GogkEFqizqRRpoBpTCIapaUOhWNjUdOMSBpqJYZTg4KigFKADzSIVZ4qD5VFluXhLgvbPee+r49R7v2z3+zcc77fOfPb7zvfPd85uwCIhwT4wPisANwPAuIKHnbHH1I+KwAXDA18ShDW58CneCEnXl8JGwmfHylCPSvlZ/FWxh8YIRIxTWkZAEofkTz8sNq7tAqE2gODOB6GYZobVaH20SVZ4oQcdmXV0L7c4b8OFvJHRoYwdVIoyPX3gxtFDA+V8e6mM8pBoCjij4wQiWo/ALzV/kpkifBi13p4waZuGrJEECycixcEVSbYgFwUozg4/qSraOxrP7O8Eogj2HDxyMWmzpk6823+yIjhvR7fLOpDsCuGhwC0WfbkjQq8A0MWC0EgIYzPCYMymM8Iwcvz6K4IWw8skTrgq3iPMIQnxdfKrvyedpyvbSsyBQt6zcH6OxXmjqYxg9PbgXBBveK6aRAXNEl1Ssc+hz7Bgntyohb/ggQlNrrdzfIuoYKSb79067PrRoLmGo25SeghJRn1yMrSbPTptZaoBlwtlWbBHspxiW+mW8+46ereVnMXGxbFQ+mjofiHZTrclJn5E14UEgdrO9tRVph0HDJlYlRsLv4XFA7RBA1kK5ogBb7gtn08AvxWymc2b+YzLHC3nnOCNHvdayUsZpnnwnPqGf+yGKcPKlv92vtJC209zGyRWJmgyd16sSGGT/AmM2rdKZKZHxwCz7KUodLzJOO8th4OBqxdo0c2tfUkNr3QlJkZQWWMBP0uwBHvmQQb3zRVCMnsMO6ATazf3f0kkza0HTaPCdIhpyTknqP61Te1eV2gRpr1FUn4xtxRT72pDHhj09/UnBLjiv72p4d8FEtlLibBd7Qg0xK5+XfS9q2AzxSVHPnNIMBS8BQPw8N1W4glQWj0mtp4+nSHhvKYOM4GL6vH1jGTcDQ3p1979AQPI5agXEDYwuS5awknJ73rHU56RyLAr6ACpO5iMRGvp3XykjImgs4Fgm2/7URc8dhbeD9jdhYVNon0mdFcAjTIXbmC75VrmVHcQ+JDIXbuNmYUYlZoYx6XcWjKTWavYXd1WzU9OEh9wLFfEVFza5PEhVhDAvfLx60cWM3ePMa9hyZG5DNr6DbQiCUcYU0AKGzGyYxlkf+wxnCk+wdwCbA/TkWH7Dbgoq8dcmKNssQQ3F/JmMxlIj/fzo/7s9OIwUMebbYzbh2zLfk7ehBGzIau6OeO+xzGKlBRwCGAXNaCFgYbRoKG+hMTfMff4M6h0LYxpmv/92ym9tIxc4uRzawynCEWGhum7odf9/75vh8zg0bKijX5AMxhMacsK8pBxaJihtnQqr1KG8yFMzq/dutJ2iKwNCbXA7Yamsm2Xn0XtgtowY3Xy8rpYc4NNqon8eM49k+NtzU55GtMleGAkNR6oldDMhH+e9EX0JB+UYKv4WgLZrLCjHV7wnyYlzJZvYV6A6d1w6xEph842UUyTkjGIbzwRA/JIOBJKSt88yglqND1h6TpiQqQV99wmJ7nknQcgIIHqd00EwSzgudigGYQUHE4qFMcGJb22kp7lNop8p6znStvg5S2e1TVRti56w/zj8fZzKLiDa317MqBQFbs+J3dcbSgo+H4D0kLOokJ82/NR8KZbp9eIZgllwKR8Ec1ejIX827POk/06HpYffGd5dkoZJXMqDAVXd1Nbhavlx4OyuAiPcyAF3Ick8faXAuE5WToApkMxykL1PbNRJ91SDkXOyymPFR1UMlw9GjRPKCrPsRSvUnbzbkELj2PSSRkQLiH1AvROTutlpryLHQAoCD+C2BBP4npMwd9zsIgzgaDsK+bctmVw3hetai5t9RS4PEqub4QnCvxteGzOZyQXxjscxkhHisWKMi72+T0p1dxGeGYkG0ez+eeG7In/n/oNOexC9fzIiLvPxVtKp84iza+AAAAAElFTkSuQmCC\" y=\"6\"/><rect fill=\"#000000\" height=\"96.4844\" style=\"stroke: #000000; stroke-width: 1.0;\" width=\"602\" x=\"0\" y=\"202.8012\"/><rect fill=\"#33FF02\" height=\"21.2969\" style=\"stroke: #33FF02; stroke-width: 1.0;\" width=\"145\" x=\"5\" y=\"207.8012\"/><text fill=\"#000000\" font-family=\"sans-serif\" font-size=\"14\" font-weight=\"bold\" lengthAdjust=\"spacingAndGlyphs\" textLength=\"143\" x=\"6\" y=\"222.8012\">[From string (line 2) ]</text><text fill=\"#33FF02\" font-family=\"sans-serif\" font-size=\"14\" font-weight=\"bold\" lengthAdjust=\"spacingAndGlyphs\" textLength=\"0\" x=\"9\" y=\"243.0981\"/><text fill=\"#33FF02\" font-family=\"sans-serif\" font-size=\"14\" font-weight=\"bold\" lengthAdjust=\"spacingAndGlyphs\" textLength=\"70\" x=\"5\" y=\"259.3949\">@startuml</text><text fill=\"#33FF02\" font-family=\"sans-serif\" font-size=\"14\" font-weight=\"bold\" lengthAdjust=\"spacingAndGlyphs\" textLength=\"0\" x=\"9\" y=\"275.6918\"/><text fill=\"#FF0000\" font-family=\"sans-serif\" font-size=\"14\" font-weight=\"bold\" lengthAdjust=\"spacingAndGlyphs\" textLength=\"124\" x=\"9\" y=\"291.9887\">Empty description</text><!--MD5=[f59edd8218d337f74d0c332fc6737304]\n",
       "@startuml\r\n",
       " \r\n",
       "@enduml\r\n",
       "\n",
       "PlantUML version 1.2020.13(Sat Jun 13 12:26:38 UTC 2020)\n",
       "(EPL source distribution)\n",
       "Java Runtime: OpenJDK Runtime Environment\n",
       "JVM: OpenJDK 64-Bit Server VM\n",
       "Default Encoding: UTF-8\n",
       "Language: en\n",
       "Country: null\n",
       "--></g></svg>"
      ]
     },
     "execution_count": 32,
     "metadata": {},
     "output_type": "execute_result"
    }
   ],
   "source": [
    "%viz --style=\"PLANTUML\" --view=\"State\" \"AliasImport\""
   ]
  },
  {
   "cell_type": "code",
   "execution_count": 33,
   "id": "359746e1",
   "metadata": {
    "execution": {
     "iopub.execute_input": "2021-09-27T07:19:55.871559Z",
     "iopub.status.busy": "2021-09-27T07:19:55.871150Z",
     "iopub.status.idle": "2021-09-27T07:19:55.888853Z",
     "shell.execute_reply": "2021-09-27T07:19:55.888503Z"
    }
   },
   "outputs": [
    {
     "data": {
      "image/svg+xml": [
       "<?xml version=\"1.0\" encoding=\"UTF-8\" standalone=\"no\"?><svg xmlns=\"http://www.w3.org/2000/svg\" xmlns:xlink=\"http://www.w3.org/1999/xlink\" contentScriptType=\"application/ecmascript\" contentStyleType=\"text/css\" height=\"176px\" preserveAspectRatio=\"none\" style=\"width:507px;height:176px;\" version=\"1.1\" viewBox=\"0 0 507 176\" width=\"507px\" zoomAndPan=\"magnify\"><defs><filter height=\"300%\" id=\"f1d3k6zuf72d0b\" width=\"300%\" x=\"-1\" y=\"-1\"><feGaussianBlur result=\"blurOut\" stdDeviation=\"2.0\"/><feColorMatrix in=\"blurOut\" result=\"blurOut2\" type=\"matrix\" values=\"0 0 0 0 0 0 0 0 0 0 0 0 0 0 0 0 0 0 .4 0\"/><feOffset dx=\"4.0\" dy=\"4.0\" in=\"blurOut2\" result=\"blurOut3\"/><feBlend in=\"SourceGraphic\" in2=\"blurOut3\" mode=\"normal\"/></filter></defs><g><!--MD5=[fbc87193dbaf4d95561dea2c320d4a47]\n",
       "cluster E1--><a href=\"psysml:4c778e7a-b929-42de-9fbe-71ac5f912e3c\" target=\"_top\" title=\"psysml:4c778e7a-b929-42de-9fbe-71ac5f912e3c\" xlink:actuate=\"onRequest\" xlink:href=\"psysml:4c778e7a-b929-42de-9fbe-71ac5f912e3c\" xlink:show=\"new\" xlink:title=\"psysml:4c778e7a-b929-42de-9fbe-71ac5f912e3c\" xlink:type=\"simple\"><polygon fill=\"#FFFFFF\" filter=\"url(#f1d3k6zuf72d0b)\" points=\"16,6,97,6,104,28.2969,485,28.2969,485,164,16,164,16,6\" style=\"stroke: #000000; stroke-width: 1.5;\"/><line style=\"stroke: #000000; stroke-width: 1.5;\" x1=\"16\" x2=\"104\" y1=\"28.2969\" y2=\"28.2969\"/><text fill=\"#000000\" font-family=\"sans-serif\" font-size=\"14\" font-weight=\"bold\" lengthAdjust=\"spacingAndGlyphs\" textLength=\"75\" x=\"20\" y=\"20.9951\">AliasImport</text></a><!--MD5=[e4f7fae6ed58524ba242bb0b0d3be6b7]\n",
       "cluster E2--><a href=\"psysml:5f40b44b-bd87-468f-b109-35ffc9f78ab6\" target=\"_top\" title=\"psysml:5f40b44b-bd87-468f-b109-35ffc9f78ab6\" xlink:actuate=\"onRequest\" xlink:href=\"psysml:5f40b44b-bd87-468f-b109-35ffc9f78ab6\" xlink:show=\"new\" xlink:title=\"psysml:5f40b44b-bd87-468f-b109-35ffc9f78ab6\" xlink:type=\"simple\"><polygon fill=\"#FFFFFF\" filter=\"url(#f1d3k6zuf72d0b)\" points=\"230,49,309,49,316,71.2969,461,71.2969,461,140,230,140,230,49\" style=\"stroke: #000000; stroke-width: 1.5;\"/><line style=\"stroke: #000000; stroke-width: 1.5;\" x1=\"230\" x2=\"316\" y1=\"71.2969\" y2=\"71.2969\"/><text fill=\"#000000\" font-family=\"sans-serif\" font-size=\"14\" font-weight=\"bold\" lengthAdjust=\"spacingAndGlyphs\" textLength=\"73\" x=\"234\" y=\"63.9951\">Definitions</text></a><!--MD5=[de5ec2e2e8f62f467e546659f5068c88]\n",
       "cluster E5--><a href=\"psysml:ea2bdd2c-ef7f-4fe4-8ff5-76ffc4616c11\" target=\"_top\" title=\"psysml:ea2bdd2c-ef7f-4fe4-8ff5-76ffc4616c11\" xlink:actuate=\"onRequest\" xlink:href=\"psysml:ea2bdd2c-ef7f-4fe4-8ff5-76ffc4616c11\" xlink:show=\"new\" xlink:title=\"psysml:ea2bdd2c-ef7f-4fe4-8ff5-76ffc4616c11\" xlink:type=\"simple\"><polygon fill=\"#FFFFFF\" filter=\"url(#f1d3k6zuf72d0b)\" points=\"40,49,98,49,105,71.2969,206,71.2969,206,140,40,140,40,49\" style=\"stroke: #000000; stroke-width: 1.5;\"/><line style=\"stroke: #000000; stroke-width: 1.5;\" x1=\"40\" x2=\"105\" y1=\"71.2969\" y2=\"71.2969\"/><text fill=\"#000000\" font-family=\"sans-serif\" font-size=\"14\" font-weight=\"bold\" lengthAdjust=\"spacingAndGlyphs\" textLength=\"52\" x=\"44\" y=\"63.9951\">Usages</text></a><g id=\"E1.E2.E3\"><a href=\"psysml:1b4a97b7-4457-459f-aed1-97b0f48f7241\" target=\"_top\" title=\"psysml:1b4a97b7-4457-459f-aed1-97b0f48f7241\" xlink:actuate=\"onRequest\" xlink:href=\"psysml:1b4a97b7-4457-459f-aed1-97b0f48f7241\" xlink:show=\"new\" xlink:title=\"psysml:1b4a97b7-4457-459f-aed1-97b0f48f7241\" xlink:type=\"simple\"><rect fill=\"#FEFECE\" filter=\"url(#f1d3k6zuf72d0b)\" height=\"40\" id=\"E3\" style=\"stroke: #A80036; stroke-width: 1.5;\" width=\"82\" x=\"363\" y=\"84\"/><ellipse cx=\"380.25\" cy=\"100\" fill=\"#008000\" rx=\"11\" ry=\"11\" style=\"stroke: #A80036; stroke-width: 1.0;\"/><path d=\"M377.125,105 L377.125,94.4063 L380.3594,94.4063 Q382.2656,94.4063 383.1719,95.1563 Q384.0938,95.9063 384.0938,97.0781 Q384.0938,97.7656 383.7031,98.4219 Q383.3281,99.0781 382.6094,99.375 Q383.4688,99.75 383.9844,100.4375 Q384.5,101.125 384.5,101.9375 Q384.5,103.3125 383.4688,104.1563 Q382.4531,105 380.3438,105 L377.125,105 Z M379.0469,98.6406 L380.2031,98.6406 Q381.3281,98.6406 381.7344,98.2656 Q382.1563,97.875 382.1563,97.25 Q382.1563,96.6719 381.7344,96.3125 Q381.3125,95.9531 380.375,95.9531 L379.0469,95.9531 L379.0469,98.6406 Z M379.0469,103.4219 L380.5469,103.4219 Q381.4531,103.4219 381.9844,103.0313 Q382.5156,102.6406 382.5156,101.8906 Q382.5156,101.125 382.0156,100.6563 Q381.5156,100.1719 380.25,100.1719 L379.0469,100.1719 L379.0469,103.4219 Z \"/><text fill=\"#000000\" font-family=\"sans-serif\" font-size=\"12\" lengthAdjust=\"spacingAndGlyphs\" textLength=\"45\" x=\"394.75\" y=\"104.1543\">Vehicle</text></a></g><g id=\"E1.E2.E4\"><a href=\"psysml:1b4a97b7-4457-459f-aed1-97b0f48f7241\" target=\"_top\" title=\"psysml:1b4a97b7-4457-459f-aed1-97b0f48f7241\" xlink:actuate=\"onRequest\" xlink:href=\"psysml:1b4a97b7-4457-459f-aed1-97b0f48f7241\" xlink:show=\"new\" xlink:title=\"psysml:1b4a97b7-4457-459f-aed1-97b0f48f7241\" xlink:type=\"simple\"><rect fill=\"#FEFECE\" filter=\"url(#f1d3k6zuf72d0b)\" height=\"40\" id=\"E4\" style=\"stroke: #A80036; stroke-width: 1.5;\" width=\"82\" x=\"246\" y=\"84\"/><ellipse cx=\"263.25\" cy=\"100\" fill=\"#008000\" rx=\"11\" ry=\"11\" style=\"stroke: #A80036; stroke-width: 1.0;\"/><path d=\"M260.125,105 L260.125,94.4063 L263.3594,94.4063 Q265.2656,94.4063 266.1719,95.1563 Q267.0938,95.9063 267.0938,97.0781 Q267.0938,97.7656 266.7031,98.4219 Q266.3281,99.0781 265.6094,99.375 Q266.4688,99.75 266.9844,100.4375 Q267.5,101.125 267.5,101.9375 Q267.5,103.3125 266.4688,104.1563 Q265.4531,105 263.3438,105 L260.125,105 Z M262.0469,98.6406 L263.2031,98.6406 Q264.3281,98.6406 264.7344,98.2656 Q265.1563,97.875 265.1563,97.25 Q265.1563,96.6719 264.7344,96.3125 Q264.3125,95.9531 263.375,95.9531 L262.0469,95.9531 L262.0469,98.6406 Z M262.0469,103.4219 L263.5469,103.4219 Q264.4531,103.4219 264.9844,103.0313 Q265.5156,102.6406 265.5156,101.8906 Q265.5156,101.125 265.0156,100.6563 Q264.5156,100.1719 263.25,100.1719 L262.0469,100.1719 L262.0469,103.4219 Z \"/><text fill=\"#000000\" font-family=\"sans-serif\" font-size=\"12\" lengthAdjust=\"spacingAndGlyphs\" textLength=\"45\" x=\"277.75\" y=\"104.1543\">Vehicle</text></a></g><g id=\"E1.E5.E6\"><a href=\"psysml:ea5f8fdf-b305-409f-85bc-0024bea5295e\" target=\"_top\" title=\"psysml:ea5f8fdf-b305-409f-85bc-0024bea5295e\" xlink:actuate=\"onRequest\" xlink:href=\"psysml:ea5f8fdf-b305-409f-85bc-0024bea5295e\" xlink:show=\"new\" xlink:title=\"psysml:ea5f8fdf-b305-409f-85bc-0024bea5295e\" xlink:type=\"simple\"><rect fill=\"#FEFECE\" filter=\"url(#f1d3k6zuf72d0b)\" height=\"40\" id=\"E6\" rx=\"10\" ry=\"10\" style=\"stroke: #A80036; stroke-width: 1.5;\" width=\"133\" x=\"56.5\" y=\"84\"/><ellipse cx=\"73.75\" cy=\"100\" fill=\"#B6DBBB\" rx=\"11\" ry=\"11\" style=\"stroke: #A80036; stroke-width: 1.0;\"/><path d=\"M73.5,105.4688 Q71.75,105.4688 70.7969,104.4375 Q69.8594,103.3906 69.8594,101.5469 L69.8594,94.6563 L71.9219,94.6563 L71.9219,94.8125 Q71.8281,94.9063 71.7969,95.0469 Q71.7813,95.1719 71.7813,95.4375 L71.7813,101.5625 Q71.7813,102.6563 72.1563,103.2813 Q72.5313,103.9063 73.5156,103.9063 Q74.5,103.9063 74.8906,103.2813 Q75.2813,102.6563 75.2813,101.5156 L75.2813,94.6563 L77.1563,94.6563 L77.1563,101.5 Q77.1563,103.5313 76.125,104.5 Q75.1094,105.4688 73.5,105.4688 Z \"/><text fill=\"#000000\" font-family=\"sans-serif\" font-size=\"12\" lengthAdjust=\"spacingAndGlyphs\" textLength=\"96\" x=\"88.25\" y=\"104.1543\">vehicle: Vehicle</text></a></g><!--MD5=[c67d0052c454f1d9c06fac3ae2fb411f]\n",
       "@startuml\r\n",
       "skinparam ranksep 10\r\n",
       "skinparam rectangle {\r\n",
       " backgroundColor<<block>> LightGreen\r\n",
       "}\r\n",
       " \r\n",
       "package \"AliasImport\" as E1  [[psysml:4c778e7a-b929-42de-9fbe-71ac5f912e3c ]]  {\r\n",
       "package \"Definitions\" as E2  [[psysml:5f40b44b-bd87-468f-b109-35ffc9f78ab6 ]]  {\r\n",
       "rec def \"Vehicle\" as E3 << << (B,green) >> [[psysml:1b4a97b7-4457-459f-aed1-97b0f48f7241 ]] {\r\n",
       "}\r\n",
       "rec def \"Vehicle\" as E4 << << (B,green) >> [[psysml:1b4a97b7-4457-459f-aed1-97b0f48f7241 ]] {\r\n",
       "}\r\n",
       "}\r\n",
       "package \"Usages\" as E5  [[psysml:ea2bdd2c-ef7f-4fe4-8ff5-76ffc4616c11 ]]  {\r\n",
       "rec usage \"vehicle: Vehicle\" as E6  [[psysml:ea5f8fdf-b305-409f-85bc-0024bea5295e ]] {\r\n",
       "}\r\n",
       "}\r\n",
       "}\r\n",
       "@enduml\r\n",
       "\n",
       "PlantUML version 1.2020.13(Sat Jun 13 12:26:38 UTC 2020)\n",
       "(EPL source distribution)\n",
       "Java Runtime: OpenJDK Runtime Environment\n",
       "JVM: OpenJDK 64-Bit Server VM\n",
       "Default Encoding: UTF-8\n",
       "Language: en\n",
       "Country: null\n",
       "--></g></svg>"
      ]
     },
     "execution_count": 33,
     "metadata": {},
     "output_type": "execute_result"
    }
   ],
   "source": [
    "%viz --style=\"PLANTUML\" --view=\"Interconnection\" \"AliasImport\""
   ]
  },
  {
   "cell_type": "code",
   "execution_count": 34,
   "id": "f4f3adc9",
   "metadata": {
    "execution": {
     "iopub.execute_input": "2021-09-27T07:19:55.938547Z",
     "iopub.status.busy": "2021-09-27T07:19:55.938139Z",
     "iopub.status.idle": "2021-09-27T07:19:55.941283Z",
     "shell.execute_reply": "2021-09-27T07:19:55.940935Z"
    }
   },
   "outputs": [
    {
     "data": {
      "image/svg+xml": [
       "<?xml version=\"1.0\" encoding=\"UTF-8\" standalone=\"no\"?><svg xmlns=\"http://www.w3.org/2000/svg\" xmlns:xlink=\"http://www.w3.org/1999/xlink\" contentScriptType=\"application/ecmascript\" contentStyleType=\"text/css\" height=\"12px\" preserveAspectRatio=\"none\" style=\"width:12px;height:12px;\" version=\"1.1\" viewBox=\"0 0 12 12\" width=\"12px\" zoomAndPan=\"magnify\"><defs/><g><!--MD5=[6a4cb978cab31700e1ce5529f947a75d]\n",
       "@startuml\r\n",
       "skinparam ranksep 8\r\n",
       " \r\n",
       "@enduml\r\n",
       "\n",
       "PlantUML version 1.2020.13(Sat Jun 13 12:26:38 UTC 2020)\n",
       "(EPL source distribution)\n",
       "Java Runtime: OpenJDK Runtime Environment\n",
       "JVM: OpenJDK 64-Bit Server VM\n",
       "Default Encoding: UTF-8\n",
       "Language: en\n",
       "Country: null\n",
       "--></g></svg>"
      ]
     },
     "execution_count": 34,
     "metadata": {},
     "output_type": "execute_result"
    }
   ],
   "source": [
    "%viz --style=\"PLANTUML\" --view=\"Action\" \"AliasImport\""
   ]
  },
  {
   "cell_type": "code",
   "execution_count": 35,
   "id": "1d6dadf1",
   "metadata": {
    "execution": {
     "iopub.execute_input": "2021-09-27T07:19:55.991145Z",
     "iopub.status.busy": "2021-09-27T07:19:55.990740Z",
     "iopub.status.idle": "2021-09-27T07:19:55.994081Z",
     "shell.execute_reply": "2021-09-27T07:19:55.993713Z"
    }
   },
   "outputs": [
    {
     "data": {
      "image/svg+xml": [
       "<?xml version=\"1.0\" encoding=\"UTF-8\" standalone=\"no\"?><svg xmlns=\"http://www.w3.org/2000/svg\" xmlns:xlink=\"http://www.w3.org/1999/xlink\" contentScriptType=\"application/ecmascript\" contentStyleType=\"text/css\" height=\"12px\" preserveAspectRatio=\"none\" style=\"width:12px;height:12px;\" version=\"1.1\" viewBox=\"0 0 12 12\" width=\"12px\" zoomAndPan=\"magnify\"><defs/><g><!--MD5=[ca4faa0b02def275ea33c14ea7a1a98d]\n",
       "@startuml\r\n",
       "skinparam roundcorner 20\r\n",
       "skinparam BoxPadding 20\r\n",
       "skinparam SequenceBoxBackgroundColor #white\r\n",
       "skinparam style strictuml\r\n",
       "skinparam maxMessageSize 100\r\n",
       " \r\n",
       "@enduml\r\n",
       "\n",
       "PlantUML version 1.2020.13(Sat Jun 13 12:26:38 UTC 2020)\n",
       "(EPL source distribution)\n",
       "Java Runtime: OpenJDK Runtime Environment\n",
       "JVM: OpenJDK 64-Bit Server VM\n",
       "Default Encoding: UTF-8\n",
       "Language: en\n",
       "Country: null\n",
       "--></g></svg>"
      ]
     },
     "execution_count": 35,
     "metadata": {},
     "output_type": "execute_result"
    }
   ],
   "source": [
    "%viz --style=\"PLANTUML\" --view=\"Sequence\" \"AliasImport\""
   ]
  },
  {
   "cell_type": "code",
   "execution_count": 36,
   "id": "c9b51e3b",
   "metadata": {
    "execution": {
     "iopub.execute_input": "2021-09-27T07:19:56.043899Z",
     "iopub.status.busy": "2021-09-27T07:19:56.043496Z",
     "iopub.status.idle": "2021-09-27T07:19:56.059873Z",
     "shell.execute_reply": "2021-09-27T07:19:56.059521Z"
    }
   },
   "outputs": [
    {
     "data": {
      "image/svg+xml": [
       "<?xml version=\"1.0\" encoding=\"UTF-8\" standalone=\"no\"?><svg xmlns=\"http://www.w3.org/2000/svg\" xmlns:xlink=\"http://www.w3.org/1999/xlink\" contentScriptType=\"application/ecmascript\" contentStyleType=\"text/css\" height=\"297px\" preserveAspectRatio=\"none\" style=\"width:246px;height:297px;\" version=\"1.1\" viewBox=\"0 0 246 297\" width=\"246px\" zoomAndPan=\"magnify\"><defs><filter height=\"300%\" id=\"fsvrm6r36itnm\" width=\"300%\" x=\"-1\" y=\"-1\"><feGaussianBlur result=\"blurOut\" stdDeviation=\"2.0\"/><feColorMatrix in=\"blurOut\" result=\"blurOut2\" type=\"matrix\" values=\"0 0 0 0 0 0 0 0 0 0 0 0 0 0 0 0 0 0 .4 0\"/><feOffset dx=\"4.0\" dy=\"4.0\" in=\"blurOut2\" result=\"blurOut3\"/><feBlend in=\"SourceGraphic\" in2=\"blurOut3\" mode=\"normal\"/></filter></defs><g><!--MD5=[fbc87193dbaf4d95561dea2c320d4a47]\n",
       "cluster E1--><a href=\"psysml:4c778e7a-b929-42de-9fbe-71ac5f912e3c\" target=\"_top\" title=\"psysml:4c778e7a-b929-42de-9fbe-71ac5f912e3c\" xlink:actuate=\"onRequest\" xlink:href=\"psysml:4c778e7a-b929-42de-9fbe-71ac5f912e3c\" xlink:show=\"new\" xlink:title=\"psysml:4c778e7a-b929-42de-9fbe-71ac5f912e3c\" xlink:type=\"simple\"><polygon fill=\"#FFFFFF\" filter=\"url(#fsvrm6r36itnm)\" points=\"16,6,97,6,104,28.2969,224,28.2969,224,285,16,285,16,6\" style=\"stroke: #000000; stroke-width: 1.5;\"/><line style=\"stroke: #000000; stroke-width: 1.5;\" x1=\"16\" x2=\"104\" y1=\"28.2969\" y2=\"28.2969\"/><text fill=\"#000000\" font-family=\"sans-serif\" font-size=\"14\" font-weight=\"bold\" lengthAdjust=\"spacingAndGlyphs\" textLength=\"75\" x=\"20\" y=\"20.9951\">AliasImport</text></a><!--MD5=[e4f7fae6ed58524ba242bb0b0d3be6b7]\n",
       "cluster E2--><a href=\"psysml:5f40b44b-bd87-468f-b109-35ffc9f78ab6\" target=\"_top\" title=\"psysml:5f40b44b-bd87-468f-b109-35ffc9f78ab6\" xlink:actuate=\"onRequest\" xlink:href=\"psysml:5f40b44b-bd87-468f-b109-35ffc9f78ab6\" xlink:show=\"new\" xlink:title=\"psysml:5f40b44b-bd87-468f-b109-35ffc9f78ab6\" xlink:type=\"simple\"><polygon fill=\"#FFFFFF\" filter=\"url(#fsvrm6r36itnm)\" points=\"65,170,144,170,151,192.2969,175,192.2969,175,261,65,261,65,170\" style=\"stroke: #000000; stroke-width: 1.5;\"/><line style=\"stroke: #000000; stroke-width: 1.5;\" x1=\"65\" x2=\"151\" y1=\"192.2969\" y2=\"192.2969\"/><text fill=\"#000000\" font-family=\"sans-serif\" font-size=\"14\" font-weight=\"bold\" lengthAdjust=\"spacingAndGlyphs\" textLength=\"73\" x=\"69\" y=\"184.9951\">Definitions</text></a><!--MD5=[f6df4d0ebaf0b5dfb2ced0ae5af7c670]\n",
       "cluster E4--><a href=\"psysml:ea2bdd2c-ef7f-4fe4-8ff5-76ffc4616c11\" target=\"_top\" title=\"psysml:ea2bdd2c-ef7f-4fe4-8ff5-76ffc4616c11\" xlink:actuate=\"onRequest\" xlink:href=\"psysml:ea2bdd2c-ef7f-4fe4-8ff5-76ffc4616c11\" xlink:show=\"new\" xlink:title=\"psysml:ea2bdd2c-ef7f-4fe4-8ff5-76ffc4616c11\" xlink:type=\"simple\"><polygon fill=\"#FFFFFF\" filter=\"url(#fsvrm6r36itnm)\" points=\"40,49,98,49,105,71.2969,200,71.2969,200,146,40,146,40,49\" style=\"stroke: #000000; stroke-width: 1.5;\"/><line style=\"stroke: #000000; stroke-width: 1.5;\" x1=\"40\" x2=\"105\" y1=\"71.2969\" y2=\"71.2969\"/><text fill=\"#000000\" font-family=\"sans-serif\" font-size=\"14\" font-weight=\"bold\" lengthAdjust=\"spacingAndGlyphs\" textLength=\"52\" x=\"44\" y=\"63.9951\">Usages</text></a><!--MD5=[09b614a08d8cba4a07c9adeb5e0fee81]\n",
       "class E3--><a href=\"psysml:1b4a97b7-4457-459f-aed1-97b0f48f7241\" target=\"_top\" title=\"psysml:1b4a97b7-4457-459f-aed1-97b0f48f7241\" xlink:actuate=\"onRequest\" xlink:href=\"psysml:1b4a97b7-4457-459f-aed1-97b0f48f7241\" xlink:show=\"new\" xlink:title=\"psysml:1b4a97b7-4457-459f-aed1-97b0f48f7241\" xlink:type=\"simple\"><rect fill=\"#FEFECE\" filter=\"url(#fsvrm6r36itnm)\" height=\"40\" id=\"E3\" style=\"stroke: #A80036; stroke-width: 1.5;\" width=\"77\" x=\"81.5\" y=\"205\"/><ellipse cx=\"96.5\" cy=\"221\" fill=\"#008000\" rx=\"11\" ry=\"11\" style=\"stroke: #A80036; stroke-width: 1.0;\"/><path d=\"M93.375,226 L93.375,215.4063 L96.6094,215.4063 Q98.5156,215.4063 99.4219,216.1563 Q100.3438,216.9063 100.3438,218.0781 Q100.3438,218.7656 99.9531,219.4219 Q99.5781,220.0781 98.8594,220.375 Q99.7188,220.75 100.2344,221.4375 Q100.75,222.125 100.75,222.9375 Q100.75,224.3125 99.7188,225.1563 Q98.7031,226 96.5938,226 L93.375,226 Z M95.2969,219.6406 L96.4531,219.6406 Q97.5781,219.6406 97.9844,219.2656 Q98.4063,218.875 98.4063,218.25 Q98.4063,217.6719 97.9844,217.3125 Q97.5625,216.9531 96.625,216.9531 L95.2969,216.9531 L95.2969,219.6406 Z M95.2969,224.4219 L96.7969,224.4219 Q97.7031,224.4219 98.2344,224.0313 Q98.7656,223.6406 98.7656,222.8906 Q98.7656,222.125 98.2656,221.6563 Q97.7656,221.1719 96.5,221.1719 L95.2969,221.1719 L95.2969,224.4219 Z \"/><text fill=\"#000000\" font-family=\"sans-serif\" font-size=\"12\" lengthAdjust=\"spacingAndGlyphs\" textLength=\"45\" x=\"110.5\" y=\"225.1543\">Vehicle</text><line style=\"stroke: #A80036; stroke-width: 1.5;\" x1=\"82.5\" x2=\"157.5\" y1=\"237\" y2=\"237\"/></a><!--MD5=[270fce915f116d4de14055a7c1d9a0f3]\n",
       "class E5--><a href=\"psysml:ea5f8fdf-b305-409f-85bc-0024bea5295e\" target=\"_top\" title=\"psysml:ea5f8fdf-b305-409f-85bc-0024bea5295e\" xlink:actuate=\"onRequest\" xlink:href=\"psysml:ea5f8fdf-b305-409f-85bc-0024bea5295e\" xlink:show=\"new\" xlink:title=\"psysml:ea5f8fdf-b305-409f-85bc-0024bea5295e\" xlink:type=\"simple\"><rect fill=\"#FEFECE\" filter=\"url(#fsvrm6r36itnm)\" height=\"45.9375\" id=\"E5\" rx=\"10\" ry=\"10\" style=\"stroke: #A80036; stroke-width: 1.5;\" width=\"128\" x=\"56\" y=\"84\"/><ellipse cx=\"71\" cy=\"102.9688\" fill=\"#32CD32\" rx=\"11\" ry=\"11\" style=\"stroke: #A80036; stroke-width: 1.0;\"/><path d=\"M67.8125,107.9688 L67.8125,97.375 L71.4219,97.375 Q72.6406,97.375 73.4375,97.8125 Q74.2344,98.2344 74.6094,98.9375 Q75,99.6406 75,100.4844 Q75,101.3281 74.625,102.0156 Q74.2656,102.7031 73.4688,103.125 Q72.6875,103.5313 71.5,103.5313 L69.7656,103.5313 L69.7656,107.9688 L67.8125,107.9688 Z M69.7656,101.9375 L71.375,101.9375 Q72.1875,101.9375 72.6094,101.5313 Q73.0313,101.125 73.0313,100.4844 Q73.0313,99.8594 72.6094,99.4531 Q72.1875,99.0469 71.3906,99.0469 L69.7656,99.0469 L69.7656,101.9375 Z \"/><text fill=\"#000000\" font-family=\"sans-serif\" font-size=\"12\" font-style=\"italic\" lengthAdjust=\"spacingAndGlyphs\" textLength=\"40\" x=\"113\" y=\"100.1387\">«part»</text><text fill=\"#000000\" font-family=\"sans-serif\" font-size=\"12\" lengthAdjust=\"spacingAndGlyphs\" textLength=\"96\" x=\"85\" y=\"114.1074\">vehicle: Vehicle</text><line style=\"stroke: #A80036; stroke-width: 1.5;\" x1=\"57\" x2=\"183\" y1=\"121.9375\" y2=\"121.9375\"/></a><!--MD5=[e9be52314489bd878ff4c7144b63c9e1]\n",
       "link E5 to E3--><a href=\"psysml:4cdeda76-c42f-43d9-9b0b-b21e3f7ae647\" target=\"_top\" title=\"psysml:4cdeda76-c42f-43d9-9b0b-b21e3f7ae647\" xlink:actuate=\"onRequest\" xlink:href=\"psysml:4cdeda76-c42f-43d9-9b0b-b21e3f7ae647\" xlink:show=\"new\" xlink:title=\"psysml:4cdeda76-c42f-43d9-9b0b-b21e3f7ae647\" xlink:type=\"simple\"><path d=\"M120,130.09 C120,145.42 120,166.27 120,184.42 \" fill=\"none\" id=\"E5-&gt;E3\" style=\"stroke: #A80036; stroke-width: 1.0;\"/><polygon fill=\"#FFFFFF\" points=\"120,204.69,113,185.69,127,185.69,120,204.69\" style=\"stroke: #A80036; stroke-width: 1.0;\"/><ellipse cx=\"115\" cy=\"179.99\" fill=\"#A80036\" rx=\"2\" ry=\"2\" style=\"stroke: #A80036; stroke-width: 1.0;\"/><ellipse cx=\"125\" cy=\"179.99\" fill=\"#A80036\" rx=\"2\" ry=\"2\" style=\"stroke: #A80036; stroke-width: 1.0;\"/></a><!--MD5=[f82a8b77bc100befa33cc20e98abbcfc]\n",
       "@startuml\r\n",
       " \r\n",
       "package \"AliasImport\" as E1  [[psysml:4c778e7a-b929-42de-9fbe-71ac5f912e3c ]]  {\r\n",
       "package \"Definitions\" as E2  [[psysml:5f40b44b-bd87-468f-b109-35ffc9f78ab6 ]]  {\r\n",
       "comp def \"Vehicle\" as E3 << << (B,green) >> [[psysml:1b4a97b7-4457-459f-aed1-97b0f48f7241 ]] {\r\n",
       "}\r\n",
       "}\r\n",
       "package \"Usages\" as E4  [[psysml:ea2bdd2c-ef7f-4fe4-8ff5-76ffc4616c11 ]]  {\r\n",
       "comp usage \"vehicle: Vehicle\" as E5 << << (P,limegreen) part>> [[psysml:ea5f8fdf-b305-409f-85bc-0024bea5295e ]] {\r\n",
       "}\r\n",
       "}\r\n",
       "}\r\n",
       "E5 - -:|> E3 [[psysml:4cdeda76-c42f-43d9-9b0b-b21e3f7ae647 ]] \r\n",
       "@enduml\r\n",
       "\n",
       "PlantUML version 1.2020.13(Sat Jun 13 12:26:38 UTC 2020)\n",
       "(EPL source distribution)\n",
       "Java Runtime: OpenJDK Runtime Environment\n",
       "JVM: OpenJDK 64-Bit Server VM\n",
       "Default Encoding: UTF-8\n",
       "Language: en\n",
       "Country: null\n",
       "--></g></svg>"
      ]
     },
     "execution_count": 36,
     "metadata": {},
     "output_type": "execute_result"
    }
   ],
   "source": [
    "%viz --style=\"PLANTUML\" --view=\"MIXED\" \"AliasImport\""
   ]
  },
  {
   "cell_type": "code",
   "execution_count": 37,
   "id": "b4aa8eba",
   "metadata": {
    "execution": {
     "iopub.execute_input": "2021-09-27T07:19:56.109615Z",
     "iopub.status.busy": "2021-09-27T07:19:56.109210Z",
     "iopub.status.idle": "2021-09-27T07:19:56.134857Z",
     "shell.execute_reply": "2021-09-27T07:19:56.133386Z"
    }
   },
   "outputs": [
    {
     "data": {
      "image/svg+xml": [
       "<?xml version=\"1.0\" encoding=\"UTF-8\" standalone=\"no\"?><svg xmlns=\"http://www.w3.org/2000/svg\" xmlns:xlink=\"http://www.w3.org/1999/xlink\" contentScriptType=\"application/ecmascript\" contentStyleType=\"text/css\" height=\"303px\" preserveAspectRatio=\"none\" style=\"width:220px;height:303px;\" version=\"1.1\" viewBox=\"0 0 220 303\" width=\"220px\" zoomAndPan=\"magnify\"><defs/><g><!--MD5=[fbc87193dbaf4d95561dea2c320d4a47]\n",
       "cluster E1--><a href=\"psysml:4c778e7a-b929-42de-9fbe-71ac5f912e3c\" target=\"_top\" title=\"psysml:4c778e7a-b929-42de-9fbe-71ac5f912e3c\" xlink:actuate=\"onRequest\" xlink:href=\"psysml:4c778e7a-b929-42de-9fbe-71ac5f912e3c\" xlink:show=\"new\" xlink:title=\"psysml:4c778e7a-b929-42de-9fbe-71ac5f912e3c\" xlink:type=\"simple\"><polygon fill=\"#FFFFFF\" points=\"16,6,97,6,104,28.2969,198,28.2969,198,291,16,291,16,6\" style=\"stroke: #000000; stroke-width: 1.5;\"/><line style=\"stroke: #000000; stroke-width: 1.5;\" x1=\"16\" x2=\"104\" y1=\"28.2969\" y2=\"28.2969\"/><text fill=\"#000000\" font-family=\"sans-serif\" font-size=\"14\" font-weight=\"bold\" lengthAdjust=\"spacingAndGlyphs\" textLength=\"75\" x=\"20\" y=\"20.9951\">AliasImport</text></a><!--MD5=[e4f7fae6ed58524ba242bb0b0d3be6b7]\n",
       "cluster E2--><a href=\"psysml:5f40b44b-bd87-468f-b109-35ffc9f78ab6\" target=\"_top\" title=\"psysml:5f40b44b-bd87-468f-b109-35ffc9f78ab6\" xlink:actuate=\"onRequest\" xlink:href=\"psysml:5f40b44b-bd87-468f-b109-35ffc9f78ab6\" xlink:show=\"new\" xlink:title=\"psysml:5f40b44b-bd87-468f-b109-35ffc9f78ab6\" xlink:type=\"simple\"><polygon fill=\"#FFFFFF\" points=\"58,170,137,170,144,192.2969,156,192.2969,156,267,58,267,58,170\" style=\"stroke: #000000; stroke-width: 1.5;\"/><line style=\"stroke: #000000; stroke-width: 1.5;\" x1=\"58\" x2=\"144\" y1=\"192.2969\" y2=\"192.2969\"/><text fill=\"#000000\" font-family=\"sans-serif\" font-size=\"14\" font-weight=\"bold\" lengthAdjust=\"spacingAndGlyphs\" textLength=\"73\" x=\"62\" y=\"184.9951\">Definitions</text></a><!--MD5=[f6df4d0ebaf0b5dfb2ced0ae5af7c670]\n",
       "cluster E4--><a href=\"psysml:ea2bdd2c-ef7f-4fe4-8ff5-76ffc4616c11\" target=\"_top\" title=\"psysml:ea2bdd2c-ef7f-4fe4-8ff5-76ffc4616c11\" xlink:actuate=\"onRequest\" xlink:href=\"psysml:ea2bdd2c-ef7f-4fe4-8ff5-76ffc4616c11\" xlink:show=\"new\" xlink:title=\"psysml:ea2bdd2c-ef7f-4fe4-8ff5-76ffc4616c11\" xlink:type=\"simple\"><polygon fill=\"#FFFFFF\" points=\"40,49,98,49,105,71.2969,174,71.2969,174,146,40,146,40,49\" style=\"stroke: #000000; stroke-width: 1.5;\"/><line style=\"stroke: #000000; stroke-width: 1.5;\" x1=\"40\" x2=\"105\" y1=\"71.2969\" y2=\"71.2969\"/><text fill=\"#000000\" font-family=\"sans-serif\" font-size=\"14\" font-weight=\"bold\" lengthAdjust=\"spacingAndGlyphs\" textLength=\"52\" x=\"44\" y=\"63.9951\">Usages</text></a><!--MD5=[09b614a08d8cba4a07c9adeb5e0fee81]\n",
       "class E3--><a href=\"psysml:1b4a97b7-4457-459f-aed1-97b0f48f7241\" target=\"_top\" title=\"psysml:1b4a97b7-4457-459f-aed1-97b0f48f7241\" xlink:actuate=\"onRequest\" xlink:href=\"psysml:1b4a97b7-4457-459f-aed1-97b0f48f7241\" xlink:show=\"new\" xlink:title=\"psysml:1b4a97b7-4457-459f-aed1-97b0f48f7241\" xlink:type=\"simple\"><rect fill=\"#FFFFFF\" height=\"45.9375\" id=\"E3\" style=\"stroke: #383838; stroke-width: 1.5;\" width=\"66\" x=\"74\" y=\"205\"/><text fill=\"#000000\" font-family=\"sans-serif\" font-size=\"12\" font-style=\"italic\" lengthAdjust=\"spacingAndGlyphs\" textLength=\"64\" x=\"75\" y=\"221.1387\">«part def»</text><text fill=\"#000000\" font-family=\"sans-serif\" font-size=\"12\" lengthAdjust=\"spacingAndGlyphs\" textLength=\"45\" x=\"84.5\" y=\"235.1074\">Vehicle</text><line style=\"stroke: #383838; stroke-width: 1.5;\" x1=\"75\" x2=\"139\" y1=\"242.9375\" y2=\"242.9375\"/></a><!--MD5=[270fce915f116d4de14055a7c1d9a0f3]\n",
       "class E5--><a href=\"psysml:ea5f8fdf-b305-409f-85bc-0024bea5295e\" target=\"_top\" title=\"psysml:ea5f8fdf-b305-409f-85bc-0024bea5295e\" xlink:actuate=\"onRequest\" xlink:href=\"psysml:ea5f8fdf-b305-409f-85bc-0024bea5295e\" xlink:show=\"new\" xlink:title=\"psysml:ea5f8fdf-b305-409f-85bc-0024bea5295e\" xlink:type=\"simple\"><rect fill=\"#FFFFFF\" height=\"45.9375\" id=\"E5\" rx=\"10\" ry=\"10\" style=\"stroke: #383838; stroke-width: 1.5;\" width=\"102\" x=\"56\" y=\"84\"/><text fill=\"#000000\" font-family=\"sans-serif\" font-size=\"12\" font-style=\"italic\" lengthAdjust=\"spacingAndGlyphs\" textLength=\"40\" x=\"87\" y=\"100.1387\">«part»</text><text fill=\"#000000\" font-family=\"sans-serif\" font-size=\"12\" lengthAdjust=\"spacingAndGlyphs\" textLength=\"96\" x=\"59\" y=\"114.1074\">vehicle: Vehicle</text><line style=\"stroke: #383838; stroke-width: 1.5;\" x1=\"57\" x2=\"157\" y1=\"121.9375\" y2=\"121.9375\"/></a><!--MD5=[e9be52314489bd878ff4c7144b63c9e1]\n",
       "link E5 to E3--><a href=\"psysml:4cdeda76-c42f-43d9-9b0b-b21e3f7ae647\" target=\"_top\" title=\"psysml:4cdeda76-c42f-43d9-9b0b-b21e3f7ae647\" xlink:actuate=\"onRequest\" xlink:href=\"psysml:4cdeda76-c42f-43d9-9b0b-b21e3f7ae647\" xlink:show=\"new\" xlink:title=\"psysml:4cdeda76-c42f-43d9-9b0b-b21e3f7ae647\" xlink:type=\"simple\"><path d=\"M107,130.1 C107,145.37 107,166.16 107,184.57 \" fill=\"none\" id=\"E5-&gt;E3\" style=\"stroke: #383838; stroke-width: 1.0;\"/><polygon fill=\"#FFFFFF\" points=\"107,204.61,100,185.61,114,185.61,107,204.61\" style=\"stroke: #383838; stroke-width: 1.0;\"/><ellipse cx=\"102\" cy=\"179.91\" fill=\"#383838\" rx=\"2\" ry=\"2\" style=\"stroke: #383838; stroke-width: 1.0;\"/><ellipse cx=\"112\" cy=\"179.91\" fill=\"#383838\" rx=\"2\" ry=\"2\" style=\"stroke: #383838; stroke-width: 1.0;\"/></a><!--MD5=[72f39ab61f295e05e717d6be05b8b5d8]\n",
       "@startuml\r\n",
       "skinparam monochrome true\r\n",
       "skinparam classbackgroundcolor white\r\n",
       "skinparam shadowing false\r\n",
       "skinparam wrapWidth 300\r\n",
       "hide circle\r\n",
       "\r\n",
       "package \"AliasImport\" as E1  [[psysml:4c778e7a-b929-42de-9fbe-71ac5f912e3c ]]  {\r\n",
       "package \"Definitions\" as E2  [[psysml:5f40b44b-bd87-468f-b109-35ffc9f78ab6 ]]  {\r\n",
       "comp def \"Vehicle\" as E3  <<(T,blue) part def>> [[psysml:1b4a97b7-4457-459f-aed1-97b0f48f7241 ]] {\r\n",
       "}\r\n",
       "}\r\n",
       "package \"Usages\" as E4  [[psysml:ea2bdd2c-ef7f-4fe4-8ff5-76ffc4616c11 ]]  {\r\n",
       "comp usage \"vehicle: Vehicle\" as E5  <<(T,blue) part>> [[psysml:ea5f8fdf-b305-409f-85bc-0024bea5295e ]] {\r\n",
       "}\r\n",
       "}\r\n",
       "}\r\n",
       "E5 - -:|> E3 [[psysml:4cdeda76-c42f-43d9-9b0b-b21e3f7ae647 ]] \r\n",
       "@enduml\r\n",
       "\n",
       "PlantUML version 1.2020.13(Sat Jun 13 12:26:38 UTC 2020)\n",
       "(EPL source distribution)\n",
       "Java Runtime: OpenJDK Runtime Environment\n",
       "JVM: OpenJDK 64-Bit Server VM\n",
       "Default Encoding: UTF-8\n",
       "Language: en\n",
       "Country: null\n",
       "--></g></svg>"
      ]
     },
     "execution_count": 37,
     "metadata": {},
     "output_type": "execute_result"
    }
   ],
   "source": [
    "%viz --style=\"DEFAULT\" --view=\"Default\" \"AliasImport\""
   ]
  },
  {
   "cell_type": "code",
   "execution_count": 38,
   "id": "589d3d73",
   "metadata": {
    "execution": {
     "iopub.execute_input": "2021-09-27T07:19:56.184336Z",
     "iopub.status.busy": "2021-09-27T07:19:56.183928Z",
     "iopub.status.idle": "2021-09-27T07:19:56.205624Z",
     "shell.execute_reply": "2021-09-27T07:19:56.205935Z"
    }
   },
   "outputs": [
    {
     "data": {
      "image/svg+xml": [
       "<?xml version=\"1.0\" encoding=\"UTF-8\" standalone=\"no\"?><svg xmlns=\"http://www.w3.org/2000/svg\" xmlns:xlink=\"http://www.w3.org/1999/xlink\" contentScriptType=\"application/ecmascript\" contentStyleType=\"text/css\" height=\"303px\" preserveAspectRatio=\"none\" style=\"width:220px;height:303px;\" version=\"1.1\" viewBox=\"0 0 220 303\" width=\"220px\" zoomAndPan=\"magnify\"><defs/><g><!--MD5=[fbc87193dbaf4d95561dea2c320d4a47]\n",
       "cluster E1--><a href=\"psysml:4c778e7a-b929-42de-9fbe-71ac5f912e3c\" target=\"_top\" title=\"psysml:4c778e7a-b929-42de-9fbe-71ac5f912e3c\" xlink:actuate=\"onRequest\" xlink:href=\"psysml:4c778e7a-b929-42de-9fbe-71ac5f912e3c\" xlink:show=\"new\" xlink:title=\"psysml:4c778e7a-b929-42de-9fbe-71ac5f912e3c\" xlink:type=\"simple\"><polygon fill=\"#FFFFFF\" points=\"16,6,97,6,104,28.2969,198,28.2969,198,291,16,291,16,6\" style=\"stroke: #000000; stroke-width: 1.5;\"/><line style=\"stroke: #000000; stroke-width: 1.5;\" x1=\"16\" x2=\"104\" y1=\"28.2969\" y2=\"28.2969\"/><text fill=\"#000000\" font-family=\"sans-serif\" font-size=\"14\" font-weight=\"bold\" lengthAdjust=\"spacingAndGlyphs\" textLength=\"75\" x=\"20\" y=\"20.9951\">AliasImport</text></a><!--MD5=[e4f7fae6ed58524ba242bb0b0d3be6b7]\n",
       "cluster E2--><a href=\"psysml:5f40b44b-bd87-468f-b109-35ffc9f78ab6\" target=\"_top\" title=\"psysml:5f40b44b-bd87-468f-b109-35ffc9f78ab6\" xlink:actuate=\"onRequest\" xlink:href=\"psysml:5f40b44b-bd87-468f-b109-35ffc9f78ab6\" xlink:show=\"new\" xlink:title=\"psysml:5f40b44b-bd87-468f-b109-35ffc9f78ab6\" xlink:type=\"simple\"><polygon fill=\"#FFFFFF\" points=\"58,170,137,170,144,192.2969,156,192.2969,156,267,58,267,58,170\" style=\"stroke: #000000; stroke-width: 1.5;\"/><line style=\"stroke: #000000; stroke-width: 1.5;\" x1=\"58\" x2=\"144\" y1=\"192.2969\" y2=\"192.2969\"/><text fill=\"#000000\" font-family=\"sans-serif\" font-size=\"14\" font-weight=\"bold\" lengthAdjust=\"spacingAndGlyphs\" textLength=\"73\" x=\"62\" y=\"184.9951\">Definitions</text></a><!--MD5=[f6df4d0ebaf0b5dfb2ced0ae5af7c670]\n",
       "cluster E4--><a href=\"psysml:ea2bdd2c-ef7f-4fe4-8ff5-76ffc4616c11\" target=\"_top\" title=\"psysml:ea2bdd2c-ef7f-4fe4-8ff5-76ffc4616c11\" xlink:actuate=\"onRequest\" xlink:href=\"psysml:ea2bdd2c-ef7f-4fe4-8ff5-76ffc4616c11\" xlink:show=\"new\" xlink:title=\"psysml:ea2bdd2c-ef7f-4fe4-8ff5-76ffc4616c11\" xlink:type=\"simple\"><polygon fill=\"#FFFFFF\" points=\"40,49,98,49,105,71.2969,174,71.2969,174,146,40,146,40,49\" style=\"stroke: #000000; stroke-width: 1.5;\"/><line style=\"stroke: #000000; stroke-width: 1.5;\" x1=\"40\" x2=\"105\" y1=\"71.2969\" y2=\"71.2969\"/><text fill=\"#000000\" font-family=\"sans-serif\" font-size=\"14\" font-weight=\"bold\" lengthAdjust=\"spacingAndGlyphs\" textLength=\"52\" x=\"44\" y=\"63.9951\">Usages</text></a><!--MD5=[09b614a08d8cba4a07c9adeb5e0fee81]\n",
       "class E3--><a href=\"psysml:1b4a97b7-4457-459f-aed1-97b0f48f7241\" target=\"_top\" title=\"psysml:1b4a97b7-4457-459f-aed1-97b0f48f7241\" xlink:actuate=\"onRequest\" xlink:href=\"psysml:1b4a97b7-4457-459f-aed1-97b0f48f7241\" xlink:show=\"new\" xlink:title=\"psysml:1b4a97b7-4457-459f-aed1-97b0f48f7241\" xlink:type=\"simple\"><rect fill=\"#FFFFFF\" height=\"45.9375\" id=\"E3\" style=\"stroke: #383838; stroke-width: 1.5;\" width=\"66\" x=\"74\" y=\"205\"/><text fill=\"#000000\" font-family=\"sans-serif\" font-size=\"12\" font-style=\"italic\" lengthAdjust=\"spacingAndGlyphs\" textLength=\"64\" x=\"75\" y=\"221.1387\">«part def»</text><text fill=\"#000000\" font-family=\"sans-serif\" font-size=\"12\" lengthAdjust=\"spacingAndGlyphs\" textLength=\"45\" x=\"84.5\" y=\"235.1074\">Vehicle</text><line style=\"stroke: #383838; stroke-width: 1.5;\" x1=\"75\" x2=\"139\" y1=\"242.9375\" y2=\"242.9375\"/></a><!--MD5=[270fce915f116d4de14055a7c1d9a0f3]\n",
       "class E5--><a href=\"psysml:ea5f8fdf-b305-409f-85bc-0024bea5295e\" target=\"_top\" title=\"psysml:ea5f8fdf-b305-409f-85bc-0024bea5295e\" xlink:actuate=\"onRequest\" xlink:href=\"psysml:ea5f8fdf-b305-409f-85bc-0024bea5295e\" xlink:show=\"new\" xlink:title=\"psysml:ea5f8fdf-b305-409f-85bc-0024bea5295e\" xlink:type=\"simple\"><rect fill=\"#FFFFFF\" height=\"45.9375\" id=\"E5\" rx=\"10\" ry=\"10\" style=\"stroke: #383838; stroke-width: 1.5;\" width=\"102\" x=\"56\" y=\"84\"/><text fill=\"#000000\" font-family=\"sans-serif\" font-size=\"12\" font-style=\"italic\" lengthAdjust=\"spacingAndGlyphs\" textLength=\"40\" x=\"87\" y=\"100.1387\">«part»</text><text fill=\"#000000\" font-family=\"sans-serif\" font-size=\"12\" lengthAdjust=\"spacingAndGlyphs\" textLength=\"96\" x=\"59\" y=\"114.1074\">vehicle: Vehicle</text><line style=\"stroke: #383838; stroke-width: 1.5;\" x1=\"57\" x2=\"157\" y1=\"121.9375\" y2=\"121.9375\"/></a><!--MD5=[e9be52314489bd878ff4c7144b63c9e1]\n",
       "link E5 to E3--><a href=\"psysml:4cdeda76-c42f-43d9-9b0b-b21e3f7ae647\" target=\"_top\" title=\"psysml:4cdeda76-c42f-43d9-9b0b-b21e3f7ae647\" xlink:actuate=\"onRequest\" xlink:href=\"psysml:4cdeda76-c42f-43d9-9b0b-b21e3f7ae647\" xlink:show=\"new\" xlink:title=\"psysml:4cdeda76-c42f-43d9-9b0b-b21e3f7ae647\" xlink:type=\"simple\"><path d=\"M107,130.1 C107,145.37 107,166.16 107,184.57 \" fill=\"none\" id=\"E5-&gt;E3\" style=\"stroke: #383838; stroke-width: 1.0;\"/><polygon fill=\"#FFFFFF\" points=\"107,204.61,100,185.61,114,185.61,107,204.61\" style=\"stroke: #383838; stroke-width: 1.0;\"/><ellipse cx=\"102\" cy=\"179.91\" fill=\"#383838\" rx=\"2\" ry=\"2\" style=\"stroke: #383838; stroke-width: 1.0;\"/><ellipse cx=\"112\" cy=\"179.91\" fill=\"#383838\" rx=\"2\" ry=\"2\" style=\"stroke: #383838; stroke-width: 1.0;\"/></a><!--MD5=[72f39ab61f295e05e717d6be05b8b5d8]\n",
       "@startuml\r\n",
       "skinparam monochrome true\r\n",
       "skinparam classbackgroundcolor white\r\n",
       "skinparam shadowing false\r\n",
       "skinparam wrapWidth 300\r\n",
       "hide circle\r\n",
       "\r\n",
       "package \"AliasImport\" as E1  [[psysml:4c778e7a-b929-42de-9fbe-71ac5f912e3c ]]  {\r\n",
       "package \"Definitions\" as E2  [[psysml:5f40b44b-bd87-468f-b109-35ffc9f78ab6 ]]  {\r\n",
       "comp def \"Vehicle\" as E3  <<(T,blue) part def>> [[psysml:1b4a97b7-4457-459f-aed1-97b0f48f7241 ]] {\r\n",
       "}\r\n",
       "}\r\n",
       "package \"Usages\" as E4  [[psysml:ea2bdd2c-ef7f-4fe4-8ff5-76ffc4616c11 ]]  {\r\n",
       "comp usage \"vehicle: Vehicle\" as E5  <<(T,blue) part>> [[psysml:ea5f8fdf-b305-409f-85bc-0024bea5295e ]] {\r\n",
       "}\r\n",
       "}\r\n",
       "}\r\n",
       "E5 - -:|> E3 [[psysml:4cdeda76-c42f-43d9-9b0b-b21e3f7ae647 ]] \r\n",
       "@enduml\r\n",
       "\n",
       "PlantUML version 1.2020.13(Sat Jun 13 12:26:38 UTC 2020)\n",
       "(EPL source distribution)\n",
       "Java Runtime: OpenJDK Runtime Environment\n",
       "JVM: OpenJDK 64-Bit Server VM\n",
       "Default Encoding: UTF-8\n",
       "Language: en\n",
       "Country: null\n",
       "--></g></svg>"
      ]
     },
     "execution_count": 38,
     "metadata": {},
     "output_type": "execute_result"
    }
   ],
   "source": [
    "%viz --style=\"DEFAULT\" --view=\"Tree\" \"AliasImport\""
   ]
  },
  {
   "cell_type": "code",
   "execution_count": 39,
   "id": "b49dd771",
   "metadata": {
    "execution": {
     "iopub.execute_input": "2021-09-27T07:19:56.255742Z",
     "iopub.status.busy": "2021-09-27T07:19:56.255335Z",
     "iopub.status.idle": "2021-09-27T07:19:56.259779Z",
     "shell.execute_reply": "2021-09-27T07:19:56.259401Z"
    }
   },
   "outputs": [
    {
     "data": {
      "image/svg+xml": [
       "<?xml version=\"1.0\" encoding=\"UTF-8\" standalone=\"no\"?><svg xmlns=\"http://www.w3.org/2000/svg\" xmlns:xlink=\"http://www.w3.org/1999/xlink\" contentScriptType=\"application/ecmascript\" contentStyleType=\"text/css\" height=\"12px\" preserveAspectRatio=\"none\" style=\"width:12px;height:12px;\" version=\"1.1\" viewBox=\"0 0 12 12\" width=\"12px\" zoomAndPan=\"magnify\"><defs/><g><!--MD5=[c5f280e076d0d61ccf4b0f27871bda1d]\n",
       "@startuml\r\n",
       "skinparam monochrome true\r\n",
       "skinparam classbackgroundcolor white\r\n",
       "skinparam shadowing false\r\n",
       "skinparam wrapWidth 300\r\n",
       "hide circle\r\n",
       "\r\n",
       "@enduml\r\n",
       "\n",
       "PlantUML version 1.2020.13(Sat Jun 13 12:26:38 UTC 2020)\n",
       "(EPL source distribution)\n",
       "Java Runtime: OpenJDK Runtime Environment\n",
       "JVM: OpenJDK 64-Bit Server VM\n",
       "Default Encoding: UTF-8\n",
       "Language: en\n",
       "Country: null\n",
       "--></g></svg>"
      ]
     },
     "execution_count": 39,
     "metadata": {},
     "output_type": "execute_result"
    }
   ],
   "source": [
    "%viz --style=\"DEFAULT\" --view=\"State\" \"AliasImport\""
   ]
  },
  {
   "cell_type": "code",
   "execution_count": 40,
   "id": "d80e71dc",
   "metadata": {
    "execution": {
     "iopub.execute_input": "2021-09-27T07:19:56.309698Z",
     "iopub.status.busy": "2021-09-27T07:19:56.309296Z",
     "iopub.status.idle": "2021-09-27T07:19:56.337001Z",
     "shell.execute_reply": "2021-09-27T07:19:56.336632Z"
    }
   },
   "outputs": [
    {
     "data": {
      "image/svg+xml": [
       "<?xml version=\"1.0\" encoding=\"UTF-8\" standalone=\"no\"?><svg xmlns=\"http://www.w3.org/2000/svg\" xmlns:xlink=\"http://www.w3.org/1999/xlink\" contentScriptType=\"application/ecmascript\" contentStyleType=\"text/css\" height=\"179px\" preserveAspectRatio=\"none\" style=\"width:458px;height:179px;\" version=\"1.1\" viewBox=\"0 0 458 179\" width=\"458px\" zoomAndPan=\"magnify\"><defs/><g><!--MD5=[fbc87193dbaf4d95561dea2c320d4a47]\n",
       "cluster E1--><a href=\"psysml:4c778e7a-b929-42de-9fbe-71ac5f912e3c\" target=\"_top\" title=\"psysml:4c778e7a-b929-42de-9fbe-71ac5f912e3c\" xlink:actuate=\"onRequest\" xlink:href=\"psysml:4c778e7a-b929-42de-9fbe-71ac5f912e3c\" xlink:show=\"new\" xlink:title=\"psysml:4c778e7a-b929-42de-9fbe-71ac5f912e3c\" xlink:type=\"simple\"><polygon fill=\"#FFFFFF\" points=\"16,6,97,6,104,28.2969,436,28.2969,436,167,16,167,16,6\" style=\"stroke: #000000; stroke-width: 1.5;\"/><line style=\"stroke: #000000; stroke-width: 1.5;\" x1=\"16\" x2=\"104\" y1=\"28.2969\" y2=\"28.2969\"/><text fill=\"#000000\" font-family=\"sans-serif\" font-size=\"14\" font-weight=\"bold\" lengthAdjust=\"spacingAndGlyphs\" textLength=\"75\" x=\"20\" y=\"20.9951\">AliasImport</text></a><!--MD5=[e4f7fae6ed58524ba242bb0b0d3be6b7]\n",
       "cluster E2--><a href=\"psysml:5f40b44b-bd87-468f-b109-35ffc9f78ab6\" target=\"_top\" title=\"psysml:5f40b44b-bd87-468f-b109-35ffc9f78ab6\" xlink:actuate=\"onRequest\" xlink:href=\"psysml:5f40b44b-bd87-468f-b109-35ffc9f78ab6\" xlink:show=\"new\" xlink:title=\"psysml:5f40b44b-bd87-468f-b109-35ffc9f78ab6\" xlink:type=\"simple\"><polygon fill=\"#FFFFFF\" points=\"202,49,281,49,288,71.2969,412,71.2969,412,143,202,143,202,49\" style=\"stroke: #000000; stroke-width: 1.5;\"/><line style=\"stroke: #000000; stroke-width: 1.5;\" x1=\"202\" x2=\"288\" y1=\"71.2969\" y2=\"71.2969\"/><text fill=\"#000000\" font-family=\"sans-serif\" font-size=\"14\" font-weight=\"bold\" lengthAdjust=\"spacingAndGlyphs\" textLength=\"73\" x=\"206\" y=\"63.9951\">Definitions</text></a><!--MD5=[de5ec2e2e8f62f467e546659f5068c88]\n",
       "cluster E5--><a href=\"psysml:ea2bdd2c-ef7f-4fe4-8ff5-76ffc4616c11\" target=\"_top\" title=\"psysml:ea2bdd2c-ef7f-4fe4-8ff5-76ffc4616c11\" xlink:actuate=\"onRequest\" xlink:href=\"psysml:ea2bdd2c-ef7f-4fe4-8ff5-76ffc4616c11\" xlink:show=\"new\" xlink:title=\"psysml:ea2bdd2c-ef7f-4fe4-8ff5-76ffc4616c11\" xlink:type=\"simple\"><polygon fill=\"#FFFFFF\" points=\"40,50.5,98,50.5,105,72.7969,178,72.7969,178,141.5,40,141.5,40,50.5\" style=\"stroke: #000000; stroke-width: 1.5;\"/><line style=\"stroke: #000000; stroke-width: 1.5;\" x1=\"40\" x2=\"105\" y1=\"72.7969\" y2=\"72.7969\"/><text fill=\"#000000\" font-family=\"sans-serif\" font-size=\"14\" font-weight=\"bold\" lengthAdjust=\"spacingAndGlyphs\" textLength=\"52\" x=\"44\" y=\"65.4951\">Usages</text></a><g id=\"E1.E2.E3\"><a href=\"psysml:1b4a97b7-4457-459f-aed1-97b0f48f7241\" target=\"_top\" title=\"psysml:1b4a97b7-4457-459f-aed1-97b0f48f7241\" xlink:actuate=\"onRequest\" xlink:href=\"psysml:1b4a97b7-4457-459f-aed1-97b0f48f7241\" xlink:show=\"new\" xlink:title=\"psysml:1b4a97b7-4457-459f-aed1-97b0f48f7241\" xlink:type=\"simple\"><rect fill=\"#FFFFFF\" height=\"42.9375\" id=\"E3\" style=\"stroke: #383838; stroke-width: 1.5;\" width=\"71\" x=\"324.5\" y=\"84\"/><rect fill=\"#F8F8F8\" height=\"37.9375\" style=\"stroke: #383838; stroke-width: 1.5;\" width=\"71\" x=\"324.5\" y=\"84\"/><text fill=\"#000000\" font-family=\"sans-serif\" font-size=\"12\" font-style=\"italic\" lengthAdjust=\"spacingAndGlyphs\" textLength=\"64\" x=\"328\" y=\"100.1387\">«part def»</text><text fill=\"#000000\" font-family=\"sans-serif\" font-size=\"12\" lengthAdjust=\"spacingAndGlyphs\" textLength=\"45\" x=\"337.5\" y=\"114.1074\">Vehicle</text></a></g><g id=\"E1.E2.E4\"><a href=\"psysml:1b4a97b7-4457-459f-aed1-97b0f48f7241\" target=\"_top\" title=\"psysml:1b4a97b7-4457-459f-aed1-97b0f48f7241\" xlink:actuate=\"onRequest\" xlink:href=\"psysml:1b4a97b7-4457-459f-aed1-97b0f48f7241\" xlink:show=\"new\" xlink:title=\"psysml:1b4a97b7-4457-459f-aed1-97b0f48f7241\" xlink:type=\"simple\"><rect fill=\"#FFFFFF\" height=\"42.9375\" id=\"E4\" style=\"stroke: #383838; stroke-width: 1.5;\" width=\"71\" x=\"218.5\" y=\"84\"/><rect fill=\"#F8F8F8\" height=\"37.9375\" style=\"stroke: #383838; stroke-width: 1.5;\" width=\"71\" x=\"218.5\" y=\"84\"/><text fill=\"#000000\" font-family=\"sans-serif\" font-size=\"12\" font-style=\"italic\" lengthAdjust=\"spacingAndGlyphs\" textLength=\"64\" x=\"222\" y=\"100.1387\">«part def»</text><text fill=\"#000000\" font-family=\"sans-serif\" font-size=\"12\" lengthAdjust=\"spacingAndGlyphs\" textLength=\"45\" x=\"231.5\" y=\"114.1074\">Vehicle</text></a></g><g id=\"E1.E5.E6\"><a href=\"psysml:ea5f8fdf-b305-409f-85bc-0024bea5295e\" target=\"_top\" title=\"psysml:ea5f8fdf-b305-409f-85bc-0024bea5295e\" xlink:actuate=\"onRequest\" xlink:href=\"psysml:ea5f8fdf-b305-409f-85bc-0024bea5295e\" xlink:show=\"new\" xlink:title=\"psysml:ea5f8fdf-b305-409f-85bc-0024bea5295e\" xlink:type=\"simple\"><rect fill=\"#FFFFFF\" height=\"40\" id=\"E6\" rx=\"10\" ry=\"10\" style=\"stroke: #383838; stroke-width: 1.5;\" width=\"107\" x=\"55.5\" y=\"85.5\"/><rect fill=\"#F8F8F8\" height=\"23.9688\" rx=\"10\" ry=\"10\" style=\"stroke: #F8F8F8; stroke-width: 1.5;\" width=\"107\" x=\"55.5\" y=\"85.5\"/><rect fill=\"#F8F8F8\" height=\"10\" style=\"stroke: #F8F8F8; stroke-width: 1.5;\" width=\"107\" x=\"55.5\" y=\"99.4688\"/><rect fill=\"none\" height=\"40\" id=\"E6\" rx=\"10\" ry=\"10\" style=\"stroke: #383838; stroke-width: 1.5;\" width=\"107\" x=\"55.5\" y=\"85.5\"/><text fill=\"#000000\" font-family=\"sans-serif\" font-size=\"12\" lengthAdjust=\"spacingAndGlyphs\" textLength=\"96\" x=\"61\" y=\"101.6387\">vehicle: Vehicle</text></a></g><!--MD5=[dae9d9fcb2e28260d0a9b087706dc53f]\n",
       "@startuml\r\n",
       "skinparam ranksep 10\r\n",
       "skinparam rectangle {\r\n",
       " backgroundColor<<block>> LightGreen\r\n",
       "}\r\n",
       "skinparam monochrome true\r\n",
       "skinparam classbackgroundcolor white\r\n",
       "skinparam shadowing false\r\n",
       "skinparam wrapWidth 300\r\n",
       "hide circle\r\n",
       "\r\n",
       "package \"AliasImport\" as E1  [[psysml:4c778e7a-b929-42de-9fbe-71ac5f912e3c ]]  {\r\n",
       "package \"Definitions\" as E2  [[psysml:5f40b44b-bd87-468f-b109-35ffc9f78ab6 ]]  {\r\n",
       "rec def \"Vehicle\" as E3  <<(T,blue) part def>> [[psysml:1b4a97b7-4457-459f-aed1-97b0f48f7241 ]] {\r\n",
       "}\r\n",
       "rec def \"Vehicle\" as E4  <<(T,blue) part def>> [[psysml:1b4a97b7-4457-459f-aed1-97b0f48f7241 ]] {\r\n",
       "}\r\n",
       "}\r\n",
       "package \"Usages\" as E5  [[psysml:ea2bdd2c-ef7f-4fe4-8ff5-76ffc4616c11 ]]  {\r\n",
       "rec usage \"vehicle: Vehicle\" as E6  [[psysml:ea5f8fdf-b305-409f-85bc-0024bea5295e ]] {\r\n",
       "}\r\n",
       "}\r\n",
       "}\r\n",
       "@enduml\r\n",
       "\n",
       "PlantUML version 1.2020.13(Sat Jun 13 12:26:38 UTC 2020)\n",
       "(EPL source distribution)\n",
       "Java Runtime: OpenJDK Runtime Environment\n",
       "JVM: OpenJDK 64-Bit Server VM\n",
       "Default Encoding: UTF-8\n",
       "Language: en\n",
       "Country: null\n",
       "--></g></svg>"
      ]
     },
     "execution_count": 40,
     "metadata": {},
     "output_type": "execute_result"
    }
   ],
   "source": [
    "%viz --style=\"DEFAULT\" --view=\"Interconnection\" \"AliasImport\""
   ]
  },
  {
   "cell_type": "code",
   "execution_count": 41,
   "id": "8824b9e4",
   "metadata": {
    "execution": {
     "iopub.execute_input": "2021-09-27T07:19:56.387112Z",
     "iopub.status.busy": "2021-09-27T07:19:56.386525Z",
     "iopub.status.idle": "2021-09-27T07:19:56.391738Z",
     "shell.execute_reply": "2021-09-27T07:19:56.391395Z"
    }
   },
   "outputs": [
    {
     "data": {
      "image/svg+xml": [
       "<?xml version=\"1.0\" encoding=\"UTF-8\" standalone=\"no\"?><svg xmlns=\"http://www.w3.org/2000/svg\" xmlns:xlink=\"http://www.w3.org/1999/xlink\" contentScriptType=\"application/ecmascript\" contentStyleType=\"text/css\" height=\"12px\" preserveAspectRatio=\"none\" style=\"width:12px;height:12px;\" version=\"1.1\" viewBox=\"0 0 12 12\" width=\"12px\" zoomAndPan=\"magnify\"><defs/><g><!--MD5=[388f21188e31bfdd97050473b19af356]\n",
       "@startuml\r\n",
       "skinparam ranksep 8\r\n",
       "skinparam monochrome true\r\n",
       "skinparam classbackgroundcolor white\r\n",
       "skinparam shadowing false\r\n",
       "skinparam wrapWidth 300\r\n",
       "hide circle\r\n",
       "\r\n",
       "@enduml\r\n",
       "\n",
       "PlantUML version 1.2020.13(Sat Jun 13 12:26:38 UTC 2020)\n",
       "(EPL source distribution)\n",
       "Java Runtime: OpenJDK Runtime Environment\n",
       "JVM: OpenJDK 64-Bit Server VM\n",
       "Default Encoding: UTF-8\n",
       "Language: en\n",
       "Country: null\n",
       "--></g></svg>"
      ]
     },
     "execution_count": 41,
     "metadata": {},
     "output_type": "execute_result"
    }
   ],
   "source": [
    "%viz --style=\"DEFAULT\" --view=\"Action\" \"AliasImport\""
   ]
  },
  {
   "cell_type": "code",
   "execution_count": 42,
   "id": "3f082893",
   "metadata": {
    "execution": {
     "iopub.execute_input": "2021-09-27T07:19:56.442361Z",
     "iopub.status.busy": "2021-09-27T07:19:56.441739Z",
     "iopub.status.idle": "2021-09-27T07:19:56.447314Z",
     "shell.execute_reply": "2021-09-27T07:19:56.446962Z"
    }
   },
   "outputs": [
    {
     "data": {
      "image/svg+xml": [
       "<?xml version=\"1.0\" encoding=\"UTF-8\" standalone=\"no\"?><svg xmlns=\"http://www.w3.org/2000/svg\" xmlns:xlink=\"http://www.w3.org/1999/xlink\" contentScriptType=\"application/ecmascript\" contentStyleType=\"text/css\" height=\"12px\" preserveAspectRatio=\"none\" style=\"width:12px;height:12px;\" version=\"1.1\" viewBox=\"0 0 12 12\" width=\"12px\" zoomAndPan=\"magnify\"><defs/><g><!--MD5=[0b72472770326784bf6c2b53246e1e64]\n",
       "@startuml\r\n",
       "skinparam roundcorner 20\r\n",
       "skinparam BoxPadding 20\r\n",
       "skinparam SequenceBoxBackgroundColor #white\r\n",
       "skinparam style strictuml\r\n",
       "skinparam maxMessageSize 100\r\n",
       "skinparam monochrome true\r\n",
       "skinparam classbackgroundcolor white\r\n",
       "skinparam shadowing false\r\n",
       "skinparam wrapWidth 300\r\n",
       "hide circle\r\n",
       "\r\n",
       "@enduml\r\n",
       "\n",
       "PlantUML version 1.2020.13(Sat Jun 13 12:26:38 UTC 2020)\n",
       "(EPL source distribution)\n",
       "Java Runtime: OpenJDK Runtime Environment\n",
       "JVM: OpenJDK 64-Bit Server VM\n",
       "Default Encoding: UTF-8\n",
       "Language: en\n",
       "Country: null\n",
       "--></g></svg>"
      ]
     },
     "execution_count": 42,
     "metadata": {},
     "output_type": "execute_result"
    }
   ],
   "source": [
    "%viz --style=\"DEFAULT\" --view=\"Sequence\" \"AliasImport\""
   ]
  },
  {
   "cell_type": "code",
   "execution_count": 43,
   "id": "ed49dc95",
   "metadata": {
    "execution": {
     "iopub.execute_input": "2021-09-27T07:19:56.497617Z",
     "iopub.status.busy": "2021-09-27T07:19:56.497003Z",
     "iopub.status.idle": "2021-09-27T07:19:56.519655Z",
     "shell.execute_reply": "2021-09-27T07:19:56.519250Z"
    }
   },
   "outputs": [
    {
     "data": {
      "image/svg+xml": [
       "<?xml version=\"1.0\" encoding=\"UTF-8\" standalone=\"no\"?><svg xmlns=\"http://www.w3.org/2000/svg\" xmlns:xlink=\"http://www.w3.org/1999/xlink\" contentScriptType=\"application/ecmascript\" contentStyleType=\"text/css\" height=\"303px\" preserveAspectRatio=\"none\" style=\"width:220px;height:303px;\" version=\"1.1\" viewBox=\"0 0 220 303\" width=\"220px\" zoomAndPan=\"magnify\"><defs/><g><!--MD5=[fbc87193dbaf4d95561dea2c320d4a47]\n",
       "cluster E1--><a href=\"psysml:4c778e7a-b929-42de-9fbe-71ac5f912e3c\" target=\"_top\" title=\"psysml:4c778e7a-b929-42de-9fbe-71ac5f912e3c\" xlink:actuate=\"onRequest\" xlink:href=\"psysml:4c778e7a-b929-42de-9fbe-71ac5f912e3c\" xlink:show=\"new\" xlink:title=\"psysml:4c778e7a-b929-42de-9fbe-71ac5f912e3c\" xlink:type=\"simple\"><polygon fill=\"#FFFFFF\" points=\"16,6,97,6,104,28.2969,198,28.2969,198,291,16,291,16,6\" style=\"stroke: #000000; stroke-width: 1.5;\"/><line style=\"stroke: #000000; stroke-width: 1.5;\" x1=\"16\" x2=\"104\" y1=\"28.2969\" y2=\"28.2969\"/><text fill=\"#000000\" font-family=\"sans-serif\" font-size=\"14\" font-weight=\"bold\" lengthAdjust=\"spacingAndGlyphs\" textLength=\"75\" x=\"20\" y=\"20.9951\">AliasImport</text></a><!--MD5=[e4f7fae6ed58524ba242bb0b0d3be6b7]\n",
       "cluster E2--><a href=\"psysml:5f40b44b-bd87-468f-b109-35ffc9f78ab6\" target=\"_top\" title=\"psysml:5f40b44b-bd87-468f-b109-35ffc9f78ab6\" xlink:actuate=\"onRequest\" xlink:href=\"psysml:5f40b44b-bd87-468f-b109-35ffc9f78ab6\" xlink:show=\"new\" xlink:title=\"psysml:5f40b44b-bd87-468f-b109-35ffc9f78ab6\" xlink:type=\"simple\"><polygon fill=\"#FFFFFF\" points=\"58,170,137,170,144,192.2969,156,192.2969,156,267,58,267,58,170\" style=\"stroke: #000000; stroke-width: 1.5;\"/><line style=\"stroke: #000000; stroke-width: 1.5;\" x1=\"58\" x2=\"144\" y1=\"192.2969\" y2=\"192.2969\"/><text fill=\"#000000\" font-family=\"sans-serif\" font-size=\"14\" font-weight=\"bold\" lengthAdjust=\"spacingAndGlyphs\" textLength=\"73\" x=\"62\" y=\"184.9951\">Definitions</text></a><!--MD5=[f6df4d0ebaf0b5dfb2ced0ae5af7c670]\n",
       "cluster E4--><a href=\"psysml:ea2bdd2c-ef7f-4fe4-8ff5-76ffc4616c11\" target=\"_top\" title=\"psysml:ea2bdd2c-ef7f-4fe4-8ff5-76ffc4616c11\" xlink:actuate=\"onRequest\" xlink:href=\"psysml:ea2bdd2c-ef7f-4fe4-8ff5-76ffc4616c11\" xlink:show=\"new\" xlink:title=\"psysml:ea2bdd2c-ef7f-4fe4-8ff5-76ffc4616c11\" xlink:type=\"simple\"><polygon fill=\"#FFFFFF\" points=\"40,49,98,49,105,71.2969,174,71.2969,174,146,40,146,40,49\" style=\"stroke: #000000; stroke-width: 1.5;\"/><line style=\"stroke: #000000; stroke-width: 1.5;\" x1=\"40\" x2=\"105\" y1=\"71.2969\" y2=\"71.2969\"/><text fill=\"#000000\" font-family=\"sans-serif\" font-size=\"14\" font-weight=\"bold\" lengthAdjust=\"spacingAndGlyphs\" textLength=\"52\" x=\"44\" y=\"63.9951\">Usages</text></a><!--MD5=[09b614a08d8cba4a07c9adeb5e0fee81]\n",
       "class E3--><a href=\"psysml:1b4a97b7-4457-459f-aed1-97b0f48f7241\" target=\"_top\" title=\"psysml:1b4a97b7-4457-459f-aed1-97b0f48f7241\" xlink:actuate=\"onRequest\" xlink:href=\"psysml:1b4a97b7-4457-459f-aed1-97b0f48f7241\" xlink:show=\"new\" xlink:title=\"psysml:1b4a97b7-4457-459f-aed1-97b0f48f7241\" xlink:type=\"simple\"><rect fill=\"#FFFFFF\" height=\"45.9375\" id=\"E3\" style=\"stroke: #383838; stroke-width: 1.5;\" width=\"66\" x=\"74\" y=\"205\"/><text fill=\"#000000\" font-family=\"sans-serif\" font-size=\"12\" font-style=\"italic\" lengthAdjust=\"spacingAndGlyphs\" textLength=\"64\" x=\"75\" y=\"221.1387\">«part def»</text><text fill=\"#000000\" font-family=\"sans-serif\" font-size=\"12\" lengthAdjust=\"spacingAndGlyphs\" textLength=\"45\" x=\"84.5\" y=\"235.1074\">Vehicle</text><line style=\"stroke: #383838; stroke-width: 1.5;\" x1=\"75\" x2=\"139\" y1=\"242.9375\" y2=\"242.9375\"/></a><!--MD5=[270fce915f116d4de14055a7c1d9a0f3]\n",
       "class E5--><a href=\"psysml:ea5f8fdf-b305-409f-85bc-0024bea5295e\" target=\"_top\" title=\"psysml:ea5f8fdf-b305-409f-85bc-0024bea5295e\" xlink:actuate=\"onRequest\" xlink:href=\"psysml:ea5f8fdf-b305-409f-85bc-0024bea5295e\" xlink:show=\"new\" xlink:title=\"psysml:ea5f8fdf-b305-409f-85bc-0024bea5295e\" xlink:type=\"simple\"><rect fill=\"#FFFFFF\" height=\"45.9375\" id=\"E5\" rx=\"10\" ry=\"10\" style=\"stroke: #383838; stroke-width: 1.5;\" width=\"102\" x=\"56\" y=\"84\"/><text fill=\"#000000\" font-family=\"sans-serif\" font-size=\"12\" font-style=\"italic\" lengthAdjust=\"spacingAndGlyphs\" textLength=\"40\" x=\"87\" y=\"100.1387\">«part»</text><text fill=\"#000000\" font-family=\"sans-serif\" font-size=\"12\" lengthAdjust=\"spacingAndGlyphs\" textLength=\"96\" x=\"59\" y=\"114.1074\">vehicle: Vehicle</text><line style=\"stroke: #383838; stroke-width: 1.5;\" x1=\"57\" x2=\"157\" y1=\"121.9375\" y2=\"121.9375\"/></a><!--MD5=[e9be52314489bd878ff4c7144b63c9e1]\n",
       "link E5 to E3--><a href=\"psysml:4cdeda76-c42f-43d9-9b0b-b21e3f7ae647\" target=\"_top\" title=\"psysml:4cdeda76-c42f-43d9-9b0b-b21e3f7ae647\" xlink:actuate=\"onRequest\" xlink:href=\"psysml:4cdeda76-c42f-43d9-9b0b-b21e3f7ae647\" xlink:show=\"new\" xlink:title=\"psysml:4cdeda76-c42f-43d9-9b0b-b21e3f7ae647\" xlink:type=\"simple\"><path d=\"M107,130.1 C107,145.37 107,166.16 107,184.57 \" fill=\"none\" id=\"E5-&gt;E3\" style=\"stroke: #383838; stroke-width: 1.0;\"/><polygon fill=\"#FFFFFF\" points=\"107,204.61,100,185.61,114,185.61,107,204.61\" style=\"stroke: #383838; stroke-width: 1.0;\"/><ellipse cx=\"102\" cy=\"179.91\" fill=\"#383838\" rx=\"2\" ry=\"2\" style=\"stroke: #383838; stroke-width: 1.0;\"/><ellipse cx=\"112\" cy=\"179.91\" fill=\"#383838\" rx=\"2\" ry=\"2\" style=\"stroke: #383838; stroke-width: 1.0;\"/></a><!--MD5=[72f39ab61f295e05e717d6be05b8b5d8]\n",
       "@startuml\r\n",
       "skinparam monochrome true\r\n",
       "skinparam classbackgroundcolor white\r\n",
       "skinparam shadowing false\r\n",
       "skinparam wrapWidth 300\r\n",
       "hide circle\r\n",
       "\r\n",
       "package \"AliasImport\" as E1  [[psysml:4c778e7a-b929-42de-9fbe-71ac5f912e3c ]]  {\r\n",
       "package \"Definitions\" as E2  [[psysml:5f40b44b-bd87-468f-b109-35ffc9f78ab6 ]]  {\r\n",
       "comp def \"Vehicle\" as E3  <<(T,blue) part def>> [[psysml:1b4a97b7-4457-459f-aed1-97b0f48f7241 ]] {\r\n",
       "}\r\n",
       "}\r\n",
       "package \"Usages\" as E4  [[psysml:ea2bdd2c-ef7f-4fe4-8ff5-76ffc4616c11 ]]  {\r\n",
       "comp usage \"vehicle: Vehicle\" as E5  <<(T,blue) part>> [[psysml:ea5f8fdf-b305-409f-85bc-0024bea5295e ]] {\r\n",
       "}\r\n",
       "}\r\n",
       "}\r\n",
       "E5 - -:|> E3 [[psysml:4cdeda76-c42f-43d9-9b0b-b21e3f7ae647 ]] \r\n",
       "@enduml\r\n",
       "\n",
       "PlantUML version 1.2020.13(Sat Jun 13 12:26:38 UTC 2020)\n",
       "(EPL source distribution)\n",
       "Java Runtime: OpenJDK Runtime Environment\n",
       "JVM: OpenJDK 64-Bit Server VM\n",
       "Default Encoding: UTF-8\n",
       "Language: en\n",
       "Country: null\n",
       "--></g></svg>"
      ]
     },
     "execution_count": 43,
     "metadata": {},
     "output_type": "execute_result"
    }
   ],
   "source": [
    "%viz --style=\"DEFAULT\" --view=\"MIXED\" \"AliasImport\""
   ]
  },
  {
   "cell_type": "code",
   "execution_count": 44,
   "id": "058fba20",
   "metadata": {
    "execution": {
     "iopub.execute_input": "2021-09-27T07:19:56.569525Z",
     "iopub.status.busy": "2021-09-27T07:19:56.568911Z",
     "iopub.status.idle": "2021-09-27T07:19:56.596393Z",
     "shell.execute_reply": "2021-09-27T07:19:56.595969Z"
    }
   },
   "outputs": [
    {
     "data": {
      "image/svg+xml": [
       "<?xml version=\"1.0\" encoding=\"UTF-8\" standalone=\"no\"?><svg xmlns=\"http://www.w3.org/2000/svg\" xmlns:xlink=\"http://www.w3.org/1999/xlink\" contentScriptType=\"application/ecmascript\" contentStyleType=\"text/css\" height=\"303px\" preserveAspectRatio=\"none\" style=\"width:220px;height:303px;\" version=\"1.1\" viewBox=\"0 0 220 303\" width=\"220px\" zoomAndPan=\"magnify\"><defs/><g><!--MD5=[fbc87193dbaf4d95561dea2c320d4a47]\n",
       "cluster E1--><a href=\"psysml:4c778e7a-b929-42de-9fbe-71ac5f912e3c\" target=\"_top\" title=\"psysml:4c778e7a-b929-42de-9fbe-71ac5f912e3c\" xlink:actuate=\"onRequest\" xlink:href=\"psysml:4c778e7a-b929-42de-9fbe-71ac5f912e3c\" xlink:show=\"new\" xlink:title=\"psysml:4c778e7a-b929-42de-9fbe-71ac5f912e3c\" xlink:type=\"simple\"><polygon fill=\"#FFFFFF\" points=\"16,6,97,6,104,28.2969,198,28.2969,198,291,16,291,16,6\" style=\"stroke: #000000; stroke-width: 1.5;\"/><line style=\"stroke: #000000; stroke-width: 1.5;\" x1=\"16\" x2=\"104\" y1=\"28.2969\" y2=\"28.2969\"/><text fill=\"#000000\" font-family=\"sans-serif\" font-size=\"14\" font-weight=\"bold\" lengthAdjust=\"spacingAndGlyphs\" textLength=\"75\" x=\"20\" y=\"20.9951\">AliasImport</text></a><!--MD5=[e4f7fae6ed58524ba242bb0b0d3be6b7]\n",
       "cluster E2--><a href=\"psysml:5f40b44b-bd87-468f-b109-35ffc9f78ab6\" target=\"_top\" title=\"psysml:5f40b44b-bd87-468f-b109-35ffc9f78ab6\" xlink:actuate=\"onRequest\" xlink:href=\"psysml:5f40b44b-bd87-468f-b109-35ffc9f78ab6\" xlink:show=\"new\" xlink:title=\"psysml:5f40b44b-bd87-468f-b109-35ffc9f78ab6\" xlink:type=\"simple\"><polygon fill=\"#FFFFFF\" points=\"58,170,137,170,144,192.2969,156,192.2969,156,267,58,267,58,170\" style=\"stroke: #000000; stroke-width: 1.5;\"/><line style=\"stroke: #000000; stroke-width: 1.5;\" x1=\"58\" x2=\"144\" y1=\"192.2969\" y2=\"192.2969\"/><text fill=\"#000000\" font-family=\"sans-serif\" font-size=\"14\" font-weight=\"bold\" lengthAdjust=\"spacingAndGlyphs\" textLength=\"73\" x=\"62\" y=\"184.9951\">Definitions</text></a><!--MD5=[f6df4d0ebaf0b5dfb2ced0ae5af7c670]\n",
       "cluster E4--><a href=\"psysml:ea2bdd2c-ef7f-4fe4-8ff5-76ffc4616c11\" target=\"_top\" title=\"psysml:ea2bdd2c-ef7f-4fe4-8ff5-76ffc4616c11\" xlink:actuate=\"onRequest\" xlink:href=\"psysml:ea2bdd2c-ef7f-4fe4-8ff5-76ffc4616c11\" xlink:show=\"new\" xlink:title=\"psysml:ea2bdd2c-ef7f-4fe4-8ff5-76ffc4616c11\" xlink:type=\"simple\"><polygon fill=\"#FFFFFF\" points=\"40,49,98,49,105,71.2969,174,71.2969,174,146,40,146,40,49\" style=\"stroke: #000000; stroke-width: 1.5;\"/><line style=\"stroke: #000000; stroke-width: 1.5;\" x1=\"40\" x2=\"105\" y1=\"71.2969\" y2=\"71.2969\"/><text fill=\"#000000\" font-family=\"sans-serif\" font-size=\"14\" font-weight=\"bold\" lengthAdjust=\"spacingAndGlyphs\" textLength=\"52\" x=\"44\" y=\"63.9951\">Usages</text></a><!--MD5=[09b614a08d8cba4a07c9adeb5e0fee81]\n",
       "class E3--><a href=\"psysml:1b4a97b7-4457-459f-aed1-97b0f48f7241\" target=\"_top\" title=\"psysml:1b4a97b7-4457-459f-aed1-97b0f48f7241\" xlink:actuate=\"onRequest\" xlink:href=\"psysml:1b4a97b7-4457-459f-aed1-97b0f48f7241\" xlink:show=\"new\" xlink:title=\"psysml:1b4a97b7-4457-459f-aed1-97b0f48f7241\" xlink:type=\"simple\"><rect fill=\"#FFFFFF\" height=\"45.9375\" id=\"E3\" style=\"stroke: #383838; stroke-width: 1.5;\" width=\"66\" x=\"74\" y=\"205\"/><text fill=\"#000000\" font-family=\"sans-serif\" font-size=\"12\" font-style=\"italic\" lengthAdjust=\"spacingAndGlyphs\" textLength=\"64\" x=\"75\" y=\"221.1387\">«part def»</text><text fill=\"#000000\" font-family=\"sans-serif\" font-size=\"12\" lengthAdjust=\"spacingAndGlyphs\" textLength=\"45\" x=\"84.5\" y=\"235.1074\">Vehicle</text><line style=\"stroke: #383838; stroke-width: 1.5;\" x1=\"75\" x2=\"139\" y1=\"242.9375\" y2=\"242.9375\"/></a><!--MD5=[270fce915f116d4de14055a7c1d9a0f3]\n",
       "class E5--><a href=\"psysml:ea5f8fdf-b305-409f-85bc-0024bea5295e\" target=\"_top\" title=\"psysml:ea5f8fdf-b305-409f-85bc-0024bea5295e\" xlink:actuate=\"onRequest\" xlink:href=\"psysml:ea5f8fdf-b305-409f-85bc-0024bea5295e\" xlink:show=\"new\" xlink:title=\"psysml:ea5f8fdf-b305-409f-85bc-0024bea5295e\" xlink:type=\"simple\"><rect fill=\"#FFFFFF\" height=\"45.9375\" id=\"E5\" rx=\"10\" ry=\"10\" style=\"stroke: #383838; stroke-width: 1.5;\" width=\"102\" x=\"56\" y=\"84\"/><text fill=\"#000000\" font-family=\"sans-serif\" font-size=\"12\" font-style=\"italic\" lengthAdjust=\"spacingAndGlyphs\" textLength=\"40\" x=\"87\" y=\"100.1387\">«part»</text><text fill=\"#000000\" font-family=\"sans-serif\" font-size=\"12\" lengthAdjust=\"spacingAndGlyphs\" textLength=\"96\" x=\"59\" y=\"114.1074\">vehicle: Vehicle</text><line style=\"stroke: #383838; stroke-width: 1.5;\" x1=\"57\" x2=\"157\" y1=\"121.9375\" y2=\"121.9375\"/></a><!--MD5=[e9be52314489bd878ff4c7144b63c9e1]\n",
       "link E5 to E3--><a href=\"psysml:4cdeda76-c42f-43d9-9b0b-b21e3f7ae647\" target=\"_top\" title=\"psysml:4cdeda76-c42f-43d9-9b0b-b21e3f7ae647\" xlink:actuate=\"onRequest\" xlink:href=\"psysml:4cdeda76-c42f-43d9-9b0b-b21e3f7ae647\" xlink:show=\"new\" xlink:title=\"psysml:4cdeda76-c42f-43d9-9b0b-b21e3f7ae647\" xlink:type=\"simple\"><path d=\"M107,130.1 C107,145.37 107,166.16 107,184.57 \" fill=\"none\" id=\"E5-&gt;E3\" style=\"stroke: #383838; stroke-width: 1.0;\"/><polygon fill=\"#FFFFFF\" points=\"107,204.61,100,185.61,114,185.61,107,204.61\" style=\"stroke: #383838; stroke-width: 1.0;\"/><ellipse cx=\"102\" cy=\"179.91\" fill=\"#383838\" rx=\"2\" ry=\"2\" style=\"stroke: #383838; stroke-width: 1.0;\"/><ellipse cx=\"112\" cy=\"179.91\" fill=\"#383838\" rx=\"2\" ry=\"2\" style=\"stroke: #383838; stroke-width: 1.0;\"/></a><!--MD5=[41d03f4ed5d9881b3ec87ab531fe74db]\n",
       "@startuml\r\n",
       "top to bottom direction\r\n",
       "skinparam monochrome true\r\n",
       "skinparam classbackgroundcolor white\r\n",
       "skinparam shadowing false\r\n",
       "skinparam wrapWidth 300\r\n",
       "hide circle\r\n",
       "\r\n",
       "package \"AliasImport\" as E1  [[psysml:4c778e7a-b929-42de-9fbe-71ac5f912e3c ]]  {\r\n",
       "package \"Definitions\" as E2  [[psysml:5f40b44b-bd87-468f-b109-35ffc9f78ab6 ]]  {\r\n",
       "comp def \"Vehicle\" as E3  <<(T,blue) part def>> [[psysml:1b4a97b7-4457-459f-aed1-97b0f48f7241 ]] {\r\n",
       "}\r\n",
       "}\r\n",
       "package \"Usages\" as E4  [[psysml:ea2bdd2c-ef7f-4fe4-8ff5-76ffc4616c11 ]]  {\r\n",
       "comp usage \"vehicle: Vehicle\" as E5  <<(T,blue) part>> [[psysml:ea5f8fdf-b305-409f-85bc-0024bea5295e ]] {\r\n",
       "}\r\n",
       "}\r\n",
       "}\r\n",
       "E5 - -:|> E3 [[psysml:4cdeda76-c42f-43d9-9b0b-b21e3f7ae647 ]] \r\n",
       "@enduml\r\n",
       "\n",
       "PlantUML version 1.2020.13(Sat Jun 13 12:26:38 UTC 2020)\n",
       "(EPL source distribution)\n",
       "Java Runtime: OpenJDK Runtime Environment\n",
       "JVM: OpenJDK 64-Bit Server VM\n",
       "Default Encoding: UTF-8\n",
       "Language: en\n",
       "Country: null\n",
       "--></g></svg>"
      ]
     },
     "execution_count": 44,
     "metadata": {},
     "output_type": "execute_result"
    }
   ],
   "source": [
    "%viz --style=\"TB\" --view=\"Default\" \"AliasImport\""
   ]
  },
  {
   "cell_type": "code",
   "execution_count": 45,
   "id": "daafd6e4",
   "metadata": {
    "execution": {
     "iopub.execute_input": "2021-09-27T07:19:56.646127Z",
     "iopub.status.busy": "2021-09-27T07:19:56.645502Z",
     "iopub.status.idle": "2021-09-27T07:19:56.671705Z",
     "shell.execute_reply": "2021-09-27T07:19:56.670436Z"
    }
   },
   "outputs": [
    {
     "data": {
      "image/svg+xml": [
       "<?xml version=\"1.0\" encoding=\"UTF-8\" standalone=\"no\"?><svg xmlns=\"http://www.w3.org/2000/svg\" xmlns:xlink=\"http://www.w3.org/1999/xlink\" contentScriptType=\"application/ecmascript\" contentStyleType=\"text/css\" height=\"303px\" preserveAspectRatio=\"none\" style=\"width:220px;height:303px;\" version=\"1.1\" viewBox=\"0 0 220 303\" width=\"220px\" zoomAndPan=\"magnify\"><defs/><g><!--MD5=[fbc87193dbaf4d95561dea2c320d4a47]\n",
       "cluster E1--><a href=\"psysml:4c778e7a-b929-42de-9fbe-71ac5f912e3c\" target=\"_top\" title=\"psysml:4c778e7a-b929-42de-9fbe-71ac5f912e3c\" xlink:actuate=\"onRequest\" xlink:href=\"psysml:4c778e7a-b929-42de-9fbe-71ac5f912e3c\" xlink:show=\"new\" xlink:title=\"psysml:4c778e7a-b929-42de-9fbe-71ac5f912e3c\" xlink:type=\"simple\"><polygon fill=\"#FFFFFF\" points=\"16,6,97,6,104,28.2969,198,28.2969,198,291,16,291,16,6\" style=\"stroke: #000000; stroke-width: 1.5;\"/><line style=\"stroke: #000000; stroke-width: 1.5;\" x1=\"16\" x2=\"104\" y1=\"28.2969\" y2=\"28.2969\"/><text fill=\"#000000\" font-family=\"sans-serif\" font-size=\"14\" font-weight=\"bold\" lengthAdjust=\"spacingAndGlyphs\" textLength=\"75\" x=\"20\" y=\"20.9951\">AliasImport</text></a><!--MD5=[e4f7fae6ed58524ba242bb0b0d3be6b7]\n",
       "cluster E2--><a href=\"psysml:5f40b44b-bd87-468f-b109-35ffc9f78ab6\" target=\"_top\" title=\"psysml:5f40b44b-bd87-468f-b109-35ffc9f78ab6\" xlink:actuate=\"onRequest\" xlink:href=\"psysml:5f40b44b-bd87-468f-b109-35ffc9f78ab6\" xlink:show=\"new\" xlink:title=\"psysml:5f40b44b-bd87-468f-b109-35ffc9f78ab6\" xlink:type=\"simple\"><polygon fill=\"#FFFFFF\" points=\"58,170,137,170,144,192.2969,156,192.2969,156,267,58,267,58,170\" style=\"stroke: #000000; stroke-width: 1.5;\"/><line style=\"stroke: #000000; stroke-width: 1.5;\" x1=\"58\" x2=\"144\" y1=\"192.2969\" y2=\"192.2969\"/><text fill=\"#000000\" font-family=\"sans-serif\" font-size=\"14\" font-weight=\"bold\" lengthAdjust=\"spacingAndGlyphs\" textLength=\"73\" x=\"62\" y=\"184.9951\">Definitions</text></a><!--MD5=[f6df4d0ebaf0b5dfb2ced0ae5af7c670]\n",
       "cluster E4--><a href=\"psysml:ea2bdd2c-ef7f-4fe4-8ff5-76ffc4616c11\" target=\"_top\" title=\"psysml:ea2bdd2c-ef7f-4fe4-8ff5-76ffc4616c11\" xlink:actuate=\"onRequest\" xlink:href=\"psysml:ea2bdd2c-ef7f-4fe4-8ff5-76ffc4616c11\" xlink:show=\"new\" xlink:title=\"psysml:ea2bdd2c-ef7f-4fe4-8ff5-76ffc4616c11\" xlink:type=\"simple\"><polygon fill=\"#FFFFFF\" points=\"40,49,98,49,105,71.2969,174,71.2969,174,146,40,146,40,49\" style=\"stroke: #000000; stroke-width: 1.5;\"/><line style=\"stroke: #000000; stroke-width: 1.5;\" x1=\"40\" x2=\"105\" y1=\"71.2969\" y2=\"71.2969\"/><text fill=\"#000000\" font-family=\"sans-serif\" font-size=\"14\" font-weight=\"bold\" lengthAdjust=\"spacingAndGlyphs\" textLength=\"52\" x=\"44\" y=\"63.9951\">Usages</text></a><!--MD5=[09b614a08d8cba4a07c9adeb5e0fee81]\n",
       "class E3--><a href=\"psysml:1b4a97b7-4457-459f-aed1-97b0f48f7241\" target=\"_top\" title=\"psysml:1b4a97b7-4457-459f-aed1-97b0f48f7241\" xlink:actuate=\"onRequest\" xlink:href=\"psysml:1b4a97b7-4457-459f-aed1-97b0f48f7241\" xlink:show=\"new\" xlink:title=\"psysml:1b4a97b7-4457-459f-aed1-97b0f48f7241\" xlink:type=\"simple\"><rect fill=\"#FFFFFF\" height=\"45.9375\" id=\"E3\" style=\"stroke: #383838; stroke-width: 1.5;\" width=\"66\" x=\"74\" y=\"205\"/><text fill=\"#000000\" font-family=\"sans-serif\" font-size=\"12\" font-style=\"italic\" lengthAdjust=\"spacingAndGlyphs\" textLength=\"64\" x=\"75\" y=\"221.1387\">«part def»</text><text fill=\"#000000\" font-family=\"sans-serif\" font-size=\"12\" lengthAdjust=\"spacingAndGlyphs\" textLength=\"45\" x=\"84.5\" y=\"235.1074\">Vehicle</text><line style=\"stroke: #383838; stroke-width: 1.5;\" x1=\"75\" x2=\"139\" y1=\"242.9375\" y2=\"242.9375\"/></a><!--MD5=[270fce915f116d4de14055a7c1d9a0f3]\n",
       "class E5--><a href=\"psysml:ea5f8fdf-b305-409f-85bc-0024bea5295e\" target=\"_top\" title=\"psysml:ea5f8fdf-b305-409f-85bc-0024bea5295e\" xlink:actuate=\"onRequest\" xlink:href=\"psysml:ea5f8fdf-b305-409f-85bc-0024bea5295e\" xlink:show=\"new\" xlink:title=\"psysml:ea5f8fdf-b305-409f-85bc-0024bea5295e\" xlink:type=\"simple\"><rect fill=\"#FFFFFF\" height=\"45.9375\" id=\"E5\" rx=\"10\" ry=\"10\" style=\"stroke: #383838; stroke-width: 1.5;\" width=\"102\" x=\"56\" y=\"84\"/><text fill=\"#000000\" font-family=\"sans-serif\" font-size=\"12\" font-style=\"italic\" lengthAdjust=\"spacingAndGlyphs\" textLength=\"40\" x=\"87\" y=\"100.1387\">«part»</text><text fill=\"#000000\" font-family=\"sans-serif\" font-size=\"12\" lengthAdjust=\"spacingAndGlyphs\" textLength=\"96\" x=\"59\" y=\"114.1074\">vehicle: Vehicle</text><line style=\"stroke: #383838; stroke-width: 1.5;\" x1=\"57\" x2=\"157\" y1=\"121.9375\" y2=\"121.9375\"/></a><!--MD5=[e9be52314489bd878ff4c7144b63c9e1]\n",
       "link E5 to E3--><a href=\"psysml:4cdeda76-c42f-43d9-9b0b-b21e3f7ae647\" target=\"_top\" title=\"psysml:4cdeda76-c42f-43d9-9b0b-b21e3f7ae647\" xlink:actuate=\"onRequest\" xlink:href=\"psysml:4cdeda76-c42f-43d9-9b0b-b21e3f7ae647\" xlink:show=\"new\" xlink:title=\"psysml:4cdeda76-c42f-43d9-9b0b-b21e3f7ae647\" xlink:type=\"simple\"><path d=\"M107,130.1 C107,145.37 107,166.16 107,184.57 \" fill=\"none\" id=\"E5-&gt;E3\" style=\"stroke: #383838; stroke-width: 1.0;\"/><polygon fill=\"#FFFFFF\" points=\"107,204.61,100,185.61,114,185.61,107,204.61\" style=\"stroke: #383838; stroke-width: 1.0;\"/><ellipse cx=\"102\" cy=\"179.91\" fill=\"#383838\" rx=\"2\" ry=\"2\" style=\"stroke: #383838; stroke-width: 1.0;\"/><ellipse cx=\"112\" cy=\"179.91\" fill=\"#383838\" rx=\"2\" ry=\"2\" style=\"stroke: #383838; stroke-width: 1.0;\"/></a><!--MD5=[41d03f4ed5d9881b3ec87ab531fe74db]\n",
       "@startuml\r\n",
       "top to bottom direction\r\n",
       "skinparam monochrome true\r\n",
       "skinparam classbackgroundcolor white\r\n",
       "skinparam shadowing false\r\n",
       "skinparam wrapWidth 300\r\n",
       "hide circle\r\n",
       "\r\n",
       "package \"AliasImport\" as E1  [[psysml:4c778e7a-b929-42de-9fbe-71ac5f912e3c ]]  {\r\n",
       "package \"Definitions\" as E2  [[psysml:5f40b44b-bd87-468f-b109-35ffc9f78ab6 ]]  {\r\n",
       "comp def \"Vehicle\" as E3  <<(T,blue) part def>> [[psysml:1b4a97b7-4457-459f-aed1-97b0f48f7241 ]] {\r\n",
       "}\r\n",
       "}\r\n",
       "package \"Usages\" as E4  [[psysml:ea2bdd2c-ef7f-4fe4-8ff5-76ffc4616c11 ]]  {\r\n",
       "comp usage \"vehicle: Vehicle\" as E5  <<(T,blue) part>> [[psysml:ea5f8fdf-b305-409f-85bc-0024bea5295e ]] {\r\n",
       "}\r\n",
       "}\r\n",
       "}\r\n",
       "E5 - -:|> E3 [[psysml:4cdeda76-c42f-43d9-9b0b-b21e3f7ae647 ]] \r\n",
       "@enduml\r\n",
       "\n",
       "PlantUML version 1.2020.13(Sat Jun 13 12:26:38 UTC 2020)\n",
       "(EPL source distribution)\n",
       "Java Runtime: OpenJDK Runtime Environment\n",
       "JVM: OpenJDK 64-Bit Server VM\n",
       "Default Encoding: UTF-8\n",
       "Language: en\n",
       "Country: null\n",
       "--></g></svg>"
      ]
     },
     "execution_count": 45,
     "metadata": {},
     "output_type": "execute_result"
    }
   ],
   "source": [
    "%viz --style=\"TB\" --view=\"Tree\" \"AliasImport\""
   ]
  },
  {
   "cell_type": "code",
   "execution_count": 46,
   "id": "bd048aa3",
   "metadata": {
    "execution": {
     "iopub.execute_input": "2021-09-27T07:19:56.721120Z",
     "iopub.status.busy": "2021-09-27T07:19:56.720697Z",
     "iopub.status.idle": "2021-09-27T07:19:56.724958Z",
     "shell.execute_reply": "2021-09-27T07:19:56.725286Z"
    }
   },
   "outputs": [
    {
     "data": {
      "image/svg+xml": [
       "<?xml version=\"1.0\" encoding=\"UTF-8\" standalone=\"no\"?><svg xmlns=\"http://www.w3.org/2000/svg\" xmlns:xlink=\"http://www.w3.org/1999/xlink\" contentScriptType=\"application/ecmascript\" contentStyleType=\"text/css\" height=\"12px\" preserveAspectRatio=\"none\" style=\"width:12px;height:12px;\" version=\"1.1\" viewBox=\"0 0 12 12\" width=\"12px\" zoomAndPan=\"magnify\"><defs/><g><!--MD5=[f4ee21bc66e489b5061b7c3e9601fdef]\n",
       "@startuml\r\n",
       "top to bottom direction\r\n",
       "skinparam monochrome true\r\n",
       "skinparam classbackgroundcolor white\r\n",
       "skinparam shadowing false\r\n",
       "skinparam wrapWidth 300\r\n",
       "hide circle\r\n",
       "\r\n",
       "@enduml\r\n",
       "\n",
       "PlantUML version 1.2020.13(Sat Jun 13 12:26:38 UTC 2020)\n",
       "(EPL source distribution)\n",
       "Java Runtime: OpenJDK Runtime Environment\n",
       "JVM: OpenJDK 64-Bit Server VM\n",
       "Default Encoding: UTF-8\n",
       "Language: en\n",
       "Country: null\n",
       "--></g></svg>"
      ]
     },
     "execution_count": 46,
     "metadata": {},
     "output_type": "execute_result"
    }
   ],
   "source": [
    "%viz --style=\"TB\" --view=\"State\" \"AliasImport\""
   ]
  },
  {
   "cell_type": "code",
   "execution_count": 47,
   "id": "dfb21b41",
   "metadata": {
    "execution": {
     "iopub.execute_input": "2021-09-27T07:19:56.775303Z",
     "iopub.status.busy": "2021-09-27T07:19:56.774886Z",
     "iopub.status.idle": "2021-09-27T07:19:56.801436Z",
     "shell.execute_reply": "2021-09-27T07:19:56.800197Z"
    }
   },
   "outputs": [
    {
     "data": {
      "image/svg+xml": [
       "<?xml version=\"1.0\" encoding=\"UTF-8\" standalone=\"no\"?><svg xmlns=\"http://www.w3.org/2000/svg\" xmlns:xlink=\"http://www.w3.org/1999/xlink\" contentScriptType=\"application/ecmascript\" contentStyleType=\"text/css\" height=\"179px\" preserveAspectRatio=\"none\" style=\"width:458px;height:179px;\" version=\"1.1\" viewBox=\"0 0 458 179\" width=\"458px\" zoomAndPan=\"magnify\"><defs/><g><!--MD5=[fbc87193dbaf4d95561dea2c320d4a47]\n",
       "cluster E1--><a href=\"psysml:4c778e7a-b929-42de-9fbe-71ac5f912e3c\" target=\"_top\" title=\"psysml:4c778e7a-b929-42de-9fbe-71ac5f912e3c\" xlink:actuate=\"onRequest\" xlink:href=\"psysml:4c778e7a-b929-42de-9fbe-71ac5f912e3c\" xlink:show=\"new\" xlink:title=\"psysml:4c778e7a-b929-42de-9fbe-71ac5f912e3c\" xlink:type=\"simple\"><polygon fill=\"#FFFFFF\" points=\"16,6,97,6,104,28.2969,436,28.2969,436,167,16,167,16,6\" style=\"stroke: #000000; stroke-width: 1.5;\"/><line style=\"stroke: #000000; stroke-width: 1.5;\" x1=\"16\" x2=\"104\" y1=\"28.2969\" y2=\"28.2969\"/><text fill=\"#000000\" font-family=\"sans-serif\" font-size=\"14\" font-weight=\"bold\" lengthAdjust=\"spacingAndGlyphs\" textLength=\"75\" x=\"20\" y=\"20.9951\">AliasImport</text></a><!--MD5=[e4f7fae6ed58524ba242bb0b0d3be6b7]\n",
       "cluster E2--><a href=\"psysml:5f40b44b-bd87-468f-b109-35ffc9f78ab6\" target=\"_top\" title=\"psysml:5f40b44b-bd87-468f-b109-35ffc9f78ab6\" xlink:actuate=\"onRequest\" xlink:href=\"psysml:5f40b44b-bd87-468f-b109-35ffc9f78ab6\" xlink:show=\"new\" xlink:title=\"psysml:5f40b44b-bd87-468f-b109-35ffc9f78ab6\" xlink:type=\"simple\"><polygon fill=\"#FFFFFF\" points=\"202,49,281,49,288,71.2969,412,71.2969,412,143,202,143,202,49\" style=\"stroke: #000000; stroke-width: 1.5;\"/><line style=\"stroke: #000000; stroke-width: 1.5;\" x1=\"202\" x2=\"288\" y1=\"71.2969\" y2=\"71.2969\"/><text fill=\"#000000\" font-family=\"sans-serif\" font-size=\"14\" font-weight=\"bold\" lengthAdjust=\"spacingAndGlyphs\" textLength=\"73\" x=\"206\" y=\"63.9951\">Definitions</text></a><!--MD5=[de5ec2e2e8f62f467e546659f5068c88]\n",
       "cluster E5--><a href=\"psysml:ea2bdd2c-ef7f-4fe4-8ff5-76ffc4616c11\" target=\"_top\" title=\"psysml:ea2bdd2c-ef7f-4fe4-8ff5-76ffc4616c11\" xlink:actuate=\"onRequest\" xlink:href=\"psysml:ea2bdd2c-ef7f-4fe4-8ff5-76ffc4616c11\" xlink:show=\"new\" xlink:title=\"psysml:ea2bdd2c-ef7f-4fe4-8ff5-76ffc4616c11\" xlink:type=\"simple\"><polygon fill=\"#FFFFFF\" points=\"40,50.5,98,50.5,105,72.7969,178,72.7969,178,141.5,40,141.5,40,50.5\" style=\"stroke: #000000; stroke-width: 1.5;\"/><line style=\"stroke: #000000; stroke-width: 1.5;\" x1=\"40\" x2=\"105\" y1=\"72.7969\" y2=\"72.7969\"/><text fill=\"#000000\" font-family=\"sans-serif\" font-size=\"14\" font-weight=\"bold\" lengthAdjust=\"spacingAndGlyphs\" textLength=\"52\" x=\"44\" y=\"65.4951\">Usages</text></a><g id=\"E1.E2.E3\"><a href=\"psysml:1b4a97b7-4457-459f-aed1-97b0f48f7241\" target=\"_top\" title=\"psysml:1b4a97b7-4457-459f-aed1-97b0f48f7241\" xlink:actuate=\"onRequest\" xlink:href=\"psysml:1b4a97b7-4457-459f-aed1-97b0f48f7241\" xlink:show=\"new\" xlink:title=\"psysml:1b4a97b7-4457-459f-aed1-97b0f48f7241\" xlink:type=\"simple\"><rect fill=\"#FFFFFF\" height=\"42.9375\" id=\"E3\" style=\"stroke: #383838; stroke-width: 1.5;\" width=\"71\" x=\"324.5\" y=\"84\"/><rect fill=\"#F8F8F8\" height=\"37.9375\" style=\"stroke: #383838; stroke-width: 1.5;\" width=\"71\" x=\"324.5\" y=\"84\"/><text fill=\"#000000\" font-family=\"sans-serif\" font-size=\"12\" font-style=\"italic\" lengthAdjust=\"spacingAndGlyphs\" textLength=\"64\" x=\"328\" y=\"100.1387\">«part def»</text><text fill=\"#000000\" font-family=\"sans-serif\" font-size=\"12\" lengthAdjust=\"spacingAndGlyphs\" textLength=\"45\" x=\"337.5\" y=\"114.1074\">Vehicle</text></a></g><g id=\"E1.E2.E4\"><a href=\"psysml:1b4a97b7-4457-459f-aed1-97b0f48f7241\" target=\"_top\" title=\"psysml:1b4a97b7-4457-459f-aed1-97b0f48f7241\" xlink:actuate=\"onRequest\" xlink:href=\"psysml:1b4a97b7-4457-459f-aed1-97b0f48f7241\" xlink:show=\"new\" xlink:title=\"psysml:1b4a97b7-4457-459f-aed1-97b0f48f7241\" xlink:type=\"simple\"><rect fill=\"#FFFFFF\" height=\"42.9375\" id=\"E4\" style=\"stroke: #383838; stroke-width: 1.5;\" width=\"71\" x=\"218.5\" y=\"84\"/><rect fill=\"#F8F8F8\" height=\"37.9375\" style=\"stroke: #383838; stroke-width: 1.5;\" width=\"71\" x=\"218.5\" y=\"84\"/><text fill=\"#000000\" font-family=\"sans-serif\" font-size=\"12\" font-style=\"italic\" lengthAdjust=\"spacingAndGlyphs\" textLength=\"64\" x=\"222\" y=\"100.1387\">«part def»</text><text fill=\"#000000\" font-family=\"sans-serif\" font-size=\"12\" lengthAdjust=\"spacingAndGlyphs\" textLength=\"45\" x=\"231.5\" y=\"114.1074\">Vehicle</text></a></g><g id=\"E1.E5.E6\"><a href=\"psysml:ea5f8fdf-b305-409f-85bc-0024bea5295e\" target=\"_top\" title=\"psysml:ea5f8fdf-b305-409f-85bc-0024bea5295e\" xlink:actuate=\"onRequest\" xlink:href=\"psysml:ea5f8fdf-b305-409f-85bc-0024bea5295e\" xlink:show=\"new\" xlink:title=\"psysml:ea5f8fdf-b305-409f-85bc-0024bea5295e\" xlink:type=\"simple\"><rect fill=\"#FFFFFF\" height=\"40\" id=\"E6\" rx=\"10\" ry=\"10\" style=\"stroke: #383838; stroke-width: 1.5;\" width=\"107\" x=\"55.5\" y=\"85.5\"/><rect fill=\"#F8F8F8\" height=\"23.9688\" rx=\"10\" ry=\"10\" style=\"stroke: #F8F8F8; stroke-width: 1.5;\" width=\"107\" x=\"55.5\" y=\"85.5\"/><rect fill=\"#F8F8F8\" height=\"10\" style=\"stroke: #F8F8F8; stroke-width: 1.5;\" width=\"107\" x=\"55.5\" y=\"99.4688\"/><rect fill=\"none\" height=\"40\" id=\"E6\" rx=\"10\" ry=\"10\" style=\"stroke: #383838; stroke-width: 1.5;\" width=\"107\" x=\"55.5\" y=\"85.5\"/><text fill=\"#000000\" font-family=\"sans-serif\" font-size=\"12\" lengthAdjust=\"spacingAndGlyphs\" textLength=\"96\" x=\"61\" y=\"101.6387\">vehicle: Vehicle</text></a></g><!--MD5=[59eca3687d47b8d2a0c72107141001b3]\n",
       "@startuml\r\n",
       "skinparam ranksep 10\r\n",
       "skinparam rectangle {\r\n",
       " backgroundColor<<block>> LightGreen\r\n",
       "}\r\n",
       "top to bottom direction\r\n",
       "skinparam monochrome true\r\n",
       "skinparam classbackgroundcolor white\r\n",
       "skinparam shadowing false\r\n",
       "skinparam wrapWidth 300\r\n",
       "hide circle\r\n",
       "\r\n",
       "package \"AliasImport\" as E1  [[psysml:4c778e7a-b929-42de-9fbe-71ac5f912e3c ]]  {\r\n",
       "package \"Definitions\" as E2  [[psysml:5f40b44b-bd87-468f-b109-35ffc9f78ab6 ]]  {\r\n",
       "rec def \"Vehicle\" as E3  <<(T,blue) part def>> [[psysml:1b4a97b7-4457-459f-aed1-97b0f48f7241 ]] {\r\n",
       "}\r\n",
       "rec def \"Vehicle\" as E4  <<(T,blue) part def>> [[psysml:1b4a97b7-4457-459f-aed1-97b0f48f7241 ]] {\r\n",
       "}\r\n",
       "}\r\n",
       "package \"Usages\" as E5  [[psysml:ea2bdd2c-ef7f-4fe4-8ff5-76ffc4616c11 ]]  {\r\n",
       "rec usage \"vehicle: Vehicle\" as E6  [[psysml:ea5f8fdf-b305-409f-85bc-0024bea5295e ]] {\r\n",
       "}\r\n",
       "}\r\n",
       "}\r\n",
       "@enduml\r\n",
       "\n",
       "PlantUML version 1.2020.13(Sat Jun 13 12:26:38 UTC 2020)\n",
       "(EPL source distribution)\n",
       "Java Runtime: OpenJDK Runtime Environment\n",
       "JVM: OpenJDK 64-Bit Server VM\n",
       "Default Encoding: UTF-8\n",
       "Language: en\n",
       "Country: null\n",
       "--></g></svg>"
      ]
     },
     "execution_count": 47,
     "metadata": {},
     "output_type": "execute_result"
    }
   ],
   "source": [
    "%viz --style=\"TB\" --view=\"Interconnection\" \"AliasImport\""
   ]
  },
  {
   "cell_type": "code",
   "execution_count": 48,
   "id": "60bb625b",
   "metadata": {
    "execution": {
     "iopub.execute_input": "2021-09-27T07:19:56.851034Z",
     "iopub.status.busy": "2021-09-27T07:19:56.850618Z",
     "iopub.status.idle": "2021-09-27T07:19:56.855694Z",
     "shell.execute_reply": "2021-09-27T07:19:56.855347Z"
    }
   },
   "outputs": [
    {
     "data": {
      "image/svg+xml": [
       "<?xml version=\"1.0\" encoding=\"UTF-8\" standalone=\"no\"?><svg xmlns=\"http://www.w3.org/2000/svg\" xmlns:xlink=\"http://www.w3.org/1999/xlink\" contentScriptType=\"application/ecmascript\" contentStyleType=\"text/css\" height=\"12px\" preserveAspectRatio=\"none\" style=\"width:12px;height:12px;\" version=\"1.1\" viewBox=\"0 0 12 12\" width=\"12px\" zoomAndPan=\"magnify\"><defs/><g><!--MD5=[06afc254b03ac5e9d9fb7773b07d0800]\n",
       "@startuml\r\n",
       "skinparam ranksep 8\r\n",
       "top to bottom direction\r\n",
       "skinparam monochrome true\r\n",
       "skinparam classbackgroundcolor white\r\n",
       "skinparam shadowing false\r\n",
       "skinparam wrapWidth 300\r\n",
       "hide circle\r\n",
       "\r\n",
       "@enduml\r\n",
       "\n",
       "PlantUML version 1.2020.13(Sat Jun 13 12:26:38 UTC 2020)\n",
       "(EPL source distribution)\n",
       "Java Runtime: OpenJDK Runtime Environment\n",
       "JVM: OpenJDK 64-Bit Server VM\n",
       "Default Encoding: UTF-8\n",
       "Language: en\n",
       "Country: null\n",
       "--></g></svg>"
      ]
     },
     "execution_count": 48,
     "metadata": {},
     "output_type": "execute_result"
    }
   ],
   "source": [
    "%viz --style=\"TB\" --view=\"Action\" \"AliasImport\""
   ]
  },
  {
   "cell_type": "code",
   "execution_count": 49,
   "id": "7a71a8c6",
   "metadata": {
    "execution": {
     "iopub.execute_input": "2021-09-27T07:19:56.906140Z",
     "iopub.status.busy": "2021-09-27T07:19:56.905551Z",
     "iopub.status.idle": "2021-09-27T07:19:56.910887Z",
     "shell.execute_reply": "2021-09-27T07:19:56.910518Z"
    }
   },
   "outputs": [
    {
     "data": {
      "image/svg+xml": [
       "<?xml version=\"1.0\" encoding=\"UTF-8\" standalone=\"no\"?><svg xmlns=\"http://www.w3.org/2000/svg\" xmlns:xlink=\"http://www.w3.org/1999/xlink\" contentScriptType=\"application/ecmascript\" contentStyleType=\"text/css\" height=\"12px\" preserveAspectRatio=\"none\" style=\"width:12px;height:12px;\" version=\"1.1\" viewBox=\"0 0 12 12\" width=\"12px\" zoomAndPan=\"magnify\"><defs/><g><!--MD5=[e1ab0c84c44d2fef8bf5f140f2689906]\n",
       "@startuml\r\n",
       "skinparam roundcorner 20\r\n",
       "skinparam BoxPadding 20\r\n",
       "skinparam SequenceBoxBackgroundColor #white\r\n",
       "skinparam style strictuml\r\n",
       "skinparam maxMessageSize 100\r\n",
       "top to bottom direction\r\n",
       "skinparam monochrome true\r\n",
       "skinparam classbackgroundcolor white\r\n",
       "skinparam shadowing false\r\n",
       "skinparam wrapWidth 300\r\n",
       "hide circle\r\n",
       "\r\n",
       "@enduml\r\n",
       "\n",
       "PlantUML version 1.2020.13(Sat Jun 13 12:26:38 UTC 2020)\n",
       "(EPL source distribution)\n",
       "Java Runtime: OpenJDK Runtime Environment\n",
       "JVM: OpenJDK 64-Bit Server VM\n",
       "Default Encoding: UTF-8\n",
       "Language: en\n",
       "Country: null\n",
       "--></g></svg>"
      ]
     },
     "execution_count": 49,
     "metadata": {},
     "output_type": "execute_result"
    }
   ],
   "source": [
    "%viz --style=\"TB\" --view=\"Sequence\" \"AliasImport\""
   ]
  },
  {
   "cell_type": "code",
   "execution_count": 50,
   "id": "47ab52a4",
   "metadata": {
    "execution": {
     "iopub.execute_input": "2021-09-27T07:19:56.960927Z",
     "iopub.status.busy": "2021-09-27T07:19:56.960347Z",
     "iopub.status.idle": "2021-09-27T07:19:56.981659Z",
     "shell.execute_reply": "2021-09-27T07:19:56.980436Z"
    }
   },
   "outputs": [
    {
     "data": {
      "image/svg+xml": [
       "<?xml version=\"1.0\" encoding=\"UTF-8\" standalone=\"no\"?><svg xmlns=\"http://www.w3.org/2000/svg\" xmlns:xlink=\"http://www.w3.org/1999/xlink\" contentScriptType=\"application/ecmascript\" contentStyleType=\"text/css\" height=\"303px\" preserveAspectRatio=\"none\" style=\"width:220px;height:303px;\" version=\"1.1\" viewBox=\"0 0 220 303\" width=\"220px\" zoomAndPan=\"magnify\"><defs/><g><!--MD5=[fbc87193dbaf4d95561dea2c320d4a47]\n",
       "cluster E1--><a href=\"psysml:4c778e7a-b929-42de-9fbe-71ac5f912e3c\" target=\"_top\" title=\"psysml:4c778e7a-b929-42de-9fbe-71ac5f912e3c\" xlink:actuate=\"onRequest\" xlink:href=\"psysml:4c778e7a-b929-42de-9fbe-71ac5f912e3c\" xlink:show=\"new\" xlink:title=\"psysml:4c778e7a-b929-42de-9fbe-71ac5f912e3c\" xlink:type=\"simple\"><polygon fill=\"#FFFFFF\" points=\"16,6,97,6,104,28.2969,198,28.2969,198,291,16,291,16,6\" style=\"stroke: #000000; stroke-width: 1.5;\"/><line style=\"stroke: #000000; stroke-width: 1.5;\" x1=\"16\" x2=\"104\" y1=\"28.2969\" y2=\"28.2969\"/><text fill=\"#000000\" font-family=\"sans-serif\" font-size=\"14\" font-weight=\"bold\" lengthAdjust=\"spacingAndGlyphs\" textLength=\"75\" x=\"20\" y=\"20.9951\">AliasImport</text></a><!--MD5=[e4f7fae6ed58524ba242bb0b0d3be6b7]\n",
       "cluster E2--><a href=\"psysml:5f40b44b-bd87-468f-b109-35ffc9f78ab6\" target=\"_top\" title=\"psysml:5f40b44b-bd87-468f-b109-35ffc9f78ab6\" xlink:actuate=\"onRequest\" xlink:href=\"psysml:5f40b44b-bd87-468f-b109-35ffc9f78ab6\" xlink:show=\"new\" xlink:title=\"psysml:5f40b44b-bd87-468f-b109-35ffc9f78ab6\" xlink:type=\"simple\"><polygon fill=\"#FFFFFF\" points=\"58,170,137,170,144,192.2969,156,192.2969,156,267,58,267,58,170\" style=\"stroke: #000000; stroke-width: 1.5;\"/><line style=\"stroke: #000000; stroke-width: 1.5;\" x1=\"58\" x2=\"144\" y1=\"192.2969\" y2=\"192.2969\"/><text fill=\"#000000\" font-family=\"sans-serif\" font-size=\"14\" font-weight=\"bold\" lengthAdjust=\"spacingAndGlyphs\" textLength=\"73\" x=\"62\" y=\"184.9951\">Definitions</text></a><!--MD5=[f6df4d0ebaf0b5dfb2ced0ae5af7c670]\n",
       "cluster E4--><a href=\"psysml:ea2bdd2c-ef7f-4fe4-8ff5-76ffc4616c11\" target=\"_top\" title=\"psysml:ea2bdd2c-ef7f-4fe4-8ff5-76ffc4616c11\" xlink:actuate=\"onRequest\" xlink:href=\"psysml:ea2bdd2c-ef7f-4fe4-8ff5-76ffc4616c11\" xlink:show=\"new\" xlink:title=\"psysml:ea2bdd2c-ef7f-4fe4-8ff5-76ffc4616c11\" xlink:type=\"simple\"><polygon fill=\"#FFFFFF\" points=\"40,49,98,49,105,71.2969,174,71.2969,174,146,40,146,40,49\" style=\"stroke: #000000; stroke-width: 1.5;\"/><line style=\"stroke: #000000; stroke-width: 1.5;\" x1=\"40\" x2=\"105\" y1=\"71.2969\" y2=\"71.2969\"/><text fill=\"#000000\" font-family=\"sans-serif\" font-size=\"14\" font-weight=\"bold\" lengthAdjust=\"spacingAndGlyphs\" textLength=\"52\" x=\"44\" y=\"63.9951\">Usages</text></a><!--MD5=[09b614a08d8cba4a07c9adeb5e0fee81]\n",
       "class E3--><a href=\"psysml:1b4a97b7-4457-459f-aed1-97b0f48f7241\" target=\"_top\" title=\"psysml:1b4a97b7-4457-459f-aed1-97b0f48f7241\" xlink:actuate=\"onRequest\" xlink:href=\"psysml:1b4a97b7-4457-459f-aed1-97b0f48f7241\" xlink:show=\"new\" xlink:title=\"psysml:1b4a97b7-4457-459f-aed1-97b0f48f7241\" xlink:type=\"simple\"><rect fill=\"#FFFFFF\" height=\"45.9375\" id=\"E3\" style=\"stroke: #383838; stroke-width: 1.5;\" width=\"66\" x=\"74\" y=\"205\"/><text fill=\"#000000\" font-family=\"sans-serif\" font-size=\"12\" font-style=\"italic\" lengthAdjust=\"spacingAndGlyphs\" textLength=\"64\" x=\"75\" y=\"221.1387\">«part def»</text><text fill=\"#000000\" font-family=\"sans-serif\" font-size=\"12\" lengthAdjust=\"spacingAndGlyphs\" textLength=\"45\" x=\"84.5\" y=\"235.1074\">Vehicle</text><line style=\"stroke: #383838; stroke-width: 1.5;\" x1=\"75\" x2=\"139\" y1=\"242.9375\" y2=\"242.9375\"/></a><!--MD5=[270fce915f116d4de14055a7c1d9a0f3]\n",
       "class E5--><a href=\"psysml:ea5f8fdf-b305-409f-85bc-0024bea5295e\" target=\"_top\" title=\"psysml:ea5f8fdf-b305-409f-85bc-0024bea5295e\" xlink:actuate=\"onRequest\" xlink:href=\"psysml:ea5f8fdf-b305-409f-85bc-0024bea5295e\" xlink:show=\"new\" xlink:title=\"psysml:ea5f8fdf-b305-409f-85bc-0024bea5295e\" xlink:type=\"simple\"><rect fill=\"#FFFFFF\" height=\"45.9375\" id=\"E5\" rx=\"10\" ry=\"10\" style=\"stroke: #383838; stroke-width: 1.5;\" width=\"102\" x=\"56\" y=\"84\"/><text fill=\"#000000\" font-family=\"sans-serif\" font-size=\"12\" font-style=\"italic\" lengthAdjust=\"spacingAndGlyphs\" textLength=\"40\" x=\"87\" y=\"100.1387\">«part»</text><text fill=\"#000000\" font-family=\"sans-serif\" font-size=\"12\" lengthAdjust=\"spacingAndGlyphs\" textLength=\"96\" x=\"59\" y=\"114.1074\">vehicle: Vehicle</text><line style=\"stroke: #383838; stroke-width: 1.5;\" x1=\"57\" x2=\"157\" y1=\"121.9375\" y2=\"121.9375\"/></a><!--MD5=[e9be52314489bd878ff4c7144b63c9e1]\n",
       "link E5 to E3--><a href=\"psysml:4cdeda76-c42f-43d9-9b0b-b21e3f7ae647\" target=\"_top\" title=\"psysml:4cdeda76-c42f-43d9-9b0b-b21e3f7ae647\" xlink:actuate=\"onRequest\" xlink:href=\"psysml:4cdeda76-c42f-43d9-9b0b-b21e3f7ae647\" xlink:show=\"new\" xlink:title=\"psysml:4cdeda76-c42f-43d9-9b0b-b21e3f7ae647\" xlink:type=\"simple\"><path d=\"M107,130.1 C107,145.37 107,166.16 107,184.57 \" fill=\"none\" id=\"E5-&gt;E3\" style=\"stroke: #383838; stroke-width: 1.0;\"/><polygon fill=\"#FFFFFF\" points=\"107,204.61,100,185.61,114,185.61,107,204.61\" style=\"stroke: #383838; stroke-width: 1.0;\"/><ellipse cx=\"102\" cy=\"179.91\" fill=\"#383838\" rx=\"2\" ry=\"2\" style=\"stroke: #383838; stroke-width: 1.0;\"/><ellipse cx=\"112\" cy=\"179.91\" fill=\"#383838\" rx=\"2\" ry=\"2\" style=\"stroke: #383838; stroke-width: 1.0;\"/></a><!--MD5=[41d03f4ed5d9881b3ec87ab531fe74db]\n",
       "@startuml\r\n",
       "top to bottom direction\r\n",
       "skinparam monochrome true\r\n",
       "skinparam classbackgroundcolor white\r\n",
       "skinparam shadowing false\r\n",
       "skinparam wrapWidth 300\r\n",
       "hide circle\r\n",
       "\r\n",
       "package \"AliasImport\" as E1  [[psysml:4c778e7a-b929-42de-9fbe-71ac5f912e3c ]]  {\r\n",
       "package \"Definitions\" as E2  [[psysml:5f40b44b-bd87-468f-b109-35ffc9f78ab6 ]]  {\r\n",
       "comp def \"Vehicle\" as E3  <<(T,blue) part def>> [[psysml:1b4a97b7-4457-459f-aed1-97b0f48f7241 ]] {\r\n",
       "}\r\n",
       "}\r\n",
       "package \"Usages\" as E4  [[psysml:ea2bdd2c-ef7f-4fe4-8ff5-76ffc4616c11 ]]  {\r\n",
       "comp usage \"vehicle: Vehicle\" as E5  <<(T,blue) part>> [[psysml:ea5f8fdf-b305-409f-85bc-0024bea5295e ]] {\r\n",
       "}\r\n",
       "}\r\n",
       "}\r\n",
       "E5 - -:|> E3 [[psysml:4cdeda76-c42f-43d9-9b0b-b21e3f7ae647 ]] \r\n",
       "@enduml\r\n",
       "\n",
       "PlantUML version 1.2020.13(Sat Jun 13 12:26:38 UTC 2020)\n",
       "(EPL source distribution)\n",
       "Java Runtime: OpenJDK Runtime Environment\n",
       "JVM: OpenJDK 64-Bit Server VM\n",
       "Default Encoding: UTF-8\n",
       "Language: en\n",
       "Country: null\n",
       "--></g></svg>"
      ]
     },
     "execution_count": 50,
     "metadata": {},
     "output_type": "execute_result"
    }
   ],
   "source": [
    "%viz --style=\"TB\" --view=\"MIXED\" \"AliasImport\""
   ]
  },
  {
   "cell_type": "code",
   "execution_count": 51,
   "id": "5bdff3d6",
   "metadata": {
    "execution": {
     "iopub.execute_input": "2021-09-27T07:19:57.031514Z",
     "iopub.status.busy": "2021-09-27T07:19:57.031080Z",
     "iopub.status.idle": "2021-09-27T07:19:57.052503Z",
     "shell.execute_reply": "2021-09-27T07:19:57.051574Z"
    }
   },
   "outputs": [
    {
     "data": {
      "image/svg+xml": [
       "<?xml version=\"1.0\" encoding=\"UTF-8\" standalone=\"no\"?><svg xmlns=\"http://www.w3.org/2000/svg\" xmlns:xlink=\"http://www.w3.org/1999/xlink\" contentScriptType=\"application/ecmascript\" contentStyleType=\"text/css\" height=\"303px\" preserveAspectRatio=\"none\" style=\"width:220px;height:303px;\" version=\"1.1\" viewBox=\"0 0 220 303\" width=\"220px\" zoomAndPan=\"magnify\"><defs/><g><!--MD5=[fbc87193dbaf4d95561dea2c320d4a47]\n",
       "cluster E1--><a href=\"psysml:4c778e7a-b929-42de-9fbe-71ac5f912e3c\" target=\"_top\" title=\"psysml:4c778e7a-b929-42de-9fbe-71ac5f912e3c\" xlink:actuate=\"onRequest\" xlink:href=\"psysml:4c778e7a-b929-42de-9fbe-71ac5f912e3c\" xlink:show=\"new\" xlink:title=\"psysml:4c778e7a-b929-42de-9fbe-71ac5f912e3c\" xlink:type=\"simple\"><polygon fill=\"#FFFFFF\" points=\"16,6,97,6,104,28.2969,198,28.2969,198,291,16,291,16,6\" style=\"stroke: #000000; stroke-width: 1.5;\"/><line style=\"stroke: #000000; stroke-width: 1.5;\" x1=\"16\" x2=\"104\" y1=\"28.2969\" y2=\"28.2969\"/><text fill=\"#000000\" font-family=\"sans-serif\" font-size=\"14\" font-weight=\"bold\" lengthAdjust=\"spacingAndGlyphs\" textLength=\"75\" x=\"20\" y=\"20.9951\">AliasImport</text></a><!--MD5=[e4f7fae6ed58524ba242bb0b0d3be6b7]\n",
       "cluster E2--><a href=\"psysml:5f40b44b-bd87-468f-b109-35ffc9f78ab6\" target=\"_top\" title=\"psysml:5f40b44b-bd87-468f-b109-35ffc9f78ab6\" xlink:actuate=\"onRequest\" xlink:href=\"psysml:5f40b44b-bd87-468f-b109-35ffc9f78ab6\" xlink:show=\"new\" xlink:title=\"psysml:5f40b44b-bd87-468f-b109-35ffc9f78ab6\" xlink:type=\"simple\"><polygon fill=\"#FFFFFF\" points=\"58,170,137,170,144,192.2969,156,192.2969,156,267,58,267,58,170\" style=\"stroke: #000000; stroke-width: 1.5;\"/><line style=\"stroke: #000000; stroke-width: 1.5;\" x1=\"58\" x2=\"144\" y1=\"192.2969\" y2=\"192.2969\"/><text fill=\"#000000\" font-family=\"sans-serif\" font-size=\"14\" font-weight=\"bold\" lengthAdjust=\"spacingAndGlyphs\" textLength=\"73\" x=\"62\" y=\"184.9951\">Definitions</text></a><!--MD5=[f6df4d0ebaf0b5dfb2ced0ae5af7c670]\n",
       "cluster E4--><a href=\"psysml:ea2bdd2c-ef7f-4fe4-8ff5-76ffc4616c11\" target=\"_top\" title=\"psysml:ea2bdd2c-ef7f-4fe4-8ff5-76ffc4616c11\" xlink:actuate=\"onRequest\" xlink:href=\"psysml:ea2bdd2c-ef7f-4fe4-8ff5-76ffc4616c11\" xlink:show=\"new\" xlink:title=\"psysml:ea2bdd2c-ef7f-4fe4-8ff5-76ffc4616c11\" xlink:type=\"simple\"><polygon fill=\"#FFFFFF\" points=\"40,49,98,49,105,71.2969,174,71.2969,174,146,40,146,40,49\" style=\"stroke: #000000; stroke-width: 1.5;\"/><line style=\"stroke: #000000; stroke-width: 1.5;\" x1=\"40\" x2=\"105\" y1=\"71.2969\" y2=\"71.2969\"/><text fill=\"#000000\" font-family=\"sans-serif\" font-size=\"14\" font-weight=\"bold\" lengthAdjust=\"spacingAndGlyphs\" textLength=\"52\" x=\"44\" y=\"63.9951\">Usages</text></a><!--MD5=[09b614a08d8cba4a07c9adeb5e0fee81]\n",
       "class E3--><a href=\"psysml:1b4a97b7-4457-459f-aed1-97b0f48f7241\" target=\"_top\" title=\"psysml:1b4a97b7-4457-459f-aed1-97b0f48f7241\" xlink:actuate=\"onRequest\" xlink:href=\"psysml:1b4a97b7-4457-459f-aed1-97b0f48f7241\" xlink:show=\"new\" xlink:title=\"psysml:1b4a97b7-4457-459f-aed1-97b0f48f7241\" xlink:type=\"simple\"><rect fill=\"#FFFFFF\" height=\"45.9375\" id=\"E3\" style=\"stroke: #383838; stroke-width: 1.5;\" width=\"66\" x=\"74\" y=\"205\"/><text fill=\"#000000\" font-family=\"sans-serif\" font-size=\"12\" font-style=\"italic\" lengthAdjust=\"spacingAndGlyphs\" textLength=\"64\" x=\"75\" y=\"221.1387\">«part def»</text><text fill=\"#000000\" font-family=\"sans-serif\" font-size=\"12\" lengthAdjust=\"spacingAndGlyphs\" textLength=\"45\" x=\"84.5\" y=\"235.1074\">Vehicle</text><line style=\"stroke: #383838; stroke-width: 1.5;\" x1=\"75\" x2=\"139\" y1=\"242.9375\" y2=\"242.9375\"/></a><!--MD5=[270fce915f116d4de14055a7c1d9a0f3]\n",
       "class E5--><a href=\"psysml:ea5f8fdf-b305-409f-85bc-0024bea5295e\" target=\"_top\" title=\"psysml:ea5f8fdf-b305-409f-85bc-0024bea5295e\" xlink:actuate=\"onRequest\" xlink:href=\"psysml:ea5f8fdf-b305-409f-85bc-0024bea5295e\" xlink:show=\"new\" xlink:title=\"psysml:ea5f8fdf-b305-409f-85bc-0024bea5295e\" xlink:type=\"simple\"><rect fill=\"#FFFFFF\" height=\"45.9375\" id=\"E5\" rx=\"10\" ry=\"10\" style=\"stroke: #383838; stroke-width: 1.5;\" width=\"102\" x=\"56\" y=\"84\"/><text fill=\"#000000\" font-family=\"sans-serif\" font-size=\"12\" font-style=\"italic\" lengthAdjust=\"spacingAndGlyphs\" textLength=\"40\" x=\"87\" y=\"100.1387\">«part»</text><text fill=\"#000000\" font-family=\"sans-serif\" font-size=\"12\" lengthAdjust=\"spacingAndGlyphs\" textLength=\"96\" x=\"59\" y=\"114.1074\">vehicle: Vehicle</text><line style=\"stroke: #383838; stroke-width: 1.5;\" x1=\"57\" x2=\"157\" y1=\"121.9375\" y2=\"121.9375\"/></a><!--MD5=[e9be52314489bd878ff4c7144b63c9e1]\n",
       "link E5 to E3--><a href=\"psysml:4cdeda76-c42f-43d9-9b0b-b21e3f7ae647\" target=\"_top\" title=\"psysml:4cdeda76-c42f-43d9-9b0b-b21e3f7ae647\" xlink:actuate=\"onRequest\" xlink:href=\"psysml:4cdeda76-c42f-43d9-9b0b-b21e3f7ae647\" xlink:show=\"new\" xlink:title=\"psysml:4cdeda76-c42f-43d9-9b0b-b21e3f7ae647\" xlink:type=\"simple\"><path d=\"M107,130.04 C107,130.04 107,184.63 107,184.63 \" fill=\"none\" id=\"E5-&gt;E3\" style=\"stroke: #383838; stroke-width: 1.0;\"/><polygon fill=\"#FFFFFF\" points=\"107,204.63,100,185.63,114,185.63,107,204.63\" style=\"stroke: #383838; stroke-width: 1.0;\"/><ellipse cx=\"102\" cy=\"179.93\" fill=\"#383838\" rx=\"2\" ry=\"2\" style=\"stroke: #383838; stroke-width: 1.0;\"/><ellipse cx=\"112\" cy=\"179.93\" fill=\"#383838\" rx=\"2\" ry=\"2\" style=\"stroke: #383838; stroke-width: 1.0;\"/></a><!--MD5=[bf2b8be2aaa81c671fffd04353a7f3aa]\n",
       "@startuml\r\n",
       "skinparam linetype ortho\r\n",
       "skinparam monochrome true\r\n",
       "skinparam classbackgroundcolor white\r\n",
       "skinparam shadowing false\r\n",
       "skinparam wrapWidth 300\r\n",
       "hide circle\r\n",
       "\r\n",
       "package \"AliasImport\" as E1  [[psysml:4c778e7a-b929-42de-9fbe-71ac5f912e3c ]]  {\r\n",
       "package \"Definitions\" as E2  [[psysml:5f40b44b-bd87-468f-b109-35ffc9f78ab6 ]]  {\r\n",
       "comp def \"Vehicle\" as E3  <<(T,blue) part def>> [[psysml:1b4a97b7-4457-459f-aed1-97b0f48f7241 ]] {\r\n",
       "}\r\n",
       "}\r\n",
       "package \"Usages\" as E4  [[psysml:ea2bdd2c-ef7f-4fe4-8ff5-76ffc4616c11 ]]  {\r\n",
       "comp usage \"vehicle: Vehicle\" as E5  <<(T,blue) part>> [[psysml:ea5f8fdf-b305-409f-85bc-0024bea5295e ]] {\r\n",
       "}\r\n",
       "}\r\n",
       "}\r\n",
       "E5 - -:|> E3 [[psysml:4cdeda76-c42f-43d9-9b0b-b21e3f7ae647 ]] \r\n",
       "@enduml\r\n",
       "\n",
       "PlantUML version 1.2020.13(Sat Jun 13 12:26:38 UTC 2020)\n",
       "(EPL source distribution)\n",
       "Java Runtime: OpenJDK Runtime Environment\n",
       "JVM: OpenJDK 64-Bit Server VM\n",
       "Default Encoding: UTF-8\n",
       "Language: en\n",
       "Country: null\n",
       "--></g></svg>"
      ]
     },
     "execution_count": 51,
     "metadata": {},
     "output_type": "execute_result"
    }
   ],
   "source": [
    "%viz --style=\"ORTHOLINE\" --view=\"Default\" \"AliasImport\""
   ]
  },
  {
   "cell_type": "code",
   "execution_count": 52,
   "id": "8e7fcbf0",
   "metadata": {
    "execution": {
     "iopub.execute_input": "2021-09-27T07:19:57.102797Z",
     "iopub.status.busy": "2021-09-27T07:19:57.102208Z",
     "iopub.status.idle": "2021-09-27T07:19:57.129264Z",
     "shell.execute_reply": "2021-09-27T07:19:57.127989Z"
    }
   },
   "outputs": [
    {
     "data": {
      "image/svg+xml": [
       "<?xml version=\"1.0\" encoding=\"UTF-8\" standalone=\"no\"?><svg xmlns=\"http://www.w3.org/2000/svg\" xmlns:xlink=\"http://www.w3.org/1999/xlink\" contentScriptType=\"application/ecmascript\" contentStyleType=\"text/css\" height=\"303px\" preserveAspectRatio=\"none\" style=\"width:220px;height:303px;\" version=\"1.1\" viewBox=\"0 0 220 303\" width=\"220px\" zoomAndPan=\"magnify\"><defs/><g><!--MD5=[fbc87193dbaf4d95561dea2c320d4a47]\n",
       "cluster E1--><a href=\"psysml:4c778e7a-b929-42de-9fbe-71ac5f912e3c\" target=\"_top\" title=\"psysml:4c778e7a-b929-42de-9fbe-71ac5f912e3c\" xlink:actuate=\"onRequest\" xlink:href=\"psysml:4c778e7a-b929-42de-9fbe-71ac5f912e3c\" xlink:show=\"new\" xlink:title=\"psysml:4c778e7a-b929-42de-9fbe-71ac5f912e3c\" xlink:type=\"simple\"><polygon fill=\"#FFFFFF\" points=\"16,6,97,6,104,28.2969,198,28.2969,198,291,16,291,16,6\" style=\"stroke: #000000; stroke-width: 1.5;\"/><line style=\"stroke: #000000; stroke-width: 1.5;\" x1=\"16\" x2=\"104\" y1=\"28.2969\" y2=\"28.2969\"/><text fill=\"#000000\" font-family=\"sans-serif\" font-size=\"14\" font-weight=\"bold\" lengthAdjust=\"spacingAndGlyphs\" textLength=\"75\" x=\"20\" y=\"20.9951\">AliasImport</text></a><!--MD5=[e4f7fae6ed58524ba242bb0b0d3be6b7]\n",
       "cluster E2--><a href=\"psysml:5f40b44b-bd87-468f-b109-35ffc9f78ab6\" target=\"_top\" title=\"psysml:5f40b44b-bd87-468f-b109-35ffc9f78ab6\" xlink:actuate=\"onRequest\" xlink:href=\"psysml:5f40b44b-bd87-468f-b109-35ffc9f78ab6\" xlink:show=\"new\" xlink:title=\"psysml:5f40b44b-bd87-468f-b109-35ffc9f78ab6\" xlink:type=\"simple\"><polygon fill=\"#FFFFFF\" points=\"58,170,137,170,144,192.2969,156,192.2969,156,267,58,267,58,170\" style=\"stroke: #000000; stroke-width: 1.5;\"/><line style=\"stroke: #000000; stroke-width: 1.5;\" x1=\"58\" x2=\"144\" y1=\"192.2969\" y2=\"192.2969\"/><text fill=\"#000000\" font-family=\"sans-serif\" font-size=\"14\" font-weight=\"bold\" lengthAdjust=\"spacingAndGlyphs\" textLength=\"73\" x=\"62\" y=\"184.9951\">Definitions</text></a><!--MD5=[f6df4d0ebaf0b5dfb2ced0ae5af7c670]\n",
       "cluster E4--><a href=\"psysml:ea2bdd2c-ef7f-4fe4-8ff5-76ffc4616c11\" target=\"_top\" title=\"psysml:ea2bdd2c-ef7f-4fe4-8ff5-76ffc4616c11\" xlink:actuate=\"onRequest\" xlink:href=\"psysml:ea2bdd2c-ef7f-4fe4-8ff5-76ffc4616c11\" xlink:show=\"new\" xlink:title=\"psysml:ea2bdd2c-ef7f-4fe4-8ff5-76ffc4616c11\" xlink:type=\"simple\"><polygon fill=\"#FFFFFF\" points=\"40,49,98,49,105,71.2969,174,71.2969,174,146,40,146,40,49\" style=\"stroke: #000000; stroke-width: 1.5;\"/><line style=\"stroke: #000000; stroke-width: 1.5;\" x1=\"40\" x2=\"105\" y1=\"71.2969\" y2=\"71.2969\"/><text fill=\"#000000\" font-family=\"sans-serif\" font-size=\"14\" font-weight=\"bold\" lengthAdjust=\"spacingAndGlyphs\" textLength=\"52\" x=\"44\" y=\"63.9951\">Usages</text></a><!--MD5=[09b614a08d8cba4a07c9adeb5e0fee81]\n",
       "class E3--><a href=\"psysml:1b4a97b7-4457-459f-aed1-97b0f48f7241\" target=\"_top\" title=\"psysml:1b4a97b7-4457-459f-aed1-97b0f48f7241\" xlink:actuate=\"onRequest\" xlink:href=\"psysml:1b4a97b7-4457-459f-aed1-97b0f48f7241\" xlink:show=\"new\" xlink:title=\"psysml:1b4a97b7-4457-459f-aed1-97b0f48f7241\" xlink:type=\"simple\"><rect fill=\"#FFFFFF\" height=\"45.9375\" id=\"E3\" style=\"stroke: #383838; stroke-width: 1.5;\" width=\"66\" x=\"74\" y=\"205\"/><text fill=\"#000000\" font-family=\"sans-serif\" font-size=\"12\" font-style=\"italic\" lengthAdjust=\"spacingAndGlyphs\" textLength=\"64\" x=\"75\" y=\"221.1387\">«part def»</text><text fill=\"#000000\" font-family=\"sans-serif\" font-size=\"12\" lengthAdjust=\"spacingAndGlyphs\" textLength=\"45\" x=\"84.5\" y=\"235.1074\">Vehicle</text><line style=\"stroke: #383838; stroke-width: 1.5;\" x1=\"75\" x2=\"139\" y1=\"242.9375\" y2=\"242.9375\"/></a><!--MD5=[270fce915f116d4de14055a7c1d9a0f3]\n",
       "class E5--><a href=\"psysml:ea5f8fdf-b305-409f-85bc-0024bea5295e\" target=\"_top\" title=\"psysml:ea5f8fdf-b305-409f-85bc-0024bea5295e\" xlink:actuate=\"onRequest\" xlink:href=\"psysml:ea5f8fdf-b305-409f-85bc-0024bea5295e\" xlink:show=\"new\" xlink:title=\"psysml:ea5f8fdf-b305-409f-85bc-0024bea5295e\" xlink:type=\"simple\"><rect fill=\"#FFFFFF\" height=\"45.9375\" id=\"E5\" rx=\"10\" ry=\"10\" style=\"stroke: #383838; stroke-width: 1.5;\" width=\"102\" x=\"56\" y=\"84\"/><text fill=\"#000000\" font-family=\"sans-serif\" font-size=\"12\" font-style=\"italic\" lengthAdjust=\"spacingAndGlyphs\" textLength=\"40\" x=\"87\" y=\"100.1387\">«part»</text><text fill=\"#000000\" font-family=\"sans-serif\" font-size=\"12\" lengthAdjust=\"spacingAndGlyphs\" textLength=\"96\" x=\"59\" y=\"114.1074\">vehicle: Vehicle</text><line style=\"stroke: #383838; stroke-width: 1.5;\" x1=\"57\" x2=\"157\" y1=\"121.9375\" y2=\"121.9375\"/></a><!--MD5=[e9be52314489bd878ff4c7144b63c9e1]\n",
       "link E5 to E3--><a href=\"psysml:4cdeda76-c42f-43d9-9b0b-b21e3f7ae647\" target=\"_top\" title=\"psysml:4cdeda76-c42f-43d9-9b0b-b21e3f7ae647\" xlink:actuate=\"onRequest\" xlink:href=\"psysml:4cdeda76-c42f-43d9-9b0b-b21e3f7ae647\" xlink:show=\"new\" xlink:title=\"psysml:4cdeda76-c42f-43d9-9b0b-b21e3f7ae647\" xlink:type=\"simple\"><path d=\"M107,130.04 C107,130.04 107,184.63 107,184.63 \" fill=\"none\" id=\"E5-&gt;E3\" style=\"stroke: #383838; stroke-width: 1.0;\"/><polygon fill=\"#FFFFFF\" points=\"107,204.63,100,185.63,114,185.63,107,204.63\" style=\"stroke: #383838; stroke-width: 1.0;\"/><ellipse cx=\"102\" cy=\"179.93\" fill=\"#383838\" rx=\"2\" ry=\"2\" style=\"stroke: #383838; stroke-width: 1.0;\"/><ellipse cx=\"112\" cy=\"179.93\" fill=\"#383838\" rx=\"2\" ry=\"2\" style=\"stroke: #383838; stroke-width: 1.0;\"/></a><!--MD5=[bf2b8be2aaa81c671fffd04353a7f3aa]\n",
       "@startuml\r\n",
       "skinparam linetype ortho\r\n",
       "skinparam monochrome true\r\n",
       "skinparam classbackgroundcolor white\r\n",
       "skinparam shadowing false\r\n",
       "skinparam wrapWidth 300\r\n",
       "hide circle\r\n",
       "\r\n",
       "package \"AliasImport\" as E1  [[psysml:4c778e7a-b929-42de-9fbe-71ac5f912e3c ]]  {\r\n",
       "package \"Definitions\" as E2  [[psysml:5f40b44b-bd87-468f-b109-35ffc9f78ab6 ]]  {\r\n",
       "comp def \"Vehicle\" as E3  <<(T,blue) part def>> [[psysml:1b4a97b7-4457-459f-aed1-97b0f48f7241 ]] {\r\n",
       "}\r\n",
       "}\r\n",
       "package \"Usages\" as E4  [[psysml:ea2bdd2c-ef7f-4fe4-8ff5-76ffc4616c11 ]]  {\r\n",
       "comp usage \"vehicle: Vehicle\" as E5  <<(T,blue) part>> [[psysml:ea5f8fdf-b305-409f-85bc-0024bea5295e ]] {\r\n",
       "}\r\n",
       "}\r\n",
       "}\r\n",
       "E5 - -:|> E3 [[psysml:4cdeda76-c42f-43d9-9b0b-b21e3f7ae647 ]] \r\n",
       "@enduml\r\n",
       "\n",
       "PlantUML version 1.2020.13(Sat Jun 13 12:26:38 UTC 2020)\n",
       "(EPL source distribution)\n",
       "Java Runtime: OpenJDK Runtime Environment\n",
       "JVM: OpenJDK 64-Bit Server VM\n",
       "Default Encoding: UTF-8\n",
       "Language: en\n",
       "Country: null\n",
       "--></g></svg>"
      ]
     },
     "execution_count": 52,
     "metadata": {},
     "output_type": "execute_result"
    }
   ],
   "source": [
    "%viz --style=\"ORTHOLINE\" --view=\"Tree\" \"AliasImport\""
   ]
  },
  {
   "cell_type": "code",
   "execution_count": 53,
   "id": "3c3d2566",
   "metadata": {
    "execution": {
     "iopub.execute_input": "2021-09-27T07:19:57.178822Z",
     "iopub.status.busy": "2021-09-27T07:19:57.178384Z",
     "iopub.status.idle": "2021-09-27T07:19:57.183091Z",
     "shell.execute_reply": "2021-09-27T07:19:57.182739Z"
    }
   },
   "outputs": [
    {
     "data": {
      "image/svg+xml": [
       "<?xml version=\"1.0\" encoding=\"UTF-8\" standalone=\"no\"?><svg xmlns=\"http://www.w3.org/2000/svg\" xmlns:xlink=\"http://www.w3.org/1999/xlink\" contentScriptType=\"application/ecmascript\" contentStyleType=\"text/css\" height=\"12px\" preserveAspectRatio=\"none\" style=\"width:12px;height:12px;\" version=\"1.1\" viewBox=\"0 0 12 12\" width=\"12px\" zoomAndPan=\"magnify\"><defs/><g><!--MD5=[97d6f38768b311333d388e66b2b27985]\n",
       "@startuml\r\n",
       "skinparam linetype ortho\r\n",
       "skinparam monochrome true\r\n",
       "skinparam classbackgroundcolor white\r\n",
       "skinparam shadowing false\r\n",
       "skinparam wrapWidth 300\r\n",
       "hide circle\r\n",
       "\r\n",
       "@enduml\r\n",
       "\n",
       "PlantUML version 1.2020.13(Sat Jun 13 12:26:38 UTC 2020)\n",
       "(EPL source distribution)\n",
       "Java Runtime: OpenJDK Runtime Environment\n",
       "JVM: OpenJDK 64-Bit Server VM\n",
       "Default Encoding: UTF-8\n",
       "Language: en\n",
       "Country: null\n",
       "--></g></svg>"
      ]
     },
     "execution_count": 53,
     "metadata": {},
     "output_type": "execute_result"
    }
   ],
   "source": [
    "%viz --style=\"ORTHOLINE\" --view=\"State\" \"AliasImport\""
   ]
  },
  {
   "cell_type": "code",
   "execution_count": 54,
   "id": "3b586e7e",
   "metadata": {
    "execution": {
     "iopub.execute_input": "2021-09-27T07:19:57.233102Z",
     "iopub.status.busy": "2021-09-27T07:19:57.232675Z",
     "iopub.status.idle": "2021-09-27T07:19:57.262777Z",
     "shell.execute_reply": "2021-09-27T07:19:57.261516Z"
    }
   },
   "outputs": [
    {
     "data": {
      "image/svg+xml": [
       "<?xml version=\"1.0\" encoding=\"UTF-8\" standalone=\"no\"?><svg xmlns=\"http://www.w3.org/2000/svg\" xmlns:xlink=\"http://www.w3.org/1999/xlink\" contentScriptType=\"application/ecmascript\" contentStyleType=\"text/css\" height=\"179px\" preserveAspectRatio=\"none\" style=\"width:458px;height:179px;\" version=\"1.1\" viewBox=\"0 0 458 179\" width=\"458px\" zoomAndPan=\"magnify\"><defs/><g><!--MD5=[fbc87193dbaf4d95561dea2c320d4a47]\n",
       "cluster E1--><a href=\"psysml:4c778e7a-b929-42de-9fbe-71ac5f912e3c\" target=\"_top\" title=\"psysml:4c778e7a-b929-42de-9fbe-71ac5f912e3c\" xlink:actuate=\"onRequest\" xlink:href=\"psysml:4c778e7a-b929-42de-9fbe-71ac5f912e3c\" xlink:show=\"new\" xlink:title=\"psysml:4c778e7a-b929-42de-9fbe-71ac5f912e3c\" xlink:type=\"simple\"><polygon fill=\"#FFFFFF\" points=\"16,6,97,6,104,28.2969,436,28.2969,436,167,16,167,16,6\" style=\"stroke: #000000; stroke-width: 1.5;\"/><line style=\"stroke: #000000; stroke-width: 1.5;\" x1=\"16\" x2=\"104\" y1=\"28.2969\" y2=\"28.2969\"/><text fill=\"#000000\" font-family=\"sans-serif\" font-size=\"14\" font-weight=\"bold\" lengthAdjust=\"spacingAndGlyphs\" textLength=\"75\" x=\"20\" y=\"20.9951\">AliasImport</text></a><!--MD5=[e4f7fae6ed58524ba242bb0b0d3be6b7]\n",
       "cluster E2--><a href=\"psysml:5f40b44b-bd87-468f-b109-35ffc9f78ab6\" target=\"_top\" title=\"psysml:5f40b44b-bd87-468f-b109-35ffc9f78ab6\" xlink:actuate=\"onRequest\" xlink:href=\"psysml:5f40b44b-bd87-468f-b109-35ffc9f78ab6\" xlink:show=\"new\" xlink:title=\"psysml:5f40b44b-bd87-468f-b109-35ffc9f78ab6\" xlink:type=\"simple\"><polygon fill=\"#FFFFFF\" points=\"202,49,281,49,288,71.2969,412,71.2969,412,143,202,143,202,49\" style=\"stroke: #000000; stroke-width: 1.5;\"/><line style=\"stroke: #000000; stroke-width: 1.5;\" x1=\"202\" x2=\"288\" y1=\"71.2969\" y2=\"71.2969\"/><text fill=\"#000000\" font-family=\"sans-serif\" font-size=\"14\" font-weight=\"bold\" lengthAdjust=\"spacingAndGlyphs\" textLength=\"73\" x=\"206\" y=\"63.9951\">Definitions</text></a><!--MD5=[de5ec2e2e8f62f467e546659f5068c88]\n",
       "cluster E5--><a href=\"psysml:ea2bdd2c-ef7f-4fe4-8ff5-76ffc4616c11\" target=\"_top\" title=\"psysml:ea2bdd2c-ef7f-4fe4-8ff5-76ffc4616c11\" xlink:actuate=\"onRequest\" xlink:href=\"psysml:ea2bdd2c-ef7f-4fe4-8ff5-76ffc4616c11\" xlink:show=\"new\" xlink:title=\"psysml:ea2bdd2c-ef7f-4fe4-8ff5-76ffc4616c11\" xlink:type=\"simple\"><polygon fill=\"#FFFFFF\" points=\"40,50.5,98,50.5,105,72.7969,178,72.7969,178,141.5,40,141.5,40,50.5\" style=\"stroke: #000000; stroke-width: 1.5;\"/><line style=\"stroke: #000000; stroke-width: 1.5;\" x1=\"40\" x2=\"105\" y1=\"72.7969\" y2=\"72.7969\"/><text fill=\"#000000\" font-family=\"sans-serif\" font-size=\"14\" font-weight=\"bold\" lengthAdjust=\"spacingAndGlyphs\" textLength=\"52\" x=\"44\" y=\"65.4951\">Usages</text></a><g id=\"E1.E2.E3\"><a href=\"psysml:1b4a97b7-4457-459f-aed1-97b0f48f7241\" target=\"_top\" title=\"psysml:1b4a97b7-4457-459f-aed1-97b0f48f7241\" xlink:actuate=\"onRequest\" xlink:href=\"psysml:1b4a97b7-4457-459f-aed1-97b0f48f7241\" xlink:show=\"new\" xlink:title=\"psysml:1b4a97b7-4457-459f-aed1-97b0f48f7241\" xlink:type=\"simple\"><rect fill=\"#FFFFFF\" height=\"42.9375\" id=\"E3\" style=\"stroke: #383838; stroke-width: 1.5;\" width=\"71\" x=\"324.5\" y=\"84\"/><rect fill=\"#F8F8F8\" height=\"37.9375\" style=\"stroke: #383838; stroke-width: 1.5;\" width=\"71\" x=\"324.5\" y=\"84\"/><text fill=\"#000000\" font-family=\"sans-serif\" font-size=\"12\" font-style=\"italic\" lengthAdjust=\"spacingAndGlyphs\" textLength=\"64\" x=\"328\" y=\"100.1387\">«part def»</text><text fill=\"#000000\" font-family=\"sans-serif\" font-size=\"12\" lengthAdjust=\"spacingAndGlyphs\" textLength=\"45\" x=\"337.5\" y=\"114.1074\">Vehicle</text></a></g><g id=\"E1.E2.E4\"><a href=\"psysml:1b4a97b7-4457-459f-aed1-97b0f48f7241\" target=\"_top\" title=\"psysml:1b4a97b7-4457-459f-aed1-97b0f48f7241\" xlink:actuate=\"onRequest\" xlink:href=\"psysml:1b4a97b7-4457-459f-aed1-97b0f48f7241\" xlink:show=\"new\" xlink:title=\"psysml:1b4a97b7-4457-459f-aed1-97b0f48f7241\" xlink:type=\"simple\"><rect fill=\"#FFFFFF\" height=\"42.9375\" id=\"E4\" style=\"stroke: #383838; stroke-width: 1.5;\" width=\"71\" x=\"218.5\" y=\"84\"/><rect fill=\"#F8F8F8\" height=\"37.9375\" style=\"stroke: #383838; stroke-width: 1.5;\" width=\"71\" x=\"218.5\" y=\"84\"/><text fill=\"#000000\" font-family=\"sans-serif\" font-size=\"12\" font-style=\"italic\" lengthAdjust=\"spacingAndGlyphs\" textLength=\"64\" x=\"222\" y=\"100.1387\">«part def»</text><text fill=\"#000000\" font-family=\"sans-serif\" font-size=\"12\" lengthAdjust=\"spacingAndGlyphs\" textLength=\"45\" x=\"231.5\" y=\"114.1074\">Vehicle</text></a></g><g id=\"E1.E5.E6\"><a href=\"psysml:ea5f8fdf-b305-409f-85bc-0024bea5295e\" target=\"_top\" title=\"psysml:ea5f8fdf-b305-409f-85bc-0024bea5295e\" xlink:actuate=\"onRequest\" xlink:href=\"psysml:ea5f8fdf-b305-409f-85bc-0024bea5295e\" xlink:show=\"new\" xlink:title=\"psysml:ea5f8fdf-b305-409f-85bc-0024bea5295e\" xlink:type=\"simple\"><rect fill=\"#FFFFFF\" height=\"40\" id=\"E6\" rx=\"10\" ry=\"10\" style=\"stroke: #383838; stroke-width: 1.5;\" width=\"107\" x=\"55.5\" y=\"85.5\"/><rect fill=\"#F8F8F8\" height=\"23.9688\" rx=\"10\" ry=\"10\" style=\"stroke: #F8F8F8; stroke-width: 1.5;\" width=\"107\" x=\"55.5\" y=\"85.5\"/><rect fill=\"#F8F8F8\" height=\"10\" style=\"stroke: #F8F8F8; stroke-width: 1.5;\" width=\"107\" x=\"55.5\" y=\"99.4688\"/><rect fill=\"none\" height=\"40\" id=\"E6\" rx=\"10\" ry=\"10\" style=\"stroke: #383838; stroke-width: 1.5;\" width=\"107\" x=\"55.5\" y=\"85.5\"/><text fill=\"#000000\" font-family=\"sans-serif\" font-size=\"12\" lengthAdjust=\"spacingAndGlyphs\" textLength=\"96\" x=\"61\" y=\"101.6387\">vehicle: Vehicle</text></a></g><!--MD5=[df989b310bdf8220e6453b9b149fc272]\n",
       "@startuml\r\n",
       "skinparam ranksep 10\r\n",
       "skinparam rectangle {\r\n",
       " backgroundColor<<block>> LightGreen\r\n",
       "}\r\n",
       "skinparam linetype ortho\r\n",
       "skinparam monochrome true\r\n",
       "skinparam classbackgroundcolor white\r\n",
       "skinparam shadowing false\r\n",
       "skinparam wrapWidth 300\r\n",
       "hide circle\r\n",
       "\r\n",
       "package \"AliasImport\" as E1  [[psysml:4c778e7a-b929-42de-9fbe-71ac5f912e3c ]]  {\r\n",
       "package \"Definitions\" as E2  [[psysml:5f40b44b-bd87-468f-b109-35ffc9f78ab6 ]]  {\r\n",
       "rec def \"Vehicle\" as E3  <<(T,blue) part def>> [[psysml:1b4a97b7-4457-459f-aed1-97b0f48f7241 ]] {\r\n",
       "}\r\n",
       "rec def \"Vehicle\" as E4  <<(T,blue) part def>> [[psysml:1b4a97b7-4457-459f-aed1-97b0f48f7241 ]] {\r\n",
       "}\r\n",
       "}\r\n",
       "package \"Usages\" as E5  [[psysml:ea2bdd2c-ef7f-4fe4-8ff5-76ffc4616c11 ]]  {\r\n",
       "rec usage \"vehicle: Vehicle\" as E6  [[psysml:ea5f8fdf-b305-409f-85bc-0024bea5295e ]] {\r\n",
       "}\r\n",
       "}\r\n",
       "}\r\n",
       "@enduml\r\n",
       "\n",
       "PlantUML version 1.2020.13(Sat Jun 13 12:26:38 UTC 2020)\n",
       "(EPL source distribution)\n",
       "Java Runtime: OpenJDK Runtime Environment\n",
       "JVM: OpenJDK 64-Bit Server VM\n",
       "Default Encoding: UTF-8\n",
       "Language: en\n",
       "Country: null\n",
       "--></g></svg>"
      ]
     },
     "execution_count": 54,
     "metadata": {},
     "output_type": "execute_result"
    }
   ],
   "source": [
    "%viz --style=\"ORTHOLINE\" --view=\"Interconnection\" \"AliasImport\""
   ]
  },
  {
   "cell_type": "code",
   "execution_count": 55,
   "id": "e6634686",
   "metadata": {
    "execution": {
     "iopub.execute_input": "2021-09-27T07:19:57.312242Z",
     "iopub.status.busy": "2021-09-27T07:19:57.311822Z",
     "iopub.status.idle": "2021-09-27T07:19:57.315523Z",
     "shell.execute_reply": "2021-09-27T07:19:57.315160Z"
    }
   },
   "outputs": [
    {
     "data": {
      "image/svg+xml": [
       "<?xml version=\"1.0\" encoding=\"UTF-8\" standalone=\"no\"?><svg xmlns=\"http://www.w3.org/2000/svg\" xmlns:xlink=\"http://www.w3.org/1999/xlink\" contentScriptType=\"application/ecmascript\" contentStyleType=\"text/css\" height=\"12px\" preserveAspectRatio=\"none\" style=\"width:12px;height:12px;\" version=\"1.1\" viewBox=\"0 0 12 12\" width=\"12px\" zoomAndPan=\"magnify\"><defs/><g><!--MD5=[72934c63077099a26744516a776b4749]\n",
       "@startuml\r\n",
       "skinparam ranksep 8\r\n",
       "skinparam linetype ortho\r\n",
       "skinparam monochrome true\r\n",
       "skinparam classbackgroundcolor white\r\n",
       "skinparam shadowing false\r\n",
       "skinparam wrapWidth 300\r\n",
       "hide circle\r\n",
       "\r\n",
       "@enduml\r\n",
       "\n",
       "PlantUML version 1.2020.13(Sat Jun 13 12:26:38 UTC 2020)\n",
       "(EPL source distribution)\n",
       "Java Runtime: OpenJDK Runtime Environment\n",
       "JVM: OpenJDK 64-Bit Server VM\n",
       "Default Encoding: UTF-8\n",
       "Language: en\n",
       "Country: null\n",
       "--></g></svg>"
      ]
     },
     "execution_count": 55,
     "metadata": {},
     "output_type": "execute_result"
    }
   ],
   "source": [
    "%viz --style=\"ORTHOLINE\" --view=\"Action\" \"AliasImport\""
   ]
  },
  {
   "cell_type": "code",
   "execution_count": 56,
   "id": "7574503a",
   "metadata": {
    "execution": {
     "iopub.execute_input": "2021-09-27T07:19:57.365076Z",
     "iopub.status.busy": "2021-09-27T07:19:57.364655Z",
     "iopub.status.idle": "2021-09-27T07:19:57.369432Z",
     "shell.execute_reply": "2021-09-27T07:19:57.369069Z"
    }
   },
   "outputs": [
    {
     "data": {
      "image/svg+xml": [
       "<?xml version=\"1.0\" encoding=\"UTF-8\" standalone=\"no\"?><svg xmlns=\"http://www.w3.org/2000/svg\" xmlns:xlink=\"http://www.w3.org/1999/xlink\" contentScriptType=\"application/ecmascript\" contentStyleType=\"text/css\" height=\"12px\" preserveAspectRatio=\"none\" style=\"width:12px;height:12px;\" version=\"1.1\" viewBox=\"0 0 12 12\" width=\"12px\" zoomAndPan=\"magnify\"><defs/><g><!--MD5=[30fc1de5121c5abddedd55b44417fde8]\n",
       "@startuml\r\n",
       "skinparam roundcorner 20\r\n",
       "skinparam BoxPadding 20\r\n",
       "skinparam SequenceBoxBackgroundColor #white\r\n",
       "skinparam style strictuml\r\n",
       "skinparam maxMessageSize 100\r\n",
       "skinparam linetype ortho\r\n",
       "skinparam monochrome true\r\n",
       "skinparam classbackgroundcolor white\r\n",
       "skinparam shadowing false\r\n",
       "skinparam wrapWidth 300\r\n",
       "hide circle\r\n",
       "\r\n",
       "@enduml\r\n",
       "\n",
       "PlantUML version 1.2020.13(Sat Jun 13 12:26:38 UTC 2020)\n",
       "(EPL source distribution)\n",
       "Java Runtime: OpenJDK Runtime Environment\n",
       "JVM: OpenJDK 64-Bit Server VM\n",
       "Default Encoding: UTF-8\n",
       "Language: en\n",
       "Country: null\n",
       "--></g></svg>"
      ]
     },
     "execution_count": 56,
     "metadata": {},
     "output_type": "execute_result"
    }
   ],
   "source": [
    "%viz --style=\"ORTHOLINE\" --view=\"Sequence\" \"AliasImport\""
   ]
  },
  {
   "cell_type": "code",
   "execution_count": 57,
   "id": "513e4db0",
   "metadata": {
    "execution": {
     "iopub.execute_input": "2021-09-27T07:19:57.419442Z",
     "iopub.status.busy": "2021-09-27T07:19:57.419019Z",
     "iopub.status.idle": "2021-09-27T07:19:57.445589Z",
     "shell.execute_reply": "2021-09-27T07:19:57.444290Z"
    }
   },
   "outputs": [
    {
     "data": {
      "image/svg+xml": [
       "<?xml version=\"1.0\" encoding=\"UTF-8\" standalone=\"no\"?><svg xmlns=\"http://www.w3.org/2000/svg\" xmlns:xlink=\"http://www.w3.org/1999/xlink\" contentScriptType=\"application/ecmascript\" contentStyleType=\"text/css\" height=\"303px\" preserveAspectRatio=\"none\" style=\"width:220px;height:303px;\" version=\"1.1\" viewBox=\"0 0 220 303\" width=\"220px\" zoomAndPan=\"magnify\"><defs/><g><!--MD5=[fbc87193dbaf4d95561dea2c320d4a47]\n",
       "cluster E1--><a href=\"psysml:4c778e7a-b929-42de-9fbe-71ac5f912e3c\" target=\"_top\" title=\"psysml:4c778e7a-b929-42de-9fbe-71ac5f912e3c\" xlink:actuate=\"onRequest\" xlink:href=\"psysml:4c778e7a-b929-42de-9fbe-71ac5f912e3c\" xlink:show=\"new\" xlink:title=\"psysml:4c778e7a-b929-42de-9fbe-71ac5f912e3c\" xlink:type=\"simple\"><polygon fill=\"#FFFFFF\" points=\"16,6,97,6,104,28.2969,198,28.2969,198,291,16,291,16,6\" style=\"stroke: #000000; stroke-width: 1.5;\"/><line style=\"stroke: #000000; stroke-width: 1.5;\" x1=\"16\" x2=\"104\" y1=\"28.2969\" y2=\"28.2969\"/><text fill=\"#000000\" font-family=\"sans-serif\" font-size=\"14\" font-weight=\"bold\" lengthAdjust=\"spacingAndGlyphs\" textLength=\"75\" x=\"20\" y=\"20.9951\">AliasImport</text></a><!--MD5=[e4f7fae6ed58524ba242bb0b0d3be6b7]\n",
       "cluster E2--><a href=\"psysml:5f40b44b-bd87-468f-b109-35ffc9f78ab6\" target=\"_top\" title=\"psysml:5f40b44b-bd87-468f-b109-35ffc9f78ab6\" xlink:actuate=\"onRequest\" xlink:href=\"psysml:5f40b44b-bd87-468f-b109-35ffc9f78ab6\" xlink:show=\"new\" xlink:title=\"psysml:5f40b44b-bd87-468f-b109-35ffc9f78ab6\" xlink:type=\"simple\"><polygon fill=\"#FFFFFF\" points=\"58,170,137,170,144,192.2969,156,192.2969,156,267,58,267,58,170\" style=\"stroke: #000000; stroke-width: 1.5;\"/><line style=\"stroke: #000000; stroke-width: 1.5;\" x1=\"58\" x2=\"144\" y1=\"192.2969\" y2=\"192.2969\"/><text fill=\"#000000\" font-family=\"sans-serif\" font-size=\"14\" font-weight=\"bold\" lengthAdjust=\"spacingAndGlyphs\" textLength=\"73\" x=\"62\" y=\"184.9951\">Definitions</text></a><!--MD5=[f6df4d0ebaf0b5dfb2ced0ae5af7c670]\n",
       "cluster E4--><a href=\"psysml:ea2bdd2c-ef7f-4fe4-8ff5-76ffc4616c11\" target=\"_top\" title=\"psysml:ea2bdd2c-ef7f-4fe4-8ff5-76ffc4616c11\" xlink:actuate=\"onRequest\" xlink:href=\"psysml:ea2bdd2c-ef7f-4fe4-8ff5-76ffc4616c11\" xlink:show=\"new\" xlink:title=\"psysml:ea2bdd2c-ef7f-4fe4-8ff5-76ffc4616c11\" xlink:type=\"simple\"><polygon fill=\"#FFFFFF\" points=\"40,49,98,49,105,71.2969,174,71.2969,174,146,40,146,40,49\" style=\"stroke: #000000; stroke-width: 1.5;\"/><line style=\"stroke: #000000; stroke-width: 1.5;\" x1=\"40\" x2=\"105\" y1=\"71.2969\" y2=\"71.2969\"/><text fill=\"#000000\" font-family=\"sans-serif\" font-size=\"14\" font-weight=\"bold\" lengthAdjust=\"spacingAndGlyphs\" textLength=\"52\" x=\"44\" y=\"63.9951\">Usages</text></a><!--MD5=[09b614a08d8cba4a07c9adeb5e0fee81]\n",
       "class E3--><a href=\"psysml:1b4a97b7-4457-459f-aed1-97b0f48f7241\" target=\"_top\" title=\"psysml:1b4a97b7-4457-459f-aed1-97b0f48f7241\" xlink:actuate=\"onRequest\" xlink:href=\"psysml:1b4a97b7-4457-459f-aed1-97b0f48f7241\" xlink:show=\"new\" xlink:title=\"psysml:1b4a97b7-4457-459f-aed1-97b0f48f7241\" xlink:type=\"simple\"><rect fill=\"#FFFFFF\" height=\"45.9375\" id=\"E3\" style=\"stroke: #383838; stroke-width: 1.5;\" width=\"66\" x=\"74\" y=\"205\"/><text fill=\"#000000\" font-family=\"sans-serif\" font-size=\"12\" font-style=\"italic\" lengthAdjust=\"spacingAndGlyphs\" textLength=\"64\" x=\"75\" y=\"221.1387\">«part def»</text><text fill=\"#000000\" font-family=\"sans-serif\" font-size=\"12\" lengthAdjust=\"spacingAndGlyphs\" textLength=\"45\" x=\"84.5\" y=\"235.1074\">Vehicle</text><line style=\"stroke: #383838; stroke-width: 1.5;\" x1=\"75\" x2=\"139\" y1=\"242.9375\" y2=\"242.9375\"/></a><!--MD5=[270fce915f116d4de14055a7c1d9a0f3]\n",
       "class E5--><a href=\"psysml:ea5f8fdf-b305-409f-85bc-0024bea5295e\" target=\"_top\" title=\"psysml:ea5f8fdf-b305-409f-85bc-0024bea5295e\" xlink:actuate=\"onRequest\" xlink:href=\"psysml:ea5f8fdf-b305-409f-85bc-0024bea5295e\" xlink:show=\"new\" xlink:title=\"psysml:ea5f8fdf-b305-409f-85bc-0024bea5295e\" xlink:type=\"simple\"><rect fill=\"#FFFFFF\" height=\"45.9375\" id=\"E5\" rx=\"10\" ry=\"10\" style=\"stroke: #383838; stroke-width: 1.5;\" width=\"102\" x=\"56\" y=\"84\"/><text fill=\"#000000\" font-family=\"sans-serif\" font-size=\"12\" font-style=\"italic\" lengthAdjust=\"spacingAndGlyphs\" textLength=\"40\" x=\"87\" y=\"100.1387\">«part»</text><text fill=\"#000000\" font-family=\"sans-serif\" font-size=\"12\" lengthAdjust=\"spacingAndGlyphs\" textLength=\"96\" x=\"59\" y=\"114.1074\">vehicle: Vehicle</text><line style=\"stroke: #383838; stroke-width: 1.5;\" x1=\"57\" x2=\"157\" y1=\"121.9375\" y2=\"121.9375\"/></a><!--MD5=[e9be52314489bd878ff4c7144b63c9e1]\n",
       "link E5 to E3--><a href=\"psysml:4cdeda76-c42f-43d9-9b0b-b21e3f7ae647\" target=\"_top\" title=\"psysml:4cdeda76-c42f-43d9-9b0b-b21e3f7ae647\" xlink:actuate=\"onRequest\" xlink:href=\"psysml:4cdeda76-c42f-43d9-9b0b-b21e3f7ae647\" xlink:show=\"new\" xlink:title=\"psysml:4cdeda76-c42f-43d9-9b0b-b21e3f7ae647\" xlink:type=\"simple\"><path d=\"M107,130.04 C107,130.04 107,184.63 107,184.63 \" fill=\"none\" id=\"E5-&gt;E3\" style=\"stroke: #383838; stroke-width: 1.0;\"/><polygon fill=\"#FFFFFF\" points=\"107,204.63,100,185.63,114,185.63,107,204.63\" style=\"stroke: #383838; stroke-width: 1.0;\"/><ellipse cx=\"102\" cy=\"179.93\" fill=\"#383838\" rx=\"2\" ry=\"2\" style=\"stroke: #383838; stroke-width: 1.0;\"/><ellipse cx=\"112\" cy=\"179.93\" fill=\"#383838\" rx=\"2\" ry=\"2\" style=\"stroke: #383838; stroke-width: 1.0;\"/></a><!--MD5=[bf2b8be2aaa81c671fffd04353a7f3aa]\n",
       "@startuml\r\n",
       "skinparam linetype ortho\r\n",
       "skinparam monochrome true\r\n",
       "skinparam classbackgroundcolor white\r\n",
       "skinparam shadowing false\r\n",
       "skinparam wrapWidth 300\r\n",
       "hide circle\r\n",
       "\r\n",
       "package \"AliasImport\" as E1  [[psysml:4c778e7a-b929-42de-9fbe-71ac5f912e3c ]]  {\r\n",
       "package \"Definitions\" as E2  [[psysml:5f40b44b-bd87-468f-b109-35ffc9f78ab6 ]]  {\r\n",
       "comp def \"Vehicle\" as E3  <<(T,blue) part def>> [[psysml:1b4a97b7-4457-459f-aed1-97b0f48f7241 ]] {\r\n",
       "}\r\n",
       "}\r\n",
       "package \"Usages\" as E4  [[psysml:ea2bdd2c-ef7f-4fe4-8ff5-76ffc4616c11 ]]  {\r\n",
       "comp usage \"vehicle: Vehicle\" as E5  <<(T,blue) part>> [[psysml:ea5f8fdf-b305-409f-85bc-0024bea5295e ]] {\r\n",
       "}\r\n",
       "}\r\n",
       "}\r\n",
       "E5 - -:|> E3 [[psysml:4cdeda76-c42f-43d9-9b0b-b21e3f7ae647 ]] \r\n",
       "@enduml\r\n",
       "\n",
       "PlantUML version 1.2020.13(Sat Jun 13 12:26:38 UTC 2020)\n",
       "(EPL source distribution)\n",
       "Java Runtime: OpenJDK Runtime Environment\n",
       "JVM: OpenJDK 64-Bit Server VM\n",
       "Default Encoding: UTF-8\n",
       "Language: en\n",
       "Country: null\n",
       "--></g></svg>"
      ]
     },
     "execution_count": 57,
     "metadata": {},
     "output_type": "execute_result"
    }
   ],
   "source": [
    "%viz --style=\"ORTHOLINE\" --view=\"MIXED\" \"AliasImport\""
   ]
  }
 ],
 "metadata": {
  "kernelspec": {
   "display_name": "SysML",
   "language": "sysml",
   "name": "sysml"
  },
  "language_info": {
   "codemirror_mode": "sysml",
   "file_extension": ".sysml",
   "mimetype": "text/x-sysml",
   "name": "SysML",
   "pygments_lexer": "java",
   "version": "1.0.0"
  }
 },
 "nbformat": 4,
 "nbformat_minor": 5
}
