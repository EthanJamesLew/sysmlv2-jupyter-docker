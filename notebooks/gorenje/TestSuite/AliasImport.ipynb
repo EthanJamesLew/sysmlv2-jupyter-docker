{
 "cells": [
  {
   "cell_type": "markdown",
   "id": "30f2474b",
   "metadata": {},
   "source": [
    "# SysML v2 Test Suite\n",
    "\n",
    "This can notebook can be cleared using menu `Edit --> Clear All Outputs` and then all cells can be\n",
    "run using menu `Run --> Run All Cells`.\n",
    "\n",
    "**WARNING**: This file is generated, all modifications here will be ignored.\n"
   ]
  },
  {
   "cell_type": "markdown",
   "id": "a468acad",
   "metadata": {},
   "source": [
    "## File: ../../sysml/src/examples/Import Tests/AliasImport.sysml"
   ]
  },
  {
   "cell_type": "code",
   "execution_count": 1,
   "id": "a407ccd1",
   "metadata": {
    "execution": {
     "iopub.execute_input": "2022-06-20T11:14:57.830252Z",
     "iopub.status.busy": "2022-06-20T11:14:57.829719Z",
     "iopub.status.idle": "2022-06-20T11:14:57.947548Z",
     "shell.execute_reply": "2022-06-20T11:14:57.947904Z"
    }
   },
   "outputs": [
    {
     "data": {
      "text/plain": [
       "Package AliasImport (abc348a5-e8b0-46f2-97be-35eb1a9e9199)\n"
      ]
     },
     "execution_count": 1,
     "metadata": {},
     "output_type": "execute_result"
    }
   ],
   "source": [
    "package AliasImport {\n",
    "\tpackage Definitions {\n",
    "\t    part def Vehicle;\n",
    "\t    \n",
    "\t    alias Car for Vehicle;\n",
    "\t}\n",
    "\t\n",
    "\tpackage Usages {\n",
    "\t    import Definitions::Car;\n",
    "\t\n",
    "\t    part vehicle : Car;\n",
    "\t}\n",
    "}"
   ]
  },
  {
   "cell_type": "code",
   "execution_count": 2,
   "id": "a4703e5c",
   "metadata": {
    "execution": {
     "iopub.execute_input": "2022-06-20T11:14:57.998447Z",
     "iopub.status.busy": "2022-06-20T11:14:57.998189Z",
     "iopub.status.idle": "2022-06-20T11:14:58.435954Z",
     "shell.execute_reply": "2022-06-20T11:14:58.435503Z"
    }
   },
   "outputs": [
    {
     "data": {
      "image/svg+xml": [
       "<?xml version=\"1.0\" encoding=\"UTF-8\" standalone=\"no\"?><svg xmlns=\"http://www.w3.org/2000/svg\" xmlns:xlink=\"http://www.w3.org/1999/xlink\" contentScriptType=\"application/ecmascript\" contentStyleType=\"text/css\" height=\"360px\" preserveAspectRatio=\"none\" style=\"width:293px;height:360px;\" version=\"1.1\" viewBox=\"0 0 293 360\" width=\"293px\" zoomAndPan=\"magnify\"><defs/><g><!--MD5=[fbc87193dbaf4d95561dea2c320d4a47]\n",
       "cluster E1--><a href=\"psysml:abc348a5-e8b0-46f2-97be-35eb1a9e9199\" target=\"_top\" title=\"psysml:abc348a5-e8b0-46f2-97be-35eb1a9e9199\" xlink:actuate=\"onRequest\" xlink:href=\"psysml:abc348a5-e8b0-46f2-97be-35eb1a9e9199\" xlink:show=\"new\" xlink:title=\"psysml:abc348a5-e8b0-46f2-97be-35eb1a9e9199\" xlink:type=\"simple\"><polygon fill=\"#FFFFFF\" points=\"16,6,97,6,104,28.2969,271,28.2969,271,348,16,348,16,6\" style=\"stroke: #000000; stroke-width: 1.5;\"/><line style=\"stroke: #000000; stroke-width: 1.5;\" x1=\"16\" x2=\"104\" y1=\"28.2969\" y2=\"28.2969\"/><text fill=\"#000000\" font-family=\"sans-serif\" font-size=\"14\" font-weight=\"bold\" lengthAdjust=\"spacingAndGlyphs\" textLength=\"75\" x=\"20\" y=\"20.9951\">AliasImport</text></a><!--MD5=[e4f7fae6ed58524ba242bb0b0d3be6b7]\n",
       "cluster E2--><a href=\"psysml:c5390b7c-a915-4e3b-b35e-1c2257f021d2\" target=\"_top\" title=\"psysml:c5390b7c-a915-4e3b-b35e-1c2257f021d2\" xlink:actuate=\"onRequest\" xlink:href=\"psysml:c5390b7c-a915-4e3b-b35e-1c2257f021d2\" xlink:show=\"new\" xlink:title=\"psysml:c5390b7c-a915-4e3b-b35e-1c2257f021d2\" xlink:type=\"simple\"><polygon fill=\"#FFFFFF\" points=\"40,227,119,227,126,249.2969,247,249.2969,247,324,40,324,40,227\" style=\"stroke: #000000; stroke-width: 1.5;\"/><line style=\"stroke: #000000; stroke-width: 1.5;\" x1=\"40\" x2=\"126\" y1=\"249.2969\" y2=\"249.2969\"/><text fill=\"#000000\" font-family=\"sans-serif\" font-size=\"14\" font-weight=\"bold\" lengthAdjust=\"spacingAndGlyphs\" textLength=\"73\" x=\"44\" y=\"241.9951\">Definitions</text></a><!--MD5=[de5ec2e2e8f62f467e546659f5068c88]\n",
       "cluster E5--><a href=\"psysml:ccb2f7ee-bd35-4426-a662-4cf2ccb8ae79\" target=\"_top\" title=\"psysml:ccb2f7ee-bd35-4426-a662-4cf2ccb8ae79\" xlink:actuate=\"onRequest\" xlink:href=\"psysml:ccb2f7ee-bd35-4426-a662-4cf2ccb8ae79\" xlink:show=\"new\" xlink:title=\"psysml:ccb2f7ee-bd35-4426-a662-4cf2ccb8ae79\" xlink:type=\"simple\"><polygon fill=\"#FFFFFF\" points=\"56,57,114,57,121,79.2969,229,79.2969,229,170,56,170,56,57\" style=\"stroke: #000000; stroke-width: 1.5;\"/><line style=\"stroke: #000000; stroke-width: 1.5;\" x1=\"56\" x2=\"121\" y1=\"79.2969\" y2=\"79.2969\"/><text fill=\"#000000\" font-family=\"sans-serif\" font-size=\"14\" font-weight=\"bold\" lengthAdjust=\"spacingAndGlyphs\" textLength=\"52\" x=\"60\" y=\"71.9951\">Usages</text></a><!--MD5=[09b614a08d8cba4a07c9adeb5e0fee81]\n",
       "class E3--><a href=\"psysml:659a1dfe-6b8d-4702-b827-b31a03710007\" target=\"_top\" title=\"psysml:659a1dfe-6b8d-4702-b827-b31a03710007\" xlink:actuate=\"onRequest\" xlink:href=\"psysml:659a1dfe-6b8d-4702-b827-b31a03710007\" xlink:show=\"new\" xlink:title=\"psysml:659a1dfe-6b8d-4702-b827-b31a03710007\" xlink:type=\"simple\"><rect fill=\"#FFFFFF\" height=\"45.9375\" id=\"E3\" style=\"stroke: #383838; stroke-width: 1.5;\" width=\"70\" x=\"161\" y=\"262\"/><text fill=\"#000000\" font-family=\"sans-serif\" font-size=\"12\" font-style=\"italic\" lengthAdjust=\"spacingAndGlyphs\" textLength=\"68\" x=\"162\" y=\"278.1387\">«part  def»</text><text fill=\"#000000\" font-family=\"sans-serif\" font-size=\"12\" lengthAdjust=\"spacingAndGlyphs\" textLength=\"45\" x=\"173.5\" y=\"292.1074\">Vehicle</text><line style=\"stroke: #383838; stroke-width: 1.5;\" x1=\"162\" x2=\"230\" y1=\"299.9375\" y2=\"299.9375\"/></a><!--MD5=[ebbe1d658d1005bcc118a6aa81145e00]\n",
       "class E4--><a href=\"psysml:659a1dfe-6b8d-4702-b827-b31a03710007\" target=\"_top\" title=\"psysml:659a1dfe-6b8d-4702-b827-b31a03710007\" xlink:actuate=\"onRequest\" xlink:href=\"psysml:659a1dfe-6b8d-4702-b827-b31a03710007\" xlink:show=\"new\" xlink:title=\"psysml:659a1dfe-6b8d-4702-b827-b31a03710007\" xlink:type=\"simple\"><rect fill=\"#FFFFFF\" height=\"45.9375\" id=\"E4\" style=\"stroke: #383838; stroke-width: 1.5;\" width=\"70\" x=\"56\" y=\"262\"/><text fill=\"#000000\" font-family=\"sans-serif\" font-size=\"12\" font-style=\"italic\" lengthAdjust=\"spacingAndGlyphs\" textLength=\"68\" x=\"57\" y=\"278.1387\">«part  def»</text><text fill=\"#000000\" font-family=\"sans-serif\" font-size=\"12\" lengthAdjust=\"spacingAndGlyphs\" textLength=\"45\" x=\"68.5\" y=\"292.1074\">Vehicle</text><line style=\"stroke: #383838; stroke-width: 1.5;\" x1=\"57\" x2=\"125\" y1=\"299.9375\" y2=\"299.9375\"/></a><!--MD5=[60a26617385b1d2d0262a64233df1f8d]\n",
       "class E6--><a href=\"psysml:783d7c15-c905-4c38-b30b-d01c61187577\" target=\"_top\" title=\"psysml:783d7c15-c905-4c38-b30b-d01c61187577\" xlink:actuate=\"onRequest\" xlink:href=\"psysml:783d7c15-c905-4c38-b30b-d01c61187577\" xlink:show=\"new\" xlink:title=\"psysml:783d7c15-c905-4c38-b30b-d01c61187577\" xlink:type=\"simple\"><rect fill=\"#FFFFFF\" height=\"45.9375\" id=\"E6\" rx=\"10\" ry=\"10\" style=\"stroke: #383838; stroke-width: 1.5;\" width=\"106\" x=\"99\" y=\"100\"/><text fill=\"#000000\" font-family=\"sans-serif\" font-size=\"12\" font-style=\"italic\" lengthAdjust=\"spacingAndGlyphs\" textLength=\"40\" x=\"132\" y=\"116.1387\">«part»</text><text fill=\"#000000\" font-family=\"sans-serif\" font-size=\"12\" lengthAdjust=\"spacingAndGlyphs\" textLength=\"96\" x=\"102\" y=\"130.1074\">vehicle: Vehicle</text><line style=\"stroke: #383838; stroke-width: 1.5;\" x1=\"100\" x2=\"204\" y1=\"137.9375\" y2=\"137.9375\"/></a><!--MD5=[1c62de2aa5b76f0fb657ff8443a1a700]\n",
       "link E5 to E4--><a href=\"psysml:8882fd51-4fce-4e08-923b-d836bd7610d5\" target=\"_top\" title=\"psysml:8882fd51-4fce-4e08-923b-d836bd7610d5\" xlink:actuate=\"onRequest\" xlink:href=\"psysml:8882fd51-4fce-4e08-923b-d836bd7610d5\" xlink:show=\"new\" xlink:title=\"psysml:8882fd51-4fce-4e08-923b-d836bd7610d5\" xlink:type=\"simple\"><path d=\"M66.8374,170.1716 C66.8505,170.3171 66.8637,170.4628 66.8769,170.6086 C66.9034,170.9002 66.9301,171.1924 66.957,171.485 C67.0647,172.6558 67.1761,173.8349 67.2913,175.0209 C67.5217,177.3929 67.7672,179.7921 68.0289,182.2055 C69.0756,191.8588 70.38,201.7375 72,211 C74.69,226.4 79,243.3 82.84,256.96 \" fill=\"none\" id=\"E5-&gt;E4\" style=\"stroke: #383838; stroke-width: 1.0; stroke-dasharray: 7.0,7.0;\"/><polygon fill=\"#383838\" points=\"84.23,261.84,85.6036,252.0874,82.8564,257.0324,77.9114,254.2852,84.23,261.84\" style=\"stroke: #383838; stroke-width: 1.0;\"/><text fill=\"#000000\" font-family=\"sans-serif\" font-size=\"13\" lengthAdjust=\"spacingAndGlyphs\" textLength=\"58\" x=\"73\" y=\"207.0669\">«import»</text></a><!--MD5=[f667431f98296947986a1a7595a31603]\n",
       "link E6 to E4--><a href=\"psysml:db353f76-c455-46cb-b105-6bd8058807fe\" target=\"_top\" title=\"psysml:db353f76-c455-46cb-b105-6bd8058807fe\" xlink:actuate=\"onRequest\" xlink:href=\"psysml:db353f76-c455-46cb-b105-6bd8058807fe\" xlink:show=\"new\" xlink:title=\"psysml:db353f76-c455-46cb-b105-6bd8058807fe\" xlink:type=\"simple\"><path d=\"M150.22,146.06 C148.23,164.02 144.16,189.79 136,211 C131.57,222.52 125.29,234.23 118.82,244.81 \" fill=\"none\" id=\"E6-&gt;E4\" style=\"stroke: #383838; stroke-width: 1.0;\"/><polygon fill=\"#FFFFFF\" points=\"107.7,261.8,112.2548,242.0705,123.9662,249.7414,107.7,261.8\" style=\"stroke: #383838; stroke-width: 1.0;\"/><ellipse cx=\"117.051\" cy=\"238.3981\" fill=\"#383838\" rx=\"2\" ry=\"2\" style=\"stroke: #383838; stroke-width: 1.0;\"/><ellipse cx=\"125.4163\" cy=\"243.8774\" fill=\"#383838\" rx=\"2\" ry=\"2\" style=\"stroke: #383838; stroke-width: 1.0;\"/></a><!--MD5=[d4e488f078f0d5f75dc5af25757f29bd]\n",
       "@startuml\r\n",
       " skinparam monochrome true\r\n",
       "skinparam classbackgroundcolor white\r\n",
       "skinparam shadowing false\r\n",
       "skinparam wrapWidth 300\r\n",
       "hide circle\r\n",
       "\r\n",
       "package \"AliasImport\" as E1  [[psysml:abc348a5-e8b0-46f2-97be-35eb1a9e9199 ]]  {\r\n",
       "package \"Definitions\" as E2  [[psysml:c5390b7c-a915-4e3b-b35e-1c2257f021d2 ]]  {\r\n",
       "comp def \"Vehicle\" as E3  <<(T,blue) part  def>> [[psysml:659a1dfe-6b8d-4702-b827-b31a03710007 ]] {\r\n",
       "}\r\n",
       "comp def \"Vehicle\" as E4  <<(T,blue) part  def>> [[psysml:659a1dfe-6b8d-4702-b827-b31a03710007 ]] {\r\n",
       "}\r\n",
       "}\r\n",
       "package \"Usages\" as E5  [[psysml:ccb2f7ee-bd35-4426-a662-4cf2ccb8ae79 ]]  {\r\n",
       "comp usage \"vehicle: Vehicle \" as E6  <<(T,blue) part>> [[psysml:783d7c15-c905-4c38-b30b-d01c61187577 ]] {\r\n",
       "}\r\n",
       "}\r\n",
       "}\r\n",
       "E5 ..> E4 [[psysml:8882fd51-4fce-4e08-923b-d836bd7610d5 ]] : <<import>>\r\n",
       "E6 - -:|> E4 [[psysml:db353f76-c455-46cb-b105-6bd8058807fe ]] \r\n",
       "@enduml\r\n",
       "\n",
       "PlantUML version 1.2020.13(Sat Jun 13 12:26:38 UTC 2020)\n",
       "(EPL source distribution)\n",
       "Java Runtime: OpenJDK Runtime Environment\n",
       "JVM: OpenJDK 64-Bit Server VM\n",
       "Default Encoding: UTF-8\n",
       "Language: en\n",
       "Country: null\n",
       "--></g></svg>"
      ]
     },
     "execution_count": 2,
     "metadata": {},
     "output_type": "execute_result"
    }
   ],
   "source": [
    "%viz --style=\"COMPTREE\" --view=\"Default\" \"AliasImport\""
   ]
  },
  {
   "cell_type": "code",
   "execution_count": 3,
   "id": "74ba9c44",
   "metadata": {
    "execution": {
     "iopub.execute_input": "2022-06-20T11:14:58.485491Z",
     "iopub.status.busy": "2022-06-20T11:14:58.485018Z",
     "iopub.status.idle": "2022-06-20T11:14:58.538917Z",
     "shell.execute_reply": "2022-06-20T11:14:58.539266Z"
    }
   },
   "outputs": [
    {
     "data": {
      "image/svg+xml": [
       "<?xml version=\"1.0\" encoding=\"UTF-8\" standalone=\"no\"?><svg xmlns=\"http://www.w3.org/2000/svg\" xmlns:xlink=\"http://www.w3.org/1999/xlink\" contentScriptType=\"application/ecmascript\" contentStyleType=\"text/css\" height=\"360px\" preserveAspectRatio=\"none\" style=\"width:293px;height:360px;\" version=\"1.1\" viewBox=\"0 0 293 360\" width=\"293px\" zoomAndPan=\"magnify\"><defs/><g><!--MD5=[fbc87193dbaf4d95561dea2c320d4a47]\n",
       "cluster E1--><a href=\"psysml:abc348a5-e8b0-46f2-97be-35eb1a9e9199\" target=\"_top\" title=\"psysml:abc348a5-e8b0-46f2-97be-35eb1a9e9199\" xlink:actuate=\"onRequest\" xlink:href=\"psysml:abc348a5-e8b0-46f2-97be-35eb1a9e9199\" xlink:show=\"new\" xlink:title=\"psysml:abc348a5-e8b0-46f2-97be-35eb1a9e9199\" xlink:type=\"simple\"><polygon fill=\"#FFFFFF\" points=\"16,6,97,6,104,28.2969,271,28.2969,271,348,16,348,16,6\" style=\"stroke: #000000; stroke-width: 1.5;\"/><line style=\"stroke: #000000; stroke-width: 1.5;\" x1=\"16\" x2=\"104\" y1=\"28.2969\" y2=\"28.2969\"/><text fill=\"#000000\" font-family=\"sans-serif\" font-size=\"14\" font-weight=\"bold\" lengthAdjust=\"spacingAndGlyphs\" textLength=\"75\" x=\"20\" y=\"20.9951\">AliasImport</text></a><!--MD5=[e4f7fae6ed58524ba242bb0b0d3be6b7]\n",
       "cluster E2--><a href=\"psysml:c5390b7c-a915-4e3b-b35e-1c2257f021d2\" target=\"_top\" title=\"psysml:c5390b7c-a915-4e3b-b35e-1c2257f021d2\" xlink:actuate=\"onRequest\" xlink:href=\"psysml:c5390b7c-a915-4e3b-b35e-1c2257f021d2\" xlink:show=\"new\" xlink:title=\"psysml:c5390b7c-a915-4e3b-b35e-1c2257f021d2\" xlink:type=\"simple\"><polygon fill=\"#FFFFFF\" points=\"40,227,119,227,126,249.2969,247,249.2969,247,324,40,324,40,227\" style=\"stroke: #000000; stroke-width: 1.5;\"/><line style=\"stroke: #000000; stroke-width: 1.5;\" x1=\"40\" x2=\"126\" y1=\"249.2969\" y2=\"249.2969\"/><text fill=\"#000000\" font-family=\"sans-serif\" font-size=\"14\" font-weight=\"bold\" lengthAdjust=\"spacingAndGlyphs\" textLength=\"73\" x=\"44\" y=\"241.9951\">Definitions</text></a><!--MD5=[de5ec2e2e8f62f467e546659f5068c88]\n",
       "cluster E5--><a href=\"psysml:ccb2f7ee-bd35-4426-a662-4cf2ccb8ae79\" target=\"_top\" title=\"psysml:ccb2f7ee-bd35-4426-a662-4cf2ccb8ae79\" xlink:actuate=\"onRequest\" xlink:href=\"psysml:ccb2f7ee-bd35-4426-a662-4cf2ccb8ae79\" xlink:show=\"new\" xlink:title=\"psysml:ccb2f7ee-bd35-4426-a662-4cf2ccb8ae79\" xlink:type=\"simple\"><polygon fill=\"#FFFFFF\" points=\"56,57,114,57,121,79.2969,229,79.2969,229,170,56,170,56,57\" style=\"stroke: #000000; stroke-width: 1.5;\"/><line style=\"stroke: #000000; stroke-width: 1.5;\" x1=\"56\" x2=\"121\" y1=\"79.2969\" y2=\"79.2969\"/><text fill=\"#000000\" font-family=\"sans-serif\" font-size=\"14\" font-weight=\"bold\" lengthAdjust=\"spacingAndGlyphs\" textLength=\"52\" x=\"60\" y=\"71.9951\">Usages</text></a><!--MD5=[09b614a08d8cba4a07c9adeb5e0fee81]\n",
       "class E3--><a href=\"psysml:659a1dfe-6b8d-4702-b827-b31a03710007\" target=\"_top\" title=\"psysml:659a1dfe-6b8d-4702-b827-b31a03710007\" xlink:actuate=\"onRequest\" xlink:href=\"psysml:659a1dfe-6b8d-4702-b827-b31a03710007\" xlink:show=\"new\" xlink:title=\"psysml:659a1dfe-6b8d-4702-b827-b31a03710007\" xlink:type=\"simple\"><rect fill=\"#FFFFFF\" height=\"45.9375\" id=\"E3\" style=\"stroke: #383838; stroke-width: 1.5;\" width=\"70\" x=\"161\" y=\"262\"/><text fill=\"#000000\" font-family=\"sans-serif\" font-size=\"12\" font-style=\"italic\" lengthAdjust=\"spacingAndGlyphs\" textLength=\"68\" x=\"162\" y=\"278.1387\">«part  def»</text><text fill=\"#000000\" font-family=\"sans-serif\" font-size=\"12\" lengthAdjust=\"spacingAndGlyphs\" textLength=\"45\" x=\"173.5\" y=\"292.1074\">Vehicle</text><line style=\"stroke: #383838; stroke-width: 1.5;\" x1=\"162\" x2=\"230\" y1=\"299.9375\" y2=\"299.9375\"/></a><!--MD5=[ebbe1d658d1005bcc118a6aa81145e00]\n",
       "class E4--><a href=\"psysml:659a1dfe-6b8d-4702-b827-b31a03710007\" target=\"_top\" title=\"psysml:659a1dfe-6b8d-4702-b827-b31a03710007\" xlink:actuate=\"onRequest\" xlink:href=\"psysml:659a1dfe-6b8d-4702-b827-b31a03710007\" xlink:show=\"new\" xlink:title=\"psysml:659a1dfe-6b8d-4702-b827-b31a03710007\" xlink:type=\"simple\"><rect fill=\"#FFFFFF\" height=\"45.9375\" id=\"E4\" style=\"stroke: #383838; stroke-width: 1.5;\" width=\"70\" x=\"56\" y=\"262\"/><text fill=\"#000000\" font-family=\"sans-serif\" font-size=\"12\" font-style=\"italic\" lengthAdjust=\"spacingAndGlyphs\" textLength=\"68\" x=\"57\" y=\"278.1387\">«part  def»</text><text fill=\"#000000\" font-family=\"sans-serif\" font-size=\"12\" lengthAdjust=\"spacingAndGlyphs\" textLength=\"45\" x=\"68.5\" y=\"292.1074\">Vehicle</text><line style=\"stroke: #383838; stroke-width: 1.5;\" x1=\"57\" x2=\"125\" y1=\"299.9375\" y2=\"299.9375\"/></a><!--MD5=[60a26617385b1d2d0262a64233df1f8d]\n",
       "class E6--><a href=\"psysml:783d7c15-c905-4c38-b30b-d01c61187577\" target=\"_top\" title=\"psysml:783d7c15-c905-4c38-b30b-d01c61187577\" xlink:actuate=\"onRequest\" xlink:href=\"psysml:783d7c15-c905-4c38-b30b-d01c61187577\" xlink:show=\"new\" xlink:title=\"psysml:783d7c15-c905-4c38-b30b-d01c61187577\" xlink:type=\"simple\"><rect fill=\"#FFFFFF\" height=\"45.9375\" id=\"E6\" rx=\"10\" ry=\"10\" style=\"stroke: #383838; stroke-width: 1.5;\" width=\"106\" x=\"99\" y=\"100\"/><text fill=\"#000000\" font-family=\"sans-serif\" font-size=\"12\" font-style=\"italic\" lengthAdjust=\"spacingAndGlyphs\" textLength=\"40\" x=\"132\" y=\"116.1387\">«part»</text><text fill=\"#000000\" font-family=\"sans-serif\" font-size=\"12\" lengthAdjust=\"spacingAndGlyphs\" textLength=\"96\" x=\"102\" y=\"130.1074\">vehicle: Vehicle</text><line style=\"stroke: #383838; stroke-width: 1.5;\" x1=\"100\" x2=\"204\" y1=\"137.9375\" y2=\"137.9375\"/></a><!--MD5=[1c62de2aa5b76f0fb657ff8443a1a700]\n",
       "link E5 to E4--><a href=\"psysml:8882fd51-4fce-4e08-923b-d836bd7610d5\" target=\"_top\" title=\"psysml:8882fd51-4fce-4e08-923b-d836bd7610d5\" xlink:actuate=\"onRequest\" xlink:href=\"psysml:8882fd51-4fce-4e08-923b-d836bd7610d5\" xlink:show=\"new\" xlink:title=\"psysml:8882fd51-4fce-4e08-923b-d836bd7610d5\" xlink:type=\"simple\"><path d=\"M66.8374,170.1716 C66.8505,170.3171 66.8637,170.4628 66.8769,170.6086 C66.9034,170.9002 66.9301,171.1924 66.957,171.485 C67.0647,172.6558 67.1761,173.8349 67.2913,175.0209 C67.5217,177.3929 67.7672,179.7921 68.0289,182.2055 C69.0756,191.8588 70.38,201.7375 72,211 C74.69,226.4 79,243.3 82.84,256.96 \" fill=\"none\" id=\"E5-&gt;E4\" style=\"stroke: #383838; stroke-width: 1.0; stroke-dasharray: 7.0,7.0;\"/><polygon fill=\"#383838\" points=\"84.23,261.84,85.6036,252.0874,82.8564,257.0324,77.9114,254.2852,84.23,261.84\" style=\"stroke: #383838; stroke-width: 1.0;\"/><text fill=\"#000000\" font-family=\"sans-serif\" font-size=\"13\" lengthAdjust=\"spacingAndGlyphs\" textLength=\"58\" x=\"73\" y=\"207.0669\">«import»</text></a><!--MD5=[f667431f98296947986a1a7595a31603]\n",
       "link E6 to E4--><a href=\"psysml:db353f76-c455-46cb-b105-6bd8058807fe\" target=\"_top\" title=\"psysml:db353f76-c455-46cb-b105-6bd8058807fe\" xlink:actuate=\"onRequest\" xlink:href=\"psysml:db353f76-c455-46cb-b105-6bd8058807fe\" xlink:show=\"new\" xlink:title=\"psysml:db353f76-c455-46cb-b105-6bd8058807fe\" xlink:type=\"simple\"><path d=\"M150.22,146.06 C148.23,164.02 144.16,189.79 136,211 C131.57,222.52 125.29,234.23 118.82,244.81 \" fill=\"none\" id=\"E6-&gt;E4\" style=\"stroke: #383838; stroke-width: 1.0;\"/><polygon fill=\"#FFFFFF\" points=\"107.7,261.8,112.2548,242.0705,123.9662,249.7414,107.7,261.8\" style=\"stroke: #383838; stroke-width: 1.0;\"/><ellipse cx=\"117.051\" cy=\"238.3981\" fill=\"#383838\" rx=\"2\" ry=\"2\" style=\"stroke: #383838; stroke-width: 1.0;\"/><ellipse cx=\"125.4163\" cy=\"243.8774\" fill=\"#383838\" rx=\"2\" ry=\"2\" style=\"stroke: #383838; stroke-width: 1.0;\"/></a><!--MD5=[d4e488f078f0d5f75dc5af25757f29bd]\n",
       "@startuml\r\n",
       " skinparam monochrome true\r\n",
       "skinparam classbackgroundcolor white\r\n",
       "skinparam shadowing false\r\n",
       "skinparam wrapWidth 300\r\n",
       "hide circle\r\n",
       "\r\n",
       "package \"AliasImport\" as E1  [[psysml:abc348a5-e8b0-46f2-97be-35eb1a9e9199 ]]  {\r\n",
       "package \"Definitions\" as E2  [[psysml:c5390b7c-a915-4e3b-b35e-1c2257f021d2 ]]  {\r\n",
       "comp def \"Vehicle\" as E3  <<(T,blue) part  def>> [[psysml:659a1dfe-6b8d-4702-b827-b31a03710007 ]] {\r\n",
       "}\r\n",
       "comp def \"Vehicle\" as E4  <<(T,blue) part  def>> [[psysml:659a1dfe-6b8d-4702-b827-b31a03710007 ]] {\r\n",
       "}\r\n",
       "}\r\n",
       "package \"Usages\" as E5  [[psysml:ccb2f7ee-bd35-4426-a662-4cf2ccb8ae79 ]]  {\r\n",
       "comp usage \"vehicle: Vehicle \" as E6  <<(T,blue) part>> [[psysml:783d7c15-c905-4c38-b30b-d01c61187577 ]] {\r\n",
       "}\r\n",
       "}\r\n",
       "}\r\n",
       "E5 ..> E4 [[psysml:8882fd51-4fce-4e08-923b-d836bd7610d5 ]] : <<import>>\r\n",
       "E6 - -:|> E4 [[psysml:db353f76-c455-46cb-b105-6bd8058807fe ]] \r\n",
       "@enduml\r\n",
       "\n",
       "PlantUML version 1.2020.13(Sat Jun 13 12:26:38 UTC 2020)\n",
       "(EPL source distribution)\n",
       "Java Runtime: OpenJDK Runtime Environment\n",
       "JVM: OpenJDK 64-Bit Server VM\n",
       "Default Encoding: UTF-8\n",
       "Language: en\n",
       "Country: null\n",
       "--></g></svg>"
      ]
     },
     "execution_count": 3,
     "metadata": {},
     "output_type": "execute_result"
    }
   ],
   "source": [
    "%viz --style=\"COMPTREE\" --view=\"Tree\" \"AliasImport\""
   ]
  },
  {
   "cell_type": "code",
   "execution_count": 4,
   "id": "5427403f",
   "metadata": {
    "execution": {
     "iopub.execute_input": "2022-06-20T11:14:58.589573Z",
     "iopub.status.busy": "2022-06-20T11:14:58.589108Z",
     "iopub.status.idle": "2022-06-20T11:14:58.595319Z",
     "shell.execute_reply": "2022-06-20T11:14:58.594891Z"
    }
   },
   "outputs": [
    {
     "data": {
      "image/svg+xml": [
       "<?xml version=\"1.0\" encoding=\"UTF-8\" standalone=\"no\"?><svg xmlns=\"http://www.w3.org/2000/svg\" xmlns:xlink=\"http://www.w3.org/1999/xlink\" contentScriptType=\"application/ecmascript\" contentStyleType=\"text/css\" height=\"12px\" preserveAspectRatio=\"none\" style=\"width:12px;height:12px;\" version=\"1.1\" viewBox=\"0 0 12 12\" width=\"12px\" zoomAndPan=\"magnify\"><defs/><g><!--MD5=[f19188ef49e11757b5c46753f95d9edc]\n",
       "@startuml\r\n",
       " skinparam monochrome true\r\n",
       "skinparam classbackgroundcolor white\r\n",
       "skinparam shadowing false\r\n",
       "skinparam wrapWidth 300\r\n",
       "hide circle\r\n",
       "\r\n",
       "@enduml\r\n",
       "\n",
       "PlantUML version 1.2020.13(Sat Jun 13 12:26:38 UTC 2020)\n",
       "(EPL source distribution)\n",
       "Java Runtime: OpenJDK Runtime Environment\n",
       "JVM: OpenJDK 64-Bit Server VM\n",
       "Default Encoding: UTF-8\n",
       "Language: en\n",
       "Country: null\n",
       "--></g></svg>"
      ]
     },
     "execution_count": 4,
     "metadata": {},
     "output_type": "execute_result"
    }
   ],
   "source": [
    "%viz --style=\"COMPTREE\" --view=\"State\" \"AliasImport\""
   ]
  },
  {
   "cell_type": "code",
   "execution_count": 5,
   "id": "a39bf68e",
   "metadata": {
    "execution": {
     "iopub.execute_input": "2022-06-20T11:14:58.645693Z",
     "iopub.status.busy": "2022-06-20T11:14:58.645232Z",
     "iopub.status.idle": "2022-06-20T11:14:58.694552Z",
     "shell.execute_reply": "2022-06-20T11:14:58.694880Z"
    }
   },
   "outputs": [
    {
     "data": {
      "image/svg+xml": [
       "<?xml version=\"1.0\" encoding=\"UTF-8\" standalone=\"no\"?><svg xmlns=\"http://www.w3.org/2000/svg\" xmlns:xlink=\"http://www.w3.org/1999/xlink\" contentScriptType=\"application/ecmascript\" contentStyleType=\"text/css\" height=\"351px\" preserveAspectRatio=\"none\" style=\"width:302px;height:351px;\" version=\"1.1\" viewBox=\"0 0 302 351\" width=\"302px\" zoomAndPan=\"magnify\"><defs/><g><!--MD5=[fbc87193dbaf4d95561dea2c320d4a47]\n",
       "cluster E1--><a href=\"psysml:abc348a5-e8b0-46f2-97be-35eb1a9e9199\" target=\"_top\" title=\"psysml:abc348a5-e8b0-46f2-97be-35eb1a9e9199\" xlink:actuate=\"onRequest\" xlink:href=\"psysml:abc348a5-e8b0-46f2-97be-35eb1a9e9199\" xlink:show=\"new\" xlink:title=\"psysml:abc348a5-e8b0-46f2-97be-35eb1a9e9199\" xlink:type=\"simple\"><polygon fill=\"#FFFFFF\" points=\"16,6,97,6,104,28.2969,280,28.2969,280,339,16,339,16,6\" style=\"stroke: #000000; stroke-width: 1.5;\"/><line style=\"stroke: #000000; stroke-width: 1.5;\" x1=\"16\" x2=\"104\" y1=\"28.2969\" y2=\"28.2969\"/><text fill=\"#000000\" font-family=\"sans-serif\" font-size=\"14\" font-weight=\"bold\" lengthAdjust=\"spacingAndGlyphs\" textLength=\"75\" x=\"20\" y=\"20.9951\">AliasImport</text></a><!--MD5=[e4f7fae6ed58524ba242bb0b0d3be6b7]\n",
       "cluster E2--><a href=\"psysml:c5390b7c-a915-4e3b-b35e-1c2257f021d2\" target=\"_top\" title=\"psysml:c5390b7c-a915-4e3b-b35e-1c2257f021d2\" xlink:actuate=\"onRequest\" xlink:href=\"psysml:c5390b7c-a915-4e3b-b35e-1c2257f021d2\" xlink:show=\"new\" xlink:title=\"psysml:c5390b7c-a915-4e3b-b35e-1c2257f021d2\" xlink:type=\"simple\"><polygon fill=\"#FFFFFF\" points=\"40,221,119,221,126,243.2969,256,243.2969,256,315,40,315,40,221\" style=\"stroke: #000000; stroke-width: 1.5;\"/><line style=\"stroke: #000000; stroke-width: 1.5;\" x1=\"40\" x2=\"126\" y1=\"243.2969\" y2=\"243.2969\"/><text fill=\"#000000\" font-family=\"sans-serif\" font-size=\"14\" font-weight=\"bold\" lengthAdjust=\"spacingAndGlyphs\" textLength=\"73\" x=\"44\" y=\"235.9951\">Definitions</text></a><!--MD5=[de5ec2e2e8f62f467e546659f5068c88]\n",
       "cluster E5--><a href=\"psysml:ccb2f7ee-bd35-4426-a662-4cf2ccb8ae79\" target=\"_top\" title=\"psysml:ccb2f7ee-bd35-4426-a662-4cf2ccb8ae79\" xlink:actuate=\"onRequest\" xlink:href=\"psysml:ccb2f7ee-bd35-4426-a662-4cf2ccb8ae79\" xlink:show=\"new\" xlink:title=\"psysml:ccb2f7ee-bd35-4426-a662-4cf2ccb8ae79\" xlink:type=\"simple\"><polygon fill=\"#FFFFFF\" points=\"56,57,114,57,121,79.2969,230,79.2969,230,164,56,164,56,57\" style=\"stroke: #000000; stroke-width: 1.5;\"/><line style=\"stroke: #000000; stroke-width: 1.5;\" x1=\"56\" x2=\"121\" y1=\"79.2969\" y2=\"79.2969\"/><text fill=\"#000000\" font-family=\"sans-serif\" font-size=\"14\" font-weight=\"bold\" lengthAdjust=\"spacingAndGlyphs\" textLength=\"52\" x=\"60\" y=\"71.9951\">Usages</text></a><g id=\"E1.E2.E3\"><a href=\"psysml:659a1dfe-6b8d-4702-b827-b31a03710007\" target=\"_top\" title=\"psysml:659a1dfe-6b8d-4702-b827-b31a03710007\" xlink:actuate=\"onRequest\" xlink:href=\"psysml:659a1dfe-6b8d-4702-b827-b31a03710007\" xlink:show=\"new\" xlink:title=\"psysml:659a1dfe-6b8d-4702-b827-b31a03710007\" xlink:type=\"simple\"><rect fill=\"#FFFFFF\" height=\"42.9375\" id=\"E3\" style=\"stroke: #383838; stroke-width: 1.5;\" width=\"75\" x=\"165.5\" y=\"256\"/><rect fill=\"#F8F8F8\" height=\"37.9375\" style=\"stroke: #383838; stroke-width: 1.5;\" width=\"75\" x=\"165.5\" y=\"256\"/><text fill=\"#000000\" font-family=\"sans-serif\" font-size=\"12\" font-style=\"italic\" lengthAdjust=\"spacingAndGlyphs\" textLength=\"68\" x=\"169\" y=\"272.1387\">«part  def»</text><text fill=\"#000000\" font-family=\"sans-serif\" font-size=\"12\" lengthAdjust=\"spacingAndGlyphs\" textLength=\"45\" x=\"180.5\" y=\"286.1074\">Vehicle</text></a></g><g id=\"E1.E2.E4\"><a href=\"psysml:659a1dfe-6b8d-4702-b827-b31a03710007\" target=\"_top\" title=\"psysml:659a1dfe-6b8d-4702-b827-b31a03710007\" xlink:actuate=\"onRequest\" xlink:href=\"psysml:659a1dfe-6b8d-4702-b827-b31a03710007\" xlink:show=\"new\" xlink:title=\"psysml:659a1dfe-6b8d-4702-b827-b31a03710007\" xlink:type=\"simple\"><rect fill=\"#FFFFFF\" height=\"42.9375\" id=\"E4\" style=\"stroke: #383838; stroke-width: 1.5;\" width=\"75\" x=\"55.5\" y=\"256\"/><rect fill=\"#F8F8F8\" height=\"37.9375\" style=\"stroke: #383838; stroke-width: 1.5;\" width=\"75\" x=\"55.5\" y=\"256\"/><text fill=\"#000000\" font-family=\"sans-serif\" font-size=\"12\" font-style=\"italic\" lengthAdjust=\"spacingAndGlyphs\" textLength=\"68\" x=\"59\" y=\"272.1387\">«part  def»</text><text fill=\"#000000\" font-family=\"sans-serif\" font-size=\"12\" lengthAdjust=\"spacingAndGlyphs\" textLength=\"45\" x=\"70.5\" y=\"286.1074\">Vehicle</text></a></g><g id=\"E1.E5.E6\"><a href=\"psysml:783d7c15-c905-4c38-b30b-d01c61187577\" target=\"_top\" title=\"psysml:783d7c15-c905-4c38-b30b-d01c61187577\" xlink:actuate=\"onRequest\" xlink:href=\"psysml:783d7c15-c905-4c38-b30b-d01c61187577\" xlink:show=\"new\" xlink:title=\"psysml:783d7c15-c905-4c38-b30b-d01c61187577\" xlink:type=\"simple\"><rect fill=\"#FFFFFF\" height=\"40\" id=\"E6\" rx=\"10\" ry=\"10\" style=\"stroke: #383838; stroke-width: 1.5;\" width=\"107\" x=\"99.5\" y=\"100\"/><rect fill=\"#F8F8F8\" height=\"23.9688\" rx=\"10\" ry=\"10\" style=\"stroke: #F8F8F8; stroke-width: 1.5;\" width=\"107\" x=\"99.5\" y=\"100\"/><rect fill=\"#F8F8F8\" height=\"10\" style=\"stroke: #F8F8F8; stroke-width: 1.5;\" width=\"107\" x=\"99.5\" y=\"113.9688\"/><rect fill=\"none\" height=\"40\" id=\"E6\" rx=\"10\" ry=\"10\" style=\"stroke: #383838; stroke-width: 1.5;\" width=\"107\" x=\"99.5\" y=\"100\"/><text fill=\"#000000\" font-family=\"sans-serif\" font-size=\"12\" lengthAdjust=\"spacingAndGlyphs\" textLength=\"96\" x=\"105\" y=\"116.1387\">vehicle: Vehicle</text></a></g><!--MD5=[1c62de2aa5b76f0fb657ff8443a1a700]\n",
       "link E5 to E4--><a href=\"psysml:8882fd51-4fce-4e08-923b-d836bd7610d5\" target=\"_top\" title=\"psysml:8882fd51-4fce-4e08-923b-d836bd7610d5\" xlink:actuate=\"onRequest\" xlink:href=\"psysml:8882fd51-4fce-4e08-923b-d836bd7610d5\" xlink:show=\"new\" xlink:title=\"psysml:8882fd51-4fce-4e08-923b-d836bd7610d5\" xlink:type=\"simple\"><path d=\"M67.2559,164.3434 C67.2848,164.6227 67.314,164.9026 67.3433,165.183 C67.4021,165.7439 67.4617,166.3071 67.5224,166.8722 C67.6436,168.0025 67.7685,169.141 67.8973,170.2859 C68.1549,172.5759 68.4278,174.8919 68.7167,177.2213 C69.8725,186.5388 71.285,196.07 73,205 C75.97,220.45 80.65,237.41 84.74,250.94 \" fill=\"none\" id=\"E5-&gt;E4\" style=\"stroke: #383838; stroke-width: 1.0; stroke-dasharray: 7.0,7.0;\"/><polygon fill=\"#383838\" points=\"86.21,255.76,87.3802,245.9809,84.7366,250.982,79.7354,248.3384,86.21,255.76\" style=\"stroke: #383838; stroke-width: 1.0;\"/><text fill=\"#000000\" font-family=\"sans-serif\" font-size=\"13\" lengthAdjust=\"spacingAndGlyphs\" textLength=\"58\" x=\"74\" y=\"201.0669\">«import»</text></a><!--MD5=[f667431f98296947986a1a7595a31603]\n",
       "link E6 to E4--><a href=\"psysml:db353f76-c455-46cb-b105-6bd8058807fe\" target=\"_top\" title=\"psysml:db353f76-c455-46cb-b105-6bd8058807fe\" xlink:actuate=\"onRequest\" xlink:href=\"psysml:db353f76-c455-46cb-b105-6bd8058807fe\" xlink:show=\"new\" xlink:title=\"psysml:db353f76-c455-46cb-b105-6bd8058807fe\" xlink:type=\"simple\"><path d=\"M151.34,140.23 C149.38,157.62 145.27,183.68 137,205 C132.5,216.61 126.1,228.43 119.57,239.03 \" fill=\"none\" id=\"E6-&gt;E4\" style=\"stroke: #383838; stroke-width: 1.0;\"/><polygon fill=\"#FFFFFF\" points=\"108.43,255.98,113.0161,236.2577,124.7153,243.9472,108.43,255.98\" style=\"stroke: #383838; stroke-width: 1.0;\"/><ellipse cx=\"117.8182\" cy=\"232.593\" fill=\"#383838\" rx=\"2\" ry=\"2\" style=\"stroke: #383838; stroke-width: 1.0;\"/><ellipse cx=\"126.1747\" cy=\"238.0855\" fill=\"#383838\" rx=\"2\" ry=\"2\" style=\"stroke: #383838; stroke-width: 1.0;\"/></a><!--MD5=[fda0ffd2a69b591c8d87cd19e2d0165b]\n",
       "@startuml\r\n",
       "skinparam ranksep 10\r\n",
       "skinparam rectangle {\r\n",
       " backgroundColor<<block>> LightGreen\r\n",
       "}\r\n",
       " skinparam monochrome true\r\n",
       "skinparam classbackgroundcolor white\r\n",
       "skinparam shadowing false\r\n",
       "skinparam wrapWidth 300\r\n",
       "hide circle\r\n",
       "\r\n",
       "package \"AliasImport\" as E1  [[psysml:abc348a5-e8b0-46f2-97be-35eb1a9e9199 ]]  {\r\n",
       "package \"Definitions\" as E2  [[psysml:c5390b7c-a915-4e3b-b35e-1c2257f021d2 ]]  {\r\n",
       "rec def \"Vehicle\" as E3  <<(T,blue) part  def>> [[psysml:659a1dfe-6b8d-4702-b827-b31a03710007 ]] {\r\n",
       "}\r\n",
       "rec def \"Vehicle\" as E4  <<(T,blue) part  def>> [[psysml:659a1dfe-6b8d-4702-b827-b31a03710007 ]] {\r\n",
       "}\r\n",
       "}\r\n",
       "package \"Usages\" as E5  [[psysml:ccb2f7ee-bd35-4426-a662-4cf2ccb8ae79 ]]  {\r\n",
       "rec usage \"vehicle: Vehicle\" as E6  [[psysml:783d7c15-c905-4c38-b30b-d01c61187577 ]] {\r\n",
       "}\r\n",
       "}\r\n",
       "}\r\n",
       "E5 ..> E4 [[psysml:8882fd51-4fce-4e08-923b-d836bd7610d5 ]] : <<import>>\r\n",
       "E6 - -:|> E4 [[psysml:db353f76-c455-46cb-b105-6bd8058807fe ]] \r\n",
       "@enduml\r\n",
       "\n",
       "PlantUML version 1.2020.13(Sat Jun 13 12:26:38 UTC 2020)\n",
       "(EPL source distribution)\n",
       "Java Runtime: OpenJDK Runtime Environment\n",
       "JVM: OpenJDK 64-Bit Server VM\n",
       "Default Encoding: UTF-8\n",
       "Language: en\n",
       "Country: null\n",
       "--></g></svg>"
      ]
     },
     "execution_count": 5,
     "metadata": {},
     "output_type": "execute_result"
    }
   ],
   "source": [
    "%viz --style=\"COMPTREE\" --view=\"Interconnection\" \"AliasImport\""
   ]
  },
  {
   "cell_type": "code",
   "execution_count": 6,
   "id": "67cd5670",
   "metadata": {
    "execution": {
     "iopub.execute_input": "2022-06-20T11:14:58.744950Z",
     "iopub.status.busy": "2022-06-20T11:14:58.744493Z",
     "iopub.status.idle": "2022-06-20T11:14:58.751949Z",
     "shell.execute_reply": "2022-06-20T11:14:58.752270Z"
    }
   },
   "outputs": [
    {
     "data": {
      "image/svg+xml": [
       "<?xml version=\"1.0\" encoding=\"UTF-8\" standalone=\"no\"?><svg xmlns=\"http://www.w3.org/2000/svg\" xmlns:xlink=\"http://www.w3.org/1999/xlink\" contentScriptType=\"application/ecmascript\" contentStyleType=\"text/css\" height=\"12px\" preserveAspectRatio=\"none\" style=\"width:12px;height:12px;\" version=\"1.1\" viewBox=\"0 0 12 12\" width=\"12px\" zoomAndPan=\"magnify\"><defs/><g><!--MD5=[655b888544ca4751ea36af1068543f84]\n",
       "@startuml\r\n",
       "skinparam ranksep 8\r\n",
       " skinparam monochrome true\r\n",
       "skinparam classbackgroundcolor white\r\n",
       "skinparam shadowing false\r\n",
       "skinparam wrapWidth 300\r\n",
       "hide circle\r\n",
       "\r\n",
       "@enduml\r\n",
       "\n",
       "PlantUML version 1.2020.13(Sat Jun 13 12:26:38 UTC 2020)\n",
       "(EPL source distribution)\n",
       "Java Runtime: OpenJDK Runtime Environment\n",
       "JVM: OpenJDK 64-Bit Server VM\n",
       "Default Encoding: UTF-8\n",
       "Language: en\n",
       "Country: null\n",
       "--></g></svg>"
      ]
     },
     "execution_count": 6,
     "metadata": {},
     "output_type": "execute_result"
    }
   ],
   "source": [
    "%viz --style=\"COMPTREE\" --view=\"Action\" \"AliasImport\""
   ]
  },
  {
   "cell_type": "code",
   "execution_count": 7,
   "id": "fa4e7458",
   "metadata": {
    "execution": {
     "iopub.execute_input": "2022-06-20T11:14:58.802820Z",
     "iopub.status.busy": "2022-06-20T11:14:58.802298Z",
     "iopub.status.idle": "2022-06-20T11:14:58.814309Z",
     "shell.execute_reply": "2022-06-20T11:14:58.814628Z"
    }
   },
   "outputs": [
    {
     "data": {
      "image/svg+xml": [
       "<?xml version=\"1.0\" encoding=\"UTF-8\" standalone=\"no\"?><svg xmlns=\"http://www.w3.org/2000/svg\" xmlns:xlink=\"http://www.w3.org/1999/xlink\" contentScriptType=\"application/ecmascript\" contentStyleType=\"text/css\" height=\"12px\" preserveAspectRatio=\"none\" style=\"width:12px;height:12px;\" version=\"1.1\" viewBox=\"0 0 12 12\" width=\"12px\" zoomAndPan=\"magnify\"><defs/><g><!--MD5=[803fc46c337be7a5c8a9831e35356779]\n",
       "@startuml\r\n",
       "skinparam roundcorner 20\r\n",
       "skinparam BoxPadding 20\r\n",
       "skinparam SequenceBoxBackgroundColor #white\r\n",
       "skinparam style strictuml\r\n",
       "skinparam maxMessageSize 100\r\n",
       " skinparam monochrome true\r\n",
       "skinparam classbackgroundcolor white\r\n",
       "skinparam shadowing false\r\n",
       "skinparam wrapWidth 300\r\n",
       "hide circle\r\n",
       "\r\n",
       "@enduml\r\n",
       "\n",
       "PlantUML version 1.2020.13(Sat Jun 13 12:26:38 UTC 2020)\n",
       "(EPL source distribution)\n",
       "Java Runtime: OpenJDK Runtime Environment\n",
       "JVM: OpenJDK 64-Bit Server VM\n",
       "Default Encoding: UTF-8\n",
       "Language: en\n",
       "Country: null\n",
       "--></g></svg>"
      ]
     },
     "execution_count": 7,
     "metadata": {},
     "output_type": "execute_result"
    }
   ],
   "source": [
    "%viz --style=\"COMPTREE\" --view=\"Sequence\" \"AliasImport\""
   ]
  },
  {
   "cell_type": "code",
   "execution_count": 8,
   "id": "5b90d530",
   "metadata": {
    "execution": {
     "iopub.execute_input": "2022-06-20T11:14:58.865781Z",
     "iopub.status.busy": "2022-06-20T11:14:58.865089Z",
     "iopub.status.idle": "2022-06-20T11:14:58.915065Z",
     "shell.execute_reply": "2022-06-20T11:14:58.915240Z"
    }
   },
   "outputs": [
    {
     "data": {
      "image/svg+xml": [
       "<?xml version=\"1.0\" encoding=\"UTF-8\" standalone=\"no\"?><svg xmlns=\"http://www.w3.org/2000/svg\" xmlns:xlink=\"http://www.w3.org/1999/xlink\" contentScriptType=\"application/ecmascript\" contentStyleType=\"text/css\" height=\"360px\" preserveAspectRatio=\"none\" style=\"width:293px;height:360px;\" version=\"1.1\" viewBox=\"0 0 293 360\" width=\"293px\" zoomAndPan=\"magnify\"><defs/><g><!--MD5=[fbc87193dbaf4d95561dea2c320d4a47]\n",
       "cluster E1--><a href=\"psysml:abc348a5-e8b0-46f2-97be-35eb1a9e9199\" target=\"_top\" title=\"psysml:abc348a5-e8b0-46f2-97be-35eb1a9e9199\" xlink:actuate=\"onRequest\" xlink:href=\"psysml:abc348a5-e8b0-46f2-97be-35eb1a9e9199\" xlink:show=\"new\" xlink:title=\"psysml:abc348a5-e8b0-46f2-97be-35eb1a9e9199\" xlink:type=\"simple\"><polygon fill=\"#FFFFFF\" points=\"16,6,97,6,104,28.2969,271,28.2969,271,348,16,348,16,6\" style=\"stroke: #000000; stroke-width: 1.5;\"/><line style=\"stroke: #000000; stroke-width: 1.5;\" x1=\"16\" x2=\"104\" y1=\"28.2969\" y2=\"28.2969\"/><text fill=\"#000000\" font-family=\"sans-serif\" font-size=\"14\" font-weight=\"bold\" lengthAdjust=\"spacingAndGlyphs\" textLength=\"75\" x=\"20\" y=\"20.9951\">AliasImport</text></a><!--MD5=[e4f7fae6ed58524ba242bb0b0d3be6b7]\n",
       "cluster E2--><a href=\"psysml:c5390b7c-a915-4e3b-b35e-1c2257f021d2\" target=\"_top\" title=\"psysml:c5390b7c-a915-4e3b-b35e-1c2257f021d2\" xlink:actuate=\"onRequest\" xlink:href=\"psysml:c5390b7c-a915-4e3b-b35e-1c2257f021d2\" xlink:show=\"new\" xlink:title=\"psysml:c5390b7c-a915-4e3b-b35e-1c2257f021d2\" xlink:type=\"simple\"><polygon fill=\"#FFFFFF\" points=\"40,227,119,227,126,249.2969,247,249.2969,247,324,40,324,40,227\" style=\"stroke: #000000; stroke-width: 1.5;\"/><line style=\"stroke: #000000; stroke-width: 1.5;\" x1=\"40\" x2=\"126\" y1=\"249.2969\" y2=\"249.2969\"/><text fill=\"#000000\" font-family=\"sans-serif\" font-size=\"14\" font-weight=\"bold\" lengthAdjust=\"spacingAndGlyphs\" textLength=\"73\" x=\"44\" y=\"241.9951\">Definitions</text></a><!--MD5=[de5ec2e2e8f62f467e546659f5068c88]\n",
       "cluster E5--><a href=\"psysml:ccb2f7ee-bd35-4426-a662-4cf2ccb8ae79\" target=\"_top\" title=\"psysml:ccb2f7ee-bd35-4426-a662-4cf2ccb8ae79\" xlink:actuate=\"onRequest\" xlink:href=\"psysml:ccb2f7ee-bd35-4426-a662-4cf2ccb8ae79\" xlink:show=\"new\" xlink:title=\"psysml:ccb2f7ee-bd35-4426-a662-4cf2ccb8ae79\" xlink:type=\"simple\"><polygon fill=\"#FFFFFF\" points=\"56,57,114,57,121,79.2969,229,79.2969,229,170,56,170,56,57\" style=\"stroke: #000000; stroke-width: 1.5;\"/><line style=\"stroke: #000000; stroke-width: 1.5;\" x1=\"56\" x2=\"121\" y1=\"79.2969\" y2=\"79.2969\"/><text fill=\"#000000\" font-family=\"sans-serif\" font-size=\"14\" font-weight=\"bold\" lengthAdjust=\"spacingAndGlyphs\" textLength=\"52\" x=\"60\" y=\"71.9951\">Usages</text></a><!--MD5=[09b614a08d8cba4a07c9adeb5e0fee81]\n",
       "class E3--><a href=\"psysml:659a1dfe-6b8d-4702-b827-b31a03710007\" target=\"_top\" title=\"psysml:659a1dfe-6b8d-4702-b827-b31a03710007\" xlink:actuate=\"onRequest\" xlink:href=\"psysml:659a1dfe-6b8d-4702-b827-b31a03710007\" xlink:show=\"new\" xlink:title=\"psysml:659a1dfe-6b8d-4702-b827-b31a03710007\" xlink:type=\"simple\"><rect fill=\"#FFFFFF\" height=\"45.9375\" id=\"E3\" style=\"stroke: #383838; stroke-width: 1.5;\" width=\"70\" x=\"161\" y=\"262\"/><text fill=\"#000000\" font-family=\"sans-serif\" font-size=\"12\" font-style=\"italic\" lengthAdjust=\"spacingAndGlyphs\" textLength=\"68\" x=\"162\" y=\"278.1387\">«part  def»</text><text fill=\"#000000\" font-family=\"sans-serif\" font-size=\"12\" lengthAdjust=\"spacingAndGlyphs\" textLength=\"45\" x=\"173.5\" y=\"292.1074\">Vehicle</text><line style=\"stroke: #383838; stroke-width: 1.5;\" x1=\"162\" x2=\"230\" y1=\"299.9375\" y2=\"299.9375\"/></a><!--MD5=[ebbe1d658d1005bcc118a6aa81145e00]\n",
       "class E4--><a href=\"psysml:659a1dfe-6b8d-4702-b827-b31a03710007\" target=\"_top\" title=\"psysml:659a1dfe-6b8d-4702-b827-b31a03710007\" xlink:actuate=\"onRequest\" xlink:href=\"psysml:659a1dfe-6b8d-4702-b827-b31a03710007\" xlink:show=\"new\" xlink:title=\"psysml:659a1dfe-6b8d-4702-b827-b31a03710007\" xlink:type=\"simple\"><rect fill=\"#FFFFFF\" height=\"45.9375\" id=\"E4\" style=\"stroke: #383838; stroke-width: 1.5;\" width=\"70\" x=\"56\" y=\"262\"/><text fill=\"#000000\" font-family=\"sans-serif\" font-size=\"12\" font-style=\"italic\" lengthAdjust=\"spacingAndGlyphs\" textLength=\"68\" x=\"57\" y=\"278.1387\">«part  def»</text><text fill=\"#000000\" font-family=\"sans-serif\" font-size=\"12\" lengthAdjust=\"spacingAndGlyphs\" textLength=\"45\" x=\"68.5\" y=\"292.1074\">Vehicle</text><line style=\"stroke: #383838; stroke-width: 1.5;\" x1=\"57\" x2=\"125\" y1=\"299.9375\" y2=\"299.9375\"/></a><!--MD5=[60a26617385b1d2d0262a64233df1f8d]\n",
       "class E6--><a href=\"psysml:783d7c15-c905-4c38-b30b-d01c61187577\" target=\"_top\" title=\"psysml:783d7c15-c905-4c38-b30b-d01c61187577\" xlink:actuate=\"onRequest\" xlink:href=\"psysml:783d7c15-c905-4c38-b30b-d01c61187577\" xlink:show=\"new\" xlink:title=\"psysml:783d7c15-c905-4c38-b30b-d01c61187577\" xlink:type=\"simple\"><rect fill=\"#FFFFFF\" height=\"45.9375\" id=\"E6\" rx=\"10\" ry=\"10\" style=\"stroke: #383838; stroke-width: 1.5;\" width=\"106\" x=\"99\" y=\"100\"/><text fill=\"#000000\" font-family=\"sans-serif\" font-size=\"12\" font-style=\"italic\" lengthAdjust=\"spacingAndGlyphs\" textLength=\"40\" x=\"132\" y=\"116.1387\">«part»</text><text fill=\"#000000\" font-family=\"sans-serif\" font-size=\"12\" lengthAdjust=\"spacingAndGlyphs\" textLength=\"96\" x=\"102\" y=\"130.1074\">vehicle: Vehicle</text><line style=\"stroke: #383838; stroke-width: 1.5;\" x1=\"100\" x2=\"204\" y1=\"137.9375\" y2=\"137.9375\"/></a><!--MD5=[1c62de2aa5b76f0fb657ff8443a1a700]\n",
       "link E5 to E4--><a href=\"psysml:8882fd51-4fce-4e08-923b-d836bd7610d5\" target=\"_top\" title=\"psysml:8882fd51-4fce-4e08-923b-d836bd7610d5\" xlink:actuate=\"onRequest\" xlink:href=\"psysml:8882fd51-4fce-4e08-923b-d836bd7610d5\" xlink:show=\"new\" xlink:title=\"psysml:8882fd51-4fce-4e08-923b-d836bd7610d5\" xlink:type=\"simple\"><path d=\"M66.8374,170.1716 C66.8505,170.3171 66.8637,170.4628 66.8769,170.6086 C66.9034,170.9002 66.9301,171.1924 66.957,171.485 C67.0647,172.6558 67.1761,173.8349 67.2913,175.0209 C67.5217,177.3929 67.7672,179.7921 68.0289,182.2055 C69.0756,191.8588 70.38,201.7375 72,211 C74.69,226.4 79,243.3 82.84,256.96 \" fill=\"none\" id=\"E5-&gt;E4\" style=\"stroke: #383838; stroke-width: 1.0; stroke-dasharray: 7.0,7.0;\"/><polygon fill=\"#383838\" points=\"84.23,261.84,85.6036,252.0874,82.8564,257.0324,77.9114,254.2852,84.23,261.84\" style=\"stroke: #383838; stroke-width: 1.0;\"/><text fill=\"#000000\" font-family=\"sans-serif\" font-size=\"13\" lengthAdjust=\"spacingAndGlyphs\" textLength=\"58\" x=\"73\" y=\"207.0669\">«import»</text></a><!--MD5=[f667431f98296947986a1a7595a31603]\n",
       "link E6 to E4--><a href=\"psysml:db353f76-c455-46cb-b105-6bd8058807fe\" target=\"_top\" title=\"psysml:db353f76-c455-46cb-b105-6bd8058807fe\" xlink:actuate=\"onRequest\" xlink:href=\"psysml:db353f76-c455-46cb-b105-6bd8058807fe\" xlink:show=\"new\" xlink:title=\"psysml:db353f76-c455-46cb-b105-6bd8058807fe\" xlink:type=\"simple\"><path d=\"M150.22,146.06 C148.23,164.02 144.16,189.79 136,211 C131.57,222.52 125.29,234.23 118.82,244.81 \" fill=\"none\" id=\"E6-&gt;E4\" style=\"stroke: #383838; stroke-width: 1.0;\"/><polygon fill=\"#FFFFFF\" points=\"107.7,261.8,112.2548,242.0705,123.9662,249.7414,107.7,261.8\" style=\"stroke: #383838; stroke-width: 1.0;\"/><ellipse cx=\"117.051\" cy=\"238.3981\" fill=\"#383838\" rx=\"2\" ry=\"2\" style=\"stroke: #383838; stroke-width: 1.0;\"/><ellipse cx=\"125.4163\" cy=\"243.8774\" fill=\"#383838\" rx=\"2\" ry=\"2\" style=\"stroke: #383838; stroke-width: 1.0;\"/></a><!--MD5=[d4e488f078f0d5f75dc5af25757f29bd]\n",
       "@startuml\r\n",
       " skinparam monochrome true\r\n",
       "skinparam classbackgroundcolor white\r\n",
       "skinparam shadowing false\r\n",
       "skinparam wrapWidth 300\r\n",
       "hide circle\r\n",
       "\r\n",
       "package \"AliasImport\" as E1  [[psysml:abc348a5-e8b0-46f2-97be-35eb1a9e9199 ]]  {\r\n",
       "package \"Definitions\" as E2  [[psysml:c5390b7c-a915-4e3b-b35e-1c2257f021d2 ]]  {\r\n",
       "comp def \"Vehicle\" as E3  <<(T,blue) part  def>> [[psysml:659a1dfe-6b8d-4702-b827-b31a03710007 ]] {\r\n",
       "}\r\n",
       "comp def \"Vehicle\" as E4  <<(T,blue) part  def>> [[psysml:659a1dfe-6b8d-4702-b827-b31a03710007 ]] {\r\n",
       "}\r\n",
       "}\r\n",
       "package \"Usages\" as E5  [[psysml:ccb2f7ee-bd35-4426-a662-4cf2ccb8ae79 ]]  {\r\n",
       "comp usage \"vehicle: Vehicle \" as E6  <<(T,blue) part>> [[psysml:783d7c15-c905-4c38-b30b-d01c61187577 ]] {\r\n",
       "}\r\n",
       "}\r\n",
       "}\r\n",
       "E5 ..> E4 [[psysml:8882fd51-4fce-4e08-923b-d836bd7610d5 ]] : <<import>>\r\n",
       "E6 - -:|> E4 [[psysml:db353f76-c455-46cb-b105-6bd8058807fe ]] \r\n",
       "@enduml\r\n",
       "\n",
       "PlantUML version 1.2020.13(Sat Jun 13 12:26:38 UTC 2020)\n",
       "(EPL source distribution)\n",
       "Java Runtime: OpenJDK Runtime Environment\n",
       "JVM: OpenJDK 64-Bit Server VM\n",
       "Default Encoding: UTF-8\n",
       "Language: en\n",
       "Country: null\n",
       "--></g></svg>"
      ]
     },
     "execution_count": 8,
     "metadata": {},
     "output_type": "execute_result"
    }
   ],
   "source": [
    "%viz --style=\"COMPTREE\" --view=\"MIXED\" \"AliasImport\""
   ]
  },
  {
   "cell_type": "code",
   "execution_count": 9,
   "id": "70a4f003",
   "metadata": {
    "execution": {
     "iopub.execute_input": "2022-06-20T11:14:58.965628Z",
     "iopub.status.busy": "2022-06-20T11:14:58.965375Z",
     "iopub.status.idle": "2022-06-20T11:14:59.010718Z",
     "shell.execute_reply": "2022-06-20T11:14:59.010317Z"
    }
   },
   "outputs": [
    {
     "data": {
      "image/svg+xml": [
       "<?xml version=\"1.0\" encoding=\"UTF-8\" standalone=\"no\"?><svg xmlns=\"http://www.w3.org/2000/svg\" xmlns:xlink=\"http://www.w3.org/1999/xlink\" contentScriptType=\"application/ecmascript\" contentStyleType=\"text/css\" height=\"360px\" preserveAspectRatio=\"none\" style=\"width:293px;height:360px;\" version=\"1.1\" viewBox=\"0 0 293 360\" width=\"293px\" zoomAndPan=\"magnify\"><defs/><g><!--MD5=[fbc87193dbaf4d95561dea2c320d4a47]\n",
       "cluster E1--><a href=\"psysml:abc348a5-e8b0-46f2-97be-35eb1a9e9199\" target=\"_top\" title=\"psysml:abc348a5-e8b0-46f2-97be-35eb1a9e9199\" xlink:actuate=\"onRequest\" xlink:href=\"psysml:abc348a5-e8b0-46f2-97be-35eb1a9e9199\" xlink:show=\"new\" xlink:title=\"psysml:abc348a5-e8b0-46f2-97be-35eb1a9e9199\" xlink:type=\"simple\"><polygon fill=\"#FFFFFF\" points=\"16,6,97,6,104,28.2969,271,28.2969,271,348,16,348,16,6\" style=\"stroke: #000000; stroke-width: 1.5;\"/><line style=\"stroke: #000000; stroke-width: 1.5;\" x1=\"16\" x2=\"104\" y1=\"28.2969\" y2=\"28.2969\"/><text fill=\"#000000\" font-family=\"sans-serif\" font-size=\"14\" font-weight=\"bold\" lengthAdjust=\"spacingAndGlyphs\" textLength=\"75\" x=\"20\" y=\"20.9951\">AliasImport</text></a><!--MD5=[e4f7fae6ed58524ba242bb0b0d3be6b7]\n",
       "cluster E2--><a href=\"psysml:c5390b7c-a915-4e3b-b35e-1c2257f021d2\" target=\"_top\" title=\"psysml:c5390b7c-a915-4e3b-b35e-1c2257f021d2\" xlink:actuate=\"onRequest\" xlink:href=\"psysml:c5390b7c-a915-4e3b-b35e-1c2257f021d2\" xlink:show=\"new\" xlink:title=\"psysml:c5390b7c-a915-4e3b-b35e-1c2257f021d2\" xlink:type=\"simple\"><polygon fill=\"#FFFFFF\" points=\"40,227,119,227,126,249.2969,247,249.2969,247,324,40,324,40,227\" style=\"stroke: #000000; stroke-width: 1.5;\"/><line style=\"stroke: #000000; stroke-width: 1.5;\" x1=\"40\" x2=\"126\" y1=\"249.2969\" y2=\"249.2969\"/><text fill=\"#000000\" font-family=\"sans-serif\" font-size=\"14\" font-weight=\"bold\" lengthAdjust=\"spacingAndGlyphs\" textLength=\"73\" x=\"44\" y=\"241.9951\">Definitions</text></a><!--MD5=[de5ec2e2e8f62f467e546659f5068c88]\n",
       "cluster E5--><a href=\"psysml:ccb2f7ee-bd35-4426-a662-4cf2ccb8ae79\" target=\"_top\" title=\"psysml:ccb2f7ee-bd35-4426-a662-4cf2ccb8ae79\" xlink:actuate=\"onRequest\" xlink:href=\"psysml:ccb2f7ee-bd35-4426-a662-4cf2ccb8ae79\" xlink:show=\"new\" xlink:title=\"psysml:ccb2f7ee-bd35-4426-a662-4cf2ccb8ae79\" xlink:type=\"simple\"><polygon fill=\"#FFFFFF\" points=\"56,57,114,57,121,79.2969,229,79.2969,229,170,56,170,56,57\" style=\"stroke: #000000; stroke-width: 1.5;\"/><line style=\"stroke: #000000; stroke-width: 1.5;\" x1=\"56\" x2=\"121\" y1=\"79.2969\" y2=\"79.2969\"/><text fill=\"#000000\" font-family=\"sans-serif\" font-size=\"14\" font-weight=\"bold\" lengthAdjust=\"spacingAndGlyphs\" textLength=\"52\" x=\"60\" y=\"71.9951\">Usages</text></a><!--MD5=[09b614a08d8cba4a07c9adeb5e0fee81]\n",
       "class E3--><a href=\"psysml:659a1dfe-6b8d-4702-b827-b31a03710007\" target=\"_top\" title=\"psysml:659a1dfe-6b8d-4702-b827-b31a03710007\" xlink:actuate=\"onRequest\" xlink:href=\"psysml:659a1dfe-6b8d-4702-b827-b31a03710007\" xlink:show=\"new\" xlink:title=\"psysml:659a1dfe-6b8d-4702-b827-b31a03710007\" xlink:type=\"simple\"><rect fill=\"#FFFFFF\" height=\"45.9375\" id=\"E3\" style=\"stroke: #383838; stroke-width: 1.5;\" width=\"70\" x=\"161\" y=\"262\"/><text fill=\"#000000\" font-family=\"sans-serif\" font-size=\"12\" font-style=\"italic\" lengthAdjust=\"spacingAndGlyphs\" textLength=\"68\" x=\"162\" y=\"278.1387\">«part  def»</text><text fill=\"#000000\" font-family=\"sans-serif\" font-size=\"12\" lengthAdjust=\"spacingAndGlyphs\" textLength=\"45\" x=\"173.5\" y=\"292.1074\">Vehicle</text><line style=\"stroke: #383838; stroke-width: 1.5;\" x1=\"162\" x2=\"230\" y1=\"299.9375\" y2=\"299.9375\"/></a><!--MD5=[ebbe1d658d1005bcc118a6aa81145e00]\n",
       "class E4--><a href=\"psysml:659a1dfe-6b8d-4702-b827-b31a03710007\" target=\"_top\" title=\"psysml:659a1dfe-6b8d-4702-b827-b31a03710007\" xlink:actuate=\"onRequest\" xlink:href=\"psysml:659a1dfe-6b8d-4702-b827-b31a03710007\" xlink:show=\"new\" xlink:title=\"psysml:659a1dfe-6b8d-4702-b827-b31a03710007\" xlink:type=\"simple\"><rect fill=\"#FFFFFF\" height=\"45.9375\" id=\"E4\" style=\"stroke: #383838; stroke-width: 1.5;\" width=\"70\" x=\"56\" y=\"262\"/><text fill=\"#000000\" font-family=\"sans-serif\" font-size=\"12\" font-style=\"italic\" lengthAdjust=\"spacingAndGlyphs\" textLength=\"68\" x=\"57\" y=\"278.1387\">«part  def»</text><text fill=\"#000000\" font-family=\"sans-serif\" font-size=\"12\" lengthAdjust=\"spacingAndGlyphs\" textLength=\"45\" x=\"68.5\" y=\"292.1074\">Vehicle</text><line style=\"stroke: #383838; stroke-width: 1.5;\" x1=\"57\" x2=\"125\" y1=\"299.9375\" y2=\"299.9375\"/></a><!--MD5=[60a26617385b1d2d0262a64233df1f8d]\n",
       "class E6--><a href=\"psysml:783d7c15-c905-4c38-b30b-d01c61187577\" target=\"_top\" title=\"psysml:783d7c15-c905-4c38-b30b-d01c61187577\" xlink:actuate=\"onRequest\" xlink:href=\"psysml:783d7c15-c905-4c38-b30b-d01c61187577\" xlink:show=\"new\" xlink:title=\"psysml:783d7c15-c905-4c38-b30b-d01c61187577\" xlink:type=\"simple\"><rect fill=\"#FFFFFF\" height=\"45.9375\" id=\"E6\" rx=\"10\" ry=\"10\" style=\"stroke: #383838; stroke-width: 1.5;\" width=\"106\" x=\"99\" y=\"100\"/><text fill=\"#000000\" font-family=\"sans-serif\" font-size=\"12\" font-style=\"italic\" lengthAdjust=\"spacingAndGlyphs\" textLength=\"40\" x=\"132\" y=\"116.1387\">«part»</text><text fill=\"#000000\" font-family=\"sans-serif\" font-size=\"12\" lengthAdjust=\"spacingAndGlyphs\" textLength=\"96\" x=\"102\" y=\"130.1074\">vehicle: Vehicle</text><line style=\"stroke: #383838; stroke-width: 1.5;\" x1=\"100\" x2=\"204\" y1=\"137.9375\" y2=\"137.9375\"/></a><!--MD5=[1c62de2aa5b76f0fb657ff8443a1a700]\n",
       "link E5 to E4--><a href=\"psysml:8882fd51-4fce-4e08-923b-d836bd7610d5\" target=\"_top\" title=\"psysml:8882fd51-4fce-4e08-923b-d836bd7610d5\" xlink:actuate=\"onRequest\" xlink:href=\"psysml:8882fd51-4fce-4e08-923b-d836bd7610d5\" xlink:show=\"new\" xlink:title=\"psysml:8882fd51-4fce-4e08-923b-d836bd7610d5\" xlink:type=\"simple\"><path d=\"M68.2333,170.0242 C68.2486,170.1912 68.264,170.3582 68.2793,170.5251 C68.3407,171.1927 68.402,171.8594 68.4631,172.5245 C68.5854,173.8547 68.707,175.1785 68.8277,176.4909 C69.069,179.1157 69.306,181.6948 69.5352,184.1877 C69.9935,189.1736 70.4202,193.8147 70.7853,197.7869 C71.5156,205.7313 72,211 72,211 C72,211 78.52,236.05 83.92,256.81 \" fill=\"none\" id=\"E5-&gt;E4\" style=\"stroke: #383838; stroke-width: 1.0; stroke-dasharray: 7.0,7.0;\"/><polygon fill=\"#383838\" points=\"85.2,261.7,86.8103,251.9837,83.9437,256.8604,79.067,253.9938,85.2,261.7\" style=\"stroke: #383838; stroke-width: 1.0;\"/><text fill=\"#000000\" font-family=\"sans-serif\" font-size=\"13\" lengthAdjust=\"spacingAndGlyphs\" textLength=\"58\" x=\"73\" y=\"207.0669\">«import»</text></a><!--MD5=[f667431f98296947986a1a7595a31603]\n",
       "link E6 to E4--><a href=\"psysml:db353f76-c455-46cb-b105-6bd8058807fe\" target=\"_top\" title=\"psysml:db353f76-c455-46cb-b105-6bd8058807fe\" xlink:actuate=\"onRequest\" xlink:href=\"psysml:db353f76-c455-46cb-b105-6bd8058807fe\" xlink:show=\"new\" xlink:title=\"psysml:db353f76-c455-46cb-b105-6bd8058807fe\" xlink:type=\"simple\"><path d=\"M147.88,146.4 C143.14,172.18 136,211 136,211 C136,211 125.97,227.27 115.38,244.45 \" fill=\"none\" id=\"E6-&gt;E4\" style=\"stroke: #383838; stroke-width: 1.0;\"/><polygon fill=\"#FFFFFF\" points=\"104.75,261.7,108.7639,241.8534,120.6806,249.2013,104.75,261.7\" style=\"stroke: #383838; stroke-width: 1.0;\"/><ellipse cx=\"113.4579\" cy=\"238.0513\" fill=\"#383838\" rx=\"2\" ry=\"2\" style=\"stroke: #383838; stroke-width: 1.0;\"/><ellipse cx=\"121.9699\" cy=\"243.2998\" fill=\"#383838\" rx=\"2\" ry=\"2\" style=\"stroke: #383838; stroke-width: 1.0;\"/></a><!--MD5=[81ebfda1d300ab69ed5ad42f87564f52]\n",
       "@startuml\r\n",
       "skinparam linetype polyline\r\n",
       "skinparam monochrome true\r\n",
       "skinparam classbackgroundcolor white\r\n",
       "skinparam shadowing false\r\n",
       "skinparam wrapWidth 300\r\n",
       "hide circle\r\n",
       "\r\n",
       "package \"AliasImport\" as E1  [[psysml:abc348a5-e8b0-46f2-97be-35eb1a9e9199 ]]  {\r\n",
       "package \"Definitions\" as E2  [[psysml:c5390b7c-a915-4e3b-b35e-1c2257f021d2 ]]  {\r\n",
       "comp def \"Vehicle\" as E3  <<(T,blue) part  def>> [[psysml:659a1dfe-6b8d-4702-b827-b31a03710007 ]] {\r\n",
       "}\r\n",
       "comp def \"Vehicle\" as E4  <<(T,blue) part  def>> [[psysml:659a1dfe-6b8d-4702-b827-b31a03710007 ]] {\r\n",
       "}\r\n",
       "}\r\n",
       "package \"Usages\" as E5  [[psysml:ccb2f7ee-bd35-4426-a662-4cf2ccb8ae79 ]]  {\r\n",
       "comp usage \"vehicle: Vehicle \" as E6  <<(T,blue) part>> [[psysml:783d7c15-c905-4c38-b30b-d01c61187577 ]] {\r\n",
       "}\r\n",
       "}\r\n",
       "}\r\n",
       "E5 ..> E4 [[psysml:8882fd51-4fce-4e08-923b-d836bd7610d5 ]] : <<import>>\r\n",
       "E6 - -:|> E4 [[psysml:db353f76-c455-46cb-b105-6bd8058807fe ]] \r\n",
       "@enduml\r\n",
       "\n",
       "PlantUML version 1.2020.13(Sat Jun 13 12:26:38 UTC 2020)\n",
       "(EPL source distribution)\n",
       "Java Runtime: OpenJDK Runtime Environment\n",
       "JVM: OpenJDK 64-Bit Server VM\n",
       "Default Encoding: UTF-8\n",
       "Language: en\n",
       "Country: null\n",
       "--></g></svg>"
      ]
     },
     "execution_count": 9,
     "metadata": {},
     "output_type": "execute_result"
    }
   ],
   "source": [
    "%viz --style=\"POLYLINE\" --view=\"Default\" \"AliasImport\""
   ]
  },
  {
   "cell_type": "code",
   "execution_count": 10,
   "id": "62432d78",
   "metadata": {
    "execution": {
     "iopub.execute_input": "2022-06-20T11:14:59.060750Z",
     "iopub.status.busy": "2022-06-20T11:14:59.060298Z",
     "iopub.status.idle": "2022-06-20T11:14:59.112983Z",
     "shell.execute_reply": "2022-06-20T11:14:59.112583Z"
    }
   },
   "outputs": [
    {
     "data": {
      "image/svg+xml": [
       "<?xml version=\"1.0\" encoding=\"UTF-8\" standalone=\"no\"?><svg xmlns=\"http://www.w3.org/2000/svg\" xmlns:xlink=\"http://www.w3.org/1999/xlink\" contentScriptType=\"application/ecmascript\" contentStyleType=\"text/css\" height=\"360px\" preserveAspectRatio=\"none\" style=\"width:293px;height:360px;\" version=\"1.1\" viewBox=\"0 0 293 360\" width=\"293px\" zoomAndPan=\"magnify\"><defs/><g><!--MD5=[fbc87193dbaf4d95561dea2c320d4a47]\n",
       "cluster E1--><a href=\"psysml:abc348a5-e8b0-46f2-97be-35eb1a9e9199\" target=\"_top\" title=\"psysml:abc348a5-e8b0-46f2-97be-35eb1a9e9199\" xlink:actuate=\"onRequest\" xlink:href=\"psysml:abc348a5-e8b0-46f2-97be-35eb1a9e9199\" xlink:show=\"new\" xlink:title=\"psysml:abc348a5-e8b0-46f2-97be-35eb1a9e9199\" xlink:type=\"simple\"><polygon fill=\"#FFFFFF\" points=\"16,6,97,6,104,28.2969,271,28.2969,271,348,16,348,16,6\" style=\"stroke: #000000; stroke-width: 1.5;\"/><line style=\"stroke: #000000; stroke-width: 1.5;\" x1=\"16\" x2=\"104\" y1=\"28.2969\" y2=\"28.2969\"/><text fill=\"#000000\" font-family=\"sans-serif\" font-size=\"14\" font-weight=\"bold\" lengthAdjust=\"spacingAndGlyphs\" textLength=\"75\" x=\"20\" y=\"20.9951\">AliasImport</text></a><!--MD5=[e4f7fae6ed58524ba242bb0b0d3be6b7]\n",
       "cluster E2--><a href=\"psysml:c5390b7c-a915-4e3b-b35e-1c2257f021d2\" target=\"_top\" title=\"psysml:c5390b7c-a915-4e3b-b35e-1c2257f021d2\" xlink:actuate=\"onRequest\" xlink:href=\"psysml:c5390b7c-a915-4e3b-b35e-1c2257f021d2\" xlink:show=\"new\" xlink:title=\"psysml:c5390b7c-a915-4e3b-b35e-1c2257f021d2\" xlink:type=\"simple\"><polygon fill=\"#FFFFFF\" points=\"40,227,119,227,126,249.2969,247,249.2969,247,324,40,324,40,227\" style=\"stroke: #000000; stroke-width: 1.5;\"/><line style=\"stroke: #000000; stroke-width: 1.5;\" x1=\"40\" x2=\"126\" y1=\"249.2969\" y2=\"249.2969\"/><text fill=\"#000000\" font-family=\"sans-serif\" font-size=\"14\" font-weight=\"bold\" lengthAdjust=\"spacingAndGlyphs\" textLength=\"73\" x=\"44\" y=\"241.9951\">Definitions</text></a><!--MD5=[de5ec2e2e8f62f467e546659f5068c88]\n",
       "cluster E5--><a href=\"psysml:ccb2f7ee-bd35-4426-a662-4cf2ccb8ae79\" target=\"_top\" title=\"psysml:ccb2f7ee-bd35-4426-a662-4cf2ccb8ae79\" xlink:actuate=\"onRequest\" xlink:href=\"psysml:ccb2f7ee-bd35-4426-a662-4cf2ccb8ae79\" xlink:show=\"new\" xlink:title=\"psysml:ccb2f7ee-bd35-4426-a662-4cf2ccb8ae79\" xlink:type=\"simple\"><polygon fill=\"#FFFFFF\" points=\"56,57,114,57,121,79.2969,229,79.2969,229,170,56,170,56,57\" style=\"stroke: #000000; stroke-width: 1.5;\"/><line style=\"stroke: #000000; stroke-width: 1.5;\" x1=\"56\" x2=\"121\" y1=\"79.2969\" y2=\"79.2969\"/><text fill=\"#000000\" font-family=\"sans-serif\" font-size=\"14\" font-weight=\"bold\" lengthAdjust=\"spacingAndGlyphs\" textLength=\"52\" x=\"60\" y=\"71.9951\">Usages</text></a><!--MD5=[09b614a08d8cba4a07c9adeb5e0fee81]\n",
       "class E3--><a href=\"psysml:659a1dfe-6b8d-4702-b827-b31a03710007\" target=\"_top\" title=\"psysml:659a1dfe-6b8d-4702-b827-b31a03710007\" xlink:actuate=\"onRequest\" xlink:href=\"psysml:659a1dfe-6b8d-4702-b827-b31a03710007\" xlink:show=\"new\" xlink:title=\"psysml:659a1dfe-6b8d-4702-b827-b31a03710007\" xlink:type=\"simple\"><rect fill=\"#FFFFFF\" height=\"45.9375\" id=\"E3\" style=\"stroke: #383838; stroke-width: 1.5;\" width=\"70\" x=\"161\" y=\"262\"/><text fill=\"#000000\" font-family=\"sans-serif\" font-size=\"12\" font-style=\"italic\" lengthAdjust=\"spacingAndGlyphs\" textLength=\"68\" x=\"162\" y=\"278.1387\">«part  def»</text><text fill=\"#000000\" font-family=\"sans-serif\" font-size=\"12\" lengthAdjust=\"spacingAndGlyphs\" textLength=\"45\" x=\"173.5\" y=\"292.1074\">Vehicle</text><line style=\"stroke: #383838; stroke-width: 1.5;\" x1=\"162\" x2=\"230\" y1=\"299.9375\" y2=\"299.9375\"/></a><!--MD5=[ebbe1d658d1005bcc118a6aa81145e00]\n",
       "class E4--><a href=\"psysml:659a1dfe-6b8d-4702-b827-b31a03710007\" target=\"_top\" title=\"psysml:659a1dfe-6b8d-4702-b827-b31a03710007\" xlink:actuate=\"onRequest\" xlink:href=\"psysml:659a1dfe-6b8d-4702-b827-b31a03710007\" xlink:show=\"new\" xlink:title=\"psysml:659a1dfe-6b8d-4702-b827-b31a03710007\" xlink:type=\"simple\"><rect fill=\"#FFFFFF\" height=\"45.9375\" id=\"E4\" style=\"stroke: #383838; stroke-width: 1.5;\" width=\"70\" x=\"56\" y=\"262\"/><text fill=\"#000000\" font-family=\"sans-serif\" font-size=\"12\" font-style=\"italic\" lengthAdjust=\"spacingAndGlyphs\" textLength=\"68\" x=\"57\" y=\"278.1387\">«part  def»</text><text fill=\"#000000\" font-family=\"sans-serif\" font-size=\"12\" lengthAdjust=\"spacingAndGlyphs\" textLength=\"45\" x=\"68.5\" y=\"292.1074\">Vehicle</text><line style=\"stroke: #383838; stroke-width: 1.5;\" x1=\"57\" x2=\"125\" y1=\"299.9375\" y2=\"299.9375\"/></a><!--MD5=[60a26617385b1d2d0262a64233df1f8d]\n",
       "class E6--><a href=\"psysml:783d7c15-c905-4c38-b30b-d01c61187577\" target=\"_top\" title=\"psysml:783d7c15-c905-4c38-b30b-d01c61187577\" xlink:actuate=\"onRequest\" xlink:href=\"psysml:783d7c15-c905-4c38-b30b-d01c61187577\" xlink:show=\"new\" xlink:title=\"psysml:783d7c15-c905-4c38-b30b-d01c61187577\" xlink:type=\"simple\"><rect fill=\"#FFFFFF\" height=\"45.9375\" id=\"E6\" rx=\"10\" ry=\"10\" style=\"stroke: #383838; stroke-width: 1.5;\" width=\"106\" x=\"99\" y=\"100\"/><text fill=\"#000000\" font-family=\"sans-serif\" font-size=\"12\" font-style=\"italic\" lengthAdjust=\"spacingAndGlyphs\" textLength=\"40\" x=\"132\" y=\"116.1387\">«part»</text><text fill=\"#000000\" font-family=\"sans-serif\" font-size=\"12\" lengthAdjust=\"spacingAndGlyphs\" textLength=\"96\" x=\"102\" y=\"130.1074\">vehicle: Vehicle</text><line style=\"stroke: #383838; stroke-width: 1.5;\" x1=\"100\" x2=\"204\" y1=\"137.9375\" y2=\"137.9375\"/></a><!--MD5=[1c62de2aa5b76f0fb657ff8443a1a700]\n",
       "link E5 to E4--><a href=\"psysml:8882fd51-4fce-4e08-923b-d836bd7610d5\" target=\"_top\" title=\"psysml:8882fd51-4fce-4e08-923b-d836bd7610d5\" xlink:actuate=\"onRequest\" xlink:href=\"psysml:8882fd51-4fce-4e08-923b-d836bd7610d5\" xlink:show=\"new\" xlink:title=\"psysml:8882fd51-4fce-4e08-923b-d836bd7610d5\" xlink:type=\"simple\"><path d=\"M68.2333,170.0242 C68.2486,170.1912 68.264,170.3582 68.2793,170.5251 C68.3407,171.1927 68.402,171.8594 68.4631,172.5245 C68.5854,173.8547 68.707,175.1785 68.8277,176.4909 C69.069,179.1157 69.306,181.6948 69.5352,184.1877 C69.9935,189.1736 70.4202,193.8147 70.7853,197.7869 C71.5156,205.7313 72,211 72,211 C72,211 78.52,236.05 83.92,256.81 \" fill=\"none\" id=\"E5-&gt;E4\" style=\"stroke: #383838; stroke-width: 1.0; stroke-dasharray: 7.0,7.0;\"/><polygon fill=\"#383838\" points=\"85.2,261.7,86.8103,251.9837,83.9437,256.8604,79.067,253.9938,85.2,261.7\" style=\"stroke: #383838; stroke-width: 1.0;\"/><text fill=\"#000000\" font-family=\"sans-serif\" font-size=\"13\" lengthAdjust=\"spacingAndGlyphs\" textLength=\"58\" x=\"73\" y=\"207.0669\">«import»</text></a><!--MD5=[f667431f98296947986a1a7595a31603]\n",
       "link E6 to E4--><a href=\"psysml:db353f76-c455-46cb-b105-6bd8058807fe\" target=\"_top\" title=\"psysml:db353f76-c455-46cb-b105-6bd8058807fe\" xlink:actuate=\"onRequest\" xlink:href=\"psysml:db353f76-c455-46cb-b105-6bd8058807fe\" xlink:show=\"new\" xlink:title=\"psysml:db353f76-c455-46cb-b105-6bd8058807fe\" xlink:type=\"simple\"><path d=\"M147.88,146.4 C143.14,172.18 136,211 136,211 C136,211 125.97,227.27 115.38,244.45 \" fill=\"none\" id=\"E6-&gt;E4\" style=\"stroke: #383838; stroke-width: 1.0;\"/><polygon fill=\"#FFFFFF\" points=\"104.75,261.7,108.7639,241.8534,120.6806,249.2013,104.75,261.7\" style=\"stroke: #383838; stroke-width: 1.0;\"/><ellipse cx=\"113.4579\" cy=\"238.0513\" fill=\"#383838\" rx=\"2\" ry=\"2\" style=\"stroke: #383838; stroke-width: 1.0;\"/><ellipse cx=\"121.9699\" cy=\"243.2998\" fill=\"#383838\" rx=\"2\" ry=\"2\" style=\"stroke: #383838; stroke-width: 1.0;\"/></a><!--MD5=[81ebfda1d300ab69ed5ad42f87564f52]\n",
       "@startuml\r\n",
       "skinparam linetype polyline\r\n",
       "skinparam monochrome true\r\n",
       "skinparam classbackgroundcolor white\r\n",
       "skinparam shadowing false\r\n",
       "skinparam wrapWidth 300\r\n",
       "hide circle\r\n",
       "\r\n",
       "package \"AliasImport\" as E1  [[psysml:abc348a5-e8b0-46f2-97be-35eb1a9e9199 ]]  {\r\n",
       "package \"Definitions\" as E2  [[psysml:c5390b7c-a915-4e3b-b35e-1c2257f021d2 ]]  {\r\n",
       "comp def \"Vehicle\" as E3  <<(T,blue) part  def>> [[psysml:659a1dfe-6b8d-4702-b827-b31a03710007 ]] {\r\n",
       "}\r\n",
       "comp def \"Vehicle\" as E4  <<(T,blue) part  def>> [[psysml:659a1dfe-6b8d-4702-b827-b31a03710007 ]] {\r\n",
       "}\r\n",
       "}\r\n",
       "package \"Usages\" as E5  [[psysml:ccb2f7ee-bd35-4426-a662-4cf2ccb8ae79 ]]  {\r\n",
       "comp usage \"vehicle: Vehicle \" as E6  <<(T,blue) part>> [[psysml:783d7c15-c905-4c38-b30b-d01c61187577 ]] {\r\n",
       "}\r\n",
       "}\r\n",
       "}\r\n",
       "E5 ..> E4 [[psysml:8882fd51-4fce-4e08-923b-d836bd7610d5 ]] : <<import>>\r\n",
       "E6 - -:|> E4 [[psysml:db353f76-c455-46cb-b105-6bd8058807fe ]] \r\n",
       "@enduml\r\n",
       "\n",
       "PlantUML version 1.2020.13(Sat Jun 13 12:26:38 UTC 2020)\n",
       "(EPL source distribution)\n",
       "Java Runtime: OpenJDK Runtime Environment\n",
       "JVM: OpenJDK 64-Bit Server VM\n",
       "Default Encoding: UTF-8\n",
       "Language: en\n",
       "Country: null\n",
       "--></g></svg>"
      ]
     },
     "execution_count": 10,
     "metadata": {},
     "output_type": "execute_result"
    }
   ],
   "source": [
    "%viz --style=\"POLYLINE\" --view=\"Tree\" \"AliasImport\""
   ]
  },
  {
   "cell_type": "code",
   "execution_count": 11,
   "id": "4b9901f6",
   "metadata": {
    "execution": {
     "iopub.execute_input": "2022-06-20T11:14:59.162634Z",
     "iopub.status.busy": "2022-06-20T11:14:59.162180Z",
     "iopub.status.idle": "2022-06-20T11:14:59.169067Z",
     "shell.execute_reply": "2022-06-20T11:14:59.169382Z"
    }
   },
   "outputs": [
    {
     "data": {
      "image/svg+xml": [
       "<?xml version=\"1.0\" encoding=\"UTF-8\" standalone=\"no\"?><svg xmlns=\"http://www.w3.org/2000/svg\" xmlns:xlink=\"http://www.w3.org/1999/xlink\" contentScriptType=\"application/ecmascript\" contentStyleType=\"text/css\" height=\"12px\" preserveAspectRatio=\"none\" style=\"width:12px;height:12px;\" version=\"1.1\" viewBox=\"0 0 12 12\" width=\"12px\" zoomAndPan=\"magnify\"><defs/><g><!--MD5=[896ac0e7a515d8dd7765a661cb4ee08b]\n",
       "@startuml\r\n",
       "skinparam linetype polyline\r\n",
       "skinparam monochrome true\r\n",
       "skinparam classbackgroundcolor white\r\n",
       "skinparam shadowing false\r\n",
       "skinparam wrapWidth 300\r\n",
       "hide circle\r\n",
       "\r\n",
       "@enduml\r\n",
       "\n",
       "PlantUML version 1.2020.13(Sat Jun 13 12:26:38 UTC 2020)\n",
       "(EPL source distribution)\n",
       "Java Runtime: OpenJDK Runtime Environment\n",
       "JVM: OpenJDK 64-Bit Server VM\n",
       "Default Encoding: UTF-8\n",
       "Language: en\n",
       "Country: null\n",
       "--></g></svg>"
      ]
     },
     "execution_count": 11,
     "metadata": {},
     "output_type": "execute_result"
    }
   ],
   "source": [
    "%viz --style=\"POLYLINE\" --view=\"State\" \"AliasImport\""
   ]
  },
  {
   "cell_type": "code",
   "execution_count": 12,
   "id": "9bc0882c",
   "metadata": {
    "execution": {
     "iopub.execute_input": "2022-06-20T11:14:59.219836Z",
     "iopub.status.busy": "2022-06-20T11:14:59.219386Z",
     "iopub.status.idle": "2022-06-20T11:14:59.275076Z",
     "shell.execute_reply": "2022-06-20T11:14:59.274510Z"
    }
   },
   "outputs": [
    {
     "data": {
      "image/svg+xml": [
       "<?xml version=\"1.0\" encoding=\"UTF-8\" standalone=\"no\"?><svg xmlns=\"http://www.w3.org/2000/svg\" xmlns:xlink=\"http://www.w3.org/1999/xlink\" contentScriptType=\"application/ecmascript\" contentStyleType=\"text/css\" height=\"351px\" preserveAspectRatio=\"none\" style=\"width:302px;height:351px;\" version=\"1.1\" viewBox=\"0 0 302 351\" width=\"302px\" zoomAndPan=\"magnify\"><defs/><g><!--MD5=[fbc87193dbaf4d95561dea2c320d4a47]\n",
       "cluster E1--><a href=\"psysml:abc348a5-e8b0-46f2-97be-35eb1a9e9199\" target=\"_top\" title=\"psysml:abc348a5-e8b0-46f2-97be-35eb1a9e9199\" xlink:actuate=\"onRequest\" xlink:href=\"psysml:abc348a5-e8b0-46f2-97be-35eb1a9e9199\" xlink:show=\"new\" xlink:title=\"psysml:abc348a5-e8b0-46f2-97be-35eb1a9e9199\" xlink:type=\"simple\"><polygon fill=\"#FFFFFF\" points=\"16,6,97,6,104,28.2969,280,28.2969,280,339,16,339,16,6\" style=\"stroke: #000000; stroke-width: 1.5;\"/><line style=\"stroke: #000000; stroke-width: 1.5;\" x1=\"16\" x2=\"104\" y1=\"28.2969\" y2=\"28.2969\"/><text fill=\"#000000\" font-family=\"sans-serif\" font-size=\"14\" font-weight=\"bold\" lengthAdjust=\"spacingAndGlyphs\" textLength=\"75\" x=\"20\" y=\"20.9951\">AliasImport</text></a><!--MD5=[e4f7fae6ed58524ba242bb0b0d3be6b7]\n",
       "cluster E2--><a href=\"psysml:c5390b7c-a915-4e3b-b35e-1c2257f021d2\" target=\"_top\" title=\"psysml:c5390b7c-a915-4e3b-b35e-1c2257f021d2\" xlink:actuate=\"onRequest\" xlink:href=\"psysml:c5390b7c-a915-4e3b-b35e-1c2257f021d2\" xlink:show=\"new\" xlink:title=\"psysml:c5390b7c-a915-4e3b-b35e-1c2257f021d2\" xlink:type=\"simple\"><polygon fill=\"#FFFFFF\" points=\"40,221,119,221,126,243.2969,256,243.2969,256,315,40,315,40,221\" style=\"stroke: #000000; stroke-width: 1.5;\"/><line style=\"stroke: #000000; stroke-width: 1.5;\" x1=\"40\" x2=\"126\" y1=\"243.2969\" y2=\"243.2969\"/><text fill=\"#000000\" font-family=\"sans-serif\" font-size=\"14\" font-weight=\"bold\" lengthAdjust=\"spacingAndGlyphs\" textLength=\"73\" x=\"44\" y=\"235.9951\">Definitions</text></a><!--MD5=[de5ec2e2e8f62f467e546659f5068c88]\n",
       "cluster E5--><a href=\"psysml:ccb2f7ee-bd35-4426-a662-4cf2ccb8ae79\" target=\"_top\" title=\"psysml:ccb2f7ee-bd35-4426-a662-4cf2ccb8ae79\" xlink:actuate=\"onRequest\" xlink:href=\"psysml:ccb2f7ee-bd35-4426-a662-4cf2ccb8ae79\" xlink:show=\"new\" xlink:title=\"psysml:ccb2f7ee-bd35-4426-a662-4cf2ccb8ae79\" xlink:type=\"simple\"><polygon fill=\"#FFFFFF\" points=\"56,57,114,57,121,79.2969,230,79.2969,230,164,56,164,56,57\" style=\"stroke: #000000; stroke-width: 1.5;\"/><line style=\"stroke: #000000; stroke-width: 1.5;\" x1=\"56\" x2=\"121\" y1=\"79.2969\" y2=\"79.2969\"/><text fill=\"#000000\" font-family=\"sans-serif\" font-size=\"14\" font-weight=\"bold\" lengthAdjust=\"spacingAndGlyphs\" textLength=\"52\" x=\"60\" y=\"71.9951\">Usages</text></a><g id=\"E1.E2.E3\"><a href=\"psysml:659a1dfe-6b8d-4702-b827-b31a03710007\" target=\"_top\" title=\"psysml:659a1dfe-6b8d-4702-b827-b31a03710007\" xlink:actuate=\"onRequest\" xlink:href=\"psysml:659a1dfe-6b8d-4702-b827-b31a03710007\" xlink:show=\"new\" xlink:title=\"psysml:659a1dfe-6b8d-4702-b827-b31a03710007\" xlink:type=\"simple\"><rect fill=\"#FFFFFF\" height=\"42.9375\" id=\"E3\" style=\"stroke: #383838; stroke-width: 1.5;\" width=\"75\" x=\"165.5\" y=\"256\"/><rect fill=\"#F8F8F8\" height=\"37.9375\" style=\"stroke: #383838; stroke-width: 1.5;\" width=\"75\" x=\"165.5\" y=\"256\"/><text fill=\"#000000\" font-family=\"sans-serif\" font-size=\"12\" font-style=\"italic\" lengthAdjust=\"spacingAndGlyphs\" textLength=\"68\" x=\"169\" y=\"272.1387\">«part  def»</text><text fill=\"#000000\" font-family=\"sans-serif\" font-size=\"12\" lengthAdjust=\"spacingAndGlyphs\" textLength=\"45\" x=\"180.5\" y=\"286.1074\">Vehicle</text></a></g><g id=\"E1.E2.E4\"><a href=\"psysml:659a1dfe-6b8d-4702-b827-b31a03710007\" target=\"_top\" title=\"psysml:659a1dfe-6b8d-4702-b827-b31a03710007\" xlink:actuate=\"onRequest\" xlink:href=\"psysml:659a1dfe-6b8d-4702-b827-b31a03710007\" xlink:show=\"new\" xlink:title=\"psysml:659a1dfe-6b8d-4702-b827-b31a03710007\" xlink:type=\"simple\"><rect fill=\"#FFFFFF\" height=\"42.9375\" id=\"E4\" style=\"stroke: #383838; stroke-width: 1.5;\" width=\"75\" x=\"55.5\" y=\"256\"/><rect fill=\"#F8F8F8\" height=\"37.9375\" style=\"stroke: #383838; stroke-width: 1.5;\" width=\"75\" x=\"55.5\" y=\"256\"/><text fill=\"#000000\" font-family=\"sans-serif\" font-size=\"12\" font-style=\"italic\" lengthAdjust=\"spacingAndGlyphs\" textLength=\"68\" x=\"59\" y=\"272.1387\">«part  def»</text><text fill=\"#000000\" font-family=\"sans-serif\" font-size=\"12\" lengthAdjust=\"spacingAndGlyphs\" textLength=\"45\" x=\"70.5\" y=\"286.1074\">Vehicle</text></a></g><g id=\"E1.E5.E6\"><a href=\"psysml:783d7c15-c905-4c38-b30b-d01c61187577\" target=\"_top\" title=\"psysml:783d7c15-c905-4c38-b30b-d01c61187577\" xlink:actuate=\"onRequest\" xlink:href=\"psysml:783d7c15-c905-4c38-b30b-d01c61187577\" xlink:show=\"new\" xlink:title=\"psysml:783d7c15-c905-4c38-b30b-d01c61187577\" xlink:type=\"simple\"><rect fill=\"#FFFFFF\" height=\"40\" id=\"E6\" rx=\"10\" ry=\"10\" style=\"stroke: #383838; stroke-width: 1.5;\" width=\"107\" x=\"99.5\" y=\"100\"/><rect fill=\"#F8F8F8\" height=\"23.9688\" rx=\"10\" ry=\"10\" style=\"stroke: #F8F8F8; stroke-width: 1.5;\" width=\"107\" x=\"99.5\" y=\"100\"/><rect fill=\"#F8F8F8\" height=\"10\" style=\"stroke: #F8F8F8; stroke-width: 1.5;\" width=\"107\" x=\"99.5\" y=\"113.9688\"/><rect fill=\"none\" height=\"40\" id=\"E6\" rx=\"10\" ry=\"10\" style=\"stroke: #383838; stroke-width: 1.5;\" width=\"107\" x=\"99.5\" y=\"100\"/><text fill=\"#000000\" font-family=\"sans-serif\" font-size=\"12\" lengthAdjust=\"spacingAndGlyphs\" textLength=\"96\" x=\"105\" y=\"116.1387\">vehicle: Vehicle</text></a></g><!--MD5=[1c62de2aa5b76f0fb657ff8443a1a700]\n",
       "link E5 to E4--><a href=\"psysml:8882fd51-4fce-4e08-923b-d836bd7610d5\" target=\"_top\" title=\"psysml:8882fd51-4fce-4e08-923b-d836bd7610d5\" xlink:actuate=\"onRequest\" xlink:href=\"psysml:8882fd51-4fce-4e08-923b-d836bd7610d5\" xlink:show=\"new\" xlink:title=\"psysml:8882fd51-4fce-4e08-923b-d836bd7610d5\" xlink:type=\"simple\"><path d=\"M68.6581,164.4668 C68.6754,164.6282 68.6927,164.7896 68.71,164.951 C68.7446,165.2737 68.7791,165.5962 68.8136,165.9185 C68.8827,166.5632 68.9516,167.2069 69.0204,167.849 C69.158,169.1334 69.2949,170.4116 69.4306,171.6788 C69.7021,174.2132 69.9689,176.7035 70.2267,179.1106 C70.7424,183.9248 71.2224,188.4061 71.6333,192.2416 C72.455,199.9125 73,205 73,205 C73,205 80.12,230.46 85.86,250.99 \" fill=\"none\" id=\"E5-&gt;E4\" style=\"stroke: #383838; stroke-width: 1.0; stroke-dasharray: 7.0,7.0;\"/><polygon fill=\"#383838\" points=\"87.22,255.82,88.628,246.0723,85.8634,251.0076,80.9281,248.2429,87.22,255.82\" style=\"stroke: #383838; stroke-width: 1.0;\"/><text fill=\"#000000\" font-family=\"sans-serif\" font-size=\"13\" lengthAdjust=\"spacingAndGlyphs\" textLength=\"58\" x=\"74\" y=\"201.0669\">«import»</text></a><!--MD5=[f667431f98296947986a1a7595a31603]\n",
       "link E6 to E4--><a href=\"psysml:db353f76-c455-46cb-b105-6bd8058807fe\" target=\"_top\" title=\"psysml:db353f76-c455-46cb-b105-6bd8058807fe\" xlink:actuate=\"onRequest\" xlink:href=\"psysml:db353f76-c455-46cb-b105-6bd8058807fe\" xlink:show=\"new\" xlink:title=\"psysml:db353f76-c455-46cb-b105-6bd8058807fe\" xlink:type=\"simple\"><path d=\"M149.37,140.06 C144.65,164.84 137,205 137,205 C137,205 126.83,221.53 116.26,238.7 \" fill=\"none\" id=\"E6-&gt;E4\" style=\"stroke: #383838; stroke-width: 1.0;\"/><polygon fill=\"#FFFFFF\" points=\"105.73,255.82,109.7197,235.9685,121.6454,243.302,105.73,255.82\" style=\"stroke: #383838; stroke-width: 1.0;\"/><ellipse cx=\"114.4092\" cy=\"232.1607\" fill=\"#383838\" rx=\"2\" ry=\"2\" style=\"stroke: #383838; stroke-width: 1.0;\"/><ellipse cx=\"122.9275\" cy=\"237.3989\" fill=\"#383838\" rx=\"2\" ry=\"2\" style=\"stroke: #383838; stroke-width: 1.0;\"/></a><!--MD5=[7a965881dc77fed6ee2cf4fe5c54b58d]\n",
       "@startuml\r\n",
       "skinparam ranksep 10\r\n",
       "skinparam rectangle {\r\n",
       " backgroundColor<<block>> LightGreen\r\n",
       "}\r\n",
       "skinparam linetype polyline\r\n",
       "skinparam monochrome true\r\n",
       "skinparam classbackgroundcolor white\r\n",
       "skinparam shadowing false\r\n",
       "skinparam wrapWidth 300\r\n",
       "hide circle\r\n",
       "\r\n",
       "package \"AliasImport\" as E1  [[psysml:abc348a5-e8b0-46f2-97be-35eb1a9e9199 ]]  {\r\n",
       "package \"Definitions\" as E2  [[psysml:c5390b7c-a915-4e3b-b35e-1c2257f021d2 ]]  {\r\n",
       "rec def \"Vehicle\" as E3  <<(T,blue) part  def>> [[psysml:659a1dfe-6b8d-4702-b827-b31a03710007 ]] {\r\n",
       "}\r\n",
       "rec def \"Vehicle\" as E4  <<(T,blue) part  def>> [[psysml:659a1dfe-6b8d-4702-b827-b31a03710007 ]] {\r\n",
       "}\r\n",
       "}\r\n",
       "package \"Usages\" as E5  [[psysml:ccb2f7ee-bd35-4426-a662-4cf2ccb8ae79 ]]  {\r\n",
       "rec usage \"vehicle: Vehicle\" as E6  [[psysml:783d7c15-c905-4c38-b30b-d01c61187577 ]] {\r\n",
       "}\r\n",
       "}\r\n",
       "}\r\n",
       "E5 ..> E4 [[psysml:8882fd51-4fce-4e08-923b-d836bd7610d5 ]] : <<import>>\r\n",
       "E6 - -:|> E4 [[psysml:db353f76-c455-46cb-b105-6bd8058807fe ]] \r\n",
       "@enduml\r\n",
       "\n",
       "PlantUML version 1.2020.13(Sat Jun 13 12:26:38 UTC 2020)\n",
       "(EPL source distribution)\n",
       "Java Runtime: OpenJDK Runtime Environment\n",
       "JVM: OpenJDK 64-Bit Server VM\n",
       "Default Encoding: UTF-8\n",
       "Language: en\n",
       "Country: null\n",
       "--></g></svg>"
      ]
     },
     "execution_count": 12,
     "metadata": {},
     "output_type": "execute_result"
    }
   ],
   "source": [
    "%viz --style=\"POLYLINE\" --view=\"Interconnection\" \"AliasImport\""
   ]
  },
  {
   "cell_type": "code",
   "execution_count": 13,
   "id": "6e8e4987",
   "metadata": {
    "execution": {
     "iopub.execute_input": "2022-06-20T11:14:59.324832Z",
     "iopub.status.busy": "2022-06-20T11:14:59.324334Z",
     "iopub.status.idle": "2022-06-20T11:14:59.330440Z",
     "shell.execute_reply": "2022-06-20T11:14:59.330768Z"
    }
   },
   "outputs": [
    {
     "data": {
      "image/svg+xml": [
       "<?xml version=\"1.0\" encoding=\"UTF-8\" standalone=\"no\"?><svg xmlns=\"http://www.w3.org/2000/svg\" xmlns:xlink=\"http://www.w3.org/1999/xlink\" contentScriptType=\"application/ecmascript\" contentStyleType=\"text/css\" height=\"12px\" preserveAspectRatio=\"none\" style=\"width:12px;height:12px;\" version=\"1.1\" viewBox=\"0 0 12 12\" width=\"12px\" zoomAndPan=\"magnify\"><defs/><g><!--MD5=[97bbf32f66ccd50cbc40d92ea8f5a65e]\n",
       "@startuml\r\n",
       "skinparam ranksep 8\r\n",
       "skinparam linetype polyline\r\n",
       "skinparam monochrome true\r\n",
       "skinparam classbackgroundcolor white\r\n",
       "skinparam shadowing false\r\n",
       "skinparam wrapWidth 300\r\n",
       "hide circle\r\n",
       "\r\n",
       "@enduml\r\n",
       "\n",
       "PlantUML version 1.2020.13(Sat Jun 13 12:26:38 UTC 2020)\n",
       "(EPL source distribution)\n",
       "Java Runtime: OpenJDK Runtime Environment\n",
       "JVM: OpenJDK 64-Bit Server VM\n",
       "Default Encoding: UTF-8\n",
       "Language: en\n",
       "Country: null\n",
       "--></g></svg>"
      ]
     },
     "execution_count": 13,
     "metadata": {},
     "output_type": "execute_result"
    }
   ],
   "source": [
    "%viz --style=\"POLYLINE\" --view=\"Action\" \"AliasImport\""
   ]
  },
  {
   "cell_type": "code",
   "execution_count": 14,
   "id": "ebb31a65",
   "metadata": {
    "execution": {
     "iopub.execute_input": "2022-06-20T11:14:59.381040Z",
     "iopub.status.busy": "2022-06-20T11:14:59.380583Z",
     "iopub.status.idle": "2022-06-20T11:14:59.386822Z",
     "shell.execute_reply": "2022-06-20T11:14:59.387186Z"
    }
   },
   "outputs": [
    {
     "data": {
      "image/svg+xml": [
       "<?xml version=\"1.0\" encoding=\"UTF-8\" standalone=\"no\"?><svg xmlns=\"http://www.w3.org/2000/svg\" xmlns:xlink=\"http://www.w3.org/1999/xlink\" contentScriptType=\"application/ecmascript\" contentStyleType=\"text/css\" height=\"12px\" preserveAspectRatio=\"none\" style=\"width:12px;height:12px;\" version=\"1.1\" viewBox=\"0 0 12 12\" width=\"12px\" zoomAndPan=\"magnify\"><defs/><g><!--MD5=[dc938048236c351797870c36b62f92ad]\n",
       "@startuml\r\n",
       "skinparam roundcorner 20\r\n",
       "skinparam BoxPadding 20\r\n",
       "skinparam SequenceBoxBackgroundColor #white\r\n",
       "skinparam style strictuml\r\n",
       "skinparam maxMessageSize 100\r\n",
       "skinparam linetype polyline\r\n",
       "skinparam monochrome true\r\n",
       "skinparam classbackgroundcolor white\r\n",
       "skinparam shadowing false\r\n",
       "skinparam wrapWidth 300\r\n",
       "hide circle\r\n",
       "\r\n",
       "@enduml\r\n",
       "\n",
       "PlantUML version 1.2020.13(Sat Jun 13 12:26:38 UTC 2020)\n",
       "(EPL source distribution)\n",
       "Java Runtime: OpenJDK Runtime Environment\n",
       "JVM: OpenJDK 64-Bit Server VM\n",
       "Default Encoding: UTF-8\n",
       "Language: en\n",
       "Country: null\n",
       "--></g></svg>"
      ]
     },
     "execution_count": 14,
     "metadata": {},
     "output_type": "execute_result"
    }
   ],
   "source": [
    "%viz --style=\"POLYLINE\" --view=\"Sequence\" \"AliasImport\""
   ]
  },
  {
   "cell_type": "code",
   "execution_count": 15,
   "id": "ca438cb0",
   "metadata": {
    "execution": {
     "iopub.execute_input": "2022-06-20T11:14:59.437479Z",
     "iopub.status.busy": "2022-06-20T11:14:59.437030Z",
     "iopub.status.idle": "2022-06-20T11:14:59.474676Z",
     "shell.execute_reply": "2022-06-20T11:14:59.474288Z"
    }
   },
   "outputs": [
    {
     "data": {
      "image/svg+xml": [
       "<?xml version=\"1.0\" encoding=\"UTF-8\" standalone=\"no\"?><svg xmlns=\"http://www.w3.org/2000/svg\" xmlns:xlink=\"http://www.w3.org/1999/xlink\" contentScriptType=\"application/ecmascript\" contentStyleType=\"text/css\" height=\"360px\" preserveAspectRatio=\"none\" style=\"width:293px;height:360px;\" version=\"1.1\" viewBox=\"0 0 293 360\" width=\"293px\" zoomAndPan=\"magnify\"><defs/><g><!--MD5=[fbc87193dbaf4d95561dea2c320d4a47]\n",
       "cluster E1--><a href=\"psysml:abc348a5-e8b0-46f2-97be-35eb1a9e9199\" target=\"_top\" title=\"psysml:abc348a5-e8b0-46f2-97be-35eb1a9e9199\" xlink:actuate=\"onRequest\" xlink:href=\"psysml:abc348a5-e8b0-46f2-97be-35eb1a9e9199\" xlink:show=\"new\" xlink:title=\"psysml:abc348a5-e8b0-46f2-97be-35eb1a9e9199\" xlink:type=\"simple\"><polygon fill=\"#FFFFFF\" points=\"16,6,97,6,104,28.2969,271,28.2969,271,348,16,348,16,6\" style=\"stroke: #000000; stroke-width: 1.5;\"/><line style=\"stroke: #000000; stroke-width: 1.5;\" x1=\"16\" x2=\"104\" y1=\"28.2969\" y2=\"28.2969\"/><text fill=\"#000000\" font-family=\"sans-serif\" font-size=\"14\" font-weight=\"bold\" lengthAdjust=\"spacingAndGlyphs\" textLength=\"75\" x=\"20\" y=\"20.9951\">AliasImport</text></a><!--MD5=[e4f7fae6ed58524ba242bb0b0d3be6b7]\n",
       "cluster E2--><a href=\"psysml:c5390b7c-a915-4e3b-b35e-1c2257f021d2\" target=\"_top\" title=\"psysml:c5390b7c-a915-4e3b-b35e-1c2257f021d2\" xlink:actuate=\"onRequest\" xlink:href=\"psysml:c5390b7c-a915-4e3b-b35e-1c2257f021d2\" xlink:show=\"new\" xlink:title=\"psysml:c5390b7c-a915-4e3b-b35e-1c2257f021d2\" xlink:type=\"simple\"><polygon fill=\"#FFFFFF\" points=\"40,227,119,227,126,249.2969,247,249.2969,247,324,40,324,40,227\" style=\"stroke: #000000; stroke-width: 1.5;\"/><line style=\"stroke: #000000; stroke-width: 1.5;\" x1=\"40\" x2=\"126\" y1=\"249.2969\" y2=\"249.2969\"/><text fill=\"#000000\" font-family=\"sans-serif\" font-size=\"14\" font-weight=\"bold\" lengthAdjust=\"spacingAndGlyphs\" textLength=\"73\" x=\"44\" y=\"241.9951\">Definitions</text></a><!--MD5=[de5ec2e2e8f62f467e546659f5068c88]\n",
       "cluster E5--><a href=\"psysml:ccb2f7ee-bd35-4426-a662-4cf2ccb8ae79\" target=\"_top\" title=\"psysml:ccb2f7ee-bd35-4426-a662-4cf2ccb8ae79\" xlink:actuate=\"onRequest\" xlink:href=\"psysml:ccb2f7ee-bd35-4426-a662-4cf2ccb8ae79\" xlink:show=\"new\" xlink:title=\"psysml:ccb2f7ee-bd35-4426-a662-4cf2ccb8ae79\" xlink:type=\"simple\"><polygon fill=\"#FFFFFF\" points=\"56,57,114,57,121,79.2969,229,79.2969,229,170,56,170,56,57\" style=\"stroke: #000000; stroke-width: 1.5;\"/><line style=\"stroke: #000000; stroke-width: 1.5;\" x1=\"56\" x2=\"121\" y1=\"79.2969\" y2=\"79.2969\"/><text fill=\"#000000\" font-family=\"sans-serif\" font-size=\"14\" font-weight=\"bold\" lengthAdjust=\"spacingAndGlyphs\" textLength=\"52\" x=\"60\" y=\"71.9951\">Usages</text></a><!--MD5=[09b614a08d8cba4a07c9adeb5e0fee81]\n",
       "class E3--><a href=\"psysml:659a1dfe-6b8d-4702-b827-b31a03710007\" target=\"_top\" title=\"psysml:659a1dfe-6b8d-4702-b827-b31a03710007\" xlink:actuate=\"onRequest\" xlink:href=\"psysml:659a1dfe-6b8d-4702-b827-b31a03710007\" xlink:show=\"new\" xlink:title=\"psysml:659a1dfe-6b8d-4702-b827-b31a03710007\" xlink:type=\"simple\"><rect fill=\"#FFFFFF\" height=\"45.9375\" id=\"E3\" style=\"stroke: #383838; stroke-width: 1.5;\" width=\"70\" x=\"161\" y=\"262\"/><text fill=\"#000000\" font-family=\"sans-serif\" font-size=\"12\" font-style=\"italic\" lengthAdjust=\"spacingAndGlyphs\" textLength=\"68\" x=\"162\" y=\"278.1387\">«part  def»</text><text fill=\"#000000\" font-family=\"sans-serif\" font-size=\"12\" lengthAdjust=\"spacingAndGlyphs\" textLength=\"45\" x=\"173.5\" y=\"292.1074\">Vehicle</text><line style=\"stroke: #383838; stroke-width: 1.5;\" x1=\"162\" x2=\"230\" y1=\"299.9375\" y2=\"299.9375\"/></a><!--MD5=[ebbe1d658d1005bcc118a6aa81145e00]\n",
       "class E4--><a href=\"psysml:659a1dfe-6b8d-4702-b827-b31a03710007\" target=\"_top\" title=\"psysml:659a1dfe-6b8d-4702-b827-b31a03710007\" xlink:actuate=\"onRequest\" xlink:href=\"psysml:659a1dfe-6b8d-4702-b827-b31a03710007\" xlink:show=\"new\" xlink:title=\"psysml:659a1dfe-6b8d-4702-b827-b31a03710007\" xlink:type=\"simple\"><rect fill=\"#FFFFFF\" height=\"45.9375\" id=\"E4\" style=\"stroke: #383838; stroke-width: 1.5;\" width=\"70\" x=\"56\" y=\"262\"/><text fill=\"#000000\" font-family=\"sans-serif\" font-size=\"12\" font-style=\"italic\" lengthAdjust=\"spacingAndGlyphs\" textLength=\"68\" x=\"57\" y=\"278.1387\">«part  def»</text><text fill=\"#000000\" font-family=\"sans-serif\" font-size=\"12\" lengthAdjust=\"spacingAndGlyphs\" textLength=\"45\" x=\"68.5\" y=\"292.1074\">Vehicle</text><line style=\"stroke: #383838; stroke-width: 1.5;\" x1=\"57\" x2=\"125\" y1=\"299.9375\" y2=\"299.9375\"/></a><!--MD5=[60a26617385b1d2d0262a64233df1f8d]\n",
       "class E6--><a href=\"psysml:783d7c15-c905-4c38-b30b-d01c61187577\" target=\"_top\" title=\"psysml:783d7c15-c905-4c38-b30b-d01c61187577\" xlink:actuate=\"onRequest\" xlink:href=\"psysml:783d7c15-c905-4c38-b30b-d01c61187577\" xlink:show=\"new\" xlink:title=\"psysml:783d7c15-c905-4c38-b30b-d01c61187577\" xlink:type=\"simple\"><rect fill=\"#FFFFFF\" height=\"45.9375\" id=\"E6\" rx=\"10\" ry=\"10\" style=\"stroke: #383838; stroke-width: 1.5;\" width=\"106\" x=\"99\" y=\"100\"/><text fill=\"#000000\" font-family=\"sans-serif\" font-size=\"12\" font-style=\"italic\" lengthAdjust=\"spacingAndGlyphs\" textLength=\"40\" x=\"132\" y=\"116.1387\">«part»</text><text fill=\"#000000\" font-family=\"sans-serif\" font-size=\"12\" lengthAdjust=\"spacingAndGlyphs\" textLength=\"96\" x=\"102\" y=\"130.1074\">vehicle: Vehicle</text><line style=\"stroke: #383838; stroke-width: 1.5;\" x1=\"100\" x2=\"204\" y1=\"137.9375\" y2=\"137.9375\"/></a><!--MD5=[1c62de2aa5b76f0fb657ff8443a1a700]\n",
       "link E5 to E4--><a href=\"psysml:8882fd51-4fce-4e08-923b-d836bd7610d5\" target=\"_top\" title=\"psysml:8882fd51-4fce-4e08-923b-d836bd7610d5\" xlink:actuate=\"onRequest\" xlink:href=\"psysml:8882fd51-4fce-4e08-923b-d836bd7610d5\" xlink:show=\"new\" xlink:title=\"psysml:8882fd51-4fce-4e08-923b-d836bd7610d5\" xlink:type=\"simple\"><path d=\"M68.2333,170.0242 C68.2486,170.1912 68.264,170.3582 68.2793,170.5251 C68.3407,171.1927 68.402,171.8594 68.4631,172.5245 C68.5854,173.8547 68.707,175.1785 68.8277,176.4909 C69.069,179.1157 69.306,181.6948 69.5352,184.1877 C69.9935,189.1736 70.4202,193.8147 70.7853,197.7869 C71.5156,205.7313 72,211 72,211 C72,211 78.52,236.05 83.92,256.81 \" fill=\"none\" id=\"E5-&gt;E4\" style=\"stroke: #383838; stroke-width: 1.0; stroke-dasharray: 7.0,7.0;\"/><polygon fill=\"#383838\" points=\"85.2,261.7,86.8103,251.9837,83.9437,256.8604,79.067,253.9938,85.2,261.7\" style=\"stroke: #383838; stroke-width: 1.0;\"/><text fill=\"#000000\" font-family=\"sans-serif\" font-size=\"13\" lengthAdjust=\"spacingAndGlyphs\" textLength=\"58\" x=\"73\" y=\"207.0669\">«import»</text></a><!--MD5=[f667431f98296947986a1a7595a31603]\n",
       "link E6 to E4--><a href=\"psysml:db353f76-c455-46cb-b105-6bd8058807fe\" target=\"_top\" title=\"psysml:db353f76-c455-46cb-b105-6bd8058807fe\" xlink:actuate=\"onRequest\" xlink:href=\"psysml:db353f76-c455-46cb-b105-6bd8058807fe\" xlink:show=\"new\" xlink:title=\"psysml:db353f76-c455-46cb-b105-6bd8058807fe\" xlink:type=\"simple\"><path d=\"M147.88,146.4 C143.14,172.18 136,211 136,211 C136,211 125.97,227.27 115.38,244.45 \" fill=\"none\" id=\"E6-&gt;E4\" style=\"stroke: #383838; stroke-width: 1.0;\"/><polygon fill=\"#FFFFFF\" points=\"104.75,261.7,108.7639,241.8534,120.6806,249.2013,104.75,261.7\" style=\"stroke: #383838; stroke-width: 1.0;\"/><ellipse cx=\"113.4579\" cy=\"238.0513\" fill=\"#383838\" rx=\"2\" ry=\"2\" style=\"stroke: #383838; stroke-width: 1.0;\"/><ellipse cx=\"121.9699\" cy=\"243.2998\" fill=\"#383838\" rx=\"2\" ry=\"2\" style=\"stroke: #383838; stroke-width: 1.0;\"/></a><!--MD5=[81ebfda1d300ab69ed5ad42f87564f52]\n",
       "@startuml\r\n",
       "skinparam linetype polyline\r\n",
       "skinparam monochrome true\r\n",
       "skinparam classbackgroundcolor white\r\n",
       "skinparam shadowing false\r\n",
       "skinparam wrapWidth 300\r\n",
       "hide circle\r\n",
       "\r\n",
       "package \"AliasImport\" as E1  [[psysml:abc348a5-e8b0-46f2-97be-35eb1a9e9199 ]]  {\r\n",
       "package \"Definitions\" as E2  [[psysml:c5390b7c-a915-4e3b-b35e-1c2257f021d2 ]]  {\r\n",
       "comp def \"Vehicle\" as E3  <<(T,blue) part  def>> [[psysml:659a1dfe-6b8d-4702-b827-b31a03710007 ]] {\r\n",
       "}\r\n",
       "comp def \"Vehicle\" as E4  <<(T,blue) part  def>> [[psysml:659a1dfe-6b8d-4702-b827-b31a03710007 ]] {\r\n",
       "}\r\n",
       "}\r\n",
       "package \"Usages\" as E5  [[psysml:ccb2f7ee-bd35-4426-a662-4cf2ccb8ae79 ]]  {\r\n",
       "comp usage \"vehicle: Vehicle \" as E6  <<(T,blue) part>> [[psysml:783d7c15-c905-4c38-b30b-d01c61187577 ]] {\r\n",
       "}\r\n",
       "}\r\n",
       "}\r\n",
       "E5 ..> E4 [[psysml:8882fd51-4fce-4e08-923b-d836bd7610d5 ]] : <<import>>\r\n",
       "E6 - -:|> E4 [[psysml:db353f76-c455-46cb-b105-6bd8058807fe ]] \r\n",
       "@enduml\r\n",
       "\n",
       "PlantUML version 1.2020.13(Sat Jun 13 12:26:38 UTC 2020)\n",
       "(EPL source distribution)\n",
       "Java Runtime: OpenJDK Runtime Environment\n",
       "JVM: OpenJDK 64-Bit Server VM\n",
       "Default Encoding: UTF-8\n",
       "Language: en\n",
       "Country: null\n",
       "--></g></svg>"
      ]
     },
     "execution_count": 15,
     "metadata": {},
     "output_type": "execute_result"
    }
   ],
   "source": [
    "%viz --style=\"POLYLINE\" --view=\"MIXED\" \"AliasImport\""
   ]
  },
  {
   "cell_type": "code",
   "execution_count": 16,
   "id": "01a88f5f",
   "metadata": {
    "execution": {
     "iopub.execute_input": "2022-06-20T11:14:59.525033Z",
     "iopub.status.busy": "2022-06-20T11:14:59.524582Z",
     "iopub.status.idle": "2022-06-20T11:14:59.563339Z",
     "shell.execute_reply": "2022-06-20T11:14:59.562939Z"
    }
   },
   "outputs": [
    {
     "data": {
      "image/svg+xml": [
       "<?xml version=\"1.0\" encoding=\"UTF-8\" standalone=\"no\"?><svg xmlns=\"http://www.w3.org/2000/svg\" xmlns:xlink=\"http://www.w3.org/1999/xlink\" contentScriptType=\"application/ecmascript\" contentStyleType=\"text/css\" height=\"263px\" preserveAspectRatio=\"none\" style=\"width:450px;height:263px;\" version=\"1.1\" viewBox=\"0 0 450 263\" width=\"450px\" zoomAndPan=\"magnify\"><defs/><g><!--MD5=[fbc87193dbaf4d95561dea2c320d4a47]\n",
       "cluster E1--><a href=\"psysml:abc348a5-e8b0-46f2-97be-35eb1a9e9199\" target=\"_top\" title=\"psysml:abc348a5-e8b0-46f2-97be-35eb1a9e9199\" xlink:actuate=\"onRequest\" xlink:href=\"psysml:abc348a5-e8b0-46f2-97be-35eb1a9e9199\" xlink:show=\"new\" xlink:title=\"psysml:abc348a5-e8b0-46f2-97be-35eb1a9e9199\" xlink:type=\"simple\"><polygon fill=\"#FFFFFF\" points=\"16,6,97,6,104,28.2969,428,28.2969,428,251,16,251,16,6\" style=\"stroke: #000000; stroke-width: 1.5;\"/><line style=\"stroke: #000000; stroke-width: 1.5;\" x1=\"16\" x2=\"104\" y1=\"28.2969\" y2=\"28.2969\"/><text fill=\"#000000\" font-family=\"sans-serif\" font-size=\"14\" font-weight=\"bold\" lengthAdjust=\"spacingAndGlyphs\" textLength=\"75\" x=\"20\" y=\"20.9951\">AliasImport</text></a><!--MD5=[e4f7fae6ed58524ba242bb0b0d3be6b7]\n",
       "cluster E2--><a href=\"psysml:c5390b7c-a915-4e3b-b35e-1c2257f021d2\" target=\"_top\" title=\"psysml:c5390b7c-a915-4e3b-b35e-1c2257f021d2\" xlink:actuate=\"onRequest\" xlink:href=\"psysml:c5390b7c-a915-4e3b-b35e-1c2257f021d2\" xlink:show=\"new\" xlink:title=\"psysml:c5390b7c-a915-4e3b-b35e-1c2257f021d2\" xlink:type=\"simple\"><polygon fill=\"#FFFFFF\" points=\"302,49,381,49,388,71.2969,404,71.2969,404,227,302,227,302,49\" style=\"stroke: #000000; stroke-width: 1.5;\"/><line style=\"stroke: #000000; stroke-width: 1.5;\" x1=\"302\" x2=\"388\" y1=\"71.2969\" y2=\"71.2969\"/><text fill=\"#000000\" font-family=\"sans-serif\" font-size=\"14\" font-weight=\"bold\" lengthAdjust=\"spacingAndGlyphs\" textLength=\"73\" x=\"306\" y=\"63.9951\">Definitions</text></a><!--MD5=[de5ec2e2e8f62f467e546659f5068c88]\n",
       "cluster E5--><a href=\"psysml:ccb2f7ee-bd35-4426-a662-4cf2ccb8ae79\" target=\"_top\" title=\"psysml:ccb2f7ee-bd35-4426-a662-4cf2ccb8ae79\" xlink:actuate=\"onRequest\" xlink:href=\"psysml:ccb2f7ee-bd35-4426-a662-4cf2ccb8ae79\" xlink:show=\"new\" xlink:title=\"psysml:ccb2f7ee-bd35-4426-a662-4cf2ccb8ae79\" xlink:type=\"simple\"><polygon fill=\"#FFFFFF\" points=\"48,79,106,79,113,101.2969,202,101.2969,202,211,48,211,48,79\" style=\"stroke: #000000; stroke-width: 1.5;\"/><line style=\"stroke: #000000; stroke-width: 1.5;\" x1=\"48\" x2=\"113\" y1=\"101.2969\" y2=\"101.2969\"/><text fill=\"#000000\" font-family=\"sans-serif\" font-size=\"14\" font-weight=\"bold\" lengthAdjust=\"spacingAndGlyphs\" textLength=\"52\" x=\"52\" y=\"93.9951\">Usages</text></a><!--MD5=[09b614a08d8cba4a07c9adeb5e0fee81]\n",
       "class E3--><a href=\"psysml:659a1dfe-6b8d-4702-b827-b31a03710007\" target=\"_top\" title=\"psysml:659a1dfe-6b8d-4702-b827-b31a03710007\" xlink:actuate=\"onRequest\" xlink:href=\"psysml:659a1dfe-6b8d-4702-b827-b31a03710007\" xlink:show=\"new\" xlink:title=\"psysml:659a1dfe-6b8d-4702-b827-b31a03710007\" xlink:type=\"simple\"><rect fill=\"#FFFFFF\" height=\"45.9375\" id=\"E3\" style=\"stroke: #383838; stroke-width: 1.5;\" width=\"70\" x=\"318\" y=\"84\"/><text fill=\"#000000\" font-family=\"sans-serif\" font-size=\"12\" font-style=\"italic\" lengthAdjust=\"spacingAndGlyphs\" textLength=\"68\" x=\"319\" y=\"100.1387\">«part  def»</text><text fill=\"#000000\" font-family=\"sans-serif\" font-size=\"12\" lengthAdjust=\"spacingAndGlyphs\" textLength=\"45\" x=\"330.5\" y=\"114.1074\">Vehicle</text><line style=\"stroke: #383838; stroke-width: 1.5;\" x1=\"319\" x2=\"387\" y1=\"121.9375\" y2=\"121.9375\"/></a><!--MD5=[ebbe1d658d1005bcc118a6aa81145e00]\n",
       "class E4--><a href=\"psysml:659a1dfe-6b8d-4702-b827-b31a03710007\" target=\"_top\" title=\"psysml:659a1dfe-6b8d-4702-b827-b31a03710007\" xlink:actuate=\"onRequest\" xlink:href=\"psysml:659a1dfe-6b8d-4702-b827-b31a03710007\" xlink:show=\"new\" xlink:title=\"psysml:659a1dfe-6b8d-4702-b827-b31a03710007\" xlink:type=\"simple\"><rect fill=\"#FFFFFF\" height=\"45.9375\" id=\"E4\" style=\"stroke: #383838; stroke-width: 1.5;\" width=\"70\" x=\"318\" y=\"165\"/><text fill=\"#000000\" font-family=\"sans-serif\" font-size=\"12\" font-style=\"italic\" lengthAdjust=\"spacingAndGlyphs\" textLength=\"68\" x=\"319\" y=\"181.1387\">«part  def»</text><text fill=\"#000000\" font-family=\"sans-serif\" font-size=\"12\" lengthAdjust=\"spacingAndGlyphs\" textLength=\"45\" x=\"330.5\" y=\"195.1074\">Vehicle</text><line style=\"stroke: #383838; stroke-width: 1.5;\" x1=\"319\" x2=\"387\" y1=\"202.9375\" y2=\"202.9375\"/></a><!--MD5=[60a26617385b1d2d0262a64233df1f8d]\n",
       "class E6--><a href=\"psysml:783d7c15-c905-4c38-b30b-d01c61187577\" target=\"_top\" title=\"psysml:783d7c15-c905-4c38-b30b-d01c61187577\" xlink:actuate=\"onRequest\" xlink:href=\"psysml:783d7c15-c905-4c38-b30b-d01c61187577\" xlink:show=\"new\" xlink:title=\"psysml:783d7c15-c905-4c38-b30b-d01c61187577\" xlink:type=\"simple\"><rect fill=\"#FFFFFF\" height=\"45.9375\" id=\"E6\" rx=\"10\" ry=\"10\" style=\"stroke: #383838; stroke-width: 1.5;\" width=\"106\" x=\"72\" y=\"122\"/><text fill=\"#000000\" font-family=\"sans-serif\" font-size=\"12\" font-style=\"italic\" lengthAdjust=\"spacingAndGlyphs\" textLength=\"40\" x=\"105\" y=\"138.1387\">«part»</text><text fill=\"#000000\" font-family=\"sans-serif\" font-size=\"12\" lengthAdjust=\"spacingAndGlyphs\" textLength=\"96\" x=\"75\" y=\"152.1074\">vehicle: Vehicle</text><line style=\"stroke: #383838; stroke-width: 1.5;\" x1=\"73\" x2=\"177\" y1=\"159.9375\" y2=\"159.9375\"/></a><!--MD5=[1c62de2aa5b76f0fb657ff8443a1a700]\n",
       "link E5 to E4--><a href=\"psysml:8882fd51-4fce-4e08-923b-d836bd7610d5\" target=\"_top\" title=\"psysml:8882fd51-4fce-4e08-923b-d836bd7610d5\" xlink:actuate=\"onRequest\" xlink:href=\"psysml:8882fd51-4fce-4e08-923b-d836bd7610d5\" xlink:show=\"new\" xlink:title=\"psysml:8882fd51-4fce-4e08-923b-d836bd7610d5\" xlink:type=\"simple\"><path d=\"M202.7993,197.9019 C203.4034,197.8618 204.0091,197.8215 204.6162,197.7812 C207.0446,197.62 209.4964,197.4571 211.9665,197.2931 C216.9068,196.965 221.9203,196.6321 226.9662,196.297 C237.0579,195.6269 247.279,194.9481 257.3027,194.2825 C277.35,192.9513 296.6075,191.6725 312.46,190.62 \" fill=\"none\" id=\"E5-&gt;E4\" style=\"stroke: #383838; stroke-width: 1.0; stroke-dasharray: 7.0,7.0;\"/><polygon fill=\"#383838\" points=\"317.68,190.28,308.4371,186.8788,312.6908,190.6079,308.9617,194.8615,317.68,190.28\" style=\"stroke: #383838; stroke-width: 1.0;\"/><text fill=\"#000000\" font-family=\"sans-serif\" font-size=\"13\" lengthAdjust=\"spacingAndGlyphs\" textLength=\"58\" x=\"227\" y=\"189.0669\">«import»</text></a><!--MD5=[f667431f98296947986a1a7595a31603]\n",
       "link E6 to E4--><a href=\"psysml:db353f76-c455-46cb-b105-6bd8058807fe\" target=\"_top\" title=\"psysml:db353f76-c455-46cb-b105-6bd8058807fe\" xlink:actuate=\"onRequest\" xlink:href=\"psysml:db353f76-c455-46cb-b105-6bd8058807fe\" xlink:show=\"new\" xlink:title=\"psysml:db353f76-c455-46cb-b105-6bd8058807fe\" xlink:type=\"simple\"><path d=\"M178.24,150.48 C209.68,154.28 250.39,160.09 286,168 C290.06,168.9 294.24,169.93 298.43,171.03 \" fill=\"none\" id=\"E6-&gt;E4\" style=\"stroke: #383838; stroke-width: 1.0;\"/><polygon fill=\"#FFFFFF\" points=\"317.67,176.52,297.4786,178.0389,301.3194,164.576,317.67,176.52\" style=\"stroke: #383838; stroke-width: 1.0;\"/><ellipse cx=\"292.546\" cy=\"174.5519\" fill=\"#383838\" rx=\"2\" ry=\"2\" style=\"stroke: #383838; stroke-width: 1.0;\"/><ellipse cx=\"295.2894\" cy=\"164.9356\" fill=\"#383838\" rx=\"2\" ry=\"2\" style=\"stroke: #383838; stroke-width: 1.0;\"/></a><!--MD5=[b2f25cc2b61e4c778c293060eb3e5127]\n",
       "@startuml\r\n",
       "left to right direction\r\n",
       "skinparam monochrome true\r\n",
       "skinparam classbackgroundcolor white\r\n",
       "skinparam shadowing false\r\n",
       "skinparam wrapWidth 300\r\n",
       "hide circle\r\n",
       "\r\n",
       "package \"AliasImport\" as E1  [[psysml:abc348a5-e8b0-46f2-97be-35eb1a9e9199 ]]  {\r\n",
       "package \"Definitions\" as E2  [[psysml:c5390b7c-a915-4e3b-b35e-1c2257f021d2 ]]  {\r\n",
       "comp def \"Vehicle\" as E3  <<(T,blue) part  def>> [[psysml:659a1dfe-6b8d-4702-b827-b31a03710007 ]] {\r\n",
       "}\r\n",
       "comp def \"Vehicle\" as E4  <<(T,blue) part  def>> [[psysml:659a1dfe-6b8d-4702-b827-b31a03710007 ]] {\r\n",
       "}\r\n",
       "}\r\n",
       "package \"Usages\" as E5  [[psysml:ccb2f7ee-bd35-4426-a662-4cf2ccb8ae79 ]]  {\r\n",
       "comp usage \"vehicle: Vehicle \" as E6  <<(T,blue) part>> [[psysml:783d7c15-c905-4c38-b30b-d01c61187577 ]] {\r\n",
       "}\r\n",
       "}\r\n",
       "}\r\n",
       "E5 ..> E4 [[psysml:8882fd51-4fce-4e08-923b-d836bd7610d5 ]] : <<import>>\r\n",
       "E6 - -:|> E4 [[psysml:db353f76-c455-46cb-b105-6bd8058807fe ]] \r\n",
       "@enduml\r\n",
       "\n",
       "PlantUML version 1.2020.13(Sat Jun 13 12:26:38 UTC 2020)\n",
       "(EPL source distribution)\n",
       "Java Runtime: OpenJDK Runtime Environment\n",
       "JVM: OpenJDK 64-Bit Server VM\n",
       "Default Encoding: UTF-8\n",
       "Language: en\n",
       "Country: null\n",
       "--></g></svg>"
      ]
     },
     "execution_count": 16,
     "metadata": {},
     "output_type": "execute_result"
    }
   ],
   "source": [
    "%viz --style=\"LR\" --view=\"Default\" \"AliasImport\""
   ]
  },
  {
   "cell_type": "code",
   "execution_count": 17,
   "id": "c3c038d0",
   "metadata": {
    "execution": {
     "iopub.execute_input": "2022-06-20T11:14:59.613450Z",
     "iopub.status.busy": "2022-06-20T11:14:59.613004Z",
     "iopub.status.idle": "2022-06-20T11:14:59.652211Z",
     "shell.execute_reply": "2022-06-20T11:14:59.652535Z"
    }
   },
   "outputs": [
    {
     "data": {
      "image/svg+xml": [
       "<?xml version=\"1.0\" encoding=\"UTF-8\" standalone=\"no\"?><svg xmlns=\"http://www.w3.org/2000/svg\" xmlns:xlink=\"http://www.w3.org/1999/xlink\" contentScriptType=\"application/ecmascript\" contentStyleType=\"text/css\" height=\"263px\" preserveAspectRatio=\"none\" style=\"width:450px;height:263px;\" version=\"1.1\" viewBox=\"0 0 450 263\" width=\"450px\" zoomAndPan=\"magnify\"><defs/><g><!--MD5=[fbc87193dbaf4d95561dea2c320d4a47]\n",
       "cluster E1--><a href=\"psysml:abc348a5-e8b0-46f2-97be-35eb1a9e9199\" target=\"_top\" title=\"psysml:abc348a5-e8b0-46f2-97be-35eb1a9e9199\" xlink:actuate=\"onRequest\" xlink:href=\"psysml:abc348a5-e8b0-46f2-97be-35eb1a9e9199\" xlink:show=\"new\" xlink:title=\"psysml:abc348a5-e8b0-46f2-97be-35eb1a9e9199\" xlink:type=\"simple\"><polygon fill=\"#FFFFFF\" points=\"16,6,97,6,104,28.2969,428,28.2969,428,251,16,251,16,6\" style=\"stroke: #000000; stroke-width: 1.5;\"/><line style=\"stroke: #000000; stroke-width: 1.5;\" x1=\"16\" x2=\"104\" y1=\"28.2969\" y2=\"28.2969\"/><text fill=\"#000000\" font-family=\"sans-serif\" font-size=\"14\" font-weight=\"bold\" lengthAdjust=\"spacingAndGlyphs\" textLength=\"75\" x=\"20\" y=\"20.9951\">AliasImport</text></a><!--MD5=[e4f7fae6ed58524ba242bb0b0d3be6b7]\n",
       "cluster E2--><a href=\"psysml:c5390b7c-a915-4e3b-b35e-1c2257f021d2\" target=\"_top\" title=\"psysml:c5390b7c-a915-4e3b-b35e-1c2257f021d2\" xlink:actuate=\"onRequest\" xlink:href=\"psysml:c5390b7c-a915-4e3b-b35e-1c2257f021d2\" xlink:show=\"new\" xlink:title=\"psysml:c5390b7c-a915-4e3b-b35e-1c2257f021d2\" xlink:type=\"simple\"><polygon fill=\"#FFFFFF\" points=\"302,49,381,49,388,71.2969,404,71.2969,404,227,302,227,302,49\" style=\"stroke: #000000; stroke-width: 1.5;\"/><line style=\"stroke: #000000; stroke-width: 1.5;\" x1=\"302\" x2=\"388\" y1=\"71.2969\" y2=\"71.2969\"/><text fill=\"#000000\" font-family=\"sans-serif\" font-size=\"14\" font-weight=\"bold\" lengthAdjust=\"spacingAndGlyphs\" textLength=\"73\" x=\"306\" y=\"63.9951\">Definitions</text></a><!--MD5=[de5ec2e2e8f62f467e546659f5068c88]\n",
       "cluster E5--><a href=\"psysml:ccb2f7ee-bd35-4426-a662-4cf2ccb8ae79\" target=\"_top\" title=\"psysml:ccb2f7ee-bd35-4426-a662-4cf2ccb8ae79\" xlink:actuate=\"onRequest\" xlink:href=\"psysml:ccb2f7ee-bd35-4426-a662-4cf2ccb8ae79\" xlink:show=\"new\" xlink:title=\"psysml:ccb2f7ee-bd35-4426-a662-4cf2ccb8ae79\" xlink:type=\"simple\"><polygon fill=\"#FFFFFF\" points=\"48,79,106,79,113,101.2969,202,101.2969,202,211,48,211,48,79\" style=\"stroke: #000000; stroke-width: 1.5;\"/><line style=\"stroke: #000000; stroke-width: 1.5;\" x1=\"48\" x2=\"113\" y1=\"101.2969\" y2=\"101.2969\"/><text fill=\"#000000\" font-family=\"sans-serif\" font-size=\"14\" font-weight=\"bold\" lengthAdjust=\"spacingAndGlyphs\" textLength=\"52\" x=\"52\" y=\"93.9951\">Usages</text></a><!--MD5=[09b614a08d8cba4a07c9adeb5e0fee81]\n",
       "class E3--><a href=\"psysml:659a1dfe-6b8d-4702-b827-b31a03710007\" target=\"_top\" title=\"psysml:659a1dfe-6b8d-4702-b827-b31a03710007\" xlink:actuate=\"onRequest\" xlink:href=\"psysml:659a1dfe-6b8d-4702-b827-b31a03710007\" xlink:show=\"new\" xlink:title=\"psysml:659a1dfe-6b8d-4702-b827-b31a03710007\" xlink:type=\"simple\"><rect fill=\"#FFFFFF\" height=\"45.9375\" id=\"E3\" style=\"stroke: #383838; stroke-width: 1.5;\" width=\"70\" x=\"318\" y=\"84\"/><text fill=\"#000000\" font-family=\"sans-serif\" font-size=\"12\" font-style=\"italic\" lengthAdjust=\"spacingAndGlyphs\" textLength=\"68\" x=\"319\" y=\"100.1387\">«part  def»</text><text fill=\"#000000\" font-family=\"sans-serif\" font-size=\"12\" lengthAdjust=\"spacingAndGlyphs\" textLength=\"45\" x=\"330.5\" y=\"114.1074\">Vehicle</text><line style=\"stroke: #383838; stroke-width: 1.5;\" x1=\"319\" x2=\"387\" y1=\"121.9375\" y2=\"121.9375\"/></a><!--MD5=[ebbe1d658d1005bcc118a6aa81145e00]\n",
       "class E4--><a href=\"psysml:659a1dfe-6b8d-4702-b827-b31a03710007\" target=\"_top\" title=\"psysml:659a1dfe-6b8d-4702-b827-b31a03710007\" xlink:actuate=\"onRequest\" xlink:href=\"psysml:659a1dfe-6b8d-4702-b827-b31a03710007\" xlink:show=\"new\" xlink:title=\"psysml:659a1dfe-6b8d-4702-b827-b31a03710007\" xlink:type=\"simple\"><rect fill=\"#FFFFFF\" height=\"45.9375\" id=\"E4\" style=\"stroke: #383838; stroke-width: 1.5;\" width=\"70\" x=\"318\" y=\"165\"/><text fill=\"#000000\" font-family=\"sans-serif\" font-size=\"12\" font-style=\"italic\" lengthAdjust=\"spacingAndGlyphs\" textLength=\"68\" x=\"319\" y=\"181.1387\">«part  def»</text><text fill=\"#000000\" font-family=\"sans-serif\" font-size=\"12\" lengthAdjust=\"spacingAndGlyphs\" textLength=\"45\" x=\"330.5\" y=\"195.1074\">Vehicle</text><line style=\"stroke: #383838; stroke-width: 1.5;\" x1=\"319\" x2=\"387\" y1=\"202.9375\" y2=\"202.9375\"/></a><!--MD5=[60a26617385b1d2d0262a64233df1f8d]\n",
       "class E6--><a href=\"psysml:783d7c15-c905-4c38-b30b-d01c61187577\" target=\"_top\" title=\"psysml:783d7c15-c905-4c38-b30b-d01c61187577\" xlink:actuate=\"onRequest\" xlink:href=\"psysml:783d7c15-c905-4c38-b30b-d01c61187577\" xlink:show=\"new\" xlink:title=\"psysml:783d7c15-c905-4c38-b30b-d01c61187577\" xlink:type=\"simple\"><rect fill=\"#FFFFFF\" height=\"45.9375\" id=\"E6\" rx=\"10\" ry=\"10\" style=\"stroke: #383838; stroke-width: 1.5;\" width=\"106\" x=\"72\" y=\"122\"/><text fill=\"#000000\" font-family=\"sans-serif\" font-size=\"12\" font-style=\"italic\" lengthAdjust=\"spacingAndGlyphs\" textLength=\"40\" x=\"105\" y=\"138.1387\">«part»</text><text fill=\"#000000\" font-family=\"sans-serif\" font-size=\"12\" lengthAdjust=\"spacingAndGlyphs\" textLength=\"96\" x=\"75\" y=\"152.1074\">vehicle: Vehicle</text><line style=\"stroke: #383838; stroke-width: 1.5;\" x1=\"73\" x2=\"177\" y1=\"159.9375\" y2=\"159.9375\"/></a><!--MD5=[1c62de2aa5b76f0fb657ff8443a1a700]\n",
       "link E5 to E4--><a href=\"psysml:8882fd51-4fce-4e08-923b-d836bd7610d5\" target=\"_top\" title=\"psysml:8882fd51-4fce-4e08-923b-d836bd7610d5\" xlink:actuate=\"onRequest\" xlink:href=\"psysml:8882fd51-4fce-4e08-923b-d836bd7610d5\" xlink:show=\"new\" xlink:title=\"psysml:8882fd51-4fce-4e08-923b-d836bd7610d5\" xlink:type=\"simple\"><path d=\"M202.7993,197.9019 C203.4034,197.8618 204.0091,197.8215 204.6162,197.7812 C207.0446,197.62 209.4964,197.4571 211.9665,197.2931 C216.9068,196.965 221.9203,196.6321 226.9662,196.297 C237.0579,195.6269 247.279,194.9481 257.3027,194.2825 C277.35,192.9513 296.6075,191.6725 312.46,190.62 \" fill=\"none\" id=\"E5-&gt;E4\" style=\"stroke: #383838; stroke-width: 1.0; stroke-dasharray: 7.0,7.0;\"/><polygon fill=\"#383838\" points=\"317.68,190.28,308.4371,186.8788,312.6908,190.6079,308.9617,194.8615,317.68,190.28\" style=\"stroke: #383838; stroke-width: 1.0;\"/><text fill=\"#000000\" font-family=\"sans-serif\" font-size=\"13\" lengthAdjust=\"spacingAndGlyphs\" textLength=\"58\" x=\"227\" y=\"189.0669\">«import»</text></a><!--MD5=[f667431f98296947986a1a7595a31603]\n",
       "link E6 to E4--><a href=\"psysml:db353f76-c455-46cb-b105-6bd8058807fe\" target=\"_top\" title=\"psysml:db353f76-c455-46cb-b105-6bd8058807fe\" xlink:actuate=\"onRequest\" xlink:href=\"psysml:db353f76-c455-46cb-b105-6bd8058807fe\" xlink:show=\"new\" xlink:title=\"psysml:db353f76-c455-46cb-b105-6bd8058807fe\" xlink:type=\"simple\"><path d=\"M178.24,150.48 C209.68,154.28 250.39,160.09 286,168 C290.06,168.9 294.24,169.93 298.43,171.03 \" fill=\"none\" id=\"E6-&gt;E4\" style=\"stroke: #383838; stroke-width: 1.0;\"/><polygon fill=\"#FFFFFF\" points=\"317.67,176.52,297.4786,178.0389,301.3194,164.576,317.67,176.52\" style=\"stroke: #383838; stroke-width: 1.0;\"/><ellipse cx=\"292.546\" cy=\"174.5519\" fill=\"#383838\" rx=\"2\" ry=\"2\" style=\"stroke: #383838; stroke-width: 1.0;\"/><ellipse cx=\"295.2894\" cy=\"164.9356\" fill=\"#383838\" rx=\"2\" ry=\"2\" style=\"stroke: #383838; stroke-width: 1.0;\"/></a><!--MD5=[b2f25cc2b61e4c778c293060eb3e5127]\n",
       "@startuml\r\n",
       "left to right direction\r\n",
       "skinparam monochrome true\r\n",
       "skinparam classbackgroundcolor white\r\n",
       "skinparam shadowing false\r\n",
       "skinparam wrapWidth 300\r\n",
       "hide circle\r\n",
       "\r\n",
       "package \"AliasImport\" as E1  [[psysml:abc348a5-e8b0-46f2-97be-35eb1a9e9199 ]]  {\r\n",
       "package \"Definitions\" as E2  [[psysml:c5390b7c-a915-4e3b-b35e-1c2257f021d2 ]]  {\r\n",
       "comp def \"Vehicle\" as E3  <<(T,blue) part  def>> [[psysml:659a1dfe-6b8d-4702-b827-b31a03710007 ]] {\r\n",
       "}\r\n",
       "comp def \"Vehicle\" as E4  <<(T,blue) part  def>> [[psysml:659a1dfe-6b8d-4702-b827-b31a03710007 ]] {\r\n",
       "}\r\n",
       "}\r\n",
       "package \"Usages\" as E5  [[psysml:ccb2f7ee-bd35-4426-a662-4cf2ccb8ae79 ]]  {\r\n",
       "comp usage \"vehicle: Vehicle \" as E6  <<(T,blue) part>> [[psysml:783d7c15-c905-4c38-b30b-d01c61187577 ]] {\r\n",
       "}\r\n",
       "}\r\n",
       "}\r\n",
       "E5 ..> E4 [[psysml:8882fd51-4fce-4e08-923b-d836bd7610d5 ]] : <<import>>\r\n",
       "E6 - -:|> E4 [[psysml:db353f76-c455-46cb-b105-6bd8058807fe ]] \r\n",
       "@enduml\r\n",
       "\n",
       "PlantUML version 1.2020.13(Sat Jun 13 12:26:38 UTC 2020)\n",
       "(EPL source distribution)\n",
       "Java Runtime: OpenJDK Runtime Environment\n",
       "JVM: OpenJDK 64-Bit Server VM\n",
       "Default Encoding: UTF-8\n",
       "Language: en\n",
       "Country: null\n",
       "--></g></svg>"
      ]
     },
     "execution_count": 17,
     "metadata": {},
     "output_type": "execute_result"
    }
   ],
   "source": [
    "%viz --style=\"LR\" --view=\"Tree\" \"AliasImport\""
   ]
  },
  {
   "cell_type": "code",
   "execution_count": 18,
   "id": "03a4fffb",
   "metadata": {
    "execution": {
     "iopub.execute_input": "2022-06-20T11:14:59.702775Z",
     "iopub.status.busy": "2022-06-20T11:14:59.702288Z",
     "iopub.status.idle": "2022-06-20T11:14:59.708374Z",
     "shell.execute_reply": "2022-06-20T11:14:59.708696Z"
    }
   },
   "outputs": [
    {
     "data": {
      "image/svg+xml": [
       "<?xml version=\"1.0\" encoding=\"UTF-8\" standalone=\"no\"?><svg xmlns=\"http://www.w3.org/2000/svg\" xmlns:xlink=\"http://www.w3.org/1999/xlink\" contentScriptType=\"application/ecmascript\" contentStyleType=\"text/css\" height=\"12px\" preserveAspectRatio=\"none\" style=\"width:12px;height:12px;\" version=\"1.1\" viewBox=\"0 0 12 12\" width=\"12px\" zoomAndPan=\"magnify\"><defs/><g><!--MD5=[19d285c9d72a204eba4e2cd117d745e8]\n",
       "@startuml\r\n",
       "left to right direction\r\n",
       "skinparam monochrome true\r\n",
       "skinparam classbackgroundcolor white\r\n",
       "skinparam shadowing false\r\n",
       "skinparam wrapWidth 300\r\n",
       "hide circle\r\n",
       "\r\n",
       "@enduml\r\n",
       "\n",
       "PlantUML version 1.2020.13(Sat Jun 13 12:26:38 UTC 2020)\n",
       "(EPL source distribution)\n",
       "Java Runtime: OpenJDK Runtime Environment\n",
       "JVM: OpenJDK 64-Bit Server VM\n",
       "Default Encoding: UTF-8\n",
       "Language: en\n",
       "Country: null\n",
       "--></g></svg>"
      ]
     },
     "execution_count": 18,
     "metadata": {},
     "output_type": "execute_result"
    }
   ],
   "source": [
    "%viz --style=\"LR\" --view=\"State\" \"AliasImport\""
   ]
  },
  {
   "cell_type": "code",
   "execution_count": 19,
   "id": "e45bf09b",
   "metadata": {
    "execution": {
     "iopub.execute_input": "2022-06-20T11:14:59.759347Z",
     "iopub.status.busy": "2022-06-20T11:14:59.758855Z",
     "iopub.status.idle": "2022-06-20T11:14:59.795796Z",
     "shell.execute_reply": "2022-06-20T11:14:59.795397Z"
    }
   },
   "outputs": [
    {
     "data": {
      "image/svg+xml": [
       "<?xml version=\"1.0\" encoding=\"UTF-8\" standalone=\"no\"?><svg xmlns=\"http://www.w3.org/2000/svg\" xmlns:xlink=\"http://www.w3.org/1999/xlink\" contentScriptType=\"application/ecmascript\" contentStyleType=\"text/css\" height=\"258px\" preserveAspectRatio=\"none\" style=\"width:456px;height:258px;\" version=\"1.1\" viewBox=\"0 0 456 258\" width=\"456px\" zoomAndPan=\"magnify\"><defs/><g><!--MD5=[fbc87193dbaf4d95561dea2c320d4a47]\n",
       "cluster E1--><a href=\"psysml:abc348a5-e8b0-46f2-97be-35eb1a9e9199\" target=\"_top\" title=\"psysml:abc348a5-e8b0-46f2-97be-35eb1a9e9199\" xlink:actuate=\"onRequest\" xlink:href=\"psysml:abc348a5-e8b0-46f2-97be-35eb1a9e9199\" xlink:show=\"new\" xlink:title=\"psysml:abc348a5-e8b0-46f2-97be-35eb1a9e9199\" xlink:type=\"simple\"><polygon fill=\"#FFFFFF\" points=\"16,6,97,6,104,28.2969,434,28.2969,434,246,16,246,16,6\" style=\"stroke: #000000; stroke-width: 1.5;\"/><line style=\"stroke: #000000; stroke-width: 1.5;\" x1=\"16\" x2=\"104\" y1=\"28.2969\" y2=\"28.2969\"/><text fill=\"#000000\" font-family=\"sans-serif\" font-size=\"14\" font-weight=\"bold\" lengthAdjust=\"spacingAndGlyphs\" textLength=\"75\" x=\"20\" y=\"20.9951\">AliasImport</text></a><!--MD5=[e4f7fae6ed58524ba242bb0b0d3be6b7]\n",
       "cluster E2--><a href=\"psysml:c5390b7c-a915-4e3b-b35e-1c2257f021d2\" target=\"_top\" title=\"psysml:c5390b7c-a915-4e3b-b35e-1c2257f021d2\" xlink:actuate=\"onRequest\" xlink:href=\"psysml:c5390b7c-a915-4e3b-b35e-1c2257f021d2\" xlink:show=\"new\" xlink:title=\"psysml:c5390b7c-a915-4e3b-b35e-1c2257f021d2\" xlink:type=\"simple\"><polygon fill=\"#FFFFFF\" points=\"303,49,382,49,389,71.2969,410,71.2969,410,222,303,222,303,49\" style=\"stroke: #000000; stroke-width: 1.5;\"/><line style=\"stroke: #000000; stroke-width: 1.5;\" x1=\"303\" x2=\"389\" y1=\"71.2969\" y2=\"71.2969\"/><text fill=\"#000000\" font-family=\"sans-serif\" font-size=\"14\" font-weight=\"bold\" lengthAdjust=\"spacingAndGlyphs\" textLength=\"73\" x=\"307\" y=\"63.9951\">Definitions</text></a><!--MD5=[de5ec2e2e8f62f467e546659f5068c88]\n",
       "cluster E5--><a href=\"psysml:ccb2f7ee-bd35-4426-a662-4cf2ccb8ae79\" target=\"_top\" title=\"psysml:ccb2f7ee-bd35-4426-a662-4cf2ccb8ae79\" xlink:actuate=\"onRequest\" xlink:href=\"psysml:ccb2f7ee-bd35-4426-a662-4cf2ccb8ae79\" xlink:show=\"new\" xlink:title=\"psysml:ccb2f7ee-bd35-4426-a662-4cf2ccb8ae79\" xlink:type=\"simple\"><polygon fill=\"#FFFFFF\" points=\"48,80,106,80,113,102.2969,203,102.2969,203,206,48,206,48,80\" style=\"stroke: #000000; stroke-width: 1.5;\"/><line style=\"stroke: #000000; stroke-width: 1.5;\" x1=\"48\" x2=\"113\" y1=\"102.2969\" y2=\"102.2969\"/><text fill=\"#000000\" font-family=\"sans-serif\" font-size=\"14\" font-weight=\"bold\" lengthAdjust=\"spacingAndGlyphs\" textLength=\"52\" x=\"52\" y=\"94.9951\">Usages</text></a><g id=\"E1.E2.E3\"><a href=\"psysml:659a1dfe-6b8d-4702-b827-b31a03710007\" target=\"_top\" title=\"psysml:659a1dfe-6b8d-4702-b827-b31a03710007\" xlink:actuate=\"onRequest\" xlink:href=\"psysml:659a1dfe-6b8d-4702-b827-b31a03710007\" xlink:show=\"new\" xlink:title=\"psysml:659a1dfe-6b8d-4702-b827-b31a03710007\" xlink:type=\"simple\"><rect fill=\"#FFFFFF\" height=\"42.9375\" id=\"E3\" style=\"stroke: #383838; stroke-width: 1.5;\" width=\"75\" x=\"319\" y=\"84.5\"/><rect fill=\"#F8F8F8\" height=\"37.9375\" style=\"stroke: #383838; stroke-width: 1.5;\" width=\"75\" x=\"319\" y=\"84.5\"/><text fill=\"#000000\" font-family=\"sans-serif\" font-size=\"12\" font-style=\"italic\" lengthAdjust=\"spacingAndGlyphs\" textLength=\"68\" x=\"322.5\" y=\"100.6387\">«part  def»</text><text fill=\"#000000\" font-family=\"sans-serif\" font-size=\"12\" lengthAdjust=\"spacingAndGlyphs\" textLength=\"45\" x=\"334\" y=\"114.6074\">Vehicle</text></a></g><g id=\"E1.E2.E4\"><a href=\"psysml:659a1dfe-6b8d-4702-b827-b31a03710007\" target=\"_top\" title=\"psysml:659a1dfe-6b8d-4702-b827-b31a03710007\" xlink:actuate=\"onRequest\" xlink:href=\"psysml:659a1dfe-6b8d-4702-b827-b31a03710007\" xlink:show=\"new\" xlink:title=\"psysml:659a1dfe-6b8d-4702-b827-b31a03710007\" xlink:type=\"simple\"><rect fill=\"#FFFFFF\" height=\"42.9375\" id=\"E4\" style=\"stroke: #383838; stroke-width: 1.5;\" width=\"75\" x=\"319\" y=\"162.5\"/><rect fill=\"#F8F8F8\" height=\"37.9375\" style=\"stroke: #383838; stroke-width: 1.5;\" width=\"75\" x=\"319\" y=\"162.5\"/><text fill=\"#000000\" font-family=\"sans-serif\" font-size=\"12\" font-style=\"italic\" lengthAdjust=\"spacingAndGlyphs\" textLength=\"68\" x=\"322.5\" y=\"178.6387\">«part  def»</text><text fill=\"#000000\" font-family=\"sans-serif\" font-size=\"12\" lengthAdjust=\"spacingAndGlyphs\" textLength=\"45\" x=\"334\" y=\"192.6074\">Vehicle</text></a></g><g id=\"E1.E5.E6\"><a href=\"psysml:783d7c15-c905-4c38-b30b-d01c61187577\" target=\"_top\" title=\"psysml:783d7c15-c905-4c38-b30b-d01c61187577\" xlink:actuate=\"onRequest\" xlink:href=\"psysml:783d7c15-c905-4c38-b30b-d01c61187577\" xlink:show=\"new\" xlink:title=\"psysml:783d7c15-c905-4c38-b30b-d01c61187577\" xlink:type=\"simple\"><rect fill=\"#FFFFFF\" height=\"40\" id=\"E6\" rx=\"10\" ry=\"10\" style=\"stroke: #383838; stroke-width: 1.5;\" width=\"107\" x=\"72\" y=\"123\"/><rect fill=\"#F8F8F8\" height=\"23.9688\" rx=\"10\" ry=\"10\" style=\"stroke: #F8F8F8; stroke-width: 1.5;\" width=\"107\" x=\"72\" y=\"123\"/><rect fill=\"#F8F8F8\" height=\"10\" style=\"stroke: #F8F8F8; stroke-width: 1.5;\" width=\"107\" x=\"72\" y=\"136.9688\"/><rect fill=\"none\" height=\"40\" id=\"E6\" rx=\"10\" ry=\"10\" style=\"stroke: #383838; stroke-width: 1.5;\" width=\"107\" x=\"72\" y=\"123\"/><text fill=\"#000000\" font-family=\"sans-serif\" font-size=\"12\" lengthAdjust=\"spacingAndGlyphs\" textLength=\"96\" x=\"77.5\" y=\"139.1387\">vehicle: Vehicle</text></a></g><!--MD5=[1c62de2aa5b76f0fb657ff8443a1a700]\n",
       "link E5 to E4--><a href=\"psysml:8882fd51-4fce-4e08-923b-d836bd7610d5\" target=\"_top\" title=\"psysml:8882fd51-4fce-4e08-923b-d836bd7610d5\" xlink:actuate=\"onRequest\" xlink:href=\"psysml:8882fd51-4fce-4e08-923b-d836bd7610d5\" xlink:show=\"new\" xlink:title=\"psysml:8882fd51-4fce-4e08-923b-d836bd7610d5\" xlink:type=\"simple\"><path d=\"M203.0355,193.3194 C203.6391,193.2826 204.2442,193.2456 204.8508,193.2085 C207.2773,193.0601 209.7279,192.9103 212.1977,192.7593 C217.1372,192.4574 222.1533,192.1507 227.2056,191.8419 C237.3104,191.2241 247.5607,190.5974 257.6355,189.9814 C277.785,188.7494 297.2325,187.56 313.41,186.57 \" fill=\"none\" id=\"E5-&gt;E4\" style=\"stroke: #383838; stroke-width: 1.0; stroke-dasharray: 7.0,7.0;\"/><polygon fill=\"#383838\" points=\"318.74,186.25,309.5062,182.8241,313.7499,186.5646,310.0095,190.8083,318.74,186.25\" style=\"stroke: #383838; stroke-width: 1.0;\"/><text fill=\"#000000\" font-family=\"sans-serif\" font-size=\"13\" lengthAdjust=\"spacingAndGlyphs\" textLength=\"58\" x=\"228\" y=\"185.0669\">«import»</text></a><!--MD5=[f667431f98296947986a1a7595a31603]\n",
       "link E6 to E4--><a href=\"psysml:db353f76-c455-46cb-b105-6bd8058807fe\" target=\"_top\" title=\"psysml:db353f76-c455-46cb-b105-6bd8058807fe\" xlink:actuate=\"onRequest\" xlink:href=\"psysml:db353f76-c455-46cb-b105-6bd8058807fe\" xlink:show=\"new\" xlink:title=\"psysml:db353f76-c455-46cb-b105-6bd8058807fe\" xlink:type=\"simple\"><path d=\"M179.25,147.83 C210.73,151.23 251.39,156.52 287,164 C291.07,164.86 295.26,165.83 299.45,166.88 \" fill=\"none\" id=\"E6-&gt;E4\" style=\"stroke: #383838; stroke-width: 1.0;\"/><polygon fill=\"#FFFFFF\" points=\"318.79,172.15,298.617,173.8965,302.3057,160.3912,318.79,172.15\" style=\"stroke: #383838; stroke-width: 1.0;\"/><ellipse cx=\"293.6454\" cy=\"170.4654\" fill=\"#383838\" rx=\"2\" ry=\"2\" style=\"stroke: #383838; stroke-width: 1.0;\"/><ellipse cx=\"296.2802\" cy=\"160.8187\" fill=\"#383838\" rx=\"2\" ry=\"2\" style=\"stroke: #383838; stroke-width: 1.0;\"/></a><!--MD5=[0dd5a1964fe83717da3f693784c0f6a3]\n",
       "@startuml\r\n",
       "skinparam ranksep 10\r\n",
       "skinparam rectangle {\r\n",
       " backgroundColor<<block>> LightGreen\r\n",
       "}\r\n",
       "left to right direction\r\n",
       "skinparam monochrome true\r\n",
       "skinparam classbackgroundcolor white\r\n",
       "skinparam shadowing false\r\n",
       "skinparam wrapWidth 300\r\n",
       "hide circle\r\n",
       "\r\n",
       "package \"AliasImport\" as E1  [[psysml:abc348a5-e8b0-46f2-97be-35eb1a9e9199 ]]  {\r\n",
       "package \"Definitions\" as E2  [[psysml:c5390b7c-a915-4e3b-b35e-1c2257f021d2 ]]  {\r\n",
       "rec def \"Vehicle\" as E3  <<(T,blue) part  def>> [[psysml:659a1dfe-6b8d-4702-b827-b31a03710007 ]] {\r\n",
       "}\r\n",
       "rec def \"Vehicle\" as E4  <<(T,blue) part  def>> [[psysml:659a1dfe-6b8d-4702-b827-b31a03710007 ]] {\r\n",
       "}\r\n",
       "}\r\n",
       "package \"Usages\" as E5  [[psysml:ccb2f7ee-bd35-4426-a662-4cf2ccb8ae79 ]]  {\r\n",
       "rec usage \"vehicle: Vehicle\" as E6  [[psysml:783d7c15-c905-4c38-b30b-d01c61187577 ]] {\r\n",
       "}\r\n",
       "}\r\n",
       "}\r\n",
       "E5 ..> E4 [[psysml:8882fd51-4fce-4e08-923b-d836bd7610d5 ]] : <<import>>\r\n",
       "E6 - -:|> E4 [[psysml:db353f76-c455-46cb-b105-6bd8058807fe ]] \r\n",
       "@enduml\r\n",
       "\n",
       "PlantUML version 1.2020.13(Sat Jun 13 12:26:38 UTC 2020)\n",
       "(EPL source distribution)\n",
       "Java Runtime: OpenJDK Runtime Environment\n",
       "JVM: OpenJDK 64-Bit Server VM\n",
       "Default Encoding: UTF-8\n",
       "Language: en\n",
       "Country: null\n",
       "--></g></svg>"
      ]
     },
     "execution_count": 19,
     "metadata": {},
     "output_type": "execute_result"
    }
   ],
   "source": [
    "%viz --style=\"LR\" --view=\"Interconnection\" \"AliasImport\""
   ]
  },
  {
   "cell_type": "code",
   "execution_count": 20,
   "id": "eb0c22a2",
   "metadata": {
    "execution": {
     "iopub.execute_input": "2022-06-20T11:14:59.845572Z",
     "iopub.status.busy": "2022-06-20T11:14:59.845108Z",
     "iopub.status.idle": "2022-06-20T11:14:59.850737Z",
     "shell.execute_reply": "2022-06-20T11:14:59.851056Z"
    }
   },
   "outputs": [
    {
     "data": {
      "image/svg+xml": [
       "<?xml version=\"1.0\" encoding=\"UTF-8\" standalone=\"no\"?><svg xmlns=\"http://www.w3.org/2000/svg\" xmlns:xlink=\"http://www.w3.org/1999/xlink\" contentScriptType=\"application/ecmascript\" contentStyleType=\"text/css\" height=\"12px\" preserveAspectRatio=\"none\" style=\"width:12px;height:12px;\" version=\"1.1\" viewBox=\"0 0 12 12\" width=\"12px\" zoomAndPan=\"magnify\"><defs/><g><!--MD5=[7aeb398939421629f6affaa4a1a7b125]\n",
       "@startuml\r\n",
       "skinparam ranksep 8\r\n",
       "left to right direction\r\n",
       "skinparam monochrome true\r\n",
       "skinparam classbackgroundcolor white\r\n",
       "skinparam shadowing false\r\n",
       "skinparam wrapWidth 300\r\n",
       "hide circle\r\n",
       "\r\n",
       "@enduml\r\n",
       "\n",
       "PlantUML version 1.2020.13(Sat Jun 13 12:26:38 UTC 2020)\n",
       "(EPL source distribution)\n",
       "Java Runtime: OpenJDK Runtime Environment\n",
       "JVM: OpenJDK 64-Bit Server VM\n",
       "Default Encoding: UTF-8\n",
       "Language: en\n",
       "Country: null\n",
       "--></g></svg>"
      ]
     },
     "execution_count": 20,
     "metadata": {},
     "output_type": "execute_result"
    }
   ],
   "source": [
    "%viz --style=\"LR\" --view=\"Action\" \"AliasImport\""
   ]
  },
  {
   "cell_type": "code",
   "execution_count": 21,
   "id": "75127038",
   "metadata": {
    "execution": {
     "iopub.execute_input": "2022-06-20T11:14:59.901240Z",
     "iopub.status.busy": "2022-06-20T11:14:59.900775Z",
     "iopub.status.idle": "2022-06-20T11:14:59.906755Z",
     "shell.execute_reply": "2022-06-20T11:14:59.907076Z"
    }
   },
   "outputs": [
    {
     "data": {
      "image/svg+xml": [
       "<?xml version=\"1.0\" encoding=\"UTF-8\" standalone=\"no\"?><svg xmlns=\"http://www.w3.org/2000/svg\" xmlns:xlink=\"http://www.w3.org/1999/xlink\" contentScriptType=\"application/ecmascript\" contentStyleType=\"text/css\" height=\"12px\" preserveAspectRatio=\"none\" style=\"width:12px;height:12px;\" version=\"1.1\" viewBox=\"0 0 12 12\" width=\"12px\" zoomAndPan=\"magnify\"><defs/><g><!--MD5=[238c11ea2002f03115ad6b49a457d50e]\n",
       "@startuml\r\n",
       "skinparam roundcorner 20\r\n",
       "skinparam BoxPadding 20\r\n",
       "skinparam SequenceBoxBackgroundColor #white\r\n",
       "skinparam style strictuml\r\n",
       "skinparam maxMessageSize 100\r\n",
       "left to right direction\r\n",
       "skinparam monochrome true\r\n",
       "skinparam classbackgroundcolor white\r\n",
       "skinparam shadowing false\r\n",
       "skinparam wrapWidth 300\r\n",
       "hide circle\r\n",
       "\r\n",
       "@enduml\r\n",
       "\n",
       "PlantUML version 1.2020.13(Sat Jun 13 12:26:38 UTC 2020)\n",
       "(EPL source distribution)\n",
       "Java Runtime: OpenJDK Runtime Environment\n",
       "JVM: OpenJDK 64-Bit Server VM\n",
       "Default Encoding: UTF-8\n",
       "Language: en\n",
       "Country: null\n",
       "--></g></svg>"
      ]
     },
     "execution_count": 21,
     "metadata": {},
     "output_type": "execute_result"
    }
   ],
   "source": [
    "%viz --style=\"LR\" --view=\"Sequence\" \"AliasImport\""
   ]
  },
  {
   "cell_type": "code",
   "execution_count": 22,
   "id": "6dab7968",
   "metadata": {
    "execution": {
     "iopub.execute_input": "2022-06-20T11:14:59.957412Z",
     "iopub.status.busy": "2022-06-20T11:14:59.956967Z",
     "iopub.status.idle": "2022-06-20T11:14:59.992446Z",
     "shell.execute_reply": "2022-06-20T11:14:59.992746Z"
    }
   },
   "outputs": [
    {
     "data": {
      "image/svg+xml": [
       "<?xml version=\"1.0\" encoding=\"UTF-8\" standalone=\"no\"?><svg xmlns=\"http://www.w3.org/2000/svg\" xmlns:xlink=\"http://www.w3.org/1999/xlink\" contentScriptType=\"application/ecmascript\" contentStyleType=\"text/css\" height=\"263px\" preserveAspectRatio=\"none\" style=\"width:450px;height:263px;\" version=\"1.1\" viewBox=\"0 0 450 263\" width=\"450px\" zoomAndPan=\"magnify\"><defs/><g><!--MD5=[fbc87193dbaf4d95561dea2c320d4a47]\n",
       "cluster E1--><a href=\"psysml:abc348a5-e8b0-46f2-97be-35eb1a9e9199\" target=\"_top\" title=\"psysml:abc348a5-e8b0-46f2-97be-35eb1a9e9199\" xlink:actuate=\"onRequest\" xlink:href=\"psysml:abc348a5-e8b0-46f2-97be-35eb1a9e9199\" xlink:show=\"new\" xlink:title=\"psysml:abc348a5-e8b0-46f2-97be-35eb1a9e9199\" xlink:type=\"simple\"><polygon fill=\"#FFFFFF\" points=\"16,6,97,6,104,28.2969,428,28.2969,428,251,16,251,16,6\" style=\"stroke: #000000; stroke-width: 1.5;\"/><line style=\"stroke: #000000; stroke-width: 1.5;\" x1=\"16\" x2=\"104\" y1=\"28.2969\" y2=\"28.2969\"/><text fill=\"#000000\" font-family=\"sans-serif\" font-size=\"14\" font-weight=\"bold\" lengthAdjust=\"spacingAndGlyphs\" textLength=\"75\" x=\"20\" y=\"20.9951\">AliasImport</text></a><!--MD5=[e4f7fae6ed58524ba242bb0b0d3be6b7]\n",
       "cluster E2--><a href=\"psysml:c5390b7c-a915-4e3b-b35e-1c2257f021d2\" target=\"_top\" title=\"psysml:c5390b7c-a915-4e3b-b35e-1c2257f021d2\" xlink:actuate=\"onRequest\" xlink:href=\"psysml:c5390b7c-a915-4e3b-b35e-1c2257f021d2\" xlink:show=\"new\" xlink:title=\"psysml:c5390b7c-a915-4e3b-b35e-1c2257f021d2\" xlink:type=\"simple\"><polygon fill=\"#FFFFFF\" points=\"302,49,381,49,388,71.2969,404,71.2969,404,227,302,227,302,49\" style=\"stroke: #000000; stroke-width: 1.5;\"/><line style=\"stroke: #000000; stroke-width: 1.5;\" x1=\"302\" x2=\"388\" y1=\"71.2969\" y2=\"71.2969\"/><text fill=\"#000000\" font-family=\"sans-serif\" font-size=\"14\" font-weight=\"bold\" lengthAdjust=\"spacingAndGlyphs\" textLength=\"73\" x=\"306\" y=\"63.9951\">Definitions</text></a><!--MD5=[de5ec2e2e8f62f467e546659f5068c88]\n",
       "cluster E5--><a href=\"psysml:ccb2f7ee-bd35-4426-a662-4cf2ccb8ae79\" target=\"_top\" title=\"psysml:ccb2f7ee-bd35-4426-a662-4cf2ccb8ae79\" xlink:actuate=\"onRequest\" xlink:href=\"psysml:ccb2f7ee-bd35-4426-a662-4cf2ccb8ae79\" xlink:show=\"new\" xlink:title=\"psysml:ccb2f7ee-bd35-4426-a662-4cf2ccb8ae79\" xlink:type=\"simple\"><polygon fill=\"#FFFFFF\" points=\"48,79,106,79,113,101.2969,202,101.2969,202,211,48,211,48,79\" style=\"stroke: #000000; stroke-width: 1.5;\"/><line style=\"stroke: #000000; stroke-width: 1.5;\" x1=\"48\" x2=\"113\" y1=\"101.2969\" y2=\"101.2969\"/><text fill=\"#000000\" font-family=\"sans-serif\" font-size=\"14\" font-weight=\"bold\" lengthAdjust=\"spacingAndGlyphs\" textLength=\"52\" x=\"52\" y=\"93.9951\">Usages</text></a><!--MD5=[09b614a08d8cba4a07c9adeb5e0fee81]\n",
       "class E3--><a href=\"psysml:659a1dfe-6b8d-4702-b827-b31a03710007\" target=\"_top\" title=\"psysml:659a1dfe-6b8d-4702-b827-b31a03710007\" xlink:actuate=\"onRequest\" xlink:href=\"psysml:659a1dfe-6b8d-4702-b827-b31a03710007\" xlink:show=\"new\" xlink:title=\"psysml:659a1dfe-6b8d-4702-b827-b31a03710007\" xlink:type=\"simple\"><rect fill=\"#FFFFFF\" height=\"45.9375\" id=\"E3\" style=\"stroke: #383838; stroke-width: 1.5;\" width=\"70\" x=\"318\" y=\"84\"/><text fill=\"#000000\" font-family=\"sans-serif\" font-size=\"12\" font-style=\"italic\" lengthAdjust=\"spacingAndGlyphs\" textLength=\"68\" x=\"319\" y=\"100.1387\">«part  def»</text><text fill=\"#000000\" font-family=\"sans-serif\" font-size=\"12\" lengthAdjust=\"spacingAndGlyphs\" textLength=\"45\" x=\"330.5\" y=\"114.1074\">Vehicle</text><line style=\"stroke: #383838; stroke-width: 1.5;\" x1=\"319\" x2=\"387\" y1=\"121.9375\" y2=\"121.9375\"/></a><!--MD5=[ebbe1d658d1005bcc118a6aa81145e00]\n",
       "class E4--><a href=\"psysml:659a1dfe-6b8d-4702-b827-b31a03710007\" target=\"_top\" title=\"psysml:659a1dfe-6b8d-4702-b827-b31a03710007\" xlink:actuate=\"onRequest\" xlink:href=\"psysml:659a1dfe-6b8d-4702-b827-b31a03710007\" xlink:show=\"new\" xlink:title=\"psysml:659a1dfe-6b8d-4702-b827-b31a03710007\" xlink:type=\"simple\"><rect fill=\"#FFFFFF\" height=\"45.9375\" id=\"E4\" style=\"stroke: #383838; stroke-width: 1.5;\" width=\"70\" x=\"318\" y=\"165\"/><text fill=\"#000000\" font-family=\"sans-serif\" font-size=\"12\" font-style=\"italic\" lengthAdjust=\"spacingAndGlyphs\" textLength=\"68\" x=\"319\" y=\"181.1387\">«part  def»</text><text fill=\"#000000\" font-family=\"sans-serif\" font-size=\"12\" lengthAdjust=\"spacingAndGlyphs\" textLength=\"45\" x=\"330.5\" y=\"195.1074\">Vehicle</text><line style=\"stroke: #383838; stroke-width: 1.5;\" x1=\"319\" x2=\"387\" y1=\"202.9375\" y2=\"202.9375\"/></a><!--MD5=[60a26617385b1d2d0262a64233df1f8d]\n",
       "class E6--><a href=\"psysml:783d7c15-c905-4c38-b30b-d01c61187577\" target=\"_top\" title=\"psysml:783d7c15-c905-4c38-b30b-d01c61187577\" xlink:actuate=\"onRequest\" xlink:href=\"psysml:783d7c15-c905-4c38-b30b-d01c61187577\" xlink:show=\"new\" xlink:title=\"psysml:783d7c15-c905-4c38-b30b-d01c61187577\" xlink:type=\"simple\"><rect fill=\"#FFFFFF\" height=\"45.9375\" id=\"E6\" rx=\"10\" ry=\"10\" style=\"stroke: #383838; stroke-width: 1.5;\" width=\"106\" x=\"72\" y=\"122\"/><text fill=\"#000000\" font-family=\"sans-serif\" font-size=\"12\" font-style=\"italic\" lengthAdjust=\"spacingAndGlyphs\" textLength=\"40\" x=\"105\" y=\"138.1387\">«part»</text><text fill=\"#000000\" font-family=\"sans-serif\" font-size=\"12\" lengthAdjust=\"spacingAndGlyphs\" textLength=\"96\" x=\"75\" y=\"152.1074\">vehicle: Vehicle</text><line style=\"stroke: #383838; stroke-width: 1.5;\" x1=\"73\" x2=\"177\" y1=\"159.9375\" y2=\"159.9375\"/></a><!--MD5=[1c62de2aa5b76f0fb657ff8443a1a700]\n",
       "link E5 to E4--><a href=\"psysml:8882fd51-4fce-4e08-923b-d836bd7610d5\" target=\"_top\" title=\"psysml:8882fd51-4fce-4e08-923b-d836bd7610d5\" xlink:actuate=\"onRequest\" xlink:href=\"psysml:8882fd51-4fce-4e08-923b-d836bd7610d5\" xlink:show=\"new\" xlink:title=\"psysml:8882fd51-4fce-4e08-923b-d836bd7610d5\" xlink:type=\"simple\"><path d=\"M202.7993,197.9019 C203.4034,197.8618 204.0091,197.8215 204.6162,197.7812 C207.0446,197.62 209.4964,197.4571 211.9665,197.2931 C216.9068,196.965 221.9203,196.6321 226.9662,196.297 C237.0579,195.6269 247.279,194.9481 257.3027,194.2825 C277.35,192.9513 296.6075,191.6725 312.46,190.62 \" fill=\"none\" id=\"E5-&gt;E4\" style=\"stroke: #383838; stroke-width: 1.0; stroke-dasharray: 7.0,7.0;\"/><polygon fill=\"#383838\" points=\"317.68,190.28,308.4371,186.8788,312.6908,190.6079,308.9617,194.8615,317.68,190.28\" style=\"stroke: #383838; stroke-width: 1.0;\"/><text fill=\"#000000\" font-family=\"sans-serif\" font-size=\"13\" lengthAdjust=\"spacingAndGlyphs\" textLength=\"58\" x=\"227\" y=\"189.0669\">«import»</text></a><!--MD5=[f667431f98296947986a1a7595a31603]\n",
       "link E6 to E4--><a href=\"psysml:db353f76-c455-46cb-b105-6bd8058807fe\" target=\"_top\" title=\"psysml:db353f76-c455-46cb-b105-6bd8058807fe\" xlink:actuate=\"onRequest\" xlink:href=\"psysml:db353f76-c455-46cb-b105-6bd8058807fe\" xlink:show=\"new\" xlink:title=\"psysml:db353f76-c455-46cb-b105-6bd8058807fe\" xlink:type=\"simple\"><path d=\"M178.24,150.48 C209.68,154.28 250.39,160.09 286,168 C290.06,168.9 294.24,169.93 298.43,171.03 \" fill=\"none\" id=\"E6-&gt;E4\" style=\"stroke: #383838; stroke-width: 1.0;\"/><polygon fill=\"#FFFFFF\" points=\"317.67,176.52,297.4786,178.0389,301.3194,164.576,317.67,176.52\" style=\"stroke: #383838; stroke-width: 1.0;\"/><ellipse cx=\"292.546\" cy=\"174.5519\" fill=\"#383838\" rx=\"2\" ry=\"2\" style=\"stroke: #383838; stroke-width: 1.0;\"/><ellipse cx=\"295.2894\" cy=\"164.9356\" fill=\"#383838\" rx=\"2\" ry=\"2\" style=\"stroke: #383838; stroke-width: 1.0;\"/></a><!--MD5=[b2f25cc2b61e4c778c293060eb3e5127]\n",
       "@startuml\r\n",
       "left to right direction\r\n",
       "skinparam monochrome true\r\n",
       "skinparam classbackgroundcolor white\r\n",
       "skinparam shadowing false\r\n",
       "skinparam wrapWidth 300\r\n",
       "hide circle\r\n",
       "\r\n",
       "package \"AliasImport\" as E1  [[psysml:abc348a5-e8b0-46f2-97be-35eb1a9e9199 ]]  {\r\n",
       "package \"Definitions\" as E2  [[psysml:c5390b7c-a915-4e3b-b35e-1c2257f021d2 ]]  {\r\n",
       "comp def \"Vehicle\" as E3  <<(T,blue) part  def>> [[psysml:659a1dfe-6b8d-4702-b827-b31a03710007 ]] {\r\n",
       "}\r\n",
       "comp def \"Vehicle\" as E4  <<(T,blue) part  def>> [[psysml:659a1dfe-6b8d-4702-b827-b31a03710007 ]] {\r\n",
       "}\r\n",
       "}\r\n",
       "package \"Usages\" as E5  [[psysml:ccb2f7ee-bd35-4426-a662-4cf2ccb8ae79 ]]  {\r\n",
       "comp usage \"vehicle: Vehicle \" as E6  <<(T,blue) part>> [[psysml:783d7c15-c905-4c38-b30b-d01c61187577 ]] {\r\n",
       "}\r\n",
       "}\r\n",
       "}\r\n",
       "E5 ..> E4 [[psysml:8882fd51-4fce-4e08-923b-d836bd7610d5 ]] : <<import>>\r\n",
       "E6 - -:|> E4 [[psysml:db353f76-c455-46cb-b105-6bd8058807fe ]] \r\n",
       "@enduml\r\n",
       "\n",
       "PlantUML version 1.2020.13(Sat Jun 13 12:26:38 UTC 2020)\n",
       "(EPL source distribution)\n",
       "Java Runtime: OpenJDK Runtime Environment\n",
       "JVM: OpenJDK 64-Bit Server VM\n",
       "Default Encoding: UTF-8\n",
       "Language: en\n",
       "Country: null\n",
       "--></g></svg>"
      ]
     },
     "execution_count": 22,
     "metadata": {},
     "output_type": "execute_result"
    }
   ],
   "source": [
    "%viz --style=\"LR\" --view=\"MIXED\" \"AliasImport\""
   ]
  },
  {
   "cell_type": "code",
   "execution_count": 23,
   "id": "eb5ef670",
   "metadata": {
    "execution": {
     "iopub.execute_input": "2022-06-20T11:15:00.042802Z",
     "iopub.status.busy": "2022-06-20T11:15:00.042355Z",
     "iopub.status.idle": "2022-06-20T11:15:00.075905Z",
     "shell.execute_reply": "2022-06-20T11:15:00.075468Z"
    }
   },
   "outputs": [
    {
     "data": {
      "image/svg+xml": [
       "<?xml version=\"1.0\" encoding=\"UTF-8\" standalone=\"no\"?><svg xmlns=\"http://www.w3.org/2000/svg\" xmlns:xlink=\"http://www.w3.org/1999/xlink\" contentScriptType=\"application/ecmascript\" contentStyleType=\"text/css\" height=\"360px\" preserveAspectRatio=\"none\" style=\"width:293px;height:360px;\" version=\"1.1\" viewBox=\"0 0 293 360\" width=\"293px\" zoomAndPan=\"magnify\"><defs><filter height=\"300%\" id=\"f147l8ocw01ucj\" width=\"300%\" x=\"-1\" y=\"-1\"><feGaussianBlur result=\"blurOut\" stdDeviation=\"2.0\"/><feColorMatrix in=\"blurOut\" result=\"blurOut2\" type=\"matrix\" values=\"0 0 0 0 0 0 0 0 0 0 0 0 0 0 0 0 0 0 .4 0\"/><feOffset dx=\"4.0\" dy=\"4.0\" in=\"blurOut2\" result=\"blurOut3\"/><feBlend in=\"SourceGraphic\" in2=\"blurOut3\" mode=\"normal\"/></filter></defs><g><!--MD5=[fbc87193dbaf4d95561dea2c320d4a47]\n",
       "cluster E1--><a href=\"psysml:abc348a5-e8b0-46f2-97be-35eb1a9e9199\" target=\"_top\" title=\"psysml:abc348a5-e8b0-46f2-97be-35eb1a9e9199\" xlink:actuate=\"onRequest\" xlink:href=\"psysml:abc348a5-e8b0-46f2-97be-35eb1a9e9199\" xlink:show=\"new\" xlink:title=\"psysml:abc348a5-e8b0-46f2-97be-35eb1a9e9199\" xlink:type=\"simple\"><polygon fill=\"#FFFFFF\" filter=\"url(#f147l8ocw01ucj)\" points=\"16,6,97,6,104,28.2969,271,28.2969,271,348,16,348,16,6\" style=\"stroke: #000000; stroke-width: 1.5;\"/><line style=\"stroke: #000000; stroke-width: 1.5;\" x1=\"16\" x2=\"104\" y1=\"28.2969\" y2=\"28.2969\"/><text fill=\"#000000\" font-family=\"sans-serif\" font-size=\"14\" font-weight=\"bold\" lengthAdjust=\"spacingAndGlyphs\" textLength=\"75\" x=\"20\" y=\"20.9951\">AliasImport</text></a><!--MD5=[e4f7fae6ed58524ba242bb0b0d3be6b7]\n",
       "cluster E2--><a href=\"psysml:c5390b7c-a915-4e3b-b35e-1c2257f021d2\" target=\"_top\" title=\"psysml:c5390b7c-a915-4e3b-b35e-1c2257f021d2\" xlink:actuate=\"onRequest\" xlink:href=\"psysml:c5390b7c-a915-4e3b-b35e-1c2257f021d2\" xlink:show=\"new\" xlink:title=\"psysml:c5390b7c-a915-4e3b-b35e-1c2257f021d2\" xlink:type=\"simple\"><polygon fill=\"#FFFFFF\" filter=\"url(#f147l8ocw01ucj)\" points=\"40,227,119,227,126,249.2969,247,249.2969,247,324,40,324,40,227\" style=\"stroke: #000000; stroke-width: 1.5;\"/><line style=\"stroke: #000000; stroke-width: 1.5;\" x1=\"40\" x2=\"126\" y1=\"249.2969\" y2=\"249.2969\"/><text fill=\"#000000\" font-family=\"sans-serif\" font-size=\"14\" font-weight=\"bold\" lengthAdjust=\"spacingAndGlyphs\" textLength=\"73\" x=\"44\" y=\"241.9951\">Definitions</text></a><!--MD5=[de5ec2e2e8f62f467e546659f5068c88]\n",
       "cluster E5--><a href=\"psysml:ccb2f7ee-bd35-4426-a662-4cf2ccb8ae79\" target=\"_top\" title=\"psysml:ccb2f7ee-bd35-4426-a662-4cf2ccb8ae79\" xlink:actuate=\"onRequest\" xlink:href=\"psysml:ccb2f7ee-bd35-4426-a662-4cf2ccb8ae79\" xlink:show=\"new\" xlink:title=\"psysml:ccb2f7ee-bd35-4426-a662-4cf2ccb8ae79\" xlink:type=\"simple\"><polygon fill=\"#FFFFFF\" filter=\"url(#f147l8ocw01ucj)\" points=\"56,57,114,57,121,79.2969,229,79.2969,229,170,56,170,56,57\" style=\"stroke: #000000; stroke-width: 1.5;\"/><line style=\"stroke: #000000; stroke-width: 1.5;\" x1=\"56\" x2=\"121\" y1=\"79.2969\" y2=\"79.2969\"/><text fill=\"#000000\" font-family=\"sans-serif\" font-size=\"14\" font-weight=\"bold\" lengthAdjust=\"spacingAndGlyphs\" textLength=\"52\" x=\"60\" y=\"71.9951\">Usages</text></a><!--MD5=[09b614a08d8cba4a07c9adeb5e0fee81]\n",
       "class E3--><a href=\"psysml:659a1dfe-6b8d-4702-b827-b31a03710007\" target=\"_top\" title=\"psysml:659a1dfe-6b8d-4702-b827-b31a03710007\" xlink:actuate=\"onRequest\" xlink:href=\"psysml:659a1dfe-6b8d-4702-b827-b31a03710007\" xlink:show=\"new\" xlink:title=\"psysml:659a1dfe-6b8d-4702-b827-b31a03710007\" xlink:type=\"simple\"><rect fill=\"#FEFECE\" filter=\"url(#f147l8ocw01ucj)\" height=\"45.9375\" id=\"E3\" style=\"stroke: #A80036; stroke-width: 1.5;\" width=\"70\" x=\"161\" y=\"262\"/><text fill=\"#000000\" font-family=\"sans-serif\" font-size=\"12\" font-style=\"italic\" lengthAdjust=\"spacingAndGlyphs\" textLength=\"68\" x=\"162\" y=\"278.1387\">«part  def»</text><text fill=\"#000000\" font-family=\"sans-serif\" font-size=\"12\" lengthAdjust=\"spacingAndGlyphs\" textLength=\"45\" x=\"173.5\" y=\"292.1074\">Vehicle</text><line style=\"stroke: #A80036; stroke-width: 1.5;\" x1=\"162\" x2=\"230\" y1=\"299.9375\" y2=\"299.9375\"/></a><!--MD5=[ebbe1d658d1005bcc118a6aa81145e00]\n",
       "class E4--><a href=\"psysml:659a1dfe-6b8d-4702-b827-b31a03710007\" target=\"_top\" title=\"psysml:659a1dfe-6b8d-4702-b827-b31a03710007\" xlink:actuate=\"onRequest\" xlink:href=\"psysml:659a1dfe-6b8d-4702-b827-b31a03710007\" xlink:show=\"new\" xlink:title=\"psysml:659a1dfe-6b8d-4702-b827-b31a03710007\" xlink:type=\"simple\"><rect fill=\"#FEFECE\" filter=\"url(#f147l8ocw01ucj)\" height=\"45.9375\" id=\"E4\" style=\"stroke: #A80036; stroke-width: 1.5;\" width=\"70\" x=\"56\" y=\"262\"/><text fill=\"#000000\" font-family=\"sans-serif\" font-size=\"12\" font-style=\"italic\" lengthAdjust=\"spacingAndGlyphs\" textLength=\"68\" x=\"57\" y=\"278.1387\">«part  def»</text><text fill=\"#000000\" font-family=\"sans-serif\" font-size=\"12\" lengthAdjust=\"spacingAndGlyphs\" textLength=\"45\" x=\"68.5\" y=\"292.1074\">Vehicle</text><line style=\"stroke: #A80036; stroke-width: 1.5;\" x1=\"57\" x2=\"125\" y1=\"299.9375\" y2=\"299.9375\"/></a><!--MD5=[60a26617385b1d2d0262a64233df1f8d]\n",
       "class E6--><a href=\"psysml:783d7c15-c905-4c38-b30b-d01c61187577\" target=\"_top\" title=\"psysml:783d7c15-c905-4c38-b30b-d01c61187577\" xlink:actuate=\"onRequest\" xlink:href=\"psysml:783d7c15-c905-4c38-b30b-d01c61187577\" xlink:show=\"new\" xlink:title=\"psysml:783d7c15-c905-4c38-b30b-d01c61187577\" xlink:type=\"simple\"><rect fill=\"#FEFECE\" filter=\"url(#f147l8ocw01ucj)\" height=\"45.9375\" id=\"E6\" rx=\"10\" ry=\"10\" style=\"stroke: #A80036; stroke-width: 1.5;\" width=\"106\" x=\"99\" y=\"100\"/><text fill=\"#000000\" font-family=\"sans-serif\" font-size=\"12\" font-style=\"italic\" lengthAdjust=\"spacingAndGlyphs\" textLength=\"40\" x=\"132\" y=\"116.1387\">«part»</text><text fill=\"#000000\" font-family=\"sans-serif\" font-size=\"12\" lengthAdjust=\"spacingAndGlyphs\" textLength=\"96\" x=\"102\" y=\"130.1074\">vehicle: Vehicle</text><line style=\"stroke: #A80036; stroke-width: 1.5;\" x1=\"100\" x2=\"204\" y1=\"137.9375\" y2=\"137.9375\"/></a><!--MD5=[1c62de2aa5b76f0fb657ff8443a1a700]\n",
       "link E5 to E4--><a href=\"psysml:8882fd51-4fce-4e08-923b-d836bd7610d5\" target=\"_top\" title=\"psysml:8882fd51-4fce-4e08-923b-d836bd7610d5\" xlink:actuate=\"onRequest\" xlink:href=\"psysml:8882fd51-4fce-4e08-923b-d836bd7610d5\" xlink:show=\"new\" xlink:title=\"psysml:8882fd51-4fce-4e08-923b-d836bd7610d5\" xlink:type=\"simple\"><path d=\"M66.8374,170.1716 C66.8505,170.3171 66.8637,170.4628 66.8769,170.6086 C66.9034,170.9002 66.9301,171.1924 66.957,171.485 C67.0647,172.6558 67.1761,173.8349 67.2913,175.0209 C67.5217,177.3929 67.7672,179.7921 68.0289,182.2055 C69.0756,191.8588 70.38,201.7375 72,211 C74.69,226.4 79,243.3 82.84,256.96 \" fill=\"none\" id=\"E5-&gt;E4\" style=\"stroke: #A80036; stroke-width: 1.0; stroke-dasharray: 7.0,7.0;\"/><polygon fill=\"#A80036\" points=\"84.23,261.84,85.6036,252.0874,82.8564,257.0324,77.9114,254.2852,84.23,261.84\" style=\"stroke: #A80036; stroke-width: 1.0;\"/><text fill=\"#000000\" font-family=\"sans-serif\" font-size=\"13\" lengthAdjust=\"spacingAndGlyphs\" textLength=\"58\" x=\"73\" y=\"207.0669\">«import»</text></a><!--MD5=[f667431f98296947986a1a7595a31603]\n",
       "link E6 to E4--><a href=\"psysml:db353f76-c455-46cb-b105-6bd8058807fe\" target=\"_top\" title=\"psysml:db353f76-c455-46cb-b105-6bd8058807fe\" xlink:actuate=\"onRequest\" xlink:href=\"psysml:db353f76-c455-46cb-b105-6bd8058807fe\" xlink:show=\"new\" xlink:title=\"psysml:db353f76-c455-46cb-b105-6bd8058807fe\" xlink:type=\"simple\"><path d=\"M150.22,146.06 C148.23,164.02 144.16,189.79 136,211 C131.57,222.52 125.29,234.23 118.82,244.81 \" fill=\"none\" id=\"E6-&gt;E4\" style=\"stroke: #A80036; stroke-width: 1.0;\"/><polygon fill=\"#FFFFFF\" points=\"107.7,261.8,112.2548,242.0705,123.9662,249.7414,107.7,261.8\" style=\"stroke: #A80036; stroke-width: 1.0;\"/><ellipse cx=\"117.051\" cy=\"238.3981\" fill=\"#A80036\" rx=\"2\" ry=\"2\" style=\"stroke: #A80036; stroke-width: 1.0;\"/><ellipse cx=\"125.4163\" cy=\"243.8774\" fill=\"#A80036\" rx=\"2\" ry=\"2\" style=\"stroke: #A80036; stroke-width: 1.0;\"/></a><!--MD5=[53185f8ab29a43284ccb8bf0532a8708]\n",
       "@startuml\r\n",
       "skinparam wrapWidth 300\r\n",
       "hide circle\r\n",
       "\r\n",
       "package \"AliasImport\" as E1  [[psysml:abc348a5-e8b0-46f2-97be-35eb1a9e9199 ]]  {\r\n",
       "package \"Definitions\" as E2  [[psysml:c5390b7c-a915-4e3b-b35e-1c2257f021d2 ]]  {\r\n",
       "comp def \"Vehicle\" as E3  <<(T,blue) part  def>> [[psysml:659a1dfe-6b8d-4702-b827-b31a03710007 ]] {\r\n",
       "}\r\n",
       "comp def \"Vehicle\" as E4  <<(T,blue) part  def>> [[psysml:659a1dfe-6b8d-4702-b827-b31a03710007 ]] {\r\n",
       "}\r\n",
       "}\r\n",
       "package \"Usages\" as E5  [[psysml:ccb2f7ee-bd35-4426-a662-4cf2ccb8ae79 ]]  {\r\n",
       "comp usage \"vehicle: Vehicle \" as E6  <<(T,blue) part>> [[psysml:783d7c15-c905-4c38-b30b-d01c61187577 ]] {\r\n",
       "}\r\n",
       "}\r\n",
       "}\r\n",
       "E5 ..> E4 [[psysml:8882fd51-4fce-4e08-923b-d836bd7610d5 ]] : <<import>>\r\n",
       "E6 - -:|> E4 [[psysml:db353f76-c455-46cb-b105-6bd8058807fe ]] \r\n",
       "@enduml\r\n",
       "\n",
       "PlantUML version 1.2020.13(Sat Jun 13 12:26:38 UTC 2020)\n",
       "(EPL source distribution)\n",
       "Java Runtime: OpenJDK Runtime Environment\n",
       "JVM: OpenJDK 64-Bit Server VM\n",
       "Default Encoding: UTF-8\n",
       "Language: en\n",
       "Country: null\n",
       "--></g></svg>"
      ]
     },
     "execution_count": 23,
     "metadata": {},
     "output_type": "execute_result"
    }
   ],
   "source": [
    "%viz --style=\"STDCOLOR\" --view=\"Default\" \"AliasImport\""
   ]
  },
  {
   "cell_type": "code",
   "execution_count": 24,
   "id": "9d68dda9",
   "metadata": {
    "execution": {
     "iopub.execute_input": "2022-06-20T11:15:00.125425Z",
     "iopub.status.busy": "2022-06-20T11:15:00.124959Z",
     "iopub.status.idle": "2022-06-20T11:15:00.157687Z",
     "shell.execute_reply": "2022-06-20T11:15:00.157261Z"
    }
   },
   "outputs": [
    {
     "data": {
      "image/svg+xml": [
       "<?xml version=\"1.0\" encoding=\"UTF-8\" standalone=\"no\"?><svg xmlns=\"http://www.w3.org/2000/svg\" xmlns:xlink=\"http://www.w3.org/1999/xlink\" contentScriptType=\"application/ecmascript\" contentStyleType=\"text/css\" height=\"360px\" preserveAspectRatio=\"none\" style=\"width:293px;height:360px;\" version=\"1.1\" viewBox=\"0 0 293 360\" width=\"293px\" zoomAndPan=\"magnify\"><defs><filter height=\"300%\" id=\"f147l8ocw01ucj\" width=\"300%\" x=\"-1\" y=\"-1\"><feGaussianBlur result=\"blurOut\" stdDeviation=\"2.0\"/><feColorMatrix in=\"blurOut\" result=\"blurOut2\" type=\"matrix\" values=\"0 0 0 0 0 0 0 0 0 0 0 0 0 0 0 0 0 0 .4 0\"/><feOffset dx=\"4.0\" dy=\"4.0\" in=\"blurOut2\" result=\"blurOut3\"/><feBlend in=\"SourceGraphic\" in2=\"blurOut3\" mode=\"normal\"/></filter></defs><g><!--MD5=[fbc87193dbaf4d95561dea2c320d4a47]\n",
       "cluster E1--><a href=\"psysml:abc348a5-e8b0-46f2-97be-35eb1a9e9199\" target=\"_top\" title=\"psysml:abc348a5-e8b0-46f2-97be-35eb1a9e9199\" xlink:actuate=\"onRequest\" xlink:href=\"psysml:abc348a5-e8b0-46f2-97be-35eb1a9e9199\" xlink:show=\"new\" xlink:title=\"psysml:abc348a5-e8b0-46f2-97be-35eb1a9e9199\" xlink:type=\"simple\"><polygon fill=\"#FFFFFF\" filter=\"url(#f147l8ocw01ucj)\" points=\"16,6,97,6,104,28.2969,271,28.2969,271,348,16,348,16,6\" style=\"stroke: #000000; stroke-width: 1.5;\"/><line style=\"stroke: #000000; stroke-width: 1.5;\" x1=\"16\" x2=\"104\" y1=\"28.2969\" y2=\"28.2969\"/><text fill=\"#000000\" font-family=\"sans-serif\" font-size=\"14\" font-weight=\"bold\" lengthAdjust=\"spacingAndGlyphs\" textLength=\"75\" x=\"20\" y=\"20.9951\">AliasImport</text></a><!--MD5=[e4f7fae6ed58524ba242bb0b0d3be6b7]\n",
       "cluster E2--><a href=\"psysml:c5390b7c-a915-4e3b-b35e-1c2257f021d2\" target=\"_top\" title=\"psysml:c5390b7c-a915-4e3b-b35e-1c2257f021d2\" xlink:actuate=\"onRequest\" xlink:href=\"psysml:c5390b7c-a915-4e3b-b35e-1c2257f021d2\" xlink:show=\"new\" xlink:title=\"psysml:c5390b7c-a915-4e3b-b35e-1c2257f021d2\" xlink:type=\"simple\"><polygon fill=\"#FFFFFF\" filter=\"url(#f147l8ocw01ucj)\" points=\"40,227,119,227,126,249.2969,247,249.2969,247,324,40,324,40,227\" style=\"stroke: #000000; stroke-width: 1.5;\"/><line style=\"stroke: #000000; stroke-width: 1.5;\" x1=\"40\" x2=\"126\" y1=\"249.2969\" y2=\"249.2969\"/><text fill=\"#000000\" font-family=\"sans-serif\" font-size=\"14\" font-weight=\"bold\" lengthAdjust=\"spacingAndGlyphs\" textLength=\"73\" x=\"44\" y=\"241.9951\">Definitions</text></a><!--MD5=[de5ec2e2e8f62f467e546659f5068c88]\n",
       "cluster E5--><a href=\"psysml:ccb2f7ee-bd35-4426-a662-4cf2ccb8ae79\" target=\"_top\" title=\"psysml:ccb2f7ee-bd35-4426-a662-4cf2ccb8ae79\" xlink:actuate=\"onRequest\" xlink:href=\"psysml:ccb2f7ee-bd35-4426-a662-4cf2ccb8ae79\" xlink:show=\"new\" xlink:title=\"psysml:ccb2f7ee-bd35-4426-a662-4cf2ccb8ae79\" xlink:type=\"simple\"><polygon fill=\"#FFFFFF\" filter=\"url(#f147l8ocw01ucj)\" points=\"56,57,114,57,121,79.2969,229,79.2969,229,170,56,170,56,57\" style=\"stroke: #000000; stroke-width: 1.5;\"/><line style=\"stroke: #000000; stroke-width: 1.5;\" x1=\"56\" x2=\"121\" y1=\"79.2969\" y2=\"79.2969\"/><text fill=\"#000000\" font-family=\"sans-serif\" font-size=\"14\" font-weight=\"bold\" lengthAdjust=\"spacingAndGlyphs\" textLength=\"52\" x=\"60\" y=\"71.9951\">Usages</text></a><!--MD5=[09b614a08d8cba4a07c9adeb5e0fee81]\n",
       "class E3--><a href=\"psysml:659a1dfe-6b8d-4702-b827-b31a03710007\" target=\"_top\" title=\"psysml:659a1dfe-6b8d-4702-b827-b31a03710007\" xlink:actuate=\"onRequest\" xlink:href=\"psysml:659a1dfe-6b8d-4702-b827-b31a03710007\" xlink:show=\"new\" xlink:title=\"psysml:659a1dfe-6b8d-4702-b827-b31a03710007\" xlink:type=\"simple\"><rect fill=\"#FEFECE\" filter=\"url(#f147l8ocw01ucj)\" height=\"45.9375\" id=\"E3\" style=\"stroke: #A80036; stroke-width: 1.5;\" width=\"70\" x=\"161\" y=\"262\"/><text fill=\"#000000\" font-family=\"sans-serif\" font-size=\"12\" font-style=\"italic\" lengthAdjust=\"spacingAndGlyphs\" textLength=\"68\" x=\"162\" y=\"278.1387\">«part  def»</text><text fill=\"#000000\" font-family=\"sans-serif\" font-size=\"12\" lengthAdjust=\"spacingAndGlyphs\" textLength=\"45\" x=\"173.5\" y=\"292.1074\">Vehicle</text><line style=\"stroke: #A80036; stroke-width: 1.5;\" x1=\"162\" x2=\"230\" y1=\"299.9375\" y2=\"299.9375\"/></a><!--MD5=[ebbe1d658d1005bcc118a6aa81145e00]\n",
       "class E4--><a href=\"psysml:659a1dfe-6b8d-4702-b827-b31a03710007\" target=\"_top\" title=\"psysml:659a1dfe-6b8d-4702-b827-b31a03710007\" xlink:actuate=\"onRequest\" xlink:href=\"psysml:659a1dfe-6b8d-4702-b827-b31a03710007\" xlink:show=\"new\" xlink:title=\"psysml:659a1dfe-6b8d-4702-b827-b31a03710007\" xlink:type=\"simple\"><rect fill=\"#FEFECE\" filter=\"url(#f147l8ocw01ucj)\" height=\"45.9375\" id=\"E4\" style=\"stroke: #A80036; stroke-width: 1.5;\" width=\"70\" x=\"56\" y=\"262\"/><text fill=\"#000000\" font-family=\"sans-serif\" font-size=\"12\" font-style=\"italic\" lengthAdjust=\"spacingAndGlyphs\" textLength=\"68\" x=\"57\" y=\"278.1387\">«part  def»</text><text fill=\"#000000\" font-family=\"sans-serif\" font-size=\"12\" lengthAdjust=\"spacingAndGlyphs\" textLength=\"45\" x=\"68.5\" y=\"292.1074\">Vehicle</text><line style=\"stroke: #A80036; stroke-width: 1.5;\" x1=\"57\" x2=\"125\" y1=\"299.9375\" y2=\"299.9375\"/></a><!--MD5=[60a26617385b1d2d0262a64233df1f8d]\n",
       "class E6--><a href=\"psysml:783d7c15-c905-4c38-b30b-d01c61187577\" target=\"_top\" title=\"psysml:783d7c15-c905-4c38-b30b-d01c61187577\" xlink:actuate=\"onRequest\" xlink:href=\"psysml:783d7c15-c905-4c38-b30b-d01c61187577\" xlink:show=\"new\" xlink:title=\"psysml:783d7c15-c905-4c38-b30b-d01c61187577\" xlink:type=\"simple\"><rect fill=\"#FEFECE\" filter=\"url(#f147l8ocw01ucj)\" height=\"45.9375\" id=\"E6\" rx=\"10\" ry=\"10\" style=\"stroke: #A80036; stroke-width: 1.5;\" width=\"106\" x=\"99\" y=\"100\"/><text fill=\"#000000\" font-family=\"sans-serif\" font-size=\"12\" font-style=\"italic\" lengthAdjust=\"spacingAndGlyphs\" textLength=\"40\" x=\"132\" y=\"116.1387\">«part»</text><text fill=\"#000000\" font-family=\"sans-serif\" font-size=\"12\" lengthAdjust=\"spacingAndGlyphs\" textLength=\"96\" x=\"102\" y=\"130.1074\">vehicle: Vehicle</text><line style=\"stroke: #A80036; stroke-width: 1.5;\" x1=\"100\" x2=\"204\" y1=\"137.9375\" y2=\"137.9375\"/></a><!--MD5=[1c62de2aa5b76f0fb657ff8443a1a700]\n",
       "link E5 to E4--><a href=\"psysml:8882fd51-4fce-4e08-923b-d836bd7610d5\" target=\"_top\" title=\"psysml:8882fd51-4fce-4e08-923b-d836bd7610d5\" xlink:actuate=\"onRequest\" xlink:href=\"psysml:8882fd51-4fce-4e08-923b-d836bd7610d5\" xlink:show=\"new\" xlink:title=\"psysml:8882fd51-4fce-4e08-923b-d836bd7610d5\" xlink:type=\"simple\"><path d=\"M66.8374,170.1716 C66.8505,170.3171 66.8637,170.4628 66.8769,170.6086 C66.9034,170.9002 66.9301,171.1924 66.957,171.485 C67.0647,172.6558 67.1761,173.8349 67.2913,175.0209 C67.5217,177.3929 67.7672,179.7921 68.0289,182.2055 C69.0756,191.8588 70.38,201.7375 72,211 C74.69,226.4 79,243.3 82.84,256.96 \" fill=\"none\" id=\"E5-&gt;E4\" style=\"stroke: #A80036; stroke-width: 1.0; stroke-dasharray: 7.0,7.0;\"/><polygon fill=\"#A80036\" points=\"84.23,261.84,85.6036,252.0874,82.8564,257.0324,77.9114,254.2852,84.23,261.84\" style=\"stroke: #A80036; stroke-width: 1.0;\"/><text fill=\"#000000\" font-family=\"sans-serif\" font-size=\"13\" lengthAdjust=\"spacingAndGlyphs\" textLength=\"58\" x=\"73\" y=\"207.0669\">«import»</text></a><!--MD5=[f667431f98296947986a1a7595a31603]\n",
       "link E6 to E4--><a href=\"psysml:db353f76-c455-46cb-b105-6bd8058807fe\" target=\"_top\" title=\"psysml:db353f76-c455-46cb-b105-6bd8058807fe\" xlink:actuate=\"onRequest\" xlink:href=\"psysml:db353f76-c455-46cb-b105-6bd8058807fe\" xlink:show=\"new\" xlink:title=\"psysml:db353f76-c455-46cb-b105-6bd8058807fe\" xlink:type=\"simple\"><path d=\"M150.22,146.06 C148.23,164.02 144.16,189.79 136,211 C131.57,222.52 125.29,234.23 118.82,244.81 \" fill=\"none\" id=\"E6-&gt;E4\" style=\"stroke: #A80036; stroke-width: 1.0;\"/><polygon fill=\"#FFFFFF\" points=\"107.7,261.8,112.2548,242.0705,123.9662,249.7414,107.7,261.8\" style=\"stroke: #A80036; stroke-width: 1.0;\"/><ellipse cx=\"117.051\" cy=\"238.3981\" fill=\"#A80036\" rx=\"2\" ry=\"2\" style=\"stroke: #A80036; stroke-width: 1.0;\"/><ellipse cx=\"125.4163\" cy=\"243.8774\" fill=\"#A80036\" rx=\"2\" ry=\"2\" style=\"stroke: #A80036; stroke-width: 1.0;\"/></a><!--MD5=[53185f8ab29a43284ccb8bf0532a8708]\n",
       "@startuml\r\n",
       "skinparam wrapWidth 300\r\n",
       "hide circle\r\n",
       "\r\n",
       "package \"AliasImport\" as E1  [[psysml:abc348a5-e8b0-46f2-97be-35eb1a9e9199 ]]  {\r\n",
       "package \"Definitions\" as E2  [[psysml:c5390b7c-a915-4e3b-b35e-1c2257f021d2 ]]  {\r\n",
       "comp def \"Vehicle\" as E3  <<(T,blue) part  def>> [[psysml:659a1dfe-6b8d-4702-b827-b31a03710007 ]] {\r\n",
       "}\r\n",
       "comp def \"Vehicle\" as E4  <<(T,blue) part  def>> [[psysml:659a1dfe-6b8d-4702-b827-b31a03710007 ]] {\r\n",
       "}\r\n",
       "}\r\n",
       "package \"Usages\" as E5  [[psysml:ccb2f7ee-bd35-4426-a662-4cf2ccb8ae79 ]]  {\r\n",
       "comp usage \"vehicle: Vehicle \" as E6  <<(T,blue) part>> [[psysml:783d7c15-c905-4c38-b30b-d01c61187577 ]] {\r\n",
       "}\r\n",
       "}\r\n",
       "}\r\n",
       "E5 ..> E4 [[psysml:8882fd51-4fce-4e08-923b-d836bd7610d5 ]] : <<import>>\r\n",
       "E6 - -:|> E4 [[psysml:db353f76-c455-46cb-b105-6bd8058807fe ]] \r\n",
       "@enduml\r\n",
       "\n",
       "PlantUML version 1.2020.13(Sat Jun 13 12:26:38 UTC 2020)\n",
       "(EPL source distribution)\n",
       "Java Runtime: OpenJDK Runtime Environment\n",
       "JVM: OpenJDK 64-Bit Server VM\n",
       "Default Encoding: UTF-8\n",
       "Language: en\n",
       "Country: null\n",
       "--></g></svg>"
      ]
     },
     "execution_count": 24,
     "metadata": {},
     "output_type": "execute_result"
    }
   ],
   "source": [
    "%viz --style=\"STDCOLOR\" --view=\"Tree\" \"AliasImport\""
   ]
  },
  {
   "cell_type": "code",
   "execution_count": 25,
   "id": "04122135",
   "metadata": {
    "execution": {
     "iopub.execute_input": "2022-06-20T11:15:00.207257Z",
     "iopub.status.busy": "2022-06-20T11:15:00.206784Z",
     "iopub.status.idle": "2022-06-20T11:15:00.212242Z",
     "shell.execute_reply": "2022-06-20T11:15:00.211828Z"
    }
   },
   "outputs": [
    {
     "data": {
      "image/svg+xml": [
       "<?xml version=\"1.0\" encoding=\"UTF-8\" standalone=\"no\"?><svg xmlns=\"http://www.w3.org/2000/svg\" xmlns:xlink=\"http://www.w3.org/1999/xlink\" contentScriptType=\"application/ecmascript\" contentStyleType=\"text/css\" height=\"12px\" preserveAspectRatio=\"none\" style=\"width:12px;height:12px;\" version=\"1.1\" viewBox=\"0 0 12 12\" width=\"12px\" zoomAndPan=\"magnify\"><defs/><g><!--MD5=[aeeef50f102b80d730deb6443d14f702]\n",
       "@startuml\r\n",
       "skinparam wrapWidth 300\r\n",
       "hide circle\r\n",
       "\r\n",
       "@enduml\r\n",
       "\n",
       "PlantUML version 1.2020.13(Sat Jun 13 12:26:38 UTC 2020)\n",
       "(EPL source distribution)\n",
       "Java Runtime: OpenJDK Runtime Environment\n",
       "JVM: OpenJDK 64-Bit Server VM\n",
       "Default Encoding: UTF-8\n",
       "Language: en\n",
       "Country: null\n",
       "--></g></svg>"
      ]
     },
     "execution_count": 25,
     "metadata": {},
     "output_type": "execute_result"
    }
   ],
   "source": [
    "%viz --style=\"STDCOLOR\" --view=\"State\" \"AliasImport\""
   ]
  },
  {
   "cell_type": "code",
   "execution_count": 26,
   "id": "420f6555",
   "metadata": {
    "execution": {
     "iopub.execute_input": "2022-06-20T11:15:00.262034Z",
     "iopub.status.busy": "2022-06-20T11:15:00.261581Z",
     "iopub.status.idle": "2022-06-20T11:15:00.294038Z",
     "shell.execute_reply": "2022-06-20T11:15:00.293617Z"
    }
   },
   "outputs": [
    {
     "data": {
      "image/svg+xml": [
       "<?xml version=\"1.0\" encoding=\"UTF-8\" standalone=\"no\"?><svg xmlns=\"http://www.w3.org/2000/svg\" xmlns:xlink=\"http://www.w3.org/1999/xlink\" contentScriptType=\"application/ecmascript\" contentStyleType=\"text/css\" height=\"351px\" preserveAspectRatio=\"none\" style=\"width:302px;height:351px;\" version=\"1.1\" viewBox=\"0 0 302 351\" width=\"302px\" zoomAndPan=\"magnify\"><defs><filter height=\"300%\" id=\"f163u1m9gepzup\" width=\"300%\" x=\"-1\" y=\"-1\"><feGaussianBlur result=\"blurOut\" stdDeviation=\"2.0\"/><feColorMatrix in=\"blurOut\" result=\"blurOut2\" type=\"matrix\" values=\"0 0 0 0 0 0 0 0 0 0 0 0 0 0 0 0 0 0 .4 0\"/><feOffset dx=\"4.0\" dy=\"4.0\" in=\"blurOut2\" result=\"blurOut3\"/><feBlend in=\"SourceGraphic\" in2=\"blurOut3\" mode=\"normal\"/></filter></defs><g><!--MD5=[fbc87193dbaf4d95561dea2c320d4a47]\n",
       "cluster E1--><a href=\"psysml:abc348a5-e8b0-46f2-97be-35eb1a9e9199\" target=\"_top\" title=\"psysml:abc348a5-e8b0-46f2-97be-35eb1a9e9199\" xlink:actuate=\"onRequest\" xlink:href=\"psysml:abc348a5-e8b0-46f2-97be-35eb1a9e9199\" xlink:show=\"new\" xlink:title=\"psysml:abc348a5-e8b0-46f2-97be-35eb1a9e9199\" xlink:type=\"simple\"><polygon fill=\"#FFFFFF\" filter=\"url(#f163u1m9gepzup)\" points=\"16,6,97,6,104,28.2969,280,28.2969,280,339,16,339,16,6\" style=\"stroke: #000000; stroke-width: 1.5;\"/><line style=\"stroke: #000000; stroke-width: 1.5;\" x1=\"16\" x2=\"104\" y1=\"28.2969\" y2=\"28.2969\"/><text fill=\"#000000\" font-family=\"sans-serif\" font-size=\"14\" font-weight=\"bold\" lengthAdjust=\"spacingAndGlyphs\" textLength=\"75\" x=\"20\" y=\"20.9951\">AliasImport</text></a><!--MD5=[e4f7fae6ed58524ba242bb0b0d3be6b7]\n",
       "cluster E2--><a href=\"psysml:c5390b7c-a915-4e3b-b35e-1c2257f021d2\" target=\"_top\" title=\"psysml:c5390b7c-a915-4e3b-b35e-1c2257f021d2\" xlink:actuate=\"onRequest\" xlink:href=\"psysml:c5390b7c-a915-4e3b-b35e-1c2257f021d2\" xlink:show=\"new\" xlink:title=\"psysml:c5390b7c-a915-4e3b-b35e-1c2257f021d2\" xlink:type=\"simple\"><polygon fill=\"#FFFFFF\" filter=\"url(#f163u1m9gepzup)\" points=\"40,221,119,221,126,243.2969,256,243.2969,256,315,40,315,40,221\" style=\"stroke: #000000; stroke-width: 1.5;\"/><line style=\"stroke: #000000; stroke-width: 1.5;\" x1=\"40\" x2=\"126\" y1=\"243.2969\" y2=\"243.2969\"/><text fill=\"#000000\" font-family=\"sans-serif\" font-size=\"14\" font-weight=\"bold\" lengthAdjust=\"spacingAndGlyphs\" textLength=\"73\" x=\"44\" y=\"235.9951\">Definitions</text></a><!--MD5=[de5ec2e2e8f62f467e546659f5068c88]\n",
       "cluster E5--><a href=\"psysml:ccb2f7ee-bd35-4426-a662-4cf2ccb8ae79\" target=\"_top\" title=\"psysml:ccb2f7ee-bd35-4426-a662-4cf2ccb8ae79\" xlink:actuate=\"onRequest\" xlink:href=\"psysml:ccb2f7ee-bd35-4426-a662-4cf2ccb8ae79\" xlink:show=\"new\" xlink:title=\"psysml:ccb2f7ee-bd35-4426-a662-4cf2ccb8ae79\" xlink:type=\"simple\"><polygon fill=\"#FFFFFF\" filter=\"url(#f163u1m9gepzup)\" points=\"56,57,114,57,121,79.2969,230,79.2969,230,164,56,164,56,57\" style=\"stroke: #000000; stroke-width: 1.5;\"/><line style=\"stroke: #000000; stroke-width: 1.5;\" x1=\"56\" x2=\"121\" y1=\"79.2969\" y2=\"79.2969\"/><text fill=\"#000000\" font-family=\"sans-serif\" font-size=\"14\" font-weight=\"bold\" lengthAdjust=\"spacingAndGlyphs\" textLength=\"52\" x=\"60\" y=\"71.9951\">Usages</text></a><g id=\"E1.E2.E3\"><a href=\"psysml:659a1dfe-6b8d-4702-b827-b31a03710007\" target=\"_top\" title=\"psysml:659a1dfe-6b8d-4702-b827-b31a03710007\" xlink:actuate=\"onRequest\" xlink:href=\"psysml:659a1dfe-6b8d-4702-b827-b31a03710007\" xlink:show=\"new\" xlink:title=\"psysml:659a1dfe-6b8d-4702-b827-b31a03710007\" xlink:type=\"simple\"><rect fill=\"#FEFECE\" filter=\"url(#f163u1m9gepzup)\" height=\"42.9375\" id=\"E3\" style=\"stroke: #A80036; stroke-width: 1.5;\" width=\"75\" x=\"165.5\" y=\"256\"/><text fill=\"#000000\" font-family=\"sans-serif\" font-size=\"12\" font-style=\"italic\" lengthAdjust=\"spacingAndGlyphs\" textLength=\"68\" x=\"169\" y=\"272.1387\">«part  def»</text><text fill=\"#000000\" font-family=\"sans-serif\" font-size=\"12\" lengthAdjust=\"spacingAndGlyphs\" textLength=\"45\" x=\"180.5\" y=\"286.1074\">Vehicle</text></a></g><g id=\"E1.E2.E4\"><a href=\"psysml:659a1dfe-6b8d-4702-b827-b31a03710007\" target=\"_top\" title=\"psysml:659a1dfe-6b8d-4702-b827-b31a03710007\" xlink:actuate=\"onRequest\" xlink:href=\"psysml:659a1dfe-6b8d-4702-b827-b31a03710007\" xlink:show=\"new\" xlink:title=\"psysml:659a1dfe-6b8d-4702-b827-b31a03710007\" xlink:type=\"simple\"><rect fill=\"#FEFECE\" filter=\"url(#f163u1m9gepzup)\" height=\"42.9375\" id=\"E4\" style=\"stroke: #A80036; stroke-width: 1.5;\" width=\"75\" x=\"55.5\" y=\"256\"/><text fill=\"#000000\" font-family=\"sans-serif\" font-size=\"12\" font-style=\"italic\" lengthAdjust=\"spacingAndGlyphs\" textLength=\"68\" x=\"59\" y=\"272.1387\">«part  def»</text><text fill=\"#000000\" font-family=\"sans-serif\" font-size=\"12\" lengthAdjust=\"spacingAndGlyphs\" textLength=\"45\" x=\"70.5\" y=\"286.1074\">Vehicle</text></a></g><g id=\"E1.E5.E6\"><a href=\"psysml:783d7c15-c905-4c38-b30b-d01c61187577\" target=\"_top\" title=\"psysml:783d7c15-c905-4c38-b30b-d01c61187577\" xlink:actuate=\"onRequest\" xlink:href=\"psysml:783d7c15-c905-4c38-b30b-d01c61187577\" xlink:show=\"new\" xlink:title=\"psysml:783d7c15-c905-4c38-b30b-d01c61187577\" xlink:type=\"simple\"><rect fill=\"#FEFECE\" filter=\"url(#f163u1m9gepzup)\" height=\"40\" id=\"E6\" rx=\"10\" ry=\"10\" style=\"stroke: #A80036; stroke-width: 1.5;\" width=\"107\" x=\"99.5\" y=\"100\"/><text fill=\"#000000\" font-family=\"sans-serif\" font-size=\"12\" lengthAdjust=\"spacingAndGlyphs\" textLength=\"96\" x=\"105\" y=\"116.1387\">vehicle: Vehicle</text></a></g><!--MD5=[1c62de2aa5b76f0fb657ff8443a1a700]\n",
       "link E5 to E4--><a href=\"psysml:8882fd51-4fce-4e08-923b-d836bd7610d5\" target=\"_top\" title=\"psysml:8882fd51-4fce-4e08-923b-d836bd7610d5\" xlink:actuate=\"onRequest\" xlink:href=\"psysml:8882fd51-4fce-4e08-923b-d836bd7610d5\" xlink:show=\"new\" xlink:title=\"psysml:8882fd51-4fce-4e08-923b-d836bd7610d5\" xlink:type=\"simple\"><path d=\"M67.2559,164.3434 C67.2848,164.6227 67.314,164.9026 67.3433,165.183 C67.4021,165.7439 67.4617,166.3071 67.5224,166.8722 C67.6436,168.0025 67.7685,169.141 67.8973,170.2859 C68.1549,172.5759 68.4278,174.8919 68.7167,177.2213 C69.8725,186.5388 71.285,196.07 73,205 C75.97,220.45 80.65,237.41 84.74,250.94 \" fill=\"none\" id=\"E5-&gt;E4\" style=\"stroke: #A80036; stroke-width: 1.0; stroke-dasharray: 7.0,7.0;\"/><polygon fill=\"#A80036\" points=\"86.21,255.76,87.3802,245.9809,84.7366,250.982,79.7354,248.3384,86.21,255.76\" style=\"stroke: #A80036; stroke-width: 1.0;\"/><text fill=\"#000000\" font-family=\"sans-serif\" font-size=\"13\" lengthAdjust=\"spacingAndGlyphs\" textLength=\"58\" x=\"74\" y=\"201.0669\">«import»</text></a><!--MD5=[f667431f98296947986a1a7595a31603]\n",
       "link E6 to E4--><a href=\"psysml:db353f76-c455-46cb-b105-6bd8058807fe\" target=\"_top\" title=\"psysml:db353f76-c455-46cb-b105-6bd8058807fe\" xlink:actuate=\"onRequest\" xlink:href=\"psysml:db353f76-c455-46cb-b105-6bd8058807fe\" xlink:show=\"new\" xlink:title=\"psysml:db353f76-c455-46cb-b105-6bd8058807fe\" xlink:type=\"simple\"><path d=\"M151.34,140.23 C149.38,157.62 145.27,183.68 137,205 C132.5,216.61 126.1,228.43 119.57,239.03 \" fill=\"none\" id=\"E6-&gt;E4\" style=\"stroke: #A80036; stroke-width: 1.0;\"/><polygon fill=\"#FFFFFF\" points=\"108.43,255.98,113.0161,236.2577,124.7153,243.9472,108.43,255.98\" style=\"stroke: #A80036; stroke-width: 1.0;\"/><ellipse cx=\"117.8182\" cy=\"232.593\" fill=\"#A80036\" rx=\"2\" ry=\"2\" style=\"stroke: #A80036; stroke-width: 1.0;\"/><ellipse cx=\"126.1747\" cy=\"238.0855\" fill=\"#A80036\" rx=\"2\" ry=\"2\" style=\"stroke: #A80036; stroke-width: 1.0;\"/></a><!--MD5=[161e7c6cde1c563269a490f03fa6803e]\n",
       "@startuml\r\n",
       "skinparam ranksep 10\r\n",
       "skinparam rectangle {\r\n",
       " backgroundColor<<block>> LightGreen\r\n",
       "}\r\n",
       "skinparam wrapWidth 300\r\n",
       "hide circle\r\n",
       "\r\n",
       "package \"AliasImport\" as E1  [[psysml:abc348a5-e8b0-46f2-97be-35eb1a9e9199 ]]  {\r\n",
       "package \"Definitions\" as E2  [[psysml:c5390b7c-a915-4e3b-b35e-1c2257f021d2 ]]  {\r\n",
       "rec def \"Vehicle\" as E3  <<(T,blue) part  def>> [[psysml:659a1dfe-6b8d-4702-b827-b31a03710007 ]] {\r\n",
       "}\r\n",
       "rec def \"Vehicle\" as E4  <<(T,blue) part  def>> [[psysml:659a1dfe-6b8d-4702-b827-b31a03710007 ]] {\r\n",
       "}\r\n",
       "}\r\n",
       "package \"Usages\" as E5  [[psysml:ccb2f7ee-bd35-4426-a662-4cf2ccb8ae79 ]]  {\r\n",
       "rec usage \"vehicle: Vehicle\" as E6  [[psysml:783d7c15-c905-4c38-b30b-d01c61187577 ]] {\r\n",
       "}\r\n",
       "}\r\n",
       "}\r\n",
       "E5 ..> E4 [[psysml:8882fd51-4fce-4e08-923b-d836bd7610d5 ]] : <<import>>\r\n",
       "E6 - -:|> E4 [[psysml:db353f76-c455-46cb-b105-6bd8058807fe ]] \r\n",
       "@enduml\r\n",
       "\n",
       "PlantUML version 1.2020.13(Sat Jun 13 12:26:38 UTC 2020)\n",
       "(EPL source distribution)\n",
       "Java Runtime: OpenJDK Runtime Environment\n",
       "JVM: OpenJDK 64-Bit Server VM\n",
       "Default Encoding: UTF-8\n",
       "Language: en\n",
       "Country: null\n",
       "--></g></svg>"
      ]
     },
     "execution_count": 26,
     "metadata": {},
     "output_type": "execute_result"
    }
   ],
   "source": [
    "%viz --style=\"STDCOLOR\" --view=\"Interconnection\" \"AliasImport\""
   ]
  },
  {
   "cell_type": "code",
   "execution_count": 27,
   "id": "673d4b80",
   "metadata": {
    "execution": {
     "iopub.execute_input": "2022-06-20T11:15:00.343557Z",
     "iopub.status.busy": "2022-06-20T11:15:00.343105Z",
     "iopub.status.idle": "2022-06-20T11:15:00.347965Z",
     "shell.execute_reply": "2022-06-20T11:15:00.348282Z"
    }
   },
   "outputs": [
    {
     "data": {
      "image/svg+xml": [
       "<?xml version=\"1.0\" encoding=\"UTF-8\" standalone=\"no\"?><svg xmlns=\"http://www.w3.org/2000/svg\" xmlns:xlink=\"http://www.w3.org/1999/xlink\" contentScriptType=\"application/ecmascript\" contentStyleType=\"text/css\" height=\"12px\" preserveAspectRatio=\"none\" style=\"width:12px;height:12px;\" version=\"1.1\" viewBox=\"0 0 12 12\" width=\"12px\" zoomAndPan=\"magnify\"><defs/><g><!--MD5=[9863325348a96a77dacc89509d8ee65e]\n",
       "@startuml\r\n",
       "skinparam ranksep 8\r\n",
       "skinparam wrapWidth 300\r\n",
       "hide circle\r\n",
       "\r\n",
       "@enduml\r\n",
       "\n",
       "PlantUML version 1.2020.13(Sat Jun 13 12:26:38 UTC 2020)\n",
       "(EPL source distribution)\n",
       "Java Runtime: OpenJDK Runtime Environment\n",
       "JVM: OpenJDK 64-Bit Server VM\n",
       "Default Encoding: UTF-8\n",
       "Language: en\n",
       "Country: null\n",
       "--></g></svg>"
      ]
     },
     "execution_count": 27,
     "metadata": {},
     "output_type": "execute_result"
    }
   ],
   "source": [
    "%viz --style=\"STDCOLOR\" --view=\"Action\" \"AliasImport\""
   ]
  },
  {
   "cell_type": "code",
   "execution_count": 28,
   "id": "d53f1984",
   "metadata": {
    "execution": {
     "iopub.execute_input": "2022-06-20T11:15:00.399058Z",
     "iopub.status.busy": "2022-06-20T11:15:00.398367Z",
     "iopub.status.idle": "2022-06-20T11:15:00.404387Z",
     "shell.execute_reply": "2022-06-20T11:15:00.403993Z"
    }
   },
   "outputs": [
    {
     "data": {
      "image/svg+xml": [
       "<?xml version=\"1.0\" encoding=\"UTF-8\" standalone=\"no\"?><svg xmlns=\"http://www.w3.org/2000/svg\" xmlns:xlink=\"http://www.w3.org/1999/xlink\" contentScriptType=\"application/ecmascript\" contentStyleType=\"text/css\" height=\"12px\" preserveAspectRatio=\"none\" style=\"width:12px;height:12px;\" version=\"1.1\" viewBox=\"0 0 12 12\" width=\"12px\" zoomAndPan=\"magnify\"><defs/><g><!--MD5=[6c4bca67b4d71758159a5a7f1f1e1fc2]\n",
       "@startuml\r\n",
       "skinparam roundcorner 20\r\n",
       "skinparam BoxPadding 20\r\n",
       "skinparam SequenceBoxBackgroundColor #white\r\n",
       "skinparam style strictuml\r\n",
       "skinparam maxMessageSize 100\r\n",
       "skinparam wrapWidth 300\r\n",
       "hide circle\r\n",
       "\r\n",
       "@enduml\r\n",
       "\n",
       "PlantUML version 1.2020.13(Sat Jun 13 12:26:38 UTC 2020)\n",
       "(EPL source distribution)\n",
       "Java Runtime: OpenJDK Runtime Environment\n",
       "JVM: OpenJDK 64-Bit Server VM\n",
       "Default Encoding: UTF-8\n",
       "Language: en\n",
       "Country: null\n",
       "--></g></svg>"
      ]
     },
     "execution_count": 28,
     "metadata": {},
     "output_type": "execute_result"
    }
   ],
   "source": [
    "%viz --style=\"STDCOLOR\" --view=\"Sequence\" \"AliasImport\""
   ]
  },
  {
   "cell_type": "code",
   "execution_count": 29,
   "id": "51276191",
   "metadata": {
    "execution": {
     "iopub.execute_input": "2022-06-20T11:15:00.455210Z",
     "iopub.status.busy": "2022-06-20T11:15:00.454487Z",
     "iopub.status.idle": "2022-06-20T11:15:00.486871Z",
     "shell.execute_reply": "2022-06-20T11:15:00.486393Z"
    }
   },
   "outputs": [
    {
     "data": {
      "image/svg+xml": [
       "<?xml version=\"1.0\" encoding=\"UTF-8\" standalone=\"no\"?><svg xmlns=\"http://www.w3.org/2000/svg\" xmlns:xlink=\"http://www.w3.org/1999/xlink\" contentScriptType=\"application/ecmascript\" contentStyleType=\"text/css\" height=\"360px\" preserveAspectRatio=\"none\" style=\"width:293px;height:360px;\" version=\"1.1\" viewBox=\"0 0 293 360\" width=\"293px\" zoomAndPan=\"magnify\"><defs><filter height=\"300%\" id=\"f147l8ocw01ucj\" width=\"300%\" x=\"-1\" y=\"-1\"><feGaussianBlur result=\"blurOut\" stdDeviation=\"2.0\"/><feColorMatrix in=\"blurOut\" result=\"blurOut2\" type=\"matrix\" values=\"0 0 0 0 0 0 0 0 0 0 0 0 0 0 0 0 0 0 .4 0\"/><feOffset dx=\"4.0\" dy=\"4.0\" in=\"blurOut2\" result=\"blurOut3\"/><feBlend in=\"SourceGraphic\" in2=\"blurOut3\" mode=\"normal\"/></filter></defs><g><!--MD5=[fbc87193dbaf4d95561dea2c320d4a47]\n",
       "cluster E1--><a href=\"psysml:abc348a5-e8b0-46f2-97be-35eb1a9e9199\" target=\"_top\" title=\"psysml:abc348a5-e8b0-46f2-97be-35eb1a9e9199\" xlink:actuate=\"onRequest\" xlink:href=\"psysml:abc348a5-e8b0-46f2-97be-35eb1a9e9199\" xlink:show=\"new\" xlink:title=\"psysml:abc348a5-e8b0-46f2-97be-35eb1a9e9199\" xlink:type=\"simple\"><polygon fill=\"#FFFFFF\" filter=\"url(#f147l8ocw01ucj)\" points=\"16,6,97,6,104,28.2969,271,28.2969,271,348,16,348,16,6\" style=\"stroke: #000000; stroke-width: 1.5;\"/><line style=\"stroke: #000000; stroke-width: 1.5;\" x1=\"16\" x2=\"104\" y1=\"28.2969\" y2=\"28.2969\"/><text fill=\"#000000\" font-family=\"sans-serif\" font-size=\"14\" font-weight=\"bold\" lengthAdjust=\"spacingAndGlyphs\" textLength=\"75\" x=\"20\" y=\"20.9951\">AliasImport</text></a><!--MD5=[e4f7fae6ed58524ba242bb0b0d3be6b7]\n",
       "cluster E2--><a href=\"psysml:c5390b7c-a915-4e3b-b35e-1c2257f021d2\" target=\"_top\" title=\"psysml:c5390b7c-a915-4e3b-b35e-1c2257f021d2\" xlink:actuate=\"onRequest\" xlink:href=\"psysml:c5390b7c-a915-4e3b-b35e-1c2257f021d2\" xlink:show=\"new\" xlink:title=\"psysml:c5390b7c-a915-4e3b-b35e-1c2257f021d2\" xlink:type=\"simple\"><polygon fill=\"#FFFFFF\" filter=\"url(#f147l8ocw01ucj)\" points=\"40,227,119,227,126,249.2969,247,249.2969,247,324,40,324,40,227\" style=\"stroke: #000000; stroke-width: 1.5;\"/><line style=\"stroke: #000000; stroke-width: 1.5;\" x1=\"40\" x2=\"126\" y1=\"249.2969\" y2=\"249.2969\"/><text fill=\"#000000\" font-family=\"sans-serif\" font-size=\"14\" font-weight=\"bold\" lengthAdjust=\"spacingAndGlyphs\" textLength=\"73\" x=\"44\" y=\"241.9951\">Definitions</text></a><!--MD5=[de5ec2e2e8f62f467e546659f5068c88]\n",
       "cluster E5--><a href=\"psysml:ccb2f7ee-bd35-4426-a662-4cf2ccb8ae79\" target=\"_top\" title=\"psysml:ccb2f7ee-bd35-4426-a662-4cf2ccb8ae79\" xlink:actuate=\"onRequest\" xlink:href=\"psysml:ccb2f7ee-bd35-4426-a662-4cf2ccb8ae79\" xlink:show=\"new\" xlink:title=\"psysml:ccb2f7ee-bd35-4426-a662-4cf2ccb8ae79\" xlink:type=\"simple\"><polygon fill=\"#FFFFFF\" filter=\"url(#f147l8ocw01ucj)\" points=\"56,57,114,57,121,79.2969,229,79.2969,229,170,56,170,56,57\" style=\"stroke: #000000; stroke-width: 1.5;\"/><line style=\"stroke: #000000; stroke-width: 1.5;\" x1=\"56\" x2=\"121\" y1=\"79.2969\" y2=\"79.2969\"/><text fill=\"#000000\" font-family=\"sans-serif\" font-size=\"14\" font-weight=\"bold\" lengthAdjust=\"spacingAndGlyphs\" textLength=\"52\" x=\"60\" y=\"71.9951\">Usages</text></a><!--MD5=[09b614a08d8cba4a07c9adeb5e0fee81]\n",
       "class E3--><a href=\"psysml:659a1dfe-6b8d-4702-b827-b31a03710007\" target=\"_top\" title=\"psysml:659a1dfe-6b8d-4702-b827-b31a03710007\" xlink:actuate=\"onRequest\" xlink:href=\"psysml:659a1dfe-6b8d-4702-b827-b31a03710007\" xlink:show=\"new\" xlink:title=\"psysml:659a1dfe-6b8d-4702-b827-b31a03710007\" xlink:type=\"simple\"><rect fill=\"#FEFECE\" filter=\"url(#f147l8ocw01ucj)\" height=\"45.9375\" id=\"E3\" style=\"stroke: #A80036; stroke-width: 1.5;\" width=\"70\" x=\"161\" y=\"262\"/><text fill=\"#000000\" font-family=\"sans-serif\" font-size=\"12\" font-style=\"italic\" lengthAdjust=\"spacingAndGlyphs\" textLength=\"68\" x=\"162\" y=\"278.1387\">«part  def»</text><text fill=\"#000000\" font-family=\"sans-serif\" font-size=\"12\" lengthAdjust=\"spacingAndGlyphs\" textLength=\"45\" x=\"173.5\" y=\"292.1074\">Vehicle</text><line style=\"stroke: #A80036; stroke-width: 1.5;\" x1=\"162\" x2=\"230\" y1=\"299.9375\" y2=\"299.9375\"/></a><!--MD5=[ebbe1d658d1005bcc118a6aa81145e00]\n",
       "class E4--><a href=\"psysml:659a1dfe-6b8d-4702-b827-b31a03710007\" target=\"_top\" title=\"psysml:659a1dfe-6b8d-4702-b827-b31a03710007\" xlink:actuate=\"onRequest\" xlink:href=\"psysml:659a1dfe-6b8d-4702-b827-b31a03710007\" xlink:show=\"new\" xlink:title=\"psysml:659a1dfe-6b8d-4702-b827-b31a03710007\" xlink:type=\"simple\"><rect fill=\"#FEFECE\" filter=\"url(#f147l8ocw01ucj)\" height=\"45.9375\" id=\"E4\" style=\"stroke: #A80036; stroke-width: 1.5;\" width=\"70\" x=\"56\" y=\"262\"/><text fill=\"#000000\" font-family=\"sans-serif\" font-size=\"12\" font-style=\"italic\" lengthAdjust=\"spacingAndGlyphs\" textLength=\"68\" x=\"57\" y=\"278.1387\">«part  def»</text><text fill=\"#000000\" font-family=\"sans-serif\" font-size=\"12\" lengthAdjust=\"spacingAndGlyphs\" textLength=\"45\" x=\"68.5\" y=\"292.1074\">Vehicle</text><line style=\"stroke: #A80036; stroke-width: 1.5;\" x1=\"57\" x2=\"125\" y1=\"299.9375\" y2=\"299.9375\"/></a><!--MD5=[60a26617385b1d2d0262a64233df1f8d]\n",
       "class E6--><a href=\"psysml:783d7c15-c905-4c38-b30b-d01c61187577\" target=\"_top\" title=\"psysml:783d7c15-c905-4c38-b30b-d01c61187577\" xlink:actuate=\"onRequest\" xlink:href=\"psysml:783d7c15-c905-4c38-b30b-d01c61187577\" xlink:show=\"new\" xlink:title=\"psysml:783d7c15-c905-4c38-b30b-d01c61187577\" xlink:type=\"simple\"><rect fill=\"#FEFECE\" filter=\"url(#f147l8ocw01ucj)\" height=\"45.9375\" id=\"E6\" rx=\"10\" ry=\"10\" style=\"stroke: #A80036; stroke-width: 1.5;\" width=\"106\" x=\"99\" y=\"100\"/><text fill=\"#000000\" font-family=\"sans-serif\" font-size=\"12\" font-style=\"italic\" lengthAdjust=\"spacingAndGlyphs\" textLength=\"40\" x=\"132\" y=\"116.1387\">«part»</text><text fill=\"#000000\" font-family=\"sans-serif\" font-size=\"12\" lengthAdjust=\"spacingAndGlyphs\" textLength=\"96\" x=\"102\" y=\"130.1074\">vehicle: Vehicle</text><line style=\"stroke: #A80036; stroke-width: 1.5;\" x1=\"100\" x2=\"204\" y1=\"137.9375\" y2=\"137.9375\"/></a><!--MD5=[1c62de2aa5b76f0fb657ff8443a1a700]\n",
       "link E5 to E4--><a href=\"psysml:8882fd51-4fce-4e08-923b-d836bd7610d5\" target=\"_top\" title=\"psysml:8882fd51-4fce-4e08-923b-d836bd7610d5\" xlink:actuate=\"onRequest\" xlink:href=\"psysml:8882fd51-4fce-4e08-923b-d836bd7610d5\" xlink:show=\"new\" xlink:title=\"psysml:8882fd51-4fce-4e08-923b-d836bd7610d5\" xlink:type=\"simple\"><path d=\"M66.8374,170.1716 C66.8505,170.3171 66.8637,170.4628 66.8769,170.6086 C66.9034,170.9002 66.9301,171.1924 66.957,171.485 C67.0647,172.6558 67.1761,173.8349 67.2913,175.0209 C67.5217,177.3929 67.7672,179.7921 68.0289,182.2055 C69.0756,191.8588 70.38,201.7375 72,211 C74.69,226.4 79,243.3 82.84,256.96 \" fill=\"none\" id=\"E5-&gt;E4\" style=\"stroke: #A80036; stroke-width: 1.0; stroke-dasharray: 7.0,7.0;\"/><polygon fill=\"#A80036\" points=\"84.23,261.84,85.6036,252.0874,82.8564,257.0324,77.9114,254.2852,84.23,261.84\" style=\"stroke: #A80036; stroke-width: 1.0;\"/><text fill=\"#000000\" font-family=\"sans-serif\" font-size=\"13\" lengthAdjust=\"spacingAndGlyphs\" textLength=\"58\" x=\"73\" y=\"207.0669\">«import»</text></a><!--MD5=[f667431f98296947986a1a7595a31603]\n",
       "link E6 to E4--><a href=\"psysml:db353f76-c455-46cb-b105-6bd8058807fe\" target=\"_top\" title=\"psysml:db353f76-c455-46cb-b105-6bd8058807fe\" xlink:actuate=\"onRequest\" xlink:href=\"psysml:db353f76-c455-46cb-b105-6bd8058807fe\" xlink:show=\"new\" xlink:title=\"psysml:db353f76-c455-46cb-b105-6bd8058807fe\" xlink:type=\"simple\"><path d=\"M150.22,146.06 C148.23,164.02 144.16,189.79 136,211 C131.57,222.52 125.29,234.23 118.82,244.81 \" fill=\"none\" id=\"E6-&gt;E4\" style=\"stroke: #A80036; stroke-width: 1.0;\"/><polygon fill=\"#FFFFFF\" points=\"107.7,261.8,112.2548,242.0705,123.9662,249.7414,107.7,261.8\" style=\"stroke: #A80036; stroke-width: 1.0;\"/><ellipse cx=\"117.051\" cy=\"238.3981\" fill=\"#A80036\" rx=\"2\" ry=\"2\" style=\"stroke: #A80036; stroke-width: 1.0;\"/><ellipse cx=\"125.4163\" cy=\"243.8774\" fill=\"#A80036\" rx=\"2\" ry=\"2\" style=\"stroke: #A80036; stroke-width: 1.0;\"/></a><!--MD5=[53185f8ab29a43284ccb8bf0532a8708]\n",
       "@startuml\r\n",
       "skinparam wrapWidth 300\r\n",
       "hide circle\r\n",
       "\r\n",
       "package \"AliasImport\" as E1  [[psysml:abc348a5-e8b0-46f2-97be-35eb1a9e9199 ]]  {\r\n",
       "package \"Definitions\" as E2  [[psysml:c5390b7c-a915-4e3b-b35e-1c2257f021d2 ]]  {\r\n",
       "comp def \"Vehicle\" as E3  <<(T,blue) part  def>> [[psysml:659a1dfe-6b8d-4702-b827-b31a03710007 ]] {\r\n",
       "}\r\n",
       "comp def \"Vehicle\" as E4  <<(T,blue) part  def>> [[psysml:659a1dfe-6b8d-4702-b827-b31a03710007 ]] {\r\n",
       "}\r\n",
       "}\r\n",
       "package \"Usages\" as E5  [[psysml:ccb2f7ee-bd35-4426-a662-4cf2ccb8ae79 ]]  {\r\n",
       "comp usage \"vehicle: Vehicle \" as E6  <<(T,blue) part>> [[psysml:783d7c15-c905-4c38-b30b-d01c61187577 ]] {\r\n",
       "}\r\n",
       "}\r\n",
       "}\r\n",
       "E5 ..> E4 [[psysml:8882fd51-4fce-4e08-923b-d836bd7610d5 ]] : <<import>>\r\n",
       "E6 - -:|> E4 [[psysml:db353f76-c455-46cb-b105-6bd8058807fe ]] \r\n",
       "@enduml\r\n",
       "\n",
       "PlantUML version 1.2020.13(Sat Jun 13 12:26:38 UTC 2020)\n",
       "(EPL source distribution)\n",
       "Java Runtime: OpenJDK Runtime Environment\n",
       "JVM: OpenJDK 64-Bit Server VM\n",
       "Default Encoding: UTF-8\n",
       "Language: en\n",
       "Country: null\n",
       "--></g></svg>"
      ]
     },
     "execution_count": 29,
     "metadata": {},
     "output_type": "execute_result"
    }
   ],
   "source": [
    "%viz --style=\"STDCOLOR\" --view=\"MIXED\" \"AliasImport\""
   ]
  },
  {
   "cell_type": "code",
   "execution_count": 30,
   "id": "c80b7d65",
   "metadata": {
    "execution": {
     "iopub.execute_input": "2022-06-20T11:15:00.536527Z",
     "iopub.status.busy": "2022-06-20T11:15:00.535835Z",
     "iopub.status.idle": "2022-06-20T11:15:00.587203Z",
     "shell.execute_reply": "2022-06-20T11:15:00.586733Z"
    }
   },
   "outputs": [
    {
     "data": {
      "image/svg+xml": [
       "<?xml version=\"1.0\" encoding=\"UTF-8\" standalone=\"no\"?><svg xmlns=\"http://www.w3.org/2000/svg\" xmlns:xlink=\"http://www.w3.org/1999/xlink\" contentScriptType=\"application/ecmascript\" contentStyleType=\"text/css\" height=\"354px\" preserveAspectRatio=\"none\" style=\"width:308px;height:354px;\" version=\"1.1\" viewBox=\"0 0 308 354\" width=\"308px\" zoomAndPan=\"magnify\"><defs><filter height=\"300%\" id=\"f1fdtw36jflpau\" width=\"300%\" x=\"-1\" y=\"-1\"><feGaussianBlur result=\"blurOut\" stdDeviation=\"2.0\"/><feColorMatrix in=\"blurOut\" result=\"blurOut2\" type=\"matrix\" values=\"0 0 0 0 0 0 0 0 0 0 0 0 0 0 0 0 0 0 .4 0\"/><feOffset dx=\"4.0\" dy=\"4.0\" in=\"blurOut2\" result=\"blurOut3\"/><feBlend in=\"SourceGraphic\" in2=\"blurOut3\" mode=\"normal\"/></filter></defs><g><!--MD5=[fbc87193dbaf4d95561dea2c320d4a47]\n",
       "cluster E1--><a href=\"psysml:abc348a5-e8b0-46f2-97be-35eb1a9e9199\" target=\"_top\" title=\"psysml:abc348a5-e8b0-46f2-97be-35eb1a9e9199\" xlink:actuate=\"onRequest\" xlink:href=\"psysml:abc348a5-e8b0-46f2-97be-35eb1a9e9199\" xlink:show=\"new\" xlink:title=\"psysml:abc348a5-e8b0-46f2-97be-35eb1a9e9199\" xlink:type=\"simple\"><polygon fill=\"#FFFFFF\" filter=\"url(#f1fdtw36jflpau)\" points=\"16,6,97,6,104,28.2969,286,28.2969,286,342,16,342,16,6\" style=\"stroke: #000000; stroke-width: 1.5;\"/><line style=\"stroke: #000000; stroke-width: 1.5;\" x1=\"16\" x2=\"104\" y1=\"28.2969\" y2=\"28.2969\"/><text fill=\"#000000\" font-family=\"sans-serif\" font-size=\"14\" font-weight=\"bold\" lengthAdjust=\"spacingAndGlyphs\" textLength=\"75\" x=\"20\" y=\"20.9951\">AliasImport</text></a><!--MD5=[e4f7fae6ed58524ba242bb0b0d3be6b7]\n",
       "cluster E2--><a href=\"psysml:c5390b7c-a915-4e3b-b35e-1c2257f021d2\" target=\"_top\" title=\"psysml:c5390b7c-a915-4e3b-b35e-1c2257f021d2\" xlink:actuate=\"onRequest\" xlink:href=\"psysml:c5390b7c-a915-4e3b-b35e-1c2257f021d2\" xlink:show=\"new\" xlink:title=\"psysml:c5390b7c-a915-4e3b-b35e-1c2257f021d2\" xlink:type=\"simple\"><polygon fill=\"#FFFFFF\" filter=\"url(#f1fdtw36jflpau)\" points=\"40,227,119,227,126,249.2969,262,249.2969,262,318,40,318,40,227\" style=\"stroke: #000000; stroke-width: 1.5;\"/><line style=\"stroke: #000000; stroke-width: 1.5;\" x1=\"40\" x2=\"126\" y1=\"249.2969\" y2=\"249.2969\"/><text fill=\"#000000\" font-family=\"sans-serif\" font-size=\"14\" font-weight=\"bold\" lengthAdjust=\"spacingAndGlyphs\" textLength=\"73\" x=\"44\" y=\"241.9951\">Definitions</text></a><!--MD5=[de5ec2e2e8f62f467e546659f5068c88]\n",
       "cluster E5--><a href=\"psysml:ccb2f7ee-bd35-4426-a662-4cf2ccb8ae79\" target=\"_top\" title=\"psysml:ccb2f7ee-bd35-4426-a662-4cf2ccb8ae79\" xlink:actuate=\"onRequest\" xlink:href=\"psysml:ccb2f7ee-bd35-4426-a662-4cf2ccb8ae79\" xlink:show=\"new\" xlink:title=\"psysml:ccb2f7ee-bd35-4426-a662-4cf2ccb8ae79\" xlink:type=\"simple\"><polygon fill=\"#FFFFFF\" filter=\"url(#f1fdtw36jflpau)\" points=\"51,57,109,57,116,79.2969,250,79.2969,250,170,51,170,51,57\" style=\"stroke: #000000; stroke-width: 1.5;\"/><line style=\"stroke: #000000; stroke-width: 1.5;\" x1=\"51\" x2=\"116\" y1=\"79.2969\" y2=\"79.2969\"/><text fill=\"#000000\" font-family=\"sans-serif\" font-size=\"14\" font-weight=\"bold\" lengthAdjust=\"spacingAndGlyphs\" textLength=\"52\" x=\"55\" y=\"71.9951\">Usages</text></a><!--MD5=[09b614a08d8cba4a07c9adeb5e0fee81]\n",
       "class E3--><a href=\"psysml:659a1dfe-6b8d-4702-b827-b31a03710007\" target=\"_top\" title=\"psysml:659a1dfe-6b8d-4702-b827-b31a03710007\" xlink:actuate=\"onRequest\" xlink:href=\"psysml:659a1dfe-6b8d-4702-b827-b31a03710007\" xlink:show=\"new\" xlink:title=\"psysml:659a1dfe-6b8d-4702-b827-b31a03710007\" xlink:type=\"simple\"><rect fill=\"#FEFECE\" filter=\"url(#f1fdtw36jflpau)\" height=\"40\" id=\"E3\" style=\"stroke: #A80036; stroke-width: 1.5;\" width=\"77\" x=\"168.5\" y=\"262\"/><ellipse cx=\"183.5\" cy=\"278\" fill=\"#008000\" rx=\"11\" ry=\"11\" style=\"stroke: #A80036; stroke-width: 1.0;\"/><path d=\"M180.375,283 L180.375,272.4063 L183.6094,272.4063 Q185.5156,272.4063 186.4219,273.1563 Q187.3438,273.9063 187.3438,275.0781 Q187.3438,275.7656 186.9531,276.4219 Q186.5781,277.0781 185.8594,277.375 Q186.7188,277.75 187.2344,278.4375 Q187.75,279.125 187.75,279.9375 Q187.75,281.3125 186.7188,282.1563 Q185.7031,283 183.5938,283 L180.375,283 Z M182.2969,276.6406 L183.4531,276.6406 Q184.5781,276.6406 184.9844,276.2656 Q185.4063,275.875 185.4063,275.25 Q185.4063,274.6719 184.9844,274.3125 Q184.5625,273.9531 183.625,273.9531 L182.2969,273.9531 L182.2969,276.6406 Z M182.2969,281.4219 L183.7969,281.4219 Q184.7031,281.4219 185.2344,281.0313 Q185.7656,280.6406 185.7656,279.8906 Q185.7656,279.125 185.2656,278.6563 Q184.7656,278.1719 183.5,278.1719 L182.2969,278.1719 L182.2969,281.4219 Z \"/><text fill=\"#000000\" font-family=\"sans-serif\" font-size=\"12\" lengthAdjust=\"spacingAndGlyphs\" textLength=\"45\" x=\"197.5\" y=\"282.1543\">Vehicle</text><line style=\"stroke: #A80036; stroke-width: 1.5;\" x1=\"169.5\" x2=\"244.5\" y1=\"294\" y2=\"294\"/></a><!--MD5=[ebbe1d658d1005bcc118a6aa81145e00]\n",
       "class E4--><a href=\"psysml:659a1dfe-6b8d-4702-b827-b31a03710007\" target=\"_top\" title=\"psysml:659a1dfe-6b8d-4702-b827-b31a03710007\" xlink:actuate=\"onRequest\" xlink:href=\"psysml:659a1dfe-6b8d-4702-b827-b31a03710007\" xlink:show=\"new\" xlink:title=\"psysml:659a1dfe-6b8d-4702-b827-b31a03710007\" xlink:type=\"simple\"><rect fill=\"#FEFECE\" filter=\"url(#f1fdtw36jflpau)\" height=\"40\" id=\"E4\" style=\"stroke: #A80036; stroke-width: 1.5;\" width=\"77\" x=\"56.5\" y=\"262\"/><ellipse cx=\"71.5\" cy=\"278\" fill=\"#008000\" rx=\"11\" ry=\"11\" style=\"stroke: #A80036; stroke-width: 1.0;\"/><path d=\"M68.375,283 L68.375,272.4063 L71.6094,272.4063 Q73.5156,272.4063 74.4219,273.1563 Q75.3438,273.9063 75.3438,275.0781 Q75.3438,275.7656 74.9531,276.4219 Q74.5781,277.0781 73.8594,277.375 Q74.7188,277.75 75.2344,278.4375 Q75.75,279.125 75.75,279.9375 Q75.75,281.3125 74.7188,282.1563 Q73.7031,283 71.5938,283 L68.375,283 Z M70.2969,276.6406 L71.4531,276.6406 Q72.5781,276.6406 72.9844,276.2656 Q73.4063,275.875 73.4063,275.25 Q73.4063,274.6719 72.9844,274.3125 Q72.5625,273.9531 71.625,273.9531 L70.2969,273.9531 L70.2969,276.6406 Z M70.2969,281.4219 L71.7969,281.4219 Q72.7031,281.4219 73.2344,281.0313 Q73.7656,280.6406 73.7656,279.8906 Q73.7656,279.125 73.2656,278.6563 Q72.7656,278.1719 71.5,278.1719 L70.2969,278.1719 L70.2969,281.4219 Z \"/><text fill=\"#000000\" font-family=\"sans-serif\" font-size=\"12\" lengthAdjust=\"spacingAndGlyphs\" textLength=\"45\" x=\"85.5\" y=\"282.1543\">Vehicle</text><line style=\"stroke: #A80036; stroke-width: 1.5;\" x1=\"57.5\" x2=\"132.5\" y1=\"294\" y2=\"294\"/></a><!--MD5=[60a26617385b1d2d0262a64233df1f8d]\n",
       "class E6--><a href=\"psysml:783d7c15-c905-4c38-b30b-d01c61187577\" target=\"_top\" title=\"psysml:783d7c15-c905-4c38-b30b-d01c61187577\" xlink:actuate=\"onRequest\" xlink:href=\"psysml:783d7c15-c905-4c38-b30b-d01c61187577\" xlink:show=\"new\" xlink:title=\"psysml:783d7c15-c905-4c38-b30b-d01c61187577\" xlink:type=\"simple\"><rect fill=\"#FEFECE\" filter=\"url(#f1fdtw36jflpau)\" height=\"45.9375\" id=\"E6\" rx=\"10\" ry=\"10\" style=\"stroke: #A80036; stroke-width: 1.5;\" width=\"132\" x=\"94\" y=\"100\"/><ellipse cx=\"109\" cy=\"118.9688\" fill=\"#32CD32\" rx=\"11\" ry=\"11\" style=\"stroke: #A80036; stroke-width: 1.0;\"/><path d=\"M105.8125,123.9688 L105.8125,113.375 L109.4219,113.375 Q110.6406,113.375 111.4375,113.8125 Q112.2344,114.2344 112.6094,114.9375 Q113,115.6406 113,116.4844 Q113,117.3281 112.625,118.0156 Q112.2656,118.7031 111.4688,119.125 Q110.6875,119.5313 109.5,119.5313 L107.7656,119.5313 L107.7656,123.9688 L105.8125,123.9688 Z M107.7656,117.9375 L109.375,117.9375 Q110.1875,117.9375 110.6094,117.5313 Q111.0313,117.125 111.0313,116.4844 Q111.0313,115.8594 110.6094,115.4531 Q110.1875,115.0469 109.3906,115.0469 L107.7656,115.0469 L107.7656,117.9375 Z \"/><text fill=\"#000000\" font-family=\"sans-serif\" font-size=\"12\" font-style=\"italic\" lengthAdjust=\"spacingAndGlyphs\" textLength=\"40\" x=\"153\" y=\"116.1387\">«part»</text><text fill=\"#000000\" font-family=\"sans-serif\" font-size=\"12\" lengthAdjust=\"spacingAndGlyphs\" textLength=\"96\" x=\"123\" y=\"130.1074\">vehicle: Vehicle</text><line style=\"stroke: #A80036; stroke-width: 1.5;\" x1=\"95\" x2=\"225\" y1=\"137.9375\" y2=\"137.9375\"/></a><!--MD5=[1c62de2aa5b76f0fb657ff8443a1a700]\n",
       "link E5 to E4--><a href=\"psysml:8882fd51-4fce-4e08-923b-d836bd7610d5\" target=\"_top\" title=\"psysml:8882fd51-4fce-4e08-923b-d836bd7610d5\" xlink:actuate=\"onRequest\" xlink:href=\"psysml:8882fd51-4fce-4e08-923b-d836bd7610d5\" xlink:show=\"new\" xlink:title=\"psysml:8882fd51-4fce-4e08-923b-d836bd7610d5\" xlink:type=\"simple\"><path d=\"M69.5524,170.0177 C69.6001,170.2256 69.6478,170.4339 69.6957,170.6425 C70.0783,172.3115 70.4663,174.0036 70.8587,175.715 C77.1375,203.0975 84.55,235.42 89.49,256.96 \" fill=\"none\" id=\"E5-&gt;E4\" style=\"stroke: #A80036; stroke-width: 1.0; stroke-dasharray: 7.0,7.0;\"/><polygon fill=\"#A80036\" points=\"90.64,261.99,92.5055,252.3194,89.5115,257.119,84.712,254.125,90.64,261.99\" style=\"stroke: #A80036; stroke-width: 1.0;\"/><text fill=\"#000000\" font-family=\"sans-serif\" font-size=\"13\" lengthAdjust=\"spacingAndGlyphs\" textLength=\"58\" x=\"79\" y=\"207.0669\">«import»</text></a><!--MD5=[f667431f98296947986a1a7595a31603]\n",
       "link E6 to E4--><a href=\"psysml:db353f76-c455-46cb-b105-6bd8058807fe\" target=\"_top\" title=\"psysml:db353f76-c455-46cb-b105-6bd8058807fe\" xlink:actuate=\"onRequest\" xlink:href=\"psysml:db353f76-c455-46cb-b105-6bd8058807fe\" xlink:show=\"new\" xlink:title=\"psysml:db353f76-c455-46cb-b105-6bd8058807fe\" xlink:type=\"simple\"><path d=\"M159.27,146.23 C158.02,164.29 154.7,190.1 146,211 C140.9,223.24 133.26,235.36 125.44,245.98 \" fill=\"none\" id=\"E6-&gt;E4\" style=\"stroke: #A80036; stroke-width: 1.0;\"/><polygon fill=\"#FFFFFF\" points=\"112.93,261.72,119.2709,242.49,130.2313,251.2003,112.93,261.72\" style=\"stroke: #A80036; stroke-width: 1.0;\"/><ellipse cx=\"124.3831\" cy=\"239.2719\" fill=\"#A80036\" rx=\"2\" ry=\"2\" style=\"stroke: #A80036; stroke-width: 1.0;\"/><ellipse cx=\"132.2119\" cy=\"245.4936\" fill=\"#A80036\" rx=\"2\" ry=\"2\" style=\"stroke: #A80036; stroke-width: 1.0;\"/></a><!--MD5=[de2978fafd3f38c5bc0aa09130fcc8cb]\n",
       "@startuml\r\n",
       " \r\n",
       "package \"AliasImport\" as E1  [[psysml:abc348a5-e8b0-46f2-97be-35eb1a9e9199 ]]  {\r\n",
       "package \"Definitions\" as E2  [[psysml:c5390b7c-a915-4e3b-b35e-1c2257f021d2 ]]  {\r\n",
       "comp def \"Vehicle\" as E3 << << (B,green) >> [[psysml:659a1dfe-6b8d-4702-b827-b31a03710007 ]] {\r\n",
       "}\r\n",
       "comp def \"Vehicle\" as E4 << << (B,green) >> [[psysml:659a1dfe-6b8d-4702-b827-b31a03710007 ]] {\r\n",
       "}\r\n",
       "}\r\n",
       "package \"Usages\" as E5  [[psysml:ccb2f7ee-bd35-4426-a662-4cf2ccb8ae79 ]]  {\r\n",
       "comp usage \"vehicle: Vehicle \" as E6 << << (P,limegreen) part>> [[psysml:783d7c15-c905-4c38-b30b-d01c61187577 ]] {\r\n",
       "}\r\n",
       "}\r\n",
       "}\r\n",
       "E5 ..> E4 [[psysml:8882fd51-4fce-4e08-923b-d836bd7610d5 ]] : <<import>>\r\n",
       "E6 - -:|> E4 [[psysml:db353f76-c455-46cb-b105-6bd8058807fe ]] \r\n",
       "@enduml\r\n",
       "\n",
       "PlantUML version 1.2020.13(Sat Jun 13 12:26:38 UTC 2020)\n",
       "(EPL source distribution)\n",
       "Java Runtime: OpenJDK Runtime Environment\n",
       "JVM: OpenJDK 64-Bit Server VM\n",
       "Default Encoding: UTF-8\n",
       "Language: en\n",
       "Country: null\n",
       "--></g></svg>"
      ]
     },
     "execution_count": 30,
     "metadata": {},
     "output_type": "execute_result"
    }
   ],
   "source": [
    "%viz --style=\"PLANTUML\" --view=\"Default\" \"AliasImport\""
   ]
  },
  {
   "cell_type": "code",
   "execution_count": 31,
   "id": "f3dcf523",
   "metadata": {
    "execution": {
     "iopub.execute_input": "2022-06-20T11:15:00.636894Z",
     "iopub.status.busy": "2022-06-20T11:15:00.636197Z",
     "iopub.status.idle": "2022-06-20T11:15:00.667367Z",
     "shell.execute_reply": "2022-06-20T11:15:00.666895Z"
    }
   },
   "outputs": [
    {
     "data": {
      "image/svg+xml": [
       "<?xml version=\"1.0\" encoding=\"UTF-8\" standalone=\"no\"?><svg xmlns=\"http://www.w3.org/2000/svg\" xmlns:xlink=\"http://www.w3.org/1999/xlink\" contentScriptType=\"application/ecmascript\" contentStyleType=\"text/css\" height=\"354px\" preserveAspectRatio=\"none\" style=\"width:308px;height:354px;\" version=\"1.1\" viewBox=\"0 0 308 354\" width=\"308px\" zoomAndPan=\"magnify\"><defs><filter height=\"300%\" id=\"f1fdtw36jflpau\" width=\"300%\" x=\"-1\" y=\"-1\"><feGaussianBlur result=\"blurOut\" stdDeviation=\"2.0\"/><feColorMatrix in=\"blurOut\" result=\"blurOut2\" type=\"matrix\" values=\"0 0 0 0 0 0 0 0 0 0 0 0 0 0 0 0 0 0 .4 0\"/><feOffset dx=\"4.0\" dy=\"4.0\" in=\"blurOut2\" result=\"blurOut3\"/><feBlend in=\"SourceGraphic\" in2=\"blurOut3\" mode=\"normal\"/></filter></defs><g><!--MD5=[fbc87193dbaf4d95561dea2c320d4a47]\n",
       "cluster E1--><a href=\"psysml:abc348a5-e8b0-46f2-97be-35eb1a9e9199\" target=\"_top\" title=\"psysml:abc348a5-e8b0-46f2-97be-35eb1a9e9199\" xlink:actuate=\"onRequest\" xlink:href=\"psysml:abc348a5-e8b0-46f2-97be-35eb1a9e9199\" xlink:show=\"new\" xlink:title=\"psysml:abc348a5-e8b0-46f2-97be-35eb1a9e9199\" xlink:type=\"simple\"><polygon fill=\"#FFFFFF\" filter=\"url(#f1fdtw36jflpau)\" points=\"16,6,97,6,104,28.2969,286,28.2969,286,342,16,342,16,6\" style=\"stroke: #000000; stroke-width: 1.5;\"/><line style=\"stroke: #000000; stroke-width: 1.5;\" x1=\"16\" x2=\"104\" y1=\"28.2969\" y2=\"28.2969\"/><text fill=\"#000000\" font-family=\"sans-serif\" font-size=\"14\" font-weight=\"bold\" lengthAdjust=\"spacingAndGlyphs\" textLength=\"75\" x=\"20\" y=\"20.9951\">AliasImport</text></a><!--MD5=[e4f7fae6ed58524ba242bb0b0d3be6b7]\n",
       "cluster E2--><a href=\"psysml:c5390b7c-a915-4e3b-b35e-1c2257f021d2\" target=\"_top\" title=\"psysml:c5390b7c-a915-4e3b-b35e-1c2257f021d2\" xlink:actuate=\"onRequest\" xlink:href=\"psysml:c5390b7c-a915-4e3b-b35e-1c2257f021d2\" xlink:show=\"new\" xlink:title=\"psysml:c5390b7c-a915-4e3b-b35e-1c2257f021d2\" xlink:type=\"simple\"><polygon fill=\"#FFFFFF\" filter=\"url(#f1fdtw36jflpau)\" points=\"40,227,119,227,126,249.2969,262,249.2969,262,318,40,318,40,227\" style=\"stroke: #000000; stroke-width: 1.5;\"/><line style=\"stroke: #000000; stroke-width: 1.5;\" x1=\"40\" x2=\"126\" y1=\"249.2969\" y2=\"249.2969\"/><text fill=\"#000000\" font-family=\"sans-serif\" font-size=\"14\" font-weight=\"bold\" lengthAdjust=\"spacingAndGlyphs\" textLength=\"73\" x=\"44\" y=\"241.9951\">Definitions</text></a><!--MD5=[de5ec2e2e8f62f467e546659f5068c88]\n",
       "cluster E5--><a href=\"psysml:ccb2f7ee-bd35-4426-a662-4cf2ccb8ae79\" target=\"_top\" title=\"psysml:ccb2f7ee-bd35-4426-a662-4cf2ccb8ae79\" xlink:actuate=\"onRequest\" xlink:href=\"psysml:ccb2f7ee-bd35-4426-a662-4cf2ccb8ae79\" xlink:show=\"new\" xlink:title=\"psysml:ccb2f7ee-bd35-4426-a662-4cf2ccb8ae79\" xlink:type=\"simple\"><polygon fill=\"#FFFFFF\" filter=\"url(#f1fdtw36jflpau)\" points=\"51,57,109,57,116,79.2969,250,79.2969,250,170,51,170,51,57\" style=\"stroke: #000000; stroke-width: 1.5;\"/><line style=\"stroke: #000000; stroke-width: 1.5;\" x1=\"51\" x2=\"116\" y1=\"79.2969\" y2=\"79.2969\"/><text fill=\"#000000\" font-family=\"sans-serif\" font-size=\"14\" font-weight=\"bold\" lengthAdjust=\"spacingAndGlyphs\" textLength=\"52\" x=\"55\" y=\"71.9951\">Usages</text></a><!--MD5=[09b614a08d8cba4a07c9adeb5e0fee81]\n",
       "class E3--><a href=\"psysml:659a1dfe-6b8d-4702-b827-b31a03710007\" target=\"_top\" title=\"psysml:659a1dfe-6b8d-4702-b827-b31a03710007\" xlink:actuate=\"onRequest\" xlink:href=\"psysml:659a1dfe-6b8d-4702-b827-b31a03710007\" xlink:show=\"new\" xlink:title=\"psysml:659a1dfe-6b8d-4702-b827-b31a03710007\" xlink:type=\"simple\"><rect fill=\"#FEFECE\" filter=\"url(#f1fdtw36jflpau)\" height=\"40\" id=\"E3\" style=\"stroke: #A80036; stroke-width: 1.5;\" width=\"77\" x=\"168.5\" y=\"262\"/><ellipse cx=\"183.5\" cy=\"278\" fill=\"#008000\" rx=\"11\" ry=\"11\" style=\"stroke: #A80036; stroke-width: 1.0;\"/><path d=\"M180.375,283 L180.375,272.4063 L183.6094,272.4063 Q185.5156,272.4063 186.4219,273.1563 Q187.3438,273.9063 187.3438,275.0781 Q187.3438,275.7656 186.9531,276.4219 Q186.5781,277.0781 185.8594,277.375 Q186.7188,277.75 187.2344,278.4375 Q187.75,279.125 187.75,279.9375 Q187.75,281.3125 186.7188,282.1563 Q185.7031,283 183.5938,283 L180.375,283 Z M182.2969,276.6406 L183.4531,276.6406 Q184.5781,276.6406 184.9844,276.2656 Q185.4063,275.875 185.4063,275.25 Q185.4063,274.6719 184.9844,274.3125 Q184.5625,273.9531 183.625,273.9531 L182.2969,273.9531 L182.2969,276.6406 Z M182.2969,281.4219 L183.7969,281.4219 Q184.7031,281.4219 185.2344,281.0313 Q185.7656,280.6406 185.7656,279.8906 Q185.7656,279.125 185.2656,278.6563 Q184.7656,278.1719 183.5,278.1719 L182.2969,278.1719 L182.2969,281.4219 Z \"/><text fill=\"#000000\" font-family=\"sans-serif\" font-size=\"12\" lengthAdjust=\"spacingAndGlyphs\" textLength=\"45\" x=\"197.5\" y=\"282.1543\">Vehicle</text><line style=\"stroke: #A80036; stroke-width: 1.5;\" x1=\"169.5\" x2=\"244.5\" y1=\"294\" y2=\"294\"/></a><!--MD5=[ebbe1d658d1005bcc118a6aa81145e00]\n",
       "class E4--><a href=\"psysml:659a1dfe-6b8d-4702-b827-b31a03710007\" target=\"_top\" title=\"psysml:659a1dfe-6b8d-4702-b827-b31a03710007\" xlink:actuate=\"onRequest\" xlink:href=\"psysml:659a1dfe-6b8d-4702-b827-b31a03710007\" xlink:show=\"new\" xlink:title=\"psysml:659a1dfe-6b8d-4702-b827-b31a03710007\" xlink:type=\"simple\"><rect fill=\"#FEFECE\" filter=\"url(#f1fdtw36jflpau)\" height=\"40\" id=\"E4\" style=\"stroke: #A80036; stroke-width: 1.5;\" width=\"77\" x=\"56.5\" y=\"262\"/><ellipse cx=\"71.5\" cy=\"278\" fill=\"#008000\" rx=\"11\" ry=\"11\" style=\"stroke: #A80036; stroke-width: 1.0;\"/><path d=\"M68.375,283 L68.375,272.4063 L71.6094,272.4063 Q73.5156,272.4063 74.4219,273.1563 Q75.3438,273.9063 75.3438,275.0781 Q75.3438,275.7656 74.9531,276.4219 Q74.5781,277.0781 73.8594,277.375 Q74.7188,277.75 75.2344,278.4375 Q75.75,279.125 75.75,279.9375 Q75.75,281.3125 74.7188,282.1563 Q73.7031,283 71.5938,283 L68.375,283 Z M70.2969,276.6406 L71.4531,276.6406 Q72.5781,276.6406 72.9844,276.2656 Q73.4063,275.875 73.4063,275.25 Q73.4063,274.6719 72.9844,274.3125 Q72.5625,273.9531 71.625,273.9531 L70.2969,273.9531 L70.2969,276.6406 Z M70.2969,281.4219 L71.7969,281.4219 Q72.7031,281.4219 73.2344,281.0313 Q73.7656,280.6406 73.7656,279.8906 Q73.7656,279.125 73.2656,278.6563 Q72.7656,278.1719 71.5,278.1719 L70.2969,278.1719 L70.2969,281.4219 Z \"/><text fill=\"#000000\" font-family=\"sans-serif\" font-size=\"12\" lengthAdjust=\"spacingAndGlyphs\" textLength=\"45\" x=\"85.5\" y=\"282.1543\">Vehicle</text><line style=\"stroke: #A80036; stroke-width: 1.5;\" x1=\"57.5\" x2=\"132.5\" y1=\"294\" y2=\"294\"/></a><!--MD5=[60a26617385b1d2d0262a64233df1f8d]\n",
       "class E6--><a href=\"psysml:783d7c15-c905-4c38-b30b-d01c61187577\" target=\"_top\" title=\"psysml:783d7c15-c905-4c38-b30b-d01c61187577\" xlink:actuate=\"onRequest\" xlink:href=\"psysml:783d7c15-c905-4c38-b30b-d01c61187577\" xlink:show=\"new\" xlink:title=\"psysml:783d7c15-c905-4c38-b30b-d01c61187577\" xlink:type=\"simple\"><rect fill=\"#FEFECE\" filter=\"url(#f1fdtw36jflpau)\" height=\"45.9375\" id=\"E6\" rx=\"10\" ry=\"10\" style=\"stroke: #A80036; stroke-width: 1.5;\" width=\"132\" x=\"94\" y=\"100\"/><ellipse cx=\"109\" cy=\"118.9688\" fill=\"#32CD32\" rx=\"11\" ry=\"11\" style=\"stroke: #A80036; stroke-width: 1.0;\"/><path d=\"M105.8125,123.9688 L105.8125,113.375 L109.4219,113.375 Q110.6406,113.375 111.4375,113.8125 Q112.2344,114.2344 112.6094,114.9375 Q113,115.6406 113,116.4844 Q113,117.3281 112.625,118.0156 Q112.2656,118.7031 111.4688,119.125 Q110.6875,119.5313 109.5,119.5313 L107.7656,119.5313 L107.7656,123.9688 L105.8125,123.9688 Z M107.7656,117.9375 L109.375,117.9375 Q110.1875,117.9375 110.6094,117.5313 Q111.0313,117.125 111.0313,116.4844 Q111.0313,115.8594 110.6094,115.4531 Q110.1875,115.0469 109.3906,115.0469 L107.7656,115.0469 L107.7656,117.9375 Z \"/><text fill=\"#000000\" font-family=\"sans-serif\" font-size=\"12\" font-style=\"italic\" lengthAdjust=\"spacingAndGlyphs\" textLength=\"40\" x=\"153\" y=\"116.1387\">«part»</text><text fill=\"#000000\" font-family=\"sans-serif\" font-size=\"12\" lengthAdjust=\"spacingAndGlyphs\" textLength=\"96\" x=\"123\" y=\"130.1074\">vehicle: Vehicle</text><line style=\"stroke: #A80036; stroke-width: 1.5;\" x1=\"95\" x2=\"225\" y1=\"137.9375\" y2=\"137.9375\"/></a><!--MD5=[1c62de2aa5b76f0fb657ff8443a1a700]\n",
       "link E5 to E4--><a href=\"psysml:8882fd51-4fce-4e08-923b-d836bd7610d5\" target=\"_top\" title=\"psysml:8882fd51-4fce-4e08-923b-d836bd7610d5\" xlink:actuate=\"onRequest\" xlink:href=\"psysml:8882fd51-4fce-4e08-923b-d836bd7610d5\" xlink:show=\"new\" xlink:title=\"psysml:8882fd51-4fce-4e08-923b-d836bd7610d5\" xlink:type=\"simple\"><path d=\"M69.5524,170.0177 C69.6001,170.2256 69.6478,170.4339 69.6957,170.6425 C70.0783,172.3115 70.4663,174.0036 70.8587,175.715 C77.1375,203.0975 84.55,235.42 89.49,256.96 \" fill=\"none\" id=\"E5-&gt;E4\" style=\"stroke: #A80036; stroke-width: 1.0; stroke-dasharray: 7.0,7.0;\"/><polygon fill=\"#A80036\" points=\"90.64,261.99,92.5055,252.3194,89.5115,257.119,84.712,254.125,90.64,261.99\" style=\"stroke: #A80036; stroke-width: 1.0;\"/><text fill=\"#000000\" font-family=\"sans-serif\" font-size=\"13\" lengthAdjust=\"spacingAndGlyphs\" textLength=\"58\" x=\"79\" y=\"207.0669\">«import»</text></a><!--MD5=[f667431f98296947986a1a7595a31603]\n",
       "link E6 to E4--><a href=\"psysml:db353f76-c455-46cb-b105-6bd8058807fe\" target=\"_top\" title=\"psysml:db353f76-c455-46cb-b105-6bd8058807fe\" xlink:actuate=\"onRequest\" xlink:href=\"psysml:db353f76-c455-46cb-b105-6bd8058807fe\" xlink:show=\"new\" xlink:title=\"psysml:db353f76-c455-46cb-b105-6bd8058807fe\" xlink:type=\"simple\"><path d=\"M159.27,146.23 C158.02,164.29 154.7,190.1 146,211 C140.9,223.24 133.26,235.36 125.44,245.98 \" fill=\"none\" id=\"E6-&gt;E4\" style=\"stroke: #A80036; stroke-width: 1.0;\"/><polygon fill=\"#FFFFFF\" points=\"112.93,261.72,119.2709,242.49,130.2313,251.2003,112.93,261.72\" style=\"stroke: #A80036; stroke-width: 1.0;\"/><ellipse cx=\"124.3831\" cy=\"239.2719\" fill=\"#A80036\" rx=\"2\" ry=\"2\" style=\"stroke: #A80036; stroke-width: 1.0;\"/><ellipse cx=\"132.2119\" cy=\"245.4936\" fill=\"#A80036\" rx=\"2\" ry=\"2\" style=\"stroke: #A80036; stroke-width: 1.0;\"/></a><!--MD5=[de2978fafd3f38c5bc0aa09130fcc8cb]\n",
       "@startuml\r\n",
       " \r\n",
       "package \"AliasImport\" as E1  [[psysml:abc348a5-e8b0-46f2-97be-35eb1a9e9199 ]]  {\r\n",
       "package \"Definitions\" as E2  [[psysml:c5390b7c-a915-4e3b-b35e-1c2257f021d2 ]]  {\r\n",
       "comp def \"Vehicle\" as E3 << << (B,green) >> [[psysml:659a1dfe-6b8d-4702-b827-b31a03710007 ]] {\r\n",
       "}\r\n",
       "comp def \"Vehicle\" as E4 << << (B,green) >> [[psysml:659a1dfe-6b8d-4702-b827-b31a03710007 ]] {\r\n",
       "}\r\n",
       "}\r\n",
       "package \"Usages\" as E5  [[psysml:ccb2f7ee-bd35-4426-a662-4cf2ccb8ae79 ]]  {\r\n",
       "comp usage \"vehicle: Vehicle \" as E6 << << (P,limegreen) part>> [[psysml:783d7c15-c905-4c38-b30b-d01c61187577 ]] {\r\n",
       "}\r\n",
       "}\r\n",
       "}\r\n",
       "E5 ..> E4 [[psysml:8882fd51-4fce-4e08-923b-d836bd7610d5 ]] : <<import>>\r\n",
       "E6 - -:|> E4 [[psysml:db353f76-c455-46cb-b105-6bd8058807fe ]] \r\n",
       "@enduml\r\n",
       "\n",
       "PlantUML version 1.2020.13(Sat Jun 13 12:26:38 UTC 2020)\n",
       "(EPL source distribution)\n",
       "Java Runtime: OpenJDK Runtime Environment\n",
       "JVM: OpenJDK 64-Bit Server VM\n",
       "Default Encoding: UTF-8\n",
       "Language: en\n",
       "Country: null\n",
       "--></g></svg>"
      ]
     },
     "execution_count": 31,
     "metadata": {},
     "output_type": "execute_result"
    }
   ],
   "source": [
    "%viz --style=\"PLANTUML\" --view=\"Tree\" \"AliasImport\""
   ]
  },
  {
   "cell_type": "code",
   "execution_count": 32,
   "id": "a1844893",
   "metadata": {
    "execution": {
     "iopub.execute_input": "2022-06-20T11:15:00.717193Z",
     "iopub.status.busy": "2022-06-20T11:15:00.716526Z",
     "iopub.status.idle": "2022-06-20T11:15:00.876653Z",
     "shell.execute_reply": "2022-06-20T11:15:00.875711Z"
    }
   },
   "outputs": [
    {
     "data": {
      "image/svg+xml": [
       "<?xml version=\"1.0\" encoding=\"UTF-8\" standalone=\"no\"?><svg xmlns=\"http://www.w3.org/2000/svg\" xmlns:xlink=\"http://www.w3.org/1999/xlink\" contentScriptType=\"application/ecmascript\" contentStyleType=\"text/css\" height=\"417px\" preserveAspectRatio=\"none\" style=\"width:603px;height:417px;background:#000000;\" version=\"1.1\" viewBox=\"0 0 603 417\" width=\"603px\" zoomAndPan=\"magnify\"><defs/><g><rect fill=\"#090318\" height=\"1\" style=\"stroke: #090318; stroke-width: 1.0;\" width=\"1\" x=\"0\" y=\"0\"/><rect fill=\"#F6C914\" height=\"58\" style=\"stroke: #F6C914; stroke-width: 1.0;\" width=\"602\" x=\"0\" y=\"0\"/><image height=\"58\" width=\"454\" x=\"1\" xlink:href=\"data:image/png;base64,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\" y=\"1\"/><rect fill=\"#FFFFFF\" height=\"202.8012\" style=\"stroke: #FFFFFF; stroke-width: 1.0;\" width=\"602\" x=\"0\" y=\"58\"/><text fill=\"#000000\" font-family=\"sans-serif\" font-size=\"12\" font-weight=\"bold\" lengthAdjust=\"spacingAndGlyphs\" textLength=\"139\" x=\"5\" y=\"74.1387\">Welcome to PlantUML!</text><text fill=\"#000000\" font-family=\"sans-serif\" font-size=\"12\" lengthAdjust=\"spacingAndGlyphs\" textLength=\"0\" x=\"9\" y=\"88.1074\"/><text fill=\"#000000\" font-family=\"sans-serif\" font-size=\"12\" lengthAdjust=\"spacingAndGlyphs\" textLength=\"293\" x=\"5\" y=\"102.0762\">If you use this software, you accept its license.</text><text fill=\"#000000\" font-family=\"sans-serif\" font-size=\"12\" lengthAdjust=\"spacingAndGlyphs\" textLength=\"107\" x=\"5\" y=\"116.0449\">(details by typing</text><text fill=\"#000000\" font-family=\"monospace\" font-size=\"12\" lengthAdjust=\"spacingAndGlyphs\" textLength=\"42\" x=\"116\" y=\"116.595\">license</text><text fill=\"#000000\" font-family=\"sans-serif\" font-size=\"12\" lengthAdjust=\"spacingAndGlyphs\" textLength=\"56\" x=\"162\" y=\"116.0449\">keyword)</text><text fill=\"#000000\" font-family=\"sans-serif\" font-size=\"12\" lengthAdjust=\"spacingAndGlyphs\" textLength=\"0\" x=\"9\" y=\"130.0137\"/><text fill=\"#000000\" font-family=\"sans-serif\" font-size=\"12\" lengthAdjust=\"spacingAndGlyphs\" textLength=\"283\" x=\"5\" y=\"143.9824\">You can start with a simple UML Diagram like:</text><text fill=\"#000000\" font-family=\"sans-serif\" font-size=\"12\" lengthAdjust=\"spacingAndGlyphs\" textLength=\"0\" x=\"9\" y=\"157.9512\"/><text fill=\"#000000\" font-family=\"monospace\" font-size=\"12\" lengthAdjust=\"spacingAndGlyphs\" textLength=\"102\" x=\"5\" y=\"171.0893\">Bob-&gt;Alice: Hello</text><text fill=\"#000000\" font-family=\"sans-serif\" font-size=\"12\" lengthAdjust=\"spacingAndGlyphs\" textLength=\"0\" x=\"9\" y=\"184.508\"/><text fill=\"#000000\" font-family=\"sans-serif\" font-size=\"12\" lengthAdjust=\"spacingAndGlyphs\" textLength=\"14\" x=\"5\" y=\"198.4768\">Or</text><text fill=\"#000000\" font-family=\"sans-serif\" font-size=\"12\" lengthAdjust=\"spacingAndGlyphs\" textLength=\"0\" x=\"9\" y=\"212.4455\"/><text fill=\"#000000\" font-family=\"monospace\" font-size=\"12\" lengthAdjust=\"spacingAndGlyphs\" textLength=\"78\" x=\"5\" y=\"225.5837\">class Example</text><text fill=\"#000000\" font-family=\"sans-serif\" font-size=\"12\" lengthAdjust=\"spacingAndGlyphs\" textLength=\"0\" x=\"9\" y=\"239.0023\"/><text fill=\"#000000\" font-family=\"sans-serif\" font-size=\"12\" lengthAdjust=\"spacingAndGlyphs\" textLength=\"349\" x=\"5\" y=\"252.9711\">You will find more information about PlantUML syntax on</text><text fill=\"#000000\" font-family=\"sans-serif\" font-size=\"12\" lengthAdjust=\"spacingAndGlyphs\" text-decoration=\"underline\" textLength=\"129\" x=\"358\" y=\"252.9711\">https://plantuml.com</text><image height=\"71\" width=\"80\" x=\"516\" xlink:href=\"data:image/png;base64,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\" y=\"64\"/><rect fill=\"#000000\" height=\"96.4844\" style=\"stroke: #000000; stroke-width: 1.0;\" width=\"602\" x=\"0\" y=\"260.8012\"/><rect fill=\"#33FF02\" height=\"21.2969\" style=\"stroke: #33FF02; stroke-width: 1.0;\" width=\"145\" x=\"5\" y=\"265.8012\"/><text fill=\"#000000\" font-family=\"sans-serif\" font-size=\"14\" font-weight=\"bold\" lengthAdjust=\"spacingAndGlyphs\" textLength=\"143\" x=\"6\" y=\"280.8012\">[From string (line 2) ]</text><text fill=\"#33FF02\" font-family=\"sans-serif\" font-size=\"14\" font-weight=\"bold\" lengthAdjust=\"spacingAndGlyphs\" textLength=\"0\" x=\"9\" y=\"301.0981\"/><text fill=\"#33FF02\" font-family=\"sans-serif\" font-size=\"14\" font-weight=\"bold\" lengthAdjust=\"spacingAndGlyphs\" textLength=\"70\" x=\"5\" y=\"317.3949\">@startuml</text><text fill=\"#33FF02\" font-family=\"sans-serif\" font-size=\"14\" font-weight=\"bold\" lengthAdjust=\"spacingAndGlyphs\" textLength=\"0\" x=\"9\" y=\"333.6918\"/><text fill=\"#FF0000\" font-family=\"sans-serif\" font-size=\"14\" font-weight=\"bold\" lengthAdjust=\"spacingAndGlyphs\" textLength=\"124\" x=\"9\" y=\"349.9887\">Empty description</text><rect fill=\"#F6C914\" height=\"58\" style=\"stroke: #F6C914; stroke-width: 1.0;\" width=\"602\" x=\"0\" y=\"357.2856\"/><image height=\"58\" width=\"454\" x=\"1\" xlink:href=\"data:image/png;base64,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\" y=\"358.2856\"/><!--MD5=[f59edd8218d337f74d0c332fc6737304]\n",
       "@startuml\r\n",
       " \r\n",
       "@enduml\r\n",
       "\n",
       "PlantUML version 1.2020.13(Sat Jun 13 12:26:38 UTC 2020)\n",
       "(EPL source distribution)\n",
       "Java Runtime: OpenJDK Runtime Environment\n",
       "JVM: OpenJDK 64-Bit Server VM\n",
       "Default Encoding: UTF-8\n",
       "Language: en\n",
       "Country: null\n",
       "--></g></svg>"
      ]
     },
     "execution_count": 32,
     "metadata": {},
     "output_type": "execute_result"
    }
   ],
   "source": [
    "%viz --style=\"PLANTUML\" --view=\"State\" \"AliasImport\""
   ]
  },
  {
   "cell_type": "code",
   "execution_count": 33,
   "id": "115fa0be",
   "metadata": {
    "execution": {
     "iopub.execute_input": "2022-06-20T11:15:00.926456Z",
     "iopub.status.busy": "2022-06-20T11:15:00.926040Z",
     "iopub.status.idle": "2022-06-20T11:15:00.945924Z",
     "shell.execute_reply": "2022-06-20T11:15:00.945018Z"
    }
   },
   "outputs": [
    {
     "data": {
      "image/svg+xml": [
       "<?xml version=\"1.0\" encoding=\"UTF-8\" standalone=\"no\"?><svg xmlns=\"http://www.w3.org/2000/svg\" xmlns:xlink=\"http://www.w3.org/1999/xlink\" contentScriptType=\"application/ecmascript\" contentStyleType=\"text/css\" height=\"348px\" preserveAspectRatio=\"none\" style=\"width:317px;height:348px;\" version=\"1.1\" viewBox=\"0 0 317 348\" width=\"317px\" zoomAndPan=\"magnify\"><defs><filter height=\"300%\" id=\"fjsgmf66kf0v0\" width=\"300%\" x=\"-1\" y=\"-1\"><feGaussianBlur result=\"blurOut\" stdDeviation=\"2.0\"/><feColorMatrix in=\"blurOut\" result=\"blurOut2\" type=\"matrix\" values=\"0 0 0 0 0 0 0 0 0 0 0 0 0 0 0 0 0 0 .4 0\"/><feOffset dx=\"4.0\" dy=\"4.0\" in=\"blurOut2\" result=\"blurOut3\"/><feBlend in=\"SourceGraphic\" in2=\"blurOut3\" mode=\"normal\"/></filter></defs><g><!--MD5=[fbc87193dbaf4d95561dea2c320d4a47]\n",
       "cluster E1--><a href=\"psysml:abc348a5-e8b0-46f2-97be-35eb1a9e9199\" target=\"_top\" title=\"psysml:abc348a5-e8b0-46f2-97be-35eb1a9e9199\" xlink:actuate=\"onRequest\" xlink:href=\"psysml:abc348a5-e8b0-46f2-97be-35eb1a9e9199\" xlink:show=\"new\" xlink:title=\"psysml:abc348a5-e8b0-46f2-97be-35eb1a9e9199\" xlink:type=\"simple\"><polygon fill=\"#FFFFFF\" filter=\"url(#fjsgmf66kf0v0)\" points=\"16,6,97,6,104,28.2969,295,28.2969,295,336,16,336,16,6\" style=\"stroke: #000000; stroke-width: 1.5;\"/><line style=\"stroke: #000000; stroke-width: 1.5;\" x1=\"16\" x2=\"104\" y1=\"28.2969\" y2=\"28.2969\"/><text fill=\"#000000\" font-family=\"sans-serif\" font-size=\"14\" font-weight=\"bold\" lengthAdjust=\"spacingAndGlyphs\" textLength=\"75\" x=\"20\" y=\"20.9951\">AliasImport</text></a><!--MD5=[e4f7fae6ed58524ba242bb0b0d3be6b7]\n",
       "cluster E2--><a href=\"psysml:c5390b7c-a915-4e3b-b35e-1c2257f021d2\" target=\"_top\" title=\"psysml:c5390b7c-a915-4e3b-b35e-1c2257f021d2\" xlink:actuate=\"onRequest\" xlink:href=\"psysml:c5390b7c-a915-4e3b-b35e-1c2257f021d2\" xlink:show=\"new\" xlink:title=\"psysml:c5390b7c-a915-4e3b-b35e-1c2257f021d2\" xlink:type=\"simple\"><polygon fill=\"#FFFFFF\" filter=\"url(#fjsgmf66kf0v0)\" points=\"40,221,119,221,126,243.2969,271,243.2969,271,312,40,312,40,221\" style=\"stroke: #000000; stroke-width: 1.5;\"/><line style=\"stroke: #000000; stroke-width: 1.5;\" x1=\"40\" x2=\"126\" y1=\"243.2969\" y2=\"243.2969\"/><text fill=\"#000000\" font-family=\"sans-serif\" font-size=\"14\" font-weight=\"bold\" lengthAdjust=\"spacingAndGlyphs\" textLength=\"73\" x=\"44\" y=\"235.9951\">Definitions</text></a><!--MD5=[de5ec2e2e8f62f467e546659f5068c88]\n",
       "cluster E5--><a href=\"psysml:ccb2f7ee-bd35-4426-a662-4cf2ccb8ae79\" target=\"_top\" title=\"psysml:ccb2f7ee-bd35-4426-a662-4cf2ccb8ae79\" xlink:actuate=\"onRequest\" xlink:href=\"psysml:ccb2f7ee-bd35-4426-a662-4cf2ccb8ae79\" xlink:show=\"new\" xlink:title=\"psysml:ccb2f7ee-bd35-4426-a662-4cf2ccb8ae79\" xlink:type=\"simple\"><polygon fill=\"#FFFFFF\" filter=\"url(#fjsgmf66kf0v0)\" points=\"55,57,113,57,120,79.2969,256,79.2969,256,164,55,164,55,57\" style=\"stroke: #000000; stroke-width: 1.5;\"/><line style=\"stroke: #000000; stroke-width: 1.5;\" x1=\"55\" x2=\"120\" y1=\"79.2969\" y2=\"79.2969\"/><text fill=\"#000000\" font-family=\"sans-serif\" font-size=\"14\" font-weight=\"bold\" lengthAdjust=\"spacingAndGlyphs\" textLength=\"52\" x=\"59\" y=\"71.9951\">Usages</text></a><g id=\"E1.E2.E3\"><a href=\"psysml:659a1dfe-6b8d-4702-b827-b31a03710007\" target=\"_top\" title=\"psysml:659a1dfe-6b8d-4702-b827-b31a03710007\" xlink:actuate=\"onRequest\" xlink:href=\"psysml:659a1dfe-6b8d-4702-b827-b31a03710007\" xlink:show=\"new\" xlink:title=\"psysml:659a1dfe-6b8d-4702-b827-b31a03710007\" xlink:type=\"simple\"><rect fill=\"#FEFECE\" filter=\"url(#fjsgmf66kf0v0)\" height=\"40\" id=\"E3\" style=\"stroke: #A80036; stroke-width: 1.5;\" width=\"82\" x=\"173\" y=\"256\"/><ellipse cx=\"190.25\" cy=\"272\" fill=\"#008000\" rx=\"11\" ry=\"11\" style=\"stroke: #A80036; stroke-width: 1.0;\"/><path d=\"M187.125,277 L187.125,266.4063 L190.3594,266.4063 Q192.2656,266.4063 193.1719,267.1563 Q194.0938,267.9063 194.0938,269.0781 Q194.0938,269.7656 193.7031,270.4219 Q193.3281,271.0781 192.6094,271.375 Q193.4688,271.75 193.9844,272.4375 Q194.5,273.125 194.5,273.9375 Q194.5,275.3125 193.4688,276.1563 Q192.4531,277 190.3438,277 L187.125,277 Z M189.0469,270.6406 L190.2031,270.6406 Q191.3281,270.6406 191.7344,270.2656 Q192.1563,269.875 192.1563,269.25 Q192.1563,268.6719 191.7344,268.3125 Q191.3125,267.9531 190.375,267.9531 L189.0469,267.9531 L189.0469,270.6406 Z M189.0469,275.4219 L190.5469,275.4219 Q191.4531,275.4219 191.9844,275.0313 Q192.5156,274.6406 192.5156,273.8906 Q192.5156,273.125 192.0156,272.6563 Q191.5156,272.1719 190.25,272.1719 L189.0469,272.1719 L189.0469,275.4219 Z \"/><text fill=\"#000000\" font-family=\"sans-serif\" font-size=\"12\" lengthAdjust=\"spacingAndGlyphs\" textLength=\"45\" x=\"204.75\" y=\"276.1543\">Vehicle</text></a></g><g id=\"E1.E2.E4\"><a href=\"psysml:659a1dfe-6b8d-4702-b827-b31a03710007\" target=\"_top\" title=\"psysml:659a1dfe-6b8d-4702-b827-b31a03710007\" xlink:actuate=\"onRequest\" xlink:href=\"psysml:659a1dfe-6b8d-4702-b827-b31a03710007\" xlink:show=\"new\" xlink:title=\"psysml:659a1dfe-6b8d-4702-b827-b31a03710007\" xlink:type=\"simple\"><rect fill=\"#FEFECE\" filter=\"url(#fjsgmf66kf0v0)\" height=\"40\" id=\"E4\" style=\"stroke: #A80036; stroke-width: 1.5;\" width=\"82\" x=\"56\" y=\"256\"/><ellipse cx=\"73.25\" cy=\"272\" fill=\"#008000\" rx=\"11\" ry=\"11\" style=\"stroke: #A80036; stroke-width: 1.0;\"/><path d=\"M70.125,277 L70.125,266.4063 L73.3594,266.4063 Q75.2656,266.4063 76.1719,267.1563 Q77.0938,267.9063 77.0938,269.0781 Q77.0938,269.7656 76.7031,270.4219 Q76.3281,271.0781 75.6094,271.375 Q76.4688,271.75 76.9844,272.4375 Q77.5,273.125 77.5,273.9375 Q77.5,275.3125 76.4688,276.1563 Q75.4531,277 73.3438,277 L70.125,277 Z M72.0469,270.6406 L73.2031,270.6406 Q74.3281,270.6406 74.7344,270.2656 Q75.1563,269.875 75.1563,269.25 Q75.1563,268.6719 74.7344,268.3125 Q74.3125,267.9531 73.375,267.9531 L72.0469,267.9531 L72.0469,270.6406 Z M72.0469,275.4219 L73.5469,275.4219 Q74.4531,275.4219 74.9844,275.0313 Q75.5156,274.6406 75.5156,273.8906 Q75.5156,273.125 75.0156,272.6563 Q74.5156,272.1719 73.25,272.1719 L72.0469,272.1719 L72.0469,275.4219 Z \"/><text fill=\"#000000\" font-family=\"sans-serif\" font-size=\"12\" lengthAdjust=\"spacingAndGlyphs\" textLength=\"45\" x=\"87.75\" y=\"276.1543\">Vehicle</text></a></g><g id=\"E1.E5.E6\"><a href=\"psysml:783d7c15-c905-4c38-b30b-d01c61187577\" target=\"_top\" title=\"psysml:783d7c15-c905-4c38-b30b-d01c61187577\" xlink:actuate=\"onRequest\" xlink:href=\"psysml:783d7c15-c905-4c38-b30b-d01c61187577\" xlink:show=\"new\" xlink:title=\"psysml:783d7c15-c905-4c38-b30b-d01c61187577\" xlink:type=\"simple\"><rect fill=\"#FEFECE\" filter=\"url(#fjsgmf66kf0v0)\" height=\"40\" id=\"E6\" rx=\"10\" ry=\"10\" style=\"stroke: #A80036; stroke-width: 1.5;\" width=\"133\" x=\"98.5\" y=\"100\"/><ellipse cx=\"115.75\" cy=\"116\" fill=\"#B6DBBB\" rx=\"11\" ry=\"11\" style=\"stroke: #A80036; stroke-width: 1.0;\"/><path d=\"M115.5,121.4688 Q113.75,121.4688 112.7969,120.4375 Q111.8594,119.3906 111.8594,117.5469 L111.8594,110.6563 L113.9219,110.6563 L113.9219,110.8125 Q113.8281,110.9063 113.7969,111.0469 Q113.7813,111.1719 113.7813,111.4375 L113.7813,117.5625 Q113.7813,118.6563 114.1563,119.2813 Q114.5313,119.9063 115.5156,119.9063 Q116.5,119.9063 116.8906,119.2813 Q117.2813,118.6563 117.2813,117.5156 L117.2813,110.6563 L119.1563,110.6563 L119.1563,117.5 Q119.1563,119.5313 118.125,120.5 Q117.1094,121.4688 115.5,121.4688 Z \"/><text fill=\"#000000\" font-family=\"sans-serif\" font-size=\"12\" lengthAdjust=\"spacingAndGlyphs\" textLength=\"96\" x=\"130.25\" y=\"120.1543\">vehicle: Vehicle</text></a></g><!--MD5=[1c62de2aa5b76f0fb657ff8443a1a700]\n",
       "link E5 to E4--><a href=\"psysml:8882fd51-4fce-4e08-923b-d836bd7610d5\" target=\"_top\" title=\"psysml:8882fd51-4fce-4e08-923b-d836bd7610d5\" xlink:actuate=\"onRequest\" xlink:href=\"psysml:8882fd51-4fce-4e08-923b-d836bd7610d5\" xlink:show=\"new\" xlink:title=\"psysml:8882fd51-4fce-4e08-923b-d836bd7610d5\" xlink:type=\"simple\"><path d=\"M72.6174,164.5679 C72.6618,164.7689 72.7063,164.9703 72.7508,165.172 C72.8399,165.5755 72.9293,165.9804 73.019,166.3867 C73.3779,168.0122 73.7419,169.6603 74.11,171.3275 C80,198.0025 86.965,229.55 91.65,250.78 \" fill=\"none\" id=\"E5-&gt;E4\" style=\"stroke: #A80036; stroke-width: 1.0; stroke-dasharray: 7.0,7.0;\"/><polygon fill=\"#A80036\" points=\"92.75,255.74,94.7024,246.0866,91.6653,250.8591,86.8929,247.822,92.75,255.74\" style=\"stroke: #A80036; stroke-width: 1.0;\"/><text fill=\"#000000\" font-family=\"sans-serif\" font-size=\"13\" lengthAdjust=\"spacingAndGlyphs\" textLength=\"58\" x=\"82\" y=\"201.0669\">«import»</text></a><!--MD5=[f667431f98296947986a1a7595a31603]\n",
       "link E6 to E4--><a href=\"psysml:db353f76-c455-46cb-b105-6bd8058807fe\" target=\"_top\" title=\"psysml:db353f76-c455-46cb-b105-6bd8058807fe\" xlink:actuate=\"onRequest\" xlink:href=\"psysml:db353f76-c455-46cb-b105-6bd8058807fe\" xlink:show=\"new\" xlink:title=\"psysml:db353f76-c455-46cb-b105-6bd8058807fe\" xlink:type=\"simple\"><path d=\"M162.84,140.01 C160.36,157.48 155.38,183.81 146,205 C140.73,216.91 133.32,228.88 125.85,239.47 \" fill=\"none\" id=\"E6-&gt;E4\" style=\"stroke: #A80036; stroke-width: 1.0;\"/><polygon fill=\"#FFFFFF\" points=\"113.59,255.73,119.4205,236.3391,130.6073,244.7567,113.59,255.73\" style=\"stroke: #A80036; stroke-width: 1.0;\"/><ellipse cx=\"124.4457\" cy=\"232.987\" fill=\"#A80036\" rx=\"2\" ry=\"2\" style=\"stroke: #A80036; stroke-width: 1.0;\"/><ellipse cx=\"132.4363\" cy=\"238.9996\" fill=\"#A80036\" rx=\"2\" ry=\"2\" style=\"stroke: #A80036; stroke-width: 1.0;\"/></a><!--MD5=[b025d78e47c91ccb26e5abf32336254b]\n",
       "@startuml\r\n",
       "skinparam ranksep 10\r\n",
       "skinparam rectangle {\r\n",
       " backgroundColor<<block>> LightGreen\r\n",
       "}\r\n",
       " \r\n",
       "package \"AliasImport\" as E1  [[psysml:abc348a5-e8b0-46f2-97be-35eb1a9e9199 ]]  {\r\n",
       "package \"Definitions\" as E2  [[psysml:c5390b7c-a915-4e3b-b35e-1c2257f021d2 ]]  {\r\n",
       "rec def \"Vehicle\" as E3 << << (B,green) >> [[psysml:659a1dfe-6b8d-4702-b827-b31a03710007 ]] {\r\n",
       "}\r\n",
       "rec def \"Vehicle\" as E4 << << (B,green) >> [[psysml:659a1dfe-6b8d-4702-b827-b31a03710007 ]] {\r\n",
       "}\r\n",
       "}\r\n",
       "package \"Usages\" as E5  [[psysml:ccb2f7ee-bd35-4426-a662-4cf2ccb8ae79 ]]  {\r\n",
       "rec usage \"vehicle: Vehicle\" as E6  [[psysml:783d7c15-c905-4c38-b30b-d01c61187577 ]] {\r\n",
       "}\r\n",
       "}\r\n",
       "}\r\n",
       "E5 ..> E4 [[psysml:8882fd51-4fce-4e08-923b-d836bd7610d5 ]] : <<import>>\r\n",
       "E6 - -:|> E4 [[psysml:db353f76-c455-46cb-b105-6bd8058807fe ]] \r\n",
       "@enduml\r\n",
       "\n",
       "PlantUML version 1.2020.13(Sat Jun 13 12:26:38 UTC 2020)\n",
       "(EPL source distribution)\n",
       "Java Runtime: OpenJDK Runtime Environment\n",
       "JVM: OpenJDK 64-Bit Server VM\n",
       "Default Encoding: UTF-8\n",
       "Language: en\n",
       "Country: null\n",
       "--></g></svg>"
      ]
     },
     "execution_count": 33,
     "metadata": {},
     "output_type": "execute_result"
    }
   ],
   "source": [
    "%viz --style=\"PLANTUML\" --view=\"Interconnection\" \"AliasImport\""
   ]
  },
  {
   "cell_type": "code",
   "execution_count": 34,
   "id": "d14a2d2d",
   "metadata": {
    "execution": {
     "iopub.execute_input": "2022-06-20T11:15:00.995992Z",
     "iopub.status.busy": "2022-06-20T11:15:00.995513Z",
     "iopub.status.idle": "2022-06-20T11:15:00.999207Z",
     "shell.execute_reply": "2022-06-20T11:15:00.998740Z"
    }
   },
   "outputs": [
    {
     "data": {
      "image/svg+xml": [
       "<?xml version=\"1.0\" encoding=\"UTF-8\" standalone=\"no\"?><svg xmlns=\"http://www.w3.org/2000/svg\" xmlns:xlink=\"http://www.w3.org/1999/xlink\" contentScriptType=\"application/ecmascript\" contentStyleType=\"text/css\" height=\"12px\" preserveAspectRatio=\"none\" style=\"width:12px;height:12px;\" version=\"1.1\" viewBox=\"0 0 12 12\" width=\"12px\" zoomAndPan=\"magnify\"><defs/><g><!--MD5=[6a4cb978cab31700e1ce5529f947a75d]\n",
       "@startuml\r\n",
       "skinparam ranksep 8\r\n",
       " \r\n",
       "@enduml\r\n",
       "\n",
       "PlantUML version 1.2020.13(Sat Jun 13 12:26:38 UTC 2020)\n",
       "(EPL source distribution)\n",
       "Java Runtime: OpenJDK Runtime Environment\n",
       "JVM: OpenJDK 64-Bit Server VM\n",
       "Default Encoding: UTF-8\n",
       "Language: en\n",
       "Country: null\n",
       "--></g></svg>"
      ]
     },
     "execution_count": 34,
     "metadata": {},
     "output_type": "execute_result"
    }
   ],
   "source": [
    "%viz --style=\"PLANTUML\" --view=\"Action\" \"AliasImport\""
   ]
  },
  {
   "cell_type": "code",
   "execution_count": 35,
   "id": "0c721ecd",
   "metadata": {
    "execution": {
     "iopub.execute_input": "2022-06-20T11:15:01.049103Z",
     "iopub.status.busy": "2022-06-20T11:15:01.048635Z",
     "iopub.status.idle": "2022-06-20T11:15:01.054324Z",
     "shell.execute_reply": "2022-06-20T11:15:01.053925Z"
    }
   },
   "outputs": [
    {
     "data": {
      "image/svg+xml": [
       "<?xml version=\"1.0\" encoding=\"UTF-8\" standalone=\"no\"?><svg xmlns=\"http://www.w3.org/2000/svg\" xmlns:xlink=\"http://www.w3.org/1999/xlink\" contentScriptType=\"application/ecmascript\" contentStyleType=\"text/css\" height=\"12px\" preserveAspectRatio=\"none\" style=\"width:12px;height:12px;\" version=\"1.1\" viewBox=\"0 0 12 12\" width=\"12px\" zoomAndPan=\"magnify\"><defs/><g><!--MD5=[ca4faa0b02def275ea33c14ea7a1a98d]\n",
       "@startuml\r\n",
       "skinparam roundcorner 20\r\n",
       "skinparam BoxPadding 20\r\n",
       "skinparam SequenceBoxBackgroundColor #white\r\n",
       "skinparam style strictuml\r\n",
       "skinparam maxMessageSize 100\r\n",
       " \r\n",
       "@enduml\r\n",
       "\n",
       "PlantUML version 1.2020.13(Sat Jun 13 12:26:38 UTC 2020)\n",
       "(EPL source distribution)\n",
       "Java Runtime: OpenJDK Runtime Environment\n",
       "JVM: OpenJDK 64-Bit Server VM\n",
       "Default Encoding: UTF-8\n",
       "Language: en\n",
       "Country: null\n",
       "--></g></svg>"
      ]
     },
     "execution_count": 35,
     "metadata": {},
     "output_type": "execute_result"
    }
   ],
   "source": [
    "%viz --style=\"PLANTUML\" --view=\"Sequence\" \"AliasImport\""
   ]
  },
  {
   "cell_type": "code",
   "execution_count": 36,
   "id": "d0bd6a0f",
   "metadata": {
    "execution": {
     "iopub.execute_input": "2022-06-20T11:15:01.104119Z",
     "iopub.status.busy": "2022-06-20T11:15:01.103631Z",
     "iopub.status.idle": "2022-06-20T11:15:01.134486Z",
     "shell.execute_reply": "2022-06-20T11:15:01.134066Z"
    }
   },
   "outputs": [
    {
     "data": {
      "image/svg+xml": [
       "<?xml version=\"1.0\" encoding=\"UTF-8\" standalone=\"no\"?><svg xmlns=\"http://www.w3.org/2000/svg\" xmlns:xlink=\"http://www.w3.org/1999/xlink\" contentScriptType=\"application/ecmascript\" contentStyleType=\"text/css\" height=\"354px\" preserveAspectRatio=\"none\" style=\"width:308px;height:354px;\" version=\"1.1\" viewBox=\"0 0 308 354\" width=\"308px\" zoomAndPan=\"magnify\"><defs><filter height=\"300%\" id=\"f1fdtw36jflpau\" width=\"300%\" x=\"-1\" y=\"-1\"><feGaussianBlur result=\"blurOut\" stdDeviation=\"2.0\"/><feColorMatrix in=\"blurOut\" result=\"blurOut2\" type=\"matrix\" values=\"0 0 0 0 0 0 0 0 0 0 0 0 0 0 0 0 0 0 .4 0\"/><feOffset dx=\"4.0\" dy=\"4.0\" in=\"blurOut2\" result=\"blurOut3\"/><feBlend in=\"SourceGraphic\" in2=\"blurOut3\" mode=\"normal\"/></filter></defs><g><!--MD5=[fbc87193dbaf4d95561dea2c320d4a47]\n",
       "cluster E1--><a href=\"psysml:abc348a5-e8b0-46f2-97be-35eb1a9e9199\" target=\"_top\" title=\"psysml:abc348a5-e8b0-46f2-97be-35eb1a9e9199\" xlink:actuate=\"onRequest\" xlink:href=\"psysml:abc348a5-e8b0-46f2-97be-35eb1a9e9199\" xlink:show=\"new\" xlink:title=\"psysml:abc348a5-e8b0-46f2-97be-35eb1a9e9199\" xlink:type=\"simple\"><polygon fill=\"#FFFFFF\" filter=\"url(#f1fdtw36jflpau)\" points=\"16,6,97,6,104,28.2969,286,28.2969,286,342,16,342,16,6\" style=\"stroke: #000000; stroke-width: 1.5;\"/><line style=\"stroke: #000000; stroke-width: 1.5;\" x1=\"16\" x2=\"104\" y1=\"28.2969\" y2=\"28.2969\"/><text fill=\"#000000\" font-family=\"sans-serif\" font-size=\"14\" font-weight=\"bold\" lengthAdjust=\"spacingAndGlyphs\" textLength=\"75\" x=\"20\" y=\"20.9951\">AliasImport</text></a><!--MD5=[e4f7fae6ed58524ba242bb0b0d3be6b7]\n",
       "cluster E2--><a href=\"psysml:c5390b7c-a915-4e3b-b35e-1c2257f021d2\" target=\"_top\" title=\"psysml:c5390b7c-a915-4e3b-b35e-1c2257f021d2\" xlink:actuate=\"onRequest\" xlink:href=\"psysml:c5390b7c-a915-4e3b-b35e-1c2257f021d2\" xlink:show=\"new\" xlink:title=\"psysml:c5390b7c-a915-4e3b-b35e-1c2257f021d2\" xlink:type=\"simple\"><polygon fill=\"#FFFFFF\" filter=\"url(#f1fdtw36jflpau)\" points=\"40,227,119,227,126,249.2969,262,249.2969,262,318,40,318,40,227\" style=\"stroke: #000000; stroke-width: 1.5;\"/><line style=\"stroke: #000000; stroke-width: 1.5;\" x1=\"40\" x2=\"126\" y1=\"249.2969\" y2=\"249.2969\"/><text fill=\"#000000\" font-family=\"sans-serif\" font-size=\"14\" font-weight=\"bold\" lengthAdjust=\"spacingAndGlyphs\" textLength=\"73\" x=\"44\" y=\"241.9951\">Definitions</text></a><!--MD5=[de5ec2e2e8f62f467e546659f5068c88]\n",
       "cluster E5--><a href=\"psysml:ccb2f7ee-bd35-4426-a662-4cf2ccb8ae79\" target=\"_top\" title=\"psysml:ccb2f7ee-bd35-4426-a662-4cf2ccb8ae79\" xlink:actuate=\"onRequest\" xlink:href=\"psysml:ccb2f7ee-bd35-4426-a662-4cf2ccb8ae79\" xlink:show=\"new\" xlink:title=\"psysml:ccb2f7ee-bd35-4426-a662-4cf2ccb8ae79\" xlink:type=\"simple\"><polygon fill=\"#FFFFFF\" filter=\"url(#f1fdtw36jflpau)\" points=\"51,57,109,57,116,79.2969,250,79.2969,250,170,51,170,51,57\" style=\"stroke: #000000; stroke-width: 1.5;\"/><line style=\"stroke: #000000; stroke-width: 1.5;\" x1=\"51\" x2=\"116\" y1=\"79.2969\" y2=\"79.2969\"/><text fill=\"#000000\" font-family=\"sans-serif\" font-size=\"14\" font-weight=\"bold\" lengthAdjust=\"spacingAndGlyphs\" textLength=\"52\" x=\"55\" y=\"71.9951\">Usages</text></a><!--MD5=[09b614a08d8cba4a07c9adeb5e0fee81]\n",
       "class E3--><a href=\"psysml:659a1dfe-6b8d-4702-b827-b31a03710007\" target=\"_top\" title=\"psysml:659a1dfe-6b8d-4702-b827-b31a03710007\" xlink:actuate=\"onRequest\" xlink:href=\"psysml:659a1dfe-6b8d-4702-b827-b31a03710007\" xlink:show=\"new\" xlink:title=\"psysml:659a1dfe-6b8d-4702-b827-b31a03710007\" xlink:type=\"simple\"><rect fill=\"#FEFECE\" filter=\"url(#f1fdtw36jflpau)\" height=\"40\" id=\"E3\" style=\"stroke: #A80036; stroke-width: 1.5;\" width=\"77\" x=\"168.5\" y=\"262\"/><ellipse cx=\"183.5\" cy=\"278\" fill=\"#008000\" rx=\"11\" ry=\"11\" style=\"stroke: #A80036; stroke-width: 1.0;\"/><path d=\"M180.375,283 L180.375,272.4063 L183.6094,272.4063 Q185.5156,272.4063 186.4219,273.1563 Q187.3438,273.9063 187.3438,275.0781 Q187.3438,275.7656 186.9531,276.4219 Q186.5781,277.0781 185.8594,277.375 Q186.7188,277.75 187.2344,278.4375 Q187.75,279.125 187.75,279.9375 Q187.75,281.3125 186.7188,282.1563 Q185.7031,283 183.5938,283 L180.375,283 Z M182.2969,276.6406 L183.4531,276.6406 Q184.5781,276.6406 184.9844,276.2656 Q185.4063,275.875 185.4063,275.25 Q185.4063,274.6719 184.9844,274.3125 Q184.5625,273.9531 183.625,273.9531 L182.2969,273.9531 L182.2969,276.6406 Z M182.2969,281.4219 L183.7969,281.4219 Q184.7031,281.4219 185.2344,281.0313 Q185.7656,280.6406 185.7656,279.8906 Q185.7656,279.125 185.2656,278.6563 Q184.7656,278.1719 183.5,278.1719 L182.2969,278.1719 L182.2969,281.4219 Z \"/><text fill=\"#000000\" font-family=\"sans-serif\" font-size=\"12\" lengthAdjust=\"spacingAndGlyphs\" textLength=\"45\" x=\"197.5\" y=\"282.1543\">Vehicle</text><line style=\"stroke: #A80036; stroke-width: 1.5;\" x1=\"169.5\" x2=\"244.5\" y1=\"294\" y2=\"294\"/></a><!--MD5=[ebbe1d658d1005bcc118a6aa81145e00]\n",
       "class E4--><a href=\"psysml:659a1dfe-6b8d-4702-b827-b31a03710007\" target=\"_top\" title=\"psysml:659a1dfe-6b8d-4702-b827-b31a03710007\" xlink:actuate=\"onRequest\" xlink:href=\"psysml:659a1dfe-6b8d-4702-b827-b31a03710007\" xlink:show=\"new\" xlink:title=\"psysml:659a1dfe-6b8d-4702-b827-b31a03710007\" xlink:type=\"simple\"><rect fill=\"#FEFECE\" filter=\"url(#f1fdtw36jflpau)\" height=\"40\" id=\"E4\" style=\"stroke: #A80036; stroke-width: 1.5;\" width=\"77\" x=\"56.5\" y=\"262\"/><ellipse cx=\"71.5\" cy=\"278\" fill=\"#008000\" rx=\"11\" ry=\"11\" style=\"stroke: #A80036; stroke-width: 1.0;\"/><path d=\"M68.375,283 L68.375,272.4063 L71.6094,272.4063 Q73.5156,272.4063 74.4219,273.1563 Q75.3438,273.9063 75.3438,275.0781 Q75.3438,275.7656 74.9531,276.4219 Q74.5781,277.0781 73.8594,277.375 Q74.7188,277.75 75.2344,278.4375 Q75.75,279.125 75.75,279.9375 Q75.75,281.3125 74.7188,282.1563 Q73.7031,283 71.5938,283 L68.375,283 Z M70.2969,276.6406 L71.4531,276.6406 Q72.5781,276.6406 72.9844,276.2656 Q73.4063,275.875 73.4063,275.25 Q73.4063,274.6719 72.9844,274.3125 Q72.5625,273.9531 71.625,273.9531 L70.2969,273.9531 L70.2969,276.6406 Z M70.2969,281.4219 L71.7969,281.4219 Q72.7031,281.4219 73.2344,281.0313 Q73.7656,280.6406 73.7656,279.8906 Q73.7656,279.125 73.2656,278.6563 Q72.7656,278.1719 71.5,278.1719 L70.2969,278.1719 L70.2969,281.4219 Z \"/><text fill=\"#000000\" font-family=\"sans-serif\" font-size=\"12\" lengthAdjust=\"spacingAndGlyphs\" textLength=\"45\" x=\"85.5\" y=\"282.1543\">Vehicle</text><line style=\"stroke: #A80036; stroke-width: 1.5;\" x1=\"57.5\" x2=\"132.5\" y1=\"294\" y2=\"294\"/></a><!--MD5=[60a26617385b1d2d0262a64233df1f8d]\n",
       "class E6--><a href=\"psysml:783d7c15-c905-4c38-b30b-d01c61187577\" target=\"_top\" title=\"psysml:783d7c15-c905-4c38-b30b-d01c61187577\" xlink:actuate=\"onRequest\" xlink:href=\"psysml:783d7c15-c905-4c38-b30b-d01c61187577\" xlink:show=\"new\" xlink:title=\"psysml:783d7c15-c905-4c38-b30b-d01c61187577\" xlink:type=\"simple\"><rect fill=\"#FEFECE\" filter=\"url(#f1fdtw36jflpau)\" height=\"45.9375\" id=\"E6\" rx=\"10\" ry=\"10\" style=\"stroke: #A80036; stroke-width: 1.5;\" width=\"132\" x=\"94\" y=\"100\"/><ellipse cx=\"109\" cy=\"118.9688\" fill=\"#32CD32\" rx=\"11\" ry=\"11\" style=\"stroke: #A80036; stroke-width: 1.0;\"/><path d=\"M105.8125,123.9688 L105.8125,113.375 L109.4219,113.375 Q110.6406,113.375 111.4375,113.8125 Q112.2344,114.2344 112.6094,114.9375 Q113,115.6406 113,116.4844 Q113,117.3281 112.625,118.0156 Q112.2656,118.7031 111.4688,119.125 Q110.6875,119.5313 109.5,119.5313 L107.7656,119.5313 L107.7656,123.9688 L105.8125,123.9688 Z M107.7656,117.9375 L109.375,117.9375 Q110.1875,117.9375 110.6094,117.5313 Q111.0313,117.125 111.0313,116.4844 Q111.0313,115.8594 110.6094,115.4531 Q110.1875,115.0469 109.3906,115.0469 L107.7656,115.0469 L107.7656,117.9375 Z \"/><text fill=\"#000000\" font-family=\"sans-serif\" font-size=\"12\" font-style=\"italic\" lengthAdjust=\"spacingAndGlyphs\" textLength=\"40\" x=\"153\" y=\"116.1387\">«part»</text><text fill=\"#000000\" font-family=\"sans-serif\" font-size=\"12\" lengthAdjust=\"spacingAndGlyphs\" textLength=\"96\" x=\"123\" y=\"130.1074\">vehicle: Vehicle</text><line style=\"stroke: #A80036; stroke-width: 1.5;\" x1=\"95\" x2=\"225\" y1=\"137.9375\" y2=\"137.9375\"/></a><!--MD5=[1c62de2aa5b76f0fb657ff8443a1a700]\n",
       "link E5 to E4--><a href=\"psysml:8882fd51-4fce-4e08-923b-d836bd7610d5\" target=\"_top\" title=\"psysml:8882fd51-4fce-4e08-923b-d836bd7610d5\" xlink:actuate=\"onRequest\" xlink:href=\"psysml:8882fd51-4fce-4e08-923b-d836bd7610d5\" xlink:show=\"new\" xlink:title=\"psysml:8882fd51-4fce-4e08-923b-d836bd7610d5\" xlink:type=\"simple\"><path d=\"M69.5524,170.0177 C69.6001,170.2256 69.6478,170.4339 69.6957,170.6425 C70.0783,172.3115 70.4663,174.0036 70.8587,175.715 C77.1375,203.0975 84.55,235.42 89.49,256.96 \" fill=\"none\" id=\"E5-&gt;E4\" style=\"stroke: #A80036; stroke-width: 1.0; stroke-dasharray: 7.0,7.0;\"/><polygon fill=\"#A80036\" points=\"90.64,261.99,92.5055,252.3194,89.5115,257.119,84.712,254.125,90.64,261.99\" style=\"stroke: #A80036; stroke-width: 1.0;\"/><text fill=\"#000000\" font-family=\"sans-serif\" font-size=\"13\" lengthAdjust=\"spacingAndGlyphs\" textLength=\"58\" x=\"79\" y=\"207.0669\">«import»</text></a><!--MD5=[f667431f98296947986a1a7595a31603]\n",
       "link E6 to E4--><a href=\"psysml:db353f76-c455-46cb-b105-6bd8058807fe\" target=\"_top\" title=\"psysml:db353f76-c455-46cb-b105-6bd8058807fe\" xlink:actuate=\"onRequest\" xlink:href=\"psysml:db353f76-c455-46cb-b105-6bd8058807fe\" xlink:show=\"new\" xlink:title=\"psysml:db353f76-c455-46cb-b105-6bd8058807fe\" xlink:type=\"simple\"><path d=\"M159.27,146.23 C158.02,164.29 154.7,190.1 146,211 C140.9,223.24 133.26,235.36 125.44,245.98 \" fill=\"none\" id=\"E6-&gt;E4\" style=\"stroke: #A80036; stroke-width: 1.0;\"/><polygon fill=\"#FFFFFF\" points=\"112.93,261.72,119.2709,242.49,130.2313,251.2003,112.93,261.72\" style=\"stroke: #A80036; stroke-width: 1.0;\"/><ellipse cx=\"124.3831\" cy=\"239.2719\" fill=\"#A80036\" rx=\"2\" ry=\"2\" style=\"stroke: #A80036; stroke-width: 1.0;\"/><ellipse cx=\"132.2119\" cy=\"245.4936\" fill=\"#A80036\" rx=\"2\" ry=\"2\" style=\"stroke: #A80036; stroke-width: 1.0;\"/></a><!--MD5=[de2978fafd3f38c5bc0aa09130fcc8cb]\n",
       "@startuml\r\n",
       " \r\n",
       "package \"AliasImport\" as E1  [[psysml:abc348a5-e8b0-46f2-97be-35eb1a9e9199 ]]  {\r\n",
       "package \"Definitions\" as E2  [[psysml:c5390b7c-a915-4e3b-b35e-1c2257f021d2 ]]  {\r\n",
       "comp def \"Vehicle\" as E3 << << (B,green) >> [[psysml:659a1dfe-6b8d-4702-b827-b31a03710007 ]] {\r\n",
       "}\r\n",
       "comp def \"Vehicle\" as E4 << << (B,green) >> [[psysml:659a1dfe-6b8d-4702-b827-b31a03710007 ]] {\r\n",
       "}\r\n",
       "}\r\n",
       "package \"Usages\" as E5  [[psysml:ccb2f7ee-bd35-4426-a662-4cf2ccb8ae79 ]]  {\r\n",
       "comp usage \"vehicle: Vehicle \" as E6 << << (P,limegreen) part>> [[psysml:783d7c15-c905-4c38-b30b-d01c61187577 ]] {\r\n",
       "}\r\n",
       "}\r\n",
       "}\r\n",
       "E5 ..> E4 [[psysml:8882fd51-4fce-4e08-923b-d836bd7610d5 ]] : <<import>>\r\n",
       "E6 - -:|> E4 [[psysml:db353f76-c455-46cb-b105-6bd8058807fe ]] \r\n",
       "@enduml\r\n",
       "\n",
       "PlantUML version 1.2020.13(Sat Jun 13 12:26:38 UTC 2020)\n",
       "(EPL source distribution)\n",
       "Java Runtime: OpenJDK Runtime Environment\n",
       "JVM: OpenJDK 64-Bit Server VM\n",
       "Default Encoding: UTF-8\n",
       "Language: en\n",
       "Country: null\n",
       "--></g></svg>"
      ]
     },
     "execution_count": 36,
     "metadata": {},
     "output_type": "execute_result"
    }
   ],
   "source": [
    "%viz --style=\"PLANTUML\" --view=\"MIXED\" \"AliasImport\""
   ]
  },
  {
   "cell_type": "code",
   "execution_count": 37,
   "id": "07d12f6d",
   "metadata": {
    "execution": {
     "iopub.execute_input": "2022-06-20T11:15:01.183933Z",
     "iopub.status.busy": "2022-06-20T11:15:01.183479Z",
     "iopub.status.idle": "2022-06-20T11:15:01.215447Z",
     "shell.execute_reply": "2022-06-20T11:15:01.214857Z"
    }
   },
   "outputs": [
    {
     "data": {
      "image/svg+xml": [
       "<?xml version=\"1.0\" encoding=\"UTF-8\" standalone=\"no\"?><svg xmlns=\"http://www.w3.org/2000/svg\" xmlns:xlink=\"http://www.w3.org/1999/xlink\" contentScriptType=\"application/ecmascript\" contentStyleType=\"text/css\" height=\"360px\" preserveAspectRatio=\"none\" style=\"width:293px;height:360px;\" version=\"1.1\" viewBox=\"0 0 293 360\" width=\"293px\" zoomAndPan=\"magnify\"><defs/><g><!--MD5=[fbc87193dbaf4d95561dea2c320d4a47]\n",
       "cluster E1--><a href=\"psysml:abc348a5-e8b0-46f2-97be-35eb1a9e9199\" target=\"_top\" title=\"psysml:abc348a5-e8b0-46f2-97be-35eb1a9e9199\" xlink:actuate=\"onRequest\" xlink:href=\"psysml:abc348a5-e8b0-46f2-97be-35eb1a9e9199\" xlink:show=\"new\" xlink:title=\"psysml:abc348a5-e8b0-46f2-97be-35eb1a9e9199\" xlink:type=\"simple\"><polygon fill=\"#FFFFFF\" points=\"16,6,97,6,104,28.2969,271,28.2969,271,348,16,348,16,6\" style=\"stroke: #000000; stroke-width: 1.5;\"/><line style=\"stroke: #000000; stroke-width: 1.5;\" x1=\"16\" x2=\"104\" y1=\"28.2969\" y2=\"28.2969\"/><text fill=\"#000000\" font-family=\"sans-serif\" font-size=\"14\" font-weight=\"bold\" lengthAdjust=\"spacingAndGlyphs\" textLength=\"75\" x=\"20\" y=\"20.9951\">AliasImport</text></a><!--MD5=[e4f7fae6ed58524ba242bb0b0d3be6b7]\n",
       "cluster E2--><a href=\"psysml:c5390b7c-a915-4e3b-b35e-1c2257f021d2\" target=\"_top\" title=\"psysml:c5390b7c-a915-4e3b-b35e-1c2257f021d2\" xlink:actuate=\"onRequest\" xlink:href=\"psysml:c5390b7c-a915-4e3b-b35e-1c2257f021d2\" xlink:show=\"new\" xlink:title=\"psysml:c5390b7c-a915-4e3b-b35e-1c2257f021d2\" xlink:type=\"simple\"><polygon fill=\"#FFFFFF\" points=\"40,227,119,227,126,249.2969,247,249.2969,247,324,40,324,40,227\" style=\"stroke: #000000; stroke-width: 1.5;\"/><line style=\"stroke: #000000; stroke-width: 1.5;\" x1=\"40\" x2=\"126\" y1=\"249.2969\" y2=\"249.2969\"/><text fill=\"#000000\" font-family=\"sans-serif\" font-size=\"14\" font-weight=\"bold\" lengthAdjust=\"spacingAndGlyphs\" textLength=\"73\" x=\"44\" y=\"241.9951\">Definitions</text></a><!--MD5=[de5ec2e2e8f62f467e546659f5068c88]\n",
       "cluster E5--><a href=\"psysml:ccb2f7ee-bd35-4426-a662-4cf2ccb8ae79\" target=\"_top\" title=\"psysml:ccb2f7ee-bd35-4426-a662-4cf2ccb8ae79\" xlink:actuate=\"onRequest\" xlink:href=\"psysml:ccb2f7ee-bd35-4426-a662-4cf2ccb8ae79\" xlink:show=\"new\" xlink:title=\"psysml:ccb2f7ee-bd35-4426-a662-4cf2ccb8ae79\" xlink:type=\"simple\"><polygon fill=\"#FFFFFF\" points=\"56,57,114,57,121,79.2969,229,79.2969,229,170,56,170,56,57\" style=\"stroke: #000000; stroke-width: 1.5;\"/><line style=\"stroke: #000000; stroke-width: 1.5;\" x1=\"56\" x2=\"121\" y1=\"79.2969\" y2=\"79.2969\"/><text fill=\"#000000\" font-family=\"sans-serif\" font-size=\"14\" font-weight=\"bold\" lengthAdjust=\"spacingAndGlyphs\" textLength=\"52\" x=\"60\" y=\"71.9951\">Usages</text></a><!--MD5=[09b614a08d8cba4a07c9adeb5e0fee81]\n",
       "class E3--><a href=\"psysml:659a1dfe-6b8d-4702-b827-b31a03710007\" target=\"_top\" title=\"psysml:659a1dfe-6b8d-4702-b827-b31a03710007\" xlink:actuate=\"onRequest\" xlink:href=\"psysml:659a1dfe-6b8d-4702-b827-b31a03710007\" xlink:show=\"new\" xlink:title=\"psysml:659a1dfe-6b8d-4702-b827-b31a03710007\" xlink:type=\"simple\"><rect fill=\"#FFFFFF\" height=\"45.9375\" id=\"E3\" style=\"stroke: #383838; stroke-width: 1.5;\" width=\"70\" x=\"161\" y=\"262\"/><text fill=\"#000000\" font-family=\"sans-serif\" font-size=\"12\" font-style=\"italic\" lengthAdjust=\"spacingAndGlyphs\" textLength=\"68\" x=\"162\" y=\"278.1387\">«part  def»</text><text fill=\"#000000\" font-family=\"sans-serif\" font-size=\"12\" lengthAdjust=\"spacingAndGlyphs\" textLength=\"45\" x=\"173.5\" y=\"292.1074\">Vehicle</text><line style=\"stroke: #383838; stroke-width: 1.5;\" x1=\"162\" x2=\"230\" y1=\"299.9375\" y2=\"299.9375\"/></a><!--MD5=[ebbe1d658d1005bcc118a6aa81145e00]\n",
       "class E4--><a href=\"psysml:659a1dfe-6b8d-4702-b827-b31a03710007\" target=\"_top\" title=\"psysml:659a1dfe-6b8d-4702-b827-b31a03710007\" xlink:actuate=\"onRequest\" xlink:href=\"psysml:659a1dfe-6b8d-4702-b827-b31a03710007\" xlink:show=\"new\" xlink:title=\"psysml:659a1dfe-6b8d-4702-b827-b31a03710007\" xlink:type=\"simple\"><rect fill=\"#FFFFFF\" height=\"45.9375\" id=\"E4\" style=\"stroke: #383838; stroke-width: 1.5;\" width=\"70\" x=\"56\" y=\"262\"/><text fill=\"#000000\" font-family=\"sans-serif\" font-size=\"12\" font-style=\"italic\" lengthAdjust=\"spacingAndGlyphs\" textLength=\"68\" x=\"57\" y=\"278.1387\">«part  def»</text><text fill=\"#000000\" font-family=\"sans-serif\" font-size=\"12\" lengthAdjust=\"spacingAndGlyphs\" textLength=\"45\" x=\"68.5\" y=\"292.1074\">Vehicle</text><line style=\"stroke: #383838; stroke-width: 1.5;\" x1=\"57\" x2=\"125\" y1=\"299.9375\" y2=\"299.9375\"/></a><!--MD5=[60a26617385b1d2d0262a64233df1f8d]\n",
       "class E6--><a href=\"psysml:783d7c15-c905-4c38-b30b-d01c61187577\" target=\"_top\" title=\"psysml:783d7c15-c905-4c38-b30b-d01c61187577\" xlink:actuate=\"onRequest\" xlink:href=\"psysml:783d7c15-c905-4c38-b30b-d01c61187577\" xlink:show=\"new\" xlink:title=\"psysml:783d7c15-c905-4c38-b30b-d01c61187577\" xlink:type=\"simple\"><rect fill=\"#FFFFFF\" height=\"45.9375\" id=\"E6\" rx=\"10\" ry=\"10\" style=\"stroke: #383838; stroke-width: 1.5;\" width=\"106\" x=\"99\" y=\"100\"/><text fill=\"#000000\" font-family=\"sans-serif\" font-size=\"12\" font-style=\"italic\" lengthAdjust=\"spacingAndGlyphs\" textLength=\"40\" x=\"132\" y=\"116.1387\">«part»</text><text fill=\"#000000\" font-family=\"sans-serif\" font-size=\"12\" lengthAdjust=\"spacingAndGlyphs\" textLength=\"96\" x=\"102\" y=\"130.1074\">vehicle: Vehicle</text><line style=\"stroke: #383838; stroke-width: 1.5;\" x1=\"100\" x2=\"204\" y1=\"137.9375\" y2=\"137.9375\"/></a><!--MD5=[1c62de2aa5b76f0fb657ff8443a1a700]\n",
       "link E5 to E4--><a href=\"psysml:8882fd51-4fce-4e08-923b-d836bd7610d5\" target=\"_top\" title=\"psysml:8882fd51-4fce-4e08-923b-d836bd7610d5\" xlink:actuate=\"onRequest\" xlink:href=\"psysml:8882fd51-4fce-4e08-923b-d836bd7610d5\" xlink:show=\"new\" xlink:title=\"psysml:8882fd51-4fce-4e08-923b-d836bd7610d5\" xlink:type=\"simple\"><path d=\"M66.8374,170.1716 C66.8505,170.3171 66.8637,170.4628 66.8769,170.6086 C66.9034,170.9002 66.9301,171.1924 66.957,171.485 C67.0647,172.6558 67.1761,173.8349 67.2913,175.0209 C67.5217,177.3929 67.7672,179.7921 68.0289,182.2055 C69.0756,191.8588 70.38,201.7375 72,211 C74.69,226.4 79,243.3 82.84,256.96 \" fill=\"none\" id=\"E5-&gt;E4\" style=\"stroke: #383838; stroke-width: 1.0; stroke-dasharray: 7.0,7.0;\"/><polygon fill=\"#383838\" points=\"84.23,261.84,85.6036,252.0874,82.8564,257.0324,77.9114,254.2852,84.23,261.84\" style=\"stroke: #383838; stroke-width: 1.0;\"/><text fill=\"#000000\" font-family=\"sans-serif\" font-size=\"13\" lengthAdjust=\"spacingAndGlyphs\" textLength=\"58\" x=\"73\" y=\"207.0669\">«import»</text></a><!--MD5=[f667431f98296947986a1a7595a31603]\n",
       "link E6 to E4--><a href=\"psysml:db353f76-c455-46cb-b105-6bd8058807fe\" target=\"_top\" title=\"psysml:db353f76-c455-46cb-b105-6bd8058807fe\" xlink:actuate=\"onRequest\" xlink:href=\"psysml:db353f76-c455-46cb-b105-6bd8058807fe\" xlink:show=\"new\" xlink:title=\"psysml:db353f76-c455-46cb-b105-6bd8058807fe\" xlink:type=\"simple\"><path d=\"M150.22,146.06 C148.23,164.02 144.16,189.79 136,211 C131.57,222.52 125.29,234.23 118.82,244.81 \" fill=\"none\" id=\"E6-&gt;E4\" style=\"stroke: #383838; stroke-width: 1.0;\"/><polygon fill=\"#FFFFFF\" points=\"107.7,261.8,112.2548,242.0705,123.9662,249.7414,107.7,261.8\" style=\"stroke: #383838; stroke-width: 1.0;\"/><ellipse cx=\"117.051\" cy=\"238.3981\" fill=\"#383838\" rx=\"2\" ry=\"2\" style=\"stroke: #383838; stroke-width: 1.0;\"/><ellipse cx=\"125.4163\" cy=\"243.8774\" fill=\"#383838\" rx=\"2\" ry=\"2\" style=\"stroke: #383838; stroke-width: 1.0;\"/></a><!--MD5=[9d04ccfecef070e55b63064cfbf4f98f]\n",
       "@startuml\r\n",
       "skinparam monochrome true\r\n",
       "skinparam classbackgroundcolor white\r\n",
       "skinparam shadowing false\r\n",
       "skinparam wrapWidth 300\r\n",
       "hide circle\r\n",
       "\r\n",
       "package \"AliasImport\" as E1  [[psysml:abc348a5-e8b0-46f2-97be-35eb1a9e9199 ]]  {\r\n",
       "package \"Definitions\" as E2  [[psysml:c5390b7c-a915-4e3b-b35e-1c2257f021d2 ]]  {\r\n",
       "comp def \"Vehicle\" as E3  <<(T,blue) part  def>> [[psysml:659a1dfe-6b8d-4702-b827-b31a03710007 ]] {\r\n",
       "}\r\n",
       "comp def \"Vehicle\" as E4  <<(T,blue) part  def>> [[psysml:659a1dfe-6b8d-4702-b827-b31a03710007 ]] {\r\n",
       "}\r\n",
       "}\r\n",
       "package \"Usages\" as E5  [[psysml:ccb2f7ee-bd35-4426-a662-4cf2ccb8ae79 ]]  {\r\n",
       "comp usage \"vehicle: Vehicle \" as E6  <<(T,blue) part>> [[psysml:783d7c15-c905-4c38-b30b-d01c61187577 ]] {\r\n",
       "}\r\n",
       "}\r\n",
       "}\r\n",
       "E5 ..> E4 [[psysml:8882fd51-4fce-4e08-923b-d836bd7610d5 ]] : <<import>>\r\n",
       "E6 - -:|> E4 [[psysml:db353f76-c455-46cb-b105-6bd8058807fe ]] \r\n",
       "@enduml\r\n",
       "\n",
       "PlantUML version 1.2020.13(Sat Jun 13 12:26:38 UTC 2020)\n",
       "(EPL source distribution)\n",
       "Java Runtime: OpenJDK Runtime Environment\n",
       "JVM: OpenJDK 64-Bit Server VM\n",
       "Default Encoding: UTF-8\n",
       "Language: en\n",
       "Country: null\n",
       "--></g></svg>"
      ]
     },
     "execution_count": 37,
     "metadata": {},
     "output_type": "execute_result"
    }
   ],
   "source": [
    "%viz --style=\"DEFAULT\" --view=\"Default\" \"AliasImport\""
   ]
  },
  {
   "cell_type": "code",
   "execution_count": 38,
   "id": "34fb4223",
   "metadata": {
    "execution": {
     "iopub.execute_input": "2022-06-20T11:15:01.264571Z",
     "iopub.status.busy": "2022-06-20T11:15:01.263933Z",
     "iopub.status.idle": "2022-06-20T11:15:01.295764Z",
     "shell.execute_reply": "2022-06-20T11:15:01.295186Z"
    }
   },
   "outputs": [
    {
     "data": {
      "image/svg+xml": [
       "<?xml version=\"1.0\" encoding=\"UTF-8\" standalone=\"no\"?><svg xmlns=\"http://www.w3.org/2000/svg\" xmlns:xlink=\"http://www.w3.org/1999/xlink\" contentScriptType=\"application/ecmascript\" contentStyleType=\"text/css\" height=\"360px\" preserveAspectRatio=\"none\" style=\"width:293px;height:360px;\" version=\"1.1\" viewBox=\"0 0 293 360\" width=\"293px\" zoomAndPan=\"magnify\"><defs/><g><!--MD5=[fbc87193dbaf4d95561dea2c320d4a47]\n",
       "cluster E1--><a href=\"psysml:abc348a5-e8b0-46f2-97be-35eb1a9e9199\" target=\"_top\" title=\"psysml:abc348a5-e8b0-46f2-97be-35eb1a9e9199\" xlink:actuate=\"onRequest\" xlink:href=\"psysml:abc348a5-e8b0-46f2-97be-35eb1a9e9199\" xlink:show=\"new\" xlink:title=\"psysml:abc348a5-e8b0-46f2-97be-35eb1a9e9199\" xlink:type=\"simple\"><polygon fill=\"#FFFFFF\" points=\"16,6,97,6,104,28.2969,271,28.2969,271,348,16,348,16,6\" style=\"stroke: #000000; stroke-width: 1.5;\"/><line style=\"stroke: #000000; stroke-width: 1.5;\" x1=\"16\" x2=\"104\" y1=\"28.2969\" y2=\"28.2969\"/><text fill=\"#000000\" font-family=\"sans-serif\" font-size=\"14\" font-weight=\"bold\" lengthAdjust=\"spacingAndGlyphs\" textLength=\"75\" x=\"20\" y=\"20.9951\">AliasImport</text></a><!--MD5=[e4f7fae6ed58524ba242bb0b0d3be6b7]\n",
       "cluster E2--><a href=\"psysml:c5390b7c-a915-4e3b-b35e-1c2257f021d2\" target=\"_top\" title=\"psysml:c5390b7c-a915-4e3b-b35e-1c2257f021d2\" xlink:actuate=\"onRequest\" xlink:href=\"psysml:c5390b7c-a915-4e3b-b35e-1c2257f021d2\" xlink:show=\"new\" xlink:title=\"psysml:c5390b7c-a915-4e3b-b35e-1c2257f021d2\" xlink:type=\"simple\"><polygon fill=\"#FFFFFF\" points=\"40,227,119,227,126,249.2969,247,249.2969,247,324,40,324,40,227\" style=\"stroke: #000000; stroke-width: 1.5;\"/><line style=\"stroke: #000000; stroke-width: 1.5;\" x1=\"40\" x2=\"126\" y1=\"249.2969\" y2=\"249.2969\"/><text fill=\"#000000\" font-family=\"sans-serif\" font-size=\"14\" font-weight=\"bold\" lengthAdjust=\"spacingAndGlyphs\" textLength=\"73\" x=\"44\" y=\"241.9951\">Definitions</text></a><!--MD5=[de5ec2e2e8f62f467e546659f5068c88]\n",
       "cluster E5--><a href=\"psysml:ccb2f7ee-bd35-4426-a662-4cf2ccb8ae79\" target=\"_top\" title=\"psysml:ccb2f7ee-bd35-4426-a662-4cf2ccb8ae79\" xlink:actuate=\"onRequest\" xlink:href=\"psysml:ccb2f7ee-bd35-4426-a662-4cf2ccb8ae79\" xlink:show=\"new\" xlink:title=\"psysml:ccb2f7ee-bd35-4426-a662-4cf2ccb8ae79\" xlink:type=\"simple\"><polygon fill=\"#FFFFFF\" points=\"56,57,114,57,121,79.2969,229,79.2969,229,170,56,170,56,57\" style=\"stroke: #000000; stroke-width: 1.5;\"/><line style=\"stroke: #000000; stroke-width: 1.5;\" x1=\"56\" x2=\"121\" y1=\"79.2969\" y2=\"79.2969\"/><text fill=\"#000000\" font-family=\"sans-serif\" font-size=\"14\" font-weight=\"bold\" lengthAdjust=\"spacingAndGlyphs\" textLength=\"52\" x=\"60\" y=\"71.9951\">Usages</text></a><!--MD5=[09b614a08d8cba4a07c9adeb5e0fee81]\n",
       "class E3--><a href=\"psysml:659a1dfe-6b8d-4702-b827-b31a03710007\" target=\"_top\" title=\"psysml:659a1dfe-6b8d-4702-b827-b31a03710007\" xlink:actuate=\"onRequest\" xlink:href=\"psysml:659a1dfe-6b8d-4702-b827-b31a03710007\" xlink:show=\"new\" xlink:title=\"psysml:659a1dfe-6b8d-4702-b827-b31a03710007\" xlink:type=\"simple\"><rect fill=\"#FFFFFF\" height=\"45.9375\" id=\"E3\" style=\"stroke: #383838; stroke-width: 1.5;\" width=\"70\" x=\"161\" y=\"262\"/><text fill=\"#000000\" font-family=\"sans-serif\" font-size=\"12\" font-style=\"italic\" lengthAdjust=\"spacingAndGlyphs\" textLength=\"68\" x=\"162\" y=\"278.1387\">«part  def»</text><text fill=\"#000000\" font-family=\"sans-serif\" font-size=\"12\" lengthAdjust=\"spacingAndGlyphs\" textLength=\"45\" x=\"173.5\" y=\"292.1074\">Vehicle</text><line style=\"stroke: #383838; stroke-width: 1.5;\" x1=\"162\" x2=\"230\" y1=\"299.9375\" y2=\"299.9375\"/></a><!--MD5=[ebbe1d658d1005bcc118a6aa81145e00]\n",
       "class E4--><a href=\"psysml:659a1dfe-6b8d-4702-b827-b31a03710007\" target=\"_top\" title=\"psysml:659a1dfe-6b8d-4702-b827-b31a03710007\" xlink:actuate=\"onRequest\" xlink:href=\"psysml:659a1dfe-6b8d-4702-b827-b31a03710007\" xlink:show=\"new\" xlink:title=\"psysml:659a1dfe-6b8d-4702-b827-b31a03710007\" xlink:type=\"simple\"><rect fill=\"#FFFFFF\" height=\"45.9375\" id=\"E4\" style=\"stroke: #383838; stroke-width: 1.5;\" width=\"70\" x=\"56\" y=\"262\"/><text fill=\"#000000\" font-family=\"sans-serif\" font-size=\"12\" font-style=\"italic\" lengthAdjust=\"spacingAndGlyphs\" textLength=\"68\" x=\"57\" y=\"278.1387\">«part  def»</text><text fill=\"#000000\" font-family=\"sans-serif\" font-size=\"12\" lengthAdjust=\"spacingAndGlyphs\" textLength=\"45\" x=\"68.5\" y=\"292.1074\">Vehicle</text><line style=\"stroke: #383838; stroke-width: 1.5;\" x1=\"57\" x2=\"125\" y1=\"299.9375\" y2=\"299.9375\"/></a><!--MD5=[60a26617385b1d2d0262a64233df1f8d]\n",
       "class E6--><a href=\"psysml:783d7c15-c905-4c38-b30b-d01c61187577\" target=\"_top\" title=\"psysml:783d7c15-c905-4c38-b30b-d01c61187577\" xlink:actuate=\"onRequest\" xlink:href=\"psysml:783d7c15-c905-4c38-b30b-d01c61187577\" xlink:show=\"new\" xlink:title=\"psysml:783d7c15-c905-4c38-b30b-d01c61187577\" xlink:type=\"simple\"><rect fill=\"#FFFFFF\" height=\"45.9375\" id=\"E6\" rx=\"10\" ry=\"10\" style=\"stroke: #383838; stroke-width: 1.5;\" width=\"106\" x=\"99\" y=\"100\"/><text fill=\"#000000\" font-family=\"sans-serif\" font-size=\"12\" font-style=\"italic\" lengthAdjust=\"spacingAndGlyphs\" textLength=\"40\" x=\"132\" y=\"116.1387\">«part»</text><text fill=\"#000000\" font-family=\"sans-serif\" font-size=\"12\" lengthAdjust=\"spacingAndGlyphs\" textLength=\"96\" x=\"102\" y=\"130.1074\">vehicle: Vehicle</text><line style=\"stroke: #383838; stroke-width: 1.5;\" x1=\"100\" x2=\"204\" y1=\"137.9375\" y2=\"137.9375\"/></a><!--MD5=[1c62de2aa5b76f0fb657ff8443a1a700]\n",
       "link E5 to E4--><a href=\"psysml:8882fd51-4fce-4e08-923b-d836bd7610d5\" target=\"_top\" title=\"psysml:8882fd51-4fce-4e08-923b-d836bd7610d5\" xlink:actuate=\"onRequest\" xlink:href=\"psysml:8882fd51-4fce-4e08-923b-d836bd7610d5\" xlink:show=\"new\" xlink:title=\"psysml:8882fd51-4fce-4e08-923b-d836bd7610d5\" xlink:type=\"simple\"><path d=\"M66.8374,170.1716 C66.8505,170.3171 66.8637,170.4628 66.8769,170.6086 C66.9034,170.9002 66.9301,171.1924 66.957,171.485 C67.0647,172.6558 67.1761,173.8349 67.2913,175.0209 C67.5217,177.3929 67.7672,179.7921 68.0289,182.2055 C69.0756,191.8588 70.38,201.7375 72,211 C74.69,226.4 79,243.3 82.84,256.96 \" fill=\"none\" id=\"E5-&gt;E4\" style=\"stroke: #383838; stroke-width: 1.0; stroke-dasharray: 7.0,7.0;\"/><polygon fill=\"#383838\" points=\"84.23,261.84,85.6036,252.0874,82.8564,257.0324,77.9114,254.2852,84.23,261.84\" style=\"stroke: #383838; stroke-width: 1.0;\"/><text fill=\"#000000\" font-family=\"sans-serif\" font-size=\"13\" lengthAdjust=\"spacingAndGlyphs\" textLength=\"58\" x=\"73\" y=\"207.0669\">«import»</text></a><!--MD5=[f667431f98296947986a1a7595a31603]\n",
       "link E6 to E4--><a href=\"psysml:db353f76-c455-46cb-b105-6bd8058807fe\" target=\"_top\" title=\"psysml:db353f76-c455-46cb-b105-6bd8058807fe\" xlink:actuate=\"onRequest\" xlink:href=\"psysml:db353f76-c455-46cb-b105-6bd8058807fe\" xlink:show=\"new\" xlink:title=\"psysml:db353f76-c455-46cb-b105-6bd8058807fe\" xlink:type=\"simple\"><path d=\"M150.22,146.06 C148.23,164.02 144.16,189.79 136,211 C131.57,222.52 125.29,234.23 118.82,244.81 \" fill=\"none\" id=\"E6-&gt;E4\" style=\"stroke: #383838; stroke-width: 1.0;\"/><polygon fill=\"#FFFFFF\" points=\"107.7,261.8,112.2548,242.0705,123.9662,249.7414,107.7,261.8\" style=\"stroke: #383838; stroke-width: 1.0;\"/><ellipse cx=\"117.051\" cy=\"238.3981\" fill=\"#383838\" rx=\"2\" ry=\"2\" style=\"stroke: #383838; stroke-width: 1.0;\"/><ellipse cx=\"125.4163\" cy=\"243.8774\" fill=\"#383838\" rx=\"2\" ry=\"2\" style=\"stroke: #383838; stroke-width: 1.0;\"/></a><!--MD5=[9d04ccfecef070e55b63064cfbf4f98f]\n",
       "@startuml\r\n",
       "skinparam monochrome true\r\n",
       "skinparam classbackgroundcolor white\r\n",
       "skinparam shadowing false\r\n",
       "skinparam wrapWidth 300\r\n",
       "hide circle\r\n",
       "\r\n",
       "package \"AliasImport\" as E1  [[psysml:abc348a5-e8b0-46f2-97be-35eb1a9e9199 ]]  {\r\n",
       "package \"Definitions\" as E2  [[psysml:c5390b7c-a915-4e3b-b35e-1c2257f021d2 ]]  {\r\n",
       "comp def \"Vehicle\" as E3  <<(T,blue) part  def>> [[psysml:659a1dfe-6b8d-4702-b827-b31a03710007 ]] {\r\n",
       "}\r\n",
       "comp def \"Vehicle\" as E4  <<(T,blue) part  def>> [[psysml:659a1dfe-6b8d-4702-b827-b31a03710007 ]] {\r\n",
       "}\r\n",
       "}\r\n",
       "package \"Usages\" as E5  [[psysml:ccb2f7ee-bd35-4426-a662-4cf2ccb8ae79 ]]  {\r\n",
       "comp usage \"vehicle: Vehicle \" as E6  <<(T,blue) part>> [[psysml:783d7c15-c905-4c38-b30b-d01c61187577 ]] {\r\n",
       "}\r\n",
       "}\r\n",
       "}\r\n",
       "E5 ..> E4 [[psysml:8882fd51-4fce-4e08-923b-d836bd7610d5 ]] : <<import>>\r\n",
       "E6 - -:|> E4 [[psysml:db353f76-c455-46cb-b105-6bd8058807fe ]] \r\n",
       "@enduml\r\n",
       "\n",
       "PlantUML version 1.2020.13(Sat Jun 13 12:26:38 UTC 2020)\n",
       "(EPL source distribution)\n",
       "Java Runtime: OpenJDK Runtime Environment\n",
       "JVM: OpenJDK 64-Bit Server VM\n",
       "Default Encoding: UTF-8\n",
       "Language: en\n",
       "Country: null\n",
       "--></g></svg>"
      ]
     },
     "execution_count": 38,
     "metadata": {},
     "output_type": "execute_result"
    }
   ],
   "source": [
    "%viz --style=\"DEFAULT\" --view=\"Tree\" \"AliasImport\""
   ]
  },
  {
   "cell_type": "code",
   "execution_count": 39,
   "id": "84fbd96f",
   "metadata": {
    "execution": {
     "iopub.execute_input": "2022-06-20T11:15:01.345004Z",
     "iopub.status.busy": "2022-06-20T11:15:01.344495Z",
     "iopub.status.idle": "2022-06-20T11:15:01.349883Z",
     "shell.execute_reply": "2022-06-20T11:15:01.349441Z"
    }
   },
   "outputs": [
    {
     "data": {
      "image/svg+xml": [
       "<?xml version=\"1.0\" encoding=\"UTF-8\" standalone=\"no\"?><svg xmlns=\"http://www.w3.org/2000/svg\" xmlns:xlink=\"http://www.w3.org/1999/xlink\" contentScriptType=\"application/ecmascript\" contentStyleType=\"text/css\" height=\"12px\" preserveAspectRatio=\"none\" style=\"width:12px;height:12px;\" version=\"1.1\" viewBox=\"0 0 12 12\" width=\"12px\" zoomAndPan=\"magnify\"><defs/><g><!--MD5=[c5f280e076d0d61ccf4b0f27871bda1d]\n",
       "@startuml\r\n",
       "skinparam monochrome true\r\n",
       "skinparam classbackgroundcolor white\r\n",
       "skinparam shadowing false\r\n",
       "skinparam wrapWidth 300\r\n",
       "hide circle\r\n",
       "\r\n",
       "@enduml\r\n",
       "\n",
       "PlantUML version 1.2020.13(Sat Jun 13 12:26:38 UTC 2020)\n",
       "(EPL source distribution)\n",
       "Java Runtime: OpenJDK Runtime Environment\n",
       "JVM: OpenJDK 64-Bit Server VM\n",
       "Default Encoding: UTF-8\n",
       "Language: en\n",
       "Country: null\n",
       "--></g></svg>"
      ]
     },
     "execution_count": 39,
     "metadata": {},
     "output_type": "execute_result"
    }
   ],
   "source": [
    "%viz --style=\"DEFAULT\" --view=\"State\" \"AliasImport\""
   ]
  },
  {
   "cell_type": "code",
   "execution_count": 40,
   "id": "184da296",
   "metadata": {
    "execution": {
     "iopub.execute_input": "2022-06-20T11:15:01.399863Z",
     "iopub.status.busy": "2022-06-20T11:15:01.399388Z",
     "iopub.status.idle": "2022-06-20T11:15:01.432552Z",
     "shell.execute_reply": "2022-06-20T11:15:01.432069Z"
    }
   },
   "outputs": [
    {
     "data": {
      "image/svg+xml": [
       "<?xml version=\"1.0\" encoding=\"UTF-8\" standalone=\"no\"?><svg xmlns=\"http://www.w3.org/2000/svg\" xmlns:xlink=\"http://www.w3.org/1999/xlink\" contentScriptType=\"application/ecmascript\" contentStyleType=\"text/css\" height=\"351px\" preserveAspectRatio=\"none\" style=\"width:302px;height:351px;\" version=\"1.1\" viewBox=\"0 0 302 351\" width=\"302px\" zoomAndPan=\"magnify\"><defs/><g><!--MD5=[fbc87193dbaf4d95561dea2c320d4a47]\n",
       "cluster E1--><a href=\"psysml:abc348a5-e8b0-46f2-97be-35eb1a9e9199\" target=\"_top\" title=\"psysml:abc348a5-e8b0-46f2-97be-35eb1a9e9199\" xlink:actuate=\"onRequest\" xlink:href=\"psysml:abc348a5-e8b0-46f2-97be-35eb1a9e9199\" xlink:show=\"new\" xlink:title=\"psysml:abc348a5-e8b0-46f2-97be-35eb1a9e9199\" xlink:type=\"simple\"><polygon fill=\"#FFFFFF\" points=\"16,6,97,6,104,28.2969,280,28.2969,280,339,16,339,16,6\" style=\"stroke: #000000; stroke-width: 1.5;\"/><line style=\"stroke: #000000; stroke-width: 1.5;\" x1=\"16\" x2=\"104\" y1=\"28.2969\" y2=\"28.2969\"/><text fill=\"#000000\" font-family=\"sans-serif\" font-size=\"14\" font-weight=\"bold\" lengthAdjust=\"spacingAndGlyphs\" textLength=\"75\" x=\"20\" y=\"20.9951\">AliasImport</text></a><!--MD5=[e4f7fae6ed58524ba242bb0b0d3be6b7]\n",
       "cluster E2--><a href=\"psysml:c5390b7c-a915-4e3b-b35e-1c2257f021d2\" target=\"_top\" title=\"psysml:c5390b7c-a915-4e3b-b35e-1c2257f021d2\" xlink:actuate=\"onRequest\" xlink:href=\"psysml:c5390b7c-a915-4e3b-b35e-1c2257f021d2\" xlink:show=\"new\" xlink:title=\"psysml:c5390b7c-a915-4e3b-b35e-1c2257f021d2\" xlink:type=\"simple\"><polygon fill=\"#FFFFFF\" points=\"40,221,119,221,126,243.2969,256,243.2969,256,315,40,315,40,221\" style=\"stroke: #000000; stroke-width: 1.5;\"/><line style=\"stroke: #000000; stroke-width: 1.5;\" x1=\"40\" x2=\"126\" y1=\"243.2969\" y2=\"243.2969\"/><text fill=\"#000000\" font-family=\"sans-serif\" font-size=\"14\" font-weight=\"bold\" lengthAdjust=\"spacingAndGlyphs\" textLength=\"73\" x=\"44\" y=\"235.9951\">Definitions</text></a><!--MD5=[de5ec2e2e8f62f467e546659f5068c88]\n",
       "cluster E5--><a href=\"psysml:ccb2f7ee-bd35-4426-a662-4cf2ccb8ae79\" target=\"_top\" title=\"psysml:ccb2f7ee-bd35-4426-a662-4cf2ccb8ae79\" xlink:actuate=\"onRequest\" xlink:href=\"psysml:ccb2f7ee-bd35-4426-a662-4cf2ccb8ae79\" xlink:show=\"new\" xlink:title=\"psysml:ccb2f7ee-bd35-4426-a662-4cf2ccb8ae79\" xlink:type=\"simple\"><polygon fill=\"#FFFFFF\" points=\"56,57,114,57,121,79.2969,230,79.2969,230,164,56,164,56,57\" style=\"stroke: #000000; stroke-width: 1.5;\"/><line style=\"stroke: #000000; stroke-width: 1.5;\" x1=\"56\" x2=\"121\" y1=\"79.2969\" y2=\"79.2969\"/><text fill=\"#000000\" font-family=\"sans-serif\" font-size=\"14\" font-weight=\"bold\" lengthAdjust=\"spacingAndGlyphs\" textLength=\"52\" x=\"60\" y=\"71.9951\">Usages</text></a><g id=\"E1.E2.E3\"><a href=\"psysml:659a1dfe-6b8d-4702-b827-b31a03710007\" target=\"_top\" title=\"psysml:659a1dfe-6b8d-4702-b827-b31a03710007\" xlink:actuate=\"onRequest\" xlink:href=\"psysml:659a1dfe-6b8d-4702-b827-b31a03710007\" xlink:show=\"new\" xlink:title=\"psysml:659a1dfe-6b8d-4702-b827-b31a03710007\" xlink:type=\"simple\"><rect fill=\"#FFFFFF\" height=\"42.9375\" id=\"E3\" style=\"stroke: #383838; stroke-width: 1.5;\" width=\"75\" x=\"165.5\" y=\"256\"/><rect fill=\"#F8F8F8\" height=\"37.9375\" style=\"stroke: #383838; stroke-width: 1.5;\" width=\"75\" x=\"165.5\" y=\"256\"/><text fill=\"#000000\" font-family=\"sans-serif\" font-size=\"12\" font-style=\"italic\" lengthAdjust=\"spacingAndGlyphs\" textLength=\"68\" x=\"169\" y=\"272.1387\">«part  def»</text><text fill=\"#000000\" font-family=\"sans-serif\" font-size=\"12\" lengthAdjust=\"spacingAndGlyphs\" textLength=\"45\" x=\"180.5\" y=\"286.1074\">Vehicle</text></a></g><g id=\"E1.E2.E4\"><a href=\"psysml:659a1dfe-6b8d-4702-b827-b31a03710007\" target=\"_top\" title=\"psysml:659a1dfe-6b8d-4702-b827-b31a03710007\" xlink:actuate=\"onRequest\" xlink:href=\"psysml:659a1dfe-6b8d-4702-b827-b31a03710007\" xlink:show=\"new\" xlink:title=\"psysml:659a1dfe-6b8d-4702-b827-b31a03710007\" xlink:type=\"simple\"><rect fill=\"#FFFFFF\" height=\"42.9375\" id=\"E4\" style=\"stroke: #383838; stroke-width: 1.5;\" width=\"75\" x=\"55.5\" y=\"256\"/><rect fill=\"#F8F8F8\" height=\"37.9375\" style=\"stroke: #383838; stroke-width: 1.5;\" width=\"75\" x=\"55.5\" y=\"256\"/><text fill=\"#000000\" font-family=\"sans-serif\" font-size=\"12\" font-style=\"italic\" lengthAdjust=\"spacingAndGlyphs\" textLength=\"68\" x=\"59\" y=\"272.1387\">«part  def»</text><text fill=\"#000000\" font-family=\"sans-serif\" font-size=\"12\" lengthAdjust=\"spacingAndGlyphs\" textLength=\"45\" x=\"70.5\" y=\"286.1074\">Vehicle</text></a></g><g id=\"E1.E5.E6\"><a href=\"psysml:783d7c15-c905-4c38-b30b-d01c61187577\" target=\"_top\" title=\"psysml:783d7c15-c905-4c38-b30b-d01c61187577\" xlink:actuate=\"onRequest\" xlink:href=\"psysml:783d7c15-c905-4c38-b30b-d01c61187577\" xlink:show=\"new\" xlink:title=\"psysml:783d7c15-c905-4c38-b30b-d01c61187577\" xlink:type=\"simple\"><rect fill=\"#FFFFFF\" height=\"40\" id=\"E6\" rx=\"10\" ry=\"10\" style=\"stroke: #383838; stroke-width: 1.5;\" width=\"107\" x=\"99.5\" y=\"100\"/><rect fill=\"#F8F8F8\" height=\"23.9688\" rx=\"10\" ry=\"10\" style=\"stroke: #F8F8F8; stroke-width: 1.5;\" width=\"107\" x=\"99.5\" y=\"100\"/><rect fill=\"#F8F8F8\" height=\"10\" style=\"stroke: #F8F8F8; stroke-width: 1.5;\" width=\"107\" x=\"99.5\" y=\"113.9688\"/><rect fill=\"none\" height=\"40\" id=\"E6\" rx=\"10\" ry=\"10\" style=\"stroke: #383838; stroke-width: 1.5;\" width=\"107\" x=\"99.5\" y=\"100\"/><text fill=\"#000000\" font-family=\"sans-serif\" font-size=\"12\" lengthAdjust=\"spacingAndGlyphs\" textLength=\"96\" x=\"105\" y=\"116.1387\">vehicle: Vehicle</text></a></g><!--MD5=[1c62de2aa5b76f0fb657ff8443a1a700]\n",
       "link E5 to E4--><a href=\"psysml:8882fd51-4fce-4e08-923b-d836bd7610d5\" target=\"_top\" title=\"psysml:8882fd51-4fce-4e08-923b-d836bd7610d5\" xlink:actuate=\"onRequest\" xlink:href=\"psysml:8882fd51-4fce-4e08-923b-d836bd7610d5\" xlink:show=\"new\" xlink:title=\"psysml:8882fd51-4fce-4e08-923b-d836bd7610d5\" xlink:type=\"simple\"><path d=\"M67.2559,164.3434 C67.2848,164.6227 67.314,164.9026 67.3433,165.183 C67.4021,165.7439 67.4617,166.3071 67.5224,166.8722 C67.6436,168.0025 67.7685,169.141 67.8973,170.2859 C68.1549,172.5759 68.4278,174.8919 68.7167,177.2213 C69.8725,186.5388 71.285,196.07 73,205 C75.97,220.45 80.65,237.41 84.74,250.94 \" fill=\"none\" id=\"E5-&gt;E4\" style=\"stroke: #383838; stroke-width: 1.0; stroke-dasharray: 7.0,7.0;\"/><polygon fill=\"#383838\" points=\"86.21,255.76,87.3802,245.9809,84.7366,250.982,79.7354,248.3384,86.21,255.76\" style=\"stroke: #383838; stroke-width: 1.0;\"/><text fill=\"#000000\" font-family=\"sans-serif\" font-size=\"13\" lengthAdjust=\"spacingAndGlyphs\" textLength=\"58\" x=\"74\" y=\"201.0669\">«import»</text></a><!--MD5=[f667431f98296947986a1a7595a31603]\n",
       "link E6 to E4--><a href=\"psysml:db353f76-c455-46cb-b105-6bd8058807fe\" target=\"_top\" title=\"psysml:db353f76-c455-46cb-b105-6bd8058807fe\" xlink:actuate=\"onRequest\" xlink:href=\"psysml:db353f76-c455-46cb-b105-6bd8058807fe\" xlink:show=\"new\" xlink:title=\"psysml:db353f76-c455-46cb-b105-6bd8058807fe\" xlink:type=\"simple\"><path d=\"M151.34,140.23 C149.38,157.62 145.27,183.68 137,205 C132.5,216.61 126.1,228.43 119.57,239.03 \" fill=\"none\" id=\"E6-&gt;E4\" style=\"stroke: #383838; stroke-width: 1.0;\"/><polygon fill=\"#FFFFFF\" points=\"108.43,255.98,113.0161,236.2577,124.7153,243.9472,108.43,255.98\" style=\"stroke: #383838; stroke-width: 1.0;\"/><ellipse cx=\"117.8182\" cy=\"232.593\" fill=\"#383838\" rx=\"2\" ry=\"2\" style=\"stroke: #383838; stroke-width: 1.0;\"/><ellipse cx=\"126.1747\" cy=\"238.0855\" fill=\"#383838\" rx=\"2\" ry=\"2\" style=\"stroke: #383838; stroke-width: 1.0;\"/></a><!--MD5=[9a65abeca1a5aaac4562cf75f7d8b7b4]\n",
       "@startuml\r\n",
       "skinparam ranksep 10\r\n",
       "skinparam rectangle {\r\n",
       " backgroundColor<<block>> LightGreen\r\n",
       "}\r\n",
       "skinparam monochrome true\r\n",
       "skinparam classbackgroundcolor white\r\n",
       "skinparam shadowing false\r\n",
       "skinparam wrapWidth 300\r\n",
       "hide circle\r\n",
       "\r\n",
       "package \"AliasImport\" as E1  [[psysml:abc348a5-e8b0-46f2-97be-35eb1a9e9199 ]]  {\r\n",
       "package \"Definitions\" as E2  [[psysml:c5390b7c-a915-4e3b-b35e-1c2257f021d2 ]]  {\r\n",
       "rec def \"Vehicle\" as E3  <<(T,blue) part  def>> [[psysml:659a1dfe-6b8d-4702-b827-b31a03710007 ]] {\r\n",
       "}\r\n",
       "rec def \"Vehicle\" as E4  <<(T,blue) part  def>> [[psysml:659a1dfe-6b8d-4702-b827-b31a03710007 ]] {\r\n",
       "}\r\n",
       "}\r\n",
       "package \"Usages\" as E5  [[psysml:ccb2f7ee-bd35-4426-a662-4cf2ccb8ae79 ]]  {\r\n",
       "rec usage \"vehicle: Vehicle\" as E6  [[psysml:783d7c15-c905-4c38-b30b-d01c61187577 ]] {\r\n",
       "}\r\n",
       "}\r\n",
       "}\r\n",
       "E5 ..> E4 [[psysml:8882fd51-4fce-4e08-923b-d836bd7610d5 ]] : <<import>>\r\n",
       "E6 - -:|> E4 [[psysml:db353f76-c455-46cb-b105-6bd8058807fe ]] \r\n",
       "@enduml\r\n",
       "\n",
       "PlantUML version 1.2020.13(Sat Jun 13 12:26:38 UTC 2020)\n",
       "(EPL source distribution)\n",
       "Java Runtime: OpenJDK Runtime Environment\n",
       "JVM: OpenJDK 64-Bit Server VM\n",
       "Default Encoding: UTF-8\n",
       "Language: en\n",
       "Country: null\n",
       "--></g></svg>"
      ]
     },
     "execution_count": 40,
     "metadata": {},
     "output_type": "execute_result"
    }
   ],
   "source": [
    "%viz --style=\"DEFAULT\" --view=\"Interconnection\" \"AliasImport\""
   ]
  },
  {
   "cell_type": "code",
   "execution_count": 41,
   "id": "5d1b3b28",
   "metadata": {
    "execution": {
     "iopub.execute_input": "2022-06-20T11:15:01.481188Z",
     "iopub.status.busy": "2022-06-20T11:15:01.480711Z",
     "iopub.status.idle": "2022-06-20T11:15:01.486094Z",
     "shell.execute_reply": "2022-06-20T11:15:01.485701Z"
    }
   },
   "outputs": [
    {
     "data": {
      "image/svg+xml": [
       "<?xml version=\"1.0\" encoding=\"UTF-8\" standalone=\"no\"?><svg xmlns=\"http://www.w3.org/2000/svg\" xmlns:xlink=\"http://www.w3.org/1999/xlink\" contentScriptType=\"application/ecmascript\" contentStyleType=\"text/css\" height=\"12px\" preserveAspectRatio=\"none\" style=\"width:12px;height:12px;\" version=\"1.1\" viewBox=\"0 0 12 12\" width=\"12px\" zoomAndPan=\"magnify\"><defs/><g><!--MD5=[388f21188e31bfdd97050473b19af356]\n",
       "@startuml\r\n",
       "skinparam ranksep 8\r\n",
       "skinparam monochrome true\r\n",
       "skinparam classbackgroundcolor white\r\n",
       "skinparam shadowing false\r\n",
       "skinparam wrapWidth 300\r\n",
       "hide circle\r\n",
       "\r\n",
       "@enduml\r\n",
       "\n",
       "PlantUML version 1.2020.13(Sat Jun 13 12:26:38 UTC 2020)\n",
       "(EPL source distribution)\n",
       "Java Runtime: OpenJDK Runtime Environment\n",
       "JVM: OpenJDK 64-Bit Server VM\n",
       "Default Encoding: UTF-8\n",
       "Language: en\n",
       "Country: null\n",
       "--></g></svg>"
      ]
     },
     "execution_count": 41,
     "metadata": {},
     "output_type": "execute_result"
    }
   ],
   "source": [
    "%viz --style=\"DEFAULT\" --view=\"Action\" \"AliasImport\""
   ]
  },
  {
   "cell_type": "code",
   "execution_count": 42,
   "id": "6d005965",
   "metadata": {
    "execution": {
     "iopub.execute_input": "2022-06-20T11:15:01.536188Z",
     "iopub.status.busy": "2022-06-20T11:15:01.535725Z",
     "iopub.status.idle": "2022-06-20T11:15:01.541282Z",
     "shell.execute_reply": "2022-06-20T11:15:01.541606Z"
    }
   },
   "outputs": [
    {
     "data": {
      "image/svg+xml": [
       "<?xml version=\"1.0\" encoding=\"UTF-8\" standalone=\"no\"?><svg xmlns=\"http://www.w3.org/2000/svg\" xmlns:xlink=\"http://www.w3.org/1999/xlink\" contentScriptType=\"application/ecmascript\" contentStyleType=\"text/css\" height=\"12px\" preserveAspectRatio=\"none\" style=\"width:12px;height:12px;\" version=\"1.1\" viewBox=\"0 0 12 12\" width=\"12px\" zoomAndPan=\"magnify\"><defs/><g><!--MD5=[0b72472770326784bf6c2b53246e1e64]\n",
       "@startuml\r\n",
       "skinparam roundcorner 20\r\n",
       "skinparam BoxPadding 20\r\n",
       "skinparam SequenceBoxBackgroundColor #white\r\n",
       "skinparam style strictuml\r\n",
       "skinparam maxMessageSize 100\r\n",
       "skinparam monochrome true\r\n",
       "skinparam classbackgroundcolor white\r\n",
       "skinparam shadowing false\r\n",
       "skinparam wrapWidth 300\r\n",
       "hide circle\r\n",
       "\r\n",
       "@enduml\r\n",
       "\n",
       "PlantUML version 1.2020.13(Sat Jun 13 12:26:38 UTC 2020)\n",
       "(EPL source distribution)\n",
       "Java Runtime: OpenJDK Runtime Environment\n",
       "JVM: OpenJDK 64-Bit Server VM\n",
       "Default Encoding: UTF-8\n",
       "Language: en\n",
       "Country: null\n",
       "--></g></svg>"
      ]
     },
     "execution_count": 42,
     "metadata": {},
     "output_type": "execute_result"
    }
   ],
   "source": [
    "%viz --style=\"DEFAULT\" --view=\"Sequence\" \"AliasImport\""
   ]
  },
  {
   "cell_type": "code",
   "execution_count": 43,
   "id": "73cbf734",
   "metadata": {
    "execution": {
     "iopub.execute_input": "2022-06-20T11:15:01.591650Z",
     "iopub.status.busy": "2022-06-20T11:15:01.591187Z",
     "iopub.status.idle": "2022-06-20T11:15:01.622230Z",
     "shell.execute_reply": "2022-06-20T11:15:01.621758Z"
    }
   },
   "outputs": [
    {
     "data": {
      "image/svg+xml": [
       "<?xml version=\"1.0\" encoding=\"UTF-8\" standalone=\"no\"?><svg xmlns=\"http://www.w3.org/2000/svg\" xmlns:xlink=\"http://www.w3.org/1999/xlink\" contentScriptType=\"application/ecmascript\" contentStyleType=\"text/css\" height=\"360px\" preserveAspectRatio=\"none\" style=\"width:293px;height:360px;\" version=\"1.1\" viewBox=\"0 0 293 360\" width=\"293px\" zoomAndPan=\"magnify\"><defs/><g><!--MD5=[fbc87193dbaf4d95561dea2c320d4a47]\n",
       "cluster E1--><a href=\"psysml:abc348a5-e8b0-46f2-97be-35eb1a9e9199\" target=\"_top\" title=\"psysml:abc348a5-e8b0-46f2-97be-35eb1a9e9199\" xlink:actuate=\"onRequest\" xlink:href=\"psysml:abc348a5-e8b0-46f2-97be-35eb1a9e9199\" xlink:show=\"new\" xlink:title=\"psysml:abc348a5-e8b0-46f2-97be-35eb1a9e9199\" xlink:type=\"simple\"><polygon fill=\"#FFFFFF\" points=\"16,6,97,6,104,28.2969,271,28.2969,271,348,16,348,16,6\" style=\"stroke: #000000; stroke-width: 1.5;\"/><line style=\"stroke: #000000; stroke-width: 1.5;\" x1=\"16\" x2=\"104\" y1=\"28.2969\" y2=\"28.2969\"/><text fill=\"#000000\" font-family=\"sans-serif\" font-size=\"14\" font-weight=\"bold\" lengthAdjust=\"spacingAndGlyphs\" textLength=\"75\" x=\"20\" y=\"20.9951\">AliasImport</text></a><!--MD5=[e4f7fae6ed58524ba242bb0b0d3be6b7]\n",
       "cluster E2--><a href=\"psysml:c5390b7c-a915-4e3b-b35e-1c2257f021d2\" target=\"_top\" title=\"psysml:c5390b7c-a915-4e3b-b35e-1c2257f021d2\" xlink:actuate=\"onRequest\" xlink:href=\"psysml:c5390b7c-a915-4e3b-b35e-1c2257f021d2\" xlink:show=\"new\" xlink:title=\"psysml:c5390b7c-a915-4e3b-b35e-1c2257f021d2\" xlink:type=\"simple\"><polygon fill=\"#FFFFFF\" points=\"40,227,119,227,126,249.2969,247,249.2969,247,324,40,324,40,227\" style=\"stroke: #000000; stroke-width: 1.5;\"/><line style=\"stroke: #000000; stroke-width: 1.5;\" x1=\"40\" x2=\"126\" y1=\"249.2969\" y2=\"249.2969\"/><text fill=\"#000000\" font-family=\"sans-serif\" font-size=\"14\" font-weight=\"bold\" lengthAdjust=\"spacingAndGlyphs\" textLength=\"73\" x=\"44\" y=\"241.9951\">Definitions</text></a><!--MD5=[de5ec2e2e8f62f467e546659f5068c88]\n",
       "cluster E5--><a href=\"psysml:ccb2f7ee-bd35-4426-a662-4cf2ccb8ae79\" target=\"_top\" title=\"psysml:ccb2f7ee-bd35-4426-a662-4cf2ccb8ae79\" xlink:actuate=\"onRequest\" xlink:href=\"psysml:ccb2f7ee-bd35-4426-a662-4cf2ccb8ae79\" xlink:show=\"new\" xlink:title=\"psysml:ccb2f7ee-bd35-4426-a662-4cf2ccb8ae79\" xlink:type=\"simple\"><polygon fill=\"#FFFFFF\" points=\"56,57,114,57,121,79.2969,229,79.2969,229,170,56,170,56,57\" style=\"stroke: #000000; stroke-width: 1.5;\"/><line style=\"stroke: #000000; stroke-width: 1.5;\" x1=\"56\" x2=\"121\" y1=\"79.2969\" y2=\"79.2969\"/><text fill=\"#000000\" font-family=\"sans-serif\" font-size=\"14\" font-weight=\"bold\" lengthAdjust=\"spacingAndGlyphs\" textLength=\"52\" x=\"60\" y=\"71.9951\">Usages</text></a><!--MD5=[09b614a08d8cba4a07c9adeb5e0fee81]\n",
       "class E3--><a href=\"psysml:659a1dfe-6b8d-4702-b827-b31a03710007\" target=\"_top\" title=\"psysml:659a1dfe-6b8d-4702-b827-b31a03710007\" xlink:actuate=\"onRequest\" xlink:href=\"psysml:659a1dfe-6b8d-4702-b827-b31a03710007\" xlink:show=\"new\" xlink:title=\"psysml:659a1dfe-6b8d-4702-b827-b31a03710007\" xlink:type=\"simple\"><rect fill=\"#FFFFFF\" height=\"45.9375\" id=\"E3\" style=\"stroke: #383838; stroke-width: 1.5;\" width=\"70\" x=\"161\" y=\"262\"/><text fill=\"#000000\" font-family=\"sans-serif\" font-size=\"12\" font-style=\"italic\" lengthAdjust=\"spacingAndGlyphs\" textLength=\"68\" x=\"162\" y=\"278.1387\">«part  def»</text><text fill=\"#000000\" font-family=\"sans-serif\" font-size=\"12\" lengthAdjust=\"spacingAndGlyphs\" textLength=\"45\" x=\"173.5\" y=\"292.1074\">Vehicle</text><line style=\"stroke: #383838; stroke-width: 1.5;\" x1=\"162\" x2=\"230\" y1=\"299.9375\" y2=\"299.9375\"/></a><!--MD5=[ebbe1d658d1005bcc118a6aa81145e00]\n",
       "class E4--><a href=\"psysml:659a1dfe-6b8d-4702-b827-b31a03710007\" target=\"_top\" title=\"psysml:659a1dfe-6b8d-4702-b827-b31a03710007\" xlink:actuate=\"onRequest\" xlink:href=\"psysml:659a1dfe-6b8d-4702-b827-b31a03710007\" xlink:show=\"new\" xlink:title=\"psysml:659a1dfe-6b8d-4702-b827-b31a03710007\" xlink:type=\"simple\"><rect fill=\"#FFFFFF\" height=\"45.9375\" id=\"E4\" style=\"stroke: #383838; stroke-width: 1.5;\" width=\"70\" x=\"56\" y=\"262\"/><text fill=\"#000000\" font-family=\"sans-serif\" font-size=\"12\" font-style=\"italic\" lengthAdjust=\"spacingAndGlyphs\" textLength=\"68\" x=\"57\" y=\"278.1387\">«part  def»</text><text fill=\"#000000\" font-family=\"sans-serif\" font-size=\"12\" lengthAdjust=\"spacingAndGlyphs\" textLength=\"45\" x=\"68.5\" y=\"292.1074\">Vehicle</text><line style=\"stroke: #383838; stroke-width: 1.5;\" x1=\"57\" x2=\"125\" y1=\"299.9375\" y2=\"299.9375\"/></a><!--MD5=[60a26617385b1d2d0262a64233df1f8d]\n",
       "class E6--><a href=\"psysml:783d7c15-c905-4c38-b30b-d01c61187577\" target=\"_top\" title=\"psysml:783d7c15-c905-4c38-b30b-d01c61187577\" xlink:actuate=\"onRequest\" xlink:href=\"psysml:783d7c15-c905-4c38-b30b-d01c61187577\" xlink:show=\"new\" xlink:title=\"psysml:783d7c15-c905-4c38-b30b-d01c61187577\" xlink:type=\"simple\"><rect fill=\"#FFFFFF\" height=\"45.9375\" id=\"E6\" rx=\"10\" ry=\"10\" style=\"stroke: #383838; stroke-width: 1.5;\" width=\"106\" x=\"99\" y=\"100\"/><text fill=\"#000000\" font-family=\"sans-serif\" font-size=\"12\" font-style=\"italic\" lengthAdjust=\"spacingAndGlyphs\" textLength=\"40\" x=\"132\" y=\"116.1387\">«part»</text><text fill=\"#000000\" font-family=\"sans-serif\" font-size=\"12\" lengthAdjust=\"spacingAndGlyphs\" textLength=\"96\" x=\"102\" y=\"130.1074\">vehicle: Vehicle</text><line style=\"stroke: #383838; stroke-width: 1.5;\" x1=\"100\" x2=\"204\" y1=\"137.9375\" y2=\"137.9375\"/></a><!--MD5=[1c62de2aa5b76f0fb657ff8443a1a700]\n",
       "link E5 to E4--><a href=\"psysml:8882fd51-4fce-4e08-923b-d836bd7610d5\" target=\"_top\" title=\"psysml:8882fd51-4fce-4e08-923b-d836bd7610d5\" xlink:actuate=\"onRequest\" xlink:href=\"psysml:8882fd51-4fce-4e08-923b-d836bd7610d5\" xlink:show=\"new\" xlink:title=\"psysml:8882fd51-4fce-4e08-923b-d836bd7610d5\" xlink:type=\"simple\"><path d=\"M66.8374,170.1716 C66.8505,170.3171 66.8637,170.4628 66.8769,170.6086 C66.9034,170.9002 66.9301,171.1924 66.957,171.485 C67.0647,172.6558 67.1761,173.8349 67.2913,175.0209 C67.5217,177.3929 67.7672,179.7921 68.0289,182.2055 C69.0756,191.8588 70.38,201.7375 72,211 C74.69,226.4 79,243.3 82.84,256.96 \" fill=\"none\" id=\"E5-&gt;E4\" style=\"stroke: #383838; stroke-width: 1.0; stroke-dasharray: 7.0,7.0;\"/><polygon fill=\"#383838\" points=\"84.23,261.84,85.6036,252.0874,82.8564,257.0324,77.9114,254.2852,84.23,261.84\" style=\"stroke: #383838; stroke-width: 1.0;\"/><text fill=\"#000000\" font-family=\"sans-serif\" font-size=\"13\" lengthAdjust=\"spacingAndGlyphs\" textLength=\"58\" x=\"73\" y=\"207.0669\">«import»</text></a><!--MD5=[f667431f98296947986a1a7595a31603]\n",
       "link E6 to E4--><a href=\"psysml:db353f76-c455-46cb-b105-6bd8058807fe\" target=\"_top\" title=\"psysml:db353f76-c455-46cb-b105-6bd8058807fe\" xlink:actuate=\"onRequest\" xlink:href=\"psysml:db353f76-c455-46cb-b105-6bd8058807fe\" xlink:show=\"new\" xlink:title=\"psysml:db353f76-c455-46cb-b105-6bd8058807fe\" xlink:type=\"simple\"><path d=\"M150.22,146.06 C148.23,164.02 144.16,189.79 136,211 C131.57,222.52 125.29,234.23 118.82,244.81 \" fill=\"none\" id=\"E6-&gt;E4\" style=\"stroke: #383838; stroke-width: 1.0;\"/><polygon fill=\"#FFFFFF\" points=\"107.7,261.8,112.2548,242.0705,123.9662,249.7414,107.7,261.8\" style=\"stroke: #383838; stroke-width: 1.0;\"/><ellipse cx=\"117.051\" cy=\"238.3981\" fill=\"#383838\" rx=\"2\" ry=\"2\" style=\"stroke: #383838; stroke-width: 1.0;\"/><ellipse cx=\"125.4163\" cy=\"243.8774\" fill=\"#383838\" rx=\"2\" ry=\"2\" style=\"stroke: #383838; stroke-width: 1.0;\"/></a><!--MD5=[9d04ccfecef070e55b63064cfbf4f98f]\n",
       "@startuml\r\n",
       "skinparam monochrome true\r\n",
       "skinparam classbackgroundcolor white\r\n",
       "skinparam shadowing false\r\n",
       "skinparam wrapWidth 300\r\n",
       "hide circle\r\n",
       "\r\n",
       "package \"AliasImport\" as E1  [[psysml:abc348a5-e8b0-46f2-97be-35eb1a9e9199 ]]  {\r\n",
       "package \"Definitions\" as E2  [[psysml:c5390b7c-a915-4e3b-b35e-1c2257f021d2 ]]  {\r\n",
       "comp def \"Vehicle\" as E3  <<(T,blue) part  def>> [[psysml:659a1dfe-6b8d-4702-b827-b31a03710007 ]] {\r\n",
       "}\r\n",
       "comp def \"Vehicle\" as E4  <<(T,blue) part  def>> [[psysml:659a1dfe-6b8d-4702-b827-b31a03710007 ]] {\r\n",
       "}\r\n",
       "}\r\n",
       "package \"Usages\" as E5  [[psysml:ccb2f7ee-bd35-4426-a662-4cf2ccb8ae79 ]]  {\r\n",
       "comp usage \"vehicle: Vehicle \" as E6  <<(T,blue) part>> [[psysml:783d7c15-c905-4c38-b30b-d01c61187577 ]] {\r\n",
       "}\r\n",
       "}\r\n",
       "}\r\n",
       "E5 ..> E4 [[psysml:8882fd51-4fce-4e08-923b-d836bd7610d5 ]] : <<import>>\r\n",
       "E6 - -:|> E4 [[psysml:db353f76-c455-46cb-b105-6bd8058807fe ]] \r\n",
       "@enduml\r\n",
       "\n",
       "PlantUML version 1.2020.13(Sat Jun 13 12:26:38 UTC 2020)\n",
       "(EPL source distribution)\n",
       "Java Runtime: OpenJDK Runtime Environment\n",
       "JVM: OpenJDK 64-Bit Server VM\n",
       "Default Encoding: UTF-8\n",
       "Language: en\n",
       "Country: null\n",
       "--></g></svg>"
      ]
     },
     "execution_count": 43,
     "metadata": {},
     "output_type": "execute_result"
    }
   ],
   "source": [
    "%viz --style=\"DEFAULT\" --view=\"MIXED\" \"AliasImport\""
   ]
  },
  {
   "cell_type": "code",
   "execution_count": 44,
   "id": "26ed6641",
   "metadata": {
    "execution": {
     "iopub.execute_input": "2022-06-20T11:15:01.671991Z",
     "iopub.status.busy": "2022-06-20T11:15:01.671525Z",
     "iopub.status.idle": "2022-06-20T11:15:01.702834Z",
     "shell.execute_reply": "2022-06-20T11:15:01.702421Z"
    }
   },
   "outputs": [
    {
     "data": {
      "image/svg+xml": [
       "<?xml version=\"1.0\" encoding=\"UTF-8\" standalone=\"no\"?><svg xmlns=\"http://www.w3.org/2000/svg\" xmlns:xlink=\"http://www.w3.org/1999/xlink\" contentScriptType=\"application/ecmascript\" contentStyleType=\"text/css\" height=\"360px\" preserveAspectRatio=\"none\" style=\"width:293px;height:360px;\" version=\"1.1\" viewBox=\"0 0 293 360\" width=\"293px\" zoomAndPan=\"magnify\"><defs/><g><!--MD5=[fbc87193dbaf4d95561dea2c320d4a47]\n",
       "cluster E1--><a href=\"psysml:abc348a5-e8b0-46f2-97be-35eb1a9e9199\" target=\"_top\" title=\"psysml:abc348a5-e8b0-46f2-97be-35eb1a9e9199\" xlink:actuate=\"onRequest\" xlink:href=\"psysml:abc348a5-e8b0-46f2-97be-35eb1a9e9199\" xlink:show=\"new\" xlink:title=\"psysml:abc348a5-e8b0-46f2-97be-35eb1a9e9199\" xlink:type=\"simple\"><polygon fill=\"#FFFFFF\" points=\"16,6,97,6,104,28.2969,271,28.2969,271,348,16,348,16,6\" style=\"stroke: #000000; stroke-width: 1.5;\"/><line style=\"stroke: #000000; stroke-width: 1.5;\" x1=\"16\" x2=\"104\" y1=\"28.2969\" y2=\"28.2969\"/><text fill=\"#000000\" font-family=\"sans-serif\" font-size=\"14\" font-weight=\"bold\" lengthAdjust=\"spacingAndGlyphs\" textLength=\"75\" x=\"20\" y=\"20.9951\">AliasImport</text></a><!--MD5=[e4f7fae6ed58524ba242bb0b0d3be6b7]\n",
       "cluster E2--><a href=\"psysml:c5390b7c-a915-4e3b-b35e-1c2257f021d2\" target=\"_top\" title=\"psysml:c5390b7c-a915-4e3b-b35e-1c2257f021d2\" xlink:actuate=\"onRequest\" xlink:href=\"psysml:c5390b7c-a915-4e3b-b35e-1c2257f021d2\" xlink:show=\"new\" xlink:title=\"psysml:c5390b7c-a915-4e3b-b35e-1c2257f021d2\" xlink:type=\"simple\"><polygon fill=\"#FFFFFF\" points=\"40,227,119,227,126,249.2969,247,249.2969,247,324,40,324,40,227\" style=\"stroke: #000000; stroke-width: 1.5;\"/><line style=\"stroke: #000000; stroke-width: 1.5;\" x1=\"40\" x2=\"126\" y1=\"249.2969\" y2=\"249.2969\"/><text fill=\"#000000\" font-family=\"sans-serif\" font-size=\"14\" font-weight=\"bold\" lengthAdjust=\"spacingAndGlyphs\" textLength=\"73\" x=\"44\" y=\"241.9951\">Definitions</text></a><!--MD5=[de5ec2e2e8f62f467e546659f5068c88]\n",
       "cluster E5--><a href=\"psysml:ccb2f7ee-bd35-4426-a662-4cf2ccb8ae79\" target=\"_top\" title=\"psysml:ccb2f7ee-bd35-4426-a662-4cf2ccb8ae79\" xlink:actuate=\"onRequest\" xlink:href=\"psysml:ccb2f7ee-bd35-4426-a662-4cf2ccb8ae79\" xlink:show=\"new\" xlink:title=\"psysml:ccb2f7ee-bd35-4426-a662-4cf2ccb8ae79\" xlink:type=\"simple\"><polygon fill=\"#FFFFFF\" points=\"56,57,114,57,121,79.2969,229,79.2969,229,170,56,170,56,57\" style=\"stroke: #000000; stroke-width: 1.5;\"/><line style=\"stroke: #000000; stroke-width: 1.5;\" x1=\"56\" x2=\"121\" y1=\"79.2969\" y2=\"79.2969\"/><text fill=\"#000000\" font-family=\"sans-serif\" font-size=\"14\" font-weight=\"bold\" lengthAdjust=\"spacingAndGlyphs\" textLength=\"52\" x=\"60\" y=\"71.9951\">Usages</text></a><!--MD5=[09b614a08d8cba4a07c9adeb5e0fee81]\n",
       "class E3--><a href=\"psysml:659a1dfe-6b8d-4702-b827-b31a03710007\" target=\"_top\" title=\"psysml:659a1dfe-6b8d-4702-b827-b31a03710007\" xlink:actuate=\"onRequest\" xlink:href=\"psysml:659a1dfe-6b8d-4702-b827-b31a03710007\" xlink:show=\"new\" xlink:title=\"psysml:659a1dfe-6b8d-4702-b827-b31a03710007\" xlink:type=\"simple\"><rect fill=\"#FFFFFF\" height=\"45.9375\" id=\"E3\" style=\"stroke: #383838; stroke-width: 1.5;\" width=\"70\" x=\"161\" y=\"262\"/><text fill=\"#000000\" font-family=\"sans-serif\" font-size=\"12\" font-style=\"italic\" lengthAdjust=\"spacingAndGlyphs\" textLength=\"68\" x=\"162\" y=\"278.1387\">«part  def»</text><text fill=\"#000000\" font-family=\"sans-serif\" font-size=\"12\" lengthAdjust=\"spacingAndGlyphs\" textLength=\"45\" x=\"173.5\" y=\"292.1074\">Vehicle</text><line style=\"stroke: #383838; stroke-width: 1.5;\" x1=\"162\" x2=\"230\" y1=\"299.9375\" y2=\"299.9375\"/></a><!--MD5=[ebbe1d658d1005bcc118a6aa81145e00]\n",
       "class E4--><a href=\"psysml:659a1dfe-6b8d-4702-b827-b31a03710007\" target=\"_top\" title=\"psysml:659a1dfe-6b8d-4702-b827-b31a03710007\" xlink:actuate=\"onRequest\" xlink:href=\"psysml:659a1dfe-6b8d-4702-b827-b31a03710007\" xlink:show=\"new\" xlink:title=\"psysml:659a1dfe-6b8d-4702-b827-b31a03710007\" xlink:type=\"simple\"><rect fill=\"#FFFFFF\" height=\"45.9375\" id=\"E4\" style=\"stroke: #383838; stroke-width: 1.5;\" width=\"70\" x=\"56\" y=\"262\"/><text fill=\"#000000\" font-family=\"sans-serif\" font-size=\"12\" font-style=\"italic\" lengthAdjust=\"spacingAndGlyphs\" textLength=\"68\" x=\"57\" y=\"278.1387\">«part  def»</text><text fill=\"#000000\" font-family=\"sans-serif\" font-size=\"12\" lengthAdjust=\"spacingAndGlyphs\" textLength=\"45\" x=\"68.5\" y=\"292.1074\">Vehicle</text><line style=\"stroke: #383838; stroke-width: 1.5;\" x1=\"57\" x2=\"125\" y1=\"299.9375\" y2=\"299.9375\"/></a><!--MD5=[60a26617385b1d2d0262a64233df1f8d]\n",
       "class E6--><a href=\"psysml:783d7c15-c905-4c38-b30b-d01c61187577\" target=\"_top\" title=\"psysml:783d7c15-c905-4c38-b30b-d01c61187577\" xlink:actuate=\"onRequest\" xlink:href=\"psysml:783d7c15-c905-4c38-b30b-d01c61187577\" xlink:show=\"new\" xlink:title=\"psysml:783d7c15-c905-4c38-b30b-d01c61187577\" xlink:type=\"simple\"><rect fill=\"#FFFFFF\" height=\"45.9375\" id=\"E6\" rx=\"10\" ry=\"10\" style=\"stroke: #383838; stroke-width: 1.5;\" width=\"106\" x=\"99\" y=\"100\"/><text fill=\"#000000\" font-family=\"sans-serif\" font-size=\"12\" font-style=\"italic\" lengthAdjust=\"spacingAndGlyphs\" textLength=\"40\" x=\"132\" y=\"116.1387\">«part»</text><text fill=\"#000000\" font-family=\"sans-serif\" font-size=\"12\" lengthAdjust=\"spacingAndGlyphs\" textLength=\"96\" x=\"102\" y=\"130.1074\">vehicle: Vehicle</text><line style=\"stroke: #383838; stroke-width: 1.5;\" x1=\"100\" x2=\"204\" y1=\"137.9375\" y2=\"137.9375\"/></a><!--MD5=[1c62de2aa5b76f0fb657ff8443a1a700]\n",
       "link E5 to E4--><a href=\"psysml:8882fd51-4fce-4e08-923b-d836bd7610d5\" target=\"_top\" title=\"psysml:8882fd51-4fce-4e08-923b-d836bd7610d5\" xlink:actuate=\"onRequest\" xlink:href=\"psysml:8882fd51-4fce-4e08-923b-d836bd7610d5\" xlink:show=\"new\" xlink:title=\"psysml:8882fd51-4fce-4e08-923b-d836bd7610d5\" xlink:type=\"simple\"><path d=\"M66.8374,170.1716 C66.8505,170.3171 66.8637,170.4628 66.8769,170.6086 C66.9034,170.9002 66.9301,171.1924 66.957,171.485 C67.0647,172.6558 67.1761,173.8349 67.2913,175.0209 C67.5217,177.3929 67.7672,179.7921 68.0289,182.2055 C69.0756,191.8588 70.38,201.7375 72,211 C74.69,226.4 79,243.3 82.84,256.96 \" fill=\"none\" id=\"E5-&gt;E4\" style=\"stroke: #383838; stroke-width: 1.0; stroke-dasharray: 7.0,7.0;\"/><polygon fill=\"#383838\" points=\"84.23,261.84,85.6036,252.0874,82.8564,257.0324,77.9114,254.2852,84.23,261.84\" style=\"stroke: #383838; stroke-width: 1.0;\"/><text fill=\"#000000\" font-family=\"sans-serif\" font-size=\"13\" lengthAdjust=\"spacingAndGlyphs\" textLength=\"58\" x=\"73\" y=\"207.0669\">«import»</text></a><!--MD5=[f667431f98296947986a1a7595a31603]\n",
       "link E6 to E4--><a href=\"psysml:db353f76-c455-46cb-b105-6bd8058807fe\" target=\"_top\" title=\"psysml:db353f76-c455-46cb-b105-6bd8058807fe\" xlink:actuate=\"onRequest\" xlink:href=\"psysml:db353f76-c455-46cb-b105-6bd8058807fe\" xlink:show=\"new\" xlink:title=\"psysml:db353f76-c455-46cb-b105-6bd8058807fe\" xlink:type=\"simple\"><path d=\"M150.22,146.06 C148.23,164.02 144.16,189.79 136,211 C131.57,222.52 125.29,234.23 118.82,244.81 \" fill=\"none\" id=\"E6-&gt;E4\" style=\"stroke: #383838; stroke-width: 1.0;\"/><polygon fill=\"#FFFFFF\" points=\"107.7,261.8,112.2548,242.0705,123.9662,249.7414,107.7,261.8\" style=\"stroke: #383838; stroke-width: 1.0;\"/><ellipse cx=\"117.051\" cy=\"238.3981\" fill=\"#383838\" rx=\"2\" ry=\"2\" style=\"stroke: #383838; stroke-width: 1.0;\"/><ellipse cx=\"125.4163\" cy=\"243.8774\" fill=\"#383838\" rx=\"2\" ry=\"2\" style=\"stroke: #383838; stroke-width: 1.0;\"/></a><!--MD5=[20f672a2f939c3de0b49d3a8c93aefbc]\n",
       "@startuml\r\n",
       "top to bottom direction\r\n",
       "skinparam monochrome true\r\n",
       "skinparam classbackgroundcolor white\r\n",
       "skinparam shadowing false\r\n",
       "skinparam wrapWidth 300\r\n",
       "hide circle\r\n",
       "\r\n",
       "package \"AliasImport\" as E1  [[psysml:abc348a5-e8b0-46f2-97be-35eb1a9e9199 ]]  {\r\n",
       "package \"Definitions\" as E2  [[psysml:c5390b7c-a915-4e3b-b35e-1c2257f021d2 ]]  {\r\n",
       "comp def \"Vehicle\" as E3  <<(T,blue) part  def>> [[psysml:659a1dfe-6b8d-4702-b827-b31a03710007 ]] {\r\n",
       "}\r\n",
       "comp def \"Vehicle\" as E4  <<(T,blue) part  def>> [[psysml:659a1dfe-6b8d-4702-b827-b31a03710007 ]] {\r\n",
       "}\r\n",
       "}\r\n",
       "package \"Usages\" as E5  [[psysml:ccb2f7ee-bd35-4426-a662-4cf2ccb8ae79 ]]  {\r\n",
       "comp usage \"vehicle: Vehicle \" as E6  <<(T,blue) part>> [[psysml:783d7c15-c905-4c38-b30b-d01c61187577 ]] {\r\n",
       "}\r\n",
       "}\r\n",
       "}\r\n",
       "E5 ..> E4 [[psysml:8882fd51-4fce-4e08-923b-d836bd7610d5 ]] : <<import>>\r\n",
       "E6 - -:|> E4 [[psysml:db353f76-c455-46cb-b105-6bd8058807fe ]] \r\n",
       "@enduml\r\n",
       "\n",
       "PlantUML version 1.2020.13(Sat Jun 13 12:26:38 UTC 2020)\n",
       "(EPL source distribution)\n",
       "Java Runtime: OpenJDK Runtime Environment\n",
       "JVM: OpenJDK 64-Bit Server VM\n",
       "Default Encoding: UTF-8\n",
       "Language: en\n",
       "Country: null\n",
       "--></g></svg>"
      ]
     },
     "execution_count": 44,
     "metadata": {},
     "output_type": "execute_result"
    }
   ],
   "source": [
    "%viz --style=\"TB\" --view=\"Default\" \"AliasImport\""
   ]
  },
  {
   "cell_type": "code",
   "execution_count": 45,
   "id": "48e54219",
   "metadata": {
    "execution": {
     "iopub.execute_input": "2022-06-20T11:15:01.752322Z",
     "iopub.status.busy": "2022-06-20T11:15:01.751871Z",
     "iopub.status.idle": "2022-06-20T11:15:01.778979Z",
     "shell.execute_reply": "2022-06-20T11:15:01.778577Z"
    }
   },
   "outputs": [
    {
     "data": {
      "image/svg+xml": [
       "<?xml version=\"1.0\" encoding=\"UTF-8\" standalone=\"no\"?><svg xmlns=\"http://www.w3.org/2000/svg\" xmlns:xlink=\"http://www.w3.org/1999/xlink\" contentScriptType=\"application/ecmascript\" contentStyleType=\"text/css\" height=\"360px\" preserveAspectRatio=\"none\" style=\"width:293px;height:360px;\" version=\"1.1\" viewBox=\"0 0 293 360\" width=\"293px\" zoomAndPan=\"magnify\"><defs/><g><!--MD5=[fbc87193dbaf4d95561dea2c320d4a47]\n",
       "cluster E1--><a href=\"psysml:abc348a5-e8b0-46f2-97be-35eb1a9e9199\" target=\"_top\" title=\"psysml:abc348a5-e8b0-46f2-97be-35eb1a9e9199\" xlink:actuate=\"onRequest\" xlink:href=\"psysml:abc348a5-e8b0-46f2-97be-35eb1a9e9199\" xlink:show=\"new\" xlink:title=\"psysml:abc348a5-e8b0-46f2-97be-35eb1a9e9199\" xlink:type=\"simple\"><polygon fill=\"#FFFFFF\" points=\"16,6,97,6,104,28.2969,271,28.2969,271,348,16,348,16,6\" style=\"stroke: #000000; stroke-width: 1.5;\"/><line style=\"stroke: #000000; stroke-width: 1.5;\" x1=\"16\" x2=\"104\" y1=\"28.2969\" y2=\"28.2969\"/><text fill=\"#000000\" font-family=\"sans-serif\" font-size=\"14\" font-weight=\"bold\" lengthAdjust=\"spacingAndGlyphs\" textLength=\"75\" x=\"20\" y=\"20.9951\">AliasImport</text></a><!--MD5=[e4f7fae6ed58524ba242bb0b0d3be6b7]\n",
       "cluster E2--><a href=\"psysml:c5390b7c-a915-4e3b-b35e-1c2257f021d2\" target=\"_top\" title=\"psysml:c5390b7c-a915-4e3b-b35e-1c2257f021d2\" xlink:actuate=\"onRequest\" xlink:href=\"psysml:c5390b7c-a915-4e3b-b35e-1c2257f021d2\" xlink:show=\"new\" xlink:title=\"psysml:c5390b7c-a915-4e3b-b35e-1c2257f021d2\" xlink:type=\"simple\"><polygon fill=\"#FFFFFF\" points=\"40,227,119,227,126,249.2969,247,249.2969,247,324,40,324,40,227\" style=\"stroke: #000000; stroke-width: 1.5;\"/><line style=\"stroke: #000000; stroke-width: 1.5;\" x1=\"40\" x2=\"126\" y1=\"249.2969\" y2=\"249.2969\"/><text fill=\"#000000\" font-family=\"sans-serif\" font-size=\"14\" font-weight=\"bold\" lengthAdjust=\"spacingAndGlyphs\" textLength=\"73\" x=\"44\" y=\"241.9951\">Definitions</text></a><!--MD5=[de5ec2e2e8f62f467e546659f5068c88]\n",
       "cluster E5--><a href=\"psysml:ccb2f7ee-bd35-4426-a662-4cf2ccb8ae79\" target=\"_top\" title=\"psysml:ccb2f7ee-bd35-4426-a662-4cf2ccb8ae79\" xlink:actuate=\"onRequest\" xlink:href=\"psysml:ccb2f7ee-bd35-4426-a662-4cf2ccb8ae79\" xlink:show=\"new\" xlink:title=\"psysml:ccb2f7ee-bd35-4426-a662-4cf2ccb8ae79\" xlink:type=\"simple\"><polygon fill=\"#FFFFFF\" points=\"56,57,114,57,121,79.2969,229,79.2969,229,170,56,170,56,57\" style=\"stroke: #000000; stroke-width: 1.5;\"/><line style=\"stroke: #000000; stroke-width: 1.5;\" x1=\"56\" x2=\"121\" y1=\"79.2969\" y2=\"79.2969\"/><text fill=\"#000000\" font-family=\"sans-serif\" font-size=\"14\" font-weight=\"bold\" lengthAdjust=\"spacingAndGlyphs\" textLength=\"52\" x=\"60\" y=\"71.9951\">Usages</text></a><!--MD5=[09b614a08d8cba4a07c9adeb5e0fee81]\n",
       "class E3--><a href=\"psysml:659a1dfe-6b8d-4702-b827-b31a03710007\" target=\"_top\" title=\"psysml:659a1dfe-6b8d-4702-b827-b31a03710007\" xlink:actuate=\"onRequest\" xlink:href=\"psysml:659a1dfe-6b8d-4702-b827-b31a03710007\" xlink:show=\"new\" xlink:title=\"psysml:659a1dfe-6b8d-4702-b827-b31a03710007\" xlink:type=\"simple\"><rect fill=\"#FFFFFF\" height=\"45.9375\" id=\"E3\" style=\"stroke: #383838; stroke-width: 1.5;\" width=\"70\" x=\"161\" y=\"262\"/><text fill=\"#000000\" font-family=\"sans-serif\" font-size=\"12\" font-style=\"italic\" lengthAdjust=\"spacingAndGlyphs\" textLength=\"68\" x=\"162\" y=\"278.1387\">«part  def»</text><text fill=\"#000000\" font-family=\"sans-serif\" font-size=\"12\" lengthAdjust=\"spacingAndGlyphs\" textLength=\"45\" x=\"173.5\" y=\"292.1074\">Vehicle</text><line style=\"stroke: #383838; stroke-width: 1.5;\" x1=\"162\" x2=\"230\" y1=\"299.9375\" y2=\"299.9375\"/></a><!--MD5=[ebbe1d658d1005bcc118a6aa81145e00]\n",
       "class E4--><a href=\"psysml:659a1dfe-6b8d-4702-b827-b31a03710007\" target=\"_top\" title=\"psysml:659a1dfe-6b8d-4702-b827-b31a03710007\" xlink:actuate=\"onRequest\" xlink:href=\"psysml:659a1dfe-6b8d-4702-b827-b31a03710007\" xlink:show=\"new\" xlink:title=\"psysml:659a1dfe-6b8d-4702-b827-b31a03710007\" xlink:type=\"simple\"><rect fill=\"#FFFFFF\" height=\"45.9375\" id=\"E4\" style=\"stroke: #383838; stroke-width: 1.5;\" width=\"70\" x=\"56\" y=\"262\"/><text fill=\"#000000\" font-family=\"sans-serif\" font-size=\"12\" font-style=\"italic\" lengthAdjust=\"spacingAndGlyphs\" textLength=\"68\" x=\"57\" y=\"278.1387\">«part  def»</text><text fill=\"#000000\" font-family=\"sans-serif\" font-size=\"12\" lengthAdjust=\"spacingAndGlyphs\" textLength=\"45\" x=\"68.5\" y=\"292.1074\">Vehicle</text><line style=\"stroke: #383838; stroke-width: 1.5;\" x1=\"57\" x2=\"125\" y1=\"299.9375\" y2=\"299.9375\"/></a><!--MD5=[60a26617385b1d2d0262a64233df1f8d]\n",
       "class E6--><a href=\"psysml:783d7c15-c905-4c38-b30b-d01c61187577\" target=\"_top\" title=\"psysml:783d7c15-c905-4c38-b30b-d01c61187577\" xlink:actuate=\"onRequest\" xlink:href=\"psysml:783d7c15-c905-4c38-b30b-d01c61187577\" xlink:show=\"new\" xlink:title=\"psysml:783d7c15-c905-4c38-b30b-d01c61187577\" xlink:type=\"simple\"><rect fill=\"#FFFFFF\" height=\"45.9375\" id=\"E6\" rx=\"10\" ry=\"10\" style=\"stroke: #383838; stroke-width: 1.5;\" width=\"106\" x=\"99\" y=\"100\"/><text fill=\"#000000\" font-family=\"sans-serif\" font-size=\"12\" font-style=\"italic\" lengthAdjust=\"spacingAndGlyphs\" textLength=\"40\" x=\"132\" y=\"116.1387\">«part»</text><text fill=\"#000000\" font-family=\"sans-serif\" font-size=\"12\" lengthAdjust=\"spacingAndGlyphs\" textLength=\"96\" x=\"102\" y=\"130.1074\">vehicle: Vehicle</text><line style=\"stroke: #383838; stroke-width: 1.5;\" x1=\"100\" x2=\"204\" y1=\"137.9375\" y2=\"137.9375\"/></a><!--MD5=[1c62de2aa5b76f0fb657ff8443a1a700]\n",
       "link E5 to E4--><a href=\"psysml:8882fd51-4fce-4e08-923b-d836bd7610d5\" target=\"_top\" title=\"psysml:8882fd51-4fce-4e08-923b-d836bd7610d5\" xlink:actuate=\"onRequest\" xlink:href=\"psysml:8882fd51-4fce-4e08-923b-d836bd7610d5\" xlink:show=\"new\" xlink:title=\"psysml:8882fd51-4fce-4e08-923b-d836bd7610d5\" xlink:type=\"simple\"><path d=\"M66.8374,170.1716 C66.8505,170.3171 66.8637,170.4628 66.8769,170.6086 C66.9034,170.9002 66.9301,171.1924 66.957,171.485 C67.0647,172.6558 67.1761,173.8349 67.2913,175.0209 C67.5217,177.3929 67.7672,179.7921 68.0289,182.2055 C69.0756,191.8588 70.38,201.7375 72,211 C74.69,226.4 79,243.3 82.84,256.96 \" fill=\"none\" id=\"E5-&gt;E4\" style=\"stroke: #383838; stroke-width: 1.0; stroke-dasharray: 7.0,7.0;\"/><polygon fill=\"#383838\" points=\"84.23,261.84,85.6036,252.0874,82.8564,257.0324,77.9114,254.2852,84.23,261.84\" style=\"stroke: #383838; stroke-width: 1.0;\"/><text fill=\"#000000\" font-family=\"sans-serif\" font-size=\"13\" lengthAdjust=\"spacingAndGlyphs\" textLength=\"58\" x=\"73\" y=\"207.0669\">«import»</text></a><!--MD5=[f667431f98296947986a1a7595a31603]\n",
       "link E6 to E4--><a href=\"psysml:db353f76-c455-46cb-b105-6bd8058807fe\" target=\"_top\" title=\"psysml:db353f76-c455-46cb-b105-6bd8058807fe\" xlink:actuate=\"onRequest\" xlink:href=\"psysml:db353f76-c455-46cb-b105-6bd8058807fe\" xlink:show=\"new\" xlink:title=\"psysml:db353f76-c455-46cb-b105-6bd8058807fe\" xlink:type=\"simple\"><path d=\"M150.22,146.06 C148.23,164.02 144.16,189.79 136,211 C131.57,222.52 125.29,234.23 118.82,244.81 \" fill=\"none\" id=\"E6-&gt;E4\" style=\"stroke: #383838; stroke-width: 1.0;\"/><polygon fill=\"#FFFFFF\" points=\"107.7,261.8,112.2548,242.0705,123.9662,249.7414,107.7,261.8\" style=\"stroke: #383838; stroke-width: 1.0;\"/><ellipse cx=\"117.051\" cy=\"238.3981\" fill=\"#383838\" rx=\"2\" ry=\"2\" style=\"stroke: #383838; stroke-width: 1.0;\"/><ellipse cx=\"125.4163\" cy=\"243.8774\" fill=\"#383838\" rx=\"2\" ry=\"2\" style=\"stroke: #383838; stroke-width: 1.0;\"/></a><!--MD5=[20f672a2f939c3de0b49d3a8c93aefbc]\n",
       "@startuml\r\n",
       "top to bottom direction\r\n",
       "skinparam monochrome true\r\n",
       "skinparam classbackgroundcolor white\r\n",
       "skinparam shadowing false\r\n",
       "skinparam wrapWidth 300\r\n",
       "hide circle\r\n",
       "\r\n",
       "package \"AliasImport\" as E1  [[psysml:abc348a5-e8b0-46f2-97be-35eb1a9e9199 ]]  {\r\n",
       "package \"Definitions\" as E2  [[psysml:c5390b7c-a915-4e3b-b35e-1c2257f021d2 ]]  {\r\n",
       "comp def \"Vehicle\" as E3  <<(T,blue) part  def>> [[psysml:659a1dfe-6b8d-4702-b827-b31a03710007 ]] {\r\n",
       "}\r\n",
       "comp def \"Vehicle\" as E4  <<(T,blue) part  def>> [[psysml:659a1dfe-6b8d-4702-b827-b31a03710007 ]] {\r\n",
       "}\r\n",
       "}\r\n",
       "package \"Usages\" as E5  [[psysml:ccb2f7ee-bd35-4426-a662-4cf2ccb8ae79 ]]  {\r\n",
       "comp usage \"vehicle: Vehicle \" as E6  <<(T,blue) part>> [[psysml:783d7c15-c905-4c38-b30b-d01c61187577 ]] {\r\n",
       "}\r\n",
       "}\r\n",
       "}\r\n",
       "E5 ..> E4 [[psysml:8882fd51-4fce-4e08-923b-d836bd7610d5 ]] : <<import>>\r\n",
       "E6 - -:|> E4 [[psysml:db353f76-c455-46cb-b105-6bd8058807fe ]] \r\n",
       "@enduml\r\n",
       "\n",
       "PlantUML version 1.2020.13(Sat Jun 13 12:26:38 UTC 2020)\n",
       "(EPL source distribution)\n",
       "Java Runtime: OpenJDK Runtime Environment\n",
       "JVM: OpenJDK 64-Bit Server VM\n",
       "Default Encoding: UTF-8\n",
       "Language: en\n",
       "Country: null\n",
       "--></g></svg>"
      ]
     },
     "execution_count": 45,
     "metadata": {},
     "output_type": "execute_result"
    }
   ],
   "source": [
    "%viz --style=\"TB\" --view=\"Tree\" \"AliasImport\""
   ]
  },
  {
   "cell_type": "code",
   "execution_count": 46,
   "id": "7fd8002b",
   "metadata": {
    "execution": {
     "iopub.execute_input": "2022-06-20T11:15:01.828858Z",
     "iopub.status.busy": "2022-06-20T11:15:01.828492Z",
     "iopub.status.idle": "2022-06-20T11:15:01.833180Z",
     "shell.execute_reply": "2022-06-20T11:15:01.832863Z"
    }
   },
   "outputs": [
    {
     "data": {
      "image/svg+xml": [
       "<?xml version=\"1.0\" encoding=\"UTF-8\" standalone=\"no\"?><svg xmlns=\"http://www.w3.org/2000/svg\" xmlns:xlink=\"http://www.w3.org/1999/xlink\" contentScriptType=\"application/ecmascript\" contentStyleType=\"text/css\" height=\"12px\" preserveAspectRatio=\"none\" style=\"width:12px;height:12px;\" version=\"1.1\" viewBox=\"0 0 12 12\" width=\"12px\" zoomAndPan=\"magnify\"><defs/><g><!--MD5=[f4ee21bc66e489b5061b7c3e9601fdef]\n",
       "@startuml\r\n",
       "top to bottom direction\r\n",
       "skinparam monochrome true\r\n",
       "skinparam classbackgroundcolor white\r\n",
       "skinparam shadowing false\r\n",
       "skinparam wrapWidth 300\r\n",
       "hide circle\r\n",
       "\r\n",
       "@enduml\r\n",
       "\n",
       "PlantUML version 1.2020.13(Sat Jun 13 12:26:38 UTC 2020)\n",
       "(EPL source distribution)\n",
       "Java Runtime: OpenJDK Runtime Environment\n",
       "JVM: OpenJDK 64-Bit Server VM\n",
       "Default Encoding: UTF-8\n",
       "Language: en\n",
       "Country: null\n",
       "--></g></svg>"
      ]
     },
     "execution_count": 46,
     "metadata": {},
     "output_type": "execute_result"
    }
   ],
   "source": [
    "%viz --style=\"TB\" --view=\"State\" \"AliasImport\""
   ]
  },
  {
   "cell_type": "code",
   "execution_count": 47,
   "id": "af386328",
   "metadata": {
    "execution": {
     "iopub.execute_input": "2022-06-20T11:15:01.883566Z",
     "iopub.status.busy": "2022-06-20T11:15:01.883035Z",
     "iopub.status.idle": "2022-06-20T11:15:01.909006Z",
     "shell.execute_reply": "2022-06-20T11:15:01.908550Z"
    }
   },
   "outputs": [
    {
     "data": {
      "image/svg+xml": [
       "<?xml version=\"1.0\" encoding=\"UTF-8\" standalone=\"no\"?><svg xmlns=\"http://www.w3.org/2000/svg\" xmlns:xlink=\"http://www.w3.org/1999/xlink\" contentScriptType=\"application/ecmascript\" contentStyleType=\"text/css\" height=\"351px\" preserveAspectRatio=\"none\" style=\"width:302px;height:351px;\" version=\"1.1\" viewBox=\"0 0 302 351\" width=\"302px\" zoomAndPan=\"magnify\"><defs/><g><!--MD5=[fbc87193dbaf4d95561dea2c320d4a47]\n",
       "cluster E1--><a href=\"psysml:abc348a5-e8b0-46f2-97be-35eb1a9e9199\" target=\"_top\" title=\"psysml:abc348a5-e8b0-46f2-97be-35eb1a9e9199\" xlink:actuate=\"onRequest\" xlink:href=\"psysml:abc348a5-e8b0-46f2-97be-35eb1a9e9199\" xlink:show=\"new\" xlink:title=\"psysml:abc348a5-e8b0-46f2-97be-35eb1a9e9199\" xlink:type=\"simple\"><polygon fill=\"#FFFFFF\" points=\"16,6,97,6,104,28.2969,280,28.2969,280,339,16,339,16,6\" style=\"stroke: #000000; stroke-width: 1.5;\"/><line style=\"stroke: #000000; stroke-width: 1.5;\" x1=\"16\" x2=\"104\" y1=\"28.2969\" y2=\"28.2969\"/><text fill=\"#000000\" font-family=\"sans-serif\" font-size=\"14\" font-weight=\"bold\" lengthAdjust=\"spacingAndGlyphs\" textLength=\"75\" x=\"20\" y=\"20.9951\">AliasImport</text></a><!--MD5=[e4f7fae6ed58524ba242bb0b0d3be6b7]\n",
       "cluster E2--><a href=\"psysml:c5390b7c-a915-4e3b-b35e-1c2257f021d2\" target=\"_top\" title=\"psysml:c5390b7c-a915-4e3b-b35e-1c2257f021d2\" xlink:actuate=\"onRequest\" xlink:href=\"psysml:c5390b7c-a915-4e3b-b35e-1c2257f021d2\" xlink:show=\"new\" xlink:title=\"psysml:c5390b7c-a915-4e3b-b35e-1c2257f021d2\" xlink:type=\"simple\"><polygon fill=\"#FFFFFF\" points=\"40,221,119,221,126,243.2969,256,243.2969,256,315,40,315,40,221\" style=\"stroke: #000000; stroke-width: 1.5;\"/><line style=\"stroke: #000000; stroke-width: 1.5;\" x1=\"40\" x2=\"126\" y1=\"243.2969\" y2=\"243.2969\"/><text fill=\"#000000\" font-family=\"sans-serif\" font-size=\"14\" font-weight=\"bold\" lengthAdjust=\"spacingAndGlyphs\" textLength=\"73\" x=\"44\" y=\"235.9951\">Definitions</text></a><!--MD5=[de5ec2e2e8f62f467e546659f5068c88]\n",
       "cluster E5--><a href=\"psysml:ccb2f7ee-bd35-4426-a662-4cf2ccb8ae79\" target=\"_top\" title=\"psysml:ccb2f7ee-bd35-4426-a662-4cf2ccb8ae79\" xlink:actuate=\"onRequest\" xlink:href=\"psysml:ccb2f7ee-bd35-4426-a662-4cf2ccb8ae79\" xlink:show=\"new\" xlink:title=\"psysml:ccb2f7ee-bd35-4426-a662-4cf2ccb8ae79\" xlink:type=\"simple\"><polygon fill=\"#FFFFFF\" points=\"56,57,114,57,121,79.2969,230,79.2969,230,164,56,164,56,57\" style=\"stroke: #000000; stroke-width: 1.5;\"/><line style=\"stroke: #000000; stroke-width: 1.5;\" x1=\"56\" x2=\"121\" y1=\"79.2969\" y2=\"79.2969\"/><text fill=\"#000000\" font-family=\"sans-serif\" font-size=\"14\" font-weight=\"bold\" lengthAdjust=\"spacingAndGlyphs\" textLength=\"52\" x=\"60\" y=\"71.9951\">Usages</text></a><g id=\"E1.E2.E3\"><a href=\"psysml:659a1dfe-6b8d-4702-b827-b31a03710007\" target=\"_top\" title=\"psysml:659a1dfe-6b8d-4702-b827-b31a03710007\" xlink:actuate=\"onRequest\" xlink:href=\"psysml:659a1dfe-6b8d-4702-b827-b31a03710007\" xlink:show=\"new\" xlink:title=\"psysml:659a1dfe-6b8d-4702-b827-b31a03710007\" xlink:type=\"simple\"><rect fill=\"#FFFFFF\" height=\"42.9375\" id=\"E3\" style=\"stroke: #383838; stroke-width: 1.5;\" width=\"75\" x=\"165.5\" y=\"256\"/><rect fill=\"#F8F8F8\" height=\"37.9375\" style=\"stroke: #383838; stroke-width: 1.5;\" width=\"75\" x=\"165.5\" y=\"256\"/><text fill=\"#000000\" font-family=\"sans-serif\" font-size=\"12\" font-style=\"italic\" lengthAdjust=\"spacingAndGlyphs\" textLength=\"68\" x=\"169\" y=\"272.1387\">«part  def»</text><text fill=\"#000000\" font-family=\"sans-serif\" font-size=\"12\" lengthAdjust=\"spacingAndGlyphs\" textLength=\"45\" x=\"180.5\" y=\"286.1074\">Vehicle</text></a></g><g id=\"E1.E2.E4\"><a href=\"psysml:659a1dfe-6b8d-4702-b827-b31a03710007\" target=\"_top\" title=\"psysml:659a1dfe-6b8d-4702-b827-b31a03710007\" xlink:actuate=\"onRequest\" xlink:href=\"psysml:659a1dfe-6b8d-4702-b827-b31a03710007\" xlink:show=\"new\" xlink:title=\"psysml:659a1dfe-6b8d-4702-b827-b31a03710007\" xlink:type=\"simple\"><rect fill=\"#FFFFFF\" height=\"42.9375\" id=\"E4\" style=\"stroke: #383838; stroke-width: 1.5;\" width=\"75\" x=\"55.5\" y=\"256\"/><rect fill=\"#F8F8F8\" height=\"37.9375\" style=\"stroke: #383838; stroke-width: 1.5;\" width=\"75\" x=\"55.5\" y=\"256\"/><text fill=\"#000000\" font-family=\"sans-serif\" font-size=\"12\" font-style=\"italic\" lengthAdjust=\"spacingAndGlyphs\" textLength=\"68\" x=\"59\" y=\"272.1387\">«part  def»</text><text fill=\"#000000\" font-family=\"sans-serif\" font-size=\"12\" lengthAdjust=\"spacingAndGlyphs\" textLength=\"45\" x=\"70.5\" y=\"286.1074\">Vehicle</text></a></g><g id=\"E1.E5.E6\"><a href=\"psysml:783d7c15-c905-4c38-b30b-d01c61187577\" target=\"_top\" title=\"psysml:783d7c15-c905-4c38-b30b-d01c61187577\" xlink:actuate=\"onRequest\" xlink:href=\"psysml:783d7c15-c905-4c38-b30b-d01c61187577\" xlink:show=\"new\" xlink:title=\"psysml:783d7c15-c905-4c38-b30b-d01c61187577\" xlink:type=\"simple\"><rect fill=\"#FFFFFF\" height=\"40\" id=\"E6\" rx=\"10\" ry=\"10\" style=\"stroke: #383838; stroke-width: 1.5;\" width=\"107\" x=\"99.5\" y=\"100\"/><rect fill=\"#F8F8F8\" height=\"23.9688\" rx=\"10\" ry=\"10\" style=\"stroke: #F8F8F8; stroke-width: 1.5;\" width=\"107\" x=\"99.5\" y=\"100\"/><rect fill=\"#F8F8F8\" height=\"10\" style=\"stroke: #F8F8F8; stroke-width: 1.5;\" width=\"107\" x=\"99.5\" y=\"113.9688\"/><rect fill=\"none\" height=\"40\" id=\"E6\" rx=\"10\" ry=\"10\" style=\"stroke: #383838; stroke-width: 1.5;\" width=\"107\" x=\"99.5\" y=\"100\"/><text fill=\"#000000\" font-family=\"sans-serif\" font-size=\"12\" lengthAdjust=\"spacingAndGlyphs\" textLength=\"96\" x=\"105\" y=\"116.1387\">vehicle: Vehicle</text></a></g><!--MD5=[1c62de2aa5b76f0fb657ff8443a1a700]\n",
       "link E5 to E4--><a href=\"psysml:8882fd51-4fce-4e08-923b-d836bd7610d5\" target=\"_top\" title=\"psysml:8882fd51-4fce-4e08-923b-d836bd7610d5\" xlink:actuate=\"onRequest\" xlink:href=\"psysml:8882fd51-4fce-4e08-923b-d836bd7610d5\" xlink:show=\"new\" xlink:title=\"psysml:8882fd51-4fce-4e08-923b-d836bd7610d5\" xlink:type=\"simple\"><path d=\"M67.2559,164.3434 C67.2848,164.6227 67.314,164.9026 67.3433,165.183 C67.4021,165.7439 67.4617,166.3071 67.5224,166.8722 C67.6436,168.0025 67.7685,169.141 67.8973,170.2859 C68.1549,172.5759 68.4278,174.8919 68.7167,177.2213 C69.8725,186.5388 71.285,196.07 73,205 C75.97,220.45 80.65,237.41 84.74,250.94 \" fill=\"none\" id=\"E5-&gt;E4\" style=\"stroke: #383838; stroke-width: 1.0; stroke-dasharray: 7.0,7.0;\"/><polygon fill=\"#383838\" points=\"86.21,255.76,87.3802,245.9809,84.7366,250.982,79.7354,248.3384,86.21,255.76\" style=\"stroke: #383838; stroke-width: 1.0;\"/><text fill=\"#000000\" font-family=\"sans-serif\" font-size=\"13\" lengthAdjust=\"spacingAndGlyphs\" textLength=\"58\" x=\"74\" y=\"201.0669\">«import»</text></a><!--MD5=[f667431f98296947986a1a7595a31603]\n",
       "link E6 to E4--><a href=\"psysml:db353f76-c455-46cb-b105-6bd8058807fe\" target=\"_top\" title=\"psysml:db353f76-c455-46cb-b105-6bd8058807fe\" xlink:actuate=\"onRequest\" xlink:href=\"psysml:db353f76-c455-46cb-b105-6bd8058807fe\" xlink:show=\"new\" xlink:title=\"psysml:db353f76-c455-46cb-b105-6bd8058807fe\" xlink:type=\"simple\"><path d=\"M151.34,140.23 C149.38,157.62 145.27,183.68 137,205 C132.5,216.61 126.1,228.43 119.57,239.03 \" fill=\"none\" id=\"E6-&gt;E4\" style=\"stroke: #383838; stroke-width: 1.0;\"/><polygon fill=\"#FFFFFF\" points=\"108.43,255.98,113.0161,236.2577,124.7153,243.9472,108.43,255.98\" style=\"stroke: #383838; stroke-width: 1.0;\"/><ellipse cx=\"117.8182\" cy=\"232.593\" fill=\"#383838\" rx=\"2\" ry=\"2\" style=\"stroke: #383838; stroke-width: 1.0;\"/><ellipse cx=\"126.1747\" cy=\"238.0855\" fill=\"#383838\" rx=\"2\" ry=\"2\" style=\"stroke: #383838; stroke-width: 1.0;\"/></a><!--MD5=[006eb0b4e39261ead2a96a1f1e4d1bdb]\n",
       "@startuml\r\n",
       "skinparam ranksep 10\r\n",
       "skinparam rectangle {\r\n",
       " backgroundColor<<block>> LightGreen\r\n",
       "}\r\n",
       "top to bottom direction\r\n",
       "skinparam monochrome true\r\n",
       "skinparam classbackgroundcolor white\r\n",
       "skinparam shadowing false\r\n",
       "skinparam wrapWidth 300\r\n",
       "hide circle\r\n",
       "\r\n",
       "package \"AliasImport\" as E1  [[psysml:abc348a5-e8b0-46f2-97be-35eb1a9e9199 ]]  {\r\n",
       "package \"Definitions\" as E2  [[psysml:c5390b7c-a915-4e3b-b35e-1c2257f021d2 ]]  {\r\n",
       "rec def \"Vehicle\" as E3  <<(T,blue) part  def>> [[psysml:659a1dfe-6b8d-4702-b827-b31a03710007 ]] {\r\n",
       "}\r\n",
       "rec def \"Vehicle\" as E4  <<(T,blue) part  def>> [[psysml:659a1dfe-6b8d-4702-b827-b31a03710007 ]] {\r\n",
       "}\r\n",
       "}\r\n",
       "package \"Usages\" as E5  [[psysml:ccb2f7ee-bd35-4426-a662-4cf2ccb8ae79 ]]  {\r\n",
       "rec usage \"vehicle: Vehicle\" as E6  [[psysml:783d7c15-c905-4c38-b30b-d01c61187577 ]] {\r\n",
       "}\r\n",
       "}\r\n",
       "}\r\n",
       "E5 ..> E4 [[psysml:8882fd51-4fce-4e08-923b-d836bd7610d5 ]] : <<import>>\r\n",
       "E6 - -:|> E4 [[psysml:db353f76-c455-46cb-b105-6bd8058807fe ]] \r\n",
       "@enduml\r\n",
       "\n",
       "PlantUML version 1.2020.13(Sat Jun 13 12:26:38 UTC 2020)\n",
       "(EPL source distribution)\n",
       "Java Runtime: OpenJDK Runtime Environment\n",
       "JVM: OpenJDK 64-Bit Server VM\n",
       "Default Encoding: UTF-8\n",
       "Language: en\n",
       "Country: null\n",
       "--></g></svg>"
      ]
     },
     "execution_count": 47,
     "metadata": {},
     "output_type": "execute_result"
    }
   ],
   "source": [
    "%viz --style=\"TB\" --view=\"Interconnection\" \"AliasImport\""
   ]
  },
  {
   "cell_type": "code",
   "execution_count": 48,
   "id": "1828104b",
   "metadata": {
    "execution": {
     "iopub.execute_input": "2022-06-20T11:15:01.958856Z",
     "iopub.status.busy": "2022-06-20T11:15:01.958402Z",
     "iopub.status.idle": "2022-06-20T11:15:01.964443Z",
     "shell.execute_reply": "2022-06-20T11:15:01.964732Z"
    }
   },
   "outputs": [
    {
     "data": {
      "image/svg+xml": [
       "<?xml version=\"1.0\" encoding=\"UTF-8\" standalone=\"no\"?><svg xmlns=\"http://www.w3.org/2000/svg\" xmlns:xlink=\"http://www.w3.org/1999/xlink\" contentScriptType=\"application/ecmascript\" contentStyleType=\"text/css\" height=\"12px\" preserveAspectRatio=\"none\" style=\"width:12px;height:12px;\" version=\"1.1\" viewBox=\"0 0 12 12\" width=\"12px\" zoomAndPan=\"magnify\"><defs/><g><!--MD5=[06afc254b03ac5e9d9fb7773b07d0800]\n",
       "@startuml\r\n",
       "skinparam ranksep 8\r\n",
       "top to bottom direction\r\n",
       "skinparam monochrome true\r\n",
       "skinparam classbackgroundcolor white\r\n",
       "skinparam shadowing false\r\n",
       "skinparam wrapWidth 300\r\n",
       "hide circle\r\n",
       "\r\n",
       "@enduml\r\n",
       "\n",
       "PlantUML version 1.2020.13(Sat Jun 13 12:26:38 UTC 2020)\n",
       "(EPL source distribution)\n",
       "Java Runtime: OpenJDK Runtime Environment\n",
       "JVM: OpenJDK 64-Bit Server VM\n",
       "Default Encoding: UTF-8\n",
       "Language: en\n",
       "Country: null\n",
       "--></g></svg>"
      ]
     },
     "execution_count": 48,
     "metadata": {},
     "output_type": "execute_result"
    }
   ],
   "source": [
    "%viz --style=\"TB\" --view=\"Action\" \"AliasImport\""
   ]
  },
  {
   "cell_type": "code",
   "execution_count": 49,
   "id": "57fddff0",
   "metadata": {
    "execution": {
     "iopub.execute_input": "2022-06-20T11:15:02.015112Z",
     "iopub.status.busy": "2022-06-20T11:15:02.014652Z",
     "iopub.status.idle": "2022-06-20T11:15:02.020283Z",
     "shell.execute_reply": "2022-06-20T11:15:02.020598Z"
    }
   },
   "outputs": [
    {
     "data": {
      "image/svg+xml": [
       "<?xml version=\"1.0\" encoding=\"UTF-8\" standalone=\"no\"?><svg xmlns=\"http://www.w3.org/2000/svg\" xmlns:xlink=\"http://www.w3.org/1999/xlink\" contentScriptType=\"application/ecmascript\" contentStyleType=\"text/css\" height=\"12px\" preserveAspectRatio=\"none\" style=\"width:12px;height:12px;\" version=\"1.1\" viewBox=\"0 0 12 12\" width=\"12px\" zoomAndPan=\"magnify\"><defs/><g><!--MD5=[e1ab0c84c44d2fef8bf5f140f2689906]\n",
       "@startuml\r\n",
       "skinparam roundcorner 20\r\n",
       "skinparam BoxPadding 20\r\n",
       "skinparam SequenceBoxBackgroundColor #white\r\n",
       "skinparam style strictuml\r\n",
       "skinparam maxMessageSize 100\r\n",
       "top to bottom direction\r\n",
       "skinparam monochrome true\r\n",
       "skinparam classbackgroundcolor white\r\n",
       "skinparam shadowing false\r\n",
       "skinparam wrapWidth 300\r\n",
       "hide circle\r\n",
       "\r\n",
       "@enduml\r\n",
       "\n",
       "PlantUML version 1.2020.13(Sat Jun 13 12:26:38 UTC 2020)\n",
       "(EPL source distribution)\n",
       "Java Runtime: OpenJDK Runtime Environment\n",
       "JVM: OpenJDK 64-Bit Server VM\n",
       "Default Encoding: UTF-8\n",
       "Language: en\n",
       "Country: null\n",
       "--></g></svg>"
      ]
     },
     "execution_count": 49,
     "metadata": {},
     "output_type": "execute_result"
    }
   ],
   "source": [
    "%viz --style=\"TB\" --view=\"Sequence\" \"AliasImport\""
   ]
  },
  {
   "cell_type": "code",
   "execution_count": 50,
   "id": "8f50fbdb",
   "metadata": {
    "execution": {
     "iopub.execute_input": "2022-06-20T11:15:02.071405Z",
     "iopub.status.busy": "2022-06-20T11:15:02.070803Z",
     "iopub.status.idle": "2022-06-20T11:15:02.098939Z",
     "shell.execute_reply": "2022-06-20T11:15:02.097601Z"
    }
   },
   "outputs": [
    {
     "data": {
      "image/svg+xml": [
       "<?xml version=\"1.0\" encoding=\"UTF-8\" standalone=\"no\"?><svg xmlns=\"http://www.w3.org/2000/svg\" xmlns:xlink=\"http://www.w3.org/1999/xlink\" contentScriptType=\"application/ecmascript\" contentStyleType=\"text/css\" height=\"360px\" preserveAspectRatio=\"none\" style=\"width:293px;height:360px;\" version=\"1.1\" viewBox=\"0 0 293 360\" width=\"293px\" zoomAndPan=\"magnify\"><defs/><g><!--MD5=[fbc87193dbaf4d95561dea2c320d4a47]\n",
       "cluster E1--><a href=\"psysml:abc348a5-e8b0-46f2-97be-35eb1a9e9199\" target=\"_top\" title=\"psysml:abc348a5-e8b0-46f2-97be-35eb1a9e9199\" xlink:actuate=\"onRequest\" xlink:href=\"psysml:abc348a5-e8b0-46f2-97be-35eb1a9e9199\" xlink:show=\"new\" xlink:title=\"psysml:abc348a5-e8b0-46f2-97be-35eb1a9e9199\" xlink:type=\"simple\"><polygon fill=\"#FFFFFF\" points=\"16,6,97,6,104,28.2969,271,28.2969,271,348,16,348,16,6\" style=\"stroke: #000000; stroke-width: 1.5;\"/><line style=\"stroke: #000000; stroke-width: 1.5;\" x1=\"16\" x2=\"104\" y1=\"28.2969\" y2=\"28.2969\"/><text fill=\"#000000\" font-family=\"sans-serif\" font-size=\"14\" font-weight=\"bold\" lengthAdjust=\"spacingAndGlyphs\" textLength=\"75\" x=\"20\" y=\"20.9951\">AliasImport</text></a><!--MD5=[e4f7fae6ed58524ba242bb0b0d3be6b7]\n",
       "cluster E2--><a href=\"psysml:c5390b7c-a915-4e3b-b35e-1c2257f021d2\" target=\"_top\" title=\"psysml:c5390b7c-a915-4e3b-b35e-1c2257f021d2\" xlink:actuate=\"onRequest\" xlink:href=\"psysml:c5390b7c-a915-4e3b-b35e-1c2257f021d2\" xlink:show=\"new\" xlink:title=\"psysml:c5390b7c-a915-4e3b-b35e-1c2257f021d2\" xlink:type=\"simple\"><polygon fill=\"#FFFFFF\" points=\"40,227,119,227,126,249.2969,247,249.2969,247,324,40,324,40,227\" style=\"stroke: #000000; stroke-width: 1.5;\"/><line style=\"stroke: #000000; stroke-width: 1.5;\" x1=\"40\" x2=\"126\" y1=\"249.2969\" y2=\"249.2969\"/><text fill=\"#000000\" font-family=\"sans-serif\" font-size=\"14\" font-weight=\"bold\" lengthAdjust=\"spacingAndGlyphs\" textLength=\"73\" x=\"44\" y=\"241.9951\">Definitions</text></a><!--MD5=[de5ec2e2e8f62f467e546659f5068c88]\n",
       "cluster E5--><a href=\"psysml:ccb2f7ee-bd35-4426-a662-4cf2ccb8ae79\" target=\"_top\" title=\"psysml:ccb2f7ee-bd35-4426-a662-4cf2ccb8ae79\" xlink:actuate=\"onRequest\" xlink:href=\"psysml:ccb2f7ee-bd35-4426-a662-4cf2ccb8ae79\" xlink:show=\"new\" xlink:title=\"psysml:ccb2f7ee-bd35-4426-a662-4cf2ccb8ae79\" xlink:type=\"simple\"><polygon fill=\"#FFFFFF\" points=\"56,57,114,57,121,79.2969,229,79.2969,229,170,56,170,56,57\" style=\"stroke: #000000; stroke-width: 1.5;\"/><line style=\"stroke: #000000; stroke-width: 1.5;\" x1=\"56\" x2=\"121\" y1=\"79.2969\" y2=\"79.2969\"/><text fill=\"#000000\" font-family=\"sans-serif\" font-size=\"14\" font-weight=\"bold\" lengthAdjust=\"spacingAndGlyphs\" textLength=\"52\" x=\"60\" y=\"71.9951\">Usages</text></a><!--MD5=[09b614a08d8cba4a07c9adeb5e0fee81]\n",
       "class E3--><a href=\"psysml:659a1dfe-6b8d-4702-b827-b31a03710007\" target=\"_top\" title=\"psysml:659a1dfe-6b8d-4702-b827-b31a03710007\" xlink:actuate=\"onRequest\" xlink:href=\"psysml:659a1dfe-6b8d-4702-b827-b31a03710007\" xlink:show=\"new\" xlink:title=\"psysml:659a1dfe-6b8d-4702-b827-b31a03710007\" xlink:type=\"simple\"><rect fill=\"#FFFFFF\" height=\"45.9375\" id=\"E3\" style=\"stroke: #383838; stroke-width: 1.5;\" width=\"70\" x=\"161\" y=\"262\"/><text fill=\"#000000\" font-family=\"sans-serif\" font-size=\"12\" font-style=\"italic\" lengthAdjust=\"spacingAndGlyphs\" textLength=\"68\" x=\"162\" y=\"278.1387\">«part  def»</text><text fill=\"#000000\" font-family=\"sans-serif\" font-size=\"12\" lengthAdjust=\"spacingAndGlyphs\" textLength=\"45\" x=\"173.5\" y=\"292.1074\">Vehicle</text><line style=\"stroke: #383838; stroke-width: 1.5;\" x1=\"162\" x2=\"230\" y1=\"299.9375\" y2=\"299.9375\"/></a><!--MD5=[ebbe1d658d1005bcc118a6aa81145e00]\n",
       "class E4--><a href=\"psysml:659a1dfe-6b8d-4702-b827-b31a03710007\" target=\"_top\" title=\"psysml:659a1dfe-6b8d-4702-b827-b31a03710007\" xlink:actuate=\"onRequest\" xlink:href=\"psysml:659a1dfe-6b8d-4702-b827-b31a03710007\" xlink:show=\"new\" xlink:title=\"psysml:659a1dfe-6b8d-4702-b827-b31a03710007\" xlink:type=\"simple\"><rect fill=\"#FFFFFF\" height=\"45.9375\" id=\"E4\" style=\"stroke: #383838; stroke-width: 1.5;\" width=\"70\" x=\"56\" y=\"262\"/><text fill=\"#000000\" font-family=\"sans-serif\" font-size=\"12\" font-style=\"italic\" lengthAdjust=\"spacingAndGlyphs\" textLength=\"68\" x=\"57\" y=\"278.1387\">«part  def»</text><text fill=\"#000000\" font-family=\"sans-serif\" font-size=\"12\" lengthAdjust=\"spacingAndGlyphs\" textLength=\"45\" x=\"68.5\" y=\"292.1074\">Vehicle</text><line style=\"stroke: #383838; stroke-width: 1.5;\" x1=\"57\" x2=\"125\" y1=\"299.9375\" y2=\"299.9375\"/></a><!--MD5=[60a26617385b1d2d0262a64233df1f8d]\n",
       "class E6--><a href=\"psysml:783d7c15-c905-4c38-b30b-d01c61187577\" target=\"_top\" title=\"psysml:783d7c15-c905-4c38-b30b-d01c61187577\" xlink:actuate=\"onRequest\" xlink:href=\"psysml:783d7c15-c905-4c38-b30b-d01c61187577\" xlink:show=\"new\" xlink:title=\"psysml:783d7c15-c905-4c38-b30b-d01c61187577\" xlink:type=\"simple\"><rect fill=\"#FFFFFF\" height=\"45.9375\" id=\"E6\" rx=\"10\" ry=\"10\" style=\"stroke: #383838; stroke-width: 1.5;\" width=\"106\" x=\"99\" y=\"100\"/><text fill=\"#000000\" font-family=\"sans-serif\" font-size=\"12\" font-style=\"italic\" lengthAdjust=\"spacingAndGlyphs\" textLength=\"40\" x=\"132\" y=\"116.1387\">«part»</text><text fill=\"#000000\" font-family=\"sans-serif\" font-size=\"12\" lengthAdjust=\"spacingAndGlyphs\" textLength=\"96\" x=\"102\" y=\"130.1074\">vehicle: Vehicle</text><line style=\"stroke: #383838; stroke-width: 1.5;\" x1=\"100\" x2=\"204\" y1=\"137.9375\" y2=\"137.9375\"/></a><!--MD5=[1c62de2aa5b76f0fb657ff8443a1a700]\n",
       "link E5 to E4--><a href=\"psysml:8882fd51-4fce-4e08-923b-d836bd7610d5\" target=\"_top\" title=\"psysml:8882fd51-4fce-4e08-923b-d836bd7610d5\" xlink:actuate=\"onRequest\" xlink:href=\"psysml:8882fd51-4fce-4e08-923b-d836bd7610d5\" xlink:show=\"new\" xlink:title=\"psysml:8882fd51-4fce-4e08-923b-d836bd7610d5\" xlink:type=\"simple\"><path d=\"M66.8374,170.1716 C66.8505,170.3171 66.8637,170.4628 66.8769,170.6086 C66.9034,170.9002 66.9301,171.1924 66.957,171.485 C67.0647,172.6558 67.1761,173.8349 67.2913,175.0209 C67.5217,177.3929 67.7672,179.7921 68.0289,182.2055 C69.0756,191.8588 70.38,201.7375 72,211 C74.69,226.4 79,243.3 82.84,256.96 \" fill=\"none\" id=\"E5-&gt;E4\" style=\"stroke: #383838; stroke-width: 1.0; stroke-dasharray: 7.0,7.0;\"/><polygon fill=\"#383838\" points=\"84.23,261.84,85.6036,252.0874,82.8564,257.0324,77.9114,254.2852,84.23,261.84\" style=\"stroke: #383838; stroke-width: 1.0;\"/><text fill=\"#000000\" font-family=\"sans-serif\" font-size=\"13\" lengthAdjust=\"spacingAndGlyphs\" textLength=\"58\" x=\"73\" y=\"207.0669\">«import»</text></a><!--MD5=[f667431f98296947986a1a7595a31603]\n",
       "link E6 to E4--><a href=\"psysml:db353f76-c455-46cb-b105-6bd8058807fe\" target=\"_top\" title=\"psysml:db353f76-c455-46cb-b105-6bd8058807fe\" xlink:actuate=\"onRequest\" xlink:href=\"psysml:db353f76-c455-46cb-b105-6bd8058807fe\" xlink:show=\"new\" xlink:title=\"psysml:db353f76-c455-46cb-b105-6bd8058807fe\" xlink:type=\"simple\"><path d=\"M150.22,146.06 C148.23,164.02 144.16,189.79 136,211 C131.57,222.52 125.29,234.23 118.82,244.81 \" fill=\"none\" id=\"E6-&gt;E4\" style=\"stroke: #383838; stroke-width: 1.0;\"/><polygon fill=\"#FFFFFF\" points=\"107.7,261.8,112.2548,242.0705,123.9662,249.7414,107.7,261.8\" style=\"stroke: #383838; stroke-width: 1.0;\"/><ellipse cx=\"117.051\" cy=\"238.3981\" fill=\"#383838\" rx=\"2\" ry=\"2\" style=\"stroke: #383838; stroke-width: 1.0;\"/><ellipse cx=\"125.4163\" cy=\"243.8774\" fill=\"#383838\" rx=\"2\" ry=\"2\" style=\"stroke: #383838; stroke-width: 1.0;\"/></a><!--MD5=[20f672a2f939c3de0b49d3a8c93aefbc]\n",
       "@startuml\r\n",
       "top to bottom direction\r\n",
       "skinparam monochrome true\r\n",
       "skinparam classbackgroundcolor white\r\n",
       "skinparam shadowing false\r\n",
       "skinparam wrapWidth 300\r\n",
       "hide circle\r\n",
       "\r\n",
       "package \"AliasImport\" as E1  [[psysml:abc348a5-e8b0-46f2-97be-35eb1a9e9199 ]]  {\r\n",
       "package \"Definitions\" as E2  [[psysml:c5390b7c-a915-4e3b-b35e-1c2257f021d2 ]]  {\r\n",
       "comp def \"Vehicle\" as E3  <<(T,blue) part  def>> [[psysml:659a1dfe-6b8d-4702-b827-b31a03710007 ]] {\r\n",
       "}\r\n",
       "comp def \"Vehicle\" as E4  <<(T,blue) part  def>> [[psysml:659a1dfe-6b8d-4702-b827-b31a03710007 ]] {\r\n",
       "}\r\n",
       "}\r\n",
       "package \"Usages\" as E5  [[psysml:ccb2f7ee-bd35-4426-a662-4cf2ccb8ae79 ]]  {\r\n",
       "comp usage \"vehicle: Vehicle \" as E6  <<(T,blue) part>> [[psysml:783d7c15-c905-4c38-b30b-d01c61187577 ]] {\r\n",
       "}\r\n",
       "}\r\n",
       "}\r\n",
       "E5 ..> E4 [[psysml:8882fd51-4fce-4e08-923b-d836bd7610d5 ]] : <<import>>\r\n",
       "E6 - -:|> E4 [[psysml:db353f76-c455-46cb-b105-6bd8058807fe ]] \r\n",
       "@enduml\r\n",
       "\n",
       "PlantUML version 1.2020.13(Sat Jun 13 12:26:38 UTC 2020)\n",
       "(EPL source distribution)\n",
       "Java Runtime: OpenJDK Runtime Environment\n",
       "JVM: OpenJDK 64-Bit Server VM\n",
       "Default Encoding: UTF-8\n",
       "Language: en\n",
       "Country: null\n",
       "--></g></svg>"
      ]
     },
     "execution_count": 50,
     "metadata": {},
     "output_type": "execute_result"
    }
   ],
   "source": [
    "%viz --style=\"TB\" --view=\"MIXED\" \"AliasImport\""
   ]
  },
  {
   "cell_type": "code",
   "execution_count": 51,
   "id": "5593040e",
   "metadata": {
    "execution": {
     "iopub.execute_input": "2022-06-20T11:15:02.148873Z",
     "iopub.status.busy": "2022-06-20T11:15:02.148427Z",
     "iopub.status.idle": "2022-06-20T11:15:02.176987Z",
     "shell.execute_reply": "2022-06-20T11:15:02.175645Z"
    }
   },
   "outputs": [
    {
     "data": {
      "image/svg+xml": [
       "<?xml version=\"1.0\" encoding=\"UTF-8\" standalone=\"no\"?><svg xmlns=\"http://www.w3.org/2000/svg\" xmlns:xlink=\"http://www.w3.org/1999/xlink\" contentScriptType=\"application/ecmascript\" contentStyleType=\"text/css\" height=\"360px\" preserveAspectRatio=\"none\" style=\"width:293px;height:360px;\" version=\"1.1\" viewBox=\"0 0 293 360\" width=\"293px\" zoomAndPan=\"magnify\"><defs/><g><!--MD5=[fbc87193dbaf4d95561dea2c320d4a47]\n",
       "cluster E1--><a href=\"psysml:abc348a5-e8b0-46f2-97be-35eb1a9e9199\" target=\"_top\" title=\"psysml:abc348a5-e8b0-46f2-97be-35eb1a9e9199\" xlink:actuate=\"onRequest\" xlink:href=\"psysml:abc348a5-e8b0-46f2-97be-35eb1a9e9199\" xlink:show=\"new\" xlink:title=\"psysml:abc348a5-e8b0-46f2-97be-35eb1a9e9199\" xlink:type=\"simple\"><polygon fill=\"#FFFFFF\" points=\"16,6,97,6,104,28.2969,271,28.2969,271,348,16,348,16,6\" style=\"stroke: #000000; stroke-width: 1.5;\"/><line style=\"stroke: #000000; stroke-width: 1.5;\" x1=\"16\" x2=\"104\" y1=\"28.2969\" y2=\"28.2969\"/><text fill=\"#000000\" font-family=\"sans-serif\" font-size=\"14\" font-weight=\"bold\" lengthAdjust=\"spacingAndGlyphs\" textLength=\"75\" x=\"20\" y=\"20.9951\">AliasImport</text></a><!--MD5=[e4f7fae6ed58524ba242bb0b0d3be6b7]\n",
       "cluster E2--><a href=\"psysml:c5390b7c-a915-4e3b-b35e-1c2257f021d2\" target=\"_top\" title=\"psysml:c5390b7c-a915-4e3b-b35e-1c2257f021d2\" xlink:actuate=\"onRequest\" xlink:href=\"psysml:c5390b7c-a915-4e3b-b35e-1c2257f021d2\" xlink:show=\"new\" xlink:title=\"psysml:c5390b7c-a915-4e3b-b35e-1c2257f021d2\" xlink:type=\"simple\"><polygon fill=\"#FFFFFF\" points=\"40,227,119,227,126,249.2969,247,249.2969,247,324,40,324,40,227\" style=\"stroke: #000000; stroke-width: 1.5;\"/><line style=\"stroke: #000000; stroke-width: 1.5;\" x1=\"40\" x2=\"126\" y1=\"249.2969\" y2=\"249.2969\"/><text fill=\"#000000\" font-family=\"sans-serif\" font-size=\"14\" font-weight=\"bold\" lengthAdjust=\"spacingAndGlyphs\" textLength=\"73\" x=\"44\" y=\"241.9951\">Definitions</text></a><!--MD5=[de5ec2e2e8f62f467e546659f5068c88]\n",
       "cluster E5--><a href=\"psysml:ccb2f7ee-bd35-4426-a662-4cf2ccb8ae79\" target=\"_top\" title=\"psysml:ccb2f7ee-bd35-4426-a662-4cf2ccb8ae79\" xlink:actuate=\"onRequest\" xlink:href=\"psysml:ccb2f7ee-bd35-4426-a662-4cf2ccb8ae79\" xlink:show=\"new\" xlink:title=\"psysml:ccb2f7ee-bd35-4426-a662-4cf2ccb8ae79\" xlink:type=\"simple\"><polygon fill=\"#FFFFFF\" points=\"56,57,114,57,121,79.2969,229,79.2969,229,170,56,170,56,57\" style=\"stroke: #000000; stroke-width: 1.5;\"/><line style=\"stroke: #000000; stroke-width: 1.5;\" x1=\"56\" x2=\"121\" y1=\"79.2969\" y2=\"79.2969\"/><text fill=\"#000000\" font-family=\"sans-serif\" font-size=\"14\" font-weight=\"bold\" lengthAdjust=\"spacingAndGlyphs\" textLength=\"52\" x=\"60\" y=\"71.9951\">Usages</text></a><!--MD5=[09b614a08d8cba4a07c9adeb5e0fee81]\n",
       "class E3--><a href=\"psysml:659a1dfe-6b8d-4702-b827-b31a03710007\" target=\"_top\" title=\"psysml:659a1dfe-6b8d-4702-b827-b31a03710007\" xlink:actuate=\"onRequest\" xlink:href=\"psysml:659a1dfe-6b8d-4702-b827-b31a03710007\" xlink:show=\"new\" xlink:title=\"psysml:659a1dfe-6b8d-4702-b827-b31a03710007\" xlink:type=\"simple\"><rect fill=\"#FFFFFF\" height=\"45.9375\" id=\"E3\" style=\"stroke: #383838; stroke-width: 1.5;\" width=\"70\" x=\"161\" y=\"262\"/><text fill=\"#000000\" font-family=\"sans-serif\" font-size=\"12\" font-style=\"italic\" lengthAdjust=\"spacingAndGlyphs\" textLength=\"68\" x=\"162\" y=\"278.1387\">«part  def»</text><text fill=\"#000000\" font-family=\"sans-serif\" font-size=\"12\" lengthAdjust=\"spacingAndGlyphs\" textLength=\"45\" x=\"173.5\" y=\"292.1074\">Vehicle</text><line style=\"stroke: #383838; stroke-width: 1.5;\" x1=\"162\" x2=\"230\" y1=\"299.9375\" y2=\"299.9375\"/></a><!--MD5=[ebbe1d658d1005bcc118a6aa81145e00]\n",
       "class E4--><a href=\"psysml:659a1dfe-6b8d-4702-b827-b31a03710007\" target=\"_top\" title=\"psysml:659a1dfe-6b8d-4702-b827-b31a03710007\" xlink:actuate=\"onRequest\" xlink:href=\"psysml:659a1dfe-6b8d-4702-b827-b31a03710007\" xlink:show=\"new\" xlink:title=\"psysml:659a1dfe-6b8d-4702-b827-b31a03710007\" xlink:type=\"simple\"><rect fill=\"#FFFFFF\" height=\"45.9375\" id=\"E4\" style=\"stroke: #383838; stroke-width: 1.5;\" width=\"70\" x=\"56\" y=\"262\"/><text fill=\"#000000\" font-family=\"sans-serif\" font-size=\"12\" font-style=\"italic\" lengthAdjust=\"spacingAndGlyphs\" textLength=\"68\" x=\"57\" y=\"278.1387\">«part  def»</text><text fill=\"#000000\" font-family=\"sans-serif\" font-size=\"12\" lengthAdjust=\"spacingAndGlyphs\" textLength=\"45\" x=\"68.5\" y=\"292.1074\">Vehicle</text><line style=\"stroke: #383838; stroke-width: 1.5;\" x1=\"57\" x2=\"125\" y1=\"299.9375\" y2=\"299.9375\"/></a><!--MD5=[60a26617385b1d2d0262a64233df1f8d]\n",
       "class E6--><a href=\"psysml:783d7c15-c905-4c38-b30b-d01c61187577\" target=\"_top\" title=\"psysml:783d7c15-c905-4c38-b30b-d01c61187577\" xlink:actuate=\"onRequest\" xlink:href=\"psysml:783d7c15-c905-4c38-b30b-d01c61187577\" xlink:show=\"new\" xlink:title=\"psysml:783d7c15-c905-4c38-b30b-d01c61187577\" xlink:type=\"simple\"><rect fill=\"#FFFFFF\" height=\"45.9375\" id=\"E6\" rx=\"10\" ry=\"10\" style=\"stroke: #383838; stroke-width: 1.5;\" width=\"106\" x=\"99\" y=\"100\"/><text fill=\"#000000\" font-family=\"sans-serif\" font-size=\"12\" font-style=\"italic\" lengthAdjust=\"spacingAndGlyphs\" textLength=\"40\" x=\"132\" y=\"116.1387\">«part»</text><text fill=\"#000000\" font-family=\"sans-serif\" font-size=\"12\" lengthAdjust=\"spacingAndGlyphs\" textLength=\"96\" x=\"102\" y=\"130.1074\">vehicle: Vehicle</text><line style=\"stroke: #383838; stroke-width: 1.5;\" x1=\"100\" x2=\"204\" y1=\"137.9375\" y2=\"137.9375\"/></a><!--MD5=[1c62de2aa5b76f0fb657ff8443a1a700]\n",
       "link E5 to E4--><a href=\"psysml:8882fd51-4fce-4e08-923b-d836bd7610d5\" target=\"_top\" title=\"psysml:8882fd51-4fce-4e08-923b-d836bd7610d5\" xlink:actuate=\"onRequest\" xlink:href=\"psysml:8882fd51-4fce-4e08-923b-d836bd7610d5\" xlink:show=\"new\" xlink:title=\"psysml:8882fd51-4fce-4e08-923b-d836bd7610d5\" xlink:type=\"simple\"><path d=\"M64,170.0854 C64,170.5846 64,171.0855 64,171.588 C64,173.5977 64,175.6319 64,177.6823 C64,181.7831 64,185.9491 64,190.115 C64,223.4425 64,256.77 64,256.77 \" fill=\"none\" id=\"E5-&gt;E4\" style=\"stroke: #383838; stroke-width: 1.0; stroke-dasharray: 7.0,7.0;\"/><polygon fill=\"#383838\" points=\"64,261.77,68,252.77,64,256.77,60,252.77,64,261.77\" style=\"stroke: #383838; stroke-width: 1.0;\"/><text fill=\"#000000\" font-family=\"sans-serif\" font-size=\"13\" lengthAdjust=\"spacingAndGlyphs\" textLength=\"58\" x=\"73\" y=\"207.0669\">«import»</text></a><!--MD5=[f667431f98296947986a1a7595a31603]\n",
       "link E6 to E4--><a href=\"psysml:db353f76-c455-46cb-b105-6bd8058807fe\" target=\"_top\" title=\"psysml:db353f76-c455-46cb-b105-6bd8058807fe\" xlink:actuate=\"onRequest\" xlink:href=\"psysml:db353f76-c455-46cb-b105-6bd8058807fe\" xlink:show=\"new\" xlink:title=\"psysml:db353f76-c455-46cb-b105-6bd8058807fe\" xlink:type=\"simple\"><path d=\"M112.5,146.21 C112.5,146.21 112.5,241.83 112.5,241.83 \" fill=\"none\" id=\"E6-&gt;E4\" style=\"stroke: #383838; stroke-width: 1.0;\"/><polygon fill=\"#FFFFFF\" points=\"112.5,261.83,105.5,242.83,119.5,242.83,112.5,261.83\" style=\"stroke: #383838; stroke-width: 1.0;\"/><ellipse cx=\"107.5\" cy=\"237.13\" fill=\"#383838\" rx=\"2\" ry=\"2\" style=\"stroke: #383838; stroke-width: 1.0;\"/><ellipse cx=\"117.5\" cy=\"237.13\" fill=\"#383838\" rx=\"2\" ry=\"2\" style=\"stroke: #383838; stroke-width: 1.0;\"/></a><!--MD5=[88e73a07f9255033ba418a7150084e33]\n",
       "@startuml\r\n",
       "skinparam linetype ortho\r\n",
       "skinparam monochrome true\r\n",
       "skinparam classbackgroundcolor white\r\n",
       "skinparam shadowing false\r\n",
       "skinparam wrapWidth 300\r\n",
       "hide circle\r\n",
       "\r\n",
       "package \"AliasImport\" as E1  [[psysml:abc348a5-e8b0-46f2-97be-35eb1a9e9199 ]]  {\r\n",
       "package \"Definitions\" as E2  [[psysml:c5390b7c-a915-4e3b-b35e-1c2257f021d2 ]]  {\r\n",
       "comp def \"Vehicle\" as E3  <<(T,blue) part  def>> [[psysml:659a1dfe-6b8d-4702-b827-b31a03710007 ]] {\r\n",
       "}\r\n",
       "comp def \"Vehicle\" as E4  <<(T,blue) part  def>> [[psysml:659a1dfe-6b8d-4702-b827-b31a03710007 ]] {\r\n",
       "}\r\n",
       "}\r\n",
       "package \"Usages\" as E5  [[psysml:ccb2f7ee-bd35-4426-a662-4cf2ccb8ae79 ]]  {\r\n",
       "comp usage \"vehicle: Vehicle \" as E6  <<(T,blue) part>> [[psysml:783d7c15-c905-4c38-b30b-d01c61187577 ]] {\r\n",
       "}\r\n",
       "}\r\n",
       "}\r\n",
       "E5 ..> E4 [[psysml:8882fd51-4fce-4e08-923b-d836bd7610d5 ]] : <<import>>\r\n",
       "E6 - -:|> E4 [[psysml:db353f76-c455-46cb-b105-6bd8058807fe ]] \r\n",
       "@enduml\r\n",
       "\n",
       "PlantUML version 1.2020.13(Sat Jun 13 12:26:38 UTC 2020)\n",
       "(EPL source distribution)\n",
       "Java Runtime: OpenJDK Runtime Environment\n",
       "JVM: OpenJDK 64-Bit Server VM\n",
       "Default Encoding: UTF-8\n",
       "Language: en\n",
       "Country: null\n",
       "--></g></svg>"
      ]
     },
     "execution_count": 51,
     "metadata": {},
     "output_type": "execute_result"
    }
   ],
   "source": [
    "%viz --style=\"ORTHOLINE\" --view=\"Default\" \"AliasImport\""
   ]
  },
  {
   "cell_type": "code",
   "execution_count": 52,
   "id": "ae373ba8",
   "metadata": {
    "execution": {
     "iopub.execute_input": "2022-06-20T11:15:02.226558Z",
     "iopub.status.busy": "2022-06-20T11:15:02.226114Z",
     "iopub.status.idle": "2022-06-20T11:15:02.254732Z",
     "shell.execute_reply": "2022-06-20T11:15:02.253444Z"
    }
   },
   "outputs": [
    {
     "data": {
      "image/svg+xml": [
       "<?xml version=\"1.0\" encoding=\"UTF-8\" standalone=\"no\"?><svg xmlns=\"http://www.w3.org/2000/svg\" xmlns:xlink=\"http://www.w3.org/1999/xlink\" contentScriptType=\"application/ecmascript\" contentStyleType=\"text/css\" height=\"360px\" preserveAspectRatio=\"none\" style=\"width:293px;height:360px;\" version=\"1.1\" viewBox=\"0 0 293 360\" width=\"293px\" zoomAndPan=\"magnify\"><defs/><g><!--MD5=[fbc87193dbaf4d95561dea2c320d4a47]\n",
       "cluster E1--><a href=\"psysml:abc348a5-e8b0-46f2-97be-35eb1a9e9199\" target=\"_top\" title=\"psysml:abc348a5-e8b0-46f2-97be-35eb1a9e9199\" xlink:actuate=\"onRequest\" xlink:href=\"psysml:abc348a5-e8b0-46f2-97be-35eb1a9e9199\" xlink:show=\"new\" xlink:title=\"psysml:abc348a5-e8b0-46f2-97be-35eb1a9e9199\" xlink:type=\"simple\"><polygon fill=\"#FFFFFF\" points=\"16,6,97,6,104,28.2969,271,28.2969,271,348,16,348,16,6\" style=\"stroke: #000000; stroke-width: 1.5;\"/><line style=\"stroke: #000000; stroke-width: 1.5;\" x1=\"16\" x2=\"104\" y1=\"28.2969\" y2=\"28.2969\"/><text fill=\"#000000\" font-family=\"sans-serif\" font-size=\"14\" font-weight=\"bold\" lengthAdjust=\"spacingAndGlyphs\" textLength=\"75\" x=\"20\" y=\"20.9951\">AliasImport</text></a><!--MD5=[e4f7fae6ed58524ba242bb0b0d3be6b7]\n",
       "cluster E2--><a href=\"psysml:c5390b7c-a915-4e3b-b35e-1c2257f021d2\" target=\"_top\" title=\"psysml:c5390b7c-a915-4e3b-b35e-1c2257f021d2\" xlink:actuate=\"onRequest\" xlink:href=\"psysml:c5390b7c-a915-4e3b-b35e-1c2257f021d2\" xlink:show=\"new\" xlink:title=\"psysml:c5390b7c-a915-4e3b-b35e-1c2257f021d2\" xlink:type=\"simple\"><polygon fill=\"#FFFFFF\" points=\"40,227,119,227,126,249.2969,247,249.2969,247,324,40,324,40,227\" style=\"stroke: #000000; stroke-width: 1.5;\"/><line style=\"stroke: #000000; stroke-width: 1.5;\" x1=\"40\" x2=\"126\" y1=\"249.2969\" y2=\"249.2969\"/><text fill=\"#000000\" font-family=\"sans-serif\" font-size=\"14\" font-weight=\"bold\" lengthAdjust=\"spacingAndGlyphs\" textLength=\"73\" x=\"44\" y=\"241.9951\">Definitions</text></a><!--MD5=[de5ec2e2e8f62f467e546659f5068c88]\n",
       "cluster E5--><a href=\"psysml:ccb2f7ee-bd35-4426-a662-4cf2ccb8ae79\" target=\"_top\" title=\"psysml:ccb2f7ee-bd35-4426-a662-4cf2ccb8ae79\" xlink:actuate=\"onRequest\" xlink:href=\"psysml:ccb2f7ee-bd35-4426-a662-4cf2ccb8ae79\" xlink:show=\"new\" xlink:title=\"psysml:ccb2f7ee-bd35-4426-a662-4cf2ccb8ae79\" xlink:type=\"simple\"><polygon fill=\"#FFFFFF\" points=\"56,57,114,57,121,79.2969,229,79.2969,229,170,56,170,56,57\" style=\"stroke: #000000; stroke-width: 1.5;\"/><line style=\"stroke: #000000; stroke-width: 1.5;\" x1=\"56\" x2=\"121\" y1=\"79.2969\" y2=\"79.2969\"/><text fill=\"#000000\" font-family=\"sans-serif\" font-size=\"14\" font-weight=\"bold\" lengthAdjust=\"spacingAndGlyphs\" textLength=\"52\" x=\"60\" y=\"71.9951\">Usages</text></a><!--MD5=[09b614a08d8cba4a07c9adeb5e0fee81]\n",
       "class E3--><a href=\"psysml:659a1dfe-6b8d-4702-b827-b31a03710007\" target=\"_top\" title=\"psysml:659a1dfe-6b8d-4702-b827-b31a03710007\" xlink:actuate=\"onRequest\" xlink:href=\"psysml:659a1dfe-6b8d-4702-b827-b31a03710007\" xlink:show=\"new\" xlink:title=\"psysml:659a1dfe-6b8d-4702-b827-b31a03710007\" xlink:type=\"simple\"><rect fill=\"#FFFFFF\" height=\"45.9375\" id=\"E3\" style=\"stroke: #383838; stroke-width: 1.5;\" width=\"70\" x=\"161\" y=\"262\"/><text fill=\"#000000\" font-family=\"sans-serif\" font-size=\"12\" font-style=\"italic\" lengthAdjust=\"spacingAndGlyphs\" textLength=\"68\" x=\"162\" y=\"278.1387\">«part  def»</text><text fill=\"#000000\" font-family=\"sans-serif\" font-size=\"12\" lengthAdjust=\"spacingAndGlyphs\" textLength=\"45\" x=\"173.5\" y=\"292.1074\">Vehicle</text><line style=\"stroke: #383838; stroke-width: 1.5;\" x1=\"162\" x2=\"230\" y1=\"299.9375\" y2=\"299.9375\"/></a><!--MD5=[ebbe1d658d1005bcc118a6aa81145e00]\n",
       "class E4--><a href=\"psysml:659a1dfe-6b8d-4702-b827-b31a03710007\" target=\"_top\" title=\"psysml:659a1dfe-6b8d-4702-b827-b31a03710007\" xlink:actuate=\"onRequest\" xlink:href=\"psysml:659a1dfe-6b8d-4702-b827-b31a03710007\" xlink:show=\"new\" xlink:title=\"psysml:659a1dfe-6b8d-4702-b827-b31a03710007\" xlink:type=\"simple\"><rect fill=\"#FFFFFF\" height=\"45.9375\" id=\"E4\" style=\"stroke: #383838; stroke-width: 1.5;\" width=\"70\" x=\"56\" y=\"262\"/><text fill=\"#000000\" font-family=\"sans-serif\" font-size=\"12\" font-style=\"italic\" lengthAdjust=\"spacingAndGlyphs\" textLength=\"68\" x=\"57\" y=\"278.1387\">«part  def»</text><text fill=\"#000000\" font-family=\"sans-serif\" font-size=\"12\" lengthAdjust=\"spacingAndGlyphs\" textLength=\"45\" x=\"68.5\" y=\"292.1074\">Vehicle</text><line style=\"stroke: #383838; stroke-width: 1.5;\" x1=\"57\" x2=\"125\" y1=\"299.9375\" y2=\"299.9375\"/></a><!--MD5=[60a26617385b1d2d0262a64233df1f8d]\n",
       "class E6--><a href=\"psysml:783d7c15-c905-4c38-b30b-d01c61187577\" target=\"_top\" title=\"psysml:783d7c15-c905-4c38-b30b-d01c61187577\" xlink:actuate=\"onRequest\" xlink:href=\"psysml:783d7c15-c905-4c38-b30b-d01c61187577\" xlink:show=\"new\" xlink:title=\"psysml:783d7c15-c905-4c38-b30b-d01c61187577\" xlink:type=\"simple\"><rect fill=\"#FFFFFF\" height=\"45.9375\" id=\"E6\" rx=\"10\" ry=\"10\" style=\"stroke: #383838; stroke-width: 1.5;\" width=\"106\" x=\"99\" y=\"100\"/><text fill=\"#000000\" font-family=\"sans-serif\" font-size=\"12\" font-style=\"italic\" lengthAdjust=\"spacingAndGlyphs\" textLength=\"40\" x=\"132\" y=\"116.1387\">«part»</text><text fill=\"#000000\" font-family=\"sans-serif\" font-size=\"12\" lengthAdjust=\"spacingAndGlyphs\" textLength=\"96\" x=\"102\" y=\"130.1074\">vehicle: Vehicle</text><line style=\"stroke: #383838; stroke-width: 1.5;\" x1=\"100\" x2=\"204\" y1=\"137.9375\" y2=\"137.9375\"/></a><!--MD5=[1c62de2aa5b76f0fb657ff8443a1a700]\n",
       "link E5 to E4--><a href=\"psysml:8882fd51-4fce-4e08-923b-d836bd7610d5\" target=\"_top\" title=\"psysml:8882fd51-4fce-4e08-923b-d836bd7610d5\" xlink:actuate=\"onRequest\" xlink:href=\"psysml:8882fd51-4fce-4e08-923b-d836bd7610d5\" xlink:show=\"new\" xlink:title=\"psysml:8882fd51-4fce-4e08-923b-d836bd7610d5\" xlink:type=\"simple\"><path d=\"M64,170.0854 C64,170.5846 64,171.0855 64,171.588 C64,173.5977 64,175.6319 64,177.6823 C64,181.7831 64,185.9491 64,190.115 C64,223.4425 64,256.77 64,256.77 \" fill=\"none\" id=\"E5-&gt;E4\" style=\"stroke: #383838; stroke-width: 1.0; stroke-dasharray: 7.0,7.0;\"/><polygon fill=\"#383838\" points=\"64,261.77,68,252.77,64,256.77,60,252.77,64,261.77\" style=\"stroke: #383838; stroke-width: 1.0;\"/><text fill=\"#000000\" font-family=\"sans-serif\" font-size=\"13\" lengthAdjust=\"spacingAndGlyphs\" textLength=\"58\" x=\"73\" y=\"207.0669\">«import»</text></a><!--MD5=[f667431f98296947986a1a7595a31603]\n",
       "link E6 to E4--><a href=\"psysml:db353f76-c455-46cb-b105-6bd8058807fe\" target=\"_top\" title=\"psysml:db353f76-c455-46cb-b105-6bd8058807fe\" xlink:actuate=\"onRequest\" xlink:href=\"psysml:db353f76-c455-46cb-b105-6bd8058807fe\" xlink:show=\"new\" xlink:title=\"psysml:db353f76-c455-46cb-b105-6bd8058807fe\" xlink:type=\"simple\"><path d=\"M112.5,146.21 C112.5,146.21 112.5,241.83 112.5,241.83 \" fill=\"none\" id=\"E6-&gt;E4\" style=\"stroke: #383838; stroke-width: 1.0;\"/><polygon fill=\"#FFFFFF\" points=\"112.5,261.83,105.5,242.83,119.5,242.83,112.5,261.83\" style=\"stroke: #383838; stroke-width: 1.0;\"/><ellipse cx=\"107.5\" cy=\"237.13\" fill=\"#383838\" rx=\"2\" ry=\"2\" style=\"stroke: #383838; stroke-width: 1.0;\"/><ellipse cx=\"117.5\" cy=\"237.13\" fill=\"#383838\" rx=\"2\" ry=\"2\" style=\"stroke: #383838; stroke-width: 1.0;\"/></a><!--MD5=[88e73a07f9255033ba418a7150084e33]\n",
       "@startuml\r\n",
       "skinparam linetype ortho\r\n",
       "skinparam monochrome true\r\n",
       "skinparam classbackgroundcolor white\r\n",
       "skinparam shadowing false\r\n",
       "skinparam wrapWidth 300\r\n",
       "hide circle\r\n",
       "\r\n",
       "package \"AliasImport\" as E1  [[psysml:abc348a5-e8b0-46f2-97be-35eb1a9e9199 ]]  {\r\n",
       "package \"Definitions\" as E2  [[psysml:c5390b7c-a915-4e3b-b35e-1c2257f021d2 ]]  {\r\n",
       "comp def \"Vehicle\" as E3  <<(T,blue) part  def>> [[psysml:659a1dfe-6b8d-4702-b827-b31a03710007 ]] {\r\n",
       "}\r\n",
       "comp def \"Vehicle\" as E4  <<(T,blue) part  def>> [[psysml:659a1dfe-6b8d-4702-b827-b31a03710007 ]] {\r\n",
       "}\r\n",
       "}\r\n",
       "package \"Usages\" as E5  [[psysml:ccb2f7ee-bd35-4426-a662-4cf2ccb8ae79 ]]  {\r\n",
       "comp usage \"vehicle: Vehicle \" as E6  <<(T,blue) part>> [[psysml:783d7c15-c905-4c38-b30b-d01c61187577 ]] {\r\n",
       "}\r\n",
       "}\r\n",
       "}\r\n",
       "E5 ..> E4 [[psysml:8882fd51-4fce-4e08-923b-d836bd7610d5 ]] : <<import>>\r\n",
       "E6 - -:|> E4 [[psysml:db353f76-c455-46cb-b105-6bd8058807fe ]] \r\n",
       "@enduml\r\n",
       "\n",
       "PlantUML version 1.2020.13(Sat Jun 13 12:26:38 UTC 2020)\n",
       "(EPL source distribution)\n",
       "Java Runtime: OpenJDK Runtime Environment\n",
       "JVM: OpenJDK 64-Bit Server VM\n",
       "Default Encoding: UTF-8\n",
       "Language: en\n",
       "Country: null\n",
       "--></g></svg>"
      ]
     },
     "execution_count": 52,
     "metadata": {},
     "output_type": "execute_result"
    }
   ],
   "source": [
    "%viz --style=\"ORTHOLINE\" --view=\"Tree\" \"AliasImport\""
   ]
  },
  {
   "cell_type": "code",
   "execution_count": 53,
   "id": "27349b8c",
   "metadata": {
    "execution": {
     "iopub.execute_input": "2022-06-20T11:15:02.304439Z",
     "iopub.status.busy": "2022-06-20T11:15:02.303988Z",
     "iopub.status.idle": "2022-06-20T11:15:02.309114Z",
     "shell.execute_reply": "2022-06-20T11:15:02.309428Z"
    }
   },
   "outputs": [
    {
     "data": {
      "image/svg+xml": [
       "<?xml version=\"1.0\" encoding=\"UTF-8\" standalone=\"no\"?><svg xmlns=\"http://www.w3.org/2000/svg\" xmlns:xlink=\"http://www.w3.org/1999/xlink\" contentScriptType=\"application/ecmascript\" contentStyleType=\"text/css\" height=\"12px\" preserveAspectRatio=\"none\" style=\"width:12px;height:12px;\" version=\"1.1\" viewBox=\"0 0 12 12\" width=\"12px\" zoomAndPan=\"magnify\"><defs/><g><!--MD5=[97d6f38768b311333d388e66b2b27985]\n",
       "@startuml\r\n",
       "skinparam linetype ortho\r\n",
       "skinparam monochrome true\r\n",
       "skinparam classbackgroundcolor white\r\n",
       "skinparam shadowing false\r\n",
       "skinparam wrapWidth 300\r\n",
       "hide circle\r\n",
       "\r\n",
       "@enduml\r\n",
       "\n",
       "PlantUML version 1.2020.13(Sat Jun 13 12:26:38 UTC 2020)\n",
       "(EPL source distribution)\n",
       "Java Runtime: OpenJDK Runtime Environment\n",
       "JVM: OpenJDK 64-Bit Server VM\n",
       "Default Encoding: UTF-8\n",
       "Language: en\n",
       "Country: null\n",
       "--></g></svg>"
      ]
     },
     "execution_count": 53,
     "metadata": {},
     "output_type": "execute_result"
    }
   ],
   "source": [
    "%viz --style=\"ORTHOLINE\" --view=\"State\" \"AliasImport\""
   ]
  },
  {
   "cell_type": "code",
   "execution_count": 54,
   "id": "355017be",
   "metadata": {
    "execution": {
     "iopub.execute_input": "2022-06-20T11:15:02.359118Z",
     "iopub.status.busy": "2022-06-20T11:15:02.358660Z",
     "iopub.status.idle": "2022-06-20T11:15:02.386928Z",
     "shell.execute_reply": "2022-06-20T11:15:02.385551Z"
    }
   },
   "outputs": [
    {
     "data": {
      "image/svg+xml": [
       "<?xml version=\"1.0\" encoding=\"UTF-8\" standalone=\"no\"?><svg xmlns=\"http://www.w3.org/2000/svg\" xmlns:xlink=\"http://www.w3.org/1999/xlink\" contentScriptType=\"application/ecmascript\" contentStyleType=\"text/css\" height=\"351px\" preserveAspectRatio=\"none\" style=\"width:302px;height:351px;\" version=\"1.1\" viewBox=\"0 0 302 351\" width=\"302px\" zoomAndPan=\"magnify\"><defs/><g><!--MD5=[fbc87193dbaf4d95561dea2c320d4a47]\n",
       "cluster E1--><a href=\"psysml:abc348a5-e8b0-46f2-97be-35eb1a9e9199\" target=\"_top\" title=\"psysml:abc348a5-e8b0-46f2-97be-35eb1a9e9199\" xlink:actuate=\"onRequest\" xlink:href=\"psysml:abc348a5-e8b0-46f2-97be-35eb1a9e9199\" xlink:show=\"new\" xlink:title=\"psysml:abc348a5-e8b0-46f2-97be-35eb1a9e9199\" xlink:type=\"simple\"><polygon fill=\"#FFFFFF\" points=\"16,6,97,6,104,28.2969,280,28.2969,280,339,16,339,16,6\" style=\"stroke: #000000; stroke-width: 1.5;\"/><line style=\"stroke: #000000; stroke-width: 1.5;\" x1=\"16\" x2=\"104\" y1=\"28.2969\" y2=\"28.2969\"/><text fill=\"#000000\" font-family=\"sans-serif\" font-size=\"14\" font-weight=\"bold\" lengthAdjust=\"spacingAndGlyphs\" textLength=\"75\" x=\"20\" y=\"20.9951\">AliasImport</text></a><!--MD5=[e4f7fae6ed58524ba242bb0b0d3be6b7]\n",
       "cluster E2--><a href=\"psysml:c5390b7c-a915-4e3b-b35e-1c2257f021d2\" target=\"_top\" title=\"psysml:c5390b7c-a915-4e3b-b35e-1c2257f021d2\" xlink:actuate=\"onRequest\" xlink:href=\"psysml:c5390b7c-a915-4e3b-b35e-1c2257f021d2\" xlink:show=\"new\" xlink:title=\"psysml:c5390b7c-a915-4e3b-b35e-1c2257f021d2\" xlink:type=\"simple\"><polygon fill=\"#FFFFFF\" points=\"40,221,119,221,126,243.2969,256,243.2969,256,315,40,315,40,221\" style=\"stroke: #000000; stroke-width: 1.5;\"/><line style=\"stroke: #000000; stroke-width: 1.5;\" x1=\"40\" x2=\"126\" y1=\"243.2969\" y2=\"243.2969\"/><text fill=\"#000000\" font-family=\"sans-serif\" font-size=\"14\" font-weight=\"bold\" lengthAdjust=\"spacingAndGlyphs\" textLength=\"73\" x=\"44\" y=\"235.9951\">Definitions</text></a><!--MD5=[de5ec2e2e8f62f467e546659f5068c88]\n",
       "cluster E5--><a href=\"psysml:ccb2f7ee-bd35-4426-a662-4cf2ccb8ae79\" target=\"_top\" title=\"psysml:ccb2f7ee-bd35-4426-a662-4cf2ccb8ae79\" xlink:actuate=\"onRequest\" xlink:href=\"psysml:ccb2f7ee-bd35-4426-a662-4cf2ccb8ae79\" xlink:show=\"new\" xlink:title=\"psysml:ccb2f7ee-bd35-4426-a662-4cf2ccb8ae79\" xlink:type=\"simple\"><polygon fill=\"#FFFFFF\" points=\"56,57,114,57,121,79.2969,230,79.2969,230,164,56,164,56,57\" style=\"stroke: #000000; stroke-width: 1.5;\"/><line style=\"stroke: #000000; stroke-width: 1.5;\" x1=\"56\" x2=\"121\" y1=\"79.2969\" y2=\"79.2969\"/><text fill=\"#000000\" font-family=\"sans-serif\" font-size=\"14\" font-weight=\"bold\" lengthAdjust=\"spacingAndGlyphs\" textLength=\"52\" x=\"60\" y=\"71.9951\">Usages</text></a><g id=\"E1.E2.E3\"><a href=\"psysml:659a1dfe-6b8d-4702-b827-b31a03710007\" target=\"_top\" title=\"psysml:659a1dfe-6b8d-4702-b827-b31a03710007\" xlink:actuate=\"onRequest\" xlink:href=\"psysml:659a1dfe-6b8d-4702-b827-b31a03710007\" xlink:show=\"new\" xlink:title=\"psysml:659a1dfe-6b8d-4702-b827-b31a03710007\" xlink:type=\"simple\"><rect fill=\"#FFFFFF\" height=\"42.9375\" id=\"E3\" style=\"stroke: #383838; stroke-width: 1.5;\" width=\"75\" x=\"165.5\" y=\"256\"/><rect fill=\"#F8F8F8\" height=\"37.9375\" style=\"stroke: #383838; stroke-width: 1.5;\" width=\"75\" x=\"165.5\" y=\"256\"/><text fill=\"#000000\" font-family=\"sans-serif\" font-size=\"12\" font-style=\"italic\" lengthAdjust=\"spacingAndGlyphs\" textLength=\"68\" x=\"169\" y=\"272.1387\">«part  def»</text><text fill=\"#000000\" font-family=\"sans-serif\" font-size=\"12\" lengthAdjust=\"spacingAndGlyphs\" textLength=\"45\" x=\"180.5\" y=\"286.1074\">Vehicle</text></a></g><g id=\"E1.E2.E4\"><a href=\"psysml:659a1dfe-6b8d-4702-b827-b31a03710007\" target=\"_top\" title=\"psysml:659a1dfe-6b8d-4702-b827-b31a03710007\" xlink:actuate=\"onRequest\" xlink:href=\"psysml:659a1dfe-6b8d-4702-b827-b31a03710007\" xlink:show=\"new\" xlink:title=\"psysml:659a1dfe-6b8d-4702-b827-b31a03710007\" xlink:type=\"simple\"><rect fill=\"#FFFFFF\" height=\"42.9375\" id=\"E4\" style=\"stroke: #383838; stroke-width: 1.5;\" width=\"75\" x=\"55.5\" y=\"256\"/><rect fill=\"#F8F8F8\" height=\"37.9375\" style=\"stroke: #383838; stroke-width: 1.5;\" width=\"75\" x=\"55.5\" y=\"256\"/><text fill=\"#000000\" font-family=\"sans-serif\" font-size=\"12\" font-style=\"italic\" lengthAdjust=\"spacingAndGlyphs\" textLength=\"68\" x=\"59\" y=\"272.1387\">«part  def»</text><text fill=\"#000000\" font-family=\"sans-serif\" font-size=\"12\" lengthAdjust=\"spacingAndGlyphs\" textLength=\"45\" x=\"70.5\" y=\"286.1074\">Vehicle</text></a></g><g id=\"E1.E5.E6\"><a href=\"psysml:783d7c15-c905-4c38-b30b-d01c61187577\" target=\"_top\" title=\"psysml:783d7c15-c905-4c38-b30b-d01c61187577\" xlink:actuate=\"onRequest\" xlink:href=\"psysml:783d7c15-c905-4c38-b30b-d01c61187577\" xlink:show=\"new\" xlink:title=\"psysml:783d7c15-c905-4c38-b30b-d01c61187577\" xlink:type=\"simple\"><rect fill=\"#FFFFFF\" height=\"40\" id=\"E6\" rx=\"10\" ry=\"10\" style=\"stroke: #383838; stroke-width: 1.5;\" width=\"107\" x=\"99.5\" y=\"100\"/><rect fill=\"#F8F8F8\" height=\"23.9688\" rx=\"10\" ry=\"10\" style=\"stroke: #F8F8F8; stroke-width: 1.5;\" width=\"107\" x=\"99.5\" y=\"100\"/><rect fill=\"#F8F8F8\" height=\"10\" style=\"stroke: #F8F8F8; stroke-width: 1.5;\" width=\"107\" x=\"99.5\" y=\"113.9688\"/><rect fill=\"none\" height=\"40\" id=\"E6\" rx=\"10\" ry=\"10\" style=\"stroke: #383838; stroke-width: 1.5;\" width=\"107\" x=\"99.5\" y=\"100\"/><text fill=\"#000000\" font-family=\"sans-serif\" font-size=\"12\" lengthAdjust=\"spacingAndGlyphs\" textLength=\"96\" x=\"105\" y=\"116.1387\">vehicle: Vehicle</text></a></g><!--MD5=[1c62de2aa5b76f0fb657ff8443a1a700]\n",
       "link E5 to E4--><a href=\"psysml:8882fd51-4fce-4e08-923b-d836bd7610d5\" target=\"_top\" title=\"psysml:8882fd51-4fce-4e08-923b-d836bd7610d5\" xlink:actuate=\"onRequest\" xlink:href=\"psysml:8882fd51-4fce-4e08-923b-d836bd7610d5\" xlink:show=\"new\" xlink:title=\"psysml:8882fd51-4fce-4e08-923b-d836bd7610d5\" xlink:type=\"simple\"><path d=\"M64,164.6076 C64,165.5779 64,166.5551 64,167.5382 C64,169.5045 64,171.4947 64,173.5009 C64,177.5131 64,181.5891 64,185.665 C64,218.2725 64,250.88 64,250.88 \" fill=\"none\" id=\"E5-&gt;E4\" style=\"stroke: #383838; stroke-width: 1.0; stroke-dasharray: 7.0,7.0;\"/><polygon fill=\"#383838\" points=\"64,255.88,68,246.88,64,250.88,60,246.88,64,255.88\" style=\"stroke: #383838; stroke-width: 1.0;\"/><text fill=\"#000000\" font-family=\"sans-serif\" font-size=\"13\" lengthAdjust=\"spacingAndGlyphs\" textLength=\"58\" x=\"74\" y=\"201.0669\">«import»</text></a><!--MD5=[f667431f98296947986a1a7595a31603]\n",
       "link E6 to E4--><a href=\"psysml:db353f76-c455-46cb-b105-6bd8058807fe\" target=\"_top\" title=\"psysml:db353f76-c455-46cb-b105-6bd8058807fe\" xlink:actuate=\"onRequest\" xlink:href=\"psysml:db353f76-c455-46cb-b105-6bd8058807fe\" xlink:show=\"new\" xlink:title=\"psysml:db353f76-c455-46cb-b105-6bd8058807fe\" xlink:type=\"simple\"><path d=\"M115,140.27 C115,140.27 115,235.8 115,235.8 \" fill=\"none\" id=\"E6-&gt;E4\" style=\"stroke: #383838; stroke-width: 1.0;\"/><polygon fill=\"#FFFFFF\" points=\"115,255.8,108,236.8,122,236.8,115,255.8\" style=\"stroke: #383838; stroke-width: 1.0;\"/><ellipse cx=\"110\" cy=\"231.1\" fill=\"#383838\" rx=\"2\" ry=\"2\" style=\"stroke: #383838; stroke-width: 1.0;\"/><ellipse cx=\"120\" cy=\"231.1\" fill=\"#383838\" rx=\"2\" ry=\"2\" style=\"stroke: #383838; stroke-width: 1.0;\"/></a><!--MD5=[5ac4b7ab691d5020cc2980893653dce7]\n",
       "@startuml\r\n",
       "skinparam ranksep 10\r\n",
       "skinparam rectangle {\r\n",
       " backgroundColor<<block>> LightGreen\r\n",
       "}\r\n",
       "skinparam linetype ortho\r\n",
       "skinparam monochrome true\r\n",
       "skinparam classbackgroundcolor white\r\n",
       "skinparam shadowing false\r\n",
       "skinparam wrapWidth 300\r\n",
       "hide circle\r\n",
       "\r\n",
       "package \"AliasImport\" as E1  [[psysml:abc348a5-e8b0-46f2-97be-35eb1a9e9199 ]]  {\r\n",
       "package \"Definitions\" as E2  [[psysml:c5390b7c-a915-4e3b-b35e-1c2257f021d2 ]]  {\r\n",
       "rec def \"Vehicle\" as E3  <<(T,blue) part  def>> [[psysml:659a1dfe-6b8d-4702-b827-b31a03710007 ]] {\r\n",
       "}\r\n",
       "rec def \"Vehicle\" as E4  <<(T,blue) part  def>> [[psysml:659a1dfe-6b8d-4702-b827-b31a03710007 ]] {\r\n",
       "}\r\n",
       "}\r\n",
       "package \"Usages\" as E5  [[psysml:ccb2f7ee-bd35-4426-a662-4cf2ccb8ae79 ]]  {\r\n",
       "rec usage \"vehicle: Vehicle\" as E6  [[psysml:783d7c15-c905-4c38-b30b-d01c61187577 ]] {\r\n",
       "}\r\n",
       "}\r\n",
       "}\r\n",
       "E5 ..> E4 [[psysml:8882fd51-4fce-4e08-923b-d836bd7610d5 ]] : <<import>>\r\n",
       "E6 - -:|> E4 [[psysml:db353f76-c455-46cb-b105-6bd8058807fe ]] \r\n",
       "@enduml\r\n",
       "\n",
       "PlantUML version 1.2020.13(Sat Jun 13 12:26:38 UTC 2020)\n",
       "(EPL source distribution)\n",
       "Java Runtime: OpenJDK Runtime Environment\n",
       "JVM: OpenJDK 64-Bit Server VM\n",
       "Default Encoding: UTF-8\n",
       "Language: en\n",
       "Country: null\n",
       "--></g></svg>"
      ]
     },
     "execution_count": 54,
     "metadata": {},
     "output_type": "execute_result"
    }
   ],
   "source": [
    "%viz --style=\"ORTHOLINE\" --view=\"Interconnection\" \"AliasImport\""
   ]
  },
  {
   "cell_type": "code",
   "execution_count": 55,
   "id": "2b45b908",
   "metadata": {
    "execution": {
     "iopub.execute_input": "2022-06-20T11:15:02.436441Z",
     "iopub.status.busy": "2022-06-20T11:15:02.435991Z",
     "iopub.status.idle": "2022-06-20T11:15:02.441343Z",
     "shell.execute_reply": "2022-06-20T11:15:02.440903Z"
    }
   },
   "outputs": [
    {
     "data": {
      "image/svg+xml": [
       "<?xml version=\"1.0\" encoding=\"UTF-8\" standalone=\"no\"?><svg xmlns=\"http://www.w3.org/2000/svg\" xmlns:xlink=\"http://www.w3.org/1999/xlink\" contentScriptType=\"application/ecmascript\" contentStyleType=\"text/css\" height=\"12px\" preserveAspectRatio=\"none\" style=\"width:12px;height:12px;\" version=\"1.1\" viewBox=\"0 0 12 12\" width=\"12px\" zoomAndPan=\"magnify\"><defs/><g><!--MD5=[72934c63077099a26744516a776b4749]\n",
       "@startuml\r\n",
       "skinparam ranksep 8\r\n",
       "skinparam linetype ortho\r\n",
       "skinparam monochrome true\r\n",
       "skinparam classbackgroundcolor white\r\n",
       "skinparam shadowing false\r\n",
       "skinparam wrapWidth 300\r\n",
       "hide circle\r\n",
       "\r\n",
       "@enduml\r\n",
       "\n",
       "PlantUML version 1.2020.13(Sat Jun 13 12:26:38 UTC 2020)\n",
       "(EPL source distribution)\n",
       "Java Runtime: OpenJDK Runtime Environment\n",
       "JVM: OpenJDK 64-Bit Server VM\n",
       "Default Encoding: UTF-8\n",
       "Language: en\n",
       "Country: null\n",
       "--></g></svg>"
      ]
     },
     "execution_count": 55,
     "metadata": {},
     "output_type": "execute_result"
    }
   ],
   "source": [
    "%viz --style=\"ORTHOLINE\" --view=\"Action\" \"AliasImport\""
   ]
  },
  {
   "cell_type": "code",
   "execution_count": 56,
   "id": "5c690d99",
   "metadata": {
    "execution": {
     "iopub.execute_input": "2022-06-20T11:15:02.490764Z",
     "iopub.status.busy": "2022-06-20T11:15:02.490292Z",
     "iopub.status.idle": "2022-06-20T11:15:02.495875Z",
     "shell.execute_reply": "2022-06-20T11:15:02.495445Z"
    }
   },
   "outputs": [
    {
     "data": {
      "image/svg+xml": [
       "<?xml version=\"1.0\" encoding=\"UTF-8\" standalone=\"no\"?><svg xmlns=\"http://www.w3.org/2000/svg\" xmlns:xlink=\"http://www.w3.org/1999/xlink\" contentScriptType=\"application/ecmascript\" contentStyleType=\"text/css\" height=\"12px\" preserveAspectRatio=\"none\" style=\"width:12px;height:12px;\" version=\"1.1\" viewBox=\"0 0 12 12\" width=\"12px\" zoomAndPan=\"magnify\"><defs/><g><!--MD5=[30fc1de5121c5abddedd55b44417fde8]\n",
       "@startuml\r\n",
       "skinparam roundcorner 20\r\n",
       "skinparam BoxPadding 20\r\n",
       "skinparam SequenceBoxBackgroundColor #white\r\n",
       "skinparam style strictuml\r\n",
       "skinparam maxMessageSize 100\r\n",
       "skinparam linetype ortho\r\n",
       "skinparam monochrome true\r\n",
       "skinparam classbackgroundcolor white\r\n",
       "skinparam shadowing false\r\n",
       "skinparam wrapWidth 300\r\n",
       "hide circle\r\n",
       "\r\n",
       "@enduml\r\n",
       "\n",
       "PlantUML version 1.2020.13(Sat Jun 13 12:26:38 UTC 2020)\n",
       "(EPL source distribution)\n",
       "Java Runtime: OpenJDK Runtime Environment\n",
       "JVM: OpenJDK 64-Bit Server VM\n",
       "Default Encoding: UTF-8\n",
       "Language: en\n",
       "Country: null\n",
       "--></g></svg>"
      ]
     },
     "execution_count": 56,
     "metadata": {},
     "output_type": "execute_result"
    }
   ],
   "source": [
    "%viz --style=\"ORTHOLINE\" --view=\"Sequence\" \"AliasImport\""
   ]
  },
  {
   "cell_type": "code",
   "execution_count": 57,
   "id": "3ab8d6e0",
   "metadata": {
    "execution": {
     "iopub.execute_input": "2022-06-20T11:15:02.545570Z",
     "iopub.status.busy": "2022-06-20T11:15:02.545099Z",
     "iopub.status.idle": "2022-06-20T11:15:02.573437Z",
     "shell.execute_reply": "2022-06-20T11:15:02.571935Z"
    }
   },
   "outputs": [
    {
     "data": {
      "image/svg+xml": [
       "<?xml version=\"1.0\" encoding=\"UTF-8\" standalone=\"no\"?><svg xmlns=\"http://www.w3.org/2000/svg\" xmlns:xlink=\"http://www.w3.org/1999/xlink\" contentScriptType=\"application/ecmascript\" contentStyleType=\"text/css\" height=\"360px\" preserveAspectRatio=\"none\" style=\"width:293px;height:360px;\" version=\"1.1\" viewBox=\"0 0 293 360\" width=\"293px\" zoomAndPan=\"magnify\"><defs/><g><!--MD5=[fbc87193dbaf4d95561dea2c320d4a47]\n",
       "cluster E1--><a href=\"psysml:abc348a5-e8b0-46f2-97be-35eb1a9e9199\" target=\"_top\" title=\"psysml:abc348a5-e8b0-46f2-97be-35eb1a9e9199\" xlink:actuate=\"onRequest\" xlink:href=\"psysml:abc348a5-e8b0-46f2-97be-35eb1a9e9199\" xlink:show=\"new\" xlink:title=\"psysml:abc348a5-e8b0-46f2-97be-35eb1a9e9199\" xlink:type=\"simple\"><polygon fill=\"#FFFFFF\" points=\"16,6,97,6,104,28.2969,271,28.2969,271,348,16,348,16,6\" style=\"stroke: #000000; stroke-width: 1.5;\"/><line style=\"stroke: #000000; stroke-width: 1.5;\" x1=\"16\" x2=\"104\" y1=\"28.2969\" y2=\"28.2969\"/><text fill=\"#000000\" font-family=\"sans-serif\" font-size=\"14\" font-weight=\"bold\" lengthAdjust=\"spacingAndGlyphs\" textLength=\"75\" x=\"20\" y=\"20.9951\">AliasImport</text></a><!--MD5=[e4f7fae6ed58524ba242bb0b0d3be6b7]\n",
       "cluster E2--><a href=\"psysml:c5390b7c-a915-4e3b-b35e-1c2257f021d2\" target=\"_top\" title=\"psysml:c5390b7c-a915-4e3b-b35e-1c2257f021d2\" xlink:actuate=\"onRequest\" xlink:href=\"psysml:c5390b7c-a915-4e3b-b35e-1c2257f021d2\" xlink:show=\"new\" xlink:title=\"psysml:c5390b7c-a915-4e3b-b35e-1c2257f021d2\" xlink:type=\"simple\"><polygon fill=\"#FFFFFF\" points=\"40,227,119,227,126,249.2969,247,249.2969,247,324,40,324,40,227\" style=\"stroke: #000000; stroke-width: 1.5;\"/><line style=\"stroke: #000000; stroke-width: 1.5;\" x1=\"40\" x2=\"126\" y1=\"249.2969\" y2=\"249.2969\"/><text fill=\"#000000\" font-family=\"sans-serif\" font-size=\"14\" font-weight=\"bold\" lengthAdjust=\"spacingAndGlyphs\" textLength=\"73\" x=\"44\" y=\"241.9951\">Definitions</text></a><!--MD5=[de5ec2e2e8f62f467e546659f5068c88]\n",
       "cluster E5--><a href=\"psysml:ccb2f7ee-bd35-4426-a662-4cf2ccb8ae79\" target=\"_top\" title=\"psysml:ccb2f7ee-bd35-4426-a662-4cf2ccb8ae79\" xlink:actuate=\"onRequest\" xlink:href=\"psysml:ccb2f7ee-bd35-4426-a662-4cf2ccb8ae79\" xlink:show=\"new\" xlink:title=\"psysml:ccb2f7ee-bd35-4426-a662-4cf2ccb8ae79\" xlink:type=\"simple\"><polygon fill=\"#FFFFFF\" points=\"56,57,114,57,121,79.2969,229,79.2969,229,170,56,170,56,57\" style=\"stroke: #000000; stroke-width: 1.5;\"/><line style=\"stroke: #000000; stroke-width: 1.5;\" x1=\"56\" x2=\"121\" y1=\"79.2969\" y2=\"79.2969\"/><text fill=\"#000000\" font-family=\"sans-serif\" font-size=\"14\" font-weight=\"bold\" lengthAdjust=\"spacingAndGlyphs\" textLength=\"52\" x=\"60\" y=\"71.9951\">Usages</text></a><!--MD5=[09b614a08d8cba4a07c9adeb5e0fee81]\n",
       "class E3--><a href=\"psysml:659a1dfe-6b8d-4702-b827-b31a03710007\" target=\"_top\" title=\"psysml:659a1dfe-6b8d-4702-b827-b31a03710007\" xlink:actuate=\"onRequest\" xlink:href=\"psysml:659a1dfe-6b8d-4702-b827-b31a03710007\" xlink:show=\"new\" xlink:title=\"psysml:659a1dfe-6b8d-4702-b827-b31a03710007\" xlink:type=\"simple\"><rect fill=\"#FFFFFF\" height=\"45.9375\" id=\"E3\" style=\"stroke: #383838; stroke-width: 1.5;\" width=\"70\" x=\"161\" y=\"262\"/><text fill=\"#000000\" font-family=\"sans-serif\" font-size=\"12\" font-style=\"italic\" lengthAdjust=\"spacingAndGlyphs\" textLength=\"68\" x=\"162\" y=\"278.1387\">«part  def»</text><text fill=\"#000000\" font-family=\"sans-serif\" font-size=\"12\" lengthAdjust=\"spacingAndGlyphs\" textLength=\"45\" x=\"173.5\" y=\"292.1074\">Vehicle</text><line style=\"stroke: #383838; stroke-width: 1.5;\" x1=\"162\" x2=\"230\" y1=\"299.9375\" y2=\"299.9375\"/></a><!--MD5=[ebbe1d658d1005bcc118a6aa81145e00]\n",
       "class E4--><a href=\"psysml:659a1dfe-6b8d-4702-b827-b31a03710007\" target=\"_top\" title=\"psysml:659a1dfe-6b8d-4702-b827-b31a03710007\" xlink:actuate=\"onRequest\" xlink:href=\"psysml:659a1dfe-6b8d-4702-b827-b31a03710007\" xlink:show=\"new\" xlink:title=\"psysml:659a1dfe-6b8d-4702-b827-b31a03710007\" xlink:type=\"simple\"><rect fill=\"#FFFFFF\" height=\"45.9375\" id=\"E4\" style=\"stroke: #383838; stroke-width: 1.5;\" width=\"70\" x=\"56\" y=\"262\"/><text fill=\"#000000\" font-family=\"sans-serif\" font-size=\"12\" font-style=\"italic\" lengthAdjust=\"spacingAndGlyphs\" textLength=\"68\" x=\"57\" y=\"278.1387\">«part  def»</text><text fill=\"#000000\" font-family=\"sans-serif\" font-size=\"12\" lengthAdjust=\"spacingAndGlyphs\" textLength=\"45\" x=\"68.5\" y=\"292.1074\">Vehicle</text><line style=\"stroke: #383838; stroke-width: 1.5;\" x1=\"57\" x2=\"125\" y1=\"299.9375\" y2=\"299.9375\"/></a><!--MD5=[60a26617385b1d2d0262a64233df1f8d]\n",
       "class E6--><a href=\"psysml:783d7c15-c905-4c38-b30b-d01c61187577\" target=\"_top\" title=\"psysml:783d7c15-c905-4c38-b30b-d01c61187577\" xlink:actuate=\"onRequest\" xlink:href=\"psysml:783d7c15-c905-4c38-b30b-d01c61187577\" xlink:show=\"new\" xlink:title=\"psysml:783d7c15-c905-4c38-b30b-d01c61187577\" xlink:type=\"simple\"><rect fill=\"#FFFFFF\" height=\"45.9375\" id=\"E6\" rx=\"10\" ry=\"10\" style=\"stroke: #383838; stroke-width: 1.5;\" width=\"106\" x=\"99\" y=\"100\"/><text fill=\"#000000\" font-family=\"sans-serif\" font-size=\"12\" font-style=\"italic\" lengthAdjust=\"spacingAndGlyphs\" textLength=\"40\" x=\"132\" y=\"116.1387\">«part»</text><text fill=\"#000000\" font-family=\"sans-serif\" font-size=\"12\" lengthAdjust=\"spacingAndGlyphs\" textLength=\"96\" x=\"102\" y=\"130.1074\">vehicle: Vehicle</text><line style=\"stroke: #383838; stroke-width: 1.5;\" x1=\"100\" x2=\"204\" y1=\"137.9375\" y2=\"137.9375\"/></a><!--MD5=[1c62de2aa5b76f0fb657ff8443a1a700]\n",
       "link E5 to E4--><a href=\"psysml:8882fd51-4fce-4e08-923b-d836bd7610d5\" target=\"_top\" title=\"psysml:8882fd51-4fce-4e08-923b-d836bd7610d5\" xlink:actuate=\"onRequest\" xlink:href=\"psysml:8882fd51-4fce-4e08-923b-d836bd7610d5\" xlink:show=\"new\" xlink:title=\"psysml:8882fd51-4fce-4e08-923b-d836bd7610d5\" xlink:type=\"simple\"><path d=\"M64,170.0854 C64,170.5846 64,171.0855 64,171.588 C64,173.5977 64,175.6319 64,177.6823 C64,181.7831 64,185.9491 64,190.115 C64,223.4425 64,256.77 64,256.77 \" fill=\"none\" id=\"E5-&gt;E4\" style=\"stroke: #383838; stroke-width: 1.0; stroke-dasharray: 7.0,7.0;\"/><polygon fill=\"#383838\" points=\"64,261.77,68,252.77,64,256.77,60,252.77,64,261.77\" style=\"stroke: #383838; stroke-width: 1.0;\"/><text fill=\"#000000\" font-family=\"sans-serif\" font-size=\"13\" lengthAdjust=\"spacingAndGlyphs\" textLength=\"58\" x=\"73\" y=\"207.0669\">«import»</text></a><!--MD5=[f667431f98296947986a1a7595a31603]\n",
       "link E6 to E4--><a href=\"psysml:db353f76-c455-46cb-b105-6bd8058807fe\" target=\"_top\" title=\"psysml:db353f76-c455-46cb-b105-6bd8058807fe\" xlink:actuate=\"onRequest\" xlink:href=\"psysml:db353f76-c455-46cb-b105-6bd8058807fe\" xlink:show=\"new\" xlink:title=\"psysml:db353f76-c455-46cb-b105-6bd8058807fe\" xlink:type=\"simple\"><path d=\"M112.5,146.21 C112.5,146.21 112.5,241.83 112.5,241.83 \" fill=\"none\" id=\"E6-&gt;E4\" style=\"stroke: #383838; stroke-width: 1.0;\"/><polygon fill=\"#FFFFFF\" points=\"112.5,261.83,105.5,242.83,119.5,242.83,112.5,261.83\" style=\"stroke: #383838; stroke-width: 1.0;\"/><ellipse cx=\"107.5\" cy=\"237.13\" fill=\"#383838\" rx=\"2\" ry=\"2\" style=\"stroke: #383838; stroke-width: 1.0;\"/><ellipse cx=\"117.5\" cy=\"237.13\" fill=\"#383838\" rx=\"2\" ry=\"2\" style=\"stroke: #383838; stroke-width: 1.0;\"/></a><!--MD5=[88e73a07f9255033ba418a7150084e33]\n",
       "@startuml\r\n",
       "skinparam linetype ortho\r\n",
       "skinparam monochrome true\r\n",
       "skinparam classbackgroundcolor white\r\n",
       "skinparam shadowing false\r\n",
       "skinparam wrapWidth 300\r\n",
       "hide circle\r\n",
       "\r\n",
       "package \"AliasImport\" as E1  [[psysml:abc348a5-e8b0-46f2-97be-35eb1a9e9199 ]]  {\r\n",
       "package \"Definitions\" as E2  [[psysml:c5390b7c-a915-4e3b-b35e-1c2257f021d2 ]]  {\r\n",
       "comp def \"Vehicle\" as E3  <<(T,blue) part  def>> [[psysml:659a1dfe-6b8d-4702-b827-b31a03710007 ]] {\r\n",
       "}\r\n",
       "comp def \"Vehicle\" as E4  <<(T,blue) part  def>> [[psysml:659a1dfe-6b8d-4702-b827-b31a03710007 ]] {\r\n",
       "}\r\n",
       "}\r\n",
       "package \"Usages\" as E5  [[psysml:ccb2f7ee-bd35-4426-a662-4cf2ccb8ae79 ]]  {\r\n",
       "comp usage \"vehicle: Vehicle \" as E6  <<(T,blue) part>> [[psysml:783d7c15-c905-4c38-b30b-d01c61187577 ]] {\r\n",
       "}\r\n",
       "}\r\n",
       "}\r\n",
       "E5 ..> E4 [[psysml:8882fd51-4fce-4e08-923b-d836bd7610d5 ]] : <<import>>\r\n",
       "E6 - -:|> E4 [[psysml:db353f76-c455-46cb-b105-6bd8058807fe ]] \r\n",
       "@enduml\r\n",
       "\n",
       "PlantUML version 1.2020.13(Sat Jun 13 12:26:38 UTC 2020)\n",
       "(EPL source distribution)\n",
       "Java Runtime: OpenJDK Runtime Environment\n",
       "JVM: OpenJDK 64-Bit Server VM\n",
       "Default Encoding: UTF-8\n",
       "Language: en\n",
       "Country: null\n",
       "--></g></svg>"
      ]
     },
     "execution_count": 57,
     "metadata": {},
     "output_type": "execute_result"
    }
   ],
   "source": [
    "%viz --style=\"ORTHOLINE\" --view=\"MIXED\" \"AliasImport\""
   ]
  }
 ],
 "metadata": {
  "kernelspec": {
   "display_name": "SysML",
   "language": "sysml",
   "name": "sysml"
  },
  "language_info": {
   "codemirror_mode": "sysml",
   "file_extension": ".sysml",
   "mimetype": "text/x-sysml",
   "name": "SysML",
   "pygments_lexer": "java",
   "version": "1.0.0"
  }
 },
 "nbformat": 4,
 "nbformat_minor": 5
}
