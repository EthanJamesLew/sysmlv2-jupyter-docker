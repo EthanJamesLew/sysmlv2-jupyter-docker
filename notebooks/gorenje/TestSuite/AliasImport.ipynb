{
 "cells": [
  {
   "cell_type": "markdown",
   "id": "b9d5a539",
   "metadata": {},
   "source": [
    "# SysML v2 Test Suite\n",
    "\n",
    "This can notebook can be cleared using menu `Edit --> Clear All Outputs` and then all cells can be\n",
    "run using menu `Run --> Run All Cells`.\n",
    "\n",
    "**WARNING**: This file is generated, all modifications here will be ignored.\n"
   ]
  },
  {
   "cell_type": "markdown",
   "id": "4fda3973",
   "metadata": {},
   "source": [
    "## File: ../../sysml/src/examples/Import Tests/AliasImport.sysml"
   ]
  },
  {
   "cell_type": "code",
   "execution_count": 1,
   "id": "871e0a96",
   "metadata": {
    "execution": {
     "iopub.execute_input": "2022-03-03T09:59:04.987626Z",
     "iopub.status.busy": "2022-03-03T09:59:04.986736Z",
     "iopub.status.idle": "2022-03-03T09:59:05.085096Z",
     "shell.execute_reply": "2022-03-03T09:59:05.085547Z"
    }
   },
   "outputs": [
    {
     "data": {
      "text/plain": [
       "Package AliasImport (249f7de7-8e12-44d2-88c9-eacb48fbe8cf)\n"
      ]
     },
     "execution_count": 1,
     "metadata": {},
     "output_type": "execute_result"
    }
   ],
   "source": [
    "package AliasImport {\n",
    "\tpackage Definitions {\n",
    "\t    part def Vehicle;\n",
    "\t    \n",
    "\t    alias Car for Vehicle;\n",
    "\t}\n",
    "\t\n",
    "\tpackage Usages {\n",
    "\t    import Definitions::Car;\n",
    "\t\n",
    "\t    part vehicle : Car;\n",
    "\t}\n",
    "}"
   ]
  },
  {
   "cell_type": "code",
   "execution_count": 2,
   "id": "7b652397",
   "metadata": {
    "execution": {
     "iopub.execute_input": "2022-03-03T09:59:05.135963Z",
     "iopub.status.busy": "2022-03-03T09:59:05.135394Z",
     "iopub.status.idle": "2022-03-03T09:59:05.565599Z",
     "shell.execute_reply": "2022-03-03T09:59:05.564744Z"
    }
   },
   "outputs": [
    {
     "data": {
      "image/svg+xml": [
       "<?xml version=\"1.0\" encoding=\"UTF-8\" standalone=\"no\"?><svg xmlns=\"http://www.w3.org/2000/svg\" xmlns:xlink=\"http://www.w3.org/1999/xlink\" contentScriptType=\"application/ecmascript\" contentStyleType=\"text/css\" height=\"360px\" preserveAspectRatio=\"none\" style=\"width:275px;height:360px;\" version=\"1.1\" viewBox=\"0 0 275 360\" width=\"275px\" zoomAndPan=\"magnify\"><defs/><g><!--MD5=[fbc87193dbaf4d95561dea2c320d4a47]\n",
       "cluster E1--><a href=\"psysml:a09df071-4715-4742-883e-cd73e8c4aa55\" target=\"_top\" title=\"psysml:a09df071-4715-4742-883e-cd73e8c4aa55\" xlink:actuate=\"onRequest\" xlink:href=\"psysml:a09df071-4715-4742-883e-cd73e8c4aa55\" xlink:show=\"new\" xlink:title=\"psysml:a09df071-4715-4742-883e-cd73e8c4aa55\" xlink:type=\"simple\"><polygon fill=\"#FFFFFF\" points=\"16,6,97,6,104,28.2969,253,28.2969,253,348,16,348,16,6\" style=\"stroke: #000000; stroke-width: 1.5;\"/><line style=\"stroke: #000000; stroke-width: 1.5;\" x1=\"16\" x2=\"104\" y1=\"28.2969\" y2=\"28.2969\"/><text fill=\"#000000\" font-family=\"sans-serif\" font-size=\"14\" font-weight=\"bold\" lengthAdjust=\"spacingAndGlyphs\" textLength=\"75\" x=\"20\" y=\"20.9951\">AliasImport</text></a><!--MD5=[e4f7fae6ed58524ba242bb0b0d3be6b7]\n",
       "cluster E2--><a href=\"psysml:9e891321-89ab-46bb-b178-ae51d516b5d5\" target=\"_top\" title=\"psysml:9e891321-89ab-46bb-b178-ae51d516b5d5\" xlink:actuate=\"onRequest\" xlink:href=\"psysml:9e891321-89ab-46bb-b178-ae51d516b5d5\" xlink:show=\"new\" xlink:title=\"psysml:9e891321-89ab-46bb-b178-ae51d516b5d5\" xlink:type=\"simple\"><polygon fill=\"#FFFFFF\" points=\"65,227,144,227,151,249.2969,167,249.2969,167,324,65,324,65,227\" style=\"stroke: #000000; stroke-width: 1.5;\"/><line style=\"stroke: #000000; stroke-width: 1.5;\" x1=\"65\" x2=\"151\" y1=\"249.2969\" y2=\"249.2969\"/><text fill=\"#000000\" font-family=\"sans-serif\" font-size=\"14\" font-weight=\"bold\" lengthAdjust=\"spacingAndGlyphs\" textLength=\"73\" x=\"69\" y=\"241.9951\">Definitions</text></a><!--MD5=[f6df4d0ebaf0b5dfb2ced0ae5af7c670]\n",
       "cluster E4--><a href=\"psysml:0357df57-b813-4001-8053-0943e42884ef\" target=\"_top\" title=\"psysml:0357df57-b813-4001-8053-0943e42884ef\" xlink:actuate=\"onRequest\" xlink:href=\"psysml:0357df57-b813-4001-8053-0943e42884ef\" xlink:show=\"new\" xlink:title=\"psysml:0357df57-b813-4001-8053-0943e42884ef\" xlink:type=\"simple\"><polygon fill=\"#FFFFFF\" points=\"48,57,106,57,113,79.2969,221,79.2969,221,170,48,170,48,57\" style=\"stroke: #000000; stroke-width: 1.5;\"/><line style=\"stroke: #000000; stroke-width: 1.5;\" x1=\"48\" x2=\"113\" y1=\"79.2969\" y2=\"79.2969\"/><text fill=\"#000000\" font-family=\"sans-serif\" font-size=\"14\" font-weight=\"bold\" lengthAdjust=\"spacingAndGlyphs\" textLength=\"52\" x=\"52\" y=\"71.9951\">Usages</text></a><!--MD5=[09b614a08d8cba4a07c9adeb5e0fee81]\n",
       "class E3--><a href=\"psysml:aed7d351-ec1f-43ef-9181-965f0e0fafe7\" target=\"_top\" title=\"psysml:aed7d351-ec1f-43ef-9181-965f0e0fafe7\" xlink:actuate=\"onRequest\" xlink:href=\"psysml:aed7d351-ec1f-43ef-9181-965f0e0fafe7\" xlink:show=\"new\" xlink:title=\"psysml:aed7d351-ec1f-43ef-9181-965f0e0fafe7\" xlink:type=\"simple\"><rect fill=\"#FFFFFF\" height=\"45.9375\" id=\"E3\" style=\"stroke: #383838; stroke-width: 1.5;\" width=\"70\" x=\"81\" y=\"262\"/><text fill=\"#000000\" font-family=\"sans-serif\" font-size=\"12\" font-style=\"italic\" lengthAdjust=\"spacingAndGlyphs\" textLength=\"68\" x=\"82\" y=\"278.1387\">«part  def»</text><text fill=\"#000000\" font-family=\"sans-serif\" font-size=\"12\" lengthAdjust=\"spacingAndGlyphs\" textLength=\"45\" x=\"93.5\" y=\"292.1074\">Vehicle</text><line style=\"stroke: #383838; stroke-width: 1.5;\" x1=\"82\" x2=\"150\" y1=\"299.9375\" y2=\"299.9375\"/></a><!--MD5=[270fce915f116d4de14055a7c1d9a0f3]\n",
       "class E5--><a href=\"psysml:9c4f7a54-8ea6-458e-b6c7-855d1197e506\" target=\"_top\" title=\"psysml:9c4f7a54-8ea6-458e-b6c7-855d1197e506\" xlink:actuate=\"onRequest\" xlink:href=\"psysml:9c4f7a54-8ea6-458e-b6c7-855d1197e506\" xlink:show=\"new\" xlink:title=\"psysml:9c4f7a54-8ea6-458e-b6c7-855d1197e506\" xlink:type=\"simple\"><rect fill=\"#FFFFFF\" height=\"45.9375\" id=\"E5\" rx=\"10\" ry=\"10\" style=\"stroke: #383838; stroke-width: 1.5;\" width=\"106\" x=\"91\" y=\"100\"/><text fill=\"#000000\" font-family=\"sans-serif\" font-size=\"12\" font-style=\"italic\" lengthAdjust=\"spacingAndGlyphs\" textLength=\"40\" x=\"124\" y=\"116.1387\">«part»</text><text fill=\"#000000\" font-family=\"sans-serif\" font-size=\"12\" lengthAdjust=\"spacingAndGlyphs\" textLength=\"96\" x=\"94\" y=\"130.1074\">vehicle: Vehicle</text><line style=\"stroke: #383838; stroke-width: 1.5;\" x1=\"92\" x2=\"196\" y1=\"137.9375\" y2=\"137.9375\"/></a><!--MD5=[f0cdf4548168e5211fb3a02bf679d63a]\n",
       "link E4 to E3--><a href=\"psysml:b99e9f78-77ea-4cdc-866d-b9796624c080\" target=\"_top\" title=\"psysml:b99e9f78-77ea-4cdc-866d-b9796624c080\" xlink:actuate=\"onRequest\" xlink:href=\"psysml:b99e9f78-77ea-4cdc-866d-b9796624c080\" xlink:show=\"new\" xlink:title=\"psysml:b99e9f78-77ea-4cdc-866d-b9796624c080\" xlink:type=\"simple\"><path d=\"M58.5005,170.0549 C58.5193,170.2001 58.5383,170.3454 58.5574,170.4908 C58.6338,171.0725 58.7124,171.6562 58.7932,172.2415 C58.9548,173.4122 59.1253,174.5898 59.3052,175.7725 C59.6651,178.1379 60.0625,180.5238 60.5014,182.9158 C62.2569,192.4838 64.675,202.15 68,211 C74.23,227.58 84.77,244.23 94.38,257.43 \" fill=\"none\" id=\"E4-&gt;E3\" style=\"stroke: #383838; stroke-width: 1.0; stroke-dasharray: 7.0,7.0;\"/><polygon fill=\"#383838\" points=\"97.6,261.77,95.4384,252.1613,94.616,257.758,89.0193,256.9357,97.6,261.77\" style=\"stroke: #383838; stroke-width: 1.0;\"/><text fill=\"#000000\" font-family=\"sans-serif\" font-size=\"13\" lengthAdjust=\"spacingAndGlyphs\" textLength=\"58\" x=\"69\" y=\"207.0669\">«import»</text></a><!--MD5=[e9be52314489bd878ff4c7144b63c9e1]\n",
       "link E5 to E3--><a href=\"psysml:c70856ba-dfdd-4aff-ab00-0a9f4968bc68\" target=\"_top\" title=\"psysml:c70856ba-dfdd-4aff-ab00-0a9f4968bc68\" xlink:actuate=\"onRequest\" xlink:href=\"psysml:c70856ba-dfdd-4aff-ab00-0a9f4968bc68\" xlink:show=\"new\" xlink:title=\"psysml:c70856ba-dfdd-4aff-ab00-0a9f4968bc68\" xlink:type=\"simple\"><path d=\"M143.03,146.32 C142,163.98 139.95,189.21 136,211 C134.13,221.29 131.49,232.23 128.74,242.43 \" fill=\"none\" id=\"E5-&gt;E3\" style=\"stroke: #383838; stroke-width: 1.0;\"/><polygon fill=\"#FFFFFF\" points=\"123.15,261.87,121.6727,241.6755,135.1276,245.544,123.15,261.87\" style=\"stroke: #383838; stroke-width: 1.0;\"/><ellipse cx=\"125.1699\" cy=\"236.7501\" fill=\"#383838\" rx=\"2\" ry=\"2\" style=\"stroke: #383838; stroke-width: 1.0;\"/><ellipse cx=\"134.7805\" cy=\"239.5133\" fill=\"#383838\" rx=\"2\" ry=\"2\" style=\"stroke: #383838; stroke-width: 1.0;\"/></a><!--MD5=[86333799cdf7c8ba489baaece256b026]\n",
       "@startuml\r\n",
       " skinparam monochrome true\r\n",
       "skinparam classbackgroundcolor white\r\n",
       "skinparam shadowing false\r\n",
       "skinparam wrapWidth 300\r\n",
       "hide circle\r\n",
       "\r\n",
       "package \"AliasImport\" as E1  [[psysml:a09df071-4715-4742-883e-cd73e8c4aa55 ]]  {\r\n",
       "package \"Definitions\" as E2  [[psysml:9e891321-89ab-46bb-b178-ae51d516b5d5 ]]  {\r\n",
       "comp def \"Vehicle\" as E3  <<(T,blue) part  def>> [[psysml:aed7d351-ec1f-43ef-9181-965f0e0fafe7 ]] {\r\n",
       "}\r\n",
       "}\r\n",
       "package \"Usages\" as E4  [[psysml:0357df57-b813-4001-8053-0943e42884ef ]]  {\r\n",
       "comp usage \"vehicle: Vehicle \" as E5  <<(T,blue) part>> [[psysml:9c4f7a54-8ea6-458e-b6c7-855d1197e506 ]] {\r\n",
       "}\r\n",
       "}\r\n",
       "}\r\n",
       "E4 ..> E3 [[psysml:b99e9f78-77ea-4cdc-866d-b9796624c080 ]] : <<import>>\r\n",
       "E5 - -:|> E3 [[psysml:c70856ba-dfdd-4aff-ab00-0a9f4968bc68 ]] \r\n",
       "@enduml\r\n",
       "\n",
       "PlantUML version 1.2020.13(Sat Jun 13 12:26:38 UTC 2020)\n",
       "(EPL source distribution)\n",
       "Java Runtime: OpenJDK Runtime Environment\n",
       "JVM: OpenJDK 64-Bit Server VM\n",
       "Default Encoding: UTF-8\n",
       "Language: en\n",
       "Country: null\n",
       "--></g></svg>"
      ]
     },
     "execution_count": 2,
     "metadata": {},
     "output_type": "execute_result"
    }
   ],
   "source": [
    "%viz --style=\"COMPTREE\" --view=\"Default\" \"AliasImport\""
   ]
  },
  {
   "cell_type": "code",
   "execution_count": 3,
   "id": "67405e39",
   "metadata": {
    "execution": {
     "iopub.execute_input": "2022-03-03T09:59:05.616064Z",
     "iopub.status.busy": "2022-03-03T09:59:05.615700Z",
     "iopub.status.idle": "2022-03-03T09:59:05.669440Z",
     "shell.execute_reply": "2022-03-03T09:59:05.669056Z"
    }
   },
   "outputs": [
    {
     "data": {
      "image/svg+xml": [
       "<?xml version=\"1.0\" encoding=\"UTF-8\" standalone=\"no\"?><svg xmlns=\"http://www.w3.org/2000/svg\" xmlns:xlink=\"http://www.w3.org/1999/xlink\" contentScriptType=\"application/ecmascript\" contentStyleType=\"text/css\" height=\"360px\" preserveAspectRatio=\"none\" style=\"width:275px;height:360px;\" version=\"1.1\" viewBox=\"0 0 275 360\" width=\"275px\" zoomAndPan=\"magnify\"><defs/><g><!--MD5=[fbc87193dbaf4d95561dea2c320d4a47]\n",
       "cluster E1--><a href=\"psysml:a09df071-4715-4742-883e-cd73e8c4aa55\" target=\"_top\" title=\"psysml:a09df071-4715-4742-883e-cd73e8c4aa55\" xlink:actuate=\"onRequest\" xlink:href=\"psysml:a09df071-4715-4742-883e-cd73e8c4aa55\" xlink:show=\"new\" xlink:title=\"psysml:a09df071-4715-4742-883e-cd73e8c4aa55\" xlink:type=\"simple\"><polygon fill=\"#FFFFFF\" points=\"16,6,97,6,104,28.2969,253,28.2969,253,348,16,348,16,6\" style=\"stroke: #000000; stroke-width: 1.5;\"/><line style=\"stroke: #000000; stroke-width: 1.5;\" x1=\"16\" x2=\"104\" y1=\"28.2969\" y2=\"28.2969\"/><text fill=\"#000000\" font-family=\"sans-serif\" font-size=\"14\" font-weight=\"bold\" lengthAdjust=\"spacingAndGlyphs\" textLength=\"75\" x=\"20\" y=\"20.9951\">AliasImport</text></a><!--MD5=[e4f7fae6ed58524ba242bb0b0d3be6b7]\n",
       "cluster E2--><a href=\"psysml:9e891321-89ab-46bb-b178-ae51d516b5d5\" target=\"_top\" title=\"psysml:9e891321-89ab-46bb-b178-ae51d516b5d5\" xlink:actuate=\"onRequest\" xlink:href=\"psysml:9e891321-89ab-46bb-b178-ae51d516b5d5\" xlink:show=\"new\" xlink:title=\"psysml:9e891321-89ab-46bb-b178-ae51d516b5d5\" xlink:type=\"simple\"><polygon fill=\"#FFFFFF\" points=\"65,227,144,227,151,249.2969,167,249.2969,167,324,65,324,65,227\" style=\"stroke: #000000; stroke-width: 1.5;\"/><line style=\"stroke: #000000; stroke-width: 1.5;\" x1=\"65\" x2=\"151\" y1=\"249.2969\" y2=\"249.2969\"/><text fill=\"#000000\" font-family=\"sans-serif\" font-size=\"14\" font-weight=\"bold\" lengthAdjust=\"spacingAndGlyphs\" textLength=\"73\" x=\"69\" y=\"241.9951\">Definitions</text></a><!--MD5=[f6df4d0ebaf0b5dfb2ced0ae5af7c670]\n",
       "cluster E4--><a href=\"psysml:0357df57-b813-4001-8053-0943e42884ef\" target=\"_top\" title=\"psysml:0357df57-b813-4001-8053-0943e42884ef\" xlink:actuate=\"onRequest\" xlink:href=\"psysml:0357df57-b813-4001-8053-0943e42884ef\" xlink:show=\"new\" xlink:title=\"psysml:0357df57-b813-4001-8053-0943e42884ef\" xlink:type=\"simple\"><polygon fill=\"#FFFFFF\" points=\"48,57,106,57,113,79.2969,221,79.2969,221,170,48,170,48,57\" style=\"stroke: #000000; stroke-width: 1.5;\"/><line style=\"stroke: #000000; stroke-width: 1.5;\" x1=\"48\" x2=\"113\" y1=\"79.2969\" y2=\"79.2969\"/><text fill=\"#000000\" font-family=\"sans-serif\" font-size=\"14\" font-weight=\"bold\" lengthAdjust=\"spacingAndGlyphs\" textLength=\"52\" x=\"52\" y=\"71.9951\">Usages</text></a><!--MD5=[09b614a08d8cba4a07c9adeb5e0fee81]\n",
       "class E3--><a href=\"psysml:aed7d351-ec1f-43ef-9181-965f0e0fafe7\" target=\"_top\" title=\"psysml:aed7d351-ec1f-43ef-9181-965f0e0fafe7\" xlink:actuate=\"onRequest\" xlink:href=\"psysml:aed7d351-ec1f-43ef-9181-965f0e0fafe7\" xlink:show=\"new\" xlink:title=\"psysml:aed7d351-ec1f-43ef-9181-965f0e0fafe7\" xlink:type=\"simple\"><rect fill=\"#FFFFFF\" height=\"45.9375\" id=\"E3\" style=\"stroke: #383838; stroke-width: 1.5;\" width=\"70\" x=\"81\" y=\"262\"/><text fill=\"#000000\" font-family=\"sans-serif\" font-size=\"12\" font-style=\"italic\" lengthAdjust=\"spacingAndGlyphs\" textLength=\"68\" x=\"82\" y=\"278.1387\">«part  def»</text><text fill=\"#000000\" font-family=\"sans-serif\" font-size=\"12\" lengthAdjust=\"spacingAndGlyphs\" textLength=\"45\" x=\"93.5\" y=\"292.1074\">Vehicle</text><line style=\"stroke: #383838; stroke-width: 1.5;\" x1=\"82\" x2=\"150\" y1=\"299.9375\" y2=\"299.9375\"/></a><!--MD5=[270fce915f116d4de14055a7c1d9a0f3]\n",
       "class E5--><a href=\"psysml:9c4f7a54-8ea6-458e-b6c7-855d1197e506\" target=\"_top\" title=\"psysml:9c4f7a54-8ea6-458e-b6c7-855d1197e506\" xlink:actuate=\"onRequest\" xlink:href=\"psysml:9c4f7a54-8ea6-458e-b6c7-855d1197e506\" xlink:show=\"new\" xlink:title=\"psysml:9c4f7a54-8ea6-458e-b6c7-855d1197e506\" xlink:type=\"simple\"><rect fill=\"#FFFFFF\" height=\"45.9375\" id=\"E5\" rx=\"10\" ry=\"10\" style=\"stroke: #383838; stroke-width: 1.5;\" width=\"106\" x=\"91\" y=\"100\"/><text fill=\"#000000\" font-family=\"sans-serif\" font-size=\"12\" font-style=\"italic\" lengthAdjust=\"spacingAndGlyphs\" textLength=\"40\" x=\"124\" y=\"116.1387\">«part»</text><text fill=\"#000000\" font-family=\"sans-serif\" font-size=\"12\" lengthAdjust=\"spacingAndGlyphs\" textLength=\"96\" x=\"94\" y=\"130.1074\">vehicle: Vehicle</text><line style=\"stroke: #383838; stroke-width: 1.5;\" x1=\"92\" x2=\"196\" y1=\"137.9375\" y2=\"137.9375\"/></a><!--MD5=[f0cdf4548168e5211fb3a02bf679d63a]\n",
       "link E4 to E3--><a href=\"psysml:b99e9f78-77ea-4cdc-866d-b9796624c080\" target=\"_top\" title=\"psysml:b99e9f78-77ea-4cdc-866d-b9796624c080\" xlink:actuate=\"onRequest\" xlink:href=\"psysml:b99e9f78-77ea-4cdc-866d-b9796624c080\" xlink:show=\"new\" xlink:title=\"psysml:b99e9f78-77ea-4cdc-866d-b9796624c080\" xlink:type=\"simple\"><path d=\"M58.5005,170.0549 C58.5193,170.2001 58.5383,170.3454 58.5574,170.4908 C58.6338,171.0725 58.7124,171.6562 58.7932,172.2415 C58.9548,173.4122 59.1253,174.5898 59.3052,175.7725 C59.6651,178.1379 60.0625,180.5238 60.5014,182.9158 C62.2569,192.4838 64.675,202.15 68,211 C74.23,227.58 84.77,244.23 94.38,257.43 \" fill=\"none\" id=\"E4-&gt;E3\" style=\"stroke: #383838; stroke-width: 1.0; stroke-dasharray: 7.0,7.0;\"/><polygon fill=\"#383838\" points=\"97.6,261.77,95.4384,252.1613,94.616,257.758,89.0193,256.9357,97.6,261.77\" style=\"stroke: #383838; stroke-width: 1.0;\"/><text fill=\"#000000\" font-family=\"sans-serif\" font-size=\"13\" lengthAdjust=\"spacingAndGlyphs\" textLength=\"58\" x=\"69\" y=\"207.0669\">«import»</text></a><!--MD5=[e9be52314489bd878ff4c7144b63c9e1]\n",
       "link E5 to E3--><a href=\"psysml:c70856ba-dfdd-4aff-ab00-0a9f4968bc68\" target=\"_top\" title=\"psysml:c70856ba-dfdd-4aff-ab00-0a9f4968bc68\" xlink:actuate=\"onRequest\" xlink:href=\"psysml:c70856ba-dfdd-4aff-ab00-0a9f4968bc68\" xlink:show=\"new\" xlink:title=\"psysml:c70856ba-dfdd-4aff-ab00-0a9f4968bc68\" xlink:type=\"simple\"><path d=\"M143.03,146.32 C142,163.98 139.95,189.21 136,211 C134.13,221.29 131.49,232.23 128.74,242.43 \" fill=\"none\" id=\"E5-&gt;E3\" style=\"stroke: #383838; stroke-width: 1.0;\"/><polygon fill=\"#FFFFFF\" points=\"123.15,261.87,121.6727,241.6755,135.1276,245.544,123.15,261.87\" style=\"stroke: #383838; stroke-width: 1.0;\"/><ellipse cx=\"125.1699\" cy=\"236.7501\" fill=\"#383838\" rx=\"2\" ry=\"2\" style=\"stroke: #383838; stroke-width: 1.0;\"/><ellipse cx=\"134.7805\" cy=\"239.5133\" fill=\"#383838\" rx=\"2\" ry=\"2\" style=\"stroke: #383838; stroke-width: 1.0;\"/></a><!--MD5=[86333799cdf7c8ba489baaece256b026]\n",
       "@startuml\r\n",
       " skinparam monochrome true\r\n",
       "skinparam classbackgroundcolor white\r\n",
       "skinparam shadowing false\r\n",
       "skinparam wrapWidth 300\r\n",
       "hide circle\r\n",
       "\r\n",
       "package \"AliasImport\" as E1  [[psysml:a09df071-4715-4742-883e-cd73e8c4aa55 ]]  {\r\n",
       "package \"Definitions\" as E2  [[psysml:9e891321-89ab-46bb-b178-ae51d516b5d5 ]]  {\r\n",
       "comp def \"Vehicle\" as E3  <<(T,blue) part  def>> [[psysml:aed7d351-ec1f-43ef-9181-965f0e0fafe7 ]] {\r\n",
       "}\r\n",
       "}\r\n",
       "package \"Usages\" as E4  [[psysml:0357df57-b813-4001-8053-0943e42884ef ]]  {\r\n",
       "comp usage \"vehicle: Vehicle \" as E5  <<(T,blue) part>> [[psysml:9c4f7a54-8ea6-458e-b6c7-855d1197e506 ]] {\r\n",
       "}\r\n",
       "}\r\n",
       "}\r\n",
       "E4 ..> E3 [[psysml:b99e9f78-77ea-4cdc-866d-b9796624c080 ]] : <<import>>\r\n",
       "E5 - -:|> E3 [[psysml:c70856ba-dfdd-4aff-ab00-0a9f4968bc68 ]] \r\n",
       "@enduml\r\n",
       "\n",
       "PlantUML version 1.2020.13(Sat Jun 13 12:26:38 UTC 2020)\n",
       "(EPL source distribution)\n",
       "Java Runtime: OpenJDK Runtime Environment\n",
       "JVM: OpenJDK 64-Bit Server VM\n",
       "Default Encoding: UTF-8\n",
       "Language: en\n",
       "Country: null\n",
       "--></g></svg>"
      ]
     },
     "execution_count": 3,
     "metadata": {},
     "output_type": "execute_result"
    }
   ],
   "source": [
    "%viz --style=\"COMPTREE\" --view=\"Tree\" \"AliasImport\""
   ]
  },
  {
   "cell_type": "code",
   "execution_count": 4,
   "id": "d5470470",
   "metadata": {
    "execution": {
     "iopub.execute_input": "2022-03-03T09:59:05.720368Z",
     "iopub.status.busy": "2022-03-03T09:59:05.719700Z",
     "iopub.status.idle": "2022-03-03T09:59:05.729002Z",
     "shell.execute_reply": "2022-03-03T09:59:05.728636Z"
    }
   },
   "outputs": [
    {
     "data": {
      "image/svg+xml": [
       "<?xml version=\"1.0\" encoding=\"UTF-8\" standalone=\"no\"?><svg xmlns=\"http://www.w3.org/2000/svg\" xmlns:xlink=\"http://www.w3.org/1999/xlink\" contentScriptType=\"application/ecmascript\" contentStyleType=\"text/css\" height=\"12px\" preserveAspectRatio=\"none\" style=\"width:12px;height:12px;\" version=\"1.1\" viewBox=\"0 0 12 12\" width=\"12px\" zoomAndPan=\"magnify\"><defs/><g><!--MD5=[f19188ef49e11757b5c46753f95d9edc]\n",
       "@startuml\r\n",
       " skinparam monochrome true\r\n",
       "skinparam classbackgroundcolor white\r\n",
       "skinparam shadowing false\r\n",
       "skinparam wrapWidth 300\r\n",
       "hide circle\r\n",
       "\r\n",
       "@enduml\r\n",
       "\n",
       "PlantUML version 1.2020.13(Sat Jun 13 12:26:38 UTC 2020)\n",
       "(EPL source distribution)\n",
       "Java Runtime: OpenJDK Runtime Environment\n",
       "JVM: OpenJDK 64-Bit Server VM\n",
       "Default Encoding: UTF-8\n",
       "Language: en\n",
       "Country: null\n",
       "--></g></svg>"
      ]
     },
     "execution_count": 4,
     "metadata": {},
     "output_type": "execute_result"
    }
   ],
   "source": [
    "%viz --style=\"COMPTREE\" --view=\"State\" \"AliasImport\""
   ]
  },
  {
   "cell_type": "code",
   "execution_count": 5,
   "id": "fced3b8a",
   "metadata": {
    "execution": {
     "iopub.execute_input": "2022-03-03T09:59:05.779677Z",
     "iopub.status.busy": "2022-03-03T09:59:05.779100Z",
     "iopub.status.idle": "2022-03-03T09:59:05.827652Z",
     "shell.execute_reply": "2022-03-03T09:59:05.827274Z"
    }
   },
   "outputs": [
    {
     "data": {
      "image/svg+xml": [
       "<?xml version=\"1.0\" encoding=\"UTF-8\" standalone=\"no\"?><svg xmlns=\"http://www.w3.org/2000/svg\" xmlns:xlink=\"http://www.w3.org/1999/xlink\" contentScriptType=\"application/ecmascript\" contentStyleType=\"text/css\" height=\"351px\" preserveAspectRatio=\"none\" style=\"width:302px;height:351px;\" version=\"1.1\" viewBox=\"0 0 302 351\" width=\"302px\" zoomAndPan=\"magnify\"><defs/><g><!--MD5=[fbc87193dbaf4d95561dea2c320d4a47]\n",
       "cluster E1--><a href=\"psysml:a09df071-4715-4742-883e-cd73e8c4aa55\" target=\"_top\" title=\"psysml:a09df071-4715-4742-883e-cd73e8c4aa55\" xlink:actuate=\"onRequest\" xlink:href=\"psysml:a09df071-4715-4742-883e-cd73e8c4aa55\" xlink:show=\"new\" xlink:title=\"psysml:a09df071-4715-4742-883e-cd73e8c4aa55\" xlink:type=\"simple\"><polygon fill=\"#FFFFFF\" points=\"16,6,97,6,104,28.2969,280,28.2969,280,339,16,339,16,6\" style=\"stroke: #000000; stroke-width: 1.5;\"/><line style=\"stroke: #000000; stroke-width: 1.5;\" x1=\"16\" x2=\"104\" y1=\"28.2969\" y2=\"28.2969\"/><text fill=\"#000000\" font-family=\"sans-serif\" font-size=\"14\" font-weight=\"bold\" lengthAdjust=\"spacingAndGlyphs\" textLength=\"75\" x=\"20\" y=\"20.9951\">AliasImport</text></a><!--MD5=[e4f7fae6ed58524ba242bb0b0d3be6b7]\n",
       "cluster E2--><a href=\"psysml:9e891321-89ab-46bb-b178-ae51d516b5d5\" target=\"_top\" title=\"psysml:9e891321-89ab-46bb-b178-ae51d516b5d5\" xlink:actuate=\"onRequest\" xlink:href=\"psysml:9e891321-89ab-46bb-b178-ae51d516b5d5\" xlink:show=\"new\" xlink:title=\"psysml:9e891321-89ab-46bb-b178-ae51d516b5d5\" xlink:type=\"simple\"><polygon fill=\"#FFFFFF\" points=\"40,221,119,221,126,243.2969,256,243.2969,256,315,40,315,40,221\" style=\"stroke: #000000; stroke-width: 1.5;\"/><line style=\"stroke: #000000; stroke-width: 1.5;\" x1=\"40\" x2=\"126\" y1=\"243.2969\" y2=\"243.2969\"/><text fill=\"#000000\" font-family=\"sans-serif\" font-size=\"14\" font-weight=\"bold\" lengthAdjust=\"spacingAndGlyphs\" textLength=\"73\" x=\"44\" y=\"235.9951\">Definitions</text></a><!--MD5=[de5ec2e2e8f62f467e546659f5068c88]\n",
       "cluster E5--><a href=\"psysml:0357df57-b813-4001-8053-0943e42884ef\" target=\"_top\" title=\"psysml:0357df57-b813-4001-8053-0943e42884ef\" xlink:actuate=\"onRequest\" xlink:href=\"psysml:0357df57-b813-4001-8053-0943e42884ef\" xlink:show=\"new\" xlink:title=\"psysml:0357df57-b813-4001-8053-0943e42884ef\" xlink:type=\"simple\"><polygon fill=\"#FFFFFF\" points=\"74,57,132,57,139,79.2969,248,79.2969,248,164,74,164,74,57\" style=\"stroke: #000000; stroke-width: 1.5;\"/><line style=\"stroke: #000000; stroke-width: 1.5;\" x1=\"74\" x2=\"139\" y1=\"79.2969\" y2=\"79.2969\"/><text fill=\"#000000\" font-family=\"sans-serif\" font-size=\"14\" font-weight=\"bold\" lengthAdjust=\"spacingAndGlyphs\" textLength=\"52\" x=\"78\" y=\"71.9951\">Usages</text></a><g id=\"E1.E2.E3\"><a href=\"psysml:aed7d351-ec1f-43ef-9181-965f0e0fafe7\" target=\"_top\" title=\"psysml:aed7d351-ec1f-43ef-9181-965f0e0fafe7\" xlink:actuate=\"onRequest\" xlink:href=\"psysml:aed7d351-ec1f-43ef-9181-965f0e0fafe7\" xlink:show=\"new\" xlink:title=\"psysml:aed7d351-ec1f-43ef-9181-965f0e0fafe7\" xlink:type=\"simple\"><rect fill=\"#FFFFFF\" height=\"42.9375\" id=\"E3\" style=\"stroke: #383838; stroke-width: 1.5;\" width=\"75\" x=\"165.5\" y=\"256\"/><rect fill=\"#F8F8F8\" height=\"37.9375\" style=\"stroke: #383838; stroke-width: 1.5;\" width=\"75\" x=\"165.5\" y=\"256\"/><text fill=\"#000000\" font-family=\"sans-serif\" font-size=\"12\" font-style=\"italic\" lengthAdjust=\"spacingAndGlyphs\" textLength=\"68\" x=\"169\" y=\"272.1387\">«part  def»</text><text fill=\"#000000\" font-family=\"sans-serif\" font-size=\"12\" lengthAdjust=\"spacingAndGlyphs\" textLength=\"45\" x=\"180.5\" y=\"286.1074\">Vehicle</text></a></g><g id=\"E1.E2.E4\"><a href=\"psysml:aed7d351-ec1f-43ef-9181-965f0e0fafe7\" target=\"_top\" title=\"psysml:aed7d351-ec1f-43ef-9181-965f0e0fafe7\" xlink:actuate=\"onRequest\" xlink:href=\"psysml:aed7d351-ec1f-43ef-9181-965f0e0fafe7\" xlink:show=\"new\" xlink:title=\"psysml:aed7d351-ec1f-43ef-9181-965f0e0fafe7\" xlink:type=\"simple\"><rect fill=\"#FFFFFF\" height=\"42.9375\" id=\"E4\" style=\"stroke: #383838; stroke-width: 1.5;\" width=\"75\" x=\"55.5\" y=\"256\"/><rect fill=\"#F8F8F8\" height=\"37.9375\" style=\"stroke: #383838; stroke-width: 1.5;\" width=\"75\" x=\"55.5\" y=\"256\"/><text fill=\"#000000\" font-family=\"sans-serif\" font-size=\"12\" font-style=\"italic\" lengthAdjust=\"spacingAndGlyphs\" textLength=\"68\" x=\"59\" y=\"272.1387\">«part  def»</text><text fill=\"#000000\" font-family=\"sans-serif\" font-size=\"12\" lengthAdjust=\"spacingAndGlyphs\" textLength=\"45\" x=\"70.5\" y=\"286.1074\">Vehicle</text></a></g><g id=\"E1.E5.E6\"><a href=\"psysml:9c4f7a54-8ea6-458e-b6c7-855d1197e506\" target=\"_top\" title=\"psysml:9c4f7a54-8ea6-458e-b6c7-855d1197e506\" xlink:actuate=\"onRequest\" xlink:href=\"psysml:9c4f7a54-8ea6-458e-b6c7-855d1197e506\" xlink:show=\"new\" xlink:title=\"psysml:9c4f7a54-8ea6-458e-b6c7-855d1197e506\" xlink:type=\"simple\"><rect fill=\"#FFFFFF\" height=\"40\" id=\"E6\" rx=\"10\" ry=\"10\" style=\"stroke: #383838; stroke-width: 1.5;\" width=\"107\" x=\"117.5\" y=\"100\"/><rect fill=\"#F8F8F8\" height=\"23.9688\" rx=\"10\" ry=\"10\" style=\"stroke: #F8F8F8; stroke-width: 1.5;\" width=\"107\" x=\"117.5\" y=\"100\"/><rect fill=\"#F8F8F8\" height=\"10\" style=\"stroke: #F8F8F8; stroke-width: 1.5;\" width=\"107\" x=\"117.5\" y=\"113.9688\"/><rect fill=\"none\" height=\"40\" id=\"E6\" rx=\"10\" ry=\"10\" style=\"stroke: #383838; stroke-width: 1.5;\" width=\"107\" x=\"117.5\" y=\"100\"/><text fill=\"#000000\" font-family=\"sans-serif\" font-size=\"12\" lengthAdjust=\"spacingAndGlyphs\" textLength=\"96\" x=\"123\" y=\"116.1387\">vehicle: Vehicle</text></a></g><!--MD5=[1c62de2aa5b76f0fb657ff8443a1a700]\n",
       "link E5 to E4--><a href=\"psysml:b99e9f78-77ea-4cdc-866d-b9796624c080\" target=\"_top\" title=\"psysml:b99e9f78-77ea-4cdc-866d-b9796624c080\" xlink:actuate=\"onRequest\" xlink:href=\"psysml:b99e9f78-77ea-4cdc-866d-b9796624c080\" xlink:show=\"new\" xlink:title=\"psysml:b99e9f78-77ea-4cdc-866d-b9796624c080\" xlink:type=\"simple\"><path d=\"M85.0613,164.274 C85.0754,164.474 85.0896,164.6743 85.1038,164.8751 C85.1322,165.2765 85.1608,165.6795 85.1894,166.0839 C85.3039,167.7016 85.42,169.3423 85.5375,171.0025 C87.4175,197.565 89.65,229.1 91.18,250.73 \" fill=\"none\" id=\"E5-&gt;E4\" style=\"stroke: #383838; stroke-width: 1.0; stroke-dasharray: 7.0,7.0;\"/><polygon fill=\"#383838\" points=\"91.54,255.81,94.8867,246.5472,91.1827,250.8228,86.9072,247.1188,91.54,255.81\" style=\"stroke: #383838; stroke-width: 1.0;\"/><text fill=\"#000000\" font-family=\"sans-serif\" font-size=\"13\" lengthAdjust=\"spacingAndGlyphs\" textLength=\"58\" x=\"88\" y=\"201.0669\">«import»</text></a><!--MD5=[2b34a15fd4cd678e5294d65e4820775f]\n",
       "@startuml\r\n",
       "skinparam ranksep 10\r\n",
       "skinparam rectangle {\r\n",
       " backgroundColor<<block>> LightGreen\r\n",
       "}\r\n",
       " skinparam monochrome true\r\n",
       "skinparam classbackgroundcolor white\r\n",
       "skinparam shadowing false\r\n",
       "skinparam wrapWidth 300\r\n",
       "hide circle\r\n",
       "\r\n",
       "package \"AliasImport\" as E1  [[psysml:a09df071-4715-4742-883e-cd73e8c4aa55 ]]  {\r\n",
       "package \"Definitions\" as E2  [[psysml:9e891321-89ab-46bb-b178-ae51d516b5d5 ]]  {\r\n",
       "rec def \"Vehicle\" as E3  <<(T,blue) part  def>> [[psysml:aed7d351-ec1f-43ef-9181-965f0e0fafe7 ]] {\r\n",
       "}\r\n",
       "rec def \"Vehicle\" as E4  <<(T,blue) part  def>> [[psysml:aed7d351-ec1f-43ef-9181-965f0e0fafe7 ]] {\r\n",
       "}\r\n",
       "}\r\n",
       "package \"Usages\" as E5  [[psysml:0357df57-b813-4001-8053-0943e42884ef ]]  {\r\n",
       "rec usage \"vehicle: Vehicle\" as E6  [[psysml:9c4f7a54-8ea6-458e-b6c7-855d1197e506 ]] {\r\n",
       "}\r\n",
       "}\r\n",
       "}\r\n",
       "E5 ..> E4 [[psysml:b99e9f78-77ea-4cdc-866d-b9796624c080 ]] : <<import>>\r\n",
       "@enduml\r\n",
       "\n",
       "PlantUML version 1.2020.13(Sat Jun 13 12:26:38 UTC 2020)\n",
       "(EPL source distribution)\n",
       "Java Runtime: OpenJDK Runtime Environment\n",
       "JVM: OpenJDK 64-Bit Server VM\n",
       "Default Encoding: UTF-8\n",
       "Language: en\n",
       "Country: null\n",
       "--></g></svg>"
      ]
     },
     "execution_count": 5,
     "metadata": {},
     "output_type": "execute_result"
    }
   ],
   "source": [
    "%viz --style=\"COMPTREE\" --view=\"Interconnection\" \"AliasImport\""
   ]
  },
  {
   "cell_type": "code",
   "execution_count": 6,
   "id": "2187a836",
   "metadata": {
    "execution": {
     "iopub.execute_input": "2022-03-03T09:59:05.877463Z",
     "iopub.status.busy": "2022-03-03T09:59:05.877025Z",
     "iopub.status.idle": "2022-03-03T09:59:05.885490Z",
     "shell.execute_reply": "2022-03-03T09:59:05.885933Z"
    }
   },
   "outputs": [
    {
     "data": {
      "image/svg+xml": [
       "<?xml version=\"1.0\" encoding=\"UTF-8\" standalone=\"no\"?><svg xmlns=\"http://www.w3.org/2000/svg\" xmlns:xlink=\"http://www.w3.org/1999/xlink\" contentScriptType=\"application/ecmascript\" contentStyleType=\"text/css\" height=\"12px\" preserveAspectRatio=\"none\" style=\"width:12px;height:12px;\" version=\"1.1\" viewBox=\"0 0 12 12\" width=\"12px\" zoomAndPan=\"magnify\"><defs/><g><!--MD5=[655b888544ca4751ea36af1068543f84]\n",
       "@startuml\r\n",
       "skinparam ranksep 8\r\n",
       " skinparam monochrome true\r\n",
       "skinparam classbackgroundcolor white\r\n",
       "skinparam shadowing false\r\n",
       "skinparam wrapWidth 300\r\n",
       "hide circle\r\n",
       "\r\n",
       "@enduml\r\n",
       "\n",
       "PlantUML version 1.2020.13(Sat Jun 13 12:26:38 UTC 2020)\n",
       "(EPL source distribution)\n",
       "Java Runtime: OpenJDK Runtime Environment\n",
       "JVM: OpenJDK 64-Bit Server VM\n",
       "Default Encoding: UTF-8\n",
       "Language: en\n",
       "Country: null\n",
       "--></g></svg>"
      ]
     },
     "execution_count": 6,
     "metadata": {},
     "output_type": "execute_result"
    }
   ],
   "source": [
    "%viz --style=\"COMPTREE\" --view=\"Action\" \"AliasImport\""
   ]
  },
  {
   "cell_type": "code",
   "execution_count": 7,
   "id": "58f7a9ea",
   "metadata": {
    "execution": {
     "iopub.execute_input": "2022-03-03T09:59:05.935904Z",
     "iopub.status.busy": "2022-03-03T09:59:05.935466Z",
     "iopub.status.idle": "2022-03-03T09:59:05.948693Z",
     "shell.execute_reply": "2022-03-03T09:59:05.948328Z"
    }
   },
   "outputs": [
    {
     "data": {
      "image/svg+xml": [
       "<?xml version=\"1.0\" encoding=\"UTF-8\" standalone=\"no\"?><svg xmlns=\"http://www.w3.org/2000/svg\" xmlns:xlink=\"http://www.w3.org/1999/xlink\" contentScriptType=\"application/ecmascript\" contentStyleType=\"text/css\" height=\"12px\" preserveAspectRatio=\"none\" style=\"width:12px;height:12px;\" version=\"1.1\" viewBox=\"0 0 12 12\" width=\"12px\" zoomAndPan=\"magnify\"><defs/><g><!--MD5=[803fc46c337be7a5c8a9831e35356779]\n",
       "@startuml\r\n",
       "skinparam roundcorner 20\r\n",
       "skinparam BoxPadding 20\r\n",
       "skinparam SequenceBoxBackgroundColor #white\r\n",
       "skinparam style strictuml\r\n",
       "skinparam maxMessageSize 100\r\n",
       " skinparam monochrome true\r\n",
       "skinparam classbackgroundcolor white\r\n",
       "skinparam shadowing false\r\n",
       "skinparam wrapWidth 300\r\n",
       "hide circle\r\n",
       "\r\n",
       "@enduml\r\n",
       "\n",
       "PlantUML version 1.2020.13(Sat Jun 13 12:26:38 UTC 2020)\n",
       "(EPL source distribution)\n",
       "Java Runtime: OpenJDK Runtime Environment\n",
       "JVM: OpenJDK 64-Bit Server VM\n",
       "Default Encoding: UTF-8\n",
       "Language: en\n",
       "Country: null\n",
       "--></g></svg>"
      ]
     },
     "execution_count": 7,
     "metadata": {},
     "output_type": "execute_result"
    }
   ],
   "source": [
    "%viz --style=\"COMPTREE\" --view=\"Sequence\" \"AliasImport\""
   ]
  },
  {
   "cell_type": "code",
   "execution_count": 8,
   "id": "f9edae9b",
   "metadata": {
    "execution": {
     "iopub.execute_input": "2022-03-03T09:59:05.999230Z",
     "iopub.status.busy": "2022-03-03T09:59:05.998587Z",
     "iopub.status.idle": "2022-03-03T09:59:06.041337Z",
     "shell.execute_reply": "2022-03-03T09:59:06.040956Z"
    }
   },
   "outputs": [
    {
     "data": {
      "image/svg+xml": [
       "<?xml version=\"1.0\" encoding=\"UTF-8\" standalone=\"no\"?><svg xmlns=\"http://www.w3.org/2000/svg\" xmlns:xlink=\"http://www.w3.org/1999/xlink\" contentScriptType=\"application/ecmascript\" contentStyleType=\"text/css\" height=\"360px\" preserveAspectRatio=\"none\" style=\"width:275px;height:360px;\" version=\"1.1\" viewBox=\"0 0 275 360\" width=\"275px\" zoomAndPan=\"magnify\"><defs/><g><!--MD5=[fbc87193dbaf4d95561dea2c320d4a47]\n",
       "cluster E1--><a href=\"psysml:a09df071-4715-4742-883e-cd73e8c4aa55\" target=\"_top\" title=\"psysml:a09df071-4715-4742-883e-cd73e8c4aa55\" xlink:actuate=\"onRequest\" xlink:href=\"psysml:a09df071-4715-4742-883e-cd73e8c4aa55\" xlink:show=\"new\" xlink:title=\"psysml:a09df071-4715-4742-883e-cd73e8c4aa55\" xlink:type=\"simple\"><polygon fill=\"#FFFFFF\" points=\"16,6,97,6,104,28.2969,253,28.2969,253,348,16,348,16,6\" style=\"stroke: #000000; stroke-width: 1.5;\"/><line style=\"stroke: #000000; stroke-width: 1.5;\" x1=\"16\" x2=\"104\" y1=\"28.2969\" y2=\"28.2969\"/><text fill=\"#000000\" font-family=\"sans-serif\" font-size=\"14\" font-weight=\"bold\" lengthAdjust=\"spacingAndGlyphs\" textLength=\"75\" x=\"20\" y=\"20.9951\">AliasImport</text></a><!--MD5=[e4f7fae6ed58524ba242bb0b0d3be6b7]\n",
       "cluster E2--><a href=\"psysml:9e891321-89ab-46bb-b178-ae51d516b5d5\" target=\"_top\" title=\"psysml:9e891321-89ab-46bb-b178-ae51d516b5d5\" xlink:actuate=\"onRequest\" xlink:href=\"psysml:9e891321-89ab-46bb-b178-ae51d516b5d5\" xlink:show=\"new\" xlink:title=\"psysml:9e891321-89ab-46bb-b178-ae51d516b5d5\" xlink:type=\"simple\"><polygon fill=\"#FFFFFF\" points=\"65,227,144,227,151,249.2969,167,249.2969,167,324,65,324,65,227\" style=\"stroke: #000000; stroke-width: 1.5;\"/><line style=\"stroke: #000000; stroke-width: 1.5;\" x1=\"65\" x2=\"151\" y1=\"249.2969\" y2=\"249.2969\"/><text fill=\"#000000\" font-family=\"sans-serif\" font-size=\"14\" font-weight=\"bold\" lengthAdjust=\"spacingAndGlyphs\" textLength=\"73\" x=\"69\" y=\"241.9951\">Definitions</text></a><!--MD5=[f6df4d0ebaf0b5dfb2ced0ae5af7c670]\n",
       "cluster E4--><a href=\"psysml:0357df57-b813-4001-8053-0943e42884ef\" target=\"_top\" title=\"psysml:0357df57-b813-4001-8053-0943e42884ef\" xlink:actuate=\"onRequest\" xlink:href=\"psysml:0357df57-b813-4001-8053-0943e42884ef\" xlink:show=\"new\" xlink:title=\"psysml:0357df57-b813-4001-8053-0943e42884ef\" xlink:type=\"simple\"><polygon fill=\"#FFFFFF\" points=\"48,57,106,57,113,79.2969,221,79.2969,221,170,48,170,48,57\" style=\"stroke: #000000; stroke-width: 1.5;\"/><line style=\"stroke: #000000; stroke-width: 1.5;\" x1=\"48\" x2=\"113\" y1=\"79.2969\" y2=\"79.2969\"/><text fill=\"#000000\" font-family=\"sans-serif\" font-size=\"14\" font-weight=\"bold\" lengthAdjust=\"spacingAndGlyphs\" textLength=\"52\" x=\"52\" y=\"71.9951\">Usages</text></a><!--MD5=[09b614a08d8cba4a07c9adeb5e0fee81]\n",
       "class E3--><a href=\"psysml:aed7d351-ec1f-43ef-9181-965f0e0fafe7\" target=\"_top\" title=\"psysml:aed7d351-ec1f-43ef-9181-965f0e0fafe7\" xlink:actuate=\"onRequest\" xlink:href=\"psysml:aed7d351-ec1f-43ef-9181-965f0e0fafe7\" xlink:show=\"new\" xlink:title=\"psysml:aed7d351-ec1f-43ef-9181-965f0e0fafe7\" xlink:type=\"simple\"><rect fill=\"#FFFFFF\" height=\"45.9375\" id=\"E3\" style=\"stroke: #383838; stroke-width: 1.5;\" width=\"70\" x=\"81\" y=\"262\"/><text fill=\"#000000\" font-family=\"sans-serif\" font-size=\"12\" font-style=\"italic\" lengthAdjust=\"spacingAndGlyphs\" textLength=\"68\" x=\"82\" y=\"278.1387\">«part  def»</text><text fill=\"#000000\" font-family=\"sans-serif\" font-size=\"12\" lengthAdjust=\"spacingAndGlyphs\" textLength=\"45\" x=\"93.5\" y=\"292.1074\">Vehicle</text><line style=\"stroke: #383838; stroke-width: 1.5;\" x1=\"82\" x2=\"150\" y1=\"299.9375\" y2=\"299.9375\"/></a><!--MD5=[270fce915f116d4de14055a7c1d9a0f3]\n",
       "class E5--><a href=\"psysml:9c4f7a54-8ea6-458e-b6c7-855d1197e506\" target=\"_top\" title=\"psysml:9c4f7a54-8ea6-458e-b6c7-855d1197e506\" xlink:actuate=\"onRequest\" xlink:href=\"psysml:9c4f7a54-8ea6-458e-b6c7-855d1197e506\" xlink:show=\"new\" xlink:title=\"psysml:9c4f7a54-8ea6-458e-b6c7-855d1197e506\" xlink:type=\"simple\"><rect fill=\"#FFFFFF\" height=\"45.9375\" id=\"E5\" rx=\"10\" ry=\"10\" style=\"stroke: #383838; stroke-width: 1.5;\" width=\"106\" x=\"91\" y=\"100\"/><text fill=\"#000000\" font-family=\"sans-serif\" font-size=\"12\" font-style=\"italic\" lengthAdjust=\"spacingAndGlyphs\" textLength=\"40\" x=\"124\" y=\"116.1387\">«part»</text><text fill=\"#000000\" font-family=\"sans-serif\" font-size=\"12\" lengthAdjust=\"spacingAndGlyphs\" textLength=\"96\" x=\"94\" y=\"130.1074\">vehicle: Vehicle</text><line style=\"stroke: #383838; stroke-width: 1.5;\" x1=\"92\" x2=\"196\" y1=\"137.9375\" y2=\"137.9375\"/></a><!--MD5=[f0cdf4548168e5211fb3a02bf679d63a]\n",
       "link E4 to E3--><a href=\"psysml:b99e9f78-77ea-4cdc-866d-b9796624c080\" target=\"_top\" title=\"psysml:b99e9f78-77ea-4cdc-866d-b9796624c080\" xlink:actuate=\"onRequest\" xlink:href=\"psysml:b99e9f78-77ea-4cdc-866d-b9796624c080\" xlink:show=\"new\" xlink:title=\"psysml:b99e9f78-77ea-4cdc-866d-b9796624c080\" xlink:type=\"simple\"><path d=\"M58.5005,170.0549 C58.5193,170.2001 58.5383,170.3454 58.5574,170.4908 C58.6338,171.0725 58.7124,171.6562 58.7932,172.2415 C58.9548,173.4122 59.1253,174.5898 59.3052,175.7725 C59.6651,178.1379 60.0625,180.5238 60.5014,182.9158 C62.2569,192.4838 64.675,202.15 68,211 C74.23,227.58 84.77,244.23 94.38,257.43 \" fill=\"none\" id=\"E4-&gt;E3\" style=\"stroke: #383838; stroke-width: 1.0; stroke-dasharray: 7.0,7.0;\"/><polygon fill=\"#383838\" points=\"97.6,261.77,95.4384,252.1613,94.616,257.758,89.0193,256.9357,97.6,261.77\" style=\"stroke: #383838; stroke-width: 1.0;\"/><text fill=\"#000000\" font-family=\"sans-serif\" font-size=\"13\" lengthAdjust=\"spacingAndGlyphs\" textLength=\"58\" x=\"69\" y=\"207.0669\">«import»</text></a><!--MD5=[e9be52314489bd878ff4c7144b63c9e1]\n",
       "link E5 to E3--><a href=\"psysml:c70856ba-dfdd-4aff-ab00-0a9f4968bc68\" target=\"_top\" title=\"psysml:c70856ba-dfdd-4aff-ab00-0a9f4968bc68\" xlink:actuate=\"onRequest\" xlink:href=\"psysml:c70856ba-dfdd-4aff-ab00-0a9f4968bc68\" xlink:show=\"new\" xlink:title=\"psysml:c70856ba-dfdd-4aff-ab00-0a9f4968bc68\" xlink:type=\"simple\"><path d=\"M143.03,146.32 C142,163.98 139.95,189.21 136,211 C134.13,221.29 131.49,232.23 128.74,242.43 \" fill=\"none\" id=\"E5-&gt;E3\" style=\"stroke: #383838; stroke-width: 1.0;\"/><polygon fill=\"#FFFFFF\" points=\"123.15,261.87,121.6727,241.6755,135.1276,245.544,123.15,261.87\" style=\"stroke: #383838; stroke-width: 1.0;\"/><ellipse cx=\"125.1699\" cy=\"236.7501\" fill=\"#383838\" rx=\"2\" ry=\"2\" style=\"stroke: #383838; stroke-width: 1.0;\"/><ellipse cx=\"134.7805\" cy=\"239.5133\" fill=\"#383838\" rx=\"2\" ry=\"2\" style=\"stroke: #383838; stroke-width: 1.0;\"/></a><!--MD5=[86333799cdf7c8ba489baaece256b026]\n",
       "@startuml\r\n",
       " skinparam monochrome true\r\n",
       "skinparam classbackgroundcolor white\r\n",
       "skinparam shadowing false\r\n",
       "skinparam wrapWidth 300\r\n",
       "hide circle\r\n",
       "\r\n",
       "package \"AliasImport\" as E1  [[psysml:a09df071-4715-4742-883e-cd73e8c4aa55 ]]  {\r\n",
       "package \"Definitions\" as E2  [[psysml:9e891321-89ab-46bb-b178-ae51d516b5d5 ]]  {\r\n",
       "comp def \"Vehicle\" as E3  <<(T,blue) part  def>> [[psysml:aed7d351-ec1f-43ef-9181-965f0e0fafe7 ]] {\r\n",
       "}\r\n",
       "}\r\n",
       "package \"Usages\" as E4  [[psysml:0357df57-b813-4001-8053-0943e42884ef ]]  {\r\n",
       "comp usage \"vehicle: Vehicle \" as E5  <<(T,blue) part>> [[psysml:9c4f7a54-8ea6-458e-b6c7-855d1197e506 ]] {\r\n",
       "}\r\n",
       "}\r\n",
       "}\r\n",
       "E4 ..> E3 [[psysml:b99e9f78-77ea-4cdc-866d-b9796624c080 ]] : <<import>>\r\n",
       "E5 - -:|> E3 [[psysml:c70856ba-dfdd-4aff-ab00-0a9f4968bc68 ]] \r\n",
       "@enduml\r\n",
       "\n",
       "PlantUML version 1.2020.13(Sat Jun 13 12:26:38 UTC 2020)\n",
       "(EPL source distribution)\n",
       "Java Runtime: OpenJDK Runtime Environment\n",
       "JVM: OpenJDK 64-Bit Server VM\n",
       "Default Encoding: UTF-8\n",
       "Language: en\n",
       "Country: null\n",
       "--></g></svg>"
      ]
     },
     "execution_count": 8,
     "metadata": {},
     "output_type": "execute_result"
    }
   ],
   "source": [
    "%viz --style=\"COMPTREE\" --view=\"MIXED\" \"AliasImport\""
   ]
  },
  {
   "cell_type": "code",
   "execution_count": 9,
   "id": "963af342",
   "metadata": {
    "execution": {
     "iopub.execute_input": "2022-03-03T09:59:06.091728Z",
     "iopub.status.busy": "2022-03-03T09:59:06.091117Z",
     "iopub.status.idle": "2022-03-03T09:59:06.131974Z",
     "shell.execute_reply": "2022-03-03T09:59:06.131467Z"
    }
   },
   "outputs": [
    {
     "data": {
      "image/svg+xml": [
       "<?xml version=\"1.0\" encoding=\"UTF-8\" standalone=\"no\"?><svg xmlns=\"http://www.w3.org/2000/svg\" xmlns:xlink=\"http://www.w3.org/1999/xlink\" contentScriptType=\"application/ecmascript\" contentStyleType=\"text/css\" height=\"360px\" preserveAspectRatio=\"none\" style=\"width:275px;height:360px;\" version=\"1.1\" viewBox=\"0 0 275 360\" width=\"275px\" zoomAndPan=\"magnify\"><defs/><g><!--MD5=[fbc87193dbaf4d95561dea2c320d4a47]\n",
       "cluster E1--><a href=\"psysml:a09df071-4715-4742-883e-cd73e8c4aa55\" target=\"_top\" title=\"psysml:a09df071-4715-4742-883e-cd73e8c4aa55\" xlink:actuate=\"onRequest\" xlink:href=\"psysml:a09df071-4715-4742-883e-cd73e8c4aa55\" xlink:show=\"new\" xlink:title=\"psysml:a09df071-4715-4742-883e-cd73e8c4aa55\" xlink:type=\"simple\"><polygon fill=\"#FFFFFF\" points=\"16,6,97,6,104,28.2969,253,28.2969,253,348,16,348,16,6\" style=\"stroke: #000000; stroke-width: 1.5;\"/><line style=\"stroke: #000000; stroke-width: 1.5;\" x1=\"16\" x2=\"104\" y1=\"28.2969\" y2=\"28.2969\"/><text fill=\"#000000\" font-family=\"sans-serif\" font-size=\"14\" font-weight=\"bold\" lengthAdjust=\"spacingAndGlyphs\" textLength=\"75\" x=\"20\" y=\"20.9951\">AliasImport</text></a><!--MD5=[e4f7fae6ed58524ba242bb0b0d3be6b7]\n",
       "cluster E2--><a href=\"psysml:9e891321-89ab-46bb-b178-ae51d516b5d5\" target=\"_top\" title=\"psysml:9e891321-89ab-46bb-b178-ae51d516b5d5\" xlink:actuate=\"onRequest\" xlink:href=\"psysml:9e891321-89ab-46bb-b178-ae51d516b5d5\" xlink:show=\"new\" xlink:title=\"psysml:9e891321-89ab-46bb-b178-ae51d516b5d5\" xlink:type=\"simple\"><polygon fill=\"#FFFFFF\" points=\"65,227,144,227,151,249.2969,167,249.2969,167,324,65,324,65,227\" style=\"stroke: #000000; stroke-width: 1.5;\"/><line style=\"stroke: #000000; stroke-width: 1.5;\" x1=\"65\" x2=\"151\" y1=\"249.2969\" y2=\"249.2969\"/><text fill=\"#000000\" font-family=\"sans-serif\" font-size=\"14\" font-weight=\"bold\" lengthAdjust=\"spacingAndGlyphs\" textLength=\"73\" x=\"69\" y=\"241.9951\">Definitions</text></a><!--MD5=[f6df4d0ebaf0b5dfb2ced0ae5af7c670]\n",
       "cluster E4--><a href=\"psysml:0357df57-b813-4001-8053-0943e42884ef\" target=\"_top\" title=\"psysml:0357df57-b813-4001-8053-0943e42884ef\" xlink:actuate=\"onRequest\" xlink:href=\"psysml:0357df57-b813-4001-8053-0943e42884ef\" xlink:show=\"new\" xlink:title=\"psysml:0357df57-b813-4001-8053-0943e42884ef\" xlink:type=\"simple\"><polygon fill=\"#FFFFFF\" points=\"48,57,106,57,113,79.2969,221,79.2969,221,170,48,170,48,57\" style=\"stroke: #000000; stroke-width: 1.5;\"/><line style=\"stroke: #000000; stroke-width: 1.5;\" x1=\"48\" x2=\"113\" y1=\"79.2969\" y2=\"79.2969\"/><text fill=\"#000000\" font-family=\"sans-serif\" font-size=\"14\" font-weight=\"bold\" lengthAdjust=\"spacingAndGlyphs\" textLength=\"52\" x=\"52\" y=\"71.9951\">Usages</text></a><!--MD5=[09b614a08d8cba4a07c9adeb5e0fee81]\n",
       "class E3--><a href=\"psysml:aed7d351-ec1f-43ef-9181-965f0e0fafe7\" target=\"_top\" title=\"psysml:aed7d351-ec1f-43ef-9181-965f0e0fafe7\" xlink:actuate=\"onRequest\" xlink:href=\"psysml:aed7d351-ec1f-43ef-9181-965f0e0fafe7\" xlink:show=\"new\" xlink:title=\"psysml:aed7d351-ec1f-43ef-9181-965f0e0fafe7\" xlink:type=\"simple\"><rect fill=\"#FFFFFF\" height=\"45.9375\" id=\"E3\" style=\"stroke: #383838; stroke-width: 1.5;\" width=\"70\" x=\"81\" y=\"262\"/><text fill=\"#000000\" font-family=\"sans-serif\" font-size=\"12\" font-style=\"italic\" lengthAdjust=\"spacingAndGlyphs\" textLength=\"68\" x=\"82\" y=\"278.1387\">«part  def»</text><text fill=\"#000000\" font-family=\"sans-serif\" font-size=\"12\" lengthAdjust=\"spacingAndGlyphs\" textLength=\"45\" x=\"93.5\" y=\"292.1074\">Vehicle</text><line style=\"stroke: #383838; stroke-width: 1.5;\" x1=\"82\" x2=\"150\" y1=\"299.9375\" y2=\"299.9375\"/></a><!--MD5=[270fce915f116d4de14055a7c1d9a0f3]\n",
       "class E5--><a href=\"psysml:9c4f7a54-8ea6-458e-b6c7-855d1197e506\" target=\"_top\" title=\"psysml:9c4f7a54-8ea6-458e-b6c7-855d1197e506\" xlink:actuate=\"onRequest\" xlink:href=\"psysml:9c4f7a54-8ea6-458e-b6c7-855d1197e506\" xlink:show=\"new\" xlink:title=\"psysml:9c4f7a54-8ea6-458e-b6c7-855d1197e506\" xlink:type=\"simple\"><rect fill=\"#FFFFFF\" height=\"45.9375\" id=\"E5\" rx=\"10\" ry=\"10\" style=\"stroke: #383838; stroke-width: 1.5;\" width=\"106\" x=\"91\" y=\"100\"/><text fill=\"#000000\" font-family=\"sans-serif\" font-size=\"12\" font-style=\"italic\" lengthAdjust=\"spacingAndGlyphs\" textLength=\"40\" x=\"124\" y=\"116.1387\">«part»</text><text fill=\"#000000\" font-family=\"sans-serif\" font-size=\"12\" lengthAdjust=\"spacingAndGlyphs\" textLength=\"96\" x=\"94\" y=\"130.1074\">vehicle: Vehicle</text><line style=\"stroke: #383838; stroke-width: 1.5;\" x1=\"92\" x2=\"196\" y1=\"137.9375\" y2=\"137.9375\"/></a><!--MD5=[f0cdf4548168e5211fb3a02bf679d63a]\n",
       "link E4 to E3--><a href=\"psysml:b99e9f78-77ea-4cdc-866d-b9796624c080\" target=\"_top\" title=\"psysml:b99e9f78-77ea-4cdc-866d-b9796624c080\" xlink:actuate=\"onRequest\" xlink:href=\"psysml:b99e9f78-77ea-4cdc-866d-b9796624c080\" xlink:show=\"new\" xlink:title=\"psysml:b99e9f78-77ea-4cdc-866d-b9796624c080\" xlink:type=\"simple\"><path d=\"M62.3475,170.0242 C62.3705,170.1912 62.3936,170.3582 62.4166,170.5251 C62.5087,171.1927 62.6006,171.8594 62.6924,172.5245 C62.8758,173.8547 63.0585,175.1785 63.2395,176.4909 C63.6016,179.1157 63.9573,181.6948 64.3012,184.1877 C64.989,189.1736 65.6292,193.8147 66.1772,197.7869 C67.2731,205.7313 68,211 68,211 C68,211 84.75,236.48 98.47,257.33 \" fill=\"none\" id=\"E4-&gt;E3\" style=\"stroke: #383838; stroke-width: 1.0; stroke-dasharray: 7.0,7.0;\"/><polygon fill=\"#383838\" points=\"101.34,261.7,99.7376,251.9824,98.593,257.5222,93.0531,256.3776,101.34,261.7\" style=\"stroke: #383838; stroke-width: 1.0;\"/><text fill=\"#000000\" font-family=\"sans-serif\" font-size=\"13\" lengthAdjust=\"spacingAndGlyphs\" textLength=\"58\" x=\"69\" y=\"207.0669\">«import»</text></a><!--MD5=[e9be52314489bd878ff4c7144b63c9e1]\n",
       "link E5 to E3--><a href=\"psysml:c70856ba-dfdd-4aff-ab00-0a9f4968bc68\" target=\"_top\" title=\"psysml:c70856ba-dfdd-4aff-ab00-0a9f4968bc68\" xlink:actuate=\"onRequest\" xlink:href=\"psysml:c70856ba-dfdd-4aff-ab00-0a9f4968bc68\" xlink:show=\"new\" xlink:title=\"psysml:c70856ba-dfdd-4aff-ab00-0a9f4968bc68\" xlink:type=\"simple\"><path d=\"M141.94,146.4 C139.57,172.18 136,211 136,211 C136,211 131.91,225.94 127.42,242.3 \" fill=\"none\" id=\"E5-&gt;E3\" style=\"stroke: #383838; stroke-width: 1.0;\"/><polygon fill=\"#FFFFFF\" points=\"122.11,261.7,120.3774,241.5258,133.8801,245.2238,122.11,261.7\" style=\"stroke: #383838; stroke-width: 1.0;\"/><ellipse cx=\"123.8119\" cy=\"236.5565\" fill=\"#383838\" rx=\"2\" ry=\"2\" style=\"stroke: #383838; stroke-width: 1.0;\"/><ellipse cx=\"133.4568\" cy=\"239.198\" fill=\"#383838\" rx=\"2\" ry=\"2\" style=\"stroke: #383838; stroke-width: 1.0;\"/></a><!--MD5=[33e34c7a36454d17787dc590cd1f670d]\n",
       "@startuml\r\n",
       "skinparam linetype polyline\r\n",
       "skinparam monochrome true\r\n",
       "skinparam classbackgroundcolor white\r\n",
       "skinparam shadowing false\r\n",
       "skinparam wrapWidth 300\r\n",
       "hide circle\r\n",
       "\r\n",
       "package \"AliasImport\" as E1  [[psysml:a09df071-4715-4742-883e-cd73e8c4aa55 ]]  {\r\n",
       "package \"Definitions\" as E2  [[psysml:9e891321-89ab-46bb-b178-ae51d516b5d5 ]]  {\r\n",
       "comp def \"Vehicle\" as E3  <<(T,blue) part  def>> [[psysml:aed7d351-ec1f-43ef-9181-965f0e0fafe7 ]] {\r\n",
       "}\r\n",
       "}\r\n",
       "package \"Usages\" as E4  [[psysml:0357df57-b813-4001-8053-0943e42884ef ]]  {\r\n",
       "comp usage \"vehicle: Vehicle \" as E5  <<(T,blue) part>> [[psysml:9c4f7a54-8ea6-458e-b6c7-855d1197e506 ]] {\r\n",
       "}\r\n",
       "}\r\n",
       "}\r\n",
       "E4 ..> E3 [[psysml:b99e9f78-77ea-4cdc-866d-b9796624c080 ]] : <<import>>\r\n",
       "E5 - -:|> E3 [[psysml:c70856ba-dfdd-4aff-ab00-0a9f4968bc68 ]] \r\n",
       "@enduml\r\n",
       "\n",
       "PlantUML version 1.2020.13(Sat Jun 13 12:26:38 UTC 2020)\n",
       "(EPL source distribution)\n",
       "Java Runtime: OpenJDK Runtime Environment\n",
       "JVM: OpenJDK 64-Bit Server VM\n",
       "Default Encoding: UTF-8\n",
       "Language: en\n",
       "Country: null\n",
       "--></g></svg>"
      ]
     },
     "execution_count": 9,
     "metadata": {},
     "output_type": "execute_result"
    }
   ],
   "source": [
    "%viz --style=\"POLYLINE\" --view=\"Default\" \"AliasImport\""
   ]
  },
  {
   "cell_type": "code",
   "execution_count": 10,
   "id": "48f2c79e",
   "metadata": {
    "execution": {
     "iopub.execute_input": "2022-03-03T09:59:06.181214Z",
     "iopub.status.busy": "2022-03-03T09:59:06.180767Z",
     "iopub.status.idle": "2022-03-03T09:59:06.222094Z",
     "shell.execute_reply": "2022-03-03T09:59:06.221716Z"
    }
   },
   "outputs": [
    {
     "data": {
      "image/svg+xml": [
       "<?xml version=\"1.0\" encoding=\"UTF-8\" standalone=\"no\"?><svg xmlns=\"http://www.w3.org/2000/svg\" xmlns:xlink=\"http://www.w3.org/1999/xlink\" contentScriptType=\"application/ecmascript\" contentStyleType=\"text/css\" height=\"360px\" preserveAspectRatio=\"none\" style=\"width:275px;height:360px;\" version=\"1.1\" viewBox=\"0 0 275 360\" width=\"275px\" zoomAndPan=\"magnify\"><defs/><g><!--MD5=[fbc87193dbaf4d95561dea2c320d4a47]\n",
       "cluster E1--><a href=\"psysml:a09df071-4715-4742-883e-cd73e8c4aa55\" target=\"_top\" title=\"psysml:a09df071-4715-4742-883e-cd73e8c4aa55\" xlink:actuate=\"onRequest\" xlink:href=\"psysml:a09df071-4715-4742-883e-cd73e8c4aa55\" xlink:show=\"new\" xlink:title=\"psysml:a09df071-4715-4742-883e-cd73e8c4aa55\" xlink:type=\"simple\"><polygon fill=\"#FFFFFF\" points=\"16,6,97,6,104,28.2969,253,28.2969,253,348,16,348,16,6\" style=\"stroke: #000000; stroke-width: 1.5;\"/><line style=\"stroke: #000000; stroke-width: 1.5;\" x1=\"16\" x2=\"104\" y1=\"28.2969\" y2=\"28.2969\"/><text fill=\"#000000\" font-family=\"sans-serif\" font-size=\"14\" font-weight=\"bold\" lengthAdjust=\"spacingAndGlyphs\" textLength=\"75\" x=\"20\" y=\"20.9951\">AliasImport</text></a><!--MD5=[e4f7fae6ed58524ba242bb0b0d3be6b7]\n",
       "cluster E2--><a href=\"psysml:9e891321-89ab-46bb-b178-ae51d516b5d5\" target=\"_top\" title=\"psysml:9e891321-89ab-46bb-b178-ae51d516b5d5\" xlink:actuate=\"onRequest\" xlink:href=\"psysml:9e891321-89ab-46bb-b178-ae51d516b5d5\" xlink:show=\"new\" xlink:title=\"psysml:9e891321-89ab-46bb-b178-ae51d516b5d5\" xlink:type=\"simple\"><polygon fill=\"#FFFFFF\" points=\"65,227,144,227,151,249.2969,167,249.2969,167,324,65,324,65,227\" style=\"stroke: #000000; stroke-width: 1.5;\"/><line style=\"stroke: #000000; stroke-width: 1.5;\" x1=\"65\" x2=\"151\" y1=\"249.2969\" y2=\"249.2969\"/><text fill=\"#000000\" font-family=\"sans-serif\" font-size=\"14\" font-weight=\"bold\" lengthAdjust=\"spacingAndGlyphs\" textLength=\"73\" x=\"69\" y=\"241.9951\">Definitions</text></a><!--MD5=[f6df4d0ebaf0b5dfb2ced0ae5af7c670]\n",
       "cluster E4--><a href=\"psysml:0357df57-b813-4001-8053-0943e42884ef\" target=\"_top\" title=\"psysml:0357df57-b813-4001-8053-0943e42884ef\" xlink:actuate=\"onRequest\" xlink:href=\"psysml:0357df57-b813-4001-8053-0943e42884ef\" xlink:show=\"new\" xlink:title=\"psysml:0357df57-b813-4001-8053-0943e42884ef\" xlink:type=\"simple\"><polygon fill=\"#FFFFFF\" points=\"48,57,106,57,113,79.2969,221,79.2969,221,170,48,170,48,57\" style=\"stroke: #000000; stroke-width: 1.5;\"/><line style=\"stroke: #000000; stroke-width: 1.5;\" x1=\"48\" x2=\"113\" y1=\"79.2969\" y2=\"79.2969\"/><text fill=\"#000000\" font-family=\"sans-serif\" font-size=\"14\" font-weight=\"bold\" lengthAdjust=\"spacingAndGlyphs\" textLength=\"52\" x=\"52\" y=\"71.9951\">Usages</text></a><!--MD5=[09b614a08d8cba4a07c9adeb5e0fee81]\n",
       "class E3--><a href=\"psysml:aed7d351-ec1f-43ef-9181-965f0e0fafe7\" target=\"_top\" title=\"psysml:aed7d351-ec1f-43ef-9181-965f0e0fafe7\" xlink:actuate=\"onRequest\" xlink:href=\"psysml:aed7d351-ec1f-43ef-9181-965f0e0fafe7\" xlink:show=\"new\" xlink:title=\"psysml:aed7d351-ec1f-43ef-9181-965f0e0fafe7\" xlink:type=\"simple\"><rect fill=\"#FFFFFF\" height=\"45.9375\" id=\"E3\" style=\"stroke: #383838; stroke-width: 1.5;\" width=\"70\" x=\"81\" y=\"262\"/><text fill=\"#000000\" font-family=\"sans-serif\" font-size=\"12\" font-style=\"italic\" lengthAdjust=\"spacingAndGlyphs\" textLength=\"68\" x=\"82\" y=\"278.1387\">«part  def»</text><text fill=\"#000000\" font-family=\"sans-serif\" font-size=\"12\" lengthAdjust=\"spacingAndGlyphs\" textLength=\"45\" x=\"93.5\" y=\"292.1074\">Vehicle</text><line style=\"stroke: #383838; stroke-width: 1.5;\" x1=\"82\" x2=\"150\" y1=\"299.9375\" y2=\"299.9375\"/></a><!--MD5=[270fce915f116d4de14055a7c1d9a0f3]\n",
       "class E5--><a href=\"psysml:9c4f7a54-8ea6-458e-b6c7-855d1197e506\" target=\"_top\" title=\"psysml:9c4f7a54-8ea6-458e-b6c7-855d1197e506\" xlink:actuate=\"onRequest\" xlink:href=\"psysml:9c4f7a54-8ea6-458e-b6c7-855d1197e506\" xlink:show=\"new\" xlink:title=\"psysml:9c4f7a54-8ea6-458e-b6c7-855d1197e506\" xlink:type=\"simple\"><rect fill=\"#FFFFFF\" height=\"45.9375\" id=\"E5\" rx=\"10\" ry=\"10\" style=\"stroke: #383838; stroke-width: 1.5;\" width=\"106\" x=\"91\" y=\"100\"/><text fill=\"#000000\" font-family=\"sans-serif\" font-size=\"12\" font-style=\"italic\" lengthAdjust=\"spacingAndGlyphs\" textLength=\"40\" x=\"124\" y=\"116.1387\">«part»</text><text fill=\"#000000\" font-family=\"sans-serif\" font-size=\"12\" lengthAdjust=\"spacingAndGlyphs\" textLength=\"96\" x=\"94\" y=\"130.1074\">vehicle: Vehicle</text><line style=\"stroke: #383838; stroke-width: 1.5;\" x1=\"92\" x2=\"196\" y1=\"137.9375\" y2=\"137.9375\"/></a><!--MD5=[f0cdf4548168e5211fb3a02bf679d63a]\n",
       "link E4 to E3--><a href=\"psysml:b99e9f78-77ea-4cdc-866d-b9796624c080\" target=\"_top\" title=\"psysml:b99e9f78-77ea-4cdc-866d-b9796624c080\" xlink:actuate=\"onRequest\" xlink:href=\"psysml:b99e9f78-77ea-4cdc-866d-b9796624c080\" xlink:show=\"new\" xlink:title=\"psysml:b99e9f78-77ea-4cdc-866d-b9796624c080\" xlink:type=\"simple\"><path d=\"M62.3475,170.0242 C62.3705,170.1912 62.3936,170.3582 62.4166,170.5251 C62.5087,171.1927 62.6006,171.8594 62.6924,172.5245 C62.8758,173.8547 63.0585,175.1785 63.2395,176.4909 C63.6016,179.1157 63.9573,181.6948 64.3012,184.1877 C64.989,189.1736 65.6292,193.8147 66.1772,197.7869 C67.2731,205.7313 68,211 68,211 C68,211 84.75,236.48 98.47,257.33 \" fill=\"none\" id=\"E4-&gt;E3\" style=\"stroke: #383838; stroke-width: 1.0; stroke-dasharray: 7.0,7.0;\"/><polygon fill=\"#383838\" points=\"101.34,261.7,99.7376,251.9824,98.593,257.5222,93.0531,256.3776,101.34,261.7\" style=\"stroke: #383838; stroke-width: 1.0;\"/><text fill=\"#000000\" font-family=\"sans-serif\" font-size=\"13\" lengthAdjust=\"spacingAndGlyphs\" textLength=\"58\" x=\"69\" y=\"207.0669\">«import»</text></a><!--MD5=[e9be52314489bd878ff4c7144b63c9e1]\n",
       "link E5 to E3--><a href=\"psysml:c70856ba-dfdd-4aff-ab00-0a9f4968bc68\" target=\"_top\" title=\"psysml:c70856ba-dfdd-4aff-ab00-0a9f4968bc68\" xlink:actuate=\"onRequest\" xlink:href=\"psysml:c70856ba-dfdd-4aff-ab00-0a9f4968bc68\" xlink:show=\"new\" xlink:title=\"psysml:c70856ba-dfdd-4aff-ab00-0a9f4968bc68\" xlink:type=\"simple\"><path d=\"M141.94,146.4 C139.57,172.18 136,211 136,211 C136,211 131.91,225.94 127.42,242.3 \" fill=\"none\" id=\"E5-&gt;E3\" style=\"stroke: #383838; stroke-width: 1.0;\"/><polygon fill=\"#FFFFFF\" points=\"122.11,261.7,120.3774,241.5258,133.8801,245.2238,122.11,261.7\" style=\"stroke: #383838; stroke-width: 1.0;\"/><ellipse cx=\"123.8119\" cy=\"236.5565\" fill=\"#383838\" rx=\"2\" ry=\"2\" style=\"stroke: #383838; stroke-width: 1.0;\"/><ellipse cx=\"133.4568\" cy=\"239.198\" fill=\"#383838\" rx=\"2\" ry=\"2\" style=\"stroke: #383838; stroke-width: 1.0;\"/></a><!--MD5=[33e34c7a36454d17787dc590cd1f670d]\n",
       "@startuml\r\n",
       "skinparam linetype polyline\r\n",
       "skinparam monochrome true\r\n",
       "skinparam classbackgroundcolor white\r\n",
       "skinparam shadowing false\r\n",
       "skinparam wrapWidth 300\r\n",
       "hide circle\r\n",
       "\r\n",
       "package \"AliasImport\" as E1  [[psysml:a09df071-4715-4742-883e-cd73e8c4aa55 ]]  {\r\n",
       "package \"Definitions\" as E2  [[psysml:9e891321-89ab-46bb-b178-ae51d516b5d5 ]]  {\r\n",
       "comp def \"Vehicle\" as E3  <<(T,blue) part  def>> [[psysml:aed7d351-ec1f-43ef-9181-965f0e0fafe7 ]] {\r\n",
       "}\r\n",
       "}\r\n",
       "package \"Usages\" as E4  [[psysml:0357df57-b813-4001-8053-0943e42884ef ]]  {\r\n",
       "comp usage \"vehicle: Vehicle \" as E5  <<(T,blue) part>> [[psysml:9c4f7a54-8ea6-458e-b6c7-855d1197e506 ]] {\r\n",
       "}\r\n",
       "}\r\n",
       "}\r\n",
       "E4 ..> E3 [[psysml:b99e9f78-77ea-4cdc-866d-b9796624c080 ]] : <<import>>\r\n",
       "E5 - -:|> E3 [[psysml:c70856ba-dfdd-4aff-ab00-0a9f4968bc68 ]] \r\n",
       "@enduml\r\n",
       "\n",
       "PlantUML version 1.2020.13(Sat Jun 13 12:26:38 UTC 2020)\n",
       "(EPL source distribution)\n",
       "Java Runtime: OpenJDK Runtime Environment\n",
       "JVM: OpenJDK 64-Bit Server VM\n",
       "Default Encoding: UTF-8\n",
       "Language: en\n",
       "Country: null\n",
       "--></g></svg>"
      ]
     },
     "execution_count": 10,
     "metadata": {},
     "output_type": "execute_result"
    }
   ],
   "source": [
    "%viz --style=\"POLYLINE\" --view=\"Tree\" \"AliasImport\""
   ]
  },
  {
   "cell_type": "code",
   "execution_count": 11,
   "id": "fd95a0f6",
   "metadata": {
    "execution": {
     "iopub.execute_input": "2022-03-03T09:59:06.271884Z",
     "iopub.status.busy": "2022-03-03T09:59:06.271458Z",
     "iopub.status.idle": "2022-03-03T09:59:06.277936Z",
     "shell.execute_reply": "2022-03-03T09:59:06.278256Z"
    }
   },
   "outputs": [
    {
     "data": {
      "image/svg+xml": [
       "<?xml version=\"1.0\" encoding=\"UTF-8\" standalone=\"no\"?><svg xmlns=\"http://www.w3.org/2000/svg\" xmlns:xlink=\"http://www.w3.org/1999/xlink\" contentScriptType=\"application/ecmascript\" contentStyleType=\"text/css\" height=\"12px\" preserveAspectRatio=\"none\" style=\"width:12px;height:12px;\" version=\"1.1\" viewBox=\"0 0 12 12\" width=\"12px\" zoomAndPan=\"magnify\"><defs/><g><!--MD5=[896ac0e7a515d8dd7765a661cb4ee08b]\n",
       "@startuml\r\n",
       "skinparam linetype polyline\r\n",
       "skinparam monochrome true\r\n",
       "skinparam classbackgroundcolor white\r\n",
       "skinparam shadowing false\r\n",
       "skinparam wrapWidth 300\r\n",
       "hide circle\r\n",
       "\r\n",
       "@enduml\r\n",
       "\n",
       "PlantUML version 1.2020.13(Sat Jun 13 12:26:38 UTC 2020)\n",
       "(EPL source distribution)\n",
       "Java Runtime: OpenJDK Runtime Environment\n",
       "JVM: OpenJDK 64-Bit Server VM\n",
       "Default Encoding: UTF-8\n",
       "Language: en\n",
       "Country: null\n",
       "--></g></svg>"
      ]
     },
     "execution_count": 11,
     "metadata": {},
     "output_type": "execute_result"
    }
   ],
   "source": [
    "%viz --style=\"POLYLINE\" --view=\"State\" \"AliasImport\""
   ]
  },
  {
   "cell_type": "code",
   "execution_count": 12,
   "id": "c7adc184",
   "metadata": {
    "execution": {
     "iopub.execute_input": "2022-03-03T09:59:06.328630Z",
     "iopub.status.busy": "2022-03-03T09:59:06.328216Z",
     "iopub.status.idle": "2022-03-03T09:59:06.367622Z",
     "shell.execute_reply": "2022-03-03T09:59:06.367946Z"
    }
   },
   "outputs": [
    {
     "data": {
      "image/svg+xml": [
       "<?xml version=\"1.0\" encoding=\"UTF-8\" standalone=\"no\"?><svg xmlns=\"http://www.w3.org/2000/svg\" xmlns:xlink=\"http://www.w3.org/1999/xlink\" contentScriptType=\"application/ecmascript\" contentStyleType=\"text/css\" height=\"351px\" preserveAspectRatio=\"none\" style=\"width:302px;height:351px;\" version=\"1.1\" viewBox=\"0 0 302 351\" width=\"302px\" zoomAndPan=\"magnify\"><defs/><g><!--MD5=[fbc87193dbaf4d95561dea2c320d4a47]\n",
       "cluster E1--><a href=\"psysml:a09df071-4715-4742-883e-cd73e8c4aa55\" target=\"_top\" title=\"psysml:a09df071-4715-4742-883e-cd73e8c4aa55\" xlink:actuate=\"onRequest\" xlink:href=\"psysml:a09df071-4715-4742-883e-cd73e8c4aa55\" xlink:show=\"new\" xlink:title=\"psysml:a09df071-4715-4742-883e-cd73e8c4aa55\" xlink:type=\"simple\"><polygon fill=\"#FFFFFF\" points=\"16,6,97,6,104,28.2969,280,28.2969,280,339,16,339,16,6\" style=\"stroke: #000000; stroke-width: 1.5;\"/><line style=\"stroke: #000000; stroke-width: 1.5;\" x1=\"16\" x2=\"104\" y1=\"28.2969\" y2=\"28.2969\"/><text fill=\"#000000\" font-family=\"sans-serif\" font-size=\"14\" font-weight=\"bold\" lengthAdjust=\"spacingAndGlyphs\" textLength=\"75\" x=\"20\" y=\"20.9951\">AliasImport</text></a><!--MD5=[e4f7fae6ed58524ba242bb0b0d3be6b7]\n",
       "cluster E2--><a href=\"psysml:9e891321-89ab-46bb-b178-ae51d516b5d5\" target=\"_top\" title=\"psysml:9e891321-89ab-46bb-b178-ae51d516b5d5\" xlink:actuate=\"onRequest\" xlink:href=\"psysml:9e891321-89ab-46bb-b178-ae51d516b5d5\" xlink:show=\"new\" xlink:title=\"psysml:9e891321-89ab-46bb-b178-ae51d516b5d5\" xlink:type=\"simple\"><polygon fill=\"#FFFFFF\" points=\"40,221,119,221,126,243.2969,256,243.2969,256,315,40,315,40,221\" style=\"stroke: #000000; stroke-width: 1.5;\"/><line style=\"stroke: #000000; stroke-width: 1.5;\" x1=\"40\" x2=\"126\" y1=\"243.2969\" y2=\"243.2969\"/><text fill=\"#000000\" font-family=\"sans-serif\" font-size=\"14\" font-weight=\"bold\" lengthAdjust=\"spacingAndGlyphs\" textLength=\"73\" x=\"44\" y=\"235.9951\">Definitions</text></a><!--MD5=[de5ec2e2e8f62f467e546659f5068c88]\n",
       "cluster E5--><a href=\"psysml:0357df57-b813-4001-8053-0943e42884ef\" target=\"_top\" title=\"psysml:0357df57-b813-4001-8053-0943e42884ef\" xlink:actuate=\"onRequest\" xlink:href=\"psysml:0357df57-b813-4001-8053-0943e42884ef\" xlink:show=\"new\" xlink:title=\"psysml:0357df57-b813-4001-8053-0943e42884ef\" xlink:type=\"simple\"><polygon fill=\"#FFFFFF\" points=\"74,57,132,57,139,79.2969,248,79.2969,248,164,74,164,74,57\" style=\"stroke: #000000; stroke-width: 1.5;\"/><line style=\"stroke: #000000; stroke-width: 1.5;\" x1=\"74\" x2=\"139\" y1=\"79.2969\" y2=\"79.2969\"/><text fill=\"#000000\" font-family=\"sans-serif\" font-size=\"14\" font-weight=\"bold\" lengthAdjust=\"spacingAndGlyphs\" textLength=\"52\" x=\"78\" y=\"71.9951\">Usages</text></a><g id=\"E1.E2.E3\"><a href=\"psysml:aed7d351-ec1f-43ef-9181-965f0e0fafe7\" target=\"_top\" title=\"psysml:aed7d351-ec1f-43ef-9181-965f0e0fafe7\" xlink:actuate=\"onRequest\" xlink:href=\"psysml:aed7d351-ec1f-43ef-9181-965f0e0fafe7\" xlink:show=\"new\" xlink:title=\"psysml:aed7d351-ec1f-43ef-9181-965f0e0fafe7\" xlink:type=\"simple\"><rect fill=\"#FFFFFF\" height=\"42.9375\" id=\"E3\" style=\"stroke: #383838; stroke-width: 1.5;\" width=\"75\" x=\"165.5\" y=\"256\"/><rect fill=\"#F8F8F8\" height=\"37.9375\" style=\"stroke: #383838; stroke-width: 1.5;\" width=\"75\" x=\"165.5\" y=\"256\"/><text fill=\"#000000\" font-family=\"sans-serif\" font-size=\"12\" font-style=\"italic\" lengthAdjust=\"spacingAndGlyphs\" textLength=\"68\" x=\"169\" y=\"272.1387\">«part  def»</text><text fill=\"#000000\" font-family=\"sans-serif\" font-size=\"12\" lengthAdjust=\"spacingAndGlyphs\" textLength=\"45\" x=\"180.5\" y=\"286.1074\">Vehicle</text></a></g><g id=\"E1.E2.E4\"><a href=\"psysml:aed7d351-ec1f-43ef-9181-965f0e0fafe7\" target=\"_top\" title=\"psysml:aed7d351-ec1f-43ef-9181-965f0e0fafe7\" xlink:actuate=\"onRequest\" xlink:href=\"psysml:aed7d351-ec1f-43ef-9181-965f0e0fafe7\" xlink:show=\"new\" xlink:title=\"psysml:aed7d351-ec1f-43ef-9181-965f0e0fafe7\" xlink:type=\"simple\"><rect fill=\"#FFFFFF\" height=\"42.9375\" id=\"E4\" style=\"stroke: #383838; stroke-width: 1.5;\" width=\"75\" x=\"55.5\" y=\"256\"/><rect fill=\"#F8F8F8\" height=\"37.9375\" style=\"stroke: #383838; stroke-width: 1.5;\" width=\"75\" x=\"55.5\" y=\"256\"/><text fill=\"#000000\" font-family=\"sans-serif\" font-size=\"12\" font-style=\"italic\" lengthAdjust=\"spacingAndGlyphs\" textLength=\"68\" x=\"59\" y=\"272.1387\">«part  def»</text><text fill=\"#000000\" font-family=\"sans-serif\" font-size=\"12\" lengthAdjust=\"spacingAndGlyphs\" textLength=\"45\" x=\"70.5\" y=\"286.1074\">Vehicle</text></a></g><g id=\"E1.E5.E6\"><a href=\"psysml:9c4f7a54-8ea6-458e-b6c7-855d1197e506\" target=\"_top\" title=\"psysml:9c4f7a54-8ea6-458e-b6c7-855d1197e506\" xlink:actuate=\"onRequest\" xlink:href=\"psysml:9c4f7a54-8ea6-458e-b6c7-855d1197e506\" xlink:show=\"new\" xlink:title=\"psysml:9c4f7a54-8ea6-458e-b6c7-855d1197e506\" xlink:type=\"simple\"><rect fill=\"#FFFFFF\" height=\"40\" id=\"E6\" rx=\"10\" ry=\"10\" style=\"stroke: #383838; stroke-width: 1.5;\" width=\"107\" x=\"117.5\" y=\"100\"/><rect fill=\"#F8F8F8\" height=\"23.9688\" rx=\"10\" ry=\"10\" style=\"stroke: #F8F8F8; stroke-width: 1.5;\" width=\"107\" x=\"117.5\" y=\"100\"/><rect fill=\"#F8F8F8\" height=\"10\" style=\"stroke: #F8F8F8; stroke-width: 1.5;\" width=\"107\" x=\"117.5\" y=\"113.9688\"/><rect fill=\"none\" height=\"40\" id=\"E6\" rx=\"10\" ry=\"10\" style=\"stroke: #383838; stroke-width: 1.5;\" width=\"107\" x=\"117.5\" y=\"100\"/><text fill=\"#000000\" font-family=\"sans-serif\" font-size=\"12\" lengthAdjust=\"spacingAndGlyphs\" textLength=\"96\" x=\"123\" y=\"116.1387\">vehicle: Vehicle</text></a></g><!--MD5=[1c62de2aa5b76f0fb657ff8443a1a700]\n",
       "link E5 to E4--><a href=\"psysml:b99e9f78-77ea-4cdc-866d-b9796624c080\" target=\"_top\" title=\"psysml:b99e9f78-77ea-4cdc-866d-b9796624c080\" xlink:actuate=\"onRequest\" xlink:href=\"psysml:b99e9f78-77ea-4cdc-866d-b9796624c080\" xlink:show=\"new\" xlink:title=\"psysml:b99e9f78-77ea-4cdc-866d-b9796624c080\" xlink:type=\"simple\"><path d=\"M85.0613,164.274 C85.0754,164.474 85.0896,164.6743 85.1038,164.8751 C85.1322,165.2765 85.1608,165.6795 85.1894,166.0839 C85.3039,167.7016 85.42,169.3423 85.5375,171.0025 C87.4175,197.565 89.65,229.1 91.18,250.73 \" fill=\"none\" id=\"E5-&gt;E4\" style=\"stroke: #383838; stroke-width: 1.0; stroke-dasharray: 7.0,7.0;\"/><polygon fill=\"#383838\" points=\"91.54,255.81,94.8867,246.5472,91.1827,250.8228,86.9072,247.1188,91.54,255.81\" style=\"stroke: #383838; stroke-width: 1.0;\"/><text fill=\"#000000\" font-family=\"sans-serif\" font-size=\"13\" lengthAdjust=\"spacingAndGlyphs\" textLength=\"58\" x=\"88\" y=\"201.0669\">«import»</text></a><!--MD5=[3c06d70654986bc7a8b66912f6a0111c]\n",
       "@startuml\r\n",
       "skinparam ranksep 10\r\n",
       "skinparam rectangle {\r\n",
       " backgroundColor<<block>> LightGreen\r\n",
       "}\r\n",
       "skinparam linetype polyline\r\n",
       "skinparam monochrome true\r\n",
       "skinparam classbackgroundcolor white\r\n",
       "skinparam shadowing false\r\n",
       "skinparam wrapWidth 300\r\n",
       "hide circle\r\n",
       "\r\n",
       "package \"AliasImport\" as E1  [[psysml:a09df071-4715-4742-883e-cd73e8c4aa55 ]]  {\r\n",
       "package \"Definitions\" as E2  [[psysml:9e891321-89ab-46bb-b178-ae51d516b5d5 ]]  {\r\n",
       "rec def \"Vehicle\" as E3  <<(T,blue) part  def>> [[psysml:aed7d351-ec1f-43ef-9181-965f0e0fafe7 ]] {\r\n",
       "}\r\n",
       "rec def \"Vehicle\" as E4  <<(T,blue) part  def>> [[psysml:aed7d351-ec1f-43ef-9181-965f0e0fafe7 ]] {\r\n",
       "}\r\n",
       "}\r\n",
       "package \"Usages\" as E5  [[psysml:0357df57-b813-4001-8053-0943e42884ef ]]  {\r\n",
       "rec usage \"vehicle: Vehicle\" as E6  [[psysml:9c4f7a54-8ea6-458e-b6c7-855d1197e506 ]] {\r\n",
       "}\r\n",
       "}\r\n",
       "}\r\n",
       "E5 ..> E4 [[psysml:b99e9f78-77ea-4cdc-866d-b9796624c080 ]] : <<import>>\r\n",
       "@enduml\r\n",
       "\n",
       "PlantUML version 1.2020.13(Sat Jun 13 12:26:38 UTC 2020)\n",
       "(EPL source distribution)\n",
       "Java Runtime: OpenJDK Runtime Environment\n",
       "JVM: OpenJDK 64-Bit Server VM\n",
       "Default Encoding: UTF-8\n",
       "Language: en\n",
       "Country: null\n",
       "--></g></svg>"
      ]
     },
     "execution_count": 12,
     "metadata": {},
     "output_type": "execute_result"
    }
   ],
   "source": [
    "%viz --style=\"POLYLINE\" --view=\"Interconnection\" \"AliasImport\""
   ]
  },
  {
   "cell_type": "code",
   "execution_count": 13,
   "id": "d2521350",
   "metadata": {
    "execution": {
     "iopub.execute_input": "2022-03-03T09:59:06.418159Z",
     "iopub.status.busy": "2022-03-03T09:59:06.417605Z",
     "iopub.status.idle": "2022-03-03T09:59:06.424091Z",
     "shell.execute_reply": "2022-03-03T09:59:06.424546Z"
    }
   },
   "outputs": [
    {
     "data": {
      "image/svg+xml": [
       "<?xml version=\"1.0\" encoding=\"UTF-8\" standalone=\"no\"?><svg xmlns=\"http://www.w3.org/2000/svg\" xmlns:xlink=\"http://www.w3.org/1999/xlink\" contentScriptType=\"application/ecmascript\" contentStyleType=\"text/css\" height=\"12px\" preserveAspectRatio=\"none\" style=\"width:12px;height:12px;\" version=\"1.1\" viewBox=\"0 0 12 12\" width=\"12px\" zoomAndPan=\"magnify\"><defs/><g><!--MD5=[97bbf32f66ccd50cbc40d92ea8f5a65e]\n",
       "@startuml\r\n",
       "skinparam ranksep 8\r\n",
       "skinparam linetype polyline\r\n",
       "skinparam monochrome true\r\n",
       "skinparam classbackgroundcolor white\r\n",
       "skinparam shadowing false\r\n",
       "skinparam wrapWidth 300\r\n",
       "hide circle\r\n",
       "\r\n",
       "@enduml\r\n",
       "\n",
       "PlantUML version 1.2020.13(Sat Jun 13 12:26:38 UTC 2020)\n",
       "(EPL source distribution)\n",
       "Java Runtime: OpenJDK Runtime Environment\n",
       "JVM: OpenJDK 64-Bit Server VM\n",
       "Default Encoding: UTF-8\n",
       "Language: en\n",
       "Country: null\n",
       "--></g></svg>"
      ]
     },
     "execution_count": 13,
     "metadata": {},
     "output_type": "execute_result"
    }
   ],
   "source": [
    "%viz --style=\"POLYLINE\" --view=\"Action\" \"AliasImport\""
   ]
  },
  {
   "cell_type": "code",
   "execution_count": 14,
   "id": "6b04a405",
   "metadata": {
    "execution": {
     "iopub.execute_input": "2022-03-03T09:59:06.474248Z",
     "iopub.status.busy": "2022-03-03T09:59:06.473841Z",
     "iopub.status.idle": "2022-03-03T09:59:06.479981Z",
     "shell.execute_reply": "2022-03-03T09:59:06.480299Z"
    }
   },
   "outputs": [
    {
     "data": {
      "image/svg+xml": [
       "<?xml version=\"1.0\" encoding=\"UTF-8\" standalone=\"no\"?><svg xmlns=\"http://www.w3.org/2000/svg\" xmlns:xlink=\"http://www.w3.org/1999/xlink\" contentScriptType=\"application/ecmascript\" contentStyleType=\"text/css\" height=\"12px\" preserveAspectRatio=\"none\" style=\"width:12px;height:12px;\" version=\"1.1\" viewBox=\"0 0 12 12\" width=\"12px\" zoomAndPan=\"magnify\"><defs/><g><!--MD5=[dc938048236c351797870c36b62f92ad]\n",
       "@startuml\r\n",
       "skinparam roundcorner 20\r\n",
       "skinparam BoxPadding 20\r\n",
       "skinparam SequenceBoxBackgroundColor #white\r\n",
       "skinparam style strictuml\r\n",
       "skinparam maxMessageSize 100\r\n",
       "skinparam linetype polyline\r\n",
       "skinparam monochrome true\r\n",
       "skinparam classbackgroundcolor white\r\n",
       "skinparam shadowing false\r\n",
       "skinparam wrapWidth 300\r\n",
       "hide circle\r\n",
       "\r\n",
       "@enduml\r\n",
       "\n",
       "PlantUML version 1.2020.13(Sat Jun 13 12:26:38 UTC 2020)\n",
       "(EPL source distribution)\n",
       "Java Runtime: OpenJDK Runtime Environment\n",
       "JVM: OpenJDK 64-Bit Server VM\n",
       "Default Encoding: UTF-8\n",
       "Language: en\n",
       "Country: null\n",
       "--></g></svg>"
      ]
     },
     "execution_count": 14,
     "metadata": {},
     "output_type": "execute_result"
    }
   ],
   "source": [
    "%viz --style=\"POLYLINE\" --view=\"Sequence\" \"AliasImport\""
   ]
  },
  {
   "cell_type": "code",
   "execution_count": 15,
   "id": "da17a041",
   "metadata": {
    "execution": {
     "iopub.execute_input": "2022-03-03T09:59:06.530602Z",
     "iopub.status.busy": "2022-03-03T09:59:06.530161Z",
     "iopub.status.idle": "2022-03-03T09:59:06.580638Z",
     "shell.execute_reply": "2022-03-03T09:59:06.579230Z"
    }
   },
   "outputs": [
    {
     "data": {
      "image/svg+xml": [
       "<?xml version=\"1.0\" encoding=\"UTF-8\" standalone=\"no\"?><svg xmlns=\"http://www.w3.org/2000/svg\" xmlns:xlink=\"http://www.w3.org/1999/xlink\" contentScriptType=\"application/ecmascript\" contentStyleType=\"text/css\" height=\"360px\" preserveAspectRatio=\"none\" style=\"width:275px;height:360px;\" version=\"1.1\" viewBox=\"0 0 275 360\" width=\"275px\" zoomAndPan=\"magnify\"><defs/><g><!--MD5=[fbc87193dbaf4d95561dea2c320d4a47]\n",
       "cluster E1--><a href=\"psysml:a09df071-4715-4742-883e-cd73e8c4aa55\" target=\"_top\" title=\"psysml:a09df071-4715-4742-883e-cd73e8c4aa55\" xlink:actuate=\"onRequest\" xlink:href=\"psysml:a09df071-4715-4742-883e-cd73e8c4aa55\" xlink:show=\"new\" xlink:title=\"psysml:a09df071-4715-4742-883e-cd73e8c4aa55\" xlink:type=\"simple\"><polygon fill=\"#FFFFFF\" points=\"16,6,97,6,104,28.2969,253,28.2969,253,348,16,348,16,6\" style=\"stroke: #000000; stroke-width: 1.5;\"/><line style=\"stroke: #000000; stroke-width: 1.5;\" x1=\"16\" x2=\"104\" y1=\"28.2969\" y2=\"28.2969\"/><text fill=\"#000000\" font-family=\"sans-serif\" font-size=\"14\" font-weight=\"bold\" lengthAdjust=\"spacingAndGlyphs\" textLength=\"75\" x=\"20\" y=\"20.9951\">AliasImport</text></a><!--MD5=[e4f7fae6ed58524ba242bb0b0d3be6b7]\n",
       "cluster E2--><a href=\"psysml:9e891321-89ab-46bb-b178-ae51d516b5d5\" target=\"_top\" title=\"psysml:9e891321-89ab-46bb-b178-ae51d516b5d5\" xlink:actuate=\"onRequest\" xlink:href=\"psysml:9e891321-89ab-46bb-b178-ae51d516b5d5\" xlink:show=\"new\" xlink:title=\"psysml:9e891321-89ab-46bb-b178-ae51d516b5d5\" xlink:type=\"simple\"><polygon fill=\"#FFFFFF\" points=\"65,227,144,227,151,249.2969,167,249.2969,167,324,65,324,65,227\" style=\"stroke: #000000; stroke-width: 1.5;\"/><line style=\"stroke: #000000; stroke-width: 1.5;\" x1=\"65\" x2=\"151\" y1=\"249.2969\" y2=\"249.2969\"/><text fill=\"#000000\" font-family=\"sans-serif\" font-size=\"14\" font-weight=\"bold\" lengthAdjust=\"spacingAndGlyphs\" textLength=\"73\" x=\"69\" y=\"241.9951\">Definitions</text></a><!--MD5=[f6df4d0ebaf0b5dfb2ced0ae5af7c670]\n",
       "cluster E4--><a href=\"psysml:0357df57-b813-4001-8053-0943e42884ef\" target=\"_top\" title=\"psysml:0357df57-b813-4001-8053-0943e42884ef\" xlink:actuate=\"onRequest\" xlink:href=\"psysml:0357df57-b813-4001-8053-0943e42884ef\" xlink:show=\"new\" xlink:title=\"psysml:0357df57-b813-4001-8053-0943e42884ef\" xlink:type=\"simple\"><polygon fill=\"#FFFFFF\" points=\"48,57,106,57,113,79.2969,221,79.2969,221,170,48,170,48,57\" style=\"stroke: #000000; stroke-width: 1.5;\"/><line style=\"stroke: #000000; stroke-width: 1.5;\" x1=\"48\" x2=\"113\" y1=\"79.2969\" y2=\"79.2969\"/><text fill=\"#000000\" font-family=\"sans-serif\" font-size=\"14\" font-weight=\"bold\" lengthAdjust=\"spacingAndGlyphs\" textLength=\"52\" x=\"52\" y=\"71.9951\">Usages</text></a><!--MD5=[09b614a08d8cba4a07c9adeb5e0fee81]\n",
       "class E3--><a href=\"psysml:aed7d351-ec1f-43ef-9181-965f0e0fafe7\" target=\"_top\" title=\"psysml:aed7d351-ec1f-43ef-9181-965f0e0fafe7\" xlink:actuate=\"onRequest\" xlink:href=\"psysml:aed7d351-ec1f-43ef-9181-965f0e0fafe7\" xlink:show=\"new\" xlink:title=\"psysml:aed7d351-ec1f-43ef-9181-965f0e0fafe7\" xlink:type=\"simple\"><rect fill=\"#FFFFFF\" height=\"45.9375\" id=\"E3\" style=\"stroke: #383838; stroke-width: 1.5;\" width=\"70\" x=\"81\" y=\"262\"/><text fill=\"#000000\" font-family=\"sans-serif\" font-size=\"12\" font-style=\"italic\" lengthAdjust=\"spacingAndGlyphs\" textLength=\"68\" x=\"82\" y=\"278.1387\">«part  def»</text><text fill=\"#000000\" font-family=\"sans-serif\" font-size=\"12\" lengthAdjust=\"spacingAndGlyphs\" textLength=\"45\" x=\"93.5\" y=\"292.1074\">Vehicle</text><line style=\"stroke: #383838; stroke-width: 1.5;\" x1=\"82\" x2=\"150\" y1=\"299.9375\" y2=\"299.9375\"/></a><!--MD5=[270fce915f116d4de14055a7c1d9a0f3]\n",
       "class E5--><a href=\"psysml:9c4f7a54-8ea6-458e-b6c7-855d1197e506\" target=\"_top\" title=\"psysml:9c4f7a54-8ea6-458e-b6c7-855d1197e506\" xlink:actuate=\"onRequest\" xlink:href=\"psysml:9c4f7a54-8ea6-458e-b6c7-855d1197e506\" xlink:show=\"new\" xlink:title=\"psysml:9c4f7a54-8ea6-458e-b6c7-855d1197e506\" xlink:type=\"simple\"><rect fill=\"#FFFFFF\" height=\"45.9375\" id=\"E5\" rx=\"10\" ry=\"10\" style=\"stroke: #383838; stroke-width: 1.5;\" width=\"106\" x=\"91\" y=\"100\"/><text fill=\"#000000\" font-family=\"sans-serif\" font-size=\"12\" font-style=\"italic\" lengthAdjust=\"spacingAndGlyphs\" textLength=\"40\" x=\"124\" y=\"116.1387\">«part»</text><text fill=\"#000000\" font-family=\"sans-serif\" font-size=\"12\" lengthAdjust=\"spacingAndGlyphs\" textLength=\"96\" x=\"94\" y=\"130.1074\">vehicle: Vehicle</text><line style=\"stroke: #383838; stroke-width: 1.5;\" x1=\"92\" x2=\"196\" y1=\"137.9375\" y2=\"137.9375\"/></a><!--MD5=[f0cdf4548168e5211fb3a02bf679d63a]\n",
       "link E4 to E3--><a href=\"psysml:b99e9f78-77ea-4cdc-866d-b9796624c080\" target=\"_top\" title=\"psysml:b99e9f78-77ea-4cdc-866d-b9796624c080\" xlink:actuate=\"onRequest\" xlink:href=\"psysml:b99e9f78-77ea-4cdc-866d-b9796624c080\" xlink:show=\"new\" xlink:title=\"psysml:b99e9f78-77ea-4cdc-866d-b9796624c080\" xlink:type=\"simple\"><path d=\"M62.3475,170.0242 C62.3705,170.1912 62.3936,170.3582 62.4166,170.5251 C62.5087,171.1927 62.6006,171.8594 62.6924,172.5245 C62.8758,173.8547 63.0585,175.1785 63.2395,176.4909 C63.6016,179.1157 63.9573,181.6948 64.3012,184.1877 C64.989,189.1736 65.6292,193.8147 66.1772,197.7869 C67.2731,205.7313 68,211 68,211 C68,211 84.75,236.48 98.47,257.33 \" fill=\"none\" id=\"E4-&gt;E3\" style=\"stroke: #383838; stroke-width: 1.0; stroke-dasharray: 7.0,7.0;\"/><polygon fill=\"#383838\" points=\"101.34,261.7,99.7376,251.9824,98.593,257.5222,93.0531,256.3776,101.34,261.7\" style=\"stroke: #383838; stroke-width: 1.0;\"/><text fill=\"#000000\" font-family=\"sans-serif\" font-size=\"13\" lengthAdjust=\"spacingAndGlyphs\" textLength=\"58\" x=\"69\" y=\"207.0669\">«import»</text></a><!--MD5=[e9be52314489bd878ff4c7144b63c9e1]\n",
       "link E5 to E3--><a href=\"psysml:c70856ba-dfdd-4aff-ab00-0a9f4968bc68\" target=\"_top\" title=\"psysml:c70856ba-dfdd-4aff-ab00-0a9f4968bc68\" xlink:actuate=\"onRequest\" xlink:href=\"psysml:c70856ba-dfdd-4aff-ab00-0a9f4968bc68\" xlink:show=\"new\" xlink:title=\"psysml:c70856ba-dfdd-4aff-ab00-0a9f4968bc68\" xlink:type=\"simple\"><path d=\"M141.94,146.4 C139.57,172.18 136,211 136,211 C136,211 131.91,225.94 127.42,242.3 \" fill=\"none\" id=\"E5-&gt;E3\" style=\"stroke: #383838; stroke-width: 1.0;\"/><polygon fill=\"#FFFFFF\" points=\"122.11,261.7,120.3774,241.5258,133.8801,245.2238,122.11,261.7\" style=\"stroke: #383838; stroke-width: 1.0;\"/><ellipse cx=\"123.8119\" cy=\"236.5565\" fill=\"#383838\" rx=\"2\" ry=\"2\" style=\"stroke: #383838; stroke-width: 1.0;\"/><ellipse cx=\"133.4568\" cy=\"239.198\" fill=\"#383838\" rx=\"2\" ry=\"2\" style=\"stroke: #383838; stroke-width: 1.0;\"/></a><!--MD5=[33e34c7a36454d17787dc590cd1f670d]\n",
       "@startuml\r\n",
       "skinparam linetype polyline\r\n",
       "skinparam monochrome true\r\n",
       "skinparam classbackgroundcolor white\r\n",
       "skinparam shadowing false\r\n",
       "skinparam wrapWidth 300\r\n",
       "hide circle\r\n",
       "\r\n",
       "package \"AliasImport\" as E1  [[psysml:a09df071-4715-4742-883e-cd73e8c4aa55 ]]  {\r\n",
       "package \"Definitions\" as E2  [[psysml:9e891321-89ab-46bb-b178-ae51d516b5d5 ]]  {\r\n",
       "comp def \"Vehicle\" as E3  <<(T,blue) part  def>> [[psysml:aed7d351-ec1f-43ef-9181-965f0e0fafe7 ]] {\r\n",
       "}\r\n",
       "}\r\n",
       "package \"Usages\" as E4  [[psysml:0357df57-b813-4001-8053-0943e42884ef ]]  {\r\n",
       "comp usage \"vehicle: Vehicle \" as E5  <<(T,blue) part>> [[psysml:9c4f7a54-8ea6-458e-b6c7-855d1197e506 ]] {\r\n",
       "}\r\n",
       "}\r\n",
       "}\r\n",
       "E4 ..> E3 [[psysml:b99e9f78-77ea-4cdc-866d-b9796624c080 ]] : <<import>>\r\n",
       "E5 - -:|> E3 [[psysml:c70856ba-dfdd-4aff-ab00-0a9f4968bc68 ]] \r\n",
       "@enduml\r\n",
       "\n",
       "PlantUML version 1.2020.13(Sat Jun 13 12:26:38 UTC 2020)\n",
       "(EPL source distribution)\n",
       "Java Runtime: OpenJDK Runtime Environment\n",
       "JVM: OpenJDK 64-Bit Server VM\n",
       "Default Encoding: UTF-8\n",
       "Language: en\n",
       "Country: null\n",
       "--></g></svg>"
      ]
     },
     "execution_count": 15,
     "metadata": {},
     "output_type": "execute_result"
    }
   ],
   "source": [
    "%viz --style=\"POLYLINE\" --view=\"MIXED\" \"AliasImport\""
   ]
  },
  {
   "cell_type": "code",
   "execution_count": 16,
   "id": "4f7df1f4",
   "metadata": {
    "execution": {
     "iopub.execute_input": "2022-03-03T09:59:06.630952Z",
     "iopub.status.busy": "2022-03-03T09:59:06.630408Z",
     "iopub.status.idle": "2022-03-03T09:59:06.665400Z",
     "shell.execute_reply": "2022-03-03T09:59:06.664890Z"
    }
   },
   "outputs": [
    {
     "data": {
      "image/svg+xml": [
       "<?xml version=\"1.0\" encoding=\"UTF-8\" standalone=\"no\"?><svg xmlns=\"http://www.w3.org/2000/svg\" xmlns:xlink=\"http://www.w3.org/1999/xlink\" contentScriptType=\"application/ecmascript\" contentStyleType=\"text/css\" height=\"233px\" preserveAspectRatio=\"none\" style=\"width:450px;height:233px;\" version=\"1.1\" viewBox=\"0 0 450 233\" width=\"450px\" zoomAndPan=\"magnify\"><defs/><g><!--MD5=[fbc87193dbaf4d95561dea2c320d4a47]\n",
       "cluster E1--><a href=\"psysml:a09df071-4715-4742-883e-cd73e8c4aa55\" target=\"_top\" title=\"psysml:a09df071-4715-4742-883e-cd73e8c4aa55\" xlink:actuate=\"onRequest\" xlink:href=\"psysml:a09df071-4715-4742-883e-cd73e8c4aa55\" xlink:show=\"new\" xlink:title=\"psysml:a09df071-4715-4742-883e-cd73e8c4aa55\" xlink:type=\"simple\"><polygon fill=\"#FFFFFF\" points=\"16,6,97,6,104,28.2969,428,28.2969,428,221,16,221,16,6\" style=\"stroke: #000000; stroke-width: 1.5;\"/><line style=\"stroke: #000000; stroke-width: 1.5;\" x1=\"16\" x2=\"104\" y1=\"28.2969\" y2=\"28.2969\"/><text fill=\"#000000\" font-family=\"sans-serif\" font-size=\"14\" font-weight=\"bold\" lengthAdjust=\"spacingAndGlyphs\" textLength=\"75\" x=\"20\" y=\"20.9951\">AliasImport</text></a><!--MD5=[e4f7fae6ed58524ba242bb0b0d3be6b7]\n",
       "cluster E2--><a href=\"psysml:9e891321-89ab-46bb-b178-ae51d516b5d5\" target=\"_top\" title=\"psysml:9e891321-89ab-46bb-b178-ae51d516b5d5\" xlink:actuate=\"onRequest\" xlink:href=\"psysml:9e891321-89ab-46bb-b178-ae51d516b5d5\" xlink:show=\"new\" xlink:title=\"psysml:9e891321-89ab-46bb-b178-ae51d516b5d5\" xlink:type=\"simple\"><polygon fill=\"#FFFFFF\" points=\"302,87,381,87,388,109.2969,404,109.2969,404,184,302,184,302,87\" style=\"stroke: #000000; stroke-width: 1.5;\"/><line style=\"stroke: #000000; stroke-width: 1.5;\" x1=\"302\" x2=\"388\" y1=\"109.2969\" y2=\"109.2969\"/><text fill=\"#000000\" font-family=\"sans-serif\" font-size=\"14\" font-weight=\"bold\" lengthAdjust=\"spacingAndGlyphs\" textLength=\"73\" x=\"306\" y=\"101.9951\">Definitions</text></a><!--MD5=[f6df4d0ebaf0b5dfb2ced0ae5af7c670]\n",
       "cluster E4--><a href=\"psysml:0357df57-b813-4001-8053-0943e42884ef\" target=\"_top\" title=\"psysml:0357df57-b813-4001-8053-0943e42884ef\" xlink:actuate=\"onRequest\" xlink:href=\"psysml:0357df57-b813-4001-8053-0943e42884ef\" xlink:show=\"new\" xlink:title=\"psysml:0357df57-b813-4001-8053-0943e42884ef\" xlink:type=\"simple\"><polygon fill=\"#FFFFFF\" points=\"48,57,106,57,113,79.2969,202,79.2969,202,189,48,189,48,57\" style=\"stroke: #000000; stroke-width: 1.5;\"/><line style=\"stroke: #000000; stroke-width: 1.5;\" x1=\"48\" x2=\"113\" y1=\"79.2969\" y2=\"79.2969\"/><text fill=\"#000000\" font-family=\"sans-serif\" font-size=\"14\" font-weight=\"bold\" lengthAdjust=\"spacingAndGlyphs\" textLength=\"52\" x=\"52\" y=\"71.9951\">Usages</text></a><!--MD5=[09b614a08d8cba4a07c9adeb5e0fee81]\n",
       "class E3--><a href=\"psysml:aed7d351-ec1f-43ef-9181-965f0e0fafe7\" target=\"_top\" title=\"psysml:aed7d351-ec1f-43ef-9181-965f0e0fafe7\" xlink:actuate=\"onRequest\" xlink:href=\"psysml:aed7d351-ec1f-43ef-9181-965f0e0fafe7\" xlink:show=\"new\" xlink:title=\"psysml:aed7d351-ec1f-43ef-9181-965f0e0fafe7\" xlink:type=\"simple\"><rect fill=\"#FFFFFF\" height=\"45.9375\" id=\"E3\" style=\"stroke: #383838; stroke-width: 1.5;\" width=\"70\" x=\"318\" y=\"122\"/><text fill=\"#000000\" font-family=\"sans-serif\" font-size=\"12\" font-style=\"italic\" lengthAdjust=\"spacingAndGlyphs\" textLength=\"68\" x=\"319\" y=\"138.1387\">«part  def»</text><text fill=\"#000000\" font-family=\"sans-serif\" font-size=\"12\" lengthAdjust=\"spacingAndGlyphs\" textLength=\"45\" x=\"330.5\" y=\"152.1074\">Vehicle</text><line style=\"stroke: #383838; stroke-width: 1.5;\" x1=\"319\" x2=\"387\" y1=\"159.9375\" y2=\"159.9375\"/></a><!--MD5=[270fce915f116d4de14055a7c1d9a0f3]\n",
       "class E5--><a href=\"psysml:9c4f7a54-8ea6-458e-b6c7-855d1197e506\" target=\"_top\" title=\"psysml:9c4f7a54-8ea6-458e-b6c7-855d1197e506\" xlink:actuate=\"onRequest\" xlink:href=\"psysml:9c4f7a54-8ea6-458e-b6c7-855d1197e506\" xlink:show=\"new\" xlink:title=\"psysml:9c4f7a54-8ea6-458e-b6c7-855d1197e506\" xlink:type=\"simple\"><rect fill=\"#FFFFFF\" height=\"45.9375\" id=\"E5\" rx=\"10\" ry=\"10\" style=\"stroke: #383838; stroke-width: 1.5;\" width=\"106\" x=\"72\" y=\"100\"/><text fill=\"#000000\" font-family=\"sans-serif\" font-size=\"12\" font-style=\"italic\" lengthAdjust=\"spacingAndGlyphs\" textLength=\"40\" x=\"105\" y=\"116.1387\">«part»</text><text fill=\"#000000\" font-family=\"sans-serif\" font-size=\"12\" lengthAdjust=\"spacingAndGlyphs\" textLength=\"96\" x=\"75\" y=\"130.1074\">vehicle: Vehicle</text><line style=\"stroke: #383838; stroke-width: 1.5;\" x1=\"73\" x2=\"177\" y1=\"137.9375\" y2=\"137.9375\"/></a><!--MD5=[f0cdf4548168e5211fb3a02bf679d63a]\n",
       "link E4 to E3--><a href=\"psysml:b99e9f78-77ea-4cdc-866d-b9796624c080\" target=\"_top\" title=\"psysml:b99e9f78-77ea-4cdc-866d-b9796624c080\" xlink:actuate=\"onRequest\" xlink:href=\"psysml:b99e9f78-77ea-4cdc-866d-b9796624c080\" xlink:show=\"new\" xlink:title=\"psysml:b99e9f78-77ea-4cdc-866d-b9796624c080\" xlink:type=\"simple\"><path d=\"M202.5512,175.6038 C203.614,175.5 204.6821,175.3944 205.7552,175.2869 C214.3394,174.4273 223.2381,173.4495 232.2475,172.3403 C250.2662,170.1219 268.7275,167.3775 286,164 C294.79,162.28 304.1,159.94 312.87,157.48 \" fill=\"none\" id=\"E4-&gt;E3\" style=\"stroke: #383838; stroke-width: 1.0; stroke-dasharray: 7.0,7.0;\"/><polygon fill=\"#383838\" points=\"317.68,156.11,307.9274,154.7364,312.8724,157.4836,310.1252,162.4286,317.68,156.11\" style=\"stroke: #383838; stroke-width: 1.0;\"/><text fill=\"#000000\" font-family=\"sans-serif\" font-size=\"13\" lengthAdjust=\"spacingAndGlyphs\" textLength=\"58\" x=\"227\" y=\"160.0669\">«import»</text></a><!--MD5=[e9be52314489bd878ff4c7144b63c9e1]\n",
       "link E5 to E3--><a href=\"psysml:c70856ba-dfdd-4aff-ab00-0a9f4968bc68\" target=\"_top\" title=\"psysml:c70856ba-dfdd-4aff-ab00-0a9f4968bc68\" xlink:actuate=\"onRequest\" xlink:href=\"psysml:c70856ba-dfdd-4aff-ab00-0a9f4968bc68\" xlink:show=\"new\" xlink:title=\"psysml:c70856ba-dfdd-4aff-ab00-0a9f4968bc68\" xlink:type=\"simple\"><path d=\"M178.13,128.07 C213.9,131.56 261.27,136.17 297.52,139.7 \" fill=\"none\" id=\"E5-&gt;E3\" style=\"stroke: #383838; stroke-width: 1.0;\"/><polygon fill=\"#FFFFFF\" points=\"317.68,141.66,298.0937,146.7959,299.4432,132.8611,317.68,141.66\" style=\"stroke: #383838; stroke-width: 1.0;\"/><ellipse cx=\"292.6131\" cy=\"144.2558\" fill=\"#383838\" rx=\"2\" ry=\"2\" style=\"stroke: #383838; stroke-width: 1.0;\"/><ellipse cx=\"293.577\" cy=\"134.3024\" fill=\"#383838\" rx=\"2\" ry=\"2\" style=\"stroke: #383838; stroke-width: 1.0;\"/></a><!--MD5=[3b5b7117cc0b8147b51d02b31ec3b30c]\n",
       "@startuml\r\n",
       "left to right direction\r\n",
       "skinparam monochrome true\r\n",
       "skinparam classbackgroundcolor white\r\n",
       "skinparam shadowing false\r\n",
       "skinparam wrapWidth 300\r\n",
       "hide circle\r\n",
       "\r\n",
       "package \"AliasImport\" as E1  [[psysml:a09df071-4715-4742-883e-cd73e8c4aa55 ]]  {\r\n",
       "package \"Definitions\" as E2  [[psysml:9e891321-89ab-46bb-b178-ae51d516b5d5 ]]  {\r\n",
       "comp def \"Vehicle\" as E3  <<(T,blue) part  def>> [[psysml:aed7d351-ec1f-43ef-9181-965f0e0fafe7 ]] {\r\n",
       "}\r\n",
       "}\r\n",
       "package \"Usages\" as E4  [[psysml:0357df57-b813-4001-8053-0943e42884ef ]]  {\r\n",
       "comp usage \"vehicle: Vehicle \" as E5  <<(T,blue) part>> [[psysml:9c4f7a54-8ea6-458e-b6c7-855d1197e506 ]] {\r\n",
       "}\r\n",
       "}\r\n",
       "}\r\n",
       "E4 ..> E3 [[psysml:b99e9f78-77ea-4cdc-866d-b9796624c080 ]] : <<import>>\r\n",
       "E5 - -:|> E3 [[psysml:c70856ba-dfdd-4aff-ab00-0a9f4968bc68 ]] \r\n",
       "@enduml\r\n",
       "\n",
       "PlantUML version 1.2020.13(Sat Jun 13 12:26:38 UTC 2020)\n",
       "(EPL source distribution)\n",
       "Java Runtime: OpenJDK Runtime Environment\n",
       "JVM: OpenJDK 64-Bit Server VM\n",
       "Default Encoding: UTF-8\n",
       "Language: en\n",
       "Country: null\n",
       "--></g></svg>"
      ]
     },
     "execution_count": 16,
     "metadata": {},
     "output_type": "execute_result"
    }
   ],
   "source": [
    "%viz --style=\"LR\" --view=\"Default\" \"AliasImport\""
   ]
  },
  {
   "cell_type": "code",
   "execution_count": 17,
   "id": "d70a4d45",
   "metadata": {
    "execution": {
     "iopub.execute_input": "2022-03-03T09:59:06.714672Z",
     "iopub.status.busy": "2022-03-03T09:59:06.714235Z",
     "iopub.status.idle": "2022-03-03T09:59:06.749212Z",
     "shell.execute_reply": "2022-03-03T09:59:06.748839Z"
    }
   },
   "outputs": [
    {
     "data": {
      "image/svg+xml": [
       "<?xml version=\"1.0\" encoding=\"UTF-8\" standalone=\"no\"?><svg xmlns=\"http://www.w3.org/2000/svg\" xmlns:xlink=\"http://www.w3.org/1999/xlink\" contentScriptType=\"application/ecmascript\" contentStyleType=\"text/css\" height=\"233px\" preserveAspectRatio=\"none\" style=\"width:450px;height:233px;\" version=\"1.1\" viewBox=\"0 0 450 233\" width=\"450px\" zoomAndPan=\"magnify\"><defs/><g><!--MD5=[fbc87193dbaf4d95561dea2c320d4a47]\n",
       "cluster E1--><a href=\"psysml:a09df071-4715-4742-883e-cd73e8c4aa55\" target=\"_top\" title=\"psysml:a09df071-4715-4742-883e-cd73e8c4aa55\" xlink:actuate=\"onRequest\" xlink:href=\"psysml:a09df071-4715-4742-883e-cd73e8c4aa55\" xlink:show=\"new\" xlink:title=\"psysml:a09df071-4715-4742-883e-cd73e8c4aa55\" xlink:type=\"simple\"><polygon fill=\"#FFFFFF\" points=\"16,6,97,6,104,28.2969,428,28.2969,428,221,16,221,16,6\" style=\"stroke: #000000; stroke-width: 1.5;\"/><line style=\"stroke: #000000; stroke-width: 1.5;\" x1=\"16\" x2=\"104\" y1=\"28.2969\" y2=\"28.2969\"/><text fill=\"#000000\" font-family=\"sans-serif\" font-size=\"14\" font-weight=\"bold\" lengthAdjust=\"spacingAndGlyphs\" textLength=\"75\" x=\"20\" y=\"20.9951\">AliasImport</text></a><!--MD5=[e4f7fae6ed58524ba242bb0b0d3be6b7]\n",
       "cluster E2--><a href=\"psysml:9e891321-89ab-46bb-b178-ae51d516b5d5\" target=\"_top\" title=\"psysml:9e891321-89ab-46bb-b178-ae51d516b5d5\" xlink:actuate=\"onRequest\" xlink:href=\"psysml:9e891321-89ab-46bb-b178-ae51d516b5d5\" xlink:show=\"new\" xlink:title=\"psysml:9e891321-89ab-46bb-b178-ae51d516b5d5\" xlink:type=\"simple\"><polygon fill=\"#FFFFFF\" points=\"302,87,381,87,388,109.2969,404,109.2969,404,184,302,184,302,87\" style=\"stroke: #000000; stroke-width: 1.5;\"/><line style=\"stroke: #000000; stroke-width: 1.5;\" x1=\"302\" x2=\"388\" y1=\"109.2969\" y2=\"109.2969\"/><text fill=\"#000000\" font-family=\"sans-serif\" font-size=\"14\" font-weight=\"bold\" lengthAdjust=\"spacingAndGlyphs\" textLength=\"73\" x=\"306\" y=\"101.9951\">Definitions</text></a><!--MD5=[f6df4d0ebaf0b5dfb2ced0ae5af7c670]\n",
       "cluster E4--><a href=\"psysml:0357df57-b813-4001-8053-0943e42884ef\" target=\"_top\" title=\"psysml:0357df57-b813-4001-8053-0943e42884ef\" xlink:actuate=\"onRequest\" xlink:href=\"psysml:0357df57-b813-4001-8053-0943e42884ef\" xlink:show=\"new\" xlink:title=\"psysml:0357df57-b813-4001-8053-0943e42884ef\" xlink:type=\"simple\"><polygon fill=\"#FFFFFF\" points=\"48,57,106,57,113,79.2969,202,79.2969,202,189,48,189,48,57\" style=\"stroke: #000000; stroke-width: 1.5;\"/><line style=\"stroke: #000000; stroke-width: 1.5;\" x1=\"48\" x2=\"113\" y1=\"79.2969\" y2=\"79.2969\"/><text fill=\"#000000\" font-family=\"sans-serif\" font-size=\"14\" font-weight=\"bold\" lengthAdjust=\"spacingAndGlyphs\" textLength=\"52\" x=\"52\" y=\"71.9951\">Usages</text></a><!--MD5=[09b614a08d8cba4a07c9adeb5e0fee81]\n",
       "class E3--><a href=\"psysml:aed7d351-ec1f-43ef-9181-965f0e0fafe7\" target=\"_top\" title=\"psysml:aed7d351-ec1f-43ef-9181-965f0e0fafe7\" xlink:actuate=\"onRequest\" xlink:href=\"psysml:aed7d351-ec1f-43ef-9181-965f0e0fafe7\" xlink:show=\"new\" xlink:title=\"psysml:aed7d351-ec1f-43ef-9181-965f0e0fafe7\" xlink:type=\"simple\"><rect fill=\"#FFFFFF\" height=\"45.9375\" id=\"E3\" style=\"stroke: #383838; stroke-width: 1.5;\" width=\"70\" x=\"318\" y=\"122\"/><text fill=\"#000000\" font-family=\"sans-serif\" font-size=\"12\" font-style=\"italic\" lengthAdjust=\"spacingAndGlyphs\" textLength=\"68\" x=\"319\" y=\"138.1387\">«part  def»</text><text fill=\"#000000\" font-family=\"sans-serif\" font-size=\"12\" lengthAdjust=\"spacingAndGlyphs\" textLength=\"45\" x=\"330.5\" y=\"152.1074\">Vehicle</text><line style=\"stroke: #383838; stroke-width: 1.5;\" x1=\"319\" x2=\"387\" y1=\"159.9375\" y2=\"159.9375\"/></a><!--MD5=[270fce915f116d4de14055a7c1d9a0f3]\n",
       "class E5--><a href=\"psysml:9c4f7a54-8ea6-458e-b6c7-855d1197e506\" target=\"_top\" title=\"psysml:9c4f7a54-8ea6-458e-b6c7-855d1197e506\" xlink:actuate=\"onRequest\" xlink:href=\"psysml:9c4f7a54-8ea6-458e-b6c7-855d1197e506\" xlink:show=\"new\" xlink:title=\"psysml:9c4f7a54-8ea6-458e-b6c7-855d1197e506\" xlink:type=\"simple\"><rect fill=\"#FFFFFF\" height=\"45.9375\" id=\"E5\" rx=\"10\" ry=\"10\" style=\"stroke: #383838; stroke-width: 1.5;\" width=\"106\" x=\"72\" y=\"100\"/><text fill=\"#000000\" font-family=\"sans-serif\" font-size=\"12\" font-style=\"italic\" lengthAdjust=\"spacingAndGlyphs\" textLength=\"40\" x=\"105\" y=\"116.1387\">«part»</text><text fill=\"#000000\" font-family=\"sans-serif\" font-size=\"12\" lengthAdjust=\"spacingAndGlyphs\" textLength=\"96\" x=\"75\" y=\"130.1074\">vehicle: Vehicle</text><line style=\"stroke: #383838; stroke-width: 1.5;\" x1=\"73\" x2=\"177\" y1=\"137.9375\" y2=\"137.9375\"/></a><!--MD5=[f0cdf4548168e5211fb3a02bf679d63a]\n",
       "link E4 to E3--><a href=\"psysml:b99e9f78-77ea-4cdc-866d-b9796624c080\" target=\"_top\" title=\"psysml:b99e9f78-77ea-4cdc-866d-b9796624c080\" xlink:actuate=\"onRequest\" xlink:href=\"psysml:b99e9f78-77ea-4cdc-866d-b9796624c080\" xlink:show=\"new\" xlink:title=\"psysml:b99e9f78-77ea-4cdc-866d-b9796624c080\" xlink:type=\"simple\"><path d=\"M202.5512,175.6038 C203.614,175.5 204.6821,175.3944 205.7552,175.2869 C214.3394,174.4273 223.2381,173.4495 232.2475,172.3403 C250.2662,170.1219 268.7275,167.3775 286,164 C294.79,162.28 304.1,159.94 312.87,157.48 \" fill=\"none\" id=\"E4-&gt;E3\" style=\"stroke: #383838; stroke-width: 1.0; stroke-dasharray: 7.0,7.0;\"/><polygon fill=\"#383838\" points=\"317.68,156.11,307.9274,154.7364,312.8724,157.4836,310.1252,162.4286,317.68,156.11\" style=\"stroke: #383838; stroke-width: 1.0;\"/><text fill=\"#000000\" font-family=\"sans-serif\" font-size=\"13\" lengthAdjust=\"spacingAndGlyphs\" textLength=\"58\" x=\"227\" y=\"160.0669\">«import»</text></a><!--MD5=[e9be52314489bd878ff4c7144b63c9e1]\n",
       "link E5 to E3--><a href=\"psysml:c70856ba-dfdd-4aff-ab00-0a9f4968bc68\" target=\"_top\" title=\"psysml:c70856ba-dfdd-4aff-ab00-0a9f4968bc68\" xlink:actuate=\"onRequest\" xlink:href=\"psysml:c70856ba-dfdd-4aff-ab00-0a9f4968bc68\" xlink:show=\"new\" xlink:title=\"psysml:c70856ba-dfdd-4aff-ab00-0a9f4968bc68\" xlink:type=\"simple\"><path d=\"M178.13,128.07 C213.9,131.56 261.27,136.17 297.52,139.7 \" fill=\"none\" id=\"E5-&gt;E3\" style=\"stroke: #383838; stroke-width: 1.0;\"/><polygon fill=\"#FFFFFF\" points=\"317.68,141.66,298.0937,146.7959,299.4432,132.8611,317.68,141.66\" style=\"stroke: #383838; stroke-width: 1.0;\"/><ellipse cx=\"292.6131\" cy=\"144.2558\" fill=\"#383838\" rx=\"2\" ry=\"2\" style=\"stroke: #383838; stroke-width: 1.0;\"/><ellipse cx=\"293.577\" cy=\"134.3024\" fill=\"#383838\" rx=\"2\" ry=\"2\" style=\"stroke: #383838; stroke-width: 1.0;\"/></a><!--MD5=[3b5b7117cc0b8147b51d02b31ec3b30c]\n",
       "@startuml\r\n",
       "left to right direction\r\n",
       "skinparam monochrome true\r\n",
       "skinparam classbackgroundcolor white\r\n",
       "skinparam shadowing false\r\n",
       "skinparam wrapWidth 300\r\n",
       "hide circle\r\n",
       "\r\n",
       "package \"AliasImport\" as E1  [[psysml:a09df071-4715-4742-883e-cd73e8c4aa55 ]]  {\r\n",
       "package \"Definitions\" as E2  [[psysml:9e891321-89ab-46bb-b178-ae51d516b5d5 ]]  {\r\n",
       "comp def \"Vehicle\" as E3  <<(T,blue) part  def>> [[psysml:aed7d351-ec1f-43ef-9181-965f0e0fafe7 ]] {\r\n",
       "}\r\n",
       "}\r\n",
       "package \"Usages\" as E4  [[psysml:0357df57-b813-4001-8053-0943e42884ef ]]  {\r\n",
       "comp usage \"vehicle: Vehicle \" as E5  <<(T,blue) part>> [[psysml:9c4f7a54-8ea6-458e-b6c7-855d1197e506 ]] {\r\n",
       "}\r\n",
       "}\r\n",
       "}\r\n",
       "E4 ..> E3 [[psysml:b99e9f78-77ea-4cdc-866d-b9796624c080 ]] : <<import>>\r\n",
       "E5 - -:|> E3 [[psysml:c70856ba-dfdd-4aff-ab00-0a9f4968bc68 ]] \r\n",
       "@enduml\r\n",
       "\n",
       "PlantUML version 1.2020.13(Sat Jun 13 12:26:38 UTC 2020)\n",
       "(EPL source distribution)\n",
       "Java Runtime: OpenJDK Runtime Environment\n",
       "JVM: OpenJDK 64-Bit Server VM\n",
       "Default Encoding: UTF-8\n",
       "Language: en\n",
       "Country: null\n",
       "--></g></svg>"
      ]
     },
     "execution_count": 17,
     "metadata": {},
     "output_type": "execute_result"
    }
   ],
   "source": [
    "%viz --style=\"LR\" --view=\"Tree\" \"AliasImport\""
   ]
  },
  {
   "cell_type": "code",
   "execution_count": 18,
   "id": "cca2868c",
   "metadata": {
    "execution": {
     "iopub.execute_input": "2022-03-03T09:59:06.799354Z",
     "iopub.status.busy": "2022-03-03T09:59:06.798908Z",
     "iopub.status.idle": "2022-03-03T09:59:06.804981Z",
     "shell.execute_reply": "2022-03-03T09:59:06.805305Z"
    }
   },
   "outputs": [
    {
     "data": {
      "image/svg+xml": [
       "<?xml version=\"1.0\" encoding=\"UTF-8\" standalone=\"no\"?><svg xmlns=\"http://www.w3.org/2000/svg\" xmlns:xlink=\"http://www.w3.org/1999/xlink\" contentScriptType=\"application/ecmascript\" contentStyleType=\"text/css\" height=\"12px\" preserveAspectRatio=\"none\" style=\"width:12px;height:12px;\" version=\"1.1\" viewBox=\"0 0 12 12\" width=\"12px\" zoomAndPan=\"magnify\"><defs/><g><!--MD5=[19d285c9d72a204eba4e2cd117d745e8]\n",
       "@startuml\r\n",
       "left to right direction\r\n",
       "skinparam monochrome true\r\n",
       "skinparam classbackgroundcolor white\r\n",
       "skinparam shadowing false\r\n",
       "skinparam wrapWidth 300\r\n",
       "hide circle\r\n",
       "\r\n",
       "@enduml\r\n",
       "\n",
       "PlantUML version 1.2020.13(Sat Jun 13 12:26:38 UTC 2020)\n",
       "(EPL source distribution)\n",
       "Java Runtime: OpenJDK Runtime Environment\n",
       "JVM: OpenJDK 64-Bit Server VM\n",
       "Default Encoding: UTF-8\n",
       "Language: en\n",
       "Country: null\n",
       "--></g></svg>"
      ]
     },
     "execution_count": 18,
     "metadata": {},
     "output_type": "execute_result"
    }
   ],
   "source": [
    "%viz --style=\"LR\" --view=\"State\" \"AliasImport\""
   ]
  },
  {
   "cell_type": "code",
   "execution_count": 19,
   "id": "09ecfdc7",
   "metadata": {
    "execution": {
     "iopub.execute_input": "2022-03-03T09:59:06.856047Z",
     "iopub.status.busy": "2022-03-03T09:59:06.855488Z",
     "iopub.status.idle": "2022-03-03T09:59:06.890528Z",
     "shell.execute_reply": "2022-03-03T09:59:06.890155Z"
    }
   },
   "outputs": [
    {
     "data": {
      "image/svg+xml": [
       "<?xml version=\"1.0\" encoding=\"UTF-8\" standalone=\"no\"?><svg xmlns=\"http://www.w3.org/2000/svg\" xmlns:xlink=\"http://www.w3.org/1999/xlink\" contentScriptType=\"application/ecmascript\" contentStyleType=\"text/css\" height=\"258px\" preserveAspectRatio=\"none\" style=\"width:456px;height:258px;\" version=\"1.1\" viewBox=\"0 0 456 258\" width=\"456px\" zoomAndPan=\"magnify\"><defs/><g><!--MD5=[fbc87193dbaf4d95561dea2c320d4a47]\n",
       "cluster E1--><a href=\"psysml:a09df071-4715-4742-883e-cd73e8c4aa55\" target=\"_top\" title=\"psysml:a09df071-4715-4742-883e-cd73e8c4aa55\" xlink:actuate=\"onRequest\" xlink:href=\"psysml:a09df071-4715-4742-883e-cd73e8c4aa55\" xlink:show=\"new\" xlink:title=\"psysml:a09df071-4715-4742-883e-cd73e8c4aa55\" xlink:type=\"simple\"><polygon fill=\"#FFFFFF\" points=\"16,6,97,6,104,28.2969,434,28.2969,434,246,16,246,16,6\" style=\"stroke: #000000; stroke-width: 1.5;\"/><line style=\"stroke: #000000; stroke-width: 1.5;\" x1=\"16\" x2=\"104\" y1=\"28.2969\" y2=\"28.2969\"/><text fill=\"#000000\" font-family=\"sans-serif\" font-size=\"14\" font-weight=\"bold\" lengthAdjust=\"spacingAndGlyphs\" textLength=\"75\" x=\"20\" y=\"20.9951\">AliasImport</text></a><!--MD5=[e4f7fae6ed58524ba242bb0b0d3be6b7]\n",
       "cluster E2--><a href=\"psysml:9e891321-89ab-46bb-b178-ae51d516b5d5\" target=\"_top\" title=\"psysml:9e891321-89ab-46bb-b178-ae51d516b5d5\" xlink:actuate=\"onRequest\" xlink:href=\"psysml:9e891321-89ab-46bb-b178-ae51d516b5d5\" xlink:show=\"new\" xlink:title=\"psysml:9e891321-89ab-46bb-b178-ae51d516b5d5\" xlink:type=\"simple\"><polygon fill=\"#FFFFFF\" points=\"303,49,382,49,389,71.2969,410,71.2969,410,222,303,222,303,49\" style=\"stroke: #000000; stroke-width: 1.5;\"/><line style=\"stroke: #000000; stroke-width: 1.5;\" x1=\"303\" x2=\"389\" y1=\"71.2969\" y2=\"71.2969\"/><text fill=\"#000000\" font-family=\"sans-serif\" font-size=\"14\" font-weight=\"bold\" lengthAdjust=\"spacingAndGlyphs\" textLength=\"73\" x=\"307\" y=\"63.9951\">Definitions</text></a><!--MD5=[de5ec2e2e8f62f467e546659f5068c88]\n",
       "cluster E5--><a href=\"psysml:0357df57-b813-4001-8053-0943e42884ef\" target=\"_top\" title=\"psysml:0357df57-b813-4001-8053-0943e42884ef\" xlink:actuate=\"onRequest\" xlink:href=\"psysml:0357df57-b813-4001-8053-0943e42884ef\" xlink:show=\"new\" xlink:title=\"psysml:0357df57-b813-4001-8053-0943e42884ef\" xlink:type=\"simple\"><polygon fill=\"#FFFFFF\" points=\"48,66,106,66,113,88.2969,203,88.2969,203,192,48,192,48,66\" style=\"stroke: #000000; stroke-width: 1.5;\"/><line style=\"stroke: #000000; stroke-width: 1.5;\" x1=\"48\" x2=\"113\" y1=\"88.2969\" y2=\"88.2969\"/><text fill=\"#000000\" font-family=\"sans-serif\" font-size=\"14\" font-weight=\"bold\" lengthAdjust=\"spacingAndGlyphs\" textLength=\"52\" x=\"52\" y=\"80.9951\">Usages</text></a><g id=\"E1.E2.E3\"><a href=\"psysml:aed7d351-ec1f-43ef-9181-965f0e0fafe7\" target=\"_top\" title=\"psysml:aed7d351-ec1f-43ef-9181-965f0e0fafe7\" xlink:actuate=\"onRequest\" xlink:href=\"psysml:aed7d351-ec1f-43ef-9181-965f0e0fafe7\" xlink:show=\"new\" xlink:title=\"psysml:aed7d351-ec1f-43ef-9181-965f0e0fafe7\" xlink:type=\"simple\"><rect fill=\"#FFFFFF\" height=\"42.9375\" id=\"E3\" style=\"stroke: #383838; stroke-width: 1.5;\" width=\"75\" x=\"319\" y=\"84.5\"/><rect fill=\"#F8F8F8\" height=\"37.9375\" style=\"stroke: #383838; stroke-width: 1.5;\" width=\"75\" x=\"319\" y=\"84.5\"/><text fill=\"#000000\" font-family=\"sans-serif\" font-size=\"12\" font-style=\"italic\" lengthAdjust=\"spacingAndGlyphs\" textLength=\"68\" x=\"322.5\" y=\"100.6387\">«part  def»</text><text fill=\"#000000\" font-family=\"sans-serif\" font-size=\"12\" lengthAdjust=\"spacingAndGlyphs\" textLength=\"45\" x=\"334\" y=\"114.6074\">Vehicle</text></a></g><g id=\"E1.E2.E4\"><a href=\"psysml:aed7d351-ec1f-43ef-9181-965f0e0fafe7\" target=\"_top\" title=\"psysml:aed7d351-ec1f-43ef-9181-965f0e0fafe7\" xlink:actuate=\"onRequest\" xlink:href=\"psysml:aed7d351-ec1f-43ef-9181-965f0e0fafe7\" xlink:show=\"new\" xlink:title=\"psysml:aed7d351-ec1f-43ef-9181-965f0e0fafe7\" xlink:type=\"simple\"><rect fill=\"#FFFFFF\" height=\"42.9375\" id=\"E4\" style=\"stroke: #383838; stroke-width: 1.5;\" width=\"75\" x=\"319\" y=\"162.5\"/><rect fill=\"#F8F8F8\" height=\"37.9375\" style=\"stroke: #383838; stroke-width: 1.5;\" width=\"75\" x=\"319\" y=\"162.5\"/><text fill=\"#000000\" font-family=\"sans-serif\" font-size=\"12\" font-style=\"italic\" lengthAdjust=\"spacingAndGlyphs\" textLength=\"68\" x=\"322.5\" y=\"178.6387\">«part  def»</text><text fill=\"#000000\" font-family=\"sans-serif\" font-size=\"12\" lengthAdjust=\"spacingAndGlyphs\" textLength=\"45\" x=\"334\" y=\"192.6074\">Vehicle</text></a></g><g id=\"E1.E5.E6\"><a href=\"psysml:9c4f7a54-8ea6-458e-b6c7-855d1197e506\" target=\"_top\" title=\"psysml:9c4f7a54-8ea6-458e-b6c7-855d1197e506\" xlink:actuate=\"onRequest\" xlink:href=\"psysml:9c4f7a54-8ea6-458e-b6c7-855d1197e506\" xlink:show=\"new\" xlink:title=\"psysml:9c4f7a54-8ea6-458e-b6c7-855d1197e506\" xlink:type=\"simple\"><rect fill=\"#FFFFFF\" height=\"40\" id=\"E6\" rx=\"10\" ry=\"10\" style=\"stroke: #383838; stroke-width: 1.5;\" width=\"107\" x=\"72\" y=\"109\"/><rect fill=\"#F8F8F8\" height=\"23.9688\" rx=\"10\" ry=\"10\" style=\"stroke: #F8F8F8; stroke-width: 1.5;\" width=\"107\" x=\"72\" y=\"109\"/><rect fill=\"#F8F8F8\" height=\"10\" style=\"stroke: #F8F8F8; stroke-width: 1.5;\" width=\"107\" x=\"72\" y=\"122.9688\"/><rect fill=\"none\" height=\"40\" id=\"E6\" rx=\"10\" ry=\"10\" style=\"stroke: #383838; stroke-width: 1.5;\" width=\"107\" x=\"72\" y=\"109\"/><text fill=\"#000000\" font-family=\"sans-serif\" font-size=\"12\" lengthAdjust=\"spacingAndGlyphs\" textLength=\"96\" x=\"77.5\" y=\"125.1387\">vehicle: Vehicle</text></a></g><!--MD5=[1c62de2aa5b76f0fb657ff8443a1a700]\n",
       "link E5 to E4--><a href=\"psysml:b99e9f78-77ea-4cdc-866d-b9796624c080\" target=\"_top\" title=\"psysml:b99e9f78-77ea-4cdc-866d-b9796624c080\" xlink:actuate=\"onRequest\" xlink:href=\"psysml:b99e9f78-77ea-4cdc-866d-b9796624c080\" xlink:show=\"new\" xlink:title=\"psysml:b99e9f78-77ea-4cdc-866d-b9796624c080\" xlink:type=\"simple\"><path d=\"M203.0355,184 C203.6391,184 204.2442,184 204.8508,184 C207.2773,184 209.7279,184 212.1977,184 C217.1372,184 222.1533,184 227.2056,184 C237.3104,184 247.5607,184 257.6355,184 C277.785,184 297.2325,184 313.41,184 \" fill=\"none\" id=\"E5-&gt;E4\" style=\"stroke: #383838; stroke-width: 1.0; stroke-dasharray: 7.0,7.0;\"/><polygon fill=\"#383838\" points=\"318.74,184,309.74,180,313.74,184,309.74,188,318.74,184\" style=\"stroke: #383838; stroke-width: 1.0;\"/><text fill=\"#000000\" font-family=\"sans-serif\" font-size=\"13\" lengthAdjust=\"spacingAndGlyphs\" textLength=\"58\" x=\"228\" y=\"180.0669\">«import»</text></a><!--MD5=[2caf948253428b340841641e52a9a7d0]\n",
       "@startuml\r\n",
       "skinparam ranksep 10\r\n",
       "skinparam rectangle {\r\n",
       " backgroundColor<<block>> LightGreen\r\n",
       "}\r\n",
       "left to right direction\r\n",
       "skinparam monochrome true\r\n",
       "skinparam classbackgroundcolor white\r\n",
       "skinparam shadowing false\r\n",
       "skinparam wrapWidth 300\r\n",
       "hide circle\r\n",
       "\r\n",
       "package \"AliasImport\" as E1  [[psysml:a09df071-4715-4742-883e-cd73e8c4aa55 ]]  {\r\n",
       "package \"Definitions\" as E2  [[psysml:9e891321-89ab-46bb-b178-ae51d516b5d5 ]]  {\r\n",
       "rec def \"Vehicle\" as E3  <<(T,blue) part  def>> [[psysml:aed7d351-ec1f-43ef-9181-965f0e0fafe7 ]] {\r\n",
       "}\r\n",
       "rec def \"Vehicle\" as E4  <<(T,blue) part  def>> [[psysml:aed7d351-ec1f-43ef-9181-965f0e0fafe7 ]] {\r\n",
       "}\r\n",
       "}\r\n",
       "package \"Usages\" as E5  [[psysml:0357df57-b813-4001-8053-0943e42884ef ]]  {\r\n",
       "rec usage \"vehicle: Vehicle\" as E6  [[psysml:9c4f7a54-8ea6-458e-b6c7-855d1197e506 ]] {\r\n",
       "}\r\n",
       "}\r\n",
       "}\r\n",
       "E5 ..> E4 [[psysml:b99e9f78-77ea-4cdc-866d-b9796624c080 ]] : <<import>>\r\n",
       "@enduml\r\n",
       "\n",
       "PlantUML version 1.2020.13(Sat Jun 13 12:26:38 UTC 2020)\n",
       "(EPL source distribution)\n",
       "Java Runtime: OpenJDK Runtime Environment\n",
       "JVM: OpenJDK 64-Bit Server VM\n",
       "Default Encoding: UTF-8\n",
       "Language: en\n",
       "Country: null\n",
       "--></g></svg>"
      ]
     },
     "execution_count": 19,
     "metadata": {},
     "output_type": "execute_result"
    }
   ],
   "source": [
    "%viz --style=\"LR\" --view=\"Interconnection\" \"AliasImport\""
   ]
  },
  {
   "cell_type": "code",
   "execution_count": 20,
   "id": "910ab087",
   "metadata": {
    "execution": {
     "iopub.execute_input": "2022-03-03T09:59:06.940418Z",
     "iopub.status.busy": "2022-03-03T09:59:06.939932Z",
     "iopub.status.idle": "2022-03-03T09:59:06.945705Z",
     "shell.execute_reply": "2022-03-03T09:59:06.946014Z"
    }
   },
   "outputs": [
    {
     "data": {
      "image/svg+xml": [
       "<?xml version=\"1.0\" encoding=\"UTF-8\" standalone=\"no\"?><svg xmlns=\"http://www.w3.org/2000/svg\" xmlns:xlink=\"http://www.w3.org/1999/xlink\" contentScriptType=\"application/ecmascript\" contentStyleType=\"text/css\" height=\"12px\" preserveAspectRatio=\"none\" style=\"width:12px;height:12px;\" version=\"1.1\" viewBox=\"0 0 12 12\" width=\"12px\" zoomAndPan=\"magnify\"><defs/><g><!--MD5=[7aeb398939421629f6affaa4a1a7b125]\n",
       "@startuml\r\n",
       "skinparam ranksep 8\r\n",
       "left to right direction\r\n",
       "skinparam monochrome true\r\n",
       "skinparam classbackgroundcolor white\r\n",
       "skinparam shadowing false\r\n",
       "skinparam wrapWidth 300\r\n",
       "hide circle\r\n",
       "\r\n",
       "@enduml\r\n",
       "\n",
       "PlantUML version 1.2020.13(Sat Jun 13 12:26:38 UTC 2020)\n",
       "(EPL source distribution)\n",
       "Java Runtime: OpenJDK Runtime Environment\n",
       "JVM: OpenJDK 64-Bit Server VM\n",
       "Default Encoding: UTF-8\n",
       "Language: en\n",
       "Country: null\n",
       "--></g></svg>"
      ]
     },
     "execution_count": 20,
     "metadata": {},
     "output_type": "execute_result"
    }
   ],
   "source": [
    "%viz --style=\"LR\" --view=\"Action\" \"AliasImport\""
   ]
  },
  {
   "cell_type": "code",
   "execution_count": 21,
   "id": "35a7947f",
   "metadata": {
    "execution": {
     "iopub.execute_input": "2022-03-03T09:59:06.996249Z",
     "iopub.status.busy": "2022-03-03T09:59:06.995834Z",
     "iopub.status.idle": "2022-03-03T09:59:07.001167Z",
     "shell.execute_reply": "2022-03-03T09:59:07.001486Z"
    }
   },
   "outputs": [
    {
     "data": {
      "image/svg+xml": [
       "<?xml version=\"1.0\" encoding=\"UTF-8\" standalone=\"no\"?><svg xmlns=\"http://www.w3.org/2000/svg\" xmlns:xlink=\"http://www.w3.org/1999/xlink\" contentScriptType=\"application/ecmascript\" contentStyleType=\"text/css\" height=\"12px\" preserveAspectRatio=\"none\" style=\"width:12px;height:12px;\" version=\"1.1\" viewBox=\"0 0 12 12\" width=\"12px\" zoomAndPan=\"magnify\"><defs/><g><!--MD5=[238c11ea2002f03115ad6b49a457d50e]\n",
       "@startuml\r\n",
       "skinparam roundcorner 20\r\n",
       "skinparam BoxPadding 20\r\n",
       "skinparam SequenceBoxBackgroundColor #white\r\n",
       "skinparam style strictuml\r\n",
       "skinparam maxMessageSize 100\r\n",
       "left to right direction\r\n",
       "skinparam monochrome true\r\n",
       "skinparam classbackgroundcolor white\r\n",
       "skinparam shadowing false\r\n",
       "skinparam wrapWidth 300\r\n",
       "hide circle\r\n",
       "\r\n",
       "@enduml\r\n",
       "\n",
       "PlantUML version 1.2020.13(Sat Jun 13 12:26:38 UTC 2020)\n",
       "(EPL source distribution)\n",
       "Java Runtime: OpenJDK Runtime Environment\n",
       "JVM: OpenJDK 64-Bit Server VM\n",
       "Default Encoding: UTF-8\n",
       "Language: en\n",
       "Country: null\n",
       "--></g></svg>"
      ]
     },
     "execution_count": 21,
     "metadata": {},
     "output_type": "execute_result"
    }
   ],
   "source": [
    "%viz --style=\"LR\" --view=\"Sequence\" \"AliasImport\""
   ]
  },
  {
   "cell_type": "code",
   "execution_count": 22,
   "id": "b2288662",
   "metadata": {
    "execution": {
     "iopub.execute_input": "2022-03-03T09:59:07.051480Z",
     "iopub.status.busy": "2022-03-03T09:59:07.051079Z",
     "iopub.status.idle": "2022-03-03T09:59:07.083369Z",
     "shell.execute_reply": "2022-03-03T09:59:07.082935Z"
    }
   },
   "outputs": [
    {
     "data": {
      "image/svg+xml": [
       "<?xml version=\"1.0\" encoding=\"UTF-8\" standalone=\"no\"?><svg xmlns=\"http://www.w3.org/2000/svg\" xmlns:xlink=\"http://www.w3.org/1999/xlink\" contentScriptType=\"application/ecmascript\" contentStyleType=\"text/css\" height=\"233px\" preserveAspectRatio=\"none\" style=\"width:450px;height:233px;\" version=\"1.1\" viewBox=\"0 0 450 233\" width=\"450px\" zoomAndPan=\"magnify\"><defs/><g><!--MD5=[fbc87193dbaf4d95561dea2c320d4a47]\n",
       "cluster E1--><a href=\"psysml:a09df071-4715-4742-883e-cd73e8c4aa55\" target=\"_top\" title=\"psysml:a09df071-4715-4742-883e-cd73e8c4aa55\" xlink:actuate=\"onRequest\" xlink:href=\"psysml:a09df071-4715-4742-883e-cd73e8c4aa55\" xlink:show=\"new\" xlink:title=\"psysml:a09df071-4715-4742-883e-cd73e8c4aa55\" xlink:type=\"simple\"><polygon fill=\"#FFFFFF\" points=\"16,6,97,6,104,28.2969,428,28.2969,428,221,16,221,16,6\" style=\"stroke: #000000; stroke-width: 1.5;\"/><line style=\"stroke: #000000; stroke-width: 1.5;\" x1=\"16\" x2=\"104\" y1=\"28.2969\" y2=\"28.2969\"/><text fill=\"#000000\" font-family=\"sans-serif\" font-size=\"14\" font-weight=\"bold\" lengthAdjust=\"spacingAndGlyphs\" textLength=\"75\" x=\"20\" y=\"20.9951\">AliasImport</text></a><!--MD5=[e4f7fae6ed58524ba242bb0b0d3be6b7]\n",
       "cluster E2--><a href=\"psysml:9e891321-89ab-46bb-b178-ae51d516b5d5\" target=\"_top\" title=\"psysml:9e891321-89ab-46bb-b178-ae51d516b5d5\" xlink:actuate=\"onRequest\" xlink:href=\"psysml:9e891321-89ab-46bb-b178-ae51d516b5d5\" xlink:show=\"new\" xlink:title=\"psysml:9e891321-89ab-46bb-b178-ae51d516b5d5\" xlink:type=\"simple\"><polygon fill=\"#FFFFFF\" points=\"302,87,381,87,388,109.2969,404,109.2969,404,184,302,184,302,87\" style=\"stroke: #000000; stroke-width: 1.5;\"/><line style=\"stroke: #000000; stroke-width: 1.5;\" x1=\"302\" x2=\"388\" y1=\"109.2969\" y2=\"109.2969\"/><text fill=\"#000000\" font-family=\"sans-serif\" font-size=\"14\" font-weight=\"bold\" lengthAdjust=\"spacingAndGlyphs\" textLength=\"73\" x=\"306\" y=\"101.9951\">Definitions</text></a><!--MD5=[f6df4d0ebaf0b5dfb2ced0ae5af7c670]\n",
       "cluster E4--><a href=\"psysml:0357df57-b813-4001-8053-0943e42884ef\" target=\"_top\" title=\"psysml:0357df57-b813-4001-8053-0943e42884ef\" xlink:actuate=\"onRequest\" xlink:href=\"psysml:0357df57-b813-4001-8053-0943e42884ef\" xlink:show=\"new\" xlink:title=\"psysml:0357df57-b813-4001-8053-0943e42884ef\" xlink:type=\"simple\"><polygon fill=\"#FFFFFF\" points=\"48,57,106,57,113,79.2969,202,79.2969,202,189,48,189,48,57\" style=\"stroke: #000000; stroke-width: 1.5;\"/><line style=\"stroke: #000000; stroke-width: 1.5;\" x1=\"48\" x2=\"113\" y1=\"79.2969\" y2=\"79.2969\"/><text fill=\"#000000\" font-family=\"sans-serif\" font-size=\"14\" font-weight=\"bold\" lengthAdjust=\"spacingAndGlyphs\" textLength=\"52\" x=\"52\" y=\"71.9951\">Usages</text></a><!--MD5=[09b614a08d8cba4a07c9adeb5e0fee81]\n",
       "class E3--><a href=\"psysml:aed7d351-ec1f-43ef-9181-965f0e0fafe7\" target=\"_top\" title=\"psysml:aed7d351-ec1f-43ef-9181-965f0e0fafe7\" xlink:actuate=\"onRequest\" xlink:href=\"psysml:aed7d351-ec1f-43ef-9181-965f0e0fafe7\" xlink:show=\"new\" xlink:title=\"psysml:aed7d351-ec1f-43ef-9181-965f0e0fafe7\" xlink:type=\"simple\"><rect fill=\"#FFFFFF\" height=\"45.9375\" id=\"E3\" style=\"stroke: #383838; stroke-width: 1.5;\" width=\"70\" x=\"318\" y=\"122\"/><text fill=\"#000000\" font-family=\"sans-serif\" font-size=\"12\" font-style=\"italic\" lengthAdjust=\"spacingAndGlyphs\" textLength=\"68\" x=\"319\" y=\"138.1387\">«part  def»</text><text fill=\"#000000\" font-family=\"sans-serif\" font-size=\"12\" lengthAdjust=\"spacingAndGlyphs\" textLength=\"45\" x=\"330.5\" y=\"152.1074\">Vehicle</text><line style=\"stroke: #383838; stroke-width: 1.5;\" x1=\"319\" x2=\"387\" y1=\"159.9375\" y2=\"159.9375\"/></a><!--MD5=[270fce915f116d4de14055a7c1d9a0f3]\n",
       "class E5--><a href=\"psysml:9c4f7a54-8ea6-458e-b6c7-855d1197e506\" target=\"_top\" title=\"psysml:9c4f7a54-8ea6-458e-b6c7-855d1197e506\" xlink:actuate=\"onRequest\" xlink:href=\"psysml:9c4f7a54-8ea6-458e-b6c7-855d1197e506\" xlink:show=\"new\" xlink:title=\"psysml:9c4f7a54-8ea6-458e-b6c7-855d1197e506\" xlink:type=\"simple\"><rect fill=\"#FFFFFF\" height=\"45.9375\" id=\"E5\" rx=\"10\" ry=\"10\" style=\"stroke: #383838; stroke-width: 1.5;\" width=\"106\" x=\"72\" y=\"100\"/><text fill=\"#000000\" font-family=\"sans-serif\" font-size=\"12\" font-style=\"italic\" lengthAdjust=\"spacingAndGlyphs\" textLength=\"40\" x=\"105\" y=\"116.1387\">«part»</text><text fill=\"#000000\" font-family=\"sans-serif\" font-size=\"12\" lengthAdjust=\"spacingAndGlyphs\" textLength=\"96\" x=\"75\" y=\"130.1074\">vehicle: Vehicle</text><line style=\"stroke: #383838; stroke-width: 1.5;\" x1=\"73\" x2=\"177\" y1=\"137.9375\" y2=\"137.9375\"/></a><!--MD5=[f0cdf4548168e5211fb3a02bf679d63a]\n",
       "link E4 to E3--><a href=\"psysml:b99e9f78-77ea-4cdc-866d-b9796624c080\" target=\"_top\" title=\"psysml:b99e9f78-77ea-4cdc-866d-b9796624c080\" xlink:actuate=\"onRequest\" xlink:href=\"psysml:b99e9f78-77ea-4cdc-866d-b9796624c080\" xlink:show=\"new\" xlink:title=\"psysml:b99e9f78-77ea-4cdc-866d-b9796624c080\" xlink:type=\"simple\"><path d=\"M202.5512,175.6038 C203.614,175.5 204.6821,175.3944 205.7552,175.2869 C214.3394,174.4273 223.2381,173.4495 232.2475,172.3403 C250.2662,170.1219 268.7275,167.3775 286,164 C294.79,162.28 304.1,159.94 312.87,157.48 \" fill=\"none\" id=\"E4-&gt;E3\" style=\"stroke: #383838; stroke-width: 1.0; stroke-dasharray: 7.0,7.0;\"/><polygon fill=\"#383838\" points=\"317.68,156.11,307.9274,154.7364,312.8724,157.4836,310.1252,162.4286,317.68,156.11\" style=\"stroke: #383838; stroke-width: 1.0;\"/><text fill=\"#000000\" font-family=\"sans-serif\" font-size=\"13\" lengthAdjust=\"spacingAndGlyphs\" textLength=\"58\" x=\"227\" y=\"160.0669\">«import»</text></a><!--MD5=[e9be52314489bd878ff4c7144b63c9e1]\n",
       "link E5 to E3--><a href=\"psysml:c70856ba-dfdd-4aff-ab00-0a9f4968bc68\" target=\"_top\" title=\"psysml:c70856ba-dfdd-4aff-ab00-0a9f4968bc68\" xlink:actuate=\"onRequest\" xlink:href=\"psysml:c70856ba-dfdd-4aff-ab00-0a9f4968bc68\" xlink:show=\"new\" xlink:title=\"psysml:c70856ba-dfdd-4aff-ab00-0a9f4968bc68\" xlink:type=\"simple\"><path d=\"M178.13,128.07 C213.9,131.56 261.27,136.17 297.52,139.7 \" fill=\"none\" id=\"E5-&gt;E3\" style=\"stroke: #383838; stroke-width: 1.0;\"/><polygon fill=\"#FFFFFF\" points=\"317.68,141.66,298.0937,146.7959,299.4432,132.8611,317.68,141.66\" style=\"stroke: #383838; stroke-width: 1.0;\"/><ellipse cx=\"292.6131\" cy=\"144.2558\" fill=\"#383838\" rx=\"2\" ry=\"2\" style=\"stroke: #383838; stroke-width: 1.0;\"/><ellipse cx=\"293.577\" cy=\"134.3024\" fill=\"#383838\" rx=\"2\" ry=\"2\" style=\"stroke: #383838; stroke-width: 1.0;\"/></a><!--MD5=[3b5b7117cc0b8147b51d02b31ec3b30c]\n",
       "@startuml\r\n",
       "left to right direction\r\n",
       "skinparam monochrome true\r\n",
       "skinparam classbackgroundcolor white\r\n",
       "skinparam shadowing false\r\n",
       "skinparam wrapWidth 300\r\n",
       "hide circle\r\n",
       "\r\n",
       "package \"AliasImport\" as E1  [[psysml:a09df071-4715-4742-883e-cd73e8c4aa55 ]]  {\r\n",
       "package \"Definitions\" as E2  [[psysml:9e891321-89ab-46bb-b178-ae51d516b5d5 ]]  {\r\n",
       "comp def \"Vehicle\" as E3  <<(T,blue) part  def>> [[psysml:aed7d351-ec1f-43ef-9181-965f0e0fafe7 ]] {\r\n",
       "}\r\n",
       "}\r\n",
       "package \"Usages\" as E4  [[psysml:0357df57-b813-4001-8053-0943e42884ef ]]  {\r\n",
       "comp usage \"vehicle: Vehicle \" as E5  <<(T,blue) part>> [[psysml:9c4f7a54-8ea6-458e-b6c7-855d1197e506 ]] {\r\n",
       "}\r\n",
       "}\r\n",
       "}\r\n",
       "E4 ..> E3 [[psysml:b99e9f78-77ea-4cdc-866d-b9796624c080 ]] : <<import>>\r\n",
       "E5 - -:|> E3 [[psysml:c70856ba-dfdd-4aff-ab00-0a9f4968bc68 ]] \r\n",
       "@enduml\r\n",
       "\n",
       "PlantUML version 1.2020.13(Sat Jun 13 12:26:38 UTC 2020)\n",
       "(EPL source distribution)\n",
       "Java Runtime: OpenJDK Runtime Environment\n",
       "JVM: OpenJDK 64-Bit Server VM\n",
       "Default Encoding: UTF-8\n",
       "Language: en\n",
       "Country: null\n",
       "--></g></svg>"
      ]
     },
     "execution_count": 22,
     "metadata": {},
     "output_type": "execute_result"
    }
   ],
   "source": [
    "%viz --style=\"LR\" --view=\"MIXED\" \"AliasImport\""
   ]
  },
  {
   "cell_type": "code",
   "execution_count": 23,
   "id": "089f19f1",
   "metadata": {
    "execution": {
     "iopub.execute_input": "2022-03-03T09:59:07.133673Z",
     "iopub.status.busy": "2022-03-03T09:59:07.133240Z",
     "iopub.status.idle": "2022-03-03T09:59:07.165306Z",
     "shell.execute_reply": "2022-03-03T09:59:07.164971Z"
    }
   },
   "outputs": [
    {
     "data": {
      "image/svg+xml": [
       "<?xml version=\"1.0\" encoding=\"UTF-8\" standalone=\"no\"?><svg xmlns=\"http://www.w3.org/2000/svg\" xmlns:xlink=\"http://www.w3.org/1999/xlink\" contentScriptType=\"application/ecmascript\" contentStyleType=\"text/css\" height=\"360px\" preserveAspectRatio=\"none\" style=\"width:275px;height:360px;\" version=\"1.1\" viewBox=\"0 0 275 360\" width=\"275px\" zoomAndPan=\"magnify\"><defs><filter height=\"300%\" id=\"fgn6k9czawyob\" width=\"300%\" x=\"-1\" y=\"-1\"><feGaussianBlur result=\"blurOut\" stdDeviation=\"2.0\"/><feColorMatrix in=\"blurOut\" result=\"blurOut2\" type=\"matrix\" values=\"0 0 0 0 0 0 0 0 0 0 0 0 0 0 0 0 0 0 .4 0\"/><feOffset dx=\"4.0\" dy=\"4.0\" in=\"blurOut2\" result=\"blurOut3\"/><feBlend in=\"SourceGraphic\" in2=\"blurOut3\" mode=\"normal\"/></filter></defs><g><!--MD5=[fbc87193dbaf4d95561dea2c320d4a47]\n",
       "cluster E1--><a href=\"psysml:a09df071-4715-4742-883e-cd73e8c4aa55\" target=\"_top\" title=\"psysml:a09df071-4715-4742-883e-cd73e8c4aa55\" xlink:actuate=\"onRequest\" xlink:href=\"psysml:a09df071-4715-4742-883e-cd73e8c4aa55\" xlink:show=\"new\" xlink:title=\"psysml:a09df071-4715-4742-883e-cd73e8c4aa55\" xlink:type=\"simple\"><polygon fill=\"#FFFFFF\" filter=\"url(#fgn6k9czawyob)\" points=\"16,6,97,6,104,28.2969,253,28.2969,253,348,16,348,16,6\" style=\"stroke: #000000; stroke-width: 1.5;\"/><line style=\"stroke: #000000; stroke-width: 1.5;\" x1=\"16\" x2=\"104\" y1=\"28.2969\" y2=\"28.2969\"/><text fill=\"#000000\" font-family=\"sans-serif\" font-size=\"14\" font-weight=\"bold\" lengthAdjust=\"spacingAndGlyphs\" textLength=\"75\" x=\"20\" y=\"20.9951\">AliasImport</text></a><!--MD5=[e4f7fae6ed58524ba242bb0b0d3be6b7]\n",
       "cluster E2--><a href=\"psysml:9e891321-89ab-46bb-b178-ae51d516b5d5\" target=\"_top\" title=\"psysml:9e891321-89ab-46bb-b178-ae51d516b5d5\" xlink:actuate=\"onRequest\" xlink:href=\"psysml:9e891321-89ab-46bb-b178-ae51d516b5d5\" xlink:show=\"new\" xlink:title=\"psysml:9e891321-89ab-46bb-b178-ae51d516b5d5\" xlink:type=\"simple\"><polygon fill=\"#FFFFFF\" filter=\"url(#fgn6k9czawyob)\" points=\"65,227,144,227,151,249.2969,167,249.2969,167,324,65,324,65,227\" style=\"stroke: #000000; stroke-width: 1.5;\"/><line style=\"stroke: #000000; stroke-width: 1.5;\" x1=\"65\" x2=\"151\" y1=\"249.2969\" y2=\"249.2969\"/><text fill=\"#000000\" font-family=\"sans-serif\" font-size=\"14\" font-weight=\"bold\" lengthAdjust=\"spacingAndGlyphs\" textLength=\"73\" x=\"69\" y=\"241.9951\">Definitions</text></a><!--MD5=[f6df4d0ebaf0b5dfb2ced0ae5af7c670]\n",
       "cluster E4--><a href=\"psysml:0357df57-b813-4001-8053-0943e42884ef\" target=\"_top\" title=\"psysml:0357df57-b813-4001-8053-0943e42884ef\" xlink:actuate=\"onRequest\" xlink:href=\"psysml:0357df57-b813-4001-8053-0943e42884ef\" xlink:show=\"new\" xlink:title=\"psysml:0357df57-b813-4001-8053-0943e42884ef\" xlink:type=\"simple\"><polygon fill=\"#FFFFFF\" filter=\"url(#fgn6k9czawyob)\" points=\"48,57,106,57,113,79.2969,221,79.2969,221,170,48,170,48,57\" style=\"stroke: #000000; stroke-width: 1.5;\"/><line style=\"stroke: #000000; stroke-width: 1.5;\" x1=\"48\" x2=\"113\" y1=\"79.2969\" y2=\"79.2969\"/><text fill=\"#000000\" font-family=\"sans-serif\" font-size=\"14\" font-weight=\"bold\" lengthAdjust=\"spacingAndGlyphs\" textLength=\"52\" x=\"52\" y=\"71.9951\">Usages</text></a><!--MD5=[09b614a08d8cba4a07c9adeb5e0fee81]\n",
       "class E3--><a href=\"psysml:aed7d351-ec1f-43ef-9181-965f0e0fafe7\" target=\"_top\" title=\"psysml:aed7d351-ec1f-43ef-9181-965f0e0fafe7\" xlink:actuate=\"onRequest\" xlink:href=\"psysml:aed7d351-ec1f-43ef-9181-965f0e0fafe7\" xlink:show=\"new\" xlink:title=\"psysml:aed7d351-ec1f-43ef-9181-965f0e0fafe7\" xlink:type=\"simple\"><rect fill=\"#FEFECE\" filter=\"url(#fgn6k9czawyob)\" height=\"45.9375\" id=\"E3\" style=\"stroke: #A80036; stroke-width: 1.5;\" width=\"70\" x=\"81\" y=\"262\"/><text fill=\"#000000\" font-family=\"sans-serif\" font-size=\"12\" font-style=\"italic\" lengthAdjust=\"spacingAndGlyphs\" textLength=\"68\" x=\"82\" y=\"278.1387\">«part  def»</text><text fill=\"#000000\" font-family=\"sans-serif\" font-size=\"12\" lengthAdjust=\"spacingAndGlyphs\" textLength=\"45\" x=\"93.5\" y=\"292.1074\">Vehicle</text><line style=\"stroke: #A80036; stroke-width: 1.5;\" x1=\"82\" x2=\"150\" y1=\"299.9375\" y2=\"299.9375\"/></a><!--MD5=[270fce915f116d4de14055a7c1d9a0f3]\n",
       "class E5--><a href=\"psysml:9c4f7a54-8ea6-458e-b6c7-855d1197e506\" target=\"_top\" title=\"psysml:9c4f7a54-8ea6-458e-b6c7-855d1197e506\" xlink:actuate=\"onRequest\" xlink:href=\"psysml:9c4f7a54-8ea6-458e-b6c7-855d1197e506\" xlink:show=\"new\" xlink:title=\"psysml:9c4f7a54-8ea6-458e-b6c7-855d1197e506\" xlink:type=\"simple\"><rect fill=\"#FEFECE\" filter=\"url(#fgn6k9czawyob)\" height=\"45.9375\" id=\"E5\" rx=\"10\" ry=\"10\" style=\"stroke: #A80036; stroke-width: 1.5;\" width=\"106\" x=\"91\" y=\"100\"/><text fill=\"#000000\" font-family=\"sans-serif\" font-size=\"12\" font-style=\"italic\" lengthAdjust=\"spacingAndGlyphs\" textLength=\"40\" x=\"124\" y=\"116.1387\">«part»</text><text fill=\"#000000\" font-family=\"sans-serif\" font-size=\"12\" lengthAdjust=\"spacingAndGlyphs\" textLength=\"96\" x=\"94\" y=\"130.1074\">vehicle: Vehicle</text><line style=\"stroke: #A80036; stroke-width: 1.5;\" x1=\"92\" x2=\"196\" y1=\"137.9375\" y2=\"137.9375\"/></a><!--MD5=[f0cdf4548168e5211fb3a02bf679d63a]\n",
       "link E4 to E3--><a href=\"psysml:b99e9f78-77ea-4cdc-866d-b9796624c080\" target=\"_top\" title=\"psysml:b99e9f78-77ea-4cdc-866d-b9796624c080\" xlink:actuate=\"onRequest\" xlink:href=\"psysml:b99e9f78-77ea-4cdc-866d-b9796624c080\" xlink:show=\"new\" xlink:title=\"psysml:b99e9f78-77ea-4cdc-866d-b9796624c080\" xlink:type=\"simple\"><path d=\"M58.5005,170.0549 C58.5193,170.2001 58.5383,170.3454 58.5574,170.4908 C58.6338,171.0725 58.7124,171.6562 58.7932,172.2415 C58.9548,173.4122 59.1253,174.5898 59.3052,175.7725 C59.6651,178.1379 60.0625,180.5238 60.5014,182.9158 C62.2569,192.4838 64.675,202.15 68,211 C74.23,227.58 84.77,244.23 94.38,257.43 \" fill=\"none\" id=\"E4-&gt;E3\" style=\"stroke: #A80036; stroke-width: 1.0; stroke-dasharray: 7.0,7.0;\"/><polygon fill=\"#A80036\" points=\"97.6,261.77,95.4384,252.1613,94.616,257.758,89.0193,256.9357,97.6,261.77\" style=\"stroke: #A80036; stroke-width: 1.0;\"/><text fill=\"#000000\" font-family=\"sans-serif\" font-size=\"13\" lengthAdjust=\"spacingAndGlyphs\" textLength=\"58\" x=\"69\" y=\"207.0669\">«import»</text></a><!--MD5=[e9be52314489bd878ff4c7144b63c9e1]\n",
       "link E5 to E3--><a href=\"psysml:c70856ba-dfdd-4aff-ab00-0a9f4968bc68\" target=\"_top\" title=\"psysml:c70856ba-dfdd-4aff-ab00-0a9f4968bc68\" xlink:actuate=\"onRequest\" xlink:href=\"psysml:c70856ba-dfdd-4aff-ab00-0a9f4968bc68\" xlink:show=\"new\" xlink:title=\"psysml:c70856ba-dfdd-4aff-ab00-0a9f4968bc68\" xlink:type=\"simple\"><path d=\"M143.03,146.32 C142,163.98 139.95,189.21 136,211 C134.13,221.29 131.49,232.23 128.74,242.43 \" fill=\"none\" id=\"E5-&gt;E3\" style=\"stroke: #A80036; stroke-width: 1.0;\"/><polygon fill=\"#FFFFFF\" points=\"123.15,261.87,121.6727,241.6755,135.1276,245.544,123.15,261.87\" style=\"stroke: #A80036; stroke-width: 1.0;\"/><ellipse cx=\"125.1699\" cy=\"236.7501\" fill=\"#A80036\" rx=\"2\" ry=\"2\" style=\"stroke: #A80036; stroke-width: 1.0;\"/><ellipse cx=\"134.7805\" cy=\"239.5133\" fill=\"#A80036\" rx=\"2\" ry=\"2\" style=\"stroke: #A80036; stroke-width: 1.0;\"/></a><!--MD5=[f273a4313ad638509b447f21f81cfaed]\n",
       "@startuml\r\n",
       "skinparam wrapWidth 300\r\n",
       "hide circle\r\n",
       "\r\n",
       "package \"AliasImport\" as E1  [[psysml:a09df071-4715-4742-883e-cd73e8c4aa55 ]]  {\r\n",
       "package \"Definitions\" as E2  [[psysml:9e891321-89ab-46bb-b178-ae51d516b5d5 ]]  {\r\n",
       "comp def \"Vehicle\" as E3  <<(T,blue) part  def>> [[psysml:aed7d351-ec1f-43ef-9181-965f0e0fafe7 ]] {\r\n",
       "}\r\n",
       "}\r\n",
       "package \"Usages\" as E4  [[psysml:0357df57-b813-4001-8053-0943e42884ef ]]  {\r\n",
       "comp usage \"vehicle: Vehicle \" as E5  <<(T,blue) part>> [[psysml:9c4f7a54-8ea6-458e-b6c7-855d1197e506 ]] {\r\n",
       "}\r\n",
       "}\r\n",
       "}\r\n",
       "E4 ..> E3 [[psysml:b99e9f78-77ea-4cdc-866d-b9796624c080 ]] : <<import>>\r\n",
       "E5 - -:|> E3 [[psysml:c70856ba-dfdd-4aff-ab00-0a9f4968bc68 ]] \r\n",
       "@enduml\r\n",
       "\n",
       "PlantUML version 1.2020.13(Sat Jun 13 12:26:38 UTC 2020)\n",
       "(EPL source distribution)\n",
       "Java Runtime: OpenJDK Runtime Environment\n",
       "JVM: OpenJDK 64-Bit Server VM\n",
       "Default Encoding: UTF-8\n",
       "Language: en\n",
       "Country: null\n",
       "--></g></svg>"
      ]
     },
     "execution_count": 23,
     "metadata": {},
     "output_type": "execute_result"
    }
   ],
   "source": [
    "%viz --style=\"STDCOLOR\" --view=\"Default\" \"AliasImport\""
   ]
  },
  {
   "cell_type": "code",
   "execution_count": 24,
   "id": "94ba509f",
   "metadata": {
    "execution": {
     "iopub.execute_input": "2022-03-03T09:59:07.215284Z",
     "iopub.status.busy": "2022-03-03T09:59:07.214889Z",
     "iopub.status.idle": "2022-03-03T09:59:07.247495Z",
     "shell.execute_reply": "2022-03-03T09:59:07.247151Z"
    }
   },
   "outputs": [
    {
     "data": {
      "image/svg+xml": [
       "<?xml version=\"1.0\" encoding=\"UTF-8\" standalone=\"no\"?><svg xmlns=\"http://www.w3.org/2000/svg\" xmlns:xlink=\"http://www.w3.org/1999/xlink\" contentScriptType=\"application/ecmascript\" contentStyleType=\"text/css\" height=\"360px\" preserveAspectRatio=\"none\" style=\"width:275px;height:360px;\" version=\"1.1\" viewBox=\"0 0 275 360\" width=\"275px\" zoomAndPan=\"magnify\"><defs><filter height=\"300%\" id=\"fgn6k9czawyob\" width=\"300%\" x=\"-1\" y=\"-1\"><feGaussianBlur result=\"blurOut\" stdDeviation=\"2.0\"/><feColorMatrix in=\"blurOut\" result=\"blurOut2\" type=\"matrix\" values=\"0 0 0 0 0 0 0 0 0 0 0 0 0 0 0 0 0 0 .4 0\"/><feOffset dx=\"4.0\" dy=\"4.0\" in=\"blurOut2\" result=\"blurOut3\"/><feBlend in=\"SourceGraphic\" in2=\"blurOut3\" mode=\"normal\"/></filter></defs><g><!--MD5=[fbc87193dbaf4d95561dea2c320d4a47]\n",
       "cluster E1--><a href=\"psysml:a09df071-4715-4742-883e-cd73e8c4aa55\" target=\"_top\" title=\"psysml:a09df071-4715-4742-883e-cd73e8c4aa55\" xlink:actuate=\"onRequest\" xlink:href=\"psysml:a09df071-4715-4742-883e-cd73e8c4aa55\" xlink:show=\"new\" xlink:title=\"psysml:a09df071-4715-4742-883e-cd73e8c4aa55\" xlink:type=\"simple\"><polygon fill=\"#FFFFFF\" filter=\"url(#fgn6k9czawyob)\" points=\"16,6,97,6,104,28.2969,253,28.2969,253,348,16,348,16,6\" style=\"stroke: #000000; stroke-width: 1.5;\"/><line style=\"stroke: #000000; stroke-width: 1.5;\" x1=\"16\" x2=\"104\" y1=\"28.2969\" y2=\"28.2969\"/><text fill=\"#000000\" font-family=\"sans-serif\" font-size=\"14\" font-weight=\"bold\" lengthAdjust=\"spacingAndGlyphs\" textLength=\"75\" x=\"20\" y=\"20.9951\">AliasImport</text></a><!--MD5=[e4f7fae6ed58524ba242bb0b0d3be6b7]\n",
       "cluster E2--><a href=\"psysml:9e891321-89ab-46bb-b178-ae51d516b5d5\" target=\"_top\" title=\"psysml:9e891321-89ab-46bb-b178-ae51d516b5d5\" xlink:actuate=\"onRequest\" xlink:href=\"psysml:9e891321-89ab-46bb-b178-ae51d516b5d5\" xlink:show=\"new\" xlink:title=\"psysml:9e891321-89ab-46bb-b178-ae51d516b5d5\" xlink:type=\"simple\"><polygon fill=\"#FFFFFF\" filter=\"url(#fgn6k9czawyob)\" points=\"65,227,144,227,151,249.2969,167,249.2969,167,324,65,324,65,227\" style=\"stroke: #000000; stroke-width: 1.5;\"/><line style=\"stroke: #000000; stroke-width: 1.5;\" x1=\"65\" x2=\"151\" y1=\"249.2969\" y2=\"249.2969\"/><text fill=\"#000000\" font-family=\"sans-serif\" font-size=\"14\" font-weight=\"bold\" lengthAdjust=\"spacingAndGlyphs\" textLength=\"73\" x=\"69\" y=\"241.9951\">Definitions</text></a><!--MD5=[f6df4d0ebaf0b5dfb2ced0ae5af7c670]\n",
       "cluster E4--><a href=\"psysml:0357df57-b813-4001-8053-0943e42884ef\" target=\"_top\" title=\"psysml:0357df57-b813-4001-8053-0943e42884ef\" xlink:actuate=\"onRequest\" xlink:href=\"psysml:0357df57-b813-4001-8053-0943e42884ef\" xlink:show=\"new\" xlink:title=\"psysml:0357df57-b813-4001-8053-0943e42884ef\" xlink:type=\"simple\"><polygon fill=\"#FFFFFF\" filter=\"url(#fgn6k9czawyob)\" points=\"48,57,106,57,113,79.2969,221,79.2969,221,170,48,170,48,57\" style=\"stroke: #000000; stroke-width: 1.5;\"/><line style=\"stroke: #000000; stroke-width: 1.5;\" x1=\"48\" x2=\"113\" y1=\"79.2969\" y2=\"79.2969\"/><text fill=\"#000000\" font-family=\"sans-serif\" font-size=\"14\" font-weight=\"bold\" lengthAdjust=\"spacingAndGlyphs\" textLength=\"52\" x=\"52\" y=\"71.9951\">Usages</text></a><!--MD5=[09b614a08d8cba4a07c9adeb5e0fee81]\n",
       "class E3--><a href=\"psysml:aed7d351-ec1f-43ef-9181-965f0e0fafe7\" target=\"_top\" title=\"psysml:aed7d351-ec1f-43ef-9181-965f0e0fafe7\" xlink:actuate=\"onRequest\" xlink:href=\"psysml:aed7d351-ec1f-43ef-9181-965f0e0fafe7\" xlink:show=\"new\" xlink:title=\"psysml:aed7d351-ec1f-43ef-9181-965f0e0fafe7\" xlink:type=\"simple\"><rect fill=\"#FEFECE\" filter=\"url(#fgn6k9czawyob)\" height=\"45.9375\" id=\"E3\" style=\"stroke: #A80036; stroke-width: 1.5;\" width=\"70\" x=\"81\" y=\"262\"/><text fill=\"#000000\" font-family=\"sans-serif\" font-size=\"12\" font-style=\"italic\" lengthAdjust=\"spacingAndGlyphs\" textLength=\"68\" x=\"82\" y=\"278.1387\">«part  def»</text><text fill=\"#000000\" font-family=\"sans-serif\" font-size=\"12\" lengthAdjust=\"spacingAndGlyphs\" textLength=\"45\" x=\"93.5\" y=\"292.1074\">Vehicle</text><line style=\"stroke: #A80036; stroke-width: 1.5;\" x1=\"82\" x2=\"150\" y1=\"299.9375\" y2=\"299.9375\"/></a><!--MD5=[270fce915f116d4de14055a7c1d9a0f3]\n",
       "class E5--><a href=\"psysml:9c4f7a54-8ea6-458e-b6c7-855d1197e506\" target=\"_top\" title=\"psysml:9c4f7a54-8ea6-458e-b6c7-855d1197e506\" xlink:actuate=\"onRequest\" xlink:href=\"psysml:9c4f7a54-8ea6-458e-b6c7-855d1197e506\" xlink:show=\"new\" xlink:title=\"psysml:9c4f7a54-8ea6-458e-b6c7-855d1197e506\" xlink:type=\"simple\"><rect fill=\"#FEFECE\" filter=\"url(#fgn6k9czawyob)\" height=\"45.9375\" id=\"E5\" rx=\"10\" ry=\"10\" style=\"stroke: #A80036; stroke-width: 1.5;\" width=\"106\" x=\"91\" y=\"100\"/><text fill=\"#000000\" font-family=\"sans-serif\" font-size=\"12\" font-style=\"italic\" lengthAdjust=\"spacingAndGlyphs\" textLength=\"40\" x=\"124\" y=\"116.1387\">«part»</text><text fill=\"#000000\" font-family=\"sans-serif\" font-size=\"12\" lengthAdjust=\"spacingAndGlyphs\" textLength=\"96\" x=\"94\" y=\"130.1074\">vehicle: Vehicle</text><line style=\"stroke: #A80036; stroke-width: 1.5;\" x1=\"92\" x2=\"196\" y1=\"137.9375\" y2=\"137.9375\"/></a><!--MD5=[f0cdf4548168e5211fb3a02bf679d63a]\n",
       "link E4 to E3--><a href=\"psysml:b99e9f78-77ea-4cdc-866d-b9796624c080\" target=\"_top\" title=\"psysml:b99e9f78-77ea-4cdc-866d-b9796624c080\" xlink:actuate=\"onRequest\" xlink:href=\"psysml:b99e9f78-77ea-4cdc-866d-b9796624c080\" xlink:show=\"new\" xlink:title=\"psysml:b99e9f78-77ea-4cdc-866d-b9796624c080\" xlink:type=\"simple\"><path d=\"M58.5005,170.0549 C58.5193,170.2001 58.5383,170.3454 58.5574,170.4908 C58.6338,171.0725 58.7124,171.6562 58.7932,172.2415 C58.9548,173.4122 59.1253,174.5898 59.3052,175.7725 C59.6651,178.1379 60.0625,180.5238 60.5014,182.9158 C62.2569,192.4838 64.675,202.15 68,211 C74.23,227.58 84.77,244.23 94.38,257.43 \" fill=\"none\" id=\"E4-&gt;E3\" style=\"stroke: #A80036; stroke-width: 1.0; stroke-dasharray: 7.0,7.0;\"/><polygon fill=\"#A80036\" points=\"97.6,261.77,95.4384,252.1613,94.616,257.758,89.0193,256.9357,97.6,261.77\" style=\"stroke: #A80036; stroke-width: 1.0;\"/><text fill=\"#000000\" font-family=\"sans-serif\" font-size=\"13\" lengthAdjust=\"spacingAndGlyphs\" textLength=\"58\" x=\"69\" y=\"207.0669\">«import»</text></a><!--MD5=[e9be52314489bd878ff4c7144b63c9e1]\n",
       "link E5 to E3--><a href=\"psysml:c70856ba-dfdd-4aff-ab00-0a9f4968bc68\" target=\"_top\" title=\"psysml:c70856ba-dfdd-4aff-ab00-0a9f4968bc68\" xlink:actuate=\"onRequest\" xlink:href=\"psysml:c70856ba-dfdd-4aff-ab00-0a9f4968bc68\" xlink:show=\"new\" xlink:title=\"psysml:c70856ba-dfdd-4aff-ab00-0a9f4968bc68\" xlink:type=\"simple\"><path d=\"M143.03,146.32 C142,163.98 139.95,189.21 136,211 C134.13,221.29 131.49,232.23 128.74,242.43 \" fill=\"none\" id=\"E5-&gt;E3\" style=\"stroke: #A80036; stroke-width: 1.0;\"/><polygon fill=\"#FFFFFF\" points=\"123.15,261.87,121.6727,241.6755,135.1276,245.544,123.15,261.87\" style=\"stroke: #A80036; stroke-width: 1.0;\"/><ellipse cx=\"125.1699\" cy=\"236.7501\" fill=\"#A80036\" rx=\"2\" ry=\"2\" style=\"stroke: #A80036; stroke-width: 1.0;\"/><ellipse cx=\"134.7805\" cy=\"239.5133\" fill=\"#A80036\" rx=\"2\" ry=\"2\" style=\"stroke: #A80036; stroke-width: 1.0;\"/></a><!--MD5=[f273a4313ad638509b447f21f81cfaed]\n",
       "@startuml\r\n",
       "skinparam wrapWidth 300\r\n",
       "hide circle\r\n",
       "\r\n",
       "package \"AliasImport\" as E1  [[psysml:a09df071-4715-4742-883e-cd73e8c4aa55 ]]  {\r\n",
       "package \"Definitions\" as E2  [[psysml:9e891321-89ab-46bb-b178-ae51d516b5d5 ]]  {\r\n",
       "comp def \"Vehicle\" as E3  <<(T,blue) part  def>> [[psysml:aed7d351-ec1f-43ef-9181-965f0e0fafe7 ]] {\r\n",
       "}\r\n",
       "}\r\n",
       "package \"Usages\" as E4  [[psysml:0357df57-b813-4001-8053-0943e42884ef ]]  {\r\n",
       "comp usage \"vehicle: Vehicle \" as E5  <<(T,blue) part>> [[psysml:9c4f7a54-8ea6-458e-b6c7-855d1197e506 ]] {\r\n",
       "}\r\n",
       "}\r\n",
       "}\r\n",
       "E4 ..> E3 [[psysml:b99e9f78-77ea-4cdc-866d-b9796624c080 ]] : <<import>>\r\n",
       "E5 - -:|> E3 [[psysml:c70856ba-dfdd-4aff-ab00-0a9f4968bc68 ]] \r\n",
       "@enduml\r\n",
       "\n",
       "PlantUML version 1.2020.13(Sat Jun 13 12:26:38 UTC 2020)\n",
       "(EPL source distribution)\n",
       "Java Runtime: OpenJDK Runtime Environment\n",
       "JVM: OpenJDK 64-Bit Server VM\n",
       "Default Encoding: UTF-8\n",
       "Language: en\n",
       "Country: null\n",
       "--></g></svg>"
      ]
     },
     "execution_count": 24,
     "metadata": {},
     "output_type": "execute_result"
    }
   ],
   "source": [
    "%viz --style=\"STDCOLOR\" --view=\"Tree\" \"AliasImport\""
   ]
  },
  {
   "cell_type": "code",
   "execution_count": 25,
   "id": "47380580",
   "metadata": {
    "execution": {
     "iopub.execute_input": "2022-03-03T09:59:07.297542Z",
     "iopub.status.busy": "2022-03-03T09:59:07.297150Z",
     "iopub.status.idle": "2022-03-03T09:59:07.302383Z",
     "shell.execute_reply": "2022-03-03T09:59:07.302686Z"
    }
   },
   "outputs": [
    {
     "data": {
      "image/svg+xml": [
       "<?xml version=\"1.0\" encoding=\"UTF-8\" standalone=\"no\"?><svg xmlns=\"http://www.w3.org/2000/svg\" xmlns:xlink=\"http://www.w3.org/1999/xlink\" contentScriptType=\"application/ecmascript\" contentStyleType=\"text/css\" height=\"12px\" preserveAspectRatio=\"none\" style=\"width:12px;height:12px;\" version=\"1.1\" viewBox=\"0 0 12 12\" width=\"12px\" zoomAndPan=\"magnify\"><defs/><g><!--MD5=[aeeef50f102b80d730deb6443d14f702]\n",
       "@startuml\r\n",
       "skinparam wrapWidth 300\r\n",
       "hide circle\r\n",
       "\r\n",
       "@enduml\r\n",
       "\n",
       "PlantUML version 1.2020.13(Sat Jun 13 12:26:38 UTC 2020)\n",
       "(EPL source distribution)\n",
       "Java Runtime: OpenJDK Runtime Environment\n",
       "JVM: OpenJDK 64-Bit Server VM\n",
       "Default Encoding: UTF-8\n",
       "Language: en\n",
       "Country: null\n",
       "--></g></svg>"
      ]
     },
     "execution_count": 25,
     "metadata": {},
     "output_type": "execute_result"
    }
   ],
   "source": [
    "%viz --style=\"STDCOLOR\" --view=\"State\" \"AliasImport\""
   ]
  },
  {
   "cell_type": "code",
   "execution_count": 26,
   "id": "501a9964",
   "metadata": {
    "execution": {
     "iopub.execute_input": "2022-03-03T09:59:07.352898Z",
     "iopub.status.busy": "2022-03-03T09:59:07.352480Z",
     "iopub.status.idle": "2022-03-03T09:59:07.382705Z",
     "shell.execute_reply": "2022-03-03T09:59:07.382367Z"
    }
   },
   "outputs": [
    {
     "data": {
      "image/svg+xml": [
       "<?xml version=\"1.0\" encoding=\"UTF-8\" standalone=\"no\"?><svg xmlns=\"http://www.w3.org/2000/svg\" xmlns:xlink=\"http://www.w3.org/1999/xlink\" contentScriptType=\"application/ecmascript\" contentStyleType=\"text/css\" height=\"351px\" preserveAspectRatio=\"none\" style=\"width:302px;height:351px;\" version=\"1.1\" viewBox=\"0 0 302 351\" width=\"302px\" zoomAndPan=\"magnify\"><defs><filter height=\"300%\" id=\"f10338fcfzg0d0\" width=\"300%\" x=\"-1\" y=\"-1\"><feGaussianBlur result=\"blurOut\" stdDeviation=\"2.0\"/><feColorMatrix in=\"blurOut\" result=\"blurOut2\" type=\"matrix\" values=\"0 0 0 0 0 0 0 0 0 0 0 0 0 0 0 0 0 0 .4 0\"/><feOffset dx=\"4.0\" dy=\"4.0\" in=\"blurOut2\" result=\"blurOut3\"/><feBlend in=\"SourceGraphic\" in2=\"blurOut3\" mode=\"normal\"/></filter></defs><g><!--MD5=[fbc87193dbaf4d95561dea2c320d4a47]\n",
       "cluster E1--><a href=\"psysml:a09df071-4715-4742-883e-cd73e8c4aa55\" target=\"_top\" title=\"psysml:a09df071-4715-4742-883e-cd73e8c4aa55\" xlink:actuate=\"onRequest\" xlink:href=\"psysml:a09df071-4715-4742-883e-cd73e8c4aa55\" xlink:show=\"new\" xlink:title=\"psysml:a09df071-4715-4742-883e-cd73e8c4aa55\" xlink:type=\"simple\"><polygon fill=\"#FFFFFF\" filter=\"url(#f10338fcfzg0d0)\" points=\"16,6,97,6,104,28.2969,280,28.2969,280,339,16,339,16,6\" style=\"stroke: #000000; stroke-width: 1.5;\"/><line style=\"stroke: #000000; stroke-width: 1.5;\" x1=\"16\" x2=\"104\" y1=\"28.2969\" y2=\"28.2969\"/><text fill=\"#000000\" font-family=\"sans-serif\" font-size=\"14\" font-weight=\"bold\" lengthAdjust=\"spacingAndGlyphs\" textLength=\"75\" x=\"20\" y=\"20.9951\">AliasImport</text></a><!--MD5=[e4f7fae6ed58524ba242bb0b0d3be6b7]\n",
       "cluster E2--><a href=\"psysml:9e891321-89ab-46bb-b178-ae51d516b5d5\" target=\"_top\" title=\"psysml:9e891321-89ab-46bb-b178-ae51d516b5d5\" xlink:actuate=\"onRequest\" xlink:href=\"psysml:9e891321-89ab-46bb-b178-ae51d516b5d5\" xlink:show=\"new\" xlink:title=\"psysml:9e891321-89ab-46bb-b178-ae51d516b5d5\" xlink:type=\"simple\"><polygon fill=\"#FFFFFF\" filter=\"url(#f10338fcfzg0d0)\" points=\"40,221,119,221,126,243.2969,256,243.2969,256,315,40,315,40,221\" style=\"stroke: #000000; stroke-width: 1.5;\"/><line style=\"stroke: #000000; stroke-width: 1.5;\" x1=\"40\" x2=\"126\" y1=\"243.2969\" y2=\"243.2969\"/><text fill=\"#000000\" font-family=\"sans-serif\" font-size=\"14\" font-weight=\"bold\" lengthAdjust=\"spacingAndGlyphs\" textLength=\"73\" x=\"44\" y=\"235.9951\">Definitions</text></a><!--MD5=[de5ec2e2e8f62f467e546659f5068c88]\n",
       "cluster E5--><a href=\"psysml:0357df57-b813-4001-8053-0943e42884ef\" target=\"_top\" title=\"psysml:0357df57-b813-4001-8053-0943e42884ef\" xlink:actuate=\"onRequest\" xlink:href=\"psysml:0357df57-b813-4001-8053-0943e42884ef\" xlink:show=\"new\" xlink:title=\"psysml:0357df57-b813-4001-8053-0943e42884ef\" xlink:type=\"simple\"><polygon fill=\"#FFFFFF\" filter=\"url(#f10338fcfzg0d0)\" points=\"74,57,132,57,139,79.2969,248,79.2969,248,164,74,164,74,57\" style=\"stroke: #000000; stroke-width: 1.5;\"/><line style=\"stroke: #000000; stroke-width: 1.5;\" x1=\"74\" x2=\"139\" y1=\"79.2969\" y2=\"79.2969\"/><text fill=\"#000000\" font-family=\"sans-serif\" font-size=\"14\" font-weight=\"bold\" lengthAdjust=\"spacingAndGlyphs\" textLength=\"52\" x=\"78\" y=\"71.9951\">Usages</text></a><g id=\"E1.E2.E3\"><a href=\"psysml:aed7d351-ec1f-43ef-9181-965f0e0fafe7\" target=\"_top\" title=\"psysml:aed7d351-ec1f-43ef-9181-965f0e0fafe7\" xlink:actuate=\"onRequest\" xlink:href=\"psysml:aed7d351-ec1f-43ef-9181-965f0e0fafe7\" xlink:show=\"new\" xlink:title=\"psysml:aed7d351-ec1f-43ef-9181-965f0e0fafe7\" xlink:type=\"simple\"><rect fill=\"#FEFECE\" filter=\"url(#f10338fcfzg0d0)\" height=\"42.9375\" id=\"E3\" style=\"stroke: #A80036; stroke-width: 1.5;\" width=\"75\" x=\"165.5\" y=\"256\"/><text fill=\"#000000\" font-family=\"sans-serif\" font-size=\"12\" font-style=\"italic\" lengthAdjust=\"spacingAndGlyphs\" textLength=\"68\" x=\"169\" y=\"272.1387\">«part  def»</text><text fill=\"#000000\" font-family=\"sans-serif\" font-size=\"12\" lengthAdjust=\"spacingAndGlyphs\" textLength=\"45\" x=\"180.5\" y=\"286.1074\">Vehicle</text></a></g><g id=\"E1.E2.E4\"><a href=\"psysml:aed7d351-ec1f-43ef-9181-965f0e0fafe7\" target=\"_top\" title=\"psysml:aed7d351-ec1f-43ef-9181-965f0e0fafe7\" xlink:actuate=\"onRequest\" xlink:href=\"psysml:aed7d351-ec1f-43ef-9181-965f0e0fafe7\" xlink:show=\"new\" xlink:title=\"psysml:aed7d351-ec1f-43ef-9181-965f0e0fafe7\" xlink:type=\"simple\"><rect fill=\"#FEFECE\" filter=\"url(#f10338fcfzg0d0)\" height=\"42.9375\" id=\"E4\" style=\"stroke: #A80036; stroke-width: 1.5;\" width=\"75\" x=\"55.5\" y=\"256\"/><text fill=\"#000000\" font-family=\"sans-serif\" font-size=\"12\" font-style=\"italic\" lengthAdjust=\"spacingAndGlyphs\" textLength=\"68\" x=\"59\" y=\"272.1387\">«part  def»</text><text fill=\"#000000\" font-family=\"sans-serif\" font-size=\"12\" lengthAdjust=\"spacingAndGlyphs\" textLength=\"45\" x=\"70.5\" y=\"286.1074\">Vehicle</text></a></g><g id=\"E1.E5.E6\"><a href=\"psysml:9c4f7a54-8ea6-458e-b6c7-855d1197e506\" target=\"_top\" title=\"psysml:9c4f7a54-8ea6-458e-b6c7-855d1197e506\" xlink:actuate=\"onRequest\" xlink:href=\"psysml:9c4f7a54-8ea6-458e-b6c7-855d1197e506\" xlink:show=\"new\" xlink:title=\"psysml:9c4f7a54-8ea6-458e-b6c7-855d1197e506\" xlink:type=\"simple\"><rect fill=\"#FEFECE\" filter=\"url(#f10338fcfzg0d0)\" height=\"40\" id=\"E6\" rx=\"10\" ry=\"10\" style=\"stroke: #A80036; stroke-width: 1.5;\" width=\"107\" x=\"117.5\" y=\"100\"/><text fill=\"#000000\" font-family=\"sans-serif\" font-size=\"12\" lengthAdjust=\"spacingAndGlyphs\" textLength=\"96\" x=\"123\" y=\"116.1387\">vehicle: Vehicle</text></a></g><!--MD5=[1c62de2aa5b76f0fb657ff8443a1a700]\n",
       "link E5 to E4--><a href=\"psysml:b99e9f78-77ea-4cdc-866d-b9796624c080\" target=\"_top\" title=\"psysml:b99e9f78-77ea-4cdc-866d-b9796624c080\" xlink:actuate=\"onRequest\" xlink:href=\"psysml:b99e9f78-77ea-4cdc-866d-b9796624c080\" xlink:show=\"new\" xlink:title=\"psysml:b99e9f78-77ea-4cdc-866d-b9796624c080\" xlink:type=\"simple\"><path d=\"M85.0613,164.274 C85.0754,164.474 85.0896,164.6743 85.1038,164.8751 C85.1322,165.2765 85.1608,165.6795 85.1894,166.0839 C85.3039,167.7016 85.42,169.3423 85.5375,171.0025 C87.4175,197.565 89.65,229.1 91.18,250.73 \" fill=\"none\" id=\"E5-&gt;E4\" style=\"stroke: #A80036; stroke-width: 1.0; stroke-dasharray: 7.0,7.0;\"/><polygon fill=\"#A80036\" points=\"91.54,255.81,94.8867,246.5472,91.1827,250.8228,86.9072,247.1188,91.54,255.81\" style=\"stroke: #A80036; stroke-width: 1.0;\"/><text fill=\"#000000\" font-family=\"sans-serif\" font-size=\"13\" lengthAdjust=\"spacingAndGlyphs\" textLength=\"58\" x=\"88\" y=\"201.0669\">«import»</text></a><!--MD5=[501264951de224e43f682e2ba469e0e7]\n",
       "@startuml\r\n",
       "skinparam ranksep 10\r\n",
       "skinparam rectangle {\r\n",
       " backgroundColor<<block>> LightGreen\r\n",
       "}\r\n",
       "skinparam wrapWidth 300\r\n",
       "hide circle\r\n",
       "\r\n",
       "package \"AliasImport\" as E1  [[psysml:a09df071-4715-4742-883e-cd73e8c4aa55 ]]  {\r\n",
       "package \"Definitions\" as E2  [[psysml:9e891321-89ab-46bb-b178-ae51d516b5d5 ]]  {\r\n",
       "rec def \"Vehicle\" as E3  <<(T,blue) part  def>> [[psysml:aed7d351-ec1f-43ef-9181-965f0e0fafe7 ]] {\r\n",
       "}\r\n",
       "rec def \"Vehicle\" as E4  <<(T,blue) part  def>> [[psysml:aed7d351-ec1f-43ef-9181-965f0e0fafe7 ]] {\r\n",
       "}\r\n",
       "}\r\n",
       "package \"Usages\" as E5  [[psysml:0357df57-b813-4001-8053-0943e42884ef ]]  {\r\n",
       "rec usage \"vehicle: Vehicle\" as E6  [[psysml:9c4f7a54-8ea6-458e-b6c7-855d1197e506 ]] {\r\n",
       "}\r\n",
       "}\r\n",
       "}\r\n",
       "E5 ..> E4 [[psysml:b99e9f78-77ea-4cdc-866d-b9796624c080 ]] : <<import>>\r\n",
       "@enduml\r\n",
       "\n",
       "PlantUML version 1.2020.13(Sat Jun 13 12:26:38 UTC 2020)\n",
       "(EPL source distribution)\n",
       "Java Runtime: OpenJDK Runtime Environment\n",
       "JVM: OpenJDK 64-Bit Server VM\n",
       "Default Encoding: UTF-8\n",
       "Language: en\n",
       "Country: null\n",
       "--></g></svg>"
      ]
     },
     "execution_count": 26,
     "metadata": {},
     "output_type": "execute_result"
    }
   ],
   "source": [
    "%viz --style=\"STDCOLOR\" --view=\"Interconnection\" \"AliasImport\""
   ]
  },
  {
   "cell_type": "code",
   "execution_count": 27,
   "id": "c1cb7cf5",
   "metadata": {
    "execution": {
     "iopub.execute_input": "2022-03-03T09:59:07.432720Z",
     "iopub.status.busy": "2022-03-03T09:59:07.432303Z",
     "iopub.status.idle": "2022-03-03T09:59:07.437281Z",
     "shell.execute_reply": "2022-03-03T09:59:07.437586Z"
    }
   },
   "outputs": [
    {
     "data": {
      "image/svg+xml": [
       "<?xml version=\"1.0\" encoding=\"UTF-8\" standalone=\"no\"?><svg xmlns=\"http://www.w3.org/2000/svg\" xmlns:xlink=\"http://www.w3.org/1999/xlink\" contentScriptType=\"application/ecmascript\" contentStyleType=\"text/css\" height=\"12px\" preserveAspectRatio=\"none\" style=\"width:12px;height:12px;\" version=\"1.1\" viewBox=\"0 0 12 12\" width=\"12px\" zoomAndPan=\"magnify\"><defs/><g><!--MD5=[9863325348a96a77dacc89509d8ee65e]\n",
       "@startuml\r\n",
       "skinparam ranksep 8\r\n",
       "skinparam wrapWidth 300\r\n",
       "hide circle\r\n",
       "\r\n",
       "@enduml\r\n",
       "\n",
       "PlantUML version 1.2020.13(Sat Jun 13 12:26:38 UTC 2020)\n",
       "(EPL source distribution)\n",
       "Java Runtime: OpenJDK Runtime Environment\n",
       "JVM: OpenJDK 64-Bit Server VM\n",
       "Default Encoding: UTF-8\n",
       "Language: en\n",
       "Country: null\n",
       "--></g></svg>"
      ]
     },
     "execution_count": 27,
     "metadata": {},
     "output_type": "execute_result"
    }
   ],
   "source": [
    "%viz --style=\"STDCOLOR\" --view=\"Action\" \"AliasImport\""
   ]
  },
  {
   "cell_type": "code",
   "execution_count": 28,
   "id": "91f891c5",
   "metadata": {
    "execution": {
     "iopub.execute_input": "2022-03-03T09:59:07.488249Z",
     "iopub.status.busy": "2022-03-03T09:59:07.487822Z",
     "iopub.status.idle": "2022-03-03T09:59:07.492953Z",
     "shell.execute_reply": "2022-03-03T09:59:07.493267Z"
    }
   },
   "outputs": [
    {
     "data": {
      "image/svg+xml": [
       "<?xml version=\"1.0\" encoding=\"UTF-8\" standalone=\"no\"?><svg xmlns=\"http://www.w3.org/2000/svg\" xmlns:xlink=\"http://www.w3.org/1999/xlink\" contentScriptType=\"application/ecmascript\" contentStyleType=\"text/css\" height=\"12px\" preserveAspectRatio=\"none\" style=\"width:12px;height:12px;\" version=\"1.1\" viewBox=\"0 0 12 12\" width=\"12px\" zoomAndPan=\"magnify\"><defs/><g><!--MD5=[6c4bca67b4d71758159a5a7f1f1e1fc2]\n",
       "@startuml\r\n",
       "skinparam roundcorner 20\r\n",
       "skinparam BoxPadding 20\r\n",
       "skinparam SequenceBoxBackgroundColor #white\r\n",
       "skinparam style strictuml\r\n",
       "skinparam maxMessageSize 100\r\n",
       "skinparam wrapWidth 300\r\n",
       "hide circle\r\n",
       "\r\n",
       "@enduml\r\n",
       "\n",
       "PlantUML version 1.2020.13(Sat Jun 13 12:26:38 UTC 2020)\n",
       "(EPL source distribution)\n",
       "Java Runtime: OpenJDK Runtime Environment\n",
       "JVM: OpenJDK 64-Bit Server VM\n",
       "Default Encoding: UTF-8\n",
       "Language: en\n",
       "Country: null\n",
       "--></g></svg>"
      ]
     },
     "execution_count": 28,
     "metadata": {},
     "output_type": "execute_result"
    }
   ],
   "source": [
    "%viz --style=\"STDCOLOR\" --view=\"Sequence\" \"AliasImport\""
   ]
  },
  {
   "cell_type": "code",
   "execution_count": 29,
   "id": "758e33e1",
   "metadata": {
    "execution": {
     "iopub.execute_input": "2022-03-03T09:59:07.543312Z",
     "iopub.status.busy": "2022-03-03T09:59:07.542910Z",
     "iopub.status.idle": "2022-03-03T09:59:07.573720Z",
     "shell.execute_reply": "2022-03-03T09:59:07.573363Z"
    }
   },
   "outputs": [
    {
     "data": {
      "image/svg+xml": [
       "<?xml version=\"1.0\" encoding=\"UTF-8\" standalone=\"no\"?><svg xmlns=\"http://www.w3.org/2000/svg\" xmlns:xlink=\"http://www.w3.org/1999/xlink\" contentScriptType=\"application/ecmascript\" contentStyleType=\"text/css\" height=\"360px\" preserveAspectRatio=\"none\" style=\"width:275px;height:360px;\" version=\"1.1\" viewBox=\"0 0 275 360\" width=\"275px\" zoomAndPan=\"magnify\"><defs><filter height=\"300%\" id=\"fgn6k9czawyob\" width=\"300%\" x=\"-1\" y=\"-1\"><feGaussianBlur result=\"blurOut\" stdDeviation=\"2.0\"/><feColorMatrix in=\"blurOut\" result=\"blurOut2\" type=\"matrix\" values=\"0 0 0 0 0 0 0 0 0 0 0 0 0 0 0 0 0 0 .4 0\"/><feOffset dx=\"4.0\" dy=\"4.0\" in=\"blurOut2\" result=\"blurOut3\"/><feBlend in=\"SourceGraphic\" in2=\"blurOut3\" mode=\"normal\"/></filter></defs><g><!--MD5=[fbc87193dbaf4d95561dea2c320d4a47]\n",
       "cluster E1--><a href=\"psysml:a09df071-4715-4742-883e-cd73e8c4aa55\" target=\"_top\" title=\"psysml:a09df071-4715-4742-883e-cd73e8c4aa55\" xlink:actuate=\"onRequest\" xlink:href=\"psysml:a09df071-4715-4742-883e-cd73e8c4aa55\" xlink:show=\"new\" xlink:title=\"psysml:a09df071-4715-4742-883e-cd73e8c4aa55\" xlink:type=\"simple\"><polygon fill=\"#FFFFFF\" filter=\"url(#fgn6k9czawyob)\" points=\"16,6,97,6,104,28.2969,253,28.2969,253,348,16,348,16,6\" style=\"stroke: #000000; stroke-width: 1.5;\"/><line style=\"stroke: #000000; stroke-width: 1.5;\" x1=\"16\" x2=\"104\" y1=\"28.2969\" y2=\"28.2969\"/><text fill=\"#000000\" font-family=\"sans-serif\" font-size=\"14\" font-weight=\"bold\" lengthAdjust=\"spacingAndGlyphs\" textLength=\"75\" x=\"20\" y=\"20.9951\">AliasImport</text></a><!--MD5=[e4f7fae6ed58524ba242bb0b0d3be6b7]\n",
       "cluster E2--><a href=\"psysml:9e891321-89ab-46bb-b178-ae51d516b5d5\" target=\"_top\" title=\"psysml:9e891321-89ab-46bb-b178-ae51d516b5d5\" xlink:actuate=\"onRequest\" xlink:href=\"psysml:9e891321-89ab-46bb-b178-ae51d516b5d5\" xlink:show=\"new\" xlink:title=\"psysml:9e891321-89ab-46bb-b178-ae51d516b5d5\" xlink:type=\"simple\"><polygon fill=\"#FFFFFF\" filter=\"url(#fgn6k9czawyob)\" points=\"65,227,144,227,151,249.2969,167,249.2969,167,324,65,324,65,227\" style=\"stroke: #000000; stroke-width: 1.5;\"/><line style=\"stroke: #000000; stroke-width: 1.5;\" x1=\"65\" x2=\"151\" y1=\"249.2969\" y2=\"249.2969\"/><text fill=\"#000000\" font-family=\"sans-serif\" font-size=\"14\" font-weight=\"bold\" lengthAdjust=\"spacingAndGlyphs\" textLength=\"73\" x=\"69\" y=\"241.9951\">Definitions</text></a><!--MD5=[f6df4d0ebaf0b5dfb2ced0ae5af7c670]\n",
       "cluster E4--><a href=\"psysml:0357df57-b813-4001-8053-0943e42884ef\" target=\"_top\" title=\"psysml:0357df57-b813-4001-8053-0943e42884ef\" xlink:actuate=\"onRequest\" xlink:href=\"psysml:0357df57-b813-4001-8053-0943e42884ef\" xlink:show=\"new\" xlink:title=\"psysml:0357df57-b813-4001-8053-0943e42884ef\" xlink:type=\"simple\"><polygon fill=\"#FFFFFF\" filter=\"url(#fgn6k9czawyob)\" points=\"48,57,106,57,113,79.2969,221,79.2969,221,170,48,170,48,57\" style=\"stroke: #000000; stroke-width: 1.5;\"/><line style=\"stroke: #000000; stroke-width: 1.5;\" x1=\"48\" x2=\"113\" y1=\"79.2969\" y2=\"79.2969\"/><text fill=\"#000000\" font-family=\"sans-serif\" font-size=\"14\" font-weight=\"bold\" lengthAdjust=\"spacingAndGlyphs\" textLength=\"52\" x=\"52\" y=\"71.9951\">Usages</text></a><!--MD5=[09b614a08d8cba4a07c9adeb5e0fee81]\n",
       "class E3--><a href=\"psysml:aed7d351-ec1f-43ef-9181-965f0e0fafe7\" target=\"_top\" title=\"psysml:aed7d351-ec1f-43ef-9181-965f0e0fafe7\" xlink:actuate=\"onRequest\" xlink:href=\"psysml:aed7d351-ec1f-43ef-9181-965f0e0fafe7\" xlink:show=\"new\" xlink:title=\"psysml:aed7d351-ec1f-43ef-9181-965f0e0fafe7\" xlink:type=\"simple\"><rect fill=\"#FEFECE\" filter=\"url(#fgn6k9czawyob)\" height=\"45.9375\" id=\"E3\" style=\"stroke: #A80036; stroke-width: 1.5;\" width=\"70\" x=\"81\" y=\"262\"/><text fill=\"#000000\" font-family=\"sans-serif\" font-size=\"12\" font-style=\"italic\" lengthAdjust=\"spacingAndGlyphs\" textLength=\"68\" x=\"82\" y=\"278.1387\">«part  def»</text><text fill=\"#000000\" font-family=\"sans-serif\" font-size=\"12\" lengthAdjust=\"spacingAndGlyphs\" textLength=\"45\" x=\"93.5\" y=\"292.1074\">Vehicle</text><line style=\"stroke: #A80036; stroke-width: 1.5;\" x1=\"82\" x2=\"150\" y1=\"299.9375\" y2=\"299.9375\"/></a><!--MD5=[270fce915f116d4de14055a7c1d9a0f3]\n",
       "class E5--><a href=\"psysml:9c4f7a54-8ea6-458e-b6c7-855d1197e506\" target=\"_top\" title=\"psysml:9c4f7a54-8ea6-458e-b6c7-855d1197e506\" xlink:actuate=\"onRequest\" xlink:href=\"psysml:9c4f7a54-8ea6-458e-b6c7-855d1197e506\" xlink:show=\"new\" xlink:title=\"psysml:9c4f7a54-8ea6-458e-b6c7-855d1197e506\" xlink:type=\"simple\"><rect fill=\"#FEFECE\" filter=\"url(#fgn6k9czawyob)\" height=\"45.9375\" id=\"E5\" rx=\"10\" ry=\"10\" style=\"stroke: #A80036; stroke-width: 1.5;\" width=\"106\" x=\"91\" y=\"100\"/><text fill=\"#000000\" font-family=\"sans-serif\" font-size=\"12\" font-style=\"italic\" lengthAdjust=\"spacingAndGlyphs\" textLength=\"40\" x=\"124\" y=\"116.1387\">«part»</text><text fill=\"#000000\" font-family=\"sans-serif\" font-size=\"12\" lengthAdjust=\"spacingAndGlyphs\" textLength=\"96\" x=\"94\" y=\"130.1074\">vehicle: Vehicle</text><line style=\"stroke: #A80036; stroke-width: 1.5;\" x1=\"92\" x2=\"196\" y1=\"137.9375\" y2=\"137.9375\"/></a><!--MD5=[f0cdf4548168e5211fb3a02bf679d63a]\n",
       "link E4 to E3--><a href=\"psysml:b99e9f78-77ea-4cdc-866d-b9796624c080\" target=\"_top\" title=\"psysml:b99e9f78-77ea-4cdc-866d-b9796624c080\" xlink:actuate=\"onRequest\" xlink:href=\"psysml:b99e9f78-77ea-4cdc-866d-b9796624c080\" xlink:show=\"new\" xlink:title=\"psysml:b99e9f78-77ea-4cdc-866d-b9796624c080\" xlink:type=\"simple\"><path d=\"M58.5005,170.0549 C58.5193,170.2001 58.5383,170.3454 58.5574,170.4908 C58.6338,171.0725 58.7124,171.6562 58.7932,172.2415 C58.9548,173.4122 59.1253,174.5898 59.3052,175.7725 C59.6651,178.1379 60.0625,180.5238 60.5014,182.9158 C62.2569,192.4838 64.675,202.15 68,211 C74.23,227.58 84.77,244.23 94.38,257.43 \" fill=\"none\" id=\"E4-&gt;E3\" style=\"stroke: #A80036; stroke-width: 1.0; stroke-dasharray: 7.0,7.0;\"/><polygon fill=\"#A80036\" points=\"97.6,261.77,95.4384,252.1613,94.616,257.758,89.0193,256.9357,97.6,261.77\" style=\"stroke: #A80036; stroke-width: 1.0;\"/><text fill=\"#000000\" font-family=\"sans-serif\" font-size=\"13\" lengthAdjust=\"spacingAndGlyphs\" textLength=\"58\" x=\"69\" y=\"207.0669\">«import»</text></a><!--MD5=[e9be52314489bd878ff4c7144b63c9e1]\n",
       "link E5 to E3--><a href=\"psysml:c70856ba-dfdd-4aff-ab00-0a9f4968bc68\" target=\"_top\" title=\"psysml:c70856ba-dfdd-4aff-ab00-0a9f4968bc68\" xlink:actuate=\"onRequest\" xlink:href=\"psysml:c70856ba-dfdd-4aff-ab00-0a9f4968bc68\" xlink:show=\"new\" xlink:title=\"psysml:c70856ba-dfdd-4aff-ab00-0a9f4968bc68\" xlink:type=\"simple\"><path d=\"M143.03,146.32 C142,163.98 139.95,189.21 136,211 C134.13,221.29 131.49,232.23 128.74,242.43 \" fill=\"none\" id=\"E5-&gt;E3\" style=\"stroke: #A80036; stroke-width: 1.0;\"/><polygon fill=\"#FFFFFF\" points=\"123.15,261.87,121.6727,241.6755,135.1276,245.544,123.15,261.87\" style=\"stroke: #A80036; stroke-width: 1.0;\"/><ellipse cx=\"125.1699\" cy=\"236.7501\" fill=\"#A80036\" rx=\"2\" ry=\"2\" style=\"stroke: #A80036; stroke-width: 1.0;\"/><ellipse cx=\"134.7805\" cy=\"239.5133\" fill=\"#A80036\" rx=\"2\" ry=\"2\" style=\"stroke: #A80036; stroke-width: 1.0;\"/></a><!--MD5=[f273a4313ad638509b447f21f81cfaed]\n",
       "@startuml\r\n",
       "skinparam wrapWidth 300\r\n",
       "hide circle\r\n",
       "\r\n",
       "package \"AliasImport\" as E1  [[psysml:a09df071-4715-4742-883e-cd73e8c4aa55 ]]  {\r\n",
       "package \"Definitions\" as E2  [[psysml:9e891321-89ab-46bb-b178-ae51d516b5d5 ]]  {\r\n",
       "comp def \"Vehicle\" as E3  <<(T,blue) part  def>> [[psysml:aed7d351-ec1f-43ef-9181-965f0e0fafe7 ]] {\r\n",
       "}\r\n",
       "}\r\n",
       "package \"Usages\" as E4  [[psysml:0357df57-b813-4001-8053-0943e42884ef ]]  {\r\n",
       "comp usage \"vehicle: Vehicle \" as E5  <<(T,blue) part>> [[psysml:9c4f7a54-8ea6-458e-b6c7-855d1197e506 ]] {\r\n",
       "}\r\n",
       "}\r\n",
       "}\r\n",
       "E4 ..> E3 [[psysml:b99e9f78-77ea-4cdc-866d-b9796624c080 ]] : <<import>>\r\n",
       "E5 - -:|> E3 [[psysml:c70856ba-dfdd-4aff-ab00-0a9f4968bc68 ]] \r\n",
       "@enduml\r\n",
       "\n",
       "PlantUML version 1.2020.13(Sat Jun 13 12:26:38 UTC 2020)\n",
       "(EPL source distribution)\n",
       "Java Runtime: OpenJDK Runtime Environment\n",
       "JVM: OpenJDK 64-Bit Server VM\n",
       "Default Encoding: UTF-8\n",
       "Language: en\n",
       "Country: null\n",
       "--></g></svg>"
      ]
     },
     "execution_count": 29,
     "metadata": {},
     "output_type": "execute_result"
    }
   ],
   "source": [
    "%viz --style=\"STDCOLOR\" --view=\"MIXED\" \"AliasImport\""
   ]
  },
  {
   "cell_type": "code",
   "execution_count": 30,
   "id": "d890750f",
   "metadata": {
    "execution": {
     "iopub.execute_input": "2022-03-03T09:59:07.623564Z",
     "iopub.status.busy": "2022-03-03T09:59:07.623162Z",
     "iopub.status.idle": "2022-03-03T09:59:07.677196Z",
     "shell.execute_reply": "2022-03-03T09:59:07.675836Z"
    }
   },
   "outputs": [
    {
     "data": {
      "image/svg+xml": [
       "<?xml version=\"1.0\" encoding=\"UTF-8\" standalone=\"no\"?><svg xmlns=\"http://www.w3.org/2000/svg\" xmlns:xlink=\"http://www.w3.org/1999/xlink\" contentScriptType=\"application/ecmascript\" contentStyleType=\"text/css\" height=\"354px\" preserveAspectRatio=\"none\" style=\"width:301px;height:354px;\" version=\"1.1\" viewBox=\"0 0 301 354\" width=\"301px\" zoomAndPan=\"magnify\"><defs><filter height=\"300%\" id=\"frd38chyk9yu3\" width=\"300%\" x=\"-1\" y=\"-1\"><feGaussianBlur result=\"blurOut\" stdDeviation=\"2.0\"/><feColorMatrix in=\"blurOut\" result=\"blurOut2\" type=\"matrix\" values=\"0 0 0 0 0 0 0 0 0 0 0 0 0 0 0 0 0 0 .4 0\"/><feOffset dx=\"4.0\" dy=\"4.0\" in=\"blurOut2\" result=\"blurOut3\"/><feBlend in=\"SourceGraphic\" in2=\"blurOut3\" mode=\"normal\"/></filter></defs><g><!--MD5=[fbc87193dbaf4d95561dea2c320d4a47]\n",
       "cluster E1--><a href=\"psysml:a09df071-4715-4742-883e-cd73e8c4aa55\" target=\"_top\" title=\"psysml:a09df071-4715-4742-883e-cd73e8c4aa55\" xlink:actuate=\"onRequest\" xlink:href=\"psysml:a09df071-4715-4742-883e-cd73e8c4aa55\" xlink:show=\"new\" xlink:title=\"psysml:a09df071-4715-4742-883e-cd73e8c4aa55\" xlink:type=\"simple\"><polygon fill=\"#FFFFFF\" filter=\"url(#frd38chyk9yu3)\" points=\"16,6,97,6,104,28.2969,279,28.2969,279,342,16,342,16,6\" style=\"stroke: #000000; stroke-width: 1.5;\"/><line style=\"stroke: #000000; stroke-width: 1.5;\" x1=\"16\" x2=\"104\" y1=\"28.2969\" y2=\"28.2969\"/><text fill=\"#000000\" font-family=\"sans-serif\" font-size=\"14\" font-weight=\"bold\" lengthAdjust=\"spacingAndGlyphs\" textLength=\"75\" x=\"20\" y=\"20.9951\">AliasImport</text></a><!--MD5=[e4f7fae6ed58524ba242bb0b0d3be6b7]\n",
       "cluster E2--><a href=\"psysml:9e891321-89ab-46bb-b178-ae51d516b5d5\" target=\"_top\" title=\"psysml:9e891321-89ab-46bb-b178-ae51d516b5d5\" xlink:actuate=\"onRequest\" xlink:href=\"psysml:9e891321-89ab-46bb-b178-ae51d516b5d5\" xlink:show=\"new\" xlink:title=\"psysml:9e891321-89ab-46bb-b178-ae51d516b5d5\" xlink:type=\"simple\"><polygon fill=\"#FFFFFF\" filter=\"url(#frd38chyk9yu3)\" points=\"68,227,147,227,154,249.2969,178,249.2969,178,318,68,318,68,227\" style=\"stroke: #000000; stroke-width: 1.5;\"/><line style=\"stroke: #000000; stroke-width: 1.5;\" x1=\"68\" x2=\"154\" y1=\"249.2969\" y2=\"249.2969\"/><text fill=\"#000000\" font-family=\"sans-serif\" font-size=\"14\" font-weight=\"bold\" lengthAdjust=\"spacingAndGlyphs\" textLength=\"73\" x=\"72\" y=\"241.9951\">Definitions</text></a><!--MD5=[f6df4d0ebaf0b5dfb2ced0ae5af7c670]\n",
       "cluster E4--><a href=\"psysml:0357df57-b813-4001-8053-0943e42884ef\" target=\"_top\" title=\"psysml:0357df57-b813-4001-8053-0943e42884ef\" xlink:actuate=\"onRequest\" xlink:href=\"psysml:0357df57-b813-4001-8053-0943e42884ef\" xlink:show=\"new\" xlink:title=\"psysml:0357df57-b813-4001-8053-0943e42884ef\" xlink:type=\"simple\"><polygon fill=\"#FFFFFF\" filter=\"url(#frd38chyk9yu3)\" points=\"48,57,106,57,113,79.2969,247,79.2969,247,170,48,170,48,57\" style=\"stroke: #000000; stroke-width: 1.5;\"/><line style=\"stroke: #000000; stroke-width: 1.5;\" x1=\"48\" x2=\"113\" y1=\"79.2969\" y2=\"79.2969\"/><text fill=\"#000000\" font-family=\"sans-serif\" font-size=\"14\" font-weight=\"bold\" lengthAdjust=\"spacingAndGlyphs\" textLength=\"52\" x=\"52\" y=\"71.9951\">Usages</text></a><!--MD5=[09b614a08d8cba4a07c9adeb5e0fee81]\n",
       "class E3--><a href=\"psysml:aed7d351-ec1f-43ef-9181-965f0e0fafe7\" target=\"_top\" title=\"psysml:aed7d351-ec1f-43ef-9181-965f0e0fafe7\" xlink:actuate=\"onRequest\" xlink:href=\"psysml:aed7d351-ec1f-43ef-9181-965f0e0fafe7\" xlink:show=\"new\" xlink:title=\"psysml:aed7d351-ec1f-43ef-9181-965f0e0fafe7\" xlink:type=\"simple\"><rect fill=\"#FEFECE\" filter=\"url(#frd38chyk9yu3)\" height=\"40\" id=\"E3\" style=\"stroke: #A80036; stroke-width: 1.5;\" width=\"77\" x=\"84.5\" y=\"262\"/><ellipse cx=\"99.5\" cy=\"278\" fill=\"#008000\" rx=\"11\" ry=\"11\" style=\"stroke: #A80036; stroke-width: 1.0;\"/><path d=\"M96.375,283 L96.375,272.4063 L99.6094,272.4063 Q101.5156,272.4063 102.4219,273.1563 Q103.3438,273.9063 103.3438,275.0781 Q103.3438,275.7656 102.9531,276.4219 Q102.5781,277.0781 101.8594,277.375 Q102.7188,277.75 103.2344,278.4375 Q103.75,279.125 103.75,279.9375 Q103.75,281.3125 102.7188,282.1563 Q101.7031,283 99.5938,283 L96.375,283 Z M98.2969,276.6406 L99.4531,276.6406 Q100.5781,276.6406 100.9844,276.2656 Q101.4063,275.875 101.4063,275.25 Q101.4063,274.6719 100.9844,274.3125 Q100.5625,273.9531 99.625,273.9531 L98.2969,273.9531 L98.2969,276.6406 Z M98.2969,281.4219 L99.7969,281.4219 Q100.7031,281.4219 101.2344,281.0313 Q101.7656,280.6406 101.7656,279.8906 Q101.7656,279.125 101.2656,278.6563 Q100.7656,278.1719 99.5,278.1719 L98.2969,278.1719 L98.2969,281.4219 Z \"/><text fill=\"#000000\" font-family=\"sans-serif\" font-size=\"12\" lengthAdjust=\"spacingAndGlyphs\" textLength=\"45\" x=\"113.5\" y=\"282.1543\">Vehicle</text><line style=\"stroke: #A80036; stroke-width: 1.5;\" x1=\"85.5\" x2=\"160.5\" y1=\"294\" y2=\"294\"/></a><!--MD5=[270fce915f116d4de14055a7c1d9a0f3]\n",
       "class E5--><a href=\"psysml:9c4f7a54-8ea6-458e-b6c7-855d1197e506\" target=\"_top\" title=\"psysml:9c4f7a54-8ea6-458e-b6c7-855d1197e506\" xlink:actuate=\"onRequest\" xlink:href=\"psysml:9c4f7a54-8ea6-458e-b6c7-855d1197e506\" xlink:show=\"new\" xlink:title=\"psysml:9c4f7a54-8ea6-458e-b6c7-855d1197e506\" xlink:type=\"simple\"><rect fill=\"#FEFECE\" filter=\"url(#frd38chyk9yu3)\" height=\"45.9375\" id=\"E5\" rx=\"10\" ry=\"10\" style=\"stroke: #A80036; stroke-width: 1.5;\" width=\"132\" x=\"91\" y=\"100\"/><ellipse cx=\"106\" cy=\"118.9688\" fill=\"#32CD32\" rx=\"11\" ry=\"11\" style=\"stroke: #A80036; stroke-width: 1.0;\"/><path d=\"M102.8125,123.9688 L102.8125,113.375 L106.4219,113.375 Q107.6406,113.375 108.4375,113.8125 Q109.2344,114.2344 109.6094,114.9375 Q110,115.6406 110,116.4844 Q110,117.3281 109.625,118.0156 Q109.2656,118.7031 108.4688,119.125 Q107.6875,119.5313 106.5,119.5313 L104.7656,119.5313 L104.7656,123.9688 L102.8125,123.9688 Z M104.7656,117.9375 L106.375,117.9375 Q107.1875,117.9375 107.6094,117.5313 Q108.0313,117.125 108.0313,116.4844 Q108.0313,115.8594 107.6094,115.4531 Q107.1875,115.0469 106.3906,115.0469 L104.7656,115.0469 L104.7656,117.9375 Z \"/><text fill=\"#000000\" font-family=\"sans-serif\" font-size=\"12\" font-style=\"italic\" lengthAdjust=\"spacingAndGlyphs\" textLength=\"40\" x=\"150\" y=\"116.1387\">«part»</text><text fill=\"#000000\" font-family=\"sans-serif\" font-size=\"12\" lengthAdjust=\"spacingAndGlyphs\" textLength=\"96\" x=\"120\" y=\"130.1074\">vehicle: Vehicle</text><line style=\"stroke: #A80036; stroke-width: 1.5;\" x1=\"92\" x2=\"222\" y1=\"137.9375\" y2=\"137.9375\"/></a><!--MD5=[f0cdf4548168e5211fb3a02bf679d63a]\n",
       "link E4 to E3--><a href=\"psysml:b99e9f78-77ea-4cdc-866d-b9796624c080\" target=\"_top\" title=\"psysml:b99e9f78-77ea-4cdc-866d-b9796624c080\" xlink:actuate=\"onRequest\" xlink:href=\"psysml:b99e9f78-77ea-4cdc-866d-b9796624c080\" xlink:show=\"new\" xlink:title=\"psysml:b99e9f78-77ea-4cdc-866d-b9796624c080\" xlink:type=\"simple\"><path d=\"M64.7031,170.0373 C64.7389,170.1824 64.7749,170.3277 64.8109,170.4731 C64.9551,171.0548 65.1012,171.6384 65.2493,172.2237 C65.5455,173.3944 65.8496,174.572 66.1615,175.7548 C66.7854,178.1203 67.4411,180.5064 68.1292,182.8989 C70.8819,192.4688 74.155,202.14 78,211 C85.13,227.43 95.91,244.37 105.13,257.46 \" fill=\"none\" id=\"E4-&gt;E3\" style=\"stroke: #A80036; stroke-width: 1.0; stroke-dasharray: 7.0,7.0;\"/><polygon fill=\"#A80036\" points=\"108.19,261.75,106.2042,252.1034,105.2798,257.6842,99.699,256.7598,108.19,261.75\" style=\"stroke: #A80036; stroke-width: 1.0;\"/><text fill=\"#000000\" font-family=\"sans-serif\" font-size=\"13\" lengthAdjust=\"spacingAndGlyphs\" textLength=\"58\" x=\"79\" y=\"207.0669\">«import»</text></a><!--MD5=[e9be52314489bd878ff4c7144b63c9e1]\n",
       "link E5 to E3--><a href=\"psysml:c70856ba-dfdd-4aff-ab00-0a9f4968bc68\" target=\"_top\" title=\"psysml:c70856ba-dfdd-4aff-ab00-0a9f4968bc68\" xlink:actuate=\"onRequest\" xlink:href=\"psysml:c70856ba-dfdd-4aff-ab00-0a9f4968bc68\" xlink:show=\"new\" xlink:title=\"psysml:c70856ba-dfdd-4aff-ab00-0a9f4968bc68\" xlink:type=\"simple\"><path d=\"M155.39,146.01 C153.82,163.72 150.92,189.17 146,211 C143.65,221.45 140.37,232.55 137.03,242.76 \" fill=\"none\" id=\"E5-&gt;E3\" style=\"stroke: #A80036; stroke-width: 1.0;\"/><polygon fill=\"#FFFFFF\" points=\"130.35,261.97,129.9691,241.7251,143.1946,246.317,130.35,261.97\" style=\"stroke: #A80036; stroke-width: 1.0;\"/><ellipse cx=\"133.7281\" cy=\"236.9964\" fill=\"#A80036\" rx=\"2\" ry=\"2\" style=\"stroke: #A80036; stroke-width: 1.0;\"/><ellipse cx=\"143.1749\" cy=\"240.2764\" fill=\"#A80036\" rx=\"2\" ry=\"2\" style=\"stroke: #A80036; stroke-width: 1.0;\"/></a><!--MD5=[61ad777901a4f0474ef7bc7d3fc4c5dd]\n",
       "@startuml\r\n",
       " \r\n",
       "package \"AliasImport\" as E1  [[psysml:a09df071-4715-4742-883e-cd73e8c4aa55 ]]  {\r\n",
       "package \"Definitions\" as E2  [[psysml:9e891321-89ab-46bb-b178-ae51d516b5d5 ]]  {\r\n",
       "comp def \"Vehicle\" as E3 << << (B,green) >> [[psysml:aed7d351-ec1f-43ef-9181-965f0e0fafe7 ]] {\r\n",
       "}\r\n",
       "}\r\n",
       "package \"Usages\" as E4  [[psysml:0357df57-b813-4001-8053-0943e42884ef ]]  {\r\n",
       "comp usage \"vehicle: Vehicle \" as E5 << << (P,limegreen) part>> [[psysml:9c4f7a54-8ea6-458e-b6c7-855d1197e506 ]] {\r\n",
       "}\r\n",
       "}\r\n",
       "}\r\n",
       "E4 ..> E3 [[psysml:b99e9f78-77ea-4cdc-866d-b9796624c080 ]] : <<import>>\r\n",
       "E5 - -:|> E3 [[psysml:c70856ba-dfdd-4aff-ab00-0a9f4968bc68 ]] \r\n",
       "@enduml\r\n",
       "\n",
       "PlantUML version 1.2020.13(Sat Jun 13 12:26:38 UTC 2020)\n",
       "(EPL source distribution)\n",
       "Java Runtime: OpenJDK Runtime Environment\n",
       "JVM: OpenJDK 64-Bit Server VM\n",
       "Default Encoding: UTF-8\n",
       "Language: en\n",
       "Country: null\n",
       "--></g></svg>"
      ]
     },
     "execution_count": 30,
     "metadata": {},
     "output_type": "execute_result"
    }
   ],
   "source": [
    "%viz --style=\"PLANTUML\" --view=\"Default\" \"AliasImport\""
   ]
  },
  {
   "cell_type": "code",
   "execution_count": 31,
   "id": "e61e20fe",
   "metadata": {
    "execution": {
     "iopub.execute_input": "2022-03-03T09:59:07.726553Z",
     "iopub.status.busy": "2022-03-03T09:59:07.726278Z",
     "iopub.status.idle": "2022-03-03T09:59:07.756020Z",
     "shell.execute_reply": "2022-03-03T09:59:07.755641Z"
    }
   },
   "outputs": [
    {
     "data": {
      "image/svg+xml": [
       "<?xml version=\"1.0\" encoding=\"UTF-8\" standalone=\"no\"?><svg xmlns=\"http://www.w3.org/2000/svg\" xmlns:xlink=\"http://www.w3.org/1999/xlink\" contentScriptType=\"application/ecmascript\" contentStyleType=\"text/css\" height=\"354px\" preserveAspectRatio=\"none\" style=\"width:301px;height:354px;\" version=\"1.1\" viewBox=\"0 0 301 354\" width=\"301px\" zoomAndPan=\"magnify\"><defs><filter height=\"300%\" id=\"frd38chyk9yu3\" width=\"300%\" x=\"-1\" y=\"-1\"><feGaussianBlur result=\"blurOut\" stdDeviation=\"2.0\"/><feColorMatrix in=\"blurOut\" result=\"blurOut2\" type=\"matrix\" values=\"0 0 0 0 0 0 0 0 0 0 0 0 0 0 0 0 0 0 .4 0\"/><feOffset dx=\"4.0\" dy=\"4.0\" in=\"blurOut2\" result=\"blurOut3\"/><feBlend in=\"SourceGraphic\" in2=\"blurOut3\" mode=\"normal\"/></filter></defs><g><!--MD5=[fbc87193dbaf4d95561dea2c320d4a47]\n",
       "cluster E1--><a href=\"psysml:a09df071-4715-4742-883e-cd73e8c4aa55\" target=\"_top\" title=\"psysml:a09df071-4715-4742-883e-cd73e8c4aa55\" xlink:actuate=\"onRequest\" xlink:href=\"psysml:a09df071-4715-4742-883e-cd73e8c4aa55\" xlink:show=\"new\" xlink:title=\"psysml:a09df071-4715-4742-883e-cd73e8c4aa55\" xlink:type=\"simple\"><polygon fill=\"#FFFFFF\" filter=\"url(#frd38chyk9yu3)\" points=\"16,6,97,6,104,28.2969,279,28.2969,279,342,16,342,16,6\" style=\"stroke: #000000; stroke-width: 1.5;\"/><line style=\"stroke: #000000; stroke-width: 1.5;\" x1=\"16\" x2=\"104\" y1=\"28.2969\" y2=\"28.2969\"/><text fill=\"#000000\" font-family=\"sans-serif\" font-size=\"14\" font-weight=\"bold\" lengthAdjust=\"spacingAndGlyphs\" textLength=\"75\" x=\"20\" y=\"20.9951\">AliasImport</text></a><!--MD5=[e4f7fae6ed58524ba242bb0b0d3be6b7]\n",
       "cluster E2--><a href=\"psysml:9e891321-89ab-46bb-b178-ae51d516b5d5\" target=\"_top\" title=\"psysml:9e891321-89ab-46bb-b178-ae51d516b5d5\" xlink:actuate=\"onRequest\" xlink:href=\"psysml:9e891321-89ab-46bb-b178-ae51d516b5d5\" xlink:show=\"new\" xlink:title=\"psysml:9e891321-89ab-46bb-b178-ae51d516b5d5\" xlink:type=\"simple\"><polygon fill=\"#FFFFFF\" filter=\"url(#frd38chyk9yu3)\" points=\"68,227,147,227,154,249.2969,178,249.2969,178,318,68,318,68,227\" style=\"stroke: #000000; stroke-width: 1.5;\"/><line style=\"stroke: #000000; stroke-width: 1.5;\" x1=\"68\" x2=\"154\" y1=\"249.2969\" y2=\"249.2969\"/><text fill=\"#000000\" font-family=\"sans-serif\" font-size=\"14\" font-weight=\"bold\" lengthAdjust=\"spacingAndGlyphs\" textLength=\"73\" x=\"72\" y=\"241.9951\">Definitions</text></a><!--MD5=[f6df4d0ebaf0b5dfb2ced0ae5af7c670]\n",
       "cluster E4--><a href=\"psysml:0357df57-b813-4001-8053-0943e42884ef\" target=\"_top\" title=\"psysml:0357df57-b813-4001-8053-0943e42884ef\" xlink:actuate=\"onRequest\" xlink:href=\"psysml:0357df57-b813-4001-8053-0943e42884ef\" xlink:show=\"new\" xlink:title=\"psysml:0357df57-b813-4001-8053-0943e42884ef\" xlink:type=\"simple\"><polygon fill=\"#FFFFFF\" filter=\"url(#frd38chyk9yu3)\" points=\"48,57,106,57,113,79.2969,247,79.2969,247,170,48,170,48,57\" style=\"stroke: #000000; stroke-width: 1.5;\"/><line style=\"stroke: #000000; stroke-width: 1.5;\" x1=\"48\" x2=\"113\" y1=\"79.2969\" y2=\"79.2969\"/><text fill=\"#000000\" font-family=\"sans-serif\" font-size=\"14\" font-weight=\"bold\" lengthAdjust=\"spacingAndGlyphs\" textLength=\"52\" x=\"52\" y=\"71.9951\">Usages</text></a><!--MD5=[09b614a08d8cba4a07c9adeb5e0fee81]\n",
       "class E3--><a href=\"psysml:aed7d351-ec1f-43ef-9181-965f0e0fafe7\" target=\"_top\" title=\"psysml:aed7d351-ec1f-43ef-9181-965f0e0fafe7\" xlink:actuate=\"onRequest\" xlink:href=\"psysml:aed7d351-ec1f-43ef-9181-965f0e0fafe7\" xlink:show=\"new\" xlink:title=\"psysml:aed7d351-ec1f-43ef-9181-965f0e0fafe7\" xlink:type=\"simple\"><rect fill=\"#FEFECE\" filter=\"url(#frd38chyk9yu3)\" height=\"40\" id=\"E3\" style=\"stroke: #A80036; stroke-width: 1.5;\" width=\"77\" x=\"84.5\" y=\"262\"/><ellipse cx=\"99.5\" cy=\"278\" fill=\"#008000\" rx=\"11\" ry=\"11\" style=\"stroke: #A80036; stroke-width: 1.0;\"/><path d=\"M96.375,283 L96.375,272.4063 L99.6094,272.4063 Q101.5156,272.4063 102.4219,273.1563 Q103.3438,273.9063 103.3438,275.0781 Q103.3438,275.7656 102.9531,276.4219 Q102.5781,277.0781 101.8594,277.375 Q102.7188,277.75 103.2344,278.4375 Q103.75,279.125 103.75,279.9375 Q103.75,281.3125 102.7188,282.1563 Q101.7031,283 99.5938,283 L96.375,283 Z M98.2969,276.6406 L99.4531,276.6406 Q100.5781,276.6406 100.9844,276.2656 Q101.4063,275.875 101.4063,275.25 Q101.4063,274.6719 100.9844,274.3125 Q100.5625,273.9531 99.625,273.9531 L98.2969,273.9531 L98.2969,276.6406 Z M98.2969,281.4219 L99.7969,281.4219 Q100.7031,281.4219 101.2344,281.0313 Q101.7656,280.6406 101.7656,279.8906 Q101.7656,279.125 101.2656,278.6563 Q100.7656,278.1719 99.5,278.1719 L98.2969,278.1719 L98.2969,281.4219 Z \"/><text fill=\"#000000\" font-family=\"sans-serif\" font-size=\"12\" lengthAdjust=\"spacingAndGlyphs\" textLength=\"45\" x=\"113.5\" y=\"282.1543\">Vehicle</text><line style=\"stroke: #A80036; stroke-width: 1.5;\" x1=\"85.5\" x2=\"160.5\" y1=\"294\" y2=\"294\"/></a><!--MD5=[270fce915f116d4de14055a7c1d9a0f3]\n",
       "class E5--><a href=\"psysml:9c4f7a54-8ea6-458e-b6c7-855d1197e506\" target=\"_top\" title=\"psysml:9c4f7a54-8ea6-458e-b6c7-855d1197e506\" xlink:actuate=\"onRequest\" xlink:href=\"psysml:9c4f7a54-8ea6-458e-b6c7-855d1197e506\" xlink:show=\"new\" xlink:title=\"psysml:9c4f7a54-8ea6-458e-b6c7-855d1197e506\" xlink:type=\"simple\"><rect fill=\"#FEFECE\" filter=\"url(#frd38chyk9yu3)\" height=\"45.9375\" id=\"E5\" rx=\"10\" ry=\"10\" style=\"stroke: #A80036; stroke-width: 1.5;\" width=\"132\" x=\"91\" y=\"100\"/><ellipse cx=\"106\" cy=\"118.9688\" fill=\"#32CD32\" rx=\"11\" ry=\"11\" style=\"stroke: #A80036; stroke-width: 1.0;\"/><path d=\"M102.8125,123.9688 L102.8125,113.375 L106.4219,113.375 Q107.6406,113.375 108.4375,113.8125 Q109.2344,114.2344 109.6094,114.9375 Q110,115.6406 110,116.4844 Q110,117.3281 109.625,118.0156 Q109.2656,118.7031 108.4688,119.125 Q107.6875,119.5313 106.5,119.5313 L104.7656,119.5313 L104.7656,123.9688 L102.8125,123.9688 Z M104.7656,117.9375 L106.375,117.9375 Q107.1875,117.9375 107.6094,117.5313 Q108.0313,117.125 108.0313,116.4844 Q108.0313,115.8594 107.6094,115.4531 Q107.1875,115.0469 106.3906,115.0469 L104.7656,115.0469 L104.7656,117.9375 Z \"/><text fill=\"#000000\" font-family=\"sans-serif\" font-size=\"12\" font-style=\"italic\" lengthAdjust=\"spacingAndGlyphs\" textLength=\"40\" x=\"150\" y=\"116.1387\">«part»</text><text fill=\"#000000\" font-family=\"sans-serif\" font-size=\"12\" lengthAdjust=\"spacingAndGlyphs\" textLength=\"96\" x=\"120\" y=\"130.1074\">vehicle: Vehicle</text><line style=\"stroke: #A80036; stroke-width: 1.5;\" x1=\"92\" x2=\"222\" y1=\"137.9375\" y2=\"137.9375\"/></a><!--MD5=[f0cdf4548168e5211fb3a02bf679d63a]\n",
       "link E4 to E3--><a href=\"psysml:b99e9f78-77ea-4cdc-866d-b9796624c080\" target=\"_top\" title=\"psysml:b99e9f78-77ea-4cdc-866d-b9796624c080\" xlink:actuate=\"onRequest\" xlink:href=\"psysml:b99e9f78-77ea-4cdc-866d-b9796624c080\" xlink:show=\"new\" xlink:title=\"psysml:b99e9f78-77ea-4cdc-866d-b9796624c080\" xlink:type=\"simple\"><path d=\"M64.7031,170.0373 C64.7389,170.1824 64.7749,170.3277 64.8109,170.4731 C64.9551,171.0548 65.1012,171.6384 65.2493,172.2237 C65.5455,173.3944 65.8496,174.572 66.1615,175.7548 C66.7854,178.1203 67.4411,180.5064 68.1292,182.8989 C70.8819,192.4688 74.155,202.14 78,211 C85.13,227.43 95.91,244.37 105.13,257.46 \" fill=\"none\" id=\"E4-&gt;E3\" style=\"stroke: #A80036; stroke-width: 1.0; stroke-dasharray: 7.0,7.0;\"/><polygon fill=\"#A80036\" points=\"108.19,261.75,106.2042,252.1034,105.2798,257.6842,99.699,256.7598,108.19,261.75\" style=\"stroke: #A80036; stroke-width: 1.0;\"/><text fill=\"#000000\" font-family=\"sans-serif\" font-size=\"13\" lengthAdjust=\"spacingAndGlyphs\" textLength=\"58\" x=\"79\" y=\"207.0669\">«import»</text></a><!--MD5=[e9be52314489bd878ff4c7144b63c9e1]\n",
       "link E5 to E3--><a href=\"psysml:c70856ba-dfdd-4aff-ab00-0a9f4968bc68\" target=\"_top\" title=\"psysml:c70856ba-dfdd-4aff-ab00-0a9f4968bc68\" xlink:actuate=\"onRequest\" xlink:href=\"psysml:c70856ba-dfdd-4aff-ab00-0a9f4968bc68\" xlink:show=\"new\" xlink:title=\"psysml:c70856ba-dfdd-4aff-ab00-0a9f4968bc68\" xlink:type=\"simple\"><path d=\"M155.39,146.01 C153.82,163.72 150.92,189.17 146,211 C143.65,221.45 140.37,232.55 137.03,242.76 \" fill=\"none\" id=\"E5-&gt;E3\" style=\"stroke: #A80036; stroke-width: 1.0;\"/><polygon fill=\"#FFFFFF\" points=\"130.35,261.97,129.9691,241.7251,143.1946,246.317,130.35,261.97\" style=\"stroke: #A80036; stroke-width: 1.0;\"/><ellipse cx=\"133.7281\" cy=\"236.9964\" fill=\"#A80036\" rx=\"2\" ry=\"2\" style=\"stroke: #A80036; stroke-width: 1.0;\"/><ellipse cx=\"143.1749\" cy=\"240.2764\" fill=\"#A80036\" rx=\"2\" ry=\"2\" style=\"stroke: #A80036; stroke-width: 1.0;\"/></a><!--MD5=[61ad777901a4f0474ef7bc7d3fc4c5dd]\n",
       "@startuml\r\n",
       " \r\n",
       "package \"AliasImport\" as E1  [[psysml:a09df071-4715-4742-883e-cd73e8c4aa55 ]]  {\r\n",
       "package \"Definitions\" as E2  [[psysml:9e891321-89ab-46bb-b178-ae51d516b5d5 ]]  {\r\n",
       "comp def \"Vehicle\" as E3 << << (B,green) >> [[psysml:aed7d351-ec1f-43ef-9181-965f0e0fafe7 ]] {\r\n",
       "}\r\n",
       "}\r\n",
       "package \"Usages\" as E4  [[psysml:0357df57-b813-4001-8053-0943e42884ef ]]  {\r\n",
       "comp usage \"vehicle: Vehicle \" as E5 << << (P,limegreen) part>> [[psysml:9c4f7a54-8ea6-458e-b6c7-855d1197e506 ]] {\r\n",
       "}\r\n",
       "}\r\n",
       "}\r\n",
       "E4 ..> E3 [[psysml:b99e9f78-77ea-4cdc-866d-b9796624c080 ]] : <<import>>\r\n",
       "E5 - -:|> E3 [[psysml:c70856ba-dfdd-4aff-ab00-0a9f4968bc68 ]] \r\n",
       "@enduml\r\n",
       "\n",
       "PlantUML version 1.2020.13(Sat Jun 13 12:26:38 UTC 2020)\n",
       "(EPL source distribution)\n",
       "Java Runtime: OpenJDK Runtime Environment\n",
       "JVM: OpenJDK 64-Bit Server VM\n",
       "Default Encoding: UTF-8\n",
       "Language: en\n",
       "Country: null\n",
       "--></g></svg>"
      ]
     },
     "execution_count": 31,
     "metadata": {},
     "output_type": "execute_result"
    }
   ],
   "source": [
    "%viz --style=\"PLANTUML\" --view=\"Tree\" \"AliasImport\""
   ]
  },
  {
   "cell_type": "code",
   "execution_count": 32,
   "id": "9236749d",
   "metadata": {
    "execution": {
     "iopub.execute_input": "2022-03-03T09:59:07.805524Z",
     "iopub.status.busy": "2022-03-03T09:59:07.805068Z",
     "iopub.status.idle": "2022-03-03T09:59:07.902613Z",
     "shell.execute_reply": "2022-03-03T09:59:07.900810Z"
    }
   },
   "outputs": [
    {
     "data": {
      "image/svg+xml": [
       "<?xml version=\"1.0\" encoding=\"UTF-8\" standalone=\"no\"?><svg xmlns=\"http://www.w3.org/2000/svg\" xmlns:xlink=\"http://www.w3.org/1999/xlink\" contentScriptType=\"application/ecmascript\" contentStyleType=\"text/css\" height=\"300px\" preserveAspectRatio=\"none\" style=\"width:603px;height:300px;background:#000000;\" version=\"1.1\" viewBox=\"0 0 603 300\" width=\"603px\" zoomAndPan=\"magnify\"><defs/><g><rect fill=\"#171E15\" height=\"1\" style=\"stroke: #171E15; stroke-width: 1.0;\" width=\"1\" x=\"0\" y=\"0\"/><rect fill=\"#FFFFFF\" height=\"202.8012\" style=\"stroke: #FFFFFF; stroke-width: 1.0;\" width=\"602\" x=\"0\" y=\"0\"/><text fill=\"#000000\" font-family=\"sans-serif\" font-size=\"12\" font-weight=\"bold\" lengthAdjust=\"spacingAndGlyphs\" textLength=\"139\" x=\"5\" y=\"16.1387\">Welcome to PlantUML!</text><text fill=\"#000000\" font-family=\"sans-serif\" font-size=\"12\" lengthAdjust=\"spacingAndGlyphs\" textLength=\"0\" x=\"9\" y=\"30.1074\"/><text fill=\"#000000\" font-family=\"sans-serif\" font-size=\"12\" lengthAdjust=\"spacingAndGlyphs\" textLength=\"293\" x=\"5\" y=\"44.0762\">If you use this software, you accept its license.</text><text fill=\"#000000\" font-family=\"sans-serif\" font-size=\"12\" lengthAdjust=\"spacingAndGlyphs\" textLength=\"107\" x=\"5\" y=\"58.0449\">(details by typing</text><text fill=\"#000000\" font-family=\"monospace\" font-size=\"12\" lengthAdjust=\"spacingAndGlyphs\" textLength=\"42\" x=\"116\" y=\"58.595\">license</text><text fill=\"#000000\" font-family=\"sans-serif\" font-size=\"12\" lengthAdjust=\"spacingAndGlyphs\" textLength=\"56\" x=\"162\" y=\"58.0449\">keyword)</text><text fill=\"#000000\" font-family=\"sans-serif\" font-size=\"12\" lengthAdjust=\"spacingAndGlyphs\" textLength=\"0\" x=\"9\" y=\"72.0137\"/><text fill=\"#000000\" font-family=\"sans-serif\" font-size=\"12\" lengthAdjust=\"spacingAndGlyphs\" textLength=\"283\" x=\"5\" y=\"85.9824\">You can start with a simple UML Diagram like:</text><text fill=\"#000000\" font-family=\"sans-serif\" font-size=\"12\" lengthAdjust=\"spacingAndGlyphs\" textLength=\"0\" x=\"9\" y=\"99.9512\"/><text fill=\"#000000\" font-family=\"monospace\" font-size=\"12\" lengthAdjust=\"spacingAndGlyphs\" textLength=\"102\" x=\"5\" y=\"113.0893\">Bob-&gt;Alice: Hello</text><text fill=\"#000000\" font-family=\"sans-serif\" font-size=\"12\" lengthAdjust=\"spacingAndGlyphs\" textLength=\"0\" x=\"9\" y=\"126.508\"/><text fill=\"#000000\" font-family=\"sans-serif\" font-size=\"12\" lengthAdjust=\"spacingAndGlyphs\" textLength=\"14\" x=\"5\" y=\"140.4768\">Or</text><text fill=\"#000000\" font-family=\"sans-serif\" font-size=\"12\" lengthAdjust=\"spacingAndGlyphs\" textLength=\"0\" x=\"9\" y=\"154.4455\"/><text fill=\"#000000\" font-family=\"monospace\" font-size=\"12\" lengthAdjust=\"spacingAndGlyphs\" textLength=\"78\" x=\"5\" y=\"167.5837\">class Example</text><text fill=\"#000000\" font-family=\"sans-serif\" font-size=\"12\" lengthAdjust=\"spacingAndGlyphs\" textLength=\"0\" x=\"9\" y=\"181.0023\"/><text fill=\"#000000\" font-family=\"sans-serif\" font-size=\"12\" lengthAdjust=\"spacingAndGlyphs\" textLength=\"349\" x=\"5\" y=\"194.9711\">You will find more information about PlantUML syntax on</text><text fill=\"#000000\" font-family=\"sans-serif\" font-size=\"12\" lengthAdjust=\"spacingAndGlyphs\" text-decoration=\"underline\" textLength=\"129\" x=\"358\" y=\"194.9711\">https://plantuml.com</text><image height=\"71\" width=\"80\" x=\"516\" xlink:href=\"data:image/png;base64,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\" y=\"6\"/><rect fill=\"#000000\" height=\"96.4844\" style=\"stroke: #000000; stroke-width: 1.0;\" width=\"602\" x=\"0\" y=\"202.8012\"/><rect fill=\"#33FF02\" height=\"21.2969\" style=\"stroke: #33FF02; stroke-width: 1.0;\" width=\"145\" x=\"5\" y=\"207.8012\"/><text fill=\"#000000\" font-family=\"sans-serif\" font-size=\"14\" font-weight=\"bold\" lengthAdjust=\"spacingAndGlyphs\" textLength=\"143\" x=\"6\" y=\"222.8012\">[From string (line 2) ]</text><text fill=\"#33FF02\" font-family=\"sans-serif\" font-size=\"14\" font-weight=\"bold\" lengthAdjust=\"spacingAndGlyphs\" textLength=\"0\" x=\"9\" y=\"243.0981\"/><text fill=\"#33FF02\" font-family=\"sans-serif\" font-size=\"14\" font-weight=\"bold\" lengthAdjust=\"spacingAndGlyphs\" textLength=\"70\" x=\"5\" y=\"259.3949\">@startuml</text><text fill=\"#33FF02\" font-family=\"sans-serif\" font-size=\"14\" font-weight=\"bold\" lengthAdjust=\"spacingAndGlyphs\" textLength=\"0\" x=\"9\" y=\"275.6918\"/><text fill=\"#FF0000\" font-family=\"sans-serif\" font-size=\"14\" font-weight=\"bold\" lengthAdjust=\"spacingAndGlyphs\" textLength=\"124\" x=\"9\" y=\"291.9887\">Empty description</text><!--MD5=[f59edd8218d337f74d0c332fc6737304]\n",
       "@startuml\r\n",
       " \r\n",
       "@enduml\r\n",
       "\n",
       "PlantUML version 1.2020.13(Sat Jun 13 12:26:38 UTC 2020)\n",
       "(EPL source distribution)\n",
       "Java Runtime: OpenJDK Runtime Environment\n",
       "JVM: OpenJDK 64-Bit Server VM\n",
       "Default Encoding: UTF-8\n",
       "Language: en\n",
       "Country: null\n",
       "--></g></svg>"
      ]
     },
     "execution_count": 32,
     "metadata": {},
     "output_type": "execute_result"
    }
   ],
   "source": [
    "%viz --style=\"PLANTUML\" --view=\"State\" \"AliasImport\""
   ]
  },
  {
   "cell_type": "code",
   "execution_count": 33,
   "id": "9cb055ef",
   "metadata": {
    "execution": {
     "iopub.execute_input": "2022-03-03T09:59:07.951730Z",
     "iopub.status.busy": "2022-03-03T09:59:07.951273Z",
     "iopub.status.idle": "2022-03-03T09:59:07.975698Z",
     "shell.execute_reply": "2022-03-03T09:59:07.975284Z"
    }
   },
   "outputs": [
    {
     "data": {
      "image/svg+xml": [
       "<?xml version=\"1.0\" encoding=\"UTF-8\" standalone=\"no\"?><svg xmlns=\"http://www.w3.org/2000/svg\" xmlns:xlink=\"http://www.w3.org/1999/xlink\" contentScriptType=\"application/ecmascript\" contentStyleType=\"text/css\" height=\"348px\" preserveAspectRatio=\"none\" style=\"width:317px;height:348px;\" version=\"1.1\" viewBox=\"0 0 317 348\" width=\"317px\" zoomAndPan=\"magnify\"><defs><filter height=\"300%\" id=\"f1dba4lw3lya3x\" width=\"300%\" x=\"-1\" y=\"-1\"><feGaussianBlur result=\"blurOut\" stdDeviation=\"2.0\"/><feColorMatrix in=\"blurOut\" result=\"blurOut2\" type=\"matrix\" values=\"0 0 0 0 0 0 0 0 0 0 0 0 0 0 0 0 0 0 .4 0\"/><feOffset dx=\"4.0\" dy=\"4.0\" in=\"blurOut2\" result=\"blurOut3\"/><feBlend in=\"SourceGraphic\" in2=\"blurOut3\" mode=\"normal\"/></filter></defs><g><!--MD5=[fbc87193dbaf4d95561dea2c320d4a47]\n",
       "cluster E1--><a href=\"psysml:a09df071-4715-4742-883e-cd73e8c4aa55\" target=\"_top\" title=\"psysml:a09df071-4715-4742-883e-cd73e8c4aa55\" xlink:actuate=\"onRequest\" xlink:href=\"psysml:a09df071-4715-4742-883e-cd73e8c4aa55\" xlink:show=\"new\" xlink:title=\"psysml:a09df071-4715-4742-883e-cd73e8c4aa55\" xlink:type=\"simple\"><polygon fill=\"#FFFFFF\" filter=\"url(#f1dba4lw3lya3x)\" points=\"16,6,97,6,104,28.2969,295,28.2969,295,336,16,336,16,6\" style=\"stroke: #000000; stroke-width: 1.5;\"/><line style=\"stroke: #000000; stroke-width: 1.5;\" x1=\"16\" x2=\"104\" y1=\"28.2969\" y2=\"28.2969\"/><text fill=\"#000000\" font-family=\"sans-serif\" font-size=\"14\" font-weight=\"bold\" lengthAdjust=\"spacingAndGlyphs\" textLength=\"75\" x=\"20\" y=\"20.9951\">AliasImport</text></a><!--MD5=[e4f7fae6ed58524ba242bb0b0d3be6b7]\n",
       "cluster E2--><a href=\"psysml:9e891321-89ab-46bb-b178-ae51d516b5d5\" target=\"_top\" title=\"psysml:9e891321-89ab-46bb-b178-ae51d516b5d5\" xlink:actuate=\"onRequest\" xlink:href=\"psysml:9e891321-89ab-46bb-b178-ae51d516b5d5\" xlink:show=\"new\" xlink:title=\"psysml:9e891321-89ab-46bb-b178-ae51d516b5d5\" xlink:type=\"simple\"><polygon fill=\"#FFFFFF\" filter=\"url(#f1dba4lw3lya3x)\" points=\"40,221,119,221,126,243.2969,271,243.2969,271,312,40,312,40,221\" style=\"stroke: #000000; stroke-width: 1.5;\"/><line style=\"stroke: #000000; stroke-width: 1.5;\" x1=\"40\" x2=\"126\" y1=\"243.2969\" y2=\"243.2969\"/><text fill=\"#000000\" font-family=\"sans-serif\" font-size=\"14\" font-weight=\"bold\" lengthAdjust=\"spacingAndGlyphs\" textLength=\"73\" x=\"44\" y=\"235.9951\">Definitions</text></a><!--MD5=[de5ec2e2e8f62f467e546659f5068c88]\n",
       "cluster E5--><a href=\"psysml:0357df57-b813-4001-8053-0943e42884ef\" target=\"_top\" title=\"psysml:0357df57-b813-4001-8053-0943e42884ef\" xlink:actuate=\"onRequest\" xlink:href=\"psysml:0357df57-b813-4001-8053-0943e42884ef\" xlink:show=\"new\" xlink:title=\"psysml:0357df57-b813-4001-8053-0943e42884ef\" xlink:type=\"simple\"><polygon fill=\"#FFFFFF\" filter=\"url(#f1dba4lw3lya3x)\" points=\"62,57,120,57,127,79.2969,263,79.2969,263,164,62,164,62,57\" style=\"stroke: #000000; stroke-width: 1.5;\"/><line style=\"stroke: #000000; stroke-width: 1.5;\" x1=\"62\" x2=\"127\" y1=\"79.2969\" y2=\"79.2969\"/><text fill=\"#000000\" font-family=\"sans-serif\" font-size=\"14\" font-weight=\"bold\" lengthAdjust=\"spacingAndGlyphs\" textLength=\"52\" x=\"66\" y=\"71.9951\">Usages</text></a><g id=\"E1.E2.E3\"><a href=\"psysml:aed7d351-ec1f-43ef-9181-965f0e0fafe7\" target=\"_top\" title=\"psysml:aed7d351-ec1f-43ef-9181-965f0e0fafe7\" xlink:actuate=\"onRequest\" xlink:href=\"psysml:aed7d351-ec1f-43ef-9181-965f0e0fafe7\" xlink:show=\"new\" xlink:title=\"psysml:aed7d351-ec1f-43ef-9181-965f0e0fafe7\" xlink:type=\"simple\"><rect fill=\"#FEFECE\" filter=\"url(#f1dba4lw3lya3x)\" height=\"40\" id=\"E3\" style=\"stroke: #A80036; stroke-width: 1.5;\" width=\"82\" x=\"173\" y=\"256\"/><ellipse cx=\"190.25\" cy=\"272\" fill=\"#008000\" rx=\"11\" ry=\"11\" style=\"stroke: #A80036; stroke-width: 1.0;\"/><path d=\"M187.125,277 L187.125,266.4063 L190.3594,266.4063 Q192.2656,266.4063 193.1719,267.1563 Q194.0938,267.9063 194.0938,269.0781 Q194.0938,269.7656 193.7031,270.4219 Q193.3281,271.0781 192.6094,271.375 Q193.4688,271.75 193.9844,272.4375 Q194.5,273.125 194.5,273.9375 Q194.5,275.3125 193.4688,276.1563 Q192.4531,277 190.3438,277 L187.125,277 Z M189.0469,270.6406 L190.2031,270.6406 Q191.3281,270.6406 191.7344,270.2656 Q192.1563,269.875 192.1563,269.25 Q192.1563,268.6719 191.7344,268.3125 Q191.3125,267.9531 190.375,267.9531 L189.0469,267.9531 L189.0469,270.6406 Z M189.0469,275.4219 L190.5469,275.4219 Q191.4531,275.4219 191.9844,275.0313 Q192.5156,274.6406 192.5156,273.8906 Q192.5156,273.125 192.0156,272.6563 Q191.5156,272.1719 190.25,272.1719 L189.0469,272.1719 L189.0469,275.4219 Z \"/><text fill=\"#000000\" font-family=\"sans-serif\" font-size=\"12\" lengthAdjust=\"spacingAndGlyphs\" textLength=\"45\" x=\"204.75\" y=\"276.1543\">Vehicle</text></a></g><g id=\"E1.E2.E4\"><a href=\"psysml:aed7d351-ec1f-43ef-9181-965f0e0fafe7\" target=\"_top\" title=\"psysml:aed7d351-ec1f-43ef-9181-965f0e0fafe7\" xlink:actuate=\"onRequest\" xlink:href=\"psysml:aed7d351-ec1f-43ef-9181-965f0e0fafe7\" xlink:show=\"new\" xlink:title=\"psysml:aed7d351-ec1f-43ef-9181-965f0e0fafe7\" xlink:type=\"simple\"><rect fill=\"#FEFECE\" filter=\"url(#f1dba4lw3lya3x)\" height=\"40\" id=\"E4\" style=\"stroke: #A80036; stroke-width: 1.5;\" width=\"82\" x=\"56\" y=\"256\"/><ellipse cx=\"73.25\" cy=\"272\" fill=\"#008000\" rx=\"11\" ry=\"11\" style=\"stroke: #A80036; stroke-width: 1.0;\"/><path d=\"M70.125,277 L70.125,266.4063 L73.3594,266.4063 Q75.2656,266.4063 76.1719,267.1563 Q77.0938,267.9063 77.0938,269.0781 Q77.0938,269.7656 76.7031,270.4219 Q76.3281,271.0781 75.6094,271.375 Q76.4688,271.75 76.9844,272.4375 Q77.5,273.125 77.5,273.9375 Q77.5,275.3125 76.4688,276.1563 Q75.4531,277 73.3438,277 L70.125,277 Z M72.0469,270.6406 L73.2031,270.6406 Q74.3281,270.6406 74.7344,270.2656 Q75.1563,269.875 75.1563,269.25 Q75.1563,268.6719 74.7344,268.3125 Q74.3125,267.9531 73.375,267.9531 L72.0469,267.9531 L72.0469,270.6406 Z M72.0469,275.4219 L73.5469,275.4219 Q74.4531,275.4219 74.9844,275.0313 Q75.5156,274.6406 75.5156,273.8906 Q75.5156,273.125 75.0156,272.6563 Q74.5156,272.1719 73.25,272.1719 L72.0469,272.1719 L72.0469,275.4219 Z \"/><text fill=\"#000000\" font-family=\"sans-serif\" font-size=\"12\" lengthAdjust=\"spacingAndGlyphs\" textLength=\"45\" x=\"87.75\" y=\"276.1543\">Vehicle</text></a></g><g id=\"E1.E5.E6\"><a href=\"psysml:9c4f7a54-8ea6-458e-b6c7-855d1197e506\" target=\"_top\" title=\"psysml:9c4f7a54-8ea6-458e-b6c7-855d1197e506\" xlink:actuate=\"onRequest\" xlink:href=\"psysml:9c4f7a54-8ea6-458e-b6c7-855d1197e506\" xlink:show=\"new\" xlink:title=\"psysml:9c4f7a54-8ea6-458e-b6c7-855d1197e506\" xlink:type=\"simple\"><rect fill=\"#FEFECE\" filter=\"url(#f1dba4lw3lya3x)\" height=\"40\" id=\"E6\" rx=\"10\" ry=\"10\" style=\"stroke: #A80036; stroke-width: 1.5;\" width=\"133\" x=\"105.5\" y=\"100\"/><ellipse cx=\"122.75\" cy=\"116\" fill=\"#B6DBBB\" rx=\"11\" ry=\"11\" style=\"stroke: #A80036; stroke-width: 1.0;\"/><path d=\"M122.5,121.4688 Q120.75,121.4688 119.7969,120.4375 Q118.8594,119.3906 118.8594,117.5469 L118.8594,110.6563 L120.9219,110.6563 L120.9219,110.8125 Q120.8281,110.9063 120.7969,111.0469 Q120.7813,111.1719 120.7813,111.4375 L120.7813,117.5625 Q120.7813,118.6563 121.1563,119.2813 Q121.5313,119.9063 122.5156,119.9063 Q123.5,119.9063 123.8906,119.2813 Q124.2813,118.6563 124.2813,117.5156 L124.2813,110.6563 L126.1563,110.6563 L126.1563,117.5 Q126.1563,119.5313 125.125,120.5 Q124.1094,121.4688 122.5,121.4688 Z \"/><text fill=\"#000000\" font-family=\"sans-serif\" font-size=\"12\" lengthAdjust=\"spacingAndGlyphs\" textLength=\"96\" x=\"137.25\" y=\"120.1543\">vehicle: Vehicle</text></a></g><!--MD5=[1c62de2aa5b76f0fb657ff8443a1a700]\n",
       "link E5 to E4--><a href=\"psysml:b99e9f78-77ea-4cdc-866d-b9796624c080\" target=\"_top\" title=\"psysml:b99e9f78-77ea-4cdc-866d-b9796624c080\" xlink:actuate=\"onRequest\" xlink:href=\"psysml:b99e9f78-77ea-4cdc-866d-b9796624c080\" xlink:show=\"new\" xlink:title=\"psysml:b99e9f78-77ea-4cdc-866d-b9796624c080\" xlink:type=\"simple\"><path d=\"M77.6388,164.5679 C77.674,164.7689 77.7093,164.9703 77.7447,165.172 C77.8154,165.5755 77.8864,165.9804 77.9576,166.3867 C78.2426,168.0122 78.5315,169.6603 78.8237,171.3275 C83.5,198.0025 89.03,229.55 92.75,250.78 \" fill=\"none\" id=\"E5-&gt;E4\" style=\"stroke: #A80036; stroke-width: 1.0; stroke-dasharray: 7.0,7.0;\"/><polygon fill=\"#A80036\" points=\"93.62,255.74,96.0141,246.1866,92.7609,250.8144,88.1331,247.5612,93.62,255.74\" style=\"stroke: #A80036; stroke-width: 1.0;\"/><text fill=\"#000000\" font-family=\"sans-serif\" font-size=\"13\" lengthAdjust=\"spacingAndGlyphs\" textLength=\"58\" x=\"85\" y=\"201.0669\">«import»</text></a><!--MD5=[08b4143b1b56be80a61513ac9a5b52cf]\n",
       "@startuml\r\n",
       "skinparam ranksep 10\r\n",
       "skinparam rectangle {\r\n",
       " backgroundColor<<block>> LightGreen\r\n",
       "}\r\n",
       " \r\n",
       "package \"AliasImport\" as E1  [[psysml:a09df071-4715-4742-883e-cd73e8c4aa55 ]]  {\r\n",
       "package \"Definitions\" as E2  [[psysml:9e891321-89ab-46bb-b178-ae51d516b5d5 ]]  {\r\n",
       "rec def \"Vehicle\" as E3 << << (B,green) >> [[psysml:aed7d351-ec1f-43ef-9181-965f0e0fafe7 ]] {\r\n",
       "}\r\n",
       "rec def \"Vehicle\" as E4 << << (B,green) >> [[psysml:aed7d351-ec1f-43ef-9181-965f0e0fafe7 ]] {\r\n",
       "}\r\n",
       "}\r\n",
       "package \"Usages\" as E5  [[psysml:0357df57-b813-4001-8053-0943e42884ef ]]  {\r\n",
       "rec usage \"vehicle: Vehicle\" as E6  [[psysml:9c4f7a54-8ea6-458e-b6c7-855d1197e506 ]] {\r\n",
       "}\r\n",
       "}\r\n",
       "}\r\n",
       "E5 ..> E4 [[psysml:b99e9f78-77ea-4cdc-866d-b9796624c080 ]] : <<import>>\r\n",
       "@enduml\r\n",
       "\n",
       "PlantUML version 1.2020.13(Sat Jun 13 12:26:38 UTC 2020)\n",
       "(EPL source distribution)\n",
       "Java Runtime: OpenJDK Runtime Environment\n",
       "JVM: OpenJDK 64-Bit Server VM\n",
       "Default Encoding: UTF-8\n",
       "Language: en\n",
       "Country: null\n",
       "--></g></svg>"
      ]
     },
     "execution_count": 33,
     "metadata": {},
     "output_type": "execute_result"
    }
   ],
   "source": [
    "%viz --style=\"PLANTUML\" --view=\"Interconnection\" \"AliasImport\""
   ]
  },
  {
   "cell_type": "code",
   "execution_count": 34,
   "id": "73f8e784",
   "metadata": {
    "execution": {
     "iopub.execute_input": "2022-03-03T09:59:08.025107Z",
     "iopub.status.busy": "2022-03-03T09:59:08.024691Z",
     "iopub.status.idle": "2022-03-03T09:59:08.029112Z",
     "shell.execute_reply": "2022-03-03T09:59:08.029418Z"
    }
   },
   "outputs": [
    {
     "data": {
      "image/svg+xml": [
       "<?xml version=\"1.0\" encoding=\"UTF-8\" standalone=\"no\"?><svg xmlns=\"http://www.w3.org/2000/svg\" xmlns:xlink=\"http://www.w3.org/1999/xlink\" contentScriptType=\"application/ecmascript\" contentStyleType=\"text/css\" height=\"12px\" preserveAspectRatio=\"none\" style=\"width:12px;height:12px;\" version=\"1.1\" viewBox=\"0 0 12 12\" width=\"12px\" zoomAndPan=\"magnify\"><defs/><g><!--MD5=[6a4cb978cab31700e1ce5529f947a75d]\n",
       "@startuml\r\n",
       "skinparam ranksep 8\r\n",
       " \r\n",
       "@enduml\r\n",
       "\n",
       "PlantUML version 1.2020.13(Sat Jun 13 12:26:38 UTC 2020)\n",
       "(EPL source distribution)\n",
       "Java Runtime: OpenJDK Runtime Environment\n",
       "JVM: OpenJDK 64-Bit Server VM\n",
       "Default Encoding: UTF-8\n",
       "Language: en\n",
       "Country: null\n",
       "--></g></svg>"
      ]
     },
     "execution_count": 34,
     "metadata": {},
     "output_type": "execute_result"
    }
   ],
   "source": [
    "%viz --style=\"PLANTUML\" --view=\"Action\" \"AliasImport\""
   ]
  },
  {
   "cell_type": "code",
   "execution_count": 35,
   "id": "6ce2d7f0",
   "metadata": {
    "execution": {
     "iopub.execute_input": "2022-03-03T09:59:08.079626Z",
     "iopub.status.busy": "2022-03-03T09:59:08.079190Z",
     "iopub.status.idle": "2022-03-03T09:59:08.084013Z",
     "shell.execute_reply": "2022-03-03T09:59:08.084327Z"
    }
   },
   "outputs": [
    {
     "data": {
      "image/svg+xml": [
       "<?xml version=\"1.0\" encoding=\"UTF-8\" standalone=\"no\"?><svg xmlns=\"http://www.w3.org/2000/svg\" xmlns:xlink=\"http://www.w3.org/1999/xlink\" contentScriptType=\"application/ecmascript\" contentStyleType=\"text/css\" height=\"12px\" preserveAspectRatio=\"none\" style=\"width:12px;height:12px;\" version=\"1.1\" viewBox=\"0 0 12 12\" width=\"12px\" zoomAndPan=\"magnify\"><defs/><g><!--MD5=[ca4faa0b02def275ea33c14ea7a1a98d]\n",
       "@startuml\r\n",
       "skinparam roundcorner 20\r\n",
       "skinparam BoxPadding 20\r\n",
       "skinparam SequenceBoxBackgroundColor #white\r\n",
       "skinparam style strictuml\r\n",
       "skinparam maxMessageSize 100\r\n",
       " \r\n",
       "@enduml\r\n",
       "\n",
       "PlantUML version 1.2020.13(Sat Jun 13 12:26:38 UTC 2020)\n",
       "(EPL source distribution)\n",
       "Java Runtime: OpenJDK Runtime Environment\n",
       "JVM: OpenJDK 64-Bit Server VM\n",
       "Default Encoding: UTF-8\n",
       "Language: en\n",
       "Country: null\n",
       "--></g></svg>"
      ]
     },
     "execution_count": 35,
     "metadata": {},
     "output_type": "execute_result"
    }
   ],
   "source": [
    "%viz --style=\"PLANTUML\" --view=\"Sequence\" \"AliasImport\""
   ]
  },
  {
   "cell_type": "code",
   "execution_count": 36,
   "id": "4c7e0961",
   "metadata": {
    "execution": {
     "iopub.execute_input": "2022-03-03T09:59:08.134469Z",
     "iopub.status.busy": "2022-03-03T09:59:08.134044Z",
     "iopub.status.idle": "2022-03-03T09:59:08.163562Z",
     "shell.execute_reply": "2022-03-03T09:59:08.163191Z"
    }
   },
   "outputs": [
    {
     "data": {
      "image/svg+xml": [
       "<?xml version=\"1.0\" encoding=\"UTF-8\" standalone=\"no\"?><svg xmlns=\"http://www.w3.org/2000/svg\" xmlns:xlink=\"http://www.w3.org/1999/xlink\" contentScriptType=\"application/ecmascript\" contentStyleType=\"text/css\" height=\"354px\" preserveAspectRatio=\"none\" style=\"width:301px;height:354px;\" version=\"1.1\" viewBox=\"0 0 301 354\" width=\"301px\" zoomAndPan=\"magnify\"><defs><filter height=\"300%\" id=\"frd38chyk9yu3\" width=\"300%\" x=\"-1\" y=\"-1\"><feGaussianBlur result=\"blurOut\" stdDeviation=\"2.0\"/><feColorMatrix in=\"blurOut\" result=\"blurOut2\" type=\"matrix\" values=\"0 0 0 0 0 0 0 0 0 0 0 0 0 0 0 0 0 0 .4 0\"/><feOffset dx=\"4.0\" dy=\"4.0\" in=\"blurOut2\" result=\"blurOut3\"/><feBlend in=\"SourceGraphic\" in2=\"blurOut3\" mode=\"normal\"/></filter></defs><g><!--MD5=[fbc87193dbaf4d95561dea2c320d4a47]\n",
       "cluster E1--><a href=\"psysml:a09df071-4715-4742-883e-cd73e8c4aa55\" target=\"_top\" title=\"psysml:a09df071-4715-4742-883e-cd73e8c4aa55\" xlink:actuate=\"onRequest\" xlink:href=\"psysml:a09df071-4715-4742-883e-cd73e8c4aa55\" xlink:show=\"new\" xlink:title=\"psysml:a09df071-4715-4742-883e-cd73e8c4aa55\" xlink:type=\"simple\"><polygon fill=\"#FFFFFF\" filter=\"url(#frd38chyk9yu3)\" points=\"16,6,97,6,104,28.2969,279,28.2969,279,342,16,342,16,6\" style=\"stroke: #000000; stroke-width: 1.5;\"/><line style=\"stroke: #000000; stroke-width: 1.5;\" x1=\"16\" x2=\"104\" y1=\"28.2969\" y2=\"28.2969\"/><text fill=\"#000000\" font-family=\"sans-serif\" font-size=\"14\" font-weight=\"bold\" lengthAdjust=\"spacingAndGlyphs\" textLength=\"75\" x=\"20\" y=\"20.9951\">AliasImport</text></a><!--MD5=[e4f7fae6ed58524ba242bb0b0d3be6b7]\n",
       "cluster E2--><a href=\"psysml:9e891321-89ab-46bb-b178-ae51d516b5d5\" target=\"_top\" title=\"psysml:9e891321-89ab-46bb-b178-ae51d516b5d5\" xlink:actuate=\"onRequest\" xlink:href=\"psysml:9e891321-89ab-46bb-b178-ae51d516b5d5\" xlink:show=\"new\" xlink:title=\"psysml:9e891321-89ab-46bb-b178-ae51d516b5d5\" xlink:type=\"simple\"><polygon fill=\"#FFFFFF\" filter=\"url(#frd38chyk9yu3)\" points=\"68,227,147,227,154,249.2969,178,249.2969,178,318,68,318,68,227\" style=\"stroke: #000000; stroke-width: 1.5;\"/><line style=\"stroke: #000000; stroke-width: 1.5;\" x1=\"68\" x2=\"154\" y1=\"249.2969\" y2=\"249.2969\"/><text fill=\"#000000\" font-family=\"sans-serif\" font-size=\"14\" font-weight=\"bold\" lengthAdjust=\"spacingAndGlyphs\" textLength=\"73\" x=\"72\" y=\"241.9951\">Definitions</text></a><!--MD5=[f6df4d0ebaf0b5dfb2ced0ae5af7c670]\n",
       "cluster E4--><a href=\"psysml:0357df57-b813-4001-8053-0943e42884ef\" target=\"_top\" title=\"psysml:0357df57-b813-4001-8053-0943e42884ef\" xlink:actuate=\"onRequest\" xlink:href=\"psysml:0357df57-b813-4001-8053-0943e42884ef\" xlink:show=\"new\" xlink:title=\"psysml:0357df57-b813-4001-8053-0943e42884ef\" xlink:type=\"simple\"><polygon fill=\"#FFFFFF\" filter=\"url(#frd38chyk9yu3)\" points=\"48,57,106,57,113,79.2969,247,79.2969,247,170,48,170,48,57\" style=\"stroke: #000000; stroke-width: 1.5;\"/><line style=\"stroke: #000000; stroke-width: 1.5;\" x1=\"48\" x2=\"113\" y1=\"79.2969\" y2=\"79.2969\"/><text fill=\"#000000\" font-family=\"sans-serif\" font-size=\"14\" font-weight=\"bold\" lengthAdjust=\"spacingAndGlyphs\" textLength=\"52\" x=\"52\" y=\"71.9951\">Usages</text></a><!--MD5=[09b614a08d8cba4a07c9adeb5e0fee81]\n",
       "class E3--><a href=\"psysml:aed7d351-ec1f-43ef-9181-965f0e0fafe7\" target=\"_top\" title=\"psysml:aed7d351-ec1f-43ef-9181-965f0e0fafe7\" xlink:actuate=\"onRequest\" xlink:href=\"psysml:aed7d351-ec1f-43ef-9181-965f0e0fafe7\" xlink:show=\"new\" xlink:title=\"psysml:aed7d351-ec1f-43ef-9181-965f0e0fafe7\" xlink:type=\"simple\"><rect fill=\"#FEFECE\" filter=\"url(#frd38chyk9yu3)\" height=\"40\" id=\"E3\" style=\"stroke: #A80036; stroke-width: 1.5;\" width=\"77\" x=\"84.5\" y=\"262\"/><ellipse cx=\"99.5\" cy=\"278\" fill=\"#008000\" rx=\"11\" ry=\"11\" style=\"stroke: #A80036; stroke-width: 1.0;\"/><path d=\"M96.375,283 L96.375,272.4063 L99.6094,272.4063 Q101.5156,272.4063 102.4219,273.1563 Q103.3438,273.9063 103.3438,275.0781 Q103.3438,275.7656 102.9531,276.4219 Q102.5781,277.0781 101.8594,277.375 Q102.7188,277.75 103.2344,278.4375 Q103.75,279.125 103.75,279.9375 Q103.75,281.3125 102.7188,282.1563 Q101.7031,283 99.5938,283 L96.375,283 Z M98.2969,276.6406 L99.4531,276.6406 Q100.5781,276.6406 100.9844,276.2656 Q101.4063,275.875 101.4063,275.25 Q101.4063,274.6719 100.9844,274.3125 Q100.5625,273.9531 99.625,273.9531 L98.2969,273.9531 L98.2969,276.6406 Z M98.2969,281.4219 L99.7969,281.4219 Q100.7031,281.4219 101.2344,281.0313 Q101.7656,280.6406 101.7656,279.8906 Q101.7656,279.125 101.2656,278.6563 Q100.7656,278.1719 99.5,278.1719 L98.2969,278.1719 L98.2969,281.4219 Z \"/><text fill=\"#000000\" font-family=\"sans-serif\" font-size=\"12\" lengthAdjust=\"spacingAndGlyphs\" textLength=\"45\" x=\"113.5\" y=\"282.1543\">Vehicle</text><line style=\"stroke: #A80036; stroke-width: 1.5;\" x1=\"85.5\" x2=\"160.5\" y1=\"294\" y2=\"294\"/></a><!--MD5=[270fce915f116d4de14055a7c1d9a0f3]\n",
       "class E5--><a href=\"psysml:9c4f7a54-8ea6-458e-b6c7-855d1197e506\" target=\"_top\" title=\"psysml:9c4f7a54-8ea6-458e-b6c7-855d1197e506\" xlink:actuate=\"onRequest\" xlink:href=\"psysml:9c4f7a54-8ea6-458e-b6c7-855d1197e506\" xlink:show=\"new\" xlink:title=\"psysml:9c4f7a54-8ea6-458e-b6c7-855d1197e506\" xlink:type=\"simple\"><rect fill=\"#FEFECE\" filter=\"url(#frd38chyk9yu3)\" height=\"45.9375\" id=\"E5\" rx=\"10\" ry=\"10\" style=\"stroke: #A80036; stroke-width: 1.5;\" width=\"132\" x=\"91\" y=\"100\"/><ellipse cx=\"106\" cy=\"118.9688\" fill=\"#32CD32\" rx=\"11\" ry=\"11\" style=\"stroke: #A80036; stroke-width: 1.0;\"/><path d=\"M102.8125,123.9688 L102.8125,113.375 L106.4219,113.375 Q107.6406,113.375 108.4375,113.8125 Q109.2344,114.2344 109.6094,114.9375 Q110,115.6406 110,116.4844 Q110,117.3281 109.625,118.0156 Q109.2656,118.7031 108.4688,119.125 Q107.6875,119.5313 106.5,119.5313 L104.7656,119.5313 L104.7656,123.9688 L102.8125,123.9688 Z M104.7656,117.9375 L106.375,117.9375 Q107.1875,117.9375 107.6094,117.5313 Q108.0313,117.125 108.0313,116.4844 Q108.0313,115.8594 107.6094,115.4531 Q107.1875,115.0469 106.3906,115.0469 L104.7656,115.0469 L104.7656,117.9375 Z \"/><text fill=\"#000000\" font-family=\"sans-serif\" font-size=\"12\" font-style=\"italic\" lengthAdjust=\"spacingAndGlyphs\" textLength=\"40\" x=\"150\" y=\"116.1387\">«part»</text><text fill=\"#000000\" font-family=\"sans-serif\" font-size=\"12\" lengthAdjust=\"spacingAndGlyphs\" textLength=\"96\" x=\"120\" y=\"130.1074\">vehicle: Vehicle</text><line style=\"stroke: #A80036; stroke-width: 1.5;\" x1=\"92\" x2=\"222\" y1=\"137.9375\" y2=\"137.9375\"/></a><!--MD5=[f0cdf4548168e5211fb3a02bf679d63a]\n",
       "link E4 to E3--><a href=\"psysml:b99e9f78-77ea-4cdc-866d-b9796624c080\" target=\"_top\" title=\"psysml:b99e9f78-77ea-4cdc-866d-b9796624c080\" xlink:actuate=\"onRequest\" xlink:href=\"psysml:b99e9f78-77ea-4cdc-866d-b9796624c080\" xlink:show=\"new\" xlink:title=\"psysml:b99e9f78-77ea-4cdc-866d-b9796624c080\" xlink:type=\"simple\"><path d=\"M64.7031,170.0373 C64.7389,170.1824 64.7749,170.3277 64.8109,170.4731 C64.9551,171.0548 65.1012,171.6384 65.2493,172.2237 C65.5455,173.3944 65.8496,174.572 66.1615,175.7548 C66.7854,178.1203 67.4411,180.5064 68.1292,182.8989 C70.8819,192.4688 74.155,202.14 78,211 C85.13,227.43 95.91,244.37 105.13,257.46 \" fill=\"none\" id=\"E4-&gt;E3\" style=\"stroke: #A80036; stroke-width: 1.0; stroke-dasharray: 7.0,7.0;\"/><polygon fill=\"#A80036\" points=\"108.19,261.75,106.2042,252.1034,105.2798,257.6842,99.699,256.7598,108.19,261.75\" style=\"stroke: #A80036; stroke-width: 1.0;\"/><text fill=\"#000000\" font-family=\"sans-serif\" font-size=\"13\" lengthAdjust=\"spacingAndGlyphs\" textLength=\"58\" x=\"79\" y=\"207.0669\">«import»</text></a><!--MD5=[e9be52314489bd878ff4c7144b63c9e1]\n",
       "link E5 to E3--><a href=\"psysml:c70856ba-dfdd-4aff-ab00-0a9f4968bc68\" target=\"_top\" title=\"psysml:c70856ba-dfdd-4aff-ab00-0a9f4968bc68\" xlink:actuate=\"onRequest\" xlink:href=\"psysml:c70856ba-dfdd-4aff-ab00-0a9f4968bc68\" xlink:show=\"new\" xlink:title=\"psysml:c70856ba-dfdd-4aff-ab00-0a9f4968bc68\" xlink:type=\"simple\"><path d=\"M155.39,146.01 C153.82,163.72 150.92,189.17 146,211 C143.65,221.45 140.37,232.55 137.03,242.76 \" fill=\"none\" id=\"E5-&gt;E3\" style=\"stroke: #A80036; stroke-width: 1.0;\"/><polygon fill=\"#FFFFFF\" points=\"130.35,261.97,129.9691,241.7251,143.1946,246.317,130.35,261.97\" style=\"stroke: #A80036; stroke-width: 1.0;\"/><ellipse cx=\"133.7281\" cy=\"236.9964\" fill=\"#A80036\" rx=\"2\" ry=\"2\" style=\"stroke: #A80036; stroke-width: 1.0;\"/><ellipse cx=\"143.1749\" cy=\"240.2764\" fill=\"#A80036\" rx=\"2\" ry=\"2\" style=\"stroke: #A80036; stroke-width: 1.0;\"/></a><!--MD5=[61ad777901a4f0474ef7bc7d3fc4c5dd]\n",
       "@startuml\r\n",
       " \r\n",
       "package \"AliasImport\" as E1  [[psysml:a09df071-4715-4742-883e-cd73e8c4aa55 ]]  {\r\n",
       "package \"Definitions\" as E2  [[psysml:9e891321-89ab-46bb-b178-ae51d516b5d5 ]]  {\r\n",
       "comp def \"Vehicle\" as E3 << << (B,green) >> [[psysml:aed7d351-ec1f-43ef-9181-965f0e0fafe7 ]] {\r\n",
       "}\r\n",
       "}\r\n",
       "package \"Usages\" as E4  [[psysml:0357df57-b813-4001-8053-0943e42884ef ]]  {\r\n",
       "comp usage \"vehicle: Vehicle \" as E5 << << (P,limegreen) part>> [[psysml:9c4f7a54-8ea6-458e-b6c7-855d1197e506 ]] {\r\n",
       "}\r\n",
       "}\r\n",
       "}\r\n",
       "E4 ..> E3 [[psysml:b99e9f78-77ea-4cdc-866d-b9796624c080 ]] : <<import>>\r\n",
       "E5 - -:|> E3 [[psysml:c70856ba-dfdd-4aff-ab00-0a9f4968bc68 ]] \r\n",
       "@enduml\r\n",
       "\n",
       "PlantUML version 1.2020.13(Sat Jun 13 12:26:38 UTC 2020)\n",
       "(EPL source distribution)\n",
       "Java Runtime: OpenJDK Runtime Environment\n",
       "JVM: OpenJDK 64-Bit Server VM\n",
       "Default Encoding: UTF-8\n",
       "Language: en\n",
       "Country: null\n",
       "--></g></svg>"
      ]
     },
     "execution_count": 36,
     "metadata": {},
     "output_type": "execute_result"
    }
   ],
   "source": [
    "%viz --style=\"PLANTUML\" --view=\"MIXED\" \"AliasImport\""
   ]
  },
  {
   "cell_type": "code",
   "execution_count": 37,
   "id": "1b9f6922",
   "metadata": {
    "execution": {
     "iopub.execute_input": "2022-03-03T09:59:08.213131Z",
     "iopub.status.busy": "2022-03-03T09:59:08.212653Z",
     "iopub.status.idle": "2022-03-03T09:59:08.240028Z",
     "shell.execute_reply": "2022-03-03T09:59:08.239660Z"
    }
   },
   "outputs": [
    {
     "data": {
      "image/svg+xml": [
       "<?xml version=\"1.0\" encoding=\"UTF-8\" standalone=\"no\"?><svg xmlns=\"http://www.w3.org/2000/svg\" xmlns:xlink=\"http://www.w3.org/1999/xlink\" contentScriptType=\"application/ecmascript\" contentStyleType=\"text/css\" height=\"360px\" preserveAspectRatio=\"none\" style=\"width:275px;height:360px;\" version=\"1.1\" viewBox=\"0 0 275 360\" width=\"275px\" zoomAndPan=\"magnify\"><defs/><g><!--MD5=[fbc87193dbaf4d95561dea2c320d4a47]\n",
       "cluster E1--><a href=\"psysml:a09df071-4715-4742-883e-cd73e8c4aa55\" target=\"_top\" title=\"psysml:a09df071-4715-4742-883e-cd73e8c4aa55\" xlink:actuate=\"onRequest\" xlink:href=\"psysml:a09df071-4715-4742-883e-cd73e8c4aa55\" xlink:show=\"new\" xlink:title=\"psysml:a09df071-4715-4742-883e-cd73e8c4aa55\" xlink:type=\"simple\"><polygon fill=\"#FFFFFF\" points=\"16,6,97,6,104,28.2969,253,28.2969,253,348,16,348,16,6\" style=\"stroke: #000000; stroke-width: 1.5;\"/><line style=\"stroke: #000000; stroke-width: 1.5;\" x1=\"16\" x2=\"104\" y1=\"28.2969\" y2=\"28.2969\"/><text fill=\"#000000\" font-family=\"sans-serif\" font-size=\"14\" font-weight=\"bold\" lengthAdjust=\"spacingAndGlyphs\" textLength=\"75\" x=\"20\" y=\"20.9951\">AliasImport</text></a><!--MD5=[e4f7fae6ed58524ba242bb0b0d3be6b7]\n",
       "cluster E2--><a href=\"psysml:9e891321-89ab-46bb-b178-ae51d516b5d5\" target=\"_top\" title=\"psysml:9e891321-89ab-46bb-b178-ae51d516b5d5\" xlink:actuate=\"onRequest\" xlink:href=\"psysml:9e891321-89ab-46bb-b178-ae51d516b5d5\" xlink:show=\"new\" xlink:title=\"psysml:9e891321-89ab-46bb-b178-ae51d516b5d5\" xlink:type=\"simple\"><polygon fill=\"#FFFFFF\" points=\"65,227,144,227,151,249.2969,167,249.2969,167,324,65,324,65,227\" style=\"stroke: #000000; stroke-width: 1.5;\"/><line style=\"stroke: #000000; stroke-width: 1.5;\" x1=\"65\" x2=\"151\" y1=\"249.2969\" y2=\"249.2969\"/><text fill=\"#000000\" font-family=\"sans-serif\" font-size=\"14\" font-weight=\"bold\" lengthAdjust=\"spacingAndGlyphs\" textLength=\"73\" x=\"69\" y=\"241.9951\">Definitions</text></a><!--MD5=[f6df4d0ebaf0b5dfb2ced0ae5af7c670]\n",
       "cluster E4--><a href=\"psysml:0357df57-b813-4001-8053-0943e42884ef\" target=\"_top\" title=\"psysml:0357df57-b813-4001-8053-0943e42884ef\" xlink:actuate=\"onRequest\" xlink:href=\"psysml:0357df57-b813-4001-8053-0943e42884ef\" xlink:show=\"new\" xlink:title=\"psysml:0357df57-b813-4001-8053-0943e42884ef\" xlink:type=\"simple\"><polygon fill=\"#FFFFFF\" points=\"48,57,106,57,113,79.2969,221,79.2969,221,170,48,170,48,57\" style=\"stroke: #000000; stroke-width: 1.5;\"/><line style=\"stroke: #000000; stroke-width: 1.5;\" x1=\"48\" x2=\"113\" y1=\"79.2969\" y2=\"79.2969\"/><text fill=\"#000000\" font-family=\"sans-serif\" font-size=\"14\" font-weight=\"bold\" lengthAdjust=\"spacingAndGlyphs\" textLength=\"52\" x=\"52\" y=\"71.9951\">Usages</text></a><!--MD5=[09b614a08d8cba4a07c9adeb5e0fee81]\n",
       "class E3--><a href=\"psysml:aed7d351-ec1f-43ef-9181-965f0e0fafe7\" target=\"_top\" title=\"psysml:aed7d351-ec1f-43ef-9181-965f0e0fafe7\" xlink:actuate=\"onRequest\" xlink:href=\"psysml:aed7d351-ec1f-43ef-9181-965f0e0fafe7\" xlink:show=\"new\" xlink:title=\"psysml:aed7d351-ec1f-43ef-9181-965f0e0fafe7\" xlink:type=\"simple\"><rect fill=\"#FFFFFF\" height=\"45.9375\" id=\"E3\" style=\"stroke: #383838; stroke-width: 1.5;\" width=\"70\" x=\"81\" y=\"262\"/><text fill=\"#000000\" font-family=\"sans-serif\" font-size=\"12\" font-style=\"italic\" lengthAdjust=\"spacingAndGlyphs\" textLength=\"68\" x=\"82\" y=\"278.1387\">«part  def»</text><text fill=\"#000000\" font-family=\"sans-serif\" font-size=\"12\" lengthAdjust=\"spacingAndGlyphs\" textLength=\"45\" x=\"93.5\" y=\"292.1074\">Vehicle</text><line style=\"stroke: #383838; stroke-width: 1.5;\" x1=\"82\" x2=\"150\" y1=\"299.9375\" y2=\"299.9375\"/></a><!--MD5=[270fce915f116d4de14055a7c1d9a0f3]\n",
       "class E5--><a href=\"psysml:9c4f7a54-8ea6-458e-b6c7-855d1197e506\" target=\"_top\" title=\"psysml:9c4f7a54-8ea6-458e-b6c7-855d1197e506\" xlink:actuate=\"onRequest\" xlink:href=\"psysml:9c4f7a54-8ea6-458e-b6c7-855d1197e506\" xlink:show=\"new\" xlink:title=\"psysml:9c4f7a54-8ea6-458e-b6c7-855d1197e506\" xlink:type=\"simple\"><rect fill=\"#FFFFFF\" height=\"45.9375\" id=\"E5\" rx=\"10\" ry=\"10\" style=\"stroke: #383838; stroke-width: 1.5;\" width=\"106\" x=\"91\" y=\"100\"/><text fill=\"#000000\" font-family=\"sans-serif\" font-size=\"12\" font-style=\"italic\" lengthAdjust=\"spacingAndGlyphs\" textLength=\"40\" x=\"124\" y=\"116.1387\">«part»</text><text fill=\"#000000\" font-family=\"sans-serif\" font-size=\"12\" lengthAdjust=\"spacingAndGlyphs\" textLength=\"96\" x=\"94\" y=\"130.1074\">vehicle: Vehicle</text><line style=\"stroke: #383838; stroke-width: 1.5;\" x1=\"92\" x2=\"196\" y1=\"137.9375\" y2=\"137.9375\"/></a><!--MD5=[f0cdf4548168e5211fb3a02bf679d63a]\n",
       "link E4 to E3--><a href=\"psysml:b99e9f78-77ea-4cdc-866d-b9796624c080\" target=\"_top\" title=\"psysml:b99e9f78-77ea-4cdc-866d-b9796624c080\" xlink:actuate=\"onRequest\" xlink:href=\"psysml:b99e9f78-77ea-4cdc-866d-b9796624c080\" xlink:show=\"new\" xlink:title=\"psysml:b99e9f78-77ea-4cdc-866d-b9796624c080\" xlink:type=\"simple\"><path d=\"M58.5005,170.0549 C58.5193,170.2001 58.5383,170.3454 58.5574,170.4908 C58.6338,171.0725 58.7124,171.6562 58.7932,172.2415 C58.9548,173.4122 59.1253,174.5898 59.3052,175.7725 C59.6651,178.1379 60.0625,180.5238 60.5014,182.9158 C62.2569,192.4838 64.675,202.15 68,211 C74.23,227.58 84.77,244.23 94.38,257.43 \" fill=\"none\" id=\"E4-&gt;E3\" style=\"stroke: #383838; stroke-width: 1.0; stroke-dasharray: 7.0,7.0;\"/><polygon fill=\"#383838\" points=\"97.6,261.77,95.4384,252.1613,94.616,257.758,89.0193,256.9357,97.6,261.77\" style=\"stroke: #383838; stroke-width: 1.0;\"/><text fill=\"#000000\" font-family=\"sans-serif\" font-size=\"13\" lengthAdjust=\"spacingAndGlyphs\" textLength=\"58\" x=\"69\" y=\"207.0669\">«import»</text></a><!--MD5=[e9be52314489bd878ff4c7144b63c9e1]\n",
       "link E5 to E3--><a href=\"psysml:c70856ba-dfdd-4aff-ab00-0a9f4968bc68\" target=\"_top\" title=\"psysml:c70856ba-dfdd-4aff-ab00-0a9f4968bc68\" xlink:actuate=\"onRequest\" xlink:href=\"psysml:c70856ba-dfdd-4aff-ab00-0a9f4968bc68\" xlink:show=\"new\" xlink:title=\"psysml:c70856ba-dfdd-4aff-ab00-0a9f4968bc68\" xlink:type=\"simple\"><path d=\"M143.03,146.32 C142,163.98 139.95,189.21 136,211 C134.13,221.29 131.49,232.23 128.74,242.43 \" fill=\"none\" id=\"E5-&gt;E3\" style=\"stroke: #383838; stroke-width: 1.0;\"/><polygon fill=\"#FFFFFF\" points=\"123.15,261.87,121.6727,241.6755,135.1276,245.544,123.15,261.87\" style=\"stroke: #383838; stroke-width: 1.0;\"/><ellipse cx=\"125.1699\" cy=\"236.7501\" fill=\"#383838\" rx=\"2\" ry=\"2\" style=\"stroke: #383838; stroke-width: 1.0;\"/><ellipse cx=\"134.7805\" cy=\"239.5133\" fill=\"#383838\" rx=\"2\" ry=\"2\" style=\"stroke: #383838; stroke-width: 1.0;\"/></a><!--MD5=[28737ebfea7c979639b166d4e1db8cf9]\n",
       "@startuml\r\n",
       "skinparam monochrome true\r\n",
       "skinparam classbackgroundcolor white\r\n",
       "skinparam shadowing false\r\n",
       "skinparam wrapWidth 300\r\n",
       "hide circle\r\n",
       "\r\n",
       "package \"AliasImport\" as E1  [[psysml:a09df071-4715-4742-883e-cd73e8c4aa55 ]]  {\r\n",
       "package \"Definitions\" as E2  [[psysml:9e891321-89ab-46bb-b178-ae51d516b5d5 ]]  {\r\n",
       "comp def \"Vehicle\" as E3  <<(T,blue) part  def>> [[psysml:aed7d351-ec1f-43ef-9181-965f0e0fafe7 ]] {\r\n",
       "}\r\n",
       "}\r\n",
       "package \"Usages\" as E4  [[psysml:0357df57-b813-4001-8053-0943e42884ef ]]  {\r\n",
       "comp usage \"vehicle: Vehicle \" as E5  <<(T,blue) part>> [[psysml:9c4f7a54-8ea6-458e-b6c7-855d1197e506 ]] {\r\n",
       "}\r\n",
       "}\r\n",
       "}\r\n",
       "E4 ..> E3 [[psysml:b99e9f78-77ea-4cdc-866d-b9796624c080 ]] : <<import>>\r\n",
       "E5 - -:|> E3 [[psysml:c70856ba-dfdd-4aff-ab00-0a9f4968bc68 ]] \r\n",
       "@enduml\r\n",
       "\n",
       "PlantUML version 1.2020.13(Sat Jun 13 12:26:38 UTC 2020)\n",
       "(EPL source distribution)\n",
       "Java Runtime: OpenJDK Runtime Environment\n",
       "JVM: OpenJDK 64-Bit Server VM\n",
       "Default Encoding: UTF-8\n",
       "Language: en\n",
       "Country: null\n",
       "--></g></svg>"
      ]
     },
     "execution_count": 37,
     "metadata": {},
     "output_type": "execute_result"
    }
   ],
   "source": [
    "%viz --style=\"DEFAULT\" --view=\"Default\" \"AliasImport\""
   ]
  },
  {
   "cell_type": "code",
   "execution_count": 38,
   "id": "b097782f",
   "metadata": {
    "execution": {
     "iopub.execute_input": "2022-03-03T09:59:08.289438Z",
     "iopub.status.busy": "2022-03-03T09:59:08.289039Z",
     "iopub.status.idle": "2022-03-03T09:59:08.311435Z",
     "shell.execute_reply": "2022-03-03T09:59:08.310147Z"
    }
   },
   "outputs": [
    {
     "data": {
      "image/svg+xml": [
       "<?xml version=\"1.0\" encoding=\"UTF-8\" standalone=\"no\"?><svg xmlns=\"http://www.w3.org/2000/svg\" xmlns:xlink=\"http://www.w3.org/1999/xlink\" contentScriptType=\"application/ecmascript\" contentStyleType=\"text/css\" height=\"360px\" preserveAspectRatio=\"none\" style=\"width:275px;height:360px;\" version=\"1.1\" viewBox=\"0 0 275 360\" width=\"275px\" zoomAndPan=\"magnify\"><defs/><g><!--MD5=[fbc87193dbaf4d95561dea2c320d4a47]\n",
       "cluster E1--><a href=\"psysml:a09df071-4715-4742-883e-cd73e8c4aa55\" target=\"_top\" title=\"psysml:a09df071-4715-4742-883e-cd73e8c4aa55\" xlink:actuate=\"onRequest\" xlink:href=\"psysml:a09df071-4715-4742-883e-cd73e8c4aa55\" xlink:show=\"new\" xlink:title=\"psysml:a09df071-4715-4742-883e-cd73e8c4aa55\" xlink:type=\"simple\"><polygon fill=\"#FFFFFF\" points=\"16,6,97,6,104,28.2969,253,28.2969,253,348,16,348,16,6\" style=\"stroke: #000000; stroke-width: 1.5;\"/><line style=\"stroke: #000000; stroke-width: 1.5;\" x1=\"16\" x2=\"104\" y1=\"28.2969\" y2=\"28.2969\"/><text fill=\"#000000\" font-family=\"sans-serif\" font-size=\"14\" font-weight=\"bold\" lengthAdjust=\"spacingAndGlyphs\" textLength=\"75\" x=\"20\" y=\"20.9951\">AliasImport</text></a><!--MD5=[e4f7fae6ed58524ba242bb0b0d3be6b7]\n",
       "cluster E2--><a href=\"psysml:9e891321-89ab-46bb-b178-ae51d516b5d5\" target=\"_top\" title=\"psysml:9e891321-89ab-46bb-b178-ae51d516b5d5\" xlink:actuate=\"onRequest\" xlink:href=\"psysml:9e891321-89ab-46bb-b178-ae51d516b5d5\" xlink:show=\"new\" xlink:title=\"psysml:9e891321-89ab-46bb-b178-ae51d516b5d5\" xlink:type=\"simple\"><polygon fill=\"#FFFFFF\" points=\"65,227,144,227,151,249.2969,167,249.2969,167,324,65,324,65,227\" style=\"stroke: #000000; stroke-width: 1.5;\"/><line style=\"stroke: #000000; stroke-width: 1.5;\" x1=\"65\" x2=\"151\" y1=\"249.2969\" y2=\"249.2969\"/><text fill=\"#000000\" font-family=\"sans-serif\" font-size=\"14\" font-weight=\"bold\" lengthAdjust=\"spacingAndGlyphs\" textLength=\"73\" x=\"69\" y=\"241.9951\">Definitions</text></a><!--MD5=[f6df4d0ebaf0b5dfb2ced0ae5af7c670]\n",
       "cluster E4--><a href=\"psysml:0357df57-b813-4001-8053-0943e42884ef\" target=\"_top\" title=\"psysml:0357df57-b813-4001-8053-0943e42884ef\" xlink:actuate=\"onRequest\" xlink:href=\"psysml:0357df57-b813-4001-8053-0943e42884ef\" xlink:show=\"new\" xlink:title=\"psysml:0357df57-b813-4001-8053-0943e42884ef\" xlink:type=\"simple\"><polygon fill=\"#FFFFFF\" points=\"48,57,106,57,113,79.2969,221,79.2969,221,170,48,170,48,57\" style=\"stroke: #000000; stroke-width: 1.5;\"/><line style=\"stroke: #000000; stroke-width: 1.5;\" x1=\"48\" x2=\"113\" y1=\"79.2969\" y2=\"79.2969\"/><text fill=\"#000000\" font-family=\"sans-serif\" font-size=\"14\" font-weight=\"bold\" lengthAdjust=\"spacingAndGlyphs\" textLength=\"52\" x=\"52\" y=\"71.9951\">Usages</text></a><!--MD5=[09b614a08d8cba4a07c9adeb5e0fee81]\n",
       "class E3--><a href=\"psysml:aed7d351-ec1f-43ef-9181-965f0e0fafe7\" target=\"_top\" title=\"psysml:aed7d351-ec1f-43ef-9181-965f0e0fafe7\" xlink:actuate=\"onRequest\" xlink:href=\"psysml:aed7d351-ec1f-43ef-9181-965f0e0fafe7\" xlink:show=\"new\" xlink:title=\"psysml:aed7d351-ec1f-43ef-9181-965f0e0fafe7\" xlink:type=\"simple\"><rect fill=\"#FFFFFF\" height=\"45.9375\" id=\"E3\" style=\"stroke: #383838; stroke-width: 1.5;\" width=\"70\" x=\"81\" y=\"262\"/><text fill=\"#000000\" font-family=\"sans-serif\" font-size=\"12\" font-style=\"italic\" lengthAdjust=\"spacingAndGlyphs\" textLength=\"68\" x=\"82\" y=\"278.1387\">«part  def»</text><text fill=\"#000000\" font-family=\"sans-serif\" font-size=\"12\" lengthAdjust=\"spacingAndGlyphs\" textLength=\"45\" x=\"93.5\" y=\"292.1074\">Vehicle</text><line style=\"stroke: #383838; stroke-width: 1.5;\" x1=\"82\" x2=\"150\" y1=\"299.9375\" y2=\"299.9375\"/></a><!--MD5=[270fce915f116d4de14055a7c1d9a0f3]\n",
       "class E5--><a href=\"psysml:9c4f7a54-8ea6-458e-b6c7-855d1197e506\" target=\"_top\" title=\"psysml:9c4f7a54-8ea6-458e-b6c7-855d1197e506\" xlink:actuate=\"onRequest\" xlink:href=\"psysml:9c4f7a54-8ea6-458e-b6c7-855d1197e506\" xlink:show=\"new\" xlink:title=\"psysml:9c4f7a54-8ea6-458e-b6c7-855d1197e506\" xlink:type=\"simple\"><rect fill=\"#FFFFFF\" height=\"45.9375\" id=\"E5\" rx=\"10\" ry=\"10\" style=\"stroke: #383838; stroke-width: 1.5;\" width=\"106\" x=\"91\" y=\"100\"/><text fill=\"#000000\" font-family=\"sans-serif\" font-size=\"12\" font-style=\"italic\" lengthAdjust=\"spacingAndGlyphs\" textLength=\"40\" x=\"124\" y=\"116.1387\">«part»</text><text fill=\"#000000\" font-family=\"sans-serif\" font-size=\"12\" lengthAdjust=\"spacingAndGlyphs\" textLength=\"96\" x=\"94\" y=\"130.1074\">vehicle: Vehicle</text><line style=\"stroke: #383838; stroke-width: 1.5;\" x1=\"92\" x2=\"196\" y1=\"137.9375\" y2=\"137.9375\"/></a><!--MD5=[f0cdf4548168e5211fb3a02bf679d63a]\n",
       "link E4 to E3--><a href=\"psysml:b99e9f78-77ea-4cdc-866d-b9796624c080\" target=\"_top\" title=\"psysml:b99e9f78-77ea-4cdc-866d-b9796624c080\" xlink:actuate=\"onRequest\" xlink:href=\"psysml:b99e9f78-77ea-4cdc-866d-b9796624c080\" xlink:show=\"new\" xlink:title=\"psysml:b99e9f78-77ea-4cdc-866d-b9796624c080\" xlink:type=\"simple\"><path d=\"M58.5005,170.0549 C58.5193,170.2001 58.5383,170.3454 58.5574,170.4908 C58.6338,171.0725 58.7124,171.6562 58.7932,172.2415 C58.9548,173.4122 59.1253,174.5898 59.3052,175.7725 C59.6651,178.1379 60.0625,180.5238 60.5014,182.9158 C62.2569,192.4838 64.675,202.15 68,211 C74.23,227.58 84.77,244.23 94.38,257.43 \" fill=\"none\" id=\"E4-&gt;E3\" style=\"stroke: #383838; stroke-width: 1.0; stroke-dasharray: 7.0,7.0;\"/><polygon fill=\"#383838\" points=\"97.6,261.77,95.4384,252.1613,94.616,257.758,89.0193,256.9357,97.6,261.77\" style=\"stroke: #383838; stroke-width: 1.0;\"/><text fill=\"#000000\" font-family=\"sans-serif\" font-size=\"13\" lengthAdjust=\"spacingAndGlyphs\" textLength=\"58\" x=\"69\" y=\"207.0669\">«import»</text></a><!--MD5=[e9be52314489bd878ff4c7144b63c9e1]\n",
       "link E5 to E3--><a href=\"psysml:c70856ba-dfdd-4aff-ab00-0a9f4968bc68\" target=\"_top\" title=\"psysml:c70856ba-dfdd-4aff-ab00-0a9f4968bc68\" xlink:actuate=\"onRequest\" xlink:href=\"psysml:c70856ba-dfdd-4aff-ab00-0a9f4968bc68\" xlink:show=\"new\" xlink:title=\"psysml:c70856ba-dfdd-4aff-ab00-0a9f4968bc68\" xlink:type=\"simple\"><path d=\"M143.03,146.32 C142,163.98 139.95,189.21 136,211 C134.13,221.29 131.49,232.23 128.74,242.43 \" fill=\"none\" id=\"E5-&gt;E3\" style=\"stroke: #383838; stroke-width: 1.0;\"/><polygon fill=\"#FFFFFF\" points=\"123.15,261.87,121.6727,241.6755,135.1276,245.544,123.15,261.87\" style=\"stroke: #383838; stroke-width: 1.0;\"/><ellipse cx=\"125.1699\" cy=\"236.7501\" fill=\"#383838\" rx=\"2\" ry=\"2\" style=\"stroke: #383838; stroke-width: 1.0;\"/><ellipse cx=\"134.7805\" cy=\"239.5133\" fill=\"#383838\" rx=\"2\" ry=\"2\" style=\"stroke: #383838; stroke-width: 1.0;\"/></a><!--MD5=[28737ebfea7c979639b166d4e1db8cf9]\n",
       "@startuml\r\n",
       "skinparam monochrome true\r\n",
       "skinparam classbackgroundcolor white\r\n",
       "skinparam shadowing false\r\n",
       "skinparam wrapWidth 300\r\n",
       "hide circle\r\n",
       "\r\n",
       "package \"AliasImport\" as E1  [[psysml:a09df071-4715-4742-883e-cd73e8c4aa55 ]]  {\r\n",
       "package \"Definitions\" as E2  [[psysml:9e891321-89ab-46bb-b178-ae51d516b5d5 ]]  {\r\n",
       "comp def \"Vehicle\" as E3  <<(T,blue) part  def>> [[psysml:aed7d351-ec1f-43ef-9181-965f0e0fafe7 ]] {\r\n",
       "}\r\n",
       "}\r\n",
       "package \"Usages\" as E4  [[psysml:0357df57-b813-4001-8053-0943e42884ef ]]  {\r\n",
       "comp usage \"vehicle: Vehicle \" as E5  <<(T,blue) part>> [[psysml:9c4f7a54-8ea6-458e-b6c7-855d1197e506 ]] {\r\n",
       "}\r\n",
       "}\r\n",
       "}\r\n",
       "E4 ..> E3 [[psysml:b99e9f78-77ea-4cdc-866d-b9796624c080 ]] : <<import>>\r\n",
       "E5 - -:|> E3 [[psysml:c70856ba-dfdd-4aff-ab00-0a9f4968bc68 ]] \r\n",
       "@enduml\r\n",
       "\n",
       "PlantUML version 1.2020.13(Sat Jun 13 12:26:38 UTC 2020)\n",
       "(EPL source distribution)\n",
       "Java Runtime: OpenJDK Runtime Environment\n",
       "JVM: OpenJDK 64-Bit Server VM\n",
       "Default Encoding: UTF-8\n",
       "Language: en\n",
       "Country: null\n",
       "--></g></svg>"
      ]
     },
     "execution_count": 38,
     "metadata": {},
     "output_type": "execute_result"
    }
   ],
   "source": [
    "%viz --style=\"DEFAULT\" --view=\"Tree\" \"AliasImport\""
   ]
  },
  {
   "cell_type": "code",
   "execution_count": 39,
   "id": "2277e4bd",
   "metadata": {
    "execution": {
     "iopub.execute_input": "2022-03-03T09:59:08.361373Z",
     "iopub.status.busy": "2022-03-03T09:59:08.360952Z",
     "iopub.status.idle": "2022-03-03T09:59:08.365948Z",
     "shell.execute_reply": "2022-03-03T09:59:08.365614Z"
    }
   },
   "outputs": [
    {
     "data": {
      "image/svg+xml": [
       "<?xml version=\"1.0\" encoding=\"UTF-8\" standalone=\"no\"?><svg xmlns=\"http://www.w3.org/2000/svg\" xmlns:xlink=\"http://www.w3.org/1999/xlink\" contentScriptType=\"application/ecmascript\" contentStyleType=\"text/css\" height=\"12px\" preserveAspectRatio=\"none\" style=\"width:12px;height:12px;\" version=\"1.1\" viewBox=\"0 0 12 12\" width=\"12px\" zoomAndPan=\"magnify\"><defs/><g><!--MD5=[c5f280e076d0d61ccf4b0f27871bda1d]\n",
       "@startuml\r\n",
       "skinparam monochrome true\r\n",
       "skinparam classbackgroundcolor white\r\n",
       "skinparam shadowing false\r\n",
       "skinparam wrapWidth 300\r\n",
       "hide circle\r\n",
       "\r\n",
       "@enduml\r\n",
       "\n",
       "PlantUML version 1.2020.13(Sat Jun 13 12:26:38 UTC 2020)\n",
       "(EPL source distribution)\n",
       "Java Runtime: OpenJDK Runtime Environment\n",
       "JVM: OpenJDK 64-Bit Server VM\n",
       "Default Encoding: UTF-8\n",
       "Language: en\n",
       "Country: null\n",
       "--></g></svg>"
      ]
     },
     "execution_count": 39,
     "metadata": {},
     "output_type": "execute_result"
    }
   ],
   "source": [
    "%viz --style=\"DEFAULT\" --view=\"State\" \"AliasImport\""
   ]
  },
  {
   "cell_type": "code",
   "execution_count": 40,
   "id": "d1f8cf7e",
   "metadata": {
    "execution": {
     "iopub.execute_input": "2022-03-03T09:59:08.415907Z",
     "iopub.status.busy": "2022-03-03T09:59:08.415492Z",
     "iopub.status.idle": "2022-03-03T09:59:08.441803Z",
     "shell.execute_reply": "2022-03-03T09:59:08.440501Z"
    }
   },
   "outputs": [
    {
     "data": {
      "image/svg+xml": [
       "<?xml version=\"1.0\" encoding=\"UTF-8\" standalone=\"no\"?><svg xmlns=\"http://www.w3.org/2000/svg\" xmlns:xlink=\"http://www.w3.org/1999/xlink\" contentScriptType=\"application/ecmascript\" contentStyleType=\"text/css\" height=\"351px\" preserveAspectRatio=\"none\" style=\"width:302px;height:351px;\" version=\"1.1\" viewBox=\"0 0 302 351\" width=\"302px\" zoomAndPan=\"magnify\"><defs/><g><!--MD5=[fbc87193dbaf4d95561dea2c320d4a47]\n",
       "cluster E1--><a href=\"psysml:a09df071-4715-4742-883e-cd73e8c4aa55\" target=\"_top\" title=\"psysml:a09df071-4715-4742-883e-cd73e8c4aa55\" xlink:actuate=\"onRequest\" xlink:href=\"psysml:a09df071-4715-4742-883e-cd73e8c4aa55\" xlink:show=\"new\" xlink:title=\"psysml:a09df071-4715-4742-883e-cd73e8c4aa55\" xlink:type=\"simple\"><polygon fill=\"#FFFFFF\" points=\"16,6,97,6,104,28.2969,280,28.2969,280,339,16,339,16,6\" style=\"stroke: #000000; stroke-width: 1.5;\"/><line style=\"stroke: #000000; stroke-width: 1.5;\" x1=\"16\" x2=\"104\" y1=\"28.2969\" y2=\"28.2969\"/><text fill=\"#000000\" font-family=\"sans-serif\" font-size=\"14\" font-weight=\"bold\" lengthAdjust=\"spacingAndGlyphs\" textLength=\"75\" x=\"20\" y=\"20.9951\">AliasImport</text></a><!--MD5=[e4f7fae6ed58524ba242bb0b0d3be6b7]\n",
       "cluster E2--><a href=\"psysml:9e891321-89ab-46bb-b178-ae51d516b5d5\" target=\"_top\" title=\"psysml:9e891321-89ab-46bb-b178-ae51d516b5d5\" xlink:actuate=\"onRequest\" xlink:href=\"psysml:9e891321-89ab-46bb-b178-ae51d516b5d5\" xlink:show=\"new\" xlink:title=\"psysml:9e891321-89ab-46bb-b178-ae51d516b5d5\" xlink:type=\"simple\"><polygon fill=\"#FFFFFF\" points=\"40,221,119,221,126,243.2969,256,243.2969,256,315,40,315,40,221\" style=\"stroke: #000000; stroke-width: 1.5;\"/><line style=\"stroke: #000000; stroke-width: 1.5;\" x1=\"40\" x2=\"126\" y1=\"243.2969\" y2=\"243.2969\"/><text fill=\"#000000\" font-family=\"sans-serif\" font-size=\"14\" font-weight=\"bold\" lengthAdjust=\"spacingAndGlyphs\" textLength=\"73\" x=\"44\" y=\"235.9951\">Definitions</text></a><!--MD5=[de5ec2e2e8f62f467e546659f5068c88]\n",
       "cluster E5--><a href=\"psysml:0357df57-b813-4001-8053-0943e42884ef\" target=\"_top\" title=\"psysml:0357df57-b813-4001-8053-0943e42884ef\" xlink:actuate=\"onRequest\" xlink:href=\"psysml:0357df57-b813-4001-8053-0943e42884ef\" xlink:show=\"new\" xlink:title=\"psysml:0357df57-b813-4001-8053-0943e42884ef\" xlink:type=\"simple\"><polygon fill=\"#FFFFFF\" points=\"74,57,132,57,139,79.2969,248,79.2969,248,164,74,164,74,57\" style=\"stroke: #000000; stroke-width: 1.5;\"/><line style=\"stroke: #000000; stroke-width: 1.5;\" x1=\"74\" x2=\"139\" y1=\"79.2969\" y2=\"79.2969\"/><text fill=\"#000000\" font-family=\"sans-serif\" font-size=\"14\" font-weight=\"bold\" lengthAdjust=\"spacingAndGlyphs\" textLength=\"52\" x=\"78\" y=\"71.9951\">Usages</text></a><g id=\"E1.E2.E3\"><a href=\"psysml:aed7d351-ec1f-43ef-9181-965f0e0fafe7\" target=\"_top\" title=\"psysml:aed7d351-ec1f-43ef-9181-965f0e0fafe7\" xlink:actuate=\"onRequest\" xlink:href=\"psysml:aed7d351-ec1f-43ef-9181-965f0e0fafe7\" xlink:show=\"new\" xlink:title=\"psysml:aed7d351-ec1f-43ef-9181-965f0e0fafe7\" xlink:type=\"simple\"><rect fill=\"#FFFFFF\" height=\"42.9375\" id=\"E3\" style=\"stroke: #383838; stroke-width: 1.5;\" width=\"75\" x=\"165.5\" y=\"256\"/><rect fill=\"#F8F8F8\" height=\"37.9375\" style=\"stroke: #383838; stroke-width: 1.5;\" width=\"75\" x=\"165.5\" y=\"256\"/><text fill=\"#000000\" font-family=\"sans-serif\" font-size=\"12\" font-style=\"italic\" lengthAdjust=\"spacingAndGlyphs\" textLength=\"68\" x=\"169\" y=\"272.1387\">«part  def»</text><text fill=\"#000000\" font-family=\"sans-serif\" font-size=\"12\" lengthAdjust=\"spacingAndGlyphs\" textLength=\"45\" x=\"180.5\" y=\"286.1074\">Vehicle</text></a></g><g id=\"E1.E2.E4\"><a href=\"psysml:aed7d351-ec1f-43ef-9181-965f0e0fafe7\" target=\"_top\" title=\"psysml:aed7d351-ec1f-43ef-9181-965f0e0fafe7\" xlink:actuate=\"onRequest\" xlink:href=\"psysml:aed7d351-ec1f-43ef-9181-965f0e0fafe7\" xlink:show=\"new\" xlink:title=\"psysml:aed7d351-ec1f-43ef-9181-965f0e0fafe7\" xlink:type=\"simple\"><rect fill=\"#FFFFFF\" height=\"42.9375\" id=\"E4\" style=\"stroke: #383838; stroke-width: 1.5;\" width=\"75\" x=\"55.5\" y=\"256\"/><rect fill=\"#F8F8F8\" height=\"37.9375\" style=\"stroke: #383838; stroke-width: 1.5;\" width=\"75\" x=\"55.5\" y=\"256\"/><text fill=\"#000000\" font-family=\"sans-serif\" font-size=\"12\" font-style=\"italic\" lengthAdjust=\"spacingAndGlyphs\" textLength=\"68\" x=\"59\" y=\"272.1387\">«part  def»</text><text fill=\"#000000\" font-family=\"sans-serif\" font-size=\"12\" lengthAdjust=\"spacingAndGlyphs\" textLength=\"45\" x=\"70.5\" y=\"286.1074\">Vehicle</text></a></g><g id=\"E1.E5.E6\"><a href=\"psysml:9c4f7a54-8ea6-458e-b6c7-855d1197e506\" target=\"_top\" title=\"psysml:9c4f7a54-8ea6-458e-b6c7-855d1197e506\" xlink:actuate=\"onRequest\" xlink:href=\"psysml:9c4f7a54-8ea6-458e-b6c7-855d1197e506\" xlink:show=\"new\" xlink:title=\"psysml:9c4f7a54-8ea6-458e-b6c7-855d1197e506\" xlink:type=\"simple\"><rect fill=\"#FFFFFF\" height=\"40\" id=\"E6\" rx=\"10\" ry=\"10\" style=\"stroke: #383838; stroke-width: 1.5;\" width=\"107\" x=\"117.5\" y=\"100\"/><rect fill=\"#F8F8F8\" height=\"23.9688\" rx=\"10\" ry=\"10\" style=\"stroke: #F8F8F8; stroke-width: 1.5;\" width=\"107\" x=\"117.5\" y=\"100\"/><rect fill=\"#F8F8F8\" height=\"10\" style=\"stroke: #F8F8F8; stroke-width: 1.5;\" width=\"107\" x=\"117.5\" y=\"113.9688\"/><rect fill=\"none\" height=\"40\" id=\"E6\" rx=\"10\" ry=\"10\" style=\"stroke: #383838; stroke-width: 1.5;\" width=\"107\" x=\"117.5\" y=\"100\"/><text fill=\"#000000\" font-family=\"sans-serif\" font-size=\"12\" lengthAdjust=\"spacingAndGlyphs\" textLength=\"96\" x=\"123\" y=\"116.1387\">vehicle: Vehicle</text></a></g><!--MD5=[1c62de2aa5b76f0fb657ff8443a1a700]\n",
       "link E5 to E4--><a href=\"psysml:b99e9f78-77ea-4cdc-866d-b9796624c080\" target=\"_top\" title=\"psysml:b99e9f78-77ea-4cdc-866d-b9796624c080\" xlink:actuate=\"onRequest\" xlink:href=\"psysml:b99e9f78-77ea-4cdc-866d-b9796624c080\" xlink:show=\"new\" xlink:title=\"psysml:b99e9f78-77ea-4cdc-866d-b9796624c080\" xlink:type=\"simple\"><path d=\"M85.0613,164.274 C85.0754,164.474 85.0896,164.6743 85.1038,164.8751 C85.1322,165.2765 85.1608,165.6795 85.1894,166.0839 C85.3039,167.7016 85.42,169.3423 85.5375,171.0025 C87.4175,197.565 89.65,229.1 91.18,250.73 \" fill=\"none\" id=\"E5-&gt;E4\" style=\"stroke: #383838; stroke-width: 1.0; stroke-dasharray: 7.0,7.0;\"/><polygon fill=\"#383838\" points=\"91.54,255.81,94.8867,246.5472,91.1827,250.8228,86.9072,247.1188,91.54,255.81\" style=\"stroke: #383838; stroke-width: 1.0;\"/><text fill=\"#000000\" font-family=\"sans-serif\" font-size=\"13\" lengthAdjust=\"spacingAndGlyphs\" textLength=\"58\" x=\"88\" y=\"201.0669\">«import»</text></a><!--MD5=[37b667087e4811404a43eb42ce73267a]\n",
       "@startuml\r\n",
       "skinparam ranksep 10\r\n",
       "skinparam rectangle {\r\n",
       " backgroundColor<<block>> LightGreen\r\n",
       "}\r\n",
       "skinparam monochrome true\r\n",
       "skinparam classbackgroundcolor white\r\n",
       "skinparam shadowing false\r\n",
       "skinparam wrapWidth 300\r\n",
       "hide circle\r\n",
       "\r\n",
       "package \"AliasImport\" as E1  [[psysml:a09df071-4715-4742-883e-cd73e8c4aa55 ]]  {\r\n",
       "package \"Definitions\" as E2  [[psysml:9e891321-89ab-46bb-b178-ae51d516b5d5 ]]  {\r\n",
       "rec def \"Vehicle\" as E3  <<(T,blue) part  def>> [[psysml:aed7d351-ec1f-43ef-9181-965f0e0fafe7 ]] {\r\n",
       "}\r\n",
       "rec def \"Vehicle\" as E4  <<(T,blue) part  def>> [[psysml:aed7d351-ec1f-43ef-9181-965f0e0fafe7 ]] {\r\n",
       "}\r\n",
       "}\r\n",
       "package \"Usages\" as E5  [[psysml:0357df57-b813-4001-8053-0943e42884ef ]]  {\r\n",
       "rec usage \"vehicle: Vehicle\" as E6  [[psysml:9c4f7a54-8ea6-458e-b6c7-855d1197e506 ]] {\r\n",
       "}\r\n",
       "}\r\n",
       "}\r\n",
       "E5 ..> E4 [[psysml:b99e9f78-77ea-4cdc-866d-b9796624c080 ]] : <<import>>\r\n",
       "@enduml\r\n",
       "\n",
       "PlantUML version 1.2020.13(Sat Jun 13 12:26:38 UTC 2020)\n",
       "(EPL source distribution)\n",
       "Java Runtime: OpenJDK Runtime Environment\n",
       "JVM: OpenJDK 64-Bit Server VM\n",
       "Default Encoding: UTF-8\n",
       "Language: en\n",
       "Country: null\n",
       "--></g></svg>"
      ]
     },
     "execution_count": 40,
     "metadata": {},
     "output_type": "execute_result"
    }
   ],
   "source": [
    "%viz --style=\"DEFAULT\" --view=\"Interconnection\" \"AliasImport\""
   ]
  },
  {
   "cell_type": "code",
   "execution_count": 41,
   "id": "844a6a75",
   "metadata": {
    "execution": {
     "iopub.execute_input": "2022-03-03T09:59:08.491254Z",
     "iopub.status.busy": "2022-03-03T09:59:08.490851Z",
     "iopub.status.idle": "2022-03-03T09:59:08.494484Z",
     "shell.execute_reply": "2022-03-03T09:59:08.494102Z"
    }
   },
   "outputs": [
    {
     "data": {
      "image/svg+xml": [
       "<?xml version=\"1.0\" encoding=\"UTF-8\" standalone=\"no\"?><svg xmlns=\"http://www.w3.org/2000/svg\" xmlns:xlink=\"http://www.w3.org/1999/xlink\" contentScriptType=\"application/ecmascript\" contentStyleType=\"text/css\" height=\"12px\" preserveAspectRatio=\"none\" style=\"width:12px;height:12px;\" version=\"1.1\" viewBox=\"0 0 12 12\" width=\"12px\" zoomAndPan=\"magnify\"><defs/><g><!--MD5=[388f21188e31bfdd97050473b19af356]\n",
       "@startuml\r\n",
       "skinparam ranksep 8\r\n",
       "skinparam monochrome true\r\n",
       "skinparam classbackgroundcolor white\r\n",
       "skinparam shadowing false\r\n",
       "skinparam wrapWidth 300\r\n",
       "hide circle\r\n",
       "\r\n",
       "@enduml\r\n",
       "\n",
       "PlantUML version 1.2020.13(Sat Jun 13 12:26:38 UTC 2020)\n",
       "(EPL source distribution)\n",
       "Java Runtime: OpenJDK Runtime Environment\n",
       "JVM: OpenJDK 64-Bit Server VM\n",
       "Default Encoding: UTF-8\n",
       "Language: en\n",
       "Country: null\n",
       "--></g></svg>"
      ]
     },
     "execution_count": 41,
     "metadata": {},
     "output_type": "execute_result"
    }
   ],
   "source": [
    "%viz --style=\"DEFAULT\" --view=\"Action\" \"AliasImport\""
   ]
  },
  {
   "cell_type": "code",
   "execution_count": 42,
   "id": "02cd3b96",
   "metadata": {
    "execution": {
     "iopub.execute_input": "2022-03-03T09:59:08.544329Z",
     "iopub.status.busy": "2022-03-03T09:59:08.543928Z",
     "iopub.status.idle": "2022-03-03T09:59:08.548067Z",
     "shell.execute_reply": "2022-03-03T09:59:08.547720Z"
    }
   },
   "outputs": [
    {
     "data": {
      "image/svg+xml": [
       "<?xml version=\"1.0\" encoding=\"UTF-8\" standalone=\"no\"?><svg xmlns=\"http://www.w3.org/2000/svg\" xmlns:xlink=\"http://www.w3.org/1999/xlink\" contentScriptType=\"application/ecmascript\" contentStyleType=\"text/css\" height=\"12px\" preserveAspectRatio=\"none\" style=\"width:12px;height:12px;\" version=\"1.1\" viewBox=\"0 0 12 12\" width=\"12px\" zoomAndPan=\"magnify\"><defs/><g><!--MD5=[0b72472770326784bf6c2b53246e1e64]\n",
       "@startuml\r\n",
       "skinparam roundcorner 20\r\n",
       "skinparam BoxPadding 20\r\n",
       "skinparam SequenceBoxBackgroundColor #white\r\n",
       "skinparam style strictuml\r\n",
       "skinparam maxMessageSize 100\r\n",
       "skinparam monochrome true\r\n",
       "skinparam classbackgroundcolor white\r\n",
       "skinparam shadowing false\r\n",
       "skinparam wrapWidth 300\r\n",
       "hide circle\r\n",
       "\r\n",
       "@enduml\r\n",
       "\n",
       "PlantUML version 1.2020.13(Sat Jun 13 12:26:38 UTC 2020)\n",
       "(EPL source distribution)\n",
       "Java Runtime: OpenJDK Runtime Environment\n",
       "JVM: OpenJDK 64-Bit Server VM\n",
       "Default Encoding: UTF-8\n",
       "Language: en\n",
       "Country: null\n",
       "--></g></svg>"
      ]
     },
     "execution_count": 42,
     "metadata": {},
     "output_type": "execute_result"
    }
   ],
   "source": [
    "%viz --style=\"DEFAULT\" --view=\"Sequence\" \"AliasImport\""
   ]
  },
  {
   "cell_type": "code",
   "execution_count": 43,
   "id": "f33efa13",
   "metadata": {
    "execution": {
     "iopub.execute_input": "2022-03-03T09:59:08.598140Z",
     "iopub.status.busy": "2022-03-03T09:59:08.597740Z",
     "iopub.status.idle": "2022-03-03T09:59:08.635121Z",
     "shell.execute_reply": "2022-03-03T09:59:08.633802Z"
    }
   },
   "outputs": [
    {
     "data": {
      "image/svg+xml": [
       "<?xml version=\"1.0\" encoding=\"UTF-8\" standalone=\"no\"?><svg xmlns=\"http://www.w3.org/2000/svg\" xmlns:xlink=\"http://www.w3.org/1999/xlink\" contentScriptType=\"application/ecmascript\" contentStyleType=\"text/css\" height=\"360px\" preserveAspectRatio=\"none\" style=\"width:275px;height:360px;\" version=\"1.1\" viewBox=\"0 0 275 360\" width=\"275px\" zoomAndPan=\"magnify\"><defs/><g><!--MD5=[fbc87193dbaf4d95561dea2c320d4a47]\n",
       "cluster E1--><a href=\"psysml:a09df071-4715-4742-883e-cd73e8c4aa55\" target=\"_top\" title=\"psysml:a09df071-4715-4742-883e-cd73e8c4aa55\" xlink:actuate=\"onRequest\" xlink:href=\"psysml:a09df071-4715-4742-883e-cd73e8c4aa55\" xlink:show=\"new\" xlink:title=\"psysml:a09df071-4715-4742-883e-cd73e8c4aa55\" xlink:type=\"simple\"><polygon fill=\"#FFFFFF\" points=\"16,6,97,6,104,28.2969,253,28.2969,253,348,16,348,16,6\" style=\"stroke: #000000; stroke-width: 1.5;\"/><line style=\"stroke: #000000; stroke-width: 1.5;\" x1=\"16\" x2=\"104\" y1=\"28.2969\" y2=\"28.2969\"/><text fill=\"#000000\" font-family=\"sans-serif\" font-size=\"14\" font-weight=\"bold\" lengthAdjust=\"spacingAndGlyphs\" textLength=\"75\" x=\"20\" y=\"20.9951\">AliasImport</text></a><!--MD5=[e4f7fae6ed58524ba242bb0b0d3be6b7]\n",
       "cluster E2--><a href=\"psysml:9e891321-89ab-46bb-b178-ae51d516b5d5\" target=\"_top\" title=\"psysml:9e891321-89ab-46bb-b178-ae51d516b5d5\" xlink:actuate=\"onRequest\" xlink:href=\"psysml:9e891321-89ab-46bb-b178-ae51d516b5d5\" xlink:show=\"new\" xlink:title=\"psysml:9e891321-89ab-46bb-b178-ae51d516b5d5\" xlink:type=\"simple\"><polygon fill=\"#FFFFFF\" points=\"65,227,144,227,151,249.2969,167,249.2969,167,324,65,324,65,227\" style=\"stroke: #000000; stroke-width: 1.5;\"/><line style=\"stroke: #000000; stroke-width: 1.5;\" x1=\"65\" x2=\"151\" y1=\"249.2969\" y2=\"249.2969\"/><text fill=\"#000000\" font-family=\"sans-serif\" font-size=\"14\" font-weight=\"bold\" lengthAdjust=\"spacingAndGlyphs\" textLength=\"73\" x=\"69\" y=\"241.9951\">Definitions</text></a><!--MD5=[f6df4d0ebaf0b5dfb2ced0ae5af7c670]\n",
       "cluster E4--><a href=\"psysml:0357df57-b813-4001-8053-0943e42884ef\" target=\"_top\" title=\"psysml:0357df57-b813-4001-8053-0943e42884ef\" xlink:actuate=\"onRequest\" xlink:href=\"psysml:0357df57-b813-4001-8053-0943e42884ef\" xlink:show=\"new\" xlink:title=\"psysml:0357df57-b813-4001-8053-0943e42884ef\" xlink:type=\"simple\"><polygon fill=\"#FFFFFF\" points=\"48,57,106,57,113,79.2969,221,79.2969,221,170,48,170,48,57\" style=\"stroke: #000000; stroke-width: 1.5;\"/><line style=\"stroke: #000000; stroke-width: 1.5;\" x1=\"48\" x2=\"113\" y1=\"79.2969\" y2=\"79.2969\"/><text fill=\"#000000\" font-family=\"sans-serif\" font-size=\"14\" font-weight=\"bold\" lengthAdjust=\"spacingAndGlyphs\" textLength=\"52\" x=\"52\" y=\"71.9951\">Usages</text></a><!--MD5=[09b614a08d8cba4a07c9adeb5e0fee81]\n",
       "class E3--><a href=\"psysml:aed7d351-ec1f-43ef-9181-965f0e0fafe7\" target=\"_top\" title=\"psysml:aed7d351-ec1f-43ef-9181-965f0e0fafe7\" xlink:actuate=\"onRequest\" xlink:href=\"psysml:aed7d351-ec1f-43ef-9181-965f0e0fafe7\" xlink:show=\"new\" xlink:title=\"psysml:aed7d351-ec1f-43ef-9181-965f0e0fafe7\" xlink:type=\"simple\"><rect fill=\"#FFFFFF\" height=\"45.9375\" id=\"E3\" style=\"stroke: #383838; stroke-width: 1.5;\" width=\"70\" x=\"81\" y=\"262\"/><text fill=\"#000000\" font-family=\"sans-serif\" font-size=\"12\" font-style=\"italic\" lengthAdjust=\"spacingAndGlyphs\" textLength=\"68\" x=\"82\" y=\"278.1387\">«part  def»</text><text fill=\"#000000\" font-family=\"sans-serif\" font-size=\"12\" lengthAdjust=\"spacingAndGlyphs\" textLength=\"45\" x=\"93.5\" y=\"292.1074\">Vehicle</text><line style=\"stroke: #383838; stroke-width: 1.5;\" x1=\"82\" x2=\"150\" y1=\"299.9375\" y2=\"299.9375\"/></a><!--MD5=[270fce915f116d4de14055a7c1d9a0f3]\n",
       "class E5--><a href=\"psysml:9c4f7a54-8ea6-458e-b6c7-855d1197e506\" target=\"_top\" title=\"psysml:9c4f7a54-8ea6-458e-b6c7-855d1197e506\" xlink:actuate=\"onRequest\" xlink:href=\"psysml:9c4f7a54-8ea6-458e-b6c7-855d1197e506\" xlink:show=\"new\" xlink:title=\"psysml:9c4f7a54-8ea6-458e-b6c7-855d1197e506\" xlink:type=\"simple\"><rect fill=\"#FFFFFF\" height=\"45.9375\" id=\"E5\" rx=\"10\" ry=\"10\" style=\"stroke: #383838; stroke-width: 1.5;\" width=\"106\" x=\"91\" y=\"100\"/><text fill=\"#000000\" font-family=\"sans-serif\" font-size=\"12\" font-style=\"italic\" lengthAdjust=\"spacingAndGlyphs\" textLength=\"40\" x=\"124\" y=\"116.1387\">«part»</text><text fill=\"#000000\" font-family=\"sans-serif\" font-size=\"12\" lengthAdjust=\"spacingAndGlyphs\" textLength=\"96\" x=\"94\" y=\"130.1074\">vehicle: Vehicle</text><line style=\"stroke: #383838; stroke-width: 1.5;\" x1=\"92\" x2=\"196\" y1=\"137.9375\" y2=\"137.9375\"/></a><!--MD5=[f0cdf4548168e5211fb3a02bf679d63a]\n",
       "link E4 to E3--><a href=\"psysml:b99e9f78-77ea-4cdc-866d-b9796624c080\" target=\"_top\" title=\"psysml:b99e9f78-77ea-4cdc-866d-b9796624c080\" xlink:actuate=\"onRequest\" xlink:href=\"psysml:b99e9f78-77ea-4cdc-866d-b9796624c080\" xlink:show=\"new\" xlink:title=\"psysml:b99e9f78-77ea-4cdc-866d-b9796624c080\" xlink:type=\"simple\"><path d=\"M58.5005,170.0549 C58.5193,170.2001 58.5383,170.3454 58.5574,170.4908 C58.6338,171.0725 58.7124,171.6562 58.7932,172.2415 C58.9548,173.4122 59.1253,174.5898 59.3052,175.7725 C59.6651,178.1379 60.0625,180.5238 60.5014,182.9158 C62.2569,192.4838 64.675,202.15 68,211 C74.23,227.58 84.77,244.23 94.38,257.43 \" fill=\"none\" id=\"E4-&gt;E3\" style=\"stroke: #383838; stroke-width: 1.0; stroke-dasharray: 7.0,7.0;\"/><polygon fill=\"#383838\" points=\"97.6,261.77,95.4384,252.1613,94.616,257.758,89.0193,256.9357,97.6,261.77\" style=\"stroke: #383838; stroke-width: 1.0;\"/><text fill=\"#000000\" font-family=\"sans-serif\" font-size=\"13\" lengthAdjust=\"spacingAndGlyphs\" textLength=\"58\" x=\"69\" y=\"207.0669\">«import»</text></a><!--MD5=[e9be52314489bd878ff4c7144b63c9e1]\n",
       "link E5 to E3--><a href=\"psysml:c70856ba-dfdd-4aff-ab00-0a9f4968bc68\" target=\"_top\" title=\"psysml:c70856ba-dfdd-4aff-ab00-0a9f4968bc68\" xlink:actuate=\"onRequest\" xlink:href=\"psysml:c70856ba-dfdd-4aff-ab00-0a9f4968bc68\" xlink:show=\"new\" xlink:title=\"psysml:c70856ba-dfdd-4aff-ab00-0a9f4968bc68\" xlink:type=\"simple\"><path d=\"M143.03,146.32 C142,163.98 139.95,189.21 136,211 C134.13,221.29 131.49,232.23 128.74,242.43 \" fill=\"none\" id=\"E5-&gt;E3\" style=\"stroke: #383838; stroke-width: 1.0;\"/><polygon fill=\"#FFFFFF\" points=\"123.15,261.87,121.6727,241.6755,135.1276,245.544,123.15,261.87\" style=\"stroke: #383838; stroke-width: 1.0;\"/><ellipse cx=\"125.1699\" cy=\"236.7501\" fill=\"#383838\" rx=\"2\" ry=\"2\" style=\"stroke: #383838; stroke-width: 1.0;\"/><ellipse cx=\"134.7805\" cy=\"239.5133\" fill=\"#383838\" rx=\"2\" ry=\"2\" style=\"stroke: #383838; stroke-width: 1.0;\"/></a><!--MD5=[28737ebfea7c979639b166d4e1db8cf9]\n",
       "@startuml\r\n",
       "skinparam monochrome true\r\n",
       "skinparam classbackgroundcolor white\r\n",
       "skinparam shadowing false\r\n",
       "skinparam wrapWidth 300\r\n",
       "hide circle\r\n",
       "\r\n",
       "package \"AliasImport\" as E1  [[psysml:a09df071-4715-4742-883e-cd73e8c4aa55 ]]  {\r\n",
       "package \"Definitions\" as E2  [[psysml:9e891321-89ab-46bb-b178-ae51d516b5d5 ]]  {\r\n",
       "comp def \"Vehicle\" as E3  <<(T,blue) part  def>> [[psysml:aed7d351-ec1f-43ef-9181-965f0e0fafe7 ]] {\r\n",
       "}\r\n",
       "}\r\n",
       "package \"Usages\" as E4  [[psysml:0357df57-b813-4001-8053-0943e42884ef ]]  {\r\n",
       "comp usage \"vehicle: Vehicle \" as E5  <<(T,blue) part>> [[psysml:9c4f7a54-8ea6-458e-b6c7-855d1197e506 ]] {\r\n",
       "}\r\n",
       "}\r\n",
       "}\r\n",
       "E4 ..> E3 [[psysml:b99e9f78-77ea-4cdc-866d-b9796624c080 ]] : <<import>>\r\n",
       "E5 - -:|> E3 [[psysml:c70856ba-dfdd-4aff-ab00-0a9f4968bc68 ]] \r\n",
       "@enduml\r\n",
       "\n",
       "PlantUML version 1.2020.13(Sat Jun 13 12:26:38 UTC 2020)\n",
       "(EPL source distribution)\n",
       "Java Runtime: OpenJDK Runtime Environment\n",
       "JVM: OpenJDK 64-Bit Server VM\n",
       "Default Encoding: UTF-8\n",
       "Language: en\n",
       "Country: null\n",
       "--></g></svg>"
      ]
     },
     "execution_count": 43,
     "metadata": {},
     "output_type": "execute_result"
    }
   ],
   "source": [
    "%viz --style=\"DEFAULT\" --view=\"MIXED\" \"AliasImport\""
   ]
  },
  {
   "cell_type": "code",
   "execution_count": 44,
   "id": "ac2664fc",
   "metadata": {
    "execution": {
     "iopub.execute_input": "2022-03-03T09:59:08.684542Z",
     "iopub.status.busy": "2022-03-03T09:59:08.684141Z",
     "iopub.status.idle": "2022-03-03T09:59:08.712262Z",
     "shell.execute_reply": "2022-03-03T09:59:08.710930Z"
    }
   },
   "outputs": [
    {
     "data": {
      "image/svg+xml": [
       "<?xml version=\"1.0\" encoding=\"UTF-8\" standalone=\"no\"?><svg xmlns=\"http://www.w3.org/2000/svg\" xmlns:xlink=\"http://www.w3.org/1999/xlink\" contentScriptType=\"application/ecmascript\" contentStyleType=\"text/css\" height=\"360px\" preserveAspectRatio=\"none\" style=\"width:275px;height:360px;\" version=\"1.1\" viewBox=\"0 0 275 360\" width=\"275px\" zoomAndPan=\"magnify\"><defs/><g><!--MD5=[fbc87193dbaf4d95561dea2c320d4a47]\n",
       "cluster E1--><a href=\"psysml:a09df071-4715-4742-883e-cd73e8c4aa55\" target=\"_top\" title=\"psysml:a09df071-4715-4742-883e-cd73e8c4aa55\" xlink:actuate=\"onRequest\" xlink:href=\"psysml:a09df071-4715-4742-883e-cd73e8c4aa55\" xlink:show=\"new\" xlink:title=\"psysml:a09df071-4715-4742-883e-cd73e8c4aa55\" xlink:type=\"simple\"><polygon fill=\"#FFFFFF\" points=\"16,6,97,6,104,28.2969,253,28.2969,253,348,16,348,16,6\" style=\"stroke: #000000; stroke-width: 1.5;\"/><line style=\"stroke: #000000; stroke-width: 1.5;\" x1=\"16\" x2=\"104\" y1=\"28.2969\" y2=\"28.2969\"/><text fill=\"#000000\" font-family=\"sans-serif\" font-size=\"14\" font-weight=\"bold\" lengthAdjust=\"spacingAndGlyphs\" textLength=\"75\" x=\"20\" y=\"20.9951\">AliasImport</text></a><!--MD5=[e4f7fae6ed58524ba242bb0b0d3be6b7]\n",
       "cluster E2--><a href=\"psysml:9e891321-89ab-46bb-b178-ae51d516b5d5\" target=\"_top\" title=\"psysml:9e891321-89ab-46bb-b178-ae51d516b5d5\" xlink:actuate=\"onRequest\" xlink:href=\"psysml:9e891321-89ab-46bb-b178-ae51d516b5d5\" xlink:show=\"new\" xlink:title=\"psysml:9e891321-89ab-46bb-b178-ae51d516b5d5\" xlink:type=\"simple\"><polygon fill=\"#FFFFFF\" points=\"65,227,144,227,151,249.2969,167,249.2969,167,324,65,324,65,227\" style=\"stroke: #000000; stroke-width: 1.5;\"/><line style=\"stroke: #000000; stroke-width: 1.5;\" x1=\"65\" x2=\"151\" y1=\"249.2969\" y2=\"249.2969\"/><text fill=\"#000000\" font-family=\"sans-serif\" font-size=\"14\" font-weight=\"bold\" lengthAdjust=\"spacingAndGlyphs\" textLength=\"73\" x=\"69\" y=\"241.9951\">Definitions</text></a><!--MD5=[f6df4d0ebaf0b5dfb2ced0ae5af7c670]\n",
       "cluster E4--><a href=\"psysml:0357df57-b813-4001-8053-0943e42884ef\" target=\"_top\" title=\"psysml:0357df57-b813-4001-8053-0943e42884ef\" xlink:actuate=\"onRequest\" xlink:href=\"psysml:0357df57-b813-4001-8053-0943e42884ef\" xlink:show=\"new\" xlink:title=\"psysml:0357df57-b813-4001-8053-0943e42884ef\" xlink:type=\"simple\"><polygon fill=\"#FFFFFF\" points=\"48,57,106,57,113,79.2969,221,79.2969,221,170,48,170,48,57\" style=\"stroke: #000000; stroke-width: 1.5;\"/><line style=\"stroke: #000000; stroke-width: 1.5;\" x1=\"48\" x2=\"113\" y1=\"79.2969\" y2=\"79.2969\"/><text fill=\"#000000\" font-family=\"sans-serif\" font-size=\"14\" font-weight=\"bold\" lengthAdjust=\"spacingAndGlyphs\" textLength=\"52\" x=\"52\" y=\"71.9951\">Usages</text></a><!--MD5=[09b614a08d8cba4a07c9adeb5e0fee81]\n",
       "class E3--><a href=\"psysml:aed7d351-ec1f-43ef-9181-965f0e0fafe7\" target=\"_top\" title=\"psysml:aed7d351-ec1f-43ef-9181-965f0e0fafe7\" xlink:actuate=\"onRequest\" xlink:href=\"psysml:aed7d351-ec1f-43ef-9181-965f0e0fafe7\" xlink:show=\"new\" xlink:title=\"psysml:aed7d351-ec1f-43ef-9181-965f0e0fafe7\" xlink:type=\"simple\"><rect fill=\"#FFFFFF\" height=\"45.9375\" id=\"E3\" style=\"stroke: #383838; stroke-width: 1.5;\" width=\"70\" x=\"81\" y=\"262\"/><text fill=\"#000000\" font-family=\"sans-serif\" font-size=\"12\" font-style=\"italic\" lengthAdjust=\"spacingAndGlyphs\" textLength=\"68\" x=\"82\" y=\"278.1387\">«part  def»</text><text fill=\"#000000\" font-family=\"sans-serif\" font-size=\"12\" lengthAdjust=\"spacingAndGlyphs\" textLength=\"45\" x=\"93.5\" y=\"292.1074\">Vehicle</text><line style=\"stroke: #383838; stroke-width: 1.5;\" x1=\"82\" x2=\"150\" y1=\"299.9375\" y2=\"299.9375\"/></a><!--MD5=[270fce915f116d4de14055a7c1d9a0f3]\n",
       "class E5--><a href=\"psysml:9c4f7a54-8ea6-458e-b6c7-855d1197e506\" target=\"_top\" title=\"psysml:9c4f7a54-8ea6-458e-b6c7-855d1197e506\" xlink:actuate=\"onRequest\" xlink:href=\"psysml:9c4f7a54-8ea6-458e-b6c7-855d1197e506\" xlink:show=\"new\" xlink:title=\"psysml:9c4f7a54-8ea6-458e-b6c7-855d1197e506\" xlink:type=\"simple\"><rect fill=\"#FFFFFF\" height=\"45.9375\" id=\"E5\" rx=\"10\" ry=\"10\" style=\"stroke: #383838; stroke-width: 1.5;\" width=\"106\" x=\"91\" y=\"100\"/><text fill=\"#000000\" font-family=\"sans-serif\" font-size=\"12\" font-style=\"italic\" lengthAdjust=\"spacingAndGlyphs\" textLength=\"40\" x=\"124\" y=\"116.1387\">«part»</text><text fill=\"#000000\" font-family=\"sans-serif\" font-size=\"12\" lengthAdjust=\"spacingAndGlyphs\" textLength=\"96\" x=\"94\" y=\"130.1074\">vehicle: Vehicle</text><line style=\"stroke: #383838; stroke-width: 1.5;\" x1=\"92\" x2=\"196\" y1=\"137.9375\" y2=\"137.9375\"/></a><!--MD5=[f0cdf4548168e5211fb3a02bf679d63a]\n",
       "link E4 to E3--><a href=\"psysml:b99e9f78-77ea-4cdc-866d-b9796624c080\" target=\"_top\" title=\"psysml:b99e9f78-77ea-4cdc-866d-b9796624c080\" xlink:actuate=\"onRequest\" xlink:href=\"psysml:b99e9f78-77ea-4cdc-866d-b9796624c080\" xlink:show=\"new\" xlink:title=\"psysml:b99e9f78-77ea-4cdc-866d-b9796624c080\" xlink:type=\"simple\"><path d=\"M58.5005,170.0549 C58.5193,170.2001 58.5383,170.3454 58.5574,170.4908 C58.6338,171.0725 58.7124,171.6562 58.7932,172.2415 C58.9548,173.4122 59.1253,174.5898 59.3052,175.7725 C59.6651,178.1379 60.0625,180.5238 60.5014,182.9158 C62.2569,192.4838 64.675,202.15 68,211 C74.23,227.58 84.77,244.23 94.38,257.43 \" fill=\"none\" id=\"E4-&gt;E3\" style=\"stroke: #383838; stroke-width: 1.0; stroke-dasharray: 7.0,7.0;\"/><polygon fill=\"#383838\" points=\"97.6,261.77,95.4384,252.1613,94.616,257.758,89.0193,256.9357,97.6,261.77\" style=\"stroke: #383838; stroke-width: 1.0;\"/><text fill=\"#000000\" font-family=\"sans-serif\" font-size=\"13\" lengthAdjust=\"spacingAndGlyphs\" textLength=\"58\" x=\"69\" y=\"207.0669\">«import»</text></a><!--MD5=[e9be52314489bd878ff4c7144b63c9e1]\n",
       "link E5 to E3--><a href=\"psysml:c70856ba-dfdd-4aff-ab00-0a9f4968bc68\" target=\"_top\" title=\"psysml:c70856ba-dfdd-4aff-ab00-0a9f4968bc68\" xlink:actuate=\"onRequest\" xlink:href=\"psysml:c70856ba-dfdd-4aff-ab00-0a9f4968bc68\" xlink:show=\"new\" xlink:title=\"psysml:c70856ba-dfdd-4aff-ab00-0a9f4968bc68\" xlink:type=\"simple\"><path d=\"M143.03,146.32 C142,163.98 139.95,189.21 136,211 C134.13,221.29 131.49,232.23 128.74,242.43 \" fill=\"none\" id=\"E5-&gt;E3\" style=\"stroke: #383838; stroke-width: 1.0;\"/><polygon fill=\"#FFFFFF\" points=\"123.15,261.87,121.6727,241.6755,135.1276,245.544,123.15,261.87\" style=\"stroke: #383838; stroke-width: 1.0;\"/><ellipse cx=\"125.1699\" cy=\"236.7501\" fill=\"#383838\" rx=\"2\" ry=\"2\" style=\"stroke: #383838; stroke-width: 1.0;\"/><ellipse cx=\"134.7805\" cy=\"239.5133\" fill=\"#383838\" rx=\"2\" ry=\"2\" style=\"stroke: #383838; stroke-width: 1.0;\"/></a><!--MD5=[05dce4aceeee345b068b25369f3258a5]\n",
       "@startuml\r\n",
       "top to bottom direction\r\n",
       "skinparam monochrome true\r\n",
       "skinparam classbackgroundcolor white\r\n",
       "skinparam shadowing false\r\n",
       "skinparam wrapWidth 300\r\n",
       "hide circle\r\n",
       "\r\n",
       "package \"AliasImport\" as E1  [[psysml:a09df071-4715-4742-883e-cd73e8c4aa55 ]]  {\r\n",
       "package \"Definitions\" as E2  [[psysml:9e891321-89ab-46bb-b178-ae51d516b5d5 ]]  {\r\n",
       "comp def \"Vehicle\" as E3  <<(T,blue) part  def>> [[psysml:aed7d351-ec1f-43ef-9181-965f0e0fafe7 ]] {\r\n",
       "}\r\n",
       "}\r\n",
       "package \"Usages\" as E4  [[psysml:0357df57-b813-4001-8053-0943e42884ef ]]  {\r\n",
       "comp usage \"vehicle: Vehicle \" as E5  <<(T,blue) part>> [[psysml:9c4f7a54-8ea6-458e-b6c7-855d1197e506 ]] {\r\n",
       "}\r\n",
       "}\r\n",
       "}\r\n",
       "E4 ..> E3 [[psysml:b99e9f78-77ea-4cdc-866d-b9796624c080 ]] : <<import>>\r\n",
       "E5 - -:|> E3 [[psysml:c70856ba-dfdd-4aff-ab00-0a9f4968bc68 ]] \r\n",
       "@enduml\r\n",
       "\n",
       "PlantUML version 1.2020.13(Sat Jun 13 12:26:38 UTC 2020)\n",
       "(EPL source distribution)\n",
       "Java Runtime: OpenJDK Runtime Environment\n",
       "JVM: OpenJDK 64-Bit Server VM\n",
       "Default Encoding: UTF-8\n",
       "Language: en\n",
       "Country: null\n",
       "--></g></svg>"
      ]
     },
     "execution_count": 44,
     "metadata": {},
     "output_type": "execute_result"
    }
   ],
   "source": [
    "%viz --style=\"TB\" --view=\"Default\" \"AliasImport\""
   ]
  },
  {
   "cell_type": "code",
   "execution_count": 45,
   "id": "8aac15d4",
   "metadata": {
    "execution": {
     "iopub.execute_input": "2022-03-03T09:59:08.761785Z",
     "iopub.status.busy": "2022-03-03T09:59:08.761383Z",
     "iopub.status.idle": "2022-03-03T09:59:08.789000Z",
     "shell.execute_reply": "2022-03-03T09:59:08.788652Z"
    }
   },
   "outputs": [
    {
     "data": {
      "image/svg+xml": [
       "<?xml version=\"1.0\" encoding=\"UTF-8\" standalone=\"no\"?><svg xmlns=\"http://www.w3.org/2000/svg\" xmlns:xlink=\"http://www.w3.org/1999/xlink\" contentScriptType=\"application/ecmascript\" contentStyleType=\"text/css\" height=\"360px\" preserveAspectRatio=\"none\" style=\"width:275px;height:360px;\" version=\"1.1\" viewBox=\"0 0 275 360\" width=\"275px\" zoomAndPan=\"magnify\"><defs/><g><!--MD5=[fbc87193dbaf4d95561dea2c320d4a47]\n",
       "cluster E1--><a href=\"psysml:a09df071-4715-4742-883e-cd73e8c4aa55\" target=\"_top\" title=\"psysml:a09df071-4715-4742-883e-cd73e8c4aa55\" xlink:actuate=\"onRequest\" xlink:href=\"psysml:a09df071-4715-4742-883e-cd73e8c4aa55\" xlink:show=\"new\" xlink:title=\"psysml:a09df071-4715-4742-883e-cd73e8c4aa55\" xlink:type=\"simple\"><polygon fill=\"#FFFFFF\" points=\"16,6,97,6,104,28.2969,253,28.2969,253,348,16,348,16,6\" style=\"stroke: #000000; stroke-width: 1.5;\"/><line style=\"stroke: #000000; stroke-width: 1.5;\" x1=\"16\" x2=\"104\" y1=\"28.2969\" y2=\"28.2969\"/><text fill=\"#000000\" font-family=\"sans-serif\" font-size=\"14\" font-weight=\"bold\" lengthAdjust=\"spacingAndGlyphs\" textLength=\"75\" x=\"20\" y=\"20.9951\">AliasImport</text></a><!--MD5=[e4f7fae6ed58524ba242bb0b0d3be6b7]\n",
       "cluster E2--><a href=\"psysml:9e891321-89ab-46bb-b178-ae51d516b5d5\" target=\"_top\" title=\"psysml:9e891321-89ab-46bb-b178-ae51d516b5d5\" xlink:actuate=\"onRequest\" xlink:href=\"psysml:9e891321-89ab-46bb-b178-ae51d516b5d5\" xlink:show=\"new\" xlink:title=\"psysml:9e891321-89ab-46bb-b178-ae51d516b5d5\" xlink:type=\"simple\"><polygon fill=\"#FFFFFF\" points=\"65,227,144,227,151,249.2969,167,249.2969,167,324,65,324,65,227\" style=\"stroke: #000000; stroke-width: 1.5;\"/><line style=\"stroke: #000000; stroke-width: 1.5;\" x1=\"65\" x2=\"151\" y1=\"249.2969\" y2=\"249.2969\"/><text fill=\"#000000\" font-family=\"sans-serif\" font-size=\"14\" font-weight=\"bold\" lengthAdjust=\"spacingAndGlyphs\" textLength=\"73\" x=\"69\" y=\"241.9951\">Definitions</text></a><!--MD5=[f6df4d0ebaf0b5dfb2ced0ae5af7c670]\n",
       "cluster E4--><a href=\"psysml:0357df57-b813-4001-8053-0943e42884ef\" target=\"_top\" title=\"psysml:0357df57-b813-4001-8053-0943e42884ef\" xlink:actuate=\"onRequest\" xlink:href=\"psysml:0357df57-b813-4001-8053-0943e42884ef\" xlink:show=\"new\" xlink:title=\"psysml:0357df57-b813-4001-8053-0943e42884ef\" xlink:type=\"simple\"><polygon fill=\"#FFFFFF\" points=\"48,57,106,57,113,79.2969,221,79.2969,221,170,48,170,48,57\" style=\"stroke: #000000; stroke-width: 1.5;\"/><line style=\"stroke: #000000; stroke-width: 1.5;\" x1=\"48\" x2=\"113\" y1=\"79.2969\" y2=\"79.2969\"/><text fill=\"#000000\" font-family=\"sans-serif\" font-size=\"14\" font-weight=\"bold\" lengthAdjust=\"spacingAndGlyphs\" textLength=\"52\" x=\"52\" y=\"71.9951\">Usages</text></a><!--MD5=[09b614a08d8cba4a07c9adeb5e0fee81]\n",
       "class E3--><a href=\"psysml:aed7d351-ec1f-43ef-9181-965f0e0fafe7\" target=\"_top\" title=\"psysml:aed7d351-ec1f-43ef-9181-965f0e0fafe7\" xlink:actuate=\"onRequest\" xlink:href=\"psysml:aed7d351-ec1f-43ef-9181-965f0e0fafe7\" xlink:show=\"new\" xlink:title=\"psysml:aed7d351-ec1f-43ef-9181-965f0e0fafe7\" xlink:type=\"simple\"><rect fill=\"#FFFFFF\" height=\"45.9375\" id=\"E3\" style=\"stroke: #383838; stroke-width: 1.5;\" width=\"70\" x=\"81\" y=\"262\"/><text fill=\"#000000\" font-family=\"sans-serif\" font-size=\"12\" font-style=\"italic\" lengthAdjust=\"spacingAndGlyphs\" textLength=\"68\" x=\"82\" y=\"278.1387\">«part  def»</text><text fill=\"#000000\" font-family=\"sans-serif\" font-size=\"12\" lengthAdjust=\"spacingAndGlyphs\" textLength=\"45\" x=\"93.5\" y=\"292.1074\">Vehicle</text><line style=\"stroke: #383838; stroke-width: 1.5;\" x1=\"82\" x2=\"150\" y1=\"299.9375\" y2=\"299.9375\"/></a><!--MD5=[270fce915f116d4de14055a7c1d9a0f3]\n",
       "class E5--><a href=\"psysml:9c4f7a54-8ea6-458e-b6c7-855d1197e506\" target=\"_top\" title=\"psysml:9c4f7a54-8ea6-458e-b6c7-855d1197e506\" xlink:actuate=\"onRequest\" xlink:href=\"psysml:9c4f7a54-8ea6-458e-b6c7-855d1197e506\" xlink:show=\"new\" xlink:title=\"psysml:9c4f7a54-8ea6-458e-b6c7-855d1197e506\" xlink:type=\"simple\"><rect fill=\"#FFFFFF\" height=\"45.9375\" id=\"E5\" rx=\"10\" ry=\"10\" style=\"stroke: #383838; stroke-width: 1.5;\" width=\"106\" x=\"91\" y=\"100\"/><text fill=\"#000000\" font-family=\"sans-serif\" font-size=\"12\" font-style=\"italic\" lengthAdjust=\"spacingAndGlyphs\" textLength=\"40\" x=\"124\" y=\"116.1387\">«part»</text><text fill=\"#000000\" font-family=\"sans-serif\" font-size=\"12\" lengthAdjust=\"spacingAndGlyphs\" textLength=\"96\" x=\"94\" y=\"130.1074\">vehicle: Vehicle</text><line style=\"stroke: #383838; stroke-width: 1.5;\" x1=\"92\" x2=\"196\" y1=\"137.9375\" y2=\"137.9375\"/></a><!--MD5=[f0cdf4548168e5211fb3a02bf679d63a]\n",
       "link E4 to E3--><a href=\"psysml:b99e9f78-77ea-4cdc-866d-b9796624c080\" target=\"_top\" title=\"psysml:b99e9f78-77ea-4cdc-866d-b9796624c080\" xlink:actuate=\"onRequest\" xlink:href=\"psysml:b99e9f78-77ea-4cdc-866d-b9796624c080\" xlink:show=\"new\" xlink:title=\"psysml:b99e9f78-77ea-4cdc-866d-b9796624c080\" xlink:type=\"simple\"><path d=\"M58.5005,170.0549 C58.5193,170.2001 58.5383,170.3454 58.5574,170.4908 C58.6338,171.0725 58.7124,171.6562 58.7932,172.2415 C58.9548,173.4122 59.1253,174.5898 59.3052,175.7725 C59.6651,178.1379 60.0625,180.5238 60.5014,182.9158 C62.2569,192.4838 64.675,202.15 68,211 C74.23,227.58 84.77,244.23 94.38,257.43 \" fill=\"none\" id=\"E4-&gt;E3\" style=\"stroke: #383838; stroke-width: 1.0; stroke-dasharray: 7.0,7.0;\"/><polygon fill=\"#383838\" points=\"97.6,261.77,95.4384,252.1613,94.616,257.758,89.0193,256.9357,97.6,261.77\" style=\"stroke: #383838; stroke-width: 1.0;\"/><text fill=\"#000000\" font-family=\"sans-serif\" font-size=\"13\" lengthAdjust=\"spacingAndGlyphs\" textLength=\"58\" x=\"69\" y=\"207.0669\">«import»</text></a><!--MD5=[e9be52314489bd878ff4c7144b63c9e1]\n",
       "link E5 to E3--><a href=\"psysml:c70856ba-dfdd-4aff-ab00-0a9f4968bc68\" target=\"_top\" title=\"psysml:c70856ba-dfdd-4aff-ab00-0a9f4968bc68\" xlink:actuate=\"onRequest\" xlink:href=\"psysml:c70856ba-dfdd-4aff-ab00-0a9f4968bc68\" xlink:show=\"new\" xlink:title=\"psysml:c70856ba-dfdd-4aff-ab00-0a9f4968bc68\" xlink:type=\"simple\"><path d=\"M143.03,146.32 C142,163.98 139.95,189.21 136,211 C134.13,221.29 131.49,232.23 128.74,242.43 \" fill=\"none\" id=\"E5-&gt;E3\" style=\"stroke: #383838; stroke-width: 1.0;\"/><polygon fill=\"#FFFFFF\" points=\"123.15,261.87,121.6727,241.6755,135.1276,245.544,123.15,261.87\" style=\"stroke: #383838; stroke-width: 1.0;\"/><ellipse cx=\"125.1699\" cy=\"236.7501\" fill=\"#383838\" rx=\"2\" ry=\"2\" style=\"stroke: #383838; stroke-width: 1.0;\"/><ellipse cx=\"134.7805\" cy=\"239.5133\" fill=\"#383838\" rx=\"2\" ry=\"2\" style=\"stroke: #383838; stroke-width: 1.0;\"/></a><!--MD5=[05dce4aceeee345b068b25369f3258a5]\n",
       "@startuml\r\n",
       "top to bottom direction\r\n",
       "skinparam monochrome true\r\n",
       "skinparam classbackgroundcolor white\r\n",
       "skinparam shadowing false\r\n",
       "skinparam wrapWidth 300\r\n",
       "hide circle\r\n",
       "\r\n",
       "package \"AliasImport\" as E1  [[psysml:a09df071-4715-4742-883e-cd73e8c4aa55 ]]  {\r\n",
       "package \"Definitions\" as E2  [[psysml:9e891321-89ab-46bb-b178-ae51d516b5d5 ]]  {\r\n",
       "comp def \"Vehicle\" as E3  <<(T,blue) part  def>> [[psysml:aed7d351-ec1f-43ef-9181-965f0e0fafe7 ]] {\r\n",
       "}\r\n",
       "}\r\n",
       "package \"Usages\" as E4  [[psysml:0357df57-b813-4001-8053-0943e42884ef ]]  {\r\n",
       "comp usage \"vehicle: Vehicle \" as E5  <<(T,blue) part>> [[psysml:9c4f7a54-8ea6-458e-b6c7-855d1197e506 ]] {\r\n",
       "}\r\n",
       "}\r\n",
       "}\r\n",
       "E4 ..> E3 [[psysml:b99e9f78-77ea-4cdc-866d-b9796624c080 ]] : <<import>>\r\n",
       "E5 - -:|> E3 [[psysml:c70856ba-dfdd-4aff-ab00-0a9f4968bc68 ]] \r\n",
       "@enduml\r\n",
       "\n",
       "PlantUML version 1.2020.13(Sat Jun 13 12:26:38 UTC 2020)\n",
       "(EPL source distribution)\n",
       "Java Runtime: OpenJDK Runtime Environment\n",
       "JVM: OpenJDK 64-Bit Server VM\n",
       "Default Encoding: UTF-8\n",
       "Language: en\n",
       "Country: null\n",
       "--></g></svg>"
      ]
     },
     "execution_count": 45,
     "metadata": {},
     "output_type": "execute_result"
    }
   ],
   "source": [
    "%viz --style=\"TB\" --view=\"Tree\" \"AliasImport\""
   ]
  },
  {
   "cell_type": "code",
   "execution_count": 46,
   "id": "1dbd6403",
   "metadata": {
    "execution": {
     "iopub.execute_input": "2022-03-03T09:59:08.838894Z",
     "iopub.status.busy": "2022-03-03T09:59:08.838473Z",
     "iopub.status.idle": "2022-03-03T09:59:08.841940Z",
     "shell.execute_reply": "2022-03-03T09:59:08.841594Z"
    }
   },
   "outputs": [
    {
     "data": {
      "image/svg+xml": [
       "<?xml version=\"1.0\" encoding=\"UTF-8\" standalone=\"no\"?><svg xmlns=\"http://www.w3.org/2000/svg\" xmlns:xlink=\"http://www.w3.org/1999/xlink\" contentScriptType=\"application/ecmascript\" contentStyleType=\"text/css\" height=\"12px\" preserveAspectRatio=\"none\" style=\"width:12px;height:12px;\" version=\"1.1\" viewBox=\"0 0 12 12\" width=\"12px\" zoomAndPan=\"magnify\"><defs/><g><!--MD5=[f4ee21bc66e489b5061b7c3e9601fdef]\n",
       "@startuml\r\n",
       "top to bottom direction\r\n",
       "skinparam monochrome true\r\n",
       "skinparam classbackgroundcolor white\r\n",
       "skinparam shadowing false\r\n",
       "skinparam wrapWidth 300\r\n",
       "hide circle\r\n",
       "\r\n",
       "@enduml\r\n",
       "\n",
       "PlantUML version 1.2020.13(Sat Jun 13 12:26:38 UTC 2020)\n",
       "(EPL source distribution)\n",
       "Java Runtime: OpenJDK Runtime Environment\n",
       "JVM: OpenJDK 64-Bit Server VM\n",
       "Default Encoding: UTF-8\n",
       "Language: en\n",
       "Country: null\n",
       "--></g></svg>"
      ]
     },
     "execution_count": 46,
     "metadata": {},
     "output_type": "execute_result"
    }
   ],
   "source": [
    "%viz --style=\"TB\" --view=\"State\" \"AliasImport\""
   ]
  },
  {
   "cell_type": "code",
   "execution_count": 47,
   "id": "f6f53c38",
   "metadata": {
    "execution": {
     "iopub.execute_input": "2022-03-03T09:59:08.892912Z",
     "iopub.status.busy": "2022-03-03T09:59:08.892398Z",
     "iopub.status.idle": "2022-03-03T09:59:08.915923Z",
     "shell.execute_reply": "2022-03-03T09:59:08.914607Z"
    }
   },
   "outputs": [
    {
     "data": {
      "image/svg+xml": [
       "<?xml version=\"1.0\" encoding=\"UTF-8\" standalone=\"no\"?><svg xmlns=\"http://www.w3.org/2000/svg\" xmlns:xlink=\"http://www.w3.org/1999/xlink\" contentScriptType=\"application/ecmascript\" contentStyleType=\"text/css\" height=\"351px\" preserveAspectRatio=\"none\" style=\"width:302px;height:351px;\" version=\"1.1\" viewBox=\"0 0 302 351\" width=\"302px\" zoomAndPan=\"magnify\"><defs/><g><!--MD5=[fbc87193dbaf4d95561dea2c320d4a47]\n",
       "cluster E1--><a href=\"psysml:a09df071-4715-4742-883e-cd73e8c4aa55\" target=\"_top\" title=\"psysml:a09df071-4715-4742-883e-cd73e8c4aa55\" xlink:actuate=\"onRequest\" xlink:href=\"psysml:a09df071-4715-4742-883e-cd73e8c4aa55\" xlink:show=\"new\" xlink:title=\"psysml:a09df071-4715-4742-883e-cd73e8c4aa55\" xlink:type=\"simple\"><polygon fill=\"#FFFFFF\" points=\"16,6,97,6,104,28.2969,280,28.2969,280,339,16,339,16,6\" style=\"stroke: #000000; stroke-width: 1.5;\"/><line style=\"stroke: #000000; stroke-width: 1.5;\" x1=\"16\" x2=\"104\" y1=\"28.2969\" y2=\"28.2969\"/><text fill=\"#000000\" font-family=\"sans-serif\" font-size=\"14\" font-weight=\"bold\" lengthAdjust=\"spacingAndGlyphs\" textLength=\"75\" x=\"20\" y=\"20.9951\">AliasImport</text></a><!--MD5=[e4f7fae6ed58524ba242bb0b0d3be6b7]\n",
       "cluster E2--><a href=\"psysml:9e891321-89ab-46bb-b178-ae51d516b5d5\" target=\"_top\" title=\"psysml:9e891321-89ab-46bb-b178-ae51d516b5d5\" xlink:actuate=\"onRequest\" xlink:href=\"psysml:9e891321-89ab-46bb-b178-ae51d516b5d5\" xlink:show=\"new\" xlink:title=\"psysml:9e891321-89ab-46bb-b178-ae51d516b5d5\" xlink:type=\"simple\"><polygon fill=\"#FFFFFF\" points=\"40,221,119,221,126,243.2969,256,243.2969,256,315,40,315,40,221\" style=\"stroke: #000000; stroke-width: 1.5;\"/><line style=\"stroke: #000000; stroke-width: 1.5;\" x1=\"40\" x2=\"126\" y1=\"243.2969\" y2=\"243.2969\"/><text fill=\"#000000\" font-family=\"sans-serif\" font-size=\"14\" font-weight=\"bold\" lengthAdjust=\"spacingAndGlyphs\" textLength=\"73\" x=\"44\" y=\"235.9951\">Definitions</text></a><!--MD5=[de5ec2e2e8f62f467e546659f5068c88]\n",
       "cluster E5--><a href=\"psysml:0357df57-b813-4001-8053-0943e42884ef\" target=\"_top\" title=\"psysml:0357df57-b813-4001-8053-0943e42884ef\" xlink:actuate=\"onRequest\" xlink:href=\"psysml:0357df57-b813-4001-8053-0943e42884ef\" xlink:show=\"new\" xlink:title=\"psysml:0357df57-b813-4001-8053-0943e42884ef\" xlink:type=\"simple\"><polygon fill=\"#FFFFFF\" points=\"74,57,132,57,139,79.2969,248,79.2969,248,164,74,164,74,57\" style=\"stroke: #000000; stroke-width: 1.5;\"/><line style=\"stroke: #000000; stroke-width: 1.5;\" x1=\"74\" x2=\"139\" y1=\"79.2969\" y2=\"79.2969\"/><text fill=\"#000000\" font-family=\"sans-serif\" font-size=\"14\" font-weight=\"bold\" lengthAdjust=\"spacingAndGlyphs\" textLength=\"52\" x=\"78\" y=\"71.9951\">Usages</text></a><g id=\"E1.E2.E3\"><a href=\"psysml:aed7d351-ec1f-43ef-9181-965f0e0fafe7\" target=\"_top\" title=\"psysml:aed7d351-ec1f-43ef-9181-965f0e0fafe7\" xlink:actuate=\"onRequest\" xlink:href=\"psysml:aed7d351-ec1f-43ef-9181-965f0e0fafe7\" xlink:show=\"new\" xlink:title=\"psysml:aed7d351-ec1f-43ef-9181-965f0e0fafe7\" xlink:type=\"simple\"><rect fill=\"#FFFFFF\" height=\"42.9375\" id=\"E3\" style=\"stroke: #383838; stroke-width: 1.5;\" width=\"75\" x=\"165.5\" y=\"256\"/><rect fill=\"#F8F8F8\" height=\"37.9375\" style=\"stroke: #383838; stroke-width: 1.5;\" width=\"75\" x=\"165.5\" y=\"256\"/><text fill=\"#000000\" font-family=\"sans-serif\" font-size=\"12\" font-style=\"italic\" lengthAdjust=\"spacingAndGlyphs\" textLength=\"68\" x=\"169\" y=\"272.1387\">«part  def»</text><text fill=\"#000000\" font-family=\"sans-serif\" font-size=\"12\" lengthAdjust=\"spacingAndGlyphs\" textLength=\"45\" x=\"180.5\" y=\"286.1074\">Vehicle</text></a></g><g id=\"E1.E2.E4\"><a href=\"psysml:aed7d351-ec1f-43ef-9181-965f0e0fafe7\" target=\"_top\" title=\"psysml:aed7d351-ec1f-43ef-9181-965f0e0fafe7\" xlink:actuate=\"onRequest\" xlink:href=\"psysml:aed7d351-ec1f-43ef-9181-965f0e0fafe7\" xlink:show=\"new\" xlink:title=\"psysml:aed7d351-ec1f-43ef-9181-965f0e0fafe7\" xlink:type=\"simple\"><rect fill=\"#FFFFFF\" height=\"42.9375\" id=\"E4\" style=\"stroke: #383838; stroke-width: 1.5;\" width=\"75\" x=\"55.5\" y=\"256\"/><rect fill=\"#F8F8F8\" height=\"37.9375\" style=\"stroke: #383838; stroke-width: 1.5;\" width=\"75\" x=\"55.5\" y=\"256\"/><text fill=\"#000000\" font-family=\"sans-serif\" font-size=\"12\" font-style=\"italic\" lengthAdjust=\"spacingAndGlyphs\" textLength=\"68\" x=\"59\" y=\"272.1387\">«part  def»</text><text fill=\"#000000\" font-family=\"sans-serif\" font-size=\"12\" lengthAdjust=\"spacingAndGlyphs\" textLength=\"45\" x=\"70.5\" y=\"286.1074\">Vehicle</text></a></g><g id=\"E1.E5.E6\"><a href=\"psysml:9c4f7a54-8ea6-458e-b6c7-855d1197e506\" target=\"_top\" title=\"psysml:9c4f7a54-8ea6-458e-b6c7-855d1197e506\" xlink:actuate=\"onRequest\" xlink:href=\"psysml:9c4f7a54-8ea6-458e-b6c7-855d1197e506\" xlink:show=\"new\" xlink:title=\"psysml:9c4f7a54-8ea6-458e-b6c7-855d1197e506\" xlink:type=\"simple\"><rect fill=\"#FFFFFF\" height=\"40\" id=\"E6\" rx=\"10\" ry=\"10\" style=\"stroke: #383838; stroke-width: 1.5;\" width=\"107\" x=\"117.5\" y=\"100\"/><rect fill=\"#F8F8F8\" height=\"23.9688\" rx=\"10\" ry=\"10\" style=\"stroke: #F8F8F8; stroke-width: 1.5;\" width=\"107\" x=\"117.5\" y=\"100\"/><rect fill=\"#F8F8F8\" height=\"10\" style=\"stroke: #F8F8F8; stroke-width: 1.5;\" width=\"107\" x=\"117.5\" y=\"113.9688\"/><rect fill=\"none\" height=\"40\" id=\"E6\" rx=\"10\" ry=\"10\" style=\"stroke: #383838; stroke-width: 1.5;\" width=\"107\" x=\"117.5\" y=\"100\"/><text fill=\"#000000\" font-family=\"sans-serif\" font-size=\"12\" lengthAdjust=\"spacingAndGlyphs\" textLength=\"96\" x=\"123\" y=\"116.1387\">vehicle: Vehicle</text></a></g><!--MD5=[1c62de2aa5b76f0fb657ff8443a1a700]\n",
       "link E5 to E4--><a href=\"psysml:b99e9f78-77ea-4cdc-866d-b9796624c080\" target=\"_top\" title=\"psysml:b99e9f78-77ea-4cdc-866d-b9796624c080\" xlink:actuate=\"onRequest\" xlink:href=\"psysml:b99e9f78-77ea-4cdc-866d-b9796624c080\" xlink:show=\"new\" xlink:title=\"psysml:b99e9f78-77ea-4cdc-866d-b9796624c080\" xlink:type=\"simple\"><path d=\"M85.0613,164.274 C85.0754,164.474 85.0896,164.6743 85.1038,164.8751 C85.1322,165.2765 85.1608,165.6795 85.1894,166.0839 C85.3039,167.7016 85.42,169.3423 85.5375,171.0025 C87.4175,197.565 89.65,229.1 91.18,250.73 \" fill=\"none\" id=\"E5-&gt;E4\" style=\"stroke: #383838; stroke-width: 1.0; stroke-dasharray: 7.0,7.0;\"/><polygon fill=\"#383838\" points=\"91.54,255.81,94.8867,246.5472,91.1827,250.8228,86.9072,247.1188,91.54,255.81\" style=\"stroke: #383838; stroke-width: 1.0;\"/><text fill=\"#000000\" font-family=\"sans-serif\" font-size=\"13\" lengthAdjust=\"spacingAndGlyphs\" textLength=\"58\" x=\"88\" y=\"201.0669\">«import»</text></a><!--MD5=[b667558809bfc2c4e75cc70a8cd11e88]\n",
       "@startuml\r\n",
       "skinparam ranksep 10\r\n",
       "skinparam rectangle {\r\n",
       " backgroundColor<<block>> LightGreen\r\n",
       "}\r\n",
       "top to bottom direction\r\n",
       "skinparam monochrome true\r\n",
       "skinparam classbackgroundcolor white\r\n",
       "skinparam shadowing false\r\n",
       "skinparam wrapWidth 300\r\n",
       "hide circle\r\n",
       "\r\n",
       "package \"AliasImport\" as E1  [[psysml:a09df071-4715-4742-883e-cd73e8c4aa55 ]]  {\r\n",
       "package \"Definitions\" as E2  [[psysml:9e891321-89ab-46bb-b178-ae51d516b5d5 ]]  {\r\n",
       "rec def \"Vehicle\" as E3  <<(T,blue) part  def>> [[psysml:aed7d351-ec1f-43ef-9181-965f0e0fafe7 ]] {\r\n",
       "}\r\n",
       "rec def \"Vehicle\" as E4  <<(T,blue) part  def>> [[psysml:aed7d351-ec1f-43ef-9181-965f0e0fafe7 ]] {\r\n",
       "}\r\n",
       "}\r\n",
       "package \"Usages\" as E5  [[psysml:0357df57-b813-4001-8053-0943e42884ef ]]  {\r\n",
       "rec usage \"vehicle: Vehicle\" as E6  [[psysml:9c4f7a54-8ea6-458e-b6c7-855d1197e506 ]] {\r\n",
       "}\r\n",
       "}\r\n",
       "}\r\n",
       "E5 ..> E4 [[psysml:b99e9f78-77ea-4cdc-866d-b9796624c080 ]] : <<import>>\r\n",
       "@enduml\r\n",
       "\n",
       "PlantUML version 1.2020.13(Sat Jun 13 12:26:38 UTC 2020)\n",
       "(EPL source distribution)\n",
       "Java Runtime: OpenJDK Runtime Environment\n",
       "JVM: OpenJDK 64-Bit Server VM\n",
       "Default Encoding: UTF-8\n",
       "Language: en\n",
       "Country: null\n",
       "--></g></svg>"
      ]
     },
     "execution_count": 47,
     "metadata": {},
     "output_type": "execute_result"
    }
   ],
   "source": [
    "%viz --style=\"TB\" --view=\"Interconnection\" \"AliasImport\""
   ]
  },
  {
   "cell_type": "code",
   "execution_count": 48,
   "id": "22262926",
   "metadata": {
    "execution": {
     "iopub.execute_input": "2022-03-03T09:59:08.965508Z",
     "iopub.status.busy": "2022-03-03T09:59:08.965105Z",
     "iopub.status.idle": "2022-03-03T09:59:08.969617Z",
     "shell.execute_reply": "2022-03-03T09:59:08.969932Z"
    }
   },
   "outputs": [
    {
     "data": {
      "image/svg+xml": [
       "<?xml version=\"1.0\" encoding=\"UTF-8\" standalone=\"no\"?><svg xmlns=\"http://www.w3.org/2000/svg\" xmlns:xlink=\"http://www.w3.org/1999/xlink\" contentScriptType=\"application/ecmascript\" contentStyleType=\"text/css\" height=\"12px\" preserveAspectRatio=\"none\" style=\"width:12px;height:12px;\" version=\"1.1\" viewBox=\"0 0 12 12\" width=\"12px\" zoomAndPan=\"magnify\"><defs/><g><!--MD5=[06afc254b03ac5e9d9fb7773b07d0800]\n",
       "@startuml\r\n",
       "skinparam ranksep 8\r\n",
       "top to bottom direction\r\n",
       "skinparam monochrome true\r\n",
       "skinparam classbackgroundcolor white\r\n",
       "skinparam shadowing false\r\n",
       "skinparam wrapWidth 300\r\n",
       "hide circle\r\n",
       "\r\n",
       "@enduml\r\n",
       "\n",
       "PlantUML version 1.2020.13(Sat Jun 13 12:26:38 UTC 2020)\n",
       "(EPL source distribution)\n",
       "Java Runtime: OpenJDK Runtime Environment\n",
       "JVM: OpenJDK 64-Bit Server VM\n",
       "Default Encoding: UTF-8\n",
       "Language: en\n",
       "Country: null\n",
       "--></g></svg>"
      ]
     },
     "execution_count": 48,
     "metadata": {},
     "output_type": "execute_result"
    }
   ],
   "source": [
    "%viz --style=\"TB\" --view=\"Action\" \"AliasImport\""
   ]
  },
  {
   "cell_type": "code",
   "execution_count": 49,
   "id": "6d6d26d6",
   "metadata": {
    "execution": {
     "iopub.execute_input": "2022-03-03T09:59:09.020183Z",
     "iopub.status.busy": "2022-03-03T09:59:09.019783Z",
     "iopub.status.idle": "2022-03-03T09:59:09.024066Z",
     "shell.execute_reply": "2022-03-03T09:59:09.023738Z"
    }
   },
   "outputs": [
    {
     "data": {
      "image/svg+xml": [
       "<?xml version=\"1.0\" encoding=\"UTF-8\" standalone=\"no\"?><svg xmlns=\"http://www.w3.org/2000/svg\" xmlns:xlink=\"http://www.w3.org/1999/xlink\" contentScriptType=\"application/ecmascript\" contentStyleType=\"text/css\" height=\"12px\" preserveAspectRatio=\"none\" style=\"width:12px;height:12px;\" version=\"1.1\" viewBox=\"0 0 12 12\" width=\"12px\" zoomAndPan=\"magnify\"><defs/><g><!--MD5=[e1ab0c84c44d2fef8bf5f140f2689906]\n",
       "@startuml\r\n",
       "skinparam roundcorner 20\r\n",
       "skinparam BoxPadding 20\r\n",
       "skinparam SequenceBoxBackgroundColor #white\r\n",
       "skinparam style strictuml\r\n",
       "skinparam maxMessageSize 100\r\n",
       "top to bottom direction\r\n",
       "skinparam monochrome true\r\n",
       "skinparam classbackgroundcolor white\r\n",
       "skinparam shadowing false\r\n",
       "skinparam wrapWidth 300\r\n",
       "hide circle\r\n",
       "\r\n",
       "@enduml\r\n",
       "\n",
       "PlantUML version 1.2020.13(Sat Jun 13 12:26:38 UTC 2020)\n",
       "(EPL source distribution)\n",
       "Java Runtime: OpenJDK Runtime Environment\n",
       "JVM: OpenJDK 64-Bit Server VM\n",
       "Default Encoding: UTF-8\n",
       "Language: en\n",
       "Country: null\n",
       "--></g></svg>"
      ]
     },
     "execution_count": 49,
     "metadata": {},
     "output_type": "execute_result"
    }
   ],
   "source": [
    "%viz --style=\"TB\" --view=\"Sequence\" \"AliasImport\""
   ]
  },
  {
   "cell_type": "code",
   "execution_count": 50,
   "id": "5a608a05",
   "metadata": {
    "execution": {
     "iopub.execute_input": "2022-03-03T09:59:09.074545Z",
     "iopub.status.busy": "2022-03-03T09:59:09.074110Z",
     "iopub.status.idle": "2022-03-03T09:59:09.095931Z",
     "shell.execute_reply": "2022-03-03T09:59:09.094638Z"
    }
   },
   "outputs": [
    {
     "data": {
      "image/svg+xml": [
       "<?xml version=\"1.0\" encoding=\"UTF-8\" standalone=\"no\"?><svg xmlns=\"http://www.w3.org/2000/svg\" xmlns:xlink=\"http://www.w3.org/1999/xlink\" contentScriptType=\"application/ecmascript\" contentStyleType=\"text/css\" height=\"360px\" preserveAspectRatio=\"none\" style=\"width:275px;height:360px;\" version=\"1.1\" viewBox=\"0 0 275 360\" width=\"275px\" zoomAndPan=\"magnify\"><defs/><g><!--MD5=[fbc87193dbaf4d95561dea2c320d4a47]\n",
       "cluster E1--><a href=\"psysml:a09df071-4715-4742-883e-cd73e8c4aa55\" target=\"_top\" title=\"psysml:a09df071-4715-4742-883e-cd73e8c4aa55\" xlink:actuate=\"onRequest\" xlink:href=\"psysml:a09df071-4715-4742-883e-cd73e8c4aa55\" xlink:show=\"new\" xlink:title=\"psysml:a09df071-4715-4742-883e-cd73e8c4aa55\" xlink:type=\"simple\"><polygon fill=\"#FFFFFF\" points=\"16,6,97,6,104,28.2969,253,28.2969,253,348,16,348,16,6\" style=\"stroke: #000000; stroke-width: 1.5;\"/><line style=\"stroke: #000000; stroke-width: 1.5;\" x1=\"16\" x2=\"104\" y1=\"28.2969\" y2=\"28.2969\"/><text fill=\"#000000\" font-family=\"sans-serif\" font-size=\"14\" font-weight=\"bold\" lengthAdjust=\"spacingAndGlyphs\" textLength=\"75\" x=\"20\" y=\"20.9951\">AliasImport</text></a><!--MD5=[e4f7fae6ed58524ba242bb0b0d3be6b7]\n",
       "cluster E2--><a href=\"psysml:9e891321-89ab-46bb-b178-ae51d516b5d5\" target=\"_top\" title=\"psysml:9e891321-89ab-46bb-b178-ae51d516b5d5\" xlink:actuate=\"onRequest\" xlink:href=\"psysml:9e891321-89ab-46bb-b178-ae51d516b5d5\" xlink:show=\"new\" xlink:title=\"psysml:9e891321-89ab-46bb-b178-ae51d516b5d5\" xlink:type=\"simple\"><polygon fill=\"#FFFFFF\" points=\"65,227,144,227,151,249.2969,167,249.2969,167,324,65,324,65,227\" style=\"stroke: #000000; stroke-width: 1.5;\"/><line style=\"stroke: #000000; stroke-width: 1.5;\" x1=\"65\" x2=\"151\" y1=\"249.2969\" y2=\"249.2969\"/><text fill=\"#000000\" font-family=\"sans-serif\" font-size=\"14\" font-weight=\"bold\" lengthAdjust=\"spacingAndGlyphs\" textLength=\"73\" x=\"69\" y=\"241.9951\">Definitions</text></a><!--MD5=[f6df4d0ebaf0b5dfb2ced0ae5af7c670]\n",
       "cluster E4--><a href=\"psysml:0357df57-b813-4001-8053-0943e42884ef\" target=\"_top\" title=\"psysml:0357df57-b813-4001-8053-0943e42884ef\" xlink:actuate=\"onRequest\" xlink:href=\"psysml:0357df57-b813-4001-8053-0943e42884ef\" xlink:show=\"new\" xlink:title=\"psysml:0357df57-b813-4001-8053-0943e42884ef\" xlink:type=\"simple\"><polygon fill=\"#FFFFFF\" points=\"48,57,106,57,113,79.2969,221,79.2969,221,170,48,170,48,57\" style=\"stroke: #000000; stroke-width: 1.5;\"/><line style=\"stroke: #000000; stroke-width: 1.5;\" x1=\"48\" x2=\"113\" y1=\"79.2969\" y2=\"79.2969\"/><text fill=\"#000000\" font-family=\"sans-serif\" font-size=\"14\" font-weight=\"bold\" lengthAdjust=\"spacingAndGlyphs\" textLength=\"52\" x=\"52\" y=\"71.9951\">Usages</text></a><!--MD5=[09b614a08d8cba4a07c9adeb5e0fee81]\n",
       "class E3--><a href=\"psysml:aed7d351-ec1f-43ef-9181-965f0e0fafe7\" target=\"_top\" title=\"psysml:aed7d351-ec1f-43ef-9181-965f0e0fafe7\" xlink:actuate=\"onRequest\" xlink:href=\"psysml:aed7d351-ec1f-43ef-9181-965f0e0fafe7\" xlink:show=\"new\" xlink:title=\"psysml:aed7d351-ec1f-43ef-9181-965f0e0fafe7\" xlink:type=\"simple\"><rect fill=\"#FFFFFF\" height=\"45.9375\" id=\"E3\" style=\"stroke: #383838; stroke-width: 1.5;\" width=\"70\" x=\"81\" y=\"262\"/><text fill=\"#000000\" font-family=\"sans-serif\" font-size=\"12\" font-style=\"italic\" lengthAdjust=\"spacingAndGlyphs\" textLength=\"68\" x=\"82\" y=\"278.1387\">«part  def»</text><text fill=\"#000000\" font-family=\"sans-serif\" font-size=\"12\" lengthAdjust=\"spacingAndGlyphs\" textLength=\"45\" x=\"93.5\" y=\"292.1074\">Vehicle</text><line style=\"stroke: #383838; stroke-width: 1.5;\" x1=\"82\" x2=\"150\" y1=\"299.9375\" y2=\"299.9375\"/></a><!--MD5=[270fce915f116d4de14055a7c1d9a0f3]\n",
       "class E5--><a href=\"psysml:9c4f7a54-8ea6-458e-b6c7-855d1197e506\" target=\"_top\" title=\"psysml:9c4f7a54-8ea6-458e-b6c7-855d1197e506\" xlink:actuate=\"onRequest\" xlink:href=\"psysml:9c4f7a54-8ea6-458e-b6c7-855d1197e506\" xlink:show=\"new\" xlink:title=\"psysml:9c4f7a54-8ea6-458e-b6c7-855d1197e506\" xlink:type=\"simple\"><rect fill=\"#FFFFFF\" height=\"45.9375\" id=\"E5\" rx=\"10\" ry=\"10\" style=\"stroke: #383838; stroke-width: 1.5;\" width=\"106\" x=\"91\" y=\"100\"/><text fill=\"#000000\" font-family=\"sans-serif\" font-size=\"12\" font-style=\"italic\" lengthAdjust=\"spacingAndGlyphs\" textLength=\"40\" x=\"124\" y=\"116.1387\">«part»</text><text fill=\"#000000\" font-family=\"sans-serif\" font-size=\"12\" lengthAdjust=\"spacingAndGlyphs\" textLength=\"96\" x=\"94\" y=\"130.1074\">vehicle: Vehicle</text><line style=\"stroke: #383838; stroke-width: 1.5;\" x1=\"92\" x2=\"196\" y1=\"137.9375\" y2=\"137.9375\"/></a><!--MD5=[f0cdf4548168e5211fb3a02bf679d63a]\n",
       "link E4 to E3--><a href=\"psysml:b99e9f78-77ea-4cdc-866d-b9796624c080\" target=\"_top\" title=\"psysml:b99e9f78-77ea-4cdc-866d-b9796624c080\" xlink:actuate=\"onRequest\" xlink:href=\"psysml:b99e9f78-77ea-4cdc-866d-b9796624c080\" xlink:show=\"new\" xlink:title=\"psysml:b99e9f78-77ea-4cdc-866d-b9796624c080\" xlink:type=\"simple\"><path d=\"M58.5005,170.0549 C58.5193,170.2001 58.5383,170.3454 58.5574,170.4908 C58.6338,171.0725 58.7124,171.6562 58.7932,172.2415 C58.9548,173.4122 59.1253,174.5898 59.3052,175.7725 C59.6651,178.1379 60.0625,180.5238 60.5014,182.9158 C62.2569,192.4838 64.675,202.15 68,211 C74.23,227.58 84.77,244.23 94.38,257.43 \" fill=\"none\" id=\"E4-&gt;E3\" style=\"stroke: #383838; stroke-width: 1.0; stroke-dasharray: 7.0,7.0;\"/><polygon fill=\"#383838\" points=\"97.6,261.77,95.4384,252.1613,94.616,257.758,89.0193,256.9357,97.6,261.77\" style=\"stroke: #383838; stroke-width: 1.0;\"/><text fill=\"#000000\" font-family=\"sans-serif\" font-size=\"13\" lengthAdjust=\"spacingAndGlyphs\" textLength=\"58\" x=\"69\" y=\"207.0669\">«import»</text></a><!--MD5=[e9be52314489bd878ff4c7144b63c9e1]\n",
       "link E5 to E3--><a href=\"psysml:c70856ba-dfdd-4aff-ab00-0a9f4968bc68\" target=\"_top\" title=\"psysml:c70856ba-dfdd-4aff-ab00-0a9f4968bc68\" xlink:actuate=\"onRequest\" xlink:href=\"psysml:c70856ba-dfdd-4aff-ab00-0a9f4968bc68\" xlink:show=\"new\" xlink:title=\"psysml:c70856ba-dfdd-4aff-ab00-0a9f4968bc68\" xlink:type=\"simple\"><path d=\"M143.03,146.32 C142,163.98 139.95,189.21 136,211 C134.13,221.29 131.49,232.23 128.74,242.43 \" fill=\"none\" id=\"E5-&gt;E3\" style=\"stroke: #383838; stroke-width: 1.0;\"/><polygon fill=\"#FFFFFF\" points=\"123.15,261.87,121.6727,241.6755,135.1276,245.544,123.15,261.87\" style=\"stroke: #383838; stroke-width: 1.0;\"/><ellipse cx=\"125.1699\" cy=\"236.7501\" fill=\"#383838\" rx=\"2\" ry=\"2\" style=\"stroke: #383838; stroke-width: 1.0;\"/><ellipse cx=\"134.7805\" cy=\"239.5133\" fill=\"#383838\" rx=\"2\" ry=\"2\" style=\"stroke: #383838; stroke-width: 1.0;\"/></a><!--MD5=[05dce4aceeee345b068b25369f3258a5]\n",
       "@startuml\r\n",
       "top to bottom direction\r\n",
       "skinparam monochrome true\r\n",
       "skinparam classbackgroundcolor white\r\n",
       "skinparam shadowing false\r\n",
       "skinparam wrapWidth 300\r\n",
       "hide circle\r\n",
       "\r\n",
       "package \"AliasImport\" as E1  [[psysml:a09df071-4715-4742-883e-cd73e8c4aa55 ]]  {\r\n",
       "package \"Definitions\" as E2  [[psysml:9e891321-89ab-46bb-b178-ae51d516b5d5 ]]  {\r\n",
       "comp def \"Vehicle\" as E3  <<(T,blue) part  def>> [[psysml:aed7d351-ec1f-43ef-9181-965f0e0fafe7 ]] {\r\n",
       "}\r\n",
       "}\r\n",
       "package \"Usages\" as E4  [[psysml:0357df57-b813-4001-8053-0943e42884ef ]]  {\r\n",
       "comp usage \"vehicle: Vehicle \" as E5  <<(T,blue) part>> [[psysml:9c4f7a54-8ea6-458e-b6c7-855d1197e506 ]] {\r\n",
       "}\r\n",
       "}\r\n",
       "}\r\n",
       "E4 ..> E3 [[psysml:b99e9f78-77ea-4cdc-866d-b9796624c080 ]] : <<import>>\r\n",
       "E5 - -:|> E3 [[psysml:c70856ba-dfdd-4aff-ab00-0a9f4968bc68 ]] \r\n",
       "@enduml\r\n",
       "\n",
       "PlantUML version 1.2020.13(Sat Jun 13 12:26:38 UTC 2020)\n",
       "(EPL source distribution)\n",
       "Java Runtime: OpenJDK Runtime Environment\n",
       "JVM: OpenJDK 64-Bit Server VM\n",
       "Default Encoding: UTF-8\n",
       "Language: en\n",
       "Country: null\n",
       "--></g></svg>"
      ]
     },
     "execution_count": 50,
     "metadata": {},
     "output_type": "execute_result"
    }
   ],
   "source": [
    "%viz --style=\"TB\" --view=\"MIXED\" \"AliasImport\""
   ]
  },
  {
   "cell_type": "code",
   "execution_count": 51,
   "id": "35a93286",
   "metadata": {
    "execution": {
     "iopub.execute_input": "2022-03-03T09:59:09.145480Z",
     "iopub.status.busy": "2022-03-03T09:59:09.145082Z",
     "iopub.status.idle": "2022-03-03T09:59:09.171890Z",
     "shell.execute_reply": "2022-03-03T09:59:09.171503Z"
    }
   },
   "outputs": [
    {
     "data": {
      "image/svg+xml": [
       "<?xml version=\"1.0\" encoding=\"UTF-8\" standalone=\"no\"?><svg xmlns=\"http://www.w3.org/2000/svg\" xmlns:xlink=\"http://www.w3.org/1999/xlink\" contentScriptType=\"application/ecmascript\" contentStyleType=\"text/css\" height=\"360px\" preserveAspectRatio=\"none\" style=\"width:275px;height:360px;\" version=\"1.1\" viewBox=\"0 0 275 360\" width=\"275px\" zoomAndPan=\"magnify\"><defs/><g><!--MD5=[fbc87193dbaf4d95561dea2c320d4a47]\n",
       "cluster E1--><a href=\"psysml:a09df071-4715-4742-883e-cd73e8c4aa55\" target=\"_top\" title=\"psysml:a09df071-4715-4742-883e-cd73e8c4aa55\" xlink:actuate=\"onRequest\" xlink:href=\"psysml:a09df071-4715-4742-883e-cd73e8c4aa55\" xlink:show=\"new\" xlink:title=\"psysml:a09df071-4715-4742-883e-cd73e8c4aa55\" xlink:type=\"simple\"><polygon fill=\"#FFFFFF\" points=\"16,6,97,6,104,28.2969,253,28.2969,253,348,16,348,16,6\" style=\"stroke: #000000; stroke-width: 1.5;\"/><line style=\"stroke: #000000; stroke-width: 1.5;\" x1=\"16\" x2=\"104\" y1=\"28.2969\" y2=\"28.2969\"/><text fill=\"#000000\" font-family=\"sans-serif\" font-size=\"14\" font-weight=\"bold\" lengthAdjust=\"spacingAndGlyphs\" textLength=\"75\" x=\"20\" y=\"20.9951\">AliasImport</text></a><!--MD5=[e4f7fae6ed58524ba242bb0b0d3be6b7]\n",
       "cluster E2--><a href=\"psysml:9e891321-89ab-46bb-b178-ae51d516b5d5\" target=\"_top\" title=\"psysml:9e891321-89ab-46bb-b178-ae51d516b5d5\" xlink:actuate=\"onRequest\" xlink:href=\"psysml:9e891321-89ab-46bb-b178-ae51d516b5d5\" xlink:show=\"new\" xlink:title=\"psysml:9e891321-89ab-46bb-b178-ae51d516b5d5\" xlink:type=\"simple\"><polygon fill=\"#FFFFFF\" points=\"65,227,144,227,151,249.2969,167,249.2969,167,324,65,324,65,227\" style=\"stroke: #000000; stroke-width: 1.5;\"/><line style=\"stroke: #000000; stroke-width: 1.5;\" x1=\"65\" x2=\"151\" y1=\"249.2969\" y2=\"249.2969\"/><text fill=\"#000000\" font-family=\"sans-serif\" font-size=\"14\" font-weight=\"bold\" lengthAdjust=\"spacingAndGlyphs\" textLength=\"73\" x=\"69\" y=\"241.9951\">Definitions</text></a><!--MD5=[f6df4d0ebaf0b5dfb2ced0ae5af7c670]\n",
       "cluster E4--><a href=\"psysml:0357df57-b813-4001-8053-0943e42884ef\" target=\"_top\" title=\"psysml:0357df57-b813-4001-8053-0943e42884ef\" xlink:actuate=\"onRequest\" xlink:href=\"psysml:0357df57-b813-4001-8053-0943e42884ef\" xlink:show=\"new\" xlink:title=\"psysml:0357df57-b813-4001-8053-0943e42884ef\" xlink:type=\"simple\"><polygon fill=\"#FFFFFF\" points=\"48,57,106,57,113,79.2969,221,79.2969,221,170,48,170,48,57\" style=\"stroke: #000000; stroke-width: 1.5;\"/><line style=\"stroke: #000000; stroke-width: 1.5;\" x1=\"48\" x2=\"113\" y1=\"79.2969\" y2=\"79.2969\"/><text fill=\"#000000\" font-family=\"sans-serif\" font-size=\"14\" font-weight=\"bold\" lengthAdjust=\"spacingAndGlyphs\" textLength=\"52\" x=\"52\" y=\"71.9951\">Usages</text></a><!--MD5=[09b614a08d8cba4a07c9adeb5e0fee81]\n",
       "class E3--><a href=\"psysml:aed7d351-ec1f-43ef-9181-965f0e0fafe7\" target=\"_top\" title=\"psysml:aed7d351-ec1f-43ef-9181-965f0e0fafe7\" xlink:actuate=\"onRequest\" xlink:href=\"psysml:aed7d351-ec1f-43ef-9181-965f0e0fafe7\" xlink:show=\"new\" xlink:title=\"psysml:aed7d351-ec1f-43ef-9181-965f0e0fafe7\" xlink:type=\"simple\"><rect fill=\"#FFFFFF\" height=\"45.9375\" id=\"E3\" style=\"stroke: #383838; stroke-width: 1.5;\" width=\"70\" x=\"81\" y=\"262\"/><text fill=\"#000000\" font-family=\"sans-serif\" font-size=\"12\" font-style=\"italic\" lengthAdjust=\"spacingAndGlyphs\" textLength=\"68\" x=\"82\" y=\"278.1387\">«part  def»</text><text fill=\"#000000\" font-family=\"sans-serif\" font-size=\"12\" lengthAdjust=\"spacingAndGlyphs\" textLength=\"45\" x=\"93.5\" y=\"292.1074\">Vehicle</text><line style=\"stroke: #383838; stroke-width: 1.5;\" x1=\"82\" x2=\"150\" y1=\"299.9375\" y2=\"299.9375\"/></a><!--MD5=[270fce915f116d4de14055a7c1d9a0f3]\n",
       "class E5--><a href=\"psysml:9c4f7a54-8ea6-458e-b6c7-855d1197e506\" target=\"_top\" title=\"psysml:9c4f7a54-8ea6-458e-b6c7-855d1197e506\" xlink:actuate=\"onRequest\" xlink:href=\"psysml:9c4f7a54-8ea6-458e-b6c7-855d1197e506\" xlink:show=\"new\" xlink:title=\"psysml:9c4f7a54-8ea6-458e-b6c7-855d1197e506\" xlink:type=\"simple\"><rect fill=\"#FFFFFF\" height=\"45.9375\" id=\"E5\" rx=\"10\" ry=\"10\" style=\"stroke: #383838; stroke-width: 1.5;\" width=\"106\" x=\"91\" y=\"100\"/><text fill=\"#000000\" font-family=\"sans-serif\" font-size=\"12\" font-style=\"italic\" lengthAdjust=\"spacingAndGlyphs\" textLength=\"40\" x=\"124\" y=\"116.1387\">«part»</text><text fill=\"#000000\" font-family=\"sans-serif\" font-size=\"12\" lengthAdjust=\"spacingAndGlyphs\" textLength=\"96\" x=\"94\" y=\"130.1074\">vehicle: Vehicle</text><line style=\"stroke: #383838; stroke-width: 1.5;\" x1=\"92\" x2=\"196\" y1=\"137.9375\" y2=\"137.9375\"/></a><!--MD5=[f0cdf4548168e5211fb3a02bf679d63a]\n",
       "link E4 to E3--><a href=\"psysml:b99e9f78-77ea-4cdc-866d-b9796624c080\" target=\"_top\" title=\"psysml:b99e9f78-77ea-4cdc-866d-b9796624c080\" xlink:actuate=\"onRequest\" xlink:href=\"psysml:b99e9f78-77ea-4cdc-866d-b9796624c080\" xlink:show=\"new\" xlink:title=\"psysml:b99e9f78-77ea-4cdc-866d-b9796624c080\" xlink:type=\"simple\"><path d=\"M86,170.5461 C86,170.7974 86,171.0491 86,171.3013 C86,173.3182 86,175.3597 86,177.4175 C86,181.5331 86,185.7141 86,189.895 C86,223.3425 86,256.79 86,256.79 \" fill=\"none\" id=\"E4-&gt;E3\" style=\"stroke: #383838; stroke-width: 1.0; stroke-dasharray: 7.0,7.0;\"/><polygon fill=\"#383838\" points=\"86,261.79,90,252.79,86,256.79,82,252.79,86,261.79\" style=\"stroke: #383838; stroke-width: 1.0;\"/><text fill=\"#000000\" font-family=\"sans-serif\" font-size=\"13\" lengthAdjust=\"spacingAndGlyphs\" textLength=\"58\" x=\"73\" y=\"207.0669\">«import»</text></a><!--MD5=[e9be52314489bd878ff4c7144b63c9e1]\n",
       "link E5 to E3--><a href=\"psysml:c70856ba-dfdd-4aff-ab00-0a9f4968bc68\" target=\"_top\" title=\"psysml:c70856ba-dfdd-4aff-ab00-0a9f4968bc68\" xlink:actuate=\"onRequest\" xlink:href=\"psysml:c70856ba-dfdd-4aff-ab00-0a9f4968bc68\" xlink:show=\"new\" xlink:title=\"psysml:c70856ba-dfdd-4aff-ab00-0a9f4968bc68\" xlink:type=\"simple\"><path d=\"M121,146.21 C121,146.21 121,241.83 121,241.83 \" fill=\"none\" id=\"E5-&gt;E3\" style=\"stroke: #383838; stroke-width: 1.0;\"/><polygon fill=\"#FFFFFF\" points=\"121,261.83,114,242.83,128,242.83,121,261.83\" style=\"stroke: #383838; stroke-width: 1.0;\"/><ellipse cx=\"116\" cy=\"237.13\" fill=\"#383838\" rx=\"2\" ry=\"2\" style=\"stroke: #383838; stroke-width: 1.0;\"/><ellipse cx=\"126\" cy=\"237.13\" fill=\"#383838\" rx=\"2\" ry=\"2\" style=\"stroke: #383838; stroke-width: 1.0;\"/></a><!--MD5=[7fd1a4480d991857cc496bd9949aef04]\n",
       "@startuml\r\n",
       "skinparam linetype ortho\r\n",
       "skinparam monochrome true\r\n",
       "skinparam classbackgroundcolor white\r\n",
       "skinparam shadowing false\r\n",
       "skinparam wrapWidth 300\r\n",
       "hide circle\r\n",
       "\r\n",
       "package \"AliasImport\" as E1  [[psysml:a09df071-4715-4742-883e-cd73e8c4aa55 ]]  {\r\n",
       "package \"Definitions\" as E2  [[psysml:9e891321-89ab-46bb-b178-ae51d516b5d5 ]]  {\r\n",
       "comp def \"Vehicle\" as E3  <<(T,blue) part  def>> [[psysml:aed7d351-ec1f-43ef-9181-965f0e0fafe7 ]] {\r\n",
       "}\r\n",
       "}\r\n",
       "package \"Usages\" as E4  [[psysml:0357df57-b813-4001-8053-0943e42884ef ]]  {\r\n",
       "comp usage \"vehicle: Vehicle \" as E5  <<(T,blue) part>> [[psysml:9c4f7a54-8ea6-458e-b6c7-855d1197e506 ]] {\r\n",
       "}\r\n",
       "}\r\n",
       "}\r\n",
       "E4 ..> E3 [[psysml:b99e9f78-77ea-4cdc-866d-b9796624c080 ]] : <<import>>\r\n",
       "E5 - -:|> E3 [[psysml:c70856ba-dfdd-4aff-ab00-0a9f4968bc68 ]] \r\n",
       "@enduml\r\n",
       "\n",
       "PlantUML version 1.2020.13(Sat Jun 13 12:26:38 UTC 2020)\n",
       "(EPL source distribution)\n",
       "Java Runtime: OpenJDK Runtime Environment\n",
       "JVM: OpenJDK 64-Bit Server VM\n",
       "Default Encoding: UTF-8\n",
       "Language: en\n",
       "Country: null\n",
       "--></g></svg>"
      ]
     },
     "execution_count": 51,
     "metadata": {},
     "output_type": "execute_result"
    }
   ],
   "source": [
    "%viz --style=\"ORTHOLINE\" --view=\"Default\" \"AliasImport\""
   ]
  },
  {
   "cell_type": "code",
   "execution_count": 52,
   "id": "7f3024e2",
   "metadata": {
    "execution": {
     "iopub.execute_input": "2022-03-03T09:59:09.221350Z",
     "iopub.status.busy": "2022-03-03T09:59:09.220955Z",
     "iopub.status.idle": "2022-03-03T09:59:09.239665Z",
     "shell.execute_reply": "2022-03-03T09:59:09.239301Z"
    }
   },
   "outputs": [
    {
     "data": {
      "image/svg+xml": [
       "<?xml version=\"1.0\" encoding=\"UTF-8\" standalone=\"no\"?><svg xmlns=\"http://www.w3.org/2000/svg\" xmlns:xlink=\"http://www.w3.org/1999/xlink\" contentScriptType=\"application/ecmascript\" contentStyleType=\"text/css\" height=\"360px\" preserveAspectRatio=\"none\" style=\"width:275px;height:360px;\" version=\"1.1\" viewBox=\"0 0 275 360\" width=\"275px\" zoomAndPan=\"magnify\"><defs/><g><!--MD5=[fbc87193dbaf4d95561dea2c320d4a47]\n",
       "cluster E1--><a href=\"psysml:a09df071-4715-4742-883e-cd73e8c4aa55\" target=\"_top\" title=\"psysml:a09df071-4715-4742-883e-cd73e8c4aa55\" xlink:actuate=\"onRequest\" xlink:href=\"psysml:a09df071-4715-4742-883e-cd73e8c4aa55\" xlink:show=\"new\" xlink:title=\"psysml:a09df071-4715-4742-883e-cd73e8c4aa55\" xlink:type=\"simple\"><polygon fill=\"#FFFFFF\" points=\"16,6,97,6,104,28.2969,253,28.2969,253,348,16,348,16,6\" style=\"stroke: #000000; stroke-width: 1.5;\"/><line style=\"stroke: #000000; stroke-width: 1.5;\" x1=\"16\" x2=\"104\" y1=\"28.2969\" y2=\"28.2969\"/><text fill=\"#000000\" font-family=\"sans-serif\" font-size=\"14\" font-weight=\"bold\" lengthAdjust=\"spacingAndGlyphs\" textLength=\"75\" x=\"20\" y=\"20.9951\">AliasImport</text></a><!--MD5=[e4f7fae6ed58524ba242bb0b0d3be6b7]\n",
       "cluster E2--><a href=\"psysml:9e891321-89ab-46bb-b178-ae51d516b5d5\" target=\"_top\" title=\"psysml:9e891321-89ab-46bb-b178-ae51d516b5d5\" xlink:actuate=\"onRequest\" xlink:href=\"psysml:9e891321-89ab-46bb-b178-ae51d516b5d5\" xlink:show=\"new\" xlink:title=\"psysml:9e891321-89ab-46bb-b178-ae51d516b5d5\" xlink:type=\"simple\"><polygon fill=\"#FFFFFF\" points=\"65,227,144,227,151,249.2969,167,249.2969,167,324,65,324,65,227\" style=\"stroke: #000000; stroke-width: 1.5;\"/><line style=\"stroke: #000000; stroke-width: 1.5;\" x1=\"65\" x2=\"151\" y1=\"249.2969\" y2=\"249.2969\"/><text fill=\"#000000\" font-family=\"sans-serif\" font-size=\"14\" font-weight=\"bold\" lengthAdjust=\"spacingAndGlyphs\" textLength=\"73\" x=\"69\" y=\"241.9951\">Definitions</text></a><!--MD5=[f6df4d0ebaf0b5dfb2ced0ae5af7c670]\n",
       "cluster E4--><a href=\"psysml:0357df57-b813-4001-8053-0943e42884ef\" target=\"_top\" title=\"psysml:0357df57-b813-4001-8053-0943e42884ef\" xlink:actuate=\"onRequest\" xlink:href=\"psysml:0357df57-b813-4001-8053-0943e42884ef\" xlink:show=\"new\" xlink:title=\"psysml:0357df57-b813-4001-8053-0943e42884ef\" xlink:type=\"simple\"><polygon fill=\"#FFFFFF\" points=\"48,57,106,57,113,79.2969,221,79.2969,221,170,48,170,48,57\" style=\"stroke: #000000; stroke-width: 1.5;\"/><line style=\"stroke: #000000; stroke-width: 1.5;\" x1=\"48\" x2=\"113\" y1=\"79.2969\" y2=\"79.2969\"/><text fill=\"#000000\" font-family=\"sans-serif\" font-size=\"14\" font-weight=\"bold\" lengthAdjust=\"spacingAndGlyphs\" textLength=\"52\" x=\"52\" y=\"71.9951\">Usages</text></a><!--MD5=[09b614a08d8cba4a07c9adeb5e0fee81]\n",
       "class E3--><a href=\"psysml:aed7d351-ec1f-43ef-9181-965f0e0fafe7\" target=\"_top\" title=\"psysml:aed7d351-ec1f-43ef-9181-965f0e0fafe7\" xlink:actuate=\"onRequest\" xlink:href=\"psysml:aed7d351-ec1f-43ef-9181-965f0e0fafe7\" xlink:show=\"new\" xlink:title=\"psysml:aed7d351-ec1f-43ef-9181-965f0e0fafe7\" xlink:type=\"simple\"><rect fill=\"#FFFFFF\" height=\"45.9375\" id=\"E3\" style=\"stroke: #383838; stroke-width: 1.5;\" width=\"70\" x=\"81\" y=\"262\"/><text fill=\"#000000\" font-family=\"sans-serif\" font-size=\"12\" font-style=\"italic\" lengthAdjust=\"spacingAndGlyphs\" textLength=\"68\" x=\"82\" y=\"278.1387\">«part  def»</text><text fill=\"#000000\" font-family=\"sans-serif\" font-size=\"12\" lengthAdjust=\"spacingAndGlyphs\" textLength=\"45\" x=\"93.5\" y=\"292.1074\">Vehicle</text><line style=\"stroke: #383838; stroke-width: 1.5;\" x1=\"82\" x2=\"150\" y1=\"299.9375\" y2=\"299.9375\"/></a><!--MD5=[270fce915f116d4de14055a7c1d9a0f3]\n",
       "class E5--><a href=\"psysml:9c4f7a54-8ea6-458e-b6c7-855d1197e506\" target=\"_top\" title=\"psysml:9c4f7a54-8ea6-458e-b6c7-855d1197e506\" xlink:actuate=\"onRequest\" xlink:href=\"psysml:9c4f7a54-8ea6-458e-b6c7-855d1197e506\" xlink:show=\"new\" xlink:title=\"psysml:9c4f7a54-8ea6-458e-b6c7-855d1197e506\" xlink:type=\"simple\"><rect fill=\"#FFFFFF\" height=\"45.9375\" id=\"E5\" rx=\"10\" ry=\"10\" style=\"stroke: #383838; stroke-width: 1.5;\" width=\"106\" x=\"91\" y=\"100\"/><text fill=\"#000000\" font-family=\"sans-serif\" font-size=\"12\" font-style=\"italic\" lengthAdjust=\"spacingAndGlyphs\" textLength=\"40\" x=\"124\" y=\"116.1387\">«part»</text><text fill=\"#000000\" font-family=\"sans-serif\" font-size=\"12\" lengthAdjust=\"spacingAndGlyphs\" textLength=\"96\" x=\"94\" y=\"130.1074\">vehicle: Vehicle</text><line style=\"stroke: #383838; stroke-width: 1.5;\" x1=\"92\" x2=\"196\" y1=\"137.9375\" y2=\"137.9375\"/></a><!--MD5=[f0cdf4548168e5211fb3a02bf679d63a]\n",
       "link E4 to E3--><a href=\"psysml:b99e9f78-77ea-4cdc-866d-b9796624c080\" target=\"_top\" title=\"psysml:b99e9f78-77ea-4cdc-866d-b9796624c080\" xlink:actuate=\"onRequest\" xlink:href=\"psysml:b99e9f78-77ea-4cdc-866d-b9796624c080\" xlink:show=\"new\" xlink:title=\"psysml:b99e9f78-77ea-4cdc-866d-b9796624c080\" xlink:type=\"simple\"><path d=\"M86,170.5461 C86,170.7974 86,171.0491 86,171.3013 C86,173.3182 86,175.3597 86,177.4175 C86,181.5331 86,185.7141 86,189.895 C86,223.3425 86,256.79 86,256.79 \" fill=\"none\" id=\"E4-&gt;E3\" style=\"stroke: #383838; stroke-width: 1.0; stroke-dasharray: 7.0,7.0;\"/><polygon fill=\"#383838\" points=\"86,261.79,90,252.79,86,256.79,82,252.79,86,261.79\" style=\"stroke: #383838; stroke-width: 1.0;\"/><text fill=\"#000000\" font-family=\"sans-serif\" font-size=\"13\" lengthAdjust=\"spacingAndGlyphs\" textLength=\"58\" x=\"73\" y=\"207.0669\">«import»</text></a><!--MD5=[e9be52314489bd878ff4c7144b63c9e1]\n",
       "link E5 to E3--><a href=\"psysml:c70856ba-dfdd-4aff-ab00-0a9f4968bc68\" target=\"_top\" title=\"psysml:c70856ba-dfdd-4aff-ab00-0a9f4968bc68\" xlink:actuate=\"onRequest\" xlink:href=\"psysml:c70856ba-dfdd-4aff-ab00-0a9f4968bc68\" xlink:show=\"new\" xlink:title=\"psysml:c70856ba-dfdd-4aff-ab00-0a9f4968bc68\" xlink:type=\"simple\"><path d=\"M121,146.21 C121,146.21 121,241.83 121,241.83 \" fill=\"none\" id=\"E5-&gt;E3\" style=\"stroke: #383838; stroke-width: 1.0;\"/><polygon fill=\"#FFFFFF\" points=\"121,261.83,114,242.83,128,242.83,121,261.83\" style=\"stroke: #383838; stroke-width: 1.0;\"/><ellipse cx=\"116\" cy=\"237.13\" fill=\"#383838\" rx=\"2\" ry=\"2\" style=\"stroke: #383838; stroke-width: 1.0;\"/><ellipse cx=\"126\" cy=\"237.13\" fill=\"#383838\" rx=\"2\" ry=\"2\" style=\"stroke: #383838; stroke-width: 1.0;\"/></a><!--MD5=[7fd1a4480d991857cc496bd9949aef04]\n",
       "@startuml\r\n",
       "skinparam linetype ortho\r\n",
       "skinparam monochrome true\r\n",
       "skinparam classbackgroundcolor white\r\n",
       "skinparam shadowing false\r\n",
       "skinparam wrapWidth 300\r\n",
       "hide circle\r\n",
       "\r\n",
       "package \"AliasImport\" as E1  [[psysml:a09df071-4715-4742-883e-cd73e8c4aa55 ]]  {\r\n",
       "package \"Definitions\" as E2  [[psysml:9e891321-89ab-46bb-b178-ae51d516b5d5 ]]  {\r\n",
       "comp def \"Vehicle\" as E3  <<(T,blue) part  def>> [[psysml:aed7d351-ec1f-43ef-9181-965f0e0fafe7 ]] {\r\n",
       "}\r\n",
       "}\r\n",
       "package \"Usages\" as E4  [[psysml:0357df57-b813-4001-8053-0943e42884ef ]]  {\r\n",
       "comp usage \"vehicle: Vehicle \" as E5  <<(T,blue) part>> [[psysml:9c4f7a54-8ea6-458e-b6c7-855d1197e506 ]] {\r\n",
       "}\r\n",
       "}\r\n",
       "}\r\n",
       "E4 ..> E3 [[psysml:b99e9f78-77ea-4cdc-866d-b9796624c080 ]] : <<import>>\r\n",
       "E5 - -:|> E3 [[psysml:c70856ba-dfdd-4aff-ab00-0a9f4968bc68 ]] \r\n",
       "@enduml\r\n",
       "\n",
       "PlantUML version 1.2020.13(Sat Jun 13 12:26:38 UTC 2020)\n",
       "(EPL source distribution)\n",
       "Java Runtime: OpenJDK Runtime Environment\n",
       "JVM: OpenJDK 64-Bit Server VM\n",
       "Default Encoding: UTF-8\n",
       "Language: en\n",
       "Country: null\n",
       "--></g></svg>"
      ]
     },
     "execution_count": 52,
     "metadata": {},
     "output_type": "execute_result"
    }
   ],
   "source": [
    "%viz --style=\"ORTHOLINE\" --view=\"Tree\" \"AliasImport\""
   ]
  },
  {
   "cell_type": "code",
   "execution_count": 53,
   "id": "e9643fa9",
   "metadata": {
    "execution": {
     "iopub.execute_input": "2022-03-03T09:59:09.289381Z",
     "iopub.status.busy": "2022-03-03T09:59:09.288967Z",
     "iopub.status.idle": "2022-03-03T09:59:09.294061Z",
     "shell.execute_reply": "2022-03-03T09:59:09.293694Z"
    }
   },
   "outputs": [
    {
     "data": {
      "image/svg+xml": [
       "<?xml version=\"1.0\" encoding=\"UTF-8\" standalone=\"no\"?><svg xmlns=\"http://www.w3.org/2000/svg\" xmlns:xlink=\"http://www.w3.org/1999/xlink\" contentScriptType=\"application/ecmascript\" contentStyleType=\"text/css\" height=\"12px\" preserveAspectRatio=\"none\" style=\"width:12px;height:12px;\" version=\"1.1\" viewBox=\"0 0 12 12\" width=\"12px\" zoomAndPan=\"magnify\"><defs/><g><!--MD5=[97d6f38768b311333d388e66b2b27985]\n",
       "@startuml\r\n",
       "skinparam linetype ortho\r\n",
       "skinparam monochrome true\r\n",
       "skinparam classbackgroundcolor white\r\n",
       "skinparam shadowing false\r\n",
       "skinparam wrapWidth 300\r\n",
       "hide circle\r\n",
       "\r\n",
       "@enduml\r\n",
       "\n",
       "PlantUML version 1.2020.13(Sat Jun 13 12:26:38 UTC 2020)\n",
       "(EPL source distribution)\n",
       "Java Runtime: OpenJDK Runtime Environment\n",
       "JVM: OpenJDK 64-Bit Server VM\n",
       "Default Encoding: UTF-8\n",
       "Language: en\n",
       "Country: null\n",
       "--></g></svg>"
      ]
     },
     "execution_count": 53,
     "metadata": {},
     "output_type": "execute_result"
    }
   ],
   "source": [
    "%viz --style=\"ORTHOLINE\" --view=\"State\" \"AliasImport\""
   ]
  },
  {
   "cell_type": "code",
   "execution_count": 54,
   "id": "adc07d64",
   "metadata": {
    "execution": {
     "iopub.execute_input": "2022-03-03T09:59:09.343901Z",
     "iopub.status.busy": "2022-03-03T09:59:09.343497Z",
     "iopub.status.idle": "2022-03-03T09:59:09.369647Z",
     "shell.execute_reply": "2022-03-03T09:59:09.369279Z"
    }
   },
   "outputs": [
    {
     "data": {
      "image/svg+xml": [
       "<?xml version=\"1.0\" encoding=\"UTF-8\" standalone=\"no\"?><svg xmlns=\"http://www.w3.org/2000/svg\" xmlns:xlink=\"http://www.w3.org/1999/xlink\" contentScriptType=\"application/ecmascript\" contentStyleType=\"text/css\" height=\"351px\" preserveAspectRatio=\"none\" style=\"width:302px;height:351px;\" version=\"1.1\" viewBox=\"0 0 302 351\" width=\"302px\" zoomAndPan=\"magnify\"><defs/><g><!--MD5=[fbc87193dbaf4d95561dea2c320d4a47]\n",
       "cluster E1--><a href=\"psysml:a09df071-4715-4742-883e-cd73e8c4aa55\" target=\"_top\" title=\"psysml:a09df071-4715-4742-883e-cd73e8c4aa55\" xlink:actuate=\"onRequest\" xlink:href=\"psysml:a09df071-4715-4742-883e-cd73e8c4aa55\" xlink:show=\"new\" xlink:title=\"psysml:a09df071-4715-4742-883e-cd73e8c4aa55\" xlink:type=\"simple\"><polygon fill=\"#FFFFFF\" points=\"16,6,97,6,104,28.2969,280,28.2969,280,339,16,339,16,6\" style=\"stroke: #000000; stroke-width: 1.5;\"/><line style=\"stroke: #000000; stroke-width: 1.5;\" x1=\"16\" x2=\"104\" y1=\"28.2969\" y2=\"28.2969\"/><text fill=\"#000000\" font-family=\"sans-serif\" font-size=\"14\" font-weight=\"bold\" lengthAdjust=\"spacingAndGlyphs\" textLength=\"75\" x=\"20\" y=\"20.9951\">AliasImport</text></a><!--MD5=[e4f7fae6ed58524ba242bb0b0d3be6b7]\n",
       "cluster E2--><a href=\"psysml:9e891321-89ab-46bb-b178-ae51d516b5d5\" target=\"_top\" title=\"psysml:9e891321-89ab-46bb-b178-ae51d516b5d5\" xlink:actuate=\"onRequest\" xlink:href=\"psysml:9e891321-89ab-46bb-b178-ae51d516b5d5\" xlink:show=\"new\" xlink:title=\"psysml:9e891321-89ab-46bb-b178-ae51d516b5d5\" xlink:type=\"simple\"><polygon fill=\"#FFFFFF\" points=\"40,221,119,221,126,243.2969,256,243.2969,256,315,40,315,40,221\" style=\"stroke: #000000; stroke-width: 1.5;\"/><line style=\"stroke: #000000; stroke-width: 1.5;\" x1=\"40\" x2=\"126\" y1=\"243.2969\" y2=\"243.2969\"/><text fill=\"#000000\" font-family=\"sans-serif\" font-size=\"14\" font-weight=\"bold\" lengthAdjust=\"spacingAndGlyphs\" textLength=\"73\" x=\"44\" y=\"235.9951\">Definitions</text></a><!--MD5=[de5ec2e2e8f62f467e546659f5068c88]\n",
       "cluster E5--><a href=\"psysml:0357df57-b813-4001-8053-0943e42884ef\" target=\"_top\" title=\"psysml:0357df57-b813-4001-8053-0943e42884ef\" xlink:actuate=\"onRequest\" xlink:href=\"psysml:0357df57-b813-4001-8053-0943e42884ef\" xlink:show=\"new\" xlink:title=\"psysml:0357df57-b813-4001-8053-0943e42884ef\" xlink:type=\"simple\"><polygon fill=\"#FFFFFF\" points=\"74,57,132,57,139,79.2969,248,79.2969,248,164,74,164,74,57\" style=\"stroke: #000000; stroke-width: 1.5;\"/><line style=\"stroke: #000000; stroke-width: 1.5;\" x1=\"74\" x2=\"139\" y1=\"79.2969\" y2=\"79.2969\"/><text fill=\"#000000\" font-family=\"sans-serif\" font-size=\"14\" font-weight=\"bold\" lengthAdjust=\"spacingAndGlyphs\" textLength=\"52\" x=\"78\" y=\"71.9951\">Usages</text></a><g id=\"E1.E2.E3\"><a href=\"psysml:aed7d351-ec1f-43ef-9181-965f0e0fafe7\" target=\"_top\" title=\"psysml:aed7d351-ec1f-43ef-9181-965f0e0fafe7\" xlink:actuate=\"onRequest\" xlink:href=\"psysml:aed7d351-ec1f-43ef-9181-965f0e0fafe7\" xlink:show=\"new\" xlink:title=\"psysml:aed7d351-ec1f-43ef-9181-965f0e0fafe7\" xlink:type=\"simple\"><rect fill=\"#FFFFFF\" height=\"42.9375\" id=\"E3\" style=\"stroke: #383838; stroke-width: 1.5;\" width=\"75\" x=\"165.5\" y=\"256\"/><rect fill=\"#F8F8F8\" height=\"37.9375\" style=\"stroke: #383838; stroke-width: 1.5;\" width=\"75\" x=\"165.5\" y=\"256\"/><text fill=\"#000000\" font-family=\"sans-serif\" font-size=\"12\" font-style=\"italic\" lengthAdjust=\"spacingAndGlyphs\" textLength=\"68\" x=\"169\" y=\"272.1387\">«part  def»</text><text fill=\"#000000\" font-family=\"sans-serif\" font-size=\"12\" lengthAdjust=\"spacingAndGlyphs\" textLength=\"45\" x=\"180.5\" y=\"286.1074\">Vehicle</text></a></g><g id=\"E1.E2.E4\"><a href=\"psysml:aed7d351-ec1f-43ef-9181-965f0e0fafe7\" target=\"_top\" title=\"psysml:aed7d351-ec1f-43ef-9181-965f0e0fafe7\" xlink:actuate=\"onRequest\" xlink:href=\"psysml:aed7d351-ec1f-43ef-9181-965f0e0fafe7\" xlink:show=\"new\" xlink:title=\"psysml:aed7d351-ec1f-43ef-9181-965f0e0fafe7\" xlink:type=\"simple\"><rect fill=\"#FFFFFF\" height=\"42.9375\" id=\"E4\" style=\"stroke: #383838; stroke-width: 1.5;\" width=\"75\" x=\"55.5\" y=\"256\"/><rect fill=\"#F8F8F8\" height=\"37.9375\" style=\"stroke: #383838; stroke-width: 1.5;\" width=\"75\" x=\"55.5\" y=\"256\"/><text fill=\"#000000\" font-family=\"sans-serif\" font-size=\"12\" font-style=\"italic\" lengthAdjust=\"spacingAndGlyphs\" textLength=\"68\" x=\"59\" y=\"272.1387\">«part  def»</text><text fill=\"#000000\" font-family=\"sans-serif\" font-size=\"12\" lengthAdjust=\"spacingAndGlyphs\" textLength=\"45\" x=\"70.5\" y=\"286.1074\">Vehicle</text></a></g><g id=\"E1.E5.E6\"><a href=\"psysml:9c4f7a54-8ea6-458e-b6c7-855d1197e506\" target=\"_top\" title=\"psysml:9c4f7a54-8ea6-458e-b6c7-855d1197e506\" xlink:actuate=\"onRequest\" xlink:href=\"psysml:9c4f7a54-8ea6-458e-b6c7-855d1197e506\" xlink:show=\"new\" xlink:title=\"psysml:9c4f7a54-8ea6-458e-b6c7-855d1197e506\" xlink:type=\"simple\"><rect fill=\"#FFFFFF\" height=\"40\" id=\"E6\" rx=\"10\" ry=\"10\" style=\"stroke: #383838; stroke-width: 1.5;\" width=\"107\" x=\"117.5\" y=\"100\"/><rect fill=\"#F8F8F8\" height=\"23.9688\" rx=\"10\" ry=\"10\" style=\"stroke: #F8F8F8; stroke-width: 1.5;\" width=\"107\" x=\"117.5\" y=\"100\"/><rect fill=\"#F8F8F8\" height=\"10\" style=\"stroke: #F8F8F8; stroke-width: 1.5;\" width=\"107\" x=\"117.5\" y=\"113.9688\"/><rect fill=\"none\" height=\"40\" id=\"E6\" rx=\"10\" ry=\"10\" style=\"stroke: #383838; stroke-width: 1.5;\" width=\"107\" x=\"117.5\" y=\"100\"/><text fill=\"#000000\" font-family=\"sans-serif\" font-size=\"12\" lengthAdjust=\"spacingAndGlyphs\" textLength=\"96\" x=\"123\" y=\"116.1387\">vehicle: Vehicle</text></a></g><!--MD5=[1c62de2aa5b76f0fb657ff8443a1a700]\n",
       "link E5 to E4--><a href=\"psysml:b99e9f78-77ea-4cdc-866d-b9796624c080\" target=\"_top\" title=\"psysml:b99e9f78-77ea-4cdc-866d-b9796624c080\" xlink:actuate=\"onRequest\" xlink:href=\"psysml:b99e9f78-77ea-4cdc-866d-b9796624c080\" xlink:show=\"new\" xlink:title=\"psysml:b99e9f78-77ea-4cdc-866d-b9796624c080\" xlink:type=\"simple\"><path d=\"M82,164.6076 C82,165.5779 82,166.5551 82,167.5382 C82,169.5045 82,171.4947 82,173.5009 C82,177.5131 82,181.5891 82,185.665 C82,218.2725 82,250.88 82,250.88 \" fill=\"none\" id=\"E5-&gt;E4\" style=\"stroke: #383838; stroke-width: 1.0; stroke-dasharray: 7.0,7.0;\"/><polygon fill=\"#383838\" points=\"82,255.88,86,246.88,82,250.88,78,246.88,82,255.88\" style=\"stroke: #383838; stroke-width: 1.0;\"/><text fill=\"#000000\" font-family=\"sans-serif\" font-size=\"13\" lengthAdjust=\"spacingAndGlyphs\" textLength=\"58\" x=\"88\" y=\"201.0669\">«import»</text></a><!--MD5=[fbfbe04a4e42cf432710d6a4d45b6237]\n",
       "@startuml\r\n",
       "skinparam ranksep 10\r\n",
       "skinparam rectangle {\r\n",
       " backgroundColor<<block>> LightGreen\r\n",
       "}\r\n",
       "skinparam linetype ortho\r\n",
       "skinparam monochrome true\r\n",
       "skinparam classbackgroundcolor white\r\n",
       "skinparam shadowing false\r\n",
       "skinparam wrapWidth 300\r\n",
       "hide circle\r\n",
       "\r\n",
       "package \"AliasImport\" as E1  [[psysml:a09df071-4715-4742-883e-cd73e8c4aa55 ]]  {\r\n",
       "package \"Definitions\" as E2  [[psysml:9e891321-89ab-46bb-b178-ae51d516b5d5 ]]  {\r\n",
       "rec def \"Vehicle\" as E3  <<(T,blue) part  def>> [[psysml:aed7d351-ec1f-43ef-9181-965f0e0fafe7 ]] {\r\n",
       "}\r\n",
       "rec def \"Vehicle\" as E4  <<(T,blue) part  def>> [[psysml:aed7d351-ec1f-43ef-9181-965f0e0fafe7 ]] {\r\n",
       "}\r\n",
       "}\r\n",
       "package \"Usages\" as E5  [[psysml:0357df57-b813-4001-8053-0943e42884ef ]]  {\r\n",
       "rec usage \"vehicle: Vehicle\" as E6  [[psysml:9c4f7a54-8ea6-458e-b6c7-855d1197e506 ]] {\r\n",
       "}\r\n",
       "}\r\n",
       "}\r\n",
       "E5 ..> E4 [[psysml:b99e9f78-77ea-4cdc-866d-b9796624c080 ]] : <<import>>\r\n",
       "@enduml\r\n",
       "\n",
       "PlantUML version 1.2020.13(Sat Jun 13 12:26:38 UTC 2020)\n",
       "(EPL source distribution)\n",
       "Java Runtime: OpenJDK Runtime Environment\n",
       "JVM: OpenJDK 64-Bit Server VM\n",
       "Default Encoding: UTF-8\n",
       "Language: en\n",
       "Country: null\n",
       "--></g></svg>"
      ]
     },
     "execution_count": 54,
     "metadata": {},
     "output_type": "execute_result"
    }
   ],
   "source": [
    "%viz --style=\"ORTHOLINE\" --view=\"Interconnection\" \"AliasImport\""
   ]
  },
  {
   "cell_type": "code",
   "execution_count": 55,
   "id": "40a53014",
   "metadata": {
    "execution": {
     "iopub.execute_input": "2022-03-03T09:59:09.418706Z",
     "iopub.status.busy": "2022-03-03T09:59:09.418304Z",
     "iopub.status.idle": "2022-03-03T09:59:09.423424Z",
     "shell.execute_reply": "2022-03-03T09:59:09.423073Z"
    }
   },
   "outputs": [
    {
     "data": {
      "image/svg+xml": [
       "<?xml version=\"1.0\" encoding=\"UTF-8\" standalone=\"no\"?><svg xmlns=\"http://www.w3.org/2000/svg\" xmlns:xlink=\"http://www.w3.org/1999/xlink\" contentScriptType=\"application/ecmascript\" contentStyleType=\"text/css\" height=\"12px\" preserveAspectRatio=\"none\" style=\"width:12px;height:12px;\" version=\"1.1\" viewBox=\"0 0 12 12\" width=\"12px\" zoomAndPan=\"magnify\"><defs/><g><!--MD5=[72934c63077099a26744516a776b4749]\n",
       "@startuml\r\n",
       "skinparam ranksep 8\r\n",
       "skinparam linetype ortho\r\n",
       "skinparam monochrome true\r\n",
       "skinparam classbackgroundcolor white\r\n",
       "skinparam shadowing false\r\n",
       "skinparam wrapWidth 300\r\n",
       "hide circle\r\n",
       "\r\n",
       "@enduml\r\n",
       "\n",
       "PlantUML version 1.2020.13(Sat Jun 13 12:26:38 UTC 2020)\n",
       "(EPL source distribution)\n",
       "Java Runtime: OpenJDK Runtime Environment\n",
       "JVM: OpenJDK 64-Bit Server VM\n",
       "Default Encoding: UTF-8\n",
       "Language: en\n",
       "Country: null\n",
       "--></g></svg>"
      ]
     },
     "execution_count": 55,
     "metadata": {},
     "output_type": "execute_result"
    }
   ],
   "source": [
    "%viz --style=\"ORTHOLINE\" --view=\"Action\" \"AliasImport\""
   ]
  },
  {
   "cell_type": "code",
   "execution_count": 56,
   "id": "ae72f65f",
   "metadata": {
    "execution": {
     "iopub.execute_input": "2022-03-03T09:59:09.473109Z",
     "iopub.status.busy": "2022-03-03T09:59:09.472714Z",
     "iopub.status.idle": "2022-03-03T09:59:09.477639Z",
     "shell.execute_reply": "2022-03-03T09:59:09.477284Z"
    }
   },
   "outputs": [
    {
     "data": {
      "image/svg+xml": [
       "<?xml version=\"1.0\" encoding=\"UTF-8\" standalone=\"no\"?><svg xmlns=\"http://www.w3.org/2000/svg\" xmlns:xlink=\"http://www.w3.org/1999/xlink\" contentScriptType=\"application/ecmascript\" contentStyleType=\"text/css\" height=\"12px\" preserveAspectRatio=\"none\" style=\"width:12px;height:12px;\" version=\"1.1\" viewBox=\"0 0 12 12\" width=\"12px\" zoomAndPan=\"magnify\"><defs/><g><!--MD5=[30fc1de5121c5abddedd55b44417fde8]\n",
       "@startuml\r\n",
       "skinparam roundcorner 20\r\n",
       "skinparam BoxPadding 20\r\n",
       "skinparam SequenceBoxBackgroundColor #white\r\n",
       "skinparam style strictuml\r\n",
       "skinparam maxMessageSize 100\r\n",
       "skinparam linetype ortho\r\n",
       "skinparam monochrome true\r\n",
       "skinparam classbackgroundcolor white\r\n",
       "skinparam shadowing false\r\n",
       "skinparam wrapWidth 300\r\n",
       "hide circle\r\n",
       "\r\n",
       "@enduml\r\n",
       "\n",
       "PlantUML version 1.2020.13(Sat Jun 13 12:26:38 UTC 2020)\n",
       "(EPL source distribution)\n",
       "Java Runtime: OpenJDK Runtime Environment\n",
       "JVM: OpenJDK 64-Bit Server VM\n",
       "Default Encoding: UTF-8\n",
       "Language: en\n",
       "Country: null\n",
       "--></g></svg>"
      ]
     },
     "execution_count": 56,
     "metadata": {},
     "output_type": "execute_result"
    }
   ],
   "source": [
    "%viz --style=\"ORTHOLINE\" --view=\"Sequence\" \"AliasImport\""
   ]
  },
  {
   "cell_type": "code",
   "execution_count": 57,
   "id": "5cba9340",
   "metadata": {
    "execution": {
     "iopub.execute_input": "2022-03-03T09:59:09.527450Z",
     "iopub.status.busy": "2022-03-03T09:59:09.527047Z",
     "iopub.status.idle": "2022-03-03T09:59:09.554171Z",
     "shell.execute_reply": "2022-03-03T09:59:09.552875Z"
    }
   },
   "outputs": [
    {
     "data": {
      "image/svg+xml": [
       "<?xml version=\"1.0\" encoding=\"UTF-8\" standalone=\"no\"?><svg xmlns=\"http://www.w3.org/2000/svg\" xmlns:xlink=\"http://www.w3.org/1999/xlink\" contentScriptType=\"application/ecmascript\" contentStyleType=\"text/css\" height=\"360px\" preserveAspectRatio=\"none\" style=\"width:275px;height:360px;\" version=\"1.1\" viewBox=\"0 0 275 360\" width=\"275px\" zoomAndPan=\"magnify\"><defs/><g><!--MD5=[fbc87193dbaf4d95561dea2c320d4a47]\n",
       "cluster E1--><a href=\"psysml:a09df071-4715-4742-883e-cd73e8c4aa55\" target=\"_top\" title=\"psysml:a09df071-4715-4742-883e-cd73e8c4aa55\" xlink:actuate=\"onRequest\" xlink:href=\"psysml:a09df071-4715-4742-883e-cd73e8c4aa55\" xlink:show=\"new\" xlink:title=\"psysml:a09df071-4715-4742-883e-cd73e8c4aa55\" xlink:type=\"simple\"><polygon fill=\"#FFFFFF\" points=\"16,6,97,6,104,28.2969,253,28.2969,253,348,16,348,16,6\" style=\"stroke: #000000; stroke-width: 1.5;\"/><line style=\"stroke: #000000; stroke-width: 1.5;\" x1=\"16\" x2=\"104\" y1=\"28.2969\" y2=\"28.2969\"/><text fill=\"#000000\" font-family=\"sans-serif\" font-size=\"14\" font-weight=\"bold\" lengthAdjust=\"spacingAndGlyphs\" textLength=\"75\" x=\"20\" y=\"20.9951\">AliasImport</text></a><!--MD5=[e4f7fae6ed58524ba242bb0b0d3be6b7]\n",
       "cluster E2--><a href=\"psysml:9e891321-89ab-46bb-b178-ae51d516b5d5\" target=\"_top\" title=\"psysml:9e891321-89ab-46bb-b178-ae51d516b5d5\" xlink:actuate=\"onRequest\" xlink:href=\"psysml:9e891321-89ab-46bb-b178-ae51d516b5d5\" xlink:show=\"new\" xlink:title=\"psysml:9e891321-89ab-46bb-b178-ae51d516b5d5\" xlink:type=\"simple\"><polygon fill=\"#FFFFFF\" points=\"65,227,144,227,151,249.2969,167,249.2969,167,324,65,324,65,227\" style=\"stroke: #000000; stroke-width: 1.5;\"/><line style=\"stroke: #000000; stroke-width: 1.5;\" x1=\"65\" x2=\"151\" y1=\"249.2969\" y2=\"249.2969\"/><text fill=\"#000000\" font-family=\"sans-serif\" font-size=\"14\" font-weight=\"bold\" lengthAdjust=\"spacingAndGlyphs\" textLength=\"73\" x=\"69\" y=\"241.9951\">Definitions</text></a><!--MD5=[f6df4d0ebaf0b5dfb2ced0ae5af7c670]\n",
       "cluster E4--><a href=\"psysml:0357df57-b813-4001-8053-0943e42884ef\" target=\"_top\" title=\"psysml:0357df57-b813-4001-8053-0943e42884ef\" xlink:actuate=\"onRequest\" xlink:href=\"psysml:0357df57-b813-4001-8053-0943e42884ef\" xlink:show=\"new\" xlink:title=\"psysml:0357df57-b813-4001-8053-0943e42884ef\" xlink:type=\"simple\"><polygon fill=\"#FFFFFF\" points=\"48,57,106,57,113,79.2969,221,79.2969,221,170,48,170,48,57\" style=\"stroke: #000000; stroke-width: 1.5;\"/><line style=\"stroke: #000000; stroke-width: 1.5;\" x1=\"48\" x2=\"113\" y1=\"79.2969\" y2=\"79.2969\"/><text fill=\"#000000\" font-family=\"sans-serif\" font-size=\"14\" font-weight=\"bold\" lengthAdjust=\"spacingAndGlyphs\" textLength=\"52\" x=\"52\" y=\"71.9951\">Usages</text></a><!--MD5=[09b614a08d8cba4a07c9adeb5e0fee81]\n",
       "class E3--><a href=\"psysml:aed7d351-ec1f-43ef-9181-965f0e0fafe7\" target=\"_top\" title=\"psysml:aed7d351-ec1f-43ef-9181-965f0e0fafe7\" xlink:actuate=\"onRequest\" xlink:href=\"psysml:aed7d351-ec1f-43ef-9181-965f0e0fafe7\" xlink:show=\"new\" xlink:title=\"psysml:aed7d351-ec1f-43ef-9181-965f0e0fafe7\" xlink:type=\"simple\"><rect fill=\"#FFFFFF\" height=\"45.9375\" id=\"E3\" style=\"stroke: #383838; stroke-width: 1.5;\" width=\"70\" x=\"81\" y=\"262\"/><text fill=\"#000000\" font-family=\"sans-serif\" font-size=\"12\" font-style=\"italic\" lengthAdjust=\"spacingAndGlyphs\" textLength=\"68\" x=\"82\" y=\"278.1387\">«part  def»</text><text fill=\"#000000\" font-family=\"sans-serif\" font-size=\"12\" lengthAdjust=\"spacingAndGlyphs\" textLength=\"45\" x=\"93.5\" y=\"292.1074\">Vehicle</text><line style=\"stroke: #383838; stroke-width: 1.5;\" x1=\"82\" x2=\"150\" y1=\"299.9375\" y2=\"299.9375\"/></a><!--MD5=[270fce915f116d4de14055a7c1d9a0f3]\n",
       "class E5--><a href=\"psysml:9c4f7a54-8ea6-458e-b6c7-855d1197e506\" target=\"_top\" title=\"psysml:9c4f7a54-8ea6-458e-b6c7-855d1197e506\" xlink:actuate=\"onRequest\" xlink:href=\"psysml:9c4f7a54-8ea6-458e-b6c7-855d1197e506\" xlink:show=\"new\" xlink:title=\"psysml:9c4f7a54-8ea6-458e-b6c7-855d1197e506\" xlink:type=\"simple\"><rect fill=\"#FFFFFF\" height=\"45.9375\" id=\"E5\" rx=\"10\" ry=\"10\" style=\"stroke: #383838; stroke-width: 1.5;\" width=\"106\" x=\"91\" y=\"100\"/><text fill=\"#000000\" font-family=\"sans-serif\" font-size=\"12\" font-style=\"italic\" lengthAdjust=\"spacingAndGlyphs\" textLength=\"40\" x=\"124\" y=\"116.1387\">«part»</text><text fill=\"#000000\" font-family=\"sans-serif\" font-size=\"12\" lengthAdjust=\"spacingAndGlyphs\" textLength=\"96\" x=\"94\" y=\"130.1074\">vehicle: Vehicle</text><line style=\"stroke: #383838; stroke-width: 1.5;\" x1=\"92\" x2=\"196\" y1=\"137.9375\" y2=\"137.9375\"/></a><!--MD5=[f0cdf4548168e5211fb3a02bf679d63a]\n",
       "link E4 to E3--><a href=\"psysml:b99e9f78-77ea-4cdc-866d-b9796624c080\" target=\"_top\" title=\"psysml:b99e9f78-77ea-4cdc-866d-b9796624c080\" xlink:actuate=\"onRequest\" xlink:href=\"psysml:b99e9f78-77ea-4cdc-866d-b9796624c080\" xlink:show=\"new\" xlink:title=\"psysml:b99e9f78-77ea-4cdc-866d-b9796624c080\" xlink:type=\"simple\"><path d=\"M86,170.5461 C86,170.7974 86,171.0491 86,171.3013 C86,173.3182 86,175.3597 86,177.4175 C86,181.5331 86,185.7141 86,189.895 C86,223.3425 86,256.79 86,256.79 \" fill=\"none\" id=\"E4-&gt;E3\" style=\"stroke: #383838; stroke-width: 1.0; stroke-dasharray: 7.0,7.0;\"/><polygon fill=\"#383838\" points=\"86,261.79,90,252.79,86,256.79,82,252.79,86,261.79\" style=\"stroke: #383838; stroke-width: 1.0;\"/><text fill=\"#000000\" font-family=\"sans-serif\" font-size=\"13\" lengthAdjust=\"spacingAndGlyphs\" textLength=\"58\" x=\"73\" y=\"207.0669\">«import»</text></a><!--MD5=[e9be52314489bd878ff4c7144b63c9e1]\n",
       "link E5 to E3--><a href=\"psysml:c70856ba-dfdd-4aff-ab00-0a9f4968bc68\" target=\"_top\" title=\"psysml:c70856ba-dfdd-4aff-ab00-0a9f4968bc68\" xlink:actuate=\"onRequest\" xlink:href=\"psysml:c70856ba-dfdd-4aff-ab00-0a9f4968bc68\" xlink:show=\"new\" xlink:title=\"psysml:c70856ba-dfdd-4aff-ab00-0a9f4968bc68\" xlink:type=\"simple\"><path d=\"M121,146.21 C121,146.21 121,241.83 121,241.83 \" fill=\"none\" id=\"E5-&gt;E3\" style=\"stroke: #383838; stroke-width: 1.0;\"/><polygon fill=\"#FFFFFF\" points=\"121,261.83,114,242.83,128,242.83,121,261.83\" style=\"stroke: #383838; stroke-width: 1.0;\"/><ellipse cx=\"116\" cy=\"237.13\" fill=\"#383838\" rx=\"2\" ry=\"2\" style=\"stroke: #383838; stroke-width: 1.0;\"/><ellipse cx=\"126\" cy=\"237.13\" fill=\"#383838\" rx=\"2\" ry=\"2\" style=\"stroke: #383838; stroke-width: 1.0;\"/></a><!--MD5=[7fd1a4480d991857cc496bd9949aef04]\n",
       "@startuml\r\n",
       "skinparam linetype ortho\r\n",
       "skinparam monochrome true\r\n",
       "skinparam classbackgroundcolor white\r\n",
       "skinparam shadowing false\r\n",
       "skinparam wrapWidth 300\r\n",
       "hide circle\r\n",
       "\r\n",
       "package \"AliasImport\" as E1  [[psysml:a09df071-4715-4742-883e-cd73e8c4aa55 ]]  {\r\n",
       "package \"Definitions\" as E2  [[psysml:9e891321-89ab-46bb-b178-ae51d516b5d5 ]]  {\r\n",
       "comp def \"Vehicle\" as E3  <<(T,blue) part  def>> [[psysml:aed7d351-ec1f-43ef-9181-965f0e0fafe7 ]] {\r\n",
       "}\r\n",
       "}\r\n",
       "package \"Usages\" as E4  [[psysml:0357df57-b813-4001-8053-0943e42884ef ]]  {\r\n",
       "comp usage \"vehicle: Vehicle \" as E5  <<(T,blue) part>> [[psysml:9c4f7a54-8ea6-458e-b6c7-855d1197e506 ]] {\r\n",
       "}\r\n",
       "}\r\n",
       "}\r\n",
       "E4 ..> E3 [[psysml:b99e9f78-77ea-4cdc-866d-b9796624c080 ]] : <<import>>\r\n",
       "E5 - -:|> E3 [[psysml:c70856ba-dfdd-4aff-ab00-0a9f4968bc68 ]] \r\n",
       "@enduml\r\n",
       "\n",
       "PlantUML version 1.2020.13(Sat Jun 13 12:26:38 UTC 2020)\n",
       "(EPL source distribution)\n",
       "Java Runtime: OpenJDK Runtime Environment\n",
       "JVM: OpenJDK 64-Bit Server VM\n",
       "Default Encoding: UTF-8\n",
       "Language: en\n",
       "Country: null\n",
       "--></g></svg>"
      ]
     },
     "execution_count": 57,
     "metadata": {},
     "output_type": "execute_result"
    }
   ],
   "source": [
    "%viz --style=\"ORTHOLINE\" --view=\"MIXED\" \"AliasImport\""
   ]
  }
 ],
 "metadata": {
  "kernelspec": {
   "display_name": "SysML",
   "language": "sysml",
   "name": "sysml"
  },
  "language_info": {
   "codemirror_mode": "sysml",
   "file_extension": ".sysml",
   "mimetype": "text/x-sysml",
   "name": "SysML",
   "pygments_lexer": "java",
   "version": "1.0.0"
  }
 },
 "nbformat": 4,
 "nbformat_minor": 5
}
