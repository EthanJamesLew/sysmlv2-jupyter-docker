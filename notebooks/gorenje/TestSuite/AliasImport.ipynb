{
 "cells": [
  {
   "cell_type": "markdown",
   "id": "d8405da4",
   "metadata": {},
   "source": [
    "# SysML v2 Test Suite\n",
    "\n",
    "This can notebook can be cleared using menu `Edit --> Clear All Outputs` and then all cells can be\n",
    "run using menu `Run --> Run All Cells`.\n",
    "\n",
    "**WARNING**: This file is generated, all modifications here will be ignored.\n"
   ]
  },
  {
   "cell_type": "markdown",
   "id": "b5d3f7f7",
   "metadata": {},
   "source": [
    "## File: ../../sysml/src/examples/Import Tests/AliasImport.sysml"
   ]
  },
  {
   "cell_type": "code",
   "execution_count": 1,
   "id": "30272ad8",
   "metadata": {
    "execution": {
     "iopub.execute_input": "2021-08-04T06:25:39.331156Z",
     "iopub.status.busy": "2021-08-04T06:25:39.330077Z",
     "iopub.status.idle": "2021-08-04T06:25:39.413993Z",
     "shell.execute_reply": "2021-08-04T06:25:39.414325Z"
    }
   },
   "outputs": [
    {
     "data": {
      "text/plain": [
       "Package AliasImport (87655b6a-df7a-4f90-bea4-23a82158bf89)\n"
      ]
     },
     "execution_count": 1,
     "metadata": {},
     "output_type": "execute_result"
    }
   ],
   "source": [
    "package AliasImport {\n",
    "\tpackage Definitions {\n",
    "\t    part def Vehicle;\n",
    "\t    \n",
    "\t    alias Car for Vehicle;\n",
    "\t}\n",
    "\t\n",
    "\tpackage Usages {\n",
    "\t    import Definitions::Car;\n",
    "\t\n",
    "\t    part vehicle : Car;\n",
    "\t}\n",
    "}"
   ]
  },
  {
   "cell_type": "code",
   "execution_count": 2,
   "id": "eefa9ab9",
   "metadata": {
    "execution": {
     "iopub.execute_input": "2021-08-04T06:25:39.465751Z",
     "iopub.status.busy": "2021-08-04T06:25:39.465378Z",
     "iopub.status.idle": "2021-08-04T06:25:39.808797Z",
     "shell.execute_reply": "2021-08-04T06:25:39.807328Z"
    }
   },
   "outputs": [
    {
     "data": {
      "image/svg+xml": [
       "<?xml version=\"1.0\" encoding=\"UTF-8\" standalone=\"no\"?><svg xmlns=\"http://www.w3.org/2000/svg\" xmlns:xlink=\"http://www.w3.org/1999/xlink\" contentScriptType=\"application/ecmascript\" contentStyleType=\"text/css\" height=\"303px\" preserveAspectRatio=\"none\" style=\"width:220px;height:303px;\" version=\"1.1\" viewBox=\"0 0 220 303\" width=\"220px\" zoomAndPan=\"magnify\"><defs/><g><!--MD5=[fbc87193dbaf4d95561dea2c320d4a47]\n",
       "cluster E1--><a href=\"psysml:ef3d48fd-2829-4dbf-9589-92371a3e091f\" target=\"_top\" title=\"psysml:ef3d48fd-2829-4dbf-9589-92371a3e091f\" xlink:actuate=\"onRequest\" xlink:href=\"psysml:ef3d48fd-2829-4dbf-9589-92371a3e091f\" xlink:show=\"new\" xlink:title=\"psysml:ef3d48fd-2829-4dbf-9589-92371a3e091f\" xlink:type=\"simple\"><polygon fill=\"#FFFFFF\" points=\"16,6,110,6,117,28.2969,198,28.2969,198,291,16,291,16,6\" style=\"stroke: #000000; stroke-width: 1.5;\"/><line style=\"stroke: #000000; stroke-width: 1.5;\" x1=\"16\" x2=\"117\" y1=\"28.2969\" y2=\"28.2969\"/><text fill=\"#000000\" font-family=\"sans-serif\" font-size=\"14\" font-weight=\"bold\" lengthAdjust=\"spacingAndGlyphs\" textLength=\"88\" x=\"20\" y=\"20.9951\">AliasImport</text></a><!--MD5=[e4f7fae6ed58524ba242bb0b0d3be6b7]\n",
       "cluster E2--><a href=\"psysml:de0d2cc7-98e6-429c-a225-0b1a04e72b17\" target=\"_top\" title=\"psysml:de0d2cc7-98e6-429c-a225-0b1a04e72b17\" xlink:actuate=\"onRequest\" xlink:href=\"psysml:de0d2cc7-98e6-429c-a225-0b1a04e72b17\" xlink:show=\"new\" xlink:title=\"psysml:de0d2cc7-98e6-429c-a225-0b1a04e72b17\" xlink:type=\"simple\"><polygon fill=\"#FFFFFF\" points=\"57,170,147,170,154,192.2969,157,192.2969,157,267,57,267,57,170\" style=\"stroke: #000000; stroke-width: 1.5;\"/><line style=\"stroke: #000000; stroke-width: 1.5;\" x1=\"57\" x2=\"154\" y1=\"192.2969\" y2=\"192.2969\"/><text fill=\"#000000\" font-family=\"sans-serif\" font-size=\"14\" font-weight=\"bold\" lengthAdjust=\"spacingAndGlyphs\" textLength=\"84\" x=\"61\" y=\"184.9951\">Definitions</text></a><!--MD5=[f6df4d0ebaf0b5dfb2ced0ae5af7c670]\n",
       "cluster E4--><a href=\"psysml:0db9d317-797a-4865-97e5-5934f0d4a303\" target=\"_top\" title=\"psysml:0db9d317-797a-4865-97e5-5934f0d4a303\" xlink:actuate=\"onRequest\" xlink:href=\"psysml:0db9d317-797a-4865-97e5-5934f0d4a303\" xlink:show=\"new\" xlink:title=\"psysml:0db9d317-797a-4865-97e5-5934f0d4a303\" xlink:type=\"simple\"><polygon fill=\"#FFFFFF\" points=\"40,49,104,49,111,71.2969,174,71.2969,174,146,40,146,40,49\" style=\"stroke: #000000; stroke-width: 1.5;\"/><line style=\"stroke: #000000; stroke-width: 1.5;\" x1=\"40\" x2=\"111\" y1=\"71.2969\" y2=\"71.2969\"/><text fill=\"#000000\" font-family=\"sans-serif\" font-size=\"14\" font-weight=\"bold\" lengthAdjust=\"spacingAndGlyphs\" textLength=\"58\" x=\"44\" y=\"63.9951\">Usages</text></a><!--MD5=[09b614a08d8cba4a07c9adeb5e0fee81]\n",
       "class E3--><a href=\"psysml:6a2a8f83-25b7-443f-ad75-cafd3f704077\" target=\"_top\" title=\"psysml:6a2a8f83-25b7-443f-ad75-cafd3f704077\" xlink:actuate=\"onRequest\" xlink:href=\"psysml:6a2a8f83-25b7-443f-ad75-cafd3f704077\" xlink:show=\"new\" xlink:title=\"psysml:6a2a8f83-25b7-443f-ad75-cafd3f704077\" xlink:type=\"simple\"><rect fill=\"#FFFFFF\" height=\"45.9375\" id=\"E3\" style=\"stroke: #383838; stroke-width: 1.5;\" width=\"66\" x=\"74\" y=\"205\"/><text fill=\"#000000\" font-family=\"sans-serif\" font-size=\"12\" font-style=\"italic\" lengthAdjust=\"spacingAndGlyphs\" textLength=\"64\" x=\"75\" y=\"221.1387\">«part def»</text><text fill=\"#000000\" font-family=\"sans-serif\" font-size=\"12\" lengthAdjust=\"spacingAndGlyphs\" textLength=\"45\" x=\"84.5\" y=\"235.1074\">Vehicle</text><line style=\"stroke: #383838; stroke-width: 1.5;\" x1=\"75\" x2=\"139\" y1=\"242.9375\" y2=\"242.9375\"/></a><!--MD5=[270fce915f116d4de14055a7c1d9a0f3]\n",
       "class E5--><a href=\"psysml:ac2a7781-f3a7-4610-aa94-de8fcbc60da2\" target=\"_top\" title=\"psysml:ac2a7781-f3a7-4610-aa94-de8fcbc60da2\" xlink:actuate=\"onRequest\" xlink:href=\"psysml:ac2a7781-f3a7-4610-aa94-de8fcbc60da2\" xlink:show=\"new\" xlink:title=\"psysml:ac2a7781-f3a7-4610-aa94-de8fcbc60da2\" xlink:type=\"simple\"><rect fill=\"#FFFFFF\" height=\"45.9375\" id=\"E5\" rx=\"10\" ry=\"10\" style=\"stroke: #383838; stroke-width: 1.5;\" width=\"102\" x=\"56\" y=\"84\"/><text fill=\"#000000\" font-family=\"sans-serif\" font-size=\"12\" font-style=\"italic\" lengthAdjust=\"spacingAndGlyphs\" textLength=\"40\" x=\"87\" y=\"100.1387\">«part»</text><text fill=\"#000000\" font-family=\"sans-serif\" font-size=\"12\" lengthAdjust=\"spacingAndGlyphs\" textLength=\"96\" x=\"59\" y=\"114.1074\">vehicle: Vehicle</text><line style=\"stroke: #383838; stroke-width: 1.5;\" x1=\"57\" x2=\"157\" y1=\"121.9375\" y2=\"121.9375\"/></a><!--MD5=[e9be52314489bd878ff4c7144b63c9e1]\n",
       "link E5 to E3--><a href=\"psysml:f4b8c599-6f69-4625-a365-4a72ec0c3cc2\" target=\"_top\" title=\"psysml:f4b8c599-6f69-4625-a365-4a72ec0c3cc2\" xlink:actuate=\"onRequest\" xlink:href=\"psysml:f4b8c599-6f69-4625-a365-4a72ec0c3cc2\" xlink:show=\"new\" xlink:title=\"psysml:f4b8c599-6f69-4625-a365-4a72ec0c3cc2\" xlink:type=\"simple\"><path d=\"M107,130.1 C107,145.37 107,166.16 107,184.57 \" fill=\"none\" id=\"E5-&gt;E3\" style=\"stroke: #383838; stroke-width: 1.0;\"/><polygon fill=\"#FFFFFF\" points=\"107,204.61,100,185.61,114,185.61,107,204.61\" style=\"stroke: #383838; stroke-width: 1.0;\"/><ellipse cx=\"102\" cy=\"179.91\" fill=\"#383838\" rx=\"2\" ry=\"2\" style=\"stroke: #383838; stroke-width: 1.0;\"/><ellipse cx=\"112\" cy=\"179.91\" fill=\"#383838\" rx=\"2\" ry=\"2\" style=\"stroke: #383838; stroke-width: 1.0;\"/></a><!--MD5=[f843be022a474e7db32b5ea27c882ba9]\n",
       "@startuml\r\n",
       " skinparam monochrome true\r\n",
       "skinparam classbackgroundcolor white\r\n",
       "skinparam shadowing false\r\n",
       "skinparam wrapWidth 300\r\n",
       "hide circle\r\n",
       "\r\n",
       "package \"AliasImport\" as E1  [[psysml:ef3d48fd-2829-4dbf-9589-92371a3e091f ]]  {\r\n",
       "package \"Definitions\" as E2  [[psysml:de0d2cc7-98e6-429c-a225-0b1a04e72b17 ]]  {\r\n",
       "comp def \"Vehicle\" as E3  <<(T,blue) part def>> [[psysml:6a2a8f83-25b7-443f-ad75-cafd3f704077 ]] {\r\n",
       "}\r\n",
       "}\r\n",
       "package \"Usages\" as E4  [[psysml:0db9d317-797a-4865-97e5-5934f0d4a303 ]]  {\r\n",
       "comp usage \"vehicle: Vehicle\" as E5  <<(T,blue) part>> [[psysml:ac2a7781-f3a7-4610-aa94-de8fcbc60da2 ]] {\r\n",
       "}\r\n",
       "E5 - -:|> E3 [[psysml:f4b8c599-6f69-4625-a365-4a72ec0c3cc2 ]] \r\n",
       "}\r\n",
       "}\r\n",
       "@enduml\r\n",
       "\n",
       "PlantUML version 1.2020.13(Sat Jun 13 12:26:38 UTC 2020)\n",
       "(EPL source distribution)\n",
       "Java Runtime: OpenJDK Runtime Environment\n",
       "JVM: OpenJDK 64-Bit Server VM\n",
       "Default Encoding: UTF-8\n",
       "Language: en\n",
       "Country: null\n",
       "--></g></svg>"
      ]
     },
     "execution_count": 2,
     "metadata": {},
     "output_type": "execute_result"
    }
   ],
   "source": [
    "%viz --style=\"COMPTREE\" --view=\"Default\" \"AliasImport\""
   ]
  },
  {
   "cell_type": "code",
   "execution_count": 3,
   "id": "52b45932",
   "metadata": {
    "execution": {
     "iopub.execute_input": "2021-08-04T06:25:39.858608Z",
     "iopub.status.busy": "2021-08-04T06:25:39.858160Z",
     "iopub.status.idle": "2021-08-04T06:25:39.891660Z",
     "shell.execute_reply": "2021-08-04T06:25:39.890375Z"
    }
   },
   "outputs": [
    {
     "data": {
      "image/svg+xml": [
       "<?xml version=\"1.0\" encoding=\"UTF-8\" standalone=\"no\"?><svg xmlns=\"http://www.w3.org/2000/svg\" xmlns:xlink=\"http://www.w3.org/1999/xlink\" contentScriptType=\"application/ecmascript\" contentStyleType=\"text/css\" height=\"303px\" preserveAspectRatio=\"none\" style=\"width:220px;height:303px;\" version=\"1.1\" viewBox=\"0 0 220 303\" width=\"220px\" zoomAndPan=\"magnify\"><defs/><g><!--MD5=[fbc87193dbaf4d95561dea2c320d4a47]\n",
       "cluster E1--><a href=\"psysml:ef3d48fd-2829-4dbf-9589-92371a3e091f\" target=\"_top\" title=\"psysml:ef3d48fd-2829-4dbf-9589-92371a3e091f\" xlink:actuate=\"onRequest\" xlink:href=\"psysml:ef3d48fd-2829-4dbf-9589-92371a3e091f\" xlink:show=\"new\" xlink:title=\"psysml:ef3d48fd-2829-4dbf-9589-92371a3e091f\" xlink:type=\"simple\"><polygon fill=\"#FFFFFF\" points=\"16,6,110,6,117,28.2969,198,28.2969,198,291,16,291,16,6\" style=\"stroke: #000000; stroke-width: 1.5;\"/><line style=\"stroke: #000000; stroke-width: 1.5;\" x1=\"16\" x2=\"117\" y1=\"28.2969\" y2=\"28.2969\"/><text fill=\"#000000\" font-family=\"sans-serif\" font-size=\"14\" font-weight=\"bold\" lengthAdjust=\"spacingAndGlyphs\" textLength=\"88\" x=\"20\" y=\"20.9951\">AliasImport</text></a><!--MD5=[e4f7fae6ed58524ba242bb0b0d3be6b7]\n",
       "cluster E2--><a href=\"psysml:de0d2cc7-98e6-429c-a225-0b1a04e72b17\" target=\"_top\" title=\"psysml:de0d2cc7-98e6-429c-a225-0b1a04e72b17\" xlink:actuate=\"onRequest\" xlink:href=\"psysml:de0d2cc7-98e6-429c-a225-0b1a04e72b17\" xlink:show=\"new\" xlink:title=\"psysml:de0d2cc7-98e6-429c-a225-0b1a04e72b17\" xlink:type=\"simple\"><polygon fill=\"#FFFFFF\" points=\"57,170,147,170,154,192.2969,157,192.2969,157,267,57,267,57,170\" style=\"stroke: #000000; stroke-width: 1.5;\"/><line style=\"stroke: #000000; stroke-width: 1.5;\" x1=\"57\" x2=\"154\" y1=\"192.2969\" y2=\"192.2969\"/><text fill=\"#000000\" font-family=\"sans-serif\" font-size=\"14\" font-weight=\"bold\" lengthAdjust=\"spacingAndGlyphs\" textLength=\"84\" x=\"61\" y=\"184.9951\">Definitions</text></a><!--MD5=[f6df4d0ebaf0b5dfb2ced0ae5af7c670]\n",
       "cluster E4--><a href=\"psysml:0db9d317-797a-4865-97e5-5934f0d4a303\" target=\"_top\" title=\"psysml:0db9d317-797a-4865-97e5-5934f0d4a303\" xlink:actuate=\"onRequest\" xlink:href=\"psysml:0db9d317-797a-4865-97e5-5934f0d4a303\" xlink:show=\"new\" xlink:title=\"psysml:0db9d317-797a-4865-97e5-5934f0d4a303\" xlink:type=\"simple\"><polygon fill=\"#FFFFFF\" points=\"40,49,104,49,111,71.2969,174,71.2969,174,146,40,146,40,49\" style=\"stroke: #000000; stroke-width: 1.5;\"/><line style=\"stroke: #000000; stroke-width: 1.5;\" x1=\"40\" x2=\"111\" y1=\"71.2969\" y2=\"71.2969\"/><text fill=\"#000000\" font-family=\"sans-serif\" font-size=\"14\" font-weight=\"bold\" lengthAdjust=\"spacingAndGlyphs\" textLength=\"58\" x=\"44\" y=\"63.9951\">Usages</text></a><!--MD5=[09b614a08d8cba4a07c9adeb5e0fee81]\n",
       "class E3--><a href=\"psysml:6a2a8f83-25b7-443f-ad75-cafd3f704077\" target=\"_top\" title=\"psysml:6a2a8f83-25b7-443f-ad75-cafd3f704077\" xlink:actuate=\"onRequest\" xlink:href=\"psysml:6a2a8f83-25b7-443f-ad75-cafd3f704077\" xlink:show=\"new\" xlink:title=\"psysml:6a2a8f83-25b7-443f-ad75-cafd3f704077\" xlink:type=\"simple\"><rect fill=\"#FFFFFF\" height=\"45.9375\" id=\"E3\" style=\"stroke: #383838; stroke-width: 1.5;\" width=\"66\" x=\"74\" y=\"205\"/><text fill=\"#000000\" font-family=\"sans-serif\" font-size=\"12\" font-style=\"italic\" lengthAdjust=\"spacingAndGlyphs\" textLength=\"64\" x=\"75\" y=\"221.1387\">«part def»</text><text fill=\"#000000\" font-family=\"sans-serif\" font-size=\"12\" lengthAdjust=\"spacingAndGlyphs\" textLength=\"45\" x=\"84.5\" y=\"235.1074\">Vehicle</text><line style=\"stroke: #383838; stroke-width: 1.5;\" x1=\"75\" x2=\"139\" y1=\"242.9375\" y2=\"242.9375\"/></a><!--MD5=[270fce915f116d4de14055a7c1d9a0f3]\n",
       "class E5--><a href=\"psysml:ac2a7781-f3a7-4610-aa94-de8fcbc60da2\" target=\"_top\" title=\"psysml:ac2a7781-f3a7-4610-aa94-de8fcbc60da2\" xlink:actuate=\"onRequest\" xlink:href=\"psysml:ac2a7781-f3a7-4610-aa94-de8fcbc60da2\" xlink:show=\"new\" xlink:title=\"psysml:ac2a7781-f3a7-4610-aa94-de8fcbc60da2\" xlink:type=\"simple\"><rect fill=\"#FFFFFF\" height=\"45.9375\" id=\"E5\" rx=\"10\" ry=\"10\" style=\"stroke: #383838; stroke-width: 1.5;\" width=\"102\" x=\"56\" y=\"84\"/><text fill=\"#000000\" font-family=\"sans-serif\" font-size=\"12\" font-style=\"italic\" lengthAdjust=\"spacingAndGlyphs\" textLength=\"40\" x=\"87\" y=\"100.1387\">«part»</text><text fill=\"#000000\" font-family=\"sans-serif\" font-size=\"12\" lengthAdjust=\"spacingAndGlyphs\" textLength=\"96\" x=\"59\" y=\"114.1074\">vehicle: Vehicle</text><line style=\"stroke: #383838; stroke-width: 1.5;\" x1=\"57\" x2=\"157\" y1=\"121.9375\" y2=\"121.9375\"/></a><!--MD5=[e9be52314489bd878ff4c7144b63c9e1]\n",
       "link E5 to E3--><a href=\"psysml:f4b8c599-6f69-4625-a365-4a72ec0c3cc2\" target=\"_top\" title=\"psysml:f4b8c599-6f69-4625-a365-4a72ec0c3cc2\" xlink:actuate=\"onRequest\" xlink:href=\"psysml:f4b8c599-6f69-4625-a365-4a72ec0c3cc2\" xlink:show=\"new\" xlink:title=\"psysml:f4b8c599-6f69-4625-a365-4a72ec0c3cc2\" xlink:type=\"simple\"><path d=\"M107,130.1 C107,145.37 107,166.16 107,184.57 \" fill=\"none\" id=\"E5-&gt;E3\" style=\"stroke: #383838; stroke-width: 1.0;\"/><polygon fill=\"#FFFFFF\" points=\"107,204.61,100,185.61,114,185.61,107,204.61\" style=\"stroke: #383838; stroke-width: 1.0;\"/><ellipse cx=\"102\" cy=\"179.91\" fill=\"#383838\" rx=\"2\" ry=\"2\" style=\"stroke: #383838; stroke-width: 1.0;\"/><ellipse cx=\"112\" cy=\"179.91\" fill=\"#383838\" rx=\"2\" ry=\"2\" style=\"stroke: #383838; stroke-width: 1.0;\"/></a><!--MD5=[f843be022a474e7db32b5ea27c882ba9]\n",
       "@startuml\r\n",
       " skinparam monochrome true\r\n",
       "skinparam classbackgroundcolor white\r\n",
       "skinparam shadowing false\r\n",
       "skinparam wrapWidth 300\r\n",
       "hide circle\r\n",
       "\r\n",
       "package \"AliasImport\" as E1  [[psysml:ef3d48fd-2829-4dbf-9589-92371a3e091f ]]  {\r\n",
       "package \"Definitions\" as E2  [[psysml:de0d2cc7-98e6-429c-a225-0b1a04e72b17 ]]  {\r\n",
       "comp def \"Vehicle\" as E3  <<(T,blue) part def>> [[psysml:6a2a8f83-25b7-443f-ad75-cafd3f704077 ]] {\r\n",
       "}\r\n",
       "}\r\n",
       "package \"Usages\" as E4  [[psysml:0db9d317-797a-4865-97e5-5934f0d4a303 ]]  {\r\n",
       "comp usage \"vehicle: Vehicle\" as E5  <<(T,blue) part>> [[psysml:ac2a7781-f3a7-4610-aa94-de8fcbc60da2 ]] {\r\n",
       "}\r\n",
       "E5 - -:|> E3 [[psysml:f4b8c599-6f69-4625-a365-4a72ec0c3cc2 ]] \r\n",
       "}\r\n",
       "}\r\n",
       "@enduml\r\n",
       "\n",
       "PlantUML version 1.2020.13(Sat Jun 13 12:26:38 UTC 2020)\n",
       "(EPL source distribution)\n",
       "Java Runtime: OpenJDK Runtime Environment\n",
       "JVM: OpenJDK 64-Bit Server VM\n",
       "Default Encoding: UTF-8\n",
       "Language: en\n",
       "Country: null\n",
       "--></g></svg>"
      ]
     },
     "execution_count": 3,
     "metadata": {},
     "output_type": "execute_result"
    }
   ],
   "source": [
    "%viz --style=\"COMPTREE\" --view=\"Tree\" \"AliasImport\""
   ]
  },
  {
   "cell_type": "code",
   "execution_count": 4,
   "id": "e86fb5dd",
   "metadata": {
    "execution": {
     "iopub.execute_input": "2021-08-04T06:25:39.941558Z",
     "iopub.status.busy": "2021-08-04T06:25:39.941118Z",
     "iopub.status.idle": "2021-08-04T06:25:39.946622Z",
     "shell.execute_reply": "2021-08-04T06:25:39.946946Z"
    }
   },
   "outputs": [
    {
     "data": {
      "image/svg+xml": [
       "<?xml version=\"1.0\" encoding=\"UTF-8\" standalone=\"no\"?><svg xmlns=\"http://www.w3.org/2000/svg\" xmlns:xlink=\"http://www.w3.org/1999/xlink\" contentScriptType=\"application/ecmascript\" contentStyleType=\"text/css\" height=\"12px\" preserveAspectRatio=\"none\" style=\"width:12px;height:12px;\" version=\"1.1\" viewBox=\"0 0 12 12\" width=\"12px\" zoomAndPan=\"magnify\"><defs/><g><!--MD5=[f19188ef49e11757b5c46753f95d9edc]\n",
       "@startuml\r\n",
       " skinparam monochrome true\r\n",
       "skinparam classbackgroundcolor white\r\n",
       "skinparam shadowing false\r\n",
       "skinparam wrapWidth 300\r\n",
       "hide circle\r\n",
       "\r\n",
       "@enduml\r\n",
       "\n",
       "PlantUML version 1.2020.13(Sat Jun 13 12:26:38 UTC 2020)\n",
       "(EPL source distribution)\n",
       "Java Runtime: OpenJDK Runtime Environment\n",
       "JVM: OpenJDK 64-Bit Server VM\n",
       "Default Encoding: UTF-8\n",
       "Language: en\n",
       "Country: null\n",
       "--></g></svg>"
      ]
     },
     "execution_count": 4,
     "metadata": {},
     "output_type": "execute_result"
    }
   ],
   "source": [
    "%viz --style=\"COMPTREE\" --view=\"State\" \"AliasImport\""
   ]
  },
  {
   "cell_type": "code",
   "execution_count": 5,
   "id": "86ec40a3",
   "metadata": {
    "execution": {
     "iopub.execute_input": "2021-08-04T06:25:39.997488Z",
     "iopub.status.busy": "2021-08-04T06:25:39.997056Z",
     "iopub.status.idle": "2021-08-04T06:25:40.051216Z",
     "shell.execute_reply": "2021-08-04T06:25:40.050859Z"
    }
   },
   "outputs": [
    {
     "data": {
      "image/svg+xml": [
       "<?xml version=\"1.0\" encoding=\"UTF-8\" standalone=\"no\"?><svg xmlns=\"http://www.w3.org/2000/svg\" xmlns:xlink=\"http://www.w3.org/1999/xlink\" contentScriptType=\"application/ecmascript\" contentStyleType=\"text/css\" height=\"179px\" preserveAspectRatio=\"none\" style=\"width:458px;height:179px;\" version=\"1.1\" viewBox=\"0 0 458 179\" width=\"458px\" zoomAndPan=\"magnify\"><defs/><g><!--MD5=[fbc87193dbaf4d95561dea2c320d4a47]\n",
       "cluster E1--><a href=\"psysml:ef3d48fd-2829-4dbf-9589-92371a3e091f\" target=\"_top\" title=\"psysml:ef3d48fd-2829-4dbf-9589-92371a3e091f\" xlink:actuate=\"onRequest\" xlink:href=\"psysml:ef3d48fd-2829-4dbf-9589-92371a3e091f\" xlink:show=\"new\" xlink:title=\"psysml:ef3d48fd-2829-4dbf-9589-92371a3e091f\" xlink:type=\"simple\"><polygon fill=\"#FFFFFF\" points=\"16,6,110,6,117,28.2969,436,28.2969,436,167,16,167,16,6\" style=\"stroke: #000000; stroke-width: 1.5;\"/><line style=\"stroke: #000000; stroke-width: 1.5;\" x1=\"16\" x2=\"117\" y1=\"28.2969\" y2=\"28.2969\"/><text fill=\"#000000\" font-family=\"sans-serif\" font-size=\"14\" font-weight=\"bold\" lengthAdjust=\"spacingAndGlyphs\" textLength=\"88\" x=\"20\" y=\"20.9951\">AliasImport</text></a><!--MD5=[e4f7fae6ed58524ba242bb0b0d3be6b7]\n",
       "cluster E2--><a href=\"psysml:de0d2cc7-98e6-429c-a225-0b1a04e72b17\" target=\"_top\" title=\"psysml:de0d2cc7-98e6-429c-a225-0b1a04e72b17\" xlink:actuate=\"onRequest\" xlink:href=\"psysml:de0d2cc7-98e6-429c-a225-0b1a04e72b17\" xlink:show=\"new\" xlink:title=\"psysml:de0d2cc7-98e6-429c-a225-0b1a04e72b17\" xlink:type=\"simple\"><polygon fill=\"#FFFFFF\" points=\"202,49,292,49,299,71.2969,412,71.2969,412,143,202,143,202,49\" style=\"stroke: #000000; stroke-width: 1.5;\"/><line style=\"stroke: #000000; stroke-width: 1.5;\" x1=\"202\" x2=\"299\" y1=\"71.2969\" y2=\"71.2969\"/><text fill=\"#000000\" font-family=\"sans-serif\" font-size=\"14\" font-weight=\"bold\" lengthAdjust=\"spacingAndGlyphs\" textLength=\"84\" x=\"206\" y=\"63.9951\">Definitions</text></a><!--MD5=[de5ec2e2e8f62f467e546659f5068c88]\n",
       "cluster E5--><a href=\"psysml:0db9d317-797a-4865-97e5-5934f0d4a303\" target=\"_top\" title=\"psysml:0db9d317-797a-4865-97e5-5934f0d4a303\" xlink:actuate=\"onRequest\" xlink:href=\"psysml:0db9d317-797a-4865-97e5-5934f0d4a303\" xlink:show=\"new\" xlink:title=\"psysml:0db9d317-797a-4865-97e5-5934f0d4a303\" xlink:type=\"simple\"><polygon fill=\"#FFFFFF\" points=\"40,50.5,104,50.5,111,72.7969,178,72.7969,178,141.5,40,141.5,40,50.5\" style=\"stroke: #000000; stroke-width: 1.5;\"/><line style=\"stroke: #000000; stroke-width: 1.5;\" x1=\"40\" x2=\"111\" y1=\"72.7969\" y2=\"72.7969\"/><text fill=\"#000000\" font-family=\"sans-serif\" font-size=\"14\" font-weight=\"bold\" lengthAdjust=\"spacingAndGlyphs\" textLength=\"58\" x=\"44\" y=\"65.4951\">Usages</text></a><g id=\"E1.E2.E3\"><a href=\"psysml:6a2a8f83-25b7-443f-ad75-cafd3f704077\" target=\"_top\" title=\"psysml:6a2a8f83-25b7-443f-ad75-cafd3f704077\" xlink:actuate=\"onRequest\" xlink:href=\"psysml:6a2a8f83-25b7-443f-ad75-cafd3f704077\" xlink:show=\"new\" xlink:title=\"psysml:6a2a8f83-25b7-443f-ad75-cafd3f704077\" xlink:type=\"simple\"><rect fill=\"#FFFFFF\" height=\"42.9375\" id=\"E3\" style=\"stroke: #383838; stroke-width: 1.5;\" width=\"71\" x=\"324.5\" y=\"84\"/><rect fill=\"#F8F8F8\" height=\"37.9375\" style=\"stroke: #383838; stroke-width: 1.5;\" width=\"71\" x=\"324.5\" y=\"84\"/><text fill=\"#000000\" font-family=\"sans-serif\" font-size=\"12\" font-style=\"italic\" lengthAdjust=\"spacingAndGlyphs\" textLength=\"64\" x=\"328\" y=\"100.1387\">«part def»</text><text fill=\"#000000\" font-family=\"sans-serif\" font-size=\"12\" lengthAdjust=\"spacingAndGlyphs\" textLength=\"45\" x=\"337.5\" y=\"114.1074\">Vehicle</text></a></g><g id=\"E1.E2.E4\"><a href=\"psysml:6a2a8f83-25b7-443f-ad75-cafd3f704077\" target=\"_top\" title=\"psysml:6a2a8f83-25b7-443f-ad75-cafd3f704077\" xlink:actuate=\"onRequest\" xlink:href=\"psysml:6a2a8f83-25b7-443f-ad75-cafd3f704077\" xlink:show=\"new\" xlink:title=\"psysml:6a2a8f83-25b7-443f-ad75-cafd3f704077\" xlink:type=\"simple\"><rect fill=\"#FFFFFF\" height=\"42.9375\" id=\"E4\" style=\"stroke: #383838; stroke-width: 1.5;\" width=\"71\" x=\"218.5\" y=\"84\"/><rect fill=\"#F8F8F8\" height=\"37.9375\" style=\"stroke: #383838; stroke-width: 1.5;\" width=\"71\" x=\"218.5\" y=\"84\"/><text fill=\"#000000\" font-family=\"sans-serif\" font-size=\"12\" font-style=\"italic\" lengthAdjust=\"spacingAndGlyphs\" textLength=\"64\" x=\"222\" y=\"100.1387\">«part def»</text><text fill=\"#000000\" font-family=\"sans-serif\" font-size=\"12\" lengthAdjust=\"spacingAndGlyphs\" textLength=\"45\" x=\"231.5\" y=\"114.1074\">Vehicle</text></a></g><g id=\"E1.E5.E6\"><a href=\"psysml:ac2a7781-f3a7-4610-aa94-de8fcbc60da2\" target=\"_top\" title=\"psysml:ac2a7781-f3a7-4610-aa94-de8fcbc60da2\" xlink:actuate=\"onRequest\" xlink:href=\"psysml:ac2a7781-f3a7-4610-aa94-de8fcbc60da2\" xlink:show=\"new\" xlink:title=\"psysml:ac2a7781-f3a7-4610-aa94-de8fcbc60da2\" xlink:type=\"simple\"><rect fill=\"#FFFFFF\" height=\"40\" id=\"E6\" rx=\"10\" ry=\"10\" style=\"stroke: #383838; stroke-width: 1.5;\" width=\"107\" x=\"55.5\" y=\"85.5\"/><rect fill=\"#F8F8F8\" height=\"23.9688\" rx=\"10\" ry=\"10\" style=\"stroke: #F8F8F8; stroke-width: 1.5;\" width=\"107\" x=\"55.5\" y=\"85.5\"/><rect fill=\"#F8F8F8\" height=\"10\" style=\"stroke: #F8F8F8; stroke-width: 1.5;\" width=\"107\" x=\"55.5\" y=\"99.4688\"/><rect fill=\"none\" height=\"40\" id=\"E6\" rx=\"10\" ry=\"10\" style=\"stroke: #383838; stroke-width: 1.5;\" width=\"107\" x=\"55.5\" y=\"85.5\"/><text fill=\"#000000\" font-family=\"sans-serif\" font-size=\"12\" lengthAdjust=\"spacingAndGlyphs\" textLength=\"96\" x=\"61\" y=\"101.6387\">vehicle: Vehicle</text></a></g><!--MD5=[63d0315540f442b92db6fc79dc239a7d]\n",
       "@startuml\r\n",
       "skinparam ranksep 10\r\n",
       "skinparam rectangle {\r\n",
       " backgroundColor<<block>> LightGreen\r\n",
       "}\r\n",
       " skinparam monochrome true\r\n",
       "skinparam classbackgroundcolor white\r\n",
       "skinparam shadowing false\r\n",
       "skinparam wrapWidth 300\r\n",
       "hide circle\r\n",
       "\r\n",
       "package \"AliasImport\" as E1  [[psysml:ef3d48fd-2829-4dbf-9589-92371a3e091f ]]  {\r\n",
       "package \"Definitions\" as E2  [[psysml:de0d2cc7-98e6-429c-a225-0b1a04e72b17 ]]  {\r\n",
       "rec def \"Vehicle\" as E3  <<(T,blue) part def>> [[psysml:6a2a8f83-25b7-443f-ad75-cafd3f704077 ]] {\r\n",
       "}\r\n",
       "rec def \"Vehicle\" as E4  <<(T,blue) part def>> [[psysml:6a2a8f83-25b7-443f-ad75-cafd3f704077 ]] {\r\n",
       "}\r\n",
       "}\r\n",
       "package \"Usages\" as E5  [[psysml:0db9d317-797a-4865-97e5-5934f0d4a303 ]]  {\r\n",
       "rec usage \"vehicle: Vehicle\" as E6  [[psysml:ac2a7781-f3a7-4610-aa94-de8fcbc60da2 ]] {\r\n",
       "}\r\n",
       "}\r\n",
       "}\r\n",
       "@enduml\r\n",
       "\n",
       "PlantUML version 1.2020.13(Sat Jun 13 12:26:38 UTC 2020)\n",
       "(EPL source distribution)\n",
       "Java Runtime: OpenJDK Runtime Environment\n",
       "JVM: OpenJDK 64-Bit Server VM\n",
       "Default Encoding: UTF-8\n",
       "Language: en\n",
       "Country: null\n",
       "--></g></svg>"
      ]
     },
     "execution_count": 5,
     "metadata": {},
     "output_type": "execute_result"
    }
   ],
   "source": [
    "%viz --style=\"COMPTREE\" --view=\"Interconnection\" \"AliasImport\""
   ]
  },
  {
   "cell_type": "code",
   "execution_count": 6,
   "id": "205652ee",
   "metadata": {
    "execution": {
     "iopub.execute_input": "2021-08-04T06:25:40.101810Z",
     "iopub.status.busy": "2021-08-04T06:25:40.101356Z",
     "iopub.status.idle": "2021-08-04T06:25:40.110189Z",
     "shell.execute_reply": "2021-08-04T06:25:40.110521Z"
    }
   },
   "outputs": [
    {
     "data": {
      "image/svg+xml": [
       "<?xml version=\"1.0\" encoding=\"UTF-8\" standalone=\"no\"?><svg xmlns=\"http://www.w3.org/2000/svg\" xmlns:xlink=\"http://www.w3.org/1999/xlink\" contentScriptType=\"application/ecmascript\" contentStyleType=\"text/css\" height=\"12px\" preserveAspectRatio=\"none\" style=\"width:12px;height:12px;\" version=\"1.1\" viewBox=\"0 0 12 12\" width=\"12px\" zoomAndPan=\"magnify\"><defs/><g><!--MD5=[655b888544ca4751ea36af1068543f84]\n",
       "@startuml\r\n",
       "skinparam ranksep 8\r\n",
       " skinparam monochrome true\r\n",
       "skinparam classbackgroundcolor white\r\n",
       "skinparam shadowing false\r\n",
       "skinparam wrapWidth 300\r\n",
       "hide circle\r\n",
       "\r\n",
       "@enduml\r\n",
       "\n",
       "PlantUML version 1.2020.13(Sat Jun 13 12:26:38 UTC 2020)\n",
       "(EPL source distribution)\n",
       "Java Runtime: OpenJDK Runtime Environment\n",
       "JVM: OpenJDK 64-Bit Server VM\n",
       "Default Encoding: UTF-8\n",
       "Language: en\n",
       "Country: null\n",
       "--></g></svg>"
      ]
     },
     "execution_count": 6,
     "metadata": {},
     "output_type": "execute_result"
    }
   ],
   "source": [
    "%viz --style=\"COMPTREE\" --view=\"Action\" \"AliasImport\""
   ]
  },
  {
   "cell_type": "code",
   "execution_count": 7,
   "id": "fdcd2515",
   "metadata": {
    "execution": {
     "iopub.execute_input": "2021-08-04T06:25:40.161274Z",
     "iopub.status.busy": "2021-08-04T06:25:40.160844Z",
     "iopub.status.idle": "2021-08-04T06:25:40.201987Z",
     "shell.execute_reply": "2021-08-04T06:25:40.202293Z"
    }
   },
   "outputs": [
    {
     "data": {
      "image/svg+xml": [
       "<?xml version=\"1.0\" encoding=\"UTF-8\" standalone=\"no\"?><svg xmlns=\"http://www.w3.org/2000/svg\" xmlns:xlink=\"http://www.w3.org/1999/xlink\" contentScriptType=\"application/ecmascript\" contentStyleType=\"text/css\" height=\"303px\" preserveAspectRatio=\"none\" style=\"width:220px;height:303px;\" version=\"1.1\" viewBox=\"0 0 220 303\" width=\"220px\" zoomAndPan=\"magnify\"><defs/><g><!--MD5=[fbc87193dbaf4d95561dea2c320d4a47]\n",
       "cluster E1--><a href=\"psysml:ef3d48fd-2829-4dbf-9589-92371a3e091f\" target=\"_top\" title=\"psysml:ef3d48fd-2829-4dbf-9589-92371a3e091f\" xlink:actuate=\"onRequest\" xlink:href=\"psysml:ef3d48fd-2829-4dbf-9589-92371a3e091f\" xlink:show=\"new\" xlink:title=\"psysml:ef3d48fd-2829-4dbf-9589-92371a3e091f\" xlink:type=\"simple\"><polygon fill=\"#FFFFFF\" points=\"16,6,110,6,117,28.2969,198,28.2969,198,291,16,291,16,6\" style=\"stroke: #000000; stroke-width: 1.5;\"/><line style=\"stroke: #000000; stroke-width: 1.5;\" x1=\"16\" x2=\"117\" y1=\"28.2969\" y2=\"28.2969\"/><text fill=\"#000000\" font-family=\"sans-serif\" font-size=\"14\" font-weight=\"bold\" lengthAdjust=\"spacingAndGlyphs\" textLength=\"88\" x=\"20\" y=\"20.9951\">AliasImport</text></a><!--MD5=[e4f7fae6ed58524ba242bb0b0d3be6b7]\n",
       "cluster E2--><a href=\"psysml:de0d2cc7-98e6-429c-a225-0b1a04e72b17\" target=\"_top\" title=\"psysml:de0d2cc7-98e6-429c-a225-0b1a04e72b17\" xlink:actuate=\"onRequest\" xlink:href=\"psysml:de0d2cc7-98e6-429c-a225-0b1a04e72b17\" xlink:show=\"new\" xlink:title=\"psysml:de0d2cc7-98e6-429c-a225-0b1a04e72b17\" xlink:type=\"simple\"><polygon fill=\"#FFFFFF\" points=\"57,170,147,170,154,192.2969,157,192.2969,157,267,57,267,57,170\" style=\"stroke: #000000; stroke-width: 1.5;\"/><line style=\"stroke: #000000; stroke-width: 1.5;\" x1=\"57\" x2=\"154\" y1=\"192.2969\" y2=\"192.2969\"/><text fill=\"#000000\" font-family=\"sans-serif\" font-size=\"14\" font-weight=\"bold\" lengthAdjust=\"spacingAndGlyphs\" textLength=\"84\" x=\"61\" y=\"184.9951\">Definitions</text></a><!--MD5=[f6df4d0ebaf0b5dfb2ced0ae5af7c670]\n",
       "cluster E4--><a href=\"psysml:0db9d317-797a-4865-97e5-5934f0d4a303\" target=\"_top\" title=\"psysml:0db9d317-797a-4865-97e5-5934f0d4a303\" xlink:actuate=\"onRequest\" xlink:href=\"psysml:0db9d317-797a-4865-97e5-5934f0d4a303\" xlink:show=\"new\" xlink:title=\"psysml:0db9d317-797a-4865-97e5-5934f0d4a303\" xlink:type=\"simple\"><polygon fill=\"#FFFFFF\" points=\"40,49,104,49,111,71.2969,174,71.2969,174,146,40,146,40,49\" style=\"stroke: #000000; stroke-width: 1.5;\"/><line style=\"stroke: #000000; stroke-width: 1.5;\" x1=\"40\" x2=\"111\" y1=\"71.2969\" y2=\"71.2969\"/><text fill=\"#000000\" font-family=\"sans-serif\" font-size=\"14\" font-weight=\"bold\" lengthAdjust=\"spacingAndGlyphs\" textLength=\"58\" x=\"44\" y=\"63.9951\">Usages</text></a><!--MD5=[09b614a08d8cba4a07c9adeb5e0fee81]\n",
       "class E3--><a href=\"psysml:6a2a8f83-25b7-443f-ad75-cafd3f704077\" target=\"_top\" title=\"psysml:6a2a8f83-25b7-443f-ad75-cafd3f704077\" xlink:actuate=\"onRequest\" xlink:href=\"psysml:6a2a8f83-25b7-443f-ad75-cafd3f704077\" xlink:show=\"new\" xlink:title=\"psysml:6a2a8f83-25b7-443f-ad75-cafd3f704077\" xlink:type=\"simple\"><rect fill=\"#FFFFFF\" height=\"45.9375\" id=\"E3\" style=\"stroke: #383838; stroke-width: 1.5;\" width=\"66\" x=\"74\" y=\"205\"/><text fill=\"#000000\" font-family=\"sans-serif\" font-size=\"12\" font-style=\"italic\" lengthAdjust=\"spacingAndGlyphs\" textLength=\"64\" x=\"75\" y=\"221.1387\">«part def»</text><text fill=\"#000000\" font-family=\"sans-serif\" font-size=\"12\" lengthAdjust=\"spacingAndGlyphs\" textLength=\"45\" x=\"84.5\" y=\"235.1074\">Vehicle</text><line style=\"stroke: #383838; stroke-width: 1.5;\" x1=\"75\" x2=\"139\" y1=\"242.9375\" y2=\"242.9375\"/></a><!--MD5=[270fce915f116d4de14055a7c1d9a0f3]\n",
       "class E5--><a href=\"psysml:ac2a7781-f3a7-4610-aa94-de8fcbc60da2\" target=\"_top\" title=\"psysml:ac2a7781-f3a7-4610-aa94-de8fcbc60da2\" xlink:actuate=\"onRequest\" xlink:href=\"psysml:ac2a7781-f3a7-4610-aa94-de8fcbc60da2\" xlink:show=\"new\" xlink:title=\"psysml:ac2a7781-f3a7-4610-aa94-de8fcbc60da2\" xlink:type=\"simple\"><rect fill=\"#FFFFFF\" height=\"45.9375\" id=\"E5\" rx=\"10\" ry=\"10\" style=\"stroke: #383838; stroke-width: 1.5;\" width=\"102\" x=\"56\" y=\"84\"/><text fill=\"#000000\" font-family=\"sans-serif\" font-size=\"12\" font-style=\"italic\" lengthAdjust=\"spacingAndGlyphs\" textLength=\"40\" x=\"87\" y=\"100.1387\">«part»</text><text fill=\"#000000\" font-family=\"sans-serif\" font-size=\"12\" lengthAdjust=\"spacingAndGlyphs\" textLength=\"96\" x=\"59\" y=\"114.1074\">vehicle: Vehicle</text><line style=\"stroke: #383838; stroke-width: 1.5;\" x1=\"57\" x2=\"157\" y1=\"121.9375\" y2=\"121.9375\"/></a><!--MD5=[e9be52314489bd878ff4c7144b63c9e1]\n",
       "link E5 to E3--><a href=\"psysml:f4b8c599-6f69-4625-a365-4a72ec0c3cc2\" target=\"_top\" title=\"psysml:f4b8c599-6f69-4625-a365-4a72ec0c3cc2\" xlink:actuate=\"onRequest\" xlink:href=\"psysml:f4b8c599-6f69-4625-a365-4a72ec0c3cc2\" xlink:show=\"new\" xlink:title=\"psysml:f4b8c599-6f69-4625-a365-4a72ec0c3cc2\" xlink:type=\"simple\"><path d=\"M107,130.1 C107,145.37 107,166.16 107,184.57 \" fill=\"none\" id=\"E5-&gt;E3\" style=\"stroke: #383838; stroke-width: 1.0;\"/><polygon fill=\"#FFFFFF\" points=\"107,204.61,100,185.61,114,185.61,107,204.61\" style=\"stroke: #383838; stroke-width: 1.0;\"/><ellipse cx=\"102\" cy=\"179.91\" fill=\"#383838\" rx=\"2\" ry=\"2\" style=\"stroke: #383838; stroke-width: 1.0;\"/><ellipse cx=\"112\" cy=\"179.91\" fill=\"#383838\" rx=\"2\" ry=\"2\" style=\"stroke: #383838; stroke-width: 1.0;\"/></a><!--MD5=[f843be022a474e7db32b5ea27c882ba9]\n",
       "@startuml\r\n",
       " skinparam monochrome true\r\n",
       "skinparam classbackgroundcolor white\r\n",
       "skinparam shadowing false\r\n",
       "skinparam wrapWidth 300\r\n",
       "hide circle\r\n",
       "\r\n",
       "package \"AliasImport\" as E1  [[psysml:ef3d48fd-2829-4dbf-9589-92371a3e091f ]]  {\r\n",
       "package \"Definitions\" as E2  [[psysml:de0d2cc7-98e6-429c-a225-0b1a04e72b17 ]]  {\r\n",
       "comp def \"Vehicle\" as E3  <<(T,blue) part def>> [[psysml:6a2a8f83-25b7-443f-ad75-cafd3f704077 ]] {\r\n",
       "}\r\n",
       "}\r\n",
       "package \"Usages\" as E4  [[psysml:0db9d317-797a-4865-97e5-5934f0d4a303 ]]  {\r\n",
       "comp usage \"vehicle: Vehicle\" as E5  <<(T,blue) part>> [[psysml:ac2a7781-f3a7-4610-aa94-de8fcbc60da2 ]] {\r\n",
       "}\r\n",
       "E5 - -:|> E3 [[psysml:f4b8c599-6f69-4625-a365-4a72ec0c3cc2 ]] \r\n",
       "}\r\n",
       "}\r\n",
       "@enduml\r\n",
       "\n",
       "PlantUML version 1.2020.13(Sat Jun 13 12:26:38 UTC 2020)\n",
       "(EPL source distribution)\n",
       "Java Runtime: OpenJDK Runtime Environment\n",
       "JVM: OpenJDK 64-Bit Server VM\n",
       "Default Encoding: UTF-8\n",
       "Language: en\n",
       "Country: null\n",
       "--></g></svg>"
      ]
     },
     "execution_count": 7,
     "metadata": {},
     "output_type": "execute_result"
    }
   ],
   "source": [
    "%viz --style=\"COMPTREE\" --view=\"Sequence\" \"AliasImport\""
   ]
  },
  {
   "cell_type": "code",
   "execution_count": 8,
   "id": "f03c19af",
   "metadata": {
    "execution": {
     "iopub.execute_input": "2021-08-04T06:25:40.252677Z",
     "iopub.status.busy": "2021-08-04T06:25:40.252236Z",
     "iopub.status.idle": "2021-08-04T06:25:40.280450Z",
     "shell.execute_reply": "2021-08-04T06:25:40.280102Z"
    }
   },
   "outputs": [
    {
     "data": {
      "image/svg+xml": [
       "<?xml version=\"1.0\" encoding=\"UTF-8\" standalone=\"no\"?><svg xmlns=\"http://www.w3.org/2000/svg\" xmlns:xlink=\"http://www.w3.org/1999/xlink\" contentScriptType=\"application/ecmascript\" contentStyleType=\"text/css\" height=\"303px\" preserveAspectRatio=\"none\" style=\"width:220px;height:303px;\" version=\"1.1\" viewBox=\"0 0 220 303\" width=\"220px\" zoomAndPan=\"magnify\"><defs/><g><!--MD5=[fbc87193dbaf4d95561dea2c320d4a47]\n",
       "cluster E1--><a href=\"psysml:ef3d48fd-2829-4dbf-9589-92371a3e091f\" target=\"_top\" title=\"psysml:ef3d48fd-2829-4dbf-9589-92371a3e091f\" xlink:actuate=\"onRequest\" xlink:href=\"psysml:ef3d48fd-2829-4dbf-9589-92371a3e091f\" xlink:show=\"new\" xlink:title=\"psysml:ef3d48fd-2829-4dbf-9589-92371a3e091f\" xlink:type=\"simple\"><polygon fill=\"#FFFFFF\" points=\"16,6,110,6,117,28.2969,198,28.2969,198,291,16,291,16,6\" style=\"stroke: #000000; stroke-width: 1.5;\"/><line style=\"stroke: #000000; stroke-width: 1.5;\" x1=\"16\" x2=\"117\" y1=\"28.2969\" y2=\"28.2969\"/><text fill=\"#000000\" font-family=\"sans-serif\" font-size=\"14\" font-weight=\"bold\" lengthAdjust=\"spacingAndGlyphs\" textLength=\"88\" x=\"20\" y=\"20.9951\">AliasImport</text></a><!--MD5=[e4f7fae6ed58524ba242bb0b0d3be6b7]\n",
       "cluster E2--><a href=\"psysml:de0d2cc7-98e6-429c-a225-0b1a04e72b17\" target=\"_top\" title=\"psysml:de0d2cc7-98e6-429c-a225-0b1a04e72b17\" xlink:actuate=\"onRequest\" xlink:href=\"psysml:de0d2cc7-98e6-429c-a225-0b1a04e72b17\" xlink:show=\"new\" xlink:title=\"psysml:de0d2cc7-98e6-429c-a225-0b1a04e72b17\" xlink:type=\"simple\"><polygon fill=\"#FFFFFF\" points=\"57,170,147,170,154,192.2969,157,192.2969,157,267,57,267,57,170\" style=\"stroke: #000000; stroke-width: 1.5;\"/><line style=\"stroke: #000000; stroke-width: 1.5;\" x1=\"57\" x2=\"154\" y1=\"192.2969\" y2=\"192.2969\"/><text fill=\"#000000\" font-family=\"sans-serif\" font-size=\"14\" font-weight=\"bold\" lengthAdjust=\"spacingAndGlyphs\" textLength=\"84\" x=\"61\" y=\"184.9951\">Definitions</text></a><!--MD5=[f6df4d0ebaf0b5dfb2ced0ae5af7c670]\n",
       "cluster E4--><a href=\"psysml:0db9d317-797a-4865-97e5-5934f0d4a303\" target=\"_top\" title=\"psysml:0db9d317-797a-4865-97e5-5934f0d4a303\" xlink:actuate=\"onRequest\" xlink:href=\"psysml:0db9d317-797a-4865-97e5-5934f0d4a303\" xlink:show=\"new\" xlink:title=\"psysml:0db9d317-797a-4865-97e5-5934f0d4a303\" xlink:type=\"simple\"><polygon fill=\"#FFFFFF\" points=\"40,49,104,49,111,71.2969,174,71.2969,174,146,40,146,40,49\" style=\"stroke: #000000; stroke-width: 1.5;\"/><line style=\"stroke: #000000; stroke-width: 1.5;\" x1=\"40\" x2=\"111\" y1=\"71.2969\" y2=\"71.2969\"/><text fill=\"#000000\" font-family=\"sans-serif\" font-size=\"14\" font-weight=\"bold\" lengthAdjust=\"spacingAndGlyphs\" textLength=\"58\" x=\"44\" y=\"63.9951\">Usages</text></a><!--MD5=[09b614a08d8cba4a07c9adeb5e0fee81]\n",
       "class E3--><a href=\"psysml:6a2a8f83-25b7-443f-ad75-cafd3f704077\" target=\"_top\" title=\"psysml:6a2a8f83-25b7-443f-ad75-cafd3f704077\" xlink:actuate=\"onRequest\" xlink:href=\"psysml:6a2a8f83-25b7-443f-ad75-cafd3f704077\" xlink:show=\"new\" xlink:title=\"psysml:6a2a8f83-25b7-443f-ad75-cafd3f704077\" xlink:type=\"simple\"><rect fill=\"#FFFFFF\" height=\"45.9375\" id=\"E3\" style=\"stroke: #383838; stroke-width: 1.5;\" width=\"66\" x=\"74\" y=\"205\"/><text fill=\"#000000\" font-family=\"sans-serif\" font-size=\"12\" font-style=\"italic\" lengthAdjust=\"spacingAndGlyphs\" textLength=\"64\" x=\"75\" y=\"221.1387\">«part def»</text><text fill=\"#000000\" font-family=\"sans-serif\" font-size=\"12\" lengthAdjust=\"spacingAndGlyphs\" textLength=\"45\" x=\"84.5\" y=\"235.1074\">Vehicle</text><line style=\"stroke: #383838; stroke-width: 1.5;\" x1=\"75\" x2=\"139\" y1=\"242.9375\" y2=\"242.9375\"/></a><!--MD5=[270fce915f116d4de14055a7c1d9a0f3]\n",
       "class E5--><a href=\"psysml:ac2a7781-f3a7-4610-aa94-de8fcbc60da2\" target=\"_top\" title=\"psysml:ac2a7781-f3a7-4610-aa94-de8fcbc60da2\" xlink:actuate=\"onRequest\" xlink:href=\"psysml:ac2a7781-f3a7-4610-aa94-de8fcbc60da2\" xlink:show=\"new\" xlink:title=\"psysml:ac2a7781-f3a7-4610-aa94-de8fcbc60da2\" xlink:type=\"simple\"><rect fill=\"#FFFFFF\" height=\"45.9375\" id=\"E5\" rx=\"10\" ry=\"10\" style=\"stroke: #383838; stroke-width: 1.5;\" width=\"102\" x=\"56\" y=\"84\"/><text fill=\"#000000\" font-family=\"sans-serif\" font-size=\"12\" font-style=\"italic\" lengthAdjust=\"spacingAndGlyphs\" textLength=\"40\" x=\"87\" y=\"100.1387\">«part»</text><text fill=\"#000000\" font-family=\"sans-serif\" font-size=\"12\" lengthAdjust=\"spacingAndGlyphs\" textLength=\"96\" x=\"59\" y=\"114.1074\">vehicle: Vehicle</text><line style=\"stroke: #383838; stroke-width: 1.5;\" x1=\"57\" x2=\"157\" y1=\"121.9375\" y2=\"121.9375\"/></a><!--MD5=[e9be52314489bd878ff4c7144b63c9e1]\n",
       "link E5 to E3--><a href=\"psysml:f4b8c599-6f69-4625-a365-4a72ec0c3cc2\" target=\"_top\" title=\"psysml:f4b8c599-6f69-4625-a365-4a72ec0c3cc2\" xlink:actuate=\"onRequest\" xlink:href=\"psysml:f4b8c599-6f69-4625-a365-4a72ec0c3cc2\" xlink:show=\"new\" xlink:title=\"psysml:f4b8c599-6f69-4625-a365-4a72ec0c3cc2\" xlink:type=\"simple\"><path d=\"M107,130.1 C107,145.37 107,166.16 107,184.57 \" fill=\"none\" id=\"E5-&gt;E3\" style=\"stroke: #383838; stroke-width: 1.0;\"/><polygon fill=\"#FFFFFF\" points=\"107,204.61,100,185.61,114,185.61,107,204.61\" style=\"stroke: #383838; stroke-width: 1.0;\"/><ellipse cx=\"102\" cy=\"179.91\" fill=\"#383838\" rx=\"2\" ry=\"2\" style=\"stroke: #383838; stroke-width: 1.0;\"/><ellipse cx=\"112\" cy=\"179.91\" fill=\"#383838\" rx=\"2\" ry=\"2\" style=\"stroke: #383838; stroke-width: 1.0;\"/></a><!--MD5=[f843be022a474e7db32b5ea27c882ba9]\n",
       "@startuml\r\n",
       " skinparam monochrome true\r\n",
       "skinparam classbackgroundcolor white\r\n",
       "skinparam shadowing false\r\n",
       "skinparam wrapWidth 300\r\n",
       "hide circle\r\n",
       "\r\n",
       "package \"AliasImport\" as E1  [[psysml:ef3d48fd-2829-4dbf-9589-92371a3e091f ]]  {\r\n",
       "package \"Definitions\" as E2  [[psysml:de0d2cc7-98e6-429c-a225-0b1a04e72b17 ]]  {\r\n",
       "comp def \"Vehicle\" as E3  <<(T,blue) part def>> [[psysml:6a2a8f83-25b7-443f-ad75-cafd3f704077 ]] {\r\n",
       "}\r\n",
       "}\r\n",
       "package \"Usages\" as E4  [[psysml:0db9d317-797a-4865-97e5-5934f0d4a303 ]]  {\r\n",
       "comp usage \"vehicle: Vehicle\" as E5  <<(T,blue) part>> [[psysml:ac2a7781-f3a7-4610-aa94-de8fcbc60da2 ]] {\r\n",
       "}\r\n",
       "E5 - -:|> E3 [[psysml:f4b8c599-6f69-4625-a365-4a72ec0c3cc2 ]] \r\n",
       "}\r\n",
       "}\r\n",
       "@enduml\r\n",
       "\n",
       "PlantUML version 1.2020.13(Sat Jun 13 12:26:38 UTC 2020)\n",
       "(EPL source distribution)\n",
       "Java Runtime: OpenJDK Runtime Environment\n",
       "JVM: OpenJDK 64-Bit Server VM\n",
       "Default Encoding: UTF-8\n",
       "Language: en\n",
       "Country: null\n",
       "--></g></svg>"
      ]
     },
     "execution_count": 8,
     "metadata": {},
     "output_type": "execute_result"
    }
   ],
   "source": [
    "%viz --style=\"COMPTREE\" --view=\"MIXED\" \"AliasImport\""
   ]
  },
  {
   "cell_type": "code",
   "execution_count": 9,
   "id": "18a5d70c",
   "metadata": {
    "execution": {
     "iopub.execute_input": "2021-08-04T06:25:40.330452Z",
     "iopub.status.busy": "2021-08-04T06:25:40.330021Z",
     "iopub.status.idle": "2021-08-04T06:25:40.355689Z",
     "shell.execute_reply": "2021-08-04T06:25:40.355274Z"
    }
   },
   "outputs": [
    {
     "data": {
      "image/svg+xml": [
       "<?xml version=\"1.0\" encoding=\"UTF-8\" standalone=\"no\"?><svg xmlns=\"http://www.w3.org/2000/svg\" xmlns:xlink=\"http://www.w3.org/1999/xlink\" contentScriptType=\"application/ecmascript\" contentStyleType=\"text/css\" height=\"303px\" preserveAspectRatio=\"none\" style=\"width:220px;height:303px;\" version=\"1.1\" viewBox=\"0 0 220 303\" width=\"220px\" zoomAndPan=\"magnify\"><defs/><g><!--MD5=[fbc87193dbaf4d95561dea2c320d4a47]\n",
       "cluster E1--><a href=\"psysml:ef3d48fd-2829-4dbf-9589-92371a3e091f\" target=\"_top\" title=\"psysml:ef3d48fd-2829-4dbf-9589-92371a3e091f\" xlink:actuate=\"onRequest\" xlink:href=\"psysml:ef3d48fd-2829-4dbf-9589-92371a3e091f\" xlink:show=\"new\" xlink:title=\"psysml:ef3d48fd-2829-4dbf-9589-92371a3e091f\" xlink:type=\"simple\"><polygon fill=\"#FFFFFF\" points=\"16,6,110,6,117,28.2969,198,28.2969,198,291,16,291,16,6\" style=\"stroke: #000000; stroke-width: 1.5;\"/><line style=\"stroke: #000000; stroke-width: 1.5;\" x1=\"16\" x2=\"117\" y1=\"28.2969\" y2=\"28.2969\"/><text fill=\"#000000\" font-family=\"sans-serif\" font-size=\"14\" font-weight=\"bold\" lengthAdjust=\"spacingAndGlyphs\" textLength=\"88\" x=\"20\" y=\"20.9951\">AliasImport</text></a><!--MD5=[e4f7fae6ed58524ba242bb0b0d3be6b7]\n",
       "cluster E2--><a href=\"psysml:de0d2cc7-98e6-429c-a225-0b1a04e72b17\" target=\"_top\" title=\"psysml:de0d2cc7-98e6-429c-a225-0b1a04e72b17\" xlink:actuate=\"onRequest\" xlink:href=\"psysml:de0d2cc7-98e6-429c-a225-0b1a04e72b17\" xlink:show=\"new\" xlink:title=\"psysml:de0d2cc7-98e6-429c-a225-0b1a04e72b17\" xlink:type=\"simple\"><polygon fill=\"#FFFFFF\" points=\"57,170,147,170,154,192.2969,157,192.2969,157,267,57,267,57,170\" style=\"stroke: #000000; stroke-width: 1.5;\"/><line style=\"stroke: #000000; stroke-width: 1.5;\" x1=\"57\" x2=\"154\" y1=\"192.2969\" y2=\"192.2969\"/><text fill=\"#000000\" font-family=\"sans-serif\" font-size=\"14\" font-weight=\"bold\" lengthAdjust=\"spacingAndGlyphs\" textLength=\"84\" x=\"61\" y=\"184.9951\">Definitions</text></a><!--MD5=[f6df4d0ebaf0b5dfb2ced0ae5af7c670]\n",
       "cluster E4--><a href=\"psysml:0db9d317-797a-4865-97e5-5934f0d4a303\" target=\"_top\" title=\"psysml:0db9d317-797a-4865-97e5-5934f0d4a303\" xlink:actuate=\"onRequest\" xlink:href=\"psysml:0db9d317-797a-4865-97e5-5934f0d4a303\" xlink:show=\"new\" xlink:title=\"psysml:0db9d317-797a-4865-97e5-5934f0d4a303\" xlink:type=\"simple\"><polygon fill=\"#FFFFFF\" points=\"40,49,104,49,111,71.2969,174,71.2969,174,146,40,146,40,49\" style=\"stroke: #000000; stroke-width: 1.5;\"/><line style=\"stroke: #000000; stroke-width: 1.5;\" x1=\"40\" x2=\"111\" y1=\"71.2969\" y2=\"71.2969\"/><text fill=\"#000000\" font-family=\"sans-serif\" font-size=\"14\" font-weight=\"bold\" lengthAdjust=\"spacingAndGlyphs\" textLength=\"58\" x=\"44\" y=\"63.9951\">Usages</text></a><!--MD5=[09b614a08d8cba4a07c9adeb5e0fee81]\n",
       "class E3--><a href=\"psysml:6a2a8f83-25b7-443f-ad75-cafd3f704077\" target=\"_top\" title=\"psysml:6a2a8f83-25b7-443f-ad75-cafd3f704077\" xlink:actuate=\"onRequest\" xlink:href=\"psysml:6a2a8f83-25b7-443f-ad75-cafd3f704077\" xlink:show=\"new\" xlink:title=\"psysml:6a2a8f83-25b7-443f-ad75-cafd3f704077\" xlink:type=\"simple\"><rect fill=\"#FFFFFF\" height=\"45.9375\" id=\"E3\" style=\"stroke: #383838; stroke-width: 1.5;\" width=\"66\" x=\"74\" y=\"205\"/><text fill=\"#000000\" font-family=\"sans-serif\" font-size=\"12\" font-style=\"italic\" lengthAdjust=\"spacingAndGlyphs\" textLength=\"64\" x=\"75\" y=\"221.1387\">«part def»</text><text fill=\"#000000\" font-family=\"sans-serif\" font-size=\"12\" lengthAdjust=\"spacingAndGlyphs\" textLength=\"45\" x=\"84.5\" y=\"235.1074\">Vehicle</text><line style=\"stroke: #383838; stroke-width: 1.5;\" x1=\"75\" x2=\"139\" y1=\"242.9375\" y2=\"242.9375\"/></a><!--MD5=[270fce915f116d4de14055a7c1d9a0f3]\n",
       "class E5--><a href=\"psysml:ac2a7781-f3a7-4610-aa94-de8fcbc60da2\" target=\"_top\" title=\"psysml:ac2a7781-f3a7-4610-aa94-de8fcbc60da2\" xlink:actuate=\"onRequest\" xlink:href=\"psysml:ac2a7781-f3a7-4610-aa94-de8fcbc60da2\" xlink:show=\"new\" xlink:title=\"psysml:ac2a7781-f3a7-4610-aa94-de8fcbc60da2\" xlink:type=\"simple\"><rect fill=\"#FFFFFF\" height=\"45.9375\" id=\"E5\" rx=\"10\" ry=\"10\" style=\"stroke: #383838; stroke-width: 1.5;\" width=\"102\" x=\"56\" y=\"84\"/><text fill=\"#000000\" font-family=\"sans-serif\" font-size=\"12\" font-style=\"italic\" lengthAdjust=\"spacingAndGlyphs\" textLength=\"40\" x=\"87\" y=\"100.1387\">«part»</text><text fill=\"#000000\" font-family=\"sans-serif\" font-size=\"12\" lengthAdjust=\"spacingAndGlyphs\" textLength=\"96\" x=\"59\" y=\"114.1074\">vehicle: Vehicle</text><line style=\"stroke: #383838; stroke-width: 1.5;\" x1=\"57\" x2=\"157\" y1=\"121.9375\" y2=\"121.9375\"/></a><!--MD5=[e9be52314489bd878ff4c7144b63c9e1]\n",
       "link E5 to E3--><a href=\"psysml:f4b8c599-6f69-4625-a365-4a72ec0c3cc2\" target=\"_top\" title=\"psysml:f4b8c599-6f69-4625-a365-4a72ec0c3cc2\" xlink:actuate=\"onRequest\" xlink:href=\"psysml:f4b8c599-6f69-4625-a365-4a72ec0c3cc2\" xlink:show=\"new\" xlink:title=\"psysml:f4b8c599-6f69-4625-a365-4a72ec0c3cc2\" xlink:type=\"simple\"><path d=\"M107,130.1 C107,145.37 107,166.16 107,184.57 \" fill=\"none\" id=\"E5-&gt;E3\" style=\"stroke: #383838; stroke-width: 1.0;\"/><polygon fill=\"#FFFFFF\" points=\"107,204.61,100,185.61,114,185.61,107,204.61\" style=\"stroke: #383838; stroke-width: 1.0;\"/><ellipse cx=\"102\" cy=\"179.91\" fill=\"#383838\" rx=\"2\" ry=\"2\" style=\"stroke: #383838; stroke-width: 1.0;\"/><ellipse cx=\"112\" cy=\"179.91\" fill=\"#383838\" rx=\"2\" ry=\"2\" style=\"stroke: #383838; stroke-width: 1.0;\"/></a><!--MD5=[bc565e3a06e25edcf1d2f2497b5d552c]\n",
       "@startuml\r\n",
       "skinparam linetype polyline\r\n",
       "skinparam monochrome true\r\n",
       "skinparam classbackgroundcolor white\r\n",
       "skinparam shadowing false\r\n",
       "skinparam wrapWidth 300\r\n",
       "hide circle\r\n",
       "\r\n",
       "package \"AliasImport\" as E1  [[psysml:ef3d48fd-2829-4dbf-9589-92371a3e091f ]]  {\r\n",
       "package \"Definitions\" as E2  [[psysml:de0d2cc7-98e6-429c-a225-0b1a04e72b17 ]]  {\r\n",
       "comp def \"Vehicle\" as E3  <<(T,blue) part def>> [[psysml:6a2a8f83-25b7-443f-ad75-cafd3f704077 ]] {\r\n",
       "}\r\n",
       "}\r\n",
       "package \"Usages\" as E4  [[psysml:0db9d317-797a-4865-97e5-5934f0d4a303 ]]  {\r\n",
       "comp usage \"vehicle: Vehicle\" as E5  <<(T,blue) part>> [[psysml:ac2a7781-f3a7-4610-aa94-de8fcbc60da2 ]] {\r\n",
       "}\r\n",
       "E5 - -:|> E3 [[psysml:f4b8c599-6f69-4625-a365-4a72ec0c3cc2 ]] \r\n",
       "}\r\n",
       "}\r\n",
       "@enduml\r\n",
       "\n",
       "PlantUML version 1.2020.13(Sat Jun 13 12:26:38 UTC 2020)\n",
       "(EPL source distribution)\n",
       "Java Runtime: OpenJDK Runtime Environment\n",
       "JVM: OpenJDK 64-Bit Server VM\n",
       "Default Encoding: UTF-8\n",
       "Language: en\n",
       "Country: null\n",
       "--></g></svg>"
      ]
     },
     "execution_count": 9,
     "metadata": {},
     "output_type": "execute_result"
    }
   ],
   "source": [
    "%viz --style=\"POLYLINE\" --view=\"Default\" \"AliasImport\""
   ]
  },
  {
   "cell_type": "code",
   "execution_count": 10,
   "id": "cffe7f4d",
   "metadata": {
    "execution": {
     "iopub.execute_input": "2021-08-04T06:25:40.405347Z",
     "iopub.status.busy": "2021-08-04T06:25:40.404910Z",
     "iopub.status.idle": "2021-08-04T06:25:40.440511Z",
     "shell.execute_reply": "2021-08-04T06:25:40.440214Z"
    }
   },
   "outputs": [
    {
     "data": {
      "image/svg+xml": [
       "<?xml version=\"1.0\" encoding=\"UTF-8\" standalone=\"no\"?><svg xmlns=\"http://www.w3.org/2000/svg\" xmlns:xlink=\"http://www.w3.org/1999/xlink\" contentScriptType=\"application/ecmascript\" contentStyleType=\"text/css\" height=\"303px\" preserveAspectRatio=\"none\" style=\"width:220px;height:303px;\" version=\"1.1\" viewBox=\"0 0 220 303\" width=\"220px\" zoomAndPan=\"magnify\"><defs/><g><!--MD5=[fbc87193dbaf4d95561dea2c320d4a47]\n",
       "cluster E1--><a href=\"psysml:ef3d48fd-2829-4dbf-9589-92371a3e091f\" target=\"_top\" title=\"psysml:ef3d48fd-2829-4dbf-9589-92371a3e091f\" xlink:actuate=\"onRequest\" xlink:href=\"psysml:ef3d48fd-2829-4dbf-9589-92371a3e091f\" xlink:show=\"new\" xlink:title=\"psysml:ef3d48fd-2829-4dbf-9589-92371a3e091f\" xlink:type=\"simple\"><polygon fill=\"#FFFFFF\" points=\"16,6,110,6,117,28.2969,198,28.2969,198,291,16,291,16,6\" style=\"stroke: #000000; stroke-width: 1.5;\"/><line style=\"stroke: #000000; stroke-width: 1.5;\" x1=\"16\" x2=\"117\" y1=\"28.2969\" y2=\"28.2969\"/><text fill=\"#000000\" font-family=\"sans-serif\" font-size=\"14\" font-weight=\"bold\" lengthAdjust=\"spacingAndGlyphs\" textLength=\"88\" x=\"20\" y=\"20.9951\">AliasImport</text></a><!--MD5=[e4f7fae6ed58524ba242bb0b0d3be6b7]\n",
       "cluster E2--><a href=\"psysml:de0d2cc7-98e6-429c-a225-0b1a04e72b17\" target=\"_top\" title=\"psysml:de0d2cc7-98e6-429c-a225-0b1a04e72b17\" xlink:actuate=\"onRequest\" xlink:href=\"psysml:de0d2cc7-98e6-429c-a225-0b1a04e72b17\" xlink:show=\"new\" xlink:title=\"psysml:de0d2cc7-98e6-429c-a225-0b1a04e72b17\" xlink:type=\"simple\"><polygon fill=\"#FFFFFF\" points=\"57,170,147,170,154,192.2969,157,192.2969,157,267,57,267,57,170\" style=\"stroke: #000000; stroke-width: 1.5;\"/><line style=\"stroke: #000000; stroke-width: 1.5;\" x1=\"57\" x2=\"154\" y1=\"192.2969\" y2=\"192.2969\"/><text fill=\"#000000\" font-family=\"sans-serif\" font-size=\"14\" font-weight=\"bold\" lengthAdjust=\"spacingAndGlyphs\" textLength=\"84\" x=\"61\" y=\"184.9951\">Definitions</text></a><!--MD5=[f6df4d0ebaf0b5dfb2ced0ae5af7c670]\n",
       "cluster E4--><a href=\"psysml:0db9d317-797a-4865-97e5-5934f0d4a303\" target=\"_top\" title=\"psysml:0db9d317-797a-4865-97e5-5934f0d4a303\" xlink:actuate=\"onRequest\" xlink:href=\"psysml:0db9d317-797a-4865-97e5-5934f0d4a303\" xlink:show=\"new\" xlink:title=\"psysml:0db9d317-797a-4865-97e5-5934f0d4a303\" xlink:type=\"simple\"><polygon fill=\"#FFFFFF\" points=\"40,49,104,49,111,71.2969,174,71.2969,174,146,40,146,40,49\" style=\"stroke: #000000; stroke-width: 1.5;\"/><line style=\"stroke: #000000; stroke-width: 1.5;\" x1=\"40\" x2=\"111\" y1=\"71.2969\" y2=\"71.2969\"/><text fill=\"#000000\" font-family=\"sans-serif\" font-size=\"14\" font-weight=\"bold\" lengthAdjust=\"spacingAndGlyphs\" textLength=\"58\" x=\"44\" y=\"63.9951\">Usages</text></a><!--MD5=[09b614a08d8cba4a07c9adeb5e0fee81]\n",
       "class E3--><a href=\"psysml:6a2a8f83-25b7-443f-ad75-cafd3f704077\" target=\"_top\" title=\"psysml:6a2a8f83-25b7-443f-ad75-cafd3f704077\" xlink:actuate=\"onRequest\" xlink:href=\"psysml:6a2a8f83-25b7-443f-ad75-cafd3f704077\" xlink:show=\"new\" xlink:title=\"psysml:6a2a8f83-25b7-443f-ad75-cafd3f704077\" xlink:type=\"simple\"><rect fill=\"#FFFFFF\" height=\"45.9375\" id=\"E3\" style=\"stroke: #383838; stroke-width: 1.5;\" width=\"66\" x=\"74\" y=\"205\"/><text fill=\"#000000\" font-family=\"sans-serif\" font-size=\"12\" font-style=\"italic\" lengthAdjust=\"spacingAndGlyphs\" textLength=\"64\" x=\"75\" y=\"221.1387\">«part def»</text><text fill=\"#000000\" font-family=\"sans-serif\" font-size=\"12\" lengthAdjust=\"spacingAndGlyphs\" textLength=\"45\" x=\"84.5\" y=\"235.1074\">Vehicle</text><line style=\"stroke: #383838; stroke-width: 1.5;\" x1=\"75\" x2=\"139\" y1=\"242.9375\" y2=\"242.9375\"/></a><!--MD5=[270fce915f116d4de14055a7c1d9a0f3]\n",
       "class E5--><a href=\"psysml:ac2a7781-f3a7-4610-aa94-de8fcbc60da2\" target=\"_top\" title=\"psysml:ac2a7781-f3a7-4610-aa94-de8fcbc60da2\" xlink:actuate=\"onRequest\" xlink:href=\"psysml:ac2a7781-f3a7-4610-aa94-de8fcbc60da2\" xlink:show=\"new\" xlink:title=\"psysml:ac2a7781-f3a7-4610-aa94-de8fcbc60da2\" xlink:type=\"simple\"><rect fill=\"#FFFFFF\" height=\"45.9375\" id=\"E5\" rx=\"10\" ry=\"10\" style=\"stroke: #383838; stroke-width: 1.5;\" width=\"102\" x=\"56\" y=\"84\"/><text fill=\"#000000\" font-family=\"sans-serif\" font-size=\"12\" font-style=\"italic\" lengthAdjust=\"spacingAndGlyphs\" textLength=\"40\" x=\"87\" y=\"100.1387\">«part»</text><text fill=\"#000000\" font-family=\"sans-serif\" font-size=\"12\" lengthAdjust=\"spacingAndGlyphs\" textLength=\"96\" x=\"59\" y=\"114.1074\">vehicle: Vehicle</text><line style=\"stroke: #383838; stroke-width: 1.5;\" x1=\"57\" x2=\"157\" y1=\"121.9375\" y2=\"121.9375\"/></a><!--MD5=[e9be52314489bd878ff4c7144b63c9e1]\n",
       "link E5 to E3--><a href=\"psysml:f4b8c599-6f69-4625-a365-4a72ec0c3cc2\" target=\"_top\" title=\"psysml:f4b8c599-6f69-4625-a365-4a72ec0c3cc2\" xlink:actuate=\"onRequest\" xlink:href=\"psysml:f4b8c599-6f69-4625-a365-4a72ec0c3cc2\" xlink:show=\"new\" xlink:title=\"psysml:f4b8c599-6f69-4625-a365-4a72ec0c3cc2\" xlink:type=\"simple\"><path d=\"M107,130.1 C107,145.37 107,166.16 107,184.57 \" fill=\"none\" id=\"E5-&gt;E3\" style=\"stroke: #383838; stroke-width: 1.0;\"/><polygon fill=\"#FFFFFF\" points=\"107,204.61,100,185.61,114,185.61,107,204.61\" style=\"stroke: #383838; stroke-width: 1.0;\"/><ellipse cx=\"102\" cy=\"179.91\" fill=\"#383838\" rx=\"2\" ry=\"2\" style=\"stroke: #383838; stroke-width: 1.0;\"/><ellipse cx=\"112\" cy=\"179.91\" fill=\"#383838\" rx=\"2\" ry=\"2\" style=\"stroke: #383838; stroke-width: 1.0;\"/></a><!--MD5=[bc565e3a06e25edcf1d2f2497b5d552c]\n",
       "@startuml\r\n",
       "skinparam linetype polyline\r\n",
       "skinparam monochrome true\r\n",
       "skinparam classbackgroundcolor white\r\n",
       "skinparam shadowing false\r\n",
       "skinparam wrapWidth 300\r\n",
       "hide circle\r\n",
       "\r\n",
       "package \"AliasImport\" as E1  [[psysml:ef3d48fd-2829-4dbf-9589-92371a3e091f ]]  {\r\n",
       "package \"Definitions\" as E2  [[psysml:de0d2cc7-98e6-429c-a225-0b1a04e72b17 ]]  {\r\n",
       "comp def \"Vehicle\" as E3  <<(T,blue) part def>> [[psysml:6a2a8f83-25b7-443f-ad75-cafd3f704077 ]] {\r\n",
       "}\r\n",
       "}\r\n",
       "package \"Usages\" as E4  [[psysml:0db9d317-797a-4865-97e5-5934f0d4a303 ]]  {\r\n",
       "comp usage \"vehicle: Vehicle\" as E5  <<(T,blue) part>> [[psysml:ac2a7781-f3a7-4610-aa94-de8fcbc60da2 ]] {\r\n",
       "}\r\n",
       "E5 - -:|> E3 [[psysml:f4b8c599-6f69-4625-a365-4a72ec0c3cc2 ]] \r\n",
       "}\r\n",
       "}\r\n",
       "@enduml\r\n",
       "\n",
       "PlantUML version 1.2020.13(Sat Jun 13 12:26:38 UTC 2020)\n",
       "(EPL source distribution)\n",
       "Java Runtime: OpenJDK Runtime Environment\n",
       "JVM: OpenJDK 64-Bit Server VM\n",
       "Default Encoding: UTF-8\n",
       "Language: en\n",
       "Country: null\n",
       "--></g></svg>"
      ]
     },
     "execution_count": 10,
     "metadata": {},
     "output_type": "execute_result"
    }
   ],
   "source": [
    "%viz --style=\"POLYLINE\" --view=\"Tree\" \"AliasImport\""
   ]
  },
  {
   "cell_type": "code",
   "execution_count": 11,
   "id": "9eb9efc6",
   "metadata": {
    "execution": {
     "iopub.execute_input": "2021-08-04T06:25:40.491454Z",
     "iopub.status.busy": "2021-08-04T06:25:40.490989Z",
     "iopub.status.idle": "2021-08-04T06:25:40.499405Z",
     "shell.execute_reply": "2021-08-04T06:25:40.499744Z"
    }
   },
   "outputs": [
    {
     "data": {
      "image/svg+xml": [
       "<?xml version=\"1.0\" encoding=\"UTF-8\" standalone=\"no\"?><svg xmlns=\"http://www.w3.org/2000/svg\" xmlns:xlink=\"http://www.w3.org/1999/xlink\" contentScriptType=\"application/ecmascript\" contentStyleType=\"text/css\" height=\"12px\" preserveAspectRatio=\"none\" style=\"width:12px;height:12px;\" version=\"1.1\" viewBox=\"0 0 12 12\" width=\"12px\" zoomAndPan=\"magnify\"><defs/><g><!--MD5=[896ac0e7a515d8dd7765a661cb4ee08b]\n",
       "@startuml\r\n",
       "skinparam linetype polyline\r\n",
       "skinparam monochrome true\r\n",
       "skinparam classbackgroundcolor white\r\n",
       "skinparam shadowing false\r\n",
       "skinparam wrapWidth 300\r\n",
       "hide circle\r\n",
       "\r\n",
       "@enduml\r\n",
       "\n",
       "PlantUML version 1.2020.13(Sat Jun 13 12:26:38 UTC 2020)\n",
       "(EPL source distribution)\n",
       "Java Runtime: OpenJDK Runtime Environment\n",
       "JVM: OpenJDK 64-Bit Server VM\n",
       "Default Encoding: UTF-8\n",
       "Language: en\n",
       "Country: null\n",
       "--></g></svg>"
      ]
     },
     "execution_count": 11,
     "metadata": {},
     "output_type": "execute_result"
    }
   ],
   "source": [
    "%viz --style=\"POLYLINE\" --view=\"State\" \"AliasImport\""
   ]
  },
  {
   "cell_type": "code",
   "execution_count": 12,
   "id": "8d6647e2",
   "metadata": {
    "execution": {
     "iopub.execute_input": "2021-08-04T06:25:40.550210Z",
     "iopub.status.busy": "2021-08-04T06:25:40.549776Z",
     "iopub.status.idle": "2021-08-04T06:25:40.587649Z",
     "shell.execute_reply": "2021-08-04T06:25:40.587286Z"
    }
   },
   "outputs": [
    {
     "data": {
      "image/svg+xml": [
       "<?xml version=\"1.0\" encoding=\"UTF-8\" standalone=\"no\"?><svg xmlns=\"http://www.w3.org/2000/svg\" xmlns:xlink=\"http://www.w3.org/1999/xlink\" contentScriptType=\"application/ecmascript\" contentStyleType=\"text/css\" height=\"179px\" preserveAspectRatio=\"none\" style=\"width:458px;height:179px;\" version=\"1.1\" viewBox=\"0 0 458 179\" width=\"458px\" zoomAndPan=\"magnify\"><defs/><g><!--MD5=[fbc87193dbaf4d95561dea2c320d4a47]\n",
       "cluster E1--><a href=\"psysml:ef3d48fd-2829-4dbf-9589-92371a3e091f\" target=\"_top\" title=\"psysml:ef3d48fd-2829-4dbf-9589-92371a3e091f\" xlink:actuate=\"onRequest\" xlink:href=\"psysml:ef3d48fd-2829-4dbf-9589-92371a3e091f\" xlink:show=\"new\" xlink:title=\"psysml:ef3d48fd-2829-4dbf-9589-92371a3e091f\" xlink:type=\"simple\"><polygon fill=\"#FFFFFF\" points=\"16,6,110,6,117,28.2969,436,28.2969,436,167,16,167,16,6\" style=\"stroke: #000000; stroke-width: 1.5;\"/><line style=\"stroke: #000000; stroke-width: 1.5;\" x1=\"16\" x2=\"117\" y1=\"28.2969\" y2=\"28.2969\"/><text fill=\"#000000\" font-family=\"sans-serif\" font-size=\"14\" font-weight=\"bold\" lengthAdjust=\"spacingAndGlyphs\" textLength=\"88\" x=\"20\" y=\"20.9951\">AliasImport</text></a><!--MD5=[e4f7fae6ed58524ba242bb0b0d3be6b7]\n",
       "cluster E2--><a href=\"psysml:de0d2cc7-98e6-429c-a225-0b1a04e72b17\" target=\"_top\" title=\"psysml:de0d2cc7-98e6-429c-a225-0b1a04e72b17\" xlink:actuate=\"onRequest\" xlink:href=\"psysml:de0d2cc7-98e6-429c-a225-0b1a04e72b17\" xlink:show=\"new\" xlink:title=\"psysml:de0d2cc7-98e6-429c-a225-0b1a04e72b17\" xlink:type=\"simple\"><polygon fill=\"#FFFFFF\" points=\"202,49,292,49,299,71.2969,412,71.2969,412,143,202,143,202,49\" style=\"stroke: #000000; stroke-width: 1.5;\"/><line style=\"stroke: #000000; stroke-width: 1.5;\" x1=\"202\" x2=\"299\" y1=\"71.2969\" y2=\"71.2969\"/><text fill=\"#000000\" font-family=\"sans-serif\" font-size=\"14\" font-weight=\"bold\" lengthAdjust=\"spacingAndGlyphs\" textLength=\"84\" x=\"206\" y=\"63.9951\">Definitions</text></a><!--MD5=[de5ec2e2e8f62f467e546659f5068c88]\n",
       "cluster E5--><a href=\"psysml:0db9d317-797a-4865-97e5-5934f0d4a303\" target=\"_top\" title=\"psysml:0db9d317-797a-4865-97e5-5934f0d4a303\" xlink:actuate=\"onRequest\" xlink:href=\"psysml:0db9d317-797a-4865-97e5-5934f0d4a303\" xlink:show=\"new\" xlink:title=\"psysml:0db9d317-797a-4865-97e5-5934f0d4a303\" xlink:type=\"simple\"><polygon fill=\"#FFFFFF\" points=\"40,50.5,104,50.5,111,72.7969,178,72.7969,178,141.5,40,141.5,40,50.5\" style=\"stroke: #000000; stroke-width: 1.5;\"/><line style=\"stroke: #000000; stroke-width: 1.5;\" x1=\"40\" x2=\"111\" y1=\"72.7969\" y2=\"72.7969\"/><text fill=\"#000000\" font-family=\"sans-serif\" font-size=\"14\" font-weight=\"bold\" lengthAdjust=\"spacingAndGlyphs\" textLength=\"58\" x=\"44\" y=\"65.4951\">Usages</text></a><g id=\"E1.E2.E3\"><a href=\"psysml:6a2a8f83-25b7-443f-ad75-cafd3f704077\" target=\"_top\" title=\"psysml:6a2a8f83-25b7-443f-ad75-cafd3f704077\" xlink:actuate=\"onRequest\" xlink:href=\"psysml:6a2a8f83-25b7-443f-ad75-cafd3f704077\" xlink:show=\"new\" xlink:title=\"psysml:6a2a8f83-25b7-443f-ad75-cafd3f704077\" xlink:type=\"simple\"><rect fill=\"#FFFFFF\" height=\"42.9375\" id=\"E3\" style=\"stroke: #383838; stroke-width: 1.5;\" width=\"71\" x=\"324.5\" y=\"84\"/><rect fill=\"#F8F8F8\" height=\"37.9375\" style=\"stroke: #383838; stroke-width: 1.5;\" width=\"71\" x=\"324.5\" y=\"84\"/><text fill=\"#000000\" font-family=\"sans-serif\" font-size=\"12\" font-style=\"italic\" lengthAdjust=\"spacingAndGlyphs\" textLength=\"64\" x=\"328\" y=\"100.1387\">«part def»</text><text fill=\"#000000\" font-family=\"sans-serif\" font-size=\"12\" lengthAdjust=\"spacingAndGlyphs\" textLength=\"45\" x=\"337.5\" y=\"114.1074\">Vehicle</text></a></g><g id=\"E1.E2.E4\"><a href=\"psysml:6a2a8f83-25b7-443f-ad75-cafd3f704077\" target=\"_top\" title=\"psysml:6a2a8f83-25b7-443f-ad75-cafd3f704077\" xlink:actuate=\"onRequest\" xlink:href=\"psysml:6a2a8f83-25b7-443f-ad75-cafd3f704077\" xlink:show=\"new\" xlink:title=\"psysml:6a2a8f83-25b7-443f-ad75-cafd3f704077\" xlink:type=\"simple\"><rect fill=\"#FFFFFF\" height=\"42.9375\" id=\"E4\" style=\"stroke: #383838; stroke-width: 1.5;\" width=\"71\" x=\"218.5\" y=\"84\"/><rect fill=\"#F8F8F8\" height=\"37.9375\" style=\"stroke: #383838; stroke-width: 1.5;\" width=\"71\" x=\"218.5\" y=\"84\"/><text fill=\"#000000\" font-family=\"sans-serif\" font-size=\"12\" font-style=\"italic\" lengthAdjust=\"spacingAndGlyphs\" textLength=\"64\" x=\"222\" y=\"100.1387\">«part def»</text><text fill=\"#000000\" font-family=\"sans-serif\" font-size=\"12\" lengthAdjust=\"spacingAndGlyphs\" textLength=\"45\" x=\"231.5\" y=\"114.1074\">Vehicle</text></a></g><g id=\"E1.E5.E6\"><a href=\"psysml:ac2a7781-f3a7-4610-aa94-de8fcbc60da2\" target=\"_top\" title=\"psysml:ac2a7781-f3a7-4610-aa94-de8fcbc60da2\" xlink:actuate=\"onRequest\" xlink:href=\"psysml:ac2a7781-f3a7-4610-aa94-de8fcbc60da2\" xlink:show=\"new\" xlink:title=\"psysml:ac2a7781-f3a7-4610-aa94-de8fcbc60da2\" xlink:type=\"simple\"><rect fill=\"#FFFFFF\" height=\"40\" id=\"E6\" rx=\"10\" ry=\"10\" style=\"stroke: #383838; stroke-width: 1.5;\" width=\"107\" x=\"55.5\" y=\"85.5\"/><rect fill=\"#F8F8F8\" height=\"23.9688\" rx=\"10\" ry=\"10\" style=\"stroke: #F8F8F8; stroke-width: 1.5;\" width=\"107\" x=\"55.5\" y=\"85.5\"/><rect fill=\"#F8F8F8\" height=\"10\" style=\"stroke: #F8F8F8; stroke-width: 1.5;\" width=\"107\" x=\"55.5\" y=\"99.4688\"/><rect fill=\"none\" height=\"40\" id=\"E6\" rx=\"10\" ry=\"10\" style=\"stroke: #383838; stroke-width: 1.5;\" width=\"107\" x=\"55.5\" y=\"85.5\"/><text fill=\"#000000\" font-family=\"sans-serif\" font-size=\"12\" lengthAdjust=\"spacingAndGlyphs\" textLength=\"96\" x=\"61\" y=\"101.6387\">vehicle: Vehicle</text></a></g><!--MD5=[3347ea28e9fdb17e8288421d6caade64]\n",
       "@startuml\r\n",
       "skinparam ranksep 10\r\n",
       "skinparam rectangle {\r\n",
       " backgroundColor<<block>> LightGreen\r\n",
       "}\r\n",
       "skinparam linetype polyline\r\n",
       "skinparam monochrome true\r\n",
       "skinparam classbackgroundcolor white\r\n",
       "skinparam shadowing false\r\n",
       "skinparam wrapWidth 300\r\n",
       "hide circle\r\n",
       "\r\n",
       "package \"AliasImport\" as E1  [[psysml:ef3d48fd-2829-4dbf-9589-92371a3e091f ]]  {\r\n",
       "package \"Definitions\" as E2  [[psysml:de0d2cc7-98e6-429c-a225-0b1a04e72b17 ]]  {\r\n",
       "rec def \"Vehicle\" as E3  <<(T,blue) part def>> [[psysml:6a2a8f83-25b7-443f-ad75-cafd3f704077 ]] {\r\n",
       "}\r\n",
       "rec def \"Vehicle\" as E4  <<(T,blue) part def>> [[psysml:6a2a8f83-25b7-443f-ad75-cafd3f704077 ]] {\r\n",
       "}\r\n",
       "}\r\n",
       "package \"Usages\" as E5  [[psysml:0db9d317-797a-4865-97e5-5934f0d4a303 ]]  {\r\n",
       "rec usage \"vehicle: Vehicle\" as E6  [[psysml:ac2a7781-f3a7-4610-aa94-de8fcbc60da2 ]] {\r\n",
       "}\r\n",
       "}\r\n",
       "}\r\n",
       "@enduml\r\n",
       "\n",
       "PlantUML version 1.2020.13(Sat Jun 13 12:26:38 UTC 2020)\n",
       "(EPL source distribution)\n",
       "Java Runtime: OpenJDK Runtime Environment\n",
       "JVM: OpenJDK 64-Bit Server VM\n",
       "Default Encoding: UTF-8\n",
       "Language: en\n",
       "Country: null\n",
       "--></g></svg>"
      ]
     },
     "execution_count": 12,
     "metadata": {},
     "output_type": "execute_result"
    }
   ],
   "source": [
    "%viz --style=\"POLYLINE\" --view=\"Interconnection\" \"AliasImport\""
   ]
  },
  {
   "cell_type": "code",
   "execution_count": 13,
   "id": "3122060c",
   "metadata": {
    "execution": {
     "iopub.execute_input": "2021-08-04T06:25:40.638060Z",
     "iopub.status.busy": "2021-08-04T06:25:40.637617Z",
     "iopub.status.idle": "2021-08-04T06:25:40.644100Z",
     "shell.execute_reply": "2021-08-04T06:25:40.644483Z"
    }
   },
   "outputs": [
    {
     "data": {
      "image/svg+xml": [
       "<?xml version=\"1.0\" encoding=\"UTF-8\" standalone=\"no\"?><svg xmlns=\"http://www.w3.org/2000/svg\" xmlns:xlink=\"http://www.w3.org/1999/xlink\" contentScriptType=\"application/ecmascript\" contentStyleType=\"text/css\" height=\"12px\" preserveAspectRatio=\"none\" style=\"width:12px;height:12px;\" version=\"1.1\" viewBox=\"0 0 12 12\" width=\"12px\" zoomAndPan=\"magnify\"><defs/><g><!--MD5=[97bbf32f66ccd50cbc40d92ea8f5a65e]\n",
       "@startuml\r\n",
       "skinparam ranksep 8\r\n",
       "skinparam linetype polyline\r\n",
       "skinparam monochrome true\r\n",
       "skinparam classbackgroundcolor white\r\n",
       "skinparam shadowing false\r\n",
       "skinparam wrapWidth 300\r\n",
       "hide circle\r\n",
       "\r\n",
       "@enduml\r\n",
       "\n",
       "PlantUML version 1.2020.13(Sat Jun 13 12:26:38 UTC 2020)\n",
       "(EPL source distribution)\n",
       "Java Runtime: OpenJDK Runtime Environment\n",
       "JVM: OpenJDK 64-Bit Server VM\n",
       "Default Encoding: UTF-8\n",
       "Language: en\n",
       "Country: null\n",
       "--></g></svg>"
      ]
     },
     "execution_count": 13,
     "metadata": {},
     "output_type": "execute_result"
    }
   ],
   "source": [
    "%viz --style=\"POLYLINE\" --view=\"Action\" \"AliasImport\""
   ]
  },
  {
   "cell_type": "code",
   "execution_count": 14,
   "id": "230c0fe3",
   "metadata": {
    "execution": {
     "iopub.execute_input": "2021-08-04T06:25:40.694806Z",
     "iopub.status.busy": "2021-08-04T06:25:40.694325Z",
     "iopub.status.idle": "2021-08-04T06:25:40.723457Z",
     "shell.execute_reply": "2021-08-04T06:25:40.723618Z"
    }
   },
   "outputs": [
    {
     "data": {
      "image/svg+xml": [
       "<?xml version=\"1.0\" encoding=\"UTF-8\" standalone=\"no\"?><svg xmlns=\"http://www.w3.org/2000/svg\" xmlns:xlink=\"http://www.w3.org/1999/xlink\" contentScriptType=\"application/ecmascript\" contentStyleType=\"text/css\" height=\"303px\" preserveAspectRatio=\"none\" style=\"width:220px;height:303px;\" version=\"1.1\" viewBox=\"0 0 220 303\" width=\"220px\" zoomAndPan=\"magnify\"><defs/><g><!--MD5=[fbc87193dbaf4d95561dea2c320d4a47]\n",
       "cluster E1--><a href=\"psysml:ef3d48fd-2829-4dbf-9589-92371a3e091f\" target=\"_top\" title=\"psysml:ef3d48fd-2829-4dbf-9589-92371a3e091f\" xlink:actuate=\"onRequest\" xlink:href=\"psysml:ef3d48fd-2829-4dbf-9589-92371a3e091f\" xlink:show=\"new\" xlink:title=\"psysml:ef3d48fd-2829-4dbf-9589-92371a3e091f\" xlink:type=\"simple\"><polygon fill=\"#FFFFFF\" points=\"16,6,110,6,117,28.2969,198,28.2969,198,291,16,291,16,6\" style=\"stroke: #000000; stroke-width: 1.5;\"/><line style=\"stroke: #000000; stroke-width: 1.5;\" x1=\"16\" x2=\"117\" y1=\"28.2969\" y2=\"28.2969\"/><text fill=\"#000000\" font-family=\"sans-serif\" font-size=\"14\" font-weight=\"bold\" lengthAdjust=\"spacingAndGlyphs\" textLength=\"88\" x=\"20\" y=\"20.9951\">AliasImport</text></a><!--MD5=[e4f7fae6ed58524ba242bb0b0d3be6b7]\n",
       "cluster E2--><a href=\"psysml:de0d2cc7-98e6-429c-a225-0b1a04e72b17\" target=\"_top\" title=\"psysml:de0d2cc7-98e6-429c-a225-0b1a04e72b17\" xlink:actuate=\"onRequest\" xlink:href=\"psysml:de0d2cc7-98e6-429c-a225-0b1a04e72b17\" xlink:show=\"new\" xlink:title=\"psysml:de0d2cc7-98e6-429c-a225-0b1a04e72b17\" xlink:type=\"simple\"><polygon fill=\"#FFFFFF\" points=\"57,170,147,170,154,192.2969,157,192.2969,157,267,57,267,57,170\" style=\"stroke: #000000; stroke-width: 1.5;\"/><line style=\"stroke: #000000; stroke-width: 1.5;\" x1=\"57\" x2=\"154\" y1=\"192.2969\" y2=\"192.2969\"/><text fill=\"#000000\" font-family=\"sans-serif\" font-size=\"14\" font-weight=\"bold\" lengthAdjust=\"spacingAndGlyphs\" textLength=\"84\" x=\"61\" y=\"184.9951\">Definitions</text></a><!--MD5=[f6df4d0ebaf0b5dfb2ced0ae5af7c670]\n",
       "cluster E4--><a href=\"psysml:0db9d317-797a-4865-97e5-5934f0d4a303\" target=\"_top\" title=\"psysml:0db9d317-797a-4865-97e5-5934f0d4a303\" xlink:actuate=\"onRequest\" xlink:href=\"psysml:0db9d317-797a-4865-97e5-5934f0d4a303\" xlink:show=\"new\" xlink:title=\"psysml:0db9d317-797a-4865-97e5-5934f0d4a303\" xlink:type=\"simple\"><polygon fill=\"#FFFFFF\" points=\"40,49,104,49,111,71.2969,174,71.2969,174,146,40,146,40,49\" style=\"stroke: #000000; stroke-width: 1.5;\"/><line style=\"stroke: #000000; stroke-width: 1.5;\" x1=\"40\" x2=\"111\" y1=\"71.2969\" y2=\"71.2969\"/><text fill=\"#000000\" font-family=\"sans-serif\" font-size=\"14\" font-weight=\"bold\" lengthAdjust=\"spacingAndGlyphs\" textLength=\"58\" x=\"44\" y=\"63.9951\">Usages</text></a><!--MD5=[09b614a08d8cba4a07c9adeb5e0fee81]\n",
       "class E3--><a href=\"psysml:6a2a8f83-25b7-443f-ad75-cafd3f704077\" target=\"_top\" title=\"psysml:6a2a8f83-25b7-443f-ad75-cafd3f704077\" xlink:actuate=\"onRequest\" xlink:href=\"psysml:6a2a8f83-25b7-443f-ad75-cafd3f704077\" xlink:show=\"new\" xlink:title=\"psysml:6a2a8f83-25b7-443f-ad75-cafd3f704077\" xlink:type=\"simple\"><rect fill=\"#FFFFFF\" height=\"45.9375\" id=\"E3\" style=\"stroke: #383838; stroke-width: 1.5;\" width=\"66\" x=\"74\" y=\"205\"/><text fill=\"#000000\" font-family=\"sans-serif\" font-size=\"12\" font-style=\"italic\" lengthAdjust=\"spacingAndGlyphs\" textLength=\"64\" x=\"75\" y=\"221.1387\">«part def»</text><text fill=\"#000000\" font-family=\"sans-serif\" font-size=\"12\" lengthAdjust=\"spacingAndGlyphs\" textLength=\"45\" x=\"84.5\" y=\"235.1074\">Vehicle</text><line style=\"stroke: #383838; stroke-width: 1.5;\" x1=\"75\" x2=\"139\" y1=\"242.9375\" y2=\"242.9375\"/></a><!--MD5=[270fce915f116d4de14055a7c1d9a0f3]\n",
       "class E5--><a href=\"psysml:ac2a7781-f3a7-4610-aa94-de8fcbc60da2\" target=\"_top\" title=\"psysml:ac2a7781-f3a7-4610-aa94-de8fcbc60da2\" xlink:actuate=\"onRequest\" xlink:href=\"psysml:ac2a7781-f3a7-4610-aa94-de8fcbc60da2\" xlink:show=\"new\" xlink:title=\"psysml:ac2a7781-f3a7-4610-aa94-de8fcbc60da2\" xlink:type=\"simple\"><rect fill=\"#FFFFFF\" height=\"45.9375\" id=\"E5\" rx=\"10\" ry=\"10\" style=\"stroke: #383838; stroke-width: 1.5;\" width=\"102\" x=\"56\" y=\"84\"/><text fill=\"#000000\" font-family=\"sans-serif\" font-size=\"12\" font-style=\"italic\" lengthAdjust=\"spacingAndGlyphs\" textLength=\"40\" x=\"87\" y=\"100.1387\">«part»</text><text fill=\"#000000\" font-family=\"sans-serif\" font-size=\"12\" lengthAdjust=\"spacingAndGlyphs\" textLength=\"96\" x=\"59\" y=\"114.1074\">vehicle: Vehicle</text><line style=\"stroke: #383838; stroke-width: 1.5;\" x1=\"57\" x2=\"157\" y1=\"121.9375\" y2=\"121.9375\"/></a><!--MD5=[e9be52314489bd878ff4c7144b63c9e1]\n",
       "link E5 to E3--><a href=\"psysml:f4b8c599-6f69-4625-a365-4a72ec0c3cc2\" target=\"_top\" title=\"psysml:f4b8c599-6f69-4625-a365-4a72ec0c3cc2\" xlink:actuate=\"onRequest\" xlink:href=\"psysml:f4b8c599-6f69-4625-a365-4a72ec0c3cc2\" xlink:show=\"new\" xlink:title=\"psysml:f4b8c599-6f69-4625-a365-4a72ec0c3cc2\" xlink:type=\"simple\"><path d=\"M107,130.1 C107,145.37 107,166.16 107,184.57 \" fill=\"none\" id=\"E5-&gt;E3\" style=\"stroke: #383838; stroke-width: 1.0;\"/><polygon fill=\"#FFFFFF\" points=\"107,204.61,100,185.61,114,185.61,107,204.61\" style=\"stroke: #383838; stroke-width: 1.0;\"/><ellipse cx=\"102\" cy=\"179.91\" fill=\"#383838\" rx=\"2\" ry=\"2\" style=\"stroke: #383838; stroke-width: 1.0;\"/><ellipse cx=\"112\" cy=\"179.91\" fill=\"#383838\" rx=\"2\" ry=\"2\" style=\"stroke: #383838; stroke-width: 1.0;\"/></a><!--MD5=[bc565e3a06e25edcf1d2f2497b5d552c]\n",
       "@startuml\r\n",
       "skinparam linetype polyline\r\n",
       "skinparam monochrome true\r\n",
       "skinparam classbackgroundcolor white\r\n",
       "skinparam shadowing false\r\n",
       "skinparam wrapWidth 300\r\n",
       "hide circle\r\n",
       "\r\n",
       "package \"AliasImport\" as E1  [[psysml:ef3d48fd-2829-4dbf-9589-92371a3e091f ]]  {\r\n",
       "package \"Definitions\" as E2  [[psysml:de0d2cc7-98e6-429c-a225-0b1a04e72b17 ]]  {\r\n",
       "comp def \"Vehicle\" as E3  <<(T,blue) part def>> [[psysml:6a2a8f83-25b7-443f-ad75-cafd3f704077 ]] {\r\n",
       "}\r\n",
       "}\r\n",
       "package \"Usages\" as E4  [[psysml:0db9d317-797a-4865-97e5-5934f0d4a303 ]]  {\r\n",
       "comp usage \"vehicle: Vehicle\" as E5  <<(T,blue) part>> [[psysml:ac2a7781-f3a7-4610-aa94-de8fcbc60da2 ]] {\r\n",
       "}\r\n",
       "E5 - -:|> E3 [[psysml:f4b8c599-6f69-4625-a365-4a72ec0c3cc2 ]] \r\n",
       "}\r\n",
       "}\r\n",
       "@enduml\r\n",
       "\n",
       "PlantUML version 1.2020.13(Sat Jun 13 12:26:38 UTC 2020)\n",
       "(EPL source distribution)\n",
       "Java Runtime: OpenJDK Runtime Environment\n",
       "JVM: OpenJDK 64-Bit Server VM\n",
       "Default Encoding: UTF-8\n",
       "Language: en\n",
       "Country: null\n",
       "--></g></svg>"
      ]
     },
     "execution_count": 14,
     "metadata": {},
     "output_type": "execute_result"
    }
   ],
   "source": [
    "%viz --style=\"POLYLINE\" --view=\"Sequence\" \"AliasImport\""
   ]
  },
  {
   "cell_type": "code",
   "execution_count": 15,
   "id": "a15d6ece",
   "metadata": {
    "execution": {
     "iopub.execute_input": "2021-08-04T06:25:40.774444Z",
     "iopub.status.busy": "2021-08-04T06:25:40.774014Z",
     "iopub.status.idle": "2021-08-04T06:25:40.802931Z",
     "shell.execute_reply": "2021-08-04T06:25:40.803090Z"
    }
   },
   "outputs": [
    {
     "data": {
      "image/svg+xml": [
       "<?xml version=\"1.0\" encoding=\"UTF-8\" standalone=\"no\"?><svg xmlns=\"http://www.w3.org/2000/svg\" xmlns:xlink=\"http://www.w3.org/1999/xlink\" contentScriptType=\"application/ecmascript\" contentStyleType=\"text/css\" height=\"303px\" preserveAspectRatio=\"none\" style=\"width:220px;height:303px;\" version=\"1.1\" viewBox=\"0 0 220 303\" width=\"220px\" zoomAndPan=\"magnify\"><defs/><g><!--MD5=[fbc87193dbaf4d95561dea2c320d4a47]\n",
       "cluster E1--><a href=\"psysml:ef3d48fd-2829-4dbf-9589-92371a3e091f\" target=\"_top\" title=\"psysml:ef3d48fd-2829-4dbf-9589-92371a3e091f\" xlink:actuate=\"onRequest\" xlink:href=\"psysml:ef3d48fd-2829-4dbf-9589-92371a3e091f\" xlink:show=\"new\" xlink:title=\"psysml:ef3d48fd-2829-4dbf-9589-92371a3e091f\" xlink:type=\"simple\"><polygon fill=\"#FFFFFF\" points=\"16,6,110,6,117,28.2969,198,28.2969,198,291,16,291,16,6\" style=\"stroke: #000000; stroke-width: 1.5;\"/><line style=\"stroke: #000000; stroke-width: 1.5;\" x1=\"16\" x2=\"117\" y1=\"28.2969\" y2=\"28.2969\"/><text fill=\"#000000\" font-family=\"sans-serif\" font-size=\"14\" font-weight=\"bold\" lengthAdjust=\"spacingAndGlyphs\" textLength=\"88\" x=\"20\" y=\"20.9951\">AliasImport</text></a><!--MD5=[e4f7fae6ed58524ba242bb0b0d3be6b7]\n",
       "cluster E2--><a href=\"psysml:de0d2cc7-98e6-429c-a225-0b1a04e72b17\" target=\"_top\" title=\"psysml:de0d2cc7-98e6-429c-a225-0b1a04e72b17\" xlink:actuate=\"onRequest\" xlink:href=\"psysml:de0d2cc7-98e6-429c-a225-0b1a04e72b17\" xlink:show=\"new\" xlink:title=\"psysml:de0d2cc7-98e6-429c-a225-0b1a04e72b17\" xlink:type=\"simple\"><polygon fill=\"#FFFFFF\" points=\"57,170,147,170,154,192.2969,157,192.2969,157,267,57,267,57,170\" style=\"stroke: #000000; stroke-width: 1.5;\"/><line style=\"stroke: #000000; stroke-width: 1.5;\" x1=\"57\" x2=\"154\" y1=\"192.2969\" y2=\"192.2969\"/><text fill=\"#000000\" font-family=\"sans-serif\" font-size=\"14\" font-weight=\"bold\" lengthAdjust=\"spacingAndGlyphs\" textLength=\"84\" x=\"61\" y=\"184.9951\">Definitions</text></a><!--MD5=[f6df4d0ebaf0b5dfb2ced0ae5af7c670]\n",
       "cluster E4--><a href=\"psysml:0db9d317-797a-4865-97e5-5934f0d4a303\" target=\"_top\" title=\"psysml:0db9d317-797a-4865-97e5-5934f0d4a303\" xlink:actuate=\"onRequest\" xlink:href=\"psysml:0db9d317-797a-4865-97e5-5934f0d4a303\" xlink:show=\"new\" xlink:title=\"psysml:0db9d317-797a-4865-97e5-5934f0d4a303\" xlink:type=\"simple\"><polygon fill=\"#FFFFFF\" points=\"40,49,104,49,111,71.2969,174,71.2969,174,146,40,146,40,49\" style=\"stroke: #000000; stroke-width: 1.5;\"/><line style=\"stroke: #000000; stroke-width: 1.5;\" x1=\"40\" x2=\"111\" y1=\"71.2969\" y2=\"71.2969\"/><text fill=\"#000000\" font-family=\"sans-serif\" font-size=\"14\" font-weight=\"bold\" lengthAdjust=\"spacingAndGlyphs\" textLength=\"58\" x=\"44\" y=\"63.9951\">Usages</text></a><!--MD5=[09b614a08d8cba4a07c9adeb5e0fee81]\n",
       "class E3--><a href=\"psysml:6a2a8f83-25b7-443f-ad75-cafd3f704077\" target=\"_top\" title=\"psysml:6a2a8f83-25b7-443f-ad75-cafd3f704077\" xlink:actuate=\"onRequest\" xlink:href=\"psysml:6a2a8f83-25b7-443f-ad75-cafd3f704077\" xlink:show=\"new\" xlink:title=\"psysml:6a2a8f83-25b7-443f-ad75-cafd3f704077\" xlink:type=\"simple\"><rect fill=\"#FFFFFF\" height=\"45.9375\" id=\"E3\" style=\"stroke: #383838; stroke-width: 1.5;\" width=\"66\" x=\"74\" y=\"205\"/><text fill=\"#000000\" font-family=\"sans-serif\" font-size=\"12\" font-style=\"italic\" lengthAdjust=\"spacingAndGlyphs\" textLength=\"64\" x=\"75\" y=\"221.1387\">«part def»</text><text fill=\"#000000\" font-family=\"sans-serif\" font-size=\"12\" lengthAdjust=\"spacingAndGlyphs\" textLength=\"45\" x=\"84.5\" y=\"235.1074\">Vehicle</text><line style=\"stroke: #383838; stroke-width: 1.5;\" x1=\"75\" x2=\"139\" y1=\"242.9375\" y2=\"242.9375\"/></a><!--MD5=[270fce915f116d4de14055a7c1d9a0f3]\n",
       "class E5--><a href=\"psysml:ac2a7781-f3a7-4610-aa94-de8fcbc60da2\" target=\"_top\" title=\"psysml:ac2a7781-f3a7-4610-aa94-de8fcbc60da2\" xlink:actuate=\"onRequest\" xlink:href=\"psysml:ac2a7781-f3a7-4610-aa94-de8fcbc60da2\" xlink:show=\"new\" xlink:title=\"psysml:ac2a7781-f3a7-4610-aa94-de8fcbc60da2\" xlink:type=\"simple\"><rect fill=\"#FFFFFF\" height=\"45.9375\" id=\"E5\" rx=\"10\" ry=\"10\" style=\"stroke: #383838; stroke-width: 1.5;\" width=\"102\" x=\"56\" y=\"84\"/><text fill=\"#000000\" font-family=\"sans-serif\" font-size=\"12\" font-style=\"italic\" lengthAdjust=\"spacingAndGlyphs\" textLength=\"40\" x=\"87\" y=\"100.1387\">«part»</text><text fill=\"#000000\" font-family=\"sans-serif\" font-size=\"12\" lengthAdjust=\"spacingAndGlyphs\" textLength=\"96\" x=\"59\" y=\"114.1074\">vehicle: Vehicle</text><line style=\"stroke: #383838; stroke-width: 1.5;\" x1=\"57\" x2=\"157\" y1=\"121.9375\" y2=\"121.9375\"/></a><!--MD5=[e9be52314489bd878ff4c7144b63c9e1]\n",
       "link E5 to E3--><a href=\"psysml:f4b8c599-6f69-4625-a365-4a72ec0c3cc2\" target=\"_top\" title=\"psysml:f4b8c599-6f69-4625-a365-4a72ec0c3cc2\" xlink:actuate=\"onRequest\" xlink:href=\"psysml:f4b8c599-6f69-4625-a365-4a72ec0c3cc2\" xlink:show=\"new\" xlink:title=\"psysml:f4b8c599-6f69-4625-a365-4a72ec0c3cc2\" xlink:type=\"simple\"><path d=\"M107,130.1 C107,145.37 107,166.16 107,184.57 \" fill=\"none\" id=\"E5-&gt;E3\" style=\"stroke: #383838; stroke-width: 1.0;\"/><polygon fill=\"#FFFFFF\" points=\"107,204.61,100,185.61,114,185.61,107,204.61\" style=\"stroke: #383838; stroke-width: 1.0;\"/><ellipse cx=\"102\" cy=\"179.91\" fill=\"#383838\" rx=\"2\" ry=\"2\" style=\"stroke: #383838; stroke-width: 1.0;\"/><ellipse cx=\"112\" cy=\"179.91\" fill=\"#383838\" rx=\"2\" ry=\"2\" style=\"stroke: #383838; stroke-width: 1.0;\"/></a><!--MD5=[bc565e3a06e25edcf1d2f2497b5d552c]\n",
       "@startuml\r\n",
       "skinparam linetype polyline\r\n",
       "skinparam monochrome true\r\n",
       "skinparam classbackgroundcolor white\r\n",
       "skinparam shadowing false\r\n",
       "skinparam wrapWidth 300\r\n",
       "hide circle\r\n",
       "\r\n",
       "package \"AliasImport\" as E1  [[psysml:ef3d48fd-2829-4dbf-9589-92371a3e091f ]]  {\r\n",
       "package \"Definitions\" as E2  [[psysml:de0d2cc7-98e6-429c-a225-0b1a04e72b17 ]]  {\r\n",
       "comp def \"Vehicle\" as E3  <<(T,blue) part def>> [[psysml:6a2a8f83-25b7-443f-ad75-cafd3f704077 ]] {\r\n",
       "}\r\n",
       "}\r\n",
       "package \"Usages\" as E4  [[psysml:0db9d317-797a-4865-97e5-5934f0d4a303 ]]  {\r\n",
       "comp usage \"vehicle: Vehicle\" as E5  <<(T,blue) part>> [[psysml:ac2a7781-f3a7-4610-aa94-de8fcbc60da2 ]] {\r\n",
       "}\r\n",
       "E5 - -:|> E3 [[psysml:f4b8c599-6f69-4625-a365-4a72ec0c3cc2 ]] \r\n",
       "}\r\n",
       "}\r\n",
       "@enduml\r\n",
       "\n",
       "PlantUML version 1.2020.13(Sat Jun 13 12:26:38 UTC 2020)\n",
       "(EPL source distribution)\n",
       "Java Runtime: OpenJDK Runtime Environment\n",
       "JVM: OpenJDK 64-Bit Server VM\n",
       "Default Encoding: UTF-8\n",
       "Language: en\n",
       "Country: null\n",
       "--></g></svg>"
      ]
     },
     "execution_count": 15,
     "metadata": {},
     "output_type": "execute_result"
    }
   ],
   "source": [
    "%viz --style=\"POLYLINE\" --view=\"MIXED\" \"AliasImport\""
   ]
  },
  {
   "cell_type": "code",
   "execution_count": 16,
   "id": "4a08637e",
   "metadata": {
    "execution": {
     "iopub.execute_input": "2021-08-04T06:25:40.854250Z",
     "iopub.status.busy": "2021-08-04T06:25:40.853813Z",
     "iopub.status.idle": "2021-08-04T06:25:40.884254Z",
     "shell.execute_reply": "2021-08-04T06:25:40.884578Z"
    }
   },
   "outputs": [
    {
     "data": {
      "image/svg+xml": [
       "<?xml version=\"1.0\" encoding=\"UTF-8\" standalone=\"no\"?><svg xmlns=\"http://www.w3.org/2000/svg\" xmlns:xlink=\"http://www.w3.org/1999/xlink\" contentScriptType=\"application/ecmascript\" contentStyleType=\"text/css\" height=\"182px\" preserveAspectRatio=\"none\" style=\"width:372px;height:182px;\" version=\"1.1\" viewBox=\"0 0 372 182\" width=\"372px\" zoomAndPan=\"magnify\"><defs/><g><!--MD5=[fbc87193dbaf4d95561dea2c320d4a47]\n",
       "cluster E1--><a href=\"psysml:ef3d48fd-2829-4dbf-9589-92371a3e091f\" target=\"_top\" title=\"psysml:ef3d48fd-2829-4dbf-9589-92371a3e091f\" xlink:actuate=\"onRequest\" xlink:href=\"psysml:ef3d48fd-2829-4dbf-9589-92371a3e091f\" xlink:show=\"new\" xlink:title=\"psysml:ef3d48fd-2829-4dbf-9589-92371a3e091f\" xlink:type=\"simple\"><polygon fill=\"#FFFFFF\" points=\"16,6,110,6,117,28.2969,350,28.2969,350,170,16,170,16,6\" style=\"stroke: #000000; stroke-width: 1.5;\"/><line style=\"stroke: #000000; stroke-width: 1.5;\" x1=\"16\" x2=\"117\" y1=\"28.2969\" y2=\"28.2969\"/><text fill=\"#000000\" font-family=\"sans-serif\" font-size=\"14\" font-weight=\"bold\" lengthAdjust=\"spacingAndGlyphs\" textLength=\"88\" x=\"20\" y=\"20.9951\">AliasImport</text></a><!--MD5=[e4f7fae6ed58524ba242bb0b0d3be6b7]\n",
       "cluster E2--><a href=\"psysml:de0d2cc7-98e6-429c-a225-0b1a04e72b17\" target=\"_top\" title=\"psysml:de0d2cc7-98e6-429c-a225-0b1a04e72b17\" xlink:actuate=\"onRequest\" xlink:href=\"psysml:de0d2cc7-98e6-429c-a225-0b1a04e72b17\" xlink:show=\"new\" xlink:title=\"psysml:de0d2cc7-98e6-429c-a225-0b1a04e72b17\" xlink:type=\"simple\"><polygon fill=\"#FFFFFF\" points=\"226,49,316,49,323,71.2969,326,71.2969,326,146,226,146,226,49\" style=\"stroke: #000000; stroke-width: 1.5;\"/><line style=\"stroke: #000000; stroke-width: 1.5;\" x1=\"226\" x2=\"323\" y1=\"71.2969\" y2=\"71.2969\"/><text fill=\"#000000\" font-family=\"sans-serif\" font-size=\"14\" font-weight=\"bold\" lengthAdjust=\"spacingAndGlyphs\" textLength=\"84\" x=\"230\" y=\"63.9951\">Definitions</text></a><!--MD5=[f6df4d0ebaf0b5dfb2ced0ae5af7c670]\n",
       "cluster E4--><a href=\"psysml:0db9d317-797a-4865-97e5-5934f0d4a303\" target=\"_top\" title=\"psysml:0db9d317-797a-4865-97e5-5934f0d4a303\" xlink:actuate=\"onRequest\" xlink:href=\"psysml:0db9d317-797a-4865-97e5-5934f0d4a303\" xlink:show=\"new\" xlink:title=\"psysml:0db9d317-797a-4865-97e5-5934f0d4a303\" xlink:type=\"simple\"><polygon fill=\"#FFFFFF\" points=\"40,49,104,49,111,71.2969,174,71.2969,174,146,40,146,40,49\" style=\"stroke: #000000; stroke-width: 1.5;\"/><line style=\"stroke: #000000; stroke-width: 1.5;\" x1=\"40\" x2=\"111\" y1=\"71.2969\" y2=\"71.2969\"/><text fill=\"#000000\" font-family=\"sans-serif\" font-size=\"14\" font-weight=\"bold\" lengthAdjust=\"spacingAndGlyphs\" textLength=\"58\" x=\"44\" y=\"63.9951\">Usages</text></a><!--MD5=[09b614a08d8cba4a07c9adeb5e0fee81]\n",
       "class E3--><a href=\"psysml:6a2a8f83-25b7-443f-ad75-cafd3f704077\" target=\"_top\" title=\"psysml:6a2a8f83-25b7-443f-ad75-cafd3f704077\" xlink:actuate=\"onRequest\" xlink:href=\"psysml:6a2a8f83-25b7-443f-ad75-cafd3f704077\" xlink:show=\"new\" xlink:title=\"psysml:6a2a8f83-25b7-443f-ad75-cafd3f704077\" xlink:type=\"simple\"><rect fill=\"#FFFFFF\" height=\"45.9375\" id=\"E3\" style=\"stroke: #383838; stroke-width: 1.5;\" width=\"66\" x=\"243\" y=\"84\"/><text fill=\"#000000\" font-family=\"sans-serif\" font-size=\"12\" font-style=\"italic\" lengthAdjust=\"spacingAndGlyphs\" textLength=\"64\" x=\"244\" y=\"100.1387\">«part def»</text><text fill=\"#000000\" font-family=\"sans-serif\" font-size=\"12\" lengthAdjust=\"spacingAndGlyphs\" textLength=\"45\" x=\"253.5\" y=\"114.1074\">Vehicle</text><line style=\"stroke: #383838; stroke-width: 1.5;\" x1=\"244\" x2=\"308\" y1=\"121.9375\" y2=\"121.9375\"/></a><!--MD5=[270fce915f116d4de14055a7c1d9a0f3]\n",
       "class E5--><a href=\"psysml:ac2a7781-f3a7-4610-aa94-de8fcbc60da2\" target=\"_top\" title=\"psysml:ac2a7781-f3a7-4610-aa94-de8fcbc60da2\" xlink:actuate=\"onRequest\" xlink:href=\"psysml:ac2a7781-f3a7-4610-aa94-de8fcbc60da2\" xlink:show=\"new\" xlink:title=\"psysml:ac2a7781-f3a7-4610-aa94-de8fcbc60da2\" xlink:type=\"simple\"><rect fill=\"#FFFFFF\" height=\"45.9375\" id=\"E5\" rx=\"10\" ry=\"10\" style=\"stroke: #383838; stroke-width: 1.5;\" width=\"102\" x=\"56\" y=\"84\"/><text fill=\"#000000\" font-family=\"sans-serif\" font-size=\"12\" font-style=\"italic\" lengthAdjust=\"spacingAndGlyphs\" textLength=\"40\" x=\"87\" y=\"100.1387\">«part»</text><text fill=\"#000000\" font-family=\"sans-serif\" font-size=\"12\" lengthAdjust=\"spacingAndGlyphs\" textLength=\"96\" x=\"59\" y=\"114.1074\">vehicle: Vehicle</text><line style=\"stroke: #383838; stroke-width: 1.5;\" x1=\"57\" x2=\"157\" y1=\"121.9375\" y2=\"121.9375\"/></a><!--MD5=[e9be52314489bd878ff4c7144b63c9e1]\n",
       "link E5 to E3--><a href=\"psysml:f4b8c599-6f69-4625-a365-4a72ec0c3cc2\" target=\"_top\" title=\"psysml:f4b8c599-6f69-4625-a365-4a72ec0c3cc2\" xlink:actuate=\"onRequest\" xlink:href=\"psysml:f4b8c599-6f69-4625-a365-4a72ec0c3cc2\" xlink:show=\"new\" xlink:title=\"psysml:f4b8c599-6f69-4625-a365-4a72ec0c3cc2\" xlink:type=\"simple\"><path d=\"M158.11,107 C178.5,107 202.07,107 222.69,107 \" fill=\"none\" id=\"E5-&gt;E3\" style=\"stroke: #383838; stroke-width: 1.0;\"/><polygon fill=\"#FFFFFF\" points=\"242.84,107,223.84,114,223.84,100,242.84,107\" style=\"stroke: #383838; stroke-width: 1.0;\"/><ellipse cx=\"218.14\" cy=\"112\" fill=\"#383838\" rx=\"2\" ry=\"2\" style=\"stroke: #383838; stroke-width: 1.0;\"/><ellipse cx=\"218.14\" cy=\"102\" fill=\"#383838\" rx=\"2\" ry=\"2\" style=\"stroke: #383838; stroke-width: 1.0;\"/></a><!--MD5=[5fbb3eb288093f388ffd3e961ab1b463]\n",
       "@startuml\r\n",
       "left to right direction\r\n",
       "skinparam monochrome true\r\n",
       "skinparam classbackgroundcolor white\r\n",
       "skinparam shadowing false\r\n",
       "skinparam wrapWidth 300\r\n",
       "hide circle\r\n",
       "\r\n",
       "package \"AliasImport\" as E1  [[psysml:ef3d48fd-2829-4dbf-9589-92371a3e091f ]]  {\r\n",
       "package \"Definitions\" as E2  [[psysml:de0d2cc7-98e6-429c-a225-0b1a04e72b17 ]]  {\r\n",
       "comp def \"Vehicle\" as E3  <<(T,blue) part def>> [[psysml:6a2a8f83-25b7-443f-ad75-cafd3f704077 ]] {\r\n",
       "}\r\n",
       "}\r\n",
       "package \"Usages\" as E4  [[psysml:0db9d317-797a-4865-97e5-5934f0d4a303 ]]  {\r\n",
       "comp usage \"vehicle: Vehicle\" as E5  <<(T,blue) part>> [[psysml:ac2a7781-f3a7-4610-aa94-de8fcbc60da2 ]] {\r\n",
       "}\r\n",
       "E5 - -:|> E3 [[psysml:f4b8c599-6f69-4625-a365-4a72ec0c3cc2 ]] \r\n",
       "}\r\n",
       "}\r\n",
       "@enduml\r\n",
       "\n",
       "PlantUML version 1.2020.13(Sat Jun 13 12:26:38 UTC 2020)\n",
       "(EPL source distribution)\n",
       "Java Runtime: OpenJDK Runtime Environment\n",
       "JVM: OpenJDK 64-Bit Server VM\n",
       "Default Encoding: UTF-8\n",
       "Language: en\n",
       "Country: null\n",
       "--></g></svg>"
      ]
     },
     "execution_count": 16,
     "metadata": {},
     "output_type": "execute_result"
    }
   ],
   "source": [
    "%viz --style=\"LR\" --view=\"Default\" \"AliasImport\""
   ]
  },
  {
   "cell_type": "code",
   "execution_count": 17,
   "id": "97eeac8f",
   "metadata": {
    "execution": {
     "iopub.execute_input": "2021-08-04T06:25:40.934825Z",
     "iopub.status.busy": "2021-08-04T06:25:40.934426Z",
     "iopub.status.idle": "2021-08-04T06:25:40.963783Z",
     "shell.execute_reply": "2021-08-04T06:25:40.964096Z"
    }
   },
   "outputs": [
    {
     "data": {
      "image/svg+xml": [
       "<?xml version=\"1.0\" encoding=\"UTF-8\" standalone=\"no\"?><svg xmlns=\"http://www.w3.org/2000/svg\" xmlns:xlink=\"http://www.w3.org/1999/xlink\" contentScriptType=\"application/ecmascript\" contentStyleType=\"text/css\" height=\"182px\" preserveAspectRatio=\"none\" style=\"width:372px;height:182px;\" version=\"1.1\" viewBox=\"0 0 372 182\" width=\"372px\" zoomAndPan=\"magnify\"><defs/><g><!--MD5=[fbc87193dbaf4d95561dea2c320d4a47]\n",
       "cluster E1--><a href=\"psysml:ef3d48fd-2829-4dbf-9589-92371a3e091f\" target=\"_top\" title=\"psysml:ef3d48fd-2829-4dbf-9589-92371a3e091f\" xlink:actuate=\"onRequest\" xlink:href=\"psysml:ef3d48fd-2829-4dbf-9589-92371a3e091f\" xlink:show=\"new\" xlink:title=\"psysml:ef3d48fd-2829-4dbf-9589-92371a3e091f\" xlink:type=\"simple\"><polygon fill=\"#FFFFFF\" points=\"16,6,110,6,117,28.2969,350,28.2969,350,170,16,170,16,6\" style=\"stroke: #000000; stroke-width: 1.5;\"/><line style=\"stroke: #000000; stroke-width: 1.5;\" x1=\"16\" x2=\"117\" y1=\"28.2969\" y2=\"28.2969\"/><text fill=\"#000000\" font-family=\"sans-serif\" font-size=\"14\" font-weight=\"bold\" lengthAdjust=\"spacingAndGlyphs\" textLength=\"88\" x=\"20\" y=\"20.9951\">AliasImport</text></a><!--MD5=[e4f7fae6ed58524ba242bb0b0d3be6b7]\n",
       "cluster E2--><a href=\"psysml:de0d2cc7-98e6-429c-a225-0b1a04e72b17\" target=\"_top\" title=\"psysml:de0d2cc7-98e6-429c-a225-0b1a04e72b17\" xlink:actuate=\"onRequest\" xlink:href=\"psysml:de0d2cc7-98e6-429c-a225-0b1a04e72b17\" xlink:show=\"new\" xlink:title=\"psysml:de0d2cc7-98e6-429c-a225-0b1a04e72b17\" xlink:type=\"simple\"><polygon fill=\"#FFFFFF\" points=\"226,49,316,49,323,71.2969,326,71.2969,326,146,226,146,226,49\" style=\"stroke: #000000; stroke-width: 1.5;\"/><line style=\"stroke: #000000; stroke-width: 1.5;\" x1=\"226\" x2=\"323\" y1=\"71.2969\" y2=\"71.2969\"/><text fill=\"#000000\" font-family=\"sans-serif\" font-size=\"14\" font-weight=\"bold\" lengthAdjust=\"spacingAndGlyphs\" textLength=\"84\" x=\"230\" y=\"63.9951\">Definitions</text></a><!--MD5=[f6df4d0ebaf0b5dfb2ced0ae5af7c670]\n",
       "cluster E4--><a href=\"psysml:0db9d317-797a-4865-97e5-5934f0d4a303\" target=\"_top\" title=\"psysml:0db9d317-797a-4865-97e5-5934f0d4a303\" xlink:actuate=\"onRequest\" xlink:href=\"psysml:0db9d317-797a-4865-97e5-5934f0d4a303\" xlink:show=\"new\" xlink:title=\"psysml:0db9d317-797a-4865-97e5-5934f0d4a303\" xlink:type=\"simple\"><polygon fill=\"#FFFFFF\" points=\"40,49,104,49,111,71.2969,174,71.2969,174,146,40,146,40,49\" style=\"stroke: #000000; stroke-width: 1.5;\"/><line style=\"stroke: #000000; stroke-width: 1.5;\" x1=\"40\" x2=\"111\" y1=\"71.2969\" y2=\"71.2969\"/><text fill=\"#000000\" font-family=\"sans-serif\" font-size=\"14\" font-weight=\"bold\" lengthAdjust=\"spacingAndGlyphs\" textLength=\"58\" x=\"44\" y=\"63.9951\">Usages</text></a><!--MD5=[09b614a08d8cba4a07c9adeb5e0fee81]\n",
       "class E3--><a href=\"psysml:6a2a8f83-25b7-443f-ad75-cafd3f704077\" target=\"_top\" title=\"psysml:6a2a8f83-25b7-443f-ad75-cafd3f704077\" xlink:actuate=\"onRequest\" xlink:href=\"psysml:6a2a8f83-25b7-443f-ad75-cafd3f704077\" xlink:show=\"new\" xlink:title=\"psysml:6a2a8f83-25b7-443f-ad75-cafd3f704077\" xlink:type=\"simple\"><rect fill=\"#FFFFFF\" height=\"45.9375\" id=\"E3\" style=\"stroke: #383838; stroke-width: 1.5;\" width=\"66\" x=\"243\" y=\"84\"/><text fill=\"#000000\" font-family=\"sans-serif\" font-size=\"12\" font-style=\"italic\" lengthAdjust=\"spacingAndGlyphs\" textLength=\"64\" x=\"244\" y=\"100.1387\">«part def»</text><text fill=\"#000000\" font-family=\"sans-serif\" font-size=\"12\" lengthAdjust=\"spacingAndGlyphs\" textLength=\"45\" x=\"253.5\" y=\"114.1074\">Vehicle</text><line style=\"stroke: #383838; stroke-width: 1.5;\" x1=\"244\" x2=\"308\" y1=\"121.9375\" y2=\"121.9375\"/></a><!--MD5=[270fce915f116d4de14055a7c1d9a0f3]\n",
       "class E5--><a href=\"psysml:ac2a7781-f3a7-4610-aa94-de8fcbc60da2\" target=\"_top\" title=\"psysml:ac2a7781-f3a7-4610-aa94-de8fcbc60da2\" xlink:actuate=\"onRequest\" xlink:href=\"psysml:ac2a7781-f3a7-4610-aa94-de8fcbc60da2\" xlink:show=\"new\" xlink:title=\"psysml:ac2a7781-f3a7-4610-aa94-de8fcbc60da2\" xlink:type=\"simple\"><rect fill=\"#FFFFFF\" height=\"45.9375\" id=\"E5\" rx=\"10\" ry=\"10\" style=\"stroke: #383838; stroke-width: 1.5;\" width=\"102\" x=\"56\" y=\"84\"/><text fill=\"#000000\" font-family=\"sans-serif\" font-size=\"12\" font-style=\"italic\" lengthAdjust=\"spacingAndGlyphs\" textLength=\"40\" x=\"87\" y=\"100.1387\">«part»</text><text fill=\"#000000\" font-family=\"sans-serif\" font-size=\"12\" lengthAdjust=\"spacingAndGlyphs\" textLength=\"96\" x=\"59\" y=\"114.1074\">vehicle: Vehicle</text><line style=\"stroke: #383838; stroke-width: 1.5;\" x1=\"57\" x2=\"157\" y1=\"121.9375\" y2=\"121.9375\"/></a><!--MD5=[e9be52314489bd878ff4c7144b63c9e1]\n",
       "link E5 to E3--><a href=\"psysml:f4b8c599-6f69-4625-a365-4a72ec0c3cc2\" target=\"_top\" title=\"psysml:f4b8c599-6f69-4625-a365-4a72ec0c3cc2\" xlink:actuate=\"onRequest\" xlink:href=\"psysml:f4b8c599-6f69-4625-a365-4a72ec0c3cc2\" xlink:show=\"new\" xlink:title=\"psysml:f4b8c599-6f69-4625-a365-4a72ec0c3cc2\" xlink:type=\"simple\"><path d=\"M158.11,107 C178.5,107 202.07,107 222.69,107 \" fill=\"none\" id=\"E5-&gt;E3\" style=\"stroke: #383838; stroke-width: 1.0;\"/><polygon fill=\"#FFFFFF\" points=\"242.84,107,223.84,114,223.84,100,242.84,107\" style=\"stroke: #383838; stroke-width: 1.0;\"/><ellipse cx=\"218.14\" cy=\"112\" fill=\"#383838\" rx=\"2\" ry=\"2\" style=\"stroke: #383838; stroke-width: 1.0;\"/><ellipse cx=\"218.14\" cy=\"102\" fill=\"#383838\" rx=\"2\" ry=\"2\" style=\"stroke: #383838; stroke-width: 1.0;\"/></a><!--MD5=[5fbb3eb288093f388ffd3e961ab1b463]\n",
       "@startuml\r\n",
       "left to right direction\r\n",
       "skinparam monochrome true\r\n",
       "skinparam classbackgroundcolor white\r\n",
       "skinparam shadowing false\r\n",
       "skinparam wrapWidth 300\r\n",
       "hide circle\r\n",
       "\r\n",
       "package \"AliasImport\" as E1  [[psysml:ef3d48fd-2829-4dbf-9589-92371a3e091f ]]  {\r\n",
       "package \"Definitions\" as E2  [[psysml:de0d2cc7-98e6-429c-a225-0b1a04e72b17 ]]  {\r\n",
       "comp def \"Vehicle\" as E3  <<(T,blue) part def>> [[psysml:6a2a8f83-25b7-443f-ad75-cafd3f704077 ]] {\r\n",
       "}\r\n",
       "}\r\n",
       "package \"Usages\" as E4  [[psysml:0db9d317-797a-4865-97e5-5934f0d4a303 ]]  {\r\n",
       "comp usage \"vehicle: Vehicle\" as E5  <<(T,blue) part>> [[psysml:ac2a7781-f3a7-4610-aa94-de8fcbc60da2 ]] {\r\n",
       "}\r\n",
       "E5 - -:|> E3 [[psysml:f4b8c599-6f69-4625-a365-4a72ec0c3cc2 ]] \r\n",
       "}\r\n",
       "}\r\n",
       "@enduml\r\n",
       "\n",
       "PlantUML version 1.2020.13(Sat Jun 13 12:26:38 UTC 2020)\n",
       "(EPL source distribution)\n",
       "Java Runtime: OpenJDK Runtime Environment\n",
       "JVM: OpenJDK 64-Bit Server VM\n",
       "Default Encoding: UTF-8\n",
       "Language: en\n",
       "Country: null\n",
       "--></g></svg>"
      ]
     },
     "execution_count": 17,
     "metadata": {},
     "output_type": "execute_result"
    }
   ],
   "source": [
    "%viz --style=\"LR\" --view=\"Tree\" \"AliasImport\""
   ]
  },
  {
   "cell_type": "code",
   "execution_count": 18,
   "id": "83dd39a6",
   "metadata": {
    "execution": {
     "iopub.execute_input": "2021-08-04T06:25:41.014405Z",
     "iopub.status.busy": "2021-08-04T06:25:41.014008Z",
     "iopub.status.idle": "2021-08-04T06:25:41.020133Z",
     "shell.execute_reply": "2021-08-04T06:25:41.020448Z"
    }
   },
   "outputs": [
    {
     "data": {
      "image/svg+xml": [
       "<?xml version=\"1.0\" encoding=\"UTF-8\" standalone=\"no\"?><svg xmlns=\"http://www.w3.org/2000/svg\" xmlns:xlink=\"http://www.w3.org/1999/xlink\" contentScriptType=\"application/ecmascript\" contentStyleType=\"text/css\" height=\"12px\" preserveAspectRatio=\"none\" style=\"width:12px;height:12px;\" version=\"1.1\" viewBox=\"0 0 12 12\" width=\"12px\" zoomAndPan=\"magnify\"><defs/><g><!--MD5=[19d285c9d72a204eba4e2cd117d745e8]\n",
       "@startuml\r\n",
       "left to right direction\r\n",
       "skinparam monochrome true\r\n",
       "skinparam classbackgroundcolor white\r\n",
       "skinparam shadowing false\r\n",
       "skinparam wrapWidth 300\r\n",
       "hide circle\r\n",
       "\r\n",
       "@enduml\r\n",
       "\n",
       "PlantUML version 1.2020.13(Sat Jun 13 12:26:38 UTC 2020)\n",
       "(EPL source distribution)\n",
       "Java Runtime: OpenJDK Runtime Environment\n",
       "JVM: OpenJDK 64-Bit Server VM\n",
       "Default Encoding: UTF-8\n",
       "Language: en\n",
       "Country: null\n",
       "--></g></svg>"
      ]
     },
     "execution_count": 18,
     "metadata": {},
     "output_type": "execute_result"
    }
   ],
   "source": [
    "%viz --style=\"LR\" --view=\"State\" \"AliasImport\""
   ]
  },
  {
   "cell_type": "code",
   "execution_count": 19,
   "id": "010e097c",
   "metadata": {
    "execution": {
     "iopub.execute_input": "2021-08-04T06:25:41.070561Z",
     "iopub.status.busy": "2021-08-04T06:25:41.070157Z",
     "iopub.status.idle": "2021-08-04T06:25:41.096902Z",
     "shell.execute_reply": "2021-08-04T06:25:41.096533Z"
    }
   },
   "outputs": [
    {
     "data": {
      "image/svg+xml": [
       "<?xml version=\"1.0\" encoding=\"UTF-8\" standalone=\"no\"?><svg xmlns=\"http://www.w3.org/2000/svg\" xmlns:xlink=\"http://www.w3.org/1999/xlink\" contentScriptType=\"application/ecmascript\" contentStyleType=\"text/css\" height=\"373px\" preserveAspectRatio=\"none\" style=\"width:225px;height:373px;\" version=\"1.1\" viewBox=\"0 0 225 373\" width=\"225px\" zoomAndPan=\"magnify\"><defs/><g><!--MD5=[fbc87193dbaf4d95561dea2c320d4a47]\n",
       "cluster E1--><a href=\"psysml:ef3d48fd-2829-4dbf-9589-92371a3e091f\" target=\"_top\" title=\"psysml:ef3d48fd-2829-4dbf-9589-92371a3e091f\" xlink:actuate=\"onRequest\" xlink:href=\"psysml:ef3d48fd-2829-4dbf-9589-92371a3e091f\" xlink:show=\"new\" xlink:title=\"psysml:ef3d48fd-2829-4dbf-9589-92371a3e091f\" xlink:type=\"simple\"><polygon fill=\"#FFFFFF\" points=\"16,6,110,6,117,28.2969,203,28.2969,203,361,16,361,16,6\" style=\"stroke: #000000; stroke-width: 1.5;\"/><line style=\"stroke: #000000; stroke-width: 1.5;\" x1=\"16\" x2=\"117\" y1=\"28.2969\" y2=\"28.2969\"/><text fill=\"#000000\" font-family=\"sans-serif\" font-size=\"14\" font-weight=\"bold\" lengthAdjust=\"spacingAndGlyphs\" textLength=\"88\" x=\"20\" y=\"20.9951\">AliasImport</text></a><!--MD5=[e4f7fae6ed58524ba242bb0b0d3be6b7]\n",
       "cluster E2--><a href=\"psysml:de0d2cc7-98e6-429c-a225-0b1a04e72b17\" target=\"_top\" title=\"psysml:de0d2cc7-98e6-429c-a225-0b1a04e72b17\" xlink:actuate=\"onRequest\" xlink:href=\"psysml:de0d2cc7-98e6-429c-a225-0b1a04e72b17\" xlink:show=\"new\" xlink:title=\"psysml:de0d2cc7-98e6-429c-a225-0b1a04e72b17\" xlink:type=\"simple\"><polygon fill=\"#FFFFFF\" points=\"58,49,148,49,155,71.2969,161,71.2969,161,222,58,222,58,49\" style=\"stroke: #000000; stroke-width: 1.5;\"/><line style=\"stroke: #000000; stroke-width: 1.5;\" x1=\"58\" x2=\"155\" y1=\"71.2969\" y2=\"71.2969\"/><text fill=\"#000000\" font-family=\"sans-serif\" font-size=\"14\" font-weight=\"bold\" lengthAdjust=\"spacingAndGlyphs\" textLength=\"84\" x=\"62\" y=\"63.9951\">Definitions</text></a><!--MD5=[de5ec2e2e8f62f467e546659f5068c88]\n",
       "cluster E5--><a href=\"psysml:0db9d317-797a-4865-97e5-5934f0d4a303\" target=\"_top\" title=\"psysml:0db9d317-797a-4865-97e5-5934f0d4a303\" xlink:actuate=\"onRequest\" xlink:href=\"psysml:0db9d317-797a-4865-97e5-5934f0d4a303\" xlink:show=\"new\" xlink:title=\"psysml:0db9d317-797a-4865-97e5-5934f0d4a303\" xlink:type=\"simple\"><polygon fill=\"#FFFFFF\" points=\"40,246,104,246,111,268.2969,179,268.2969,179,337,40,337,40,246\" style=\"stroke: #000000; stroke-width: 1.5;\"/><line style=\"stroke: #000000; stroke-width: 1.5;\" x1=\"40\" x2=\"111\" y1=\"268.2969\" y2=\"268.2969\"/><text fill=\"#000000\" font-family=\"sans-serif\" font-size=\"14\" font-weight=\"bold\" lengthAdjust=\"spacingAndGlyphs\" textLength=\"58\" x=\"44\" y=\"260.9951\">Usages</text></a><g id=\"E1.E2.E3\"><a href=\"psysml:6a2a8f83-25b7-443f-ad75-cafd3f704077\" target=\"_top\" title=\"psysml:6a2a8f83-25b7-443f-ad75-cafd3f704077\" xlink:actuate=\"onRequest\" xlink:href=\"psysml:6a2a8f83-25b7-443f-ad75-cafd3f704077\" xlink:show=\"new\" xlink:title=\"psysml:6a2a8f83-25b7-443f-ad75-cafd3f704077\" xlink:type=\"simple\"><rect fill=\"#FFFFFF\" height=\"42.9375\" id=\"E3\" style=\"stroke: #383838; stroke-width: 1.5;\" width=\"71\" x=\"74\" y=\"84.5\"/><rect fill=\"#F8F8F8\" height=\"37.9375\" style=\"stroke: #383838; stroke-width: 1.5;\" width=\"71\" x=\"74\" y=\"84.5\"/><text fill=\"#000000\" font-family=\"sans-serif\" font-size=\"12\" font-style=\"italic\" lengthAdjust=\"spacingAndGlyphs\" textLength=\"64\" x=\"77.5\" y=\"100.6387\">«part def»</text><text fill=\"#000000\" font-family=\"sans-serif\" font-size=\"12\" lengthAdjust=\"spacingAndGlyphs\" textLength=\"45\" x=\"87\" y=\"114.6074\">Vehicle</text></a></g><g id=\"E1.E2.E4\"><a href=\"psysml:6a2a8f83-25b7-443f-ad75-cafd3f704077\" target=\"_top\" title=\"psysml:6a2a8f83-25b7-443f-ad75-cafd3f704077\" xlink:actuate=\"onRequest\" xlink:href=\"psysml:6a2a8f83-25b7-443f-ad75-cafd3f704077\" xlink:show=\"new\" xlink:title=\"psysml:6a2a8f83-25b7-443f-ad75-cafd3f704077\" xlink:type=\"simple\"><rect fill=\"#FFFFFF\" height=\"42.9375\" id=\"E4\" style=\"stroke: #383838; stroke-width: 1.5;\" width=\"71\" x=\"74\" y=\"162.5\"/><rect fill=\"#F8F8F8\" height=\"37.9375\" style=\"stroke: #383838; stroke-width: 1.5;\" width=\"71\" x=\"74\" y=\"162.5\"/><text fill=\"#000000\" font-family=\"sans-serif\" font-size=\"12\" font-style=\"italic\" lengthAdjust=\"spacingAndGlyphs\" textLength=\"64\" x=\"77.5\" y=\"178.6387\">«part def»</text><text fill=\"#000000\" font-family=\"sans-serif\" font-size=\"12\" lengthAdjust=\"spacingAndGlyphs\" textLength=\"45\" x=\"87\" y=\"192.6074\">Vehicle</text></a></g><g id=\"E1.E5.E6\"><a href=\"psysml:ac2a7781-f3a7-4610-aa94-de8fcbc60da2\" target=\"_top\" title=\"psysml:ac2a7781-f3a7-4610-aa94-de8fcbc60da2\" xlink:actuate=\"onRequest\" xlink:href=\"psysml:ac2a7781-f3a7-4610-aa94-de8fcbc60da2\" xlink:show=\"new\" xlink:title=\"psysml:ac2a7781-f3a7-4610-aa94-de8fcbc60da2\" xlink:type=\"simple\"><rect fill=\"#FFFFFF\" height=\"40\" id=\"E6\" rx=\"10\" ry=\"10\" style=\"stroke: #383838; stroke-width: 1.5;\" width=\"107\" x=\"56\" y=\"281\"/><rect fill=\"#F8F8F8\" height=\"23.9688\" rx=\"10\" ry=\"10\" style=\"stroke: #F8F8F8; stroke-width: 1.5;\" width=\"107\" x=\"56\" y=\"281\"/><rect fill=\"#F8F8F8\" height=\"10\" style=\"stroke: #F8F8F8; stroke-width: 1.5;\" width=\"107\" x=\"56\" y=\"294.9688\"/><rect fill=\"none\" height=\"40\" id=\"E6\" rx=\"10\" ry=\"10\" style=\"stroke: #383838; stroke-width: 1.5;\" width=\"107\" x=\"56\" y=\"281\"/><text fill=\"#000000\" font-family=\"sans-serif\" font-size=\"12\" lengthAdjust=\"spacingAndGlyphs\" textLength=\"96\" x=\"61.5\" y=\"297.1387\">vehicle: Vehicle</text></a></g><!--MD5=[e848d748933ad00883fb91f6ba4d6bcb]\n",
       "@startuml\r\n",
       "skinparam ranksep 10\r\n",
       "skinparam rectangle {\r\n",
       " backgroundColor<<block>> LightGreen\r\n",
       "}\r\n",
       "left to right direction\r\n",
       "skinparam monochrome true\r\n",
       "skinparam classbackgroundcolor white\r\n",
       "skinparam shadowing false\r\n",
       "skinparam wrapWidth 300\r\n",
       "hide circle\r\n",
       "\r\n",
       "package \"AliasImport\" as E1  [[psysml:ef3d48fd-2829-4dbf-9589-92371a3e091f ]]  {\r\n",
       "package \"Definitions\" as E2  [[psysml:de0d2cc7-98e6-429c-a225-0b1a04e72b17 ]]  {\r\n",
       "rec def \"Vehicle\" as E3  <<(T,blue) part def>> [[psysml:6a2a8f83-25b7-443f-ad75-cafd3f704077 ]] {\r\n",
       "}\r\n",
       "rec def \"Vehicle\" as E4  <<(T,blue) part def>> [[psysml:6a2a8f83-25b7-443f-ad75-cafd3f704077 ]] {\r\n",
       "}\r\n",
       "}\r\n",
       "package \"Usages\" as E5  [[psysml:0db9d317-797a-4865-97e5-5934f0d4a303 ]]  {\r\n",
       "rec usage \"vehicle: Vehicle\" as E6  [[psysml:ac2a7781-f3a7-4610-aa94-de8fcbc60da2 ]] {\r\n",
       "}\r\n",
       "}\r\n",
       "}\r\n",
       "@enduml\r\n",
       "\n",
       "PlantUML version 1.2020.13(Sat Jun 13 12:26:38 UTC 2020)\n",
       "(EPL source distribution)\n",
       "Java Runtime: OpenJDK Runtime Environment\n",
       "JVM: OpenJDK 64-Bit Server VM\n",
       "Default Encoding: UTF-8\n",
       "Language: en\n",
       "Country: null\n",
       "--></g></svg>"
      ]
     },
     "execution_count": 19,
     "metadata": {},
     "output_type": "execute_result"
    }
   ],
   "source": [
    "%viz --style=\"LR\" --view=\"Interconnection\" \"AliasImport\""
   ]
  },
  {
   "cell_type": "code",
   "execution_count": 20,
   "id": "8bd15ec1",
   "metadata": {
    "execution": {
     "iopub.execute_input": "2021-08-04T06:25:41.146897Z",
     "iopub.status.busy": "2021-08-04T06:25:41.146490Z",
     "iopub.status.idle": "2021-08-04T06:25:41.150791Z",
     "shell.execute_reply": "2021-08-04T06:25:41.151107Z"
    }
   },
   "outputs": [
    {
     "data": {
      "image/svg+xml": [
       "<?xml version=\"1.0\" encoding=\"UTF-8\" standalone=\"no\"?><svg xmlns=\"http://www.w3.org/2000/svg\" xmlns:xlink=\"http://www.w3.org/1999/xlink\" contentScriptType=\"application/ecmascript\" contentStyleType=\"text/css\" height=\"12px\" preserveAspectRatio=\"none\" style=\"width:12px;height:12px;\" version=\"1.1\" viewBox=\"0 0 12 12\" width=\"12px\" zoomAndPan=\"magnify\"><defs/><g><!--MD5=[7aeb398939421629f6affaa4a1a7b125]\n",
       "@startuml\r\n",
       "skinparam ranksep 8\r\n",
       "left to right direction\r\n",
       "skinparam monochrome true\r\n",
       "skinparam classbackgroundcolor white\r\n",
       "skinparam shadowing false\r\n",
       "skinparam wrapWidth 300\r\n",
       "hide circle\r\n",
       "\r\n",
       "@enduml\r\n",
       "\n",
       "PlantUML version 1.2020.13(Sat Jun 13 12:26:38 UTC 2020)\n",
       "(EPL source distribution)\n",
       "Java Runtime: OpenJDK Runtime Environment\n",
       "JVM: OpenJDK 64-Bit Server VM\n",
       "Default Encoding: UTF-8\n",
       "Language: en\n",
       "Country: null\n",
       "--></g></svg>"
      ]
     },
     "execution_count": 20,
     "metadata": {},
     "output_type": "execute_result"
    }
   ],
   "source": [
    "%viz --style=\"LR\" --view=\"Action\" \"AliasImport\""
   ]
  },
  {
   "cell_type": "code",
   "execution_count": 21,
   "id": "7138b86b",
   "metadata": {
    "execution": {
     "iopub.execute_input": "2021-08-04T06:25:41.201466Z",
     "iopub.status.busy": "2021-08-04T06:25:41.201002Z",
     "iopub.status.idle": "2021-08-04T06:25:41.226104Z",
     "shell.execute_reply": "2021-08-04T06:25:41.226399Z"
    }
   },
   "outputs": [
    {
     "data": {
      "image/svg+xml": [
       "<?xml version=\"1.0\" encoding=\"UTF-8\" standalone=\"no\"?><svg xmlns=\"http://www.w3.org/2000/svg\" xmlns:xlink=\"http://www.w3.org/1999/xlink\" contentScriptType=\"application/ecmascript\" contentStyleType=\"text/css\" height=\"182px\" preserveAspectRatio=\"none\" style=\"width:372px;height:182px;\" version=\"1.1\" viewBox=\"0 0 372 182\" width=\"372px\" zoomAndPan=\"magnify\"><defs/><g><!--MD5=[fbc87193dbaf4d95561dea2c320d4a47]\n",
       "cluster E1--><a href=\"psysml:ef3d48fd-2829-4dbf-9589-92371a3e091f\" target=\"_top\" title=\"psysml:ef3d48fd-2829-4dbf-9589-92371a3e091f\" xlink:actuate=\"onRequest\" xlink:href=\"psysml:ef3d48fd-2829-4dbf-9589-92371a3e091f\" xlink:show=\"new\" xlink:title=\"psysml:ef3d48fd-2829-4dbf-9589-92371a3e091f\" xlink:type=\"simple\"><polygon fill=\"#FFFFFF\" points=\"16,6,110,6,117,28.2969,350,28.2969,350,170,16,170,16,6\" style=\"stroke: #000000; stroke-width: 1.5;\"/><line style=\"stroke: #000000; stroke-width: 1.5;\" x1=\"16\" x2=\"117\" y1=\"28.2969\" y2=\"28.2969\"/><text fill=\"#000000\" font-family=\"sans-serif\" font-size=\"14\" font-weight=\"bold\" lengthAdjust=\"spacingAndGlyphs\" textLength=\"88\" x=\"20\" y=\"20.9951\">AliasImport</text></a><!--MD5=[e4f7fae6ed58524ba242bb0b0d3be6b7]\n",
       "cluster E2--><a href=\"psysml:de0d2cc7-98e6-429c-a225-0b1a04e72b17\" target=\"_top\" title=\"psysml:de0d2cc7-98e6-429c-a225-0b1a04e72b17\" xlink:actuate=\"onRequest\" xlink:href=\"psysml:de0d2cc7-98e6-429c-a225-0b1a04e72b17\" xlink:show=\"new\" xlink:title=\"psysml:de0d2cc7-98e6-429c-a225-0b1a04e72b17\" xlink:type=\"simple\"><polygon fill=\"#FFFFFF\" points=\"226,49,316,49,323,71.2969,326,71.2969,326,146,226,146,226,49\" style=\"stroke: #000000; stroke-width: 1.5;\"/><line style=\"stroke: #000000; stroke-width: 1.5;\" x1=\"226\" x2=\"323\" y1=\"71.2969\" y2=\"71.2969\"/><text fill=\"#000000\" font-family=\"sans-serif\" font-size=\"14\" font-weight=\"bold\" lengthAdjust=\"spacingAndGlyphs\" textLength=\"84\" x=\"230\" y=\"63.9951\">Definitions</text></a><!--MD5=[f6df4d0ebaf0b5dfb2ced0ae5af7c670]\n",
       "cluster E4--><a href=\"psysml:0db9d317-797a-4865-97e5-5934f0d4a303\" target=\"_top\" title=\"psysml:0db9d317-797a-4865-97e5-5934f0d4a303\" xlink:actuate=\"onRequest\" xlink:href=\"psysml:0db9d317-797a-4865-97e5-5934f0d4a303\" xlink:show=\"new\" xlink:title=\"psysml:0db9d317-797a-4865-97e5-5934f0d4a303\" xlink:type=\"simple\"><polygon fill=\"#FFFFFF\" points=\"40,49,104,49,111,71.2969,174,71.2969,174,146,40,146,40,49\" style=\"stroke: #000000; stroke-width: 1.5;\"/><line style=\"stroke: #000000; stroke-width: 1.5;\" x1=\"40\" x2=\"111\" y1=\"71.2969\" y2=\"71.2969\"/><text fill=\"#000000\" font-family=\"sans-serif\" font-size=\"14\" font-weight=\"bold\" lengthAdjust=\"spacingAndGlyphs\" textLength=\"58\" x=\"44\" y=\"63.9951\">Usages</text></a><!--MD5=[09b614a08d8cba4a07c9adeb5e0fee81]\n",
       "class E3--><a href=\"psysml:6a2a8f83-25b7-443f-ad75-cafd3f704077\" target=\"_top\" title=\"psysml:6a2a8f83-25b7-443f-ad75-cafd3f704077\" xlink:actuate=\"onRequest\" xlink:href=\"psysml:6a2a8f83-25b7-443f-ad75-cafd3f704077\" xlink:show=\"new\" xlink:title=\"psysml:6a2a8f83-25b7-443f-ad75-cafd3f704077\" xlink:type=\"simple\"><rect fill=\"#FFFFFF\" height=\"45.9375\" id=\"E3\" style=\"stroke: #383838; stroke-width: 1.5;\" width=\"66\" x=\"243\" y=\"84\"/><text fill=\"#000000\" font-family=\"sans-serif\" font-size=\"12\" font-style=\"italic\" lengthAdjust=\"spacingAndGlyphs\" textLength=\"64\" x=\"244\" y=\"100.1387\">«part def»</text><text fill=\"#000000\" font-family=\"sans-serif\" font-size=\"12\" lengthAdjust=\"spacingAndGlyphs\" textLength=\"45\" x=\"253.5\" y=\"114.1074\">Vehicle</text><line style=\"stroke: #383838; stroke-width: 1.5;\" x1=\"244\" x2=\"308\" y1=\"121.9375\" y2=\"121.9375\"/></a><!--MD5=[270fce915f116d4de14055a7c1d9a0f3]\n",
       "class E5--><a href=\"psysml:ac2a7781-f3a7-4610-aa94-de8fcbc60da2\" target=\"_top\" title=\"psysml:ac2a7781-f3a7-4610-aa94-de8fcbc60da2\" xlink:actuate=\"onRequest\" xlink:href=\"psysml:ac2a7781-f3a7-4610-aa94-de8fcbc60da2\" xlink:show=\"new\" xlink:title=\"psysml:ac2a7781-f3a7-4610-aa94-de8fcbc60da2\" xlink:type=\"simple\"><rect fill=\"#FFFFFF\" height=\"45.9375\" id=\"E5\" rx=\"10\" ry=\"10\" style=\"stroke: #383838; stroke-width: 1.5;\" width=\"102\" x=\"56\" y=\"84\"/><text fill=\"#000000\" font-family=\"sans-serif\" font-size=\"12\" font-style=\"italic\" lengthAdjust=\"spacingAndGlyphs\" textLength=\"40\" x=\"87\" y=\"100.1387\">«part»</text><text fill=\"#000000\" font-family=\"sans-serif\" font-size=\"12\" lengthAdjust=\"spacingAndGlyphs\" textLength=\"96\" x=\"59\" y=\"114.1074\">vehicle: Vehicle</text><line style=\"stroke: #383838; stroke-width: 1.5;\" x1=\"57\" x2=\"157\" y1=\"121.9375\" y2=\"121.9375\"/></a><!--MD5=[e9be52314489bd878ff4c7144b63c9e1]\n",
       "link E5 to E3--><a href=\"psysml:f4b8c599-6f69-4625-a365-4a72ec0c3cc2\" target=\"_top\" title=\"psysml:f4b8c599-6f69-4625-a365-4a72ec0c3cc2\" xlink:actuate=\"onRequest\" xlink:href=\"psysml:f4b8c599-6f69-4625-a365-4a72ec0c3cc2\" xlink:show=\"new\" xlink:title=\"psysml:f4b8c599-6f69-4625-a365-4a72ec0c3cc2\" xlink:type=\"simple\"><path d=\"M158.11,107 C178.5,107 202.07,107 222.69,107 \" fill=\"none\" id=\"E5-&gt;E3\" style=\"stroke: #383838; stroke-width: 1.0;\"/><polygon fill=\"#FFFFFF\" points=\"242.84,107,223.84,114,223.84,100,242.84,107\" style=\"stroke: #383838; stroke-width: 1.0;\"/><ellipse cx=\"218.14\" cy=\"112\" fill=\"#383838\" rx=\"2\" ry=\"2\" style=\"stroke: #383838; stroke-width: 1.0;\"/><ellipse cx=\"218.14\" cy=\"102\" fill=\"#383838\" rx=\"2\" ry=\"2\" style=\"stroke: #383838; stroke-width: 1.0;\"/></a><!--MD5=[5fbb3eb288093f388ffd3e961ab1b463]\n",
       "@startuml\r\n",
       "left to right direction\r\n",
       "skinparam monochrome true\r\n",
       "skinparam classbackgroundcolor white\r\n",
       "skinparam shadowing false\r\n",
       "skinparam wrapWidth 300\r\n",
       "hide circle\r\n",
       "\r\n",
       "package \"AliasImport\" as E1  [[psysml:ef3d48fd-2829-4dbf-9589-92371a3e091f ]]  {\r\n",
       "package \"Definitions\" as E2  [[psysml:de0d2cc7-98e6-429c-a225-0b1a04e72b17 ]]  {\r\n",
       "comp def \"Vehicle\" as E3  <<(T,blue) part def>> [[psysml:6a2a8f83-25b7-443f-ad75-cafd3f704077 ]] {\r\n",
       "}\r\n",
       "}\r\n",
       "package \"Usages\" as E4  [[psysml:0db9d317-797a-4865-97e5-5934f0d4a303 ]]  {\r\n",
       "comp usage \"vehicle: Vehicle\" as E5  <<(T,blue) part>> [[psysml:ac2a7781-f3a7-4610-aa94-de8fcbc60da2 ]] {\r\n",
       "}\r\n",
       "E5 - -:|> E3 [[psysml:f4b8c599-6f69-4625-a365-4a72ec0c3cc2 ]] \r\n",
       "}\r\n",
       "}\r\n",
       "@enduml\r\n",
       "\n",
       "PlantUML version 1.2020.13(Sat Jun 13 12:26:38 UTC 2020)\n",
       "(EPL source distribution)\n",
       "Java Runtime: OpenJDK Runtime Environment\n",
       "JVM: OpenJDK 64-Bit Server VM\n",
       "Default Encoding: UTF-8\n",
       "Language: en\n",
       "Country: null\n",
       "--></g></svg>"
      ]
     },
     "execution_count": 21,
     "metadata": {},
     "output_type": "execute_result"
    }
   ],
   "source": [
    "%viz --style=\"LR\" --view=\"Sequence\" \"AliasImport\""
   ]
  },
  {
   "cell_type": "code",
   "execution_count": 22,
   "id": "e8b6b2a2",
   "metadata": {
    "execution": {
     "iopub.execute_input": "2021-08-04T06:25:41.276462Z",
     "iopub.status.busy": "2021-08-04T06:25:41.276053Z",
     "iopub.status.idle": "2021-08-04T06:25:41.298517Z",
     "shell.execute_reply": "2021-08-04T06:25:41.298165Z"
    }
   },
   "outputs": [
    {
     "data": {
      "image/svg+xml": [
       "<?xml version=\"1.0\" encoding=\"UTF-8\" standalone=\"no\"?><svg xmlns=\"http://www.w3.org/2000/svg\" xmlns:xlink=\"http://www.w3.org/1999/xlink\" contentScriptType=\"application/ecmascript\" contentStyleType=\"text/css\" height=\"182px\" preserveAspectRatio=\"none\" style=\"width:372px;height:182px;\" version=\"1.1\" viewBox=\"0 0 372 182\" width=\"372px\" zoomAndPan=\"magnify\"><defs/><g><!--MD5=[fbc87193dbaf4d95561dea2c320d4a47]\n",
       "cluster E1--><a href=\"psysml:ef3d48fd-2829-4dbf-9589-92371a3e091f\" target=\"_top\" title=\"psysml:ef3d48fd-2829-4dbf-9589-92371a3e091f\" xlink:actuate=\"onRequest\" xlink:href=\"psysml:ef3d48fd-2829-4dbf-9589-92371a3e091f\" xlink:show=\"new\" xlink:title=\"psysml:ef3d48fd-2829-4dbf-9589-92371a3e091f\" xlink:type=\"simple\"><polygon fill=\"#FFFFFF\" points=\"16,6,110,6,117,28.2969,350,28.2969,350,170,16,170,16,6\" style=\"stroke: #000000; stroke-width: 1.5;\"/><line style=\"stroke: #000000; stroke-width: 1.5;\" x1=\"16\" x2=\"117\" y1=\"28.2969\" y2=\"28.2969\"/><text fill=\"#000000\" font-family=\"sans-serif\" font-size=\"14\" font-weight=\"bold\" lengthAdjust=\"spacingAndGlyphs\" textLength=\"88\" x=\"20\" y=\"20.9951\">AliasImport</text></a><!--MD5=[e4f7fae6ed58524ba242bb0b0d3be6b7]\n",
       "cluster E2--><a href=\"psysml:de0d2cc7-98e6-429c-a225-0b1a04e72b17\" target=\"_top\" title=\"psysml:de0d2cc7-98e6-429c-a225-0b1a04e72b17\" xlink:actuate=\"onRequest\" xlink:href=\"psysml:de0d2cc7-98e6-429c-a225-0b1a04e72b17\" xlink:show=\"new\" xlink:title=\"psysml:de0d2cc7-98e6-429c-a225-0b1a04e72b17\" xlink:type=\"simple\"><polygon fill=\"#FFFFFF\" points=\"226,49,316,49,323,71.2969,326,71.2969,326,146,226,146,226,49\" style=\"stroke: #000000; stroke-width: 1.5;\"/><line style=\"stroke: #000000; stroke-width: 1.5;\" x1=\"226\" x2=\"323\" y1=\"71.2969\" y2=\"71.2969\"/><text fill=\"#000000\" font-family=\"sans-serif\" font-size=\"14\" font-weight=\"bold\" lengthAdjust=\"spacingAndGlyphs\" textLength=\"84\" x=\"230\" y=\"63.9951\">Definitions</text></a><!--MD5=[f6df4d0ebaf0b5dfb2ced0ae5af7c670]\n",
       "cluster E4--><a href=\"psysml:0db9d317-797a-4865-97e5-5934f0d4a303\" target=\"_top\" title=\"psysml:0db9d317-797a-4865-97e5-5934f0d4a303\" xlink:actuate=\"onRequest\" xlink:href=\"psysml:0db9d317-797a-4865-97e5-5934f0d4a303\" xlink:show=\"new\" xlink:title=\"psysml:0db9d317-797a-4865-97e5-5934f0d4a303\" xlink:type=\"simple\"><polygon fill=\"#FFFFFF\" points=\"40,49,104,49,111,71.2969,174,71.2969,174,146,40,146,40,49\" style=\"stroke: #000000; stroke-width: 1.5;\"/><line style=\"stroke: #000000; stroke-width: 1.5;\" x1=\"40\" x2=\"111\" y1=\"71.2969\" y2=\"71.2969\"/><text fill=\"#000000\" font-family=\"sans-serif\" font-size=\"14\" font-weight=\"bold\" lengthAdjust=\"spacingAndGlyphs\" textLength=\"58\" x=\"44\" y=\"63.9951\">Usages</text></a><!--MD5=[09b614a08d8cba4a07c9adeb5e0fee81]\n",
       "class E3--><a href=\"psysml:6a2a8f83-25b7-443f-ad75-cafd3f704077\" target=\"_top\" title=\"psysml:6a2a8f83-25b7-443f-ad75-cafd3f704077\" xlink:actuate=\"onRequest\" xlink:href=\"psysml:6a2a8f83-25b7-443f-ad75-cafd3f704077\" xlink:show=\"new\" xlink:title=\"psysml:6a2a8f83-25b7-443f-ad75-cafd3f704077\" xlink:type=\"simple\"><rect fill=\"#FFFFFF\" height=\"45.9375\" id=\"E3\" style=\"stroke: #383838; stroke-width: 1.5;\" width=\"66\" x=\"243\" y=\"84\"/><text fill=\"#000000\" font-family=\"sans-serif\" font-size=\"12\" font-style=\"italic\" lengthAdjust=\"spacingAndGlyphs\" textLength=\"64\" x=\"244\" y=\"100.1387\">«part def»</text><text fill=\"#000000\" font-family=\"sans-serif\" font-size=\"12\" lengthAdjust=\"spacingAndGlyphs\" textLength=\"45\" x=\"253.5\" y=\"114.1074\">Vehicle</text><line style=\"stroke: #383838; stroke-width: 1.5;\" x1=\"244\" x2=\"308\" y1=\"121.9375\" y2=\"121.9375\"/></a><!--MD5=[270fce915f116d4de14055a7c1d9a0f3]\n",
       "class E5--><a href=\"psysml:ac2a7781-f3a7-4610-aa94-de8fcbc60da2\" target=\"_top\" title=\"psysml:ac2a7781-f3a7-4610-aa94-de8fcbc60da2\" xlink:actuate=\"onRequest\" xlink:href=\"psysml:ac2a7781-f3a7-4610-aa94-de8fcbc60da2\" xlink:show=\"new\" xlink:title=\"psysml:ac2a7781-f3a7-4610-aa94-de8fcbc60da2\" xlink:type=\"simple\"><rect fill=\"#FFFFFF\" height=\"45.9375\" id=\"E5\" rx=\"10\" ry=\"10\" style=\"stroke: #383838; stroke-width: 1.5;\" width=\"102\" x=\"56\" y=\"84\"/><text fill=\"#000000\" font-family=\"sans-serif\" font-size=\"12\" font-style=\"italic\" lengthAdjust=\"spacingAndGlyphs\" textLength=\"40\" x=\"87\" y=\"100.1387\">«part»</text><text fill=\"#000000\" font-family=\"sans-serif\" font-size=\"12\" lengthAdjust=\"spacingAndGlyphs\" textLength=\"96\" x=\"59\" y=\"114.1074\">vehicle: Vehicle</text><line style=\"stroke: #383838; stroke-width: 1.5;\" x1=\"57\" x2=\"157\" y1=\"121.9375\" y2=\"121.9375\"/></a><!--MD5=[e9be52314489bd878ff4c7144b63c9e1]\n",
       "link E5 to E3--><a href=\"psysml:f4b8c599-6f69-4625-a365-4a72ec0c3cc2\" target=\"_top\" title=\"psysml:f4b8c599-6f69-4625-a365-4a72ec0c3cc2\" xlink:actuate=\"onRequest\" xlink:href=\"psysml:f4b8c599-6f69-4625-a365-4a72ec0c3cc2\" xlink:show=\"new\" xlink:title=\"psysml:f4b8c599-6f69-4625-a365-4a72ec0c3cc2\" xlink:type=\"simple\"><path d=\"M158.11,107 C178.5,107 202.07,107 222.69,107 \" fill=\"none\" id=\"E5-&gt;E3\" style=\"stroke: #383838; stroke-width: 1.0;\"/><polygon fill=\"#FFFFFF\" points=\"242.84,107,223.84,114,223.84,100,242.84,107\" style=\"stroke: #383838; stroke-width: 1.0;\"/><ellipse cx=\"218.14\" cy=\"112\" fill=\"#383838\" rx=\"2\" ry=\"2\" style=\"stroke: #383838; stroke-width: 1.0;\"/><ellipse cx=\"218.14\" cy=\"102\" fill=\"#383838\" rx=\"2\" ry=\"2\" style=\"stroke: #383838; stroke-width: 1.0;\"/></a><!--MD5=[5fbb3eb288093f388ffd3e961ab1b463]\n",
       "@startuml\r\n",
       "left to right direction\r\n",
       "skinparam monochrome true\r\n",
       "skinparam classbackgroundcolor white\r\n",
       "skinparam shadowing false\r\n",
       "skinparam wrapWidth 300\r\n",
       "hide circle\r\n",
       "\r\n",
       "package \"AliasImport\" as E1  [[psysml:ef3d48fd-2829-4dbf-9589-92371a3e091f ]]  {\r\n",
       "package \"Definitions\" as E2  [[psysml:de0d2cc7-98e6-429c-a225-0b1a04e72b17 ]]  {\r\n",
       "comp def \"Vehicle\" as E3  <<(T,blue) part def>> [[psysml:6a2a8f83-25b7-443f-ad75-cafd3f704077 ]] {\r\n",
       "}\r\n",
       "}\r\n",
       "package \"Usages\" as E4  [[psysml:0db9d317-797a-4865-97e5-5934f0d4a303 ]]  {\r\n",
       "comp usage \"vehicle: Vehicle\" as E5  <<(T,blue) part>> [[psysml:ac2a7781-f3a7-4610-aa94-de8fcbc60da2 ]] {\r\n",
       "}\r\n",
       "E5 - -:|> E3 [[psysml:f4b8c599-6f69-4625-a365-4a72ec0c3cc2 ]] \r\n",
       "}\r\n",
       "}\r\n",
       "@enduml\r\n",
       "\n",
       "PlantUML version 1.2020.13(Sat Jun 13 12:26:38 UTC 2020)\n",
       "(EPL source distribution)\n",
       "Java Runtime: OpenJDK Runtime Environment\n",
       "JVM: OpenJDK 64-Bit Server VM\n",
       "Default Encoding: UTF-8\n",
       "Language: en\n",
       "Country: null\n",
       "--></g></svg>"
      ]
     },
     "execution_count": 22,
     "metadata": {},
     "output_type": "execute_result"
    }
   ],
   "source": [
    "%viz --style=\"LR\" --view=\"MIXED\" \"AliasImport\""
   ]
  },
  {
   "cell_type": "code",
   "execution_count": 23,
   "id": "cb63aaa2",
   "metadata": {
    "execution": {
     "iopub.execute_input": "2021-08-04T06:25:41.348318Z",
     "iopub.status.busy": "2021-08-04T06:25:41.347902Z",
     "iopub.status.idle": "2021-08-04T06:25:41.371917Z",
     "shell.execute_reply": "2021-08-04T06:25:41.372207Z"
    }
   },
   "outputs": [
    {
     "data": {
      "image/svg+xml": [
       "<?xml version=\"1.0\" encoding=\"UTF-8\" standalone=\"no\"?><svg xmlns=\"http://www.w3.org/2000/svg\" xmlns:xlink=\"http://www.w3.org/1999/xlink\" contentScriptType=\"application/ecmascript\" contentStyleType=\"text/css\" height=\"303px\" preserveAspectRatio=\"none\" style=\"width:220px;height:303px;\" version=\"1.1\" viewBox=\"0 0 220 303\" width=\"220px\" zoomAndPan=\"magnify\"><defs><filter height=\"300%\" id=\"f1ftwumztgf1xu\" width=\"300%\" x=\"-1\" y=\"-1\"><feGaussianBlur result=\"blurOut\" stdDeviation=\"2.0\"/><feColorMatrix in=\"blurOut\" result=\"blurOut2\" type=\"matrix\" values=\"0 0 0 0 0 0 0 0 0 0 0 0 0 0 0 0 0 0 .4 0\"/><feOffset dx=\"4.0\" dy=\"4.0\" in=\"blurOut2\" result=\"blurOut3\"/><feBlend in=\"SourceGraphic\" in2=\"blurOut3\" mode=\"normal\"/></filter></defs><g><!--MD5=[fbc87193dbaf4d95561dea2c320d4a47]\n",
       "cluster E1--><a href=\"psysml:ef3d48fd-2829-4dbf-9589-92371a3e091f\" target=\"_top\" title=\"psysml:ef3d48fd-2829-4dbf-9589-92371a3e091f\" xlink:actuate=\"onRequest\" xlink:href=\"psysml:ef3d48fd-2829-4dbf-9589-92371a3e091f\" xlink:show=\"new\" xlink:title=\"psysml:ef3d48fd-2829-4dbf-9589-92371a3e091f\" xlink:type=\"simple\"><polygon fill=\"#FFFFFF\" filter=\"url(#f1ftwumztgf1xu)\" points=\"16,6,110,6,117,28.2969,198,28.2969,198,291,16,291,16,6\" style=\"stroke: #000000; stroke-width: 1.5;\"/><line style=\"stroke: #000000; stroke-width: 1.5;\" x1=\"16\" x2=\"117\" y1=\"28.2969\" y2=\"28.2969\"/><text fill=\"#000000\" font-family=\"sans-serif\" font-size=\"14\" font-weight=\"bold\" lengthAdjust=\"spacingAndGlyphs\" textLength=\"88\" x=\"20\" y=\"20.9951\">AliasImport</text></a><!--MD5=[e4f7fae6ed58524ba242bb0b0d3be6b7]\n",
       "cluster E2--><a href=\"psysml:de0d2cc7-98e6-429c-a225-0b1a04e72b17\" target=\"_top\" title=\"psysml:de0d2cc7-98e6-429c-a225-0b1a04e72b17\" xlink:actuate=\"onRequest\" xlink:href=\"psysml:de0d2cc7-98e6-429c-a225-0b1a04e72b17\" xlink:show=\"new\" xlink:title=\"psysml:de0d2cc7-98e6-429c-a225-0b1a04e72b17\" xlink:type=\"simple\"><polygon fill=\"#FFFFFF\" filter=\"url(#f1ftwumztgf1xu)\" points=\"57,170,147,170,154,192.2969,157,192.2969,157,267,57,267,57,170\" style=\"stroke: #000000; stroke-width: 1.5;\"/><line style=\"stroke: #000000; stroke-width: 1.5;\" x1=\"57\" x2=\"154\" y1=\"192.2969\" y2=\"192.2969\"/><text fill=\"#000000\" font-family=\"sans-serif\" font-size=\"14\" font-weight=\"bold\" lengthAdjust=\"spacingAndGlyphs\" textLength=\"84\" x=\"61\" y=\"184.9951\">Definitions</text></a><!--MD5=[f6df4d0ebaf0b5dfb2ced0ae5af7c670]\n",
       "cluster E4--><a href=\"psysml:0db9d317-797a-4865-97e5-5934f0d4a303\" target=\"_top\" title=\"psysml:0db9d317-797a-4865-97e5-5934f0d4a303\" xlink:actuate=\"onRequest\" xlink:href=\"psysml:0db9d317-797a-4865-97e5-5934f0d4a303\" xlink:show=\"new\" xlink:title=\"psysml:0db9d317-797a-4865-97e5-5934f0d4a303\" xlink:type=\"simple\"><polygon fill=\"#FFFFFF\" filter=\"url(#f1ftwumztgf1xu)\" points=\"40,49,104,49,111,71.2969,174,71.2969,174,146,40,146,40,49\" style=\"stroke: #000000; stroke-width: 1.5;\"/><line style=\"stroke: #000000; stroke-width: 1.5;\" x1=\"40\" x2=\"111\" y1=\"71.2969\" y2=\"71.2969\"/><text fill=\"#000000\" font-family=\"sans-serif\" font-size=\"14\" font-weight=\"bold\" lengthAdjust=\"spacingAndGlyphs\" textLength=\"58\" x=\"44\" y=\"63.9951\">Usages</text></a><!--MD5=[09b614a08d8cba4a07c9adeb5e0fee81]\n",
       "class E3--><a href=\"psysml:6a2a8f83-25b7-443f-ad75-cafd3f704077\" target=\"_top\" title=\"psysml:6a2a8f83-25b7-443f-ad75-cafd3f704077\" xlink:actuate=\"onRequest\" xlink:href=\"psysml:6a2a8f83-25b7-443f-ad75-cafd3f704077\" xlink:show=\"new\" xlink:title=\"psysml:6a2a8f83-25b7-443f-ad75-cafd3f704077\" xlink:type=\"simple\"><rect fill=\"#FEFECE\" filter=\"url(#f1ftwumztgf1xu)\" height=\"45.9375\" id=\"E3\" style=\"stroke: #A80036; stroke-width: 1.5;\" width=\"66\" x=\"74\" y=\"205\"/><text fill=\"#000000\" font-family=\"sans-serif\" font-size=\"12\" font-style=\"italic\" lengthAdjust=\"spacingAndGlyphs\" textLength=\"64\" x=\"75\" y=\"221.1387\">«part def»</text><text fill=\"#000000\" font-family=\"sans-serif\" font-size=\"12\" lengthAdjust=\"spacingAndGlyphs\" textLength=\"45\" x=\"84.5\" y=\"235.1074\">Vehicle</text><line style=\"stroke: #A80036; stroke-width: 1.5;\" x1=\"75\" x2=\"139\" y1=\"242.9375\" y2=\"242.9375\"/></a><!--MD5=[270fce915f116d4de14055a7c1d9a0f3]\n",
       "class E5--><a href=\"psysml:ac2a7781-f3a7-4610-aa94-de8fcbc60da2\" target=\"_top\" title=\"psysml:ac2a7781-f3a7-4610-aa94-de8fcbc60da2\" xlink:actuate=\"onRequest\" xlink:href=\"psysml:ac2a7781-f3a7-4610-aa94-de8fcbc60da2\" xlink:show=\"new\" xlink:title=\"psysml:ac2a7781-f3a7-4610-aa94-de8fcbc60da2\" xlink:type=\"simple\"><rect fill=\"#FEFECE\" filter=\"url(#f1ftwumztgf1xu)\" height=\"45.9375\" id=\"E5\" rx=\"10\" ry=\"10\" style=\"stroke: #A80036; stroke-width: 1.5;\" width=\"102\" x=\"56\" y=\"84\"/><text fill=\"#000000\" font-family=\"sans-serif\" font-size=\"12\" font-style=\"italic\" lengthAdjust=\"spacingAndGlyphs\" textLength=\"40\" x=\"87\" y=\"100.1387\">«part»</text><text fill=\"#000000\" font-family=\"sans-serif\" font-size=\"12\" lengthAdjust=\"spacingAndGlyphs\" textLength=\"96\" x=\"59\" y=\"114.1074\">vehicle: Vehicle</text><line style=\"stroke: #A80036; stroke-width: 1.5;\" x1=\"57\" x2=\"157\" y1=\"121.9375\" y2=\"121.9375\"/></a><!--MD5=[e9be52314489bd878ff4c7144b63c9e1]\n",
       "link E5 to E3--><a href=\"psysml:f4b8c599-6f69-4625-a365-4a72ec0c3cc2\" target=\"_top\" title=\"psysml:f4b8c599-6f69-4625-a365-4a72ec0c3cc2\" xlink:actuate=\"onRequest\" xlink:href=\"psysml:f4b8c599-6f69-4625-a365-4a72ec0c3cc2\" xlink:show=\"new\" xlink:title=\"psysml:f4b8c599-6f69-4625-a365-4a72ec0c3cc2\" xlink:type=\"simple\"><path d=\"M107,130.1 C107,145.37 107,166.16 107,184.57 \" fill=\"none\" id=\"E5-&gt;E3\" style=\"stroke: #A80036; stroke-width: 1.0;\"/><polygon fill=\"#FFFFFF\" points=\"107,204.61,100,185.61,114,185.61,107,204.61\" style=\"stroke: #A80036; stroke-width: 1.0;\"/><ellipse cx=\"102\" cy=\"179.91\" fill=\"#A80036\" rx=\"2\" ry=\"2\" style=\"stroke: #A80036; stroke-width: 1.0;\"/><ellipse cx=\"112\" cy=\"179.91\" fill=\"#A80036\" rx=\"2\" ry=\"2\" style=\"stroke: #A80036; stroke-width: 1.0;\"/></a><!--MD5=[c872fac41a21b41c5539069c72e0b8b7]\n",
       "@startuml\r\n",
       "skinparam wrapWidth 300\r\n",
       "hide circle\r\n",
       "\r\n",
       "package \"AliasImport\" as E1  [[psysml:ef3d48fd-2829-4dbf-9589-92371a3e091f ]]  {\r\n",
       "package \"Definitions\" as E2  [[psysml:de0d2cc7-98e6-429c-a225-0b1a04e72b17 ]]  {\r\n",
       "comp def \"Vehicle\" as E3  <<(T,blue) part def>> [[psysml:6a2a8f83-25b7-443f-ad75-cafd3f704077 ]] {\r\n",
       "}\r\n",
       "}\r\n",
       "package \"Usages\" as E4  [[psysml:0db9d317-797a-4865-97e5-5934f0d4a303 ]]  {\r\n",
       "comp usage \"vehicle: Vehicle\" as E5  <<(T,blue) part>> [[psysml:ac2a7781-f3a7-4610-aa94-de8fcbc60da2 ]] {\r\n",
       "}\r\n",
       "E5 - -:|> E3 [[psysml:f4b8c599-6f69-4625-a365-4a72ec0c3cc2 ]] \r\n",
       "}\r\n",
       "}\r\n",
       "@enduml\r\n",
       "\n",
       "PlantUML version 1.2020.13(Sat Jun 13 12:26:38 UTC 2020)\n",
       "(EPL source distribution)\n",
       "Java Runtime: OpenJDK Runtime Environment\n",
       "JVM: OpenJDK 64-Bit Server VM\n",
       "Default Encoding: UTF-8\n",
       "Language: en\n",
       "Country: null\n",
       "--></g></svg>"
      ]
     },
     "execution_count": 23,
     "metadata": {},
     "output_type": "execute_result"
    }
   ],
   "source": [
    "%viz --style=\"STDCOLOR\" --view=\"Default\" \"AliasImport\""
   ]
  },
  {
   "cell_type": "code",
   "execution_count": 24,
   "id": "1bfe1adc",
   "metadata": {
    "execution": {
     "iopub.execute_input": "2021-08-04T06:25:41.422461Z",
     "iopub.status.busy": "2021-08-04T06:25:41.422065Z",
     "iopub.status.idle": "2021-08-04T06:25:41.457804Z",
     "shell.execute_reply": "2021-08-04T06:25:41.457413Z"
    }
   },
   "outputs": [
    {
     "data": {
      "image/svg+xml": [
       "<?xml version=\"1.0\" encoding=\"UTF-8\" standalone=\"no\"?><svg xmlns=\"http://www.w3.org/2000/svg\" xmlns:xlink=\"http://www.w3.org/1999/xlink\" contentScriptType=\"application/ecmascript\" contentStyleType=\"text/css\" height=\"303px\" preserveAspectRatio=\"none\" style=\"width:220px;height:303px;\" version=\"1.1\" viewBox=\"0 0 220 303\" width=\"220px\" zoomAndPan=\"magnify\"><defs><filter height=\"300%\" id=\"f1ftwumztgf1xu\" width=\"300%\" x=\"-1\" y=\"-1\"><feGaussianBlur result=\"blurOut\" stdDeviation=\"2.0\"/><feColorMatrix in=\"blurOut\" result=\"blurOut2\" type=\"matrix\" values=\"0 0 0 0 0 0 0 0 0 0 0 0 0 0 0 0 0 0 .4 0\"/><feOffset dx=\"4.0\" dy=\"4.0\" in=\"blurOut2\" result=\"blurOut3\"/><feBlend in=\"SourceGraphic\" in2=\"blurOut3\" mode=\"normal\"/></filter></defs><g><!--MD5=[fbc87193dbaf4d95561dea2c320d4a47]\n",
       "cluster E1--><a href=\"psysml:ef3d48fd-2829-4dbf-9589-92371a3e091f\" target=\"_top\" title=\"psysml:ef3d48fd-2829-4dbf-9589-92371a3e091f\" xlink:actuate=\"onRequest\" xlink:href=\"psysml:ef3d48fd-2829-4dbf-9589-92371a3e091f\" xlink:show=\"new\" xlink:title=\"psysml:ef3d48fd-2829-4dbf-9589-92371a3e091f\" xlink:type=\"simple\"><polygon fill=\"#FFFFFF\" filter=\"url(#f1ftwumztgf1xu)\" points=\"16,6,110,6,117,28.2969,198,28.2969,198,291,16,291,16,6\" style=\"stroke: #000000; stroke-width: 1.5;\"/><line style=\"stroke: #000000; stroke-width: 1.5;\" x1=\"16\" x2=\"117\" y1=\"28.2969\" y2=\"28.2969\"/><text fill=\"#000000\" font-family=\"sans-serif\" font-size=\"14\" font-weight=\"bold\" lengthAdjust=\"spacingAndGlyphs\" textLength=\"88\" x=\"20\" y=\"20.9951\">AliasImport</text></a><!--MD5=[e4f7fae6ed58524ba242bb0b0d3be6b7]\n",
       "cluster E2--><a href=\"psysml:de0d2cc7-98e6-429c-a225-0b1a04e72b17\" target=\"_top\" title=\"psysml:de0d2cc7-98e6-429c-a225-0b1a04e72b17\" xlink:actuate=\"onRequest\" xlink:href=\"psysml:de0d2cc7-98e6-429c-a225-0b1a04e72b17\" xlink:show=\"new\" xlink:title=\"psysml:de0d2cc7-98e6-429c-a225-0b1a04e72b17\" xlink:type=\"simple\"><polygon fill=\"#FFFFFF\" filter=\"url(#f1ftwumztgf1xu)\" points=\"57,170,147,170,154,192.2969,157,192.2969,157,267,57,267,57,170\" style=\"stroke: #000000; stroke-width: 1.5;\"/><line style=\"stroke: #000000; stroke-width: 1.5;\" x1=\"57\" x2=\"154\" y1=\"192.2969\" y2=\"192.2969\"/><text fill=\"#000000\" font-family=\"sans-serif\" font-size=\"14\" font-weight=\"bold\" lengthAdjust=\"spacingAndGlyphs\" textLength=\"84\" x=\"61\" y=\"184.9951\">Definitions</text></a><!--MD5=[f6df4d0ebaf0b5dfb2ced0ae5af7c670]\n",
       "cluster E4--><a href=\"psysml:0db9d317-797a-4865-97e5-5934f0d4a303\" target=\"_top\" title=\"psysml:0db9d317-797a-4865-97e5-5934f0d4a303\" xlink:actuate=\"onRequest\" xlink:href=\"psysml:0db9d317-797a-4865-97e5-5934f0d4a303\" xlink:show=\"new\" xlink:title=\"psysml:0db9d317-797a-4865-97e5-5934f0d4a303\" xlink:type=\"simple\"><polygon fill=\"#FFFFFF\" filter=\"url(#f1ftwumztgf1xu)\" points=\"40,49,104,49,111,71.2969,174,71.2969,174,146,40,146,40,49\" style=\"stroke: #000000; stroke-width: 1.5;\"/><line style=\"stroke: #000000; stroke-width: 1.5;\" x1=\"40\" x2=\"111\" y1=\"71.2969\" y2=\"71.2969\"/><text fill=\"#000000\" font-family=\"sans-serif\" font-size=\"14\" font-weight=\"bold\" lengthAdjust=\"spacingAndGlyphs\" textLength=\"58\" x=\"44\" y=\"63.9951\">Usages</text></a><!--MD5=[09b614a08d8cba4a07c9adeb5e0fee81]\n",
       "class E3--><a href=\"psysml:6a2a8f83-25b7-443f-ad75-cafd3f704077\" target=\"_top\" title=\"psysml:6a2a8f83-25b7-443f-ad75-cafd3f704077\" xlink:actuate=\"onRequest\" xlink:href=\"psysml:6a2a8f83-25b7-443f-ad75-cafd3f704077\" xlink:show=\"new\" xlink:title=\"psysml:6a2a8f83-25b7-443f-ad75-cafd3f704077\" xlink:type=\"simple\"><rect fill=\"#FEFECE\" filter=\"url(#f1ftwumztgf1xu)\" height=\"45.9375\" id=\"E3\" style=\"stroke: #A80036; stroke-width: 1.5;\" width=\"66\" x=\"74\" y=\"205\"/><text fill=\"#000000\" font-family=\"sans-serif\" font-size=\"12\" font-style=\"italic\" lengthAdjust=\"spacingAndGlyphs\" textLength=\"64\" x=\"75\" y=\"221.1387\">«part def»</text><text fill=\"#000000\" font-family=\"sans-serif\" font-size=\"12\" lengthAdjust=\"spacingAndGlyphs\" textLength=\"45\" x=\"84.5\" y=\"235.1074\">Vehicle</text><line style=\"stroke: #A80036; stroke-width: 1.5;\" x1=\"75\" x2=\"139\" y1=\"242.9375\" y2=\"242.9375\"/></a><!--MD5=[270fce915f116d4de14055a7c1d9a0f3]\n",
       "class E5--><a href=\"psysml:ac2a7781-f3a7-4610-aa94-de8fcbc60da2\" target=\"_top\" title=\"psysml:ac2a7781-f3a7-4610-aa94-de8fcbc60da2\" xlink:actuate=\"onRequest\" xlink:href=\"psysml:ac2a7781-f3a7-4610-aa94-de8fcbc60da2\" xlink:show=\"new\" xlink:title=\"psysml:ac2a7781-f3a7-4610-aa94-de8fcbc60da2\" xlink:type=\"simple\"><rect fill=\"#FEFECE\" filter=\"url(#f1ftwumztgf1xu)\" height=\"45.9375\" id=\"E5\" rx=\"10\" ry=\"10\" style=\"stroke: #A80036; stroke-width: 1.5;\" width=\"102\" x=\"56\" y=\"84\"/><text fill=\"#000000\" font-family=\"sans-serif\" font-size=\"12\" font-style=\"italic\" lengthAdjust=\"spacingAndGlyphs\" textLength=\"40\" x=\"87\" y=\"100.1387\">«part»</text><text fill=\"#000000\" font-family=\"sans-serif\" font-size=\"12\" lengthAdjust=\"spacingAndGlyphs\" textLength=\"96\" x=\"59\" y=\"114.1074\">vehicle: Vehicle</text><line style=\"stroke: #A80036; stroke-width: 1.5;\" x1=\"57\" x2=\"157\" y1=\"121.9375\" y2=\"121.9375\"/></a><!--MD5=[e9be52314489bd878ff4c7144b63c9e1]\n",
       "link E5 to E3--><a href=\"psysml:f4b8c599-6f69-4625-a365-4a72ec0c3cc2\" target=\"_top\" title=\"psysml:f4b8c599-6f69-4625-a365-4a72ec0c3cc2\" xlink:actuate=\"onRequest\" xlink:href=\"psysml:f4b8c599-6f69-4625-a365-4a72ec0c3cc2\" xlink:show=\"new\" xlink:title=\"psysml:f4b8c599-6f69-4625-a365-4a72ec0c3cc2\" xlink:type=\"simple\"><path d=\"M107,130.1 C107,145.37 107,166.16 107,184.57 \" fill=\"none\" id=\"E5-&gt;E3\" style=\"stroke: #A80036; stroke-width: 1.0;\"/><polygon fill=\"#FFFFFF\" points=\"107,204.61,100,185.61,114,185.61,107,204.61\" style=\"stroke: #A80036; stroke-width: 1.0;\"/><ellipse cx=\"102\" cy=\"179.91\" fill=\"#A80036\" rx=\"2\" ry=\"2\" style=\"stroke: #A80036; stroke-width: 1.0;\"/><ellipse cx=\"112\" cy=\"179.91\" fill=\"#A80036\" rx=\"2\" ry=\"2\" style=\"stroke: #A80036; stroke-width: 1.0;\"/></a><!--MD5=[c872fac41a21b41c5539069c72e0b8b7]\n",
       "@startuml\r\n",
       "skinparam wrapWidth 300\r\n",
       "hide circle\r\n",
       "\r\n",
       "package \"AliasImport\" as E1  [[psysml:ef3d48fd-2829-4dbf-9589-92371a3e091f ]]  {\r\n",
       "package \"Definitions\" as E2  [[psysml:de0d2cc7-98e6-429c-a225-0b1a04e72b17 ]]  {\r\n",
       "comp def \"Vehicle\" as E3  <<(T,blue) part def>> [[psysml:6a2a8f83-25b7-443f-ad75-cafd3f704077 ]] {\r\n",
       "}\r\n",
       "}\r\n",
       "package \"Usages\" as E4  [[psysml:0db9d317-797a-4865-97e5-5934f0d4a303 ]]  {\r\n",
       "comp usage \"vehicle: Vehicle\" as E5  <<(T,blue) part>> [[psysml:ac2a7781-f3a7-4610-aa94-de8fcbc60da2 ]] {\r\n",
       "}\r\n",
       "E5 - -:|> E3 [[psysml:f4b8c599-6f69-4625-a365-4a72ec0c3cc2 ]] \r\n",
       "}\r\n",
       "}\r\n",
       "@enduml\r\n",
       "\n",
       "PlantUML version 1.2020.13(Sat Jun 13 12:26:38 UTC 2020)\n",
       "(EPL source distribution)\n",
       "Java Runtime: OpenJDK Runtime Environment\n",
       "JVM: OpenJDK 64-Bit Server VM\n",
       "Default Encoding: UTF-8\n",
       "Language: en\n",
       "Country: null\n",
       "--></g></svg>"
      ]
     },
     "execution_count": 24,
     "metadata": {},
     "output_type": "execute_result"
    }
   ],
   "source": [
    "%viz --style=\"STDCOLOR\" --view=\"Tree\" \"AliasImport\""
   ]
  },
  {
   "cell_type": "code",
   "execution_count": 25,
   "id": "47e124ab",
   "metadata": {
    "execution": {
     "iopub.execute_input": "2021-08-04T06:25:41.507455Z",
     "iopub.status.busy": "2021-08-04T06:25:41.507193Z",
     "iopub.status.idle": "2021-08-04T06:25:41.512076Z",
     "shell.execute_reply": "2021-08-04T06:25:41.512408Z"
    }
   },
   "outputs": [
    {
     "data": {
      "image/svg+xml": [
       "<?xml version=\"1.0\" encoding=\"UTF-8\" standalone=\"no\"?><svg xmlns=\"http://www.w3.org/2000/svg\" xmlns:xlink=\"http://www.w3.org/1999/xlink\" contentScriptType=\"application/ecmascript\" contentStyleType=\"text/css\" height=\"12px\" preserveAspectRatio=\"none\" style=\"width:12px;height:12px;\" version=\"1.1\" viewBox=\"0 0 12 12\" width=\"12px\" zoomAndPan=\"magnify\"><defs/><g><!--MD5=[aeeef50f102b80d730deb6443d14f702]\n",
       "@startuml\r\n",
       "skinparam wrapWidth 300\r\n",
       "hide circle\r\n",
       "\r\n",
       "@enduml\r\n",
       "\n",
       "PlantUML version 1.2020.13(Sat Jun 13 12:26:38 UTC 2020)\n",
       "(EPL source distribution)\n",
       "Java Runtime: OpenJDK Runtime Environment\n",
       "JVM: OpenJDK 64-Bit Server VM\n",
       "Default Encoding: UTF-8\n",
       "Language: en\n",
       "Country: null\n",
       "--></g></svg>"
      ]
     },
     "execution_count": 25,
     "metadata": {},
     "output_type": "execute_result"
    }
   ],
   "source": [
    "%viz --style=\"STDCOLOR\" --view=\"State\" \"AliasImport\""
   ]
  },
  {
   "cell_type": "code",
   "execution_count": 26,
   "id": "380466d8",
   "metadata": {
    "execution": {
     "iopub.execute_input": "2021-08-04T06:25:41.562173Z",
     "iopub.status.busy": "2021-08-04T06:25:41.561912Z",
     "iopub.status.idle": "2021-08-04T06:25:41.585600Z",
     "shell.execute_reply": "2021-08-04T06:25:41.584982Z"
    }
   },
   "outputs": [
    {
     "data": {
      "image/svg+xml": [
       "<?xml version=\"1.0\" encoding=\"UTF-8\" standalone=\"no\"?><svg xmlns=\"http://www.w3.org/2000/svg\" xmlns:xlink=\"http://www.w3.org/1999/xlink\" contentScriptType=\"application/ecmascript\" contentStyleType=\"text/css\" height=\"179px\" preserveAspectRatio=\"none\" style=\"width:458px;height:179px;\" version=\"1.1\" viewBox=\"0 0 458 179\" width=\"458px\" zoomAndPan=\"magnify\"><defs><filter height=\"300%\" id=\"fqd0zpknsbq51\" width=\"300%\" x=\"-1\" y=\"-1\"><feGaussianBlur result=\"blurOut\" stdDeviation=\"2.0\"/><feColorMatrix in=\"blurOut\" result=\"blurOut2\" type=\"matrix\" values=\"0 0 0 0 0 0 0 0 0 0 0 0 0 0 0 0 0 0 .4 0\"/><feOffset dx=\"4.0\" dy=\"4.0\" in=\"blurOut2\" result=\"blurOut3\"/><feBlend in=\"SourceGraphic\" in2=\"blurOut3\" mode=\"normal\"/></filter></defs><g><!--MD5=[fbc87193dbaf4d95561dea2c320d4a47]\n",
       "cluster E1--><a href=\"psysml:ef3d48fd-2829-4dbf-9589-92371a3e091f\" target=\"_top\" title=\"psysml:ef3d48fd-2829-4dbf-9589-92371a3e091f\" xlink:actuate=\"onRequest\" xlink:href=\"psysml:ef3d48fd-2829-4dbf-9589-92371a3e091f\" xlink:show=\"new\" xlink:title=\"psysml:ef3d48fd-2829-4dbf-9589-92371a3e091f\" xlink:type=\"simple\"><polygon fill=\"#FFFFFF\" filter=\"url(#fqd0zpknsbq51)\" points=\"16,6,110,6,117,28.2969,436,28.2969,436,167,16,167,16,6\" style=\"stroke: #000000; stroke-width: 1.5;\"/><line style=\"stroke: #000000; stroke-width: 1.5;\" x1=\"16\" x2=\"117\" y1=\"28.2969\" y2=\"28.2969\"/><text fill=\"#000000\" font-family=\"sans-serif\" font-size=\"14\" font-weight=\"bold\" lengthAdjust=\"spacingAndGlyphs\" textLength=\"88\" x=\"20\" y=\"20.9951\">AliasImport</text></a><!--MD5=[e4f7fae6ed58524ba242bb0b0d3be6b7]\n",
       "cluster E2--><a href=\"psysml:de0d2cc7-98e6-429c-a225-0b1a04e72b17\" target=\"_top\" title=\"psysml:de0d2cc7-98e6-429c-a225-0b1a04e72b17\" xlink:actuate=\"onRequest\" xlink:href=\"psysml:de0d2cc7-98e6-429c-a225-0b1a04e72b17\" xlink:show=\"new\" xlink:title=\"psysml:de0d2cc7-98e6-429c-a225-0b1a04e72b17\" xlink:type=\"simple\"><polygon fill=\"#FFFFFF\" filter=\"url(#fqd0zpknsbq51)\" points=\"202,49,292,49,299,71.2969,412,71.2969,412,143,202,143,202,49\" style=\"stroke: #000000; stroke-width: 1.5;\"/><line style=\"stroke: #000000; stroke-width: 1.5;\" x1=\"202\" x2=\"299\" y1=\"71.2969\" y2=\"71.2969\"/><text fill=\"#000000\" font-family=\"sans-serif\" font-size=\"14\" font-weight=\"bold\" lengthAdjust=\"spacingAndGlyphs\" textLength=\"84\" x=\"206\" y=\"63.9951\">Definitions</text></a><!--MD5=[de5ec2e2e8f62f467e546659f5068c88]\n",
       "cluster E5--><a href=\"psysml:0db9d317-797a-4865-97e5-5934f0d4a303\" target=\"_top\" title=\"psysml:0db9d317-797a-4865-97e5-5934f0d4a303\" xlink:actuate=\"onRequest\" xlink:href=\"psysml:0db9d317-797a-4865-97e5-5934f0d4a303\" xlink:show=\"new\" xlink:title=\"psysml:0db9d317-797a-4865-97e5-5934f0d4a303\" xlink:type=\"simple\"><polygon fill=\"#FFFFFF\" filter=\"url(#fqd0zpknsbq51)\" points=\"40,50.5,104,50.5,111,72.7969,178,72.7969,178,141.5,40,141.5,40,50.5\" style=\"stroke: #000000; stroke-width: 1.5;\"/><line style=\"stroke: #000000; stroke-width: 1.5;\" x1=\"40\" x2=\"111\" y1=\"72.7969\" y2=\"72.7969\"/><text fill=\"#000000\" font-family=\"sans-serif\" font-size=\"14\" font-weight=\"bold\" lengthAdjust=\"spacingAndGlyphs\" textLength=\"58\" x=\"44\" y=\"65.4951\">Usages</text></a><g id=\"E1.E2.E3\"><a href=\"psysml:6a2a8f83-25b7-443f-ad75-cafd3f704077\" target=\"_top\" title=\"psysml:6a2a8f83-25b7-443f-ad75-cafd3f704077\" xlink:actuate=\"onRequest\" xlink:href=\"psysml:6a2a8f83-25b7-443f-ad75-cafd3f704077\" xlink:show=\"new\" xlink:title=\"psysml:6a2a8f83-25b7-443f-ad75-cafd3f704077\" xlink:type=\"simple\"><rect fill=\"#FEFECE\" filter=\"url(#fqd0zpknsbq51)\" height=\"42.9375\" id=\"E3\" style=\"stroke: #A80036; stroke-width: 1.5;\" width=\"71\" x=\"324.5\" y=\"84\"/><text fill=\"#000000\" font-family=\"sans-serif\" font-size=\"12\" font-style=\"italic\" lengthAdjust=\"spacingAndGlyphs\" textLength=\"64\" x=\"328\" y=\"100.1387\">«part def»</text><text fill=\"#000000\" font-family=\"sans-serif\" font-size=\"12\" lengthAdjust=\"spacingAndGlyphs\" textLength=\"45\" x=\"337.5\" y=\"114.1074\">Vehicle</text></a></g><g id=\"E1.E2.E4\"><a href=\"psysml:6a2a8f83-25b7-443f-ad75-cafd3f704077\" target=\"_top\" title=\"psysml:6a2a8f83-25b7-443f-ad75-cafd3f704077\" xlink:actuate=\"onRequest\" xlink:href=\"psysml:6a2a8f83-25b7-443f-ad75-cafd3f704077\" xlink:show=\"new\" xlink:title=\"psysml:6a2a8f83-25b7-443f-ad75-cafd3f704077\" xlink:type=\"simple\"><rect fill=\"#FEFECE\" filter=\"url(#fqd0zpknsbq51)\" height=\"42.9375\" id=\"E4\" style=\"stroke: #A80036; stroke-width: 1.5;\" width=\"71\" x=\"218.5\" y=\"84\"/><text fill=\"#000000\" font-family=\"sans-serif\" font-size=\"12\" font-style=\"italic\" lengthAdjust=\"spacingAndGlyphs\" textLength=\"64\" x=\"222\" y=\"100.1387\">«part def»</text><text fill=\"#000000\" font-family=\"sans-serif\" font-size=\"12\" lengthAdjust=\"spacingAndGlyphs\" textLength=\"45\" x=\"231.5\" y=\"114.1074\">Vehicle</text></a></g><g id=\"E1.E5.E6\"><a href=\"psysml:ac2a7781-f3a7-4610-aa94-de8fcbc60da2\" target=\"_top\" title=\"psysml:ac2a7781-f3a7-4610-aa94-de8fcbc60da2\" xlink:actuate=\"onRequest\" xlink:href=\"psysml:ac2a7781-f3a7-4610-aa94-de8fcbc60da2\" xlink:show=\"new\" xlink:title=\"psysml:ac2a7781-f3a7-4610-aa94-de8fcbc60da2\" xlink:type=\"simple\"><rect fill=\"#FEFECE\" filter=\"url(#fqd0zpknsbq51)\" height=\"40\" id=\"E6\" rx=\"10\" ry=\"10\" style=\"stroke: #A80036; stroke-width: 1.5;\" width=\"107\" x=\"55.5\" y=\"85.5\"/><text fill=\"#000000\" font-family=\"sans-serif\" font-size=\"12\" lengthAdjust=\"spacingAndGlyphs\" textLength=\"96\" x=\"61\" y=\"101.6387\">vehicle: Vehicle</text></a></g><!--MD5=[349edda24d0c2bb33e3564f10999fb62]\n",
       "@startuml\r\n",
       "skinparam ranksep 10\r\n",
       "skinparam rectangle {\r\n",
       " backgroundColor<<block>> LightGreen\r\n",
       "}\r\n",
       "skinparam wrapWidth 300\r\n",
       "hide circle\r\n",
       "\r\n",
       "package \"AliasImport\" as E1  [[psysml:ef3d48fd-2829-4dbf-9589-92371a3e091f ]]  {\r\n",
       "package \"Definitions\" as E2  [[psysml:de0d2cc7-98e6-429c-a225-0b1a04e72b17 ]]  {\r\n",
       "rec def \"Vehicle\" as E3  <<(T,blue) part def>> [[psysml:6a2a8f83-25b7-443f-ad75-cafd3f704077 ]] {\r\n",
       "}\r\n",
       "rec def \"Vehicle\" as E4  <<(T,blue) part def>> [[psysml:6a2a8f83-25b7-443f-ad75-cafd3f704077 ]] {\r\n",
       "}\r\n",
       "}\r\n",
       "package \"Usages\" as E5  [[psysml:0db9d317-797a-4865-97e5-5934f0d4a303 ]]  {\r\n",
       "rec usage \"vehicle: Vehicle\" as E6  [[psysml:ac2a7781-f3a7-4610-aa94-de8fcbc60da2 ]] {\r\n",
       "}\r\n",
       "}\r\n",
       "}\r\n",
       "@enduml\r\n",
       "\n",
       "PlantUML version 1.2020.13(Sat Jun 13 12:26:38 UTC 2020)\n",
       "(EPL source distribution)\n",
       "Java Runtime: OpenJDK Runtime Environment\n",
       "JVM: OpenJDK 64-Bit Server VM\n",
       "Default Encoding: UTF-8\n",
       "Language: en\n",
       "Country: null\n",
       "--></g></svg>"
      ]
     },
     "execution_count": 26,
     "metadata": {},
     "output_type": "execute_result"
    }
   ],
   "source": [
    "%viz --style=\"STDCOLOR\" --view=\"Interconnection\" \"AliasImport\""
   ]
  },
  {
   "cell_type": "code",
   "execution_count": 27,
   "id": "39568724",
   "metadata": {
    "execution": {
     "iopub.execute_input": "2021-08-04T06:25:41.635699Z",
     "iopub.status.busy": "2021-08-04T06:25:41.635496Z",
     "iopub.status.idle": "2021-08-04T06:25:41.640738Z",
     "shell.execute_reply": "2021-08-04T06:25:41.641062Z"
    }
   },
   "outputs": [
    {
     "data": {
      "image/svg+xml": [
       "<?xml version=\"1.0\" encoding=\"UTF-8\" standalone=\"no\"?><svg xmlns=\"http://www.w3.org/2000/svg\" xmlns:xlink=\"http://www.w3.org/1999/xlink\" contentScriptType=\"application/ecmascript\" contentStyleType=\"text/css\" height=\"12px\" preserveAspectRatio=\"none\" style=\"width:12px;height:12px;\" version=\"1.1\" viewBox=\"0 0 12 12\" width=\"12px\" zoomAndPan=\"magnify\"><defs/><g><!--MD5=[9863325348a96a77dacc89509d8ee65e]\n",
       "@startuml\r\n",
       "skinparam ranksep 8\r\n",
       "skinparam wrapWidth 300\r\n",
       "hide circle\r\n",
       "\r\n",
       "@enduml\r\n",
       "\n",
       "PlantUML version 1.2020.13(Sat Jun 13 12:26:38 UTC 2020)\n",
       "(EPL source distribution)\n",
       "Java Runtime: OpenJDK Runtime Environment\n",
       "JVM: OpenJDK 64-Bit Server VM\n",
       "Default Encoding: UTF-8\n",
       "Language: en\n",
       "Country: null\n",
       "--></g></svg>"
      ]
     },
     "execution_count": 27,
     "metadata": {},
     "output_type": "execute_result"
    }
   ],
   "source": [
    "%viz --style=\"STDCOLOR\" --view=\"Action\" \"AliasImport\""
   ]
  },
  {
   "cell_type": "code",
   "execution_count": 28,
   "id": "94b173c7",
   "metadata": {
    "execution": {
     "iopub.execute_input": "2021-08-04T06:25:41.691390Z",
     "iopub.status.busy": "2021-08-04T06:25:41.690977Z",
     "iopub.status.idle": "2021-08-04T06:25:41.718966Z",
     "shell.execute_reply": "2021-08-04T06:25:41.718590Z"
    }
   },
   "outputs": [
    {
     "data": {
      "image/svg+xml": [
       "<?xml version=\"1.0\" encoding=\"UTF-8\" standalone=\"no\"?><svg xmlns=\"http://www.w3.org/2000/svg\" xmlns:xlink=\"http://www.w3.org/1999/xlink\" contentScriptType=\"application/ecmascript\" contentStyleType=\"text/css\" height=\"303px\" preserveAspectRatio=\"none\" style=\"width:220px;height:303px;\" version=\"1.1\" viewBox=\"0 0 220 303\" width=\"220px\" zoomAndPan=\"magnify\"><defs><filter height=\"300%\" id=\"f1ftwumztgf1xu\" width=\"300%\" x=\"-1\" y=\"-1\"><feGaussianBlur result=\"blurOut\" stdDeviation=\"2.0\"/><feColorMatrix in=\"blurOut\" result=\"blurOut2\" type=\"matrix\" values=\"0 0 0 0 0 0 0 0 0 0 0 0 0 0 0 0 0 0 .4 0\"/><feOffset dx=\"4.0\" dy=\"4.0\" in=\"blurOut2\" result=\"blurOut3\"/><feBlend in=\"SourceGraphic\" in2=\"blurOut3\" mode=\"normal\"/></filter></defs><g><!--MD5=[fbc87193dbaf4d95561dea2c320d4a47]\n",
       "cluster E1--><a href=\"psysml:ef3d48fd-2829-4dbf-9589-92371a3e091f\" target=\"_top\" title=\"psysml:ef3d48fd-2829-4dbf-9589-92371a3e091f\" xlink:actuate=\"onRequest\" xlink:href=\"psysml:ef3d48fd-2829-4dbf-9589-92371a3e091f\" xlink:show=\"new\" xlink:title=\"psysml:ef3d48fd-2829-4dbf-9589-92371a3e091f\" xlink:type=\"simple\"><polygon fill=\"#FFFFFF\" filter=\"url(#f1ftwumztgf1xu)\" points=\"16,6,110,6,117,28.2969,198,28.2969,198,291,16,291,16,6\" style=\"stroke: #000000; stroke-width: 1.5;\"/><line style=\"stroke: #000000; stroke-width: 1.5;\" x1=\"16\" x2=\"117\" y1=\"28.2969\" y2=\"28.2969\"/><text fill=\"#000000\" font-family=\"sans-serif\" font-size=\"14\" font-weight=\"bold\" lengthAdjust=\"spacingAndGlyphs\" textLength=\"88\" x=\"20\" y=\"20.9951\">AliasImport</text></a><!--MD5=[e4f7fae6ed58524ba242bb0b0d3be6b7]\n",
       "cluster E2--><a href=\"psysml:de0d2cc7-98e6-429c-a225-0b1a04e72b17\" target=\"_top\" title=\"psysml:de0d2cc7-98e6-429c-a225-0b1a04e72b17\" xlink:actuate=\"onRequest\" xlink:href=\"psysml:de0d2cc7-98e6-429c-a225-0b1a04e72b17\" xlink:show=\"new\" xlink:title=\"psysml:de0d2cc7-98e6-429c-a225-0b1a04e72b17\" xlink:type=\"simple\"><polygon fill=\"#FFFFFF\" filter=\"url(#f1ftwumztgf1xu)\" points=\"57,170,147,170,154,192.2969,157,192.2969,157,267,57,267,57,170\" style=\"stroke: #000000; stroke-width: 1.5;\"/><line style=\"stroke: #000000; stroke-width: 1.5;\" x1=\"57\" x2=\"154\" y1=\"192.2969\" y2=\"192.2969\"/><text fill=\"#000000\" font-family=\"sans-serif\" font-size=\"14\" font-weight=\"bold\" lengthAdjust=\"spacingAndGlyphs\" textLength=\"84\" x=\"61\" y=\"184.9951\">Definitions</text></a><!--MD5=[f6df4d0ebaf0b5dfb2ced0ae5af7c670]\n",
       "cluster E4--><a href=\"psysml:0db9d317-797a-4865-97e5-5934f0d4a303\" target=\"_top\" title=\"psysml:0db9d317-797a-4865-97e5-5934f0d4a303\" xlink:actuate=\"onRequest\" xlink:href=\"psysml:0db9d317-797a-4865-97e5-5934f0d4a303\" xlink:show=\"new\" xlink:title=\"psysml:0db9d317-797a-4865-97e5-5934f0d4a303\" xlink:type=\"simple\"><polygon fill=\"#FFFFFF\" filter=\"url(#f1ftwumztgf1xu)\" points=\"40,49,104,49,111,71.2969,174,71.2969,174,146,40,146,40,49\" style=\"stroke: #000000; stroke-width: 1.5;\"/><line style=\"stroke: #000000; stroke-width: 1.5;\" x1=\"40\" x2=\"111\" y1=\"71.2969\" y2=\"71.2969\"/><text fill=\"#000000\" font-family=\"sans-serif\" font-size=\"14\" font-weight=\"bold\" lengthAdjust=\"spacingAndGlyphs\" textLength=\"58\" x=\"44\" y=\"63.9951\">Usages</text></a><!--MD5=[09b614a08d8cba4a07c9adeb5e0fee81]\n",
       "class E3--><a href=\"psysml:6a2a8f83-25b7-443f-ad75-cafd3f704077\" target=\"_top\" title=\"psysml:6a2a8f83-25b7-443f-ad75-cafd3f704077\" xlink:actuate=\"onRequest\" xlink:href=\"psysml:6a2a8f83-25b7-443f-ad75-cafd3f704077\" xlink:show=\"new\" xlink:title=\"psysml:6a2a8f83-25b7-443f-ad75-cafd3f704077\" xlink:type=\"simple\"><rect fill=\"#FEFECE\" filter=\"url(#f1ftwumztgf1xu)\" height=\"45.9375\" id=\"E3\" style=\"stroke: #A80036; stroke-width: 1.5;\" width=\"66\" x=\"74\" y=\"205\"/><text fill=\"#000000\" font-family=\"sans-serif\" font-size=\"12\" font-style=\"italic\" lengthAdjust=\"spacingAndGlyphs\" textLength=\"64\" x=\"75\" y=\"221.1387\">«part def»</text><text fill=\"#000000\" font-family=\"sans-serif\" font-size=\"12\" lengthAdjust=\"spacingAndGlyphs\" textLength=\"45\" x=\"84.5\" y=\"235.1074\">Vehicle</text><line style=\"stroke: #A80036; stroke-width: 1.5;\" x1=\"75\" x2=\"139\" y1=\"242.9375\" y2=\"242.9375\"/></a><!--MD5=[270fce915f116d4de14055a7c1d9a0f3]\n",
       "class E5--><a href=\"psysml:ac2a7781-f3a7-4610-aa94-de8fcbc60da2\" target=\"_top\" title=\"psysml:ac2a7781-f3a7-4610-aa94-de8fcbc60da2\" xlink:actuate=\"onRequest\" xlink:href=\"psysml:ac2a7781-f3a7-4610-aa94-de8fcbc60da2\" xlink:show=\"new\" xlink:title=\"psysml:ac2a7781-f3a7-4610-aa94-de8fcbc60da2\" xlink:type=\"simple\"><rect fill=\"#FEFECE\" filter=\"url(#f1ftwumztgf1xu)\" height=\"45.9375\" id=\"E5\" rx=\"10\" ry=\"10\" style=\"stroke: #A80036; stroke-width: 1.5;\" width=\"102\" x=\"56\" y=\"84\"/><text fill=\"#000000\" font-family=\"sans-serif\" font-size=\"12\" font-style=\"italic\" lengthAdjust=\"spacingAndGlyphs\" textLength=\"40\" x=\"87\" y=\"100.1387\">«part»</text><text fill=\"#000000\" font-family=\"sans-serif\" font-size=\"12\" lengthAdjust=\"spacingAndGlyphs\" textLength=\"96\" x=\"59\" y=\"114.1074\">vehicle: Vehicle</text><line style=\"stroke: #A80036; stroke-width: 1.5;\" x1=\"57\" x2=\"157\" y1=\"121.9375\" y2=\"121.9375\"/></a><!--MD5=[e9be52314489bd878ff4c7144b63c9e1]\n",
       "link E5 to E3--><a href=\"psysml:f4b8c599-6f69-4625-a365-4a72ec0c3cc2\" target=\"_top\" title=\"psysml:f4b8c599-6f69-4625-a365-4a72ec0c3cc2\" xlink:actuate=\"onRequest\" xlink:href=\"psysml:f4b8c599-6f69-4625-a365-4a72ec0c3cc2\" xlink:show=\"new\" xlink:title=\"psysml:f4b8c599-6f69-4625-a365-4a72ec0c3cc2\" xlink:type=\"simple\"><path d=\"M107,130.1 C107,145.37 107,166.16 107,184.57 \" fill=\"none\" id=\"E5-&gt;E3\" style=\"stroke: #A80036; stroke-width: 1.0;\"/><polygon fill=\"#FFFFFF\" points=\"107,204.61,100,185.61,114,185.61,107,204.61\" style=\"stroke: #A80036; stroke-width: 1.0;\"/><ellipse cx=\"102\" cy=\"179.91\" fill=\"#A80036\" rx=\"2\" ry=\"2\" style=\"stroke: #A80036; stroke-width: 1.0;\"/><ellipse cx=\"112\" cy=\"179.91\" fill=\"#A80036\" rx=\"2\" ry=\"2\" style=\"stroke: #A80036; stroke-width: 1.0;\"/></a><!--MD5=[c872fac41a21b41c5539069c72e0b8b7]\n",
       "@startuml\r\n",
       "skinparam wrapWidth 300\r\n",
       "hide circle\r\n",
       "\r\n",
       "package \"AliasImport\" as E1  [[psysml:ef3d48fd-2829-4dbf-9589-92371a3e091f ]]  {\r\n",
       "package \"Definitions\" as E2  [[psysml:de0d2cc7-98e6-429c-a225-0b1a04e72b17 ]]  {\r\n",
       "comp def \"Vehicle\" as E3  <<(T,blue) part def>> [[psysml:6a2a8f83-25b7-443f-ad75-cafd3f704077 ]] {\r\n",
       "}\r\n",
       "}\r\n",
       "package \"Usages\" as E4  [[psysml:0db9d317-797a-4865-97e5-5934f0d4a303 ]]  {\r\n",
       "comp usage \"vehicle: Vehicle\" as E5  <<(T,blue) part>> [[psysml:ac2a7781-f3a7-4610-aa94-de8fcbc60da2 ]] {\r\n",
       "}\r\n",
       "E5 - -:|> E3 [[psysml:f4b8c599-6f69-4625-a365-4a72ec0c3cc2 ]] \r\n",
       "}\r\n",
       "}\r\n",
       "@enduml\r\n",
       "\n",
       "PlantUML version 1.2020.13(Sat Jun 13 12:26:38 UTC 2020)\n",
       "(EPL source distribution)\n",
       "Java Runtime: OpenJDK Runtime Environment\n",
       "JVM: OpenJDK 64-Bit Server VM\n",
       "Default Encoding: UTF-8\n",
       "Language: en\n",
       "Country: null\n",
       "--></g></svg>"
      ]
     },
     "execution_count": 28,
     "metadata": {},
     "output_type": "execute_result"
    }
   ],
   "source": [
    "%viz --style=\"STDCOLOR\" --view=\"Sequence\" \"AliasImport\""
   ]
  },
  {
   "cell_type": "code",
   "execution_count": 29,
   "id": "35bbd64a",
   "metadata": {
    "execution": {
     "iopub.execute_input": "2021-08-04T06:25:41.768989Z",
     "iopub.status.busy": "2021-08-04T06:25:41.768512Z",
     "iopub.status.idle": "2021-08-04T06:25:41.792725Z",
     "shell.execute_reply": "2021-08-04T06:25:41.792373Z"
    }
   },
   "outputs": [
    {
     "data": {
      "image/svg+xml": [
       "<?xml version=\"1.0\" encoding=\"UTF-8\" standalone=\"no\"?><svg xmlns=\"http://www.w3.org/2000/svg\" xmlns:xlink=\"http://www.w3.org/1999/xlink\" contentScriptType=\"application/ecmascript\" contentStyleType=\"text/css\" height=\"303px\" preserveAspectRatio=\"none\" style=\"width:220px;height:303px;\" version=\"1.1\" viewBox=\"0 0 220 303\" width=\"220px\" zoomAndPan=\"magnify\"><defs><filter height=\"300%\" id=\"f1ftwumztgf1xu\" width=\"300%\" x=\"-1\" y=\"-1\"><feGaussianBlur result=\"blurOut\" stdDeviation=\"2.0\"/><feColorMatrix in=\"blurOut\" result=\"blurOut2\" type=\"matrix\" values=\"0 0 0 0 0 0 0 0 0 0 0 0 0 0 0 0 0 0 .4 0\"/><feOffset dx=\"4.0\" dy=\"4.0\" in=\"blurOut2\" result=\"blurOut3\"/><feBlend in=\"SourceGraphic\" in2=\"blurOut3\" mode=\"normal\"/></filter></defs><g><!--MD5=[fbc87193dbaf4d95561dea2c320d4a47]\n",
       "cluster E1--><a href=\"psysml:ef3d48fd-2829-4dbf-9589-92371a3e091f\" target=\"_top\" title=\"psysml:ef3d48fd-2829-4dbf-9589-92371a3e091f\" xlink:actuate=\"onRequest\" xlink:href=\"psysml:ef3d48fd-2829-4dbf-9589-92371a3e091f\" xlink:show=\"new\" xlink:title=\"psysml:ef3d48fd-2829-4dbf-9589-92371a3e091f\" xlink:type=\"simple\"><polygon fill=\"#FFFFFF\" filter=\"url(#f1ftwumztgf1xu)\" points=\"16,6,110,6,117,28.2969,198,28.2969,198,291,16,291,16,6\" style=\"stroke: #000000; stroke-width: 1.5;\"/><line style=\"stroke: #000000; stroke-width: 1.5;\" x1=\"16\" x2=\"117\" y1=\"28.2969\" y2=\"28.2969\"/><text fill=\"#000000\" font-family=\"sans-serif\" font-size=\"14\" font-weight=\"bold\" lengthAdjust=\"spacingAndGlyphs\" textLength=\"88\" x=\"20\" y=\"20.9951\">AliasImport</text></a><!--MD5=[e4f7fae6ed58524ba242bb0b0d3be6b7]\n",
       "cluster E2--><a href=\"psysml:de0d2cc7-98e6-429c-a225-0b1a04e72b17\" target=\"_top\" title=\"psysml:de0d2cc7-98e6-429c-a225-0b1a04e72b17\" xlink:actuate=\"onRequest\" xlink:href=\"psysml:de0d2cc7-98e6-429c-a225-0b1a04e72b17\" xlink:show=\"new\" xlink:title=\"psysml:de0d2cc7-98e6-429c-a225-0b1a04e72b17\" xlink:type=\"simple\"><polygon fill=\"#FFFFFF\" filter=\"url(#f1ftwumztgf1xu)\" points=\"57,170,147,170,154,192.2969,157,192.2969,157,267,57,267,57,170\" style=\"stroke: #000000; stroke-width: 1.5;\"/><line style=\"stroke: #000000; stroke-width: 1.5;\" x1=\"57\" x2=\"154\" y1=\"192.2969\" y2=\"192.2969\"/><text fill=\"#000000\" font-family=\"sans-serif\" font-size=\"14\" font-weight=\"bold\" lengthAdjust=\"spacingAndGlyphs\" textLength=\"84\" x=\"61\" y=\"184.9951\">Definitions</text></a><!--MD5=[f6df4d0ebaf0b5dfb2ced0ae5af7c670]\n",
       "cluster E4--><a href=\"psysml:0db9d317-797a-4865-97e5-5934f0d4a303\" target=\"_top\" title=\"psysml:0db9d317-797a-4865-97e5-5934f0d4a303\" xlink:actuate=\"onRequest\" xlink:href=\"psysml:0db9d317-797a-4865-97e5-5934f0d4a303\" xlink:show=\"new\" xlink:title=\"psysml:0db9d317-797a-4865-97e5-5934f0d4a303\" xlink:type=\"simple\"><polygon fill=\"#FFFFFF\" filter=\"url(#f1ftwumztgf1xu)\" points=\"40,49,104,49,111,71.2969,174,71.2969,174,146,40,146,40,49\" style=\"stroke: #000000; stroke-width: 1.5;\"/><line style=\"stroke: #000000; stroke-width: 1.5;\" x1=\"40\" x2=\"111\" y1=\"71.2969\" y2=\"71.2969\"/><text fill=\"#000000\" font-family=\"sans-serif\" font-size=\"14\" font-weight=\"bold\" lengthAdjust=\"spacingAndGlyphs\" textLength=\"58\" x=\"44\" y=\"63.9951\">Usages</text></a><!--MD5=[09b614a08d8cba4a07c9adeb5e0fee81]\n",
       "class E3--><a href=\"psysml:6a2a8f83-25b7-443f-ad75-cafd3f704077\" target=\"_top\" title=\"psysml:6a2a8f83-25b7-443f-ad75-cafd3f704077\" xlink:actuate=\"onRequest\" xlink:href=\"psysml:6a2a8f83-25b7-443f-ad75-cafd3f704077\" xlink:show=\"new\" xlink:title=\"psysml:6a2a8f83-25b7-443f-ad75-cafd3f704077\" xlink:type=\"simple\"><rect fill=\"#FEFECE\" filter=\"url(#f1ftwumztgf1xu)\" height=\"45.9375\" id=\"E3\" style=\"stroke: #A80036; stroke-width: 1.5;\" width=\"66\" x=\"74\" y=\"205\"/><text fill=\"#000000\" font-family=\"sans-serif\" font-size=\"12\" font-style=\"italic\" lengthAdjust=\"spacingAndGlyphs\" textLength=\"64\" x=\"75\" y=\"221.1387\">«part def»</text><text fill=\"#000000\" font-family=\"sans-serif\" font-size=\"12\" lengthAdjust=\"spacingAndGlyphs\" textLength=\"45\" x=\"84.5\" y=\"235.1074\">Vehicle</text><line style=\"stroke: #A80036; stroke-width: 1.5;\" x1=\"75\" x2=\"139\" y1=\"242.9375\" y2=\"242.9375\"/></a><!--MD5=[270fce915f116d4de14055a7c1d9a0f3]\n",
       "class E5--><a href=\"psysml:ac2a7781-f3a7-4610-aa94-de8fcbc60da2\" target=\"_top\" title=\"psysml:ac2a7781-f3a7-4610-aa94-de8fcbc60da2\" xlink:actuate=\"onRequest\" xlink:href=\"psysml:ac2a7781-f3a7-4610-aa94-de8fcbc60da2\" xlink:show=\"new\" xlink:title=\"psysml:ac2a7781-f3a7-4610-aa94-de8fcbc60da2\" xlink:type=\"simple\"><rect fill=\"#FEFECE\" filter=\"url(#f1ftwumztgf1xu)\" height=\"45.9375\" id=\"E5\" rx=\"10\" ry=\"10\" style=\"stroke: #A80036; stroke-width: 1.5;\" width=\"102\" x=\"56\" y=\"84\"/><text fill=\"#000000\" font-family=\"sans-serif\" font-size=\"12\" font-style=\"italic\" lengthAdjust=\"spacingAndGlyphs\" textLength=\"40\" x=\"87\" y=\"100.1387\">«part»</text><text fill=\"#000000\" font-family=\"sans-serif\" font-size=\"12\" lengthAdjust=\"spacingAndGlyphs\" textLength=\"96\" x=\"59\" y=\"114.1074\">vehicle: Vehicle</text><line style=\"stroke: #A80036; stroke-width: 1.5;\" x1=\"57\" x2=\"157\" y1=\"121.9375\" y2=\"121.9375\"/></a><!--MD5=[e9be52314489bd878ff4c7144b63c9e1]\n",
       "link E5 to E3--><a href=\"psysml:f4b8c599-6f69-4625-a365-4a72ec0c3cc2\" target=\"_top\" title=\"psysml:f4b8c599-6f69-4625-a365-4a72ec0c3cc2\" xlink:actuate=\"onRequest\" xlink:href=\"psysml:f4b8c599-6f69-4625-a365-4a72ec0c3cc2\" xlink:show=\"new\" xlink:title=\"psysml:f4b8c599-6f69-4625-a365-4a72ec0c3cc2\" xlink:type=\"simple\"><path d=\"M107,130.1 C107,145.37 107,166.16 107,184.57 \" fill=\"none\" id=\"E5-&gt;E3\" style=\"stroke: #A80036; stroke-width: 1.0;\"/><polygon fill=\"#FFFFFF\" points=\"107,204.61,100,185.61,114,185.61,107,204.61\" style=\"stroke: #A80036; stroke-width: 1.0;\"/><ellipse cx=\"102\" cy=\"179.91\" fill=\"#A80036\" rx=\"2\" ry=\"2\" style=\"stroke: #A80036; stroke-width: 1.0;\"/><ellipse cx=\"112\" cy=\"179.91\" fill=\"#A80036\" rx=\"2\" ry=\"2\" style=\"stroke: #A80036; stroke-width: 1.0;\"/></a><!--MD5=[c872fac41a21b41c5539069c72e0b8b7]\n",
       "@startuml\r\n",
       "skinparam wrapWidth 300\r\n",
       "hide circle\r\n",
       "\r\n",
       "package \"AliasImport\" as E1  [[psysml:ef3d48fd-2829-4dbf-9589-92371a3e091f ]]  {\r\n",
       "package \"Definitions\" as E2  [[psysml:de0d2cc7-98e6-429c-a225-0b1a04e72b17 ]]  {\r\n",
       "comp def \"Vehicle\" as E3  <<(T,blue) part def>> [[psysml:6a2a8f83-25b7-443f-ad75-cafd3f704077 ]] {\r\n",
       "}\r\n",
       "}\r\n",
       "package \"Usages\" as E4  [[psysml:0db9d317-797a-4865-97e5-5934f0d4a303 ]]  {\r\n",
       "comp usage \"vehicle: Vehicle\" as E5  <<(T,blue) part>> [[psysml:ac2a7781-f3a7-4610-aa94-de8fcbc60da2 ]] {\r\n",
       "}\r\n",
       "E5 - -:|> E3 [[psysml:f4b8c599-6f69-4625-a365-4a72ec0c3cc2 ]] \r\n",
       "}\r\n",
       "}\r\n",
       "@enduml\r\n",
       "\n",
       "PlantUML version 1.2020.13(Sat Jun 13 12:26:38 UTC 2020)\n",
       "(EPL source distribution)\n",
       "Java Runtime: OpenJDK Runtime Environment\n",
       "JVM: OpenJDK 64-Bit Server VM\n",
       "Default Encoding: UTF-8\n",
       "Language: en\n",
       "Country: null\n",
       "--></g></svg>"
      ]
     },
     "execution_count": 29,
     "metadata": {},
     "output_type": "execute_result"
    }
   ],
   "source": [
    "%viz --style=\"STDCOLOR\" --view=\"MIXED\" \"AliasImport\""
   ]
  },
  {
   "cell_type": "code",
   "execution_count": 30,
   "id": "437039e6",
   "metadata": {
    "execution": {
     "iopub.execute_input": "2021-08-04T06:25:41.842775Z",
     "iopub.status.busy": "2021-08-04T06:25:41.842345Z",
     "iopub.status.idle": "2021-08-04T06:25:41.890339Z",
     "shell.execute_reply": "2021-08-04T06:25:41.890021Z"
    }
   },
   "outputs": [
    {
     "data": {
      "image/svg+xml": [
       "<?xml version=\"1.0\" encoding=\"UTF-8\" standalone=\"no\"?><svg xmlns=\"http://www.w3.org/2000/svg\" xmlns:xlink=\"http://www.w3.org/1999/xlink\" contentScriptType=\"application/ecmascript\" contentStyleType=\"text/css\" height=\"297px\" preserveAspectRatio=\"none\" style=\"width:246px;height:297px;\" version=\"1.1\" viewBox=\"0 0 246 297\" width=\"246px\" zoomAndPan=\"magnify\"><defs><filter height=\"300%\" id=\"fseag6227tqw0\" width=\"300%\" x=\"-1\" y=\"-1\"><feGaussianBlur result=\"blurOut\" stdDeviation=\"2.0\"/><feColorMatrix in=\"blurOut\" result=\"blurOut2\" type=\"matrix\" values=\"0 0 0 0 0 0 0 0 0 0 0 0 0 0 0 0 0 0 .4 0\"/><feOffset dx=\"4.0\" dy=\"4.0\" in=\"blurOut2\" result=\"blurOut3\"/><feBlend in=\"SourceGraphic\" in2=\"blurOut3\" mode=\"normal\"/></filter></defs><g><!--MD5=[fbc87193dbaf4d95561dea2c320d4a47]\n",
       "cluster E1--><a href=\"psysml:ef3d48fd-2829-4dbf-9589-92371a3e091f\" target=\"_top\" title=\"psysml:ef3d48fd-2829-4dbf-9589-92371a3e091f\" xlink:actuate=\"onRequest\" xlink:href=\"psysml:ef3d48fd-2829-4dbf-9589-92371a3e091f\" xlink:show=\"new\" xlink:title=\"psysml:ef3d48fd-2829-4dbf-9589-92371a3e091f\" xlink:type=\"simple\"><polygon fill=\"#FFFFFF\" filter=\"url(#fseag6227tqw0)\" points=\"16,6,110,6,117,28.2969,224,28.2969,224,285,16,285,16,6\" style=\"stroke: #000000; stroke-width: 1.5;\"/><line style=\"stroke: #000000; stroke-width: 1.5;\" x1=\"16\" x2=\"117\" y1=\"28.2969\" y2=\"28.2969\"/><text fill=\"#000000\" font-family=\"sans-serif\" font-size=\"14\" font-weight=\"bold\" lengthAdjust=\"spacingAndGlyphs\" textLength=\"88\" x=\"20\" y=\"20.9951\">AliasImport</text></a><!--MD5=[e4f7fae6ed58524ba242bb0b0d3be6b7]\n",
       "cluster E2--><a href=\"psysml:de0d2cc7-98e6-429c-a225-0b1a04e72b17\" target=\"_top\" title=\"psysml:de0d2cc7-98e6-429c-a225-0b1a04e72b17\" xlink:actuate=\"onRequest\" xlink:href=\"psysml:de0d2cc7-98e6-429c-a225-0b1a04e72b17\" xlink:show=\"new\" xlink:title=\"psysml:de0d2cc7-98e6-429c-a225-0b1a04e72b17\" xlink:type=\"simple\"><polygon fill=\"#FFFFFF\" filter=\"url(#fseag6227tqw0)\" points=\"65,170,155,170,162,192.2969,175,192.2969,175,261,65,261,65,170\" style=\"stroke: #000000; stroke-width: 1.5;\"/><line style=\"stroke: #000000; stroke-width: 1.5;\" x1=\"65\" x2=\"162\" y1=\"192.2969\" y2=\"192.2969\"/><text fill=\"#000000\" font-family=\"sans-serif\" font-size=\"14\" font-weight=\"bold\" lengthAdjust=\"spacingAndGlyphs\" textLength=\"84\" x=\"69\" y=\"184.9951\">Definitions</text></a><!--MD5=[f6df4d0ebaf0b5dfb2ced0ae5af7c670]\n",
       "cluster E4--><a href=\"psysml:0db9d317-797a-4865-97e5-5934f0d4a303\" target=\"_top\" title=\"psysml:0db9d317-797a-4865-97e5-5934f0d4a303\" xlink:actuate=\"onRequest\" xlink:href=\"psysml:0db9d317-797a-4865-97e5-5934f0d4a303\" xlink:show=\"new\" xlink:title=\"psysml:0db9d317-797a-4865-97e5-5934f0d4a303\" xlink:type=\"simple\"><polygon fill=\"#FFFFFF\" filter=\"url(#fseag6227tqw0)\" points=\"40,49,104,49,111,71.2969,200,71.2969,200,146,40,146,40,49\" style=\"stroke: #000000; stroke-width: 1.5;\"/><line style=\"stroke: #000000; stroke-width: 1.5;\" x1=\"40\" x2=\"111\" y1=\"71.2969\" y2=\"71.2969\"/><text fill=\"#000000\" font-family=\"sans-serif\" font-size=\"14\" font-weight=\"bold\" lengthAdjust=\"spacingAndGlyphs\" textLength=\"58\" x=\"44\" y=\"63.9951\">Usages</text></a><!--MD5=[09b614a08d8cba4a07c9adeb5e0fee81]\n",
       "class E3--><a href=\"psysml:6a2a8f83-25b7-443f-ad75-cafd3f704077\" target=\"_top\" title=\"psysml:6a2a8f83-25b7-443f-ad75-cafd3f704077\" xlink:actuate=\"onRequest\" xlink:href=\"psysml:6a2a8f83-25b7-443f-ad75-cafd3f704077\" xlink:show=\"new\" xlink:title=\"psysml:6a2a8f83-25b7-443f-ad75-cafd3f704077\" xlink:type=\"simple\"><rect fill=\"#FEFECE\" filter=\"url(#fseag6227tqw0)\" height=\"40\" id=\"E3\" style=\"stroke: #A80036; stroke-width: 1.5;\" width=\"77\" x=\"81.5\" y=\"205\"/><ellipse cx=\"96.5\" cy=\"221\" fill=\"#008000\" rx=\"11\" ry=\"11\" style=\"stroke: #A80036; stroke-width: 1.0;\"/><path d=\"M95.4063,221.375 L95.4063,225.0469 L97.0313,225.0469 Q98.2031,225.0469 98.6719,224.6563 Q99.1406,224.25 99.1406,223.25 Q99.1406,222.25 98.6406,221.8125 Q98.1563,221.375 97.0313,221.375 L95.4063,221.375 Z M95.4063,216.5469 L95.4063,219.4219 L97.0313,219.4219 Q97.9531,219.4219 98.3438,219.0938 Q98.75,218.75 98.75,218 Q98.75,217.2344 98.3438,216.8906 Q97.9375,216.5469 97.0313,216.5469 L95.4063,216.5469 Z M93.0313,214.5938 L97.0313,214.5938 Q99.0938,214.5938 100.1406,215.375 Q101.1875,216.1563 101.1875,217.7188 Q101.1875,218.9219 100.5625,219.5938 Q99.9531,220.2656 98.7656,220.375 Q100.1875,220.5156 100.9063,221.3281 Q101.625,222.1406 101.625,223.5938 Q101.625,225.3906 100.5469,226.2031 Q99.4688,227 97.0313,227 L93.0313,227 L93.0313,214.5938 Z \"/><text fill=\"#000000\" font-family=\"sans-serif\" font-size=\"12\" lengthAdjust=\"spacingAndGlyphs\" textLength=\"45\" x=\"110.5\" y=\"225.1543\">Vehicle</text><line style=\"stroke: #A80036; stroke-width: 1.5;\" x1=\"82.5\" x2=\"157.5\" y1=\"237\" y2=\"237\"/></a><!--MD5=[270fce915f116d4de14055a7c1d9a0f3]\n",
       "class E5--><a href=\"psysml:ac2a7781-f3a7-4610-aa94-de8fcbc60da2\" target=\"_top\" title=\"psysml:ac2a7781-f3a7-4610-aa94-de8fcbc60da2\" xlink:actuate=\"onRequest\" xlink:href=\"psysml:ac2a7781-f3a7-4610-aa94-de8fcbc60da2\" xlink:show=\"new\" xlink:title=\"psysml:ac2a7781-f3a7-4610-aa94-de8fcbc60da2\" xlink:type=\"simple\"><rect fill=\"#FEFECE\" filter=\"url(#fseag6227tqw0)\" height=\"45.9375\" id=\"E5\" rx=\"10\" ry=\"10\" style=\"stroke: #A80036; stroke-width: 1.5;\" width=\"128\" x=\"56\" y=\"84\"/><ellipse cx=\"71\" cy=\"102.9688\" fill=\"#32CD32\" rx=\"11\" ry=\"11\" style=\"stroke: #A80036; stroke-width: 1.0;\"/><path d=\"M70.7969,98.6406 L70.7969,102.2656 L71.7969,102.2656 Q73,102.2656 73.4844,101.8594 Q73.9688,101.4531 73.9688,100.4531 Q73.9688,99.4531 73.4844,99.0469 Q73,98.6406 71.7969,98.6406 L70.7969,98.6406 Z M68.3438,96.5781 L71.7031,96.5781 Q74.2656,96.5781 75.3906,97.5 Q76.5156,98.4063 76.5156,100.4531 Q76.5156,102.5 75.3906,103.4219 Q74.2656,104.3281 71.7031,104.3281 L70.7969,104.3281 L70.7969,108.9688 L68.3438,108.9688 L68.3438,96.5781 Z \"/><text fill=\"#000000\" font-family=\"sans-serif\" font-size=\"12\" font-style=\"italic\" lengthAdjust=\"spacingAndGlyphs\" textLength=\"40\" x=\"113\" y=\"100.1387\">«part»</text><text fill=\"#000000\" font-family=\"sans-serif\" font-size=\"12\" lengthAdjust=\"spacingAndGlyphs\" textLength=\"96\" x=\"85\" y=\"114.1074\">vehicle: Vehicle</text><line style=\"stroke: #A80036; stroke-width: 1.5;\" x1=\"57\" x2=\"183\" y1=\"121.9375\" y2=\"121.9375\"/></a><!--MD5=[e9be52314489bd878ff4c7144b63c9e1]\n",
       "link E5 to E3--><a href=\"psysml:f4b8c599-6f69-4625-a365-4a72ec0c3cc2\" target=\"_top\" title=\"psysml:f4b8c599-6f69-4625-a365-4a72ec0c3cc2\" xlink:actuate=\"onRequest\" xlink:href=\"psysml:f4b8c599-6f69-4625-a365-4a72ec0c3cc2\" xlink:show=\"new\" xlink:title=\"psysml:f4b8c599-6f69-4625-a365-4a72ec0c3cc2\" xlink:type=\"simple\"><path d=\"M120,130.09 C120,145.42 120,166.27 120,184.42 \" fill=\"none\" id=\"E5-&gt;E3\" style=\"stroke: #A80036; stroke-width: 1.0;\"/><polygon fill=\"#FFFFFF\" points=\"120,204.69,113,185.69,127,185.69,120,204.69\" style=\"stroke: #A80036; stroke-width: 1.0;\"/><ellipse cx=\"115\" cy=\"179.99\" fill=\"#A80036\" rx=\"2\" ry=\"2\" style=\"stroke: #A80036; stroke-width: 1.0;\"/><ellipse cx=\"125\" cy=\"179.99\" fill=\"#A80036\" rx=\"2\" ry=\"2\" style=\"stroke: #A80036; stroke-width: 1.0;\"/></a><!--MD5=[88397ed86d7dd94b1e8bc40e6d6990ad]\n",
       "@startuml\r\n",
       " \r\n",
       "package \"AliasImport\" as E1  [[psysml:ef3d48fd-2829-4dbf-9589-92371a3e091f ]]  {\r\n",
       "package \"Definitions\" as E2  [[psysml:de0d2cc7-98e6-429c-a225-0b1a04e72b17 ]]  {\r\n",
       "comp def \"Vehicle\" as E3 << << (B,green) >> [[psysml:6a2a8f83-25b7-443f-ad75-cafd3f704077 ]] {\r\n",
       "}\r\n",
       "}\r\n",
       "package \"Usages\" as E4  [[psysml:0db9d317-797a-4865-97e5-5934f0d4a303 ]]  {\r\n",
       "comp usage \"vehicle: Vehicle\" as E5 << << (P,limegreen) part>> [[psysml:ac2a7781-f3a7-4610-aa94-de8fcbc60da2 ]] {\r\n",
       "}\r\n",
       "E5 - -:|> E3 [[psysml:f4b8c599-6f69-4625-a365-4a72ec0c3cc2 ]] \r\n",
       "}\r\n",
       "}\r\n",
       "@enduml\r\n",
       "\n",
       "PlantUML version 1.2020.13(Sat Jun 13 12:26:38 UTC 2020)\n",
       "(EPL source distribution)\n",
       "Java Runtime: OpenJDK Runtime Environment\n",
       "JVM: OpenJDK 64-Bit Server VM\n",
       "Default Encoding: UTF-8\n",
       "Language: en\n",
       "Country: null\n",
       "--></g></svg>"
      ]
     },
     "execution_count": 30,
     "metadata": {},
     "output_type": "execute_result"
    }
   ],
   "source": [
    "%viz --style=\"PLANTUML\" --view=\"Default\" \"AliasImport\""
   ]
  },
  {
   "cell_type": "code",
   "execution_count": 31,
   "id": "b9399fbb",
   "metadata": {
    "execution": {
     "iopub.execute_input": "2021-08-04T06:25:41.940441Z",
     "iopub.status.busy": "2021-08-04T06:25:41.939971Z",
     "iopub.status.idle": "2021-08-04T06:25:41.960415Z",
     "shell.execute_reply": "2021-08-04T06:25:41.960051Z"
    }
   },
   "outputs": [
    {
     "data": {
      "image/svg+xml": [
       "<?xml version=\"1.0\" encoding=\"UTF-8\" standalone=\"no\"?><svg xmlns=\"http://www.w3.org/2000/svg\" xmlns:xlink=\"http://www.w3.org/1999/xlink\" contentScriptType=\"application/ecmascript\" contentStyleType=\"text/css\" height=\"297px\" preserveAspectRatio=\"none\" style=\"width:246px;height:297px;\" version=\"1.1\" viewBox=\"0 0 246 297\" width=\"246px\" zoomAndPan=\"magnify\"><defs><filter height=\"300%\" id=\"fseag6227tqw0\" width=\"300%\" x=\"-1\" y=\"-1\"><feGaussianBlur result=\"blurOut\" stdDeviation=\"2.0\"/><feColorMatrix in=\"blurOut\" result=\"blurOut2\" type=\"matrix\" values=\"0 0 0 0 0 0 0 0 0 0 0 0 0 0 0 0 0 0 .4 0\"/><feOffset dx=\"4.0\" dy=\"4.0\" in=\"blurOut2\" result=\"blurOut3\"/><feBlend in=\"SourceGraphic\" in2=\"blurOut3\" mode=\"normal\"/></filter></defs><g><!--MD5=[fbc87193dbaf4d95561dea2c320d4a47]\n",
       "cluster E1--><a href=\"psysml:ef3d48fd-2829-4dbf-9589-92371a3e091f\" target=\"_top\" title=\"psysml:ef3d48fd-2829-4dbf-9589-92371a3e091f\" xlink:actuate=\"onRequest\" xlink:href=\"psysml:ef3d48fd-2829-4dbf-9589-92371a3e091f\" xlink:show=\"new\" xlink:title=\"psysml:ef3d48fd-2829-4dbf-9589-92371a3e091f\" xlink:type=\"simple\"><polygon fill=\"#FFFFFF\" filter=\"url(#fseag6227tqw0)\" points=\"16,6,110,6,117,28.2969,224,28.2969,224,285,16,285,16,6\" style=\"stroke: #000000; stroke-width: 1.5;\"/><line style=\"stroke: #000000; stroke-width: 1.5;\" x1=\"16\" x2=\"117\" y1=\"28.2969\" y2=\"28.2969\"/><text fill=\"#000000\" font-family=\"sans-serif\" font-size=\"14\" font-weight=\"bold\" lengthAdjust=\"spacingAndGlyphs\" textLength=\"88\" x=\"20\" y=\"20.9951\">AliasImport</text></a><!--MD5=[e4f7fae6ed58524ba242bb0b0d3be6b7]\n",
       "cluster E2--><a href=\"psysml:de0d2cc7-98e6-429c-a225-0b1a04e72b17\" target=\"_top\" title=\"psysml:de0d2cc7-98e6-429c-a225-0b1a04e72b17\" xlink:actuate=\"onRequest\" xlink:href=\"psysml:de0d2cc7-98e6-429c-a225-0b1a04e72b17\" xlink:show=\"new\" xlink:title=\"psysml:de0d2cc7-98e6-429c-a225-0b1a04e72b17\" xlink:type=\"simple\"><polygon fill=\"#FFFFFF\" filter=\"url(#fseag6227tqw0)\" points=\"65,170,155,170,162,192.2969,175,192.2969,175,261,65,261,65,170\" style=\"stroke: #000000; stroke-width: 1.5;\"/><line style=\"stroke: #000000; stroke-width: 1.5;\" x1=\"65\" x2=\"162\" y1=\"192.2969\" y2=\"192.2969\"/><text fill=\"#000000\" font-family=\"sans-serif\" font-size=\"14\" font-weight=\"bold\" lengthAdjust=\"spacingAndGlyphs\" textLength=\"84\" x=\"69\" y=\"184.9951\">Definitions</text></a><!--MD5=[f6df4d0ebaf0b5dfb2ced0ae5af7c670]\n",
       "cluster E4--><a href=\"psysml:0db9d317-797a-4865-97e5-5934f0d4a303\" target=\"_top\" title=\"psysml:0db9d317-797a-4865-97e5-5934f0d4a303\" xlink:actuate=\"onRequest\" xlink:href=\"psysml:0db9d317-797a-4865-97e5-5934f0d4a303\" xlink:show=\"new\" xlink:title=\"psysml:0db9d317-797a-4865-97e5-5934f0d4a303\" xlink:type=\"simple\"><polygon fill=\"#FFFFFF\" filter=\"url(#fseag6227tqw0)\" points=\"40,49,104,49,111,71.2969,200,71.2969,200,146,40,146,40,49\" style=\"stroke: #000000; stroke-width: 1.5;\"/><line style=\"stroke: #000000; stroke-width: 1.5;\" x1=\"40\" x2=\"111\" y1=\"71.2969\" y2=\"71.2969\"/><text fill=\"#000000\" font-family=\"sans-serif\" font-size=\"14\" font-weight=\"bold\" lengthAdjust=\"spacingAndGlyphs\" textLength=\"58\" x=\"44\" y=\"63.9951\">Usages</text></a><!--MD5=[09b614a08d8cba4a07c9adeb5e0fee81]\n",
       "class E3--><a href=\"psysml:6a2a8f83-25b7-443f-ad75-cafd3f704077\" target=\"_top\" title=\"psysml:6a2a8f83-25b7-443f-ad75-cafd3f704077\" xlink:actuate=\"onRequest\" xlink:href=\"psysml:6a2a8f83-25b7-443f-ad75-cafd3f704077\" xlink:show=\"new\" xlink:title=\"psysml:6a2a8f83-25b7-443f-ad75-cafd3f704077\" xlink:type=\"simple\"><rect fill=\"#FEFECE\" filter=\"url(#fseag6227tqw0)\" height=\"40\" id=\"E3\" style=\"stroke: #A80036; stroke-width: 1.5;\" width=\"77\" x=\"81.5\" y=\"205\"/><ellipse cx=\"96.5\" cy=\"221\" fill=\"#008000\" rx=\"11\" ry=\"11\" style=\"stroke: #A80036; stroke-width: 1.0;\"/><path d=\"M95.4063,221.375 L95.4063,225.0469 L97.0313,225.0469 Q98.2031,225.0469 98.6719,224.6563 Q99.1406,224.25 99.1406,223.25 Q99.1406,222.25 98.6406,221.8125 Q98.1563,221.375 97.0313,221.375 L95.4063,221.375 Z M95.4063,216.5469 L95.4063,219.4219 L97.0313,219.4219 Q97.9531,219.4219 98.3438,219.0938 Q98.75,218.75 98.75,218 Q98.75,217.2344 98.3438,216.8906 Q97.9375,216.5469 97.0313,216.5469 L95.4063,216.5469 Z M93.0313,214.5938 L97.0313,214.5938 Q99.0938,214.5938 100.1406,215.375 Q101.1875,216.1563 101.1875,217.7188 Q101.1875,218.9219 100.5625,219.5938 Q99.9531,220.2656 98.7656,220.375 Q100.1875,220.5156 100.9063,221.3281 Q101.625,222.1406 101.625,223.5938 Q101.625,225.3906 100.5469,226.2031 Q99.4688,227 97.0313,227 L93.0313,227 L93.0313,214.5938 Z \"/><text fill=\"#000000\" font-family=\"sans-serif\" font-size=\"12\" lengthAdjust=\"spacingAndGlyphs\" textLength=\"45\" x=\"110.5\" y=\"225.1543\">Vehicle</text><line style=\"stroke: #A80036; stroke-width: 1.5;\" x1=\"82.5\" x2=\"157.5\" y1=\"237\" y2=\"237\"/></a><!--MD5=[270fce915f116d4de14055a7c1d9a0f3]\n",
       "class E5--><a href=\"psysml:ac2a7781-f3a7-4610-aa94-de8fcbc60da2\" target=\"_top\" title=\"psysml:ac2a7781-f3a7-4610-aa94-de8fcbc60da2\" xlink:actuate=\"onRequest\" xlink:href=\"psysml:ac2a7781-f3a7-4610-aa94-de8fcbc60da2\" xlink:show=\"new\" xlink:title=\"psysml:ac2a7781-f3a7-4610-aa94-de8fcbc60da2\" xlink:type=\"simple\"><rect fill=\"#FEFECE\" filter=\"url(#fseag6227tqw0)\" height=\"45.9375\" id=\"E5\" rx=\"10\" ry=\"10\" style=\"stroke: #A80036; stroke-width: 1.5;\" width=\"128\" x=\"56\" y=\"84\"/><ellipse cx=\"71\" cy=\"102.9688\" fill=\"#32CD32\" rx=\"11\" ry=\"11\" style=\"stroke: #A80036; stroke-width: 1.0;\"/><path d=\"M70.7969,98.6406 L70.7969,102.2656 L71.7969,102.2656 Q73,102.2656 73.4844,101.8594 Q73.9688,101.4531 73.9688,100.4531 Q73.9688,99.4531 73.4844,99.0469 Q73,98.6406 71.7969,98.6406 L70.7969,98.6406 Z M68.3438,96.5781 L71.7031,96.5781 Q74.2656,96.5781 75.3906,97.5 Q76.5156,98.4063 76.5156,100.4531 Q76.5156,102.5 75.3906,103.4219 Q74.2656,104.3281 71.7031,104.3281 L70.7969,104.3281 L70.7969,108.9688 L68.3438,108.9688 L68.3438,96.5781 Z \"/><text fill=\"#000000\" font-family=\"sans-serif\" font-size=\"12\" font-style=\"italic\" lengthAdjust=\"spacingAndGlyphs\" textLength=\"40\" x=\"113\" y=\"100.1387\">«part»</text><text fill=\"#000000\" font-family=\"sans-serif\" font-size=\"12\" lengthAdjust=\"spacingAndGlyphs\" textLength=\"96\" x=\"85\" y=\"114.1074\">vehicle: Vehicle</text><line style=\"stroke: #A80036; stroke-width: 1.5;\" x1=\"57\" x2=\"183\" y1=\"121.9375\" y2=\"121.9375\"/></a><!--MD5=[e9be52314489bd878ff4c7144b63c9e1]\n",
       "link E5 to E3--><a href=\"psysml:f4b8c599-6f69-4625-a365-4a72ec0c3cc2\" target=\"_top\" title=\"psysml:f4b8c599-6f69-4625-a365-4a72ec0c3cc2\" xlink:actuate=\"onRequest\" xlink:href=\"psysml:f4b8c599-6f69-4625-a365-4a72ec0c3cc2\" xlink:show=\"new\" xlink:title=\"psysml:f4b8c599-6f69-4625-a365-4a72ec0c3cc2\" xlink:type=\"simple\"><path d=\"M120,130.09 C120,145.42 120,166.27 120,184.42 \" fill=\"none\" id=\"E5-&gt;E3\" style=\"stroke: #A80036; stroke-width: 1.0;\"/><polygon fill=\"#FFFFFF\" points=\"120,204.69,113,185.69,127,185.69,120,204.69\" style=\"stroke: #A80036; stroke-width: 1.0;\"/><ellipse cx=\"115\" cy=\"179.99\" fill=\"#A80036\" rx=\"2\" ry=\"2\" style=\"stroke: #A80036; stroke-width: 1.0;\"/><ellipse cx=\"125\" cy=\"179.99\" fill=\"#A80036\" rx=\"2\" ry=\"2\" style=\"stroke: #A80036; stroke-width: 1.0;\"/></a><!--MD5=[88397ed86d7dd94b1e8bc40e6d6990ad]\n",
       "@startuml\r\n",
       " \r\n",
       "package \"AliasImport\" as E1  [[psysml:ef3d48fd-2829-4dbf-9589-92371a3e091f ]]  {\r\n",
       "package \"Definitions\" as E2  [[psysml:de0d2cc7-98e6-429c-a225-0b1a04e72b17 ]]  {\r\n",
       "comp def \"Vehicle\" as E3 << << (B,green) >> [[psysml:6a2a8f83-25b7-443f-ad75-cafd3f704077 ]] {\r\n",
       "}\r\n",
       "}\r\n",
       "package \"Usages\" as E4  [[psysml:0db9d317-797a-4865-97e5-5934f0d4a303 ]]  {\r\n",
       "comp usage \"vehicle: Vehicle\" as E5 << << (P,limegreen) part>> [[psysml:ac2a7781-f3a7-4610-aa94-de8fcbc60da2 ]] {\r\n",
       "}\r\n",
       "E5 - -:|> E3 [[psysml:f4b8c599-6f69-4625-a365-4a72ec0c3cc2 ]] \r\n",
       "}\r\n",
       "}\r\n",
       "@enduml\r\n",
       "\n",
       "PlantUML version 1.2020.13(Sat Jun 13 12:26:38 UTC 2020)\n",
       "(EPL source distribution)\n",
       "Java Runtime: OpenJDK Runtime Environment\n",
       "JVM: OpenJDK 64-Bit Server VM\n",
       "Default Encoding: UTF-8\n",
       "Language: en\n",
       "Country: null\n",
       "--></g></svg>"
      ]
     },
     "execution_count": 31,
     "metadata": {},
     "output_type": "execute_result"
    }
   ],
   "source": [
    "%viz --style=\"PLANTUML\" --view=\"Tree\" \"AliasImport\""
   ]
  },
  {
   "cell_type": "code",
   "execution_count": 32,
   "id": "8ebf8a04",
   "metadata": {
    "execution": {
     "iopub.execute_input": "2021-08-04T06:25:42.010031Z",
     "iopub.status.busy": "2021-08-04T06:25:42.009606Z",
     "iopub.status.idle": "2021-08-04T06:25:42.066685Z",
     "shell.execute_reply": "2021-08-04T06:25:42.066319Z"
    }
   },
   "outputs": [
    {
     "data": {
      "image/svg+xml": [
       "<?xml version=\"1.0\" encoding=\"UTF-8\" standalone=\"no\"?><svg xmlns=\"http://www.w3.org/2000/svg\" xmlns:xlink=\"http://www.w3.org/1999/xlink\" contentScriptType=\"application/ecmascript\" contentStyleType=\"text/css\" height=\"303px\" preserveAspectRatio=\"none\" style=\"width:603px;height:303px;background:#000000;\" version=\"1.1\" viewBox=\"0 0 603 303\" width=\"603px\" zoomAndPan=\"magnify\"><defs/><g><rect fill=\"#251E11\" height=\"1\" style=\"stroke: #251E11; stroke-width: 1.0;\" width=\"1\" x=\"0\" y=\"0\"/><rect fill=\"#FFFFFF\" height=\"205.5625\" style=\"stroke: #FFFFFF; stroke-width: 1.0;\" width=\"602\" x=\"0\" y=\"0\"/><text fill=\"#000000\" font-family=\"sans-serif\" font-size=\"12\" font-weight=\"bold\" lengthAdjust=\"spacingAndGlyphs\" textLength=\"159\" x=\"5\" y=\"16.1387\">Welcome to PlantUML!</text><text fill=\"#000000\" font-family=\"sans-serif\" font-size=\"12\" lengthAdjust=\"spacingAndGlyphs\" textLength=\"0\" x=\"9\" y=\"30.1074\"/><text fill=\"#000000\" font-family=\"sans-serif\" font-size=\"12\" lengthAdjust=\"spacingAndGlyphs\" textLength=\"293\" x=\"5\" y=\"44.0762\">If you use this software, you accept its license.</text><text fill=\"#000000\" font-family=\"sans-serif\" font-size=\"12\" lengthAdjust=\"spacingAndGlyphs\" textLength=\"107\" x=\"5\" y=\"58.0449\">(details by typing</text><text fill=\"#000000\" font-family=\"monospace\" font-size=\"12\" lengthAdjust=\"spacingAndGlyphs\" textLength=\"49\" x=\"116\" y=\"58.0449\">license</text><text fill=\"#000000\" font-family=\"sans-serif\" font-size=\"12\" lengthAdjust=\"spacingAndGlyphs\" textLength=\"56\" x=\"169\" y=\"58.0449\">keyword)</text><text fill=\"#000000\" font-family=\"sans-serif\" font-size=\"12\" lengthAdjust=\"spacingAndGlyphs\" textLength=\"0\" x=\"9\" y=\"72.0137\"/><text fill=\"#000000\" font-family=\"sans-serif\" font-size=\"12\" lengthAdjust=\"spacingAndGlyphs\" textLength=\"283\" x=\"5\" y=\"85.9824\">You can start with a simple UML Diagram like:</text><text fill=\"#000000\" font-family=\"sans-serif\" font-size=\"12\" lengthAdjust=\"spacingAndGlyphs\" textLength=\"0\" x=\"9\" y=\"99.9512\"/><text fill=\"#000000\" font-family=\"monospace\" font-size=\"12\" lengthAdjust=\"spacingAndGlyphs\" textLength=\"119\" x=\"5\" y=\"113.9199\">Bob-&gt;Alice: Hello</text><text fill=\"#000000\" font-family=\"sans-serif\" font-size=\"12\" lengthAdjust=\"spacingAndGlyphs\" textLength=\"0\" x=\"9\" y=\"127.8887\"/><text fill=\"#000000\" font-family=\"sans-serif\" font-size=\"12\" lengthAdjust=\"spacingAndGlyphs\" textLength=\"14\" x=\"5\" y=\"141.8574\">Or</text><text fill=\"#000000\" font-family=\"sans-serif\" font-size=\"12\" lengthAdjust=\"spacingAndGlyphs\" textLength=\"0\" x=\"9\" y=\"155.8262\"/><text fill=\"#000000\" font-family=\"monospace\" font-size=\"12\" lengthAdjust=\"spacingAndGlyphs\" textLength=\"91\" x=\"5\" y=\"169.7949\">class Example</text><text fill=\"#000000\" font-family=\"sans-serif\" font-size=\"12\" lengthAdjust=\"spacingAndGlyphs\" textLength=\"0\" x=\"9\" y=\"183.7637\"/><text fill=\"#000000\" font-family=\"sans-serif\" font-size=\"12\" lengthAdjust=\"spacingAndGlyphs\" textLength=\"349\" x=\"5\" y=\"197.7324\">You will find more information about PlantUML syntax on</text><text fill=\"#000000\" font-family=\"sans-serif\" font-size=\"12\" lengthAdjust=\"spacingAndGlyphs\" text-decoration=\"underline\" textLength=\"129\" x=\"358\" y=\"197.7324\">https://plantuml.com</text><image height=\"71\" width=\"80\" x=\"516\" xlink:href=\"data:image/png;base64,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\" y=\"6\"/><rect fill=\"#000000\" height=\"96.4844\" style=\"stroke: #000000; stroke-width: 1.0;\" width=\"602\" x=\"0\" y=\"205.5625\"/><rect fill=\"#33FF02\" height=\"21.2969\" style=\"stroke: #33FF02; stroke-width: 1.0;\" width=\"170\" x=\"5\" y=\"210.5625\"/><text fill=\"#000000\" font-family=\"sans-serif\" font-size=\"14\" font-weight=\"bold\" lengthAdjust=\"spacingAndGlyphs\" textLength=\"168\" x=\"6\" y=\"225.5625\">[From string (line 2) ]</text><text fill=\"#33FF02\" font-family=\"sans-serif\" font-size=\"14\" font-weight=\"bold\" lengthAdjust=\"spacingAndGlyphs\" textLength=\"0\" x=\"10\" y=\"245.8594\"/><text fill=\"#33FF02\" font-family=\"sans-serif\" font-size=\"14\" font-weight=\"bold\" lengthAdjust=\"spacingAndGlyphs\" textLength=\"79\" x=\"5\" y=\"262.1563\">@startuml</text><text fill=\"#33FF02\" font-family=\"sans-serif\" font-size=\"14\" font-weight=\"bold\" lengthAdjust=\"spacingAndGlyphs\" textLength=\"0\" x=\"10\" y=\"278.4531\"/><text fill=\"#FF0000\" font-family=\"sans-serif\" font-size=\"14\" font-weight=\"bold\" lengthAdjust=\"spacingAndGlyphs\" textLength=\"142\" x=\"10\" y=\"294.75\">Empty description</text><!--MD5=[f59edd8218d337f74d0c332fc6737304]\n",
       "@startuml\r\n",
       " \r\n",
       "@enduml\r\n",
       "\n",
       "PlantUML version 1.2020.13(Sat Jun 13 12:26:38 UTC 2020)\n",
       "(EPL source distribution)\n",
       "Java Runtime: OpenJDK Runtime Environment\n",
       "JVM: OpenJDK 64-Bit Server VM\n",
       "Default Encoding: UTF-8\n",
       "Language: en\n",
       "Country: null\n",
       "--></g></svg>"
      ]
     },
     "execution_count": 32,
     "metadata": {},
     "output_type": "execute_result"
    }
   ],
   "source": [
    "%viz --style=\"PLANTUML\" --view=\"State\" \"AliasImport\""
   ]
  },
  {
   "cell_type": "code",
   "execution_count": 33,
   "id": "17676df6",
   "metadata": {
    "execution": {
     "iopub.execute_input": "2021-08-04T06:25:42.116305Z",
     "iopub.status.busy": "2021-08-04T06:25:42.115865Z",
     "iopub.status.idle": "2021-08-04T06:25:42.136608Z",
     "shell.execute_reply": "2021-08-04T06:25:42.136203Z"
    }
   },
   "outputs": [
    {
     "data": {
      "image/svg+xml": [
       "<?xml version=\"1.0\" encoding=\"UTF-8\" standalone=\"no\"?><svg xmlns=\"http://www.w3.org/2000/svg\" xmlns:xlink=\"http://www.w3.org/1999/xlink\" contentScriptType=\"application/ecmascript\" contentStyleType=\"text/css\" height=\"176px\" preserveAspectRatio=\"none\" style=\"width:507px;height:176px;\" version=\"1.1\" viewBox=\"0 0 507 176\" width=\"507px\" zoomAndPan=\"magnify\"><defs><filter height=\"300%\" id=\"f1jxk2bhiqcvu8\" width=\"300%\" x=\"-1\" y=\"-1\"><feGaussianBlur result=\"blurOut\" stdDeviation=\"2.0\"/><feColorMatrix in=\"blurOut\" result=\"blurOut2\" type=\"matrix\" values=\"0 0 0 0 0 0 0 0 0 0 0 0 0 0 0 0 0 0 .4 0\"/><feOffset dx=\"4.0\" dy=\"4.0\" in=\"blurOut2\" result=\"blurOut3\"/><feBlend in=\"SourceGraphic\" in2=\"blurOut3\" mode=\"normal\"/></filter></defs><g><!--MD5=[fbc87193dbaf4d95561dea2c320d4a47]\n",
       "cluster E1--><a href=\"psysml:ef3d48fd-2829-4dbf-9589-92371a3e091f\" target=\"_top\" title=\"psysml:ef3d48fd-2829-4dbf-9589-92371a3e091f\" xlink:actuate=\"onRequest\" xlink:href=\"psysml:ef3d48fd-2829-4dbf-9589-92371a3e091f\" xlink:show=\"new\" xlink:title=\"psysml:ef3d48fd-2829-4dbf-9589-92371a3e091f\" xlink:type=\"simple\"><polygon fill=\"#FFFFFF\" filter=\"url(#f1jxk2bhiqcvu8)\" points=\"16,6,110,6,117,28.2969,485,28.2969,485,164,16,164,16,6\" style=\"stroke: #000000; stroke-width: 1.5;\"/><line style=\"stroke: #000000; stroke-width: 1.5;\" x1=\"16\" x2=\"117\" y1=\"28.2969\" y2=\"28.2969\"/><text fill=\"#000000\" font-family=\"sans-serif\" font-size=\"14\" font-weight=\"bold\" lengthAdjust=\"spacingAndGlyphs\" textLength=\"88\" x=\"20\" y=\"20.9951\">AliasImport</text></a><!--MD5=[e4f7fae6ed58524ba242bb0b0d3be6b7]\n",
       "cluster E2--><a href=\"psysml:de0d2cc7-98e6-429c-a225-0b1a04e72b17\" target=\"_top\" title=\"psysml:de0d2cc7-98e6-429c-a225-0b1a04e72b17\" xlink:actuate=\"onRequest\" xlink:href=\"psysml:de0d2cc7-98e6-429c-a225-0b1a04e72b17\" xlink:show=\"new\" xlink:title=\"psysml:de0d2cc7-98e6-429c-a225-0b1a04e72b17\" xlink:type=\"simple\"><polygon fill=\"#FFFFFF\" filter=\"url(#f1jxk2bhiqcvu8)\" points=\"230,49,320,49,327,71.2969,461,71.2969,461,140,230,140,230,49\" style=\"stroke: #000000; stroke-width: 1.5;\"/><line style=\"stroke: #000000; stroke-width: 1.5;\" x1=\"230\" x2=\"327\" y1=\"71.2969\" y2=\"71.2969\"/><text fill=\"#000000\" font-family=\"sans-serif\" font-size=\"14\" font-weight=\"bold\" lengthAdjust=\"spacingAndGlyphs\" textLength=\"84\" x=\"234\" y=\"63.9951\">Definitions</text></a><!--MD5=[de5ec2e2e8f62f467e546659f5068c88]\n",
       "cluster E5--><a href=\"psysml:0db9d317-797a-4865-97e5-5934f0d4a303\" target=\"_top\" title=\"psysml:0db9d317-797a-4865-97e5-5934f0d4a303\" xlink:actuate=\"onRequest\" xlink:href=\"psysml:0db9d317-797a-4865-97e5-5934f0d4a303\" xlink:show=\"new\" xlink:title=\"psysml:0db9d317-797a-4865-97e5-5934f0d4a303\" xlink:type=\"simple\"><polygon fill=\"#FFFFFF\" filter=\"url(#f1jxk2bhiqcvu8)\" points=\"40,49,104,49,111,71.2969,206,71.2969,206,140,40,140,40,49\" style=\"stroke: #000000; stroke-width: 1.5;\"/><line style=\"stroke: #000000; stroke-width: 1.5;\" x1=\"40\" x2=\"111\" y1=\"71.2969\" y2=\"71.2969\"/><text fill=\"#000000\" font-family=\"sans-serif\" font-size=\"14\" font-weight=\"bold\" lengthAdjust=\"spacingAndGlyphs\" textLength=\"58\" x=\"44\" y=\"63.9951\">Usages</text></a><g id=\"E1.E2.E3\"><a href=\"psysml:6a2a8f83-25b7-443f-ad75-cafd3f704077\" target=\"_top\" title=\"psysml:6a2a8f83-25b7-443f-ad75-cafd3f704077\" xlink:actuate=\"onRequest\" xlink:href=\"psysml:6a2a8f83-25b7-443f-ad75-cafd3f704077\" xlink:show=\"new\" xlink:title=\"psysml:6a2a8f83-25b7-443f-ad75-cafd3f704077\" xlink:type=\"simple\"><rect fill=\"#FEFECE\" filter=\"url(#f1jxk2bhiqcvu8)\" height=\"40\" id=\"E3\" style=\"stroke: #A80036; stroke-width: 1.5;\" width=\"82\" x=\"363\" y=\"84\"/><ellipse cx=\"380.25\" cy=\"100\" fill=\"#008000\" rx=\"11\" ry=\"11\" style=\"stroke: #A80036; stroke-width: 1.0;\"/><path d=\"M379.1563,100.375 L379.1563,104.0469 L380.7813,104.0469 Q381.9531,104.0469 382.4219,103.6563 Q382.8906,103.25 382.8906,102.25 Q382.8906,101.25 382.3906,100.8125 Q381.9063,100.375 380.7813,100.375 L379.1563,100.375 Z M379.1563,95.5469 L379.1563,98.4219 L380.7813,98.4219 Q381.7031,98.4219 382.0938,98.0938 Q382.5,97.75 382.5,97 Q382.5,96.2344 382.0938,95.8906 Q381.6875,95.5469 380.7813,95.5469 L379.1563,95.5469 Z M376.7813,93.5938 L380.7813,93.5938 Q382.8438,93.5938 383.8906,94.375 Q384.9375,95.1563 384.9375,96.7188 Q384.9375,97.9219 384.3125,98.5938 Q383.7031,99.2656 382.5156,99.375 Q383.9375,99.5156 384.6563,100.3281 Q385.375,101.1406 385.375,102.5938 Q385.375,104.3906 384.2969,105.2031 Q383.2188,106 380.7813,106 L376.7813,106 L376.7813,93.5938 Z \"/><text fill=\"#000000\" font-family=\"sans-serif\" font-size=\"12\" lengthAdjust=\"spacingAndGlyphs\" textLength=\"45\" x=\"394.75\" y=\"104.1543\">Vehicle</text></a></g><g id=\"E1.E2.E4\"><a href=\"psysml:6a2a8f83-25b7-443f-ad75-cafd3f704077\" target=\"_top\" title=\"psysml:6a2a8f83-25b7-443f-ad75-cafd3f704077\" xlink:actuate=\"onRequest\" xlink:href=\"psysml:6a2a8f83-25b7-443f-ad75-cafd3f704077\" xlink:show=\"new\" xlink:title=\"psysml:6a2a8f83-25b7-443f-ad75-cafd3f704077\" xlink:type=\"simple\"><rect fill=\"#FEFECE\" filter=\"url(#f1jxk2bhiqcvu8)\" height=\"40\" id=\"E4\" style=\"stroke: #A80036; stroke-width: 1.5;\" width=\"82\" x=\"246\" y=\"84\"/><ellipse cx=\"263.25\" cy=\"100\" fill=\"#008000\" rx=\"11\" ry=\"11\" style=\"stroke: #A80036; stroke-width: 1.0;\"/><path d=\"M262.1563,100.375 L262.1563,104.0469 L263.7813,104.0469 Q264.9531,104.0469 265.4219,103.6563 Q265.8906,103.25 265.8906,102.25 Q265.8906,101.25 265.3906,100.8125 Q264.9063,100.375 263.7813,100.375 L262.1563,100.375 Z M262.1563,95.5469 L262.1563,98.4219 L263.7813,98.4219 Q264.7031,98.4219 265.0938,98.0938 Q265.5,97.75 265.5,97 Q265.5,96.2344 265.0938,95.8906 Q264.6875,95.5469 263.7813,95.5469 L262.1563,95.5469 Z M259.7813,93.5938 L263.7813,93.5938 Q265.8438,93.5938 266.8906,94.375 Q267.9375,95.1563 267.9375,96.7188 Q267.9375,97.9219 267.3125,98.5938 Q266.7031,99.2656 265.5156,99.375 Q266.9375,99.5156 267.6563,100.3281 Q268.375,101.1406 268.375,102.5938 Q268.375,104.3906 267.2969,105.2031 Q266.2188,106 263.7813,106 L259.7813,106 L259.7813,93.5938 Z \"/><text fill=\"#000000\" font-family=\"sans-serif\" font-size=\"12\" lengthAdjust=\"spacingAndGlyphs\" textLength=\"45\" x=\"277.75\" y=\"104.1543\">Vehicle</text></a></g><g id=\"E1.E5.E6\"><a href=\"psysml:ac2a7781-f3a7-4610-aa94-de8fcbc60da2\" target=\"_top\" title=\"psysml:ac2a7781-f3a7-4610-aa94-de8fcbc60da2\" xlink:actuate=\"onRequest\" xlink:href=\"psysml:ac2a7781-f3a7-4610-aa94-de8fcbc60da2\" xlink:show=\"new\" xlink:title=\"psysml:ac2a7781-f3a7-4610-aa94-de8fcbc60da2\" xlink:type=\"simple\"><rect fill=\"#FEFECE\" filter=\"url(#f1jxk2bhiqcvu8)\" height=\"40\" id=\"E6\" rx=\"10\" ry=\"10\" style=\"stroke: #A80036; stroke-width: 1.5;\" width=\"133\" x=\"56.5\" y=\"84\"/><ellipse cx=\"73.75\" cy=\"100\" fill=\"#B6DBBB\" rx=\"11\" ry=\"11\" style=\"stroke: #A80036; stroke-width: 1.0;\"/><path d=\"M69.625,101.9219 L69.625,94.1094 L72.0781,94.1094 L72.0781,102.5469 Q72.0781,103.4688 72.5469,104 Q73.0313,104.5313 73.8594,104.5313 Q74.7031,104.5313 75.1719,104 Q75.6406,103.4688 75.6406,102.5469 L75.6406,94.1094 L78.0938,94.1094 L78.0938,101.9219 Q78.0938,104.4531 77.0938,105.5938 Q76.0938,106.7344 73.8594,106.7344 Q71.6406,106.7344 70.625,105.5938 Q69.625,104.4531 69.625,101.9219 Z \"/><text fill=\"#000000\" font-family=\"sans-serif\" font-size=\"12\" lengthAdjust=\"spacingAndGlyphs\" textLength=\"96\" x=\"88.25\" y=\"104.1543\">vehicle: Vehicle</text></a></g><!--MD5=[cba628797ea8bb5da7a4264e12e7b9c7]\n",
       "@startuml\r\n",
       "skinparam ranksep 10\r\n",
       "skinparam rectangle {\r\n",
       " backgroundColor<<block>> LightGreen\r\n",
       "}\r\n",
       " \r\n",
       "package \"AliasImport\" as E1  [[psysml:ef3d48fd-2829-4dbf-9589-92371a3e091f ]]  {\r\n",
       "package \"Definitions\" as E2  [[psysml:de0d2cc7-98e6-429c-a225-0b1a04e72b17 ]]  {\r\n",
       "rec def \"Vehicle\" as E3 << << (B,green) >> [[psysml:6a2a8f83-25b7-443f-ad75-cafd3f704077 ]] {\r\n",
       "}\r\n",
       "rec def \"Vehicle\" as E4 << << (B,green) >> [[psysml:6a2a8f83-25b7-443f-ad75-cafd3f704077 ]] {\r\n",
       "}\r\n",
       "}\r\n",
       "package \"Usages\" as E5  [[psysml:0db9d317-797a-4865-97e5-5934f0d4a303 ]]  {\r\n",
       "rec usage \"vehicle: Vehicle\" as E6  [[psysml:ac2a7781-f3a7-4610-aa94-de8fcbc60da2 ]] {\r\n",
       "}\r\n",
       "}\r\n",
       "}\r\n",
       "@enduml\r\n",
       "\n",
       "PlantUML version 1.2020.13(Sat Jun 13 12:26:38 UTC 2020)\n",
       "(EPL source distribution)\n",
       "Java Runtime: OpenJDK Runtime Environment\n",
       "JVM: OpenJDK 64-Bit Server VM\n",
       "Default Encoding: UTF-8\n",
       "Language: en\n",
       "Country: null\n",
       "--></g></svg>"
      ]
     },
     "execution_count": 33,
     "metadata": {},
     "output_type": "execute_result"
    }
   ],
   "source": [
    "%viz --style=\"PLANTUML\" --view=\"Interconnection\" \"AliasImport\""
   ]
  },
  {
   "cell_type": "code",
   "execution_count": 34,
   "id": "53be03be",
   "metadata": {
    "execution": {
     "iopub.execute_input": "2021-08-04T06:25:42.186209Z",
     "iopub.status.busy": "2021-08-04T06:25:42.185993Z",
     "iopub.status.idle": "2021-08-04T06:25:42.189298Z",
     "shell.execute_reply": "2021-08-04T06:25:42.189629Z"
    }
   },
   "outputs": [
    {
     "data": {
      "image/svg+xml": [
       "<?xml version=\"1.0\" encoding=\"UTF-8\" standalone=\"no\"?><svg xmlns=\"http://www.w3.org/2000/svg\" xmlns:xlink=\"http://www.w3.org/1999/xlink\" contentScriptType=\"application/ecmascript\" contentStyleType=\"text/css\" height=\"12px\" preserveAspectRatio=\"none\" style=\"width:12px;height:12px;\" version=\"1.1\" viewBox=\"0 0 12 12\" width=\"12px\" zoomAndPan=\"magnify\"><defs/><g><!--MD5=[6a4cb978cab31700e1ce5529f947a75d]\n",
       "@startuml\r\n",
       "skinparam ranksep 8\r\n",
       " \r\n",
       "@enduml\r\n",
       "\n",
       "PlantUML version 1.2020.13(Sat Jun 13 12:26:38 UTC 2020)\n",
       "(EPL source distribution)\n",
       "Java Runtime: OpenJDK Runtime Environment\n",
       "JVM: OpenJDK 64-Bit Server VM\n",
       "Default Encoding: UTF-8\n",
       "Language: en\n",
       "Country: null\n",
       "--></g></svg>"
      ]
     },
     "execution_count": 34,
     "metadata": {},
     "output_type": "execute_result"
    }
   ],
   "source": [
    "%viz --style=\"PLANTUML\" --view=\"Action\" \"AliasImport\""
   ]
  },
  {
   "cell_type": "code",
   "execution_count": 35,
   "id": "7af6ae39",
   "metadata": {
    "execution": {
     "iopub.execute_input": "2021-08-04T06:25:42.240087Z",
     "iopub.status.busy": "2021-08-04T06:25:42.239642Z",
     "iopub.status.idle": "2021-08-04T06:25:42.261645Z",
     "shell.execute_reply": "2021-08-04T06:25:42.261446Z"
    }
   },
   "outputs": [
    {
     "data": {
      "image/svg+xml": [
       "<?xml version=\"1.0\" encoding=\"UTF-8\" standalone=\"no\"?><svg xmlns=\"http://www.w3.org/2000/svg\" xmlns:xlink=\"http://www.w3.org/1999/xlink\" contentScriptType=\"application/ecmascript\" contentStyleType=\"text/css\" height=\"297px\" preserveAspectRatio=\"none\" style=\"width:246px;height:297px;\" version=\"1.1\" viewBox=\"0 0 246 297\" width=\"246px\" zoomAndPan=\"magnify\"><defs><filter height=\"300%\" id=\"fseag6227tqw0\" width=\"300%\" x=\"-1\" y=\"-1\"><feGaussianBlur result=\"blurOut\" stdDeviation=\"2.0\"/><feColorMatrix in=\"blurOut\" result=\"blurOut2\" type=\"matrix\" values=\"0 0 0 0 0 0 0 0 0 0 0 0 0 0 0 0 0 0 .4 0\"/><feOffset dx=\"4.0\" dy=\"4.0\" in=\"blurOut2\" result=\"blurOut3\"/><feBlend in=\"SourceGraphic\" in2=\"blurOut3\" mode=\"normal\"/></filter></defs><g><!--MD5=[fbc87193dbaf4d95561dea2c320d4a47]\n",
       "cluster E1--><a href=\"psysml:ef3d48fd-2829-4dbf-9589-92371a3e091f\" target=\"_top\" title=\"psysml:ef3d48fd-2829-4dbf-9589-92371a3e091f\" xlink:actuate=\"onRequest\" xlink:href=\"psysml:ef3d48fd-2829-4dbf-9589-92371a3e091f\" xlink:show=\"new\" xlink:title=\"psysml:ef3d48fd-2829-4dbf-9589-92371a3e091f\" xlink:type=\"simple\"><polygon fill=\"#FFFFFF\" filter=\"url(#fseag6227tqw0)\" points=\"16,6,110,6,117,28.2969,224,28.2969,224,285,16,285,16,6\" style=\"stroke: #000000; stroke-width: 1.5;\"/><line style=\"stroke: #000000; stroke-width: 1.5;\" x1=\"16\" x2=\"117\" y1=\"28.2969\" y2=\"28.2969\"/><text fill=\"#000000\" font-family=\"sans-serif\" font-size=\"14\" font-weight=\"bold\" lengthAdjust=\"spacingAndGlyphs\" textLength=\"88\" x=\"20\" y=\"20.9951\">AliasImport</text></a><!--MD5=[e4f7fae6ed58524ba242bb0b0d3be6b7]\n",
       "cluster E2--><a href=\"psysml:de0d2cc7-98e6-429c-a225-0b1a04e72b17\" target=\"_top\" title=\"psysml:de0d2cc7-98e6-429c-a225-0b1a04e72b17\" xlink:actuate=\"onRequest\" xlink:href=\"psysml:de0d2cc7-98e6-429c-a225-0b1a04e72b17\" xlink:show=\"new\" xlink:title=\"psysml:de0d2cc7-98e6-429c-a225-0b1a04e72b17\" xlink:type=\"simple\"><polygon fill=\"#FFFFFF\" filter=\"url(#fseag6227tqw0)\" points=\"65,170,155,170,162,192.2969,175,192.2969,175,261,65,261,65,170\" style=\"stroke: #000000; stroke-width: 1.5;\"/><line style=\"stroke: #000000; stroke-width: 1.5;\" x1=\"65\" x2=\"162\" y1=\"192.2969\" y2=\"192.2969\"/><text fill=\"#000000\" font-family=\"sans-serif\" font-size=\"14\" font-weight=\"bold\" lengthAdjust=\"spacingAndGlyphs\" textLength=\"84\" x=\"69\" y=\"184.9951\">Definitions</text></a><!--MD5=[f6df4d0ebaf0b5dfb2ced0ae5af7c670]\n",
       "cluster E4--><a href=\"psysml:0db9d317-797a-4865-97e5-5934f0d4a303\" target=\"_top\" title=\"psysml:0db9d317-797a-4865-97e5-5934f0d4a303\" xlink:actuate=\"onRequest\" xlink:href=\"psysml:0db9d317-797a-4865-97e5-5934f0d4a303\" xlink:show=\"new\" xlink:title=\"psysml:0db9d317-797a-4865-97e5-5934f0d4a303\" xlink:type=\"simple\"><polygon fill=\"#FFFFFF\" filter=\"url(#fseag6227tqw0)\" points=\"40,49,104,49,111,71.2969,200,71.2969,200,146,40,146,40,49\" style=\"stroke: #000000; stroke-width: 1.5;\"/><line style=\"stroke: #000000; stroke-width: 1.5;\" x1=\"40\" x2=\"111\" y1=\"71.2969\" y2=\"71.2969\"/><text fill=\"#000000\" font-family=\"sans-serif\" font-size=\"14\" font-weight=\"bold\" lengthAdjust=\"spacingAndGlyphs\" textLength=\"58\" x=\"44\" y=\"63.9951\">Usages</text></a><!--MD5=[09b614a08d8cba4a07c9adeb5e0fee81]\n",
       "class E3--><a href=\"psysml:6a2a8f83-25b7-443f-ad75-cafd3f704077\" target=\"_top\" title=\"psysml:6a2a8f83-25b7-443f-ad75-cafd3f704077\" xlink:actuate=\"onRequest\" xlink:href=\"psysml:6a2a8f83-25b7-443f-ad75-cafd3f704077\" xlink:show=\"new\" xlink:title=\"psysml:6a2a8f83-25b7-443f-ad75-cafd3f704077\" xlink:type=\"simple\"><rect fill=\"#FEFECE\" filter=\"url(#fseag6227tqw0)\" height=\"40\" id=\"E3\" style=\"stroke: #A80036; stroke-width: 1.5;\" width=\"77\" x=\"81.5\" y=\"205\"/><ellipse cx=\"96.5\" cy=\"221\" fill=\"#008000\" rx=\"11\" ry=\"11\" style=\"stroke: #A80036; stroke-width: 1.0;\"/><path d=\"M95.4063,221.375 L95.4063,225.0469 L97.0313,225.0469 Q98.2031,225.0469 98.6719,224.6563 Q99.1406,224.25 99.1406,223.25 Q99.1406,222.25 98.6406,221.8125 Q98.1563,221.375 97.0313,221.375 L95.4063,221.375 Z M95.4063,216.5469 L95.4063,219.4219 L97.0313,219.4219 Q97.9531,219.4219 98.3438,219.0938 Q98.75,218.75 98.75,218 Q98.75,217.2344 98.3438,216.8906 Q97.9375,216.5469 97.0313,216.5469 L95.4063,216.5469 Z M93.0313,214.5938 L97.0313,214.5938 Q99.0938,214.5938 100.1406,215.375 Q101.1875,216.1563 101.1875,217.7188 Q101.1875,218.9219 100.5625,219.5938 Q99.9531,220.2656 98.7656,220.375 Q100.1875,220.5156 100.9063,221.3281 Q101.625,222.1406 101.625,223.5938 Q101.625,225.3906 100.5469,226.2031 Q99.4688,227 97.0313,227 L93.0313,227 L93.0313,214.5938 Z \"/><text fill=\"#000000\" font-family=\"sans-serif\" font-size=\"12\" lengthAdjust=\"spacingAndGlyphs\" textLength=\"45\" x=\"110.5\" y=\"225.1543\">Vehicle</text><line style=\"stroke: #A80036; stroke-width: 1.5;\" x1=\"82.5\" x2=\"157.5\" y1=\"237\" y2=\"237\"/></a><!--MD5=[270fce915f116d4de14055a7c1d9a0f3]\n",
       "class E5--><a href=\"psysml:ac2a7781-f3a7-4610-aa94-de8fcbc60da2\" target=\"_top\" title=\"psysml:ac2a7781-f3a7-4610-aa94-de8fcbc60da2\" xlink:actuate=\"onRequest\" xlink:href=\"psysml:ac2a7781-f3a7-4610-aa94-de8fcbc60da2\" xlink:show=\"new\" xlink:title=\"psysml:ac2a7781-f3a7-4610-aa94-de8fcbc60da2\" xlink:type=\"simple\"><rect fill=\"#FEFECE\" filter=\"url(#fseag6227tqw0)\" height=\"45.9375\" id=\"E5\" rx=\"10\" ry=\"10\" style=\"stroke: #A80036; stroke-width: 1.5;\" width=\"128\" x=\"56\" y=\"84\"/><ellipse cx=\"71\" cy=\"102.9688\" fill=\"#32CD32\" rx=\"11\" ry=\"11\" style=\"stroke: #A80036; stroke-width: 1.0;\"/><path d=\"M70.7969,98.6406 L70.7969,102.2656 L71.7969,102.2656 Q73,102.2656 73.4844,101.8594 Q73.9688,101.4531 73.9688,100.4531 Q73.9688,99.4531 73.4844,99.0469 Q73,98.6406 71.7969,98.6406 L70.7969,98.6406 Z M68.3438,96.5781 L71.7031,96.5781 Q74.2656,96.5781 75.3906,97.5 Q76.5156,98.4063 76.5156,100.4531 Q76.5156,102.5 75.3906,103.4219 Q74.2656,104.3281 71.7031,104.3281 L70.7969,104.3281 L70.7969,108.9688 L68.3438,108.9688 L68.3438,96.5781 Z \"/><text fill=\"#000000\" font-family=\"sans-serif\" font-size=\"12\" font-style=\"italic\" lengthAdjust=\"spacingAndGlyphs\" textLength=\"40\" x=\"113\" y=\"100.1387\">«part»</text><text fill=\"#000000\" font-family=\"sans-serif\" font-size=\"12\" lengthAdjust=\"spacingAndGlyphs\" textLength=\"96\" x=\"85\" y=\"114.1074\">vehicle: Vehicle</text><line style=\"stroke: #A80036; stroke-width: 1.5;\" x1=\"57\" x2=\"183\" y1=\"121.9375\" y2=\"121.9375\"/></a><!--MD5=[e9be52314489bd878ff4c7144b63c9e1]\n",
       "link E5 to E3--><a href=\"psysml:f4b8c599-6f69-4625-a365-4a72ec0c3cc2\" target=\"_top\" title=\"psysml:f4b8c599-6f69-4625-a365-4a72ec0c3cc2\" xlink:actuate=\"onRequest\" xlink:href=\"psysml:f4b8c599-6f69-4625-a365-4a72ec0c3cc2\" xlink:show=\"new\" xlink:title=\"psysml:f4b8c599-6f69-4625-a365-4a72ec0c3cc2\" xlink:type=\"simple\"><path d=\"M120,130.09 C120,145.42 120,166.27 120,184.42 \" fill=\"none\" id=\"E5-&gt;E3\" style=\"stroke: #A80036; stroke-width: 1.0;\"/><polygon fill=\"#FFFFFF\" points=\"120,204.69,113,185.69,127,185.69,120,204.69\" style=\"stroke: #A80036; stroke-width: 1.0;\"/><ellipse cx=\"115\" cy=\"179.99\" fill=\"#A80036\" rx=\"2\" ry=\"2\" style=\"stroke: #A80036; stroke-width: 1.0;\"/><ellipse cx=\"125\" cy=\"179.99\" fill=\"#A80036\" rx=\"2\" ry=\"2\" style=\"stroke: #A80036; stroke-width: 1.0;\"/></a><!--MD5=[88397ed86d7dd94b1e8bc40e6d6990ad]\n",
       "@startuml\r\n",
       " \r\n",
       "package \"AliasImport\" as E1  [[psysml:ef3d48fd-2829-4dbf-9589-92371a3e091f ]]  {\r\n",
       "package \"Definitions\" as E2  [[psysml:de0d2cc7-98e6-429c-a225-0b1a04e72b17 ]]  {\r\n",
       "comp def \"Vehicle\" as E3 << << (B,green) >> [[psysml:6a2a8f83-25b7-443f-ad75-cafd3f704077 ]] {\r\n",
       "}\r\n",
       "}\r\n",
       "package \"Usages\" as E4  [[psysml:0db9d317-797a-4865-97e5-5934f0d4a303 ]]  {\r\n",
       "comp usage \"vehicle: Vehicle\" as E5 << << (P,limegreen) part>> [[psysml:ac2a7781-f3a7-4610-aa94-de8fcbc60da2 ]] {\r\n",
       "}\r\n",
       "E5 - -:|> E3 [[psysml:f4b8c599-6f69-4625-a365-4a72ec0c3cc2 ]] \r\n",
       "}\r\n",
       "}\r\n",
       "@enduml\r\n",
       "\n",
       "PlantUML version 1.2020.13(Sat Jun 13 12:26:38 UTC 2020)\n",
       "(EPL source distribution)\n",
       "Java Runtime: OpenJDK Runtime Environment\n",
       "JVM: OpenJDK 64-Bit Server VM\n",
       "Default Encoding: UTF-8\n",
       "Language: en\n",
       "Country: null\n",
       "--></g></svg>"
      ]
     },
     "execution_count": 35,
     "metadata": {},
     "output_type": "execute_result"
    }
   ],
   "source": [
    "%viz --style=\"PLANTUML\" --view=\"Sequence\" \"AliasImport\""
   ]
  },
  {
   "cell_type": "code",
   "execution_count": 36,
   "id": "894ba00a",
   "metadata": {
    "execution": {
     "iopub.execute_input": "2021-08-04T06:25:42.311633Z",
     "iopub.status.busy": "2021-08-04T06:25:42.311418Z",
     "iopub.status.idle": "2021-08-04T06:25:42.334084Z",
     "shell.execute_reply": "2021-08-04T06:25:42.332455Z"
    }
   },
   "outputs": [
    {
     "data": {
      "image/svg+xml": [
       "<?xml version=\"1.0\" encoding=\"UTF-8\" standalone=\"no\"?><svg xmlns=\"http://www.w3.org/2000/svg\" xmlns:xlink=\"http://www.w3.org/1999/xlink\" contentScriptType=\"application/ecmascript\" contentStyleType=\"text/css\" height=\"297px\" preserveAspectRatio=\"none\" style=\"width:246px;height:297px;\" version=\"1.1\" viewBox=\"0 0 246 297\" width=\"246px\" zoomAndPan=\"magnify\"><defs><filter height=\"300%\" id=\"fseag6227tqw0\" width=\"300%\" x=\"-1\" y=\"-1\"><feGaussianBlur result=\"blurOut\" stdDeviation=\"2.0\"/><feColorMatrix in=\"blurOut\" result=\"blurOut2\" type=\"matrix\" values=\"0 0 0 0 0 0 0 0 0 0 0 0 0 0 0 0 0 0 .4 0\"/><feOffset dx=\"4.0\" dy=\"4.0\" in=\"blurOut2\" result=\"blurOut3\"/><feBlend in=\"SourceGraphic\" in2=\"blurOut3\" mode=\"normal\"/></filter></defs><g><!--MD5=[fbc87193dbaf4d95561dea2c320d4a47]\n",
       "cluster E1--><a href=\"psysml:ef3d48fd-2829-4dbf-9589-92371a3e091f\" target=\"_top\" title=\"psysml:ef3d48fd-2829-4dbf-9589-92371a3e091f\" xlink:actuate=\"onRequest\" xlink:href=\"psysml:ef3d48fd-2829-4dbf-9589-92371a3e091f\" xlink:show=\"new\" xlink:title=\"psysml:ef3d48fd-2829-4dbf-9589-92371a3e091f\" xlink:type=\"simple\"><polygon fill=\"#FFFFFF\" filter=\"url(#fseag6227tqw0)\" points=\"16,6,110,6,117,28.2969,224,28.2969,224,285,16,285,16,6\" style=\"stroke: #000000; stroke-width: 1.5;\"/><line style=\"stroke: #000000; stroke-width: 1.5;\" x1=\"16\" x2=\"117\" y1=\"28.2969\" y2=\"28.2969\"/><text fill=\"#000000\" font-family=\"sans-serif\" font-size=\"14\" font-weight=\"bold\" lengthAdjust=\"spacingAndGlyphs\" textLength=\"88\" x=\"20\" y=\"20.9951\">AliasImport</text></a><!--MD5=[e4f7fae6ed58524ba242bb0b0d3be6b7]\n",
       "cluster E2--><a href=\"psysml:de0d2cc7-98e6-429c-a225-0b1a04e72b17\" target=\"_top\" title=\"psysml:de0d2cc7-98e6-429c-a225-0b1a04e72b17\" xlink:actuate=\"onRequest\" xlink:href=\"psysml:de0d2cc7-98e6-429c-a225-0b1a04e72b17\" xlink:show=\"new\" xlink:title=\"psysml:de0d2cc7-98e6-429c-a225-0b1a04e72b17\" xlink:type=\"simple\"><polygon fill=\"#FFFFFF\" filter=\"url(#fseag6227tqw0)\" points=\"65,170,155,170,162,192.2969,175,192.2969,175,261,65,261,65,170\" style=\"stroke: #000000; stroke-width: 1.5;\"/><line style=\"stroke: #000000; stroke-width: 1.5;\" x1=\"65\" x2=\"162\" y1=\"192.2969\" y2=\"192.2969\"/><text fill=\"#000000\" font-family=\"sans-serif\" font-size=\"14\" font-weight=\"bold\" lengthAdjust=\"spacingAndGlyphs\" textLength=\"84\" x=\"69\" y=\"184.9951\">Definitions</text></a><!--MD5=[f6df4d0ebaf0b5dfb2ced0ae5af7c670]\n",
       "cluster E4--><a href=\"psysml:0db9d317-797a-4865-97e5-5934f0d4a303\" target=\"_top\" title=\"psysml:0db9d317-797a-4865-97e5-5934f0d4a303\" xlink:actuate=\"onRequest\" xlink:href=\"psysml:0db9d317-797a-4865-97e5-5934f0d4a303\" xlink:show=\"new\" xlink:title=\"psysml:0db9d317-797a-4865-97e5-5934f0d4a303\" xlink:type=\"simple\"><polygon fill=\"#FFFFFF\" filter=\"url(#fseag6227tqw0)\" points=\"40,49,104,49,111,71.2969,200,71.2969,200,146,40,146,40,49\" style=\"stroke: #000000; stroke-width: 1.5;\"/><line style=\"stroke: #000000; stroke-width: 1.5;\" x1=\"40\" x2=\"111\" y1=\"71.2969\" y2=\"71.2969\"/><text fill=\"#000000\" font-family=\"sans-serif\" font-size=\"14\" font-weight=\"bold\" lengthAdjust=\"spacingAndGlyphs\" textLength=\"58\" x=\"44\" y=\"63.9951\">Usages</text></a><!--MD5=[09b614a08d8cba4a07c9adeb5e0fee81]\n",
       "class E3--><a href=\"psysml:6a2a8f83-25b7-443f-ad75-cafd3f704077\" target=\"_top\" title=\"psysml:6a2a8f83-25b7-443f-ad75-cafd3f704077\" xlink:actuate=\"onRequest\" xlink:href=\"psysml:6a2a8f83-25b7-443f-ad75-cafd3f704077\" xlink:show=\"new\" xlink:title=\"psysml:6a2a8f83-25b7-443f-ad75-cafd3f704077\" xlink:type=\"simple\"><rect fill=\"#FEFECE\" filter=\"url(#fseag6227tqw0)\" height=\"40\" id=\"E3\" style=\"stroke: #A80036; stroke-width: 1.5;\" width=\"77\" x=\"81.5\" y=\"205\"/><ellipse cx=\"96.5\" cy=\"221\" fill=\"#008000\" rx=\"11\" ry=\"11\" style=\"stroke: #A80036; stroke-width: 1.0;\"/><path d=\"M95.4063,221.375 L95.4063,225.0469 L97.0313,225.0469 Q98.2031,225.0469 98.6719,224.6563 Q99.1406,224.25 99.1406,223.25 Q99.1406,222.25 98.6406,221.8125 Q98.1563,221.375 97.0313,221.375 L95.4063,221.375 Z M95.4063,216.5469 L95.4063,219.4219 L97.0313,219.4219 Q97.9531,219.4219 98.3438,219.0938 Q98.75,218.75 98.75,218 Q98.75,217.2344 98.3438,216.8906 Q97.9375,216.5469 97.0313,216.5469 L95.4063,216.5469 Z M93.0313,214.5938 L97.0313,214.5938 Q99.0938,214.5938 100.1406,215.375 Q101.1875,216.1563 101.1875,217.7188 Q101.1875,218.9219 100.5625,219.5938 Q99.9531,220.2656 98.7656,220.375 Q100.1875,220.5156 100.9063,221.3281 Q101.625,222.1406 101.625,223.5938 Q101.625,225.3906 100.5469,226.2031 Q99.4688,227 97.0313,227 L93.0313,227 L93.0313,214.5938 Z \"/><text fill=\"#000000\" font-family=\"sans-serif\" font-size=\"12\" lengthAdjust=\"spacingAndGlyphs\" textLength=\"45\" x=\"110.5\" y=\"225.1543\">Vehicle</text><line style=\"stroke: #A80036; stroke-width: 1.5;\" x1=\"82.5\" x2=\"157.5\" y1=\"237\" y2=\"237\"/></a><!--MD5=[270fce915f116d4de14055a7c1d9a0f3]\n",
       "class E5--><a href=\"psysml:ac2a7781-f3a7-4610-aa94-de8fcbc60da2\" target=\"_top\" title=\"psysml:ac2a7781-f3a7-4610-aa94-de8fcbc60da2\" xlink:actuate=\"onRequest\" xlink:href=\"psysml:ac2a7781-f3a7-4610-aa94-de8fcbc60da2\" xlink:show=\"new\" xlink:title=\"psysml:ac2a7781-f3a7-4610-aa94-de8fcbc60da2\" xlink:type=\"simple\"><rect fill=\"#FEFECE\" filter=\"url(#fseag6227tqw0)\" height=\"45.9375\" id=\"E5\" rx=\"10\" ry=\"10\" style=\"stroke: #A80036; stroke-width: 1.5;\" width=\"128\" x=\"56\" y=\"84\"/><ellipse cx=\"71\" cy=\"102.9688\" fill=\"#32CD32\" rx=\"11\" ry=\"11\" style=\"stroke: #A80036; stroke-width: 1.0;\"/><path d=\"M70.7969,98.6406 L70.7969,102.2656 L71.7969,102.2656 Q73,102.2656 73.4844,101.8594 Q73.9688,101.4531 73.9688,100.4531 Q73.9688,99.4531 73.4844,99.0469 Q73,98.6406 71.7969,98.6406 L70.7969,98.6406 Z M68.3438,96.5781 L71.7031,96.5781 Q74.2656,96.5781 75.3906,97.5 Q76.5156,98.4063 76.5156,100.4531 Q76.5156,102.5 75.3906,103.4219 Q74.2656,104.3281 71.7031,104.3281 L70.7969,104.3281 L70.7969,108.9688 L68.3438,108.9688 L68.3438,96.5781 Z \"/><text fill=\"#000000\" font-family=\"sans-serif\" font-size=\"12\" font-style=\"italic\" lengthAdjust=\"spacingAndGlyphs\" textLength=\"40\" x=\"113\" y=\"100.1387\">«part»</text><text fill=\"#000000\" font-family=\"sans-serif\" font-size=\"12\" lengthAdjust=\"spacingAndGlyphs\" textLength=\"96\" x=\"85\" y=\"114.1074\">vehicle: Vehicle</text><line style=\"stroke: #A80036; stroke-width: 1.5;\" x1=\"57\" x2=\"183\" y1=\"121.9375\" y2=\"121.9375\"/></a><!--MD5=[e9be52314489bd878ff4c7144b63c9e1]\n",
       "link E5 to E3--><a href=\"psysml:f4b8c599-6f69-4625-a365-4a72ec0c3cc2\" target=\"_top\" title=\"psysml:f4b8c599-6f69-4625-a365-4a72ec0c3cc2\" xlink:actuate=\"onRequest\" xlink:href=\"psysml:f4b8c599-6f69-4625-a365-4a72ec0c3cc2\" xlink:show=\"new\" xlink:title=\"psysml:f4b8c599-6f69-4625-a365-4a72ec0c3cc2\" xlink:type=\"simple\"><path d=\"M120,130.09 C120,145.42 120,166.27 120,184.42 \" fill=\"none\" id=\"E5-&gt;E3\" style=\"stroke: #A80036; stroke-width: 1.0;\"/><polygon fill=\"#FFFFFF\" points=\"120,204.69,113,185.69,127,185.69,120,204.69\" style=\"stroke: #A80036; stroke-width: 1.0;\"/><ellipse cx=\"115\" cy=\"179.99\" fill=\"#A80036\" rx=\"2\" ry=\"2\" style=\"stroke: #A80036; stroke-width: 1.0;\"/><ellipse cx=\"125\" cy=\"179.99\" fill=\"#A80036\" rx=\"2\" ry=\"2\" style=\"stroke: #A80036; stroke-width: 1.0;\"/></a><!--MD5=[88397ed86d7dd94b1e8bc40e6d6990ad]\n",
       "@startuml\r\n",
       " \r\n",
       "package \"AliasImport\" as E1  [[psysml:ef3d48fd-2829-4dbf-9589-92371a3e091f ]]  {\r\n",
       "package \"Definitions\" as E2  [[psysml:de0d2cc7-98e6-429c-a225-0b1a04e72b17 ]]  {\r\n",
       "comp def \"Vehicle\" as E3 << << (B,green) >> [[psysml:6a2a8f83-25b7-443f-ad75-cafd3f704077 ]] {\r\n",
       "}\r\n",
       "}\r\n",
       "package \"Usages\" as E4  [[psysml:0db9d317-797a-4865-97e5-5934f0d4a303 ]]  {\r\n",
       "comp usage \"vehicle: Vehicle\" as E5 << << (P,limegreen) part>> [[psysml:ac2a7781-f3a7-4610-aa94-de8fcbc60da2 ]] {\r\n",
       "}\r\n",
       "E5 - -:|> E3 [[psysml:f4b8c599-6f69-4625-a365-4a72ec0c3cc2 ]] \r\n",
       "}\r\n",
       "}\r\n",
       "@enduml\r\n",
       "\n",
       "PlantUML version 1.2020.13(Sat Jun 13 12:26:38 UTC 2020)\n",
       "(EPL source distribution)\n",
       "Java Runtime: OpenJDK Runtime Environment\n",
       "JVM: OpenJDK 64-Bit Server VM\n",
       "Default Encoding: UTF-8\n",
       "Language: en\n",
       "Country: null\n",
       "--></g></svg>"
      ]
     },
     "execution_count": 36,
     "metadata": {},
     "output_type": "execute_result"
    }
   ],
   "source": [
    "%viz --style=\"PLANTUML\" --view=\"MIXED\" \"AliasImport\""
   ]
  },
  {
   "cell_type": "code",
   "execution_count": 37,
   "id": "858f03f3",
   "metadata": {
    "execution": {
     "iopub.execute_input": "2021-08-04T06:25:42.383450Z",
     "iopub.status.busy": "2021-08-04T06:25:42.382986Z",
     "iopub.status.idle": "2021-08-04T06:25:42.399069Z",
     "shell.execute_reply": "2021-08-04T06:25:42.397759Z"
    }
   },
   "outputs": [
    {
     "data": {
      "image/svg+xml": [
       "<?xml version=\"1.0\" encoding=\"UTF-8\" standalone=\"no\"?><svg xmlns=\"http://www.w3.org/2000/svg\" xmlns:xlink=\"http://www.w3.org/1999/xlink\" contentScriptType=\"application/ecmascript\" contentStyleType=\"text/css\" height=\"303px\" preserveAspectRatio=\"none\" style=\"width:220px;height:303px;\" version=\"1.1\" viewBox=\"0 0 220 303\" width=\"220px\" zoomAndPan=\"magnify\"><defs/><g><!--MD5=[fbc87193dbaf4d95561dea2c320d4a47]\n",
       "cluster E1--><a href=\"psysml:ef3d48fd-2829-4dbf-9589-92371a3e091f\" target=\"_top\" title=\"psysml:ef3d48fd-2829-4dbf-9589-92371a3e091f\" xlink:actuate=\"onRequest\" xlink:href=\"psysml:ef3d48fd-2829-4dbf-9589-92371a3e091f\" xlink:show=\"new\" xlink:title=\"psysml:ef3d48fd-2829-4dbf-9589-92371a3e091f\" xlink:type=\"simple\"><polygon fill=\"#FFFFFF\" points=\"16,6,110,6,117,28.2969,198,28.2969,198,291,16,291,16,6\" style=\"stroke: #000000; stroke-width: 1.5;\"/><line style=\"stroke: #000000; stroke-width: 1.5;\" x1=\"16\" x2=\"117\" y1=\"28.2969\" y2=\"28.2969\"/><text fill=\"#000000\" font-family=\"sans-serif\" font-size=\"14\" font-weight=\"bold\" lengthAdjust=\"spacingAndGlyphs\" textLength=\"88\" x=\"20\" y=\"20.9951\">AliasImport</text></a><!--MD5=[e4f7fae6ed58524ba242bb0b0d3be6b7]\n",
       "cluster E2--><a href=\"psysml:de0d2cc7-98e6-429c-a225-0b1a04e72b17\" target=\"_top\" title=\"psysml:de0d2cc7-98e6-429c-a225-0b1a04e72b17\" xlink:actuate=\"onRequest\" xlink:href=\"psysml:de0d2cc7-98e6-429c-a225-0b1a04e72b17\" xlink:show=\"new\" xlink:title=\"psysml:de0d2cc7-98e6-429c-a225-0b1a04e72b17\" xlink:type=\"simple\"><polygon fill=\"#FFFFFF\" points=\"57,170,147,170,154,192.2969,157,192.2969,157,267,57,267,57,170\" style=\"stroke: #000000; stroke-width: 1.5;\"/><line style=\"stroke: #000000; stroke-width: 1.5;\" x1=\"57\" x2=\"154\" y1=\"192.2969\" y2=\"192.2969\"/><text fill=\"#000000\" font-family=\"sans-serif\" font-size=\"14\" font-weight=\"bold\" lengthAdjust=\"spacingAndGlyphs\" textLength=\"84\" x=\"61\" y=\"184.9951\">Definitions</text></a><!--MD5=[f6df4d0ebaf0b5dfb2ced0ae5af7c670]\n",
       "cluster E4--><a href=\"psysml:0db9d317-797a-4865-97e5-5934f0d4a303\" target=\"_top\" title=\"psysml:0db9d317-797a-4865-97e5-5934f0d4a303\" xlink:actuate=\"onRequest\" xlink:href=\"psysml:0db9d317-797a-4865-97e5-5934f0d4a303\" xlink:show=\"new\" xlink:title=\"psysml:0db9d317-797a-4865-97e5-5934f0d4a303\" xlink:type=\"simple\"><polygon fill=\"#FFFFFF\" points=\"40,49,104,49,111,71.2969,174,71.2969,174,146,40,146,40,49\" style=\"stroke: #000000; stroke-width: 1.5;\"/><line style=\"stroke: #000000; stroke-width: 1.5;\" x1=\"40\" x2=\"111\" y1=\"71.2969\" y2=\"71.2969\"/><text fill=\"#000000\" font-family=\"sans-serif\" font-size=\"14\" font-weight=\"bold\" lengthAdjust=\"spacingAndGlyphs\" textLength=\"58\" x=\"44\" y=\"63.9951\">Usages</text></a><!--MD5=[09b614a08d8cba4a07c9adeb5e0fee81]\n",
       "class E3--><a href=\"psysml:6a2a8f83-25b7-443f-ad75-cafd3f704077\" target=\"_top\" title=\"psysml:6a2a8f83-25b7-443f-ad75-cafd3f704077\" xlink:actuate=\"onRequest\" xlink:href=\"psysml:6a2a8f83-25b7-443f-ad75-cafd3f704077\" xlink:show=\"new\" xlink:title=\"psysml:6a2a8f83-25b7-443f-ad75-cafd3f704077\" xlink:type=\"simple\"><rect fill=\"#FFFFFF\" height=\"45.9375\" id=\"E3\" style=\"stroke: #383838; stroke-width: 1.5;\" width=\"66\" x=\"74\" y=\"205\"/><text fill=\"#000000\" font-family=\"sans-serif\" font-size=\"12\" font-style=\"italic\" lengthAdjust=\"spacingAndGlyphs\" textLength=\"64\" x=\"75\" y=\"221.1387\">«part def»</text><text fill=\"#000000\" font-family=\"sans-serif\" font-size=\"12\" lengthAdjust=\"spacingAndGlyphs\" textLength=\"45\" x=\"84.5\" y=\"235.1074\">Vehicle</text><line style=\"stroke: #383838; stroke-width: 1.5;\" x1=\"75\" x2=\"139\" y1=\"242.9375\" y2=\"242.9375\"/></a><!--MD5=[270fce915f116d4de14055a7c1d9a0f3]\n",
       "class E5--><a href=\"psysml:ac2a7781-f3a7-4610-aa94-de8fcbc60da2\" target=\"_top\" title=\"psysml:ac2a7781-f3a7-4610-aa94-de8fcbc60da2\" xlink:actuate=\"onRequest\" xlink:href=\"psysml:ac2a7781-f3a7-4610-aa94-de8fcbc60da2\" xlink:show=\"new\" xlink:title=\"psysml:ac2a7781-f3a7-4610-aa94-de8fcbc60da2\" xlink:type=\"simple\"><rect fill=\"#FFFFFF\" height=\"45.9375\" id=\"E5\" rx=\"10\" ry=\"10\" style=\"stroke: #383838; stroke-width: 1.5;\" width=\"102\" x=\"56\" y=\"84\"/><text fill=\"#000000\" font-family=\"sans-serif\" font-size=\"12\" font-style=\"italic\" lengthAdjust=\"spacingAndGlyphs\" textLength=\"40\" x=\"87\" y=\"100.1387\">«part»</text><text fill=\"#000000\" font-family=\"sans-serif\" font-size=\"12\" lengthAdjust=\"spacingAndGlyphs\" textLength=\"96\" x=\"59\" y=\"114.1074\">vehicle: Vehicle</text><line style=\"stroke: #383838; stroke-width: 1.5;\" x1=\"57\" x2=\"157\" y1=\"121.9375\" y2=\"121.9375\"/></a><!--MD5=[e9be52314489bd878ff4c7144b63c9e1]\n",
       "link E5 to E3--><a href=\"psysml:f4b8c599-6f69-4625-a365-4a72ec0c3cc2\" target=\"_top\" title=\"psysml:f4b8c599-6f69-4625-a365-4a72ec0c3cc2\" xlink:actuate=\"onRequest\" xlink:href=\"psysml:f4b8c599-6f69-4625-a365-4a72ec0c3cc2\" xlink:show=\"new\" xlink:title=\"psysml:f4b8c599-6f69-4625-a365-4a72ec0c3cc2\" xlink:type=\"simple\"><path d=\"M107,130.1 C107,145.37 107,166.16 107,184.57 \" fill=\"none\" id=\"E5-&gt;E3\" style=\"stroke: #383838; stroke-width: 1.0;\"/><polygon fill=\"#FFFFFF\" points=\"107,204.61,100,185.61,114,185.61,107,204.61\" style=\"stroke: #383838; stroke-width: 1.0;\"/><ellipse cx=\"102\" cy=\"179.91\" fill=\"#383838\" rx=\"2\" ry=\"2\" style=\"stroke: #383838; stroke-width: 1.0;\"/><ellipse cx=\"112\" cy=\"179.91\" fill=\"#383838\" rx=\"2\" ry=\"2\" style=\"stroke: #383838; stroke-width: 1.0;\"/></a><!--MD5=[cb1f64edf62756707d233b900542b05c]\n",
       "@startuml\r\n",
       "skinparam monochrome true\r\n",
       "skinparam classbackgroundcolor white\r\n",
       "skinparam shadowing false\r\n",
       "skinparam wrapWidth 300\r\n",
       "hide circle\r\n",
       "\r\n",
       "package \"AliasImport\" as E1  [[psysml:ef3d48fd-2829-4dbf-9589-92371a3e091f ]]  {\r\n",
       "package \"Definitions\" as E2  [[psysml:de0d2cc7-98e6-429c-a225-0b1a04e72b17 ]]  {\r\n",
       "comp def \"Vehicle\" as E3  <<(T,blue) part def>> [[psysml:6a2a8f83-25b7-443f-ad75-cafd3f704077 ]] {\r\n",
       "}\r\n",
       "}\r\n",
       "package \"Usages\" as E4  [[psysml:0db9d317-797a-4865-97e5-5934f0d4a303 ]]  {\r\n",
       "comp usage \"vehicle: Vehicle\" as E5  <<(T,blue) part>> [[psysml:ac2a7781-f3a7-4610-aa94-de8fcbc60da2 ]] {\r\n",
       "}\r\n",
       "E5 - -:|> E3 [[psysml:f4b8c599-6f69-4625-a365-4a72ec0c3cc2 ]] \r\n",
       "}\r\n",
       "}\r\n",
       "@enduml\r\n",
       "\n",
       "PlantUML version 1.2020.13(Sat Jun 13 12:26:38 UTC 2020)\n",
       "(EPL source distribution)\n",
       "Java Runtime: OpenJDK Runtime Environment\n",
       "JVM: OpenJDK 64-Bit Server VM\n",
       "Default Encoding: UTF-8\n",
       "Language: en\n",
       "Country: null\n",
       "--></g></svg>"
      ]
     },
     "execution_count": 37,
     "metadata": {},
     "output_type": "execute_result"
    }
   ],
   "source": [
    "%viz --style=\"DEFAULT\" --view=\"Default\" \"AliasImport\""
   ]
  },
  {
   "cell_type": "code",
   "execution_count": 38,
   "id": "ab9abdab",
   "metadata": {
    "execution": {
     "iopub.execute_input": "2021-08-04T06:25:42.448628Z",
     "iopub.status.busy": "2021-08-04T06:25:42.448155Z",
     "iopub.status.idle": "2021-08-04T06:25:42.466912Z",
     "shell.execute_reply": "2021-08-04T06:25:42.466541Z"
    }
   },
   "outputs": [
    {
     "data": {
      "image/svg+xml": [
       "<?xml version=\"1.0\" encoding=\"UTF-8\" standalone=\"no\"?><svg xmlns=\"http://www.w3.org/2000/svg\" xmlns:xlink=\"http://www.w3.org/1999/xlink\" contentScriptType=\"application/ecmascript\" contentStyleType=\"text/css\" height=\"303px\" preserveAspectRatio=\"none\" style=\"width:220px;height:303px;\" version=\"1.1\" viewBox=\"0 0 220 303\" width=\"220px\" zoomAndPan=\"magnify\"><defs/><g><!--MD5=[fbc87193dbaf4d95561dea2c320d4a47]\n",
       "cluster E1--><a href=\"psysml:ef3d48fd-2829-4dbf-9589-92371a3e091f\" target=\"_top\" title=\"psysml:ef3d48fd-2829-4dbf-9589-92371a3e091f\" xlink:actuate=\"onRequest\" xlink:href=\"psysml:ef3d48fd-2829-4dbf-9589-92371a3e091f\" xlink:show=\"new\" xlink:title=\"psysml:ef3d48fd-2829-4dbf-9589-92371a3e091f\" xlink:type=\"simple\"><polygon fill=\"#FFFFFF\" points=\"16,6,110,6,117,28.2969,198,28.2969,198,291,16,291,16,6\" style=\"stroke: #000000; stroke-width: 1.5;\"/><line style=\"stroke: #000000; stroke-width: 1.5;\" x1=\"16\" x2=\"117\" y1=\"28.2969\" y2=\"28.2969\"/><text fill=\"#000000\" font-family=\"sans-serif\" font-size=\"14\" font-weight=\"bold\" lengthAdjust=\"spacingAndGlyphs\" textLength=\"88\" x=\"20\" y=\"20.9951\">AliasImport</text></a><!--MD5=[e4f7fae6ed58524ba242bb0b0d3be6b7]\n",
       "cluster E2--><a href=\"psysml:de0d2cc7-98e6-429c-a225-0b1a04e72b17\" target=\"_top\" title=\"psysml:de0d2cc7-98e6-429c-a225-0b1a04e72b17\" xlink:actuate=\"onRequest\" xlink:href=\"psysml:de0d2cc7-98e6-429c-a225-0b1a04e72b17\" xlink:show=\"new\" xlink:title=\"psysml:de0d2cc7-98e6-429c-a225-0b1a04e72b17\" xlink:type=\"simple\"><polygon fill=\"#FFFFFF\" points=\"57,170,147,170,154,192.2969,157,192.2969,157,267,57,267,57,170\" style=\"stroke: #000000; stroke-width: 1.5;\"/><line style=\"stroke: #000000; stroke-width: 1.5;\" x1=\"57\" x2=\"154\" y1=\"192.2969\" y2=\"192.2969\"/><text fill=\"#000000\" font-family=\"sans-serif\" font-size=\"14\" font-weight=\"bold\" lengthAdjust=\"spacingAndGlyphs\" textLength=\"84\" x=\"61\" y=\"184.9951\">Definitions</text></a><!--MD5=[f6df4d0ebaf0b5dfb2ced0ae5af7c670]\n",
       "cluster E4--><a href=\"psysml:0db9d317-797a-4865-97e5-5934f0d4a303\" target=\"_top\" title=\"psysml:0db9d317-797a-4865-97e5-5934f0d4a303\" xlink:actuate=\"onRequest\" xlink:href=\"psysml:0db9d317-797a-4865-97e5-5934f0d4a303\" xlink:show=\"new\" xlink:title=\"psysml:0db9d317-797a-4865-97e5-5934f0d4a303\" xlink:type=\"simple\"><polygon fill=\"#FFFFFF\" points=\"40,49,104,49,111,71.2969,174,71.2969,174,146,40,146,40,49\" style=\"stroke: #000000; stroke-width: 1.5;\"/><line style=\"stroke: #000000; stroke-width: 1.5;\" x1=\"40\" x2=\"111\" y1=\"71.2969\" y2=\"71.2969\"/><text fill=\"#000000\" font-family=\"sans-serif\" font-size=\"14\" font-weight=\"bold\" lengthAdjust=\"spacingAndGlyphs\" textLength=\"58\" x=\"44\" y=\"63.9951\">Usages</text></a><!--MD5=[09b614a08d8cba4a07c9adeb5e0fee81]\n",
       "class E3--><a href=\"psysml:6a2a8f83-25b7-443f-ad75-cafd3f704077\" target=\"_top\" title=\"psysml:6a2a8f83-25b7-443f-ad75-cafd3f704077\" xlink:actuate=\"onRequest\" xlink:href=\"psysml:6a2a8f83-25b7-443f-ad75-cafd3f704077\" xlink:show=\"new\" xlink:title=\"psysml:6a2a8f83-25b7-443f-ad75-cafd3f704077\" xlink:type=\"simple\"><rect fill=\"#FFFFFF\" height=\"45.9375\" id=\"E3\" style=\"stroke: #383838; stroke-width: 1.5;\" width=\"66\" x=\"74\" y=\"205\"/><text fill=\"#000000\" font-family=\"sans-serif\" font-size=\"12\" font-style=\"italic\" lengthAdjust=\"spacingAndGlyphs\" textLength=\"64\" x=\"75\" y=\"221.1387\">«part def»</text><text fill=\"#000000\" font-family=\"sans-serif\" font-size=\"12\" lengthAdjust=\"spacingAndGlyphs\" textLength=\"45\" x=\"84.5\" y=\"235.1074\">Vehicle</text><line style=\"stroke: #383838; stroke-width: 1.5;\" x1=\"75\" x2=\"139\" y1=\"242.9375\" y2=\"242.9375\"/></a><!--MD5=[270fce915f116d4de14055a7c1d9a0f3]\n",
       "class E5--><a href=\"psysml:ac2a7781-f3a7-4610-aa94-de8fcbc60da2\" target=\"_top\" title=\"psysml:ac2a7781-f3a7-4610-aa94-de8fcbc60da2\" xlink:actuate=\"onRequest\" xlink:href=\"psysml:ac2a7781-f3a7-4610-aa94-de8fcbc60da2\" xlink:show=\"new\" xlink:title=\"psysml:ac2a7781-f3a7-4610-aa94-de8fcbc60da2\" xlink:type=\"simple\"><rect fill=\"#FFFFFF\" height=\"45.9375\" id=\"E5\" rx=\"10\" ry=\"10\" style=\"stroke: #383838; stroke-width: 1.5;\" width=\"102\" x=\"56\" y=\"84\"/><text fill=\"#000000\" font-family=\"sans-serif\" font-size=\"12\" font-style=\"italic\" lengthAdjust=\"spacingAndGlyphs\" textLength=\"40\" x=\"87\" y=\"100.1387\">«part»</text><text fill=\"#000000\" font-family=\"sans-serif\" font-size=\"12\" lengthAdjust=\"spacingAndGlyphs\" textLength=\"96\" x=\"59\" y=\"114.1074\">vehicle: Vehicle</text><line style=\"stroke: #383838; stroke-width: 1.5;\" x1=\"57\" x2=\"157\" y1=\"121.9375\" y2=\"121.9375\"/></a><!--MD5=[e9be52314489bd878ff4c7144b63c9e1]\n",
       "link E5 to E3--><a href=\"psysml:f4b8c599-6f69-4625-a365-4a72ec0c3cc2\" target=\"_top\" title=\"psysml:f4b8c599-6f69-4625-a365-4a72ec0c3cc2\" xlink:actuate=\"onRequest\" xlink:href=\"psysml:f4b8c599-6f69-4625-a365-4a72ec0c3cc2\" xlink:show=\"new\" xlink:title=\"psysml:f4b8c599-6f69-4625-a365-4a72ec0c3cc2\" xlink:type=\"simple\"><path d=\"M107,130.1 C107,145.37 107,166.16 107,184.57 \" fill=\"none\" id=\"E5-&gt;E3\" style=\"stroke: #383838; stroke-width: 1.0;\"/><polygon fill=\"#FFFFFF\" points=\"107,204.61,100,185.61,114,185.61,107,204.61\" style=\"stroke: #383838; stroke-width: 1.0;\"/><ellipse cx=\"102\" cy=\"179.91\" fill=\"#383838\" rx=\"2\" ry=\"2\" style=\"stroke: #383838; stroke-width: 1.0;\"/><ellipse cx=\"112\" cy=\"179.91\" fill=\"#383838\" rx=\"2\" ry=\"2\" style=\"stroke: #383838; stroke-width: 1.0;\"/></a><!--MD5=[cb1f64edf62756707d233b900542b05c]\n",
       "@startuml\r\n",
       "skinparam monochrome true\r\n",
       "skinparam classbackgroundcolor white\r\n",
       "skinparam shadowing false\r\n",
       "skinparam wrapWidth 300\r\n",
       "hide circle\r\n",
       "\r\n",
       "package \"AliasImport\" as E1  [[psysml:ef3d48fd-2829-4dbf-9589-92371a3e091f ]]  {\r\n",
       "package \"Definitions\" as E2  [[psysml:de0d2cc7-98e6-429c-a225-0b1a04e72b17 ]]  {\r\n",
       "comp def \"Vehicle\" as E3  <<(T,blue) part def>> [[psysml:6a2a8f83-25b7-443f-ad75-cafd3f704077 ]] {\r\n",
       "}\r\n",
       "}\r\n",
       "package \"Usages\" as E4  [[psysml:0db9d317-797a-4865-97e5-5934f0d4a303 ]]  {\r\n",
       "comp usage \"vehicle: Vehicle\" as E5  <<(T,blue) part>> [[psysml:ac2a7781-f3a7-4610-aa94-de8fcbc60da2 ]] {\r\n",
       "}\r\n",
       "E5 - -:|> E3 [[psysml:f4b8c599-6f69-4625-a365-4a72ec0c3cc2 ]] \r\n",
       "}\r\n",
       "}\r\n",
       "@enduml\r\n",
       "\n",
       "PlantUML version 1.2020.13(Sat Jun 13 12:26:38 UTC 2020)\n",
       "(EPL source distribution)\n",
       "Java Runtime: OpenJDK Runtime Environment\n",
       "JVM: OpenJDK 64-Bit Server VM\n",
       "Default Encoding: UTF-8\n",
       "Language: en\n",
       "Country: null\n",
       "--></g></svg>"
      ]
     },
     "execution_count": 38,
     "metadata": {},
     "output_type": "execute_result"
    }
   ],
   "source": [
    "%viz --style=\"DEFAULT\" --view=\"Tree\" \"AliasImport\""
   ]
  },
  {
   "cell_type": "code",
   "execution_count": 39,
   "id": "bea269c3",
   "metadata": {
    "execution": {
     "iopub.execute_input": "2021-08-04T06:25:42.516905Z",
     "iopub.status.busy": "2021-08-04T06:25:42.516426Z",
     "iopub.status.idle": "2021-08-04T06:25:42.521106Z",
     "shell.execute_reply": "2021-08-04T06:25:42.520696Z"
    }
   },
   "outputs": [
    {
     "data": {
      "image/svg+xml": [
       "<?xml version=\"1.0\" encoding=\"UTF-8\" standalone=\"no\"?><svg xmlns=\"http://www.w3.org/2000/svg\" xmlns:xlink=\"http://www.w3.org/1999/xlink\" contentScriptType=\"application/ecmascript\" contentStyleType=\"text/css\" height=\"12px\" preserveAspectRatio=\"none\" style=\"width:12px;height:12px;\" version=\"1.1\" viewBox=\"0 0 12 12\" width=\"12px\" zoomAndPan=\"magnify\"><defs/><g><!--MD5=[c5f280e076d0d61ccf4b0f27871bda1d]\n",
       "@startuml\r\n",
       "skinparam monochrome true\r\n",
       "skinparam classbackgroundcolor white\r\n",
       "skinparam shadowing false\r\n",
       "skinparam wrapWidth 300\r\n",
       "hide circle\r\n",
       "\r\n",
       "@enduml\r\n",
       "\n",
       "PlantUML version 1.2020.13(Sat Jun 13 12:26:38 UTC 2020)\n",
       "(EPL source distribution)\n",
       "Java Runtime: OpenJDK Runtime Environment\n",
       "JVM: OpenJDK 64-Bit Server VM\n",
       "Default Encoding: UTF-8\n",
       "Language: en\n",
       "Country: null\n",
       "--></g></svg>"
      ]
     },
     "execution_count": 39,
     "metadata": {},
     "output_type": "execute_result"
    }
   ],
   "source": [
    "%viz --style=\"DEFAULT\" --view=\"State\" \"AliasImport\""
   ]
  },
  {
   "cell_type": "code",
   "execution_count": 40,
   "id": "bc2ad094",
   "metadata": {
    "execution": {
     "iopub.execute_input": "2021-08-04T06:25:42.570960Z",
     "iopub.status.busy": "2021-08-04T06:25:42.570512Z",
     "iopub.status.idle": "2021-08-04T06:25:42.591198Z",
     "shell.execute_reply": "2021-08-04T06:25:42.590821Z"
    }
   },
   "outputs": [
    {
     "data": {
      "image/svg+xml": [
       "<?xml version=\"1.0\" encoding=\"UTF-8\" standalone=\"no\"?><svg xmlns=\"http://www.w3.org/2000/svg\" xmlns:xlink=\"http://www.w3.org/1999/xlink\" contentScriptType=\"application/ecmascript\" contentStyleType=\"text/css\" height=\"179px\" preserveAspectRatio=\"none\" style=\"width:458px;height:179px;\" version=\"1.1\" viewBox=\"0 0 458 179\" width=\"458px\" zoomAndPan=\"magnify\"><defs/><g><!--MD5=[fbc87193dbaf4d95561dea2c320d4a47]\n",
       "cluster E1--><a href=\"psysml:ef3d48fd-2829-4dbf-9589-92371a3e091f\" target=\"_top\" title=\"psysml:ef3d48fd-2829-4dbf-9589-92371a3e091f\" xlink:actuate=\"onRequest\" xlink:href=\"psysml:ef3d48fd-2829-4dbf-9589-92371a3e091f\" xlink:show=\"new\" xlink:title=\"psysml:ef3d48fd-2829-4dbf-9589-92371a3e091f\" xlink:type=\"simple\"><polygon fill=\"#FFFFFF\" points=\"16,6,110,6,117,28.2969,436,28.2969,436,167,16,167,16,6\" style=\"stroke: #000000; stroke-width: 1.5;\"/><line style=\"stroke: #000000; stroke-width: 1.5;\" x1=\"16\" x2=\"117\" y1=\"28.2969\" y2=\"28.2969\"/><text fill=\"#000000\" font-family=\"sans-serif\" font-size=\"14\" font-weight=\"bold\" lengthAdjust=\"spacingAndGlyphs\" textLength=\"88\" x=\"20\" y=\"20.9951\">AliasImport</text></a><!--MD5=[e4f7fae6ed58524ba242bb0b0d3be6b7]\n",
       "cluster E2--><a href=\"psysml:de0d2cc7-98e6-429c-a225-0b1a04e72b17\" target=\"_top\" title=\"psysml:de0d2cc7-98e6-429c-a225-0b1a04e72b17\" xlink:actuate=\"onRequest\" xlink:href=\"psysml:de0d2cc7-98e6-429c-a225-0b1a04e72b17\" xlink:show=\"new\" xlink:title=\"psysml:de0d2cc7-98e6-429c-a225-0b1a04e72b17\" xlink:type=\"simple\"><polygon fill=\"#FFFFFF\" points=\"202,49,292,49,299,71.2969,412,71.2969,412,143,202,143,202,49\" style=\"stroke: #000000; stroke-width: 1.5;\"/><line style=\"stroke: #000000; stroke-width: 1.5;\" x1=\"202\" x2=\"299\" y1=\"71.2969\" y2=\"71.2969\"/><text fill=\"#000000\" font-family=\"sans-serif\" font-size=\"14\" font-weight=\"bold\" lengthAdjust=\"spacingAndGlyphs\" textLength=\"84\" x=\"206\" y=\"63.9951\">Definitions</text></a><!--MD5=[de5ec2e2e8f62f467e546659f5068c88]\n",
       "cluster E5--><a href=\"psysml:0db9d317-797a-4865-97e5-5934f0d4a303\" target=\"_top\" title=\"psysml:0db9d317-797a-4865-97e5-5934f0d4a303\" xlink:actuate=\"onRequest\" xlink:href=\"psysml:0db9d317-797a-4865-97e5-5934f0d4a303\" xlink:show=\"new\" xlink:title=\"psysml:0db9d317-797a-4865-97e5-5934f0d4a303\" xlink:type=\"simple\"><polygon fill=\"#FFFFFF\" points=\"40,50.5,104,50.5,111,72.7969,178,72.7969,178,141.5,40,141.5,40,50.5\" style=\"stroke: #000000; stroke-width: 1.5;\"/><line style=\"stroke: #000000; stroke-width: 1.5;\" x1=\"40\" x2=\"111\" y1=\"72.7969\" y2=\"72.7969\"/><text fill=\"#000000\" font-family=\"sans-serif\" font-size=\"14\" font-weight=\"bold\" lengthAdjust=\"spacingAndGlyphs\" textLength=\"58\" x=\"44\" y=\"65.4951\">Usages</text></a><g id=\"E1.E2.E3\"><a href=\"psysml:6a2a8f83-25b7-443f-ad75-cafd3f704077\" target=\"_top\" title=\"psysml:6a2a8f83-25b7-443f-ad75-cafd3f704077\" xlink:actuate=\"onRequest\" xlink:href=\"psysml:6a2a8f83-25b7-443f-ad75-cafd3f704077\" xlink:show=\"new\" xlink:title=\"psysml:6a2a8f83-25b7-443f-ad75-cafd3f704077\" xlink:type=\"simple\"><rect fill=\"#FFFFFF\" height=\"42.9375\" id=\"E3\" style=\"stroke: #383838; stroke-width: 1.5;\" width=\"71\" x=\"324.5\" y=\"84\"/><rect fill=\"#F8F8F8\" height=\"37.9375\" style=\"stroke: #383838; stroke-width: 1.5;\" width=\"71\" x=\"324.5\" y=\"84\"/><text fill=\"#000000\" font-family=\"sans-serif\" font-size=\"12\" font-style=\"italic\" lengthAdjust=\"spacingAndGlyphs\" textLength=\"64\" x=\"328\" y=\"100.1387\">«part def»</text><text fill=\"#000000\" font-family=\"sans-serif\" font-size=\"12\" lengthAdjust=\"spacingAndGlyphs\" textLength=\"45\" x=\"337.5\" y=\"114.1074\">Vehicle</text></a></g><g id=\"E1.E2.E4\"><a href=\"psysml:6a2a8f83-25b7-443f-ad75-cafd3f704077\" target=\"_top\" title=\"psysml:6a2a8f83-25b7-443f-ad75-cafd3f704077\" xlink:actuate=\"onRequest\" xlink:href=\"psysml:6a2a8f83-25b7-443f-ad75-cafd3f704077\" xlink:show=\"new\" xlink:title=\"psysml:6a2a8f83-25b7-443f-ad75-cafd3f704077\" xlink:type=\"simple\"><rect fill=\"#FFFFFF\" height=\"42.9375\" id=\"E4\" style=\"stroke: #383838; stroke-width: 1.5;\" width=\"71\" x=\"218.5\" y=\"84\"/><rect fill=\"#F8F8F8\" height=\"37.9375\" style=\"stroke: #383838; stroke-width: 1.5;\" width=\"71\" x=\"218.5\" y=\"84\"/><text fill=\"#000000\" font-family=\"sans-serif\" font-size=\"12\" font-style=\"italic\" lengthAdjust=\"spacingAndGlyphs\" textLength=\"64\" x=\"222\" y=\"100.1387\">«part def»</text><text fill=\"#000000\" font-family=\"sans-serif\" font-size=\"12\" lengthAdjust=\"spacingAndGlyphs\" textLength=\"45\" x=\"231.5\" y=\"114.1074\">Vehicle</text></a></g><g id=\"E1.E5.E6\"><a href=\"psysml:ac2a7781-f3a7-4610-aa94-de8fcbc60da2\" target=\"_top\" title=\"psysml:ac2a7781-f3a7-4610-aa94-de8fcbc60da2\" xlink:actuate=\"onRequest\" xlink:href=\"psysml:ac2a7781-f3a7-4610-aa94-de8fcbc60da2\" xlink:show=\"new\" xlink:title=\"psysml:ac2a7781-f3a7-4610-aa94-de8fcbc60da2\" xlink:type=\"simple\"><rect fill=\"#FFFFFF\" height=\"40\" id=\"E6\" rx=\"10\" ry=\"10\" style=\"stroke: #383838; stroke-width: 1.5;\" width=\"107\" x=\"55.5\" y=\"85.5\"/><rect fill=\"#F8F8F8\" height=\"23.9688\" rx=\"10\" ry=\"10\" style=\"stroke: #F8F8F8; stroke-width: 1.5;\" width=\"107\" x=\"55.5\" y=\"85.5\"/><rect fill=\"#F8F8F8\" height=\"10\" style=\"stroke: #F8F8F8; stroke-width: 1.5;\" width=\"107\" x=\"55.5\" y=\"99.4688\"/><rect fill=\"none\" height=\"40\" id=\"E6\" rx=\"10\" ry=\"10\" style=\"stroke: #383838; stroke-width: 1.5;\" width=\"107\" x=\"55.5\" y=\"85.5\"/><text fill=\"#000000\" font-family=\"sans-serif\" font-size=\"12\" lengthAdjust=\"spacingAndGlyphs\" textLength=\"96\" x=\"61\" y=\"101.6387\">vehicle: Vehicle</text></a></g><!--MD5=[d8e6a1b5a31b7454fa7fc04d205b2fcd]\n",
       "@startuml\r\n",
       "skinparam ranksep 10\r\n",
       "skinparam rectangle {\r\n",
       " backgroundColor<<block>> LightGreen\r\n",
       "}\r\n",
       "skinparam monochrome true\r\n",
       "skinparam classbackgroundcolor white\r\n",
       "skinparam shadowing false\r\n",
       "skinparam wrapWidth 300\r\n",
       "hide circle\r\n",
       "\r\n",
       "package \"AliasImport\" as E1  [[psysml:ef3d48fd-2829-4dbf-9589-92371a3e091f ]]  {\r\n",
       "package \"Definitions\" as E2  [[psysml:de0d2cc7-98e6-429c-a225-0b1a04e72b17 ]]  {\r\n",
       "rec def \"Vehicle\" as E3  <<(T,blue) part def>> [[psysml:6a2a8f83-25b7-443f-ad75-cafd3f704077 ]] {\r\n",
       "}\r\n",
       "rec def \"Vehicle\" as E4  <<(T,blue) part def>> [[psysml:6a2a8f83-25b7-443f-ad75-cafd3f704077 ]] {\r\n",
       "}\r\n",
       "}\r\n",
       "package \"Usages\" as E5  [[psysml:0db9d317-797a-4865-97e5-5934f0d4a303 ]]  {\r\n",
       "rec usage \"vehicle: Vehicle\" as E6  [[psysml:ac2a7781-f3a7-4610-aa94-de8fcbc60da2 ]] {\r\n",
       "}\r\n",
       "}\r\n",
       "}\r\n",
       "@enduml\r\n",
       "\n",
       "PlantUML version 1.2020.13(Sat Jun 13 12:26:38 UTC 2020)\n",
       "(EPL source distribution)\n",
       "Java Runtime: OpenJDK Runtime Environment\n",
       "JVM: OpenJDK 64-Bit Server VM\n",
       "Default Encoding: UTF-8\n",
       "Language: en\n",
       "Country: null\n",
       "--></g></svg>"
      ]
     },
     "execution_count": 40,
     "metadata": {},
     "output_type": "execute_result"
    }
   ],
   "source": [
    "%viz --style=\"DEFAULT\" --view=\"Interconnection\" \"AliasImport\""
   ]
  },
  {
   "cell_type": "code",
   "execution_count": 41,
   "id": "83b40c4f",
   "metadata": {
    "execution": {
     "iopub.execute_input": "2021-08-04T06:25:42.640559Z",
     "iopub.status.busy": "2021-08-04T06:25:42.640094Z",
     "iopub.status.idle": "2021-08-04T06:25:42.643093Z",
     "shell.execute_reply": "2021-08-04T06:25:42.642725Z"
    }
   },
   "outputs": [
    {
     "data": {
      "image/svg+xml": [
       "<?xml version=\"1.0\" encoding=\"UTF-8\" standalone=\"no\"?><svg xmlns=\"http://www.w3.org/2000/svg\" xmlns:xlink=\"http://www.w3.org/1999/xlink\" contentScriptType=\"application/ecmascript\" contentStyleType=\"text/css\" height=\"12px\" preserveAspectRatio=\"none\" style=\"width:12px;height:12px;\" version=\"1.1\" viewBox=\"0 0 12 12\" width=\"12px\" zoomAndPan=\"magnify\"><defs/><g><!--MD5=[388f21188e31bfdd97050473b19af356]\n",
       "@startuml\r\n",
       "skinparam ranksep 8\r\n",
       "skinparam monochrome true\r\n",
       "skinparam classbackgroundcolor white\r\n",
       "skinparam shadowing false\r\n",
       "skinparam wrapWidth 300\r\n",
       "hide circle\r\n",
       "\r\n",
       "@enduml\r\n",
       "\n",
       "PlantUML version 1.2020.13(Sat Jun 13 12:26:38 UTC 2020)\n",
       "(EPL source distribution)\n",
       "Java Runtime: OpenJDK Runtime Environment\n",
       "JVM: OpenJDK 64-Bit Server VM\n",
       "Default Encoding: UTF-8\n",
       "Language: en\n",
       "Country: null\n",
       "--></g></svg>"
      ]
     },
     "execution_count": 41,
     "metadata": {},
     "output_type": "execute_result"
    }
   ],
   "source": [
    "%viz --style=\"DEFAULT\" --view=\"Action\" \"AliasImport\""
   ]
  },
  {
   "cell_type": "code",
   "execution_count": 42,
   "id": "b3b2076a",
   "metadata": {
    "execution": {
     "iopub.execute_input": "2021-08-04T06:25:42.693157Z",
     "iopub.status.busy": "2021-08-04T06:25:42.692668Z",
     "iopub.status.idle": "2021-08-04T06:25:42.724577Z",
     "shell.execute_reply": "2021-08-04T06:25:42.723287Z"
    }
   },
   "outputs": [
    {
     "data": {
      "image/svg+xml": [
       "<?xml version=\"1.0\" encoding=\"UTF-8\" standalone=\"no\"?><svg xmlns=\"http://www.w3.org/2000/svg\" xmlns:xlink=\"http://www.w3.org/1999/xlink\" contentScriptType=\"application/ecmascript\" contentStyleType=\"text/css\" height=\"303px\" preserveAspectRatio=\"none\" style=\"width:220px;height:303px;\" version=\"1.1\" viewBox=\"0 0 220 303\" width=\"220px\" zoomAndPan=\"magnify\"><defs/><g><!--MD5=[fbc87193dbaf4d95561dea2c320d4a47]\n",
       "cluster E1--><a href=\"psysml:ef3d48fd-2829-4dbf-9589-92371a3e091f\" target=\"_top\" title=\"psysml:ef3d48fd-2829-4dbf-9589-92371a3e091f\" xlink:actuate=\"onRequest\" xlink:href=\"psysml:ef3d48fd-2829-4dbf-9589-92371a3e091f\" xlink:show=\"new\" xlink:title=\"psysml:ef3d48fd-2829-4dbf-9589-92371a3e091f\" xlink:type=\"simple\"><polygon fill=\"#FFFFFF\" points=\"16,6,110,6,117,28.2969,198,28.2969,198,291,16,291,16,6\" style=\"stroke: #000000; stroke-width: 1.5;\"/><line style=\"stroke: #000000; stroke-width: 1.5;\" x1=\"16\" x2=\"117\" y1=\"28.2969\" y2=\"28.2969\"/><text fill=\"#000000\" font-family=\"sans-serif\" font-size=\"14\" font-weight=\"bold\" lengthAdjust=\"spacingAndGlyphs\" textLength=\"88\" x=\"20\" y=\"20.9951\">AliasImport</text></a><!--MD5=[e4f7fae6ed58524ba242bb0b0d3be6b7]\n",
       "cluster E2--><a href=\"psysml:de0d2cc7-98e6-429c-a225-0b1a04e72b17\" target=\"_top\" title=\"psysml:de0d2cc7-98e6-429c-a225-0b1a04e72b17\" xlink:actuate=\"onRequest\" xlink:href=\"psysml:de0d2cc7-98e6-429c-a225-0b1a04e72b17\" xlink:show=\"new\" xlink:title=\"psysml:de0d2cc7-98e6-429c-a225-0b1a04e72b17\" xlink:type=\"simple\"><polygon fill=\"#FFFFFF\" points=\"57,170,147,170,154,192.2969,157,192.2969,157,267,57,267,57,170\" style=\"stroke: #000000; stroke-width: 1.5;\"/><line style=\"stroke: #000000; stroke-width: 1.5;\" x1=\"57\" x2=\"154\" y1=\"192.2969\" y2=\"192.2969\"/><text fill=\"#000000\" font-family=\"sans-serif\" font-size=\"14\" font-weight=\"bold\" lengthAdjust=\"spacingAndGlyphs\" textLength=\"84\" x=\"61\" y=\"184.9951\">Definitions</text></a><!--MD5=[f6df4d0ebaf0b5dfb2ced0ae5af7c670]\n",
       "cluster E4--><a href=\"psysml:0db9d317-797a-4865-97e5-5934f0d4a303\" target=\"_top\" title=\"psysml:0db9d317-797a-4865-97e5-5934f0d4a303\" xlink:actuate=\"onRequest\" xlink:href=\"psysml:0db9d317-797a-4865-97e5-5934f0d4a303\" xlink:show=\"new\" xlink:title=\"psysml:0db9d317-797a-4865-97e5-5934f0d4a303\" xlink:type=\"simple\"><polygon fill=\"#FFFFFF\" points=\"40,49,104,49,111,71.2969,174,71.2969,174,146,40,146,40,49\" style=\"stroke: #000000; stroke-width: 1.5;\"/><line style=\"stroke: #000000; stroke-width: 1.5;\" x1=\"40\" x2=\"111\" y1=\"71.2969\" y2=\"71.2969\"/><text fill=\"#000000\" font-family=\"sans-serif\" font-size=\"14\" font-weight=\"bold\" lengthAdjust=\"spacingAndGlyphs\" textLength=\"58\" x=\"44\" y=\"63.9951\">Usages</text></a><!--MD5=[09b614a08d8cba4a07c9adeb5e0fee81]\n",
       "class E3--><a href=\"psysml:6a2a8f83-25b7-443f-ad75-cafd3f704077\" target=\"_top\" title=\"psysml:6a2a8f83-25b7-443f-ad75-cafd3f704077\" xlink:actuate=\"onRequest\" xlink:href=\"psysml:6a2a8f83-25b7-443f-ad75-cafd3f704077\" xlink:show=\"new\" xlink:title=\"psysml:6a2a8f83-25b7-443f-ad75-cafd3f704077\" xlink:type=\"simple\"><rect fill=\"#FFFFFF\" height=\"45.9375\" id=\"E3\" style=\"stroke: #383838; stroke-width: 1.5;\" width=\"66\" x=\"74\" y=\"205\"/><text fill=\"#000000\" font-family=\"sans-serif\" font-size=\"12\" font-style=\"italic\" lengthAdjust=\"spacingAndGlyphs\" textLength=\"64\" x=\"75\" y=\"221.1387\">«part def»</text><text fill=\"#000000\" font-family=\"sans-serif\" font-size=\"12\" lengthAdjust=\"spacingAndGlyphs\" textLength=\"45\" x=\"84.5\" y=\"235.1074\">Vehicle</text><line style=\"stroke: #383838; stroke-width: 1.5;\" x1=\"75\" x2=\"139\" y1=\"242.9375\" y2=\"242.9375\"/></a><!--MD5=[270fce915f116d4de14055a7c1d9a0f3]\n",
       "class E5--><a href=\"psysml:ac2a7781-f3a7-4610-aa94-de8fcbc60da2\" target=\"_top\" title=\"psysml:ac2a7781-f3a7-4610-aa94-de8fcbc60da2\" xlink:actuate=\"onRequest\" xlink:href=\"psysml:ac2a7781-f3a7-4610-aa94-de8fcbc60da2\" xlink:show=\"new\" xlink:title=\"psysml:ac2a7781-f3a7-4610-aa94-de8fcbc60da2\" xlink:type=\"simple\"><rect fill=\"#FFFFFF\" height=\"45.9375\" id=\"E5\" rx=\"10\" ry=\"10\" style=\"stroke: #383838; stroke-width: 1.5;\" width=\"102\" x=\"56\" y=\"84\"/><text fill=\"#000000\" font-family=\"sans-serif\" font-size=\"12\" font-style=\"italic\" lengthAdjust=\"spacingAndGlyphs\" textLength=\"40\" x=\"87\" y=\"100.1387\">«part»</text><text fill=\"#000000\" font-family=\"sans-serif\" font-size=\"12\" lengthAdjust=\"spacingAndGlyphs\" textLength=\"96\" x=\"59\" y=\"114.1074\">vehicle: Vehicle</text><line style=\"stroke: #383838; stroke-width: 1.5;\" x1=\"57\" x2=\"157\" y1=\"121.9375\" y2=\"121.9375\"/></a><!--MD5=[e9be52314489bd878ff4c7144b63c9e1]\n",
       "link E5 to E3--><a href=\"psysml:f4b8c599-6f69-4625-a365-4a72ec0c3cc2\" target=\"_top\" title=\"psysml:f4b8c599-6f69-4625-a365-4a72ec0c3cc2\" xlink:actuate=\"onRequest\" xlink:href=\"psysml:f4b8c599-6f69-4625-a365-4a72ec0c3cc2\" xlink:show=\"new\" xlink:title=\"psysml:f4b8c599-6f69-4625-a365-4a72ec0c3cc2\" xlink:type=\"simple\"><path d=\"M107,130.1 C107,145.37 107,166.16 107,184.57 \" fill=\"none\" id=\"E5-&gt;E3\" style=\"stroke: #383838; stroke-width: 1.0;\"/><polygon fill=\"#FFFFFF\" points=\"107,204.61,100,185.61,114,185.61,107,204.61\" style=\"stroke: #383838; stroke-width: 1.0;\"/><ellipse cx=\"102\" cy=\"179.91\" fill=\"#383838\" rx=\"2\" ry=\"2\" style=\"stroke: #383838; stroke-width: 1.0;\"/><ellipse cx=\"112\" cy=\"179.91\" fill=\"#383838\" rx=\"2\" ry=\"2\" style=\"stroke: #383838; stroke-width: 1.0;\"/></a><!--MD5=[cb1f64edf62756707d233b900542b05c]\n",
       "@startuml\r\n",
       "skinparam monochrome true\r\n",
       "skinparam classbackgroundcolor white\r\n",
       "skinparam shadowing false\r\n",
       "skinparam wrapWidth 300\r\n",
       "hide circle\r\n",
       "\r\n",
       "package \"AliasImport\" as E1  [[psysml:ef3d48fd-2829-4dbf-9589-92371a3e091f ]]  {\r\n",
       "package \"Definitions\" as E2  [[psysml:de0d2cc7-98e6-429c-a225-0b1a04e72b17 ]]  {\r\n",
       "comp def \"Vehicle\" as E3  <<(T,blue) part def>> [[psysml:6a2a8f83-25b7-443f-ad75-cafd3f704077 ]] {\r\n",
       "}\r\n",
       "}\r\n",
       "package \"Usages\" as E4  [[psysml:0db9d317-797a-4865-97e5-5934f0d4a303 ]]  {\r\n",
       "comp usage \"vehicle: Vehicle\" as E5  <<(T,blue) part>> [[psysml:ac2a7781-f3a7-4610-aa94-de8fcbc60da2 ]] {\r\n",
       "}\r\n",
       "E5 - -:|> E3 [[psysml:f4b8c599-6f69-4625-a365-4a72ec0c3cc2 ]] \r\n",
       "}\r\n",
       "}\r\n",
       "@enduml\r\n",
       "\n",
       "PlantUML version 1.2020.13(Sat Jun 13 12:26:38 UTC 2020)\n",
       "(EPL source distribution)\n",
       "Java Runtime: OpenJDK Runtime Environment\n",
       "JVM: OpenJDK 64-Bit Server VM\n",
       "Default Encoding: UTF-8\n",
       "Language: en\n",
       "Country: null\n",
       "--></g></svg>"
      ]
     },
     "execution_count": 42,
     "metadata": {},
     "output_type": "execute_result"
    }
   ],
   "source": [
    "%viz --style=\"DEFAULT\" --view=\"Sequence\" \"AliasImport\""
   ]
  },
  {
   "cell_type": "code",
   "execution_count": 43,
   "id": "10673dcf",
   "metadata": {
    "execution": {
     "iopub.execute_input": "2021-08-04T06:25:42.774032Z",
     "iopub.status.busy": "2021-08-04T06:25:42.773615Z",
     "iopub.status.idle": "2021-08-04T06:25:42.796719Z",
     "shell.execute_reply": "2021-08-04T06:25:42.796342Z"
    }
   },
   "outputs": [
    {
     "data": {
      "image/svg+xml": [
       "<?xml version=\"1.0\" encoding=\"UTF-8\" standalone=\"no\"?><svg xmlns=\"http://www.w3.org/2000/svg\" xmlns:xlink=\"http://www.w3.org/1999/xlink\" contentScriptType=\"application/ecmascript\" contentStyleType=\"text/css\" height=\"303px\" preserveAspectRatio=\"none\" style=\"width:220px;height:303px;\" version=\"1.1\" viewBox=\"0 0 220 303\" width=\"220px\" zoomAndPan=\"magnify\"><defs/><g><!--MD5=[fbc87193dbaf4d95561dea2c320d4a47]\n",
       "cluster E1--><a href=\"psysml:ef3d48fd-2829-4dbf-9589-92371a3e091f\" target=\"_top\" title=\"psysml:ef3d48fd-2829-4dbf-9589-92371a3e091f\" xlink:actuate=\"onRequest\" xlink:href=\"psysml:ef3d48fd-2829-4dbf-9589-92371a3e091f\" xlink:show=\"new\" xlink:title=\"psysml:ef3d48fd-2829-4dbf-9589-92371a3e091f\" xlink:type=\"simple\"><polygon fill=\"#FFFFFF\" points=\"16,6,110,6,117,28.2969,198,28.2969,198,291,16,291,16,6\" style=\"stroke: #000000; stroke-width: 1.5;\"/><line style=\"stroke: #000000; stroke-width: 1.5;\" x1=\"16\" x2=\"117\" y1=\"28.2969\" y2=\"28.2969\"/><text fill=\"#000000\" font-family=\"sans-serif\" font-size=\"14\" font-weight=\"bold\" lengthAdjust=\"spacingAndGlyphs\" textLength=\"88\" x=\"20\" y=\"20.9951\">AliasImport</text></a><!--MD5=[e4f7fae6ed58524ba242bb0b0d3be6b7]\n",
       "cluster E2--><a href=\"psysml:de0d2cc7-98e6-429c-a225-0b1a04e72b17\" target=\"_top\" title=\"psysml:de0d2cc7-98e6-429c-a225-0b1a04e72b17\" xlink:actuate=\"onRequest\" xlink:href=\"psysml:de0d2cc7-98e6-429c-a225-0b1a04e72b17\" xlink:show=\"new\" xlink:title=\"psysml:de0d2cc7-98e6-429c-a225-0b1a04e72b17\" xlink:type=\"simple\"><polygon fill=\"#FFFFFF\" points=\"57,170,147,170,154,192.2969,157,192.2969,157,267,57,267,57,170\" style=\"stroke: #000000; stroke-width: 1.5;\"/><line style=\"stroke: #000000; stroke-width: 1.5;\" x1=\"57\" x2=\"154\" y1=\"192.2969\" y2=\"192.2969\"/><text fill=\"#000000\" font-family=\"sans-serif\" font-size=\"14\" font-weight=\"bold\" lengthAdjust=\"spacingAndGlyphs\" textLength=\"84\" x=\"61\" y=\"184.9951\">Definitions</text></a><!--MD5=[f6df4d0ebaf0b5dfb2ced0ae5af7c670]\n",
       "cluster E4--><a href=\"psysml:0db9d317-797a-4865-97e5-5934f0d4a303\" target=\"_top\" title=\"psysml:0db9d317-797a-4865-97e5-5934f0d4a303\" xlink:actuate=\"onRequest\" xlink:href=\"psysml:0db9d317-797a-4865-97e5-5934f0d4a303\" xlink:show=\"new\" xlink:title=\"psysml:0db9d317-797a-4865-97e5-5934f0d4a303\" xlink:type=\"simple\"><polygon fill=\"#FFFFFF\" points=\"40,49,104,49,111,71.2969,174,71.2969,174,146,40,146,40,49\" style=\"stroke: #000000; stroke-width: 1.5;\"/><line style=\"stroke: #000000; stroke-width: 1.5;\" x1=\"40\" x2=\"111\" y1=\"71.2969\" y2=\"71.2969\"/><text fill=\"#000000\" font-family=\"sans-serif\" font-size=\"14\" font-weight=\"bold\" lengthAdjust=\"spacingAndGlyphs\" textLength=\"58\" x=\"44\" y=\"63.9951\">Usages</text></a><!--MD5=[09b614a08d8cba4a07c9adeb5e0fee81]\n",
       "class E3--><a href=\"psysml:6a2a8f83-25b7-443f-ad75-cafd3f704077\" target=\"_top\" title=\"psysml:6a2a8f83-25b7-443f-ad75-cafd3f704077\" xlink:actuate=\"onRequest\" xlink:href=\"psysml:6a2a8f83-25b7-443f-ad75-cafd3f704077\" xlink:show=\"new\" xlink:title=\"psysml:6a2a8f83-25b7-443f-ad75-cafd3f704077\" xlink:type=\"simple\"><rect fill=\"#FFFFFF\" height=\"45.9375\" id=\"E3\" style=\"stroke: #383838; stroke-width: 1.5;\" width=\"66\" x=\"74\" y=\"205\"/><text fill=\"#000000\" font-family=\"sans-serif\" font-size=\"12\" font-style=\"italic\" lengthAdjust=\"spacingAndGlyphs\" textLength=\"64\" x=\"75\" y=\"221.1387\">«part def»</text><text fill=\"#000000\" font-family=\"sans-serif\" font-size=\"12\" lengthAdjust=\"spacingAndGlyphs\" textLength=\"45\" x=\"84.5\" y=\"235.1074\">Vehicle</text><line style=\"stroke: #383838; stroke-width: 1.5;\" x1=\"75\" x2=\"139\" y1=\"242.9375\" y2=\"242.9375\"/></a><!--MD5=[270fce915f116d4de14055a7c1d9a0f3]\n",
       "class E5--><a href=\"psysml:ac2a7781-f3a7-4610-aa94-de8fcbc60da2\" target=\"_top\" title=\"psysml:ac2a7781-f3a7-4610-aa94-de8fcbc60da2\" xlink:actuate=\"onRequest\" xlink:href=\"psysml:ac2a7781-f3a7-4610-aa94-de8fcbc60da2\" xlink:show=\"new\" xlink:title=\"psysml:ac2a7781-f3a7-4610-aa94-de8fcbc60da2\" xlink:type=\"simple\"><rect fill=\"#FFFFFF\" height=\"45.9375\" id=\"E5\" rx=\"10\" ry=\"10\" style=\"stroke: #383838; stroke-width: 1.5;\" width=\"102\" x=\"56\" y=\"84\"/><text fill=\"#000000\" font-family=\"sans-serif\" font-size=\"12\" font-style=\"italic\" lengthAdjust=\"spacingAndGlyphs\" textLength=\"40\" x=\"87\" y=\"100.1387\">«part»</text><text fill=\"#000000\" font-family=\"sans-serif\" font-size=\"12\" lengthAdjust=\"spacingAndGlyphs\" textLength=\"96\" x=\"59\" y=\"114.1074\">vehicle: Vehicle</text><line style=\"stroke: #383838; stroke-width: 1.5;\" x1=\"57\" x2=\"157\" y1=\"121.9375\" y2=\"121.9375\"/></a><!--MD5=[e9be52314489bd878ff4c7144b63c9e1]\n",
       "link E5 to E3--><a href=\"psysml:f4b8c599-6f69-4625-a365-4a72ec0c3cc2\" target=\"_top\" title=\"psysml:f4b8c599-6f69-4625-a365-4a72ec0c3cc2\" xlink:actuate=\"onRequest\" xlink:href=\"psysml:f4b8c599-6f69-4625-a365-4a72ec0c3cc2\" xlink:show=\"new\" xlink:title=\"psysml:f4b8c599-6f69-4625-a365-4a72ec0c3cc2\" xlink:type=\"simple\"><path d=\"M107,130.1 C107,145.37 107,166.16 107,184.57 \" fill=\"none\" id=\"E5-&gt;E3\" style=\"stroke: #383838; stroke-width: 1.0;\"/><polygon fill=\"#FFFFFF\" points=\"107,204.61,100,185.61,114,185.61,107,204.61\" style=\"stroke: #383838; stroke-width: 1.0;\"/><ellipse cx=\"102\" cy=\"179.91\" fill=\"#383838\" rx=\"2\" ry=\"2\" style=\"stroke: #383838; stroke-width: 1.0;\"/><ellipse cx=\"112\" cy=\"179.91\" fill=\"#383838\" rx=\"2\" ry=\"2\" style=\"stroke: #383838; stroke-width: 1.0;\"/></a><!--MD5=[cb1f64edf62756707d233b900542b05c]\n",
       "@startuml\r\n",
       "skinparam monochrome true\r\n",
       "skinparam classbackgroundcolor white\r\n",
       "skinparam shadowing false\r\n",
       "skinparam wrapWidth 300\r\n",
       "hide circle\r\n",
       "\r\n",
       "package \"AliasImport\" as E1  [[psysml:ef3d48fd-2829-4dbf-9589-92371a3e091f ]]  {\r\n",
       "package \"Definitions\" as E2  [[psysml:de0d2cc7-98e6-429c-a225-0b1a04e72b17 ]]  {\r\n",
       "comp def \"Vehicle\" as E3  <<(T,blue) part def>> [[psysml:6a2a8f83-25b7-443f-ad75-cafd3f704077 ]] {\r\n",
       "}\r\n",
       "}\r\n",
       "package \"Usages\" as E4  [[psysml:0db9d317-797a-4865-97e5-5934f0d4a303 ]]  {\r\n",
       "comp usage \"vehicle: Vehicle\" as E5  <<(T,blue) part>> [[psysml:ac2a7781-f3a7-4610-aa94-de8fcbc60da2 ]] {\r\n",
       "}\r\n",
       "E5 - -:|> E3 [[psysml:f4b8c599-6f69-4625-a365-4a72ec0c3cc2 ]] \r\n",
       "}\r\n",
       "}\r\n",
       "@enduml\r\n",
       "\n",
       "PlantUML version 1.2020.13(Sat Jun 13 12:26:38 UTC 2020)\n",
       "(EPL source distribution)\n",
       "Java Runtime: OpenJDK Runtime Environment\n",
       "JVM: OpenJDK 64-Bit Server VM\n",
       "Default Encoding: UTF-8\n",
       "Language: en\n",
       "Country: null\n",
       "--></g></svg>"
      ]
     },
     "execution_count": 43,
     "metadata": {},
     "output_type": "execute_result"
    }
   ],
   "source": [
    "%viz --style=\"DEFAULT\" --view=\"MIXED\" \"AliasImport\""
   ]
  },
  {
   "cell_type": "code",
   "execution_count": 44,
   "id": "d542cb3d",
   "metadata": {
    "execution": {
     "iopub.execute_input": "2021-08-04T06:25:42.846500Z",
     "iopub.status.busy": "2021-08-04T06:25:42.846077Z",
     "iopub.status.idle": "2021-08-04T06:25:42.867488Z",
     "shell.execute_reply": "2021-08-04T06:25:42.867088Z"
    }
   },
   "outputs": [
    {
     "data": {
      "image/svg+xml": [
       "<?xml version=\"1.0\" encoding=\"UTF-8\" standalone=\"no\"?><svg xmlns=\"http://www.w3.org/2000/svg\" xmlns:xlink=\"http://www.w3.org/1999/xlink\" contentScriptType=\"application/ecmascript\" contentStyleType=\"text/css\" height=\"303px\" preserveAspectRatio=\"none\" style=\"width:220px;height:303px;\" version=\"1.1\" viewBox=\"0 0 220 303\" width=\"220px\" zoomAndPan=\"magnify\"><defs/><g><!--MD5=[fbc87193dbaf4d95561dea2c320d4a47]\n",
       "cluster E1--><a href=\"psysml:ef3d48fd-2829-4dbf-9589-92371a3e091f\" target=\"_top\" title=\"psysml:ef3d48fd-2829-4dbf-9589-92371a3e091f\" xlink:actuate=\"onRequest\" xlink:href=\"psysml:ef3d48fd-2829-4dbf-9589-92371a3e091f\" xlink:show=\"new\" xlink:title=\"psysml:ef3d48fd-2829-4dbf-9589-92371a3e091f\" xlink:type=\"simple\"><polygon fill=\"#FFFFFF\" points=\"16,6,110,6,117,28.2969,198,28.2969,198,291,16,291,16,6\" style=\"stroke: #000000; stroke-width: 1.5;\"/><line style=\"stroke: #000000; stroke-width: 1.5;\" x1=\"16\" x2=\"117\" y1=\"28.2969\" y2=\"28.2969\"/><text fill=\"#000000\" font-family=\"sans-serif\" font-size=\"14\" font-weight=\"bold\" lengthAdjust=\"spacingAndGlyphs\" textLength=\"88\" x=\"20\" y=\"20.9951\">AliasImport</text></a><!--MD5=[e4f7fae6ed58524ba242bb0b0d3be6b7]\n",
       "cluster E2--><a href=\"psysml:de0d2cc7-98e6-429c-a225-0b1a04e72b17\" target=\"_top\" title=\"psysml:de0d2cc7-98e6-429c-a225-0b1a04e72b17\" xlink:actuate=\"onRequest\" xlink:href=\"psysml:de0d2cc7-98e6-429c-a225-0b1a04e72b17\" xlink:show=\"new\" xlink:title=\"psysml:de0d2cc7-98e6-429c-a225-0b1a04e72b17\" xlink:type=\"simple\"><polygon fill=\"#FFFFFF\" points=\"57,170,147,170,154,192.2969,157,192.2969,157,267,57,267,57,170\" style=\"stroke: #000000; stroke-width: 1.5;\"/><line style=\"stroke: #000000; stroke-width: 1.5;\" x1=\"57\" x2=\"154\" y1=\"192.2969\" y2=\"192.2969\"/><text fill=\"#000000\" font-family=\"sans-serif\" font-size=\"14\" font-weight=\"bold\" lengthAdjust=\"spacingAndGlyphs\" textLength=\"84\" x=\"61\" y=\"184.9951\">Definitions</text></a><!--MD5=[f6df4d0ebaf0b5dfb2ced0ae5af7c670]\n",
       "cluster E4--><a href=\"psysml:0db9d317-797a-4865-97e5-5934f0d4a303\" target=\"_top\" title=\"psysml:0db9d317-797a-4865-97e5-5934f0d4a303\" xlink:actuate=\"onRequest\" xlink:href=\"psysml:0db9d317-797a-4865-97e5-5934f0d4a303\" xlink:show=\"new\" xlink:title=\"psysml:0db9d317-797a-4865-97e5-5934f0d4a303\" xlink:type=\"simple\"><polygon fill=\"#FFFFFF\" points=\"40,49,104,49,111,71.2969,174,71.2969,174,146,40,146,40,49\" style=\"stroke: #000000; stroke-width: 1.5;\"/><line style=\"stroke: #000000; stroke-width: 1.5;\" x1=\"40\" x2=\"111\" y1=\"71.2969\" y2=\"71.2969\"/><text fill=\"#000000\" font-family=\"sans-serif\" font-size=\"14\" font-weight=\"bold\" lengthAdjust=\"spacingAndGlyphs\" textLength=\"58\" x=\"44\" y=\"63.9951\">Usages</text></a><!--MD5=[09b614a08d8cba4a07c9adeb5e0fee81]\n",
       "class E3--><a href=\"psysml:6a2a8f83-25b7-443f-ad75-cafd3f704077\" target=\"_top\" title=\"psysml:6a2a8f83-25b7-443f-ad75-cafd3f704077\" xlink:actuate=\"onRequest\" xlink:href=\"psysml:6a2a8f83-25b7-443f-ad75-cafd3f704077\" xlink:show=\"new\" xlink:title=\"psysml:6a2a8f83-25b7-443f-ad75-cafd3f704077\" xlink:type=\"simple\"><rect fill=\"#FFFFFF\" height=\"45.9375\" id=\"E3\" style=\"stroke: #383838; stroke-width: 1.5;\" width=\"66\" x=\"74\" y=\"205\"/><text fill=\"#000000\" font-family=\"sans-serif\" font-size=\"12\" font-style=\"italic\" lengthAdjust=\"spacingAndGlyphs\" textLength=\"64\" x=\"75\" y=\"221.1387\">«part def»</text><text fill=\"#000000\" font-family=\"sans-serif\" font-size=\"12\" lengthAdjust=\"spacingAndGlyphs\" textLength=\"45\" x=\"84.5\" y=\"235.1074\">Vehicle</text><line style=\"stroke: #383838; stroke-width: 1.5;\" x1=\"75\" x2=\"139\" y1=\"242.9375\" y2=\"242.9375\"/></a><!--MD5=[270fce915f116d4de14055a7c1d9a0f3]\n",
       "class E5--><a href=\"psysml:ac2a7781-f3a7-4610-aa94-de8fcbc60da2\" target=\"_top\" title=\"psysml:ac2a7781-f3a7-4610-aa94-de8fcbc60da2\" xlink:actuate=\"onRequest\" xlink:href=\"psysml:ac2a7781-f3a7-4610-aa94-de8fcbc60da2\" xlink:show=\"new\" xlink:title=\"psysml:ac2a7781-f3a7-4610-aa94-de8fcbc60da2\" xlink:type=\"simple\"><rect fill=\"#FFFFFF\" height=\"45.9375\" id=\"E5\" rx=\"10\" ry=\"10\" style=\"stroke: #383838; stroke-width: 1.5;\" width=\"102\" x=\"56\" y=\"84\"/><text fill=\"#000000\" font-family=\"sans-serif\" font-size=\"12\" font-style=\"italic\" lengthAdjust=\"spacingAndGlyphs\" textLength=\"40\" x=\"87\" y=\"100.1387\">«part»</text><text fill=\"#000000\" font-family=\"sans-serif\" font-size=\"12\" lengthAdjust=\"spacingAndGlyphs\" textLength=\"96\" x=\"59\" y=\"114.1074\">vehicle: Vehicle</text><line style=\"stroke: #383838; stroke-width: 1.5;\" x1=\"57\" x2=\"157\" y1=\"121.9375\" y2=\"121.9375\"/></a><!--MD5=[e9be52314489bd878ff4c7144b63c9e1]\n",
       "link E5 to E3--><a href=\"psysml:f4b8c599-6f69-4625-a365-4a72ec0c3cc2\" target=\"_top\" title=\"psysml:f4b8c599-6f69-4625-a365-4a72ec0c3cc2\" xlink:actuate=\"onRequest\" xlink:href=\"psysml:f4b8c599-6f69-4625-a365-4a72ec0c3cc2\" xlink:show=\"new\" xlink:title=\"psysml:f4b8c599-6f69-4625-a365-4a72ec0c3cc2\" xlink:type=\"simple\"><path d=\"M107,130.1 C107,145.37 107,166.16 107,184.57 \" fill=\"none\" id=\"E5-&gt;E3\" style=\"stroke: #383838; stroke-width: 1.0;\"/><polygon fill=\"#FFFFFF\" points=\"107,204.61,100,185.61,114,185.61,107,204.61\" style=\"stroke: #383838; stroke-width: 1.0;\"/><ellipse cx=\"102\" cy=\"179.91\" fill=\"#383838\" rx=\"2\" ry=\"2\" style=\"stroke: #383838; stroke-width: 1.0;\"/><ellipse cx=\"112\" cy=\"179.91\" fill=\"#383838\" rx=\"2\" ry=\"2\" style=\"stroke: #383838; stroke-width: 1.0;\"/></a><!--MD5=[8ebe7a10de689bd742030736e72a960e]\n",
       "@startuml\r\n",
       "top to bottom direction\r\n",
       "skinparam monochrome true\r\n",
       "skinparam classbackgroundcolor white\r\n",
       "skinparam shadowing false\r\n",
       "skinparam wrapWidth 300\r\n",
       "hide circle\r\n",
       "\r\n",
       "package \"AliasImport\" as E1  [[psysml:ef3d48fd-2829-4dbf-9589-92371a3e091f ]]  {\r\n",
       "package \"Definitions\" as E2  [[psysml:de0d2cc7-98e6-429c-a225-0b1a04e72b17 ]]  {\r\n",
       "comp def \"Vehicle\" as E3  <<(T,blue) part def>> [[psysml:6a2a8f83-25b7-443f-ad75-cafd3f704077 ]] {\r\n",
       "}\r\n",
       "}\r\n",
       "package \"Usages\" as E4  [[psysml:0db9d317-797a-4865-97e5-5934f0d4a303 ]]  {\r\n",
       "comp usage \"vehicle: Vehicle\" as E5  <<(T,blue) part>> [[psysml:ac2a7781-f3a7-4610-aa94-de8fcbc60da2 ]] {\r\n",
       "}\r\n",
       "E5 - -:|> E3 [[psysml:f4b8c599-6f69-4625-a365-4a72ec0c3cc2 ]] \r\n",
       "}\r\n",
       "}\r\n",
       "@enduml\r\n",
       "\n",
       "PlantUML version 1.2020.13(Sat Jun 13 12:26:38 UTC 2020)\n",
       "(EPL source distribution)\n",
       "Java Runtime: OpenJDK Runtime Environment\n",
       "JVM: OpenJDK 64-Bit Server VM\n",
       "Default Encoding: UTF-8\n",
       "Language: en\n",
       "Country: null\n",
       "--></g></svg>"
      ]
     },
     "execution_count": 44,
     "metadata": {},
     "output_type": "execute_result"
    }
   ],
   "source": [
    "%viz --style=\"TB\" --view=\"Default\" \"AliasImport\""
   ]
  },
  {
   "cell_type": "code",
   "execution_count": 45,
   "id": "f62fb49b",
   "metadata": {
    "execution": {
     "iopub.execute_input": "2021-08-04T06:25:42.916684Z",
     "iopub.status.busy": "2021-08-04T06:25:42.916399Z",
     "iopub.status.idle": "2021-08-04T06:25:42.938460Z",
     "shell.execute_reply": "2021-08-04T06:25:42.937525Z"
    }
   },
   "outputs": [
    {
     "data": {
      "image/svg+xml": [
       "<?xml version=\"1.0\" encoding=\"UTF-8\" standalone=\"no\"?><svg xmlns=\"http://www.w3.org/2000/svg\" xmlns:xlink=\"http://www.w3.org/1999/xlink\" contentScriptType=\"application/ecmascript\" contentStyleType=\"text/css\" height=\"303px\" preserveAspectRatio=\"none\" style=\"width:220px;height:303px;\" version=\"1.1\" viewBox=\"0 0 220 303\" width=\"220px\" zoomAndPan=\"magnify\"><defs/><g><!--MD5=[fbc87193dbaf4d95561dea2c320d4a47]\n",
       "cluster E1--><a href=\"psysml:ef3d48fd-2829-4dbf-9589-92371a3e091f\" target=\"_top\" title=\"psysml:ef3d48fd-2829-4dbf-9589-92371a3e091f\" xlink:actuate=\"onRequest\" xlink:href=\"psysml:ef3d48fd-2829-4dbf-9589-92371a3e091f\" xlink:show=\"new\" xlink:title=\"psysml:ef3d48fd-2829-4dbf-9589-92371a3e091f\" xlink:type=\"simple\"><polygon fill=\"#FFFFFF\" points=\"16,6,110,6,117,28.2969,198,28.2969,198,291,16,291,16,6\" style=\"stroke: #000000; stroke-width: 1.5;\"/><line style=\"stroke: #000000; stroke-width: 1.5;\" x1=\"16\" x2=\"117\" y1=\"28.2969\" y2=\"28.2969\"/><text fill=\"#000000\" font-family=\"sans-serif\" font-size=\"14\" font-weight=\"bold\" lengthAdjust=\"spacingAndGlyphs\" textLength=\"88\" x=\"20\" y=\"20.9951\">AliasImport</text></a><!--MD5=[e4f7fae6ed58524ba242bb0b0d3be6b7]\n",
       "cluster E2--><a href=\"psysml:de0d2cc7-98e6-429c-a225-0b1a04e72b17\" target=\"_top\" title=\"psysml:de0d2cc7-98e6-429c-a225-0b1a04e72b17\" xlink:actuate=\"onRequest\" xlink:href=\"psysml:de0d2cc7-98e6-429c-a225-0b1a04e72b17\" xlink:show=\"new\" xlink:title=\"psysml:de0d2cc7-98e6-429c-a225-0b1a04e72b17\" xlink:type=\"simple\"><polygon fill=\"#FFFFFF\" points=\"57,170,147,170,154,192.2969,157,192.2969,157,267,57,267,57,170\" style=\"stroke: #000000; stroke-width: 1.5;\"/><line style=\"stroke: #000000; stroke-width: 1.5;\" x1=\"57\" x2=\"154\" y1=\"192.2969\" y2=\"192.2969\"/><text fill=\"#000000\" font-family=\"sans-serif\" font-size=\"14\" font-weight=\"bold\" lengthAdjust=\"spacingAndGlyphs\" textLength=\"84\" x=\"61\" y=\"184.9951\">Definitions</text></a><!--MD5=[f6df4d0ebaf0b5dfb2ced0ae5af7c670]\n",
       "cluster E4--><a href=\"psysml:0db9d317-797a-4865-97e5-5934f0d4a303\" target=\"_top\" title=\"psysml:0db9d317-797a-4865-97e5-5934f0d4a303\" xlink:actuate=\"onRequest\" xlink:href=\"psysml:0db9d317-797a-4865-97e5-5934f0d4a303\" xlink:show=\"new\" xlink:title=\"psysml:0db9d317-797a-4865-97e5-5934f0d4a303\" xlink:type=\"simple\"><polygon fill=\"#FFFFFF\" points=\"40,49,104,49,111,71.2969,174,71.2969,174,146,40,146,40,49\" style=\"stroke: #000000; stroke-width: 1.5;\"/><line style=\"stroke: #000000; stroke-width: 1.5;\" x1=\"40\" x2=\"111\" y1=\"71.2969\" y2=\"71.2969\"/><text fill=\"#000000\" font-family=\"sans-serif\" font-size=\"14\" font-weight=\"bold\" lengthAdjust=\"spacingAndGlyphs\" textLength=\"58\" x=\"44\" y=\"63.9951\">Usages</text></a><!--MD5=[09b614a08d8cba4a07c9adeb5e0fee81]\n",
       "class E3--><a href=\"psysml:6a2a8f83-25b7-443f-ad75-cafd3f704077\" target=\"_top\" title=\"psysml:6a2a8f83-25b7-443f-ad75-cafd3f704077\" xlink:actuate=\"onRequest\" xlink:href=\"psysml:6a2a8f83-25b7-443f-ad75-cafd3f704077\" xlink:show=\"new\" xlink:title=\"psysml:6a2a8f83-25b7-443f-ad75-cafd3f704077\" xlink:type=\"simple\"><rect fill=\"#FFFFFF\" height=\"45.9375\" id=\"E3\" style=\"stroke: #383838; stroke-width: 1.5;\" width=\"66\" x=\"74\" y=\"205\"/><text fill=\"#000000\" font-family=\"sans-serif\" font-size=\"12\" font-style=\"italic\" lengthAdjust=\"spacingAndGlyphs\" textLength=\"64\" x=\"75\" y=\"221.1387\">«part def»</text><text fill=\"#000000\" font-family=\"sans-serif\" font-size=\"12\" lengthAdjust=\"spacingAndGlyphs\" textLength=\"45\" x=\"84.5\" y=\"235.1074\">Vehicle</text><line style=\"stroke: #383838; stroke-width: 1.5;\" x1=\"75\" x2=\"139\" y1=\"242.9375\" y2=\"242.9375\"/></a><!--MD5=[270fce915f116d4de14055a7c1d9a0f3]\n",
       "class E5--><a href=\"psysml:ac2a7781-f3a7-4610-aa94-de8fcbc60da2\" target=\"_top\" title=\"psysml:ac2a7781-f3a7-4610-aa94-de8fcbc60da2\" xlink:actuate=\"onRequest\" xlink:href=\"psysml:ac2a7781-f3a7-4610-aa94-de8fcbc60da2\" xlink:show=\"new\" xlink:title=\"psysml:ac2a7781-f3a7-4610-aa94-de8fcbc60da2\" xlink:type=\"simple\"><rect fill=\"#FFFFFF\" height=\"45.9375\" id=\"E5\" rx=\"10\" ry=\"10\" style=\"stroke: #383838; stroke-width: 1.5;\" width=\"102\" x=\"56\" y=\"84\"/><text fill=\"#000000\" font-family=\"sans-serif\" font-size=\"12\" font-style=\"italic\" lengthAdjust=\"spacingAndGlyphs\" textLength=\"40\" x=\"87\" y=\"100.1387\">«part»</text><text fill=\"#000000\" font-family=\"sans-serif\" font-size=\"12\" lengthAdjust=\"spacingAndGlyphs\" textLength=\"96\" x=\"59\" y=\"114.1074\">vehicle: Vehicle</text><line style=\"stroke: #383838; stroke-width: 1.5;\" x1=\"57\" x2=\"157\" y1=\"121.9375\" y2=\"121.9375\"/></a><!--MD5=[e9be52314489bd878ff4c7144b63c9e1]\n",
       "link E5 to E3--><a href=\"psysml:f4b8c599-6f69-4625-a365-4a72ec0c3cc2\" target=\"_top\" title=\"psysml:f4b8c599-6f69-4625-a365-4a72ec0c3cc2\" xlink:actuate=\"onRequest\" xlink:href=\"psysml:f4b8c599-6f69-4625-a365-4a72ec0c3cc2\" xlink:show=\"new\" xlink:title=\"psysml:f4b8c599-6f69-4625-a365-4a72ec0c3cc2\" xlink:type=\"simple\"><path d=\"M107,130.1 C107,145.37 107,166.16 107,184.57 \" fill=\"none\" id=\"E5-&gt;E3\" style=\"stroke: #383838; stroke-width: 1.0;\"/><polygon fill=\"#FFFFFF\" points=\"107,204.61,100,185.61,114,185.61,107,204.61\" style=\"stroke: #383838; stroke-width: 1.0;\"/><ellipse cx=\"102\" cy=\"179.91\" fill=\"#383838\" rx=\"2\" ry=\"2\" style=\"stroke: #383838; stroke-width: 1.0;\"/><ellipse cx=\"112\" cy=\"179.91\" fill=\"#383838\" rx=\"2\" ry=\"2\" style=\"stroke: #383838; stroke-width: 1.0;\"/></a><!--MD5=[8ebe7a10de689bd742030736e72a960e]\n",
       "@startuml\r\n",
       "top to bottom direction\r\n",
       "skinparam monochrome true\r\n",
       "skinparam classbackgroundcolor white\r\n",
       "skinparam shadowing false\r\n",
       "skinparam wrapWidth 300\r\n",
       "hide circle\r\n",
       "\r\n",
       "package \"AliasImport\" as E1  [[psysml:ef3d48fd-2829-4dbf-9589-92371a3e091f ]]  {\r\n",
       "package \"Definitions\" as E2  [[psysml:de0d2cc7-98e6-429c-a225-0b1a04e72b17 ]]  {\r\n",
       "comp def \"Vehicle\" as E3  <<(T,blue) part def>> [[psysml:6a2a8f83-25b7-443f-ad75-cafd3f704077 ]] {\r\n",
       "}\r\n",
       "}\r\n",
       "package \"Usages\" as E4  [[psysml:0db9d317-797a-4865-97e5-5934f0d4a303 ]]  {\r\n",
       "comp usage \"vehicle: Vehicle\" as E5  <<(T,blue) part>> [[psysml:ac2a7781-f3a7-4610-aa94-de8fcbc60da2 ]] {\r\n",
       "}\r\n",
       "E5 - -:|> E3 [[psysml:f4b8c599-6f69-4625-a365-4a72ec0c3cc2 ]] \r\n",
       "}\r\n",
       "}\r\n",
       "@enduml\r\n",
       "\n",
       "PlantUML version 1.2020.13(Sat Jun 13 12:26:38 UTC 2020)\n",
       "(EPL source distribution)\n",
       "Java Runtime: OpenJDK Runtime Environment\n",
       "JVM: OpenJDK 64-Bit Server VM\n",
       "Default Encoding: UTF-8\n",
       "Language: en\n",
       "Country: null\n",
       "--></g></svg>"
      ]
     },
     "execution_count": 45,
     "metadata": {},
     "output_type": "execute_result"
    }
   ],
   "source": [
    "%viz --style=\"TB\" --view=\"Tree\" \"AliasImport\""
   ]
  },
  {
   "cell_type": "code",
   "execution_count": 46,
   "id": "03528779",
   "metadata": {
    "execution": {
     "iopub.execute_input": "2021-08-04T06:25:42.988482Z",
     "iopub.status.busy": "2021-08-04T06:25:42.988101Z",
     "iopub.status.idle": "2021-08-04T06:25:42.991108Z",
     "shell.execute_reply": "2021-08-04T06:25:42.991282Z"
    }
   },
   "outputs": [
    {
     "data": {
      "image/svg+xml": [
       "<?xml version=\"1.0\" encoding=\"UTF-8\" standalone=\"no\"?><svg xmlns=\"http://www.w3.org/2000/svg\" xmlns:xlink=\"http://www.w3.org/1999/xlink\" contentScriptType=\"application/ecmascript\" contentStyleType=\"text/css\" height=\"12px\" preserveAspectRatio=\"none\" style=\"width:12px;height:12px;\" version=\"1.1\" viewBox=\"0 0 12 12\" width=\"12px\" zoomAndPan=\"magnify\"><defs/><g><!--MD5=[f4ee21bc66e489b5061b7c3e9601fdef]\n",
       "@startuml\r\n",
       "top to bottom direction\r\n",
       "skinparam monochrome true\r\n",
       "skinparam classbackgroundcolor white\r\n",
       "skinparam shadowing false\r\n",
       "skinparam wrapWidth 300\r\n",
       "hide circle\r\n",
       "\r\n",
       "@enduml\r\n",
       "\n",
       "PlantUML version 1.2020.13(Sat Jun 13 12:26:38 UTC 2020)\n",
       "(EPL source distribution)\n",
       "Java Runtime: OpenJDK Runtime Environment\n",
       "JVM: OpenJDK 64-Bit Server VM\n",
       "Default Encoding: UTF-8\n",
       "Language: en\n",
       "Country: null\n",
       "--></g></svg>"
      ]
     },
     "execution_count": 46,
     "metadata": {},
     "output_type": "execute_result"
    }
   ],
   "source": [
    "%viz --style=\"TB\" --view=\"State\" \"AliasImport\""
   ]
  },
  {
   "cell_type": "code",
   "execution_count": 47,
   "id": "7aef4401",
   "metadata": {
    "execution": {
     "iopub.execute_input": "2021-08-04T06:25:43.041484Z",
     "iopub.status.busy": "2021-08-04T06:25:43.041262Z",
     "iopub.status.idle": "2021-08-04T06:25:43.061189Z",
     "shell.execute_reply": "2021-08-04T06:25:43.060248Z"
    }
   },
   "outputs": [
    {
     "data": {
      "image/svg+xml": [
       "<?xml version=\"1.0\" encoding=\"UTF-8\" standalone=\"no\"?><svg xmlns=\"http://www.w3.org/2000/svg\" xmlns:xlink=\"http://www.w3.org/1999/xlink\" contentScriptType=\"application/ecmascript\" contentStyleType=\"text/css\" height=\"179px\" preserveAspectRatio=\"none\" style=\"width:458px;height:179px;\" version=\"1.1\" viewBox=\"0 0 458 179\" width=\"458px\" zoomAndPan=\"magnify\"><defs/><g><!--MD5=[fbc87193dbaf4d95561dea2c320d4a47]\n",
       "cluster E1--><a href=\"psysml:ef3d48fd-2829-4dbf-9589-92371a3e091f\" target=\"_top\" title=\"psysml:ef3d48fd-2829-4dbf-9589-92371a3e091f\" xlink:actuate=\"onRequest\" xlink:href=\"psysml:ef3d48fd-2829-4dbf-9589-92371a3e091f\" xlink:show=\"new\" xlink:title=\"psysml:ef3d48fd-2829-4dbf-9589-92371a3e091f\" xlink:type=\"simple\"><polygon fill=\"#FFFFFF\" points=\"16,6,110,6,117,28.2969,436,28.2969,436,167,16,167,16,6\" style=\"stroke: #000000; stroke-width: 1.5;\"/><line style=\"stroke: #000000; stroke-width: 1.5;\" x1=\"16\" x2=\"117\" y1=\"28.2969\" y2=\"28.2969\"/><text fill=\"#000000\" font-family=\"sans-serif\" font-size=\"14\" font-weight=\"bold\" lengthAdjust=\"spacingAndGlyphs\" textLength=\"88\" x=\"20\" y=\"20.9951\">AliasImport</text></a><!--MD5=[e4f7fae6ed58524ba242bb0b0d3be6b7]\n",
       "cluster E2--><a href=\"psysml:de0d2cc7-98e6-429c-a225-0b1a04e72b17\" target=\"_top\" title=\"psysml:de0d2cc7-98e6-429c-a225-0b1a04e72b17\" xlink:actuate=\"onRequest\" xlink:href=\"psysml:de0d2cc7-98e6-429c-a225-0b1a04e72b17\" xlink:show=\"new\" xlink:title=\"psysml:de0d2cc7-98e6-429c-a225-0b1a04e72b17\" xlink:type=\"simple\"><polygon fill=\"#FFFFFF\" points=\"202,49,292,49,299,71.2969,412,71.2969,412,143,202,143,202,49\" style=\"stroke: #000000; stroke-width: 1.5;\"/><line style=\"stroke: #000000; stroke-width: 1.5;\" x1=\"202\" x2=\"299\" y1=\"71.2969\" y2=\"71.2969\"/><text fill=\"#000000\" font-family=\"sans-serif\" font-size=\"14\" font-weight=\"bold\" lengthAdjust=\"spacingAndGlyphs\" textLength=\"84\" x=\"206\" y=\"63.9951\">Definitions</text></a><!--MD5=[de5ec2e2e8f62f467e546659f5068c88]\n",
       "cluster E5--><a href=\"psysml:0db9d317-797a-4865-97e5-5934f0d4a303\" target=\"_top\" title=\"psysml:0db9d317-797a-4865-97e5-5934f0d4a303\" xlink:actuate=\"onRequest\" xlink:href=\"psysml:0db9d317-797a-4865-97e5-5934f0d4a303\" xlink:show=\"new\" xlink:title=\"psysml:0db9d317-797a-4865-97e5-5934f0d4a303\" xlink:type=\"simple\"><polygon fill=\"#FFFFFF\" points=\"40,50.5,104,50.5,111,72.7969,178,72.7969,178,141.5,40,141.5,40,50.5\" style=\"stroke: #000000; stroke-width: 1.5;\"/><line style=\"stroke: #000000; stroke-width: 1.5;\" x1=\"40\" x2=\"111\" y1=\"72.7969\" y2=\"72.7969\"/><text fill=\"#000000\" font-family=\"sans-serif\" font-size=\"14\" font-weight=\"bold\" lengthAdjust=\"spacingAndGlyphs\" textLength=\"58\" x=\"44\" y=\"65.4951\">Usages</text></a><g id=\"E1.E2.E3\"><a href=\"psysml:6a2a8f83-25b7-443f-ad75-cafd3f704077\" target=\"_top\" title=\"psysml:6a2a8f83-25b7-443f-ad75-cafd3f704077\" xlink:actuate=\"onRequest\" xlink:href=\"psysml:6a2a8f83-25b7-443f-ad75-cafd3f704077\" xlink:show=\"new\" xlink:title=\"psysml:6a2a8f83-25b7-443f-ad75-cafd3f704077\" xlink:type=\"simple\"><rect fill=\"#FFFFFF\" height=\"42.9375\" id=\"E3\" style=\"stroke: #383838; stroke-width: 1.5;\" width=\"71\" x=\"324.5\" y=\"84\"/><rect fill=\"#F8F8F8\" height=\"37.9375\" style=\"stroke: #383838; stroke-width: 1.5;\" width=\"71\" x=\"324.5\" y=\"84\"/><text fill=\"#000000\" font-family=\"sans-serif\" font-size=\"12\" font-style=\"italic\" lengthAdjust=\"spacingAndGlyphs\" textLength=\"64\" x=\"328\" y=\"100.1387\">«part def»</text><text fill=\"#000000\" font-family=\"sans-serif\" font-size=\"12\" lengthAdjust=\"spacingAndGlyphs\" textLength=\"45\" x=\"337.5\" y=\"114.1074\">Vehicle</text></a></g><g id=\"E1.E2.E4\"><a href=\"psysml:6a2a8f83-25b7-443f-ad75-cafd3f704077\" target=\"_top\" title=\"psysml:6a2a8f83-25b7-443f-ad75-cafd3f704077\" xlink:actuate=\"onRequest\" xlink:href=\"psysml:6a2a8f83-25b7-443f-ad75-cafd3f704077\" xlink:show=\"new\" xlink:title=\"psysml:6a2a8f83-25b7-443f-ad75-cafd3f704077\" xlink:type=\"simple\"><rect fill=\"#FFFFFF\" height=\"42.9375\" id=\"E4\" style=\"stroke: #383838; stroke-width: 1.5;\" width=\"71\" x=\"218.5\" y=\"84\"/><rect fill=\"#F8F8F8\" height=\"37.9375\" style=\"stroke: #383838; stroke-width: 1.5;\" width=\"71\" x=\"218.5\" y=\"84\"/><text fill=\"#000000\" font-family=\"sans-serif\" font-size=\"12\" font-style=\"italic\" lengthAdjust=\"spacingAndGlyphs\" textLength=\"64\" x=\"222\" y=\"100.1387\">«part def»</text><text fill=\"#000000\" font-family=\"sans-serif\" font-size=\"12\" lengthAdjust=\"spacingAndGlyphs\" textLength=\"45\" x=\"231.5\" y=\"114.1074\">Vehicle</text></a></g><g id=\"E1.E5.E6\"><a href=\"psysml:ac2a7781-f3a7-4610-aa94-de8fcbc60da2\" target=\"_top\" title=\"psysml:ac2a7781-f3a7-4610-aa94-de8fcbc60da2\" xlink:actuate=\"onRequest\" xlink:href=\"psysml:ac2a7781-f3a7-4610-aa94-de8fcbc60da2\" xlink:show=\"new\" xlink:title=\"psysml:ac2a7781-f3a7-4610-aa94-de8fcbc60da2\" xlink:type=\"simple\"><rect fill=\"#FFFFFF\" height=\"40\" id=\"E6\" rx=\"10\" ry=\"10\" style=\"stroke: #383838; stroke-width: 1.5;\" width=\"107\" x=\"55.5\" y=\"85.5\"/><rect fill=\"#F8F8F8\" height=\"23.9688\" rx=\"10\" ry=\"10\" style=\"stroke: #F8F8F8; stroke-width: 1.5;\" width=\"107\" x=\"55.5\" y=\"85.5\"/><rect fill=\"#F8F8F8\" height=\"10\" style=\"stroke: #F8F8F8; stroke-width: 1.5;\" width=\"107\" x=\"55.5\" y=\"99.4688\"/><rect fill=\"none\" height=\"40\" id=\"E6\" rx=\"10\" ry=\"10\" style=\"stroke: #383838; stroke-width: 1.5;\" width=\"107\" x=\"55.5\" y=\"85.5\"/><text fill=\"#000000\" font-family=\"sans-serif\" font-size=\"12\" lengthAdjust=\"spacingAndGlyphs\" textLength=\"96\" x=\"61\" y=\"101.6387\">vehicle: Vehicle</text></a></g><!--MD5=[c7f41fd828b90291c47dbdf575a8da01]\n",
       "@startuml\r\n",
       "skinparam ranksep 10\r\n",
       "skinparam rectangle {\r\n",
       " backgroundColor<<block>> LightGreen\r\n",
       "}\r\n",
       "top to bottom direction\r\n",
       "skinparam monochrome true\r\n",
       "skinparam classbackgroundcolor white\r\n",
       "skinparam shadowing false\r\n",
       "skinparam wrapWidth 300\r\n",
       "hide circle\r\n",
       "\r\n",
       "package \"AliasImport\" as E1  [[psysml:ef3d48fd-2829-4dbf-9589-92371a3e091f ]]  {\r\n",
       "package \"Definitions\" as E2  [[psysml:de0d2cc7-98e6-429c-a225-0b1a04e72b17 ]]  {\r\n",
       "rec def \"Vehicle\" as E3  <<(T,blue) part def>> [[psysml:6a2a8f83-25b7-443f-ad75-cafd3f704077 ]] {\r\n",
       "}\r\n",
       "rec def \"Vehicle\" as E4  <<(T,blue) part def>> [[psysml:6a2a8f83-25b7-443f-ad75-cafd3f704077 ]] {\r\n",
       "}\r\n",
       "}\r\n",
       "package \"Usages\" as E5  [[psysml:0db9d317-797a-4865-97e5-5934f0d4a303 ]]  {\r\n",
       "rec usage \"vehicle: Vehicle\" as E6  [[psysml:ac2a7781-f3a7-4610-aa94-de8fcbc60da2 ]] {\r\n",
       "}\r\n",
       "}\r\n",
       "}\r\n",
       "@enduml\r\n",
       "\n",
       "PlantUML version 1.2020.13(Sat Jun 13 12:26:38 UTC 2020)\n",
       "(EPL source distribution)\n",
       "Java Runtime: OpenJDK Runtime Environment\n",
       "JVM: OpenJDK 64-Bit Server VM\n",
       "Default Encoding: UTF-8\n",
       "Language: en\n",
       "Country: null\n",
       "--></g></svg>"
      ]
     },
     "execution_count": 47,
     "metadata": {},
     "output_type": "execute_result"
    }
   ],
   "source": [
    "%viz --style=\"TB\" --view=\"Interconnection\" \"AliasImport\""
   ]
  },
  {
   "cell_type": "code",
   "execution_count": 48,
   "id": "813abb2c",
   "metadata": {
    "execution": {
     "iopub.execute_input": "2021-08-04T06:25:43.111116Z",
     "iopub.status.busy": "2021-08-04T06:25:43.110799Z",
     "iopub.status.idle": "2021-08-04T06:25:43.113497Z",
     "shell.execute_reply": "2021-08-04T06:25:43.113208Z"
    }
   },
   "outputs": [
    {
     "data": {
      "image/svg+xml": [
       "<?xml version=\"1.0\" encoding=\"UTF-8\" standalone=\"no\"?><svg xmlns=\"http://www.w3.org/2000/svg\" xmlns:xlink=\"http://www.w3.org/1999/xlink\" contentScriptType=\"application/ecmascript\" contentStyleType=\"text/css\" height=\"12px\" preserveAspectRatio=\"none\" style=\"width:12px;height:12px;\" version=\"1.1\" viewBox=\"0 0 12 12\" width=\"12px\" zoomAndPan=\"magnify\"><defs/><g><!--MD5=[06afc254b03ac5e9d9fb7773b07d0800]\n",
       "@startuml\r\n",
       "skinparam ranksep 8\r\n",
       "top to bottom direction\r\n",
       "skinparam monochrome true\r\n",
       "skinparam classbackgroundcolor white\r\n",
       "skinparam shadowing false\r\n",
       "skinparam wrapWidth 300\r\n",
       "hide circle\r\n",
       "\r\n",
       "@enduml\r\n",
       "\n",
       "PlantUML version 1.2020.13(Sat Jun 13 12:26:38 UTC 2020)\n",
       "(EPL source distribution)\n",
       "Java Runtime: OpenJDK Runtime Environment\n",
       "JVM: OpenJDK 64-Bit Server VM\n",
       "Default Encoding: UTF-8\n",
       "Language: en\n",
       "Country: null\n",
       "--></g></svg>"
      ]
     },
     "execution_count": 48,
     "metadata": {},
     "output_type": "execute_result"
    }
   ],
   "source": [
    "%viz --style=\"TB\" --view=\"Action\" \"AliasImport\""
   ]
  },
  {
   "cell_type": "code",
   "execution_count": 49,
   "id": "44aa280e",
   "metadata": {
    "execution": {
     "iopub.execute_input": "2021-08-04T06:25:43.163368Z",
     "iopub.status.busy": "2021-08-04T06:25:43.163108Z",
     "iopub.status.idle": "2021-08-04T06:25:43.182526Z",
     "shell.execute_reply": "2021-08-04T06:25:43.181543Z"
    }
   },
   "outputs": [
    {
     "data": {
      "image/svg+xml": [
       "<?xml version=\"1.0\" encoding=\"UTF-8\" standalone=\"no\"?><svg xmlns=\"http://www.w3.org/2000/svg\" xmlns:xlink=\"http://www.w3.org/1999/xlink\" contentScriptType=\"application/ecmascript\" contentStyleType=\"text/css\" height=\"303px\" preserveAspectRatio=\"none\" style=\"width:220px;height:303px;\" version=\"1.1\" viewBox=\"0 0 220 303\" width=\"220px\" zoomAndPan=\"magnify\"><defs/><g><!--MD5=[fbc87193dbaf4d95561dea2c320d4a47]\n",
       "cluster E1--><a href=\"psysml:ef3d48fd-2829-4dbf-9589-92371a3e091f\" target=\"_top\" title=\"psysml:ef3d48fd-2829-4dbf-9589-92371a3e091f\" xlink:actuate=\"onRequest\" xlink:href=\"psysml:ef3d48fd-2829-4dbf-9589-92371a3e091f\" xlink:show=\"new\" xlink:title=\"psysml:ef3d48fd-2829-4dbf-9589-92371a3e091f\" xlink:type=\"simple\"><polygon fill=\"#FFFFFF\" points=\"16,6,110,6,117,28.2969,198,28.2969,198,291,16,291,16,6\" style=\"stroke: #000000; stroke-width: 1.5;\"/><line style=\"stroke: #000000; stroke-width: 1.5;\" x1=\"16\" x2=\"117\" y1=\"28.2969\" y2=\"28.2969\"/><text fill=\"#000000\" font-family=\"sans-serif\" font-size=\"14\" font-weight=\"bold\" lengthAdjust=\"spacingAndGlyphs\" textLength=\"88\" x=\"20\" y=\"20.9951\">AliasImport</text></a><!--MD5=[e4f7fae6ed58524ba242bb0b0d3be6b7]\n",
       "cluster E2--><a href=\"psysml:de0d2cc7-98e6-429c-a225-0b1a04e72b17\" target=\"_top\" title=\"psysml:de0d2cc7-98e6-429c-a225-0b1a04e72b17\" xlink:actuate=\"onRequest\" xlink:href=\"psysml:de0d2cc7-98e6-429c-a225-0b1a04e72b17\" xlink:show=\"new\" xlink:title=\"psysml:de0d2cc7-98e6-429c-a225-0b1a04e72b17\" xlink:type=\"simple\"><polygon fill=\"#FFFFFF\" points=\"57,170,147,170,154,192.2969,157,192.2969,157,267,57,267,57,170\" style=\"stroke: #000000; stroke-width: 1.5;\"/><line style=\"stroke: #000000; stroke-width: 1.5;\" x1=\"57\" x2=\"154\" y1=\"192.2969\" y2=\"192.2969\"/><text fill=\"#000000\" font-family=\"sans-serif\" font-size=\"14\" font-weight=\"bold\" lengthAdjust=\"spacingAndGlyphs\" textLength=\"84\" x=\"61\" y=\"184.9951\">Definitions</text></a><!--MD5=[f6df4d0ebaf0b5dfb2ced0ae5af7c670]\n",
       "cluster E4--><a href=\"psysml:0db9d317-797a-4865-97e5-5934f0d4a303\" target=\"_top\" title=\"psysml:0db9d317-797a-4865-97e5-5934f0d4a303\" xlink:actuate=\"onRequest\" xlink:href=\"psysml:0db9d317-797a-4865-97e5-5934f0d4a303\" xlink:show=\"new\" xlink:title=\"psysml:0db9d317-797a-4865-97e5-5934f0d4a303\" xlink:type=\"simple\"><polygon fill=\"#FFFFFF\" points=\"40,49,104,49,111,71.2969,174,71.2969,174,146,40,146,40,49\" style=\"stroke: #000000; stroke-width: 1.5;\"/><line style=\"stroke: #000000; stroke-width: 1.5;\" x1=\"40\" x2=\"111\" y1=\"71.2969\" y2=\"71.2969\"/><text fill=\"#000000\" font-family=\"sans-serif\" font-size=\"14\" font-weight=\"bold\" lengthAdjust=\"spacingAndGlyphs\" textLength=\"58\" x=\"44\" y=\"63.9951\">Usages</text></a><!--MD5=[09b614a08d8cba4a07c9adeb5e0fee81]\n",
       "class E3--><a href=\"psysml:6a2a8f83-25b7-443f-ad75-cafd3f704077\" target=\"_top\" title=\"psysml:6a2a8f83-25b7-443f-ad75-cafd3f704077\" xlink:actuate=\"onRequest\" xlink:href=\"psysml:6a2a8f83-25b7-443f-ad75-cafd3f704077\" xlink:show=\"new\" xlink:title=\"psysml:6a2a8f83-25b7-443f-ad75-cafd3f704077\" xlink:type=\"simple\"><rect fill=\"#FFFFFF\" height=\"45.9375\" id=\"E3\" style=\"stroke: #383838; stroke-width: 1.5;\" width=\"66\" x=\"74\" y=\"205\"/><text fill=\"#000000\" font-family=\"sans-serif\" font-size=\"12\" font-style=\"italic\" lengthAdjust=\"spacingAndGlyphs\" textLength=\"64\" x=\"75\" y=\"221.1387\">«part def»</text><text fill=\"#000000\" font-family=\"sans-serif\" font-size=\"12\" lengthAdjust=\"spacingAndGlyphs\" textLength=\"45\" x=\"84.5\" y=\"235.1074\">Vehicle</text><line style=\"stroke: #383838; stroke-width: 1.5;\" x1=\"75\" x2=\"139\" y1=\"242.9375\" y2=\"242.9375\"/></a><!--MD5=[270fce915f116d4de14055a7c1d9a0f3]\n",
       "class E5--><a href=\"psysml:ac2a7781-f3a7-4610-aa94-de8fcbc60da2\" target=\"_top\" title=\"psysml:ac2a7781-f3a7-4610-aa94-de8fcbc60da2\" xlink:actuate=\"onRequest\" xlink:href=\"psysml:ac2a7781-f3a7-4610-aa94-de8fcbc60da2\" xlink:show=\"new\" xlink:title=\"psysml:ac2a7781-f3a7-4610-aa94-de8fcbc60da2\" xlink:type=\"simple\"><rect fill=\"#FFFFFF\" height=\"45.9375\" id=\"E5\" rx=\"10\" ry=\"10\" style=\"stroke: #383838; stroke-width: 1.5;\" width=\"102\" x=\"56\" y=\"84\"/><text fill=\"#000000\" font-family=\"sans-serif\" font-size=\"12\" font-style=\"italic\" lengthAdjust=\"spacingAndGlyphs\" textLength=\"40\" x=\"87\" y=\"100.1387\">«part»</text><text fill=\"#000000\" font-family=\"sans-serif\" font-size=\"12\" lengthAdjust=\"spacingAndGlyphs\" textLength=\"96\" x=\"59\" y=\"114.1074\">vehicle: Vehicle</text><line style=\"stroke: #383838; stroke-width: 1.5;\" x1=\"57\" x2=\"157\" y1=\"121.9375\" y2=\"121.9375\"/></a><!--MD5=[e9be52314489bd878ff4c7144b63c9e1]\n",
       "link E5 to E3--><a href=\"psysml:f4b8c599-6f69-4625-a365-4a72ec0c3cc2\" target=\"_top\" title=\"psysml:f4b8c599-6f69-4625-a365-4a72ec0c3cc2\" xlink:actuate=\"onRequest\" xlink:href=\"psysml:f4b8c599-6f69-4625-a365-4a72ec0c3cc2\" xlink:show=\"new\" xlink:title=\"psysml:f4b8c599-6f69-4625-a365-4a72ec0c3cc2\" xlink:type=\"simple\"><path d=\"M107,130.1 C107,145.37 107,166.16 107,184.57 \" fill=\"none\" id=\"E5-&gt;E3\" style=\"stroke: #383838; stroke-width: 1.0;\"/><polygon fill=\"#FFFFFF\" points=\"107,204.61,100,185.61,114,185.61,107,204.61\" style=\"stroke: #383838; stroke-width: 1.0;\"/><ellipse cx=\"102\" cy=\"179.91\" fill=\"#383838\" rx=\"2\" ry=\"2\" style=\"stroke: #383838; stroke-width: 1.0;\"/><ellipse cx=\"112\" cy=\"179.91\" fill=\"#383838\" rx=\"2\" ry=\"2\" style=\"stroke: #383838; stroke-width: 1.0;\"/></a><!--MD5=[8ebe7a10de689bd742030736e72a960e]\n",
       "@startuml\r\n",
       "top to bottom direction\r\n",
       "skinparam monochrome true\r\n",
       "skinparam classbackgroundcolor white\r\n",
       "skinparam shadowing false\r\n",
       "skinparam wrapWidth 300\r\n",
       "hide circle\r\n",
       "\r\n",
       "package \"AliasImport\" as E1  [[psysml:ef3d48fd-2829-4dbf-9589-92371a3e091f ]]  {\r\n",
       "package \"Definitions\" as E2  [[psysml:de0d2cc7-98e6-429c-a225-0b1a04e72b17 ]]  {\r\n",
       "comp def \"Vehicle\" as E3  <<(T,blue) part def>> [[psysml:6a2a8f83-25b7-443f-ad75-cafd3f704077 ]] {\r\n",
       "}\r\n",
       "}\r\n",
       "package \"Usages\" as E4  [[psysml:0db9d317-797a-4865-97e5-5934f0d4a303 ]]  {\r\n",
       "comp usage \"vehicle: Vehicle\" as E5  <<(T,blue) part>> [[psysml:ac2a7781-f3a7-4610-aa94-de8fcbc60da2 ]] {\r\n",
       "}\r\n",
       "E5 - -:|> E3 [[psysml:f4b8c599-6f69-4625-a365-4a72ec0c3cc2 ]] \r\n",
       "}\r\n",
       "}\r\n",
       "@enduml\r\n",
       "\n",
       "PlantUML version 1.2020.13(Sat Jun 13 12:26:38 UTC 2020)\n",
       "(EPL source distribution)\n",
       "Java Runtime: OpenJDK Runtime Environment\n",
       "JVM: OpenJDK 64-Bit Server VM\n",
       "Default Encoding: UTF-8\n",
       "Language: en\n",
       "Country: null\n",
       "--></g></svg>"
      ]
     },
     "execution_count": 49,
     "metadata": {},
     "output_type": "execute_result"
    }
   ],
   "source": [
    "%viz --style=\"TB\" --view=\"Sequence\" \"AliasImport\""
   ]
  },
  {
   "cell_type": "code",
   "execution_count": 50,
   "id": "16d70dc5",
   "metadata": {
    "execution": {
     "iopub.execute_input": "2021-08-04T06:25:43.232439Z",
     "iopub.status.busy": "2021-08-04T06:25:43.232027Z",
     "iopub.status.idle": "2021-08-04T06:25:43.247314Z",
     "shell.execute_reply": "2021-08-04T06:25:43.245605Z"
    }
   },
   "outputs": [
    {
     "data": {
      "image/svg+xml": [
       "<?xml version=\"1.0\" encoding=\"UTF-8\" standalone=\"no\"?><svg xmlns=\"http://www.w3.org/2000/svg\" xmlns:xlink=\"http://www.w3.org/1999/xlink\" contentScriptType=\"application/ecmascript\" contentStyleType=\"text/css\" height=\"303px\" preserveAspectRatio=\"none\" style=\"width:220px;height:303px;\" version=\"1.1\" viewBox=\"0 0 220 303\" width=\"220px\" zoomAndPan=\"magnify\"><defs/><g><!--MD5=[fbc87193dbaf4d95561dea2c320d4a47]\n",
       "cluster E1--><a href=\"psysml:ef3d48fd-2829-4dbf-9589-92371a3e091f\" target=\"_top\" title=\"psysml:ef3d48fd-2829-4dbf-9589-92371a3e091f\" xlink:actuate=\"onRequest\" xlink:href=\"psysml:ef3d48fd-2829-4dbf-9589-92371a3e091f\" xlink:show=\"new\" xlink:title=\"psysml:ef3d48fd-2829-4dbf-9589-92371a3e091f\" xlink:type=\"simple\"><polygon fill=\"#FFFFFF\" points=\"16,6,110,6,117,28.2969,198,28.2969,198,291,16,291,16,6\" style=\"stroke: #000000; stroke-width: 1.5;\"/><line style=\"stroke: #000000; stroke-width: 1.5;\" x1=\"16\" x2=\"117\" y1=\"28.2969\" y2=\"28.2969\"/><text fill=\"#000000\" font-family=\"sans-serif\" font-size=\"14\" font-weight=\"bold\" lengthAdjust=\"spacingAndGlyphs\" textLength=\"88\" x=\"20\" y=\"20.9951\">AliasImport</text></a><!--MD5=[e4f7fae6ed58524ba242bb0b0d3be6b7]\n",
       "cluster E2--><a href=\"psysml:de0d2cc7-98e6-429c-a225-0b1a04e72b17\" target=\"_top\" title=\"psysml:de0d2cc7-98e6-429c-a225-0b1a04e72b17\" xlink:actuate=\"onRequest\" xlink:href=\"psysml:de0d2cc7-98e6-429c-a225-0b1a04e72b17\" xlink:show=\"new\" xlink:title=\"psysml:de0d2cc7-98e6-429c-a225-0b1a04e72b17\" xlink:type=\"simple\"><polygon fill=\"#FFFFFF\" points=\"57,170,147,170,154,192.2969,157,192.2969,157,267,57,267,57,170\" style=\"stroke: #000000; stroke-width: 1.5;\"/><line style=\"stroke: #000000; stroke-width: 1.5;\" x1=\"57\" x2=\"154\" y1=\"192.2969\" y2=\"192.2969\"/><text fill=\"#000000\" font-family=\"sans-serif\" font-size=\"14\" font-weight=\"bold\" lengthAdjust=\"spacingAndGlyphs\" textLength=\"84\" x=\"61\" y=\"184.9951\">Definitions</text></a><!--MD5=[f6df4d0ebaf0b5dfb2ced0ae5af7c670]\n",
       "cluster E4--><a href=\"psysml:0db9d317-797a-4865-97e5-5934f0d4a303\" target=\"_top\" title=\"psysml:0db9d317-797a-4865-97e5-5934f0d4a303\" xlink:actuate=\"onRequest\" xlink:href=\"psysml:0db9d317-797a-4865-97e5-5934f0d4a303\" xlink:show=\"new\" xlink:title=\"psysml:0db9d317-797a-4865-97e5-5934f0d4a303\" xlink:type=\"simple\"><polygon fill=\"#FFFFFF\" points=\"40,49,104,49,111,71.2969,174,71.2969,174,146,40,146,40,49\" style=\"stroke: #000000; stroke-width: 1.5;\"/><line style=\"stroke: #000000; stroke-width: 1.5;\" x1=\"40\" x2=\"111\" y1=\"71.2969\" y2=\"71.2969\"/><text fill=\"#000000\" font-family=\"sans-serif\" font-size=\"14\" font-weight=\"bold\" lengthAdjust=\"spacingAndGlyphs\" textLength=\"58\" x=\"44\" y=\"63.9951\">Usages</text></a><!--MD5=[09b614a08d8cba4a07c9adeb5e0fee81]\n",
       "class E3--><a href=\"psysml:6a2a8f83-25b7-443f-ad75-cafd3f704077\" target=\"_top\" title=\"psysml:6a2a8f83-25b7-443f-ad75-cafd3f704077\" xlink:actuate=\"onRequest\" xlink:href=\"psysml:6a2a8f83-25b7-443f-ad75-cafd3f704077\" xlink:show=\"new\" xlink:title=\"psysml:6a2a8f83-25b7-443f-ad75-cafd3f704077\" xlink:type=\"simple\"><rect fill=\"#FFFFFF\" height=\"45.9375\" id=\"E3\" style=\"stroke: #383838; stroke-width: 1.5;\" width=\"66\" x=\"74\" y=\"205\"/><text fill=\"#000000\" font-family=\"sans-serif\" font-size=\"12\" font-style=\"italic\" lengthAdjust=\"spacingAndGlyphs\" textLength=\"64\" x=\"75\" y=\"221.1387\">«part def»</text><text fill=\"#000000\" font-family=\"sans-serif\" font-size=\"12\" lengthAdjust=\"spacingAndGlyphs\" textLength=\"45\" x=\"84.5\" y=\"235.1074\">Vehicle</text><line style=\"stroke: #383838; stroke-width: 1.5;\" x1=\"75\" x2=\"139\" y1=\"242.9375\" y2=\"242.9375\"/></a><!--MD5=[270fce915f116d4de14055a7c1d9a0f3]\n",
       "class E5--><a href=\"psysml:ac2a7781-f3a7-4610-aa94-de8fcbc60da2\" target=\"_top\" title=\"psysml:ac2a7781-f3a7-4610-aa94-de8fcbc60da2\" xlink:actuate=\"onRequest\" xlink:href=\"psysml:ac2a7781-f3a7-4610-aa94-de8fcbc60da2\" xlink:show=\"new\" xlink:title=\"psysml:ac2a7781-f3a7-4610-aa94-de8fcbc60da2\" xlink:type=\"simple\"><rect fill=\"#FFFFFF\" height=\"45.9375\" id=\"E5\" rx=\"10\" ry=\"10\" style=\"stroke: #383838; stroke-width: 1.5;\" width=\"102\" x=\"56\" y=\"84\"/><text fill=\"#000000\" font-family=\"sans-serif\" font-size=\"12\" font-style=\"italic\" lengthAdjust=\"spacingAndGlyphs\" textLength=\"40\" x=\"87\" y=\"100.1387\">«part»</text><text fill=\"#000000\" font-family=\"sans-serif\" font-size=\"12\" lengthAdjust=\"spacingAndGlyphs\" textLength=\"96\" x=\"59\" y=\"114.1074\">vehicle: Vehicle</text><line style=\"stroke: #383838; stroke-width: 1.5;\" x1=\"57\" x2=\"157\" y1=\"121.9375\" y2=\"121.9375\"/></a><!--MD5=[e9be52314489bd878ff4c7144b63c9e1]\n",
       "link E5 to E3--><a href=\"psysml:f4b8c599-6f69-4625-a365-4a72ec0c3cc2\" target=\"_top\" title=\"psysml:f4b8c599-6f69-4625-a365-4a72ec0c3cc2\" xlink:actuate=\"onRequest\" xlink:href=\"psysml:f4b8c599-6f69-4625-a365-4a72ec0c3cc2\" xlink:show=\"new\" xlink:title=\"psysml:f4b8c599-6f69-4625-a365-4a72ec0c3cc2\" xlink:type=\"simple\"><path d=\"M107,130.1 C107,145.37 107,166.16 107,184.57 \" fill=\"none\" id=\"E5-&gt;E3\" style=\"stroke: #383838; stroke-width: 1.0;\"/><polygon fill=\"#FFFFFF\" points=\"107,204.61,100,185.61,114,185.61,107,204.61\" style=\"stroke: #383838; stroke-width: 1.0;\"/><ellipse cx=\"102\" cy=\"179.91\" fill=\"#383838\" rx=\"2\" ry=\"2\" style=\"stroke: #383838; stroke-width: 1.0;\"/><ellipse cx=\"112\" cy=\"179.91\" fill=\"#383838\" rx=\"2\" ry=\"2\" style=\"stroke: #383838; stroke-width: 1.0;\"/></a><!--MD5=[8ebe7a10de689bd742030736e72a960e]\n",
       "@startuml\r\n",
       "top to bottom direction\r\n",
       "skinparam monochrome true\r\n",
       "skinparam classbackgroundcolor white\r\n",
       "skinparam shadowing false\r\n",
       "skinparam wrapWidth 300\r\n",
       "hide circle\r\n",
       "\r\n",
       "package \"AliasImport\" as E1  [[psysml:ef3d48fd-2829-4dbf-9589-92371a3e091f ]]  {\r\n",
       "package \"Definitions\" as E2  [[psysml:de0d2cc7-98e6-429c-a225-0b1a04e72b17 ]]  {\r\n",
       "comp def \"Vehicle\" as E3  <<(T,blue) part def>> [[psysml:6a2a8f83-25b7-443f-ad75-cafd3f704077 ]] {\r\n",
       "}\r\n",
       "}\r\n",
       "package \"Usages\" as E4  [[psysml:0db9d317-797a-4865-97e5-5934f0d4a303 ]]  {\r\n",
       "comp usage \"vehicle: Vehicle\" as E5  <<(T,blue) part>> [[psysml:ac2a7781-f3a7-4610-aa94-de8fcbc60da2 ]] {\r\n",
       "}\r\n",
       "E5 - -:|> E3 [[psysml:f4b8c599-6f69-4625-a365-4a72ec0c3cc2 ]] \r\n",
       "}\r\n",
       "}\r\n",
       "@enduml\r\n",
       "\n",
       "PlantUML version 1.2020.13(Sat Jun 13 12:26:38 UTC 2020)\n",
       "(EPL source distribution)\n",
       "Java Runtime: OpenJDK Runtime Environment\n",
       "JVM: OpenJDK 64-Bit Server VM\n",
       "Default Encoding: UTF-8\n",
       "Language: en\n",
       "Country: null\n",
       "--></g></svg>"
      ]
     },
     "execution_count": 50,
     "metadata": {},
     "output_type": "execute_result"
    }
   ],
   "source": [
    "%viz --style=\"TB\" --view=\"MIXED\" \"AliasImport\""
   ]
  },
  {
   "cell_type": "code",
   "execution_count": 51,
   "id": "417020be",
   "metadata": {
    "execution": {
     "iopub.execute_input": "2021-08-04T06:25:43.296100Z",
     "iopub.status.busy": "2021-08-04T06:25:43.295823Z",
     "iopub.status.idle": "2021-08-04T06:25:43.309963Z",
     "shell.execute_reply": "2021-08-04T06:25:43.309036Z"
    }
   },
   "outputs": [
    {
     "data": {
      "image/svg+xml": [
       "<?xml version=\"1.0\" encoding=\"UTF-8\" standalone=\"no\"?><svg xmlns=\"http://www.w3.org/2000/svg\" xmlns:xlink=\"http://www.w3.org/1999/xlink\" contentScriptType=\"application/ecmascript\" contentStyleType=\"text/css\" height=\"303px\" preserveAspectRatio=\"none\" style=\"width:220px;height:303px;\" version=\"1.1\" viewBox=\"0 0 220 303\" width=\"220px\" zoomAndPan=\"magnify\"><defs/><g><!--MD5=[fbc87193dbaf4d95561dea2c320d4a47]\n",
       "cluster E1--><a href=\"psysml:ef3d48fd-2829-4dbf-9589-92371a3e091f\" target=\"_top\" title=\"psysml:ef3d48fd-2829-4dbf-9589-92371a3e091f\" xlink:actuate=\"onRequest\" xlink:href=\"psysml:ef3d48fd-2829-4dbf-9589-92371a3e091f\" xlink:show=\"new\" xlink:title=\"psysml:ef3d48fd-2829-4dbf-9589-92371a3e091f\" xlink:type=\"simple\"><polygon fill=\"#FFFFFF\" points=\"16,6,110,6,117,28.2969,198,28.2969,198,291,16,291,16,6\" style=\"stroke: #000000; stroke-width: 1.5;\"/><line style=\"stroke: #000000; stroke-width: 1.5;\" x1=\"16\" x2=\"117\" y1=\"28.2969\" y2=\"28.2969\"/><text fill=\"#000000\" font-family=\"sans-serif\" font-size=\"14\" font-weight=\"bold\" lengthAdjust=\"spacingAndGlyphs\" textLength=\"88\" x=\"20\" y=\"20.9951\">AliasImport</text></a><!--MD5=[e4f7fae6ed58524ba242bb0b0d3be6b7]\n",
       "cluster E2--><a href=\"psysml:de0d2cc7-98e6-429c-a225-0b1a04e72b17\" target=\"_top\" title=\"psysml:de0d2cc7-98e6-429c-a225-0b1a04e72b17\" xlink:actuate=\"onRequest\" xlink:href=\"psysml:de0d2cc7-98e6-429c-a225-0b1a04e72b17\" xlink:show=\"new\" xlink:title=\"psysml:de0d2cc7-98e6-429c-a225-0b1a04e72b17\" xlink:type=\"simple\"><polygon fill=\"#FFFFFF\" points=\"57,170,147,170,154,192.2969,157,192.2969,157,267,57,267,57,170\" style=\"stroke: #000000; stroke-width: 1.5;\"/><line style=\"stroke: #000000; stroke-width: 1.5;\" x1=\"57\" x2=\"154\" y1=\"192.2969\" y2=\"192.2969\"/><text fill=\"#000000\" font-family=\"sans-serif\" font-size=\"14\" font-weight=\"bold\" lengthAdjust=\"spacingAndGlyphs\" textLength=\"84\" x=\"61\" y=\"184.9951\">Definitions</text></a><!--MD5=[f6df4d0ebaf0b5dfb2ced0ae5af7c670]\n",
       "cluster E4--><a href=\"psysml:0db9d317-797a-4865-97e5-5934f0d4a303\" target=\"_top\" title=\"psysml:0db9d317-797a-4865-97e5-5934f0d4a303\" xlink:actuate=\"onRequest\" xlink:href=\"psysml:0db9d317-797a-4865-97e5-5934f0d4a303\" xlink:show=\"new\" xlink:title=\"psysml:0db9d317-797a-4865-97e5-5934f0d4a303\" xlink:type=\"simple\"><polygon fill=\"#FFFFFF\" points=\"40,49,104,49,111,71.2969,174,71.2969,174,146,40,146,40,49\" style=\"stroke: #000000; stroke-width: 1.5;\"/><line style=\"stroke: #000000; stroke-width: 1.5;\" x1=\"40\" x2=\"111\" y1=\"71.2969\" y2=\"71.2969\"/><text fill=\"#000000\" font-family=\"sans-serif\" font-size=\"14\" font-weight=\"bold\" lengthAdjust=\"spacingAndGlyphs\" textLength=\"58\" x=\"44\" y=\"63.9951\">Usages</text></a><!--MD5=[09b614a08d8cba4a07c9adeb5e0fee81]\n",
       "class E3--><a href=\"psysml:6a2a8f83-25b7-443f-ad75-cafd3f704077\" target=\"_top\" title=\"psysml:6a2a8f83-25b7-443f-ad75-cafd3f704077\" xlink:actuate=\"onRequest\" xlink:href=\"psysml:6a2a8f83-25b7-443f-ad75-cafd3f704077\" xlink:show=\"new\" xlink:title=\"psysml:6a2a8f83-25b7-443f-ad75-cafd3f704077\" xlink:type=\"simple\"><rect fill=\"#FFFFFF\" height=\"45.9375\" id=\"E3\" style=\"stroke: #383838; stroke-width: 1.5;\" width=\"66\" x=\"74\" y=\"205\"/><text fill=\"#000000\" font-family=\"sans-serif\" font-size=\"12\" font-style=\"italic\" lengthAdjust=\"spacingAndGlyphs\" textLength=\"64\" x=\"75\" y=\"221.1387\">«part def»</text><text fill=\"#000000\" font-family=\"sans-serif\" font-size=\"12\" lengthAdjust=\"spacingAndGlyphs\" textLength=\"45\" x=\"84.5\" y=\"235.1074\">Vehicle</text><line style=\"stroke: #383838; stroke-width: 1.5;\" x1=\"75\" x2=\"139\" y1=\"242.9375\" y2=\"242.9375\"/></a><!--MD5=[270fce915f116d4de14055a7c1d9a0f3]\n",
       "class E5--><a href=\"psysml:ac2a7781-f3a7-4610-aa94-de8fcbc60da2\" target=\"_top\" title=\"psysml:ac2a7781-f3a7-4610-aa94-de8fcbc60da2\" xlink:actuate=\"onRequest\" xlink:href=\"psysml:ac2a7781-f3a7-4610-aa94-de8fcbc60da2\" xlink:show=\"new\" xlink:title=\"psysml:ac2a7781-f3a7-4610-aa94-de8fcbc60da2\" xlink:type=\"simple\"><rect fill=\"#FFFFFF\" height=\"45.9375\" id=\"E5\" rx=\"10\" ry=\"10\" style=\"stroke: #383838; stroke-width: 1.5;\" width=\"102\" x=\"56\" y=\"84\"/><text fill=\"#000000\" font-family=\"sans-serif\" font-size=\"12\" font-style=\"italic\" lengthAdjust=\"spacingAndGlyphs\" textLength=\"40\" x=\"87\" y=\"100.1387\">«part»</text><text fill=\"#000000\" font-family=\"sans-serif\" font-size=\"12\" lengthAdjust=\"spacingAndGlyphs\" textLength=\"96\" x=\"59\" y=\"114.1074\">vehicle: Vehicle</text><line style=\"stroke: #383838; stroke-width: 1.5;\" x1=\"57\" x2=\"157\" y1=\"121.9375\" y2=\"121.9375\"/></a><!--MD5=[e9be52314489bd878ff4c7144b63c9e1]\n",
       "link E5 to E3--><a href=\"psysml:f4b8c599-6f69-4625-a365-4a72ec0c3cc2\" target=\"_top\" title=\"psysml:f4b8c599-6f69-4625-a365-4a72ec0c3cc2\" xlink:actuate=\"onRequest\" xlink:href=\"psysml:f4b8c599-6f69-4625-a365-4a72ec0c3cc2\" xlink:show=\"new\" xlink:title=\"psysml:f4b8c599-6f69-4625-a365-4a72ec0c3cc2\" xlink:type=\"simple\"><path d=\"M107,130.04 C107,130.04 107,184.63 107,184.63 \" fill=\"none\" id=\"E5-&gt;E3\" style=\"stroke: #383838; stroke-width: 1.0;\"/><polygon fill=\"#FFFFFF\" points=\"107,204.63,100,185.63,114,185.63,107,204.63\" style=\"stroke: #383838; stroke-width: 1.0;\"/><ellipse cx=\"102\" cy=\"179.93\" fill=\"#383838\" rx=\"2\" ry=\"2\" style=\"stroke: #383838; stroke-width: 1.0;\"/><ellipse cx=\"112\" cy=\"179.93\" fill=\"#383838\" rx=\"2\" ry=\"2\" style=\"stroke: #383838; stroke-width: 1.0;\"/></a><!--MD5=[a2054fee4caf56e275747179a5b49c90]\n",
       "@startuml\r\n",
       "skinparam linetype ortho\r\n",
       "skinparam monochrome true\r\n",
       "skinparam classbackgroundcolor white\r\n",
       "skinparam shadowing false\r\n",
       "skinparam wrapWidth 300\r\n",
       "hide circle\r\n",
       "\r\n",
       "package \"AliasImport\" as E1  [[psysml:ef3d48fd-2829-4dbf-9589-92371a3e091f ]]  {\r\n",
       "package \"Definitions\" as E2  [[psysml:de0d2cc7-98e6-429c-a225-0b1a04e72b17 ]]  {\r\n",
       "comp def \"Vehicle\" as E3  <<(T,blue) part def>> [[psysml:6a2a8f83-25b7-443f-ad75-cafd3f704077 ]] {\r\n",
       "}\r\n",
       "}\r\n",
       "package \"Usages\" as E4  [[psysml:0db9d317-797a-4865-97e5-5934f0d4a303 ]]  {\r\n",
       "comp usage \"vehicle: Vehicle\" as E5  <<(T,blue) part>> [[psysml:ac2a7781-f3a7-4610-aa94-de8fcbc60da2 ]] {\r\n",
       "}\r\n",
       "E5 - -:|> E3 [[psysml:f4b8c599-6f69-4625-a365-4a72ec0c3cc2 ]] \r\n",
       "}\r\n",
       "}\r\n",
       "@enduml\r\n",
       "\n",
       "PlantUML version 1.2020.13(Sat Jun 13 12:26:38 UTC 2020)\n",
       "(EPL source distribution)\n",
       "Java Runtime: OpenJDK Runtime Environment\n",
       "JVM: OpenJDK 64-Bit Server VM\n",
       "Default Encoding: UTF-8\n",
       "Language: en\n",
       "Country: null\n",
       "--></g></svg>"
      ]
     },
     "execution_count": 51,
     "metadata": {},
     "output_type": "execute_result"
    }
   ],
   "source": [
    "%viz --style=\"ORTHOLINE\" --view=\"Default\" \"AliasImport\""
   ]
  },
  {
   "cell_type": "code",
   "execution_count": 52,
   "id": "712f1631",
   "metadata": {
    "execution": {
     "iopub.execute_input": "2021-08-04T06:25:43.359637Z",
     "iopub.status.busy": "2021-08-04T06:25:43.359356Z",
     "iopub.status.idle": "2021-08-04T06:25:43.374120Z",
     "shell.execute_reply": "2021-08-04T06:25:43.372950Z"
    }
   },
   "outputs": [
    {
     "data": {
      "image/svg+xml": [
       "<?xml version=\"1.0\" encoding=\"UTF-8\" standalone=\"no\"?><svg xmlns=\"http://www.w3.org/2000/svg\" xmlns:xlink=\"http://www.w3.org/1999/xlink\" contentScriptType=\"application/ecmascript\" contentStyleType=\"text/css\" height=\"303px\" preserveAspectRatio=\"none\" style=\"width:220px;height:303px;\" version=\"1.1\" viewBox=\"0 0 220 303\" width=\"220px\" zoomAndPan=\"magnify\"><defs/><g><!--MD5=[fbc87193dbaf4d95561dea2c320d4a47]\n",
       "cluster E1--><a href=\"psysml:ef3d48fd-2829-4dbf-9589-92371a3e091f\" target=\"_top\" title=\"psysml:ef3d48fd-2829-4dbf-9589-92371a3e091f\" xlink:actuate=\"onRequest\" xlink:href=\"psysml:ef3d48fd-2829-4dbf-9589-92371a3e091f\" xlink:show=\"new\" xlink:title=\"psysml:ef3d48fd-2829-4dbf-9589-92371a3e091f\" xlink:type=\"simple\"><polygon fill=\"#FFFFFF\" points=\"16,6,110,6,117,28.2969,198,28.2969,198,291,16,291,16,6\" style=\"stroke: #000000; stroke-width: 1.5;\"/><line style=\"stroke: #000000; stroke-width: 1.5;\" x1=\"16\" x2=\"117\" y1=\"28.2969\" y2=\"28.2969\"/><text fill=\"#000000\" font-family=\"sans-serif\" font-size=\"14\" font-weight=\"bold\" lengthAdjust=\"spacingAndGlyphs\" textLength=\"88\" x=\"20\" y=\"20.9951\">AliasImport</text></a><!--MD5=[e4f7fae6ed58524ba242bb0b0d3be6b7]\n",
       "cluster E2--><a href=\"psysml:de0d2cc7-98e6-429c-a225-0b1a04e72b17\" target=\"_top\" title=\"psysml:de0d2cc7-98e6-429c-a225-0b1a04e72b17\" xlink:actuate=\"onRequest\" xlink:href=\"psysml:de0d2cc7-98e6-429c-a225-0b1a04e72b17\" xlink:show=\"new\" xlink:title=\"psysml:de0d2cc7-98e6-429c-a225-0b1a04e72b17\" xlink:type=\"simple\"><polygon fill=\"#FFFFFF\" points=\"57,170,147,170,154,192.2969,157,192.2969,157,267,57,267,57,170\" style=\"stroke: #000000; stroke-width: 1.5;\"/><line style=\"stroke: #000000; stroke-width: 1.5;\" x1=\"57\" x2=\"154\" y1=\"192.2969\" y2=\"192.2969\"/><text fill=\"#000000\" font-family=\"sans-serif\" font-size=\"14\" font-weight=\"bold\" lengthAdjust=\"spacingAndGlyphs\" textLength=\"84\" x=\"61\" y=\"184.9951\">Definitions</text></a><!--MD5=[f6df4d0ebaf0b5dfb2ced0ae5af7c670]\n",
       "cluster E4--><a href=\"psysml:0db9d317-797a-4865-97e5-5934f0d4a303\" target=\"_top\" title=\"psysml:0db9d317-797a-4865-97e5-5934f0d4a303\" xlink:actuate=\"onRequest\" xlink:href=\"psysml:0db9d317-797a-4865-97e5-5934f0d4a303\" xlink:show=\"new\" xlink:title=\"psysml:0db9d317-797a-4865-97e5-5934f0d4a303\" xlink:type=\"simple\"><polygon fill=\"#FFFFFF\" points=\"40,49,104,49,111,71.2969,174,71.2969,174,146,40,146,40,49\" style=\"stroke: #000000; stroke-width: 1.5;\"/><line style=\"stroke: #000000; stroke-width: 1.5;\" x1=\"40\" x2=\"111\" y1=\"71.2969\" y2=\"71.2969\"/><text fill=\"#000000\" font-family=\"sans-serif\" font-size=\"14\" font-weight=\"bold\" lengthAdjust=\"spacingAndGlyphs\" textLength=\"58\" x=\"44\" y=\"63.9951\">Usages</text></a><!--MD5=[09b614a08d8cba4a07c9adeb5e0fee81]\n",
       "class E3--><a href=\"psysml:6a2a8f83-25b7-443f-ad75-cafd3f704077\" target=\"_top\" title=\"psysml:6a2a8f83-25b7-443f-ad75-cafd3f704077\" xlink:actuate=\"onRequest\" xlink:href=\"psysml:6a2a8f83-25b7-443f-ad75-cafd3f704077\" xlink:show=\"new\" xlink:title=\"psysml:6a2a8f83-25b7-443f-ad75-cafd3f704077\" xlink:type=\"simple\"><rect fill=\"#FFFFFF\" height=\"45.9375\" id=\"E3\" style=\"stroke: #383838; stroke-width: 1.5;\" width=\"66\" x=\"74\" y=\"205\"/><text fill=\"#000000\" font-family=\"sans-serif\" font-size=\"12\" font-style=\"italic\" lengthAdjust=\"spacingAndGlyphs\" textLength=\"64\" x=\"75\" y=\"221.1387\">«part def»</text><text fill=\"#000000\" font-family=\"sans-serif\" font-size=\"12\" lengthAdjust=\"spacingAndGlyphs\" textLength=\"45\" x=\"84.5\" y=\"235.1074\">Vehicle</text><line style=\"stroke: #383838; stroke-width: 1.5;\" x1=\"75\" x2=\"139\" y1=\"242.9375\" y2=\"242.9375\"/></a><!--MD5=[270fce915f116d4de14055a7c1d9a0f3]\n",
       "class E5--><a href=\"psysml:ac2a7781-f3a7-4610-aa94-de8fcbc60da2\" target=\"_top\" title=\"psysml:ac2a7781-f3a7-4610-aa94-de8fcbc60da2\" xlink:actuate=\"onRequest\" xlink:href=\"psysml:ac2a7781-f3a7-4610-aa94-de8fcbc60da2\" xlink:show=\"new\" xlink:title=\"psysml:ac2a7781-f3a7-4610-aa94-de8fcbc60da2\" xlink:type=\"simple\"><rect fill=\"#FFFFFF\" height=\"45.9375\" id=\"E5\" rx=\"10\" ry=\"10\" style=\"stroke: #383838; stroke-width: 1.5;\" width=\"102\" x=\"56\" y=\"84\"/><text fill=\"#000000\" font-family=\"sans-serif\" font-size=\"12\" font-style=\"italic\" lengthAdjust=\"spacingAndGlyphs\" textLength=\"40\" x=\"87\" y=\"100.1387\">«part»</text><text fill=\"#000000\" font-family=\"sans-serif\" font-size=\"12\" lengthAdjust=\"spacingAndGlyphs\" textLength=\"96\" x=\"59\" y=\"114.1074\">vehicle: Vehicle</text><line style=\"stroke: #383838; stroke-width: 1.5;\" x1=\"57\" x2=\"157\" y1=\"121.9375\" y2=\"121.9375\"/></a><!--MD5=[e9be52314489bd878ff4c7144b63c9e1]\n",
       "link E5 to E3--><a href=\"psysml:f4b8c599-6f69-4625-a365-4a72ec0c3cc2\" target=\"_top\" title=\"psysml:f4b8c599-6f69-4625-a365-4a72ec0c3cc2\" xlink:actuate=\"onRequest\" xlink:href=\"psysml:f4b8c599-6f69-4625-a365-4a72ec0c3cc2\" xlink:show=\"new\" xlink:title=\"psysml:f4b8c599-6f69-4625-a365-4a72ec0c3cc2\" xlink:type=\"simple\"><path d=\"M107,130.04 C107,130.04 107,184.63 107,184.63 \" fill=\"none\" id=\"E5-&gt;E3\" style=\"stroke: #383838; stroke-width: 1.0;\"/><polygon fill=\"#FFFFFF\" points=\"107,204.63,100,185.63,114,185.63,107,204.63\" style=\"stroke: #383838; stroke-width: 1.0;\"/><ellipse cx=\"102\" cy=\"179.93\" fill=\"#383838\" rx=\"2\" ry=\"2\" style=\"stroke: #383838; stroke-width: 1.0;\"/><ellipse cx=\"112\" cy=\"179.93\" fill=\"#383838\" rx=\"2\" ry=\"2\" style=\"stroke: #383838; stroke-width: 1.0;\"/></a><!--MD5=[a2054fee4caf56e275747179a5b49c90]\n",
       "@startuml\r\n",
       "skinparam linetype ortho\r\n",
       "skinparam monochrome true\r\n",
       "skinparam classbackgroundcolor white\r\n",
       "skinparam shadowing false\r\n",
       "skinparam wrapWidth 300\r\n",
       "hide circle\r\n",
       "\r\n",
       "package \"AliasImport\" as E1  [[psysml:ef3d48fd-2829-4dbf-9589-92371a3e091f ]]  {\r\n",
       "package \"Definitions\" as E2  [[psysml:de0d2cc7-98e6-429c-a225-0b1a04e72b17 ]]  {\r\n",
       "comp def \"Vehicle\" as E3  <<(T,blue) part def>> [[psysml:6a2a8f83-25b7-443f-ad75-cafd3f704077 ]] {\r\n",
       "}\r\n",
       "}\r\n",
       "package \"Usages\" as E4  [[psysml:0db9d317-797a-4865-97e5-5934f0d4a303 ]]  {\r\n",
       "comp usage \"vehicle: Vehicle\" as E5  <<(T,blue) part>> [[psysml:ac2a7781-f3a7-4610-aa94-de8fcbc60da2 ]] {\r\n",
       "}\r\n",
       "E5 - -:|> E3 [[psysml:f4b8c599-6f69-4625-a365-4a72ec0c3cc2 ]] \r\n",
       "}\r\n",
       "}\r\n",
       "@enduml\r\n",
       "\n",
       "PlantUML version 1.2020.13(Sat Jun 13 12:26:38 UTC 2020)\n",
       "(EPL source distribution)\n",
       "Java Runtime: OpenJDK Runtime Environment\n",
       "JVM: OpenJDK 64-Bit Server VM\n",
       "Default Encoding: UTF-8\n",
       "Language: en\n",
       "Country: null\n",
       "--></g></svg>"
      ]
     },
     "execution_count": 52,
     "metadata": {},
     "output_type": "execute_result"
    }
   ],
   "source": [
    "%viz --style=\"ORTHOLINE\" --view=\"Tree\" \"AliasImport\""
   ]
  },
  {
   "cell_type": "code",
   "execution_count": 53,
   "id": "efd30f87",
   "metadata": {
    "execution": {
     "iopub.execute_input": "2021-08-04T06:25:43.423253Z",
     "iopub.status.busy": "2021-08-04T06:25:43.422999Z",
     "iopub.status.idle": "2021-08-04T06:25:43.427526Z",
     "shell.execute_reply": "2021-08-04T06:25:43.427173Z"
    }
   },
   "outputs": [
    {
     "data": {
      "image/svg+xml": [
       "<?xml version=\"1.0\" encoding=\"UTF-8\" standalone=\"no\"?><svg xmlns=\"http://www.w3.org/2000/svg\" xmlns:xlink=\"http://www.w3.org/1999/xlink\" contentScriptType=\"application/ecmascript\" contentStyleType=\"text/css\" height=\"12px\" preserveAspectRatio=\"none\" style=\"width:12px;height:12px;\" version=\"1.1\" viewBox=\"0 0 12 12\" width=\"12px\" zoomAndPan=\"magnify\"><defs/><g><!--MD5=[97d6f38768b311333d388e66b2b27985]\n",
       "@startuml\r\n",
       "skinparam linetype ortho\r\n",
       "skinparam monochrome true\r\n",
       "skinparam classbackgroundcolor white\r\n",
       "skinparam shadowing false\r\n",
       "skinparam wrapWidth 300\r\n",
       "hide circle\r\n",
       "\r\n",
       "@enduml\r\n",
       "\n",
       "PlantUML version 1.2020.13(Sat Jun 13 12:26:38 UTC 2020)\n",
       "(EPL source distribution)\n",
       "Java Runtime: OpenJDK Runtime Environment\n",
       "JVM: OpenJDK 64-Bit Server VM\n",
       "Default Encoding: UTF-8\n",
       "Language: en\n",
       "Country: null\n",
       "--></g></svg>"
      ]
     },
     "execution_count": 53,
     "metadata": {},
     "output_type": "execute_result"
    }
   ],
   "source": [
    "%viz --style=\"ORTHOLINE\" --view=\"State\" \"AliasImport\""
   ]
  },
  {
   "cell_type": "code",
   "execution_count": 54,
   "id": "c2e18927",
   "metadata": {
    "execution": {
     "iopub.execute_input": "2021-08-04T06:25:43.477009Z",
     "iopub.status.busy": "2021-08-04T06:25:43.476756Z",
     "iopub.status.idle": "2021-08-04T06:25:43.497891Z",
     "shell.execute_reply": "2021-08-04T06:25:43.496382Z"
    }
   },
   "outputs": [
    {
     "data": {
      "image/svg+xml": [
       "<?xml version=\"1.0\" encoding=\"UTF-8\" standalone=\"no\"?><svg xmlns=\"http://www.w3.org/2000/svg\" xmlns:xlink=\"http://www.w3.org/1999/xlink\" contentScriptType=\"application/ecmascript\" contentStyleType=\"text/css\" height=\"179px\" preserveAspectRatio=\"none\" style=\"width:458px;height:179px;\" version=\"1.1\" viewBox=\"0 0 458 179\" width=\"458px\" zoomAndPan=\"magnify\"><defs/><g><!--MD5=[fbc87193dbaf4d95561dea2c320d4a47]\n",
       "cluster E1--><a href=\"psysml:ef3d48fd-2829-4dbf-9589-92371a3e091f\" target=\"_top\" title=\"psysml:ef3d48fd-2829-4dbf-9589-92371a3e091f\" xlink:actuate=\"onRequest\" xlink:href=\"psysml:ef3d48fd-2829-4dbf-9589-92371a3e091f\" xlink:show=\"new\" xlink:title=\"psysml:ef3d48fd-2829-4dbf-9589-92371a3e091f\" xlink:type=\"simple\"><polygon fill=\"#FFFFFF\" points=\"16,6,110,6,117,28.2969,436,28.2969,436,167,16,167,16,6\" style=\"stroke: #000000; stroke-width: 1.5;\"/><line style=\"stroke: #000000; stroke-width: 1.5;\" x1=\"16\" x2=\"117\" y1=\"28.2969\" y2=\"28.2969\"/><text fill=\"#000000\" font-family=\"sans-serif\" font-size=\"14\" font-weight=\"bold\" lengthAdjust=\"spacingAndGlyphs\" textLength=\"88\" x=\"20\" y=\"20.9951\">AliasImport</text></a><!--MD5=[e4f7fae6ed58524ba242bb0b0d3be6b7]\n",
       "cluster E2--><a href=\"psysml:de0d2cc7-98e6-429c-a225-0b1a04e72b17\" target=\"_top\" title=\"psysml:de0d2cc7-98e6-429c-a225-0b1a04e72b17\" xlink:actuate=\"onRequest\" xlink:href=\"psysml:de0d2cc7-98e6-429c-a225-0b1a04e72b17\" xlink:show=\"new\" xlink:title=\"psysml:de0d2cc7-98e6-429c-a225-0b1a04e72b17\" xlink:type=\"simple\"><polygon fill=\"#FFFFFF\" points=\"202,49,292,49,299,71.2969,412,71.2969,412,143,202,143,202,49\" style=\"stroke: #000000; stroke-width: 1.5;\"/><line style=\"stroke: #000000; stroke-width: 1.5;\" x1=\"202\" x2=\"299\" y1=\"71.2969\" y2=\"71.2969\"/><text fill=\"#000000\" font-family=\"sans-serif\" font-size=\"14\" font-weight=\"bold\" lengthAdjust=\"spacingAndGlyphs\" textLength=\"84\" x=\"206\" y=\"63.9951\">Definitions</text></a><!--MD5=[de5ec2e2e8f62f467e546659f5068c88]\n",
       "cluster E5--><a href=\"psysml:0db9d317-797a-4865-97e5-5934f0d4a303\" target=\"_top\" title=\"psysml:0db9d317-797a-4865-97e5-5934f0d4a303\" xlink:actuate=\"onRequest\" xlink:href=\"psysml:0db9d317-797a-4865-97e5-5934f0d4a303\" xlink:show=\"new\" xlink:title=\"psysml:0db9d317-797a-4865-97e5-5934f0d4a303\" xlink:type=\"simple\"><polygon fill=\"#FFFFFF\" points=\"40,50.5,104,50.5,111,72.7969,178,72.7969,178,141.5,40,141.5,40,50.5\" style=\"stroke: #000000; stroke-width: 1.5;\"/><line style=\"stroke: #000000; stroke-width: 1.5;\" x1=\"40\" x2=\"111\" y1=\"72.7969\" y2=\"72.7969\"/><text fill=\"#000000\" font-family=\"sans-serif\" font-size=\"14\" font-weight=\"bold\" lengthAdjust=\"spacingAndGlyphs\" textLength=\"58\" x=\"44\" y=\"65.4951\">Usages</text></a><g id=\"E1.E2.E3\"><a href=\"psysml:6a2a8f83-25b7-443f-ad75-cafd3f704077\" target=\"_top\" title=\"psysml:6a2a8f83-25b7-443f-ad75-cafd3f704077\" xlink:actuate=\"onRequest\" xlink:href=\"psysml:6a2a8f83-25b7-443f-ad75-cafd3f704077\" xlink:show=\"new\" xlink:title=\"psysml:6a2a8f83-25b7-443f-ad75-cafd3f704077\" xlink:type=\"simple\"><rect fill=\"#FFFFFF\" height=\"42.9375\" id=\"E3\" style=\"stroke: #383838; stroke-width: 1.5;\" width=\"71\" x=\"324.5\" y=\"84\"/><rect fill=\"#F8F8F8\" height=\"37.9375\" style=\"stroke: #383838; stroke-width: 1.5;\" width=\"71\" x=\"324.5\" y=\"84\"/><text fill=\"#000000\" font-family=\"sans-serif\" font-size=\"12\" font-style=\"italic\" lengthAdjust=\"spacingAndGlyphs\" textLength=\"64\" x=\"328\" y=\"100.1387\">«part def»</text><text fill=\"#000000\" font-family=\"sans-serif\" font-size=\"12\" lengthAdjust=\"spacingAndGlyphs\" textLength=\"45\" x=\"337.5\" y=\"114.1074\">Vehicle</text></a></g><g id=\"E1.E2.E4\"><a href=\"psysml:6a2a8f83-25b7-443f-ad75-cafd3f704077\" target=\"_top\" title=\"psysml:6a2a8f83-25b7-443f-ad75-cafd3f704077\" xlink:actuate=\"onRequest\" xlink:href=\"psysml:6a2a8f83-25b7-443f-ad75-cafd3f704077\" xlink:show=\"new\" xlink:title=\"psysml:6a2a8f83-25b7-443f-ad75-cafd3f704077\" xlink:type=\"simple\"><rect fill=\"#FFFFFF\" height=\"42.9375\" id=\"E4\" style=\"stroke: #383838; stroke-width: 1.5;\" width=\"71\" x=\"218.5\" y=\"84\"/><rect fill=\"#F8F8F8\" height=\"37.9375\" style=\"stroke: #383838; stroke-width: 1.5;\" width=\"71\" x=\"218.5\" y=\"84\"/><text fill=\"#000000\" font-family=\"sans-serif\" font-size=\"12\" font-style=\"italic\" lengthAdjust=\"spacingAndGlyphs\" textLength=\"64\" x=\"222\" y=\"100.1387\">«part def»</text><text fill=\"#000000\" font-family=\"sans-serif\" font-size=\"12\" lengthAdjust=\"spacingAndGlyphs\" textLength=\"45\" x=\"231.5\" y=\"114.1074\">Vehicle</text></a></g><g id=\"E1.E5.E6\"><a href=\"psysml:ac2a7781-f3a7-4610-aa94-de8fcbc60da2\" target=\"_top\" title=\"psysml:ac2a7781-f3a7-4610-aa94-de8fcbc60da2\" xlink:actuate=\"onRequest\" xlink:href=\"psysml:ac2a7781-f3a7-4610-aa94-de8fcbc60da2\" xlink:show=\"new\" xlink:title=\"psysml:ac2a7781-f3a7-4610-aa94-de8fcbc60da2\" xlink:type=\"simple\"><rect fill=\"#FFFFFF\" height=\"40\" id=\"E6\" rx=\"10\" ry=\"10\" style=\"stroke: #383838; stroke-width: 1.5;\" width=\"107\" x=\"55.5\" y=\"85.5\"/><rect fill=\"#F8F8F8\" height=\"23.9688\" rx=\"10\" ry=\"10\" style=\"stroke: #F8F8F8; stroke-width: 1.5;\" width=\"107\" x=\"55.5\" y=\"85.5\"/><rect fill=\"#F8F8F8\" height=\"10\" style=\"stroke: #F8F8F8; stroke-width: 1.5;\" width=\"107\" x=\"55.5\" y=\"99.4688\"/><rect fill=\"none\" height=\"40\" id=\"E6\" rx=\"10\" ry=\"10\" style=\"stroke: #383838; stroke-width: 1.5;\" width=\"107\" x=\"55.5\" y=\"85.5\"/><text fill=\"#000000\" font-family=\"sans-serif\" font-size=\"12\" lengthAdjust=\"spacingAndGlyphs\" textLength=\"96\" x=\"61\" y=\"101.6387\">vehicle: Vehicle</text></a></g><!--MD5=[8d2641711a3b396eb71eec364c876290]\n",
       "@startuml\r\n",
       "skinparam ranksep 10\r\n",
       "skinparam rectangle {\r\n",
       " backgroundColor<<block>> LightGreen\r\n",
       "}\r\n",
       "skinparam linetype ortho\r\n",
       "skinparam monochrome true\r\n",
       "skinparam classbackgroundcolor white\r\n",
       "skinparam shadowing false\r\n",
       "skinparam wrapWidth 300\r\n",
       "hide circle\r\n",
       "\r\n",
       "package \"AliasImport\" as E1  [[psysml:ef3d48fd-2829-4dbf-9589-92371a3e091f ]]  {\r\n",
       "package \"Definitions\" as E2  [[psysml:de0d2cc7-98e6-429c-a225-0b1a04e72b17 ]]  {\r\n",
       "rec def \"Vehicle\" as E3  <<(T,blue) part def>> [[psysml:6a2a8f83-25b7-443f-ad75-cafd3f704077 ]] {\r\n",
       "}\r\n",
       "rec def \"Vehicle\" as E4  <<(T,blue) part def>> [[psysml:6a2a8f83-25b7-443f-ad75-cafd3f704077 ]] {\r\n",
       "}\r\n",
       "}\r\n",
       "package \"Usages\" as E5  [[psysml:0db9d317-797a-4865-97e5-5934f0d4a303 ]]  {\r\n",
       "rec usage \"vehicle: Vehicle\" as E6  [[psysml:ac2a7781-f3a7-4610-aa94-de8fcbc60da2 ]] {\r\n",
       "}\r\n",
       "}\r\n",
       "}\r\n",
       "@enduml\r\n",
       "\n",
       "PlantUML version 1.2020.13(Sat Jun 13 12:26:38 UTC 2020)\n",
       "(EPL source distribution)\n",
       "Java Runtime: OpenJDK Runtime Environment\n",
       "JVM: OpenJDK 64-Bit Server VM\n",
       "Default Encoding: UTF-8\n",
       "Language: en\n",
       "Country: null\n",
       "--></g></svg>"
      ]
     },
     "execution_count": 54,
     "metadata": {},
     "output_type": "execute_result"
    }
   ],
   "source": [
    "%viz --style=\"ORTHOLINE\" --view=\"Interconnection\" \"AliasImport\""
   ]
  },
  {
   "cell_type": "code",
   "execution_count": 55,
   "id": "1c36456e",
   "metadata": {
    "execution": {
     "iopub.execute_input": "2021-08-04T06:25:43.546741Z",
     "iopub.status.busy": "2021-08-04T06:25:43.546492Z",
     "iopub.status.idle": "2021-08-04T06:25:43.549723Z",
     "shell.execute_reply": "2021-08-04T06:25:43.549338Z"
    }
   },
   "outputs": [
    {
     "data": {
      "image/svg+xml": [
       "<?xml version=\"1.0\" encoding=\"UTF-8\" standalone=\"no\"?><svg xmlns=\"http://www.w3.org/2000/svg\" xmlns:xlink=\"http://www.w3.org/1999/xlink\" contentScriptType=\"application/ecmascript\" contentStyleType=\"text/css\" height=\"12px\" preserveAspectRatio=\"none\" style=\"width:12px;height:12px;\" version=\"1.1\" viewBox=\"0 0 12 12\" width=\"12px\" zoomAndPan=\"magnify\"><defs/><g><!--MD5=[72934c63077099a26744516a776b4749]\n",
       "@startuml\r\n",
       "skinparam ranksep 8\r\n",
       "skinparam linetype ortho\r\n",
       "skinparam monochrome true\r\n",
       "skinparam classbackgroundcolor white\r\n",
       "skinparam shadowing false\r\n",
       "skinparam wrapWidth 300\r\n",
       "hide circle\r\n",
       "\r\n",
       "@enduml\r\n",
       "\n",
       "PlantUML version 1.2020.13(Sat Jun 13 12:26:38 UTC 2020)\n",
       "(EPL source distribution)\n",
       "Java Runtime: OpenJDK Runtime Environment\n",
       "JVM: OpenJDK 64-Bit Server VM\n",
       "Default Encoding: UTF-8\n",
       "Language: en\n",
       "Country: null\n",
       "--></g></svg>"
      ]
     },
     "execution_count": 55,
     "metadata": {},
     "output_type": "execute_result"
    }
   ],
   "source": [
    "%viz --style=\"ORTHOLINE\" --view=\"Action\" \"AliasImport\""
   ]
  },
  {
   "cell_type": "code",
   "execution_count": 56,
   "id": "df639644",
   "metadata": {
    "execution": {
     "iopub.execute_input": "2021-08-04T06:25:43.599105Z",
     "iopub.status.busy": "2021-08-04T06:25:43.598853Z",
     "iopub.status.idle": "2021-08-04T06:25:43.618676Z",
     "shell.execute_reply": "2021-08-04T06:25:43.618491Z"
    }
   },
   "outputs": [
    {
     "data": {
      "image/svg+xml": [
       "<?xml version=\"1.0\" encoding=\"UTF-8\" standalone=\"no\"?><svg xmlns=\"http://www.w3.org/2000/svg\" xmlns:xlink=\"http://www.w3.org/1999/xlink\" contentScriptType=\"application/ecmascript\" contentStyleType=\"text/css\" height=\"303px\" preserveAspectRatio=\"none\" style=\"width:220px;height:303px;\" version=\"1.1\" viewBox=\"0 0 220 303\" width=\"220px\" zoomAndPan=\"magnify\"><defs/><g><!--MD5=[fbc87193dbaf4d95561dea2c320d4a47]\n",
       "cluster E1--><a href=\"psysml:ef3d48fd-2829-4dbf-9589-92371a3e091f\" target=\"_top\" title=\"psysml:ef3d48fd-2829-4dbf-9589-92371a3e091f\" xlink:actuate=\"onRequest\" xlink:href=\"psysml:ef3d48fd-2829-4dbf-9589-92371a3e091f\" xlink:show=\"new\" xlink:title=\"psysml:ef3d48fd-2829-4dbf-9589-92371a3e091f\" xlink:type=\"simple\"><polygon fill=\"#FFFFFF\" points=\"16,6,110,6,117,28.2969,198,28.2969,198,291,16,291,16,6\" style=\"stroke: #000000; stroke-width: 1.5;\"/><line style=\"stroke: #000000; stroke-width: 1.5;\" x1=\"16\" x2=\"117\" y1=\"28.2969\" y2=\"28.2969\"/><text fill=\"#000000\" font-family=\"sans-serif\" font-size=\"14\" font-weight=\"bold\" lengthAdjust=\"spacingAndGlyphs\" textLength=\"88\" x=\"20\" y=\"20.9951\">AliasImport</text></a><!--MD5=[e4f7fae6ed58524ba242bb0b0d3be6b7]\n",
       "cluster E2--><a href=\"psysml:de0d2cc7-98e6-429c-a225-0b1a04e72b17\" target=\"_top\" title=\"psysml:de0d2cc7-98e6-429c-a225-0b1a04e72b17\" xlink:actuate=\"onRequest\" xlink:href=\"psysml:de0d2cc7-98e6-429c-a225-0b1a04e72b17\" xlink:show=\"new\" xlink:title=\"psysml:de0d2cc7-98e6-429c-a225-0b1a04e72b17\" xlink:type=\"simple\"><polygon fill=\"#FFFFFF\" points=\"57,170,147,170,154,192.2969,157,192.2969,157,267,57,267,57,170\" style=\"stroke: #000000; stroke-width: 1.5;\"/><line style=\"stroke: #000000; stroke-width: 1.5;\" x1=\"57\" x2=\"154\" y1=\"192.2969\" y2=\"192.2969\"/><text fill=\"#000000\" font-family=\"sans-serif\" font-size=\"14\" font-weight=\"bold\" lengthAdjust=\"spacingAndGlyphs\" textLength=\"84\" x=\"61\" y=\"184.9951\">Definitions</text></a><!--MD5=[f6df4d0ebaf0b5dfb2ced0ae5af7c670]\n",
       "cluster E4--><a href=\"psysml:0db9d317-797a-4865-97e5-5934f0d4a303\" target=\"_top\" title=\"psysml:0db9d317-797a-4865-97e5-5934f0d4a303\" xlink:actuate=\"onRequest\" xlink:href=\"psysml:0db9d317-797a-4865-97e5-5934f0d4a303\" xlink:show=\"new\" xlink:title=\"psysml:0db9d317-797a-4865-97e5-5934f0d4a303\" xlink:type=\"simple\"><polygon fill=\"#FFFFFF\" points=\"40,49,104,49,111,71.2969,174,71.2969,174,146,40,146,40,49\" style=\"stroke: #000000; stroke-width: 1.5;\"/><line style=\"stroke: #000000; stroke-width: 1.5;\" x1=\"40\" x2=\"111\" y1=\"71.2969\" y2=\"71.2969\"/><text fill=\"#000000\" font-family=\"sans-serif\" font-size=\"14\" font-weight=\"bold\" lengthAdjust=\"spacingAndGlyphs\" textLength=\"58\" x=\"44\" y=\"63.9951\">Usages</text></a><!--MD5=[09b614a08d8cba4a07c9adeb5e0fee81]\n",
       "class E3--><a href=\"psysml:6a2a8f83-25b7-443f-ad75-cafd3f704077\" target=\"_top\" title=\"psysml:6a2a8f83-25b7-443f-ad75-cafd3f704077\" xlink:actuate=\"onRequest\" xlink:href=\"psysml:6a2a8f83-25b7-443f-ad75-cafd3f704077\" xlink:show=\"new\" xlink:title=\"psysml:6a2a8f83-25b7-443f-ad75-cafd3f704077\" xlink:type=\"simple\"><rect fill=\"#FFFFFF\" height=\"45.9375\" id=\"E3\" style=\"stroke: #383838; stroke-width: 1.5;\" width=\"66\" x=\"74\" y=\"205\"/><text fill=\"#000000\" font-family=\"sans-serif\" font-size=\"12\" font-style=\"italic\" lengthAdjust=\"spacingAndGlyphs\" textLength=\"64\" x=\"75\" y=\"221.1387\">«part def»</text><text fill=\"#000000\" font-family=\"sans-serif\" font-size=\"12\" lengthAdjust=\"spacingAndGlyphs\" textLength=\"45\" x=\"84.5\" y=\"235.1074\">Vehicle</text><line style=\"stroke: #383838; stroke-width: 1.5;\" x1=\"75\" x2=\"139\" y1=\"242.9375\" y2=\"242.9375\"/></a><!--MD5=[270fce915f116d4de14055a7c1d9a0f3]\n",
       "class E5--><a href=\"psysml:ac2a7781-f3a7-4610-aa94-de8fcbc60da2\" target=\"_top\" title=\"psysml:ac2a7781-f3a7-4610-aa94-de8fcbc60da2\" xlink:actuate=\"onRequest\" xlink:href=\"psysml:ac2a7781-f3a7-4610-aa94-de8fcbc60da2\" xlink:show=\"new\" xlink:title=\"psysml:ac2a7781-f3a7-4610-aa94-de8fcbc60da2\" xlink:type=\"simple\"><rect fill=\"#FFFFFF\" height=\"45.9375\" id=\"E5\" rx=\"10\" ry=\"10\" style=\"stroke: #383838; stroke-width: 1.5;\" width=\"102\" x=\"56\" y=\"84\"/><text fill=\"#000000\" font-family=\"sans-serif\" font-size=\"12\" font-style=\"italic\" lengthAdjust=\"spacingAndGlyphs\" textLength=\"40\" x=\"87\" y=\"100.1387\">«part»</text><text fill=\"#000000\" font-family=\"sans-serif\" font-size=\"12\" lengthAdjust=\"spacingAndGlyphs\" textLength=\"96\" x=\"59\" y=\"114.1074\">vehicle: Vehicle</text><line style=\"stroke: #383838; stroke-width: 1.5;\" x1=\"57\" x2=\"157\" y1=\"121.9375\" y2=\"121.9375\"/></a><!--MD5=[e9be52314489bd878ff4c7144b63c9e1]\n",
       "link E5 to E3--><a href=\"psysml:f4b8c599-6f69-4625-a365-4a72ec0c3cc2\" target=\"_top\" title=\"psysml:f4b8c599-6f69-4625-a365-4a72ec0c3cc2\" xlink:actuate=\"onRequest\" xlink:href=\"psysml:f4b8c599-6f69-4625-a365-4a72ec0c3cc2\" xlink:show=\"new\" xlink:title=\"psysml:f4b8c599-6f69-4625-a365-4a72ec0c3cc2\" xlink:type=\"simple\"><path d=\"M107,130.04 C107,130.04 107,184.63 107,184.63 \" fill=\"none\" id=\"E5-&gt;E3\" style=\"stroke: #383838; stroke-width: 1.0;\"/><polygon fill=\"#FFFFFF\" points=\"107,204.63,100,185.63,114,185.63,107,204.63\" style=\"stroke: #383838; stroke-width: 1.0;\"/><ellipse cx=\"102\" cy=\"179.93\" fill=\"#383838\" rx=\"2\" ry=\"2\" style=\"stroke: #383838; stroke-width: 1.0;\"/><ellipse cx=\"112\" cy=\"179.93\" fill=\"#383838\" rx=\"2\" ry=\"2\" style=\"stroke: #383838; stroke-width: 1.0;\"/></a><!--MD5=[a2054fee4caf56e275747179a5b49c90]\n",
       "@startuml\r\n",
       "skinparam linetype ortho\r\n",
       "skinparam monochrome true\r\n",
       "skinparam classbackgroundcolor white\r\n",
       "skinparam shadowing false\r\n",
       "skinparam wrapWidth 300\r\n",
       "hide circle\r\n",
       "\r\n",
       "package \"AliasImport\" as E1  [[psysml:ef3d48fd-2829-4dbf-9589-92371a3e091f ]]  {\r\n",
       "package \"Definitions\" as E2  [[psysml:de0d2cc7-98e6-429c-a225-0b1a04e72b17 ]]  {\r\n",
       "comp def \"Vehicle\" as E3  <<(T,blue) part def>> [[psysml:6a2a8f83-25b7-443f-ad75-cafd3f704077 ]] {\r\n",
       "}\r\n",
       "}\r\n",
       "package \"Usages\" as E4  [[psysml:0db9d317-797a-4865-97e5-5934f0d4a303 ]]  {\r\n",
       "comp usage \"vehicle: Vehicle\" as E5  <<(T,blue) part>> [[psysml:ac2a7781-f3a7-4610-aa94-de8fcbc60da2 ]] {\r\n",
       "}\r\n",
       "E5 - -:|> E3 [[psysml:f4b8c599-6f69-4625-a365-4a72ec0c3cc2 ]] \r\n",
       "}\r\n",
       "}\r\n",
       "@enduml\r\n",
       "\n",
       "PlantUML version 1.2020.13(Sat Jun 13 12:26:38 UTC 2020)\n",
       "(EPL source distribution)\n",
       "Java Runtime: OpenJDK Runtime Environment\n",
       "JVM: OpenJDK 64-Bit Server VM\n",
       "Default Encoding: UTF-8\n",
       "Language: en\n",
       "Country: null\n",
       "--></g></svg>"
      ]
     },
     "execution_count": 56,
     "metadata": {},
     "output_type": "execute_result"
    }
   ],
   "source": [
    "%viz --style=\"ORTHOLINE\" --view=\"Sequence\" \"AliasImport\""
   ]
  },
  {
   "cell_type": "code",
   "execution_count": 57,
   "id": "f8db7d2d",
   "metadata": {
    "execution": {
     "iopub.execute_input": "2021-08-04T06:25:43.668473Z",
     "iopub.status.busy": "2021-08-04T06:25:43.668193Z",
     "iopub.status.idle": "2021-08-04T06:25:43.685427Z",
     "shell.execute_reply": "2021-08-04T06:25:43.684805Z"
    }
   },
   "outputs": [
    {
     "data": {
      "image/svg+xml": [
       "<?xml version=\"1.0\" encoding=\"UTF-8\" standalone=\"no\"?><svg xmlns=\"http://www.w3.org/2000/svg\" xmlns:xlink=\"http://www.w3.org/1999/xlink\" contentScriptType=\"application/ecmascript\" contentStyleType=\"text/css\" height=\"303px\" preserveAspectRatio=\"none\" style=\"width:220px;height:303px;\" version=\"1.1\" viewBox=\"0 0 220 303\" width=\"220px\" zoomAndPan=\"magnify\"><defs/><g><!--MD5=[fbc87193dbaf4d95561dea2c320d4a47]\n",
       "cluster E1--><a href=\"psysml:ef3d48fd-2829-4dbf-9589-92371a3e091f\" target=\"_top\" title=\"psysml:ef3d48fd-2829-4dbf-9589-92371a3e091f\" xlink:actuate=\"onRequest\" xlink:href=\"psysml:ef3d48fd-2829-4dbf-9589-92371a3e091f\" xlink:show=\"new\" xlink:title=\"psysml:ef3d48fd-2829-4dbf-9589-92371a3e091f\" xlink:type=\"simple\"><polygon fill=\"#FFFFFF\" points=\"16,6,110,6,117,28.2969,198,28.2969,198,291,16,291,16,6\" style=\"stroke: #000000; stroke-width: 1.5;\"/><line style=\"stroke: #000000; stroke-width: 1.5;\" x1=\"16\" x2=\"117\" y1=\"28.2969\" y2=\"28.2969\"/><text fill=\"#000000\" font-family=\"sans-serif\" font-size=\"14\" font-weight=\"bold\" lengthAdjust=\"spacingAndGlyphs\" textLength=\"88\" x=\"20\" y=\"20.9951\">AliasImport</text></a><!--MD5=[e4f7fae6ed58524ba242bb0b0d3be6b7]\n",
       "cluster E2--><a href=\"psysml:de0d2cc7-98e6-429c-a225-0b1a04e72b17\" target=\"_top\" title=\"psysml:de0d2cc7-98e6-429c-a225-0b1a04e72b17\" xlink:actuate=\"onRequest\" xlink:href=\"psysml:de0d2cc7-98e6-429c-a225-0b1a04e72b17\" xlink:show=\"new\" xlink:title=\"psysml:de0d2cc7-98e6-429c-a225-0b1a04e72b17\" xlink:type=\"simple\"><polygon fill=\"#FFFFFF\" points=\"57,170,147,170,154,192.2969,157,192.2969,157,267,57,267,57,170\" style=\"stroke: #000000; stroke-width: 1.5;\"/><line style=\"stroke: #000000; stroke-width: 1.5;\" x1=\"57\" x2=\"154\" y1=\"192.2969\" y2=\"192.2969\"/><text fill=\"#000000\" font-family=\"sans-serif\" font-size=\"14\" font-weight=\"bold\" lengthAdjust=\"spacingAndGlyphs\" textLength=\"84\" x=\"61\" y=\"184.9951\">Definitions</text></a><!--MD5=[f6df4d0ebaf0b5dfb2ced0ae5af7c670]\n",
       "cluster E4--><a href=\"psysml:0db9d317-797a-4865-97e5-5934f0d4a303\" target=\"_top\" title=\"psysml:0db9d317-797a-4865-97e5-5934f0d4a303\" xlink:actuate=\"onRequest\" xlink:href=\"psysml:0db9d317-797a-4865-97e5-5934f0d4a303\" xlink:show=\"new\" xlink:title=\"psysml:0db9d317-797a-4865-97e5-5934f0d4a303\" xlink:type=\"simple\"><polygon fill=\"#FFFFFF\" points=\"40,49,104,49,111,71.2969,174,71.2969,174,146,40,146,40,49\" style=\"stroke: #000000; stroke-width: 1.5;\"/><line style=\"stroke: #000000; stroke-width: 1.5;\" x1=\"40\" x2=\"111\" y1=\"71.2969\" y2=\"71.2969\"/><text fill=\"#000000\" font-family=\"sans-serif\" font-size=\"14\" font-weight=\"bold\" lengthAdjust=\"spacingAndGlyphs\" textLength=\"58\" x=\"44\" y=\"63.9951\">Usages</text></a><!--MD5=[09b614a08d8cba4a07c9adeb5e0fee81]\n",
       "class E3--><a href=\"psysml:6a2a8f83-25b7-443f-ad75-cafd3f704077\" target=\"_top\" title=\"psysml:6a2a8f83-25b7-443f-ad75-cafd3f704077\" xlink:actuate=\"onRequest\" xlink:href=\"psysml:6a2a8f83-25b7-443f-ad75-cafd3f704077\" xlink:show=\"new\" xlink:title=\"psysml:6a2a8f83-25b7-443f-ad75-cafd3f704077\" xlink:type=\"simple\"><rect fill=\"#FFFFFF\" height=\"45.9375\" id=\"E3\" style=\"stroke: #383838; stroke-width: 1.5;\" width=\"66\" x=\"74\" y=\"205\"/><text fill=\"#000000\" font-family=\"sans-serif\" font-size=\"12\" font-style=\"italic\" lengthAdjust=\"spacingAndGlyphs\" textLength=\"64\" x=\"75\" y=\"221.1387\">«part def»</text><text fill=\"#000000\" font-family=\"sans-serif\" font-size=\"12\" lengthAdjust=\"spacingAndGlyphs\" textLength=\"45\" x=\"84.5\" y=\"235.1074\">Vehicle</text><line style=\"stroke: #383838; stroke-width: 1.5;\" x1=\"75\" x2=\"139\" y1=\"242.9375\" y2=\"242.9375\"/></a><!--MD5=[270fce915f116d4de14055a7c1d9a0f3]\n",
       "class E5--><a href=\"psysml:ac2a7781-f3a7-4610-aa94-de8fcbc60da2\" target=\"_top\" title=\"psysml:ac2a7781-f3a7-4610-aa94-de8fcbc60da2\" xlink:actuate=\"onRequest\" xlink:href=\"psysml:ac2a7781-f3a7-4610-aa94-de8fcbc60da2\" xlink:show=\"new\" xlink:title=\"psysml:ac2a7781-f3a7-4610-aa94-de8fcbc60da2\" xlink:type=\"simple\"><rect fill=\"#FFFFFF\" height=\"45.9375\" id=\"E5\" rx=\"10\" ry=\"10\" style=\"stroke: #383838; stroke-width: 1.5;\" width=\"102\" x=\"56\" y=\"84\"/><text fill=\"#000000\" font-family=\"sans-serif\" font-size=\"12\" font-style=\"italic\" lengthAdjust=\"spacingAndGlyphs\" textLength=\"40\" x=\"87\" y=\"100.1387\">«part»</text><text fill=\"#000000\" font-family=\"sans-serif\" font-size=\"12\" lengthAdjust=\"spacingAndGlyphs\" textLength=\"96\" x=\"59\" y=\"114.1074\">vehicle: Vehicle</text><line style=\"stroke: #383838; stroke-width: 1.5;\" x1=\"57\" x2=\"157\" y1=\"121.9375\" y2=\"121.9375\"/></a><!--MD5=[e9be52314489bd878ff4c7144b63c9e1]\n",
       "link E5 to E3--><a href=\"psysml:f4b8c599-6f69-4625-a365-4a72ec0c3cc2\" target=\"_top\" title=\"psysml:f4b8c599-6f69-4625-a365-4a72ec0c3cc2\" xlink:actuate=\"onRequest\" xlink:href=\"psysml:f4b8c599-6f69-4625-a365-4a72ec0c3cc2\" xlink:show=\"new\" xlink:title=\"psysml:f4b8c599-6f69-4625-a365-4a72ec0c3cc2\" xlink:type=\"simple\"><path d=\"M107,130.04 C107,130.04 107,184.63 107,184.63 \" fill=\"none\" id=\"E5-&gt;E3\" style=\"stroke: #383838; stroke-width: 1.0;\"/><polygon fill=\"#FFFFFF\" points=\"107,204.63,100,185.63,114,185.63,107,204.63\" style=\"stroke: #383838; stroke-width: 1.0;\"/><ellipse cx=\"102\" cy=\"179.93\" fill=\"#383838\" rx=\"2\" ry=\"2\" style=\"stroke: #383838; stroke-width: 1.0;\"/><ellipse cx=\"112\" cy=\"179.93\" fill=\"#383838\" rx=\"2\" ry=\"2\" style=\"stroke: #383838; stroke-width: 1.0;\"/></a><!--MD5=[a2054fee4caf56e275747179a5b49c90]\n",
       "@startuml\r\n",
       "skinparam linetype ortho\r\n",
       "skinparam monochrome true\r\n",
       "skinparam classbackgroundcolor white\r\n",
       "skinparam shadowing false\r\n",
       "skinparam wrapWidth 300\r\n",
       "hide circle\r\n",
       "\r\n",
       "package \"AliasImport\" as E1  [[psysml:ef3d48fd-2829-4dbf-9589-92371a3e091f ]]  {\r\n",
       "package \"Definitions\" as E2  [[psysml:de0d2cc7-98e6-429c-a225-0b1a04e72b17 ]]  {\r\n",
       "comp def \"Vehicle\" as E3  <<(T,blue) part def>> [[psysml:6a2a8f83-25b7-443f-ad75-cafd3f704077 ]] {\r\n",
       "}\r\n",
       "}\r\n",
       "package \"Usages\" as E4  [[psysml:0db9d317-797a-4865-97e5-5934f0d4a303 ]]  {\r\n",
       "comp usage \"vehicle: Vehicle\" as E5  <<(T,blue) part>> [[psysml:ac2a7781-f3a7-4610-aa94-de8fcbc60da2 ]] {\r\n",
       "}\r\n",
       "E5 - -:|> E3 [[psysml:f4b8c599-6f69-4625-a365-4a72ec0c3cc2 ]] \r\n",
       "}\r\n",
       "}\r\n",
       "@enduml\r\n",
       "\n",
       "PlantUML version 1.2020.13(Sat Jun 13 12:26:38 UTC 2020)\n",
       "(EPL source distribution)\n",
       "Java Runtime: OpenJDK Runtime Environment\n",
       "JVM: OpenJDK 64-Bit Server VM\n",
       "Default Encoding: UTF-8\n",
       "Language: en\n",
       "Country: null\n",
       "--></g></svg>"
      ]
     },
     "execution_count": 57,
     "metadata": {},
     "output_type": "execute_result"
    }
   ],
   "source": [
    "%viz --style=\"ORTHOLINE\" --view=\"MIXED\" \"AliasImport\""
   ]
  }
 ],
 "metadata": {
  "kernelspec": {
   "display_name": "SysML",
   "language": "sysml",
   "name": "sysml"
  },
  "language_info": {
   "codemirror_mode": "sysml",
   "file_extension": ".sysml",
   "mimetype": "text/x-sysml",
   "name": "SysML",
   "pygments_lexer": "java",
   "version": "1.0.0"
  }
 },
 "nbformat": 4,
 "nbformat_minor": 5
}
