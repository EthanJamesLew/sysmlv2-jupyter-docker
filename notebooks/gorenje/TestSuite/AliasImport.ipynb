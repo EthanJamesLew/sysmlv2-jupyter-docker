{
 "cells": [
  {
   "cell_type": "markdown",
   "id": "50c93df8",
   "metadata": {},
   "source": [
    "# SysML v2 Test Suite\n",
    "\n",
    "This can notebook can be cleared using menu `Edit --> Clear All Outputs` and then all cells can be\n",
    "run using menu `Run --> Run All Cells`.\n",
    "\n",
    "**WARNING**: This file is generated, all modifications here will be ignored.\n"
   ]
  },
  {
   "cell_type": "markdown",
   "id": "fc403a1d",
   "metadata": {},
   "source": [
    "## File: ../../sysml/src/examples/Import Tests/AliasImport.sysml"
   ]
  },
  {
   "cell_type": "code",
   "execution_count": 1,
   "id": "8851e12e",
   "metadata": {
    "execution": {
     "iopub.execute_input": "2022-04-22T09:52:15.678954Z",
     "iopub.status.busy": "2022-04-22T09:52:15.677577Z",
     "iopub.status.idle": "2022-04-22T09:52:15.798255Z",
     "shell.execute_reply": "2022-04-22T09:52:15.798729Z"
    }
   },
   "outputs": [
    {
     "data": {
      "text/plain": [
       "Package AliasImport (b3130fb5-3058-4928-b2ba-5cde67ade2ec)\n"
      ]
     },
     "execution_count": 1,
     "metadata": {},
     "output_type": "execute_result"
    }
   ],
   "source": [
    "package AliasImport {\n",
    "\tpackage Definitions {\n",
    "\t    part def Vehicle;\n",
    "\t    \n",
    "\t    alias Car for Vehicle;\n",
    "\t}\n",
    "\t\n",
    "\tpackage Usages {\n",
    "\t    import Definitions::Car;\n",
    "\t\n",
    "\t    part vehicle : Car;\n",
    "\t}\n",
    "}"
   ]
  },
  {
   "cell_type": "code",
   "execution_count": 2,
   "id": "3d4d2f3c",
   "metadata": {
    "execution": {
     "iopub.execute_input": "2022-04-22T09:52:15.849006Z",
     "iopub.status.busy": "2022-04-22T09:52:15.848758Z",
     "iopub.status.idle": "2022-04-22T09:52:16.300827Z",
     "shell.execute_reply": "2022-04-22T09:52:16.299332Z"
    }
   },
   "outputs": [
    {
     "data": {
      "image/svg+xml": [
       "<?xml version=\"1.0\" encoding=\"UTF-8\" standalone=\"no\"?><svg xmlns=\"http://www.w3.org/2000/svg\" xmlns:xlink=\"http://www.w3.org/1999/xlink\" contentScriptType=\"application/ecmascript\" contentStyleType=\"text/css\" height=\"360px\" preserveAspectRatio=\"none\" style=\"width:275px;height:360px;\" version=\"1.1\" viewBox=\"0 0 275 360\" width=\"275px\" zoomAndPan=\"magnify\"><defs/><g><!--MD5=[fbc87193dbaf4d95561dea2c320d4a47]\n",
       "cluster E1--><a href=\"psysml:82c5726b-cb9a-46c4-b6fc-24bdfc4818ff\" target=\"_top\" title=\"psysml:82c5726b-cb9a-46c4-b6fc-24bdfc4818ff\" xlink:actuate=\"onRequest\" xlink:href=\"psysml:82c5726b-cb9a-46c4-b6fc-24bdfc4818ff\" xlink:show=\"new\" xlink:title=\"psysml:82c5726b-cb9a-46c4-b6fc-24bdfc4818ff\" xlink:type=\"simple\"><polygon fill=\"#FFFFFF\" points=\"16,6,97,6,104,28.2969,253,28.2969,253,348,16,348,16,6\" style=\"stroke: #000000; stroke-width: 1.5;\"/><line style=\"stroke: #000000; stroke-width: 1.5;\" x1=\"16\" x2=\"104\" y1=\"28.2969\" y2=\"28.2969\"/><text fill=\"#000000\" font-family=\"sans-serif\" font-size=\"14\" font-weight=\"bold\" lengthAdjust=\"spacingAndGlyphs\" textLength=\"75\" x=\"20\" y=\"20.9951\">AliasImport</text></a><!--MD5=[e4f7fae6ed58524ba242bb0b0d3be6b7]\n",
       "cluster E2--><a href=\"psysml:b1455dfe-9c7f-45c5-9354-49cb3cd9f952\" target=\"_top\" title=\"psysml:b1455dfe-9c7f-45c5-9354-49cb3cd9f952\" xlink:actuate=\"onRequest\" xlink:href=\"psysml:b1455dfe-9c7f-45c5-9354-49cb3cd9f952\" xlink:show=\"new\" xlink:title=\"psysml:b1455dfe-9c7f-45c5-9354-49cb3cd9f952\" xlink:type=\"simple\"><polygon fill=\"#FFFFFF\" points=\"65,227,144,227,151,249.2969,167,249.2969,167,324,65,324,65,227\" style=\"stroke: #000000; stroke-width: 1.5;\"/><line style=\"stroke: #000000; stroke-width: 1.5;\" x1=\"65\" x2=\"151\" y1=\"249.2969\" y2=\"249.2969\"/><text fill=\"#000000\" font-family=\"sans-serif\" font-size=\"14\" font-weight=\"bold\" lengthAdjust=\"spacingAndGlyphs\" textLength=\"73\" x=\"69\" y=\"241.9951\">Definitions</text></a><!--MD5=[f6df4d0ebaf0b5dfb2ced0ae5af7c670]\n",
       "cluster E4--><a href=\"psysml:f72b5ed2-7d34-4b16-a5c4-267d5b8a9efb\" target=\"_top\" title=\"psysml:f72b5ed2-7d34-4b16-a5c4-267d5b8a9efb\" xlink:actuate=\"onRequest\" xlink:href=\"psysml:f72b5ed2-7d34-4b16-a5c4-267d5b8a9efb\" xlink:show=\"new\" xlink:title=\"psysml:f72b5ed2-7d34-4b16-a5c4-267d5b8a9efb\" xlink:type=\"simple\"><polygon fill=\"#FFFFFF\" points=\"48,57,106,57,113,79.2969,221,79.2969,221,170,48,170,48,57\" style=\"stroke: #000000; stroke-width: 1.5;\"/><line style=\"stroke: #000000; stroke-width: 1.5;\" x1=\"48\" x2=\"113\" y1=\"79.2969\" y2=\"79.2969\"/><text fill=\"#000000\" font-family=\"sans-serif\" font-size=\"14\" font-weight=\"bold\" lengthAdjust=\"spacingAndGlyphs\" textLength=\"52\" x=\"52\" y=\"71.9951\">Usages</text></a><!--MD5=[09b614a08d8cba4a07c9adeb5e0fee81]\n",
       "class E3--><a href=\"psysml:5d1720bb-4632-462e-81a0-399c2024ebdc\" target=\"_top\" title=\"psysml:5d1720bb-4632-462e-81a0-399c2024ebdc\" xlink:actuate=\"onRequest\" xlink:href=\"psysml:5d1720bb-4632-462e-81a0-399c2024ebdc\" xlink:show=\"new\" xlink:title=\"psysml:5d1720bb-4632-462e-81a0-399c2024ebdc\" xlink:type=\"simple\"><rect fill=\"#FFFFFF\" height=\"45.9375\" id=\"E3\" style=\"stroke: #383838; stroke-width: 1.5;\" width=\"70\" x=\"81\" y=\"262\"/><text fill=\"#000000\" font-family=\"sans-serif\" font-size=\"12\" font-style=\"italic\" lengthAdjust=\"spacingAndGlyphs\" textLength=\"68\" x=\"82\" y=\"278.1387\">«part  def»</text><text fill=\"#000000\" font-family=\"sans-serif\" font-size=\"12\" lengthAdjust=\"spacingAndGlyphs\" textLength=\"45\" x=\"93.5\" y=\"292.1074\">Vehicle</text><line style=\"stroke: #383838; stroke-width: 1.5;\" x1=\"82\" x2=\"150\" y1=\"299.9375\" y2=\"299.9375\"/></a><!--MD5=[270fce915f116d4de14055a7c1d9a0f3]\n",
       "class E5--><a href=\"psysml:68b35502-f69c-477b-bf3e-22d420c63407\" target=\"_top\" title=\"psysml:68b35502-f69c-477b-bf3e-22d420c63407\" xlink:actuate=\"onRequest\" xlink:href=\"psysml:68b35502-f69c-477b-bf3e-22d420c63407\" xlink:show=\"new\" xlink:title=\"psysml:68b35502-f69c-477b-bf3e-22d420c63407\" xlink:type=\"simple\"><rect fill=\"#FFFFFF\" height=\"45.9375\" id=\"E5\" rx=\"10\" ry=\"10\" style=\"stroke: #383838; stroke-width: 1.5;\" width=\"106\" x=\"91\" y=\"100\"/><text fill=\"#000000\" font-family=\"sans-serif\" font-size=\"12\" font-style=\"italic\" lengthAdjust=\"spacingAndGlyphs\" textLength=\"40\" x=\"124\" y=\"116.1387\">«part»</text><text fill=\"#000000\" font-family=\"sans-serif\" font-size=\"12\" lengthAdjust=\"spacingAndGlyphs\" textLength=\"96\" x=\"94\" y=\"130.1074\">vehicle: Vehicle</text><line style=\"stroke: #383838; stroke-width: 1.5;\" x1=\"92\" x2=\"196\" y1=\"137.9375\" y2=\"137.9375\"/></a><!--MD5=[f0cdf4548168e5211fb3a02bf679d63a]\n",
       "link E4 to E3--><a href=\"psysml:3bf1490e-93ee-46db-b7d3-74f4b2a23de7\" target=\"_top\" title=\"psysml:3bf1490e-93ee-46db-b7d3-74f4b2a23de7\" xlink:actuate=\"onRequest\" xlink:href=\"psysml:3bf1490e-93ee-46db-b7d3-74f4b2a23de7\" xlink:show=\"new\" xlink:title=\"psysml:3bf1490e-93ee-46db-b7d3-74f4b2a23de7\" xlink:type=\"simple\"><path d=\"M58.5005,170.0549 C58.5193,170.2001 58.5383,170.3454 58.5574,170.4908 C58.6338,171.0725 58.7124,171.6562 58.7932,172.2415 C58.9548,173.4122 59.1253,174.5898 59.3052,175.7725 C59.6651,178.1379 60.0625,180.5238 60.5014,182.9158 C62.2569,192.4838 64.675,202.15 68,211 C74.23,227.58 84.77,244.23 94.38,257.43 \" fill=\"none\" id=\"E4-&gt;E3\" style=\"stroke: #383838; stroke-width: 1.0; stroke-dasharray: 7.0,7.0;\"/><polygon fill=\"#383838\" points=\"97.6,261.77,95.4384,252.1613,94.616,257.758,89.0193,256.9357,97.6,261.77\" style=\"stroke: #383838; stroke-width: 1.0;\"/><text fill=\"#000000\" font-family=\"sans-serif\" font-size=\"13\" lengthAdjust=\"spacingAndGlyphs\" textLength=\"58\" x=\"69\" y=\"207.0669\">«import»</text></a><!--MD5=[e9be52314489bd878ff4c7144b63c9e1]\n",
       "link E5 to E3--><a href=\"psysml:c8bdef6b-3f7a-4888-bf3f-9f853dc854f0\" target=\"_top\" title=\"psysml:c8bdef6b-3f7a-4888-bf3f-9f853dc854f0\" xlink:actuate=\"onRequest\" xlink:href=\"psysml:c8bdef6b-3f7a-4888-bf3f-9f853dc854f0\" xlink:show=\"new\" xlink:title=\"psysml:c8bdef6b-3f7a-4888-bf3f-9f853dc854f0\" xlink:type=\"simple\"><path d=\"M143.03,146.32 C142,163.98 139.95,189.21 136,211 C134.13,221.29 131.49,232.23 128.74,242.43 \" fill=\"none\" id=\"E5-&gt;E3\" style=\"stroke: #383838; stroke-width: 1.0;\"/><polygon fill=\"#FFFFFF\" points=\"123.15,261.87,121.6727,241.6755,135.1276,245.544,123.15,261.87\" style=\"stroke: #383838; stroke-width: 1.0;\"/><ellipse cx=\"125.1699\" cy=\"236.7501\" fill=\"#383838\" rx=\"2\" ry=\"2\" style=\"stroke: #383838; stroke-width: 1.0;\"/><ellipse cx=\"134.7805\" cy=\"239.5133\" fill=\"#383838\" rx=\"2\" ry=\"2\" style=\"stroke: #383838; stroke-width: 1.0;\"/></a><!--MD5=[805cfb12905f945f130a7d719aa2cd95]\n",
       "@startuml\r\n",
       " skinparam monochrome true\r\n",
       "skinparam classbackgroundcolor white\r\n",
       "skinparam shadowing false\r\n",
       "skinparam wrapWidth 300\r\n",
       "hide circle\r\n",
       "\r\n",
       "package \"AliasImport\" as E1  [[psysml:82c5726b-cb9a-46c4-b6fc-24bdfc4818ff ]]  {\r\n",
       "package \"Definitions\" as E2  [[psysml:b1455dfe-9c7f-45c5-9354-49cb3cd9f952 ]]  {\r\n",
       "comp def \"Vehicle\" as E3  <<(T,blue) part  def>> [[psysml:5d1720bb-4632-462e-81a0-399c2024ebdc ]] {\r\n",
       "}\r\n",
       "}\r\n",
       "package \"Usages\" as E4  [[psysml:f72b5ed2-7d34-4b16-a5c4-267d5b8a9efb ]]  {\r\n",
       "comp usage \"vehicle: Vehicle \" as E5  <<(T,blue) part>> [[psysml:68b35502-f69c-477b-bf3e-22d420c63407 ]] {\r\n",
       "}\r\n",
       "}\r\n",
       "}\r\n",
       "E4 ..> E3 [[psysml:3bf1490e-93ee-46db-b7d3-74f4b2a23de7 ]] : <<import>>\r\n",
       "E5 - -:|> E3 [[psysml:c8bdef6b-3f7a-4888-bf3f-9f853dc854f0 ]] \r\n",
       "@enduml\r\n",
       "\n",
       "PlantUML version 1.2020.13(Sat Jun 13 12:26:38 UTC 2020)\n",
       "(EPL source distribution)\n",
       "Java Runtime: OpenJDK Runtime Environment\n",
       "JVM: OpenJDK 64-Bit Server VM\n",
       "Default Encoding: UTF-8\n",
       "Language: en\n",
       "Country: null\n",
       "--></g></svg>"
      ]
     },
     "execution_count": 2,
     "metadata": {},
     "output_type": "execute_result"
    }
   ],
   "source": [
    "%viz --style=\"COMPTREE\" --view=\"Default\" \"AliasImport\""
   ]
  },
  {
   "cell_type": "code",
   "execution_count": 3,
   "id": "3db7c67b",
   "metadata": {
    "execution": {
     "iopub.execute_input": "2022-04-22T09:52:16.350629Z",
     "iopub.status.busy": "2022-04-22T09:52:16.350148Z",
     "iopub.status.idle": "2022-04-22T09:52:16.411287Z",
     "shell.execute_reply": "2022-04-22T09:52:16.410768Z"
    }
   },
   "outputs": [
    {
     "data": {
      "image/svg+xml": [
       "<?xml version=\"1.0\" encoding=\"UTF-8\" standalone=\"no\"?><svg xmlns=\"http://www.w3.org/2000/svg\" xmlns:xlink=\"http://www.w3.org/1999/xlink\" contentScriptType=\"application/ecmascript\" contentStyleType=\"text/css\" height=\"360px\" preserveAspectRatio=\"none\" style=\"width:275px;height:360px;\" version=\"1.1\" viewBox=\"0 0 275 360\" width=\"275px\" zoomAndPan=\"magnify\"><defs/><g><!--MD5=[fbc87193dbaf4d95561dea2c320d4a47]\n",
       "cluster E1--><a href=\"psysml:82c5726b-cb9a-46c4-b6fc-24bdfc4818ff\" target=\"_top\" title=\"psysml:82c5726b-cb9a-46c4-b6fc-24bdfc4818ff\" xlink:actuate=\"onRequest\" xlink:href=\"psysml:82c5726b-cb9a-46c4-b6fc-24bdfc4818ff\" xlink:show=\"new\" xlink:title=\"psysml:82c5726b-cb9a-46c4-b6fc-24bdfc4818ff\" xlink:type=\"simple\"><polygon fill=\"#FFFFFF\" points=\"16,6,97,6,104,28.2969,253,28.2969,253,348,16,348,16,6\" style=\"stroke: #000000; stroke-width: 1.5;\"/><line style=\"stroke: #000000; stroke-width: 1.5;\" x1=\"16\" x2=\"104\" y1=\"28.2969\" y2=\"28.2969\"/><text fill=\"#000000\" font-family=\"sans-serif\" font-size=\"14\" font-weight=\"bold\" lengthAdjust=\"spacingAndGlyphs\" textLength=\"75\" x=\"20\" y=\"20.9951\">AliasImport</text></a><!--MD5=[e4f7fae6ed58524ba242bb0b0d3be6b7]\n",
       "cluster E2--><a href=\"psysml:b1455dfe-9c7f-45c5-9354-49cb3cd9f952\" target=\"_top\" title=\"psysml:b1455dfe-9c7f-45c5-9354-49cb3cd9f952\" xlink:actuate=\"onRequest\" xlink:href=\"psysml:b1455dfe-9c7f-45c5-9354-49cb3cd9f952\" xlink:show=\"new\" xlink:title=\"psysml:b1455dfe-9c7f-45c5-9354-49cb3cd9f952\" xlink:type=\"simple\"><polygon fill=\"#FFFFFF\" points=\"65,227,144,227,151,249.2969,167,249.2969,167,324,65,324,65,227\" style=\"stroke: #000000; stroke-width: 1.5;\"/><line style=\"stroke: #000000; stroke-width: 1.5;\" x1=\"65\" x2=\"151\" y1=\"249.2969\" y2=\"249.2969\"/><text fill=\"#000000\" font-family=\"sans-serif\" font-size=\"14\" font-weight=\"bold\" lengthAdjust=\"spacingAndGlyphs\" textLength=\"73\" x=\"69\" y=\"241.9951\">Definitions</text></a><!--MD5=[f6df4d0ebaf0b5dfb2ced0ae5af7c670]\n",
       "cluster E4--><a href=\"psysml:f72b5ed2-7d34-4b16-a5c4-267d5b8a9efb\" target=\"_top\" title=\"psysml:f72b5ed2-7d34-4b16-a5c4-267d5b8a9efb\" xlink:actuate=\"onRequest\" xlink:href=\"psysml:f72b5ed2-7d34-4b16-a5c4-267d5b8a9efb\" xlink:show=\"new\" xlink:title=\"psysml:f72b5ed2-7d34-4b16-a5c4-267d5b8a9efb\" xlink:type=\"simple\"><polygon fill=\"#FFFFFF\" points=\"48,57,106,57,113,79.2969,221,79.2969,221,170,48,170,48,57\" style=\"stroke: #000000; stroke-width: 1.5;\"/><line style=\"stroke: #000000; stroke-width: 1.5;\" x1=\"48\" x2=\"113\" y1=\"79.2969\" y2=\"79.2969\"/><text fill=\"#000000\" font-family=\"sans-serif\" font-size=\"14\" font-weight=\"bold\" lengthAdjust=\"spacingAndGlyphs\" textLength=\"52\" x=\"52\" y=\"71.9951\">Usages</text></a><!--MD5=[09b614a08d8cba4a07c9adeb5e0fee81]\n",
       "class E3--><a href=\"psysml:5d1720bb-4632-462e-81a0-399c2024ebdc\" target=\"_top\" title=\"psysml:5d1720bb-4632-462e-81a0-399c2024ebdc\" xlink:actuate=\"onRequest\" xlink:href=\"psysml:5d1720bb-4632-462e-81a0-399c2024ebdc\" xlink:show=\"new\" xlink:title=\"psysml:5d1720bb-4632-462e-81a0-399c2024ebdc\" xlink:type=\"simple\"><rect fill=\"#FFFFFF\" height=\"45.9375\" id=\"E3\" style=\"stroke: #383838; stroke-width: 1.5;\" width=\"70\" x=\"81\" y=\"262\"/><text fill=\"#000000\" font-family=\"sans-serif\" font-size=\"12\" font-style=\"italic\" lengthAdjust=\"spacingAndGlyphs\" textLength=\"68\" x=\"82\" y=\"278.1387\">«part  def»</text><text fill=\"#000000\" font-family=\"sans-serif\" font-size=\"12\" lengthAdjust=\"spacingAndGlyphs\" textLength=\"45\" x=\"93.5\" y=\"292.1074\">Vehicle</text><line style=\"stroke: #383838; stroke-width: 1.5;\" x1=\"82\" x2=\"150\" y1=\"299.9375\" y2=\"299.9375\"/></a><!--MD5=[270fce915f116d4de14055a7c1d9a0f3]\n",
       "class E5--><a href=\"psysml:68b35502-f69c-477b-bf3e-22d420c63407\" target=\"_top\" title=\"psysml:68b35502-f69c-477b-bf3e-22d420c63407\" xlink:actuate=\"onRequest\" xlink:href=\"psysml:68b35502-f69c-477b-bf3e-22d420c63407\" xlink:show=\"new\" xlink:title=\"psysml:68b35502-f69c-477b-bf3e-22d420c63407\" xlink:type=\"simple\"><rect fill=\"#FFFFFF\" height=\"45.9375\" id=\"E5\" rx=\"10\" ry=\"10\" style=\"stroke: #383838; stroke-width: 1.5;\" width=\"106\" x=\"91\" y=\"100\"/><text fill=\"#000000\" font-family=\"sans-serif\" font-size=\"12\" font-style=\"italic\" lengthAdjust=\"spacingAndGlyphs\" textLength=\"40\" x=\"124\" y=\"116.1387\">«part»</text><text fill=\"#000000\" font-family=\"sans-serif\" font-size=\"12\" lengthAdjust=\"spacingAndGlyphs\" textLength=\"96\" x=\"94\" y=\"130.1074\">vehicle: Vehicle</text><line style=\"stroke: #383838; stroke-width: 1.5;\" x1=\"92\" x2=\"196\" y1=\"137.9375\" y2=\"137.9375\"/></a><!--MD5=[f0cdf4548168e5211fb3a02bf679d63a]\n",
       "link E4 to E3--><a href=\"psysml:3bf1490e-93ee-46db-b7d3-74f4b2a23de7\" target=\"_top\" title=\"psysml:3bf1490e-93ee-46db-b7d3-74f4b2a23de7\" xlink:actuate=\"onRequest\" xlink:href=\"psysml:3bf1490e-93ee-46db-b7d3-74f4b2a23de7\" xlink:show=\"new\" xlink:title=\"psysml:3bf1490e-93ee-46db-b7d3-74f4b2a23de7\" xlink:type=\"simple\"><path d=\"M58.5005,170.0549 C58.5193,170.2001 58.5383,170.3454 58.5574,170.4908 C58.6338,171.0725 58.7124,171.6562 58.7932,172.2415 C58.9548,173.4122 59.1253,174.5898 59.3052,175.7725 C59.6651,178.1379 60.0625,180.5238 60.5014,182.9158 C62.2569,192.4838 64.675,202.15 68,211 C74.23,227.58 84.77,244.23 94.38,257.43 \" fill=\"none\" id=\"E4-&gt;E3\" style=\"stroke: #383838; stroke-width: 1.0; stroke-dasharray: 7.0,7.0;\"/><polygon fill=\"#383838\" points=\"97.6,261.77,95.4384,252.1613,94.616,257.758,89.0193,256.9357,97.6,261.77\" style=\"stroke: #383838; stroke-width: 1.0;\"/><text fill=\"#000000\" font-family=\"sans-serif\" font-size=\"13\" lengthAdjust=\"spacingAndGlyphs\" textLength=\"58\" x=\"69\" y=\"207.0669\">«import»</text></a><!--MD5=[e9be52314489bd878ff4c7144b63c9e1]\n",
       "link E5 to E3--><a href=\"psysml:c8bdef6b-3f7a-4888-bf3f-9f853dc854f0\" target=\"_top\" title=\"psysml:c8bdef6b-3f7a-4888-bf3f-9f853dc854f0\" xlink:actuate=\"onRequest\" xlink:href=\"psysml:c8bdef6b-3f7a-4888-bf3f-9f853dc854f0\" xlink:show=\"new\" xlink:title=\"psysml:c8bdef6b-3f7a-4888-bf3f-9f853dc854f0\" xlink:type=\"simple\"><path d=\"M143.03,146.32 C142,163.98 139.95,189.21 136,211 C134.13,221.29 131.49,232.23 128.74,242.43 \" fill=\"none\" id=\"E5-&gt;E3\" style=\"stroke: #383838; stroke-width: 1.0;\"/><polygon fill=\"#FFFFFF\" points=\"123.15,261.87,121.6727,241.6755,135.1276,245.544,123.15,261.87\" style=\"stroke: #383838; stroke-width: 1.0;\"/><ellipse cx=\"125.1699\" cy=\"236.7501\" fill=\"#383838\" rx=\"2\" ry=\"2\" style=\"stroke: #383838; stroke-width: 1.0;\"/><ellipse cx=\"134.7805\" cy=\"239.5133\" fill=\"#383838\" rx=\"2\" ry=\"2\" style=\"stroke: #383838; stroke-width: 1.0;\"/></a><!--MD5=[805cfb12905f945f130a7d719aa2cd95]\n",
       "@startuml\r\n",
       " skinparam monochrome true\r\n",
       "skinparam classbackgroundcolor white\r\n",
       "skinparam shadowing false\r\n",
       "skinparam wrapWidth 300\r\n",
       "hide circle\r\n",
       "\r\n",
       "package \"AliasImport\" as E1  [[psysml:82c5726b-cb9a-46c4-b6fc-24bdfc4818ff ]]  {\r\n",
       "package \"Definitions\" as E2  [[psysml:b1455dfe-9c7f-45c5-9354-49cb3cd9f952 ]]  {\r\n",
       "comp def \"Vehicle\" as E3  <<(T,blue) part  def>> [[psysml:5d1720bb-4632-462e-81a0-399c2024ebdc ]] {\r\n",
       "}\r\n",
       "}\r\n",
       "package \"Usages\" as E4  [[psysml:f72b5ed2-7d34-4b16-a5c4-267d5b8a9efb ]]  {\r\n",
       "comp usage \"vehicle: Vehicle \" as E5  <<(T,blue) part>> [[psysml:68b35502-f69c-477b-bf3e-22d420c63407 ]] {\r\n",
       "}\r\n",
       "}\r\n",
       "}\r\n",
       "E4 ..> E3 [[psysml:3bf1490e-93ee-46db-b7d3-74f4b2a23de7 ]] : <<import>>\r\n",
       "E5 - -:|> E3 [[psysml:c8bdef6b-3f7a-4888-bf3f-9f853dc854f0 ]] \r\n",
       "@enduml\r\n",
       "\n",
       "PlantUML version 1.2020.13(Sat Jun 13 12:26:38 UTC 2020)\n",
       "(EPL source distribution)\n",
       "Java Runtime: OpenJDK Runtime Environment\n",
       "JVM: OpenJDK 64-Bit Server VM\n",
       "Default Encoding: UTF-8\n",
       "Language: en\n",
       "Country: null\n",
       "--></g></svg>"
      ]
     },
     "execution_count": 3,
     "metadata": {},
     "output_type": "execute_result"
    }
   ],
   "source": [
    "%viz --style=\"COMPTREE\" --view=\"Tree\" \"AliasImport\""
   ]
  },
  {
   "cell_type": "code",
   "execution_count": 4,
   "id": "ca4cc2ac",
   "metadata": {
    "execution": {
     "iopub.execute_input": "2022-04-22T09:52:16.461209Z",
     "iopub.status.busy": "2022-04-22T09:52:16.460758Z",
     "iopub.status.idle": "2022-04-22T09:52:16.470189Z",
     "shell.execute_reply": "2022-04-22T09:52:16.470669Z"
    }
   },
   "outputs": [
    {
     "data": {
      "image/svg+xml": [
       "<?xml version=\"1.0\" encoding=\"UTF-8\" standalone=\"no\"?><svg xmlns=\"http://www.w3.org/2000/svg\" xmlns:xlink=\"http://www.w3.org/1999/xlink\" contentScriptType=\"application/ecmascript\" contentStyleType=\"text/css\" height=\"12px\" preserveAspectRatio=\"none\" style=\"width:12px;height:12px;\" version=\"1.1\" viewBox=\"0 0 12 12\" width=\"12px\" zoomAndPan=\"magnify\"><defs/><g><!--MD5=[f19188ef49e11757b5c46753f95d9edc]\n",
       "@startuml\r\n",
       " skinparam monochrome true\r\n",
       "skinparam classbackgroundcolor white\r\n",
       "skinparam shadowing false\r\n",
       "skinparam wrapWidth 300\r\n",
       "hide circle\r\n",
       "\r\n",
       "@enduml\r\n",
       "\n",
       "PlantUML version 1.2020.13(Sat Jun 13 12:26:38 UTC 2020)\n",
       "(EPL source distribution)\n",
       "Java Runtime: OpenJDK Runtime Environment\n",
       "JVM: OpenJDK 64-Bit Server VM\n",
       "Default Encoding: UTF-8\n",
       "Language: en\n",
       "Country: null\n",
       "--></g></svg>"
      ]
     },
     "execution_count": 4,
     "metadata": {},
     "output_type": "execute_result"
    }
   ],
   "source": [
    "%viz --style=\"COMPTREE\" --view=\"State\" \"AliasImport\""
   ]
  },
  {
   "cell_type": "code",
   "execution_count": 5,
   "id": "f10b496d",
   "metadata": {
    "execution": {
     "iopub.execute_input": "2022-04-22T09:52:16.520485Z",
     "iopub.status.busy": "2022-04-22T09:52:16.520236Z",
     "iopub.status.idle": "2022-04-22T09:52:16.568524Z",
     "shell.execute_reply": "2022-04-22T09:52:16.568689Z"
    }
   },
   "outputs": [
    {
     "data": {
      "image/svg+xml": [
       "<?xml version=\"1.0\" encoding=\"UTF-8\" standalone=\"no\"?><svg xmlns=\"http://www.w3.org/2000/svg\" xmlns:xlink=\"http://www.w3.org/1999/xlink\" contentScriptType=\"application/ecmascript\" contentStyleType=\"text/css\" height=\"351px\" preserveAspectRatio=\"none\" style=\"width:302px;height:351px;\" version=\"1.1\" viewBox=\"0 0 302 351\" width=\"302px\" zoomAndPan=\"magnify\"><defs/><g><!--MD5=[fbc87193dbaf4d95561dea2c320d4a47]\n",
       "cluster E1--><a href=\"psysml:82c5726b-cb9a-46c4-b6fc-24bdfc4818ff\" target=\"_top\" title=\"psysml:82c5726b-cb9a-46c4-b6fc-24bdfc4818ff\" xlink:actuate=\"onRequest\" xlink:href=\"psysml:82c5726b-cb9a-46c4-b6fc-24bdfc4818ff\" xlink:show=\"new\" xlink:title=\"psysml:82c5726b-cb9a-46c4-b6fc-24bdfc4818ff\" xlink:type=\"simple\"><polygon fill=\"#FFFFFF\" points=\"16,6,97,6,104,28.2969,280,28.2969,280,339,16,339,16,6\" style=\"stroke: #000000; stroke-width: 1.5;\"/><line style=\"stroke: #000000; stroke-width: 1.5;\" x1=\"16\" x2=\"104\" y1=\"28.2969\" y2=\"28.2969\"/><text fill=\"#000000\" font-family=\"sans-serif\" font-size=\"14\" font-weight=\"bold\" lengthAdjust=\"spacingAndGlyphs\" textLength=\"75\" x=\"20\" y=\"20.9951\">AliasImport</text></a><!--MD5=[e4f7fae6ed58524ba242bb0b0d3be6b7]\n",
       "cluster E2--><a href=\"psysml:b1455dfe-9c7f-45c5-9354-49cb3cd9f952\" target=\"_top\" title=\"psysml:b1455dfe-9c7f-45c5-9354-49cb3cd9f952\" xlink:actuate=\"onRequest\" xlink:href=\"psysml:b1455dfe-9c7f-45c5-9354-49cb3cd9f952\" xlink:show=\"new\" xlink:title=\"psysml:b1455dfe-9c7f-45c5-9354-49cb3cd9f952\" xlink:type=\"simple\"><polygon fill=\"#FFFFFF\" points=\"40,221,119,221,126,243.2969,256,243.2969,256,315,40,315,40,221\" style=\"stroke: #000000; stroke-width: 1.5;\"/><line style=\"stroke: #000000; stroke-width: 1.5;\" x1=\"40\" x2=\"126\" y1=\"243.2969\" y2=\"243.2969\"/><text fill=\"#000000\" font-family=\"sans-serif\" font-size=\"14\" font-weight=\"bold\" lengthAdjust=\"spacingAndGlyphs\" textLength=\"73\" x=\"44\" y=\"235.9951\">Definitions</text></a><!--MD5=[de5ec2e2e8f62f467e546659f5068c88]\n",
       "cluster E5--><a href=\"psysml:f72b5ed2-7d34-4b16-a5c4-267d5b8a9efb\" target=\"_top\" title=\"psysml:f72b5ed2-7d34-4b16-a5c4-267d5b8a9efb\" xlink:actuate=\"onRequest\" xlink:href=\"psysml:f72b5ed2-7d34-4b16-a5c4-267d5b8a9efb\" xlink:show=\"new\" xlink:title=\"psysml:f72b5ed2-7d34-4b16-a5c4-267d5b8a9efb\" xlink:type=\"simple\"><polygon fill=\"#FFFFFF\" points=\"56,57,114,57,121,79.2969,230,79.2969,230,164,56,164,56,57\" style=\"stroke: #000000; stroke-width: 1.5;\"/><line style=\"stroke: #000000; stroke-width: 1.5;\" x1=\"56\" x2=\"121\" y1=\"79.2969\" y2=\"79.2969\"/><text fill=\"#000000\" font-family=\"sans-serif\" font-size=\"14\" font-weight=\"bold\" lengthAdjust=\"spacingAndGlyphs\" textLength=\"52\" x=\"60\" y=\"71.9951\">Usages</text></a><g id=\"E1.E2.E3\"><a href=\"psysml:5d1720bb-4632-462e-81a0-399c2024ebdc\" target=\"_top\" title=\"psysml:5d1720bb-4632-462e-81a0-399c2024ebdc\" xlink:actuate=\"onRequest\" xlink:href=\"psysml:5d1720bb-4632-462e-81a0-399c2024ebdc\" xlink:show=\"new\" xlink:title=\"psysml:5d1720bb-4632-462e-81a0-399c2024ebdc\" xlink:type=\"simple\"><rect fill=\"#FFFFFF\" height=\"42.9375\" id=\"E3\" style=\"stroke: #383838; stroke-width: 1.5;\" width=\"75\" x=\"165.5\" y=\"256\"/><rect fill=\"#F8F8F8\" height=\"37.9375\" style=\"stroke: #383838; stroke-width: 1.5;\" width=\"75\" x=\"165.5\" y=\"256\"/><text fill=\"#000000\" font-family=\"sans-serif\" font-size=\"12\" font-style=\"italic\" lengthAdjust=\"spacingAndGlyphs\" textLength=\"68\" x=\"169\" y=\"272.1387\">«part  def»</text><text fill=\"#000000\" font-family=\"sans-serif\" font-size=\"12\" lengthAdjust=\"spacingAndGlyphs\" textLength=\"45\" x=\"180.5\" y=\"286.1074\">Vehicle</text></a></g><g id=\"E1.E2.E4\"><a href=\"psysml:5d1720bb-4632-462e-81a0-399c2024ebdc\" target=\"_top\" title=\"psysml:5d1720bb-4632-462e-81a0-399c2024ebdc\" xlink:actuate=\"onRequest\" xlink:href=\"psysml:5d1720bb-4632-462e-81a0-399c2024ebdc\" xlink:show=\"new\" xlink:title=\"psysml:5d1720bb-4632-462e-81a0-399c2024ebdc\" xlink:type=\"simple\"><rect fill=\"#FFFFFF\" height=\"42.9375\" id=\"E4\" style=\"stroke: #383838; stroke-width: 1.5;\" width=\"75\" x=\"55.5\" y=\"256\"/><rect fill=\"#F8F8F8\" height=\"37.9375\" style=\"stroke: #383838; stroke-width: 1.5;\" width=\"75\" x=\"55.5\" y=\"256\"/><text fill=\"#000000\" font-family=\"sans-serif\" font-size=\"12\" font-style=\"italic\" lengthAdjust=\"spacingAndGlyphs\" textLength=\"68\" x=\"59\" y=\"272.1387\">«part  def»</text><text fill=\"#000000\" font-family=\"sans-serif\" font-size=\"12\" lengthAdjust=\"spacingAndGlyphs\" textLength=\"45\" x=\"70.5\" y=\"286.1074\">Vehicle</text></a></g><g id=\"E1.E5.E6\"><a href=\"psysml:68b35502-f69c-477b-bf3e-22d420c63407\" target=\"_top\" title=\"psysml:68b35502-f69c-477b-bf3e-22d420c63407\" xlink:actuate=\"onRequest\" xlink:href=\"psysml:68b35502-f69c-477b-bf3e-22d420c63407\" xlink:show=\"new\" xlink:title=\"psysml:68b35502-f69c-477b-bf3e-22d420c63407\" xlink:type=\"simple\"><rect fill=\"#FFFFFF\" height=\"40\" id=\"E6\" rx=\"10\" ry=\"10\" style=\"stroke: #383838; stroke-width: 1.5;\" width=\"107\" x=\"99.5\" y=\"100\"/><rect fill=\"#F8F8F8\" height=\"23.9688\" rx=\"10\" ry=\"10\" style=\"stroke: #F8F8F8; stroke-width: 1.5;\" width=\"107\" x=\"99.5\" y=\"100\"/><rect fill=\"#F8F8F8\" height=\"10\" style=\"stroke: #F8F8F8; stroke-width: 1.5;\" width=\"107\" x=\"99.5\" y=\"113.9688\"/><rect fill=\"none\" height=\"40\" id=\"E6\" rx=\"10\" ry=\"10\" style=\"stroke: #383838; stroke-width: 1.5;\" width=\"107\" x=\"99.5\" y=\"100\"/><text fill=\"#000000\" font-family=\"sans-serif\" font-size=\"12\" lengthAdjust=\"spacingAndGlyphs\" textLength=\"96\" x=\"105\" y=\"116.1387\">vehicle: Vehicle</text></a></g><!--MD5=[1c62de2aa5b76f0fb657ff8443a1a700]\n",
       "link E5 to E4--><a href=\"psysml:3bf1490e-93ee-46db-b7d3-74f4b2a23de7\" target=\"_top\" title=\"psysml:3bf1490e-93ee-46db-b7d3-74f4b2a23de7\" xlink:actuate=\"onRequest\" xlink:href=\"psysml:3bf1490e-93ee-46db-b7d3-74f4b2a23de7\" xlink:show=\"new\" xlink:title=\"psysml:3bf1490e-93ee-46db-b7d3-74f4b2a23de7\" xlink:type=\"simple\"><path d=\"M67.2559,164.3434 C67.2848,164.6227 67.314,164.9026 67.3433,165.183 C67.4021,165.7439 67.4617,166.3071 67.5224,166.8722 C67.6436,168.0025 67.7685,169.141 67.8973,170.2859 C68.1549,172.5759 68.4278,174.8919 68.7167,177.2213 C69.8725,186.5388 71.285,196.07 73,205 C75.97,220.45 80.65,237.41 84.74,250.94 \" fill=\"none\" id=\"E5-&gt;E4\" style=\"stroke: #383838; stroke-width: 1.0; stroke-dasharray: 7.0,7.0;\"/><polygon fill=\"#383838\" points=\"86.21,255.76,87.3802,245.9809,84.7366,250.982,79.7354,248.3384,86.21,255.76\" style=\"stroke: #383838; stroke-width: 1.0;\"/><text fill=\"#000000\" font-family=\"sans-serif\" font-size=\"13\" lengthAdjust=\"spacingAndGlyphs\" textLength=\"58\" x=\"74\" y=\"201.0669\">«import»</text></a><!--MD5=[f667431f98296947986a1a7595a31603]\n",
       "link E6 to E4--><a href=\"psysml:c8bdef6b-3f7a-4888-bf3f-9f853dc854f0\" target=\"_top\" title=\"psysml:c8bdef6b-3f7a-4888-bf3f-9f853dc854f0\" xlink:actuate=\"onRequest\" xlink:href=\"psysml:c8bdef6b-3f7a-4888-bf3f-9f853dc854f0\" xlink:show=\"new\" xlink:title=\"psysml:c8bdef6b-3f7a-4888-bf3f-9f853dc854f0\" xlink:type=\"simple\"><path d=\"M151.34,140.23 C149.38,157.62 145.27,183.68 137,205 C132.5,216.61 126.1,228.43 119.57,239.03 \" fill=\"none\" id=\"E6-&gt;E4\" style=\"stroke: #383838; stroke-width: 1.0;\"/><polygon fill=\"#FFFFFF\" points=\"108.43,255.98,113.0161,236.2577,124.7153,243.9472,108.43,255.98\" style=\"stroke: #383838; stroke-width: 1.0;\"/><ellipse cx=\"117.8182\" cy=\"232.593\" fill=\"#383838\" rx=\"2\" ry=\"2\" style=\"stroke: #383838; stroke-width: 1.0;\"/><ellipse cx=\"126.1747\" cy=\"238.0855\" fill=\"#383838\" rx=\"2\" ry=\"2\" style=\"stroke: #383838; stroke-width: 1.0;\"/></a><!--MD5=[80308cce19ba438cab5bb19ca8ce84b6]\n",
       "@startuml\r\n",
       "skinparam ranksep 10\r\n",
       "skinparam rectangle {\r\n",
       " backgroundColor<<block>> LightGreen\r\n",
       "}\r\n",
       " skinparam monochrome true\r\n",
       "skinparam classbackgroundcolor white\r\n",
       "skinparam shadowing false\r\n",
       "skinparam wrapWidth 300\r\n",
       "hide circle\r\n",
       "\r\n",
       "package \"AliasImport\" as E1  [[psysml:82c5726b-cb9a-46c4-b6fc-24bdfc4818ff ]]  {\r\n",
       "package \"Definitions\" as E2  [[psysml:b1455dfe-9c7f-45c5-9354-49cb3cd9f952 ]]  {\r\n",
       "rec def \"Vehicle\" as E3  <<(T,blue) part  def>> [[psysml:5d1720bb-4632-462e-81a0-399c2024ebdc ]] {\r\n",
       "}\r\n",
       "rec def \"Vehicle\" as E4  <<(T,blue) part  def>> [[psysml:5d1720bb-4632-462e-81a0-399c2024ebdc ]] {\r\n",
       "}\r\n",
       "}\r\n",
       "package \"Usages\" as E5  [[psysml:f72b5ed2-7d34-4b16-a5c4-267d5b8a9efb ]]  {\r\n",
       "rec usage \"vehicle: Vehicle\" as E6  [[psysml:68b35502-f69c-477b-bf3e-22d420c63407 ]] {\r\n",
       "}\r\n",
       "}\r\n",
       "}\r\n",
       "E5 ..> E4 [[psysml:3bf1490e-93ee-46db-b7d3-74f4b2a23de7 ]] : <<import>>\r\n",
       "E6 - -:|> E4 [[psysml:c8bdef6b-3f7a-4888-bf3f-9f853dc854f0 ]] \r\n",
       "@enduml\r\n",
       "\n",
       "PlantUML version 1.2020.13(Sat Jun 13 12:26:38 UTC 2020)\n",
       "(EPL source distribution)\n",
       "Java Runtime: OpenJDK Runtime Environment\n",
       "JVM: OpenJDK 64-Bit Server VM\n",
       "Default Encoding: UTF-8\n",
       "Language: en\n",
       "Country: null\n",
       "--></g></svg>"
      ]
     },
     "execution_count": 5,
     "metadata": {},
     "output_type": "execute_result"
    }
   ],
   "source": [
    "%viz --style=\"COMPTREE\" --view=\"Interconnection\" \"AliasImport\""
   ]
  },
  {
   "cell_type": "code",
   "execution_count": 6,
   "id": "05cdf619",
   "metadata": {
    "execution": {
     "iopub.execute_input": "2022-04-22T09:52:16.619171Z",
     "iopub.status.busy": "2022-04-22T09:52:16.618945Z",
     "iopub.status.idle": "2022-04-22T09:52:16.626140Z",
     "shell.execute_reply": "2022-04-22T09:52:16.626297Z"
    }
   },
   "outputs": [
    {
     "data": {
      "image/svg+xml": [
       "<?xml version=\"1.0\" encoding=\"UTF-8\" standalone=\"no\"?><svg xmlns=\"http://www.w3.org/2000/svg\" xmlns:xlink=\"http://www.w3.org/1999/xlink\" contentScriptType=\"application/ecmascript\" contentStyleType=\"text/css\" height=\"12px\" preserveAspectRatio=\"none\" style=\"width:12px;height:12px;\" version=\"1.1\" viewBox=\"0 0 12 12\" width=\"12px\" zoomAndPan=\"magnify\"><defs/><g><!--MD5=[655b888544ca4751ea36af1068543f84]\n",
       "@startuml\r\n",
       "skinparam ranksep 8\r\n",
       " skinparam monochrome true\r\n",
       "skinparam classbackgroundcolor white\r\n",
       "skinparam shadowing false\r\n",
       "skinparam wrapWidth 300\r\n",
       "hide circle\r\n",
       "\r\n",
       "@enduml\r\n",
       "\n",
       "PlantUML version 1.2020.13(Sat Jun 13 12:26:38 UTC 2020)\n",
       "(EPL source distribution)\n",
       "Java Runtime: OpenJDK Runtime Environment\n",
       "JVM: OpenJDK 64-Bit Server VM\n",
       "Default Encoding: UTF-8\n",
       "Language: en\n",
       "Country: null\n",
       "--></g></svg>"
      ]
     },
     "execution_count": 6,
     "metadata": {},
     "output_type": "execute_result"
    }
   ],
   "source": [
    "%viz --style=\"COMPTREE\" --view=\"Action\" \"AliasImport\""
   ]
  },
  {
   "cell_type": "code",
   "execution_count": 7,
   "id": "ee424565",
   "metadata": {
    "execution": {
     "iopub.execute_input": "2022-04-22T09:52:16.677477Z",
     "iopub.status.busy": "2022-04-22T09:52:16.677069Z",
     "iopub.status.idle": "2022-04-22T09:52:16.690043Z",
     "shell.execute_reply": "2022-04-22T09:52:16.690358Z"
    }
   },
   "outputs": [
    {
     "data": {
      "image/svg+xml": [
       "<?xml version=\"1.0\" encoding=\"UTF-8\" standalone=\"no\"?><svg xmlns=\"http://www.w3.org/2000/svg\" xmlns:xlink=\"http://www.w3.org/1999/xlink\" contentScriptType=\"application/ecmascript\" contentStyleType=\"text/css\" height=\"12px\" preserveAspectRatio=\"none\" style=\"width:12px;height:12px;\" version=\"1.1\" viewBox=\"0 0 12 12\" width=\"12px\" zoomAndPan=\"magnify\"><defs/><g><!--MD5=[803fc46c337be7a5c8a9831e35356779]\n",
       "@startuml\r\n",
       "skinparam roundcorner 20\r\n",
       "skinparam BoxPadding 20\r\n",
       "skinparam SequenceBoxBackgroundColor #white\r\n",
       "skinparam style strictuml\r\n",
       "skinparam maxMessageSize 100\r\n",
       " skinparam monochrome true\r\n",
       "skinparam classbackgroundcolor white\r\n",
       "skinparam shadowing false\r\n",
       "skinparam wrapWidth 300\r\n",
       "hide circle\r\n",
       "\r\n",
       "@enduml\r\n",
       "\n",
       "PlantUML version 1.2020.13(Sat Jun 13 12:26:38 UTC 2020)\n",
       "(EPL source distribution)\n",
       "Java Runtime: OpenJDK Runtime Environment\n",
       "JVM: OpenJDK 64-Bit Server VM\n",
       "Default Encoding: UTF-8\n",
       "Language: en\n",
       "Country: null\n",
       "--></g></svg>"
      ]
     },
     "execution_count": 7,
     "metadata": {},
     "output_type": "execute_result"
    }
   ],
   "source": [
    "%viz --style=\"COMPTREE\" --view=\"Sequence\" \"AliasImport\""
   ]
  },
  {
   "cell_type": "code",
   "execution_count": 8,
   "id": "f56a0d11",
   "metadata": {
    "execution": {
     "iopub.execute_input": "2022-04-22T09:52:16.740799Z",
     "iopub.status.busy": "2022-04-22T09:52:16.740387Z",
     "iopub.status.idle": "2022-04-22T09:52:16.781170Z",
     "shell.execute_reply": "2022-04-22T09:52:16.780805Z"
    }
   },
   "outputs": [
    {
     "data": {
      "image/svg+xml": [
       "<?xml version=\"1.0\" encoding=\"UTF-8\" standalone=\"no\"?><svg xmlns=\"http://www.w3.org/2000/svg\" xmlns:xlink=\"http://www.w3.org/1999/xlink\" contentScriptType=\"application/ecmascript\" contentStyleType=\"text/css\" height=\"360px\" preserveAspectRatio=\"none\" style=\"width:275px;height:360px;\" version=\"1.1\" viewBox=\"0 0 275 360\" width=\"275px\" zoomAndPan=\"magnify\"><defs/><g><!--MD5=[fbc87193dbaf4d95561dea2c320d4a47]\n",
       "cluster E1--><a href=\"psysml:82c5726b-cb9a-46c4-b6fc-24bdfc4818ff\" target=\"_top\" title=\"psysml:82c5726b-cb9a-46c4-b6fc-24bdfc4818ff\" xlink:actuate=\"onRequest\" xlink:href=\"psysml:82c5726b-cb9a-46c4-b6fc-24bdfc4818ff\" xlink:show=\"new\" xlink:title=\"psysml:82c5726b-cb9a-46c4-b6fc-24bdfc4818ff\" xlink:type=\"simple\"><polygon fill=\"#FFFFFF\" points=\"16,6,97,6,104,28.2969,253,28.2969,253,348,16,348,16,6\" style=\"stroke: #000000; stroke-width: 1.5;\"/><line style=\"stroke: #000000; stroke-width: 1.5;\" x1=\"16\" x2=\"104\" y1=\"28.2969\" y2=\"28.2969\"/><text fill=\"#000000\" font-family=\"sans-serif\" font-size=\"14\" font-weight=\"bold\" lengthAdjust=\"spacingAndGlyphs\" textLength=\"75\" x=\"20\" y=\"20.9951\">AliasImport</text></a><!--MD5=[e4f7fae6ed58524ba242bb0b0d3be6b7]\n",
       "cluster E2--><a href=\"psysml:b1455dfe-9c7f-45c5-9354-49cb3cd9f952\" target=\"_top\" title=\"psysml:b1455dfe-9c7f-45c5-9354-49cb3cd9f952\" xlink:actuate=\"onRequest\" xlink:href=\"psysml:b1455dfe-9c7f-45c5-9354-49cb3cd9f952\" xlink:show=\"new\" xlink:title=\"psysml:b1455dfe-9c7f-45c5-9354-49cb3cd9f952\" xlink:type=\"simple\"><polygon fill=\"#FFFFFF\" points=\"65,227,144,227,151,249.2969,167,249.2969,167,324,65,324,65,227\" style=\"stroke: #000000; stroke-width: 1.5;\"/><line style=\"stroke: #000000; stroke-width: 1.5;\" x1=\"65\" x2=\"151\" y1=\"249.2969\" y2=\"249.2969\"/><text fill=\"#000000\" font-family=\"sans-serif\" font-size=\"14\" font-weight=\"bold\" lengthAdjust=\"spacingAndGlyphs\" textLength=\"73\" x=\"69\" y=\"241.9951\">Definitions</text></a><!--MD5=[f6df4d0ebaf0b5dfb2ced0ae5af7c670]\n",
       "cluster E4--><a href=\"psysml:f72b5ed2-7d34-4b16-a5c4-267d5b8a9efb\" target=\"_top\" title=\"psysml:f72b5ed2-7d34-4b16-a5c4-267d5b8a9efb\" xlink:actuate=\"onRequest\" xlink:href=\"psysml:f72b5ed2-7d34-4b16-a5c4-267d5b8a9efb\" xlink:show=\"new\" xlink:title=\"psysml:f72b5ed2-7d34-4b16-a5c4-267d5b8a9efb\" xlink:type=\"simple\"><polygon fill=\"#FFFFFF\" points=\"48,57,106,57,113,79.2969,221,79.2969,221,170,48,170,48,57\" style=\"stroke: #000000; stroke-width: 1.5;\"/><line style=\"stroke: #000000; stroke-width: 1.5;\" x1=\"48\" x2=\"113\" y1=\"79.2969\" y2=\"79.2969\"/><text fill=\"#000000\" font-family=\"sans-serif\" font-size=\"14\" font-weight=\"bold\" lengthAdjust=\"spacingAndGlyphs\" textLength=\"52\" x=\"52\" y=\"71.9951\">Usages</text></a><!--MD5=[09b614a08d8cba4a07c9adeb5e0fee81]\n",
       "class E3--><a href=\"psysml:5d1720bb-4632-462e-81a0-399c2024ebdc\" target=\"_top\" title=\"psysml:5d1720bb-4632-462e-81a0-399c2024ebdc\" xlink:actuate=\"onRequest\" xlink:href=\"psysml:5d1720bb-4632-462e-81a0-399c2024ebdc\" xlink:show=\"new\" xlink:title=\"psysml:5d1720bb-4632-462e-81a0-399c2024ebdc\" xlink:type=\"simple\"><rect fill=\"#FFFFFF\" height=\"45.9375\" id=\"E3\" style=\"stroke: #383838; stroke-width: 1.5;\" width=\"70\" x=\"81\" y=\"262\"/><text fill=\"#000000\" font-family=\"sans-serif\" font-size=\"12\" font-style=\"italic\" lengthAdjust=\"spacingAndGlyphs\" textLength=\"68\" x=\"82\" y=\"278.1387\">«part  def»</text><text fill=\"#000000\" font-family=\"sans-serif\" font-size=\"12\" lengthAdjust=\"spacingAndGlyphs\" textLength=\"45\" x=\"93.5\" y=\"292.1074\">Vehicle</text><line style=\"stroke: #383838; stroke-width: 1.5;\" x1=\"82\" x2=\"150\" y1=\"299.9375\" y2=\"299.9375\"/></a><!--MD5=[270fce915f116d4de14055a7c1d9a0f3]\n",
       "class E5--><a href=\"psysml:68b35502-f69c-477b-bf3e-22d420c63407\" target=\"_top\" title=\"psysml:68b35502-f69c-477b-bf3e-22d420c63407\" xlink:actuate=\"onRequest\" xlink:href=\"psysml:68b35502-f69c-477b-bf3e-22d420c63407\" xlink:show=\"new\" xlink:title=\"psysml:68b35502-f69c-477b-bf3e-22d420c63407\" xlink:type=\"simple\"><rect fill=\"#FFFFFF\" height=\"45.9375\" id=\"E5\" rx=\"10\" ry=\"10\" style=\"stroke: #383838; stroke-width: 1.5;\" width=\"106\" x=\"91\" y=\"100\"/><text fill=\"#000000\" font-family=\"sans-serif\" font-size=\"12\" font-style=\"italic\" lengthAdjust=\"spacingAndGlyphs\" textLength=\"40\" x=\"124\" y=\"116.1387\">«part»</text><text fill=\"#000000\" font-family=\"sans-serif\" font-size=\"12\" lengthAdjust=\"spacingAndGlyphs\" textLength=\"96\" x=\"94\" y=\"130.1074\">vehicle: Vehicle</text><line style=\"stroke: #383838; stroke-width: 1.5;\" x1=\"92\" x2=\"196\" y1=\"137.9375\" y2=\"137.9375\"/></a><!--MD5=[f0cdf4548168e5211fb3a02bf679d63a]\n",
       "link E4 to E3--><a href=\"psysml:3bf1490e-93ee-46db-b7d3-74f4b2a23de7\" target=\"_top\" title=\"psysml:3bf1490e-93ee-46db-b7d3-74f4b2a23de7\" xlink:actuate=\"onRequest\" xlink:href=\"psysml:3bf1490e-93ee-46db-b7d3-74f4b2a23de7\" xlink:show=\"new\" xlink:title=\"psysml:3bf1490e-93ee-46db-b7d3-74f4b2a23de7\" xlink:type=\"simple\"><path d=\"M58.5005,170.0549 C58.5193,170.2001 58.5383,170.3454 58.5574,170.4908 C58.6338,171.0725 58.7124,171.6562 58.7932,172.2415 C58.9548,173.4122 59.1253,174.5898 59.3052,175.7725 C59.6651,178.1379 60.0625,180.5238 60.5014,182.9158 C62.2569,192.4838 64.675,202.15 68,211 C74.23,227.58 84.77,244.23 94.38,257.43 \" fill=\"none\" id=\"E4-&gt;E3\" style=\"stroke: #383838; stroke-width: 1.0; stroke-dasharray: 7.0,7.0;\"/><polygon fill=\"#383838\" points=\"97.6,261.77,95.4384,252.1613,94.616,257.758,89.0193,256.9357,97.6,261.77\" style=\"stroke: #383838; stroke-width: 1.0;\"/><text fill=\"#000000\" font-family=\"sans-serif\" font-size=\"13\" lengthAdjust=\"spacingAndGlyphs\" textLength=\"58\" x=\"69\" y=\"207.0669\">«import»</text></a><!--MD5=[e9be52314489bd878ff4c7144b63c9e1]\n",
       "link E5 to E3--><a href=\"psysml:c8bdef6b-3f7a-4888-bf3f-9f853dc854f0\" target=\"_top\" title=\"psysml:c8bdef6b-3f7a-4888-bf3f-9f853dc854f0\" xlink:actuate=\"onRequest\" xlink:href=\"psysml:c8bdef6b-3f7a-4888-bf3f-9f853dc854f0\" xlink:show=\"new\" xlink:title=\"psysml:c8bdef6b-3f7a-4888-bf3f-9f853dc854f0\" xlink:type=\"simple\"><path d=\"M143.03,146.32 C142,163.98 139.95,189.21 136,211 C134.13,221.29 131.49,232.23 128.74,242.43 \" fill=\"none\" id=\"E5-&gt;E3\" style=\"stroke: #383838; stroke-width: 1.0;\"/><polygon fill=\"#FFFFFF\" points=\"123.15,261.87,121.6727,241.6755,135.1276,245.544,123.15,261.87\" style=\"stroke: #383838; stroke-width: 1.0;\"/><ellipse cx=\"125.1699\" cy=\"236.7501\" fill=\"#383838\" rx=\"2\" ry=\"2\" style=\"stroke: #383838; stroke-width: 1.0;\"/><ellipse cx=\"134.7805\" cy=\"239.5133\" fill=\"#383838\" rx=\"2\" ry=\"2\" style=\"stroke: #383838; stroke-width: 1.0;\"/></a><!--MD5=[805cfb12905f945f130a7d719aa2cd95]\n",
       "@startuml\r\n",
       " skinparam monochrome true\r\n",
       "skinparam classbackgroundcolor white\r\n",
       "skinparam shadowing false\r\n",
       "skinparam wrapWidth 300\r\n",
       "hide circle\r\n",
       "\r\n",
       "package \"AliasImport\" as E1  [[psysml:82c5726b-cb9a-46c4-b6fc-24bdfc4818ff ]]  {\r\n",
       "package \"Definitions\" as E2  [[psysml:b1455dfe-9c7f-45c5-9354-49cb3cd9f952 ]]  {\r\n",
       "comp def \"Vehicle\" as E3  <<(T,blue) part  def>> [[psysml:5d1720bb-4632-462e-81a0-399c2024ebdc ]] {\r\n",
       "}\r\n",
       "}\r\n",
       "package \"Usages\" as E4  [[psysml:f72b5ed2-7d34-4b16-a5c4-267d5b8a9efb ]]  {\r\n",
       "comp usage \"vehicle: Vehicle \" as E5  <<(T,blue) part>> [[psysml:68b35502-f69c-477b-bf3e-22d420c63407 ]] {\r\n",
       "}\r\n",
       "}\r\n",
       "}\r\n",
       "E4 ..> E3 [[psysml:3bf1490e-93ee-46db-b7d3-74f4b2a23de7 ]] : <<import>>\r\n",
       "E5 - -:|> E3 [[psysml:c8bdef6b-3f7a-4888-bf3f-9f853dc854f0 ]] \r\n",
       "@enduml\r\n",
       "\n",
       "PlantUML version 1.2020.13(Sat Jun 13 12:26:38 UTC 2020)\n",
       "(EPL source distribution)\n",
       "Java Runtime: OpenJDK Runtime Environment\n",
       "JVM: OpenJDK 64-Bit Server VM\n",
       "Default Encoding: UTF-8\n",
       "Language: en\n",
       "Country: null\n",
       "--></g></svg>"
      ]
     },
     "execution_count": 8,
     "metadata": {},
     "output_type": "execute_result"
    }
   ],
   "source": [
    "%viz --style=\"COMPTREE\" --view=\"MIXED\" \"AliasImport\""
   ]
  },
  {
   "cell_type": "code",
   "execution_count": 9,
   "id": "3445e329",
   "metadata": {
    "execution": {
     "iopub.execute_input": "2022-04-22T09:52:16.831107Z",
     "iopub.status.busy": "2022-04-22T09:52:16.830701Z",
     "iopub.status.idle": "2022-04-22T09:52:16.872112Z",
     "shell.execute_reply": "2022-04-22T09:52:16.871753Z"
    }
   },
   "outputs": [
    {
     "data": {
      "image/svg+xml": [
       "<?xml version=\"1.0\" encoding=\"UTF-8\" standalone=\"no\"?><svg xmlns=\"http://www.w3.org/2000/svg\" xmlns:xlink=\"http://www.w3.org/1999/xlink\" contentScriptType=\"application/ecmascript\" contentStyleType=\"text/css\" height=\"360px\" preserveAspectRatio=\"none\" style=\"width:275px;height:360px;\" version=\"1.1\" viewBox=\"0 0 275 360\" width=\"275px\" zoomAndPan=\"magnify\"><defs/><g><!--MD5=[fbc87193dbaf4d95561dea2c320d4a47]\n",
       "cluster E1--><a href=\"psysml:82c5726b-cb9a-46c4-b6fc-24bdfc4818ff\" target=\"_top\" title=\"psysml:82c5726b-cb9a-46c4-b6fc-24bdfc4818ff\" xlink:actuate=\"onRequest\" xlink:href=\"psysml:82c5726b-cb9a-46c4-b6fc-24bdfc4818ff\" xlink:show=\"new\" xlink:title=\"psysml:82c5726b-cb9a-46c4-b6fc-24bdfc4818ff\" xlink:type=\"simple\"><polygon fill=\"#FFFFFF\" points=\"16,6,97,6,104,28.2969,253,28.2969,253,348,16,348,16,6\" style=\"stroke: #000000; stroke-width: 1.5;\"/><line style=\"stroke: #000000; stroke-width: 1.5;\" x1=\"16\" x2=\"104\" y1=\"28.2969\" y2=\"28.2969\"/><text fill=\"#000000\" font-family=\"sans-serif\" font-size=\"14\" font-weight=\"bold\" lengthAdjust=\"spacingAndGlyphs\" textLength=\"75\" x=\"20\" y=\"20.9951\">AliasImport</text></a><!--MD5=[e4f7fae6ed58524ba242bb0b0d3be6b7]\n",
       "cluster E2--><a href=\"psysml:b1455dfe-9c7f-45c5-9354-49cb3cd9f952\" target=\"_top\" title=\"psysml:b1455dfe-9c7f-45c5-9354-49cb3cd9f952\" xlink:actuate=\"onRequest\" xlink:href=\"psysml:b1455dfe-9c7f-45c5-9354-49cb3cd9f952\" xlink:show=\"new\" xlink:title=\"psysml:b1455dfe-9c7f-45c5-9354-49cb3cd9f952\" xlink:type=\"simple\"><polygon fill=\"#FFFFFF\" points=\"65,227,144,227,151,249.2969,167,249.2969,167,324,65,324,65,227\" style=\"stroke: #000000; stroke-width: 1.5;\"/><line style=\"stroke: #000000; stroke-width: 1.5;\" x1=\"65\" x2=\"151\" y1=\"249.2969\" y2=\"249.2969\"/><text fill=\"#000000\" font-family=\"sans-serif\" font-size=\"14\" font-weight=\"bold\" lengthAdjust=\"spacingAndGlyphs\" textLength=\"73\" x=\"69\" y=\"241.9951\">Definitions</text></a><!--MD5=[f6df4d0ebaf0b5dfb2ced0ae5af7c670]\n",
       "cluster E4--><a href=\"psysml:f72b5ed2-7d34-4b16-a5c4-267d5b8a9efb\" target=\"_top\" title=\"psysml:f72b5ed2-7d34-4b16-a5c4-267d5b8a9efb\" xlink:actuate=\"onRequest\" xlink:href=\"psysml:f72b5ed2-7d34-4b16-a5c4-267d5b8a9efb\" xlink:show=\"new\" xlink:title=\"psysml:f72b5ed2-7d34-4b16-a5c4-267d5b8a9efb\" xlink:type=\"simple\"><polygon fill=\"#FFFFFF\" points=\"48,57,106,57,113,79.2969,221,79.2969,221,170,48,170,48,57\" style=\"stroke: #000000; stroke-width: 1.5;\"/><line style=\"stroke: #000000; stroke-width: 1.5;\" x1=\"48\" x2=\"113\" y1=\"79.2969\" y2=\"79.2969\"/><text fill=\"#000000\" font-family=\"sans-serif\" font-size=\"14\" font-weight=\"bold\" lengthAdjust=\"spacingAndGlyphs\" textLength=\"52\" x=\"52\" y=\"71.9951\">Usages</text></a><!--MD5=[09b614a08d8cba4a07c9adeb5e0fee81]\n",
       "class E3--><a href=\"psysml:5d1720bb-4632-462e-81a0-399c2024ebdc\" target=\"_top\" title=\"psysml:5d1720bb-4632-462e-81a0-399c2024ebdc\" xlink:actuate=\"onRequest\" xlink:href=\"psysml:5d1720bb-4632-462e-81a0-399c2024ebdc\" xlink:show=\"new\" xlink:title=\"psysml:5d1720bb-4632-462e-81a0-399c2024ebdc\" xlink:type=\"simple\"><rect fill=\"#FFFFFF\" height=\"45.9375\" id=\"E3\" style=\"stroke: #383838; stroke-width: 1.5;\" width=\"70\" x=\"81\" y=\"262\"/><text fill=\"#000000\" font-family=\"sans-serif\" font-size=\"12\" font-style=\"italic\" lengthAdjust=\"spacingAndGlyphs\" textLength=\"68\" x=\"82\" y=\"278.1387\">«part  def»</text><text fill=\"#000000\" font-family=\"sans-serif\" font-size=\"12\" lengthAdjust=\"spacingAndGlyphs\" textLength=\"45\" x=\"93.5\" y=\"292.1074\">Vehicle</text><line style=\"stroke: #383838; stroke-width: 1.5;\" x1=\"82\" x2=\"150\" y1=\"299.9375\" y2=\"299.9375\"/></a><!--MD5=[270fce915f116d4de14055a7c1d9a0f3]\n",
       "class E5--><a href=\"psysml:68b35502-f69c-477b-bf3e-22d420c63407\" target=\"_top\" title=\"psysml:68b35502-f69c-477b-bf3e-22d420c63407\" xlink:actuate=\"onRequest\" xlink:href=\"psysml:68b35502-f69c-477b-bf3e-22d420c63407\" xlink:show=\"new\" xlink:title=\"psysml:68b35502-f69c-477b-bf3e-22d420c63407\" xlink:type=\"simple\"><rect fill=\"#FFFFFF\" height=\"45.9375\" id=\"E5\" rx=\"10\" ry=\"10\" style=\"stroke: #383838; stroke-width: 1.5;\" width=\"106\" x=\"91\" y=\"100\"/><text fill=\"#000000\" font-family=\"sans-serif\" font-size=\"12\" font-style=\"italic\" lengthAdjust=\"spacingAndGlyphs\" textLength=\"40\" x=\"124\" y=\"116.1387\">«part»</text><text fill=\"#000000\" font-family=\"sans-serif\" font-size=\"12\" lengthAdjust=\"spacingAndGlyphs\" textLength=\"96\" x=\"94\" y=\"130.1074\">vehicle: Vehicle</text><line style=\"stroke: #383838; stroke-width: 1.5;\" x1=\"92\" x2=\"196\" y1=\"137.9375\" y2=\"137.9375\"/></a><!--MD5=[f0cdf4548168e5211fb3a02bf679d63a]\n",
       "link E4 to E3--><a href=\"psysml:3bf1490e-93ee-46db-b7d3-74f4b2a23de7\" target=\"_top\" title=\"psysml:3bf1490e-93ee-46db-b7d3-74f4b2a23de7\" xlink:actuate=\"onRequest\" xlink:href=\"psysml:3bf1490e-93ee-46db-b7d3-74f4b2a23de7\" xlink:show=\"new\" xlink:title=\"psysml:3bf1490e-93ee-46db-b7d3-74f4b2a23de7\" xlink:type=\"simple\"><path d=\"M62.3475,170.0242 C62.3705,170.1912 62.3936,170.3582 62.4166,170.5251 C62.5087,171.1927 62.6006,171.8594 62.6924,172.5245 C62.8758,173.8547 63.0585,175.1785 63.2395,176.4909 C63.6016,179.1157 63.9573,181.6948 64.3012,184.1877 C64.989,189.1736 65.6292,193.8147 66.1772,197.7869 C67.2731,205.7313 68,211 68,211 C68,211 84.75,236.48 98.47,257.33 \" fill=\"none\" id=\"E4-&gt;E3\" style=\"stroke: #383838; stroke-width: 1.0; stroke-dasharray: 7.0,7.0;\"/><polygon fill=\"#383838\" points=\"101.34,261.7,99.7376,251.9824,98.593,257.5222,93.0531,256.3776,101.34,261.7\" style=\"stroke: #383838; stroke-width: 1.0;\"/><text fill=\"#000000\" font-family=\"sans-serif\" font-size=\"13\" lengthAdjust=\"spacingAndGlyphs\" textLength=\"58\" x=\"69\" y=\"207.0669\">«import»</text></a><!--MD5=[e9be52314489bd878ff4c7144b63c9e1]\n",
       "link E5 to E3--><a href=\"psysml:c8bdef6b-3f7a-4888-bf3f-9f853dc854f0\" target=\"_top\" title=\"psysml:c8bdef6b-3f7a-4888-bf3f-9f853dc854f0\" xlink:actuate=\"onRequest\" xlink:href=\"psysml:c8bdef6b-3f7a-4888-bf3f-9f853dc854f0\" xlink:show=\"new\" xlink:title=\"psysml:c8bdef6b-3f7a-4888-bf3f-9f853dc854f0\" xlink:type=\"simple\"><path d=\"M141.94,146.4 C139.57,172.18 136,211 136,211 C136,211 131.91,225.94 127.42,242.3 \" fill=\"none\" id=\"E5-&gt;E3\" style=\"stroke: #383838; stroke-width: 1.0;\"/><polygon fill=\"#FFFFFF\" points=\"122.11,261.7,120.3774,241.5258,133.8801,245.2238,122.11,261.7\" style=\"stroke: #383838; stroke-width: 1.0;\"/><ellipse cx=\"123.8119\" cy=\"236.5565\" fill=\"#383838\" rx=\"2\" ry=\"2\" style=\"stroke: #383838; stroke-width: 1.0;\"/><ellipse cx=\"133.4568\" cy=\"239.198\" fill=\"#383838\" rx=\"2\" ry=\"2\" style=\"stroke: #383838; stroke-width: 1.0;\"/></a><!--MD5=[35e35bb958257707e1604de8027b1381]\n",
       "@startuml\r\n",
       "skinparam linetype polyline\r\n",
       "skinparam monochrome true\r\n",
       "skinparam classbackgroundcolor white\r\n",
       "skinparam shadowing false\r\n",
       "skinparam wrapWidth 300\r\n",
       "hide circle\r\n",
       "\r\n",
       "package \"AliasImport\" as E1  [[psysml:82c5726b-cb9a-46c4-b6fc-24bdfc4818ff ]]  {\r\n",
       "package \"Definitions\" as E2  [[psysml:b1455dfe-9c7f-45c5-9354-49cb3cd9f952 ]]  {\r\n",
       "comp def \"Vehicle\" as E3  <<(T,blue) part  def>> [[psysml:5d1720bb-4632-462e-81a0-399c2024ebdc ]] {\r\n",
       "}\r\n",
       "}\r\n",
       "package \"Usages\" as E4  [[psysml:f72b5ed2-7d34-4b16-a5c4-267d5b8a9efb ]]  {\r\n",
       "comp usage \"vehicle: Vehicle \" as E5  <<(T,blue) part>> [[psysml:68b35502-f69c-477b-bf3e-22d420c63407 ]] {\r\n",
       "}\r\n",
       "}\r\n",
       "}\r\n",
       "E4 ..> E3 [[psysml:3bf1490e-93ee-46db-b7d3-74f4b2a23de7 ]] : <<import>>\r\n",
       "E5 - -:|> E3 [[psysml:c8bdef6b-3f7a-4888-bf3f-9f853dc854f0 ]] \r\n",
       "@enduml\r\n",
       "\n",
       "PlantUML version 1.2020.13(Sat Jun 13 12:26:38 UTC 2020)\n",
       "(EPL source distribution)\n",
       "Java Runtime: OpenJDK Runtime Environment\n",
       "JVM: OpenJDK 64-Bit Server VM\n",
       "Default Encoding: UTF-8\n",
       "Language: en\n",
       "Country: null\n",
       "--></g></svg>"
      ]
     },
     "execution_count": 9,
     "metadata": {},
     "output_type": "execute_result"
    }
   ],
   "source": [
    "%viz --style=\"POLYLINE\" --view=\"Default\" \"AliasImport\""
   ]
  },
  {
   "cell_type": "code",
   "execution_count": 10,
   "id": "bce0f31d",
   "metadata": {
    "execution": {
     "iopub.execute_input": "2022-04-22T09:52:16.922242Z",
     "iopub.status.busy": "2022-04-22T09:52:16.921841Z",
     "iopub.status.idle": "2022-04-22T09:52:16.961221Z",
     "shell.execute_reply": "2022-04-22T09:52:16.959981Z"
    }
   },
   "outputs": [
    {
     "data": {
      "image/svg+xml": [
       "<?xml version=\"1.0\" encoding=\"UTF-8\" standalone=\"no\"?><svg xmlns=\"http://www.w3.org/2000/svg\" xmlns:xlink=\"http://www.w3.org/1999/xlink\" contentScriptType=\"application/ecmascript\" contentStyleType=\"text/css\" height=\"360px\" preserveAspectRatio=\"none\" style=\"width:275px;height:360px;\" version=\"1.1\" viewBox=\"0 0 275 360\" width=\"275px\" zoomAndPan=\"magnify\"><defs/><g><!--MD5=[fbc87193dbaf4d95561dea2c320d4a47]\n",
       "cluster E1--><a href=\"psysml:82c5726b-cb9a-46c4-b6fc-24bdfc4818ff\" target=\"_top\" title=\"psysml:82c5726b-cb9a-46c4-b6fc-24bdfc4818ff\" xlink:actuate=\"onRequest\" xlink:href=\"psysml:82c5726b-cb9a-46c4-b6fc-24bdfc4818ff\" xlink:show=\"new\" xlink:title=\"psysml:82c5726b-cb9a-46c4-b6fc-24bdfc4818ff\" xlink:type=\"simple\"><polygon fill=\"#FFFFFF\" points=\"16,6,97,6,104,28.2969,253,28.2969,253,348,16,348,16,6\" style=\"stroke: #000000; stroke-width: 1.5;\"/><line style=\"stroke: #000000; stroke-width: 1.5;\" x1=\"16\" x2=\"104\" y1=\"28.2969\" y2=\"28.2969\"/><text fill=\"#000000\" font-family=\"sans-serif\" font-size=\"14\" font-weight=\"bold\" lengthAdjust=\"spacingAndGlyphs\" textLength=\"75\" x=\"20\" y=\"20.9951\">AliasImport</text></a><!--MD5=[e4f7fae6ed58524ba242bb0b0d3be6b7]\n",
       "cluster E2--><a href=\"psysml:b1455dfe-9c7f-45c5-9354-49cb3cd9f952\" target=\"_top\" title=\"psysml:b1455dfe-9c7f-45c5-9354-49cb3cd9f952\" xlink:actuate=\"onRequest\" xlink:href=\"psysml:b1455dfe-9c7f-45c5-9354-49cb3cd9f952\" xlink:show=\"new\" xlink:title=\"psysml:b1455dfe-9c7f-45c5-9354-49cb3cd9f952\" xlink:type=\"simple\"><polygon fill=\"#FFFFFF\" points=\"65,227,144,227,151,249.2969,167,249.2969,167,324,65,324,65,227\" style=\"stroke: #000000; stroke-width: 1.5;\"/><line style=\"stroke: #000000; stroke-width: 1.5;\" x1=\"65\" x2=\"151\" y1=\"249.2969\" y2=\"249.2969\"/><text fill=\"#000000\" font-family=\"sans-serif\" font-size=\"14\" font-weight=\"bold\" lengthAdjust=\"spacingAndGlyphs\" textLength=\"73\" x=\"69\" y=\"241.9951\">Definitions</text></a><!--MD5=[f6df4d0ebaf0b5dfb2ced0ae5af7c670]\n",
       "cluster E4--><a href=\"psysml:f72b5ed2-7d34-4b16-a5c4-267d5b8a9efb\" target=\"_top\" title=\"psysml:f72b5ed2-7d34-4b16-a5c4-267d5b8a9efb\" xlink:actuate=\"onRequest\" xlink:href=\"psysml:f72b5ed2-7d34-4b16-a5c4-267d5b8a9efb\" xlink:show=\"new\" xlink:title=\"psysml:f72b5ed2-7d34-4b16-a5c4-267d5b8a9efb\" xlink:type=\"simple\"><polygon fill=\"#FFFFFF\" points=\"48,57,106,57,113,79.2969,221,79.2969,221,170,48,170,48,57\" style=\"stroke: #000000; stroke-width: 1.5;\"/><line style=\"stroke: #000000; stroke-width: 1.5;\" x1=\"48\" x2=\"113\" y1=\"79.2969\" y2=\"79.2969\"/><text fill=\"#000000\" font-family=\"sans-serif\" font-size=\"14\" font-weight=\"bold\" lengthAdjust=\"spacingAndGlyphs\" textLength=\"52\" x=\"52\" y=\"71.9951\">Usages</text></a><!--MD5=[09b614a08d8cba4a07c9adeb5e0fee81]\n",
       "class E3--><a href=\"psysml:5d1720bb-4632-462e-81a0-399c2024ebdc\" target=\"_top\" title=\"psysml:5d1720bb-4632-462e-81a0-399c2024ebdc\" xlink:actuate=\"onRequest\" xlink:href=\"psysml:5d1720bb-4632-462e-81a0-399c2024ebdc\" xlink:show=\"new\" xlink:title=\"psysml:5d1720bb-4632-462e-81a0-399c2024ebdc\" xlink:type=\"simple\"><rect fill=\"#FFFFFF\" height=\"45.9375\" id=\"E3\" style=\"stroke: #383838; stroke-width: 1.5;\" width=\"70\" x=\"81\" y=\"262\"/><text fill=\"#000000\" font-family=\"sans-serif\" font-size=\"12\" font-style=\"italic\" lengthAdjust=\"spacingAndGlyphs\" textLength=\"68\" x=\"82\" y=\"278.1387\">«part  def»</text><text fill=\"#000000\" font-family=\"sans-serif\" font-size=\"12\" lengthAdjust=\"spacingAndGlyphs\" textLength=\"45\" x=\"93.5\" y=\"292.1074\">Vehicle</text><line style=\"stroke: #383838; stroke-width: 1.5;\" x1=\"82\" x2=\"150\" y1=\"299.9375\" y2=\"299.9375\"/></a><!--MD5=[270fce915f116d4de14055a7c1d9a0f3]\n",
       "class E5--><a href=\"psysml:68b35502-f69c-477b-bf3e-22d420c63407\" target=\"_top\" title=\"psysml:68b35502-f69c-477b-bf3e-22d420c63407\" xlink:actuate=\"onRequest\" xlink:href=\"psysml:68b35502-f69c-477b-bf3e-22d420c63407\" xlink:show=\"new\" xlink:title=\"psysml:68b35502-f69c-477b-bf3e-22d420c63407\" xlink:type=\"simple\"><rect fill=\"#FFFFFF\" height=\"45.9375\" id=\"E5\" rx=\"10\" ry=\"10\" style=\"stroke: #383838; stroke-width: 1.5;\" width=\"106\" x=\"91\" y=\"100\"/><text fill=\"#000000\" font-family=\"sans-serif\" font-size=\"12\" font-style=\"italic\" lengthAdjust=\"spacingAndGlyphs\" textLength=\"40\" x=\"124\" y=\"116.1387\">«part»</text><text fill=\"#000000\" font-family=\"sans-serif\" font-size=\"12\" lengthAdjust=\"spacingAndGlyphs\" textLength=\"96\" x=\"94\" y=\"130.1074\">vehicle: Vehicle</text><line style=\"stroke: #383838; stroke-width: 1.5;\" x1=\"92\" x2=\"196\" y1=\"137.9375\" y2=\"137.9375\"/></a><!--MD5=[f0cdf4548168e5211fb3a02bf679d63a]\n",
       "link E4 to E3--><a href=\"psysml:3bf1490e-93ee-46db-b7d3-74f4b2a23de7\" target=\"_top\" title=\"psysml:3bf1490e-93ee-46db-b7d3-74f4b2a23de7\" xlink:actuate=\"onRequest\" xlink:href=\"psysml:3bf1490e-93ee-46db-b7d3-74f4b2a23de7\" xlink:show=\"new\" xlink:title=\"psysml:3bf1490e-93ee-46db-b7d3-74f4b2a23de7\" xlink:type=\"simple\"><path d=\"M62.3475,170.0242 C62.3705,170.1912 62.3936,170.3582 62.4166,170.5251 C62.5087,171.1927 62.6006,171.8594 62.6924,172.5245 C62.8758,173.8547 63.0585,175.1785 63.2395,176.4909 C63.6016,179.1157 63.9573,181.6948 64.3012,184.1877 C64.989,189.1736 65.6292,193.8147 66.1772,197.7869 C67.2731,205.7313 68,211 68,211 C68,211 84.75,236.48 98.47,257.33 \" fill=\"none\" id=\"E4-&gt;E3\" style=\"stroke: #383838; stroke-width: 1.0; stroke-dasharray: 7.0,7.0;\"/><polygon fill=\"#383838\" points=\"101.34,261.7,99.7376,251.9824,98.593,257.5222,93.0531,256.3776,101.34,261.7\" style=\"stroke: #383838; stroke-width: 1.0;\"/><text fill=\"#000000\" font-family=\"sans-serif\" font-size=\"13\" lengthAdjust=\"spacingAndGlyphs\" textLength=\"58\" x=\"69\" y=\"207.0669\">«import»</text></a><!--MD5=[e9be52314489bd878ff4c7144b63c9e1]\n",
       "link E5 to E3--><a href=\"psysml:c8bdef6b-3f7a-4888-bf3f-9f853dc854f0\" target=\"_top\" title=\"psysml:c8bdef6b-3f7a-4888-bf3f-9f853dc854f0\" xlink:actuate=\"onRequest\" xlink:href=\"psysml:c8bdef6b-3f7a-4888-bf3f-9f853dc854f0\" xlink:show=\"new\" xlink:title=\"psysml:c8bdef6b-3f7a-4888-bf3f-9f853dc854f0\" xlink:type=\"simple\"><path d=\"M141.94,146.4 C139.57,172.18 136,211 136,211 C136,211 131.91,225.94 127.42,242.3 \" fill=\"none\" id=\"E5-&gt;E3\" style=\"stroke: #383838; stroke-width: 1.0;\"/><polygon fill=\"#FFFFFF\" points=\"122.11,261.7,120.3774,241.5258,133.8801,245.2238,122.11,261.7\" style=\"stroke: #383838; stroke-width: 1.0;\"/><ellipse cx=\"123.8119\" cy=\"236.5565\" fill=\"#383838\" rx=\"2\" ry=\"2\" style=\"stroke: #383838; stroke-width: 1.0;\"/><ellipse cx=\"133.4568\" cy=\"239.198\" fill=\"#383838\" rx=\"2\" ry=\"2\" style=\"stroke: #383838; stroke-width: 1.0;\"/></a><!--MD5=[35e35bb958257707e1604de8027b1381]\n",
       "@startuml\r\n",
       "skinparam linetype polyline\r\n",
       "skinparam monochrome true\r\n",
       "skinparam classbackgroundcolor white\r\n",
       "skinparam shadowing false\r\n",
       "skinparam wrapWidth 300\r\n",
       "hide circle\r\n",
       "\r\n",
       "package \"AliasImport\" as E1  [[psysml:82c5726b-cb9a-46c4-b6fc-24bdfc4818ff ]]  {\r\n",
       "package \"Definitions\" as E2  [[psysml:b1455dfe-9c7f-45c5-9354-49cb3cd9f952 ]]  {\r\n",
       "comp def \"Vehicle\" as E3  <<(T,blue) part  def>> [[psysml:5d1720bb-4632-462e-81a0-399c2024ebdc ]] {\r\n",
       "}\r\n",
       "}\r\n",
       "package \"Usages\" as E4  [[psysml:f72b5ed2-7d34-4b16-a5c4-267d5b8a9efb ]]  {\r\n",
       "comp usage \"vehicle: Vehicle \" as E5  <<(T,blue) part>> [[psysml:68b35502-f69c-477b-bf3e-22d420c63407 ]] {\r\n",
       "}\r\n",
       "}\r\n",
       "}\r\n",
       "E4 ..> E3 [[psysml:3bf1490e-93ee-46db-b7d3-74f4b2a23de7 ]] : <<import>>\r\n",
       "E5 - -:|> E3 [[psysml:c8bdef6b-3f7a-4888-bf3f-9f853dc854f0 ]] \r\n",
       "@enduml\r\n",
       "\n",
       "PlantUML version 1.2020.13(Sat Jun 13 12:26:38 UTC 2020)\n",
       "(EPL source distribution)\n",
       "Java Runtime: OpenJDK Runtime Environment\n",
       "JVM: OpenJDK 64-Bit Server VM\n",
       "Default Encoding: UTF-8\n",
       "Language: en\n",
       "Country: null\n",
       "--></g></svg>"
      ]
     },
     "execution_count": 10,
     "metadata": {},
     "output_type": "execute_result"
    }
   ],
   "source": [
    "%viz --style=\"POLYLINE\" --view=\"Tree\" \"AliasImport\""
   ]
  },
  {
   "cell_type": "code",
   "execution_count": 11,
   "id": "898d1108",
   "metadata": {
    "execution": {
     "iopub.execute_input": "2022-04-22T09:52:17.011265Z",
     "iopub.status.busy": "2022-04-22T09:52:17.010864Z",
     "iopub.status.idle": "2022-04-22T09:52:17.017474Z",
     "shell.execute_reply": "2022-04-22T09:52:17.017820Z"
    }
   },
   "outputs": [
    {
     "data": {
      "image/svg+xml": [
       "<?xml version=\"1.0\" encoding=\"UTF-8\" standalone=\"no\"?><svg xmlns=\"http://www.w3.org/2000/svg\" xmlns:xlink=\"http://www.w3.org/1999/xlink\" contentScriptType=\"application/ecmascript\" contentStyleType=\"text/css\" height=\"12px\" preserveAspectRatio=\"none\" style=\"width:12px;height:12px;\" version=\"1.1\" viewBox=\"0 0 12 12\" width=\"12px\" zoomAndPan=\"magnify\"><defs/><g><!--MD5=[896ac0e7a515d8dd7765a661cb4ee08b]\n",
       "@startuml\r\n",
       "skinparam linetype polyline\r\n",
       "skinparam monochrome true\r\n",
       "skinparam classbackgroundcolor white\r\n",
       "skinparam shadowing false\r\n",
       "skinparam wrapWidth 300\r\n",
       "hide circle\r\n",
       "\r\n",
       "@enduml\r\n",
       "\n",
       "PlantUML version 1.2020.13(Sat Jun 13 12:26:38 UTC 2020)\n",
       "(EPL source distribution)\n",
       "Java Runtime: OpenJDK Runtime Environment\n",
       "JVM: OpenJDK 64-Bit Server VM\n",
       "Default Encoding: UTF-8\n",
       "Language: en\n",
       "Country: null\n",
       "--></g></svg>"
      ]
     },
     "execution_count": 11,
     "metadata": {},
     "output_type": "execute_result"
    }
   ],
   "source": [
    "%viz --style=\"POLYLINE\" --view=\"State\" \"AliasImport\""
   ]
  },
  {
   "cell_type": "code",
   "execution_count": 12,
   "id": "0ddc5cfc",
   "metadata": {
    "execution": {
     "iopub.execute_input": "2022-04-22T09:52:17.068188Z",
     "iopub.status.busy": "2022-04-22T09:52:17.067788Z",
     "iopub.status.idle": "2022-04-22T09:52:17.106945Z",
     "shell.execute_reply": "2022-04-22T09:52:17.106584Z"
    }
   },
   "outputs": [
    {
     "data": {
      "image/svg+xml": [
       "<?xml version=\"1.0\" encoding=\"UTF-8\" standalone=\"no\"?><svg xmlns=\"http://www.w3.org/2000/svg\" xmlns:xlink=\"http://www.w3.org/1999/xlink\" contentScriptType=\"application/ecmascript\" contentStyleType=\"text/css\" height=\"351px\" preserveAspectRatio=\"none\" style=\"width:302px;height:351px;\" version=\"1.1\" viewBox=\"0 0 302 351\" width=\"302px\" zoomAndPan=\"magnify\"><defs/><g><!--MD5=[fbc87193dbaf4d95561dea2c320d4a47]\n",
       "cluster E1--><a href=\"psysml:82c5726b-cb9a-46c4-b6fc-24bdfc4818ff\" target=\"_top\" title=\"psysml:82c5726b-cb9a-46c4-b6fc-24bdfc4818ff\" xlink:actuate=\"onRequest\" xlink:href=\"psysml:82c5726b-cb9a-46c4-b6fc-24bdfc4818ff\" xlink:show=\"new\" xlink:title=\"psysml:82c5726b-cb9a-46c4-b6fc-24bdfc4818ff\" xlink:type=\"simple\"><polygon fill=\"#FFFFFF\" points=\"16,6,97,6,104,28.2969,280,28.2969,280,339,16,339,16,6\" style=\"stroke: #000000; stroke-width: 1.5;\"/><line style=\"stroke: #000000; stroke-width: 1.5;\" x1=\"16\" x2=\"104\" y1=\"28.2969\" y2=\"28.2969\"/><text fill=\"#000000\" font-family=\"sans-serif\" font-size=\"14\" font-weight=\"bold\" lengthAdjust=\"spacingAndGlyphs\" textLength=\"75\" x=\"20\" y=\"20.9951\">AliasImport</text></a><!--MD5=[e4f7fae6ed58524ba242bb0b0d3be6b7]\n",
       "cluster E2--><a href=\"psysml:b1455dfe-9c7f-45c5-9354-49cb3cd9f952\" target=\"_top\" title=\"psysml:b1455dfe-9c7f-45c5-9354-49cb3cd9f952\" xlink:actuate=\"onRequest\" xlink:href=\"psysml:b1455dfe-9c7f-45c5-9354-49cb3cd9f952\" xlink:show=\"new\" xlink:title=\"psysml:b1455dfe-9c7f-45c5-9354-49cb3cd9f952\" xlink:type=\"simple\"><polygon fill=\"#FFFFFF\" points=\"40,221,119,221,126,243.2969,256,243.2969,256,315,40,315,40,221\" style=\"stroke: #000000; stroke-width: 1.5;\"/><line style=\"stroke: #000000; stroke-width: 1.5;\" x1=\"40\" x2=\"126\" y1=\"243.2969\" y2=\"243.2969\"/><text fill=\"#000000\" font-family=\"sans-serif\" font-size=\"14\" font-weight=\"bold\" lengthAdjust=\"spacingAndGlyphs\" textLength=\"73\" x=\"44\" y=\"235.9951\">Definitions</text></a><!--MD5=[de5ec2e2e8f62f467e546659f5068c88]\n",
       "cluster E5--><a href=\"psysml:f72b5ed2-7d34-4b16-a5c4-267d5b8a9efb\" target=\"_top\" title=\"psysml:f72b5ed2-7d34-4b16-a5c4-267d5b8a9efb\" xlink:actuate=\"onRequest\" xlink:href=\"psysml:f72b5ed2-7d34-4b16-a5c4-267d5b8a9efb\" xlink:show=\"new\" xlink:title=\"psysml:f72b5ed2-7d34-4b16-a5c4-267d5b8a9efb\" xlink:type=\"simple\"><polygon fill=\"#FFFFFF\" points=\"56,57,114,57,121,79.2969,230,79.2969,230,164,56,164,56,57\" style=\"stroke: #000000; stroke-width: 1.5;\"/><line style=\"stroke: #000000; stroke-width: 1.5;\" x1=\"56\" x2=\"121\" y1=\"79.2969\" y2=\"79.2969\"/><text fill=\"#000000\" font-family=\"sans-serif\" font-size=\"14\" font-weight=\"bold\" lengthAdjust=\"spacingAndGlyphs\" textLength=\"52\" x=\"60\" y=\"71.9951\">Usages</text></a><g id=\"E1.E2.E3\"><a href=\"psysml:5d1720bb-4632-462e-81a0-399c2024ebdc\" target=\"_top\" title=\"psysml:5d1720bb-4632-462e-81a0-399c2024ebdc\" xlink:actuate=\"onRequest\" xlink:href=\"psysml:5d1720bb-4632-462e-81a0-399c2024ebdc\" xlink:show=\"new\" xlink:title=\"psysml:5d1720bb-4632-462e-81a0-399c2024ebdc\" xlink:type=\"simple\"><rect fill=\"#FFFFFF\" height=\"42.9375\" id=\"E3\" style=\"stroke: #383838; stroke-width: 1.5;\" width=\"75\" x=\"165.5\" y=\"256\"/><rect fill=\"#F8F8F8\" height=\"37.9375\" style=\"stroke: #383838; stroke-width: 1.5;\" width=\"75\" x=\"165.5\" y=\"256\"/><text fill=\"#000000\" font-family=\"sans-serif\" font-size=\"12\" font-style=\"italic\" lengthAdjust=\"spacingAndGlyphs\" textLength=\"68\" x=\"169\" y=\"272.1387\">«part  def»</text><text fill=\"#000000\" font-family=\"sans-serif\" font-size=\"12\" lengthAdjust=\"spacingAndGlyphs\" textLength=\"45\" x=\"180.5\" y=\"286.1074\">Vehicle</text></a></g><g id=\"E1.E2.E4\"><a href=\"psysml:5d1720bb-4632-462e-81a0-399c2024ebdc\" target=\"_top\" title=\"psysml:5d1720bb-4632-462e-81a0-399c2024ebdc\" xlink:actuate=\"onRequest\" xlink:href=\"psysml:5d1720bb-4632-462e-81a0-399c2024ebdc\" xlink:show=\"new\" xlink:title=\"psysml:5d1720bb-4632-462e-81a0-399c2024ebdc\" xlink:type=\"simple\"><rect fill=\"#FFFFFF\" height=\"42.9375\" id=\"E4\" style=\"stroke: #383838; stroke-width: 1.5;\" width=\"75\" x=\"55.5\" y=\"256\"/><rect fill=\"#F8F8F8\" height=\"37.9375\" style=\"stroke: #383838; stroke-width: 1.5;\" width=\"75\" x=\"55.5\" y=\"256\"/><text fill=\"#000000\" font-family=\"sans-serif\" font-size=\"12\" font-style=\"italic\" lengthAdjust=\"spacingAndGlyphs\" textLength=\"68\" x=\"59\" y=\"272.1387\">«part  def»</text><text fill=\"#000000\" font-family=\"sans-serif\" font-size=\"12\" lengthAdjust=\"spacingAndGlyphs\" textLength=\"45\" x=\"70.5\" y=\"286.1074\">Vehicle</text></a></g><g id=\"E1.E5.E6\"><a href=\"psysml:68b35502-f69c-477b-bf3e-22d420c63407\" target=\"_top\" title=\"psysml:68b35502-f69c-477b-bf3e-22d420c63407\" xlink:actuate=\"onRequest\" xlink:href=\"psysml:68b35502-f69c-477b-bf3e-22d420c63407\" xlink:show=\"new\" xlink:title=\"psysml:68b35502-f69c-477b-bf3e-22d420c63407\" xlink:type=\"simple\"><rect fill=\"#FFFFFF\" height=\"40\" id=\"E6\" rx=\"10\" ry=\"10\" style=\"stroke: #383838; stroke-width: 1.5;\" width=\"107\" x=\"99.5\" y=\"100\"/><rect fill=\"#F8F8F8\" height=\"23.9688\" rx=\"10\" ry=\"10\" style=\"stroke: #F8F8F8; stroke-width: 1.5;\" width=\"107\" x=\"99.5\" y=\"100\"/><rect fill=\"#F8F8F8\" height=\"10\" style=\"stroke: #F8F8F8; stroke-width: 1.5;\" width=\"107\" x=\"99.5\" y=\"113.9688\"/><rect fill=\"none\" height=\"40\" id=\"E6\" rx=\"10\" ry=\"10\" style=\"stroke: #383838; stroke-width: 1.5;\" width=\"107\" x=\"99.5\" y=\"100\"/><text fill=\"#000000\" font-family=\"sans-serif\" font-size=\"12\" lengthAdjust=\"spacingAndGlyphs\" textLength=\"96\" x=\"105\" y=\"116.1387\">vehicle: Vehicle</text></a></g><!--MD5=[1c62de2aa5b76f0fb657ff8443a1a700]\n",
       "link E5 to E4--><a href=\"psysml:3bf1490e-93ee-46db-b7d3-74f4b2a23de7\" target=\"_top\" title=\"psysml:3bf1490e-93ee-46db-b7d3-74f4b2a23de7\" xlink:actuate=\"onRequest\" xlink:href=\"psysml:3bf1490e-93ee-46db-b7d3-74f4b2a23de7\" xlink:show=\"new\" xlink:title=\"psysml:3bf1490e-93ee-46db-b7d3-74f4b2a23de7\" xlink:type=\"simple\"><path d=\"M68.6581,164.4668 C68.6754,164.6282 68.6927,164.7896 68.71,164.951 C68.7446,165.2737 68.7791,165.5962 68.8136,165.9185 C68.8827,166.5632 68.9516,167.2069 69.0204,167.849 C69.158,169.1334 69.2949,170.4116 69.4306,171.6788 C69.7021,174.2132 69.9689,176.7035 70.2267,179.1106 C70.7424,183.9248 71.2224,188.4061 71.6333,192.2416 C72.455,199.9125 73,205 73,205 C73,205 80.12,230.46 85.86,250.99 \" fill=\"none\" id=\"E5-&gt;E4\" style=\"stroke: #383838; stroke-width: 1.0; stroke-dasharray: 7.0,7.0;\"/><polygon fill=\"#383838\" points=\"87.22,255.82,88.628,246.0723,85.8634,251.0076,80.9281,248.2429,87.22,255.82\" style=\"stroke: #383838; stroke-width: 1.0;\"/><text fill=\"#000000\" font-family=\"sans-serif\" font-size=\"13\" lengthAdjust=\"spacingAndGlyphs\" textLength=\"58\" x=\"74\" y=\"201.0669\">«import»</text></a><!--MD5=[f667431f98296947986a1a7595a31603]\n",
       "link E6 to E4--><a href=\"psysml:c8bdef6b-3f7a-4888-bf3f-9f853dc854f0\" target=\"_top\" title=\"psysml:c8bdef6b-3f7a-4888-bf3f-9f853dc854f0\" xlink:actuate=\"onRequest\" xlink:href=\"psysml:c8bdef6b-3f7a-4888-bf3f-9f853dc854f0\" xlink:show=\"new\" xlink:title=\"psysml:c8bdef6b-3f7a-4888-bf3f-9f853dc854f0\" xlink:type=\"simple\"><path d=\"M149.37,140.06 C144.65,164.84 137,205 137,205 C137,205 126.83,221.53 116.26,238.7 \" fill=\"none\" id=\"E6-&gt;E4\" style=\"stroke: #383838; stroke-width: 1.0;\"/><polygon fill=\"#FFFFFF\" points=\"105.73,255.82,109.7197,235.9685,121.6454,243.302,105.73,255.82\" style=\"stroke: #383838; stroke-width: 1.0;\"/><ellipse cx=\"114.4092\" cy=\"232.1607\" fill=\"#383838\" rx=\"2\" ry=\"2\" style=\"stroke: #383838; stroke-width: 1.0;\"/><ellipse cx=\"122.9275\" cy=\"237.3989\" fill=\"#383838\" rx=\"2\" ry=\"2\" style=\"stroke: #383838; stroke-width: 1.0;\"/></a><!--MD5=[fb1bc94df9963f2d99ceaa976a94ab44]\n",
       "@startuml\r\n",
       "skinparam ranksep 10\r\n",
       "skinparam rectangle {\r\n",
       " backgroundColor<<block>> LightGreen\r\n",
       "}\r\n",
       "skinparam linetype polyline\r\n",
       "skinparam monochrome true\r\n",
       "skinparam classbackgroundcolor white\r\n",
       "skinparam shadowing false\r\n",
       "skinparam wrapWidth 300\r\n",
       "hide circle\r\n",
       "\r\n",
       "package \"AliasImport\" as E1  [[psysml:82c5726b-cb9a-46c4-b6fc-24bdfc4818ff ]]  {\r\n",
       "package \"Definitions\" as E2  [[psysml:b1455dfe-9c7f-45c5-9354-49cb3cd9f952 ]]  {\r\n",
       "rec def \"Vehicle\" as E3  <<(T,blue) part  def>> [[psysml:5d1720bb-4632-462e-81a0-399c2024ebdc ]] {\r\n",
       "}\r\n",
       "rec def \"Vehicle\" as E4  <<(T,blue) part  def>> [[psysml:5d1720bb-4632-462e-81a0-399c2024ebdc ]] {\r\n",
       "}\r\n",
       "}\r\n",
       "package \"Usages\" as E5  [[psysml:f72b5ed2-7d34-4b16-a5c4-267d5b8a9efb ]]  {\r\n",
       "rec usage \"vehicle: Vehicle\" as E6  [[psysml:68b35502-f69c-477b-bf3e-22d420c63407 ]] {\r\n",
       "}\r\n",
       "}\r\n",
       "}\r\n",
       "E5 ..> E4 [[psysml:3bf1490e-93ee-46db-b7d3-74f4b2a23de7 ]] : <<import>>\r\n",
       "E6 - -:|> E4 [[psysml:c8bdef6b-3f7a-4888-bf3f-9f853dc854f0 ]] \r\n",
       "@enduml\r\n",
       "\n",
       "PlantUML version 1.2020.13(Sat Jun 13 12:26:38 UTC 2020)\n",
       "(EPL source distribution)\n",
       "Java Runtime: OpenJDK Runtime Environment\n",
       "JVM: OpenJDK 64-Bit Server VM\n",
       "Default Encoding: UTF-8\n",
       "Language: en\n",
       "Country: null\n",
       "--></g></svg>"
      ]
     },
     "execution_count": 12,
     "metadata": {},
     "output_type": "execute_result"
    }
   ],
   "source": [
    "%viz --style=\"POLYLINE\" --view=\"Interconnection\" \"AliasImport\""
   ]
  },
  {
   "cell_type": "code",
   "execution_count": 13,
   "id": "ebf8094b",
   "metadata": {
    "execution": {
     "iopub.execute_input": "2022-04-22T09:52:17.156712Z",
     "iopub.status.busy": "2022-04-22T09:52:17.156317Z",
     "iopub.status.idle": "2022-04-22T09:52:17.162738Z",
     "shell.execute_reply": "2022-04-22T09:52:17.163049Z"
    }
   },
   "outputs": [
    {
     "data": {
      "image/svg+xml": [
       "<?xml version=\"1.0\" encoding=\"UTF-8\" standalone=\"no\"?><svg xmlns=\"http://www.w3.org/2000/svg\" xmlns:xlink=\"http://www.w3.org/1999/xlink\" contentScriptType=\"application/ecmascript\" contentStyleType=\"text/css\" height=\"12px\" preserveAspectRatio=\"none\" style=\"width:12px;height:12px;\" version=\"1.1\" viewBox=\"0 0 12 12\" width=\"12px\" zoomAndPan=\"magnify\"><defs/><g><!--MD5=[97bbf32f66ccd50cbc40d92ea8f5a65e]\n",
       "@startuml\r\n",
       "skinparam ranksep 8\r\n",
       "skinparam linetype polyline\r\n",
       "skinparam monochrome true\r\n",
       "skinparam classbackgroundcolor white\r\n",
       "skinparam shadowing false\r\n",
       "skinparam wrapWidth 300\r\n",
       "hide circle\r\n",
       "\r\n",
       "@enduml\r\n",
       "\n",
       "PlantUML version 1.2020.13(Sat Jun 13 12:26:38 UTC 2020)\n",
       "(EPL source distribution)\n",
       "Java Runtime: OpenJDK Runtime Environment\n",
       "JVM: OpenJDK 64-Bit Server VM\n",
       "Default Encoding: UTF-8\n",
       "Language: en\n",
       "Country: null\n",
       "--></g></svg>"
      ]
     },
     "execution_count": 13,
     "metadata": {},
     "output_type": "execute_result"
    }
   ],
   "source": [
    "%viz --style=\"POLYLINE\" --view=\"Action\" \"AliasImport\""
   ]
  },
  {
   "cell_type": "code",
   "execution_count": 14,
   "id": "0d922f9e",
   "metadata": {
    "execution": {
     "iopub.execute_input": "2022-04-22T09:52:17.213508Z",
     "iopub.status.busy": "2022-04-22T09:52:17.213109Z",
     "iopub.status.idle": "2022-04-22T09:52:17.219929Z",
     "shell.execute_reply": "2022-04-22T09:52:17.220234Z"
    }
   },
   "outputs": [
    {
     "data": {
      "image/svg+xml": [
       "<?xml version=\"1.0\" encoding=\"UTF-8\" standalone=\"no\"?><svg xmlns=\"http://www.w3.org/2000/svg\" xmlns:xlink=\"http://www.w3.org/1999/xlink\" contentScriptType=\"application/ecmascript\" contentStyleType=\"text/css\" height=\"12px\" preserveAspectRatio=\"none\" style=\"width:12px;height:12px;\" version=\"1.1\" viewBox=\"0 0 12 12\" width=\"12px\" zoomAndPan=\"magnify\"><defs/><g><!--MD5=[dc938048236c351797870c36b62f92ad]\n",
       "@startuml\r\n",
       "skinparam roundcorner 20\r\n",
       "skinparam BoxPadding 20\r\n",
       "skinparam SequenceBoxBackgroundColor #white\r\n",
       "skinparam style strictuml\r\n",
       "skinparam maxMessageSize 100\r\n",
       "skinparam linetype polyline\r\n",
       "skinparam monochrome true\r\n",
       "skinparam classbackgroundcolor white\r\n",
       "skinparam shadowing false\r\n",
       "skinparam wrapWidth 300\r\n",
       "hide circle\r\n",
       "\r\n",
       "@enduml\r\n",
       "\n",
       "PlantUML version 1.2020.13(Sat Jun 13 12:26:38 UTC 2020)\n",
       "(EPL source distribution)\n",
       "Java Runtime: OpenJDK Runtime Environment\n",
       "JVM: OpenJDK 64-Bit Server VM\n",
       "Default Encoding: UTF-8\n",
       "Language: en\n",
       "Country: null\n",
       "--></g></svg>"
      ]
     },
     "execution_count": 14,
     "metadata": {},
     "output_type": "execute_result"
    }
   ],
   "source": [
    "%viz --style=\"POLYLINE\" --view=\"Sequence\" \"AliasImport\""
   ]
  },
  {
   "cell_type": "code",
   "execution_count": 15,
   "id": "7523bae5",
   "metadata": {
    "execution": {
     "iopub.execute_input": "2022-04-22T09:52:17.270765Z",
     "iopub.status.busy": "2022-04-22T09:52:17.270367Z",
     "iopub.status.idle": "2022-04-22T09:52:17.307077Z",
     "shell.execute_reply": "2022-04-22T09:52:17.306734Z"
    }
   },
   "outputs": [
    {
     "data": {
      "image/svg+xml": [
       "<?xml version=\"1.0\" encoding=\"UTF-8\" standalone=\"no\"?><svg xmlns=\"http://www.w3.org/2000/svg\" xmlns:xlink=\"http://www.w3.org/1999/xlink\" contentScriptType=\"application/ecmascript\" contentStyleType=\"text/css\" height=\"360px\" preserveAspectRatio=\"none\" style=\"width:275px;height:360px;\" version=\"1.1\" viewBox=\"0 0 275 360\" width=\"275px\" zoomAndPan=\"magnify\"><defs/><g><!--MD5=[fbc87193dbaf4d95561dea2c320d4a47]\n",
       "cluster E1--><a href=\"psysml:82c5726b-cb9a-46c4-b6fc-24bdfc4818ff\" target=\"_top\" title=\"psysml:82c5726b-cb9a-46c4-b6fc-24bdfc4818ff\" xlink:actuate=\"onRequest\" xlink:href=\"psysml:82c5726b-cb9a-46c4-b6fc-24bdfc4818ff\" xlink:show=\"new\" xlink:title=\"psysml:82c5726b-cb9a-46c4-b6fc-24bdfc4818ff\" xlink:type=\"simple\"><polygon fill=\"#FFFFFF\" points=\"16,6,97,6,104,28.2969,253,28.2969,253,348,16,348,16,6\" style=\"stroke: #000000; stroke-width: 1.5;\"/><line style=\"stroke: #000000; stroke-width: 1.5;\" x1=\"16\" x2=\"104\" y1=\"28.2969\" y2=\"28.2969\"/><text fill=\"#000000\" font-family=\"sans-serif\" font-size=\"14\" font-weight=\"bold\" lengthAdjust=\"spacingAndGlyphs\" textLength=\"75\" x=\"20\" y=\"20.9951\">AliasImport</text></a><!--MD5=[e4f7fae6ed58524ba242bb0b0d3be6b7]\n",
       "cluster E2--><a href=\"psysml:b1455dfe-9c7f-45c5-9354-49cb3cd9f952\" target=\"_top\" title=\"psysml:b1455dfe-9c7f-45c5-9354-49cb3cd9f952\" xlink:actuate=\"onRequest\" xlink:href=\"psysml:b1455dfe-9c7f-45c5-9354-49cb3cd9f952\" xlink:show=\"new\" xlink:title=\"psysml:b1455dfe-9c7f-45c5-9354-49cb3cd9f952\" xlink:type=\"simple\"><polygon fill=\"#FFFFFF\" points=\"65,227,144,227,151,249.2969,167,249.2969,167,324,65,324,65,227\" style=\"stroke: #000000; stroke-width: 1.5;\"/><line style=\"stroke: #000000; stroke-width: 1.5;\" x1=\"65\" x2=\"151\" y1=\"249.2969\" y2=\"249.2969\"/><text fill=\"#000000\" font-family=\"sans-serif\" font-size=\"14\" font-weight=\"bold\" lengthAdjust=\"spacingAndGlyphs\" textLength=\"73\" x=\"69\" y=\"241.9951\">Definitions</text></a><!--MD5=[f6df4d0ebaf0b5dfb2ced0ae5af7c670]\n",
       "cluster E4--><a href=\"psysml:f72b5ed2-7d34-4b16-a5c4-267d5b8a9efb\" target=\"_top\" title=\"psysml:f72b5ed2-7d34-4b16-a5c4-267d5b8a9efb\" xlink:actuate=\"onRequest\" xlink:href=\"psysml:f72b5ed2-7d34-4b16-a5c4-267d5b8a9efb\" xlink:show=\"new\" xlink:title=\"psysml:f72b5ed2-7d34-4b16-a5c4-267d5b8a9efb\" xlink:type=\"simple\"><polygon fill=\"#FFFFFF\" points=\"48,57,106,57,113,79.2969,221,79.2969,221,170,48,170,48,57\" style=\"stroke: #000000; stroke-width: 1.5;\"/><line style=\"stroke: #000000; stroke-width: 1.5;\" x1=\"48\" x2=\"113\" y1=\"79.2969\" y2=\"79.2969\"/><text fill=\"#000000\" font-family=\"sans-serif\" font-size=\"14\" font-weight=\"bold\" lengthAdjust=\"spacingAndGlyphs\" textLength=\"52\" x=\"52\" y=\"71.9951\">Usages</text></a><!--MD5=[09b614a08d8cba4a07c9adeb5e0fee81]\n",
       "class E3--><a href=\"psysml:5d1720bb-4632-462e-81a0-399c2024ebdc\" target=\"_top\" title=\"psysml:5d1720bb-4632-462e-81a0-399c2024ebdc\" xlink:actuate=\"onRequest\" xlink:href=\"psysml:5d1720bb-4632-462e-81a0-399c2024ebdc\" xlink:show=\"new\" xlink:title=\"psysml:5d1720bb-4632-462e-81a0-399c2024ebdc\" xlink:type=\"simple\"><rect fill=\"#FFFFFF\" height=\"45.9375\" id=\"E3\" style=\"stroke: #383838; stroke-width: 1.5;\" width=\"70\" x=\"81\" y=\"262\"/><text fill=\"#000000\" font-family=\"sans-serif\" font-size=\"12\" font-style=\"italic\" lengthAdjust=\"spacingAndGlyphs\" textLength=\"68\" x=\"82\" y=\"278.1387\">«part  def»</text><text fill=\"#000000\" font-family=\"sans-serif\" font-size=\"12\" lengthAdjust=\"spacingAndGlyphs\" textLength=\"45\" x=\"93.5\" y=\"292.1074\">Vehicle</text><line style=\"stroke: #383838; stroke-width: 1.5;\" x1=\"82\" x2=\"150\" y1=\"299.9375\" y2=\"299.9375\"/></a><!--MD5=[270fce915f116d4de14055a7c1d9a0f3]\n",
       "class E5--><a href=\"psysml:68b35502-f69c-477b-bf3e-22d420c63407\" target=\"_top\" title=\"psysml:68b35502-f69c-477b-bf3e-22d420c63407\" xlink:actuate=\"onRequest\" xlink:href=\"psysml:68b35502-f69c-477b-bf3e-22d420c63407\" xlink:show=\"new\" xlink:title=\"psysml:68b35502-f69c-477b-bf3e-22d420c63407\" xlink:type=\"simple\"><rect fill=\"#FFFFFF\" height=\"45.9375\" id=\"E5\" rx=\"10\" ry=\"10\" style=\"stroke: #383838; stroke-width: 1.5;\" width=\"106\" x=\"91\" y=\"100\"/><text fill=\"#000000\" font-family=\"sans-serif\" font-size=\"12\" font-style=\"italic\" lengthAdjust=\"spacingAndGlyphs\" textLength=\"40\" x=\"124\" y=\"116.1387\">«part»</text><text fill=\"#000000\" font-family=\"sans-serif\" font-size=\"12\" lengthAdjust=\"spacingAndGlyphs\" textLength=\"96\" x=\"94\" y=\"130.1074\">vehicle: Vehicle</text><line style=\"stroke: #383838; stroke-width: 1.5;\" x1=\"92\" x2=\"196\" y1=\"137.9375\" y2=\"137.9375\"/></a><!--MD5=[f0cdf4548168e5211fb3a02bf679d63a]\n",
       "link E4 to E3--><a href=\"psysml:3bf1490e-93ee-46db-b7d3-74f4b2a23de7\" target=\"_top\" title=\"psysml:3bf1490e-93ee-46db-b7d3-74f4b2a23de7\" xlink:actuate=\"onRequest\" xlink:href=\"psysml:3bf1490e-93ee-46db-b7d3-74f4b2a23de7\" xlink:show=\"new\" xlink:title=\"psysml:3bf1490e-93ee-46db-b7d3-74f4b2a23de7\" xlink:type=\"simple\"><path d=\"M62.3475,170.0242 C62.3705,170.1912 62.3936,170.3582 62.4166,170.5251 C62.5087,171.1927 62.6006,171.8594 62.6924,172.5245 C62.8758,173.8547 63.0585,175.1785 63.2395,176.4909 C63.6016,179.1157 63.9573,181.6948 64.3012,184.1877 C64.989,189.1736 65.6292,193.8147 66.1772,197.7869 C67.2731,205.7313 68,211 68,211 C68,211 84.75,236.48 98.47,257.33 \" fill=\"none\" id=\"E4-&gt;E3\" style=\"stroke: #383838; stroke-width: 1.0; stroke-dasharray: 7.0,7.0;\"/><polygon fill=\"#383838\" points=\"101.34,261.7,99.7376,251.9824,98.593,257.5222,93.0531,256.3776,101.34,261.7\" style=\"stroke: #383838; stroke-width: 1.0;\"/><text fill=\"#000000\" font-family=\"sans-serif\" font-size=\"13\" lengthAdjust=\"spacingAndGlyphs\" textLength=\"58\" x=\"69\" y=\"207.0669\">«import»</text></a><!--MD5=[e9be52314489bd878ff4c7144b63c9e1]\n",
       "link E5 to E3--><a href=\"psysml:c8bdef6b-3f7a-4888-bf3f-9f853dc854f0\" target=\"_top\" title=\"psysml:c8bdef6b-3f7a-4888-bf3f-9f853dc854f0\" xlink:actuate=\"onRequest\" xlink:href=\"psysml:c8bdef6b-3f7a-4888-bf3f-9f853dc854f0\" xlink:show=\"new\" xlink:title=\"psysml:c8bdef6b-3f7a-4888-bf3f-9f853dc854f0\" xlink:type=\"simple\"><path d=\"M141.94,146.4 C139.57,172.18 136,211 136,211 C136,211 131.91,225.94 127.42,242.3 \" fill=\"none\" id=\"E5-&gt;E3\" style=\"stroke: #383838; stroke-width: 1.0;\"/><polygon fill=\"#FFFFFF\" points=\"122.11,261.7,120.3774,241.5258,133.8801,245.2238,122.11,261.7\" style=\"stroke: #383838; stroke-width: 1.0;\"/><ellipse cx=\"123.8119\" cy=\"236.5565\" fill=\"#383838\" rx=\"2\" ry=\"2\" style=\"stroke: #383838; stroke-width: 1.0;\"/><ellipse cx=\"133.4568\" cy=\"239.198\" fill=\"#383838\" rx=\"2\" ry=\"2\" style=\"stroke: #383838; stroke-width: 1.0;\"/></a><!--MD5=[35e35bb958257707e1604de8027b1381]\n",
       "@startuml\r\n",
       "skinparam linetype polyline\r\n",
       "skinparam monochrome true\r\n",
       "skinparam classbackgroundcolor white\r\n",
       "skinparam shadowing false\r\n",
       "skinparam wrapWidth 300\r\n",
       "hide circle\r\n",
       "\r\n",
       "package \"AliasImport\" as E1  [[psysml:82c5726b-cb9a-46c4-b6fc-24bdfc4818ff ]]  {\r\n",
       "package \"Definitions\" as E2  [[psysml:b1455dfe-9c7f-45c5-9354-49cb3cd9f952 ]]  {\r\n",
       "comp def \"Vehicle\" as E3  <<(T,blue) part  def>> [[psysml:5d1720bb-4632-462e-81a0-399c2024ebdc ]] {\r\n",
       "}\r\n",
       "}\r\n",
       "package \"Usages\" as E4  [[psysml:f72b5ed2-7d34-4b16-a5c4-267d5b8a9efb ]]  {\r\n",
       "comp usage \"vehicle: Vehicle \" as E5  <<(T,blue) part>> [[psysml:68b35502-f69c-477b-bf3e-22d420c63407 ]] {\r\n",
       "}\r\n",
       "}\r\n",
       "}\r\n",
       "E4 ..> E3 [[psysml:3bf1490e-93ee-46db-b7d3-74f4b2a23de7 ]] : <<import>>\r\n",
       "E5 - -:|> E3 [[psysml:c8bdef6b-3f7a-4888-bf3f-9f853dc854f0 ]] \r\n",
       "@enduml\r\n",
       "\n",
       "PlantUML version 1.2020.13(Sat Jun 13 12:26:38 UTC 2020)\n",
       "(EPL source distribution)\n",
       "Java Runtime: OpenJDK Runtime Environment\n",
       "JVM: OpenJDK 64-Bit Server VM\n",
       "Default Encoding: UTF-8\n",
       "Language: en\n",
       "Country: null\n",
       "--></g></svg>"
      ]
     },
     "execution_count": 15,
     "metadata": {},
     "output_type": "execute_result"
    }
   ],
   "source": [
    "%viz --style=\"POLYLINE\" --view=\"MIXED\" \"AliasImport\""
   ]
  },
  {
   "cell_type": "code",
   "execution_count": 16,
   "id": "2ce31818",
   "metadata": {
    "execution": {
     "iopub.execute_input": "2022-04-22T09:52:17.357402Z",
     "iopub.status.busy": "2022-04-22T09:52:17.357013Z",
     "iopub.status.idle": "2022-04-22T09:52:17.409298Z",
     "shell.execute_reply": "2022-04-22T09:52:17.408935Z"
    }
   },
   "outputs": [
    {
     "data": {
      "image/svg+xml": [
       "<?xml version=\"1.0\" encoding=\"UTF-8\" standalone=\"no\"?><svg xmlns=\"http://www.w3.org/2000/svg\" xmlns:xlink=\"http://www.w3.org/1999/xlink\" contentScriptType=\"application/ecmascript\" contentStyleType=\"text/css\" height=\"233px\" preserveAspectRatio=\"none\" style=\"width:450px;height:233px;\" version=\"1.1\" viewBox=\"0 0 450 233\" width=\"450px\" zoomAndPan=\"magnify\"><defs/><g><!--MD5=[fbc87193dbaf4d95561dea2c320d4a47]\n",
       "cluster E1--><a href=\"psysml:82c5726b-cb9a-46c4-b6fc-24bdfc4818ff\" target=\"_top\" title=\"psysml:82c5726b-cb9a-46c4-b6fc-24bdfc4818ff\" xlink:actuate=\"onRequest\" xlink:href=\"psysml:82c5726b-cb9a-46c4-b6fc-24bdfc4818ff\" xlink:show=\"new\" xlink:title=\"psysml:82c5726b-cb9a-46c4-b6fc-24bdfc4818ff\" xlink:type=\"simple\"><polygon fill=\"#FFFFFF\" points=\"16,6,97,6,104,28.2969,428,28.2969,428,221,16,221,16,6\" style=\"stroke: #000000; stroke-width: 1.5;\"/><line style=\"stroke: #000000; stroke-width: 1.5;\" x1=\"16\" x2=\"104\" y1=\"28.2969\" y2=\"28.2969\"/><text fill=\"#000000\" font-family=\"sans-serif\" font-size=\"14\" font-weight=\"bold\" lengthAdjust=\"spacingAndGlyphs\" textLength=\"75\" x=\"20\" y=\"20.9951\">AliasImport</text></a><!--MD5=[e4f7fae6ed58524ba242bb0b0d3be6b7]\n",
       "cluster E2--><a href=\"psysml:b1455dfe-9c7f-45c5-9354-49cb3cd9f952\" target=\"_top\" title=\"psysml:b1455dfe-9c7f-45c5-9354-49cb3cd9f952\" xlink:actuate=\"onRequest\" xlink:href=\"psysml:b1455dfe-9c7f-45c5-9354-49cb3cd9f952\" xlink:show=\"new\" xlink:title=\"psysml:b1455dfe-9c7f-45c5-9354-49cb3cd9f952\" xlink:type=\"simple\"><polygon fill=\"#FFFFFF\" points=\"302,87,381,87,388,109.2969,404,109.2969,404,184,302,184,302,87\" style=\"stroke: #000000; stroke-width: 1.5;\"/><line style=\"stroke: #000000; stroke-width: 1.5;\" x1=\"302\" x2=\"388\" y1=\"109.2969\" y2=\"109.2969\"/><text fill=\"#000000\" font-family=\"sans-serif\" font-size=\"14\" font-weight=\"bold\" lengthAdjust=\"spacingAndGlyphs\" textLength=\"73\" x=\"306\" y=\"101.9951\">Definitions</text></a><!--MD5=[f6df4d0ebaf0b5dfb2ced0ae5af7c670]\n",
       "cluster E4--><a href=\"psysml:f72b5ed2-7d34-4b16-a5c4-267d5b8a9efb\" target=\"_top\" title=\"psysml:f72b5ed2-7d34-4b16-a5c4-267d5b8a9efb\" xlink:actuate=\"onRequest\" xlink:href=\"psysml:f72b5ed2-7d34-4b16-a5c4-267d5b8a9efb\" xlink:show=\"new\" xlink:title=\"psysml:f72b5ed2-7d34-4b16-a5c4-267d5b8a9efb\" xlink:type=\"simple\"><polygon fill=\"#FFFFFF\" points=\"48,57,106,57,113,79.2969,202,79.2969,202,189,48,189,48,57\" style=\"stroke: #000000; stroke-width: 1.5;\"/><line style=\"stroke: #000000; stroke-width: 1.5;\" x1=\"48\" x2=\"113\" y1=\"79.2969\" y2=\"79.2969\"/><text fill=\"#000000\" font-family=\"sans-serif\" font-size=\"14\" font-weight=\"bold\" lengthAdjust=\"spacingAndGlyphs\" textLength=\"52\" x=\"52\" y=\"71.9951\">Usages</text></a><!--MD5=[09b614a08d8cba4a07c9adeb5e0fee81]\n",
       "class E3--><a href=\"psysml:5d1720bb-4632-462e-81a0-399c2024ebdc\" target=\"_top\" title=\"psysml:5d1720bb-4632-462e-81a0-399c2024ebdc\" xlink:actuate=\"onRequest\" xlink:href=\"psysml:5d1720bb-4632-462e-81a0-399c2024ebdc\" xlink:show=\"new\" xlink:title=\"psysml:5d1720bb-4632-462e-81a0-399c2024ebdc\" xlink:type=\"simple\"><rect fill=\"#FFFFFF\" height=\"45.9375\" id=\"E3\" style=\"stroke: #383838; stroke-width: 1.5;\" width=\"70\" x=\"318\" y=\"122\"/><text fill=\"#000000\" font-family=\"sans-serif\" font-size=\"12\" font-style=\"italic\" lengthAdjust=\"spacingAndGlyphs\" textLength=\"68\" x=\"319\" y=\"138.1387\">«part  def»</text><text fill=\"#000000\" font-family=\"sans-serif\" font-size=\"12\" lengthAdjust=\"spacingAndGlyphs\" textLength=\"45\" x=\"330.5\" y=\"152.1074\">Vehicle</text><line style=\"stroke: #383838; stroke-width: 1.5;\" x1=\"319\" x2=\"387\" y1=\"159.9375\" y2=\"159.9375\"/></a><!--MD5=[270fce915f116d4de14055a7c1d9a0f3]\n",
       "class E5--><a href=\"psysml:68b35502-f69c-477b-bf3e-22d420c63407\" target=\"_top\" title=\"psysml:68b35502-f69c-477b-bf3e-22d420c63407\" xlink:actuate=\"onRequest\" xlink:href=\"psysml:68b35502-f69c-477b-bf3e-22d420c63407\" xlink:show=\"new\" xlink:title=\"psysml:68b35502-f69c-477b-bf3e-22d420c63407\" xlink:type=\"simple\"><rect fill=\"#FFFFFF\" height=\"45.9375\" id=\"E5\" rx=\"10\" ry=\"10\" style=\"stroke: #383838; stroke-width: 1.5;\" width=\"106\" x=\"72\" y=\"100\"/><text fill=\"#000000\" font-family=\"sans-serif\" font-size=\"12\" font-style=\"italic\" lengthAdjust=\"spacingAndGlyphs\" textLength=\"40\" x=\"105\" y=\"116.1387\">«part»</text><text fill=\"#000000\" font-family=\"sans-serif\" font-size=\"12\" lengthAdjust=\"spacingAndGlyphs\" textLength=\"96\" x=\"75\" y=\"130.1074\">vehicle: Vehicle</text><line style=\"stroke: #383838; stroke-width: 1.5;\" x1=\"73\" x2=\"177\" y1=\"137.9375\" y2=\"137.9375\"/></a><!--MD5=[f0cdf4548168e5211fb3a02bf679d63a]\n",
       "link E4 to E3--><a href=\"psysml:3bf1490e-93ee-46db-b7d3-74f4b2a23de7\" target=\"_top\" title=\"psysml:3bf1490e-93ee-46db-b7d3-74f4b2a23de7\" xlink:actuate=\"onRequest\" xlink:href=\"psysml:3bf1490e-93ee-46db-b7d3-74f4b2a23de7\" xlink:show=\"new\" xlink:title=\"psysml:3bf1490e-93ee-46db-b7d3-74f4b2a23de7\" xlink:type=\"simple\"><path d=\"M202.5512,175.6038 C203.614,175.5 204.6821,175.3944 205.7552,175.2869 C214.3394,174.4273 223.2381,173.4495 232.2475,172.3403 C250.2662,170.1219 268.7275,167.3775 286,164 C294.79,162.28 304.1,159.94 312.87,157.48 \" fill=\"none\" id=\"E4-&gt;E3\" style=\"stroke: #383838; stroke-width: 1.0; stroke-dasharray: 7.0,7.0;\"/><polygon fill=\"#383838\" points=\"317.68,156.11,307.9274,154.7364,312.8724,157.4836,310.1252,162.4286,317.68,156.11\" style=\"stroke: #383838; stroke-width: 1.0;\"/><text fill=\"#000000\" font-family=\"sans-serif\" font-size=\"13\" lengthAdjust=\"spacingAndGlyphs\" textLength=\"58\" x=\"227\" y=\"160.0669\">«import»</text></a><!--MD5=[e9be52314489bd878ff4c7144b63c9e1]\n",
       "link E5 to E3--><a href=\"psysml:c8bdef6b-3f7a-4888-bf3f-9f853dc854f0\" target=\"_top\" title=\"psysml:c8bdef6b-3f7a-4888-bf3f-9f853dc854f0\" xlink:actuate=\"onRequest\" xlink:href=\"psysml:c8bdef6b-3f7a-4888-bf3f-9f853dc854f0\" xlink:show=\"new\" xlink:title=\"psysml:c8bdef6b-3f7a-4888-bf3f-9f853dc854f0\" xlink:type=\"simple\"><path d=\"M178.13,128.07 C213.9,131.56 261.27,136.17 297.52,139.7 \" fill=\"none\" id=\"E5-&gt;E3\" style=\"stroke: #383838; stroke-width: 1.0;\"/><polygon fill=\"#FFFFFF\" points=\"317.68,141.66,298.0937,146.7959,299.4432,132.8611,317.68,141.66\" style=\"stroke: #383838; stroke-width: 1.0;\"/><ellipse cx=\"292.6131\" cy=\"144.2558\" fill=\"#383838\" rx=\"2\" ry=\"2\" style=\"stroke: #383838; stroke-width: 1.0;\"/><ellipse cx=\"293.577\" cy=\"134.3024\" fill=\"#383838\" rx=\"2\" ry=\"2\" style=\"stroke: #383838; stroke-width: 1.0;\"/></a><!--MD5=[ca8c74919c94c9d4dce455c2d16c18cb]\n",
       "@startuml\r\n",
       "left to right direction\r\n",
       "skinparam monochrome true\r\n",
       "skinparam classbackgroundcolor white\r\n",
       "skinparam shadowing false\r\n",
       "skinparam wrapWidth 300\r\n",
       "hide circle\r\n",
       "\r\n",
       "package \"AliasImport\" as E1  [[psysml:82c5726b-cb9a-46c4-b6fc-24bdfc4818ff ]]  {\r\n",
       "package \"Definitions\" as E2  [[psysml:b1455dfe-9c7f-45c5-9354-49cb3cd9f952 ]]  {\r\n",
       "comp def \"Vehicle\" as E3  <<(T,blue) part  def>> [[psysml:5d1720bb-4632-462e-81a0-399c2024ebdc ]] {\r\n",
       "}\r\n",
       "}\r\n",
       "package \"Usages\" as E4  [[psysml:f72b5ed2-7d34-4b16-a5c4-267d5b8a9efb ]]  {\r\n",
       "comp usage \"vehicle: Vehicle \" as E5  <<(T,blue) part>> [[psysml:68b35502-f69c-477b-bf3e-22d420c63407 ]] {\r\n",
       "}\r\n",
       "}\r\n",
       "}\r\n",
       "E4 ..> E3 [[psysml:3bf1490e-93ee-46db-b7d3-74f4b2a23de7 ]] : <<import>>\r\n",
       "E5 - -:|> E3 [[psysml:c8bdef6b-3f7a-4888-bf3f-9f853dc854f0 ]] \r\n",
       "@enduml\r\n",
       "\n",
       "PlantUML version 1.2020.13(Sat Jun 13 12:26:38 UTC 2020)\n",
       "(EPL source distribution)\n",
       "Java Runtime: OpenJDK Runtime Environment\n",
       "JVM: OpenJDK 64-Bit Server VM\n",
       "Default Encoding: UTF-8\n",
       "Language: en\n",
       "Country: null\n",
       "--></g></svg>"
      ]
     },
     "execution_count": 16,
     "metadata": {},
     "output_type": "execute_result"
    }
   ],
   "source": [
    "%viz --style=\"LR\" --view=\"Default\" \"AliasImport\""
   ]
  },
  {
   "cell_type": "code",
   "execution_count": 17,
   "id": "9b217178",
   "metadata": {
    "execution": {
     "iopub.execute_input": "2022-04-22T09:52:17.459461Z",
     "iopub.status.busy": "2022-04-22T09:52:17.458983Z",
     "iopub.status.idle": "2022-04-22T09:52:17.495124Z",
     "shell.execute_reply": "2022-04-22T09:52:17.494763Z"
    }
   },
   "outputs": [
    {
     "data": {
      "image/svg+xml": [
       "<?xml version=\"1.0\" encoding=\"UTF-8\" standalone=\"no\"?><svg xmlns=\"http://www.w3.org/2000/svg\" xmlns:xlink=\"http://www.w3.org/1999/xlink\" contentScriptType=\"application/ecmascript\" contentStyleType=\"text/css\" height=\"233px\" preserveAspectRatio=\"none\" style=\"width:450px;height:233px;\" version=\"1.1\" viewBox=\"0 0 450 233\" width=\"450px\" zoomAndPan=\"magnify\"><defs/><g><!--MD5=[fbc87193dbaf4d95561dea2c320d4a47]\n",
       "cluster E1--><a href=\"psysml:82c5726b-cb9a-46c4-b6fc-24bdfc4818ff\" target=\"_top\" title=\"psysml:82c5726b-cb9a-46c4-b6fc-24bdfc4818ff\" xlink:actuate=\"onRequest\" xlink:href=\"psysml:82c5726b-cb9a-46c4-b6fc-24bdfc4818ff\" xlink:show=\"new\" xlink:title=\"psysml:82c5726b-cb9a-46c4-b6fc-24bdfc4818ff\" xlink:type=\"simple\"><polygon fill=\"#FFFFFF\" points=\"16,6,97,6,104,28.2969,428,28.2969,428,221,16,221,16,6\" style=\"stroke: #000000; stroke-width: 1.5;\"/><line style=\"stroke: #000000; stroke-width: 1.5;\" x1=\"16\" x2=\"104\" y1=\"28.2969\" y2=\"28.2969\"/><text fill=\"#000000\" font-family=\"sans-serif\" font-size=\"14\" font-weight=\"bold\" lengthAdjust=\"spacingAndGlyphs\" textLength=\"75\" x=\"20\" y=\"20.9951\">AliasImport</text></a><!--MD5=[e4f7fae6ed58524ba242bb0b0d3be6b7]\n",
       "cluster E2--><a href=\"psysml:b1455dfe-9c7f-45c5-9354-49cb3cd9f952\" target=\"_top\" title=\"psysml:b1455dfe-9c7f-45c5-9354-49cb3cd9f952\" xlink:actuate=\"onRequest\" xlink:href=\"psysml:b1455dfe-9c7f-45c5-9354-49cb3cd9f952\" xlink:show=\"new\" xlink:title=\"psysml:b1455dfe-9c7f-45c5-9354-49cb3cd9f952\" xlink:type=\"simple\"><polygon fill=\"#FFFFFF\" points=\"302,87,381,87,388,109.2969,404,109.2969,404,184,302,184,302,87\" style=\"stroke: #000000; stroke-width: 1.5;\"/><line style=\"stroke: #000000; stroke-width: 1.5;\" x1=\"302\" x2=\"388\" y1=\"109.2969\" y2=\"109.2969\"/><text fill=\"#000000\" font-family=\"sans-serif\" font-size=\"14\" font-weight=\"bold\" lengthAdjust=\"spacingAndGlyphs\" textLength=\"73\" x=\"306\" y=\"101.9951\">Definitions</text></a><!--MD5=[f6df4d0ebaf0b5dfb2ced0ae5af7c670]\n",
       "cluster E4--><a href=\"psysml:f72b5ed2-7d34-4b16-a5c4-267d5b8a9efb\" target=\"_top\" title=\"psysml:f72b5ed2-7d34-4b16-a5c4-267d5b8a9efb\" xlink:actuate=\"onRequest\" xlink:href=\"psysml:f72b5ed2-7d34-4b16-a5c4-267d5b8a9efb\" xlink:show=\"new\" xlink:title=\"psysml:f72b5ed2-7d34-4b16-a5c4-267d5b8a9efb\" xlink:type=\"simple\"><polygon fill=\"#FFFFFF\" points=\"48,57,106,57,113,79.2969,202,79.2969,202,189,48,189,48,57\" style=\"stroke: #000000; stroke-width: 1.5;\"/><line style=\"stroke: #000000; stroke-width: 1.5;\" x1=\"48\" x2=\"113\" y1=\"79.2969\" y2=\"79.2969\"/><text fill=\"#000000\" font-family=\"sans-serif\" font-size=\"14\" font-weight=\"bold\" lengthAdjust=\"spacingAndGlyphs\" textLength=\"52\" x=\"52\" y=\"71.9951\">Usages</text></a><!--MD5=[09b614a08d8cba4a07c9adeb5e0fee81]\n",
       "class E3--><a href=\"psysml:5d1720bb-4632-462e-81a0-399c2024ebdc\" target=\"_top\" title=\"psysml:5d1720bb-4632-462e-81a0-399c2024ebdc\" xlink:actuate=\"onRequest\" xlink:href=\"psysml:5d1720bb-4632-462e-81a0-399c2024ebdc\" xlink:show=\"new\" xlink:title=\"psysml:5d1720bb-4632-462e-81a0-399c2024ebdc\" xlink:type=\"simple\"><rect fill=\"#FFFFFF\" height=\"45.9375\" id=\"E3\" style=\"stroke: #383838; stroke-width: 1.5;\" width=\"70\" x=\"318\" y=\"122\"/><text fill=\"#000000\" font-family=\"sans-serif\" font-size=\"12\" font-style=\"italic\" lengthAdjust=\"spacingAndGlyphs\" textLength=\"68\" x=\"319\" y=\"138.1387\">«part  def»</text><text fill=\"#000000\" font-family=\"sans-serif\" font-size=\"12\" lengthAdjust=\"spacingAndGlyphs\" textLength=\"45\" x=\"330.5\" y=\"152.1074\">Vehicle</text><line style=\"stroke: #383838; stroke-width: 1.5;\" x1=\"319\" x2=\"387\" y1=\"159.9375\" y2=\"159.9375\"/></a><!--MD5=[270fce915f116d4de14055a7c1d9a0f3]\n",
       "class E5--><a href=\"psysml:68b35502-f69c-477b-bf3e-22d420c63407\" target=\"_top\" title=\"psysml:68b35502-f69c-477b-bf3e-22d420c63407\" xlink:actuate=\"onRequest\" xlink:href=\"psysml:68b35502-f69c-477b-bf3e-22d420c63407\" xlink:show=\"new\" xlink:title=\"psysml:68b35502-f69c-477b-bf3e-22d420c63407\" xlink:type=\"simple\"><rect fill=\"#FFFFFF\" height=\"45.9375\" id=\"E5\" rx=\"10\" ry=\"10\" style=\"stroke: #383838; stroke-width: 1.5;\" width=\"106\" x=\"72\" y=\"100\"/><text fill=\"#000000\" font-family=\"sans-serif\" font-size=\"12\" font-style=\"italic\" lengthAdjust=\"spacingAndGlyphs\" textLength=\"40\" x=\"105\" y=\"116.1387\">«part»</text><text fill=\"#000000\" font-family=\"sans-serif\" font-size=\"12\" lengthAdjust=\"spacingAndGlyphs\" textLength=\"96\" x=\"75\" y=\"130.1074\">vehicle: Vehicle</text><line style=\"stroke: #383838; stroke-width: 1.5;\" x1=\"73\" x2=\"177\" y1=\"137.9375\" y2=\"137.9375\"/></a><!--MD5=[f0cdf4548168e5211fb3a02bf679d63a]\n",
       "link E4 to E3--><a href=\"psysml:3bf1490e-93ee-46db-b7d3-74f4b2a23de7\" target=\"_top\" title=\"psysml:3bf1490e-93ee-46db-b7d3-74f4b2a23de7\" xlink:actuate=\"onRequest\" xlink:href=\"psysml:3bf1490e-93ee-46db-b7d3-74f4b2a23de7\" xlink:show=\"new\" xlink:title=\"psysml:3bf1490e-93ee-46db-b7d3-74f4b2a23de7\" xlink:type=\"simple\"><path d=\"M202.5512,175.6038 C203.614,175.5 204.6821,175.3944 205.7552,175.2869 C214.3394,174.4273 223.2381,173.4495 232.2475,172.3403 C250.2662,170.1219 268.7275,167.3775 286,164 C294.79,162.28 304.1,159.94 312.87,157.48 \" fill=\"none\" id=\"E4-&gt;E3\" style=\"stroke: #383838; stroke-width: 1.0; stroke-dasharray: 7.0,7.0;\"/><polygon fill=\"#383838\" points=\"317.68,156.11,307.9274,154.7364,312.8724,157.4836,310.1252,162.4286,317.68,156.11\" style=\"stroke: #383838; stroke-width: 1.0;\"/><text fill=\"#000000\" font-family=\"sans-serif\" font-size=\"13\" lengthAdjust=\"spacingAndGlyphs\" textLength=\"58\" x=\"227\" y=\"160.0669\">«import»</text></a><!--MD5=[e9be52314489bd878ff4c7144b63c9e1]\n",
       "link E5 to E3--><a href=\"psysml:c8bdef6b-3f7a-4888-bf3f-9f853dc854f0\" target=\"_top\" title=\"psysml:c8bdef6b-3f7a-4888-bf3f-9f853dc854f0\" xlink:actuate=\"onRequest\" xlink:href=\"psysml:c8bdef6b-3f7a-4888-bf3f-9f853dc854f0\" xlink:show=\"new\" xlink:title=\"psysml:c8bdef6b-3f7a-4888-bf3f-9f853dc854f0\" xlink:type=\"simple\"><path d=\"M178.13,128.07 C213.9,131.56 261.27,136.17 297.52,139.7 \" fill=\"none\" id=\"E5-&gt;E3\" style=\"stroke: #383838; stroke-width: 1.0;\"/><polygon fill=\"#FFFFFF\" points=\"317.68,141.66,298.0937,146.7959,299.4432,132.8611,317.68,141.66\" style=\"stroke: #383838; stroke-width: 1.0;\"/><ellipse cx=\"292.6131\" cy=\"144.2558\" fill=\"#383838\" rx=\"2\" ry=\"2\" style=\"stroke: #383838; stroke-width: 1.0;\"/><ellipse cx=\"293.577\" cy=\"134.3024\" fill=\"#383838\" rx=\"2\" ry=\"2\" style=\"stroke: #383838; stroke-width: 1.0;\"/></a><!--MD5=[ca8c74919c94c9d4dce455c2d16c18cb]\n",
       "@startuml\r\n",
       "left to right direction\r\n",
       "skinparam monochrome true\r\n",
       "skinparam classbackgroundcolor white\r\n",
       "skinparam shadowing false\r\n",
       "skinparam wrapWidth 300\r\n",
       "hide circle\r\n",
       "\r\n",
       "package \"AliasImport\" as E1  [[psysml:82c5726b-cb9a-46c4-b6fc-24bdfc4818ff ]]  {\r\n",
       "package \"Definitions\" as E2  [[psysml:b1455dfe-9c7f-45c5-9354-49cb3cd9f952 ]]  {\r\n",
       "comp def \"Vehicle\" as E3  <<(T,blue) part  def>> [[psysml:5d1720bb-4632-462e-81a0-399c2024ebdc ]] {\r\n",
       "}\r\n",
       "}\r\n",
       "package \"Usages\" as E4  [[psysml:f72b5ed2-7d34-4b16-a5c4-267d5b8a9efb ]]  {\r\n",
       "comp usage \"vehicle: Vehicle \" as E5  <<(T,blue) part>> [[psysml:68b35502-f69c-477b-bf3e-22d420c63407 ]] {\r\n",
       "}\r\n",
       "}\r\n",
       "}\r\n",
       "E4 ..> E3 [[psysml:3bf1490e-93ee-46db-b7d3-74f4b2a23de7 ]] : <<import>>\r\n",
       "E5 - -:|> E3 [[psysml:c8bdef6b-3f7a-4888-bf3f-9f853dc854f0 ]] \r\n",
       "@enduml\r\n",
       "\n",
       "PlantUML version 1.2020.13(Sat Jun 13 12:26:38 UTC 2020)\n",
       "(EPL source distribution)\n",
       "Java Runtime: OpenJDK Runtime Environment\n",
       "JVM: OpenJDK 64-Bit Server VM\n",
       "Default Encoding: UTF-8\n",
       "Language: en\n",
       "Country: null\n",
       "--></g></svg>"
      ]
     },
     "execution_count": 17,
     "metadata": {},
     "output_type": "execute_result"
    }
   ],
   "source": [
    "%viz --style=\"LR\" --view=\"Tree\" \"AliasImport\""
   ]
  },
  {
   "cell_type": "code",
   "execution_count": 18,
   "id": "b8e668ed",
   "metadata": {
    "execution": {
     "iopub.execute_input": "2022-04-22T09:52:17.544583Z",
     "iopub.status.busy": "2022-04-22T09:52:17.544185Z",
     "iopub.status.idle": "2022-04-22T09:52:17.550005Z",
     "shell.execute_reply": "2022-04-22T09:52:17.550314Z"
    }
   },
   "outputs": [
    {
     "data": {
      "image/svg+xml": [
       "<?xml version=\"1.0\" encoding=\"UTF-8\" standalone=\"no\"?><svg xmlns=\"http://www.w3.org/2000/svg\" xmlns:xlink=\"http://www.w3.org/1999/xlink\" contentScriptType=\"application/ecmascript\" contentStyleType=\"text/css\" height=\"12px\" preserveAspectRatio=\"none\" style=\"width:12px;height:12px;\" version=\"1.1\" viewBox=\"0 0 12 12\" width=\"12px\" zoomAndPan=\"magnify\"><defs/><g><!--MD5=[19d285c9d72a204eba4e2cd117d745e8]\n",
       "@startuml\r\n",
       "left to right direction\r\n",
       "skinparam monochrome true\r\n",
       "skinparam classbackgroundcolor white\r\n",
       "skinparam shadowing false\r\n",
       "skinparam wrapWidth 300\r\n",
       "hide circle\r\n",
       "\r\n",
       "@enduml\r\n",
       "\n",
       "PlantUML version 1.2020.13(Sat Jun 13 12:26:38 UTC 2020)\n",
       "(EPL source distribution)\n",
       "Java Runtime: OpenJDK Runtime Environment\n",
       "JVM: OpenJDK 64-Bit Server VM\n",
       "Default Encoding: UTF-8\n",
       "Language: en\n",
       "Country: null\n",
       "--></g></svg>"
      ]
     },
     "execution_count": 18,
     "metadata": {},
     "output_type": "execute_result"
    }
   ],
   "source": [
    "%viz --style=\"LR\" --view=\"State\" \"AliasImport\""
   ]
  },
  {
   "cell_type": "code",
   "execution_count": 19,
   "id": "0ad88d11",
   "metadata": {
    "execution": {
     "iopub.execute_input": "2022-04-22T09:52:17.600698Z",
     "iopub.status.busy": "2022-04-22T09:52:17.600302Z",
     "iopub.status.idle": "2022-04-22T09:52:17.634626Z",
     "shell.execute_reply": "2022-04-22T09:52:17.634941Z"
    }
   },
   "outputs": [
    {
     "data": {
      "image/svg+xml": [
       "<?xml version=\"1.0\" encoding=\"UTF-8\" standalone=\"no\"?><svg xmlns=\"http://www.w3.org/2000/svg\" xmlns:xlink=\"http://www.w3.org/1999/xlink\" contentScriptType=\"application/ecmascript\" contentStyleType=\"text/css\" height=\"258px\" preserveAspectRatio=\"none\" style=\"width:456px;height:258px;\" version=\"1.1\" viewBox=\"0 0 456 258\" width=\"456px\" zoomAndPan=\"magnify\"><defs/><g><!--MD5=[fbc87193dbaf4d95561dea2c320d4a47]\n",
       "cluster E1--><a href=\"psysml:82c5726b-cb9a-46c4-b6fc-24bdfc4818ff\" target=\"_top\" title=\"psysml:82c5726b-cb9a-46c4-b6fc-24bdfc4818ff\" xlink:actuate=\"onRequest\" xlink:href=\"psysml:82c5726b-cb9a-46c4-b6fc-24bdfc4818ff\" xlink:show=\"new\" xlink:title=\"psysml:82c5726b-cb9a-46c4-b6fc-24bdfc4818ff\" xlink:type=\"simple\"><polygon fill=\"#FFFFFF\" points=\"16,6,97,6,104,28.2969,434,28.2969,434,246,16,246,16,6\" style=\"stroke: #000000; stroke-width: 1.5;\"/><line style=\"stroke: #000000; stroke-width: 1.5;\" x1=\"16\" x2=\"104\" y1=\"28.2969\" y2=\"28.2969\"/><text fill=\"#000000\" font-family=\"sans-serif\" font-size=\"14\" font-weight=\"bold\" lengthAdjust=\"spacingAndGlyphs\" textLength=\"75\" x=\"20\" y=\"20.9951\">AliasImport</text></a><!--MD5=[e4f7fae6ed58524ba242bb0b0d3be6b7]\n",
       "cluster E2--><a href=\"psysml:b1455dfe-9c7f-45c5-9354-49cb3cd9f952\" target=\"_top\" title=\"psysml:b1455dfe-9c7f-45c5-9354-49cb3cd9f952\" xlink:actuate=\"onRequest\" xlink:href=\"psysml:b1455dfe-9c7f-45c5-9354-49cb3cd9f952\" xlink:show=\"new\" xlink:title=\"psysml:b1455dfe-9c7f-45c5-9354-49cb3cd9f952\" xlink:type=\"simple\"><polygon fill=\"#FFFFFF\" points=\"303,49,382,49,389,71.2969,410,71.2969,410,222,303,222,303,49\" style=\"stroke: #000000; stroke-width: 1.5;\"/><line style=\"stroke: #000000; stroke-width: 1.5;\" x1=\"303\" x2=\"389\" y1=\"71.2969\" y2=\"71.2969\"/><text fill=\"#000000\" font-family=\"sans-serif\" font-size=\"14\" font-weight=\"bold\" lengthAdjust=\"spacingAndGlyphs\" textLength=\"73\" x=\"307\" y=\"63.9951\">Definitions</text></a><!--MD5=[de5ec2e2e8f62f467e546659f5068c88]\n",
       "cluster E5--><a href=\"psysml:f72b5ed2-7d34-4b16-a5c4-267d5b8a9efb\" target=\"_top\" title=\"psysml:f72b5ed2-7d34-4b16-a5c4-267d5b8a9efb\" xlink:actuate=\"onRequest\" xlink:href=\"psysml:f72b5ed2-7d34-4b16-a5c4-267d5b8a9efb\" xlink:show=\"new\" xlink:title=\"psysml:f72b5ed2-7d34-4b16-a5c4-267d5b8a9efb\" xlink:type=\"simple\"><polygon fill=\"#FFFFFF\" points=\"48,80,106,80,113,102.2969,203,102.2969,203,206,48,206,48,80\" style=\"stroke: #000000; stroke-width: 1.5;\"/><line style=\"stroke: #000000; stroke-width: 1.5;\" x1=\"48\" x2=\"113\" y1=\"102.2969\" y2=\"102.2969\"/><text fill=\"#000000\" font-family=\"sans-serif\" font-size=\"14\" font-weight=\"bold\" lengthAdjust=\"spacingAndGlyphs\" textLength=\"52\" x=\"52\" y=\"94.9951\">Usages</text></a><g id=\"E1.E2.E3\"><a href=\"psysml:5d1720bb-4632-462e-81a0-399c2024ebdc\" target=\"_top\" title=\"psysml:5d1720bb-4632-462e-81a0-399c2024ebdc\" xlink:actuate=\"onRequest\" xlink:href=\"psysml:5d1720bb-4632-462e-81a0-399c2024ebdc\" xlink:show=\"new\" xlink:title=\"psysml:5d1720bb-4632-462e-81a0-399c2024ebdc\" xlink:type=\"simple\"><rect fill=\"#FFFFFF\" height=\"42.9375\" id=\"E3\" style=\"stroke: #383838; stroke-width: 1.5;\" width=\"75\" x=\"319\" y=\"84.5\"/><rect fill=\"#F8F8F8\" height=\"37.9375\" style=\"stroke: #383838; stroke-width: 1.5;\" width=\"75\" x=\"319\" y=\"84.5\"/><text fill=\"#000000\" font-family=\"sans-serif\" font-size=\"12\" font-style=\"italic\" lengthAdjust=\"spacingAndGlyphs\" textLength=\"68\" x=\"322.5\" y=\"100.6387\">«part  def»</text><text fill=\"#000000\" font-family=\"sans-serif\" font-size=\"12\" lengthAdjust=\"spacingAndGlyphs\" textLength=\"45\" x=\"334\" y=\"114.6074\">Vehicle</text></a></g><g id=\"E1.E2.E4\"><a href=\"psysml:5d1720bb-4632-462e-81a0-399c2024ebdc\" target=\"_top\" title=\"psysml:5d1720bb-4632-462e-81a0-399c2024ebdc\" xlink:actuate=\"onRequest\" xlink:href=\"psysml:5d1720bb-4632-462e-81a0-399c2024ebdc\" xlink:show=\"new\" xlink:title=\"psysml:5d1720bb-4632-462e-81a0-399c2024ebdc\" xlink:type=\"simple\"><rect fill=\"#FFFFFF\" height=\"42.9375\" id=\"E4\" style=\"stroke: #383838; stroke-width: 1.5;\" width=\"75\" x=\"319\" y=\"162.5\"/><rect fill=\"#F8F8F8\" height=\"37.9375\" style=\"stroke: #383838; stroke-width: 1.5;\" width=\"75\" x=\"319\" y=\"162.5\"/><text fill=\"#000000\" font-family=\"sans-serif\" font-size=\"12\" font-style=\"italic\" lengthAdjust=\"spacingAndGlyphs\" textLength=\"68\" x=\"322.5\" y=\"178.6387\">«part  def»</text><text fill=\"#000000\" font-family=\"sans-serif\" font-size=\"12\" lengthAdjust=\"spacingAndGlyphs\" textLength=\"45\" x=\"334\" y=\"192.6074\">Vehicle</text></a></g><g id=\"E1.E5.E6\"><a href=\"psysml:68b35502-f69c-477b-bf3e-22d420c63407\" target=\"_top\" title=\"psysml:68b35502-f69c-477b-bf3e-22d420c63407\" xlink:actuate=\"onRequest\" xlink:href=\"psysml:68b35502-f69c-477b-bf3e-22d420c63407\" xlink:show=\"new\" xlink:title=\"psysml:68b35502-f69c-477b-bf3e-22d420c63407\" xlink:type=\"simple\"><rect fill=\"#FFFFFF\" height=\"40\" id=\"E6\" rx=\"10\" ry=\"10\" style=\"stroke: #383838; stroke-width: 1.5;\" width=\"107\" x=\"72\" y=\"123\"/><rect fill=\"#F8F8F8\" height=\"23.9688\" rx=\"10\" ry=\"10\" style=\"stroke: #F8F8F8; stroke-width: 1.5;\" width=\"107\" x=\"72\" y=\"123\"/><rect fill=\"#F8F8F8\" height=\"10\" style=\"stroke: #F8F8F8; stroke-width: 1.5;\" width=\"107\" x=\"72\" y=\"136.9688\"/><rect fill=\"none\" height=\"40\" id=\"E6\" rx=\"10\" ry=\"10\" style=\"stroke: #383838; stroke-width: 1.5;\" width=\"107\" x=\"72\" y=\"123\"/><text fill=\"#000000\" font-family=\"sans-serif\" font-size=\"12\" lengthAdjust=\"spacingAndGlyphs\" textLength=\"96\" x=\"77.5\" y=\"139.1387\">vehicle: Vehicle</text></a></g><!--MD5=[1c62de2aa5b76f0fb657ff8443a1a700]\n",
       "link E5 to E4--><a href=\"psysml:3bf1490e-93ee-46db-b7d3-74f4b2a23de7\" target=\"_top\" title=\"psysml:3bf1490e-93ee-46db-b7d3-74f4b2a23de7\" xlink:actuate=\"onRequest\" xlink:href=\"psysml:3bf1490e-93ee-46db-b7d3-74f4b2a23de7\" xlink:show=\"new\" xlink:title=\"psysml:3bf1490e-93ee-46db-b7d3-74f4b2a23de7\" xlink:type=\"simple\"><path d=\"M203.0355,193.3194 C203.6391,193.2826 204.2442,193.2456 204.8508,193.2085 C207.2773,193.0601 209.7279,192.9103 212.1977,192.7593 C217.1372,192.4574 222.1533,192.1507 227.2056,191.8419 C237.3104,191.2241 247.5607,190.5974 257.6355,189.9814 C277.785,188.7494 297.2325,187.56 313.41,186.57 \" fill=\"none\" id=\"E5-&gt;E4\" style=\"stroke: #383838; stroke-width: 1.0; stroke-dasharray: 7.0,7.0;\"/><polygon fill=\"#383838\" points=\"318.74,186.25,309.5062,182.8241,313.7499,186.5646,310.0095,190.8083,318.74,186.25\" style=\"stroke: #383838; stroke-width: 1.0;\"/><text fill=\"#000000\" font-family=\"sans-serif\" font-size=\"13\" lengthAdjust=\"spacingAndGlyphs\" textLength=\"58\" x=\"228\" y=\"185.0669\">«import»</text></a><!--MD5=[f667431f98296947986a1a7595a31603]\n",
       "link E6 to E4--><a href=\"psysml:c8bdef6b-3f7a-4888-bf3f-9f853dc854f0\" target=\"_top\" title=\"psysml:c8bdef6b-3f7a-4888-bf3f-9f853dc854f0\" xlink:actuate=\"onRequest\" xlink:href=\"psysml:c8bdef6b-3f7a-4888-bf3f-9f853dc854f0\" xlink:show=\"new\" xlink:title=\"psysml:c8bdef6b-3f7a-4888-bf3f-9f853dc854f0\" xlink:type=\"simple\"><path d=\"M179.25,147.83 C210.73,151.23 251.39,156.52 287,164 C291.07,164.86 295.26,165.83 299.45,166.88 \" fill=\"none\" id=\"E6-&gt;E4\" style=\"stroke: #383838; stroke-width: 1.0;\"/><polygon fill=\"#FFFFFF\" points=\"318.79,172.15,298.617,173.8965,302.3057,160.3912,318.79,172.15\" style=\"stroke: #383838; stroke-width: 1.0;\"/><ellipse cx=\"293.6454\" cy=\"170.4654\" fill=\"#383838\" rx=\"2\" ry=\"2\" style=\"stroke: #383838; stroke-width: 1.0;\"/><ellipse cx=\"296.2802\" cy=\"160.8187\" fill=\"#383838\" rx=\"2\" ry=\"2\" style=\"stroke: #383838; stroke-width: 1.0;\"/></a><!--MD5=[6297a1f349ebeb1b068ab34243150d6b]\n",
       "@startuml\r\n",
       "skinparam ranksep 10\r\n",
       "skinparam rectangle {\r\n",
       " backgroundColor<<block>> LightGreen\r\n",
       "}\r\n",
       "left to right direction\r\n",
       "skinparam monochrome true\r\n",
       "skinparam classbackgroundcolor white\r\n",
       "skinparam shadowing false\r\n",
       "skinparam wrapWidth 300\r\n",
       "hide circle\r\n",
       "\r\n",
       "package \"AliasImport\" as E1  [[psysml:82c5726b-cb9a-46c4-b6fc-24bdfc4818ff ]]  {\r\n",
       "package \"Definitions\" as E2  [[psysml:b1455dfe-9c7f-45c5-9354-49cb3cd9f952 ]]  {\r\n",
       "rec def \"Vehicle\" as E3  <<(T,blue) part  def>> [[psysml:5d1720bb-4632-462e-81a0-399c2024ebdc ]] {\r\n",
       "}\r\n",
       "rec def \"Vehicle\" as E4  <<(T,blue) part  def>> [[psysml:5d1720bb-4632-462e-81a0-399c2024ebdc ]] {\r\n",
       "}\r\n",
       "}\r\n",
       "package \"Usages\" as E5  [[psysml:f72b5ed2-7d34-4b16-a5c4-267d5b8a9efb ]]  {\r\n",
       "rec usage \"vehicle: Vehicle\" as E6  [[psysml:68b35502-f69c-477b-bf3e-22d420c63407 ]] {\r\n",
       "}\r\n",
       "}\r\n",
       "}\r\n",
       "E5 ..> E4 [[psysml:3bf1490e-93ee-46db-b7d3-74f4b2a23de7 ]] : <<import>>\r\n",
       "E6 - -:|> E4 [[psysml:c8bdef6b-3f7a-4888-bf3f-9f853dc854f0 ]] \r\n",
       "@enduml\r\n",
       "\n",
       "PlantUML version 1.2020.13(Sat Jun 13 12:26:38 UTC 2020)\n",
       "(EPL source distribution)\n",
       "Java Runtime: OpenJDK Runtime Environment\n",
       "JVM: OpenJDK 64-Bit Server VM\n",
       "Default Encoding: UTF-8\n",
       "Language: en\n",
       "Country: null\n",
       "--></g></svg>"
      ]
     },
     "execution_count": 19,
     "metadata": {},
     "output_type": "execute_result"
    }
   ],
   "source": [
    "%viz --style=\"LR\" --view=\"Interconnection\" \"AliasImport\""
   ]
  },
  {
   "cell_type": "code",
   "execution_count": 20,
   "id": "12ef65b1",
   "metadata": {
    "execution": {
     "iopub.execute_input": "2022-04-22T09:52:17.684985Z",
     "iopub.status.busy": "2022-04-22T09:52:17.684587Z",
     "iopub.status.idle": "2022-04-22T09:52:17.690911Z",
     "shell.execute_reply": "2022-04-22T09:52:17.691220Z"
    }
   },
   "outputs": [
    {
     "data": {
      "image/svg+xml": [
       "<?xml version=\"1.0\" encoding=\"UTF-8\" standalone=\"no\"?><svg xmlns=\"http://www.w3.org/2000/svg\" xmlns:xlink=\"http://www.w3.org/1999/xlink\" contentScriptType=\"application/ecmascript\" contentStyleType=\"text/css\" height=\"12px\" preserveAspectRatio=\"none\" style=\"width:12px;height:12px;\" version=\"1.1\" viewBox=\"0 0 12 12\" width=\"12px\" zoomAndPan=\"magnify\"><defs/><g><!--MD5=[7aeb398939421629f6affaa4a1a7b125]\n",
       "@startuml\r\n",
       "skinparam ranksep 8\r\n",
       "left to right direction\r\n",
       "skinparam monochrome true\r\n",
       "skinparam classbackgroundcolor white\r\n",
       "skinparam shadowing false\r\n",
       "skinparam wrapWidth 300\r\n",
       "hide circle\r\n",
       "\r\n",
       "@enduml\r\n",
       "\n",
       "PlantUML version 1.2020.13(Sat Jun 13 12:26:38 UTC 2020)\n",
       "(EPL source distribution)\n",
       "Java Runtime: OpenJDK Runtime Environment\n",
       "JVM: OpenJDK 64-Bit Server VM\n",
       "Default Encoding: UTF-8\n",
       "Language: en\n",
       "Country: null\n",
       "--></g></svg>"
      ]
     },
     "execution_count": 20,
     "metadata": {},
     "output_type": "execute_result"
    }
   ],
   "source": [
    "%viz --style=\"LR\" --view=\"Action\" \"AliasImport\""
   ]
  },
  {
   "cell_type": "code",
   "execution_count": 21,
   "id": "347d3db4",
   "metadata": {
    "execution": {
     "iopub.execute_input": "2022-04-22T09:52:17.741434Z",
     "iopub.status.busy": "2022-04-22T09:52:17.741036Z",
     "iopub.status.idle": "2022-04-22T09:52:17.746667Z",
     "shell.execute_reply": "2022-04-22T09:52:17.746976Z"
    }
   },
   "outputs": [
    {
     "data": {
      "image/svg+xml": [
       "<?xml version=\"1.0\" encoding=\"UTF-8\" standalone=\"no\"?><svg xmlns=\"http://www.w3.org/2000/svg\" xmlns:xlink=\"http://www.w3.org/1999/xlink\" contentScriptType=\"application/ecmascript\" contentStyleType=\"text/css\" height=\"12px\" preserveAspectRatio=\"none\" style=\"width:12px;height:12px;\" version=\"1.1\" viewBox=\"0 0 12 12\" width=\"12px\" zoomAndPan=\"magnify\"><defs/><g><!--MD5=[238c11ea2002f03115ad6b49a457d50e]\n",
       "@startuml\r\n",
       "skinparam roundcorner 20\r\n",
       "skinparam BoxPadding 20\r\n",
       "skinparam SequenceBoxBackgroundColor #white\r\n",
       "skinparam style strictuml\r\n",
       "skinparam maxMessageSize 100\r\n",
       "left to right direction\r\n",
       "skinparam monochrome true\r\n",
       "skinparam classbackgroundcolor white\r\n",
       "skinparam shadowing false\r\n",
       "skinparam wrapWidth 300\r\n",
       "hide circle\r\n",
       "\r\n",
       "@enduml\r\n",
       "\n",
       "PlantUML version 1.2020.13(Sat Jun 13 12:26:38 UTC 2020)\n",
       "(EPL source distribution)\n",
       "Java Runtime: OpenJDK Runtime Environment\n",
       "JVM: OpenJDK 64-Bit Server VM\n",
       "Default Encoding: UTF-8\n",
       "Language: en\n",
       "Country: null\n",
       "--></g></svg>"
      ]
     },
     "execution_count": 21,
     "metadata": {},
     "output_type": "execute_result"
    }
   ],
   "source": [
    "%viz --style=\"LR\" --view=\"Sequence\" \"AliasImport\""
   ]
  },
  {
   "cell_type": "code",
   "execution_count": 22,
   "id": "8baede1b",
   "metadata": {
    "execution": {
     "iopub.execute_input": "2022-04-22T09:52:17.797196Z",
     "iopub.status.busy": "2022-04-22T09:52:17.796800Z",
     "iopub.status.idle": "2022-04-22T09:52:17.828173Z",
     "shell.execute_reply": "2022-04-22T09:52:17.827844Z"
    }
   },
   "outputs": [
    {
     "data": {
      "image/svg+xml": [
       "<?xml version=\"1.0\" encoding=\"UTF-8\" standalone=\"no\"?><svg xmlns=\"http://www.w3.org/2000/svg\" xmlns:xlink=\"http://www.w3.org/1999/xlink\" contentScriptType=\"application/ecmascript\" contentStyleType=\"text/css\" height=\"233px\" preserveAspectRatio=\"none\" style=\"width:450px;height:233px;\" version=\"1.1\" viewBox=\"0 0 450 233\" width=\"450px\" zoomAndPan=\"magnify\"><defs/><g><!--MD5=[fbc87193dbaf4d95561dea2c320d4a47]\n",
       "cluster E1--><a href=\"psysml:82c5726b-cb9a-46c4-b6fc-24bdfc4818ff\" target=\"_top\" title=\"psysml:82c5726b-cb9a-46c4-b6fc-24bdfc4818ff\" xlink:actuate=\"onRequest\" xlink:href=\"psysml:82c5726b-cb9a-46c4-b6fc-24bdfc4818ff\" xlink:show=\"new\" xlink:title=\"psysml:82c5726b-cb9a-46c4-b6fc-24bdfc4818ff\" xlink:type=\"simple\"><polygon fill=\"#FFFFFF\" points=\"16,6,97,6,104,28.2969,428,28.2969,428,221,16,221,16,6\" style=\"stroke: #000000; stroke-width: 1.5;\"/><line style=\"stroke: #000000; stroke-width: 1.5;\" x1=\"16\" x2=\"104\" y1=\"28.2969\" y2=\"28.2969\"/><text fill=\"#000000\" font-family=\"sans-serif\" font-size=\"14\" font-weight=\"bold\" lengthAdjust=\"spacingAndGlyphs\" textLength=\"75\" x=\"20\" y=\"20.9951\">AliasImport</text></a><!--MD5=[e4f7fae6ed58524ba242bb0b0d3be6b7]\n",
       "cluster E2--><a href=\"psysml:b1455dfe-9c7f-45c5-9354-49cb3cd9f952\" target=\"_top\" title=\"psysml:b1455dfe-9c7f-45c5-9354-49cb3cd9f952\" xlink:actuate=\"onRequest\" xlink:href=\"psysml:b1455dfe-9c7f-45c5-9354-49cb3cd9f952\" xlink:show=\"new\" xlink:title=\"psysml:b1455dfe-9c7f-45c5-9354-49cb3cd9f952\" xlink:type=\"simple\"><polygon fill=\"#FFFFFF\" points=\"302,87,381,87,388,109.2969,404,109.2969,404,184,302,184,302,87\" style=\"stroke: #000000; stroke-width: 1.5;\"/><line style=\"stroke: #000000; stroke-width: 1.5;\" x1=\"302\" x2=\"388\" y1=\"109.2969\" y2=\"109.2969\"/><text fill=\"#000000\" font-family=\"sans-serif\" font-size=\"14\" font-weight=\"bold\" lengthAdjust=\"spacingAndGlyphs\" textLength=\"73\" x=\"306\" y=\"101.9951\">Definitions</text></a><!--MD5=[f6df4d0ebaf0b5dfb2ced0ae5af7c670]\n",
       "cluster E4--><a href=\"psysml:f72b5ed2-7d34-4b16-a5c4-267d5b8a9efb\" target=\"_top\" title=\"psysml:f72b5ed2-7d34-4b16-a5c4-267d5b8a9efb\" xlink:actuate=\"onRequest\" xlink:href=\"psysml:f72b5ed2-7d34-4b16-a5c4-267d5b8a9efb\" xlink:show=\"new\" xlink:title=\"psysml:f72b5ed2-7d34-4b16-a5c4-267d5b8a9efb\" xlink:type=\"simple\"><polygon fill=\"#FFFFFF\" points=\"48,57,106,57,113,79.2969,202,79.2969,202,189,48,189,48,57\" style=\"stroke: #000000; stroke-width: 1.5;\"/><line style=\"stroke: #000000; stroke-width: 1.5;\" x1=\"48\" x2=\"113\" y1=\"79.2969\" y2=\"79.2969\"/><text fill=\"#000000\" font-family=\"sans-serif\" font-size=\"14\" font-weight=\"bold\" lengthAdjust=\"spacingAndGlyphs\" textLength=\"52\" x=\"52\" y=\"71.9951\">Usages</text></a><!--MD5=[09b614a08d8cba4a07c9adeb5e0fee81]\n",
       "class E3--><a href=\"psysml:5d1720bb-4632-462e-81a0-399c2024ebdc\" target=\"_top\" title=\"psysml:5d1720bb-4632-462e-81a0-399c2024ebdc\" xlink:actuate=\"onRequest\" xlink:href=\"psysml:5d1720bb-4632-462e-81a0-399c2024ebdc\" xlink:show=\"new\" xlink:title=\"psysml:5d1720bb-4632-462e-81a0-399c2024ebdc\" xlink:type=\"simple\"><rect fill=\"#FFFFFF\" height=\"45.9375\" id=\"E3\" style=\"stroke: #383838; stroke-width: 1.5;\" width=\"70\" x=\"318\" y=\"122\"/><text fill=\"#000000\" font-family=\"sans-serif\" font-size=\"12\" font-style=\"italic\" lengthAdjust=\"spacingAndGlyphs\" textLength=\"68\" x=\"319\" y=\"138.1387\">«part  def»</text><text fill=\"#000000\" font-family=\"sans-serif\" font-size=\"12\" lengthAdjust=\"spacingAndGlyphs\" textLength=\"45\" x=\"330.5\" y=\"152.1074\">Vehicle</text><line style=\"stroke: #383838; stroke-width: 1.5;\" x1=\"319\" x2=\"387\" y1=\"159.9375\" y2=\"159.9375\"/></a><!--MD5=[270fce915f116d4de14055a7c1d9a0f3]\n",
       "class E5--><a href=\"psysml:68b35502-f69c-477b-bf3e-22d420c63407\" target=\"_top\" title=\"psysml:68b35502-f69c-477b-bf3e-22d420c63407\" xlink:actuate=\"onRequest\" xlink:href=\"psysml:68b35502-f69c-477b-bf3e-22d420c63407\" xlink:show=\"new\" xlink:title=\"psysml:68b35502-f69c-477b-bf3e-22d420c63407\" xlink:type=\"simple\"><rect fill=\"#FFFFFF\" height=\"45.9375\" id=\"E5\" rx=\"10\" ry=\"10\" style=\"stroke: #383838; stroke-width: 1.5;\" width=\"106\" x=\"72\" y=\"100\"/><text fill=\"#000000\" font-family=\"sans-serif\" font-size=\"12\" font-style=\"italic\" lengthAdjust=\"spacingAndGlyphs\" textLength=\"40\" x=\"105\" y=\"116.1387\">«part»</text><text fill=\"#000000\" font-family=\"sans-serif\" font-size=\"12\" lengthAdjust=\"spacingAndGlyphs\" textLength=\"96\" x=\"75\" y=\"130.1074\">vehicle: Vehicle</text><line style=\"stroke: #383838; stroke-width: 1.5;\" x1=\"73\" x2=\"177\" y1=\"137.9375\" y2=\"137.9375\"/></a><!--MD5=[f0cdf4548168e5211fb3a02bf679d63a]\n",
       "link E4 to E3--><a href=\"psysml:3bf1490e-93ee-46db-b7d3-74f4b2a23de7\" target=\"_top\" title=\"psysml:3bf1490e-93ee-46db-b7d3-74f4b2a23de7\" xlink:actuate=\"onRequest\" xlink:href=\"psysml:3bf1490e-93ee-46db-b7d3-74f4b2a23de7\" xlink:show=\"new\" xlink:title=\"psysml:3bf1490e-93ee-46db-b7d3-74f4b2a23de7\" xlink:type=\"simple\"><path d=\"M202.5512,175.6038 C203.614,175.5 204.6821,175.3944 205.7552,175.2869 C214.3394,174.4273 223.2381,173.4495 232.2475,172.3403 C250.2662,170.1219 268.7275,167.3775 286,164 C294.79,162.28 304.1,159.94 312.87,157.48 \" fill=\"none\" id=\"E4-&gt;E3\" style=\"stroke: #383838; stroke-width: 1.0; stroke-dasharray: 7.0,7.0;\"/><polygon fill=\"#383838\" points=\"317.68,156.11,307.9274,154.7364,312.8724,157.4836,310.1252,162.4286,317.68,156.11\" style=\"stroke: #383838; stroke-width: 1.0;\"/><text fill=\"#000000\" font-family=\"sans-serif\" font-size=\"13\" lengthAdjust=\"spacingAndGlyphs\" textLength=\"58\" x=\"227\" y=\"160.0669\">«import»</text></a><!--MD5=[e9be52314489bd878ff4c7144b63c9e1]\n",
       "link E5 to E3--><a href=\"psysml:c8bdef6b-3f7a-4888-bf3f-9f853dc854f0\" target=\"_top\" title=\"psysml:c8bdef6b-3f7a-4888-bf3f-9f853dc854f0\" xlink:actuate=\"onRequest\" xlink:href=\"psysml:c8bdef6b-3f7a-4888-bf3f-9f853dc854f0\" xlink:show=\"new\" xlink:title=\"psysml:c8bdef6b-3f7a-4888-bf3f-9f853dc854f0\" xlink:type=\"simple\"><path d=\"M178.13,128.07 C213.9,131.56 261.27,136.17 297.52,139.7 \" fill=\"none\" id=\"E5-&gt;E3\" style=\"stroke: #383838; stroke-width: 1.0;\"/><polygon fill=\"#FFFFFF\" points=\"317.68,141.66,298.0937,146.7959,299.4432,132.8611,317.68,141.66\" style=\"stroke: #383838; stroke-width: 1.0;\"/><ellipse cx=\"292.6131\" cy=\"144.2558\" fill=\"#383838\" rx=\"2\" ry=\"2\" style=\"stroke: #383838; stroke-width: 1.0;\"/><ellipse cx=\"293.577\" cy=\"134.3024\" fill=\"#383838\" rx=\"2\" ry=\"2\" style=\"stroke: #383838; stroke-width: 1.0;\"/></a><!--MD5=[ca8c74919c94c9d4dce455c2d16c18cb]\n",
       "@startuml\r\n",
       "left to right direction\r\n",
       "skinparam monochrome true\r\n",
       "skinparam classbackgroundcolor white\r\n",
       "skinparam shadowing false\r\n",
       "skinparam wrapWidth 300\r\n",
       "hide circle\r\n",
       "\r\n",
       "package \"AliasImport\" as E1  [[psysml:82c5726b-cb9a-46c4-b6fc-24bdfc4818ff ]]  {\r\n",
       "package \"Definitions\" as E2  [[psysml:b1455dfe-9c7f-45c5-9354-49cb3cd9f952 ]]  {\r\n",
       "comp def \"Vehicle\" as E3  <<(T,blue) part  def>> [[psysml:5d1720bb-4632-462e-81a0-399c2024ebdc ]] {\r\n",
       "}\r\n",
       "}\r\n",
       "package \"Usages\" as E4  [[psysml:f72b5ed2-7d34-4b16-a5c4-267d5b8a9efb ]]  {\r\n",
       "comp usage \"vehicle: Vehicle \" as E5  <<(T,blue) part>> [[psysml:68b35502-f69c-477b-bf3e-22d420c63407 ]] {\r\n",
       "}\r\n",
       "}\r\n",
       "}\r\n",
       "E4 ..> E3 [[psysml:3bf1490e-93ee-46db-b7d3-74f4b2a23de7 ]] : <<import>>\r\n",
       "E5 - -:|> E3 [[psysml:c8bdef6b-3f7a-4888-bf3f-9f853dc854f0 ]] \r\n",
       "@enduml\r\n",
       "\n",
       "PlantUML version 1.2020.13(Sat Jun 13 12:26:38 UTC 2020)\n",
       "(EPL source distribution)\n",
       "Java Runtime: OpenJDK Runtime Environment\n",
       "JVM: OpenJDK 64-Bit Server VM\n",
       "Default Encoding: UTF-8\n",
       "Language: en\n",
       "Country: null\n",
       "--></g></svg>"
      ]
     },
     "execution_count": 22,
     "metadata": {},
     "output_type": "execute_result"
    }
   ],
   "source": [
    "%viz --style=\"LR\" --view=\"MIXED\" \"AliasImport\""
   ]
  },
  {
   "cell_type": "code",
   "execution_count": 23,
   "id": "7a2661c5",
   "metadata": {
    "execution": {
     "iopub.execute_input": "2022-04-22T09:52:17.878277Z",
     "iopub.status.busy": "2022-04-22T09:52:17.877869Z",
     "iopub.status.idle": "2022-04-22T09:52:17.909244Z",
     "shell.execute_reply": "2022-04-22T09:52:17.908883Z"
    }
   },
   "outputs": [
    {
     "data": {
      "image/svg+xml": [
       "<?xml version=\"1.0\" encoding=\"UTF-8\" standalone=\"no\"?><svg xmlns=\"http://www.w3.org/2000/svg\" xmlns:xlink=\"http://www.w3.org/1999/xlink\" contentScriptType=\"application/ecmascript\" contentStyleType=\"text/css\" height=\"360px\" preserveAspectRatio=\"none\" style=\"width:275px;height:360px;\" version=\"1.1\" viewBox=\"0 0 275 360\" width=\"275px\" zoomAndPan=\"magnify\"><defs><filter height=\"300%\" id=\"fspq7sgmnnwtf\" width=\"300%\" x=\"-1\" y=\"-1\"><feGaussianBlur result=\"blurOut\" stdDeviation=\"2.0\"/><feColorMatrix in=\"blurOut\" result=\"blurOut2\" type=\"matrix\" values=\"0 0 0 0 0 0 0 0 0 0 0 0 0 0 0 0 0 0 .4 0\"/><feOffset dx=\"4.0\" dy=\"4.0\" in=\"blurOut2\" result=\"blurOut3\"/><feBlend in=\"SourceGraphic\" in2=\"blurOut3\" mode=\"normal\"/></filter></defs><g><!--MD5=[fbc87193dbaf4d95561dea2c320d4a47]\n",
       "cluster E1--><a href=\"psysml:82c5726b-cb9a-46c4-b6fc-24bdfc4818ff\" target=\"_top\" title=\"psysml:82c5726b-cb9a-46c4-b6fc-24bdfc4818ff\" xlink:actuate=\"onRequest\" xlink:href=\"psysml:82c5726b-cb9a-46c4-b6fc-24bdfc4818ff\" xlink:show=\"new\" xlink:title=\"psysml:82c5726b-cb9a-46c4-b6fc-24bdfc4818ff\" xlink:type=\"simple\"><polygon fill=\"#FFFFFF\" filter=\"url(#fspq7sgmnnwtf)\" points=\"16,6,97,6,104,28.2969,253,28.2969,253,348,16,348,16,6\" style=\"stroke: #000000; stroke-width: 1.5;\"/><line style=\"stroke: #000000; stroke-width: 1.5;\" x1=\"16\" x2=\"104\" y1=\"28.2969\" y2=\"28.2969\"/><text fill=\"#000000\" font-family=\"sans-serif\" font-size=\"14\" font-weight=\"bold\" lengthAdjust=\"spacingAndGlyphs\" textLength=\"75\" x=\"20\" y=\"20.9951\">AliasImport</text></a><!--MD5=[e4f7fae6ed58524ba242bb0b0d3be6b7]\n",
       "cluster E2--><a href=\"psysml:b1455dfe-9c7f-45c5-9354-49cb3cd9f952\" target=\"_top\" title=\"psysml:b1455dfe-9c7f-45c5-9354-49cb3cd9f952\" xlink:actuate=\"onRequest\" xlink:href=\"psysml:b1455dfe-9c7f-45c5-9354-49cb3cd9f952\" xlink:show=\"new\" xlink:title=\"psysml:b1455dfe-9c7f-45c5-9354-49cb3cd9f952\" xlink:type=\"simple\"><polygon fill=\"#FFFFFF\" filter=\"url(#fspq7sgmnnwtf)\" points=\"65,227,144,227,151,249.2969,167,249.2969,167,324,65,324,65,227\" style=\"stroke: #000000; stroke-width: 1.5;\"/><line style=\"stroke: #000000; stroke-width: 1.5;\" x1=\"65\" x2=\"151\" y1=\"249.2969\" y2=\"249.2969\"/><text fill=\"#000000\" font-family=\"sans-serif\" font-size=\"14\" font-weight=\"bold\" lengthAdjust=\"spacingAndGlyphs\" textLength=\"73\" x=\"69\" y=\"241.9951\">Definitions</text></a><!--MD5=[f6df4d0ebaf0b5dfb2ced0ae5af7c670]\n",
       "cluster E4--><a href=\"psysml:f72b5ed2-7d34-4b16-a5c4-267d5b8a9efb\" target=\"_top\" title=\"psysml:f72b5ed2-7d34-4b16-a5c4-267d5b8a9efb\" xlink:actuate=\"onRequest\" xlink:href=\"psysml:f72b5ed2-7d34-4b16-a5c4-267d5b8a9efb\" xlink:show=\"new\" xlink:title=\"psysml:f72b5ed2-7d34-4b16-a5c4-267d5b8a9efb\" xlink:type=\"simple\"><polygon fill=\"#FFFFFF\" filter=\"url(#fspq7sgmnnwtf)\" points=\"48,57,106,57,113,79.2969,221,79.2969,221,170,48,170,48,57\" style=\"stroke: #000000; stroke-width: 1.5;\"/><line style=\"stroke: #000000; stroke-width: 1.5;\" x1=\"48\" x2=\"113\" y1=\"79.2969\" y2=\"79.2969\"/><text fill=\"#000000\" font-family=\"sans-serif\" font-size=\"14\" font-weight=\"bold\" lengthAdjust=\"spacingAndGlyphs\" textLength=\"52\" x=\"52\" y=\"71.9951\">Usages</text></a><!--MD5=[09b614a08d8cba4a07c9adeb5e0fee81]\n",
       "class E3--><a href=\"psysml:5d1720bb-4632-462e-81a0-399c2024ebdc\" target=\"_top\" title=\"psysml:5d1720bb-4632-462e-81a0-399c2024ebdc\" xlink:actuate=\"onRequest\" xlink:href=\"psysml:5d1720bb-4632-462e-81a0-399c2024ebdc\" xlink:show=\"new\" xlink:title=\"psysml:5d1720bb-4632-462e-81a0-399c2024ebdc\" xlink:type=\"simple\"><rect fill=\"#FEFECE\" filter=\"url(#fspq7sgmnnwtf)\" height=\"45.9375\" id=\"E3\" style=\"stroke: #A80036; stroke-width: 1.5;\" width=\"70\" x=\"81\" y=\"262\"/><text fill=\"#000000\" font-family=\"sans-serif\" font-size=\"12\" font-style=\"italic\" lengthAdjust=\"spacingAndGlyphs\" textLength=\"68\" x=\"82\" y=\"278.1387\">«part  def»</text><text fill=\"#000000\" font-family=\"sans-serif\" font-size=\"12\" lengthAdjust=\"spacingAndGlyphs\" textLength=\"45\" x=\"93.5\" y=\"292.1074\">Vehicle</text><line style=\"stroke: #A80036; stroke-width: 1.5;\" x1=\"82\" x2=\"150\" y1=\"299.9375\" y2=\"299.9375\"/></a><!--MD5=[270fce915f116d4de14055a7c1d9a0f3]\n",
       "class E5--><a href=\"psysml:68b35502-f69c-477b-bf3e-22d420c63407\" target=\"_top\" title=\"psysml:68b35502-f69c-477b-bf3e-22d420c63407\" xlink:actuate=\"onRequest\" xlink:href=\"psysml:68b35502-f69c-477b-bf3e-22d420c63407\" xlink:show=\"new\" xlink:title=\"psysml:68b35502-f69c-477b-bf3e-22d420c63407\" xlink:type=\"simple\"><rect fill=\"#FEFECE\" filter=\"url(#fspq7sgmnnwtf)\" height=\"45.9375\" id=\"E5\" rx=\"10\" ry=\"10\" style=\"stroke: #A80036; stroke-width: 1.5;\" width=\"106\" x=\"91\" y=\"100\"/><text fill=\"#000000\" font-family=\"sans-serif\" font-size=\"12\" font-style=\"italic\" lengthAdjust=\"spacingAndGlyphs\" textLength=\"40\" x=\"124\" y=\"116.1387\">«part»</text><text fill=\"#000000\" font-family=\"sans-serif\" font-size=\"12\" lengthAdjust=\"spacingAndGlyphs\" textLength=\"96\" x=\"94\" y=\"130.1074\">vehicle: Vehicle</text><line style=\"stroke: #A80036; stroke-width: 1.5;\" x1=\"92\" x2=\"196\" y1=\"137.9375\" y2=\"137.9375\"/></a><!--MD5=[f0cdf4548168e5211fb3a02bf679d63a]\n",
       "link E4 to E3--><a href=\"psysml:3bf1490e-93ee-46db-b7d3-74f4b2a23de7\" target=\"_top\" title=\"psysml:3bf1490e-93ee-46db-b7d3-74f4b2a23de7\" xlink:actuate=\"onRequest\" xlink:href=\"psysml:3bf1490e-93ee-46db-b7d3-74f4b2a23de7\" xlink:show=\"new\" xlink:title=\"psysml:3bf1490e-93ee-46db-b7d3-74f4b2a23de7\" xlink:type=\"simple\"><path d=\"M58.5005,170.0549 C58.5193,170.2001 58.5383,170.3454 58.5574,170.4908 C58.6338,171.0725 58.7124,171.6562 58.7932,172.2415 C58.9548,173.4122 59.1253,174.5898 59.3052,175.7725 C59.6651,178.1379 60.0625,180.5238 60.5014,182.9158 C62.2569,192.4838 64.675,202.15 68,211 C74.23,227.58 84.77,244.23 94.38,257.43 \" fill=\"none\" id=\"E4-&gt;E3\" style=\"stroke: #A80036; stroke-width: 1.0; stroke-dasharray: 7.0,7.0;\"/><polygon fill=\"#A80036\" points=\"97.6,261.77,95.4384,252.1613,94.616,257.758,89.0193,256.9357,97.6,261.77\" style=\"stroke: #A80036; stroke-width: 1.0;\"/><text fill=\"#000000\" font-family=\"sans-serif\" font-size=\"13\" lengthAdjust=\"spacingAndGlyphs\" textLength=\"58\" x=\"69\" y=\"207.0669\">«import»</text></a><!--MD5=[e9be52314489bd878ff4c7144b63c9e1]\n",
       "link E5 to E3--><a href=\"psysml:c8bdef6b-3f7a-4888-bf3f-9f853dc854f0\" target=\"_top\" title=\"psysml:c8bdef6b-3f7a-4888-bf3f-9f853dc854f0\" xlink:actuate=\"onRequest\" xlink:href=\"psysml:c8bdef6b-3f7a-4888-bf3f-9f853dc854f0\" xlink:show=\"new\" xlink:title=\"psysml:c8bdef6b-3f7a-4888-bf3f-9f853dc854f0\" xlink:type=\"simple\"><path d=\"M143.03,146.32 C142,163.98 139.95,189.21 136,211 C134.13,221.29 131.49,232.23 128.74,242.43 \" fill=\"none\" id=\"E5-&gt;E3\" style=\"stroke: #A80036; stroke-width: 1.0;\"/><polygon fill=\"#FFFFFF\" points=\"123.15,261.87,121.6727,241.6755,135.1276,245.544,123.15,261.87\" style=\"stroke: #A80036; stroke-width: 1.0;\"/><ellipse cx=\"125.1699\" cy=\"236.7501\" fill=\"#A80036\" rx=\"2\" ry=\"2\" style=\"stroke: #A80036; stroke-width: 1.0;\"/><ellipse cx=\"134.7805\" cy=\"239.5133\" fill=\"#A80036\" rx=\"2\" ry=\"2\" style=\"stroke: #A80036; stroke-width: 1.0;\"/></a><!--MD5=[60f111f6feac1525464dd12d0c76a581]\n",
       "@startuml\r\n",
       "skinparam wrapWidth 300\r\n",
       "hide circle\r\n",
       "\r\n",
       "package \"AliasImport\" as E1  [[psysml:82c5726b-cb9a-46c4-b6fc-24bdfc4818ff ]]  {\r\n",
       "package \"Definitions\" as E2  [[psysml:b1455dfe-9c7f-45c5-9354-49cb3cd9f952 ]]  {\r\n",
       "comp def \"Vehicle\" as E3  <<(T,blue) part  def>> [[psysml:5d1720bb-4632-462e-81a0-399c2024ebdc ]] {\r\n",
       "}\r\n",
       "}\r\n",
       "package \"Usages\" as E4  [[psysml:f72b5ed2-7d34-4b16-a5c4-267d5b8a9efb ]]  {\r\n",
       "comp usage \"vehicle: Vehicle \" as E5  <<(T,blue) part>> [[psysml:68b35502-f69c-477b-bf3e-22d420c63407 ]] {\r\n",
       "}\r\n",
       "}\r\n",
       "}\r\n",
       "E4 ..> E3 [[psysml:3bf1490e-93ee-46db-b7d3-74f4b2a23de7 ]] : <<import>>\r\n",
       "E5 - -:|> E3 [[psysml:c8bdef6b-3f7a-4888-bf3f-9f853dc854f0 ]] \r\n",
       "@enduml\r\n",
       "\n",
       "PlantUML version 1.2020.13(Sat Jun 13 12:26:38 UTC 2020)\n",
       "(EPL source distribution)\n",
       "Java Runtime: OpenJDK Runtime Environment\n",
       "JVM: OpenJDK 64-Bit Server VM\n",
       "Default Encoding: UTF-8\n",
       "Language: en\n",
       "Country: null\n",
       "--></g></svg>"
      ]
     },
     "execution_count": 23,
     "metadata": {},
     "output_type": "execute_result"
    }
   ],
   "source": [
    "%viz --style=\"STDCOLOR\" --view=\"Default\" \"AliasImport\""
   ]
  },
  {
   "cell_type": "code",
   "execution_count": 24,
   "id": "1cf67f8d",
   "metadata": {
    "execution": {
     "iopub.execute_input": "2022-04-22T09:52:17.959009Z",
     "iopub.status.busy": "2022-04-22T09:52:17.958610Z",
     "iopub.status.idle": "2022-04-22T09:52:17.989697Z",
     "shell.execute_reply": "2022-04-22T09:52:17.989307Z"
    }
   },
   "outputs": [
    {
     "data": {
      "image/svg+xml": [
       "<?xml version=\"1.0\" encoding=\"UTF-8\" standalone=\"no\"?><svg xmlns=\"http://www.w3.org/2000/svg\" xmlns:xlink=\"http://www.w3.org/1999/xlink\" contentScriptType=\"application/ecmascript\" contentStyleType=\"text/css\" height=\"360px\" preserveAspectRatio=\"none\" style=\"width:275px;height:360px;\" version=\"1.1\" viewBox=\"0 0 275 360\" width=\"275px\" zoomAndPan=\"magnify\"><defs><filter height=\"300%\" id=\"fspq7sgmnnwtf\" width=\"300%\" x=\"-1\" y=\"-1\"><feGaussianBlur result=\"blurOut\" stdDeviation=\"2.0\"/><feColorMatrix in=\"blurOut\" result=\"blurOut2\" type=\"matrix\" values=\"0 0 0 0 0 0 0 0 0 0 0 0 0 0 0 0 0 0 .4 0\"/><feOffset dx=\"4.0\" dy=\"4.0\" in=\"blurOut2\" result=\"blurOut3\"/><feBlend in=\"SourceGraphic\" in2=\"blurOut3\" mode=\"normal\"/></filter></defs><g><!--MD5=[fbc87193dbaf4d95561dea2c320d4a47]\n",
       "cluster E1--><a href=\"psysml:82c5726b-cb9a-46c4-b6fc-24bdfc4818ff\" target=\"_top\" title=\"psysml:82c5726b-cb9a-46c4-b6fc-24bdfc4818ff\" xlink:actuate=\"onRequest\" xlink:href=\"psysml:82c5726b-cb9a-46c4-b6fc-24bdfc4818ff\" xlink:show=\"new\" xlink:title=\"psysml:82c5726b-cb9a-46c4-b6fc-24bdfc4818ff\" xlink:type=\"simple\"><polygon fill=\"#FFFFFF\" filter=\"url(#fspq7sgmnnwtf)\" points=\"16,6,97,6,104,28.2969,253,28.2969,253,348,16,348,16,6\" style=\"stroke: #000000; stroke-width: 1.5;\"/><line style=\"stroke: #000000; stroke-width: 1.5;\" x1=\"16\" x2=\"104\" y1=\"28.2969\" y2=\"28.2969\"/><text fill=\"#000000\" font-family=\"sans-serif\" font-size=\"14\" font-weight=\"bold\" lengthAdjust=\"spacingAndGlyphs\" textLength=\"75\" x=\"20\" y=\"20.9951\">AliasImport</text></a><!--MD5=[e4f7fae6ed58524ba242bb0b0d3be6b7]\n",
       "cluster E2--><a href=\"psysml:b1455dfe-9c7f-45c5-9354-49cb3cd9f952\" target=\"_top\" title=\"psysml:b1455dfe-9c7f-45c5-9354-49cb3cd9f952\" xlink:actuate=\"onRequest\" xlink:href=\"psysml:b1455dfe-9c7f-45c5-9354-49cb3cd9f952\" xlink:show=\"new\" xlink:title=\"psysml:b1455dfe-9c7f-45c5-9354-49cb3cd9f952\" xlink:type=\"simple\"><polygon fill=\"#FFFFFF\" filter=\"url(#fspq7sgmnnwtf)\" points=\"65,227,144,227,151,249.2969,167,249.2969,167,324,65,324,65,227\" style=\"stroke: #000000; stroke-width: 1.5;\"/><line style=\"stroke: #000000; stroke-width: 1.5;\" x1=\"65\" x2=\"151\" y1=\"249.2969\" y2=\"249.2969\"/><text fill=\"#000000\" font-family=\"sans-serif\" font-size=\"14\" font-weight=\"bold\" lengthAdjust=\"spacingAndGlyphs\" textLength=\"73\" x=\"69\" y=\"241.9951\">Definitions</text></a><!--MD5=[f6df4d0ebaf0b5dfb2ced0ae5af7c670]\n",
       "cluster E4--><a href=\"psysml:f72b5ed2-7d34-4b16-a5c4-267d5b8a9efb\" target=\"_top\" title=\"psysml:f72b5ed2-7d34-4b16-a5c4-267d5b8a9efb\" xlink:actuate=\"onRequest\" xlink:href=\"psysml:f72b5ed2-7d34-4b16-a5c4-267d5b8a9efb\" xlink:show=\"new\" xlink:title=\"psysml:f72b5ed2-7d34-4b16-a5c4-267d5b8a9efb\" xlink:type=\"simple\"><polygon fill=\"#FFFFFF\" filter=\"url(#fspq7sgmnnwtf)\" points=\"48,57,106,57,113,79.2969,221,79.2969,221,170,48,170,48,57\" style=\"stroke: #000000; stroke-width: 1.5;\"/><line style=\"stroke: #000000; stroke-width: 1.5;\" x1=\"48\" x2=\"113\" y1=\"79.2969\" y2=\"79.2969\"/><text fill=\"#000000\" font-family=\"sans-serif\" font-size=\"14\" font-weight=\"bold\" lengthAdjust=\"spacingAndGlyphs\" textLength=\"52\" x=\"52\" y=\"71.9951\">Usages</text></a><!--MD5=[09b614a08d8cba4a07c9adeb5e0fee81]\n",
       "class E3--><a href=\"psysml:5d1720bb-4632-462e-81a0-399c2024ebdc\" target=\"_top\" title=\"psysml:5d1720bb-4632-462e-81a0-399c2024ebdc\" xlink:actuate=\"onRequest\" xlink:href=\"psysml:5d1720bb-4632-462e-81a0-399c2024ebdc\" xlink:show=\"new\" xlink:title=\"psysml:5d1720bb-4632-462e-81a0-399c2024ebdc\" xlink:type=\"simple\"><rect fill=\"#FEFECE\" filter=\"url(#fspq7sgmnnwtf)\" height=\"45.9375\" id=\"E3\" style=\"stroke: #A80036; stroke-width: 1.5;\" width=\"70\" x=\"81\" y=\"262\"/><text fill=\"#000000\" font-family=\"sans-serif\" font-size=\"12\" font-style=\"italic\" lengthAdjust=\"spacingAndGlyphs\" textLength=\"68\" x=\"82\" y=\"278.1387\">«part  def»</text><text fill=\"#000000\" font-family=\"sans-serif\" font-size=\"12\" lengthAdjust=\"spacingAndGlyphs\" textLength=\"45\" x=\"93.5\" y=\"292.1074\">Vehicle</text><line style=\"stroke: #A80036; stroke-width: 1.5;\" x1=\"82\" x2=\"150\" y1=\"299.9375\" y2=\"299.9375\"/></a><!--MD5=[270fce915f116d4de14055a7c1d9a0f3]\n",
       "class E5--><a href=\"psysml:68b35502-f69c-477b-bf3e-22d420c63407\" target=\"_top\" title=\"psysml:68b35502-f69c-477b-bf3e-22d420c63407\" xlink:actuate=\"onRequest\" xlink:href=\"psysml:68b35502-f69c-477b-bf3e-22d420c63407\" xlink:show=\"new\" xlink:title=\"psysml:68b35502-f69c-477b-bf3e-22d420c63407\" xlink:type=\"simple\"><rect fill=\"#FEFECE\" filter=\"url(#fspq7sgmnnwtf)\" height=\"45.9375\" id=\"E5\" rx=\"10\" ry=\"10\" style=\"stroke: #A80036; stroke-width: 1.5;\" width=\"106\" x=\"91\" y=\"100\"/><text fill=\"#000000\" font-family=\"sans-serif\" font-size=\"12\" font-style=\"italic\" lengthAdjust=\"spacingAndGlyphs\" textLength=\"40\" x=\"124\" y=\"116.1387\">«part»</text><text fill=\"#000000\" font-family=\"sans-serif\" font-size=\"12\" lengthAdjust=\"spacingAndGlyphs\" textLength=\"96\" x=\"94\" y=\"130.1074\">vehicle: Vehicle</text><line style=\"stroke: #A80036; stroke-width: 1.5;\" x1=\"92\" x2=\"196\" y1=\"137.9375\" y2=\"137.9375\"/></a><!--MD5=[f0cdf4548168e5211fb3a02bf679d63a]\n",
       "link E4 to E3--><a href=\"psysml:3bf1490e-93ee-46db-b7d3-74f4b2a23de7\" target=\"_top\" title=\"psysml:3bf1490e-93ee-46db-b7d3-74f4b2a23de7\" xlink:actuate=\"onRequest\" xlink:href=\"psysml:3bf1490e-93ee-46db-b7d3-74f4b2a23de7\" xlink:show=\"new\" xlink:title=\"psysml:3bf1490e-93ee-46db-b7d3-74f4b2a23de7\" xlink:type=\"simple\"><path d=\"M58.5005,170.0549 C58.5193,170.2001 58.5383,170.3454 58.5574,170.4908 C58.6338,171.0725 58.7124,171.6562 58.7932,172.2415 C58.9548,173.4122 59.1253,174.5898 59.3052,175.7725 C59.6651,178.1379 60.0625,180.5238 60.5014,182.9158 C62.2569,192.4838 64.675,202.15 68,211 C74.23,227.58 84.77,244.23 94.38,257.43 \" fill=\"none\" id=\"E4-&gt;E3\" style=\"stroke: #A80036; stroke-width: 1.0; stroke-dasharray: 7.0,7.0;\"/><polygon fill=\"#A80036\" points=\"97.6,261.77,95.4384,252.1613,94.616,257.758,89.0193,256.9357,97.6,261.77\" style=\"stroke: #A80036; stroke-width: 1.0;\"/><text fill=\"#000000\" font-family=\"sans-serif\" font-size=\"13\" lengthAdjust=\"spacingAndGlyphs\" textLength=\"58\" x=\"69\" y=\"207.0669\">«import»</text></a><!--MD5=[e9be52314489bd878ff4c7144b63c9e1]\n",
       "link E5 to E3--><a href=\"psysml:c8bdef6b-3f7a-4888-bf3f-9f853dc854f0\" target=\"_top\" title=\"psysml:c8bdef6b-3f7a-4888-bf3f-9f853dc854f0\" xlink:actuate=\"onRequest\" xlink:href=\"psysml:c8bdef6b-3f7a-4888-bf3f-9f853dc854f0\" xlink:show=\"new\" xlink:title=\"psysml:c8bdef6b-3f7a-4888-bf3f-9f853dc854f0\" xlink:type=\"simple\"><path d=\"M143.03,146.32 C142,163.98 139.95,189.21 136,211 C134.13,221.29 131.49,232.23 128.74,242.43 \" fill=\"none\" id=\"E5-&gt;E3\" style=\"stroke: #A80036; stroke-width: 1.0;\"/><polygon fill=\"#FFFFFF\" points=\"123.15,261.87,121.6727,241.6755,135.1276,245.544,123.15,261.87\" style=\"stroke: #A80036; stroke-width: 1.0;\"/><ellipse cx=\"125.1699\" cy=\"236.7501\" fill=\"#A80036\" rx=\"2\" ry=\"2\" style=\"stroke: #A80036; stroke-width: 1.0;\"/><ellipse cx=\"134.7805\" cy=\"239.5133\" fill=\"#A80036\" rx=\"2\" ry=\"2\" style=\"stroke: #A80036; stroke-width: 1.0;\"/></a><!--MD5=[60f111f6feac1525464dd12d0c76a581]\n",
       "@startuml\r\n",
       "skinparam wrapWidth 300\r\n",
       "hide circle\r\n",
       "\r\n",
       "package \"AliasImport\" as E1  [[psysml:82c5726b-cb9a-46c4-b6fc-24bdfc4818ff ]]  {\r\n",
       "package \"Definitions\" as E2  [[psysml:b1455dfe-9c7f-45c5-9354-49cb3cd9f952 ]]  {\r\n",
       "comp def \"Vehicle\" as E3  <<(T,blue) part  def>> [[psysml:5d1720bb-4632-462e-81a0-399c2024ebdc ]] {\r\n",
       "}\r\n",
       "}\r\n",
       "package \"Usages\" as E4  [[psysml:f72b5ed2-7d34-4b16-a5c4-267d5b8a9efb ]]  {\r\n",
       "comp usage \"vehicle: Vehicle \" as E5  <<(T,blue) part>> [[psysml:68b35502-f69c-477b-bf3e-22d420c63407 ]] {\r\n",
       "}\r\n",
       "}\r\n",
       "}\r\n",
       "E4 ..> E3 [[psysml:3bf1490e-93ee-46db-b7d3-74f4b2a23de7 ]] : <<import>>\r\n",
       "E5 - -:|> E3 [[psysml:c8bdef6b-3f7a-4888-bf3f-9f853dc854f0 ]] \r\n",
       "@enduml\r\n",
       "\n",
       "PlantUML version 1.2020.13(Sat Jun 13 12:26:38 UTC 2020)\n",
       "(EPL source distribution)\n",
       "Java Runtime: OpenJDK Runtime Environment\n",
       "JVM: OpenJDK 64-Bit Server VM\n",
       "Default Encoding: UTF-8\n",
       "Language: en\n",
       "Country: null\n",
       "--></g></svg>"
      ]
     },
     "execution_count": 24,
     "metadata": {},
     "output_type": "execute_result"
    }
   ],
   "source": [
    "%viz --style=\"STDCOLOR\" --view=\"Tree\" \"AliasImport\""
   ]
  },
  {
   "cell_type": "code",
   "execution_count": 25,
   "id": "b95c31b2",
   "metadata": {
    "execution": {
     "iopub.execute_input": "2022-04-22T09:52:18.039440Z",
     "iopub.status.busy": "2022-04-22T09:52:18.039025Z",
     "iopub.status.idle": "2022-04-22T09:52:18.044048Z",
     "shell.execute_reply": "2022-04-22T09:52:18.044365Z"
    }
   },
   "outputs": [
    {
     "data": {
      "image/svg+xml": [
       "<?xml version=\"1.0\" encoding=\"UTF-8\" standalone=\"no\"?><svg xmlns=\"http://www.w3.org/2000/svg\" xmlns:xlink=\"http://www.w3.org/1999/xlink\" contentScriptType=\"application/ecmascript\" contentStyleType=\"text/css\" height=\"12px\" preserveAspectRatio=\"none\" style=\"width:12px;height:12px;\" version=\"1.1\" viewBox=\"0 0 12 12\" width=\"12px\" zoomAndPan=\"magnify\"><defs/><g><!--MD5=[aeeef50f102b80d730deb6443d14f702]\n",
       "@startuml\r\n",
       "skinparam wrapWidth 300\r\n",
       "hide circle\r\n",
       "\r\n",
       "@enduml\r\n",
       "\n",
       "PlantUML version 1.2020.13(Sat Jun 13 12:26:38 UTC 2020)\n",
       "(EPL source distribution)\n",
       "Java Runtime: OpenJDK Runtime Environment\n",
       "JVM: OpenJDK 64-Bit Server VM\n",
       "Default Encoding: UTF-8\n",
       "Language: en\n",
       "Country: null\n",
       "--></g></svg>"
      ]
     },
     "execution_count": 25,
     "metadata": {},
     "output_type": "execute_result"
    }
   ],
   "source": [
    "%viz --style=\"STDCOLOR\" --view=\"State\" \"AliasImport\""
   ]
  },
  {
   "cell_type": "code",
   "execution_count": 26,
   "id": "6feda96d",
   "metadata": {
    "execution": {
     "iopub.execute_input": "2022-04-22T09:52:18.094551Z",
     "iopub.status.busy": "2022-04-22T09:52:18.094141Z",
     "iopub.status.idle": "2022-04-22T09:52:18.125495Z",
     "shell.execute_reply": "2022-04-22T09:52:18.125134Z"
    }
   },
   "outputs": [
    {
     "data": {
      "image/svg+xml": [
       "<?xml version=\"1.0\" encoding=\"UTF-8\" standalone=\"no\"?><svg xmlns=\"http://www.w3.org/2000/svg\" xmlns:xlink=\"http://www.w3.org/1999/xlink\" contentScriptType=\"application/ecmascript\" contentStyleType=\"text/css\" height=\"351px\" preserveAspectRatio=\"none\" style=\"width:302px;height:351px;\" version=\"1.1\" viewBox=\"0 0 302 351\" width=\"302px\" zoomAndPan=\"magnify\"><defs><filter height=\"300%\" id=\"fy9hyttkyzm80\" width=\"300%\" x=\"-1\" y=\"-1\"><feGaussianBlur result=\"blurOut\" stdDeviation=\"2.0\"/><feColorMatrix in=\"blurOut\" result=\"blurOut2\" type=\"matrix\" values=\"0 0 0 0 0 0 0 0 0 0 0 0 0 0 0 0 0 0 .4 0\"/><feOffset dx=\"4.0\" dy=\"4.0\" in=\"blurOut2\" result=\"blurOut3\"/><feBlend in=\"SourceGraphic\" in2=\"blurOut3\" mode=\"normal\"/></filter></defs><g><!--MD5=[fbc87193dbaf4d95561dea2c320d4a47]\n",
       "cluster E1--><a href=\"psysml:82c5726b-cb9a-46c4-b6fc-24bdfc4818ff\" target=\"_top\" title=\"psysml:82c5726b-cb9a-46c4-b6fc-24bdfc4818ff\" xlink:actuate=\"onRequest\" xlink:href=\"psysml:82c5726b-cb9a-46c4-b6fc-24bdfc4818ff\" xlink:show=\"new\" xlink:title=\"psysml:82c5726b-cb9a-46c4-b6fc-24bdfc4818ff\" xlink:type=\"simple\"><polygon fill=\"#FFFFFF\" filter=\"url(#fy9hyttkyzm80)\" points=\"16,6,97,6,104,28.2969,280,28.2969,280,339,16,339,16,6\" style=\"stroke: #000000; stroke-width: 1.5;\"/><line style=\"stroke: #000000; stroke-width: 1.5;\" x1=\"16\" x2=\"104\" y1=\"28.2969\" y2=\"28.2969\"/><text fill=\"#000000\" font-family=\"sans-serif\" font-size=\"14\" font-weight=\"bold\" lengthAdjust=\"spacingAndGlyphs\" textLength=\"75\" x=\"20\" y=\"20.9951\">AliasImport</text></a><!--MD5=[e4f7fae6ed58524ba242bb0b0d3be6b7]\n",
       "cluster E2--><a href=\"psysml:b1455dfe-9c7f-45c5-9354-49cb3cd9f952\" target=\"_top\" title=\"psysml:b1455dfe-9c7f-45c5-9354-49cb3cd9f952\" xlink:actuate=\"onRequest\" xlink:href=\"psysml:b1455dfe-9c7f-45c5-9354-49cb3cd9f952\" xlink:show=\"new\" xlink:title=\"psysml:b1455dfe-9c7f-45c5-9354-49cb3cd9f952\" xlink:type=\"simple\"><polygon fill=\"#FFFFFF\" filter=\"url(#fy9hyttkyzm80)\" points=\"40,221,119,221,126,243.2969,256,243.2969,256,315,40,315,40,221\" style=\"stroke: #000000; stroke-width: 1.5;\"/><line style=\"stroke: #000000; stroke-width: 1.5;\" x1=\"40\" x2=\"126\" y1=\"243.2969\" y2=\"243.2969\"/><text fill=\"#000000\" font-family=\"sans-serif\" font-size=\"14\" font-weight=\"bold\" lengthAdjust=\"spacingAndGlyphs\" textLength=\"73\" x=\"44\" y=\"235.9951\">Definitions</text></a><!--MD5=[de5ec2e2e8f62f467e546659f5068c88]\n",
       "cluster E5--><a href=\"psysml:f72b5ed2-7d34-4b16-a5c4-267d5b8a9efb\" target=\"_top\" title=\"psysml:f72b5ed2-7d34-4b16-a5c4-267d5b8a9efb\" xlink:actuate=\"onRequest\" xlink:href=\"psysml:f72b5ed2-7d34-4b16-a5c4-267d5b8a9efb\" xlink:show=\"new\" xlink:title=\"psysml:f72b5ed2-7d34-4b16-a5c4-267d5b8a9efb\" xlink:type=\"simple\"><polygon fill=\"#FFFFFF\" filter=\"url(#fy9hyttkyzm80)\" points=\"56,57,114,57,121,79.2969,230,79.2969,230,164,56,164,56,57\" style=\"stroke: #000000; stroke-width: 1.5;\"/><line style=\"stroke: #000000; stroke-width: 1.5;\" x1=\"56\" x2=\"121\" y1=\"79.2969\" y2=\"79.2969\"/><text fill=\"#000000\" font-family=\"sans-serif\" font-size=\"14\" font-weight=\"bold\" lengthAdjust=\"spacingAndGlyphs\" textLength=\"52\" x=\"60\" y=\"71.9951\">Usages</text></a><g id=\"E1.E2.E3\"><a href=\"psysml:5d1720bb-4632-462e-81a0-399c2024ebdc\" target=\"_top\" title=\"psysml:5d1720bb-4632-462e-81a0-399c2024ebdc\" xlink:actuate=\"onRequest\" xlink:href=\"psysml:5d1720bb-4632-462e-81a0-399c2024ebdc\" xlink:show=\"new\" xlink:title=\"psysml:5d1720bb-4632-462e-81a0-399c2024ebdc\" xlink:type=\"simple\"><rect fill=\"#FEFECE\" filter=\"url(#fy9hyttkyzm80)\" height=\"42.9375\" id=\"E3\" style=\"stroke: #A80036; stroke-width: 1.5;\" width=\"75\" x=\"165.5\" y=\"256\"/><text fill=\"#000000\" font-family=\"sans-serif\" font-size=\"12\" font-style=\"italic\" lengthAdjust=\"spacingAndGlyphs\" textLength=\"68\" x=\"169\" y=\"272.1387\">«part  def»</text><text fill=\"#000000\" font-family=\"sans-serif\" font-size=\"12\" lengthAdjust=\"spacingAndGlyphs\" textLength=\"45\" x=\"180.5\" y=\"286.1074\">Vehicle</text></a></g><g id=\"E1.E2.E4\"><a href=\"psysml:5d1720bb-4632-462e-81a0-399c2024ebdc\" target=\"_top\" title=\"psysml:5d1720bb-4632-462e-81a0-399c2024ebdc\" xlink:actuate=\"onRequest\" xlink:href=\"psysml:5d1720bb-4632-462e-81a0-399c2024ebdc\" xlink:show=\"new\" xlink:title=\"psysml:5d1720bb-4632-462e-81a0-399c2024ebdc\" xlink:type=\"simple\"><rect fill=\"#FEFECE\" filter=\"url(#fy9hyttkyzm80)\" height=\"42.9375\" id=\"E4\" style=\"stroke: #A80036; stroke-width: 1.5;\" width=\"75\" x=\"55.5\" y=\"256\"/><text fill=\"#000000\" font-family=\"sans-serif\" font-size=\"12\" font-style=\"italic\" lengthAdjust=\"spacingAndGlyphs\" textLength=\"68\" x=\"59\" y=\"272.1387\">«part  def»</text><text fill=\"#000000\" font-family=\"sans-serif\" font-size=\"12\" lengthAdjust=\"spacingAndGlyphs\" textLength=\"45\" x=\"70.5\" y=\"286.1074\">Vehicle</text></a></g><g id=\"E1.E5.E6\"><a href=\"psysml:68b35502-f69c-477b-bf3e-22d420c63407\" target=\"_top\" title=\"psysml:68b35502-f69c-477b-bf3e-22d420c63407\" xlink:actuate=\"onRequest\" xlink:href=\"psysml:68b35502-f69c-477b-bf3e-22d420c63407\" xlink:show=\"new\" xlink:title=\"psysml:68b35502-f69c-477b-bf3e-22d420c63407\" xlink:type=\"simple\"><rect fill=\"#FEFECE\" filter=\"url(#fy9hyttkyzm80)\" height=\"40\" id=\"E6\" rx=\"10\" ry=\"10\" style=\"stroke: #A80036; stroke-width: 1.5;\" width=\"107\" x=\"99.5\" y=\"100\"/><text fill=\"#000000\" font-family=\"sans-serif\" font-size=\"12\" lengthAdjust=\"spacingAndGlyphs\" textLength=\"96\" x=\"105\" y=\"116.1387\">vehicle: Vehicle</text></a></g><!--MD5=[1c62de2aa5b76f0fb657ff8443a1a700]\n",
       "link E5 to E4--><a href=\"psysml:3bf1490e-93ee-46db-b7d3-74f4b2a23de7\" target=\"_top\" title=\"psysml:3bf1490e-93ee-46db-b7d3-74f4b2a23de7\" xlink:actuate=\"onRequest\" xlink:href=\"psysml:3bf1490e-93ee-46db-b7d3-74f4b2a23de7\" xlink:show=\"new\" xlink:title=\"psysml:3bf1490e-93ee-46db-b7d3-74f4b2a23de7\" xlink:type=\"simple\"><path d=\"M67.2559,164.3434 C67.2848,164.6227 67.314,164.9026 67.3433,165.183 C67.4021,165.7439 67.4617,166.3071 67.5224,166.8722 C67.6436,168.0025 67.7685,169.141 67.8973,170.2859 C68.1549,172.5759 68.4278,174.8919 68.7167,177.2213 C69.8725,186.5388 71.285,196.07 73,205 C75.97,220.45 80.65,237.41 84.74,250.94 \" fill=\"none\" id=\"E5-&gt;E4\" style=\"stroke: #A80036; stroke-width: 1.0; stroke-dasharray: 7.0,7.0;\"/><polygon fill=\"#A80036\" points=\"86.21,255.76,87.3802,245.9809,84.7366,250.982,79.7354,248.3384,86.21,255.76\" style=\"stroke: #A80036; stroke-width: 1.0;\"/><text fill=\"#000000\" font-family=\"sans-serif\" font-size=\"13\" lengthAdjust=\"spacingAndGlyphs\" textLength=\"58\" x=\"74\" y=\"201.0669\">«import»</text></a><!--MD5=[f667431f98296947986a1a7595a31603]\n",
       "link E6 to E4--><a href=\"psysml:c8bdef6b-3f7a-4888-bf3f-9f853dc854f0\" target=\"_top\" title=\"psysml:c8bdef6b-3f7a-4888-bf3f-9f853dc854f0\" xlink:actuate=\"onRequest\" xlink:href=\"psysml:c8bdef6b-3f7a-4888-bf3f-9f853dc854f0\" xlink:show=\"new\" xlink:title=\"psysml:c8bdef6b-3f7a-4888-bf3f-9f853dc854f0\" xlink:type=\"simple\"><path d=\"M151.34,140.23 C149.38,157.62 145.27,183.68 137,205 C132.5,216.61 126.1,228.43 119.57,239.03 \" fill=\"none\" id=\"E6-&gt;E4\" style=\"stroke: #A80036; stroke-width: 1.0;\"/><polygon fill=\"#FFFFFF\" points=\"108.43,255.98,113.0161,236.2577,124.7153,243.9472,108.43,255.98\" style=\"stroke: #A80036; stroke-width: 1.0;\"/><ellipse cx=\"117.8182\" cy=\"232.593\" fill=\"#A80036\" rx=\"2\" ry=\"2\" style=\"stroke: #A80036; stroke-width: 1.0;\"/><ellipse cx=\"126.1747\" cy=\"238.0855\" fill=\"#A80036\" rx=\"2\" ry=\"2\" style=\"stroke: #A80036; stroke-width: 1.0;\"/></a><!--MD5=[568370020163b8369f601cf3550293bc]\n",
       "@startuml\r\n",
       "skinparam ranksep 10\r\n",
       "skinparam rectangle {\r\n",
       " backgroundColor<<block>> LightGreen\r\n",
       "}\r\n",
       "skinparam wrapWidth 300\r\n",
       "hide circle\r\n",
       "\r\n",
       "package \"AliasImport\" as E1  [[psysml:82c5726b-cb9a-46c4-b6fc-24bdfc4818ff ]]  {\r\n",
       "package \"Definitions\" as E2  [[psysml:b1455dfe-9c7f-45c5-9354-49cb3cd9f952 ]]  {\r\n",
       "rec def \"Vehicle\" as E3  <<(T,blue) part  def>> [[psysml:5d1720bb-4632-462e-81a0-399c2024ebdc ]] {\r\n",
       "}\r\n",
       "rec def \"Vehicle\" as E4  <<(T,blue) part  def>> [[psysml:5d1720bb-4632-462e-81a0-399c2024ebdc ]] {\r\n",
       "}\r\n",
       "}\r\n",
       "package \"Usages\" as E5  [[psysml:f72b5ed2-7d34-4b16-a5c4-267d5b8a9efb ]]  {\r\n",
       "rec usage \"vehicle: Vehicle\" as E6  [[psysml:68b35502-f69c-477b-bf3e-22d420c63407 ]] {\r\n",
       "}\r\n",
       "}\r\n",
       "}\r\n",
       "E5 ..> E4 [[psysml:3bf1490e-93ee-46db-b7d3-74f4b2a23de7 ]] : <<import>>\r\n",
       "E6 - -:|> E4 [[psysml:c8bdef6b-3f7a-4888-bf3f-9f853dc854f0 ]] \r\n",
       "@enduml\r\n",
       "\n",
       "PlantUML version 1.2020.13(Sat Jun 13 12:26:38 UTC 2020)\n",
       "(EPL source distribution)\n",
       "Java Runtime: OpenJDK Runtime Environment\n",
       "JVM: OpenJDK 64-Bit Server VM\n",
       "Default Encoding: UTF-8\n",
       "Language: en\n",
       "Country: null\n",
       "--></g></svg>"
      ]
     },
     "execution_count": 26,
     "metadata": {},
     "output_type": "execute_result"
    }
   ],
   "source": [
    "%viz --style=\"STDCOLOR\" --view=\"Interconnection\" \"AliasImport\""
   ]
  },
  {
   "cell_type": "code",
   "execution_count": 27,
   "id": "72b4399f",
   "metadata": {
    "execution": {
     "iopub.execute_input": "2022-04-22T09:52:18.175323Z",
     "iopub.status.busy": "2022-04-22T09:52:18.174906Z",
     "iopub.status.idle": "2022-04-22T09:52:18.180019Z",
     "shell.execute_reply": "2022-04-22T09:52:18.180335Z"
    }
   },
   "outputs": [
    {
     "data": {
      "image/svg+xml": [
       "<?xml version=\"1.0\" encoding=\"UTF-8\" standalone=\"no\"?><svg xmlns=\"http://www.w3.org/2000/svg\" xmlns:xlink=\"http://www.w3.org/1999/xlink\" contentScriptType=\"application/ecmascript\" contentStyleType=\"text/css\" height=\"12px\" preserveAspectRatio=\"none\" style=\"width:12px;height:12px;\" version=\"1.1\" viewBox=\"0 0 12 12\" width=\"12px\" zoomAndPan=\"magnify\"><defs/><g><!--MD5=[9863325348a96a77dacc89509d8ee65e]\n",
       "@startuml\r\n",
       "skinparam ranksep 8\r\n",
       "skinparam wrapWidth 300\r\n",
       "hide circle\r\n",
       "\r\n",
       "@enduml\r\n",
       "\n",
       "PlantUML version 1.2020.13(Sat Jun 13 12:26:38 UTC 2020)\n",
       "(EPL source distribution)\n",
       "Java Runtime: OpenJDK Runtime Environment\n",
       "JVM: OpenJDK 64-Bit Server VM\n",
       "Default Encoding: UTF-8\n",
       "Language: en\n",
       "Country: null\n",
       "--></g></svg>"
      ]
     },
     "execution_count": 27,
     "metadata": {},
     "output_type": "execute_result"
    }
   ],
   "source": [
    "%viz --style=\"STDCOLOR\" --view=\"Action\" \"AliasImport\""
   ]
  },
  {
   "cell_type": "code",
   "execution_count": 28,
   "id": "d76d804b",
   "metadata": {
    "execution": {
     "iopub.execute_input": "2022-04-22T09:52:18.230499Z",
     "iopub.status.busy": "2022-04-22T09:52:18.230096Z",
     "iopub.status.idle": "2022-04-22T09:52:18.235261Z",
     "shell.execute_reply": "2022-04-22T09:52:18.235551Z"
    }
   },
   "outputs": [
    {
     "data": {
      "image/svg+xml": [
       "<?xml version=\"1.0\" encoding=\"UTF-8\" standalone=\"no\"?><svg xmlns=\"http://www.w3.org/2000/svg\" xmlns:xlink=\"http://www.w3.org/1999/xlink\" contentScriptType=\"application/ecmascript\" contentStyleType=\"text/css\" height=\"12px\" preserveAspectRatio=\"none\" style=\"width:12px;height:12px;\" version=\"1.1\" viewBox=\"0 0 12 12\" width=\"12px\" zoomAndPan=\"magnify\"><defs/><g><!--MD5=[6c4bca67b4d71758159a5a7f1f1e1fc2]\n",
       "@startuml\r\n",
       "skinparam roundcorner 20\r\n",
       "skinparam BoxPadding 20\r\n",
       "skinparam SequenceBoxBackgroundColor #white\r\n",
       "skinparam style strictuml\r\n",
       "skinparam maxMessageSize 100\r\n",
       "skinparam wrapWidth 300\r\n",
       "hide circle\r\n",
       "\r\n",
       "@enduml\r\n",
       "\n",
       "PlantUML version 1.2020.13(Sat Jun 13 12:26:38 UTC 2020)\n",
       "(EPL source distribution)\n",
       "Java Runtime: OpenJDK Runtime Environment\n",
       "JVM: OpenJDK 64-Bit Server VM\n",
       "Default Encoding: UTF-8\n",
       "Language: en\n",
       "Country: null\n",
       "--></g></svg>"
      ]
     },
     "execution_count": 28,
     "metadata": {},
     "output_type": "execute_result"
    }
   ],
   "source": [
    "%viz --style=\"STDCOLOR\" --view=\"Sequence\" \"AliasImport\""
   ]
  },
  {
   "cell_type": "code",
   "execution_count": 29,
   "id": "edf4c9c0",
   "metadata": {
    "execution": {
     "iopub.execute_input": "2022-04-22T09:52:18.285617Z",
     "iopub.status.busy": "2022-04-22T09:52:18.285202Z",
     "iopub.status.idle": "2022-04-22T09:52:18.315217Z",
     "shell.execute_reply": "2022-04-22T09:52:18.314812Z"
    }
   },
   "outputs": [
    {
     "data": {
      "image/svg+xml": [
       "<?xml version=\"1.0\" encoding=\"UTF-8\" standalone=\"no\"?><svg xmlns=\"http://www.w3.org/2000/svg\" xmlns:xlink=\"http://www.w3.org/1999/xlink\" contentScriptType=\"application/ecmascript\" contentStyleType=\"text/css\" height=\"360px\" preserveAspectRatio=\"none\" style=\"width:275px;height:360px;\" version=\"1.1\" viewBox=\"0 0 275 360\" width=\"275px\" zoomAndPan=\"magnify\"><defs><filter height=\"300%\" id=\"fspq7sgmnnwtf\" width=\"300%\" x=\"-1\" y=\"-1\"><feGaussianBlur result=\"blurOut\" stdDeviation=\"2.0\"/><feColorMatrix in=\"blurOut\" result=\"blurOut2\" type=\"matrix\" values=\"0 0 0 0 0 0 0 0 0 0 0 0 0 0 0 0 0 0 .4 0\"/><feOffset dx=\"4.0\" dy=\"4.0\" in=\"blurOut2\" result=\"blurOut3\"/><feBlend in=\"SourceGraphic\" in2=\"blurOut3\" mode=\"normal\"/></filter></defs><g><!--MD5=[fbc87193dbaf4d95561dea2c320d4a47]\n",
       "cluster E1--><a href=\"psysml:82c5726b-cb9a-46c4-b6fc-24bdfc4818ff\" target=\"_top\" title=\"psysml:82c5726b-cb9a-46c4-b6fc-24bdfc4818ff\" xlink:actuate=\"onRequest\" xlink:href=\"psysml:82c5726b-cb9a-46c4-b6fc-24bdfc4818ff\" xlink:show=\"new\" xlink:title=\"psysml:82c5726b-cb9a-46c4-b6fc-24bdfc4818ff\" xlink:type=\"simple\"><polygon fill=\"#FFFFFF\" filter=\"url(#fspq7sgmnnwtf)\" points=\"16,6,97,6,104,28.2969,253,28.2969,253,348,16,348,16,6\" style=\"stroke: #000000; stroke-width: 1.5;\"/><line style=\"stroke: #000000; stroke-width: 1.5;\" x1=\"16\" x2=\"104\" y1=\"28.2969\" y2=\"28.2969\"/><text fill=\"#000000\" font-family=\"sans-serif\" font-size=\"14\" font-weight=\"bold\" lengthAdjust=\"spacingAndGlyphs\" textLength=\"75\" x=\"20\" y=\"20.9951\">AliasImport</text></a><!--MD5=[e4f7fae6ed58524ba242bb0b0d3be6b7]\n",
       "cluster E2--><a href=\"psysml:b1455dfe-9c7f-45c5-9354-49cb3cd9f952\" target=\"_top\" title=\"psysml:b1455dfe-9c7f-45c5-9354-49cb3cd9f952\" xlink:actuate=\"onRequest\" xlink:href=\"psysml:b1455dfe-9c7f-45c5-9354-49cb3cd9f952\" xlink:show=\"new\" xlink:title=\"psysml:b1455dfe-9c7f-45c5-9354-49cb3cd9f952\" xlink:type=\"simple\"><polygon fill=\"#FFFFFF\" filter=\"url(#fspq7sgmnnwtf)\" points=\"65,227,144,227,151,249.2969,167,249.2969,167,324,65,324,65,227\" style=\"stroke: #000000; stroke-width: 1.5;\"/><line style=\"stroke: #000000; stroke-width: 1.5;\" x1=\"65\" x2=\"151\" y1=\"249.2969\" y2=\"249.2969\"/><text fill=\"#000000\" font-family=\"sans-serif\" font-size=\"14\" font-weight=\"bold\" lengthAdjust=\"spacingAndGlyphs\" textLength=\"73\" x=\"69\" y=\"241.9951\">Definitions</text></a><!--MD5=[f6df4d0ebaf0b5dfb2ced0ae5af7c670]\n",
       "cluster E4--><a href=\"psysml:f72b5ed2-7d34-4b16-a5c4-267d5b8a9efb\" target=\"_top\" title=\"psysml:f72b5ed2-7d34-4b16-a5c4-267d5b8a9efb\" xlink:actuate=\"onRequest\" xlink:href=\"psysml:f72b5ed2-7d34-4b16-a5c4-267d5b8a9efb\" xlink:show=\"new\" xlink:title=\"psysml:f72b5ed2-7d34-4b16-a5c4-267d5b8a9efb\" xlink:type=\"simple\"><polygon fill=\"#FFFFFF\" filter=\"url(#fspq7sgmnnwtf)\" points=\"48,57,106,57,113,79.2969,221,79.2969,221,170,48,170,48,57\" style=\"stroke: #000000; stroke-width: 1.5;\"/><line style=\"stroke: #000000; stroke-width: 1.5;\" x1=\"48\" x2=\"113\" y1=\"79.2969\" y2=\"79.2969\"/><text fill=\"#000000\" font-family=\"sans-serif\" font-size=\"14\" font-weight=\"bold\" lengthAdjust=\"spacingAndGlyphs\" textLength=\"52\" x=\"52\" y=\"71.9951\">Usages</text></a><!--MD5=[09b614a08d8cba4a07c9adeb5e0fee81]\n",
       "class E3--><a href=\"psysml:5d1720bb-4632-462e-81a0-399c2024ebdc\" target=\"_top\" title=\"psysml:5d1720bb-4632-462e-81a0-399c2024ebdc\" xlink:actuate=\"onRequest\" xlink:href=\"psysml:5d1720bb-4632-462e-81a0-399c2024ebdc\" xlink:show=\"new\" xlink:title=\"psysml:5d1720bb-4632-462e-81a0-399c2024ebdc\" xlink:type=\"simple\"><rect fill=\"#FEFECE\" filter=\"url(#fspq7sgmnnwtf)\" height=\"45.9375\" id=\"E3\" style=\"stroke: #A80036; stroke-width: 1.5;\" width=\"70\" x=\"81\" y=\"262\"/><text fill=\"#000000\" font-family=\"sans-serif\" font-size=\"12\" font-style=\"italic\" lengthAdjust=\"spacingAndGlyphs\" textLength=\"68\" x=\"82\" y=\"278.1387\">«part  def»</text><text fill=\"#000000\" font-family=\"sans-serif\" font-size=\"12\" lengthAdjust=\"spacingAndGlyphs\" textLength=\"45\" x=\"93.5\" y=\"292.1074\">Vehicle</text><line style=\"stroke: #A80036; stroke-width: 1.5;\" x1=\"82\" x2=\"150\" y1=\"299.9375\" y2=\"299.9375\"/></a><!--MD5=[270fce915f116d4de14055a7c1d9a0f3]\n",
       "class E5--><a href=\"psysml:68b35502-f69c-477b-bf3e-22d420c63407\" target=\"_top\" title=\"psysml:68b35502-f69c-477b-bf3e-22d420c63407\" xlink:actuate=\"onRequest\" xlink:href=\"psysml:68b35502-f69c-477b-bf3e-22d420c63407\" xlink:show=\"new\" xlink:title=\"psysml:68b35502-f69c-477b-bf3e-22d420c63407\" xlink:type=\"simple\"><rect fill=\"#FEFECE\" filter=\"url(#fspq7sgmnnwtf)\" height=\"45.9375\" id=\"E5\" rx=\"10\" ry=\"10\" style=\"stroke: #A80036; stroke-width: 1.5;\" width=\"106\" x=\"91\" y=\"100\"/><text fill=\"#000000\" font-family=\"sans-serif\" font-size=\"12\" font-style=\"italic\" lengthAdjust=\"spacingAndGlyphs\" textLength=\"40\" x=\"124\" y=\"116.1387\">«part»</text><text fill=\"#000000\" font-family=\"sans-serif\" font-size=\"12\" lengthAdjust=\"spacingAndGlyphs\" textLength=\"96\" x=\"94\" y=\"130.1074\">vehicle: Vehicle</text><line style=\"stroke: #A80036; stroke-width: 1.5;\" x1=\"92\" x2=\"196\" y1=\"137.9375\" y2=\"137.9375\"/></a><!--MD5=[f0cdf4548168e5211fb3a02bf679d63a]\n",
       "link E4 to E3--><a href=\"psysml:3bf1490e-93ee-46db-b7d3-74f4b2a23de7\" target=\"_top\" title=\"psysml:3bf1490e-93ee-46db-b7d3-74f4b2a23de7\" xlink:actuate=\"onRequest\" xlink:href=\"psysml:3bf1490e-93ee-46db-b7d3-74f4b2a23de7\" xlink:show=\"new\" xlink:title=\"psysml:3bf1490e-93ee-46db-b7d3-74f4b2a23de7\" xlink:type=\"simple\"><path d=\"M58.5005,170.0549 C58.5193,170.2001 58.5383,170.3454 58.5574,170.4908 C58.6338,171.0725 58.7124,171.6562 58.7932,172.2415 C58.9548,173.4122 59.1253,174.5898 59.3052,175.7725 C59.6651,178.1379 60.0625,180.5238 60.5014,182.9158 C62.2569,192.4838 64.675,202.15 68,211 C74.23,227.58 84.77,244.23 94.38,257.43 \" fill=\"none\" id=\"E4-&gt;E3\" style=\"stroke: #A80036; stroke-width: 1.0; stroke-dasharray: 7.0,7.0;\"/><polygon fill=\"#A80036\" points=\"97.6,261.77,95.4384,252.1613,94.616,257.758,89.0193,256.9357,97.6,261.77\" style=\"stroke: #A80036; stroke-width: 1.0;\"/><text fill=\"#000000\" font-family=\"sans-serif\" font-size=\"13\" lengthAdjust=\"spacingAndGlyphs\" textLength=\"58\" x=\"69\" y=\"207.0669\">«import»</text></a><!--MD5=[e9be52314489bd878ff4c7144b63c9e1]\n",
       "link E5 to E3--><a href=\"psysml:c8bdef6b-3f7a-4888-bf3f-9f853dc854f0\" target=\"_top\" title=\"psysml:c8bdef6b-3f7a-4888-bf3f-9f853dc854f0\" xlink:actuate=\"onRequest\" xlink:href=\"psysml:c8bdef6b-3f7a-4888-bf3f-9f853dc854f0\" xlink:show=\"new\" xlink:title=\"psysml:c8bdef6b-3f7a-4888-bf3f-9f853dc854f0\" xlink:type=\"simple\"><path d=\"M143.03,146.32 C142,163.98 139.95,189.21 136,211 C134.13,221.29 131.49,232.23 128.74,242.43 \" fill=\"none\" id=\"E5-&gt;E3\" style=\"stroke: #A80036; stroke-width: 1.0;\"/><polygon fill=\"#FFFFFF\" points=\"123.15,261.87,121.6727,241.6755,135.1276,245.544,123.15,261.87\" style=\"stroke: #A80036; stroke-width: 1.0;\"/><ellipse cx=\"125.1699\" cy=\"236.7501\" fill=\"#A80036\" rx=\"2\" ry=\"2\" style=\"stroke: #A80036; stroke-width: 1.0;\"/><ellipse cx=\"134.7805\" cy=\"239.5133\" fill=\"#A80036\" rx=\"2\" ry=\"2\" style=\"stroke: #A80036; stroke-width: 1.0;\"/></a><!--MD5=[60f111f6feac1525464dd12d0c76a581]\n",
       "@startuml\r\n",
       "skinparam wrapWidth 300\r\n",
       "hide circle\r\n",
       "\r\n",
       "package \"AliasImport\" as E1  [[psysml:82c5726b-cb9a-46c4-b6fc-24bdfc4818ff ]]  {\r\n",
       "package \"Definitions\" as E2  [[psysml:b1455dfe-9c7f-45c5-9354-49cb3cd9f952 ]]  {\r\n",
       "comp def \"Vehicle\" as E3  <<(T,blue) part  def>> [[psysml:5d1720bb-4632-462e-81a0-399c2024ebdc ]] {\r\n",
       "}\r\n",
       "}\r\n",
       "package \"Usages\" as E4  [[psysml:f72b5ed2-7d34-4b16-a5c4-267d5b8a9efb ]]  {\r\n",
       "comp usage \"vehicle: Vehicle \" as E5  <<(T,blue) part>> [[psysml:68b35502-f69c-477b-bf3e-22d420c63407 ]] {\r\n",
       "}\r\n",
       "}\r\n",
       "}\r\n",
       "E4 ..> E3 [[psysml:3bf1490e-93ee-46db-b7d3-74f4b2a23de7 ]] : <<import>>\r\n",
       "E5 - -:|> E3 [[psysml:c8bdef6b-3f7a-4888-bf3f-9f853dc854f0 ]] \r\n",
       "@enduml\r\n",
       "\n",
       "PlantUML version 1.2020.13(Sat Jun 13 12:26:38 UTC 2020)\n",
       "(EPL source distribution)\n",
       "Java Runtime: OpenJDK Runtime Environment\n",
       "JVM: OpenJDK 64-Bit Server VM\n",
       "Default Encoding: UTF-8\n",
       "Language: en\n",
       "Country: null\n",
       "--></g></svg>"
      ]
     },
     "execution_count": 29,
     "metadata": {},
     "output_type": "execute_result"
    }
   ],
   "source": [
    "%viz --style=\"STDCOLOR\" --view=\"MIXED\" \"AliasImport\""
   ]
  },
  {
   "cell_type": "code",
   "execution_count": 30,
   "id": "3dc0a073",
   "metadata": {
    "execution": {
     "iopub.execute_input": "2022-04-22T09:52:18.364942Z",
     "iopub.status.busy": "2022-04-22T09:52:18.364536Z",
     "iopub.status.idle": "2022-04-22T09:52:18.416305Z",
     "shell.execute_reply": "2022-04-22T09:52:18.415910Z"
    }
   },
   "outputs": [
    {
     "data": {
      "image/svg+xml": [
       "<?xml version=\"1.0\" encoding=\"UTF-8\" standalone=\"no\"?><svg xmlns=\"http://www.w3.org/2000/svg\" xmlns:xlink=\"http://www.w3.org/1999/xlink\" contentScriptType=\"application/ecmascript\" contentStyleType=\"text/css\" height=\"354px\" preserveAspectRatio=\"none\" style=\"width:301px;height:354px;\" version=\"1.1\" viewBox=\"0 0 301 354\" width=\"301px\" zoomAndPan=\"magnify\"><defs><filter height=\"300%\" id=\"fruytcs189bqx\" width=\"300%\" x=\"-1\" y=\"-1\"><feGaussianBlur result=\"blurOut\" stdDeviation=\"2.0\"/><feColorMatrix in=\"blurOut\" result=\"blurOut2\" type=\"matrix\" values=\"0 0 0 0 0 0 0 0 0 0 0 0 0 0 0 0 0 0 .4 0\"/><feOffset dx=\"4.0\" dy=\"4.0\" in=\"blurOut2\" result=\"blurOut3\"/><feBlend in=\"SourceGraphic\" in2=\"blurOut3\" mode=\"normal\"/></filter></defs><g><!--MD5=[fbc87193dbaf4d95561dea2c320d4a47]\n",
       "cluster E1--><a href=\"psysml:82c5726b-cb9a-46c4-b6fc-24bdfc4818ff\" target=\"_top\" title=\"psysml:82c5726b-cb9a-46c4-b6fc-24bdfc4818ff\" xlink:actuate=\"onRequest\" xlink:href=\"psysml:82c5726b-cb9a-46c4-b6fc-24bdfc4818ff\" xlink:show=\"new\" xlink:title=\"psysml:82c5726b-cb9a-46c4-b6fc-24bdfc4818ff\" xlink:type=\"simple\"><polygon fill=\"#FFFFFF\" filter=\"url(#fruytcs189bqx)\" points=\"16,6,97,6,104,28.2969,279,28.2969,279,342,16,342,16,6\" style=\"stroke: #000000; stroke-width: 1.5;\"/><line style=\"stroke: #000000; stroke-width: 1.5;\" x1=\"16\" x2=\"104\" y1=\"28.2969\" y2=\"28.2969\"/><text fill=\"#000000\" font-family=\"sans-serif\" font-size=\"14\" font-weight=\"bold\" lengthAdjust=\"spacingAndGlyphs\" textLength=\"75\" x=\"20\" y=\"20.9951\">AliasImport</text></a><!--MD5=[e4f7fae6ed58524ba242bb0b0d3be6b7]\n",
       "cluster E2--><a href=\"psysml:b1455dfe-9c7f-45c5-9354-49cb3cd9f952\" target=\"_top\" title=\"psysml:b1455dfe-9c7f-45c5-9354-49cb3cd9f952\" xlink:actuate=\"onRequest\" xlink:href=\"psysml:b1455dfe-9c7f-45c5-9354-49cb3cd9f952\" xlink:show=\"new\" xlink:title=\"psysml:b1455dfe-9c7f-45c5-9354-49cb3cd9f952\" xlink:type=\"simple\"><polygon fill=\"#FFFFFF\" filter=\"url(#fruytcs189bqx)\" points=\"68,227,147,227,154,249.2969,178,249.2969,178,318,68,318,68,227\" style=\"stroke: #000000; stroke-width: 1.5;\"/><line style=\"stroke: #000000; stroke-width: 1.5;\" x1=\"68\" x2=\"154\" y1=\"249.2969\" y2=\"249.2969\"/><text fill=\"#000000\" font-family=\"sans-serif\" font-size=\"14\" font-weight=\"bold\" lengthAdjust=\"spacingAndGlyphs\" textLength=\"73\" x=\"72\" y=\"241.9951\">Definitions</text></a><!--MD5=[f6df4d0ebaf0b5dfb2ced0ae5af7c670]\n",
       "cluster E4--><a href=\"psysml:f72b5ed2-7d34-4b16-a5c4-267d5b8a9efb\" target=\"_top\" title=\"psysml:f72b5ed2-7d34-4b16-a5c4-267d5b8a9efb\" xlink:actuate=\"onRequest\" xlink:href=\"psysml:f72b5ed2-7d34-4b16-a5c4-267d5b8a9efb\" xlink:show=\"new\" xlink:title=\"psysml:f72b5ed2-7d34-4b16-a5c4-267d5b8a9efb\" xlink:type=\"simple\"><polygon fill=\"#FFFFFF\" filter=\"url(#fruytcs189bqx)\" points=\"48,57,106,57,113,79.2969,247,79.2969,247,170,48,170,48,57\" style=\"stroke: #000000; stroke-width: 1.5;\"/><line style=\"stroke: #000000; stroke-width: 1.5;\" x1=\"48\" x2=\"113\" y1=\"79.2969\" y2=\"79.2969\"/><text fill=\"#000000\" font-family=\"sans-serif\" font-size=\"14\" font-weight=\"bold\" lengthAdjust=\"spacingAndGlyphs\" textLength=\"52\" x=\"52\" y=\"71.9951\">Usages</text></a><!--MD5=[09b614a08d8cba4a07c9adeb5e0fee81]\n",
       "class E3--><a href=\"psysml:5d1720bb-4632-462e-81a0-399c2024ebdc\" target=\"_top\" title=\"psysml:5d1720bb-4632-462e-81a0-399c2024ebdc\" xlink:actuate=\"onRequest\" xlink:href=\"psysml:5d1720bb-4632-462e-81a0-399c2024ebdc\" xlink:show=\"new\" xlink:title=\"psysml:5d1720bb-4632-462e-81a0-399c2024ebdc\" xlink:type=\"simple\"><rect fill=\"#FEFECE\" filter=\"url(#fruytcs189bqx)\" height=\"40\" id=\"E3\" style=\"stroke: #A80036; stroke-width: 1.5;\" width=\"77\" x=\"84.5\" y=\"262\"/><ellipse cx=\"99.5\" cy=\"278\" fill=\"#008000\" rx=\"11\" ry=\"11\" style=\"stroke: #A80036; stroke-width: 1.0;\"/><path d=\"M96.375,283 L96.375,272.4063 L99.6094,272.4063 Q101.5156,272.4063 102.4219,273.1563 Q103.3438,273.9063 103.3438,275.0781 Q103.3438,275.7656 102.9531,276.4219 Q102.5781,277.0781 101.8594,277.375 Q102.7188,277.75 103.2344,278.4375 Q103.75,279.125 103.75,279.9375 Q103.75,281.3125 102.7188,282.1563 Q101.7031,283 99.5938,283 L96.375,283 Z M98.2969,276.6406 L99.4531,276.6406 Q100.5781,276.6406 100.9844,276.2656 Q101.4063,275.875 101.4063,275.25 Q101.4063,274.6719 100.9844,274.3125 Q100.5625,273.9531 99.625,273.9531 L98.2969,273.9531 L98.2969,276.6406 Z M98.2969,281.4219 L99.7969,281.4219 Q100.7031,281.4219 101.2344,281.0313 Q101.7656,280.6406 101.7656,279.8906 Q101.7656,279.125 101.2656,278.6563 Q100.7656,278.1719 99.5,278.1719 L98.2969,278.1719 L98.2969,281.4219 Z \"/><text fill=\"#000000\" font-family=\"sans-serif\" font-size=\"12\" lengthAdjust=\"spacingAndGlyphs\" textLength=\"45\" x=\"113.5\" y=\"282.1543\">Vehicle</text><line style=\"stroke: #A80036; stroke-width: 1.5;\" x1=\"85.5\" x2=\"160.5\" y1=\"294\" y2=\"294\"/></a><!--MD5=[270fce915f116d4de14055a7c1d9a0f3]\n",
       "class E5--><a href=\"psysml:68b35502-f69c-477b-bf3e-22d420c63407\" target=\"_top\" title=\"psysml:68b35502-f69c-477b-bf3e-22d420c63407\" xlink:actuate=\"onRequest\" xlink:href=\"psysml:68b35502-f69c-477b-bf3e-22d420c63407\" xlink:show=\"new\" xlink:title=\"psysml:68b35502-f69c-477b-bf3e-22d420c63407\" xlink:type=\"simple\"><rect fill=\"#FEFECE\" filter=\"url(#fruytcs189bqx)\" height=\"45.9375\" id=\"E5\" rx=\"10\" ry=\"10\" style=\"stroke: #A80036; stroke-width: 1.5;\" width=\"132\" x=\"91\" y=\"100\"/><ellipse cx=\"106\" cy=\"118.9688\" fill=\"#32CD32\" rx=\"11\" ry=\"11\" style=\"stroke: #A80036; stroke-width: 1.0;\"/><path d=\"M102.8125,123.9688 L102.8125,113.375 L106.4219,113.375 Q107.6406,113.375 108.4375,113.8125 Q109.2344,114.2344 109.6094,114.9375 Q110,115.6406 110,116.4844 Q110,117.3281 109.625,118.0156 Q109.2656,118.7031 108.4688,119.125 Q107.6875,119.5313 106.5,119.5313 L104.7656,119.5313 L104.7656,123.9688 L102.8125,123.9688 Z M104.7656,117.9375 L106.375,117.9375 Q107.1875,117.9375 107.6094,117.5313 Q108.0313,117.125 108.0313,116.4844 Q108.0313,115.8594 107.6094,115.4531 Q107.1875,115.0469 106.3906,115.0469 L104.7656,115.0469 L104.7656,117.9375 Z \"/><text fill=\"#000000\" font-family=\"sans-serif\" font-size=\"12\" font-style=\"italic\" lengthAdjust=\"spacingAndGlyphs\" textLength=\"40\" x=\"150\" y=\"116.1387\">«part»</text><text fill=\"#000000\" font-family=\"sans-serif\" font-size=\"12\" lengthAdjust=\"spacingAndGlyphs\" textLength=\"96\" x=\"120\" y=\"130.1074\">vehicle: Vehicle</text><line style=\"stroke: #A80036; stroke-width: 1.5;\" x1=\"92\" x2=\"222\" y1=\"137.9375\" y2=\"137.9375\"/></a><!--MD5=[f0cdf4548168e5211fb3a02bf679d63a]\n",
       "link E4 to E3--><a href=\"psysml:3bf1490e-93ee-46db-b7d3-74f4b2a23de7\" target=\"_top\" title=\"psysml:3bf1490e-93ee-46db-b7d3-74f4b2a23de7\" xlink:actuate=\"onRequest\" xlink:href=\"psysml:3bf1490e-93ee-46db-b7d3-74f4b2a23de7\" xlink:show=\"new\" xlink:title=\"psysml:3bf1490e-93ee-46db-b7d3-74f4b2a23de7\" xlink:type=\"simple\"><path d=\"M64.7031,170.0373 C64.7389,170.1824 64.7749,170.3277 64.8109,170.4731 C64.9551,171.0548 65.1012,171.6384 65.2493,172.2237 C65.5455,173.3944 65.8496,174.572 66.1615,175.7548 C66.7854,178.1203 67.4411,180.5064 68.1292,182.8989 C70.8819,192.4688 74.155,202.14 78,211 C85.13,227.43 95.91,244.37 105.13,257.46 \" fill=\"none\" id=\"E4-&gt;E3\" style=\"stroke: #A80036; stroke-width: 1.0; stroke-dasharray: 7.0,7.0;\"/><polygon fill=\"#A80036\" points=\"108.19,261.75,106.2042,252.1034,105.2798,257.6842,99.699,256.7598,108.19,261.75\" style=\"stroke: #A80036; stroke-width: 1.0;\"/><text fill=\"#000000\" font-family=\"sans-serif\" font-size=\"13\" lengthAdjust=\"spacingAndGlyphs\" textLength=\"58\" x=\"79\" y=\"207.0669\">«import»</text></a><!--MD5=[e9be52314489bd878ff4c7144b63c9e1]\n",
       "link E5 to E3--><a href=\"psysml:c8bdef6b-3f7a-4888-bf3f-9f853dc854f0\" target=\"_top\" title=\"psysml:c8bdef6b-3f7a-4888-bf3f-9f853dc854f0\" xlink:actuate=\"onRequest\" xlink:href=\"psysml:c8bdef6b-3f7a-4888-bf3f-9f853dc854f0\" xlink:show=\"new\" xlink:title=\"psysml:c8bdef6b-3f7a-4888-bf3f-9f853dc854f0\" xlink:type=\"simple\"><path d=\"M155.39,146.01 C153.82,163.72 150.92,189.17 146,211 C143.65,221.45 140.37,232.55 137.03,242.76 \" fill=\"none\" id=\"E5-&gt;E3\" style=\"stroke: #A80036; stroke-width: 1.0;\"/><polygon fill=\"#FFFFFF\" points=\"130.35,261.97,129.9691,241.7251,143.1946,246.317,130.35,261.97\" style=\"stroke: #A80036; stroke-width: 1.0;\"/><ellipse cx=\"133.7281\" cy=\"236.9964\" fill=\"#A80036\" rx=\"2\" ry=\"2\" style=\"stroke: #A80036; stroke-width: 1.0;\"/><ellipse cx=\"143.1749\" cy=\"240.2764\" fill=\"#A80036\" rx=\"2\" ry=\"2\" style=\"stroke: #A80036; stroke-width: 1.0;\"/></a><!--MD5=[23a38856edc11731c36bc2138282840e]\n",
       "@startuml\r\n",
       " \r\n",
       "package \"AliasImport\" as E1  [[psysml:82c5726b-cb9a-46c4-b6fc-24bdfc4818ff ]]  {\r\n",
       "package \"Definitions\" as E2  [[psysml:b1455dfe-9c7f-45c5-9354-49cb3cd9f952 ]]  {\r\n",
       "comp def \"Vehicle\" as E3 << << (B,green) >> [[psysml:5d1720bb-4632-462e-81a0-399c2024ebdc ]] {\r\n",
       "}\r\n",
       "}\r\n",
       "package \"Usages\" as E4  [[psysml:f72b5ed2-7d34-4b16-a5c4-267d5b8a9efb ]]  {\r\n",
       "comp usage \"vehicle: Vehicle \" as E5 << << (P,limegreen) part>> [[psysml:68b35502-f69c-477b-bf3e-22d420c63407 ]] {\r\n",
       "}\r\n",
       "}\r\n",
       "}\r\n",
       "E4 ..> E3 [[psysml:3bf1490e-93ee-46db-b7d3-74f4b2a23de7 ]] : <<import>>\r\n",
       "E5 - -:|> E3 [[psysml:c8bdef6b-3f7a-4888-bf3f-9f853dc854f0 ]] \r\n",
       "@enduml\r\n",
       "\n",
       "PlantUML version 1.2020.13(Sat Jun 13 12:26:38 UTC 2020)\n",
       "(EPL source distribution)\n",
       "Java Runtime: OpenJDK Runtime Environment\n",
       "JVM: OpenJDK 64-Bit Server VM\n",
       "Default Encoding: UTF-8\n",
       "Language: en\n",
       "Country: null\n",
       "--></g></svg>"
      ]
     },
     "execution_count": 30,
     "metadata": {},
     "output_type": "execute_result"
    }
   ],
   "source": [
    "%viz --style=\"PLANTUML\" --view=\"Default\" \"AliasImport\""
   ]
  },
  {
   "cell_type": "code",
   "execution_count": 31,
   "id": "e649f5e0",
   "metadata": {
    "execution": {
     "iopub.execute_input": "2022-04-22T09:52:18.466232Z",
     "iopub.status.busy": "2022-04-22T09:52:18.465610Z",
     "iopub.status.idle": "2022-04-22T09:52:18.495114Z",
     "shell.execute_reply": "2022-04-22T09:52:18.494732Z"
    }
   },
   "outputs": [
    {
     "data": {
      "image/svg+xml": [
       "<?xml version=\"1.0\" encoding=\"UTF-8\" standalone=\"no\"?><svg xmlns=\"http://www.w3.org/2000/svg\" xmlns:xlink=\"http://www.w3.org/1999/xlink\" contentScriptType=\"application/ecmascript\" contentStyleType=\"text/css\" height=\"354px\" preserveAspectRatio=\"none\" style=\"width:301px;height:354px;\" version=\"1.1\" viewBox=\"0 0 301 354\" width=\"301px\" zoomAndPan=\"magnify\"><defs><filter height=\"300%\" id=\"fruytcs189bqx\" width=\"300%\" x=\"-1\" y=\"-1\"><feGaussianBlur result=\"blurOut\" stdDeviation=\"2.0\"/><feColorMatrix in=\"blurOut\" result=\"blurOut2\" type=\"matrix\" values=\"0 0 0 0 0 0 0 0 0 0 0 0 0 0 0 0 0 0 .4 0\"/><feOffset dx=\"4.0\" dy=\"4.0\" in=\"blurOut2\" result=\"blurOut3\"/><feBlend in=\"SourceGraphic\" in2=\"blurOut3\" mode=\"normal\"/></filter></defs><g><!--MD5=[fbc87193dbaf4d95561dea2c320d4a47]\n",
       "cluster E1--><a href=\"psysml:82c5726b-cb9a-46c4-b6fc-24bdfc4818ff\" target=\"_top\" title=\"psysml:82c5726b-cb9a-46c4-b6fc-24bdfc4818ff\" xlink:actuate=\"onRequest\" xlink:href=\"psysml:82c5726b-cb9a-46c4-b6fc-24bdfc4818ff\" xlink:show=\"new\" xlink:title=\"psysml:82c5726b-cb9a-46c4-b6fc-24bdfc4818ff\" xlink:type=\"simple\"><polygon fill=\"#FFFFFF\" filter=\"url(#fruytcs189bqx)\" points=\"16,6,97,6,104,28.2969,279,28.2969,279,342,16,342,16,6\" style=\"stroke: #000000; stroke-width: 1.5;\"/><line style=\"stroke: #000000; stroke-width: 1.5;\" x1=\"16\" x2=\"104\" y1=\"28.2969\" y2=\"28.2969\"/><text fill=\"#000000\" font-family=\"sans-serif\" font-size=\"14\" font-weight=\"bold\" lengthAdjust=\"spacingAndGlyphs\" textLength=\"75\" x=\"20\" y=\"20.9951\">AliasImport</text></a><!--MD5=[e4f7fae6ed58524ba242bb0b0d3be6b7]\n",
       "cluster E2--><a href=\"psysml:b1455dfe-9c7f-45c5-9354-49cb3cd9f952\" target=\"_top\" title=\"psysml:b1455dfe-9c7f-45c5-9354-49cb3cd9f952\" xlink:actuate=\"onRequest\" xlink:href=\"psysml:b1455dfe-9c7f-45c5-9354-49cb3cd9f952\" xlink:show=\"new\" xlink:title=\"psysml:b1455dfe-9c7f-45c5-9354-49cb3cd9f952\" xlink:type=\"simple\"><polygon fill=\"#FFFFFF\" filter=\"url(#fruytcs189bqx)\" points=\"68,227,147,227,154,249.2969,178,249.2969,178,318,68,318,68,227\" style=\"stroke: #000000; stroke-width: 1.5;\"/><line style=\"stroke: #000000; stroke-width: 1.5;\" x1=\"68\" x2=\"154\" y1=\"249.2969\" y2=\"249.2969\"/><text fill=\"#000000\" font-family=\"sans-serif\" font-size=\"14\" font-weight=\"bold\" lengthAdjust=\"spacingAndGlyphs\" textLength=\"73\" x=\"72\" y=\"241.9951\">Definitions</text></a><!--MD5=[f6df4d0ebaf0b5dfb2ced0ae5af7c670]\n",
       "cluster E4--><a href=\"psysml:f72b5ed2-7d34-4b16-a5c4-267d5b8a9efb\" target=\"_top\" title=\"psysml:f72b5ed2-7d34-4b16-a5c4-267d5b8a9efb\" xlink:actuate=\"onRequest\" xlink:href=\"psysml:f72b5ed2-7d34-4b16-a5c4-267d5b8a9efb\" xlink:show=\"new\" xlink:title=\"psysml:f72b5ed2-7d34-4b16-a5c4-267d5b8a9efb\" xlink:type=\"simple\"><polygon fill=\"#FFFFFF\" filter=\"url(#fruytcs189bqx)\" points=\"48,57,106,57,113,79.2969,247,79.2969,247,170,48,170,48,57\" style=\"stroke: #000000; stroke-width: 1.5;\"/><line style=\"stroke: #000000; stroke-width: 1.5;\" x1=\"48\" x2=\"113\" y1=\"79.2969\" y2=\"79.2969\"/><text fill=\"#000000\" font-family=\"sans-serif\" font-size=\"14\" font-weight=\"bold\" lengthAdjust=\"spacingAndGlyphs\" textLength=\"52\" x=\"52\" y=\"71.9951\">Usages</text></a><!--MD5=[09b614a08d8cba4a07c9adeb5e0fee81]\n",
       "class E3--><a href=\"psysml:5d1720bb-4632-462e-81a0-399c2024ebdc\" target=\"_top\" title=\"psysml:5d1720bb-4632-462e-81a0-399c2024ebdc\" xlink:actuate=\"onRequest\" xlink:href=\"psysml:5d1720bb-4632-462e-81a0-399c2024ebdc\" xlink:show=\"new\" xlink:title=\"psysml:5d1720bb-4632-462e-81a0-399c2024ebdc\" xlink:type=\"simple\"><rect fill=\"#FEFECE\" filter=\"url(#fruytcs189bqx)\" height=\"40\" id=\"E3\" style=\"stroke: #A80036; stroke-width: 1.5;\" width=\"77\" x=\"84.5\" y=\"262\"/><ellipse cx=\"99.5\" cy=\"278\" fill=\"#008000\" rx=\"11\" ry=\"11\" style=\"stroke: #A80036; stroke-width: 1.0;\"/><path d=\"M96.375,283 L96.375,272.4063 L99.6094,272.4063 Q101.5156,272.4063 102.4219,273.1563 Q103.3438,273.9063 103.3438,275.0781 Q103.3438,275.7656 102.9531,276.4219 Q102.5781,277.0781 101.8594,277.375 Q102.7188,277.75 103.2344,278.4375 Q103.75,279.125 103.75,279.9375 Q103.75,281.3125 102.7188,282.1563 Q101.7031,283 99.5938,283 L96.375,283 Z M98.2969,276.6406 L99.4531,276.6406 Q100.5781,276.6406 100.9844,276.2656 Q101.4063,275.875 101.4063,275.25 Q101.4063,274.6719 100.9844,274.3125 Q100.5625,273.9531 99.625,273.9531 L98.2969,273.9531 L98.2969,276.6406 Z M98.2969,281.4219 L99.7969,281.4219 Q100.7031,281.4219 101.2344,281.0313 Q101.7656,280.6406 101.7656,279.8906 Q101.7656,279.125 101.2656,278.6563 Q100.7656,278.1719 99.5,278.1719 L98.2969,278.1719 L98.2969,281.4219 Z \"/><text fill=\"#000000\" font-family=\"sans-serif\" font-size=\"12\" lengthAdjust=\"spacingAndGlyphs\" textLength=\"45\" x=\"113.5\" y=\"282.1543\">Vehicle</text><line style=\"stroke: #A80036; stroke-width: 1.5;\" x1=\"85.5\" x2=\"160.5\" y1=\"294\" y2=\"294\"/></a><!--MD5=[270fce915f116d4de14055a7c1d9a0f3]\n",
       "class E5--><a href=\"psysml:68b35502-f69c-477b-bf3e-22d420c63407\" target=\"_top\" title=\"psysml:68b35502-f69c-477b-bf3e-22d420c63407\" xlink:actuate=\"onRequest\" xlink:href=\"psysml:68b35502-f69c-477b-bf3e-22d420c63407\" xlink:show=\"new\" xlink:title=\"psysml:68b35502-f69c-477b-bf3e-22d420c63407\" xlink:type=\"simple\"><rect fill=\"#FEFECE\" filter=\"url(#fruytcs189bqx)\" height=\"45.9375\" id=\"E5\" rx=\"10\" ry=\"10\" style=\"stroke: #A80036; stroke-width: 1.5;\" width=\"132\" x=\"91\" y=\"100\"/><ellipse cx=\"106\" cy=\"118.9688\" fill=\"#32CD32\" rx=\"11\" ry=\"11\" style=\"stroke: #A80036; stroke-width: 1.0;\"/><path d=\"M102.8125,123.9688 L102.8125,113.375 L106.4219,113.375 Q107.6406,113.375 108.4375,113.8125 Q109.2344,114.2344 109.6094,114.9375 Q110,115.6406 110,116.4844 Q110,117.3281 109.625,118.0156 Q109.2656,118.7031 108.4688,119.125 Q107.6875,119.5313 106.5,119.5313 L104.7656,119.5313 L104.7656,123.9688 L102.8125,123.9688 Z M104.7656,117.9375 L106.375,117.9375 Q107.1875,117.9375 107.6094,117.5313 Q108.0313,117.125 108.0313,116.4844 Q108.0313,115.8594 107.6094,115.4531 Q107.1875,115.0469 106.3906,115.0469 L104.7656,115.0469 L104.7656,117.9375 Z \"/><text fill=\"#000000\" font-family=\"sans-serif\" font-size=\"12\" font-style=\"italic\" lengthAdjust=\"spacingAndGlyphs\" textLength=\"40\" x=\"150\" y=\"116.1387\">«part»</text><text fill=\"#000000\" font-family=\"sans-serif\" font-size=\"12\" lengthAdjust=\"spacingAndGlyphs\" textLength=\"96\" x=\"120\" y=\"130.1074\">vehicle: Vehicle</text><line style=\"stroke: #A80036; stroke-width: 1.5;\" x1=\"92\" x2=\"222\" y1=\"137.9375\" y2=\"137.9375\"/></a><!--MD5=[f0cdf4548168e5211fb3a02bf679d63a]\n",
       "link E4 to E3--><a href=\"psysml:3bf1490e-93ee-46db-b7d3-74f4b2a23de7\" target=\"_top\" title=\"psysml:3bf1490e-93ee-46db-b7d3-74f4b2a23de7\" xlink:actuate=\"onRequest\" xlink:href=\"psysml:3bf1490e-93ee-46db-b7d3-74f4b2a23de7\" xlink:show=\"new\" xlink:title=\"psysml:3bf1490e-93ee-46db-b7d3-74f4b2a23de7\" xlink:type=\"simple\"><path d=\"M64.7031,170.0373 C64.7389,170.1824 64.7749,170.3277 64.8109,170.4731 C64.9551,171.0548 65.1012,171.6384 65.2493,172.2237 C65.5455,173.3944 65.8496,174.572 66.1615,175.7548 C66.7854,178.1203 67.4411,180.5064 68.1292,182.8989 C70.8819,192.4688 74.155,202.14 78,211 C85.13,227.43 95.91,244.37 105.13,257.46 \" fill=\"none\" id=\"E4-&gt;E3\" style=\"stroke: #A80036; stroke-width: 1.0; stroke-dasharray: 7.0,7.0;\"/><polygon fill=\"#A80036\" points=\"108.19,261.75,106.2042,252.1034,105.2798,257.6842,99.699,256.7598,108.19,261.75\" style=\"stroke: #A80036; stroke-width: 1.0;\"/><text fill=\"#000000\" font-family=\"sans-serif\" font-size=\"13\" lengthAdjust=\"spacingAndGlyphs\" textLength=\"58\" x=\"79\" y=\"207.0669\">«import»</text></a><!--MD5=[e9be52314489bd878ff4c7144b63c9e1]\n",
       "link E5 to E3--><a href=\"psysml:c8bdef6b-3f7a-4888-bf3f-9f853dc854f0\" target=\"_top\" title=\"psysml:c8bdef6b-3f7a-4888-bf3f-9f853dc854f0\" xlink:actuate=\"onRequest\" xlink:href=\"psysml:c8bdef6b-3f7a-4888-bf3f-9f853dc854f0\" xlink:show=\"new\" xlink:title=\"psysml:c8bdef6b-3f7a-4888-bf3f-9f853dc854f0\" xlink:type=\"simple\"><path d=\"M155.39,146.01 C153.82,163.72 150.92,189.17 146,211 C143.65,221.45 140.37,232.55 137.03,242.76 \" fill=\"none\" id=\"E5-&gt;E3\" style=\"stroke: #A80036; stroke-width: 1.0;\"/><polygon fill=\"#FFFFFF\" points=\"130.35,261.97,129.9691,241.7251,143.1946,246.317,130.35,261.97\" style=\"stroke: #A80036; stroke-width: 1.0;\"/><ellipse cx=\"133.7281\" cy=\"236.9964\" fill=\"#A80036\" rx=\"2\" ry=\"2\" style=\"stroke: #A80036; stroke-width: 1.0;\"/><ellipse cx=\"143.1749\" cy=\"240.2764\" fill=\"#A80036\" rx=\"2\" ry=\"2\" style=\"stroke: #A80036; stroke-width: 1.0;\"/></a><!--MD5=[23a38856edc11731c36bc2138282840e]\n",
       "@startuml\r\n",
       " \r\n",
       "package \"AliasImport\" as E1  [[psysml:82c5726b-cb9a-46c4-b6fc-24bdfc4818ff ]]  {\r\n",
       "package \"Definitions\" as E2  [[psysml:b1455dfe-9c7f-45c5-9354-49cb3cd9f952 ]]  {\r\n",
       "comp def \"Vehicle\" as E3 << << (B,green) >> [[psysml:5d1720bb-4632-462e-81a0-399c2024ebdc ]] {\r\n",
       "}\r\n",
       "}\r\n",
       "package \"Usages\" as E4  [[psysml:f72b5ed2-7d34-4b16-a5c4-267d5b8a9efb ]]  {\r\n",
       "comp usage \"vehicle: Vehicle \" as E5 << << (P,limegreen) part>> [[psysml:68b35502-f69c-477b-bf3e-22d420c63407 ]] {\r\n",
       "}\r\n",
       "}\r\n",
       "}\r\n",
       "E4 ..> E3 [[psysml:3bf1490e-93ee-46db-b7d3-74f4b2a23de7 ]] : <<import>>\r\n",
       "E5 - -:|> E3 [[psysml:c8bdef6b-3f7a-4888-bf3f-9f853dc854f0 ]] \r\n",
       "@enduml\r\n",
       "\n",
       "PlantUML version 1.2020.13(Sat Jun 13 12:26:38 UTC 2020)\n",
       "(EPL source distribution)\n",
       "Java Runtime: OpenJDK Runtime Environment\n",
       "JVM: OpenJDK 64-Bit Server VM\n",
       "Default Encoding: UTF-8\n",
       "Language: en\n",
       "Country: null\n",
       "--></g></svg>"
      ]
     },
     "execution_count": 31,
     "metadata": {},
     "output_type": "execute_result"
    }
   ],
   "source": [
    "%viz --style=\"PLANTUML\" --view=\"Tree\" \"AliasImport\""
   ]
  },
  {
   "cell_type": "code",
   "execution_count": 32,
   "id": "2af1387f",
   "metadata": {
    "execution": {
     "iopub.execute_input": "2022-04-22T09:52:18.544497Z",
     "iopub.status.busy": "2022-04-22T09:52:18.544081Z",
     "iopub.status.idle": "2022-04-22T09:52:18.641827Z",
     "shell.execute_reply": "2022-04-22T09:52:18.641444Z"
    }
   },
   "outputs": [
    {
     "data": {
      "image/svg+xml": [
       "<?xml version=\"1.0\" encoding=\"UTF-8\" standalone=\"no\"?><svg xmlns=\"http://www.w3.org/2000/svg\" xmlns:xlink=\"http://www.w3.org/1999/xlink\" contentScriptType=\"application/ecmascript\" contentStyleType=\"text/css\" height=\"300px\" preserveAspectRatio=\"none\" style=\"width:603px;height:300px;background:#000000;\" version=\"1.1\" viewBox=\"0 0 603 300\" width=\"603px\" zoomAndPan=\"magnify\"><defs/><g><rect fill=\"#050011\" height=\"1\" style=\"stroke: #050011; stroke-width: 1.0;\" width=\"1\" x=\"0\" y=\"0\"/><rect fill=\"#FFFFFF\" height=\"202.8012\" style=\"stroke: #FFFFFF; stroke-width: 1.0;\" width=\"602\" x=\"0\" y=\"0\"/><text fill=\"#000000\" font-family=\"sans-serif\" font-size=\"12\" font-weight=\"bold\" lengthAdjust=\"spacingAndGlyphs\" textLength=\"139\" x=\"5\" y=\"16.1387\">Welcome to PlantUML!</text><text fill=\"#000000\" font-family=\"sans-serif\" font-size=\"12\" lengthAdjust=\"spacingAndGlyphs\" textLength=\"0\" x=\"9\" y=\"30.1074\"/><text fill=\"#000000\" font-family=\"sans-serif\" font-size=\"12\" lengthAdjust=\"spacingAndGlyphs\" textLength=\"293\" x=\"5\" y=\"44.0762\">If you use this software, you accept its license.</text><text fill=\"#000000\" font-family=\"sans-serif\" font-size=\"12\" lengthAdjust=\"spacingAndGlyphs\" textLength=\"107\" x=\"5\" y=\"58.0449\">(details by typing</text><text fill=\"#000000\" font-family=\"monospace\" font-size=\"12\" lengthAdjust=\"spacingAndGlyphs\" textLength=\"42\" x=\"116\" y=\"58.595\">license</text><text fill=\"#000000\" font-family=\"sans-serif\" font-size=\"12\" lengthAdjust=\"spacingAndGlyphs\" textLength=\"56\" x=\"162\" y=\"58.0449\">keyword)</text><text fill=\"#000000\" font-family=\"sans-serif\" font-size=\"12\" lengthAdjust=\"spacingAndGlyphs\" textLength=\"0\" x=\"9\" y=\"72.0137\"/><text fill=\"#000000\" font-family=\"sans-serif\" font-size=\"12\" lengthAdjust=\"spacingAndGlyphs\" textLength=\"283\" x=\"5\" y=\"85.9824\">You can start with a simple UML Diagram like:</text><text fill=\"#000000\" font-family=\"sans-serif\" font-size=\"12\" lengthAdjust=\"spacingAndGlyphs\" textLength=\"0\" x=\"9\" y=\"99.9512\"/><text fill=\"#000000\" font-family=\"monospace\" font-size=\"12\" lengthAdjust=\"spacingAndGlyphs\" textLength=\"102\" x=\"5\" y=\"113.0893\">Bob-&gt;Alice: Hello</text><text fill=\"#000000\" font-family=\"sans-serif\" font-size=\"12\" lengthAdjust=\"spacingAndGlyphs\" textLength=\"0\" x=\"9\" y=\"126.508\"/><text fill=\"#000000\" font-family=\"sans-serif\" font-size=\"12\" lengthAdjust=\"spacingAndGlyphs\" textLength=\"14\" x=\"5\" y=\"140.4768\">Or</text><text fill=\"#000000\" font-family=\"sans-serif\" font-size=\"12\" lengthAdjust=\"spacingAndGlyphs\" textLength=\"0\" x=\"9\" y=\"154.4455\"/><text fill=\"#000000\" font-family=\"monospace\" font-size=\"12\" lengthAdjust=\"spacingAndGlyphs\" textLength=\"78\" x=\"5\" y=\"167.5837\">class Example</text><text fill=\"#000000\" font-family=\"sans-serif\" font-size=\"12\" lengthAdjust=\"spacingAndGlyphs\" textLength=\"0\" x=\"9\" y=\"181.0023\"/><text fill=\"#000000\" font-family=\"sans-serif\" font-size=\"12\" lengthAdjust=\"spacingAndGlyphs\" textLength=\"349\" x=\"5\" y=\"194.9711\">You will find more information about PlantUML syntax on</text><text fill=\"#000000\" font-family=\"sans-serif\" font-size=\"12\" lengthAdjust=\"spacingAndGlyphs\" text-decoration=\"underline\" textLength=\"129\" x=\"358\" y=\"194.9711\">https://plantuml.com</text><image height=\"71\" width=\"80\" x=\"516\" xlink:href=\"data:image/png;base64,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\" y=\"6\"/><rect fill=\"#000000\" height=\"96.4844\" style=\"stroke: #000000; stroke-width: 1.0;\" width=\"602\" x=\"0\" y=\"202.8012\"/><rect fill=\"#33FF02\" height=\"21.2969\" style=\"stroke: #33FF02; stroke-width: 1.0;\" width=\"145\" x=\"5\" y=\"207.8012\"/><text fill=\"#000000\" font-family=\"sans-serif\" font-size=\"14\" font-weight=\"bold\" lengthAdjust=\"spacingAndGlyphs\" textLength=\"143\" x=\"6\" y=\"222.8012\">[From string (line 2) ]</text><text fill=\"#33FF02\" font-family=\"sans-serif\" font-size=\"14\" font-weight=\"bold\" lengthAdjust=\"spacingAndGlyphs\" textLength=\"0\" x=\"9\" y=\"243.0981\"/><text fill=\"#33FF02\" font-family=\"sans-serif\" font-size=\"14\" font-weight=\"bold\" lengthAdjust=\"spacingAndGlyphs\" textLength=\"70\" x=\"5\" y=\"259.3949\">@startuml</text><text fill=\"#33FF02\" font-family=\"sans-serif\" font-size=\"14\" font-weight=\"bold\" lengthAdjust=\"spacingAndGlyphs\" textLength=\"0\" x=\"9\" y=\"275.6918\"/><text fill=\"#FF0000\" font-family=\"sans-serif\" font-size=\"14\" font-weight=\"bold\" lengthAdjust=\"spacingAndGlyphs\" textLength=\"124\" x=\"9\" y=\"291.9887\">Empty description</text><!--MD5=[f59edd8218d337f74d0c332fc6737304]\n",
       "@startuml\r\n",
       " \r\n",
       "@enduml\r\n",
       "\n",
       "PlantUML version 1.2020.13(Sat Jun 13 12:26:38 UTC 2020)\n",
       "(EPL source distribution)\n",
       "Java Runtime: OpenJDK Runtime Environment\n",
       "JVM: OpenJDK 64-Bit Server VM\n",
       "Default Encoding: UTF-8\n",
       "Language: en\n",
       "Country: null\n",
       "--></g></svg>"
      ]
     },
     "execution_count": 32,
     "metadata": {},
     "output_type": "execute_result"
    }
   ],
   "source": [
    "%viz --style=\"PLANTUML\" --view=\"State\" \"AliasImport\""
   ]
  },
  {
   "cell_type": "code",
   "execution_count": 33,
   "id": "3603a7bb",
   "metadata": {
    "execution": {
     "iopub.execute_input": "2022-04-22T09:52:18.691246Z",
     "iopub.status.busy": "2022-04-22T09:52:18.690822Z",
     "iopub.status.idle": "2022-04-22T09:52:18.718900Z",
     "shell.execute_reply": "2022-04-22T09:52:18.718539Z"
    }
   },
   "outputs": [
    {
     "data": {
      "image/svg+xml": [
       "<?xml version=\"1.0\" encoding=\"UTF-8\" standalone=\"no\"?><svg xmlns=\"http://www.w3.org/2000/svg\" xmlns:xlink=\"http://www.w3.org/1999/xlink\" contentScriptType=\"application/ecmascript\" contentStyleType=\"text/css\" height=\"348px\" preserveAspectRatio=\"none\" style=\"width:317px;height:348px;\" version=\"1.1\" viewBox=\"0 0 317 348\" width=\"317px\" zoomAndPan=\"magnify\"><defs><filter height=\"300%\" id=\"fevp41k9nexdz\" width=\"300%\" x=\"-1\" y=\"-1\"><feGaussianBlur result=\"blurOut\" stdDeviation=\"2.0\"/><feColorMatrix in=\"blurOut\" result=\"blurOut2\" type=\"matrix\" values=\"0 0 0 0 0 0 0 0 0 0 0 0 0 0 0 0 0 0 .4 0\"/><feOffset dx=\"4.0\" dy=\"4.0\" in=\"blurOut2\" result=\"blurOut3\"/><feBlend in=\"SourceGraphic\" in2=\"blurOut3\" mode=\"normal\"/></filter></defs><g><!--MD5=[fbc87193dbaf4d95561dea2c320d4a47]\n",
       "cluster E1--><a href=\"psysml:82c5726b-cb9a-46c4-b6fc-24bdfc4818ff\" target=\"_top\" title=\"psysml:82c5726b-cb9a-46c4-b6fc-24bdfc4818ff\" xlink:actuate=\"onRequest\" xlink:href=\"psysml:82c5726b-cb9a-46c4-b6fc-24bdfc4818ff\" xlink:show=\"new\" xlink:title=\"psysml:82c5726b-cb9a-46c4-b6fc-24bdfc4818ff\" xlink:type=\"simple\"><polygon fill=\"#FFFFFF\" filter=\"url(#fevp41k9nexdz)\" points=\"16,6,97,6,104,28.2969,295,28.2969,295,336,16,336,16,6\" style=\"stroke: #000000; stroke-width: 1.5;\"/><line style=\"stroke: #000000; stroke-width: 1.5;\" x1=\"16\" x2=\"104\" y1=\"28.2969\" y2=\"28.2969\"/><text fill=\"#000000\" font-family=\"sans-serif\" font-size=\"14\" font-weight=\"bold\" lengthAdjust=\"spacingAndGlyphs\" textLength=\"75\" x=\"20\" y=\"20.9951\">AliasImport</text></a><!--MD5=[e4f7fae6ed58524ba242bb0b0d3be6b7]\n",
       "cluster E2--><a href=\"psysml:b1455dfe-9c7f-45c5-9354-49cb3cd9f952\" target=\"_top\" title=\"psysml:b1455dfe-9c7f-45c5-9354-49cb3cd9f952\" xlink:actuate=\"onRequest\" xlink:href=\"psysml:b1455dfe-9c7f-45c5-9354-49cb3cd9f952\" xlink:show=\"new\" xlink:title=\"psysml:b1455dfe-9c7f-45c5-9354-49cb3cd9f952\" xlink:type=\"simple\"><polygon fill=\"#FFFFFF\" filter=\"url(#fevp41k9nexdz)\" points=\"40,221,119,221,126,243.2969,271,243.2969,271,312,40,312,40,221\" style=\"stroke: #000000; stroke-width: 1.5;\"/><line style=\"stroke: #000000; stroke-width: 1.5;\" x1=\"40\" x2=\"126\" y1=\"243.2969\" y2=\"243.2969\"/><text fill=\"#000000\" font-family=\"sans-serif\" font-size=\"14\" font-weight=\"bold\" lengthAdjust=\"spacingAndGlyphs\" textLength=\"73\" x=\"44\" y=\"235.9951\">Definitions</text></a><!--MD5=[de5ec2e2e8f62f467e546659f5068c88]\n",
       "cluster E5--><a href=\"psysml:f72b5ed2-7d34-4b16-a5c4-267d5b8a9efb\" target=\"_top\" title=\"psysml:f72b5ed2-7d34-4b16-a5c4-267d5b8a9efb\" xlink:actuate=\"onRequest\" xlink:href=\"psysml:f72b5ed2-7d34-4b16-a5c4-267d5b8a9efb\" xlink:show=\"new\" xlink:title=\"psysml:f72b5ed2-7d34-4b16-a5c4-267d5b8a9efb\" xlink:type=\"simple\"><polygon fill=\"#FFFFFF\" filter=\"url(#fevp41k9nexdz)\" points=\"55,57,113,57,120,79.2969,256,79.2969,256,164,55,164,55,57\" style=\"stroke: #000000; stroke-width: 1.5;\"/><line style=\"stroke: #000000; stroke-width: 1.5;\" x1=\"55\" x2=\"120\" y1=\"79.2969\" y2=\"79.2969\"/><text fill=\"#000000\" font-family=\"sans-serif\" font-size=\"14\" font-weight=\"bold\" lengthAdjust=\"spacingAndGlyphs\" textLength=\"52\" x=\"59\" y=\"71.9951\">Usages</text></a><g id=\"E1.E2.E3\"><a href=\"psysml:5d1720bb-4632-462e-81a0-399c2024ebdc\" target=\"_top\" title=\"psysml:5d1720bb-4632-462e-81a0-399c2024ebdc\" xlink:actuate=\"onRequest\" xlink:href=\"psysml:5d1720bb-4632-462e-81a0-399c2024ebdc\" xlink:show=\"new\" xlink:title=\"psysml:5d1720bb-4632-462e-81a0-399c2024ebdc\" xlink:type=\"simple\"><rect fill=\"#FEFECE\" filter=\"url(#fevp41k9nexdz)\" height=\"40\" id=\"E3\" style=\"stroke: #A80036; stroke-width: 1.5;\" width=\"82\" x=\"173\" y=\"256\"/><ellipse cx=\"190.25\" cy=\"272\" fill=\"#008000\" rx=\"11\" ry=\"11\" style=\"stroke: #A80036; stroke-width: 1.0;\"/><path d=\"M187.125,277 L187.125,266.4063 L190.3594,266.4063 Q192.2656,266.4063 193.1719,267.1563 Q194.0938,267.9063 194.0938,269.0781 Q194.0938,269.7656 193.7031,270.4219 Q193.3281,271.0781 192.6094,271.375 Q193.4688,271.75 193.9844,272.4375 Q194.5,273.125 194.5,273.9375 Q194.5,275.3125 193.4688,276.1563 Q192.4531,277 190.3438,277 L187.125,277 Z M189.0469,270.6406 L190.2031,270.6406 Q191.3281,270.6406 191.7344,270.2656 Q192.1563,269.875 192.1563,269.25 Q192.1563,268.6719 191.7344,268.3125 Q191.3125,267.9531 190.375,267.9531 L189.0469,267.9531 L189.0469,270.6406 Z M189.0469,275.4219 L190.5469,275.4219 Q191.4531,275.4219 191.9844,275.0313 Q192.5156,274.6406 192.5156,273.8906 Q192.5156,273.125 192.0156,272.6563 Q191.5156,272.1719 190.25,272.1719 L189.0469,272.1719 L189.0469,275.4219 Z \"/><text fill=\"#000000\" font-family=\"sans-serif\" font-size=\"12\" lengthAdjust=\"spacingAndGlyphs\" textLength=\"45\" x=\"204.75\" y=\"276.1543\">Vehicle</text></a></g><g id=\"E1.E2.E4\"><a href=\"psysml:5d1720bb-4632-462e-81a0-399c2024ebdc\" target=\"_top\" title=\"psysml:5d1720bb-4632-462e-81a0-399c2024ebdc\" xlink:actuate=\"onRequest\" xlink:href=\"psysml:5d1720bb-4632-462e-81a0-399c2024ebdc\" xlink:show=\"new\" xlink:title=\"psysml:5d1720bb-4632-462e-81a0-399c2024ebdc\" xlink:type=\"simple\"><rect fill=\"#FEFECE\" filter=\"url(#fevp41k9nexdz)\" height=\"40\" id=\"E4\" style=\"stroke: #A80036; stroke-width: 1.5;\" width=\"82\" x=\"56\" y=\"256\"/><ellipse cx=\"73.25\" cy=\"272\" fill=\"#008000\" rx=\"11\" ry=\"11\" style=\"stroke: #A80036; stroke-width: 1.0;\"/><path d=\"M70.125,277 L70.125,266.4063 L73.3594,266.4063 Q75.2656,266.4063 76.1719,267.1563 Q77.0938,267.9063 77.0938,269.0781 Q77.0938,269.7656 76.7031,270.4219 Q76.3281,271.0781 75.6094,271.375 Q76.4688,271.75 76.9844,272.4375 Q77.5,273.125 77.5,273.9375 Q77.5,275.3125 76.4688,276.1563 Q75.4531,277 73.3438,277 L70.125,277 Z M72.0469,270.6406 L73.2031,270.6406 Q74.3281,270.6406 74.7344,270.2656 Q75.1563,269.875 75.1563,269.25 Q75.1563,268.6719 74.7344,268.3125 Q74.3125,267.9531 73.375,267.9531 L72.0469,267.9531 L72.0469,270.6406 Z M72.0469,275.4219 L73.5469,275.4219 Q74.4531,275.4219 74.9844,275.0313 Q75.5156,274.6406 75.5156,273.8906 Q75.5156,273.125 75.0156,272.6563 Q74.5156,272.1719 73.25,272.1719 L72.0469,272.1719 L72.0469,275.4219 Z \"/><text fill=\"#000000\" font-family=\"sans-serif\" font-size=\"12\" lengthAdjust=\"spacingAndGlyphs\" textLength=\"45\" x=\"87.75\" y=\"276.1543\">Vehicle</text></a></g><g id=\"E1.E5.E6\"><a href=\"psysml:68b35502-f69c-477b-bf3e-22d420c63407\" target=\"_top\" title=\"psysml:68b35502-f69c-477b-bf3e-22d420c63407\" xlink:actuate=\"onRequest\" xlink:href=\"psysml:68b35502-f69c-477b-bf3e-22d420c63407\" xlink:show=\"new\" xlink:title=\"psysml:68b35502-f69c-477b-bf3e-22d420c63407\" xlink:type=\"simple\"><rect fill=\"#FEFECE\" filter=\"url(#fevp41k9nexdz)\" height=\"40\" id=\"E6\" rx=\"10\" ry=\"10\" style=\"stroke: #A80036; stroke-width: 1.5;\" width=\"133\" x=\"98.5\" y=\"100\"/><ellipse cx=\"115.75\" cy=\"116\" fill=\"#B6DBBB\" rx=\"11\" ry=\"11\" style=\"stroke: #A80036; stroke-width: 1.0;\"/><path d=\"M115.5,121.4688 Q113.75,121.4688 112.7969,120.4375 Q111.8594,119.3906 111.8594,117.5469 L111.8594,110.6563 L113.9219,110.6563 L113.9219,110.8125 Q113.8281,110.9063 113.7969,111.0469 Q113.7813,111.1719 113.7813,111.4375 L113.7813,117.5625 Q113.7813,118.6563 114.1563,119.2813 Q114.5313,119.9063 115.5156,119.9063 Q116.5,119.9063 116.8906,119.2813 Q117.2813,118.6563 117.2813,117.5156 L117.2813,110.6563 L119.1563,110.6563 L119.1563,117.5 Q119.1563,119.5313 118.125,120.5 Q117.1094,121.4688 115.5,121.4688 Z \"/><text fill=\"#000000\" font-family=\"sans-serif\" font-size=\"12\" lengthAdjust=\"spacingAndGlyphs\" textLength=\"96\" x=\"130.25\" y=\"120.1543\">vehicle: Vehicle</text></a></g><!--MD5=[1c62de2aa5b76f0fb657ff8443a1a700]\n",
       "link E5 to E4--><a href=\"psysml:3bf1490e-93ee-46db-b7d3-74f4b2a23de7\" target=\"_top\" title=\"psysml:3bf1490e-93ee-46db-b7d3-74f4b2a23de7\" xlink:actuate=\"onRequest\" xlink:href=\"psysml:3bf1490e-93ee-46db-b7d3-74f4b2a23de7\" xlink:show=\"new\" xlink:title=\"psysml:3bf1490e-93ee-46db-b7d3-74f4b2a23de7\" xlink:type=\"simple\"><path d=\"M72.6174,164.5679 C72.6618,164.7689 72.7063,164.9703 72.7508,165.172 C72.8399,165.5755 72.9293,165.9804 73.019,166.3867 C73.3779,168.0122 73.7419,169.6603 74.11,171.3275 C80,198.0025 86.965,229.55 91.65,250.78 \" fill=\"none\" id=\"E5-&gt;E4\" style=\"stroke: #A80036; stroke-width: 1.0; stroke-dasharray: 7.0,7.0;\"/><polygon fill=\"#A80036\" points=\"92.75,255.74,94.7024,246.0866,91.6653,250.8591,86.8929,247.822,92.75,255.74\" style=\"stroke: #A80036; stroke-width: 1.0;\"/><text fill=\"#000000\" font-family=\"sans-serif\" font-size=\"13\" lengthAdjust=\"spacingAndGlyphs\" textLength=\"58\" x=\"82\" y=\"201.0669\">«import»</text></a><!--MD5=[f667431f98296947986a1a7595a31603]\n",
       "link E6 to E4--><a href=\"psysml:c8bdef6b-3f7a-4888-bf3f-9f853dc854f0\" target=\"_top\" title=\"psysml:c8bdef6b-3f7a-4888-bf3f-9f853dc854f0\" xlink:actuate=\"onRequest\" xlink:href=\"psysml:c8bdef6b-3f7a-4888-bf3f-9f853dc854f0\" xlink:show=\"new\" xlink:title=\"psysml:c8bdef6b-3f7a-4888-bf3f-9f853dc854f0\" xlink:type=\"simple\"><path d=\"M162.84,140.01 C160.36,157.48 155.38,183.81 146,205 C140.73,216.91 133.32,228.88 125.85,239.47 \" fill=\"none\" id=\"E6-&gt;E4\" style=\"stroke: #A80036; stroke-width: 1.0;\"/><polygon fill=\"#FFFFFF\" points=\"113.59,255.73,119.4205,236.3391,130.6073,244.7567,113.59,255.73\" style=\"stroke: #A80036; stroke-width: 1.0;\"/><ellipse cx=\"124.4457\" cy=\"232.987\" fill=\"#A80036\" rx=\"2\" ry=\"2\" style=\"stroke: #A80036; stroke-width: 1.0;\"/><ellipse cx=\"132.4363\" cy=\"238.9996\" fill=\"#A80036\" rx=\"2\" ry=\"2\" style=\"stroke: #A80036; stroke-width: 1.0;\"/></a><!--MD5=[4f3f908a09577793572bee2b4d4f6570]\n",
       "@startuml\r\n",
       "skinparam ranksep 10\r\n",
       "skinparam rectangle {\r\n",
       " backgroundColor<<block>> LightGreen\r\n",
       "}\r\n",
       " \r\n",
       "package \"AliasImport\" as E1  [[psysml:82c5726b-cb9a-46c4-b6fc-24bdfc4818ff ]]  {\r\n",
       "package \"Definitions\" as E2  [[psysml:b1455dfe-9c7f-45c5-9354-49cb3cd9f952 ]]  {\r\n",
       "rec def \"Vehicle\" as E3 << << (B,green) >> [[psysml:5d1720bb-4632-462e-81a0-399c2024ebdc ]] {\r\n",
       "}\r\n",
       "rec def \"Vehicle\" as E4 << << (B,green) >> [[psysml:5d1720bb-4632-462e-81a0-399c2024ebdc ]] {\r\n",
       "}\r\n",
       "}\r\n",
       "package \"Usages\" as E5  [[psysml:f72b5ed2-7d34-4b16-a5c4-267d5b8a9efb ]]  {\r\n",
       "rec usage \"vehicle: Vehicle\" as E6  [[psysml:68b35502-f69c-477b-bf3e-22d420c63407 ]] {\r\n",
       "}\r\n",
       "}\r\n",
       "}\r\n",
       "E5 ..> E4 [[psysml:3bf1490e-93ee-46db-b7d3-74f4b2a23de7 ]] : <<import>>\r\n",
       "E6 - -:|> E4 [[psysml:c8bdef6b-3f7a-4888-bf3f-9f853dc854f0 ]] \r\n",
       "@enduml\r\n",
       "\n",
       "PlantUML version 1.2020.13(Sat Jun 13 12:26:38 UTC 2020)\n",
       "(EPL source distribution)\n",
       "Java Runtime: OpenJDK Runtime Environment\n",
       "JVM: OpenJDK 64-Bit Server VM\n",
       "Default Encoding: UTF-8\n",
       "Language: en\n",
       "Country: null\n",
       "--></g></svg>"
      ]
     },
     "execution_count": 33,
     "metadata": {},
     "output_type": "execute_result"
    }
   ],
   "source": [
    "%viz --style=\"PLANTUML\" --view=\"Interconnection\" \"AliasImport\""
   ]
  },
  {
   "cell_type": "code",
   "execution_count": 34,
   "id": "0ceefc78",
   "metadata": {
    "execution": {
     "iopub.execute_input": "2022-04-22T09:52:18.768731Z",
     "iopub.status.busy": "2022-04-22T09:52:18.768297Z",
     "iopub.status.idle": "2022-04-22T09:52:18.772969Z",
     "shell.execute_reply": "2022-04-22T09:52:18.772628Z"
    }
   },
   "outputs": [
    {
     "data": {
      "image/svg+xml": [
       "<?xml version=\"1.0\" encoding=\"UTF-8\" standalone=\"no\"?><svg xmlns=\"http://www.w3.org/2000/svg\" xmlns:xlink=\"http://www.w3.org/1999/xlink\" contentScriptType=\"application/ecmascript\" contentStyleType=\"text/css\" height=\"12px\" preserveAspectRatio=\"none\" style=\"width:12px;height:12px;\" version=\"1.1\" viewBox=\"0 0 12 12\" width=\"12px\" zoomAndPan=\"magnify\"><defs/><g><!--MD5=[6a4cb978cab31700e1ce5529f947a75d]\n",
       "@startuml\r\n",
       "skinparam ranksep 8\r\n",
       " \r\n",
       "@enduml\r\n",
       "\n",
       "PlantUML version 1.2020.13(Sat Jun 13 12:26:38 UTC 2020)\n",
       "(EPL source distribution)\n",
       "Java Runtime: OpenJDK Runtime Environment\n",
       "JVM: OpenJDK 64-Bit Server VM\n",
       "Default Encoding: UTF-8\n",
       "Language: en\n",
       "Country: null\n",
       "--></g></svg>"
      ]
     },
     "execution_count": 34,
     "metadata": {},
     "output_type": "execute_result"
    }
   ],
   "source": [
    "%viz --style=\"PLANTUML\" --view=\"Action\" \"AliasImport\""
   ]
  },
  {
   "cell_type": "code",
   "execution_count": 35,
   "id": "ef4c7ab9",
   "metadata": {
    "execution": {
     "iopub.execute_input": "2022-04-22T09:52:18.823042Z",
     "iopub.status.busy": "2022-04-22T09:52:18.822619Z",
     "iopub.status.idle": "2022-04-22T09:52:18.827601Z",
     "shell.execute_reply": "2022-04-22T09:52:18.827262Z"
    }
   },
   "outputs": [
    {
     "data": {
      "image/svg+xml": [
       "<?xml version=\"1.0\" encoding=\"UTF-8\" standalone=\"no\"?><svg xmlns=\"http://www.w3.org/2000/svg\" xmlns:xlink=\"http://www.w3.org/1999/xlink\" contentScriptType=\"application/ecmascript\" contentStyleType=\"text/css\" height=\"12px\" preserveAspectRatio=\"none\" style=\"width:12px;height:12px;\" version=\"1.1\" viewBox=\"0 0 12 12\" width=\"12px\" zoomAndPan=\"magnify\"><defs/><g><!--MD5=[ca4faa0b02def275ea33c14ea7a1a98d]\n",
       "@startuml\r\n",
       "skinparam roundcorner 20\r\n",
       "skinparam BoxPadding 20\r\n",
       "skinparam SequenceBoxBackgroundColor #white\r\n",
       "skinparam style strictuml\r\n",
       "skinparam maxMessageSize 100\r\n",
       " \r\n",
       "@enduml\r\n",
       "\n",
       "PlantUML version 1.2020.13(Sat Jun 13 12:26:38 UTC 2020)\n",
       "(EPL source distribution)\n",
       "Java Runtime: OpenJDK Runtime Environment\n",
       "JVM: OpenJDK 64-Bit Server VM\n",
       "Default Encoding: UTF-8\n",
       "Language: en\n",
       "Country: null\n",
       "--></g></svg>"
      ]
     },
     "execution_count": 35,
     "metadata": {},
     "output_type": "execute_result"
    }
   ],
   "source": [
    "%viz --style=\"PLANTUML\" --view=\"Sequence\" \"AliasImport\""
   ]
  },
  {
   "cell_type": "code",
   "execution_count": 36,
   "id": "613d38ea",
   "metadata": {
    "execution": {
     "iopub.execute_input": "2022-04-22T09:52:18.877203Z",
     "iopub.status.busy": "2022-04-22T09:52:18.876794Z",
     "iopub.status.idle": "2022-04-22T09:52:18.906982Z",
     "shell.execute_reply": "2022-04-22T09:52:18.906618Z"
    }
   },
   "outputs": [
    {
     "data": {
      "image/svg+xml": [
       "<?xml version=\"1.0\" encoding=\"UTF-8\" standalone=\"no\"?><svg xmlns=\"http://www.w3.org/2000/svg\" xmlns:xlink=\"http://www.w3.org/1999/xlink\" contentScriptType=\"application/ecmascript\" contentStyleType=\"text/css\" height=\"354px\" preserveAspectRatio=\"none\" style=\"width:301px;height:354px;\" version=\"1.1\" viewBox=\"0 0 301 354\" width=\"301px\" zoomAndPan=\"magnify\"><defs><filter height=\"300%\" id=\"fruytcs189bqx\" width=\"300%\" x=\"-1\" y=\"-1\"><feGaussianBlur result=\"blurOut\" stdDeviation=\"2.0\"/><feColorMatrix in=\"blurOut\" result=\"blurOut2\" type=\"matrix\" values=\"0 0 0 0 0 0 0 0 0 0 0 0 0 0 0 0 0 0 .4 0\"/><feOffset dx=\"4.0\" dy=\"4.0\" in=\"blurOut2\" result=\"blurOut3\"/><feBlend in=\"SourceGraphic\" in2=\"blurOut3\" mode=\"normal\"/></filter></defs><g><!--MD5=[fbc87193dbaf4d95561dea2c320d4a47]\n",
       "cluster E1--><a href=\"psysml:82c5726b-cb9a-46c4-b6fc-24bdfc4818ff\" target=\"_top\" title=\"psysml:82c5726b-cb9a-46c4-b6fc-24bdfc4818ff\" xlink:actuate=\"onRequest\" xlink:href=\"psysml:82c5726b-cb9a-46c4-b6fc-24bdfc4818ff\" xlink:show=\"new\" xlink:title=\"psysml:82c5726b-cb9a-46c4-b6fc-24bdfc4818ff\" xlink:type=\"simple\"><polygon fill=\"#FFFFFF\" filter=\"url(#fruytcs189bqx)\" points=\"16,6,97,6,104,28.2969,279,28.2969,279,342,16,342,16,6\" style=\"stroke: #000000; stroke-width: 1.5;\"/><line style=\"stroke: #000000; stroke-width: 1.5;\" x1=\"16\" x2=\"104\" y1=\"28.2969\" y2=\"28.2969\"/><text fill=\"#000000\" font-family=\"sans-serif\" font-size=\"14\" font-weight=\"bold\" lengthAdjust=\"spacingAndGlyphs\" textLength=\"75\" x=\"20\" y=\"20.9951\">AliasImport</text></a><!--MD5=[e4f7fae6ed58524ba242bb0b0d3be6b7]\n",
       "cluster E2--><a href=\"psysml:b1455dfe-9c7f-45c5-9354-49cb3cd9f952\" target=\"_top\" title=\"psysml:b1455dfe-9c7f-45c5-9354-49cb3cd9f952\" xlink:actuate=\"onRequest\" xlink:href=\"psysml:b1455dfe-9c7f-45c5-9354-49cb3cd9f952\" xlink:show=\"new\" xlink:title=\"psysml:b1455dfe-9c7f-45c5-9354-49cb3cd9f952\" xlink:type=\"simple\"><polygon fill=\"#FFFFFF\" filter=\"url(#fruytcs189bqx)\" points=\"68,227,147,227,154,249.2969,178,249.2969,178,318,68,318,68,227\" style=\"stroke: #000000; stroke-width: 1.5;\"/><line style=\"stroke: #000000; stroke-width: 1.5;\" x1=\"68\" x2=\"154\" y1=\"249.2969\" y2=\"249.2969\"/><text fill=\"#000000\" font-family=\"sans-serif\" font-size=\"14\" font-weight=\"bold\" lengthAdjust=\"spacingAndGlyphs\" textLength=\"73\" x=\"72\" y=\"241.9951\">Definitions</text></a><!--MD5=[f6df4d0ebaf0b5dfb2ced0ae5af7c670]\n",
       "cluster E4--><a href=\"psysml:f72b5ed2-7d34-4b16-a5c4-267d5b8a9efb\" target=\"_top\" title=\"psysml:f72b5ed2-7d34-4b16-a5c4-267d5b8a9efb\" xlink:actuate=\"onRequest\" xlink:href=\"psysml:f72b5ed2-7d34-4b16-a5c4-267d5b8a9efb\" xlink:show=\"new\" xlink:title=\"psysml:f72b5ed2-7d34-4b16-a5c4-267d5b8a9efb\" xlink:type=\"simple\"><polygon fill=\"#FFFFFF\" filter=\"url(#fruytcs189bqx)\" points=\"48,57,106,57,113,79.2969,247,79.2969,247,170,48,170,48,57\" style=\"stroke: #000000; stroke-width: 1.5;\"/><line style=\"stroke: #000000; stroke-width: 1.5;\" x1=\"48\" x2=\"113\" y1=\"79.2969\" y2=\"79.2969\"/><text fill=\"#000000\" font-family=\"sans-serif\" font-size=\"14\" font-weight=\"bold\" lengthAdjust=\"spacingAndGlyphs\" textLength=\"52\" x=\"52\" y=\"71.9951\">Usages</text></a><!--MD5=[09b614a08d8cba4a07c9adeb5e0fee81]\n",
       "class E3--><a href=\"psysml:5d1720bb-4632-462e-81a0-399c2024ebdc\" target=\"_top\" title=\"psysml:5d1720bb-4632-462e-81a0-399c2024ebdc\" xlink:actuate=\"onRequest\" xlink:href=\"psysml:5d1720bb-4632-462e-81a0-399c2024ebdc\" xlink:show=\"new\" xlink:title=\"psysml:5d1720bb-4632-462e-81a0-399c2024ebdc\" xlink:type=\"simple\"><rect fill=\"#FEFECE\" filter=\"url(#fruytcs189bqx)\" height=\"40\" id=\"E3\" style=\"stroke: #A80036; stroke-width: 1.5;\" width=\"77\" x=\"84.5\" y=\"262\"/><ellipse cx=\"99.5\" cy=\"278\" fill=\"#008000\" rx=\"11\" ry=\"11\" style=\"stroke: #A80036; stroke-width: 1.0;\"/><path d=\"M96.375,283 L96.375,272.4063 L99.6094,272.4063 Q101.5156,272.4063 102.4219,273.1563 Q103.3438,273.9063 103.3438,275.0781 Q103.3438,275.7656 102.9531,276.4219 Q102.5781,277.0781 101.8594,277.375 Q102.7188,277.75 103.2344,278.4375 Q103.75,279.125 103.75,279.9375 Q103.75,281.3125 102.7188,282.1563 Q101.7031,283 99.5938,283 L96.375,283 Z M98.2969,276.6406 L99.4531,276.6406 Q100.5781,276.6406 100.9844,276.2656 Q101.4063,275.875 101.4063,275.25 Q101.4063,274.6719 100.9844,274.3125 Q100.5625,273.9531 99.625,273.9531 L98.2969,273.9531 L98.2969,276.6406 Z M98.2969,281.4219 L99.7969,281.4219 Q100.7031,281.4219 101.2344,281.0313 Q101.7656,280.6406 101.7656,279.8906 Q101.7656,279.125 101.2656,278.6563 Q100.7656,278.1719 99.5,278.1719 L98.2969,278.1719 L98.2969,281.4219 Z \"/><text fill=\"#000000\" font-family=\"sans-serif\" font-size=\"12\" lengthAdjust=\"spacingAndGlyphs\" textLength=\"45\" x=\"113.5\" y=\"282.1543\">Vehicle</text><line style=\"stroke: #A80036; stroke-width: 1.5;\" x1=\"85.5\" x2=\"160.5\" y1=\"294\" y2=\"294\"/></a><!--MD5=[270fce915f116d4de14055a7c1d9a0f3]\n",
       "class E5--><a href=\"psysml:68b35502-f69c-477b-bf3e-22d420c63407\" target=\"_top\" title=\"psysml:68b35502-f69c-477b-bf3e-22d420c63407\" xlink:actuate=\"onRequest\" xlink:href=\"psysml:68b35502-f69c-477b-bf3e-22d420c63407\" xlink:show=\"new\" xlink:title=\"psysml:68b35502-f69c-477b-bf3e-22d420c63407\" xlink:type=\"simple\"><rect fill=\"#FEFECE\" filter=\"url(#fruytcs189bqx)\" height=\"45.9375\" id=\"E5\" rx=\"10\" ry=\"10\" style=\"stroke: #A80036; stroke-width: 1.5;\" width=\"132\" x=\"91\" y=\"100\"/><ellipse cx=\"106\" cy=\"118.9688\" fill=\"#32CD32\" rx=\"11\" ry=\"11\" style=\"stroke: #A80036; stroke-width: 1.0;\"/><path d=\"M102.8125,123.9688 L102.8125,113.375 L106.4219,113.375 Q107.6406,113.375 108.4375,113.8125 Q109.2344,114.2344 109.6094,114.9375 Q110,115.6406 110,116.4844 Q110,117.3281 109.625,118.0156 Q109.2656,118.7031 108.4688,119.125 Q107.6875,119.5313 106.5,119.5313 L104.7656,119.5313 L104.7656,123.9688 L102.8125,123.9688 Z M104.7656,117.9375 L106.375,117.9375 Q107.1875,117.9375 107.6094,117.5313 Q108.0313,117.125 108.0313,116.4844 Q108.0313,115.8594 107.6094,115.4531 Q107.1875,115.0469 106.3906,115.0469 L104.7656,115.0469 L104.7656,117.9375 Z \"/><text fill=\"#000000\" font-family=\"sans-serif\" font-size=\"12\" font-style=\"italic\" lengthAdjust=\"spacingAndGlyphs\" textLength=\"40\" x=\"150\" y=\"116.1387\">«part»</text><text fill=\"#000000\" font-family=\"sans-serif\" font-size=\"12\" lengthAdjust=\"spacingAndGlyphs\" textLength=\"96\" x=\"120\" y=\"130.1074\">vehicle: Vehicle</text><line style=\"stroke: #A80036; stroke-width: 1.5;\" x1=\"92\" x2=\"222\" y1=\"137.9375\" y2=\"137.9375\"/></a><!--MD5=[f0cdf4548168e5211fb3a02bf679d63a]\n",
       "link E4 to E3--><a href=\"psysml:3bf1490e-93ee-46db-b7d3-74f4b2a23de7\" target=\"_top\" title=\"psysml:3bf1490e-93ee-46db-b7d3-74f4b2a23de7\" xlink:actuate=\"onRequest\" xlink:href=\"psysml:3bf1490e-93ee-46db-b7d3-74f4b2a23de7\" xlink:show=\"new\" xlink:title=\"psysml:3bf1490e-93ee-46db-b7d3-74f4b2a23de7\" xlink:type=\"simple\"><path d=\"M64.7031,170.0373 C64.7389,170.1824 64.7749,170.3277 64.8109,170.4731 C64.9551,171.0548 65.1012,171.6384 65.2493,172.2237 C65.5455,173.3944 65.8496,174.572 66.1615,175.7548 C66.7854,178.1203 67.4411,180.5064 68.1292,182.8989 C70.8819,192.4688 74.155,202.14 78,211 C85.13,227.43 95.91,244.37 105.13,257.46 \" fill=\"none\" id=\"E4-&gt;E3\" style=\"stroke: #A80036; stroke-width: 1.0; stroke-dasharray: 7.0,7.0;\"/><polygon fill=\"#A80036\" points=\"108.19,261.75,106.2042,252.1034,105.2798,257.6842,99.699,256.7598,108.19,261.75\" style=\"stroke: #A80036; stroke-width: 1.0;\"/><text fill=\"#000000\" font-family=\"sans-serif\" font-size=\"13\" lengthAdjust=\"spacingAndGlyphs\" textLength=\"58\" x=\"79\" y=\"207.0669\">«import»</text></a><!--MD5=[e9be52314489bd878ff4c7144b63c9e1]\n",
       "link E5 to E3--><a href=\"psysml:c8bdef6b-3f7a-4888-bf3f-9f853dc854f0\" target=\"_top\" title=\"psysml:c8bdef6b-3f7a-4888-bf3f-9f853dc854f0\" xlink:actuate=\"onRequest\" xlink:href=\"psysml:c8bdef6b-3f7a-4888-bf3f-9f853dc854f0\" xlink:show=\"new\" xlink:title=\"psysml:c8bdef6b-3f7a-4888-bf3f-9f853dc854f0\" xlink:type=\"simple\"><path d=\"M155.39,146.01 C153.82,163.72 150.92,189.17 146,211 C143.65,221.45 140.37,232.55 137.03,242.76 \" fill=\"none\" id=\"E5-&gt;E3\" style=\"stroke: #A80036; stroke-width: 1.0;\"/><polygon fill=\"#FFFFFF\" points=\"130.35,261.97,129.9691,241.7251,143.1946,246.317,130.35,261.97\" style=\"stroke: #A80036; stroke-width: 1.0;\"/><ellipse cx=\"133.7281\" cy=\"236.9964\" fill=\"#A80036\" rx=\"2\" ry=\"2\" style=\"stroke: #A80036; stroke-width: 1.0;\"/><ellipse cx=\"143.1749\" cy=\"240.2764\" fill=\"#A80036\" rx=\"2\" ry=\"2\" style=\"stroke: #A80036; stroke-width: 1.0;\"/></a><!--MD5=[23a38856edc11731c36bc2138282840e]\n",
       "@startuml\r\n",
       " \r\n",
       "package \"AliasImport\" as E1  [[psysml:82c5726b-cb9a-46c4-b6fc-24bdfc4818ff ]]  {\r\n",
       "package \"Definitions\" as E2  [[psysml:b1455dfe-9c7f-45c5-9354-49cb3cd9f952 ]]  {\r\n",
       "comp def \"Vehicle\" as E3 << << (B,green) >> [[psysml:5d1720bb-4632-462e-81a0-399c2024ebdc ]] {\r\n",
       "}\r\n",
       "}\r\n",
       "package \"Usages\" as E4  [[psysml:f72b5ed2-7d34-4b16-a5c4-267d5b8a9efb ]]  {\r\n",
       "comp usage \"vehicle: Vehicle \" as E5 << << (P,limegreen) part>> [[psysml:68b35502-f69c-477b-bf3e-22d420c63407 ]] {\r\n",
       "}\r\n",
       "}\r\n",
       "}\r\n",
       "E4 ..> E3 [[psysml:3bf1490e-93ee-46db-b7d3-74f4b2a23de7 ]] : <<import>>\r\n",
       "E5 - -:|> E3 [[psysml:c8bdef6b-3f7a-4888-bf3f-9f853dc854f0 ]] \r\n",
       "@enduml\r\n",
       "\n",
       "PlantUML version 1.2020.13(Sat Jun 13 12:26:38 UTC 2020)\n",
       "(EPL source distribution)\n",
       "Java Runtime: OpenJDK Runtime Environment\n",
       "JVM: OpenJDK 64-Bit Server VM\n",
       "Default Encoding: UTF-8\n",
       "Language: en\n",
       "Country: null\n",
       "--></g></svg>"
      ]
     },
     "execution_count": 36,
     "metadata": {},
     "output_type": "execute_result"
    }
   ],
   "source": [
    "%viz --style=\"PLANTUML\" --view=\"MIXED\" \"AliasImport\""
   ]
  },
  {
   "cell_type": "code",
   "execution_count": 37,
   "id": "99bdcc45",
   "metadata": {
    "execution": {
     "iopub.execute_input": "2022-04-22T09:52:18.956718Z",
     "iopub.status.busy": "2022-04-22T09:52:18.956314Z",
     "iopub.status.idle": "2022-04-22T09:52:18.987709Z",
     "shell.execute_reply": "2022-04-22T09:52:18.987343Z"
    }
   },
   "outputs": [
    {
     "data": {
      "image/svg+xml": [
       "<?xml version=\"1.0\" encoding=\"UTF-8\" standalone=\"no\"?><svg xmlns=\"http://www.w3.org/2000/svg\" xmlns:xlink=\"http://www.w3.org/1999/xlink\" contentScriptType=\"application/ecmascript\" contentStyleType=\"text/css\" height=\"360px\" preserveAspectRatio=\"none\" style=\"width:275px;height:360px;\" version=\"1.1\" viewBox=\"0 0 275 360\" width=\"275px\" zoomAndPan=\"magnify\"><defs/><g><!--MD5=[fbc87193dbaf4d95561dea2c320d4a47]\n",
       "cluster E1--><a href=\"psysml:82c5726b-cb9a-46c4-b6fc-24bdfc4818ff\" target=\"_top\" title=\"psysml:82c5726b-cb9a-46c4-b6fc-24bdfc4818ff\" xlink:actuate=\"onRequest\" xlink:href=\"psysml:82c5726b-cb9a-46c4-b6fc-24bdfc4818ff\" xlink:show=\"new\" xlink:title=\"psysml:82c5726b-cb9a-46c4-b6fc-24bdfc4818ff\" xlink:type=\"simple\"><polygon fill=\"#FFFFFF\" points=\"16,6,97,6,104,28.2969,253,28.2969,253,348,16,348,16,6\" style=\"stroke: #000000; stroke-width: 1.5;\"/><line style=\"stroke: #000000; stroke-width: 1.5;\" x1=\"16\" x2=\"104\" y1=\"28.2969\" y2=\"28.2969\"/><text fill=\"#000000\" font-family=\"sans-serif\" font-size=\"14\" font-weight=\"bold\" lengthAdjust=\"spacingAndGlyphs\" textLength=\"75\" x=\"20\" y=\"20.9951\">AliasImport</text></a><!--MD5=[e4f7fae6ed58524ba242bb0b0d3be6b7]\n",
       "cluster E2--><a href=\"psysml:b1455dfe-9c7f-45c5-9354-49cb3cd9f952\" target=\"_top\" title=\"psysml:b1455dfe-9c7f-45c5-9354-49cb3cd9f952\" xlink:actuate=\"onRequest\" xlink:href=\"psysml:b1455dfe-9c7f-45c5-9354-49cb3cd9f952\" xlink:show=\"new\" xlink:title=\"psysml:b1455dfe-9c7f-45c5-9354-49cb3cd9f952\" xlink:type=\"simple\"><polygon fill=\"#FFFFFF\" points=\"65,227,144,227,151,249.2969,167,249.2969,167,324,65,324,65,227\" style=\"stroke: #000000; stroke-width: 1.5;\"/><line style=\"stroke: #000000; stroke-width: 1.5;\" x1=\"65\" x2=\"151\" y1=\"249.2969\" y2=\"249.2969\"/><text fill=\"#000000\" font-family=\"sans-serif\" font-size=\"14\" font-weight=\"bold\" lengthAdjust=\"spacingAndGlyphs\" textLength=\"73\" x=\"69\" y=\"241.9951\">Definitions</text></a><!--MD5=[f6df4d0ebaf0b5dfb2ced0ae5af7c670]\n",
       "cluster E4--><a href=\"psysml:f72b5ed2-7d34-4b16-a5c4-267d5b8a9efb\" target=\"_top\" title=\"psysml:f72b5ed2-7d34-4b16-a5c4-267d5b8a9efb\" xlink:actuate=\"onRequest\" xlink:href=\"psysml:f72b5ed2-7d34-4b16-a5c4-267d5b8a9efb\" xlink:show=\"new\" xlink:title=\"psysml:f72b5ed2-7d34-4b16-a5c4-267d5b8a9efb\" xlink:type=\"simple\"><polygon fill=\"#FFFFFF\" points=\"48,57,106,57,113,79.2969,221,79.2969,221,170,48,170,48,57\" style=\"stroke: #000000; stroke-width: 1.5;\"/><line style=\"stroke: #000000; stroke-width: 1.5;\" x1=\"48\" x2=\"113\" y1=\"79.2969\" y2=\"79.2969\"/><text fill=\"#000000\" font-family=\"sans-serif\" font-size=\"14\" font-weight=\"bold\" lengthAdjust=\"spacingAndGlyphs\" textLength=\"52\" x=\"52\" y=\"71.9951\">Usages</text></a><!--MD5=[09b614a08d8cba4a07c9adeb5e0fee81]\n",
       "class E3--><a href=\"psysml:5d1720bb-4632-462e-81a0-399c2024ebdc\" target=\"_top\" title=\"psysml:5d1720bb-4632-462e-81a0-399c2024ebdc\" xlink:actuate=\"onRequest\" xlink:href=\"psysml:5d1720bb-4632-462e-81a0-399c2024ebdc\" xlink:show=\"new\" xlink:title=\"psysml:5d1720bb-4632-462e-81a0-399c2024ebdc\" xlink:type=\"simple\"><rect fill=\"#FFFFFF\" height=\"45.9375\" id=\"E3\" style=\"stroke: #383838; stroke-width: 1.5;\" width=\"70\" x=\"81\" y=\"262\"/><text fill=\"#000000\" font-family=\"sans-serif\" font-size=\"12\" font-style=\"italic\" lengthAdjust=\"spacingAndGlyphs\" textLength=\"68\" x=\"82\" y=\"278.1387\">«part  def»</text><text fill=\"#000000\" font-family=\"sans-serif\" font-size=\"12\" lengthAdjust=\"spacingAndGlyphs\" textLength=\"45\" x=\"93.5\" y=\"292.1074\">Vehicle</text><line style=\"stroke: #383838; stroke-width: 1.5;\" x1=\"82\" x2=\"150\" y1=\"299.9375\" y2=\"299.9375\"/></a><!--MD5=[270fce915f116d4de14055a7c1d9a0f3]\n",
       "class E5--><a href=\"psysml:68b35502-f69c-477b-bf3e-22d420c63407\" target=\"_top\" title=\"psysml:68b35502-f69c-477b-bf3e-22d420c63407\" xlink:actuate=\"onRequest\" xlink:href=\"psysml:68b35502-f69c-477b-bf3e-22d420c63407\" xlink:show=\"new\" xlink:title=\"psysml:68b35502-f69c-477b-bf3e-22d420c63407\" xlink:type=\"simple\"><rect fill=\"#FFFFFF\" height=\"45.9375\" id=\"E5\" rx=\"10\" ry=\"10\" style=\"stroke: #383838; stroke-width: 1.5;\" width=\"106\" x=\"91\" y=\"100\"/><text fill=\"#000000\" font-family=\"sans-serif\" font-size=\"12\" font-style=\"italic\" lengthAdjust=\"spacingAndGlyphs\" textLength=\"40\" x=\"124\" y=\"116.1387\">«part»</text><text fill=\"#000000\" font-family=\"sans-serif\" font-size=\"12\" lengthAdjust=\"spacingAndGlyphs\" textLength=\"96\" x=\"94\" y=\"130.1074\">vehicle: Vehicle</text><line style=\"stroke: #383838; stroke-width: 1.5;\" x1=\"92\" x2=\"196\" y1=\"137.9375\" y2=\"137.9375\"/></a><!--MD5=[f0cdf4548168e5211fb3a02bf679d63a]\n",
       "link E4 to E3--><a href=\"psysml:3bf1490e-93ee-46db-b7d3-74f4b2a23de7\" target=\"_top\" title=\"psysml:3bf1490e-93ee-46db-b7d3-74f4b2a23de7\" xlink:actuate=\"onRequest\" xlink:href=\"psysml:3bf1490e-93ee-46db-b7d3-74f4b2a23de7\" xlink:show=\"new\" xlink:title=\"psysml:3bf1490e-93ee-46db-b7d3-74f4b2a23de7\" xlink:type=\"simple\"><path d=\"M58.5005,170.0549 C58.5193,170.2001 58.5383,170.3454 58.5574,170.4908 C58.6338,171.0725 58.7124,171.6562 58.7932,172.2415 C58.9548,173.4122 59.1253,174.5898 59.3052,175.7725 C59.6651,178.1379 60.0625,180.5238 60.5014,182.9158 C62.2569,192.4838 64.675,202.15 68,211 C74.23,227.58 84.77,244.23 94.38,257.43 \" fill=\"none\" id=\"E4-&gt;E3\" style=\"stroke: #383838; stroke-width: 1.0; stroke-dasharray: 7.0,7.0;\"/><polygon fill=\"#383838\" points=\"97.6,261.77,95.4384,252.1613,94.616,257.758,89.0193,256.9357,97.6,261.77\" style=\"stroke: #383838; stroke-width: 1.0;\"/><text fill=\"#000000\" font-family=\"sans-serif\" font-size=\"13\" lengthAdjust=\"spacingAndGlyphs\" textLength=\"58\" x=\"69\" y=\"207.0669\">«import»</text></a><!--MD5=[e9be52314489bd878ff4c7144b63c9e1]\n",
       "link E5 to E3--><a href=\"psysml:c8bdef6b-3f7a-4888-bf3f-9f853dc854f0\" target=\"_top\" title=\"psysml:c8bdef6b-3f7a-4888-bf3f-9f853dc854f0\" xlink:actuate=\"onRequest\" xlink:href=\"psysml:c8bdef6b-3f7a-4888-bf3f-9f853dc854f0\" xlink:show=\"new\" xlink:title=\"psysml:c8bdef6b-3f7a-4888-bf3f-9f853dc854f0\" xlink:type=\"simple\"><path d=\"M143.03,146.32 C142,163.98 139.95,189.21 136,211 C134.13,221.29 131.49,232.23 128.74,242.43 \" fill=\"none\" id=\"E5-&gt;E3\" style=\"stroke: #383838; stroke-width: 1.0;\"/><polygon fill=\"#FFFFFF\" points=\"123.15,261.87,121.6727,241.6755,135.1276,245.544,123.15,261.87\" style=\"stroke: #383838; stroke-width: 1.0;\"/><ellipse cx=\"125.1699\" cy=\"236.7501\" fill=\"#383838\" rx=\"2\" ry=\"2\" style=\"stroke: #383838; stroke-width: 1.0;\"/><ellipse cx=\"134.7805\" cy=\"239.5133\" fill=\"#383838\" rx=\"2\" ry=\"2\" style=\"stroke: #383838; stroke-width: 1.0;\"/></a><!--MD5=[63a98358a058f9a1f1dfc05c5df7da8c]\n",
       "@startuml\r\n",
       "skinparam monochrome true\r\n",
       "skinparam classbackgroundcolor white\r\n",
       "skinparam shadowing false\r\n",
       "skinparam wrapWidth 300\r\n",
       "hide circle\r\n",
       "\r\n",
       "package \"AliasImport\" as E1  [[psysml:82c5726b-cb9a-46c4-b6fc-24bdfc4818ff ]]  {\r\n",
       "package \"Definitions\" as E2  [[psysml:b1455dfe-9c7f-45c5-9354-49cb3cd9f952 ]]  {\r\n",
       "comp def \"Vehicle\" as E3  <<(T,blue) part  def>> [[psysml:5d1720bb-4632-462e-81a0-399c2024ebdc ]] {\r\n",
       "}\r\n",
       "}\r\n",
       "package \"Usages\" as E4  [[psysml:f72b5ed2-7d34-4b16-a5c4-267d5b8a9efb ]]  {\r\n",
       "comp usage \"vehicle: Vehicle \" as E5  <<(T,blue) part>> [[psysml:68b35502-f69c-477b-bf3e-22d420c63407 ]] {\r\n",
       "}\r\n",
       "}\r\n",
       "}\r\n",
       "E4 ..> E3 [[psysml:3bf1490e-93ee-46db-b7d3-74f4b2a23de7 ]] : <<import>>\r\n",
       "E5 - -:|> E3 [[psysml:c8bdef6b-3f7a-4888-bf3f-9f853dc854f0 ]] \r\n",
       "@enduml\r\n",
       "\n",
       "PlantUML version 1.2020.13(Sat Jun 13 12:26:38 UTC 2020)\n",
       "(EPL source distribution)\n",
       "Java Runtime: OpenJDK Runtime Environment\n",
       "JVM: OpenJDK 64-Bit Server VM\n",
       "Default Encoding: UTF-8\n",
       "Language: en\n",
       "Country: null\n",
       "--></g></svg>"
      ]
     },
     "execution_count": 37,
     "metadata": {},
     "output_type": "execute_result"
    }
   ],
   "source": [
    "%viz --style=\"DEFAULT\" --view=\"Default\" \"AliasImport\""
   ]
  },
  {
   "cell_type": "code",
   "execution_count": 38,
   "id": "7698b8f4",
   "metadata": {
    "execution": {
     "iopub.execute_input": "2022-04-22T09:52:19.037288Z",
     "iopub.status.busy": "2022-04-22T09:52:19.036886Z",
     "iopub.status.idle": "2022-04-22T09:52:19.066887Z",
     "shell.execute_reply": "2022-04-22T09:52:19.066524Z"
    }
   },
   "outputs": [
    {
     "data": {
      "image/svg+xml": [
       "<?xml version=\"1.0\" encoding=\"UTF-8\" standalone=\"no\"?><svg xmlns=\"http://www.w3.org/2000/svg\" xmlns:xlink=\"http://www.w3.org/1999/xlink\" contentScriptType=\"application/ecmascript\" contentStyleType=\"text/css\" height=\"360px\" preserveAspectRatio=\"none\" style=\"width:275px;height:360px;\" version=\"1.1\" viewBox=\"0 0 275 360\" width=\"275px\" zoomAndPan=\"magnify\"><defs/><g><!--MD5=[fbc87193dbaf4d95561dea2c320d4a47]\n",
       "cluster E1--><a href=\"psysml:82c5726b-cb9a-46c4-b6fc-24bdfc4818ff\" target=\"_top\" title=\"psysml:82c5726b-cb9a-46c4-b6fc-24bdfc4818ff\" xlink:actuate=\"onRequest\" xlink:href=\"psysml:82c5726b-cb9a-46c4-b6fc-24bdfc4818ff\" xlink:show=\"new\" xlink:title=\"psysml:82c5726b-cb9a-46c4-b6fc-24bdfc4818ff\" xlink:type=\"simple\"><polygon fill=\"#FFFFFF\" points=\"16,6,97,6,104,28.2969,253,28.2969,253,348,16,348,16,6\" style=\"stroke: #000000; stroke-width: 1.5;\"/><line style=\"stroke: #000000; stroke-width: 1.5;\" x1=\"16\" x2=\"104\" y1=\"28.2969\" y2=\"28.2969\"/><text fill=\"#000000\" font-family=\"sans-serif\" font-size=\"14\" font-weight=\"bold\" lengthAdjust=\"spacingAndGlyphs\" textLength=\"75\" x=\"20\" y=\"20.9951\">AliasImport</text></a><!--MD5=[e4f7fae6ed58524ba242bb0b0d3be6b7]\n",
       "cluster E2--><a href=\"psysml:b1455dfe-9c7f-45c5-9354-49cb3cd9f952\" target=\"_top\" title=\"psysml:b1455dfe-9c7f-45c5-9354-49cb3cd9f952\" xlink:actuate=\"onRequest\" xlink:href=\"psysml:b1455dfe-9c7f-45c5-9354-49cb3cd9f952\" xlink:show=\"new\" xlink:title=\"psysml:b1455dfe-9c7f-45c5-9354-49cb3cd9f952\" xlink:type=\"simple\"><polygon fill=\"#FFFFFF\" points=\"65,227,144,227,151,249.2969,167,249.2969,167,324,65,324,65,227\" style=\"stroke: #000000; stroke-width: 1.5;\"/><line style=\"stroke: #000000; stroke-width: 1.5;\" x1=\"65\" x2=\"151\" y1=\"249.2969\" y2=\"249.2969\"/><text fill=\"#000000\" font-family=\"sans-serif\" font-size=\"14\" font-weight=\"bold\" lengthAdjust=\"spacingAndGlyphs\" textLength=\"73\" x=\"69\" y=\"241.9951\">Definitions</text></a><!--MD5=[f6df4d0ebaf0b5dfb2ced0ae5af7c670]\n",
       "cluster E4--><a href=\"psysml:f72b5ed2-7d34-4b16-a5c4-267d5b8a9efb\" target=\"_top\" title=\"psysml:f72b5ed2-7d34-4b16-a5c4-267d5b8a9efb\" xlink:actuate=\"onRequest\" xlink:href=\"psysml:f72b5ed2-7d34-4b16-a5c4-267d5b8a9efb\" xlink:show=\"new\" xlink:title=\"psysml:f72b5ed2-7d34-4b16-a5c4-267d5b8a9efb\" xlink:type=\"simple\"><polygon fill=\"#FFFFFF\" points=\"48,57,106,57,113,79.2969,221,79.2969,221,170,48,170,48,57\" style=\"stroke: #000000; stroke-width: 1.5;\"/><line style=\"stroke: #000000; stroke-width: 1.5;\" x1=\"48\" x2=\"113\" y1=\"79.2969\" y2=\"79.2969\"/><text fill=\"#000000\" font-family=\"sans-serif\" font-size=\"14\" font-weight=\"bold\" lengthAdjust=\"spacingAndGlyphs\" textLength=\"52\" x=\"52\" y=\"71.9951\">Usages</text></a><!--MD5=[09b614a08d8cba4a07c9adeb5e0fee81]\n",
       "class E3--><a href=\"psysml:5d1720bb-4632-462e-81a0-399c2024ebdc\" target=\"_top\" title=\"psysml:5d1720bb-4632-462e-81a0-399c2024ebdc\" xlink:actuate=\"onRequest\" xlink:href=\"psysml:5d1720bb-4632-462e-81a0-399c2024ebdc\" xlink:show=\"new\" xlink:title=\"psysml:5d1720bb-4632-462e-81a0-399c2024ebdc\" xlink:type=\"simple\"><rect fill=\"#FFFFFF\" height=\"45.9375\" id=\"E3\" style=\"stroke: #383838; stroke-width: 1.5;\" width=\"70\" x=\"81\" y=\"262\"/><text fill=\"#000000\" font-family=\"sans-serif\" font-size=\"12\" font-style=\"italic\" lengthAdjust=\"spacingAndGlyphs\" textLength=\"68\" x=\"82\" y=\"278.1387\">«part  def»</text><text fill=\"#000000\" font-family=\"sans-serif\" font-size=\"12\" lengthAdjust=\"spacingAndGlyphs\" textLength=\"45\" x=\"93.5\" y=\"292.1074\">Vehicle</text><line style=\"stroke: #383838; stroke-width: 1.5;\" x1=\"82\" x2=\"150\" y1=\"299.9375\" y2=\"299.9375\"/></a><!--MD5=[270fce915f116d4de14055a7c1d9a0f3]\n",
       "class E5--><a href=\"psysml:68b35502-f69c-477b-bf3e-22d420c63407\" target=\"_top\" title=\"psysml:68b35502-f69c-477b-bf3e-22d420c63407\" xlink:actuate=\"onRequest\" xlink:href=\"psysml:68b35502-f69c-477b-bf3e-22d420c63407\" xlink:show=\"new\" xlink:title=\"psysml:68b35502-f69c-477b-bf3e-22d420c63407\" xlink:type=\"simple\"><rect fill=\"#FFFFFF\" height=\"45.9375\" id=\"E5\" rx=\"10\" ry=\"10\" style=\"stroke: #383838; stroke-width: 1.5;\" width=\"106\" x=\"91\" y=\"100\"/><text fill=\"#000000\" font-family=\"sans-serif\" font-size=\"12\" font-style=\"italic\" lengthAdjust=\"spacingAndGlyphs\" textLength=\"40\" x=\"124\" y=\"116.1387\">«part»</text><text fill=\"#000000\" font-family=\"sans-serif\" font-size=\"12\" lengthAdjust=\"spacingAndGlyphs\" textLength=\"96\" x=\"94\" y=\"130.1074\">vehicle: Vehicle</text><line style=\"stroke: #383838; stroke-width: 1.5;\" x1=\"92\" x2=\"196\" y1=\"137.9375\" y2=\"137.9375\"/></a><!--MD5=[f0cdf4548168e5211fb3a02bf679d63a]\n",
       "link E4 to E3--><a href=\"psysml:3bf1490e-93ee-46db-b7d3-74f4b2a23de7\" target=\"_top\" title=\"psysml:3bf1490e-93ee-46db-b7d3-74f4b2a23de7\" xlink:actuate=\"onRequest\" xlink:href=\"psysml:3bf1490e-93ee-46db-b7d3-74f4b2a23de7\" xlink:show=\"new\" xlink:title=\"psysml:3bf1490e-93ee-46db-b7d3-74f4b2a23de7\" xlink:type=\"simple\"><path d=\"M58.5005,170.0549 C58.5193,170.2001 58.5383,170.3454 58.5574,170.4908 C58.6338,171.0725 58.7124,171.6562 58.7932,172.2415 C58.9548,173.4122 59.1253,174.5898 59.3052,175.7725 C59.6651,178.1379 60.0625,180.5238 60.5014,182.9158 C62.2569,192.4838 64.675,202.15 68,211 C74.23,227.58 84.77,244.23 94.38,257.43 \" fill=\"none\" id=\"E4-&gt;E3\" style=\"stroke: #383838; stroke-width: 1.0; stroke-dasharray: 7.0,7.0;\"/><polygon fill=\"#383838\" points=\"97.6,261.77,95.4384,252.1613,94.616,257.758,89.0193,256.9357,97.6,261.77\" style=\"stroke: #383838; stroke-width: 1.0;\"/><text fill=\"#000000\" font-family=\"sans-serif\" font-size=\"13\" lengthAdjust=\"spacingAndGlyphs\" textLength=\"58\" x=\"69\" y=\"207.0669\">«import»</text></a><!--MD5=[e9be52314489bd878ff4c7144b63c9e1]\n",
       "link E5 to E3--><a href=\"psysml:c8bdef6b-3f7a-4888-bf3f-9f853dc854f0\" target=\"_top\" title=\"psysml:c8bdef6b-3f7a-4888-bf3f-9f853dc854f0\" xlink:actuate=\"onRequest\" xlink:href=\"psysml:c8bdef6b-3f7a-4888-bf3f-9f853dc854f0\" xlink:show=\"new\" xlink:title=\"psysml:c8bdef6b-3f7a-4888-bf3f-9f853dc854f0\" xlink:type=\"simple\"><path d=\"M143.03,146.32 C142,163.98 139.95,189.21 136,211 C134.13,221.29 131.49,232.23 128.74,242.43 \" fill=\"none\" id=\"E5-&gt;E3\" style=\"stroke: #383838; stroke-width: 1.0;\"/><polygon fill=\"#FFFFFF\" points=\"123.15,261.87,121.6727,241.6755,135.1276,245.544,123.15,261.87\" style=\"stroke: #383838; stroke-width: 1.0;\"/><ellipse cx=\"125.1699\" cy=\"236.7501\" fill=\"#383838\" rx=\"2\" ry=\"2\" style=\"stroke: #383838; stroke-width: 1.0;\"/><ellipse cx=\"134.7805\" cy=\"239.5133\" fill=\"#383838\" rx=\"2\" ry=\"2\" style=\"stroke: #383838; stroke-width: 1.0;\"/></a><!--MD5=[63a98358a058f9a1f1dfc05c5df7da8c]\n",
       "@startuml\r\n",
       "skinparam monochrome true\r\n",
       "skinparam classbackgroundcolor white\r\n",
       "skinparam shadowing false\r\n",
       "skinparam wrapWidth 300\r\n",
       "hide circle\r\n",
       "\r\n",
       "package \"AliasImport\" as E1  [[psysml:82c5726b-cb9a-46c4-b6fc-24bdfc4818ff ]]  {\r\n",
       "package \"Definitions\" as E2  [[psysml:b1455dfe-9c7f-45c5-9354-49cb3cd9f952 ]]  {\r\n",
       "comp def \"Vehicle\" as E3  <<(T,blue) part  def>> [[psysml:5d1720bb-4632-462e-81a0-399c2024ebdc ]] {\r\n",
       "}\r\n",
       "}\r\n",
       "package \"Usages\" as E4  [[psysml:f72b5ed2-7d34-4b16-a5c4-267d5b8a9efb ]]  {\r\n",
       "comp usage \"vehicle: Vehicle \" as E5  <<(T,blue) part>> [[psysml:68b35502-f69c-477b-bf3e-22d420c63407 ]] {\r\n",
       "}\r\n",
       "}\r\n",
       "}\r\n",
       "E4 ..> E3 [[psysml:3bf1490e-93ee-46db-b7d3-74f4b2a23de7 ]] : <<import>>\r\n",
       "E5 - -:|> E3 [[psysml:c8bdef6b-3f7a-4888-bf3f-9f853dc854f0 ]] \r\n",
       "@enduml\r\n",
       "\n",
       "PlantUML version 1.2020.13(Sat Jun 13 12:26:38 UTC 2020)\n",
       "(EPL source distribution)\n",
       "Java Runtime: OpenJDK Runtime Environment\n",
       "JVM: OpenJDK 64-Bit Server VM\n",
       "Default Encoding: UTF-8\n",
       "Language: en\n",
       "Country: null\n",
       "--></g></svg>"
      ]
     },
     "execution_count": 38,
     "metadata": {},
     "output_type": "execute_result"
    }
   ],
   "source": [
    "%viz --style=\"DEFAULT\" --view=\"Tree\" \"AliasImport\""
   ]
  },
  {
   "cell_type": "code",
   "execution_count": 39,
   "id": "87780318",
   "metadata": {
    "execution": {
     "iopub.execute_input": "2022-04-22T09:52:19.116609Z",
     "iopub.status.busy": "2022-04-22T09:52:19.116204Z",
     "iopub.status.idle": "2022-04-22T09:52:19.120996Z",
     "shell.execute_reply": "2022-04-22T09:52:19.121311Z"
    }
   },
   "outputs": [
    {
     "data": {
      "image/svg+xml": [
       "<?xml version=\"1.0\" encoding=\"UTF-8\" standalone=\"no\"?><svg xmlns=\"http://www.w3.org/2000/svg\" xmlns:xlink=\"http://www.w3.org/1999/xlink\" contentScriptType=\"application/ecmascript\" contentStyleType=\"text/css\" height=\"12px\" preserveAspectRatio=\"none\" style=\"width:12px;height:12px;\" version=\"1.1\" viewBox=\"0 0 12 12\" width=\"12px\" zoomAndPan=\"magnify\"><defs/><g><!--MD5=[c5f280e076d0d61ccf4b0f27871bda1d]\n",
       "@startuml\r\n",
       "skinparam monochrome true\r\n",
       "skinparam classbackgroundcolor white\r\n",
       "skinparam shadowing false\r\n",
       "skinparam wrapWidth 300\r\n",
       "hide circle\r\n",
       "\r\n",
       "@enduml\r\n",
       "\n",
       "PlantUML version 1.2020.13(Sat Jun 13 12:26:38 UTC 2020)\n",
       "(EPL source distribution)\n",
       "Java Runtime: OpenJDK Runtime Environment\n",
       "JVM: OpenJDK 64-Bit Server VM\n",
       "Default Encoding: UTF-8\n",
       "Language: en\n",
       "Country: null\n",
       "--></g></svg>"
      ]
     },
     "execution_count": 39,
     "metadata": {},
     "output_type": "execute_result"
    }
   ],
   "source": [
    "%viz --style=\"DEFAULT\" --view=\"State\" \"AliasImport\""
   ]
  },
  {
   "cell_type": "code",
   "execution_count": 40,
   "id": "09d3598b",
   "metadata": {
    "execution": {
     "iopub.execute_input": "2022-04-22T09:52:19.171231Z",
     "iopub.status.busy": "2022-04-22T09:52:19.170829Z",
     "iopub.status.idle": "2022-04-22T09:52:19.200715Z",
     "shell.execute_reply": "2022-04-22T09:52:19.200382Z"
    }
   },
   "outputs": [
    {
     "data": {
      "image/svg+xml": [
       "<?xml version=\"1.0\" encoding=\"UTF-8\" standalone=\"no\"?><svg xmlns=\"http://www.w3.org/2000/svg\" xmlns:xlink=\"http://www.w3.org/1999/xlink\" contentScriptType=\"application/ecmascript\" contentStyleType=\"text/css\" height=\"351px\" preserveAspectRatio=\"none\" style=\"width:302px;height:351px;\" version=\"1.1\" viewBox=\"0 0 302 351\" width=\"302px\" zoomAndPan=\"magnify\"><defs/><g><!--MD5=[fbc87193dbaf4d95561dea2c320d4a47]\n",
       "cluster E1--><a href=\"psysml:82c5726b-cb9a-46c4-b6fc-24bdfc4818ff\" target=\"_top\" title=\"psysml:82c5726b-cb9a-46c4-b6fc-24bdfc4818ff\" xlink:actuate=\"onRequest\" xlink:href=\"psysml:82c5726b-cb9a-46c4-b6fc-24bdfc4818ff\" xlink:show=\"new\" xlink:title=\"psysml:82c5726b-cb9a-46c4-b6fc-24bdfc4818ff\" xlink:type=\"simple\"><polygon fill=\"#FFFFFF\" points=\"16,6,97,6,104,28.2969,280,28.2969,280,339,16,339,16,6\" style=\"stroke: #000000; stroke-width: 1.5;\"/><line style=\"stroke: #000000; stroke-width: 1.5;\" x1=\"16\" x2=\"104\" y1=\"28.2969\" y2=\"28.2969\"/><text fill=\"#000000\" font-family=\"sans-serif\" font-size=\"14\" font-weight=\"bold\" lengthAdjust=\"spacingAndGlyphs\" textLength=\"75\" x=\"20\" y=\"20.9951\">AliasImport</text></a><!--MD5=[e4f7fae6ed58524ba242bb0b0d3be6b7]\n",
       "cluster E2--><a href=\"psysml:b1455dfe-9c7f-45c5-9354-49cb3cd9f952\" target=\"_top\" title=\"psysml:b1455dfe-9c7f-45c5-9354-49cb3cd9f952\" xlink:actuate=\"onRequest\" xlink:href=\"psysml:b1455dfe-9c7f-45c5-9354-49cb3cd9f952\" xlink:show=\"new\" xlink:title=\"psysml:b1455dfe-9c7f-45c5-9354-49cb3cd9f952\" xlink:type=\"simple\"><polygon fill=\"#FFFFFF\" points=\"40,221,119,221,126,243.2969,256,243.2969,256,315,40,315,40,221\" style=\"stroke: #000000; stroke-width: 1.5;\"/><line style=\"stroke: #000000; stroke-width: 1.5;\" x1=\"40\" x2=\"126\" y1=\"243.2969\" y2=\"243.2969\"/><text fill=\"#000000\" font-family=\"sans-serif\" font-size=\"14\" font-weight=\"bold\" lengthAdjust=\"spacingAndGlyphs\" textLength=\"73\" x=\"44\" y=\"235.9951\">Definitions</text></a><!--MD5=[de5ec2e2e8f62f467e546659f5068c88]\n",
       "cluster E5--><a href=\"psysml:f72b5ed2-7d34-4b16-a5c4-267d5b8a9efb\" target=\"_top\" title=\"psysml:f72b5ed2-7d34-4b16-a5c4-267d5b8a9efb\" xlink:actuate=\"onRequest\" xlink:href=\"psysml:f72b5ed2-7d34-4b16-a5c4-267d5b8a9efb\" xlink:show=\"new\" xlink:title=\"psysml:f72b5ed2-7d34-4b16-a5c4-267d5b8a9efb\" xlink:type=\"simple\"><polygon fill=\"#FFFFFF\" points=\"56,57,114,57,121,79.2969,230,79.2969,230,164,56,164,56,57\" style=\"stroke: #000000; stroke-width: 1.5;\"/><line style=\"stroke: #000000; stroke-width: 1.5;\" x1=\"56\" x2=\"121\" y1=\"79.2969\" y2=\"79.2969\"/><text fill=\"#000000\" font-family=\"sans-serif\" font-size=\"14\" font-weight=\"bold\" lengthAdjust=\"spacingAndGlyphs\" textLength=\"52\" x=\"60\" y=\"71.9951\">Usages</text></a><g id=\"E1.E2.E3\"><a href=\"psysml:5d1720bb-4632-462e-81a0-399c2024ebdc\" target=\"_top\" title=\"psysml:5d1720bb-4632-462e-81a0-399c2024ebdc\" xlink:actuate=\"onRequest\" xlink:href=\"psysml:5d1720bb-4632-462e-81a0-399c2024ebdc\" xlink:show=\"new\" xlink:title=\"psysml:5d1720bb-4632-462e-81a0-399c2024ebdc\" xlink:type=\"simple\"><rect fill=\"#FFFFFF\" height=\"42.9375\" id=\"E3\" style=\"stroke: #383838; stroke-width: 1.5;\" width=\"75\" x=\"165.5\" y=\"256\"/><rect fill=\"#F8F8F8\" height=\"37.9375\" style=\"stroke: #383838; stroke-width: 1.5;\" width=\"75\" x=\"165.5\" y=\"256\"/><text fill=\"#000000\" font-family=\"sans-serif\" font-size=\"12\" font-style=\"italic\" lengthAdjust=\"spacingAndGlyphs\" textLength=\"68\" x=\"169\" y=\"272.1387\">«part  def»</text><text fill=\"#000000\" font-family=\"sans-serif\" font-size=\"12\" lengthAdjust=\"spacingAndGlyphs\" textLength=\"45\" x=\"180.5\" y=\"286.1074\">Vehicle</text></a></g><g id=\"E1.E2.E4\"><a href=\"psysml:5d1720bb-4632-462e-81a0-399c2024ebdc\" target=\"_top\" title=\"psysml:5d1720bb-4632-462e-81a0-399c2024ebdc\" xlink:actuate=\"onRequest\" xlink:href=\"psysml:5d1720bb-4632-462e-81a0-399c2024ebdc\" xlink:show=\"new\" xlink:title=\"psysml:5d1720bb-4632-462e-81a0-399c2024ebdc\" xlink:type=\"simple\"><rect fill=\"#FFFFFF\" height=\"42.9375\" id=\"E4\" style=\"stroke: #383838; stroke-width: 1.5;\" width=\"75\" x=\"55.5\" y=\"256\"/><rect fill=\"#F8F8F8\" height=\"37.9375\" style=\"stroke: #383838; stroke-width: 1.5;\" width=\"75\" x=\"55.5\" y=\"256\"/><text fill=\"#000000\" font-family=\"sans-serif\" font-size=\"12\" font-style=\"italic\" lengthAdjust=\"spacingAndGlyphs\" textLength=\"68\" x=\"59\" y=\"272.1387\">«part  def»</text><text fill=\"#000000\" font-family=\"sans-serif\" font-size=\"12\" lengthAdjust=\"spacingAndGlyphs\" textLength=\"45\" x=\"70.5\" y=\"286.1074\">Vehicle</text></a></g><g id=\"E1.E5.E6\"><a href=\"psysml:68b35502-f69c-477b-bf3e-22d420c63407\" target=\"_top\" title=\"psysml:68b35502-f69c-477b-bf3e-22d420c63407\" xlink:actuate=\"onRequest\" xlink:href=\"psysml:68b35502-f69c-477b-bf3e-22d420c63407\" xlink:show=\"new\" xlink:title=\"psysml:68b35502-f69c-477b-bf3e-22d420c63407\" xlink:type=\"simple\"><rect fill=\"#FFFFFF\" height=\"40\" id=\"E6\" rx=\"10\" ry=\"10\" style=\"stroke: #383838; stroke-width: 1.5;\" width=\"107\" x=\"99.5\" y=\"100\"/><rect fill=\"#F8F8F8\" height=\"23.9688\" rx=\"10\" ry=\"10\" style=\"stroke: #F8F8F8; stroke-width: 1.5;\" width=\"107\" x=\"99.5\" y=\"100\"/><rect fill=\"#F8F8F8\" height=\"10\" style=\"stroke: #F8F8F8; stroke-width: 1.5;\" width=\"107\" x=\"99.5\" y=\"113.9688\"/><rect fill=\"none\" height=\"40\" id=\"E6\" rx=\"10\" ry=\"10\" style=\"stroke: #383838; stroke-width: 1.5;\" width=\"107\" x=\"99.5\" y=\"100\"/><text fill=\"#000000\" font-family=\"sans-serif\" font-size=\"12\" lengthAdjust=\"spacingAndGlyphs\" textLength=\"96\" x=\"105\" y=\"116.1387\">vehicle: Vehicle</text></a></g><!--MD5=[1c62de2aa5b76f0fb657ff8443a1a700]\n",
       "link E5 to E4--><a href=\"psysml:3bf1490e-93ee-46db-b7d3-74f4b2a23de7\" target=\"_top\" title=\"psysml:3bf1490e-93ee-46db-b7d3-74f4b2a23de7\" xlink:actuate=\"onRequest\" xlink:href=\"psysml:3bf1490e-93ee-46db-b7d3-74f4b2a23de7\" xlink:show=\"new\" xlink:title=\"psysml:3bf1490e-93ee-46db-b7d3-74f4b2a23de7\" xlink:type=\"simple\"><path d=\"M67.2559,164.3434 C67.2848,164.6227 67.314,164.9026 67.3433,165.183 C67.4021,165.7439 67.4617,166.3071 67.5224,166.8722 C67.6436,168.0025 67.7685,169.141 67.8973,170.2859 C68.1549,172.5759 68.4278,174.8919 68.7167,177.2213 C69.8725,186.5388 71.285,196.07 73,205 C75.97,220.45 80.65,237.41 84.74,250.94 \" fill=\"none\" id=\"E5-&gt;E4\" style=\"stroke: #383838; stroke-width: 1.0; stroke-dasharray: 7.0,7.0;\"/><polygon fill=\"#383838\" points=\"86.21,255.76,87.3802,245.9809,84.7366,250.982,79.7354,248.3384,86.21,255.76\" style=\"stroke: #383838; stroke-width: 1.0;\"/><text fill=\"#000000\" font-family=\"sans-serif\" font-size=\"13\" lengthAdjust=\"spacingAndGlyphs\" textLength=\"58\" x=\"74\" y=\"201.0669\">«import»</text></a><!--MD5=[f667431f98296947986a1a7595a31603]\n",
       "link E6 to E4--><a href=\"psysml:c8bdef6b-3f7a-4888-bf3f-9f853dc854f0\" target=\"_top\" title=\"psysml:c8bdef6b-3f7a-4888-bf3f-9f853dc854f0\" xlink:actuate=\"onRequest\" xlink:href=\"psysml:c8bdef6b-3f7a-4888-bf3f-9f853dc854f0\" xlink:show=\"new\" xlink:title=\"psysml:c8bdef6b-3f7a-4888-bf3f-9f853dc854f0\" xlink:type=\"simple\"><path d=\"M151.34,140.23 C149.38,157.62 145.27,183.68 137,205 C132.5,216.61 126.1,228.43 119.57,239.03 \" fill=\"none\" id=\"E6-&gt;E4\" style=\"stroke: #383838; stroke-width: 1.0;\"/><polygon fill=\"#FFFFFF\" points=\"108.43,255.98,113.0161,236.2577,124.7153,243.9472,108.43,255.98\" style=\"stroke: #383838; stroke-width: 1.0;\"/><ellipse cx=\"117.8182\" cy=\"232.593\" fill=\"#383838\" rx=\"2\" ry=\"2\" style=\"stroke: #383838; stroke-width: 1.0;\"/><ellipse cx=\"126.1747\" cy=\"238.0855\" fill=\"#383838\" rx=\"2\" ry=\"2\" style=\"stroke: #383838; stroke-width: 1.0;\"/></a><!--MD5=[2c34f4f208b16a389208fbb6838a1046]\n",
       "@startuml\r\n",
       "skinparam ranksep 10\r\n",
       "skinparam rectangle {\r\n",
       " backgroundColor<<block>> LightGreen\r\n",
       "}\r\n",
       "skinparam monochrome true\r\n",
       "skinparam classbackgroundcolor white\r\n",
       "skinparam shadowing false\r\n",
       "skinparam wrapWidth 300\r\n",
       "hide circle\r\n",
       "\r\n",
       "package \"AliasImport\" as E1  [[psysml:82c5726b-cb9a-46c4-b6fc-24bdfc4818ff ]]  {\r\n",
       "package \"Definitions\" as E2  [[psysml:b1455dfe-9c7f-45c5-9354-49cb3cd9f952 ]]  {\r\n",
       "rec def \"Vehicle\" as E3  <<(T,blue) part  def>> [[psysml:5d1720bb-4632-462e-81a0-399c2024ebdc ]] {\r\n",
       "}\r\n",
       "rec def \"Vehicle\" as E4  <<(T,blue) part  def>> [[psysml:5d1720bb-4632-462e-81a0-399c2024ebdc ]] {\r\n",
       "}\r\n",
       "}\r\n",
       "package \"Usages\" as E5  [[psysml:f72b5ed2-7d34-4b16-a5c4-267d5b8a9efb ]]  {\r\n",
       "rec usage \"vehicle: Vehicle\" as E6  [[psysml:68b35502-f69c-477b-bf3e-22d420c63407 ]] {\r\n",
       "}\r\n",
       "}\r\n",
       "}\r\n",
       "E5 ..> E4 [[psysml:3bf1490e-93ee-46db-b7d3-74f4b2a23de7 ]] : <<import>>\r\n",
       "E6 - -:|> E4 [[psysml:c8bdef6b-3f7a-4888-bf3f-9f853dc854f0 ]] \r\n",
       "@enduml\r\n",
       "\n",
       "PlantUML version 1.2020.13(Sat Jun 13 12:26:38 UTC 2020)\n",
       "(EPL source distribution)\n",
       "Java Runtime: OpenJDK Runtime Environment\n",
       "JVM: OpenJDK 64-Bit Server VM\n",
       "Default Encoding: UTF-8\n",
       "Language: en\n",
       "Country: null\n",
       "--></g></svg>"
      ]
     },
     "execution_count": 40,
     "metadata": {},
     "output_type": "execute_result"
    }
   ],
   "source": [
    "%viz --style=\"DEFAULT\" --view=\"Interconnection\" \"AliasImport\""
   ]
  },
  {
   "cell_type": "code",
   "execution_count": 41,
   "id": "3958cf38",
   "metadata": {
    "execution": {
     "iopub.execute_input": "2022-04-22T09:52:19.250556Z",
     "iopub.status.busy": "2022-04-22T09:52:19.250149Z",
     "iopub.status.idle": "2022-04-22T09:52:19.255360Z",
     "shell.execute_reply": "2022-04-22T09:52:19.255014Z"
    }
   },
   "outputs": [
    {
     "data": {
      "image/svg+xml": [
       "<?xml version=\"1.0\" encoding=\"UTF-8\" standalone=\"no\"?><svg xmlns=\"http://www.w3.org/2000/svg\" xmlns:xlink=\"http://www.w3.org/1999/xlink\" contentScriptType=\"application/ecmascript\" contentStyleType=\"text/css\" height=\"12px\" preserveAspectRatio=\"none\" style=\"width:12px;height:12px;\" version=\"1.1\" viewBox=\"0 0 12 12\" width=\"12px\" zoomAndPan=\"magnify\"><defs/><g><!--MD5=[388f21188e31bfdd97050473b19af356]\n",
       "@startuml\r\n",
       "skinparam ranksep 8\r\n",
       "skinparam monochrome true\r\n",
       "skinparam classbackgroundcolor white\r\n",
       "skinparam shadowing false\r\n",
       "skinparam wrapWidth 300\r\n",
       "hide circle\r\n",
       "\r\n",
       "@enduml\r\n",
       "\n",
       "PlantUML version 1.2020.13(Sat Jun 13 12:26:38 UTC 2020)\n",
       "(EPL source distribution)\n",
       "Java Runtime: OpenJDK Runtime Environment\n",
       "JVM: OpenJDK 64-Bit Server VM\n",
       "Default Encoding: UTF-8\n",
       "Language: en\n",
       "Country: null\n",
       "--></g></svg>"
      ]
     },
     "execution_count": 41,
     "metadata": {},
     "output_type": "execute_result"
    }
   ],
   "source": [
    "%viz --style=\"DEFAULT\" --view=\"Action\" \"AliasImport\""
   ]
  },
  {
   "cell_type": "code",
   "execution_count": 42,
   "id": "347f228b",
   "metadata": {
    "execution": {
     "iopub.execute_input": "2022-04-22T09:52:19.305281Z",
     "iopub.status.busy": "2022-04-22T09:52:19.304879Z",
     "iopub.status.idle": "2022-04-22T09:52:19.310160Z",
     "shell.execute_reply": "2022-04-22T09:52:19.309814Z"
    }
   },
   "outputs": [
    {
     "data": {
      "image/svg+xml": [
       "<?xml version=\"1.0\" encoding=\"UTF-8\" standalone=\"no\"?><svg xmlns=\"http://www.w3.org/2000/svg\" xmlns:xlink=\"http://www.w3.org/1999/xlink\" contentScriptType=\"application/ecmascript\" contentStyleType=\"text/css\" height=\"12px\" preserveAspectRatio=\"none\" style=\"width:12px;height:12px;\" version=\"1.1\" viewBox=\"0 0 12 12\" width=\"12px\" zoomAndPan=\"magnify\"><defs/><g><!--MD5=[0b72472770326784bf6c2b53246e1e64]\n",
       "@startuml\r\n",
       "skinparam roundcorner 20\r\n",
       "skinparam BoxPadding 20\r\n",
       "skinparam SequenceBoxBackgroundColor #white\r\n",
       "skinparam style strictuml\r\n",
       "skinparam maxMessageSize 100\r\n",
       "skinparam monochrome true\r\n",
       "skinparam classbackgroundcolor white\r\n",
       "skinparam shadowing false\r\n",
       "skinparam wrapWidth 300\r\n",
       "hide circle\r\n",
       "\r\n",
       "@enduml\r\n",
       "\n",
       "PlantUML version 1.2020.13(Sat Jun 13 12:26:38 UTC 2020)\n",
       "(EPL source distribution)\n",
       "Java Runtime: OpenJDK Runtime Environment\n",
       "JVM: OpenJDK 64-Bit Server VM\n",
       "Default Encoding: UTF-8\n",
       "Language: en\n",
       "Country: null\n",
       "--></g></svg>"
      ]
     },
     "execution_count": 42,
     "metadata": {},
     "output_type": "execute_result"
    }
   ],
   "source": [
    "%viz --style=\"DEFAULT\" --view=\"Sequence\" \"AliasImport\""
   ]
  },
  {
   "cell_type": "code",
   "execution_count": 43,
   "id": "7b3aa1d3",
   "metadata": {
    "execution": {
     "iopub.execute_input": "2022-04-22T09:52:19.360152Z",
     "iopub.status.busy": "2022-04-22T09:52:19.359751Z",
     "iopub.status.idle": "2022-04-22T09:52:19.387815Z",
     "shell.execute_reply": "2022-04-22T09:52:19.386537Z"
    }
   },
   "outputs": [
    {
     "data": {
      "image/svg+xml": [
       "<?xml version=\"1.0\" encoding=\"UTF-8\" standalone=\"no\"?><svg xmlns=\"http://www.w3.org/2000/svg\" xmlns:xlink=\"http://www.w3.org/1999/xlink\" contentScriptType=\"application/ecmascript\" contentStyleType=\"text/css\" height=\"360px\" preserveAspectRatio=\"none\" style=\"width:275px;height:360px;\" version=\"1.1\" viewBox=\"0 0 275 360\" width=\"275px\" zoomAndPan=\"magnify\"><defs/><g><!--MD5=[fbc87193dbaf4d95561dea2c320d4a47]\n",
       "cluster E1--><a href=\"psysml:82c5726b-cb9a-46c4-b6fc-24bdfc4818ff\" target=\"_top\" title=\"psysml:82c5726b-cb9a-46c4-b6fc-24bdfc4818ff\" xlink:actuate=\"onRequest\" xlink:href=\"psysml:82c5726b-cb9a-46c4-b6fc-24bdfc4818ff\" xlink:show=\"new\" xlink:title=\"psysml:82c5726b-cb9a-46c4-b6fc-24bdfc4818ff\" xlink:type=\"simple\"><polygon fill=\"#FFFFFF\" points=\"16,6,97,6,104,28.2969,253,28.2969,253,348,16,348,16,6\" style=\"stroke: #000000; stroke-width: 1.5;\"/><line style=\"stroke: #000000; stroke-width: 1.5;\" x1=\"16\" x2=\"104\" y1=\"28.2969\" y2=\"28.2969\"/><text fill=\"#000000\" font-family=\"sans-serif\" font-size=\"14\" font-weight=\"bold\" lengthAdjust=\"spacingAndGlyphs\" textLength=\"75\" x=\"20\" y=\"20.9951\">AliasImport</text></a><!--MD5=[e4f7fae6ed58524ba242bb0b0d3be6b7]\n",
       "cluster E2--><a href=\"psysml:b1455dfe-9c7f-45c5-9354-49cb3cd9f952\" target=\"_top\" title=\"psysml:b1455dfe-9c7f-45c5-9354-49cb3cd9f952\" xlink:actuate=\"onRequest\" xlink:href=\"psysml:b1455dfe-9c7f-45c5-9354-49cb3cd9f952\" xlink:show=\"new\" xlink:title=\"psysml:b1455dfe-9c7f-45c5-9354-49cb3cd9f952\" xlink:type=\"simple\"><polygon fill=\"#FFFFFF\" points=\"65,227,144,227,151,249.2969,167,249.2969,167,324,65,324,65,227\" style=\"stroke: #000000; stroke-width: 1.5;\"/><line style=\"stroke: #000000; stroke-width: 1.5;\" x1=\"65\" x2=\"151\" y1=\"249.2969\" y2=\"249.2969\"/><text fill=\"#000000\" font-family=\"sans-serif\" font-size=\"14\" font-weight=\"bold\" lengthAdjust=\"spacingAndGlyphs\" textLength=\"73\" x=\"69\" y=\"241.9951\">Definitions</text></a><!--MD5=[f6df4d0ebaf0b5dfb2ced0ae5af7c670]\n",
       "cluster E4--><a href=\"psysml:f72b5ed2-7d34-4b16-a5c4-267d5b8a9efb\" target=\"_top\" title=\"psysml:f72b5ed2-7d34-4b16-a5c4-267d5b8a9efb\" xlink:actuate=\"onRequest\" xlink:href=\"psysml:f72b5ed2-7d34-4b16-a5c4-267d5b8a9efb\" xlink:show=\"new\" xlink:title=\"psysml:f72b5ed2-7d34-4b16-a5c4-267d5b8a9efb\" xlink:type=\"simple\"><polygon fill=\"#FFFFFF\" points=\"48,57,106,57,113,79.2969,221,79.2969,221,170,48,170,48,57\" style=\"stroke: #000000; stroke-width: 1.5;\"/><line style=\"stroke: #000000; stroke-width: 1.5;\" x1=\"48\" x2=\"113\" y1=\"79.2969\" y2=\"79.2969\"/><text fill=\"#000000\" font-family=\"sans-serif\" font-size=\"14\" font-weight=\"bold\" lengthAdjust=\"spacingAndGlyphs\" textLength=\"52\" x=\"52\" y=\"71.9951\">Usages</text></a><!--MD5=[09b614a08d8cba4a07c9adeb5e0fee81]\n",
       "class E3--><a href=\"psysml:5d1720bb-4632-462e-81a0-399c2024ebdc\" target=\"_top\" title=\"psysml:5d1720bb-4632-462e-81a0-399c2024ebdc\" xlink:actuate=\"onRequest\" xlink:href=\"psysml:5d1720bb-4632-462e-81a0-399c2024ebdc\" xlink:show=\"new\" xlink:title=\"psysml:5d1720bb-4632-462e-81a0-399c2024ebdc\" xlink:type=\"simple\"><rect fill=\"#FFFFFF\" height=\"45.9375\" id=\"E3\" style=\"stroke: #383838; stroke-width: 1.5;\" width=\"70\" x=\"81\" y=\"262\"/><text fill=\"#000000\" font-family=\"sans-serif\" font-size=\"12\" font-style=\"italic\" lengthAdjust=\"spacingAndGlyphs\" textLength=\"68\" x=\"82\" y=\"278.1387\">«part  def»</text><text fill=\"#000000\" font-family=\"sans-serif\" font-size=\"12\" lengthAdjust=\"spacingAndGlyphs\" textLength=\"45\" x=\"93.5\" y=\"292.1074\">Vehicle</text><line style=\"stroke: #383838; stroke-width: 1.5;\" x1=\"82\" x2=\"150\" y1=\"299.9375\" y2=\"299.9375\"/></a><!--MD5=[270fce915f116d4de14055a7c1d9a0f3]\n",
       "class E5--><a href=\"psysml:68b35502-f69c-477b-bf3e-22d420c63407\" target=\"_top\" title=\"psysml:68b35502-f69c-477b-bf3e-22d420c63407\" xlink:actuate=\"onRequest\" xlink:href=\"psysml:68b35502-f69c-477b-bf3e-22d420c63407\" xlink:show=\"new\" xlink:title=\"psysml:68b35502-f69c-477b-bf3e-22d420c63407\" xlink:type=\"simple\"><rect fill=\"#FFFFFF\" height=\"45.9375\" id=\"E5\" rx=\"10\" ry=\"10\" style=\"stroke: #383838; stroke-width: 1.5;\" width=\"106\" x=\"91\" y=\"100\"/><text fill=\"#000000\" font-family=\"sans-serif\" font-size=\"12\" font-style=\"italic\" lengthAdjust=\"spacingAndGlyphs\" textLength=\"40\" x=\"124\" y=\"116.1387\">«part»</text><text fill=\"#000000\" font-family=\"sans-serif\" font-size=\"12\" lengthAdjust=\"spacingAndGlyphs\" textLength=\"96\" x=\"94\" y=\"130.1074\">vehicle: Vehicle</text><line style=\"stroke: #383838; stroke-width: 1.5;\" x1=\"92\" x2=\"196\" y1=\"137.9375\" y2=\"137.9375\"/></a><!--MD5=[f0cdf4548168e5211fb3a02bf679d63a]\n",
       "link E4 to E3--><a href=\"psysml:3bf1490e-93ee-46db-b7d3-74f4b2a23de7\" target=\"_top\" title=\"psysml:3bf1490e-93ee-46db-b7d3-74f4b2a23de7\" xlink:actuate=\"onRequest\" xlink:href=\"psysml:3bf1490e-93ee-46db-b7d3-74f4b2a23de7\" xlink:show=\"new\" xlink:title=\"psysml:3bf1490e-93ee-46db-b7d3-74f4b2a23de7\" xlink:type=\"simple\"><path d=\"M58.5005,170.0549 C58.5193,170.2001 58.5383,170.3454 58.5574,170.4908 C58.6338,171.0725 58.7124,171.6562 58.7932,172.2415 C58.9548,173.4122 59.1253,174.5898 59.3052,175.7725 C59.6651,178.1379 60.0625,180.5238 60.5014,182.9158 C62.2569,192.4838 64.675,202.15 68,211 C74.23,227.58 84.77,244.23 94.38,257.43 \" fill=\"none\" id=\"E4-&gt;E3\" style=\"stroke: #383838; stroke-width: 1.0; stroke-dasharray: 7.0,7.0;\"/><polygon fill=\"#383838\" points=\"97.6,261.77,95.4384,252.1613,94.616,257.758,89.0193,256.9357,97.6,261.77\" style=\"stroke: #383838; stroke-width: 1.0;\"/><text fill=\"#000000\" font-family=\"sans-serif\" font-size=\"13\" lengthAdjust=\"spacingAndGlyphs\" textLength=\"58\" x=\"69\" y=\"207.0669\">«import»</text></a><!--MD5=[e9be52314489bd878ff4c7144b63c9e1]\n",
       "link E5 to E3--><a href=\"psysml:c8bdef6b-3f7a-4888-bf3f-9f853dc854f0\" target=\"_top\" title=\"psysml:c8bdef6b-3f7a-4888-bf3f-9f853dc854f0\" xlink:actuate=\"onRequest\" xlink:href=\"psysml:c8bdef6b-3f7a-4888-bf3f-9f853dc854f0\" xlink:show=\"new\" xlink:title=\"psysml:c8bdef6b-3f7a-4888-bf3f-9f853dc854f0\" xlink:type=\"simple\"><path d=\"M143.03,146.32 C142,163.98 139.95,189.21 136,211 C134.13,221.29 131.49,232.23 128.74,242.43 \" fill=\"none\" id=\"E5-&gt;E3\" style=\"stroke: #383838; stroke-width: 1.0;\"/><polygon fill=\"#FFFFFF\" points=\"123.15,261.87,121.6727,241.6755,135.1276,245.544,123.15,261.87\" style=\"stroke: #383838; stroke-width: 1.0;\"/><ellipse cx=\"125.1699\" cy=\"236.7501\" fill=\"#383838\" rx=\"2\" ry=\"2\" style=\"stroke: #383838; stroke-width: 1.0;\"/><ellipse cx=\"134.7805\" cy=\"239.5133\" fill=\"#383838\" rx=\"2\" ry=\"2\" style=\"stroke: #383838; stroke-width: 1.0;\"/></a><!--MD5=[63a98358a058f9a1f1dfc05c5df7da8c]\n",
       "@startuml\r\n",
       "skinparam monochrome true\r\n",
       "skinparam classbackgroundcolor white\r\n",
       "skinparam shadowing false\r\n",
       "skinparam wrapWidth 300\r\n",
       "hide circle\r\n",
       "\r\n",
       "package \"AliasImport\" as E1  [[psysml:82c5726b-cb9a-46c4-b6fc-24bdfc4818ff ]]  {\r\n",
       "package \"Definitions\" as E2  [[psysml:b1455dfe-9c7f-45c5-9354-49cb3cd9f952 ]]  {\r\n",
       "comp def \"Vehicle\" as E3  <<(T,blue) part  def>> [[psysml:5d1720bb-4632-462e-81a0-399c2024ebdc ]] {\r\n",
       "}\r\n",
       "}\r\n",
       "package \"Usages\" as E4  [[psysml:f72b5ed2-7d34-4b16-a5c4-267d5b8a9efb ]]  {\r\n",
       "comp usage \"vehicle: Vehicle \" as E5  <<(T,blue) part>> [[psysml:68b35502-f69c-477b-bf3e-22d420c63407 ]] {\r\n",
       "}\r\n",
       "}\r\n",
       "}\r\n",
       "E4 ..> E3 [[psysml:3bf1490e-93ee-46db-b7d3-74f4b2a23de7 ]] : <<import>>\r\n",
       "E5 - -:|> E3 [[psysml:c8bdef6b-3f7a-4888-bf3f-9f853dc854f0 ]] \r\n",
       "@enduml\r\n",
       "\n",
       "PlantUML version 1.2020.13(Sat Jun 13 12:26:38 UTC 2020)\n",
       "(EPL source distribution)\n",
       "Java Runtime: OpenJDK Runtime Environment\n",
       "JVM: OpenJDK 64-Bit Server VM\n",
       "Default Encoding: UTF-8\n",
       "Language: en\n",
       "Country: null\n",
       "--></g></svg>"
      ]
     },
     "execution_count": 43,
     "metadata": {},
     "output_type": "execute_result"
    }
   ],
   "source": [
    "%viz --style=\"DEFAULT\" --view=\"MIXED\" \"AliasImport\""
   ]
  },
  {
   "cell_type": "code",
   "execution_count": 44,
   "id": "1a9ce976",
   "metadata": {
    "execution": {
     "iopub.execute_input": "2022-04-22T09:52:19.437425Z",
     "iopub.status.busy": "2022-04-22T09:52:19.436968Z",
     "iopub.status.idle": "2022-04-22T09:52:19.464517Z",
     "shell.execute_reply": "2022-04-22T09:52:19.464155Z"
    }
   },
   "outputs": [
    {
     "data": {
      "image/svg+xml": [
       "<?xml version=\"1.0\" encoding=\"UTF-8\" standalone=\"no\"?><svg xmlns=\"http://www.w3.org/2000/svg\" xmlns:xlink=\"http://www.w3.org/1999/xlink\" contentScriptType=\"application/ecmascript\" contentStyleType=\"text/css\" height=\"360px\" preserveAspectRatio=\"none\" style=\"width:275px;height:360px;\" version=\"1.1\" viewBox=\"0 0 275 360\" width=\"275px\" zoomAndPan=\"magnify\"><defs/><g><!--MD5=[fbc87193dbaf4d95561dea2c320d4a47]\n",
       "cluster E1--><a href=\"psysml:82c5726b-cb9a-46c4-b6fc-24bdfc4818ff\" target=\"_top\" title=\"psysml:82c5726b-cb9a-46c4-b6fc-24bdfc4818ff\" xlink:actuate=\"onRequest\" xlink:href=\"psysml:82c5726b-cb9a-46c4-b6fc-24bdfc4818ff\" xlink:show=\"new\" xlink:title=\"psysml:82c5726b-cb9a-46c4-b6fc-24bdfc4818ff\" xlink:type=\"simple\"><polygon fill=\"#FFFFFF\" points=\"16,6,97,6,104,28.2969,253,28.2969,253,348,16,348,16,6\" style=\"stroke: #000000; stroke-width: 1.5;\"/><line style=\"stroke: #000000; stroke-width: 1.5;\" x1=\"16\" x2=\"104\" y1=\"28.2969\" y2=\"28.2969\"/><text fill=\"#000000\" font-family=\"sans-serif\" font-size=\"14\" font-weight=\"bold\" lengthAdjust=\"spacingAndGlyphs\" textLength=\"75\" x=\"20\" y=\"20.9951\">AliasImport</text></a><!--MD5=[e4f7fae6ed58524ba242bb0b0d3be6b7]\n",
       "cluster E2--><a href=\"psysml:b1455dfe-9c7f-45c5-9354-49cb3cd9f952\" target=\"_top\" title=\"psysml:b1455dfe-9c7f-45c5-9354-49cb3cd9f952\" xlink:actuate=\"onRequest\" xlink:href=\"psysml:b1455dfe-9c7f-45c5-9354-49cb3cd9f952\" xlink:show=\"new\" xlink:title=\"psysml:b1455dfe-9c7f-45c5-9354-49cb3cd9f952\" xlink:type=\"simple\"><polygon fill=\"#FFFFFF\" points=\"65,227,144,227,151,249.2969,167,249.2969,167,324,65,324,65,227\" style=\"stroke: #000000; stroke-width: 1.5;\"/><line style=\"stroke: #000000; stroke-width: 1.5;\" x1=\"65\" x2=\"151\" y1=\"249.2969\" y2=\"249.2969\"/><text fill=\"#000000\" font-family=\"sans-serif\" font-size=\"14\" font-weight=\"bold\" lengthAdjust=\"spacingAndGlyphs\" textLength=\"73\" x=\"69\" y=\"241.9951\">Definitions</text></a><!--MD5=[f6df4d0ebaf0b5dfb2ced0ae5af7c670]\n",
       "cluster E4--><a href=\"psysml:f72b5ed2-7d34-4b16-a5c4-267d5b8a9efb\" target=\"_top\" title=\"psysml:f72b5ed2-7d34-4b16-a5c4-267d5b8a9efb\" xlink:actuate=\"onRequest\" xlink:href=\"psysml:f72b5ed2-7d34-4b16-a5c4-267d5b8a9efb\" xlink:show=\"new\" xlink:title=\"psysml:f72b5ed2-7d34-4b16-a5c4-267d5b8a9efb\" xlink:type=\"simple\"><polygon fill=\"#FFFFFF\" points=\"48,57,106,57,113,79.2969,221,79.2969,221,170,48,170,48,57\" style=\"stroke: #000000; stroke-width: 1.5;\"/><line style=\"stroke: #000000; stroke-width: 1.5;\" x1=\"48\" x2=\"113\" y1=\"79.2969\" y2=\"79.2969\"/><text fill=\"#000000\" font-family=\"sans-serif\" font-size=\"14\" font-weight=\"bold\" lengthAdjust=\"spacingAndGlyphs\" textLength=\"52\" x=\"52\" y=\"71.9951\">Usages</text></a><!--MD5=[09b614a08d8cba4a07c9adeb5e0fee81]\n",
       "class E3--><a href=\"psysml:5d1720bb-4632-462e-81a0-399c2024ebdc\" target=\"_top\" title=\"psysml:5d1720bb-4632-462e-81a0-399c2024ebdc\" xlink:actuate=\"onRequest\" xlink:href=\"psysml:5d1720bb-4632-462e-81a0-399c2024ebdc\" xlink:show=\"new\" xlink:title=\"psysml:5d1720bb-4632-462e-81a0-399c2024ebdc\" xlink:type=\"simple\"><rect fill=\"#FFFFFF\" height=\"45.9375\" id=\"E3\" style=\"stroke: #383838; stroke-width: 1.5;\" width=\"70\" x=\"81\" y=\"262\"/><text fill=\"#000000\" font-family=\"sans-serif\" font-size=\"12\" font-style=\"italic\" lengthAdjust=\"spacingAndGlyphs\" textLength=\"68\" x=\"82\" y=\"278.1387\">«part  def»</text><text fill=\"#000000\" font-family=\"sans-serif\" font-size=\"12\" lengthAdjust=\"spacingAndGlyphs\" textLength=\"45\" x=\"93.5\" y=\"292.1074\">Vehicle</text><line style=\"stroke: #383838; stroke-width: 1.5;\" x1=\"82\" x2=\"150\" y1=\"299.9375\" y2=\"299.9375\"/></a><!--MD5=[270fce915f116d4de14055a7c1d9a0f3]\n",
       "class E5--><a href=\"psysml:68b35502-f69c-477b-bf3e-22d420c63407\" target=\"_top\" title=\"psysml:68b35502-f69c-477b-bf3e-22d420c63407\" xlink:actuate=\"onRequest\" xlink:href=\"psysml:68b35502-f69c-477b-bf3e-22d420c63407\" xlink:show=\"new\" xlink:title=\"psysml:68b35502-f69c-477b-bf3e-22d420c63407\" xlink:type=\"simple\"><rect fill=\"#FFFFFF\" height=\"45.9375\" id=\"E5\" rx=\"10\" ry=\"10\" style=\"stroke: #383838; stroke-width: 1.5;\" width=\"106\" x=\"91\" y=\"100\"/><text fill=\"#000000\" font-family=\"sans-serif\" font-size=\"12\" font-style=\"italic\" lengthAdjust=\"spacingAndGlyphs\" textLength=\"40\" x=\"124\" y=\"116.1387\">«part»</text><text fill=\"#000000\" font-family=\"sans-serif\" font-size=\"12\" lengthAdjust=\"spacingAndGlyphs\" textLength=\"96\" x=\"94\" y=\"130.1074\">vehicle: Vehicle</text><line style=\"stroke: #383838; stroke-width: 1.5;\" x1=\"92\" x2=\"196\" y1=\"137.9375\" y2=\"137.9375\"/></a><!--MD5=[f0cdf4548168e5211fb3a02bf679d63a]\n",
       "link E4 to E3--><a href=\"psysml:3bf1490e-93ee-46db-b7d3-74f4b2a23de7\" target=\"_top\" title=\"psysml:3bf1490e-93ee-46db-b7d3-74f4b2a23de7\" xlink:actuate=\"onRequest\" xlink:href=\"psysml:3bf1490e-93ee-46db-b7d3-74f4b2a23de7\" xlink:show=\"new\" xlink:title=\"psysml:3bf1490e-93ee-46db-b7d3-74f4b2a23de7\" xlink:type=\"simple\"><path d=\"M58.5005,170.0549 C58.5193,170.2001 58.5383,170.3454 58.5574,170.4908 C58.6338,171.0725 58.7124,171.6562 58.7932,172.2415 C58.9548,173.4122 59.1253,174.5898 59.3052,175.7725 C59.6651,178.1379 60.0625,180.5238 60.5014,182.9158 C62.2569,192.4838 64.675,202.15 68,211 C74.23,227.58 84.77,244.23 94.38,257.43 \" fill=\"none\" id=\"E4-&gt;E3\" style=\"stroke: #383838; stroke-width: 1.0; stroke-dasharray: 7.0,7.0;\"/><polygon fill=\"#383838\" points=\"97.6,261.77,95.4384,252.1613,94.616,257.758,89.0193,256.9357,97.6,261.77\" style=\"stroke: #383838; stroke-width: 1.0;\"/><text fill=\"#000000\" font-family=\"sans-serif\" font-size=\"13\" lengthAdjust=\"spacingAndGlyphs\" textLength=\"58\" x=\"69\" y=\"207.0669\">«import»</text></a><!--MD5=[e9be52314489bd878ff4c7144b63c9e1]\n",
       "link E5 to E3--><a href=\"psysml:c8bdef6b-3f7a-4888-bf3f-9f853dc854f0\" target=\"_top\" title=\"psysml:c8bdef6b-3f7a-4888-bf3f-9f853dc854f0\" xlink:actuate=\"onRequest\" xlink:href=\"psysml:c8bdef6b-3f7a-4888-bf3f-9f853dc854f0\" xlink:show=\"new\" xlink:title=\"psysml:c8bdef6b-3f7a-4888-bf3f-9f853dc854f0\" xlink:type=\"simple\"><path d=\"M143.03,146.32 C142,163.98 139.95,189.21 136,211 C134.13,221.29 131.49,232.23 128.74,242.43 \" fill=\"none\" id=\"E5-&gt;E3\" style=\"stroke: #383838; stroke-width: 1.0;\"/><polygon fill=\"#FFFFFF\" points=\"123.15,261.87,121.6727,241.6755,135.1276,245.544,123.15,261.87\" style=\"stroke: #383838; stroke-width: 1.0;\"/><ellipse cx=\"125.1699\" cy=\"236.7501\" fill=\"#383838\" rx=\"2\" ry=\"2\" style=\"stroke: #383838; stroke-width: 1.0;\"/><ellipse cx=\"134.7805\" cy=\"239.5133\" fill=\"#383838\" rx=\"2\" ry=\"2\" style=\"stroke: #383838; stroke-width: 1.0;\"/></a><!--MD5=[22de59cb3da2cd74e5c4744907049815]\n",
       "@startuml\r\n",
       "top to bottom direction\r\n",
       "skinparam monochrome true\r\n",
       "skinparam classbackgroundcolor white\r\n",
       "skinparam shadowing false\r\n",
       "skinparam wrapWidth 300\r\n",
       "hide circle\r\n",
       "\r\n",
       "package \"AliasImport\" as E1  [[psysml:82c5726b-cb9a-46c4-b6fc-24bdfc4818ff ]]  {\r\n",
       "package \"Definitions\" as E2  [[psysml:b1455dfe-9c7f-45c5-9354-49cb3cd9f952 ]]  {\r\n",
       "comp def \"Vehicle\" as E3  <<(T,blue) part  def>> [[psysml:5d1720bb-4632-462e-81a0-399c2024ebdc ]] {\r\n",
       "}\r\n",
       "}\r\n",
       "package \"Usages\" as E4  [[psysml:f72b5ed2-7d34-4b16-a5c4-267d5b8a9efb ]]  {\r\n",
       "comp usage \"vehicle: Vehicle \" as E5  <<(T,blue) part>> [[psysml:68b35502-f69c-477b-bf3e-22d420c63407 ]] {\r\n",
       "}\r\n",
       "}\r\n",
       "}\r\n",
       "E4 ..> E3 [[psysml:3bf1490e-93ee-46db-b7d3-74f4b2a23de7 ]] : <<import>>\r\n",
       "E5 - -:|> E3 [[psysml:c8bdef6b-3f7a-4888-bf3f-9f853dc854f0 ]] \r\n",
       "@enduml\r\n",
       "\n",
       "PlantUML version 1.2020.13(Sat Jun 13 12:26:38 UTC 2020)\n",
       "(EPL source distribution)\n",
       "Java Runtime: OpenJDK Runtime Environment\n",
       "JVM: OpenJDK 64-Bit Server VM\n",
       "Default Encoding: UTF-8\n",
       "Language: en\n",
       "Country: null\n",
       "--></g></svg>"
      ]
     },
     "execution_count": 44,
     "metadata": {},
     "output_type": "execute_result"
    }
   ],
   "source": [
    "%viz --style=\"TB\" --view=\"Default\" \"AliasImport\""
   ]
  },
  {
   "cell_type": "code",
   "execution_count": 45,
   "id": "87721372",
   "metadata": {
    "execution": {
     "iopub.execute_input": "2022-04-22T09:52:19.514335Z",
     "iopub.status.busy": "2022-04-22T09:52:19.513909Z",
     "iopub.status.idle": "2022-04-22T09:52:19.541699Z",
     "shell.execute_reply": "2022-04-22T09:52:19.541296Z"
    }
   },
   "outputs": [
    {
     "data": {
      "image/svg+xml": [
       "<?xml version=\"1.0\" encoding=\"UTF-8\" standalone=\"no\"?><svg xmlns=\"http://www.w3.org/2000/svg\" xmlns:xlink=\"http://www.w3.org/1999/xlink\" contentScriptType=\"application/ecmascript\" contentStyleType=\"text/css\" height=\"360px\" preserveAspectRatio=\"none\" style=\"width:275px;height:360px;\" version=\"1.1\" viewBox=\"0 0 275 360\" width=\"275px\" zoomAndPan=\"magnify\"><defs/><g><!--MD5=[fbc87193dbaf4d95561dea2c320d4a47]\n",
       "cluster E1--><a href=\"psysml:82c5726b-cb9a-46c4-b6fc-24bdfc4818ff\" target=\"_top\" title=\"psysml:82c5726b-cb9a-46c4-b6fc-24bdfc4818ff\" xlink:actuate=\"onRequest\" xlink:href=\"psysml:82c5726b-cb9a-46c4-b6fc-24bdfc4818ff\" xlink:show=\"new\" xlink:title=\"psysml:82c5726b-cb9a-46c4-b6fc-24bdfc4818ff\" xlink:type=\"simple\"><polygon fill=\"#FFFFFF\" points=\"16,6,97,6,104,28.2969,253,28.2969,253,348,16,348,16,6\" style=\"stroke: #000000; stroke-width: 1.5;\"/><line style=\"stroke: #000000; stroke-width: 1.5;\" x1=\"16\" x2=\"104\" y1=\"28.2969\" y2=\"28.2969\"/><text fill=\"#000000\" font-family=\"sans-serif\" font-size=\"14\" font-weight=\"bold\" lengthAdjust=\"spacingAndGlyphs\" textLength=\"75\" x=\"20\" y=\"20.9951\">AliasImport</text></a><!--MD5=[e4f7fae6ed58524ba242bb0b0d3be6b7]\n",
       "cluster E2--><a href=\"psysml:b1455dfe-9c7f-45c5-9354-49cb3cd9f952\" target=\"_top\" title=\"psysml:b1455dfe-9c7f-45c5-9354-49cb3cd9f952\" xlink:actuate=\"onRequest\" xlink:href=\"psysml:b1455dfe-9c7f-45c5-9354-49cb3cd9f952\" xlink:show=\"new\" xlink:title=\"psysml:b1455dfe-9c7f-45c5-9354-49cb3cd9f952\" xlink:type=\"simple\"><polygon fill=\"#FFFFFF\" points=\"65,227,144,227,151,249.2969,167,249.2969,167,324,65,324,65,227\" style=\"stroke: #000000; stroke-width: 1.5;\"/><line style=\"stroke: #000000; stroke-width: 1.5;\" x1=\"65\" x2=\"151\" y1=\"249.2969\" y2=\"249.2969\"/><text fill=\"#000000\" font-family=\"sans-serif\" font-size=\"14\" font-weight=\"bold\" lengthAdjust=\"spacingAndGlyphs\" textLength=\"73\" x=\"69\" y=\"241.9951\">Definitions</text></a><!--MD5=[f6df4d0ebaf0b5dfb2ced0ae5af7c670]\n",
       "cluster E4--><a href=\"psysml:f72b5ed2-7d34-4b16-a5c4-267d5b8a9efb\" target=\"_top\" title=\"psysml:f72b5ed2-7d34-4b16-a5c4-267d5b8a9efb\" xlink:actuate=\"onRequest\" xlink:href=\"psysml:f72b5ed2-7d34-4b16-a5c4-267d5b8a9efb\" xlink:show=\"new\" xlink:title=\"psysml:f72b5ed2-7d34-4b16-a5c4-267d5b8a9efb\" xlink:type=\"simple\"><polygon fill=\"#FFFFFF\" points=\"48,57,106,57,113,79.2969,221,79.2969,221,170,48,170,48,57\" style=\"stroke: #000000; stroke-width: 1.5;\"/><line style=\"stroke: #000000; stroke-width: 1.5;\" x1=\"48\" x2=\"113\" y1=\"79.2969\" y2=\"79.2969\"/><text fill=\"#000000\" font-family=\"sans-serif\" font-size=\"14\" font-weight=\"bold\" lengthAdjust=\"spacingAndGlyphs\" textLength=\"52\" x=\"52\" y=\"71.9951\">Usages</text></a><!--MD5=[09b614a08d8cba4a07c9adeb5e0fee81]\n",
       "class E3--><a href=\"psysml:5d1720bb-4632-462e-81a0-399c2024ebdc\" target=\"_top\" title=\"psysml:5d1720bb-4632-462e-81a0-399c2024ebdc\" xlink:actuate=\"onRequest\" xlink:href=\"psysml:5d1720bb-4632-462e-81a0-399c2024ebdc\" xlink:show=\"new\" xlink:title=\"psysml:5d1720bb-4632-462e-81a0-399c2024ebdc\" xlink:type=\"simple\"><rect fill=\"#FFFFFF\" height=\"45.9375\" id=\"E3\" style=\"stroke: #383838; stroke-width: 1.5;\" width=\"70\" x=\"81\" y=\"262\"/><text fill=\"#000000\" font-family=\"sans-serif\" font-size=\"12\" font-style=\"italic\" lengthAdjust=\"spacingAndGlyphs\" textLength=\"68\" x=\"82\" y=\"278.1387\">«part  def»</text><text fill=\"#000000\" font-family=\"sans-serif\" font-size=\"12\" lengthAdjust=\"spacingAndGlyphs\" textLength=\"45\" x=\"93.5\" y=\"292.1074\">Vehicle</text><line style=\"stroke: #383838; stroke-width: 1.5;\" x1=\"82\" x2=\"150\" y1=\"299.9375\" y2=\"299.9375\"/></a><!--MD5=[270fce915f116d4de14055a7c1d9a0f3]\n",
       "class E5--><a href=\"psysml:68b35502-f69c-477b-bf3e-22d420c63407\" target=\"_top\" title=\"psysml:68b35502-f69c-477b-bf3e-22d420c63407\" xlink:actuate=\"onRequest\" xlink:href=\"psysml:68b35502-f69c-477b-bf3e-22d420c63407\" xlink:show=\"new\" xlink:title=\"psysml:68b35502-f69c-477b-bf3e-22d420c63407\" xlink:type=\"simple\"><rect fill=\"#FFFFFF\" height=\"45.9375\" id=\"E5\" rx=\"10\" ry=\"10\" style=\"stroke: #383838; stroke-width: 1.5;\" width=\"106\" x=\"91\" y=\"100\"/><text fill=\"#000000\" font-family=\"sans-serif\" font-size=\"12\" font-style=\"italic\" lengthAdjust=\"spacingAndGlyphs\" textLength=\"40\" x=\"124\" y=\"116.1387\">«part»</text><text fill=\"#000000\" font-family=\"sans-serif\" font-size=\"12\" lengthAdjust=\"spacingAndGlyphs\" textLength=\"96\" x=\"94\" y=\"130.1074\">vehicle: Vehicle</text><line style=\"stroke: #383838; stroke-width: 1.5;\" x1=\"92\" x2=\"196\" y1=\"137.9375\" y2=\"137.9375\"/></a><!--MD5=[f0cdf4548168e5211fb3a02bf679d63a]\n",
       "link E4 to E3--><a href=\"psysml:3bf1490e-93ee-46db-b7d3-74f4b2a23de7\" target=\"_top\" title=\"psysml:3bf1490e-93ee-46db-b7d3-74f4b2a23de7\" xlink:actuate=\"onRequest\" xlink:href=\"psysml:3bf1490e-93ee-46db-b7d3-74f4b2a23de7\" xlink:show=\"new\" xlink:title=\"psysml:3bf1490e-93ee-46db-b7d3-74f4b2a23de7\" xlink:type=\"simple\"><path d=\"M58.5005,170.0549 C58.5193,170.2001 58.5383,170.3454 58.5574,170.4908 C58.6338,171.0725 58.7124,171.6562 58.7932,172.2415 C58.9548,173.4122 59.1253,174.5898 59.3052,175.7725 C59.6651,178.1379 60.0625,180.5238 60.5014,182.9158 C62.2569,192.4838 64.675,202.15 68,211 C74.23,227.58 84.77,244.23 94.38,257.43 \" fill=\"none\" id=\"E4-&gt;E3\" style=\"stroke: #383838; stroke-width: 1.0; stroke-dasharray: 7.0,7.0;\"/><polygon fill=\"#383838\" points=\"97.6,261.77,95.4384,252.1613,94.616,257.758,89.0193,256.9357,97.6,261.77\" style=\"stroke: #383838; stroke-width: 1.0;\"/><text fill=\"#000000\" font-family=\"sans-serif\" font-size=\"13\" lengthAdjust=\"spacingAndGlyphs\" textLength=\"58\" x=\"69\" y=\"207.0669\">«import»</text></a><!--MD5=[e9be52314489bd878ff4c7144b63c9e1]\n",
       "link E5 to E3--><a href=\"psysml:c8bdef6b-3f7a-4888-bf3f-9f853dc854f0\" target=\"_top\" title=\"psysml:c8bdef6b-3f7a-4888-bf3f-9f853dc854f0\" xlink:actuate=\"onRequest\" xlink:href=\"psysml:c8bdef6b-3f7a-4888-bf3f-9f853dc854f0\" xlink:show=\"new\" xlink:title=\"psysml:c8bdef6b-3f7a-4888-bf3f-9f853dc854f0\" xlink:type=\"simple\"><path d=\"M143.03,146.32 C142,163.98 139.95,189.21 136,211 C134.13,221.29 131.49,232.23 128.74,242.43 \" fill=\"none\" id=\"E5-&gt;E3\" style=\"stroke: #383838; stroke-width: 1.0;\"/><polygon fill=\"#FFFFFF\" points=\"123.15,261.87,121.6727,241.6755,135.1276,245.544,123.15,261.87\" style=\"stroke: #383838; stroke-width: 1.0;\"/><ellipse cx=\"125.1699\" cy=\"236.7501\" fill=\"#383838\" rx=\"2\" ry=\"2\" style=\"stroke: #383838; stroke-width: 1.0;\"/><ellipse cx=\"134.7805\" cy=\"239.5133\" fill=\"#383838\" rx=\"2\" ry=\"2\" style=\"stroke: #383838; stroke-width: 1.0;\"/></a><!--MD5=[22de59cb3da2cd74e5c4744907049815]\n",
       "@startuml\r\n",
       "top to bottom direction\r\n",
       "skinparam monochrome true\r\n",
       "skinparam classbackgroundcolor white\r\n",
       "skinparam shadowing false\r\n",
       "skinparam wrapWidth 300\r\n",
       "hide circle\r\n",
       "\r\n",
       "package \"AliasImport\" as E1  [[psysml:82c5726b-cb9a-46c4-b6fc-24bdfc4818ff ]]  {\r\n",
       "package \"Definitions\" as E2  [[psysml:b1455dfe-9c7f-45c5-9354-49cb3cd9f952 ]]  {\r\n",
       "comp def \"Vehicle\" as E3  <<(T,blue) part  def>> [[psysml:5d1720bb-4632-462e-81a0-399c2024ebdc ]] {\r\n",
       "}\r\n",
       "}\r\n",
       "package \"Usages\" as E4  [[psysml:f72b5ed2-7d34-4b16-a5c4-267d5b8a9efb ]]  {\r\n",
       "comp usage \"vehicle: Vehicle \" as E5  <<(T,blue) part>> [[psysml:68b35502-f69c-477b-bf3e-22d420c63407 ]] {\r\n",
       "}\r\n",
       "}\r\n",
       "}\r\n",
       "E4 ..> E3 [[psysml:3bf1490e-93ee-46db-b7d3-74f4b2a23de7 ]] : <<import>>\r\n",
       "E5 - -:|> E3 [[psysml:c8bdef6b-3f7a-4888-bf3f-9f853dc854f0 ]] \r\n",
       "@enduml\r\n",
       "\n",
       "PlantUML version 1.2020.13(Sat Jun 13 12:26:38 UTC 2020)\n",
       "(EPL source distribution)\n",
       "Java Runtime: OpenJDK Runtime Environment\n",
       "JVM: OpenJDK 64-Bit Server VM\n",
       "Default Encoding: UTF-8\n",
       "Language: en\n",
       "Country: null\n",
       "--></g></svg>"
      ]
     },
     "execution_count": 45,
     "metadata": {},
     "output_type": "execute_result"
    }
   ],
   "source": [
    "%viz --style=\"TB\" --view=\"Tree\" \"AliasImport\""
   ]
  },
  {
   "cell_type": "code",
   "execution_count": 46,
   "id": "bb5a4c9d",
   "metadata": {
    "execution": {
     "iopub.execute_input": "2022-04-22T09:52:19.591659Z",
     "iopub.status.busy": "2022-04-22T09:52:19.591234Z",
     "iopub.status.idle": "2022-04-22T09:52:19.595936Z",
     "shell.execute_reply": "2022-04-22T09:52:19.595586Z"
    }
   },
   "outputs": [
    {
     "data": {
      "image/svg+xml": [
       "<?xml version=\"1.0\" encoding=\"UTF-8\" standalone=\"no\"?><svg xmlns=\"http://www.w3.org/2000/svg\" xmlns:xlink=\"http://www.w3.org/1999/xlink\" contentScriptType=\"application/ecmascript\" contentStyleType=\"text/css\" height=\"12px\" preserveAspectRatio=\"none\" style=\"width:12px;height:12px;\" version=\"1.1\" viewBox=\"0 0 12 12\" width=\"12px\" zoomAndPan=\"magnify\"><defs/><g><!--MD5=[f4ee21bc66e489b5061b7c3e9601fdef]\n",
       "@startuml\r\n",
       "top to bottom direction\r\n",
       "skinparam monochrome true\r\n",
       "skinparam classbackgroundcolor white\r\n",
       "skinparam shadowing false\r\n",
       "skinparam wrapWidth 300\r\n",
       "hide circle\r\n",
       "\r\n",
       "@enduml\r\n",
       "\n",
       "PlantUML version 1.2020.13(Sat Jun 13 12:26:38 UTC 2020)\n",
       "(EPL source distribution)\n",
       "Java Runtime: OpenJDK Runtime Environment\n",
       "JVM: OpenJDK 64-Bit Server VM\n",
       "Default Encoding: UTF-8\n",
       "Language: en\n",
       "Country: null\n",
       "--></g></svg>"
      ]
     },
     "execution_count": 46,
     "metadata": {},
     "output_type": "execute_result"
    }
   ],
   "source": [
    "%viz --style=\"TB\" --view=\"State\" \"AliasImport\""
   ]
  },
  {
   "cell_type": "code",
   "execution_count": 47,
   "id": "716889e9",
   "metadata": {
    "execution": {
     "iopub.execute_input": "2022-04-22T09:52:19.645939Z",
     "iopub.status.busy": "2022-04-22T09:52:19.645510Z",
     "iopub.status.idle": "2022-04-22T09:52:19.674703Z",
     "shell.execute_reply": "2022-04-22T09:52:19.674338Z"
    }
   },
   "outputs": [
    {
     "data": {
      "image/svg+xml": [
       "<?xml version=\"1.0\" encoding=\"UTF-8\" standalone=\"no\"?><svg xmlns=\"http://www.w3.org/2000/svg\" xmlns:xlink=\"http://www.w3.org/1999/xlink\" contentScriptType=\"application/ecmascript\" contentStyleType=\"text/css\" height=\"351px\" preserveAspectRatio=\"none\" style=\"width:302px;height:351px;\" version=\"1.1\" viewBox=\"0 0 302 351\" width=\"302px\" zoomAndPan=\"magnify\"><defs/><g><!--MD5=[fbc87193dbaf4d95561dea2c320d4a47]\n",
       "cluster E1--><a href=\"psysml:82c5726b-cb9a-46c4-b6fc-24bdfc4818ff\" target=\"_top\" title=\"psysml:82c5726b-cb9a-46c4-b6fc-24bdfc4818ff\" xlink:actuate=\"onRequest\" xlink:href=\"psysml:82c5726b-cb9a-46c4-b6fc-24bdfc4818ff\" xlink:show=\"new\" xlink:title=\"psysml:82c5726b-cb9a-46c4-b6fc-24bdfc4818ff\" xlink:type=\"simple\"><polygon fill=\"#FFFFFF\" points=\"16,6,97,6,104,28.2969,280,28.2969,280,339,16,339,16,6\" style=\"stroke: #000000; stroke-width: 1.5;\"/><line style=\"stroke: #000000; stroke-width: 1.5;\" x1=\"16\" x2=\"104\" y1=\"28.2969\" y2=\"28.2969\"/><text fill=\"#000000\" font-family=\"sans-serif\" font-size=\"14\" font-weight=\"bold\" lengthAdjust=\"spacingAndGlyphs\" textLength=\"75\" x=\"20\" y=\"20.9951\">AliasImport</text></a><!--MD5=[e4f7fae6ed58524ba242bb0b0d3be6b7]\n",
       "cluster E2--><a href=\"psysml:b1455dfe-9c7f-45c5-9354-49cb3cd9f952\" target=\"_top\" title=\"psysml:b1455dfe-9c7f-45c5-9354-49cb3cd9f952\" xlink:actuate=\"onRequest\" xlink:href=\"psysml:b1455dfe-9c7f-45c5-9354-49cb3cd9f952\" xlink:show=\"new\" xlink:title=\"psysml:b1455dfe-9c7f-45c5-9354-49cb3cd9f952\" xlink:type=\"simple\"><polygon fill=\"#FFFFFF\" points=\"40,221,119,221,126,243.2969,256,243.2969,256,315,40,315,40,221\" style=\"stroke: #000000; stroke-width: 1.5;\"/><line style=\"stroke: #000000; stroke-width: 1.5;\" x1=\"40\" x2=\"126\" y1=\"243.2969\" y2=\"243.2969\"/><text fill=\"#000000\" font-family=\"sans-serif\" font-size=\"14\" font-weight=\"bold\" lengthAdjust=\"spacingAndGlyphs\" textLength=\"73\" x=\"44\" y=\"235.9951\">Definitions</text></a><!--MD5=[de5ec2e2e8f62f467e546659f5068c88]\n",
       "cluster E5--><a href=\"psysml:f72b5ed2-7d34-4b16-a5c4-267d5b8a9efb\" target=\"_top\" title=\"psysml:f72b5ed2-7d34-4b16-a5c4-267d5b8a9efb\" xlink:actuate=\"onRequest\" xlink:href=\"psysml:f72b5ed2-7d34-4b16-a5c4-267d5b8a9efb\" xlink:show=\"new\" xlink:title=\"psysml:f72b5ed2-7d34-4b16-a5c4-267d5b8a9efb\" xlink:type=\"simple\"><polygon fill=\"#FFFFFF\" points=\"56,57,114,57,121,79.2969,230,79.2969,230,164,56,164,56,57\" style=\"stroke: #000000; stroke-width: 1.5;\"/><line style=\"stroke: #000000; stroke-width: 1.5;\" x1=\"56\" x2=\"121\" y1=\"79.2969\" y2=\"79.2969\"/><text fill=\"#000000\" font-family=\"sans-serif\" font-size=\"14\" font-weight=\"bold\" lengthAdjust=\"spacingAndGlyphs\" textLength=\"52\" x=\"60\" y=\"71.9951\">Usages</text></a><g id=\"E1.E2.E3\"><a href=\"psysml:5d1720bb-4632-462e-81a0-399c2024ebdc\" target=\"_top\" title=\"psysml:5d1720bb-4632-462e-81a0-399c2024ebdc\" xlink:actuate=\"onRequest\" xlink:href=\"psysml:5d1720bb-4632-462e-81a0-399c2024ebdc\" xlink:show=\"new\" xlink:title=\"psysml:5d1720bb-4632-462e-81a0-399c2024ebdc\" xlink:type=\"simple\"><rect fill=\"#FFFFFF\" height=\"42.9375\" id=\"E3\" style=\"stroke: #383838; stroke-width: 1.5;\" width=\"75\" x=\"165.5\" y=\"256\"/><rect fill=\"#F8F8F8\" height=\"37.9375\" style=\"stroke: #383838; stroke-width: 1.5;\" width=\"75\" x=\"165.5\" y=\"256\"/><text fill=\"#000000\" font-family=\"sans-serif\" font-size=\"12\" font-style=\"italic\" lengthAdjust=\"spacingAndGlyphs\" textLength=\"68\" x=\"169\" y=\"272.1387\">«part  def»</text><text fill=\"#000000\" font-family=\"sans-serif\" font-size=\"12\" lengthAdjust=\"spacingAndGlyphs\" textLength=\"45\" x=\"180.5\" y=\"286.1074\">Vehicle</text></a></g><g id=\"E1.E2.E4\"><a href=\"psysml:5d1720bb-4632-462e-81a0-399c2024ebdc\" target=\"_top\" title=\"psysml:5d1720bb-4632-462e-81a0-399c2024ebdc\" xlink:actuate=\"onRequest\" xlink:href=\"psysml:5d1720bb-4632-462e-81a0-399c2024ebdc\" xlink:show=\"new\" xlink:title=\"psysml:5d1720bb-4632-462e-81a0-399c2024ebdc\" xlink:type=\"simple\"><rect fill=\"#FFFFFF\" height=\"42.9375\" id=\"E4\" style=\"stroke: #383838; stroke-width: 1.5;\" width=\"75\" x=\"55.5\" y=\"256\"/><rect fill=\"#F8F8F8\" height=\"37.9375\" style=\"stroke: #383838; stroke-width: 1.5;\" width=\"75\" x=\"55.5\" y=\"256\"/><text fill=\"#000000\" font-family=\"sans-serif\" font-size=\"12\" font-style=\"italic\" lengthAdjust=\"spacingAndGlyphs\" textLength=\"68\" x=\"59\" y=\"272.1387\">«part  def»</text><text fill=\"#000000\" font-family=\"sans-serif\" font-size=\"12\" lengthAdjust=\"spacingAndGlyphs\" textLength=\"45\" x=\"70.5\" y=\"286.1074\">Vehicle</text></a></g><g id=\"E1.E5.E6\"><a href=\"psysml:68b35502-f69c-477b-bf3e-22d420c63407\" target=\"_top\" title=\"psysml:68b35502-f69c-477b-bf3e-22d420c63407\" xlink:actuate=\"onRequest\" xlink:href=\"psysml:68b35502-f69c-477b-bf3e-22d420c63407\" xlink:show=\"new\" xlink:title=\"psysml:68b35502-f69c-477b-bf3e-22d420c63407\" xlink:type=\"simple\"><rect fill=\"#FFFFFF\" height=\"40\" id=\"E6\" rx=\"10\" ry=\"10\" style=\"stroke: #383838; stroke-width: 1.5;\" width=\"107\" x=\"99.5\" y=\"100\"/><rect fill=\"#F8F8F8\" height=\"23.9688\" rx=\"10\" ry=\"10\" style=\"stroke: #F8F8F8; stroke-width: 1.5;\" width=\"107\" x=\"99.5\" y=\"100\"/><rect fill=\"#F8F8F8\" height=\"10\" style=\"stroke: #F8F8F8; stroke-width: 1.5;\" width=\"107\" x=\"99.5\" y=\"113.9688\"/><rect fill=\"none\" height=\"40\" id=\"E6\" rx=\"10\" ry=\"10\" style=\"stroke: #383838; stroke-width: 1.5;\" width=\"107\" x=\"99.5\" y=\"100\"/><text fill=\"#000000\" font-family=\"sans-serif\" font-size=\"12\" lengthAdjust=\"spacingAndGlyphs\" textLength=\"96\" x=\"105\" y=\"116.1387\">vehicle: Vehicle</text></a></g><!--MD5=[1c62de2aa5b76f0fb657ff8443a1a700]\n",
       "link E5 to E4--><a href=\"psysml:3bf1490e-93ee-46db-b7d3-74f4b2a23de7\" target=\"_top\" title=\"psysml:3bf1490e-93ee-46db-b7d3-74f4b2a23de7\" xlink:actuate=\"onRequest\" xlink:href=\"psysml:3bf1490e-93ee-46db-b7d3-74f4b2a23de7\" xlink:show=\"new\" xlink:title=\"psysml:3bf1490e-93ee-46db-b7d3-74f4b2a23de7\" xlink:type=\"simple\"><path d=\"M67.2559,164.3434 C67.2848,164.6227 67.314,164.9026 67.3433,165.183 C67.4021,165.7439 67.4617,166.3071 67.5224,166.8722 C67.6436,168.0025 67.7685,169.141 67.8973,170.2859 C68.1549,172.5759 68.4278,174.8919 68.7167,177.2213 C69.8725,186.5388 71.285,196.07 73,205 C75.97,220.45 80.65,237.41 84.74,250.94 \" fill=\"none\" id=\"E5-&gt;E4\" style=\"stroke: #383838; stroke-width: 1.0; stroke-dasharray: 7.0,7.0;\"/><polygon fill=\"#383838\" points=\"86.21,255.76,87.3802,245.9809,84.7366,250.982,79.7354,248.3384,86.21,255.76\" style=\"stroke: #383838; stroke-width: 1.0;\"/><text fill=\"#000000\" font-family=\"sans-serif\" font-size=\"13\" lengthAdjust=\"spacingAndGlyphs\" textLength=\"58\" x=\"74\" y=\"201.0669\">«import»</text></a><!--MD5=[f667431f98296947986a1a7595a31603]\n",
       "link E6 to E4--><a href=\"psysml:c8bdef6b-3f7a-4888-bf3f-9f853dc854f0\" target=\"_top\" title=\"psysml:c8bdef6b-3f7a-4888-bf3f-9f853dc854f0\" xlink:actuate=\"onRequest\" xlink:href=\"psysml:c8bdef6b-3f7a-4888-bf3f-9f853dc854f0\" xlink:show=\"new\" xlink:title=\"psysml:c8bdef6b-3f7a-4888-bf3f-9f853dc854f0\" xlink:type=\"simple\"><path d=\"M151.34,140.23 C149.38,157.62 145.27,183.68 137,205 C132.5,216.61 126.1,228.43 119.57,239.03 \" fill=\"none\" id=\"E6-&gt;E4\" style=\"stroke: #383838; stroke-width: 1.0;\"/><polygon fill=\"#FFFFFF\" points=\"108.43,255.98,113.0161,236.2577,124.7153,243.9472,108.43,255.98\" style=\"stroke: #383838; stroke-width: 1.0;\"/><ellipse cx=\"117.8182\" cy=\"232.593\" fill=\"#383838\" rx=\"2\" ry=\"2\" style=\"stroke: #383838; stroke-width: 1.0;\"/><ellipse cx=\"126.1747\" cy=\"238.0855\" fill=\"#383838\" rx=\"2\" ry=\"2\" style=\"stroke: #383838; stroke-width: 1.0;\"/></a><!--MD5=[6458b4d55ba61f04a088aa0235cf05f2]\n",
       "@startuml\r\n",
       "skinparam ranksep 10\r\n",
       "skinparam rectangle {\r\n",
       " backgroundColor<<block>> LightGreen\r\n",
       "}\r\n",
       "top to bottom direction\r\n",
       "skinparam monochrome true\r\n",
       "skinparam classbackgroundcolor white\r\n",
       "skinparam shadowing false\r\n",
       "skinparam wrapWidth 300\r\n",
       "hide circle\r\n",
       "\r\n",
       "package \"AliasImport\" as E1  [[psysml:82c5726b-cb9a-46c4-b6fc-24bdfc4818ff ]]  {\r\n",
       "package \"Definitions\" as E2  [[psysml:b1455dfe-9c7f-45c5-9354-49cb3cd9f952 ]]  {\r\n",
       "rec def \"Vehicle\" as E3  <<(T,blue) part  def>> [[psysml:5d1720bb-4632-462e-81a0-399c2024ebdc ]] {\r\n",
       "}\r\n",
       "rec def \"Vehicle\" as E4  <<(T,blue) part  def>> [[psysml:5d1720bb-4632-462e-81a0-399c2024ebdc ]] {\r\n",
       "}\r\n",
       "}\r\n",
       "package \"Usages\" as E5  [[psysml:f72b5ed2-7d34-4b16-a5c4-267d5b8a9efb ]]  {\r\n",
       "rec usage \"vehicle: Vehicle\" as E6  [[psysml:68b35502-f69c-477b-bf3e-22d420c63407 ]] {\r\n",
       "}\r\n",
       "}\r\n",
       "}\r\n",
       "E5 ..> E4 [[psysml:3bf1490e-93ee-46db-b7d3-74f4b2a23de7 ]] : <<import>>\r\n",
       "E6 - -:|> E4 [[psysml:c8bdef6b-3f7a-4888-bf3f-9f853dc854f0 ]] \r\n",
       "@enduml\r\n",
       "\n",
       "PlantUML version 1.2020.13(Sat Jun 13 12:26:38 UTC 2020)\n",
       "(EPL source distribution)\n",
       "Java Runtime: OpenJDK Runtime Environment\n",
       "JVM: OpenJDK 64-Bit Server VM\n",
       "Default Encoding: UTF-8\n",
       "Language: en\n",
       "Country: null\n",
       "--></g></svg>"
      ]
     },
     "execution_count": 47,
     "metadata": {},
     "output_type": "execute_result"
    }
   ],
   "source": [
    "%viz --style=\"TB\" --view=\"Interconnection\" \"AliasImport\""
   ]
  },
  {
   "cell_type": "code",
   "execution_count": 48,
   "id": "0cf2e899",
   "metadata": {
    "execution": {
     "iopub.execute_input": "2022-04-22T09:52:19.724414Z",
     "iopub.status.busy": "2022-04-22T09:52:19.724013Z",
     "iopub.status.idle": "2022-04-22T09:52:19.728780Z",
     "shell.execute_reply": "2022-04-22T09:52:19.729093Z"
    }
   },
   "outputs": [
    {
     "data": {
      "image/svg+xml": [
       "<?xml version=\"1.0\" encoding=\"UTF-8\" standalone=\"no\"?><svg xmlns=\"http://www.w3.org/2000/svg\" xmlns:xlink=\"http://www.w3.org/1999/xlink\" contentScriptType=\"application/ecmascript\" contentStyleType=\"text/css\" height=\"12px\" preserveAspectRatio=\"none\" style=\"width:12px;height:12px;\" version=\"1.1\" viewBox=\"0 0 12 12\" width=\"12px\" zoomAndPan=\"magnify\"><defs/><g><!--MD5=[06afc254b03ac5e9d9fb7773b07d0800]\n",
       "@startuml\r\n",
       "skinparam ranksep 8\r\n",
       "top to bottom direction\r\n",
       "skinparam monochrome true\r\n",
       "skinparam classbackgroundcolor white\r\n",
       "skinparam shadowing false\r\n",
       "skinparam wrapWidth 300\r\n",
       "hide circle\r\n",
       "\r\n",
       "@enduml\r\n",
       "\n",
       "PlantUML version 1.2020.13(Sat Jun 13 12:26:38 UTC 2020)\n",
       "(EPL source distribution)\n",
       "Java Runtime: OpenJDK Runtime Environment\n",
       "JVM: OpenJDK 64-Bit Server VM\n",
       "Default Encoding: UTF-8\n",
       "Language: en\n",
       "Country: null\n",
       "--></g></svg>"
      ]
     },
     "execution_count": 48,
     "metadata": {},
     "output_type": "execute_result"
    }
   ],
   "source": [
    "%viz --style=\"TB\" --view=\"Action\" \"AliasImport\""
   ]
  },
  {
   "cell_type": "code",
   "execution_count": 49,
   "id": "3cae6c3e",
   "metadata": {
    "execution": {
     "iopub.execute_input": "2022-04-22T09:52:19.779156Z",
     "iopub.status.busy": "2022-04-22T09:52:19.778755Z",
     "iopub.status.idle": "2022-04-22T09:52:19.783674Z",
     "shell.execute_reply": "2022-04-22T09:52:19.783332Z"
    }
   },
   "outputs": [
    {
     "data": {
      "image/svg+xml": [
       "<?xml version=\"1.0\" encoding=\"UTF-8\" standalone=\"no\"?><svg xmlns=\"http://www.w3.org/2000/svg\" xmlns:xlink=\"http://www.w3.org/1999/xlink\" contentScriptType=\"application/ecmascript\" contentStyleType=\"text/css\" height=\"12px\" preserveAspectRatio=\"none\" style=\"width:12px;height:12px;\" version=\"1.1\" viewBox=\"0 0 12 12\" width=\"12px\" zoomAndPan=\"magnify\"><defs/><g><!--MD5=[e1ab0c84c44d2fef8bf5f140f2689906]\n",
       "@startuml\r\n",
       "skinparam roundcorner 20\r\n",
       "skinparam BoxPadding 20\r\n",
       "skinparam SequenceBoxBackgroundColor #white\r\n",
       "skinparam style strictuml\r\n",
       "skinparam maxMessageSize 100\r\n",
       "top to bottom direction\r\n",
       "skinparam monochrome true\r\n",
       "skinparam classbackgroundcolor white\r\n",
       "skinparam shadowing false\r\n",
       "skinparam wrapWidth 300\r\n",
       "hide circle\r\n",
       "\r\n",
       "@enduml\r\n",
       "\n",
       "PlantUML version 1.2020.13(Sat Jun 13 12:26:38 UTC 2020)\n",
       "(EPL source distribution)\n",
       "Java Runtime: OpenJDK Runtime Environment\n",
       "JVM: OpenJDK 64-Bit Server VM\n",
       "Default Encoding: UTF-8\n",
       "Language: en\n",
       "Country: null\n",
       "--></g></svg>"
      ]
     },
     "execution_count": 49,
     "metadata": {},
     "output_type": "execute_result"
    }
   ],
   "source": [
    "%viz --style=\"TB\" --view=\"Sequence\" \"AliasImport\""
   ]
  },
  {
   "cell_type": "code",
   "execution_count": 50,
   "id": "0a989f34",
   "metadata": {
    "execution": {
     "iopub.execute_input": "2022-04-22T09:52:19.834613Z",
     "iopub.status.busy": "2022-04-22T09:52:19.833283Z",
     "iopub.status.idle": "2022-04-22T09:52:19.860492Z",
     "shell.execute_reply": "2022-04-22T09:52:19.860146Z"
    }
   },
   "outputs": [
    {
     "data": {
      "image/svg+xml": [
       "<?xml version=\"1.0\" encoding=\"UTF-8\" standalone=\"no\"?><svg xmlns=\"http://www.w3.org/2000/svg\" xmlns:xlink=\"http://www.w3.org/1999/xlink\" contentScriptType=\"application/ecmascript\" contentStyleType=\"text/css\" height=\"360px\" preserveAspectRatio=\"none\" style=\"width:275px;height:360px;\" version=\"1.1\" viewBox=\"0 0 275 360\" width=\"275px\" zoomAndPan=\"magnify\"><defs/><g><!--MD5=[fbc87193dbaf4d95561dea2c320d4a47]\n",
       "cluster E1--><a href=\"psysml:82c5726b-cb9a-46c4-b6fc-24bdfc4818ff\" target=\"_top\" title=\"psysml:82c5726b-cb9a-46c4-b6fc-24bdfc4818ff\" xlink:actuate=\"onRequest\" xlink:href=\"psysml:82c5726b-cb9a-46c4-b6fc-24bdfc4818ff\" xlink:show=\"new\" xlink:title=\"psysml:82c5726b-cb9a-46c4-b6fc-24bdfc4818ff\" xlink:type=\"simple\"><polygon fill=\"#FFFFFF\" points=\"16,6,97,6,104,28.2969,253,28.2969,253,348,16,348,16,6\" style=\"stroke: #000000; stroke-width: 1.5;\"/><line style=\"stroke: #000000; stroke-width: 1.5;\" x1=\"16\" x2=\"104\" y1=\"28.2969\" y2=\"28.2969\"/><text fill=\"#000000\" font-family=\"sans-serif\" font-size=\"14\" font-weight=\"bold\" lengthAdjust=\"spacingAndGlyphs\" textLength=\"75\" x=\"20\" y=\"20.9951\">AliasImport</text></a><!--MD5=[e4f7fae6ed58524ba242bb0b0d3be6b7]\n",
       "cluster E2--><a href=\"psysml:b1455dfe-9c7f-45c5-9354-49cb3cd9f952\" target=\"_top\" title=\"psysml:b1455dfe-9c7f-45c5-9354-49cb3cd9f952\" xlink:actuate=\"onRequest\" xlink:href=\"psysml:b1455dfe-9c7f-45c5-9354-49cb3cd9f952\" xlink:show=\"new\" xlink:title=\"psysml:b1455dfe-9c7f-45c5-9354-49cb3cd9f952\" xlink:type=\"simple\"><polygon fill=\"#FFFFFF\" points=\"65,227,144,227,151,249.2969,167,249.2969,167,324,65,324,65,227\" style=\"stroke: #000000; stroke-width: 1.5;\"/><line style=\"stroke: #000000; stroke-width: 1.5;\" x1=\"65\" x2=\"151\" y1=\"249.2969\" y2=\"249.2969\"/><text fill=\"#000000\" font-family=\"sans-serif\" font-size=\"14\" font-weight=\"bold\" lengthAdjust=\"spacingAndGlyphs\" textLength=\"73\" x=\"69\" y=\"241.9951\">Definitions</text></a><!--MD5=[f6df4d0ebaf0b5dfb2ced0ae5af7c670]\n",
       "cluster E4--><a href=\"psysml:f72b5ed2-7d34-4b16-a5c4-267d5b8a9efb\" target=\"_top\" title=\"psysml:f72b5ed2-7d34-4b16-a5c4-267d5b8a9efb\" xlink:actuate=\"onRequest\" xlink:href=\"psysml:f72b5ed2-7d34-4b16-a5c4-267d5b8a9efb\" xlink:show=\"new\" xlink:title=\"psysml:f72b5ed2-7d34-4b16-a5c4-267d5b8a9efb\" xlink:type=\"simple\"><polygon fill=\"#FFFFFF\" points=\"48,57,106,57,113,79.2969,221,79.2969,221,170,48,170,48,57\" style=\"stroke: #000000; stroke-width: 1.5;\"/><line style=\"stroke: #000000; stroke-width: 1.5;\" x1=\"48\" x2=\"113\" y1=\"79.2969\" y2=\"79.2969\"/><text fill=\"#000000\" font-family=\"sans-serif\" font-size=\"14\" font-weight=\"bold\" lengthAdjust=\"spacingAndGlyphs\" textLength=\"52\" x=\"52\" y=\"71.9951\">Usages</text></a><!--MD5=[09b614a08d8cba4a07c9adeb5e0fee81]\n",
       "class E3--><a href=\"psysml:5d1720bb-4632-462e-81a0-399c2024ebdc\" target=\"_top\" title=\"psysml:5d1720bb-4632-462e-81a0-399c2024ebdc\" xlink:actuate=\"onRequest\" xlink:href=\"psysml:5d1720bb-4632-462e-81a0-399c2024ebdc\" xlink:show=\"new\" xlink:title=\"psysml:5d1720bb-4632-462e-81a0-399c2024ebdc\" xlink:type=\"simple\"><rect fill=\"#FFFFFF\" height=\"45.9375\" id=\"E3\" style=\"stroke: #383838; stroke-width: 1.5;\" width=\"70\" x=\"81\" y=\"262\"/><text fill=\"#000000\" font-family=\"sans-serif\" font-size=\"12\" font-style=\"italic\" lengthAdjust=\"spacingAndGlyphs\" textLength=\"68\" x=\"82\" y=\"278.1387\">«part  def»</text><text fill=\"#000000\" font-family=\"sans-serif\" font-size=\"12\" lengthAdjust=\"spacingAndGlyphs\" textLength=\"45\" x=\"93.5\" y=\"292.1074\">Vehicle</text><line style=\"stroke: #383838; stroke-width: 1.5;\" x1=\"82\" x2=\"150\" y1=\"299.9375\" y2=\"299.9375\"/></a><!--MD5=[270fce915f116d4de14055a7c1d9a0f3]\n",
       "class E5--><a href=\"psysml:68b35502-f69c-477b-bf3e-22d420c63407\" target=\"_top\" title=\"psysml:68b35502-f69c-477b-bf3e-22d420c63407\" xlink:actuate=\"onRequest\" xlink:href=\"psysml:68b35502-f69c-477b-bf3e-22d420c63407\" xlink:show=\"new\" xlink:title=\"psysml:68b35502-f69c-477b-bf3e-22d420c63407\" xlink:type=\"simple\"><rect fill=\"#FFFFFF\" height=\"45.9375\" id=\"E5\" rx=\"10\" ry=\"10\" style=\"stroke: #383838; stroke-width: 1.5;\" width=\"106\" x=\"91\" y=\"100\"/><text fill=\"#000000\" font-family=\"sans-serif\" font-size=\"12\" font-style=\"italic\" lengthAdjust=\"spacingAndGlyphs\" textLength=\"40\" x=\"124\" y=\"116.1387\">«part»</text><text fill=\"#000000\" font-family=\"sans-serif\" font-size=\"12\" lengthAdjust=\"spacingAndGlyphs\" textLength=\"96\" x=\"94\" y=\"130.1074\">vehicle: Vehicle</text><line style=\"stroke: #383838; stroke-width: 1.5;\" x1=\"92\" x2=\"196\" y1=\"137.9375\" y2=\"137.9375\"/></a><!--MD5=[f0cdf4548168e5211fb3a02bf679d63a]\n",
       "link E4 to E3--><a href=\"psysml:3bf1490e-93ee-46db-b7d3-74f4b2a23de7\" target=\"_top\" title=\"psysml:3bf1490e-93ee-46db-b7d3-74f4b2a23de7\" xlink:actuate=\"onRequest\" xlink:href=\"psysml:3bf1490e-93ee-46db-b7d3-74f4b2a23de7\" xlink:show=\"new\" xlink:title=\"psysml:3bf1490e-93ee-46db-b7d3-74f4b2a23de7\" xlink:type=\"simple\"><path d=\"M58.5005,170.0549 C58.5193,170.2001 58.5383,170.3454 58.5574,170.4908 C58.6338,171.0725 58.7124,171.6562 58.7932,172.2415 C58.9548,173.4122 59.1253,174.5898 59.3052,175.7725 C59.6651,178.1379 60.0625,180.5238 60.5014,182.9158 C62.2569,192.4838 64.675,202.15 68,211 C74.23,227.58 84.77,244.23 94.38,257.43 \" fill=\"none\" id=\"E4-&gt;E3\" style=\"stroke: #383838; stroke-width: 1.0; stroke-dasharray: 7.0,7.0;\"/><polygon fill=\"#383838\" points=\"97.6,261.77,95.4384,252.1613,94.616,257.758,89.0193,256.9357,97.6,261.77\" style=\"stroke: #383838; stroke-width: 1.0;\"/><text fill=\"#000000\" font-family=\"sans-serif\" font-size=\"13\" lengthAdjust=\"spacingAndGlyphs\" textLength=\"58\" x=\"69\" y=\"207.0669\">«import»</text></a><!--MD5=[e9be52314489bd878ff4c7144b63c9e1]\n",
       "link E5 to E3--><a href=\"psysml:c8bdef6b-3f7a-4888-bf3f-9f853dc854f0\" target=\"_top\" title=\"psysml:c8bdef6b-3f7a-4888-bf3f-9f853dc854f0\" xlink:actuate=\"onRequest\" xlink:href=\"psysml:c8bdef6b-3f7a-4888-bf3f-9f853dc854f0\" xlink:show=\"new\" xlink:title=\"psysml:c8bdef6b-3f7a-4888-bf3f-9f853dc854f0\" xlink:type=\"simple\"><path d=\"M143.03,146.32 C142,163.98 139.95,189.21 136,211 C134.13,221.29 131.49,232.23 128.74,242.43 \" fill=\"none\" id=\"E5-&gt;E3\" style=\"stroke: #383838; stroke-width: 1.0;\"/><polygon fill=\"#FFFFFF\" points=\"123.15,261.87,121.6727,241.6755,135.1276,245.544,123.15,261.87\" style=\"stroke: #383838; stroke-width: 1.0;\"/><ellipse cx=\"125.1699\" cy=\"236.7501\" fill=\"#383838\" rx=\"2\" ry=\"2\" style=\"stroke: #383838; stroke-width: 1.0;\"/><ellipse cx=\"134.7805\" cy=\"239.5133\" fill=\"#383838\" rx=\"2\" ry=\"2\" style=\"stroke: #383838; stroke-width: 1.0;\"/></a><!--MD5=[22de59cb3da2cd74e5c4744907049815]\n",
       "@startuml\r\n",
       "top to bottom direction\r\n",
       "skinparam monochrome true\r\n",
       "skinparam classbackgroundcolor white\r\n",
       "skinparam shadowing false\r\n",
       "skinparam wrapWidth 300\r\n",
       "hide circle\r\n",
       "\r\n",
       "package \"AliasImport\" as E1  [[psysml:82c5726b-cb9a-46c4-b6fc-24bdfc4818ff ]]  {\r\n",
       "package \"Definitions\" as E2  [[psysml:b1455dfe-9c7f-45c5-9354-49cb3cd9f952 ]]  {\r\n",
       "comp def \"Vehicle\" as E3  <<(T,blue) part  def>> [[psysml:5d1720bb-4632-462e-81a0-399c2024ebdc ]] {\r\n",
       "}\r\n",
       "}\r\n",
       "package \"Usages\" as E4  [[psysml:f72b5ed2-7d34-4b16-a5c4-267d5b8a9efb ]]  {\r\n",
       "comp usage \"vehicle: Vehicle \" as E5  <<(T,blue) part>> [[psysml:68b35502-f69c-477b-bf3e-22d420c63407 ]] {\r\n",
       "}\r\n",
       "}\r\n",
       "}\r\n",
       "E4 ..> E3 [[psysml:3bf1490e-93ee-46db-b7d3-74f4b2a23de7 ]] : <<import>>\r\n",
       "E5 - -:|> E3 [[psysml:c8bdef6b-3f7a-4888-bf3f-9f853dc854f0 ]] \r\n",
       "@enduml\r\n",
       "\n",
       "PlantUML version 1.2020.13(Sat Jun 13 12:26:38 UTC 2020)\n",
       "(EPL source distribution)\n",
       "Java Runtime: OpenJDK Runtime Environment\n",
       "JVM: OpenJDK 64-Bit Server VM\n",
       "Default Encoding: UTF-8\n",
       "Language: en\n",
       "Country: null\n",
       "--></g></svg>"
      ]
     },
     "execution_count": 50,
     "metadata": {},
     "output_type": "execute_result"
    }
   ],
   "source": [
    "%viz --style=\"TB\" --view=\"MIXED\" \"AliasImport\""
   ]
  },
  {
   "cell_type": "code",
   "execution_count": 51,
   "id": "3a779b2b",
   "metadata": {
    "execution": {
     "iopub.execute_input": "2022-04-22T09:52:19.910212Z",
     "iopub.status.busy": "2022-04-22T09:52:19.909816Z",
     "iopub.status.idle": "2022-04-22T09:52:19.937721Z",
     "shell.execute_reply": "2022-04-22T09:52:19.937360Z"
    }
   },
   "outputs": [
    {
     "data": {
      "image/svg+xml": [
       "<?xml version=\"1.0\" encoding=\"UTF-8\" standalone=\"no\"?><svg xmlns=\"http://www.w3.org/2000/svg\" xmlns:xlink=\"http://www.w3.org/1999/xlink\" contentScriptType=\"application/ecmascript\" contentStyleType=\"text/css\" height=\"360px\" preserveAspectRatio=\"none\" style=\"width:275px;height:360px;\" version=\"1.1\" viewBox=\"0 0 275 360\" width=\"275px\" zoomAndPan=\"magnify\"><defs/><g><!--MD5=[fbc87193dbaf4d95561dea2c320d4a47]\n",
       "cluster E1--><a href=\"psysml:82c5726b-cb9a-46c4-b6fc-24bdfc4818ff\" target=\"_top\" title=\"psysml:82c5726b-cb9a-46c4-b6fc-24bdfc4818ff\" xlink:actuate=\"onRequest\" xlink:href=\"psysml:82c5726b-cb9a-46c4-b6fc-24bdfc4818ff\" xlink:show=\"new\" xlink:title=\"psysml:82c5726b-cb9a-46c4-b6fc-24bdfc4818ff\" xlink:type=\"simple\"><polygon fill=\"#FFFFFF\" points=\"16,6,97,6,104,28.2969,253,28.2969,253,348,16,348,16,6\" style=\"stroke: #000000; stroke-width: 1.5;\"/><line style=\"stroke: #000000; stroke-width: 1.5;\" x1=\"16\" x2=\"104\" y1=\"28.2969\" y2=\"28.2969\"/><text fill=\"#000000\" font-family=\"sans-serif\" font-size=\"14\" font-weight=\"bold\" lengthAdjust=\"spacingAndGlyphs\" textLength=\"75\" x=\"20\" y=\"20.9951\">AliasImport</text></a><!--MD5=[e4f7fae6ed58524ba242bb0b0d3be6b7]\n",
       "cluster E2--><a href=\"psysml:b1455dfe-9c7f-45c5-9354-49cb3cd9f952\" target=\"_top\" title=\"psysml:b1455dfe-9c7f-45c5-9354-49cb3cd9f952\" xlink:actuate=\"onRequest\" xlink:href=\"psysml:b1455dfe-9c7f-45c5-9354-49cb3cd9f952\" xlink:show=\"new\" xlink:title=\"psysml:b1455dfe-9c7f-45c5-9354-49cb3cd9f952\" xlink:type=\"simple\"><polygon fill=\"#FFFFFF\" points=\"65,227,144,227,151,249.2969,167,249.2969,167,324,65,324,65,227\" style=\"stroke: #000000; stroke-width: 1.5;\"/><line style=\"stroke: #000000; stroke-width: 1.5;\" x1=\"65\" x2=\"151\" y1=\"249.2969\" y2=\"249.2969\"/><text fill=\"#000000\" font-family=\"sans-serif\" font-size=\"14\" font-weight=\"bold\" lengthAdjust=\"spacingAndGlyphs\" textLength=\"73\" x=\"69\" y=\"241.9951\">Definitions</text></a><!--MD5=[f6df4d0ebaf0b5dfb2ced0ae5af7c670]\n",
       "cluster E4--><a href=\"psysml:f72b5ed2-7d34-4b16-a5c4-267d5b8a9efb\" target=\"_top\" title=\"psysml:f72b5ed2-7d34-4b16-a5c4-267d5b8a9efb\" xlink:actuate=\"onRequest\" xlink:href=\"psysml:f72b5ed2-7d34-4b16-a5c4-267d5b8a9efb\" xlink:show=\"new\" xlink:title=\"psysml:f72b5ed2-7d34-4b16-a5c4-267d5b8a9efb\" xlink:type=\"simple\"><polygon fill=\"#FFFFFF\" points=\"48,57,106,57,113,79.2969,221,79.2969,221,170,48,170,48,57\" style=\"stroke: #000000; stroke-width: 1.5;\"/><line style=\"stroke: #000000; stroke-width: 1.5;\" x1=\"48\" x2=\"113\" y1=\"79.2969\" y2=\"79.2969\"/><text fill=\"#000000\" font-family=\"sans-serif\" font-size=\"14\" font-weight=\"bold\" lengthAdjust=\"spacingAndGlyphs\" textLength=\"52\" x=\"52\" y=\"71.9951\">Usages</text></a><!--MD5=[09b614a08d8cba4a07c9adeb5e0fee81]\n",
       "class E3--><a href=\"psysml:5d1720bb-4632-462e-81a0-399c2024ebdc\" target=\"_top\" title=\"psysml:5d1720bb-4632-462e-81a0-399c2024ebdc\" xlink:actuate=\"onRequest\" xlink:href=\"psysml:5d1720bb-4632-462e-81a0-399c2024ebdc\" xlink:show=\"new\" xlink:title=\"psysml:5d1720bb-4632-462e-81a0-399c2024ebdc\" xlink:type=\"simple\"><rect fill=\"#FFFFFF\" height=\"45.9375\" id=\"E3\" style=\"stroke: #383838; stroke-width: 1.5;\" width=\"70\" x=\"81\" y=\"262\"/><text fill=\"#000000\" font-family=\"sans-serif\" font-size=\"12\" font-style=\"italic\" lengthAdjust=\"spacingAndGlyphs\" textLength=\"68\" x=\"82\" y=\"278.1387\">«part  def»</text><text fill=\"#000000\" font-family=\"sans-serif\" font-size=\"12\" lengthAdjust=\"spacingAndGlyphs\" textLength=\"45\" x=\"93.5\" y=\"292.1074\">Vehicle</text><line style=\"stroke: #383838; stroke-width: 1.5;\" x1=\"82\" x2=\"150\" y1=\"299.9375\" y2=\"299.9375\"/></a><!--MD5=[270fce915f116d4de14055a7c1d9a0f3]\n",
       "class E5--><a href=\"psysml:68b35502-f69c-477b-bf3e-22d420c63407\" target=\"_top\" title=\"psysml:68b35502-f69c-477b-bf3e-22d420c63407\" xlink:actuate=\"onRequest\" xlink:href=\"psysml:68b35502-f69c-477b-bf3e-22d420c63407\" xlink:show=\"new\" xlink:title=\"psysml:68b35502-f69c-477b-bf3e-22d420c63407\" xlink:type=\"simple\"><rect fill=\"#FFFFFF\" height=\"45.9375\" id=\"E5\" rx=\"10\" ry=\"10\" style=\"stroke: #383838; stroke-width: 1.5;\" width=\"106\" x=\"91\" y=\"100\"/><text fill=\"#000000\" font-family=\"sans-serif\" font-size=\"12\" font-style=\"italic\" lengthAdjust=\"spacingAndGlyphs\" textLength=\"40\" x=\"124\" y=\"116.1387\">«part»</text><text fill=\"#000000\" font-family=\"sans-serif\" font-size=\"12\" lengthAdjust=\"spacingAndGlyphs\" textLength=\"96\" x=\"94\" y=\"130.1074\">vehicle: Vehicle</text><line style=\"stroke: #383838; stroke-width: 1.5;\" x1=\"92\" x2=\"196\" y1=\"137.9375\" y2=\"137.9375\"/></a><!--MD5=[f0cdf4548168e5211fb3a02bf679d63a]\n",
       "link E4 to E3--><a href=\"psysml:3bf1490e-93ee-46db-b7d3-74f4b2a23de7\" target=\"_top\" title=\"psysml:3bf1490e-93ee-46db-b7d3-74f4b2a23de7\" xlink:actuate=\"onRequest\" xlink:href=\"psysml:3bf1490e-93ee-46db-b7d3-74f4b2a23de7\" xlink:show=\"new\" xlink:title=\"psysml:3bf1490e-93ee-46db-b7d3-74f4b2a23de7\" xlink:type=\"simple\"><path d=\"M86,170.5461 C86,170.7974 86,171.0491 86,171.3013 C86,173.3182 86,175.3597 86,177.4175 C86,181.5331 86,185.7141 86,189.895 C86,223.3425 86,256.79 86,256.79 \" fill=\"none\" id=\"E4-&gt;E3\" style=\"stroke: #383838; stroke-width: 1.0; stroke-dasharray: 7.0,7.0;\"/><polygon fill=\"#383838\" points=\"86,261.79,90,252.79,86,256.79,82,252.79,86,261.79\" style=\"stroke: #383838; stroke-width: 1.0;\"/><text fill=\"#000000\" font-family=\"sans-serif\" font-size=\"13\" lengthAdjust=\"spacingAndGlyphs\" textLength=\"58\" x=\"73\" y=\"207.0669\">«import»</text></a><!--MD5=[e9be52314489bd878ff4c7144b63c9e1]\n",
       "link E5 to E3--><a href=\"psysml:c8bdef6b-3f7a-4888-bf3f-9f853dc854f0\" target=\"_top\" title=\"psysml:c8bdef6b-3f7a-4888-bf3f-9f853dc854f0\" xlink:actuate=\"onRequest\" xlink:href=\"psysml:c8bdef6b-3f7a-4888-bf3f-9f853dc854f0\" xlink:show=\"new\" xlink:title=\"psysml:c8bdef6b-3f7a-4888-bf3f-9f853dc854f0\" xlink:type=\"simple\"><path d=\"M121,146.21 C121,146.21 121,241.83 121,241.83 \" fill=\"none\" id=\"E5-&gt;E3\" style=\"stroke: #383838; stroke-width: 1.0;\"/><polygon fill=\"#FFFFFF\" points=\"121,261.83,114,242.83,128,242.83,121,261.83\" style=\"stroke: #383838; stroke-width: 1.0;\"/><ellipse cx=\"116\" cy=\"237.13\" fill=\"#383838\" rx=\"2\" ry=\"2\" style=\"stroke: #383838; stroke-width: 1.0;\"/><ellipse cx=\"126\" cy=\"237.13\" fill=\"#383838\" rx=\"2\" ry=\"2\" style=\"stroke: #383838; stroke-width: 1.0;\"/></a><!--MD5=[9c027cb6d4a7cf469bb564e329e28d7b]\n",
       "@startuml\r\n",
       "skinparam linetype ortho\r\n",
       "skinparam monochrome true\r\n",
       "skinparam classbackgroundcolor white\r\n",
       "skinparam shadowing false\r\n",
       "skinparam wrapWidth 300\r\n",
       "hide circle\r\n",
       "\r\n",
       "package \"AliasImport\" as E1  [[psysml:82c5726b-cb9a-46c4-b6fc-24bdfc4818ff ]]  {\r\n",
       "package \"Definitions\" as E2  [[psysml:b1455dfe-9c7f-45c5-9354-49cb3cd9f952 ]]  {\r\n",
       "comp def \"Vehicle\" as E3  <<(T,blue) part  def>> [[psysml:5d1720bb-4632-462e-81a0-399c2024ebdc ]] {\r\n",
       "}\r\n",
       "}\r\n",
       "package \"Usages\" as E4  [[psysml:f72b5ed2-7d34-4b16-a5c4-267d5b8a9efb ]]  {\r\n",
       "comp usage \"vehicle: Vehicle \" as E5  <<(T,blue) part>> [[psysml:68b35502-f69c-477b-bf3e-22d420c63407 ]] {\r\n",
       "}\r\n",
       "}\r\n",
       "}\r\n",
       "E4 ..> E3 [[psysml:3bf1490e-93ee-46db-b7d3-74f4b2a23de7 ]] : <<import>>\r\n",
       "E5 - -:|> E3 [[psysml:c8bdef6b-3f7a-4888-bf3f-9f853dc854f0 ]] \r\n",
       "@enduml\r\n",
       "\n",
       "PlantUML version 1.2020.13(Sat Jun 13 12:26:38 UTC 2020)\n",
       "(EPL source distribution)\n",
       "Java Runtime: OpenJDK Runtime Environment\n",
       "JVM: OpenJDK 64-Bit Server VM\n",
       "Default Encoding: UTF-8\n",
       "Language: en\n",
       "Country: null\n",
       "--></g></svg>"
      ]
     },
     "execution_count": 51,
     "metadata": {},
     "output_type": "execute_result"
    }
   ],
   "source": [
    "%viz --style=\"ORTHOLINE\" --view=\"Default\" \"AliasImport\""
   ]
  },
  {
   "cell_type": "code",
   "execution_count": 52,
   "id": "34ef3dbd",
   "metadata": {
    "execution": {
     "iopub.execute_input": "2022-04-22T09:52:19.987428Z",
     "iopub.status.busy": "2022-04-22T09:52:19.987031Z",
     "iopub.status.idle": "2022-04-22T09:52:20.016034Z",
     "shell.execute_reply": "2022-04-22T09:52:20.015655Z"
    }
   },
   "outputs": [
    {
     "data": {
      "image/svg+xml": [
       "<?xml version=\"1.0\" encoding=\"UTF-8\" standalone=\"no\"?><svg xmlns=\"http://www.w3.org/2000/svg\" xmlns:xlink=\"http://www.w3.org/1999/xlink\" contentScriptType=\"application/ecmascript\" contentStyleType=\"text/css\" height=\"360px\" preserveAspectRatio=\"none\" style=\"width:275px;height:360px;\" version=\"1.1\" viewBox=\"0 0 275 360\" width=\"275px\" zoomAndPan=\"magnify\"><defs/><g><!--MD5=[fbc87193dbaf4d95561dea2c320d4a47]\n",
       "cluster E1--><a href=\"psysml:82c5726b-cb9a-46c4-b6fc-24bdfc4818ff\" target=\"_top\" title=\"psysml:82c5726b-cb9a-46c4-b6fc-24bdfc4818ff\" xlink:actuate=\"onRequest\" xlink:href=\"psysml:82c5726b-cb9a-46c4-b6fc-24bdfc4818ff\" xlink:show=\"new\" xlink:title=\"psysml:82c5726b-cb9a-46c4-b6fc-24bdfc4818ff\" xlink:type=\"simple\"><polygon fill=\"#FFFFFF\" points=\"16,6,97,6,104,28.2969,253,28.2969,253,348,16,348,16,6\" style=\"stroke: #000000; stroke-width: 1.5;\"/><line style=\"stroke: #000000; stroke-width: 1.5;\" x1=\"16\" x2=\"104\" y1=\"28.2969\" y2=\"28.2969\"/><text fill=\"#000000\" font-family=\"sans-serif\" font-size=\"14\" font-weight=\"bold\" lengthAdjust=\"spacingAndGlyphs\" textLength=\"75\" x=\"20\" y=\"20.9951\">AliasImport</text></a><!--MD5=[e4f7fae6ed58524ba242bb0b0d3be6b7]\n",
       "cluster E2--><a href=\"psysml:b1455dfe-9c7f-45c5-9354-49cb3cd9f952\" target=\"_top\" title=\"psysml:b1455dfe-9c7f-45c5-9354-49cb3cd9f952\" xlink:actuate=\"onRequest\" xlink:href=\"psysml:b1455dfe-9c7f-45c5-9354-49cb3cd9f952\" xlink:show=\"new\" xlink:title=\"psysml:b1455dfe-9c7f-45c5-9354-49cb3cd9f952\" xlink:type=\"simple\"><polygon fill=\"#FFFFFF\" points=\"65,227,144,227,151,249.2969,167,249.2969,167,324,65,324,65,227\" style=\"stroke: #000000; stroke-width: 1.5;\"/><line style=\"stroke: #000000; stroke-width: 1.5;\" x1=\"65\" x2=\"151\" y1=\"249.2969\" y2=\"249.2969\"/><text fill=\"#000000\" font-family=\"sans-serif\" font-size=\"14\" font-weight=\"bold\" lengthAdjust=\"spacingAndGlyphs\" textLength=\"73\" x=\"69\" y=\"241.9951\">Definitions</text></a><!--MD5=[f6df4d0ebaf0b5dfb2ced0ae5af7c670]\n",
       "cluster E4--><a href=\"psysml:f72b5ed2-7d34-4b16-a5c4-267d5b8a9efb\" target=\"_top\" title=\"psysml:f72b5ed2-7d34-4b16-a5c4-267d5b8a9efb\" xlink:actuate=\"onRequest\" xlink:href=\"psysml:f72b5ed2-7d34-4b16-a5c4-267d5b8a9efb\" xlink:show=\"new\" xlink:title=\"psysml:f72b5ed2-7d34-4b16-a5c4-267d5b8a9efb\" xlink:type=\"simple\"><polygon fill=\"#FFFFFF\" points=\"48,57,106,57,113,79.2969,221,79.2969,221,170,48,170,48,57\" style=\"stroke: #000000; stroke-width: 1.5;\"/><line style=\"stroke: #000000; stroke-width: 1.5;\" x1=\"48\" x2=\"113\" y1=\"79.2969\" y2=\"79.2969\"/><text fill=\"#000000\" font-family=\"sans-serif\" font-size=\"14\" font-weight=\"bold\" lengthAdjust=\"spacingAndGlyphs\" textLength=\"52\" x=\"52\" y=\"71.9951\">Usages</text></a><!--MD5=[09b614a08d8cba4a07c9adeb5e0fee81]\n",
       "class E3--><a href=\"psysml:5d1720bb-4632-462e-81a0-399c2024ebdc\" target=\"_top\" title=\"psysml:5d1720bb-4632-462e-81a0-399c2024ebdc\" xlink:actuate=\"onRequest\" xlink:href=\"psysml:5d1720bb-4632-462e-81a0-399c2024ebdc\" xlink:show=\"new\" xlink:title=\"psysml:5d1720bb-4632-462e-81a0-399c2024ebdc\" xlink:type=\"simple\"><rect fill=\"#FFFFFF\" height=\"45.9375\" id=\"E3\" style=\"stroke: #383838; stroke-width: 1.5;\" width=\"70\" x=\"81\" y=\"262\"/><text fill=\"#000000\" font-family=\"sans-serif\" font-size=\"12\" font-style=\"italic\" lengthAdjust=\"spacingAndGlyphs\" textLength=\"68\" x=\"82\" y=\"278.1387\">«part  def»</text><text fill=\"#000000\" font-family=\"sans-serif\" font-size=\"12\" lengthAdjust=\"spacingAndGlyphs\" textLength=\"45\" x=\"93.5\" y=\"292.1074\">Vehicle</text><line style=\"stroke: #383838; stroke-width: 1.5;\" x1=\"82\" x2=\"150\" y1=\"299.9375\" y2=\"299.9375\"/></a><!--MD5=[270fce915f116d4de14055a7c1d9a0f3]\n",
       "class E5--><a href=\"psysml:68b35502-f69c-477b-bf3e-22d420c63407\" target=\"_top\" title=\"psysml:68b35502-f69c-477b-bf3e-22d420c63407\" xlink:actuate=\"onRequest\" xlink:href=\"psysml:68b35502-f69c-477b-bf3e-22d420c63407\" xlink:show=\"new\" xlink:title=\"psysml:68b35502-f69c-477b-bf3e-22d420c63407\" xlink:type=\"simple\"><rect fill=\"#FFFFFF\" height=\"45.9375\" id=\"E5\" rx=\"10\" ry=\"10\" style=\"stroke: #383838; stroke-width: 1.5;\" width=\"106\" x=\"91\" y=\"100\"/><text fill=\"#000000\" font-family=\"sans-serif\" font-size=\"12\" font-style=\"italic\" lengthAdjust=\"spacingAndGlyphs\" textLength=\"40\" x=\"124\" y=\"116.1387\">«part»</text><text fill=\"#000000\" font-family=\"sans-serif\" font-size=\"12\" lengthAdjust=\"spacingAndGlyphs\" textLength=\"96\" x=\"94\" y=\"130.1074\">vehicle: Vehicle</text><line style=\"stroke: #383838; stroke-width: 1.5;\" x1=\"92\" x2=\"196\" y1=\"137.9375\" y2=\"137.9375\"/></a><!--MD5=[f0cdf4548168e5211fb3a02bf679d63a]\n",
       "link E4 to E3--><a href=\"psysml:3bf1490e-93ee-46db-b7d3-74f4b2a23de7\" target=\"_top\" title=\"psysml:3bf1490e-93ee-46db-b7d3-74f4b2a23de7\" xlink:actuate=\"onRequest\" xlink:href=\"psysml:3bf1490e-93ee-46db-b7d3-74f4b2a23de7\" xlink:show=\"new\" xlink:title=\"psysml:3bf1490e-93ee-46db-b7d3-74f4b2a23de7\" xlink:type=\"simple\"><path d=\"M86,170.5461 C86,170.7974 86,171.0491 86,171.3013 C86,173.3182 86,175.3597 86,177.4175 C86,181.5331 86,185.7141 86,189.895 C86,223.3425 86,256.79 86,256.79 \" fill=\"none\" id=\"E4-&gt;E3\" style=\"stroke: #383838; stroke-width: 1.0; stroke-dasharray: 7.0,7.0;\"/><polygon fill=\"#383838\" points=\"86,261.79,90,252.79,86,256.79,82,252.79,86,261.79\" style=\"stroke: #383838; stroke-width: 1.0;\"/><text fill=\"#000000\" font-family=\"sans-serif\" font-size=\"13\" lengthAdjust=\"spacingAndGlyphs\" textLength=\"58\" x=\"73\" y=\"207.0669\">«import»</text></a><!--MD5=[e9be52314489bd878ff4c7144b63c9e1]\n",
       "link E5 to E3--><a href=\"psysml:c8bdef6b-3f7a-4888-bf3f-9f853dc854f0\" target=\"_top\" title=\"psysml:c8bdef6b-3f7a-4888-bf3f-9f853dc854f0\" xlink:actuate=\"onRequest\" xlink:href=\"psysml:c8bdef6b-3f7a-4888-bf3f-9f853dc854f0\" xlink:show=\"new\" xlink:title=\"psysml:c8bdef6b-3f7a-4888-bf3f-9f853dc854f0\" xlink:type=\"simple\"><path d=\"M121,146.21 C121,146.21 121,241.83 121,241.83 \" fill=\"none\" id=\"E5-&gt;E3\" style=\"stroke: #383838; stroke-width: 1.0;\"/><polygon fill=\"#FFFFFF\" points=\"121,261.83,114,242.83,128,242.83,121,261.83\" style=\"stroke: #383838; stroke-width: 1.0;\"/><ellipse cx=\"116\" cy=\"237.13\" fill=\"#383838\" rx=\"2\" ry=\"2\" style=\"stroke: #383838; stroke-width: 1.0;\"/><ellipse cx=\"126\" cy=\"237.13\" fill=\"#383838\" rx=\"2\" ry=\"2\" style=\"stroke: #383838; stroke-width: 1.0;\"/></a><!--MD5=[9c027cb6d4a7cf469bb564e329e28d7b]\n",
       "@startuml\r\n",
       "skinparam linetype ortho\r\n",
       "skinparam monochrome true\r\n",
       "skinparam classbackgroundcolor white\r\n",
       "skinparam shadowing false\r\n",
       "skinparam wrapWidth 300\r\n",
       "hide circle\r\n",
       "\r\n",
       "package \"AliasImport\" as E1  [[psysml:82c5726b-cb9a-46c4-b6fc-24bdfc4818ff ]]  {\r\n",
       "package \"Definitions\" as E2  [[psysml:b1455dfe-9c7f-45c5-9354-49cb3cd9f952 ]]  {\r\n",
       "comp def \"Vehicle\" as E3  <<(T,blue) part  def>> [[psysml:5d1720bb-4632-462e-81a0-399c2024ebdc ]] {\r\n",
       "}\r\n",
       "}\r\n",
       "package \"Usages\" as E4  [[psysml:f72b5ed2-7d34-4b16-a5c4-267d5b8a9efb ]]  {\r\n",
       "comp usage \"vehicle: Vehicle \" as E5  <<(T,blue) part>> [[psysml:68b35502-f69c-477b-bf3e-22d420c63407 ]] {\r\n",
       "}\r\n",
       "}\r\n",
       "}\r\n",
       "E4 ..> E3 [[psysml:3bf1490e-93ee-46db-b7d3-74f4b2a23de7 ]] : <<import>>\r\n",
       "E5 - -:|> E3 [[psysml:c8bdef6b-3f7a-4888-bf3f-9f853dc854f0 ]] \r\n",
       "@enduml\r\n",
       "\n",
       "PlantUML version 1.2020.13(Sat Jun 13 12:26:38 UTC 2020)\n",
       "(EPL source distribution)\n",
       "Java Runtime: OpenJDK Runtime Environment\n",
       "JVM: OpenJDK 64-Bit Server VM\n",
       "Default Encoding: UTF-8\n",
       "Language: en\n",
       "Country: null\n",
       "--></g></svg>"
      ]
     },
     "execution_count": 52,
     "metadata": {},
     "output_type": "execute_result"
    }
   ],
   "source": [
    "%viz --style=\"ORTHOLINE\" --view=\"Tree\" \"AliasImport\""
   ]
  },
  {
   "cell_type": "code",
   "execution_count": 53,
   "id": "62d48ce4",
   "metadata": {
    "execution": {
     "iopub.execute_input": "2022-04-22T09:52:20.065764Z",
     "iopub.status.busy": "2022-04-22T09:52:20.065300Z",
     "iopub.status.idle": "2022-04-22T09:52:20.071417Z",
     "shell.execute_reply": "2022-04-22T09:52:20.071069Z"
    }
   },
   "outputs": [
    {
     "data": {
      "image/svg+xml": [
       "<?xml version=\"1.0\" encoding=\"UTF-8\" standalone=\"no\"?><svg xmlns=\"http://www.w3.org/2000/svg\" xmlns:xlink=\"http://www.w3.org/1999/xlink\" contentScriptType=\"application/ecmascript\" contentStyleType=\"text/css\" height=\"12px\" preserveAspectRatio=\"none\" style=\"width:12px;height:12px;\" version=\"1.1\" viewBox=\"0 0 12 12\" width=\"12px\" zoomAndPan=\"magnify\"><defs/><g><!--MD5=[97d6f38768b311333d388e66b2b27985]\n",
       "@startuml\r\n",
       "skinparam linetype ortho\r\n",
       "skinparam monochrome true\r\n",
       "skinparam classbackgroundcolor white\r\n",
       "skinparam shadowing false\r\n",
       "skinparam wrapWidth 300\r\n",
       "hide circle\r\n",
       "\r\n",
       "@enduml\r\n",
       "\n",
       "PlantUML version 1.2020.13(Sat Jun 13 12:26:38 UTC 2020)\n",
       "(EPL source distribution)\n",
       "Java Runtime: OpenJDK Runtime Environment\n",
       "JVM: OpenJDK 64-Bit Server VM\n",
       "Default Encoding: UTF-8\n",
       "Language: en\n",
       "Country: null\n",
       "--></g></svg>"
      ]
     },
     "execution_count": 53,
     "metadata": {},
     "output_type": "execute_result"
    }
   ],
   "source": [
    "%viz --style=\"ORTHOLINE\" --view=\"State\" \"AliasImport\""
   ]
  },
  {
   "cell_type": "code",
   "execution_count": 54,
   "id": "25db6c8b",
   "metadata": {
    "execution": {
     "iopub.execute_input": "2022-04-22T09:52:20.120835Z",
     "iopub.status.busy": "2022-04-22T09:52:20.120387Z",
     "iopub.status.idle": "2022-04-22T09:52:20.153105Z",
     "shell.execute_reply": "2022-04-22T09:52:20.151777Z"
    }
   },
   "outputs": [
    {
     "data": {
      "image/svg+xml": [
       "<?xml version=\"1.0\" encoding=\"UTF-8\" standalone=\"no\"?><svg xmlns=\"http://www.w3.org/2000/svg\" xmlns:xlink=\"http://www.w3.org/1999/xlink\" contentScriptType=\"application/ecmascript\" contentStyleType=\"text/css\" height=\"351px\" preserveAspectRatio=\"none\" style=\"width:302px;height:351px;\" version=\"1.1\" viewBox=\"0 0 302 351\" width=\"302px\" zoomAndPan=\"magnify\"><defs/><g><!--MD5=[fbc87193dbaf4d95561dea2c320d4a47]\n",
       "cluster E1--><a href=\"psysml:82c5726b-cb9a-46c4-b6fc-24bdfc4818ff\" target=\"_top\" title=\"psysml:82c5726b-cb9a-46c4-b6fc-24bdfc4818ff\" xlink:actuate=\"onRequest\" xlink:href=\"psysml:82c5726b-cb9a-46c4-b6fc-24bdfc4818ff\" xlink:show=\"new\" xlink:title=\"psysml:82c5726b-cb9a-46c4-b6fc-24bdfc4818ff\" xlink:type=\"simple\"><polygon fill=\"#FFFFFF\" points=\"16,6,97,6,104,28.2969,280,28.2969,280,339,16,339,16,6\" style=\"stroke: #000000; stroke-width: 1.5;\"/><line style=\"stroke: #000000; stroke-width: 1.5;\" x1=\"16\" x2=\"104\" y1=\"28.2969\" y2=\"28.2969\"/><text fill=\"#000000\" font-family=\"sans-serif\" font-size=\"14\" font-weight=\"bold\" lengthAdjust=\"spacingAndGlyphs\" textLength=\"75\" x=\"20\" y=\"20.9951\">AliasImport</text></a><!--MD5=[e4f7fae6ed58524ba242bb0b0d3be6b7]\n",
       "cluster E2--><a href=\"psysml:b1455dfe-9c7f-45c5-9354-49cb3cd9f952\" target=\"_top\" title=\"psysml:b1455dfe-9c7f-45c5-9354-49cb3cd9f952\" xlink:actuate=\"onRequest\" xlink:href=\"psysml:b1455dfe-9c7f-45c5-9354-49cb3cd9f952\" xlink:show=\"new\" xlink:title=\"psysml:b1455dfe-9c7f-45c5-9354-49cb3cd9f952\" xlink:type=\"simple\"><polygon fill=\"#FFFFFF\" points=\"40,221,119,221,126,243.2969,256,243.2969,256,315,40,315,40,221\" style=\"stroke: #000000; stroke-width: 1.5;\"/><line style=\"stroke: #000000; stroke-width: 1.5;\" x1=\"40\" x2=\"126\" y1=\"243.2969\" y2=\"243.2969\"/><text fill=\"#000000\" font-family=\"sans-serif\" font-size=\"14\" font-weight=\"bold\" lengthAdjust=\"spacingAndGlyphs\" textLength=\"73\" x=\"44\" y=\"235.9951\">Definitions</text></a><!--MD5=[de5ec2e2e8f62f467e546659f5068c88]\n",
       "cluster E5--><a href=\"psysml:f72b5ed2-7d34-4b16-a5c4-267d5b8a9efb\" target=\"_top\" title=\"psysml:f72b5ed2-7d34-4b16-a5c4-267d5b8a9efb\" xlink:actuate=\"onRequest\" xlink:href=\"psysml:f72b5ed2-7d34-4b16-a5c4-267d5b8a9efb\" xlink:show=\"new\" xlink:title=\"psysml:f72b5ed2-7d34-4b16-a5c4-267d5b8a9efb\" xlink:type=\"simple\"><polygon fill=\"#FFFFFF\" points=\"56,57,114,57,121,79.2969,230,79.2969,230,164,56,164,56,57\" style=\"stroke: #000000; stroke-width: 1.5;\"/><line style=\"stroke: #000000; stroke-width: 1.5;\" x1=\"56\" x2=\"121\" y1=\"79.2969\" y2=\"79.2969\"/><text fill=\"#000000\" font-family=\"sans-serif\" font-size=\"14\" font-weight=\"bold\" lengthAdjust=\"spacingAndGlyphs\" textLength=\"52\" x=\"60\" y=\"71.9951\">Usages</text></a><g id=\"E1.E2.E3\"><a href=\"psysml:5d1720bb-4632-462e-81a0-399c2024ebdc\" target=\"_top\" title=\"psysml:5d1720bb-4632-462e-81a0-399c2024ebdc\" xlink:actuate=\"onRequest\" xlink:href=\"psysml:5d1720bb-4632-462e-81a0-399c2024ebdc\" xlink:show=\"new\" xlink:title=\"psysml:5d1720bb-4632-462e-81a0-399c2024ebdc\" xlink:type=\"simple\"><rect fill=\"#FFFFFF\" height=\"42.9375\" id=\"E3\" style=\"stroke: #383838; stroke-width: 1.5;\" width=\"75\" x=\"165.5\" y=\"256\"/><rect fill=\"#F8F8F8\" height=\"37.9375\" style=\"stroke: #383838; stroke-width: 1.5;\" width=\"75\" x=\"165.5\" y=\"256\"/><text fill=\"#000000\" font-family=\"sans-serif\" font-size=\"12\" font-style=\"italic\" lengthAdjust=\"spacingAndGlyphs\" textLength=\"68\" x=\"169\" y=\"272.1387\">«part  def»</text><text fill=\"#000000\" font-family=\"sans-serif\" font-size=\"12\" lengthAdjust=\"spacingAndGlyphs\" textLength=\"45\" x=\"180.5\" y=\"286.1074\">Vehicle</text></a></g><g id=\"E1.E2.E4\"><a href=\"psysml:5d1720bb-4632-462e-81a0-399c2024ebdc\" target=\"_top\" title=\"psysml:5d1720bb-4632-462e-81a0-399c2024ebdc\" xlink:actuate=\"onRequest\" xlink:href=\"psysml:5d1720bb-4632-462e-81a0-399c2024ebdc\" xlink:show=\"new\" xlink:title=\"psysml:5d1720bb-4632-462e-81a0-399c2024ebdc\" xlink:type=\"simple\"><rect fill=\"#FFFFFF\" height=\"42.9375\" id=\"E4\" style=\"stroke: #383838; stroke-width: 1.5;\" width=\"75\" x=\"55.5\" y=\"256\"/><rect fill=\"#F8F8F8\" height=\"37.9375\" style=\"stroke: #383838; stroke-width: 1.5;\" width=\"75\" x=\"55.5\" y=\"256\"/><text fill=\"#000000\" font-family=\"sans-serif\" font-size=\"12\" font-style=\"italic\" lengthAdjust=\"spacingAndGlyphs\" textLength=\"68\" x=\"59\" y=\"272.1387\">«part  def»</text><text fill=\"#000000\" font-family=\"sans-serif\" font-size=\"12\" lengthAdjust=\"spacingAndGlyphs\" textLength=\"45\" x=\"70.5\" y=\"286.1074\">Vehicle</text></a></g><g id=\"E1.E5.E6\"><a href=\"psysml:68b35502-f69c-477b-bf3e-22d420c63407\" target=\"_top\" title=\"psysml:68b35502-f69c-477b-bf3e-22d420c63407\" xlink:actuate=\"onRequest\" xlink:href=\"psysml:68b35502-f69c-477b-bf3e-22d420c63407\" xlink:show=\"new\" xlink:title=\"psysml:68b35502-f69c-477b-bf3e-22d420c63407\" xlink:type=\"simple\"><rect fill=\"#FFFFFF\" height=\"40\" id=\"E6\" rx=\"10\" ry=\"10\" style=\"stroke: #383838; stroke-width: 1.5;\" width=\"107\" x=\"99.5\" y=\"100\"/><rect fill=\"#F8F8F8\" height=\"23.9688\" rx=\"10\" ry=\"10\" style=\"stroke: #F8F8F8; stroke-width: 1.5;\" width=\"107\" x=\"99.5\" y=\"100\"/><rect fill=\"#F8F8F8\" height=\"10\" style=\"stroke: #F8F8F8; stroke-width: 1.5;\" width=\"107\" x=\"99.5\" y=\"113.9688\"/><rect fill=\"none\" height=\"40\" id=\"E6\" rx=\"10\" ry=\"10\" style=\"stroke: #383838; stroke-width: 1.5;\" width=\"107\" x=\"99.5\" y=\"100\"/><text fill=\"#000000\" font-family=\"sans-serif\" font-size=\"12\" lengthAdjust=\"spacingAndGlyphs\" textLength=\"96\" x=\"105\" y=\"116.1387\">vehicle: Vehicle</text></a></g><!--MD5=[1c62de2aa5b76f0fb657ff8443a1a700]\n",
       "link E5 to E4--><a href=\"psysml:3bf1490e-93ee-46db-b7d3-74f4b2a23de7\" target=\"_top\" title=\"psysml:3bf1490e-93ee-46db-b7d3-74f4b2a23de7\" xlink:actuate=\"onRequest\" xlink:href=\"psysml:3bf1490e-93ee-46db-b7d3-74f4b2a23de7\" xlink:show=\"new\" xlink:title=\"psysml:3bf1490e-93ee-46db-b7d3-74f4b2a23de7\" xlink:type=\"simple\"><path d=\"M64,164.6076 C64,165.5779 64,166.5551 64,167.5382 C64,169.5045 64,171.4947 64,173.5009 C64,177.5131 64,181.5891 64,185.665 C64,218.2725 64,250.88 64,250.88 \" fill=\"none\" id=\"E5-&gt;E4\" style=\"stroke: #383838; stroke-width: 1.0; stroke-dasharray: 7.0,7.0;\"/><polygon fill=\"#383838\" points=\"64,255.88,68,246.88,64,250.88,60,246.88,64,255.88\" style=\"stroke: #383838; stroke-width: 1.0;\"/><text fill=\"#000000\" font-family=\"sans-serif\" font-size=\"13\" lengthAdjust=\"spacingAndGlyphs\" textLength=\"58\" x=\"74\" y=\"201.0669\">«import»</text></a><!--MD5=[f667431f98296947986a1a7595a31603]\n",
       "link E6 to E4--><a href=\"psysml:c8bdef6b-3f7a-4888-bf3f-9f853dc854f0\" target=\"_top\" title=\"psysml:c8bdef6b-3f7a-4888-bf3f-9f853dc854f0\" xlink:actuate=\"onRequest\" xlink:href=\"psysml:c8bdef6b-3f7a-4888-bf3f-9f853dc854f0\" xlink:show=\"new\" xlink:title=\"psysml:c8bdef6b-3f7a-4888-bf3f-9f853dc854f0\" xlink:type=\"simple\"><path d=\"M115,140.27 C115,140.27 115,235.8 115,235.8 \" fill=\"none\" id=\"E6-&gt;E4\" style=\"stroke: #383838; stroke-width: 1.0;\"/><polygon fill=\"#FFFFFF\" points=\"115,255.8,108,236.8,122,236.8,115,255.8\" style=\"stroke: #383838; stroke-width: 1.0;\"/><ellipse cx=\"110\" cy=\"231.1\" fill=\"#383838\" rx=\"2\" ry=\"2\" style=\"stroke: #383838; stroke-width: 1.0;\"/><ellipse cx=\"120\" cy=\"231.1\" fill=\"#383838\" rx=\"2\" ry=\"2\" style=\"stroke: #383838; stroke-width: 1.0;\"/></a><!--MD5=[75ee72b79e0a775b3e071f6cadc27378]\n",
       "@startuml\r\n",
       "skinparam ranksep 10\r\n",
       "skinparam rectangle {\r\n",
       " backgroundColor<<block>> LightGreen\r\n",
       "}\r\n",
       "skinparam linetype ortho\r\n",
       "skinparam monochrome true\r\n",
       "skinparam classbackgroundcolor white\r\n",
       "skinparam shadowing false\r\n",
       "skinparam wrapWidth 300\r\n",
       "hide circle\r\n",
       "\r\n",
       "package \"AliasImport\" as E1  [[psysml:82c5726b-cb9a-46c4-b6fc-24bdfc4818ff ]]  {\r\n",
       "package \"Definitions\" as E2  [[psysml:b1455dfe-9c7f-45c5-9354-49cb3cd9f952 ]]  {\r\n",
       "rec def \"Vehicle\" as E3  <<(T,blue) part  def>> [[psysml:5d1720bb-4632-462e-81a0-399c2024ebdc ]] {\r\n",
       "}\r\n",
       "rec def \"Vehicle\" as E4  <<(T,blue) part  def>> [[psysml:5d1720bb-4632-462e-81a0-399c2024ebdc ]] {\r\n",
       "}\r\n",
       "}\r\n",
       "package \"Usages\" as E5  [[psysml:f72b5ed2-7d34-4b16-a5c4-267d5b8a9efb ]]  {\r\n",
       "rec usage \"vehicle: Vehicle\" as E6  [[psysml:68b35502-f69c-477b-bf3e-22d420c63407 ]] {\r\n",
       "}\r\n",
       "}\r\n",
       "}\r\n",
       "E5 ..> E4 [[psysml:3bf1490e-93ee-46db-b7d3-74f4b2a23de7 ]] : <<import>>\r\n",
       "E6 - -:|> E4 [[psysml:c8bdef6b-3f7a-4888-bf3f-9f853dc854f0 ]] \r\n",
       "@enduml\r\n",
       "\n",
       "PlantUML version 1.2020.13(Sat Jun 13 12:26:38 UTC 2020)\n",
       "(EPL source distribution)\n",
       "Java Runtime: OpenJDK Runtime Environment\n",
       "JVM: OpenJDK 64-Bit Server VM\n",
       "Default Encoding: UTF-8\n",
       "Language: en\n",
       "Country: null\n",
       "--></g></svg>"
      ]
     },
     "execution_count": 54,
     "metadata": {},
     "output_type": "execute_result"
    }
   ],
   "source": [
    "%viz --style=\"ORTHOLINE\" --view=\"Interconnection\" \"AliasImport\""
   ]
  },
  {
   "cell_type": "code",
   "execution_count": 55,
   "id": "303b5449",
   "metadata": {
    "execution": {
     "iopub.execute_input": "2022-04-22T09:52:20.202652Z",
     "iopub.status.busy": "2022-04-22T09:52:20.202240Z",
     "iopub.status.idle": "2022-04-22T09:52:20.207625Z",
     "shell.execute_reply": "2022-04-22T09:52:20.207261Z"
    }
   },
   "outputs": [
    {
     "data": {
      "image/svg+xml": [
       "<?xml version=\"1.0\" encoding=\"UTF-8\" standalone=\"no\"?><svg xmlns=\"http://www.w3.org/2000/svg\" xmlns:xlink=\"http://www.w3.org/1999/xlink\" contentScriptType=\"application/ecmascript\" contentStyleType=\"text/css\" height=\"12px\" preserveAspectRatio=\"none\" style=\"width:12px;height:12px;\" version=\"1.1\" viewBox=\"0 0 12 12\" width=\"12px\" zoomAndPan=\"magnify\"><defs/><g><!--MD5=[72934c63077099a26744516a776b4749]\n",
       "@startuml\r\n",
       "skinparam ranksep 8\r\n",
       "skinparam linetype ortho\r\n",
       "skinparam monochrome true\r\n",
       "skinparam classbackgroundcolor white\r\n",
       "skinparam shadowing false\r\n",
       "skinparam wrapWidth 300\r\n",
       "hide circle\r\n",
       "\r\n",
       "@enduml\r\n",
       "\n",
       "PlantUML version 1.2020.13(Sat Jun 13 12:26:38 UTC 2020)\n",
       "(EPL source distribution)\n",
       "Java Runtime: OpenJDK Runtime Environment\n",
       "JVM: OpenJDK 64-Bit Server VM\n",
       "Default Encoding: UTF-8\n",
       "Language: en\n",
       "Country: null\n",
       "--></g></svg>"
      ]
     },
     "execution_count": 55,
     "metadata": {},
     "output_type": "execute_result"
    }
   ],
   "source": [
    "%viz --style=\"ORTHOLINE\" --view=\"Action\" \"AliasImport\""
   ]
  },
  {
   "cell_type": "code",
   "execution_count": 56,
   "id": "f2653a4c",
   "metadata": {
    "execution": {
     "iopub.execute_input": "2022-04-22T09:52:20.257315Z",
     "iopub.status.busy": "2022-04-22T09:52:20.256914Z",
     "iopub.status.idle": "2022-04-22T09:52:20.263009Z",
     "shell.execute_reply": "2022-04-22T09:52:20.262492Z"
    }
   },
   "outputs": [
    {
     "data": {
      "image/svg+xml": [
       "<?xml version=\"1.0\" encoding=\"UTF-8\" standalone=\"no\"?><svg xmlns=\"http://www.w3.org/2000/svg\" xmlns:xlink=\"http://www.w3.org/1999/xlink\" contentScriptType=\"application/ecmascript\" contentStyleType=\"text/css\" height=\"12px\" preserveAspectRatio=\"none\" style=\"width:12px;height:12px;\" version=\"1.1\" viewBox=\"0 0 12 12\" width=\"12px\" zoomAndPan=\"magnify\"><defs/><g><!--MD5=[30fc1de5121c5abddedd55b44417fde8]\n",
       "@startuml\r\n",
       "skinparam roundcorner 20\r\n",
       "skinparam BoxPadding 20\r\n",
       "skinparam SequenceBoxBackgroundColor #white\r\n",
       "skinparam style strictuml\r\n",
       "skinparam maxMessageSize 100\r\n",
       "skinparam linetype ortho\r\n",
       "skinparam monochrome true\r\n",
       "skinparam classbackgroundcolor white\r\n",
       "skinparam shadowing false\r\n",
       "skinparam wrapWidth 300\r\n",
       "hide circle\r\n",
       "\r\n",
       "@enduml\r\n",
       "\n",
       "PlantUML version 1.2020.13(Sat Jun 13 12:26:38 UTC 2020)\n",
       "(EPL source distribution)\n",
       "Java Runtime: OpenJDK Runtime Environment\n",
       "JVM: OpenJDK 64-Bit Server VM\n",
       "Default Encoding: UTF-8\n",
       "Language: en\n",
       "Country: null\n",
       "--></g></svg>"
      ]
     },
     "execution_count": 56,
     "metadata": {},
     "output_type": "execute_result"
    }
   ],
   "source": [
    "%viz --style=\"ORTHOLINE\" --view=\"Sequence\" \"AliasImport\""
   ]
  },
  {
   "cell_type": "code",
   "execution_count": 57,
   "id": "4cb9dbeb",
   "metadata": {
    "execution": {
     "iopub.execute_input": "2022-04-22T09:52:20.312944Z",
     "iopub.status.busy": "2022-04-22T09:52:20.312310Z",
     "iopub.status.idle": "2022-04-22T09:52:20.343883Z",
     "shell.execute_reply": "2022-04-22T09:52:20.342527Z"
    }
   },
   "outputs": [
    {
     "data": {
      "image/svg+xml": [
       "<?xml version=\"1.0\" encoding=\"UTF-8\" standalone=\"no\"?><svg xmlns=\"http://www.w3.org/2000/svg\" xmlns:xlink=\"http://www.w3.org/1999/xlink\" contentScriptType=\"application/ecmascript\" contentStyleType=\"text/css\" height=\"360px\" preserveAspectRatio=\"none\" style=\"width:275px;height:360px;\" version=\"1.1\" viewBox=\"0 0 275 360\" width=\"275px\" zoomAndPan=\"magnify\"><defs/><g><!--MD5=[fbc87193dbaf4d95561dea2c320d4a47]\n",
       "cluster E1--><a href=\"psysml:82c5726b-cb9a-46c4-b6fc-24bdfc4818ff\" target=\"_top\" title=\"psysml:82c5726b-cb9a-46c4-b6fc-24bdfc4818ff\" xlink:actuate=\"onRequest\" xlink:href=\"psysml:82c5726b-cb9a-46c4-b6fc-24bdfc4818ff\" xlink:show=\"new\" xlink:title=\"psysml:82c5726b-cb9a-46c4-b6fc-24bdfc4818ff\" xlink:type=\"simple\"><polygon fill=\"#FFFFFF\" points=\"16,6,97,6,104,28.2969,253,28.2969,253,348,16,348,16,6\" style=\"stroke: #000000; stroke-width: 1.5;\"/><line style=\"stroke: #000000; stroke-width: 1.5;\" x1=\"16\" x2=\"104\" y1=\"28.2969\" y2=\"28.2969\"/><text fill=\"#000000\" font-family=\"sans-serif\" font-size=\"14\" font-weight=\"bold\" lengthAdjust=\"spacingAndGlyphs\" textLength=\"75\" x=\"20\" y=\"20.9951\">AliasImport</text></a><!--MD5=[e4f7fae6ed58524ba242bb0b0d3be6b7]\n",
       "cluster E2--><a href=\"psysml:b1455dfe-9c7f-45c5-9354-49cb3cd9f952\" target=\"_top\" title=\"psysml:b1455dfe-9c7f-45c5-9354-49cb3cd9f952\" xlink:actuate=\"onRequest\" xlink:href=\"psysml:b1455dfe-9c7f-45c5-9354-49cb3cd9f952\" xlink:show=\"new\" xlink:title=\"psysml:b1455dfe-9c7f-45c5-9354-49cb3cd9f952\" xlink:type=\"simple\"><polygon fill=\"#FFFFFF\" points=\"65,227,144,227,151,249.2969,167,249.2969,167,324,65,324,65,227\" style=\"stroke: #000000; stroke-width: 1.5;\"/><line style=\"stroke: #000000; stroke-width: 1.5;\" x1=\"65\" x2=\"151\" y1=\"249.2969\" y2=\"249.2969\"/><text fill=\"#000000\" font-family=\"sans-serif\" font-size=\"14\" font-weight=\"bold\" lengthAdjust=\"spacingAndGlyphs\" textLength=\"73\" x=\"69\" y=\"241.9951\">Definitions</text></a><!--MD5=[f6df4d0ebaf0b5dfb2ced0ae5af7c670]\n",
       "cluster E4--><a href=\"psysml:f72b5ed2-7d34-4b16-a5c4-267d5b8a9efb\" target=\"_top\" title=\"psysml:f72b5ed2-7d34-4b16-a5c4-267d5b8a9efb\" xlink:actuate=\"onRequest\" xlink:href=\"psysml:f72b5ed2-7d34-4b16-a5c4-267d5b8a9efb\" xlink:show=\"new\" xlink:title=\"psysml:f72b5ed2-7d34-4b16-a5c4-267d5b8a9efb\" xlink:type=\"simple\"><polygon fill=\"#FFFFFF\" points=\"48,57,106,57,113,79.2969,221,79.2969,221,170,48,170,48,57\" style=\"stroke: #000000; stroke-width: 1.5;\"/><line style=\"stroke: #000000; stroke-width: 1.5;\" x1=\"48\" x2=\"113\" y1=\"79.2969\" y2=\"79.2969\"/><text fill=\"#000000\" font-family=\"sans-serif\" font-size=\"14\" font-weight=\"bold\" lengthAdjust=\"spacingAndGlyphs\" textLength=\"52\" x=\"52\" y=\"71.9951\">Usages</text></a><!--MD5=[09b614a08d8cba4a07c9adeb5e0fee81]\n",
       "class E3--><a href=\"psysml:5d1720bb-4632-462e-81a0-399c2024ebdc\" target=\"_top\" title=\"psysml:5d1720bb-4632-462e-81a0-399c2024ebdc\" xlink:actuate=\"onRequest\" xlink:href=\"psysml:5d1720bb-4632-462e-81a0-399c2024ebdc\" xlink:show=\"new\" xlink:title=\"psysml:5d1720bb-4632-462e-81a0-399c2024ebdc\" xlink:type=\"simple\"><rect fill=\"#FFFFFF\" height=\"45.9375\" id=\"E3\" style=\"stroke: #383838; stroke-width: 1.5;\" width=\"70\" x=\"81\" y=\"262\"/><text fill=\"#000000\" font-family=\"sans-serif\" font-size=\"12\" font-style=\"italic\" lengthAdjust=\"spacingAndGlyphs\" textLength=\"68\" x=\"82\" y=\"278.1387\">«part  def»</text><text fill=\"#000000\" font-family=\"sans-serif\" font-size=\"12\" lengthAdjust=\"spacingAndGlyphs\" textLength=\"45\" x=\"93.5\" y=\"292.1074\">Vehicle</text><line style=\"stroke: #383838; stroke-width: 1.5;\" x1=\"82\" x2=\"150\" y1=\"299.9375\" y2=\"299.9375\"/></a><!--MD5=[270fce915f116d4de14055a7c1d9a0f3]\n",
       "class E5--><a href=\"psysml:68b35502-f69c-477b-bf3e-22d420c63407\" target=\"_top\" title=\"psysml:68b35502-f69c-477b-bf3e-22d420c63407\" xlink:actuate=\"onRequest\" xlink:href=\"psysml:68b35502-f69c-477b-bf3e-22d420c63407\" xlink:show=\"new\" xlink:title=\"psysml:68b35502-f69c-477b-bf3e-22d420c63407\" xlink:type=\"simple\"><rect fill=\"#FFFFFF\" height=\"45.9375\" id=\"E5\" rx=\"10\" ry=\"10\" style=\"stroke: #383838; stroke-width: 1.5;\" width=\"106\" x=\"91\" y=\"100\"/><text fill=\"#000000\" font-family=\"sans-serif\" font-size=\"12\" font-style=\"italic\" lengthAdjust=\"spacingAndGlyphs\" textLength=\"40\" x=\"124\" y=\"116.1387\">«part»</text><text fill=\"#000000\" font-family=\"sans-serif\" font-size=\"12\" lengthAdjust=\"spacingAndGlyphs\" textLength=\"96\" x=\"94\" y=\"130.1074\">vehicle: Vehicle</text><line style=\"stroke: #383838; stroke-width: 1.5;\" x1=\"92\" x2=\"196\" y1=\"137.9375\" y2=\"137.9375\"/></a><!--MD5=[f0cdf4548168e5211fb3a02bf679d63a]\n",
       "link E4 to E3--><a href=\"psysml:3bf1490e-93ee-46db-b7d3-74f4b2a23de7\" target=\"_top\" title=\"psysml:3bf1490e-93ee-46db-b7d3-74f4b2a23de7\" xlink:actuate=\"onRequest\" xlink:href=\"psysml:3bf1490e-93ee-46db-b7d3-74f4b2a23de7\" xlink:show=\"new\" xlink:title=\"psysml:3bf1490e-93ee-46db-b7d3-74f4b2a23de7\" xlink:type=\"simple\"><path d=\"M86,170.5461 C86,170.7974 86,171.0491 86,171.3013 C86,173.3182 86,175.3597 86,177.4175 C86,181.5331 86,185.7141 86,189.895 C86,223.3425 86,256.79 86,256.79 \" fill=\"none\" id=\"E4-&gt;E3\" style=\"stroke: #383838; stroke-width: 1.0; stroke-dasharray: 7.0,7.0;\"/><polygon fill=\"#383838\" points=\"86,261.79,90,252.79,86,256.79,82,252.79,86,261.79\" style=\"stroke: #383838; stroke-width: 1.0;\"/><text fill=\"#000000\" font-family=\"sans-serif\" font-size=\"13\" lengthAdjust=\"spacingAndGlyphs\" textLength=\"58\" x=\"73\" y=\"207.0669\">«import»</text></a><!--MD5=[e9be52314489bd878ff4c7144b63c9e1]\n",
       "link E5 to E3--><a href=\"psysml:c8bdef6b-3f7a-4888-bf3f-9f853dc854f0\" target=\"_top\" title=\"psysml:c8bdef6b-3f7a-4888-bf3f-9f853dc854f0\" xlink:actuate=\"onRequest\" xlink:href=\"psysml:c8bdef6b-3f7a-4888-bf3f-9f853dc854f0\" xlink:show=\"new\" xlink:title=\"psysml:c8bdef6b-3f7a-4888-bf3f-9f853dc854f0\" xlink:type=\"simple\"><path d=\"M121,146.21 C121,146.21 121,241.83 121,241.83 \" fill=\"none\" id=\"E5-&gt;E3\" style=\"stroke: #383838; stroke-width: 1.0;\"/><polygon fill=\"#FFFFFF\" points=\"121,261.83,114,242.83,128,242.83,121,261.83\" style=\"stroke: #383838; stroke-width: 1.0;\"/><ellipse cx=\"116\" cy=\"237.13\" fill=\"#383838\" rx=\"2\" ry=\"2\" style=\"stroke: #383838; stroke-width: 1.0;\"/><ellipse cx=\"126\" cy=\"237.13\" fill=\"#383838\" rx=\"2\" ry=\"2\" style=\"stroke: #383838; stroke-width: 1.0;\"/></a><!--MD5=[9c027cb6d4a7cf469bb564e329e28d7b]\n",
       "@startuml\r\n",
       "skinparam linetype ortho\r\n",
       "skinparam monochrome true\r\n",
       "skinparam classbackgroundcolor white\r\n",
       "skinparam shadowing false\r\n",
       "skinparam wrapWidth 300\r\n",
       "hide circle\r\n",
       "\r\n",
       "package \"AliasImport\" as E1  [[psysml:82c5726b-cb9a-46c4-b6fc-24bdfc4818ff ]]  {\r\n",
       "package \"Definitions\" as E2  [[psysml:b1455dfe-9c7f-45c5-9354-49cb3cd9f952 ]]  {\r\n",
       "comp def \"Vehicle\" as E3  <<(T,blue) part  def>> [[psysml:5d1720bb-4632-462e-81a0-399c2024ebdc ]] {\r\n",
       "}\r\n",
       "}\r\n",
       "package \"Usages\" as E4  [[psysml:f72b5ed2-7d34-4b16-a5c4-267d5b8a9efb ]]  {\r\n",
       "comp usage \"vehicle: Vehicle \" as E5  <<(T,blue) part>> [[psysml:68b35502-f69c-477b-bf3e-22d420c63407 ]] {\r\n",
       "}\r\n",
       "}\r\n",
       "}\r\n",
       "E4 ..> E3 [[psysml:3bf1490e-93ee-46db-b7d3-74f4b2a23de7 ]] : <<import>>\r\n",
       "E5 - -:|> E3 [[psysml:c8bdef6b-3f7a-4888-bf3f-9f853dc854f0 ]] \r\n",
       "@enduml\r\n",
       "\n",
       "PlantUML version 1.2020.13(Sat Jun 13 12:26:38 UTC 2020)\n",
       "(EPL source distribution)\n",
       "Java Runtime: OpenJDK Runtime Environment\n",
       "JVM: OpenJDK 64-Bit Server VM\n",
       "Default Encoding: UTF-8\n",
       "Language: en\n",
       "Country: null\n",
       "--></g></svg>"
      ]
     },
     "execution_count": 57,
     "metadata": {},
     "output_type": "execute_result"
    }
   ],
   "source": [
    "%viz --style=\"ORTHOLINE\" --view=\"MIXED\" \"AliasImport\""
   ]
  }
 ],
 "metadata": {
  "kernelspec": {
   "display_name": "SysML",
   "language": "sysml",
   "name": "sysml"
  },
  "language_info": {
   "codemirror_mode": "sysml",
   "file_extension": ".sysml",
   "mimetype": "text/x-sysml",
   "name": "SysML",
   "pygments_lexer": "java",
   "version": "1.0.0"
  }
 },
 "nbformat": 4,
 "nbformat_minor": 5
}
