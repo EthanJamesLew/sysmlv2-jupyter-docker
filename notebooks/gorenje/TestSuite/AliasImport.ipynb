{
 "cells": [
  {
   "cell_type": "markdown",
   "id": "de5460a4",
   "metadata": {},
   "source": [
    "# SysML v2 Test Suite\n",
    "\n",
    "This can notebook can be cleared using menu `Edit --> Clear All Outputs` and then all cells can be\n",
    "run using menu `Run --> Run All Cells`.\n",
    "\n",
    "**WARNING**: This file is generated, all modifications here will be ignored.\n"
   ]
  },
  {
   "cell_type": "markdown",
   "id": "88034e7f",
   "metadata": {},
   "source": [
    "## File: ../../sysml/src/examples/Import Tests/AliasImport.sysml"
   ]
  },
  {
   "cell_type": "code",
   "execution_count": 1,
   "id": "e14f9ddb",
   "metadata": {
    "execution": {
     "iopub.execute_input": "2021-10-25T08:24:39.282212Z",
     "iopub.status.busy": "2021-10-25T08:24:39.281312Z",
     "iopub.status.idle": "2021-10-25T08:24:39.394216Z",
     "shell.execute_reply": "2021-10-25T08:24:39.394706Z"
    }
   },
   "outputs": [
    {
     "data": {
      "text/plain": [
       "Package AliasImport (12b25155-211f-4361-b210-88940d202fe2)\n"
      ]
     },
     "execution_count": 1,
     "metadata": {},
     "output_type": "execute_result"
    }
   ],
   "source": [
    "package AliasImport {\n",
    "\tpackage Definitions {\n",
    "\t    part def Vehicle;\n",
    "\t    \n",
    "\t    alias Car for Vehicle;\n",
    "\t}\n",
    "\t\n",
    "\tpackage Usages {\n",
    "\t    import Definitions::Car;\n",
    "\t\n",
    "\t    part vehicle : Car;\n",
    "\t}\n",
    "}"
   ]
  },
  {
   "cell_type": "code",
   "execution_count": 2,
   "id": "7c3ec458",
   "metadata": {
    "execution": {
     "iopub.execute_input": "2021-10-25T08:24:39.444969Z",
     "iopub.status.busy": "2021-10-25T08:24:39.444365Z",
     "iopub.status.idle": "2021-10-25T08:24:39.898869Z",
     "shell.execute_reply": "2021-10-25T08:24:39.896825Z"
    }
   },
   "outputs": [
    {
     "data": {
      "image/svg+xml": [
       "<?xml version=\"1.0\" encoding=\"UTF-8\" standalone=\"no\"?><svg xmlns=\"http://www.w3.org/2000/svg\" xmlns:xlink=\"http://www.w3.org/1999/xlink\" contentScriptType=\"application/ecmascript\" contentStyleType=\"text/css\" height=\"303px\" preserveAspectRatio=\"none\" style=\"width:224px;height:303px;\" version=\"1.1\" viewBox=\"0 0 224 303\" width=\"224px\" zoomAndPan=\"magnify\"><defs/><g><!--MD5=[fbc87193dbaf4d95561dea2c320d4a47]\n",
       "cluster E1--><a href=\"psysml:144140e7-4c0e-44d8-912b-18808e1341b6\" target=\"_top\" title=\"psysml:144140e7-4c0e-44d8-912b-18808e1341b6\" xlink:actuate=\"onRequest\" xlink:href=\"psysml:144140e7-4c0e-44d8-912b-18808e1341b6\" xlink:show=\"new\" xlink:title=\"psysml:144140e7-4c0e-44d8-912b-18808e1341b6\" xlink:type=\"simple\"><polygon fill=\"#FFFFFF\" points=\"16,6,97,6,104,28.2969,202,28.2969,202,291,16,291,16,6\" style=\"stroke: #000000; stroke-width: 1.5;\"/><line style=\"stroke: #000000; stroke-width: 1.5;\" x1=\"16\" x2=\"104\" y1=\"28.2969\" y2=\"28.2969\"/><text fill=\"#000000\" font-family=\"sans-serif\" font-size=\"14\" font-weight=\"bold\" lengthAdjust=\"spacingAndGlyphs\" textLength=\"75\" x=\"20\" y=\"20.9951\">AliasImport</text></a><!--MD5=[e4f7fae6ed58524ba242bb0b0d3be6b7]\n",
       "cluster E2--><a href=\"psysml:0089895f-bb5f-44ae-8440-3a6de4c690d2\" target=\"_top\" title=\"psysml:0089895f-bb5f-44ae-8440-3a6de4c690d2\" xlink:actuate=\"onRequest\" xlink:href=\"psysml:0089895f-bb5f-44ae-8440-3a6de4c690d2\" xlink:show=\"new\" xlink:title=\"psysml:0089895f-bb5f-44ae-8440-3a6de4c690d2\" xlink:type=\"simple\"><polygon fill=\"#FFFFFF\" points=\"58,170,137,170,144,192.2969,160,192.2969,160,267,58,267,58,170\" style=\"stroke: #000000; stroke-width: 1.5;\"/><line style=\"stroke: #000000; stroke-width: 1.5;\" x1=\"58\" x2=\"144\" y1=\"192.2969\" y2=\"192.2969\"/><text fill=\"#000000\" font-family=\"sans-serif\" font-size=\"14\" font-weight=\"bold\" lengthAdjust=\"spacingAndGlyphs\" textLength=\"73\" x=\"62\" y=\"184.9951\">Definitions</text></a><!--MD5=[f6df4d0ebaf0b5dfb2ced0ae5af7c670]\n",
       "cluster E4--><a href=\"psysml:e57b5549-a047-42fa-b139-1a9999eaa505\" target=\"_top\" title=\"psysml:e57b5549-a047-42fa-b139-1a9999eaa505\" xlink:actuate=\"onRequest\" xlink:href=\"psysml:e57b5549-a047-42fa-b139-1a9999eaa505\" xlink:show=\"new\" xlink:title=\"psysml:e57b5549-a047-42fa-b139-1a9999eaa505\" xlink:type=\"simple\"><polygon fill=\"#FFFFFF\" points=\"40,49,98,49,105,71.2969,178,71.2969,178,146,40,146,40,49\" style=\"stroke: #000000; stroke-width: 1.5;\"/><line style=\"stroke: #000000; stroke-width: 1.5;\" x1=\"40\" x2=\"105\" y1=\"71.2969\" y2=\"71.2969\"/><text fill=\"#000000\" font-family=\"sans-serif\" font-size=\"14\" font-weight=\"bold\" lengthAdjust=\"spacingAndGlyphs\" textLength=\"52\" x=\"44\" y=\"63.9951\">Usages</text></a><!--MD5=[09b614a08d8cba4a07c9adeb5e0fee81]\n",
       "class E3--><a href=\"psysml:117f05b4-c909-44db-8047-1df426d26d27\" target=\"_top\" title=\"psysml:117f05b4-c909-44db-8047-1df426d26d27\" xlink:actuate=\"onRequest\" xlink:href=\"psysml:117f05b4-c909-44db-8047-1df426d26d27\" xlink:show=\"new\" xlink:title=\"psysml:117f05b4-c909-44db-8047-1df426d26d27\" xlink:type=\"simple\"><rect fill=\"#FFFFFF\" height=\"45.9375\" id=\"E3\" style=\"stroke: #383838; stroke-width: 1.5;\" width=\"70\" x=\"74\" y=\"205\"/><text fill=\"#000000\" font-family=\"sans-serif\" font-size=\"12\" font-style=\"italic\" lengthAdjust=\"spacingAndGlyphs\" textLength=\"68\" x=\"75\" y=\"221.1387\">«part  def»</text><text fill=\"#000000\" font-family=\"sans-serif\" font-size=\"12\" lengthAdjust=\"spacingAndGlyphs\" textLength=\"45\" x=\"86.5\" y=\"235.1074\">Vehicle</text><line style=\"stroke: #383838; stroke-width: 1.5;\" x1=\"75\" x2=\"143\" y1=\"242.9375\" y2=\"242.9375\"/></a><!--MD5=[270fce915f116d4de14055a7c1d9a0f3]\n",
       "class E5--><a href=\"psysml:e21f8a97-fb67-4292-9535-52151c9da93c\" target=\"_top\" title=\"psysml:e21f8a97-fb67-4292-9535-52151c9da93c\" xlink:actuate=\"onRequest\" xlink:href=\"psysml:e21f8a97-fb67-4292-9535-52151c9da93c\" xlink:show=\"new\" xlink:title=\"psysml:e21f8a97-fb67-4292-9535-52151c9da93c\" xlink:type=\"simple\"><rect fill=\"#FFFFFF\" height=\"45.9375\" id=\"E5\" rx=\"10\" ry=\"10\" style=\"stroke: #383838; stroke-width: 1.5;\" width=\"106\" x=\"56\" y=\"84\"/><text fill=\"#000000\" font-family=\"sans-serif\" font-size=\"12\" font-style=\"italic\" lengthAdjust=\"spacingAndGlyphs\" textLength=\"40\" x=\"89\" y=\"100.1387\">«part»</text><text fill=\"#000000\" font-family=\"sans-serif\" font-size=\"12\" lengthAdjust=\"spacingAndGlyphs\" textLength=\"96\" x=\"59\" y=\"114.1074\">vehicle: Vehicle</text><line style=\"stroke: #383838; stroke-width: 1.5;\" x1=\"57\" x2=\"161\" y1=\"121.9375\" y2=\"121.9375\"/></a><!--MD5=[e9be52314489bd878ff4c7144b63c9e1]\n",
       "link E5 to E3--><a href=\"psysml:763357b8-b5e0-4785-a470-e50d945081e3\" target=\"_top\" title=\"psysml:763357b8-b5e0-4785-a470-e50d945081e3\" xlink:actuate=\"onRequest\" xlink:href=\"psysml:763357b8-b5e0-4785-a470-e50d945081e3\" xlink:show=\"new\" xlink:title=\"psysml:763357b8-b5e0-4785-a470-e50d945081e3\" xlink:type=\"simple\"><path d=\"M109,130.1 C109,145.37 109,166.16 109,184.57 \" fill=\"none\" id=\"E5-&gt;E3\" style=\"stroke: #383838; stroke-width: 1.0;\"/><polygon fill=\"#FFFFFF\" points=\"109,204.61,102,185.61,116,185.61,109,204.61\" style=\"stroke: #383838; stroke-width: 1.0;\"/><ellipse cx=\"104\" cy=\"179.91\" fill=\"#383838\" rx=\"2\" ry=\"2\" style=\"stroke: #383838; stroke-width: 1.0;\"/><ellipse cx=\"114\" cy=\"179.91\" fill=\"#383838\" rx=\"2\" ry=\"2\" style=\"stroke: #383838; stroke-width: 1.0;\"/></a><!--MD5=[58f29aa39fb89bbad03f26035882ba28]\n",
       "@startuml\r\n",
       " skinparam monochrome true\r\n",
       "skinparam classbackgroundcolor white\r\n",
       "skinparam shadowing false\r\n",
       "skinparam wrapWidth 300\r\n",
       "hide circle\r\n",
       "\r\n",
       "package \"AliasImport\" as E1  [[psysml:144140e7-4c0e-44d8-912b-18808e1341b6 ]]  {\r\n",
       "package \"Definitions\" as E2  [[psysml:0089895f-bb5f-44ae-8440-3a6de4c690d2 ]]  {\r\n",
       "comp def \"Vehicle\" as E3  <<(T,blue) part  def>> [[psysml:117f05b4-c909-44db-8047-1df426d26d27 ]] {\r\n",
       "}\r\n",
       "}\r\n",
       "package \"Usages\" as E4  [[psysml:e57b5549-a047-42fa-b139-1a9999eaa505 ]]  {\r\n",
       "comp usage \"vehicle: Vehicle \" as E5  <<(T,blue) part>> [[psysml:e21f8a97-fb67-4292-9535-52151c9da93c ]] {\r\n",
       "}\r\n",
       "}\r\n",
       "}\r\n",
       "E5 - -:|> E3 [[psysml:763357b8-b5e0-4785-a470-e50d945081e3 ]] \r\n",
       "@enduml\r\n",
       "\n",
       "PlantUML version 1.2020.13(Sat Jun 13 12:26:38 UTC 2020)\n",
       "(EPL source distribution)\n",
       "Java Runtime: OpenJDK Runtime Environment\n",
       "JVM: OpenJDK 64-Bit Server VM\n",
       "Default Encoding: UTF-8\n",
       "Language: en\n",
       "Country: null\n",
       "--></g></svg>"
      ]
     },
     "execution_count": 2,
     "metadata": {},
     "output_type": "execute_result"
    }
   ],
   "source": [
    "%viz --style=\"COMPTREE\" --view=\"Default\" \"AliasImport\""
   ]
  },
  {
   "cell_type": "code",
   "execution_count": 3,
   "id": "113b51b7",
   "metadata": {
    "execution": {
     "iopub.execute_input": "2021-10-25T08:24:39.947399Z",
     "iopub.status.busy": "2021-10-25T08:24:39.947083Z",
     "iopub.status.idle": "2021-10-25T08:24:39.990623Z",
     "shell.execute_reply": "2021-10-25T08:24:39.990886Z"
    }
   },
   "outputs": [
    {
     "data": {
      "image/svg+xml": [
       "<?xml version=\"1.0\" encoding=\"UTF-8\" standalone=\"no\"?><svg xmlns=\"http://www.w3.org/2000/svg\" xmlns:xlink=\"http://www.w3.org/1999/xlink\" contentScriptType=\"application/ecmascript\" contentStyleType=\"text/css\" height=\"303px\" preserveAspectRatio=\"none\" style=\"width:224px;height:303px;\" version=\"1.1\" viewBox=\"0 0 224 303\" width=\"224px\" zoomAndPan=\"magnify\"><defs/><g><!--MD5=[fbc87193dbaf4d95561dea2c320d4a47]\n",
       "cluster E1--><a href=\"psysml:144140e7-4c0e-44d8-912b-18808e1341b6\" target=\"_top\" title=\"psysml:144140e7-4c0e-44d8-912b-18808e1341b6\" xlink:actuate=\"onRequest\" xlink:href=\"psysml:144140e7-4c0e-44d8-912b-18808e1341b6\" xlink:show=\"new\" xlink:title=\"psysml:144140e7-4c0e-44d8-912b-18808e1341b6\" xlink:type=\"simple\"><polygon fill=\"#FFFFFF\" points=\"16,6,97,6,104,28.2969,202,28.2969,202,291,16,291,16,6\" style=\"stroke: #000000; stroke-width: 1.5;\"/><line style=\"stroke: #000000; stroke-width: 1.5;\" x1=\"16\" x2=\"104\" y1=\"28.2969\" y2=\"28.2969\"/><text fill=\"#000000\" font-family=\"sans-serif\" font-size=\"14\" font-weight=\"bold\" lengthAdjust=\"spacingAndGlyphs\" textLength=\"75\" x=\"20\" y=\"20.9951\">AliasImport</text></a><!--MD5=[e4f7fae6ed58524ba242bb0b0d3be6b7]\n",
       "cluster E2--><a href=\"psysml:0089895f-bb5f-44ae-8440-3a6de4c690d2\" target=\"_top\" title=\"psysml:0089895f-bb5f-44ae-8440-3a6de4c690d2\" xlink:actuate=\"onRequest\" xlink:href=\"psysml:0089895f-bb5f-44ae-8440-3a6de4c690d2\" xlink:show=\"new\" xlink:title=\"psysml:0089895f-bb5f-44ae-8440-3a6de4c690d2\" xlink:type=\"simple\"><polygon fill=\"#FFFFFF\" points=\"58,170,137,170,144,192.2969,160,192.2969,160,267,58,267,58,170\" style=\"stroke: #000000; stroke-width: 1.5;\"/><line style=\"stroke: #000000; stroke-width: 1.5;\" x1=\"58\" x2=\"144\" y1=\"192.2969\" y2=\"192.2969\"/><text fill=\"#000000\" font-family=\"sans-serif\" font-size=\"14\" font-weight=\"bold\" lengthAdjust=\"spacingAndGlyphs\" textLength=\"73\" x=\"62\" y=\"184.9951\">Definitions</text></a><!--MD5=[f6df4d0ebaf0b5dfb2ced0ae5af7c670]\n",
       "cluster E4--><a href=\"psysml:e57b5549-a047-42fa-b139-1a9999eaa505\" target=\"_top\" title=\"psysml:e57b5549-a047-42fa-b139-1a9999eaa505\" xlink:actuate=\"onRequest\" xlink:href=\"psysml:e57b5549-a047-42fa-b139-1a9999eaa505\" xlink:show=\"new\" xlink:title=\"psysml:e57b5549-a047-42fa-b139-1a9999eaa505\" xlink:type=\"simple\"><polygon fill=\"#FFFFFF\" points=\"40,49,98,49,105,71.2969,178,71.2969,178,146,40,146,40,49\" style=\"stroke: #000000; stroke-width: 1.5;\"/><line style=\"stroke: #000000; stroke-width: 1.5;\" x1=\"40\" x2=\"105\" y1=\"71.2969\" y2=\"71.2969\"/><text fill=\"#000000\" font-family=\"sans-serif\" font-size=\"14\" font-weight=\"bold\" lengthAdjust=\"spacingAndGlyphs\" textLength=\"52\" x=\"44\" y=\"63.9951\">Usages</text></a><!--MD5=[09b614a08d8cba4a07c9adeb5e0fee81]\n",
       "class E3--><a href=\"psysml:117f05b4-c909-44db-8047-1df426d26d27\" target=\"_top\" title=\"psysml:117f05b4-c909-44db-8047-1df426d26d27\" xlink:actuate=\"onRequest\" xlink:href=\"psysml:117f05b4-c909-44db-8047-1df426d26d27\" xlink:show=\"new\" xlink:title=\"psysml:117f05b4-c909-44db-8047-1df426d26d27\" xlink:type=\"simple\"><rect fill=\"#FFFFFF\" height=\"45.9375\" id=\"E3\" style=\"stroke: #383838; stroke-width: 1.5;\" width=\"70\" x=\"74\" y=\"205\"/><text fill=\"#000000\" font-family=\"sans-serif\" font-size=\"12\" font-style=\"italic\" lengthAdjust=\"spacingAndGlyphs\" textLength=\"68\" x=\"75\" y=\"221.1387\">«part  def»</text><text fill=\"#000000\" font-family=\"sans-serif\" font-size=\"12\" lengthAdjust=\"spacingAndGlyphs\" textLength=\"45\" x=\"86.5\" y=\"235.1074\">Vehicle</text><line style=\"stroke: #383838; stroke-width: 1.5;\" x1=\"75\" x2=\"143\" y1=\"242.9375\" y2=\"242.9375\"/></a><!--MD5=[270fce915f116d4de14055a7c1d9a0f3]\n",
       "class E5--><a href=\"psysml:e21f8a97-fb67-4292-9535-52151c9da93c\" target=\"_top\" title=\"psysml:e21f8a97-fb67-4292-9535-52151c9da93c\" xlink:actuate=\"onRequest\" xlink:href=\"psysml:e21f8a97-fb67-4292-9535-52151c9da93c\" xlink:show=\"new\" xlink:title=\"psysml:e21f8a97-fb67-4292-9535-52151c9da93c\" xlink:type=\"simple\"><rect fill=\"#FFFFFF\" height=\"45.9375\" id=\"E5\" rx=\"10\" ry=\"10\" style=\"stroke: #383838; stroke-width: 1.5;\" width=\"106\" x=\"56\" y=\"84\"/><text fill=\"#000000\" font-family=\"sans-serif\" font-size=\"12\" font-style=\"italic\" lengthAdjust=\"spacingAndGlyphs\" textLength=\"40\" x=\"89\" y=\"100.1387\">«part»</text><text fill=\"#000000\" font-family=\"sans-serif\" font-size=\"12\" lengthAdjust=\"spacingAndGlyphs\" textLength=\"96\" x=\"59\" y=\"114.1074\">vehicle: Vehicle</text><line style=\"stroke: #383838; stroke-width: 1.5;\" x1=\"57\" x2=\"161\" y1=\"121.9375\" y2=\"121.9375\"/></a><!--MD5=[e9be52314489bd878ff4c7144b63c9e1]\n",
       "link E5 to E3--><a href=\"psysml:763357b8-b5e0-4785-a470-e50d945081e3\" target=\"_top\" title=\"psysml:763357b8-b5e0-4785-a470-e50d945081e3\" xlink:actuate=\"onRequest\" xlink:href=\"psysml:763357b8-b5e0-4785-a470-e50d945081e3\" xlink:show=\"new\" xlink:title=\"psysml:763357b8-b5e0-4785-a470-e50d945081e3\" xlink:type=\"simple\"><path d=\"M109,130.1 C109,145.37 109,166.16 109,184.57 \" fill=\"none\" id=\"E5-&gt;E3\" style=\"stroke: #383838; stroke-width: 1.0;\"/><polygon fill=\"#FFFFFF\" points=\"109,204.61,102,185.61,116,185.61,109,204.61\" style=\"stroke: #383838; stroke-width: 1.0;\"/><ellipse cx=\"104\" cy=\"179.91\" fill=\"#383838\" rx=\"2\" ry=\"2\" style=\"stroke: #383838; stroke-width: 1.0;\"/><ellipse cx=\"114\" cy=\"179.91\" fill=\"#383838\" rx=\"2\" ry=\"2\" style=\"stroke: #383838; stroke-width: 1.0;\"/></a><!--MD5=[58f29aa39fb89bbad03f26035882ba28]\n",
       "@startuml\r\n",
       " skinparam monochrome true\r\n",
       "skinparam classbackgroundcolor white\r\n",
       "skinparam shadowing false\r\n",
       "skinparam wrapWidth 300\r\n",
       "hide circle\r\n",
       "\r\n",
       "package \"AliasImport\" as E1  [[psysml:144140e7-4c0e-44d8-912b-18808e1341b6 ]]  {\r\n",
       "package \"Definitions\" as E2  [[psysml:0089895f-bb5f-44ae-8440-3a6de4c690d2 ]]  {\r\n",
       "comp def \"Vehicle\" as E3  <<(T,blue) part  def>> [[psysml:117f05b4-c909-44db-8047-1df426d26d27 ]] {\r\n",
       "}\r\n",
       "}\r\n",
       "package \"Usages\" as E4  [[psysml:e57b5549-a047-42fa-b139-1a9999eaa505 ]]  {\r\n",
       "comp usage \"vehicle: Vehicle \" as E5  <<(T,blue) part>> [[psysml:e21f8a97-fb67-4292-9535-52151c9da93c ]] {\r\n",
       "}\r\n",
       "}\r\n",
       "}\r\n",
       "E5 - -:|> E3 [[psysml:763357b8-b5e0-4785-a470-e50d945081e3 ]] \r\n",
       "@enduml\r\n",
       "\n",
       "PlantUML version 1.2020.13(Sat Jun 13 12:26:38 UTC 2020)\n",
       "(EPL source distribution)\n",
       "Java Runtime: OpenJDK Runtime Environment\n",
       "JVM: OpenJDK 64-Bit Server VM\n",
       "Default Encoding: UTF-8\n",
       "Language: en\n",
       "Country: null\n",
       "--></g></svg>"
      ]
     },
     "execution_count": 3,
     "metadata": {},
     "output_type": "execute_result"
    }
   ],
   "source": [
    "%viz --style=\"COMPTREE\" --view=\"Tree\" \"AliasImport\""
   ]
  },
  {
   "cell_type": "code",
   "execution_count": 4,
   "id": "4d69ab29",
   "metadata": {
    "execution": {
     "iopub.execute_input": "2021-10-25T08:24:40.041808Z",
     "iopub.status.busy": "2021-10-25T08:24:40.041227Z",
     "iopub.status.idle": "2021-10-25T08:24:40.051844Z",
     "shell.execute_reply": "2021-10-25T08:24:40.052268Z"
    }
   },
   "outputs": [
    {
     "data": {
      "image/svg+xml": [
       "<?xml version=\"1.0\" encoding=\"UTF-8\" standalone=\"no\"?><svg xmlns=\"http://www.w3.org/2000/svg\" xmlns:xlink=\"http://www.w3.org/1999/xlink\" contentScriptType=\"application/ecmascript\" contentStyleType=\"text/css\" height=\"12px\" preserveAspectRatio=\"none\" style=\"width:12px;height:12px;\" version=\"1.1\" viewBox=\"0 0 12 12\" width=\"12px\" zoomAndPan=\"magnify\"><defs/><g><!--MD5=[f19188ef49e11757b5c46753f95d9edc]\n",
       "@startuml\r\n",
       " skinparam monochrome true\r\n",
       "skinparam classbackgroundcolor white\r\n",
       "skinparam shadowing false\r\n",
       "skinparam wrapWidth 300\r\n",
       "hide circle\r\n",
       "\r\n",
       "@enduml\r\n",
       "\n",
       "PlantUML version 1.2020.13(Sat Jun 13 12:26:38 UTC 2020)\n",
       "(EPL source distribution)\n",
       "Java Runtime: OpenJDK Runtime Environment\n",
       "JVM: OpenJDK 64-Bit Server VM\n",
       "Default Encoding: UTF-8\n",
       "Language: en\n",
       "Country: null\n",
       "--></g></svg>"
      ]
     },
     "execution_count": 4,
     "metadata": {},
     "output_type": "execute_result"
    }
   ],
   "source": [
    "%viz --style=\"COMPTREE\" --view=\"State\" \"AliasImport\""
   ]
  },
  {
   "cell_type": "code",
   "execution_count": 5,
   "id": "082133b7",
   "metadata": {
    "execution": {
     "iopub.execute_input": "2021-10-25T08:24:40.102454Z",
     "iopub.status.busy": "2021-10-25T08:24:40.101873Z",
     "iopub.status.idle": "2021-10-25T08:24:40.153412Z",
     "shell.execute_reply": "2021-10-25T08:24:40.153054Z"
    }
   },
   "outputs": [
    {
     "data": {
      "image/svg+xml": [
       "<?xml version=\"1.0\" encoding=\"UTF-8\" standalone=\"no\"?><svg xmlns=\"http://www.w3.org/2000/svg\" xmlns:xlink=\"http://www.w3.org/1999/xlink\" contentScriptType=\"application/ecmascript\" contentStyleType=\"text/css\" height=\"179px\" preserveAspectRatio=\"none\" style=\"width:464px;height:179px;\" version=\"1.1\" viewBox=\"0 0 464 179\" width=\"464px\" zoomAndPan=\"magnify\"><defs/><g><!--MD5=[fbc87193dbaf4d95561dea2c320d4a47]\n",
       "cluster E1--><a href=\"psysml:144140e7-4c0e-44d8-912b-18808e1341b6\" target=\"_top\" title=\"psysml:144140e7-4c0e-44d8-912b-18808e1341b6\" xlink:actuate=\"onRequest\" xlink:href=\"psysml:144140e7-4c0e-44d8-912b-18808e1341b6\" xlink:show=\"new\" xlink:title=\"psysml:144140e7-4c0e-44d8-912b-18808e1341b6\" xlink:type=\"simple\"><polygon fill=\"#FFFFFF\" points=\"16,6,97,6,104,28.2969,442,28.2969,442,167,16,167,16,6\" style=\"stroke: #000000; stroke-width: 1.5;\"/><line style=\"stroke: #000000; stroke-width: 1.5;\" x1=\"16\" x2=\"104\" y1=\"28.2969\" y2=\"28.2969\"/><text fill=\"#000000\" font-family=\"sans-serif\" font-size=\"14\" font-weight=\"bold\" lengthAdjust=\"spacingAndGlyphs\" textLength=\"75\" x=\"20\" y=\"20.9951\">AliasImport</text></a><!--MD5=[e4f7fae6ed58524ba242bb0b0d3be6b7]\n",
       "cluster E2--><a href=\"psysml:0089895f-bb5f-44ae-8440-3a6de4c690d2\" target=\"_top\" title=\"psysml:0089895f-bb5f-44ae-8440-3a6de4c690d2\" xlink:actuate=\"onRequest\" xlink:href=\"psysml:0089895f-bb5f-44ae-8440-3a6de4c690d2\" xlink:show=\"new\" xlink:title=\"psysml:0089895f-bb5f-44ae-8440-3a6de4c690d2\" xlink:type=\"simple\"><polygon fill=\"#FFFFFF\" points=\"202,49,281,49,288,71.2969,418,71.2969,418,143,202,143,202,49\" style=\"stroke: #000000; stroke-width: 1.5;\"/><line style=\"stroke: #000000; stroke-width: 1.5;\" x1=\"202\" x2=\"288\" y1=\"71.2969\" y2=\"71.2969\"/><text fill=\"#000000\" font-family=\"sans-serif\" font-size=\"14\" font-weight=\"bold\" lengthAdjust=\"spacingAndGlyphs\" textLength=\"73\" x=\"206\" y=\"63.9951\">Definitions</text></a><!--MD5=[de5ec2e2e8f62f467e546659f5068c88]\n",
       "cluster E5--><a href=\"psysml:e57b5549-a047-42fa-b139-1a9999eaa505\" target=\"_top\" title=\"psysml:e57b5549-a047-42fa-b139-1a9999eaa505\" xlink:actuate=\"onRequest\" xlink:href=\"psysml:e57b5549-a047-42fa-b139-1a9999eaa505\" xlink:show=\"new\" xlink:title=\"psysml:e57b5549-a047-42fa-b139-1a9999eaa505\" xlink:type=\"simple\"><polygon fill=\"#FFFFFF\" points=\"40,50.5,98,50.5,105,72.7969,178,72.7969,178,141.5,40,141.5,40,50.5\" style=\"stroke: #000000; stroke-width: 1.5;\"/><line style=\"stroke: #000000; stroke-width: 1.5;\" x1=\"40\" x2=\"105\" y1=\"72.7969\" y2=\"72.7969\"/><text fill=\"#000000\" font-family=\"sans-serif\" font-size=\"14\" font-weight=\"bold\" lengthAdjust=\"spacingAndGlyphs\" textLength=\"52\" x=\"44\" y=\"65.4951\">Usages</text></a><g id=\"E1.E2.E3\"><a href=\"psysml:117f05b4-c909-44db-8047-1df426d26d27\" target=\"_top\" title=\"psysml:117f05b4-c909-44db-8047-1df426d26d27\" xlink:actuate=\"onRequest\" xlink:href=\"psysml:117f05b4-c909-44db-8047-1df426d26d27\" xlink:show=\"new\" xlink:title=\"psysml:117f05b4-c909-44db-8047-1df426d26d27\" xlink:type=\"simple\"><rect fill=\"#FFFFFF\" height=\"42.9375\" id=\"E3\" style=\"stroke: #383838; stroke-width: 1.5;\" width=\"75\" x=\"327.5\" y=\"84\"/><rect fill=\"#F8F8F8\" height=\"37.9375\" style=\"stroke: #383838; stroke-width: 1.5;\" width=\"75\" x=\"327.5\" y=\"84\"/><text fill=\"#000000\" font-family=\"sans-serif\" font-size=\"12\" font-style=\"italic\" lengthAdjust=\"spacingAndGlyphs\" textLength=\"68\" x=\"331\" y=\"100.1387\">«part  def»</text><text fill=\"#000000\" font-family=\"sans-serif\" font-size=\"12\" lengthAdjust=\"spacingAndGlyphs\" textLength=\"45\" x=\"342.5\" y=\"114.1074\">Vehicle</text></a></g><g id=\"E1.E2.E4\"><a href=\"psysml:117f05b4-c909-44db-8047-1df426d26d27\" target=\"_top\" title=\"psysml:117f05b4-c909-44db-8047-1df426d26d27\" xlink:actuate=\"onRequest\" xlink:href=\"psysml:117f05b4-c909-44db-8047-1df426d26d27\" xlink:show=\"new\" xlink:title=\"psysml:117f05b4-c909-44db-8047-1df426d26d27\" xlink:type=\"simple\"><rect fill=\"#FFFFFF\" height=\"42.9375\" id=\"E4\" style=\"stroke: #383838; stroke-width: 1.5;\" width=\"75\" x=\"217.5\" y=\"84\"/><rect fill=\"#F8F8F8\" height=\"37.9375\" style=\"stroke: #383838; stroke-width: 1.5;\" width=\"75\" x=\"217.5\" y=\"84\"/><text fill=\"#000000\" font-family=\"sans-serif\" font-size=\"12\" font-style=\"italic\" lengthAdjust=\"spacingAndGlyphs\" textLength=\"68\" x=\"221\" y=\"100.1387\">«part  def»</text><text fill=\"#000000\" font-family=\"sans-serif\" font-size=\"12\" lengthAdjust=\"spacingAndGlyphs\" textLength=\"45\" x=\"232.5\" y=\"114.1074\">Vehicle</text></a></g><g id=\"E1.E5.E6\"><a href=\"psysml:e21f8a97-fb67-4292-9535-52151c9da93c\" target=\"_top\" title=\"psysml:e21f8a97-fb67-4292-9535-52151c9da93c\" xlink:actuate=\"onRequest\" xlink:href=\"psysml:e21f8a97-fb67-4292-9535-52151c9da93c\" xlink:show=\"new\" xlink:title=\"psysml:e21f8a97-fb67-4292-9535-52151c9da93c\" xlink:type=\"simple\"><rect fill=\"#FFFFFF\" height=\"40\" id=\"E6\" rx=\"10\" ry=\"10\" style=\"stroke: #383838; stroke-width: 1.5;\" width=\"107\" x=\"55.5\" y=\"85.5\"/><rect fill=\"#F8F8F8\" height=\"23.9688\" rx=\"10\" ry=\"10\" style=\"stroke: #F8F8F8; stroke-width: 1.5;\" width=\"107\" x=\"55.5\" y=\"85.5\"/><rect fill=\"#F8F8F8\" height=\"10\" style=\"stroke: #F8F8F8; stroke-width: 1.5;\" width=\"107\" x=\"55.5\" y=\"99.4688\"/><rect fill=\"none\" height=\"40\" id=\"E6\" rx=\"10\" ry=\"10\" style=\"stroke: #383838; stroke-width: 1.5;\" width=\"107\" x=\"55.5\" y=\"85.5\"/><text fill=\"#000000\" font-family=\"sans-serif\" font-size=\"12\" lengthAdjust=\"spacingAndGlyphs\" textLength=\"96\" x=\"61\" y=\"101.6387\">vehicle: Vehicle</text></a></g><!--MD5=[17b0c2451a31584dc93e5e5e8dc64b34]\n",
       "@startuml\r\n",
       "skinparam ranksep 10\r\n",
       "skinparam rectangle {\r\n",
       " backgroundColor<<block>> LightGreen\r\n",
       "}\r\n",
       " skinparam monochrome true\r\n",
       "skinparam classbackgroundcolor white\r\n",
       "skinparam shadowing false\r\n",
       "skinparam wrapWidth 300\r\n",
       "hide circle\r\n",
       "\r\n",
       "package \"AliasImport\" as E1  [[psysml:144140e7-4c0e-44d8-912b-18808e1341b6 ]]  {\r\n",
       "package \"Definitions\" as E2  [[psysml:0089895f-bb5f-44ae-8440-3a6de4c690d2 ]]  {\r\n",
       "rec def \"Vehicle\" as E3  <<(T,blue) part  def>> [[psysml:117f05b4-c909-44db-8047-1df426d26d27 ]] {\r\n",
       "}\r\n",
       "rec def \"Vehicle\" as E4  <<(T,blue) part  def>> [[psysml:117f05b4-c909-44db-8047-1df426d26d27 ]] {\r\n",
       "}\r\n",
       "}\r\n",
       "package \"Usages\" as E5  [[psysml:e57b5549-a047-42fa-b139-1a9999eaa505 ]]  {\r\n",
       "rec usage \"vehicle: Vehicle\" as E6  [[psysml:e21f8a97-fb67-4292-9535-52151c9da93c ]] {\r\n",
       "}\r\n",
       "}\r\n",
       "}\r\n",
       "@enduml\r\n",
       "\n",
       "PlantUML version 1.2020.13(Sat Jun 13 12:26:38 UTC 2020)\n",
       "(EPL source distribution)\n",
       "Java Runtime: OpenJDK Runtime Environment\n",
       "JVM: OpenJDK 64-Bit Server VM\n",
       "Default Encoding: UTF-8\n",
       "Language: en\n",
       "Country: null\n",
       "--></g></svg>"
      ]
     },
     "execution_count": 5,
     "metadata": {},
     "output_type": "execute_result"
    }
   ],
   "source": [
    "%viz --style=\"COMPTREE\" --view=\"Interconnection\" \"AliasImport\""
   ]
  },
  {
   "cell_type": "code",
   "execution_count": 6,
   "id": "a398a3ad",
   "metadata": {
    "execution": {
     "iopub.execute_input": "2021-10-25T08:24:40.202868Z",
     "iopub.status.busy": "2021-10-25T08:24:40.202444Z",
     "iopub.status.idle": "2021-10-25T08:24:40.211321Z",
     "shell.execute_reply": "2021-10-25T08:24:40.211759Z"
    }
   },
   "outputs": [
    {
     "data": {
      "image/svg+xml": [
       "<?xml version=\"1.0\" encoding=\"UTF-8\" standalone=\"no\"?><svg xmlns=\"http://www.w3.org/2000/svg\" xmlns:xlink=\"http://www.w3.org/1999/xlink\" contentScriptType=\"application/ecmascript\" contentStyleType=\"text/css\" height=\"12px\" preserveAspectRatio=\"none\" style=\"width:12px;height:12px;\" version=\"1.1\" viewBox=\"0 0 12 12\" width=\"12px\" zoomAndPan=\"magnify\"><defs/><g><!--MD5=[655b888544ca4751ea36af1068543f84]\n",
       "@startuml\r\n",
       "skinparam ranksep 8\r\n",
       " skinparam monochrome true\r\n",
       "skinparam classbackgroundcolor white\r\n",
       "skinparam shadowing false\r\n",
       "skinparam wrapWidth 300\r\n",
       "hide circle\r\n",
       "\r\n",
       "@enduml\r\n",
       "\n",
       "PlantUML version 1.2020.13(Sat Jun 13 12:26:38 UTC 2020)\n",
       "(EPL source distribution)\n",
       "Java Runtime: OpenJDK Runtime Environment\n",
       "JVM: OpenJDK 64-Bit Server VM\n",
       "Default Encoding: UTF-8\n",
       "Language: en\n",
       "Country: null\n",
       "--></g></svg>"
      ]
     },
     "execution_count": 6,
     "metadata": {},
     "output_type": "execute_result"
    }
   ],
   "source": [
    "%viz --style=\"COMPTREE\" --view=\"Action\" \"AliasImport\""
   ]
  },
  {
   "cell_type": "code",
   "execution_count": 7,
   "id": "62bc37b4",
   "metadata": {
    "execution": {
     "iopub.execute_input": "2021-10-25T08:24:40.261900Z",
     "iopub.status.busy": "2021-10-25T08:24:40.261445Z",
     "iopub.status.idle": "2021-10-25T08:24:40.274569Z",
     "shell.execute_reply": "2021-10-25T08:24:40.274893Z"
    }
   },
   "outputs": [
    {
     "data": {
      "image/svg+xml": [
       "<?xml version=\"1.0\" encoding=\"UTF-8\" standalone=\"no\"?><svg xmlns=\"http://www.w3.org/2000/svg\" xmlns:xlink=\"http://www.w3.org/1999/xlink\" contentScriptType=\"application/ecmascript\" contentStyleType=\"text/css\" height=\"12px\" preserveAspectRatio=\"none\" style=\"width:12px;height:12px;\" version=\"1.1\" viewBox=\"0 0 12 12\" width=\"12px\" zoomAndPan=\"magnify\"><defs/><g><!--MD5=[803fc46c337be7a5c8a9831e35356779]\n",
       "@startuml\r\n",
       "skinparam roundcorner 20\r\n",
       "skinparam BoxPadding 20\r\n",
       "skinparam SequenceBoxBackgroundColor #white\r\n",
       "skinparam style strictuml\r\n",
       "skinparam maxMessageSize 100\r\n",
       " skinparam monochrome true\r\n",
       "skinparam classbackgroundcolor white\r\n",
       "skinparam shadowing false\r\n",
       "skinparam wrapWidth 300\r\n",
       "hide circle\r\n",
       "\r\n",
       "@enduml\r\n",
       "\n",
       "PlantUML version 1.2020.13(Sat Jun 13 12:26:38 UTC 2020)\n",
       "(EPL source distribution)\n",
       "Java Runtime: OpenJDK Runtime Environment\n",
       "JVM: OpenJDK 64-Bit Server VM\n",
       "Default Encoding: UTF-8\n",
       "Language: en\n",
       "Country: null\n",
       "--></g></svg>"
      ]
     },
     "execution_count": 7,
     "metadata": {},
     "output_type": "execute_result"
    }
   ],
   "source": [
    "%viz --style=\"COMPTREE\" --view=\"Sequence\" \"AliasImport\""
   ]
  },
  {
   "cell_type": "code",
   "execution_count": 8,
   "id": "edaf70e8",
   "metadata": {
    "execution": {
     "iopub.execute_input": "2021-10-25T08:24:40.324887Z",
     "iopub.status.busy": "2021-10-25T08:24:40.324460Z",
     "iopub.status.idle": "2021-10-25T08:24:40.362079Z",
     "shell.execute_reply": "2021-10-25T08:24:40.361727Z"
    }
   },
   "outputs": [
    {
     "data": {
      "image/svg+xml": [
       "<?xml version=\"1.0\" encoding=\"UTF-8\" standalone=\"no\"?><svg xmlns=\"http://www.w3.org/2000/svg\" xmlns:xlink=\"http://www.w3.org/1999/xlink\" contentScriptType=\"application/ecmascript\" contentStyleType=\"text/css\" height=\"303px\" preserveAspectRatio=\"none\" style=\"width:224px;height:303px;\" version=\"1.1\" viewBox=\"0 0 224 303\" width=\"224px\" zoomAndPan=\"magnify\"><defs/><g><!--MD5=[fbc87193dbaf4d95561dea2c320d4a47]\n",
       "cluster E1--><a href=\"psysml:144140e7-4c0e-44d8-912b-18808e1341b6\" target=\"_top\" title=\"psysml:144140e7-4c0e-44d8-912b-18808e1341b6\" xlink:actuate=\"onRequest\" xlink:href=\"psysml:144140e7-4c0e-44d8-912b-18808e1341b6\" xlink:show=\"new\" xlink:title=\"psysml:144140e7-4c0e-44d8-912b-18808e1341b6\" xlink:type=\"simple\"><polygon fill=\"#FFFFFF\" points=\"16,6,97,6,104,28.2969,202,28.2969,202,291,16,291,16,6\" style=\"stroke: #000000; stroke-width: 1.5;\"/><line style=\"stroke: #000000; stroke-width: 1.5;\" x1=\"16\" x2=\"104\" y1=\"28.2969\" y2=\"28.2969\"/><text fill=\"#000000\" font-family=\"sans-serif\" font-size=\"14\" font-weight=\"bold\" lengthAdjust=\"spacingAndGlyphs\" textLength=\"75\" x=\"20\" y=\"20.9951\">AliasImport</text></a><!--MD5=[e4f7fae6ed58524ba242bb0b0d3be6b7]\n",
       "cluster E2--><a href=\"psysml:0089895f-bb5f-44ae-8440-3a6de4c690d2\" target=\"_top\" title=\"psysml:0089895f-bb5f-44ae-8440-3a6de4c690d2\" xlink:actuate=\"onRequest\" xlink:href=\"psysml:0089895f-bb5f-44ae-8440-3a6de4c690d2\" xlink:show=\"new\" xlink:title=\"psysml:0089895f-bb5f-44ae-8440-3a6de4c690d2\" xlink:type=\"simple\"><polygon fill=\"#FFFFFF\" points=\"58,170,137,170,144,192.2969,160,192.2969,160,267,58,267,58,170\" style=\"stroke: #000000; stroke-width: 1.5;\"/><line style=\"stroke: #000000; stroke-width: 1.5;\" x1=\"58\" x2=\"144\" y1=\"192.2969\" y2=\"192.2969\"/><text fill=\"#000000\" font-family=\"sans-serif\" font-size=\"14\" font-weight=\"bold\" lengthAdjust=\"spacingAndGlyphs\" textLength=\"73\" x=\"62\" y=\"184.9951\">Definitions</text></a><!--MD5=[f6df4d0ebaf0b5dfb2ced0ae5af7c670]\n",
       "cluster E4--><a href=\"psysml:e57b5549-a047-42fa-b139-1a9999eaa505\" target=\"_top\" title=\"psysml:e57b5549-a047-42fa-b139-1a9999eaa505\" xlink:actuate=\"onRequest\" xlink:href=\"psysml:e57b5549-a047-42fa-b139-1a9999eaa505\" xlink:show=\"new\" xlink:title=\"psysml:e57b5549-a047-42fa-b139-1a9999eaa505\" xlink:type=\"simple\"><polygon fill=\"#FFFFFF\" points=\"40,49,98,49,105,71.2969,178,71.2969,178,146,40,146,40,49\" style=\"stroke: #000000; stroke-width: 1.5;\"/><line style=\"stroke: #000000; stroke-width: 1.5;\" x1=\"40\" x2=\"105\" y1=\"71.2969\" y2=\"71.2969\"/><text fill=\"#000000\" font-family=\"sans-serif\" font-size=\"14\" font-weight=\"bold\" lengthAdjust=\"spacingAndGlyphs\" textLength=\"52\" x=\"44\" y=\"63.9951\">Usages</text></a><!--MD5=[09b614a08d8cba4a07c9adeb5e0fee81]\n",
       "class E3--><a href=\"psysml:117f05b4-c909-44db-8047-1df426d26d27\" target=\"_top\" title=\"psysml:117f05b4-c909-44db-8047-1df426d26d27\" xlink:actuate=\"onRequest\" xlink:href=\"psysml:117f05b4-c909-44db-8047-1df426d26d27\" xlink:show=\"new\" xlink:title=\"psysml:117f05b4-c909-44db-8047-1df426d26d27\" xlink:type=\"simple\"><rect fill=\"#FFFFFF\" height=\"45.9375\" id=\"E3\" style=\"stroke: #383838; stroke-width: 1.5;\" width=\"70\" x=\"74\" y=\"205\"/><text fill=\"#000000\" font-family=\"sans-serif\" font-size=\"12\" font-style=\"italic\" lengthAdjust=\"spacingAndGlyphs\" textLength=\"68\" x=\"75\" y=\"221.1387\">«part  def»</text><text fill=\"#000000\" font-family=\"sans-serif\" font-size=\"12\" lengthAdjust=\"spacingAndGlyphs\" textLength=\"45\" x=\"86.5\" y=\"235.1074\">Vehicle</text><line style=\"stroke: #383838; stroke-width: 1.5;\" x1=\"75\" x2=\"143\" y1=\"242.9375\" y2=\"242.9375\"/></a><!--MD5=[270fce915f116d4de14055a7c1d9a0f3]\n",
       "class E5--><a href=\"psysml:e21f8a97-fb67-4292-9535-52151c9da93c\" target=\"_top\" title=\"psysml:e21f8a97-fb67-4292-9535-52151c9da93c\" xlink:actuate=\"onRequest\" xlink:href=\"psysml:e21f8a97-fb67-4292-9535-52151c9da93c\" xlink:show=\"new\" xlink:title=\"psysml:e21f8a97-fb67-4292-9535-52151c9da93c\" xlink:type=\"simple\"><rect fill=\"#FFFFFF\" height=\"45.9375\" id=\"E5\" rx=\"10\" ry=\"10\" style=\"stroke: #383838; stroke-width: 1.5;\" width=\"106\" x=\"56\" y=\"84\"/><text fill=\"#000000\" font-family=\"sans-serif\" font-size=\"12\" font-style=\"italic\" lengthAdjust=\"spacingAndGlyphs\" textLength=\"40\" x=\"89\" y=\"100.1387\">«part»</text><text fill=\"#000000\" font-family=\"sans-serif\" font-size=\"12\" lengthAdjust=\"spacingAndGlyphs\" textLength=\"96\" x=\"59\" y=\"114.1074\">vehicle: Vehicle</text><line style=\"stroke: #383838; stroke-width: 1.5;\" x1=\"57\" x2=\"161\" y1=\"121.9375\" y2=\"121.9375\"/></a><!--MD5=[e9be52314489bd878ff4c7144b63c9e1]\n",
       "link E5 to E3--><a href=\"psysml:763357b8-b5e0-4785-a470-e50d945081e3\" target=\"_top\" title=\"psysml:763357b8-b5e0-4785-a470-e50d945081e3\" xlink:actuate=\"onRequest\" xlink:href=\"psysml:763357b8-b5e0-4785-a470-e50d945081e3\" xlink:show=\"new\" xlink:title=\"psysml:763357b8-b5e0-4785-a470-e50d945081e3\" xlink:type=\"simple\"><path d=\"M109,130.1 C109,145.37 109,166.16 109,184.57 \" fill=\"none\" id=\"E5-&gt;E3\" style=\"stroke: #383838; stroke-width: 1.0;\"/><polygon fill=\"#FFFFFF\" points=\"109,204.61,102,185.61,116,185.61,109,204.61\" style=\"stroke: #383838; stroke-width: 1.0;\"/><ellipse cx=\"104\" cy=\"179.91\" fill=\"#383838\" rx=\"2\" ry=\"2\" style=\"stroke: #383838; stroke-width: 1.0;\"/><ellipse cx=\"114\" cy=\"179.91\" fill=\"#383838\" rx=\"2\" ry=\"2\" style=\"stroke: #383838; stroke-width: 1.0;\"/></a><!--MD5=[58f29aa39fb89bbad03f26035882ba28]\n",
       "@startuml\r\n",
       " skinparam monochrome true\r\n",
       "skinparam classbackgroundcolor white\r\n",
       "skinparam shadowing false\r\n",
       "skinparam wrapWidth 300\r\n",
       "hide circle\r\n",
       "\r\n",
       "package \"AliasImport\" as E1  [[psysml:144140e7-4c0e-44d8-912b-18808e1341b6 ]]  {\r\n",
       "package \"Definitions\" as E2  [[psysml:0089895f-bb5f-44ae-8440-3a6de4c690d2 ]]  {\r\n",
       "comp def \"Vehicle\" as E3  <<(T,blue) part  def>> [[psysml:117f05b4-c909-44db-8047-1df426d26d27 ]] {\r\n",
       "}\r\n",
       "}\r\n",
       "package \"Usages\" as E4  [[psysml:e57b5549-a047-42fa-b139-1a9999eaa505 ]]  {\r\n",
       "comp usage \"vehicle: Vehicle \" as E5  <<(T,blue) part>> [[psysml:e21f8a97-fb67-4292-9535-52151c9da93c ]] {\r\n",
       "}\r\n",
       "}\r\n",
       "}\r\n",
       "E5 - -:|> E3 [[psysml:763357b8-b5e0-4785-a470-e50d945081e3 ]] \r\n",
       "@enduml\r\n",
       "\n",
       "PlantUML version 1.2020.13(Sat Jun 13 12:26:38 UTC 2020)\n",
       "(EPL source distribution)\n",
       "Java Runtime: OpenJDK Runtime Environment\n",
       "JVM: OpenJDK 64-Bit Server VM\n",
       "Default Encoding: UTF-8\n",
       "Language: en\n",
       "Country: null\n",
       "--></g></svg>"
      ]
     },
     "execution_count": 8,
     "metadata": {},
     "output_type": "execute_result"
    }
   ],
   "source": [
    "%viz --style=\"COMPTREE\" --view=\"MIXED\" \"AliasImport\""
   ]
  },
  {
   "cell_type": "code",
   "execution_count": 9,
   "id": "e56872b7",
   "metadata": {
    "execution": {
     "iopub.execute_input": "2021-10-25T08:24:40.412078Z",
     "iopub.status.busy": "2021-10-25T08:24:40.411608Z",
     "iopub.status.idle": "2021-10-25T08:24:40.447370Z",
     "shell.execute_reply": "2021-10-25T08:24:40.447093Z"
    }
   },
   "outputs": [
    {
     "data": {
      "image/svg+xml": [
       "<?xml version=\"1.0\" encoding=\"UTF-8\" standalone=\"no\"?><svg xmlns=\"http://www.w3.org/2000/svg\" xmlns:xlink=\"http://www.w3.org/1999/xlink\" contentScriptType=\"application/ecmascript\" contentStyleType=\"text/css\" height=\"303px\" preserveAspectRatio=\"none\" style=\"width:224px;height:303px;\" version=\"1.1\" viewBox=\"0 0 224 303\" width=\"224px\" zoomAndPan=\"magnify\"><defs/><g><!--MD5=[fbc87193dbaf4d95561dea2c320d4a47]\n",
       "cluster E1--><a href=\"psysml:144140e7-4c0e-44d8-912b-18808e1341b6\" target=\"_top\" title=\"psysml:144140e7-4c0e-44d8-912b-18808e1341b6\" xlink:actuate=\"onRequest\" xlink:href=\"psysml:144140e7-4c0e-44d8-912b-18808e1341b6\" xlink:show=\"new\" xlink:title=\"psysml:144140e7-4c0e-44d8-912b-18808e1341b6\" xlink:type=\"simple\"><polygon fill=\"#FFFFFF\" points=\"16,6,97,6,104,28.2969,202,28.2969,202,291,16,291,16,6\" style=\"stroke: #000000; stroke-width: 1.5;\"/><line style=\"stroke: #000000; stroke-width: 1.5;\" x1=\"16\" x2=\"104\" y1=\"28.2969\" y2=\"28.2969\"/><text fill=\"#000000\" font-family=\"sans-serif\" font-size=\"14\" font-weight=\"bold\" lengthAdjust=\"spacingAndGlyphs\" textLength=\"75\" x=\"20\" y=\"20.9951\">AliasImport</text></a><!--MD5=[e4f7fae6ed58524ba242bb0b0d3be6b7]\n",
       "cluster E2--><a href=\"psysml:0089895f-bb5f-44ae-8440-3a6de4c690d2\" target=\"_top\" title=\"psysml:0089895f-bb5f-44ae-8440-3a6de4c690d2\" xlink:actuate=\"onRequest\" xlink:href=\"psysml:0089895f-bb5f-44ae-8440-3a6de4c690d2\" xlink:show=\"new\" xlink:title=\"psysml:0089895f-bb5f-44ae-8440-3a6de4c690d2\" xlink:type=\"simple\"><polygon fill=\"#FFFFFF\" points=\"58,170,137,170,144,192.2969,160,192.2969,160,267,58,267,58,170\" style=\"stroke: #000000; stroke-width: 1.5;\"/><line style=\"stroke: #000000; stroke-width: 1.5;\" x1=\"58\" x2=\"144\" y1=\"192.2969\" y2=\"192.2969\"/><text fill=\"#000000\" font-family=\"sans-serif\" font-size=\"14\" font-weight=\"bold\" lengthAdjust=\"spacingAndGlyphs\" textLength=\"73\" x=\"62\" y=\"184.9951\">Definitions</text></a><!--MD5=[f6df4d0ebaf0b5dfb2ced0ae5af7c670]\n",
       "cluster E4--><a href=\"psysml:e57b5549-a047-42fa-b139-1a9999eaa505\" target=\"_top\" title=\"psysml:e57b5549-a047-42fa-b139-1a9999eaa505\" xlink:actuate=\"onRequest\" xlink:href=\"psysml:e57b5549-a047-42fa-b139-1a9999eaa505\" xlink:show=\"new\" xlink:title=\"psysml:e57b5549-a047-42fa-b139-1a9999eaa505\" xlink:type=\"simple\"><polygon fill=\"#FFFFFF\" points=\"40,49,98,49,105,71.2969,178,71.2969,178,146,40,146,40,49\" style=\"stroke: #000000; stroke-width: 1.5;\"/><line style=\"stroke: #000000; stroke-width: 1.5;\" x1=\"40\" x2=\"105\" y1=\"71.2969\" y2=\"71.2969\"/><text fill=\"#000000\" font-family=\"sans-serif\" font-size=\"14\" font-weight=\"bold\" lengthAdjust=\"spacingAndGlyphs\" textLength=\"52\" x=\"44\" y=\"63.9951\">Usages</text></a><!--MD5=[09b614a08d8cba4a07c9adeb5e0fee81]\n",
       "class E3--><a href=\"psysml:117f05b4-c909-44db-8047-1df426d26d27\" target=\"_top\" title=\"psysml:117f05b4-c909-44db-8047-1df426d26d27\" xlink:actuate=\"onRequest\" xlink:href=\"psysml:117f05b4-c909-44db-8047-1df426d26d27\" xlink:show=\"new\" xlink:title=\"psysml:117f05b4-c909-44db-8047-1df426d26d27\" xlink:type=\"simple\"><rect fill=\"#FFFFFF\" height=\"45.9375\" id=\"E3\" style=\"stroke: #383838; stroke-width: 1.5;\" width=\"70\" x=\"74\" y=\"205\"/><text fill=\"#000000\" font-family=\"sans-serif\" font-size=\"12\" font-style=\"italic\" lengthAdjust=\"spacingAndGlyphs\" textLength=\"68\" x=\"75\" y=\"221.1387\">«part  def»</text><text fill=\"#000000\" font-family=\"sans-serif\" font-size=\"12\" lengthAdjust=\"spacingAndGlyphs\" textLength=\"45\" x=\"86.5\" y=\"235.1074\">Vehicle</text><line style=\"stroke: #383838; stroke-width: 1.5;\" x1=\"75\" x2=\"143\" y1=\"242.9375\" y2=\"242.9375\"/></a><!--MD5=[270fce915f116d4de14055a7c1d9a0f3]\n",
       "class E5--><a href=\"psysml:e21f8a97-fb67-4292-9535-52151c9da93c\" target=\"_top\" title=\"psysml:e21f8a97-fb67-4292-9535-52151c9da93c\" xlink:actuate=\"onRequest\" xlink:href=\"psysml:e21f8a97-fb67-4292-9535-52151c9da93c\" xlink:show=\"new\" xlink:title=\"psysml:e21f8a97-fb67-4292-9535-52151c9da93c\" xlink:type=\"simple\"><rect fill=\"#FFFFFF\" height=\"45.9375\" id=\"E5\" rx=\"10\" ry=\"10\" style=\"stroke: #383838; stroke-width: 1.5;\" width=\"106\" x=\"56\" y=\"84\"/><text fill=\"#000000\" font-family=\"sans-serif\" font-size=\"12\" font-style=\"italic\" lengthAdjust=\"spacingAndGlyphs\" textLength=\"40\" x=\"89\" y=\"100.1387\">«part»</text><text fill=\"#000000\" font-family=\"sans-serif\" font-size=\"12\" lengthAdjust=\"spacingAndGlyphs\" textLength=\"96\" x=\"59\" y=\"114.1074\">vehicle: Vehicle</text><line style=\"stroke: #383838; stroke-width: 1.5;\" x1=\"57\" x2=\"161\" y1=\"121.9375\" y2=\"121.9375\"/></a><!--MD5=[e9be52314489bd878ff4c7144b63c9e1]\n",
       "link E5 to E3--><a href=\"psysml:763357b8-b5e0-4785-a470-e50d945081e3\" target=\"_top\" title=\"psysml:763357b8-b5e0-4785-a470-e50d945081e3\" xlink:actuate=\"onRequest\" xlink:href=\"psysml:763357b8-b5e0-4785-a470-e50d945081e3\" xlink:show=\"new\" xlink:title=\"psysml:763357b8-b5e0-4785-a470-e50d945081e3\" xlink:type=\"simple\"><path d=\"M109,130.1 C109,145.37 109,166.16 109,184.57 \" fill=\"none\" id=\"E5-&gt;E3\" style=\"stroke: #383838; stroke-width: 1.0;\"/><polygon fill=\"#FFFFFF\" points=\"109,204.61,102,185.61,116,185.61,109,204.61\" style=\"stroke: #383838; stroke-width: 1.0;\"/><ellipse cx=\"104\" cy=\"179.91\" fill=\"#383838\" rx=\"2\" ry=\"2\" style=\"stroke: #383838; stroke-width: 1.0;\"/><ellipse cx=\"114\" cy=\"179.91\" fill=\"#383838\" rx=\"2\" ry=\"2\" style=\"stroke: #383838; stroke-width: 1.0;\"/></a><!--MD5=[cceab9835fd83cff561554564fb413cf]\n",
       "@startuml\r\n",
       "skinparam linetype polyline\r\n",
       "skinparam monochrome true\r\n",
       "skinparam classbackgroundcolor white\r\n",
       "skinparam shadowing false\r\n",
       "skinparam wrapWidth 300\r\n",
       "hide circle\r\n",
       "\r\n",
       "package \"AliasImport\" as E1  [[psysml:144140e7-4c0e-44d8-912b-18808e1341b6 ]]  {\r\n",
       "package \"Definitions\" as E2  [[psysml:0089895f-bb5f-44ae-8440-3a6de4c690d2 ]]  {\r\n",
       "comp def \"Vehicle\" as E3  <<(T,blue) part  def>> [[psysml:117f05b4-c909-44db-8047-1df426d26d27 ]] {\r\n",
       "}\r\n",
       "}\r\n",
       "package \"Usages\" as E4  [[psysml:e57b5549-a047-42fa-b139-1a9999eaa505 ]]  {\r\n",
       "comp usage \"vehicle: Vehicle \" as E5  <<(T,blue) part>> [[psysml:e21f8a97-fb67-4292-9535-52151c9da93c ]] {\r\n",
       "}\r\n",
       "}\r\n",
       "}\r\n",
       "E5 - -:|> E3 [[psysml:763357b8-b5e0-4785-a470-e50d945081e3 ]] \r\n",
       "@enduml\r\n",
       "\n",
       "PlantUML version 1.2020.13(Sat Jun 13 12:26:38 UTC 2020)\n",
       "(EPL source distribution)\n",
       "Java Runtime: OpenJDK Runtime Environment\n",
       "JVM: OpenJDK 64-Bit Server VM\n",
       "Default Encoding: UTF-8\n",
       "Language: en\n",
       "Country: null\n",
       "--></g></svg>"
      ]
     },
     "execution_count": 9,
     "metadata": {},
     "output_type": "execute_result"
    }
   ],
   "source": [
    "%viz --style=\"POLYLINE\" --view=\"Default\" \"AliasImport\""
   ]
  },
  {
   "cell_type": "code",
   "execution_count": 10,
   "id": "a5efe469",
   "metadata": {
    "execution": {
     "iopub.execute_input": "2021-10-25T08:24:40.498167Z",
     "iopub.status.busy": "2021-10-25T08:24:40.497539Z",
     "iopub.status.idle": "2021-10-25T08:24:40.525793Z",
     "shell.execute_reply": "2021-10-25T08:24:40.525218Z"
    }
   },
   "outputs": [
    {
     "data": {
      "image/svg+xml": [
       "<?xml version=\"1.0\" encoding=\"UTF-8\" standalone=\"no\"?><svg xmlns=\"http://www.w3.org/2000/svg\" xmlns:xlink=\"http://www.w3.org/1999/xlink\" contentScriptType=\"application/ecmascript\" contentStyleType=\"text/css\" height=\"303px\" preserveAspectRatio=\"none\" style=\"width:224px;height:303px;\" version=\"1.1\" viewBox=\"0 0 224 303\" width=\"224px\" zoomAndPan=\"magnify\"><defs/><g><!--MD5=[fbc87193dbaf4d95561dea2c320d4a47]\n",
       "cluster E1--><a href=\"psysml:144140e7-4c0e-44d8-912b-18808e1341b6\" target=\"_top\" title=\"psysml:144140e7-4c0e-44d8-912b-18808e1341b6\" xlink:actuate=\"onRequest\" xlink:href=\"psysml:144140e7-4c0e-44d8-912b-18808e1341b6\" xlink:show=\"new\" xlink:title=\"psysml:144140e7-4c0e-44d8-912b-18808e1341b6\" xlink:type=\"simple\"><polygon fill=\"#FFFFFF\" points=\"16,6,97,6,104,28.2969,202,28.2969,202,291,16,291,16,6\" style=\"stroke: #000000; stroke-width: 1.5;\"/><line style=\"stroke: #000000; stroke-width: 1.5;\" x1=\"16\" x2=\"104\" y1=\"28.2969\" y2=\"28.2969\"/><text fill=\"#000000\" font-family=\"sans-serif\" font-size=\"14\" font-weight=\"bold\" lengthAdjust=\"spacingAndGlyphs\" textLength=\"75\" x=\"20\" y=\"20.9951\">AliasImport</text></a><!--MD5=[e4f7fae6ed58524ba242bb0b0d3be6b7]\n",
       "cluster E2--><a href=\"psysml:0089895f-bb5f-44ae-8440-3a6de4c690d2\" target=\"_top\" title=\"psysml:0089895f-bb5f-44ae-8440-3a6de4c690d2\" xlink:actuate=\"onRequest\" xlink:href=\"psysml:0089895f-bb5f-44ae-8440-3a6de4c690d2\" xlink:show=\"new\" xlink:title=\"psysml:0089895f-bb5f-44ae-8440-3a6de4c690d2\" xlink:type=\"simple\"><polygon fill=\"#FFFFFF\" points=\"58,170,137,170,144,192.2969,160,192.2969,160,267,58,267,58,170\" style=\"stroke: #000000; stroke-width: 1.5;\"/><line style=\"stroke: #000000; stroke-width: 1.5;\" x1=\"58\" x2=\"144\" y1=\"192.2969\" y2=\"192.2969\"/><text fill=\"#000000\" font-family=\"sans-serif\" font-size=\"14\" font-weight=\"bold\" lengthAdjust=\"spacingAndGlyphs\" textLength=\"73\" x=\"62\" y=\"184.9951\">Definitions</text></a><!--MD5=[f6df4d0ebaf0b5dfb2ced0ae5af7c670]\n",
       "cluster E4--><a href=\"psysml:e57b5549-a047-42fa-b139-1a9999eaa505\" target=\"_top\" title=\"psysml:e57b5549-a047-42fa-b139-1a9999eaa505\" xlink:actuate=\"onRequest\" xlink:href=\"psysml:e57b5549-a047-42fa-b139-1a9999eaa505\" xlink:show=\"new\" xlink:title=\"psysml:e57b5549-a047-42fa-b139-1a9999eaa505\" xlink:type=\"simple\"><polygon fill=\"#FFFFFF\" points=\"40,49,98,49,105,71.2969,178,71.2969,178,146,40,146,40,49\" style=\"stroke: #000000; stroke-width: 1.5;\"/><line style=\"stroke: #000000; stroke-width: 1.5;\" x1=\"40\" x2=\"105\" y1=\"71.2969\" y2=\"71.2969\"/><text fill=\"#000000\" font-family=\"sans-serif\" font-size=\"14\" font-weight=\"bold\" lengthAdjust=\"spacingAndGlyphs\" textLength=\"52\" x=\"44\" y=\"63.9951\">Usages</text></a><!--MD5=[09b614a08d8cba4a07c9adeb5e0fee81]\n",
       "class E3--><a href=\"psysml:117f05b4-c909-44db-8047-1df426d26d27\" target=\"_top\" title=\"psysml:117f05b4-c909-44db-8047-1df426d26d27\" xlink:actuate=\"onRequest\" xlink:href=\"psysml:117f05b4-c909-44db-8047-1df426d26d27\" xlink:show=\"new\" xlink:title=\"psysml:117f05b4-c909-44db-8047-1df426d26d27\" xlink:type=\"simple\"><rect fill=\"#FFFFFF\" height=\"45.9375\" id=\"E3\" style=\"stroke: #383838; stroke-width: 1.5;\" width=\"70\" x=\"74\" y=\"205\"/><text fill=\"#000000\" font-family=\"sans-serif\" font-size=\"12\" font-style=\"italic\" lengthAdjust=\"spacingAndGlyphs\" textLength=\"68\" x=\"75\" y=\"221.1387\">«part  def»</text><text fill=\"#000000\" font-family=\"sans-serif\" font-size=\"12\" lengthAdjust=\"spacingAndGlyphs\" textLength=\"45\" x=\"86.5\" y=\"235.1074\">Vehicle</text><line style=\"stroke: #383838; stroke-width: 1.5;\" x1=\"75\" x2=\"143\" y1=\"242.9375\" y2=\"242.9375\"/></a><!--MD5=[270fce915f116d4de14055a7c1d9a0f3]\n",
       "class E5--><a href=\"psysml:e21f8a97-fb67-4292-9535-52151c9da93c\" target=\"_top\" title=\"psysml:e21f8a97-fb67-4292-9535-52151c9da93c\" xlink:actuate=\"onRequest\" xlink:href=\"psysml:e21f8a97-fb67-4292-9535-52151c9da93c\" xlink:show=\"new\" xlink:title=\"psysml:e21f8a97-fb67-4292-9535-52151c9da93c\" xlink:type=\"simple\"><rect fill=\"#FFFFFF\" height=\"45.9375\" id=\"E5\" rx=\"10\" ry=\"10\" style=\"stroke: #383838; stroke-width: 1.5;\" width=\"106\" x=\"56\" y=\"84\"/><text fill=\"#000000\" font-family=\"sans-serif\" font-size=\"12\" font-style=\"italic\" lengthAdjust=\"spacingAndGlyphs\" textLength=\"40\" x=\"89\" y=\"100.1387\">«part»</text><text fill=\"#000000\" font-family=\"sans-serif\" font-size=\"12\" lengthAdjust=\"spacingAndGlyphs\" textLength=\"96\" x=\"59\" y=\"114.1074\">vehicle: Vehicle</text><line style=\"stroke: #383838; stroke-width: 1.5;\" x1=\"57\" x2=\"161\" y1=\"121.9375\" y2=\"121.9375\"/></a><!--MD5=[e9be52314489bd878ff4c7144b63c9e1]\n",
       "link E5 to E3--><a href=\"psysml:763357b8-b5e0-4785-a470-e50d945081e3\" target=\"_top\" title=\"psysml:763357b8-b5e0-4785-a470-e50d945081e3\" xlink:actuate=\"onRequest\" xlink:href=\"psysml:763357b8-b5e0-4785-a470-e50d945081e3\" xlink:show=\"new\" xlink:title=\"psysml:763357b8-b5e0-4785-a470-e50d945081e3\" xlink:type=\"simple\"><path d=\"M109,130.1 C109,145.37 109,166.16 109,184.57 \" fill=\"none\" id=\"E5-&gt;E3\" style=\"stroke: #383838; stroke-width: 1.0;\"/><polygon fill=\"#FFFFFF\" points=\"109,204.61,102,185.61,116,185.61,109,204.61\" style=\"stroke: #383838; stroke-width: 1.0;\"/><ellipse cx=\"104\" cy=\"179.91\" fill=\"#383838\" rx=\"2\" ry=\"2\" style=\"stroke: #383838; stroke-width: 1.0;\"/><ellipse cx=\"114\" cy=\"179.91\" fill=\"#383838\" rx=\"2\" ry=\"2\" style=\"stroke: #383838; stroke-width: 1.0;\"/></a><!--MD5=[cceab9835fd83cff561554564fb413cf]\n",
       "@startuml\r\n",
       "skinparam linetype polyline\r\n",
       "skinparam monochrome true\r\n",
       "skinparam classbackgroundcolor white\r\n",
       "skinparam shadowing false\r\n",
       "skinparam wrapWidth 300\r\n",
       "hide circle\r\n",
       "\r\n",
       "package \"AliasImport\" as E1  [[psysml:144140e7-4c0e-44d8-912b-18808e1341b6 ]]  {\r\n",
       "package \"Definitions\" as E2  [[psysml:0089895f-bb5f-44ae-8440-3a6de4c690d2 ]]  {\r\n",
       "comp def \"Vehicle\" as E3  <<(T,blue) part  def>> [[psysml:117f05b4-c909-44db-8047-1df426d26d27 ]] {\r\n",
       "}\r\n",
       "}\r\n",
       "package \"Usages\" as E4  [[psysml:e57b5549-a047-42fa-b139-1a9999eaa505 ]]  {\r\n",
       "comp usage \"vehicle: Vehicle \" as E5  <<(T,blue) part>> [[psysml:e21f8a97-fb67-4292-9535-52151c9da93c ]] {\r\n",
       "}\r\n",
       "}\r\n",
       "}\r\n",
       "E5 - -:|> E3 [[psysml:763357b8-b5e0-4785-a470-e50d945081e3 ]] \r\n",
       "@enduml\r\n",
       "\n",
       "PlantUML version 1.2020.13(Sat Jun 13 12:26:38 UTC 2020)\n",
       "(EPL source distribution)\n",
       "Java Runtime: OpenJDK Runtime Environment\n",
       "JVM: OpenJDK 64-Bit Server VM\n",
       "Default Encoding: UTF-8\n",
       "Language: en\n",
       "Country: null\n",
       "--></g></svg>"
      ]
     },
     "execution_count": 10,
     "metadata": {},
     "output_type": "execute_result"
    }
   ],
   "source": [
    "%viz --style=\"POLYLINE\" --view=\"Tree\" \"AliasImport\""
   ]
  },
  {
   "cell_type": "code",
   "execution_count": 11,
   "id": "8d49c724",
   "metadata": {
    "execution": {
     "iopub.execute_input": "2021-10-25T08:24:40.574349Z",
     "iopub.status.busy": "2021-10-25T08:24:40.574098Z",
     "iopub.status.idle": "2021-10-25T08:24:40.582400Z",
     "shell.execute_reply": "2021-10-25T08:24:40.582739Z"
    }
   },
   "outputs": [
    {
     "data": {
      "image/svg+xml": [
       "<?xml version=\"1.0\" encoding=\"UTF-8\" standalone=\"no\"?><svg xmlns=\"http://www.w3.org/2000/svg\" xmlns:xlink=\"http://www.w3.org/1999/xlink\" contentScriptType=\"application/ecmascript\" contentStyleType=\"text/css\" height=\"12px\" preserveAspectRatio=\"none\" style=\"width:12px;height:12px;\" version=\"1.1\" viewBox=\"0 0 12 12\" width=\"12px\" zoomAndPan=\"magnify\"><defs/><g><!--MD5=[896ac0e7a515d8dd7765a661cb4ee08b]\n",
       "@startuml\r\n",
       "skinparam linetype polyline\r\n",
       "skinparam monochrome true\r\n",
       "skinparam classbackgroundcolor white\r\n",
       "skinparam shadowing false\r\n",
       "skinparam wrapWidth 300\r\n",
       "hide circle\r\n",
       "\r\n",
       "@enduml\r\n",
       "\n",
       "PlantUML version 1.2020.13(Sat Jun 13 12:26:38 UTC 2020)\n",
       "(EPL source distribution)\n",
       "Java Runtime: OpenJDK Runtime Environment\n",
       "JVM: OpenJDK 64-Bit Server VM\n",
       "Default Encoding: UTF-8\n",
       "Language: en\n",
       "Country: null\n",
       "--></g></svg>"
      ]
     },
     "execution_count": 11,
     "metadata": {},
     "output_type": "execute_result"
    }
   ],
   "source": [
    "%viz --style=\"POLYLINE\" --view=\"State\" \"AliasImport\""
   ]
  },
  {
   "cell_type": "code",
   "execution_count": 12,
   "id": "3c3bffb0",
   "metadata": {
    "execution": {
     "iopub.execute_input": "2021-10-25T08:24:40.633145Z",
     "iopub.status.busy": "2021-10-25T08:24:40.632615Z",
     "iopub.status.idle": "2021-10-25T08:24:40.664530Z",
     "shell.execute_reply": "2021-10-25T08:24:40.664150Z"
    }
   },
   "outputs": [
    {
     "data": {
      "image/svg+xml": [
       "<?xml version=\"1.0\" encoding=\"UTF-8\" standalone=\"no\"?><svg xmlns=\"http://www.w3.org/2000/svg\" xmlns:xlink=\"http://www.w3.org/1999/xlink\" contentScriptType=\"application/ecmascript\" contentStyleType=\"text/css\" height=\"179px\" preserveAspectRatio=\"none\" style=\"width:464px;height:179px;\" version=\"1.1\" viewBox=\"0 0 464 179\" width=\"464px\" zoomAndPan=\"magnify\"><defs/><g><!--MD5=[fbc87193dbaf4d95561dea2c320d4a47]\n",
       "cluster E1--><a href=\"psysml:144140e7-4c0e-44d8-912b-18808e1341b6\" target=\"_top\" title=\"psysml:144140e7-4c0e-44d8-912b-18808e1341b6\" xlink:actuate=\"onRequest\" xlink:href=\"psysml:144140e7-4c0e-44d8-912b-18808e1341b6\" xlink:show=\"new\" xlink:title=\"psysml:144140e7-4c0e-44d8-912b-18808e1341b6\" xlink:type=\"simple\"><polygon fill=\"#FFFFFF\" points=\"16,6,97,6,104,28.2969,442,28.2969,442,167,16,167,16,6\" style=\"stroke: #000000; stroke-width: 1.5;\"/><line style=\"stroke: #000000; stroke-width: 1.5;\" x1=\"16\" x2=\"104\" y1=\"28.2969\" y2=\"28.2969\"/><text fill=\"#000000\" font-family=\"sans-serif\" font-size=\"14\" font-weight=\"bold\" lengthAdjust=\"spacingAndGlyphs\" textLength=\"75\" x=\"20\" y=\"20.9951\">AliasImport</text></a><!--MD5=[e4f7fae6ed58524ba242bb0b0d3be6b7]\n",
       "cluster E2--><a href=\"psysml:0089895f-bb5f-44ae-8440-3a6de4c690d2\" target=\"_top\" title=\"psysml:0089895f-bb5f-44ae-8440-3a6de4c690d2\" xlink:actuate=\"onRequest\" xlink:href=\"psysml:0089895f-bb5f-44ae-8440-3a6de4c690d2\" xlink:show=\"new\" xlink:title=\"psysml:0089895f-bb5f-44ae-8440-3a6de4c690d2\" xlink:type=\"simple\"><polygon fill=\"#FFFFFF\" points=\"202,49,281,49,288,71.2969,418,71.2969,418,143,202,143,202,49\" style=\"stroke: #000000; stroke-width: 1.5;\"/><line style=\"stroke: #000000; stroke-width: 1.5;\" x1=\"202\" x2=\"288\" y1=\"71.2969\" y2=\"71.2969\"/><text fill=\"#000000\" font-family=\"sans-serif\" font-size=\"14\" font-weight=\"bold\" lengthAdjust=\"spacingAndGlyphs\" textLength=\"73\" x=\"206\" y=\"63.9951\">Definitions</text></a><!--MD5=[de5ec2e2e8f62f467e546659f5068c88]\n",
       "cluster E5--><a href=\"psysml:e57b5549-a047-42fa-b139-1a9999eaa505\" target=\"_top\" title=\"psysml:e57b5549-a047-42fa-b139-1a9999eaa505\" xlink:actuate=\"onRequest\" xlink:href=\"psysml:e57b5549-a047-42fa-b139-1a9999eaa505\" xlink:show=\"new\" xlink:title=\"psysml:e57b5549-a047-42fa-b139-1a9999eaa505\" xlink:type=\"simple\"><polygon fill=\"#FFFFFF\" points=\"40,50.5,98,50.5,105,72.7969,178,72.7969,178,141.5,40,141.5,40,50.5\" style=\"stroke: #000000; stroke-width: 1.5;\"/><line style=\"stroke: #000000; stroke-width: 1.5;\" x1=\"40\" x2=\"105\" y1=\"72.7969\" y2=\"72.7969\"/><text fill=\"#000000\" font-family=\"sans-serif\" font-size=\"14\" font-weight=\"bold\" lengthAdjust=\"spacingAndGlyphs\" textLength=\"52\" x=\"44\" y=\"65.4951\">Usages</text></a><g id=\"E1.E2.E3\"><a href=\"psysml:117f05b4-c909-44db-8047-1df426d26d27\" target=\"_top\" title=\"psysml:117f05b4-c909-44db-8047-1df426d26d27\" xlink:actuate=\"onRequest\" xlink:href=\"psysml:117f05b4-c909-44db-8047-1df426d26d27\" xlink:show=\"new\" xlink:title=\"psysml:117f05b4-c909-44db-8047-1df426d26d27\" xlink:type=\"simple\"><rect fill=\"#FFFFFF\" height=\"42.9375\" id=\"E3\" style=\"stroke: #383838; stroke-width: 1.5;\" width=\"75\" x=\"327.5\" y=\"84\"/><rect fill=\"#F8F8F8\" height=\"37.9375\" style=\"stroke: #383838; stroke-width: 1.5;\" width=\"75\" x=\"327.5\" y=\"84\"/><text fill=\"#000000\" font-family=\"sans-serif\" font-size=\"12\" font-style=\"italic\" lengthAdjust=\"spacingAndGlyphs\" textLength=\"68\" x=\"331\" y=\"100.1387\">«part  def»</text><text fill=\"#000000\" font-family=\"sans-serif\" font-size=\"12\" lengthAdjust=\"spacingAndGlyphs\" textLength=\"45\" x=\"342.5\" y=\"114.1074\">Vehicle</text></a></g><g id=\"E1.E2.E4\"><a href=\"psysml:117f05b4-c909-44db-8047-1df426d26d27\" target=\"_top\" title=\"psysml:117f05b4-c909-44db-8047-1df426d26d27\" xlink:actuate=\"onRequest\" xlink:href=\"psysml:117f05b4-c909-44db-8047-1df426d26d27\" xlink:show=\"new\" xlink:title=\"psysml:117f05b4-c909-44db-8047-1df426d26d27\" xlink:type=\"simple\"><rect fill=\"#FFFFFF\" height=\"42.9375\" id=\"E4\" style=\"stroke: #383838; stroke-width: 1.5;\" width=\"75\" x=\"217.5\" y=\"84\"/><rect fill=\"#F8F8F8\" height=\"37.9375\" style=\"stroke: #383838; stroke-width: 1.5;\" width=\"75\" x=\"217.5\" y=\"84\"/><text fill=\"#000000\" font-family=\"sans-serif\" font-size=\"12\" font-style=\"italic\" lengthAdjust=\"spacingAndGlyphs\" textLength=\"68\" x=\"221\" y=\"100.1387\">«part  def»</text><text fill=\"#000000\" font-family=\"sans-serif\" font-size=\"12\" lengthAdjust=\"spacingAndGlyphs\" textLength=\"45\" x=\"232.5\" y=\"114.1074\">Vehicle</text></a></g><g id=\"E1.E5.E6\"><a href=\"psysml:e21f8a97-fb67-4292-9535-52151c9da93c\" target=\"_top\" title=\"psysml:e21f8a97-fb67-4292-9535-52151c9da93c\" xlink:actuate=\"onRequest\" xlink:href=\"psysml:e21f8a97-fb67-4292-9535-52151c9da93c\" xlink:show=\"new\" xlink:title=\"psysml:e21f8a97-fb67-4292-9535-52151c9da93c\" xlink:type=\"simple\"><rect fill=\"#FFFFFF\" height=\"40\" id=\"E6\" rx=\"10\" ry=\"10\" style=\"stroke: #383838; stroke-width: 1.5;\" width=\"107\" x=\"55.5\" y=\"85.5\"/><rect fill=\"#F8F8F8\" height=\"23.9688\" rx=\"10\" ry=\"10\" style=\"stroke: #F8F8F8; stroke-width: 1.5;\" width=\"107\" x=\"55.5\" y=\"85.5\"/><rect fill=\"#F8F8F8\" height=\"10\" style=\"stroke: #F8F8F8; stroke-width: 1.5;\" width=\"107\" x=\"55.5\" y=\"99.4688\"/><rect fill=\"none\" height=\"40\" id=\"E6\" rx=\"10\" ry=\"10\" style=\"stroke: #383838; stroke-width: 1.5;\" width=\"107\" x=\"55.5\" y=\"85.5\"/><text fill=\"#000000\" font-family=\"sans-serif\" font-size=\"12\" lengthAdjust=\"spacingAndGlyphs\" textLength=\"96\" x=\"61\" y=\"101.6387\">vehicle: Vehicle</text></a></g><!--MD5=[ca5b52564f9d4519c7588f2fc23663db]\n",
       "@startuml\r\n",
       "skinparam ranksep 10\r\n",
       "skinparam rectangle {\r\n",
       " backgroundColor<<block>> LightGreen\r\n",
       "}\r\n",
       "skinparam linetype polyline\r\n",
       "skinparam monochrome true\r\n",
       "skinparam classbackgroundcolor white\r\n",
       "skinparam shadowing false\r\n",
       "skinparam wrapWidth 300\r\n",
       "hide circle\r\n",
       "\r\n",
       "package \"AliasImport\" as E1  [[psysml:144140e7-4c0e-44d8-912b-18808e1341b6 ]]  {\r\n",
       "package \"Definitions\" as E2  [[psysml:0089895f-bb5f-44ae-8440-3a6de4c690d2 ]]  {\r\n",
       "rec def \"Vehicle\" as E3  <<(T,blue) part  def>> [[psysml:117f05b4-c909-44db-8047-1df426d26d27 ]] {\r\n",
       "}\r\n",
       "rec def \"Vehicle\" as E4  <<(T,blue) part  def>> [[psysml:117f05b4-c909-44db-8047-1df426d26d27 ]] {\r\n",
       "}\r\n",
       "}\r\n",
       "package \"Usages\" as E5  [[psysml:e57b5549-a047-42fa-b139-1a9999eaa505 ]]  {\r\n",
       "rec usage \"vehicle: Vehicle\" as E6  [[psysml:e21f8a97-fb67-4292-9535-52151c9da93c ]] {\r\n",
       "}\r\n",
       "}\r\n",
       "}\r\n",
       "@enduml\r\n",
       "\n",
       "PlantUML version 1.2020.13(Sat Jun 13 12:26:38 UTC 2020)\n",
       "(EPL source distribution)\n",
       "Java Runtime: OpenJDK Runtime Environment\n",
       "JVM: OpenJDK 64-Bit Server VM\n",
       "Default Encoding: UTF-8\n",
       "Language: en\n",
       "Country: null\n",
       "--></g></svg>"
      ]
     },
     "execution_count": 12,
     "metadata": {},
     "output_type": "execute_result"
    }
   ],
   "source": [
    "%viz --style=\"POLYLINE\" --view=\"Interconnection\" \"AliasImport\""
   ]
  },
  {
   "cell_type": "code",
   "execution_count": 13,
   "id": "29ccec3f",
   "metadata": {
    "execution": {
     "iopub.execute_input": "2021-10-25T08:24:40.714671Z",
     "iopub.status.busy": "2021-10-25T08:24:40.714194Z",
     "iopub.status.idle": "2021-10-25T08:24:40.720489Z",
     "shell.execute_reply": "2021-10-25T08:24:40.720736Z"
    }
   },
   "outputs": [
    {
     "data": {
      "image/svg+xml": [
       "<?xml version=\"1.0\" encoding=\"UTF-8\" standalone=\"no\"?><svg xmlns=\"http://www.w3.org/2000/svg\" xmlns:xlink=\"http://www.w3.org/1999/xlink\" contentScriptType=\"application/ecmascript\" contentStyleType=\"text/css\" height=\"12px\" preserveAspectRatio=\"none\" style=\"width:12px;height:12px;\" version=\"1.1\" viewBox=\"0 0 12 12\" width=\"12px\" zoomAndPan=\"magnify\"><defs/><g><!--MD5=[97bbf32f66ccd50cbc40d92ea8f5a65e]\n",
       "@startuml\r\n",
       "skinparam ranksep 8\r\n",
       "skinparam linetype polyline\r\n",
       "skinparam monochrome true\r\n",
       "skinparam classbackgroundcolor white\r\n",
       "skinparam shadowing false\r\n",
       "skinparam wrapWidth 300\r\n",
       "hide circle\r\n",
       "\r\n",
       "@enduml\r\n",
       "\n",
       "PlantUML version 1.2020.13(Sat Jun 13 12:26:38 UTC 2020)\n",
       "(EPL source distribution)\n",
       "Java Runtime: OpenJDK Runtime Environment\n",
       "JVM: OpenJDK 64-Bit Server VM\n",
       "Default Encoding: UTF-8\n",
       "Language: en\n",
       "Country: null\n",
       "--></g></svg>"
      ]
     },
     "execution_count": 13,
     "metadata": {},
     "output_type": "execute_result"
    }
   ],
   "source": [
    "%viz --style=\"POLYLINE\" --view=\"Action\" \"AliasImport\""
   ]
  },
  {
   "cell_type": "code",
   "execution_count": 14,
   "id": "33cfe69c",
   "metadata": {
    "execution": {
     "iopub.execute_input": "2021-10-25T08:24:40.771802Z",
     "iopub.status.busy": "2021-10-25T08:24:40.771331Z",
     "iopub.status.idle": "2021-10-25T08:24:40.777851Z",
     "shell.execute_reply": "2021-10-25T08:24:40.778113Z"
    }
   },
   "outputs": [
    {
     "data": {
      "image/svg+xml": [
       "<?xml version=\"1.0\" encoding=\"UTF-8\" standalone=\"no\"?><svg xmlns=\"http://www.w3.org/2000/svg\" xmlns:xlink=\"http://www.w3.org/1999/xlink\" contentScriptType=\"application/ecmascript\" contentStyleType=\"text/css\" height=\"12px\" preserveAspectRatio=\"none\" style=\"width:12px;height:12px;\" version=\"1.1\" viewBox=\"0 0 12 12\" width=\"12px\" zoomAndPan=\"magnify\"><defs/><g><!--MD5=[dc938048236c351797870c36b62f92ad]\n",
       "@startuml\r\n",
       "skinparam roundcorner 20\r\n",
       "skinparam BoxPadding 20\r\n",
       "skinparam SequenceBoxBackgroundColor #white\r\n",
       "skinparam style strictuml\r\n",
       "skinparam maxMessageSize 100\r\n",
       "skinparam linetype polyline\r\n",
       "skinparam monochrome true\r\n",
       "skinparam classbackgroundcolor white\r\n",
       "skinparam shadowing false\r\n",
       "skinparam wrapWidth 300\r\n",
       "hide circle\r\n",
       "\r\n",
       "@enduml\r\n",
       "\n",
       "PlantUML version 1.2020.13(Sat Jun 13 12:26:38 UTC 2020)\n",
       "(EPL source distribution)\n",
       "Java Runtime: OpenJDK Runtime Environment\n",
       "JVM: OpenJDK 64-Bit Server VM\n",
       "Default Encoding: UTF-8\n",
       "Language: en\n",
       "Country: null\n",
       "--></g></svg>"
      ]
     },
     "execution_count": 14,
     "metadata": {},
     "output_type": "execute_result"
    }
   ],
   "source": [
    "%viz --style=\"POLYLINE\" --view=\"Sequence\" \"AliasImport\""
   ]
  },
  {
   "cell_type": "code",
   "execution_count": 15,
   "id": "480b502f",
   "metadata": {
    "execution": {
     "iopub.execute_input": "2021-10-25T08:24:40.827977Z",
     "iopub.status.busy": "2021-10-25T08:24:40.827613Z",
     "iopub.status.idle": "2021-10-25T08:24:40.880364Z",
     "shell.execute_reply": "2021-10-25T08:24:40.880160Z"
    }
   },
   "outputs": [
    {
     "data": {
      "image/svg+xml": [
       "<?xml version=\"1.0\" encoding=\"UTF-8\" standalone=\"no\"?><svg xmlns=\"http://www.w3.org/2000/svg\" xmlns:xlink=\"http://www.w3.org/1999/xlink\" contentScriptType=\"application/ecmascript\" contentStyleType=\"text/css\" height=\"303px\" preserveAspectRatio=\"none\" style=\"width:224px;height:303px;\" version=\"1.1\" viewBox=\"0 0 224 303\" width=\"224px\" zoomAndPan=\"magnify\"><defs/><g><!--MD5=[fbc87193dbaf4d95561dea2c320d4a47]\n",
       "cluster E1--><a href=\"psysml:144140e7-4c0e-44d8-912b-18808e1341b6\" target=\"_top\" title=\"psysml:144140e7-4c0e-44d8-912b-18808e1341b6\" xlink:actuate=\"onRequest\" xlink:href=\"psysml:144140e7-4c0e-44d8-912b-18808e1341b6\" xlink:show=\"new\" xlink:title=\"psysml:144140e7-4c0e-44d8-912b-18808e1341b6\" xlink:type=\"simple\"><polygon fill=\"#FFFFFF\" points=\"16,6,97,6,104,28.2969,202,28.2969,202,291,16,291,16,6\" style=\"stroke: #000000; stroke-width: 1.5;\"/><line style=\"stroke: #000000; stroke-width: 1.5;\" x1=\"16\" x2=\"104\" y1=\"28.2969\" y2=\"28.2969\"/><text fill=\"#000000\" font-family=\"sans-serif\" font-size=\"14\" font-weight=\"bold\" lengthAdjust=\"spacingAndGlyphs\" textLength=\"75\" x=\"20\" y=\"20.9951\">AliasImport</text></a><!--MD5=[e4f7fae6ed58524ba242bb0b0d3be6b7]\n",
       "cluster E2--><a href=\"psysml:0089895f-bb5f-44ae-8440-3a6de4c690d2\" target=\"_top\" title=\"psysml:0089895f-bb5f-44ae-8440-3a6de4c690d2\" xlink:actuate=\"onRequest\" xlink:href=\"psysml:0089895f-bb5f-44ae-8440-3a6de4c690d2\" xlink:show=\"new\" xlink:title=\"psysml:0089895f-bb5f-44ae-8440-3a6de4c690d2\" xlink:type=\"simple\"><polygon fill=\"#FFFFFF\" points=\"58,170,137,170,144,192.2969,160,192.2969,160,267,58,267,58,170\" style=\"stroke: #000000; stroke-width: 1.5;\"/><line style=\"stroke: #000000; stroke-width: 1.5;\" x1=\"58\" x2=\"144\" y1=\"192.2969\" y2=\"192.2969\"/><text fill=\"#000000\" font-family=\"sans-serif\" font-size=\"14\" font-weight=\"bold\" lengthAdjust=\"spacingAndGlyphs\" textLength=\"73\" x=\"62\" y=\"184.9951\">Definitions</text></a><!--MD5=[f6df4d0ebaf0b5dfb2ced0ae5af7c670]\n",
       "cluster E4--><a href=\"psysml:e57b5549-a047-42fa-b139-1a9999eaa505\" target=\"_top\" title=\"psysml:e57b5549-a047-42fa-b139-1a9999eaa505\" xlink:actuate=\"onRequest\" xlink:href=\"psysml:e57b5549-a047-42fa-b139-1a9999eaa505\" xlink:show=\"new\" xlink:title=\"psysml:e57b5549-a047-42fa-b139-1a9999eaa505\" xlink:type=\"simple\"><polygon fill=\"#FFFFFF\" points=\"40,49,98,49,105,71.2969,178,71.2969,178,146,40,146,40,49\" style=\"stroke: #000000; stroke-width: 1.5;\"/><line style=\"stroke: #000000; stroke-width: 1.5;\" x1=\"40\" x2=\"105\" y1=\"71.2969\" y2=\"71.2969\"/><text fill=\"#000000\" font-family=\"sans-serif\" font-size=\"14\" font-weight=\"bold\" lengthAdjust=\"spacingAndGlyphs\" textLength=\"52\" x=\"44\" y=\"63.9951\">Usages</text></a><!--MD5=[09b614a08d8cba4a07c9adeb5e0fee81]\n",
       "class E3--><a href=\"psysml:117f05b4-c909-44db-8047-1df426d26d27\" target=\"_top\" title=\"psysml:117f05b4-c909-44db-8047-1df426d26d27\" xlink:actuate=\"onRequest\" xlink:href=\"psysml:117f05b4-c909-44db-8047-1df426d26d27\" xlink:show=\"new\" xlink:title=\"psysml:117f05b4-c909-44db-8047-1df426d26d27\" xlink:type=\"simple\"><rect fill=\"#FFFFFF\" height=\"45.9375\" id=\"E3\" style=\"stroke: #383838; stroke-width: 1.5;\" width=\"70\" x=\"74\" y=\"205\"/><text fill=\"#000000\" font-family=\"sans-serif\" font-size=\"12\" font-style=\"italic\" lengthAdjust=\"spacingAndGlyphs\" textLength=\"68\" x=\"75\" y=\"221.1387\">«part  def»</text><text fill=\"#000000\" font-family=\"sans-serif\" font-size=\"12\" lengthAdjust=\"spacingAndGlyphs\" textLength=\"45\" x=\"86.5\" y=\"235.1074\">Vehicle</text><line style=\"stroke: #383838; stroke-width: 1.5;\" x1=\"75\" x2=\"143\" y1=\"242.9375\" y2=\"242.9375\"/></a><!--MD5=[270fce915f116d4de14055a7c1d9a0f3]\n",
       "class E5--><a href=\"psysml:e21f8a97-fb67-4292-9535-52151c9da93c\" target=\"_top\" title=\"psysml:e21f8a97-fb67-4292-9535-52151c9da93c\" xlink:actuate=\"onRequest\" xlink:href=\"psysml:e21f8a97-fb67-4292-9535-52151c9da93c\" xlink:show=\"new\" xlink:title=\"psysml:e21f8a97-fb67-4292-9535-52151c9da93c\" xlink:type=\"simple\"><rect fill=\"#FFFFFF\" height=\"45.9375\" id=\"E5\" rx=\"10\" ry=\"10\" style=\"stroke: #383838; stroke-width: 1.5;\" width=\"106\" x=\"56\" y=\"84\"/><text fill=\"#000000\" font-family=\"sans-serif\" font-size=\"12\" font-style=\"italic\" lengthAdjust=\"spacingAndGlyphs\" textLength=\"40\" x=\"89\" y=\"100.1387\">«part»</text><text fill=\"#000000\" font-family=\"sans-serif\" font-size=\"12\" lengthAdjust=\"spacingAndGlyphs\" textLength=\"96\" x=\"59\" y=\"114.1074\">vehicle: Vehicle</text><line style=\"stroke: #383838; stroke-width: 1.5;\" x1=\"57\" x2=\"161\" y1=\"121.9375\" y2=\"121.9375\"/></a><!--MD5=[e9be52314489bd878ff4c7144b63c9e1]\n",
       "link E5 to E3--><a href=\"psysml:763357b8-b5e0-4785-a470-e50d945081e3\" target=\"_top\" title=\"psysml:763357b8-b5e0-4785-a470-e50d945081e3\" xlink:actuate=\"onRequest\" xlink:href=\"psysml:763357b8-b5e0-4785-a470-e50d945081e3\" xlink:show=\"new\" xlink:title=\"psysml:763357b8-b5e0-4785-a470-e50d945081e3\" xlink:type=\"simple\"><path d=\"M109,130.1 C109,145.37 109,166.16 109,184.57 \" fill=\"none\" id=\"E5-&gt;E3\" style=\"stroke: #383838; stroke-width: 1.0;\"/><polygon fill=\"#FFFFFF\" points=\"109,204.61,102,185.61,116,185.61,109,204.61\" style=\"stroke: #383838; stroke-width: 1.0;\"/><ellipse cx=\"104\" cy=\"179.91\" fill=\"#383838\" rx=\"2\" ry=\"2\" style=\"stroke: #383838; stroke-width: 1.0;\"/><ellipse cx=\"114\" cy=\"179.91\" fill=\"#383838\" rx=\"2\" ry=\"2\" style=\"stroke: #383838; stroke-width: 1.0;\"/></a><!--MD5=[cceab9835fd83cff561554564fb413cf]\n",
       "@startuml\r\n",
       "skinparam linetype polyline\r\n",
       "skinparam monochrome true\r\n",
       "skinparam classbackgroundcolor white\r\n",
       "skinparam shadowing false\r\n",
       "skinparam wrapWidth 300\r\n",
       "hide circle\r\n",
       "\r\n",
       "package \"AliasImport\" as E1  [[psysml:144140e7-4c0e-44d8-912b-18808e1341b6 ]]  {\r\n",
       "package \"Definitions\" as E2  [[psysml:0089895f-bb5f-44ae-8440-3a6de4c690d2 ]]  {\r\n",
       "comp def \"Vehicle\" as E3  <<(T,blue) part  def>> [[psysml:117f05b4-c909-44db-8047-1df426d26d27 ]] {\r\n",
       "}\r\n",
       "}\r\n",
       "package \"Usages\" as E4  [[psysml:e57b5549-a047-42fa-b139-1a9999eaa505 ]]  {\r\n",
       "comp usage \"vehicle: Vehicle \" as E5  <<(T,blue) part>> [[psysml:e21f8a97-fb67-4292-9535-52151c9da93c ]] {\r\n",
       "}\r\n",
       "}\r\n",
       "}\r\n",
       "E5 - -:|> E3 [[psysml:763357b8-b5e0-4785-a470-e50d945081e3 ]] \r\n",
       "@enduml\r\n",
       "\n",
       "PlantUML version 1.2020.13(Sat Jun 13 12:26:38 UTC 2020)\n",
       "(EPL source distribution)\n",
       "Java Runtime: OpenJDK Runtime Environment\n",
       "JVM: OpenJDK 64-Bit Server VM\n",
       "Default Encoding: UTF-8\n",
       "Language: en\n",
       "Country: null\n",
       "--></g></svg>"
      ]
     },
     "execution_count": 15,
     "metadata": {},
     "output_type": "execute_result"
    }
   ],
   "source": [
    "%viz --style=\"POLYLINE\" --view=\"MIXED\" \"AliasImport\""
   ]
  },
  {
   "cell_type": "code",
   "execution_count": 16,
   "id": "35b6201a",
   "metadata": {
    "execution": {
     "iopub.execute_input": "2021-10-25T08:24:40.931439Z",
     "iopub.status.busy": "2021-10-25T08:24:40.931002Z",
     "iopub.status.idle": "2021-10-25T08:24:40.962915Z",
     "shell.execute_reply": "2021-10-25T08:24:40.962702Z"
    }
   },
   "outputs": [
    {
     "data": {
      "image/svg+xml": [
       "<?xml version=\"1.0\" encoding=\"UTF-8\" standalone=\"no\"?><svg xmlns=\"http://www.w3.org/2000/svg\" xmlns:xlink=\"http://www.w3.org/1999/xlink\" contentScriptType=\"application/ecmascript\" contentStyleType=\"text/css\" height=\"182px\" preserveAspectRatio=\"none\" style=\"width:354px;height:182px;\" version=\"1.1\" viewBox=\"0 0 354 182\" width=\"354px\" zoomAndPan=\"magnify\"><defs/><g><!--MD5=[fbc87193dbaf4d95561dea2c320d4a47]\n",
       "cluster E1--><a href=\"psysml:144140e7-4c0e-44d8-912b-18808e1341b6\" target=\"_top\" title=\"psysml:144140e7-4c0e-44d8-912b-18808e1341b6\" xlink:actuate=\"onRequest\" xlink:href=\"psysml:144140e7-4c0e-44d8-912b-18808e1341b6\" xlink:show=\"new\" xlink:title=\"psysml:144140e7-4c0e-44d8-912b-18808e1341b6\" xlink:type=\"simple\"><polygon fill=\"#FFFFFF\" points=\"16,6,97,6,104,28.2969,332,28.2969,332,170,16,170,16,6\" style=\"stroke: #000000; stroke-width: 1.5;\"/><line style=\"stroke: #000000; stroke-width: 1.5;\" x1=\"16\" x2=\"104\" y1=\"28.2969\" y2=\"28.2969\"/><text fill=\"#000000\" font-family=\"sans-serif\" font-size=\"14\" font-weight=\"bold\" lengthAdjust=\"spacingAndGlyphs\" textLength=\"75\" x=\"20\" y=\"20.9951\">AliasImport</text></a><!--MD5=[e4f7fae6ed58524ba242bb0b0d3be6b7]\n",
       "cluster E2--><a href=\"psysml:0089895f-bb5f-44ae-8440-3a6de4c690d2\" target=\"_top\" title=\"psysml:0089895f-bb5f-44ae-8440-3a6de4c690d2\" xlink:actuate=\"onRequest\" xlink:href=\"psysml:0089895f-bb5f-44ae-8440-3a6de4c690d2\" xlink:show=\"new\" xlink:title=\"psysml:0089895f-bb5f-44ae-8440-3a6de4c690d2\" xlink:type=\"simple\"><polygon fill=\"#FFFFFF\" points=\"206,49,285,49,292,71.2969,308,71.2969,308,146,206,146,206,49\" style=\"stroke: #000000; stroke-width: 1.5;\"/><line style=\"stroke: #000000; stroke-width: 1.5;\" x1=\"206\" x2=\"292\" y1=\"71.2969\" y2=\"71.2969\"/><text fill=\"#000000\" font-family=\"sans-serif\" font-size=\"14\" font-weight=\"bold\" lengthAdjust=\"spacingAndGlyphs\" textLength=\"73\" x=\"210\" y=\"63.9951\">Definitions</text></a><!--MD5=[f6df4d0ebaf0b5dfb2ced0ae5af7c670]\n",
       "cluster E4--><a href=\"psysml:e57b5549-a047-42fa-b139-1a9999eaa505\" target=\"_top\" title=\"psysml:e57b5549-a047-42fa-b139-1a9999eaa505\" xlink:actuate=\"onRequest\" xlink:href=\"psysml:e57b5549-a047-42fa-b139-1a9999eaa505\" xlink:show=\"new\" xlink:title=\"psysml:e57b5549-a047-42fa-b139-1a9999eaa505\" xlink:type=\"simple\"><polygon fill=\"#FFFFFF\" points=\"40,49,98,49,105,71.2969,178,71.2969,178,146,40,146,40,49\" style=\"stroke: #000000; stroke-width: 1.5;\"/><line style=\"stroke: #000000; stroke-width: 1.5;\" x1=\"40\" x2=\"105\" y1=\"71.2969\" y2=\"71.2969\"/><text fill=\"#000000\" font-family=\"sans-serif\" font-size=\"14\" font-weight=\"bold\" lengthAdjust=\"spacingAndGlyphs\" textLength=\"52\" x=\"44\" y=\"63.9951\">Usages</text></a><!--MD5=[09b614a08d8cba4a07c9adeb5e0fee81]\n",
       "class E3--><a href=\"psysml:117f05b4-c909-44db-8047-1df426d26d27\" target=\"_top\" title=\"psysml:117f05b4-c909-44db-8047-1df426d26d27\" xlink:actuate=\"onRequest\" xlink:href=\"psysml:117f05b4-c909-44db-8047-1df426d26d27\" xlink:show=\"new\" xlink:title=\"psysml:117f05b4-c909-44db-8047-1df426d26d27\" xlink:type=\"simple\"><rect fill=\"#FFFFFF\" height=\"45.9375\" id=\"E3\" style=\"stroke: #383838; stroke-width: 1.5;\" width=\"70\" x=\"222\" y=\"84\"/><text fill=\"#000000\" font-family=\"sans-serif\" font-size=\"12\" font-style=\"italic\" lengthAdjust=\"spacingAndGlyphs\" textLength=\"68\" x=\"223\" y=\"100.1387\">«part  def»</text><text fill=\"#000000\" font-family=\"sans-serif\" font-size=\"12\" lengthAdjust=\"spacingAndGlyphs\" textLength=\"45\" x=\"234.5\" y=\"114.1074\">Vehicle</text><line style=\"stroke: #383838; stroke-width: 1.5;\" x1=\"223\" x2=\"291\" y1=\"121.9375\" y2=\"121.9375\"/></a><!--MD5=[270fce915f116d4de14055a7c1d9a0f3]\n",
       "class E5--><a href=\"psysml:e21f8a97-fb67-4292-9535-52151c9da93c\" target=\"_top\" title=\"psysml:e21f8a97-fb67-4292-9535-52151c9da93c\" xlink:actuate=\"onRequest\" xlink:href=\"psysml:e21f8a97-fb67-4292-9535-52151c9da93c\" xlink:show=\"new\" xlink:title=\"psysml:e21f8a97-fb67-4292-9535-52151c9da93c\" xlink:type=\"simple\"><rect fill=\"#FFFFFF\" height=\"45.9375\" id=\"E5\" rx=\"10\" ry=\"10\" style=\"stroke: #383838; stroke-width: 1.5;\" width=\"106\" x=\"56\" y=\"84\"/><text fill=\"#000000\" font-family=\"sans-serif\" font-size=\"12\" font-style=\"italic\" lengthAdjust=\"spacingAndGlyphs\" textLength=\"40\" x=\"89\" y=\"100.1387\">«part»</text><text fill=\"#000000\" font-family=\"sans-serif\" font-size=\"12\" lengthAdjust=\"spacingAndGlyphs\" textLength=\"96\" x=\"59\" y=\"114.1074\">vehicle: Vehicle</text><line style=\"stroke: #383838; stroke-width: 1.5;\" x1=\"57\" x2=\"161\" y1=\"121.9375\" y2=\"121.9375\"/></a><!--MD5=[e9be52314489bd878ff4c7144b63c9e1]\n",
       "link E5 to E3--><a href=\"psysml:763357b8-b5e0-4785-a470-e50d945081e3\" target=\"_top\" title=\"psysml:763357b8-b5e0-4785-a470-e50d945081e3\" xlink:actuate=\"onRequest\" xlink:href=\"psysml:763357b8-b5e0-4785-a470-e50d945081e3\" xlink:show=\"new\" xlink:title=\"psysml:763357b8-b5e0-4785-a470-e50d945081e3\" xlink:type=\"simple\"><path d=\"M162.3,107 C174.98,107 188.58,107 201.37,107 \" fill=\"none\" id=\"E5-&gt;E3\" style=\"stroke: #383838; stroke-width: 1.0;\"/><polygon fill=\"#FFFFFF\" points=\"221.83,107,202.83,114,202.83,100,221.83,107\" style=\"stroke: #383838; stroke-width: 1.0;\"/><ellipse cx=\"197.13\" cy=\"112\" fill=\"#383838\" rx=\"2\" ry=\"2\" style=\"stroke: #383838; stroke-width: 1.0;\"/><ellipse cx=\"197.13\" cy=\"102\" fill=\"#383838\" rx=\"2\" ry=\"2\" style=\"stroke: #383838; stroke-width: 1.0;\"/></a><!--MD5=[5787020e3952c0276f1fb9bf5b4f7846]\n",
       "@startuml\r\n",
       "left to right direction\r\n",
       "skinparam monochrome true\r\n",
       "skinparam classbackgroundcolor white\r\n",
       "skinparam shadowing false\r\n",
       "skinparam wrapWidth 300\r\n",
       "hide circle\r\n",
       "\r\n",
       "package \"AliasImport\" as E1  [[psysml:144140e7-4c0e-44d8-912b-18808e1341b6 ]]  {\r\n",
       "package \"Definitions\" as E2  [[psysml:0089895f-bb5f-44ae-8440-3a6de4c690d2 ]]  {\r\n",
       "comp def \"Vehicle\" as E3  <<(T,blue) part  def>> [[psysml:117f05b4-c909-44db-8047-1df426d26d27 ]] {\r\n",
       "}\r\n",
       "}\r\n",
       "package \"Usages\" as E4  [[psysml:e57b5549-a047-42fa-b139-1a9999eaa505 ]]  {\r\n",
       "comp usage \"vehicle: Vehicle \" as E5  <<(T,blue) part>> [[psysml:e21f8a97-fb67-4292-9535-52151c9da93c ]] {\r\n",
       "}\r\n",
       "}\r\n",
       "}\r\n",
       "E5 - -:|> E3 [[psysml:763357b8-b5e0-4785-a470-e50d945081e3 ]] \r\n",
       "@enduml\r\n",
       "\n",
       "PlantUML version 1.2020.13(Sat Jun 13 12:26:38 UTC 2020)\n",
       "(EPL source distribution)\n",
       "Java Runtime: OpenJDK Runtime Environment\n",
       "JVM: OpenJDK 64-Bit Server VM\n",
       "Default Encoding: UTF-8\n",
       "Language: en\n",
       "Country: null\n",
       "--></g></svg>"
      ]
     },
     "execution_count": 16,
     "metadata": {},
     "output_type": "execute_result"
    }
   ],
   "source": [
    "%viz --style=\"LR\" --view=\"Default\" \"AliasImport\""
   ]
  },
  {
   "cell_type": "code",
   "execution_count": 17,
   "id": "83675ae3",
   "metadata": {
    "execution": {
     "iopub.execute_input": "2021-10-25T08:24:41.013094Z",
     "iopub.status.busy": "2021-10-25T08:24:41.012777Z",
     "iopub.status.idle": "2021-10-25T08:24:41.045450Z",
     "shell.execute_reply": "2021-10-25T08:24:41.043922Z"
    }
   },
   "outputs": [
    {
     "data": {
      "image/svg+xml": [
       "<?xml version=\"1.0\" encoding=\"UTF-8\" standalone=\"no\"?><svg xmlns=\"http://www.w3.org/2000/svg\" xmlns:xlink=\"http://www.w3.org/1999/xlink\" contentScriptType=\"application/ecmascript\" contentStyleType=\"text/css\" height=\"182px\" preserveAspectRatio=\"none\" style=\"width:354px;height:182px;\" version=\"1.1\" viewBox=\"0 0 354 182\" width=\"354px\" zoomAndPan=\"magnify\"><defs/><g><!--MD5=[fbc87193dbaf4d95561dea2c320d4a47]\n",
       "cluster E1--><a href=\"psysml:144140e7-4c0e-44d8-912b-18808e1341b6\" target=\"_top\" title=\"psysml:144140e7-4c0e-44d8-912b-18808e1341b6\" xlink:actuate=\"onRequest\" xlink:href=\"psysml:144140e7-4c0e-44d8-912b-18808e1341b6\" xlink:show=\"new\" xlink:title=\"psysml:144140e7-4c0e-44d8-912b-18808e1341b6\" xlink:type=\"simple\"><polygon fill=\"#FFFFFF\" points=\"16,6,97,6,104,28.2969,332,28.2969,332,170,16,170,16,6\" style=\"stroke: #000000; stroke-width: 1.5;\"/><line style=\"stroke: #000000; stroke-width: 1.5;\" x1=\"16\" x2=\"104\" y1=\"28.2969\" y2=\"28.2969\"/><text fill=\"#000000\" font-family=\"sans-serif\" font-size=\"14\" font-weight=\"bold\" lengthAdjust=\"spacingAndGlyphs\" textLength=\"75\" x=\"20\" y=\"20.9951\">AliasImport</text></a><!--MD5=[e4f7fae6ed58524ba242bb0b0d3be6b7]\n",
       "cluster E2--><a href=\"psysml:0089895f-bb5f-44ae-8440-3a6de4c690d2\" target=\"_top\" title=\"psysml:0089895f-bb5f-44ae-8440-3a6de4c690d2\" xlink:actuate=\"onRequest\" xlink:href=\"psysml:0089895f-bb5f-44ae-8440-3a6de4c690d2\" xlink:show=\"new\" xlink:title=\"psysml:0089895f-bb5f-44ae-8440-3a6de4c690d2\" xlink:type=\"simple\"><polygon fill=\"#FFFFFF\" points=\"206,49,285,49,292,71.2969,308,71.2969,308,146,206,146,206,49\" style=\"stroke: #000000; stroke-width: 1.5;\"/><line style=\"stroke: #000000; stroke-width: 1.5;\" x1=\"206\" x2=\"292\" y1=\"71.2969\" y2=\"71.2969\"/><text fill=\"#000000\" font-family=\"sans-serif\" font-size=\"14\" font-weight=\"bold\" lengthAdjust=\"spacingAndGlyphs\" textLength=\"73\" x=\"210\" y=\"63.9951\">Definitions</text></a><!--MD5=[f6df4d0ebaf0b5dfb2ced0ae5af7c670]\n",
       "cluster E4--><a href=\"psysml:e57b5549-a047-42fa-b139-1a9999eaa505\" target=\"_top\" title=\"psysml:e57b5549-a047-42fa-b139-1a9999eaa505\" xlink:actuate=\"onRequest\" xlink:href=\"psysml:e57b5549-a047-42fa-b139-1a9999eaa505\" xlink:show=\"new\" xlink:title=\"psysml:e57b5549-a047-42fa-b139-1a9999eaa505\" xlink:type=\"simple\"><polygon fill=\"#FFFFFF\" points=\"40,49,98,49,105,71.2969,178,71.2969,178,146,40,146,40,49\" style=\"stroke: #000000; stroke-width: 1.5;\"/><line style=\"stroke: #000000; stroke-width: 1.5;\" x1=\"40\" x2=\"105\" y1=\"71.2969\" y2=\"71.2969\"/><text fill=\"#000000\" font-family=\"sans-serif\" font-size=\"14\" font-weight=\"bold\" lengthAdjust=\"spacingAndGlyphs\" textLength=\"52\" x=\"44\" y=\"63.9951\">Usages</text></a><!--MD5=[09b614a08d8cba4a07c9adeb5e0fee81]\n",
       "class E3--><a href=\"psysml:117f05b4-c909-44db-8047-1df426d26d27\" target=\"_top\" title=\"psysml:117f05b4-c909-44db-8047-1df426d26d27\" xlink:actuate=\"onRequest\" xlink:href=\"psysml:117f05b4-c909-44db-8047-1df426d26d27\" xlink:show=\"new\" xlink:title=\"psysml:117f05b4-c909-44db-8047-1df426d26d27\" xlink:type=\"simple\"><rect fill=\"#FFFFFF\" height=\"45.9375\" id=\"E3\" style=\"stroke: #383838; stroke-width: 1.5;\" width=\"70\" x=\"222\" y=\"84\"/><text fill=\"#000000\" font-family=\"sans-serif\" font-size=\"12\" font-style=\"italic\" lengthAdjust=\"spacingAndGlyphs\" textLength=\"68\" x=\"223\" y=\"100.1387\">«part  def»</text><text fill=\"#000000\" font-family=\"sans-serif\" font-size=\"12\" lengthAdjust=\"spacingAndGlyphs\" textLength=\"45\" x=\"234.5\" y=\"114.1074\">Vehicle</text><line style=\"stroke: #383838; stroke-width: 1.5;\" x1=\"223\" x2=\"291\" y1=\"121.9375\" y2=\"121.9375\"/></a><!--MD5=[270fce915f116d4de14055a7c1d9a0f3]\n",
       "class E5--><a href=\"psysml:e21f8a97-fb67-4292-9535-52151c9da93c\" target=\"_top\" title=\"psysml:e21f8a97-fb67-4292-9535-52151c9da93c\" xlink:actuate=\"onRequest\" xlink:href=\"psysml:e21f8a97-fb67-4292-9535-52151c9da93c\" xlink:show=\"new\" xlink:title=\"psysml:e21f8a97-fb67-4292-9535-52151c9da93c\" xlink:type=\"simple\"><rect fill=\"#FFFFFF\" height=\"45.9375\" id=\"E5\" rx=\"10\" ry=\"10\" style=\"stroke: #383838; stroke-width: 1.5;\" width=\"106\" x=\"56\" y=\"84\"/><text fill=\"#000000\" font-family=\"sans-serif\" font-size=\"12\" font-style=\"italic\" lengthAdjust=\"spacingAndGlyphs\" textLength=\"40\" x=\"89\" y=\"100.1387\">«part»</text><text fill=\"#000000\" font-family=\"sans-serif\" font-size=\"12\" lengthAdjust=\"spacingAndGlyphs\" textLength=\"96\" x=\"59\" y=\"114.1074\">vehicle: Vehicle</text><line style=\"stroke: #383838; stroke-width: 1.5;\" x1=\"57\" x2=\"161\" y1=\"121.9375\" y2=\"121.9375\"/></a><!--MD5=[e9be52314489bd878ff4c7144b63c9e1]\n",
       "link E5 to E3--><a href=\"psysml:763357b8-b5e0-4785-a470-e50d945081e3\" target=\"_top\" title=\"psysml:763357b8-b5e0-4785-a470-e50d945081e3\" xlink:actuate=\"onRequest\" xlink:href=\"psysml:763357b8-b5e0-4785-a470-e50d945081e3\" xlink:show=\"new\" xlink:title=\"psysml:763357b8-b5e0-4785-a470-e50d945081e3\" xlink:type=\"simple\"><path d=\"M162.3,107 C174.98,107 188.58,107 201.37,107 \" fill=\"none\" id=\"E5-&gt;E3\" style=\"stroke: #383838; stroke-width: 1.0;\"/><polygon fill=\"#FFFFFF\" points=\"221.83,107,202.83,114,202.83,100,221.83,107\" style=\"stroke: #383838; stroke-width: 1.0;\"/><ellipse cx=\"197.13\" cy=\"112\" fill=\"#383838\" rx=\"2\" ry=\"2\" style=\"stroke: #383838; stroke-width: 1.0;\"/><ellipse cx=\"197.13\" cy=\"102\" fill=\"#383838\" rx=\"2\" ry=\"2\" style=\"stroke: #383838; stroke-width: 1.0;\"/></a><!--MD5=[5787020e3952c0276f1fb9bf5b4f7846]\n",
       "@startuml\r\n",
       "left to right direction\r\n",
       "skinparam monochrome true\r\n",
       "skinparam classbackgroundcolor white\r\n",
       "skinparam shadowing false\r\n",
       "skinparam wrapWidth 300\r\n",
       "hide circle\r\n",
       "\r\n",
       "package \"AliasImport\" as E1  [[psysml:144140e7-4c0e-44d8-912b-18808e1341b6 ]]  {\r\n",
       "package \"Definitions\" as E2  [[psysml:0089895f-bb5f-44ae-8440-3a6de4c690d2 ]]  {\r\n",
       "comp def \"Vehicle\" as E3  <<(T,blue) part  def>> [[psysml:117f05b4-c909-44db-8047-1df426d26d27 ]] {\r\n",
       "}\r\n",
       "}\r\n",
       "package \"Usages\" as E4  [[psysml:e57b5549-a047-42fa-b139-1a9999eaa505 ]]  {\r\n",
       "comp usage \"vehicle: Vehicle \" as E5  <<(T,blue) part>> [[psysml:e21f8a97-fb67-4292-9535-52151c9da93c ]] {\r\n",
       "}\r\n",
       "}\r\n",
       "}\r\n",
       "E5 - -:|> E3 [[psysml:763357b8-b5e0-4785-a470-e50d945081e3 ]] \r\n",
       "@enduml\r\n",
       "\n",
       "PlantUML version 1.2020.13(Sat Jun 13 12:26:38 UTC 2020)\n",
       "(EPL source distribution)\n",
       "Java Runtime: OpenJDK Runtime Environment\n",
       "JVM: OpenJDK 64-Bit Server VM\n",
       "Default Encoding: UTF-8\n",
       "Language: en\n",
       "Country: null\n",
       "--></g></svg>"
      ]
     },
     "execution_count": 17,
     "metadata": {},
     "output_type": "execute_result"
    }
   ],
   "source": [
    "%viz --style=\"LR\" --view=\"Tree\" \"AliasImport\""
   ]
  },
  {
   "cell_type": "code",
   "execution_count": 18,
   "id": "0a60755c",
   "metadata": {
    "execution": {
     "iopub.execute_input": "2021-10-25T08:24:41.095230Z",
     "iopub.status.busy": "2021-10-25T08:24:41.094874Z",
     "iopub.status.idle": "2021-10-25T08:24:41.100536Z",
     "shell.execute_reply": "2021-10-25T08:24:41.100794Z"
    }
   },
   "outputs": [
    {
     "data": {
      "image/svg+xml": [
       "<?xml version=\"1.0\" encoding=\"UTF-8\" standalone=\"no\"?><svg xmlns=\"http://www.w3.org/2000/svg\" xmlns:xlink=\"http://www.w3.org/1999/xlink\" contentScriptType=\"application/ecmascript\" contentStyleType=\"text/css\" height=\"12px\" preserveAspectRatio=\"none\" style=\"width:12px;height:12px;\" version=\"1.1\" viewBox=\"0 0 12 12\" width=\"12px\" zoomAndPan=\"magnify\"><defs/><g><!--MD5=[19d285c9d72a204eba4e2cd117d745e8]\n",
       "@startuml\r\n",
       "left to right direction\r\n",
       "skinparam monochrome true\r\n",
       "skinparam classbackgroundcolor white\r\n",
       "skinparam shadowing false\r\n",
       "skinparam wrapWidth 300\r\n",
       "hide circle\r\n",
       "\r\n",
       "@enduml\r\n",
       "\n",
       "PlantUML version 1.2020.13(Sat Jun 13 12:26:38 UTC 2020)\n",
       "(EPL source distribution)\n",
       "Java Runtime: OpenJDK Runtime Environment\n",
       "JVM: OpenJDK 64-Bit Server VM\n",
       "Default Encoding: UTF-8\n",
       "Language: en\n",
       "Country: null\n",
       "--></g></svg>"
      ]
     },
     "execution_count": 18,
     "metadata": {},
     "output_type": "execute_result"
    }
   ],
   "source": [
    "%viz --style=\"LR\" --view=\"State\" \"AliasImport\""
   ]
  },
  {
   "cell_type": "code",
   "execution_count": 19,
   "id": "8fe8dcd0",
   "metadata": {
    "execution": {
     "iopub.execute_input": "2021-10-25T08:24:41.150339Z",
     "iopub.status.busy": "2021-10-25T08:24:41.150102Z",
     "iopub.status.idle": "2021-10-25T08:24:41.183746Z",
     "shell.execute_reply": "2021-10-25T08:24:41.181302Z"
    }
   },
   "outputs": [
    {
     "data": {
      "image/svg+xml": [
       "<?xml version=\"1.0\" encoding=\"UTF-8\" standalone=\"no\"?><svg xmlns=\"http://www.w3.org/2000/svg\" xmlns:xlink=\"http://www.w3.org/1999/xlink\" contentScriptType=\"application/ecmascript\" contentStyleType=\"text/css\" height=\"373px\" preserveAspectRatio=\"none\" style=\"width:225px;height:373px;\" version=\"1.1\" viewBox=\"0 0 225 373\" width=\"225px\" zoomAndPan=\"magnify\"><defs/><g><!--MD5=[fbc87193dbaf4d95561dea2c320d4a47]\n",
       "cluster E1--><a href=\"psysml:144140e7-4c0e-44d8-912b-18808e1341b6\" target=\"_top\" title=\"psysml:144140e7-4c0e-44d8-912b-18808e1341b6\" xlink:actuate=\"onRequest\" xlink:href=\"psysml:144140e7-4c0e-44d8-912b-18808e1341b6\" xlink:show=\"new\" xlink:title=\"psysml:144140e7-4c0e-44d8-912b-18808e1341b6\" xlink:type=\"simple\"><polygon fill=\"#FFFFFF\" points=\"16,6,97,6,104,28.2969,203,28.2969,203,361,16,361,16,6\" style=\"stroke: #000000; stroke-width: 1.5;\"/><line style=\"stroke: #000000; stroke-width: 1.5;\" x1=\"16\" x2=\"104\" y1=\"28.2969\" y2=\"28.2969\"/><text fill=\"#000000\" font-family=\"sans-serif\" font-size=\"14\" font-weight=\"bold\" lengthAdjust=\"spacingAndGlyphs\" textLength=\"75\" x=\"20\" y=\"20.9951\">AliasImport</text></a><!--MD5=[e4f7fae6ed58524ba242bb0b0d3be6b7]\n",
       "cluster E2--><a href=\"psysml:0089895f-bb5f-44ae-8440-3a6de4c690d2\" target=\"_top\" title=\"psysml:0089895f-bb5f-44ae-8440-3a6de4c690d2\" xlink:actuate=\"onRequest\" xlink:href=\"psysml:0089895f-bb5f-44ae-8440-3a6de4c690d2\" xlink:show=\"new\" xlink:title=\"psysml:0089895f-bb5f-44ae-8440-3a6de4c690d2\" xlink:type=\"simple\"><polygon fill=\"#FFFFFF\" points=\"56,49,135,49,142,71.2969,163,71.2969,163,222,56,222,56,49\" style=\"stroke: #000000; stroke-width: 1.5;\"/><line style=\"stroke: #000000; stroke-width: 1.5;\" x1=\"56\" x2=\"142\" y1=\"71.2969\" y2=\"71.2969\"/><text fill=\"#000000\" font-family=\"sans-serif\" font-size=\"14\" font-weight=\"bold\" lengthAdjust=\"spacingAndGlyphs\" textLength=\"73\" x=\"60\" y=\"63.9951\">Definitions</text></a><!--MD5=[de5ec2e2e8f62f467e546659f5068c88]\n",
       "cluster E5--><a href=\"psysml:e57b5549-a047-42fa-b139-1a9999eaa505\" target=\"_top\" title=\"psysml:e57b5549-a047-42fa-b139-1a9999eaa505\" xlink:actuate=\"onRequest\" xlink:href=\"psysml:e57b5549-a047-42fa-b139-1a9999eaa505\" xlink:show=\"new\" xlink:title=\"psysml:e57b5549-a047-42fa-b139-1a9999eaa505\" xlink:type=\"simple\"><polygon fill=\"#FFFFFF\" points=\"40,246,98,246,105,268.2969,179,268.2969,179,337,40,337,40,246\" style=\"stroke: #000000; stroke-width: 1.5;\"/><line style=\"stroke: #000000; stroke-width: 1.5;\" x1=\"40\" x2=\"105\" y1=\"268.2969\" y2=\"268.2969\"/><text fill=\"#000000\" font-family=\"sans-serif\" font-size=\"14\" font-weight=\"bold\" lengthAdjust=\"spacingAndGlyphs\" textLength=\"52\" x=\"44\" y=\"260.9951\">Usages</text></a><g id=\"E1.E2.E3\"><a href=\"psysml:117f05b4-c909-44db-8047-1df426d26d27\" target=\"_top\" title=\"psysml:117f05b4-c909-44db-8047-1df426d26d27\" xlink:actuate=\"onRequest\" xlink:href=\"psysml:117f05b4-c909-44db-8047-1df426d26d27\" xlink:show=\"new\" xlink:title=\"psysml:117f05b4-c909-44db-8047-1df426d26d27\" xlink:type=\"simple\"><rect fill=\"#FFFFFF\" height=\"42.9375\" id=\"E3\" style=\"stroke: #383838; stroke-width: 1.5;\" width=\"75\" x=\"72\" y=\"84.5\"/><rect fill=\"#F8F8F8\" height=\"37.9375\" style=\"stroke: #383838; stroke-width: 1.5;\" width=\"75\" x=\"72\" y=\"84.5\"/><text fill=\"#000000\" font-family=\"sans-serif\" font-size=\"12\" font-style=\"italic\" lengthAdjust=\"spacingAndGlyphs\" textLength=\"68\" x=\"75.5\" y=\"100.6387\">«part  def»</text><text fill=\"#000000\" font-family=\"sans-serif\" font-size=\"12\" lengthAdjust=\"spacingAndGlyphs\" textLength=\"45\" x=\"87\" y=\"114.6074\">Vehicle</text></a></g><g id=\"E1.E2.E4\"><a href=\"psysml:117f05b4-c909-44db-8047-1df426d26d27\" target=\"_top\" title=\"psysml:117f05b4-c909-44db-8047-1df426d26d27\" xlink:actuate=\"onRequest\" xlink:href=\"psysml:117f05b4-c909-44db-8047-1df426d26d27\" xlink:show=\"new\" xlink:title=\"psysml:117f05b4-c909-44db-8047-1df426d26d27\" xlink:type=\"simple\"><rect fill=\"#FFFFFF\" height=\"42.9375\" id=\"E4\" style=\"stroke: #383838; stroke-width: 1.5;\" width=\"75\" x=\"72\" y=\"162.5\"/><rect fill=\"#F8F8F8\" height=\"37.9375\" style=\"stroke: #383838; stroke-width: 1.5;\" width=\"75\" x=\"72\" y=\"162.5\"/><text fill=\"#000000\" font-family=\"sans-serif\" font-size=\"12\" font-style=\"italic\" lengthAdjust=\"spacingAndGlyphs\" textLength=\"68\" x=\"75.5\" y=\"178.6387\">«part  def»</text><text fill=\"#000000\" font-family=\"sans-serif\" font-size=\"12\" lengthAdjust=\"spacingAndGlyphs\" textLength=\"45\" x=\"87\" y=\"192.6074\">Vehicle</text></a></g><g id=\"E1.E5.E6\"><a href=\"psysml:e21f8a97-fb67-4292-9535-52151c9da93c\" target=\"_top\" title=\"psysml:e21f8a97-fb67-4292-9535-52151c9da93c\" xlink:actuate=\"onRequest\" xlink:href=\"psysml:e21f8a97-fb67-4292-9535-52151c9da93c\" xlink:show=\"new\" xlink:title=\"psysml:e21f8a97-fb67-4292-9535-52151c9da93c\" xlink:type=\"simple\"><rect fill=\"#FFFFFF\" height=\"40\" id=\"E6\" rx=\"10\" ry=\"10\" style=\"stroke: #383838; stroke-width: 1.5;\" width=\"107\" x=\"56\" y=\"281\"/><rect fill=\"#F8F8F8\" height=\"23.9688\" rx=\"10\" ry=\"10\" style=\"stroke: #F8F8F8; stroke-width: 1.5;\" width=\"107\" x=\"56\" y=\"281\"/><rect fill=\"#F8F8F8\" height=\"10\" style=\"stroke: #F8F8F8; stroke-width: 1.5;\" width=\"107\" x=\"56\" y=\"294.9688\"/><rect fill=\"none\" height=\"40\" id=\"E6\" rx=\"10\" ry=\"10\" style=\"stroke: #383838; stroke-width: 1.5;\" width=\"107\" x=\"56\" y=\"281\"/><text fill=\"#000000\" font-family=\"sans-serif\" font-size=\"12\" lengthAdjust=\"spacingAndGlyphs\" textLength=\"96\" x=\"61.5\" y=\"297.1387\">vehicle: Vehicle</text></a></g><!--MD5=[3525462a251418196f5230fd44fa8a84]\n",
       "@startuml\r\n",
       "skinparam ranksep 10\r\n",
       "skinparam rectangle {\r\n",
       " backgroundColor<<block>> LightGreen\r\n",
       "}\r\n",
       "left to right direction\r\n",
       "skinparam monochrome true\r\n",
       "skinparam classbackgroundcolor white\r\n",
       "skinparam shadowing false\r\n",
       "skinparam wrapWidth 300\r\n",
       "hide circle\r\n",
       "\r\n",
       "package \"AliasImport\" as E1  [[psysml:144140e7-4c0e-44d8-912b-18808e1341b6 ]]  {\r\n",
       "package \"Definitions\" as E2  [[psysml:0089895f-bb5f-44ae-8440-3a6de4c690d2 ]]  {\r\n",
       "rec def \"Vehicle\" as E3  <<(T,blue) part  def>> [[psysml:117f05b4-c909-44db-8047-1df426d26d27 ]] {\r\n",
       "}\r\n",
       "rec def \"Vehicle\" as E4  <<(T,blue) part  def>> [[psysml:117f05b4-c909-44db-8047-1df426d26d27 ]] {\r\n",
       "}\r\n",
       "}\r\n",
       "package \"Usages\" as E5  [[psysml:e57b5549-a047-42fa-b139-1a9999eaa505 ]]  {\r\n",
       "rec usage \"vehicle: Vehicle\" as E6  [[psysml:e21f8a97-fb67-4292-9535-52151c9da93c ]] {\r\n",
       "}\r\n",
       "}\r\n",
       "}\r\n",
       "@enduml\r\n",
       "\n",
       "PlantUML version 1.2020.13(Sat Jun 13 12:26:38 UTC 2020)\n",
       "(EPL source distribution)\n",
       "Java Runtime: OpenJDK Runtime Environment\n",
       "JVM: OpenJDK 64-Bit Server VM\n",
       "Default Encoding: UTF-8\n",
       "Language: en\n",
       "Country: null\n",
       "--></g></svg>"
      ]
     },
     "execution_count": 19,
     "metadata": {},
     "output_type": "execute_result"
    }
   ],
   "source": [
    "%viz --style=\"LR\" --view=\"Interconnection\" \"AliasImport\""
   ]
  },
  {
   "cell_type": "code",
   "execution_count": 20,
   "id": "42cd628d",
   "metadata": {
    "execution": {
     "iopub.execute_input": "2021-10-25T08:24:41.232251Z",
     "iopub.status.busy": "2021-10-25T08:24:41.231918Z",
     "iopub.status.idle": "2021-10-25T08:24:41.236594Z",
     "shell.execute_reply": "2021-10-25T08:24:41.236825Z"
    }
   },
   "outputs": [
    {
     "data": {
      "image/svg+xml": [
       "<?xml version=\"1.0\" encoding=\"UTF-8\" standalone=\"no\"?><svg xmlns=\"http://www.w3.org/2000/svg\" xmlns:xlink=\"http://www.w3.org/1999/xlink\" contentScriptType=\"application/ecmascript\" contentStyleType=\"text/css\" height=\"12px\" preserveAspectRatio=\"none\" style=\"width:12px;height:12px;\" version=\"1.1\" viewBox=\"0 0 12 12\" width=\"12px\" zoomAndPan=\"magnify\"><defs/><g><!--MD5=[7aeb398939421629f6affaa4a1a7b125]\n",
       "@startuml\r\n",
       "skinparam ranksep 8\r\n",
       "left to right direction\r\n",
       "skinparam monochrome true\r\n",
       "skinparam classbackgroundcolor white\r\n",
       "skinparam shadowing false\r\n",
       "skinparam wrapWidth 300\r\n",
       "hide circle\r\n",
       "\r\n",
       "@enduml\r\n",
       "\n",
       "PlantUML version 1.2020.13(Sat Jun 13 12:26:38 UTC 2020)\n",
       "(EPL source distribution)\n",
       "Java Runtime: OpenJDK Runtime Environment\n",
       "JVM: OpenJDK 64-Bit Server VM\n",
       "Default Encoding: UTF-8\n",
       "Language: en\n",
       "Country: null\n",
       "--></g></svg>"
      ]
     },
     "execution_count": 20,
     "metadata": {},
     "output_type": "execute_result"
    }
   ],
   "source": [
    "%viz --style=\"LR\" --view=\"Action\" \"AliasImport\""
   ]
  },
  {
   "cell_type": "code",
   "execution_count": 21,
   "id": "eab6e253",
   "metadata": {
    "execution": {
     "iopub.execute_input": "2021-10-25T08:24:41.287009Z",
     "iopub.status.busy": "2021-10-25T08:24:41.286693Z",
     "iopub.status.idle": "2021-10-25T08:24:41.292098Z",
     "shell.execute_reply": "2021-10-25T08:24:41.291856Z"
    }
   },
   "outputs": [
    {
     "data": {
      "image/svg+xml": [
       "<?xml version=\"1.0\" encoding=\"UTF-8\" standalone=\"no\"?><svg xmlns=\"http://www.w3.org/2000/svg\" xmlns:xlink=\"http://www.w3.org/1999/xlink\" contentScriptType=\"application/ecmascript\" contentStyleType=\"text/css\" height=\"12px\" preserveAspectRatio=\"none\" style=\"width:12px;height:12px;\" version=\"1.1\" viewBox=\"0 0 12 12\" width=\"12px\" zoomAndPan=\"magnify\"><defs/><g><!--MD5=[238c11ea2002f03115ad6b49a457d50e]\n",
       "@startuml\r\n",
       "skinparam roundcorner 20\r\n",
       "skinparam BoxPadding 20\r\n",
       "skinparam SequenceBoxBackgroundColor #white\r\n",
       "skinparam style strictuml\r\n",
       "skinparam maxMessageSize 100\r\n",
       "left to right direction\r\n",
       "skinparam monochrome true\r\n",
       "skinparam classbackgroundcolor white\r\n",
       "skinparam shadowing false\r\n",
       "skinparam wrapWidth 300\r\n",
       "hide circle\r\n",
       "\r\n",
       "@enduml\r\n",
       "\n",
       "PlantUML version 1.2020.13(Sat Jun 13 12:26:38 UTC 2020)\n",
       "(EPL source distribution)\n",
       "Java Runtime: OpenJDK Runtime Environment\n",
       "JVM: OpenJDK 64-Bit Server VM\n",
       "Default Encoding: UTF-8\n",
       "Language: en\n",
       "Country: null\n",
       "--></g></svg>"
      ]
     },
     "execution_count": 21,
     "metadata": {},
     "output_type": "execute_result"
    }
   ],
   "source": [
    "%viz --style=\"LR\" --view=\"Sequence\" \"AliasImport\""
   ]
  },
  {
   "cell_type": "code",
   "execution_count": 22,
   "id": "f099abd9",
   "metadata": {
    "execution": {
     "iopub.execute_input": "2021-10-25T08:24:41.342159Z",
     "iopub.status.busy": "2021-10-25T08:24:41.341886Z",
     "iopub.status.idle": "2021-10-25T08:24:41.372541Z",
     "shell.execute_reply": "2021-10-25T08:24:41.371539Z"
    }
   },
   "outputs": [
    {
     "data": {
      "image/svg+xml": [
       "<?xml version=\"1.0\" encoding=\"UTF-8\" standalone=\"no\"?><svg xmlns=\"http://www.w3.org/2000/svg\" xmlns:xlink=\"http://www.w3.org/1999/xlink\" contentScriptType=\"application/ecmascript\" contentStyleType=\"text/css\" height=\"182px\" preserveAspectRatio=\"none\" style=\"width:354px;height:182px;\" version=\"1.1\" viewBox=\"0 0 354 182\" width=\"354px\" zoomAndPan=\"magnify\"><defs/><g><!--MD5=[fbc87193dbaf4d95561dea2c320d4a47]\n",
       "cluster E1--><a href=\"psysml:144140e7-4c0e-44d8-912b-18808e1341b6\" target=\"_top\" title=\"psysml:144140e7-4c0e-44d8-912b-18808e1341b6\" xlink:actuate=\"onRequest\" xlink:href=\"psysml:144140e7-4c0e-44d8-912b-18808e1341b6\" xlink:show=\"new\" xlink:title=\"psysml:144140e7-4c0e-44d8-912b-18808e1341b6\" xlink:type=\"simple\"><polygon fill=\"#FFFFFF\" points=\"16,6,97,6,104,28.2969,332,28.2969,332,170,16,170,16,6\" style=\"stroke: #000000; stroke-width: 1.5;\"/><line style=\"stroke: #000000; stroke-width: 1.5;\" x1=\"16\" x2=\"104\" y1=\"28.2969\" y2=\"28.2969\"/><text fill=\"#000000\" font-family=\"sans-serif\" font-size=\"14\" font-weight=\"bold\" lengthAdjust=\"spacingAndGlyphs\" textLength=\"75\" x=\"20\" y=\"20.9951\">AliasImport</text></a><!--MD5=[e4f7fae6ed58524ba242bb0b0d3be6b7]\n",
       "cluster E2--><a href=\"psysml:0089895f-bb5f-44ae-8440-3a6de4c690d2\" target=\"_top\" title=\"psysml:0089895f-bb5f-44ae-8440-3a6de4c690d2\" xlink:actuate=\"onRequest\" xlink:href=\"psysml:0089895f-bb5f-44ae-8440-3a6de4c690d2\" xlink:show=\"new\" xlink:title=\"psysml:0089895f-bb5f-44ae-8440-3a6de4c690d2\" xlink:type=\"simple\"><polygon fill=\"#FFFFFF\" points=\"206,49,285,49,292,71.2969,308,71.2969,308,146,206,146,206,49\" style=\"stroke: #000000; stroke-width: 1.5;\"/><line style=\"stroke: #000000; stroke-width: 1.5;\" x1=\"206\" x2=\"292\" y1=\"71.2969\" y2=\"71.2969\"/><text fill=\"#000000\" font-family=\"sans-serif\" font-size=\"14\" font-weight=\"bold\" lengthAdjust=\"spacingAndGlyphs\" textLength=\"73\" x=\"210\" y=\"63.9951\">Definitions</text></a><!--MD5=[f6df4d0ebaf0b5dfb2ced0ae5af7c670]\n",
       "cluster E4--><a href=\"psysml:e57b5549-a047-42fa-b139-1a9999eaa505\" target=\"_top\" title=\"psysml:e57b5549-a047-42fa-b139-1a9999eaa505\" xlink:actuate=\"onRequest\" xlink:href=\"psysml:e57b5549-a047-42fa-b139-1a9999eaa505\" xlink:show=\"new\" xlink:title=\"psysml:e57b5549-a047-42fa-b139-1a9999eaa505\" xlink:type=\"simple\"><polygon fill=\"#FFFFFF\" points=\"40,49,98,49,105,71.2969,178,71.2969,178,146,40,146,40,49\" style=\"stroke: #000000; stroke-width: 1.5;\"/><line style=\"stroke: #000000; stroke-width: 1.5;\" x1=\"40\" x2=\"105\" y1=\"71.2969\" y2=\"71.2969\"/><text fill=\"#000000\" font-family=\"sans-serif\" font-size=\"14\" font-weight=\"bold\" lengthAdjust=\"spacingAndGlyphs\" textLength=\"52\" x=\"44\" y=\"63.9951\">Usages</text></a><!--MD5=[09b614a08d8cba4a07c9adeb5e0fee81]\n",
       "class E3--><a href=\"psysml:117f05b4-c909-44db-8047-1df426d26d27\" target=\"_top\" title=\"psysml:117f05b4-c909-44db-8047-1df426d26d27\" xlink:actuate=\"onRequest\" xlink:href=\"psysml:117f05b4-c909-44db-8047-1df426d26d27\" xlink:show=\"new\" xlink:title=\"psysml:117f05b4-c909-44db-8047-1df426d26d27\" xlink:type=\"simple\"><rect fill=\"#FFFFFF\" height=\"45.9375\" id=\"E3\" style=\"stroke: #383838; stroke-width: 1.5;\" width=\"70\" x=\"222\" y=\"84\"/><text fill=\"#000000\" font-family=\"sans-serif\" font-size=\"12\" font-style=\"italic\" lengthAdjust=\"spacingAndGlyphs\" textLength=\"68\" x=\"223\" y=\"100.1387\">«part  def»</text><text fill=\"#000000\" font-family=\"sans-serif\" font-size=\"12\" lengthAdjust=\"spacingAndGlyphs\" textLength=\"45\" x=\"234.5\" y=\"114.1074\">Vehicle</text><line style=\"stroke: #383838; stroke-width: 1.5;\" x1=\"223\" x2=\"291\" y1=\"121.9375\" y2=\"121.9375\"/></a><!--MD5=[270fce915f116d4de14055a7c1d9a0f3]\n",
       "class E5--><a href=\"psysml:e21f8a97-fb67-4292-9535-52151c9da93c\" target=\"_top\" title=\"psysml:e21f8a97-fb67-4292-9535-52151c9da93c\" xlink:actuate=\"onRequest\" xlink:href=\"psysml:e21f8a97-fb67-4292-9535-52151c9da93c\" xlink:show=\"new\" xlink:title=\"psysml:e21f8a97-fb67-4292-9535-52151c9da93c\" xlink:type=\"simple\"><rect fill=\"#FFFFFF\" height=\"45.9375\" id=\"E5\" rx=\"10\" ry=\"10\" style=\"stroke: #383838; stroke-width: 1.5;\" width=\"106\" x=\"56\" y=\"84\"/><text fill=\"#000000\" font-family=\"sans-serif\" font-size=\"12\" font-style=\"italic\" lengthAdjust=\"spacingAndGlyphs\" textLength=\"40\" x=\"89\" y=\"100.1387\">«part»</text><text fill=\"#000000\" font-family=\"sans-serif\" font-size=\"12\" lengthAdjust=\"spacingAndGlyphs\" textLength=\"96\" x=\"59\" y=\"114.1074\">vehicle: Vehicle</text><line style=\"stroke: #383838; stroke-width: 1.5;\" x1=\"57\" x2=\"161\" y1=\"121.9375\" y2=\"121.9375\"/></a><!--MD5=[e9be52314489bd878ff4c7144b63c9e1]\n",
       "link E5 to E3--><a href=\"psysml:763357b8-b5e0-4785-a470-e50d945081e3\" target=\"_top\" title=\"psysml:763357b8-b5e0-4785-a470-e50d945081e3\" xlink:actuate=\"onRequest\" xlink:href=\"psysml:763357b8-b5e0-4785-a470-e50d945081e3\" xlink:show=\"new\" xlink:title=\"psysml:763357b8-b5e0-4785-a470-e50d945081e3\" xlink:type=\"simple\"><path d=\"M162.3,107 C174.98,107 188.58,107 201.37,107 \" fill=\"none\" id=\"E5-&gt;E3\" style=\"stroke: #383838; stroke-width: 1.0;\"/><polygon fill=\"#FFFFFF\" points=\"221.83,107,202.83,114,202.83,100,221.83,107\" style=\"stroke: #383838; stroke-width: 1.0;\"/><ellipse cx=\"197.13\" cy=\"112\" fill=\"#383838\" rx=\"2\" ry=\"2\" style=\"stroke: #383838; stroke-width: 1.0;\"/><ellipse cx=\"197.13\" cy=\"102\" fill=\"#383838\" rx=\"2\" ry=\"2\" style=\"stroke: #383838; stroke-width: 1.0;\"/></a><!--MD5=[5787020e3952c0276f1fb9bf5b4f7846]\n",
       "@startuml\r\n",
       "left to right direction\r\n",
       "skinparam monochrome true\r\n",
       "skinparam classbackgroundcolor white\r\n",
       "skinparam shadowing false\r\n",
       "skinparam wrapWidth 300\r\n",
       "hide circle\r\n",
       "\r\n",
       "package \"AliasImport\" as E1  [[psysml:144140e7-4c0e-44d8-912b-18808e1341b6 ]]  {\r\n",
       "package \"Definitions\" as E2  [[psysml:0089895f-bb5f-44ae-8440-3a6de4c690d2 ]]  {\r\n",
       "comp def \"Vehicle\" as E3  <<(T,blue) part  def>> [[psysml:117f05b4-c909-44db-8047-1df426d26d27 ]] {\r\n",
       "}\r\n",
       "}\r\n",
       "package \"Usages\" as E4  [[psysml:e57b5549-a047-42fa-b139-1a9999eaa505 ]]  {\r\n",
       "comp usage \"vehicle: Vehicle \" as E5  <<(T,blue) part>> [[psysml:e21f8a97-fb67-4292-9535-52151c9da93c ]] {\r\n",
       "}\r\n",
       "}\r\n",
       "}\r\n",
       "E5 - -:|> E3 [[psysml:763357b8-b5e0-4785-a470-e50d945081e3 ]] \r\n",
       "@enduml\r\n",
       "\n",
       "PlantUML version 1.2020.13(Sat Jun 13 12:26:38 UTC 2020)\n",
       "(EPL source distribution)\n",
       "Java Runtime: OpenJDK Runtime Environment\n",
       "JVM: OpenJDK 64-Bit Server VM\n",
       "Default Encoding: UTF-8\n",
       "Language: en\n",
       "Country: null\n",
       "--></g></svg>"
      ]
     },
     "execution_count": 22,
     "metadata": {},
     "output_type": "execute_result"
    }
   ],
   "source": [
    "%viz --style=\"LR\" --view=\"MIXED\" \"AliasImport\""
   ]
  },
  {
   "cell_type": "code",
   "execution_count": 23,
   "id": "35eac05b",
   "metadata": {
    "execution": {
     "iopub.execute_input": "2021-10-25T08:24:41.422450Z",
     "iopub.status.busy": "2021-10-25T08:24:41.422194Z",
     "iopub.status.idle": "2021-10-25T08:24:41.451308Z",
     "shell.execute_reply": "2021-10-25T08:24:41.450939Z"
    }
   },
   "outputs": [
    {
     "data": {
      "image/svg+xml": [
       "<?xml version=\"1.0\" encoding=\"UTF-8\" standalone=\"no\"?><svg xmlns=\"http://www.w3.org/2000/svg\" xmlns:xlink=\"http://www.w3.org/1999/xlink\" contentScriptType=\"application/ecmascript\" contentStyleType=\"text/css\" height=\"303px\" preserveAspectRatio=\"none\" style=\"width:224px;height:303px;\" version=\"1.1\" viewBox=\"0 0 224 303\" width=\"224px\" zoomAndPan=\"magnify\"><defs><filter height=\"300%\" id=\"fapszu03t5dpp\" width=\"300%\" x=\"-1\" y=\"-1\"><feGaussianBlur result=\"blurOut\" stdDeviation=\"2.0\"/><feColorMatrix in=\"blurOut\" result=\"blurOut2\" type=\"matrix\" values=\"0 0 0 0 0 0 0 0 0 0 0 0 0 0 0 0 0 0 .4 0\"/><feOffset dx=\"4.0\" dy=\"4.0\" in=\"blurOut2\" result=\"blurOut3\"/><feBlend in=\"SourceGraphic\" in2=\"blurOut3\" mode=\"normal\"/></filter></defs><g><!--MD5=[fbc87193dbaf4d95561dea2c320d4a47]\n",
       "cluster E1--><a href=\"psysml:144140e7-4c0e-44d8-912b-18808e1341b6\" target=\"_top\" title=\"psysml:144140e7-4c0e-44d8-912b-18808e1341b6\" xlink:actuate=\"onRequest\" xlink:href=\"psysml:144140e7-4c0e-44d8-912b-18808e1341b6\" xlink:show=\"new\" xlink:title=\"psysml:144140e7-4c0e-44d8-912b-18808e1341b6\" xlink:type=\"simple\"><polygon fill=\"#FFFFFF\" filter=\"url(#fapszu03t5dpp)\" points=\"16,6,97,6,104,28.2969,202,28.2969,202,291,16,291,16,6\" style=\"stroke: #000000; stroke-width: 1.5;\"/><line style=\"stroke: #000000; stroke-width: 1.5;\" x1=\"16\" x2=\"104\" y1=\"28.2969\" y2=\"28.2969\"/><text fill=\"#000000\" font-family=\"sans-serif\" font-size=\"14\" font-weight=\"bold\" lengthAdjust=\"spacingAndGlyphs\" textLength=\"75\" x=\"20\" y=\"20.9951\">AliasImport</text></a><!--MD5=[e4f7fae6ed58524ba242bb0b0d3be6b7]\n",
       "cluster E2--><a href=\"psysml:0089895f-bb5f-44ae-8440-3a6de4c690d2\" target=\"_top\" title=\"psysml:0089895f-bb5f-44ae-8440-3a6de4c690d2\" xlink:actuate=\"onRequest\" xlink:href=\"psysml:0089895f-bb5f-44ae-8440-3a6de4c690d2\" xlink:show=\"new\" xlink:title=\"psysml:0089895f-bb5f-44ae-8440-3a6de4c690d2\" xlink:type=\"simple\"><polygon fill=\"#FFFFFF\" filter=\"url(#fapszu03t5dpp)\" points=\"58,170,137,170,144,192.2969,160,192.2969,160,267,58,267,58,170\" style=\"stroke: #000000; stroke-width: 1.5;\"/><line style=\"stroke: #000000; stroke-width: 1.5;\" x1=\"58\" x2=\"144\" y1=\"192.2969\" y2=\"192.2969\"/><text fill=\"#000000\" font-family=\"sans-serif\" font-size=\"14\" font-weight=\"bold\" lengthAdjust=\"spacingAndGlyphs\" textLength=\"73\" x=\"62\" y=\"184.9951\">Definitions</text></a><!--MD5=[f6df4d0ebaf0b5dfb2ced0ae5af7c670]\n",
       "cluster E4--><a href=\"psysml:e57b5549-a047-42fa-b139-1a9999eaa505\" target=\"_top\" title=\"psysml:e57b5549-a047-42fa-b139-1a9999eaa505\" xlink:actuate=\"onRequest\" xlink:href=\"psysml:e57b5549-a047-42fa-b139-1a9999eaa505\" xlink:show=\"new\" xlink:title=\"psysml:e57b5549-a047-42fa-b139-1a9999eaa505\" xlink:type=\"simple\"><polygon fill=\"#FFFFFF\" filter=\"url(#fapszu03t5dpp)\" points=\"40,49,98,49,105,71.2969,178,71.2969,178,146,40,146,40,49\" style=\"stroke: #000000; stroke-width: 1.5;\"/><line style=\"stroke: #000000; stroke-width: 1.5;\" x1=\"40\" x2=\"105\" y1=\"71.2969\" y2=\"71.2969\"/><text fill=\"#000000\" font-family=\"sans-serif\" font-size=\"14\" font-weight=\"bold\" lengthAdjust=\"spacingAndGlyphs\" textLength=\"52\" x=\"44\" y=\"63.9951\">Usages</text></a><!--MD5=[09b614a08d8cba4a07c9adeb5e0fee81]\n",
       "class E3--><a href=\"psysml:117f05b4-c909-44db-8047-1df426d26d27\" target=\"_top\" title=\"psysml:117f05b4-c909-44db-8047-1df426d26d27\" xlink:actuate=\"onRequest\" xlink:href=\"psysml:117f05b4-c909-44db-8047-1df426d26d27\" xlink:show=\"new\" xlink:title=\"psysml:117f05b4-c909-44db-8047-1df426d26d27\" xlink:type=\"simple\"><rect fill=\"#FEFECE\" filter=\"url(#fapszu03t5dpp)\" height=\"45.9375\" id=\"E3\" style=\"stroke: #A80036; stroke-width: 1.5;\" width=\"70\" x=\"74\" y=\"205\"/><text fill=\"#000000\" font-family=\"sans-serif\" font-size=\"12\" font-style=\"italic\" lengthAdjust=\"spacingAndGlyphs\" textLength=\"68\" x=\"75\" y=\"221.1387\">«part  def»</text><text fill=\"#000000\" font-family=\"sans-serif\" font-size=\"12\" lengthAdjust=\"spacingAndGlyphs\" textLength=\"45\" x=\"86.5\" y=\"235.1074\">Vehicle</text><line style=\"stroke: #A80036; stroke-width: 1.5;\" x1=\"75\" x2=\"143\" y1=\"242.9375\" y2=\"242.9375\"/></a><!--MD5=[270fce915f116d4de14055a7c1d9a0f3]\n",
       "class E5--><a href=\"psysml:e21f8a97-fb67-4292-9535-52151c9da93c\" target=\"_top\" title=\"psysml:e21f8a97-fb67-4292-9535-52151c9da93c\" xlink:actuate=\"onRequest\" xlink:href=\"psysml:e21f8a97-fb67-4292-9535-52151c9da93c\" xlink:show=\"new\" xlink:title=\"psysml:e21f8a97-fb67-4292-9535-52151c9da93c\" xlink:type=\"simple\"><rect fill=\"#FEFECE\" filter=\"url(#fapszu03t5dpp)\" height=\"45.9375\" id=\"E5\" rx=\"10\" ry=\"10\" style=\"stroke: #A80036; stroke-width: 1.5;\" width=\"106\" x=\"56\" y=\"84\"/><text fill=\"#000000\" font-family=\"sans-serif\" font-size=\"12\" font-style=\"italic\" lengthAdjust=\"spacingAndGlyphs\" textLength=\"40\" x=\"89\" y=\"100.1387\">«part»</text><text fill=\"#000000\" font-family=\"sans-serif\" font-size=\"12\" lengthAdjust=\"spacingAndGlyphs\" textLength=\"96\" x=\"59\" y=\"114.1074\">vehicle: Vehicle</text><line style=\"stroke: #A80036; stroke-width: 1.5;\" x1=\"57\" x2=\"161\" y1=\"121.9375\" y2=\"121.9375\"/></a><!--MD5=[e9be52314489bd878ff4c7144b63c9e1]\n",
       "link E5 to E3--><a href=\"psysml:763357b8-b5e0-4785-a470-e50d945081e3\" target=\"_top\" title=\"psysml:763357b8-b5e0-4785-a470-e50d945081e3\" xlink:actuate=\"onRequest\" xlink:href=\"psysml:763357b8-b5e0-4785-a470-e50d945081e3\" xlink:show=\"new\" xlink:title=\"psysml:763357b8-b5e0-4785-a470-e50d945081e3\" xlink:type=\"simple\"><path d=\"M109,130.1 C109,145.37 109,166.16 109,184.57 \" fill=\"none\" id=\"E5-&gt;E3\" style=\"stroke: #A80036; stroke-width: 1.0;\"/><polygon fill=\"#FFFFFF\" points=\"109,204.61,102,185.61,116,185.61,109,204.61\" style=\"stroke: #A80036; stroke-width: 1.0;\"/><ellipse cx=\"104\" cy=\"179.91\" fill=\"#A80036\" rx=\"2\" ry=\"2\" style=\"stroke: #A80036; stroke-width: 1.0;\"/><ellipse cx=\"114\" cy=\"179.91\" fill=\"#A80036\" rx=\"2\" ry=\"2\" style=\"stroke: #A80036; stroke-width: 1.0;\"/></a><!--MD5=[6384d73ec2c775d2ed1d5abde7f21323]\n",
       "@startuml\r\n",
       "skinparam wrapWidth 300\r\n",
       "hide circle\r\n",
       "\r\n",
       "package \"AliasImport\" as E1  [[psysml:144140e7-4c0e-44d8-912b-18808e1341b6 ]]  {\r\n",
       "package \"Definitions\" as E2  [[psysml:0089895f-bb5f-44ae-8440-3a6de4c690d2 ]]  {\r\n",
       "comp def \"Vehicle\" as E3  <<(T,blue) part  def>> [[psysml:117f05b4-c909-44db-8047-1df426d26d27 ]] {\r\n",
       "}\r\n",
       "}\r\n",
       "package \"Usages\" as E4  [[psysml:e57b5549-a047-42fa-b139-1a9999eaa505 ]]  {\r\n",
       "comp usage \"vehicle: Vehicle \" as E5  <<(T,blue) part>> [[psysml:e21f8a97-fb67-4292-9535-52151c9da93c ]] {\r\n",
       "}\r\n",
       "}\r\n",
       "}\r\n",
       "E5 - -:|> E3 [[psysml:763357b8-b5e0-4785-a470-e50d945081e3 ]] \r\n",
       "@enduml\r\n",
       "\n",
       "PlantUML version 1.2020.13(Sat Jun 13 12:26:38 UTC 2020)\n",
       "(EPL source distribution)\n",
       "Java Runtime: OpenJDK Runtime Environment\n",
       "JVM: OpenJDK 64-Bit Server VM\n",
       "Default Encoding: UTF-8\n",
       "Language: en\n",
       "Country: null\n",
       "--></g></svg>"
      ]
     },
     "execution_count": 23,
     "metadata": {},
     "output_type": "execute_result"
    }
   ],
   "source": [
    "%viz --style=\"STDCOLOR\" --view=\"Default\" \"AliasImport\""
   ]
  },
  {
   "cell_type": "code",
   "execution_count": 24,
   "id": "1e03613a",
   "metadata": {
    "execution": {
     "iopub.execute_input": "2021-10-25T08:24:41.500899Z",
     "iopub.status.busy": "2021-10-25T08:24:41.500484Z",
     "iopub.status.idle": "2021-10-25T08:24:41.529968Z",
     "shell.execute_reply": "2021-10-25T08:24:41.528938Z"
    }
   },
   "outputs": [
    {
     "data": {
      "image/svg+xml": [
       "<?xml version=\"1.0\" encoding=\"UTF-8\" standalone=\"no\"?><svg xmlns=\"http://www.w3.org/2000/svg\" xmlns:xlink=\"http://www.w3.org/1999/xlink\" contentScriptType=\"application/ecmascript\" contentStyleType=\"text/css\" height=\"303px\" preserveAspectRatio=\"none\" style=\"width:224px;height:303px;\" version=\"1.1\" viewBox=\"0 0 224 303\" width=\"224px\" zoomAndPan=\"magnify\"><defs><filter height=\"300%\" id=\"fapszu03t5dpp\" width=\"300%\" x=\"-1\" y=\"-1\"><feGaussianBlur result=\"blurOut\" stdDeviation=\"2.0\"/><feColorMatrix in=\"blurOut\" result=\"blurOut2\" type=\"matrix\" values=\"0 0 0 0 0 0 0 0 0 0 0 0 0 0 0 0 0 0 .4 0\"/><feOffset dx=\"4.0\" dy=\"4.0\" in=\"blurOut2\" result=\"blurOut3\"/><feBlend in=\"SourceGraphic\" in2=\"blurOut3\" mode=\"normal\"/></filter></defs><g><!--MD5=[fbc87193dbaf4d95561dea2c320d4a47]\n",
       "cluster E1--><a href=\"psysml:144140e7-4c0e-44d8-912b-18808e1341b6\" target=\"_top\" title=\"psysml:144140e7-4c0e-44d8-912b-18808e1341b6\" xlink:actuate=\"onRequest\" xlink:href=\"psysml:144140e7-4c0e-44d8-912b-18808e1341b6\" xlink:show=\"new\" xlink:title=\"psysml:144140e7-4c0e-44d8-912b-18808e1341b6\" xlink:type=\"simple\"><polygon fill=\"#FFFFFF\" filter=\"url(#fapszu03t5dpp)\" points=\"16,6,97,6,104,28.2969,202,28.2969,202,291,16,291,16,6\" style=\"stroke: #000000; stroke-width: 1.5;\"/><line style=\"stroke: #000000; stroke-width: 1.5;\" x1=\"16\" x2=\"104\" y1=\"28.2969\" y2=\"28.2969\"/><text fill=\"#000000\" font-family=\"sans-serif\" font-size=\"14\" font-weight=\"bold\" lengthAdjust=\"spacingAndGlyphs\" textLength=\"75\" x=\"20\" y=\"20.9951\">AliasImport</text></a><!--MD5=[e4f7fae6ed58524ba242bb0b0d3be6b7]\n",
       "cluster E2--><a href=\"psysml:0089895f-bb5f-44ae-8440-3a6de4c690d2\" target=\"_top\" title=\"psysml:0089895f-bb5f-44ae-8440-3a6de4c690d2\" xlink:actuate=\"onRequest\" xlink:href=\"psysml:0089895f-bb5f-44ae-8440-3a6de4c690d2\" xlink:show=\"new\" xlink:title=\"psysml:0089895f-bb5f-44ae-8440-3a6de4c690d2\" xlink:type=\"simple\"><polygon fill=\"#FFFFFF\" filter=\"url(#fapszu03t5dpp)\" points=\"58,170,137,170,144,192.2969,160,192.2969,160,267,58,267,58,170\" style=\"stroke: #000000; stroke-width: 1.5;\"/><line style=\"stroke: #000000; stroke-width: 1.5;\" x1=\"58\" x2=\"144\" y1=\"192.2969\" y2=\"192.2969\"/><text fill=\"#000000\" font-family=\"sans-serif\" font-size=\"14\" font-weight=\"bold\" lengthAdjust=\"spacingAndGlyphs\" textLength=\"73\" x=\"62\" y=\"184.9951\">Definitions</text></a><!--MD5=[f6df4d0ebaf0b5dfb2ced0ae5af7c670]\n",
       "cluster E4--><a href=\"psysml:e57b5549-a047-42fa-b139-1a9999eaa505\" target=\"_top\" title=\"psysml:e57b5549-a047-42fa-b139-1a9999eaa505\" xlink:actuate=\"onRequest\" xlink:href=\"psysml:e57b5549-a047-42fa-b139-1a9999eaa505\" xlink:show=\"new\" xlink:title=\"psysml:e57b5549-a047-42fa-b139-1a9999eaa505\" xlink:type=\"simple\"><polygon fill=\"#FFFFFF\" filter=\"url(#fapszu03t5dpp)\" points=\"40,49,98,49,105,71.2969,178,71.2969,178,146,40,146,40,49\" style=\"stroke: #000000; stroke-width: 1.5;\"/><line style=\"stroke: #000000; stroke-width: 1.5;\" x1=\"40\" x2=\"105\" y1=\"71.2969\" y2=\"71.2969\"/><text fill=\"#000000\" font-family=\"sans-serif\" font-size=\"14\" font-weight=\"bold\" lengthAdjust=\"spacingAndGlyphs\" textLength=\"52\" x=\"44\" y=\"63.9951\">Usages</text></a><!--MD5=[09b614a08d8cba4a07c9adeb5e0fee81]\n",
       "class E3--><a href=\"psysml:117f05b4-c909-44db-8047-1df426d26d27\" target=\"_top\" title=\"psysml:117f05b4-c909-44db-8047-1df426d26d27\" xlink:actuate=\"onRequest\" xlink:href=\"psysml:117f05b4-c909-44db-8047-1df426d26d27\" xlink:show=\"new\" xlink:title=\"psysml:117f05b4-c909-44db-8047-1df426d26d27\" xlink:type=\"simple\"><rect fill=\"#FEFECE\" filter=\"url(#fapszu03t5dpp)\" height=\"45.9375\" id=\"E3\" style=\"stroke: #A80036; stroke-width: 1.5;\" width=\"70\" x=\"74\" y=\"205\"/><text fill=\"#000000\" font-family=\"sans-serif\" font-size=\"12\" font-style=\"italic\" lengthAdjust=\"spacingAndGlyphs\" textLength=\"68\" x=\"75\" y=\"221.1387\">«part  def»</text><text fill=\"#000000\" font-family=\"sans-serif\" font-size=\"12\" lengthAdjust=\"spacingAndGlyphs\" textLength=\"45\" x=\"86.5\" y=\"235.1074\">Vehicle</text><line style=\"stroke: #A80036; stroke-width: 1.5;\" x1=\"75\" x2=\"143\" y1=\"242.9375\" y2=\"242.9375\"/></a><!--MD5=[270fce915f116d4de14055a7c1d9a0f3]\n",
       "class E5--><a href=\"psysml:e21f8a97-fb67-4292-9535-52151c9da93c\" target=\"_top\" title=\"psysml:e21f8a97-fb67-4292-9535-52151c9da93c\" xlink:actuate=\"onRequest\" xlink:href=\"psysml:e21f8a97-fb67-4292-9535-52151c9da93c\" xlink:show=\"new\" xlink:title=\"psysml:e21f8a97-fb67-4292-9535-52151c9da93c\" xlink:type=\"simple\"><rect fill=\"#FEFECE\" filter=\"url(#fapszu03t5dpp)\" height=\"45.9375\" id=\"E5\" rx=\"10\" ry=\"10\" style=\"stroke: #A80036; stroke-width: 1.5;\" width=\"106\" x=\"56\" y=\"84\"/><text fill=\"#000000\" font-family=\"sans-serif\" font-size=\"12\" font-style=\"italic\" lengthAdjust=\"spacingAndGlyphs\" textLength=\"40\" x=\"89\" y=\"100.1387\">«part»</text><text fill=\"#000000\" font-family=\"sans-serif\" font-size=\"12\" lengthAdjust=\"spacingAndGlyphs\" textLength=\"96\" x=\"59\" y=\"114.1074\">vehicle: Vehicle</text><line style=\"stroke: #A80036; stroke-width: 1.5;\" x1=\"57\" x2=\"161\" y1=\"121.9375\" y2=\"121.9375\"/></a><!--MD5=[e9be52314489bd878ff4c7144b63c9e1]\n",
       "link E5 to E3--><a href=\"psysml:763357b8-b5e0-4785-a470-e50d945081e3\" target=\"_top\" title=\"psysml:763357b8-b5e0-4785-a470-e50d945081e3\" xlink:actuate=\"onRequest\" xlink:href=\"psysml:763357b8-b5e0-4785-a470-e50d945081e3\" xlink:show=\"new\" xlink:title=\"psysml:763357b8-b5e0-4785-a470-e50d945081e3\" xlink:type=\"simple\"><path d=\"M109,130.1 C109,145.37 109,166.16 109,184.57 \" fill=\"none\" id=\"E5-&gt;E3\" style=\"stroke: #A80036; stroke-width: 1.0;\"/><polygon fill=\"#FFFFFF\" points=\"109,204.61,102,185.61,116,185.61,109,204.61\" style=\"stroke: #A80036; stroke-width: 1.0;\"/><ellipse cx=\"104\" cy=\"179.91\" fill=\"#A80036\" rx=\"2\" ry=\"2\" style=\"stroke: #A80036; stroke-width: 1.0;\"/><ellipse cx=\"114\" cy=\"179.91\" fill=\"#A80036\" rx=\"2\" ry=\"2\" style=\"stroke: #A80036; stroke-width: 1.0;\"/></a><!--MD5=[6384d73ec2c775d2ed1d5abde7f21323]\n",
       "@startuml\r\n",
       "skinparam wrapWidth 300\r\n",
       "hide circle\r\n",
       "\r\n",
       "package \"AliasImport\" as E1  [[psysml:144140e7-4c0e-44d8-912b-18808e1341b6 ]]  {\r\n",
       "package \"Definitions\" as E2  [[psysml:0089895f-bb5f-44ae-8440-3a6de4c690d2 ]]  {\r\n",
       "comp def \"Vehicle\" as E3  <<(T,blue) part  def>> [[psysml:117f05b4-c909-44db-8047-1df426d26d27 ]] {\r\n",
       "}\r\n",
       "}\r\n",
       "package \"Usages\" as E4  [[psysml:e57b5549-a047-42fa-b139-1a9999eaa505 ]]  {\r\n",
       "comp usage \"vehicle: Vehicle \" as E5  <<(T,blue) part>> [[psysml:e21f8a97-fb67-4292-9535-52151c9da93c ]] {\r\n",
       "}\r\n",
       "}\r\n",
       "}\r\n",
       "E5 - -:|> E3 [[psysml:763357b8-b5e0-4785-a470-e50d945081e3 ]] \r\n",
       "@enduml\r\n",
       "\n",
       "PlantUML version 1.2020.13(Sat Jun 13 12:26:38 UTC 2020)\n",
       "(EPL source distribution)\n",
       "Java Runtime: OpenJDK Runtime Environment\n",
       "JVM: OpenJDK 64-Bit Server VM\n",
       "Default Encoding: UTF-8\n",
       "Language: en\n",
       "Country: null\n",
       "--></g></svg>"
      ]
     },
     "execution_count": 24,
     "metadata": {},
     "output_type": "execute_result"
    }
   ],
   "source": [
    "%viz --style=\"STDCOLOR\" --view=\"Tree\" \"AliasImport\""
   ]
  },
  {
   "cell_type": "code",
   "execution_count": 25,
   "id": "f43246c0",
   "metadata": {
    "execution": {
     "iopub.execute_input": "2021-10-25T08:24:41.579695Z",
     "iopub.status.busy": "2021-10-25T08:24:41.579419Z",
     "iopub.status.idle": "2021-10-25T08:24:41.585382Z",
     "shell.execute_reply": "2021-10-25T08:24:41.584997Z"
    }
   },
   "outputs": [
    {
     "data": {
      "image/svg+xml": [
       "<?xml version=\"1.0\" encoding=\"UTF-8\" standalone=\"no\"?><svg xmlns=\"http://www.w3.org/2000/svg\" xmlns:xlink=\"http://www.w3.org/1999/xlink\" contentScriptType=\"application/ecmascript\" contentStyleType=\"text/css\" height=\"12px\" preserveAspectRatio=\"none\" style=\"width:12px;height:12px;\" version=\"1.1\" viewBox=\"0 0 12 12\" width=\"12px\" zoomAndPan=\"magnify\"><defs/><g><!--MD5=[aeeef50f102b80d730deb6443d14f702]\n",
       "@startuml\r\n",
       "skinparam wrapWidth 300\r\n",
       "hide circle\r\n",
       "\r\n",
       "@enduml\r\n",
       "\n",
       "PlantUML version 1.2020.13(Sat Jun 13 12:26:38 UTC 2020)\n",
       "(EPL source distribution)\n",
       "Java Runtime: OpenJDK Runtime Environment\n",
       "JVM: OpenJDK 64-Bit Server VM\n",
       "Default Encoding: UTF-8\n",
       "Language: en\n",
       "Country: null\n",
       "--></g></svg>"
      ]
     },
     "execution_count": 25,
     "metadata": {},
     "output_type": "execute_result"
    }
   ],
   "source": [
    "%viz --style=\"STDCOLOR\" --view=\"State\" \"AliasImport\""
   ]
  },
  {
   "cell_type": "code",
   "execution_count": 26,
   "id": "ecd234bc",
   "metadata": {
    "execution": {
     "iopub.execute_input": "2021-10-25T08:24:41.634559Z",
     "iopub.status.busy": "2021-10-25T08:24:41.634145Z",
     "iopub.status.idle": "2021-10-25T08:24:41.664116Z",
     "shell.execute_reply": "2021-10-25T08:24:41.663741Z"
    }
   },
   "outputs": [
    {
     "data": {
      "image/svg+xml": [
       "<?xml version=\"1.0\" encoding=\"UTF-8\" standalone=\"no\"?><svg xmlns=\"http://www.w3.org/2000/svg\" xmlns:xlink=\"http://www.w3.org/1999/xlink\" contentScriptType=\"application/ecmascript\" contentStyleType=\"text/css\" height=\"179px\" preserveAspectRatio=\"none\" style=\"width:464px;height:179px;\" version=\"1.1\" viewBox=\"0 0 464 179\" width=\"464px\" zoomAndPan=\"magnify\"><defs><filter height=\"300%\" id=\"f1ateab1bx165w\" width=\"300%\" x=\"-1\" y=\"-1\"><feGaussianBlur result=\"blurOut\" stdDeviation=\"2.0\"/><feColorMatrix in=\"blurOut\" result=\"blurOut2\" type=\"matrix\" values=\"0 0 0 0 0 0 0 0 0 0 0 0 0 0 0 0 0 0 .4 0\"/><feOffset dx=\"4.0\" dy=\"4.0\" in=\"blurOut2\" result=\"blurOut3\"/><feBlend in=\"SourceGraphic\" in2=\"blurOut3\" mode=\"normal\"/></filter></defs><g><!--MD5=[fbc87193dbaf4d95561dea2c320d4a47]\n",
       "cluster E1--><a href=\"psysml:144140e7-4c0e-44d8-912b-18808e1341b6\" target=\"_top\" title=\"psysml:144140e7-4c0e-44d8-912b-18808e1341b6\" xlink:actuate=\"onRequest\" xlink:href=\"psysml:144140e7-4c0e-44d8-912b-18808e1341b6\" xlink:show=\"new\" xlink:title=\"psysml:144140e7-4c0e-44d8-912b-18808e1341b6\" xlink:type=\"simple\"><polygon fill=\"#FFFFFF\" filter=\"url(#f1ateab1bx165w)\" points=\"16,6,97,6,104,28.2969,442,28.2969,442,167,16,167,16,6\" style=\"stroke: #000000; stroke-width: 1.5;\"/><line style=\"stroke: #000000; stroke-width: 1.5;\" x1=\"16\" x2=\"104\" y1=\"28.2969\" y2=\"28.2969\"/><text fill=\"#000000\" font-family=\"sans-serif\" font-size=\"14\" font-weight=\"bold\" lengthAdjust=\"spacingAndGlyphs\" textLength=\"75\" x=\"20\" y=\"20.9951\">AliasImport</text></a><!--MD5=[e4f7fae6ed58524ba242bb0b0d3be6b7]\n",
       "cluster E2--><a href=\"psysml:0089895f-bb5f-44ae-8440-3a6de4c690d2\" target=\"_top\" title=\"psysml:0089895f-bb5f-44ae-8440-3a6de4c690d2\" xlink:actuate=\"onRequest\" xlink:href=\"psysml:0089895f-bb5f-44ae-8440-3a6de4c690d2\" xlink:show=\"new\" xlink:title=\"psysml:0089895f-bb5f-44ae-8440-3a6de4c690d2\" xlink:type=\"simple\"><polygon fill=\"#FFFFFF\" filter=\"url(#f1ateab1bx165w)\" points=\"202,49,281,49,288,71.2969,418,71.2969,418,143,202,143,202,49\" style=\"stroke: #000000; stroke-width: 1.5;\"/><line style=\"stroke: #000000; stroke-width: 1.5;\" x1=\"202\" x2=\"288\" y1=\"71.2969\" y2=\"71.2969\"/><text fill=\"#000000\" font-family=\"sans-serif\" font-size=\"14\" font-weight=\"bold\" lengthAdjust=\"spacingAndGlyphs\" textLength=\"73\" x=\"206\" y=\"63.9951\">Definitions</text></a><!--MD5=[de5ec2e2e8f62f467e546659f5068c88]\n",
       "cluster E5--><a href=\"psysml:e57b5549-a047-42fa-b139-1a9999eaa505\" target=\"_top\" title=\"psysml:e57b5549-a047-42fa-b139-1a9999eaa505\" xlink:actuate=\"onRequest\" xlink:href=\"psysml:e57b5549-a047-42fa-b139-1a9999eaa505\" xlink:show=\"new\" xlink:title=\"psysml:e57b5549-a047-42fa-b139-1a9999eaa505\" xlink:type=\"simple\"><polygon fill=\"#FFFFFF\" filter=\"url(#f1ateab1bx165w)\" points=\"40,50.5,98,50.5,105,72.7969,178,72.7969,178,141.5,40,141.5,40,50.5\" style=\"stroke: #000000; stroke-width: 1.5;\"/><line style=\"stroke: #000000; stroke-width: 1.5;\" x1=\"40\" x2=\"105\" y1=\"72.7969\" y2=\"72.7969\"/><text fill=\"#000000\" font-family=\"sans-serif\" font-size=\"14\" font-weight=\"bold\" lengthAdjust=\"spacingAndGlyphs\" textLength=\"52\" x=\"44\" y=\"65.4951\">Usages</text></a><g id=\"E1.E2.E3\"><a href=\"psysml:117f05b4-c909-44db-8047-1df426d26d27\" target=\"_top\" title=\"psysml:117f05b4-c909-44db-8047-1df426d26d27\" xlink:actuate=\"onRequest\" xlink:href=\"psysml:117f05b4-c909-44db-8047-1df426d26d27\" xlink:show=\"new\" xlink:title=\"psysml:117f05b4-c909-44db-8047-1df426d26d27\" xlink:type=\"simple\"><rect fill=\"#FEFECE\" filter=\"url(#f1ateab1bx165w)\" height=\"42.9375\" id=\"E3\" style=\"stroke: #A80036; stroke-width: 1.5;\" width=\"75\" x=\"327.5\" y=\"84\"/><text fill=\"#000000\" font-family=\"sans-serif\" font-size=\"12\" font-style=\"italic\" lengthAdjust=\"spacingAndGlyphs\" textLength=\"68\" x=\"331\" y=\"100.1387\">«part  def»</text><text fill=\"#000000\" font-family=\"sans-serif\" font-size=\"12\" lengthAdjust=\"spacingAndGlyphs\" textLength=\"45\" x=\"342.5\" y=\"114.1074\">Vehicle</text></a></g><g id=\"E1.E2.E4\"><a href=\"psysml:117f05b4-c909-44db-8047-1df426d26d27\" target=\"_top\" title=\"psysml:117f05b4-c909-44db-8047-1df426d26d27\" xlink:actuate=\"onRequest\" xlink:href=\"psysml:117f05b4-c909-44db-8047-1df426d26d27\" xlink:show=\"new\" xlink:title=\"psysml:117f05b4-c909-44db-8047-1df426d26d27\" xlink:type=\"simple\"><rect fill=\"#FEFECE\" filter=\"url(#f1ateab1bx165w)\" height=\"42.9375\" id=\"E4\" style=\"stroke: #A80036; stroke-width: 1.5;\" width=\"75\" x=\"217.5\" y=\"84\"/><text fill=\"#000000\" font-family=\"sans-serif\" font-size=\"12\" font-style=\"italic\" lengthAdjust=\"spacingAndGlyphs\" textLength=\"68\" x=\"221\" y=\"100.1387\">«part  def»</text><text fill=\"#000000\" font-family=\"sans-serif\" font-size=\"12\" lengthAdjust=\"spacingAndGlyphs\" textLength=\"45\" x=\"232.5\" y=\"114.1074\">Vehicle</text></a></g><g id=\"E1.E5.E6\"><a href=\"psysml:e21f8a97-fb67-4292-9535-52151c9da93c\" target=\"_top\" title=\"psysml:e21f8a97-fb67-4292-9535-52151c9da93c\" xlink:actuate=\"onRequest\" xlink:href=\"psysml:e21f8a97-fb67-4292-9535-52151c9da93c\" xlink:show=\"new\" xlink:title=\"psysml:e21f8a97-fb67-4292-9535-52151c9da93c\" xlink:type=\"simple\"><rect fill=\"#FEFECE\" filter=\"url(#f1ateab1bx165w)\" height=\"40\" id=\"E6\" rx=\"10\" ry=\"10\" style=\"stroke: #A80036; stroke-width: 1.5;\" width=\"107\" x=\"55.5\" y=\"85.5\"/><text fill=\"#000000\" font-family=\"sans-serif\" font-size=\"12\" lengthAdjust=\"spacingAndGlyphs\" textLength=\"96\" x=\"61\" y=\"101.6387\">vehicle: Vehicle</text></a></g><!--MD5=[97071a850b3374a405b02c7775917041]\n",
       "@startuml\r\n",
       "skinparam ranksep 10\r\n",
       "skinparam rectangle {\r\n",
       " backgroundColor<<block>> LightGreen\r\n",
       "}\r\n",
       "skinparam wrapWidth 300\r\n",
       "hide circle\r\n",
       "\r\n",
       "package \"AliasImport\" as E1  [[psysml:144140e7-4c0e-44d8-912b-18808e1341b6 ]]  {\r\n",
       "package \"Definitions\" as E2  [[psysml:0089895f-bb5f-44ae-8440-3a6de4c690d2 ]]  {\r\n",
       "rec def \"Vehicle\" as E3  <<(T,blue) part  def>> [[psysml:117f05b4-c909-44db-8047-1df426d26d27 ]] {\r\n",
       "}\r\n",
       "rec def \"Vehicle\" as E4  <<(T,blue) part  def>> [[psysml:117f05b4-c909-44db-8047-1df426d26d27 ]] {\r\n",
       "}\r\n",
       "}\r\n",
       "package \"Usages\" as E5  [[psysml:e57b5549-a047-42fa-b139-1a9999eaa505 ]]  {\r\n",
       "rec usage \"vehicle: Vehicle\" as E6  [[psysml:e21f8a97-fb67-4292-9535-52151c9da93c ]] {\r\n",
       "}\r\n",
       "}\r\n",
       "}\r\n",
       "@enduml\r\n",
       "\n",
       "PlantUML version 1.2020.13(Sat Jun 13 12:26:38 UTC 2020)\n",
       "(EPL source distribution)\n",
       "Java Runtime: OpenJDK Runtime Environment\n",
       "JVM: OpenJDK 64-Bit Server VM\n",
       "Default Encoding: UTF-8\n",
       "Language: en\n",
       "Country: null\n",
       "--></g></svg>"
      ]
     },
     "execution_count": 26,
     "metadata": {},
     "output_type": "execute_result"
    }
   ],
   "source": [
    "%viz --style=\"STDCOLOR\" --view=\"Interconnection\" \"AliasImport\""
   ]
  },
  {
   "cell_type": "code",
   "execution_count": 27,
   "id": "da5c8668",
   "metadata": {
    "execution": {
     "iopub.execute_input": "2021-10-25T08:24:41.713382Z",
     "iopub.status.busy": "2021-10-25T08:24:41.712843Z",
     "iopub.status.idle": "2021-10-25T08:24:41.718859Z",
     "shell.execute_reply": "2021-10-25T08:24:41.719189Z"
    }
   },
   "outputs": [
    {
     "data": {
      "image/svg+xml": [
       "<?xml version=\"1.0\" encoding=\"UTF-8\" standalone=\"no\"?><svg xmlns=\"http://www.w3.org/2000/svg\" xmlns:xlink=\"http://www.w3.org/1999/xlink\" contentScriptType=\"application/ecmascript\" contentStyleType=\"text/css\" height=\"12px\" preserveAspectRatio=\"none\" style=\"width:12px;height:12px;\" version=\"1.1\" viewBox=\"0 0 12 12\" width=\"12px\" zoomAndPan=\"magnify\"><defs/><g><!--MD5=[9863325348a96a77dacc89509d8ee65e]\n",
       "@startuml\r\n",
       "skinparam ranksep 8\r\n",
       "skinparam wrapWidth 300\r\n",
       "hide circle\r\n",
       "\r\n",
       "@enduml\r\n",
       "\n",
       "PlantUML version 1.2020.13(Sat Jun 13 12:26:38 UTC 2020)\n",
       "(EPL source distribution)\n",
       "Java Runtime: OpenJDK Runtime Environment\n",
       "JVM: OpenJDK 64-Bit Server VM\n",
       "Default Encoding: UTF-8\n",
       "Language: en\n",
       "Country: null\n",
       "--></g></svg>"
      ]
     },
     "execution_count": 27,
     "metadata": {},
     "output_type": "execute_result"
    }
   ],
   "source": [
    "%viz --style=\"STDCOLOR\" --view=\"Action\" \"AliasImport\""
   ]
  },
  {
   "cell_type": "code",
   "execution_count": 28,
   "id": "521348d2",
   "metadata": {
    "execution": {
     "iopub.execute_input": "2021-10-25T08:24:41.768797Z",
     "iopub.status.busy": "2021-10-25T08:24:41.768364Z",
     "iopub.status.idle": "2021-10-25T08:24:41.773786Z",
     "shell.execute_reply": "2021-10-25T08:24:41.774084Z"
    }
   },
   "outputs": [
    {
     "data": {
      "image/svg+xml": [
       "<?xml version=\"1.0\" encoding=\"UTF-8\" standalone=\"no\"?><svg xmlns=\"http://www.w3.org/2000/svg\" xmlns:xlink=\"http://www.w3.org/1999/xlink\" contentScriptType=\"application/ecmascript\" contentStyleType=\"text/css\" height=\"12px\" preserveAspectRatio=\"none\" style=\"width:12px;height:12px;\" version=\"1.1\" viewBox=\"0 0 12 12\" width=\"12px\" zoomAndPan=\"magnify\"><defs/><g><!--MD5=[6c4bca67b4d71758159a5a7f1f1e1fc2]\n",
       "@startuml\r\n",
       "skinparam roundcorner 20\r\n",
       "skinparam BoxPadding 20\r\n",
       "skinparam SequenceBoxBackgroundColor #white\r\n",
       "skinparam style strictuml\r\n",
       "skinparam maxMessageSize 100\r\n",
       "skinparam wrapWidth 300\r\n",
       "hide circle\r\n",
       "\r\n",
       "@enduml\r\n",
       "\n",
       "PlantUML version 1.2020.13(Sat Jun 13 12:26:38 UTC 2020)\n",
       "(EPL source distribution)\n",
       "Java Runtime: OpenJDK Runtime Environment\n",
       "JVM: OpenJDK 64-Bit Server VM\n",
       "Default Encoding: UTF-8\n",
       "Language: en\n",
       "Country: null\n",
       "--></g></svg>"
      ]
     },
     "execution_count": 28,
     "metadata": {},
     "output_type": "execute_result"
    }
   ],
   "source": [
    "%viz --style=\"STDCOLOR\" --view=\"Sequence\" \"AliasImport\""
   ]
  },
  {
   "cell_type": "code",
   "execution_count": 29,
   "id": "dd5e5358",
   "metadata": {
    "execution": {
     "iopub.execute_input": "2021-10-25T08:24:41.823679Z",
     "iopub.status.busy": "2021-10-25T08:24:41.823272Z",
     "iopub.status.idle": "2021-10-25T08:24:41.853065Z",
     "shell.execute_reply": "2021-10-25T08:24:41.852698Z"
    }
   },
   "outputs": [
    {
     "data": {
      "image/svg+xml": [
       "<?xml version=\"1.0\" encoding=\"UTF-8\" standalone=\"no\"?><svg xmlns=\"http://www.w3.org/2000/svg\" xmlns:xlink=\"http://www.w3.org/1999/xlink\" contentScriptType=\"application/ecmascript\" contentStyleType=\"text/css\" height=\"303px\" preserveAspectRatio=\"none\" style=\"width:224px;height:303px;\" version=\"1.1\" viewBox=\"0 0 224 303\" width=\"224px\" zoomAndPan=\"magnify\"><defs><filter height=\"300%\" id=\"fapszu03t5dpp\" width=\"300%\" x=\"-1\" y=\"-1\"><feGaussianBlur result=\"blurOut\" stdDeviation=\"2.0\"/><feColorMatrix in=\"blurOut\" result=\"blurOut2\" type=\"matrix\" values=\"0 0 0 0 0 0 0 0 0 0 0 0 0 0 0 0 0 0 .4 0\"/><feOffset dx=\"4.0\" dy=\"4.0\" in=\"blurOut2\" result=\"blurOut3\"/><feBlend in=\"SourceGraphic\" in2=\"blurOut3\" mode=\"normal\"/></filter></defs><g><!--MD5=[fbc87193dbaf4d95561dea2c320d4a47]\n",
       "cluster E1--><a href=\"psysml:144140e7-4c0e-44d8-912b-18808e1341b6\" target=\"_top\" title=\"psysml:144140e7-4c0e-44d8-912b-18808e1341b6\" xlink:actuate=\"onRequest\" xlink:href=\"psysml:144140e7-4c0e-44d8-912b-18808e1341b6\" xlink:show=\"new\" xlink:title=\"psysml:144140e7-4c0e-44d8-912b-18808e1341b6\" xlink:type=\"simple\"><polygon fill=\"#FFFFFF\" filter=\"url(#fapszu03t5dpp)\" points=\"16,6,97,6,104,28.2969,202,28.2969,202,291,16,291,16,6\" style=\"stroke: #000000; stroke-width: 1.5;\"/><line style=\"stroke: #000000; stroke-width: 1.5;\" x1=\"16\" x2=\"104\" y1=\"28.2969\" y2=\"28.2969\"/><text fill=\"#000000\" font-family=\"sans-serif\" font-size=\"14\" font-weight=\"bold\" lengthAdjust=\"spacingAndGlyphs\" textLength=\"75\" x=\"20\" y=\"20.9951\">AliasImport</text></a><!--MD5=[e4f7fae6ed58524ba242bb0b0d3be6b7]\n",
       "cluster E2--><a href=\"psysml:0089895f-bb5f-44ae-8440-3a6de4c690d2\" target=\"_top\" title=\"psysml:0089895f-bb5f-44ae-8440-3a6de4c690d2\" xlink:actuate=\"onRequest\" xlink:href=\"psysml:0089895f-bb5f-44ae-8440-3a6de4c690d2\" xlink:show=\"new\" xlink:title=\"psysml:0089895f-bb5f-44ae-8440-3a6de4c690d2\" xlink:type=\"simple\"><polygon fill=\"#FFFFFF\" filter=\"url(#fapszu03t5dpp)\" points=\"58,170,137,170,144,192.2969,160,192.2969,160,267,58,267,58,170\" style=\"stroke: #000000; stroke-width: 1.5;\"/><line style=\"stroke: #000000; stroke-width: 1.5;\" x1=\"58\" x2=\"144\" y1=\"192.2969\" y2=\"192.2969\"/><text fill=\"#000000\" font-family=\"sans-serif\" font-size=\"14\" font-weight=\"bold\" lengthAdjust=\"spacingAndGlyphs\" textLength=\"73\" x=\"62\" y=\"184.9951\">Definitions</text></a><!--MD5=[f6df4d0ebaf0b5dfb2ced0ae5af7c670]\n",
       "cluster E4--><a href=\"psysml:e57b5549-a047-42fa-b139-1a9999eaa505\" target=\"_top\" title=\"psysml:e57b5549-a047-42fa-b139-1a9999eaa505\" xlink:actuate=\"onRequest\" xlink:href=\"psysml:e57b5549-a047-42fa-b139-1a9999eaa505\" xlink:show=\"new\" xlink:title=\"psysml:e57b5549-a047-42fa-b139-1a9999eaa505\" xlink:type=\"simple\"><polygon fill=\"#FFFFFF\" filter=\"url(#fapszu03t5dpp)\" points=\"40,49,98,49,105,71.2969,178,71.2969,178,146,40,146,40,49\" style=\"stroke: #000000; stroke-width: 1.5;\"/><line style=\"stroke: #000000; stroke-width: 1.5;\" x1=\"40\" x2=\"105\" y1=\"71.2969\" y2=\"71.2969\"/><text fill=\"#000000\" font-family=\"sans-serif\" font-size=\"14\" font-weight=\"bold\" lengthAdjust=\"spacingAndGlyphs\" textLength=\"52\" x=\"44\" y=\"63.9951\">Usages</text></a><!--MD5=[09b614a08d8cba4a07c9adeb5e0fee81]\n",
       "class E3--><a href=\"psysml:117f05b4-c909-44db-8047-1df426d26d27\" target=\"_top\" title=\"psysml:117f05b4-c909-44db-8047-1df426d26d27\" xlink:actuate=\"onRequest\" xlink:href=\"psysml:117f05b4-c909-44db-8047-1df426d26d27\" xlink:show=\"new\" xlink:title=\"psysml:117f05b4-c909-44db-8047-1df426d26d27\" xlink:type=\"simple\"><rect fill=\"#FEFECE\" filter=\"url(#fapszu03t5dpp)\" height=\"45.9375\" id=\"E3\" style=\"stroke: #A80036; stroke-width: 1.5;\" width=\"70\" x=\"74\" y=\"205\"/><text fill=\"#000000\" font-family=\"sans-serif\" font-size=\"12\" font-style=\"italic\" lengthAdjust=\"spacingAndGlyphs\" textLength=\"68\" x=\"75\" y=\"221.1387\">«part  def»</text><text fill=\"#000000\" font-family=\"sans-serif\" font-size=\"12\" lengthAdjust=\"spacingAndGlyphs\" textLength=\"45\" x=\"86.5\" y=\"235.1074\">Vehicle</text><line style=\"stroke: #A80036; stroke-width: 1.5;\" x1=\"75\" x2=\"143\" y1=\"242.9375\" y2=\"242.9375\"/></a><!--MD5=[270fce915f116d4de14055a7c1d9a0f3]\n",
       "class E5--><a href=\"psysml:e21f8a97-fb67-4292-9535-52151c9da93c\" target=\"_top\" title=\"psysml:e21f8a97-fb67-4292-9535-52151c9da93c\" xlink:actuate=\"onRequest\" xlink:href=\"psysml:e21f8a97-fb67-4292-9535-52151c9da93c\" xlink:show=\"new\" xlink:title=\"psysml:e21f8a97-fb67-4292-9535-52151c9da93c\" xlink:type=\"simple\"><rect fill=\"#FEFECE\" filter=\"url(#fapszu03t5dpp)\" height=\"45.9375\" id=\"E5\" rx=\"10\" ry=\"10\" style=\"stroke: #A80036; stroke-width: 1.5;\" width=\"106\" x=\"56\" y=\"84\"/><text fill=\"#000000\" font-family=\"sans-serif\" font-size=\"12\" font-style=\"italic\" lengthAdjust=\"spacingAndGlyphs\" textLength=\"40\" x=\"89\" y=\"100.1387\">«part»</text><text fill=\"#000000\" font-family=\"sans-serif\" font-size=\"12\" lengthAdjust=\"spacingAndGlyphs\" textLength=\"96\" x=\"59\" y=\"114.1074\">vehicle: Vehicle</text><line style=\"stroke: #A80036; stroke-width: 1.5;\" x1=\"57\" x2=\"161\" y1=\"121.9375\" y2=\"121.9375\"/></a><!--MD5=[e9be52314489bd878ff4c7144b63c9e1]\n",
       "link E5 to E3--><a href=\"psysml:763357b8-b5e0-4785-a470-e50d945081e3\" target=\"_top\" title=\"psysml:763357b8-b5e0-4785-a470-e50d945081e3\" xlink:actuate=\"onRequest\" xlink:href=\"psysml:763357b8-b5e0-4785-a470-e50d945081e3\" xlink:show=\"new\" xlink:title=\"psysml:763357b8-b5e0-4785-a470-e50d945081e3\" xlink:type=\"simple\"><path d=\"M109,130.1 C109,145.37 109,166.16 109,184.57 \" fill=\"none\" id=\"E5-&gt;E3\" style=\"stroke: #A80036; stroke-width: 1.0;\"/><polygon fill=\"#FFFFFF\" points=\"109,204.61,102,185.61,116,185.61,109,204.61\" style=\"stroke: #A80036; stroke-width: 1.0;\"/><ellipse cx=\"104\" cy=\"179.91\" fill=\"#A80036\" rx=\"2\" ry=\"2\" style=\"stroke: #A80036; stroke-width: 1.0;\"/><ellipse cx=\"114\" cy=\"179.91\" fill=\"#A80036\" rx=\"2\" ry=\"2\" style=\"stroke: #A80036; stroke-width: 1.0;\"/></a><!--MD5=[6384d73ec2c775d2ed1d5abde7f21323]\n",
       "@startuml\r\n",
       "skinparam wrapWidth 300\r\n",
       "hide circle\r\n",
       "\r\n",
       "package \"AliasImport\" as E1  [[psysml:144140e7-4c0e-44d8-912b-18808e1341b6 ]]  {\r\n",
       "package \"Definitions\" as E2  [[psysml:0089895f-bb5f-44ae-8440-3a6de4c690d2 ]]  {\r\n",
       "comp def \"Vehicle\" as E3  <<(T,blue) part  def>> [[psysml:117f05b4-c909-44db-8047-1df426d26d27 ]] {\r\n",
       "}\r\n",
       "}\r\n",
       "package \"Usages\" as E4  [[psysml:e57b5549-a047-42fa-b139-1a9999eaa505 ]]  {\r\n",
       "comp usage \"vehicle: Vehicle \" as E5  <<(T,blue) part>> [[psysml:e21f8a97-fb67-4292-9535-52151c9da93c ]] {\r\n",
       "}\r\n",
       "}\r\n",
       "}\r\n",
       "E5 - -:|> E3 [[psysml:763357b8-b5e0-4785-a470-e50d945081e3 ]] \r\n",
       "@enduml\r\n",
       "\n",
       "PlantUML version 1.2020.13(Sat Jun 13 12:26:38 UTC 2020)\n",
       "(EPL source distribution)\n",
       "Java Runtime: OpenJDK Runtime Environment\n",
       "JVM: OpenJDK 64-Bit Server VM\n",
       "Default Encoding: UTF-8\n",
       "Language: en\n",
       "Country: null\n",
       "--></g></svg>"
      ]
     },
     "execution_count": 29,
     "metadata": {},
     "output_type": "execute_result"
    }
   ],
   "source": [
    "%viz --style=\"STDCOLOR\" --view=\"MIXED\" \"AliasImport\""
   ]
  },
  {
   "cell_type": "code",
   "execution_count": 30,
   "id": "023a7111",
   "metadata": {
    "execution": {
     "iopub.execute_input": "2021-10-25T08:24:41.902305Z",
     "iopub.status.busy": "2021-10-25T08:24:41.901900Z",
     "iopub.status.idle": "2021-10-25T08:24:41.951330Z",
     "shell.execute_reply": "2021-10-25T08:24:41.950930Z"
    }
   },
   "outputs": [
    {
     "data": {
      "image/svg+xml": [
       "<?xml version=\"1.0\" encoding=\"UTF-8\" standalone=\"no\"?><svg xmlns=\"http://www.w3.org/2000/svg\" xmlns:xlink=\"http://www.w3.org/1999/xlink\" contentScriptType=\"application/ecmascript\" contentStyleType=\"text/css\" height=\"297px\" preserveAspectRatio=\"none\" style=\"width:250px;height:297px;\" version=\"1.1\" viewBox=\"0 0 250 297\" width=\"250px\" zoomAndPan=\"magnify\"><defs><filter height=\"300%\" id=\"fla043a9lz73j\" width=\"300%\" x=\"-1\" y=\"-1\"><feGaussianBlur result=\"blurOut\" stdDeviation=\"2.0\"/><feColorMatrix in=\"blurOut\" result=\"blurOut2\" type=\"matrix\" values=\"0 0 0 0 0 0 0 0 0 0 0 0 0 0 0 0 0 0 .4 0\"/><feOffset dx=\"4.0\" dy=\"4.0\" in=\"blurOut2\" result=\"blurOut3\"/><feBlend in=\"SourceGraphic\" in2=\"blurOut3\" mode=\"normal\"/></filter></defs><g><!--MD5=[fbc87193dbaf4d95561dea2c320d4a47]\n",
       "cluster E1--><a href=\"psysml:144140e7-4c0e-44d8-912b-18808e1341b6\" target=\"_top\" title=\"psysml:144140e7-4c0e-44d8-912b-18808e1341b6\" xlink:actuate=\"onRequest\" xlink:href=\"psysml:144140e7-4c0e-44d8-912b-18808e1341b6\" xlink:show=\"new\" xlink:title=\"psysml:144140e7-4c0e-44d8-912b-18808e1341b6\" xlink:type=\"simple\"><polygon fill=\"#FFFFFF\" filter=\"url(#fla043a9lz73j)\" points=\"16,6,97,6,104,28.2969,228,28.2969,228,285,16,285,16,6\" style=\"stroke: #000000; stroke-width: 1.5;\"/><line style=\"stroke: #000000; stroke-width: 1.5;\" x1=\"16\" x2=\"104\" y1=\"28.2969\" y2=\"28.2969\"/><text fill=\"#000000\" font-family=\"sans-serif\" font-size=\"14\" font-weight=\"bold\" lengthAdjust=\"spacingAndGlyphs\" textLength=\"75\" x=\"20\" y=\"20.9951\">AliasImport</text></a><!--MD5=[e4f7fae6ed58524ba242bb0b0d3be6b7]\n",
       "cluster E2--><a href=\"psysml:0089895f-bb5f-44ae-8440-3a6de4c690d2\" target=\"_top\" title=\"psysml:0089895f-bb5f-44ae-8440-3a6de4c690d2\" xlink:actuate=\"onRequest\" xlink:href=\"psysml:0089895f-bb5f-44ae-8440-3a6de4c690d2\" xlink:show=\"new\" xlink:title=\"psysml:0089895f-bb5f-44ae-8440-3a6de4c690d2\" xlink:type=\"simple\"><polygon fill=\"#FFFFFF\" filter=\"url(#fla043a9lz73j)\" points=\"67,170,146,170,153,192.2969,177,192.2969,177,261,67,261,67,170\" style=\"stroke: #000000; stroke-width: 1.5;\"/><line style=\"stroke: #000000; stroke-width: 1.5;\" x1=\"67\" x2=\"153\" y1=\"192.2969\" y2=\"192.2969\"/><text fill=\"#000000\" font-family=\"sans-serif\" font-size=\"14\" font-weight=\"bold\" lengthAdjust=\"spacingAndGlyphs\" textLength=\"73\" x=\"71\" y=\"184.9951\">Definitions</text></a><!--MD5=[f6df4d0ebaf0b5dfb2ced0ae5af7c670]\n",
       "cluster E4--><a href=\"psysml:e57b5549-a047-42fa-b139-1a9999eaa505\" target=\"_top\" title=\"psysml:e57b5549-a047-42fa-b139-1a9999eaa505\" xlink:actuate=\"onRequest\" xlink:href=\"psysml:e57b5549-a047-42fa-b139-1a9999eaa505\" xlink:show=\"new\" xlink:title=\"psysml:e57b5549-a047-42fa-b139-1a9999eaa505\" xlink:type=\"simple\"><polygon fill=\"#FFFFFF\" filter=\"url(#fla043a9lz73j)\" points=\"40,49,98,49,105,71.2969,204,71.2969,204,146,40,146,40,49\" style=\"stroke: #000000; stroke-width: 1.5;\"/><line style=\"stroke: #000000; stroke-width: 1.5;\" x1=\"40\" x2=\"105\" y1=\"71.2969\" y2=\"71.2969\"/><text fill=\"#000000\" font-family=\"sans-serif\" font-size=\"14\" font-weight=\"bold\" lengthAdjust=\"spacingAndGlyphs\" textLength=\"52\" x=\"44\" y=\"63.9951\">Usages</text></a><!--MD5=[09b614a08d8cba4a07c9adeb5e0fee81]\n",
       "class E3--><a href=\"psysml:117f05b4-c909-44db-8047-1df426d26d27\" target=\"_top\" title=\"psysml:117f05b4-c909-44db-8047-1df426d26d27\" xlink:actuate=\"onRequest\" xlink:href=\"psysml:117f05b4-c909-44db-8047-1df426d26d27\" xlink:show=\"new\" xlink:title=\"psysml:117f05b4-c909-44db-8047-1df426d26d27\" xlink:type=\"simple\"><rect fill=\"#FEFECE\" filter=\"url(#fla043a9lz73j)\" height=\"40\" id=\"E3\" style=\"stroke: #A80036; stroke-width: 1.5;\" width=\"77\" x=\"83.5\" y=\"205\"/><ellipse cx=\"98.5\" cy=\"221\" fill=\"#008000\" rx=\"11\" ry=\"11\" style=\"stroke: #A80036; stroke-width: 1.0;\"/><path d=\"M95.375,226 L95.375,215.4063 L98.6094,215.4063 Q100.5156,215.4063 101.4219,216.1563 Q102.3438,216.9063 102.3438,218.0781 Q102.3438,218.7656 101.9531,219.4219 Q101.5781,220.0781 100.8594,220.375 Q101.7188,220.75 102.2344,221.4375 Q102.75,222.125 102.75,222.9375 Q102.75,224.3125 101.7188,225.1563 Q100.7031,226 98.5938,226 L95.375,226 Z M97.2969,219.6406 L98.4531,219.6406 Q99.5781,219.6406 99.9844,219.2656 Q100.4063,218.875 100.4063,218.25 Q100.4063,217.6719 99.9844,217.3125 Q99.5625,216.9531 98.625,216.9531 L97.2969,216.9531 L97.2969,219.6406 Z M97.2969,224.4219 L98.7969,224.4219 Q99.7031,224.4219 100.2344,224.0313 Q100.7656,223.6406 100.7656,222.8906 Q100.7656,222.125 100.2656,221.6563 Q99.7656,221.1719 98.5,221.1719 L97.2969,221.1719 L97.2969,224.4219 Z \"/><text fill=\"#000000\" font-family=\"sans-serif\" font-size=\"12\" lengthAdjust=\"spacingAndGlyphs\" textLength=\"45\" x=\"112.5\" y=\"225.1543\">Vehicle</text><line style=\"stroke: #A80036; stroke-width: 1.5;\" x1=\"84.5\" x2=\"159.5\" y1=\"237\" y2=\"237\"/></a><!--MD5=[270fce915f116d4de14055a7c1d9a0f3]\n",
       "class E5--><a href=\"psysml:e21f8a97-fb67-4292-9535-52151c9da93c\" target=\"_top\" title=\"psysml:e21f8a97-fb67-4292-9535-52151c9da93c\" xlink:actuate=\"onRequest\" xlink:href=\"psysml:e21f8a97-fb67-4292-9535-52151c9da93c\" xlink:show=\"new\" xlink:title=\"psysml:e21f8a97-fb67-4292-9535-52151c9da93c\" xlink:type=\"simple\"><rect fill=\"#FEFECE\" filter=\"url(#fla043a9lz73j)\" height=\"45.9375\" id=\"E5\" rx=\"10\" ry=\"10\" style=\"stroke: #A80036; stroke-width: 1.5;\" width=\"132\" x=\"56\" y=\"84\"/><ellipse cx=\"71\" cy=\"102.9688\" fill=\"#32CD32\" rx=\"11\" ry=\"11\" style=\"stroke: #A80036; stroke-width: 1.0;\"/><path d=\"M67.8125,107.9688 L67.8125,97.375 L71.4219,97.375 Q72.6406,97.375 73.4375,97.8125 Q74.2344,98.2344 74.6094,98.9375 Q75,99.6406 75,100.4844 Q75,101.3281 74.625,102.0156 Q74.2656,102.7031 73.4688,103.125 Q72.6875,103.5313 71.5,103.5313 L69.7656,103.5313 L69.7656,107.9688 L67.8125,107.9688 Z M69.7656,101.9375 L71.375,101.9375 Q72.1875,101.9375 72.6094,101.5313 Q73.0313,101.125 73.0313,100.4844 Q73.0313,99.8594 72.6094,99.4531 Q72.1875,99.0469 71.3906,99.0469 L69.7656,99.0469 L69.7656,101.9375 Z \"/><text fill=\"#000000\" font-family=\"sans-serif\" font-size=\"12\" font-style=\"italic\" lengthAdjust=\"spacingAndGlyphs\" textLength=\"40\" x=\"115\" y=\"100.1387\">«part»</text><text fill=\"#000000\" font-family=\"sans-serif\" font-size=\"12\" lengthAdjust=\"spacingAndGlyphs\" textLength=\"96\" x=\"85\" y=\"114.1074\">vehicle: Vehicle</text><line style=\"stroke: #A80036; stroke-width: 1.5;\" x1=\"57\" x2=\"187\" y1=\"121.9375\" y2=\"121.9375\"/></a><!--MD5=[e9be52314489bd878ff4c7144b63c9e1]\n",
       "link E5 to E3--><a href=\"psysml:763357b8-b5e0-4785-a470-e50d945081e3\" target=\"_top\" title=\"psysml:763357b8-b5e0-4785-a470-e50d945081e3\" xlink:actuate=\"onRequest\" xlink:href=\"psysml:763357b8-b5e0-4785-a470-e50d945081e3\" xlink:show=\"new\" xlink:title=\"psysml:763357b8-b5e0-4785-a470-e50d945081e3\" xlink:type=\"simple\"><path d=\"M122,130.09 C122,145.42 122,166.27 122,184.42 \" fill=\"none\" id=\"E5-&gt;E3\" style=\"stroke: #A80036; stroke-width: 1.0;\"/><polygon fill=\"#FFFFFF\" points=\"122,204.69,115,185.69,129,185.69,122,204.69\" style=\"stroke: #A80036; stroke-width: 1.0;\"/><ellipse cx=\"117\" cy=\"179.99\" fill=\"#A80036\" rx=\"2\" ry=\"2\" style=\"stroke: #A80036; stroke-width: 1.0;\"/><ellipse cx=\"127\" cy=\"179.99\" fill=\"#A80036\" rx=\"2\" ry=\"2\" style=\"stroke: #A80036; stroke-width: 1.0;\"/></a><!--MD5=[0fb141a3e04aa682ace969cc59904bbd]\n",
       "@startuml\r\n",
       " \r\n",
       "package \"AliasImport\" as E1  [[psysml:144140e7-4c0e-44d8-912b-18808e1341b6 ]]  {\r\n",
       "package \"Definitions\" as E2  [[psysml:0089895f-bb5f-44ae-8440-3a6de4c690d2 ]]  {\r\n",
       "comp def \"Vehicle\" as E3 << << (B,green) >> [[psysml:117f05b4-c909-44db-8047-1df426d26d27 ]] {\r\n",
       "}\r\n",
       "}\r\n",
       "package \"Usages\" as E4  [[psysml:e57b5549-a047-42fa-b139-1a9999eaa505 ]]  {\r\n",
       "comp usage \"vehicle: Vehicle \" as E5 << << (P,limegreen) part>> [[psysml:e21f8a97-fb67-4292-9535-52151c9da93c ]] {\r\n",
       "}\r\n",
       "}\r\n",
       "}\r\n",
       "E5 - -:|> E3 [[psysml:763357b8-b5e0-4785-a470-e50d945081e3 ]] \r\n",
       "@enduml\r\n",
       "\n",
       "PlantUML version 1.2020.13(Sat Jun 13 12:26:38 UTC 2020)\n",
       "(EPL source distribution)\n",
       "Java Runtime: OpenJDK Runtime Environment\n",
       "JVM: OpenJDK 64-Bit Server VM\n",
       "Default Encoding: UTF-8\n",
       "Language: en\n",
       "Country: null\n",
       "--></g></svg>"
      ]
     },
     "execution_count": 30,
     "metadata": {},
     "output_type": "execute_result"
    }
   ],
   "source": [
    "%viz --style=\"PLANTUML\" --view=\"Default\" \"AliasImport\""
   ]
  },
  {
   "cell_type": "code",
   "execution_count": 31,
   "id": "19614380",
   "metadata": {
    "execution": {
     "iopub.execute_input": "2021-10-25T08:24:42.000847Z",
     "iopub.status.busy": "2021-10-25T08:24:42.000417Z",
     "iopub.status.idle": "2021-10-25T08:24:42.030072Z",
     "shell.execute_reply": "2021-10-25T08:24:42.028230Z"
    }
   },
   "outputs": [
    {
     "data": {
      "image/svg+xml": [
       "<?xml version=\"1.0\" encoding=\"UTF-8\" standalone=\"no\"?><svg xmlns=\"http://www.w3.org/2000/svg\" xmlns:xlink=\"http://www.w3.org/1999/xlink\" contentScriptType=\"application/ecmascript\" contentStyleType=\"text/css\" height=\"297px\" preserveAspectRatio=\"none\" style=\"width:250px;height:297px;\" version=\"1.1\" viewBox=\"0 0 250 297\" width=\"250px\" zoomAndPan=\"magnify\"><defs><filter height=\"300%\" id=\"fla043a9lz73j\" width=\"300%\" x=\"-1\" y=\"-1\"><feGaussianBlur result=\"blurOut\" stdDeviation=\"2.0\"/><feColorMatrix in=\"blurOut\" result=\"blurOut2\" type=\"matrix\" values=\"0 0 0 0 0 0 0 0 0 0 0 0 0 0 0 0 0 0 .4 0\"/><feOffset dx=\"4.0\" dy=\"4.0\" in=\"blurOut2\" result=\"blurOut3\"/><feBlend in=\"SourceGraphic\" in2=\"blurOut3\" mode=\"normal\"/></filter></defs><g><!--MD5=[fbc87193dbaf4d95561dea2c320d4a47]\n",
       "cluster E1--><a href=\"psysml:144140e7-4c0e-44d8-912b-18808e1341b6\" target=\"_top\" title=\"psysml:144140e7-4c0e-44d8-912b-18808e1341b6\" xlink:actuate=\"onRequest\" xlink:href=\"psysml:144140e7-4c0e-44d8-912b-18808e1341b6\" xlink:show=\"new\" xlink:title=\"psysml:144140e7-4c0e-44d8-912b-18808e1341b6\" xlink:type=\"simple\"><polygon fill=\"#FFFFFF\" filter=\"url(#fla043a9lz73j)\" points=\"16,6,97,6,104,28.2969,228,28.2969,228,285,16,285,16,6\" style=\"stroke: #000000; stroke-width: 1.5;\"/><line style=\"stroke: #000000; stroke-width: 1.5;\" x1=\"16\" x2=\"104\" y1=\"28.2969\" y2=\"28.2969\"/><text fill=\"#000000\" font-family=\"sans-serif\" font-size=\"14\" font-weight=\"bold\" lengthAdjust=\"spacingAndGlyphs\" textLength=\"75\" x=\"20\" y=\"20.9951\">AliasImport</text></a><!--MD5=[e4f7fae6ed58524ba242bb0b0d3be6b7]\n",
       "cluster E2--><a href=\"psysml:0089895f-bb5f-44ae-8440-3a6de4c690d2\" target=\"_top\" title=\"psysml:0089895f-bb5f-44ae-8440-3a6de4c690d2\" xlink:actuate=\"onRequest\" xlink:href=\"psysml:0089895f-bb5f-44ae-8440-3a6de4c690d2\" xlink:show=\"new\" xlink:title=\"psysml:0089895f-bb5f-44ae-8440-3a6de4c690d2\" xlink:type=\"simple\"><polygon fill=\"#FFFFFF\" filter=\"url(#fla043a9lz73j)\" points=\"67,170,146,170,153,192.2969,177,192.2969,177,261,67,261,67,170\" style=\"stroke: #000000; stroke-width: 1.5;\"/><line style=\"stroke: #000000; stroke-width: 1.5;\" x1=\"67\" x2=\"153\" y1=\"192.2969\" y2=\"192.2969\"/><text fill=\"#000000\" font-family=\"sans-serif\" font-size=\"14\" font-weight=\"bold\" lengthAdjust=\"spacingAndGlyphs\" textLength=\"73\" x=\"71\" y=\"184.9951\">Definitions</text></a><!--MD5=[f6df4d0ebaf0b5dfb2ced0ae5af7c670]\n",
       "cluster E4--><a href=\"psysml:e57b5549-a047-42fa-b139-1a9999eaa505\" target=\"_top\" title=\"psysml:e57b5549-a047-42fa-b139-1a9999eaa505\" xlink:actuate=\"onRequest\" xlink:href=\"psysml:e57b5549-a047-42fa-b139-1a9999eaa505\" xlink:show=\"new\" xlink:title=\"psysml:e57b5549-a047-42fa-b139-1a9999eaa505\" xlink:type=\"simple\"><polygon fill=\"#FFFFFF\" filter=\"url(#fla043a9lz73j)\" points=\"40,49,98,49,105,71.2969,204,71.2969,204,146,40,146,40,49\" style=\"stroke: #000000; stroke-width: 1.5;\"/><line style=\"stroke: #000000; stroke-width: 1.5;\" x1=\"40\" x2=\"105\" y1=\"71.2969\" y2=\"71.2969\"/><text fill=\"#000000\" font-family=\"sans-serif\" font-size=\"14\" font-weight=\"bold\" lengthAdjust=\"spacingAndGlyphs\" textLength=\"52\" x=\"44\" y=\"63.9951\">Usages</text></a><!--MD5=[09b614a08d8cba4a07c9adeb5e0fee81]\n",
       "class E3--><a href=\"psysml:117f05b4-c909-44db-8047-1df426d26d27\" target=\"_top\" title=\"psysml:117f05b4-c909-44db-8047-1df426d26d27\" xlink:actuate=\"onRequest\" xlink:href=\"psysml:117f05b4-c909-44db-8047-1df426d26d27\" xlink:show=\"new\" xlink:title=\"psysml:117f05b4-c909-44db-8047-1df426d26d27\" xlink:type=\"simple\"><rect fill=\"#FEFECE\" filter=\"url(#fla043a9lz73j)\" height=\"40\" id=\"E3\" style=\"stroke: #A80036; stroke-width: 1.5;\" width=\"77\" x=\"83.5\" y=\"205\"/><ellipse cx=\"98.5\" cy=\"221\" fill=\"#008000\" rx=\"11\" ry=\"11\" style=\"stroke: #A80036; stroke-width: 1.0;\"/><path d=\"M95.375,226 L95.375,215.4063 L98.6094,215.4063 Q100.5156,215.4063 101.4219,216.1563 Q102.3438,216.9063 102.3438,218.0781 Q102.3438,218.7656 101.9531,219.4219 Q101.5781,220.0781 100.8594,220.375 Q101.7188,220.75 102.2344,221.4375 Q102.75,222.125 102.75,222.9375 Q102.75,224.3125 101.7188,225.1563 Q100.7031,226 98.5938,226 L95.375,226 Z M97.2969,219.6406 L98.4531,219.6406 Q99.5781,219.6406 99.9844,219.2656 Q100.4063,218.875 100.4063,218.25 Q100.4063,217.6719 99.9844,217.3125 Q99.5625,216.9531 98.625,216.9531 L97.2969,216.9531 L97.2969,219.6406 Z M97.2969,224.4219 L98.7969,224.4219 Q99.7031,224.4219 100.2344,224.0313 Q100.7656,223.6406 100.7656,222.8906 Q100.7656,222.125 100.2656,221.6563 Q99.7656,221.1719 98.5,221.1719 L97.2969,221.1719 L97.2969,224.4219 Z \"/><text fill=\"#000000\" font-family=\"sans-serif\" font-size=\"12\" lengthAdjust=\"spacingAndGlyphs\" textLength=\"45\" x=\"112.5\" y=\"225.1543\">Vehicle</text><line style=\"stroke: #A80036; stroke-width: 1.5;\" x1=\"84.5\" x2=\"159.5\" y1=\"237\" y2=\"237\"/></a><!--MD5=[270fce915f116d4de14055a7c1d9a0f3]\n",
       "class E5--><a href=\"psysml:e21f8a97-fb67-4292-9535-52151c9da93c\" target=\"_top\" title=\"psysml:e21f8a97-fb67-4292-9535-52151c9da93c\" xlink:actuate=\"onRequest\" xlink:href=\"psysml:e21f8a97-fb67-4292-9535-52151c9da93c\" xlink:show=\"new\" xlink:title=\"psysml:e21f8a97-fb67-4292-9535-52151c9da93c\" xlink:type=\"simple\"><rect fill=\"#FEFECE\" filter=\"url(#fla043a9lz73j)\" height=\"45.9375\" id=\"E5\" rx=\"10\" ry=\"10\" style=\"stroke: #A80036; stroke-width: 1.5;\" width=\"132\" x=\"56\" y=\"84\"/><ellipse cx=\"71\" cy=\"102.9688\" fill=\"#32CD32\" rx=\"11\" ry=\"11\" style=\"stroke: #A80036; stroke-width: 1.0;\"/><path d=\"M67.8125,107.9688 L67.8125,97.375 L71.4219,97.375 Q72.6406,97.375 73.4375,97.8125 Q74.2344,98.2344 74.6094,98.9375 Q75,99.6406 75,100.4844 Q75,101.3281 74.625,102.0156 Q74.2656,102.7031 73.4688,103.125 Q72.6875,103.5313 71.5,103.5313 L69.7656,103.5313 L69.7656,107.9688 L67.8125,107.9688 Z M69.7656,101.9375 L71.375,101.9375 Q72.1875,101.9375 72.6094,101.5313 Q73.0313,101.125 73.0313,100.4844 Q73.0313,99.8594 72.6094,99.4531 Q72.1875,99.0469 71.3906,99.0469 L69.7656,99.0469 L69.7656,101.9375 Z \"/><text fill=\"#000000\" font-family=\"sans-serif\" font-size=\"12\" font-style=\"italic\" lengthAdjust=\"spacingAndGlyphs\" textLength=\"40\" x=\"115\" y=\"100.1387\">«part»</text><text fill=\"#000000\" font-family=\"sans-serif\" font-size=\"12\" lengthAdjust=\"spacingAndGlyphs\" textLength=\"96\" x=\"85\" y=\"114.1074\">vehicle: Vehicle</text><line style=\"stroke: #A80036; stroke-width: 1.5;\" x1=\"57\" x2=\"187\" y1=\"121.9375\" y2=\"121.9375\"/></a><!--MD5=[e9be52314489bd878ff4c7144b63c9e1]\n",
       "link E5 to E3--><a href=\"psysml:763357b8-b5e0-4785-a470-e50d945081e3\" target=\"_top\" title=\"psysml:763357b8-b5e0-4785-a470-e50d945081e3\" xlink:actuate=\"onRequest\" xlink:href=\"psysml:763357b8-b5e0-4785-a470-e50d945081e3\" xlink:show=\"new\" xlink:title=\"psysml:763357b8-b5e0-4785-a470-e50d945081e3\" xlink:type=\"simple\"><path d=\"M122,130.09 C122,145.42 122,166.27 122,184.42 \" fill=\"none\" id=\"E5-&gt;E3\" style=\"stroke: #A80036; stroke-width: 1.0;\"/><polygon fill=\"#FFFFFF\" points=\"122,204.69,115,185.69,129,185.69,122,204.69\" style=\"stroke: #A80036; stroke-width: 1.0;\"/><ellipse cx=\"117\" cy=\"179.99\" fill=\"#A80036\" rx=\"2\" ry=\"2\" style=\"stroke: #A80036; stroke-width: 1.0;\"/><ellipse cx=\"127\" cy=\"179.99\" fill=\"#A80036\" rx=\"2\" ry=\"2\" style=\"stroke: #A80036; stroke-width: 1.0;\"/></a><!--MD5=[0fb141a3e04aa682ace969cc59904bbd]\n",
       "@startuml\r\n",
       " \r\n",
       "package \"AliasImport\" as E1  [[psysml:144140e7-4c0e-44d8-912b-18808e1341b6 ]]  {\r\n",
       "package \"Definitions\" as E2  [[psysml:0089895f-bb5f-44ae-8440-3a6de4c690d2 ]]  {\r\n",
       "comp def \"Vehicle\" as E3 << << (B,green) >> [[psysml:117f05b4-c909-44db-8047-1df426d26d27 ]] {\r\n",
       "}\r\n",
       "}\r\n",
       "package \"Usages\" as E4  [[psysml:e57b5549-a047-42fa-b139-1a9999eaa505 ]]  {\r\n",
       "comp usage \"vehicle: Vehicle \" as E5 << << (P,limegreen) part>> [[psysml:e21f8a97-fb67-4292-9535-52151c9da93c ]] {\r\n",
       "}\r\n",
       "}\r\n",
       "}\r\n",
       "E5 - -:|> E3 [[psysml:763357b8-b5e0-4785-a470-e50d945081e3 ]] \r\n",
       "@enduml\r\n",
       "\n",
       "PlantUML version 1.2020.13(Sat Jun 13 12:26:38 UTC 2020)\n",
       "(EPL source distribution)\n",
       "Java Runtime: OpenJDK Runtime Environment\n",
       "JVM: OpenJDK 64-Bit Server VM\n",
       "Default Encoding: UTF-8\n",
       "Language: en\n",
       "Country: null\n",
       "--></g></svg>"
      ]
     },
     "execution_count": 31,
     "metadata": {},
     "output_type": "execute_result"
    }
   ],
   "source": [
    "%viz --style=\"PLANTUML\" --view=\"Tree\" \"AliasImport\""
   ]
  },
  {
   "cell_type": "code",
   "execution_count": 32,
   "id": "783674f6",
   "metadata": {
    "execution": {
     "iopub.execute_input": "2021-10-25T08:24:42.079509Z",
     "iopub.status.busy": "2021-10-25T08:24:42.079058Z",
     "iopub.status.idle": "2021-10-25T08:24:42.175776Z",
     "shell.execute_reply": "2021-10-25T08:24:42.173934Z"
    }
   },
   "outputs": [
    {
     "data": {
      "image/svg+xml": [
       "<?xml version=\"1.0\" encoding=\"UTF-8\" standalone=\"no\"?><svg xmlns=\"http://www.w3.org/2000/svg\" xmlns:xlink=\"http://www.w3.org/1999/xlink\" contentScriptType=\"application/ecmascript\" contentStyleType=\"text/css\" height=\"300px\" preserveAspectRatio=\"none\" style=\"width:603px;height:300px;background:#000000;\" version=\"1.1\" viewBox=\"0 0 603 300\" width=\"603px\" zoomAndPan=\"magnify\"><defs/><g><rect fill=\"#190A25\" height=\"1\" style=\"stroke: #190A25; stroke-width: 1.0;\" width=\"1\" x=\"0\" y=\"0\"/><rect fill=\"#FFFFFF\" height=\"202.8012\" style=\"stroke: #FFFFFF; stroke-width: 1.0;\" width=\"602\" x=\"0\" y=\"0\"/><text fill=\"#000000\" font-family=\"sans-serif\" font-size=\"12\" font-weight=\"bold\" lengthAdjust=\"spacingAndGlyphs\" textLength=\"139\" x=\"5\" y=\"16.1387\">Welcome to PlantUML!</text><text fill=\"#000000\" font-family=\"sans-serif\" font-size=\"12\" lengthAdjust=\"spacingAndGlyphs\" textLength=\"0\" x=\"9\" y=\"30.1074\"/><text fill=\"#000000\" font-family=\"sans-serif\" font-size=\"12\" lengthAdjust=\"spacingAndGlyphs\" textLength=\"293\" x=\"5\" y=\"44.0762\">If you use this software, you accept its license.</text><text fill=\"#000000\" font-family=\"sans-serif\" font-size=\"12\" lengthAdjust=\"spacingAndGlyphs\" textLength=\"107\" x=\"5\" y=\"58.0449\">(details by typing</text><text fill=\"#000000\" font-family=\"monospace\" font-size=\"12\" lengthAdjust=\"spacingAndGlyphs\" textLength=\"42\" x=\"116\" y=\"58.595\">license</text><text fill=\"#000000\" font-family=\"sans-serif\" font-size=\"12\" lengthAdjust=\"spacingAndGlyphs\" textLength=\"56\" x=\"162\" y=\"58.0449\">keyword)</text><text fill=\"#000000\" font-family=\"sans-serif\" font-size=\"12\" lengthAdjust=\"spacingAndGlyphs\" textLength=\"0\" x=\"9\" y=\"72.0137\"/><text fill=\"#000000\" font-family=\"sans-serif\" font-size=\"12\" lengthAdjust=\"spacingAndGlyphs\" textLength=\"283\" x=\"5\" y=\"85.9824\">You can start with a simple UML Diagram like:</text><text fill=\"#000000\" font-family=\"sans-serif\" font-size=\"12\" lengthAdjust=\"spacingAndGlyphs\" textLength=\"0\" x=\"9\" y=\"99.9512\"/><text fill=\"#000000\" font-family=\"monospace\" font-size=\"12\" lengthAdjust=\"spacingAndGlyphs\" textLength=\"102\" x=\"5\" y=\"113.0893\">Bob-&gt;Alice: Hello</text><text fill=\"#000000\" font-family=\"sans-serif\" font-size=\"12\" lengthAdjust=\"spacingAndGlyphs\" textLength=\"0\" x=\"9\" y=\"126.508\"/><text fill=\"#000000\" font-family=\"sans-serif\" font-size=\"12\" lengthAdjust=\"spacingAndGlyphs\" textLength=\"14\" x=\"5\" y=\"140.4768\">Or</text><text fill=\"#000000\" font-family=\"sans-serif\" font-size=\"12\" lengthAdjust=\"spacingAndGlyphs\" textLength=\"0\" x=\"9\" y=\"154.4455\"/><text fill=\"#000000\" font-family=\"monospace\" font-size=\"12\" lengthAdjust=\"spacingAndGlyphs\" textLength=\"78\" x=\"5\" y=\"167.5837\">class Example</text><text fill=\"#000000\" font-family=\"sans-serif\" font-size=\"12\" lengthAdjust=\"spacingAndGlyphs\" textLength=\"0\" x=\"9\" y=\"181.0023\"/><text fill=\"#000000\" font-family=\"sans-serif\" font-size=\"12\" lengthAdjust=\"spacingAndGlyphs\" textLength=\"349\" x=\"5\" y=\"194.9711\">You will find more information about PlantUML syntax on</text><text fill=\"#000000\" font-family=\"sans-serif\" font-size=\"12\" lengthAdjust=\"spacingAndGlyphs\" text-decoration=\"underline\" textLength=\"129\" x=\"358\" y=\"194.9711\">https://plantuml.com</text><image height=\"71\" width=\"80\" x=\"516\" xlink:href=\"data:image/png;base64,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\" y=\"6\"/><rect fill=\"#000000\" height=\"96.4844\" style=\"stroke: #000000; stroke-width: 1.0;\" width=\"602\" x=\"0\" y=\"202.8012\"/><rect fill=\"#33FF02\" height=\"21.2969\" style=\"stroke: #33FF02; stroke-width: 1.0;\" width=\"145\" x=\"5\" y=\"207.8012\"/><text fill=\"#000000\" font-family=\"sans-serif\" font-size=\"14\" font-weight=\"bold\" lengthAdjust=\"spacingAndGlyphs\" textLength=\"143\" x=\"6\" y=\"222.8012\">[From string (line 2) ]</text><text fill=\"#33FF02\" font-family=\"sans-serif\" font-size=\"14\" font-weight=\"bold\" lengthAdjust=\"spacingAndGlyphs\" textLength=\"0\" x=\"9\" y=\"243.0981\"/><text fill=\"#33FF02\" font-family=\"sans-serif\" font-size=\"14\" font-weight=\"bold\" lengthAdjust=\"spacingAndGlyphs\" textLength=\"70\" x=\"5\" y=\"259.3949\">@startuml</text><text fill=\"#33FF02\" font-family=\"sans-serif\" font-size=\"14\" font-weight=\"bold\" lengthAdjust=\"spacingAndGlyphs\" textLength=\"0\" x=\"9\" y=\"275.6918\"/><text fill=\"#FF0000\" font-family=\"sans-serif\" font-size=\"14\" font-weight=\"bold\" lengthAdjust=\"spacingAndGlyphs\" textLength=\"124\" x=\"9\" y=\"291.9887\">Empty description</text><!--MD5=[f59edd8218d337f74d0c332fc6737304]\n",
       "@startuml\r\n",
       " \r\n",
       "@enduml\r\n",
       "\n",
       "PlantUML version 1.2020.13(Sat Jun 13 12:26:38 UTC 2020)\n",
       "(EPL source distribution)\n",
       "Java Runtime: OpenJDK Runtime Environment\n",
       "JVM: OpenJDK 64-Bit Server VM\n",
       "Default Encoding: UTF-8\n",
       "Language: en\n",
       "Country: null\n",
       "--></g></svg>"
      ]
     },
     "execution_count": 32,
     "metadata": {},
     "output_type": "execute_result"
    }
   ],
   "source": [
    "%viz --style=\"PLANTUML\" --view=\"State\" \"AliasImport\""
   ]
  },
  {
   "cell_type": "code",
   "execution_count": 33,
   "id": "44bed2aa",
   "metadata": {
    "execution": {
     "iopub.execute_input": "2021-10-25T08:24:42.224598Z",
     "iopub.status.busy": "2021-10-25T08:24:42.224163Z",
     "iopub.status.idle": "2021-10-25T08:24:42.250472Z",
     "shell.execute_reply": "2021-10-25T08:24:42.248692Z"
    }
   },
   "outputs": [
    {
     "data": {
      "image/svg+xml": [
       "<?xml version=\"1.0\" encoding=\"UTF-8\" standalone=\"no\"?><svg xmlns=\"http://www.w3.org/2000/svg\" xmlns:xlink=\"http://www.w3.org/1999/xlink\" contentScriptType=\"application/ecmascript\" contentStyleType=\"text/css\" height=\"176px\" preserveAspectRatio=\"none\" style=\"width:507px;height:176px;\" version=\"1.1\" viewBox=\"0 0 507 176\" width=\"507px\" zoomAndPan=\"magnify\"><defs><filter height=\"300%\" id=\"f1qp7ux4wtmkfj\" width=\"300%\" x=\"-1\" y=\"-1\"><feGaussianBlur result=\"blurOut\" stdDeviation=\"2.0\"/><feColorMatrix in=\"blurOut\" result=\"blurOut2\" type=\"matrix\" values=\"0 0 0 0 0 0 0 0 0 0 0 0 0 0 0 0 0 0 .4 0\"/><feOffset dx=\"4.0\" dy=\"4.0\" in=\"blurOut2\" result=\"blurOut3\"/><feBlend in=\"SourceGraphic\" in2=\"blurOut3\" mode=\"normal\"/></filter></defs><g><!--MD5=[fbc87193dbaf4d95561dea2c320d4a47]\n",
       "cluster E1--><a href=\"psysml:144140e7-4c0e-44d8-912b-18808e1341b6\" target=\"_top\" title=\"psysml:144140e7-4c0e-44d8-912b-18808e1341b6\" xlink:actuate=\"onRequest\" xlink:href=\"psysml:144140e7-4c0e-44d8-912b-18808e1341b6\" xlink:show=\"new\" xlink:title=\"psysml:144140e7-4c0e-44d8-912b-18808e1341b6\" xlink:type=\"simple\"><polygon fill=\"#FFFFFF\" filter=\"url(#f1qp7ux4wtmkfj)\" points=\"16,6,97,6,104,28.2969,485,28.2969,485,164,16,164,16,6\" style=\"stroke: #000000; stroke-width: 1.5;\"/><line style=\"stroke: #000000; stroke-width: 1.5;\" x1=\"16\" x2=\"104\" y1=\"28.2969\" y2=\"28.2969\"/><text fill=\"#000000\" font-family=\"sans-serif\" font-size=\"14\" font-weight=\"bold\" lengthAdjust=\"spacingAndGlyphs\" textLength=\"75\" x=\"20\" y=\"20.9951\">AliasImport</text></a><!--MD5=[e4f7fae6ed58524ba242bb0b0d3be6b7]\n",
       "cluster E2--><a href=\"psysml:0089895f-bb5f-44ae-8440-3a6de4c690d2\" target=\"_top\" title=\"psysml:0089895f-bb5f-44ae-8440-3a6de4c690d2\" xlink:actuate=\"onRequest\" xlink:href=\"psysml:0089895f-bb5f-44ae-8440-3a6de4c690d2\" xlink:show=\"new\" xlink:title=\"psysml:0089895f-bb5f-44ae-8440-3a6de4c690d2\" xlink:type=\"simple\"><polygon fill=\"#FFFFFF\" filter=\"url(#f1qp7ux4wtmkfj)\" points=\"230,49,309,49,316,71.2969,461,71.2969,461,140,230,140,230,49\" style=\"stroke: #000000; stroke-width: 1.5;\"/><line style=\"stroke: #000000; stroke-width: 1.5;\" x1=\"230\" x2=\"316\" y1=\"71.2969\" y2=\"71.2969\"/><text fill=\"#000000\" font-family=\"sans-serif\" font-size=\"14\" font-weight=\"bold\" lengthAdjust=\"spacingAndGlyphs\" textLength=\"73\" x=\"234\" y=\"63.9951\">Definitions</text></a><!--MD5=[de5ec2e2e8f62f467e546659f5068c88]\n",
       "cluster E5--><a href=\"psysml:e57b5549-a047-42fa-b139-1a9999eaa505\" target=\"_top\" title=\"psysml:e57b5549-a047-42fa-b139-1a9999eaa505\" xlink:actuate=\"onRequest\" xlink:href=\"psysml:e57b5549-a047-42fa-b139-1a9999eaa505\" xlink:show=\"new\" xlink:title=\"psysml:e57b5549-a047-42fa-b139-1a9999eaa505\" xlink:type=\"simple\"><polygon fill=\"#FFFFFF\" filter=\"url(#f1qp7ux4wtmkfj)\" points=\"40,49,98,49,105,71.2969,206,71.2969,206,140,40,140,40,49\" style=\"stroke: #000000; stroke-width: 1.5;\"/><line style=\"stroke: #000000; stroke-width: 1.5;\" x1=\"40\" x2=\"105\" y1=\"71.2969\" y2=\"71.2969\"/><text fill=\"#000000\" font-family=\"sans-serif\" font-size=\"14\" font-weight=\"bold\" lengthAdjust=\"spacingAndGlyphs\" textLength=\"52\" x=\"44\" y=\"63.9951\">Usages</text></a><g id=\"E1.E2.E3\"><a href=\"psysml:117f05b4-c909-44db-8047-1df426d26d27\" target=\"_top\" title=\"psysml:117f05b4-c909-44db-8047-1df426d26d27\" xlink:actuate=\"onRequest\" xlink:href=\"psysml:117f05b4-c909-44db-8047-1df426d26d27\" xlink:show=\"new\" xlink:title=\"psysml:117f05b4-c909-44db-8047-1df426d26d27\" xlink:type=\"simple\"><rect fill=\"#FEFECE\" filter=\"url(#f1qp7ux4wtmkfj)\" height=\"40\" id=\"E3\" style=\"stroke: #A80036; stroke-width: 1.5;\" width=\"82\" x=\"363\" y=\"84\"/><ellipse cx=\"380.25\" cy=\"100\" fill=\"#008000\" rx=\"11\" ry=\"11\" style=\"stroke: #A80036; stroke-width: 1.0;\"/><path d=\"M377.125,105 L377.125,94.4063 L380.3594,94.4063 Q382.2656,94.4063 383.1719,95.1563 Q384.0938,95.9063 384.0938,97.0781 Q384.0938,97.7656 383.7031,98.4219 Q383.3281,99.0781 382.6094,99.375 Q383.4688,99.75 383.9844,100.4375 Q384.5,101.125 384.5,101.9375 Q384.5,103.3125 383.4688,104.1563 Q382.4531,105 380.3438,105 L377.125,105 Z M379.0469,98.6406 L380.2031,98.6406 Q381.3281,98.6406 381.7344,98.2656 Q382.1563,97.875 382.1563,97.25 Q382.1563,96.6719 381.7344,96.3125 Q381.3125,95.9531 380.375,95.9531 L379.0469,95.9531 L379.0469,98.6406 Z M379.0469,103.4219 L380.5469,103.4219 Q381.4531,103.4219 381.9844,103.0313 Q382.5156,102.6406 382.5156,101.8906 Q382.5156,101.125 382.0156,100.6563 Q381.5156,100.1719 380.25,100.1719 L379.0469,100.1719 L379.0469,103.4219 Z \"/><text fill=\"#000000\" font-family=\"sans-serif\" font-size=\"12\" lengthAdjust=\"spacingAndGlyphs\" textLength=\"45\" x=\"394.75\" y=\"104.1543\">Vehicle</text></a></g><g id=\"E1.E2.E4\"><a href=\"psysml:117f05b4-c909-44db-8047-1df426d26d27\" target=\"_top\" title=\"psysml:117f05b4-c909-44db-8047-1df426d26d27\" xlink:actuate=\"onRequest\" xlink:href=\"psysml:117f05b4-c909-44db-8047-1df426d26d27\" xlink:show=\"new\" xlink:title=\"psysml:117f05b4-c909-44db-8047-1df426d26d27\" xlink:type=\"simple\"><rect fill=\"#FEFECE\" filter=\"url(#f1qp7ux4wtmkfj)\" height=\"40\" id=\"E4\" style=\"stroke: #A80036; stroke-width: 1.5;\" width=\"82\" x=\"246\" y=\"84\"/><ellipse cx=\"263.25\" cy=\"100\" fill=\"#008000\" rx=\"11\" ry=\"11\" style=\"stroke: #A80036; stroke-width: 1.0;\"/><path d=\"M260.125,105 L260.125,94.4063 L263.3594,94.4063 Q265.2656,94.4063 266.1719,95.1563 Q267.0938,95.9063 267.0938,97.0781 Q267.0938,97.7656 266.7031,98.4219 Q266.3281,99.0781 265.6094,99.375 Q266.4688,99.75 266.9844,100.4375 Q267.5,101.125 267.5,101.9375 Q267.5,103.3125 266.4688,104.1563 Q265.4531,105 263.3438,105 L260.125,105 Z M262.0469,98.6406 L263.2031,98.6406 Q264.3281,98.6406 264.7344,98.2656 Q265.1563,97.875 265.1563,97.25 Q265.1563,96.6719 264.7344,96.3125 Q264.3125,95.9531 263.375,95.9531 L262.0469,95.9531 L262.0469,98.6406 Z M262.0469,103.4219 L263.5469,103.4219 Q264.4531,103.4219 264.9844,103.0313 Q265.5156,102.6406 265.5156,101.8906 Q265.5156,101.125 265.0156,100.6563 Q264.5156,100.1719 263.25,100.1719 L262.0469,100.1719 L262.0469,103.4219 Z \"/><text fill=\"#000000\" font-family=\"sans-serif\" font-size=\"12\" lengthAdjust=\"spacingAndGlyphs\" textLength=\"45\" x=\"277.75\" y=\"104.1543\">Vehicle</text></a></g><g id=\"E1.E5.E6\"><a href=\"psysml:e21f8a97-fb67-4292-9535-52151c9da93c\" target=\"_top\" title=\"psysml:e21f8a97-fb67-4292-9535-52151c9da93c\" xlink:actuate=\"onRequest\" xlink:href=\"psysml:e21f8a97-fb67-4292-9535-52151c9da93c\" xlink:show=\"new\" xlink:title=\"psysml:e21f8a97-fb67-4292-9535-52151c9da93c\" xlink:type=\"simple\"><rect fill=\"#FEFECE\" filter=\"url(#f1qp7ux4wtmkfj)\" height=\"40\" id=\"E6\" rx=\"10\" ry=\"10\" style=\"stroke: #A80036; stroke-width: 1.5;\" width=\"133\" x=\"56.5\" y=\"84\"/><ellipse cx=\"73.75\" cy=\"100\" fill=\"#B6DBBB\" rx=\"11\" ry=\"11\" style=\"stroke: #A80036; stroke-width: 1.0;\"/><path d=\"M73.5,105.4688 Q71.75,105.4688 70.7969,104.4375 Q69.8594,103.3906 69.8594,101.5469 L69.8594,94.6563 L71.9219,94.6563 L71.9219,94.8125 Q71.8281,94.9063 71.7969,95.0469 Q71.7813,95.1719 71.7813,95.4375 L71.7813,101.5625 Q71.7813,102.6563 72.1563,103.2813 Q72.5313,103.9063 73.5156,103.9063 Q74.5,103.9063 74.8906,103.2813 Q75.2813,102.6563 75.2813,101.5156 L75.2813,94.6563 L77.1563,94.6563 L77.1563,101.5 Q77.1563,103.5313 76.125,104.5 Q75.1094,105.4688 73.5,105.4688 Z \"/><text fill=\"#000000\" font-family=\"sans-serif\" font-size=\"12\" lengthAdjust=\"spacingAndGlyphs\" textLength=\"96\" x=\"88.25\" y=\"104.1543\">vehicle: Vehicle</text></a></g><!--MD5=[c71cc954c49db36ff5832e0acd694f19]\n",
       "@startuml\r\n",
       "skinparam ranksep 10\r\n",
       "skinparam rectangle {\r\n",
       " backgroundColor<<block>> LightGreen\r\n",
       "}\r\n",
       " \r\n",
       "package \"AliasImport\" as E1  [[psysml:144140e7-4c0e-44d8-912b-18808e1341b6 ]]  {\r\n",
       "package \"Definitions\" as E2  [[psysml:0089895f-bb5f-44ae-8440-3a6de4c690d2 ]]  {\r\n",
       "rec def \"Vehicle\" as E3 << << (B,green) >> [[psysml:117f05b4-c909-44db-8047-1df426d26d27 ]] {\r\n",
       "}\r\n",
       "rec def \"Vehicle\" as E4 << << (B,green) >> [[psysml:117f05b4-c909-44db-8047-1df426d26d27 ]] {\r\n",
       "}\r\n",
       "}\r\n",
       "package \"Usages\" as E5  [[psysml:e57b5549-a047-42fa-b139-1a9999eaa505 ]]  {\r\n",
       "rec usage \"vehicle: Vehicle\" as E6  [[psysml:e21f8a97-fb67-4292-9535-52151c9da93c ]] {\r\n",
       "}\r\n",
       "}\r\n",
       "}\r\n",
       "@enduml\r\n",
       "\n",
       "PlantUML version 1.2020.13(Sat Jun 13 12:26:38 UTC 2020)\n",
       "(EPL source distribution)\n",
       "Java Runtime: OpenJDK Runtime Environment\n",
       "JVM: OpenJDK 64-Bit Server VM\n",
       "Default Encoding: UTF-8\n",
       "Language: en\n",
       "Country: null\n",
       "--></g></svg>"
      ]
     },
     "execution_count": 33,
     "metadata": {},
     "output_type": "execute_result"
    }
   ],
   "source": [
    "%viz --style=\"PLANTUML\" --view=\"Interconnection\" \"AliasImport\""
   ]
  },
  {
   "cell_type": "code",
   "execution_count": 34,
   "id": "7583d9ec",
   "metadata": {
    "execution": {
     "iopub.execute_input": "2021-10-25T08:24:42.299612Z",
     "iopub.status.busy": "2021-10-25T08:24:42.299152Z",
     "iopub.status.idle": "2021-10-25T08:24:42.304290Z",
     "shell.execute_reply": "2021-10-25T08:24:42.303916Z"
    }
   },
   "outputs": [
    {
     "data": {
      "image/svg+xml": [
       "<?xml version=\"1.0\" encoding=\"UTF-8\" standalone=\"no\"?><svg xmlns=\"http://www.w3.org/2000/svg\" xmlns:xlink=\"http://www.w3.org/1999/xlink\" contentScriptType=\"application/ecmascript\" contentStyleType=\"text/css\" height=\"12px\" preserveAspectRatio=\"none\" style=\"width:12px;height:12px;\" version=\"1.1\" viewBox=\"0 0 12 12\" width=\"12px\" zoomAndPan=\"magnify\"><defs/><g><!--MD5=[6a4cb978cab31700e1ce5529f947a75d]\n",
       "@startuml\r\n",
       "skinparam ranksep 8\r\n",
       " \r\n",
       "@enduml\r\n",
       "\n",
       "PlantUML version 1.2020.13(Sat Jun 13 12:26:38 UTC 2020)\n",
       "(EPL source distribution)\n",
       "Java Runtime: OpenJDK Runtime Environment\n",
       "JVM: OpenJDK 64-Bit Server VM\n",
       "Default Encoding: UTF-8\n",
       "Language: en\n",
       "Country: null\n",
       "--></g></svg>"
      ]
     },
     "execution_count": 34,
     "metadata": {},
     "output_type": "execute_result"
    }
   ],
   "source": [
    "%viz --style=\"PLANTUML\" --view=\"Action\" \"AliasImport\""
   ]
  },
  {
   "cell_type": "code",
   "execution_count": 35,
   "id": "2cd05882",
   "metadata": {
    "execution": {
     "iopub.execute_input": "2021-10-25T08:24:42.353738Z",
     "iopub.status.busy": "2021-10-25T08:24:42.353310Z",
     "iopub.status.idle": "2021-10-25T08:24:42.358446Z",
     "shell.execute_reply": "2021-10-25T08:24:42.358106Z"
    }
   },
   "outputs": [
    {
     "data": {
      "image/svg+xml": [
       "<?xml version=\"1.0\" encoding=\"UTF-8\" standalone=\"no\"?><svg xmlns=\"http://www.w3.org/2000/svg\" xmlns:xlink=\"http://www.w3.org/1999/xlink\" contentScriptType=\"application/ecmascript\" contentStyleType=\"text/css\" height=\"12px\" preserveAspectRatio=\"none\" style=\"width:12px;height:12px;\" version=\"1.1\" viewBox=\"0 0 12 12\" width=\"12px\" zoomAndPan=\"magnify\"><defs/><g><!--MD5=[ca4faa0b02def275ea33c14ea7a1a98d]\n",
       "@startuml\r\n",
       "skinparam roundcorner 20\r\n",
       "skinparam BoxPadding 20\r\n",
       "skinparam SequenceBoxBackgroundColor #white\r\n",
       "skinparam style strictuml\r\n",
       "skinparam maxMessageSize 100\r\n",
       " \r\n",
       "@enduml\r\n",
       "\n",
       "PlantUML version 1.2020.13(Sat Jun 13 12:26:38 UTC 2020)\n",
       "(EPL source distribution)\n",
       "Java Runtime: OpenJDK Runtime Environment\n",
       "JVM: OpenJDK 64-Bit Server VM\n",
       "Default Encoding: UTF-8\n",
       "Language: en\n",
       "Country: null\n",
       "--></g></svg>"
      ]
     },
     "execution_count": 35,
     "metadata": {},
     "output_type": "execute_result"
    }
   ],
   "source": [
    "%viz --style=\"PLANTUML\" --view=\"Sequence\" \"AliasImport\""
   ]
  },
  {
   "cell_type": "code",
   "execution_count": 36,
   "id": "45ae4abd",
   "metadata": {
    "execution": {
     "iopub.execute_input": "2021-10-25T08:24:42.407967Z",
     "iopub.status.busy": "2021-10-25T08:24:42.407557Z",
     "iopub.status.idle": "2021-10-25T08:24:42.436273Z",
     "shell.execute_reply": "2021-10-25T08:24:42.434113Z"
    }
   },
   "outputs": [
    {
     "data": {
      "image/svg+xml": [
       "<?xml version=\"1.0\" encoding=\"UTF-8\" standalone=\"no\"?><svg xmlns=\"http://www.w3.org/2000/svg\" xmlns:xlink=\"http://www.w3.org/1999/xlink\" contentScriptType=\"application/ecmascript\" contentStyleType=\"text/css\" height=\"297px\" preserveAspectRatio=\"none\" style=\"width:250px;height:297px;\" version=\"1.1\" viewBox=\"0 0 250 297\" width=\"250px\" zoomAndPan=\"magnify\"><defs><filter height=\"300%\" id=\"fla043a9lz73j\" width=\"300%\" x=\"-1\" y=\"-1\"><feGaussianBlur result=\"blurOut\" stdDeviation=\"2.0\"/><feColorMatrix in=\"blurOut\" result=\"blurOut2\" type=\"matrix\" values=\"0 0 0 0 0 0 0 0 0 0 0 0 0 0 0 0 0 0 .4 0\"/><feOffset dx=\"4.0\" dy=\"4.0\" in=\"blurOut2\" result=\"blurOut3\"/><feBlend in=\"SourceGraphic\" in2=\"blurOut3\" mode=\"normal\"/></filter></defs><g><!--MD5=[fbc87193dbaf4d95561dea2c320d4a47]\n",
       "cluster E1--><a href=\"psysml:144140e7-4c0e-44d8-912b-18808e1341b6\" target=\"_top\" title=\"psysml:144140e7-4c0e-44d8-912b-18808e1341b6\" xlink:actuate=\"onRequest\" xlink:href=\"psysml:144140e7-4c0e-44d8-912b-18808e1341b6\" xlink:show=\"new\" xlink:title=\"psysml:144140e7-4c0e-44d8-912b-18808e1341b6\" xlink:type=\"simple\"><polygon fill=\"#FFFFFF\" filter=\"url(#fla043a9lz73j)\" points=\"16,6,97,6,104,28.2969,228,28.2969,228,285,16,285,16,6\" style=\"stroke: #000000; stroke-width: 1.5;\"/><line style=\"stroke: #000000; stroke-width: 1.5;\" x1=\"16\" x2=\"104\" y1=\"28.2969\" y2=\"28.2969\"/><text fill=\"#000000\" font-family=\"sans-serif\" font-size=\"14\" font-weight=\"bold\" lengthAdjust=\"spacingAndGlyphs\" textLength=\"75\" x=\"20\" y=\"20.9951\">AliasImport</text></a><!--MD5=[e4f7fae6ed58524ba242bb0b0d3be6b7]\n",
       "cluster E2--><a href=\"psysml:0089895f-bb5f-44ae-8440-3a6de4c690d2\" target=\"_top\" title=\"psysml:0089895f-bb5f-44ae-8440-3a6de4c690d2\" xlink:actuate=\"onRequest\" xlink:href=\"psysml:0089895f-bb5f-44ae-8440-3a6de4c690d2\" xlink:show=\"new\" xlink:title=\"psysml:0089895f-bb5f-44ae-8440-3a6de4c690d2\" xlink:type=\"simple\"><polygon fill=\"#FFFFFF\" filter=\"url(#fla043a9lz73j)\" points=\"67,170,146,170,153,192.2969,177,192.2969,177,261,67,261,67,170\" style=\"stroke: #000000; stroke-width: 1.5;\"/><line style=\"stroke: #000000; stroke-width: 1.5;\" x1=\"67\" x2=\"153\" y1=\"192.2969\" y2=\"192.2969\"/><text fill=\"#000000\" font-family=\"sans-serif\" font-size=\"14\" font-weight=\"bold\" lengthAdjust=\"spacingAndGlyphs\" textLength=\"73\" x=\"71\" y=\"184.9951\">Definitions</text></a><!--MD5=[f6df4d0ebaf0b5dfb2ced0ae5af7c670]\n",
       "cluster E4--><a href=\"psysml:e57b5549-a047-42fa-b139-1a9999eaa505\" target=\"_top\" title=\"psysml:e57b5549-a047-42fa-b139-1a9999eaa505\" xlink:actuate=\"onRequest\" xlink:href=\"psysml:e57b5549-a047-42fa-b139-1a9999eaa505\" xlink:show=\"new\" xlink:title=\"psysml:e57b5549-a047-42fa-b139-1a9999eaa505\" xlink:type=\"simple\"><polygon fill=\"#FFFFFF\" filter=\"url(#fla043a9lz73j)\" points=\"40,49,98,49,105,71.2969,204,71.2969,204,146,40,146,40,49\" style=\"stroke: #000000; stroke-width: 1.5;\"/><line style=\"stroke: #000000; stroke-width: 1.5;\" x1=\"40\" x2=\"105\" y1=\"71.2969\" y2=\"71.2969\"/><text fill=\"#000000\" font-family=\"sans-serif\" font-size=\"14\" font-weight=\"bold\" lengthAdjust=\"spacingAndGlyphs\" textLength=\"52\" x=\"44\" y=\"63.9951\">Usages</text></a><!--MD5=[09b614a08d8cba4a07c9adeb5e0fee81]\n",
       "class E3--><a href=\"psysml:117f05b4-c909-44db-8047-1df426d26d27\" target=\"_top\" title=\"psysml:117f05b4-c909-44db-8047-1df426d26d27\" xlink:actuate=\"onRequest\" xlink:href=\"psysml:117f05b4-c909-44db-8047-1df426d26d27\" xlink:show=\"new\" xlink:title=\"psysml:117f05b4-c909-44db-8047-1df426d26d27\" xlink:type=\"simple\"><rect fill=\"#FEFECE\" filter=\"url(#fla043a9lz73j)\" height=\"40\" id=\"E3\" style=\"stroke: #A80036; stroke-width: 1.5;\" width=\"77\" x=\"83.5\" y=\"205\"/><ellipse cx=\"98.5\" cy=\"221\" fill=\"#008000\" rx=\"11\" ry=\"11\" style=\"stroke: #A80036; stroke-width: 1.0;\"/><path d=\"M95.375,226 L95.375,215.4063 L98.6094,215.4063 Q100.5156,215.4063 101.4219,216.1563 Q102.3438,216.9063 102.3438,218.0781 Q102.3438,218.7656 101.9531,219.4219 Q101.5781,220.0781 100.8594,220.375 Q101.7188,220.75 102.2344,221.4375 Q102.75,222.125 102.75,222.9375 Q102.75,224.3125 101.7188,225.1563 Q100.7031,226 98.5938,226 L95.375,226 Z M97.2969,219.6406 L98.4531,219.6406 Q99.5781,219.6406 99.9844,219.2656 Q100.4063,218.875 100.4063,218.25 Q100.4063,217.6719 99.9844,217.3125 Q99.5625,216.9531 98.625,216.9531 L97.2969,216.9531 L97.2969,219.6406 Z M97.2969,224.4219 L98.7969,224.4219 Q99.7031,224.4219 100.2344,224.0313 Q100.7656,223.6406 100.7656,222.8906 Q100.7656,222.125 100.2656,221.6563 Q99.7656,221.1719 98.5,221.1719 L97.2969,221.1719 L97.2969,224.4219 Z \"/><text fill=\"#000000\" font-family=\"sans-serif\" font-size=\"12\" lengthAdjust=\"spacingAndGlyphs\" textLength=\"45\" x=\"112.5\" y=\"225.1543\">Vehicle</text><line style=\"stroke: #A80036; stroke-width: 1.5;\" x1=\"84.5\" x2=\"159.5\" y1=\"237\" y2=\"237\"/></a><!--MD5=[270fce915f116d4de14055a7c1d9a0f3]\n",
       "class E5--><a href=\"psysml:e21f8a97-fb67-4292-9535-52151c9da93c\" target=\"_top\" title=\"psysml:e21f8a97-fb67-4292-9535-52151c9da93c\" xlink:actuate=\"onRequest\" xlink:href=\"psysml:e21f8a97-fb67-4292-9535-52151c9da93c\" xlink:show=\"new\" xlink:title=\"psysml:e21f8a97-fb67-4292-9535-52151c9da93c\" xlink:type=\"simple\"><rect fill=\"#FEFECE\" filter=\"url(#fla043a9lz73j)\" height=\"45.9375\" id=\"E5\" rx=\"10\" ry=\"10\" style=\"stroke: #A80036; stroke-width: 1.5;\" width=\"132\" x=\"56\" y=\"84\"/><ellipse cx=\"71\" cy=\"102.9688\" fill=\"#32CD32\" rx=\"11\" ry=\"11\" style=\"stroke: #A80036; stroke-width: 1.0;\"/><path d=\"M67.8125,107.9688 L67.8125,97.375 L71.4219,97.375 Q72.6406,97.375 73.4375,97.8125 Q74.2344,98.2344 74.6094,98.9375 Q75,99.6406 75,100.4844 Q75,101.3281 74.625,102.0156 Q74.2656,102.7031 73.4688,103.125 Q72.6875,103.5313 71.5,103.5313 L69.7656,103.5313 L69.7656,107.9688 L67.8125,107.9688 Z M69.7656,101.9375 L71.375,101.9375 Q72.1875,101.9375 72.6094,101.5313 Q73.0313,101.125 73.0313,100.4844 Q73.0313,99.8594 72.6094,99.4531 Q72.1875,99.0469 71.3906,99.0469 L69.7656,99.0469 L69.7656,101.9375 Z \"/><text fill=\"#000000\" font-family=\"sans-serif\" font-size=\"12\" font-style=\"italic\" lengthAdjust=\"spacingAndGlyphs\" textLength=\"40\" x=\"115\" y=\"100.1387\">«part»</text><text fill=\"#000000\" font-family=\"sans-serif\" font-size=\"12\" lengthAdjust=\"spacingAndGlyphs\" textLength=\"96\" x=\"85\" y=\"114.1074\">vehicle: Vehicle</text><line style=\"stroke: #A80036; stroke-width: 1.5;\" x1=\"57\" x2=\"187\" y1=\"121.9375\" y2=\"121.9375\"/></a><!--MD5=[e9be52314489bd878ff4c7144b63c9e1]\n",
       "link E5 to E3--><a href=\"psysml:763357b8-b5e0-4785-a470-e50d945081e3\" target=\"_top\" title=\"psysml:763357b8-b5e0-4785-a470-e50d945081e3\" xlink:actuate=\"onRequest\" xlink:href=\"psysml:763357b8-b5e0-4785-a470-e50d945081e3\" xlink:show=\"new\" xlink:title=\"psysml:763357b8-b5e0-4785-a470-e50d945081e3\" xlink:type=\"simple\"><path d=\"M122,130.09 C122,145.42 122,166.27 122,184.42 \" fill=\"none\" id=\"E5-&gt;E3\" style=\"stroke: #A80036; stroke-width: 1.0;\"/><polygon fill=\"#FFFFFF\" points=\"122,204.69,115,185.69,129,185.69,122,204.69\" style=\"stroke: #A80036; stroke-width: 1.0;\"/><ellipse cx=\"117\" cy=\"179.99\" fill=\"#A80036\" rx=\"2\" ry=\"2\" style=\"stroke: #A80036; stroke-width: 1.0;\"/><ellipse cx=\"127\" cy=\"179.99\" fill=\"#A80036\" rx=\"2\" ry=\"2\" style=\"stroke: #A80036; stroke-width: 1.0;\"/></a><!--MD5=[0fb141a3e04aa682ace969cc59904bbd]\n",
       "@startuml\r\n",
       " \r\n",
       "package \"AliasImport\" as E1  [[psysml:144140e7-4c0e-44d8-912b-18808e1341b6 ]]  {\r\n",
       "package \"Definitions\" as E2  [[psysml:0089895f-bb5f-44ae-8440-3a6de4c690d2 ]]  {\r\n",
       "comp def \"Vehicle\" as E3 << << (B,green) >> [[psysml:117f05b4-c909-44db-8047-1df426d26d27 ]] {\r\n",
       "}\r\n",
       "}\r\n",
       "package \"Usages\" as E4  [[psysml:e57b5549-a047-42fa-b139-1a9999eaa505 ]]  {\r\n",
       "comp usage \"vehicle: Vehicle \" as E5 << << (P,limegreen) part>> [[psysml:e21f8a97-fb67-4292-9535-52151c9da93c ]] {\r\n",
       "}\r\n",
       "}\r\n",
       "}\r\n",
       "E5 - -:|> E3 [[psysml:763357b8-b5e0-4785-a470-e50d945081e3 ]] \r\n",
       "@enduml\r\n",
       "\n",
       "PlantUML version 1.2020.13(Sat Jun 13 12:26:38 UTC 2020)\n",
       "(EPL source distribution)\n",
       "Java Runtime: OpenJDK Runtime Environment\n",
       "JVM: OpenJDK 64-Bit Server VM\n",
       "Default Encoding: UTF-8\n",
       "Language: en\n",
       "Country: null\n",
       "--></g></svg>"
      ]
     },
     "execution_count": 36,
     "metadata": {},
     "output_type": "execute_result"
    }
   ],
   "source": [
    "%viz --style=\"PLANTUML\" --view=\"MIXED\" \"AliasImport\""
   ]
  },
  {
   "cell_type": "code",
   "execution_count": 37,
   "id": "9a5f5a40",
   "metadata": {
    "execution": {
     "iopub.execute_input": "2021-10-25T08:24:42.484966Z",
     "iopub.status.busy": "2021-10-25T08:24:42.484554Z",
     "iopub.status.idle": "2021-10-25T08:24:42.512676Z",
     "shell.execute_reply": "2021-10-25T08:24:42.510887Z"
    }
   },
   "outputs": [
    {
     "data": {
      "image/svg+xml": [
       "<?xml version=\"1.0\" encoding=\"UTF-8\" standalone=\"no\"?><svg xmlns=\"http://www.w3.org/2000/svg\" xmlns:xlink=\"http://www.w3.org/1999/xlink\" contentScriptType=\"application/ecmascript\" contentStyleType=\"text/css\" height=\"303px\" preserveAspectRatio=\"none\" style=\"width:224px;height:303px;\" version=\"1.1\" viewBox=\"0 0 224 303\" width=\"224px\" zoomAndPan=\"magnify\"><defs/><g><!--MD5=[fbc87193dbaf4d95561dea2c320d4a47]\n",
       "cluster E1--><a href=\"psysml:144140e7-4c0e-44d8-912b-18808e1341b6\" target=\"_top\" title=\"psysml:144140e7-4c0e-44d8-912b-18808e1341b6\" xlink:actuate=\"onRequest\" xlink:href=\"psysml:144140e7-4c0e-44d8-912b-18808e1341b6\" xlink:show=\"new\" xlink:title=\"psysml:144140e7-4c0e-44d8-912b-18808e1341b6\" xlink:type=\"simple\"><polygon fill=\"#FFFFFF\" points=\"16,6,97,6,104,28.2969,202,28.2969,202,291,16,291,16,6\" style=\"stroke: #000000; stroke-width: 1.5;\"/><line style=\"stroke: #000000; stroke-width: 1.5;\" x1=\"16\" x2=\"104\" y1=\"28.2969\" y2=\"28.2969\"/><text fill=\"#000000\" font-family=\"sans-serif\" font-size=\"14\" font-weight=\"bold\" lengthAdjust=\"spacingAndGlyphs\" textLength=\"75\" x=\"20\" y=\"20.9951\">AliasImport</text></a><!--MD5=[e4f7fae6ed58524ba242bb0b0d3be6b7]\n",
       "cluster E2--><a href=\"psysml:0089895f-bb5f-44ae-8440-3a6de4c690d2\" target=\"_top\" title=\"psysml:0089895f-bb5f-44ae-8440-3a6de4c690d2\" xlink:actuate=\"onRequest\" xlink:href=\"psysml:0089895f-bb5f-44ae-8440-3a6de4c690d2\" xlink:show=\"new\" xlink:title=\"psysml:0089895f-bb5f-44ae-8440-3a6de4c690d2\" xlink:type=\"simple\"><polygon fill=\"#FFFFFF\" points=\"58,170,137,170,144,192.2969,160,192.2969,160,267,58,267,58,170\" style=\"stroke: #000000; stroke-width: 1.5;\"/><line style=\"stroke: #000000; stroke-width: 1.5;\" x1=\"58\" x2=\"144\" y1=\"192.2969\" y2=\"192.2969\"/><text fill=\"#000000\" font-family=\"sans-serif\" font-size=\"14\" font-weight=\"bold\" lengthAdjust=\"spacingAndGlyphs\" textLength=\"73\" x=\"62\" y=\"184.9951\">Definitions</text></a><!--MD5=[f6df4d0ebaf0b5dfb2ced0ae5af7c670]\n",
       "cluster E4--><a href=\"psysml:e57b5549-a047-42fa-b139-1a9999eaa505\" target=\"_top\" title=\"psysml:e57b5549-a047-42fa-b139-1a9999eaa505\" xlink:actuate=\"onRequest\" xlink:href=\"psysml:e57b5549-a047-42fa-b139-1a9999eaa505\" xlink:show=\"new\" xlink:title=\"psysml:e57b5549-a047-42fa-b139-1a9999eaa505\" xlink:type=\"simple\"><polygon fill=\"#FFFFFF\" points=\"40,49,98,49,105,71.2969,178,71.2969,178,146,40,146,40,49\" style=\"stroke: #000000; stroke-width: 1.5;\"/><line style=\"stroke: #000000; stroke-width: 1.5;\" x1=\"40\" x2=\"105\" y1=\"71.2969\" y2=\"71.2969\"/><text fill=\"#000000\" font-family=\"sans-serif\" font-size=\"14\" font-weight=\"bold\" lengthAdjust=\"spacingAndGlyphs\" textLength=\"52\" x=\"44\" y=\"63.9951\">Usages</text></a><!--MD5=[09b614a08d8cba4a07c9adeb5e0fee81]\n",
       "class E3--><a href=\"psysml:117f05b4-c909-44db-8047-1df426d26d27\" target=\"_top\" title=\"psysml:117f05b4-c909-44db-8047-1df426d26d27\" xlink:actuate=\"onRequest\" xlink:href=\"psysml:117f05b4-c909-44db-8047-1df426d26d27\" xlink:show=\"new\" xlink:title=\"psysml:117f05b4-c909-44db-8047-1df426d26d27\" xlink:type=\"simple\"><rect fill=\"#FFFFFF\" height=\"45.9375\" id=\"E3\" style=\"stroke: #383838; stroke-width: 1.5;\" width=\"70\" x=\"74\" y=\"205\"/><text fill=\"#000000\" font-family=\"sans-serif\" font-size=\"12\" font-style=\"italic\" lengthAdjust=\"spacingAndGlyphs\" textLength=\"68\" x=\"75\" y=\"221.1387\">«part  def»</text><text fill=\"#000000\" font-family=\"sans-serif\" font-size=\"12\" lengthAdjust=\"spacingAndGlyphs\" textLength=\"45\" x=\"86.5\" y=\"235.1074\">Vehicle</text><line style=\"stroke: #383838; stroke-width: 1.5;\" x1=\"75\" x2=\"143\" y1=\"242.9375\" y2=\"242.9375\"/></a><!--MD5=[270fce915f116d4de14055a7c1d9a0f3]\n",
       "class E5--><a href=\"psysml:e21f8a97-fb67-4292-9535-52151c9da93c\" target=\"_top\" title=\"psysml:e21f8a97-fb67-4292-9535-52151c9da93c\" xlink:actuate=\"onRequest\" xlink:href=\"psysml:e21f8a97-fb67-4292-9535-52151c9da93c\" xlink:show=\"new\" xlink:title=\"psysml:e21f8a97-fb67-4292-9535-52151c9da93c\" xlink:type=\"simple\"><rect fill=\"#FFFFFF\" height=\"45.9375\" id=\"E5\" rx=\"10\" ry=\"10\" style=\"stroke: #383838; stroke-width: 1.5;\" width=\"106\" x=\"56\" y=\"84\"/><text fill=\"#000000\" font-family=\"sans-serif\" font-size=\"12\" font-style=\"italic\" lengthAdjust=\"spacingAndGlyphs\" textLength=\"40\" x=\"89\" y=\"100.1387\">«part»</text><text fill=\"#000000\" font-family=\"sans-serif\" font-size=\"12\" lengthAdjust=\"spacingAndGlyphs\" textLength=\"96\" x=\"59\" y=\"114.1074\">vehicle: Vehicle</text><line style=\"stroke: #383838; stroke-width: 1.5;\" x1=\"57\" x2=\"161\" y1=\"121.9375\" y2=\"121.9375\"/></a><!--MD5=[e9be52314489bd878ff4c7144b63c9e1]\n",
       "link E5 to E3--><a href=\"psysml:763357b8-b5e0-4785-a470-e50d945081e3\" target=\"_top\" title=\"psysml:763357b8-b5e0-4785-a470-e50d945081e3\" xlink:actuate=\"onRequest\" xlink:href=\"psysml:763357b8-b5e0-4785-a470-e50d945081e3\" xlink:show=\"new\" xlink:title=\"psysml:763357b8-b5e0-4785-a470-e50d945081e3\" xlink:type=\"simple\"><path d=\"M109,130.1 C109,145.37 109,166.16 109,184.57 \" fill=\"none\" id=\"E5-&gt;E3\" style=\"stroke: #383838; stroke-width: 1.0;\"/><polygon fill=\"#FFFFFF\" points=\"109,204.61,102,185.61,116,185.61,109,204.61\" style=\"stroke: #383838; stroke-width: 1.0;\"/><ellipse cx=\"104\" cy=\"179.91\" fill=\"#383838\" rx=\"2\" ry=\"2\" style=\"stroke: #383838; stroke-width: 1.0;\"/><ellipse cx=\"114\" cy=\"179.91\" fill=\"#383838\" rx=\"2\" ry=\"2\" style=\"stroke: #383838; stroke-width: 1.0;\"/></a><!--MD5=[d703ddf3604786a3f9e45d487b8a1543]\n",
       "@startuml\r\n",
       "skinparam monochrome true\r\n",
       "skinparam classbackgroundcolor white\r\n",
       "skinparam shadowing false\r\n",
       "skinparam wrapWidth 300\r\n",
       "hide circle\r\n",
       "\r\n",
       "package \"AliasImport\" as E1  [[psysml:144140e7-4c0e-44d8-912b-18808e1341b6 ]]  {\r\n",
       "package \"Definitions\" as E2  [[psysml:0089895f-bb5f-44ae-8440-3a6de4c690d2 ]]  {\r\n",
       "comp def \"Vehicle\" as E3  <<(T,blue) part  def>> [[psysml:117f05b4-c909-44db-8047-1df426d26d27 ]] {\r\n",
       "}\r\n",
       "}\r\n",
       "package \"Usages\" as E4  [[psysml:e57b5549-a047-42fa-b139-1a9999eaa505 ]]  {\r\n",
       "comp usage \"vehicle: Vehicle \" as E5  <<(T,blue) part>> [[psysml:e21f8a97-fb67-4292-9535-52151c9da93c ]] {\r\n",
       "}\r\n",
       "}\r\n",
       "}\r\n",
       "E5 - -:|> E3 [[psysml:763357b8-b5e0-4785-a470-e50d945081e3 ]] \r\n",
       "@enduml\r\n",
       "\n",
       "PlantUML version 1.2020.13(Sat Jun 13 12:26:38 UTC 2020)\n",
       "(EPL source distribution)\n",
       "Java Runtime: OpenJDK Runtime Environment\n",
       "JVM: OpenJDK 64-Bit Server VM\n",
       "Default Encoding: UTF-8\n",
       "Language: en\n",
       "Country: null\n",
       "--></g></svg>"
      ]
     },
     "execution_count": 37,
     "metadata": {},
     "output_type": "execute_result"
    }
   ],
   "source": [
    "%viz --style=\"DEFAULT\" --view=\"Default\" \"AliasImport\""
   ]
  },
  {
   "cell_type": "code",
   "execution_count": 38,
   "id": "0952dca8",
   "metadata": {
    "execution": {
     "iopub.execute_input": "2021-10-25T08:24:42.561674Z",
     "iopub.status.busy": "2021-10-25T08:24:42.561263Z",
     "iopub.status.idle": "2021-10-25T08:24:42.589543Z",
     "shell.execute_reply": "2021-10-25T08:24:42.587740Z"
    }
   },
   "outputs": [
    {
     "data": {
      "image/svg+xml": [
       "<?xml version=\"1.0\" encoding=\"UTF-8\" standalone=\"no\"?><svg xmlns=\"http://www.w3.org/2000/svg\" xmlns:xlink=\"http://www.w3.org/1999/xlink\" contentScriptType=\"application/ecmascript\" contentStyleType=\"text/css\" height=\"303px\" preserveAspectRatio=\"none\" style=\"width:224px;height:303px;\" version=\"1.1\" viewBox=\"0 0 224 303\" width=\"224px\" zoomAndPan=\"magnify\"><defs/><g><!--MD5=[fbc87193dbaf4d95561dea2c320d4a47]\n",
       "cluster E1--><a href=\"psysml:144140e7-4c0e-44d8-912b-18808e1341b6\" target=\"_top\" title=\"psysml:144140e7-4c0e-44d8-912b-18808e1341b6\" xlink:actuate=\"onRequest\" xlink:href=\"psysml:144140e7-4c0e-44d8-912b-18808e1341b6\" xlink:show=\"new\" xlink:title=\"psysml:144140e7-4c0e-44d8-912b-18808e1341b6\" xlink:type=\"simple\"><polygon fill=\"#FFFFFF\" points=\"16,6,97,6,104,28.2969,202,28.2969,202,291,16,291,16,6\" style=\"stroke: #000000; stroke-width: 1.5;\"/><line style=\"stroke: #000000; stroke-width: 1.5;\" x1=\"16\" x2=\"104\" y1=\"28.2969\" y2=\"28.2969\"/><text fill=\"#000000\" font-family=\"sans-serif\" font-size=\"14\" font-weight=\"bold\" lengthAdjust=\"spacingAndGlyphs\" textLength=\"75\" x=\"20\" y=\"20.9951\">AliasImport</text></a><!--MD5=[e4f7fae6ed58524ba242bb0b0d3be6b7]\n",
       "cluster E2--><a href=\"psysml:0089895f-bb5f-44ae-8440-3a6de4c690d2\" target=\"_top\" title=\"psysml:0089895f-bb5f-44ae-8440-3a6de4c690d2\" xlink:actuate=\"onRequest\" xlink:href=\"psysml:0089895f-bb5f-44ae-8440-3a6de4c690d2\" xlink:show=\"new\" xlink:title=\"psysml:0089895f-bb5f-44ae-8440-3a6de4c690d2\" xlink:type=\"simple\"><polygon fill=\"#FFFFFF\" points=\"58,170,137,170,144,192.2969,160,192.2969,160,267,58,267,58,170\" style=\"stroke: #000000; stroke-width: 1.5;\"/><line style=\"stroke: #000000; stroke-width: 1.5;\" x1=\"58\" x2=\"144\" y1=\"192.2969\" y2=\"192.2969\"/><text fill=\"#000000\" font-family=\"sans-serif\" font-size=\"14\" font-weight=\"bold\" lengthAdjust=\"spacingAndGlyphs\" textLength=\"73\" x=\"62\" y=\"184.9951\">Definitions</text></a><!--MD5=[f6df4d0ebaf0b5dfb2ced0ae5af7c670]\n",
       "cluster E4--><a href=\"psysml:e57b5549-a047-42fa-b139-1a9999eaa505\" target=\"_top\" title=\"psysml:e57b5549-a047-42fa-b139-1a9999eaa505\" xlink:actuate=\"onRequest\" xlink:href=\"psysml:e57b5549-a047-42fa-b139-1a9999eaa505\" xlink:show=\"new\" xlink:title=\"psysml:e57b5549-a047-42fa-b139-1a9999eaa505\" xlink:type=\"simple\"><polygon fill=\"#FFFFFF\" points=\"40,49,98,49,105,71.2969,178,71.2969,178,146,40,146,40,49\" style=\"stroke: #000000; stroke-width: 1.5;\"/><line style=\"stroke: #000000; stroke-width: 1.5;\" x1=\"40\" x2=\"105\" y1=\"71.2969\" y2=\"71.2969\"/><text fill=\"#000000\" font-family=\"sans-serif\" font-size=\"14\" font-weight=\"bold\" lengthAdjust=\"spacingAndGlyphs\" textLength=\"52\" x=\"44\" y=\"63.9951\">Usages</text></a><!--MD5=[09b614a08d8cba4a07c9adeb5e0fee81]\n",
       "class E3--><a href=\"psysml:117f05b4-c909-44db-8047-1df426d26d27\" target=\"_top\" title=\"psysml:117f05b4-c909-44db-8047-1df426d26d27\" xlink:actuate=\"onRequest\" xlink:href=\"psysml:117f05b4-c909-44db-8047-1df426d26d27\" xlink:show=\"new\" xlink:title=\"psysml:117f05b4-c909-44db-8047-1df426d26d27\" xlink:type=\"simple\"><rect fill=\"#FFFFFF\" height=\"45.9375\" id=\"E3\" style=\"stroke: #383838; stroke-width: 1.5;\" width=\"70\" x=\"74\" y=\"205\"/><text fill=\"#000000\" font-family=\"sans-serif\" font-size=\"12\" font-style=\"italic\" lengthAdjust=\"spacingAndGlyphs\" textLength=\"68\" x=\"75\" y=\"221.1387\">«part  def»</text><text fill=\"#000000\" font-family=\"sans-serif\" font-size=\"12\" lengthAdjust=\"spacingAndGlyphs\" textLength=\"45\" x=\"86.5\" y=\"235.1074\">Vehicle</text><line style=\"stroke: #383838; stroke-width: 1.5;\" x1=\"75\" x2=\"143\" y1=\"242.9375\" y2=\"242.9375\"/></a><!--MD5=[270fce915f116d4de14055a7c1d9a0f3]\n",
       "class E5--><a href=\"psysml:e21f8a97-fb67-4292-9535-52151c9da93c\" target=\"_top\" title=\"psysml:e21f8a97-fb67-4292-9535-52151c9da93c\" xlink:actuate=\"onRequest\" xlink:href=\"psysml:e21f8a97-fb67-4292-9535-52151c9da93c\" xlink:show=\"new\" xlink:title=\"psysml:e21f8a97-fb67-4292-9535-52151c9da93c\" xlink:type=\"simple\"><rect fill=\"#FFFFFF\" height=\"45.9375\" id=\"E5\" rx=\"10\" ry=\"10\" style=\"stroke: #383838; stroke-width: 1.5;\" width=\"106\" x=\"56\" y=\"84\"/><text fill=\"#000000\" font-family=\"sans-serif\" font-size=\"12\" font-style=\"italic\" lengthAdjust=\"spacingAndGlyphs\" textLength=\"40\" x=\"89\" y=\"100.1387\">«part»</text><text fill=\"#000000\" font-family=\"sans-serif\" font-size=\"12\" lengthAdjust=\"spacingAndGlyphs\" textLength=\"96\" x=\"59\" y=\"114.1074\">vehicle: Vehicle</text><line style=\"stroke: #383838; stroke-width: 1.5;\" x1=\"57\" x2=\"161\" y1=\"121.9375\" y2=\"121.9375\"/></a><!--MD5=[e9be52314489bd878ff4c7144b63c9e1]\n",
       "link E5 to E3--><a href=\"psysml:763357b8-b5e0-4785-a470-e50d945081e3\" target=\"_top\" title=\"psysml:763357b8-b5e0-4785-a470-e50d945081e3\" xlink:actuate=\"onRequest\" xlink:href=\"psysml:763357b8-b5e0-4785-a470-e50d945081e3\" xlink:show=\"new\" xlink:title=\"psysml:763357b8-b5e0-4785-a470-e50d945081e3\" xlink:type=\"simple\"><path d=\"M109,130.1 C109,145.37 109,166.16 109,184.57 \" fill=\"none\" id=\"E5-&gt;E3\" style=\"stroke: #383838; stroke-width: 1.0;\"/><polygon fill=\"#FFFFFF\" points=\"109,204.61,102,185.61,116,185.61,109,204.61\" style=\"stroke: #383838; stroke-width: 1.0;\"/><ellipse cx=\"104\" cy=\"179.91\" fill=\"#383838\" rx=\"2\" ry=\"2\" style=\"stroke: #383838; stroke-width: 1.0;\"/><ellipse cx=\"114\" cy=\"179.91\" fill=\"#383838\" rx=\"2\" ry=\"2\" style=\"stroke: #383838; stroke-width: 1.0;\"/></a><!--MD5=[d703ddf3604786a3f9e45d487b8a1543]\n",
       "@startuml\r\n",
       "skinparam monochrome true\r\n",
       "skinparam classbackgroundcolor white\r\n",
       "skinparam shadowing false\r\n",
       "skinparam wrapWidth 300\r\n",
       "hide circle\r\n",
       "\r\n",
       "package \"AliasImport\" as E1  [[psysml:144140e7-4c0e-44d8-912b-18808e1341b6 ]]  {\r\n",
       "package \"Definitions\" as E2  [[psysml:0089895f-bb5f-44ae-8440-3a6de4c690d2 ]]  {\r\n",
       "comp def \"Vehicle\" as E3  <<(T,blue) part  def>> [[psysml:117f05b4-c909-44db-8047-1df426d26d27 ]] {\r\n",
       "}\r\n",
       "}\r\n",
       "package \"Usages\" as E4  [[psysml:e57b5549-a047-42fa-b139-1a9999eaa505 ]]  {\r\n",
       "comp usage \"vehicle: Vehicle \" as E5  <<(T,blue) part>> [[psysml:e21f8a97-fb67-4292-9535-52151c9da93c ]] {\r\n",
       "}\r\n",
       "}\r\n",
       "}\r\n",
       "E5 - -:|> E3 [[psysml:763357b8-b5e0-4785-a470-e50d945081e3 ]] \r\n",
       "@enduml\r\n",
       "\n",
       "PlantUML version 1.2020.13(Sat Jun 13 12:26:38 UTC 2020)\n",
       "(EPL source distribution)\n",
       "Java Runtime: OpenJDK Runtime Environment\n",
       "JVM: OpenJDK 64-Bit Server VM\n",
       "Default Encoding: UTF-8\n",
       "Language: en\n",
       "Country: null\n",
       "--></g></svg>"
      ]
     },
     "execution_count": 38,
     "metadata": {},
     "output_type": "execute_result"
    }
   ],
   "source": [
    "%viz --style=\"DEFAULT\" --view=\"Tree\" \"AliasImport\""
   ]
  },
  {
   "cell_type": "code",
   "execution_count": 39,
   "id": "fe55608d",
   "metadata": {
    "execution": {
     "iopub.execute_input": "2021-10-25T08:24:42.638903Z",
     "iopub.status.busy": "2021-10-25T08:24:42.638462Z",
     "iopub.status.idle": "2021-10-25T08:24:42.642902Z",
     "shell.execute_reply": "2021-10-25T08:24:42.643200Z"
    }
   },
   "outputs": [
    {
     "data": {
      "image/svg+xml": [
       "<?xml version=\"1.0\" encoding=\"UTF-8\" standalone=\"no\"?><svg xmlns=\"http://www.w3.org/2000/svg\" xmlns:xlink=\"http://www.w3.org/1999/xlink\" contentScriptType=\"application/ecmascript\" contentStyleType=\"text/css\" height=\"12px\" preserveAspectRatio=\"none\" style=\"width:12px;height:12px;\" version=\"1.1\" viewBox=\"0 0 12 12\" width=\"12px\" zoomAndPan=\"magnify\"><defs/><g><!--MD5=[c5f280e076d0d61ccf4b0f27871bda1d]\n",
       "@startuml\r\n",
       "skinparam monochrome true\r\n",
       "skinparam classbackgroundcolor white\r\n",
       "skinparam shadowing false\r\n",
       "skinparam wrapWidth 300\r\n",
       "hide circle\r\n",
       "\r\n",
       "@enduml\r\n",
       "\n",
       "PlantUML version 1.2020.13(Sat Jun 13 12:26:38 UTC 2020)\n",
       "(EPL source distribution)\n",
       "Java Runtime: OpenJDK Runtime Environment\n",
       "JVM: OpenJDK 64-Bit Server VM\n",
       "Default Encoding: UTF-8\n",
       "Language: en\n",
       "Country: null\n",
       "--></g></svg>"
      ]
     },
     "execution_count": 39,
     "metadata": {},
     "output_type": "execute_result"
    }
   ],
   "source": [
    "%viz --style=\"DEFAULT\" --view=\"State\" \"AliasImport\""
   ]
  },
  {
   "cell_type": "code",
   "execution_count": 40,
   "id": "16ff22ea",
   "metadata": {
    "execution": {
     "iopub.execute_input": "2021-10-25T08:24:42.692763Z",
     "iopub.status.busy": "2021-10-25T08:24:42.692338Z",
     "iopub.status.idle": "2021-10-25T08:24:42.728639Z",
     "shell.execute_reply": "2021-10-25T08:24:42.728257Z"
    }
   },
   "outputs": [
    {
     "data": {
      "image/svg+xml": [
       "<?xml version=\"1.0\" encoding=\"UTF-8\" standalone=\"no\"?><svg xmlns=\"http://www.w3.org/2000/svg\" xmlns:xlink=\"http://www.w3.org/1999/xlink\" contentScriptType=\"application/ecmascript\" contentStyleType=\"text/css\" height=\"179px\" preserveAspectRatio=\"none\" style=\"width:464px;height:179px;\" version=\"1.1\" viewBox=\"0 0 464 179\" width=\"464px\" zoomAndPan=\"magnify\"><defs/><g><!--MD5=[fbc87193dbaf4d95561dea2c320d4a47]\n",
       "cluster E1--><a href=\"psysml:144140e7-4c0e-44d8-912b-18808e1341b6\" target=\"_top\" title=\"psysml:144140e7-4c0e-44d8-912b-18808e1341b6\" xlink:actuate=\"onRequest\" xlink:href=\"psysml:144140e7-4c0e-44d8-912b-18808e1341b6\" xlink:show=\"new\" xlink:title=\"psysml:144140e7-4c0e-44d8-912b-18808e1341b6\" xlink:type=\"simple\"><polygon fill=\"#FFFFFF\" points=\"16,6,97,6,104,28.2969,442,28.2969,442,167,16,167,16,6\" style=\"stroke: #000000; stroke-width: 1.5;\"/><line style=\"stroke: #000000; stroke-width: 1.5;\" x1=\"16\" x2=\"104\" y1=\"28.2969\" y2=\"28.2969\"/><text fill=\"#000000\" font-family=\"sans-serif\" font-size=\"14\" font-weight=\"bold\" lengthAdjust=\"spacingAndGlyphs\" textLength=\"75\" x=\"20\" y=\"20.9951\">AliasImport</text></a><!--MD5=[e4f7fae6ed58524ba242bb0b0d3be6b7]\n",
       "cluster E2--><a href=\"psysml:0089895f-bb5f-44ae-8440-3a6de4c690d2\" target=\"_top\" title=\"psysml:0089895f-bb5f-44ae-8440-3a6de4c690d2\" xlink:actuate=\"onRequest\" xlink:href=\"psysml:0089895f-bb5f-44ae-8440-3a6de4c690d2\" xlink:show=\"new\" xlink:title=\"psysml:0089895f-bb5f-44ae-8440-3a6de4c690d2\" xlink:type=\"simple\"><polygon fill=\"#FFFFFF\" points=\"202,49,281,49,288,71.2969,418,71.2969,418,143,202,143,202,49\" style=\"stroke: #000000; stroke-width: 1.5;\"/><line style=\"stroke: #000000; stroke-width: 1.5;\" x1=\"202\" x2=\"288\" y1=\"71.2969\" y2=\"71.2969\"/><text fill=\"#000000\" font-family=\"sans-serif\" font-size=\"14\" font-weight=\"bold\" lengthAdjust=\"spacingAndGlyphs\" textLength=\"73\" x=\"206\" y=\"63.9951\">Definitions</text></a><!--MD5=[de5ec2e2e8f62f467e546659f5068c88]\n",
       "cluster E5--><a href=\"psysml:e57b5549-a047-42fa-b139-1a9999eaa505\" target=\"_top\" title=\"psysml:e57b5549-a047-42fa-b139-1a9999eaa505\" xlink:actuate=\"onRequest\" xlink:href=\"psysml:e57b5549-a047-42fa-b139-1a9999eaa505\" xlink:show=\"new\" xlink:title=\"psysml:e57b5549-a047-42fa-b139-1a9999eaa505\" xlink:type=\"simple\"><polygon fill=\"#FFFFFF\" points=\"40,50.5,98,50.5,105,72.7969,178,72.7969,178,141.5,40,141.5,40,50.5\" style=\"stroke: #000000; stroke-width: 1.5;\"/><line style=\"stroke: #000000; stroke-width: 1.5;\" x1=\"40\" x2=\"105\" y1=\"72.7969\" y2=\"72.7969\"/><text fill=\"#000000\" font-family=\"sans-serif\" font-size=\"14\" font-weight=\"bold\" lengthAdjust=\"spacingAndGlyphs\" textLength=\"52\" x=\"44\" y=\"65.4951\">Usages</text></a><g id=\"E1.E2.E3\"><a href=\"psysml:117f05b4-c909-44db-8047-1df426d26d27\" target=\"_top\" title=\"psysml:117f05b4-c909-44db-8047-1df426d26d27\" xlink:actuate=\"onRequest\" xlink:href=\"psysml:117f05b4-c909-44db-8047-1df426d26d27\" xlink:show=\"new\" xlink:title=\"psysml:117f05b4-c909-44db-8047-1df426d26d27\" xlink:type=\"simple\"><rect fill=\"#FFFFFF\" height=\"42.9375\" id=\"E3\" style=\"stroke: #383838; stroke-width: 1.5;\" width=\"75\" x=\"327.5\" y=\"84\"/><rect fill=\"#F8F8F8\" height=\"37.9375\" style=\"stroke: #383838; stroke-width: 1.5;\" width=\"75\" x=\"327.5\" y=\"84\"/><text fill=\"#000000\" font-family=\"sans-serif\" font-size=\"12\" font-style=\"italic\" lengthAdjust=\"spacingAndGlyphs\" textLength=\"68\" x=\"331\" y=\"100.1387\">«part  def»</text><text fill=\"#000000\" font-family=\"sans-serif\" font-size=\"12\" lengthAdjust=\"spacingAndGlyphs\" textLength=\"45\" x=\"342.5\" y=\"114.1074\">Vehicle</text></a></g><g id=\"E1.E2.E4\"><a href=\"psysml:117f05b4-c909-44db-8047-1df426d26d27\" target=\"_top\" title=\"psysml:117f05b4-c909-44db-8047-1df426d26d27\" xlink:actuate=\"onRequest\" xlink:href=\"psysml:117f05b4-c909-44db-8047-1df426d26d27\" xlink:show=\"new\" xlink:title=\"psysml:117f05b4-c909-44db-8047-1df426d26d27\" xlink:type=\"simple\"><rect fill=\"#FFFFFF\" height=\"42.9375\" id=\"E4\" style=\"stroke: #383838; stroke-width: 1.5;\" width=\"75\" x=\"217.5\" y=\"84\"/><rect fill=\"#F8F8F8\" height=\"37.9375\" style=\"stroke: #383838; stroke-width: 1.5;\" width=\"75\" x=\"217.5\" y=\"84\"/><text fill=\"#000000\" font-family=\"sans-serif\" font-size=\"12\" font-style=\"italic\" lengthAdjust=\"spacingAndGlyphs\" textLength=\"68\" x=\"221\" y=\"100.1387\">«part  def»</text><text fill=\"#000000\" font-family=\"sans-serif\" font-size=\"12\" lengthAdjust=\"spacingAndGlyphs\" textLength=\"45\" x=\"232.5\" y=\"114.1074\">Vehicle</text></a></g><g id=\"E1.E5.E6\"><a href=\"psysml:e21f8a97-fb67-4292-9535-52151c9da93c\" target=\"_top\" title=\"psysml:e21f8a97-fb67-4292-9535-52151c9da93c\" xlink:actuate=\"onRequest\" xlink:href=\"psysml:e21f8a97-fb67-4292-9535-52151c9da93c\" xlink:show=\"new\" xlink:title=\"psysml:e21f8a97-fb67-4292-9535-52151c9da93c\" xlink:type=\"simple\"><rect fill=\"#FFFFFF\" height=\"40\" id=\"E6\" rx=\"10\" ry=\"10\" style=\"stroke: #383838; stroke-width: 1.5;\" width=\"107\" x=\"55.5\" y=\"85.5\"/><rect fill=\"#F8F8F8\" height=\"23.9688\" rx=\"10\" ry=\"10\" style=\"stroke: #F8F8F8; stroke-width: 1.5;\" width=\"107\" x=\"55.5\" y=\"85.5\"/><rect fill=\"#F8F8F8\" height=\"10\" style=\"stroke: #F8F8F8; stroke-width: 1.5;\" width=\"107\" x=\"55.5\" y=\"99.4688\"/><rect fill=\"none\" height=\"40\" id=\"E6\" rx=\"10\" ry=\"10\" style=\"stroke: #383838; stroke-width: 1.5;\" width=\"107\" x=\"55.5\" y=\"85.5\"/><text fill=\"#000000\" font-family=\"sans-serif\" font-size=\"12\" lengthAdjust=\"spacingAndGlyphs\" textLength=\"96\" x=\"61\" y=\"101.6387\">vehicle: Vehicle</text></a></g><!--MD5=[3ab0d24d8dee8dcd9297a255c1a27b1f]\n",
       "@startuml\r\n",
       "skinparam ranksep 10\r\n",
       "skinparam rectangle {\r\n",
       " backgroundColor<<block>> LightGreen\r\n",
       "}\r\n",
       "skinparam monochrome true\r\n",
       "skinparam classbackgroundcolor white\r\n",
       "skinparam shadowing false\r\n",
       "skinparam wrapWidth 300\r\n",
       "hide circle\r\n",
       "\r\n",
       "package \"AliasImport\" as E1  [[psysml:144140e7-4c0e-44d8-912b-18808e1341b6 ]]  {\r\n",
       "package \"Definitions\" as E2  [[psysml:0089895f-bb5f-44ae-8440-3a6de4c690d2 ]]  {\r\n",
       "rec def \"Vehicle\" as E3  <<(T,blue) part  def>> [[psysml:117f05b4-c909-44db-8047-1df426d26d27 ]] {\r\n",
       "}\r\n",
       "rec def \"Vehicle\" as E4  <<(T,blue) part  def>> [[psysml:117f05b4-c909-44db-8047-1df426d26d27 ]] {\r\n",
       "}\r\n",
       "}\r\n",
       "package \"Usages\" as E5  [[psysml:e57b5549-a047-42fa-b139-1a9999eaa505 ]]  {\r\n",
       "rec usage \"vehicle: Vehicle\" as E6  [[psysml:e21f8a97-fb67-4292-9535-52151c9da93c ]] {\r\n",
       "}\r\n",
       "}\r\n",
       "}\r\n",
       "@enduml\r\n",
       "\n",
       "PlantUML version 1.2020.13(Sat Jun 13 12:26:38 UTC 2020)\n",
       "(EPL source distribution)\n",
       "Java Runtime: OpenJDK Runtime Environment\n",
       "JVM: OpenJDK 64-Bit Server VM\n",
       "Default Encoding: UTF-8\n",
       "Language: en\n",
       "Country: null\n",
       "--></g></svg>"
      ]
     },
     "execution_count": 40,
     "metadata": {},
     "output_type": "execute_result"
    }
   ],
   "source": [
    "%viz --style=\"DEFAULT\" --view=\"Interconnection\" \"AliasImport\""
   ]
  },
  {
   "cell_type": "code",
   "execution_count": 41,
   "id": "09326cba",
   "metadata": {
    "execution": {
     "iopub.execute_input": "2021-10-25T08:24:42.777704Z",
     "iopub.status.busy": "2021-10-25T08:24:42.777299Z",
     "iopub.status.idle": "2021-10-25T08:24:42.782782Z",
     "shell.execute_reply": "2021-10-25T08:24:42.782430Z"
    }
   },
   "outputs": [
    {
     "data": {
      "image/svg+xml": [
       "<?xml version=\"1.0\" encoding=\"UTF-8\" standalone=\"no\"?><svg xmlns=\"http://www.w3.org/2000/svg\" xmlns:xlink=\"http://www.w3.org/1999/xlink\" contentScriptType=\"application/ecmascript\" contentStyleType=\"text/css\" height=\"12px\" preserveAspectRatio=\"none\" style=\"width:12px;height:12px;\" version=\"1.1\" viewBox=\"0 0 12 12\" width=\"12px\" zoomAndPan=\"magnify\"><defs/><g><!--MD5=[388f21188e31bfdd97050473b19af356]\n",
       "@startuml\r\n",
       "skinparam ranksep 8\r\n",
       "skinparam monochrome true\r\n",
       "skinparam classbackgroundcolor white\r\n",
       "skinparam shadowing false\r\n",
       "skinparam wrapWidth 300\r\n",
       "hide circle\r\n",
       "\r\n",
       "@enduml\r\n",
       "\n",
       "PlantUML version 1.2020.13(Sat Jun 13 12:26:38 UTC 2020)\n",
       "(EPL source distribution)\n",
       "Java Runtime: OpenJDK Runtime Environment\n",
       "JVM: OpenJDK 64-Bit Server VM\n",
       "Default Encoding: UTF-8\n",
       "Language: en\n",
       "Country: null\n",
       "--></g></svg>"
      ]
     },
     "execution_count": 41,
     "metadata": {},
     "output_type": "execute_result"
    }
   ],
   "source": [
    "%viz --style=\"DEFAULT\" --view=\"Action\" \"AliasImport\""
   ]
  },
  {
   "cell_type": "code",
   "execution_count": 42,
   "id": "392198a0",
   "metadata": {
    "execution": {
     "iopub.execute_input": "2021-10-25T08:24:42.832258Z",
     "iopub.status.busy": "2021-10-25T08:24:42.831850Z",
     "iopub.status.idle": "2021-10-25T08:24:42.836625Z",
     "shell.execute_reply": "2021-10-25T08:24:42.836944Z"
    }
   },
   "outputs": [
    {
     "data": {
      "image/svg+xml": [
       "<?xml version=\"1.0\" encoding=\"UTF-8\" standalone=\"no\"?><svg xmlns=\"http://www.w3.org/2000/svg\" xmlns:xlink=\"http://www.w3.org/1999/xlink\" contentScriptType=\"application/ecmascript\" contentStyleType=\"text/css\" height=\"12px\" preserveAspectRatio=\"none\" style=\"width:12px;height:12px;\" version=\"1.1\" viewBox=\"0 0 12 12\" width=\"12px\" zoomAndPan=\"magnify\"><defs/><g><!--MD5=[0b72472770326784bf6c2b53246e1e64]\n",
       "@startuml\r\n",
       "skinparam roundcorner 20\r\n",
       "skinparam BoxPadding 20\r\n",
       "skinparam SequenceBoxBackgroundColor #white\r\n",
       "skinparam style strictuml\r\n",
       "skinparam maxMessageSize 100\r\n",
       "skinparam monochrome true\r\n",
       "skinparam classbackgroundcolor white\r\n",
       "skinparam shadowing false\r\n",
       "skinparam wrapWidth 300\r\n",
       "hide circle\r\n",
       "\r\n",
       "@enduml\r\n",
       "\n",
       "PlantUML version 1.2020.13(Sat Jun 13 12:26:38 UTC 2020)\n",
       "(EPL source distribution)\n",
       "Java Runtime: OpenJDK Runtime Environment\n",
       "JVM: OpenJDK 64-Bit Server VM\n",
       "Default Encoding: UTF-8\n",
       "Language: en\n",
       "Country: null\n",
       "--></g></svg>"
      ]
     },
     "execution_count": 42,
     "metadata": {},
     "output_type": "execute_result"
    }
   ],
   "source": [
    "%viz --style=\"DEFAULT\" --view=\"Sequence\" \"AliasImport\""
   ]
  },
  {
   "cell_type": "code",
   "execution_count": 43,
   "id": "1bde0a76",
   "metadata": {
    "execution": {
     "iopub.execute_input": "2021-10-25T08:24:42.886607Z",
     "iopub.status.busy": "2021-10-25T08:24:42.886202Z",
     "iopub.status.idle": "2021-10-25T08:24:42.912028Z",
     "shell.execute_reply": "2021-10-25T08:24:42.911677Z"
    }
   },
   "outputs": [
    {
     "data": {
      "image/svg+xml": [
       "<?xml version=\"1.0\" encoding=\"UTF-8\" standalone=\"no\"?><svg xmlns=\"http://www.w3.org/2000/svg\" xmlns:xlink=\"http://www.w3.org/1999/xlink\" contentScriptType=\"application/ecmascript\" contentStyleType=\"text/css\" height=\"303px\" preserveAspectRatio=\"none\" style=\"width:224px;height:303px;\" version=\"1.1\" viewBox=\"0 0 224 303\" width=\"224px\" zoomAndPan=\"magnify\"><defs/><g><!--MD5=[fbc87193dbaf4d95561dea2c320d4a47]\n",
       "cluster E1--><a href=\"psysml:144140e7-4c0e-44d8-912b-18808e1341b6\" target=\"_top\" title=\"psysml:144140e7-4c0e-44d8-912b-18808e1341b6\" xlink:actuate=\"onRequest\" xlink:href=\"psysml:144140e7-4c0e-44d8-912b-18808e1341b6\" xlink:show=\"new\" xlink:title=\"psysml:144140e7-4c0e-44d8-912b-18808e1341b6\" xlink:type=\"simple\"><polygon fill=\"#FFFFFF\" points=\"16,6,97,6,104,28.2969,202,28.2969,202,291,16,291,16,6\" style=\"stroke: #000000; stroke-width: 1.5;\"/><line style=\"stroke: #000000; stroke-width: 1.5;\" x1=\"16\" x2=\"104\" y1=\"28.2969\" y2=\"28.2969\"/><text fill=\"#000000\" font-family=\"sans-serif\" font-size=\"14\" font-weight=\"bold\" lengthAdjust=\"spacingAndGlyphs\" textLength=\"75\" x=\"20\" y=\"20.9951\">AliasImport</text></a><!--MD5=[e4f7fae6ed58524ba242bb0b0d3be6b7]\n",
       "cluster E2--><a href=\"psysml:0089895f-bb5f-44ae-8440-3a6de4c690d2\" target=\"_top\" title=\"psysml:0089895f-bb5f-44ae-8440-3a6de4c690d2\" xlink:actuate=\"onRequest\" xlink:href=\"psysml:0089895f-bb5f-44ae-8440-3a6de4c690d2\" xlink:show=\"new\" xlink:title=\"psysml:0089895f-bb5f-44ae-8440-3a6de4c690d2\" xlink:type=\"simple\"><polygon fill=\"#FFFFFF\" points=\"58,170,137,170,144,192.2969,160,192.2969,160,267,58,267,58,170\" style=\"stroke: #000000; stroke-width: 1.5;\"/><line style=\"stroke: #000000; stroke-width: 1.5;\" x1=\"58\" x2=\"144\" y1=\"192.2969\" y2=\"192.2969\"/><text fill=\"#000000\" font-family=\"sans-serif\" font-size=\"14\" font-weight=\"bold\" lengthAdjust=\"spacingAndGlyphs\" textLength=\"73\" x=\"62\" y=\"184.9951\">Definitions</text></a><!--MD5=[f6df4d0ebaf0b5dfb2ced0ae5af7c670]\n",
       "cluster E4--><a href=\"psysml:e57b5549-a047-42fa-b139-1a9999eaa505\" target=\"_top\" title=\"psysml:e57b5549-a047-42fa-b139-1a9999eaa505\" xlink:actuate=\"onRequest\" xlink:href=\"psysml:e57b5549-a047-42fa-b139-1a9999eaa505\" xlink:show=\"new\" xlink:title=\"psysml:e57b5549-a047-42fa-b139-1a9999eaa505\" xlink:type=\"simple\"><polygon fill=\"#FFFFFF\" points=\"40,49,98,49,105,71.2969,178,71.2969,178,146,40,146,40,49\" style=\"stroke: #000000; stroke-width: 1.5;\"/><line style=\"stroke: #000000; stroke-width: 1.5;\" x1=\"40\" x2=\"105\" y1=\"71.2969\" y2=\"71.2969\"/><text fill=\"#000000\" font-family=\"sans-serif\" font-size=\"14\" font-weight=\"bold\" lengthAdjust=\"spacingAndGlyphs\" textLength=\"52\" x=\"44\" y=\"63.9951\">Usages</text></a><!--MD5=[09b614a08d8cba4a07c9adeb5e0fee81]\n",
       "class E3--><a href=\"psysml:117f05b4-c909-44db-8047-1df426d26d27\" target=\"_top\" title=\"psysml:117f05b4-c909-44db-8047-1df426d26d27\" xlink:actuate=\"onRequest\" xlink:href=\"psysml:117f05b4-c909-44db-8047-1df426d26d27\" xlink:show=\"new\" xlink:title=\"psysml:117f05b4-c909-44db-8047-1df426d26d27\" xlink:type=\"simple\"><rect fill=\"#FFFFFF\" height=\"45.9375\" id=\"E3\" style=\"stroke: #383838; stroke-width: 1.5;\" width=\"70\" x=\"74\" y=\"205\"/><text fill=\"#000000\" font-family=\"sans-serif\" font-size=\"12\" font-style=\"italic\" lengthAdjust=\"spacingAndGlyphs\" textLength=\"68\" x=\"75\" y=\"221.1387\">«part  def»</text><text fill=\"#000000\" font-family=\"sans-serif\" font-size=\"12\" lengthAdjust=\"spacingAndGlyphs\" textLength=\"45\" x=\"86.5\" y=\"235.1074\">Vehicle</text><line style=\"stroke: #383838; stroke-width: 1.5;\" x1=\"75\" x2=\"143\" y1=\"242.9375\" y2=\"242.9375\"/></a><!--MD5=[270fce915f116d4de14055a7c1d9a0f3]\n",
       "class E5--><a href=\"psysml:e21f8a97-fb67-4292-9535-52151c9da93c\" target=\"_top\" title=\"psysml:e21f8a97-fb67-4292-9535-52151c9da93c\" xlink:actuate=\"onRequest\" xlink:href=\"psysml:e21f8a97-fb67-4292-9535-52151c9da93c\" xlink:show=\"new\" xlink:title=\"psysml:e21f8a97-fb67-4292-9535-52151c9da93c\" xlink:type=\"simple\"><rect fill=\"#FFFFFF\" height=\"45.9375\" id=\"E5\" rx=\"10\" ry=\"10\" style=\"stroke: #383838; stroke-width: 1.5;\" width=\"106\" x=\"56\" y=\"84\"/><text fill=\"#000000\" font-family=\"sans-serif\" font-size=\"12\" font-style=\"italic\" lengthAdjust=\"spacingAndGlyphs\" textLength=\"40\" x=\"89\" y=\"100.1387\">«part»</text><text fill=\"#000000\" font-family=\"sans-serif\" font-size=\"12\" lengthAdjust=\"spacingAndGlyphs\" textLength=\"96\" x=\"59\" y=\"114.1074\">vehicle: Vehicle</text><line style=\"stroke: #383838; stroke-width: 1.5;\" x1=\"57\" x2=\"161\" y1=\"121.9375\" y2=\"121.9375\"/></a><!--MD5=[e9be52314489bd878ff4c7144b63c9e1]\n",
       "link E5 to E3--><a href=\"psysml:763357b8-b5e0-4785-a470-e50d945081e3\" target=\"_top\" title=\"psysml:763357b8-b5e0-4785-a470-e50d945081e3\" xlink:actuate=\"onRequest\" xlink:href=\"psysml:763357b8-b5e0-4785-a470-e50d945081e3\" xlink:show=\"new\" xlink:title=\"psysml:763357b8-b5e0-4785-a470-e50d945081e3\" xlink:type=\"simple\"><path d=\"M109,130.1 C109,145.37 109,166.16 109,184.57 \" fill=\"none\" id=\"E5-&gt;E3\" style=\"stroke: #383838; stroke-width: 1.0;\"/><polygon fill=\"#FFFFFF\" points=\"109,204.61,102,185.61,116,185.61,109,204.61\" style=\"stroke: #383838; stroke-width: 1.0;\"/><ellipse cx=\"104\" cy=\"179.91\" fill=\"#383838\" rx=\"2\" ry=\"2\" style=\"stroke: #383838; stroke-width: 1.0;\"/><ellipse cx=\"114\" cy=\"179.91\" fill=\"#383838\" rx=\"2\" ry=\"2\" style=\"stroke: #383838; stroke-width: 1.0;\"/></a><!--MD5=[d703ddf3604786a3f9e45d487b8a1543]\n",
       "@startuml\r\n",
       "skinparam monochrome true\r\n",
       "skinparam classbackgroundcolor white\r\n",
       "skinparam shadowing false\r\n",
       "skinparam wrapWidth 300\r\n",
       "hide circle\r\n",
       "\r\n",
       "package \"AliasImport\" as E1  [[psysml:144140e7-4c0e-44d8-912b-18808e1341b6 ]]  {\r\n",
       "package \"Definitions\" as E2  [[psysml:0089895f-bb5f-44ae-8440-3a6de4c690d2 ]]  {\r\n",
       "comp def \"Vehicle\" as E3  <<(T,blue) part  def>> [[psysml:117f05b4-c909-44db-8047-1df426d26d27 ]] {\r\n",
       "}\r\n",
       "}\r\n",
       "package \"Usages\" as E4  [[psysml:e57b5549-a047-42fa-b139-1a9999eaa505 ]]  {\r\n",
       "comp usage \"vehicle: Vehicle \" as E5  <<(T,blue) part>> [[psysml:e21f8a97-fb67-4292-9535-52151c9da93c ]] {\r\n",
       "}\r\n",
       "}\r\n",
       "}\r\n",
       "E5 - -:|> E3 [[psysml:763357b8-b5e0-4785-a470-e50d945081e3 ]] \r\n",
       "@enduml\r\n",
       "\n",
       "PlantUML version 1.2020.13(Sat Jun 13 12:26:38 UTC 2020)\n",
       "(EPL source distribution)\n",
       "Java Runtime: OpenJDK Runtime Environment\n",
       "JVM: OpenJDK 64-Bit Server VM\n",
       "Default Encoding: UTF-8\n",
       "Language: en\n",
       "Country: null\n",
       "--></g></svg>"
      ]
     },
     "execution_count": 43,
     "metadata": {},
     "output_type": "execute_result"
    }
   ],
   "source": [
    "%viz --style=\"DEFAULT\" --view=\"MIXED\" \"AliasImport\""
   ]
  },
  {
   "cell_type": "code",
   "execution_count": 44,
   "id": "5e431d49",
   "metadata": {
    "execution": {
     "iopub.execute_input": "2021-10-25T08:24:42.961421Z",
     "iopub.status.busy": "2021-10-25T08:24:42.961017Z",
     "iopub.status.idle": "2021-10-25T08:24:42.989559Z",
     "shell.execute_reply": "2021-10-25T08:24:42.989196Z"
    }
   },
   "outputs": [
    {
     "data": {
      "image/svg+xml": [
       "<?xml version=\"1.0\" encoding=\"UTF-8\" standalone=\"no\"?><svg xmlns=\"http://www.w3.org/2000/svg\" xmlns:xlink=\"http://www.w3.org/1999/xlink\" contentScriptType=\"application/ecmascript\" contentStyleType=\"text/css\" height=\"303px\" preserveAspectRatio=\"none\" style=\"width:224px;height:303px;\" version=\"1.1\" viewBox=\"0 0 224 303\" width=\"224px\" zoomAndPan=\"magnify\"><defs/><g><!--MD5=[fbc87193dbaf4d95561dea2c320d4a47]\n",
       "cluster E1--><a href=\"psysml:144140e7-4c0e-44d8-912b-18808e1341b6\" target=\"_top\" title=\"psysml:144140e7-4c0e-44d8-912b-18808e1341b6\" xlink:actuate=\"onRequest\" xlink:href=\"psysml:144140e7-4c0e-44d8-912b-18808e1341b6\" xlink:show=\"new\" xlink:title=\"psysml:144140e7-4c0e-44d8-912b-18808e1341b6\" xlink:type=\"simple\"><polygon fill=\"#FFFFFF\" points=\"16,6,97,6,104,28.2969,202,28.2969,202,291,16,291,16,6\" style=\"stroke: #000000; stroke-width: 1.5;\"/><line style=\"stroke: #000000; stroke-width: 1.5;\" x1=\"16\" x2=\"104\" y1=\"28.2969\" y2=\"28.2969\"/><text fill=\"#000000\" font-family=\"sans-serif\" font-size=\"14\" font-weight=\"bold\" lengthAdjust=\"spacingAndGlyphs\" textLength=\"75\" x=\"20\" y=\"20.9951\">AliasImport</text></a><!--MD5=[e4f7fae6ed58524ba242bb0b0d3be6b7]\n",
       "cluster E2--><a href=\"psysml:0089895f-bb5f-44ae-8440-3a6de4c690d2\" target=\"_top\" title=\"psysml:0089895f-bb5f-44ae-8440-3a6de4c690d2\" xlink:actuate=\"onRequest\" xlink:href=\"psysml:0089895f-bb5f-44ae-8440-3a6de4c690d2\" xlink:show=\"new\" xlink:title=\"psysml:0089895f-bb5f-44ae-8440-3a6de4c690d2\" xlink:type=\"simple\"><polygon fill=\"#FFFFFF\" points=\"58,170,137,170,144,192.2969,160,192.2969,160,267,58,267,58,170\" style=\"stroke: #000000; stroke-width: 1.5;\"/><line style=\"stroke: #000000; stroke-width: 1.5;\" x1=\"58\" x2=\"144\" y1=\"192.2969\" y2=\"192.2969\"/><text fill=\"#000000\" font-family=\"sans-serif\" font-size=\"14\" font-weight=\"bold\" lengthAdjust=\"spacingAndGlyphs\" textLength=\"73\" x=\"62\" y=\"184.9951\">Definitions</text></a><!--MD5=[f6df4d0ebaf0b5dfb2ced0ae5af7c670]\n",
       "cluster E4--><a href=\"psysml:e57b5549-a047-42fa-b139-1a9999eaa505\" target=\"_top\" title=\"psysml:e57b5549-a047-42fa-b139-1a9999eaa505\" xlink:actuate=\"onRequest\" xlink:href=\"psysml:e57b5549-a047-42fa-b139-1a9999eaa505\" xlink:show=\"new\" xlink:title=\"psysml:e57b5549-a047-42fa-b139-1a9999eaa505\" xlink:type=\"simple\"><polygon fill=\"#FFFFFF\" points=\"40,49,98,49,105,71.2969,178,71.2969,178,146,40,146,40,49\" style=\"stroke: #000000; stroke-width: 1.5;\"/><line style=\"stroke: #000000; stroke-width: 1.5;\" x1=\"40\" x2=\"105\" y1=\"71.2969\" y2=\"71.2969\"/><text fill=\"#000000\" font-family=\"sans-serif\" font-size=\"14\" font-weight=\"bold\" lengthAdjust=\"spacingAndGlyphs\" textLength=\"52\" x=\"44\" y=\"63.9951\">Usages</text></a><!--MD5=[09b614a08d8cba4a07c9adeb5e0fee81]\n",
       "class E3--><a href=\"psysml:117f05b4-c909-44db-8047-1df426d26d27\" target=\"_top\" title=\"psysml:117f05b4-c909-44db-8047-1df426d26d27\" xlink:actuate=\"onRequest\" xlink:href=\"psysml:117f05b4-c909-44db-8047-1df426d26d27\" xlink:show=\"new\" xlink:title=\"psysml:117f05b4-c909-44db-8047-1df426d26d27\" xlink:type=\"simple\"><rect fill=\"#FFFFFF\" height=\"45.9375\" id=\"E3\" style=\"stroke: #383838; stroke-width: 1.5;\" width=\"70\" x=\"74\" y=\"205\"/><text fill=\"#000000\" font-family=\"sans-serif\" font-size=\"12\" font-style=\"italic\" lengthAdjust=\"spacingAndGlyphs\" textLength=\"68\" x=\"75\" y=\"221.1387\">«part  def»</text><text fill=\"#000000\" font-family=\"sans-serif\" font-size=\"12\" lengthAdjust=\"spacingAndGlyphs\" textLength=\"45\" x=\"86.5\" y=\"235.1074\">Vehicle</text><line style=\"stroke: #383838; stroke-width: 1.5;\" x1=\"75\" x2=\"143\" y1=\"242.9375\" y2=\"242.9375\"/></a><!--MD5=[270fce915f116d4de14055a7c1d9a0f3]\n",
       "class E5--><a href=\"psysml:e21f8a97-fb67-4292-9535-52151c9da93c\" target=\"_top\" title=\"psysml:e21f8a97-fb67-4292-9535-52151c9da93c\" xlink:actuate=\"onRequest\" xlink:href=\"psysml:e21f8a97-fb67-4292-9535-52151c9da93c\" xlink:show=\"new\" xlink:title=\"psysml:e21f8a97-fb67-4292-9535-52151c9da93c\" xlink:type=\"simple\"><rect fill=\"#FFFFFF\" height=\"45.9375\" id=\"E5\" rx=\"10\" ry=\"10\" style=\"stroke: #383838; stroke-width: 1.5;\" width=\"106\" x=\"56\" y=\"84\"/><text fill=\"#000000\" font-family=\"sans-serif\" font-size=\"12\" font-style=\"italic\" lengthAdjust=\"spacingAndGlyphs\" textLength=\"40\" x=\"89\" y=\"100.1387\">«part»</text><text fill=\"#000000\" font-family=\"sans-serif\" font-size=\"12\" lengthAdjust=\"spacingAndGlyphs\" textLength=\"96\" x=\"59\" y=\"114.1074\">vehicle: Vehicle</text><line style=\"stroke: #383838; stroke-width: 1.5;\" x1=\"57\" x2=\"161\" y1=\"121.9375\" y2=\"121.9375\"/></a><!--MD5=[e9be52314489bd878ff4c7144b63c9e1]\n",
       "link E5 to E3--><a href=\"psysml:763357b8-b5e0-4785-a470-e50d945081e3\" target=\"_top\" title=\"psysml:763357b8-b5e0-4785-a470-e50d945081e3\" xlink:actuate=\"onRequest\" xlink:href=\"psysml:763357b8-b5e0-4785-a470-e50d945081e3\" xlink:show=\"new\" xlink:title=\"psysml:763357b8-b5e0-4785-a470-e50d945081e3\" xlink:type=\"simple\"><path d=\"M109,130.1 C109,145.37 109,166.16 109,184.57 \" fill=\"none\" id=\"E5-&gt;E3\" style=\"stroke: #383838; stroke-width: 1.0;\"/><polygon fill=\"#FFFFFF\" points=\"109,204.61,102,185.61,116,185.61,109,204.61\" style=\"stroke: #383838; stroke-width: 1.0;\"/><ellipse cx=\"104\" cy=\"179.91\" fill=\"#383838\" rx=\"2\" ry=\"2\" style=\"stroke: #383838; stroke-width: 1.0;\"/><ellipse cx=\"114\" cy=\"179.91\" fill=\"#383838\" rx=\"2\" ry=\"2\" style=\"stroke: #383838; stroke-width: 1.0;\"/></a><!--MD5=[ee2cad7262e853a5aad811d8dfda077c]\n",
       "@startuml\r\n",
       "top to bottom direction\r\n",
       "skinparam monochrome true\r\n",
       "skinparam classbackgroundcolor white\r\n",
       "skinparam shadowing false\r\n",
       "skinparam wrapWidth 300\r\n",
       "hide circle\r\n",
       "\r\n",
       "package \"AliasImport\" as E1  [[psysml:144140e7-4c0e-44d8-912b-18808e1341b6 ]]  {\r\n",
       "package \"Definitions\" as E2  [[psysml:0089895f-bb5f-44ae-8440-3a6de4c690d2 ]]  {\r\n",
       "comp def \"Vehicle\" as E3  <<(T,blue) part  def>> [[psysml:117f05b4-c909-44db-8047-1df426d26d27 ]] {\r\n",
       "}\r\n",
       "}\r\n",
       "package \"Usages\" as E4  [[psysml:e57b5549-a047-42fa-b139-1a9999eaa505 ]]  {\r\n",
       "comp usage \"vehicle: Vehicle \" as E5  <<(T,blue) part>> [[psysml:e21f8a97-fb67-4292-9535-52151c9da93c ]] {\r\n",
       "}\r\n",
       "}\r\n",
       "}\r\n",
       "E5 - -:|> E3 [[psysml:763357b8-b5e0-4785-a470-e50d945081e3 ]] \r\n",
       "@enduml\r\n",
       "\n",
       "PlantUML version 1.2020.13(Sat Jun 13 12:26:38 UTC 2020)\n",
       "(EPL source distribution)\n",
       "Java Runtime: OpenJDK Runtime Environment\n",
       "JVM: OpenJDK 64-Bit Server VM\n",
       "Default Encoding: UTF-8\n",
       "Language: en\n",
       "Country: null\n",
       "--></g></svg>"
      ]
     },
     "execution_count": 44,
     "metadata": {},
     "output_type": "execute_result"
    }
   ],
   "source": [
    "%viz --style=\"TB\" --view=\"Default\" \"AliasImport\""
   ]
  },
  {
   "cell_type": "code",
   "execution_count": 45,
   "id": "d40956ca",
   "metadata": {
    "execution": {
     "iopub.execute_input": "2021-10-25T08:24:43.038715Z",
     "iopub.status.busy": "2021-10-25T08:24:43.038307Z",
     "iopub.status.idle": "2021-10-25T08:24:43.066278Z",
     "shell.execute_reply": "2021-10-25T08:24:43.065925Z"
    }
   },
   "outputs": [
    {
     "data": {
      "image/svg+xml": [
       "<?xml version=\"1.0\" encoding=\"UTF-8\" standalone=\"no\"?><svg xmlns=\"http://www.w3.org/2000/svg\" xmlns:xlink=\"http://www.w3.org/1999/xlink\" contentScriptType=\"application/ecmascript\" contentStyleType=\"text/css\" height=\"303px\" preserveAspectRatio=\"none\" style=\"width:224px;height:303px;\" version=\"1.1\" viewBox=\"0 0 224 303\" width=\"224px\" zoomAndPan=\"magnify\"><defs/><g><!--MD5=[fbc87193dbaf4d95561dea2c320d4a47]\n",
       "cluster E1--><a href=\"psysml:144140e7-4c0e-44d8-912b-18808e1341b6\" target=\"_top\" title=\"psysml:144140e7-4c0e-44d8-912b-18808e1341b6\" xlink:actuate=\"onRequest\" xlink:href=\"psysml:144140e7-4c0e-44d8-912b-18808e1341b6\" xlink:show=\"new\" xlink:title=\"psysml:144140e7-4c0e-44d8-912b-18808e1341b6\" xlink:type=\"simple\"><polygon fill=\"#FFFFFF\" points=\"16,6,97,6,104,28.2969,202,28.2969,202,291,16,291,16,6\" style=\"stroke: #000000; stroke-width: 1.5;\"/><line style=\"stroke: #000000; stroke-width: 1.5;\" x1=\"16\" x2=\"104\" y1=\"28.2969\" y2=\"28.2969\"/><text fill=\"#000000\" font-family=\"sans-serif\" font-size=\"14\" font-weight=\"bold\" lengthAdjust=\"spacingAndGlyphs\" textLength=\"75\" x=\"20\" y=\"20.9951\">AliasImport</text></a><!--MD5=[e4f7fae6ed58524ba242bb0b0d3be6b7]\n",
       "cluster E2--><a href=\"psysml:0089895f-bb5f-44ae-8440-3a6de4c690d2\" target=\"_top\" title=\"psysml:0089895f-bb5f-44ae-8440-3a6de4c690d2\" xlink:actuate=\"onRequest\" xlink:href=\"psysml:0089895f-bb5f-44ae-8440-3a6de4c690d2\" xlink:show=\"new\" xlink:title=\"psysml:0089895f-bb5f-44ae-8440-3a6de4c690d2\" xlink:type=\"simple\"><polygon fill=\"#FFFFFF\" points=\"58,170,137,170,144,192.2969,160,192.2969,160,267,58,267,58,170\" style=\"stroke: #000000; stroke-width: 1.5;\"/><line style=\"stroke: #000000; stroke-width: 1.5;\" x1=\"58\" x2=\"144\" y1=\"192.2969\" y2=\"192.2969\"/><text fill=\"#000000\" font-family=\"sans-serif\" font-size=\"14\" font-weight=\"bold\" lengthAdjust=\"spacingAndGlyphs\" textLength=\"73\" x=\"62\" y=\"184.9951\">Definitions</text></a><!--MD5=[f6df4d0ebaf0b5dfb2ced0ae5af7c670]\n",
       "cluster E4--><a href=\"psysml:e57b5549-a047-42fa-b139-1a9999eaa505\" target=\"_top\" title=\"psysml:e57b5549-a047-42fa-b139-1a9999eaa505\" xlink:actuate=\"onRequest\" xlink:href=\"psysml:e57b5549-a047-42fa-b139-1a9999eaa505\" xlink:show=\"new\" xlink:title=\"psysml:e57b5549-a047-42fa-b139-1a9999eaa505\" xlink:type=\"simple\"><polygon fill=\"#FFFFFF\" points=\"40,49,98,49,105,71.2969,178,71.2969,178,146,40,146,40,49\" style=\"stroke: #000000; stroke-width: 1.5;\"/><line style=\"stroke: #000000; stroke-width: 1.5;\" x1=\"40\" x2=\"105\" y1=\"71.2969\" y2=\"71.2969\"/><text fill=\"#000000\" font-family=\"sans-serif\" font-size=\"14\" font-weight=\"bold\" lengthAdjust=\"spacingAndGlyphs\" textLength=\"52\" x=\"44\" y=\"63.9951\">Usages</text></a><!--MD5=[09b614a08d8cba4a07c9adeb5e0fee81]\n",
       "class E3--><a href=\"psysml:117f05b4-c909-44db-8047-1df426d26d27\" target=\"_top\" title=\"psysml:117f05b4-c909-44db-8047-1df426d26d27\" xlink:actuate=\"onRequest\" xlink:href=\"psysml:117f05b4-c909-44db-8047-1df426d26d27\" xlink:show=\"new\" xlink:title=\"psysml:117f05b4-c909-44db-8047-1df426d26d27\" xlink:type=\"simple\"><rect fill=\"#FFFFFF\" height=\"45.9375\" id=\"E3\" style=\"stroke: #383838; stroke-width: 1.5;\" width=\"70\" x=\"74\" y=\"205\"/><text fill=\"#000000\" font-family=\"sans-serif\" font-size=\"12\" font-style=\"italic\" lengthAdjust=\"spacingAndGlyphs\" textLength=\"68\" x=\"75\" y=\"221.1387\">«part  def»</text><text fill=\"#000000\" font-family=\"sans-serif\" font-size=\"12\" lengthAdjust=\"spacingAndGlyphs\" textLength=\"45\" x=\"86.5\" y=\"235.1074\">Vehicle</text><line style=\"stroke: #383838; stroke-width: 1.5;\" x1=\"75\" x2=\"143\" y1=\"242.9375\" y2=\"242.9375\"/></a><!--MD5=[270fce915f116d4de14055a7c1d9a0f3]\n",
       "class E5--><a href=\"psysml:e21f8a97-fb67-4292-9535-52151c9da93c\" target=\"_top\" title=\"psysml:e21f8a97-fb67-4292-9535-52151c9da93c\" xlink:actuate=\"onRequest\" xlink:href=\"psysml:e21f8a97-fb67-4292-9535-52151c9da93c\" xlink:show=\"new\" xlink:title=\"psysml:e21f8a97-fb67-4292-9535-52151c9da93c\" xlink:type=\"simple\"><rect fill=\"#FFFFFF\" height=\"45.9375\" id=\"E5\" rx=\"10\" ry=\"10\" style=\"stroke: #383838; stroke-width: 1.5;\" width=\"106\" x=\"56\" y=\"84\"/><text fill=\"#000000\" font-family=\"sans-serif\" font-size=\"12\" font-style=\"italic\" lengthAdjust=\"spacingAndGlyphs\" textLength=\"40\" x=\"89\" y=\"100.1387\">«part»</text><text fill=\"#000000\" font-family=\"sans-serif\" font-size=\"12\" lengthAdjust=\"spacingAndGlyphs\" textLength=\"96\" x=\"59\" y=\"114.1074\">vehicle: Vehicle</text><line style=\"stroke: #383838; stroke-width: 1.5;\" x1=\"57\" x2=\"161\" y1=\"121.9375\" y2=\"121.9375\"/></a><!--MD5=[e9be52314489bd878ff4c7144b63c9e1]\n",
       "link E5 to E3--><a href=\"psysml:763357b8-b5e0-4785-a470-e50d945081e3\" target=\"_top\" title=\"psysml:763357b8-b5e0-4785-a470-e50d945081e3\" xlink:actuate=\"onRequest\" xlink:href=\"psysml:763357b8-b5e0-4785-a470-e50d945081e3\" xlink:show=\"new\" xlink:title=\"psysml:763357b8-b5e0-4785-a470-e50d945081e3\" xlink:type=\"simple\"><path d=\"M109,130.1 C109,145.37 109,166.16 109,184.57 \" fill=\"none\" id=\"E5-&gt;E3\" style=\"stroke: #383838; stroke-width: 1.0;\"/><polygon fill=\"#FFFFFF\" points=\"109,204.61,102,185.61,116,185.61,109,204.61\" style=\"stroke: #383838; stroke-width: 1.0;\"/><ellipse cx=\"104\" cy=\"179.91\" fill=\"#383838\" rx=\"2\" ry=\"2\" style=\"stroke: #383838; stroke-width: 1.0;\"/><ellipse cx=\"114\" cy=\"179.91\" fill=\"#383838\" rx=\"2\" ry=\"2\" style=\"stroke: #383838; stroke-width: 1.0;\"/></a><!--MD5=[ee2cad7262e853a5aad811d8dfda077c]\n",
       "@startuml\r\n",
       "top to bottom direction\r\n",
       "skinparam monochrome true\r\n",
       "skinparam classbackgroundcolor white\r\n",
       "skinparam shadowing false\r\n",
       "skinparam wrapWidth 300\r\n",
       "hide circle\r\n",
       "\r\n",
       "package \"AliasImport\" as E1  [[psysml:144140e7-4c0e-44d8-912b-18808e1341b6 ]]  {\r\n",
       "package \"Definitions\" as E2  [[psysml:0089895f-bb5f-44ae-8440-3a6de4c690d2 ]]  {\r\n",
       "comp def \"Vehicle\" as E3  <<(T,blue) part  def>> [[psysml:117f05b4-c909-44db-8047-1df426d26d27 ]] {\r\n",
       "}\r\n",
       "}\r\n",
       "package \"Usages\" as E4  [[psysml:e57b5549-a047-42fa-b139-1a9999eaa505 ]]  {\r\n",
       "comp usage \"vehicle: Vehicle \" as E5  <<(T,blue) part>> [[psysml:e21f8a97-fb67-4292-9535-52151c9da93c ]] {\r\n",
       "}\r\n",
       "}\r\n",
       "}\r\n",
       "E5 - -:|> E3 [[psysml:763357b8-b5e0-4785-a470-e50d945081e3 ]] \r\n",
       "@enduml\r\n",
       "\n",
       "PlantUML version 1.2020.13(Sat Jun 13 12:26:38 UTC 2020)\n",
       "(EPL source distribution)\n",
       "Java Runtime: OpenJDK Runtime Environment\n",
       "JVM: OpenJDK 64-Bit Server VM\n",
       "Default Encoding: UTF-8\n",
       "Language: en\n",
       "Country: null\n",
       "--></g></svg>"
      ]
     },
     "execution_count": 45,
     "metadata": {},
     "output_type": "execute_result"
    }
   ],
   "source": [
    "%viz --style=\"TB\" --view=\"Tree\" \"AliasImport\""
   ]
  },
  {
   "cell_type": "code",
   "execution_count": 46,
   "id": "b047c0ab",
   "metadata": {
    "execution": {
     "iopub.execute_input": "2021-10-25T08:24:43.115779Z",
     "iopub.status.busy": "2021-10-25T08:24:43.115353Z",
     "iopub.status.idle": "2021-10-25T08:24:43.120431Z",
     "shell.execute_reply": "2021-10-25T08:24:43.120038Z"
    }
   },
   "outputs": [
    {
     "data": {
      "image/svg+xml": [
       "<?xml version=\"1.0\" encoding=\"UTF-8\" standalone=\"no\"?><svg xmlns=\"http://www.w3.org/2000/svg\" xmlns:xlink=\"http://www.w3.org/1999/xlink\" contentScriptType=\"application/ecmascript\" contentStyleType=\"text/css\" height=\"12px\" preserveAspectRatio=\"none\" style=\"width:12px;height:12px;\" version=\"1.1\" viewBox=\"0 0 12 12\" width=\"12px\" zoomAndPan=\"magnify\"><defs/><g><!--MD5=[f4ee21bc66e489b5061b7c3e9601fdef]\n",
       "@startuml\r\n",
       "top to bottom direction\r\n",
       "skinparam monochrome true\r\n",
       "skinparam classbackgroundcolor white\r\n",
       "skinparam shadowing false\r\n",
       "skinparam wrapWidth 300\r\n",
       "hide circle\r\n",
       "\r\n",
       "@enduml\r\n",
       "\n",
       "PlantUML version 1.2020.13(Sat Jun 13 12:26:38 UTC 2020)\n",
       "(EPL source distribution)\n",
       "Java Runtime: OpenJDK Runtime Environment\n",
       "JVM: OpenJDK 64-Bit Server VM\n",
       "Default Encoding: UTF-8\n",
       "Language: en\n",
       "Country: null\n",
       "--></g></svg>"
      ]
     },
     "execution_count": 46,
     "metadata": {},
     "output_type": "execute_result"
    }
   ],
   "source": [
    "%viz --style=\"TB\" --view=\"State\" \"AliasImport\""
   ]
  },
  {
   "cell_type": "code",
   "execution_count": 47,
   "id": "b9af7977",
   "metadata": {
    "execution": {
     "iopub.execute_input": "2021-10-25T08:24:43.169853Z",
     "iopub.status.busy": "2021-10-25T08:24:43.169417Z",
     "iopub.status.idle": "2021-10-25T08:24:43.192713Z",
     "shell.execute_reply": "2021-10-25T08:24:43.192346Z"
    }
   },
   "outputs": [
    {
     "data": {
      "image/svg+xml": [
       "<?xml version=\"1.0\" encoding=\"UTF-8\" standalone=\"no\"?><svg xmlns=\"http://www.w3.org/2000/svg\" xmlns:xlink=\"http://www.w3.org/1999/xlink\" contentScriptType=\"application/ecmascript\" contentStyleType=\"text/css\" height=\"179px\" preserveAspectRatio=\"none\" style=\"width:464px;height:179px;\" version=\"1.1\" viewBox=\"0 0 464 179\" width=\"464px\" zoomAndPan=\"magnify\"><defs/><g><!--MD5=[fbc87193dbaf4d95561dea2c320d4a47]\n",
       "cluster E1--><a href=\"psysml:144140e7-4c0e-44d8-912b-18808e1341b6\" target=\"_top\" title=\"psysml:144140e7-4c0e-44d8-912b-18808e1341b6\" xlink:actuate=\"onRequest\" xlink:href=\"psysml:144140e7-4c0e-44d8-912b-18808e1341b6\" xlink:show=\"new\" xlink:title=\"psysml:144140e7-4c0e-44d8-912b-18808e1341b6\" xlink:type=\"simple\"><polygon fill=\"#FFFFFF\" points=\"16,6,97,6,104,28.2969,442,28.2969,442,167,16,167,16,6\" style=\"stroke: #000000; stroke-width: 1.5;\"/><line style=\"stroke: #000000; stroke-width: 1.5;\" x1=\"16\" x2=\"104\" y1=\"28.2969\" y2=\"28.2969\"/><text fill=\"#000000\" font-family=\"sans-serif\" font-size=\"14\" font-weight=\"bold\" lengthAdjust=\"spacingAndGlyphs\" textLength=\"75\" x=\"20\" y=\"20.9951\">AliasImport</text></a><!--MD5=[e4f7fae6ed58524ba242bb0b0d3be6b7]\n",
       "cluster E2--><a href=\"psysml:0089895f-bb5f-44ae-8440-3a6de4c690d2\" target=\"_top\" title=\"psysml:0089895f-bb5f-44ae-8440-3a6de4c690d2\" xlink:actuate=\"onRequest\" xlink:href=\"psysml:0089895f-bb5f-44ae-8440-3a6de4c690d2\" xlink:show=\"new\" xlink:title=\"psysml:0089895f-bb5f-44ae-8440-3a6de4c690d2\" xlink:type=\"simple\"><polygon fill=\"#FFFFFF\" points=\"202,49,281,49,288,71.2969,418,71.2969,418,143,202,143,202,49\" style=\"stroke: #000000; stroke-width: 1.5;\"/><line style=\"stroke: #000000; stroke-width: 1.5;\" x1=\"202\" x2=\"288\" y1=\"71.2969\" y2=\"71.2969\"/><text fill=\"#000000\" font-family=\"sans-serif\" font-size=\"14\" font-weight=\"bold\" lengthAdjust=\"spacingAndGlyphs\" textLength=\"73\" x=\"206\" y=\"63.9951\">Definitions</text></a><!--MD5=[de5ec2e2e8f62f467e546659f5068c88]\n",
       "cluster E5--><a href=\"psysml:e57b5549-a047-42fa-b139-1a9999eaa505\" target=\"_top\" title=\"psysml:e57b5549-a047-42fa-b139-1a9999eaa505\" xlink:actuate=\"onRequest\" xlink:href=\"psysml:e57b5549-a047-42fa-b139-1a9999eaa505\" xlink:show=\"new\" xlink:title=\"psysml:e57b5549-a047-42fa-b139-1a9999eaa505\" xlink:type=\"simple\"><polygon fill=\"#FFFFFF\" points=\"40,50.5,98,50.5,105,72.7969,178,72.7969,178,141.5,40,141.5,40,50.5\" style=\"stroke: #000000; stroke-width: 1.5;\"/><line style=\"stroke: #000000; stroke-width: 1.5;\" x1=\"40\" x2=\"105\" y1=\"72.7969\" y2=\"72.7969\"/><text fill=\"#000000\" font-family=\"sans-serif\" font-size=\"14\" font-weight=\"bold\" lengthAdjust=\"spacingAndGlyphs\" textLength=\"52\" x=\"44\" y=\"65.4951\">Usages</text></a><g id=\"E1.E2.E3\"><a href=\"psysml:117f05b4-c909-44db-8047-1df426d26d27\" target=\"_top\" title=\"psysml:117f05b4-c909-44db-8047-1df426d26d27\" xlink:actuate=\"onRequest\" xlink:href=\"psysml:117f05b4-c909-44db-8047-1df426d26d27\" xlink:show=\"new\" xlink:title=\"psysml:117f05b4-c909-44db-8047-1df426d26d27\" xlink:type=\"simple\"><rect fill=\"#FFFFFF\" height=\"42.9375\" id=\"E3\" style=\"stroke: #383838; stroke-width: 1.5;\" width=\"75\" x=\"327.5\" y=\"84\"/><rect fill=\"#F8F8F8\" height=\"37.9375\" style=\"stroke: #383838; stroke-width: 1.5;\" width=\"75\" x=\"327.5\" y=\"84\"/><text fill=\"#000000\" font-family=\"sans-serif\" font-size=\"12\" font-style=\"italic\" lengthAdjust=\"spacingAndGlyphs\" textLength=\"68\" x=\"331\" y=\"100.1387\">«part  def»</text><text fill=\"#000000\" font-family=\"sans-serif\" font-size=\"12\" lengthAdjust=\"spacingAndGlyphs\" textLength=\"45\" x=\"342.5\" y=\"114.1074\">Vehicle</text></a></g><g id=\"E1.E2.E4\"><a href=\"psysml:117f05b4-c909-44db-8047-1df426d26d27\" target=\"_top\" title=\"psysml:117f05b4-c909-44db-8047-1df426d26d27\" xlink:actuate=\"onRequest\" xlink:href=\"psysml:117f05b4-c909-44db-8047-1df426d26d27\" xlink:show=\"new\" xlink:title=\"psysml:117f05b4-c909-44db-8047-1df426d26d27\" xlink:type=\"simple\"><rect fill=\"#FFFFFF\" height=\"42.9375\" id=\"E4\" style=\"stroke: #383838; stroke-width: 1.5;\" width=\"75\" x=\"217.5\" y=\"84\"/><rect fill=\"#F8F8F8\" height=\"37.9375\" style=\"stroke: #383838; stroke-width: 1.5;\" width=\"75\" x=\"217.5\" y=\"84\"/><text fill=\"#000000\" font-family=\"sans-serif\" font-size=\"12\" font-style=\"italic\" lengthAdjust=\"spacingAndGlyphs\" textLength=\"68\" x=\"221\" y=\"100.1387\">«part  def»</text><text fill=\"#000000\" font-family=\"sans-serif\" font-size=\"12\" lengthAdjust=\"spacingAndGlyphs\" textLength=\"45\" x=\"232.5\" y=\"114.1074\">Vehicle</text></a></g><g id=\"E1.E5.E6\"><a href=\"psysml:e21f8a97-fb67-4292-9535-52151c9da93c\" target=\"_top\" title=\"psysml:e21f8a97-fb67-4292-9535-52151c9da93c\" xlink:actuate=\"onRequest\" xlink:href=\"psysml:e21f8a97-fb67-4292-9535-52151c9da93c\" xlink:show=\"new\" xlink:title=\"psysml:e21f8a97-fb67-4292-9535-52151c9da93c\" xlink:type=\"simple\"><rect fill=\"#FFFFFF\" height=\"40\" id=\"E6\" rx=\"10\" ry=\"10\" style=\"stroke: #383838; stroke-width: 1.5;\" width=\"107\" x=\"55.5\" y=\"85.5\"/><rect fill=\"#F8F8F8\" height=\"23.9688\" rx=\"10\" ry=\"10\" style=\"stroke: #F8F8F8; stroke-width: 1.5;\" width=\"107\" x=\"55.5\" y=\"85.5\"/><rect fill=\"#F8F8F8\" height=\"10\" style=\"stroke: #F8F8F8; stroke-width: 1.5;\" width=\"107\" x=\"55.5\" y=\"99.4688\"/><rect fill=\"none\" height=\"40\" id=\"E6\" rx=\"10\" ry=\"10\" style=\"stroke: #383838; stroke-width: 1.5;\" width=\"107\" x=\"55.5\" y=\"85.5\"/><text fill=\"#000000\" font-family=\"sans-serif\" font-size=\"12\" lengthAdjust=\"spacingAndGlyphs\" textLength=\"96\" x=\"61\" y=\"101.6387\">vehicle: Vehicle</text></a></g><!--MD5=[c7ebb4b93b3a0fe746c00d3cd3163f1d]\n",
       "@startuml\r\n",
       "skinparam ranksep 10\r\n",
       "skinparam rectangle {\r\n",
       " backgroundColor<<block>> LightGreen\r\n",
       "}\r\n",
       "top to bottom direction\r\n",
       "skinparam monochrome true\r\n",
       "skinparam classbackgroundcolor white\r\n",
       "skinparam shadowing false\r\n",
       "skinparam wrapWidth 300\r\n",
       "hide circle\r\n",
       "\r\n",
       "package \"AliasImport\" as E1  [[psysml:144140e7-4c0e-44d8-912b-18808e1341b6 ]]  {\r\n",
       "package \"Definitions\" as E2  [[psysml:0089895f-bb5f-44ae-8440-3a6de4c690d2 ]]  {\r\n",
       "rec def \"Vehicle\" as E3  <<(T,blue) part  def>> [[psysml:117f05b4-c909-44db-8047-1df426d26d27 ]] {\r\n",
       "}\r\n",
       "rec def \"Vehicle\" as E4  <<(T,blue) part  def>> [[psysml:117f05b4-c909-44db-8047-1df426d26d27 ]] {\r\n",
       "}\r\n",
       "}\r\n",
       "package \"Usages\" as E5  [[psysml:e57b5549-a047-42fa-b139-1a9999eaa505 ]]  {\r\n",
       "rec usage \"vehicle: Vehicle\" as E6  [[psysml:e21f8a97-fb67-4292-9535-52151c9da93c ]] {\r\n",
       "}\r\n",
       "}\r\n",
       "}\r\n",
       "@enduml\r\n",
       "\n",
       "PlantUML version 1.2020.13(Sat Jun 13 12:26:38 UTC 2020)\n",
       "(EPL source distribution)\n",
       "Java Runtime: OpenJDK Runtime Environment\n",
       "JVM: OpenJDK 64-Bit Server VM\n",
       "Default Encoding: UTF-8\n",
       "Language: en\n",
       "Country: null\n",
       "--></g></svg>"
      ]
     },
     "execution_count": 47,
     "metadata": {},
     "output_type": "execute_result"
    }
   ],
   "source": [
    "%viz --style=\"TB\" --view=\"Interconnection\" \"AliasImport\""
   ]
  },
  {
   "cell_type": "code",
   "execution_count": 48,
   "id": "3fce3937",
   "metadata": {
    "execution": {
     "iopub.execute_input": "2021-10-25T08:24:43.242314Z",
     "iopub.status.busy": "2021-10-25T08:24:43.241888Z",
     "iopub.status.idle": "2021-10-25T08:24:43.247668Z",
     "shell.execute_reply": "2021-10-25T08:24:43.247317Z"
    }
   },
   "outputs": [
    {
     "data": {
      "image/svg+xml": [
       "<?xml version=\"1.0\" encoding=\"UTF-8\" standalone=\"no\"?><svg xmlns=\"http://www.w3.org/2000/svg\" xmlns:xlink=\"http://www.w3.org/1999/xlink\" contentScriptType=\"application/ecmascript\" contentStyleType=\"text/css\" height=\"12px\" preserveAspectRatio=\"none\" style=\"width:12px;height:12px;\" version=\"1.1\" viewBox=\"0 0 12 12\" width=\"12px\" zoomAndPan=\"magnify\"><defs/><g><!--MD5=[06afc254b03ac5e9d9fb7773b07d0800]\n",
       "@startuml\r\n",
       "skinparam ranksep 8\r\n",
       "top to bottom direction\r\n",
       "skinparam monochrome true\r\n",
       "skinparam classbackgroundcolor white\r\n",
       "skinparam shadowing false\r\n",
       "skinparam wrapWidth 300\r\n",
       "hide circle\r\n",
       "\r\n",
       "@enduml\r\n",
       "\n",
       "PlantUML version 1.2020.13(Sat Jun 13 12:26:38 UTC 2020)\n",
       "(EPL source distribution)\n",
       "Java Runtime: OpenJDK Runtime Environment\n",
       "JVM: OpenJDK 64-Bit Server VM\n",
       "Default Encoding: UTF-8\n",
       "Language: en\n",
       "Country: null\n",
       "--></g></svg>"
      ]
     },
     "execution_count": 48,
     "metadata": {},
     "output_type": "execute_result"
    }
   ],
   "source": [
    "%viz --style=\"TB\" --view=\"Action\" \"AliasImport\""
   ]
  },
  {
   "cell_type": "code",
   "execution_count": 49,
   "id": "9e98fda3",
   "metadata": {
    "execution": {
     "iopub.execute_input": "2021-10-25T08:24:43.297508Z",
     "iopub.status.busy": "2021-10-25T08:24:43.297037Z",
     "iopub.status.idle": "2021-10-25T08:24:43.301579Z",
     "shell.execute_reply": "2021-10-25T08:24:43.301193Z"
    }
   },
   "outputs": [
    {
     "data": {
      "image/svg+xml": [
       "<?xml version=\"1.0\" encoding=\"UTF-8\" standalone=\"no\"?><svg xmlns=\"http://www.w3.org/2000/svg\" xmlns:xlink=\"http://www.w3.org/1999/xlink\" contentScriptType=\"application/ecmascript\" contentStyleType=\"text/css\" height=\"12px\" preserveAspectRatio=\"none\" style=\"width:12px;height:12px;\" version=\"1.1\" viewBox=\"0 0 12 12\" width=\"12px\" zoomAndPan=\"magnify\"><defs/><g><!--MD5=[e1ab0c84c44d2fef8bf5f140f2689906]\n",
       "@startuml\r\n",
       "skinparam roundcorner 20\r\n",
       "skinparam BoxPadding 20\r\n",
       "skinparam SequenceBoxBackgroundColor #white\r\n",
       "skinparam style strictuml\r\n",
       "skinparam maxMessageSize 100\r\n",
       "top to bottom direction\r\n",
       "skinparam monochrome true\r\n",
       "skinparam classbackgroundcolor white\r\n",
       "skinparam shadowing false\r\n",
       "skinparam wrapWidth 300\r\n",
       "hide circle\r\n",
       "\r\n",
       "@enduml\r\n",
       "\n",
       "PlantUML version 1.2020.13(Sat Jun 13 12:26:38 UTC 2020)\n",
       "(EPL source distribution)\n",
       "Java Runtime: OpenJDK Runtime Environment\n",
       "JVM: OpenJDK 64-Bit Server VM\n",
       "Default Encoding: UTF-8\n",
       "Language: en\n",
       "Country: null\n",
       "--></g></svg>"
      ]
     },
     "execution_count": 49,
     "metadata": {},
     "output_type": "execute_result"
    }
   ],
   "source": [
    "%viz --style=\"TB\" --view=\"Sequence\" \"AliasImport\""
   ]
  },
  {
   "cell_type": "code",
   "execution_count": 50,
   "id": "f24d1d1a",
   "metadata": {
    "execution": {
     "iopub.execute_input": "2021-10-25T08:24:43.351308Z",
     "iopub.status.busy": "2021-10-25T08:24:43.350895Z",
     "iopub.status.idle": "2021-10-25T08:24:43.378227Z",
     "shell.execute_reply": "2021-10-25T08:24:43.376481Z"
    }
   },
   "outputs": [
    {
     "data": {
      "image/svg+xml": [
       "<?xml version=\"1.0\" encoding=\"UTF-8\" standalone=\"no\"?><svg xmlns=\"http://www.w3.org/2000/svg\" xmlns:xlink=\"http://www.w3.org/1999/xlink\" contentScriptType=\"application/ecmascript\" contentStyleType=\"text/css\" height=\"303px\" preserveAspectRatio=\"none\" style=\"width:224px;height:303px;\" version=\"1.1\" viewBox=\"0 0 224 303\" width=\"224px\" zoomAndPan=\"magnify\"><defs/><g><!--MD5=[fbc87193dbaf4d95561dea2c320d4a47]\n",
       "cluster E1--><a href=\"psysml:144140e7-4c0e-44d8-912b-18808e1341b6\" target=\"_top\" title=\"psysml:144140e7-4c0e-44d8-912b-18808e1341b6\" xlink:actuate=\"onRequest\" xlink:href=\"psysml:144140e7-4c0e-44d8-912b-18808e1341b6\" xlink:show=\"new\" xlink:title=\"psysml:144140e7-4c0e-44d8-912b-18808e1341b6\" xlink:type=\"simple\"><polygon fill=\"#FFFFFF\" points=\"16,6,97,6,104,28.2969,202,28.2969,202,291,16,291,16,6\" style=\"stroke: #000000; stroke-width: 1.5;\"/><line style=\"stroke: #000000; stroke-width: 1.5;\" x1=\"16\" x2=\"104\" y1=\"28.2969\" y2=\"28.2969\"/><text fill=\"#000000\" font-family=\"sans-serif\" font-size=\"14\" font-weight=\"bold\" lengthAdjust=\"spacingAndGlyphs\" textLength=\"75\" x=\"20\" y=\"20.9951\">AliasImport</text></a><!--MD5=[e4f7fae6ed58524ba242bb0b0d3be6b7]\n",
       "cluster E2--><a href=\"psysml:0089895f-bb5f-44ae-8440-3a6de4c690d2\" target=\"_top\" title=\"psysml:0089895f-bb5f-44ae-8440-3a6de4c690d2\" xlink:actuate=\"onRequest\" xlink:href=\"psysml:0089895f-bb5f-44ae-8440-3a6de4c690d2\" xlink:show=\"new\" xlink:title=\"psysml:0089895f-bb5f-44ae-8440-3a6de4c690d2\" xlink:type=\"simple\"><polygon fill=\"#FFFFFF\" points=\"58,170,137,170,144,192.2969,160,192.2969,160,267,58,267,58,170\" style=\"stroke: #000000; stroke-width: 1.5;\"/><line style=\"stroke: #000000; stroke-width: 1.5;\" x1=\"58\" x2=\"144\" y1=\"192.2969\" y2=\"192.2969\"/><text fill=\"#000000\" font-family=\"sans-serif\" font-size=\"14\" font-weight=\"bold\" lengthAdjust=\"spacingAndGlyphs\" textLength=\"73\" x=\"62\" y=\"184.9951\">Definitions</text></a><!--MD5=[f6df4d0ebaf0b5dfb2ced0ae5af7c670]\n",
       "cluster E4--><a href=\"psysml:e57b5549-a047-42fa-b139-1a9999eaa505\" target=\"_top\" title=\"psysml:e57b5549-a047-42fa-b139-1a9999eaa505\" xlink:actuate=\"onRequest\" xlink:href=\"psysml:e57b5549-a047-42fa-b139-1a9999eaa505\" xlink:show=\"new\" xlink:title=\"psysml:e57b5549-a047-42fa-b139-1a9999eaa505\" xlink:type=\"simple\"><polygon fill=\"#FFFFFF\" points=\"40,49,98,49,105,71.2969,178,71.2969,178,146,40,146,40,49\" style=\"stroke: #000000; stroke-width: 1.5;\"/><line style=\"stroke: #000000; stroke-width: 1.5;\" x1=\"40\" x2=\"105\" y1=\"71.2969\" y2=\"71.2969\"/><text fill=\"#000000\" font-family=\"sans-serif\" font-size=\"14\" font-weight=\"bold\" lengthAdjust=\"spacingAndGlyphs\" textLength=\"52\" x=\"44\" y=\"63.9951\">Usages</text></a><!--MD5=[09b614a08d8cba4a07c9adeb5e0fee81]\n",
       "class E3--><a href=\"psysml:117f05b4-c909-44db-8047-1df426d26d27\" target=\"_top\" title=\"psysml:117f05b4-c909-44db-8047-1df426d26d27\" xlink:actuate=\"onRequest\" xlink:href=\"psysml:117f05b4-c909-44db-8047-1df426d26d27\" xlink:show=\"new\" xlink:title=\"psysml:117f05b4-c909-44db-8047-1df426d26d27\" xlink:type=\"simple\"><rect fill=\"#FFFFFF\" height=\"45.9375\" id=\"E3\" style=\"stroke: #383838; stroke-width: 1.5;\" width=\"70\" x=\"74\" y=\"205\"/><text fill=\"#000000\" font-family=\"sans-serif\" font-size=\"12\" font-style=\"italic\" lengthAdjust=\"spacingAndGlyphs\" textLength=\"68\" x=\"75\" y=\"221.1387\">«part  def»</text><text fill=\"#000000\" font-family=\"sans-serif\" font-size=\"12\" lengthAdjust=\"spacingAndGlyphs\" textLength=\"45\" x=\"86.5\" y=\"235.1074\">Vehicle</text><line style=\"stroke: #383838; stroke-width: 1.5;\" x1=\"75\" x2=\"143\" y1=\"242.9375\" y2=\"242.9375\"/></a><!--MD5=[270fce915f116d4de14055a7c1d9a0f3]\n",
       "class E5--><a href=\"psysml:e21f8a97-fb67-4292-9535-52151c9da93c\" target=\"_top\" title=\"psysml:e21f8a97-fb67-4292-9535-52151c9da93c\" xlink:actuate=\"onRequest\" xlink:href=\"psysml:e21f8a97-fb67-4292-9535-52151c9da93c\" xlink:show=\"new\" xlink:title=\"psysml:e21f8a97-fb67-4292-9535-52151c9da93c\" xlink:type=\"simple\"><rect fill=\"#FFFFFF\" height=\"45.9375\" id=\"E5\" rx=\"10\" ry=\"10\" style=\"stroke: #383838; stroke-width: 1.5;\" width=\"106\" x=\"56\" y=\"84\"/><text fill=\"#000000\" font-family=\"sans-serif\" font-size=\"12\" font-style=\"italic\" lengthAdjust=\"spacingAndGlyphs\" textLength=\"40\" x=\"89\" y=\"100.1387\">«part»</text><text fill=\"#000000\" font-family=\"sans-serif\" font-size=\"12\" lengthAdjust=\"spacingAndGlyphs\" textLength=\"96\" x=\"59\" y=\"114.1074\">vehicle: Vehicle</text><line style=\"stroke: #383838; stroke-width: 1.5;\" x1=\"57\" x2=\"161\" y1=\"121.9375\" y2=\"121.9375\"/></a><!--MD5=[e9be52314489bd878ff4c7144b63c9e1]\n",
       "link E5 to E3--><a href=\"psysml:763357b8-b5e0-4785-a470-e50d945081e3\" target=\"_top\" title=\"psysml:763357b8-b5e0-4785-a470-e50d945081e3\" xlink:actuate=\"onRequest\" xlink:href=\"psysml:763357b8-b5e0-4785-a470-e50d945081e3\" xlink:show=\"new\" xlink:title=\"psysml:763357b8-b5e0-4785-a470-e50d945081e3\" xlink:type=\"simple\"><path d=\"M109,130.1 C109,145.37 109,166.16 109,184.57 \" fill=\"none\" id=\"E5-&gt;E3\" style=\"stroke: #383838; stroke-width: 1.0;\"/><polygon fill=\"#FFFFFF\" points=\"109,204.61,102,185.61,116,185.61,109,204.61\" style=\"stroke: #383838; stroke-width: 1.0;\"/><ellipse cx=\"104\" cy=\"179.91\" fill=\"#383838\" rx=\"2\" ry=\"2\" style=\"stroke: #383838; stroke-width: 1.0;\"/><ellipse cx=\"114\" cy=\"179.91\" fill=\"#383838\" rx=\"2\" ry=\"2\" style=\"stroke: #383838; stroke-width: 1.0;\"/></a><!--MD5=[ee2cad7262e853a5aad811d8dfda077c]\n",
       "@startuml\r\n",
       "top to bottom direction\r\n",
       "skinparam monochrome true\r\n",
       "skinparam classbackgroundcolor white\r\n",
       "skinparam shadowing false\r\n",
       "skinparam wrapWidth 300\r\n",
       "hide circle\r\n",
       "\r\n",
       "package \"AliasImport\" as E1  [[psysml:144140e7-4c0e-44d8-912b-18808e1341b6 ]]  {\r\n",
       "package \"Definitions\" as E2  [[psysml:0089895f-bb5f-44ae-8440-3a6de4c690d2 ]]  {\r\n",
       "comp def \"Vehicle\" as E3  <<(T,blue) part  def>> [[psysml:117f05b4-c909-44db-8047-1df426d26d27 ]] {\r\n",
       "}\r\n",
       "}\r\n",
       "package \"Usages\" as E4  [[psysml:e57b5549-a047-42fa-b139-1a9999eaa505 ]]  {\r\n",
       "comp usage \"vehicle: Vehicle \" as E5  <<(T,blue) part>> [[psysml:e21f8a97-fb67-4292-9535-52151c9da93c ]] {\r\n",
       "}\r\n",
       "}\r\n",
       "}\r\n",
       "E5 - -:|> E3 [[psysml:763357b8-b5e0-4785-a470-e50d945081e3 ]] \r\n",
       "@enduml\r\n",
       "\n",
       "PlantUML version 1.2020.13(Sat Jun 13 12:26:38 UTC 2020)\n",
       "(EPL source distribution)\n",
       "Java Runtime: OpenJDK Runtime Environment\n",
       "JVM: OpenJDK 64-Bit Server VM\n",
       "Default Encoding: UTF-8\n",
       "Language: en\n",
       "Country: null\n",
       "--></g></svg>"
      ]
     },
     "execution_count": 50,
     "metadata": {},
     "output_type": "execute_result"
    }
   ],
   "source": [
    "%viz --style=\"TB\" --view=\"MIXED\" \"AliasImport\""
   ]
  },
  {
   "cell_type": "code",
   "execution_count": 51,
   "id": "95fdead9",
   "metadata": {
    "execution": {
     "iopub.execute_input": "2021-10-25T08:24:43.427293Z",
     "iopub.status.busy": "2021-10-25T08:24:43.426881Z",
     "iopub.status.idle": "2021-10-25T08:24:43.456580Z",
     "shell.execute_reply": "2021-10-25T08:24:43.454576Z"
    }
   },
   "outputs": [
    {
     "data": {
      "image/svg+xml": [
       "<?xml version=\"1.0\" encoding=\"UTF-8\" standalone=\"no\"?><svg xmlns=\"http://www.w3.org/2000/svg\" xmlns:xlink=\"http://www.w3.org/1999/xlink\" contentScriptType=\"application/ecmascript\" contentStyleType=\"text/css\" height=\"303px\" preserveAspectRatio=\"none\" style=\"width:224px;height:303px;\" version=\"1.1\" viewBox=\"0 0 224 303\" width=\"224px\" zoomAndPan=\"magnify\"><defs/><g><!--MD5=[fbc87193dbaf4d95561dea2c320d4a47]\n",
       "cluster E1--><a href=\"psysml:144140e7-4c0e-44d8-912b-18808e1341b6\" target=\"_top\" title=\"psysml:144140e7-4c0e-44d8-912b-18808e1341b6\" xlink:actuate=\"onRequest\" xlink:href=\"psysml:144140e7-4c0e-44d8-912b-18808e1341b6\" xlink:show=\"new\" xlink:title=\"psysml:144140e7-4c0e-44d8-912b-18808e1341b6\" xlink:type=\"simple\"><polygon fill=\"#FFFFFF\" points=\"16,6,97,6,104,28.2969,202,28.2969,202,291,16,291,16,6\" style=\"stroke: #000000; stroke-width: 1.5;\"/><line style=\"stroke: #000000; stroke-width: 1.5;\" x1=\"16\" x2=\"104\" y1=\"28.2969\" y2=\"28.2969\"/><text fill=\"#000000\" font-family=\"sans-serif\" font-size=\"14\" font-weight=\"bold\" lengthAdjust=\"spacingAndGlyphs\" textLength=\"75\" x=\"20\" y=\"20.9951\">AliasImport</text></a><!--MD5=[e4f7fae6ed58524ba242bb0b0d3be6b7]\n",
       "cluster E2--><a href=\"psysml:0089895f-bb5f-44ae-8440-3a6de4c690d2\" target=\"_top\" title=\"psysml:0089895f-bb5f-44ae-8440-3a6de4c690d2\" xlink:actuate=\"onRequest\" xlink:href=\"psysml:0089895f-bb5f-44ae-8440-3a6de4c690d2\" xlink:show=\"new\" xlink:title=\"psysml:0089895f-bb5f-44ae-8440-3a6de4c690d2\" xlink:type=\"simple\"><polygon fill=\"#FFFFFF\" points=\"58,170,137,170,144,192.2969,160,192.2969,160,267,58,267,58,170\" style=\"stroke: #000000; stroke-width: 1.5;\"/><line style=\"stroke: #000000; stroke-width: 1.5;\" x1=\"58\" x2=\"144\" y1=\"192.2969\" y2=\"192.2969\"/><text fill=\"#000000\" font-family=\"sans-serif\" font-size=\"14\" font-weight=\"bold\" lengthAdjust=\"spacingAndGlyphs\" textLength=\"73\" x=\"62\" y=\"184.9951\">Definitions</text></a><!--MD5=[f6df4d0ebaf0b5dfb2ced0ae5af7c670]\n",
       "cluster E4--><a href=\"psysml:e57b5549-a047-42fa-b139-1a9999eaa505\" target=\"_top\" title=\"psysml:e57b5549-a047-42fa-b139-1a9999eaa505\" xlink:actuate=\"onRequest\" xlink:href=\"psysml:e57b5549-a047-42fa-b139-1a9999eaa505\" xlink:show=\"new\" xlink:title=\"psysml:e57b5549-a047-42fa-b139-1a9999eaa505\" xlink:type=\"simple\"><polygon fill=\"#FFFFFF\" points=\"40,49,98,49,105,71.2969,178,71.2969,178,146,40,146,40,49\" style=\"stroke: #000000; stroke-width: 1.5;\"/><line style=\"stroke: #000000; stroke-width: 1.5;\" x1=\"40\" x2=\"105\" y1=\"71.2969\" y2=\"71.2969\"/><text fill=\"#000000\" font-family=\"sans-serif\" font-size=\"14\" font-weight=\"bold\" lengthAdjust=\"spacingAndGlyphs\" textLength=\"52\" x=\"44\" y=\"63.9951\">Usages</text></a><!--MD5=[09b614a08d8cba4a07c9adeb5e0fee81]\n",
       "class E3--><a href=\"psysml:117f05b4-c909-44db-8047-1df426d26d27\" target=\"_top\" title=\"psysml:117f05b4-c909-44db-8047-1df426d26d27\" xlink:actuate=\"onRequest\" xlink:href=\"psysml:117f05b4-c909-44db-8047-1df426d26d27\" xlink:show=\"new\" xlink:title=\"psysml:117f05b4-c909-44db-8047-1df426d26d27\" xlink:type=\"simple\"><rect fill=\"#FFFFFF\" height=\"45.9375\" id=\"E3\" style=\"stroke: #383838; stroke-width: 1.5;\" width=\"70\" x=\"74\" y=\"205\"/><text fill=\"#000000\" font-family=\"sans-serif\" font-size=\"12\" font-style=\"italic\" lengthAdjust=\"spacingAndGlyphs\" textLength=\"68\" x=\"75\" y=\"221.1387\">«part  def»</text><text fill=\"#000000\" font-family=\"sans-serif\" font-size=\"12\" lengthAdjust=\"spacingAndGlyphs\" textLength=\"45\" x=\"86.5\" y=\"235.1074\">Vehicle</text><line style=\"stroke: #383838; stroke-width: 1.5;\" x1=\"75\" x2=\"143\" y1=\"242.9375\" y2=\"242.9375\"/></a><!--MD5=[270fce915f116d4de14055a7c1d9a0f3]\n",
       "class E5--><a href=\"psysml:e21f8a97-fb67-4292-9535-52151c9da93c\" target=\"_top\" title=\"psysml:e21f8a97-fb67-4292-9535-52151c9da93c\" xlink:actuate=\"onRequest\" xlink:href=\"psysml:e21f8a97-fb67-4292-9535-52151c9da93c\" xlink:show=\"new\" xlink:title=\"psysml:e21f8a97-fb67-4292-9535-52151c9da93c\" xlink:type=\"simple\"><rect fill=\"#FFFFFF\" height=\"45.9375\" id=\"E5\" rx=\"10\" ry=\"10\" style=\"stroke: #383838; stroke-width: 1.5;\" width=\"106\" x=\"56\" y=\"84\"/><text fill=\"#000000\" font-family=\"sans-serif\" font-size=\"12\" font-style=\"italic\" lengthAdjust=\"spacingAndGlyphs\" textLength=\"40\" x=\"89\" y=\"100.1387\">«part»</text><text fill=\"#000000\" font-family=\"sans-serif\" font-size=\"12\" lengthAdjust=\"spacingAndGlyphs\" textLength=\"96\" x=\"59\" y=\"114.1074\">vehicle: Vehicle</text><line style=\"stroke: #383838; stroke-width: 1.5;\" x1=\"57\" x2=\"161\" y1=\"121.9375\" y2=\"121.9375\"/></a><!--MD5=[e9be52314489bd878ff4c7144b63c9e1]\n",
       "link E5 to E3--><a href=\"psysml:763357b8-b5e0-4785-a470-e50d945081e3\" target=\"_top\" title=\"psysml:763357b8-b5e0-4785-a470-e50d945081e3\" xlink:actuate=\"onRequest\" xlink:href=\"psysml:763357b8-b5e0-4785-a470-e50d945081e3\" xlink:show=\"new\" xlink:title=\"psysml:763357b8-b5e0-4785-a470-e50d945081e3\" xlink:type=\"simple\"><path d=\"M109,130.04 C109,130.04 109,184.63 109,184.63 \" fill=\"none\" id=\"E5-&gt;E3\" style=\"stroke: #383838; stroke-width: 1.0;\"/><polygon fill=\"#FFFFFF\" points=\"109,204.63,102,185.63,116,185.63,109,204.63\" style=\"stroke: #383838; stroke-width: 1.0;\"/><ellipse cx=\"104\" cy=\"179.93\" fill=\"#383838\" rx=\"2\" ry=\"2\" style=\"stroke: #383838; stroke-width: 1.0;\"/><ellipse cx=\"114\" cy=\"179.93\" fill=\"#383838\" rx=\"2\" ry=\"2\" style=\"stroke: #383838; stroke-width: 1.0;\"/></a><!--MD5=[4f9c603b3a5e04ed1fe43bb952f1b7b8]\n",
       "@startuml\r\n",
       "skinparam linetype ortho\r\n",
       "skinparam monochrome true\r\n",
       "skinparam classbackgroundcolor white\r\n",
       "skinparam shadowing false\r\n",
       "skinparam wrapWidth 300\r\n",
       "hide circle\r\n",
       "\r\n",
       "package \"AliasImport\" as E1  [[psysml:144140e7-4c0e-44d8-912b-18808e1341b6 ]]  {\r\n",
       "package \"Definitions\" as E2  [[psysml:0089895f-bb5f-44ae-8440-3a6de4c690d2 ]]  {\r\n",
       "comp def \"Vehicle\" as E3  <<(T,blue) part  def>> [[psysml:117f05b4-c909-44db-8047-1df426d26d27 ]] {\r\n",
       "}\r\n",
       "}\r\n",
       "package \"Usages\" as E4  [[psysml:e57b5549-a047-42fa-b139-1a9999eaa505 ]]  {\r\n",
       "comp usage \"vehicle: Vehicle \" as E5  <<(T,blue) part>> [[psysml:e21f8a97-fb67-4292-9535-52151c9da93c ]] {\r\n",
       "}\r\n",
       "}\r\n",
       "}\r\n",
       "E5 - -:|> E3 [[psysml:763357b8-b5e0-4785-a470-e50d945081e3 ]] \r\n",
       "@enduml\r\n",
       "\n",
       "PlantUML version 1.2020.13(Sat Jun 13 12:26:38 UTC 2020)\n",
       "(EPL source distribution)\n",
       "Java Runtime: OpenJDK Runtime Environment\n",
       "JVM: OpenJDK 64-Bit Server VM\n",
       "Default Encoding: UTF-8\n",
       "Language: en\n",
       "Country: null\n",
       "--></g></svg>"
      ]
     },
     "execution_count": 51,
     "metadata": {},
     "output_type": "execute_result"
    }
   ],
   "source": [
    "%viz --style=\"ORTHOLINE\" --view=\"Default\" \"AliasImport\""
   ]
  },
  {
   "cell_type": "code",
   "execution_count": 52,
   "id": "ecf71d76",
   "metadata": {
    "execution": {
     "iopub.execute_input": "2021-10-25T08:24:43.505279Z",
     "iopub.status.busy": "2021-10-25T08:24:43.504869Z",
     "iopub.status.idle": "2021-10-25T08:24:43.528753Z",
     "shell.execute_reply": "2021-10-25T08:24:43.527043Z"
    }
   },
   "outputs": [
    {
     "data": {
      "image/svg+xml": [
       "<?xml version=\"1.0\" encoding=\"UTF-8\" standalone=\"no\"?><svg xmlns=\"http://www.w3.org/2000/svg\" xmlns:xlink=\"http://www.w3.org/1999/xlink\" contentScriptType=\"application/ecmascript\" contentStyleType=\"text/css\" height=\"303px\" preserveAspectRatio=\"none\" style=\"width:224px;height:303px;\" version=\"1.1\" viewBox=\"0 0 224 303\" width=\"224px\" zoomAndPan=\"magnify\"><defs/><g><!--MD5=[fbc87193dbaf4d95561dea2c320d4a47]\n",
       "cluster E1--><a href=\"psysml:144140e7-4c0e-44d8-912b-18808e1341b6\" target=\"_top\" title=\"psysml:144140e7-4c0e-44d8-912b-18808e1341b6\" xlink:actuate=\"onRequest\" xlink:href=\"psysml:144140e7-4c0e-44d8-912b-18808e1341b6\" xlink:show=\"new\" xlink:title=\"psysml:144140e7-4c0e-44d8-912b-18808e1341b6\" xlink:type=\"simple\"><polygon fill=\"#FFFFFF\" points=\"16,6,97,6,104,28.2969,202,28.2969,202,291,16,291,16,6\" style=\"stroke: #000000; stroke-width: 1.5;\"/><line style=\"stroke: #000000; stroke-width: 1.5;\" x1=\"16\" x2=\"104\" y1=\"28.2969\" y2=\"28.2969\"/><text fill=\"#000000\" font-family=\"sans-serif\" font-size=\"14\" font-weight=\"bold\" lengthAdjust=\"spacingAndGlyphs\" textLength=\"75\" x=\"20\" y=\"20.9951\">AliasImport</text></a><!--MD5=[e4f7fae6ed58524ba242bb0b0d3be6b7]\n",
       "cluster E2--><a href=\"psysml:0089895f-bb5f-44ae-8440-3a6de4c690d2\" target=\"_top\" title=\"psysml:0089895f-bb5f-44ae-8440-3a6de4c690d2\" xlink:actuate=\"onRequest\" xlink:href=\"psysml:0089895f-bb5f-44ae-8440-3a6de4c690d2\" xlink:show=\"new\" xlink:title=\"psysml:0089895f-bb5f-44ae-8440-3a6de4c690d2\" xlink:type=\"simple\"><polygon fill=\"#FFFFFF\" points=\"58,170,137,170,144,192.2969,160,192.2969,160,267,58,267,58,170\" style=\"stroke: #000000; stroke-width: 1.5;\"/><line style=\"stroke: #000000; stroke-width: 1.5;\" x1=\"58\" x2=\"144\" y1=\"192.2969\" y2=\"192.2969\"/><text fill=\"#000000\" font-family=\"sans-serif\" font-size=\"14\" font-weight=\"bold\" lengthAdjust=\"spacingAndGlyphs\" textLength=\"73\" x=\"62\" y=\"184.9951\">Definitions</text></a><!--MD5=[f6df4d0ebaf0b5dfb2ced0ae5af7c670]\n",
       "cluster E4--><a href=\"psysml:e57b5549-a047-42fa-b139-1a9999eaa505\" target=\"_top\" title=\"psysml:e57b5549-a047-42fa-b139-1a9999eaa505\" xlink:actuate=\"onRequest\" xlink:href=\"psysml:e57b5549-a047-42fa-b139-1a9999eaa505\" xlink:show=\"new\" xlink:title=\"psysml:e57b5549-a047-42fa-b139-1a9999eaa505\" xlink:type=\"simple\"><polygon fill=\"#FFFFFF\" points=\"40,49,98,49,105,71.2969,178,71.2969,178,146,40,146,40,49\" style=\"stroke: #000000; stroke-width: 1.5;\"/><line style=\"stroke: #000000; stroke-width: 1.5;\" x1=\"40\" x2=\"105\" y1=\"71.2969\" y2=\"71.2969\"/><text fill=\"#000000\" font-family=\"sans-serif\" font-size=\"14\" font-weight=\"bold\" lengthAdjust=\"spacingAndGlyphs\" textLength=\"52\" x=\"44\" y=\"63.9951\">Usages</text></a><!--MD5=[09b614a08d8cba4a07c9adeb5e0fee81]\n",
       "class E3--><a href=\"psysml:117f05b4-c909-44db-8047-1df426d26d27\" target=\"_top\" title=\"psysml:117f05b4-c909-44db-8047-1df426d26d27\" xlink:actuate=\"onRequest\" xlink:href=\"psysml:117f05b4-c909-44db-8047-1df426d26d27\" xlink:show=\"new\" xlink:title=\"psysml:117f05b4-c909-44db-8047-1df426d26d27\" xlink:type=\"simple\"><rect fill=\"#FFFFFF\" height=\"45.9375\" id=\"E3\" style=\"stroke: #383838; stroke-width: 1.5;\" width=\"70\" x=\"74\" y=\"205\"/><text fill=\"#000000\" font-family=\"sans-serif\" font-size=\"12\" font-style=\"italic\" lengthAdjust=\"spacingAndGlyphs\" textLength=\"68\" x=\"75\" y=\"221.1387\">«part  def»</text><text fill=\"#000000\" font-family=\"sans-serif\" font-size=\"12\" lengthAdjust=\"spacingAndGlyphs\" textLength=\"45\" x=\"86.5\" y=\"235.1074\">Vehicle</text><line style=\"stroke: #383838; stroke-width: 1.5;\" x1=\"75\" x2=\"143\" y1=\"242.9375\" y2=\"242.9375\"/></a><!--MD5=[270fce915f116d4de14055a7c1d9a0f3]\n",
       "class E5--><a href=\"psysml:e21f8a97-fb67-4292-9535-52151c9da93c\" target=\"_top\" title=\"psysml:e21f8a97-fb67-4292-9535-52151c9da93c\" xlink:actuate=\"onRequest\" xlink:href=\"psysml:e21f8a97-fb67-4292-9535-52151c9da93c\" xlink:show=\"new\" xlink:title=\"psysml:e21f8a97-fb67-4292-9535-52151c9da93c\" xlink:type=\"simple\"><rect fill=\"#FFFFFF\" height=\"45.9375\" id=\"E5\" rx=\"10\" ry=\"10\" style=\"stroke: #383838; stroke-width: 1.5;\" width=\"106\" x=\"56\" y=\"84\"/><text fill=\"#000000\" font-family=\"sans-serif\" font-size=\"12\" font-style=\"italic\" lengthAdjust=\"spacingAndGlyphs\" textLength=\"40\" x=\"89\" y=\"100.1387\">«part»</text><text fill=\"#000000\" font-family=\"sans-serif\" font-size=\"12\" lengthAdjust=\"spacingAndGlyphs\" textLength=\"96\" x=\"59\" y=\"114.1074\">vehicle: Vehicle</text><line style=\"stroke: #383838; stroke-width: 1.5;\" x1=\"57\" x2=\"161\" y1=\"121.9375\" y2=\"121.9375\"/></a><!--MD5=[e9be52314489bd878ff4c7144b63c9e1]\n",
       "link E5 to E3--><a href=\"psysml:763357b8-b5e0-4785-a470-e50d945081e3\" target=\"_top\" title=\"psysml:763357b8-b5e0-4785-a470-e50d945081e3\" xlink:actuate=\"onRequest\" xlink:href=\"psysml:763357b8-b5e0-4785-a470-e50d945081e3\" xlink:show=\"new\" xlink:title=\"psysml:763357b8-b5e0-4785-a470-e50d945081e3\" xlink:type=\"simple\"><path d=\"M109,130.04 C109,130.04 109,184.63 109,184.63 \" fill=\"none\" id=\"E5-&gt;E3\" style=\"stroke: #383838; stroke-width: 1.0;\"/><polygon fill=\"#FFFFFF\" points=\"109,204.63,102,185.63,116,185.63,109,204.63\" style=\"stroke: #383838; stroke-width: 1.0;\"/><ellipse cx=\"104\" cy=\"179.93\" fill=\"#383838\" rx=\"2\" ry=\"2\" style=\"stroke: #383838; stroke-width: 1.0;\"/><ellipse cx=\"114\" cy=\"179.93\" fill=\"#383838\" rx=\"2\" ry=\"2\" style=\"stroke: #383838; stroke-width: 1.0;\"/></a><!--MD5=[4f9c603b3a5e04ed1fe43bb952f1b7b8]\n",
       "@startuml\r\n",
       "skinparam linetype ortho\r\n",
       "skinparam monochrome true\r\n",
       "skinparam classbackgroundcolor white\r\n",
       "skinparam shadowing false\r\n",
       "skinparam wrapWidth 300\r\n",
       "hide circle\r\n",
       "\r\n",
       "package \"AliasImport\" as E1  [[psysml:144140e7-4c0e-44d8-912b-18808e1341b6 ]]  {\r\n",
       "package \"Definitions\" as E2  [[psysml:0089895f-bb5f-44ae-8440-3a6de4c690d2 ]]  {\r\n",
       "comp def \"Vehicle\" as E3  <<(T,blue) part  def>> [[psysml:117f05b4-c909-44db-8047-1df426d26d27 ]] {\r\n",
       "}\r\n",
       "}\r\n",
       "package \"Usages\" as E4  [[psysml:e57b5549-a047-42fa-b139-1a9999eaa505 ]]  {\r\n",
       "comp usage \"vehicle: Vehicle \" as E5  <<(T,blue) part>> [[psysml:e21f8a97-fb67-4292-9535-52151c9da93c ]] {\r\n",
       "}\r\n",
       "}\r\n",
       "}\r\n",
       "E5 - -:|> E3 [[psysml:763357b8-b5e0-4785-a470-e50d945081e3 ]] \r\n",
       "@enduml\r\n",
       "\n",
       "PlantUML version 1.2020.13(Sat Jun 13 12:26:38 UTC 2020)\n",
       "(EPL source distribution)\n",
       "Java Runtime: OpenJDK Runtime Environment\n",
       "JVM: OpenJDK 64-Bit Server VM\n",
       "Default Encoding: UTF-8\n",
       "Language: en\n",
       "Country: null\n",
       "--></g></svg>"
      ]
     },
     "execution_count": 52,
     "metadata": {},
     "output_type": "execute_result"
    }
   ],
   "source": [
    "%viz --style=\"ORTHOLINE\" --view=\"Tree\" \"AliasImport\""
   ]
  },
  {
   "cell_type": "code",
   "execution_count": 53,
   "id": "e00f5816",
   "metadata": {
    "execution": {
     "iopub.execute_input": "2021-10-25T08:24:43.577779Z",
     "iopub.status.busy": "2021-10-25T08:24:43.577369Z",
     "iopub.status.idle": "2021-10-25T08:24:43.583034Z",
     "shell.execute_reply": "2021-10-25T08:24:43.582677Z"
    }
   },
   "outputs": [
    {
     "data": {
      "image/svg+xml": [
       "<?xml version=\"1.0\" encoding=\"UTF-8\" standalone=\"no\"?><svg xmlns=\"http://www.w3.org/2000/svg\" xmlns:xlink=\"http://www.w3.org/1999/xlink\" contentScriptType=\"application/ecmascript\" contentStyleType=\"text/css\" height=\"12px\" preserveAspectRatio=\"none\" style=\"width:12px;height:12px;\" version=\"1.1\" viewBox=\"0 0 12 12\" width=\"12px\" zoomAndPan=\"magnify\"><defs/><g><!--MD5=[97d6f38768b311333d388e66b2b27985]\n",
       "@startuml\r\n",
       "skinparam linetype ortho\r\n",
       "skinparam monochrome true\r\n",
       "skinparam classbackgroundcolor white\r\n",
       "skinparam shadowing false\r\n",
       "skinparam wrapWidth 300\r\n",
       "hide circle\r\n",
       "\r\n",
       "@enduml\r\n",
       "\n",
       "PlantUML version 1.2020.13(Sat Jun 13 12:26:38 UTC 2020)\n",
       "(EPL source distribution)\n",
       "Java Runtime: OpenJDK Runtime Environment\n",
       "JVM: OpenJDK 64-Bit Server VM\n",
       "Default Encoding: UTF-8\n",
       "Language: en\n",
       "Country: null\n",
       "--></g></svg>"
      ]
     },
     "execution_count": 53,
     "metadata": {},
     "output_type": "execute_result"
    }
   ],
   "source": [
    "%viz --style=\"ORTHOLINE\" --view=\"State\" \"AliasImport\""
   ]
  },
  {
   "cell_type": "code",
   "execution_count": 54,
   "id": "71c9e5a0",
   "metadata": {
    "execution": {
     "iopub.execute_input": "2021-10-25T08:24:43.632800Z",
     "iopub.status.busy": "2021-10-25T08:24:43.632357Z",
     "iopub.status.idle": "2021-10-25T08:24:43.655303Z",
     "shell.execute_reply": "2021-10-25T08:24:43.654936Z"
    }
   },
   "outputs": [
    {
     "data": {
      "image/svg+xml": [
       "<?xml version=\"1.0\" encoding=\"UTF-8\" standalone=\"no\"?><svg xmlns=\"http://www.w3.org/2000/svg\" xmlns:xlink=\"http://www.w3.org/1999/xlink\" contentScriptType=\"application/ecmascript\" contentStyleType=\"text/css\" height=\"179px\" preserveAspectRatio=\"none\" style=\"width:464px;height:179px;\" version=\"1.1\" viewBox=\"0 0 464 179\" width=\"464px\" zoomAndPan=\"magnify\"><defs/><g><!--MD5=[fbc87193dbaf4d95561dea2c320d4a47]\n",
       "cluster E1--><a href=\"psysml:144140e7-4c0e-44d8-912b-18808e1341b6\" target=\"_top\" title=\"psysml:144140e7-4c0e-44d8-912b-18808e1341b6\" xlink:actuate=\"onRequest\" xlink:href=\"psysml:144140e7-4c0e-44d8-912b-18808e1341b6\" xlink:show=\"new\" xlink:title=\"psysml:144140e7-4c0e-44d8-912b-18808e1341b6\" xlink:type=\"simple\"><polygon fill=\"#FFFFFF\" points=\"16,6,97,6,104,28.2969,442,28.2969,442,167,16,167,16,6\" style=\"stroke: #000000; stroke-width: 1.5;\"/><line style=\"stroke: #000000; stroke-width: 1.5;\" x1=\"16\" x2=\"104\" y1=\"28.2969\" y2=\"28.2969\"/><text fill=\"#000000\" font-family=\"sans-serif\" font-size=\"14\" font-weight=\"bold\" lengthAdjust=\"spacingAndGlyphs\" textLength=\"75\" x=\"20\" y=\"20.9951\">AliasImport</text></a><!--MD5=[e4f7fae6ed58524ba242bb0b0d3be6b7]\n",
       "cluster E2--><a href=\"psysml:0089895f-bb5f-44ae-8440-3a6de4c690d2\" target=\"_top\" title=\"psysml:0089895f-bb5f-44ae-8440-3a6de4c690d2\" xlink:actuate=\"onRequest\" xlink:href=\"psysml:0089895f-bb5f-44ae-8440-3a6de4c690d2\" xlink:show=\"new\" xlink:title=\"psysml:0089895f-bb5f-44ae-8440-3a6de4c690d2\" xlink:type=\"simple\"><polygon fill=\"#FFFFFF\" points=\"202,49,281,49,288,71.2969,418,71.2969,418,143,202,143,202,49\" style=\"stroke: #000000; stroke-width: 1.5;\"/><line style=\"stroke: #000000; stroke-width: 1.5;\" x1=\"202\" x2=\"288\" y1=\"71.2969\" y2=\"71.2969\"/><text fill=\"#000000\" font-family=\"sans-serif\" font-size=\"14\" font-weight=\"bold\" lengthAdjust=\"spacingAndGlyphs\" textLength=\"73\" x=\"206\" y=\"63.9951\">Definitions</text></a><!--MD5=[de5ec2e2e8f62f467e546659f5068c88]\n",
       "cluster E5--><a href=\"psysml:e57b5549-a047-42fa-b139-1a9999eaa505\" target=\"_top\" title=\"psysml:e57b5549-a047-42fa-b139-1a9999eaa505\" xlink:actuate=\"onRequest\" xlink:href=\"psysml:e57b5549-a047-42fa-b139-1a9999eaa505\" xlink:show=\"new\" xlink:title=\"psysml:e57b5549-a047-42fa-b139-1a9999eaa505\" xlink:type=\"simple\"><polygon fill=\"#FFFFFF\" points=\"40,50.5,98,50.5,105,72.7969,178,72.7969,178,141.5,40,141.5,40,50.5\" style=\"stroke: #000000; stroke-width: 1.5;\"/><line style=\"stroke: #000000; stroke-width: 1.5;\" x1=\"40\" x2=\"105\" y1=\"72.7969\" y2=\"72.7969\"/><text fill=\"#000000\" font-family=\"sans-serif\" font-size=\"14\" font-weight=\"bold\" lengthAdjust=\"spacingAndGlyphs\" textLength=\"52\" x=\"44\" y=\"65.4951\">Usages</text></a><g id=\"E1.E2.E3\"><a href=\"psysml:117f05b4-c909-44db-8047-1df426d26d27\" target=\"_top\" title=\"psysml:117f05b4-c909-44db-8047-1df426d26d27\" xlink:actuate=\"onRequest\" xlink:href=\"psysml:117f05b4-c909-44db-8047-1df426d26d27\" xlink:show=\"new\" xlink:title=\"psysml:117f05b4-c909-44db-8047-1df426d26d27\" xlink:type=\"simple\"><rect fill=\"#FFFFFF\" height=\"42.9375\" id=\"E3\" style=\"stroke: #383838; stroke-width: 1.5;\" width=\"75\" x=\"327.5\" y=\"84\"/><rect fill=\"#F8F8F8\" height=\"37.9375\" style=\"stroke: #383838; stroke-width: 1.5;\" width=\"75\" x=\"327.5\" y=\"84\"/><text fill=\"#000000\" font-family=\"sans-serif\" font-size=\"12\" font-style=\"italic\" lengthAdjust=\"spacingAndGlyphs\" textLength=\"68\" x=\"331\" y=\"100.1387\">«part  def»</text><text fill=\"#000000\" font-family=\"sans-serif\" font-size=\"12\" lengthAdjust=\"spacingAndGlyphs\" textLength=\"45\" x=\"342.5\" y=\"114.1074\">Vehicle</text></a></g><g id=\"E1.E2.E4\"><a href=\"psysml:117f05b4-c909-44db-8047-1df426d26d27\" target=\"_top\" title=\"psysml:117f05b4-c909-44db-8047-1df426d26d27\" xlink:actuate=\"onRequest\" xlink:href=\"psysml:117f05b4-c909-44db-8047-1df426d26d27\" xlink:show=\"new\" xlink:title=\"psysml:117f05b4-c909-44db-8047-1df426d26d27\" xlink:type=\"simple\"><rect fill=\"#FFFFFF\" height=\"42.9375\" id=\"E4\" style=\"stroke: #383838; stroke-width: 1.5;\" width=\"75\" x=\"217.5\" y=\"84\"/><rect fill=\"#F8F8F8\" height=\"37.9375\" style=\"stroke: #383838; stroke-width: 1.5;\" width=\"75\" x=\"217.5\" y=\"84\"/><text fill=\"#000000\" font-family=\"sans-serif\" font-size=\"12\" font-style=\"italic\" lengthAdjust=\"spacingAndGlyphs\" textLength=\"68\" x=\"221\" y=\"100.1387\">«part  def»</text><text fill=\"#000000\" font-family=\"sans-serif\" font-size=\"12\" lengthAdjust=\"spacingAndGlyphs\" textLength=\"45\" x=\"232.5\" y=\"114.1074\">Vehicle</text></a></g><g id=\"E1.E5.E6\"><a href=\"psysml:e21f8a97-fb67-4292-9535-52151c9da93c\" target=\"_top\" title=\"psysml:e21f8a97-fb67-4292-9535-52151c9da93c\" xlink:actuate=\"onRequest\" xlink:href=\"psysml:e21f8a97-fb67-4292-9535-52151c9da93c\" xlink:show=\"new\" xlink:title=\"psysml:e21f8a97-fb67-4292-9535-52151c9da93c\" xlink:type=\"simple\"><rect fill=\"#FFFFFF\" height=\"40\" id=\"E6\" rx=\"10\" ry=\"10\" style=\"stroke: #383838; stroke-width: 1.5;\" width=\"107\" x=\"55.5\" y=\"85.5\"/><rect fill=\"#F8F8F8\" height=\"23.9688\" rx=\"10\" ry=\"10\" style=\"stroke: #F8F8F8; stroke-width: 1.5;\" width=\"107\" x=\"55.5\" y=\"85.5\"/><rect fill=\"#F8F8F8\" height=\"10\" style=\"stroke: #F8F8F8; stroke-width: 1.5;\" width=\"107\" x=\"55.5\" y=\"99.4688\"/><rect fill=\"none\" height=\"40\" id=\"E6\" rx=\"10\" ry=\"10\" style=\"stroke: #383838; stroke-width: 1.5;\" width=\"107\" x=\"55.5\" y=\"85.5\"/><text fill=\"#000000\" font-family=\"sans-serif\" font-size=\"12\" lengthAdjust=\"spacingAndGlyphs\" textLength=\"96\" x=\"61\" y=\"101.6387\">vehicle: Vehicle</text></a></g><!--MD5=[8e9ae322a788b271ebaabd9e8e0b6eb0]\n",
       "@startuml\r\n",
       "skinparam ranksep 10\r\n",
       "skinparam rectangle {\r\n",
       " backgroundColor<<block>> LightGreen\r\n",
       "}\r\n",
       "skinparam linetype ortho\r\n",
       "skinparam monochrome true\r\n",
       "skinparam classbackgroundcolor white\r\n",
       "skinparam shadowing false\r\n",
       "skinparam wrapWidth 300\r\n",
       "hide circle\r\n",
       "\r\n",
       "package \"AliasImport\" as E1  [[psysml:144140e7-4c0e-44d8-912b-18808e1341b6 ]]  {\r\n",
       "package \"Definitions\" as E2  [[psysml:0089895f-bb5f-44ae-8440-3a6de4c690d2 ]]  {\r\n",
       "rec def \"Vehicle\" as E3  <<(T,blue) part  def>> [[psysml:117f05b4-c909-44db-8047-1df426d26d27 ]] {\r\n",
       "}\r\n",
       "rec def \"Vehicle\" as E4  <<(T,blue) part  def>> [[psysml:117f05b4-c909-44db-8047-1df426d26d27 ]] {\r\n",
       "}\r\n",
       "}\r\n",
       "package \"Usages\" as E5  [[psysml:e57b5549-a047-42fa-b139-1a9999eaa505 ]]  {\r\n",
       "rec usage \"vehicle: Vehicle\" as E6  [[psysml:e21f8a97-fb67-4292-9535-52151c9da93c ]] {\r\n",
       "}\r\n",
       "}\r\n",
       "}\r\n",
       "@enduml\r\n",
       "\n",
       "PlantUML version 1.2020.13(Sat Jun 13 12:26:38 UTC 2020)\n",
       "(EPL source distribution)\n",
       "Java Runtime: OpenJDK Runtime Environment\n",
       "JVM: OpenJDK 64-Bit Server VM\n",
       "Default Encoding: UTF-8\n",
       "Language: en\n",
       "Country: null\n",
       "--></g></svg>"
      ]
     },
     "execution_count": 54,
     "metadata": {},
     "output_type": "execute_result"
    }
   ],
   "source": [
    "%viz --style=\"ORTHOLINE\" --view=\"Interconnection\" \"AliasImport\""
   ]
  },
  {
   "cell_type": "code",
   "execution_count": 55,
   "id": "24e3f9e3",
   "metadata": {
    "execution": {
     "iopub.execute_input": "2021-10-25T08:24:43.704226Z",
     "iopub.status.busy": "2021-10-25T08:24:43.703808Z",
     "iopub.status.idle": "2021-10-25T08:24:43.709238Z",
     "shell.execute_reply": "2021-10-25T08:24:43.708881Z"
    }
   },
   "outputs": [
    {
     "data": {
      "image/svg+xml": [
       "<?xml version=\"1.0\" encoding=\"UTF-8\" standalone=\"no\"?><svg xmlns=\"http://www.w3.org/2000/svg\" xmlns:xlink=\"http://www.w3.org/1999/xlink\" contentScriptType=\"application/ecmascript\" contentStyleType=\"text/css\" height=\"12px\" preserveAspectRatio=\"none\" style=\"width:12px;height:12px;\" version=\"1.1\" viewBox=\"0 0 12 12\" width=\"12px\" zoomAndPan=\"magnify\"><defs/><g><!--MD5=[72934c63077099a26744516a776b4749]\n",
       "@startuml\r\n",
       "skinparam ranksep 8\r\n",
       "skinparam linetype ortho\r\n",
       "skinparam monochrome true\r\n",
       "skinparam classbackgroundcolor white\r\n",
       "skinparam shadowing false\r\n",
       "skinparam wrapWidth 300\r\n",
       "hide circle\r\n",
       "\r\n",
       "@enduml\r\n",
       "\n",
       "PlantUML version 1.2020.13(Sat Jun 13 12:26:38 UTC 2020)\n",
       "(EPL source distribution)\n",
       "Java Runtime: OpenJDK Runtime Environment\n",
       "JVM: OpenJDK 64-Bit Server VM\n",
       "Default Encoding: UTF-8\n",
       "Language: en\n",
       "Country: null\n",
       "--></g></svg>"
      ]
     },
     "execution_count": 55,
     "metadata": {},
     "output_type": "execute_result"
    }
   ],
   "source": [
    "%viz --style=\"ORTHOLINE\" --view=\"Action\" \"AliasImport\""
   ]
  },
  {
   "cell_type": "code",
   "execution_count": 56,
   "id": "c4db030e",
   "metadata": {
    "execution": {
     "iopub.execute_input": "2021-10-25T08:24:43.758742Z",
     "iopub.status.busy": "2021-10-25T08:24:43.758331Z",
     "iopub.status.idle": "2021-10-25T08:24:43.764196Z",
     "shell.execute_reply": "2021-10-25T08:24:43.763709Z"
    }
   },
   "outputs": [
    {
     "data": {
      "image/svg+xml": [
       "<?xml version=\"1.0\" encoding=\"UTF-8\" standalone=\"no\"?><svg xmlns=\"http://www.w3.org/2000/svg\" xmlns:xlink=\"http://www.w3.org/1999/xlink\" contentScriptType=\"application/ecmascript\" contentStyleType=\"text/css\" height=\"12px\" preserveAspectRatio=\"none\" style=\"width:12px;height:12px;\" version=\"1.1\" viewBox=\"0 0 12 12\" width=\"12px\" zoomAndPan=\"magnify\"><defs/><g><!--MD5=[30fc1de5121c5abddedd55b44417fde8]\n",
       "@startuml\r\n",
       "skinparam roundcorner 20\r\n",
       "skinparam BoxPadding 20\r\n",
       "skinparam SequenceBoxBackgroundColor #white\r\n",
       "skinparam style strictuml\r\n",
       "skinparam maxMessageSize 100\r\n",
       "skinparam linetype ortho\r\n",
       "skinparam monochrome true\r\n",
       "skinparam classbackgroundcolor white\r\n",
       "skinparam shadowing false\r\n",
       "skinparam wrapWidth 300\r\n",
       "hide circle\r\n",
       "\r\n",
       "@enduml\r\n",
       "\n",
       "PlantUML version 1.2020.13(Sat Jun 13 12:26:38 UTC 2020)\n",
       "(EPL source distribution)\n",
       "Java Runtime: OpenJDK Runtime Environment\n",
       "JVM: OpenJDK 64-Bit Server VM\n",
       "Default Encoding: UTF-8\n",
       "Language: en\n",
       "Country: null\n",
       "--></g></svg>"
      ]
     },
     "execution_count": 56,
     "metadata": {},
     "output_type": "execute_result"
    }
   ],
   "source": [
    "%viz --style=\"ORTHOLINE\" --view=\"Sequence\" \"AliasImport\""
   ]
  },
  {
   "cell_type": "code",
   "execution_count": 57,
   "id": "018594bd",
   "metadata": {
    "execution": {
     "iopub.execute_input": "2021-10-25T08:24:43.813944Z",
     "iopub.status.busy": "2021-10-25T08:24:43.813329Z",
     "iopub.status.idle": "2021-10-25T08:24:43.839424Z",
     "shell.execute_reply": "2021-10-25T08:24:43.839059Z"
    }
   },
   "outputs": [
    {
     "data": {
      "image/svg+xml": [
       "<?xml version=\"1.0\" encoding=\"UTF-8\" standalone=\"no\"?><svg xmlns=\"http://www.w3.org/2000/svg\" xmlns:xlink=\"http://www.w3.org/1999/xlink\" contentScriptType=\"application/ecmascript\" contentStyleType=\"text/css\" height=\"303px\" preserveAspectRatio=\"none\" style=\"width:224px;height:303px;\" version=\"1.1\" viewBox=\"0 0 224 303\" width=\"224px\" zoomAndPan=\"magnify\"><defs/><g><!--MD5=[fbc87193dbaf4d95561dea2c320d4a47]\n",
       "cluster E1--><a href=\"psysml:144140e7-4c0e-44d8-912b-18808e1341b6\" target=\"_top\" title=\"psysml:144140e7-4c0e-44d8-912b-18808e1341b6\" xlink:actuate=\"onRequest\" xlink:href=\"psysml:144140e7-4c0e-44d8-912b-18808e1341b6\" xlink:show=\"new\" xlink:title=\"psysml:144140e7-4c0e-44d8-912b-18808e1341b6\" xlink:type=\"simple\"><polygon fill=\"#FFFFFF\" points=\"16,6,97,6,104,28.2969,202,28.2969,202,291,16,291,16,6\" style=\"stroke: #000000; stroke-width: 1.5;\"/><line style=\"stroke: #000000; stroke-width: 1.5;\" x1=\"16\" x2=\"104\" y1=\"28.2969\" y2=\"28.2969\"/><text fill=\"#000000\" font-family=\"sans-serif\" font-size=\"14\" font-weight=\"bold\" lengthAdjust=\"spacingAndGlyphs\" textLength=\"75\" x=\"20\" y=\"20.9951\">AliasImport</text></a><!--MD5=[e4f7fae6ed58524ba242bb0b0d3be6b7]\n",
       "cluster E2--><a href=\"psysml:0089895f-bb5f-44ae-8440-3a6de4c690d2\" target=\"_top\" title=\"psysml:0089895f-bb5f-44ae-8440-3a6de4c690d2\" xlink:actuate=\"onRequest\" xlink:href=\"psysml:0089895f-bb5f-44ae-8440-3a6de4c690d2\" xlink:show=\"new\" xlink:title=\"psysml:0089895f-bb5f-44ae-8440-3a6de4c690d2\" xlink:type=\"simple\"><polygon fill=\"#FFFFFF\" points=\"58,170,137,170,144,192.2969,160,192.2969,160,267,58,267,58,170\" style=\"stroke: #000000; stroke-width: 1.5;\"/><line style=\"stroke: #000000; stroke-width: 1.5;\" x1=\"58\" x2=\"144\" y1=\"192.2969\" y2=\"192.2969\"/><text fill=\"#000000\" font-family=\"sans-serif\" font-size=\"14\" font-weight=\"bold\" lengthAdjust=\"spacingAndGlyphs\" textLength=\"73\" x=\"62\" y=\"184.9951\">Definitions</text></a><!--MD5=[f6df4d0ebaf0b5dfb2ced0ae5af7c670]\n",
       "cluster E4--><a href=\"psysml:e57b5549-a047-42fa-b139-1a9999eaa505\" target=\"_top\" title=\"psysml:e57b5549-a047-42fa-b139-1a9999eaa505\" xlink:actuate=\"onRequest\" xlink:href=\"psysml:e57b5549-a047-42fa-b139-1a9999eaa505\" xlink:show=\"new\" xlink:title=\"psysml:e57b5549-a047-42fa-b139-1a9999eaa505\" xlink:type=\"simple\"><polygon fill=\"#FFFFFF\" points=\"40,49,98,49,105,71.2969,178,71.2969,178,146,40,146,40,49\" style=\"stroke: #000000; stroke-width: 1.5;\"/><line style=\"stroke: #000000; stroke-width: 1.5;\" x1=\"40\" x2=\"105\" y1=\"71.2969\" y2=\"71.2969\"/><text fill=\"#000000\" font-family=\"sans-serif\" font-size=\"14\" font-weight=\"bold\" lengthAdjust=\"spacingAndGlyphs\" textLength=\"52\" x=\"44\" y=\"63.9951\">Usages</text></a><!--MD5=[09b614a08d8cba4a07c9adeb5e0fee81]\n",
       "class E3--><a href=\"psysml:117f05b4-c909-44db-8047-1df426d26d27\" target=\"_top\" title=\"psysml:117f05b4-c909-44db-8047-1df426d26d27\" xlink:actuate=\"onRequest\" xlink:href=\"psysml:117f05b4-c909-44db-8047-1df426d26d27\" xlink:show=\"new\" xlink:title=\"psysml:117f05b4-c909-44db-8047-1df426d26d27\" xlink:type=\"simple\"><rect fill=\"#FFFFFF\" height=\"45.9375\" id=\"E3\" style=\"stroke: #383838; stroke-width: 1.5;\" width=\"70\" x=\"74\" y=\"205\"/><text fill=\"#000000\" font-family=\"sans-serif\" font-size=\"12\" font-style=\"italic\" lengthAdjust=\"spacingAndGlyphs\" textLength=\"68\" x=\"75\" y=\"221.1387\">«part  def»</text><text fill=\"#000000\" font-family=\"sans-serif\" font-size=\"12\" lengthAdjust=\"spacingAndGlyphs\" textLength=\"45\" x=\"86.5\" y=\"235.1074\">Vehicle</text><line style=\"stroke: #383838; stroke-width: 1.5;\" x1=\"75\" x2=\"143\" y1=\"242.9375\" y2=\"242.9375\"/></a><!--MD5=[270fce915f116d4de14055a7c1d9a0f3]\n",
       "class E5--><a href=\"psysml:e21f8a97-fb67-4292-9535-52151c9da93c\" target=\"_top\" title=\"psysml:e21f8a97-fb67-4292-9535-52151c9da93c\" xlink:actuate=\"onRequest\" xlink:href=\"psysml:e21f8a97-fb67-4292-9535-52151c9da93c\" xlink:show=\"new\" xlink:title=\"psysml:e21f8a97-fb67-4292-9535-52151c9da93c\" xlink:type=\"simple\"><rect fill=\"#FFFFFF\" height=\"45.9375\" id=\"E5\" rx=\"10\" ry=\"10\" style=\"stroke: #383838; stroke-width: 1.5;\" width=\"106\" x=\"56\" y=\"84\"/><text fill=\"#000000\" font-family=\"sans-serif\" font-size=\"12\" font-style=\"italic\" lengthAdjust=\"spacingAndGlyphs\" textLength=\"40\" x=\"89\" y=\"100.1387\">«part»</text><text fill=\"#000000\" font-family=\"sans-serif\" font-size=\"12\" lengthAdjust=\"spacingAndGlyphs\" textLength=\"96\" x=\"59\" y=\"114.1074\">vehicle: Vehicle</text><line style=\"stroke: #383838; stroke-width: 1.5;\" x1=\"57\" x2=\"161\" y1=\"121.9375\" y2=\"121.9375\"/></a><!--MD5=[e9be52314489bd878ff4c7144b63c9e1]\n",
       "link E5 to E3--><a href=\"psysml:763357b8-b5e0-4785-a470-e50d945081e3\" target=\"_top\" title=\"psysml:763357b8-b5e0-4785-a470-e50d945081e3\" xlink:actuate=\"onRequest\" xlink:href=\"psysml:763357b8-b5e0-4785-a470-e50d945081e3\" xlink:show=\"new\" xlink:title=\"psysml:763357b8-b5e0-4785-a470-e50d945081e3\" xlink:type=\"simple\"><path d=\"M109,130.04 C109,130.04 109,184.63 109,184.63 \" fill=\"none\" id=\"E5-&gt;E3\" style=\"stroke: #383838; stroke-width: 1.0;\"/><polygon fill=\"#FFFFFF\" points=\"109,204.63,102,185.63,116,185.63,109,204.63\" style=\"stroke: #383838; stroke-width: 1.0;\"/><ellipse cx=\"104\" cy=\"179.93\" fill=\"#383838\" rx=\"2\" ry=\"2\" style=\"stroke: #383838; stroke-width: 1.0;\"/><ellipse cx=\"114\" cy=\"179.93\" fill=\"#383838\" rx=\"2\" ry=\"2\" style=\"stroke: #383838; stroke-width: 1.0;\"/></a><!--MD5=[4f9c603b3a5e04ed1fe43bb952f1b7b8]\n",
       "@startuml\r\n",
       "skinparam linetype ortho\r\n",
       "skinparam monochrome true\r\n",
       "skinparam classbackgroundcolor white\r\n",
       "skinparam shadowing false\r\n",
       "skinparam wrapWidth 300\r\n",
       "hide circle\r\n",
       "\r\n",
       "package \"AliasImport\" as E1  [[psysml:144140e7-4c0e-44d8-912b-18808e1341b6 ]]  {\r\n",
       "package \"Definitions\" as E2  [[psysml:0089895f-bb5f-44ae-8440-3a6de4c690d2 ]]  {\r\n",
       "comp def \"Vehicle\" as E3  <<(T,blue) part  def>> [[psysml:117f05b4-c909-44db-8047-1df426d26d27 ]] {\r\n",
       "}\r\n",
       "}\r\n",
       "package \"Usages\" as E4  [[psysml:e57b5549-a047-42fa-b139-1a9999eaa505 ]]  {\r\n",
       "comp usage \"vehicle: Vehicle \" as E5  <<(T,blue) part>> [[psysml:e21f8a97-fb67-4292-9535-52151c9da93c ]] {\r\n",
       "}\r\n",
       "}\r\n",
       "}\r\n",
       "E5 - -:|> E3 [[psysml:763357b8-b5e0-4785-a470-e50d945081e3 ]] \r\n",
       "@enduml\r\n",
       "\n",
       "PlantUML version 1.2020.13(Sat Jun 13 12:26:38 UTC 2020)\n",
       "(EPL source distribution)\n",
       "Java Runtime: OpenJDK Runtime Environment\n",
       "JVM: OpenJDK 64-Bit Server VM\n",
       "Default Encoding: UTF-8\n",
       "Language: en\n",
       "Country: null\n",
       "--></g></svg>"
      ]
     },
     "execution_count": 57,
     "metadata": {},
     "output_type": "execute_result"
    }
   ],
   "source": [
    "%viz --style=\"ORTHOLINE\" --view=\"MIXED\" \"AliasImport\""
   ]
  }
 ],
 "metadata": {
  "kernelspec": {
   "display_name": "SysML",
   "language": "sysml",
   "name": "sysml"
  },
  "language_info": {
   "codemirror_mode": "sysml",
   "file_extension": ".sysml",
   "mimetype": "text/x-sysml",
   "name": "SysML",
   "pygments_lexer": "java",
   "version": "1.0.0"
  }
 },
 "nbformat": 4,
 "nbformat_minor": 5
}
