{
 "cells": [
  {
   "cell_type": "markdown",
   "id": "18f45d90",
   "metadata": {},
   "source": [
    "# SysML v2 Test Suite\n",
    "\n",
    "This can notebook can be cleared using menu `Edit --> Clear All Outputs` and then all cells can be\n",
    "run using menu `Run --> Run All Cells`.\n",
    "\n",
    "**WARNING**: This file is generated, all modifications here will be ignored.\n"
   ]
  },
  {
   "cell_type": "markdown",
   "id": "6cde6077",
   "metadata": {},
   "source": [
    "## File: ../../sysml/src/examples/Simple Tests/AliasTest.sysml"
   ]
  },
  {
   "cell_type": "code",
   "execution_count": 1,
   "id": "c74841b9",
   "metadata": {
    "execution": {
     "iopub.execute_input": "2021-10-03T08:30:08.591204Z",
     "iopub.status.busy": "2021-10-03T08:30:08.589953Z",
     "iopub.status.idle": "2021-10-03T08:30:08.892995Z",
     "shell.execute_reply": "2021-10-03T08:30:08.892525Z"
    }
   },
   "outputs": [
    {
     "data": {
      "text/plain": [
       "Package AliasTest (8f0a12eb-5178-4f10-9e5b-483aa2ea7156)\n"
      ]
     },
     "execution_count": 1,
     "metadata": {},
     "output_type": "execute_result"
    }
   ],
   "source": [
    "package AliasTest {\n",
    "\timport Quantities::quantities; // import of an alias\t\n",
    "\tattribute q :> quantities;\n",
    "\t\n",
    "    part def P1 {\n",
    "        port porig1;\n",
    "        alias po1 for porig1;\n",
    "    }\n",
    "\n",
    "    part p1 : P1 {\n",
    "        port po1 :>> po1;\n",
    "    }\n",
    "\n",
    "    part p2 : P1 {\n",
    "        port pdest;\n",
    "        alias pd1 for pdest;\n",
    "    }\n",
    "\n",
    "\n",
    "    connect p1.po1 to p2.pdest;\n",
    "\tconnect p1.po1 to p2.pd1;\n",
    "}"
   ]
  },
  {
   "cell_type": "code",
   "execution_count": 2,
   "id": "861f8a99",
   "metadata": {
    "execution": {
     "iopub.execute_input": "2021-10-03T08:30:08.943719Z",
     "iopub.status.busy": "2021-10-03T08:30:08.943393Z",
     "iopub.status.idle": "2021-10-03T08:30:09.441337Z",
     "shell.execute_reply": "2021-10-03T08:30:09.439240Z"
    }
   },
   "outputs": [
    {
     "data": {
      "image/svg+xml": [
       "<?xml version=\"1.0\" encoding=\"UTF-8\" standalone=\"no\"?><svg xmlns=\"http://www.w3.org/2000/svg\" xmlns:xlink=\"http://www.w3.org/1999/xlink\" contentScriptType=\"application/ecmascript\" contentStyleType=\"text/css\" height=\"399px\" preserveAspectRatio=\"none\" style=\"width:350px;height:399px;\" version=\"1.1\" viewBox=\"0 0 350 399\" width=\"350px\" zoomAndPan=\"magnify\"><defs/><g><!--MD5=[fbc87193dbaf4d95561dea2c320d4a47]\n",
       "cluster E1--><a href=\"psysml:c9a65f38-ba0f-435c-ac18-78f76b0c8149\" target=\"_top\" title=\"psysml:c9a65f38-ba0f-435c-ac18-78f76b0c8149\" xlink:actuate=\"onRequest\" xlink:href=\"psysml:c9a65f38-ba0f-435c-ac18-78f76b0c8149\" xlink:show=\"new\" xlink:title=\"psysml:c9a65f38-ba0f-435c-ac18-78f76b0c8149\" xlink:type=\"simple\"><polygon fill=\"#FFFFFF\" points=\"16,6,84,6,91,28.2969,328,28.2969,328,387,16,387,16,6\" style=\"stroke: #000000; stroke-width: 1.5;\"/><line style=\"stroke: #000000; stroke-width: 1.5;\" x1=\"16\" x2=\"91\" y1=\"28.2969\" y2=\"28.2969\"/><text fill=\"#000000\" font-family=\"sans-serif\" font-size=\"14\" font-weight=\"bold\" lengthAdjust=\"spacingAndGlyphs\" textLength=\"62\" x=\"20\" y=\"20.9951\">AliasTest</text></a><!--MD5=[b4997ac47864f28c2f74865a473b2911]\n",
       "class E2--><a href=\"psysml:252bcdae-bf35-4751-96e5-d2689f20556e\" target=\"_top\" title=\"psysml:252bcdae-bf35-4751-96e5-d2689f20556e\" xlink:actuate=\"onRequest\" xlink:href=\"psysml:252bcdae-bf35-4751-96e5-d2689f20556e\" xlink:show=\"new\" xlink:title=\"psysml:252bcdae-bf35-4751-96e5-d2689f20556e\" xlink:type=\"simple\"><rect fill=\"#FFFFFF\" height=\"45.9375\" id=\"E2\" rx=\"10\" ry=\"10\" style=\"stroke: #383838; stroke-width: 1.5;\" width=\"71\" x=\"240.5\" y=\"62\"/><text fill=\"#000000\" font-family=\"sans-serif\" font-size=\"12\" font-style=\"italic\" lengthAdjust=\"spacingAndGlyphs\" textLength=\"69\" x=\"241.5\" y=\"78.1387\">«attribute»</text><text fill=\"#000000\" font-family=\"sans-serif\" font-size=\"12\" lengthAdjust=\"spacingAndGlyphs\" textLength=\"8\" x=\"272\" y=\"92.1074\">q</text><line style=\"stroke: #383838; stroke-width: 1.5;\" x1=\"241.5\" x2=\"310.5\" y1=\"99.9375\" y2=\"99.9375\"/></a><!--MD5=[09b614a08d8cba4a07c9adeb5e0fee81]\n",
       "class E3--><a href=\"psysml:6d109465-d99f-46f9-9a55-615eadc52ec3\" target=\"_top\" title=\"psysml:6d109465-d99f-46f9-9a55-615eadc52ec3\" xlink:actuate=\"onRequest\" xlink:href=\"psysml:6d109465-d99f-46f9-9a55-615eadc52ec3\" xlink:show=\"new\" xlink:title=\"psysml:6d109465-d99f-46f9-9a55-615eadc52ec3\" xlink:type=\"simple\"><rect fill=\"#FFFFFF\" height=\"75.5469\" id=\"E3\" style=\"stroke: #383838; stroke-width: 1.5;\" width=\"66\" x=\"118\" y=\"189\"/><text fill=\"#000000\" font-family=\"sans-serif\" font-size=\"12\" font-style=\"italic\" lengthAdjust=\"spacingAndGlyphs\" textLength=\"64\" x=\"119\" y=\"205.1387\">«part def»</text><text fill=\"#000000\" font-family=\"sans-serif\" font-size=\"12\" lengthAdjust=\"spacingAndGlyphs\" textLength=\"16\" x=\"143\" y=\"219.1074\">P1</text><line style=\"stroke: #383838; stroke-width: 1.5;\" x1=\"119\" x2=\"183\" y1=\"226.9375\" y2=\"226.9375\"/><text fill=\"#000000\" font-family=\"sans-serif\" font-size=\"11\" lengthAdjust=\"spacingAndGlyphs\" textLength=\"36\" x=\"124\" y=\"257.9526\">porig1</text><line style=\"stroke: #383838; stroke-width: 1.0;\" x1=\"119\" x2=\"136\" y1=\"241.3398\" y2=\"241.3398\"/><text fill=\"#000000\" font-family=\"sans-serif\" font-size=\"11\" lengthAdjust=\"spacingAndGlyphs\" textLength=\"30\" x=\"136\" y=\"244.6479\">ports</text><line style=\"stroke: #383838; stroke-width: 1.0;\" x1=\"166\" x2=\"183\" y1=\"241.3398\" y2=\"241.3398\"/></a><!--MD5=[ebbe1d658d1005bcc118a6aa81145e00]\n",
       "class E4--><a href=\"psysml:07c215ea-3a50-4500-a498-5909961b01ab\" target=\"_top\" title=\"psysml:07c215ea-3a50-4500-a498-5909961b01ab\" xlink:actuate=\"onRequest\" xlink:href=\"psysml:07c215ea-3a50-4500-a498-5909961b01ab\" xlink:show=\"new\" xlink:title=\"psysml:07c215ea-3a50-4500-a498-5909961b01ab\" xlink:type=\"simple\"><rect fill=\"#FFFFFF\" height=\"45.9375\" id=\"E4\" rx=\"10\" ry=\"10\" style=\"stroke: #383838; stroke-width: 1.5;\" width=\"46\" x=\"128\" y=\"325\"/><text fill=\"#000000\" font-family=\"sans-serif\" font-size=\"12\" font-style=\"italic\" lengthAdjust=\"spacingAndGlyphs\" textLength=\"40\" x=\"131\" y=\"341.1387\">«port»</text><text fill=\"#000000\" font-family=\"sans-serif\" font-size=\"12\" lengthAdjust=\"spacingAndGlyphs\" textLength=\"40\" x=\"131\" y=\"355.1074\">porig1</text><line style=\"stroke: #383838; stroke-width: 1.5;\" x1=\"129\" x2=\"173\" y1=\"362.9375\" y2=\"362.9375\"/></a><!--MD5=[270fce915f116d4de14055a7c1d9a0f3]\n",
       "class E5--><a href=\"psysml:4b72c15b-2565-4f84-9632-f618b5b9807b\" target=\"_top\" title=\"psysml:4b72c15b-2565-4f84-9632-f618b5b9807b\" xlink:actuate=\"onRequest\" xlink:href=\"psysml:4b72c15b-2565-4f84-9632-f618b5b9807b\" xlink:show=\"new\" xlink:title=\"psysml:4b72c15b-2565-4f84-9632-f618b5b9807b\" xlink:type=\"simple\"><rect fill=\"#FFFFFF\" height=\"88.3516\" id=\"E5\" rx=\"10\" ry=\"10\" style=\"stroke: #383838; stroke-width: 1.5;\" width=\"92\" x=\"113\" y=\"41\"/><text fill=\"#000000\" font-family=\"sans-serif\" font-size=\"12\" font-style=\"italic\" lengthAdjust=\"spacingAndGlyphs\" textLength=\"40\" x=\"139\" y=\"57.1387\">«part»</text><text fill=\"#000000\" font-family=\"sans-serif\" font-size=\"12\" lengthAdjust=\"spacingAndGlyphs\" textLength=\"40\" x=\"139\" y=\"71.1074\">p1: P1</text><line style=\"stroke: #383838; stroke-width: 1.5;\" x1=\"114\" x2=\"204\" y1=\"78.9375\" y2=\"78.9375\"/><text fill=\"#000000\" font-family=\"sans-serif\" font-size=\"11\" lengthAdjust=\"spacingAndGlyphs\" textLength=\"30\" x=\"119\" y=\"109.9526\">^po1</text><text fill=\"#000000\" font-family=\"sans-serif\" font-size=\"11\" font-style=\"italic\" lengthAdjust=\"spacingAndGlyphs\" textLength=\"80\" x=\"119\" y=\"122.7573\">:&gt;&gt;P1::porig1</text><line style=\"stroke: #383838; stroke-width: 1.0;\" x1=\"114\" x2=\"144\" y1=\"93.3398\" y2=\"93.3398\"/><text fill=\"#000000\" font-family=\"sans-serif\" font-size=\"11\" lengthAdjust=\"spacingAndGlyphs\" textLength=\"30\" x=\"144\" y=\"96.6479\">ports</text><line style=\"stroke: #383838; stroke-width: 1.0;\" x1=\"174\" x2=\"204\" y1=\"93.3398\" y2=\"93.3398\"/></a><!--MD5=[60a26617385b1d2d0262a64233df1f8d]\n",
       "class E6--><a href=\"psysml:a2155965-1e3e-41f3-b3b0-5a1ed18f6b31\" target=\"_top\" title=\"psysml:a2155965-1e3e-41f3-b3b0-5a1ed18f6b31\" xlink:actuate=\"onRequest\" xlink:href=\"psysml:a2155965-1e3e-41f3-b3b0-5a1ed18f6b31\" xlink:show=\"new\" xlink:title=\"psysml:a2155965-1e3e-41f3-b3b0-5a1ed18f6b31\" xlink:type=\"simple\"><rect fill=\"#FFFFFF\" height=\"75.5469\" id=\"E6\" rx=\"10\" ry=\"10\" style=\"stroke: #383838; stroke-width: 1.5;\" width=\"46\" x=\"32\" y=\"47\"/><text fill=\"#000000\" font-family=\"sans-serif\" font-size=\"12\" font-style=\"italic\" lengthAdjust=\"spacingAndGlyphs\" textLength=\"40\" x=\"35\" y=\"63.1387\">«part»</text><text fill=\"#000000\" font-family=\"sans-serif\" font-size=\"12\" lengthAdjust=\"spacingAndGlyphs\" textLength=\"40\" x=\"35\" y=\"77.1074\">p2: P1</text><line style=\"stroke: #383838; stroke-width: 1.5;\" x1=\"33\" x2=\"77\" y1=\"84.9375\" y2=\"84.9375\"/><text fill=\"#000000\" font-family=\"sans-serif\" font-size=\"11\" lengthAdjust=\"spacingAndGlyphs\" textLength=\"32\" x=\"38\" y=\"115.9526\">pdest</text><line style=\"stroke: #383838; stroke-width: 1.0;\" x1=\"33\" x2=\"40\" y1=\"99.3398\" y2=\"99.3398\"/><text fill=\"#000000\" font-family=\"sans-serif\" font-size=\"11\" lengthAdjust=\"spacingAndGlyphs\" textLength=\"30\" x=\"40\" y=\"102.6479\">ports</text><line style=\"stroke: #383838; stroke-width: 1.0;\" x1=\"70\" x2=\"77\" y1=\"99.3398\" y2=\"99.3398\"/></a><!--MD5=[2156ba9850f5573cc1fc38a6a4b2f02b]\n",
       "class E7--><a href=\"psysml:44ed1293-6fc3-4c15-bfe8-a6e98039e875\" target=\"_top\" title=\"psysml:44ed1293-6fc3-4c15-bfe8-a6e98039e875\" xlink:actuate=\"onRequest\" xlink:href=\"psysml:44ed1293-6fc3-4c15-bfe8-a6e98039e875\" xlink:show=\"new\" xlink:title=\"psysml:44ed1293-6fc3-4c15-bfe8-a6e98039e875\" xlink:type=\"simple\"><rect fill=\"#FFFFFF\" height=\"45.9375\" id=\"E7\" rx=\"10\" ry=\"10\" style=\"stroke: #383838; stroke-width: 1.5;\" width=\"42\" x=\"34\" y=\"204\"/><text fill=\"#000000\" font-family=\"sans-serif\" font-size=\"12\" font-style=\"italic\" lengthAdjust=\"spacingAndGlyphs\" textLength=\"40\" x=\"35\" y=\"220.1387\">«port»</text><text fill=\"#000000\" font-family=\"sans-serif\" font-size=\"12\" lengthAdjust=\"spacingAndGlyphs\" textLength=\"36\" x=\"37\" y=\"234.1074\">pdest</text><line style=\"stroke: #383838; stroke-width: 1.5;\" x1=\"35\" x2=\"75\" y1=\"241.9375\" y2=\"241.9375\"/></a><!--MD5=[4672eba38e49728da53d11aeb285b987]\n",
       "reverse link E3 to E4--><a href=\"psysml:baeef3bb-efbd-4f79-8bec-1b43bb5efd8f\" target=\"_top\" title=\"psysml:baeef3bb-efbd-4f79-8bec-1b43bb5efd8f\" xlink:actuate=\"onRequest\" xlink:href=\"psysml:baeef3bb-efbd-4f79-8bec-1b43bb5efd8f\" xlink:show=\"new\" xlink:title=\"psysml:baeef3bb-efbd-4f79-8bec-1b43bb5efd8f\" xlink:type=\"simple\"><path d=\"M151,280.29 C151,295.98 151,312.34 151,324.93 \" fill=\"none\" id=\"E3&lt;-E4\" style=\"stroke: #383838; stroke-width: 1.0; stroke-dasharray: 7.0,7.0;\"/><ellipse cx=\"151\" cy=\"273\" fill=\"#FFFFFF\" rx=\"8\" ry=\"8\" style=\"stroke: #383838; stroke-width: 1.0;\"/><line style=\"stroke: #383838; stroke-width: 1.0;\" x1=\"151\" x2=\"151\" y1=\"281\" y2=\"265\"/><line style=\"stroke: #383838; stroke-width: 1.0;\" x1=\"143\" x2=\"159\" y1=\"273\" y2=\"273\"/><text fill=\"#000000\" font-family=\"sans-serif\" font-size=\"13\" lengthAdjust=\"spacingAndGlyphs\" textLength=\"8\" x=\"141.925\" y=\"313.8075\">1</text></a><!--MD5=[e9be52314489bd878ff4c7144b63c9e1]\n",
       "link E5 to E3--><a href=\"psysml:3c7344fe-e5a7-4cb3-b89e-76f05a842583\" target=\"_top\" title=\"psysml:3c7344fe-e5a7-4cb3-b89e-76f05a842583\" xlink:actuate=\"onRequest\" xlink:href=\"psysml:3c7344fe-e5a7-4cb3-b89e-76f05a842583\" xlink:show=\"new\" xlink:title=\"psysml:3c7344fe-e5a7-4cb3-b89e-76f05a842583\" xlink:type=\"simple\"><path d=\"M156.53,129.15 C155.82,141.7 155.02,155.6 154.26,168.87 \" fill=\"none\" id=\"E5-&gt;E3\" style=\"stroke: #383838; stroke-width: 1.0;\"/><polygon fill=\"#FFFFFF\" points=\"153.12,188.9,147.2169,169.5311,161.1941,170.331,153.12,188.9\" style=\"stroke: #383838; stroke-width: 1.0;\"/><ellipse cx=\"149.5393\" cy=\"163.9547\" fill=\"#383838\" rx=\"2\" ry=\"2\" style=\"stroke: #383838; stroke-width: 1.0;\"/><ellipse cx=\"159.523\" cy=\"164.526\" fill=\"#383838\" rx=\"2\" ry=\"2\" style=\"stroke: #383838; stroke-width: 1.0;\"/></a><!--MD5=[a717450b82c80b9240a525fa862496af]\n",
       "link E6 to E3--><a href=\"psysml:e547b523-e8e9-4ecd-8c51-8b63037972c5\" target=\"_top\" title=\"psysml:e547b523-e8e9-4ecd-8c51-8b63037972c5\" xlink:actuate=\"onRequest\" xlink:href=\"psysml:e547b523-e8e9-4ecd-8c51-8b63037972c5\" xlink:show=\"new\" xlink:title=\"psysml:e547b523-e8e9-4ecd-8c51-8b63037972c5\" xlink:type=\"simple\"><path d=\"M78.24,119.89 C89.03,135.63 102.13,154.73 114.21,172.35 \" fill=\"none\" id=\"E6-&gt;E3\" style=\"stroke: #383838; stroke-width: 1.0;\"/><polygon fill=\"#FFFFFF\" points=\"125.62,188.98,109.1019,177.2689,120.6481,169.3515,125.62,188.98\" style=\"stroke: #383838; stroke-width: 1.0;\"/><ellipse cx=\"107.5278\" cy=\"171.4368\" fill=\"#383838\" rx=\"2\" ry=\"2\" style=\"stroke: #383838; stroke-width: 1.0;\"/><ellipse cx=\"115.7751\" cy=\"165.7816\" fill=\"#383838\" rx=\"2\" ry=\"2\" style=\"stroke: #383838; stroke-width: 1.0;\"/></a><!--MD5=[3f50a3473f1dfb74d3f76443e03635af]\n",
       "reverse link E6 to E7--><a href=\"psysml:7018d996-601d-4a38-842d-acb296e8ea77\" target=\"_top\" title=\"psysml:7018d996-601d-4a38-842d-acb296e8ea77\" xlink:actuate=\"onRequest\" xlink:href=\"psysml:7018d996-601d-4a38-842d-acb296e8ea77\" xlink:show=\"new\" xlink:title=\"psysml:7018d996-601d-4a38-842d-acb296e8ea77\" xlink:type=\"simple\"><path d=\"M55,138.32 C55,161.03 55,186.4 55,203.99 \" fill=\"none\" id=\"E6&lt;-E7\" style=\"stroke: #383838; stroke-width: 1.0; stroke-dasharray: 7.0,7.0;\"/><ellipse cx=\"55\" cy=\"131.15\" fill=\"#FFFFFF\" rx=\"8\" ry=\"8\" style=\"stroke: #383838; stroke-width: 1.0;\"/><line style=\"stroke: #383838; stroke-width: 1.0;\" x1=\"55\" x2=\"55\" y1=\"139.15\" y2=\"123.15\"/><line style=\"stroke: #383838; stroke-width: 1.0;\" x1=\"47\" x2=\"63\" y1=\"131.15\" y2=\"131.15\"/><text fill=\"#000000\" font-family=\"sans-serif\" font-size=\"13\" lengthAdjust=\"spacingAndGlyphs\" textLength=\"8\" x=\"45.925\" y=\"192.8836\">1</text></a><!--MD5=[d4149bcc4dd8a46afdaf7b641747caad]\n",
       "@startuml\r\n",
       " skinparam monochrome true\r\n",
       "skinparam classbackgroundcolor white\r\n",
       "skinparam shadowing false\r\n",
       "skinparam wrapWidth 300\r\n",
       "hide circle\r\n",
       "\r\n",
       "package \"AliasTest\" as E1  [[psysml:c9a65f38-ba0f-435c-ac18-78f76b0c8149 ]]  {\r\n",
       "comp usage \"q\" as E2  <<(T,blue) attribute>> [[psysml:252bcdae-bf35-4751-96e5-d2689f20556e ]] {\r\n",
       "}\r\n",
       "comp def \"P1\" as E3  <<(T,blue) part def>> [[psysml:6d109465-d99f-46f9-9a55-615eadc52ec3 ]] {\r\n",
       "- - ports - -\r\n",
       "porig1\r\n",
       "}\r\n",
       "comp usage \"porig1\" as E4  <<(T,blue) port>> [[psysml:07c215ea-3a50-4500-a498-5909961b01ab ]] {\r\n",
       "}\r\n",
       "comp usage \"p1: P1\" as E5  <<(T,blue) part>> [[psysml:4b72c15b-2565-4f84-9632-f618b5b9807b ]] {\r\n",
       "- - ports - -\r\n",
       "^po1\\n//:>>P1::porig1// \r\n",
       "}\r\n",
       "comp usage \"p2: P1\" as E6  <<(T,blue) part>> [[psysml:a2155965-1e3e-41f3-b3b0-5a1ed18f6b31 ]] {\r\n",
       "- - ports - -\r\n",
       "pdest\r\n",
       "}\r\n",
       "comp usage \"pdest\" as E7  <<(T,blue) port>> [[psysml:44ed1293-6fc3-4c15-bfe8-a6e98039e875 ]] {\r\n",
       "}\r\n",
       "}\r\n",
       "E3 +.. \"1\"E4 [[psysml:baeef3bb-efbd-4f79-8bec-1b43bb5efd8f ]] \r\n",
       "E5 - -:|> E3 [[psysml:3c7344fe-e5a7-4cb3-b89e-76f05a842583 ]] \r\n",
       "E6 - -:|> E3 [[psysml:e547b523-e8e9-4ecd-8c51-8b63037972c5 ]] \r\n",
       "E6 +.. \"1\"E7 [[psysml:7018d996-601d-4a38-842d-acb296e8ea77 ]] \r\n",
       "@enduml\r\n",
       "\n",
       "PlantUML version 1.2020.13(Sat Jun 13 12:26:38 UTC 2020)\n",
       "(EPL source distribution)\n",
       "Java Runtime: OpenJDK Runtime Environment\n",
       "JVM: OpenJDK 64-Bit Server VM\n",
       "Default Encoding: UTF-8\n",
       "Language: en\n",
       "Country: null\n",
       "--></g></svg>"
      ]
     },
     "execution_count": 2,
     "metadata": {},
     "output_type": "execute_result"
    }
   ],
   "source": [
    "%viz --style=\"COMPTREE\" --view=\"Default\" \"AliasTest\""
   ]
  },
  {
   "cell_type": "code",
   "execution_count": 3,
   "id": "5e76a975",
   "metadata": {
    "execution": {
     "iopub.execute_input": "2021-10-03T08:30:09.490456Z",
     "iopub.status.busy": "2021-10-03T08:30:09.489869Z",
     "iopub.status.idle": "2021-10-03T08:30:09.565140Z",
     "shell.execute_reply": "2021-10-03T08:30:09.563223Z"
    }
   },
   "outputs": [
    {
     "data": {
      "image/svg+xml": [
       "<?xml version=\"1.0\" encoding=\"UTF-8\" standalone=\"no\"?><svg xmlns=\"http://www.w3.org/2000/svg\" xmlns:xlink=\"http://www.w3.org/1999/xlink\" contentScriptType=\"application/ecmascript\" contentStyleType=\"text/css\" height=\"399px\" preserveAspectRatio=\"none\" style=\"width:350px;height:399px;\" version=\"1.1\" viewBox=\"0 0 350 399\" width=\"350px\" zoomAndPan=\"magnify\"><defs/><g><!--MD5=[fbc87193dbaf4d95561dea2c320d4a47]\n",
       "cluster E1--><a href=\"psysml:c9a65f38-ba0f-435c-ac18-78f76b0c8149\" target=\"_top\" title=\"psysml:c9a65f38-ba0f-435c-ac18-78f76b0c8149\" xlink:actuate=\"onRequest\" xlink:href=\"psysml:c9a65f38-ba0f-435c-ac18-78f76b0c8149\" xlink:show=\"new\" xlink:title=\"psysml:c9a65f38-ba0f-435c-ac18-78f76b0c8149\" xlink:type=\"simple\"><polygon fill=\"#FFFFFF\" points=\"16,6,84,6,91,28.2969,328,28.2969,328,387,16,387,16,6\" style=\"stroke: #000000; stroke-width: 1.5;\"/><line style=\"stroke: #000000; stroke-width: 1.5;\" x1=\"16\" x2=\"91\" y1=\"28.2969\" y2=\"28.2969\"/><text fill=\"#000000\" font-family=\"sans-serif\" font-size=\"14\" font-weight=\"bold\" lengthAdjust=\"spacingAndGlyphs\" textLength=\"62\" x=\"20\" y=\"20.9951\">AliasTest</text></a><!--MD5=[b4997ac47864f28c2f74865a473b2911]\n",
       "class E2--><a href=\"psysml:252bcdae-bf35-4751-96e5-d2689f20556e\" target=\"_top\" title=\"psysml:252bcdae-bf35-4751-96e5-d2689f20556e\" xlink:actuate=\"onRequest\" xlink:href=\"psysml:252bcdae-bf35-4751-96e5-d2689f20556e\" xlink:show=\"new\" xlink:title=\"psysml:252bcdae-bf35-4751-96e5-d2689f20556e\" xlink:type=\"simple\"><rect fill=\"#FFFFFF\" height=\"45.9375\" id=\"E2\" rx=\"10\" ry=\"10\" style=\"stroke: #383838; stroke-width: 1.5;\" width=\"71\" x=\"240.5\" y=\"62\"/><text fill=\"#000000\" font-family=\"sans-serif\" font-size=\"12\" font-style=\"italic\" lengthAdjust=\"spacingAndGlyphs\" textLength=\"69\" x=\"241.5\" y=\"78.1387\">«attribute»</text><text fill=\"#000000\" font-family=\"sans-serif\" font-size=\"12\" lengthAdjust=\"spacingAndGlyphs\" textLength=\"8\" x=\"272\" y=\"92.1074\">q</text><line style=\"stroke: #383838; stroke-width: 1.5;\" x1=\"241.5\" x2=\"310.5\" y1=\"99.9375\" y2=\"99.9375\"/></a><!--MD5=[09b614a08d8cba4a07c9adeb5e0fee81]\n",
       "class E3--><a href=\"psysml:6d109465-d99f-46f9-9a55-615eadc52ec3\" target=\"_top\" title=\"psysml:6d109465-d99f-46f9-9a55-615eadc52ec3\" xlink:actuate=\"onRequest\" xlink:href=\"psysml:6d109465-d99f-46f9-9a55-615eadc52ec3\" xlink:show=\"new\" xlink:title=\"psysml:6d109465-d99f-46f9-9a55-615eadc52ec3\" xlink:type=\"simple\"><rect fill=\"#FFFFFF\" height=\"75.5469\" id=\"E3\" style=\"stroke: #383838; stroke-width: 1.5;\" width=\"66\" x=\"118\" y=\"189\"/><text fill=\"#000000\" font-family=\"sans-serif\" font-size=\"12\" font-style=\"italic\" lengthAdjust=\"spacingAndGlyphs\" textLength=\"64\" x=\"119\" y=\"205.1387\">«part def»</text><text fill=\"#000000\" font-family=\"sans-serif\" font-size=\"12\" lengthAdjust=\"spacingAndGlyphs\" textLength=\"16\" x=\"143\" y=\"219.1074\">P1</text><line style=\"stroke: #383838; stroke-width: 1.5;\" x1=\"119\" x2=\"183\" y1=\"226.9375\" y2=\"226.9375\"/><text fill=\"#000000\" font-family=\"sans-serif\" font-size=\"11\" lengthAdjust=\"spacingAndGlyphs\" textLength=\"36\" x=\"124\" y=\"257.9526\">porig1</text><line style=\"stroke: #383838; stroke-width: 1.0;\" x1=\"119\" x2=\"136\" y1=\"241.3398\" y2=\"241.3398\"/><text fill=\"#000000\" font-family=\"sans-serif\" font-size=\"11\" lengthAdjust=\"spacingAndGlyphs\" textLength=\"30\" x=\"136\" y=\"244.6479\">ports</text><line style=\"stroke: #383838; stroke-width: 1.0;\" x1=\"166\" x2=\"183\" y1=\"241.3398\" y2=\"241.3398\"/></a><!--MD5=[ebbe1d658d1005bcc118a6aa81145e00]\n",
       "class E4--><a href=\"psysml:07c215ea-3a50-4500-a498-5909961b01ab\" target=\"_top\" title=\"psysml:07c215ea-3a50-4500-a498-5909961b01ab\" xlink:actuate=\"onRequest\" xlink:href=\"psysml:07c215ea-3a50-4500-a498-5909961b01ab\" xlink:show=\"new\" xlink:title=\"psysml:07c215ea-3a50-4500-a498-5909961b01ab\" xlink:type=\"simple\"><rect fill=\"#FFFFFF\" height=\"45.9375\" id=\"E4\" rx=\"10\" ry=\"10\" style=\"stroke: #383838; stroke-width: 1.5;\" width=\"46\" x=\"128\" y=\"325\"/><text fill=\"#000000\" font-family=\"sans-serif\" font-size=\"12\" font-style=\"italic\" lengthAdjust=\"spacingAndGlyphs\" textLength=\"40\" x=\"131\" y=\"341.1387\">«port»</text><text fill=\"#000000\" font-family=\"sans-serif\" font-size=\"12\" lengthAdjust=\"spacingAndGlyphs\" textLength=\"40\" x=\"131\" y=\"355.1074\">porig1</text><line style=\"stroke: #383838; stroke-width: 1.5;\" x1=\"129\" x2=\"173\" y1=\"362.9375\" y2=\"362.9375\"/></a><!--MD5=[270fce915f116d4de14055a7c1d9a0f3]\n",
       "class E5--><a href=\"psysml:4b72c15b-2565-4f84-9632-f618b5b9807b\" target=\"_top\" title=\"psysml:4b72c15b-2565-4f84-9632-f618b5b9807b\" xlink:actuate=\"onRequest\" xlink:href=\"psysml:4b72c15b-2565-4f84-9632-f618b5b9807b\" xlink:show=\"new\" xlink:title=\"psysml:4b72c15b-2565-4f84-9632-f618b5b9807b\" xlink:type=\"simple\"><rect fill=\"#FFFFFF\" height=\"88.3516\" id=\"E5\" rx=\"10\" ry=\"10\" style=\"stroke: #383838; stroke-width: 1.5;\" width=\"92\" x=\"113\" y=\"41\"/><text fill=\"#000000\" font-family=\"sans-serif\" font-size=\"12\" font-style=\"italic\" lengthAdjust=\"spacingAndGlyphs\" textLength=\"40\" x=\"139\" y=\"57.1387\">«part»</text><text fill=\"#000000\" font-family=\"sans-serif\" font-size=\"12\" lengthAdjust=\"spacingAndGlyphs\" textLength=\"40\" x=\"139\" y=\"71.1074\">p1: P1</text><line style=\"stroke: #383838; stroke-width: 1.5;\" x1=\"114\" x2=\"204\" y1=\"78.9375\" y2=\"78.9375\"/><text fill=\"#000000\" font-family=\"sans-serif\" font-size=\"11\" lengthAdjust=\"spacingAndGlyphs\" textLength=\"30\" x=\"119\" y=\"109.9526\">^po1</text><text fill=\"#000000\" font-family=\"sans-serif\" font-size=\"11\" font-style=\"italic\" lengthAdjust=\"spacingAndGlyphs\" textLength=\"80\" x=\"119\" y=\"122.7573\">:&gt;&gt;P1::porig1</text><line style=\"stroke: #383838; stroke-width: 1.0;\" x1=\"114\" x2=\"144\" y1=\"93.3398\" y2=\"93.3398\"/><text fill=\"#000000\" font-family=\"sans-serif\" font-size=\"11\" lengthAdjust=\"spacingAndGlyphs\" textLength=\"30\" x=\"144\" y=\"96.6479\">ports</text><line style=\"stroke: #383838; stroke-width: 1.0;\" x1=\"174\" x2=\"204\" y1=\"93.3398\" y2=\"93.3398\"/></a><!--MD5=[60a26617385b1d2d0262a64233df1f8d]\n",
       "class E6--><a href=\"psysml:a2155965-1e3e-41f3-b3b0-5a1ed18f6b31\" target=\"_top\" title=\"psysml:a2155965-1e3e-41f3-b3b0-5a1ed18f6b31\" xlink:actuate=\"onRequest\" xlink:href=\"psysml:a2155965-1e3e-41f3-b3b0-5a1ed18f6b31\" xlink:show=\"new\" xlink:title=\"psysml:a2155965-1e3e-41f3-b3b0-5a1ed18f6b31\" xlink:type=\"simple\"><rect fill=\"#FFFFFF\" height=\"75.5469\" id=\"E6\" rx=\"10\" ry=\"10\" style=\"stroke: #383838; stroke-width: 1.5;\" width=\"46\" x=\"32\" y=\"47\"/><text fill=\"#000000\" font-family=\"sans-serif\" font-size=\"12\" font-style=\"italic\" lengthAdjust=\"spacingAndGlyphs\" textLength=\"40\" x=\"35\" y=\"63.1387\">«part»</text><text fill=\"#000000\" font-family=\"sans-serif\" font-size=\"12\" lengthAdjust=\"spacingAndGlyphs\" textLength=\"40\" x=\"35\" y=\"77.1074\">p2: P1</text><line style=\"stroke: #383838; stroke-width: 1.5;\" x1=\"33\" x2=\"77\" y1=\"84.9375\" y2=\"84.9375\"/><text fill=\"#000000\" font-family=\"sans-serif\" font-size=\"11\" lengthAdjust=\"spacingAndGlyphs\" textLength=\"32\" x=\"38\" y=\"115.9526\">pdest</text><line style=\"stroke: #383838; stroke-width: 1.0;\" x1=\"33\" x2=\"40\" y1=\"99.3398\" y2=\"99.3398\"/><text fill=\"#000000\" font-family=\"sans-serif\" font-size=\"11\" lengthAdjust=\"spacingAndGlyphs\" textLength=\"30\" x=\"40\" y=\"102.6479\">ports</text><line style=\"stroke: #383838; stroke-width: 1.0;\" x1=\"70\" x2=\"77\" y1=\"99.3398\" y2=\"99.3398\"/></a><!--MD5=[2156ba9850f5573cc1fc38a6a4b2f02b]\n",
       "class E7--><a href=\"psysml:44ed1293-6fc3-4c15-bfe8-a6e98039e875\" target=\"_top\" title=\"psysml:44ed1293-6fc3-4c15-bfe8-a6e98039e875\" xlink:actuate=\"onRequest\" xlink:href=\"psysml:44ed1293-6fc3-4c15-bfe8-a6e98039e875\" xlink:show=\"new\" xlink:title=\"psysml:44ed1293-6fc3-4c15-bfe8-a6e98039e875\" xlink:type=\"simple\"><rect fill=\"#FFFFFF\" height=\"45.9375\" id=\"E7\" rx=\"10\" ry=\"10\" style=\"stroke: #383838; stroke-width: 1.5;\" width=\"42\" x=\"34\" y=\"204\"/><text fill=\"#000000\" font-family=\"sans-serif\" font-size=\"12\" font-style=\"italic\" lengthAdjust=\"spacingAndGlyphs\" textLength=\"40\" x=\"35\" y=\"220.1387\">«port»</text><text fill=\"#000000\" font-family=\"sans-serif\" font-size=\"12\" lengthAdjust=\"spacingAndGlyphs\" textLength=\"36\" x=\"37\" y=\"234.1074\">pdest</text><line style=\"stroke: #383838; stroke-width: 1.5;\" x1=\"35\" x2=\"75\" y1=\"241.9375\" y2=\"241.9375\"/></a><!--MD5=[4672eba38e49728da53d11aeb285b987]\n",
       "reverse link E3 to E4--><a href=\"psysml:baeef3bb-efbd-4f79-8bec-1b43bb5efd8f\" target=\"_top\" title=\"psysml:baeef3bb-efbd-4f79-8bec-1b43bb5efd8f\" xlink:actuate=\"onRequest\" xlink:href=\"psysml:baeef3bb-efbd-4f79-8bec-1b43bb5efd8f\" xlink:show=\"new\" xlink:title=\"psysml:baeef3bb-efbd-4f79-8bec-1b43bb5efd8f\" xlink:type=\"simple\"><path d=\"M151,280.29 C151,295.98 151,312.34 151,324.93 \" fill=\"none\" id=\"E3&lt;-E4\" style=\"stroke: #383838; stroke-width: 1.0; stroke-dasharray: 7.0,7.0;\"/><ellipse cx=\"151\" cy=\"273\" fill=\"#FFFFFF\" rx=\"8\" ry=\"8\" style=\"stroke: #383838; stroke-width: 1.0;\"/><line style=\"stroke: #383838; stroke-width: 1.0;\" x1=\"151\" x2=\"151\" y1=\"281\" y2=\"265\"/><line style=\"stroke: #383838; stroke-width: 1.0;\" x1=\"143\" x2=\"159\" y1=\"273\" y2=\"273\"/><text fill=\"#000000\" font-family=\"sans-serif\" font-size=\"13\" lengthAdjust=\"spacingAndGlyphs\" textLength=\"8\" x=\"141.925\" y=\"313.8075\">1</text></a><!--MD5=[e9be52314489bd878ff4c7144b63c9e1]\n",
       "link E5 to E3--><a href=\"psysml:3c7344fe-e5a7-4cb3-b89e-76f05a842583\" target=\"_top\" title=\"psysml:3c7344fe-e5a7-4cb3-b89e-76f05a842583\" xlink:actuate=\"onRequest\" xlink:href=\"psysml:3c7344fe-e5a7-4cb3-b89e-76f05a842583\" xlink:show=\"new\" xlink:title=\"psysml:3c7344fe-e5a7-4cb3-b89e-76f05a842583\" xlink:type=\"simple\"><path d=\"M156.53,129.15 C155.82,141.7 155.02,155.6 154.26,168.87 \" fill=\"none\" id=\"E5-&gt;E3\" style=\"stroke: #383838; stroke-width: 1.0;\"/><polygon fill=\"#FFFFFF\" points=\"153.12,188.9,147.2169,169.5311,161.1941,170.331,153.12,188.9\" style=\"stroke: #383838; stroke-width: 1.0;\"/><ellipse cx=\"149.5393\" cy=\"163.9547\" fill=\"#383838\" rx=\"2\" ry=\"2\" style=\"stroke: #383838; stroke-width: 1.0;\"/><ellipse cx=\"159.523\" cy=\"164.526\" fill=\"#383838\" rx=\"2\" ry=\"2\" style=\"stroke: #383838; stroke-width: 1.0;\"/></a><!--MD5=[a717450b82c80b9240a525fa862496af]\n",
       "link E6 to E3--><a href=\"psysml:e547b523-e8e9-4ecd-8c51-8b63037972c5\" target=\"_top\" title=\"psysml:e547b523-e8e9-4ecd-8c51-8b63037972c5\" xlink:actuate=\"onRequest\" xlink:href=\"psysml:e547b523-e8e9-4ecd-8c51-8b63037972c5\" xlink:show=\"new\" xlink:title=\"psysml:e547b523-e8e9-4ecd-8c51-8b63037972c5\" xlink:type=\"simple\"><path d=\"M78.24,119.89 C89.03,135.63 102.13,154.73 114.21,172.35 \" fill=\"none\" id=\"E6-&gt;E3\" style=\"stroke: #383838; stroke-width: 1.0;\"/><polygon fill=\"#FFFFFF\" points=\"125.62,188.98,109.1019,177.2689,120.6481,169.3515,125.62,188.98\" style=\"stroke: #383838; stroke-width: 1.0;\"/><ellipse cx=\"107.5278\" cy=\"171.4368\" fill=\"#383838\" rx=\"2\" ry=\"2\" style=\"stroke: #383838; stroke-width: 1.0;\"/><ellipse cx=\"115.7751\" cy=\"165.7816\" fill=\"#383838\" rx=\"2\" ry=\"2\" style=\"stroke: #383838; stroke-width: 1.0;\"/></a><!--MD5=[3f50a3473f1dfb74d3f76443e03635af]\n",
       "reverse link E6 to E7--><a href=\"psysml:7018d996-601d-4a38-842d-acb296e8ea77\" target=\"_top\" title=\"psysml:7018d996-601d-4a38-842d-acb296e8ea77\" xlink:actuate=\"onRequest\" xlink:href=\"psysml:7018d996-601d-4a38-842d-acb296e8ea77\" xlink:show=\"new\" xlink:title=\"psysml:7018d996-601d-4a38-842d-acb296e8ea77\" xlink:type=\"simple\"><path d=\"M55,138.32 C55,161.03 55,186.4 55,203.99 \" fill=\"none\" id=\"E6&lt;-E7\" style=\"stroke: #383838; stroke-width: 1.0; stroke-dasharray: 7.0,7.0;\"/><ellipse cx=\"55\" cy=\"131.15\" fill=\"#FFFFFF\" rx=\"8\" ry=\"8\" style=\"stroke: #383838; stroke-width: 1.0;\"/><line style=\"stroke: #383838; stroke-width: 1.0;\" x1=\"55\" x2=\"55\" y1=\"139.15\" y2=\"123.15\"/><line style=\"stroke: #383838; stroke-width: 1.0;\" x1=\"47\" x2=\"63\" y1=\"131.15\" y2=\"131.15\"/><text fill=\"#000000\" font-family=\"sans-serif\" font-size=\"13\" lengthAdjust=\"spacingAndGlyphs\" textLength=\"8\" x=\"45.925\" y=\"192.8836\">1</text></a><!--MD5=[d4149bcc4dd8a46afdaf7b641747caad]\n",
       "@startuml\r\n",
       " skinparam monochrome true\r\n",
       "skinparam classbackgroundcolor white\r\n",
       "skinparam shadowing false\r\n",
       "skinparam wrapWidth 300\r\n",
       "hide circle\r\n",
       "\r\n",
       "package \"AliasTest\" as E1  [[psysml:c9a65f38-ba0f-435c-ac18-78f76b0c8149 ]]  {\r\n",
       "comp usage \"q\" as E2  <<(T,blue) attribute>> [[psysml:252bcdae-bf35-4751-96e5-d2689f20556e ]] {\r\n",
       "}\r\n",
       "comp def \"P1\" as E3  <<(T,blue) part def>> [[psysml:6d109465-d99f-46f9-9a55-615eadc52ec3 ]] {\r\n",
       "- - ports - -\r\n",
       "porig1\r\n",
       "}\r\n",
       "comp usage \"porig1\" as E4  <<(T,blue) port>> [[psysml:07c215ea-3a50-4500-a498-5909961b01ab ]] {\r\n",
       "}\r\n",
       "comp usage \"p1: P1\" as E5  <<(T,blue) part>> [[psysml:4b72c15b-2565-4f84-9632-f618b5b9807b ]] {\r\n",
       "- - ports - -\r\n",
       "^po1\\n//:>>P1::porig1// \r\n",
       "}\r\n",
       "comp usage \"p2: P1\" as E6  <<(T,blue) part>> [[psysml:a2155965-1e3e-41f3-b3b0-5a1ed18f6b31 ]] {\r\n",
       "- - ports - -\r\n",
       "pdest\r\n",
       "}\r\n",
       "comp usage \"pdest\" as E7  <<(T,blue) port>> [[psysml:44ed1293-6fc3-4c15-bfe8-a6e98039e875 ]] {\r\n",
       "}\r\n",
       "}\r\n",
       "E3 +.. \"1\"E4 [[psysml:baeef3bb-efbd-4f79-8bec-1b43bb5efd8f ]] \r\n",
       "E5 - -:|> E3 [[psysml:3c7344fe-e5a7-4cb3-b89e-76f05a842583 ]] \r\n",
       "E6 - -:|> E3 [[psysml:e547b523-e8e9-4ecd-8c51-8b63037972c5 ]] \r\n",
       "E6 +.. \"1\"E7 [[psysml:7018d996-601d-4a38-842d-acb296e8ea77 ]] \r\n",
       "@enduml\r\n",
       "\n",
       "PlantUML version 1.2020.13(Sat Jun 13 12:26:38 UTC 2020)\n",
       "(EPL source distribution)\n",
       "Java Runtime: OpenJDK Runtime Environment\n",
       "JVM: OpenJDK 64-Bit Server VM\n",
       "Default Encoding: UTF-8\n",
       "Language: en\n",
       "Country: null\n",
       "--></g></svg>"
      ]
     },
     "execution_count": 3,
     "metadata": {},
     "output_type": "execute_result"
    }
   ],
   "source": [
    "%viz --style=\"COMPTREE\" --view=\"Tree\" \"AliasTest\""
   ]
  },
  {
   "cell_type": "code",
   "execution_count": 4,
   "id": "65b678c6",
   "metadata": {
    "execution": {
     "iopub.execute_input": "2021-10-03T08:30:09.614203Z",
     "iopub.status.busy": "2021-10-03T08:30:09.613769Z",
     "iopub.status.idle": "2021-10-03T08:30:09.619875Z",
     "shell.execute_reply": "2021-10-03T08:30:09.620205Z"
    }
   },
   "outputs": [
    {
     "data": {
      "image/svg+xml": [
       "<?xml version=\"1.0\" encoding=\"UTF-8\" standalone=\"no\"?><svg xmlns=\"http://www.w3.org/2000/svg\" xmlns:xlink=\"http://www.w3.org/1999/xlink\" contentScriptType=\"application/ecmascript\" contentStyleType=\"text/css\" height=\"12px\" preserveAspectRatio=\"none\" style=\"width:12px;height:12px;\" version=\"1.1\" viewBox=\"0 0 12 12\" width=\"12px\" zoomAndPan=\"magnify\"><defs/><g><!--MD5=[f19188ef49e11757b5c46753f95d9edc]\n",
       "@startuml\r\n",
       " skinparam monochrome true\r\n",
       "skinparam classbackgroundcolor white\r\n",
       "skinparam shadowing false\r\n",
       "skinparam wrapWidth 300\r\n",
       "hide circle\r\n",
       "\r\n",
       "@enduml\r\n",
       "\n",
       "PlantUML version 1.2020.13(Sat Jun 13 12:26:38 UTC 2020)\n",
       "(EPL source distribution)\n",
       "Java Runtime: OpenJDK Runtime Environment\n",
       "JVM: OpenJDK 64-Bit Server VM\n",
       "Default Encoding: UTF-8\n",
       "Language: en\n",
       "Country: null\n",
       "--></g></svg>"
      ]
     },
     "execution_count": 4,
     "metadata": {},
     "output_type": "execute_result"
    }
   ],
   "source": [
    "%viz --style=\"COMPTREE\" --view=\"State\" \"AliasTest\""
   ]
  },
  {
   "cell_type": "code",
   "execution_count": 5,
   "id": "4135c323",
   "metadata": {
    "execution": {
     "iopub.execute_input": "2021-10-03T08:30:09.670022Z",
     "iopub.status.busy": "2021-10-03T08:30:09.669594Z",
     "iopub.status.idle": "2021-10-03T08:30:09.728362Z",
     "shell.execute_reply": "2021-10-03T08:30:09.728689Z"
    }
   },
   "outputs": [
    {
     "data": {
      "image/svg+xml": [
       "<?xml version=\"1.0\" encoding=\"UTF-8\" standalone=\"no\"?><svg xmlns=\"http://www.w3.org/2000/svg\" xmlns:xlink=\"http://www.w3.org/1999/xlink\" contentScriptType=\"application/ecmascript\" contentStyleType=\"text/css\" height=\"233px\" preserveAspectRatio=\"none\" style=\"width:474px;height:233px;\" version=\"1.1\" viewBox=\"0 0 474 233\" width=\"474px\" zoomAndPan=\"magnify\"><defs/><g><!--MD5=[fbc87193dbaf4d95561dea2c320d4a47]\n",
       "cluster E1--><a href=\"psysml:c9a65f38-ba0f-435c-ac18-78f76b0c8149\" target=\"_top\" title=\"psysml:c9a65f38-ba0f-435c-ac18-78f76b0c8149\" xlink:actuate=\"onRequest\" xlink:href=\"psysml:c9a65f38-ba0f-435c-ac18-78f76b0c8149\" xlink:show=\"new\" xlink:title=\"psysml:c9a65f38-ba0f-435c-ac18-78f76b0c8149\" xlink:type=\"simple\"><polygon fill=\"#FFFFFF\" points=\"16,6,84,6,91,28.2969,452,28.2969,452,221,16,221,16,6\" style=\"stroke: #000000; stroke-width: 1.5;\"/><line style=\"stroke: #000000; stroke-width: 1.5;\" x1=\"16\" x2=\"91\" y1=\"28.2969\" y2=\"28.2969\"/><text fill=\"#000000\" font-family=\"sans-serif\" font-size=\"14\" font-weight=\"bold\" lengthAdjust=\"spacingAndGlyphs\" textLength=\"62\" x=\"20\" y=\"20.9951\">AliasTest</text></a><!--MD5=[d5e69f78d87373223dbae638b30a9c99]\n",
       "cluster E3--><a href=\"psysml:6d109465-d99f-46f9-9a55-615eadc52ec3\" target=\"_top\" title=\"psysml:6d109465-d99f-46f9-9a55-615eadc52ec3\" xlink:actuate=\"onRequest\" xlink:href=\"psysml:6d109465-d99f-46f9-9a55-615eadc52ec3\" xlink:show=\"new\" xlink:title=\"psysml:6d109465-d99f-46f9-9a55-615eadc52ec3\" xlink:type=\"simple\"><rect fill=\"#FFFFFF\" height=\"90\" id=\"E3\" style=\"stroke: #383838; stroke-width: 1.5;\" width=\"83\" x=\"312\" y=\"64\"/><rect fill=\"#F8F8F8\" height=\"37.9375\" style=\"stroke: #383838; stroke-width: 1.5;\" width=\"83\" x=\"312\" y=\"64\"/><text fill=\"#000000\" font-family=\"sans-serif\" font-size=\"12\" font-style=\"italic\" lengthAdjust=\"spacingAndGlyphs\" textLength=\"64\" x=\"321.5\" y=\"80.1387\">«part def»</text><text fill=\"#000000\" font-family=\"sans-serif\" font-size=\"12\" lengthAdjust=\"spacingAndGlyphs\" textLength=\"16\" x=\"345.5\" y=\"94.1074\">P1</text></a><!--MD5=[14e3b0961a2654348d326746436168a1]\n",
       "cluster E6--><a href=\"psysml:4b72c15b-2565-4f84-9632-f618b5b9807b\" target=\"_top\" title=\"psysml:4b72c15b-2565-4f84-9632-f618b5b9807b\" xlink:actuate=\"onRequest\" xlink:href=\"psysml:4b72c15b-2565-4f84-9632-f618b5b9807b\" xlink:show=\"new\" xlink:title=\"psysml:4b72c15b-2565-4f84-9632-f618b5b9807b\" xlink:type=\"simple\"><rect fill=\"#FFFFFF\" height=\"82\" id=\"E6\" rx=\"10\" ry=\"10\" style=\"stroke: #383838; stroke-width: 1.5;\" width=\"98\" x=\"112\" y=\"64\"/><rect fill=\"#F8F8F8\" height=\"23.9688\" rx=\"10\" ry=\"10\" style=\"stroke: #F8F8F8; stroke-width: 1.5;\" width=\"98\" x=\"112\" y=\"64\"/><rect fill=\"#F8F8F8\" height=\"10\" style=\"stroke: #F8F8F8; stroke-width: 1.5;\" width=\"98\" x=\"112\" y=\"77.9688\"/><rect fill=\"none\" height=\"82\" id=\"E6\" rx=\"10\" ry=\"10\" style=\"stroke: #383838; stroke-width: 1.5;\" width=\"98\" x=\"112\" y=\"64\"/><text fill=\"#000000\" font-family=\"sans-serif\" font-size=\"12\" lengthAdjust=\"spacingAndGlyphs\" textLength=\"40\" x=\"141\" y=\"80.1387\">p1: P1</text><line style=\"stroke: #383838; stroke-width: 1.0;\" x1=\"112\" x2=\"210\" y1=\"87.9688\" y2=\"87.9688\"/></a><!--MD5=[55dfccfc6c49c2d10cd1bd2211a6c90c]\n",
       "cluster E8--><a href=\"psysml:a2155965-1e3e-41f3-b3b0-5a1ed18f6b31\" target=\"_top\" title=\"psysml:a2155965-1e3e-41f3-b3b0-5a1ed18f6b31\" xlink:actuate=\"onRequest\" xlink:href=\"psysml:a2155965-1e3e-41f3-b3b0-5a1ed18f6b31\" xlink:show=\"new\" xlink:title=\"psysml:a2155965-1e3e-41f3-b3b0-5a1ed18f6b31\" xlink:type=\"simple\"><rect fill=\"#FFFFFF\" height=\"84.5\" id=\"E8\" rx=\"10\" ry=\"10\" style=\"stroke: #383838; stroke-width: 1.5;\" width=\"83\" x=\"213\" y=\"120.5\"/><rect fill=\"#F8F8F8\" height=\"23.9688\" rx=\"10\" ry=\"10\" style=\"stroke: #F8F8F8; stroke-width: 1.5;\" width=\"83\" x=\"213\" y=\"120.5\"/><rect fill=\"#F8F8F8\" height=\"10\" style=\"stroke: #F8F8F8; stroke-width: 1.5;\" width=\"83\" x=\"213\" y=\"134.4688\"/><rect fill=\"none\" height=\"84.5\" id=\"E8\" rx=\"10\" ry=\"10\" style=\"stroke: #383838; stroke-width: 1.5;\" width=\"83\" x=\"213\" y=\"120.5\"/><text fill=\"#000000\" font-family=\"sans-serif\" font-size=\"12\" lengthAdjust=\"spacingAndGlyphs\" textLength=\"40\" x=\"234.5\" y=\"136.6387\">p2: P1</text><line style=\"stroke: #383838; stroke-width: 1.0;\" x1=\"213\" x2=\"296\" y1=\"144.4688\" y2=\"144.4688\"/></a><!--MD5=[b4997ac47864f28c2f74865a473b2911]\n",
       "class E2--><a href=\"psysml:252bcdae-bf35-4751-96e5-d2689f20556e\" target=\"_top\" title=\"psysml:252bcdae-bf35-4751-96e5-d2689f20556e\" xlink:actuate=\"onRequest\" xlink:href=\"psysml:252bcdae-bf35-4751-96e5-d2689f20556e\" xlink:show=\"new\" xlink:title=\"psysml:252bcdae-bf35-4751-96e5-d2689f20556e\" xlink:type=\"simple\"><rect fill=\"#FFFFFF\" height=\"45.9375\" id=\"E2\" rx=\"10\" ry=\"10\" style=\"stroke: #383838; stroke-width: 1.5;\" width=\"71\" x=\"32.5\" y=\"41\"/><text fill=\"#000000\" font-family=\"sans-serif\" font-size=\"12\" font-style=\"italic\" lengthAdjust=\"spacingAndGlyphs\" textLength=\"69\" x=\"33.5\" y=\"57.1387\">«attribute»</text><text fill=\"#000000\" font-family=\"sans-serif\" font-size=\"12\" lengthAdjust=\"spacingAndGlyphs\" textLength=\"8\" x=\"64\" y=\"71.1074\">q</text><line style=\"stroke: #383838; stroke-width: 1.5;\" x1=\"33.5\" x2=\"102.5\" y1=\"78.9375\" y2=\"78.9375\"/></a><text fill=\"#000000\" font-family=\"sans-serif\" font-size=\"14\" lengthAdjust=\"spacingAndGlyphs\" textLength=\"44\" x=\"308\" y=\"42.6982\">porig1</text><rect fill=\"#383838\" height=\"12\" style=\"stroke: #F8F8F8; stroke-width: 1.5;\" width=\"12\" x=\"324\" y=\"58\"/><text fill=\"#000000\" font-family=\"sans-serif\" font-size=\"14\" lengthAdjust=\"spacingAndGlyphs\" textLength=\"44\" x=\"355\" y=\"42.6982\">porig1</text><rect fill=\"#383838\" height=\"12\" style=\"stroke: #F8F8F8; stroke-width: 1.5;\" width=\"12\" x=\"371\" y=\"58\"/><text fill=\"#000000\" font-family=\"sans-serif\" font-size=\"14\" lengthAdjust=\"spacingAndGlyphs\" textLength=\"27\" x=\"178.5\" y=\"42.6982\">po1</text><rect fill=\"#383838\" height=\"12\" style=\"stroke: #F8F8F8; stroke-width: 1.5;\" width=\"12\" x=\"186\" y=\"58\"/><text fill=\"#000000\" font-family=\"sans-serif\" font-size=\"14\" lengthAdjust=\"spacingAndGlyphs\" textLength=\"40\" x=\"211\" y=\"99.1982\">pdest</text><rect fill=\"#383838\" height=\"12\" style=\"stroke: #F8F8F8; stroke-width: 1.5;\" width=\"12\" x=\"225\" y=\"114.5\"/><text fill=\"#000000\" font-family=\"sans-serif\" font-size=\"14\" lengthAdjust=\"spacingAndGlyphs\" textLength=\"40\" x=\"258\" y=\"99.1982\">pdest</text><rect fill=\"#383838\" height=\"12\" style=\"stroke: #F8F8F8; stroke-width: 1.5;\" width=\"12\" x=\"272\" y=\"114.5\"/><!--MD5=[1c0b9414cc86e0744215edee6abd8926]\n",
       "link E7 to E9--><a href=\"psysml:1ea7862a-7bab-4478-95a9-37aa2484c274\" target=\"_top\" title=\"psysml:1ea7862a-7bab-4478-95a9-37aa2484c274\" xlink:actuate=\"onRequest\" xlink:href=\"psysml:1ea7862a-7bab-4478-95a9-37aa2484c274\" xlink:show=\"new\" xlink:title=\"psysml:1ea7862a-7bab-4478-95a9-37aa2484c274\" xlink:type=\"simple\"><path d=\"M187.83,70.03 C188.72,81.73 210.14,110.34 224.83,117.73 \" fill=\"none\" id=\"E7-E9\" style=\"stroke: #383838; stroke-width: 3.0;\"/><text fill=\"#000000\" font-family=\"sans-serif\" font-size=\"13\" lengthAdjust=\"spacingAndGlyphs\" textLength=\"7\" x=\"209.8523\" y=\"106.3789\">*</text></a><!--MD5=[1c0b9414cc86e0744215edee6abd8926]\n",
       "link E7 to E9--><a href=\"psysml:1e1521f0-84d2-4d6c-a787-5301105b41c5\" target=\"_top\" title=\"psysml:1e1521f0-84d2-4d6c-a787-5301105b41c5\" xlink:actuate=\"onRequest\" xlink:href=\"psysml:1e1521f0-84d2-4d6c-a787-5301105b41c5\" xlink:show=\"new\" xlink:title=\"psysml:1e1521f0-84d2-4d6c-a787-5301105b41c5\" xlink:type=\"simple\"><path d=\"M198.05,66.57 C213.27,73.62 235.05,102.5 235.62,114.37 \" fill=\"none\" id=\"E7-E9-1\" style=\"stroke: #383838; stroke-width: 3.0;\"/><text fill=\"#000000\" font-family=\"sans-serif\" font-size=\"13\" lengthAdjust=\"spacingAndGlyphs\" textLength=\"7\" x=\"229.278\" y=\"103.4683\">*</text></a><!--MD5=[035d58d6e40ba2e85b073e10aa5a9f40]\n",
       "@startuml\r\n",
       "skinparam ranksep 10\r\n",
       "skinparam rectangle {\r\n",
       " backgroundColor<<block>> LightGreen\r\n",
       "}\r\n",
       " skinparam monochrome true\r\n",
       "skinparam classbackgroundcolor white\r\n",
       "skinparam shadowing false\r\n",
       "skinparam wrapWidth 300\r\n",
       "hide circle\r\n",
       "\r\n",
       "package \"AliasTest\" as E1  [[psysml:c9a65f38-ba0f-435c-ac18-78f76b0c8149 ]]  {\r\n",
       "comp usage \"q\" as E2  <<(T,blue) attribute>> [[psysml:252bcdae-bf35-4751-96e5-d2689f20556e ]] {\r\n",
       "}\r\n",
       "rec def \"P1\" as E3  <<(T,blue) part def>> [[psysml:6d109465-d99f-46f9-9a55-615eadc52ec3 ]] {\r\n",
       "portin \"porig1\" as E4  <<(T,blue) port>> [[psysml:07c215ea-3a50-4500-a498-5909961b01ab ]] \r\n",
       "portin \"porig1\" as E5  <<(T,blue) port>> [[psysml:07c215ea-3a50-4500-a498-5909961b01ab ]] \r\n",
       "}\r\n",
       "rec usage \"p1: P1\" as E6  [[psysml:4b72c15b-2565-4f84-9632-f618b5b9807b ]] {\r\n",
       "portin \"po1\" as E7  <<(T,blue) port>> [[psysml:653cf2de-fd63-4b48-a4f2-812bd043bef4 ]] \r\n",
       "}\r\n",
       "rec usage \"p2: P1\" as E8  [[psysml:a2155965-1e3e-41f3-b3b0-5a1ed18f6b31 ]] {\r\n",
       "portin \"pdest\" as E9  <<(T,blue) port>> [[psysml:44ed1293-6fc3-4c15-bfe8-a6e98039e875 ]] \r\n",
       "portin \"pdest\" as E10  <<(T,blue) port>> [[psysml:44ed1293-6fc3-4c15-bfe8-a6e98039e875 ]] \r\n",
       "}\r\n",
       "}\r\n",
       "E7 -[thickness=3]- \"*\"E9 [[psysml:1ea7862a-7bab-4478-95a9-37aa2484c274 ]] \r\n",
       "E7 -[thickness=3]- \"*\"E9 [[psysml:1e1521f0-84d2-4d6c-a787-5301105b41c5 ]] \r\n",
       "@enduml\r\n",
       "\n",
       "PlantUML version 1.2020.13(Sat Jun 13 12:26:38 UTC 2020)\n",
       "(EPL source distribution)\n",
       "Java Runtime: OpenJDK Runtime Environment\n",
       "JVM: OpenJDK 64-Bit Server VM\n",
       "Default Encoding: UTF-8\n",
       "Language: en\n",
       "Country: null\n",
       "--></g></svg>"
      ]
     },
     "execution_count": 5,
     "metadata": {},
     "output_type": "execute_result"
    }
   ],
   "source": [
    "%viz --style=\"COMPTREE\" --view=\"Interconnection\" \"AliasTest\""
   ]
  },
  {
   "cell_type": "code",
   "execution_count": 6,
   "id": "ed01c507",
   "metadata": {
    "execution": {
     "iopub.execute_input": "2021-10-03T08:30:09.778373Z",
     "iopub.status.busy": "2021-10-03T08:30:09.777949Z",
     "iopub.status.idle": "2021-10-03T08:30:09.786930Z",
     "shell.execute_reply": "2021-10-03T08:30:09.787252Z"
    }
   },
   "outputs": [
    {
     "data": {
      "image/svg+xml": [
       "<?xml version=\"1.0\" encoding=\"UTF-8\" standalone=\"no\"?><svg xmlns=\"http://www.w3.org/2000/svg\" xmlns:xlink=\"http://www.w3.org/1999/xlink\" contentScriptType=\"application/ecmascript\" contentStyleType=\"text/css\" height=\"12px\" preserveAspectRatio=\"none\" style=\"width:12px;height:12px;\" version=\"1.1\" viewBox=\"0 0 12 12\" width=\"12px\" zoomAndPan=\"magnify\"><defs/><g><!--MD5=[655b888544ca4751ea36af1068543f84]\n",
       "@startuml\r\n",
       "skinparam ranksep 8\r\n",
       " skinparam monochrome true\r\n",
       "skinparam classbackgroundcolor white\r\n",
       "skinparam shadowing false\r\n",
       "skinparam wrapWidth 300\r\n",
       "hide circle\r\n",
       "\r\n",
       "@enduml\r\n",
       "\n",
       "PlantUML version 1.2020.13(Sat Jun 13 12:26:38 UTC 2020)\n",
       "(EPL source distribution)\n",
       "Java Runtime: OpenJDK Runtime Environment\n",
       "JVM: OpenJDK 64-Bit Server VM\n",
       "Default Encoding: UTF-8\n",
       "Language: en\n",
       "Country: null\n",
       "--></g></svg>"
      ]
     },
     "execution_count": 6,
     "metadata": {},
     "output_type": "execute_result"
    }
   ],
   "source": [
    "%viz --style=\"COMPTREE\" --view=\"Action\" \"AliasTest\""
   ]
  },
  {
   "cell_type": "code",
   "execution_count": 7,
   "id": "1715d6c9",
   "metadata": {
    "execution": {
     "iopub.execute_input": "2021-10-03T08:30:09.837622Z",
     "iopub.status.busy": "2021-10-03T08:30:09.837180Z",
     "iopub.status.idle": "2021-10-03T08:30:09.849264Z",
     "shell.execute_reply": "2021-10-03T08:30:09.849586Z"
    }
   },
   "outputs": [
    {
     "data": {
      "image/svg+xml": [
       "<?xml version=\"1.0\" encoding=\"UTF-8\" standalone=\"no\"?><svg xmlns=\"http://www.w3.org/2000/svg\" xmlns:xlink=\"http://www.w3.org/1999/xlink\" contentScriptType=\"application/ecmascript\" contentStyleType=\"text/css\" height=\"12px\" preserveAspectRatio=\"none\" style=\"width:12px;height:12px;\" version=\"1.1\" viewBox=\"0 0 12 12\" width=\"12px\" zoomAndPan=\"magnify\"><defs/><g><!--MD5=[803fc46c337be7a5c8a9831e35356779]\n",
       "@startuml\r\n",
       "skinparam roundcorner 20\r\n",
       "skinparam BoxPadding 20\r\n",
       "skinparam SequenceBoxBackgroundColor #white\r\n",
       "skinparam style strictuml\r\n",
       "skinparam maxMessageSize 100\r\n",
       " skinparam monochrome true\r\n",
       "skinparam classbackgroundcolor white\r\n",
       "skinparam shadowing false\r\n",
       "skinparam wrapWidth 300\r\n",
       "hide circle\r\n",
       "\r\n",
       "@enduml\r\n",
       "\n",
       "PlantUML version 1.2020.13(Sat Jun 13 12:26:38 UTC 2020)\n",
       "(EPL source distribution)\n",
       "Java Runtime: OpenJDK Runtime Environment\n",
       "JVM: OpenJDK 64-Bit Server VM\n",
       "Default Encoding: UTF-8\n",
       "Language: en\n",
       "Country: null\n",
       "--></g></svg>"
      ]
     },
     "execution_count": 7,
     "metadata": {},
     "output_type": "execute_result"
    }
   ],
   "source": [
    "%viz --style=\"COMPTREE\" --view=\"Sequence\" \"AliasTest\""
   ]
  },
  {
   "cell_type": "code",
   "execution_count": 8,
   "id": "9dfc1152",
   "metadata": {
    "execution": {
     "iopub.execute_input": "2021-10-03T08:30:09.899368Z",
     "iopub.status.busy": "2021-10-03T08:30:09.898952Z",
     "iopub.status.idle": "2021-10-03T08:30:10.010129Z",
     "shell.execute_reply": "2021-10-03T08:30:10.007977Z"
    }
   },
   "outputs": [
    {
     "data": {
      "image/svg+xml": [
       "<?xml version=\"1.0\" encoding=\"UTF-8\" standalone=\"no\"?><svg xmlns=\"http://www.w3.org/2000/svg\" xmlns:xlink=\"http://www.w3.org/1999/xlink\" contentScriptType=\"application/ecmascript\" contentStyleType=\"text/css\" height=\"399px\" preserveAspectRatio=\"none\" style=\"width:350px;height:399px;\" version=\"1.1\" viewBox=\"0 0 350 399\" width=\"350px\" zoomAndPan=\"magnify\"><defs/><g><!--MD5=[fbc87193dbaf4d95561dea2c320d4a47]\n",
       "cluster E1--><a href=\"psysml:c9a65f38-ba0f-435c-ac18-78f76b0c8149\" target=\"_top\" title=\"psysml:c9a65f38-ba0f-435c-ac18-78f76b0c8149\" xlink:actuate=\"onRequest\" xlink:href=\"psysml:c9a65f38-ba0f-435c-ac18-78f76b0c8149\" xlink:show=\"new\" xlink:title=\"psysml:c9a65f38-ba0f-435c-ac18-78f76b0c8149\" xlink:type=\"simple\"><polygon fill=\"#FFFFFF\" points=\"16,6,84,6,91,28.2969,328,28.2969,328,387,16,387,16,6\" style=\"stroke: #000000; stroke-width: 1.5;\"/><line style=\"stroke: #000000; stroke-width: 1.5;\" x1=\"16\" x2=\"91\" y1=\"28.2969\" y2=\"28.2969\"/><text fill=\"#000000\" font-family=\"sans-serif\" font-size=\"14\" font-weight=\"bold\" lengthAdjust=\"spacingAndGlyphs\" textLength=\"62\" x=\"20\" y=\"20.9951\">AliasTest</text></a><!--MD5=[b4997ac47864f28c2f74865a473b2911]\n",
       "class E2--><a href=\"psysml:252bcdae-bf35-4751-96e5-d2689f20556e\" target=\"_top\" title=\"psysml:252bcdae-bf35-4751-96e5-d2689f20556e\" xlink:actuate=\"onRequest\" xlink:href=\"psysml:252bcdae-bf35-4751-96e5-d2689f20556e\" xlink:show=\"new\" xlink:title=\"psysml:252bcdae-bf35-4751-96e5-d2689f20556e\" xlink:type=\"simple\"><rect fill=\"#FFFFFF\" height=\"45.9375\" id=\"E2\" rx=\"10\" ry=\"10\" style=\"stroke: #383838; stroke-width: 1.5;\" width=\"71\" x=\"240.5\" y=\"62\"/><text fill=\"#000000\" font-family=\"sans-serif\" font-size=\"12\" font-style=\"italic\" lengthAdjust=\"spacingAndGlyphs\" textLength=\"69\" x=\"241.5\" y=\"78.1387\">«attribute»</text><text fill=\"#000000\" font-family=\"sans-serif\" font-size=\"12\" lengthAdjust=\"spacingAndGlyphs\" textLength=\"8\" x=\"272\" y=\"92.1074\">q</text><line style=\"stroke: #383838; stroke-width: 1.5;\" x1=\"241.5\" x2=\"310.5\" y1=\"99.9375\" y2=\"99.9375\"/></a><!--MD5=[09b614a08d8cba4a07c9adeb5e0fee81]\n",
       "class E3--><a href=\"psysml:6d109465-d99f-46f9-9a55-615eadc52ec3\" target=\"_top\" title=\"psysml:6d109465-d99f-46f9-9a55-615eadc52ec3\" xlink:actuate=\"onRequest\" xlink:href=\"psysml:6d109465-d99f-46f9-9a55-615eadc52ec3\" xlink:show=\"new\" xlink:title=\"psysml:6d109465-d99f-46f9-9a55-615eadc52ec3\" xlink:type=\"simple\"><rect fill=\"#FFFFFF\" height=\"75.5469\" id=\"E3\" style=\"stroke: #383838; stroke-width: 1.5;\" width=\"66\" x=\"118\" y=\"189\"/><text fill=\"#000000\" font-family=\"sans-serif\" font-size=\"12\" font-style=\"italic\" lengthAdjust=\"spacingAndGlyphs\" textLength=\"64\" x=\"119\" y=\"205.1387\">«part def»</text><text fill=\"#000000\" font-family=\"sans-serif\" font-size=\"12\" lengthAdjust=\"spacingAndGlyphs\" textLength=\"16\" x=\"143\" y=\"219.1074\">P1</text><line style=\"stroke: #383838; stroke-width: 1.5;\" x1=\"119\" x2=\"183\" y1=\"226.9375\" y2=\"226.9375\"/><text fill=\"#000000\" font-family=\"sans-serif\" font-size=\"11\" lengthAdjust=\"spacingAndGlyphs\" textLength=\"36\" x=\"124\" y=\"257.9526\">porig1</text><line style=\"stroke: #383838; stroke-width: 1.0;\" x1=\"119\" x2=\"136\" y1=\"241.3398\" y2=\"241.3398\"/><text fill=\"#000000\" font-family=\"sans-serif\" font-size=\"11\" lengthAdjust=\"spacingAndGlyphs\" textLength=\"30\" x=\"136\" y=\"244.6479\">ports</text><line style=\"stroke: #383838; stroke-width: 1.0;\" x1=\"166\" x2=\"183\" y1=\"241.3398\" y2=\"241.3398\"/></a><!--MD5=[ebbe1d658d1005bcc118a6aa81145e00]\n",
       "class E4--><a href=\"psysml:07c215ea-3a50-4500-a498-5909961b01ab\" target=\"_top\" title=\"psysml:07c215ea-3a50-4500-a498-5909961b01ab\" xlink:actuate=\"onRequest\" xlink:href=\"psysml:07c215ea-3a50-4500-a498-5909961b01ab\" xlink:show=\"new\" xlink:title=\"psysml:07c215ea-3a50-4500-a498-5909961b01ab\" xlink:type=\"simple\"><rect fill=\"#FFFFFF\" height=\"45.9375\" id=\"E4\" rx=\"10\" ry=\"10\" style=\"stroke: #383838; stroke-width: 1.5;\" width=\"46\" x=\"128\" y=\"325\"/><text fill=\"#000000\" font-family=\"sans-serif\" font-size=\"12\" font-style=\"italic\" lengthAdjust=\"spacingAndGlyphs\" textLength=\"40\" x=\"131\" y=\"341.1387\">«port»</text><text fill=\"#000000\" font-family=\"sans-serif\" font-size=\"12\" lengthAdjust=\"spacingAndGlyphs\" textLength=\"40\" x=\"131\" y=\"355.1074\">porig1</text><line style=\"stroke: #383838; stroke-width: 1.5;\" x1=\"129\" x2=\"173\" y1=\"362.9375\" y2=\"362.9375\"/></a><!--MD5=[270fce915f116d4de14055a7c1d9a0f3]\n",
       "class E5--><a href=\"psysml:4b72c15b-2565-4f84-9632-f618b5b9807b\" target=\"_top\" title=\"psysml:4b72c15b-2565-4f84-9632-f618b5b9807b\" xlink:actuate=\"onRequest\" xlink:href=\"psysml:4b72c15b-2565-4f84-9632-f618b5b9807b\" xlink:show=\"new\" xlink:title=\"psysml:4b72c15b-2565-4f84-9632-f618b5b9807b\" xlink:type=\"simple\"><rect fill=\"#FFFFFF\" height=\"88.3516\" id=\"E5\" rx=\"10\" ry=\"10\" style=\"stroke: #383838; stroke-width: 1.5;\" width=\"92\" x=\"113\" y=\"41\"/><text fill=\"#000000\" font-family=\"sans-serif\" font-size=\"12\" font-style=\"italic\" lengthAdjust=\"spacingAndGlyphs\" textLength=\"40\" x=\"139\" y=\"57.1387\">«part»</text><text fill=\"#000000\" font-family=\"sans-serif\" font-size=\"12\" lengthAdjust=\"spacingAndGlyphs\" textLength=\"40\" x=\"139\" y=\"71.1074\">p1: P1</text><line style=\"stroke: #383838; stroke-width: 1.5;\" x1=\"114\" x2=\"204\" y1=\"78.9375\" y2=\"78.9375\"/><text fill=\"#000000\" font-family=\"sans-serif\" font-size=\"11\" lengthAdjust=\"spacingAndGlyphs\" textLength=\"30\" x=\"119\" y=\"109.9526\">^po1</text><text fill=\"#000000\" font-family=\"sans-serif\" font-size=\"11\" font-style=\"italic\" lengthAdjust=\"spacingAndGlyphs\" textLength=\"80\" x=\"119\" y=\"122.7573\">:&gt;&gt;P1::porig1</text><line style=\"stroke: #383838; stroke-width: 1.0;\" x1=\"114\" x2=\"144\" y1=\"93.3398\" y2=\"93.3398\"/><text fill=\"#000000\" font-family=\"sans-serif\" font-size=\"11\" lengthAdjust=\"spacingAndGlyphs\" textLength=\"30\" x=\"144\" y=\"96.6479\">ports</text><line style=\"stroke: #383838; stroke-width: 1.0;\" x1=\"174\" x2=\"204\" y1=\"93.3398\" y2=\"93.3398\"/></a><!--MD5=[60a26617385b1d2d0262a64233df1f8d]\n",
       "class E6--><a href=\"psysml:a2155965-1e3e-41f3-b3b0-5a1ed18f6b31\" target=\"_top\" title=\"psysml:a2155965-1e3e-41f3-b3b0-5a1ed18f6b31\" xlink:actuate=\"onRequest\" xlink:href=\"psysml:a2155965-1e3e-41f3-b3b0-5a1ed18f6b31\" xlink:show=\"new\" xlink:title=\"psysml:a2155965-1e3e-41f3-b3b0-5a1ed18f6b31\" xlink:type=\"simple\"><rect fill=\"#FFFFFF\" height=\"75.5469\" id=\"E6\" rx=\"10\" ry=\"10\" style=\"stroke: #383838; stroke-width: 1.5;\" width=\"46\" x=\"32\" y=\"47\"/><text fill=\"#000000\" font-family=\"sans-serif\" font-size=\"12\" font-style=\"italic\" lengthAdjust=\"spacingAndGlyphs\" textLength=\"40\" x=\"35\" y=\"63.1387\">«part»</text><text fill=\"#000000\" font-family=\"sans-serif\" font-size=\"12\" lengthAdjust=\"spacingAndGlyphs\" textLength=\"40\" x=\"35\" y=\"77.1074\">p2: P1</text><line style=\"stroke: #383838; stroke-width: 1.5;\" x1=\"33\" x2=\"77\" y1=\"84.9375\" y2=\"84.9375\"/><text fill=\"#000000\" font-family=\"sans-serif\" font-size=\"11\" lengthAdjust=\"spacingAndGlyphs\" textLength=\"32\" x=\"38\" y=\"115.9526\">pdest</text><line style=\"stroke: #383838; stroke-width: 1.0;\" x1=\"33\" x2=\"40\" y1=\"99.3398\" y2=\"99.3398\"/><text fill=\"#000000\" font-family=\"sans-serif\" font-size=\"11\" lengthAdjust=\"spacingAndGlyphs\" textLength=\"30\" x=\"40\" y=\"102.6479\">ports</text><line style=\"stroke: #383838; stroke-width: 1.0;\" x1=\"70\" x2=\"77\" y1=\"99.3398\" y2=\"99.3398\"/></a><!--MD5=[2156ba9850f5573cc1fc38a6a4b2f02b]\n",
       "class E7--><a href=\"psysml:44ed1293-6fc3-4c15-bfe8-a6e98039e875\" target=\"_top\" title=\"psysml:44ed1293-6fc3-4c15-bfe8-a6e98039e875\" xlink:actuate=\"onRequest\" xlink:href=\"psysml:44ed1293-6fc3-4c15-bfe8-a6e98039e875\" xlink:show=\"new\" xlink:title=\"psysml:44ed1293-6fc3-4c15-bfe8-a6e98039e875\" xlink:type=\"simple\"><rect fill=\"#FFFFFF\" height=\"45.9375\" id=\"E7\" rx=\"10\" ry=\"10\" style=\"stroke: #383838; stroke-width: 1.5;\" width=\"42\" x=\"34\" y=\"204\"/><text fill=\"#000000\" font-family=\"sans-serif\" font-size=\"12\" font-style=\"italic\" lengthAdjust=\"spacingAndGlyphs\" textLength=\"40\" x=\"35\" y=\"220.1387\">«port»</text><text fill=\"#000000\" font-family=\"sans-serif\" font-size=\"12\" lengthAdjust=\"spacingAndGlyphs\" textLength=\"36\" x=\"37\" y=\"234.1074\">pdest</text><line style=\"stroke: #383838; stroke-width: 1.5;\" x1=\"35\" x2=\"75\" y1=\"241.9375\" y2=\"241.9375\"/></a><!--MD5=[4672eba38e49728da53d11aeb285b987]\n",
       "reverse link E3 to E4--><a href=\"psysml:baeef3bb-efbd-4f79-8bec-1b43bb5efd8f\" target=\"_top\" title=\"psysml:baeef3bb-efbd-4f79-8bec-1b43bb5efd8f\" xlink:actuate=\"onRequest\" xlink:href=\"psysml:baeef3bb-efbd-4f79-8bec-1b43bb5efd8f\" xlink:show=\"new\" xlink:title=\"psysml:baeef3bb-efbd-4f79-8bec-1b43bb5efd8f\" xlink:type=\"simple\"><path d=\"M151,280.29 C151,295.98 151,312.34 151,324.93 \" fill=\"none\" id=\"E3&lt;-E4\" style=\"stroke: #383838; stroke-width: 1.0; stroke-dasharray: 7.0,7.0;\"/><ellipse cx=\"151\" cy=\"273\" fill=\"#FFFFFF\" rx=\"8\" ry=\"8\" style=\"stroke: #383838; stroke-width: 1.0;\"/><line style=\"stroke: #383838; stroke-width: 1.0;\" x1=\"151\" x2=\"151\" y1=\"281\" y2=\"265\"/><line style=\"stroke: #383838; stroke-width: 1.0;\" x1=\"143\" x2=\"159\" y1=\"273\" y2=\"273\"/><text fill=\"#000000\" font-family=\"sans-serif\" font-size=\"13\" lengthAdjust=\"spacingAndGlyphs\" textLength=\"8\" x=\"141.925\" y=\"313.8075\">1</text></a><!--MD5=[e9be52314489bd878ff4c7144b63c9e1]\n",
       "link E5 to E3--><a href=\"psysml:3c7344fe-e5a7-4cb3-b89e-76f05a842583\" target=\"_top\" title=\"psysml:3c7344fe-e5a7-4cb3-b89e-76f05a842583\" xlink:actuate=\"onRequest\" xlink:href=\"psysml:3c7344fe-e5a7-4cb3-b89e-76f05a842583\" xlink:show=\"new\" xlink:title=\"psysml:3c7344fe-e5a7-4cb3-b89e-76f05a842583\" xlink:type=\"simple\"><path d=\"M156.53,129.15 C155.82,141.7 155.02,155.6 154.26,168.87 \" fill=\"none\" id=\"E5-&gt;E3\" style=\"stroke: #383838; stroke-width: 1.0;\"/><polygon fill=\"#FFFFFF\" points=\"153.12,188.9,147.2169,169.5311,161.1941,170.331,153.12,188.9\" style=\"stroke: #383838; stroke-width: 1.0;\"/><ellipse cx=\"149.5393\" cy=\"163.9547\" fill=\"#383838\" rx=\"2\" ry=\"2\" style=\"stroke: #383838; stroke-width: 1.0;\"/><ellipse cx=\"159.523\" cy=\"164.526\" fill=\"#383838\" rx=\"2\" ry=\"2\" style=\"stroke: #383838; stroke-width: 1.0;\"/></a><!--MD5=[a717450b82c80b9240a525fa862496af]\n",
       "link E6 to E3--><a href=\"psysml:e547b523-e8e9-4ecd-8c51-8b63037972c5\" target=\"_top\" title=\"psysml:e547b523-e8e9-4ecd-8c51-8b63037972c5\" xlink:actuate=\"onRequest\" xlink:href=\"psysml:e547b523-e8e9-4ecd-8c51-8b63037972c5\" xlink:show=\"new\" xlink:title=\"psysml:e547b523-e8e9-4ecd-8c51-8b63037972c5\" xlink:type=\"simple\"><path d=\"M78.24,119.89 C89.03,135.63 102.13,154.73 114.21,172.35 \" fill=\"none\" id=\"E6-&gt;E3\" style=\"stroke: #383838; stroke-width: 1.0;\"/><polygon fill=\"#FFFFFF\" points=\"125.62,188.98,109.1019,177.2689,120.6481,169.3515,125.62,188.98\" style=\"stroke: #383838; stroke-width: 1.0;\"/><ellipse cx=\"107.5278\" cy=\"171.4368\" fill=\"#383838\" rx=\"2\" ry=\"2\" style=\"stroke: #383838; stroke-width: 1.0;\"/><ellipse cx=\"115.7751\" cy=\"165.7816\" fill=\"#383838\" rx=\"2\" ry=\"2\" style=\"stroke: #383838; stroke-width: 1.0;\"/></a><!--MD5=[3f50a3473f1dfb74d3f76443e03635af]\n",
       "reverse link E6 to E7--><a href=\"psysml:7018d996-601d-4a38-842d-acb296e8ea77\" target=\"_top\" title=\"psysml:7018d996-601d-4a38-842d-acb296e8ea77\" xlink:actuate=\"onRequest\" xlink:href=\"psysml:7018d996-601d-4a38-842d-acb296e8ea77\" xlink:show=\"new\" xlink:title=\"psysml:7018d996-601d-4a38-842d-acb296e8ea77\" xlink:type=\"simple\"><path d=\"M55,138.32 C55,161.03 55,186.4 55,203.99 \" fill=\"none\" id=\"E6&lt;-E7\" style=\"stroke: #383838; stroke-width: 1.0; stroke-dasharray: 7.0,7.0;\"/><ellipse cx=\"55\" cy=\"131.15\" fill=\"#FFFFFF\" rx=\"8\" ry=\"8\" style=\"stroke: #383838; stroke-width: 1.0;\"/><line style=\"stroke: #383838; stroke-width: 1.0;\" x1=\"55\" x2=\"55\" y1=\"139.15\" y2=\"123.15\"/><line style=\"stroke: #383838; stroke-width: 1.0;\" x1=\"47\" x2=\"63\" y1=\"131.15\" y2=\"131.15\"/><text fill=\"#000000\" font-family=\"sans-serif\" font-size=\"13\" lengthAdjust=\"spacingAndGlyphs\" textLength=\"8\" x=\"45.925\" y=\"192.8836\">1</text></a><!--MD5=[d4149bcc4dd8a46afdaf7b641747caad]\n",
       "@startuml\r\n",
       " skinparam monochrome true\r\n",
       "skinparam classbackgroundcolor white\r\n",
       "skinparam shadowing false\r\n",
       "skinparam wrapWidth 300\r\n",
       "hide circle\r\n",
       "\r\n",
       "package \"AliasTest\" as E1  [[psysml:c9a65f38-ba0f-435c-ac18-78f76b0c8149 ]]  {\r\n",
       "comp usage \"q\" as E2  <<(T,blue) attribute>> [[psysml:252bcdae-bf35-4751-96e5-d2689f20556e ]] {\r\n",
       "}\r\n",
       "comp def \"P1\" as E3  <<(T,blue) part def>> [[psysml:6d109465-d99f-46f9-9a55-615eadc52ec3 ]] {\r\n",
       "- - ports - -\r\n",
       "porig1\r\n",
       "}\r\n",
       "comp usage \"porig1\" as E4  <<(T,blue) port>> [[psysml:07c215ea-3a50-4500-a498-5909961b01ab ]] {\r\n",
       "}\r\n",
       "comp usage \"p1: P1\" as E5  <<(T,blue) part>> [[psysml:4b72c15b-2565-4f84-9632-f618b5b9807b ]] {\r\n",
       "- - ports - -\r\n",
       "^po1\\n//:>>P1::porig1// \r\n",
       "}\r\n",
       "comp usage \"p2: P1\" as E6  <<(T,blue) part>> [[psysml:a2155965-1e3e-41f3-b3b0-5a1ed18f6b31 ]] {\r\n",
       "- - ports - -\r\n",
       "pdest\r\n",
       "}\r\n",
       "comp usage \"pdest\" as E7  <<(T,blue) port>> [[psysml:44ed1293-6fc3-4c15-bfe8-a6e98039e875 ]] {\r\n",
       "}\r\n",
       "}\r\n",
       "E3 +.. \"1\"E4 [[psysml:baeef3bb-efbd-4f79-8bec-1b43bb5efd8f ]] \r\n",
       "E5 - -:|> E3 [[psysml:3c7344fe-e5a7-4cb3-b89e-76f05a842583 ]] \r\n",
       "E6 - -:|> E3 [[psysml:e547b523-e8e9-4ecd-8c51-8b63037972c5 ]] \r\n",
       "E6 +.. \"1\"E7 [[psysml:7018d996-601d-4a38-842d-acb296e8ea77 ]] \r\n",
       "@enduml\r\n",
       "\n",
       "PlantUML version 1.2020.13(Sat Jun 13 12:26:38 UTC 2020)\n",
       "(EPL source distribution)\n",
       "Java Runtime: OpenJDK Runtime Environment\n",
       "JVM: OpenJDK 64-Bit Server VM\n",
       "Default Encoding: UTF-8\n",
       "Language: en\n",
       "Country: null\n",
       "--></g></svg>"
      ]
     },
     "execution_count": 8,
     "metadata": {},
     "output_type": "execute_result"
    }
   ],
   "source": [
    "%viz --style=\"COMPTREE\" --view=\"MIXED\" \"AliasTest\""
   ]
  },
  {
   "cell_type": "code",
   "execution_count": 9,
   "id": "e7bdab35",
   "metadata": {
    "execution": {
     "iopub.execute_input": "2021-10-03T08:30:10.058605Z",
     "iopub.status.busy": "2021-10-03T08:30:10.058135Z",
     "iopub.status.idle": "2021-10-03T08:30:10.105600Z",
     "shell.execute_reply": "2021-10-03T08:30:10.105229Z"
    }
   },
   "outputs": [
    {
     "data": {
      "image/svg+xml": [
       "<?xml version=\"1.0\" encoding=\"UTF-8\" standalone=\"no\"?><svg xmlns=\"http://www.w3.org/2000/svg\" xmlns:xlink=\"http://www.w3.org/1999/xlink\" contentScriptType=\"application/ecmascript\" contentStyleType=\"text/css\" height=\"327px\" preserveAspectRatio=\"none\" style=\"width:304px;height:327px;\" version=\"1.1\" viewBox=\"0 0 304 327\" width=\"304px\" zoomAndPan=\"magnify\"><defs/><g><!--MD5=[fbc87193dbaf4d95561dea2c320d4a47]\n",
       "cluster E1--><a href=\"psysml:c9a65f38-ba0f-435c-ac18-78f76b0c8149\" target=\"_top\" title=\"psysml:c9a65f38-ba0f-435c-ac18-78f76b0c8149\" xlink:actuate=\"onRequest\" xlink:href=\"psysml:c9a65f38-ba0f-435c-ac18-78f76b0c8149\" xlink:show=\"new\" xlink:title=\"psysml:c9a65f38-ba0f-435c-ac18-78f76b0c8149\" xlink:type=\"simple\"><polygon fill=\"#FFFFFF\" points=\"16,6,84,6,91,28.2969,282,28.2969,282,315,16,315,16,6\" style=\"stroke: #000000; stroke-width: 1.5;\"/><line style=\"stroke: #000000; stroke-width: 1.5;\" x1=\"16\" x2=\"91\" y1=\"28.2969\" y2=\"28.2969\"/><text fill=\"#000000\" font-family=\"sans-serif\" font-size=\"14\" font-weight=\"bold\" lengthAdjust=\"spacingAndGlyphs\" textLength=\"62\" x=\"20\" y=\"20.9951\">AliasTest</text></a><!--MD5=[b4997ac47864f28c2f74865a473b2911]\n",
       "class E2--><a href=\"psysml:252bcdae-bf35-4751-96e5-d2689f20556e\" target=\"_top\" title=\"psysml:252bcdae-bf35-4751-96e5-d2689f20556e\" xlink:actuate=\"onRequest\" xlink:href=\"psysml:252bcdae-bf35-4751-96e5-d2689f20556e\" xlink:show=\"new\" xlink:title=\"psysml:252bcdae-bf35-4751-96e5-d2689f20556e\" xlink:type=\"simple\"><rect fill=\"#FFFFFF\" height=\"45.9375\" id=\"E2\" rx=\"10\" ry=\"10\" style=\"stroke: #383838; stroke-width: 1.5;\" width=\"71\" x=\"194.5\" y=\"41\"/><text fill=\"#000000\" font-family=\"sans-serif\" font-size=\"12\" font-style=\"italic\" lengthAdjust=\"spacingAndGlyphs\" textLength=\"69\" x=\"195.5\" y=\"57.1387\">«attribute»</text><text fill=\"#000000\" font-family=\"sans-serif\" font-size=\"12\" lengthAdjust=\"spacingAndGlyphs\" textLength=\"8\" x=\"226\" y=\"71.1074\">q</text><line style=\"stroke: #383838; stroke-width: 1.5;\" x1=\"195.5\" x2=\"264.5\" y1=\"78.9375\" y2=\"78.9375\"/></a><!--MD5=[09b614a08d8cba4a07c9adeb5e0fee81]\n",
       "class E3--><a href=\"psysml:6d109465-d99f-46f9-9a55-615eadc52ec3\" target=\"_top\" title=\"psysml:6d109465-d99f-46f9-9a55-615eadc52ec3\" xlink:actuate=\"onRequest\" xlink:href=\"psysml:6d109465-d99f-46f9-9a55-615eadc52ec3\" xlink:show=\"new\" xlink:title=\"psysml:6d109465-d99f-46f9-9a55-615eadc52ec3\" xlink:type=\"simple\"><rect fill=\"#FFFFFF\" height=\"45.9375\" id=\"E3\" style=\"stroke: #383838; stroke-width: 1.5;\" width=\"66\" x=\"168\" y=\"147\"/><text fill=\"#000000\" font-family=\"sans-serif\" font-size=\"12\" font-style=\"italic\" lengthAdjust=\"spacingAndGlyphs\" textLength=\"64\" x=\"169\" y=\"163.1387\">«part def»</text><text fill=\"#000000\" font-family=\"sans-serif\" font-size=\"12\" lengthAdjust=\"spacingAndGlyphs\" textLength=\"16\" x=\"193\" y=\"177.1074\">P1</text><line style=\"stroke: #383838; stroke-width: 1.5;\" x1=\"169\" x2=\"233\" y1=\"184.9375\" y2=\"184.9375\"/></a><!--MD5=[ebbe1d658d1005bcc118a6aa81145e00]\n",
       "class E4--><a href=\"psysml:07c215ea-3a50-4500-a498-5909961b01ab\" target=\"_top\" title=\"psysml:07c215ea-3a50-4500-a498-5909961b01ab\" xlink:actuate=\"onRequest\" xlink:href=\"psysml:07c215ea-3a50-4500-a498-5909961b01ab\" xlink:show=\"new\" xlink:title=\"psysml:07c215ea-3a50-4500-a498-5909961b01ab\" xlink:type=\"simple\"><rect fill=\"#FFFFFF\" height=\"45.9375\" id=\"E4\" rx=\"10\" ry=\"10\" style=\"stroke: #383838; stroke-width: 1.5;\" width=\"46\" x=\"178\" y=\"253\"/><text fill=\"#000000\" font-family=\"sans-serif\" font-size=\"12\" font-style=\"italic\" lengthAdjust=\"spacingAndGlyphs\" textLength=\"40\" x=\"181\" y=\"269.1387\">«port»</text><text fill=\"#000000\" font-family=\"sans-serif\" font-size=\"12\" lengthAdjust=\"spacingAndGlyphs\" textLength=\"40\" x=\"181\" y=\"283.1074\">porig1</text><line style=\"stroke: #383838; stroke-width: 1.5;\" x1=\"179\" x2=\"223\" y1=\"290.9375\" y2=\"290.9375\"/></a><!--MD5=[270fce915f116d4de14055a7c1d9a0f3]\n",
       "class E5--><a href=\"psysml:4b72c15b-2565-4f84-9632-f618b5b9807b\" target=\"_top\" title=\"psysml:4b72c15b-2565-4f84-9632-f618b5b9807b\" xlink:actuate=\"onRequest\" xlink:href=\"psysml:4b72c15b-2565-4f84-9632-f618b5b9807b\" xlink:show=\"new\" xlink:title=\"psysml:4b72c15b-2565-4f84-9632-f618b5b9807b\" xlink:type=\"simple\"><rect fill=\"#FFFFFF\" height=\"45.9375\" id=\"E5\" rx=\"10\" ry=\"10\" style=\"stroke: #383838; stroke-width: 1.5;\" width=\"46\" x=\"113\" y=\"41\"/><text fill=\"#000000\" font-family=\"sans-serif\" font-size=\"12\" font-style=\"italic\" lengthAdjust=\"spacingAndGlyphs\" textLength=\"40\" x=\"116\" y=\"57.1387\">«part»</text><text fill=\"#000000\" font-family=\"sans-serif\" font-size=\"12\" lengthAdjust=\"spacingAndGlyphs\" textLength=\"40\" x=\"116\" y=\"71.1074\">p1: P1</text><line style=\"stroke: #383838; stroke-width: 1.5;\" x1=\"114\" x2=\"158\" y1=\"78.9375\" y2=\"78.9375\"/></a><!--MD5=[60a26617385b1d2d0262a64233df1f8d]\n",
       "class E6--><a href=\"psysml:653cf2de-fd63-4b48-a4f2-812bd043bef4\" target=\"_top\" title=\"psysml:653cf2de-fd63-4b48-a4f2-812bd043bef4\" xlink:actuate=\"onRequest\" xlink:href=\"psysml:653cf2de-fd63-4b48-a4f2-812bd043bef4\" xlink:show=\"new\" xlink:title=\"psysml:653cf2de-fd63-4b48-a4f2-812bd043bef4\" xlink:type=\"simple\"><rect fill=\"#FFFFFF\" height=\"45.9375\" id=\"E6\" rx=\"10\" ry=\"10\" style=\"stroke: #383838; stroke-width: 1.5;\" width=\"42\" x=\"91\" y=\"147\"/><text fill=\"#000000\" font-family=\"sans-serif\" font-size=\"12\" font-style=\"italic\" lengthAdjust=\"spacingAndGlyphs\" textLength=\"40\" x=\"92\" y=\"163.1387\">«port»</text><text fill=\"#000000\" font-family=\"sans-serif\" font-size=\"12\" lengthAdjust=\"spacingAndGlyphs\" textLength=\"24\" x=\"100\" y=\"177.1074\">po1</text><line style=\"stroke: #383838; stroke-width: 1.5;\" x1=\"92\" x2=\"132\" y1=\"184.9375\" y2=\"184.9375\"/></a><!--MD5=[2156ba9850f5573cc1fc38a6a4b2f02b]\n",
       "class E7--><a href=\"psysml:a2155965-1e3e-41f3-b3b0-5a1ed18f6b31\" target=\"_top\" title=\"psysml:a2155965-1e3e-41f3-b3b0-5a1ed18f6b31\" xlink:actuate=\"onRequest\" xlink:href=\"psysml:a2155965-1e3e-41f3-b3b0-5a1ed18f6b31\" xlink:show=\"new\" xlink:title=\"psysml:a2155965-1e3e-41f3-b3b0-5a1ed18f6b31\" xlink:type=\"simple\"><rect fill=\"#FFFFFF\" height=\"45.9375\" id=\"E7\" rx=\"10\" ry=\"10\" style=\"stroke: #383838; stroke-width: 1.5;\" width=\"46\" x=\"32\" y=\"41\"/><text fill=\"#000000\" font-family=\"sans-serif\" font-size=\"12\" font-style=\"italic\" lengthAdjust=\"spacingAndGlyphs\" textLength=\"40\" x=\"35\" y=\"57.1387\">«part»</text><text fill=\"#000000\" font-family=\"sans-serif\" font-size=\"12\" lengthAdjust=\"spacingAndGlyphs\" textLength=\"40\" x=\"35\" y=\"71.1074\">p2: P1</text><line style=\"stroke: #383838; stroke-width: 1.5;\" x1=\"33\" x2=\"77\" y1=\"78.9375\" y2=\"78.9375\"/></a><!--MD5=[b9389687b975829384b498ac4b7476b2]\n",
       "class E8--><a href=\"psysml:44ed1293-6fc3-4c15-bfe8-a6e98039e875\" target=\"_top\" title=\"psysml:44ed1293-6fc3-4c15-bfe8-a6e98039e875\" xlink:actuate=\"onRequest\" xlink:href=\"psysml:44ed1293-6fc3-4c15-bfe8-a6e98039e875\" xlink:show=\"new\" xlink:title=\"psysml:44ed1293-6fc3-4c15-bfe8-a6e98039e875\" xlink:type=\"simple\"><rect fill=\"#FFFFFF\" height=\"45.9375\" id=\"E8\" rx=\"10\" ry=\"10\" style=\"stroke: #383838; stroke-width: 1.5;\" width=\"42\" x=\"63\" y=\"253\"/><text fill=\"#000000\" font-family=\"sans-serif\" font-size=\"12\" font-style=\"italic\" lengthAdjust=\"spacingAndGlyphs\" textLength=\"40\" x=\"64\" y=\"269.1387\">«port»</text><text fill=\"#000000\" font-family=\"sans-serif\" font-size=\"12\" lengthAdjust=\"spacingAndGlyphs\" textLength=\"36\" x=\"66\" y=\"283.1074\">pdest</text><line style=\"stroke: #383838; stroke-width: 1.5;\" x1=\"64\" x2=\"104\" y1=\"290.9375\" y2=\"290.9375\"/></a><!--MD5=[4672eba38e49728da53d11aeb285b987]\n",
       "reverse link E3 to E4--><a href=\"psysml:c0c56757-3d44-421f-b231-ed3c3f6cca2a\" target=\"_top\" title=\"psysml:c0c56757-3d44-421f-b231-ed3c3f6cca2a\" xlink:actuate=\"onRequest\" xlink:href=\"psysml:c0c56757-3d44-421f-b231-ed3c3f6cca2a\" xlink:show=\"new\" xlink:title=\"psysml:c0c56757-3d44-421f-b231-ed3c3f6cca2a\" xlink:type=\"simple\"><path d=\"M188.84,206.44 C187.7,221.87 188.21,239.47 190.36,252.98 \" fill=\"none\" id=\"E3&lt;-E4\" style=\"stroke: #383838; stroke-width: 1.0;\"/><polygon fill=\"#FFFFFF\" points=\"190.35,193.06,185.7032,198.5743,189.006,204.9845,193.6528,199.4702,190.35,193.06\" style=\"stroke: #383838; stroke-width: 1.0;\"/><text fill=\"#000000\" font-family=\"sans-serif\" font-size=\"13\" lengthAdjust=\"spacingAndGlyphs\" textLength=\"8\" x=\"178.4255\" y=\"241.8709\">1</text></a><!--MD5=[4672eba38e49728da53d11aeb285b987]\n",
       "reverse link E3 to E4--><a href=\"psysml:baeef3bb-efbd-4f79-8bec-1b43bb5efd8f\" target=\"_top\" title=\"psysml:baeef3bb-efbd-4f79-8bec-1b43bb5efd8f\" xlink:actuate=\"onRequest\" xlink:href=\"psysml:baeef3bb-efbd-4f79-8bec-1b43bb5efd8f\" xlink:show=\"new\" xlink:title=\"psysml:baeef3bb-efbd-4f79-8bec-1b43bb5efd8f\" xlink:type=\"simple\"><path d=\"M214.01,208.34 C215.03,223.3 214.45,240.02 212.27,252.98 \" fill=\"none\" id=\"E3&lt;-E4-1\" style=\"stroke: #383838; stroke-width: 1.0; stroke-dasharray: 7.0,7.0;\"/><ellipse cx=\"213.1693\" cy=\"201.0093\" fill=\"#FFFFFF\" rx=\"8\" ry=\"8\" style=\"stroke: #383838; stroke-width: 1.0;\"/><line style=\"stroke: #383838; stroke-width: 1.0;\" x1=\"214.0687\" x2=\"212.27\" y1=\"208.9586\" y2=\"193.06\"/><line style=\"stroke: #383838; stroke-width: 1.0;\" x1=\"205.2201\" x2=\"221.1186\" y1=\"201.9086\" y2=\"200.1099\"/><text fill=\"#000000\" font-family=\"sans-serif\" font-size=\"13\" lengthAdjust=\"spacingAndGlyphs\" textLength=\"8\" x=\"206.2238\" y=\"241.8709\">1</text></a><!--MD5=[e9be52314489bd878ff4c7144b63c9e1]\n",
       "link E5 to E3--><a href=\"psysml:3c7344fe-e5a7-4cb3-b89e-76f05a842583\" target=\"_top\" title=\"psysml:3c7344fe-e5a7-4cb3-b89e-76f05a842583\" xlink:actuate=\"onRequest\" xlink:href=\"psysml:3c7344fe-e5a7-4cb3-b89e-76f05a842583\" xlink:show=\"new\" xlink:title=\"psysml:3c7344fe-e5a7-4cb3-b89e-76f05a842583\" xlink:type=\"simple\"><path d=\"M149.78,87.06 C157.54,99.47 167.45,115.33 176.49,129.78 \" fill=\"none\" id=\"E5-&gt;E3\" style=\"stroke: #383838; stroke-width: 1.0;\"/><polygon fill=\"#FFFFFF\" points=\"187.24,146.98,171.2331,134.5792,183.1045,127.1584,187.24,146.98\" style=\"stroke: #383838; stroke-width: 1.0;\"/><ellipse cx=\"169.9076\" cy=\"128.6857\" fill=\"#383838\" rx=\"2\" ry=\"2\" style=\"stroke: #383838; stroke-width: 1.0;\"/><ellipse cx=\"178.3872\" cy=\"123.3851\" fill=\"#383838\" rx=\"2\" ry=\"2\" style=\"stroke: #383838; stroke-width: 1.0;\"/></a><!--MD5=[85d356282659285ab4b2cfe2f634dd2b]\n",
       "reverse link E5 to E6--><a href=\"psysml:5ab2eb8f-0a8a-4f0f-b519-13b72bd8ef83\" target=\"_top\" title=\"psysml:5ab2eb8f-0a8a-4f0f-b519-13b72bd8ef83\" xlink:actuate=\"onRequest\" xlink:href=\"psysml:5ab2eb8f-0a8a-4f0f-b519-13b72bd8ef83\" xlink:show=\"new\" xlink:title=\"psysml:5ab2eb8f-0a8a-4f0f-b519-13b72bd8ef83\" xlink:type=\"simple\"><path d=\"M127.93,99.96 C124.34,115.51 120.23,133.33 117.08,146.98 \" fill=\"none\" id=\"E5&lt;-E6\" style=\"stroke: #383838; stroke-width: 1.0;\"/><polygon fill=\"#FFFFFF\" points=\"130.91,87.06,125.6616,92.0052,128.2078,98.7518,133.4562,93.8066,130.91,87.06\" style=\"stroke: #383838; stroke-width: 1.0;\"/><text fill=\"#000000\" font-family=\"sans-serif\" font-size=\"13\" lengthAdjust=\"spacingAndGlyphs\" textLength=\"8\" x=\"109.3703\" y=\"135.8709\">1</text></a><!--MD5=[f667431f98296947986a1a7595a31603]\n",
       "link E6 to E4--><a href=\"psysml:36152a88-3fda-40f3-9b03-bfa5e7f7b410\" target=\"_top\" title=\"psysml:36152a88-3fda-40f3-9b03-bfa5e7f7b410\" xlink:actuate=\"onRequest\" xlink:href=\"psysml:36152a88-3fda-40f3-9b03-bfa5e7f7b410\" xlink:show=\"new\" xlink:title=\"psysml:36152a88-3fda-40f3-9b03-bfa5e7f7b410\" xlink:type=\"simple\"><path d=\"M130.87,193.06 C141.97,206.02 156.28,222.74 169.08,237.7 \" fill=\"none\" id=\"E6-&gt;E4\" style=\"stroke: #383838; stroke-width: 1.0;\"/><polygon fill=\"#FFFFFF\" points=\"182.15,252.98,164.4809,243.0905,175.1204,233.9909,182.15,252.98\" style=\"stroke: #383838; stroke-width: 1.0;\"/><line style=\"stroke: #383838; stroke-width: 2.0;\" x1=\"162.011\" x2=\"172.6505\" y1=\"240.2026\" y2=\"231.1031\"/></a><!--MD5=[14ccda38c055a5c0da953d572bc50960]\n",
       "link E7 to E3--><a href=\"psysml:e547b523-e8e9-4ecd-8c51-8b63037972c5\" target=\"_top\" title=\"psysml:e547b523-e8e9-4ecd-8c51-8b63037972c5\" xlink:actuate=\"onRequest\" xlink:href=\"psysml:e547b523-e8e9-4ecd-8c51-8b63037972c5\" xlink:show=\"new\" xlink:title=\"psysml:e547b523-e8e9-4ecd-8c51-8b63037972c5\" xlink:type=\"simple\"><path d=\"M78.13,81.48 C98.32,95.86 128.25,117.18 153.52,135.18 \" fill=\"none\" id=\"E7-&gt;E3\" style=\"stroke: #383838; stroke-width: 1.0;\"/><polygon fill=\"#FFFFFF\" points=\"170.09,146.98,150.5533,141.6586,158.6755,130.2555,170.09,146.98\" style=\"stroke: #383838; stroke-width: 1.0;\"/><ellipse cx=\"147.0709\" cy=\"136.7227\" fill=\"#383838\" rx=\"2\" ry=\"2\" style=\"stroke: #383838; stroke-width: 1.0;\"/><ellipse cx=\"152.8725\" cy=\"128.5776\" fill=\"#383838\" rx=\"2\" ry=\"2\" style=\"stroke: #383838; stroke-width: 1.0;\"/></a><!--MD5=[dc164f5e8a733ab456ef1add180e9e34]\n",
       "reverse link E7 to E8--><a href=\"psysml:b237ade3-489d-4fd0-9379-0b86f0889901\" target=\"_top\" title=\"psysml:b237ade3-489d-4fd0-9379-0b86f0889901\" xlink:actuate=\"onRequest\" xlink:href=\"psysml:b237ade3-489d-4fd0-9379-0b86f0889901\" xlink:show=\"new\" xlink:title=\"psysml:b237ade3-489d-4fd0-9379-0b86f0889901\" xlink:type=\"simple\"><path d=\"M50.05,100.09 C51.65,143.61 62.25,216.5 72.75,252.9 \" fill=\"none\" id=\"E7&lt;-E8\" style=\"stroke: #383838; stroke-width: 1.0;\"/><polygon fill=\"#FFFFFF\" points=\"49.85,87.08,45.9362,93.1366,50.0216,99.0788,53.9354,93.0222,49.85,87.08\" style=\"stroke: #383838; stroke-width: 1.0;\"/><text fill=\"#000000\" font-family=\"sans-serif\" font-size=\"13\" lengthAdjust=\"spacingAndGlyphs\" textLength=\"8\" x=\"60.6516\" y=\"241.7694\">1</text></a><!--MD5=[dc164f5e8a733ab456ef1add180e9e34]\n",
       "reverse link E7 to E8--><a href=\"psysml:7018d996-601d-4a38-842d-acb296e8ea77\" target=\"_top\" title=\"psysml:7018d996-601d-4a38-842d-acb296e8ea77\" xlink:actuate=\"onRequest\" xlink:href=\"psysml:7018d996-601d-4a38-842d-acb296e8ea77\" xlink:show=\"new\" xlink:title=\"psysml:7018d996-601d-4a38-842d-acb296e8ea77\" xlink:type=\"simple\"><path d=\"M70.64,101.8 C81.15,145.5 90.39,216.97 89.63,252.9 \" fill=\"none\" id=\"E7&lt;-E8-1\" style=\"stroke: #383838; stroke-width: 1.0; stroke-dasharray: 7.0,7.0;\"/><ellipse cx=\"68.7794\" cy=\"94.813\" fill=\"#FFFFFF\" rx=\"8\" ry=\"8\" style=\"stroke: #383838; stroke-width: 1.0;\"/><line style=\"stroke: #383838; stroke-width: 1.0;\" x1=\"70.8289\" x2=\"66.73\" y1=\"102.5461\" y2=\"87.08\"/><line style=\"stroke: #383838; stroke-width: 1.0;\" x1=\"61.0464\" x2=\"76.5125\" y1=\"96.8625\" y2=\"92.7636\"/><text fill=\"#000000\" font-family=\"sans-serif\" font-size=\"13\" lengthAdjust=\"spacingAndGlyphs\" textLength=\"8\" x=\"92.2181\" y=\"241.7694\">1</text></a><!--MD5=[0a839d0f80c2d72d4b9b307f046d0de8]\n",
       "link E6 to E8--><a href=\"psysml:1ea7862a-7bab-4478-95a9-37aa2484c274\" target=\"_top\" title=\"psysml:1ea7862a-7bab-4478-95a9-37aa2484c274\" xlink:actuate=\"onRequest\" xlink:href=\"psysml:1ea7862a-7bab-4478-95a9-37aa2484c274\" xlink:show=\"new\" xlink:title=\"psysml:1ea7862a-7bab-4478-95a9-37aa2484c274\" xlink:type=\"simple\"><path d=\"M95.42,193.06 C87.86,210.7 81.23,235.34 79.29,252.98 \" fill=\"none\" id=\"E6-E8\" style=\"stroke: #383838; stroke-width: 3.0;\"/><text fill=\"#000000\" font-family=\"sans-serif\" font-size=\"13\" lengthAdjust=\"spacingAndGlyphs\" textLength=\"7\" x=\"78.9648\" y=\"241.8709\">*</text></a><!--MD5=[0a839d0f80c2d72d4b9b307f046d0de8]\n",
       "link E6 to E8--><a href=\"psysml:1e1521f0-84d2-4d6c-a787-5301105b41c5\" target=\"_top\" title=\"psysml:1e1521f0-84d2-4d6c-a787-5301105b41c5\" xlink:actuate=\"onRequest\" xlink:href=\"psysml:1e1521f0-84d2-4d6c-a787-5301105b41c5\" xlink:show=\"new\" xlink:title=\"psysml:1e1521f0-84d2-4d6c-a787-5301105b41c5\" xlink:type=\"simple\"><path d=\"M117.33,193.06 C115.55,210.7 108.92,235.34 101.2,252.98 \" fill=\"none\" id=\"E6-E8-1\" style=\"stroke: #383838; stroke-width: 3.0;\"/><text fill=\"#000000\" font-family=\"sans-serif\" font-size=\"13\" lengthAdjust=\"spacingAndGlyphs\" textLength=\"7\" x=\"97.8819\" y=\"241.8709\">*</text></a><!--MD5=[6dd6f89607e58daeb2e0e2deeba887de]\n",
       "@startuml\r\n",
       "skinparam linetype polyline\r\n",
       "skinparam monochrome true\r\n",
       "skinparam classbackgroundcolor white\r\n",
       "skinparam shadowing false\r\n",
       "skinparam wrapWidth 300\r\n",
       "hide circle\r\n",
       "\r\n",
       "package \"AliasTest\" as E1  [[psysml:c9a65f38-ba0f-435c-ac18-78f76b0c8149 ]]  {\r\n",
       "comp usage \"q\" as E2  <<(T,blue) attribute>> [[psysml:252bcdae-bf35-4751-96e5-d2689f20556e ]] {\r\n",
       "}\r\n",
       "comp def \"P1\" as E3  <<(T,blue) part def>> [[psysml:6d109465-d99f-46f9-9a55-615eadc52ec3 ]] {\r\n",
       "}\r\n",
       "comp usage \"porig1\" as E4  <<(T,blue) port>> [[psysml:07c215ea-3a50-4500-a498-5909961b01ab ]] {\r\n",
       "}\r\n",
       "comp usage \"p1: P1\" as E5  <<(T,blue) part>> [[psysml:4b72c15b-2565-4f84-9632-f618b5b9807b ]] {\r\n",
       "}\r\n",
       "comp usage \"po1\" as E6  <<(T,blue) port>> [[psysml:653cf2de-fd63-4b48-a4f2-812bd043bef4 ]] {\r\n",
       "}\r\n",
       "comp usage \"p2: P1\" as E7  <<(T,blue) part>> [[psysml:a2155965-1e3e-41f3-b3b0-5a1ed18f6b31 ]] {\r\n",
       "}\r\n",
       "comp usage \"pdest\" as E8  <<(T,blue) port>> [[psysml:44ed1293-6fc3-4c15-bfe8-a6e98039e875 ]] {\r\n",
       "}\r\n",
       "}\r\n",
       "E3 o- - \"1\"E4 [[psysml:c0c56757-3d44-421f-b231-ed3c3f6cca2a ]] \r\n",
       "E3 +.. \"1\"E4 [[psysml:baeef3bb-efbd-4f79-8bec-1b43bb5efd8f ]] \r\n",
       "E5 - -:|> E3 [[psysml:3c7344fe-e5a7-4cb3-b89e-76f05a842583 ]] \r\n",
       "E5 o- - \"1\"E6 [[psysml:5ab2eb8f-0a8a-4f0f-b519-13b72bd8ef83 ]] \r\n",
       "E6 - -||> E4 [[psysml:36152a88-3fda-40f3-9b03-bfa5e7f7b410 ]] \r\n",
       "E7 - -:|> E3 [[psysml:e547b523-e8e9-4ecd-8c51-8b63037972c5 ]] \r\n",
       "E7 o- - \"1\"E8 [[psysml:b237ade3-489d-4fd0-9379-0b86f0889901 ]] \r\n",
       "E7 +.. \"1\"E8 [[psysml:7018d996-601d-4a38-842d-acb296e8ea77 ]] \r\n",
       "E6 -[thickness=3]- \"*\"E8 [[psysml:1ea7862a-7bab-4478-95a9-37aa2484c274 ]] \r\n",
       "E6 -[thickness=3]- \"*\"E8 [[psysml:1e1521f0-84d2-4d6c-a787-5301105b41c5 ]] \r\n",
       "@enduml\r\n",
       "\n",
       "PlantUML version 1.2020.13(Sat Jun 13 12:26:38 UTC 2020)\n",
       "(EPL source distribution)\n",
       "Java Runtime: OpenJDK Runtime Environment\n",
       "JVM: OpenJDK 64-Bit Server VM\n",
       "Default Encoding: UTF-8\n",
       "Language: en\n",
       "Country: null\n",
       "--></g></svg>"
      ]
     },
     "execution_count": 9,
     "metadata": {},
     "output_type": "execute_result"
    }
   ],
   "source": [
    "%viz --style=\"POLYLINE\" --view=\"Default\" \"AliasTest\""
   ]
  },
  {
   "cell_type": "code",
   "execution_count": 10,
   "id": "b093ba80",
   "metadata": {
    "execution": {
     "iopub.execute_input": "2021-10-03T08:30:10.155084Z",
     "iopub.status.busy": "2021-10-03T08:30:10.154660Z",
     "iopub.status.idle": "2021-10-03T08:30:10.201067Z",
     "shell.execute_reply": "2021-10-03T08:30:10.199043Z"
    }
   },
   "outputs": [
    {
     "data": {
      "image/svg+xml": [
       "<?xml version=\"1.0\" encoding=\"UTF-8\" standalone=\"no\"?><svg xmlns=\"http://www.w3.org/2000/svg\" xmlns:xlink=\"http://www.w3.org/1999/xlink\" contentScriptType=\"application/ecmascript\" contentStyleType=\"text/css\" height=\"327px\" preserveAspectRatio=\"none\" style=\"width:304px;height:327px;\" version=\"1.1\" viewBox=\"0 0 304 327\" width=\"304px\" zoomAndPan=\"magnify\"><defs/><g><!--MD5=[fbc87193dbaf4d95561dea2c320d4a47]\n",
       "cluster E1--><a href=\"psysml:c9a65f38-ba0f-435c-ac18-78f76b0c8149\" target=\"_top\" title=\"psysml:c9a65f38-ba0f-435c-ac18-78f76b0c8149\" xlink:actuate=\"onRequest\" xlink:href=\"psysml:c9a65f38-ba0f-435c-ac18-78f76b0c8149\" xlink:show=\"new\" xlink:title=\"psysml:c9a65f38-ba0f-435c-ac18-78f76b0c8149\" xlink:type=\"simple\"><polygon fill=\"#FFFFFF\" points=\"16,6,84,6,91,28.2969,282,28.2969,282,315,16,315,16,6\" style=\"stroke: #000000; stroke-width: 1.5;\"/><line style=\"stroke: #000000; stroke-width: 1.5;\" x1=\"16\" x2=\"91\" y1=\"28.2969\" y2=\"28.2969\"/><text fill=\"#000000\" font-family=\"sans-serif\" font-size=\"14\" font-weight=\"bold\" lengthAdjust=\"spacingAndGlyphs\" textLength=\"62\" x=\"20\" y=\"20.9951\">AliasTest</text></a><!--MD5=[b4997ac47864f28c2f74865a473b2911]\n",
       "class E2--><a href=\"psysml:252bcdae-bf35-4751-96e5-d2689f20556e\" target=\"_top\" title=\"psysml:252bcdae-bf35-4751-96e5-d2689f20556e\" xlink:actuate=\"onRequest\" xlink:href=\"psysml:252bcdae-bf35-4751-96e5-d2689f20556e\" xlink:show=\"new\" xlink:title=\"psysml:252bcdae-bf35-4751-96e5-d2689f20556e\" xlink:type=\"simple\"><rect fill=\"#FFFFFF\" height=\"45.9375\" id=\"E2\" rx=\"10\" ry=\"10\" style=\"stroke: #383838; stroke-width: 1.5;\" width=\"71\" x=\"194.5\" y=\"41\"/><text fill=\"#000000\" font-family=\"sans-serif\" font-size=\"12\" font-style=\"italic\" lengthAdjust=\"spacingAndGlyphs\" textLength=\"69\" x=\"195.5\" y=\"57.1387\">«attribute»</text><text fill=\"#000000\" font-family=\"sans-serif\" font-size=\"12\" lengthAdjust=\"spacingAndGlyphs\" textLength=\"8\" x=\"226\" y=\"71.1074\">q</text><line style=\"stroke: #383838; stroke-width: 1.5;\" x1=\"195.5\" x2=\"264.5\" y1=\"78.9375\" y2=\"78.9375\"/></a><!--MD5=[09b614a08d8cba4a07c9adeb5e0fee81]\n",
       "class E3--><a href=\"psysml:6d109465-d99f-46f9-9a55-615eadc52ec3\" target=\"_top\" title=\"psysml:6d109465-d99f-46f9-9a55-615eadc52ec3\" xlink:actuate=\"onRequest\" xlink:href=\"psysml:6d109465-d99f-46f9-9a55-615eadc52ec3\" xlink:show=\"new\" xlink:title=\"psysml:6d109465-d99f-46f9-9a55-615eadc52ec3\" xlink:type=\"simple\"><rect fill=\"#FFFFFF\" height=\"45.9375\" id=\"E3\" style=\"stroke: #383838; stroke-width: 1.5;\" width=\"66\" x=\"168\" y=\"147\"/><text fill=\"#000000\" font-family=\"sans-serif\" font-size=\"12\" font-style=\"italic\" lengthAdjust=\"spacingAndGlyphs\" textLength=\"64\" x=\"169\" y=\"163.1387\">«part def»</text><text fill=\"#000000\" font-family=\"sans-serif\" font-size=\"12\" lengthAdjust=\"spacingAndGlyphs\" textLength=\"16\" x=\"193\" y=\"177.1074\">P1</text><line style=\"stroke: #383838; stroke-width: 1.5;\" x1=\"169\" x2=\"233\" y1=\"184.9375\" y2=\"184.9375\"/></a><!--MD5=[ebbe1d658d1005bcc118a6aa81145e00]\n",
       "class E4--><a href=\"psysml:07c215ea-3a50-4500-a498-5909961b01ab\" target=\"_top\" title=\"psysml:07c215ea-3a50-4500-a498-5909961b01ab\" xlink:actuate=\"onRequest\" xlink:href=\"psysml:07c215ea-3a50-4500-a498-5909961b01ab\" xlink:show=\"new\" xlink:title=\"psysml:07c215ea-3a50-4500-a498-5909961b01ab\" xlink:type=\"simple\"><rect fill=\"#FFFFFF\" height=\"45.9375\" id=\"E4\" rx=\"10\" ry=\"10\" style=\"stroke: #383838; stroke-width: 1.5;\" width=\"46\" x=\"178\" y=\"253\"/><text fill=\"#000000\" font-family=\"sans-serif\" font-size=\"12\" font-style=\"italic\" lengthAdjust=\"spacingAndGlyphs\" textLength=\"40\" x=\"181\" y=\"269.1387\">«port»</text><text fill=\"#000000\" font-family=\"sans-serif\" font-size=\"12\" lengthAdjust=\"spacingAndGlyphs\" textLength=\"40\" x=\"181\" y=\"283.1074\">porig1</text><line style=\"stroke: #383838; stroke-width: 1.5;\" x1=\"179\" x2=\"223\" y1=\"290.9375\" y2=\"290.9375\"/></a><!--MD5=[270fce915f116d4de14055a7c1d9a0f3]\n",
       "class E5--><a href=\"psysml:4b72c15b-2565-4f84-9632-f618b5b9807b\" target=\"_top\" title=\"psysml:4b72c15b-2565-4f84-9632-f618b5b9807b\" xlink:actuate=\"onRequest\" xlink:href=\"psysml:4b72c15b-2565-4f84-9632-f618b5b9807b\" xlink:show=\"new\" xlink:title=\"psysml:4b72c15b-2565-4f84-9632-f618b5b9807b\" xlink:type=\"simple\"><rect fill=\"#FFFFFF\" height=\"45.9375\" id=\"E5\" rx=\"10\" ry=\"10\" style=\"stroke: #383838; stroke-width: 1.5;\" width=\"46\" x=\"113\" y=\"41\"/><text fill=\"#000000\" font-family=\"sans-serif\" font-size=\"12\" font-style=\"italic\" lengthAdjust=\"spacingAndGlyphs\" textLength=\"40\" x=\"116\" y=\"57.1387\">«part»</text><text fill=\"#000000\" font-family=\"sans-serif\" font-size=\"12\" lengthAdjust=\"spacingAndGlyphs\" textLength=\"40\" x=\"116\" y=\"71.1074\">p1: P1</text><line style=\"stroke: #383838; stroke-width: 1.5;\" x1=\"114\" x2=\"158\" y1=\"78.9375\" y2=\"78.9375\"/></a><!--MD5=[60a26617385b1d2d0262a64233df1f8d]\n",
       "class E6--><a href=\"psysml:653cf2de-fd63-4b48-a4f2-812bd043bef4\" target=\"_top\" title=\"psysml:653cf2de-fd63-4b48-a4f2-812bd043bef4\" xlink:actuate=\"onRequest\" xlink:href=\"psysml:653cf2de-fd63-4b48-a4f2-812bd043bef4\" xlink:show=\"new\" xlink:title=\"psysml:653cf2de-fd63-4b48-a4f2-812bd043bef4\" xlink:type=\"simple\"><rect fill=\"#FFFFFF\" height=\"45.9375\" id=\"E6\" rx=\"10\" ry=\"10\" style=\"stroke: #383838; stroke-width: 1.5;\" width=\"42\" x=\"91\" y=\"147\"/><text fill=\"#000000\" font-family=\"sans-serif\" font-size=\"12\" font-style=\"italic\" lengthAdjust=\"spacingAndGlyphs\" textLength=\"40\" x=\"92\" y=\"163.1387\">«port»</text><text fill=\"#000000\" font-family=\"sans-serif\" font-size=\"12\" lengthAdjust=\"spacingAndGlyphs\" textLength=\"24\" x=\"100\" y=\"177.1074\">po1</text><line style=\"stroke: #383838; stroke-width: 1.5;\" x1=\"92\" x2=\"132\" y1=\"184.9375\" y2=\"184.9375\"/></a><!--MD5=[2156ba9850f5573cc1fc38a6a4b2f02b]\n",
       "class E7--><a href=\"psysml:a2155965-1e3e-41f3-b3b0-5a1ed18f6b31\" target=\"_top\" title=\"psysml:a2155965-1e3e-41f3-b3b0-5a1ed18f6b31\" xlink:actuate=\"onRequest\" xlink:href=\"psysml:a2155965-1e3e-41f3-b3b0-5a1ed18f6b31\" xlink:show=\"new\" xlink:title=\"psysml:a2155965-1e3e-41f3-b3b0-5a1ed18f6b31\" xlink:type=\"simple\"><rect fill=\"#FFFFFF\" height=\"45.9375\" id=\"E7\" rx=\"10\" ry=\"10\" style=\"stroke: #383838; stroke-width: 1.5;\" width=\"46\" x=\"32\" y=\"41\"/><text fill=\"#000000\" font-family=\"sans-serif\" font-size=\"12\" font-style=\"italic\" lengthAdjust=\"spacingAndGlyphs\" textLength=\"40\" x=\"35\" y=\"57.1387\">«part»</text><text fill=\"#000000\" font-family=\"sans-serif\" font-size=\"12\" lengthAdjust=\"spacingAndGlyphs\" textLength=\"40\" x=\"35\" y=\"71.1074\">p2: P1</text><line style=\"stroke: #383838; stroke-width: 1.5;\" x1=\"33\" x2=\"77\" y1=\"78.9375\" y2=\"78.9375\"/></a><!--MD5=[b9389687b975829384b498ac4b7476b2]\n",
       "class E8--><a href=\"psysml:44ed1293-6fc3-4c15-bfe8-a6e98039e875\" target=\"_top\" title=\"psysml:44ed1293-6fc3-4c15-bfe8-a6e98039e875\" xlink:actuate=\"onRequest\" xlink:href=\"psysml:44ed1293-6fc3-4c15-bfe8-a6e98039e875\" xlink:show=\"new\" xlink:title=\"psysml:44ed1293-6fc3-4c15-bfe8-a6e98039e875\" xlink:type=\"simple\"><rect fill=\"#FFFFFF\" height=\"45.9375\" id=\"E8\" rx=\"10\" ry=\"10\" style=\"stroke: #383838; stroke-width: 1.5;\" width=\"42\" x=\"63\" y=\"253\"/><text fill=\"#000000\" font-family=\"sans-serif\" font-size=\"12\" font-style=\"italic\" lengthAdjust=\"spacingAndGlyphs\" textLength=\"40\" x=\"64\" y=\"269.1387\">«port»</text><text fill=\"#000000\" font-family=\"sans-serif\" font-size=\"12\" lengthAdjust=\"spacingAndGlyphs\" textLength=\"36\" x=\"66\" y=\"283.1074\">pdest</text><line style=\"stroke: #383838; stroke-width: 1.5;\" x1=\"64\" x2=\"104\" y1=\"290.9375\" y2=\"290.9375\"/></a><!--MD5=[4672eba38e49728da53d11aeb285b987]\n",
       "reverse link E3 to E4--><a href=\"psysml:c0c56757-3d44-421f-b231-ed3c3f6cca2a\" target=\"_top\" title=\"psysml:c0c56757-3d44-421f-b231-ed3c3f6cca2a\" xlink:actuate=\"onRequest\" xlink:href=\"psysml:c0c56757-3d44-421f-b231-ed3c3f6cca2a\" xlink:show=\"new\" xlink:title=\"psysml:c0c56757-3d44-421f-b231-ed3c3f6cca2a\" xlink:type=\"simple\"><path d=\"M188.84,206.44 C187.7,221.87 188.21,239.47 190.36,252.98 \" fill=\"none\" id=\"E3&lt;-E4\" style=\"stroke: #383838; stroke-width: 1.0;\"/><polygon fill=\"#FFFFFF\" points=\"190.35,193.06,185.7032,198.5743,189.006,204.9845,193.6528,199.4702,190.35,193.06\" style=\"stroke: #383838; stroke-width: 1.0;\"/><text fill=\"#000000\" font-family=\"sans-serif\" font-size=\"13\" lengthAdjust=\"spacingAndGlyphs\" textLength=\"8\" x=\"178.4255\" y=\"241.8709\">1</text></a><!--MD5=[4672eba38e49728da53d11aeb285b987]\n",
       "reverse link E3 to E4--><a href=\"psysml:baeef3bb-efbd-4f79-8bec-1b43bb5efd8f\" target=\"_top\" title=\"psysml:baeef3bb-efbd-4f79-8bec-1b43bb5efd8f\" xlink:actuate=\"onRequest\" xlink:href=\"psysml:baeef3bb-efbd-4f79-8bec-1b43bb5efd8f\" xlink:show=\"new\" xlink:title=\"psysml:baeef3bb-efbd-4f79-8bec-1b43bb5efd8f\" xlink:type=\"simple\"><path d=\"M214.01,208.34 C215.03,223.3 214.45,240.02 212.27,252.98 \" fill=\"none\" id=\"E3&lt;-E4-1\" style=\"stroke: #383838; stroke-width: 1.0; stroke-dasharray: 7.0,7.0;\"/><ellipse cx=\"213.1693\" cy=\"201.0093\" fill=\"#FFFFFF\" rx=\"8\" ry=\"8\" style=\"stroke: #383838; stroke-width: 1.0;\"/><line style=\"stroke: #383838; stroke-width: 1.0;\" x1=\"214.0687\" x2=\"212.27\" y1=\"208.9586\" y2=\"193.06\"/><line style=\"stroke: #383838; stroke-width: 1.0;\" x1=\"205.2201\" x2=\"221.1186\" y1=\"201.9086\" y2=\"200.1099\"/><text fill=\"#000000\" font-family=\"sans-serif\" font-size=\"13\" lengthAdjust=\"spacingAndGlyphs\" textLength=\"8\" x=\"206.2238\" y=\"241.8709\">1</text></a><!--MD5=[e9be52314489bd878ff4c7144b63c9e1]\n",
       "link E5 to E3--><a href=\"psysml:3c7344fe-e5a7-4cb3-b89e-76f05a842583\" target=\"_top\" title=\"psysml:3c7344fe-e5a7-4cb3-b89e-76f05a842583\" xlink:actuate=\"onRequest\" xlink:href=\"psysml:3c7344fe-e5a7-4cb3-b89e-76f05a842583\" xlink:show=\"new\" xlink:title=\"psysml:3c7344fe-e5a7-4cb3-b89e-76f05a842583\" xlink:type=\"simple\"><path d=\"M149.78,87.06 C157.54,99.47 167.45,115.33 176.49,129.78 \" fill=\"none\" id=\"E5-&gt;E3\" style=\"stroke: #383838; stroke-width: 1.0;\"/><polygon fill=\"#FFFFFF\" points=\"187.24,146.98,171.2331,134.5792,183.1045,127.1584,187.24,146.98\" style=\"stroke: #383838; stroke-width: 1.0;\"/><ellipse cx=\"169.9076\" cy=\"128.6857\" fill=\"#383838\" rx=\"2\" ry=\"2\" style=\"stroke: #383838; stroke-width: 1.0;\"/><ellipse cx=\"178.3872\" cy=\"123.3851\" fill=\"#383838\" rx=\"2\" ry=\"2\" style=\"stroke: #383838; stroke-width: 1.0;\"/></a><!--MD5=[85d356282659285ab4b2cfe2f634dd2b]\n",
       "reverse link E5 to E6--><a href=\"psysml:5ab2eb8f-0a8a-4f0f-b519-13b72bd8ef83\" target=\"_top\" title=\"psysml:5ab2eb8f-0a8a-4f0f-b519-13b72bd8ef83\" xlink:actuate=\"onRequest\" xlink:href=\"psysml:5ab2eb8f-0a8a-4f0f-b519-13b72bd8ef83\" xlink:show=\"new\" xlink:title=\"psysml:5ab2eb8f-0a8a-4f0f-b519-13b72bd8ef83\" xlink:type=\"simple\"><path d=\"M127.93,99.96 C124.34,115.51 120.23,133.33 117.08,146.98 \" fill=\"none\" id=\"E5&lt;-E6\" style=\"stroke: #383838; stroke-width: 1.0;\"/><polygon fill=\"#FFFFFF\" points=\"130.91,87.06,125.6616,92.0052,128.2078,98.7518,133.4562,93.8066,130.91,87.06\" style=\"stroke: #383838; stroke-width: 1.0;\"/><text fill=\"#000000\" font-family=\"sans-serif\" font-size=\"13\" lengthAdjust=\"spacingAndGlyphs\" textLength=\"8\" x=\"109.3703\" y=\"135.8709\">1</text></a><!--MD5=[f667431f98296947986a1a7595a31603]\n",
       "link E6 to E4--><a href=\"psysml:36152a88-3fda-40f3-9b03-bfa5e7f7b410\" target=\"_top\" title=\"psysml:36152a88-3fda-40f3-9b03-bfa5e7f7b410\" xlink:actuate=\"onRequest\" xlink:href=\"psysml:36152a88-3fda-40f3-9b03-bfa5e7f7b410\" xlink:show=\"new\" xlink:title=\"psysml:36152a88-3fda-40f3-9b03-bfa5e7f7b410\" xlink:type=\"simple\"><path d=\"M130.87,193.06 C141.97,206.02 156.28,222.74 169.08,237.7 \" fill=\"none\" id=\"E6-&gt;E4\" style=\"stroke: #383838; stroke-width: 1.0;\"/><polygon fill=\"#FFFFFF\" points=\"182.15,252.98,164.4809,243.0905,175.1204,233.9909,182.15,252.98\" style=\"stroke: #383838; stroke-width: 1.0;\"/><line style=\"stroke: #383838; stroke-width: 2.0;\" x1=\"162.011\" x2=\"172.6505\" y1=\"240.2026\" y2=\"231.1031\"/></a><!--MD5=[14ccda38c055a5c0da953d572bc50960]\n",
       "link E7 to E3--><a href=\"psysml:e547b523-e8e9-4ecd-8c51-8b63037972c5\" target=\"_top\" title=\"psysml:e547b523-e8e9-4ecd-8c51-8b63037972c5\" xlink:actuate=\"onRequest\" xlink:href=\"psysml:e547b523-e8e9-4ecd-8c51-8b63037972c5\" xlink:show=\"new\" xlink:title=\"psysml:e547b523-e8e9-4ecd-8c51-8b63037972c5\" xlink:type=\"simple\"><path d=\"M78.13,81.48 C98.32,95.86 128.25,117.18 153.52,135.18 \" fill=\"none\" id=\"E7-&gt;E3\" style=\"stroke: #383838; stroke-width: 1.0;\"/><polygon fill=\"#FFFFFF\" points=\"170.09,146.98,150.5533,141.6586,158.6755,130.2555,170.09,146.98\" style=\"stroke: #383838; stroke-width: 1.0;\"/><ellipse cx=\"147.0709\" cy=\"136.7227\" fill=\"#383838\" rx=\"2\" ry=\"2\" style=\"stroke: #383838; stroke-width: 1.0;\"/><ellipse cx=\"152.8725\" cy=\"128.5776\" fill=\"#383838\" rx=\"2\" ry=\"2\" style=\"stroke: #383838; stroke-width: 1.0;\"/></a><!--MD5=[dc164f5e8a733ab456ef1add180e9e34]\n",
       "reverse link E7 to E8--><a href=\"psysml:b237ade3-489d-4fd0-9379-0b86f0889901\" target=\"_top\" title=\"psysml:b237ade3-489d-4fd0-9379-0b86f0889901\" xlink:actuate=\"onRequest\" xlink:href=\"psysml:b237ade3-489d-4fd0-9379-0b86f0889901\" xlink:show=\"new\" xlink:title=\"psysml:b237ade3-489d-4fd0-9379-0b86f0889901\" xlink:type=\"simple\"><path d=\"M50.05,100.09 C51.65,143.61 62.25,216.5 72.75,252.9 \" fill=\"none\" id=\"E7&lt;-E8\" style=\"stroke: #383838; stroke-width: 1.0;\"/><polygon fill=\"#FFFFFF\" points=\"49.85,87.08,45.9362,93.1366,50.0216,99.0788,53.9354,93.0222,49.85,87.08\" style=\"stroke: #383838; stroke-width: 1.0;\"/><text fill=\"#000000\" font-family=\"sans-serif\" font-size=\"13\" lengthAdjust=\"spacingAndGlyphs\" textLength=\"8\" x=\"60.6516\" y=\"241.7694\">1</text></a><!--MD5=[dc164f5e8a733ab456ef1add180e9e34]\n",
       "reverse link E7 to E8--><a href=\"psysml:7018d996-601d-4a38-842d-acb296e8ea77\" target=\"_top\" title=\"psysml:7018d996-601d-4a38-842d-acb296e8ea77\" xlink:actuate=\"onRequest\" xlink:href=\"psysml:7018d996-601d-4a38-842d-acb296e8ea77\" xlink:show=\"new\" xlink:title=\"psysml:7018d996-601d-4a38-842d-acb296e8ea77\" xlink:type=\"simple\"><path d=\"M70.64,101.8 C81.15,145.5 90.39,216.97 89.63,252.9 \" fill=\"none\" id=\"E7&lt;-E8-1\" style=\"stroke: #383838; stroke-width: 1.0; stroke-dasharray: 7.0,7.0;\"/><ellipse cx=\"68.7794\" cy=\"94.813\" fill=\"#FFFFFF\" rx=\"8\" ry=\"8\" style=\"stroke: #383838; stroke-width: 1.0;\"/><line style=\"stroke: #383838; stroke-width: 1.0;\" x1=\"70.8289\" x2=\"66.73\" y1=\"102.5461\" y2=\"87.08\"/><line style=\"stroke: #383838; stroke-width: 1.0;\" x1=\"61.0464\" x2=\"76.5125\" y1=\"96.8625\" y2=\"92.7636\"/><text fill=\"#000000\" font-family=\"sans-serif\" font-size=\"13\" lengthAdjust=\"spacingAndGlyphs\" textLength=\"8\" x=\"92.2181\" y=\"241.7694\">1</text></a><!--MD5=[0a839d0f80c2d72d4b9b307f046d0de8]\n",
       "link E6 to E8--><a href=\"psysml:1ea7862a-7bab-4478-95a9-37aa2484c274\" target=\"_top\" title=\"psysml:1ea7862a-7bab-4478-95a9-37aa2484c274\" xlink:actuate=\"onRequest\" xlink:href=\"psysml:1ea7862a-7bab-4478-95a9-37aa2484c274\" xlink:show=\"new\" xlink:title=\"psysml:1ea7862a-7bab-4478-95a9-37aa2484c274\" xlink:type=\"simple\"><path d=\"M95.42,193.06 C87.86,210.7 81.23,235.34 79.29,252.98 \" fill=\"none\" id=\"E6-E8\" style=\"stroke: #383838; stroke-width: 3.0;\"/><text fill=\"#000000\" font-family=\"sans-serif\" font-size=\"13\" lengthAdjust=\"spacingAndGlyphs\" textLength=\"7\" x=\"78.9648\" y=\"241.8709\">*</text></a><!--MD5=[0a839d0f80c2d72d4b9b307f046d0de8]\n",
       "link E6 to E8--><a href=\"psysml:1e1521f0-84d2-4d6c-a787-5301105b41c5\" target=\"_top\" title=\"psysml:1e1521f0-84d2-4d6c-a787-5301105b41c5\" xlink:actuate=\"onRequest\" xlink:href=\"psysml:1e1521f0-84d2-4d6c-a787-5301105b41c5\" xlink:show=\"new\" xlink:title=\"psysml:1e1521f0-84d2-4d6c-a787-5301105b41c5\" xlink:type=\"simple\"><path d=\"M117.33,193.06 C115.55,210.7 108.92,235.34 101.2,252.98 \" fill=\"none\" id=\"E6-E8-1\" style=\"stroke: #383838; stroke-width: 3.0;\"/><text fill=\"#000000\" font-family=\"sans-serif\" font-size=\"13\" lengthAdjust=\"spacingAndGlyphs\" textLength=\"7\" x=\"97.8819\" y=\"241.8709\">*</text></a><!--MD5=[6dd6f89607e58daeb2e0e2deeba887de]\n",
       "@startuml\r\n",
       "skinparam linetype polyline\r\n",
       "skinparam monochrome true\r\n",
       "skinparam classbackgroundcolor white\r\n",
       "skinparam shadowing false\r\n",
       "skinparam wrapWidth 300\r\n",
       "hide circle\r\n",
       "\r\n",
       "package \"AliasTest\" as E1  [[psysml:c9a65f38-ba0f-435c-ac18-78f76b0c8149 ]]  {\r\n",
       "comp usage \"q\" as E2  <<(T,blue) attribute>> [[psysml:252bcdae-bf35-4751-96e5-d2689f20556e ]] {\r\n",
       "}\r\n",
       "comp def \"P1\" as E3  <<(T,blue) part def>> [[psysml:6d109465-d99f-46f9-9a55-615eadc52ec3 ]] {\r\n",
       "}\r\n",
       "comp usage \"porig1\" as E4  <<(T,blue) port>> [[psysml:07c215ea-3a50-4500-a498-5909961b01ab ]] {\r\n",
       "}\r\n",
       "comp usage \"p1: P1\" as E5  <<(T,blue) part>> [[psysml:4b72c15b-2565-4f84-9632-f618b5b9807b ]] {\r\n",
       "}\r\n",
       "comp usage \"po1\" as E6  <<(T,blue) port>> [[psysml:653cf2de-fd63-4b48-a4f2-812bd043bef4 ]] {\r\n",
       "}\r\n",
       "comp usage \"p2: P1\" as E7  <<(T,blue) part>> [[psysml:a2155965-1e3e-41f3-b3b0-5a1ed18f6b31 ]] {\r\n",
       "}\r\n",
       "comp usage \"pdest\" as E8  <<(T,blue) port>> [[psysml:44ed1293-6fc3-4c15-bfe8-a6e98039e875 ]] {\r\n",
       "}\r\n",
       "}\r\n",
       "E3 o- - \"1\"E4 [[psysml:c0c56757-3d44-421f-b231-ed3c3f6cca2a ]] \r\n",
       "E3 +.. \"1\"E4 [[psysml:baeef3bb-efbd-4f79-8bec-1b43bb5efd8f ]] \r\n",
       "E5 - -:|> E3 [[psysml:3c7344fe-e5a7-4cb3-b89e-76f05a842583 ]] \r\n",
       "E5 o- - \"1\"E6 [[psysml:5ab2eb8f-0a8a-4f0f-b519-13b72bd8ef83 ]] \r\n",
       "E6 - -||> E4 [[psysml:36152a88-3fda-40f3-9b03-bfa5e7f7b410 ]] \r\n",
       "E7 - -:|> E3 [[psysml:e547b523-e8e9-4ecd-8c51-8b63037972c5 ]] \r\n",
       "E7 o- - \"1\"E8 [[psysml:b237ade3-489d-4fd0-9379-0b86f0889901 ]] \r\n",
       "E7 +.. \"1\"E8 [[psysml:7018d996-601d-4a38-842d-acb296e8ea77 ]] \r\n",
       "E6 -[thickness=3]- \"*\"E8 [[psysml:1ea7862a-7bab-4478-95a9-37aa2484c274 ]] \r\n",
       "E6 -[thickness=3]- \"*\"E8 [[psysml:1e1521f0-84d2-4d6c-a787-5301105b41c5 ]] \r\n",
       "@enduml\r\n",
       "\n",
       "PlantUML version 1.2020.13(Sat Jun 13 12:26:38 UTC 2020)\n",
       "(EPL source distribution)\n",
       "Java Runtime: OpenJDK Runtime Environment\n",
       "JVM: OpenJDK 64-Bit Server VM\n",
       "Default Encoding: UTF-8\n",
       "Language: en\n",
       "Country: null\n",
       "--></g></svg>"
      ]
     },
     "execution_count": 10,
     "metadata": {},
     "output_type": "execute_result"
    }
   ],
   "source": [
    "%viz --style=\"POLYLINE\" --view=\"Tree\" \"AliasTest\""
   ]
  },
  {
   "cell_type": "code",
   "execution_count": 11,
   "id": "25ed4d13",
   "metadata": {
    "execution": {
     "iopub.execute_input": "2021-10-03T08:30:10.249883Z",
     "iopub.status.busy": "2021-10-03T08:30:10.249406Z",
     "iopub.status.idle": "2021-10-03T08:30:10.256947Z",
     "shell.execute_reply": "2021-10-03T08:30:10.257271Z"
    }
   },
   "outputs": [
    {
     "data": {
      "image/svg+xml": [
       "<?xml version=\"1.0\" encoding=\"UTF-8\" standalone=\"no\"?><svg xmlns=\"http://www.w3.org/2000/svg\" xmlns:xlink=\"http://www.w3.org/1999/xlink\" contentScriptType=\"application/ecmascript\" contentStyleType=\"text/css\" height=\"12px\" preserveAspectRatio=\"none\" style=\"width:12px;height:12px;\" version=\"1.1\" viewBox=\"0 0 12 12\" width=\"12px\" zoomAndPan=\"magnify\"><defs/><g><!--MD5=[896ac0e7a515d8dd7765a661cb4ee08b]\n",
       "@startuml\r\n",
       "skinparam linetype polyline\r\n",
       "skinparam monochrome true\r\n",
       "skinparam classbackgroundcolor white\r\n",
       "skinparam shadowing false\r\n",
       "skinparam wrapWidth 300\r\n",
       "hide circle\r\n",
       "\r\n",
       "@enduml\r\n",
       "\n",
       "PlantUML version 1.2020.13(Sat Jun 13 12:26:38 UTC 2020)\n",
       "(EPL source distribution)\n",
       "Java Runtime: OpenJDK Runtime Environment\n",
       "JVM: OpenJDK 64-Bit Server VM\n",
       "Default Encoding: UTF-8\n",
       "Language: en\n",
       "Country: null\n",
       "--></g></svg>"
      ]
     },
     "execution_count": 11,
     "metadata": {},
     "output_type": "execute_result"
    }
   ],
   "source": [
    "%viz --style=\"POLYLINE\" --view=\"State\" \"AliasTest\""
   ]
  },
  {
   "cell_type": "code",
   "execution_count": 12,
   "id": "3874dd0a",
   "metadata": {
    "execution": {
     "iopub.execute_input": "2021-10-03T08:30:10.307185Z",
     "iopub.status.busy": "2021-10-03T08:30:10.306780Z",
     "iopub.status.idle": "2021-10-03T08:30:10.352427Z",
     "shell.execute_reply": "2021-10-03T08:30:10.352754Z"
    }
   },
   "outputs": [
    {
     "data": {
      "image/svg+xml": [
       "<?xml version=\"1.0\" encoding=\"UTF-8\" standalone=\"no\"?><svg xmlns=\"http://www.w3.org/2000/svg\" xmlns:xlink=\"http://www.w3.org/1999/xlink\" contentScriptType=\"application/ecmascript\" contentStyleType=\"text/css\" height=\"233px\" preserveAspectRatio=\"none\" style=\"width:474px;height:233px;\" version=\"1.1\" viewBox=\"0 0 474 233\" width=\"474px\" zoomAndPan=\"magnify\"><defs/><g><!--MD5=[fbc87193dbaf4d95561dea2c320d4a47]\n",
       "cluster E1--><a href=\"psysml:c9a65f38-ba0f-435c-ac18-78f76b0c8149\" target=\"_top\" title=\"psysml:c9a65f38-ba0f-435c-ac18-78f76b0c8149\" xlink:actuate=\"onRequest\" xlink:href=\"psysml:c9a65f38-ba0f-435c-ac18-78f76b0c8149\" xlink:show=\"new\" xlink:title=\"psysml:c9a65f38-ba0f-435c-ac18-78f76b0c8149\" xlink:type=\"simple\"><polygon fill=\"#FFFFFF\" points=\"16,6,84,6,91,28.2969,452,28.2969,452,221,16,221,16,6\" style=\"stroke: #000000; stroke-width: 1.5;\"/><line style=\"stroke: #000000; stroke-width: 1.5;\" x1=\"16\" x2=\"91\" y1=\"28.2969\" y2=\"28.2969\"/><text fill=\"#000000\" font-family=\"sans-serif\" font-size=\"14\" font-weight=\"bold\" lengthAdjust=\"spacingAndGlyphs\" textLength=\"62\" x=\"20\" y=\"20.9951\">AliasTest</text></a><!--MD5=[d5e69f78d87373223dbae638b30a9c99]\n",
       "cluster E3--><a href=\"psysml:6d109465-d99f-46f9-9a55-615eadc52ec3\" target=\"_top\" title=\"psysml:6d109465-d99f-46f9-9a55-615eadc52ec3\" xlink:actuate=\"onRequest\" xlink:href=\"psysml:6d109465-d99f-46f9-9a55-615eadc52ec3\" xlink:show=\"new\" xlink:title=\"psysml:6d109465-d99f-46f9-9a55-615eadc52ec3\" xlink:type=\"simple\"><rect fill=\"#FFFFFF\" height=\"90\" id=\"E3\" style=\"stroke: #383838; stroke-width: 1.5;\" width=\"83\" x=\"312\" y=\"64\"/><rect fill=\"#F8F8F8\" height=\"37.9375\" style=\"stroke: #383838; stroke-width: 1.5;\" width=\"83\" x=\"312\" y=\"64\"/><text fill=\"#000000\" font-family=\"sans-serif\" font-size=\"12\" font-style=\"italic\" lengthAdjust=\"spacingAndGlyphs\" textLength=\"64\" x=\"321.5\" y=\"80.1387\">«part def»</text><text fill=\"#000000\" font-family=\"sans-serif\" font-size=\"12\" lengthAdjust=\"spacingAndGlyphs\" textLength=\"16\" x=\"345.5\" y=\"94.1074\">P1</text></a><!--MD5=[14e3b0961a2654348d326746436168a1]\n",
       "cluster E6--><a href=\"psysml:4b72c15b-2565-4f84-9632-f618b5b9807b\" target=\"_top\" title=\"psysml:4b72c15b-2565-4f84-9632-f618b5b9807b\" xlink:actuate=\"onRequest\" xlink:href=\"psysml:4b72c15b-2565-4f84-9632-f618b5b9807b\" xlink:show=\"new\" xlink:title=\"psysml:4b72c15b-2565-4f84-9632-f618b5b9807b\" xlink:type=\"simple\"><rect fill=\"#FFFFFF\" height=\"82\" id=\"E6\" rx=\"10\" ry=\"10\" style=\"stroke: #383838; stroke-width: 1.5;\" width=\"98\" x=\"112\" y=\"64\"/><rect fill=\"#F8F8F8\" height=\"23.9688\" rx=\"10\" ry=\"10\" style=\"stroke: #F8F8F8; stroke-width: 1.5;\" width=\"98\" x=\"112\" y=\"64\"/><rect fill=\"#F8F8F8\" height=\"10\" style=\"stroke: #F8F8F8; stroke-width: 1.5;\" width=\"98\" x=\"112\" y=\"77.9688\"/><rect fill=\"none\" height=\"82\" id=\"E6\" rx=\"10\" ry=\"10\" style=\"stroke: #383838; stroke-width: 1.5;\" width=\"98\" x=\"112\" y=\"64\"/><text fill=\"#000000\" font-family=\"sans-serif\" font-size=\"12\" lengthAdjust=\"spacingAndGlyphs\" textLength=\"40\" x=\"141\" y=\"80.1387\">p1: P1</text><line style=\"stroke: #383838; stroke-width: 1.0;\" x1=\"112\" x2=\"210\" y1=\"87.9688\" y2=\"87.9688\"/></a><!--MD5=[55dfccfc6c49c2d10cd1bd2211a6c90c]\n",
       "cluster E8--><a href=\"psysml:a2155965-1e3e-41f3-b3b0-5a1ed18f6b31\" target=\"_top\" title=\"psysml:a2155965-1e3e-41f3-b3b0-5a1ed18f6b31\" xlink:actuate=\"onRequest\" xlink:href=\"psysml:a2155965-1e3e-41f3-b3b0-5a1ed18f6b31\" xlink:show=\"new\" xlink:title=\"psysml:a2155965-1e3e-41f3-b3b0-5a1ed18f6b31\" xlink:type=\"simple\"><rect fill=\"#FFFFFF\" height=\"84.5\" id=\"E8\" rx=\"10\" ry=\"10\" style=\"stroke: #383838; stroke-width: 1.5;\" width=\"83\" x=\"213\" y=\"120.5\"/><rect fill=\"#F8F8F8\" height=\"23.9688\" rx=\"10\" ry=\"10\" style=\"stroke: #F8F8F8; stroke-width: 1.5;\" width=\"83\" x=\"213\" y=\"120.5\"/><rect fill=\"#F8F8F8\" height=\"10\" style=\"stroke: #F8F8F8; stroke-width: 1.5;\" width=\"83\" x=\"213\" y=\"134.4688\"/><rect fill=\"none\" height=\"84.5\" id=\"E8\" rx=\"10\" ry=\"10\" style=\"stroke: #383838; stroke-width: 1.5;\" width=\"83\" x=\"213\" y=\"120.5\"/><text fill=\"#000000\" font-family=\"sans-serif\" font-size=\"12\" lengthAdjust=\"spacingAndGlyphs\" textLength=\"40\" x=\"234.5\" y=\"136.6387\">p2: P1</text><line style=\"stroke: #383838; stroke-width: 1.0;\" x1=\"213\" x2=\"296\" y1=\"144.4688\" y2=\"144.4688\"/></a><!--MD5=[b4997ac47864f28c2f74865a473b2911]\n",
       "class E2--><a href=\"psysml:252bcdae-bf35-4751-96e5-d2689f20556e\" target=\"_top\" title=\"psysml:252bcdae-bf35-4751-96e5-d2689f20556e\" xlink:actuate=\"onRequest\" xlink:href=\"psysml:252bcdae-bf35-4751-96e5-d2689f20556e\" xlink:show=\"new\" xlink:title=\"psysml:252bcdae-bf35-4751-96e5-d2689f20556e\" xlink:type=\"simple\"><rect fill=\"#FFFFFF\" height=\"45.9375\" id=\"E2\" rx=\"10\" ry=\"10\" style=\"stroke: #383838; stroke-width: 1.5;\" width=\"71\" x=\"32.5\" y=\"41\"/><text fill=\"#000000\" font-family=\"sans-serif\" font-size=\"12\" font-style=\"italic\" lengthAdjust=\"spacingAndGlyphs\" textLength=\"69\" x=\"33.5\" y=\"57.1387\">«attribute»</text><text fill=\"#000000\" font-family=\"sans-serif\" font-size=\"12\" lengthAdjust=\"spacingAndGlyphs\" textLength=\"8\" x=\"64\" y=\"71.1074\">q</text><line style=\"stroke: #383838; stroke-width: 1.5;\" x1=\"33.5\" x2=\"102.5\" y1=\"78.9375\" y2=\"78.9375\"/></a><text fill=\"#000000\" font-family=\"sans-serif\" font-size=\"14\" lengthAdjust=\"spacingAndGlyphs\" textLength=\"44\" x=\"308\" y=\"42.6982\">porig1</text><rect fill=\"#383838\" height=\"12\" style=\"stroke: #F8F8F8; stroke-width: 1.5;\" width=\"12\" x=\"324\" y=\"58\"/><text fill=\"#000000\" font-family=\"sans-serif\" font-size=\"14\" lengthAdjust=\"spacingAndGlyphs\" textLength=\"44\" x=\"355\" y=\"42.6982\">porig1</text><rect fill=\"#383838\" height=\"12\" style=\"stroke: #F8F8F8; stroke-width: 1.5;\" width=\"12\" x=\"371\" y=\"58\"/><text fill=\"#000000\" font-family=\"sans-serif\" font-size=\"14\" lengthAdjust=\"spacingAndGlyphs\" textLength=\"27\" x=\"178.5\" y=\"42.6982\">po1</text><rect fill=\"#383838\" height=\"12\" style=\"stroke: #F8F8F8; stroke-width: 1.5;\" width=\"12\" x=\"186\" y=\"58\"/><text fill=\"#000000\" font-family=\"sans-serif\" font-size=\"14\" lengthAdjust=\"spacingAndGlyphs\" textLength=\"40\" x=\"211\" y=\"99.1982\">pdest</text><rect fill=\"#383838\" height=\"12\" style=\"stroke: #F8F8F8; stroke-width: 1.5;\" width=\"12\" x=\"225\" y=\"114.5\"/><text fill=\"#000000\" font-family=\"sans-serif\" font-size=\"14\" lengthAdjust=\"spacingAndGlyphs\" textLength=\"40\" x=\"258\" y=\"99.1982\">pdest</text><rect fill=\"#383838\" height=\"12\" style=\"stroke: #F8F8F8; stroke-width: 1.5;\" width=\"12\" x=\"272\" y=\"114.5\"/><!--MD5=[1c0b9414cc86e0744215edee6abd8926]\n",
       "link E7 to E9--><a href=\"psysml:1ea7862a-7bab-4478-95a9-37aa2484c274\" target=\"_top\" title=\"psysml:1ea7862a-7bab-4478-95a9-37aa2484c274\" xlink:actuate=\"onRequest\" xlink:href=\"psysml:1ea7862a-7bab-4478-95a9-37aa2484c274\" xlink:show=\"new\" xlink:title=\"psysml:1ea7862a-7bab-4478-95a9-37aa2484c274\" xlink:type=\"simple\"><path d=\"M187.83,70.03 C188.72,81.73 210.14,110.34 224.83,117.73 \" fill=\"none\" id=\"E7-E9\" style=\"stroke: #383838; stroke-width: 3.0;\"/><text fill=\"#000000\" font-family=\"sans-serif\" font-size=\"13\" lengthAdjust=\"spacingAndGlyphs\" textLength=\"7\" x=\"209.8523\" y=\"106.3789\">*</text></a><!--MD5=[1c0b9414cc86e0744215edee6abd8926]\n",
       "link E7 to E9--><a href=\"psysml:1e1521f0-84d2-4d6c-a787-5301105b41c5\" target=\"_top\" title=\"psysml:1e1521f0-84d2-4d6c-a787-5301105b41c5\" xlink:actuate=\"onRequest\" xlink:href=\"psysml:1e1521f0-84d2-4d6c-a787-5301105b41c5\" xlink:show=\"new\" xlink:title=\"psysml:1e1521f0-84d2-4d6c-a787-5301105b41c5\" xlink:type=\"simple\"><path d=\"M198.05,66.57 C213.27,73.62 235.05,102.5 235.62,114.37 \" fill=\"none\" id=\"E7-E9-1\" style=\"stroke: #383838; stroke-width: 3.0;\"/><text fill=\"#000000\" font-family=\"sans-serif\" font-size=\"13\" lengthAdjust=\"spacingAndGlyphs\" textLength=\"7\" x=\"229.278\" y=\"103.4683\">*</text></a><!--MD5=[8a9536ff2351190455b6d06043468381]\n",
       "@startuml\r\n",
       "skinparam ranksep 10\r\n",
       "skinparam rectangle {\r\n",
       " backgroundColor<<block>> LightGreen\r\n",
       "}\r\n",
       "skinparam linetype polyline\r\n",
       "skinparam monochrome true\r\n",
       "skinparam classbackgroundcolor white\r\n",
       "skinparam shadowing false\r\n",
       "skinparam wrapWidth 300\r\n",
       "hide circle\r\n",
       "\r\n",
       "package \"AliasTest\" as E1  [[psysml:c9a65f38-ba0f-435c-ac18-78f76b0c8149 ]]  {\r\n",
       "comp usage \"q\" as E2  <<(T,blue) attribute>> [[psysml:252bcdae-bf35-4751-96e5-d2689f20556e ]] {\r\n",
       "}\r\n",
       "rec def \"P1\" as E3  <<(T,blue) part def>> [[psysml:6d109465-d99f-46f9-9a55-615eadc52ec3 ]] {\r\n",
       "portin \"porig1\" as E4  <<(T,blue) port>> [[psysml:07c215ea-3a50-4500-a498-5909961b01ab ]] \r\n",
       "portin \"porig1\" as E5  <<(T,blue) port>> [[psysml:07c215ea-3a50-4500-a498-5909961b01ab ]] \r\n",
       "}\r\n",
       "rec usage \"p1: P1\" as E6  [[psysml:4b72c15b-2565-4f84-9632-f618b5b9807b ]] {\r\n",
       "portin \"po1\" as E7  <<(T,blue) port>> [[psysml:653cf2de-fd63-4b48-a4f2-812bd043bef4 ]] \r\n",
       "}\r\n",
       "rec usage \"p2: P1\" as E8  [[psysml:a2155965-1e3e-41f3-b3b0-5a1ed18f6b31 ]] {\r\n",
       "portin \"pdest\" as E9  <<(T,blue) port>> [[psysml:44ed1293-6fc3-4c15-bfe8-a6e98039e875 ]] \r\n",
       "portin \"pdest\" as E10  <<(T,blue) port>> [[psysml:44ed1293-6fc3-4c15-bfe8-a6e98039e875 ]] \r\n",
       "}\r\n",
       "}\r\n",
       "E7 -[thickness=3]- \"*\"E9 [[psysml:1ea7862a-7bab-4478-95a9-37aa2484c274 ]] \r\n",
       "E7 -[thickness=3]- \"*\"E9 [[psysml:1e1521f0-84d2-4d6c-a787-5301105b41c5 ]] \r\n",
       "@enduml\r\n",
       "\n",
       "PlantUML version 1.2020.13(Sat Jun 13 12:26:38 UTC 2020)\n",
       "(EPL source distribution)\n",
       "Java Runtime: OpenJDK Runtime Environment\n",
       "JVM: OpenJDK 64-Bit Server VM\n",
       "Default Encoding: UTF-8\n",
       "Language: en\n",
       "Country: null\n",
       "--></g></svg>"
      ]
     },
     "execution_count": 12,
     "metadata": {},
     "output_type": "execute_result"
    }
   ],
   "source": [
    "%viz --style=\"POLYLINE\" --view=\"Interconnection\" \"AliasTest\""
   ]
  },
  {
   "cell_type": "code",
   "execution_count": 13,
   "id": "45b07b4a",
   "metadata": {
    "execution": {
     "iopub.execute_input": "2021-10-03T08:30:10.402664Z",
     "iopub.status.busy": "2021-10-03T08:30:10.402221Z",
     "iopub.status.idle": "2021-10-03T08:30:10.408533Z",
     "shell.execute_reply": "2021-10-03T08:30:10.408856Z"
    }
   },
   "outputs": [
    {
     "data": {
      "image/svg+xml": [
       "<?xml version=\"1.0\" encoding=\"UTF-8\" standalone=\"no\"?><svg xmlns=\"http://www.w3.org/2000/svg\" xmlns:xlink=\"http://www.w3.org/1999/xlink\" contentScriptType=\"application/ecmascript\" contentStyleType=\"text/css\" height=\"12px\" preserveAspectRatio=\"none\" style=\"width:12px;height:12px;\" version=\"1.1\" viewBox=\"0 0 12 12\" width=\"12px\" zoomAndPan=\"magnify\"><defs/><g><!--MD5=[97bbf32f66ccd50cbc40d92ea8f5a65e]\n",
       "@startuml\r\n",
       "skinparam ranksep 8\r\n",
       "skinparam linetype polyline\r\n",
       "skinparam monochrome true\r\n",
       "skinparam classbackgroundcolor white\r\n",
       "skinparam shadowing false\r\n",
       "skinparam wrapWidth 300\r\n",
       "hide circle\r\n",
       "\r\n",
       "@enduml\r\n",
       "\n",
       "PlantUML version 1.2020.13(Sat Jun 13 12:26:38 UTC 2020)\n",
       "(EPL source distribution)\n",
       "Java Runtime: OpenJDK Runtime Environment\n",
       "JVM: OpenJDK 64-Bit Server VM\n",
       "Default Encoding: UTF-8\n",
       "Language: en\n",
       "Country: null\n",
       "--></g></svg>"
      ]
     },
     "execution_count": 13,
     "metadata": {},
     "output_type": "execute_result"
    }
   ],
   "source": [
    "%viz --style=\"POLYLINE\" --view=\"Action\" \"AliasTest\""
   ]
  },
  {
   "cell_type": "code",
   "execution_count": 14,
   "id": "a90059f8",
   "metadata": {
    "execution": {
     "iopub.execute_input": "2021-10-03T08:30:10.458589Z",
     "iopub.status.busy": "2021-10-03T08:30:10.458184Z",
     "iopub.status.idle": "2021-10-03T08:30:10.465218Z",
     "shell.execute_reply": "2021-10-03T08:30:10.465536Z"
    }
   },
   "outputs": [
    {
     "data": {
      "image/svg+xml": [
       "<?xml version=\"1.0\" encoding=\"UTF-8\" standalone=\"no\"?><svg xmlns=\"http://www.w3.org/2000/svg\" xmlns:xlink=\"http://www.w3.org/1999/xlink\" contentScriptType=\"application/ecmascript\" contentStyleType=\"text/css\" height=\"12px\" preserveAspectRatio=\"none\" style=\"width:12px;height:12px;\" version=\"1.1\" viewBox=\"0 0 12 12\" width=\"12px\" zoomAndPan=\"magnify\"><defs/><g><!--MD5=[dc938048236c351797870c36b62f92ad]\n",
       "@startuml\r\n",
       "skinparam roundcorner 20\r\n",
       "skinparam BoxPadding 20\r\n",
       "skinparam SequenceBoxBackgroundColor #white\r\n",
       "skinparam style strictuml\r\n",
       "skinparam maxMessageSize 100\r\n",
       "skinparam linetype polyline\r\n",
       "skinparam monochrome true\r\n",
       "skinparam classbackgroundcolor white\r\n",
       "skinparam shadowing false\r\n",
       "skinparam wrapWidth 300\r\n",
       "hide circle\r\n",
       "\r\n",
       "@enduml\r\n",
       "\n",
       "PlantUML version 1.2020.13(Sat Jun 13 12:26:38 UTC 2020)\n",
       "(EPL source distribution)\n",
       "Java Runtime: OpenJDK Runtime Environment\n",
       "JVM: OpenJDK 64-Bit Server VM\n",
       "Default Encoding: UTF-8\n",
       "Language: en\n",
       "Country: null\n",
       "--></g></svg>"
      ]
     },
     "execution_count": 14,
     "metadata": {},
     "output_type": "execute_result"
    }
   ],
   "source": [
    "%viz --style=\"POLYLINE\" --view=\"Sequence\" \"AliasTest\""
   ]
  },
  {
   "cell_type": "code",
   "execution_count": 15,
   "id": "f46734bd",
   "metadata": {
    "execution": {
     "iopub.execute_input": "2021-10-03T08:30:10.515457Z",
     "iopub.status.busy": "2021-10-03T08:30:10.515059Z",
     "iopub.status.idle": "2021-10-03T08:30:10.562046Z",
     "shell.execute_reply": "2021-10-03T08:30:10.562282Z"
    }
   },
   "outputs": [
    {
     "data": {
      "image/svg+xml": [
       "<?xml version=\"1.0\" encoding=\"UTF-8\" standalone=\"no\"?><svg xmlns=\"http://www.w3.org/2000/svg\" xmlns:xlink=\"http://www.w3.org/1999/xlink\" contentScriptType=\"application/ecmascript\" contentStyleType=\"text/css\" height=\"327px\" preserveAspectRatio=\"none\" style=\"width:304px;height:327px;\" version=\"1.1\" viewBox=\"0 0 304 327\" width=\"304px\" zoomAndPan=\"magnify\"><defs/><g><!--MD5=[fbc87193dbaf4d95561dea2c320d4a47]\n",
       "cluster E1--><a href=\"psysml:c9a65f38-ba0f-435c-ac18-78f76b0c8149\" target=\"_top\" title=\"psysml:c9a65f38-ba0f-435c-ac18-78f76b0c8149\" xlink:actuate=\"onRequest\" xlink:href=\"psysml:c9a65f38-ba0f-435c-ac18-78f76b0c8149\" xlink:show=\"new\" xlink:title=\"psysml:c9a65f38-ba0f-435c-ac18-78f76b0c8149\" xlink:type=\"simple\"><polygon fill=\"#FFFFFF\" points=\"16,6,84,6,91,28.2969,282,28.2969,282,315,16,315,16,6\" style=\"stroke: #000000; stroke-width: 1.5;\"/><line style=\"stroke: #000000; stroke-width: 1.5;\" x1=\"16\" x2=\"91\" y1=\"28.2969\" y2=\"28.2969\"/><text fill=\"#000000\" font-family=\"sans-serif\" font-size=\"14\" font-weight=\"bold\" lengthAdjust=\"spacingAndGlyphs\" textLength=\"62\" x=\"20\" y=\"20.9951\">AliasTest</text></a><!--MD5=[b4997ac47864f28c2f74865a473b2911]\n",
       "class E2--><a href=\"psysml:252bcdae-bf35-4751-96e5-d2689f20556e\" target=\"_top\" title=\"psysml:252bcdae-bf35-4751-96e5-d2689f20556e\" xlink:actuate=\"onRequest\" xlink:href=\"psysml:252bcdae-bf35-4751-96e5-d2689f20556e\" xlink:show=\"new\" xlink:title=\"psysml:252bcdae-bf35-4751-96e5-d2689f20556e\" xlink:type=\"simple\"><rect fill=\"#FFFFFF\" height=\"45.9375\" id=\"E2\" rx=\"10\" ry=\"10\" style=\"stroke: #383838; stroke-width: 1.5;\" width=\"71\" x=\"194.5\" y=\"41\"/><text fill=\"#000000\" font-family=\"sans-serif\" font-size=\"12\" font-style=\"italic\" lengthAdjust=\"spacingAndGlyphs\" textLength=\"69\" x=\"195.5\" y=\"57.1387\">«attribute»</text><text fill=\"#000000\" font-family=\"sans-serif\" font-size=\"12\" lengthAdjust=\"spacingAndGlyphs\" textLength=\"8\" x=\"226\" y=\"71.1074\">q</text><line style=\"stroke: #383838; stroke-width: 1.5;\" x1=\"195.5\" x2=\"264.5\" y1=\"78.9375\" y2=\"78.9375\"/></a><!--MD5=[09b614a08d8cba4a07c9adeb5e0fee81]\n",
       "class E3--><a href=\"psysml:6d109465-d99f-46f9-9a55-615eadc52ec3\" target=\"_top\" title=\"psysml:6d109465-d99f-46f9-9a55-615eadc52ec3\" xlink:actuate=\"onRequest\" xlink:href=\"psysml:6d109465-d99f-46f9-9a55-615eadc52ec3\" xlink:show=\"new\" xlink:title=\"psysml:6d109465-d99f-46f9-9a55-615eadc52ec3\" xlink:type=\"simple\"><rect fill=\"#FFFFFF\" height=\"45.9375\" id=\"E3\" style=\"stroke: #383838; stroke-width: 1.5;\" width=\"66\" x=\"168\" y=\"147\"/><text fill=\"#000000\" font-family=\"sans-serif\" font-size=\"12\" font-style=\"italic\" lengthAdjust=\"spacingAndGlyphs\" textLength=\"64\" x=\"169\" y=\"163.1387\">«part def»</text><text fill=\"#000000\" font-family=\"sans-serif\" font-size=\"12\" lengthAdjust=\"spacingAndGlyphs\" textLength=\"16\" x=\"193\" y=\"177.1074\">P1</text><line style=\"stroke: #383838; stroke-width: 1.5;\" x1=\"169\" x2=\"233\" y1=\"184.9375\" y2=\"184.9375\"/></a><!--MD5=[ebbe1d658d1005bcc118a6aa81145e00]\n",
       "class E4--><a href=\"psysml:07c215ea-3a50-4500-a498-5909961b01ab\" target=\"_top\" title=\"psysml:07c215ea-3a50-4500-a498-5909961b01ab\" xlink:actuate=\"onRequest\" xlink:href=\"psysml:07c215ea-3a50-4500-a498-5909961b01ab\" xlink:show=\"new\" xlink:title=\"psysml:07c215ea-3a50-4500-a498-5909961b01ab\" xlink:type=\"simple\"><rect fill=\"#FFFFFF\" height=\"45.9375\" id=\"E4\" rx=\"10\" ry=\"10\" style=\"stroke: #383838; stroke-width: 1.5;\" width=\"46\" x=\"178\" y=\"253\"/><text fill=\"#000000\" font-family=\"sans-serif\" font-size=\"12\" font-style=\"italic\" lengthAdjust=\"spacingAndGlyphs\" textLength=\"40\" x=\"181\" y=\"269.1387\">«port»</text><text fill=\"#000000\" font-family=\"sans-serif\" font-size=\"12\" lengthAdjust=\"spacingAndGlyphs\" textLength=\"40\" x=\"181\" y=\"283.1074\">porig1</text><line style=\"stroke: #383838; stroke-width: 1.5;\" x1=\"179\" x2=\"223\" y1=\"290.9375\" y2=\"290.9375\"/></a><!--MD5=[270fce915f116d4de14055a7c1d9a0f3]\n",
       "class E5--><a href=\"psysml:4b72c15b-2565-4f84-9632-f618b5b9807b\" target=\"_top\" title=\"psysml:4b72c15b-2565-4f84-9632-f618b5b9807b\" xlink:actuate=\"onRequest\" xlink:href=\"psysml:4b72c15b-2565-4f84-9632-f618b5b9807b\" xlink:show=\"new\" xlink:title=\"psysml:4b72c15b-2565-4f84-9632-f618b5b9807b\" xlink:type=\"simple\"><rect fill=\"#FFFFFF\" height=\"45.9375\" id=\"E5\" rx=\"10\" ry=\"10\" style=\"stroke: #383838; stroke-width: 1.5;\" width=\"46\" x=\"113\" y=\"41\"/><text fill=\"#000000\" font-family=\"sans-serif\" font-size=\"12\" font-style=\"italic\" lengthAdjust=\"spacingAndGlyphs\" textLength=\"40\" x=\"116\" y=\"57.1387\">«part»</text><text fill=\"#000000\" font-family=\"sans-serif\" font-size=\"12\" lengthAdjust=\"spacingAndGlyphs\" textLength=\"40\" x=\"116\" y=\"71.1074\">p1: P1</text><line style=\"stroke: #383838; stroke-width: 1.5;\" x1=\"114\" x2=\"158\" y1=\"78.9375\" y2=\"78.9375\"/></a><!--MD5=[60a26617385b1d2d0262a64233df1f8d]\n",
       "class E6--><a href=\"psysml:653cf2de-fd63-4b48-a4f2-812bd043bef4\" target=\"_top\" title=\"psysml:653cf2de-fd63-4b48-a4f2-812bd043bef4\" xlink:actuate=\"onRequest\" xlink:href=\"psysml:653cf2de-fd63-4b48-a4f2-812bd043bef4\" xlink:show=\"new\" xlink:title=\"psysml:653cf2de-fd63-4b48-a4f2-812bd043bef4\" xlink:type=\"simple\"><rect fill=\"#FFFFFF\" height=\"45.9375\" id=\"E6\" rx=\"10\" ry=\"10\" style=\"stroke: #383838; stroke-width: 1.5;\" width=\"42\" x=\"91\" y=\"147\"/><text fill=\"#000000\" font-family=\"sans-serif\" font-size=\"12\" font-style=\"italic\" lengthAdjust=\"spacingAndGlyphs\" textLength=\"40\" x=\"92\" y=\"163.1387\">«port»</text><text fill=\"#000000\" font-family=\"sans-serif\" font-size=\"12\" lengthAdjust=\"spacingAndGlyphs\" textLength=\"24\" x=\"100\" y=\"177.1074\">po1</text><line style=\"stroke: #383838; stroke-width: 1.5;\" x1=\"92\" x2=\"132\" y1=\"184.9375\" y2=\"184.9375\"/></a><!--MD5=[2156ba9850f5573cc1fc38a6a4b2f02b]\n",
       "class E7--><a href=\"psysml:a2155965-1e3e-41f3-b3b0-5a1ed18f6b31\" target=\"_top\" title=\"psysml:a2155965-1e3e-41f3-b3b0-5a1ed18f6b31\" xlink:actuate=\"onRequest\" xlink:href=\"psysml:a2155965-1e3e-41f3-b3b0-5a1ed18f6b31\" xlink:show=\"new\" xlink:title=\"psysml:a2155965-1e3e-41f3-b3b0-5a1ed18f6b31\" xlink:type=\"simple\"><rect fill=\"#FFFFFF\" height=\"45.9375\" id=\"E7\" rx=\"10\" ry=\"10\" style=\"stroke: #383838; stroke-width: 1.5;\" width=\"46\" x=\"32\" y=\"41\"/><text fill=\"#000000\" font-family=\"sans-serif\" font-size=\"12\" font-style=\"italic\" lengthAdjust=\"spacingAndGlyphs\" textLength=\"40\" x=\"35\" y=\"57.1387\">«part»</text><text fill=\"#000000\" font-family=\"sans-serif\" font-size=\"12\" lengthAdjust=\"spacingAndGlyphs\" textLength=\"40\" x=\"35\" y=\"71.1074\">p2: P1</text><line style=\"stroke: #383838; stroke-width: 1.5;\" x1=\"33\" x2=\"77\" y1=\"78.9375\" y2=\"78.9375\"/></a><!--MD5=[b9389687b975829384b498ac4b7476b2]\n",
       "class E8--><a href=\"psysml:44ed1293-6fc3-4c15-bfe8-a6e98039e875\" target=\"_top\" title=\"psysml:44ed1293-6fc3-4c15-bfe8-a6e98039e875\" xlink:actuate=\"onRequest\" xlink:href=\"psysml:44ed1293-6fc3-4c15-bfe8-a6e98039e875\" xlink:show=\"new\" xlink:title=\"psysml:44ed1293-6fc3-4c15-bfe8-a6e98039e875\" xlink:type=\"simple\"><rect fill=\"#FFFFFF\" height=\"45.9375\" id=\"E8\" rx=\"10\" ry=\"10\" style=\"stroke: #383838; stroke-width: 1.5;\" width=\"42\" x=\"63\" y=\"253\"/><text fill=\"#000000\" font-family=\"sans-serif\" font-size=\"12\" font-style=\"italic\" lengthAdjust=\"spacingAndGlyphs\" textLength=\"40\" x=\"64\" y=\"269.1387\">«port»</text><text fill=\"#000000\" font-family=\"sans-serif\" font-size=\"12\" lengthAdjust=\"spacingAndGlyphs\" textLength=\"36\" x=\"66\" y=\"283.1074\">pdest</text><line style=\"stroke: #383838; stroke-width: 1.5;\" x1=\"64\" x2=\"104\" y1=\"290.9375\" y2=\"290.9375\"/></a><!--MD5=[4672eba38e49728da53d11aeb285b987]\n",
       "reverse link E3 to E4--><a href=\"psysml:c0c56757-3d44-421f-b231-ed3c3f6cca2a\" target=\"_top\" title=\"psysml:c0c56757-3d44-421f-b231-ed3c3f6cca2a\" xlink:actuate=\"onRequest\" xlink:href=\"psysml:c0c56757-3d44-421f-b231-ed3c3f6cca2a\" xlink:show=\"new\" xlink:title=\"psysml:c0c56757-3d44-421f-b231-ed3c3f6cca2a\" xlink:type=\"simple\"><path d=\"M188.84,206.44 C187.7,221.87 188.21,239.47 190.36,252.98 \" fill=\"none\" id=\"E3&lt;-E4\" style=\"stroke: #383838; stroke-width: 1.0;\"/><polygon fill=\"#FFFFFF\" points=\"190.35,193.06,185.7032,198.5743,189.006,204.9845,193.6528,199.4702,190.35,193.06\" style=\"stroke: #383838; stroke-width: 1.0;\"/><text fill=\"#000000\" font-family=\"sans-serif\" font-size=\"13\" lengthAdjust=\"spacingAndGlyphs\" textLength=\"8\" x=\"178.4255\" y=\"241.8709\">1</text></a><!--MD5=[4672eba38e49728da53d11aeb285b987]\n",
       "reverse link E3 to E4--><a href=\"psysml:baeef3bb-efbd-4f79-8bec-1b43bb5efd8f\" target=\"_top\" title=\"psysml:baeef3bb-efbd-4f79-8bec-1b43bb5efd8f\" xlink:actuate=\"onRequest\" xlink:href=\"psysml:baeef3bb-efbd-4f79-8bec-1b43bb5efd8f\" xlink:show=\"new\" xlink:title=\"psysml:baeef3bb-efbd-4f79-8bec-1b43bb5efd8f\" xlink:type=\"simple\"><path d=\"M214.01,208.34 C215.03,223.3 214.45,240.02 212.27,252.98 \" fill=\"none\" id=\"E3&lt;-E4-1\" style=\"stroke: #383838; stroke-width: 1.0; stroke-dasharray: 7.0,7.0;\"/><ellipse cx=\"213.1693\" cy=\"201.0093\" fill=\"#FFFFFF\" rx=\"8\" ry=\"8\" style=\"stroke: #383838; stroke-width: 1.0;\"/><line style=\"stroke: #383838; stroke-width: 1.0;\" x1=\"214.0687\" x2=\"212.27\" y1=\"208.9586\" y2=\"193.06\"/><line style=\"stroke: #383838; stroke-width: 1.0;\" x1=\"205.2201\" x2=\"221.1186\" y1=\"201.9086\" y2=\"200.1099\"/><text fill=\"#000000\" font-family=\"sans-serif\" font-size=\"13\" lengthAdjust=\"spacingAndGlyphs\" textLength=\"8\" x=\"206.2238\" y=\"241.8709\">1</text></a><!--MD5=[e9be52314489bd878ff4c7144b63c9e1]\n",
       "link E5 to E3--><a href=\"psysml:3c7344fe-e5a7-4cb3-b89e-76f05a842583\" target=\"_top\" title=\"psysml:3c7344fe-e5a7-4cb3-b89e-76f05a842583\" xlink:actuate=\"onRequest\" xlink:href=\"psysml:3c7344fe-e5a7-4cb3-b89e-76f05a842583\" xlink:show=\"new\" xlink:title=\"psysml:3c7344fe-e5a7-4cb3-b89e-76f05a842583\" xlink:type=\"simple\"><path d=\"M149.78,87.06 C157.54,99.47 167.45,115.33 176.49,129.78 \" fill=\"none\" id=\"E5-&gt;E3\" style=\"stroke: #383838; stroke-width: 1.0;\"/><polygon fill=\"#FFFFFF\" points=\"187.24,146.98,171.2331,134.5792,183.1045,127.1584,187.24,146.98\" style=\"stroke: #383838; stroke-width: 1.0;\"/><ellipse cx=\"169.9076\" cy=\"128.6857\" fill=\"#383838\" rx=\"2\" ry=\"2\" style=\"stroke: #383838; stroke-width: 1.0;\"/><ellipse cx=\"178.3872\" cy=\"123.3851\" fill=\"#383838\" rx=\"2\" ry=\"2\" style=\"stroke: #383838; stroke-width: 1.0;\"/></a><!--MD5=[85d356282659285ab4b2cfe2f634dd2b]\n",
       "reverse link E5 to E6--><a href=\"psysml:5ab2eb8f-0a8a-4f0f-b519-13b72bd8ef83\" target=\"_top\" title=\"psysml:5ab2eb8f-0a8a-4f0f-b519-13b72bd8ef83\" xlink:actuate=\"onRequest\" xlink:href=\"psysml:5ab2eb8f-0a8a-4f0f-b519-13b72bd8ef83\" xlink:show=\"new\" xlink:title=\"psysml:5ab2eb8f-0a8a-4f0f-b519-13b72bd8ef83\" xlink:type=\"simple\"><path d=\"M127.93,99.96 C124.34,115.51 120.23,133.33 117.08,146.98 \" fill=\"none\" id=\"E5&lt;-E6\" style=\"stroke: #383838; stroke-width: 1.0;\"/><polygon fill=\"#FFFFFF\" points=\"130.91,87.06,125.6616,92.0052,128.2078,98.7518,133.4562,93.8066,130.91,87.06\" style=\"stroke: #383838; stroke-width: 1.0;\"/><text fill=\"#000000\" font-family=\"sans-serif\" font-size=\"13\" lengthAdjust=\"spacingAndGlyphs\" textLength=\"8\" x=\"109.3703\" y=\"135.8709\">1</text></a><!--MD5=[f667431f98296947986a1a7595a31603]\n",
       "link E6 to E4--><a href=\"psysml:36152a88-3fda-40f3-9b03-bfa5e7f7b410\" target=\"_top\" title=\"psysml:36152a88-3fda-40f3-9b03-bfa5e7f7b410\" xlink:actuate=\"onRequest\" xlink:href=\"psysml:36152a88-3fda-40f3-9b03-bfa5e7f7b410\" xlink:show=\"new\" xlink:title=\"psysml:36152a88-3fda-40f3-9b03-bfa5e7f7b410\" xlink:type=\"simple\"><path d=\"M130.87,193.06 C141.97,206.02 156.28,222.74 169.08,237.7 \" fill=\"none\" id=\"E6-&gt;E4\" style=\"stroke: #383838; stroke-width: 1.0;\"/><polygon fill=\"#FFFFFF\" points=\"182.15,252.98,164.4809,243.0905,175.1204,233.9909,182.15,252.98\" style=\"stroke: #383838; stroke-width: 1.0;\"/><line style=\"stroke: #383838; stroke-width: 2.0;\" x1=\"162.011\" x2=\"172.6505\" y1=\"240.2026\" y2=\"231.1031\"/></a><!--MD5=[14ccda38c055a5c0da953d572bc50960]\n",
       "link E7 to E3--><a href=\"psysml:e547b523-e8e9-4ecd-8c51-8b63037972c5\" target=\"_top\" title=\"psysml:e547b523-e8e9-4ecd-8c51-8b63037972c5\" xlink:actuate=\"onRequest\" xlink:href=\"psysml:e547b523-e8e9-4ecd-8c51-8b63037972c5\" xlink:show=\"new\" xlink:title=\"psysml:e547b523-e8e9-4ecd-8c51-8b63037972c5\" xlink:type=\"simple\"><path d=\"M78.13,81.48 C98.32,95.86 128.25,117.18 153.52,135.18 \" fill=\"none\" id=\"E7-&gt;E3\" style=\"stroke: #383838; stroke-width: 1.0;\"/><polygon fill=\"#FFFFFF\" points=\"170.09,146.98,150.5533,141.6586,158.6755,130.2555,170.09,146.98\" style=\"stroke: #383838; stroke-width: 1.0;\"/><ellipse cx=\"147.0709\" cy=\"136.7227\" fill=\"#383838\" rx=\"2\" ry=\"2\" style=\"stroke: #383838; stroke-width: 1.0;\"/><ellipse cx=\"152.8725\" cy=\"128.5776\" fill=\"#383838\" rx=\"2\" ry=\"2\" style=\"stroke: #383838; stroke-width: 1.0;\"/></a><!--MD5=[dc164f5e8a733ab456ef1add180e9e34]\n",
       "reverse link E7 to E8--><a href=\"psysml:b237ade3-489d-4fd0-9379-0b86f0889901\" target=\"_top\" title=\"psysml:b237ade3-489d-4fd0-9379-0b86f0889901\" xlink:actuate=\"onRequest\" xlink:href=\"psysml:b237ade3-489d-4fd0-9379-0b86f0889901\" xlink:show=\"new\" xlink:title=\"psysml:b237ade3-489d-4fd0-9379-0b86f0889901\" xlink:type=\"simple\"><path d=\"M50.05,100.09 C51.65,143.61 62.25,216.5 72.75,252.9 \" fill=\"none\" id=\"E7&lt;-E8\" style=\"stroke: #383838; stroke-width: 1.0;\"/><polygon fill=\"#FFFFFF\" points=\"49.85,87.08,45.9362,93.1366,50.0216,99.0788,53.9354,93.0222,49.85,87.08\" style=\"stroke: #383838; stroke-width: 1.0;\"/><text fill=\"#000000\" font-family=\"sans-serif\" font-size=\"13\" lengthAdjust=\"spacingAndGlyphs\" textLength=\"8\" x=\"60.6516\" y=\"241.7694\">1</text></a><!--MD5=[dc164f5e8a733ab456ef1add180e9e34]\n",
       "reverse link E7 to E8--><a href=\"psysml:7018d996-601d-4a38-842d-acb296e8ea77\" target=\"_top\" title=\"psysml:7018d996-601d-4a38-842d-acb296e8ea77\" xlink:actuate=\"onRequest\" xlink:href=\"psysml:7018d996-601d-4a38-842d-acb296e8ea77\" xlink:show=\"new\" xlink:title=\"psysml:7018d996-601d-4a38-842d-acb296e8ea77\" xlink:type=\"simple\"><path d=\"M70.64,101.8 C81.15,145.5 90.39,216.97 89.63,252.9 \" fill=\"none\" id=\"E7&lt;-E8-1\" style=\"stroke: #383838; stroke-width: 1.0; stroke-dasharray: 7.0,7.0;\"/><ellipse cx=\"68.7794\" cy=\"94.813\" fill=\"#FFFFFF\" rx=\"8\" ry=\"8\" style=\"stroke: #383838; stroke-width: 1.0;\"/><line style=\"stroke: #383838; stroke-width: 1.0;\" x1=\"70.8289\" x2=\"66.73\" y1=\"102.5461\" y2=\"87.08\"/><line style=\"stroke: #383838; stroke-width: 1.0;\" x1=\"61.0464\" x2=\"76.5125\" y1=\"96.8625\" y2=\"92.7636\"/><text fill=\"#000000\" font-family=\"sans-serif\" font-size=\"13\" lengthAdjust=\"spacingAndGlyphs\" textLength=\"8\" x=\"92.2181\" y=\"241.7694\">1</text></a><!--MD5=[0a839d0f80c2d72d4b9b307f046d0de8]\n",
       "link E6 to E8--><a href=\"psysml:1ea7862a-7bab-4478-95a9-37aa2484c274\" target=\"_top\" title=\"psysml:1ea7862a-7bab-4478-95a9-37aa2484c274\" xlink:actuate=\"onRequest\" xlink:href=\"psysml:1ea7862a-7bab-4478-95a9-37aa2484c274\" xlink:show=\"new\" xlink:title=\"psysml:1ea7862a-7bab-4478-95a9-37aa2484c274\" xlink:type=\"simple\"><path d=\"M95.42,193.06 C87.86,210.7 81.23,235.34 79.29,252.98 \" fill=\"none\" id=\"E6-E8\" style=\"stroke: #383838; stroke-width: 3.0;\"/><text fill=\"#000000\" font-family=\"sans-serif\" font-size=\"13\" lengthAdjust=\"spacingAndGlyphs\" textLength=\"7\" x=\"78.9648\" y=\"241.8709\">*</text></a><!--MD5=[0a839d0f80c2d72d4b9b307f046d0de8]\n",
       "link E6 to E8--><a href=\"psysml:1e1521f0-84d2-4d6c-a787-5301105b41c5\" target=\"_top\" title=\"psysml:1e1521f0-84d2-4d6c-a787-5301105b41c5\" xlink:actuate=\"onRequest\" xlink:href=\"psysml:1e1521f0-84d2-4d6c-a787-5301105b41c5\" xlink:show=\"new\" xlink:title=\"psysml:1e1521f0-84d2-4d6c-a787-5301105b41c5\" xlink:type=\"simple\"><path d=\"M117.33,193.06 C115.55,210.7 108.92,235.34 101.2,252.98 \" fill=\"none\" id=\"E6-E8-1\" style=\"stroke: #383838; stroke-width: 3.0;\"/><text fill=\"#000000\" font-family=\"sans-serif\" font-size=\"13\" lengthAdjust=\"spacingAndGlyphs\" textLength=\"7\" x=\"97.8819\" y=\"241.8709\">*</text></a><!--MD5=[6dd6f89607e58daeb2e0e2deeba887de]\n",
       "@startuml\r\n",
       "skinparam linetype polyline\r\n",
       "skinparam monochrome true\r\n",
       "skinparam classbackgroundcolor white\r\n",
       "skinparam shadowing false\r\n",
       "skinparam wrapWidth 300\r\n",
       "hide circle\r\n",
       "\r\n",
       "package \"AliasTest\" as E1  [[psysml:c9a65f38-ba0f-435c-ac18-78f76b0c8149 ]]  {\r\n",
       "comp usage \"q\" as E2  <<(T,blue) attribute>> [[psysml:252bcdae-bf35-4751-96e5-d2689f20556e ]] {\r\n",
       "}\r\n",
       "comp def \"P1\" as E3  <<(T,blue) part def>> [[psysml:6d109465-d99f-46f9-9a55-615eadc52ec3 ]] {\r\n",
       "}\r\n",
       "comp usage \"porig1\" as E4  <<(T,blue) port>> [[psysml:07c215ea-3a50-4500-a498-5909961b01ab ]] {\r\n",
       "}\r\n",
       "comp usage \"p1: P1\" as E5  <<(T,blue) part>> [[psysml:4b72c15b-2565-4f84-9632-f618b5b9807b ]] {\r\n",
       "}\r\n",
       "comp usage \"po1\" as E6  <<(T,blue) port>> [[psysml:653cf2de-fd63-4b48-a4f2-812bd043bef4 ]] {\r\n",
       "}\r\n",
       "comp usage \"p2: P1\" as E7  <<(T,blue) part>> [[psysml:a2155965-1e3e-41f3-b3b0-5a1ed18f6b31 ]] {\r\n",
       "}\r\n",
       "comp usage \"pdest\" as E8  <<(T,blue) port>> [[psysml:44ed1293-6fc3-4c15-bfe8-a6e98039e875 ]] {\r\n",
       "}\r\n",
       "}\r\n",
       "E3 o- - \"1\"E4 [[psysml:c0c56757-3d44-421f-b231-ed3c3f6cca2a ]] \r\n",
       "E3 +.. \"1\"E4 [[psysml:baeef3bb-efbd-4f79-8bec-1b43bb5efd8f ]] \r\n",
       "E5 - -:|> E3 [[psysml:3c7344fe-e5a7-4cb3-b89e-76f05a842583 ]] \r\n",
       "E5 o- - \"1\"E6 [[psysml:5ab2eb8f-0a8a-4f0f-b519-13b72bd8ef83 ]] \r\n",
       "E6 - -||> E4 [[psysml:36152a88-3fda-40f3-9b03-bfa5e7f7b410 ]] \r\n",
       "E7 - -:|> E3 [[psysml:e547b523-e8e9-4ecd-8c51-8b63037972c5 ]] \r\n",
       "E7 o- - \"1\"E8 [[psysml:b237ade3-489d-4fd0-9379-0b86f0889901 ]] \r\n",
       "E7 +.. \"1\"E8 [[psysml:7018d996-601d-4a38-842d-acb296e8ea77 ]] \r\n",
       "E6 -[thickness=3]- \"*\"E8 [[psysml:1ea7862a-7bab-4478-95a9-37aa2484c274 ]] \r\n",
       "E6 -[thickness=3]- \"*\"E8 [[psysml:1e1521f0-84d2-4d6c-a787-5301105b41c5 ]] \r\n",
       "@enduml\r\n",
       "\n",
       "PlantUML version 1.2020.13(Sat Jun 13 12:26:38 UTC 2020)\n",
       "(EPL source distribution)\n",
       "Java Runtime: OpenJDK Runtime Environment\n",
       "JVM: OpenJDK 64-Bit Server VM\n",
       "Default Encoding: UTF-8\n",
       "Language: en\n",
       "Country: null\n",
       "--></g></svg>"
      ]
     },
     "execution_count": 15,
     "metadata": {},
     "output_type": "execute_result"
    }
   ],
   "source": [
    "%viz --style=\"POLYLINE\" --view=\"MIXED\" \"AliasTest\""
   ]
  },
  {
   "cell_type": "code",
   "execution_count": 16,
   "id": "651aa53d",
   "metadata": {
    "execution": {
     "iopub.execute_input": "2021-10-03T08:30:10.612405Z",
     "iopub.status.busy": "2021-10-03T08:30:10.611999Z",
     "iopub.status.idle": "2021-10-03T08:30:10.658216Z",
     "shell.execute_reply": "2021-10-03T08:30:10.657859Z"
    }
   },
   "outputs": [
    {
     "data": {
      "image/svg+xml": [
       "<?xml version=\"1.0\" encoding=\"UTF-8\" standalone=\"no\"?><svg xmlns=\"http://www.w3.org/2000/svg\" xmlns:xlink=\"http://www.w3.org/1999/xlink\" contentScriptType=\"application/ecmascript\" contentStyleType=\"text/css\" height=\"277px\" preserveAspectRatio=\"none\" style=\"width:373px;height:277px;\" version=\"1.1\" viewBox=\"0 0 373 277\" width=\"373px\" zoomAndPan=\"magnify\"><defs/><g><!--MD5=[fbc87193dbaf4d95561dea2c320d4a47]\n",
       "cluster E1--><a href=\"psysml:c9a65f38-ba0f-435c-ac18-78f76b0c8149\" target=\"_top\" title=\"psysml:c9a65f38-ba0f-435c-ac18-78f76b0c8149\" xlink:actuate=\"onRequest\" xlink:href=\"psysml:c9a65f38-ba0f-435c-ac18-78f76b0c8149\" xlink:show=\"new\" xlink:title=\"psysml:c9a65f38-ba0f-435c-ac18-78f76b0c8149\" xlink:type=\"simple\"><polygon fill=\"#FFFFFF\" points=\"16,6,84,6,91,28.2969,351,28.2969,351,265,16,265,16,6\" style=\"stroke: #000000; stroke-width: 1.5;\"/><line style=\"stroke: #000000; stroke-width: 1.5;\" x1=\"16\" x2=\"91\" y1=\"28.2969\" y2=\"28.2969\"/><text fill=\"#000000\" font-family=\"sans-serif\" font-size=\"14\" font-weight=\"bold\" lengthAdjust=\"spacingAndGlyphs\" textLength=\"62\" x=\"20\" y=\"20.9951\">AliasTest</text></a><!--MD5=[b4997ac47864f28c2f74865a473b2911]\n",
       "class E2--><a href=\"psysml:252bcdae-bf35-4751-96e5-d2689f20556e\" target=\"_top\" title=\"psysml:252bcdae-bf35-4751-96e5-d2689f20556e\" xlink:actuate=\"onRequest\" xlink:href=\"psysml:252bcdae-bf35-4751-96e5-d2689f20556e\" xlink:show=\"new\" xlink:title=\"psysml:252bcdae-bf35-4751-96e5-d2689f20556e\" xlink:type=\"simple\"><rect fill=\"#FFFFFF\" height=\"45.9375\" id=\"E2\" rx=\"10\" ry=\"10\" style=\"stroke: #383838; stroke-width: 1.5;\" width=\"71\" x=\"32\" y=\"41\"/><text fill=\"#000000\" font-family=\"sans-serif\" font-size=\"12\" font-style=\"italic\" lengthAdjust=\"spacingAndGlyphs\" textLength=\"69\" x=\"33\" y=\"57.1387\">«attribute»</text><text fill=\"#000000\" font-family=\"sans-serif\" font-size=\"12\" lengthAdjust=\"spacingAndGlyphs\" textLength=\"8\" x=\"63.5\" y=\"71.1074\">q</text><line style=\"stroke: #383838; stroke-width: 1.5;\" x1=\"33\" x2=\"102\" y1=\"78.9375\" y2=\"78.9375\"/></a><!--MD5=[09b614a08d8cba4a07c9adeb5e0fee81]\n",
       "class E3--><a href=\"psysml:6d109465-d99f-46f9-9a55-615eadc52ec3\" target=\"_top\" title=\"psysml:6d109465-d99f-46f9-9a55-615eadc52ec3\" xlink:actuate=\"onRequest\" xlink:href=\"psysml:6d109465-d99f-46f9-9a55-615eadc52ec3\" xlink:show=\"new\" xlink:title=\"psysml:6d109465-d99f-46f9-9a55-615eadc52ec3\" xlink:type=\"simple\"><rect fill=\"#FFFFFF\" height=\"45.9375\" id=\"E3\" style=\"stroke: #383838; stroke-width: 1.5;\" width=\"66\" x=\"163\" y=\"63\"/><text fill=\"#000000\" font-family=\"sans-serif\" font-size=\"12\" font-style=\"italic\" lengthAdjust=\"spacingAndGlyphs\" textLength=\"64\" x=\"164\" y=\"79.1387\">«part def»</text><text fill=\"#000000\" font-family=\"sans-serif\" font-size=\"12\" lengthAdjust=\"spacingAndGlyphs\" textLength=\"16\" x=\"188\" y=\"93.1074\">P1</text><line style=\"stroke: #383838; stroke-width: 1.5;\" x1=\"164\" x2=\"228\" y1=\"100.9375\" y2=\"100.9375\"/></a><!--MD5=[ebbe1d658d1005bcc118a6aa81145e00]\n",
       "class E4--><a href=\"psysml:07c215ea-3a50-4500-a498-5909961b01ab\" target=\"_top\" title=\"psysml:07c215ea-3a50-4500-a498-5909961b01ab\" xlink:actuate=\"onRequest\" xlink:href=\"psysml:07c215ea-3a50-4500-a498-5909961b01ab\" xlink:show=\"new\" xlink:title=\"psysml:07c215ea-3a50-4500-a498-5909961b01ab\" xlink:type=\"simple\"><rect fill=\"#FFFFFF\" height=\"45.9375\" id=\"E4\" rx=\"10\" ry=\"10\" style=\"stroke: #383838; stroke-width: 1.5;\" width=\"46\" x=\"289\" y=\"63\"/><text fill=\"#000000\" font-family=\"sans-serif\" font-size=\"12\" font-style=\"italic\" lengthAdjust=\"spacingAndGlyphs\" textLength=\"40\" x=\"292\" y=\"79.1387\">«port»</text><text fill=\"#000000\" font-family=\"sans-serif\" font-size=\"12\" lengthAdjust=\"spacingAndGlyphs\" textLength=\"40\" x=\"292\" y=\"93.1074\">porig1</text><line style=\"stroke: #383838; stroke-width: 1.5;\" x1=\"290\" x2=\"334\" y1=\"100.9375\" y2=\"100.9375\"/></a><!--MD5=[270fce915f116d4de14055a7c1d9a0f3]\n",
       "class E5--><a href=\"psysml:4b72c15b-2565-4f84-9632-f618b5b9807b\" target=\"_top\" title=\"psysml:4b72c15b-2565-4f84-9632-f618b5b9807b\" xlink:actuate=\"onRequest\" xlink:href=\"psysml:4b72c15b-2565-4f84-9632-f618b5b9807b\" xlink:show=\"new\" xlink:title=\"psysml:4b72c15b-2565-4f84-9632-f618b5b9807b\" xlink:type=\"simple\"><rect fill=\"#FFFFFF\" height=\"45.9375\" id=\"E5\" rx=\"10\" ry=\"10\" style=\"stroke: #383838; stroke-width: 1.5;\" width=\"46\" x=\"44.5\" y=\"122\"/><text fill=\"#000000\" font-family=\"sans-serif\" font-size=\"12\" font-style=\"italic\" lengthAdjust=\"spacingAndGlyphs\" textLength=\"40\" x=\"47.5\" y=\"138.1387\">«part»</text><text fill=\"#000000\" font-family=\"sans-serif\" font-size=\"12\" lengthAdjust=\"spacingAndGlyphs\" textLength=\"40\" x=\"47.5\" y=\"152.1074\">p1: P1</text><line style=\"stroke: #383838; stroke-width: 1.5;\" x1=\"45.5\" x2=\"89.5\" y1=\"159.9375\" y2=\"159.9375\"/></a><!--MD5=[60a26617385b1d2d0262a64233df1f8d]\n",
       "class E6--><a href=\"psysml:653cf2de-fd63-4b48-a4f2-812bd043bef4\" target=\"_top\" title=\"psysml:653cf2de-fd63-4b48-a4f2-812bd043bef4\" xlink:actuate=\"onRequest\" xlink:href=\"psysml:653cf2de-fd63-4b48-a4f2-812bd043bef4\" xlink:show=\"new\" xlink:title=\"psysml:653cf2de-fd63-4b48-a4f2-812bd043bef4\" xlink:type=\"simple\"><rect fill=\"#FFFFFF\" height=\"45.9375\" id=\"E6\" rx=\"10\" ry=\"10\" style=\"stroke: #383838; stroke-width: 1.5;\" width=\"42\" x=\"175\" y=\"144\"/><text fill=\"#000000\" font-family=\"sans-serif\" font-size=\"12\" font-style=\"italic\" lengthAdjust=\"spacingAndGlyphs\" textLength=\"40\" x=\"176\" y=\"160.1387\">«port»</text><text fill=\"#000000\" font-family=\"sans-serif\" font-size=\"12\" lengthAdjust=\"spacingAndGlyphs\" textLength=\"24\" x=\"184\" y=\"174.1074\">po1</text><line style=\"stroke: #383838; stroke-width: 1.5;\" x1=\"176\" x2=\"216\" y1=\"181.9375\" y2=\"181.9375\"/></a><!--MD5=[2156ba9850f5573cc1fc38a6a4b2f02b]\n",
       "class E7--><a href=\"psysml:a2155965-1e3e-41f3-b3b0-5a1ed18f6b31\" target=\"_top\" title=\"psysml:a2155965-1e3e-41f3-b3b0-5a1ed18f6b31\" xlink:actuate=\"onRequest\" xlink:href=\"psysml:a2155965-1e3e-41f3-b3b0-5a1ed18f6b31\" xlink:show=\"new\" xlink:title=\"psysml:a2155965-1e3e-41f3-b3b0-5a1ed18f6b31\" xlink:type=\"simple\"><rect fill=\"#FFFFFF\" height=\"45.9375\" id=\"E7\" rx=\"10\" ry=\"10\" style=\"stroke: #383838; stroke-width: 1.5;\" width=\"46\" x=\"44.5\" y=\"203\"/><text fill=\"#000000\" font-family=\"sans-serif\" font-size=\"12\" font-style=\"italic\" lengthAdjust=\"spacingAndGlyphs\" textLength=\"40\" x=\"47.5\" y=\"219.1387\">«part»</text><text fill=\"#000000\" font-family=\"sans-serif\" font-size=\"12\" lengthAdjust=\"spacingAndGlyphs\" textLength=\"40\" x=\"47.5\" y=\"233.1074\">p2: P1</text><line style=\"stroke: #383838; stroke-width: 1.5;\" x1=\"45.5\" x2=\"89.5\" y1=\"240.9375\" y2=\"240.9375\"/></a><!--MD5=[b9389687b975829384b498ac4b7476b2]\n",
       "class E8--><a href=\"psysml:44ed1293-6fc3-4c15-bfe8-a6e98039e875\" target=\"_top\" title=\"psysml:44ed1293-6fc3-4c15-bfe8-a6e98039e875\" xlink:actuate=\"onRequest\" xlink:href=\"psysml:44ed1293-6fc3-4c15-bfe8-a6e98039e875\" xlink:show=\"new\" xlink:title=\"psysml:44ed1293-6fc3-4c15-bfe8-a6e98039e875\" xlink:type=\"simple\"><rect fill=\"#FFFFFF\" height=\"45.9375\" id=\"E8\" rx=\"10\" ry=\"10\" style=\"stroke: #383838; stroke-width: 1.5;\" width=\"42\" x=\"291\" y=\"173\"/><text fill=\"#000000\" font-family=\"sans-serif\" font-size=\"12\" font-style=\"italic\" lengthAdjust=\"spacingAndGlyphs\" textLength=\"40\" x=\"292\" y=\"189.1387\">«port»</text><text fill=\"#000000\" font-family=\"sans-serif\" font-size=\"12\" lengthAdjust=\"spacingAndGlyphs\" textLength=\"36\" x=\"294\" y=\"203.1074\">pdest</text><line style=\"stroke: #383838; stroke-width: 1.5;\" x1=\"292\" x2=\"332\" y1=\"210.9375\" y2=\"210.9375\"/></a><!--MD5=[4672eba38e49728da53d11aeb285b987]\n",
       "reverse link E3 to E4--><a href=\"psysml:c0c56757-3d44-421f-b231-ed3c3f6cca2a\" target=\"_top\" title=\"psysml:c0c56757-3d44-421f-b231-ed3c3f6cca2a\" xlink:actuate=\"onRequest\" xlink:href=\"psysml:c0c56757-3d44-421f-b231-ed3c3f6cca2a\" xlink:show=\"new\" xlink:title=\"psysml:c0c56757-3d44-421f-b231-ed3c3f6cca2a\" xlink:type=\"simple\"><path d=\"M242.14,98.5 C258.23,99.18 275.63,98.46 288.92,96.33 \" fill=\"none\" id=\"E3&lt;-E4\" style=\"stroke: #383838; stroke-width: 1.0;\"/><polygon fill=\"#FFFFFF\" points=\"229.06,97.6,234.7687,102.0057,241.0312,98.4306,235.3225,94.0249,229.06,97.6\" style=\"stroke: #383838; stroke-width: 1.0;\"/><text fill=\"#000000\" font-family=\"sans-serif\" font-size=\"13\" lengthAdjust=\"spacingAndGlyphs\" textLength=\"8\" x=\"272.9653\" y=\"113.6631\">1</text></a><!--MD5=[4672eba38e49728da53d11aeb285b987]\n",
       "reverse link E3 to E4--><a href=\"psysml:baeef3bb-efbd-4f79-8bec-1b43bb5efd8f\" target=\"_top\" title=\"psysml:baeef3bb-efbd-4f79-8bec-1b43bb5efd8f\" xlink:actuate=\"onRequest\" xlink:href=\"psysml:baeef3bb-efbd-4f79-8bec-1b43bb5efd8f\" xlink:show=\"new\" xlink:title=\"psysml:baeef3bb-efbd-4f79-8bec-1b43bb5efd8f\" xlink:type=\"simple\"><path d=\"M244.08,72.68 C259.61,72.1 276.16,72.9 288.92,75.07 \" fill=\"none\" id=\"E3&lt;-E4-1\" style=\"stroke: #383838; stroke-width: 1.0; stroke-dasharray: 7.0,7.0;\"/><ellipse cx=\"237.0406\" cy=\"73.1636\" fill=\"#FFFFFF\" rx=\"8\" ry=\"8\" style=\"stroke: #383838; stroke-width: 1.0;\"/><line style=\"stroke: #383838; stroke-width: 1.0;\" x1=\"245.0213\" x2=\"229.06\" y1=\"72.6071\" y2=\"73.72\"/><line style=\"stroke: #383838; stroke-width: 1.0;\" x1=\"237.5971\" x2=\"236.4842\" y1=\"81.1442\" y2=\"65.1829\"/><text fill=\"#000000\" font-family=\"sans-serif\" font-size=\"13\" lengthAdjust=\"spacingAndGlyphs\" textLength=\"8\" x=\"272.9653\" y=\"86.158\">1</text></a><!--MD5=[e9be52314489bd878ff4c7144b63c9e1]\n",
       "link E5 to E3--><a href=\"psysml:3c7344fe-e5a7-4cb3-b89e-76f05a842583\" target=\"_top\" title=\"psysml:3c7344fe-e5a7-4cb3-b89e-76f05a842583\" xlink:actuate=\"onRequest\" xlink:href=\"psysml:3c7344fe-e5a7-4cb3-b89e-76f05a842583\" xlink:show=\"new\" xlink:title=\"psysml:3c7344fe-e5a7-4cb3-b89e-76f05a842583\" xlink:type=\"simple\"><path d=\"M90.53,134.72 C105.43,127.78 125.72,118.31 144.46,109.57 \" fill=\"none\" id=\"E5-&gt;E3\" style=\"stroke: #383838; stroke-width: 1.0;\"/><polygon fill=\"#FFFFFF\" points=\"162.78,101.03,148.5252,115.4106,142.6026,102.725,162.78,101.03\" style=\"stroke: #383838; stroke-width: 1.0;\"/><ellipse cx=\"142.5143\" cy=\"116.0097\" fill=\"#383838\" rx=\"2\" ry=\"2\" style=\"stroke: #383838; stroke-width: 1.0;\"/><ellipse cx=\"138.2839\" cy=\"106.9486\" fill=\"#383838\" rx=\"2\" ry=\"2\" style=\"stroke: #383838; stroke-width: 1.0;\"/></a><!--MD5=[85d356282659285ab4b2cfe2f634dd2b]\n",
       "reverse link E5 to E6--><a href=\"psysml:5ab2eb8f-0a8a-4f0f-b519-13b72bd8ef83\" target=\"_top\" title=\"psysml:5ab2eb8f-0a8a-4f0f-b519-13b72bd8ef83\" xlink:actuate=\"onRequest\" xlink:href=\"psysml:5ab2eb8f-0a8a-4f0f-b519-13b72bd8ef83\" xlink:show=\"new\" xlink:title=\"psysml:5ab2eb8f-0a8a-4f0f-b519-13b72bd8ef83\" xlink:type=\"simple\"><path d=\"M103.55,151.1 C126.53,155.09 155.74,160.17 174.89,163.5 \" fill=\"none\" id=\"E5&lt;-E6\" style=\"stroke: #383838; stroke-width: 1.0;\"/><polygon fill=\"#FFFFFF\" points=\"90.53,148.83,95.755,153.7999,102.3522,150.8883,97.1272,145.9184,90.53,148.83\" style=\"stroke: #383838; stroke-width: 1.0;\"/><text fill=\"#000000\" font-family=\"sans-serif\" font-size=\"13\" lengthAdjust=\"spacingAndGlyphs\" textLength=\"8\" x=\"158.8862\" y=\"176.873\">1</text></a><!--MD5=[f667431f98296947986a1a7595a31603]\n",
       "link E6 to E4--><a href=\"psysml:36152a88-3fda-40f3-9b03-bfa5e7f7b410\" target=\"_top\" title=\"psysml:36152a88-3fda-40f3-9b03-bfa5e7f7b410\" xlink:actuate=\"onRequest\" xlink:href=\"psysml:36152a88-3fda-40f3-9b03-bfa5e7f7b410\" xlink:show=\"new\" xlink:title=\"psysml:36152a88-3fda-40f3-9b03-bfa5e7f7b410\" xlink:type=\"simple\"><path d=\"M217.12,152.71 C232.33,141.9 253.68,126.73 272.18,113.59 \" fill=\"none\" id=\"E6-&gt;E4\" style=\"stroke: #383838; stroke-width: 1.0;\"/><polygon fill=\"#FFFFFF\" points=\"288.74,101.81,277.2991,118.5165,269.1949,107.1006,288.74,101.81\" style=\"stroke: #383838; stroke-width: 1.0;\"/><line style=\"stroke: #383838; stroke-width: 2.0;\" x1=\"274.2005\" x2=\"266.0963\" y1=\"120.7162\" y2=\"109.3003\"/></a><!--MD5=[14ccda38c055a5c0da953d572bc50960]\n",
       "link E7 to E3--><a href=\"psysml:e547b523-e8e9-4ecd-8c51-8b63037972c5\" target=\"_top\" title=\"psysml:e547b523-e8e9-4ecd-8c51-8b63037972c5\" xlink:actuate=\"onRequest\" xlink:href=\"psysml:e547b523-e8e9-4ecd-8c51-8b63037972c5\" xlink:show=\"new\" xlink:title=\"psysml:e547b523-e8e9-4ecd-8c51-8b63037972c5\" xlink:type=\"simple\"><path d=\"M89.39,202.88 C108.71,181.5 137.78,149.32 160.54,124.14 \" fill=\"none\" id=\"E7-&gt;E3\" style=\"stroke: #383838; stroke-width: 1.0;\"/><polygon fill=\"#FFFFFF\" points=\"174.08,109.15,166.5338,127.9398,156.1471,118.5527,174.08,109.15\" style=\"stroke: #383838; stroke-width: 1.0;\"/><ellipse cx=\"161.2281\" cy=\"130.8276\" fill=\"#383838\" rx=\"2\" ry=\"2\" style=\"stroke: #383838; stroke-width: 1.0;\"/><ellipse cx=\"153.8091\" cy=\"124.1226\" fill=\"#383838\" rx=\"2\" ry=\"2\" style=\"stroke: #383838; stroke-width: 1.0;\"/></a><!--MD5=[dc164f5e8a733ab456ef1add180e9e34]\n",
       "reverse link E7 to E8--><a href=\"psysml:b237ade3-489d-4fd0-9379-0b86f0889901\" target=\"_top\" title=\"psysml:b237ade3-489d-4fd0-9379-0b86f0889901\" xlink:actuate=\"onRequest\" xlink:href=\"psysml:b237ade3-489d-4fd0-9379-0b86f0889901\" xlink:show=\"new\" xlink:title=\"psysml:b237ade3-489d-4fd0-9379-0b86f0889901\" xlink:type=\"simple\"><path d=\"M103.83,235.23 C136.36,235.24 185.96,229.43 229,224 C250.09,221.34 274.2,218.08 290.79,212.51 \" fill=\"none\" id=\"E7&lt;-E8\" style=\"stroke: #383838; stroke-width: 1.0;\"/><polygon fill=\"#FFFFFF\" points=\"90.58,234.83,96.4586,239.0064,102.5747,235.1863,96.6961,231.0099,90.58,234.83\" style=\"stroke: #383838; stroke-width: 1.0;\"/><text fill=\"#000000\" font-family=\"sans-serif\" font-size=\"13\" lengthAdjust=\"spacingAndGlyphs\" textLength=\"8\" x=\"275.0694\" y=\"231.9599\">1</text></a><!--MD5=[dc164f5e8a733ab456ef1add180e9e34]\n",
       "reverse link E7 to E8--><a href=\"psysml:7018d996-601d-4a38-842d-acb296e8ea77\" target=\"_top\" title=\"psysml:7018d996-601d-4a38-842d-acb296e8ea77\" xlink:actuate=\"onRequest\" xlink:href=\"psysml:7018d996-601d-4a38-842d-acb296e8ea77\" xlink:show=\"new\" xlink:title=\"psysml:7018d996-601d-4a38-842d-acb296e8ea77\" xlink:type=\"simple\"><path d=\"M105.15,207.63 C137.69,200.08 186.54,194.36 229,189 C250.09,186.34 274.2,183.08 290.79,184.28 \" fill=\"none\" id=\"E7&lt;-E8-1\" style=\"stroke: #383838; stroke-width: 1.0; stroke-dasharray: 7.0,7.0;\"/><ellipse cx=\"98.3111\" cy=\"209.4434\" fill=\"#FFFFFF\" rx=\"8\" ry=\"8\" style=\"stroke: #383838; stroke-width: 1.0;\"/><line style=\"stroke: #383838; stroke-width: 1.0;\" x1=\"106.0423\" x2=\"90.58\" y1=\"207.3869\" y2=\"211.5\"/><line style=\"stroke: #383838; stroke-width: 1.0;\" x1=\"100.3677\" x2=\"96.2546\" y1=\"217.1746\" y2=\"201.7123\"/><text fill=\"#000000\" font-family=\"sans-serif\" font-size=\"13\" lengthAdjust=\"spacingAndGlyphs\" textLength=\"8\" x=\"275.0694\" y=\"175.4907\">1</text></a><!--MD5=[0a839d0f80c2d72d4b9b307f046d0de8]\n",
       "link E6 to E8--><a href=\"psysml:1ea7862a-7bab-4478-95a9-37aa2484c274\" target=\"_top\" title=\"psysml:1ea7862a-7bab-4478-95a9-37aa2484c274\" xlink:actuate=\"onRequest\" xlink:href=\"psysml:1ea7862a-7bab-4478-95a9-37aa2484c274\" xlink:show=\"new\" xlink:title=\"psysml:1ea7862a-7bab-4478-95a9-37aa2484c274\" xlink:type=\"simple\"><path d=\"M217.12,182.11 C237.83,191.04 269.92,199.22 290.7,200.86 \" fill=\"none\" id=\"E6-E8\" style=\"stroke: #383838; stroke-width: 3.0;\"/><text fill=\"#000000\" font-family=\"sans-serif\" font-size=\"13\" lengthAdjust=\"spacingAndGlyphs\" textLength=\"7\" x=\"276.105\" y=\"216.7421\">*</text></a><!--MD5=[0a839d0f80c2d72d4b9b307f046d0de8]\n",
       "link E6 to E8--><a href=\"psysml:1e1521f0-84d2-4d6c-a787-5301105b41c5\" target=\"_top\" title=\"psysml:1e1521f0-84d2-4d6c-a787-5301105b41c5\" xlink:actuate=\"onRequest\" xlink:href=\"psysml:1e1521f0-84d2-4d6c-a787-5301105b41c5\" xlink:show=\"new\" xlink:title=\"psysml:1e1521f0-84d2-4d6c-a787-5301105b41c5\" xlink:type=\"simple\"><path d=\"M217.12,161.53 C237.83,162.93 269.92,171.08 290.7,180.22 \" fill=\"none\" id=\"E6-E8-1\" style=\"stroke: #383838; stroke-width: 3.0;\"/><text fill=\"#000000\" font-family=\"sans-serif\" font-size=\"13\" lengthAdjust=\"spacingAndGlyphs\" textLength=\"7\" x=\"276.105\" y=\"189.7811\">*</text></a><!--MD5=[8d17278f9179e3a6528ee706394a86e6]\n",
       "@startuml\r\n",
       "left to right direction\r\n",
       "skinparam monochrome true\r\n",
       "skinparam classbackgroundcolor white\r\n",
       "skinparam shadowing false\r\n",
       "skinparam wrapWidth 300\r\n",
       "hide circle\r\n",
       "\r\n",
       "package \"AliasTest\" as E1  [[psysml:c9a65f38-ba0f-435c-ac18-78f76b0c8149 ]]  {\r\n",
       "comp usage \"q\" as E2  <<(T,blue) attribute>> [[psysml:252bcdae-bf35-4751-96e5-d2689f20556e ]] {\r\n",
       "}\r\n",
       "comp def \"P1\" as E3  <<(T,blue) part def>> [[psysml:6d109465-d99f-46f9-9a55-615eadc52ec3 ]] {\r\n",
       "}\r\n",
       "comp usage \"porig1\" as E4  <<(T,blue) port>> [[psysml:07c215ea-3a50-4500-a498-5909961b01ab ]] {\r\n",
       "}\r\n",
       "comp usage \"p1: P1\" as E5  <<(T,blue) part>> [[psysml:4b72c15b-2565-4f84-9632-f618b5b9807b ]] {\r\n",
       "}\r\n",
       "comp usage \"po1\" as E6  <<(T,blue) port>> [[psysml:653cf2de-fd63-4b48-a4f2-812bd043bef4 ]] {\r\n",
       "}\r\n",
       "comp usage \"p2: P1\" as E7  <<(T,blue) part>> [[psysml:a2155965-1e3e-41f3-b3b0-5a1ed18f6b31 ]] {\r\n",
       "}\r\n",
       "comp usage \"pdest\" as E8  <<(T,blue) port>> [[psysml:44ed1293-6fc3-4c15-bfe8-a6e98039e875 ]] {\r\n",
       "}\r\n",
       "}\r\n",
       "E3 o- - \"1\"E4 [[psysml:c0c56757-3d44-421f-b231-ed3c3f6cca2a ]] \r\n",
       "E3 +.. \"1\"E4 [[psysml:baeef3bb-efbd-4f79-8bec-1b43bb5efd8f ]] \r\n",
       "E5 - -:|> E3 [[psysml:3c7344fe-e5a7-4cb3-b89e-76f05a842583 ]] \r\n",
       "E5 o- - \"1\"E6 [[psysml:5ab2eb8f-0a8a-4f0f-b519-13b72bd8ef83 ]] \r\n",
       "E6 - -||> E4 [[psysml:36152a88-3fda-40f3-9b03-bfa5e7f7b410 ]] \r\n",
       "E7 - -:|> E3 [[psysml:e547b523-e8e9-4ecd-8c51-8b63037972c5 ]] \r\n",
       "E7 o- - \"1\"E8 [[psysml:b237ade3-489d-4fd0-9379-0b86f0889901 ]] \r\n",
       "E7 +.. \"1\"E8 [[psysml:7018d996-601d-4a38-842d-acb296e8ea77 ]] \r\n",
       "E6 -[thickness=3]- \"*\"E8 [[psysml:1ea7862a-7bab-4478-95a9-37aa2484c274 ]] \r\n",
       "E6 -[thickness=3]- \"*\"E8 [[psysml:1e1521f0-84d2-4d6c-a787-5301105b41c5 ]] \r\n",
       "@enduml\r\n",
       "\n",
       "PlantUML version 1.2020.13(Sat Jun 13 12:26:38 UTC 2020)\n",
       "(EPL source distribution)\n",
       "Java Runtime: OpenJDK Runtime Environment\n",
       "JVM: OpenJDK 64-Bit Server VM\n",
       "Default Encoding: UTF-8\n",
       "Language: en\n",
       "Country: null\n",
       "--></g></svg>"
      ]
     },
     "execution_count": 16,
     "metadata": {},
     "output_type": "execute_result"
    }
   ],
   "source": [
    "%viz --style=\"LR\" --view=\"Default\" \"AliasTest\""
   ]
  },
  {
   "cell_type": "code",
   "execution_count": 17,
   "id": "feb29b57",
   "metadata": {
    "execution": {
     "iopub.execute_input": "2021-10-03T08:30:10.707735Z",
     "iopub.status.busy": "2021-10-03T08:30:10.707332Z",
     "iopub.status.idle": "2021-10-03T08:30:10.750859Z",
     "shell.execute_reply": "2021-10-03T08:30:10.750497Z"
    }
   },
   "outputs": [
    {
     "data": {
      "image/svg+xml": [
       "<?xml version=\"1.0\" encoding=\"UTF-8\" standalone=\"no\"?><svg xmlns=\"http://www.w3.org/2000/svg\" xmlns:xlink=\"http://www.w3.org/1999/xlink\" contentScriptType=\"application/ecmascript\" contentStyleType=\"text/css\" height=\"277px\" preserveAspectRatio=\"none\" style=\"width:373px;height:277px;\" version=\"1.1\" viewBox=\"0 0 373 277\" width=\"373px\" zoomAndPan=\"magnify\"><defs/><g><!--MD5=[fbc87193dbaf4d95561dea2c320d4a47]\n",
       "cluster E1--><a href=\"psysml:c9a65f38-ba0f-435c-ac18-78f76b0c8149\" target=\"_top\" title=\"psysml:c9a65f38-ba0f-435c-ac18-78f76b0c8149\" xlink:actuate=\"onRequest\" xlink:href=\"psysml:c9a65f38-ba0f-435c-ac18-78f76b0c8149\" xlink:show=\"new\" xlink:title=\"psysml:c9a65f38-ba0f-435c-ac18-78f76b0c8149\" xlink:type=\"simple\"><polygon fill=\"#FFFFFF\" points=\"16,6,84,6,91,28.2969,351,28.2969,351,265,16,265,16,6\" style=\"stroke: #000000; stroke-width: 1.5;\"/><line style=\"stroke: #000000; stroke-width: 1.5;\" x1=\"16\" x2=\"91\" y1=\"28.2969\" y2=\"28.2969\"/><text fill=\"#000000\" font-family=\"sans-serif\" font-size=\"14\" font-weight=\"bold\" lengthAdjust=\"spacingAndGlyphs\" textLength=\"62\" x=\"20\" y=\"20.9951\">AliasTest</text></a><!--MD5=[b4997ac47864f28c2f74865a473b2911]\n",
       "class E2--><a href=\"psysml:252bcdae-bf35-4751-96e5-d2689f20556e\" target=\"_top\" title=\"psysml:252bcdae-bf35-4751-96e5-d2689f20556e\" xlink:actuate=\"onRequest\" xlink:href=\"psysml:252bcdae-bf35-4751-96e5-d2689f20556e\" xlink:show=\"new\" xlink:title=\"psysml:252bcdae-bf35-4751-96e5-d2689f20556e\" xlink:type=\"simple\"><rect fill=\"#FFFFFF\" height=\"45.9375\" id=\"E2\" rx=\"10\" ry=\"10\" style=\"stroke: #383838; stroke-width: 1.5;\" width=\"71\" x=\"32\" y=\"41\"/><text fill=\"#000000\" font-family=\"sans-serif\" font-size=\"12\" font-style=\"italic\" lengthAdjust=\"spacingAndGlyphs\" textLength=\"69\" x=\"33\" y=\"57.1387\">«attribute»</text><text fill=\"#000000\" font-family=\"sans-serif\" font-size=\"12\" lengthAdjust=\"spacingAndGlyphs\" textLength=\"8\" x=\"63.5\" y=\"71.1074\">q</text><line style=\"stroke: #383838; stroke-width: 1.5;\" x1=\"33\" x2=\"102\" y1=\"78.9375\" y2=\"78.9375\"/></a><!--MD5=[09b614a08d8cba4a07c9adeb5e0fee81]\n",
       "class E3--><a href=\"psysml:6d109465-d99f-46f9-9a55-615eadc52ec3\" target=\"_top\" title=\"psysml:6d109465-d99f-46f9-9a55-615eadc52ec3\" xlink:actuate=\"onRequest\" xlink:href=\"psysml:6d109465-d99f-46f9-9a55-615eadc52ec3\" xlink:show=\"new\" xlink:title=\"psysml:6d109465-d99f-46f9-9a55-615eadc52ec3\" xlink:type=\"simple\"><rect fill=\"#FFFFFF\" height=\"45.9375\" id=\"E3\" style=\"stroke: #383838; stroke-width: 1.5;\" width=\"66\" x=\"163\" y=\"63\"/><text fill=\"#000000\" font-family=\"sans-serif\" font-size=\"12\" font-style=\"italic\" lengthAdjust=\"spacingAndGlyphs\" textLength=\"64\" x=\"164\" y=\"79.1387\">«part def»</text><text fill=\"#000000\" font-family=\"sans-serif\" font-size=\"12\" lengthAdjust=\"spacingAndGlyphs\" textLength=\"16\" x=\"188\" y=\"93.1074\">P1</text><line style=\"stroke: #383838; stroke-width: 1.5;\" x1=\"164\" x2=\"228\" y1=\"100.9375\" y2=\"100.9375\"/></a><!--MD5=[ebbe1d658d1005bcc118a6aa81145e00]\n",
       "class E4--><a href=\"psysml:07c215ea-3a50-4500-a498-5909961b01ab\" target=\"_top\" title=\"psysml:07c215ea-3a50-4500-a498-5909961b01ab\" xlink:actuate=\"onRequest\" xlink:href=\"psysml:07c215ea-3a50-4500-a498-5909961b01ab\" xlink:show=\"new\" xlink:title=\"psysml:07c215ea-3a50-4500-a498-5909961b01ab\" xlink:type=\"simple\"><rect fill=\"#FFFFFF\" height=\"45.9375\" id=\"E4\" rx=\"10\" ry=\"10\" style=\"stroke: #383838; stroke-width: 1.5;\" width=\"46\" x=\"289\" y=\"63\"/><text fill=\"#000000\" font-family=\"sans-serif\" font-size=\"12\" font-style=\"italic\" lengthAdjust=\"spacingAndGlyphs\" textLength=\"40\" x=\"292\" y=\"79.1387\">«port»</text><text fill=\"#000000\" font-family=\"sans-serif\" font-size=\"12\" lengthAdjust=\"spacingAndGlyphs\" textLength=\"40\" x=\"292\" y=\"93.1074\">porig1</text><line style=\"stroke: #383838; stroke-width: 1.5;\" x1=\"290\" x2=\"334\" y1=\"100.9375\" y2=\"100.9375\"/></a><!--MD5=[270fce915f116d4de14055a7c1d9a0f3]\n",
       "class E5--><a href=\"psysml:4b72c15b-2565-4f84-9632-f618b5b9807b\" target=\"_top\" title=\"psysml:4b72c15b-2565-4f84-9632-f618b5b9807b\" xlink:actuate=\"onRequest\" xlink:href=\"psysml:4b72c15b-2565-4f84-9632-f618b5b9807b\" xlink:show=\"new\" xlink:title=\"psysml:4b72c15b-2565-4f84-9632-f618b5b9807b\" xlink:type=\"simple\"><rect fill=\"#FFFFFF\" height=\"45.9375\" id=\"E5\" rx=\"10\" ry=\"10\" style=\"stroke: #383838; stroke-width: 1.5;\" width=\"46\" x=\"44.5\" y=\"122\"/><text fill=\"#000000\" font-family=\"sans-serif\" font-size=\"12\" font-style=\"italic\" lengthAdjust=\"spacingAndGlyphs\" textLength=\"40\" x=\"47.5\" y=\"138.1387\">«part»</text><text fill=\"#000000\" font-family=\"sans-serif\" font-size=\"12\" lengthAdjust=\"spacingAndGlyphs\" textLength=\"40\" x=\"47.5\" y=\"152.1074\">p1: P1</text><line style=\"stroke: #383838; stroke-width: 1.5;\" x1=\"45.5\" x2=\"89.5\" y1=\"159.9375\" y2=\"159.9375\"/></a><!--MD5=[60a26617385b1d2d0262a64233df1f8d]\n",
       "class E6--><a href=\"psysml:653cf2de-fd63-4b48-a4f2-812bd043bef4\" target=\"_top\" title=\"psysml:653cf2de-fd63-4b48-a4f2-812bd043bef4\" xlink:actuate=\"onRequest\" xlink:href=\"psysml:653cf2de-fd63-4b48-a4f2-812bd043bef4\" xlink:show=\"new\" xlink:title=\"psysml:653cf2de-fd63-4b48-a4f2-812bd043bef4\" xlink:type=\"simple\"><rect fill=\"#FFFFFF\" height=\"45.9375\" id=\"E6\" rx=\"10\" ry=\"10\" style=\"stroke: #383838; stroke-width: 1.5;\" width=\"42\" x=\"175\" y=\"144\"/><text fill=\"#000000\" font-family=\"sans-serif\" font-size=\"12\" font-style=\"italic\" lengthAdjust=\"spacingAndGlyphs\" textLength=\"40\" x=\"176\" y=\"160.1387\">«port»</text><text fill=\"#000000\" font-family=\"sans-serif\" font-size=\"12\" lengthAdjust=\"spacingAndGlyphs\" textLength=\"24\" x=\"184\" y=\"174.1074\">po1</text><line style=\"stroke: #383838; stroke-width: 1.5;\" x1=\"176\" x2=\"216\" y1=\"181.9375\" y2=\"181.9375\"/></a><!--MD5=[2156ba9850f5573cc1fc38a6a4b2f02b]\n",
       "class E7--><a href=\"psysml:a2155965-1e3e-41f3-b3b0-5a1ed18f6b31\" target=\"_top\" title=\"psysml:a2155965-1e3e-41f3-b3b0-5a1ed18f6b31\" xlink:actuate=\"onRequest\" xlink:href=\"psysml:a2155965-1e3e-41f3-b3b0-5a1ed18f6b31\" xlink:show=\"new\" xlink:title=\"psysml:a2155965-1e3e-41f3-b3b0-5a1ed18f6b31\" xlink:type=\"simple\"><rect fill=\"#FFFFFF\" height=\"45.9375\" id=\"E7\" rx=\"10\" ry=\"10\" style=\"stroke: #383838; stroke-width: 1.5;\" width=\"46\" x=\"44.5\" y=\"203\"/><text fill=\"#000000\" font-family=\"sans-serif\" font-size=\"12\" font-style=\"italic\" lengthAdjust=\"spacingAndGlyphs\" textLength=\"40\" x=\"47.5\" y=\"219.1387\">«part»</text><text fill=\"#000000\" font-family=\"sans-serif\" font-size=\"12\" lengthAdjust=\"spacingAndGlyphs\" textLength=\"40\" x=\"47.5\" y=\"233.1074\">p2: P1</text><line style=\"stroke: #383838; stroke-width: 1.5;\" x1=\"45.5\" x2=\"89.5\" y1=\"240.9375\" y2=\"240.9375\"/></a><!--MD5=[b9389687b975829384b498ac4b7476b2]\n",
       "class E8--><a href=\"psysml:44ed1293-6fc3-4c15-bfe8-a6e98039e875\" target=\"_top\" title=\"psysml:44ed1293-6fc3-4c15-bfe8-a6e98039e875\" xlink:actuate=\"onRequest\" xlink:href=\"psysml:44ed1293-6fc3-4c15-bfe8-a6e98039e875\" xlink:show=\"new\" xlink:title=\"psysml:44ed1293-6fc3-4c15-bfe8-a6e98039e875\" xlink:type=\"simple\"><rect fill=\"#FFFFFF\" height=\"45.9375\" id=\"E8\" rx=\"10\" ry=\"10\" style=\"stroke: #383838; stroke-width: 1.5;\" width=\"42\" x=\"291\" y=\"173\"/><text fill=\"#000000\" font-family=\"sans-serif\" font-size=\"12\" font-style=\"italic\" lengthAdjust=\"spacingAndGlyphs\" textLength=\"40\" x=\"292\" y=\"189.1387\">«port»</text><text fill=\"#000000\" font-family=\"sans-serif\" font-size=\"12\" lengthAdjust=\"spacingAndGlyphs\" textLength=\"36\" x=\"294\" y=\"203.1074\">pdest</text><line style=\"stroke: #383838; stroke-width: 1.5;\" x1=\"292\" x2=\"332\" y1=\"210.9375\" y2=\"210.9375\"/></a><!--MD5=[4672eba38e49728da53d11aeb285b987]\n",
       "reverse link E3 to E4--><a href=\"psysml:c0c56757-3d44-421f-b231-ed3c3f6cca2a\" target=\"_top\" title=\"psysml:c0c56757-3d44-421f-b231-ed3c3f6cca2a\" xlink:actuate=\"onRequest\" xlink:href=\"psysml:c0c56757-3d44-421f-b231-ed3c3f6cca2a\" xlink:show=\"new\" xlink:title=\"psysml:c0c56757-3d44-421f-b231-ed3c3f6cca2a\" xlink:type=\"simple\"><path d=\"M242.14,98.5 C258.23,99.18 275.63,98.46 288.92,96.33 \" fill=\"none\" id=\"E3&lt;-E4\" style=\"stroke: #383838; stroke-width: 1.0;\"/><polygon fill=\"#FFFFFF\" points=\"229.06,97.6,234.7687,102.0057,241.0312,98.4306,235.3225,94.0249,229.06,97.6\" style=\"stroke: #383838; stroke-width: 1.0;\"/><text fill=\"#000000\" font-family=\"sans-serif\" font-size=\"13\" lengthAdjust=\"spacingAndGlyphs\" textLength=\"8\" x=\"272.9653\" y=\"113.6631\">1</text></a><!--MD5=[4672eba38e49728da53d11aeb285b987]\n",
       "reverse link E3 to E4--><a href=\"psysml:baeef3bb-efbd-4f79-8bec-1b43bb5efd8f\" target=\"_top\" title=\"psysml:baeef3bb-efbd-4f79-8bec-1b43bb5efd8f\" xlink:actuate=\"onRequest\" xlink:href=\"psysml:baeef3bb-efbd-4f79-8bec-1b43bb5efd8f\" xlink:show=\"new\" xlink:title=\"psysml:baeef3bb-efbd-4f79-8bec-1b43bb5efd8f\" xlink:type=\"simple\"><path d=\"M244.08,72.68 C259.61,72.1 276.16,72.9 288.92,75.07 \" fill=\"none\" id=\"E3&lt;-E4-1\" style=\"stroke: #383838; stroke-width: 1.0; stroke-dasharray: 7.0,7.0;\"/><ellipse cx=\"237.0406\" cy=\"73.1636\" fill=\"#FFFFFF\" rx=\"8\" ry=\"8\" style=\"stroke: #383838; stroke-width: 1.0;\"/><line style=\"stroke: #383838; stroke-width: 1.0;\" x1=\"245.0213\" x2=\"229.06\" y1=\"72.6071\" y2=\"73.72\"/><line style=\"stroke: #383838; stroke-width: 1.0;\" x1=\"237.5971\" x2=\"236.4842\" y1=\"81.1442\" y2=\"65.1829\"/><text fill=\"#000000\" font-family=\"sans-serif\" font-size=\"13\" lengthAdjust=\"spacingAndGlyphs\" textLength=\"8\" x=\"272.9653\" y=\"86.158\">1</text></a><!--MD5=[e9be52314489bd878ff4c7144b63c9e1]\n",
       "link E5 to E3--><a href=\"psysml:3c7344fe-e5a7-4cb3-b89e-76f05a842583\" target=\"_top\" title=\"psysml:3c7344fe-e5a7-4cb3-b89e-76f05a842583\" xlink:actuate=\"onRequest\" xlink:href=\"psysml:3c7344fe-e5a7-4cb3-b89e-76f05a842583\" xlink:show=\"new\" xlink:title=\"psysml:3c7344fe-e5a7-4cb3-b89e-76f05a842583\" xlink:type=\"simple\"><path d=\"M90.53,134.72 C105.43,127.78 125.72,118.31 144.46,109.57 \" fill=\"none\" id=\"E5-&gt;E3\" style=\"stroke: #383838; stroke-width: 1.0;\"/><polygon fill=\"#FFFFFF\" points=\"162.78,101.03,148.5252,115.4106,142.6026,102.725,162.78,101.03\" style=\"stroke: #383838; stroke-width: 1.0;\"/><ellipse cx=\"142.5143\" cy=\"116.0097\" fill=\"#383838\" rx=\"2\" ry=\"2\" style=\"stroke: #383838; stroke-width: 1.0;\"/><ellipse cx=\"138.2839\" cy=\"106.9486\" fill=\"#383838\" rx=\"2\" ry=\"2\" style=\"stroke: #383838; stroke-width: 1.0;\"/></a><!--MD5=[85d356282659285ab4b2cfe2f634dd2b]\n",
       "reverse link E5 to E6--><a href=\"psysml:5ab2eb8f-0a8a-4f0f-b519-13b72bd8ef83\" target=\"_top\" title=\"psysml:5ab2eb8f-0a8a-4f0f-b519-13b72bd8ef83\" xlink:actuate=\"onRequest\" xlink:href=\"psysml:5ab2eb8f-0a8a-4f0f-b519-13b72bd8ef83\" xlink:show=\"new\" xlink:title=\"psysml:5ab2eb8f-0a8a-4f0f-b519-13b72bd8ef83\" xlink:type=\"simple\"><path d=\"M103.55,151.1 C126.53,155.09 155.74,160.17 174.89,163.5 \" fill=\"none\" id=\"E5&lt;-E6\" style=\"stroke: #383838; stroke-width: 1.0;\"/><polygon fill=\"#FFFFFF\" points=\"90.53,148.83,95.755,153.7999,102.3522,150.8883,97.1272,145.9184,90.53,148.83\" style=\"stroke: #383838; stroke-width: 1.0;\"/><text fill=\"#000000\" font-family=\"sans-serif\" font-size=\"13\" lengthAdjust=\"spacingAndGlyphs\" textLength=\"8\" x=\"158.8862\" y=\"176.873\">1</text></a><!--MD5=[f667431f98296947986a1a7595a31603]\n",
       "link E6 to E4--><a href=\"psysml:36152a88-3fda-40f3-9b03-bfa5e7f7b410\" target=\"_top\" title=\"psysml:36152a88-3fda-40f3-9b03-bfa5e7f7b410\" xlink:actuate=\"onRequest\" xlink:href=\"psysml:36152a88-3fda-40f3-9b03-bfa5e7f7b410\" xlink:show=\"new\" xlink:title=\"psysml:36152a88-3fda-40f3-9b03-bfa5e7f7b410\" xlink:type=\"simple\"><path d=\"M217.12,152.71 C232.33,141.9 253.68,126.73 272.18,113.59 \" fill=\"none\" id=\"E6-&gt;E4\" style=\"stroke: #383838; stroke-width: 1.0;\"/><polygon fill=\"#FFFFFF\" points=\"288.74,101.81,277.2991,118.5165,269.1949,107.1006,288.74,101.81\" style=\"stroke: #383838; stroke-width: 1.0;\"/><line style=\"stroke: #383838; stroke-width: 2.0;\" x1=\"274.2005\" x2=\"266.0963\" y1=\"120.7162\" y2=\"109.3003\"/></a><!--MD5=[14ccda38c055a5c0da953d572bc50960]\n",
       "link E7 to E3--><a href=\"psysml:e547b523-e8e9-4ecd-8c51-8b63037972c5\" target=\"_top\" title=\"psysml:e547b523-e8e9-4ecd-8c51-8b63037972c5\" xlink:actuate=\"onRequest\" xlink:href=\"psysml:e547b523-e8e9-4ecd-8c51-8b63037972c5\" xlink:show=\"new\" xlink:title=\"psysml:e547b523-e8e9-4ecd-8c51-8b63037972c5\" xlink:type=\"simple\"><path d=\"M89.39,202.88 C108.71,181.5 137.78,149.32 160.54,124.14 \" fill=\"none\" id=\"E7-&gt;E3\" style=\"stroke: #383838; stroke-width: 1.0;\"/><polygon fill=\"#FFFFFF\" points=\"174.08,109.15,166.5338,127.9398,156.1471,118.5527,174.08,109.15\" style=\"stroke: #383838; stroke-width: 1.0;\"/><ellipse cx=\"161.2281\" cy=\"130.8276\" fill=\"#383838\" rx=\"2\" ry=\"2\" style=\"stroke: #383838; stroke-width: 1.0;\"/><ellipse cx=\"153.8091\" cy=\"124.1226\" fill=\"#383838\" rx=\"2\" ry=\"2\" style=\"stroke: #383838; stroke-width: 1.0;\"/></a><!--MD5=[dc164f5e8a733ab456ef1add180e9e34]\n",
       "reverse link E7 to E8--><a href=\"psysml:b237ade3-489d-4fd0-9379-0b86f0889901\" target=\"_top\" title=\"psysml:b237ade3-489d-4fd0-9379-0b86f0889901\" xlink:actuate=\"onRequest\" xlink:href=\"psysml:b237ade3-489d-4fd0-9379-0b86f0889901\" xlink:show=\"new\" xlink:title=\"psysml:b237ade3-489d-4fd0-9379-0b86f0889901\" xlink:type=\"simple\"><path d=\"M103.83,235.23 C136.36,235.24 185.96,229.43 229,224 C250.09,221.34 274.2,218.08 290.79,212.51 \" fill=\"none\" id=\"E7&lt;-E8\" style=\"stroke: #383838; stroke-width: 1.0;\"/><polygon fill=\"#FFFFFF\" points=\"90.58,234.83,96.4586,239.0064,102.5747,235.1863,96.6961,231.0099,90.58,234.83\" style=\"stroke: #383838; stroke-width: 1.0;\"/><text fill=\"#000000\" font-family=\"sans-serif\" font-size=\"13\" lengthAdjust=\"spacingAndGlyphs\" textLength=\"8\" x=\"275.0694\" y=\"231.9599\">1</text></a><!--MD5=[dc164f5e8a733ab456ef1add180e9e34]\n",
       "reverse link E7 to E8--><a href=\"psysml:7018d996-601d-4a38-842d-acb296e8ea77\" target=\"_top\" title=\"psysml:7018d996-601d-4a38-842d-acb296e8ea77\" xlink:actuate=\"onRequest\" xlink:href=\"psysml:7018d996-601d-4a38-842d-acb296e8ea77\" xlink:show=\"new\" xlink:title=\"psysml:7018d996-601d-4a38-842d-acb296e8ea77\" xlink:type=\"simple\"><path d=\"M105.15,207.63 C137.69,200.08 186.54,194.36 229,189 C250.09,186.34 274.2,183.08 290.79,184.28 \" fill=\"none\" id=\"E7&lt;-E8-1\" style=\"stroke: #383838; stroke-width: 1.0; stroke-dasharray: 7.0,7.0;\"/><ellipse cx=\"98.3111\" cy=\"209.4434\" fill=\"#FFFFFF\" rx=\"8\" ry=\"8\" style=\"stroke: #383838; stroke-width: 1.0;\"/><line style=\"stroke: #383838; stroke-width: 1.0;\" x1=\"106.0423\" x2=\"90.58\" y1=\"207.3869\" y2=\"211.5\"/><line style=\"stroke: #383838; stroke-width: 1.0;\" x1=\"100.3677\" x2=\"96.2546\" y1=\"217.1746\" y2=\"201.7123\"/><text fill=\"#000000\" font-family=\"sans-serif\" font-size=\"13\" lengthAdjust=\"spacingAndGlyphs\" textLength=\"8\" x=\"275.0694\" y=\"175.4907\">1</text></a><!--MD5=[0a839d0f80c2d72d4b9b307f046d0de8]\n",
       "link E6 to E8--><a href=\"psysml:1ea7862a-7bab-4478-95a9-37aa2484c274\" target=\"_top\" title=\"psysml:1ea7862a-7bab-4478-95a9-37aa2484c274\" xlink:actuate=\"onRequest\" xlink:href=\"psysml:1ea7862a-7bab-4478-95a9-37aa2484c274\" xlink:show=\"new\" xlink:title=\"psysml:1ea7862a-7bab-4478-95a9-37aa2484c274\" xlink:type=\"simple\"><path d=\"M217.12,182.11 C237.83,191.04 269.92,199.22 290.7,200.86 \" fill=\"none\" id=\"E6-E8\" style=\"stroke: #383838; stroke-width: 3.0;\"/><text fill=\"#000000\" font-family=\"sans-serif\" font-size=\"13\" lengthAdjust=\"spacingAndGlyphs\" textLength=\"7\" x=\"276.105\" y=\"216.7421\">*</text></a><!--MD5=[0a839d0f80c2d72d4b9b307f046d0de8]\n",
       "link E6 to E8--><a href=\"psysml:1e1521f0-84d2-4d6c-a787-5301105b41c5\" target=\"_top\" title=\"psysml:1e1521f0-84d2-4d6c-a787-5301105b41c5\" xlink:actuate=\"onRequest\" xlink:href=\"psysml:1e1521f0-84d2-4d6c-a787-5301105b41c5\" xlink:show=\"new\" xlink:title=\"psysml:1e1521f0-84d2-4d6c-a787-5301105b41c5\" xlink:type=\"simple\"><path d=\"M217.12,161.53 C237.83,162.93 269.92,171.08 290.7,180.22 \" fill=\"none\" id=\"E6-E8-1\" style=\"stroke: #383838; stroke-width: 3.0;\"/><text fill=\"#000000\" font-family=\"sans-serif\" font-size=\"13\" lengthAdjust=\"spacingAndGlyphs\" textLength=\"7\" x=\"276.105\" y=\"189.7811\">*</text></a><!--MD5=[8d17278f9179e3a6528ee706394a86e6]\n",
       "@startuml\r\n",
       "left to right direction\r\n",
       "skinparam monochrome true\r\n",
       "skinparam classbackgroundcolor white\r\n",
       "skinparam shadowing false\r\n",
       "skinparam wrapWidth 300\r\n",
       "hide circle\r\n",
       "\r\n",
       "package \"AliasTest\" as E1  [[psysml:c9a65f38-ba0f-435c-ac18-78f76b0c8149 ]]  {\r\n",
       "comp usage \"q\" as E2  <<(T,blue) attribute>> [[psysml:252bcdae-bf35-4751-96e5-d2689f20556e ]] {\r\n",
       "}\r\n",
       "comp def \"P1\" as E3  <<(T,blue) part def>> [[psysml:6d109465-d99f-46f9-9a55-615eadc52ec3 ]] {\r\n",
       "}\r\n",
       "comp usage \"porig1\" as E4  <<(T,blue) port>> [[psysml:07c215ea-3a50-4500-a498-5909961b01ab ]] {\r\n",
       "}\r\n",
       "comp usage \"p1: P1\" as E5  <<(T,blue) part>> [[psysml:4b72c15b-2565-4f84-9632-f618b5b9807b ]] {\r\n",
       "}\r\n",
       "comp usage \"po1\" as E6  <<(T,blue) port>> [[psysml:653cf2de-fd63-4b48-a4f2-812bd043bef4 ]] {\r\n",
       "}\r\n",
       "comp usage \"p2: P1\" as E7  <<(T,blue) part>> [[psysml:a2155965-1e3e-41f3-b3b0-5a1ed18f6b31 ]] {\r\n",
       "}\r\n",
       "comp usage \"pdest\" as E8  <<(T,blue) port>> [[psysml:44ed1293-6fc3-4c15-bfe8-a6e98039e875 ]] {\r\n",
       "}\r\n",
       "}\r\n",
       "E3 o- - \"1\"E4 [[psysml:c0c56757-3d44-421f-b231-ed3c3f6cca2a ]] \r\n",
       "E3 +.. \"1\"E4 [[psysml:baeef3bb-efbd-4f79-8bec-1b43bb5efd8f ]] \r\n",
       "E5 - -:|> E3 [[psysml:3c7344fe-e5a7-4cb3-b89e-76f05a842583 ]] \r\n",
       "E5 o- - \"1\"E6 [[psysml:5ab2eb8f-0a8a-4f0f-b519-13b72bd8ef83 ]] \r\n",
       "E6 - -||> E4 [[psysml:36152a88-3fda-40f3-9b03-bfa5e7f7b410 ]] \r\n",
       "E7 - -:|> E3 [[psysml:e547b523-e8e9-4ecd-8c51-8b63037972c5 ]] \r\n",
       "E7 o- - \"1\"E8 [[psysml:b237ade3-489d-4fd0-9379-0b86f0889901 ]] \r\n",
       "E7 +.. \"1\"E8 [[psysml:7018d996-601d-4a38-842d-acb296e8ea77 ]] \r\n",
       "E6 -[thickness=3]- \"*\"E8 [[psysml:1ea7862a-7bab-4478-95a9-37aa2484c274 ]] \r\n",
       "E6 -[thickness=3]- \"*\"E8 [[psysml:1e1521f0-84d2-4d6c-a787-5301105b41c5 ]] \r\n",
       "@enduml\r\n",
       "\n",
       "PlantUML version 1.2020.13(Sat Jun 13 12:26:38 UTC 2020)\n",
       "(EPL source distribution)\n",
       "Java Runtime: OpenJDK Runtime Environment\n",
       "JVM: OpenJDK 64-Bit Server VM\n",
       "Default Encoding: UTF-8\n",
       "Language: en\n",
       "Country: null\n",
       "--></g></svg>"
      ]
     },
     "execution_count": 17,
     "metadata": {},
     "output_type": "execute_result"
    }
   ],
   "source": [
    "%viz --style=\"LR\" --view=\"Tree\" \"AliasTest\""
   ]
  },
  {
   "cell_type": "code",
   "execution_count": 18,
   "id": "1ef427a4",
   "metadata": {
    "execution": {
     "iopub.execute_input": "2021-10-03T08:30:10.799741Z",
     "iopub.status.busy": "2021-10-03T08:30:10.799337Z",
     "iopub.status.idle": "2021-10-03T08:30:10.805187Z",
     "shell.execute_reply": "2021-10-03T08:30:10.805504Z"
    }
   },
   "outputs": [
    {
     "data": {
      "image/svg+xml": [
       "<?xml version=\"1.0\" encoding=\"UTF-8\" standalone=\"no\"?><svg xmlns=\"http://www.w3.org/2000/svg\" xmlns:xlink=\"http://www.w3.org/1999/xlink\" contentScriptType=\"application/ecmascript\" contentStyleType=\"text/css\" height=\"12px\" preserveAspectRatio=\"none\" style=\"width:12px;height:12px;\" version=\"1.1\" viewBox=\"0 0 12 12\" width=\"12px\" zoomAndPan=\"magnify\"><defs/><g><!--MD5=[19d285c9d72a204eba4e2cd117d745e8]\n",
       "@startuml\r\n",
       "left to right direction\r\n",
       "skinparam monochrome true\r\n",
       "skinparam classbackgroundcolor white\r\n",
       "skinparam shadowing false\r\n",
       "skinparam wrapWidth 300\r\n",
       "hide circle\r\n",
       "\r\n",
       "@enduml\r\n",
       "\n",
       "PlantUML version 1.2020.13(Sat Jun 13 12:26:38 UTC 2020)\n",
       "(EPL source distribution)\n",
       "Java Runtime: OpenJDK Runtime Environment\n",
       "JVM: OpenJDK 64-Bit Server VM\n",
       "Default Encoding: UTF-8\n",
       "Language: en\n",
       "Country: null\n",
       "--></g></svg>"
      ]
     },
     "execution_count": 18,
     "metadata": {},
     "output_type": "execute_result"
    }
   ],
   "source": [
    "%viz --style=\"LR\" --view=\"State\" \"AliasTest\""
   ]
  },
  {
   "cell_type": "code",
   "execution_count": 19,
   "id": "5afc3a34",
   "metadata": {
    "execution": {
     "iopub.execute_input": "2021-10-03T08:30:10.855239Z",
     "iopub.status.busy": "2021-10-03T08:30:10.854844Z",
     "iopub.status.idle": "2021-10-03T08:30:10.892771Z",
     "shell.execute_reply": "2021-10-03T08:30:10.892421Z"
    }
   },
   "outputs": [
    {
     "data": {
      "image/svg+xml": [
       "<?xml version=\"1.0\" encoding=\"UTF-8\" standalone=\"no\"?><svg xmlns=\"http://www.w3.org/2000/svg\" xmlns:xlink=\"http://www.w3.org/1999/xlink\" contentScriptType=\"application/ecmascript\" contentStyleType=\"text/css\" height=\"344px\" preserveAspectRatio=\"none\" style=\"width:353px;height:344px;\" version=\"1.1\" viewBox=\"0 0 353 344\" width=\"353px\" zoomAndPan=\"magnify\"><defs/><g><!--MD5=[fbc87193dbaf4d95561dea2c320d4a47]\n",
       "cluster E1--><a href=\"psysml:c9a65f38-ba0f-435c-ac18-78f76b0c8149\" target=\"_top\" title=\"psysml:c9a65f38-ba0f-435c-ac18-78f76b0c8149\" xlink:actuate=\"onRequest\" xlink:href=\"psysml:c9a65f38-ba0f-435c-ac18-78f76b0c8149\" xlink:show=\"new\" xlink:title=\"psysml:c9a65f38-ba0f-435c-ac18-78f76b0c8149\" xlink:type=\"simple\"><polygon fill=\"#FFFFFF\" points=\"16,6,84,6,91,28.2969,331,28.2969,331,332,16,332,16,6\" style=\"stroke: #000000; stroke-width: 1.5;\"/><line style=\"stroke: #000000; stroke-width: 1.5;\" x1=\"16\" x2=\"91\" y1=\"28.2969\" y2=\"28.2969\"/><text fill=\"#000000\" font-family=\"sans-serif\" font-size=\"14\" font-weight=\"bold\" lengthAdjust=\"spacingAndGlyphs\" textLength=\"62\" x=\"20\" y=\"20.9951\">AliasTest</text></a><!--MD5=[d5e69f78d87373223dbae638b30a9c99]\n",
       "cluster E3--><a href=\"psysml:6d109465-d99f-46f9-9a55-615eadc52ec3\" target=\"_top\" title=\"psysml:6d109465-d99f-46f9-9a55-615eadc52ec3\" xlink:actuate=\"onRequest\" xlink:href=\"psysml:6d109465-d99f-46f9-9a55-615eadc52ec3\" xlink:show=\"new\" xlink:title=\"psysml:6d109465-d99f-46f9-9a55-615eadc52ec3\" xlink:type=\"simple\"><rect fill=\"#FFFFFF\" height=\"47\" id=\"E3\" style=\"stroke: #383838; stroke-width: 1.5;\" width=\"172.5\" x=\"49.5\" y=\"55\"/><rect fill=\"#F8F8F8\" height=\"37.9375\" style=\"stroke: #383838; stroke-width: 1.5;\" width=\"172.5\" x=\"49.5\" y=\"55\"/><text fill=\"#000000\" font-family=\"sans-serif\" font-size=\"12\" font-style=\"italic\" lengthAdjust=\"spacingAndGlyphs\" textLength=\"64\" x=\"103.75\" y=\"71.1387\">«part def»</text><text fill=\"#000000\" font-family=\"sans-serif\" font-size=\"12\" lengthAdjust=\"spacingAndGlyphs\" textLength=\"16\" x=\"127.75\" y=\"85.1074\">P1</text></a><!--MD5=[14e3b0961a2654348d326746436168a1]\n",
       "cluster E6--><a href=\"psysml:4b72c15b-2565-4f84-9632-f618b5b9807b\" target=\"_top\" title=\"psysml:4b72c15b-2565-4f84-9632-f618b5b9807b\" xlink:actuate=\"onRequest\" xlink:href=\"psysml:4b72c15b-2565-4f84-9632-f618b5b9807b\" xlink:show=\"new\" xlink:title=\"psysml:4b72c15b-2565-4f84-9632-f618b5b9807b\" xlink:type=\"simple\"><rect fill=\"#FFFFFF\" height=\"38\" id=\"E6\" rx=\"10\" ry=\"10\" style=\"stroke: #383838; stroke-width: 1.5;\" width=\"159.5\" x=\"49.5\" y=\"224\"/><rect fill=\"#F8F8F8\" height=\"23.9688\" rx=\"10\" ry=\"10\" style=\"stroke: #F8F8F8; stroke-width: 1.5;\" width=\"159.5\" x=\"49.5\" y=\"224\"/><rect fill=\"#F8F8F8\" height=\"10\" style=\"stroke: #F8F8F8; stroke-width: 1.5;\" width=\"159.5\" x=\"49.5\" y=\"237.9688\"/><rect fill=\"none\" height=\"38\" id=\"E6\" rx=\"10\" ry=\"10\" style=\"stroke: #383838; stroke-width: 1.5;\" width=\"159.5\" x=\"49.5\" y=\"224\"/><text fill=\"#000000\" font-family=\"sans-serif\" font-size=\"12\" lengthAdjust=\"spacingAndGlyphs\" textLength=\"40\" x=\"109.25\" y=\"240.1387\">p1: P1</text><line style=\"stroke: #383838; stroke-width: 1.0;\" x1=\"49.5\" x2=\"209\" y1=\"247.9688\" y2=\"247.9688\"/></a><!--MD5=[55dfccfc6c49c2d10cd1bd2211a6c90c]\n",
       "cluster E8--><a href=\"psysml:a2155965-1e3e-41f3-b3b0-5a1ed18f6b31\" target=\"_top\" title=\"psysml:a2155965-1e3e-41f3-b3b0-5a1ed18f6b31\" xlink:actuate=\"onRequest\" xlink:href=\"psysml:a2155965-1e3e-41f3-b3b0-5a1ed18f6b31\" xlink:show=\"new\" xlink:title=\"psysml:a2155965-1e3e-41f3-b3b0-5a1ed18f6b31\" xlink:type=\"simple\"><rect fill=\"#FFFFFF\" height=\"47\" id=\"E8\" rx=\"10\" ry=\"10\" style=\"stroke: #383838; stroke-width: 1.5;\" width=\"170.5\" x=\"144.5\" y=\"138\"/><rect fill=\"#F8F8F8\" height=\"23.9688\" rx=\"10\" ry=\"10\" style=\"stroke: #F8F8F8; stroke-width: 1.5;\" width=\"170.5\" x=\"144.5\" y=\"138\"/><rect fill=\"#F8F8F8\" height=\"10\" style=\"stroke: #F8F8F8; stroke-width: 1.5;\" width=\"170.5\" x=\"144.5\" y=\"151.9688\"/><rect fill=\"none\" height=\"47\" id=\"E8\" rx=\"10\" ry=\"10\" style=\"stroke: #383838; stroke-width: 1.5;\" width=\"170.5\" x=\"144.5\" y=\"138\"/><text fill=\"#000000\" font-family=\"sans-serif\" font-size=\"12\" lengthAdjust=\"spacingAndGlyphs\" textLength=\"40\" x=\"209.75\" y=\"154.1387\">p2: P1</text><line style=\"stroke: #383838; stroke-width: 1.0;\" x1=\"144.5\" x2=\"315\" y1=\"161.9688\" y2=\"161.9688\"/></a><!--MD5=[b4997ac47864f28c2f74865a473b2911]\n",
       "class E2--><a href=\"psysml:252bcdae-bf35-4751-96e5-d2689f20556e\" target=\"_top\" title=\"psysml:252bcdae-bf35-4751-96e5-d2689f20556e\" xlink:actuate=\"onRequest\" xlink:href=\"psysml:252bcdae-bf35-4751-96e5-d2689f20556e\" xlink:show=\"new\" xlink:title=\"psysml:252bcdae-bf35-4751-96e5-d2689f20556e\" xlink:type=\"simple\"><rect fill=\"#FFFFFF\" height=\"45.9375\" id=\"E2\" rx=\"10\" ry=\"10\" style=\"stroke: #383838; stroke-width: 1.5;\" width=\"71\" x=\"32\" y=\"270\"/><text fill=\"#000000\" font-family=\"sans-serif\" font-size=\"12\" font-style=\"italic\" lengthAdjust=\"spacingAndGlyphs\" textLength=\"69\" x=\"33\" y=\"286.1387\">«attribute»</text><text fill=\"#000000\" font-family=\"sans-serif\" font-size=\"12\" lengthAdjust=\"spacingAndGlyphs\" textLength=\"8\" x=\"63.5\" y=\"300.1074\">q</text><line style=\"stroke: #383838; stroke-width: 1.5;\" x1=\"33\" x2=\"102\" y1=\"307.9375\" y2=\"307.9375\"/></a><text fill=\"#000000\" font-family=\"sans-serif\" font-size=\"14\" lengthAdjust=\"spacingAndGlyphs\" textLength=\"44\" x=\"45.5\" y=\"120.9951\">porig1</text><rect fill=\"#383838\" height=\"12\" style=\"stroke: #F8F8F8; stroke-width: 1.5;\" width=\"12\" x=\"61.5\" y=\"96\"/><text fill=\"#000000\" font-family=\"sans-serif\" font-size=\"14\" lengthAdjust=\"spacingAndGlyphs\" textLength=\"44\" x=\"45.5\" y=\"33.6982\">porig1</text><rect fill=\"#383838\" height=\"12\" style=\"stroke: #F8F8F8; stroke-width: 1.5;\" width=\"12\" x=\"61.5\" y=\"49\"/><text fill=\"#000000\" font-family=\"sans-serif\" font-size=\"14\" lengthAdjust=\"spacingAndGlyphs\" textLength=\"27\" x=\"54\" y=\"202.6982\">po1</text><rect fill=\"#383838\" height=\"12\" style=\"stroke: #F8F8F8; stroke-width: 1.5;\" width=\"12\" x=\"61.5\" y=\"218\"/><text fill=\"#000000\" font-family=\"sans-serif\" font-size=\"14\" lengthAdjust=\"spacingAndGlyphs\" textLength=\"40\" x=\"142.5\" y=\"203.9951\">pdest</text><rect fill=\"#383838\" height=\"12\" style=\"stroke: #F8F8F8; stroke-width: 1.5;\" width=\"12\" x=\"156.5\" y=\"179\"/><text fill=\"#000000\" font-family=\"sans-serif\" font-size=\"14\" lengthAdjust=\"spacingAndGlyphs\" textLength=\"40\" x=\"142.5\" y=\"116.6982\">pdest</text><rect fill=\"#383838\" height=\"12\" style=\"stroke: #F8F8F8; stroke-width: 1.5;\" width=\"12\" x=\"156.5\" y=\"132\"/><!--MD5=[1c0b9414cc86e0744215edee6abd8926]\n",
       "link E7 to E9--><a href=\"psysml:1ea7862a-7bab-4478-95a9-37aa2484c274\" target=\"_top\" title=\"psysml:1ea7862a-7bab-4478-95a9-37aa2484c274\" xlink:actuate=\"onRequest\" xlink:href=\"psysml:1ea7862a-7bab-4478-95a9-37aa2484c274\" xlink:show=\"new\" xlink:title=\"psysml:1ea7862a-7bab-4478-95a9-37aa2484c274\" xlink:type=\"simple\"><path d=\"M73.5,228.07 C90.4,230.17 145.1,206.8 158.51,191.14 \" fill=\"none\" id=\"E7-E9\" style=\"stroke: #383838; stroke-width: 3.0;\"/><text fill=\"#000000\" font-family=\"sans-serif\" font-size=\"13\" lengthAdjust=\"spacingAndGlyphs\" textLength=\"7\" x=\"147.2969\" y=\"210.9167\">*</text></a><!--MD5=[1c0b9414cc86e0744215edee6abd8926]\n",
       "link E7 to E9--><a href=\"psysml:1e1521f0-84d2-4d6c-a787-5301105b41c5\" target=\"_top\" title=\"psysml:1e1521f0-84d2-4d6c-a787-5301105b41c5\" xlink:actuate=\"onRequest\" xlink:href=\"psysml:1e1521f0-84d2-4d6c-a787-5301105b41c5\" xlink:show=\"new\" xlink:title=\"psysml:1e1521f0-84d2-4d6c-a787-5301105b41c5\" xlink:type=\"simple\"><path d=\"M71.18,217.95 C83.99,201.75 138.99,178.11 156.28,180.54 \" fill=\"none\" id=\"E7-E9-1\" style=\"stroke: #383838; stroke-width: 3.0;\"/><text fill=\"#000000\" font-family=\"sans-serif\" font-size=\"13\" lengthAdjust=\"spacingAndGlyphs\" textLength=\"7\" x=\"141.261\" y=\"167.7947\">*</text></a><!--MD5=[777235299d401f8c08bea1b8b1d00dcc]\n",
       "@startuml\r\n",
       "skinparam ranksep 10\r\n",
       "skinparam rectangle {\r\n",
       " backgroundColor<<block>> LightGreen\r\n",
       "}\r\n",
       "left to right direction\r\n",
       "skinparam monochrome true\r\n",
       "skinparam classbackgroundcolor white\r\n",
       "skinparam shadowing false\r\n",
       "skinparam wrapWidth 300\r\n",
       "hide circle\r\n",
       "\r\n",
       "package \"AliasTest\" as E1  [[psysml:c9a65f38-ba0f-435c-ac18-78f76b0c8149 ]]  {\r\n",
       "comp usage \"q\" as E2  <<(T,blue) attribute>> [[psysml:252bcdae-bf35-4751-96e5-d2689f20556e ]] {\r\n",
       "}\r\n",
       "rec def \"P1\" as E3  <<(T,blue) part def>> [[psysml:6d109465-d99f-46f9-9a55-615eadc52ec3 ]] {\r\n",
       "portin \"porig1\" as E4  <<(T,blue) port>> [[psysml:07c215ea-3a50-4500-a498-5909961b01ab ]] \r\n",
       "portin \"porig1\" as E5  <<(T,blue) port>> [[psysml:07c215ea-3a50-4500-a498-5909961b01ab ]] \r\n",
       "}\r\n",
       "rec usage \"p1: P1\" as E6  [[psysml:4b72c15b-2565-4f84-9632-f618b5b9807b ]] {\r\n",
       "portin \"po1\" as E7  <<(T,blue) port>> [[psysml:653cf2de-fd63-4b48-a4f2-812bd043bef4 ]] \r\n",
       "}\r\n",
       "rec usage \"p2: P1\" as E8  [[psysml:a2155965-1e3e-41f3-b3b0-5a1ed18f6b31 ]] {\r\n",
       "portin \"pdest\" as E9  <<(T,blue) port>> [[psysml:44ed1293-6fc3-4c15-bfe8-a6e98039e875 ]] \r\n",
       "portin \"pdest\" as E10  <<(T,blue) port>> [[psysml:44ed1293-6fc3-4c15-bfe8-a6e98039e875 ]] \r\n",
       "}\r\n",
       "}\r\n",
       "E7 -[thickness=3]- \"*\"E9 [[psysml:1ea7862a-7bab-4478-95a9-37aa2484c274 ]] \r\n",
       "E7 -[thickness=3]- \"*\"E9 [[psysml:1e1521f0-84d2-4d6c-a787-5301105b41c5 ]] \r\n",
       "@enduml\r\n",
       "\n",
       "PlantUML version 1.2020.13(Sat Jun 13 12:26:38 UTC 2020)\n",
       "(EPL source distribution)\n",
       "Java Runtime: OpenJDK Runtime Environment\n",
       "JVM: OpenJDK 64-Bit Server VM\n",
       "Default Encoding: UTF-8\n",
       "Language: en\n",
       "Country: null\n",
       "--></g></svg>"
      ]
     },
     "execution_count": 19,
     "metadata": {},
     "output_type": "execute_result"
    }
   ],
   "source": [
    "%viz --style=\"LR\" --view=\"Interconnection\" \"AliasTest\""
   ]
  },
  {
   "cell_type": "code",
   "execution_count": 20,
   "id": "fc93d342",
   "metadata": {
    "execution": {
     "iopub.execute_input": "2021-10-03T08:30:10.942234Z",
     "iopub.status.busy": "2021-10-03T08:30:10.941834Z",
     "iopub.status.idle": "2021-10-03T08:30:10.947299Z",
     "shell.execute_reply": "2021-10-03T08:30:10.947589Z"
    }
   },
   "outputs": [
    {
     "data": {
      "image/svg+xml": [
       "<?xml version=\"1.0\" encoding=\"UTF-8\" standalone=\"no\"?><svg xmlns=\"http://www.w3.org/2000/svg\" xmlns:xlink=\"http://www.w3.org/1999/xlink\" contentScriptType=\"application/ecmascript\" contentStyleType=\"text/css\" height=\"12px\" preserveAspectRatio=\"none\" style=\"width:12px;height:12px;\" version=\"1.1\" viewBox=\"0 0 12 12\" width=\"12px\" zoomAndPan=\"magnify\"><defs/><g><!--MD5=[7aeb398939421629f6affaa4a1a7b125]\n",
       "@startuml\r\n",
       "skinparam ranksep 8\r\n",
       "left to right direction\r\n",
       "skinparam monochrome true\r\n",
       "skinparam classbackgroundcolor white\r\n",
       "skinparam shadowing false\r\n",
       "skinparam wrapWidth 300\r\n",
       "hide circle\r\n",
       "\r\n",
       "@enduml\r\n",
       "\n",
       "PlantUML version 1.2020.13(Sat Jun 13 12:26:38 UTC 2020)\n",
       "(EPL source distribution)\n",
       "Java Runtime: OpenJDK Runtime Environment\n",
       "JVM: OpenJDK 64-Bit Server VM\n",
       "Default Encoding: UTF-8\n",
       "Language: en\n",
       "Country: null\n",
       "--></g></svg>"
      ]
     },
     "execution_count": 20,
     "metadata": {},
     "output_type": "execute_result"
    }
   ],
   "source": [
    "%viz --style=\"LR\" --view=\"Action\" \"AliasTest\""
   ]
  },
  {
   "cell_type": "code",
   "execution_count": 21,
   "id": "ea9e63a8",
   "metadata": {
    "execution": {
     "iopub.execute_input": "2021-10-03T08:30:10.997257Z",
     "iopub.status.busy": "2021-10-03T08:30:10.996858Z",
     "iopub.status.idle": "2021-10-03T08:30:11.002288Z",
     "shell.execute_reply": "2021-10-03T08:30:11.002575Z"
    }
   },
   "outputs": [
    {
     "data": {
      "image/svg+xml": [
       "<?xml version=\"1.0\" encoding=\"UTF-8\" standalone=\"no\"?><svg xmlns=\"http://www.w3.org/2000/svg\" xmlns:xlink=\"http://www.w3.org/1999/xlink\" contentScriptType=\"application/ecmascript\" contentStyleType=\"text/css\" height=\"12px\" preserveAspectRatio=\"none\" style=\"width:12px;height:12px;\" version=\"1.1\" viewBox=\"0 0 12 12\" width=\"12px\" zoomAndPan=\"magnify\"><defs/><g><!--MD5=[238c11ea2002f03115ad6b49a457d50e]\n",
       "@startuml\r\n",
       "skinparam roundcorner 20\r\n",
       "skinparam BoxPadding 20\r\n",
       "skinparam SequenceBoxBackgroundColor #white\r\n",
       "skinparam style strictuml\r\n",
       "skinparam maxMessageSize 100\r\n",
       "left to right direction\r\n",
       "skinparam monochrome true\r\n",
       "skinparam classbackgroundcolor white\r\n",
       "skinparam shadowing false\r\n",
       "skinparam wrapWidth 300\r\n",
       "hide circle\r\n",
       "\r\n",
       "@enduml\r\n",
       "\n",
       "PlantUML version 1.2020.13(Sat Jun 13 12:26:38 UTC 2020)\n",
       "(EPL source distribution)\n",
       "Java Runtime: OpenJDK Runtime Environment\n",
       "JVM: OpenJDK 64-Bit Server VM\n",
       "Default Encoding: UTF-8\n",
       "Language: en\n",
       "Country: null\n",
       "--></g></svg>"
      ]
     },
     "execution_count": 21,
     "metadata": {},
     "output_type": "execute_result"
    }
   ],
   "source": [
    "%viz --style=\"LR\" --view=\"Sequence\" \"AliasTest\""
   ]
  },
  {
   "cell_type": "code",
   "execution_count": 22,
   "id": "46003257",
   "metadata": {
    "execution": {
     "iopub.execute_input": "2021-10-03T08:30:11.052266Z",
     "iopub.status.busy": "2021-10-03T08:30:11.051867Z",
     "iopub.status.idle": "2021-10-03T08:30:11.092260Z",
     "shell.execute_reply": "2021-10-03T08:30:11.091924Z"
    }
   },
   "outputs": [
    {
     "data": {
      "image/svg+xml": [
       "<?xml version=\"1.0\" encoding=\"UTF-8\" standalone=\"no\"?><svg xmlns=\"http://www.w3.org/2000/svg\" xmlns:xlink=\"http://www.w3.org/1999/xlink\" contentScriptType=\"application/ecmascript\" contentStyleType=\"text/css\" height=\"277px\" preserveAspectRatio=\"none\" style=\"width:373px;height:277px;\" version=\"1.1\" viewBox=\"0 0 373 277\" width=\"373px\" zoomAndPan=\"magnify\"><defs/><g><!--MD5=[fbc87193dbaf4d95561dea2c320d4a47]\n",
       "cluster E1--><a href=\"psysml:c9a65f38-ba0f-435c-ac18-78f76b0c8149\" target=\"_top\" title=\"psysml:c9a65f38-ba0f-435c-ac18-78f76b0c8149\" xlink:actuate=\"onRequest\" xlink:href=\"psysml:c9a65f38-ba0f-435c-ac18-78f76b0c8149\" xlink:show=\"new\" xlink:title=\"psysml:c9a65f38-ba0f-435c-ac18-78f76b0c8149\" xlink:type=\"simple\"><polygon fill=\"#FFFFFF\" points=\"16,6,84,6,91,28.2969,351,28.2969,351,265,16,265,16,6\" style=\"stroke: #000000; stroke-width: 1.5;\"/><line style=\"stroke: #000000; stroke-width: 1.5;\" x1=\"16\" x2=\"91\" y1=\"28.2969\" y2=\"28.2969\"/><text fill=\"#000000\" font-family=\"sans-serif\" font-size=\"14\" font-weight=\"bold\" lengthAdjust=\"spacingAndGlyphs\" textLength=\"62\" x=\"20\" y=\"20.9951\">AliasTest</text></a><!--MD5=[b4997ac47864f28c2f74865a473b2911]\n",
       "class E2--><a href=\"psysml:252bcdae-bf35-4751-96e5-d2689f20556e\" target=\"_top\" title=\"psysml:252bcdae-bf35-4751-96e5-d2689f20556e\" xlink:actuate=\"onRequest\" xlink:href=\"psysml:252bcdae-bf35-4751-96e5-d2689f20556e\" xlink:show=\"new\" xlink:title=\"psysml:252bcdae-bf35-4751-96e5-d2689f20556e\" xlink:type=\"simple\"><rect fill=\"#FFFFFF\" height=\"45.9375\" id=\"E2\" rx=\"10\" ry=\"10\" style=\"stroke: #383838; stroke-width: 1.5;\" width=\"71\" x=\"32\" y=\"41\"/><text fill=\"#000000\" font-family=\"sans-serif\" font-size=\"12\" font-style=\"italic\" lengthAdjust=\"spacingAndGlyphs\" textLength=\"69\" x=\"33\" y=\"57.1387\">«attribute»</text><text fill=\"#000000\" font-family=\"sans-serif\" font-size=\"12\" lengthAdjust=\"spacingAndGlyphs\" textLength=\"8\" x=\"63.5\" y=\"71.1074\">q</text><line style=\"stroke: #383838; stroke-width: 1.5;\" x1=\"33\" x2=\"102\" y1=\"78.9375\" y2=\"78.9375\"/></a><!--MD5=[09b614a08d8cba4a07c9adeb5e0fee81]\n",
       "class E3--><a href=\"psysml:6d109465-d99f-46f9-9a55-615eadc52ec3\" target=\"_top\" title=\"psysml:6d109465-d99f-46f9-9a55-615eadc52ec3\" xlink:actuate=\"onRequest\" xlink:href=\"psysml:6d109465-d99f-46f9-9a55-615eadc52ec3\" xlink:show=\"new\" xlink:title=\"psysml:6d109465-d99f-46f9-9a55-615eadc52ec3\" xlink:type=\"simple\"><rect fill=\"#FFFFFF\" height=\"45.9375\" id=\"E3\" style=\"stroke: #383838; stroke-width: 1.5;\" width=\"66\" x=\"163\" y=\"63\"/><text fill=\"#000000\" font-family=\"sans-serif\" font-size=\"12\" font-style=\"italic\" lengthAdjust=\"spacingAndGlyphs\" textLength=\"64\" x=\"164\" y=\"79.1387\">«part def»</text><text fill=\"#000000\" font-family=\"sans-serif\" font-size=\"12\" lengthAdjust=\"spacingAndGlyphs\" textLength=\"16\" x=\"188\" y=\"93.1074\">P1</text><line style=\"stroke: #383838; stroke-width: 1.5;\" x1=\"164\" x2=\"228\" y1=\"100.9375\" y2=\"100.9375\"/></a><!--MD5=[ebbe1d658d1005bcc118a6aa81145e00]\n",
       "class E4--><a href=\"psysml:07c215ea-3a50-4500-a498-5909961b01ab\" target=\"_top\" title=\"psysml:07c215ea-3a50-4500-a498-5909961b01ab\" xlink:actuate=\"onRequest\" xlink:href=\"psysml:07c215ea-3a50-4500-a498-5909961b01ab\" xlink:show=\"new\" xlink:title=\"psysml:07c215ea-3a50-4500-a498-5909961b01ab\" xlink:type=\"simple\"><rect fill=\"#FFFFFF\" height=\"45.9375\" id=\"E4\" rx=\"10\" ry=\"10\" style=\"stroke: #383838; stroke-width: 1.5;\" width=\"46\" x=\"289\" y=\"63\"/><text fill=\"#000000\" font-family=\"sans-serif\" font-size=\"12\" font-style=\"italic\" lengthAdjust=\"spacingAndGlyphs\" textLength=\"40\" x=\"292\" y=\"79.1387\">«port»</text><text fill=\"#000000\" font-family=\"sans-serif\" font-size=\"12\" lengthAdjust=\"spacingAndGlyphs\" textLength=\"40\" x=\"292\" y=\"93.1074\">porig1</text><line style=\"stroke: #383838; stroke-width: 1.5;\" x1=\"290\" x2=\"334\" y1=\"100.9375\" y2=\"100.9375\"/></a><!--MD5=[270fce915f116d4de14055a7c1d9a0f3]\n",
       "class E5--><a href=\"psysml:4b72c15b-2565-4f84-9632-f618b5b9807b\" target=\"_top\" title=\"psysml:4b72c15b-2565-4f84-9632-f618b5b9807b\" xlink:actuate=\"onRequest\" xlink:href=\"psysml:4b72c15b-2565-4f84-9632-f618b5b9807b\" xlink:show=\"new\" xlink:title=\"psysml:4b72c15b-2565-4f84-9632-f618b5b9807b\" xlink:type=\"simple\"><rect fill=\"#FFFFFF\" height=\"45.9375\" id=\"E5\" rx=\"10\" ry=\"10\" style=\"stroke: #383838; stroke-width: 1.5;\" width=\"46\" x=\"44.5\" y=\"122\"/><text fill=\"#000000\" font-family=\"sans-serif\" font-size=\"12\" font-style=\"italic\" lengthAdjust=\"spacingAndGlyphs\" textLength=\"40\" x=\"47.5\" y=\"138.1387\">«part»</text><text fill=\"#000000\" font-family=\"sans-serif\" font-size=\"12\" lengthAdjust=\"spacingAndGlyphs\" textLength=\"40\" x=\"47.5\" y=\"152.1074\">p1: P1</text><line style=\"stroke: #383838; stroke-width: 1.5;\" x1=\"45.5\" x2=\"89.5\" y1=\"159.9375\" y2=\"159.9375\"/></a><!--MD5=[60a26617385b1d2d0262a64233df1f8d]\n",
       "class E6--><a href=\"psysml:653cf2de-fd63-4b48-a4f2-812bd043bef4\" target=\"_top\" title=\"psysml:653cf2de-fd63-4b48-a4f2-812bd043bef4\" xlink:actuate=\"onRequest\" xlink:href=\"psysml:653cf2de-fd63-4b48-a4f2-812bd043bef4\" xlink:show=\"new\" xlink:title=\"psysml:653cf2de-fd63-4b48-a4f2-812bd043bef4\" xlink:type=\"simple\"><rect fill=\"#FFFFFF\" height=\"45.9375\" id=\"E6\" rx=\"10\" ry=\"10\" style=\"stroke: #383838; stroke-width: 1.5;\" width=\"42\" x=\"175\" y=\"144\"/><text fill=\"#000000\" font-family=\"sans-serif\" font-size=\"12\" font-style=\"italic\" lengthAdjust=\"spacingAndGlyphs\" textLength=\"40\" x=\"176\" y=\"160.1387\">«port»</text><text fill=\"#000000\" font-family=\"sans-serif\" font-size=\"12\" lengthAdjust=\"spacingAndGlyphs\" textLength=\"24\" x=\"184\" y=\"174.1074\">po1</text><line style=\"stroke: #383838; stroke-width: 1.5;\" x1=\"176\" x2=\"216\" y1=\"181.9375\" y2=\"181.9375\"/></a><!--MD5=[2156ba9850f5573cc1fc38a6a4b2f02b]\n",
       "class E7--><a href=\"psysml:a2155965-1e3e-41f3-b3b0-5a1ed18f6b31\" target=\"_top\" title=\"psysml:a2155965-1e3e-41f3-b3b0-5a1ed18f6b31\" xlink:actuate=\"onRequest\" xlink:href=\"psysml:a2155965-1e3e-41f3-b3b0-5a1ed18f6b31\" xlink:show=\"new\" xlink:title=\"psysml:a2155965-1e3e-41f3-b3b0-5a1ed18f6b31\" xlink:type=\"simple\"><rect fill=\"#FFFFFF\" height=\"45.9375\" id=\"E7\" rx=\"10\" ry=\"10\" style=\"stroke: #383838; stroke-width: 1.5;\" width=\"46\" x=\"44.5\" y=\"203\"/><text fill=\"#000000\" font-family=\"sans-serif\" font-size=\"12\" font-style=\"italic\" lengthAdjust=\"spacingAndGlyphs\" textLength=\"40\" x=\"47.5\" y=\"219.1387\">«part»</text><text fill=\"#000000\" font-family=\"sans-serif\" font-size=\"12\" lengthAdjust=\"spacingAndGlyphs\" textLength=\"40\" x=\"47.5\" y=\"233.1074\">p2: P1</text><line style=\"stroke: #383838; stroke-width: 1.5;\" x1=\"45.5\" x2=\"89.5\" y1=\"240.9375\" y2=\"240.9375\"/></a><!--MD5=[b9389687b975829384b498ac4b7476b2]\n",
       "class E8--><a href=\"psysml:44ed1293-6fc3-4c15-bfe8-a6e98039e875\" target=\"_top\" title=\"psysml:44ed1293-6fc3-4c15-bfe8-a6e98039e875\" xlink:actuate=\"onRequest\" xlink:href=\"psysml:44ed1293-6fc3-4c15-bfe8-a6e98039e875\" xlink:show=\"new\" xlink:title=\"psysml:44ed1293-6fc3-4c15-bfe8-a6e98039e875\" xlink:type=\"simple\"><rect fill=\"#FFFFFF\" height=\"45.9375\" id=\"E8\" rx=\"10\" ry=\"10\" style=\"stroke: #383838; stroke-width: 1.5;\" width=\"42\" x=\"291\" y=\"173\"/><text fill=\"#000000\" font-family=\"sans-serif\" font-size=\"12\" font-style=\"italic\" lengthAdjust=\"spacingAndGlyphs\" textLength=\"40\" x=\"292\" y=\"189.1387\">«port»</text><text fill=\"#000000\" font-family=\"sans-serif\" font-size=\"12\" lengthAdjust=\"spacingAndGlyphs\" textLength=\"36\" x=\"294\" y=\"203.1074\">pdest</text><line style=\"stroke: #383838; stroke-width: 1.5;\" x1=\"292\" x2=\"332\" y1=\"210.9375\" y2=\"210.9375\"/></a><!--MD5=[4672eba38e49728da53d11aeb285b987]\n",
       "reverse link E3 to E4--><a href=\"psysml:c0c56757-3d44-421f-b231-ed3c3f6cca2a\" target=\"_top\" title=\"psysml:c0c56757-3d44-421f-b231-ed3c3f6cca2a\" xlink:actuate=\"onRequest\" xlink:href=\"psysml:c0c56757-3d44-421f-b231-ed3c3f6cca2a\" xlink:show=\"new\" xlink:title=\"psysml:c0c56757-3d44-421f-b231-ed3c3f6cca2a\" xlink:type=\"simple\"><path d=\"M242.14,98.5 C258.23,99.18 275.63,98.46 288.92,96.33 \" fill=\"none\" id=\"E3&lt;-E4\" style=\"stroke: #383838; stroke-width: 1.0;\"/><polygon fill=\"#FFFFFF\" points=\"229.06,97.6,234.7687,102.0057,241.0312,98.4306,235.3225,94.0249,229.06,97.6\" style=\"stroke: #383838; stroke-width: 1.0;\"/><text fill=\"#000000\" font-family=\"sans-serif\" font-size=\"13\" lengthAdjust=\"spacingAndGlyphs\" textLength=\"8\" x=\"272.9653\" y=\"113.6631\">1</text></a><!--MD5=[4672eba38e49728da53d11aeb285b987]\n",
       "reverse link E3 to E4--><a href=\"psysml:baeef3bb-efbd-4f79-8bec-1b43bb5efd8f\" target=\"_top\" title=\"psysml:baeef3bb-efbd-4f79-8bec-1b43bb5efd8f\" xlink:actuate=\"onRequest\" xlink:href=\"psysml:baeef3bb-efbd-4f79-8bec-1b43bb5efd8f\" xlink:show=\"new\" xlink:title=\"psysml:baeef3bb-efbd-4f79-8bec-1b43bb5efd8f\" xlink:type=\"simple\"><path d=\"M244.08,72.68 C259.61,72.1 276.16,72.9 288.92,75.07 \" fill=\"none\" id=\"E3&lt;-E4-1\" style=\"stroke: #383838; stroke-width: 1.0; stroke-dasharray: 7.0,7.0;\"/><ellipse cx=\"237.0406\" cy=\"73.1636\" fill=\"#FFFFFF\" rx=\"8\" ry=\"8\" style=\"stroke: #383838; stroke-width: 1.0;\"/><line style=\"stroke: #383838; stroke-width: 1.0;\" x1=\"245.0213\" x2=\"229.06\" y1=\"72.6071\" y2=\"73.72\"/><line style=\"stroke: #383838; stroke-width: 1.0;\" x1=\"237.5971\" x2=\"236.4842\" y1=\"81.1442\" y2=\"65.1829\"/><text fill=\"#000000\" font-family=\"sans-serif\" font-size=\"13\" lengthAdjust=\"spacingAndGlyphs\" textLength=\"8\" x=\"272.9653\" y=\"86.158\">1</text></a><!--MD5=[e9be52314489bd878ff4c7144b63c9e1]\n",
       "link E5 to E3--><a href=\"psysml:3c7344fe-e5a7-4cb3-b89e-76f05a842583\" target=\"_top\" title=\"psysml:3c7344fe-e5a7-4cb3-b89e-76f05a842583\" xlink:actuate=\"onRequest\" xlink:href=\"psysml:3c7344fe-e5a7-4cb3-b89e-76f05a842583\" xlink:show=\"new\" xlink:title=\"psysml:3c7344fe-e5a7-4cb3-b89e-76f05a842583\" xlink:type=\"simple\"><path d=\"M90.53,134.72 C105.43,127.78 125.72,118.31 144.46,109.57 \" fill=\"none\" id=\"E5-&gt;E3\" style=\"stroke: #383838; stroke-width: 1.0;\"/><polygon fill=\"#FFFFFF\" points=\"162.78,101.03,148.5252,115.4106,142.6026,102.725,162.78,101.03\" style=\"stroke: #383838; stroke-width: 1.0;\"/><ellipse cx=\"142.5143\" cy=\"116.0097\" fill=\"#383838\" rx=\"2\" ry=\"2\" style=\"stroke: #383838; stroke-width: 1.0;\"/><ellipse cx=\"138.2839\" cy=\"106.9486\" fill=\"#383838\" rx=\"2\" ry=\"2\" style=\"stroke: #383838; stroke-width: 1.0;\"/></a><!--MD5=[85d356282659285ab4b2cfe2f634dd2b]\n",
       "reverse link E5 to E6--><a href=\"psysml:5ab2eb8f-0a8a-4f0f-b519-13b72bd8ef83\" target=\"_top\" title=\"psysml:5ab2eb8f-0a8a-4f0f-b519-13b72bd8ef83\" xlink:actuate=\"onRequest\" xlink:href=\"psysml:5ab2eb8f-0a8a-4f0f-b519-13b72bd8ef83\" xlink:show=\"new\" xlink:title=\"psysml:5ab2eb8f-0a8a-4f0f-b519-13b72bd8ef83\" xlink:type=\"simple\"><path d=\"M103.55,151.1 C126.53,155.09 155.74,160.17 174.89,163.5 \" fill=\"none\" id=\"E5&lt;-E6\" style=\"stroke: #383838; stroke-width: 1.0;\"/><polygon fill=\"#FFFFFF\" points=\"90.53,148.83,95.755,153.7999,102.3522,150.8883,97.1272,145.9184,90.53,148.83\" style=\"stroke: #383838; stroke-width: 1.0;\"/><text fill=\"#000000\" font-family=\"sans-serif\" font-size=\"13\" lengthAdjust=\"spacingAndGlyphs\" textLength=\"8\" x=\"158.8862\" y=\"176.873\">1</text></a><!--MD5=[f667431f98296947986a1a7595a31603]\n",
       "link E6 to E4--><a href=\"psysml:36152a88-3fda-40f3-9b03-bfa5e7f7b410\" target=\"_top\" title=\"psysml:36152a88-3fda-40f3-9b03-bfa5e7f7b410\" xlink:actuate=\"onRequest\" xlink:href=\"psysml:36152a88-3fda-40f3-9b03-bfa5e7f7b410\" xlink:show=\"new\" xlink:title=\"psysml:36152a88-3fda-40f3-9b03-bfa5e7f7b410\" xlink:type=\"simple\"><path d=\"M217.12,152.71 C232.33,141.9 253.68,126.73 272.18,113.59 \" fill=\"none\" id=\"E6-&gt;E4\" style=\"stroke: #383838; stroke-width: 1.0;\"/><polygon fill=\"#FFFFFF\" points=\"288.74,101.81,277.2991,118.5165,269.1949,107.1006,288.74,101.81\" style=\"stroke: #383838; stroke-width: 1.0;\"/><line style=\"stroke: #383838; stroke-width: 2.0;\" x1=\"274.2005\" x2=\"266.0963\" y1=\"120.7162\" y2=\"109.3003\"/></a><!--MD5=[14ccda38c055a5c0da953d572bc50960]\n",
       "link E7 to E3--><a href=\"psysml:e547b523-e8e9-4ecd-8c51-8b63037972c5\" target=\"_top\" title=\"psysml:e547b523-e8e9-4ecd-8c51-8b63037972c5\" xlink:actuate=\"onRequest\" xlink:href=\"psysml:e547b523-e8e9-4ecd-8c51-8b63037972c5\" xlink:show=\"new\" xlink:title=\"psysml:e547b523-e8e9-4ecd-8c51-8b63037972c5\" xlink:type=\"simple\"><path d=\"M89.39,202.88 C108.71,181.5 137.78,149.32 160.54,124.14 \" fill=\"none\" id=\"E7-&gt;E3\" style=\"stroke: #383838; stroke-width: 1.0;\"/><polygon fill=\"#FFFFFF\" points=\"174.08,109.15,166.5338,127.9398,156.1471,118.5527,174.08,109.15\" style=\"stroke: #383838; stroke-width: 1.0;\"/><ellipse cx=\"161.2281\" cy=\"130.8276\" fill=\"#383838\" rx=\"2\" ry=\"2\" style=\"stroke: #383838; stroke-width: 1.0;\"/><ellipse cx=\"153.8091\" cy=\"124.1226\" fill=\"#383838\" rx=\"2\" ry=\"2\" style=\"stroke: #383838; stroke-width: 1.0;\"/></a><!--MD5=[dc164f5e8a733ab456ef1add180e9e34]\n",
       "reverse link E7 to E8--><a href=\"psysml:b237ade3-489d-4fd0-9379-0b86f0889901\" target=\"_top\" title=\"psysml:b237ade3-489d-4fd0-9379-0b86f0889901\" xlink:actuate=\"onRequest\" xlink:href=\"psysml:b237ade3-489d-4fd0-9379-0b86f0889901\" xlink:show=\"new\" xlink:title=\"psysml:b237ade3-489d-4fd0-9379-0b86f0889901\" xlink:type=\"simple\"><path d=\"M103.83,235.23 C136.36,235.24 185.96,229.43 229,224 C250.09,221.34 274.2,218.08 290.79,212.51 \" fill=\"none\" id=\"E7&lt;-E8\" style=\"stroke: #383838; stroke-width: 1.0;\"/><polygon fill=\"#FFFFFF\" points=\"90.58,234.83,96.4586,239.0064,102.5747,235.1863,96.6961,231.0099,90.58,234.83\" style=\"stroke: #383838; stroke-width: 1.0;\"/><text fill=\"#000000\" font-family=\"sans-serif\" font-size=\"13\" lengthAdjust=\"spacingAndGlyphs\" textLength=\"8\" x=\"275.0694\" y=\"231.9599\">1</text></a><!--MD5=[dc164f5e8a733ab456ef1add180e9e34]\n",
       "reverse link E7 to E8--><a href=\"psysml:7018d996-601d-4a38-842d-acb296e8ea77\" target=\"_top\" title=\"psysml:7018d996-601d-4a38-842d-acb296e8ea77\" xlink:actuate=\"onRequest\" xlink:href=\"psysml:7018d996-601d-4a38-842d-acb296e8ea77\" xlink:show=\"new\" xlink:title=\"psysml:7018d996-601d-4a38-842d-acb296e8ea77\" xlink:type=\"simple\"><path d=\"M105.15,207.63 C137.69,200.08 186.54,194.36 229,189 C250.09,186.34 274.2,183.08 290.79,184.28 \" fill=\"none\" id=\"E7&lt;-E8-1\" style=\"stroke: #383838; stroke-width: 1.0; stroke-dasharray: 7.0,7.0;\"/><ellipse cx=\"98.3111\" cy=\"209.4434\" fill=\"#FFFFFF\" rx=\"8\" ry=\"8\" style=\"stroke: #383838; stroke-width: 1.0;\"/><line style=\"stroke: #383838; stroke-width: 1.0;\" x1=\"106.0423\" x2=\"90.58\" y1=\"207.3869\" y2=\"211.5\"/><line style=\"stroke: #383838; stroke-width: 1.0;\" x1=\"100.3677\" x2=\"96.2546\" y1=\"217.1746\" y2=\"201.7123\"/><text fill=\"#000000\" font-family=\"sans-serif\" font-size=\"13\" lengthAdjust=\"spacingAndGlyphs\" textLength=\"8\" x=\"275.0694\" y=\"175.4907\">1</text></a><!--MD5=[0a839d0f80c2d72d4b9b307f046d0de8]\n",
       "link E6 to E8--><a href=\"psysml:1ea7862a-7bab-4478-95a9-37aa2484c274\" target=\"_top\" title=\"psysml:1ea7862a-7bab-4478-95a9-37aa2484c274\" xlink:actuate=\"onRequest\" xlink:href=\"psysml:1ea7862a-7bab-4478-95a9-37aa2484c274\" xlink:show=\"new\" xlink:title=\"psysml:1ea7862a-7bab-4478-95a9-37aa2484c274\" xlink:type=\"simple\"><path d=\"M217.12,182.11 C237.83,191.04 269.92,199.22 290.7,200.86 \" fill=\"none\" id=\"E6-E8\" style=\"stroke: #383838; stroke-width: 3.0;\"/><text fill=\"#000000\" font-family=\"sans-serif\" font-size=\"13\" lengthAdjust=\"spacingAndGlyphs\" textLength=\"7\" x=\"276.105\" y=\"216.7421\">*</text></a><!--MD5=[0a839d0f80c2d72d4b9b307f046d0de8]\n",
       "link E6 to E8--><a href=\"psysml:1e1521f0-84d2-4d6c-a787-5301105b41c5\" target=\"_top\" title=\"psysml:1e1521f0-84d2-4d6c-a787-5301105b41c5\" xlink:actuate=\"onRequest\" xlink:href=\"psysml:1e1521f0-84d2-4d6c-a787-5301105b41c5\" xlink:show=\"new\" xlink:title=\"psysml:1e1521f0-84d2-4d6c-a787-5301105b41c5\" xlink:type=\"simple\"><path d=\"M217.12,161.53 C237.83,162.93 269.92,171.08 290.7,180.22 \" fill=\"none\" id=\"E6-E8-1\" style=\"stroke: #383838; stroke-width: 3.0;\"/><text fill=\"#000000\" font-family=\"sans-serif\" font-size=\"13\" lengthAdjust=\"spacingAndGlyphs\" textLength=\"7\" x=\"276.105\" y=\"189.7811\">*</text></a><!--MD5=[8d17278f9179e3a6528ee706394a86e6]\n",
       "@startuml\r\n",
       "left to right direction\r\n",
       "skinparam monochrome true\r\n",
       "skinparam classbackgroundcolor white\r\n",
       "skinparam shadowing false\r\n",
       "skinparam wrapWidth 300\r\n",
       "hide circle\r\n",
       "\r\n",
       "package \"AliasTest\" as E1  [[psysml:c9a65f38-ba0f-435c-ac18-78f76b0c8149 ]]  {\r\n",
       "comp usage \"q\" as E2  <<(T,blue) attribute>> [[psysml:252bcdae-bf35-4751-96e5-d2689f20556e ]] {\r\n",
       "}\r\n",
       "comp def \"P1\" as E3  <<(T,blue) part def>> [[psysml:6d109465-d99f-46f9-9a55-615eadc52ec3 ]] {\r\n",
       "}\r\n",
       "comp usage \"porig1\" as E4  <<(T,blue) port>> [[psysml:07c215ea-3a50-4500-a498-5909961b01ab ]] {\r\n",
       "}\r\n",
       "comp usage \"p1: P1\" as E5  <<(T,blue) part>> [[psysml:4b72c15b-2565-4f84-9632-f618b5b9807b ]] {\r\n",
       "}\r\n",
       "comp usage \"po1\" as E6  <<(T,blue) port>> [[psysml:653cf2de-fd63-4b48-a4f2-812bd043bef4 ]] {\r\n",
       "}\r\n",
       "comp usage \"p2: P1\" as E7  <<(T,blue) part>> [[psysml:a2155965-1e3e-41f3-b3b0-5a1ed18f6b31 ]] {\r\n",
       "}\r\n",
       "comp usage \"pdest\" as E8  <<(T,blue) port>> [[psysml:44ed1293-6fc3-4c15-bfe8-a6e98039e875 ]] {\r\n",
       "}\r\n",
       "}\r\n",
       "E3 o- - \"1\"E4 [[psysml:c0c56757-3d44-421f-b231-ed3c3f6cca2a ]] \r\n",
       "E3 +.. \"1\"E4 [[psysml:baeef3bb-efbd-4f79-8bec-1b43bb5efd8f ]] \r\n",
       "E5 - -:|> E3 [[psysml:3c7344fe-e5a7-4cb3-b89e-76f05a842583 ]] \r\n",
       "E5 o- - \"1\"E6 [[psysml:5ab2eb8f-0a8a-4f0f-b519-13b72bd8ef83 ]] \r\n",
       "E6 - -||> E4 [[psysml:36152a88-3fda-40f3-9b03-bfa5e7f7b410 ]] \r\n",
       "E7 - -:|> E3 [[psysml:e547b523-e8e9-4ecd-8c51-8b63037972c5 ]] \r\n",
       "E7 o- - \"1\"E8 [[psysml:b237ade3-489d-4fd0-9379-0b86f0889901 ]] \r\n",
       "E7 +.. \"1\"E8 [[psysml:7018d996-601d-4a38-842d-acb296e8ea77 ]] \r\n",
       "E6 -[thickness=3]- \"*\"E8 [[psysml:1ea7862a-7bab-4478-95a9-37aa2484c274 ]] \r\n",
       "E6 -[thickness=3]- \"*\"E8 [[psysml:1e1521f0-84d2-4d6c-a787-5301105b41c5 ]] \r\n",
       "@enduml\r\n",
       "\n",
       "PlantUML version 1.2020.13(Sat Jun 13 12:26:38 UTC 2020)\n",
       "(EPL source distribution)\n",
       "Java Runtime: OpenJDK Runtime Environment\n",
       "JVM: OpenJDK 64-Bit Server VM\n",
       "Default Encoding: UTF-8\n",
       "Language: en\n",
       "Country: null\n",
       "--></g></svg>"
      ]
     },
     "execution_count": 22,
     "metadata": {},
     "output_type": "execute_result"
    }
   ],
   "source": [
    "%viz --style=\"LR\" --view=\"MIXED\" \"AliasTest\""
   ]
  },
  {
   "cell_type": "code",
   "execution_count": 23,
   "id": "82d41239",
   "metadata": {
    "execution": {
     "iopub.execute_input": "2021-10-03T08:30:11.141633Z",
     "iopub.status.busy": "2021-10-03T08:30:11.141235Z",
     "iopub.status.idle": "2021-10-03T08:30:11.180980Z",
     "shell.execute_reply": "2021-10-03T08:30:11.180632Z"
    }
   },
   "outputs": [
    {
     "data": {
      "image/svg+xml": [
       "<?xml version=\"1.0\" encoding=\"UTF-8\" standalone=\"no\"?><svg xmlns=\"http://www.w3.org/2000/svg\" xmlns:xlink=\"http://www.w3.org/1999/xlink\" contentScriptType=\"application/ecmascript\" contentStyleType=\"text/css\" height=\"327px\" preserveAspectRatio=\"none\" style=\"width:304px;height:327px;\" version=\"1.1\" viewBox=\"0 0 304 327\" width=\"304px\" zoomAndPan=\"magnify\"><defs><filter height=\"300%\" id=\"fhihhx8h1op5u\" width=\"300%\" x=\"-1\" y=\"-1\"><feGaussianBlur result=\"blurOut\" stdDeviation=\"2.0\"/><feColorMatrix in=\"blurOut\" result=\"blurOut2\" type=\"matrix\" values=\"0 0 0 0 0 0 0 0 0 0 0 0 0 0 0 0 0 0 .4 0\"/><feOffset dx=\"4.0\" dy=\"4.0\" in=\"blurOut2\" result=\"blurOut3\"/><feBlend in=\"SourceGraphic\" in2=\"blurOut3\" mode=\"normal\"/></filter></defs><g><!--MD5=[fbc87193dbaf4d95561dea2c320d4a47]\n",
       "cluster E1--><a href=\"psysml:c9a65f38-ba0f-435c-ac18-78f76b0c8149\" target=\"_top\" title=\"psysml:c9a65f38-ba0f-435c-ac18-78f76b0c8149\" xlink:actuate=\"onRequest\" xlink:href=\"psysml:c9a65f38-ba0f-435c-ac18-78f76b0c8149\" xlink:show=\"new\" xlink:title=\"psysml:c9a65f38-ba0f-435c-ac18-78f76b0c8149\" xlink:type=\"simple\"><polygon fill=\"#FFFFFF\" filter=\"url(#fhihhx8h1op5u)\" points=\"16,6,84,6,91,28.2969,282,28.2969,282,315,16,315,16,6\" style=\"stroke: #000000; stroke-width: 1.5;\"/><line style=\"stroke: #000000; stroke-width: 1.5;\" x1=\"16\" x2=\"91\" y1=\"28.2969\" y2=\"28.2969\"/><text fill=\"#000000\" font-family=\"sans-serif\" font-size=\"14\" font-weight=\"bold\" lengthAdjust=\"spacingAndGlyphs\" textLength=\"62\" x=\"20\" y=\"20.9951\">AliasTest</text></a><!--MD5=[b4997ac47864f28c2f74865a473b2911]\n",
       "class E2--><a href=\"psysml:252bcdae-bf35-4751-96e5-d2689f20556e\" target=\"_top\" title=\"psysml:252bcdae-bf35-4751-96e5-d2689f20556e\" xlink:actuate=\"onRequest\" xlink:href=\"psysml:252bcdae-bf35-4751-96e5-d2689f20556e\" xlink:show=\"new\" xlink:title=\"psysml:252bcdae-bf35-4751-96e5-d2689f20556e\" xlink:type=\"simple\"><rect fill=\"#FEFECE\" filter=\"url(#fhihhx8h1op5u)\" height=\"45.9375\" id=\"E2\" rx=\"10\" ry=\"10\" style=\"stroke: #A80036; stroke-width: 1.5;\" width=\"71\" x=\"194.5\" y=\"41\"/><text fill=\"#000000\" font-family=\"sans-serif\" font-size=\"12\" font-style=\"italic\" lengthAdjust=\"spacingAndGlyphs\" textLength=\"69\" x=\"195.5\" y=\"57.1387\">«attribute»</text><text fill=\"#000000\" font-family=\"sans-serif\" font-size=\"12\" lengthAdjust=\"spacingAndGlyphs\" textLength=\"8\" x=\"226\" y=\"71.1074\">q</text><line style=\"stroke: #A80036; stroke-width: 1.5;\" x1=\"195.5\" x2=\"264.5\" y1=\"78.9375\" y2=\"78.9375\"/></a><!--MD5=[09b614a08d8cba4a07c9adeb5e0fee81]\n",
       "class E3--><a href=\"psysml:6d109465-d99f-46f9-9a55-615eadc52ec3\" target=\"_top\" title=\"psysml:6d109465-d99f-46f9-9a55-615eadc52ec3\" xlink:actuate=\"onRequest\" xlink:href=\"psysml:6d109465-d99f-46f9-9a55-615eadc52ec3\" xlink:show=\"new\" xlink:title=\"psysml:6d109465-d99f-46f9-9a55-615eadc52ec3\" xlink:type=\"simple\"><rect fill=\"#FEFECE\" filter=\"url(#fhihhx8h1op5u)\" height=\"45.9375\" id=\"E3\" style=\"stroke: #A80036; stroke-width: 1.5;\" width=\"66\" x=\"168\" y=\"147\"/><text fill=\"#000000\" font-family=\"sans-serif\" font-size=\"12\" font-style=\"italic\" lengthAdjust=\"spacingAndGlyphs\" textLength=\"64\" x=\"169\" y=\"163.1387\">«part def»</text><text fill=\"#000000\" font-family=\"sans-serif\" font-size=\"12\" lengthAdjust=\"spacingAndGlyphs\" textLength=\"16\" x=\"193\" y=\"177.1074\">P1</text><line style=\"stroke: #A80036; stroke-width: 1.5;\" x1=\"169\" x2=\"233\" y1=\"184.9375\" y2=\"184.9375\"/></a><!--MD5=[ebbe1d658d1005bcc118a6aa81145e00]\n",
       "class E4--><a href=\"psysml:07c215ea-3a50-4500-a498-5909961b01ab\" target=\"_top\" title=\"psysml:07c215ea-3a50-4500-a498-5909961b01ab\" xlink:actuate=\"onRequest\" xlink:href=\"psysml:07c215ea-3a50-4500-a498-5909961b01ab\" xlink:show=\"new\" xlink:title=\"psysml:07c215ea-3a50-4500-a498-5909961b01ab\" xlink:type=\"simple\"><rect fill=\"#FEFECE\" filter=\"url(#fhihhx8h1op5u)\" height=\"45.9375\" id=\"E4\" rx=\"10\" ry=\"10\" style=\"stroke: #A80036; stroke-width: 1.5;\" width=\"46\" x=\"178\" y=\"253\"/><text fill=\"#000000\" font-family=\"sans-serif\" font-size=\"12\" font-style=\"italic\" lengthAdjust=\"spacingAndGlyphs\" textLength=\"40\" x=\"181\" y=\"269.1387\">«port»</text><text fill=\"#000000\" font-family=\"sans-serif\" font-size=\"12\" lengthAdjust=\"spacingAndGlyphs\" textLength=\"40\" x=\"181\" y=\"283.1074\">porig1</text><line style=\"stroke: #A80036; stroke-width: 1.5;\" x1=\"179\" x2=\"223\" y1=\"290.9375\" y2=\"290.9375\"/></a><!--MD5=[270fce915f116d4de14055a7c1d9a0f3]\n",
       "class E5--><a href=\"psysml:4b72c15b-2565-4f84-9632-f618b5b9807b\" target=\"_top\" title=\"psysml:4b72c15b-2565-4f84-9632-f618b5b9807b\" xlink:actuate=\"onRequest\" xlink:href=\"psysml:4b72c15b-2565-4f84-9632-f618b5b9807b\" xlink:show=\"new\" xlink:title=\"psysml:4b72c15b-2565-4f84-9632-f618b5b9807b\" xlink:type=\"simple\"><rect fill=\"#FEFECE\" filter=\"url(#fhihhx8h1op5u)\" height=\"45.9375\" id=\"E5\" rx=\"10\" ry=\"10\" style=\"stroke: #A80036; stroke-width: 1.5;\" width=\"46\" x=\"113\" y=\"41\"/><text fill=\"#000000\" font-family=\"sans-serif\" font-size=\"12\" font-style=\"italic\" lengthAdjust=\"spacingAndGlyphs\" textLength=\"40\" x=\"116\" y=\"57.1387\">«part»</text><text fill=\"#000000\" font-family=\"sans-serif\" font-size=\"12\" lengthAdjust=\"spacingAndGlyphs\" textLength=\"40\" x=\"116\" y=\"71.1074\">p1: P1</text><line style=\"stroke: #A80036; stroke-width: 1.5;\" x1=\"114\" x2=\"158\" y1=\"78.9375\" y2=\"78.9375\"/></a><!--MD5=[60a26617385b1d2d0262a64233df1f8d]\n",
       "class E6--><a href=\"psysml:653cf2de-fd63-4b48-a4f2-812bd043bef4\" target=\"_top\" title=\"psysml:653cf2de-fd63-4b48-a4f2-812bd043bef4\" xlink:actuate=\"onRequest\" xlink:href=\"psysml:653cf2de-fd63-4b48-a4f2-812bd043bef4\" xlink:show=\"new\" xlink:title=\"psysml:653cf2de-fd63-4b48-a4f2-812bd043bef4\" xlink:type=\"simple\"><rect fill=\"#FEFECE\" filter=\"url(#fhihhx8h1op5u)\" height=\"45.9375\" id=\"E6\" rx=\"10\" ry=\"10\" style=\"stroke: #A80036; stroke-width: 1.5;\" width=\"42\" x=\"91\" y=\"147\"/><text fill=\"#000000\" font-family=\"sans-serif\" font-size=\"12\" font-style=\"italic\" lengthAdjust=\"spacingAndGlyphs\" textLength=\"40\" x=\"92\" y=\"163.1387\">«port»</text><text fill=\"#000000\" font-family=\"sans-serif\" font-size=\"12\" lengthAdjust=\"spacingAndGlyphs\" textLength=\"24\" x=\"100\" y=\"177.1074\">po1</text><line style=\"stroke: #A80036; stroke-width: 1.5;\" x1=\"92\" x2=\"132\" y1=\"184.9375\" y2=\"184.9375\"/></a><!--MD5=[2156ba9850f5573cc1fc38a6a4b2f02b]\n",
       "class E7--><a href=\"psysml:a2155965-1e3e-41f3-b3b0-5a1ed18f6b31\" target=\"_top\" title=\"psysml:a2155965-1e3e-41f3-b3b0-5a1ed18f6b31\" xlink:actuate=\"onRequest\" xlink:href=\"psysml:a2155965-1e3e-41f3-b3b0-5a1ed18f6b31\" xlink:show=\"new\" xlink:title=\"psysml:a2155965-1e3e-41f3-b3b0-5a1ed18f6b31\" xlink:type=\"simple\"><rect fill=\"#FEFECE\" filter=\"url(#fhihhx8h1op5u)\" height=\"45.9375\" id=\"E7\" rx=\"10\" ry=\"10\" style=\"stroke: #A80036; stroke-width: 1.5;\" width=\"46\" x=\"32\" y=\"41\"/><text fill=\"#000000\" font-family=\"sans-serif\" font-size=\"12\" font-style=\"italic\" lengthAdjust=\"spacingAndGlyphs\" textLength=\"40\" x=\"35\" y=\"57.1387\">«part»</text><text fill=\"#000000\" font-family=\"sans-serif\" font-size=\"12\" lengthAdjust=\"spacingAndGlyphs\" textLength=\"40\" x=\"35\" y=\"71.1074\">p2: P1</text><line style=\"stroke: #A80036; stroke-width: 1.5;\" x1=\"33\" x2=\"77\" y1=\"78.9375\" y2=\"78.9375\"/></a><!--MD5=[b9389687b975829384b498ac4b7476b2]\n",
       "class E8--><a href=\"psysml:44ed1293-6fc3-4c15-bfe8-a6e98039e875\" target=\"_top\" title=\"psysml:44ed1293-6fc3-4c15-bfe8-a6e98039e875\" xlink:actuate=\"onRequest\" xlink:href=\"psysml:44ed1293-6fc3-4c15-bfe8-a6e98039e875\" xlink:show=\"new\" xlink:title=\"psysml:44ed1293-6fc3-4c15-bfe8-a6e98039e875\" xlink:type=\"simple\"><rect fill=\"#FEFECE\" filter=\"url(#fhihhx8h1op5u)\" height=\"45.9375\" id=\"E8\" rx=\"10\" ry=\"10\" style=\"stroke: #A80036; stroke-width: 1.5;\" width=\"42\" x=\"63\" y=\"253\"/><text fill=\"#000000\" font-family=\"sans-serif\" font-size=\"12\" font-style=\"italic\" lengthAdjust=\"spacingAndGlyphs\" textLength=\"40\" x=\"64\" y=\"269.1387\">«port»</text><text fill=\"#000000\" font-family=\"sans-serif\" font-size=\"12\" lengthAdjust=\"spacingAndGlyphs\" textLength=\"36\" x=\"66\" y=\"283.1074\">pdest</text><line style=\"stroke: #A80036; stroke-width: 1.5;\" x1=\"64\" x2=\"104\" y1=\"290.9375\" y2=\"290.9375\"/></a><!--MD5=[4672eba38e49728da53d11aeb285b987]\n",
       "reverse link E3 to E4--><a href=\"psysml:c0c56757-3d44-421f-b231-ed3c3f6cca2a\" target=\"_top\" title=\"psysml:c0c56757-3d44-421f-b231-ed3c3f6cca2a\" xlink:actuate=\"onRequest\" xlink:href=\"psysml:c0c56757-3d44-421f-b231-ed3c3f6cca2a\" xlink:show=\"new\" xlink:title=\"psysml:c0c56757-3d44-421f-b231-ed3c3f6cca2a\" xlink:type=\"simple\"><path d=\"M188.84,206.44 C187.7,221.87 188.21,239.47 190.36,252.98 \" fill=\"none\" id=\"E3&lt;-E4\" style=\"stroke: #A80036; stroke-width: 1.0;\"/><polygon fill=\"#FFFFFF\" points=\"190.35,193.06,185.7032,198.5743,189.006,204.9845,193.6528,199.4702,190.35,193.06\" style=\"stroke: #A80036; stroke-width: 1.0;\"/><text fill=\"#000000\" font-family=\"sans-serif\" font-size=\"13\" lengthAdjust=\"spacingAndGlyphs\" textLength=\"8\" x=\"178.4255\" y=\"241.8709\">1</text></a><!--MD5=[4672eba38e49728da53d11aeb285b987]\n",
       "reverse link E3 to E4--><a href=\"psysml:baeef3bb-efbd-4f79-8bec-1b43bb5efd8f\" target=\"_top\" title=\"psysml:baeef3bb-efbd-4f79-8bec-1b43bb5efd8f\" xlink:actuate=\"onRequest\" xlink:href=\"psysml:baeef3bb-efbd-4f79-8bec-1b43bb5efd8f\" xlink:show=\"new\" xlink:title=\"psysml:baeef3bb-efbd-4f79-8bec-1b43bb5efd8f\" xlink:type=\"simple\"><path d=\"M214.01,208.34 C215.03,223.3 214.45,240.02 212.27,252.98 \" fill=\"none\" id=\"E3&lt;-E4-1\" style=\"stroke: #A80036; stroke-width: 1.0; stroke-dasharray: 7.0,7.0;\"/><ellipse cx=\"213.1693\" cy=\"201.0093\" fill=\"#FFFFFF\" rx=\"8\" ry=\"8\" style=\"stroke: #A80036; stroke-width: 1.0;\"/><line style=\"stroke: #A80036; stroke-width: 1.0;\" x1=\"214.0687\" x2=\"212.27\" y1=\"208.9586\" y2=\"193.06\"/><line style=\"stroke: #A80036; stroke-width: 1.0;\" x1=\"205.2201\" x2=\"221.1186\" y1=\"201.9086\" y2=\"200.1099\"/><text fill=\"#000000\" font-family=\"sans-serif\" font-size=\"13\" lengthAdjust=\"spacingAndGlyphs\" textLength=\"8\" x=\"206.2238\" y=\"241.8709\">1</text></a><!--MD5=[e9be52314489bd878ff4c7144b63c9e1]\n",
       "link E5 to E3--><a href=\"psysml:3c7344fe-e5a7-4cb3-b89e-76f05a842583\" target=\"_top\" title=\"psysml:3c7344fe-e5a7-4cb3-b89e-76f05a842583\" xlink:actuate=\"onRequest\" xlink:href=\"psysml:3c7344fe-e5a7-4cb3-b89e-76f05a842583\" xlink:show=\"new\" xlink:title=\"psysml:3c7344fe-e5a7-4cb3-b89e-76f05a842583\" xlink:type=\"simple\"><path d=\"M149.78,87.06 C157.54,99.47 167.45,115.33 176.49,129.78 \" fill=\"none\" id=\"E5-&gt;E3\" style=\"stroke: #A80036; stroke-width: 1.0;\"/><polygon fill=\"#FFFFFF\" points=\"187.24,146.98,171.2331,134.5792,183.1045,127.1584,187.24,146.98\" style=\"stroke: #A80036; stroke-width: 1.0;\"/><ellipse cx=\"169.9076\" cy=\"128.6857\" fill=\"#A80036\" rx=\"2\" ry=\"2\" style=\"stroke: #A80036; stroke-width: 1.0;\"/><ellipse cx=\"178.3872\" cy=\"123.3851\" fill=\"#A80036\" rx=\"2\" ry=\"2\" style=\"stroke: #A80036; stroke-width: 1.0;\"/></a><!--MD5=[85d356282659285ab4b2cfe2f634dd2b]\n",
       "reverse link E5 to E6--><a href=\"psysml:5ab2eb8f-0a8a-4f0f-b519-13b72bd8ef83\" target=\"_top\" title=\"psysml:5ab2eb8f-0a8a-4f0f-b519-13b72bd8ef83\" xlink:actuate=\"onRequest\" xlink:href=\"psysml:5ab2eb8f-0a8a-4f0f-b519-13b72bd8ef83\" xlink:show=\"new\" xlink:title=\"psysml:5ab2eb8f-0a8a-4f0f-b519-13b72bd8ef83\" xlink:type=\"simple\"><path d=\"M127.93,99.96 C124.34,115.51 120.23,133.33 117.08,146.98 \" fill=\"none\" id=\"E5&lt;-E6\" style=\"stroke: #A80036; stroke-width: 1.0;\"/><polygon fill=\"#FFFFFF\" points=\"130.91,87.06,125.6616,92.0052,128.2078,98.7518,133.4562,93.8066,130.91,87.06\" style=\"stroke: #A80036; stroke-width: 1.0;\"/><text fill=\"#000000\" font-family=\"sans-serif\" font-size=\"13\" lengthAdjust=\"spacingAndGlyphs\" textLength=\"8\" x=\"109.3703\" y=\"135.8709\">1</text></a><!--MD5=[f667431f98296947986a1a7595a31603]\n",
       "link E6 to E4--><a href=\"psysml:36152a88-3fda-40f3-9b03-bfa5e7f7b410\" target=\"_top\" title=\"psysml:36152a88-3fda-40f3-9b03-bfa5e7f7b410\" xlink:actuate=\"onRequest\" xlink:href=\"psysml:36152a88-3fda-40f3-9b03-bfa5e7f7b410\" xlink:show=\"new\" xlink:title=\"psysml:36152a88-3fda-40f3-9b03-bfa5e7f7b410\" xlink:type=\"simple\"><path d=\"M130.87,193.06 C141.97,206.02 156.28,222.74 169.08,237.7 \" fill=\"none\" id=\"E6-&gt;E4\" style=\"stroke: #A80036; stroke-width: 1.0;\"/><polygon fill=\"#FFFFFF\" points=\"182.15,252.98,164.4809,243.0905,175.1204,233.9909,182.15,252.98\" style=\"stroke: #A80036; stroke-width: 1.0;\"/><line style=\"stroke: #A80036; stroke-width: 2.0;\" x1=\"162.011\" x2=\"172.6505\" y1=\"240.2026\" y2=\"231.1031\"/></a><!--MD5=[14ccda38c055a5c0da953d572bc50960]\n",
       "link E7 to E3--><a href=\"psysml:e547b523-e8e9-4ecd-8c51-8b63037972c5\" target=\"_top\" title=\"psysml:e547b523-e8e9-4ecd-8c51-8b63037972c5\" xlink:actuate=\"onRequest\" xlink:href=\"psysml:e547b523-e8e9-4ecd-8c51-8b63037972c5\" xlink:show=\"new\" xlink:title=\"psysml:e547b523-e8e9-4ecd-8c51-8b63037972c5\" xlink:type=\"simple\"><path d=\"M78.13,81.48 C98.32,95.86 128.25,117.18 153.52,135.18 \" fill=\"none\" id=\"E7-&gt;E3\" style=\"stroke: #A80036; stroke-width: 1.0;\"/><polygon fill=\"#FFFFFF\" points=\"170.09,146.98,150.5533,141.6586,158.6755,130.2555,170.09,146.98\" style=\"stroke: #A80036; stroke-width: 1.0;\"/><ellipse cx=\"147.0709\" cy=\"136.7227\" fill=\"#A80036\" rx=\"2\" ry=\"2\" style=\"stroke: #A80036; stroke-width: 1.0;\"/><ellipse cx=\"152.8725\" cy=\"128.5776\" fill=\"#A80036\" rx=\"2\" ry=\"2\" style=\"stroke: #A80036; stroke-width: 1.0;\"/></a><!--MD5=[dc164f5e8a733ab456ef1add180e9e34]\n",
       "reverse link E7 to E8--><a href=\"psysml:b237ade3-489d-4fd0-9379-0b86f0889901\" target=\"_top\" title=\"psysml:b237ade3-489d-4fd0-9379-0b86f0889901\" xlink:actuate=\"onRequest\" xlink:href=\"psysml:b237ade3-489d-4fd0-9379-0b86f0889901\" xlink:show=\"new\" xlink:title=\"psysml:b237ade3-489d-4fd0-9379-0b86f0889901\" xlink:type=\"simple\"><path d=\"M50.05,100.09 C51.65,143.61 62.25,216.5 72.75,252.9 \" fill=\"none\" id=\"E7&lt;-E8\" style=\"stroke: #A80036; stroke-width: 1.0;\"/><polygon fill=\"#FFFFFF\" points=\"49.85,87.08,45.9362,93.1366,50.0216,99.0788,53.9354,93.0222,49.85,87.08\" style=\"stroke: #A80036; stroke-width: 1.0;\"/><text fill=\"#000000\" font-family=\"sans-serif\" font-size=\"13\" lengthAdjust=\"spacingAndGlyphs\" textLength=\"8\" x=\"60.6516\" y=\"241.7694\">1</text></a><!--MD5=[dc164f5e8a733ab456ef1add180e9e34]\n",
       "reverse link E7 to E8--><a href=\"psysml:7018d996-601d-4a38-842d-acb296e8ea77\" target=\"_top\" title=\"psysml:7018d996-601d-4a38-842d-acb296e8ea77\" xlink:actuate=\"onRequest\" xlink:href=\"psysml:7018d996-601d-4a38-842d-acb296e8ea77\" xlink:show=\"new\" xlink:title=\"psysml:7018d996-601d-4a38-842d-acb296e8ea77\" xlink:type=\"simple\"><path d=\"M70.64,101.8 C81.15,145.5 90.39,216.97 89.63,252.9 \" fill=\"none\" id=\"E7&lt;-E8-1\" style=\"stroke: #A80036; stroke-width: 1.0; stroke-dasharray: 7.0,7.0;\"/><ellipse cx=\"68.7794\" cy=\"94.813\" fill=\"#FFFFFF\" rx=\"8\" ry=\"8\" style=\"stroke: #A80036; stroke-width: 1.0;\"/><line style=\"stroke: #A80036; stroke-width: 1.0;\" x1=\"70.8289\" x2=\"66.73\" y1=\"102.5461\" y2=\"87.08\"/><line style=\"stroke: #A80036; stroke-width: 1.0;\" x1=\"61.0464\" x2=\"76.5125\" y1=\"96.8625\" y2=\"92.7636\"/><text fill=\"#000000\" font-family=\"sans-serif\" font-size=\"13\" lengthAdjust=\"spacingAndGlyphs\" textLength=\"8\" x=\"92.2181\" y=\"241.7694\">1</text></a><!--MD5=[0a839d0f80c2d72d4b9b307f046d0de8]\n",
       "link E6 to E8--><a href=\"psysml:1ea7862a-7bab-4478-95a9-37aa2484c274\" target=\"_top\" title=\"psysml:1ea7862a-7bab-4478-95a9-37aa2484c274\" xlink:actuate=\"onRequest\" xlink:href=\"psysml:1ea7862a-7bab-4478-95a9-37aa2484c274\" xlink:show=\"new\" xlink:title=\"psysml:1ea7862a-7bab-4478-95a9-37aa2484c274\" xlink:type=\"simple\"><path d=\"M95.42,193.06 C87.86,210.7 81.23,235.34 79.29,252.98 \" fill=\"none\" id=\"E6-E8\" style=\"stroke: #A80036; stroke-width: 3.0;\"/><text fill=\"#000000\" font-family=\"sans-serif\" font-size=\"13\" lengthAdjust=\"spacingAndGlyphs\" textLength=\"7\" x=\"78.9648\" y=\"241.8709\">*</text></a><!--MD5=[0a839d0f80c2d72d4b9b307f046d0de8]\n",
       "link E6 to E8--><a href=\"psysml:1e1521f0-84d2-4d6c-a787-5301105b41c5\" target=\"_top\" title=\"psysml:1e1521f0-84d2-4d6c-a787-5301105b41c5\" xlink:actuate=\"onRequest\" xlink:href=\"psysml:1e1521f0-84d2-4d6c-a787-5301105b41c5\" xlink:show=\"new\" xlink:title=\"psysml:1e1521f0-84d2-4d6c-a787-5301105b41c5\" xlink:type=\"simple\"><path d=\"M117.33,193.06 C115.55,210.7 108.92,235.34 101.2,252.98 \" fill=\"none\" id=\"E6-E8-1\" style=\"stroke: #A80036; stroke-width: 3.0;\"/><text fill=\"#000000\" font-family=\"sans-serif\" font-size=\"13\" lengthAdjust=\"spacingAndGlyphs\" textLength=\"7\" x=\"97.8819\" y=\"241.8709\">*</text></a><!--MD5=[34ccb67400bb8744fcacf2c2dc3294c3]\n",
       "@startuml\r\n",
       "skinparam wrapWidth 300\r\n",
       "hide circle\r\n",
       "\r\n",
       "package \"AliasTest\" as E1  [[psysml:c9a65f38-ba0f-435c-ac18-78f76b0c8149 ]]  {\r\n",
       "comp usage \"q\" as E2  <<(T,blue) attribute>> [[psysml:252bcdae-bf35-4751-96e5-d2689f20556e ]] {\r\n",
       "}\r\n",
       "comp def \"P1\" as E3  <<(T,blue) part def>> [[psysml:6d109465-d99f-46f9-9a55-615eadc52ec3 ]] {\r\n",
       "}\r\n",
       "comp usage \"porig1\" as E4  <<(T,blue) port>> [[psysml:07c215ea-3a50-4500-a498-5909961b01ab ]] {\r\n",
       "}\r\n",
       "comp usage \"p1: P1\" as E5  <<(T,blue) part>> [[psysml:4b72c15b-2565-4f84-9632-f618b5b9807b ]] {\r\n",
       "}\r\n",
       "comp usage \"po1\" as E6  <<(T,blue) port>> [[psysml:653cf2de-fd63-4b48-a4f2-812bd043bef4 ]] {\r\n",
       "}\r\n",
       "comp usage \"p2: P1\" as E7  <<(T,blue) part>> [[psysml:a2155965-1e3e-41f3-b3b0-5a1ed18f6b31 ]] {\r\n",
       "}\r\n",
       "comp usage \"pdest\" as E8  <<(T,blue) port>> [[psysml:44ed1293-6fc3-4c15-bfe8-a6e98039e875 ]] {\r\n",
       "}\r\n",
       "}\r\n",
       "E3 o- - \"1\"E4 [[psysml:c0c56757-3d44-421f-b231-ed3c3f6cca2a ]] \r\n",
       "E3 +.. \"1\"E4 [[psysml:baeef3bb-efbd-4f79-8bec-1b43bb5efd8f ]] \r\n",
       "E5 - -:|> E3 [[psysml:3c7344fe-e5a7-4cb3-b89e-76f05a842583 ]] \r\n",
       "E5 o- - \"1\"E6 [[psysml:5ab2eb8f-0a8a-4f0f-b519-13b72bd8ef83 ]] \r\n",
       "E6 - -||> E4 [[psysml:36152a88-3fda-40f3-9b03-bfa5e7f7b410 ]] \r\n",
       "E7 - -:|> E3 [[psysml:e547b523-e8e9-4ecd-8c51-8b63037972c5 ]] \r\n",
       "E7 o- - \"1\"E8 [[psysml:b237ade3-489d-4fd0-9379-0b86f0889901 ]] \r\n",
       "E7 +.. \"1\"E8 [[psysml:7018d996-601d-4a38-842d-acb296e8ea77 ]] \r\n",
       "E6 -[thickness=3]- \"*\"E8 [[psysml:1ea7862a-7bab-4478-95a9-37aa2484c274 ]] \r\n",
       "E6 -[thickness=3]- \"*\"E8 [[psysml:1e1521f0-84d2-4d6c-a787-5301105b41c5 ]] \r\n",
       "@enduml\r\n",
       "\n",
       "PlantUML version 1.2020.13(Sat Jun 13 12:26:38 UTC 2020)\n",
       "(EPL source distribution)\n",
       "Java Runtime: OpenJDK Runtime Environment\n",
       "JVM: OpenJDK 64-Bit Server VM\n",
       "Default Encoding: UTF-8\n",
       "Language: en\n",
       "Country: null\n",
       "--></g></svg>"
      ]
     },
     "execution_count": 23,
     "metadata": {},
     "output_type": "execute_result"
    }
   ],
   "source": [
    "%viz --style=\"STDCOLOR\" --view=\"Default\" \"AliasTest\""
   ]
  },
  {
   "cell_type": "code",
   "execution_count": 24,
   "id": "02b90041",
   "metadata": {
    "execution": {
     "iopub.execute_input": "2021-10-03T08:30:11.230307Z",
     "iopub.status.busy": "2021-10-03T08:30:11.229909Z",
     "iopub.status.idle": "2021-10-03T08:30:11.269122Z",
     "shell.execute_reply": "2021-10-03T08:30:11.268772Z"
    }
   },
   "outputs": [
    {
     "data": {
      "image/svg+xml": [
       "<?xml version=\"1.0\" encoding=\"UTF-8\" standalone=\"no\"?><svg xmlns=\"http://www.w3.org/2000/svg\" xmlns:xlink=\"http://www.w3.org/1999/xlink\" contentScriptType=\"application/ecmascript\" contentStyleType=\"text/css\" height=\"327px\" preserveAspectRatio=\"none\" style=\"width:304px;height:327px;\" version=\"1.1\" viewBox=\"0 0 304 327\" width=\"304px\" zoomAndPan=\"magnify\"><defs><filter height=\"300%\" id=\"fhihhx8h1op5u\" width=\"300%\" x=\"-1\" y=\"-1\"><feGaussianBlur result=\"blurOut\" stdDeviation=\"2.0\"/><feColorMatrix in=\"blurOut\" result=\"blurOut2\" type=\"matrix\" values=\"0 0 0 0 0 0 0 0 0 0 0 0 0 0 0 0 0 0 .4 0\"/><feOffset dx=\"4.0\" dy=\"4.0\" in=\"blurOut2\" result=\"blurOut3\"/><feBlend in=\"SourceGraphic\" in2=\"blurOut3\" mode=\"normal\"/></filter></defs><g><!--MD5=[fbc87193dbaf4d95561dea2c320d4a47]\n",
       "cluster E1--><a href=\"psysml:c9a65f38-ba0f-435c-ac18-78f76b0c8149\" target=\"_top\" title=\"psysml:c9a65f38-ba0f-435c-ac18-78f76b0c8149\" xlink:actuate=\"onRequest\" xlink:href=\"psysml:c9a65f38-ba0f-435c-ac18-78f76b0c8149\" xlink:show=\"new\" xlink:title=\"psysml:c9a65f38-ba0f-435c-ac18-78f76b0c8149\" xlink:type=\"simple\"><polygon fill=\"#FFFFFF\" filter=\"url(#fhihhx8h1op5u)\" points=\"16,6,84,6,91,28.2969,282,28.2969,282,315,16,315,16,6\" style=\"stroke: #000000; stroke-width: 1.5;\"/><line style=\"stroke: #000000; stroke-width: 1.5;\" x1=\"16\" x2=\"91\" y1=\"28.2969\" y2=\"28.2969\"/><text fill=\"#000000\" font-family=\"sans-serif\" font-size=\"14\" font-weight=\"bold\" lengthAdjust=\"spacingAndGlyphs\" textLength=\"62\" x=\"20\" y=\"20.9951\">AliasTest</text></a><!--MD5=[b4997ac47864f28c2f74865a473b2911]\n",
       "class E2--><a href=\"psysml:252bcdae-bf35-4751-96e5-d2689f20556e\" target=\"_top\" title=\"psysml:252bcdae-bf35-4751-96e5-d2689f20556e\" xlink:actuate=\"onRequest\" xlink:href=\"psysml:252bcdae-bf35-4751-96e5-d2689f20556e\" xlink:show=\"new\" xlink:title=\"psysml:252bcdae-bf35-4751-96e5-d2689f20556e\" xlink:type=\"simple\"><rect fill=\"#FEFECE\" filter=\"url(#fhihhx8h1op5u)\" height=\"45.9375\" id=\"E2\" rx=\"10\" ry=\"10\" style=\"stroke: #A80036; stroke-width: 1.5;\" width=\"71\" x=\"194.5\" y=\"41\"/><text fill=\"#000000\" font-family=\"sans-serif\" font-size=\"12\" font-style=\"italic\" lengthAdjust=\"spacingAndGlyphs\" textLength=\"69\" x=\"195.5\" y=\"57.1387\">«attribute»</text><text fill=\"#000000\" font-family=\"sans-serif\" font-size=\"12\" lengthAdjust=\"spacingAndGlyphs\" textLength=\"8\" x=\"226\" y=\"71.1074\">q</text><line style=\"stroke: #A80036; stroke-width: 1.5;\" x1=\"195.5\" x2=\"264.5\" y1=\"78.9375\" y2=\"78.9375\"/></a><!--MD5=[09b614a08d8cba4a07c9adeb5e0fee81]\n",
       "class E3--><a href=\"psysml:6d109465-d99f-46f9-9a55-615eadc52ec3\" target=\"_top\" title=\"psysml:6d109465-d99f-46f9-9a55-615eadc52ec3\" xlink:actuate=\"onRequest\" xlink:href=\"psysml:6d109465-d99f-46f9-9a55-615eadc52ec3\" xlink:show=\"new\" xlink:title=\"psysml:6d109465-d99f-46f9-9a55-615eadc52ec3\" xlink:type=\"simple\"><rect fill=\"#FEFECE\" filter=\"url(#fhihhx8h1op5u)\" height=\"45.9375\" id=\"E3\" style=\"stroke: #A80036; stroke-width: 1.5;\" width=\"66\" x=\"168\" y=\"147\"/><text fill=\"#000000\" font-family=\"sans-serif\" font-size=\"12\" font-style=\"italic\" lengthAdjust=\"spacingAndGlyphs\" textLength=\"64\" x=\"169\" y=\"163.1387\">«part def»</text><text fill=\"#000000\" font-family=\"sans-serif\" font-size=\"12\" lengthAdjust=\"spacingAndGlyphs\" textLength=\"16\" x=\"193\" y=\"177.1074\">P1</text><line style=\"stroke: #A80036; stroke-width: 1.5;\" x1=\"169\" x2=\"233\" y1=\"184.9375\" y2=\"184.9375\"/></a><!--MD5=[ebbe1d658d1005bcc118a6aa81145e00]\n",
       "class E4--><a href=\"psysml:07c215ea-3a50-4500-a498-5909961b01ab\" target=\"_top\" title=\"psysml:07c215ea-3a50-4500-a498-5909961b01ab\" xlink:actuate=\"onRequest\" xlink:href=\"psysml:07c215ea-3a50-4500-a498-5909961b01ab\" xlink:show=\"new\" xlink:title=\"psysml:07c215ea-3a50-4500-a498-5909961b01ab\" xlink:type=\"simple\"><rect fill=\"#FEFECE\" filter=\"url(#fhihhx8h1op5u)\" height=\"45.9375\" id=\"E4\" rx=\"10\" ry=\"10\" style=\"stroke: #A80036; stroke-width: 1.5;\" width=\"46\" x=\"178\" y=\"253\"/><text fill=\"#000000\" font-family=\"sans-serif\" font-size=\"12\" font-style=\"italic\" lengthAdjust=\"spacingAndGlyphs\" textLength=\"40\" x=\"181\" y=\"269.1387\">«port»</text><text fill=\"#000000\" font-family=\"sans-serif\" font-size=\"12\" lengthAdjust=\"spacingAndGlyphs\" textLength=\"40\" x=\"181\" y=\"283.1074\">porig1</text><line style=\"stroke: #A80036; stroke-width: 1.5;\" x1=\"179\" x2=\"223\" y1=\"290.9375\" y2=\"290.9375\"/></a><!--MD5=[270fce915f116d4de14055a7c1d9a0f3]\n",
       "class E5--><a href=\"psysml:4b72c15b-2565-4f84-9632-f618b5b9807b\" target=\"_top\" title=\"psysml:4b72c15b-2565-4f84-9632-f618b5b9807b\" xlink:actuate=\"onRequest\" xlink:href=\"psysml:4b72c15b-2565-4f84-9632-f618b5b9807b\" xlink:show=\"new\" xlink:title=\"psysml:4b72c15b-2565-4f84-9632-f618b5b9807b\" xlink:type=\"simple\"><rect fill=\"#FEFECE\" filter=\"url(#fhihhx8h1op5u)\" height=\"45.9375\" id=\"E5\" rx=\"10\" ry=\"10\" style=\"stroke: #A80036; stroke-width: 1.5;\" width=\"46\" x=\"113\" y=\"41\"/><text fill=\"#000000\" font-family=\"sans-serif\" font-size=\"12\" font-style=\"italic\" lengthAdjust=\"spacingAndGlyphs\" textLength=\"40\" x=\"116\" y=\"57.1387\">«part»</text><text fill=\"#000000\" font-family=\"sans-serif\" font-size=\"12\" lengthAdjust=\"spacingAndGlyphs\" textLength=\"40\" x=\"116\" y=\"71.1074\">p1: P1</text><line style=\"stroke: #A80036; stroke-width: 1.5;\" x1=\"114\" x2=\"158\" y1=\"78.9375\" y2=\"78.9375\"/></a><!--MD5=[60a26617385b1d2d0262a64233df1f8d]\n",
       "class E6--><a href=\"psysml:653cf2de-fd63-4b48-a4f2-812bd043bef4\" target=\"_top\" title=\"psysml:653cf2de-fd63-4b48-a4f2-812bd043bef4\" xlink:actuate=\"onRequest\" xlink:href=\"psysml:653cf2de-fd63-4b48-a4f2-812bd043bef4\" xlink:show=\"new\" xlink:title=\"psysml:653cf2de-fd63-4b48-a4f2-812bd043bef4\" xlink:type=\"simple\"><rect fill=\"#FEFECE\" filter=\"url(#fhihhx8h1op5u)\" height=\"45.9375\" id=\"E6\" rx=\"10\" ry=\"10\" style=\"stroke: #A80036; stroke-width: 1.5;\" width=\"42\" x=\"91\" y=\"147\"/><text fill=\"#000000\" font-family=\"sans-serif\" font-size=\"12\" font-style=\"italic\" lengthAdjust=\"spacingAndGlyphs\" textLength=\"40\" x=\"92\" y=\"163.1387\">«port»</text><text fill=\"#000000\" font-family=\"sans-serif\" font-size=\"12\" lengthAdjust=\"spacingAndGlyphs\" textLength=\"24\" x=\"100\" y=\"177.1074\">po1</text><line style=\"stroke: #A80036; stroke-width: 1.5;\" x1=\"92\" x2=\"132\" y1=\"184.9375\" y2=\"184.9375\"/></a><!--MD5=[2156ba9850f5573cc1fc38a6a4b2f02b]\n",
       "class E7--><a href=\"psysml:a2155965-1e3e-41f3-b3b0-5a1ed18f6b31\" target=\"_top\" title=\"psysml:a2155965-1e3e-41f3-b3b0-5a1ed18f6b31\" xlink:actuate=\"onRequest\" xlink:href=\"psysml:a2155965-1e3e-41f3-b3b0-5a1ed18f6b31\" xlink:show=\"new\" xlink:title=\"psysml:a2155965-1e3e-41f3-b3b0-5a1ed18f6b31\" xlink:type=\"simple\"><rect fill=\"#FEFECE\" filter=\"url(#fhihhx8h1op5u)\" height=\"45.9375\" id=\"E7\" rx=\"10\" ry=\"10\" style=\"stroke: #A80036; stroke-width: 1.5;\" width=\"46\" x=\"32\" y=\"41\"/><text fill=\"#000000\" font-family=\"sans-serif\" font-size=\"12\" font-style=\"italic\" lengthAdjust=\"spacingAndGlyphs\" textLength=\"40\" x=\"35\" y=\"57.1387\">«part»</text><text fill=\"#000000\" font-family=\"sans-serif\" font-size=\"12\" lengthAdjust=\"spacingAndGlyphs\" textLength=\"40\" x=\"35\" y=\"71.1074\">p2: P1</text><line style=\"stroke: #A80036; stroke-width: 1.5;\" x1=\"33\" x2=\"77\" y1=\"78.9375\" y2=\"78.9375\"/></a><!--MD5=[b9389687b975829384b498ac4b7476b2]\n",
       "class E8--><a href=\"psysml:44ed1293-6fc3-4c15-bfe8-a6e98039e875\" target=\"_top\" title=\"psysml:44ed1293-6fc3-4c15-bfe8-a6e98039e875\" xlink:actuate=\"onRequest\" xlink:href=\"psysml:44ed1293-6fc3-4c15-bfe8-a6e98039e875\" xlink:show=\"new\" xlink:title=\"psysml:44ed1293-6fc3-4c15-bfe8-a6e98039e875\" xlink:type=\"simple\"><rect fill=\"#FEFECE\" filter=\"url(#fhihhx8h1op5u)\" height=\"45.9375\" id=\"E8\" rx=\"10\" ry=\"10\" style=\"stroke: #A80036; stroke-width: 1.5;\" width=\"42\" x=\"63\" y=\"253\"/><text fill=\"#000000\" font-family=\"sans-serif\" font-size=\"12\" font-style=\"italic\" lengthAdjust=\"spacingAndGlyphs\" textLength=\"40\" x=\"64\" y=\"269.1387\">«port»</text><text fill=\"#000000\" font-family=\"sans-serif\" font-size=\"12\" lengthAdjust=\"spacingAndGlyphs\" textLength=\"36\" x=\"66\" y=\"283.1074\">pdest</text><line style=\"stroke: #A80036; stroke-width: 1.5;\" x1=\"64\" x2=\"104\" y1=\"290.9375\" y2=\"290.9375\"/></a><!--MD5=[4672eba38e49728da53d11aeb285b987]\n",
       "reverse link E3 to E4--><a href=\"psysml:c0c56757-3d44-421f-b231-ed3c3f6cca2a\" target=\"_top\" title=\"psysml:c0c56757-3d44-421f-b231-ed3c3f6cca2a\" xlink:actuate=\"onRequest\" xlink:href=\"psysml:c0c56757-3d44-421f-b231-ed3c3f6cca2a\" xlink:show=\"new\" xlink:title=\"psysml:c0c56757-3d44-421f-b231-ed3c3f6cca2a\" xlink:type=\"simple\"><path d=\"M188.84,206.44 C187.7,221.87 188.21,239.47 190.36,252.98 \" fill=\"none\" id=\"E3&lt;-E4\" style=\"stroke: #A80036; stroke-width: 1.0;\"/><polygon fill=\"#FFFFFF\" points=\"190.35,193.06,185.7032,198.5743,189.006,204.9845,193.6528,199.4702,190.35,193.06\" style=\"stroke: #A80036; stroke-width: 1.0;\"/><text fill=\"#000000\" font-family=\"sans-serif\" font-size=\"13\" lengthAdjust=\"spacingAndGlyphs\" textLength=\"8\" x=\"178.4255\" y=\"241.8709\">1</text></a><!--MD5=[4672eba38e49728da53d11aeb285b987]\n",
       "reverse link E3 to E4--><a href=\"psysml:baeef3bb-efbd-4f79-8bec-1b43bb5efd8f\" target=\"_top\" title=\"psysml:baeef3bb-efbd-4f79-8bec-1b43bb5efd8f\" xlink:actuate=\"onRequest\" xlink:href=\"psysml:baeef3bb-efbd-4f79-8bec-1b43bb5efd8f\" xlink:show=\"new\" xlink:title=\"psysml:baeef3bb-efbd-4f79-8bec-1b43bb5efd8f\" xlink:type=\"simple\"><path d=\"M214.01,208.34 C215.03,223.3 214.45,240.02 212.27,252.98 \" fill=\"none\" id=\"E3&lt;-E4-1\" style=\"stroke: #A80036; stroke-width: 1.0; stroke-dasharray: 7.0,7.0;\"/><ellipse cx=\"213.1693\" cy=\"201.0093\" fill=\"#FFFFFF\" rx=\"8\" ry=\"8\" style=\"stroke: #A80036; stroke-width: 1.0;\"/><line style=\"stroke: #A80036; stroke-width: 1.0;\" x1=\"214.0687\" x2=\"212.27\" y1=\"208.9586\" y2=\"193.06\"/><line style=\"stroke: #A80036; stroke-width: 1.0;\" x1=\"205.2201\" x2=\"221.1186\" y1=\"201.9086\" y2=\"200.1099\"/><text fill=\"#000000\" font-family=\"sans-serif\" font-size=\"13\" lengthAdjust=\"spacingAndGlyphs\" textLength=\"8\" x=\"206.2238\" y=\"241.8709\">1</text></a><!--MD5=[e9be52314489bd878ff4c7144b63c9e1]\n",
       "link E5 to E3--><a href=\"psysml:3c7344fe-e5a7-4cb3-b89e-76f05a842583\" target=\"_top\" title=\"psysml:3c7344fe-e5a7-4cb3-b89e-76f05a842583\" xlink:actuate=\"onRequest\" xlink:href=\"psysml:3c7344fe-e5a7-4cb3-b89e-76f05a842583\" xlink:show=\"new\" xlink:title=\"psysml:3c7344fe-e5a7-4cb3-b89e-76f05a842583\" xlink:type=\"simple\"><path d=\"M149.78,87.06 C157.54,99.47 167.45,115.33 176.49,129.78 \" fill=\"none\" id=\"E5-&gt;E3\" style=\"stroke: #A80036; stroke-width: 1.0;\"/><polygon fill=\"#FFFFFF\" points=\"187.24,146.98,171.2331,134.5792,183.1045,127.1584,187.24,146.98\" style=\"stroke: #A80036; stroke-width: 1.0;\"/><ellipse cx=\"169.9076\" cy=\"128.6857\" fill=\"#A80036\" rx=\"2\" ry=\"2\" style=\"stroke: #A80036; stroke-width: 1.0;\"/><ellipse cx=\"178.3872\" cy=\"123.3851\" fill=\"#A80036\" rx=\"2\" ry=\"2\" style=\"stroke: #A80036; stroke-width: 1.0;\"/></a><!--MD5=[85d356282659285ab4b2cfe2f634dd2b]\n",
       "reverse link E5 to E6--><a href=\"psysml:5ab2eb8f-0a8a-4f0f-b519-13b72bd8ef83\" target=\"_top\" title=\"psysml:5ab2eb8f-0a8a-4f0f-b519-13b72bd8ef83\" xlink:actuate=\"onRequest\" xlink:href=\"psysml:5ab2eb8f-0a8a-4f0f-b519-13b72bd8ef83\" xlink:show=\"new\" xlink:title=\"psysml:5ab2eb8f-0a8a-4f0f-b519-13b72bd8ef83\" xlink:type=\"simple\"><path d=\"M127.93,99.96 C124.34,115.51 120.23,133.33 117.08,146.98 \" fill=\"none\" id=\"E5&lt;-E6\" style=\"stroke: #A80036; stroke-width: 1.0;\"/><polygon fill=\"#FFFFFF\" points=\"130.91,87.06,125.6616,92.0052,128.2078,98.7518,133.4562,93.8066,130.91,87.06\" style=\"stroke: #A80036; stroke-width: 1.0;\"/><text fill=\"#000000\" font-family=\"sans-serif\" font-size=\"13\" lengthAdjust=\"spacingAndGlyphs\" textLength=\"8\" x=\"109.3703\" y=\"135.8709\">1</text></a><!--MD5=[f667431f98296947986a1a7595a31603]\n",
       "link E6 to E4--><a href=\"psysml:36152a88-3fda-40f3-9b03-bfa5e7f7b410\" target=\"_top\" title=\"psysml:36152a88-3fda-40f3-9b03-bfa5e7f7b410\" xlink:actuate=\"onRequest\" xlink:href=\"psysml:36152a88-3fda-40f3-9b03-bfa5e7f7b410\" xlink:show=\"new\" xlink:title=\"psysml:36152a88-3fda-40f3-9b03-bfa5e7f7b410\" xlink:type=\"simple\"><path d=\"M130.87,193.06 C141.97,206.02 156.28,222.74 169.08,237.7 \" fill=\"none\" id=\"E6-&gt;E4\" style=\"stroke: #A80036; stroke-width: 1.0;\"/><polygon fill=\"#FFFFFF\" points=\"182.15,252.98,164.4809,243.0905,175.1204,233.9909,182.15,252.98\" style=\"stroke: #A80036; stroke-width: 1.0;\"/><line style=\"stroke: #A80036; stroke-width: 2.0;\" x1=\"162.011\" x2=\"172.6505\" y1=\"240.2026\" y2=\"231.1031\"/></a><!--MD5=[14ccda38c055a5c0da953d572bc50960]\n",
       "link E7 to E3--><a href=\"psysml:e547b523-e8e9-4ecd-8c51-8b63037972c5\" target=\"_top\" title=\"psysml:e547b523-e8e9-4ecd-8c51-8b63037972c5\" xlink:actuate=\"onRequest\" xlink:href=\"psysml:e547b523-e8e9-4ecd-8c51-8b63037972c5\" xlink:show=\"new\" xlink:title=\"psysml:e547b523-e8e9-4ecd-8c51-8b63037972c5\" xlink:type=\"simple\"><path d=\"M78.13,81.48 C98.32,95.86 128.25,117.18 153.52,135.18 \" fill=\"none\" id=\"E7-&gt;E3\" style=\"stroke: #A80036; stroke-width: 1.0;\"/><polygon fill=\"#FFFFFF\" points=\"170.09,146.98,150.5533,141.6586,158.6755,130.2555,170.09,146.98\" style=\"stroke: #A80036; stroke-width: 1.0;\"/><ellipse cx=\"147.0709\" cy=\"136.7227\" fill=\"#A80036\" rx=\"2\" ry=\"2\" style=\"stroke: #A80036; stroke-width: 1.0;\"/><ellipse cx=\"152.8725\" cy=\"128.5776\" fill=\"#A80036\" rx=\"2\" ry=\"2\" style=\"stroke: #A80036; stroke-width: 1.0;\"/></a><!--MD5=[dc164f5e8a733ab456ef1add180e9e34]\n",
       "reverse link E7 to E8--><a href=\"psysml:b237ade3-489d-4fd0-9379-0b86f0889901\" target=\"_top\" title=\"psysml:b237ade3-489d-4fd0-9379-0b86f0889901\" xlink:actuate=\"onRequest\" xlink:href=\"psysml:b237ade3-489d-4fd0-9379-0b86f0889901\" xlink:show=\"new\" xlink:title=\"psysml:b237ade3-489d-4fd0-9379-0b86f0889901\" xlink:type=\"simple\"><path d=\"M50.05,100.09 C51.65,143.61 62.25,216.5 72.75,252.9 \" fill=\"none\" id=\"E7&lt;-E8\" style=\"stroke: #A80036; stroke-width: 1.0;\"/><polygon fill=\"#FFFFFF\" points=\"49.85,87.08,45.9362,93.1366,50.0216,99.0788,53.9354,93.0222,49.85,87.08\" style=\"stroke: #A80036; stroke-width: 1.0;\"/><text fill=\"#000000\" font-family=\"sans-serif\" font-size=\"13\" lengthAdjust=\"spacingAndGlyphs\" textLength=\"8\" x=\"60.6516\" y=\"241.7694\">1</text></a><!--MD5=[dc164f5e8a733ab456ef1add180e9e34]\n",
       "reverse link E7 to E8--><a href=\"psysml:7018d996-601d-4a38-842d-acb296e8ea77\" target=\"_top\" title=\"psysml:7018d996-601d-4a38-842d-acb296e8ea77\" xlink:actuate=\"onRequest\" xlink:href=\"psysml:7018d996-601d-4a38-842d-acb296e8ea77\" xlink:show=\"new\" xlink:title=\"psysml:7018d996-601d-4a38-842d-acb296e8ea77\" xlink:type=\"simple\"><path d=\"M70.64,101.8 C81.15,145.5 90.39,216.97 89.63,252.9 \" fill=\"none\" id=\"E7&lt;-E8-1\" style=\"stroke: #A80036; stroke-width: 1.0; stroke-dasharray: 7.0,7.0;\"/><ellipse cx=\"68.7794\" cy=\"94.813\" fill=\"#FFFFFF\" rx=\"8\" ry=\"8\" style=\"stroke: #A80036; stroke-width: 1.0;\"/><line style=\"stroke: #A80036; stroke-width: 1.0;\" x1=\"70.8289\" x2=\"66.73\" y1=\"102.5461\" y2=\"87.08\"/><line style=\"stroke: #A80036; stroke-width: 1.0;\" x1=\"61.0464\" x2=\"76.5125\" y1=\"96.8625\" y2=\"92.7636\"/><text fill=\"#000000\" font-family=\"sans-serif\" font-size=\"13\" lengthAdjust=\"spacingAndGlyphs\" textLength=\"8\" x=\"92.2181\" y=\"241.7694\">1</text></a><!--MD5=[0a839d0f80c2d72d4b9b307f046d0de8]\n",
       "link E6 to E8--><a href=\"psysml:1ea7862a-7bab-4478-95a9-37aa2484c274\" target=\"_top\" title=\"psysml:1ea7862a-7bab-4478-95a9-37aa2484c274\" xlink:actuate=\"onRequest\" xlink:href=\"psysml:1ea7862a-7bab-4478-95a9-37aa2484c274\" xlink:show=\"new\" xlink:title=\"psysml:1ea7862a-7bab-4478-95a9-37aa2484c274\" xlink:type=\"simple\"><path d=\"M95.42,193.06 C87.86,210.7 81.23,235.34 79.29,252.98 \" fill=\"none\" id=\"E6-E8\" style=\"stroke: #A80036; stroke-width: 3.0;\"/><text fill=\"#000000\" font-family=\"sans-serif\" font-size=\"13\" lengthAdjust=\"spacingAndGlyphs\" textLength=\"7\" x=\"78.9648\" y=\"241.8709\">*</text></a><!--MD5=[0a839d0f80c2d72d4b9b307f046d0de8]\n",
       "link E6 to E8--><a href=\"psysml:1e1521f0-84d2-4d6c-a787-5301105b41c5\" target=\"_top\" title=\"psysml:1e1521f0-84d2-4d6c-a787-5301105b41c5\" xlink:actuate=\"onRequest\" xlink:href=\"psysml:1e1521f0-84d2-4d6c-a787-5301105b41c5\" xlink:show=\"new\" xlink:title=\"psysml:1e1521f0-84d2-4d6c-a787-5301105b41c5\" xlink:type=\"simple\"><path d=\"M117.33,193.06 C115.55,210.7 108.92,235.34 101.2,252.98 \" fill=\"none\" id=\"E6-E8-1\" style=\"stroke: #A80036; stroke-width: 3.0;\"/><text fill=\"#000000\" font-family=\"sans-serif\" font-size=\"13\" lengthAdjust=\"spacingAndGlyphs\" textLength=\"7\" x=\"97.8819\" y=\"241.8709\">*</text></a><!--MD5=[34ccb67400bb8744fcacf2c2dc3294c3]\n",
       "@startuml\r\n",
       "skinparam wrapWidth 300\r\n",
       "hide circle\r\n",
       "\r\n",
       "package \"AliasTest\" as E1  [[psysml:c9a65f38-ba0f-435c-ac18-78f76b0c8149 ]]  {\r\n",
       "comp usage \"q\" as E2  <<(T,blue) attribute>> [[psysml:252bcdae-bf35-4751-96e5-d2689f20556e ]] {\r\n",
       "}\r\n",
       "comp def \"P1\" as E3  <<(T,blue) part def>> [[psysml:6d109465-d99f-46f9-9a55-615eadc52ec3 ]] {\r\n",
       "}\r\n",
       "comp usage \"porig1\" as E4  <<(T,blue) port>> [[psysml:07c215ea-3a50-4500-a498-5909961b01ab ]] {\r\n",
       "}\r\n",
       "comp usage \"p1: P1\" as E5  <<(T,blue) part>> [[psysml:4b72c15b-2565-4f84-9632-f618b5b9807b ]] {\r\n",
       "}\r\n",
       "comp usage \"po1\" as E6  <<(T,blue) port>> [[psysml:653cf2de-fd63-4b48-a4f2-812bd043bef4 ]] {\r\n",
       "}\r\n",
       "comp usage \"p2: P1\" as E7  <<(T,blue) part>> [[psysml:a2155965-1e3e-41f3-b3b0-5a1ed18f6b31 ]] {\r\n",
       "}\r\n",
       "comp usage \"pdest\" as E8  <<(T,blue) port>> [[psysml:44ed1293-6fc3-4c15-bfe8-a6e98039e875 ]] {\r\n",
       "}\r\n",
       "}\r\n",
       "E3 o- - \"1\"E4 [[psysml:c0c56757-3d44-421f-b231-ed3c3f6cca2a ]] \r\n",
       "E3 +.. \"1\"E4 [[psysml:baeef3bb-efbd-4f79-8bec-1b43bb5efd8f ]] \r\n",
       "E5 - -:|> E3 [[psysml:3c7344fe-e5a7-4cb3-b89e-76f05a842583 ]] \r\n",
       "E5 o- - \"1\"E6 [[psysml:5ab2eb8f-0a8a-4f0f-b519-13b72bd8ef83 ]] \r\n",
       "E6 - -||> E4 [[psysml:36152a88-3fda-40f3-9b03-bfa5e7f7b410 ]] \r\n",
       "E7 - -:|> E3 [[psysml:e547b523-e8e9-4ecd-8c51-8b63037972c5 ]] \r\n",
       "E7 o- - \"1\"E8 [[psysml:b237ade3-489d-4fd0-9379-0b86f0889901 ]] \r\n",
       "E7 +.. \"1\"E8 [[psysml:7018d996-601d-4a38-842d-acb296e8ea77 ]] \r\n",
       "E6 -[thickness=3]- \"*\"E8 [[psysml:1ea7862a-7bab-4478-95a9-37aa2484c274 ]] \r\n",
       "E6 -[thickness=3]- \"*\"E8 [[psysml:1e1521f0-84d2-4d6c-a787-5301105b41c5 ]] \r\n",
       "@enduml\r\n",
       "\n",
       "PlantUML version 1.2020.13(Sat Jun 13 12:26:38 UTC 2020)\n",
       "(EPL source distribution)\n",
       "Java Runtime: OpenJDK Runtime Environment\n",
       "JVM: OpenJDK 64-Bit Server VM\n",
       "Default Encoding: UTF-8\n",
       "Language: en\n",
       "Country: null\n",
       "--></g></svg>"
      ]
     },
     "execution_count": 24,
     "metadata": {},
     "output_type": "execute_result"
    }
   ],
   "source": [
    "%viz --style=\"STDCOLOR\" --view=\"Tree\" \"AliasTest\""
   ]
  },
  {
   "cell_type": "code",
   "execution_count": 25,
   "id": "bb16485b",
   "metadata": {
    "execution": {
     "iopub.execute_input": "2021-10-03T08:30:11.318474Z",
     "iopub.status.busy": "2021-10-03T08:30:11.318079Z",
     "iopub.status.idle": "2021-10-03T08:30:11.322822Z",
     "shell.execute_reply": "2021-10-03T08:30:11.323133Z"
    }
   },
   "outputs": [
    {
     "data": {
      "image/svg+xml": [
       "<?xml version=\"1.0\" encoding=\"UTF-8\" standalone=\"no\"?><svg xmlns=\"http://www.w3.org/2000/svg\" xmlns:xlink=\"http://www.w3.org/1999/xlink\" contentScriptType=\"application/ecmascript\" contentStyleType=\"text/css\" height=\"12px\" preserveAspectRatio=\"none\" style=\"width:12px;height:12px;\" version=\"1.1\" viewBox=\"0 0 12 12\" width=\"12px\" zoomAndPan=\"magnify\"><defs/><g><!--MD5=[aeeef50f102b80d730deb6443d14f702]\n",
       "@startuml\r\n",
       "skinparam wrapWidth 300\r\n",
       "hide circle\r\n",
       "\r\n",
       "@enduml\r\n",
       "\n",
       "PlantUML version 1.2020.13(Sat Jun 13 12:26:38 UTC 2020)\n",
       "(EPL source distribution)\n",
       "Java Runtime: OpenJDK Runtime Environment\n",
       "JVM: OpenJDK 64-Bit Server VM\n",
       "Default Encoding: UTF-8\n",
       "Language: en\n",
       "Country: null\n",
       "--></g></svg>"
      ]
     },
     "execution_count": 25,
     "metadata": {},
     "output_type": "execute_result"
    }
   ],
   "source": [
    "%viz --style=\"STDCOLOR\" --view=\"State\" \"AliasTest\""
   ]
  },
  {
   "cell_type": "code",
   "execution_count": 26,
   "id": "8bb1a81c",
   "metadata": {
    "execution": {
     "iopub.execute_input": "2021-10-03T08:30:11.372899Z",
     "iopub.status.busy": "2021-10-03T08:30:11.372491Z",
     "iopub.status.idle": "2021-10-03T08:30:11.408605Z",
     "shell.execute_reply": "2021-10-03T08:30:11.408246Z"
    }
   },
   "outputs": [
    {
     "data": {
      "image/svg+xml": [
       "<?xml version=\"1.0\" encoding=\"UTF-8\" standalone=\"no\"?><svg xmlns=\"http://www.w3.org/2000/svg\" xmlns:xlink=\"http://www.w3.org/1999/xlink\" contentScriptType=\"application/ecmascript\" contentStyleType=\"text/css\" height=\"233px\" preserveAspectRatio=\"none\" style=\"width:474px;height:233px;\" version=\"1.1\" viewBox=\"0 0 474 233\" width=\"474px\" zoomAndPan=\"magnify\"><defs><filter height=\"300%\" id=\"f13u6s304zt12m\" width=\"300%\" x=\"-1\" y=\"-1\"><feGaussianBlur result=\"blurOut\" stdDeviation=\"2.0\"/><feColorMatrix in=\"blurOut\" result=\"blurOut2\" type=\"matrix\" values=\"0 0 0 0 0 0 0 0 0 0 0 0 0 0 0 0 0 0 .4 0\"/><feOffset dx=\"4.0\" dy=\"4.0\" in=\"blurOut2\" result=\"blurOut3\"/><feBlend in=\"SourceGraphic\" in2=\"blurOut3\" mode=\"normal\"/></filter></defs><g><!--MD5=[fbc87193dbaf4d95561dea2c320d4a47]\n",
       "cluster E1--><a href=\"psysml:c9a65f38-ba0f-435c-ac18-78f76b0c8149\" target=\"_top\" title=\"psysml:c9a65f38-ba0f-435c-ac18-78f76b0c8149\" xlink:actuate=\"onRequest\" xlink:href=\"psysml:c9a65f38-ba0f-435c-ac18-78f76b0c8149\" xlink:show=\"new\" xlink:title=\"psysml:c9a65f38-ba0f-435c-ac18-78f76b0c8149\" xlink:type=\"simple\"><polygon fill=\"#FFFFFF\" filter=\"url(#f13u6s304zt12m)\" points=\"16,6,84,6,91,28.2969,452,28.2969,452,221,16,221,16,6\" style=\"stroke: #000000; stroke-width: 1.5;\"/><line style=\"stroke: #000000; stroke-width: 1.5;\" x1=\"16\" x2=\"91\" y1=\"28.2969\" y2=\"28.2969\"/><text fill=\"#000000\" font-family=\"sans-serif\" font-size=\"14\" font-weight=\"bold\" lengthAdjust=\"spacingAndGlyphs\" textLength=\"62\" x=\"20\" y=\"20.9951\">AliasTest</text></a><!--MD5=[d5e69f78d87373223dbae638b30a9c99]\n",
       "cluster E3--><a href=\"psysml:6d109465-d99f-46f9-9a55-615eadc52ec3\" target=\"_top\" title=\"psysml:6d109465-d99f-46f9-9a55-615eadc52ec3\" xlink:actuate=\"onRequest\" xlink:href=\"psysml:6d109465-d99f-46f9-9a55-615eadc52ec3\" xlink:show=\"new\" xlink:title=\"psysml:6d109465-d99f-46f9-9a55-615eadc52ec3\" xlink:type=\"simple\"><rect fill=\"#FFFFFF\" filter=\"url(#f13u6s304zt12m)\" height=\"90\" id=\"E3\" style=\"stroke: #A80036; stroke-width: 1.5;\" width=\"83\" x=\"312\" y=\"64\"/><rect fill=\"#FEFECE\" height=\"37.9375\" style=\"stroke: #A80036; stroke-width: 1.5;\" width=\"83\" x=\"312\" y=\"64\"/><text fill=\"#000000\" font-family=\"sans-serif\" font-size=\"12\" font-style=\"italic\" lengthAdjust=\"spacingAndGlyphs\" textLength=\"64\" x=\"321.5\" y=\"80.1387\">«part def»</text><text fill=\"#000000\" font-family=\"sans-serif\" font-size=\"12\" lengthAdjust=\"spacingAndGlyphs\" textLength=\"16\" x=\"345.5\" y=\"94.1074\">P1</text></a><!--MD5=[14e3b0961a2654348d326746436168a1]\n",
       "cluster E6--><a href=\"psysml:4b72c15b-2565-4f84-9632-f618b5b9807b\" target=\"_top\" title=\"psysml:4b72c15b-2565-4f84-9632-f618b5b9807b\" xlink:actuate=\"onRequest\" xlink:href=\"psysml:4b72c15b-2565-4f84-9632-f618b5b9807b\" xlink:show=\"new\" xlink:title=\"psysml:4b72c15b-2565-4f84-9632-f618b5b9807b\" xlink:type=\"simple\"><rect fill=\"#FFFFFF\" filter=\"url(#f13u6s304zt12m)\" height=\"82\" id=\"E6\" rx=\"10\" ry=\"10\" style=\"stroke: #A80036; stroke-width: 1.5;\" width=\"98\" x=\"112\" y=\"64\"/><rect fill=\"#FEFECE\" height=\"23.9688\" rx=\"10\" ry=\"10\" style=\"stroke: #FEFECE; stroke-width: 1.5;\" width=\"98\" x=\"112\" y=\"64\"/><rect fill=\"#FEFECE\" height=\"10\" style=\"stroke: #FEFECE; stroke-width: 1.5;\" width=\"98\" x=\"112\" y=\"77.9688\"/><rect fill=\"none\" height=\"82\" id=\"E6\" rx=\"10\" ry=\"10\" style=\"stroke: #A80036; stroke-width: 1.5;\" width=\"98\" x=\"112\" y=\"64\"/><text fill=\"#000000\" font-family=\"sans-serif\" font-size=\"12\" lengthAdjust=\"spacingAndGlyphs\" textLength=\"40\" x=\"141\" y=\"80.1387\">p1: P1</text><line style=\"stroke: #A80036; stroke-width: 1.0;\" x1=\"112\" x2=\"210\" y1=\"87.9688\" y2=\"87.9688\"/></a><!--MD5=[55dfccfc6c49c2d10cd1bd2211a6c90c]\n",
       "cluster E8--><a href=\"psysml:a2155965-1e3e-41f3-b3b0-5a1ed18f6b31\" target=\"_top\" title=\"psysml:a2155965-1e3e-41f3-b3b0-5a1ed18f6b31\" xlink:actuate=\"onRequest\" xlink:href=\"psysml:a2155965-1e3e-41f3-b3b0-5a1ed18f6b31\" xlink:show=\"new\" xlink:title=\"psysml:a2155965-1e3e-41f3-b3b0-5a1ed18f6b31\" xlink:type=\"simple\"><rect fill=\"#FFFFFF\" filter=\"url(#f13u6s304zt12m)\" height=\"84.5\" id=\"E8\" rx=\"10\" ry=\"10\" style=\"stroke: #A80036; stroke-width: 1.5;\" width=\"83\" x=\"213\" y=\"120.5\"/><rect fill=\"#FEFECE\" height=\"23.9688\" rx=\"10\" ry=\"10\" style=\"stroke: #FEFECE; stroke-width: 1.5;\" width=\"83\" x=\"213\" y=\"120.5\"/><rect fill=\"#FEFECE\" height=\"10\" style=\"stroke: #FEFECE; stroke-width: 1.5;\" width=\"83\" x=\"213\" y=\"134.4688\"/><rect fill=\"none\" height=\"84.5\" id=\"E8\" rx=\"10\" ry=\"10\" style=\"stroke: #A80036; stroke-width: 1.5;\" width=\"83\" x=\"213\" y=\"120.5\"/><text fill=\"#000000\" font-family=\"sans-serif\" font-size=\"12\" lengthAdjust=\"spacingAndGlyphs\" textLength=\"40\" x=\"234.5\" y=\"136.6387\">p2: P1</text><line style=\"stroke: #A80036; stroke-width: 1.0;\" x1=\"213\" x2=\"296\" y1=\"144.4688\" y2=\"144.4688\"/></a><!--MD5=[b4997ac47864f28c2f74865a473b2911]\n",
       "class E2--><a href=\"psysml:252bcdae-bf35-4751-96e5-d2689f20556e\" target=\"_top\" title=\"psysml:252bcdae-bf35-4751-96e5-d2689f20556e\" xlink:actuate=\"onRequest\" xlink:href=\"psysml:252bcdae-bf35-4751-96e5-d2689f20556e\" xlink:show=\"new\" xlink:title=\"psysml:252bcdae-bf35-4751-96e5-d2689f20556e\" xlink:type=\"simple\"><rect fill=\"#FEFECE\" filter=\"url(#f13u6s304zt12m)\" height=\"45.9375\" id=\"E2\" rx=\"10\" ry=\"10\" style=\"stroke: #A80036; stroke-width: 1.5;\" width=\"71\" x=\"32.5\" y=\"41\"/><text fill=\"#000000\" font-family=\"sans-serif\" font-size=\"12\" font-style=\"italic\" lengthAdjust=\"spacingAndGlyphs\" textLength=\"69\" x=\"33.5\" y=\"57.1387\">«attribute»</text><text fill=\"#000000\" font-family=\"sans-serif\" font-size=\"12\" lengthAdjust=\"spacingAndGlyphs\" textLength=\"8\" x=\"64\" y=\"71.1074\">q</text><line style=\"stroke: #A80036; stroke-width: 1.5;\" x1=\"33.5\" x2=\"102.5\" y1=\"78.9375\" y2=\"78.9375\"/></a><text fill=\"#000000\" font-family=\"sans-serif\" font-size=\"14\" lengthAdjust=\"spacingAndGlyphs\" textLength=\"44\" x=\"308\" y=\"42.6982\">porig1</text><rect fill=\"#A80036\" height=\"12\" style=\"stroke: #FEFECE; stroke-width: 1.5;\" width=\"12\" x=\"324\" y=\"58\"/><text fill=\"#000000\" font-family=\"sans-serif\" font-size=\"14\" lengthAdjust=\"spacingAndGlyphs\" textLength=\"44\" x=\"355\" y=\"42.6982\">porig1</text><rect fill=\"#A80036\" height=\"12\" style=\"stroke: #FEFECE; stroke-width: 1.5;\" width=\"12\" x=\"371\" y=\"58\"/><text fill=\"#000000\" font-family=\"sans-serif\" font-size=\"14\" lengthAdjust=\"spacingAndGlyphs\" textLength=\"27\" x=\"178.5\" y=\"42.6982\">po1</text><rect fill=\"#A80036\" height=\"12\" style=\"stroke: #FEFECE; stroke-width: 1.5;\" width=\"12\" x=\"186\" y=\"58\"/><text fill=\"#000000\" font-family=\"sans-serif\" font-size=\"14\" lengthAdjust=\"spacingAndGlyphs\" textLength=\"40\" x=\"211\" y=\"99.1982\">pdest</text><rect fill=\"#A80036\" height=\"12\" style=\"stroke: #FEFECE; stroke-width: 1.5;\" width=\"12\" x=\"225\" y=\"114.5\"/><text fill=\"#000000\" font-family=\"sans-serif\" font-size=\"14\" lengthAdjust=\"spacingAndGlyphs\" textLength=\"40\" x=\"258\" y=\"99.1982\">pdest</text><rect fill=\"#A80036\" height=\"12\" style=\"stroke: #FEFECE; stroke-width: 1.5;\" width=\"12\" x=\"272\" y=\"114.5\"/><!--MD5=[1c0b9414cc86e0744215edee6abd8926]\n",
       "link E7 to E9--><a href=\"psysml:1ea7862a-7bab-4478-95a9-37aa2484c274\" target=\"_top\" title=\"psysml:1ea7862a-7bab-4478-95a9-37aa2484c274\" xlink:actuate=\"onRequest\" xlink:href=\"psysml:1ea7862a-7bab-4478-95a9-37aa2484c274\" xlink:show=\"new\" xlink:title=\"psysml:1ea7862a-7bab-4478-95a9-37aa2484c274\" xlink:type=\"simple\"><path d=\"M187.83,70.03 C188.72,81.73 210.14,110.34 224.83,117.73 \" fill=\"none\" id=\"E7-E9\" style=\"stroke: #A80036; stroke-width: 3.0;\"/><text fill=\"#000000\" font-family=\"sans-serif\" font-size=\"13\" lengthAdjust=\"spacingAndGlyphs\" textLength=\"7\" x=\"209.8523\" y=\"106.3789\">*</text></a><!--MD5=[1c0b9414cc86e0744215edee6abd8926]\n",
       "link E7 to E9--><a href=\"psysml:1e1521f0-84d2-4d6c-a787-5301105b41c5\" target=\"_top\" title=\"psysml:1e1521f0-84d2-4d6c-a787-5301105b41c5\" xlink:actuate=\"onRequest\" xlink:href=\"psysml:1e1521f0-84d2-4d6c-a787-5301105b41c5\" xlink:show=\"new\" xlink:title=\"psysml:1e1521f0-84d2-4d6c-a787-5301105b41c5\" xlink:type=\"simple\"><path d=\"M198.05,66.57 C213.27,73.62 235.05,102.5 235.62,114.37 \" fill=\"none\" id=\"E7-E9-1\" style=\"stroke: #A80036; stroke-width: 3.0;\"/><text fill=\"#000000\" font-family=\"sans-serif\" font-size=\"13\" lengthAdjust=\"spacingAndGlyphs\" textLength=\"7\" x=\"229.278\" y=\"103.4683\">*</text></a><!--MD5=[492b16e4b9bc6b63aa0e1b7b71619f0d]\n",
       "@startuml\r\n",
       "skinparam ranksep 10\r\n",
       "skinparam rectangle {\r\n",
       " backgroundColor<<block>> LightGreen\r\n",
       "}\r\n",
       "skinparam wrapWidth 300\r\n",
       "hide circle\r\n",
       "\r\n",
       "package \"AliasTest\" as E1  [[psysml:c9a65f38-ba0f-435c-ac18-78f76b0c8149 ]]  {\r\n",
       "comp usage \"q\" as E2  <<(T,blue) attribute>> [[psysml:252bcdae-bf35-4751-96e5-d2689f20556e ]] {\r\n",
       "}\r\n",
       "rec def \"P1\" as E3  <<(T,blue) part def>> [[psysml:6d109465-d99f-46f9-9a55-615eadc52ec3 ]] {\r\n",
       "portin \"porig1\" as E4  <<(T,blue) port>> [[psysml:07c215ea-3a50-4500-a498-5909961b01ab ]] \r\n",
       "portin \"porig1\" as E5  <<(T,blue) port>> [[psysml:07c215ea-3a50-4500-a498-5909961b01ab ]] \r\n",
       "}\r\n",
       "rec usage \"p1: P1\" as E6  [[psysml:4b72c15b-2565-4f84-9632-f618b5b9807b ]] {\r\n",
       "portin \"po1\" as E7  <<(T,blue) port>> [[psysml:653cf2de-fd63-4b48-a4f2-812bd043bef4 ]] \r\n",
       "}\r\n",
       "rec usage \"p2: P1\" as E8  [[psysml:a2155965-1e3e-41f3-b3b0-5a1ed18f6b31 ]] {\r\n",
       "portin \"pdest\" as E9  <<(T,blue) port>> [[psysml:44ed1293-6fc3-4c15-bfe8-a6e98039e875 ]] \r\n",
       "portin \"pdest\" as E10  <<(T,blue) port>> [[psysml:44ed1293-6fc3-4c15-bfe8-a6e98039e875 ]] \r\n",
       "}\r\n",
       "}\r\n",
       "E7 -[thickness=3]- \"*\"E9 [[psysml:1ea7862a-7bab-4478-95a9-37aa2484c274 ]] \r\n",
       "E7 -[thickness=3]- \"*\"E9 [[psysml:1e1521f0-84d2-4d6c-a787-5301105b41c5 ]] \r\n",
       "@enduml\r\n",
       "\n",
       "PlantUML version 1.2020.13(Sat Jun 13 12:26:38 UTC 2020)\n",
       "(EPL source distribution)\n",
       "Java Runtime: OpenJDK Runtime Environment\n",
       "JVM: OpenJDK 64-Bit Server VM\n",
       "Default Encoding: UTF-8\n",
       "Language: en\n",
       "Country: null\n",
       "--></g></svg>"
      ]
     },
     "execution_count": 26,
     "metadata": {},
     "output_type": "execute_result"
    }
   ],
   "source": [
    "%viz --style=\"STDCOLOR\" --view=\"Interconnection\" \"AliasTest\""
   ]
  },
  {
   "cell_type": "code",
   "execution_count": 27,
   "id": "628201e5",
   "metadata": {
    "execution": {
     "iopub.execute_input": "2021-10-03T08:30:11.457854Z",
     "iopub.status.busy": "2021-10-03T08:30:11.457456Z",
     "iopub.status.idle": "2021-10-03T08:30:11.462210Z",
     "shell.execute_reply": "2021-10-03T08:30:11.462523Z"
    }
   },
   "outputs": [
    {
     "data": {
      "image/svg+xml": [
       "<?xml version=\"1.0\" encoding=\"UTF-8\" standalone=\"no\"?><svg xmlns=\"http://www.w3.org/2000/svg\" xmlns:xlink=\"http://www.w3.org/1999/xlink\" contentScriptType=\"application/ecmascript\" contentStyleType=\"text/css\" height=\"12px\" preserveAspectRatio=\"none\" style=\"width:12px;height:12px;\" version=\"1.1\" viewBox=\"0 0 12 12\" width=\"12px\" zoomAndPan=\"magnify\"><defs/><g><!--MD5=[9863325348a96a77dacc89509d8ee65e]\n",
       "@startuml\r\n",
       "skinparam ranksep 8\r\n",
       "skinparam wrapWidth 300\r\n",
       "hide circle\r\n",
       "\r\n",
       "@enduml\r\n",
       "\n",
       "PlantUML version 1.2020.13(Sat Jun 13 12:26:38 UTC 2020)\n",
       "(EPL source distribution)\n",
       "Java Runtime: OpenJDK Runtime Environment\n",
       "JVM: OpenJDK 64-Bit Server VM\n",
       "Default Encoding: UTF-8\n",
       "Language: en\n",
       "Country: null\n",
       "--></g></svg>"
      ]
     },
     "execution_count": 27,
     "metadata": {},
     "output_type": "execute_result"
    }
   ],
   "source": [
    "%viz --style=\"STDCOLOR\" --view=\"Action\" \"AliasTest\""
   ]
  },
  {
   "cell_type": "code",
   "execution_count": 28,
   "id": "4ab2f9d3",
   "metadata": {
    "execution": {
     "iopub.execute_input": "2021-10-03T08:30:11.512680Z",
     "iopub.status.busy": "2021-10-03T08:30:11.512198Z",
     "iopub.status.idle": "2021-10-03T08:30:11.517516Z",
     "shell.execute_reply": "2021-10-03T08:30:11.517132Z"
    }
   },
   "outputs": [
    {
     "data": {
      "image/svg+xml": [
       "<?xml version=\"1.0\" encoding=\"UTF-8\" standalone=\"no\"?><svg xmlns=\"http://www.w3.org/2000/svg\" xmlns:xlink=\"http://www.w3.org/1999/xlink\" contentScriptType=\"application/ecmascript\" contentStyleType=\"text/css\" height=\"12px\" preserveAspectRatio=\"none\" style=\"width:12px;height:12px;\" version=\"1.1\" viewBox=\"0 0 12 12\" width=\"12px\" zoomAndPan=\"magnify\"><defs/><g><!--MD5=[6c4bca67b4d71758159a5a7f1f1e1fc2]\n",
       "@startuml\r\n",
       "skinparam roundcorner 20\r\n",
       "skinparam BoxPadding 20\r\n",
       "skinparam SequenceBoxBackgroundColor #white\r\n",
       "skinparam style strictuml\r\n",
       "skinparam maxMessageSize 100\r\n",
       "skinparam wrapWidth 300\r\n",
       "hide circle\r\n",
       "\r\n",
       "@enduml\r\n",
       "\n",
       "PlantUML version 1.2020.13(Sat Jun 13 12:26:38 UTC 2020)\n",
       "(EPL source distribution)\n",
       "Java Runtime: OpenJDK Runtime Environment\n",
       "JVM: OpenJDK 64-Bit Server VM\n",
       "Default Encoding: UTF-8\n",
       "Language: en\n",
       "Country: null\n",
       "--></g></svg>"
      ]
     },
     "execution_count": 28,
     "metadata": {},
     "output_type": "execute_result"
    }
   ],
   "source": [
    "%viz --style=\"STDCOLOR\" --view=\"Sequence\" \"AliasTest\""
   ]
  },
  {
   "cell_type": "code",
   "execution_count": 29,
   "id": "33682894",
   "metadata": {
    "execution": {
     "iopub.execute_input": "2021-10-03T08:30:11.566823Z",
     "iopub.status.busy": "2021-10-03T08:30:11.566409Z",
     "iopub.status.idle": "2021-10-03T08:30:11.609014Z",
     "shell.execute_reply": "2021-10-03T08:30:11.609343Z"
    }
   },
   "outputs": [
    {
     "data": {
      "image/svg+xml": [
       "<?xml version=\"1.0\" encoding=\"UTF-8\" standalone=\"no\"?><svg xmlns=\"http://www.w3.org/2000/svg\" xmlns:xlink=\"http://www.w3.org/1999/xlink\" contentScriptType=\"application/ecmascript\" contentStyleType=\"text/css\" height=\"327px\" preserveAspectRatio=\"none\" style=\"width:304px;height:327px;\" version=\"1.1\" viewBox=\"0 0 304 327\" width=\"304px\" zoomAndPan=\"magnify\"><defs><filter height=\"300%\" id=\"fhihhx8h1op5u\" width=\"300%\" x=\"-1\" y=\"-1\"><feGaussianBlur result=\"blurOut\" stdDeviation=\"2.0\"/><feColorMatrix in=\"blurOut\" result=\"blurOut2\" type=\"matrix\" values=\"0 0 0 0 0 0 0 0 0 0 0 0 0 0 0 0 0 0 .4 0\"/><feOffset dx=\"4.0\" dy=\"4.0\" in=\"blurOut2\" result=\"blurOut3\"/><feBlend in=\"SourceGraphic\" in2=\"blurOut3\" mode=\"normal\"/></filter></defs><g><!--MD5=[fbc87193dbaf4d95561dea2c320d4a47]\n",
       "cluster E1--><a href=\"psysml:c9a65f38-ba0f-435c-ac18-78f76b0c8149\" target=\"_top\" title=\"psysml:c9a65f38-ba0f-435c-ac18-78f76b0c8149\" xlink:actuate=\"onRequest\" xlink:href=\"psysml:c9a65f38-ba0f-435c-ac18-78f76b0c8149\" xlink:show=\"new\" xlink:title=\"psysml:c9a65f38-ba0f-435c-ac18-78f76b0c8149\" xlink:type=\"simple\"><polygon fill=\"#FFFFFF\" filter=\"url(#fhihhx8h1op5u)\" points=\"16,6,84,6,91,28.2969,282,28.2969,282,315,16,315,16,6\" style=\"stroke: #000000; stroke-width: 1.5;\"/><line style=\"stroke: #000000; stroke-width: 1.5;\" x1=\"16\" x2=\"91\" y1=\"28.2969\" y2=\"28.2969\"/><text fill=\"#000000\" font-family=\"sans-serif\" font-size=\"14\" font-weight=\"bold\" lengthAdjust=\"spacingAndGlyphs\" textLength=\"62\" x=\"20\" y=\"20.9951\">AliasTest</text></a><!--MD5=[b4997ac47864f28c2f74865a473b2911]\n",
       "class E2--><a href=\"psysml:252bcdae-bf35-4751-96e5-d2689f20556e\" target=\"_top\" title=\"psysml:252bcdae-bf35-4751-96e5-d2689f20556e\" xlink:actuate=\"onRequest\" xlink:href=\"psysml:252bcdae-bf35-4751-96e5-d2689f20556e\" xlink:show=\"new\" xlink:title=\"psysml:252bcdae-bf35-4751-96e5-d2689f20556e\" xlink:type=\"simple\"><rect fill=\"#FEFECE\" filter=\"url(#fhihhx8h1op5u)\" height=\"45.9375\" id=\"E2\" rx=\"10\" ry=\"10\" style=\"stroke: #A80036; stroke-width: 1.5;\" width=\"71\" x=\"194.5\" y=\"41\"/><text fill=\"#000000\" font-family=\"sans-serif\" font-size=\"12\" font-style=\"italic\" lengthAdjust=\"spacingAndGlyphs\" textLength=\"69\" x=\"195.5\" y=\"57.1387\">«attribute»</text><text fill=\"#000000\" font-family=\"sans-serif\" font-size=\"12\" lengthAdjust=\"spacingAndGlyphs\" textLength=\"8\" x=\"226\" y=\"71.1074\">q</text><line style=\"stroke: #A80036; stroke-width: 1.5;\" x1=\"195.5\" x2=\"264.5\" y1=\"78.9375\" y2=\"78.9375\"/></a><!--MD5=[09b614a08d8cba4a07c9adeb5e0fee81]\n",
       "class E3--><a href=\"psysml:6d109465-d99f-46f9-9a55-615eadc52ec3\" target=\"_top\" title=\"psysml:6d109465-d99f-46f9-9a55-615eadc52ec3\" xlink:actuate=\"onRequest\" xlink:href=\"psysml:6d109465-d99f-46f9-9a55-615eadc52ec3\" xlink:show=\"new\" xlink:title=\"psysml:6d109465-d99f-46f9-9a55-615eadc52ec3\" xlink:type=\"simple\"><rect fill=\"#FEFECE\" filter=\"url(#fhihhx8h1op5u)\" height=\"45.9375\" id=\"E3\" style=\"stroke: #A80036; stroke-width: 1.5;\" width=\"66\" x=\"168\" y=\"147\"/><text fill=\"#000000\" font-family=\"sans-serif\" font-size=\"12\" font-style=\"italic\" lengthAdjust=\"spacingAndGlyphs\" textLength=\"64\" x=\"169\" y=\"163.1387\">«part def»</text><text fill=\"#000000\" font-family=\"sans-serif\" font-size=\"12\" lengthAdjust=\"spacingAndGlyphs\" textLength=\"16\" x=\"193\" y=\"177.1074\">P1</text><line style=\"stroke: #A80036; stroke-width: 1.5;\" x1=\"169\" x2=\"233\" y1=\"184.9375\" y2=\"184.9375\"/></a><!--MD5=[ebbe1d658d1005bcc118a6aa81145e00]\n",
       "class E4--><a href=\"psysml:07c215ea-3a50-4500-a498-5909961b01ab\" target=\"_top\" title=\"psysml:07c215ea-3a50-4500-a498-5909961b01ab\" xlink:actuate=\"onRequest\" xlink:href=\"psysml:07c215ea-3a50-4500-a498-5909961b01ab\" xlink:show=\"new\" xlink:title=\"psysml:07c215ea-3a50-4500-a498-5909961b01ab\" xlink:type=\"simple\"><rect fill=\"#FEFECE\" filter=\"url(#fhihhx8h1op5u)\" height=\"45.9375\" id=\"E4\" rx=\"10\" ry=\"10\" style=\"stroke: #A80036; stroke-width: 1.5;\" width=\"46\" x=\"178\" y=\"253\"/><text fill=\"#000000\" font-family=\"sans-serif\" font-size=\"12\" font-style=\"italic\" lengthAdjust=\"spacingAndGlyphs\" textLength=\"40\" x=\"181\" y=\"269.1387\">«port»</text><text fill=\"#000000\" font-family=\"sans-serif\" font-size=\"12\" lengthAdjust=\"spacingAndGlyphs\" textLength=\"40\" x=\"181\" y=\"283.1074\">porig1</text><line style=\"stroke: #A80036; stroke-width: 1.5;\" x1=\"179\" x2=\"223\" y1=\"290.9375\" y2=\"290.9375\"/></a><!--MD5=[270fce915f116d4de14055a7c1d9a0f3]\n",
       "class E5--><a href=\"psysml:4b72c15b-2565-4f84-9632-f618b5b9807b\" target=\"_top\" title=\"psysml:4b72c15b-2565-4f84-9632-f618b5b9807b\" xlink:actuate=\"onRequest\" xlink:href=\"psysml:4b72c15b-2565-4f84-9632-f618b5b9807b\" xlink:show=\"new\" xlink:title=\"psysml:4b72c15b-2565-4f84-9632-f618b5b9807b\" xlink:type=\"simple\"><rect fill=\"#FEFECE\" filter=\"url(#fhihhx8h1op5u)\" height=\"45.9375\" id=\"E5\" rx=\"10\" ry=\"10\" style=\"stroke: #A80036; stroke-width: 1.5;\" width=\"46\" x=\"113\" y=\"41\"/><text fill=\"#000000\" font-family=\"sans-serif\" font-size=\"12\" font-style=\"italic\" lengthAdjust=\"spacingAndGlyphs\" textLength=\"40\" x=\"116\" y=\"57.1387\">«part»</text><text fill=\"#000000\" font-family=\"sans-serif\" font-size=\"12\" lengthAdjust=\"spacingAndGlyphs\" textLength=\"40\" x=\"116\" y=\"71.1074\">p1: P1</text><line style=\"stroke: #A80036; stroke-width: 1.5;\" x1=\"114\" x2=\"158\" y1=\"78.9375\" y2=\"78.9375\"/></a><!--MD5=[60a26617385b1d2d0262a64233df1f8d]\n",
       "class E6--><a href=\"psysml:653cf2de-fd63-4b48-a4f2-812bd043bef4\" target=\"_top\" title=\"psysml:653cf2de-fd63-4b48-a4f2-812bd043bef4\" xlink:actuate=\"onRequest\" xlink:href=\"psysml:653cf2de-fd63-4b48-a4f2-812bd043bef4\" xlink:show=\"new\" xlink:title=\"psysml:653cf2de-fd63-4b48-a4f2-812bd043bef4\" xlink:type=\"simple\"><rect fill=\"#FEFECE\" filter=\"url(#fhihhx8h1op5u)\" height=\"45.9375\" id=\"E6\" rx=\"10\" ry=\"10\" style=\"stroke: #A80036; stroke-width: 1.5;\" width=\"42\" x=\"91\" y=\"147\"/><text fill=\"#000000\" font-family=\"sans-serif\" font-size=\"12\" font-style=\"italic\" lengthAdjust=\"spacingAndGlyphs\" textLength=\"40\" x=\"92\" y=\"163.1387\">«port»</text><text fill=\"#000000\" font-family=\"sans-serif\" font-size=\"12\" lengthAdjust=\"spacingAndGlyphs\" textLength=\"24\" x=\"100\" y=\"177.1074\">po1</text><line style=\"stroke: #A80036; stroke-width: 1.5;\" x1=\"92\" x2=\"132\" y1=\"184.9375\" y2=\"184.9375\"/></a><!--MD5=[2156ba9850f5573cc1fc38a6a4b2f02b]\n",
       "class E7--><a href=\"psysml:a2155965-1e3e-41f3-b3b0-5a1ed18f6b31\" target=\"_top\" title=\"psysml:a2155965-1e3e-41f3-b3b0-5a1ed18f6b31\" xlink:actuate=\"onRequest\" xlink:href=\"psysml:a2155965-1e3e-41f3-b3b0-5a1ed18f6b31\" xlink:show=\"new\" xlink:title=\"psysml:a2155965-1e3e-41f3-b3b0-5a1ed18f6b31\" xlink:type=\"simple\"><rect fill=\"#FEFECE\" filter=\"url(#fhihhx8h1op5u)\" height=\"45.9375\" id=\"E7\" rx=\"10\" ry=\"10\" style=\"stroke: #A80036; stroke-width: 1.5;\" width=\"46\" x=\"32\" y=\"41\"/><text fill=\"#000000\" font-family=\"sans-serif\" font-size=\"12\" font-style=\"italic\" lengthAdjust=\"spacingAndGlyphs\" textLength=\"40\" x=\"35\" y=\"57.1387\">«part»</text><text fill=\"#000000\" font-family=\"sans-serif\" font-size=\"12\" lengthAdjust=\"spacingAndGlyphs\" textLength=\"40\" x=\"35\" y=\"71.1074\">p2: P1</text><line style=\"stroke: #A80036; stroke-width: 1.5;\" x1=\"33\" x2=\"77\" y1=\"78.9375\" y2=\"78.9375\"/></a><!--MD5=[b9389687b975829384b498ac4b7476b2]\n",
       "class E8--><a href=\"psysml:44ed1293-6fc3-4c15-bfe8-a6e98039e875\" target=\"_top\" title=\"psysml:44ed1293-6fc3-4c15-bfe8-a6e98039e875\" xlink:actuate=\"onRequest\" xlink:href=\"psysml:44ed1293-6fc3-4c15-bfe8-a6e98039e875\" xlink:show=\"new\" xlink:title=\"psysml:44ed1293-6fc3-4c15-bfe8-a6e98039e875\" xlink:type=\"simple\"><rect fill=\"#FEFECE\" filter=\"url(#fhihhx8h1op5u)\" height=\"45.9375\" id=\"E8\" rx=\"10\" ry=\"10\" style=\"stroke: #A80036; stroke-width: 1.5;\" width=\"42\" x=\"63\" y=\"253\"/><text fill=\"#000000\" font-family=\"sans-serif\" font-size=\"12\" font-style=\"italic\" lengthAdjust=\"spacingAndGlyphs\" textLength=\"40\" x=\"64\" y=\"269.1387\">«port»</text><text fill=\"#000000\" font-family=\"sans-serif\" font-size=\"12\" lengthAdjust=\"spacingAndGlyphs\" textLength=\"36\" x=\"66\" y=\"283.1074\">pdest</text><line style=\"stroke: #A80036; stroke-width: 1.5;\" x1=\"64\" x2=\"104\" y1=\"290.9375\" y2=\"290.9375\"/></a><!--MD5=[4672eba38e49728da53d11aeb285b987]\n",
       "reverse link E3 to E4--><a href=\"psysml:c0c56757-3d44-421f-b231-ed3c3f6cca2a\" target=\"_top\" title=\"psysml:c0c56757-3d44-421f-b231-ed3c3f6cca2a\" xlink:actuate=\"onRequest\" xlink:href=\"psysml:c0c56757-3d44-421f-b231-ed3c3f6cca2a\" xlink:show=\"new\" xlink:title=\"psysml:c0c56757-3d44-421f-b231-ed3c3f6cca2a\" xlink:type=\"simple\"><path d=\"M188.84,206.44 C187.7,221.87 188.21,239.47 190.36,252.98 \" fill=\"none\" id=\"E3&lt;-E4\" style=\"stroke: #A80036; stroke-width: 1.0;\"/><polygon fill=\"#FFFFFF\" points=\"190.35,193.06,185.7032,198.5743,189.006,204.9845,193.6528,199.4702,190.35,193.06\" style=\"stroke: #A80036; stroke-width: 1.0;\"/><text fill=\"#000000\" font-family=\"sans-serif\" font-size=\"13\" lengthAdjust=\"spacingAndGlyphs\" textLength=\"8\" x=\"178.4255\" y=\"241.8709\">1</text></a><!--MD5=[4672eba38e49728da53d11aeb285b987]\n",
       "reverse link E3 to E4--><a href=\"psysml:baeef3bb-efbd-4f79-8bec-1b43bb5efd8f\" target=\"_top\" title=\"psysml:baeef3bb-efbd-4f79-8bec-1b43bb5efd8f\" xlink:actuate=\"onRequest\" xlink:href=\"psysml:baeef3bb-efbd-4f79-8bec-1b43bb5efd8f\" xlink:show=\"new\" xlink:title=\"psysml:baeef3bb-efbd-4f79-8bec-1b43bb5efd8f\" xlink:type=\"simple\"><path d=\"M214.01,208.34 C215.03,223.3 214.45,240.02 212.27,252.98 \" fill=\"none\" id=\"E3&lt;-E4-1\" style=\"stroke: #A80036; stroke-width: 1.0; stroke-dasharray: 7.0,7.0;\"/><ellipse cx=\"213.1693\" cy=\"201.0093\" fill=\"#FFFFFF\" rx=\"8\" ry=\"8\" style=\"stroke: #A80036; stroke-width: 1.0;\"/><line style=\"stroke: #A80036; stroke-width: 1.0;\" x1=\"214.0687\" x2=\"212.27\" y1=\"208.9586\" y2=\"193.06\"/><line style=\"stroke: #A80036; stroke-width: 1.0;\" x1=\"205.2201\" x2=\"221.1186\" y1=\"201.9086\" y2=\"200.1099\"/><text fill=\"#000000\" font-family=\"sans-serif\" font-size=\"13\" lengthAdjust=\"spacingAndGlyphs\" textLength=\"8\" x=\"206.2238\" y=\"241.8709\">1</text></a><!--MD5=[e9be52314489bd878ff4c7144b63c9e1]\n",
       "link E5 to E3--><a href=\"psysml:3c7344fe-e5a7-4cb3-b89e-76f05a842583\" target=\"_top\" title=\"psysml:3c7344fe-e5a7-4cb3-b89e-76f05a842583\" xlink:actuate=\"onRequest\" xlink:href=\"psysml:3c7344fe-e5a7-4cb3-b89e-76f05a842583\" xlink:show=\"new\" xlink:title=\"psysml:3c7344fe-e5a7-4cb3-b89e-76f05a842583\" xlink:type=\"simple\"><path d=\"M149.78,87.06 C157.54,99.47 167.45,115.33 176.49,129.78 \" fill=\"none\" id=\"E5-&gt;E3\" style=\"stroke: #A80036; stroke-width: 1.0;\"/><polygon fill=\"#FFFFFF\" points=\"187.24,146.98,171.2331,134.5792,183.1045,127.1584,187.24,146.98\" style=\"stroke: #A80036; stroke-width: 1.0;\"/><ellipse cx=\"169.9076\" cy=\"128.6857\" fill=\"#A80036\" rx=\"2\" ry=\"2\" style=\"stroke: #A80036; stroke-width: 1.0;\"/><ellipse cx=\"178.3872\" cy=\"123.3851\" fill=\"#A80036\" rx=\"2\" ry=\"2\" style=\"stroke: #A80036; stroke-width: 1.0;\"/></a><!--MD5=[85d356282659285ab4b2cfe2f634dd2b]\n",
       "reverse link E5 to E6--><a href=\"psysml:5ab2eb8f-0a8a-4f0f-b519-13b72bd8ef83\" target=\"_top\" title=\"psysml:5ab2eb8f-0a8a-4f0f-b519-13b72bd8ef83\" xlink:actuate=\"onRequest\" xlink:href=\"psysml:5ab2eb8f-0a8a-4f0f-b519-13b72bd8ef83\" xlink:show=\"new\" xlink:title=\"psysml:5ab2eb8f-0a8a-4f0f-b519-13b72bd8ef83\" xlink:type=\"simple\"><path d=\"M127.93,99.96 C124.34,115.51 120.23,133.33 117.08,146.98 \" fill=\"none\" id=\"E5&lt;-E6\" style=\"stroke: #A80036; stroke-width: 1.0;\"/><polygon fill=\"#FFFFFF\" points=\"130.91,87.06,125.6616,92.0052,128.2078,98.7518,133.4562,93.8066,130.91,87.06\" style=\"stroke: #A80036; stroke-width: 1.0;\"/><text fill=\"#000000\" font-family=\"sans-serif\" font-size=\"13\" lengthAdjust=\"spacingAndGlyphs\" textLength=\"8\" x=\"109.3703\" y=\"135.8709\">1</text></a><!--MD5=[f667431f98296947986a1a7595a31603]\n",
       "link E6 to E4--><a href=\"psysml:36152a88-3fda-40f3-9b03-bfa5e7f7b410\" target=\"_top\" title=\"psysml:36152a88-3fda-40f3-9b03-bfa5e7f7b410\" xlink:actuate=\"onRequest\" xlink:href=\"psysml:36152a88-3fda-40f3-9b03-bfa5e7f7b410\" xlink:show=\"new\" xlink:title=\"psysml:36152a88-3fda-40f3-9b03-bfa5e7f7b410\" xlink:type=\"simple\"><path d=\"M130.87,193.06 C141.97,206.02 156.28,222.74 169.08,237.7 \" fill=\"none\" id=\"E6-&gt;E4\" style=\"stroke: #A80036; stroke-width: 1.0;\"/><polygon fill=\"#FFFFFF\" points=\"182.15,252.98,164.4809,243.0905,175.1204,233.9909,182.15,252.98\" style=\"stroke: #A80036; stroke-width: 1.0;\"/><line style=\"stroke: #A80036; stroke-width: 2.0;\" x1=\"162.011\" x2=\"172.6505\" y1=\"240.2026\" y2=\"231.1031\"/></a><!--MD5=[14ccda38c055a5c0da953d572bc50960]\n",
       "link E7 to E3--><a href=\"psysml:e547b523-e8e9-4ecd-8c51-8b63037972c5\" target=\"_top\" title=\"psysml:e547b523-e8e9-4ecd-8c51-8b63037972c5\" xlink:actuate=\"onRequest\" xlink:href=\"psysml:e547b523-e8e9-4ecd-8c51-8b63037972c5\" xlink:show=\"new\" xlink:title=\"psysml:e547b523-e8e9-4ecd-8c51-8b63037972c5\" xlink:type=\"simple\"><path d=\"M78.13,81.48 C98.32,95.86 128.25,117.18 153.52,135.18 \" fill=\"none\" id=\"E7-&gt;E3\" style=\"stroke: #A80036; stroke-width: 1.0;\"/><polygon fill=\"#FFFFFF\" points=\"170.09,146.98,150.5533,141.6586,158.6755,130.2555,170.09,146.98\" style=\"stroke: #A80036; stroke-width: 1.0;\"/><ellipse cx=\"147.0709\" cy=\"136.7227\" fill=\"#A80036\" rx=\"2\" ry=\"2\" style=\"stroke: #A80036; stroke-width: 1.0;\"/><ellipse cx=\"152.8725\" cy=\"128.5776\" fill=\"#A80036\" rx=\"2\" ry=\"2\" style=\"stroke: #A80036; stroke-width: 1.0;\"/></a><!--MD5=[dc164f5e8a733ab456ef1add180e9e34]\n",
       "reverse link E7 to E8--><a href=\"psysml:b237ade3-489d-4fd0-9379-0b86f0889901\" target=\"_top\" title=\"psysml:b237ade3-489d-4fd0-9379-0b86f0889901\" xlink:actuate=\"onRequest\" xlink:href=\"psysml:b237ade3-489d-4fd0-9379-0b86f0889901\" xlink:show=\"new\" xlink:title=\"psysml:b237ade3-489d-4fd0-9379-0b86f0889901\" xlink:type=\"simple\"><path d=\"M50.05,100.09 C51.65,143.61 62.25,216.5 72.75,252.9 \" fill=\"none\" id=\"E7&lt;-E8\" style=\"stroke: #A80036; stroke-width: 1.0;\"/><polygon fill=\"#FFFFFF\" points=\"49.85,87.08,45.9362,93.1366,50.0216,99.0788,53.9354,93.0222,49.85,87.08\" style=\"stroke: #A80036; stroke-width: 1.0;\"/><text fill=\"#000000\" font-family=\"sans-serif\" font-size=\"13\" lengthAdjust=\"spacingAndGlyphs\" textLength=\"8\" x=\"60.6516\" y=\"241.7694\">1</text></a><!--MD5=[dc164f5e8a733ab456ef1add180e9e34]\n",
       "reverse link E7 to E8--><a href=\"psysml:7018d996-601d-4a38-842d-acb296e8ea77\" target=\"_top\" title=\"psysml:7018d996-601d-4a38-842d-acb296e8ea77\" xlink:actuate=\"onRequest\" xlink:href=\"psysml:7018d996-601d-4a38-842d-acb296e8ea77\" xlink:show=\"new\" xlink:title=\"psysml:7018d996-601d-4a38-842d-acb296e8ea77\" xlink:type=\"simple\"><path d=\"M70.64,101.8 C81.15,145.5 90.39,216.97 89.63,252.9 \" fill=\"none\" id=\"E7&lt;-E8-1\" style=\"stroke: #A80036; stroke-width: 1.0; stroke-dasharray: 7.0,7.0;\"/><ellipse cx=\"68.7794\" cy=\"94.813\" fill=\"#FFFFFF\" rx=\"8\" ry=\"8\" style=\"stroke: #A80036; stroke-width: 1.0;\"/><line style=\"stroke: #A80036; stroke-width: 1.0;\" x1=\"70.8289\" x2=\"66.73\" y1=\"102.5461\" y2=\"87.08\"/><line style=\"stroke: #A80036; stroke-width: 1.0;\" x1=\"61.0464\" x2=\"76.5125\" y1=\"96.8625\" y2=\"92.7636\"/><text fill=\"#000000\" font-family=\"sans-serif\" font-size=\"13\" lengthAdjust=\"spacingAndGlyphs\" textLength=\"8\" x=\"92.2181\" y=\"241.7694\">1</text></a><!--MD5=[0a839d0f80c2d72d4b9b307f046d0de8]\n",
       "link E6 to E8--><a href=\"psysml:1ea7862a-7bab-4478-95a9-37aa2484c274\" target=\"_top\" title=\"psysml:1ea7862a-7bab-4478-95a9-37aa2484c274\" xlink:actuate=\"onRequest\" xlink:href=\"psysml:1ea7862a-7bab-4478-95a9-37aa2484c274\" xlink:show=\"new\" xlink:title=\"psysml:1ea7862a-7bab-4478-95a9-37aa2484c274\" xlink:type=\"simple\"><path d=\"M95.42,193.06 C87.86,210.7 81.23,235.34 79.29,252.98 \" fill=\"none\" id=\"E6-E8\" style=\"stroke: #A80036; stroke-width: 3.0;\"/><text fill=\"#000000\" font-family=\"sans-serif\" font-size=\"13\" lengthAdjust=\"spacingAndGlyphs\" textLength=\"7\" x=\"78.9648\" y=\"241.8709\">*</text></a><!--MD5=[0a839d0f80c2d72d4b9b307f046d0de8]\n",
       "link E6 to E8--><a href=\"psysml:1e1521f0-84d2-4d6c-a787-5301105b41c5\" target=\"_top\" title=\"psysml:1e1521f0-84d2-4d6c-a787-5301105b41c5\" xlink:actuate=\"onRequest\" xlink:href=\"psysml:1e1521f0-84d2-4d6c-a787-5301105b41c5\" xlink:show=\"new\" xlink:title=\"psysml:1e1521f0-84d2-4d6c-a787-5301105b41c5\" xlink:type=\"simple\"><path d=\"M117.33,193.06 C115.55,210.7 108.92,235.34 101.2,252.98 \" fill=\"none\" id=\"E6-E8-1\" style=\"stroke: #A80036; stroke-width: 3.0;\"/><text fill=\"#000000\" font-family=\"sans-serif\" font-size=\"13\" lengthAdjust=\"spacingAndGlyphs\" textLength=\"7\" x=\"97.8819\" y=\"241.8709\">*</text></a><!--MD5=[34ccb67400bb8744fcacf2c2dc3294c3]\n",
       "@startuml\r\n",
       "skinparam wrapWidth 300\r\n",
       "hide circle\r\n",
       "\r\n",
       "package \"AliasTest\" as E1  [[psysml:c9a65f38-ba0f-435c-ac18-78f76b0c8149 ]]  {\r\n",
       "comp usage \"q\" as E2  <<(T,blue) attribute>> [[psysml:252bcdae-bf35-4751-96e5-d2689f20556e ]] {\r\n",
       "}\r\n",
       "comp def \"P1\" as E3  <<(T,blue) part def>> [[psysml:6d109465-d99f-46f9-9a55-615eadc52ec3 ]] {\r\n",
       "}\r\n",
       "comp usage \"porig1\" as E4  <<(T,blue) port>> [[psysml:07c215ea-3a50-4500-a498-5909961b01ab ]] {\r\n",
       "}\r\n",
       "comp usage \"p1: P1\" as E5  <<(T,blue) part>> [[psysml:4b72c15b-2565-4f84-9632-f618b5b9807b ]] {\r\n",
       "}\r\n",
       "comp usage \"po1\" as E6  <<(T,blue) port>> [[psysml:653cf2de-fd63-4b48-a4f2-812bd043bef4 ]] {\r\n",
       "}\r\n",
       "comp usage \"p2: P1\" as E7  <<(T,blue) part>> [[psysml:a2155965-1e3e-41f3-b3b0-5a1ed18f6b31 ]] {\r\n",
       "}\r\n",
       "comp usage \"pdest\" as E8  <<(T,blue) port>> [[psysml:44ed1293-6fc3-4c15-bfe8-a6e98039e875 ]] {\r\n",
       "}\r\n",
       "}\r\n",
       "E3 o- - \"1\"E4 [[psysml:c0c56757-3d44-421f-b231-ed3c3f6cca2a ]] \r\n",
       "E3 +.. \"1\"E4 [[psysml:baeef3bb-efbd-4f79-8bec-1b43bb5efd8f ]] \r\n",
       "E5 - -:|> E3 [[psysml:3c7344fe-e5a7-4cb3-b89e-76f05a842583 ]] \r\n",
       "E5 o- - \"1\"E6 [[psysml:5ab2eb8f-0a8a-4f0f-b519-13b72bd8ef83 ]] \r\n",
       "E6 - -||> E4 [[psysml:36152a88-3fda-40f3-9b03-bfa5e7f7b410 ]] \r\n",
       "E7 - -:|> E3 [[psysml:e547b523-e8e9-4ecd-8c51-8b63037972c5 ]] \r\n",
       "E7 o- - \"1\"E8 [[psysml:b237ade3-489d-4fd0-9379-0b86f0889901 ]] \r\n",
       "E7 +.. \"1\"E8 [[psysml:7018d996-601d-4a38-842d-acb296e8ea77 ]] \r\n",
       "E6 -[thickness=3]- \"*\"E8 [[psysml:1ea7862a-7bab-4478-95a9-37aa2484c274 ]] \r\n",
       "E6 -[thickness=3]- \"*\"E8 [[psysml:1e1521f0-84d2-4d6c-a787-5301105b41c5 ]] \r\n",
       "@enduml\r\n",
       "\n",
       "PlantUML version 1.2020.13(Sat Jun 13 12:26:38 UTC 2020)\n",
       "(EPL source distribution)\n",
       "Java Runtime: OpenJDK Runtime Environment\n",
       "JVM: OpenJDK 64-Bit Server VM\n",
       "Default Encoding: UTF-8\n",
       "Language: en\n",
       "Country: null\n",
       "--></g></svg>"
      ]
     },
     "execution_count": 29,
     "metadata": {},
     "output_type": "execute_result"
    }
   ],
   "source": [
    "%viz --style=\"STDCOLOR\" --view=\"MIXED\" \"AliasTest\""
   ]
  },
  {
   "cell_type": "code",
   "execution_count": 30,
   "id": "d210e081",
   "metadata": {
    "execution": {
     "iopub.execute_input": "2021-10-03T08:30:11.658505Z",
     "iopub.status.busy": "2021-10-03T08:30:11.658093Z",
     "iopub.status.idle": "2021-10-03T08:30:11.741998Z",
     "shell.execute_reply": "2021-10-03T08:30:11.740017Z"
    }
   },
   "outputs": [
    {
     "data": {
      "image/svg+xml": [
       "<?xml version=\"1.0\" encoding=\"UTF-8\" standalone=\"no\"?><svg xmlns=\"http://www.w3.org/2000/svg\" xmlns:xlink=\"http://www.w3.org/1999/xlink\" contentScriptType=\"application/ecmascript\" contentStyleType=\"text/css\" height=\"327px\" preserveAspectRatio=\"none\" style=\"width:381px;height:327px;\" version=\"1.1\" viewBox=\"0 0 381 327\" width=\"381px\" zoomAndPan=\"magnify\"><defs><filter height=\"300%\" id=\"f1ldbfflj2otij\" width=\"300%\" x=\"-1\" y=\"-1\"><feGaussianBlur result=\"blurOut\" stdDeviation=\"2.0\"/><feColorMatrix in=\"blurOut\" result=\"blurOut2\" type=\"matrix\" values=\"0 0 0 0 0 0 0 0 0 0 0 0 0 0 0 0 0 0 .4 0\"/><feOffset dx=\"4.0\" dy=\"4.0\" in=\"blurOut2\" result=\"blurOut3\"/><feBlend in=\"SourceGraphic\" in2=\"blurOut3\" mode=\"normal\"/></filter></defs><g><!--MD5=[fbc87193dbaf4d95561dea2c320d4a47]\n",
       "cluster E1--><a href=\"psysml:c9a65f38-ba0f-435c-ac18-78f76b0c8149\" target=\"_top\" title=\"psysml:c9a65f38-ba0f-435c-ac18-78f76b0c8149\" xlink:actuate=\"onRequest\" xlink:href=\"psysml:c9a65f38-ba0f-435c-ac18-78f76b0c8149\" xlink:show=\"new\" xlink:title=\"psysml:c9a65f38-ba0f-435c-ac18-78f76b0c8149\" xlink:type=\"simple\"><polygon fill=\"#FFFFFF\" filter=\"url(#f1ldbfflj2otij)\" points=\"16,6,84,6,91,28.2969,359,28.2969,359,315,16,315,16,6\" style=\"stroke: #000000; stroke-width: 1.5;\"/><line style=\"stroke: #000000; stroke-width: 1.5;\" x1=\"16\" x2=\"91\" y1=\"28.2969\" y2=\"28.2969\"/><text fill=\"#000000\" font-family=\"sans-serif\" font-size=\"14\" font-weight=\"bold\" lengthAdjust=\"spacingAndGlyphs\" textLength=\"62\" x=\"20\" y=\"20.9951\">AliasTest</text></a><!--MD5=[b4997ac47864f28c2f74865a473b2911]\n",
       "class E2--><a href=\"psysml:252bcdae-bf35-4751-96e5-d2689f20556e\" target=\"_top\" title=\"psysml:252bcdae-bf35-4751-96e5-d2689f20556e\" xlink:actuate=\"onRequest\" xlink:href=\"psysml:252bcdae-bf35-4751-96e5-d2689f20556e\" xlink:show=\"new\" xlink:title=\"psysml:252bcdae-bf35-4751-96e5-d2689f20556e\" xlink:type=\"simple\"><rect fill=\"#FEFECE\" filter=\"url(#f1ldbfflj2otij)\" height=\"45.9375\" id=\"E2\" rx=\"10\" ry=\"10\" style=\"stroke: #A80036; stroke-width: 1.5;\" width=\"97\" x=\"246.5\" y=\"41\"/><ellipse cx=\"261.5\" cy=\"59.9688\" fill=\"#FFA500\" rx=\"11\" ry=\"11\" style=\"stroke: #A80036; stroke-width: 1.0;\"/><path d=\"M261.25,65.4375 Q259.5,65.4375 258.5469,64.4063 Q257.6094,63.3594 257.6094,61.5156 L257.6094,54.625 L259.6719,54.625 L259.6719,54.7813 Q259.5781,54.875 259.5469,55.0156 Q259.5313,55.1406 259.5313,55.4063 L259.5313,61.5313 Q259.5313,62.625 259.9063,63.25 Q260.2813,63.875 261.2656,63.875 Q262.25,63.875 262.6406,63.25 Q263.0313,62.625 263.0313,61.4844 L263.0313,54.625 L264.9063,54.625 L264.9063,61.4688 Q264.9063,63.5 263.875,64.4688 Q262.8594,65.4375 261.25,65.4375 Z \"/><text fill=\"#000000\" font-family=\"sans-serif\" font-size=\"12\" font-style=\"italic\" lengthAdjust=\"spacingAndGlyphs\" textLength=\"69\" x=\"273.5\" y=\"57.1387\">«attribute»</text><text fill=\"#000000\" font-family=\"sans-serif\" font-size=\"12\" lengthAdjust=\"spacingAndGlyphs\" textLength=\"8\" x=\"304\" y=\"71.1074\">q</text><line style=\"stroke: #A80036; stroke-width: 1.5;\" x1=\"247.5\" x2=\"342.5\" y1=\"78.9375\" y2=\"78.9375\"/></a><!--MD5=[09b614a08d8cba4a07c9adeb5e0fee81]\n",
       "class E3--><a href=\"psysml:6d109465-d99f-46f9-9a55-615eadc52ec3\" target=\"_top\" title=\"psysml:6d109465-d99f-46f9-9a55-615eadc52ec3\" xlink:actuate=\"onRequest\" xlink:href=\"psysml:6d109465-d99f-46f9-9a55-615eadc52ec3\" xlink:show=\"new\" xlink:title=\"psysml:6d109465-d99f-46f9-9a55-615eadc52ec3\" xlink:type=\"simple\"><rect fill=\"#FEFECE\" filter=\"url(#f1ldbfflj2otij)\" height=\"40\" id=\"E3\" style=\"stroke: #A80036; stroke-width: 1.5;\" width=\"48\" x=\"207\" y=\"150\"/><ellipse cx=\"222\" cy=\"166\" fill=\"#008000\" rx=\"11\" ry=\"11\" style=\"stroke: #A80036; stroke-width: 1.0;\"/><path d=\"M218.875,171 L218.875,160.4063 L222.1094,160.4063 Q224.0156,160.4063 224.9219,161.1563 Q225.8438,161.9063 225.8438,163.0781 Q225.8438,163.7656 225.4531,164.4219 Q225.0781,165.0781 224.3594,165.375 Q225.2188,165.75 225.7344,166.4375 Q226.25,167.125 226.25,167.9375 Q226.25,169.3125 225.2188,170.1563 Q224.2031,171 222.0938,171 L218.875,171 Z M220.7969,164.6406 L221.9531,164.6406 Q223.0781,164.6406 223.4844,164.2656 Q223.9063,163.875 223.9063,163.25 Q223.9063,162.6719 223.4844,162.3125 Q223.0625,161.9531 222.125,161.9531 L220.7969,161.9531 L220.7969,164.6406 Z M220.7969,169.4219 L222.2969,169.4219 Q223.2031,169.4219 223.7344,169.0313 Q224.2656,168.6406 224.2656,167.8906 Q224.2656,167.125 223.7656,166.6563 Q223.2656,166.1719 222,166.1719 L220.7969,166.1719 L220.7969,169.4219 Z \"/><text fill=\"#000000\" font-family=\"sans-serif\" font-size=\"12\" lengthAdjust=\"spacingAndGlyphs\" textLength=\"16\" x=\"236\" y=\"170.1543\">P1</text><line style=\"stroke: #A80036; stroke-width: 1.5;\" x1=\"208\" x2=\"254\" y1=\"182\" y2=\"182\"/></a><!--MD5=[ebbe1d658d1005bcc118a6aa81145e00]\n",
       "class E4--><a href=\"psysml:07c215ea-3a50-4500-a498-5909961b01ab\" target=\"_top\" title=\"psysml:07c215ea-3a50-4500-a498-5909961b01ab\" xlink:actuate=\"onRequest\" xlink:href=\"psysml:07c215ea-3a50-4500-a498-5909961b01ab\" xlink:show=\"new\" xlink:title=\"psysml:07c215ea-3a50-4500-a498-5909961b01ab\" xlink:type=\"simple\"><rect fill=\"#FEFECE\" filter=\"url(#f1ldbfflj2otij)\" height=\"45.9375\" id=\"E4\" rx=\"10\" ry=\"10\" style=\"stroke: #A80036; stroke-width: 1.5;\" width=\"72\" x=\"195\" y=\"253\"/><ellipse cx=\"210\" cy=\"271.9688\" fill=\"#0000FF\" rx=\"11\" ry=\"11\" style=\"stroke: #A80036; stroke-width: 1.0;\"/><path d=\"M206.8125,276.9688 L206.8125,266.375 L210.4219,266.375 Q211.6406,266.375 212.4375,266.8125 Q213.2344,267.2344 213.6094,267.9375 Q214,268.6406 214,269.4844 Q214,270.3281 213.625,271.0156 Q213.2656,271.7031 212.4688,272.125 Q211.6875,272.5313 210.5,272.5313 L208.7656,272.5313 L208.7656,276.9688 L206.8125,276.9688 Z M208.7656,270.9375 L210.375,270.9375 Q211.1875,270.9375 211.6094,270.5313 Q212.0313,270.125 212.0313,269.4844 Q212.0313,268.8594 211.6094,268.4531 Q211.1875,268.0469 210.3906,268.0469 L208.7656,268.0469 L208.7656,270.9375 Z \"/><text fill=\"#000000\" font-family=\"sans-serif\" font-size=\"12\" font-style=\"italic\" lengthAdjust=\"spacingAndGlyphs\" textLength=\"40\" x=\"224\" y=\"269.1387\">«port»</text><text fill=\"#000000\" font-family=\"sans-serif\" font-size=\"12\" lengthAdjust=\"spacingAndGlyphs\" textLength=\"40\" x=\"224\" y=\"283.1074\">porig1</text><line style=\"stroke: #A80036; stroke-width: 1.5;\" x1=\"196\" x2=\"266\" y1=\"290.9375\" y2=\"290.9375\"/></a><!--MD5=[270fce915f116d4de14055a7c1d9a0f3]\n",
       "class E5--><a href=\"psysml:4b72c15b-2565-4f84-9632-f618b5b9807b\" target=\"_top\" title=\"psysml:4b72c15b-2565-4f84-9632-f618b5b9807b\" xlink:actuate=\"onRequest\" xlink:href=\"psysml:4b72c15b-2565-4f84-9632-f618b5b9807b\" xlink:show=\"new\" xlink:title=\"psysml:4b72c15b-2565-4f84-9632-f618b5b9807b\" xlink:type=\"simple\"><rect fill=\"#FEFECE\" filter=\"url(#f1ldbfflj2otij)\" height=\"45.9375\" id=\"E5\" rx=\"10\" ry=\"10\" style=\"stroke: #A80036; stroke-width: 1.5;\" width=\"72\" x=\"139\" y=\"41\"/><ellipse cx=\"154\" cy=\"59.9688\" fill=\"#32CD32\" rx=\"11\" ry=\"11\" style=\"stroke: #A80036; stroke-width: 1.0;\"/><path d=\"M150.8125,64.9688 L150.8125,54.375 L154.4219,54.375 Q155.6406,54.375 156.4375,54.8125 Q157.2344,55.2344 157.6094,55.9375 Q158,56.6406 158,57.4844 Q158,58.3281 157.625,59.0156 Q157.2656,59.7031 156.4688,60.125 Q155.6875,60.5313 154.5,60.5313 L152.7656,60.5313 L152.7656,64.9688 L150.8125,64.9688 Z M152.7656,58.9375 L154.375,58.9375 Q155.1875,58.9375 155.6094,58.5313 Q156.0313,58.125 156.0313,57.4844 Q156.0313,56.8594 155.6094,56.4531 Q155.1875,56.0469 154.3906,56.0469 L152.7656,56.0469 L152.7656,58.9375 Z \"/><text fill=\"#000000\" font-family=\"sans-serif\" font-size=\"12\" font-style=\"italic\" lengthAdjust=\"spacingAndGlyphs\" textLength=\"40\" x=\"168\" y=\"57.1387\">«part»</text><text fill=\"#000000\" font-family=\"sans-serif\" font-size=\"12\" lengthAdjust=\"spacingAndGlyphs\" textLength=\"40\" x=\"168\" y=\"71.1074\">p1: P1</text><line style=\"stroke: #A80036; stroke-width: 1.5;\" x1=\"140\" x2=\"210\" y1=\"78.9375\" y2=\"78.9375\"/></a><!--MD5=[60a26617385b1d2d0262a64233df1f8d]\n",
       "class E6--><a href=\"psysml:653cf2de-fd63-4b48-a4f2-812bd043bef4\" target=\"_top\" title=\"psysml:653cf2de-fd63-4b48-a4f2-812bd043bef4\" xlink:actuate=\"onRequest\" xlink:href=\"psysml:653cf2de-fd63-4b48-a4f2-812bd043bef4\" xlink:show=\"new\" xlink:title=\"psysml:653cf2de-fd63-4b48-a4f2-812bd043bef4\" xlink:type=\"simple\"><rect fill=\"#FEFECE\" filter=\"url(#f1ldbfflj2otij)\" height=\"45.9375\" id=\"E6\" rx=\"10\" ry=\"10\" style=\"stroke: #A80036; stroke-width: 1.5;\" width=\"68\" x=\"104\" y=\"147\"/><ellipse cx=\"119\" cy=\"165.9688\" fill=\"#0000FF\" rx=\"11\" ry=\"11\" style=\"stroke: #A80036; stroke-width: 1.0;\"/><path d=\"M115.8125,170.9688 L115.8125,160.375 L119.4219,160.375 Q120.6406,160.375 121.4375,160.8125 Q122.2344,161.2344 122.6094,161.9375 Q123,162.6406 123,163.4844 Q123,164.3281 122.625,165.0156 Q122.2656,165.7031 121.4688,166.125 Q120.6875,166.5313 119.5,166.5313 L117.7656,166.5313 L117.7656,170.9688 L115.8125,170.9688 Z M117.7656,164.9375 L119.375,164.9375 Q120.1875,164.9375 120.6094,164.5313 Q121.0313,164.125 121.0313,163.4844 Q121.0313,162.8594 120.6094,162.4531 Q120.1875,162.0469 119.3906,162.0469 L117.7656,162.0469 L117.7656,164.9375 Z \"/><text fill=\"#000000\" font-family=\"sans-serif\" font-size=\"12\" font-style=\"italic\" lengthAdjust=\"spacingAndGlyphs\" textLength=\"40\" x=\"131\" y=\"163.1387\">«port»</text><text fill=\"#000000\" font-family=\"sans-serif\" font-size=\"12\" lengthAdjust=\"spacingAndGlyphs\" textLength=\"24\" x=\"139\" y=\"177.1074\">po1</text><line style=\"stroke: #A80036; stroke-width: 1.5;\" x1=\"105\" x2=\"171\" y1=\"184.9375\" y2=\"184.9375\"/></a><!--MD5=[2156ba9850f5573cc1fc38a6a4b2f02b]\n",
       "class E7--><a href=\"psysml:a2155965-1e3e-41f3-b3b0-5a1ed18f6b31\" target=\"_top\" title=\"psysml:a2155965-1e3e-41f3-b3b0-5a1ed18f6b31\" xlink:actuate=\"onRequest\" xlink:href=\"psysml:a2155965-1e3e-41f3-b3b0-5a1ed18f6b31\" xlink:show=\"new\" xlink:title=\"psysml:a2155965-1e3e-41f3-b3b0-5a1ed18f6b31\" xlink:type=\"simple\"><rect fill=\"#FEFECE\" filter=\"url(#f1ldbfflj2otij)\" height=\"45.9375\" id=\"E7\" rx=\"10\" ry=\"10\" style=\"stroke: #A80036; stroke-width: 1.5;\" width=\"72\" x=\"32\" y=\"41\"/><ellipse cx=\"47\" cy=\"59.9688\" fill=\"#32CD32\" rx=\"11\" ry=\"11\" style=\"stroke: #A80036; stroke-width: 1.0;\"/><path d=\"M43.8125,64.9688 L43.8125,54.375 L47.4219,54.375 Q48.6406,54.375 49.4375,54.8125 Q50.2344,55.2344 50.6094,55.9375 Q51,56.6406 51,57.4844 Q51,58.3281 50.625,59.0156 Q50.2656,59.7031 49.4688,60.125 Q48.6875,60.5313 47.5,60.5313 L45.7656,60.5313 L45.7656,64.9688 L43.8125,64.9688 Z M45.7656,58.9375 L47.375,58.9375 Q48.1875,58.9375 48.6094,58.5313 Q49.0313,58.125 49.0313,57.4844 Q49.0313,56.8594 48.6094,56.4531 Q48.1875,56.0469 47.3906,56.0469 L45.7656,56.0469 L45.7656,58.9375 Z \"/><text fill=\"#000000\" font-family=\"sans-serif\" font-size=\"12\" font-style=\"italic\" lengthAdjust=\"spacingAndGlyphs\" textLength=\"40\" x=\"61\" y=\"57.1387\">«part»</text><text fill=\"#000000\" font-family=\"sans-serif\" font-size=\"12\" lengthAdjust=\"spacingAndGlyphs\" textLength=\"40\" x=\"61\" y=\"71.1074\">p2: P1</text><line style=\"stroke: #A80036; stroke-width: 1.5;\" x1=\"33\" x2=\"103\" y1=\"78.9375\" y2=\"78.9375\"/></a><!--MD5=[b9389687b975829384b498ac4b7476b2]\n",
       "class E8--><a href=\"psysml:44ed1293-6fc3-4c15-bfe8-a6e98039e875\" target=\"_top\" title=\"psysml:44ed1293-6fc3-4c15-bfe8-a6e98039e875\" xlink:actuate=\"onRequest\" xlink:href=\"psysml:44ed1293-6fc3-4c15-bfe8-a6e98039e875\" xlink:show=\"new\" xlink:title=\"psysml:44ed1293-6fc3-4c15-bfe8-a6e98039e875\" xlink:type=\"simple\"><rect fill=\"#FEFECE\" filter=\"url(#f1ldbfflj2otij)\" height=\"45.9375\" id=\"E8\" rx=\"10\" ry=\"10\" style=\"stroke: #A80036; stroke-width: 1.5;\" width=\"68\" x=\"63\" y=\"253\"/><ellipse cx=\"78\" cy=\"271.9688\" fill=\"#0000FF\" rx=\"11\" ry=\"11\" style=\"stroke: #A80036; stroke-width: 1.0;\"/><path d=\"M74.8125,276.9688 L74.8125,266.375 L78.4219,266.375 Q79.6406,266.375 80.4375,266.8125 Q81.2344,267.2344 81.6094,267.9375 Q82,268.6406 82,269.4844 Q82,270.3281 81.625,271.0156 Q81.2656,271.7031 80.4688,272.125 Q79.6875,272.5313 78.5,272.5313 L76.7656,272.5313 L76.7656,276.9688 L74.8125,276.9688 Z M76.7656,270.9375 L78.375,270.9375 Q79.1875,270.9375 79.6094,270.5313 Q80.0313,270.125 80.0313,269.4844 Q80.0313,268.8594 79.6094,268.4531 Q79.1875,268.0469 78.3906,268.0469 L76.7656,268.0469 L76.7656,270.9375 Z \"/><text fill=\"#000000\" font-family=\"sans-serif\" font-size=\"12\" font-style=\"italic\" lengthAdjust=\"spacingAndGlyphs\" textLength=\"40\" x=\"90\" y=\"269.1387\">«port»</text><text fill=\"#000000\" font-family=\"sans-serif\" font-size=\"12\" lengthAdjust=\"spacingAndGlyphs\" textLength=\"36\" x=\"92\" y=\"283.1074\">pdest</text><line style=\"stroke: #A80036; stroke-width: 1.5;\" x1=\"64\" x2=\"130\" y1=\"290.9375\" y2=\"290.9375\"/></a><!--MD5=[4672eba38e49728da53d11aeb285b987]\n",
       "reverse link E3 to E4--><a href=\"psysml:c0c56757-3d44-421f-b231-ed3c3f6cca2a\" target=\"_top\" title=\"psysml:c0c56757-3d44-421f-b231-ed3c3f6cca2a\" xlink:actuate=\"onRequest\" xlink:href=\"psysml:c0c56757-3d44-421f-b231-ed3c3f6cca2a\" xlink:show=\"new\" xlink:title=\"psysml:c0c56757-3d44-421f-b231-ed3c3f6cca2a\" xlink:type=\"simple\"><path d=\"M219.1,203.25 C217.65,219.33 218.05,238.37 220.33,252.8 \" fill=\"none\" id=\"E3&lt;-E4\" style=\"stroke: #A80036; stroke-width: 1.0;\"/><polygon fill=\"#FFFFFF\" points=\"220.87,190.08,216.1137,195.5001,219.2875,201.9752,224.0438,196.5551,220.87,190.08\" style=\"stroke: #A80036; stroke-width: 1.0;\"/><text fill=\"#000000\" font-family=\"sans-serif\" font-size=\"13\" lengthAdjust=\"spacingAndGlyphs\" textLength=\"8\" x=\"208.5708\" y=\"242.025\">1</text></a><!--MD5=[4672eba38e49728da53d11aeb285b987]\n",
       "reverse link E3 to E4--><a href=\"psysml:baeef3bb-efbd-4f79-8bec-1b43bb5efd8f\" target=\"_top\" title=\"psysml:baeef3bb-efbd-4f79-8bec-1b43bb5efd8f\" xlink:actuate=\"onRequest\" xlink:href=\"psysml:baeef3bb-efbd-4f79-8bec-1b43bb5efd8f\" xlink:show=\"new\" xlink:title=\"psysml:baeef3bb-efbd-4f79-8bec-1b43bb5efd8f\" xlink:type=\"simple\"><path d=\"M243.77,205.22 C245.1,220.87 244.61,238.96 242.3,252.8 \" fill=\"none\" id=\"E3&lt;-E4-1\" style=\"stroke: #A80036; stroke-width: 1.0; stroke-dasharray: 7.0,7.0;\"/><ellipse cx=\"242.7963\" cy=\"198.0086\" fill=\"#FFFFFF\" rx=\"8\" ry=\"8\" style=\"stroke: #A80036; stroke-width: 1.0;\"/><line style=\"stroke: #A80036; stroke-width: 1.0;\" x1=\"243.8626\" x2=\"241.73\" y1=\"205.9372\" y2=\"190.08\"/><line style=\"stroke: #A80036; stroke-width: 1.0;\" x1=\"234.8677\" x2=\"250.7249\" y1=\"199.0749\" y2=\"196.9423\"/><text fill=\"#000000\" font-family=\"sans-serif\" font-size=\"13\" lengthAdjust=\"spacingAndGlyphs\" textLength=\"8\" x=\"236.1706\" y=\"242.025\">1</text></a><!--MD5=[e9be52314489bd878ff4c7144b63c9e1]\n",
       "link E5 to E3--><a href=\"psysml:3c7344fe-e5a7-4cb3-b89e-76f05a842583\" target=\"_top\" title=\"psysml:3c7344fe-e5a7-4cb3-b89e-76f05a842583\" xlink:actuate=\"onRequest\" xlink:href=\"psysml:3c7344fe-e5a7-4cb3-b89e-76f05a842583\" xlink:show=\"new\" xlink:title=\"psysml:3c7344fe-e5a7-4cb3-b89e-76f05a842583\" xlink:type=\"simple\"><path d=\"M186.88,87.06 C193.92,100.14 203.03,117.05 211.14,132.11 \" fill=\"none\" id=\"E5-&gt;E3\" style=\"stroke: #A80036; stroke-width: 1.0;\"/><polygon fill=\"#FFFFFF\" points=\"220.65,149.77,205.4866,136.3509,217.817,129.7207,220.65,149.77\" style=\"stroke: #A80036; stroke-width: 1.0;\"/><ellipse cx=\"204.5486\" cy=\"130.3835\" fill=\"#A80036\" rx=\"2\" ry=\"2\" style=\"stroke: #A80036; stroke-width: 1.0;\"/><ellipse cx=\"213.3561\" cy=\"125.6476\" fill=\"#A80036\" rx=\"2\" ry=\"2\" style=\"stroke: #A80036; stroke-width: 1.0;\"/></a><!--MD5=[85d356282659285ab4b2cfe2f634dd2b]\n",
       "reverse link E5 to E6--><a href=\"psysml:5ab2eb8f-0a8a-4f0f-b519-13b72bd8ef83\" target=\"_top\" title=\"psysml:5ab2eb8f-0a8a-4f0f-b519-13b72bd8ef83\" xlink:actuate=\"onRequest\" xlink:href=\"psysml:5ab2eb8f-0a8a-4f0f-b519-13b72bd8ef83\" xlink:show=\"new\" xlink:title=\"psysml:5ab2eb8f-0a8a-4f0f-b519-13b72bd8ef83\" xlink:type=\"simple\"><path d=\"M162.73,99.49 C157.16,115.15 150.74,133.19 145.84,146.98 \" fill=\"none\" id=\"E5&lt;-E6\" style=\"stroke: #A80036; stroke-width: 1.0;\"/><polygon fill=\"#FFFFFF\" points=\"167.15,87.06,161.3698,91.3715,163.1265,98.3654,168.9067,94.0539,167.15,87.06\" style=\"stroke: #A80036; stroke-width: 1.0;\"/><text fill=\"#000000\" font-family=\"sans-serif\" font-size=\"13\" lengthAdjust=\"spacingAndGlyphs\" textLength=\"8\" x=\"138.872\" y=\"135.8709\">1</text></a><!--MD5=[f667431f98296947986a1a7595a31603]\n",
       "link E6 to E4--><a href=\"psysml:36152a88-3fda-40f3-9b03-bfa5e7f7b410\" target=\"_top\" title=\"psysml:36152a88-3fda-40f3-9b03-bfa5e7f7b410\" xlink:actuate=\"onRequest\" xlink:href=\"psysml:36152a88-3fda-40f3-9b03-bfa5e7f7b410\" xlink:show=\"new\" xlink:title=\"psysml:36152a88-3fda-40f3-9b03-bfa5e7f7b410\" xlink:type=\"simple\"><path d=\"M157.72,193.06 C169.31,206.02 184.27,222.74 197.65,237.7 \" fill=\"none\" id=\"E6-&gt;E4\" style=\"stroke: #A80036; stroke-width: 1.0;\"/><polygon fill=\"#FFFFFF\" points=\"211.31,252.98,193.4253,243.486,203.8597,234.152,211.31,252.98\" style=\"stroke: #A80036; stroke-width: 1.0;\"/><line style=\"stroke: #A80036; stroke-width: 2.0;\" x1=\"190.8918\" x2=\"201.3262\" y1=\"240.6538\" y2=\"231.3198\"/></a><!--MD5=[14ccda38c055a5c0da953d572bc50960]\n",
       "link E7 to E3--><a href=\"psysml:e547b523-e8e9-4ecd-8c51-8b63037972c5\" target=\"_top\" title=\"psysml:e547b523-e8e9-4ecd-8c51-8b63037972c5\" xlink:actuate=\"onRequest\" xlink:href=\"psysml:e547b523-e8e9-4ecd-8c51-8b63037972c5\" xlink:show=\"new\" xlink:title=\"psysml:e547b523-e8e9-4ecd-8c51-8b63037972c5\" xlink:type=\"simple\"><path d=\"M102.57,87.06 C127.93,103.24 162.49,125.29 189.37,142.44 \" fill=\"none\" id=\"E7-&gt;E3\" style=\"stroke: #A80036; stroke-width: 1.0;\"/><polygon fill=\"#FFFFFF\" points=\"206.54,153.39,186.7577,149.0701,194.2889,137.2683,206.54,153.39\" style=\"stroke: #A80036; stroke-width: 1.0;\"/><ellipse cx=\"183.0286\" cy=\"144.3178\" fill=\"#A80036\" rx=\"2\" ry=\"2\" style=\"stroke: #A80036; stroke-width: 1.0;\"/><ellipse cx=\"188.408\" cy=\"135.888\" fill=\"#A80036\" rx=\"2\" ry=\"2\" style=\"stroke: #A80036; stroke-width: 1.0;\"/></a><!--MD5=[dc164f5e8a733ab456ef1add180e9e34]\n",
       "reverse link E7 to E8--><a href=\"psysml:b237ade3-489d-4fd0-9379-0b86f0889901\" target=\"_top\" title=\"psysml:b237ade3-489d-4fd0-9379-0b86f0889901\" xlink:actuate=\"onRequest\" xlink:href=\"psysml:b237ade3-489d-4fd0-9379-0b86f0889901\" xlink:show=\"new\" xlink:title=\"psysml:b237ade3-489d-4fd0-9379-0b86f0889901\" xlink:type=\"simple\"><path d=\"M63.05,100.09 C64.65,143.61 75.25,216.5 85.75,252.9 \" fill=\"none\" id=\"E7&lt;-E8\" style=\"stroke: #A80036; stroke-width: 1.0;\"/><polygon fill=\"#FFFFFF\" points=\"62.85,87.08,58.9362,93.1366,63.0216,99.0788,66.9354,93.0222,62.85,87.08\" style=\"stroke: #A80036; stroke-width: 1.0;\"/><text fill=\"#000000\" font-family=\"sans-serif\" font-size=\"13\" lengthAdjust=\"spacingAndGlyphs\" textLength=\"8\" x=\"73.6516\" y=\"241.7694\">1</text></a><!--MD5=[dc164f5e8a733ab456ef1add180e9e34]\n",
       "reverse link E7 to E8--><a href=\"psysml:7018d996-601d-4a38-842d-acb296e8ea77\" target=\"_top\" title=\"psysml:7018d996-601d-4a38-842d-acb296e8ea77\" xlink:actuate=\"onRequest\" xlink:href=\"psysml:7018d996-601d-4a38-842d-acb296e8ea77\" xlink:show=\"new\" xlink:title=\"psysml:7018d996-601d-4a38-842d-acb296e8ea77\" xlink:type=\"simple\"><path d=\"M83.64,101.8 C94.15,145.5 103.39,216.97 102.63,252.9 \" fill=\"none\" id=\"E7&lt;-E8-1\" style=\"stroke: #A80036; stroke-width: 1.0; stroke-dasharray: 7.0,7.0;\"/><ellipse cx=\"81.7794\" cy=\"94.813\" fill=\"#FFFFFF\" rx=\"8\" ry=\"8\" style=\"stroke: #A80036; stroke-width: 1.0;\"/><line style=\"stroke: #A80036; stroke-width: 1.0;\" x1=\"83.8289\" x2=\"79.73\" y1=\"102.5461\" y2=\"87.08\"/><line style=\"stroke: #A80036; stroke-width: 1.0;\" x1=\"74.0464\" x2=\"89.5125\" y1=\"96.8625\" y2=\"92.7636\"/><text fill=\"#000000\" font-family=\"sans-serif\" font-size=\"13\" lengthAdjust=\"spacingAndGlyphs\" textLength=\"8\" x=\"95.0681\" y=\"241.7694\">1</text></a><!--MD5=[0a839d0f80c2d72d4b9b307f046d0de8]\n",
       "link E6 to E8--><a href=\"psysml:1ea7862a-7bab-4478-95a9-37aa2484c274\" target=\"_top\" title=\"psysml:1ea7862a-7bab-4478-95a9-37aa2484c274\" xlink:actuate=\"onRequest\" xlink:href=\"psysml:1ea7862a-7bab-4478-95a9-37aa2484c274\" xlink:show=\"new\" xlink:title=\"psysml:1ea7862a-7bab-4478-95a9-37aa2484c274\" xlink:type=\"simple\"><path d=\"M118.66,193.06 C108.89,210.7 99.19,235.34 95.04,252.98 \" fill=\"none\" id=\"E6-E8\" style=\"stroke: #A80036; stroke-width: 3.0;\"/><text fill=\"#000000\" font-family=\"sans-serif\" font-size=\"13\" lengthAdjust=\"spacingAndGlyphs\" textLength=\"7\" x=\"86.5726\" y=\"241.8709\">*</text></a><!--MD5=[0a839d0f80c2d72d4b9b307f046d0de8]\n",
       "link E6 to E8--><a href=\"psysml:1e1521f0-84d2-4d6c-a787-5301105b41c5\" target=\"_top\" title=\"psysml:1e1521f0-84d2-4d6c-a787-5301105b41c5\" xlink:actuate=\"onRequest\" xlink:href=\"psysml:1e1521f0-84d2-4d6c-a787-5301105b41c5\" xlink:show=\"new\" xlink:title=\"psysml:1e1521f0-84d2-4d6c-a787-5301105b41c5\" xlink:type=\"simple\"><path d=\"M140.58,193.06 C136.59,210.7 126.88,235.34 116.95,252.98 \" fill=\"none\" id=\"E6-E8-1\" style=\"stroke: #A80036; stroke-width: 3.0;\"/><text fill=\"#000000\" font-family=\"sans-serif\" font-size=\"13\" lengthAdjust=\"spacingAndGlyphs\" textLength=\"7\" x=\"114.3709\" y=\"241.8709\">*</text></a><!--MD5=[c45470e3f2d81ce2181a557fcf036844]\n",
       "@startuml\r\n",
       " \r\n",
       "package \"AliasTest\" as E1  [[psysml:c9a65f38-ba0f-435c-ac18-78f76b0c8149 ]]  {\r\n",
       "comp usage \"q\" as E2 << <<(U,orange) attribute>> [[psysml:252bcdae-bf35-4751-96e5-d2689f20556e ]] {\r\n",
       "}\r\n",
       "comp def \"P1\" as E3 << << (B,green) >> [[psysml:6d109465-d99f-46f9-9a55-615eadc52ec3 ]] {\r\n",
       "}\r\n",
       "comp usage \"porig1\" as E4 << << (P,blue) port>> [[psysml:07c215ea-3a50-4500-a498-5909961b01ab ]] {\r\n",
       "}\r\n",
       "comp usage \"p1: P1\" as E5 << << (P,limegreen) part>> [[psysml:4b72c15b-2565-4f84-9632-f618b5b9807b ]] {\r\n",
       "}\r\n",
       "comp usage \"po1\" as E6 << << (P,blue) port>> [[psysml:653cf2de-fd63-4b48-a4f2-812bd043bef4 ]] {\r\n",
       "}\r\n",
       "comp usage \"p2: P1\" as E7 << << (P,limegreen) part>> [[psysml:a2155965-1e3e-41f3-b3b0-5a1ed18f6b31 ]] {\r\n",
       "}\r\n",
       "comp usage \"pdest\" as E8 << << (P,blue) port>> [[psysml:44ed1293-6fc3-4c15-bfe8-a6e98039e875 ]] {\r\n",
       "}\r\n",
       "}\r\n",
       "E3 o- - \"1\"E4 [[psysml:c0c56757-3d44-421f-b231-ed3c3f6cca2a ]] \r\n",
       "E3 +.. \"1\"E4 [[psysml:baeef3bb-efbd-4f79-8bec-1b43bb5efd8f ]] \r\n",
       "E5 - -:|> E3 [[psysml:3c7344fe-e5a7-4cb3-b89e-76f05a842583 ]] \r\n",
       "E5 o- - \"1\"E6 [[psysml:5ab2eb8f-0a8a-4f0f-b519-13b72bd8ef83 ]] \r\n",
       "E6 - -||> E4 [[psysml:36152a88-3fda-40f3-9b03-bfa5e7f7b410 ]] \r\n",
       "E7 - -:|> E3 [[psysml:e547b523-e8e9-4ecd-8c51-8b63037972c5 ]] \r\n",
       "E7 o- - \"1\"E8 [[psysml:b237ade3-489d-4fd0-9379-0b86f0889901 ]] \r\n",
       "E7 +.. \"1\"E8 [[psysml:7018d996-601d-4a38-842d-acb296e8ea77 ]] \r\n",
       "E6 -[thickness=3]- \"*\"E8 [[psysml:1ea7862a-7bab-4478-95a9-37aa2484c274 ]] \r\n",
       "E6 -[thickness=3]- \"*\"E8 [[psysml:1e1521f0-84d2-4d6c-a787-5301105b41c5 ]] \r\n",
       "@enduml\r\n",
       "\n",
       "PlantUML version 1.2020.13(Sat Jun 13 12:26:38 UTC 2020)\n",
       "(EPL source distribution)\n",
       "Java Runtime: OpenJDK Runtime Environment\n",
       "JVM: OpenJDK 64-Bit Server VM\n",
       "Default Encoding: UTF-8\n",
       "Language: en\n",
       "Country: null\n",
       "--></g></svg>"
      ]
     },
     "execution_count": 30,
     "metadata": {},
     "output_type": "execute_result"
    }
   ],
   "source": [
    "%viz --style=\"PLANTUML\" --view=\"Default\" \"AliasTest\""
   ]
  },
  {
   "cell_type": "code",
   "execution_count": 31,
   "id": "7864ce8d",
   "metadata": {
    "execution": {
     "iopub.execute_input": "2021-10-03T08:30:11.791071Z",
     "iopub.status.busy": "2021-10-03T08:30:11.790482Z",
     "iopub.status.idle": "2021-10-03T08:30:11.826595Z",
     "shell.execute_reply": "2021-10-03T08:30:11.826217Z"
    }
   },
   "outputs": [
    {
     "data": {
      "image/svg+xml": [
       "<?xml version=\"1.0\" encoding=\"UTF-8\" standalone=\"no\"?><svg xmlns=\"http://www.w3.org/2000/svg\" xmlns:xlink=\"http://www.w3.org/1999/xlink\" contentScriptType=\"application/ecmascript\" contentStyleType=\"text/css\" height=\"327px\" preserveAspectRatio=\"none\" style=\"width:381px;height:327px;\" version=\"1.1\" viewBox=\"0 0 381 327\" width=\"381px\" zoomAndPan=\"magnify\"><defs><filter height=\"300%\" id=\"f1ldbfflj2otij\" width=\"300%\" x=\"-1\" y=\"-1\"><feGaussianBlur result=\"blurOut\" stdDeviation=\"2.0\"/><feColorMatrix in=\"blurOut\" result=\"blurOut2\" type=\"matrix\" values=\"0 0 0 0 0 0 0 0 0 0 0 0 0 0 0 0 0 0 .4 0\"/><feOffset dx=\"4.0\" dy=\"4.0\" in=\"blurOut2\" result=\"blurOut3\"/><feBlend in=\"SourceGraphic\" in2=\"blurOut3\" mode=\"normal\"/></filter></defs><g><!--MD5=[fbc87193dbaf4d95561dea2c320d4a47]\n",
       "cluster E1--><a href=\"psysml:c9a65f38-ba0f-435c-ac18-78f76b0c8149\" target=\"_top\" title=\"psysml:c9a65f38-ba0f-435c-ac18-78f76b0c8149\" xlink:actuate=\"onRequest\" xlink:href=\"psysml:c9a65f38-ba0f-435c-ac18-78f76b0c8149\" xlink:show=\"new\" xlink:title=\"psysml:c9a65f38-ba0f-435c-ac18-78f76b0c8149\" xlink:type=\"simple\"><polygon fill=\"#FFFFFF\" filter=\"url(#f1ldbfflj2otij)\" points=\"16,6,84,6,91,28.2969,359,28.2969,359,315,16,315,16,6\" style=\"stroke: #000000; stroke-width: 1.5;\"/><line style=\"stroke: #000000; stroke-width: 1.5;\" x1=\"16\" x2=\"91\" y1=\"28.2969\" y2=\"28.2969\"/><text fill=\"#000000\" font-family=\"sans-serif\" font-size=\"14\" font-weight=\"bold\" lengthAdjust=\"spacingAndGlyphs\" textLength=\"62\" x=\"20\" y=\"20.9951\">AliasTest</text></a><!--MD5=[b4997ac47864f28c2f74865a473b2911]\n",
       "class E2--><a href=\"psysml:252bcdae-bf35-4751-96e5-d2689f20556e\" target=\"_top\" title=\"psysml:252bcdae-bf35-4751-96e5-d2689f20556e\" xlink:actuate=\"onRequest\" xlink:href=\"psysml:252bcdae-bf35-4751-96e5-d2689f20556e\" xlink:show=\"new\" xlink:title=\"psysml:252bcdae-bf35-4751-96e5-d2689f20556e\" xlink:type=\"simple\"><rect fill=\"#FEFECE\" filter=\"url(#f1ldbfflj2otij)\" height=\"45.9375\" id=\"E2\" rx=\"10\" ry=\"10\" style=\"stroke: #A80036; stroke-width: 1.5;\" width=\"97\" x=\"246.5\" y=\"41\"/><ellipse cx=\"261.5\" cy=\"59.9688\" fill=\"#FFA500\" rx=\"11\" ry=\"11\" style=\"stroke: #A80036; stroke-width: 1.0;\"/><path d=\"M261.25,65.4375 Q259.5,65.4375 258.5469,64.4063 Q257.6094,63.3594 257.6094,61.5156 L257.6094,54.625 L259.6719,54.625 L259.6719,54.7813 Q259.5781,54.875 259.5469,55.0156 Q259.5313,55.1406 259.5313,55.4063 L259.5313,61.5313 Q259.5313,62.625 259.9063,63.25 Q260.2813,63.875 261.2656,63.875 Q262.25,63.875 262.6406,63.25 Q263.0313,62.625 263.0313,61.4844 L263.0313,54.625 L264.9063,54.625 L264.9063,61.4688 Q264.9063,63.5 263.875,64.4688 Q262.8594,65.4375 261.25,65.4375 Z \"/><text fill=\"#000000\" font-family=\"sans-serif\" font-size=\"12\" font-style=\"italic\" lengthAdjust=\"spacingAndGlyphs\" textLength=\"69\" x=\"273.5\" y=\"57.1387\">«attribute»</text><text fill=\"#000000\" font-family=\"sans-serif\" font-size=\"12\" lengthAdjust=\"spacingAndGlyphs\" textLength=\"8\" x=\"304\" y=\"71.1074\">q</text><line style=\"stroke: #A80036; stroke-width: 1.5;\" x1=\"247.5\" x2=\"342.5\" y1=\"78.9375\" y2=\"78.9375\"/></a><!--MD5=[09b614a08d8cba4a07c9adeb5e0fee81]\n",
       "class E3--><a href=\"psysml:6d109465-d99f-46f9-9a55-615eadc52ec3\" target=\"_top\" title=\"psysml:6d109465-d99f-46f9-9a55-615eadc52ec3\" xlink:actuate=\"onRequest\" xlink:href=\"psysml:6d109465-d99f-46f9-9a55-615eadc52ec3\" xlink:show=\"new\" xlink:title=\"psysml:6d109465-d99f-46f9-9a55-615eadc52ec3\" xlink:type=\"simple\"><rect fill=\"#FEFECE\" filter=\"url(#f1ldbfflj2otij)\" height=\"40\" id=\"E3\" style=\"stroke: #A80036; stroke-width: 1.5;\" width=\"48\" x=\"207\" y=\"150\"/><ellipse cx=\"222\" cy=\"166\" fill=\"#008000\" rx=\"11\" ry=\"11\" style=\"stroke: #A80036; stroke-width: 1.0;\"/><path d=\"M218.875,171 L218.875,160.4063 L222.1094,160.4063 Q224.0156,160.4063 224.9219,161.1563 Q225.8438,161.9063 225.8438,163.0781 Q225.8438,163.7656 225.4531,164.4219 Q225.0781,165.0781 224.3594,165.375 Q225.2188,165.75 225.7344,166.4375 Q226.25,167.125 226.25,167.9375 Q226.25,169.3125 225.2188,170.1563 Q224.2031,171 222.0938,171 L218.875,171 Z M220.7969,164.6406 L221.9531,164.6406 Q223.0781,164.6406 223.4844,164.2656 Q223.9063,163.875 223.9063,163.25 Q223.9063,162.6719 223.4844,162.3125 Q223.0625,161.9531 222.125,161.9531 L220.7969,161.9531 L220.7969,164.6406 Z M220.7969,169.4219 L222.2969,169.4219 Q223.2031,169.4219 223.7344,169.0313 Q224.2656,168.6406 224.2656,167.8906 Q224.2656,167.125 223.7656,166.6563 Q223.2656,166.1719 222,166.1719 L220.7969,166.1719 L220.7969,169.4219 Z \"/><text fill=\"#000000\" font-family=\"sans-serif\" font-size=\"12\" lengthAdjust=\"spacingAndGlyphs\" textLength=\"16\" x=\"236\" y=\"170.1543\">P1</text><line style=\"stroke: #A80036; stroke-width: 1.5;\" x1=\"208\" x2=\"254\" y1=\"182\" y2=\"182\"/></a><!--MD5=[ebbe1d658d1005bcc118a6aa81145e00]\n",
       "class E4--><a href=\"psysml:07c215ea-3a50-4500-a498-5909961b01ab\" target=\"_top\" title=\"psysml:07c215ea-3a50-4500-a498-5909961b01ab\" xlink:actuate=\"onRequest\" xlink:href=\"psysml:07c215ea-3a50-4500-a498-5909961b01ab\" xlink:show=\"new\" xlink:title=\"psysml:07c215ea-3a50-4500-a498-5909961b01ab\" xlink:type=\"simple\"><rect fill=\"#FEFECE\" filter=\"url(#f1ldbfflj2otij)\" height=\"45.9375\" id=\"E4\" rx=\"10\" ry=\"10\" style=\"stroke: #A80036; stroke-width: 1.5;\" width=\"72\" x=\"195\" y=\"253\"/><ellipse cx=\"210\" cy=\"271.9688\" fill=\"#0000FF\" rx=\"11\" ry=\"11\" style=\"stroke: #A80036; stroke-width: 1.0;\"/><path d=\"M206.8125,276.9688 L206.8125,266.375 L210.4219,266.375 Q211.6406,266.375 212.4375,266.8125 Q213.2344,267.2344 213.6094,267.9375 Q214,268.6406 214,269.4844 Q214,270.3281 213.625,271.0156 Q213.2656,271.7031 212.4688,272.125 Q211.6875,272.5313 210.5,272.5313 L208.7656,272.5313 L208.7656,276.9688 L206.8125,276.9688 Z M208.7656,270.9375 L210.375,270.9375 Q211.1875,270.9375 211.6094,270.5313 Q212.0313,270.125 212.0313,269.4844 Q212.0313,268.8594 211.6094,268.4531 Q211.1875,268.0469 210.3906,268.0469 L208.7656,268.0469 L208.7656,270.9375 Z \"/><text fill=\"#000000\" font-family=\"sans-serif\" font-size=\"12\" font-style=\"italic\" lengthAdjust=\"spacingAndGlyphs\" textLength=\"40\" x=\"224\" y=\"269.1387\">«port»</text><text fill=\"#000000\" font-family=\"sans-serif\" font-size=\"12\" lengthAdjust=\"spacingAndGlyphs\" textLength=\"40\" x=\"224\" y=\"283.1074\">porig1</text><line style=\"stroke: #A80036; stroke-width: 1.5;\" x1=\"196\" x2=\"266\" y1=\"290.9375\" y2=\"290.9375\"/></a><!--MD5=[270fce915f116d4de14055a7c1d9a0f3]\n",
       "class E5--><a href=\"psysml:4b72c15b-2565-4f84-9632-f618b5b9807b\" target=\"_top\" title=\"psysml:4b72c15b-2565-4f84-9632-f618b5b9807b\" xlink:actuate=\"onRequest\" xlink:href=\"psysml:4b72c15b-2565-4f84-9632-f618b5b9807b\" xlink:show=\"new\" xlink:title=\"psysml:4b72c15b-2565-4f84-9632-f618b5b9807b\" xlink:type=\"simple\"><rect fill=\"#FEFECE\" filter=\"url(#f1ldbfflj2otij)\" height=\"45.9375\" id=\"E5\" rx=\"10\" ry=\"10\" style=\"stroke: #A80036; stroke-width: 1.5;\" width=\"72\" x=\"139\" y=\"41\"/><ellipse cx=\"154\" cy=\"59.9688\" fill=\"#32CD32\" rx=\"11\" ry=\"11\" style=\"stroke: #A80036; stroke-width: 1.0;\"/><path d=\"M150.8125,64.9688 L150.8125,54.375 L154.4219,54.375 Q155.6406,54.375 156.4375,54.8125 Q157.2344,55.2344 157.6094,55.9375 Q158,56.6406 158,57.4844 Q158,58.3281 157.625,59.0156 Q157.2656,59.7031 156.4688,60.125 Q155.6875,60.5313 154.5,60.5313 L152.7656,60.5313 L152.7656,64.9688 L150.8125,64.9688 Z M152.7656,58.9375 L154.375,58.9375 Q155.1875,58.9375 155.6094,58.5313 Q156.0313,58.125 156.0313,57.4844 Q156.0313,56.8594 155.6094,56.4531 Q155.1875,56.0469 154.3906,56.0469 L152.7656,56.0469 L152.7656,58.9375 Z \"/><text fill=\"#000000\" font-family=\"sans-serif\" font-size=\"12\" font-style=\"italic\" lengthAdjust=\"spacingAndGlyphs\" textLength=\"40\" x=\"168\" y=\"57.1387\">«part»</text><text fill=\"#000000\" font-family=\"sans-serif\" font-size=\"12\" lengthAdjust=\"spacingAndGlyphs\" textLength=\"40\" x=\"168\" y=\"71.1074\">p1: P1</text><line style=\"stroke: #A80036; stroke-width: 1.5;\" x1=\"140\" x2=\"210\" y1=\"78.9375\" y2=\"78.9375\"/></a><!--MD5=[60a26617385b1d2d0262a64233df1f8d]\n",
       "class E6--><a href=\"psysml:653cf2de-fd63-4b48-a4f2-812bd043bef4\" target=\"_top\" title=\"psysml:653cf2de-fd63-4b48-a4f2-812bd043bef4\" xlink:actuate=\"onRequest\" xlink:href=\"psysml:653cf2de-fd63-4b48-a4f2-812bd043bef4\" xlink:show=\"new\" xlink:title=\"psysml:653cf2de-fd63-4b48-a4f2-812bd043bef4\" xlink:type=\"simple\"><rect fill=\"#FEFECE\" filter=\"url(#f1ldbfflj2otij)\" height=\"45.9375\" id=\"E6\" rx=\"10\" ry=\"10\" style=\"stroke: #A80036; stroke-width: 1.5;\" width=\"68\" x=\"104\" y=\"147\"/><ellipse cx=\"119\" cy=\"165.9688\" fill=\"#0000FF\" rx=\"11\" ry=\"11\" style=\"stroke: #A80036; stroke-width: 1.0;\"/><path d=\"M115.8125,170.9688 L115.8125,160.375 L119.4219,160.375 Q120.6406,160.375 121.4375,160.8125 Q122.2344,161.2344 122.6094,161.9375 Q123,162.6406 123,163.4844 Q123,164.3281 122.625,165.0156 Q122.2656,165.7031 121.4688,166.125 Q120.6875,166.5313 119.5,166.5313 L117.7656,166.5313 L117.7656,170.9688 L115.8125,170.9688 Z M117.7656,164.9375 L119.375,164.9375 Q120.1875,164.9375 120.6094,164.5313 Q121.0313,164.125 121.0313,163.4844 Q121.0313,162.8594 120.6094,162.4531 Q120.1875,162.0469 119.3906,162.0469 L117.7656,162.0469 L117.7656,164.9375 Z \"/><text fill=\"#000000\" font-family=\"sans-serif\" font-size=\"12\" font-style=\"italic\" lengthAdjust=\"spacingAndGlyphs\" textLength=\"40\" x=\"131\" y=\"163.1387\">«port»</text><text fill=\"#000000\" font-family=\"sans-serif\" font-size=\"12\" lengthAdjust=\"spacingAndGlyphs\" textLength=\"24\" x=\"139\" y=\"177.1074\">po1</text><line style=\"stroke: #A80036; stroke-width: 1.5;\" x1=\"105\" x2=\"171\" y1=\"184.9375\" y2=\"184.9375\"/></a><!--MD5=[2156ba9850f5573cc1fc38a6a4b2f02b]\n",
       "class E7--><a href=\"psysml:a2155965-1e3e-41f3-b3b0-5a1ed18f6b31\" target=\"_top\" title=\"psysml:a2155965-1e3e-41f3-b3b0-5a1ed18f6b31\" xlink:actuate=\"onRequest\" xlink:href=\"psysml:a2155965-1e3e-41f3-b3b0-5a1ed18f6b31\" xlink:show=\"new\" xlink:title=\"psysml:a2155965-1e3e-41f3-b3b0-5a1ed18f6b31\" xlink:type=\"simple\"><rect fill=\"#FEFECE\" filter=\"url(#f1ldbfflj2otij)\" height=\"45.9375\" id=\"E7\" rx=\"10\" ry=\"10\" style=\"stroke: #A80036; stroke-width: 1.5;\" width=\"72\" x=\"32\" y=\"41\"/><ellipse cx=\"47\" cy=\"59.9688\" fill=\"#32CD32\" rx=\"11\" ry=\"11\" style=\"stroke: #A80036; stroke-width: 1.0;\"/><path d=\"M43.8125,64.9688 L43.8125,54.375 L47.4219,54.375 Q48.6406,54.375 49.4375,54.8125 Q50.2344,55.2344 50.6094,55.9375 Q51,56.6406 51,57.4844 Q51,58.3281 50.625,59.0156 Q50.2656,59.7031 49.4688,60.125 Q48.6875,60.5313 47.5,60.5313 L45.7656,60.5313 L45.7656,64.9688 L43.8125,64.9688 Z M45.7656,58.9375 L47.375,58.9375 Q48.1875,58.9375 48.6094,58.5313 Q49.0313,58.125 49.0313,57.4844 Q49.0313,56.8594 48.6094,56.4531 Q48.1875,56.0469 47.3906,56.0469 L45.7656,56.0469 L45.7656,58.9375 Z \"/><text fill=\"#000000\" font-family=\"sans-serif\" font-size=\"12\" font-style=\"italic\" lengthAdjust=\"spacingAndGlyphs\" textLength=\"40\" x=\"61\" y=\"57.1387\">«part»</text><text fill=\"#000000\" font-family=\"sans-serif\" font-size=\"12\" lengthAdjust=\"spacingAndGlyphs\" textLength=\"40\" x=\"61\" y=\"71.1074\">p2: P1</text><line style=\"stroke: #A80036; stroke-width: 1.5;\" x1=\"33\" x2=\"103\" y1=\"78.9375\" y2=\"78.9375\"/></a><!--MD5=[b9389687b975829384b498ac4b7476b2]\n",
       "class E8--><a href=\"psysml:44ed1293-6fc3-4c15-bfe8-a6e98039e875\" target=\"_top\" title=\"psysml:44ed1293-6fc3-4c15-bfe8-a6e98039e875\" xlink:actuate=\"onRequest\" xlink:href=\"psysml:44ed1293-6fc3-4c15-bfe8-a6e98039e875\" xlink:show=\"new\" xlink:title=\"psysml:44ed1293-6fc3-4c15-bfe8-a6e98039e875\" xlink:type=\"simple\"><rect fill=\"#FEFECE\" filter=\"url(#f1ldbfflj2otij)\" height=\"45.9375\" id=\"E8\" rx=\"10\" ry=\"10\" style=\"stroke: #A80036; stroke-width: 1.5;\" width=\"68\" x=\"63\" y=\"253\"/><ellipse cx=\"78\" cy=\"271.9688\" fill=\"#0000FF\" rx=\"11\" ry=\"11\" style=\"stroke: #A80036; stroke-width: 1.0;\"/><path d=\"M74.8125,276.9688 L74.8125,266.375 L78.4219,266.375 Q79.6406,266.375 80.4375,266.8125 Q81.2344,267.2344 81.6094,267.9375 Q82,268.6406 82,269.4844 Q82,270.3281 81.625,271.0156 Q81.2656,271.7031 80.4688,272.125 Q79.6875,272.5313 78.5,272.5313 L76.7656,272.5313 L76.7656,276.9688 L74.8125,276.9688 Z M76.7656,270.9375 L78.375,270.9375 Q79.1875,270.9375 79.6094,270.5313 Q80.0313,270.125 80.0313,269.4844 Q80.0313,268.8594 79.6094,268.4531 Q79.1875,268.0469 78.3906,268.0469 L76.7656,268.0469 L76.7656,270.9375 Z \"/><text fill=\"#000000\" font-family=\"sans-serif\" font-size=\"12\" font-style=\"italic\" lengthAdjust=\"spacingAndGlyphs\" textLength=\"40\" x=\"90\" y=\"269.1387\">«port»</text><text fill=\"#000000\" font-family=\"sans-serif\" font-size=\"12\" lengthAdjust=\"spacingAndGlyphs\" textLength=\"36\" x=\"92\" y=\"283.1074\">pdest</text><line style=\"stroke: #A80036; stroke-width: 1.5;\" x1=\"64\" x2=\"130\" y1=\"290.9375\" y2=\"290.9375\"/></a><!--MD5=[4672eba38e49728da53d11aeb285b987]\n",
       "reverse link E3 to E4--><a href=\"psysml:c0c56757-3d44-421f-b231-ed3c3f6cca2a\" target=\"_top\" title=\"psysml:c0c56757-3d44-421f-b231-ed3c3f6cca2a\" xlink:actuate=\"onRequest\" xlink:href=\"psysml:c0c56757-3d44-421f-b231-ed3c3f6cca2a\" xlink:show=\"new\" xlink:title=\"psysml:c0c56757-3d44-421f-b231-ed3c3f6cca2a\" xlink:type=\"simple\"><path d=\"M219.1,203.25 C217.65,219.33 218.05,238.37 220.33,252.8 \" fill=\"none\" id=\"E3&lt;-E4\" style=\"stroke: #A80036; stroke-width: 1.0;\"/><polygon fill=\"#FFFFFF\" points=\"220.87,190.08,216.1137,195.5001,219.2875,201.9752,224.0438,196.5551,220.87,190.08\" style=\"stroke: #A80036; stroke-width: 1.0;\"/><text fill=\"#000000\" font-family=\"sans-serif\" font-size=\"13\" lengthAdjust=\"spacingAndGlyphs\" textLength=\"8\" x=\"208.5708\" y=\"242.025\">1</text></a><!--MD5=[4672eba38e49728da53d11aeb285b987]\n",
       "reverse link E3 to E4--><a href=\"psysml:baeef3bb-efbd-4f79-8bec-1b43bb5efd8f\" target=\"_top\" title=\"psysml:baeef3bb-efbd-4f79-8bec-1b43bb5efd8f\" xlink:actuate=\"onRequest\" xlink:href=\"psysml:baeef3bb-efbd-4f79-8bec-1b43bb5efd8f\" xlink:show=\"new\" xlink:title=\"psysml:baeef3bb-efbd-4f79-8bec-1b43bb5efd8f\" xlink:type=\"simple\"><path d=\"M243.77,205.22 C245.1,220.87 244.61,238.96 242.3,252.8 \" fill=\"none\" id=\"E3&lt;-E4-1\" style=\"stroke: #A80036; stroke-width: 1.0; stroke-dasharray: 7.0,7.0;\"/><ellipse cx=\"242.7963\" cy=\"198.0086\" fill=\"#FFFFFF\" rx=\"8\" ry=\"8\" style=\"stroke: #A80036; stroke-width: 1.0;\"/><line style=\"stroke: #A80036; stroke-width: 1.0;\" x1=\"243.8626\" x2=\"241.73\" y1=\"205.9372\" y2=\"190.08\"/><line style=\"stroke: #A80036; stroke-width: 1.0;\" x1=\"234.8677\" x2=\"250.7249\" y1=\"199.0749\" y2=\"196.9423\"/><text fill=\"#000000\" font-family=\"sans-serif\" font-size=\"13\" lengthAdjust=\"spacingAndGlyphs\" textLength=\"8\" x=\"236.1706\" y=\"242.025\">1</text></a><!--MD5=[e9be52314489bd878ff4c7144b63c9e1]\n",
       "link E5 to E3--><a href=\"psysml:3c7344fe-e5a7-4cb3-b89e-76f05a842583\" target=\"_top\" title=\"psysml:3c7344fe-e5a7-4cb3-b89e-76f05a842583\" xlink:actuate=\"onRequest\" xlink:href=\"psysml:3c7344fe-e5a7-4cb3-b89e-76f05a842583\" xlink:show=\"new\" xlink:title=\"psysml:3c7344fe-e5a7-4cb3-b89e-76f05a842583\" xlink:type=\"simple\"><path d=\"M186.88,87.06 C193.92,100.14 203.03,117.05 211.14,132.11 \" fill=\"none\" id=\"E5-&gt;E3\" style=\"stroke: #A80036; stroke-width: 1.0;\"/><polygon fill=\"#FFFFFF\" points=\"220.65,149.77,205.4866,136.3509,217.817,129.7207,220.65,149.77\" style=\"stroke: #A80036; stroke-width: 1.0;\"/><ellipse cx=\"204.5486\" cy=\"130.3835\" fill=\"#A80036\" rx=\"2\" ry=\"2\" style=\"stroke: #A80036; stroke-width: 1.0;\"/><ellipse cx=\"213.3561\" cy=\"125.6476\" fill=\"#A80036\" rx=\"2\" ry=\"2\" style=\"stroke: #A80036; stroke-width: 1.0;\"/></a><!--MD5=[85d356282659285ab4b2cfe2f634dd2b]\n",
       "reverse link E5 to E6--><a href=\"psysml:5ab2eb8f-0a8a-4f0f-b519-13b72bd8ef83\" target=\"_top\" title=\"psysml:5ab2eb8f-0a8a-4f0f-b519-13b72bd8ef83\" xlink:actuate=\"onRequest\" xlink:href=\"psysml:5ab2eb8f-0a8a-4f0f-b519-13b72bd8ef83\" xlink:show=\"new\" xlink:title=\"psysml:5ab2eb8f-0a8a-4f0f-b519-13b72bd8ef83\" xlink:type=\"simple\"><path d=\"M162.73,99.49 C157.16,115.15 150.74,133.19 145.84,146.98 \" fill=\"none\" id=\"E5&lt;-E6\" style=\"stroke: #A80036; stroke-width: 1.0;\"/><polygon fill=\"#FFFFFF\" points=\"167.15,87.06,161.3698,91.3715,163.1265,98.3654,168.9067,94.0539,167.15,87.06\" style=\"stroke: #A80036; stroke-width: 1.0;\"/><text fill=\"#000000\" font-family=\"sans-serif\" font-size=\"13\" lengthAdjust=\"spacingAndGlyphs\" textLength=\"8\" x=\"138.872\" y=\"135.8709\">1</text></a><!--MD5=[f667431f98296947986a1a7595a31603]\n",
       "link E6 to E4--><a href=\"psysml:36152a88-3fda-40f3-9b03-bfa5e7f7b410\" target=\"_top\" title=\"psysml:36152a88-3fda-40f3-9b03-bfa5e7f7b410\" xlink:actuate=\"onRequest\" xlink:href=\"psysml:36152a88-3fda-40f3-9b03-bfa5e7f7b410\" xlink:show=\"new\" xlink:title=\"psysml:36152a88-3fda-40f3-9b03-bfa5e7f7b410\" xlink:type=\"simple\"><path d=\"M157.72,193.06 C169.31,206.02 184.27,222.74 197.65,237.7 \" fill=\"none\" id=\"E6-&gt;E4\" style=\"stroke: #A80036; stroke-width: 1.0;\"/><polygon fill=\"#FFFFFF\" points=\"211.31,252.98,193.4253,243.486,203.8597,234.152,211.31,252.98\" style=\"stroke: #A80036; stroke-width: 1.0;\"/><line style=\"stroke: #A80036; stroke-width: 2.0;\" x1=\"190.8918\" x2=\"201.3262\" y1=\"240.6538\" y2=\"231.3198\"/></a><!--MD5=[14ccda38c055a5c0da953d572bc50960]\n",
       "link E7 to E3--><a href=\"psysml:e547b523-e8e9-4ecd-8c51-8b63037972c5\" target=\"_top\" title=\"psysml:e547b523-e8e9-4ecd-8c51-8b63037972c5\" xlink:actuate=\"onRequest\" xlink:href=\"psysml:e547b523-e8e9-4ecd-8c51-8b63037972c5\" xlink:show=\"new\" xlink:title=\"psysml:e547b523-e8e9-4ecd-8c51-8b63037972c5\" xlink:type=\"simple\"><path d=\"M102.57,87.06 C127.93,103.24 162.49,125.29 189.37,142.44 \" fill=\"none\" id=\"E7-&gt;E3\" style=\"stroke: #A80036; stroke-width: 1.0;\"/><polygon fill=\"#FFFFFF\" points=\"206.54,153.39,186.7577,149.0701,194.2889,137.2683,206.54,153.39\" style=\"stroke: #A80036; stroke-width: 1.0;\"/><ellipse cx=\"183.0286\" cy=\"144.3178\" fill=\"#A80036\" rx=\"2\" ry=\"2\" style=\"stroke: #A80036; stroke-width: 1.0;\"/><ellipse cx=\"188.408\" cy=\"135.888\" fill=\"#A80036\" rx=\"2\" ry=\"2\" style=\"stroke: #A80036; stroke-width: 1.0;\"/></a><!--MD5=[dc164f5e8a733ab456ef1add180e9e34]\n",
       "reverse link E7 to E8--><a href=\"psysml:b237ade3-489d-4fd0-9379-0b86f0889901\" target=\"_top\" title=\"psysml:b237ade3-489d-4fd0-9379-0b86f0889901\" xlink:actuate=\"onRequest\" xlink:href=\"psysml:b237ade3-489d-4fd0-9379-0b86f0889901\" xlink:show=\"new\" xlink:title=\"psysml:b237ade3-489d-4fd0-9379-0b86f0889901\" xlink:type=\"simple\"><path d=\"M63.05,100.09 C64.65,143.61 75.25,216.5 85.75,252.9 \" fill=\"none\" id=\"E7&lt;-E8\" style=\"stroke: #A80036; stroke-width: 1.0;\"/><polygon fill=\"#FFFFFF\" points=\"62.85,87.08,58.9362,93.1366,63.0216,99.0788,66.9354,93.0222,62.85,87.08\" style=\"stroke: #A80036; stroke-width: 1.0;\"/><text fill=\"#000000\" font-family=\"sans-serif\" font-size=\"13\" lengthAdjust=\"spacingAndGlyphs\" textLength=\"8\" x=\"73.6516\" y=\"241.7694\">1</text></a><!--MD5=[dc164f5e8a733ab456ef1add180e9e34]\n",
       "reverse link E7 to E8--><a href=\"psysml:7018d996-601d-4a38-842d-acb296e8ea77\" target=\"_top\" title=\"psysml:7018d996-601d-4a38-842d-acb296e8ea77\" xlink:actuate=\"onRequest\" xlink:href=\"psysml:7018d996-601d-4a38-842d-acb296e8ea77\" xlink:show=\"new\" xlink:title=\"psysml:7018d996-601d-4a38-842d-acb296e8ea77\" xlink:type=\"simple\"><path d=\"M83.64,101.8 C94.15,145.5 103.39,216.97 102.63,252.9 \" fill=\"none\" id=\"E7&lt;-E8-1\" style=\"stroke: #A80036; stroke-width: 1.0; stroke-dasharray: 7.0,7.0;\"/><ellipse cx=\"81.7794\" cy=\"94.813\" fill=\"#FFFFFF\" rx=\"8\" ry=\"8\" style=\"stroke: #A80036; stroke-width: 1.0;\"/><line style=\"stroke: #A80036; stroke-width: 1.0;\" x1=\"83.8289\" x2=\"79.73\" y1=\"102.5461\" y2=\"87.08\"/><line style=\"stroke: #A80036; stroke-width: 1.0;\" x1=\"74.0464\" x2=\"89.5125\" y1=\"96.8625\" y2=\"92.7636\"/><text fill=\"#000000\" font-family=\"sans-serif\" font-size=\"13\" lengthAdjust=\"spacingAndGlyphs\" textLength=\"8\" x=\"95.0681\" y=\"241.7694\">1</text></a><!--MD5=[0a839d0f80c2d72d4b9b307f046d0de8]\n",
       "link E6 to E8--><a href=\"psysml:1ea7862a-7bab-4478-95a9-37aa2484c274\" target=\"_top\" title=\"psysml:1ea7862a-7bab-4478-95a9-37aa2484c274\" xlink:actuate=\"onRequest\" xlink:href=\"psysml:1ea7862a-7bab-4478-95a9-37aa2484c274\" xlink:show=\"new\" xlink:title=\"psysml:1ea7862a-7bab-4478-95a9-37aa2484c274\" xlink:type=\"simple\"><path d=\"M118.66,193.06 C108.89,210.7 99.19,235.34 95.04,252.98 \" fill=\"none\" id=\"E6-E8\" style=\"stroke: #A80036; stroke-width: 3.0;\"/><text fill=\"#000000\" font-family=\"sans-serif\" font-size=\"13\" lengthAdjust=\"spacingAndGlyphs\" textLength=\"7\" x=\"86.5726\" y=\"241.8709\">*</text></a><!--MD5=[0a839d0f80c2d72d4b9b307f046d0de8]\n",
       "link E6 to E8--><a href=\"psysml:1e1521f0-84d2-4d6c-a787-5301105b41c5\" target=\"_top\" title=\"psysml:1e1521f0-84d2-4d6c-a787-5301105b41c5\" xlink:actuate=\"onRequest\" xlink:href=\"psysml:1e1521f0-84d2-4d6c-a787-5301105b41c5\" xlink:show=\"new\" xlink:title=\"psysml:1e1521f0-84d2-4d6c-a787-5301105b41c5\" xlink:type=\"simple\"><path d=\"M140.58,193.06 C136.59,210.7 126.88,235.34 116.95,252.98 \" fill=\"none\" id=\"E6-E8-1\" style=\"stroke: #A80036; stroke-width: 3.0;\"/><text fill=\"#000000\" font-family=\"sans-serif\" font-size=\"13\" lengthAdjust=\"spacingAndGlyphs\" textLength=\"7\" x=\"114.3709\" y=\"241.8709\">*</text></a><!--MD5=[c45470e3f2d81ce2181a557fcf036844]\n",
       "@startuml\r\n",
       " \r\n",
       "package \"AliasTest\" as E1  [[psysml:c9a65f38-ba0f-435c-ac18-78f76b0c8149 ]]  {\r\n",
       "comp usage \"q\" as E2 << <<(U,orange) attribute>> [[psysml:252bcdae-bf35-4751-96e5-d2689f20556e ]] {\r\n",
       "}\r\n",
       "comp def \"P1\" as E3 << << (B,green) >> [[psysml:6d109465-d99f-46f9-9a55-615eadc52ec3 ]] {\r\n",
       "}\r\n",
       "comp usage \"porig1\" as E4 << << (P,blue) port>> [[psysml:07c215ea-3a50-4500-a498-5909961b01ab ]] {\r\n",
       "}\r\n",
       "comp usage \"p1: P1\" as E5 << << (P,limegreen) part>> [[psysml:4b72c15b-2565-4f84-9632-f618b5b9807b ]] {\r\n",
       "}\r\n",
       "comp usage \"po1\" as E6 << << (P,blue) port>> [[psysml:653cf2de-fd63-4b48-a4f2-812bd043bef4 ]] {\r\n",
       "}\r\n",
       "comp usage \"p2: P1\" as E7 << << (P,limegreen) part>> [[psysml:a2155965-1e3e-41f3-b3b0-5a1ed18f6b31 ]] {\r\n",
       "}\r\n",
       "comp usage \"pdest\" as E8 << << (P,blue) port>> [[psysml:44ed1293-6fc3-4c15-bfe8-a6e98039e875 ]] {\r\n",
       "}\r\n",
       "}\r\n",
       "E3 o- - \"1\"E4 [[psysml:c0c56757-3d44-421f-b231-ed3c3f6cca2a ]] \r\n",
       "E3 +.. \"1\"E4 [[psysml:baeef3bb-efbd-4f79-8bec-1b43bb5efd8f ]] \r\n",
       "E5 - -:|> E3 [[psysml:3c7344fe-e5a7-4cb3-b89e-76f05a842583 ]] \r\n",
       "E5 o- - \"1\"E6 [[psysml:5ab2eb8f-0a8a-4f0f-b519-13b72bd8ef83 ]] \r\n",
       "E6 - -||> E4 [[psysml:36152a88-3fda-40f3-9b03-bfa5e7f7b410 ]] \r\n",
       "E7 - -:|> E3 [[psysml:e547b523-e8e9-4ecd-8c51-8b63037972c5 ]] \r\n",
       "E7 o- - \"1\"E8 [[psysml:b237ade3-489d-4fd0-9379-0b86f0889901 ]] \r\n",
       "E7 +.. \"1\"E8 [[psysml:7018d996-601d-4a38-842d-acb296e8ea77 ]] \r\n",
       "E6 -[thickness=3]- \"*\"E8 [[psysml:1ea7862a-7bab-4478-95a9-37aa2484c274 ]] \r\n",
       "E6 -[thickness=3]- \"*\"E8 [[psysml:1e1521f0-84d2-4d6c-a787-5301105b41c5 ]] \r\n",
       "@enduml\r\n",
       "\n",
       "PlantUML version 1.2020.13(Sat Jun 13 12:26:38 UTC 2020)\n",
       "(EPL source distribution)\n",
       "Java Runtime: OpenJDK Runtime Environment\n",
       "JVM: OpenJDK 64-Bit Server VM\n",
       "Default Encoding: UTF-8\n",
       "Language: en\n",
       "Country: null\n",
       "--></g></svg>"
      ]
     },
     "execution_count": 31,
     "metadata": {},
     "output_type": "execute_result"
    }
   ],
   "source": [
    "%viz --style=\"PLANTUML\" --view=\"Tree\" \"AliasTest\""
   ]
  },
  {
   "cell_type": "code",
   "execution_count": 32,
   "id": "897bfb5c",
   "metadata": {
    "execution": {
     "iopub.execute_input": "2021-10-03T08:30:11.875051Z",
     "iopub.status.busy": "2021-10-03T08:30:11.874571Z",
     "iopub.status.idle": "2021-10-03T08:30:11.984895Z",
     "shell.execute_reply": "2021-10-03T08:30:11.982975Z"
    }
   },
   "outputs": [
    {
     "data": {
      "image/svg+xml": [
       "<?xml version=\"1.0\" encoding=\"UTF-8\" standalone=\"no\"?><svg xmlns=\"http://www.w3.org/2000/svg\" xmlns:xlink=\"http://www.w3.org/1999/xlink\" contentScriptType=\"application/ecmascript\" contentStyleType=\"text/css\" height=\"365px\" preserveAspectRatio=\"none\" style=\"width:603px;height:365px;background:#000000;\" version=\"1.1\" viewBox=\"0 0 603 365\" width=\"603px\" zoomAndPan=\"magnify\"><defs/><g><rect fill=\"#001008\" height=\"1\" style=\"stroke: #001008; stroke-width: 1.0;\" width=\"1\" x=\"0\" y=\"0\"/><rect fill=\"#EAE2C9\" height=\"65.1875\" style=\"stroke: #EAE2C9; stroke-width: 1.0;\" width=\"602\" x=\"0\" y=\"0\"/><text fill=\"#000000\" font-family=\"sans-serif\" font-size=\"14\" font-weight=\"bold\" lengthAdjust=\"spacingAndGlyphs\" textLength=\"267\" x=\"10\" y=\"12.9951\">Add your own dedication into PlantUML</text><text fill=\"#000000\" font-family=\"sans-serif\" font-size=\"14\" lengthAdjust=\"spacingAndGlyphs\" textLength=\"0\" x=\"14\" y=\"29.292\"/><text fill=\"#000000\" font-family=\"sans-serif\" font-size=\"14\" lengthAdjust=\"spacingAndGlyphs\" textLength=\"154\" x=\"10\" y=\"45.5889\">For just $5 per month!</text><text fill=\"#000000\" font-family=\"sans-serif\" font-size=\"14\" lengthAdjust=\"spacingAndGlyphs\" textLength=\"69\" x=\"10\" y=\"61.8857\">Details on</text><a href=\"http://plantuml.com/dedication\" target=\"_top\" title=\"http://plantuml.com/dedication\" xlink:actuate=\"onRequest\" xlink:href=\"http://plantuml.com/dedication\" xlink:show=\"new\" xlink:title=\"http://plantuml.com/dedication\" xlink:type=\"simple\"><text fill=\"#000000\" font-family=\"sans-serif\" font-size=\"14\" font-style=\"italic\" lengthAdjust=\"spacingAndGlyphs\" textLength=\"213\" x=\"83\" y=\"61.8857\">http://plantuml.com/dedication</text></a><rect fill=\"#FFFFFF\" height=\"202.8012\" style=\"stroke: #FFFFFF; stroke-width: 1.0;\" width=\"602\" x=\"0\" y=\"65.1875\"/><text fill=\"#000000\" font-family=\"sans-serif\" font-size=\"12\" font-weight=\"bold\" lengthAdjust=\"spacingAndGlyphs\" textLength=\"139\" x=\"5\" y=\"81.3262\">Welcome to PlantUML!</text><text fill=\"#000000\" font-family=\"sans-serif\" font-size=\"12\" lengthAdjust=\"spacingAndGlyphs\" textLength=\"0\" x=\"9\" y=\"95.2949\"/><text fill=\"#000000\" font-family=\"sans-serif\" font-size=\"12\" lengthAdjust=\"spacingAndGlyphs\" textLength=\"293\" x=\"5\" y=\"109.2637\">If you use this software, you accept its license.</text><text fill=\"#000000\" font-family=\"sans-serif\" font-size=\"12\" lengthAdjust=\"spacingAndGlyphs\" textLength=\"107\" x=\"5\" y=\"123.2324\">(details by typing</text><text fill=\"#000000\" font-family=\"monospace\" font-size=\"12\" lengthAdjust=\"spacingAndGlyphs\" textLength=\"42\" x=\"116\" y=\"123.7825\">license</text><text fill=\"#000000\" font-family=\"sans-serif\" font-size=\"12\" lengthAdjust=\"spacingAndGlyphs\" textLength=\"56\" x=\"162\" y=\"123.2324\">keyword)</text><text fill=\"#000000\" font-family=\"sans-serif\" font-size=\"12\" lengthAdjust=\"spacingAndGlyphs\" textLength=\"0\" x=\"9\" y=\"137.2012\"/><text fill=\"#000000\" font-family=\"sans-serif\" font-size=\"12\" lengthAdjust=\"spacingAndGlyphs\" textLength=\"283\" x=\"5\" y=\"151.1699\">You can start with a simple UML Diagram like:</text><text fill=\"#000000\" font-family=\"sans-serif\" font-size=\"12\" lengthAdjust=\"spacingAndGlyphs\" textLength=\"0\" x=\"9\" y=\"165.1387\"/><text fill=\"#000000\" font-family=\"monospace\" font-size=\"12\" lengthAdjust=\"spacingAndGlyphs\" textLength=\"102\" x=\"5\" y=\"178.2768\">Bob-&gt;Alice: Hello</text><text fill=\"#000000\" font-family=\"sans-serif\" font-size=\"12\" lengthAdjust=\"spacingAndGlyphs\" textLength=\"0\" x=\"9\" y=\"191.6955\"/><text fill=\"#000000\" font-family=\"sans-serif\" font-size=\"12\" lengthAdjust=\"spacingAndGlyphs\" textLength=\"14\" x=\"5\" y=\"205.6643\">Or</text><text fill=\"#000000\" font-family=\"sans-serif\" font-size=\"12\" lengthAdjust=\"spacingAndGlyphs\" textLength=\"0\" x=\"9\" y=\"219.633\"/><text fill=\"#000000\" font-family=\"monospace\" font-size=\"12\" lengthAdjust=\"spacingAndGlyphs\" textLength=\"78\" x=\"5\" y=\"232.7712\">class Example</text><text fill=\"#000000\" font-family=\"sans-serif\" font-size=\"12\" lengthAdjust=\"spacingAndGlyphs\" textLength=\"0\" x=\"9\" y=\"246.1898\"/><text fill=\"#000000\" font-family=\"sans-serif\" font-size=\"12\" lengthAdjust=\"spacingAndGlyphs\" textLength=\"349\" x=\"5\" y=\"260.1586\">You will find more information about PlantUML syntax on</text><text fill=\"#000000\" font-family=\"sans-serif\" font-size=\"12\" lengthAdjust=\"spacingAndGlyphs\" text-decoration=\"underline\" textLength=\"129\" x=\"358\" y=\"260.1586\">https://plantuml.com</text><image height=\"71\" width=\"80\" x=\"516\" xlink:href=\"data:image/png;base64,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\" y=\"71.1875\"/><rect fill=\"#000000\" height=\"96.4844\" style=\"stroke: #000000; stroke-width: 1.0;\" width=\"602\" x=\"0\" y=\"267.9887\"/><rect fill=\"#33FF02\" height=\"21.2969\" style=\"stroke: #33FF02; stroke-width: 1.0;\" width=\"145\" x=\"5\" y=\"272.9887\"/><text fill=\"#000000\" font-family=\"sans-serif\" font-size=\"14\" font-weight=\"bold\" lengthAdjust=\"spacingAndGlyphs\" textLength=\"143\" x=\"6\" y=\"287.9887\">[From string (line 2) ]</text><text fill=\"#33FF02\" font-family=\"sans-serif\" font-size=\"14\" font-weight=\"bold\" lengthAdjust=\"spacingAndGlyphs\" textLength=\"0\" x=\"9\" y=\"308.2856\"/><text fill=\"#33FF02\" font-family=\"sans-serif\" font-size=\"14\" font-weight=\"bold\" lengthAdjust=\"spacingAndGlyphs\" textLength=\"70\" x=\"5\" y=\"324.5824\">@startuml</text><text fill=\"#33FF02\" font-family=\"sans-serif\" font-size=\"14\" font-weight=\"bold\" lengthAdjust=\"spacingAndGlyphs\" textLength=\"0\" x=\"9\" y=\"340.8793\"/><text fill=\"#FF0000\" font-family=\"sans-serif\" font-size=\"14\" font-weight=\"bold\" lengthAdjust=\"spacingAndGlyphs\" textLength=\"124\" x=\"9\" y=\"357.1762\">Empty description</text><!--MD5=[f59edd8218d337f74d0c332fc6737304]\n",
       "@startuml\r\n",
       " \r\n",
       "@enduml\r\n",
       "\n",
       "PlantUML version 1.2020.13(Sat Jun 13 12:26:38 UTC 2020)\n",
       "(EPL source distribution)\n",
       "Java Runtime: OpenJDK Runtime Environment\n",
       "JVM: OpenJDK 64-Bit Server VM\n",
       "Default Encoding: UTF-8\n",
       "Language: en\n",
       "Country: null\n",
       "--></g></svg>"
      ]
     },
     "execution_count": 32,
     "metadata": {},
     "output_type": "execute_result"
    }
   ],
   "source": [
    "%viz --style=\"PLANTUML\" --view=\"State\" \"AliasTest\""
   ]
  },
  {
   "cell_type": "code",
   "execution_count": 33,
   "id": "3ae52ec3",
   "metadata": {
    "execution": {
     "iopub.execute_input": "2021-10-03T08:30:12.033598Z",
     "iopub.status.busy": "2021-10-03T08:30:12.033184Z",
     "iopub.status.idle": "2021-10-03T08:30:12.062549Z",
     "shell.execute_reply": "2021-10-03T08:30:12.062211Z"
    }
   },
   "outputs": [
    {
     "data": {
      "image/svg+xml": [
       "<?xml version=\"1.0\" encoding=\"UTF-8\" standalone=\"no\"?><svg xmlns=\"http://www.w3.org/2000/svg\" xmlns:xlink=\"http://www.w3.org/1999/xlink\" contentScriptType=\"application/ecmascript\" contentStyleType=\"text/css\" height=\"217px\" preserveAspectRatio=\"none\" style=\"width:453px;height:217px;\" version=\"1.1\" viewBox=\"0 0 453 217\" width=\"453px\" zoomAndPan=\"magnify\"><defs><filter height=\"300%\" id=\"f1o0kgij4b7ebh\" width=\"300%\" x=\"-1\" y=\"-1\"><feGaussianBlur result=\"blurOut\" stdDeviation=\"2.0\"/><feColorMatrix in=\"blurOut\" result=\"blurOut2\" type=\"matrix\" values=\"0 0 0 0 0 0 0 0 0 0 0 0 0 0 0 0 0 0 .4 0\"/><feOffset dx=\"4.0\" dy=\"4.0\" in=\"blurOut2\" result=\"blurOut3\"/><feBlend in=\"SourceGraphic\" in2=\"blurOut3\" mode=\"normal\"/></filter></defs><g><!--MD5=[fbc87193dbaf4d95561dea2c320d4a47]\n",
       "cluster E1--><a href=\"psysml:c9a65f38-ba0f-435c-ac18-78f76b0c8149\" target=\"_top\" title=\"psysml:c9a65f38-ba0f-435c-ac18-78f76b0c8149\" xlink:actuate=\"onRequest\" xlink:href=\"psysml:c9a65f38-ba0f-435c-ac18-78f76b0c8149\" xlink:show=\"new\" xlink:title=\"psysml:c9a65f38-ba0f-435c-ac18-78f76b0c8149\" xlink:type=\"simple\"><polygon fill=\"#FFFFFF\" filter=\"url(#f1o0kgij4b7ebh)\" points=\"16,6,84,6,91,28.2969,431,28.2969,431,205,16,205,16,6\" style=\"stroke: #000000; stroke-width: 1.5;\"/><line style=\"stroke: #000000; stroke-width: 1.5;\" x1=\"16\" x2=\"91\" y1=\"28.2969\" y2=\"28.2969\"/><text fill=\"#000000\" font-family=\"sans-serif\" font-size=\"14\" font-weight=\"bold\" lengthAdjust=\"spacingAndGlyphs\" textLength=\"62\" x=\"20\" y=\"20.9951\">AliasTest</text></a><!--MD5=[d5e69f78d87373223dbae638b30a9c99]\n",
       "cluster E3--><a href=\"psysml:6d109465-d99f-46f9-9a55-615eadc52ec3\" target=\"_top\" title=\"psysml:6d109465-d99f-46f9-9a55-615eadc52ec3\" xlink:actuate=\"onRequest\" xlink:href=\"psysml:6d109465-d99f-46f9-9a55-615eadc52ec3\" xlink:show=\"new\" xlink:title=\"psysml:6d109465-d99f-46f9-9a55-615eadc52ec3\" xlink:type=\"simple\"><rect fill=\"#FFFFFF\" filter=\"url(#f1o0kgij4b7ebh)\" height=\"74\" id=\"E3\" style=\"stroke: #A80036; stroke-width: 1.5;\" width=\"83\" x=\"336\" y=\"64\"/><rect fill=\"#FEFECE\" height=\"23.9688\" style=\"stroke: #A80036; stroke-width: 1.5;\" width=\"83\" x=\"336\" y=\"64\"/><text fill=\"#000000\" font-family=\"sans-serif\" font-size=\"12\" lengthAdjust=\"spacingAndGlyphs\" textLength=\"16\" x=\"369.5\" y=\"80.1387\">P1</text></a><!--MD5=[14e3b0961a2654348d326746436168a1]\n",
       "cluster E6--><a href=\"psysml:4b72c15b-2565-4f84-9632-f618b5b9807b\" target=\"_top\" title=\"psysml:4b72c15b-2565-4f84-9632-f618b5b9807b\" xlink:actuate=\"onRequest\" xlink:href=\"psysml:4b72c15b-2565-4f84-9632-f618b5b9807b\" xlink:show=\"new\" xlink:title=\"psysml:4b72c15b-2565-4f84-9632-f618b5b9807b\" xlink:type=\"simple\"><rect fill=\"#FFFFFF\" filter=\"url(#f1o0kgij4b7ebh)\" height=\"74\" id=\"E6\" rx=\"10\" ry=\"10\" style=\"stroke: #A80036; stroke-width: 1.5;\" width=\"98\" x=\"136\" y=\"64\"/><rect fill=\"#FEFECE\" height=\"23.9688\" rx=\"10\" ry=\"10\" style=\"stroke: #FEFECE; stroke-width: 1.5;\" width=\"98\" x=\"136\" y=\"64\"/><rect fill=\"#FEFECE\" height=\"10\" style=\"stroke: #FEFECE; stroke-width: 1.5;\" width=\"98\" x=\"136\" y=\"77.9688\"/><rect fill=\"none\" height=\"74\" id=\"E6\" rx=\"10\" ry=\"10\" style=\"stroke: #A80036; stroke-width: 1.5;\" width=\"98\" x=\"136\" y=\"64\"/><text fill=\"#000000\" font-family=\"sans-serif\" font-size=\"12\" lengthAdjust=\"spacingAndGlyphs\" textLength=\"40\" x=\"165\" y=\"80.1387\">p1: P1</text><line style=\"stroke: #A80036; stroke-width: 1.0;\" x1=\"136\" x2=\"234\" y1=\"87.9688\" y2=\"87.9688\"/></a><!--MD5=[55dfccfc6c49c2d10cd1bd2211a6c90c]\n",
       "cluster E8--><a href=\"psysml:a2155965-1e3e-41f3-b3b0-5a1ed18f6b31\" target=\"_top\" title=\"psysml:a2155965-1e3e-41f3-b3b0-5a1ed18f6b31\" xlink:actuate=\"onRequest\" xlink:href=\"psysml:a2155965-1e3e-41f3-b3b0-5a1ed18f6b31\" xlink:show=\"new\" xlink:title=\"psysml:a2155965-1e3e-41f3-b3b0-5a1ed18f6b31\" xlink:type=\"simple\"><rect fill=\"#FFFFFF\" filter=\"url(#f1o0kgij4b7ebh)\" height=\"76.5\" id=\"E8\" rx=\"10\" ry=\"10\" style=\"stroke: #A80036; stroke-width: 1.5;\" width=\"83\" x=\"237\" y=\"112.5\"/><rect fill=\"#FEFECE\" height=\"23.9688\" rx=\"10\" ry=\"10\" style=\"stroke: #FEFECE; stroke-width: 1.5;\" width=\"83\" x=\"237\" y=\"112.5\"/><rect fill=\"#FEFECE\" height=\"10\" style=\"stroke: #FEFECE; stroke-width: 1.5;\" width=\"83\" x=\"237\" y=\"126.4688\"/><rect fill=\"none\" height=\"76.5\" id=\"E8\" rx=\"10\" ry=\"10\" style=\"stroke: #A80036; stroke-width: 1.5;\" width=\"83\" x=\"237\" y=\"112.5\"/><text fill=\"#000000\" font-family=\"sans-serif\" font-size=\"12\" lengthAdjust=\"spacingAndGlyphs\" textLength=\"40\" x=\"258.5\" y=\"128.6387\">p2: P1</text><line style=\"stroke: #A80036; stroke-width: 1.0;\" x1=\"237\" x2=\"320\" y1=\"136.4688\" y2=\"136.4688\"/></a><!--MD5=[b4997ac47864f28c2f74865a473b2911]\n",
       "class E2--><a href=\"psysml:252bcdae-bf35-4751-96e5-d2689f20556e\" target=\"_top\" title=\"psysml:252bcdae-bf35-4751-96e5-d2689f20556e\" xlink:actuate=\"onRequest\" xlink:href=\"psysml:252bcdae-bf35-4751-96e5-d2689f20556e\" xlink:show=\"new\" xlink:title=\"psysml:252bcdae-bf35-4751-96e5-d2689f20556e\" xlink:type=\"simple\"><rect fill=\"#FEFECE\" filter=\"url(#f1o0kgij4b7ebh)\" height=\"45.9375\" id=\"E2\" rx=\"10\" ry=\"10\" style=\"stroke: #A80036; stroke-width: 1.5;\" width=\"97\" x=\"31.5\" y=\"41\"/><ellipse cx=\"46.5\" cy=\"59.9688\" fill=\"#FFA500\" rx=\"11\" ry=\"11\" style=\"stroke: #A80036; stroke-width: 1.0;\"/><path d=\"M46.25,65.4375 Q44.5,65.4375 43.5469,64.4063 Q42.6094,63.3594 42.6094,61.5156 L42.6094,54.625 L44.6719,54.625 L44.6719,54.7813 Q44.5781,54.875 44.5469,55.0156 Q44.5313,55.1406 44.5313,55.4063 L44.5313,61.5313 Q44.5313,62.625 44.9063,63.25 Q45.2813,63.875 46.2656,63.875 Q47.25,63.875 47.6406,63.25 Q48.0313,62.625 48.0313,61.4844 L48.0313,54.625 L49.9063,54.625 L49.9063,61.4688 Q49.9063,63.5 48.875,64.4688 Q47.8594,65.4375 46.25,65.4375 Z \"/><text fill=\"#000000\" font-family=\"sans-serif\" font-size=\"12\" font-style=\"italic\" lengthAdjust=\"spacingAndGlyphs\" textLength=\"69\" x=\"58.5\" y=\"57.1387\">«attribute»</text><text fill=\"#000000\" font-family=\"sans-serif\" font-size=\"12\" lengthAdjust=\"spacingAndGlyphs\" textLength=\"8\" x=\"89\" y=\"71.1074\">q</text><line style=\"stroke: #A80036; stroke-width: 1.5;\" x1=\"32.5\" x2=\"127.5\" y1=\"78.9375\" y2=\"78.9375\"/></a><text fill=\"#000000\" font-family=\"sans-serif\" font-size=\"14\" lengthAdjust=\"spacingAndGlyphs\" textLength=\"44\" x=\"332\" y=\"42.6982\">porig1</text><rect fill=\"#A80036\" height=\"12\" style=\"stroke: #FEFECE; stroke-width: 1.5;\" width=\"12\" x=\"348\" y=\"58\"/><text fill=\"#000000\" font-family=\"sans-serif\" font-size=\"14\" lengthAdjust=\"spacingAndGlyphs\" textLength=\"44\" x=\"379\" y=\"42.6982\">porig1</text><rect fill=\"#A80036\" height=\"12\" style=\"stroke: #FEFECE; stroke-width: 1.5;\" width=\"12\" x=\"395\" y=\"58\"/><text fill=\"#000000\" font-family=\"sans-serif\" font-size=\"14\" lengthAdjust=\"spacingAndGlyphs\" textLength=\"27\" x=\"202.5\" y=\"42.6982\">po1</text><rect fill=\"#A80036\" height=\"12\" style=\"stroke: #FEFECE; stroke-width: 1.5;\" width=\"12\" x=\"210\" y=\"58\"/><text fill=\"#000000\" font-family=\"sans-serif\" font-size=\"14\" lengthAdjust=\"spacingAndGlyphs\" textLength=\"40\" x=\"235\" y=\"91.1982\">pdest</text><rect fill=\"#A80036\" height=\"12\" style=\"stroke: #FEFECE; stroke-width: 1.5;\" width=\"12\" x=\"249\" y=\"106.5\"/><text fill=\"#000000\" font-family=\"sans-serif\" font-size=\"14\" lengthAdjust=\"spacingAndGlyphs\" textLength=\"40\" x=\"282\" y=\"91.1982\">pdest</text><rect fill=\"#A80036\" height=\"12\" style=\"stroke: #FEFECE; stroke-width: 1.5;\" width=\"12\" x=\"296\" y=\"106.5\"/><!--MD5=[1c0b9414cc86e0744215edee6abd8926]\n",
       "link E7 to E9--><a href=\"psysml:1ea7862a-7bab-4478-95a9-37aa2484c274\" target=\"_top\" title=\"psysml:1ea7862a-7bab-4478-95a9-37aa2484c274\" xlink:actuate=\"onRequest\" xlink:href=\"psysml:1ea7862a-7bab-4478-95a9-37aa2484c274\" xlink:show=\"new\" xlink:title=\"psysml:1ea7862a-7bab-4478-95a9-37aa2484c274\" xlink:type=\"simple\"><path d=\"M211.99,70.33 C214.12,80.83 234.45,103.69 248.63,109.91 \" fill=\"none\" id=\"E7-E9\" style=\"stroke: #A80036; stroke-width: 3.0;\"/><text fill=\"#000000\" font-family=\"sans-serif\" font-size=\"13\" lengthAdjust=\"spacingAndGlyphs\" textLength=\"7\" x=\"234.1041\" y=\"99.3339\">*</text></a><!--MD5=[1c0b9414cc86e0744215edee6abd8926]\n",
       "link E7 to E9--><a href=\"psysml:1e1521f0-84d2-4d6c-a787-5301105b41c5\" target=\"_top\" title=\"psysml:1e1521f0-84d2-4d6c-a787-5301105b41c5\" xlink:actuate=\"onRequest\" xlink:href=\"psysml:1e1521f0-84d2-4d6c-a787-5301105b41c5\" xlink:show=\"new\" xlink:title=\"psysml:1e1521f0-84d2-4d6c-a787-5301105b41c5\" xlink:type=\"simple\"><path d=\"M222.05,66.34 C236.81,72.18 257.77,95.55 259.52,106.18 \" fill=\"none\" id=\"E7-E9-1\" style=\"stroke: #A80036; stroke-width: 3.0;\"/><text fill=\"#000000\" font-family=\"sans-serif\" font-size=\"13\" lengthAdjust=\"spacingAndGlyphs\" textLength=\"7\" x=\"253.0938\" y=\"95.5105\">*</text></a><!--MD5=[50142397294bd473b96f0d01a67f001f]\n",
       "@startuml\r\n",
       "skinparam ranksep 10\r\n",
       "skinparam rectangle {\r\n",
       " backgroundColor<<block>> LightGreen\r\n",
       "}\r\n",
       " \r\n",
       "package \"AliasTest\" as E1  [[psysml:c9a65f38-ba0f-435c-ac18-78f76b0c8149 ]]  {\r\n",
       "comp usage \"q\" as E2 << <<(U,orange) attribute>> [[psysml:252bcdae-bf35-4751-96e5-d2689f20556e ]] {\r\n",
       "}\r\n",
       "rec def \"P1\" as E3 << << (B,green) >> [[psysml:6d109465-d99f-46f9-9a55-615eadc52ec3 ]] {\r\n",
       "portin \"porig1\" as E4 << << (P,blue) port>> [[psysml:07c215ea-3a50-4500-a498-5909961b01ab ]] \r\n",
       "portin \"porig1\" as E5 << << (P,blue) port>> [[psysml:07c215ea-3a50-4500-a498-5909961b01ab ]] \r\n",
       "}\r\n",
       "rec usage \"p1: P1\" as E6  [[psysml:4b72c15b-2565-4f84-9632-f618b5b9807b ]] {\r\n",
       "portin \"po1\" as E7 << << (P,blue) port>> [[psysml:653cf2de-fd63-4b48-a4f2-812bd043bef4 ]] \r\n",
       "}\r\n",
       "rec usage \"p2: P1\" as E8  [[psysml:a2155965-1e3e-41f3-b3b0-5a1ed18f6b31 ]] {\r\n",
       "portin \"pdest\" as E9 << << (P,blue) port>> [[psysml:44ed1293-6fc3-4c15-bfe8-a6e98039e875 ]] \r\n",
       "portin \"pdest\" as E10 << << (P,blue) port>> [[psysml:44ed1293-6fc3-4c15-bfe8-a6e98039e875 ]] \r\n",
       "}\r\n",
       "}\r\n",
       "E7 -[thickness=3]- \"*\"E9 [[psysml:1ea7862a-7bab-4478-95a9-37aa2484c274 ]] \r\n",
       "E7 -[thickness=3]- \"*\"E9 [[psysml:1e1521f0-84d2-4d6c-a787-5301105b41c5 ]] \r\n",
       "@enduml\r\n",
       "\n",
       "PlantUML version 1.2020.13(Sat Jun 13 12:26:38 UTC 2020)\n",
       "(EPL source distribution)\n",
       "Java Runtime: OpenJDK Runtime Environment\n",
       "JVM: OpenJDK 64-Bit Server VM\n",
       "Default Encoding: UTF-8\n",
       "Language: en\n",
       "Country: null\n",
       "--></g></svg>"
      ]
     },
     "execution_count": 33,
     "metadata": {},
     "output_type": "execute_result"
    }
   ],
   "source": [
    "%viz --style=\"PLANTUML\" --view=\"Interconnection\" \"AliasTest\""
   ]
  },
  {
   "cell_type": "code",
   "execution_count": 34,
   "id": "2ac02e95",
   "metadata": {
    "execution": {
     "iopub.execute_input": "2021-10-03T08:30:12.111991Z",
     "iopub.status.busy": "2021-10-03T08:30:12.111572Z",
     "iopub.status.idle": "2021-10-03T08:30:12.116193Z",
     "shell.execute_reply": "2021-10-03T08:30:12.116512Z"
    }
   },
   "outputs": [
    {
     "data": {
      "image/svg+xml": [
       "<?xml version=\"1.0\" encoding=\"UTF-8\" standalone=\"no\"?><svg xmlns=\"http://www.w3.org/2000/svg\" xmlns:xlink=\"http://www.w3.org/1999/xlink\" contentScriptType=\"application/ecmascript\" contentStyleType=\"text/css\" height=\"12px\" preserveAspectRatio=\"none\" style=\"width:12px;height:12px;\" version=\"1.1\" viewBox=\"0 0 12 12\" width=\"12px\" zoomAndPan=\"magnify\"><defs/><g><!--MD5=[6a4cb978cab31700e1ce5529f947a75d]\n",
       "@startuml\r\n",
       "skinparam ranksep 8\r\n",
       " \r\n",
       "@enduml\r\n",
       "\n",
       "PlantUML version 1.2020.13(Sat Jun 13 12:26:38 UTC 2020)\n",
       "(EPL source distribution)\n",
       "Java Runtime: OpenJDK Runtime Environment\n",
       "JVM: OpenJDK 64-Bit Server VM\n",
       "Default Encoding: UTF-8\n",
       "Language: en\n",
       "Country: null\n",
       "--></g></svg>"
      ]
     },
     "execution_count": 34,
     "metadata": {},
     "output_type": "execute_result"
    }
   ],
   "source": [
    "%viz --style=\"PLANTUML\" --view=\"Action\" \"AliasTest\""
   ]
  },
  {
   "cell_type": "code",
   "execution_count": 35,
   "id": "4215cc96",
   "metadata": {
    "execution": {
     "iopub.execute_input": "2021-10-03T08:30:12.166034Z",
     "iopub.status.busy": "2021-10-03T08:30:12.165625Z",
     "iopub.status.idle": "2021-10-03T08:30:12.170761Z",
     "shell.execute_reply": "2021-10-03T08:30:12.171058Z"
    }
   },
   "outputs": [
    {
     "data": {
      "image/svg+xml": [
       "<?xml version=\"1.0\" encoding=\"UTF-8\" standalone=\"no\"?><svg xmlns=\"http://www.w3.org/2000/svg\" xmlns:xlink=\"http://www.w3.org/1999/xlink\" contentScriptType=\"application/ecmascript\" contentStyleType=\"text/css\" height=\"12px\" preserveAspectRatio=\"none\" style=\"width:12px;height:12px;\" version=\"1.1\" viewBox=\"0 0 12 12\" width=\"12px\" zoomAndPan=\"magnify\"><defs/><g><!--MD5=[ca4faa0b02def275ea33c14ea7a1a98d]\n",
       "@startuml\r\n",
       "skinparam roundcorner 20\r\n",
       "skinparam BoxPadding 20\r\n",
       "skinparam SequenceBoxBackgroundColor #white\r\n",
       "skinparam style strictuml\r\n",
       "skinparam maxMessageSize 100\r\n",
       " \r\n",
       "@enduml\r\n",
       "\n",
       "PlantUML version 1.2020.13(Sat Jun 13 12:26:38 UTC 2020)\n",
       "(EPL source distribution)\n",
       "Java Runtime: OpenJDK Runtime Environment\n",
       "JVM: OpenJDK 64-Bit Server VM\n",
       "Default Encoding: UTF-8\n",
       "Language: en\n",
       "Country: null\n",
       "--></g></svg>"
      ]
     },
     "execution_count": 35,
     "metadata": {},
     "output_type": "execute_result"
    }
   ],
   "source": [
    "%viz --style=\"PLANTUML\" --view=\"Sequence\" \"AliasTest\""
   ]
  },
  {
   "cell_type": "code",
   "execution_count": 36,
   "id": "15dfd528",
   "metadata": {
    "execution": {
     "iopub.execute_input": "2021-10-03T08:30:12.220233Z",
     "iopub.status.busy": "2021-10-03T08:30:12.219828Z",
     "iopub.status.idle": "2021-10-03T08:30:12.259881Z",
     "shell.execute_reply": "2021-10-03T08:30:12.259502Z"
    }
   },
   "outputs": [
    {
     "data": {
      "image/svg+xml": [
       "<?xml version=\"1.0\" encoding=\"UTF-8\" standalone=\"no\"?><svg xmlns=\"http://www.w3.org/2000/svg\" xmlns:xlink=\"http://www.w3.org/1999/xlink\" contentScriptType=\"application/ecmascript\" contentStyleType=\"text/css\" height=\"327px\" preserveAspectRatio=\"none\" style=\"width:381px;height:327px;\" version=\"1.1\" viewBox=\"0 0 381 327\" width=\"381px\" zoomAndPan=\"magnify\"><defs><filter height=\"300%\" id=\"f1ldbfflj2otij\" width=\"300%\" x=\"-1\" y=\"-1\"><feGaussianBlur result=\"blurOut\" stdDeviation=\"2.0\"/><feColorMatrix in=\"blurOut\" result=\"blurOut2\" type=\"matrix\" values=\"0 0 0 0 0 0 0 0 0 0 0 0 0 0 0 0 0 0 .4 0\"/><feOffset dx=\"4.0\" dy=\"4.0\" in=\"blurOut2\" result=\"blurOut3\"/><feBlend in=\"SourceGraphic\" in2=\"blurOut3\" mode=\"normal\"/></filter></defs><g><!--MD5=[fbc87193dbaf4d95561dea2c320d4a47]\n",
       "cluster E1--><a href=\"psysml:c9a65f38-ba0f-435c-ac18-78f76b0c8149\" target=\"_top\" title=\"psysml:c9a65f38-ba0f-435c-ac18-78f76b0c8149\" xlink:actuate=\"onRequest\" xlink:href=\"psysml:c9a65f38-ba0f-435c-ac18-78f76b0c8149\" xlink:show=\"new\" xlink:title=\"psysml:c9a65f38-ba0f-435c-ac18-78f76b0c8149\" xlink:type=\"simple\"><polygon fill=\"#FFFFFF\" filter=\"url(#f1ldbfflj2otij)\" points=\"16,6,84,6,91,28.2969,359,28.2969,359,315,16,315,16,6\" style=\"stroke: #000000; stroke-width: 1.5;\"/><line style=\"stroke: #000000; stroke-width: 1.5;\" x1=\"16\" x2=\"91\" y1=\"28.2969\" y2=\"28.2969\"/><text fill=\"#000000\" font-family=\"sans-serif\" font-size=\"14\" font-weight=\"bold\" lengthAdjust=\"spacingAndGlyphs\" textLength=\"62\" x=\"20\" y=\"20.9951\">AliasTest</text></a><!--MD5=[b4997ac47864f28c2f74865a473b2911]\n",
       "class E2--><a href=\"psysml:252bcdae-bf35-4751-96e5-d2689f20556e\" target=\"_top\" title=\"psysml:252bcdae-bf35-4751-96e5-d2689f20556e\" xlink:actuate=\"onRequest\" xlink:href=\"psysml:252bcdae-bf35-4751-96e5-d2689f20556e\" xlink:show=\"new\" xlink:title=\"psysml:252bcdae-bf35-4751-96e5-d2689f20556e\" xlink:type=\"simple\"><rect fill=\"#FEFECE\" filter=\"url(#f1ldbfflj2otij)\" height=\"45.9375\" id=\"E2\" rx=\"10\" ry=\"10\" style=\"stroke: #A80036; stroke-width: 1.5;\" width=\"97\" x=\"246.5\" y=\"41\"/><ellipse cx=\"261.5\" cy=\"59.9688\" fill=\"#FFA500\" rx=\"11\" ry=\"11\" style=\"stroke: #A80036; stroke-width: 1.0;\"/><path d=\"M261.25,65.4375 Q259.5,65.4375 258.5469,64.4063 Q257.6094,63.3594 257.6094,61.5156 L257.6094,54.625 L259.6719,54.625 L259.6719,54.7813 Q259.5781,54.875 259.5469,55.0156 Q259.5313,55.1406 259.5313,55.4063 L259.5313,61.5313 Q259.5313,62.625 259.9063,63.25 Q260.2813,63.875 261.2656,63.875 Q262.25,63.875 262.6406,63.25 Q263.0313,62.625 263.0313,61.4844 L263.0313,54.625 L264.9063,54.625 L264.9063,61.4688 Q264.9063,63.5 263.875,64.4688 Q262.8594,65.4375 261.25,65.4375 Z \"/><text fill=\"#000000\" font-family=\"sans-serif\" font-size=\"12\" font-style=\"italic\" lengthAdjust=\"spacingAndGlyphs\" textLength=\"69\" x=\"273.5\" y=\"57.1387\">«attribute»</text><text fill=\"#000000\" font-family=\"sans-serif\" font-size=\"12\" lengthAdjust=\"spacingAndGlyphs\" textLength=\"8\" x=\"304\" y=\"71.1074\">q</text><line style=\"stroke: #A80036; stroke-width: 1.5;\" x1=\"247.5\" x2=\"342.5\" y1=\"78.9375\" y2=\"78.9375\"/></a><!--MD5=[09b614a08d8cba4a07c9adeb5e0fee81]\n",
       "class E3--><a href=\"psysml:6d109465-d99f-46f9-9a55-615eadc52ec3\" target=\"_top\" title=\"psysml:6d109465-d99f-46f9-9a55-615eadc52ec3\" xlink:actuate=\"onRequest\" xlink:href=\"psysml:6d109465-d99f-46f9-9a55-615eadc52ec3\" xlink:show=\"new\" xlink:title=\"psysml:6d109465-d99f-46f9-9a55-615eadc52ec3\" xlink:type=\"simple\"><rect fill=\"#FEFECE\" filter=\"url(#f1ldbfflj2otij)\" height=\"40\" id=\"E3\" style=\"stroke: #A80036; stroke-width: 1.5;\" width=\"48\" x=\"207\" y=\"150\"/><ellipse cx=\"222\" cy=\"166\" fill=\"#008000\" rx=\"11\" ry=\"11\" style=\"stroke: #A80036; stroke-width: 1.0;\"/><path d=\"M218.875,171 L218.875,160.4063 L222.1094,160.4063 Q224.0156,160.4063 224.9219,161.1563 Q225.8438,161.9063 225.8438,163.0781 Q225.8438,163.7656 225.4531,164.4219 Q225.0781,165.0781 224.3594,165.375 Q225.2188,165.75 225.7344,166.4375 Q226.25,167.125 226.25,167.9375 Q226.25,169.3125 225.2188,170.1563 Q224.2031,171 222.0938,171 L218.875,171 Z M220.7969,164.6406 L221.9531,164.6406 Q223.0781,164.6406 223.4844,164.2656 Q223.9063,163.875 223.9063,163.25 Q223.9063,162.6719 223.4844,162.3125 Q223.0625,161.9531 222.125,161.9531 L220.7969,161.9531 L220.7969,164.6406 Z M220.7969,169.4219 L222.2969,169.4219 Q223.2031,169.4219 223.7344,169.0313 Q224.2656,168.6406 224.2656,167.8906 Q224.2656,167.125 223.7656,166.6563 Q223.2656,166.1719 222,166.1719 L220.7969,166.1719 L220.7969,169.4219 Z \"/><text fill=\"#000000\" font-family=\"sans-serif\" font-size=\"12\" lengthAdjust=\"spacingAndGlyphs\" textLength=\"16\" x=\"236\" y=\"170.1543\">P1</text><line style=\"stroke: #A80036; stroke-width: 1.5;\" x1=\"208\" x2=\"254\" y1=\"182\" y2=\"182\"/></a><!--MD5=[ebbe1d658d1005bcc118a6aa81145e00]\n",
       "class E4--><a href=\"psysml:07c215ea-3a50-4500-a498-5909961b01ab\" target=\"_top\" title=\"psysml:07c215ea-3a50-4500-a498-5909961b01ab\" xlink:actuate=\"onRequest\" xlink:href=\"psysml:07c215ea-3a50-4500-a498-5909961b01ab\" xlink:show=\"new\" xlink:title=\"psysml:07c215ea-3a50-4500-a498-5909961b01ab\" xlink:type=\"simple\"><rect fill=\"#FEFECE\" filter=\"url(#f1ldbfflj2otij)\" height=\"45.9375\" id=\"E4\" rx=\"10\" ry=\"10\" style=\"stroke: #A80036; stroke-width: 1.5;\" width=\"72\" x=\"195\" y=\"253\"/><ellipse cx=\"210\" cy=\"271.9688\" fill=\"#0000FF\" rx=\"11\" ry=\"11\" style=\"stroke: #A80036; stroke-width: 1.0;\"/><path d=\"M206.8125,276.9688 L206.8125,266.375 L210.4219,266.375 Q211.6406,266.375 212.4375,266.8125 Q213.2344,267.2344 213.6094,267.9375 Q214,268.6406 214,269.4844 Q214,270.3281 213.625,271.0156 Q213.2656,271.7031 212.4688,272.125 Q211.6875,272.5313 210.5,272.5313 L208.7656,272.5313 L208.7656,276.9688 L206.8125,276.9688 Z M208.7656,270.9375 L210.375,270.9375 Q211.1875,270.9375 211.6094,270.5313 Q212.0313,270.125 212.0313,269.4844 Q212.0313,268.8594 211.6094,268.4531 Q211.1875,268.0469 210.3906,268.0469 L208.7656,268.0469 L208.7656,270.9375 Z \"/><text fill=\"#000000\" font-family=\"sans-serif\" font-size=\"12\" font-style=\"italic\" lengthAdjust=\"spacingAndGlyphs\" textLength=\"40\" x=\"224\" y=\"269.1387\">«port»</text><text fill=\"#000000\" font-family=\"sans-serif\" font-size=\"12\" lengthAdjust=\"spacingAndGlyphs\" textLength=\"40\" x=\"224\" y=\"283.1074\">porig1</text><line style=\"stroke: #A80036; stroke-width: 1.5;\" x1=\"196\" x2=\"266\" y1=\"290.9375\" y2=\"290.9375\"/></a><!--MD5=[270fce915f116d4de14055a7c1d9a0f3]\n",
       "class E5--><a href=\"psysml:4b72c15b-2565-4f84-9632-f618b5b9807b\" target=\"_top\" title=\"psysml:4b72c15b-2565-4f84-9632-f618b5b9807b\" xlink:actuate=\"onRequest\" xlink:href=\"psysml:4b72c15b-2565-4f84-9632-f618b5b9807b\" xlink:show=\"new\" xlink:title=\"psysml:4b72c15b-2565-4f84-9632-f618b5b9807b\" xlink:type=\"simple\"><rect fill=\"#FEFECE\" filter=\"url(#f1ldbfflj2otij)\" height=\"45.9375\" id=\"E5\" rx=\"10\" ry=\"10\" style=\"stroke: #A80036; stroke-width: 1.5;\" width=\"72\" x=\"139\" y=\"41\"/><ellipse cx=\"154\" cy=\"59.9688\" fill=\"#32CD32\" rx=\"11\" ry=\"11\" style=\"stroke: #A80036; stroke-width: 1.0;\"/><path d=\"M150.8125,64.9688 L150.8125,54.375 L154.4219,54.375 Q155.6406,54.375 156.4375,54.8125 Q157.2344,55.2344 157.6094,55.9375 Q158,56.6406 158,57.4844 Q158,58.3281 157.625,59.0156 Q157.2656,59.7031 156.4688,60.125 Q155.6875,60.5313 154.5,60.5313 L152.7656,60.5313 L152.7656,64.9688 L150.8125,64.9688 Z M152.7656,58.9375 L154.375,58.9375 Q155.1875,58.9375 155.6094,58.5313 Q156.0313,58.125 156.0313,57.4844 Q156.0313,56.8594 155.6094,56.4531 Q155.1875,56.0469 154.3906,56.0469 L152.7656,56.0469 L152.7656,58.9375 Z \"/><text fill=\"#000000\" font-family=\"sans-serif\" font-size=\"12\" font-style=\"italic\" lengthAdjust=\"spacingAndGlyphs\" textLength=\"40\" x=\"168\" y=\"57.1387\">«part»</text><text fill=\"#000000\" font-family=\"sans-serif\" font-size=\"12\" lengthAdjust=\"spacingAndGlyphs\" textLength=\"40\" x=\"168\" y=\"71.1074\">p1: P1</text><line style=\"stroke: #A80036; stroke-width: 1.5;\" x1=\"140\" x2=\"210\" y1=\"78.9375\" y2=\"78.9375\"/></a><!--MD5=[60a26617385b1d2d0262a64233df1f8d]\n",
       "class E6--><a href=\"psysml:653cf2de-fd63-4b48-a4f2-812bd043bef4\" target=\"_top\" title=\"psysml:653cf2de-fd63-4b48-a4f2-812bd043bef4\" xlink:actuate=\"onRequest\" xlink:href=\"psysml:653cf2de-fd63-4b48-a4f2-812bd043bef4\" xlink:show=\"new\" xlink:title=\"psysml:653cf2de-fd63-4b48-a4f2-812bd043bef4\" xlink:type=\"simple\"><rect fill=\"#FEFECE\" filter=\"url(#f1ldbfflj2otij)\" height=\"45.9375\" id=\"E6\" rx=\"10\" ry=\"10\" style=\"stroke: #A80036; stroke-width: 1.5;\" width=\"68\" x=\"104\" y=\"147\"/><ellipse cx=\"119\" cy=\"165.9688\" fill=\"#0000FF\" rx=\"11\" ry=\"11\" style=\"stroke: #A80036; stroke-width: 1.0;\"/><path d=\"M115.8125,170.9688 L115.8125,160.375 L119.4219,160.375 Q120.6406,160.375 121.4375,160.8125 Q122.2344,161.2344 122.6094,161.9375 Q123,162.6406 123,163.4844 Q123,164.3281 122.625,165.0156 Q122.2656,165.7031 121.4688,166.125 Q120.6875,166.5313 119.5,166.5313 L117.7656,166.5313 L117.7656,170.9688 L115.8125,170.9688 Z M117.7656,164.9375 L119.375,164.9375 Q120.1875,164.9375 120.6094,164.5313 Q121.0313,164.125 121.0313,163.4844 Q121.0313,162.8594 120.6094,162.4531 Q120.1875,162.0469 119.3906,162.0469 L117.7656,162.0469 L117.7656,164.9375 Z \"/><text fill=\"#000000\" font-family=\"sans-serif\" font-size=\"12\" font-style=\"italic\" lengthAdjust=\"spacingAndGlyphs\" textLength=\"40\" x=\"131\" y=\"163.1387\">«port»</text><text fill=\"#000000\" font-family=\"sans-serif\" font-size=\"12\" lengthAdjust=\"spacingAndGlyphs\" textLength=\"24\" x=\"139\" y=\"177.1074\">po1</text><line style=\"stroke: #A80036; stroke-width: 1.5;\" x1=\"105\" x2=\"171\" y1=\"184.9375\" y2=\"184.9375\"/></a><!--MD5=[2156ba9850f5573cc1fc38a6a4b2f02b]\n",
       "class E7--><a href=\"psysml:a2155965-1e3e-41f3-b3b0-5a1ed18f6b31\" target=\"_top\" title=\"psysml:a2155965-1e3e-41f3-b3b0-5a1ed18f6b31\" xlink:actuate=\"onRequest\" xlink:href=\"psysml:a2155965-1e3e-41f3-b3b0-5a1ed18f6b31\" xlink:show=\"new\" xlink:title=\"psysml:a2155965-1e3e-41f3-b3b0-5a1ed18f6b31\" xlink:type=\"simple\"><rect fill=\"#FEFECE\" filter=\"url(#f1ldbfflj2otij)\" height=\"45.9375\" id=\"E7\" rx=\"10\" ry=\"10\" style=\"stroke: #A80036; stroke-width: 1.5;\" width=\"72\" x=\"32\" y=\"41\"/><ellipse cx=\"47\" cy=\"59.9688\" fill=\"#32CD32\" rx=\"11\" ry=\"11\" style=\"stroke: #A80036; stroke-width: 1.0;\"/><path d=\"M43.8125,64.9688 L43.8125,54.375 L47.4219,54.375 Q48.6406,54.375 49.4375,54.8125 Q50.2344,55.2344 50.6094,55.9375 Q51,56.6406 51,57.4844 Q51,58.3281 50.625,59.0156 Q50.2656,59.7031 49.4688,60.125 Q48.6875,60.5313 47.5,60.5313 L45.7656,60.5313 L45.7656,64.9688 L43.8125,64.9688 Z M45.7656,58.9375 L47.375,58.9375 Q48.1875,58.9375 48.6094,58.5313 Q49.0313,58.125 49.0313,57.4844 Q49.0313,56.8594 48.6094,56.4531 Q48.1875,56.0469 47.3906,56.0469 L45.7656,56.0469 L45.7656,58.9375 Z \"/><text fill=\"#000000\" font-family=\"sans-serif\" font-size=\"12\" font-style=\"italic\" lengthAdjust=\"spacingAndGlyphs\" textLength=\"40\" x=\"61\" y=\"57.1387\">«part»</text><text fill=\"#000000\" font-family=\"sans-serif\" font-size=\"12\" lengthAdjust=\"spacingAndGlyphs\" textLength=\"40\" x=\"61\" y=\"71.1074\">p2: P1</text><line style=\"stroke: #A80036; stroke-width: 1.5;\" x1=\"33\" x2=\"103\" y1=\"78.9375\" y2=\"78.9375\"/></a><!--MD5=[b9389687b975829384b498ac4b7476b2]\n",
       "class E8--><a href=\"psysml:44ed1293-6fc3-4c15-bfe8-a6e98039e875\" target=\"_top\" title=\"psysml:44ed1293-6fc3-4c15-bfe8-a6e98039e875\" xlink:actuate=\"onRequest\" xlink:href=\"psysml:44ed1293-6fc3-4c15-bfe8-a6e98039e875\" xlink:show=\"new\" xlink:title=\"psysml:44ed1293-6fc3-4c15-bfe8-a6e98039e875\" xlink:type=\"simple\"><rect fill=\"#FEFECE\" filter=\"url(#f1ldbfflj2otij)\" height=\"45.9375\" id=\"E8\" rx=\"10\" ry=\"10\" style=\"stroke: #A80036; stroke-width: 1.5;\" width=\"68\" x=\"63\" y=\"253\"/><ellipse cx=\"78\" cy=\"271.9688\" fill=\"#0000FF\" rx=\"11\" ry=\"11\" style=\"stroke: #A80036; stroke-width: 1.0;\"/><path d=\"M74.8125,276.9688 L74.8125,266.375 L78.4219,266.375 Q79.6406,266.375 80.4375,266.8125 Q81.2344,267.2344 81.6094,267.9375 Q82,268.6406 82,269.4844 Q82,270.3281 81.625,271.0156 Q81.2656,271.7031 80.4688,272.125 Q79.6875,272.5313 78.5,272.5313 L76.7656,272.5313 L76.7656,276.9688 L74.8125,276.9688 Z M76.7656,270.9375 L78.375,270.9375 Q79.1875,270.9375 79.6094,270.5313 Q80.0313,270.125 80.0313,269.4844 Q80.0313,268.8594 79.6094,268.4531 Q79.1875,268.0469 78.3906,268.0469 L76.7656,268.0469 L76.7656,270.9375 Z \"/><text fill=\"#000000\" font-family=\"sans-serif\" font-size=\"12\" font-style=\"italic\" lengthAdjust=\"spacingAndGlyphs\" textLength=\"40\" x=\"90\" y=\"269.1387\">«port»</text><text fill=\"#000000\" font-family=\"sans-serif\" font-size=\"12\" lengthAdjust=\"spacingAndGlyphs\" textLength=\"36\" x=\"92\" y=\"283.1074\">pdest</text><line style=\"stroke: #A80036; stroke-width: 1.5;\" x1=\"64\" x2=\"130\" y1=\"290.9375\" y2=\"290.9375\"/></a><!--MD5=[4672eba38e49728da53d11aeb285b987]\n",
       "reverse link E3 to E4--><a href=\"psysml:c0c56757-3d44-421f-b231-ed3c3f6cca2a\" target=\"_top\" title=\"psysml:c0c56757-3d44-421f-b231-ed3c3f6cca2a\" xlink:actuate=\"onRequest\" xlink:href=\"psysml:c0c56757-3d44-421f-b231-ed3c3f6cca2a\" xlink:show=\"new\" xlink:title=\"psysml:c0c56757-3d44-421f-b231-ed3c3f6cca2a\" xlink:type=\"simple\"><path d=\"M219.1,203.25 C217.65,219.33 218.05,238.37 220.33,252.8 \" fill=\"none\" id=\"E3&lt;-E4\" style=\"stroke: #A80036; stroke-width: 1.0;\"/><polygon fill=\"#FFFFFF\" points=\"220.87,190.08,216.1137,195.5001,219.2875,201.9752,224.0438,196.5551,220.87,190.08\" style=\"stroke: #A80036; stroke-width: 1.0;\"/><text fill=\"#000000\" font-family=\"sans-serif\" font-size=\"13\" lengthAdjust=\"spacingAndGlyphs\" textLength=\"8\" x=\"208.5708\" y=\"242.025\">1</text></a><!--MD5=[4672eba38e49728da53d11aeb285b987]\n",
       "reverse link E3 to E4--><a href=\"psysml:baeef3bb-efbd-4f79-8bec-1b43bb5efd8f\" target=\"_top\" title=\"psysml:baeef3bb-efbd-4f79-8bec-1b43bb5efd8f\" xlink:actuate=\"onRequest\" xlink:href=\"psysml:baeef3bb-efbd-4f79-8bec-1b43bb5efd8f\" xlink:show=\"new\" xlink:title=\"psysml:baeef3bb-efbd-4f79-8bec-1b43bb5efd8f\" xlink:type=\"simple\"><path d=\"M243.77,205.22 C245.1,220.87 244.61,238.96 242.3,252.8 \" fill=\"none\" id=\"E3&lt;-E4-1\" style=\"stroke: #A80036; stroke-width: 1.0; stroke-dasharray: 7.0,7.0;\"/><ellipse cx=\"242.7963\" cy=\"198.0086\" fill=\"#FFFFFF\" rx=\"8\" ry=\"8\" style=\"stroke: #A80036; stroke-width: 1.0;\"/><line style=\"stroke: #A80036; stroke-width: 1.0;\" x1=\"243.8626\" x2=\"241.73\" y1=\"205.9372\" y2=\"190.08\"/><line style=\"stroke: #A80036; stroke-width: 1.0;\" x1=\"234.8677\" x2=\"250.7249\" y1=\"199.0749\" y2=\"196.9423\"/><text fill=\"#000000\" font-family=\"sans-serif\" font-size=\"13\" lengthAdjust=\"spacingAndGlyphs\" textLength=\"8\" x=\"236.1706\" y=\"242.025\">1</text></a><!--MD5=[e9be52314489bd878ff4c7144b63c9e1]\n",
       "link E5 to E3--><a href=\"psysml:3c7344fe-e5a7-4cb3-b89e-76f05a842583\" target=\"_top\" title=\"psysml:3c7344fe-e5a7-4cb3-b89e-76f05a842583\" xlink:actuate=\"onRequest\" xlink:href=\"psysml:3c7344fe-e5a7-4cb3-b89e-76f05a842583\" xlink:show=\"new\" xlink:title=\"psysml:3c7344fe-e5a7-4cb3-b89e-76f05a842583\" xlink:type=\"simple\"><path d=\"M186.88,87.06 C193.92,100.14 203.03,117.05 211.14,132.11 \" fill=\"none\" id=\"E5-&gt;E3\" style=\"stroke: #A80036; stroke-width: 1.0;\"/><polygon fill=\"#FFFFFF\" points=\"220.65,149.77,205.4866,136.3509,217.817,129.7207,220.65,149.77\" style=\"stroke: #A80036; stroke-width: 1.0;\"/><ellipse cx=\"204.5486\" cy=\"130.3835\" fill=\"#A80036\" rx=\"2\" ry=\"2\" style=\"stroke: #A80036; stroke-width: 1.0;\"/><ellipse cx=\"213.3561\" cy=\"125.6476\" fill=\"#A80036\" rx=\"2\" ry=\"2\" style=\"stroke: #A80036; stroke-width: 1.0;\"/></a><!--MD5=[85d356282659285ab4b2cfe2f634dd2b]\n",
       "reverse link E5 to E6--><a href=\"psysml:5ab2eb8f-0a8a-4f0f-b519-13b72bd8ef83\" target=\"_top\" title=\"psysml:5ab2eb8f-0a8a-4f0f-b519-13b72bd8ef83\" xlink:actuate=\"onRequest\" xlink:href=\"psysml:5ab2eb8f-0a8a-4f0f-b519-13b72bd8ef83\" xlink:show=\"new\" xlink:title=\"psysml:5ab2eb8f-0a8a-4f0f-b519-13b72bd8ef83\" xlink:type=\"simple\"><path d=\"M162.73,99.49 C157.16,115.15 150.74,133.19 145.84,146.98 \" fill=\"none\" id=\"E5&lt;-E6\" style=\"stroke: #A80036; stroke-width: 1.0;\"/><polygon fill=\"#FFFFFF\" points=\"167.15,87.06,161.3698,91.3715,163.1265,98.3654,168.9067,94.0539,167.15,87.06\" style=\"stroke: #A80036; stroke-width: 1.0;\"/><text fill=\"#000000\" font-family=\"sans-serif\" font-size=\"13\" lengthAdjust=\"spacingAndGlyphs\" textLength=\"8\" x=\"138.872\" y=\"135.8709\">1</text></a><!--MD5=[f667431f98296947986a1a7595a31603]\n",
       "link E6 to E4--><a href=\"psysml:36152a88-3fda-40f3-9b03-bfa5e7f7b410\" target=\"_top\" title=\"psysml:36152a88-3fda-40f3-9b03-bfa5e7f7b410\" xlink:actuate=\"onRequest\" xlink:href=\"psysml:36152a88-3fda-40f3-9b03-bfa5e7f7b410\" xlink:show=\"new\" xlink:title=\"psysml:36152a88-3fda-40f3-9b03-bfa5e7f7b410\" xlink:type=\"simple\"><path d=\"M157.72,193.06 C169.31,206.02 184.27,222.74 197.65,237.7 \" fill=\"none\" id=\"E6-&gt;E4\" style=\"stroke: #A80036; stroke-width: 1.0;\"/><polygon fill=\"#FFFFFF\" points=\"211.31,252.98,193.4253,243.486,203.8597,234.152,211.31,252.98\" style=\"stroke: #A80036; stroke-width: 1.0;\"/><line style=\"stroke: #A80036; stroke-width: 2.0;\" x1=\"190.8918\" x2=\"201.3262\" y1=\"240.6538\" y2=\"231.3198\"/></a><!--MD5=[14ccda38c055a5c0da953d572bc50960]\n",
       "link E7 to E3--><a href=\"psysml:e547b523-e8e9-4ecd-8c51-8b63037972c5\" target=\"_top\" title=\"psysml:e547b523-e8e9-4ecd-8c51-8b63037972c5\" xlink:actuate=\"onRequest\" xlink:href=\"psysml:e547b523-e8e9-4ecd-8c51-8b63037972c5\" xlink:show=\"new\" xlink:title=\"psysml:e547b523-e8e9-4ecd-8c51-8b63037972c5\" xlink:type=\"simple\"><path d=\"M102.57,87.06 C127.93,103.24 162.49,125.29 189.37,142.44 \" fill=\"none\" id=\"E7-&gt;E3\" style=\"stroke: #A80036; stroke-width: 1.0;\"/><polygon fill=\"#FFFFFF\" points=\"206.54,153.39,186.7577,149.0701,194.2889,137.2683,206.54,153.39\" style=\"stroke: #A80036; stroke-width: 1.0;\"/><ellipse cx=\"183.0286\" cy=\"144.3178\" fill=\"#A80036\" rx=\"2\" ry=\"2\" style=\"stroke: #A80036; stroke-width: 1.0;\"/><ellipse cx=\"188.408\" cy=\"135.888\" fill=\"#A80036\" rx=\"2\" ry=\"2\" style=\"stroke: #A80036; stroke-width: 1.0;\"/></a><!--MD5=[dc164f5e8a733ab456ef1add180e9e34]\n",
       "reverse link E7 to E8--><a href=\"psysml:b237ade3-489d-4fd0-9379-0b86f0889901\" target=\"_top\" title=\"psysml:b237ade3-489d-4fd0-9379-0b86f0889901\" xlink:actuate=\"onRequest\" xlink:href=\"psysml:b237ade3-489d-4fd0-9379-0b86f0889901\" xlink:show=\"new\" xlink:title=\"psysml:b237ade3-489d-4fd0-9379-0b86f0889901\" xlink:type=\"simple\"><path d=\"M63.05,100.09 C64.65,143.61 75.25,216.5 85.75,252.9 \" fill=\"none\" id=\"E7&lt;-E8\" style=\"stroke: #A80036; stroke-width: 1.0;\"/><polygon fill=\"#FFFFFF\" points=\"62.85,87.08,58.9362,93.1366,63.0216,99.0788,66.9354,93.0222,62.85,87.08\" style=\"stroke: #A80036; stroke-width: 1.0;\"/><text fill=\"#000000\" font-family=\"sans-serif\" font-size=\"13\" lengthAdjust=\"spacingAndGlyphs\" textLength=\"8\" x=\"73.6516\" y=\"241.7694\">1</text></a><!--MD5=[dc164f5e8a733ab456ef1add180e9e34]\n",
       "reverse link E7 to E8--><a href=\"psysml:7018d996-601d-4a38-842d-acb296e8ea77\" target=\"_top\" title=\"psysml:7018d996-601d-4a38-842d-acb296e8ea77\" xlink:actuate=\"onRequest\" xlink:href=\"psysml:7018d996-601d-4a38-842d-acb296e8ea77\" xlink:show=\"new\" xlink:title=\"psysml:7018d996-601d-4a38-842d-acb296e8ea77\" xlink:type=\"simple\"><path d=\"M83.64,101.8 C94.15,145.5 103.39,216.97 102.63,252.9 \" fill=\"none\" id=\"E7&lt;-E8-1\" style=\"stroke: #A80036; stroke-width: 1.0; stroke-dasharray: 7.0,7.0;\"/><ellipse cx=\"81.7794\" cy=\"94.813\" fill=\"#FFFFFF\" rx=\"8\" ry=\"8\" style=\"stroke: #A80036; stroke-width: 1.0;\"/><line style=\"stroke: #A80036; stroke-width: 1.0;\" x1=\"83.8289\" x2=\"79.73\" y1=\"102.5461\" y2=\"87.08\"/><line style=\"stroke: #A80036; stroke-width: 1.0;\" x1=\"74.0464\" x2=\"89.5125\" y1=\"96.8625\" y2=\"92.7636\"/><text fill=\"#000000\" font-family=\"sans-serif\" font-size=\"13\" lengthAdjust=\"spacingAndGlyphs\" textLength=\"8\" x=\"95.0681\" y=\"241.7694\">1</text></a><!--MD5=[0a839d0f80c2d72d4b9b307f046d0de8]\n",
       "link E6 to E8--><a href=\"psysml:1ea7862a-7bab-4478-95a9-37aa2484c274\" target=\"_top\" title=\"psysml:1ea7862a-7bab-4478-95a9-37aa2484c274\" xlink:actuate=\"onRequest\" xlink:href=\"psysml:1ea7862a-7bab-4478-95a9-37aa2484c274\" xlink:show=\"new\" xlink:title=\"psysml:1ea7862a-7bab-4478-95a9-37aa2484c274\" xlink:type=\"simple\"><path d=\"M118.66,193.06 C108.89,210.7 99.19,235.34 95.04,252.98 \" fill=\"none\" id=\"E6-E8\" style=\"stroke: #A80036; stroke-width: 3.0;\"/><text fill=\"#000000\" font-family=\"sans-serif\" font-size=\"13\" lengthAdjust=\"spacingAndGlyphs\" textLength=\"7\" x=\"86.5726\" y=\"241.8709\">*</text></a><!--MD5=[0a839d0f80c2d72d4b9b307f046d0de8]\n",
       "link E6 to E8--><a href=\"psysml:1e1521f0-84d2-4d6c-a787-5301105b41c5\" target=\"_top\" title=\"psysml:1e1521f0-84d2-4d6c-a787-5301105b41c5\" xlink:actuate=\"onRequest\" xlink:href=\"psysml:1e1521f0-84d2-4d6c-a787-5301105b41c5\" xlink:show=\"new\" xlink:title=\"psysml:1e1521f0-84d2-4d6c-a787-5301105b41c5\" xlink:type=\"simple\"><path d=\"M140.58,193.06 C136.59,210.7 126.88,235.34 116.95,252.98 \" fill=\"none\" id=\"E6-E8-1\" style=\"stroke: #A80036; stroke-width: 3.0;\"/><text fill=\"#000000\" font-family=\"sans-serif\" font-size=\"13\" lengthAdjust=\"spacingAndGlyphs\" textLength=\"7\" x=\"114.3709\" y=\"241.8709\">*</text></a><!--MD5=[c45470e3f2d81ce2181a557fcf036844]\n",
       "@startuml\r\n",
       " \r\n",
       "package \"AliasTest\" as E1  [[psysml:c9a65f38-ba0f-435c-ac18-78f76b0c8149 ]]  {\r\n",
       "comp usage \"q\" as E2 << <<(U,orange) attribute>> [[psysml:252bcdae-bf35-4751-96e5-d2689f20556e ]] {\r\n",
       "}\r\n",
       "comp def \"P1\" as E3 << << (B,green) >> [[psysml:6d109465-d99f-46f9-9a55-615eadc52ec3 ]] {\r\n",
       "}\r\n",
       "comp usage \"porig1\" as E4 << << (P,blue) port>> [[psysml:07c215ea-3a50-4500-a498-5909961b01ab ]] {\r\n",
       "}\r\n",
       "comp usage \"p1: P1\" as E5 << << (P,limegreen) part>> [[psysml:4b72c15b-2565-4f84-9632-f618b5b9807b ]] {\r\n",
       "}\r\n",
       "comp usage \"po1\" as E6 << << (P,blue) port>> [[psysml:653cf2de-fd63-4b48-a4f2-812bd043bef4 ]] {\r\n",
       "}\r\n",
       "comp usage \"p2: P1\" as E7 << << (P,limegreen) part>> [[psysml:a2155965-1e3e-41f3-b3b0-5a1ed18f6b31 ]] {\r\n",
       "}\r\n",
       "comp usage \"pdest\" as E8 << << (P,blue) port>> [[psysml:44ed1293-6fc3-4c15-bfe8-a6e98039e875 ]] {\r\n",
       "}\r\n",
       "}\r\n",
       "E3 o- - \"1\"E4 [[psysml:c0c56757-3d44-421f-b231-ed3c3f6cca2a ]] \r\n",
       "E3 +.. \"1\"E4 [[psysml:baeef3bb-efbd-4f79-8bec-1b43bb5efd8f ]] \r\n",
       "E5 - -:|> E3 [[psysml:3c7344fe-e5a7-4cb3-b89e-76f05a842583 ]] \r\n",
       "E5 o- - \"1\"E6 [[psysml:5ab2eb8f-0a8a-4f0f-b519-13b72bd8ef83 ]] \r\n",
       "E6 - -||> E4 [[psysml:36152a88-3fda-40f3-9b03-bfa5e7f7b410 ]] \r\n",
       "E7 - -:|> E3 [[psysml:e547b523-e8e9-4ecd-8c51-8b63037972c5 ]] \r\n",
       "E7 o- - \"1\"E8 [[psysml:b237ade3-489d-4fd0-9379-0b86f0889901 ]] \r\n",
       "E7 +.. \"1\"E8 [[psysml:7018d996-601d-4a38-842d-acb296e8ea77 ]] \r\n",
       "E6 -[thickness=3]- \"*\"E8 [[psysml:1ea7862a-7bab-4478-95a9-37aa2484c274 ]] \r\n",
       "E6 -[thickness=3]- \"*\"E8 [[psysml:1e1521f0-84d2-4d6c-a787-5301105b41c5 ]] \r\n",
       "@enduml\r\n",
       "\n",
       "PlantUML version 1.2020.13(Sat Jun 13 12:26:38 UTC 2020)\n",
       "(EPL source distribution)\n",
       "Java Runtime: OpenJDK Runtime Environment\n",
       "JVM: OpenJDK 64-Bit Server VM\n",
       "Default Encoding: UTF-8\n",
       "Language: en\n",
       "Country: null\n",
       "--></g></svg>"
      ]
     },
     "execution_count": 36,
     "metadata": {},
     "output_type": "execute_result"
    }
   ],
   "source": [
    "%viz --style=\"PLANTUML\" --view=\"MIXED\" \"AliasTest\""
   ]
  },
  {
   "cell_type": "code",
   "execution_count": 37,
   "id": "e034bb7c",
   "metadata": {
    "execution": {
     "iopub.execute_input": "2021-10-03T08:30:12.309271Z",
     "iopub.status.busy": "2021-10-03T08:30:12.308841Z",
     "iopub.status.idle": "2021-10-03T08:30:12.347015Z",
     "shell.execute_reply": "2021-10-03T08:30:12.346597Z"
    }
   },
   "outputs": [
    {
     "data": {
      "image/svg+xml": [
       "<?xml version=\"1.0\" encoding=\"UTF-8\" standalone=\"no\"?><svg xmlns=\"http://www.w3.org/2000/svg\" xmlns:xlink=\"http://www.w3.org/1999/xlink\" contentScriptType=\"application/ecmascript\" contentStyleType=\"text/css\" height=\"327px\" preserveAspectRatio=\"none\" style=\"width:304px;height:327px;\" version=\"1.1\" viewBox=\"0 0 304 327\" width=\"304px\" zoomAndPan=\"magnify\"><defs/><g><!--MD5=[fbc87193dbaf4d95561dea2c320d4a47]\n",
       "cluster E1--><a href=\"psysml:c9a65f38-ba0f-435c-ac18-78f76b0c8149\" target=\"_top\" title=\"psysml:c9a65f38-ba0f-435c-ac18-78f76b0c8149\" xlink:actuate=\"onRequest\" xlink:href=\"psysml:c9a65f38-ba0f-435c-ac18-78f76b0c8149\" xlink:show=\"new\" xlink:title=\"psysml:c9a65f38-ba0f-435c-ac18-78f76b0c8149\" xlink:type=\"simple\"><polygon fill=\"#FFFFFF\" points=\"16,6,84,6,91,28.2969,282,28.2969,282,315,16,315,16,6\" style=\"stroke: #000000; stroke-width: 1.5;\"/><line style=\"stroke: #000000; stroke-width: 1.5;\" x1=\"16\" x2=\"91\" y1=\"28.2969\" y2=\"28.2969\"/><text fill=\"#000000\" font-family=\"sans-serif\" font-size=\"14\" font-weight=\"bold\" lengthAdjust=\"spacingAndGlyphs\" textLength=\"62\" x=\"20\" y=\"20.9951\">AliasTest</text></a><!--MD5=[b4997ac47864f28c2f74865a473b2911]\n",
       "class E2--><a href=\"psysml:252bcdae-bf35-4751-96e5-d2689f20556e\" target=\"_top\" title=\"psysml:252bcdae-bf35-4751-96e5-d2689f20556e\" xlink:actuate=\"onRequest\" xlink:href=\"psysml:252bcdae-bf35-4751-96e5-d2689f20556e\" xlink:show=\"new\" xlink:title=\"psysml:252bcdae-bf35-4751-96e5-d2689f20556e\" xlink:type=\"simple\"><rect fill=\"#FFFFFF\" height=\"45.9375\" id=\"E2\" rx=\"10\" ry=\"10\" style=\"stroke: #383838; stroke-width: 1.5;\" width=\"71\" x=\"194.5\" y=\"41\"/><text fill=\"#000000\" font-family=\"sans-serif\" font-size=\"12\" font-style=\"italic\" lengthAdjust=\"spacingAndGlyphs\" textLength=\"69\" x=\"195.5\" y=\"57.1387\">«attribute»</text><text fill=\"#000000\" font-family=\"sans-serif\" font-size=\"12\" lengthAdjust=\"spacingAndGlyphs\" textLength=\"8\" x=\"226\" y=\"71.1074\">q</text><line style=\"stroke: #383838; stroke-width: 1.5;\" x1=\"195.5\" x2=\"264.5\" y1=\"78.9375\" y2=\"78.9375\"/></a><!--MD5=[09b614a08d8cba4a07c9adeb5e0fee81]\n",
       "class E3--><a href=\"psysml:6d109465-d99f-46f9-9a55-615eadc52ec3\" target=\"_top\" title=\"psysml:6d109465-d99f-46f9-9a55-615eadc52ec3\" xlink:actuate=\"onRequest\" xlink:href=\"psysml:6d109465-d99f-46f9-9a55-615eadc52ec3\" xlink:show=\"new\" xlink:title=\"psysml:6d109465-d99f-46f9-9a55-615eadc52ec3\" xlink:type=\"simple\"><rect fill=\"#FFFFFF\" height=\"45.9375\" id=\"E3\" style=\"stroke: #383838; stroke-width: 1.5;\" width=\"66\" x=\"168\" y=\"147\"/><text fill=\"#000000\" font-family=\"sans-serif\" font-size=\"12\" font-style=\"italic\" lengthAdjust=\"spacingAndGlyphs\" textLength=\"64\" x=\"169\" y=\"163.1387\">«part def»</text><text fill=\"#000000\" font-family=\"sans-serif\" font-size=\"12\" lengthAdjust=\"spacingAndGlyphs\" textLength=\"16\" x=\"193\" y=\"177.1074\">P1</text><line style=\"stroke: #383838; stroke-width: 1.5;\" x1=\"169\" x2=\"233\" y1=\"184.9375\" y2=\"184.9375\"/></a><!--MD5=[ebbe1d658d1005bcc118a6aa81145e00]\n",
       "class E4--><a href=\"psysml:07c215ea-3a50-4500-a498-5909961b01ab\" target=\"_top\" title=\"psysml:07c215ea-3a50-4500-a498-5909961b01ab\" xlink:actuate=\"onRequest\" xlink:href=\"psysml:07c215ea-3a50-4500-a498-5909961b01ab\" xlink:show=\"new\" xlink:title=\"psysml:07c215ea-3a50-4500-a498-5909961b01ab\" xlink:type=\"simple\"><rect fill=\"#FFFFFF\" height=\"45.9375\" id=\"E4\" rx=\"10\" ry=\"10\" style=\"stroke: #383838; stroke-width: 1.5;\" width=\"46\" x=\"178\" y=\"253\"/><text fill=\"#000000\" font-family=\"sans-serif\" font-size=\"12\" font-style=\"italic\" lengthAdjust=\"spacingAndGlyphs\" textLength=\"40\" x=\"181\" y=\"269.1387\">«port»</text><text fill=\"#000000\" font-family=\"sans-serif\" font-size=\"12\" lengthAdjust=\"spacingAndGlyphs\" textLength=\"40\" x=\"181\" y=\"283.1074\">porig1</text><line style=\"stroke: #383838; stroke-width: 1.5;\" x1=\"179\" x2=\"223\" y1=\"290.9375\" y2=\"290.9375\"/></a><!--MD5=[270fce915f116d4de14055a7c1d9a0f3]\n",
       "class E5--><a href=\"psysml:4b72c15b-2565-4f84-9632-f618b5b9807b\" target=\"_top\" title=\"psysml:4b72c15b-2565-4f84-9632-f618b5b9807b\" xlink:actuate=\"onRequest\" xlink:href=\"psysml:4b72c15b-2565-4f84-9632-f618b5b9807b\" xlink:show=\"new\" xlink:title=\"psysml:4b72c15b-2565-4f84-9632-f618b5b9807b\" xlink:type=\"simple\"><rect fill=\"#FFFFFF\" height=\"45.9375\" id=\"E5\" rx=\"10\" ry=\"10\" style=\"stroke: #383838; stroke-width: 1.5;\" width=\"46\" x=\"113\" y=\"41\"/><text fill=\"#000000\" font-family=\"sans-serif\" font-size=\"12\" font-style=\"italic\" lengthAdjust=\"spacingAndGlyphs\" textLength=\"40\" x=\"116\" y=\"57.1387\">«part»</text><text fill=\"#000000\" font-family=\"sans-serif\" font-size=\"12\" lengthAdjust=\"spacingAndGlyphs\" textLength=\"40\" x=\"116\" y=\"71.1074\">p1: P1</text><line style=\"stroke: #383838; stroke-width: 1.5;\" x1=\"114\" x2=\"158\" y1=\"78.9375\" y2=\"78.9375\"/></a><!--MD5=[60a26617385b1d2d0262a64233df1f8d]\n",
       "class E6--><a href=\"psysml:653cf2de-fd63-4b48-a4f2-812bd043bef4\" target=\"_top\" title=\"psysml:653cf2de-fd63-4b48-a4f2-812bd043bef4\" xlink:actuate=\"onRequest\" xlink:href=\"psysml:653cf2de-fd63-4b48-a4f2-812bd043bef4\" xlink:show=\"new\" xlink:title=\"psysml:653cf2de-fd63-4b48-a4f2-812bd043bef4\" xlink:type=\"simple\"><rect fill=\"#FFFFFF\" height=\"45.9375\" id=\"E6\" rx=\"10\" ry=\"10\" style=\"stroke: #383838; stroke-width: 1.5;\" width=\"42\" x=\"91\" y=\"147\"/><text fill=\"#000000\" font-family=\"sans-serif\" font-size=\"12\" font-style=\"italic\" lengthAdjust=\"spacingAndGlyphs\" textLength=\"40\" x=\"92\" y=\"163.1387\">«port»</text><text fill=\"#000000\" font-family=\"sans-serif\" font-size=\"12\" lengthAdjust=\"spacingAndGlyphs\" textLength=\"24\" x=\"100\" y=\"177.1074\">po1</text><line style=\"stroke: #383838; stroke-width: 1.5;\" x1=\"92\" x2=\"132\" y1=\"184.9375\" y2=\"184.9375\"/></a><!--MD5=[2156ba9850f5573cc1fc38a6a4b2f02b]\n",
       "class E7--><a href=\"psysml:a2155965-1e3e-41f3-b3b0-5a1ed18f6b31\" target=\"_top\" title=\"psysml:a2155965-1e3e-41f3-b3b0-5a1ed18f6b31\" xlink:actuate=\"onRequest\" xlink:href=\"psysml:a2155965-1e3e-41f3-b3b0-5a1ed18f6b31\" xlink:show=\"new\" xlink:title=\"psysml:a2155965-1e3e-41f3-b3b0-5a1ed18f6b31\" xlink:type=\"simple\"><rect fill=\"#FFFFFF\" height=\"45.9375\" id=\"E7\" rx=\"10\" ry=\"10\" style=\"stroke: #383838; stroke-width: 1.5;\" width=\"46\" x=\"32\" y=\"41\"/><text fill=\"#000000\" font-family=\"sans-serif\" font-size=\"12\" font-style=\"italic\" lengthAdjust=\"spacingAndGlyphs\" textLength=\"40\" x=\"35\" y=\"57.1387\">«part»</text><text fill=\"#000000\" font-family=\"sans-serif\" font-size=\"12\" lengthAdjust=\"spacingAndGlyphs\" textLength=\"40\" x=\"35\" y=\"71.1074\">p2: P1</text><line style=\"stroke: #383838; stroke-width: 1.5;\" x1=\"33\" x2=\"77\" y1=\"78.9375\" y2=\"78.9375\"/></a><!--MD5=[b9389687b975829384b498ac4b7476b2]\n",
       "class E8--><a href=\"psysml:44ed1293-6fc3-4c15-bfe8-a6e98039e875\" target=\"_top\" title=\"psysml:44ed1293-6fc3-4c15-bfe8-a6e98039e875\" xlink:actuate=\"onRequest\" xlink:href=\"psysml:44ed1293-6fc3-4c15-bfe8-a6e98039e875\" xlink:show=\"new\" xlink:title=\"psysml:44ed1293-6fc3-4c15-bfe8-a6e98039e875\" xlink:type=\"simple\"><rect fill=\"#FFFFFF\" height=\"45.9375\" id=\"E8\" rx=\"10\" ry=\"10\" style=\"stroke: #383838; stroke-width: 1.5;\" width=\"42\" x=\"63\" y=\"253\"/><text fill=\"#000000\" font-family=\"sans-serif\" font-size=\"12\" font-style=\"italic\" lengthAdjust=\"spacingAndGlyphs\" textLength=\"40\" x=\"64\" y=\"269.1387\">«port»</text><text fill=\"#000000\" font-family=\"sans-serif\" font-size=\"12\" lengthAdjust=\"spacingAndGlyphs\" textLength=\"36\" x=\"66\" y=\"283.1074\">pdest</text><line style=\"stroke: #383838; stroke-width: 1.5;\" x1=\"64\" x2=\"104\" y1=\"290.9375\" y2=\"290.9375\"/></a><!--MD5=[4672eba38e49728da53d11aeb285b987]\n",
       "reverse link E3 to E4--><a href=\"psysml:c0c56757-3d44-421f-b231-ed3c3f6cca2a\" target=\"_top\" title=\"psysml:c0c56757-3d44-421f-b231-ed3c3f6cca2a\" xlink:actuate=\"onRequest\" xlink:href=\"psysml:c0c56757-3d44-421f-b231-ed3c3f6cca2a\" xlink:show=\"new\" xlink:title=\"psysml:c0c56757-3d44-421f-b231-ed3c3f6cca2a\" xlink:type=\"simple\"><path d=\"M188.84,206.44 C187.7,221.87 188.21,239.47 190.36,252.98 \" fill=\"none\" id=\"E3&lt;-E4\" style=\"stroke: #383838; stroke-width: 1.0;\"/><polygon fill=\"#FFFFFF\" points=\"190.35,193.06,185.7032,198.5743,189.006,204.9845,193.6528,199.4702,190.35,193.06\" style=\"stroke: #383838; stroke-width: 1.0;\"/><text fill=\"#000000\" font-family=\"sans-serif\" font-size=\"13\" lengthAdjust=\"spacingAndGlyphs\" textLength=\"8\" x=\"178.4255\" y=\"241.8709\">1</text></a><!--MD5=[4672eba38e49728da53d11aeb285b987]\n",
       "reverse link E3 to E4--><a href=\"psysml:baeef3bb-efbd-4f79-8bec-1b43bb5efd8f\" target=\"_top\" title=\"psysml:baeef3bb-efbd-4f79-8bec-1b43bb5efd8f\" xlink:actuate=\"onRequest\" xlink:href=\"psysml:baeef3bb-efbd-4f79-8bec-1b43bb5efd8f\" xlink:show=\"new\" xlink:title=\"psysml:baeef3bb-efbd-4f79-8bec-1b43bb5efd8f\" xlink:type=\"simple\"><path d=\"M214.01,208.34 C215.03,223.3 214.45,240.02 212.27,252.98 \" fill=\"none\" id=\"E3&lt;-E4-1\" style=\"stroke: #383838; stroke-width: 1.0; stroke-dasharray: 7.0,7.0;\"/><ellipse cx=\"213.1693\" cy=\"201.0093\" fill=\"#FFFFFF\" rx=\"8\" ry=\"8\" style=\"stroke: #383838; stroke-width: 1.0;\"/><line style=\"stroke: #383838; stroke-width: 1.0;\" x1=\"214.0687\" x2=\"212.27\" y1=\"208.9586\" y2=\"193.06\"/><line style=\"stroke: #383838; stroke-width: 1.0;\" x1=\"205.2201\" x2=\"221.1186\" y1=\"201.9086\" y2=\"200.1099\"/><text fill=\"#000000\" font-family=\"sans-serif\" font-size=\"13\" lengthAdjust=\"spacingAndGlyphs\" textLength=\"8\" x=\"206.2238\" y=\"241.8709\">1</text></a><!--MD5=[e9be52314489bd878ff4c7144b63c9e1]\n",
       "link E5 to E3--><a href=\"psysml:3c7344fe-e5a7-4cb3-b89e-76f05a842583\" target=\"_top\" title=\"psysml:3c7344fe-e5a7-4cb3-b89e-76f05a842583\" xlink:actuate=\"onRequest\" xlink:href=\"psysml:3c7344fe-e5a7-4cb3-b89e-76f05a842583\" xlink:show=\"new\" xlink:title=\"psysml:3c7344fe-e5a7-4cb3-b89e-76f05a842583\" xlink:type=\"simple\"><path d=\"M149.78,87.06 C157.54,99.47 167.45,115.33 176.49,129.78 \" fill=\"none\" id=\"E5-&gt;E3\" style=\"stroke: #383838; stroke-width: 1.0;\"/><polygon fill=\"#FFFFFF\" points=\"187.24,146.98,171.2331,134.5792,183.1045,127.1584,187.24,146.98\" style=\"stroke: #383838; stroke-width: 1.0;\"/><ellipse cx=\"169.9076\" cy=\"128.6857\" fill=\"#383838\" rx=\"2\" ry=\"2\" style=\"stroke: #383838; stroke-width: 1.0;\"/><ellipse cx=\"178.3872\" cy=\"123.3851\" fill=\"#383838\" rx=\"2\" ry=\"2\" style=\"stroke: #383838; stroke-width: 1.0;\"/></a><!--MD5=[85d356282659285ab4b2cfe2f634dd2b]\n",
       "reverse link E5 to E6--><a href=\"psysml:5ab2eb8f-0a8a-4f0f-b519-13b72bd8ef83\" target=\"_top\" title=\"psysml:5ab2eb8f-0a8a-4f0f-b519-13b72bd8ef83\" xlink:actuate=\"onRequest\" xlink:href=\"psysml:5ab2eb8f-0a8a-4f0f-b519-13b72bd8ef83\" xlink:show=\"new\" xlink:title=\"psysml:5ab2eb8f-0a8a-4f0f-b519-13b72bd8ef83\" xlink:type=\"simple\"><path d=\"M127.93,99.96 C124.34,115.51 120.23,133.33 117.08,146.98 \" fill=\"none\" id=\"E5&lt;-E6\" style=\"stroke: #383838; stroke-width: 1.0;\"/><polygon fill=\"#FFFFFF\" points=\"130.91,87.06,125.6616,92.0052,128.2078,98.7518,133.4562,93.8066,130.91,87.06\" style=\"stroke: #383838; stroke-width: 1.0;\"/><text fill=\"#000000\" font-family=\"sans-serif\" font-size=\"13\" lengthAdjust=\"spacingAndGlyphs\" textLength=\"8\" x=\"109.3703\" y=\"135.8709\">1</text></a><!--MD5=[f667431f98296947986a1a7595a31603]\n",
       "link E6 to E4--><a href=\"psysml:36152a88-3fda-40f3-9b03-bfa5e7f7b410\" target=\"_top\" title=\"psysml:36152a88-3fda-40f3-9b03-bfa5e7f7b410\" xlink:actuate=\"onRequest\" xlink:href=\"psysml:36152a88-3fda-40f3-9b03-bfa5e7f7b410\" xlink:show=\"new\" xlink:title=\"psysml:36152a88-3fda-40f3-9b03-bfa5e7f7b410\" xlink:type=\"simple\"><path d=\"M130.87,193.06 C141.97,206.02 156.28,222.74 169.08,237.7 \" fill=\"none\" id=\"E6-&gt;E4\" style=\"stroke: #383838; stroke-width: 1.0;\"/><polygon fill=\"#FFFFFF\" points=\"182.15,252.98,164.4809,243.0905,175.1204,233.9909,182.15,252.98\" style=\"stroke: #383838; stroke-width: 1.0;\"/><line style=\"stroke: #383838; stroke-width: 2.0;\" x1=\"162.011\" x2=\"172.6505\" y1=\"240.2026\" y2=\"231.1031\"/></a><!--MD5=[14ccda38c055a5c0da953d572bc50960]\n",
       "link E7 to E3--><a href=\"psysml:e547b523-e8e9-4ecd-8c51-8b63037972c5\" target=\"_top\" title=\"psysml:e547b523-e8e9-4ecd-8c51-8b63037972c5\" xlink:actuate=\"onRequest\" xlink:href=\"psysml:e547b523-e8e9-4ecd-8c51-8b63037972c5\" xlink:show=\"new\" xlink:title=\"psysml:e547b523-e8e9-4ecd-8c51-8b63037972c5\" xlink:type=\"simple\"><path d=\"M78.13,81.48 C98.32,95.86 128.25,117.18 153.52,135.18 \" fill=\"none\" id=\"E7-&gt;E3\" style=\"stroke: #383838; stroke-width: 1.0;\"/><polygon fill=\"#FFFFFF\" points=\"170.09,146.98,150.5533,141.6586,158.6755,130.2555,170.09,146.98\" style=\"stroke: #383838; stroke-width: 1.0;\"/><ellipse cx=\"147.0709\" cy=\"136.7227\" fill=\"#383838\" rx=\"2\" ry=\"2\" style=\"stroke: #383838; stroke-width: 1.0;\"/><ellipse cx=\"152.8725\" cy=\"128.5776\" fill=\"#383838\" rx=\"2\" ry=\"2\" style=\"stroke: #383838; stroke-width: 1.0;\"/></a><!--MD5=[dc164f5e8a733ab456ef1add180e9e34]\n",
       "reverse link E7 to E8--><a href=\"psysml:b237ade3-489d-4fd0-9379-0b86f0889901\" target=\"_top\" title=\"psysml:b237ade3-489d-4fd0-9379-0b86f0889901\" xlink:actuate=\"onRequest\" xlink:href=\"psysml:b237ade3-489d-4fd0-9379-0b86f0889901\" xlink:show=\"new\" xlink:title=\"psysml:b237ade3-489d-4fd0-9379-0b86f0889901\" xlink:type=\"simple\"><path d=\"M50.05,100.09 C51.65,143.61 62.25,216.5 72.75,252.9 \" fill=\"none\" id=\"E7&lt;-E8\" style=\"stroke: #383838; stroke-width: 1.0;\"/><polygon fill=\"#FFFFFF\" points=\"49.85,87.08,45.9362,93.1366,50.0216,99.0788,53.9354,93.0222,49.85,87.08\" style=\"stroke: #383838; stroke-width: 1.0;\"/><text fill=\"#000000\" font-family=\"sans-serif\" font-size=\"13\" lengthAdjust=\"spacingAndGlyphs\" textLength=\"8\" x=\"60.6516\" y=\"241.7694\">1</text></a><!--MD5=[dc164f5e8a733ab456ef1add180e9e34]\n",
       "reverse link E7 to E8--><a href=\"psysml:7018d996-601d-4a38-842d-acb296e8ea77\" target=\"_top\" title=\"psysml:7018d996-601d-4a38-842d-acb296e8ea77\" xlink:actuate=\"onRequest\" xlink:href=\"psysml:7018d996-601d-4a38-842d-acb296e8ea77\" xlink:show=\"new\" xlink:title=\"psysml:7018d996-601d-4a38-842d-acb296e8ea77\" xlink:type=\"simple\"><path d=\"M70.64,101.8 C81.15,145.5 90.39,216.97 89.63,252.9 \" fill=\"none\" id=\"E7&lt;-E8-1\" style=\"stroke: #383838; stroke-width: 1.0; stroke-dasharray: 7.0,7.0;\"/><ellipse cx=\"68.7794\" cy=\"94.813\" fill=\"#FFFFFF\" rx=\"8\" ry=\"8\" style=\"stroke: #383838; stroke-width: 1.0;\"/><line style=\"stroke: #383838; stroke-width: 1.0;\" x1=\"70.8289\" x2=\"66.73\" y1=\"102.5461\" y2=\"87.08\"/><line style=\"stroke: #383838; stroke-width: 1.0;\" x1=\"61.0464\" x2=\"76.5125\" y1=\"96.8625\" y2=\"92.7636\"/><text fill=\"#000000\" font-family=\"sans-serif\" font-size=\"13\" lengthAdjust=\"spacingAndGlyphs\" textLength=\"8\" x=\"92.2181\" y=\"241.7694\">1</text></a><!--MD5=[0a839d0f80c2d72d4b9b307f046d0de8]\n",
       "link E6 to E8--><a href=\"psysml:1ea7862a-7bab-4478-95a9-37aa2484c274\" target=\"_top\" title=\"psysml:1ea7862a-7bab-4478-95a9-37aa2484c274\" xlink:actuate=\"onRequest\" xlink:href=\"psysml:1ea7862a-7bab-4478-95a9-37aa2484c274\" xlink:show=\"new\" xlink:title=\"psysml:1ea7862a-7bab-4478-95a9-37aa2484c274\" xlink:type=\"simple\"><path d=\"M95.42,193.06 C87.86,210.7 81.23,235.34 79.29,252.98 \" fill=\"none\" id=\"E6-E8\" style=\"stroke: #383838; stroke-width: 3.0;\"/><text fill=\"#000000\" font-family=\"sans-serif\" font-size=\"13\" lengthAdjust=\"spacingAndGlyphs\" textLength=\"7\" x=\"78.9648\" y=\"241.8709\">*</text></a><!--MD5=[0a839d0f80c2d72d4b9b307f046d0de8]\n",
       "link E6 to E8--><a href=\"psysml:1e1521f0-84d2-4d6c-a787-5301105b41c5\" target=\"_top\" title=\"psysml:1e1521f0-84d2-4d6c-a787-5301105b41c5\" xlink:actuate=\"onRequest\" xlink:href=\"psysml:1e1521f0-84d2-4d6c-a787-5301105b41c5\" xlink:show=\"new\" xlink:title=\"psysml:1e1521f0-84d2-4d6c-a787-5301105b41c5\" xlink:type=\"simple\"><path d=\"M117.33,193.06 C115.55,210.7 108.92,235.34 101.2,252.98 \" fill=\"none\" id=\"E6-E8-1\" style=\"stroke: #383838; stroke-width: 3.0;\"/><text fill=\"#000000\" font-family=\"sans-serif\" font-size=\"13\" lengthAdjust=\"spacingAndGlyphs\" textLength=\"7\" x=\"97.8819\" y=\"241.8709\">*</text></a><!--MD5=[aa6f33f88c311511bf52d2a95a2216b7]\n",
       "@startuml\r\n",
       "skinparam monochrome true\r\n",
       "skinparam classbackgroundcolor white\r\n",
       "skinparam shadowing false\r\n",
       "skinparam wrapWidth 300\r\n",
       "hide circle\r\n",
       "\r\n",
       "package \"AliasTest\" as E1  [[psysml:c9a65f38-ba0f-435c-ac18-78f76b0c8149 ]]  {\r\n",
       "comp usage \"q\" as E2  <<(T,blue) attribute>> [[psysml:252bcdae-bf35-4751-96e5-d2689f20556e ]] {\r\n",
       "}\r\n",
       "comp def \"P1\" as E3  <<(T,blue) part def>> [[psysml:6d109465-d99f-46f9-9a55-615eadc52ec3 ]] {\r\n",
       "}\r\n",
       "comp usage \"porig1\" as E4  <<(T,blue) port>> [[psysml:07c215ea-3a50-4500-a498-5909961b01ab ]] {\r\n",
       "}\r\n",
       "comp usage \"p1: P1\" as E5  <<(T,blue) part>> [[psysml:4b72c15b-2565-4f84-9632-f618b5b9807b ]] {\r\n",
       "}\r\n",
       "comp usage \"po1\" as E6  <<(T,blue) port>> [[psysml:653cf2de-fd63-4b48-a4f2-812bd043bef4 ]] {\r\n",
       "}\r\n",
       "comp usage \"p2: P1\" as E7  <<(T,blue) part>> [[psysml:a2155965-1e3e-41f3-b3b0-5a1ed18f6b31 ]] {\r\n",
       "}\r\n",
       "comp usage \"pdest\" as E8  <<(T,blue) port>> [[psysml:44ed1293-6fc3-4c15-bfe8-a6e98039e875 ]] {\r\n",
       "}\r\n",
       "}\r\n",
       "E3 o- - \"1\"E4 [[psysml:c0c56757-3d44-421f-b231-ed3c3f6cca2a ]] \r\n",
       "E3 +.. \"1\"E4 [[psysml:baeef3bb-efbd-4f79-8bec-1b43bb5efd8f ]] \r\n",
       "E5 - -:|> E3 [[psysml:3c7344fe-e5a7-4cb3-b89e-76f05a842583 ]] \r\n",
       "E5 o- - \"1\"E6 [[psysml:5ab2eb8f-0a8a-4f0f-b519-13b72bd8ef83 ]] \r\n",
       "E6 - -||> E4 [[psysml:36152a88-3fda-40f3-9b03-bfa5e7f7b410 ]] \r\n",
       "E7 - -:|> E3 [[psysml:e547b523-e8e9-4ecd-8c51-8b63037972c5 ]] \r\n",
       "E7 o- - \"1\"E8 [[psysml:b237ade3-489d-4fd0-9379-0b86f0889901 ]] \r\n",
       "E7 +.. \"1\"E8 [[psysml:7018d996-601d-4a38-842d-acb296e8ea77 ]] \r\n",
       "E6 -[thickness=3]- \"*\"E8 [[psysml:1ea7862a-7bab-4478-95a9-37aa2484c274 ]] \r\n",
       "E6 -[thickness=3]- \"*\"E8 [[psysml:1e1521f0-84d2-4d6c-a787-5301105b41c5 ]] \r\n",
       "@enduml\r\n",
       "\n",
       "PlantUML version 1.2020.13(Sat Jun 13 12:26:38 UTC 2020)\n",
       "(EPL source distribution)\n",
       "Java Runtime: OpenJDK Runtime Environment\n",
       "JVM: OpenJDK 64-Bit Server VM\n",
       "Default Encoding: UTF-8\n",
       "Language: en\n",
       "Country: null\n",
       "--></g></svg>"
      ]
     },
     "execution_count": 37,
     "metadata": {},
     "output_type": "execute_result"
    }
   ],
   "source": [
    "%viz --style=\"DEFAULT\" --view=\"Default\" \"AliasTest\""
   ]
  },
  {
   "cell_type": "code",
   "execution_count": 38,
   "id": "f50b2520",
   "metadata": {
    "execution": {
     "iopub.execute_input": "2021-10-03T08:30:12.396225Z",
     "iopub.status.busy": "2021-10-03T08:30:12.395796Z",
     "iopub.status.idle": "2021-10-03T08:30:12.437243Z",
     "shell.execute_reply": "2021-10-03T08:30:12.437425Z"
    }
   },
   "outputs": [
    {
     "data": {
      "image/svg+xml": [
       "<?xml version=\"1.0\" encoding=\"UTF-8\" standalone=\"no\"?><svg xmlns=\"http://www.w3.org/2000/svg\" xmlns:xlink=\"http://www.w3.org/1999/xlink\" contentScriptType=\"application/ecmascript\" contentStyleType=\"text/css\" height=\"327px\" preserveAspectRatio=\"none\" style=\"width:304px;height:327px;\" version=\"1.1\" viewBox=\"0 0 304 327\" width=\"304px\" zoomAndPan=\"magnify\"><defs/><g><!--MD5=[fbc87193dbaf4d95561dea2c320d4a47]\n",
       "cluster E1--><a href=\"psysml:c9a65f38-ba0f-435c-ac18-78f76b0c8149\" target=\"_top\" title=\"psysml:c9a65f38-ba0f-435c-ac18-78f76b0c8149\" xlink:actuate=\"onRequest\" xlink:href=\"psysml:c9a65f38-ba0f-435c-ac18-78f76b0c8149\" xlink:show=\"new\" xlink:title=\"psysml:c9a65f38-ba0f-435c-ac18-78f76b0c8149\" xlink:type=\"simple\"><polygon fill=\"#FFFFFF\" points=\"16,6,84,6,91,28.2969,282,28.2969,282,315,16,315,16,6\" style=\"stroke: #000000; stroke-width: 1.5;\"/><line style=\"stroke: #000000; stroke-width: 1.5;\" x1=\"16\" x2=\"91\" y1=\"28.2969\" y2=\"28.2969\"/><text fill=\"#000000\" font-family=\"sans-serif\" font-size=\"14\" font-weight=\"bold\" lengthAdjust=\"spacingAndGlyphs\" textLength=\"62\" x=\"20\" y=\"20.9951\">AliasTest</text></a><!--MD5=[b4997ac47864f28c2f74865a473b2911]\n",
       "class E2--><a href=\"psysml:252bcdae-bf35-4751-96e5-d2689f20556e\" target=\"_top\" title=\"psysml:252bcdae-bf35-4751-96e5-d2689f20556e\" xlink:actuate=\"onRequest\" xlink:href=\"psysml:252bcdae-bf35-4751-96e5-d2689f20556e\" xlink:show=\"new\" xlink:title=\"psysml:252bcdae-bf35-4751-96e5-d2689f20556e\" xlink:type=\"simple\"><rect fill=\"#FFFFFF\" height=\"45.9375\" id=\"E2\" rx=\"10\" ry=\"10\" style=\"stroke: #383838; stroke-width: 1.5;\" width=\"71\" x=\"194.5\" y=\"41\"/><text fill=\"#000000\" font-family=\"sans-serif\" font-size=\"12\" font-style=\"italic\" lengthAdjust=\"spacingAndGlyphs\" textLength=\"69\" x=\"195.5\" y=\"57.1387\">«attribute»</text><text fill=\"#000000\" font-family=\"sans-serif\" font-size=\"12\" lengthAdjust=\"spacingAndGlyphs\" textLength=\"8\" x=\"226\" y=\"71.1074\">q</text><line style=\"stroke: #383838; stroke-width: 1.5;\" x1=\"195.5\" x2=\"264.5\" y1=\"78.9375\" y2=\"78.9375\"/></a><!--MD5=[09b614a08d8cba4a07c9adeb5e0fee81]\n",
       "class E3--><a href=\"psysml:6d109465-d99f-46f9-9a55-615eadc52ec3\" target=\"_top\" title=\"psysml:6d109465-d99f-46f9-9a55-615eadc52ec3\" xlink:actuate=\"onRequest\" xlink:href=\"psysml:6d109465-d99f-46f9-9a55-615eadc52ec3\" xlink:show=\"new\" xlink:title=\"psysml:6d109465-d99f-46f9-9a55-615eadc52ec3\" xlink:type=\"simple\"><rect fill=\"#FFFFFF\" height=\"45.9375\" id=\"E3\" style=\"stroke: #383838; stroke-width: 1.5;\" width=\"66\" x=\"168\" y=\"147\"/><text fill=\"#000000\" font-family=\"sans-serif\" font-size=\"12\" font-style=\"italic\" lengthAdjust=\"spacingAndGlyphs\" textLength=\"64\" x=\"169\" y=\"163.1387\">«part def»</text><text fill=\"#000000\" font-family=\"sans-serif\" font-size=\"12\" lengthAdjust=\"spacingAndGlyphs\" textLength=\"16\" x=\"193\" y=\"177.1074\">P1</text><line style=\"stroke: #383838; stroke-width: 1.5;\" x1=\"169\" x2=\"233\" y1=\"184.9375\" y2=\"184.9375\"/></a><!--MD5=[ebbe1d658d1005bcc118a6aa81145e00]\n",
       "class E4--><a href=\"psysml:07c215ea-3a50-4500-a498-5909961b01ab\" target=\"_top\" title=\"psysml:07c215ea-3a50-4500-a498-5909961b01ab\" xlink:actuate=\"onRequest\" xlink:href=\"psysml:07c215ea-3a50-4500-a498-5909961b01ab\" xlink:show=\"new\" xlink:title=\"psysml:07c215ea-3a50-4500-a498-5909961b01ab\" xlink:type=\"simple\"><rect fill=\"#FFFFFF\" height=\"45.9375\" id=\"E4\" rx=\"10\" ry=\"10\" style=\"stroke: #383838; stroke-width: 1.5;\" width=\"46\" x=\"178\" y=\"253\"/><text fill=\"#000000\" font-family=\"sans-serif\" font-size=\"12\" font-style=\"italic\" lengthAdjust=\"spacingAndGlyphs\" textLength=\"40\" x=\"181\" y=\"269.1387\">«port»</text><text fill=\"#000000\" font-family=\"sans-serif\" font-size=\"12\" lengthAdjust=\"spacingAndGlyphs\" textLength=\"40\" x=\"181\" y=\"283.1074\">porig1</text><line style=\"stroke: #383838; stroke-width: 1.5;\" x1=\"179\" x2=\"223\" y1=\"290.9375\" y2=\"290.9375\"/></a><!--MD5=[270fce915f116d4de14055a7c1d9a0f3]\n",
       "class E5--><a href=\"psysml:4b72c15b-2565-4f84-9632-f618b5b9807b\" target=\"_top\" title=\"psysml:4b72c15b-2565-4f84-9632-f618b5b9807b\" xlink:actuate=\"onRequest\" xlink:href=\"psysml:4b72c15b-2565-4f84-9632-f618b5b9807b\" xlink:show=\"new\" xlink:title=\"psysml:4b72c15b-2565-4f84-9632-f618b5b9807b\" xlink:type=\"simple\"><rect fill=\"#FFFFFF\" height=\"45.9375\" id=\"E5\" rx=\"10\" ry=\"10\" style=\"stroke: #383838; stroke-width: 1.5;\" width=\"46\" x=\"113\" y=\"41\"/><text fill=\"#000000\" font-family=\"sans-serif\" font-size=\"12\" font-style=\"italic\" lengthAdjust=\"spacingAndGlyphs\" textLength=\"40\" x=\"116\" y=\"57.1387\">«part»</text><text fill=\"#000000\" font-family=\"sans-serif\" font-size=\"12\" lengthAdjust=\"spacingAndGlyphs\" textLength=\"40\" x=\"116\" y=\"71.1074\">p1: P1</text><line style=\"stroke: #383838; stroke-width: 1.5;\" x1=\"114\" x2=\"158\" y1=\"78.9375\" y2=\"78.9375\"/></a><!--MD5=[60a26617385b1d2d0262a64233df1f8d]\n",
       "class E6--><a href=\"psysml:653cf2de-fd63-4b48-a4f2-812bd043bef4\" target=\"_top\" title=\"psysml:653cf2de-fd63-4b48-a4f2-812bd043bef4\" xlink:actuate=\"onRequest\" xlink:href=\"psysml:653cf2de-fd63-4b48-a4f2-812bd043bef4\" xlink:show=\"new\" xlink:title=\"psysml:653cf2de-fd63-4b48-a4f2-812bd043bef4\" xlink:type=\"simple\"><rect fill=\"#FFFFFF\" height=\"45.9375\" id=\"E6\" rx=\"10\" ry=\"10\" style=\"stroke: #383838; stroke-width: 1.5;\" width=\"42\" x=\"91\" y=\"147\"/><text fill=\"#000000\" font-family=\"sans-serif\" font-size=\"12\" font-style=\"italic\" lengthAdjust=\"spacingAndGlyphs\" textLength=\"40\" x=\"92\" y=\"163.1387\">«port»</text><text fill=\"#000000\" font-family=\"sans-serif\" font-size=\"12\" lengthAdjust=\"spacingAndGlyphs\" textLength=\"24\" x=\"100\" y=\"177.1074\">po1</text><line style=\"stroke: #383838; stroke-width: 1.5;\" x1=\"92\" x2=\"132\" y1=\"184.9375\" y2=\"184.9375\"/></a><!--MD5=[2156ba9850f5573cc1fc38a6a4b2f02b]\n",
       "class E7--><a href=\"psysml:a2155965-1e3e-41f3-b3b0-5a1ed18f6b31\" target=\"_top\" title=\"psysml:a2155965-1e3e-41f3-b3b0-5a1ed18f6b31\" xlink:actuate=\"onRequest\" xlink:href=\"psysml:a2155965-1e3e-41f3-b3b0-5a1ed18f6b31\" xlink:show=\"new\" xlink:title=\"psysml:a2155965-1e3e-41f3-b3b0-5a1ed18f6b31\" xlink:type=\"simple\"><rect fill=\"#FFFFFF\" height=\"45.9375\" id=\"E7\" rx=\"10\" ry=\"10\" style=\"stroke: #383838; stroke-width: 1.5;\" width=\"46\" x=\"32\" y=\"41\"/><text fill=\"#000000\" font-family=\"sans-serif\" font-size=\"12\" font-style=\"italic\" lengthAdjust=\"spacingAndGlyphs\" textLength=\"40\" x=\"35\" y=\"57.1387\">«part»</text><text fill=\"#000000\" font-family=\"sans-serif\" font-size=\"12\" lengthAdjust=\"spacingAndGlyphs\" textLength=\"40\" x=\"35\" y=\"71.1074\">p2: P1</text><line style=\"stroke: #383838; stroke-width: 1.5;\" x1=\"33\" x2=\"77\" y1=\"78.9375\" y2=\"78.9375\"/></a><!--MD5=[b9389687b975829384b498ac4b7476b2]\n",
       "class E8--><a href=\"psysml:44ed1293-6fc3-4c15-bfe8-a6e98039e875\" target=\"_top\" title=\"psysml:44ed1293-6fc3-4c15-bfe8-a6e98039e875\" xlink:actuate=\"onRequest\" xlink:href=\"psysml:44ed1293-6fc3-4c15-bfe8-a6e98039e875\" xlink:show=\"new\" xlink:title=\"psysml:44ed1293-6fc3-4c15-bfe8-a6e98039e875\" xlink:type=\"simple\"><rect fill=\"#FFFFFF\" height=\"45.9375\" id=\"E8\" rx=\"10\" ry=\"10\" style=\"stroke: #383838; stroke-width: 1.5;\" width=\"42\" x=\"63\" y=\"253\"/><text fill=\"#000000\" font-family=\"sans-serif\" font-size=\"12\" font-style=\"italic\" lengthAdjust=\"spacingAndGlyphs\" textLength=\"40\" x=\"64\" y=\"269.1387\">«port»</text><text fill=\"#000000\" font-family=\"sans-serif\" font-size=\"12\" lengthAdjust=\"spacingAndGlyphs\" textLength=\"36\" x=\"66\" y=\"283.1074\">pdest</text><line style=\"stroke: #383838; stroke-width: 1.5;\" x1=\"64\" x2=\"104\" y1=\"290.9375\" y2=\"290.9375\"/></a><!--MD5=[4672eba38e49728da53d11aeb285b987]\n",
       "reverse link E3 to E4--><a href=\"psysml:c0c56757-3d44-421f-b231-ed3c3f6cca2a\" target=\"_top\" title=\"psysml:c0c56757-3d44-421f-b231-ed3c3f6cca2a\" xlink:actuate=\"onRequest\" xlink:href=\"psysml:c0c56757-3d44-421f-b231-ed3c3f6cca2a\" xlink:show=\"new\" xlink:title=\"psysml:c0c56757-3d44-421f-b231-ed3c3f6cca2a\" xlink:type=\"simple\"><path d=\"M188.84,206.44 C187.7,221.87 188.21,239.47 190.36,252.98 \" fill=\"none\" id=\"E3&lt;-E4\" style=\"stroke: #383838; stroke-width: 1.0;\"/><polygon fill=\"#FFFFFF\" points=\"190.35,193.06,185.7032,198.5743,189.006,204.9845,193.6528,199.4702,190.35,193.06\" style=\"stroke: #383838; stroke-width: 1.0;\"/><text fill=\"#000000\" font-family=\"sans-serif\" font-size=\"13\" lengthAdjust=\"spacingAndGlyphs\" textLength=\"8\" x=\"178.4255\" y=\"241.8709\">1</text></a><!--MD5=[4672eba38e49728da53d11aeb285b987]\n",
       "reverse link E3 to E4--><a href=\"psysml:baeef3bb-efbd-4f79-8bec-1b43bb5efd8f\" target=\"_top\" title=\"psysml:baeef3bb-efbd-4f79-8bec-1b43bb5efd8f\" xlink:actuate=\"onRequest\" xlink:href=\"psysml:baeef3bb-efbd-4f79-8bec-1b43bb5efd8f\" xlink:show=\"new\" xlink:title=\"psysml:baeef3bb-efbd-4f79-8bec-1b43bb5efd8f\" xlink:type=\"simple\"><path d=\"M214.01,208.34 C215.03,223.3 214.45,240.02 212.27,252.98 \" fill=\"none\" id=\"E3&lt;-E4-1\" style=\"stroke: #383838; stroke-width: 1.0; stroke-dasharray: 7.0,7.0;\"/><ellipse cx=\"213.1693\" cy=\"201.0093\" fill=\"#FFFFFF\" rx=\"8\" ry=\"8\" style=\"stroke: #383838; stroke-width: 1.0;\"/><line style=\"stroke: #383838; stroke-width: 1.0;\" x1=\"214.0687\" x2=\"212.27\" y1=\"208.9586\" y2=\"193.06\"/><line style=\"stroke: #383838; stroke-width: 1.0;\" x1=\"205.2201\" x2=\"221.1186\" y1=\"201.9086\" y2=\"200.1099\"/><text fill=\"#000000\" font-family=\"sans-serif\" font-size=\"13\" lengthAdjust=\"spacingAndGlyphs\" textLength=\"8\" x=\"206.2238\" y=\"241.8709\">1</text></a><!--MD5=[e9be52314489bd878ff4c7144b63c9e1]\n",
       "link E5 to E3--><a href=\"psysml:3c7344fe-e5a7-4cb3-b89e-76f05a842583\" target=\"_top\" title=\"psysml:3c7344fe-e5a7-4cb3-b89e-76f05a842583\" xlink:actuate=\"onRequest\" xlink:href=\"psysml:3c7344fe-e5a7-4cb3-b89e-76f05a842583\" xlink:show=\"new\" xlink:title=\"psysml:3c7344fe-e5a7-4cb3-b89e-76f05a842583\" xlink:type=\"simple\"><path d=\"M149.78,87.06 C157.54,99.47 167.45,115.33 176.49,129.78 \" fill=\"none\" id=\"E5-&gt;E3\" style=\"stroke: #383838; stroke-width: 1.0;\"/><polygon fill=\"#FFFFFF\" points=\"187.24,146.98,171.2331,134.5792,183.1045,127.1584,187.24,146.98\" style=\"stroke: #383838; stroke-width: 1.0;\"/><ellipse cx=\"169.9076\" cy=\"128.6857\" fill=\"#383838\" rx=\"2\" ry=\"2\" style=\"stroke: #383838; stroke-width: 1.0;\"/><ellipse cx=\"178.3872\" cy=\"123.3851\" fill=\"#383838\" rx=\"2\" ry=\"2\" style=\"stroke: #383838; stroke-width: 1.0;\"/></a><!--MD5=[85d356282659285ab4b2cfe2f634dd2b]\n",
       "reverse link E5 to E6--><a href=\"psysml:5ab2eb8f-0a8a-4f0f-b519-13b72bd8ef83\" target=\"_top\" title=\"psysml:5ab2eb8f-0a8a-4f0f-b519-13b72bd8ef83\" xlink:actuate=\"onRequest\" xlink:href=\"psysml:5ab2eb8f-0a8a-4f0f-b519-13b72bd8ef83\" xlink:show=\"new\" xlink:title=\"psysml:5ab2eb8f-0a8a-4f0f-b519-13b72bd8ef83\" xlink:type=\"simple\"><path d=\"M127.93,99.96 C124.34,115.51 120.23,133.33 117.08,146.98 \" fill=\"none\" id=\"E5&lt;-E6\" style=\"stroke: #383838; stroke-width: 1.0;\"/><polygon fill=\"#FFFFFF\" points=\"130.91,87.06,125.6616,92.0052,128.2078,98.7518,133.4562,93.8066,130.91,87.06\" style=\"stroke: #383838; stroke-width: 1.0;\"/><text fill=\"#000000\" font-family=\"sans-serif\" font-size=\"13\" lengthAdjust=\"spacingAndGlyphs\" textLength=\"8\" x=\"109.3703\" y=\"135.8709\">1</text></a><!--MD5=[f667431f98296947986a1a7595a31603]\n",
       "link E6 to E4--><a href=\"psysml:36152a88-3fda-40f3-9b03-bfa5e7f7b410\" target=\"_top\" title=\"psysml:36152a88-3fda-40f3-9b03-bfa5e7f7b410\" xlink:actuate=\"onRequest\" xlink:href=\"psysml:36152a88-3fda-40f3-9b03-bfa5e7f7b410\" xlink:show=\"new\" xlink:title=\"psysml:36152a88-3fda-40f3-9b03-bfa5e7f7b410\" xlink:type=\"simple\"><path d=\"M130.87,193.06 C141.97,206.02 156.28,222.74 169.08,237.7 \" fill=\"none\" id=\"E6-&gt;E4\" style=\"stroke: #383838; stroke-width: 1.0;\"/><polygon fill=\"#FFFFFF\" points=\"182.15,252.98,164.4809,243.0905,175.1204,233.9909,182.15,252.98\" style=\"stroke: #383838; stroke-width: 1.0;\"/><line style=\"stroke: #383838; stroke-width: 2.0;\" x1=\"162.011\" x2=\"172.6505\" y1=\"240.2026\" y2=\"231.1031\"/></a><!--MD5=[14ccda38c055a5c0da953d572bc50960]\n",
       "link E7 to E3--><a href=\"psysml:e547b523-e8e9-4ecd-8c51-8b63037972c5\" target=\"_top\" title=\"psysml:e547b523-e8e9-4ecd-8c51-8b63037972c5\" xlink:actuate=\"onRequest\" xlink:href=\"psysml:e547b523-e8e9-4ecd-8c51-8b63037972c5\" xlink:show=\"new\" xlink:title=\"psysml:e547b523-e8e9-4ecd-8c51-8b63037972c5\" xlink:type=\"simple\"><path d=\"M78.13,81.48 C98.32,95.86 128.25,117.18 153.52,135.18 \" fill=\"none\" id=\"E7-&gt;E3\" style=\"stroke: #383838; stroke-width: 1.0;\"/><polygon fill=\"#FFFFFF\" points=\"170.09,146.98,150.5533,141.6586,158.6755,130.2555,170.09,146.98\" style=\"stroke: #383838; stroke-width: 1.0;\"/><ellipse cx=\"147.0709\" cy=\"136.7227\" fill=\"#383838\" rx=\"2\" ry=\"2\" style=\"stroke: #383838; stroke-width: 1.0;\"/><ellipse cx=\"152.8725\" cy=\"128.5776\" fill=\"#383838\" rx=\"2\" ry=\"2\" style=\"stroke: #383838; stroke-width: 1.0;\"/></a><!--MD5=[dc164f5e8a733ab456ef1add180e9e34]\n",
       "reverse link E7 to E8--><a href=\"psysml:b237ade3-489d-4fd0-9379-0b86f0889901\" target=\"_top\" title=\"psysml:b237ade3-489d-4fd0-9379-0b86f0889901\" xlink:actuate=\"onRequest\" xlink:href=\"psysml:b237ade3-489d-4fd0-9379-0b86f0889901\" xlink:show=\"new\" xlink:title=\"psysml:b237ade3-489d-4fd0-9379-0b86f0889901\" xlink:type=\"simple\"><path d=\"M50.05,100.09 C51.65,143.61 62.25,216.5 72.75,252.9 \" fill=\"none\" id=\"E7&lt;-E8\" style=\"stroke: #383838; stroke-width: 1.0;\"/><polygon fill=\"#FFFFFF\" points=\"49.85,87.08,45.9362,93.1366,50.0216,99.0788,53.9354,93.0222,49.85,87.08\" style=\"stroke: #383838; stroke-width: 1.0;\"/><text fill=\"#000000\" font-family=\"sans-serif\" font-size=\"13\" lengthAdjust=\"spacingAndGlyphs\" textLength=\"8\" x=\"60.6516\" y=\"241.7694\">1</text></a><!--MD5=[dc164f5e8a733ab456ef1add180e9e34]\n",
       "reverse link E7 to E8--><a href=\"psysml:7018d996-601d-4a38-842d-acb296e8ea77\" target=\"_top\" title=\"psysml:7018d996-601d-4a38-842d-acb296e8ea77\" xlink:actuate=\"onRequest\" xlink:href=\"psysml:7018d996-601d-4a38-842d-acb296e8ea77\" xlink:show=\"new\" xlink:title=\"psysml:7018d996-601d-4a38-842d-acb296e8ea77\" xlink:type=\"simple\"><path d=\"M70.64,101.8 C81.15,145.5 90.39,216.97 89.63,252.9 \" fill=\"none\" id=\"E7&lt;-E8-1\" style=\"stroke: #383838; stroke-width: 1.0; stroke-dasharray: 7.0,7.0;\"/><ellipse cx=\"68.7794\" cy=\"94.813\" fill=\"#FFFFFF\" rx=\"8\" ry=\"8\" style=\"stroke: #383838; stroke-width: 1.0;\"/><line style=\"stroke: #383838; stroke-width: 1.0;\" x1=\"70.8289\" x2=\"66.73\" y1=\"102.5461\" y2=\"87.08\"/><line style=\"stroke: #383838; stroke-width: 1.0;\" x1=\"61.0464\" x2=\"76.5125\" y1=\"96.8625\" y2=\"92.7636\"/><text fill=\"#000000\" font-family=\"sans-serif\" font-size=\"13\" lengthAdjust=\"spacingAndGlyphs\" textLength=\"8\" x=\"92.2181\" y=\"241.7694\">1</text></a><!--MD5=[0a839d0f80c2d72d4b9b307f046d0de8]\n",
       "link E6 to E8--><a href=\"psysml:1ea7862a-7bab-4478-95a9-37aa2484c274\" target=\"_top\" title=\"psysml:1ea7862a-7bab-4478-95a9-37aa2484c274\" xlink:actuate=\"onRequest\" xlink:href=\"psysml:1ea7862a-7bab-4478-95a9-37aa2484c274\" xlink:show=\"new\" xlink:title=\"psysml:1ea7862a-7bab-4478-95a9-37aa2484c274\" xlink:type=\"simple\"><path d=\"M95.42,193.06 C87.86,210.7 81.23,235.34 79.29,252.98 \" fill=\"none\" id=\"E6-E8\" style=\"stroke: #383838; stroke-width: 3.0;\"/><text fill=\"#000000\" font-family=\"sans-serif\" font-size=\"13\" lengthAdjust=\"spacingAndGlyphs\" textLength=\"7\" x=\"78.9648\" y=\"241.8709\">*</text></a><!--MD5=[0a839d0f80c2d72d4b9b307f046d0de8]\n",
       "link E6 to E8--><a href=\"psysml:1e1521f0-84d2-4d6c-a787-5301105b41c5\" target=\"_top\" title=\"psysml:1e1521f0-84d2-4d6c-a787-5301105b41c5\" xlink:actuate=\"onRequest\" xlink:href=\"psysml:1e1521f0-84d2-4d6c-a787-5301105b41c5\" xlink:show=\"new\" xlink:title=\"psysml:1e1521f0-84d2-4d6c-a787-5301105b41c5\" xlink:type=\"simple\"><path d=\"M117.33,193.06 C115.55,210.7 108.92,235.34 101.2,252.98 \" fill=\"none\" id=\"E6-E8-1\" style=\"stroke: #383838; stroke-width: 3.0;\"/><text fill=\"#000000\" font-family=\"sans-serif\" font-size=\"13\" lengthAdjust=\"spacingAndGlyphs\" textLength=\"7\" x=\"97.8819\" y=\"241.8709\">*</text></a><!--MD5=[aa6f33f88c311511bf52d2a95a2216b7]\n",
       "@startuml\r\n",
       "skinparam monochrome true\r\n",
       "skinparam classbackgroundcolor white\r\n",
       "skinparam shadowing false\r\n",
       "skinparam wrapWidth 300\r\n",
       "hide circle\r\n",
       "\r\n",
       "package \"AliasTest\" as E1  [[psysml:c9a65f38-ba0f-435c-ac18-78f76b0c8149 ]]  {\r\n",
       "comp usage \"q\" as E2  <<(T,blue) attribute>> [[psysml:252bcdae-bf35-4751-96e5-d2689f20556e ]] {\r\n",
       "}\r\n",
       "comp def \"P1\" as E3  <<(T,blue) part def>> [[psysml:6d109465-d99f-46f9-9a55-615eadc52ec3 ]] {\r\n",
       "}\r\n",
       "comp usage \"porig1\" as E4  <<(T,blue) port>> [[psysml:07c215ea-3a50-4500-a498-5909961b01ab ]] {\r\n",
       "}\r\n",
       "comp usage \"p1: P1\" as E5  <<(T,blue) part>> [[psysml:4b72c15b-2565-4f84-9632-f618b5b9807b ]] {\r\n",
       "}\r\n",
       "comp usage \"po1\" as E6  <<(T,blue) port>> [[psysml:653cf2de-fd63-4b48-a4f2-812bd043bef4 ]] {\r\n",
       "}\r\n",
       "comp usage \"p2: P1\" as E7  <<(T,blue) part>> [[psysml:a2155965-1e3e-41f3-b3b0-5a1ed18f6b31 ]] {\r\n",
       "}\r\n",
       "comp usage \"pdest\" as E8  <<(T,blue) port>> [[psysml:44ed1293-6fc3-4c15-bfe8-a6e98039e875 ]] {\r\n",
       "}\r\n",
       "}\r\n",
       "E3 o- - \"1\"E4 [[psysml:c0c56757-3d44-421f-b231-ed3c3f6cca2a ]] \r\n",
       "E3 +.. \"1\"E4 [[psysml:baeef3bb-efbd-4f79-8bec-1b43bb5efd8f ]] \r\n",
       "E5 - -:|> E3 [[psysml:3c7344fe-e5a7-4cb3-b89e-76f05a842583 ]] \r\n",
       "E5 o- - \"1\"E6 [[psysml:5ab2eb8f-0a8a-4f0f-b519-13b72bd8ef83 ]] \r\n",
       "E6 - -||> E4 [[psysml:36152a88-3fda-40f3-9b03-bfa5e7f7b410 ]] \r\n",
       "E7 - -:|> E3 [[psysml:e547b523-e8e9-4ecd-8c51-8b63037972c5 ]] \r\n",
       "E7 o- - \"1\"E8 [[psysml:b237ade3-489d-4fd0-9379-0b86f0889901 ]] \r\n",
       "E7 +.. \"1\"E8 [[psysml:7018d996-601d-4a38-842d-acb296e8ea77 ]] \r\n",
       "E6 -[thickness=3]- \"*\"E8 [[psysml:1ea7862a-7bab-4478-95a9-37aa2484c274 ]] \r\n",
       "E6 -[thickness=3]- \"*\"E8 [[psysml:1e1521f0-84d2-4d6c-a787-5301105b41c5 ]] \r\n",
       "@enduml\r\n",
       "\n",
       "PlantUML version 1.2020.13(Sat Jun 13 12:26:38 UTC 2020)\n",
       "(EPL source distribution)\n",
       "Java Runtime: OpenJDK Runtime Environment\n",
       "JVM: OpenJDK 64-Bit Server VM\n",
       "Default Encoding: UTF-8\n",
       "Language: en\n",
       "Country: null\n",
       "--></g></svg>"
      ]
     },
     "execution_count": 38,
     "metadata": {},
     "output_type": "execute_result"
    }
   ],
   "source": [
    "%viz --style=\"DEFAULT\" --view=\"Tree\" \"AliasTest\""
   ]
  },
  {
   "cell_type": "code",
   "execution_count": 39,
   "id": "dcb45241",
   "metadata": {
    "execution": {
     "iopub.execute_input": "2021-10-03T08:30:12.487715Z",
     "iopub.status.busy": "2021-10-03T08:30:12.487282Z",
     "iopub.status.idle": "2021-10-03T08:30:12.492199Z",
     "shell.execute_reply": "2021-10-03T08:30:12.491852Z"
    }
   },
   "outputs": [
    {
     "data": {
      "image/svg+xml": [
       "<?xml version=\"1.0\" encoding=\"UTF-8\" standalone=\"no\"?><svg xmlns=\"http://www.w3.org/2000/svg\" xmlns:xlink=\"http://www.w3.org/1999/xlink\" contentScriptType=\"application/ecmascript\" contentStyleType=\"text/css\" height=\"12px\" preserveAspectRatio=\"none\" style=\"width:12px;height:12px;\" version=\"1.1\" viewBox=\"0 0 12 12\" width=\"12px\" zoomAndPan=\"magnify\"><defs/><g><!--MD5=[c5f280e076d0d61ccf4b0f27871bda1d]\n",
       "@startuml\r\n",
       "skinparam monochrome true\r\n",
       "skinparam classbackgroundcolor white\r\n",
       "skinparam shadowing false\r\n",
       "skinparam wrapWidth 300\r\n",
       "hide circle\r\n",
       "\r\n",
       "@enduml\r\n",
       "\n",
       "PlantUML version 1.2020.13(Sat Jun 13 12:26:38 UTC 2020)\n",
       "(EPL source distribution)\n",
       "Java Runtime: OpenJDK Runtime Environment\n",
       "JVM: OpenJDK 64-Bit Server VM\n",
       "Default Encoding: UTF-8\n",
       "Language: en\n",
       "Country: null\n",
       "--></g></svg>"
      ]
     },
     "execution_count": 39,
     "metadata": {},
     "output_type": "execute_result"
    }
   ],
   "source": [
    "%viz --style=\"DEFAULT\" --view=\"State\" \"AliasTest\""
   ]
  },
  {
   "cell_type": "code",
   "execution_count": 40,
   "id": "4c4ca646",
   "metadata": {
    "execution": {
     "iopub.execute_input": "2021-10-03T08:30:12.542199Z",
     "iopub.status.busy": "2021-10-03T08:30:12.541490Z",
     "iopub.status.idle": "2021-10-03T08:30:12.571979Z",
     "shell.execute_reply": "2021-10-03T08:30:12.571581Z"
    }
   },
   "outputs": [
    {
     "data": {
      "image/svg+xml": [
       "<?xml version=\"1.0\" encoding=\"UTF-8\" standalone=\"no\"?><svg xmlns=\"http://www.w3.org/2000/svg\" xmlns:xlink=\"http://www.w3.org/1999/xlink\" contentScriptType=\"application/ecmascript\" contentStyleType=\"text/css\" height=\"233px\" preserveAspectRatio=\"none\" style=\"width:474px;height:233px;\" version=\"1.1\" viewBox=\"0 0 474 233\" width=\"474px\" zoomAndPan=\"magnify\"><defs/><g><!--MD5=[fbc87193dbaf4d95561dea2c320d4a47]\n",
       "cluster E1--><a href=\"psysml:c9a65f38-ba0f-435c-ac18-78f76b0c8149\" target=\"_top\" title=\"psysml:c9a65f38-ba0f-435c-ac18-78f76b0c8149\" xlink:actuate=\"onRequest\" xlink:href=\"psysml:c9a65f38-ba0f-435c-ac18-78f76b0c8149\" xlink:show=\"new\" xlink:title=\"psysml:c9a65f38-ba0f-435c-ac18-78f76b0c8149\" xlink:type=\"simple\"><polygon fill=\"#FFFFFF\" points=\"16,6,84,6,91,28.2969,452,28.2969,452,221,16,221,16,6\" style=\"stroke: #000000; stroke-width: 1.5;\"/><line style=\"stroke: #000000; stroke-width: 1.5;\" x1=\"16\" x2=\"91\" y1=\"28.2969\" y2=\"28.2969\"/><text fill=\"#000000\" font-family=\"sans-serif\" font-size=\"14\" font-weight=\"bold\" lengthAdjust=\"spacingAndGlyphs\" textLength=\"62\" x=\"20\" y=\"20.9951\">AliasTest</text></a><!--MD5=[d5e69f78d87373223dbae638b30a9c99]\n",
       "cluster E3--><a href=\"psysml:6d109465-d99f-46f9-9a55-615eadc52ec3\" target=\"_top\" title=\"psysml:6d109465-d99f-46f9-9a55-615eadc52ec3\" xlink:actuate=\"onRequest\" xlink:href=\"psysml:6d109465-d99f-46f9-9a55-615eadc52ec3\" xlink:show=\"new\" xlink:title=\"psysml:6d109465-d99f-46f9-9a55-615eadc52ec3\" xlink:type=\"simple\"><rect fill=\"#FFFFFF\" height=\"90\" id=\"E3\" style=\"stroke: #383838; stroke-width: 1.5;\" width=\"83\" x=\"312\" y=\"64\"/><rect fill=\"#F8F8F8\" height=\"37.9375\" style=\"stroke: #383838; stroke-width: 1.5;\" width=\"83\" x=\"312\" y=\"64\"/><text fill=\"#000000\" font-family=\"sans-serif\" font-size=\"12\" font-style=\"italic\" lengthAdjust=\"spacingAndGlyphs\" textLength=\"64\" x=\"321.5\" y=\"80.1387\">«part def»</text><text fill=\"#000000\" font-family=\"sans-serif\" font-size=\"12\" lengthAdjust=\"spacingAndGlyphs\" textLength=\"16\" x=\"345.5\" y=\"94.1074\">P1</text></a><!--MD5=[14e3b0961a2654348d326746436168a1]\n",
       "cluster E6--><a href=\"psysml:4b72c15b-2565-4f84-9632-f618b5b9807b\" target=\"_top\" title=\"psysml:4b72c15b-2565-4f84-9632-f618b5b9807b\" xlink:actuate=\"onRequest\" xlink:href=\"psysml:4b72c15b-2565-4f84-9632-f618b5b9807b\" xlink:show=\"new\" xlink:title=\"psysml:4b72c15b-2565-4f84-9632-f618b5b9807b\" xlink:type=\"simple\"><rect fill=\"#FFFFFF\" height=\"82\" id=\"E6\" rx=\"10\" ry=\"10\" style=\"stroke: #383838; stroke-width: 1.5;\" width=\"98\" x=\"112\" y=\"64\"/><rect fill=\"#F8F8F8\" height=\"23.9688\" rx=\"10\" ry=\"10\" style=\"stroke: #F8F8F8; stroke-width: 1.5;\" width=\"98\" x=\"112\" y=\"64\"/><rect fill=\"#F8F8F8\" height=\"10\" style=\"stroke: #F8F8F8; stroke-width: 1.5;\" width=\"98\" x=\"112\" y=\"77.9688\"/><rect fill=\"none\" height=\"82\" id=\"E6\" rx=\"10\" ry=\"10\" style=\"stroke: #383838; stroke-width: 1.5;\" width=\"98\" x=\"112\" y=\"64\"/><text fill=\"#000000\" font-family=\"sans-serif\" font-size=\"12\" lengthAdjust=\"spacingAndGlyphs\" textLength=\"40\" x=\"141\" y=\"80.1387\">p1: P1</text><line style=\"stroke: #383838; stroke-width: 1.0;\" x1=\"112\" x2=\"210\" y1=\"87.9688\" y2=\"87.9688\"/></a><!--MD5=[55dfccfc6c49c2d10cd1bd2211a6c90c]\n",
       "cluster E8--><a href=\"psysml:a2155965-1e3e-41f3-b3b0-5a1ed18f6b31\" target=\"_top\" title=\"psysml:a2155965-1e3e-41f3-b3b0-5a1ed18f6b31\" xlink:actuate=\"onRequest\" xlink:href=\"psysml:a2155965-1e3e-41f3-b3b0-5a1ed18f6b31\" xlink:show=\"new\" xlink:title=\"psysml:a2155965-1e3e-41f3-b3b0-5a1ed18f6b31\" xlink:type=\"simple\"><rect fill=\"#FFFFFF\" height=\"84.5\" id=\"E8\" rx=\"10\" ry=\"10\" style=\"stroke: #383838; stroke-width: 1.5;\" width=\"83\" x=\"213\" y=\"120.5\"/><rect fill=\"#F8F8F8\" height=\"23.9688\" rx=\"10\" ry=\"10\" style=\"stroke: #F8F8F8; stroke-width: 1.5;\" width=\"83\" x=\"213\" y=\"120.5\"/><rect fill=\"#F8F8F8\" height=\"10\" style=\"stroke: #F8F8F8; stroke-width: 1.5;\" width=\"83\" x=\"213\" y=\"134.4688\"/><rect fill=\"none\" height=\"84.5\" id=\"E8\" rx=\"10\" ry=\"10\" style=\"stroke: #383838; stroke-width: 1.5;\" width=\"83\" x=\"213\" y=\"120.5\"/><text fill=\"#000000\" font-family=\"sans-serif\" font-size=\"12\" lengthAdjust=\"spacingAndGlyphs\" textLength=\"40\" x=\"234.5\" y=\"136.6387\">p2: P1</text><line style=\"stroke: #383838; stroke-width: 1.0;\" x1=\"213\" x2=\"296\" y1=\"144.4688\" y2=\"144.4688\"/></a><!--MD5=[b4997ac47864f28c2f74865a473b2911]\n",
       "class E2--><a href=\"psysml:252bcdae-bf35-4751-96e5-d2689f20556e\" target=\"_top\" title=\"psysml:252bcdae-bf35-4751-96e5-d2689f20556e\" xlink:actuate=\"onRequest\" xlink:href=\"psysml:252bcdae-bf35-4751-96e5-d2689f20556e\" xlink:show=\"new\" xlink:title=\"psysml:252bcdae-bf35-4751-96e5-d2689f20556e\" xlink:type=\"simple\"><rect fill=\"#FFFFFF\" height=\"45.9375\" id=\"E2\" rx=\"10\" ry=\"10\" style=\"stroke: #383838; stroke-width: 1.5;\" width=\"71\" x=\"32.5\" y=\"41\"/><text fill=\"#000000\" font-family=\"sans-serif\" font-size=\"12\" font-style=\"italic\" lengthAdjust=\"spacingAndGlyphs\" textLength=\"69\" x=\"33.5\" y=\"57.1387\">«attribute»</text><text fill=\"#000000\" font-family=\"sans-serif\" font-size=\"12\" lengthAdjust=\"spacingAndGlyphs\" textLength=\"8\" x=\"64\" y=\"71.1074\">q</text><line style=\"stroke: #383838; stroke-width: 1.5;\" x1=\"33.5\" x2=\"102.5\" y1=\"78.9375\" y2=\"78.9375\"/></a><text fill=\"#000000\" font-family=\"sans-serif\" font-size=\"14\" lengthAdjust=\"spacingAndGlyphs\" textLength=\"44\" x=\"308\" y=\"42.6982\">porig1</text><rect fill=\"#383838\" height=\"12\" style=\"stroke: #F8F8F8; stroke-width: 1.5;\" width=\"12\" x=\"324\" y=\"58\"/><text fill=\"#000000\" font-family=\"sans-serif\" font-size=\"14\" lengthAdjust=\"spacingAndGlyphs\" textLength=\"44\" x=\"355\" y=\"42.6982\">porig1</text><rect fill=\"#383838\" height=\"12\" style=\"stroke: #F8F8F8; stroke-width: 1.5;\" width=\"12\" x=\"371\" y=\"58\"/><text fill=\"#000000\" font-family=\"sans-serif\" font-size=\"14\" lengthAdjust=\"spacingAndGlyphs\" textLength=\"27\" x=\"178.5\" y=\"42.6982\">po1</text><rect fill=\"#383838\" height=\"12\" style=\"stroke: #F8F8F8; stroke-width: 1.5;\" width=\"12\" x=\"186\" y=\"58\"/><text fill=\"#000000\" font-family=\"sans-serif\" font-size=\"14\" lengthAdjust=\"spacingAndGlyphs\" textLength=\"40\" x=\"211\" y=\"99.1982\">pdest</text><rect fill=\"#383838\" height=\"12\" style=\"stroke: #F8F8F8; stroke-width: 1.5;\" width=\"12\" x=\"225\" y=\"114.5\"/><text fill=\"#000000\" font-family=\"sans-serif\" font-size=\"14\" lengthAdjust=\"spacingAndGlyphs\" textLength=\"40\" x=\"258\" y=\"99.1982\">pdest</text><rect fill=\"#383838\" height=\"12\" style=\"stroke: #F8F8F8; stroke-width: 1.5;\" width=\"12\" x=\"272\" y=\"114.5\"/><!--MD5=[1c0b9414cc86e0744215edee6abd8926]\n",
       "link E7 to E9--><a href=\"psysml:1ea7862a-7bab-4478-95a9-37aa2484c274\" target=\"_top\" title=\"psysml:1ea7862a-7bab-4478-95a9-37aa2484c274\" xlink:actuate=\"onRequest\" xlink:href=\"psysml:1ea7862a-7bab-4478-95a9-37aa2484c274\" xlink:show=\"new\" xlink:title=\"psysml:1ea7862a-7bab-4478-95a9-37aa2484c274\" xlink:type=\"simple\"><path d=\"M187.83,70.03 C188.72,81.73 210.14,110.34 224.83,117.73 \" fill=\"none\" id=\"E7-E9\" style=\"stroke: #383838; stroke-width: 3.0;\"/><text fill=\"#000000\" font-family=\"sans-serif\" font-size=\"13\" lengthAdjust=\"spacingAndGlyphs\" textLength=\"7\" x=\"209.8523\" y=\"106.3789\">*</text></a><!--MD5=[1c0b9414cc86e0744215edee6abd8926]\n",
       "link E7 to E9--><a href=\"psysml:1e1521f0-84d2-4d6c-a787-5301105b41c5\" target=\"_top\" title=\"psysml:1e1521f0-84d2-4d6c-a787-5301105b41c5\" xlink:actuate=\"onRequest\" xlink:href=\"psysml:1e1521f0-84d2-4d6c-a787-5301105b41c5\" xlink:show=\"new\" xlink:title=\"psysml:1e1521f0-84d2-4d6c-a787-5301105b41c5\" xlink:type=\"simple\"><path d=\"M198.05,66.57 C213.27,73.62 235.05,102.5 235.62,114.37 \" fill=\"none\" id=\"E7-E9-1\" style=\"stroke: #383838; stroke-width: 3.0;\"/><text fill=\"#000000\" font-family=\"sans-serif\" font-size=\"13\" lengthAdjust=\"spacingAndGlyphs\" textLength=\"7\" x=\"229.278\" y=\"103.4683\">*</text></a><!--MD5=[6502320dc433c58b8f07db7c7da8356d]\n",
       "@startuml\r\n",
       "skinparam ranksep 10\r\n",
       "skinparam rectangle {\r\n",
       " backgroundColor<<block>> LightGreen\r\n",
       "}\r\n",
       "skinparam monochrome true\r\n",
       "skinparam classbackgroundcolor white\r\n",
       "skinparam shadowing false\r\n",
       "skinparam wrapWidth 300\r\n",
       "hide circle\r\n",
       "\r\n",
       "package \"AliasTest\" as E1  [[psysml:c9a65f38-ba0f-435c-ac18-78f76b0c8149 ]]  {\r\n",
       "comp usage \"q\" as E2  <<(T,blue) attribute>> [[psysml:252bcdae-bf35-4751-96e5-d2689f20556e ]] {\r\n",
       "}\r\n",
       "rec def \"P1\" as E3  <<(T,blue) part def>> [[psysml:6d109465-d99f-46f9-9a55-615eadc52ec3 ]] {\r\n",
       "portin \"porig1\" as E4  <<(T,blue) port>> [[psysml:07c215ea-3a50-4500-a498-5909961b01ab ]] \r\n",
       "portin \"porig1\" as E5  <<(T,blue) port>> [[psysml:07c215ea-3a50-4500-a498-5909961b01ab ]] \r\n",
       "}\r\n",
       "rec usage \"p1: P1\" as E6  [[psysml:4b72c15b-2565-4f84-9632-f618b5b9807b ]] {\r\n",
       "portin \"po1\" as E7  <<(T,blue) port>> [[psysml:653cf2de-fd63-4b48-a4f2-812bd043bef4 ]] \r\n",
       "}\r\n",
       "rec usage \"p2: P1\" as E8  [[psysml:a2155965-1e3e-41f3-b3b0-5a1ed18f6b31 ]] {\r\n",
       "portin \"pdest\" as E9  <<(T,blue) port>> [[psysml:44ed1293-6fc3-4c15-bfe8-a6e98039e875 ]] \r\n",
       "portin \"pdest\" as E10  <<(T,blue) port>> [[psysml:44ed1293-6fc3-4c15-bfe8-a6e98039e875 ]] \r\n",
       "}\r\n",
       "}\r\n",
       "E7 -[thickness=3]- \"*\"E9 [[psysml:1ea7862a-7bab-4478-95a9-37aa2484c274 ]] \r\n",
       "E7 -[thickness=3]- \"*\"E9 [[psysml:1e1521f0-84d2-4d6c-a787-5301105b41c5 ]] \r\n",
       "@enduml\r\n",
       "\n",
       "PlantUML version 1.2020.13(Sat Jun 13 12:26:38 UTC 2020)\n",
       "(EPL source distribution)\n",
       "Java Runtime: OpenJDK Runtime Environment\n",
       "JVM: OpenJDK 64-Bit Server VM\n",
       "Default Encoding: UTF-8\n",
       "Language: en\n",
       "Country: null\n",
       "--></g></svg>"
      ]
     },
     "execution_count": 40,
     "metadata": {},
     "output_type": "execute_result"
    }
   ],
   "source": [
    "%viz --style=\"DEFAULT\" --view=\"Interconnection\" \"AliasTest\""
   ]
  },
  {
   "cell_type": "code",
   "execution_count": 41,
   "id": "4138f07c",
   "metadata": {
    "execution": {
     "iopub.execute_input": "2021-10-03T08:30:12.621248Z",
     "iopub.status.busy": "2021-10-03T08:30:12.620831Z",
     "iopub.status.idle": "2021-10-03T08:30:12.626559Z",
     "shell.execute_reply": "2021-10-03T08:30:12.626901Z"
    }
   },
   "outputs": [
    {
     "data": {
      "image/svg+xml": [
       "<?xml version=\"1.0\" encoding=\"UTF-8\" standalone=\"no\"?><svg xmlns=\"http://www.w3.org/2000/svg\" xmlns:xlink=\"http://www.w3.org/1999/xlink\" contentScriptType=\"application/ecmascript\" contentStyleType=\"text/css\" height=\"12px\" preserveAspectRatio=\"none\" style=\"width:12px;height:12px;\" version=\"1.1\" viewBox=\"0 0 12 12\" width=\"12px\" zoomAndPan=\"magnify\"><defs/><g><!--MD5=[388f21188e31bfdd97050473b19af356]\n",
       "@startuml\r\n",
       "skinparam ranksep 8\r\n",
       "skinparam monochrome true\r\n",
       "skinparam classbackgroundcolor white\r\n",
       "skinparam shadowing false\r\n",
       "skinparam wrapWidth 300\r\n",
       "hide circle\r\n",
       "\r\n",
       "@enduml\r\n",
       "\n",
       "PlantUML version 1.2020.13(Sat Jun 13 12:26:38 UTC 2020)\n",
       "(EPL source distribution)\n",
       "Java Runtime: OpenJDK Runtime Environment\n",
       "JVM: OpenJDK 64-Bit Server VM\n",
       "Default Encoding: UTF-8\n",
       "Language: en\n",
       "Country: null\n",
       "--></g></svg>"
      ]
     },
     "execution_count": 41,
     "metadata": {},
     "output_type": "execute_result"
    }
   ],
   "source": [
    "%viz --style=\"DEFAULT\" --view=\"Action\" \"AliasTest\""
   ]
  },
  {
   "cell_type": "code",
   "execution_count": 42,
   "id": "8d5b545b",
   "metadata": {
    "execution": {
     "iopub.execute_input": "2021-10-03T08:30:12.676391Z",
     "iopub.status.busy": "2021-10-03T08:30:12.675981Z",
     "iopub.status.idle": "2021-10-03T08:30:12.681683Z",
     "shell.execute_reply": "2021-10-03T08:30:12.681979Z"
    }
   },
   "outputs": [
    {
     "data": {
      "image/svg+xml": [
       "<?xml version=\"1.0\" encoding=\"UTF-8\" standalone=\"no\"?><svg xmlns=\"http://www.w3.org/2000/svg\" xmlns:xlink=\"http://www.w3.org/1999/xlink\" contentScriptType=\"application/ecmascript\" contentStyleType=\"text/css\" height=\"12px\" preserveAspectRatio=\"none\" style=\"width:12px;height:12px;\" version=\"1.1\" viewBox=\"0 0 12 12\" width=\"12px\" zoomAndPan=\"magnify\"><defs/><g><!--MD5=[0b72472770326784bf6c2b53246e1e64]\n",
       "@startuml\r\n",
       "skinparam roundcorner 20\r\n",
       "skinparam BoxPadding 20\r\n",
       "skinparam SequenceBoxBackgroundColor #white\r\n",
       "skinparam style strictuml\r\n",
       "skinparam maxMessageSize 100\r\n",
       "skinparam monochrome true\r\n",
       "skinparam classbackgroundcolor white\r\n",
       "skinparam shadowing false\r\n",
       "skinparam wrapWidth 300\r\n",
       "hide circle\r\n",
       "\r\n",
       "@enduml\r\n",
       "\n",
       "PlantUML version 1.2020.13(Sat Jun 13 12:26:38 UTC 2020)\n",
       "(EPL source distribution)\n",
       "Java Runtime: OpenJDK Runtime Environment\n",
       "JVM: OpenJDK 64-Bit Server VM\n",
       "Default Encoding: UTF-8\n",
       "Language: en\n",
       "Country: null\n",
       "--></g></svg>"
      ]
     },
     "execution_count": 42,
     "metadata": {},
     "output_type": "execute_result"
    }
   ],
   "source": [
    "%viz --style=\"DEFAULT\" --view=\"Sequence\" \"AliasTest\""
   ]
  },
  {
   "cell_type": "code",
   "execution_count": 43,
   "id": "5d02af82",
   "metadata": {
    "execution": {
     "iopub.execute_input": "2021-10-03T08:30:12.731643Z",
     "iopub.status.busy": "2021-10-03T08:30:12.731238Z",
     "iopub.status.idle": "2021-10-03T08:30:12.768022Z",
     "shell.execute_reply": "2021-10-03T08:30:12.767648Z"
    }
   },
   "outputs": [
    {
     "data": {
      "image/svg+xml": [
       "<?xml version=\"1.0\" encoding=\"UTF-8\" standalone=\"no\"?><svg xmlns=\"http://www.w3.org/2000/svg\" xmlns:xlink=\"http://www.w3.org/1999/xlink\" contentScriptType=\"application/ecmascript\" contentStyleType=\"text/css\" height=\"327px\" preserveAspectRatio=\"none\" style=\"width:304px;height:327px;\" version=\"1.1\" viewBox=\"0 0 304 327\" width=\"304px\" zoomAndPan=\"magnify\"><defs/><g><!--MD5=[fbc87193dbaf4d95561dea2c320d4a47]\n",
       "cluster E1--><a href=\"psysml:c9a65f38-ba0f-435c-ac18-78f76b0c8149\" target=\"_top\" title=\"psysml:c9a65f38-ba0f-435c-ac18-78f76b0c8149\" xlink:actuate=\"onRequest\" xlink:href=\"psysml:c9a65f38-ba0f-435c-ac18-78f76b0c8149\" xlink:show=\"new\" xlink:title=\"psysml:c9a65f38-ba0f-435c-ac18-78f76b0c8149\" xlink:type=\"simple\"><polygon fill=\"#FFFFFF\" points=\"16,6,84,6,91,28.2969,282,28.2969,282,315,16,315,16,6\" style=\"stroke: #000000; stroke-width: 1.5;\"/><line style=\"stroke: #000000; stroke-width: 1.5;\" x1=\"16\" x2=\"91\" y1=\"28.2969\" y2=\"28.2969\"/><text fill=\"#000000\" font-family=\"sans-serif\" font-size=\"14\" font-weight=\"bold\" lengthAdjust=\"spacingAndGlyphs\" textLength=\"62\" x=\"20\" y=\"20.9951\">AliasTest</text></a><!--MD5=[b4997ac47864f28c2f74865a473b2911]\n",
       "class E2--><a href=\"psysml:252bcdae-bf35-4751-96e5-d2689f20556e\" target=\"_top\" title=\"psysml:252bcdae-bf35-4751-96e5-d2689f20556e\" xlink:actuate=\"onRequest\" xlink:href=\"psysml:252bcdae-bf35-4751-96e5-d2689f20556e\" xlink:show=\"new\" xlink:title=\"psysml:252bcdae-bf35-4751-96e5-d2689f20556e\" xlink:type=\"simple\"><rect fill=\"#FFFFFF\" height=\"45.9375\" id=\"E2\" rx=\"10\" ry=\"10\" style=\"stroke: #383838; stroke-width: 1.5;\" width=\"71\" x=\"194.5\" y=\"41\"/><text fill=\"#000000\" font-family=\"sans-serif\" font-size=\"12\" font-style=\"italic\" lengthAdjust=\"spacingAndGlyphs\" textLength=\"69\" x=\"195.5\" y=\"57.1387\">«attribute»</text><text fill=\"#000000\" font-family=\"sans-serif\" font-size=\"12\" lengthAdjust=\"spacingAndGlyphs\" textLength=\"8\" x=\"226\" y=\"71.1074\">q</text><line style=\"stroke: #383838; stroke-width: 1.5;\" x1=\"195.5\" x2=\"264.5\" y1=\"78.9375\" y2=\"78.9375\"/></a><!--MD5=[09b614a08d8cba4a07c9adeb5e0fee81]\n",
       "class E3--><a href=\"psysml:6d109465-d99f-46f9-9a55-615eadc52ec3\" target=\"_top\" title=\"psysml:6d109465-d99f-46f9-9a55-615eadc52ec3\" xlink:actuate=\"onRequest\" xlink:href=\"psysml:6d109465-d99f-46f9-9a55-615eadc52ec3\" xlink:show=\"new\" xlink:title=\"psysml:6d109465-d99f-46f9-9a55-615eadc52ec3\" xlink:type=\"simple\"><rect fill=\"#FFFFFF\" height=\"45.9375\" id=\"E3\" style=\"stroke: #383838; stroke-width: 1.5;\" width=\"66\" x=\"168\" y=\"147\"/><text fill=\"#000000\" font-family=\"sans-serif\" font-size=\"12\" font-style=\"italic\" lengthAdjust=\"spacingAndGlyphs\" textLength=\"64\" x=\"169\" y=\"163.1387\">«part def»</text><text fill=\"#000000\" font-family=\"sans-serif\" font-size=\"12\" lengthAdjust=\"spacingAndGlyphs\" textLength=\"16\" x=\"193\" y=\"177.1074\">P1</text><line style=\"stroke: #383838; stroke-width: 1.5;\" x1=\"169\" x2=\"233\" y1=\"184.9375\" y2=\"184.9375\"/></a><!--MD5=[ebbe1d658d1005bcc118a6aa81145e00]\n",
       "class E4--><a href=\"psysml:07c215ea-3a50-4500-a498-5909961b01ab\" target=\"_top\" title=\"psysml:07c215ea-3a50-4500-a498-5909961b01ab\" xlink:actuate=\"onRequest\" xlink:href=\"psysml:07c215ea-3a50-4500-a498-5909961b01ab\" xlink:show=\"new\" xlink:title=\"psysml:07c215ea-3a50-4500-a498-5909961b01ab\" xlink:type=\"simple\"><rect fill=\"#FFFFFF\" height=\"45.9375\" id=\"E4\" rx=\"10\" ry=\"10\" style=\"stroke: #383838; stroke-width: 1.5;\" width=\"46\" x=\"178\" y=\"253\"/><text fill=\"#000000\" font-family=\"sans-serif\" font-size=\"12\" font-style=\"italic\" lengthAdjust=\"spacingAndGlyphs\" textLength=\"40\" x=\"181\" y=\"269.1387\">«port»</text><text fill=\"#000000\" font-family=\"sans-serif\" font-size=\"12\" lengthAdjust=\"spacingAndGlyphs\" textLength=\"40\" x=\"181\" y=\"283.1074\">porig1</text><line style=\"stroke: #383838; stroke-width: 1.5;\" x1=\"179\" x2=\"223\" y1=\"290.9375\" y2=\"290.9375\"/></a><!--MD5=[270fce915f116d4de14055a7c1d9a0f3]\n",
       "class E5--><a href=\"psysml:4b72c15b-2565-4f84-9632-f618b5b9807b\" target=\"_top\" title=\"psysml:4b72c15b-2565-4f84-9632-f618b5b9807b\" xlink:actuate=\"onRequest\" xlink:href=\"psysml:4b72c15b-2565-4f84-9632-f618b5b9807b\" xlink:show=\"new\" xlink:title=\"psysml:4b72c15b-2565-4f84-9632-f618b5b9807b\" xlink:type=\"simple\"><rect fill=\"#FFFFFF\" height=\"45.9375\" id=\"E5\" rx=\"10\" ry=\"10\" style=\"stroke: #383838; stroke-width: 1.5;\" width=\"46\" x=\"113\" y=\"41\"/><text fill=\"#000000\" font-family=\"sans-serif\" font-size=\"12\" font-style=\"italic\" lengthAdjust=\"spacingAndGlyphs\" textLength=\"40\" x=\"116\" y=\"57.1387\">«part»</text><text fill=\"#000000\" font-family=\"sans-serif\" font-size=\"12\" lengthAdjust=\"spacingAndGlyphs\" textLength=\"40\" x=\"116\" y=\"71.1074\">p1: P1</text><line style=\"stroke: #383838; stroke-width: 1.5;\" x1=\"114\" x2=\"158\" y1=\"78.9375\" y2=\"78.9375\"/></a><!--MD5=[60a26617385b1d2d0262a64233df1f8d]\n",
       "class E6--><a href=\"psysml:653cf2de-fd63-4b48-a4f2-812bd043bef4\" target=\"_top\" title=\"psysml:653cf2de-fd63-4b48-a4f2-812bd043bef4\" xlink:actuate=\"onRequest\" xlink:href=\"psysml:653cf2de-fd63-4b48-a4f2-812bd043bef4\" xlink:show=\"new\" xlink:title=\"psysml:653cf2de-fd63-4b48-a4f2-812bd043bef4\" xlink:type=\"simple\"><rect fill=\"#FFFFFF\" height=\"45.9375\" id=\"E6\" rx=\"10\" ry=\"10\" style=\"stroke: #383838; stroke-width: 1.5;\" width=\"42\" x=\"91\" y=\"147\"/><text fill=\"#000000\" font-family=\"sans-serif\" font-size=\"12\" font-style=\"italic\" lengthAdjust=\"spacingAndGlyphs\" textLength=\"40\" x=\"92\" y=\"163.1387\">«port»</text><text fill=\"#000000\" font-family=\"sans-serif\" font-size=\"12\" lengthAdjust=\"spacingAndGlyphs\" textLength=\"24\" x=\"100\" y=\"177.1074\">po1</text><line style=\"stroke: #383838; stroke-width: 1.5;\" x1=\"92\" x2=\"132\" y1=\"184.9375\" y2=\"184.9375\"/></a><!--MD5=[2156ba9850f5573cc1fc38a6a4b2f02b]\n",
       "class E7--><a href=\"psysml:a2155965-1e3e-41f3-b3b0-5a1ed18f6b31\" target=\"_top\" title=\"psysml:a2155965-1e3e-41f3-b3b0-5a1ed18f6b31\" xlink:actuate=\"onRequest\" xlink:href=\"psysml:a2155965-1e3e-41f3-b3b0-5a1ed18f6b31\" xlink:show=\"new\" xlink:title=\"psysml:a2155965-1e3e-41f3-b3b0-5a1ed18f6b31\" xlink:type=\"simple\"><rect fill=\"#FFFFFF\" height=\"45.9375\" id=\"E7\" rx=\"10\" ry=\"10\" style=\"stroke: #383838; stroke-width: 1.5;\" width=\"46\" x=\"32\" y=\"41\"/><text fill=\"#000000\" font-family=\"sans-serif\" font-size=\"12\" font-style=\"italic\" lengthAdjust=\"spacingAndGlyphs\" textLength=\"40\" x=\"35\" y=\"57.1387\">«part»</text><text fill=\"#000000\" font-family=\"sans-serif\" font-size=\"12\" lengthAdjust=\"spacingAndGlyphs\" textLength=\"40\" x=\"35\" y=\"71.1074\">p2: P1</text><line style=\"stroke: #383838; stroke-width: 1.5;\" x1=\"33\" x2=\"77\" y1=\"78.9375\" y2=\"78.9375\"/></a><!--MD5=[b9389687b975829384b498ac4b7476b2]\n",
       "class E8--><a href=\"psysml:44ed1293-6fc3-4c15-bfe8-a6e98039e875\" target=\"_top\" title=\"psysml:44ed1293-6fc3-4c15-bfe8-a6e98039e875\" xlink:actuate=\"onRequest\" xlink:href=\"psysml:44ed1293-6fc3-4c15-bfe8-a6e98039e875\" xlink:show=\"new\" xlink:title=\"psysml:44ed1293-6fc3-4c15-bfe8-a6e98039e875\" xlink:type=\"simple\"><rect fill=\"#FFFFFF\" height=\"45.9375\" id=\"E8\" rx=\"10\" ry=\"10\" style=\"stroke: #383838; stroke-width: 1.5;\" width=\"42\" x=\"63\" y=\"253\"/><text fill=\"#000000\" font-family=\"sans-serif\" font-size=\"12\" font-style=\"italic\" lengthAdjust=\"spacingAndGlyphs\" textLength=\"40\" x=\"64\" y=\"269.1387\">«port»</text><text fill=\"#000000\" font-family=\"sans-serif\" font-size=\"12\" lengthAdjust=\"spacingAndGlyphs\" textLength=\"36\" x=\"66\" y=\"283.1074\">pdest</text><line style=\"stroke: #383838; stroke-width: 1.5;\" x1=\"64\" x2=\"104\" y1=\"290.9375\" y2=\"290.9375\"/></a><!--MD5=[4672eba38e49728da53d11aeb285b987]\n",
       "reverse link E3 to E4--><a href=\"psysml:c0c56757-3d44-421f-b231-ed3c3f6cca2a\" target=\"_top\" title=\"psysml:c0c56757-3d44-421f-b231-ed3c3f6cca2a\" xlink:actuate=\"onRequest\" xlink:href=\"psysml:c0c56757-3d44-421f-b231-ed3c3f6cca2a\" xlink:show=\"new\" xlink:title=\"psysml:c0c56757-3d44-421f-b231-ed3c3f6cca2a\" xlink:type=\"simple\"><path d=\"M188.84,206.44 C187.7,221.87 188.21,239.47 190.36,252.98 \" fill=\"none\" id=\"E3&lt;-E4\" style=\"stroke: #383838; stroke-width: 1.0;\"/><polygon fill=\"#FFFFFF\" points=\"190.35,193.06,185.7032,198.5743,189.006,204.9845,193.6528,199.4702,190.35,193.06\" style=\"stroke: #383838; stroke-width: 1.0;\"/><text fill=\"#000000\" font-family=\"sans-serif\" font-size=\"13\" lengthAdjust=\"spacingAndGlyphs\" textLength=\"8\" x=\"178.4255\" y=\"241.8709\">1</text></a><!--MD5=[4672eba38e49728da53d11aeb285b987]\n",
       "reverse link E3 to E4--><a href=\"psysml:baeef3bb-efbd-4f79-8bec-1b43bb5efd8f\" target=\"_top\" title=\"psysml:baeef3bb-efbd-4f79-8bec-1b43bb5efd8f\" xlink:actuate=\"onRequest\" xlink:href=\"psysml:baeef3bb-efbd-4f79-8bec-1b43bb5efd8f\" xlink:show=\"new\" xlink:title=\"psysml:baeef3bb-efbd-4f79-8bec-1b43bb5efd8f\" xlink:type=\"simple\"><path d=\"M214.01,208.34 C215.03,223.3 214.45,240.02 212.27,252.98 \" fill=\"none\" id=\"E3&lt;-E4-1\" style=\"stroke: #383838; stroke-width: 1.0; stroke-dasharray: 7.0,7.0;\"/><ellipse cx=\"213.1693\" cy=\"201.0093\" fill=\"#FFFFFF\" rx=\"8\" ry=\"8\" style=\"stroke: #383838; stroke-width: 1.0;\"/><line style=\"stroke: #383838; stroke-width: 1.0;\" x1=\"214.0687\" x2=\"212.27\" y1=\"208.9586\" y2=\"193.06\"/><line style=\"stroke: #383838; stroke-width: 1.0;\" x1=\"205.2201\" x2=\"221.1186\" y1=\"201.9086\" y2=\"200.1099\"/><text fill=\"#000000\" font-family=\"sans-serif\" font-size=\"13\" lengthAdjust=\"spacingAndGlyphs\" textLength=\"8\" x=\"206.2238\" y=\"241.8709\">1</text></a><!--MD5=[e9be52314489bd878ff4c7144b63c9e1]\n",
       "link E5 to E3--><a href=\"psysml:3c7344fe-e5a7-4cb3-b89e-76f05a842583\" target=\"_top\" title=\"psysml:3c7344fe-e5a7-4cb3-b89e-76f05a842583\" xlink:actuate=\"onRequest\" xlink:href=\"psysml:3c7344fe-e5a7-4cb3-b89e-76f05a842583\" xlink:show=\"new\" xlink:title=\"psysml:3c7344fe-e5a7-4cb3-b89e-76f05a842583\" xlink:type=\"simple\"><path d=\"M149.78,87.06 C157.54,99.47 167.45,115.33 176.49,129.78 \" fill=\"none\" id=\"E5-&gt;E3\" style=\"stroke: #383838; stroke-width: 1.0;\"/><polygon fill=\"#FFFFFF\" points=\"187.24,146.98,171.2331,134.5792,183.1045,127.1584,187.24,146.98\" style=\"stroke: #383838; stroke-width: 1.0;\"/><ellipse cx=\"169.9076\" cy=\"128.6857\" fill=\"#383838\" rx=\"2\" ry=\"2\" style=\"stroke: #383838; stroke-width: 1.0;\"/><ellipse cx=\"178.3872\" cy=\"123.3851\" fill=\"#383838\" rx=\"2\" ry=\"2\" style=\"stroke: #383838; stroke-width: 1.0;\"/></a><!--MD5=[85d356282659285ab4b2cfe2f634dd2b]\n",
       "reverse link E5 to E6--><a href=\"psysml:5ab2eb8f-0a8a-4f0f-b519-13b72bd8ef83\" target=\"_top\" title=\"psysml:5ab2eb8f-0a8a-4f0f-b519-13b72bd8ef83\" xlink:actuate=\"onRequest\" xlink:href=\"psysml:5ab2eb8f-0a8a-4f0f-b519-13b72bd8ef83\" xlink:show=\"new\" xlink:title=\"psysml:5ab2eb8f-0a8a-4f0f-b519-13b72bd8ef83\" xlink:type=\"simple\"><path d=\"M127.93,99.96 C124.34,115.51 120.23,133.33 117.08,146.98 \" fill=\"none\" id=\"E5&lt;-E6\" style=\"stroke: #383838; stroke-width: 1.0;\"/><polygon fill=\"#FFFFFF\" points=\"130.91,87.06,125.6616,92.0052,128.2078,98.7518,133.4562,93.8066,130.91,87.06\" style=\"stroke: #383838; stroke-width: 1.0;\"/><text fill=\"#000000\" font-family=\"sans-serif\" font-size=\"13\" lengthAdjust=\"spacingAndGlyphs\" textLength=\"8\" x=\"109.3703\" y=\"135.8709\">1</text></a><!--MD5=[f667431f98296947986a1a7595a31603]\n",
       "link E6 to E4--><a href=\"psysml:36152a88-3fda-40f3-9b03-bfa5e7f7b410\" target=\"_top\" title=\"psysml:36152a88-3fda-40f3-9b03-bfa5e7f7b410\" xlink:actuate=\"onRequest\" xlink:href=\"psysml:36152a88-3fda-40f3-9b03-bfa5e7f7b410\" xlink:show=\"new\" xlink:title=\"psysml:36152a88-3fda-40f3-9b03-bfa5e7f7b410\" xlink:type=\"simple\"><path d=\"M130.87,193.06 C141.97,206.02 156.28,222.74 169.08,237.7 \" fill=\"none\" id=\"E6-&gt;E4\" style=\"stroke: #383838; stroke-width: 1.0;\"/><polygon fill=\"#FFFFFF\" points=\"182.15,252.98,164.4809,243.0905,175.1204,233.9909,182.15,252.98\" style=\"stroke: #383838; stroke-width: 1.0;\"/><line style=\"stroke: #383838; stroke-width: 2.0;\" x1=\"162.011\" x2=\"172.6505\" y1=\"240.2026\" y2=\"231.1031\"/></a><!--MD5=[14ccda38c055a5c0da953d572bc50960]\n",
       "link E7 to E3--><a href=\"psysml:e547b523-e8e9-4ecd-8c51-8b63037972c5\" target=\"_top\" title=\"psysml:e547b523-e8e9-4ecd-8c51-8b63037972c5\" xlink:actuate=\"onRequest\" xlink:href=\"psysml:e547b523-e8e9-4ecd-8c51-8b63037972c5\" xlink:show=\"new\" xlink:title=\"psysml:e547b523-e8e9-4ecd-8c51-8b63037972c5\" xlink:type=\"simple\"><path d=\"M78.13,81.48 C98.32,95.86 128.25,117.18 153.52,135.18 \" fill=\"none\" id=\"E7-&gt;E3\" style=\"stroke: #383838; stroke-width: 1.0;\"/><polygon fill=\"#FFFFFF\" points=\"170.09,146.98,150.5533,141.6586,158.6755,130.2555,170.09,146.98\" style=\"stroke: #383838; stroke-width: 1.0;\"/><ellipse cx=\"147.0709\" cy=\"136.7227\" fill=\"#383838\" rx=\"2\" ry=\"2\" style=\"stroke: #383838; stroke-width: 1.0;\"/><ellipse cx=\"152.8725\" cy=\"128.5776\" fill=\"#383838\" rx=\"2\" ry=\"2\" style=\"stroke: #383838; stroke-width: 1.0;\"/></a><!--MD5=[dc164f5e8a733ab456ef1add180e9e34]\n",
       "reverse link E7 to E8--><a href=\"psysml:b237ade3-489d-4fd0-9379-0b86f0889901\" target=\"_top\" title=\"psysml:b237ade3-489d-4fd0-9379-0b86f0889901\" xlink:actuate=\"onRequest\" xlink:href=\"psysml:b237ade3-489d-4fd0-9379-0b86f0889901\" xlink:show=\"new\" xlink:title=\"psysml:b237ade3-489d-4fd0-9379-0b86f0889901\" xlink:type=\"simple\"><path d=\"M50.05,100.09 C51.65,143.61 62.25,216.5 72.75,252.9 \" fill=\"none\" id=\"E7&lt;-E8\" style=\"stroke: #383838; stroke-width: 1.0;\"/><polygon fill=\"#FFFFFF\" points=\"49.85,87.08,45.9362,93.1366,50.0216,99.0788,53.9354,93.0222,49.85,87.08\" style=\"stroke: #383838; stroke-width: 1.0;\"/><text fill=\"#000000\" font-family=\"sans-serif\" font-size=\"13\" lengthAdjust=\"spacingAndGlyphs\" textLength=\"8\" x=\"60.6516\" y=\"241.7694\">1</text></a><!--MD5=[dc164f5e8a733ab456ef1add180e9e34]\n",
       "reverse link E7 to E8--><a href=\"psysml:7018d996-601d-4a38-842d-acb296e8ea77\" target=\"_top\" title=\"psysml:7018d996-601d-4a38-842d-acb296e8ea77\" xlink:actuate=\"onRequest\" xlink:href=\"psysml:7018d996-601d-4a38-842d-acb296e8ea77\" xlink:show=\"new\" xlink:title=\"psysml:7018d996-601d-4a38-842d-acb296e8ea77\" xlink:type=\"simple\"><path d=\"M70.64,101.8 C81.15,145.5 90.39,216.97 89.63,252.9 \" fill=\"none\" id=\"E7&lt;-E8-1\" style=\"stroke: #383838; stroke-width: 1.0; stroke-dasharray: 7.0,7.0;\"/><ellipse cx=\"68.7794\" cy=\"94.813\" fill=\"#FFFFFF\" rx=\"8\" ry=\"8\" style=\"stroke: #383838; stroke-width: 1.0;\"/><line style=\"stroke: #383838; stroke-width: 1.0;\" x1=\"70.8289\" x2=\"66.73\" y1=\"102.5461\" y2=\"87.08\"/><line style=\"stroke: #383838; stroke-width: 1.0;\" x1=\"61.0464\" x2=\"76.5125\" y1=\"96.8625\" y2=\"92.7636\"/><text fill=\"#000000\" font-family=\"sans-serif\" font-size=\"13\" lengthAdjust=\"spacingAndGlyphs\" textLength=\"8\" x=\"92.2181\" y=\"241.7694\">1</text></a><!--MD5=[0a839d0f80c2d72d4b9b307f046d0de8]\n",
       "link E6 to E8--><a href=\"psysml:1ea7862a-7bab-4478-95a9-37aa2484c274\" target=\"_top\" title=\"psysml:1ea7862a-7bab-4478-95a9-37aa2484c274\" xlink:actuate=\"onRequest\" xlink:href=\"psysml:1ea7862a-7bab-4478-95a9-37aa2484c274\" xlink:show=\"new\" xlink:title=\"psysml:1ea7862a-7bab-4478-95a9-37aa2484c274\" xlink:type=\"simple\"><path d=\"M95.42,193.06 C87.86,210.7 81.23,235.34 79.29,252.98 \" fill=\"none\" id=\"E6-E8\" style=\"stroke: #383838; stroke-width: 3.0;\"/><text fill=\"#000000\" font-family=\"sans-serif\" font-size=\"13\" lengthAdjust=\"spacingAndGlyphs\" textLength=\"7\" x=\"78.9648\" y=\"241.8709\">*</text></a><!--MD5=[0a839d0f80c2d72d4b9b307f046d0de8]\n",
       "link E6 to E8--><a href=\"psysml:1e1521f0-84d2-4d6c-a787-5301105b41c5\" target=\"_top\" title=\"psysml:1e1521f0-84d2-4d6c-a787-5301105b41c5\" xlink:actuate=\"onRequest\" xlink:href=\"psysml:1e1521f0-84d2-4d6c-a787-5301105b41c5\" xlink:show=\"new\" xlink:title=\"psysml:1e1521f0-84d2-4d6c-a787-5301105b41c5\" xlink:type=\"simple\"><path d=\"M117.33,193.06 C115.55,210.7 108.92,235.34 101.2,252.98 \" fill=\"none\" id=\"E6-E8-1\" style=\"stroke: #383838; stroke-width: 3.0;\"/><text fill=\"#000000\" font-family=\"sans-serif\" font-size=\"13\" lengthAdjust=\"spacingAndGlyphs\" textLength=\"7\" x=\"97.8819\" y=\"241.8709\">*</text></a><!--MD5=[aa6f33f88c311511bf52d2a95a2216b7]\n",
       "@startuml\r\n",
       "skinparam monochrome true\r\n",
       "skinparam classbackgroundcolor white\r\n",
       "skinparam shadowing false\r\n",
       "skinparam wrapWidth 300\r\n",
       "hide circle\r\n",
       "\r\n",
       "package \"AliasTest\" as E1  [[psysml:c9a65f38-ba0f-435c-ac18-78f76b0c8149 ]]  {\r\n",
       "comp usage \"q\" as E2  <<(T,blue) attribute>> [[psysml:252bcdae-bf35-4751-96e5-d2689f20556e ]] {\r\n",
       "}\r\n",
       "comp def \"P1\" as E3  <<(T,blue) part def>> [[psysml:6d109465-d99f-46f9-9a55-615eadc52ec3 ]] {\r\n",
       "}\r\n",
       "comp usage \"porig1\" as E4  <<(T,blue) port>> [[psysml:07c215ea-3a50-4500-a498-5909961b01ab ]] {\r\n",
       "}\r\n",
       "comp usage \"p1: P1\" as E5  <<(T,blue) part>> [[psysml:4b72c15b-2565-4f84-9632-f618b5b9807b ]] {\r\n",
       "}\r\n",
       "comp usage \"po1\" as E6  <<(T,blue) port>> [[psysml:653cf2de-fd63-4b48-a4f2-812bd043bef4 ]] {\r\n",
       "}\r\n",
       "comp usage \"p2: P1\" as E7  <<(T,blue) part>> [[psysml:a2155965-1e3e-41f3-b3b0-5a1ed18f6b31 ]] {\r\n",
       "}\r\n",
       "comp usage \"pdest\" as E8  <<(T,blue) port>> [[psysml:44ed1293-6fc3-4c15-bfe8-a6e98039e875 ]] {\r\n",
       "}\r\n",
       "}\r\n",
       "E3 o- - \"1\"E4 [[psysml:c0c56757-3d44-421f-b231-ed3c3f6cca2a ]] \r\n",
       "E3 +.. \"1\"E4 [[psysml:baeef3bb-efbd-4f79-8bec-1b43bb5efd8f ]] \r\n",
       "E5 - -:|> E3 [[psysml:3c7344fe-e5a7-4cb3-b89e-76f05a842583 ]] \r\n",
       "E5 o- - \"1\"E6 [[psysml:5ab2eb8f-0a8a-4f0f-b519-13b72bd8ef83 ]] \r\n",
       "E6 - -||> E4 [[psysml:36152a88-3fda-40f3-9b03-bfa5e7f7b410 ]] \r\n",
       "E7 - -:|> E3 [[psysml:e547b523-e8e9-4ecd-8c51-8b63037972c5 ]] \r\n",
       "E7 o- - \"1\"E8 [[psysml:b237ade3-489d-4fd0-9379-0b86f0889901 ]] \r\n",
       "E7 +.. \"1\"E8 [[psysml:7018d996-601d-4a38-842d-acb296e8ea77 ]] \r\n",
       "E6 -[thickness=3]- \"*\"E8 [[psysml:1ea7862a-7bab-4478-95a9-37aa2484c274 ]] \r\n",
       "E6 -[thickness=3]- \"*\"E8 [[psysml:1e1521f0-84d2-4d6c-a787-5301105b41c5 ]] \r\n",
       "@enduml\r\n",
       "\n",
       "PlantUML version 1.2020.13(Sat Jun 13 12:26:38 UTC 2020)\n",
       "(EPL source distribution)\n",
       "Java Runtime: OpenJDK Runtime Environment\n",
       "JVM: OpenJDK 64-Bit Server VM\n",
       "Default Encoding: UTF-8\n",
       "Language: en\n",
       "Country: null\n",
       "--></g></svg>"
      ]
     },
     "execution_count": 43,
     "metadata": {},
     "output_type": "execute_result"
    }
   ],
   "source": [
    "%viz --style=\"DEFAULT\" --view=\"MIXED\" \"AliasTest\""
   ]
  },
  {
   "cell_type": "code",
   "execution_count": 44,
   "id": "44785947",
   "metadata": {
    "execution": {
     "iopub.execute_input": "2021-10-03T08:30:12.817171Z",
     "iopub.status.busy": "2021-10-03T08:30:12.816766Z",
     "iopub.status.idle": "2021-10-03T08:30:12.854002Z",
     "shell.execute_reply": "2021-10-03T08:30:12.853637Z"
    }
   },
   "outputs": [
    {
     "data": {
      "image/svg+xml": [
       "<?xml version=\"1.0\" encoding=\"UTF-8\" standalone=\"no\"?><svg xmlns=\"http://www.w3.org/2000/svg\" xmlns:xlink=\"http://www.w3.org/1999/xlink\" contentScriptType=\"application/ecmascript\" contentStyleType=\"text/css\" height=\"327px\" preserveAspectRatio=\"none\" style=\"width:304px;height:327px;\" version=\"1.1\" viewBox=\"0 0 304 327\" width=\"304px\" zoomAndPan=\"magnify\"><defs/><g><!--MD5=[fbc87193dbaf4d95561dea2c320d4a47]\n",
       "cluster E1--><a href=\"psysml:c9a65f38-ba0f-435c-ac18-78f76b0c8149\" target=\"_top\" title=\"psysml:c9a65f38-ba0f-435c-ac18-78f76b0c8149\" xlink:actuate=\"onRequest\" xlink:href=\"psysml:c9a65f38-ba0f-435c-ac18-78f76b0c8149\" xlink:show=\"new\" xlink:title=\"psysml:c9a65f38-ba0f-435c-ac18-78f76b0c8149\" xlink:type=\"simple\"><polygon fill=\"#FFFFFF\" points=\"16,6,84,6,91,28.2969,282,28.2969,282,315,16,315,16,6\" style=\"stroke: #000000; stroke-width: 1.5;\"/><line style=\"stroke: #000000; stroke-width: 1.5;\" x1=\"16\" x2=\"91\" y1=\"28.2969\" y2=\"28.2969\"/><text fill=\"#000000\" font-family=\"sans-serif\" font-size=\"14\" font-weight=\"bold\" lengthAdjust=\"spacingAndGlyphs\" textLength=\"62\" x=\"20\" y=\"20.9951\">AliasTest</text></a><!--MD5=[b4997ac47864f28c2f74865a473b2911]\n",
       "class E2--><a href=\"psysml:252bcdae-bf35-4751-96e5-d2689f20556e\" target=\"_top\" title=\"psysml:252bcdae-bf35-4751-96e5-d2689f20556e\" xlink:actuate=\"onRequest\" xlink:href=\"psysml:252bcdae-bf35-4751-96e5-d2689f20556e\" xlink:show=\"new\" xlink:title=\"psysml:252bcdae-bf35-4751-96e5-d2689f20556e\" xlink:type=\"simple\"><rect fill=\"#FFFFFF\" height=\"45.9375\" id=\"E2\" rx=\"10\" ry=\"10\" style=\"stroke: #383838; stroke-width: 1.5;\" width=\"71\" x=\"194.5\" y=\"41\"/><text fill=\"#000000\" font-family=\"sans-serif\" font-size=\"12\" font-style=\"italic\" lengthAdjust=\"spacingAndGlyphs\" textLength=\"69\" x=\"195.5\" y=\"57.1387\">«attribute»</text><text fill=\"#000000\" font-family=\"sans-serif\" font-size=\"12\" lengthAdjust=\"spacingAndGlyphs\" textLength=\"8\" x=\"226\" y=\"71.1074\">q</text><line style=\"stroke: #383838; stroke-width: 1.5;\" x1=\"195.5\" x2=\"264.5\" y1=\"78.9375\" y2=\"78.9375\"/></a><!--MD5=[09b614a08d8cba4a07c9adeb5e0fee81]\n",
       "class E3--><a href=\"psysml:6d109465-d99f-46f9-9a55-615eadc52ec3\" target=\"_top\" title=\"psysml:6d109465-d99f-46f9-9a55-615eadc52ec3\" xlink:actuate=\"onRequest\" xlink:href=\"psysml:6d109465-d99f-46f9-9a55-615eadc52ec3\" xlink:show=\"new\" xlink:title=\"psysml:6d109465-d99f-46f9-9a55-615eadc52ec3\" xlink:type=\"simple\"><rect fill=\"#FFFFFF\" height=\"45.9375\" id=\"E3\" style=\"stroke: #383838; stroke-width: 1.5;\" width=\"66\" x=\"168\" y=\"147\"/><text fill=\"#000000\" font-family=\"sans-serif\" font-size=\"12\" font-style=\"italic\" lengthAdjust=\"spacingAndGlyphs\" textLength=\"64\" x=\"169\" y=\"163.1387\">«part def»</text><text fill=\"#000000\" font-family=\"sans-serif\" font-size=\"12\" lengthAdjust=\"spacingAndGlyphs\" textLength=\"16\" x=\"193\" y=\"177.1074\">P1</text><line style=\"stroke: #383838; stroke-width: 1.5;\" x1=\"169\" x2=\"233\" y1=\"184.9375\" y2=\"184.9375\"/></a><!--MD5=[ebbe1d658d1005bcc118a6aa81145e00]\n",
       "class E4--><a href=\"psysml:07c215ea-3a50-4500-a498-5909961b01ab\" target=\"_top\" title=\"psysml:07c215ea-3a50-4500-a498-5909961b01ab\" xlink:actuate=\"onRequest\" xlink:href=\"psysml:07c215ea-3a50-4500-a498-5909961b01ab\" xlink:show=\"new\" xlink:title=\"psysml:07c215ea-3a50-4500-a498-5909961b01ab\" xlink:type=\"simple\"><rect fill=\"#FFFFFF\" height=\"45.9375\" id=\"E4\" rx=\"10\" ry=\"10\" style=\"stroke: #383838; stroke-width: 1.5;\" width=\"46\" x=\"178\" y=\"253\"/><text fill=\"#000000\" font-family=\"sans-serif\" font-size=\"12\" font-style=\"italic\" lengthAdjust=\"spacingAndGlyphs\" textLength=\"40\" x=\"181\" y=\"269.1387\">«port»</text><text fill=\"#000000\" font-family=\"sans-serif\" font-size=\"12\" lengthAdjust=\"spacingAndGlyphs\" textLength=\"40\" x=\"181\" y=\"283.1074\">porig1</text><line style=\"stroke: #383838; stroke-width: 1.5;\" x1=\"179\" x2=\"223\" y1=\"290.9375\" y2=\"290.9375\"/></a><!--MD5=[270fce915f116d4de14055a7c1d9a0f3]\n",
       "class E5--><a href=\"psysml:4b72c15b-2565-4f84-9632-f618b5b9807b\" target=\"_top\" title=\"psysml:4b72c15b-2565-4f84-9632-f618b5b9807b\" xlink:actuate=\"onRequest\" xlink:href=\"psysml:4b72c15b-2565-4f84-9632-f618b5b9807b\" xlink:show=\"new\" xlink:title=\"psysml:4b72c15b-2565-4f84-9632-f618b5b9807b\" xlink:type=\"simple\"><rect fill=\"#FFFFFF\" height=\"45.9375\" id=\"E5\" rx=\"10\" ry=\"10\" style=\"stroke: #383838; stroke-width: 1.5;\" width=\"46\" x=\"113\" y=\"41\"/><text fill=\"#000000\" font-family=\"sans-serif\" font-size=\"12\" font-style=\"italic\" lengthAdjust=\"spacingAndGlyphs\" textLength=\"40\" x=\"116\" y=\"57.1387\">«part»</text><text fill=\"#000000\" font-family=\"sans-serif\" font-size=\"12\" lengthAdjust=\"spacingAndGlyphs\" textLength=\"40\" x=\"116\" y=\"71.1074\">p1: P1</text><line style=\"stroke: #383838; stroke-width: 1.5;\" x1=\"114\" x2=\"158\" y1=\"78.9375\" y2=\"78.9375\"/></a><!--MD5=[60a26617385b1d2d0262a64233df1f8d]\n",
       "class E6--><a href=\"psysml:653cf2de-fd63-4b48-a4f2-812bd043bef4\" target=\"_top\" title=\"psysml:653cf2de-fd63-4b48-a4f2-812bd043bef4\" xlink:actuate=\"onRequest\" xlink:href=\"psysml:653cf2de-fd63-4b48-a4f2-812bd043bef4\" xlink:show=\"new\" xlink:title=\"psysml:653cf2de-fd63-4b48-a4f2-812bd043bef4\" xlink:type=\"simple\"><rect fill=\"#FFFFFF\" height=\"45.9375\" id=\"E6\" rx=\"10\" ry=\"10\" style=\"stroke: #383838; stroke-width: 1.5;\" width=\"42\" x=\"91\" y=\"147\"/><text fill=\"#000000\" font-family=\"sans-serif\" font-size=\"12\" font-style=\"italic\" lengthAdjust=\"spacingAndGlyphs\" textLength=\"40\" x=\"92\" y=\"163.1387\">«port»</text><text fill=\"#000000\" font-family=\"sans-serif\" font-size=\"12\" lengthAdjust=\"spacingAndGlyphs\" textLength=\"24\" x=\"100\" y=\"177.1074\">po1</text><line style=\"stroke: #383838; stroke-width: 1.5;\" x1=\"92\" x2=\"132\" y1=\"184.9375\" y2=\"184.9375\"/></a><!--MD5=[2156ba9850f5573cc1fc38a6a4b2f02b]\n",
       "class E7--><a href=\"psysml:a2155965-1e3e-41f3-b3b0-5a1ed18f6b31\" target=\"_top\" title=\"psysml:a2155965-1e3e-41f3-b3b0-5a1ed18f6b31\" xlink:actuate=\"onRequest\" xlink:href=\"psysml:a2155965-1e3e-41f3-b3b0-5a1ed18f6b31\" xlink:show=\"new\" xlink:title=\"psysml:a2155965-1e3e-41f3-b3b0-5a1ed18f6b31\" xlink:type=\"simple\"><rect fill=\"#FFFFFF\" height=\"45.9375\" id=\"E7\" rx=\"10\" ry=\"10\" style=\"stroke: #383838; stroke-width: 1.5;\" width=\"46\" x=\"32\" y=\"41\"/><text fill=\"#000000\" font-family=\"sans-serif\" font-size=\"12\" font-style=\"italic\" lengthAdjust=\"spacingAndGlyphs\" textLength=\"40\" x=\"35\" y=\"57.1387\">«part»</text><text fill=\"#000000\" font-family=\"sans-serif\" font-size=\"12\" lengthAdjust=\"spacingAndGlyphs\" textLength=\"40\" x=\"35\" y=\"71.1074\">p2: P1</text><line style=\"stroke: #383838; stroke-width: 1.5;\" x1=\"33\" x2=\"77\" y1=\"78.9375\" y2=\"78.9375\"/></a><!--MD5=[b9389687b975829384b498ac4b7476b2]\n",
       "class E8--><a href=\"psysml:44ed1293-6fc3-4c15-bfe8-a6e98039e875\" target=\"_top\" title=\"psysml:44ed1293-6fc3-4c15-bfe8-a6e98039e875\" xlink:actuate=\"onRequest\" xlink:href=\"psysml:44ed1293-6fc3-4c15-bfe8-a6e98039e875\" xlink:show=\"new\" xlink:title=\"psysml:44ed1293-6fc3-4c15-bfe8-a6e98039e875\" xlink:type=\"simple\"><rect fill=\"#FFFFFF\" height=\"45.9375\" id=\"E8\" rx=\"10\" ry=\"10\" style=\"stroke: #383838; stroke-width: 1.5;\" width=\"42\" x=\"63\" y=\"253\"/><text fill=\"#000000\" font-family=\"sans-serif\" font-size=\"12\" font-style=\"italic\" lengthAdjust=\"spacingAndGlyphs\" textLength=\"40\" x=\"64\" y=\"269.1387\">«port»</text><text fill=\"#000000\" font-family=\"sans-serif\" font-size=\"12\" lengthAdjust=\"spacingAndGlyphs\" textLength=\"36\" x=\"66\" y=\"283.1074\">pdest</text><line style=\"stroke: #383838; stroke-width: 1.5;\" x1=\"64\" x2=\"104\" y1=\"290.9375\" y2=\"290.9375\"/></a><!--MD5=[4672eba38e49728da53d11aeb285b987]\n",
       "reverse link E3 to E4--><a href=\"psysml:c0c56757-3d44-421f-b231-ed3c3f6cca2a\" target=\"_top\" title=\"psysml:c0c56757-3d44-421f-b231-ed3c3f6cca2a\" xlink:actuate=\"onRequest\" xlink:href=\"psysml:c0c56757-3d44-421f-b231-ed3c3f6cca2a\" xlink:show=\"new\" xlink:title=\"psysml:c0c56757-3d44-421f-b231-ed3c3f6cca2a\" xlink:type=\"simple\"><path d=\"M188.84,206.44 C187.7,221.87 188.21,239.47 190.36,252.98 \" fill=\"none\" id=\"E3&lt;-E4\" style=\"stroke: #383838; stroke-width: 1.0;\"/><polygon fill=\"#FFFFFF\" points=\"190.35,193.06,185.7032,198.5743,189.006,204.9845,193.6528,199.4702,190.35,193.06\" style=\"stroke: #383838; stroke-width: 1.0;\"/><text fill=\"#000000\" font-family=\"sans-serif\" font-size=\"13\" lengthAdjust=\"spacingAndGlyphs\" textLength=\"8\" x=\"178.4255\" y=\"241.8709\">1</text></a><!--MD5=[4672eba38e49728da53d11aeb285b987]\n",
       "reverse link E3 to E4--><a href=\"psysml:baeef3bb-efbd-4f79-8bec-1b43bb5efd8f\" target=\"_top\" title=\"psysml:baeef3bb-efbd-4f79-8bec-1b43bb5efd8f\" xlink:actuate=\"onRequest\" xlink:href=\"psysml:baeef3bb-efbd-4f79-8bec-1b43bb5efd8f\" xlink:show=\"new\" xlink:title=\"psysml:baeef3bb-efbd-4f79-8bec-1b43bb5efd8f\" xlink:type=\"simple\"><path d=\"M214.01,208.34 C215.03,223.3 214.45,240.02 212.27,252.98 \" fill=\"none\" id=\"E3&lt;-E4-1\" style=\"stroke: #383838; stroke-width: 1.0; stroke-dasharray: 7.0,7.0;\"/><ellipse cx=\"213.1693\" cy=\"201.0093\" fill=\"#FFFFFF\" rx=\"8\" ry=\"8\" style=\"stroke: #383838; stroke-width: 1.0;\"/><line style=\"stroke: #383838; stroke-width: 1.0;\" x1=\"214.0687\" x2=\"212.27\" y1=\"208.9586\" y2=\"193.06\"/><line style=\"stroke: #383838; stroke-width: 1.0;\" x1=\"205.2201\" x2=\"221.1186\" y1=\"201.9086\" y2=\"200.1099\"/><text fill=\"#000000\" font-family=\"sans-serif\" font-size=\"13\" lengthAdjust=\"spacingAndGlyphs\" textLength=\"8\" x=\"206.2238\" y=\"241.8709\">1</text></a><!--MD5=[e9be52314489bd878ff4c7144b63c9e1]\n",
       "link E5 to E3--><a href=\"psysml:3c7344fe-e5a7-4cb3-b89e-76f05a842583\" target=\"_top\" title=\"psysml:3c7344fe-e5a7-4cb3-b89e-76f05a842583\" xlink:actuate=\"onRequest\" xlink:href=\"psysml:3c7344fe-e5a7-4cb3-b89e-76f05a842583\" xlink:show=\"new\" xlink:title=\"psysml:3c7344fe-e5a7-4cb3-b89e-76f05a842583\" xlink:type=\"simple\"><path d=\"M149.78,87.06 C157.54,99.47 167.45,115.33 176.49,129.78 \" fill=\"none\" id=\"E5-&gt;E3\" style=\"stroke: #383838; stroke-width: 1.0;\"/><polygon fill=\"#FFFFFF\" points=\"187.24,146.98,171.2331,134.5792,183.1045,127.1584,187.24,146.98\" style=\"stroke: #383838; stroke-width: 1.0;\"/><ellipse cx=\"169.9076\" cy=\"128.6857\" fill=\"#383838\" rx=\"2\" ry=\"2\" style=\"stroke: #383838; stroke-width: 1.0;\"/><ellipse cx=\"178.3872\" cy=\"123.3851\" fill=\"#383838\" rx=\"2\" ry=\"2\" style=\"stroke: #383838; stroke-width: 1.0;\"/></a><!--MD5=[85d356282659285ab4b2cfe2f634dd2b]\n",
       "reverse link E5 to E6--><a href=\"psysml:5ab2eb8f-0a8a-4f0f-b519-13b72bd8ef83\" target=\"_top\" title=\"psysml:5ab2eb8f-0a8a-4f0f-b519-13b72bd8ef83\" xlink:actuate=\"onRequest\" xlink:href=\"psysml:5ab2eb8f-0a8a-4f0f-b519-13b72bd8ef83\" xlink:show=\"new\" xlink:title=\"psysml:5ab2eb8f-0a8a-4f0f-b519-13b72bd8ef83\" xlink:type=\"simple\"><path d=\"M127.93,99.96 C124.34,115.51 120.23,133.33 117.08,146.98 \" fill=\"none\" id=\"E5&lt;-E6\" style=\"stroke: #383838; stroke-width: 1.0;\"/><polygon fill=\"#FFFFFF\" points=\"130.91,87.06,125.6616,92.0052,128.2078,98.7518,133.4562,93.8066,130.91,87.06\" style=\"stroke: #383838; stroke-width: 1.0;\"/><text fill=\"#000000\" font-family=\"sans-serif\" font-size=\"13\" lengthAdjust=\"spacingAndGlyphs\" textLength=\"8\" x=\"109.3703\" y=\"135.8709\">1</text></a><!--MD5=[f667431f98296947986a1a7595a31603]\n",
       "link E6 to E4--><a href=\"psysml:36152a88-3fda-40f3-9b03-bfa5e7f7b410\" target=\"_top\" title=\"psysml:36152a88-3fda-40f3-9b03-bfa5e7f7b410\" xlink:actuate=\"onRequest\" xlink:href=\"psysml:36152a88-3fda-40f3-9b03-bfa5e7f7b410\" xlink:show=\"new\" xlink:title=\"psysml:36152a88-3fda-40f3-9b03-bfa5e7f7b410\" xlink:type=\"simple\"><path d=\"M130.87,193.06 C141.97,206.02 156.28,222.74 169.08,237.7 \" fill=\"none\" id=\"E6-&gt;E4\" style=\"stroke: #383838; stroke-width: 1.0;\"/><polygon fill=\"#FFFFFF\" points=\"182.15,252.98,164.4809,243.0905,175.1204,233.9909,182.15,252.98\" style=\"stroke: #383838; stroke-width: 1.0;\"/><line style=\"stroke: #383838; stroke-width: 2.0;\" x1=\"162.011\" x2=\"172.6505\" y1=\"240.2026\" y2=\"231.1031\"/></a><!--MD5=[14ccda38c055a5c0da953d572bc50960]\n",
       "link E7 to E3--><a href=\"psysml:e547b523-e8e9-4ecd-8c51-8b63037972c5\" target=\"_top\" title=\"psysml:e547b523-e8e9-4ecd-8c51-8b63037972c5\" xlink:actuate=\"onRequest\" xlink:href=\"psysml:e547b523-e8e9-4ecd-8c51-8b63037972c5\" xlink:show=\"new\" xlink:title=\"psysml:e547b523-e8e9-4ecd-8c51-8b63037972c5\" xlink:type=\"simple\"><path d=\"M78.13,81.48 C98.32,95.86 128.25,117.18 153.52,135.18 \" fill=\"none\" id=\"E7-&gt;E3\" style=\"stroke: #383838; stroke-width: 1.0;\"/><polygon fill=\"#FFFFFF\" points=\"170.09,146.98,150.5533,141.6586,158.6755,130.2555,170.09,146.98\" style=\"stroke: #383838; stroke-width: 1.0;\"/><ellipse cx=\"147.0709\" cy=\"136.7227\" fill=\"#383838\" rx=\"2\" ry=\"2\" style=\"stroke: #383838; stroke-width: 1.0;\"/><ellipse cx=\"152.8725\" cy=\"128.5776\" fill=\"#383838\" rx=\"2\" ry=\"2\" style=\"stroke: #383838; stroke-width: 1.0;\"/></a><!--MD5=[dc164f5e8a733ab456ef1add180e9e34]\n",
       "reverse link E7 to E8--><a href=\"psysml:b237ade3-489d-4fd0-9379-0b86f0889901\" target=\"_top\" title=\"psysml:b237ade3-489d-4fd0-9379-0b86f0889901\" xlink:actuate=\"onRequest\" xlink:href=\"psysml:b237ade3-489d-4fd0-9379-0b86f0889901\" xlink:show=\"new\" xlink:title=\"psysml:b237ade3-489d-4fd0-9379-0b86f0889901\" xlink:type=\"simple\"><path d=\"M50.05,100.09 C51.65,143.61 62.25,216.5 72.75,252.9 \" fill=\"none\" id=\"E7&lt;-E8\" style=\"stroke: #383838; stroke-width: 1.0;\"/><polygon fill=\"#FFFFFF\" points=\"49.85,87.08,45.9362,93.1366,50.0216,99.0788,53.9354,93.0222,49.85,87.08\" style=\"stroke: #383838; stroke-width: 1.0;\"/><text fill=\"#000000\" font-family=\"sans-serif\" font-size=\"13\" lengthAdjust=\"spacingAndGlyphs\" textLength=\"8\" x=\"60.6516\" y=\"241.7694\">1</text></a><!--MD5=[dc164f5e8a733ab456ef1add180e9e34]\n",
       "reverse link E7 to E8--><a href=\"psysml:7018d996-601d-4a38-842d-acb296e8ea77\" target=\"_top\" title=\"psysml:7018d996-601d-4a38-842d-acb296e8ea77\" xlink:actuate=\"onRequest\" xlink:href=\"psysml:7018d996-601d-4a38-842d-acb296e8ea77\" xlink:show=\"new\" xlink:title=\"psysml:7018d996-601d-4a38-842d-acb296e8ea77\" xlink:type=\"simple\"><path d=\"M70.64,101.8 C81.15,145.5 90.39,216.97 89.63,252.9 \" fill=\"none\" id=\"E7&lt;-E8-1\" style=\"stroke: #383838; stroke-width: 1.0; stroke-dasharray: 7.0,7.0;\"/><ellipse cx=\"68.7794\" cy=\"94.813\" fill=\"#FFFFFF\" rx=\"8\" ry=\"8\" style=\"stroke: #383838; stroke-width: 1.0;\"/><line style=\"stroke: #383838; stroke-width: 1.0;\" x1=\"70.8289\" x2=\"66.73\" y1=\"102.5461\" y2=\"87.08\"/><line style=\"stroke: #383838; stroke-width: 1.0;\" x1=\"61.0464\" x2=\"76.5125\" y1=\"96.8625\" y2=\"92.7636\"/><text fill=\"#000000\" font-family=\"sans-serif\" font-size=\"13\" lengthAdjust=\"spacingAndGlyphs\" textLength=\"8\" x=\"92.2181\" y=\"241.7694\">1</text></a><!--MD5=[0a839d0f80c2d72d4b9b307f046d0de8]\n",
       "link E6 to E8--><a href=\"psysml:1ea7862a-7bab-4478-95a9-37aa2484c274\" target=\"_top\" title=\"psysml:1ea7862a-7bab-4478-95a9-37aa2484c274\" xlink:actuate=\"onRequest\" xlink:href=\"psysml:1ea7862a-7bab-4478-95a9-37aa2484c274\" xlink:show=\"new\" xlink:title=\"psysml:1ea7862a-7bab-4478-95a9-37aa2484c274\" xlink:type=\"simple\"><path d=\"M95.42,193.06 C87.86,210.7 81.23,235.34 79.29,252.98 \" fill=\"none\" id=\"E6-E8\" style=\"stroke: #383838; stroke-width: 3.0;\"/><text fill=\"#000000\" font-family=\"sans-serif\" font-size=\"13\" lengthAdjust=\"spacingAndGlyphs\" textLength=\"7\" x=\"78.9648\" y=\"241.8709\">*</text></a><!--MD5=[0a839d0f80c2d72d4b9b307f046d0de8]\n",
       "link E6 to E8--><a href=\"psysml:1e1521f0-84d2-4d6c-a787-5301105b41c5\" target=\"_top\" title=\"psysml:1e1521f0-84d2-4d6c-a787-5301105b41c5\" xlink:actuate=\"onRequest\" xlink:href=\"psysml:1e1521f0-84d2-4d6c-a787-5301105b41c5\" xlink:show=\"new\" xlink:title=\"psysml:1e1521f0-84d2-4d6c-a787-5301105b41c5\" xlink:type=\"simple\"><path d=\"M117.33,193.06 C115.55,210.7 108.92,235.34 101.2,252.98 \" fill=\"none\" id=\"E6-E8-1\" style=\"stroke: #383838; stroke-width: 3.0;\"/><text fill=\"#000000\" font-family=\"sans-serif\" font-size=\"13\" lengthAdjust=\"spacingAndGlyphs\" textLength=\"7\" x=\"97.8819\" y=\"241.8709\">*</text></a><!--MD5=[77a55a0caed7526b5b699be5d4ba9cb2]\n",
       "@startuml\r\n",
       "top to bottom direction\r\n",
       "skinparam monochrome true\r\n",
       "skinparam classbackgroundcolor white\r\n",
       "skinparam shadowing false\r\n",
       "skinparam wrapWidth 300\r\n",
       "hide circle\r\n",
       "\r\n",
       "package \"AliasTest\" as E1  [[psysml:c9a65f38-ba0f-435c-ac18-78f76b0c8149 ]]  {\r\n",
       "comp usage \"q\" as E2  <<(T,blue) attribute>> [[psysml:252bcdae-bf35-4751-96e5-d2689f20556e ]] {\r\n",
       "}\r\n",
       "comp def \"P1\" as E3  <<(T,blue) part def>> [[psysml:6d109465-d99f-46f9-9a55-615eadc52ec3 ]] {\r\n",
       "}\r\n",
       "comp usage \"porig1\" as E4  <<(T,blue) port>> [[psysml:07c215ea-3a50-4500-a498-5909961b01ab ]] {\r\n",
       "}\r\n",
       "comp usage \"p1: P1\" as E5  <<(T,blue) part>> [[psysml:4b72c15b-2565-4f84-9632-f618b5b9807b ]] {\r\n",
       "}\r\n",
       "comp usage \"po1\" as E6  <<(T,blue) port>> [[psysml:653cf2de-fd63-4b48-a4f2-812bd043bef4 ]] {\r\n",
       "}\r\n",
       "comp usage \"p2: P1\" as E7  <<(T,blue) part>> [[psysml:a2155965-1e3e-41f3-b3b0-5a1ed18f6b31 ]] {\r\n",
       "}\r\n",
       "comp usage \"pdest\" as E8  <<(T,blue) port>> [[psysml:44ed1293-6fc3-4c15-bfe8-a6e98039e875 ]] {\r\n",
       "}\r\n",
       "}\r\n",
       "E3 o- - \"1\"E4 [[psysml:c0c56757-3d44-421f-b231-ed3c3f6cca2a ]] \r\n",
       "E3 +.. \"1\"E4 [[psysml:baeef3bb-efbd-4f79-8bec-1b43bb5efd8f ]] \r\n",
       "E5 - -:|> E3 [[psysml:3c7344fe-e5a7-4cb3-b89e-76f05a842583 ]] \r\n",
       "E5 o- - \"1\"E6 [[psysml:5ab2eb8f-0a8a-4f0f-b519-13b72bd8ef83 ]] \r\n",
       "E6 - -||> E4 [[psysml:36152a88-3fda-40f3-9b03-bfa5e7f7b410 ]] \r\n",
       "E7 - -:|> E3 [[psysml:e547b523-e8e9-4ecd-8c51-8b63037972c5 ]] \r\n",
       "E7 o- - \"1\"E8 [[psysml:b237ade3-489d-4fd0-9379-0b86f0889901 ]] \r\n",
       "E7 +.. \"1\"E8 [[psysml:7018d996-601d-4a38-842d-acb296e8ea77 ]] \r\n",
       "E6 -[thickness=3]- \"*\"E8 [[psysml:1ea7862a-7bab-4478-95a9-37aa2484c274 ]] \r\n",
       "E6 -[thickness=3]- \"*\"E8 [[psysml:1e1521f0-84d2-4d6c-a787-5301105b41c5 ]] \r\n",
       "@enduml\r\n",
       "\n",
       "PlantUML version 1.2020.13(Sat Jun 13 12:26:38 UTC 2020)\n",
       "(EPL source distribution)\n",
       "Java Runtime: OpenJDK Runtime Environment\n",
       "JVM: OpenJDK 64-Bit Server VM\n",
       "Default Encoding: UTF-8\n",
       "Language: en\n",
       "Country: null\n",
       "--></g></svg>"
      ]
     },
     "execution_count": 44,
     "metadata": {},
     "output_type": "execute_result"
    }
   ],
   "source": [
    "%viz --style=\"TB\" --view=\"Default\" \"AliasTest\""
   ]
  },
  {
   "cell_type": "code",
   "execution_count": 45,
   "id": "f8772111",
   "metadata": {
    "execution": {
     "iopub.execute_input": "2021-10-03T08:30:12.903094Z",
     "iopub.status.busy": "2021-10-03T08:30:12.902694Z",
     "iopub.status.idle": "2021-10-03T08:30:12.938877Z",
     "shell.execute_reply": "2021-10-03T08:30:12.937380Z"
    }
   },
   "outputs": [
    {
     "data": {
      "image/svg+xml": [
       "<?xml version=\"1.0\" encoding=\"UTF-8\" standalone=\"no\"?><svg xmlns=\"http://www.w3.org/2000/svg\" xmlns:xlink=\"http://www.w3.org/1999/xlink\" contentScriptType=\"application/ecmascript\" contentStyleType=\"text/css\" height=\"327px\" preserveAspectRatio=\"none\" style=\"width:304px;height:327px;\" version=\"1.1\" viewBox=\"0 0 304 327\" width=\"304px\" zoomAndPan=\"magnify\"><defs/><g><!--MD5=[fbc87193dbaf4d95561dea2c320d4a47]\n",
       "cluster E1--><a href=\"psysml:c9a65f38-ba0f-435c-ac18-78f76b0c8149\" target=\"_top\" title=\"psysml:c9a65f38-ba0f-435c-ac18-78f76b0c8149\" xlink:actuate=\"onRequest\" xlink:href=\"psysml:c9a65f38-ba0f-435c-ac18-78f76b0c8149\" xlink:show=\"new\" xlink:title=\"psysml:c9a65f38-ba0f-435c-ac18-78f76b0c8149\" xlink:type=\"simple\"><polygon fill=\"#FFFFFF\" points=\"16,6,84,6,91,28.2969,282,28.2969,282,315,16,315,16,6\" style=\"stroke: #000000; stroke-width: 1.5;\"/><line style=\"stroke: #000000; stroke-width: 1.5;\" x1=\"16\" x2=\"91\" y1=\"28.2969\" y2=\"28.2969\"/><text fill=\"#000000\" font-family=\"sans-serif\" font-size=\"14\" font-weight=\"bold\" lengthAdjust=\"spacingAndGlyphs\" textLength=\"62\" x=\"20\" y=\"20.9951\">AliasTest</text></a><!--MD5=[b4997ac47864f28c2f74865a473b2911]\n",
       "class E2--><a href=\"psysml:252bcdae-bf35-4751-96e5-d2689f20556e\" target=\"_top\" title=\"psysml:252bcdae-bf35-4751-96e5-d2689f20556e\" xlink:actuate=\"onRequest\" xlink:href=\"psysml:252bcdae-bf35-4751-96e5-d2689f20556e\" xlink:show=\"new\" xlink:title=\"psysml:252bcdae-bf35-4751-96e5-d2689f20556e\" xlink:type=\"simple\"><rect fill=\"#FFFFFF\" height=\"45.9375\" id=\"E2\" rx=\"10\" ry=\"10\" style=\"stroke: #383838; stroke-width: 1.5;\" width=\"71\" x=\"194.5\" y=\"41\"/><text fill=\"#000000\" font-family=\"sans-serif\" font-size=\"12\" font-style=\"italic\" lengthAdjust=\"spacingAndGlyphs\" textLength=\"69\" x=\"195.5\" y=\"57.1387\">«attribute»</text><text fill=\"#000000\" font-family=\"sans-serif\" font-size=\"12\" lengthAdjust=\"spacingAndGlyphs\" textLength=\"8\" x=\"226\" y=\"71.1074\">q</text><line style=\"stroke: #383838; stroke-width: 1.5;\" x1=\"195.5\" x2=\"264.5\" y1=\"78.9375\" y2=\"78.9375\"/></a><!--MD5=[09b614a08d8cba4a07c9adeb5e0fee81]\n",
       "class E3--><a href=\"psysml:6d109465-d99f-46f9-9a55-615eadc52ec3\" target=\"_top\" title=\"psysml:6d109465-d99f-46f9-9a55-615eadc52ec3\" xlink:actuate=\"onRequest\" xlink:href=\"psysml:6d109465-d99f-46f9-9a55-615eadc52ec3\" xlink:show=\"new\" xlink:title=\"psysml:6d109465-d99f-46f9-9a55-615eadc52ec3\" xlink:type=\"simple\"><rect fill=\"#FFFFFF\" height=\"45.9375\" id=\"E3\" style=\"stroke: #383838; stroke-width: 1.5;\" width=\"66\" x=\"168\" y=\"147\"/><text fill=\"#000000\" font-family=\"sans-serif\" font-size=\"12\" font-style=\"italic\" lengthAdjust=\"spacingAndGlyphs\" textLength=\"64\" x=\"169\" y=\"163.1387\">«part def»</text><text fill=\"#000000\" font-family=\"sans-serif\" font-size=\"12\" lengthAdjust=\"spacingAndGlyphs\" textLength=\"16\" x=\"193\" y=\"177.1074\">P1</text><line style=\"stroke: #383838; stroke-width: 1.5;\" x1=\"169\" x2=\"233\" y1=\"184.9375\" y2=\"184.9375\"/></a><!--MD5=[ebbe1d658d1005bcc118a6aa81145e00]\n",
       "class E4--><a href=\"psysml:07c215ea-3a50-4500-a498-5909961b01ab\" target=\"_top\" title=\"psysml:07c215ea-3a50-4500-a498-5909961b01ab\" xlink:actuate=\"onRequest\" xlink:href=\"psysml:07c215ea-3a50-4500-a498-5909961b01ab\" xlink:show=\"new\" xlink:title=\"psysml:07c215ea-3a50-4500-a498-5909961b01ab\" xlink:type=\"simple\"><rect fill=\"#FFFFFF\" height=\"45.9375\" id=\"E4\" rx=\"10\" ry=\"10\" style=\"stroke: #383838; stroke-width: 1.5;\" width=\"46\" x=\"178\" y=\"253\"/><text fill=\"#000000\" font-family=\"sans-serif\" font-size=\"12\" font-style=\"italic\" lengthAdjust=\"spacingAndGlyphs\" textLength=\"40\" x=\"181\" y=\"269.1387\">«port»</text><text fill=\"#000000\" font-family=\"sans-serif\" font-size=\"12\" lengthAdjust=\"spacingAndGlyphs\" textLength=\"40\" x=\"181\" y=\"283.1074\">porig1</text><line style=\"stroke: #383838; stroke-width: 1.5;\" x1=\"179\" x2=\"223\" y1=\"290.9375\" y2=\"290.9375\"/></a><!--MD5=[270fce915f116d4de14055a7c1d9a0f3]\n",
       "class E5--><a href=\"psysml:4b72c15b-2565-4f84-9632-f618b5b9807b\" target=\"_top\" title=\"psysml:4b72c15b-2565-4f84-9632-f618b5b9807b\" xlink:actuate=\"onRequest\" xlink:href=\"psysml:4b72c15b-2565-4f84-9632-f618b5b9807b\" xlink:show=\"new\" xlink:title=\"psysml:4b72c15b-2565-4f84-9632-f618b5b9807b\" xlink:type=\"simple\"><rect fill=\"#FFFFFF\" height=\"45.9375\" id=\"E5\" rx=\"10\" ry=\"10\" style=\"stroke: #383838; stroke-width: 1.5;\" width=\"46\" x=\"113\" y=\"41\"/><text fill=\"#000000\" font-family=\"sans-serif\" font-size=\"12\" font-style=\"italic\" lengthAdjust=\"spacingAndGlyphs\" textLength=\"40\" x=\"116\" y=\"57.1387\">«part»</text><text fill=\"#000000\" font-family=\"sans-serif\" font-size=\"12\" lengthAdjust=\"spacingAndGlyphs\" textLength=\"40\" x=\"116\" y=\"71.1074\">p1: P1</text><line style=\"stroke: #383838; stroke-width: 1.5;\" x1=\"114\" x2=\"158\" y1=\"78.9375\" y2=\"78.9375\"/></a><!--MD5=[60a26617385b1d2d0262a64233df1f8d]\n",
       "class E6--><a href=\"psysml:653cf2de-fd63-4b48-a4f2-812bd043bef4\" target=\"_top\" title=\"psysml:653cf2de-fd63-4b48-a4f2-812bd043bef4\" xlink:actuate=\"onRequest\" xlink:href=\"psysml:653cf2de-fd63-4b48-a4f2-812bd043bef4\" xlink:show=\"new\" xlink:title=\"psysml:653cf2de-fd63-4b48-a4f2-812bd043bef4\" xlink:type=\"simple\"><rect fill=\"#FFFFFF\" height=\"45.9375\" id=\"E6\" rx=\"10\" ry=\"10\" style=\"stroke: #383838; stroke-width: 1.5;\" width=\"42\" x=\"91\" y=\"147\"/><text fill=\"#000000\" font-family=\"sans-serif\" font-size=\"12\" font-style=\"italic\" lengthAdjust=\"spacingAndGlyphs\" textLength=\"40\" x=\"92\" y=\"163.1387\">«port»</text><text fill=\"#000000\" font-family=\"sans-serif\" font-size=\"12\" lengthAdjust=\"spacingAndGlyphs\" textLength=\"24\" x=\"100\" y=\"177.1074\">po1</text><line style=\"stroke: #383838; stroke-width: 1.5;\" x1=\"92\" x2=\"132\" y1=\"184.9375\" y2=\"184.9375\"/></a><!--MD5=[2156ba9850f5573cc1fc38a6a4b2f02b]\n",
       "class E7--><a href=\"psysml:a2155965-1e3e-41f3-b3b0-5a1ed18f6b31\" target=\"_top\" title=\"psysml:a2155965-1e3e-41f3-b3b0-5a1ed18f6b31\" xlink:actuate=\"onRequest\" xlink:href=\"psysml:a2155965-1e3e-41f3-b3b0-5a1ed18f6b31\" xlink:show=\"new\" xlink:title=\"psysml:a2155965-1e3e-41f3-b3b0-5a1ed18f6b31\" xlink:type=\"simple\"><rect fill=\"#FFFFFF\" height=\"45.9375\" id=\"E7\" rx=\"10\" ry=\"10\" style=\"stroke: #383838; stroke-width: 1.5;\" width=\"46\" x=\"32\" y=\"41\"/><text fill=\"#000000\" font-family=\"sans-serif\" font-size=\"12\" font-style=\"italic\" lengthAdjust=\"spacingAndGlyphs\" textLength=\"40\" x=\"35\" y=\"57.1387\">«part»</text><text fill=\"#000000\" font-family=\"sans-serif\" font-size=\"12\" lengthAdjust=\"spacingAndGlyphs\" textLength=\"40\" x=\"35\" y=\"71.1074\">p2: P1</text><line style=\"stroke: #383838; stroke-width: 1.5;\" x1=\"33\" x2=\"77\" y1=\"78.9375\" y2=\"78.9375\"/></a><!--MD5=[b9389687b975829384b498ac4b7476b2]\n",
       "class E8--><a href=\"psysml:44ed1293-6fc3-4c15-bfe8-a6e98039e875\" target=\"_top\" title=\"psysml:44ed1293-6fc3-4c15-bfe8-a6e98039e875\" xlink:actuate=\"onRequest\" xlink:href=\"psysml:44ed1293-6fc3-4c15-bfe8-a6e98039e875\" xlink:show=\"new\" xlink:title=\"psysml:44ed1293-6fc3-4c15-bfe8-a6e98039e875\" xlink:type=\"simple\"><rect fill=\"#FFFFFF\" height=\"45.9375\" id=\"E8\" rx=\"10\" ry=\"10\" style=\"stroke: #383838; stroke-width: 1.5;\" width=\"42\" x=\"63\" y=\"253\"/><text fill=\"#000000\" font-family=\"sans-serif\" font-size=\"12\" font-style=\"italic\" lengthAdjust=\"spacingAndGlyphs\" textLength=\"40\" x=\"64\" y=\"269.1387\">«port»</text><text fill=\"#000000\" font-family=\"sans-serif\" font-size=\"12\" lengthAdjust=\"spacingAndGlyphs\" textLength=\"36\" x=\"66\" y=\"283.1074\">pdest</text><line style=\"stroke: #383838; stroke-width: 1.5;\" x1=\"64\" x2=\"104\" y1=\"290.9375\" y2=\"290.9375\"/></a><!--MD5=[4672eba38e49728da53d11aeb285b987]\n",
       "reverse link E3 to E4--><a href=\"psysml:c0c56757-3d44-421f-b231-ed3c3f6cca2a\" target=\"_top\" title=\"psysml:c0c56757-3d44-421f-b231-ed3c3f6cca2a\" xlink:actuate=\"onRequest\" xlink:href=\"psysml:c0c56757-3d44-421f-b231-ed3c3f6cca2a\" xlink:show=\"new\" xlink:title=\"psysml:c0c56757-3d44-421f-b231-ed3c3f6cca2a\" xlink:type=\"simple\"><path d=\"M188.84,206.44 C187.7,221.87 188.21,239.47 190.36,252.98 \" fill=\"none\" id=\"E3&lt;-E4\" style=\"stroke: #383838; stroke-width: 1.0;\"/><polygon fill=\"#FFFFFF\" points=\"190.35,193.06,185.7032,198.5743,189.006,204.9845,193.6528,199.4702,190.35,193.06\" style=\"stroke: #383838; stroke-width: 1.0;\"/><text fill=\"#000000\" font-family=\"sans-serif\" font-size=\"13\" lengthAdjust=\"spacingAndGlyphs\" textLength=\"8\" x=\"178.4255\" y=\"241.8709\">1</text></a><!--MD5=[4672eba38e49728da53d11aeb285b987]\n",
       "reverse link E3 to E4--><a href=\"psysml:baeef3bb-efbd-4f79-8bec-1b43bb5efd8f\" target=\"_top\" title=\"psysml:baeef3bb-efbd-4f79-8bec-1b43bb5efd8f\" xlink:actuate=\"onRequest\" xlink:href=\"psysml:baeef3bb-efbd-4f79-8bec-1b43bb5efd8f\" xlink:show=\"new\" xlink:title=\"psysml:baeef3bb-efbd-4f79-8bec-1b43bb5efd8f\" xlink:type=\"simple\"><path d=\"M214.01,208.34 C215.03,223.3 214.45,240.02 212.27,252.98 \" fill=\"none\" id=\"E3&lt;-E4-1\" style=\"stroke: #383838; stroke-width: 1.0; stroke-dasharray: 7.0,7.0;\"/><ellipse cx=\"213.1693\" cy=\"201.0093\" fill=\"#FFFFFF\" rx=\"8\" ry=\"8\" style=\"stroke: #383838; stroke-width: 1.0;\"/><line style=\"stroke: #383838; stroke-width: 1.0;\" x1=\"214.0687\" x2=\"212.27\" y1=\"208.9586\" y2=\"193.06\"/><line style=\"stroke: #383838; stroke-width: 1.0;\" x1=\"205.2201\" x2=\"221.1186\" y1=\"201.9086\" y2=\"200.1099\"/><text fill=\"#000000\" font-family=\"sans-serif\" font-size=\"13\" lengthAdjust=\"spacingAndGlyphs\" textLength=\"8\" x=\"206.2238\" y=\"241.8709\">1</text></a><!--MD5=[e9be52314489bd878ff4c7144b63c9e1]\n",
       "link E5 to E3--><a href=\"psysml:3c7344fe-e5a7-4cb3-b89e-76f05a842583\" target=\"_top\" title=\"psysml:3c7344fe-e5a7-4cb3-b89e-76f05a842583\" xlink:actuate=\"onRequest\" xlink:href=\"psysml:3c7344fe-e5a7-4cb3-b89e-76f05a842583\" xlink:show=\"new\" xlink:title=\"psysml:3c7344fe-e5a7-4cb3-b89e-76f05a842583\" xlink:type=\"simple\"><path d=\"M149.78,87.06 C157.54,99.47 167.45,115.33 176.49,129.78 \" fill=\"none\" id=\"E5-&gt;E3\" style=\"stroke: #383838; stroke-width: 1.0;\"/><polygon fill=\"#FFFFFF\" points=\"187.24,146.98,171.2331,134.5792,183.1045,127.1584,187.24,146.98\" style=\"stroke: #383838; stroke-width: 1.0;\"/><ellipse cx=\"169.9076\" cy=\"128.6857\" fill=\"#383838\" rx=\"2\" ry=\"2\" style=\"stroke: #383838; stroke-width: 1.0;\"/><ellipse cx=\"178.3872\" cy=\"123.3851\" fill=\"#383838\" rx=\"2\" ry=\"2\" style=\"stroke: #383838; stroke-width: 1.0;\"/></a><!--MD5=[85d356282659285ab4b2cfe2f634dd2b]\n",
       "reverse link E5 to E6--><a href=\"psysml:5ab2eb8f-0a8a-4f0f-b519-13b72bd8ef83\" target=\"_top\" title=\"psysml:5ab2eb8f-0a8a-4f0f-b519-13b72bd8ef83\" xlink:actuate=\"onRequest\" xlink:href=\"psysml:5ab2eb8f-0a8a-4f0f-b519-13b72bd8ef83\" xlink:show=\"new\" xlink:title=\"psysml:5ab2eb8f-0a8a-4f0f-b519-13b72bd8ef83\" xlink:type=\"simple\"><path d=\"M127.93,99.96 C124.34,115.51 120.23,133.33 117.08,146.98 \" fill=\"none\" id=\"E5&lt;-E6\" style=\"stroke: #383838; stroke-width: 1.0;\"/><polygon fill=\"#FFFFFF\" points=\"130.91,87.06,125.6616,92.0052,128.2078,98.7518,133.4562,93.8066,130.91,87.06\" style=\"stroke: #383838; stroke-width: 1.0;\"/><text fill=\"#000000\" font-family=\"sans-serif\" font-size=\"13\" lengthAdjust=\"spacingAndGlyphs\" textLength=\"8\" x=\"109.3703\" y=\"135.8709\">1</text></a><!--MD5=[f667431f98296947986a1a7595a31603]\n",
       "link E6 to E4--><a href=\"psysml:36152a88-3fda-40f3-9b03-bfa5e7f7b410\" target=\"_top\" title=\"psysml:36152a88-3fda-40f3-9b03-bfa5e7f7b410\" xlink:actuate=\"onRequest\" xlink:href=\"psysml:36152a88-3fda-40f3-9b03-bfa5e7f7b410\" xlink:show=\"new\" xlink:title=\"psysml:36152a88-3fda-40f3-9b03-bfa5e7f7b410\" xlink:type=\"simple\"><path d=\"M130.87,193.06 C141.97,206.02 156.28,222.74 169.08,237.7 \" fill=\"none\" id=\"E6-&gt;E4\" style=\"stroke: #383838; stroke-width: 1.0;\"/><polygon fill=\"#FFFFFF\" points=\"182.15,252.98,164.4809,243.0905,175.1204,233.9909,182.15,252.98\" style=\"stroke: #383838; stroke-width: 1.0;\"/><line style=\"stroke: #383838; stroke-width: 2.0;\" x1=\"162.011\" x2=\"172.6505\" y1=\"240.2026\" y2=\"231.1031\"/></a><!--MD5=[14ccda38c055a5c0da953d572bc50960]\n",
       "link E7 to E3--><a href=\"psysml:e547b523-e8e9-4ecd-8c51-8b63037972c5\" target=\"_top\" title=\"psysml:e547b523-e8e9-4ecd-8c51-8b63037972c5\" xlink:actuate=\"onRequest\" xlink:href=\"psysml:e547b523-e8e9-4ecd-8c51-8b63037972c5\" xlink:show=\"new\" xlink:title=\"psysml:e547b523-e8e9-4ecd-8c51-8b63037972c5\" xlink:type=\"simple\"><path d=\"M78.13,81.48 C98.32,95.86 128.25,117.18 153.52,135.18 \" fill=\"none\" id=\"E7-&gt;E3\" style=\"stroke: #383838; stroke-width: 1.0;\"/><polygon fill=\"#FFFFFF\" points=\"170.09,146.98,150.5533,141.6586,158.6755,130.2555,170.09,146.98\" style=\"stroke: #383838; stroke-width: 1.0;\"/><ellipse cx=\"147.0709\" cy=\"136.7227\" fill=\"#383838\" rx=\"2\" ry=\"2\" style=\"stroke: #383838; stroke-width: 1.0;\"/><ellipse cx=\"152.8725\" cy=\"128.5776\" fill=\"#383838\" rx=\"2\" ry=\"2\" style=\"stroke: #383838; stroke-width: 1.0;\"/></a><!--MD5=[dc164f5e8a733ab456ef1add180e9e34]\n",
       "reverse link E7 to E8--><a href=\"psysml:b237ade3-489d-4fd0-9379-0b86f0889901\" target=\"_top\" title=\"psysml:b237ade3-489d-4fd0-9379-0b86f0889901\" xlink:actuate=\"onRequest\" xlink:href=\"psysml:b237ade3-489d-4fd0-9379-0b86f0889901\" xlink:show=\"new\" xlink:title=\"psysml:b237ade3-489d-4fd0-9379-0b86f0889901\" xlink:type=\"simple\"><path d=\"M50.05,100.09 C51.65,143.61 62.25,216.5 72.75,252.9 \" fill=\"none\" id=\"E7&lt;-E8\" style=\"stroke: #383838; stroke-width: 1.0;\"/><polygon fill=\"#FFFFFF\" points=\"49.85,87.08,45.9362,93.1366,50.0216,99.0788,53.9354,93.0222,49.85,87.08\" style=\"stroke: #383838; stroke-width: 1.0;\"/><text fill=\"#000000\" font-family=\"sans-serif\" font-size=\"13\" lengthAdjust=\"spacingAndGlyphs\" textLength=\"8\" x=\"60.6516\" y=\"241.7694\">1</text></a><!--MD5=[dc164f5e8a733ab456ef1add180e9e34]\n",
       "reverse link E7 to E8--><a href=\"psysml:7018d996-601d-4a38-842d-acb296e8ea77\" target=\"_top\" title=\"psysml:7018d996-601d-4a38-842d-acb296e8ea77\" xlink:actuate=\"onRequest\" xlink:href=\"psysml:7018d996-601d-4a38-842d-acb296e8ea77\" xlink:show=\"new\" xlink:title=\"psysml:7018d996-601d-4a38-842d-acb296e8ea77\" xlink:type=\"simple\"><path d=\"M70.64,101.8 C81.15,145.5 90.39,216.97 89.63,252.9 \" fill=\"none\" id=\"E7&lt;-E8-1\" style=\"stroke: #383838; stroke-width: 1.0; stroke-dasharray: 7.0,7.0;\"/><ellipse cx=\"68.7794\" cy=\"94.813\" fill=\"#FFFFFF\" rx=\"8\" ry=\"8\" style=\"stroke: #383838; stroke-width: 1.0;\"/><line style=\"stroke: #383838; stroke-width: 1.0;\" x1=\"70.8289\" x2=\"66.73\" y1=\"102.5461\" y2=\"87.08\"/><line style=\"stroke: #383838; stroke-width: 1.0;\" x1=\"61.0464\" x2=\"76.5125\" y1=\"96.8625\" y2=\"92.7636\"/><text fill=\"#000000\" font-family=\"sans-serif\" font-size=\"13\" lengthAdjust=\"spacingAndGlyphs\" textLength=\"8\" x=\"92.2181\" y=\"241.7694\">1</text></a><!--MD5=[0a839d0f80c2d72d4b9b307f046d0de8]\n",
       "link E6 to E8--><a href=\"psysml:1ea7862a-7bab-4478-95a9-37aa2484c274\" target=\"_top\" title=\"psysml:1ea7862a-7bab-4478-95a9-37aa2484c274\" xlink:actuate=\"onRequest\" xlink:href=\"psysml:1ea7862a-7bab-4478-95a9-37aa2484c274\" xlink:show=\"new\" xlink:title=\"psysml:1ea7862a-7bab-4478-95a9-37aa2484c274\" xlink:type=\"simple\"><path d=\"M95.42,193.06 C87.86,210.7 81.23,235.34 79.29,252.98 \" fill=\"none\" id=\"E6-E8\" style=\"stroke: #383838; stroke-width: 3.0;\"/><text fill=\"#000000\" font-family=\"sans-serif\" font-size=\"13\" lengthAdjust=\"spacingAndGlyphs\" textLength=\"7\" x=\"78.9648\" y=\"241.8709\">*</text></a><!--MD5=[0a839d0f80c2d72d4b9b307f046d0de8]\n",
       "link E6 to E8--><a href=\"psysml:1e1521f0-84d2-4d6c-a787-5301105b41c5\" target=\"_top\" title=\"psysml:1e1521f0-84d2-4d6c-a787-5301105b41c5\" xlink:actuate=\"onRequest\" xlink:href=\"psysml:1e1521f0-84d2-4d6c-a787-5301105b41c5\" xlink:show=\"new\" xlink:title=\"psysml:1e1521f0-84d2-4d6c-a787-5301105b41c5\" xlink:type=\"simple\"><path d=\"M117.33,193.06 C115.55,210.7 108.92,235.34 101.2,252.98 \" fill=\"none\" id=\"E6-E8-1\" style=\"stroke: #383838; stroke-width: 3.0;\"/><text fill=\"#000000\" font-family=\"sans-serif\" font-size=\"13\" lengthAdjust=\"spacingAndGlyphs\" textLength=\"7\" x=\"97.8819\" y=\"241.8709\">*</text></a><!--MD5=[77a55a0caed7526b5b699be5d4ba9cb2]\n",
       "@startuml\r\n",
       "top to bottom direction\r\n",
       "skinparam monochrome true\r\n",
       "skinparam classbackgroundcolor white\r\n",
       "skinparam shadowing false\r\n",
       "skinparam wrapWidth 300\r\n",
       "hide circle\r\n",
       "\r\n",
       "package \"AliasTest\" as E1  [[psysml:c9a65f38-ba0f-435c-ac18-78f76b0c8149 ]]  {\r\n",
       "comp usage \"q\" as E2  <<(T,blue) attribute>> [[psysml:252bcdae-bf35-4751-96e5-d2689f20556e ]] {\r\n",
       "}\r\n",
       "comp def \"P1\" as E3  <<(T,blue) part def>> [[psysml:6d109465-d99f-46f9-9a55-615eadc52ec3 ]] {\r\n",
       "}\r\n",
       "comp usage \"porig1\" as E4  <<(T,blue) port>> [[psysml:07c215ea-3a50-4500-a498-5909961b01ab ]] {\r\n",
       "}\r\n",
       "comp usage \"p1: P1\" as E5  <<(T,blue) part>> [[psysml:4b72c15b-2565-4f84-9632-f618b5b9807b ]] {\r\n",
       "}\r\n",
       "comp usage \"po1\" as E6  <<(T,blue) port>> [[psysml:653cf2de-fd63-4b48-a4f2-812bd043bef4 ]] {\r\n",
       "}\r\n",
       "comp usage \"p2: P1\" as E7  <<(T,blue) part>> [[psysml:a2155965-1e3e-41f3-b3b0-5a1ed18f6b31 ]] {\r\n",
       "}\r\n",
       "comp usage \"pdest\" as E8  <<(T,blue) port>> [[psysml:44ed1293-6fc3-4c15-bfe8-a6e98039e875 ]] {\r\n",
       "}\r\n",
       "}\r\n",
       "E3 o- - \"1\"E4 [[psysml:c0c56757-3d44-421f-b231-ed3c3f6cca2a ]] \r\n",
       "E3 +.. \"1\"E4 [[psysml:baeef3bb-efbd-4f79-8bec-1b43bb5efd8f ]] \r\n",
       "E5 - -:|> E3 [[psysml:3c7344fe-e5a7-4cb3-b89e-76f05a842583 ]] \r\n",
       "E5 o- - \"1\"E6 [[psysml:5ab2eb8f-0a8a-4f0f-b519-13b72bd8ef83 ]] \r\n",
       "E6 - -||> E4 [[psysml:36152a88-3fda-40f3-9b03-bfa5e7f7b410 ]] \r\n",
       "E7 - -:|> E3 [[psysml:e547b523-e8e9-4ecd-8c51-8b63037972c5 ]] \r\n",
       "E7 o- - \"1\"E8 [[psysml:b237ade3-489d-4fd0-9379-0b86f0889901 ]] \r\n",
       "E7 +.. \"1\"E8 [[psysml:7018d996-601d-4a38-842d-acb296e8ea77 ]] \r\n",
       "E6 -[thickness=3]- \"*\"E8 [[psysml:1ea7862a-7bab-4478-95a9-37aa2484c274 ]] \r\n",
       "E6 -[thickness=3]- \"*\"E8 [[psysml:1e1521f0-84d2-4d6c-a787-5301105b41c5 ]] \r\n",
       "@enduml\r\n",
       "\n",
       "PlantUML version 1.2020.13(Sat Jun 13 12:26:38 UTC 2020)\n",
       "(EPL source distribution)\n",
       "Java Runtime: OpenJDK Runtime Environment\n",
       "JVM: OpenJDK 64-Bit Server VM\n",
       "Default Encoding: UTF-8\n",
       "Language: en\n",
       "Country: null\n",
       "--></g></svg>"
      ]
     },
     "execution_count": 45,
     "metadata": {},
     "output_type": "execute_result"
    }
   ],
   "source": [
    "%viz --style=\"TB\" --view=\"Tree\" \"AliasTest\""
   ]
  },
  {
   "cell_type": "code",
   "execution_count": 46,
   "id": "53caf21d",
   "metadata": {
    "execution": {
     "iopub.execute_input": "2021-10-03T08:30:12.988293Z",
     "iopub.status.busy": "2021-10-03T08:30:12.987895Z",
     "iopub.status.idle": "2021-10-03T08:30:12.992741Z",
     "shell.execute_reply": "2021-10-03T08:30:12.993052Z"
    }
   },
   "outputs": [
    {
     "data": {
      "image/svg+xml": [
       "<?xml version=\"1.0\" encoding=\"UTF-8\" standalone=\"no\"?><svg xmlns=\"http://www.w3.org/2000/svg\" xmlns:xlink=\"http://www.w3.org/1999/xlink\" contentScriptType=\"application/ecmascript\" contentStyleType=\"text/css\" height=\"12px\" preserveAspectRatio=\"none\" style=\"width:12px;height:12px;\" version=\"1.1\" viewBox=\"0 0 12 12\" width=\"12px\" zoomAndPan=\"magnify\"><defs/><g><!--MD5=[f4ee21bc66e489b5061b7c3e9601fdef]\n",
       "@startuml\r\n",
       "top to bottom direction\r\n",
       "skinparam monochrome true\r\n",
       "skinparam classbackgroundcolor white\r\n",
       "skinparam shadowing false\r\n",
       "skinparam wrapWidth 300\r\n",
       "hide circle\r\n",
       "\r\n",
       "@enduml\r\n",
       "\n",
       "PlantUML version 1.2020.13(Sat Jun 13 12:26:38 UTC 2020)\n",
       "(EPL source distribution)\n",
       "Java Runtime: OpenJDK Runtime Environment\n",
       "JVM: OpenJDK 64-Bit Server VM\n",
       "Default Encoding: UTF-8\n",
       "Language: en\n",
       "Country: null\n",
       "--></g></svg>"
      ]
     },
     "execution_count": 46,
     "metadata": {},
     "output_type": "execute_result"
    }
   ],
   "source": [
    "%viz --style=\"TB\" --view=\"State\" \"AliasTest\""
   ]
  },
  {
   "cell_type": "code",
   "execution_count": 47,
   "id": "823f7f18",
   "metadata": {
    "execution": {
     "iopub.execute_input": "2021-10-03T08:30:13.042622Z",
     "iopub.status.busy": "2021-10-03T08:30:13.042228Z",
     "iopub.status.idle": "2021-10-03T08:30:13.077503Z",
     "shell.execute_reply": "2021-10-03T08:30:13.077114Z"
    }
   },
   "outputs": [
    {
     "data": {
      "image/svg+xml": [
       "<?xml version=\"1.0\" encoding=\"UTF-8\" standalone=\"no\"?><svg xmlns=\"http://www.w3.org/2000/svg\" xmlns:xlink=\"http://www.w3.org/1999/xlink\" contentScriptType=\"application/ecmascript\" contentStyleType=\"text/css\" height=\"233px\" preserveAspectRatio=\"none\" style=\"width:474px;height:233px;\" version=\"1.1\" viewBox=\"0 0 474 233\" width=\"474px\" zoomAndPan=\"magnify\"><defs/><g><!--MD5=[fbc87193dbaf4d95561dea2c320d4a47]\n",
       "cluster E1--><a href=\"psysml:c9a65f38-ba0f-435c-ac18-78f76b0c8149\" target=\"_top\" title=\"psysml:c9a65f38-ba0f-435c-ac18-78f76b0c8149\" xlink:actuate=\"onRequest\" xlink:href=\"psysml:c9a65f38-ba0f-435c-ac18-78f76b0c8149\" xlink:show=\"new\" xlink:title=\"psysml:c9a65f38-ba0f-435c-ac18-78f76b0c8149\" xlink:type=\"simple\"><polygon fill=\"#FFFFFF\" points=\"16,6,84,6,91,28.2969,452,28.2969,452,221,16,221,16,6\" style=\"stroke: #000000; stroke-width: 1.5;\"/><line style=\"stroke: #000000; stroke-width: 1.5;\" x1=\"16\" x2=\"91\" y1=\"28.2969\" y2=\"28.2969\"/><text fill=\"#000000\" font-family=\"sans-serif\" font-size=\"14\" font-weight=\"bold\" lengthAdjust=\"spacingAndGlyphs\" textLength=\"62\" x=\"20\" y=\"20.9951\">AliasTest</text></a><!--MD5=[d5e69f78d87373223dbae638b30a9c99]\n",
       "cluster E3--><a href=\"psysml:6d109465-d99f-46f9-9a55-615eadc52ec3\" target=\"_top\" title=\"psysml:6d109465-d99f-46f9-9a55-615eadc52ec3\" xlink:actuate=\"onRequest\" xlink:href=\"psysml:6d109465-d99f-46f9-9a55-615eadc52ec3\" xlink:show=\"new\" xlink:title=\"psysml:6d109465-d99f-46f9-9a55-615eadc52ec3\" xlink:type=\"simple\"><rect fill=\"#FFFFFF\" height=\"90\" id=\"E3\" style=\"stroke: #383838; stroke-width: 1.5;\" width=\"83\" x=\"312\" y=\"64\"/><rect fill=\"#F8F8F8\" height=\"37.9375\" style=\"stroke: #383838; stroke-width: 1.5;\" width=\"83\" x=\"312\" y=\"64\"/><text fill=\"#000000\" font-family=\"sans-serif\" font-size=\"12\" font-style=\"italic\" lengthAdjust=\"spacingAndGlyphs\" textLength=\"64\" x=\"321.5\" y=\"80.1387\">«part def»</text><text fill=\"#000000\" font-family=\"sans-serif\" font-size=\"12\" lengthAdjust=\"spacingAndGlyphs\" textLength=\"16\" x=\"345.5\" y=\"94.1074\">P1</text></a><!--MD5=[14e3b0961a2654348d326746436168a1]\n",
       "cluster E6--><a href=\"psysml:4b72c15b-2565-4f84-9632-f618b5b9807b\" target=\"_top\" title=\"psysml:4b72c15b-2565-4f84-9632-f618b5b9807b\" xlink:actuate=\"onRequest\" xlink:href=\"psysml:4b72c15b-2565-4f84-9632-f618b5b9807b\" xlink:show=\"new\" xlink:title=\"psysml:4b72c15b-2565-4f84-9632-f618b5b9807b\" xlink:type=\"simple\"><rect fill=\"#FFFFFF\" height=\"82\" id=\"E6\" rx=\"10\" ry=\"10\" style=\"stroke: #383838; stroke-width: 1.5;\" width=\"98\" x=\"112\" y=\"64\"/><rect fill=\"#F8F8F8\" height=\"23.9688\" rx=\"10\" ry=\"10\" style=\"stroke: #F8F8F8; stroke-width: 1.5;\" width=\"98\" x=\"112\" y=\"64\"/><rect fill=\"#F8F8F8\" height=\"10\" style=\"stroke: #F8F8F8; stroke-width: 1.5;\" width=\"98\" x=\"112\" y=\"77.9688\"/><rect fill=\"none\" height=\"82\" id=\"E6\" rx=\"10\" ry=\"10\" style=\"stroke: #383838; stroke-width: 1.5;\" width=\"98\" x=\"112\" y=\"64\"/><text fill=\"#000000\" font-family=\"sans-serif\" font-size=\"12\" lengthAdjust=\"spacingAndGlyphs\" textLength=\"40\" x=\"141\" y=\"80.1387\">p1: P1</text><line style=\"stroke: #383838; stroke-width: 1.0;\" x1=\"112\" x2=\"210\" y1=\"87.9688\" y2=\"87.9688\"/></a><!--MD5=[55dfccfc6c49c2d10cd1bd2211a6c90c]\n",
       "cluster E8--><a href=\"psysml:a2155965-1e3e-41f3-b3b0-5a1ed18f6b31\" target=\"_top\" title=\"psysml:a2155965-1e3e-41f3-b3b0-5a1ed18f6b31\" xlink:actuate=\"onRequest\" xlink:href=\"psysml:a2155965-1e3e-41f3-b3b0-5a1ed18f6b31\" xlink:show=\"new\" xlink:title=\"psysml:a2155965-1e3e-41f3-b3b0-5a1ed18f6b31\" xlink:type=\"simple\"><rect fill=\"#FFFFFF\" height=\"84.5\" id=\"E8\" rx=\"10\" ry=\"10\" style=\"stroke: #383838; stroke-width: 1.5;\" width=\"83\" x=\"213\" y=\"120.5\"/><rect fill=\"#F8F8F8\" height=\"23.9688\" rx=\"10\" ry=\"10\" style=\"stroke: #F8F8F8; stroke-width: 1.5;\" width=\"83\" x=\"213\" y=\"120.5\"/><rect fill=\"#F8F8F8\" height=\"10\" style=\"stroke: #F8F8F8; stroke-width: 1.5;\" width=\"83\" x=\"213\" y=\"134.4688\"/><rect fill=\"none\" height=\"84.5\" id=\"E8\" rx=\"10\" ry=\"10\" style=\"stroke: #383838; stroke-width: 1.5;\" width=\"83\" x=\"213\" y=\"120.5\"/><text fill=\"#000000\" font-family=\"sans-serif\" font-size=\"12\" lengthAdjust=\"spacingAndGlyphs\" textLength=\"40\" x=\"234.5\" y=\"136.6387\">p2: P1</text><line style=\"stroke: #383838; stroke-width: 1.0;\" x1=\"213\" x2=\"296\" y1=\"144.4688\" y2=\"144.4688\"/></a><!--MD5=[b4997ac47864f28c2f74865a473b2911]\n",
       "class E2--><a href=\"psysml:252bcdae-bf35-4751-96e5-d2689f20556e\" target=\"_top\" title=\"psysml:252bcdae-bf35-4751-96e5-d2689f20556e\" xlink:actuate=\"onRequest\" xlink:href=\"psysml:252bcdae-bf35-4751-96e5-d2689f20556e\" xlink:show=\"new\" xlink:title=\"psysml:252bcdae-bf35-4751-96e5-d2689f20556e\" xlink:type=\"simple\"><rect fill=\"#FFFFFF\" height=\"45.9375\" id=\"E2\" rx=\"10\" ry=\"10\" style=\"stroke: #383838; stroke-width: 1.5;\" width=\"71\" x=\"32.5\" y=\"41\"/><text fill=\"#000000\" font-family=\"sans-serif\" font-size=\"12\" font-style=\"italic\" lengthAdjust=\"spacingAndGlyphs\" textLength=\"69\" x=\"33.5\" y=\"57.1387\">«attribute»</text><text fill=\"#000000\" font-family=\"sans-serif\" font-size=\"12\" lengthAdjust=\"spacingAndGlyphs\" textLength=\"8\" x=\"64\" y=\"71.1074\">q</text><line style=\"stroke: #383838; stroke-width: 1.5;\" x1=\"33.5\" x2=\"102.5\" y1=\"78.9375\" y2=\"78.9375\"/></a><text fill=\"#000000\" font-family=\"sans-serif\" font-size=\"14\" lengthAdjust=\"spacingAndGlyphs\" textLength=\"44\" x=\"308\" y=\"42.6982\">porig1</text><rect fill=\"#383838\" height=\"12\" style=\"stroke: #F8F8F8; stroke-width: 1.5;\" width=\"12\" x=\"324\" y=\"58\"/><text fill=\"#000000\" font-family=\"sans-serif\" font-size=\"14\" lengthAdjust=\"spacingAndGlyphs\" textLength=\"44\" x=\"355\" y=\"42.6982\">porig1</text><rect fill=\"#383838\" height=\"12\" style=\"stroke: #F8F8F8; stroke-width: 1.5;\" width=\"12\" x=\"371\" y=\"58\"/><text fill=\"#000000\" font-family=\"sans-serif\" font-size=\"14\" lengthAdjust=\"spacingAndGlyphs\" textLength=\"27\" x=\"178.5\" y=\"42.6982\">po1</text><rect fill=\"#383838\" height=\"12\" style=\"stroke: #F8F8F8; stroke-width: 1.5;\" width=\"12\" x=\"186\" y=\"58\"/><text fill=\"#000000\" font-family=\"sans-serif\" font-size=\"14\" lengthAdjust=\"spacingAndGlyphs\" textLength=\"40\" x=\"211\" y=\"99.1982\">pdest</text><rect fill=\"#383838\" height=\"12\" style=\"stroke: #F8F8F8; stroke-width: 1.5;\" width=\"12\" x=\"225\" y=\"114.5\"/><text fill=\"#000000\" font-family=\"sans-serif\" font-size=\"14\" lengthAdjust=\"spacingAndGlyphs\" textLength=\"40\" x=\"258\" y=\"99.1982\">pdest</text><rect fill=\"#383838\" height=\"12\" style=\"stroke: #F8F8F8; stroke-width: 1.5;\" width=\"12\" x=\"272\" y=\"114.5\"/><!--MD5=[1c0b9414cc86e0744215edee6abd8926]\n",
       "link E7 to E9--><a href=\"psysml:1ea7862a-7bab-4478-95a9-37aa2484c274\" target=\"_top\" title=\"psysml:1ea7862a-7bab-4478-95a9-37aa2484c274\" xlink:actuate=\"onRequest\" xlink:href=\"psysml:1ea7862a-7bab-4478-95a9-37aa2484c274\" xlink:show=\"new\" xlink:title=\"psysml:1ea7862a-7bab-4478-95a9-37aa2484c274\" xlink:type=\"simple\"><path d=\"M187.83,70.03 C188.72,81.73 210.14,110.34 224.83,117.73 \" fill=\"none\" id=\"E7-E9\" style=\"stroke: #383838; stroke-width: 3.0;\"/><text fill=\"#000000\" font-family=\"sans-serif\" font-size=\"13\" lengthAdjust=\"spacingAndGlyphs\" textLength=\"7\" x=\"209.8523\" y=\"106.3789\">*</text></a><!--MD5=[1c0b9414cc86e0744215edee6abd8926]\n",
       "link E7 to E9--><a href=\"psysml:1e1521f0-84d2-4d6c-a787-5301105b41c5\" target=\"_top\" title=\"psysml:1e1521f0-84d2-4d6c-a787-5301105b41c5\" xlink:actuate=\"onRequest\" xlink:href=\"psysml:1e1521f0-84d2-4d6c-a787-5301105b41c5\" xlink:show=\"new\" xlink:title=\"psysml:1e1521f0-84d2-4d6c-a787-5301105b41c5\" xlink:type=\"simple\"><path d=\"M198.05,66.57 C213.27,73.62 235.05,102.5 235.62,114.37 \" fill=\"none\" id=\"E7-E9-1\" style=\"stroke: #383838; stroke-width: 3.0;\"/><text fill=\"#000000\" font-family=\"sans-serif\" font-size=\"13\" lengthAdjust=\"spacingAndGlyphs\" textLength=\"7\" x=\"229.278\" y=\"103.4683\">*</text></a><!--MD5=[71d429dcc2217eb80a750952c30bb6d1]\n",
       "@startuml\r\n",
       "skinparam ranksep 10\r\n",
       "skinparam rectangle {\r\n",
       " backgroundColor<<block>> LightGreen\r\n",
       "}\r\n",
       "top to bottom direction\r\n",
       "skinparam monochrome true\r\n",
       "skinparam classbackgroundcolor white\r\n",
       "skinparam shadowing false\r\n",
       "skinparam wrapWidth 300\r\n",
       "hide circle\r\n",
       "\r\n",
       "package \"AliasTest\" as E1  [[psysml:c9a65f38-ba0f-435c-ac18-78f76b0c8149 ]]  {\r\n",
       "comp usage \"q\" as E2  <<(T,blue) attribute>> [[psysml:252bcdae-bf35-4751-96e5-d2689f20556e ]] {\r\n",
       "}\r\n",
       "rec def \"P1\" as E3  <<(T,blue) part def>> [[psysml:6d109465-d99f-46f9-9a55-615eadc52ec3 ]] {\r\n",
       "portin \"porig1\" as E4  <<(T,blue) port>> [[psysml:07c215ea-3a50-4500-a498-5909961b01ab ]] \r\n",
       "portin \"porig1\" as E5  <<(T,blue) port>> [[psysml:07c215ea-3a50-4500-a498-5909961b01ab ]] \r\n",
       "}\r\n",
       "rec usage \"p1: P1\" as E6  [[psysml:4b72c15b-2565-4f84-9632-f618b5b9807b ]] {\r\n",
       "portin \"po1\" as E7  <<(T,blue) port>> [[psysml:653cf2de-fd63-4b48-a4f2-812bd043bef4 ]] \r\n",
       "}\r\n",
       "rec usage \"p2: P1\" as E8  [[psysml:a2155965-1e3e-41f3-b3b0-5a1ed18f6b31 ]] {\r\n",
       "portin \"pdest\" as E9  <<(T,blue) port>> [[psysml:44ed1293-6fc3-4c15-bfe8-a6e98039e875 ]] \r\n",
       "portin \"pdest\" as E10  <<(T,blue) port>> [[psysml:44ed1293-6fc3-4c15-bfe8-a6e98039e875 ]] \r\n",
       "}\r\n",
       "}\r\n",
       "E7 -[thickness=3]- \"*\"E9 [[psysml:1ea7862a-7bab-4478-95a9-37aa2484c274 ]] \r\n",
       "E7 -[thickness=3]- \"*\"E9 [[psysml:1e1521f0-84d2-4d6c-a787-5301105b41c5 ]] \r\n",
       "@enduml\r\n",
       "\n",
       "PlantUML version 1.2020.13(Sat Jun 13 12:26:38 UTC 2020)\n",
       "(EPL source distribution)\n",
       "Java Runtime: OpenJDK Runtime Environment\n",
       "JVM: OpenJDK 64-Bit Server VM\n",
       "Default Encoding: UTF-8\n",
       "Language: en\n",
       "Country: null\n",
       "--></g></svg>"
      ]
     },
     "execution_count": 47,
     "metadata": {},
     "output_type": "execute_result"
    }
   ],
   "source": [
    "%viz --style=\"TB\" --view=\"Interconnection\" \"AliasTest\""
   ]
  },
  {
   "cell_type": "code",
   "execution_count": 48,
   "id": "e278321f",
   "metadata": {
    "execution": {
     "iopub.execute_input": "2021-10-03T08:30:13.126222Z",
     "iopub.status.busy": "2021-10-03T08:30:13.125820Z",
     "iopub.status.idle": "2021-10-03T08:30:13.131275Z",
     "shell.execute_reply": "2021-10-03T08:30:13.131588Z"
    }
   },
   "outputs": [
    {
     "data": {
      "image/svg+xml": [
       "<?xml version=\"1.0\" encoding=\"UTF-8\" standalone=\"no\"?><svg xmlns=\"http://www.w3.org/2000/svg\" xmlns:xlink=\"http://www.w3.org/1999/xlink\" contentScriptType=\"application/ecmascript\" contentStyleType=\"text/css\" height=\"12px\" preserveAspectRatio=\"none\" style=\"width:12px;height:12px;\" version=\"1.1\" viewBox=\"0 0 12 12\" width=\"12px\" zoomAndPan=\"magnify\"><defs/><g><!--MD5=[06afc254b03ac5e9d9fb7773b07d0800]\n",
       "@startuml\r\n",
       "skinparam ranksep 8\r\n",
       "top to bottom direction\r\n",
       "skinparam monochrome true\r\n",
       "skinparam classbackgroundcolor white\r\n",
       "skinparam shadowing false\r\n",
       "skinparam wrapWidth 300\r\n",
       "hide circle\r\n",
       "\r\n",
       "@enduml\r\n",
       "\n",
       "PlantUML version 1.2020.13(Sat Jun 13 12:26:38 UTC 2020)\n",
       "(EPL source distribution)\n",
       "Java Runtime: OpenJDK Runtime Environment\n",
       "JVM: OpenJDK 64-Bit Server VM\n",
       "Default Encoding: UTF-8\n",
       "Language: en\n",
       "Country: null\n",
       "--></g></svg>"
      ]
     },
     "execution_count": 48,
     "metadata": {},
     "output_type": "execute_result"
    }
   ],
   "source": [
    "%viz --style=\"TB\" --view=\"Action\" \"AliasTest\""
   ]
  },
  {
   "cell_type": "code",
   "execution_count": 49,
   "id": "47e5710d",
   "metadata": {
    "execution": {
     "iopub.execute_input": "2021-10-03T08:30:13.181165Z",
     "iopub.status.busy": "2021-10-03T08:30:13.180776Z",
     "iopub.status.idle": "2021-10-03T08:30:13.185817Z",
     "shell.execute_reply": "2021-10-03T08:30:13.186125Z"
    }
   },
   "outputs": [
    {
     "data": {
      "image/svg+xml": [
       "<?xml version=\"1.0\" encoding=\"UTF-8\" standalone=\"no\"?><svg xmlns=\"http://www.w3.org/2000/svg\" xmlns:xlink=\"http://www.w3.org/1999/xlink\" contentScriptType=\"application/ecmascript\" contentStyleType=\"text/css\" height=\"12px\" preserveAspectRatio=\"none\" style=\"width:12px;height:12px;\" version=\"1.1\" viewBox=\"0 0 12 12\" width=\"12px\" zoomAndPan=\"magnify\"><defs/><g><!--MD5=[e1ab0c84c44d2fef8bf5f140f2689906]\n",
       "@startuml\r\n",
       "skinparam roundcorner 20\r\n",
       "skinparam BoxPadding 20\r\n",
       "skinparam SequenceBoxBackgroundColor #white\r\n",
       "skinparam style strictuml\r\n",
       "skinparam maxMessageSize 100\r\n",
       "top to bottom direction\r\n",
       "skinparam monochrome true\r\n",
       "skinparam classbackgroundcolor white\r\n",
       "skinparam shadowing false\r\n",
       "skinparam wrapWidth 300\r\n",
       "hide circle\r\n",
       "\r\n",
       "@enduml\r\n",
       "\n",
       "PlantUML version 1.2020.13(Sat Jun 13 12:26:38 UTC 2020)\n",
       "(EPL source distribution)\n",
       "Java Runtime: OpenJDK Runtime Environment\n",
       "JVM: OpenJDK 64-Bit Server VM\n",
       "Default Encoding: UTF-8\n",
       "Language: en\n",
       "Country: null\n",
       "--></g></svg>"
      ]
     },
     "execution_count": 49,
     "metadata": {},
     "output_type": "execute_result"
    }
   ],
   "source": [
    "%viz --style=\"TB\" --view=\"Sequence\" \"AliasTest\""
   ]
  },
  {
   "cell_type": "code",
   "execution_count": 50,
   "id": "d8c8b0f0",
   "metadata": {
    "execution": {
     "iopub.execute_input": "2021-10-03T08:30:13.235871Z",
     "iopub.status.busy": "2021-10-03T08:30:13.235476Z",
     "iopub.status.idle": "2021-10-03T08:30:13.271738Z",
     "shell.execute_reply": "2021-10-03T08:30:13.271363Z"
    }
   },
   "outputs": [
    {
     "data": {
      "image/svg+xml": [
       "<?xml version=\"1.0\" encoding=\"UTF-8\" standalone=\"no\"?><svg xmlns=\"http://www.w3.org/2000/svg\" xmlns:xlink=\"http://www.w3.org/1999/xlink\" contentScriptType=\"application/ecmascript\" contentStyleType=\"text/css\" height=\"327px\" preserveAspectRatio=\"none\" style=\"width:304px;height:327px;\" version=\"1.1\" viewBox=\"0 0 304 327\" width=\"304px\" zoomAndPan=\"magnify\"><defs/><g><!--MD5=[fbc87193dbaf4d95561dea2c320d4a47]\n",
       "cluster E1--><a href=\"psysml:c9a65f38-ba0f-435c-ac18-78f76b0c8149\" target=\"_top\" title=\"psysml:c9a65f38-ba0f-435c-ac18-78f76b0c8149\" xlink:actuate=\"onRequest\" xlink:href=\"psysml:c9a65f38-ba0f-435c-ac18-78f76b0c8149\" xlink:show=\"new\" xlink:title=\"psysml:c9a65f38-ba0f-435c-ac18-78f76b0c8149\" xlink:type=\"simple\"><polygon fill=\"#FFFFFF\" points=\"16,6,84,6,91,28.2969,282,28.2969,282,315,16,315,16,6\" style=\"stroke: #000000; stroke-width: 1.5;\"/><line style=\"stroke: #000000; stroke-width: 1.5;\" x1=\"16\" x2=\"91\" y1=\"28.2969\" y2=\"28.2969\"/><text fill=\"#000000\" font-family=\"sans-serif\" font-size=\"14\" font-weight=\"bold\" lengthAdjust=\"spacingAndGlyphs\" textLength=\"62\" x=\"20\" y=\"20.9951\">AliasTest</text></a><!--MD5=[b4997ac47864f28c2f74865a473b2911]\n",
       "class E2--><a href=\"psysml:252bcdae-bf35-4751-96e5-d2689f20556e\" target=\"_top\" title=\"psysml:252bcdae-bf35-4751-96e5-d2689f20556e\" xlink:actuate=\"onRequest\" xlink:href=\"psysml:252bcdae-bf35-4751-96e5-d2689f20556e\" xlink:show=\"new\" xlink:title=\"psysml:252bcdae-bf35-4751-96e5-d2689f20556e\" xlink:type=\"simple\"><rect fill=\"#FFFFFF\" height=\"45.9375\" id=\"E2\" rx=\"10\" ry=\"10\" style=\"stroke: #383838; stroke-width: 1.5;\" width=\"71\" x=\"194.5\" y=\"41\"/><text fill=\"#000000\" font-family=\"sans-serif\" font-size=\"12\" font-style=\"italic\" lengthAdjust=\"spacingAndGlyphs\" textLength=\"69\" x=\"195.5\" y=\"57.1387\">«attribute»</text><text fill=\"#000000\" font-family=\"sans-serif\" font-size=\"12\" lengthAdjust=\"spacingAndGlyphs\" textLength=\"8\" x=\"226\" y=\"71.1074\">q</text><line style=\"stroke: #383838; stroke-width: 1.5;\" x1=\"195.5\" x2=\"264.5\" y1=\"78.9375\" y2=\"78.9375\"/></a><!--MD5=[09b614a08d8cba4a07c9adeb5e0fee81]\n",
       "class E3--><a href=\"psysml:6d109465-d99f-46f9-9a55-615eadc52ec3\" target=\"_top\" title=\"psysml:6d109465-d99f-46f9-9a55-615eadc52ec3\" xlink:actuate=\"onRequest\" xlink:href=\"psysml:6d109465-d99f-46f9-9a55-615eadc52ec3\" xlink:show=\"new\" xlink:title=\"psysml:6d109465-d99f-46f9-9a55-615eadc52ec3\" xlink:type=\"simple\"><rect fill=\"#FFFFFF\" height=\"45.9375\" id=\"E3\" style=\"stroke: #383838; stroke-width: 1.5;\" width=\"66\" x=\"168\" y=\"147\"/><text fill=\"#000000\" font-family=\"sans-serif\" font-size=\"12\" font-style=\"italic\" lengthAdjust=\"spacingAndGlyphs\" textLength=\"64\" x=\"169\" y=\"163.1387\">«part def»</text><text fill=\"#000000\" font-family=\"sans-serif\" font-size=\"12\" lengthAdjust=\"spacingAndGlyphs\" textLength=\"16\" x=\"193\" y=\"177.1074\">P1</text><line style=\"stroke: #383838; stroke-width: 1.5;\" x1=\"169\" x2=\"233\" y1=\"184.9375\" y2=\"184.9375\"/></a><!--MD5=[ebbe1d658d1005bcc118a6aa81145e00]\n",
       "class E4--><a href=\"psysml:07c215ea-3a50-4500-a498-5909961b01ab\" target=\"_top\" title=\"psysml:07c215ea-3a50-4500-a498-5909961b01ab\" xlink:actuate=\"onRequest\" xlink:href=\"psysml:07c215ea-3a50-4500-a498-5909961b01ab\" xlink:show=\"new\" xlink:title=\"psysml:07c215ea-3a50-4500-a498-5909961b01ab\" xlink:type=\"simple\"><rect fill=\"#FFFFFF\" height=\"45.9375\" id=\"E4\" rx=\"10\" ry=\"10\" style=\"stroke: #383838; stroke-width: 1.5;\" width=\"46\" x=\"178\" y=\"253\"/><text fill=\"#000000\" font-family=\"sans-serif\" font-size=\"12\" font-style=\"italic\" lengthAdjust=\"spacingAndGlyphs\" textLength=\"40\" x=\"181\" y=\"269.1387\">«port»</text><text fill=\"#000000\" font-family=\"sans-serif\" font-size=\"12\" lengthAdjust=\"spacingAndGlyphs\" textLength=\"40\" x=\"181\" y=\"283.1074\">porig1</text><line style=\"stroke: #383838; stroke-width: 1.5;\" x1=\"179\" x2=\"223\" y1=\"290.9375\" y2=\"290.9375\"/></a><!--MD5=[270fce915f116d4de14055a7c1d9a0f3]\n",
       "class E5--><a href=\"psysml:4b72c15b-2565-4f84-9632-f618b5b9807b\" target=\"_top\" title=\"psysml:4b72c15b-2565-4f84-9632-f618b5b9807b\" xlink:actuate=\"onRequest\" xlink:href=\"psysml:4b72c15b-2565-4f84-9632-f618b5b9807b\" xlink:show=\"new\" xlink:title=\"psysml:4b72c15b-2565-4f84-9632-f618b5b9807b\" xlink:type=\"simple\"><rect fill=\"#FFFFFF\" height=\"45.9375\" id=\"E5\" rx=\"10\" ry=\"10\" style=\"stroke: #383838; stroke-width: 1.5;\" width=\"46\" x=\"113\" y=\"41\"/><text fill=\"#000000\" font-family=\"sans-serif\" font-size=\"12\" font-style=\"italic\" lengthAdjust=\"spacingAndGlyphs\" textLength=\"40\" x=\"116\" y=\"57.1387\">«part»</text><text fill=\"#000000\" font-family=\"sans-serif\" font-size=\"12\" lengthAdjust=\"spacingAndGlyphs\" textLength=\"40\" x=\"116\" y=\"71.1074\">p1: P1</text><line style=\"stroke: #383838; stroke-width: 1.5;\" x1=\"114\" x2=\"158\" y1=\"78.9375\" y2=\"78.9375\"/></a><!--MD5=[60a26617385b1d2d0262a64233df1f8d]\n",
       "class E6--><a href=\"psysml:653cf2de-fd63-4b48-a4f2-812bd043bef4\" target=\"_top\" title=\"psysml:653cf2de-fd63-4b48-a4f2-812bd043bef4\" xlink:actuate=\"onRequest\" xlink:href=\"psysml:653cf2de-fd63-4b48-a4f2-812bd043bef4\" xlink:show=\"new\" xlink:title=\"psysml:653cf2de-fd63-4b48-a4f2-812bd043bef4\" xlink:type=\"simple\"><rect fill=\"#FFFFFF\" height=\"45.9375\" id=\"E6\" rx=\"10\" ry=\"10\" style=\"stroke: #383838; stroke-width: 1.5;\" width=\"42\" x=\"91\" y=\"147\"/><text fill=\"#000000\" font-family=\"sans-serif\" font-size=\"12\" font-style=\"italic\" lengthAdjust=\"spacingAndGlyphs\" textLength=\"40\" x=\"92\" y=\"163.1387\">«port»</text><text fill=\"#000000\" font-family=\"sans-serif\" font-size=\"12\" lengthAdjust=\"spacingAndGlyphs\" textLength=\"24\" x=\"100\" y=\"177.1074\">po1</text><line style=\"stroke: #383838; stroke-width: 1.5;\" x1=\"92\" x2=\"132\" y1=\"184.9375\" y2=\"184.9375\"/></a><!--MD5=[2156ba9850f5573cc1fc38a6a4b2f02b]\n",
       "class E7--><a href=\"psysml:a2155965-1e3e-41f3-b3b0-5a1ed18f6b31\" target=\"_top\" title=\"psysml:a2155965-1e3e-41f3-b3b0-5a1ed18f6b31\" xlink:actuate=\"onRequest\" xlink:href=\"psysml:a2155965-1e3e-41f3-b3b0-5a1ed18f6b31\" xlink:show=\"new\" xlink:title=\"psysml:a2155965-1e3e-41f3-b3b0-5a1ed18f6b31\" xlink:type=\"simple\"><rect fill=\"#FFFFFF\" height=\"45.9375\" id=\"E7\" rx=\"10\" ry=\"10\" style=\"stroke: #383838; stroke-width: 1.5;\" width=\"46\" x=\"32\" y=\"41\"/><text fill=\"#000000\" font-family=\"sans-serif\" font-size=\"12\" font-style=\"italic\" lengthAdjust=\"spacingAndGlyphs\" textLength=\"40\" x=\"35\" y=\"57.1387\">«part»</text><text fill=\"#000000\" font-family=\"sans-serif\" font-size=\"12\" lengthAdjust=\"spacingAndGlyphs\" textLength=\"40\" x=\"35\" y=\"71.1074\">p2: P1</text><line style=\"stroke: #383838; stroke-width: 1.5;\" x1=\"33\" x2=\"77\" y1=\"78.9375\" y2=\"78.9375\"/></a><!--MD5=[b9389687b975829384b498ac4b7476b2]\n",
       "class E8--><a href=\"psysml:44ed1293-6fc3-4c15-bfe8-a6e98039e875\" target=\"_top\" title=\"psysml:44ed1293-6fc3-4c15-bfe8-a6e98039e875\" xlink:actuate=\"onRequest\" xlink:href=\"psysml:44ed1293-6fc3-4c15-bfe8-a6e98039e875\" xlink:show=\"new\" xlink:title=\"psysml:44ed1293-6fc3-4c15-bfe8-a6e98039e875\" xlink:type=\"simple\"><rect fill=\"#FFFFFF\" height=\"45.9375\" id=\"E8\" rx=\"10\" ry=\"10\" style=\"stroke: #383838; stroke-width: 1.5;\" width=\"42\" x=\"63\" y=\"253\"/><text fill=\"#000000\" font-family=\"sans-serif\" font-size=\"12\" font-style=\"italic\" lengthAdjust=\"spacingAndGlyphs\" textLength=\"40\" x=\"64\" y=\"269.1387\">«port»</text><text fill=\"#000000\" font-family=\"sans-serif\" font-size=\"12\" lengthAdjust=\"spacingAndGlyphs\" textLength=\"36\" x=\"66\" y=\"283.1074\">pdest</text><line style=\"stroke: #383838; stroke-width: 1.5;\" x1=\"64\" x2=\"104\" y1=\"290.9375\" y2=\"290.9375\"/></a><!--MD5=[4672eba38e49728da53d11aeb285b987]\n",
       "reverse link E3 to E4--><a href=\"psysml:c0c56757-3d44-421f-b231-ed3c3f6cca2a\" target=\"_top\" title=\"psysml:c0c56757-3d44-421f-b231-ed3c3f6cca2a\" xlink:actuate=\"onRequest\" xlink:href=\"psysml:c0c56757-3d44-421f-b231-ed3c3f6cca2a\" xlink:show=\"new\" xlink:title=\"psysml:c0c56757-3d44-421f-b231-ed3c3f6cca2a\" xlink:type=\"simple\"><path d=\"M188.84,206.44 C187.7,221.87 188.21,239.47 190.36,252.98 \" fill=\"none\" id=\"E3&lt;-E4\" style=\"stroke: #383838; stroke-width: 1.0;\"/><polygon fill=\"#FFFFFF\" points=\"190.35,193.06,185.7032,198.5743,189.006,204.9845,193.6528,199.4702,190.35,193.06\" style=\"stroke: #383838; stroke-width: 1.0;\"/><text fill=\"#000000\" font-family=\"sans-serif\" font-size=\"13\" lengthAdjust=\"spacingAndGlyphs\" textLength=\"8\" x=\"178.4255\" y=\"241.8709\">1</text></a><!--MD5=[4672eba38e49728da53d11aeb285b987]\n",
       "reverse link E3 to E4--><a href=\"psysml:baeef3bb-efbd-4f79-8bec-1b43bb5efd8f\" target=\"_top\" title=\"psysml:baeef3bb-efbd-4f79-8bec-1b43bb5efd8f\" xlink:actuate=\"onRequest\" xlink:href=\"psysml:baeef3bb-efbd-4f79-8bec-1b43bb5efd8f\" xlink:show=\"new\" xlink:title=\"psysml:baeef3bb-efbd-4f79-8bec-1b43bb5efd8f\" xlink:type=\"simple\"><path d=\"M214.01,208.34 C215.03,223.3 214.45,240.02 212.27,252.98 \" fill=\"none\" id=\"E3&lt;-E4-1\" style=\"stroke: #383838; stroke-width: 1.0; stroke-dasharray: 7.0,7.0;\"/><ellipse cx=\"213.1693\" cy=\"201.0093\" fill=\"#FFFFFF\" rx=\"8\" ry=\"8\" style=\"stroke: #383838; stroke-width: 1.0;\"/><line style=\"stroke: #383838; stroke-width: 1.0;\" x1=\"214.0687\" x2=\"212.27\" y1=\"208.9586\" y2=\"193.06\"/><line style=\"stroke: #383838; stroke-width: 1.0;\" x1=\"205.2201\" x2=\"221.1186\" y1=\"201.9086\" y2=\"200.1099\"/><text fill=\"#000000\" font-family=\"sans-serif\" font-size=\"13\" lengthAdjust=\"spacingAndGlyphs\" textLength=\"8\" x=\"206.2238\" y=\"241.8709\">1</text></a><!--MD5=[e9be52314489bd878ff4c7144b63c9e1]\n",
       "link E5 to E3--><a href=\"psysml:3c7344fe-e5a7-4cb3-b89e-76f05a842583\" target=\"_top\" title=\"psysml:3c7344fe-e5a7-4cb3-b89e-76f05a842583\" xlink:actuate=\"onRequest\" xlink:href=\"psysml:3c7344fe-e5a7-4cb3-b89e-76f05a842583\" xlink:show=\"new\" xlink:title=\"psysml:3c7344fe-e5a7-4cb3-b89e-76f05a842583\" xlink:type=\"simple\"><path d=\"M149.78,87.06 C157.54,99.47 167.45,115.33 176.49,129.78 \" fill=\"none\" id=\"E5-&gt;E3\" style=\"stroke: #383838; stroke-width: 1.0;\"/><polygon fill=\"#FFFFFF\" points=\"187.24,146.98,171.2331,134.5792,183.1045,127.1584,187.24,146.98\" style=\"stroke: #383838; stroke-width: 1.0;\"/><ellipse cx=\"169.9076\" cy=\"128.6857\" fill=\"#383838\" rx=\"2\" ry=\"2\" style=\"stroke: #383838; stroke-width: 1.0;\"/><ellipse cx=\"178.3872\" cy=\"123.3851\" fill=\"#383838\" rx=\"2\" ry=\"2\" style=\"stroke: #383838; stroke-width: 1.0;\"/></a><!--MD5=[85d356282659285ab4b2cfe2f634dd2b]\n",
       "reverse link E5 to E6--><a href=\"psysml:5ab2eb8f-0a8a-4f0f-b519-13b72bd8ef83\" target=\"_top\" title=\"psysml:5ab2eb8f-0a8a-4f0f-b519-13b72bd8ef83\" xlink:actuate=\"onRequest\" xlink:href=\"psysml:5ab2eb8f-0a8a-4f0f-b519-13b72bd8ef83\" xlink:show=\"new\" xlink:title=\"psysml:5ab2eb8f-0a8a-4f0f-b519-13b72bd8ef83\" xlink:type=\"simple\"><path d=\"M127.93,99.96 C124.34,115.51 120.23,133.33 117.08,146.98 \" fill=\"none\" id=\"E5&lt;-E6\" style=\"stroke: #383838; stroke-width: 1.0;\"/><polygon fill=\"#FFFFFF\" points=\"130.91,87.06,125.6616,92.0052,128.2078,98.7518,133.4562,93.8066,130.91,87.06\" style=\"stroke: #383838; stroke-width: 1.0;\"/><text fill=\"#000000\" font-family=\"sans-serif\" font-size=\"13\" lengthAdjust=\"spacingAndGlyphs\" textLength=\"8\" x=\"109.3703\" y=\"135.8709\">1</text></a><!--MD5=[f667431f98296947986a1a7595a31603]\n",
       "link E6 to E4--><a href=\"psysml:36152a88-3fda-40f3-9b03-bfa5e7f7b410\" target=\"_top\" title=\"psysml:36152a88-3fda-40f3-9b03-bfa5e7f7b410\" xlink:actuate=\"onRequest\" xlink:href=\"psysml:36152a88-3fda-40f3-9b03-bfa5e7f7b410\" xlink:show=\"new\" xlink:title=\"psysml:36152a88-3fda-40f3-9b03-bfa5e7f7b410\" xlink:type=\"simple\"><path d=\"M130.87,193.06 C141.97,206.02 156.28,222.74 169.08,237.7 \" fill=\"none\" id=\"E6-&gt;E4\" style=\"stroke: #383838; stroke-width: 1.0;\"/><polygon fill=\"#FFFFFF\" points=\"182.15,252.98,164.4809,243.0905,175.1204,233.9909,182.15,252.98\" style=\"stroke: #383838; stroke-width: 1.0;\"/><line style=\"stroke: #383838; stroke-width: 2.0;\" x1=\"162.011\" x2=\"172.6505\" y1=\"240.2026\" y2=\"231.1031\"/></a><!--MD5=[14ccda38c055a5c0da953d572bc50960]\n",
       "link E7 to E3--><a href=\"psysml:e547b523-e8e9-4ecd-8c51-8b63037972c5\" target=\"_top\" title=\"psysml:e547b523-e8e9-4ecd-8c51-8b63037972c5\" xlink:actuate=\"onRequest\" xlink:href=\"psysml:e547b523-e8e9-4ecd-8c51-8b63037972c5\" xlink:show=\"new\" xlink:title=\"psysml:e547b523-e8e9-4ecd-8c51-8b63037972c5\" xlink:type=\"simple\"><path d=\"M78.13,81.48 C98.32,95.86 128.25,117.18 153.52,135.18 \" fill=\"none\" id=\"E7-&gt;E3\" style=\"stroke: #383838; stroke-width: 1.0;\"/><polygon fill=\"#FFFFFF\" points=\"170.09,146.98,150.5533,141.6586,158.6755,130.2555,170.09,146.98\" style=\"stroke: #383838; stroke-width: 1.0;\"/><ellipse cx=\"147.0709\" cy=\"136.7227\" fill=\"#383838\" rx=\"2\" ry=\"2\" style=\"stroke: #383838; stroke-width: 1.0;\"/><ellipse cx=\"152.8725\" cy=\"128.5776\" fill=\"#383838\" rx=\"2\" ry=\"2\" style=\"stroke: #383838; stroke-width: 1.0;\"/></a><!--MD5=[dc164f5e8a733ab456ef1add180e9e34]\n",
       "reverse link E7 to E8--><a href=\"psysml:b237ade3-489d-4fd0-9379-0b86f0889901\" target=\"_top\" title=\"psysml:b237ade3-489d-4fd0-9379-0b86f0889901\" xlink:actuate=\"onRequest\" xlink:href=\"psysml:b237ade3-489d-4fd0-9379-0b86f0889901\" xlink:show=\"new\" xlink:title=\"psysml:b237ade3-489d-4fd0-9379-0b86f0889901\" xlink:type=\"simple\"><path d=\"M50.05,100.09 C51.65,143.61 62.25,216.5 72.75,252.9 \" fill=\"none\" id=\"E7&lt;-E8\" style=\"stroke: #383838; stroke-width: 1.0;\"/><polygon fill=\"#FFFFFF\" points=\"49.85,87.08,45.9362,93.1366,50.0216,99.0788,53.9354,93.0222,49.85,87.08\" style=\"stroke: #383838; stroke-width: 1.0;\"/><text fill=\"#000000\" font-family=\"sans-serif\" font-size=\"13\" lengthAdjust=\"spacingAndGlyphs\" textLength=\"8\" x=\"60.6516\" y=\"241.7694\">1</text></a><!--MD5=[dc164f5e8a733ab456ef1add180e9e34]\n",
       "reverse link E7 to E8--><a href=\"psysml:7018d996-601d-4a38-842d-acb296e8ea77\" target=\"_top\" title=\"psysml:7018d996-601d-4a38-842d-acb296e8ea77\" xlink:actuate=\"onRequest\" xlink:href=\"psysml:7018d996-601d-4a38-842d-acb296e8ea77\" xlink:show=\"new\" xlink:title=\"psysml:7018d996-601d-4a38-842d-acb296e8ea77\" xlink:type=\"simple\"><path d=\"M70.64,101.8 C81.15,145.5 90.39,216.97 89.63,252.9 \" fill=\"none\" id=\"E7&lt;-E8-1\" style=\"stroke: #383838; stroke-width: 1.0; stroke-dasharray: 7.0,7.0;\"/><ellipse cx=\"68.7794\" cy=\"94.813\" fill=\"#FFFFFF\" rx=\"8\" ry=\"8\" style=\"stroke: #383838; stroke-width: 1.0;\"/><line style=\"stroke: #383838; stroke-width: 1.0;\" x1=\"70.8289\" x2=\"66.73\" y1=\"102.5461\" y2=\"87.08\"/><line style=\"stroke: #383838; stroke-width: 1.0;\" x1=\"61.0464\" x2=\"76.5125\" y1=\"96.8625\" y2=\"92.7636\"/><text fill=\"#000000\" font-family=\"sans-serif\" font-size=\"13\" lengthAdjust=\"spacingAndGlyphs\" textLength=\"8\" x=\"92.2181\" y=\"241.7694\">1</text></a><!--MD5=[0a839d0f80c2d72d4b9b307f046d0de8]\n",
       "link E6 to E8--><a href=\"psysml:1ea7862a-7bab-4478-95a9-37aa2484c274\" target=\"_top\" title=\"psysml:1ea7862a-7bab-4478-95a9-37aa2484c274\" xlink:actuate=\"onRequest\" xlink:href=\"psysml:1ea7862a-7bab-4478-95a9-37aa2484c274\" xlink:show=\"new\" xlink:title=\"psysml:1ea7862a-7bab-4478-95a9-37aa2484c274\" xlink:type=\"simple\"><path d=\"M95.42,193.06 C87.86,210.7 81.23,235.34 79.29,252.98 \" fill=\"none\" id=\"E6-E8\" style=\"stroke: #383838; stroke-width: 3.0;\"/><text fill=\"#000000\" font-family=\"sans-serif\" font-size=\"13\" lengthAdjust=\"spacingAndGlyphs\" textLength=\"7\" x=\"78.9648\" y=\"241.8709\">*</text></a><!--MD5=[0a839d0f80c2d72d4b9b307f046d0de8]\n",
       "link E6 to E8--><a href=\"psysml:1e1521f0-84d2-4d6c-a787-5301105b41c5\" target=\"_top\" title=\"psysml:1e1521f0-84d2-4d6c-a787-5301105b41c5\" xlink:actuate=\"onRequest\" xlink:href=\"psysml:1e1521f0-84d2-4d6c-a787-5301105b41c5\" xlink:show=\"new\" xlink:title=\"psysml:1e1521f0-84d2-4d6c-a787-5301105b41c5\" xlink:type=\"simple\"><path d=\"M117.33,193.06 C115.55,210.7 108.92,235.34 101.2,252.98 \" fill=\"none\" id=\"E6-E8-1\" style=\"stroke: #383838; stroke-width: 3.0;\"/><text fill=\"#000000\" font-family=\"sans-serif\" font-size=\"13\" lengthAdjust=\"spacingAndGlyphs\" textLength=\"7\" x=\"97.8819\" y=\"241.8709\">*</text></a><!--MD5=[77a55a0caed7526b5b699be5d4ba9cb2]\n",
       "@startuml\r\n",
       "top to bottom direction\r\n",
       "skinparam monochrome true\r\n",
       "skinparam classbackgroundcolor white\r\n",
       "skinparam shadowing false\r\n",
       "skinparam wrapWidth 300\r\n",
       "hide circle\r\n",
       "\r\n",
       "package \"AliasTest\" as E1  [[psysml:c9a65f38-ba0f-435c-ac18-78f76b0c8149 ]]  {\r\n",
       "comp usage \"q\" as E2  <<(T,blue) attribute>> [[psysml:252bcdae-bf35-4751-96e5-d2689f20556e ]] {\r\n",
       "}\r\n",
       "comp def \"P1\" as E3  <<(T,blue) part def>> [[psysml:6d109465-d99f-46f9-9a55-615eadc52ec3 ]] {\r\n",
       "}\r\n",
       "comp usage \"porig1\" as E4  <<(T,blue) port>> [[psysml:07c215ea-3a50-4500-a498-5909961b01ab ]] {\r\n",
       "}\r\n",
       "comp usage \"p1: P1\" as E5  <<(T,blue) part>> [[psysml:4b72c15b-2565-4f84-9632-f618b5b9807b ]] {\r\n",
       "}\r\n",
       "comp usage \"po1\" as E6  <<(T,blue) port>> [[psysml:653cf2de-fd63-4b48-a4f2-812bd043bef4 ]] {\r\n",
       "}\r\n",
       "comp usage \"p2: P1\" as E7  <<(T,blue) part>> [[psysml:a2155965-1e3e-41f3-b3b0-5a1ed18f6b31 ]] {\r\n",
       "}\r\n",
       "comp usage \"pdest\" as E8  <<(T,blue) port>> [[psysml:44ed1293-6fc3-4c15-bfe8-a6e98039e875 ]] {\r\n",
       "}\r\n",
       "}\r\n",
       "E3 o- - \"1\"E4 [[psysml:c0c56757-3d44-421f-b231-ed3c3f6cca2a ]] \r\n",
       "E3 +.. \"1\"E4 [[psysml:baeef3bb-efbd-4f79-8bec-1b43bb5efd8f ]] \r\n",
       "E5 - -:|> E3 [[psysml:3c7344fe-e5a7-4cb3-b89e-76f05a842583 ]] \r\n",
       "E5 o- - \"1\"E6 [[psysml:5ab2eb8f-0a8a-4f0f-b519-13b72bd8ef83 ]] \r\n",
       "E6 - -||> E4 [[psysml:36152a88-3fda-40f3-9b03-bfa5e7f7b410 ]] \r\n",
       "E7 - -:|> E3 [[psysml:e547b523-e8e9-4ecd-8c51-8b63037972c5 ]] \r\n",
       "E7 o- - \"1\"E8 [[psysml:b237ade3-489d-4fd0-9379-0b86f0889901 ]] \r\n",
       "E7 +.. \"1\"E8 [[psysml:7018d996-601d-4a38-842d-acb296e8ea77 ]] \r\n",
       "E6 -[thickness=3]- \"*\"E8 [[psysml:1ea7862a-7bab-4478-95a9-37aa2484c274 ]] \r\n",
       "E6 -[thickness=3]- \"*\"E8 [[psysml:1e1521f0-84d2-4d6c-a787-5301105b41c5 ]] \r\n",
       "@enduml\r\n",
       "\n",
       "PlantUML version 1.2020.13(Sat Jun 13 12:26:38 UTC 2020)\n",
       "(EPL source distribution)\n",
       "Java Runtime: OpenJDK Runtime Environment\n",
       "JVM: OpenJDK 64-Bit Server VM\n",
       "Default Encoding: UTF-8\n",
       "Language: en\n",
       "Country: null\n",
       "--></g></svg>"
      ]
     },
     "execution_count": 50,
     "metadata": {},
     "output_type": "execute_result"
    }
   ],
   "source": [
    "%viz --style=\"TB\" --view=\"MIXED\" \"AliasTest\""
   ]
  },
  {
   "cell_type": "code",
   "execution_count": 51,
   "id": "f47e3c37",
   "metadata": {
    "execution": {
     "iopub.execute_input": "2021-10-03T08:30:13.320984Z",
     "iopub.status.busy": "2021-10-03T08:30:13.320598Z",
     "iopub.status.idle": "2021-10-03T08:30:13.356839Z",
     "shell.execute_reply": "2021-10-03T08:30:13.356466Z"
    }
   },
   "outputs": [
    {
     "data": {
      "image/svg+xml": [
       "<?xml version=\"1.0\" encoding=\"UTF-8\" standalone=\"no\"?><svg xmlns=\"http://www.w3.org/2000/svg\" xmlns:xlink=\"http://www.w3.org/1999/xlink\" contentScriptType=\"application/ecmascript\" contentStyleType=\"text/css\" height=\"327px\" preserveAspectRatio=\"none\" style=\"width:304px;height:327px;\" version=\"1.1\" viewBox=\"0 0 304 327\" width=\"304px\" zoomAndPan=\"magnify\"><defs/><g><!--MD5=[fbc87193dbaf4d95561dea2c320d4a47]\n",
       "cluster E1--><a href=\"psysml:c9a65f38-ba0f-435c-ac18-78f76b0c8149\" target=\"_top\" title=\"psysml:c9a65f38-ba0f-435c-ac18-78f76b0c8149\" xlink:actuate=\"onRequest\" xlink:href=\"psysml:c9a65f38-ba0f-435c-ac18-78f76b0c8149\" xlink:show=\"new\" xlink:title=\"psysml:c9a65f38-ba0f-435c-ac18-78f76b0c8149\" xlink:type=\"simple\"><polygon fill=\"#FFFFFF\" points=\"16,6,84,6,91,28.2969,282,28.2969,282,315,16,315,16,6\" style=\"stroke: #000000; stroke-width: 1.5;\"/><line style=\"stroke: #000000; stroke-width: 1.5;\" x1=\"16\" x2=\"91\" y1=\"28.2969\" y2=\"28.2969\"/><text fill=\"#000000\" font-family=\"sans-serif\" font-size=\"14\" font-weight=\"bold\" lengthAdjust=\"spacingAndGlyphs\" textLength=\"62\" x=\"20\" y=\"20.9951\">AliasTest</text></a><!--MD5=[b4997ac47864f28c2f74865a473b2911]\n",
       "class E2--><a href=\"psysml:252bcdae-bf35-4751-96e5-d2689f20556e\" target=\"_top\" title=\"psysml:252bcdae-bf35-4751-96e5-d2689f20556e\" xlink:actuate=\"onRequest\" xlink:href=\"psysml:252bcdae-bf35-4751-96e5-d2689f20556e\" xlink:show=\"new\" xlink:title=\"psysml:252bcdae-bf35-4751-96e5-d2689f20556e\" xlink:type=\"simple\"><rect fill=\"#FFFFFF\" height=\"45.9375\" id=\"E2\" rx=\"10\" ry=\"10\" style=\"stroke: #383838; stroke-width: 1.5;\" width=\"71\" x=\"194.5\" y=\"41\"/><text fill=\"#000000\" font-family=\"sans-serif\" font-size=\"12\" font-style=\"italic\" lengthAdjust=\"spacingAndGlyphs\" textLength=\"69\" x=\"195.5\" y=\"57.1387\">«attribute»</text><text fill=\"#000000\" font-family=\"sans-serif\" font-size=\"12\" lengthAdjust=\"spacingAndGlyphs\" textLength=\"8\" x=\"226\" y=\"71.1074\">q</text><line style=\"stroke: #383838; stroke-width: 1.5;\" x1=\"195.5\" x2=\"264.5\" y1=\"78.9375\" y2=\"78.9375\"/></a><!--MD5=[09b614a08d8cba4a07c9adeb5e0fee81]\n",
       "class E3--><a href=\"psysml:6d109465-d99f-46f9-9a55-615eadc52ec3\" target=\"_top\" title=\"psysml:6d109465-d99f-46f9-9a55-615eadc52ec3\" xlink:actuate=\"onRequest\" xlink:href=\"psysml:6d109465-d99f-46f9-9a55-615eadc52ec3\" xlink:show=\"new\" xlink:title=\"psysml:6d109465-d99f-46f9-9a55-615eadc52ec3\" xlink:type=\"simple\"><rect fill=\"#FFFFFF\" height=\"45.9375\" id=\"E3\" style=\"stroke: #383838; stroke-width: 1.5;\" width=\"66\" x=\"168\" y=\"147\"/><text fill=\"#000000\" font-family=\"sans-serif\" font-size=\"12\" font-style=\"italic\" lengthAdjust=\"spacingAndGlyphs\" textLength=\"64\" x=\"169\" y=\"163.1387\">«part def»</text><text fill=\"#000000\" font-family=\"sans-serif\" font-size=\"12\" lengthAdjust=\"spacingAndGlyphs\" textLength=\"16\" x=\"193\" y=\"177.1074\">P1</text><line style=\"stroke: #383838; stroke-width: 1.5;\" x1=\"169\" x2=\"233\" y1=\"184.9375\" y2=\"184.9375\"/></a><!--MD5=[ebbe1d658d1005bcc118a6aa81145e00]\n",
       "class E4--><a href=\"psysml:07c215ea-3a50-4500-a498-5909961b01ab\" target=\"_top\" title=\"psysml:07c215ea-3a50-4500-a498-5909961b01ab\" xlink:actuate=\"onRequest\" xlink:href=\"psysml:07c215ea-3a50-4500-a498-5909961b01ab\" xlink:show=\"new\" xlink:title=\"psysml:07c215ea-3a50-4500-a498-5909961b01ab\" xlink:type=\"simple\"><rect fill=\"#FFFFFF\" height=\"45.9375\" id=\"E4\" rx=\"10\" ry=\"10\" style=\"stroke: #383838; stroke-width: 1.5;\" width=\"46\" x=\"178\" y=\"253\"/><text fill=\"#000000\" font-family=\"sans-serif\" font-size=\"12\" font-style=\"italic\" lengthAdjust=\"spacingAndGlyphs\" textLength=\"40\" x=\"181\" y=\"269.1387\">«port»</text><text fill=\"#000000\" font-family=\"sans-serif\" font-size=\"12\" lengthAdjust=\"spacingAndGlyphs\" textLength=\"40\" x=\"181\" y=\"283.1074\">porig1</text><line style=\"stroke: #383838; stroke-width: 1.5;\" x1=\"179\" x2=\"223\" y1=\"290.9375\" y2=\"290.9375\"/></a><!--MD5=[270fce915f116d4de14055a7c1d9a0f3]\n",
       "class E5--><a href=\"psysml:4b72c15b-2565-4f84-9632-f618b5b9807b\" target=\"_top\" title=\"psysml:4b72c15b-2565-4f84-9632-f618b5b9807b\" xlink:actuate=\"onRequest\" xlink:href=\"psysml:4b72c15b-2565-4f84-9632-f618b5b9807b\" xlink:show=\"new\" xlink:title=\"psysml:4b72c15b-2565-4f84-9632-f618b5b9807b\" xlink:type=\"simple\"><rect fill=\"#FFFFFF\" height=\"45.9375\" id=\"E5\" rx=\"10\" ry=\"10\" style=\"stroke: #383838; stroke-width: 1.5;\" width=\"46\" x=\"113\" y=\"41\"/><text fill=\"#000000\" font-family=\"sans-serif\" font-size=\"12\" font-style=\"italic\" lengthAdjust=\"spacingAndGlyphs\" textLength=\"40\" x=\"116\" y=\"57.1387\">«part»</text><text fill=\"#000000\" font-family=\"sans-serif\" font-size=\"12\" lengthAdjust=\"spacingAndGlyphs\" textLength=\"40\" x=\"116\" y=\"71.1074\">p1: P1</text><line style=\"stroke: #383838; stroke-width: 1.5;\" x1=\"114\" x2=\"158\" y1=\"78.9375\" y2=\"78.9375\"/></a><!--MD5=[60a26617385b1d2d0262a64233df1f8d]\n",
       "class E6--><a href=\"psysml:653cf2de-fd63-4b48-a4f2-812bd043bef4\" target=\"_top\" title=\"psysml:653cf2de-fd63-4b48-a4f2-812bd043bef4\" xlink:actuate=\"onRequest\" xlink:href=\"psysml:653cf2de-fd63-4b48-a4f2-812bd043bef4\" xlink:show=\"new\" xlink:title=\"psysml:653cf2de-fd63-4b48-a4f2-812bd043bef4\" xlink:type=\"simple\"><rect fill=\"#FFFFFF\" height=\"45.9375\" id=\"E6\" rx=\"10\" ry=\"10\" style=\"stroke: #383838; stroke-width: 1.5;\" width=\"42\" x=\"91\" y=\"147\"/><text fill=\"#000000\" font-family=\"sans-serif\" font-size=\"12\" font-style=\"italic\" lengthAdjust=\"spacingAndGlyphs\" textLength=\"40\" x=\"92\" y=\"163.1387\">«port»</text><text fill=\"#000000\" font-family=\"sans-serif\" font-size=\"12\" lengthAdjust=\"spacingAndGlyphs\" textLength=\"24\" x=\"100\" y=\"177.1074\">po1</text><line style=\"stroke: #383838; stroke-width: 1.5;\" x1=\"92\" x2=\"132\" y1=\"184.9375\" y2=\"184.9375\"/></a><!--MD5=[2156ba9850f5573cc1fc38a6a4b2f02b]\n",
       "class E7--><a href=\"psysml:a2155965-1e3e-41f3-b3b0-5a1ed18f6b31\" target=\"_top\" title=\"psysml:a2155965-1e3e-41f3-b3b0-5a1ed18f6b31\" xlink:actuate=\"onRequest\" xlink:href=\"psysml:a2155965-1e3e-41f3-b3b0-5a1ed18f6b31\" xlink:show=\"new\" xlink:title=\"psysml:a2155965-1e3e-41f3-b3b0-5a1ed18f6b31\" xlink:type=\"simple\"><rect fill=\"#FFFFFF\" height=\"45.9375\" id=\"E7\" rx=\"10\" ry=\"10\" style=\"stroke: #383838; stroke-width: 1.5;\" width=\"46\" x=\"32\" y=\"41\"/><text fill=\"#000000\" font-family=\"sans-serif\" font-size=\"12\" font-style=\"italic\" lengthAdjust=\"spacingAndGlyphs\" textLength=\"40\" x=\"35\" y=\"57.1387\">«part»</text><text fill=\"#000000\" font-family=\"sans-serif\" font-size=\"12\" lengthAdjust=\"spacingAndGlyphs\" textLength=\"40\" x=\"35\" y=\"71.1074\">p2: P1</text><line style=\"stroke: #383838; stroke-width: 1.5;\" x1=\"33\" x2=\"77\" y1=\"78.9375\" y2=\"78.9375\"/></a><!--MD5=[b9389687b975829384b498ac4b7476b2]\n",
       "class E8--><a href=\"psysml:44ed1293-6fc3-4c15-bfe8-a6e98039e875\" target=\"_top\" title=\"psysml:44ed1293-6fc3-4c15-bfe8-a6e98039e875\" xlink:actuate=\"onRequest\" xlink:href=\"psysml:44ed1293-6fc3-4c15-bfe8-a6e98039e875\" xlink:show=\"new\" xlink:title=\"psysml:44ed1293-6fc3-4c15-bfe8-a6e98039e875\" xlink:type=\"simple\"><rect fill=\"#FFFFFF\" height=\"45.9375\" id=\"E8\" rx=\"10\" ry=\"10\" style=\"stroke: #383838; stroke-width: 1.5;\" width=\"42\" x=\"63\" y=\"253\"/><text fill=\"#000000\" font-family=\"sans-serif\" font-size=\"12\" font-style=\"italic\" lengthAdjust=\"spacingAndGlyphs\" textLength=\"40\" x=\"64\" y=\"269.1387\">«port»</text><text fill=\"#000000\" font-family=\"sans-serif\" font-size=\"12\" lengthAdjust=\"spacingAndGlyphs\" textLength=\"36\" x=\"66\" y=\"283.1074\">pdest</text><line style=\"stroke: #383838; stroke-width: 1.5;\" x1=\"64\" x2=\"104\" y1=\"290.9375\" y2=\"290.9375\"/></a><!--MD5=[4672eba38e49728da53d11aeb285b987]\n",
       "reverse link E3 to E4--><a href=\"psysml:c0c56757-3d44-421f-b231-ed3c3f6cca2a\" target=\"_top\" title=\"psysml:c0c56757-3d44-421f-b231-ed3c3f6cca2a\" xlink:actuate=\"onRequest\" xlink:href=\"psysml:c0c56757-3d44-421f-b231-ed3c3f6cca2a\" xlink:show=\"new\" xlink:title=\"psysml:c0c56757-3d44-421f-b231-ed3c3f6cca2a\" xlink:type=\"simple\"><path d=\"M193.33,206 C193.33,206 193.33,252.68 193.33,252.68 \" fill=\"none\" id=\"E3&lt;-E4\" style=\"stroke: #383838; stroke-width: 1.0;\"/><polygon fill=\"#FFFFFF\" points=\"193.33,193,189.33,199,193.33,205,197.33,199,193.33,193\" style=\"stroke: #383838; stroke-width: 1.0;\"/><text fill=\"#000000\" font-family=\"sans-serif\" font-size=\"13\" lengthAdjust=\"spacingAndGlyphs\" textLength=\"8\" x=\"182.3396\" y=\"241.8743\">1</text></a><!--MD5=[4672eba38e49728da53d11aeb285b987]\n",
       "reverse link E3 to E4--><a href=\"psysml:baeef3bb-efbd-4f79-8bec-1b43bb5efd8f\" target=\"_top\" title=\"psysml:baeef3bb-efbd-4f79-8bec-1b43bb5efd8f\" xlink:actuate=\"onRequest\" xlink:href=\"psysml:baeef3bb-efbd-4f79-8bec-1b43bb5efd8f\" xlink:show=\"new\" xlink:title=\"psysml:baeef3bb-efbd-4f79-8bec-1b43bb5efd8f\" xlink:type=\"simple\"><path d=\"M208.67,208 C208.67,208 208.67,252.68 208.67,252.68 \" fill=\"none\" id=\"E3&lt;-E4-1\" style=\"stroke: #383838; stroke-width: 1.0; stroke-dasharray: 7.0,7.0;\"/><ellipse cx=\"208.67\" cy=\"201\" fill=\"#FFFFFF\" rx=\"8\" ry=\"8\" style=\"stroke: #383838; stroke-width: 1.0;\"/><line style=\"stroke: #383838; stroke-width: 1.0;\" x1=\"208.67\" x2=\"208.67\" y1=\"209\" y2=\"193\"/><line style=\"stroke: #383838; stroke-width: 1.0;\" x1=\"200.67\" x2=\"216.67\" y1=\"201\" y2=\"201\"/><text fill=\"#000000\" font-family=\"sans-serif\" font-size=\"13\" lengthAdjust=\"spacingAndGlyphs\" textLength=\"8\" x=\"201.6104\" y=\"241.8743\">1</text></a><!--MD5=[e9be52314489bd878ff4c7144b63c9e1]\n",
       "link E5 to E3--><a href=\"psysml:3c7344fe-e5a7-4cb3-b89e-76f05a842583\" target=\"_top\" title=\"psysml:3c7344fe-e5a7-4cb3-b89e-76f05a842583\" xlink:actuate=\"onRequest\" xlink:href=\"psysml:3c7344fe-e5a7-4cb3-b89e-76f05a842583\" xlink:show=\"new\" xlink:title=\"psysml:3c7344fe-e5a7-4cb3-b89e-76f05a842583\" xlink:type=\"simple\"><path d=\"M146,87 C146,118.18 146,170 146,170 C146,170 148.17,170 148.17,170 \" fill=\"none\" id=\"E5-&gt;E3\" style=\"stroke: #383838; stroke-width: 1.0;\"/><polygon fill=\"#FFFFFF\" points=\"167.74,170,148.74,177,148.74,163,167.74,170\" style=\"stroke: #383838; stroke-width: 1.0;\"/><ellipse cx=\"143.04\" cy=\"175\" fill=\"#383838\" rx=\"2\" ry=\"2\" style=\"stroke: #383838; stroke-width: 1.0;\"/><ellipse cx=\"143.04\" cy=\"165\" fill=\"#383838\" rx=\"2\" ry=\"2\" style=\"stroke: #383838; stroke-width: 1.0;\"/></a><!--MD5=[85d356282659285ab4b2cfe2f634dd2b]\n",
       "reverse link E5 to E6--><a href=\"psysml:5ab2eb8f-0a8a-4f0f-b519-13b72bd8ef83\" target=\"_top\" title=\"psysml:5ab2eb8f-0a8a-4f0f-b519-13b72bd8ef83\" xlink:actuate=\"onRequest\" xlink:href=\"psysml:5ab2eb8f-0a8a-4f0f-b519-13b72bd8ef83\" xlink:show=\"new\" xlink:title=\"psysml:5ab2eb8f-0a8a-4f0f-b519-13b72bd8ef83\" xlink:type=\"simple\"><path d=\"M123,100 C123,100 123,146.68 123,146.68 \" fill=\"none\" id=\"E5&lt;-E6\" style=\"stroke: #383838; stroke-width: 1.0;\"/><polygon fill=\"#FFFFFF\" points=\"123,87,119,93,123,99,127,93,123,87\" style=\"stroke: #383838; stroke-width: 1.0;\"/><text fill=\"#000000\" font-family=\"sans-serif\" font-size=\"13\" lengthAdjust=\"spacingAndGlyphs\" textLength=\"8\" x=\"116.7938\" y=\"135.8743\">1</text></a><!--MD5=[f667431f98296947986a1a7595a31603]\n",
       "link E6 to E4--><a href=\"psysml:36152a88-3fda-40f3-9b03-bfa5e7f7b410\" target=\"_top\" title=\"psysml:36152a88-3fda-40f3-9b03-bfa5e7f7b410\" xlink:actuate=\"onRequest\" xlink:href=\"psysml:36152a88-3fda-40f3-9b03-bfa5e7f7b410\" xlink:show=\"new\" xlink:title=\"psysml:36152a88-3fda-40f3-9b03-bfa5e7f7b410\" xlink:type=\"simple\"><path d=\"M119,193 C119,224.18 119,276 119,276 C119,276 157.72,276 157.72,276 \" fill=\"none\" id=\"E6-&gt;E4\" style=\"stroke: #383838; stroke-width: 1.0;\"/><polygon fill=\"#FFFFFF\" points=\"177.72,276,158.72,283,158.72,269,177.72,276\" style=\"stroke: #383838; stroke-width: 1.0;\"/><line style=\"stroke: #383838; stroke-width: 2.0;\" x1=\"154.92\" x2=\"154.92\" y1=\"283\" y2=\"269\"/></a><!--MD5=[14ccda38c055a5c0da953d572bc50960]\n",
       "link E7 to E3--><a href=\"psysml:e547b523-e8e9-4ecd-8c51-8b63037972c5\" target=\"_top\" title=\"psysml:e547b523-e8e9-4ecd-8c51-8b63037972c5\" xlink:actuate=\"onRequest\" xlink:href=\"psysml:e547b523-e8e9-4ecd-8c51-8b63037972c5\" xlink:show=\"new\" xlink:title=\"psysml:e547b523-e8e9-4ecd-8c51-8b63037972c5\" xlink:type=\"simple\"><path d=\"M74.25,87.09 C74.25,101.37 74.25,117 74.25,117 C74.25,117 181.25,117 181.25,117 C181.25,117 181.25,126.91 181.25,126.91 \" fill=\"none\" id=\"E7-&gt;E3\" style=\"stroke: #383838; stroke-width: 1.0;\"/><polygon fill=\"#FFFFFF\" points=\"181.25,146.91,174.25,127.91,188.25,127.91,181.25,146.91\" style=\"stroke: #383838; stroke-width: 1.0;\"/><ellipse cx=\"176.25\" cy=\"122.21\" fill=\"#383838\" rx=\"2\" ry=\"2\" style=\"stroke: #383838; stroke-width: 1.0;\"/><ellipse cx=\"186.25\" cy=\"122.21\" fill=\"#383838\" rx=\"2\" ry=\"2\" style=\"stroke: #383838; stroke-width: 1.0;\"/></a><!--MD5=[dc164f5e8a733ab456ef1add180e9e34]\n",
       "reverse link E7 to E8--><a href=\"psysml:b237ade3-489d-4fd0-9379-0b86f0889901\" target=\"_top\" title=\"psysml:b237ade3-489d-4fd0-9379-0b86f0889901\" xlink:actuate=\"onRequest\" xlink:href=\"psysml:b237ade3-489d-4fd0-9379-0b86f0889901\" xlink:show=\"new\" xlink:title=\"psysml:b237ade3-489d-4fd0-9379-0b86f0889901\" xlink:type=\"simple\"><path d=\"M66.75,100.09 C66.75,100.09 66.75,252.94 66.75,252.94 \" fill=\"none\" id=\"E7&lt;-E8\" style=\"stroke: #383838; stroke-width: 1.0;\"/><polygon fill=\"#FFFFFF\" points=\"66.75,87.09,62.75,93.09,66.75,99.09,70.75,93.09,66.75,87.09\" style=\"stroke: #383838; stroke-width: 1.0;\"/><text fill=\"#000000\" font-family=\"sans-serif\" font-size=\"13\" lengthAdjust=\"spacingAndGlyphs\" textLength=\"8\" x=\"53.0391\" y=\"241.8201\">1</text></a><!--MD5=[dc164f5e8a733ab456ef1add180e9e34]\n",
       "reverse link E7 to E8--><a href=\"psysml:7018d996-601d-4a38-842d-acb296e8ea77\" target=\"_top\" title=\"psysml:7018d996-601d-4a38-842d-acb296e8ea77\" xlink:actuate=\"onRequest\" xlink:href=\"psysml:7018d996-601d-4a38-842d-acb296e8ea77\" xlink:show=\"new\" xlink:title=\"psysml:7018d996-601d-4a38-842d-acb296e8ea77\" xlink:type=\"simple\"><path d=\"M70.5,102.09 C70.5,102.09 70.5,252.94 70.5,252.94 \" fill=\"none\" id=\"E7&lt;-E8-1\" style=\"stroke: #383838; stroke-width: 1.0; stroke-dasharray: 7.0,7.0;\"/><ellipse cx=\"70.5\" cy=\"95.09\" fill=\"#FFFFFF\" rx=\"8\" ry=\"8\" style=\"stroke: #383838; stroke-width: 1.0;\"/><line style=\"stroke: #383838; stroke-width: 1.0;\" x1=\"70.5\" x2=\"70.5\" y1=\"103.09\" y2=\"87.09\"/><line style=\"stroke: #383838; stroke-width: 1.0;\" x1=\"62.5\" x2=\"78.5\" y1=\"95.09\" y2=\"95.09\"/><text fill=\"#000000\" font-family=\"sans-serif\" font-size=\"13\" lengthAdjust=\"spacingAndGlyphs\" textLength=\"8\" x=\"67.9469\" y=\"241.8201\">1</text></a><!--MD5=[0a839d0f80c2d72d4b9b307f046d0de8]\n",
       "link E6 to E8--><a href=\"psysml:1ea7862a-7bab-4478-95a9-37aa2484c274\" target=\"_top\" title=\"psysml:1ea7862a-7bab-4478-95a9-37aa2484c274\" xlink:actuate=\"onRequest\" xlink:href=\"psysml:1ea7862a-7bab-4478-95a9-37aa2484c274\" xlink:show=\"new\" xlink:title=\"psysml:1ea7862a-7bab-4478-95a9-37aa2484c274\" xlink:type=\"simple\"><path d=\"M95.67,193 C95.67,210.66 95.67,234.94 95.67,252.68 \" fill=\"none\" id=\"E6-E8\" style=\"stroke: #383838; stroke-width: 3.0;\"/><text fill=\"#000000\" font-family=\"sans-serif\" font-size=\"13\" lengthAdjust=\"spacingAndGlyphs\" textLength=\"7\" x=\"90.7636\" y=\"241.8743\">*</text></a><!--MD5=[0a839d0f80c2d72d4b9b307f046d0de8]\n",
       "link E6 to E8--><a href=\"psysml:1e1521f0-84d2-4d6c-a787-5301105b41c5\" target=\"_top\" title=\"psysml:1e1521f0-84d2-4d6c-a787-5301105b41c5\" xlink:actuate=\"onRequest\" xlink:href=\"psysml:1e1521f0-84d2-4d6c-a787-5301105b41c5\" xlink:show=\"new\" xlink:title=\"psysml:1e1521f0-84d2-4d6c-a787-5301105b41c5\" xlink:type=\"simple\"><path d=\"M100.33,193 C100.33,210.66 100.33,234.94 100.33,252.68 \" fill=\"none\" id=\"E6-E8-1\" style=\"stroke: #383838; stroke-width: 3.0;\"/><text fill=\"#000000\" font-family=\"sans-serif\" font-size=\"13\" lengthAdjust=\"spacingAndGlyphs\" textLength=\"7\" x=\"105.4114\" y=\"241.8743\">*</text></a><!--MD5=[60ec70b3710bce4cd92ecabd148d4af0]\n",
       "@startuml\r\n",
       "skinparam linetype ortho\r\n",
       "skinparam monochrome true\r\n",
       "skinparam classbackgroundcolor white\r\n",
       "skinparam shadowing false\r\n",
       "skinparam wrapWidth 300\r\n",
       "hide circle\r\n",
       "\r\n",
       "package \"AliasTest\" as E1  [[psysml:c9a65f38-ba0f-435c-ac18-78f76b0c8149 ]]  {\r\n",
       "comp usage \"q\" as E2  <<(T,blue) attribute>> [[psysml:252bcdae-bf35-4751-96e5-d2689f20556e ]] {\r\n",
       "}\r\n",
       "comp def \"P1\" as E3  <<(T,blue) part def>> [[psysml:6d109465-d99f-46f9-9a55-615eadc52ec3 ]] {\r\n",
       "}\r\n",
       "comp usage \"porig1\" as E4  <<(T,blue) port>> [[psysml:07c215ea-3a50-4500-a498-5909961b01ab ]] {\r\n",
       "}\r\n",
       "comp usage \"p1: P1\" as E5  <<(T,blue) part>> [[psysml:4b72c15b-2565-4f84-9632-f618b5b9807b ]] {\r\n",
       "}\r\n",
       "comp usage \"po1\" as E6  <<(T,blue) port>> [[psysml:653cf2de-fd63-4b48-a4f2-812bd043bef4 ]] {\r\n",
       "}\r\n",
       "comp usage \"p2: P1\" as E7  <<(T,blue) part>> [[psysml:a2155965-1e3e-41f3-b3b0-5a1ed18f6b31 ]] {\r\n",
       "}\r\n",
       "comp usage \"pdest\" as E8  <<(T,blue) port>> [[psysml:44ed1293-6fc3-4c15-bfe8-a6e98039e875 ]] {\r\n",
       "}\r\n",
       "}\r\n",
       "E3 o- - \"1\"E4 [[psysml:c0c56757-3d44-421f-b231-ed3c3f6cca2a ]] \r\n",
       "E3 +.. \"1\"E4 [[psysml:baeef3bb-efbd-4f79-8bec-1b43bb5efd8f ]] \r\n",
       "E5 - -:|> E3 [[psysml:3c7344fe-e5a7-4cb3-b89e-76f05a842583 ]] \r\n",
       "E5 o- - \"1\"E6 [[psysml:5ab2eb8f-0a8a-4f0f-b519-13b72bd8ef83 ]] \r\n",
       "E6 - -||> E4 [[psysml:36152a88-3fda-40f3-9b03-bfa5e7f7b410 ]] \r\n",
       "E7 - -:|> E3 [[psysml:e547b523-e8e9-4ecd-8c51-8b63037972c5 ]] \r\n",
       "E7 o- - \"1\"E8 [[psysml:b237ade3-489d-4fd0-9379-0b86f0889901 ]] \r\n",
       "E7 +.. \"1\"E8 [[psysml:7018d996-601d-4a38-842d-acb296e8ea77 ]] \r\n",
       "E6 -[thickness=3]- \"*\"E8 [[psysml:1ea7862a-7bab-4478-95a9-37aa2484c274 ]] \r\n",
       "E6 -[thickness=3]- \"*\"E8 [[psysml:1e1521f0-84d2-4d6c-a787-5301105b41c5 ]] \r\n",
       "@enduml\r\n",
       "\n",
       "PlantUML version 1.2020.13(Sat Jun 13 12:26:38 UTC 2020)\n",
       "(EPL source distribution)\n",
       "Java Runtime: OpenJDK Runtime Environment\n",
       "JVM: OpenJDK 64-Bit Server VM\n",
       "Default Encoding: UTF-8\n",
       "Language: en\n",
       "Country: null\n",
       "--></g></svg>"
      ]
     },
     "execution_count": 51,
     "metadata": {},
     "output_type": "execute_result"
    }
   ],
   "source": [
    "%viz --style=\"ORTHOLINE\" --view=\"Default\" \"AliasTest\""
   ]
  },
  {
   "cell_type": "code",
   "execution_count": 52,
   "id": "2fd90321",
   "metadata": {
    "execution": {
     "iopub.execute_input": "2021-10-03T08:30:13.406060Z",
     "iopub.status.busy": "2021-10-03T08:30:13.405668Z",
     "iopub.status.idle": "2021-10-03T08:30:13.440366Z",
     "shell.execute_reply": "2021-10-03T08:30:13.439981Z"
    }
   },
   "outputs": [
    {
     "data": {
      "image/svg+xml": [
       "<?xml version=\"1.0\" encoding=\"UTF-8\" standalone=\"no\"?><svg xmlns=\"http://www.w3.org/2000/svg\" xmlns:xlink=\"http://www.w3.org/1999/xlink\" contentScriptType=\"application/ecmascript\" contentStyleType=\"text/css\" height=\"327px\" preserveAspectRatio=\"none\" style=\"width:304px;height:327px;\" version=\"1.1\" viewBox=\"0 0 304 327\" width=\"304px\" zoomAndPan=\"magnify\"><defs/><g><!--MD5=[fbc87193dbaf4d95561dea2c320d4a47]\n",
       "cluster E1--><a href=\"psysml:c9a65f38-ba0f-435c-ac18-78f76b0c8149\" target=\"_top\" title=\"psysml:c9a65f38-ba0f-435c-ac18-78f76b0c8149\" xlink:actuate=\"onRequest\" xlink:href=\"psysml:c9a65f38-ba0f-435c-ac18-78f76b0c8149\" xlink:show=\"new\" xlink:title=\"psysml:c9a65f38-ba0f-435c-ac18-78f76b0c8149\" xlink:type=\"simple\"><polygon fill=\"#FFFFFF\" points=\"16,6,84,6,91,28.2969,282,28.2969,282,315,16,315,16,6\" style=\"stroke: #000000; stroke-width: 1.5;\"/><line style=\"stroke: #000000; stroke-width: 1.5;\" x1=\"16\" x2=\"91\" y1=\"28.2969\" y2=\"28.2969\"/><text fill=\"#000000\" font-family=\"sans-serif\" font-size=\"14\" font-weight=\"bold\" lengthAdjust=\"spacingAndGlyphs\" textLength=\"62\" x=\"20\" y=\"20.9951\">AliasTest</text></a><!--MD5=[b4997ac47864f28c2f74865a473b2911]\n",
       "class E2--><a href=\"psysml:252bcdae-bf35-4751-96e5-d2689f20556e\" target=\"_top\" title=\"psysml:252bcdae-bf35-4751-96e5-d2689f20556e\" xlink:actuate=\"onRequest\" xlink:href=\"psysml:252bcdae-bf35-4751-96e5-d2689f20556e\" xlink:show=\"new\" xlink:title=\"psysml:252bcdae-bf35-4751-96e5-d2689f20556e\" xlink:type=\"simple\"><rect fill=\"#FFFFFF\" height=\"45.9375\" id=\"E2\" rx=\"10\" ry=\"10\" style=\"stroke: #383838; stroke-width: 1.5;\" width=\"71\" x=\"194.5\" y=\"41\"/><text fill=\"#000000\" font-family=\"sans-serif\" font-size=\"12\" font-style=\"italic\" lengthAdjust=\"spacingAndGlyphs\" textLength=\"69\" x=\"195.5\" y=\"57.1387\">«attribute»</text><text fill=\"#000000\" font-family=\"sans-serif\" font-size=\"12\" lengthAdjust=\"spacingAndGlyphs\" textLength=\"8\" x=\"226\" y=\"71.1074\">q</text><line style=\"stroke: #383838; stroke-width: 1.5;\" x1=\"195.5\" x2=\"264.5\" y1=\"78.9375\" y2=\"78.9375\"/></a><!--MD5=[09b614a08d8cba4a07c9adeb5e0fee81]\n",
       "class E3--><a href=\"psysml:6d109465-d99f-46f9-9a55-615eadc52ec3\" target=\"_top\" title=\"psysml:6d109465-d99f-46f9-9a55-615eadc52ec3\" xlink:actuate=\"onRequest\" xlink:href=\"psysml:6d109465-d99f-46f9-9a55-615eadc52ec3\" xlink:show=\"new\" xlink:title=\"psysml:6d109465-d99f-46f9-9a55-615eadc52ec3\" xlink:type=\"simple\"><rect fill=\"#FFFFFF\" height=\"45.9375\" id=\"E3\" style=\"stroke: #383838; stroke-width: 1.5;\" width=\"66\" x=\"168\" y=\"147\"/><text fill=\"#000000\" font-family=\"sans-serif\" font-size=\"12\" font-style=\"italic\" lengthAdjust=\"spacingAndGlyphs\" textLength=\"64\" x=\"169\" y=\"163.1387\">«part def»</text><text fill=\"#000000\" font-family=\"sans-serif\" font-size=\"12\" lengthAdjust=\"spacingAndGlyphs\" textLength=\"16\" x=\"193\" y=\"177.1074\">P1</text><line style=\"stroke: #383838; stroke-width: 1.5;\" x1=\"169\" x2=\"233\" y1=\"184.9375\" y2=\"184.9375\"/></a><!--MD5=[ebbe1d658d1005bcc118a6aa81145e00]\n",
       "class E4--><a href=\"psysml:07c215ea-3a50-4500-a498-5909961b01ab\" target=\"_top\" title=\"psysml:07c215ea-3a50-4500-a498-5909961b01ab\" xlink:actuate=\"onRequest\" xlink:href=\"psysml:07c215ea-3a50-4500-a498-5909961b01ab\" xlink:show=\"new\" xlink:title=\"psysml:07c215ea-3a50-4500-a498-5909961b01ab\" xlink:type=\"simple\"><rect fill=\"#FFFFFF\" height=\"45.9375\" id=\"E4\" rx=\"10\" ry=\"10\" style=\"stroke: #383838; stroke-width: 1.5;\" width=\"46\" x=\"178\" y=\"253\"/><text fill=\"#000000\" font-family=\"sans-serif\" font-size=\"12\" font-style=\"italic\" lengthAdjust=\"spacingAndGlyphs\" textLength=\"40\" x=\"181\" y=\"269.1387\">«port»</text><text fill=\"#000000\" font-family=\"sans-serif\" font-size=\"12\" lengthAdjust=\"spacingAndGlyphs\" textLength=\"40\" x=\"181\" y=\"283.1074\">porig1</text><line style=\"stroke: #383838; stroke-width: 1.5;\" x1=\"179\" x2=\"223\" y1=\"290.9375\" y2=\"290.9375\"/></a><!--MD5=[270fce915f116d4de14055a7c1d9a0f3]\n",
       "class E5--><a href=\"psysml:4b72c15b-2565-4f84-9632-f618b5b9807b\" target=\"_top\" title=\"psysml:4b72c15b-2565-4f84-9632-f618b5b9807b\" xlink:actuate=\"onRequest\" xlink:href=\"psysml:4b72c15b-2565-4f84-9632-f618b5b9807b\" xlink:show=\"new\" xlink:title=\"psysml:4b72c15b-2565-4f84-9632-f618b5b9807b\" xlink:type=\"simple\"><rect fill=\"#FFFFFF\" height=\"45.9375\" id=\"E5\" rx=\"10\" ry=\"10\" style=\"stroke: #383838; stroke-width: 1.5;\" width=\"46\" x=\"113\" y=\"41\"/><text fill=\"#000000\" font-family=\"sans-serif\" font-size=\"12\" font-style=\"italic\" lengthAdjust=\"spacingAndGlyphs\" textLength=\"40\" x=\"116\" y=\"57.1387\">«part»</text><text fill=\"#000000\" font-family=\"sans-serif\" font-size=\"12\" lengthAdjust=\"spacingAndGlyphs\" textLength=\"40\" x=\"116\" y=\"71.1074\">p1: P1</text><line style=\"stroke: #383838; stroke-width: 1.5;\" x1=\"114\" x2=\"158\" y1=\"78.9375\" y2=\"78.9375\"/></a><!--MD5=[60a26617385b1d2d0262a64233df1f8d]\n",
       "class E6--><a href=\"psysml:653cf2de-fd63-4b48-a4f2-812bd043bef4\" target=\"_top\" title=\"psysml:653cf2de-fd63-4b48-a4f2-812bd043bef4\" xlink:actuate=\"onRequest\" xlink:href=\"psysml:653cf2de-fd63-4b48-a4f2-812bd043bef4\" xlink:show=\"new\" xlink:title=\"psysml:653cf2de-fd63-4b48-a4f2-812bd043bef4\" xlink:type=\"simple\"><rect fill=\"#FFFFFF\" height=\"45.9375\" id=\"E6\" rx=\"10\" ry=\"10\" style=\"stroke: #383838; stroke-width: 1.5;\" width=\"42\" x=\"91\" y=\"147\"/><text fill=\"#000000\" font-family=\"sans-serif\" font-size=\"12\" font-style=\"italic\" lengthAdjust=\"spacingAndGlyphs\" textLength=\"40\" x=\"92\" y=\"163.1387\">«port»</text><text fill=\"#000000\" font-family=\"sans-serif\" font-size=\"12\" lengthAdjust=\"spacingAndGlyphs\" textLength=\"24\" x=\"100\" y=\"177.1074\">po1</text><line style=\"stroke: #383838; stroke-width: 1.5;\" x1=\"92\" x2=\"132\" y1=\"184.9375\" y2=\"184.9375\"/></a><!--MD5=[2156ba9850f5573cc1fc38a6a4b2f02b]\n",
       "class E7--><a href=\"psysml:a2155965-1e3e-41f3-b3b0-5a1ed18f6b31\" target=\"_top\" title=\"psysml:a2155965-1e3e-41f3-b3b0-5a1ed18f6b31\" xlink:actuate=\"onRequest\" xlink:href=\"psysml:a2155965-1e3e-41f3-b3b0-5a1ed18f6b31\" xlink:show=\"new\" xlink:title=\"psysml:a2155965-1e3e-41f3-b3b0-5a1ed18f6b31\" xlink:type=\"simple\"><rect fill=\"#FFFFFF\" height=\"45.9375\" id=\"E7\" rx=\"10\" ry=\"10\" style=\"stroke: #383838; stroke-width: 1.5;\" width=\"46\" x=\"32\" y=\"41\"/><text fill=\"#000000\" font-family=\"sans-serif\" font-size=\"12\" font-style=\"italic\" lengthAdjust=\"spacingAndGlyphs\" textLength=\"40\" x=\"35\" y=\"57.1387\">«part»</text><text fill=\"#000000\" font-family=\"sans-serif\" font-size=\"12\" lengthAdjust=\"spacingAndGlyphs\" textLength=\"40\" x=\"35\" y=\"71.1074\">p2: P1</text><line style=\"stroke: #383838; stroke-width: 1.5;\" x1=\"33\" x2=\"77\" y1=\"78.9375\" y2=\"78.9375\"/></a><!--MD5=[b9389687b975829384b498ac4b7476b2]\n",
       "class E8--><a href=\"psysml:44ed1293-6fc3-4c15-bfe8-a6e98039e875\" target=\"_top\" title=\"psysml:44ed1293-6fc3-4c15-bfe8-a6e98039e875\" xlink:actuate=\"onRequest\" xlink:href=\"psysml:44ed1293-6fc3-4c15-bfe8-a6e98039e875\" xlink:show=\"new\" xlink:title=\"psysml:44ed1293-6fc3-4c15-bfe8-a6e98039e875\" xlink:type=\"simple\"><rect fill=\"#FFFFFF\" height=\"45.9375\" id=\"E8\" rx=\"10\" ry=\"10\" style=\"stroke: #383838; stroke-width: 1.5;\" width=\"42\" x=\"63\" y=\"253\"/><text fill=\"#000000\" font-family=\"sans-serif\" font-size=\"12\" font-style=\"italic\" lengthAdjust=\"spacingAndGlyphs\" textLength=\"40\" x=\"64\" y=\"269.1387\">«port»</text><text fill=\"#000000\" font-family=\"sans-serif\" font-size=\"12\" lengthAdjust=\"spacingAndGlyphs\" textLength=\"36\" x=\"66\" y=\"283.1074\">pdest</text><line style=\"stroke: #383838; stroke-width: 1.5;\" x1=\"64\" x2=\"104\" y1=\"290.9375\" y2=\"290.9375\"/></a><!--MD5=[4672eba38e49728da53d11aeb285b987]\n",
       "reverse link E3 to E4--><a href=\"psysml:c0c56757-3d44-421f-b231-ed3c3f6cca2a\" target=\"_top\" title=\"psysml:c0c56757-3d44-421f-b231-ed3c3f6cca2a\" xlink:actuate=\"onRequest\" xlink:href=\"psysml:c0c56757-3d44-421f-b231-ed3c3f6cca2a\" xlink:show=\"new\" xlink:title=\"psysml:c0c56757-3d44-421f-b231-ed3c3f6cca2a\" xlink:type=\"simple\"><path d=\"M193.33,206 C193.33,206 193.33,252.68 193.33,252.68 \" fill=\"none\" id=\"E3&lt;-E4\" style=\"stroke: #383838; stroke-width: 1.0;\"/><polygon fill=\"#FFFFFF\" points=\"193.33,193,189.33,199,193.33,205,197.33,199,193.33,193\" style=\"stroke: #383838; stroke-width: 1.0;\"/><text fill=\"#000000\" font-family=\"sans-serif\" font-size=\"13\" lengthAdjust=\"spacingAndGlyphs\" textLength=\"8\" x=\"182.3396\" y=\"241.8743\">1</text></a><!--MD5=[4672eba38e49728da53d11aeb285b987]\n",
       "reverse link E3 to E4--><a href=\"psysml:baeef3bb-efbd-4f79-8bec-1b43bb5efd8f\" target=\"_top\" title=\"psysml:baeef3bb-efbd-4f79-8bec-1b43bb5efd8f\" xlink:actuate=\"onRequest\" xlink:href=\"psysml:baeef3bb-efbd-4f79-8bec-1b43bb5efd8f\" xlink:show=\"new\" xlink:title=\"psysml:baeef3bb-efbd-4f79-8bec-1b43bb5efd8f\" xlink:type=\"simple\"><path d=\"M208.67,208 C208.67,208 208.67,252.68 208.67,252.68 \" fill=\"none\" id=\"E3&lt;-E4-1\" style=\"stroke: #383838; stroke-width: 1.0; stroke-dasharray: 7.0,7.0;\"/><ellipse cx=\"208.67\" cy=\"201\" fill=\"#FFFFFF\" rx=\"8\" ry=\"8\" style=\"stroke: #383838; stroke-width: 1.0;\"/><line style=\"stroke: #383838; stroke-width: 1.0;\" x1=\"208.67\" x2=\"208.67\" y1=\"209\" y2=\"193\"/><line style=\"stroke: #383838; stroke-width: 1.0;\" x1=\"200.67\" x2=\"216.67\" y1=\"201\" y2=\"201\"/><text fill=\"#000000\" font-family=\"sans-serif\" font-size=\"13\" lengthAdjust=\"spacingAndGlyphs\" textLength=\"8\" x=\"201.6104\" y=\"241.8743\">1</text></a><!--MD5=[e9be52314489bd878ff4c7144b63c9e1]\n",
       "link E5 to E3--><a href=\"psysml:3c7344fe-e5a7-4cb3-b89e-76f05a842583\" target=\"_top\" title=\"psysml:3c7344fe-e5a7-4cb3-b89e-76f05a842583\" xlink:actuate=\"onRequest\" xlink:href=\"psysml:3c7344fe-e5a7-4cb3-b89e-76f05a842583\" xlink:show=\"new\" xlink:title=\"psysml:3c7344fe-e5a7-4cb3-b89e-76f05a842583\" xlink:type=\"simple\"><path d=\"M146,87 C146,118.18 146,170 146,170 C146,170 148.17,170 148.17,170 \" fill=\"none\" id=\"E5-&gt;E3\" style=\"stroke: #383838; stroke-width: 1.0;\"/><polygon fill=\"#FFFFFF\" points=\"167.74,170,148.74,177,148.74,163,167.74,170\" style=\"stroke: #383838; stroke-width: 1.0;\"/><ellipse cx=\"143.04\" cy=\"175\" fill=\"#383838\" rx=\"2\" ry=\"2\" style=\"stroke: #383838; stroke-width: 1.0;\"/><ellipse cx=\"143.04\" cy=\"165\" fill=\"#383838\" rx=\"2\" ry=\"2\" style=\"stroke: #383838; stroke-width: 1.0;\"/></a><!--MD5=[85d356282659285ab4b2cfe2f634dd2b]\n",
       "reverse link E5 to E6--><a href=\"psysml:5ab2eb8f-0a8a-4f0f-b519-13b72bd8ef83\" target=\"_top\" title=\"psysml:5ab2eb8f-0a8a-4f0f-b519-13b72bd8ef83\" xlink:actuate=\"onRequest\" xlink:href=\"psysml:5ab2eb8f-0a8a-4f0f-b519-13b72bd8ef83\" xlink:show=\"new\" xlink:title=\"psysml:5ab2eb8f-0a8a-4f0f-b519-13b72bd8ef83\" xlink:type=\"simple\"><path d=\"M123,100 C123,100 123,146.68 123,146.68 \" fill=\"none\" id=\"E5&lt;-E6\" style=\"stroke: #383838; stroke-width: 1.0;\"/><polygon fill=\"#FFFFFF\" points=\"123,87,119,93,123,99,127,93,123,87\" style=\"stroke: #383838; stroke-width: 1.0;\"/><text fill=\"#000000\" font-family=\"sans-serif\" font-size=\"13\" lengthAdjust=\"spacingAndGlyphs\" textLength=\"8\" x=\"116.7938\" y=\"135.8743\">1</text></a><!--MD5=[f667431f98296947986a1a7595a31603]\n",
       "link E6 to E4--><a href=\"psysml:36152a88-3fda-40f3-9b03-bfa5e7f7b410\" target=\"_top\" title=\"psysml:36152a88-3fda-40f3-9b03-bfa5e7f7b410\" xlink:actuate=\"onRequest\" xlink:href=\"psysml:36152a88-3fda-40f3-9b03-bfa5e7f7b410\" xlink:show=\"new\" xlink:title=\"psysml:36152a88-3fda-40f3-9b03-bfa5e7f7b410\" xlink:type=\"simple\"><path d=\"M119,193 C119,224.18 119,276 119,276 C119,276 157.72,276 157.72,276 \" fill=\"none\" id=\"E6-&gt;E4\" style=\"stroke: #383838; stroke-width: 1.0;\"/><polygon fill=\"#FFFFFF\" points=\"177.72,276,158.72,283,158.72,269,177.72,276\" style=\"stroke: #383838; stroke-width: 1.0;\"/><line style=\"stroke: #383838; stroke-width: 2.0;\" x1=\"154.92\" x2=\"154.92\" y1=\"283\" y2=\"269\"/></a><!--MD5=[14ccda38c055a5c0da953d572bc50960]\n",
       "link E7 to E3--><a href=\"psysml:e547b523-e8e9-4ecd-8c51-8b63037972c5\" target=\"_top\" title=\"psysml:e547b523-e8e9-4ecd-8c51-8b63037972c5\" xlink:actuate=\"onRequest\" xlink:href=\"psysml:e547b523-e8e9-4ecd-8c51-8b63037972c5\" xlink:show=\"new\" xlink:title=\"psysml:e547b523-e8e9-4ecd-8c51-8b63037972c5\" xlink:type=\"simple\"><path d=\"M74.25,87.09 C74.25,101.37 74.25,117 74.25,117 C74.25,117 181.25,117 181.25,117 C181.25,117 181.25,126.91 181.25,126.91 \" fill=\"none\" id=\"E7-&gt;E3\" style=\"stroke: #383838; stroke-width: 1.0;\"/><polygon fill=\"#FFFFFF\" points=\"181.25,146.91,174.25,127.91,188.25,127.91,181.25,146.91\" style=\"stroke: #383838; stroke-width: 1.0;\"/><ellipse cx=\"176.25\" cy=\"122.21\" fill=\"#383838\" rx=\"2\" ry=\"2\" style=\"stroke: #383838; stroke-width: 1.0;\"/><ellipse cx=\"186.25\" cy=\"122.21\" fill=\"#383838\" rx=\"2\" ry=\"2\" style=\"stroke: #383838; stroke-width: 1.0;\"/></a><!--MD5=[dc164f5e8a733ab456ef1add180e9e34]\n",
       "reverse link E7 to E8--><a href=\"psysml:b237ade3-489d-4fd0-9379-0b86f0889901\" target=\"_top\" title=\"psysml:b237ade3-489d-4fd0-9379-0b86f0889901\" xlink:actuate=\"onRequest\" xlink:href=\"psysml:b237ade3-489d-4fd0-9379-0b86f0889901\" xlink:show=\"new\" xlink:title=\"psysml:b237ade3-489d-4fd0-9379-0b86f0889901\" xlink:type=\"simple\"><path d=\"M66.75,100.09 C66.75,100.09 66.75,252.94 66.75,252.94 \" fill=\"none\" id=\"E7&lt;-E8\" style=\"stroke: #383838; stroke-width: 1.0;\"/><polygon fill=\"#FFFFFF\" points=\"66.75,87.09,62.75,93.09,66.75,99.09,70.75,93.09,66.75,87.09\" style=\"stroke: #383838; stroke-width: 1.0;\"/><text fill=\"#000000\" font-family=\"sans-serif\" font-size=\"13\" lengthAdjust=\"spacingAndGlyphs\" textLength=\"8\" x=\"53.0391\" y=\"241.8201\">1</text></a><!--MD5=[dc164f5e8a733ab456ef1add180e9e34]\n",
       "reverse link E7 to E8--><a href=\"psysml:7018d996-601d-4a38-842d-acb296e8ea77\" target=\"_top\" title=\"psysml:7018d996-601d-4a38-842d-acb296e8ea77\" xlink:actuate=\"onRequest\" xlink:href=\"psysml:7018d996-601d-4a38-842d-acb296e8ea77\" xlink:show=\"new\" xlink:title=\"psysml:7018d996-601d-4a38-842d-acb296e8ea77\" xlink:type=\"simple\"><path d=\"M70.5,102.09 C70.5,102.09 70.5,252.94 70.5,252.94 \" fill=\"none\" id=\"E7&lt;-E8-1\" style=\"stroke: #383838; stroke-width: 1.0; stroke-dasharray: 7.0,7.0;\"/><ellipse cx=\"70.5\" cy=\"95.09\" fill=\"#FFFFFF\" rx=\"8\" ry=\"8\" style=\"stroke: #383838; stroke-width: 1.0;\"/><line style=\"stroke: #383838; stroke-width: 1.0;\" x1=\"70.5\" x2=\"70.5\" y1=\"103.09\" y2=\"87.09\"/><line style=\"stroke: #383838; stroke-width: 1.0;\" x1=\"62.5\" x2=\"78.5\" y1=\"95.09\" y2=\"95.09\"/><text fill=\"#000000\" font-family=\"sans-serif\" font-size=\"13\" lengthAdjust=\"spacingAndGlyphs\" textLength=\"8\" x=\"67.9469\" y=\"241.8201\">1</text></a><!--MD5=[0a839d0f80c2d72d4b9b307f046d0de8]\n",
       "link E6 to E8--><a href=\"psysml:1ea7862a-7bab-4478-95a9-37aa2484c274\" target=\"_top\" title=\"psysml:1ea7862a-7bab-4478-95a9-37aa2484c274\" xlink:actuate=\"onRequest\" xlink:href=\"psysml:1ea7862a-7bab-4478-95a9-37aa2484c274\" xlink:show=\"new\" xlink:title=\"psysml:1ea7862a-7bab-4478-95a9-37aa2484c274\" xlink:type=\"simple\"><path d=\"M95.67,193 C95.67,210.66 95.67,234.94 95.67,252.68 \" fill=\"none\" id=\"E6-E8\" style=\"stroke: #383838; stroke-width: 3.0;\"/><text fill=\"#000000\" font-family=\"sans-serif\" font-size=\"13\" lengthAdjust=\"spacingAndGlyphs\" textLength=\"7\" x=\"90.7636\" y=\"241.8743\">*</text></a><!--MD5=[0a839d0f80c2d72d4b9b307f046d0de8]\n",
       "link E6 to E8--><a href=\"psysml:1e1521f0-84d2-4d6c-a787-5301105b41c5\" target=\"_top\" title=\"psysml:1e1521f0-84d2-4d6c-a787-5301105b41c5\" xlink:actuate=\"onRequest\" xlink:href=\"psysml:1e1521f0-84d2-4d6c-a787-5301105b41c5\" xlink:show=\"new\" xlink:title=\"psysml:1e1521f0-84d2-4d6c-a787-5301105b41c5\" xlink:type=\"simple\"><path d=\"M100.33,193 C100.33,210.66 100.33,234.94 100.33,252.68 \" fill=\"none\" id=\"E6-E8-1\" style=\"stroke: #383838; stroke-width: 3.0;\"/><text fill=\"#000000\" font-family=\"sans-serif\" font-size=\"13\" lengthAdjust=\"spacingAndGlyphs\" textLength=\"7\" x=\"105.4114\" y=\"241.8743\">*</text></a><!--MD5=[60ec70b3710bce4cd92ecabd148d4af0]\n",
       "@startuml\r\n",
       "skinparam linetype ortho\r\n",
       "skinparam monochrome true\r\n",
       "skinparam classbackgroundcolor white\r\n",
       "skinparam shadowing false\r\n",
       "skinparam wrapWidth 300\r\n",
       "hide circle\r\n",
       "\r\n",
       "package \"AliasTest\" as E1  [[psysml:c9a65f38-ba0f-435c-ac18-78f76b0c8149 ]]  {\r\n",
       "comp usage \"q\" as E2  <<(T,blue) attribute>> [[psysml:252bcdae-bf35-4751-96e5-d2689f20556e ]] {\r\n",
       "}\r\n",
       "comp def \"P1\" as E3  <<(T,blue) part def>> [[psysml:6d109465-d99f-46f9-9a55-615eadc52ec3 ]] {\r\n",
       "}\r\n",
       "comp usage \"porig1\" as E4  <<(T,blue) port>> [[psysml:07c215ea-3a50-4500-a498-5909961b01ab ]] {\r\n",
       "}\r\n",
       "comp usage \"p1: P1\" as E5  <<(T,blue) part>> [[psysml:4b72c15b-2565-4f84-9632-f618b5b9807b ]] {\r\n",
       "}\r\n",
       "comp usage \"po1\" as E6  <<(T,blue) port>> [[psysml:653cf2de-fd63-4b48-a4f2-812bd043bef4 ]] {\r\n",
       "}\r\n",
       "comp usage \"p2: P1\" as E7  <<(T,blue) part>> [[psysml:a2155965-1e3e-41f3-b3b0-5a1ed18f6b31 ]] {\r\n",
       "}\r\n",
       "comp usage \"pdest\" as E8  <<(T,blue) port>> [[psysml:44ed1293-6fc3-4c15-bfe8-a6e98039e875 ]] {\r\n",
       "}\r\n",
       "}\r\n",
       "E3 o- - \"1\"E4 [[psysml:c0c56757-3d44-421f-b231-ed3c3f6cca2a ]] \r\n",
       "E3 +.. \"1\"E4 [[psysml:baeef3bb-efbd-4f79-8bec-1b43bb5efd8f ]] \r\n",
       "E5 - -:|> E3 [[psysml:3c7344fe-e5a7-4cb3-b89e-76f05a842583 ]] \r\n",
       "E5 o- - \"1\"E6 [[psysml:5ab2eb8f-0a8a-4f0f-b519-13b72bd8ef83 ]] \r\n",
       "E6 - -||> E4 [[psysml:36152a88-3fda-40f3-9b03-bfa5e7f7b410 ]] \r\n",
       "E7 - -:|> E3 [[psysml:e547b523-e8e9-4ecd-8c51-8b63037972c5 ]] \r\n",
       "E7 o- - \"1\"E8 [[psysml:b237ade3-489d-4fd0-9379-0b86f0889901 ]] \r\n",
       "E7 +.. \"1\"E8 [[psysml:7018d996-601d-4a38-842d-acb296e8ea77 ]] \r\n",
       "E6 -[thickness=3]- \"*\"E8 [[psysml:1ea7862a-7bab-4478-95a9-37aa2484c274 ]] \r\n",
       "E6 -[thickness=3]- \"*\"E8 [[psysml:1e1521f0-84d2-4d6c-a787-5301105b41c5 ]] \r\n",
       "@enduml\r\n",
       "\n",
       "PlantUML version 1.2020.13(Sat Jun 13 12:26:38 UTC 2020)\n",
       "(EPL source distribution)\n",
       "Java Runtime: OpenJDK Runtime Environment\n",
       "JVM: OpenJDK 64-Bit Server VM\n",
       "Default Encoding: UTF-8\n",
       "Language: en\n",
       "Country: null\n",
       "--></g></svg>"
      ]
     },
     "execution_count": 52,
     "metadata": {},
     "output_type": "execute_result"
    }
   ],
   "source": [
    "%viz --style=\"ORTHOLINE\" --view=\"Tree\" \"AliasTest\""
   ]
  },
  {
   "cell_type": "code",
   "execution_count": 53,
   "id": "1bcb635f",
   "metadata": {
    "execution": {
     "iopub.execute_input": "2021-10-03T08:30:13.489380Z",
     "iopub.status.busy": "2021-10-03T08:30:13.488989Z",
     "iopub.status.idle": "2021-10-03T08:30:13.494327Z",
     "shell.execute_reply": "2021-10-03T08:30:13.494642Z"
    }
   },
   "outputs": [
    {
     "data": {
      "image/svg+xml": [
       "<?xml version=\"1.0\" encoding=\"UTF-8\" standalone=\"no\"?><svg xmlns=\"http://www.w3.org/2000/svg\" xmlns:xlink=\"http://www.w3.org/1999/xlink\" contentScriptType=\"application/ecmascript\" contentStyleType=\"text/css\" height=\"12px\" preserveAspectRatio=\"none\" style=\"width:12px;height:12px;\" version=\"1.1\" viewBox=\"0 0 12 12\" width=\"12px\" zoomAndPan=\"magnify\"><defs/><g><!--MD5=[97d6f38768b311333d388e66b2b27985]\n",
       "@startuml\r\n",
       "skinparam linetype ortho\r\n",
       "skinparam monochrome true\r\n",
       "skinparam classbackgroundcolor white\r\n",
       "skinparam shadowing false\r\n",
       "skinparam wrapWidth 300\r\n",
       "hide circle\r\n",
       "\r\n",
       "@enduml\r\n",
       "\n",
       "PlantUML version 1.2020.13(Sat Jun 13 12:26:38 UTC 2020)\n",
       "(EPL source distribution)\n",
       "Java Runtime: OpenJDK Runtime Environment\n",
       "JVM: OpenJDK 64-Bit Server VM\n",
       "Default Encoding: UTF-8\n",
       "Language: en\n",
       "Country: null\n",
       "--></g></svg>"
      ]
     },
     "execution_count": 53,
     "metadata": {},
     "output_type": "execute_result"
    }
   ],
   "source": [
    "%viz --style=\"ORTHOLINE\" --view=\"State\" \"AliasTest\""
   ]
  },
  {
   "cell_type": "code",
   "execution_count": 54,
   "id": "b753540b",
   "metadata": {
    "execution": {
     "iopub.execute_input": "2021-10-03T08:30:13.544168Z",
     "iopub.status.busy": "2021-10-03T08:30:13.543703Z",
     "iopub.status.idle": "2021-10-03T08:30:13.577568Z",
     "shell.execute_reply": "2021-10-03T08:30:13.577187Z"
    }
   },
   "outputs": [
    {
     "data": {
      "image/svg+xml": [
       "<?xml version=\"1.0\" encoding=\"UTF-8\" standalone=\"no\"?><svg xmlns=\"http://www.w3.org/2000/svg\" xmlns:xlink=\"http://www.w3.org/1999/xlink\" contentScriptType=\"application/ecmascript\" contentStyleType=\"text/css\" height=\"233px\" preserveAspectRatio=\"none\" style=\"width:474px;height:233px;\" version=\"1.1\" viewBox=\"0 0 474 233\" width=\"474px\" zoomAndPan=\"magnify\"><defs/><g><!--MD5=[fbc87193dbaf4d95561dea2c320d4a47]\n",
       "cluster E1--><a href=\"psysml:c9a65f38-ba0f-435c-ac18-78f76b0c8149\" target=\"_top\" title=\"psysml:c9a65f38-ba0f-435c-ac18-78f76b0c8149\" xlink:actuate=\"onRequest\" xlink:href=\"psysml:c9a65f38-ba0f-435c-ac18-78f76b0c8149\" xlink:show=\"new\" xlink:title=\"psysml:c9a65f38-ba0f-435c-ac18-78f76b0c8149\" xlink:type=\"simple\"><polygon fill=\"#FFFFFF\" points=\"16,6,84,6,91,28.2969,452,28.2969,452,221,16,221,16,6\" style=\"stroke: #000000; stroke-width: 1.5;\"/><line style=\"stroke: #000000; stroke-width: 1.5;\" x1=\"16\" x2=\"91\" y1=\"28.2969\" y2=\"28.2969\"/><text fill=\"#000000\" font-family=\"sans-serif\" font-size=\"14\" font-weight=\"bold\" lengthAdjust=\"spacingAndGlyphs\" textLength=\"62\" x=\"20\" y=\"20.9951\">AliasTest</text></a><!--MD5=[d5e69f78d87373223dbae638b30a9c99]\n",
       "cluster E3--><a href=\"psysml:6d109465-d99f-46f9-9a55-615eadc52ec3\" target=\"_top\" title=\"psysml:6d109465-d99f-46f9-9a55-615eadc52ec3\" xlink:actuate=\"onRequest\" xlink:href=\"psysml:6d109465-d99f-46f9-9a55-615eadc52ec3\" xlink:show=\"new\" xlink:title=\"psysml:6d109465-d99f-46f9-9a55-615eadc52ec3\" xlink:type=\"simple\"><rect fill=\"#FFFFFF\" height=\"90\" id=\"E3\" style=\"stroke: #383838; stroke-width: 1.5;\" width=\"83\" x=\"312\" y=\"64\"/><rect fill=\"#F8F8F8\" height=\"37.9375\" style=\"stroke: #383838; stroke-width: 1.5;\" width=\"83\" x=\"312\" y=\"64\"/><text fill=\"#000000\" font-family=\"sans-serif\" font-size=\"12\" font-style=\"italic\" lengthAdjust=\"spacingAndGlyphs\" textLength=\"64\" x=\"321.5\" y=\"80.1387\">«part def»</text><text fill=\"#000000\" font-family=\"sans-serif\" font-size=\"12\" lengthAdjust=\"spacingAndGlyphs\" textLength=\"16\" x=\"345.5\" y=\"94.1074\">P1</text></a><!--MD5=[14e3b0961a2654348d326746436168a1]\n",
       "cluster E6--><a href=\"psysml:4b72c15b-2565-4f84-9632-f618b5b9807b\" target=\"_top\" title=\"psysml:4b72c15b-2565-4f84-9632-f618b5b9807b\" xlink:actuate=\"onRequest\" xlink:href=\"psysml:4b72c15b-2565-4f84-9632-f618b5b9807b\" xlink:show=\"new\" xlink:title=\"psysml:4b72c15b-2565-4f84-9632-f618b5b9807b\" xlink:type=\"simple\"><rect fill=\"#FFFFFF\" height=\"82\" id=\"E6\" rx=\"10\" ry=\"10\" style=\"stroke: #383838; stroke-width: 1.5;\" width=\"98\" x=\"112\" y=\"64\"/><rect fill=\"#F8F8F8\" height=\"23.9688\" rx=\"10\" ry=\"10\" style=\"stroke: #F8F8F8; stroke-width: 1.5;\" width=\"98\" x=\"112\" y=\"64\"/><rect fill=\"#F8F8F8\" height=\"10\" style=\"stroke: #F8F8F8; stroke-width: 1.5;\" width=\"98\" x=\"112\" y=\"77.9688\"/><rect fill=\"none\" height=\"82\" id=\"E6\" rx=\"10\" ry=\"10\" style=\"stroke: #383838; stroke-width: 1.5;\" width=\"98\" x=\"112\" y=\"64\"/><text fill=\"#000000\" font-family=\"sans-serif\" font-size=\"12\" lengthAdjust=\"spacingAndGlyphs\" textLength=\"40\" x=\"141\" y=\"80.1387\">p1: P1</text><line style=\"stroke: #383838; stroke-width: 1.0;\" x1=\"112\" x2=\"210\" y1=\"87.9688\" y2=\"87.9688\"/></a><!--MD5=[55dfccfc6c49c2d10cd1bd2211a6c90c]\n",
       "cluster E8--><a href=\"psysml:a2155965-1e3e-41f3-b3b0-5a1ed18f6b31\" target=\"_top\" title=\"psysml:a2155965-1e3e-41f3-b3b0-5a1ed18f6b31\" xlink:actuate=\"onRequest\" xlink:href=\"psysml:a2155965-1e3e-41f3-b3b0-5a1ed18f6b31\" xlink:show=\"new\" xlink:title=\"psysml:a2155965-1e3e-41f3-b3b0-5a1ed18f6b31\" xlink:type=\"simple\"><rect fill=\"#FFFFFF\" height=\"84.5\" id=\"E8\" rx=\"10\" ry=\"10\" style=\"stroke: #383838; stroke-width: 1.5;\" width=\"83\" x=\"213\" y=\"120.5\"/><rect fill=\"#F8F8F8\" height=\"23.9688\" rx=\"10\" ry=\"10\" style=\"stroke: #F8F8F8; stroke-width: 1.5;\" width=\"83\" x=\"213\" y=\"120.5\"/><rect fill=\"#F8F8F8\" height=\"10\" style=\"stroke: #F8F8F8; stroke-width: 1.5;\" width=\"83\" x=\"213\" y=\"134.4688\"/><rect fill=\"none\" height=\"84.5\" id=\"E8\" rx=\"10\" ry=\"10\" style=\"stroke: #383838; stroke-width: 1.5;\" width=\"83\" x=\"213\" y=\"120.5\"/><text fill=\"#000000\" font-family=\"sans-serif\" font-size=\"12\" lengthAdjust=\"spacingAndGlyphs\" textLength=\"40\" x=\"234.5\" y=\"136.6387\">p2: P1</text><line style=\"stroke: #383838; stroke-width: 1.0;\" x1=\"213\" x2=\"296\" y1=\"144.4688\" y2=\"144.4688\"/></a><!--MD5=[b4997ac47864f28c2f74865a473b2911]\n",
       "class E2--><a href=\"psysml:252bcdae-bf35-4751-96e5-d2689f20556e\" target=\"_top\" title=\"psysml:252bcdae-bf35-4751-96e5-d2689f20556e\" xlink:actuate=\"onRequest\" xlink:href=\"psysml:252bcdae-bf35-4751-96e5-d2689f20556e\" xlink:show=\"new\" xlink:title=\"psysml:252bcdae-bf35-4751-96e5-d2689f20556e\" xlink:type=\"simple\"><rect fill=\"#FFFFFF\" height=\"45.9375\" id=\"E2\" rx=\"10\" ry=\"10\" style=\"stroke: #383838; stroke-width: 1.5;\" width=\"71\" x=\"32.5\" y=\"41\"/><text fill=\"#000000\" font-family=\"sans-serif\" font-size=\"12\" font-style=\"italic\" lengthAdjust=\"spacingAndGlyphs\" textLength=\"69\" x=\"33.5\" y=\"57.1387\">«attribute»</text><text fill=\"#000000\" font-family=\"sans-serif\" font-size=\"12\" lengthAdjust=\"spacingAndGlyphs\" textLength=\"8\" x=\"64\" y=\"71.1074\">q</text><line style=\"stroke: #383838; stroke-width: 1.5;\" x1=\"33.5\" x2=\"102.5\" y1=\"78.9375\" y2=\"78.9375\"/></a><text fill=\"#000000\" font-family=\"sans-serif\" font-size=\"14\" lengthAdjust=\"spacingAndGlyphs\" textLength=\"44\" x=\"308\" y=\"42.6982\">porig1</text><rect fill=\"#383838\" height=\"12\" style=\"stroke: #F8F8F8; stroke-width: 1.5;\" width=\"12\" x=\"324\" y=\"58\"/><text fill=\"#000000\" font-family=\"sans-serif\" font-size=\"14\" lengthAdjust=\"spacingAndGlyphs\" textLength=\"44\" x=\"355\" y=\"42.6982\">porig1</text><rect fill=\"#383838\" height=\"12\" style=\"stroke: #F8F8F8; stroke-width: 1.5;\" width=\"12\" x=\"371\" y=\"58\"/><text fill=\"#000000\" font-family=\"sans-serif\" font-size=\"14\" lengthAdjust=\"spacingAndGlyphs\" textLength=\"27\" x=\"178.5\" y=\"42.6982\">po1</text><rect fill=\"#383838\" height=\"12\" style=\"stroke: #F8F8F8; stroke-width: 1.5;\" width=\"12\" x=\"186\" y=\"58\"/><text fill=\"#000000\" font-family=\"sans-serif\" font-size=\"14\" lengthAdjust=\"spacingAndGlyphs\" textLength=\"40\" x=\"211\" y=\"99.1982\">pdest</text><rect fill=\"#383838\" height=\"12\" style=\"stroke: #F8F8F8; stroke-width: 1.5;\" width=\"12\" x=\"225\" y=\"114.5\"/><text fill=\"#000000\" font-family=\"sans-serif\" font-size=\"14\" lengthAdjust=\"spacingAndGlyphs\" textLength=\"40\" x=\"258\" y=\"99.1982\">pdest</text><rect fill=\"#383838\" height=\"12\" style=\"stroke: #F8F8F8; stroke-width: 1.5;\" width=\"12\" x=\"272\" y=\"114.5\"/><!--MD5=[1c0b9414cc86e0744215edee6abd8926]\n",
       "link E7 to E9--><a href=\"psysml:1ea7862a-7bab-4478-95a9-37aa2484c274\" target=\"_top\" title=\"psysml:1ea7862a-7bab-4478-95a9-37aa2484c274\" xlink:actuate=\"onRequest\" xlink:href=\"psysml:1ea7862a-7bab-4478-95a9-37aa2484c274\" xlink:show=\"new\" xlink:title=\"psysml:1ea7862a-7bab-4478-95a9-37aa2484c274\" xlink:type=\"simple\"><path d=\"M195.88,70.19 C195.88,84.38 195.88,118 195.88,118 C195.88,118 214.82,118 224.88,118 \" fill=\"none\" id=\"E7-E9\" style=\"stroke: #383838; stroke-width: 3.0;\"/><text fill=\"#000000\" font-family=\"sans-serif\" font-size=\"13\" lengthAdjust=\"spacingAndGlyphs\" textLength=\"7\" x=\"209.9435\" y=\"106.8717\">*</text></a><!--MD5=[1c0b9414cc86e0744215edee6abd8926]\n",
       "link E7 to E9--><a href=\"psysml:1e1521f0-84d2-4d6c-a787-5301105b41c5\" target=\"_top\" title=\"psysml:1e1521f0-84d2-4d6c-a787-5301105b41c5\" xlink:actuate=\"onRequest\" xlink:href=\"psysml:1e1521f0-84d2-4d6c-a787-5301105b41c5\" xlink:show=\"new\" xlink:title=\"psysml:1e1521f0-84d2-4d6c-a787-5301105b41c5\" xlink:type=\"simple\"><path d=\"M193.75,70.1 C193.75,84.8 193.75,121 193.75,121 C193.75,121 214.27,121 224.85,121 \" fill=\"none\" id=\"E7-E9-1\" style=\"stroke: #383838; stroke-width: 3.0;\"/><text fill=\"#000000\" font-family=\"sans-serif\" font-size=\"13\" lengthAdjust=\"spacingAndGlyphs\" textLength=\"7\" x=\"209.8888\" y=\"139.7217\">*</text></a><!--MD5=[99225603da7cd8df08a6e1dd73033308]\n",
       "@startuml\r\n",
       "skinparam ranksep 10\r\n",
       "skinparam rectangle {\r\n",
       " backgroundColor<<block>> LightGreen\r\n",
       "}\r\n",
       "skinparam linetype ortho\r\n",
       "skinparam monochrome true\r\n",
       "skinparam classbackgroundcolor white\r\n",
       "skinparam shadowing false\r\n",
       "skinparam wrapWidth 300\r\n",
       "hide circle\r\n",
       "\r\n",
       "package \"AliasTest\" as E1  [[psysml:c9a65f38-ba0f-435c-ac18-78f76b0c8149 ]]  {\r\n",
       "comp usage \"q\" as E2  <<(T,blue) attribute>> [[psysml:252bcdae-bf35-4751-96e5-d2689f20556e ]] {\r\n",
       "}\r\n",
       "rec def \"P1\" as E3  <<(T,blue) part def>> [[psysml:6d109465-d99f-46f9-9a55-615eadc52ec3 ]] {\r\n",
       "portin \"porig1\" as E4  <<(T,blue) port>> [[psysml:07c215ea-3a50-4500-a498-5909961b01ab ]] \r\n",
       "portin \"porig1\" as E5  <<(T,blue) port>> [[psysml:07c215ea-3a50-4500-a498-5909961b01ab ]] \r\n",
       "}\r\n",
       "rec usage \"p1: P1\" as E6  [[psysml:4b72c15b-2565-4f84-9632-f618b5b9807b ]] {\r\n",
       "portin \"po1\" as E7  <<(T,blue) port>> [[psysml:653cf2de-fd63-4b48-a4f2-812bd043bef4 ]] \r\n",
       "}\r\n",
       "rec usage \"p2: P1\" as E8  [[psysml:a2155965-1e3e-41f3-b3b0-5a1ed18f6b31 ]] {\r\n",
       "portin \"pdest\" as E9  <<(T,blue) port>> [[psysml:44ed1293-6fc3-4c15-bfe8-a6e98039e875 ]] \r\n",
       "portin \"pdest\" as E10  <<(T,blue) port>> [[psysml:44ed1293-6fc3-4c15-bfe8-a6e98039e875 ]] \r\n",
       "}\r\n",
       "}\r\n",
       "E7 -[thickness=3]- \"*\"E9 [[psysml:1ea7862a-7bab-4478-95a9-37aa2484c274 ]] \r\n",
       "E7 -[thickness=3]- \"*\"E9 [[psysml:1e1521f0-84d2-4d6c-a787-5301105b41c5 ]] \r\n",
       "@enduml\r\n",
       "\n",
       "PlantUML version 1.2020.13(Sat Jun 13 12:26:38 UTC 2020)\n",
       "(EPL source distribution)\n",
       "Java Runtime: OpenJDK Runtime Environment\n",
       "JVM: OpenJDK 64-Bit Server VM\n",
       "Default Encoding: UTF-8\n",
       "Language: en\n",
       "Country: null\n",
       "--></g></svg>"
      ]
     },
     "execution_count": 54,
     "metadata": {},
     "output_type": "execute_result"
    }
   ],
   "source": [
    "%viz --style=\"ORTHOLINE\" --view=\"Interconnection\" \"AliasTest\""
   ]
  },
  {
   "cell_type": "code",
   "execution_count": 55,
   "id": "68921763",
   "metadata": {
    "execution": {
     "iopub.execute_input": "2021-10-03T08:30:13.626596Z",
     "iopub.status.busy": "2021-10-03T08:30:13.626178Z",
     "iopub.status.idle": "2021-10-03T08:30:13.631656Z",
     "shell.execute_reply": "2021-10-03T08:30:13.631295Z"
    }
   },
   "outputs": [
    {
     "data": {
      "image/svg+xml": [
       "<?xml version=\"1.0\" encoding=\"UTF-8\" standalone=\"no\"?><svg xmlns=\"http://www.w3.org/2000/svg\" xmlns:xlink=\"http://www.w3.org/1999/xlink\" contentScriptType=\"application/ecmascript\" contentStyleType=\"text/css\" height=\"12px\" preserveAspectRatio=\"none\" style=\"width:12px;height:12px;\" version=\"1.1\" viewBox=\"0 0 12 12\" width=\"12px\" zoomAndPan=\"magnify\"><defs/><g><!--MD5=[72934c63077099a26744516a776b4749]\n",
       "@startuml\r\n",
       "skinparam ranksep 8\r\n",
       "skinparam linetype ortho\r\n",
       "skinparam monochrome true\r\n",
       "skinparam classbackgroundcolor white\r\n",
       "skinparam shadowing false\r\n",
       "skinparam wrapWidth 300\r\n",
       "hide circle\r\n",
       "\r\n",
       "@enduml\r\n",
       "\n",
       "PlantUML version 1.2020.13(Sat Jun 13 12:26:38 UTC 2020)\n",
       "(EPL source distribution)\n",
       "Java Runtime: OpenJDK Runtime Environment\n",
       "JVM: OpenJDK 64-Bit Server VM\n",
       "Default Encoding: UTF-8\n",
       "Language: en\n",
       "Country: null\n",
       "--></g></svg>"
      ]
     },
     "execution_count": 55,
     "metadata": {},
     "output_type": "execute_result"
    }
   ],
   "source": [
    "%viz --style=\"ORTHOLINE\" --view=\"Action\" \"AliasTest\""
   ]
  },
  {
   "cell_type": "code",
   "execution_count": 56,
   "id": "1d31378e",
   "metadata": {
    "execution": {
     "iopub.execute_input": "2021-10-03T08:30:13.681042Z",
     "iopub.status.busy": "2021-10-03T08:30:13.680632Z",
     "iopub.status.idle": "2021-10-03T08:30:13.685748Z",
     "shell.execute_reply": "2021-10-03T08:30:13.685408Z"
    }
   },
   "outputs": [
    {
     "data": {
      "image/svg+xml": [
       "<?xml version=\"1.0\" encoding=\"UTF-8\" standalone=\"no\"?><svg xmlns=\"http://www.w3.org/2000/svg\" xmlns:xlink=\"http://www.w3.org/1999/xlink\" contentScriptType=\"application/ecmascript\" contentStyleType=\"text/css\" height=\"12px\" preserveAspectRatio=\"none\" style=\"width:12px;height:12px;\" version=\"1.1\" viewBox=\"0 0 12 12\" width=\"12px\" zoomAndPan=\"magnify\"><defs/><g><!--MD5=[30fc1de5121c5abddedd55b44417fde8]\n",
       "@startuml\r\n",
       "skinparam roundcorner 20\r\n",
       "skinparam BoxPadding 20\r\n",
       "skinparam SequenceBoxBackgroundColor #white\r\n",
       "skinparam style strictuml\r\n",
       "skinparam maxMessageSize 100\r\n",
       "skinparam linetype ortho\r\n",
       "skinparam monochrome true\r\n",
       "skinparam classbackgroundcolor white\r\n",
       "skinparam shadowing false\r\n",
       "skinparam wrapWidth 300\r\n",
       "hide circle\r\n",
       "\r\n",
       "@enduml\r\n",
       "\n",
       "PlantUML version 1.2020.13(Sat Jun 13 12:26:38 UTC 2020)\n",
       "(EPL source distribution)\n",
       "Java Runtime: OpenJDK Runtime Environment\n",
       "JVM: OpenJDK 64-Bit Server VM\n",
       "Default Encoding: UTF-8\n",
       "Language: en\n",
       "Country: null\n",
       "--></g></svg>"
      ]
     },
     "execution_count": 56,
     "metadata": {},
     "output_type": "execute_result"
    }
   ],
   "source": [
    "%viz --style=\"ORTHOLINE\" --view=\"Sequence\" \"AliasTest\""
   ]
  },
  {
   "cell_type": "code",
   "execution_count": 57,
   "id": "c3c1eaa7",
   "metadata": {
    "execution": {
     "iopub.execute_input": "2021-10-03T08:30:13.735189Z",
     "iopub.status.busy": "2021-10-03T08:30:13.734781Z",
     "iopub.status.idle": "2021-10-03T08:30:13.769123Z",
     "shell.execute_reply": "2021-10-03T08:30:13.768776Z"
    }
   },
   "outputs": [
    {
     "data": {
      "image/svg+xml": [
       "<?xml version=\"1.0\" encoding=\"UTF-8\" standalone=\"no\"?><svg xmlns=\"http://www.w3.org/2000/svg\" xmlns:xlink=\"http://www.w3.org/1999/xlink\" contentScriptType=\"application/ecmascript\" contentStyleType=\"text/css\" height=\"327px\" preserveAspectRatio=\"none\" style=\"width:304px;height:327px;\" version=\"1.1\" viewBox=\"0 0 304 327\" width=\"304px\" zoomAndPan=\"magnify\"><defs/><g><!--MD5=[fbc87193dbaf4d95561dea2c320d4a47]\n",
       "cluster E1--><a href=\"psysml:c9a65f38-ba0f-435c-ac18-78f76b0c8149\" target=\"_top\" title=\"psysml:c9a65f38-ba0f-435c-ac18-78f76b0c8149\" xlink:actuate=\"onRequest\" xlink:href=\"psysml:c9a65f38-ba0f-435c-ac18-78f76b0c8149\" xlink:show=\"new\" xlink:title=\"psysml:c9a65f38-ba0f-435c-ac18-78f76b0c8149\" xlink:type=\"simple\"><polygon fill=\"#FFFFFF\" points=\"16,6,84,6,91,28.2969,282,28.2969,282,315,16,315,16,6\" style=\"stroke: #000000; stroke-width: 1.5;\"/><line style=\"stroke: #000000; stroke-width: 1.5;\" x1=\"16\" x2=\"91\" y1=\"28.2969\" y2=\"28.2969\"/><text fill=\"#000000\" font-family=\"sans-serif\" font-size=\"14\" font-weight=\"bold\" lengthAdjust=\"spacingAndGlyphs\" textLength=\"62\" x=\"20\" y=\"20.9951\">AliasTest</text></a><!--MD5=[b4997ac47864f28c2f74865a473b2911]\n",
       "class E2--><a href=\"psysml:252bcdae-bf35-4751-96e5-d2689f20556e\" target=\"_top\" title=\"psysml:252bcdae-bf35-4751-96e5-d2689f20556e\" xlink:actuate=\"onRequest\" xlink:href=\"psysml:252bcdae-bf35-4751-96e5-d2689f20556e\" xlink:show=\"new\" xlink:title=\"psysml:252bcdae-bf35-4751-96e5-d2689f20556e\" xlink:type=\"simple\"><rect fill=\"#FFFFFF\" height=\"45.9375\" id=\"E2\" rx=\"10\" ry=\"10\" style=\"stroke: #383838; stroke-width: 1.5;\" width=\"71\" x=\"194.5\" y=\"41\"/><text fill=\"#000000\" font-family=\"sans-serif\" font-size=\"12\" font-style=\"italic\" lengthAdjust=\"spacingAndGlyphs\" textLength=\"69\" x=\"195.5\" y=\"57.1387\">«attribute»</text><text fill=\"#000000\" font-family=\"sans-serif\" font-size=\"12\" lengthAdjust=\"spacingAndGlyphs\" textLength=\"8\" x=\"226\" y=\"71.1074\">q</text><line style=\"stroke: #383838; stroke-width: 1.5;\" x1=\"195.5\" x2=\"264.5\" y1=\"78.9375\" y2=\"78.9375\"/></a><!--MD5=[09b614a08d8cba4a07c9adeb5e0fee81]\n",
       "class E3--><a href=\"psysml:6d109465-d99f-46f9-9a55-615eadc52ec3\" target=\"_top\" title=\"psysml:6d109465-d99f-46f9-9a55-615eadc52ec3\" xlink:actuate=\"onRequest\" xlink:href=\"psysml:6d109465-d99f-46f9-9a55-615eadc52ec3\" xlink:show=\"new\" xlink:title=\"psysml:6d109465-d99f-46f9-9a55-615eadc52ec3\" xlink:type=\"simple\"><rect fill=\"#FFFFFF\" height=\"45.9375\" id=\"E3\" style=\"stroke: #383838; stroke-width: 1.5;\" width=\"66\" x=\"168\" y=\"147\"/><text fill=\"#000000\" font-family=\"sans-serif\" font-size=\"12\" font-style=\"italic\" lengthAdjust=\"spacingAndGlyphs\" textLength=\"64\" x=\"169\" y=\"163.1387\">«part def»</text><text fill=\"#000000\" font-family=\"sans-serif\" font-size=\"12\" lengthAdjust=\"spacingAndGlyphs\" textLength=\"16\" x=\"193\" y=\"177.1074\">P1</text><line style=\"stroke: #383838; stroke-width: 1.5;\" x1=\"169\" x2=\"233\" y1=\"184.9375\" y2=\"184.9375\"/></a><!--MD5=[ebbe1d658d1005bcc118a6aa81145e00]\n",
       "class E4--><a href=\"psysml:07c215ea-3a50-4500-a498-5909961b01ab\" target=\"_top\" title=\"psysml:07c215ea-3a50-4500-a498-5909961b01ab\" xlink:actuate=\"onRequest\" xlink:href=\"psysml:07c215ea-3a50-4500-a498-5909961b01ab\" xlink:show=\"new\" xlink:title=\"psysml:07c215ea-3a50-4500-a498-5909961b01ab\" xlink:type=\"simple\"><rect fill=\"#FFFFFF\" height=\"45.9375\" id=\"E4\" rx=\"10\" ry=\"10\" style=\"stroke: #383838; stroke-width: 1.5;\" width=\"46\" x=\"178\" y=\"253\"/><text fill=\"#000000\" font-family=\"sans-serif\" font-size=\"12\" font-style=\"italic\" lengthAdjust=\"spacingAndGlyphs\" textLength=\"40\" x=\"181\" y=\"269.1387\">«port»</text><text fill=\"#000000\" font-family=\"sans-serif\" font-size=\"12\" lengthAdjust=\"spacingAndGlyphs\" textLength=\"40\" x=\"181\" y=\"283.1074\">porig1</text><line style=\"stroke: #383838; stroke-width: 1.5;\" x1=\"179\" x2=\"223\" y1=\"290.9375\" y2=\"290.9375\"/></a><!--MD5=[270fce915f116d4de14055a7c1d9a0f3]\n",
       "class E5--><a href=\"psysml:4b72c15b-2565-4f84-9632-f618b5b9807b\" target=\"_top\" title=\"psysml:4b72c15b-2565-4f84-9632-f618b5b9807b\" xlink:actuate=\"onRequest\" xlink:href=\"psysml:4b72c15b-2565-4f84-9632-f618b5b9807b\" xlink:show=\"new\" xlink:title=\"psysml:4b72c15b-2565-4f84-9632-f618b5b9807b\" xlink:type=\"simple\"><rect fill=\"#FFFFFF\" height=\"45.9375\" id=\"E5\" rx=\"10\" ry=\"10\" style=\"stroke: #383838; stroke-width: 1.5;\" width=\"46\" x=\"113\" y=\"41\"/><text fill=\"#000000\" font-family=\"sans-serif\" font-size=\"12\" font-style=\"italic\" lengthAdjust=\"spacingAndGlyphs\" textLength=\"40\" x=\"116\" y=\"57.1387\">«part»</text><text fill=\"#000000\" font-family=\"sans-serif\" font-size=\"12\" lengthAdjust=\"spacingAndGlyphs\" textLength=\"40\" x=\"116\" y=\"71.1074\">p1: P1</text><line style=\"stroke: #383838; stroke-width: 1.5;\" x1=\"114\" x2=\"158\" y1=\"78.9375\" y2=\"78.9375\"/></a><!--MD5=[60a26617385b1d2d0262a64233df1f8d]\n",
       "class E6--><a href=\"psysml:653cf2de-fd63-4b48-a4f2-812bd043bef4\" target=\"_top\" title=\"psysml:653cf2de-fd63-4b48-a4f2-812bd043bef4\" xlink:actuate=\"onRequest\" xlink:href=\"psysml:653cf2de-fd63-4b48-a4f2-812bd043bef4\" xlink:show=\"new\" xlink:title=\"psysml:653cf2de-fd63-4b48-a4f2-812bd043bef4\" xlink:type=\"simple\"><rect fill=\"#FFFFFF\" height=\"45.9375\" id=\"E6\" rx=\"10\" ry=\"10\" style=\"stroke: #383838; stroke-width: 1.5;\" width=\"42\" x=\"91\" y=\"147\"/><text fill=\"#000000\" font-family=\"sans-serif\" font-size=\"12\" font-style=\"italic\" lengthAdjust=\"spacingAndGlyphs\" textLength=\"40\" x=\"92\" y=\"163.1387\">«port»</text><text fill=\"#000000\" font-family=\"sans-serif\" font-size=\"12\" lengthAdjust=\"spacingAndGlyphs\" textLength=\"24\" x=\"100\" y=\"177.1074\">po1</text><line style=\"stroke: #383838; stroke-width: 1.5;\" x1=\"92\" x2=\"132\" y1=\"184.9375\" y2=\"184.9375\"/></a><!--MD5=[2156ba9850f5573cc1fc38a6a4b2f02b]\n",
       "class E7--><a href=\"psysml:a2155965-1e3e-41f3-b3b0-5a1ed18f6b31\" target=\"_top\" title=\"psysml:a2155965-1e3e-41f3-b3b0-5a1ed18f6b31\" xlink:actuate=\"onRequest\" xlink:href=\"psysml:a2155965-1e3e-41f3-b3b0-5a1ed18f6b31\" xlink:show=\"new\" xlink:title=\"psysml:a2155965-1e3e-41f3-b3b0-5a1ed18f6b31\" xlink:type=\"simple\"><rect fill=\"#FFFFFF\" height=\"45.9375\" id=\"E7\" rx=\"10\" ry=\"10\" style=\"stroke: #383838; stroke-width: 1.5;\" width=\"46\" x=\"32\" y=\"41\"/><text fill=\"#000000\" font-family=\"sans-serif\" font-size=\"12\" font-style=\"italic\" lengthAdjust=\"spacingAndGlyphs\" textLength=\"40\" x=\"35\" y=\"57.1387\">«part»</text><text fill=\"#000000\" font-family=\"sans-serif\" font-size=\"12\" lengthAdjust=\"spacingAndGlyphs\" textLength=\"40\" x=\"35\" y=\"71.1074\">p2: P1</text><line style=\"stroke: #383838; stroke-width: 1.5;\" x1=\"33\" x2=\"77\" y1=\"78.9375\" y2=\"78.9375\"/></a><!--MD5=[b9389687b975829384b498ac4b7476b2]\n",
       "class E8--><a href=\"psysml:44ed1293-6fc3-4c15-bfe8-a6e98039e875\" target=\"_top\" title=\"psysml:44ed1293-6fc3-4c15-bfe8-a6e98039e875\" xlink:actuate=\"onRequest\" xlink:href=\"psysml:44ed1293-6fc3-4c15-bfe8-a6e98039e875\" xlink:show=\"new\" xlink:title=\"psysml:44ed1293-6fc3-4c15-bfe8-a6e98039e875\" xlink:type=\"simple\"><rect fill=\"#FFFFFF\" height=\"45.9375\" id=\"E8\" rx=\"10\" ry=\"10\" style=\"stroke: #383838; stroke-width: 1.5;\" width=\"42\" x=\"63\" y=\"253\"/><text fill=\"#000000\" font-family=\"sans-serif\" font-size=\"12\" font-style=\"italic\" lengthAdjust=\"spacingAndGlyphs\" textLength=\"40\" x=\"64\" y=\"269.1387\">«port»</text><text fill=\"#000000\" font-family=\"sans-serif\" font-size=\"12\" lengthAdjust=\"spacingAndGlyphs\" textLength=\"36\" x=\"66\" y=\"283.1074\">pdest</text><line style=\"stroke: #383838; stroke-width: 1.5;\" x1=\"64\" x2=\"104\" y1=\"290.9375\" y2=\"290.9375\"/></a><!--MD5=[4672eba38e49728da53d11aeb285b987]\n",
       "reverse link E3 to E4--><a href=\"psysml:c0c56757-3d44-421f-b231-ed3c3f6cca2a\" target=\"_top\" title=\"psysml:c0c56757-3d44-421f-b231-ed3c3f6cca2a\" xlink:actuate=\"onRequest\" xlink:href=\"psysml:c0c56757-3d44-421f-b231-ed3c3f6cca2a\" xlink:show=\"new\" xlink:title=\"psysml:c0c56757-3d44-421f-b231-ed3c3f6cca2a\" xlink:type=\"simple\"><path d=\"M193.33,206 C193.33,206 193.33,252.68 193.33,252.68 \" fill=\"none\" id=\"E3&lt;-E4\" style=\"stroke: #383838; stroke-width: 1.0;\"/><polygon fill=\"#FFFFFF\" points=\"193.33,193,189.33,199,193.33,205,197.33,199,193.33,193\" style=\"stroke: #383838; stroke-width: 1.0;\"/><text fill=\"#000000\" font-family=\"sans-serif\" font-size=\"13\" lengthAdjust=\"spacingAndGlyphs\" textLength=\"8\" x=\"182.3396\" y=\"241.8743\">1</text></a><!--MD5=[4672eba38e49728da53d11aeb285b987]\n",
       "reverse link E3 to E4--><a href=\"psysml:baeef3bb-efbd-4f79-8bec-1b43bb5efd8f\" target=\"_top\" title=\"psysml:baeef3bb-efbd-4f79-8bec-1b43bb5efd8f\" xlink:actuate=\"onRequest\" xlink:href=\"psysml:baeef3bb-efbd-4f79-8bec-1b43bb5efd8f\" xlink:show=\"new\" xlink:title=\"psysml:baeef3bb-efbd-4f79-8bec-1b43bb5efd8f\" xlink:type=\"simple\"><path d=\"M208.67,208 C208.67,208 208.67,252.68 208.67,252.68 \" fill=\"none\" id=\"E3&lt;-E4-1\" style=\"stroke: #383838; stroke-width: 1.0; stroke-dasharray: 7.0,7.0;\"/><ellipse cx=\"208.67\" cy=\"201\" fill=\"#FFFFFF\" rx=\"8\" ry=\"8\" style=\"stroke: #383838; stroke-width: 1.0;\"/><line style=\"stroke: #383838; stroke-width: 1.0;\" x1=\"208.67\" x2=\"208.67\" y1=\"209\" y2=\"193\"/><line style=\"stroke: #383838; stroke-width: 1.0;\" x1=\"200.67\" x2=\"216.67\" y1=\"201\" y2=\"201\"/><text fill=\"#000000\" font-family=\"sans-serif\" font-size=\"13\" lengthAdjust=\"spacingAndGlyphs\" textLength=\"8\" x=\"201.6104\" y=\"241.8743\">1</text></a><!--MD5=[e9be52314489bd878ff4c7144b63c9e1]\n",
       "link E5 to E3--><a href=\"psysml:3c7344fe-e5a7-4cb3-b89e-76f05a842583\" target=\"_top\" title=\"psysml:3c7344fe-e5a7-4cb3-b89e-76f05a842583\" xlink:actuate=\"onRequest\" xlink:href=\"psysml:3c7344fe-e5a7-4cb3-b89e-76f05a842583\" xlink:show=\"new\" xlink:title=\"psysml:3c7344fe-e5a7-4cb3-b89e-76f05a842583\" xlink:type=\"simple\"><path d=\"M146,87 C146,118.18 146,170 146,170 C146,170 148.17,170 148.17,170 \" fill=\"none\" id=\"E5-&gt;E3\" style=\"stroke: #383838; stroke-width: 1.0;\"/><polygon fill=\"#FFFFFF\" points=\"167.74,170,148.74,177,148.74,163,167.74,170\" style=\"stroke: #383838; stroke-width: 1.0;\"/><ellipse cx=\"143.04\" cy=\"175\" fill=\"#383838\" rx=\"2\" ry=\"2\" style=\"stroke: #383838; stroke-width: 1.0;\"/><ellipse cx=\"143.04\" cy=\"165\" fill=\"#383838\" rx=\"2\" ry=\"2\" style=\"stroke: #383838; stroke-width: 1.0;\"/></a><!--MD5=[85d356282659285ab4b2cfe2f634dd2b]\n",
       "reverse link E5 to E6--><a href=\"psysml:5ab2eb8f-0a8a-4f0f-b519-13b72bd8ef83\" target=\"_top\" title=\"psysml:5ab2eb8f-0a8a-4f0f-b519-13b72bd8ef83\" xlink:actuate=\"onRequest\" xlink:href=\"psysml:5ab2eb8f-0a8a-4f0f-b519-13b72bd8ef83\" xlink:show=\"new\" xlink:title=\"psysml:5ab2eb8f-0a8a-4f0f-b519-13b72bd8ef83\" xlink:type=\"simple\"><path d=\"M123,100 C123,100 123,146.68 123,146.68 \" fill=\"none\" id=\"E5&lt;-E6\" style=\"stroke: #383838; stroke-width: 1.0;\"/><polygon fill=\"#FFFFFF\" points=\"123,87,119,93,123,99,127,93,123,87\" style=\"stroke: #383838; stroke-width: 1.0;\"/><text fill=\"#000000\" font-family=\"sans-serif\" font-size=\"13\" lengthAdjust=\"spacingAndGlyphs\" textLength=\"8\" x=\"116.7938\" y=\"135.8743\">1</text></a><!--MD5=[f667431f98296947986a1a7595a31603]\n",
       "link E6 to E4--><a href=\"psysml:36152a88-3fda-40f3-9b03-bfa5e7f7b410\" target=\"_top\" title=\"psysml:36152a88-3fda-40f3-9b03-bfa5e7f7b410\" xlink:actuate=\"onRequest\" xlink:href=\"psysml:36152a88-3fda-40f3-9b03-bfa5e7f7b410\" xlink:show=\"new\" xlink:title=\"psysml:36152a88-3fda-40f3-9b03-bfa5e7f7b410\" xlink:type=\"simple\"><path d=\"M119,193 C119,224.18 119,276 119,276 C119,276 157.72,276 157.72,276 \" fill=\"none\" id=\"E6-&gt;E4\" style=\"stroke: #383838; stroke-width: 1.0;\"/><polygon fill=\"#FFFFFF\" points=\"177.72,276,158.72,283,158.72,269,177.72,276\" style=\"stroke: #383838; stroke-width: 1.0;\"/><line style=\"stroke: #383838; stroke-width: 2.0;\" x1=\"154.92\" x2=\"154.92\" y1=\"283\" y2=\"269\"/></a><!--MD5=[14ccda38c055a5c0da953d572bc50960]\n",
       "link E7 to E3--><a href=\"psysml:e547b523-e8e9-4ecd-8c51-8b63037972c5\" target=\"_top\" title=\"psysml:e547b523-e8e9-4ecd-8c51-8b63037972c5\" xlink:actuate=\"onRequest\" xlink:href=\"psysml:e547b523-e8e9-4ecd-8c51-8b63037972c5\" xlink:show=\"new\" xlink:title=\"psysml:e547b523-e8e9-4ecd-8c51-8b63037972c5\" xlink:type=\"simple\"><path d=\"M74.25,87.09 C74.25,101.37 74.25,117 74.25,117 C74.25,117 181.25,117 181.25,117 C181.25,117 181.25,126.91 181.25,126.91 \" fill=\"none\" id=\"E7-&gt;E3\" style=\"stroke: #383838; stroke-width: 1.0;\"/><polygon fill=\"#FFFFFF\" points=\"181.25,146.91,174.25,127.91,188.25,127.91,181.25,146.91\" style=\"stroke: #383838; stroke-width: 1.0;\"/><ellipse cx=\"176.25\" cy=\"122.21\" fill=\"#383838\" rx=\"2\" ry=\"2\" style=\"stroke: #383838; stroke-width: 1.0;\"/><ellipse cx=\"186.25\" cy=\"122.21\" fill=\"#383838\" rx=\"2\" ry=\"2\" style=\"stroke: #383838; stroke-width: 1.0;\"/></a><!--MD5=[dc164f5e8a733ab456ef1add180e9e34]\n",
       "reverse link E7 to E8--><a href=\"psysml:b237ade3-489d-4fd0-9379-0b86f0889901\" target=\"_top\" title=\"psysml:b237ade3-489d-4fd0-9379-0b86f0889901\" xlink:actuate=\"onRequest\" xlink:href=\"psysml:b237ade3-489d-4fd0-9379-0b86f0889901\" xlink:show=\"new\" xlink:title=\"psysml:b237ade3-489d-4fd0-9379-0b86f0889901\" xlink:type=\"simple\"><path d=\"M66.75,100.09 C66.75,100.09 66.75,252.94 66.75,252.94 \" fill=\"none\" id=\"E7&lt;-E8\" style=\"stroke: #383838; stroke-width: 1.0;\"/><polygon fill=\"#FFFFFF\" points=\"66.75,87.09,62.75,93.09,66.75,99.09,70.75,93.09,66.75,87.09\" style=\"stroke: #383838; stroke-width: 1.0;\"/><text fill=\"#000000\" font-family=\"sans-serif\" font-size=\"13\" lengthAdjust=\"spacingAndGlyphs\" textLength=\"8\" x=\"53.0391\" y=\"241.8201\">1</text></a><!--MD5=[dc164f5e8a733ab456ef1add180e9e34]\n",
       "reverse link E7 to E8--><a href=\"psysml:7018d996-601d-4a38-842d-acb296e8ea77\" target=\"_top\" title=\"psysml:7018d996-601d-4a38-842d-acb296e8ea77\" xlink:actuate=\"onRequest\" xlink:href=\"psysml:7018d996-601d-4a38-842d-acb296e8ea77\" xlink:show=\"new\" xlink:title=\"psysml:7018d996-601d-4a38-842d-acb296e8ea77\" xlink:type=\"simple\"><path d=\"M70.5,102.09 C70.5,102.09 70.5,252.94 70.5,252.94 \" fill=\"none\" id=\"E7&lt;-E8-1\" style=\"stroke: #383838; stroke-width: 1.0; stroke-dasharray: 7.0,7.0;\"/><ellipse cx=\"70.5\" cy=\"95.09\" fill=\"#FFFFFF\" rx=\"8\" ry=\"8\" style=\"stroke: #383838; stroke-width: 1.0;\"/><line style=\"stroke: #383838; stroke-width: 1.0;\" x1=\"70.5\" x2=\"70.5\" y1=\"103.09\" y2=\"87.09\"/><line style=\"stroke: #383838; stroke-width: 1.0;\" x1=\"62.5\" x2=\"78.5\" y1=\"95.09\" y2=\"95.09\"/><text fill=\"#000000\" font-family=\"sans-serif\" font-size=\"13\" lengthAdjust=\"spacingAndGlyphs\" textLength=\"8\" x=\"67.9469\" y=\"241.8201\">1</text></a><!--MD5=[0a839d0f80c2d72d4b9b307f046d0de8]\n",
       "link E6 to E8--><a href=\"psysml:1ea7862a-7bab-4478-95a9-37aa2484c274\" target=\"_top\" title=\"psysml:1ea7862a-7bab-4478-95a9-37aa2484c274\" xlink:actuate=\"onRequest\" xlink:href=\"psysml:1ea7862a-7bab-4478-95a9-37aa2484c274\" xlink:show=\"new\" xlink:title=\"psysml:1ea7862a-7bab-4478-95a9-37aa2484c274\" xlink:type=\"simple\"><path d=\"M95.67,193 C95.67,210.66 95.67,234.94 95.67,252.68 \" fill=\"none\" id=\"E6-E8\" style=\"stroke: #383838; stroke-width: 3.0;\"/><text fill=\"#000000\" font-family=\"sans-serif\" font-size=\"13\" lengthAdjust=\"spacingAndGlyphs\" textLength=\"7\" x=\"90.7636\" y=\"241.8743\">*</text></a><!--MD5=[0a839d0f80c2d72d4b9b307f046d0de8]\n",
       "link E6 to E8--><a href=\"psysml:1e1521f0-84d2-4d6c-a787-5301105b41c5\" target=\"_top\" title=\"psysml:1e1521f0-84d2-4d6c-a787-5301105b41c5\" xlink:actuate=\"onRequest\" xlink:href=\"psysml:1e1521f0-84d2-4d6c-a787-5301105b41c5\" xlink:show=\"new\" xlink:title=\"psysml:1e1521f0-84d2-4d6c-a787-5301105b41c5\" xlink:type=\"simple\"><path d=\"M100.33,193 C100.33,210.66 100.33,234.94 100.33,252.68 \" fill=\"none\" id=\"E6-E8-1\" style=\"stroke: #383838; stroke-width: 3.0;\"/><text fill=\"#000000\" font-family=\"sans-serif\" font-size=\"13\" lengthAdjust=\"spacingAndGlyphs\" textLength=\"7\" x=\"105.4114\" y=\"241.8743\">*</text></a><!--MD5=[60ec70b3710bce4cd92ecabd148d4af0]\n",
       "@startuml\r\n",
       "skinparam linetype ortho\r\n",
       "skinparam monochrome true\r\n",
       "skinparam classbackgroundcolor white\r\n",
       "skinparam shadowing false\r\n",
       "skinparam wrapWidth 300\r\n",
       "hide circle\r\n",
       "\r\n",
       "package \"AliasTest\" as E1  [[psysml:c9a65f38-ba0f-435c-ac18-78f76b0c8149 ]]  {\r\n",
       "comp usage \"q\" as E2  <<(T,blue) attribute>> [[psysml:252bcdae-bf35-4751-96e5-d2689f20556e ]] {\r\n",
       "}\r\n",
       "comp def \"P1\" as E3  <<(T,blue) part def>> [[psysml:6d109465-d99f-46f9-9a55-615eadc52ec3 ]] {\r\n",
       "}\r\n",
       "comp usage \"porig1\" as E4  <<(T,blue) port>> [[psysml:07c215ea-3a50-4500-a498-5909961b01ab ]] {\r\n",
       "}\r\n",
       "comp usage \"p1: P1\" as E5  <<(T,blue) part>> [[psysml:4b72c15b-2565-4f84-9632-f618b5b9807b ]] {\r\n",
       "}\r\n",
       "comp usage \"po1\" as E6  <<(T,blue) port>> [[psysml:653cf2de-fd63-4b48-a4f2-812bd043bef4 ]] {\r\n",
       "}\r\n",
       "comp usage \"p2: P1\" as E7  <<(T,blue) part>> [[psysml:a2155965-1e3e-41f3-b3b0-5a1ed18f6b31 ]] {\r\n",
       "}\r\n",
       "comp usage \"pdest\" as E8  <<(T,blue) port>> [[psysml:44ed1293-6fc3-4c15-bfe8-a6e98039e875 ]] {\r\n",
       "}\r\n",
       "}\r\n",
       "E3 o- - \"1\"E4 [[psysml:c0c56757-3d44-421f-b231-ed3c3f6cca2a ]] \r\n",
       "E3 +.. \"1\"E4 [[psysml:baeef3bb-efbd-4f79-8bec-1b43bb5efd8f ]] \r\n",
       "E5 - -:|> E3 [[psysml:3c7344fe-e5a7-4cb3-b89e-76f05a842583 ]] \r\n",
       "E5 o- - \"1\"E6 [[psysml:5ab2eb8f-0a8a-4f0f-b519-13b72bd8ef83 ]] \r\n",
       "E6 - -||> E4 [[psysml:36152a88-3fda-40f3-9b03-bfa5e7f7b410 ]] \r\n",
       "E7 - -:|> E3 [[psysml:e547b523-e8e9-4ecd-8c51-8b63037972c5 ]] \r\n",
       "E7 o- - \"1\"E8 [[psysml:b237ade3-489d-4fd0-9379-0b86f0889901 ]] \r\n",
       "E7 +.. \"1\"E8 [[psysml:7018d996-601d-4a38-842d-acb296e8ea77 ]] \r\n",
       "E6 -[thickness=3]- \"*\"E8 [[psysml:1ea7862a-7bab-4478-95a9-37aa2484c274 ]] \r\n",
       "E6 -[thickness=3]- \"*\"E8 [[psysml:1e1521f0-84d2-4d6c-a787-5301105b41c5 ]] \r\n",
       "@enduml\r\n",
       "\n",
       "PlantUML version 1.2020.13(Sat Jun 13 12:26:38 UTC 2020)\n",
       "(EPL source distribution)\n",
       "Java Runtime: OpenJDK Runtime Environment\n",
       "JVM: OpenJDK 64-Bit Server VM\n",
       "Default Encoding: UTF-8\n",
       "Language: en\n",
       "Country: null\n",
       "--></g></svg>"
      ]
     },
     "execution_count": 57,
     "metadata": {},
     "output_type": "execute_result"
    }
   ],
   "source": [
    "%viz --style=\"ORTHOLINE\" --view=\"MIXED\" \"AliasTest\""
   ]
  }
 ],
 "metadata": {
  "kernelspec": {
   "display_name": "SysML",
   "language": "sysml",
   "name": "sysml"
  },
  "language_info": {
   "codemirror_mode": "sysml",
   "file_extension": ".sysml",
   "mimetype": "text/x-sysml",
   "name": "SysML",
   "pygments_lexer": "java",
   "version": "1.0.0"
  }
 },
 "nbformat": 4,
 "nbformat_minor": 5
}
