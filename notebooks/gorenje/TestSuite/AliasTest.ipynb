{
 "cells": [
  {
   "cell_type": "markdown",
   "id": "d7482b85",
   "metadata": {},
   "source": [
    "# SysML v2 Test Suite\n",
    "\n",
    "This can notebook can be cleared using menu `Edit --> Clear All Outputs` and then all cells can be\n",
    "run using menu `Run --> Run All Cells`.\n",
    "\n",
    "**WARNING**: This file is generated, all modifications here will be ignored.\n"
   ]
  },
  {
   "cell_type": "markdown",
   "id": "12f9dc70",
   "metadata": {},
   "source": [
    "## File: ../../sysml/src/examples/Simple Tests/AliasTest.sysml"
   ]
  },
  {
   "cell_type": "code",
   "execution_count": 1,
   "id": "e53a4e42",
   "metadata": {
    "execution": {
     "iopub.execute_input": "2021-06-30T09:16:04.053572Z",
     "iopub.status.busy": "2021-06-30T09:16:04.052929Z",
     "iopub.status.idle": "2021-06-30T09:16:04.625191Z",
     "shell.execute_reply": "2021-06-30T09:16:04.624498Z"
    }
   },
   "outputs": [
    {
     "data": {
      "text/plain": [
       "Package AliasTest (00e0fbde-6674-44f7-9f99-b1dd45176792)\n"
      ]
     },
     "execution_count": 1,
     "metadata": {},
     "output_type": "execute_result"
    }
   ],
   "source": [
    "package AliasTest {\n",
    "    part def P1 {\n",
    "        port porig1;\n",
    "        alias porig1 as po1;\n",
    "    }\n",
    "\n",
    "    part p1 : P1 {\n",
    "        port po1 :>> po1;\n",
    "    }\n",
    "\n",
    "    part p2 : P1 {\n",
    "        port pdest;\n",
    "        alias pdest as pd1;\n",
    "    }\n",
    "\n",
    "\n",
    "    connect p1::po1 to p2::pdest;\n",
    "\tconnect p1::po1 to p2::pd1;\n",
    "}"
   ]
  },
  {
   "cell_type": "code",
   "execution_count": 2,
   "id": "6619e6d3",
   "metadata": {
    "execution": {
     "iopub.execute_input": "2021-06-30T09:16:04.678519Z",
     "iopub.status.busy": "2021-06-30T09:16:04.677662Z",
     "iopub.status.idle": "2021-06-30T09:16:05.563996Z",
     "shell.execute_reply": "2021-06-30T09:16:05.563250Z"
    }
   },
   "outputs": [
    {
     "data": {
      "image/svg+xml": [
       "<?xml version=\"1.0\" encoding=\"UTF-8\" standalone=\"no\"?><svg xmlns=\"http://www.w3.org/2000/svg\" xmlns:xlink=\"http://www.w3.org/1999/xlink\" contentScriptType=\"application/ecmascript\" contentStyleType=\"text/css\" height=\"399px\" preserveAspectRatio=\"none\" style=\"width:243px;height:399px;\" version=\"1.1\" viewBox=\"0 0 243 399\" width=\"243px\" zoomAndPan=\"magnify\"><defs/><g><!--MD5=[fbc87193dbaf4d95561dea2c320d4a47]\n",
       "cluster E1--><a href=\"psysml:2a952753-6cea-46c9-bb61-930b04eb3411\" target=\"_top\" title=\"psysml:2a952753-6cea-46c9-bb61-930b04eb3411\" xlink:actuate=\"onRequest\" xlink:href=\"psysml:2a952753-6cea-46c9-bb61-930b04eb3411\" xlink:show=\"new\" xlink:title=\"psysml:2a952753-6cea-46c9-bb61-930b04eb3411\" xlink:type=\"simple\"><polygon fill=\"#FFFFFF\" points=\"16,6,94,6,101,28.2969,221,28.2969,221,387,16,387,16,6\" style=\"stroke: #000000; stroke-width: 1.5;\"/><line style=\"stroke: #000000; stroke-width: 1.5;\" x1=\"16\" x2=\"101\" y1=\"28.2969\" y2=\"28.2969\"/><text fill=\"#000000\" font-family=\"sans-serif\" font-size=\"14\" font-weight=\"bold\" lengthAdjust=\"spacingAndGlyphs\" textLength=\"72\" x=\"20\" y=\"20.9951\">AliasTest</text></a><!--MD5=[b4997ac47864f28c2f74865a473b2911]\n",
       "class E2--><a href=\"psysml:92b6686b-ceec-4d5e-ab27-24733762f61c\" target=\"_top\" title=\"psysml:92b6686b-ceec-4d5e-ab27-24733762f61c\" xlink:actuate=\"onRequest\" xlink:href=\"psysml:92b6686b-ceec-4d5e-ab27-24733762f61c\" xlink:show=\"new\" xlink:title=\"psysml:92b6686b-ceec-4d5e-ab27-24733762f61c\" xlink:type=\"simple\"><rect fill=\"#FFFFFF\" height=\"75.5469\" id=\"E2\" style=\"stroke: #383838; stroke-width: 1.5;\" width=\"66\" x=\"118\" y=\"189\"/><text fill=\"#000000\" font-family=\"sans-serif\" font-size=\"12\" font-style=\"italic\" lengthAdjust=\"spacingAndGlyphs\" textLength=\"64\" x=\"119\" y=\"205.1387\">«part def»</text><text fill=\"#000000\" font-family=\"sans-serif\" font-size=\"12\" lengthAdjust=\"spacingAndGlyphs\" textLength=\"16\" x=\"143\" y=\"219.1074\">P1</text><line style=\"stroke: #383838; stroke-width: 1.5;\" x1=\"119\" x2=\"183\" y1=\"226.9375\" y2=\"226.9375\"/><text fill=\"#000000\" font-family=\"sans-serif\" font-size=\"11\" lengthAdjust=\"spacingAndGlyphs\" textLength=\"36\" x=\"124\" y=\"257.9526\">porig1</text><line style=\"stroke: #383838; stroke-width: 1.0;\" x1=\"119\" x2=\"136\" y1=\"241.3398\" y2=\"241.3398\"/><text fill=\"#000000\" font-family=\"sans-serif\" font-size=\"11\" lengthAdjust=\"spacingAndGlyphs\" textLength=\"30\" x=\"136\" y=\"244.6479\">ports</text><line style=\"stroke: #383838; stroke-width: 1.0;\" x1=\"166\" x2=\"183\" y1=\"241.3398\" y2=\"241.3398\"/></a><!--MD5=[09b614a08d8cba4a07c9adeb5e0fee81]\n",
       "class E3--><a href=\"psysml:ea24ffa6-0b43-4ed9-8037-2e87c3ddc217\" target=\"_top\" title=\"psysml:ea24ffa6-0b43-4ed9-8037-2e87c3ddc217\" xlink:actuate=\"onRequest\" xlink:href=\"psysml:ea24ffa6-0b43-4ed9-8037-2e87c3ddc217\" xlink:show=\"new\" xlink:title=\"psysml:ea24ffa6-0b43-4ed9-8037-2e87c3ddc217\" xlink:type=\"simple\"><rect fill=\"#FFFFFF\" height=\"45.9375\" id=\"E3\" rx=\"10\" ry=\"10\" style=\"stroke: #383838; stroke-width: 1.5;\" width=\"46\" x=\"128\" y=\"325\"/><text fill=\"#000000\" font-family=\"sans-serif\" font-size=\"12\" font-style=\"italic\" lengthAdjust=\"spacingAndGlyphs\" textLength=\"40\" x=\"131\" y=\"341.1387\">«port»</text><text fill=\"#000000\" font-family=\"sans-serif\" font-size=\"12\" lengthAdjust=\"spacingAndGlyphs\" textLength=\"40\" x=\"131\" y=\"355.1074\">porig1</text><line style=\"stroke: #383838; stroke-width: 1.5;\" x1=\"129\" x2=\"173\" y1=\"362.9375\" y2=\"362.9375\"/></a><!--MD5=[ebbe1d658d1005bcc118a6aa81145e00]\n",
       "class E4--><a href=\"psysml:2b3d4312-7497-4457-990a-6ee5375442c5\" target=\"_top\" title=\"psysml:2b3d4312-7497-4457-990a-6ee5375442c5\" xlink:actuate=\"onRequest\" xlink:href=\"psysml:2b3d4312-7497-4457-990a-6ee5375442c5\" xlink:show=\"new\" xlink:title=\"psysml:2b3d4312-7497-4457-990a-6ee5375442c5\" xlink:type=\"simple\"><rect fill=\"#FFFFFF\" height=\"88.3516\" id=\"E4\" rx=\"10\" ry=\"10\" style=\"stroke: #383838; stroke-width: 1.5;\" width=\"92\" x=\"113\" y=\"41\"/><text fill=\"#000000\" font-family=\"sans-serif\" font-size=\"12\" font-style=\"italic\" lengthAdjust=\"spacingAndGlyphs\" textLength=\"40\" x=\"139\" y=\"57.1387\">«part»</text><text fill=\"#000000\" font-family=\"sans-serif\" font-size=\"12\" lengthAdjust=\"spacingAndGlyphs\" textLength=\"40\" x=\"139\" y=\"71.1074\">p1: P1</text><line style=\"stroke: #383838; stroke-width: 1.5;\" x1=\"114\" x2=\"204\" y1=\"78.9375\" y2=\"78.9375\"/><text fill=\"#000000\" font-family=\"sans-serif\" font-size=\"11\" lengthAdjust=\"spacingAndGlyphs\" textLength=\"21\" x=\"119\" y=\"109.9526\">po1</text><text fill=\"#000000\" font-family=\"sans-serif\" font-size=\"11\" font-style=\"italic\" lengthAdjust=\"spacingAndGlyphs\" textLength=\"80\" x=\"119\" y=\"122.7573\">:&gt;&gt;P1::porig1</text><line style=\"stroke: #383838; stroke-width: 1.0;\" x1=\"114\" x2=\"144\" y1=\"93.3398\" y2=\"93.3398\"/><text fill=\"#000000\" font-family=\"sans-serif\" font-size=\"11\" lengthAdjust=\"spacingAndGlyphs\" textLength=\"30\" x=\"144\" y=\"96.6479\">ports</text><line style=\"stroke: #383838; stroke-width: 1.0;\" x1=\"174\" x2=\"204\" y1=\"93.3398\" y2=\"93.3398\"/></a><!--MD5=[270fce915f116d4de14055a7c1d9a0f3]\n",
       "class E5--><a href=\"psysml:09e69c42-70ff-4aed-b93c-c140a8b906a0\" target=\"_top\" title=\"psysml:09e69c42-70ff-4aed-b93c-c140a8b906a0\" xlink:actuate=\"onRequest\" xlink:href=\"psysml:09e69c42-70ff-4aed-b93c-c140a8b906a0\" xlink:show=\"new\" xlink:title=\"psysml:09e69c42-70ff-4aed-b93c-c140a8b906a0\" xlink:type=\"simple\"><rect fill=\"#FFFFFF\" height=\"75.5469\" id=\"E5\" rx=\"10\" ry=\"10\" style=\"stroke: #383838; stroke-width: 1.5;\" width=\"46\" x=\"32\" y=\"47\"/><text fill=\"#000000\" font-family=\"sans-serif\" font-size=\"12\" font-style=\"italic\" lengthAdjust=\"spacingAndGlyphs\" textLength=\"40\" x=\"35\" y=\"63.1387\">«part»</text><text fill=\"#000000\" font-family=\"sans-serif\" font-size=\"12\" lengthAdjust=\"spacingAndGlyphs\" textLength=\"40\" x=\"35\" y=\"77.1074\">p2: P1</text><line style=\"stroke: #383838; stroke-width: 1.5;\" x1=\"33\" x2=\"77\" y1=\"84.9375\" y2=\"84.9375\"/><text fill=\"#000000\" font-family=\"sans-serif\" font-size=\"11\" lengthAdjust=\"spacingAndGlyphs\" textLength=\"32\" x=\"38\" y=\"115.9526\">pdest</text><line style=\"stroke: #383838; stroke-width: 1.0;\" x1=\"33\" x2=\"40\" y1=\"99.3398\" y2=\"99.3398\"/><text fill=\"#000000\" font-family=\"sans-serif\" font-size=\"11\" lengthAdjust=\"spacingAndGlyphs\" textLength=\"30\" x=\"40\" y=\"102.6479\">ports</text><line style=\"stroke: #383838; stroke-width: 1.0;\" x1=\"70\" x2=\"77\" y1=\"99.3398\" y2=\"99.3398\"/></a><!--MD5=[60a26617385b1d2d0262a64233df1f8d]\n",
       "class E6--><a href=\"psysml:af7521ab-a154-4c67-8a1e-396c259ea1b5\" target=\"_top\" title=\"psysml:af7521ab-a154-4c67-8a1e-396c259ea1b5\" xlink:actuate=\"onRequest\" xlink:href=\"psysml:af7521ab-a154-4c67-8a1e-396c259ea1b5\" xlink:show=\"new\" xlink:title=\"psysml:af7521ab-a154-4c67-8a1e-396c259ea1b5\" xlink:type=\"simple\"><rect fill=\"#FFFFFF\" height=\"45.9375\" id=\"E6\" rx=\"10\" ry=\"10\" style=\"stroke: #383838; stroke-width: 1.5;\" width=\"42\" x=\"34\" y=\"204\"/><text fill=\"#000000\" font-family=\"sans-serif\" font-size=\"12\" font-style=\"italic\" lengthAdjust=\"spacingAndGlyphs\" textLength=\"40\" x=\"35\" y=\"220.1387\">«port»</text><text fill=\"#000000\" font-family=\"sans-serif\" font-size=\"12\" lengthAdjust=\"spacingAndGlyphs\" textLength=\"36\" x=\"37\" y=\"234.1074\">pdest</text><line style=\"stroke: #383838; stroke-width: 1.5;\" x1=\"35\" x2=\"75\" y1=\"241.9375\" y2=\"241.9375\"/></a><!--MD5=[209b3feb70ccb6233bfe1053d122c12c]\n",
       "reverse link E2 to E3--><a href=\"psysml:923130c4-e405-43d8-b69b-9c27213fc1b8\" target=\"_top\" title=\"psysml:923130c4-e405-43d8-b69b-9c27213fc1b8\" xlink:actuate=\"onRequest\" xlink:href=\"psysml:923130c4-e405-43d8-b69b-9c27213fc1b8\" xlink:show=\"new\" xlink:title=\"psysml:923130c4-e405-43d8-b69b-9c27213fc1b8\" xlink:type=\"simple\"><path d=\"M151,280.29 C151,295.98 151,312.34 151,324.93 \" fill=\"none\" id=\"E2&lt;-E3\" style=\"stroke: #383838; stroke-width: 1.0; stroke-dasharray: 7.0,7.0;\"/><ellipse cx=\"151\" cy=\"273\" fill=\"#FFFFFF\" rx=\"8\" ry=\"8\" style=\"stroke: #383838; stroke-width: 1.0;\"/><line style=\"stroke: #383838; stroke-width: 1.0;\" x1=\"151\" x2=\"151\" y1=\"281\" y2=\"265\"/><line style=\"stroke: #383838; stroke-width: 1.0;\" x1=\"143\" x2=\"159\" y1=\"273\" y2=\"273\"/></a><!--MD5=[185131fc0dcab0a4505a2ebe144e961b]\n",
       "link E4 to E2--><a href=\"psysml:5073669c-7652-4dd2-8e27-7490931f0c73\" target=\"_top\" title=\"psysml:5073669c-7652-4dd2-8e27-7490931f0c73\" xlink:actuate=\"onRequest\" xlink:href=\"psysml:5073669c-7652-4dd2-8e27-7490931f0c73\" xlink:show=\"new\" xlink:title=\"psysml:5073669c-7652-4dd2-8e27-7490931f0c73\" xlink:type=\"simple\"><path d=\"M156.53,129.15 C155.82,141.7 155.02,155.6 154.26,168.87 \" fill=\"none\" id=\"E4-&gt;E2\" style=\"stroke: #383838; stroke-width: 1.0;\"/><polygon fill=\"#FFFFFF\" points=\"153.12,188.9,147.2169,169.5311,161.1941,170.331,153.12,188.9\" style=\"stroke: #383838; stroke-width: 1.0;\"/><ellipse cx=\"149.5393\" cy=\"163.9547\" fill=\"#383838\" rx=\"2\" ry=\"2\" style=\"stroke: #383838; stroke-width: 1.0;\"/><ellipse cx=\"159.523\" cy=\"164.526\" fill=\"#383838\" rx=\"2\" ry=\"2\" style=\"stroke: #383838; stroke-width: 1.0;\"/></a><!--MD5=[15ebcb19ae302d9b601edb458606d402]\n",
       "link E5 to E2--><a href=\"psysml:94875f8e-b487-466f-9f77-0e1d93a514ac\" target=\"_top\" title=\"psysml:94875f8e-b487-466f-9f77-0e1d93a514ac\" xlink:actuate=\"onRequest\" xlink:href=\"psysml:94875f8e-b487-466f-9f77-0e1d93a514ac\" xlink:show=\"new\" xlink:title=\"psysml:94875f8e-b487-466f-9f77-0e1d93a514ac\" xlink:type=\"simple\"><path d=\"M78.24,119.89 C89.03,135.63 102.13,154.73 114.21,172.35 \" fill=\"none\" id=\"E5-&gt;E2\" style=\"stroke: #383838; stroke-width: 1.0;\"/><polygon fill=\"#FFFFFF\" points=\"125.62,188.98,109.1019,177.2689,120.6481,169.3515,125.62,188.98\" style=\"stroke: #383838; stroke-width: 1.0;\"/><ellipse cx=\"107.5278\" cy=\"171.4368\" fill=\"#383838\" rx=\"2\" ry=\"2\" style=\"stroke: #383838; stroke-width: 1.0;\"/><ellipse cx=\"115.7751\" cy=\"165.7816\" fill=\"#383838\" rx=\"2\" ry=\"2\" style=\"stroke: #383838; stroke-width: 1.0;\"/></a><!--MD5=[85d356282659285ab4b2cfe2f634dd2b]\n",
       "reverse link E5 to E6--><a href=\"psysml:bd05ac8a-5fc5-4bdc-9c2b-ccbbccd0a28d\" target=\"_top\" title=\"psysml:bd05ac8a-5fc5-4bdc-9c2b-ccbbccd0a28d\" xlink:actuate=\"onRequest\" xlink:href=\"psysml:bd05ac8a-5fc5-4bdc-9c2b-ccbbccd0a28d\" xlink:show=\"new\" xlink:title=\"psysml:bd05ac8a-5fc5-4bdc-9c2b-ccbbccd0a28d\" xlink:type=\"simple\"><path d=\"M55,138.32 C55,161.03 55,186.4 55,203.99 \" fill=\"none\" id=\"E5&lt;-E6\" style=\"stroke: #383838; stroke-width: 1.0; stroke-dasharray: 7.0,7.0;\"/><ellipse cx=\"55\" cy=\"131.15\" fill=\"#FFFFFF\" rx=\"8\" ry=\"8\" style=\"stroke: #383838; stroke-width: 1.0;\"/><line style=\"stroke: #383838; stroke-width: 1.0;\" x1=\"55\" x2=\"55\" y1=\"139.15\" y2=\"123.15\"/><line style=\"stroke: #383838; stroke-width: 1.0;\" x1=\"47\" x2=\"63\" y1=\"131.15\" y2=\"131.15\"/></a><!--MD5=[03f2e7ddac0d0d3ee8291590b61e265c]\n",
       "@startuml\r\n",
       " skinparam monochrome true\r\n",
       "skinparam classbackgroundcolor white\r\n",
       "skinparam shadowing false\r\n",
       "skinparam wrapWidth 300\r\n",
       "hide circle\r\n",
       "\r\n",
       "package \"AliasTest\" as E1  [[psysml:2a952753-6cea-46c9-bb61-930b04eb3411 ]]  {\r\n",
       "comp def \"P1\" as E2  <<(T,blue) part def>> [[psysml:92b6686b-ceec-4d5e-ab27-24733762f61c ]] {\r\n",
       "- - ports - -\r\n",
       "porig1\r\n",
       "}\r\n",
       "comp usage \"porig1\" as E3  <<(T,blue) port>> [[psysml:ea24ffa6-0b43-4ed9-8037-2e87c3ddc217 ]] {\r\n",
       "}\r\n",
       "comp usage \"p1: P1\" as E4  <<(T,blue) part>> [[psysml:2b3d4312-7497-4457-990a-6ee5375442c5 ]] {\r\n",
       "- - ports - -\r\n",
       "po1\\n//:>>P1::porig1// \r\n",
       "}\r\n",
       "comp usage \"p2: P1\" as E5  <<(T,blue) part>> [[psysml:09e69c42-70ff-4aed-b93c-c140a8b906a0 ]] {\r\n",
       "- - ports - -\r\n",
       "pdest\r\n",
       "}\r\n",
       "comp usage \"pdest\" as E6  <<(T,blue) port>> [[psysml:af7521ab-a154-4c67-8a1e-396c259ea1b5 ]] {\r\n",
       "}\r\n",
       "E2 +.. E3 [[psysml:923130c4-e405-43d8-b69b-9c27213fc1b8 ]] \r\n",
       "E4 - -:|> E2 [[psysml:5073669c-7652-4dd2-8e27-7490931f0c73 ]] \r\n",
       "E5 - -:|> E2 [[psysml:94875f8e-b487-466f-9f77-0e1d93a514ac ]] \r\n",
       "E5 +.. E6 [[psysml:bd05ac8a-5fc5-4bdc-9c2b-ccbbccd0a28d ]] \r\n",
       "}\r\n",
       "@enduml\r\n",
       "\n",
       "PlantUML version 1.2020.13(Sat Jun 13 12:26:38 UTC 2020)\n",
       "(EPL source distribution)\n",
       "Java Runtime: OpenJDK Runtime Environment\n",
       "JVM: OpenJDK 64-Bit Server VM\n",
       "Default Encoding: UTF-8\n",
       "Language: en\n",
       "Country: null\n",
       "--></g></svg>"
      ]
     },
     "execution_count": 2,
     "metadata": {},
     "output_type": "execute_result"
    }
   ],
   "source": [
    "%viz --style=\"COMPTREE\" --view=\"Default\" \"AliasTest\""
   ]
  },
  {
   "cell_type": "code",
   "execution_count": 3,
   "id": "53640e06",
   "metadata": {
    "execution": {
     "iopub.execute_input": "2021-06-30T09:16:05.616650Z",
     "iopub.status.busy": "2021-06-30T09:16:05.615778Z",
     "iopub.status.idle": "2021-06-30T09:16:05.759183Z",
     "shell.execute_reply": "2021-06-30T09:16:05.757294Z"
    }
   },
   "outputs": [
    {
     "data": {
      "image/svg+xml": [
       "<?xml version=\"1.0\" encoding=\"UTF-8\" standalone=\"no\"?><svg xmlns=\"http://www.w3.org/2000/svg\" xmlns:xlink=\"http://www.w3.org/1999/xlink\" contentScriptType=\"application/ecmascript\" contentStyleType=\"text/css\" height=\"399px\" preserveAspectRatio=\"none\" style=\"width:243px;height:399px;\" version=\"1.1\" viewBox=\"0 0 243 399\" width=\"243px\" zoomAndPan=\"magnify\"><defs/><g><!--MD5=[fbc87193dbaf4d95561dea2c320d4a47]\n",
       "cluster E1--><a href=\"psysml:2a952753-6cea-46c9-bb61-930b04eb3411\" target=\"_top\" title=\"psysml:2a952753-6cea-46c9-bb61-930b04eb3411\" xlink:actuate=\"onRequest\" xlink:href=\"psysml:2a952753-6cea-46c9-bb61-930b04eb3411\" xlink:show=\"new\" xlink:title=\"psysml:2a952753-6cea-46c9-bb61-930b04eb3411\" xlink:type=\"simple\"><polygon fill=\"#FFFFFF\" points=\"16,6,94,6,101,28.2969,221,28.2969,221,387,16,387,16,6\" style=\"stroke: #000000; stroke-width: 1.5;\"/><line style=\"stroke: #000000; stroke-width: 1.5;\" x1=\"16\" x2=\"101\" y1=\"28.2969\" y2=\"28.2969\"/><text fill=\"#000000\" font-family=\"sans-serif\" font-size=\"14\" font-weight=\"bold\" lengthAdjust=\"spacingAndGlyphs\" textLength=\"72\" x=\"20\" y=\"20.9951\">AliasTest</text></a><!--MD5=[b4997ac47864f28c2f74865a473b2911]\n",
       "class E2--><a href=\"psysml:92b6686b-ceec-4d5e-ab27-24733762f61c\" target=\"_top\" title=\"psysml:92b6686b-ceec-4d5e-ab27-24733762f61c\" xlink:actuate=\"onRequest\" xlink:href=\"psysml:92b6686b-ceec-4d5e-ab27-24733762f61c\" xlink:show=\"new\" xlink:title=\"psysml:92b6686b-ceec-4d5e-ab27-24733762f61c\" xlink:type=\"simple\"><rect fill=\"#FFFFFF\" height=\"75.5469\" id=\"E2\" style=\"stroke: #383838; stroke-width: 1.5;\" width=\"66\" x=\"118\" y=\"189\"/><text fill=\"#000000\" font-family=\"sans-serif\" font-size=\"12\" font-style=\"italic\" lengthAdjust=\"spacingAndGlyphs\" textLength=\"64\" x=\"119\" y=\"205.1387\">«part def»</text><text fill=\"#000000\" font-family=\"sans-serif\" font-size=\"12\" lengthAdjust=\"spacingAndGlyphs\" textLength=\"16\" x=\"143\" y=\"219.1074\">P1</text><line style=\"stroke: #383838; stroke-width: 1.5;\" x1=\"119\" x2=\"183\" y1=\"226.9375\" y2=\"226.9375\"/><text fill=\"#000000\" font-family=\"sans-serif\" font-size=\"11\" lengthAdjust=\"spacingAndGlyphs\" textLength=\"36\" x=\"124\" y=\"257.9526\">porig1</text><line style=\"stroke: #383838; stroke-width: 1.0;\" x1=\"119\" x2=\"136\" y1=\"241.3398\" y2=\"241.3398\"/><text fill=\"#000000\" font-family=\"sans-serif\" font-size=\"11\" lengthAdjust=\"spacingAndGlyphs\" textLength=\"30\" x=\"136\" y=\"244.6479\">ports</text><line style=\"stroke: #383838; stroke-width: 1.0;\" x1=\"166\" x2=\"183\" y1=\"241.3398\" y2=\"241.3398\"/></a><!--MD5=[09b614a08d8cba4a07c9adeb5e0fee81]\n",
       "class E3--><a href=\"psysml:ea24ffa6-0b43-4ed9-8037-2e87c3ddc217\" target=\"_top\" title=\"psysml:ea24ffa6-0b43-4ed9-8037-2e87c3ddc217\" xlink:actuate=\"onRequest\" xlink:href=\"psysml:ea24ffa6-0b43-4ed9-8037-2e87c3ddc217\" xlink:show=\"new\" xlink:title=\"psysml:ea24ffa6-0b43-4ed9-8037-2e87c3ddc217\" xlink:type=\"simple\"><rect fill=\"#FFFFFF\" height=\"45.9375\" id=\"E3\" rx=\"10\" ry=\"10\" style=\"stroke: #383838; stroke-width: 1.5;\" width=\"46\" x=\"128\" y=\"325\"/><text fill=\"#000000\" font-family=\"sans-serif\" font-size=\"12\" font-style=\"italic\" lengthAdjust=\"spacingAndGlyphs\" textLength=\"40\" x=\"131\" y=\"341.1387\">«port»</text><text fill=\"#000000\" font-family=\"sans-serif\" font-size=\"12\" lengthAdjust=\"spacingAndGlyphs\" textLength=\"40\" x=\"131\" y=\"355.1074\">porig1</text><line style=\"stroke: #383838; stroke-width: 1.5;\" x1=\"129\" x2=\"173\" y1=\"362.9375\" y2=\"362.9375\"/></a><!--MD5=[ebbe1d658d1005bcc118a6aa81145e00]\n",
       "class E4--><a href=\"psysml:2b3d4312-7497-4457-990a-6ee5375442c5\" target=\"_top\" title=\"psysml:2b3d4312-7497-4457-990a-6ee5375442c5\" xlink:actuate=\"onRequest\" xlink:href=\"psysml:2b3d4312-7497-4457-990a-6ee5375442c5\" xlink:show=\"new\" xlink:title=\"psysml:2b3d4312-7497-4457-990a-6ee5375442c5\" xlink:type=\"simple\"><rect fill=\"#FFFFFF\" height=\"88.3516\" id=\"E4\" rx=\"10\" ry=\"10\" style=\"stroke: #383838; stroke-width: 1.5;\" width=\"92\" x=\"113\" y=\"41\"/><text fill=\"#000000\" font-family=\"sans-serif\" font-size=\"12\" font-style=\"italic\" lengthAdjust=\"spacingAndGlyphs\" textLength=\"40\" x=\"139\" y=\"57.1387\">«part»</text><text fill=\"#000000\" font-family=\"sans-serif\" font-size=\"12\" lengthAdjust=\"spacingAndGlyphs\" textLength=\"40\" x=\"139\" y=\"71.1074\">p1: P1</text><line style=\"stroke: #383838; stroke-width: 1.5;\" x1=\"114\" x2=\"204\" y1=\"78.9375\" y2=\"78.9375\"/><text fill=\"#000000\" font-family=\"sans-serif\" font-size=\"11\" lengthAdjust=\"spacingAndGlyphs\" textLength=\"21\" x=\"119\" y=\"109.9526\">po1</text><text fill=\"#000000\" font-family=\"sans-serif\" font-size=\"11\" font-style=\"italic\" lengthAdjust=\"spacingAndGlyphs\" textLength=\"80\" x=\"119\" y=\"122.7573\">:&gt;&gt;P1::porig1</text><line style=\"stroke: #383838; stroke-width: 1.0;\" x1=\"114\" x2=\"144\" y1=\"93.3398\" y2=\"93.3398\"/><text fill=\"#000000\" font-family=\"sans-serif\" font-size=\"11\" lengthAdjust=\"spacingAndGlyphs\" textLength=\"30\" x=\"144\" y=\"96.6479\">ports</text><line style=\"stroke: #383838; stroke-width: 1.0;\" x1=\"174\" x2=\"204\" y1=\"93.3398\" y2=\"93.3398\"/></a><!--MD5=[270fce915f116d4de14055a7c1d9a0f3]\n",
       "class E5--><a href=\"psysml:09e69c42-70ff-4aed-b93c-c140a8b906a0\" target=\"_top\" title=\"psysml:09e69c42-70ff-4aed-b93c-c140a8b906a0\" xlink:actuate=\"onRequest\" xlink:href=\"psysml:09e69c42-70ff-4aed-b93c-c140a8b906a0\" xlink:show=\"new\" xlink:title=\"psysml:09e69c42-70ff-4aed-b93c-c140a8b906a0\" xlink:type=\"simple\"><rect fill=\"#FFFFFF\" height=\"75.5469\" id=\"E5\" rx=\"10\" ry=\"10\" style=\"stroke: #383838; stroke-width: 1.5;\" width=\"46\" x=\"32\" y=\"47\"/><text fill=\"#000000\" font-family=\"sans-serif\" font-size=\"12\" font-style=\"italic\" lengthAdjust=\"spacingAndGlyphs\" textLength=\"40\" x=\"35\" y=\"63.1387\">«part»</text><text fill=\"#000000\" font-family=\"sans-serif\" font-size=\"12\" lengthAdjust=\"spacingAndGlyphs\" textLength=\"40\" x=\"35\" y=\"77.1074\">p2: P1</text><line style=\"stroke: #383838; stroke-width: 1.5;\" x1=\"33\" x2=\"77\" y1=\"84.9375\" y2=\"84.9375\"/><text fill=\"#000000\" font-family=\"sans-serif\" font-size=\"11\" lengthAdjust=\"spacingAndGlyphs\" textLength=\"32\" x=\"38\" y=\"115.9526\">pdest</text><line style=\"stroke: #383838; stroke-width: 1.0;\" x1=\"33\" x2=\"40\" y1=\"99.3398\" y2=\"99.3398\"/><text fill=\"#000000\" font-family=\"sans-serif\" font-size=\"11\" lengthAdjust=\"spacingAndGlyphs\" textLength=\"30\" x=\"40\" y=\"102.6479\">ports</text><line style=\"stroke: #383838; stroke-width: 1.0;\" x1=\"70\" x2=\"77\" y1=\"99.3398\" y2=\"99.3398\"/></a><!--MD5=[60a26617385b1d2d0262a64233df1f8d]\n",
       "class E6--><a href=\"psysml:af7521ab-a154-4c67-8a1e-396c259ea1b5\" target=\"_top\" title=\"psysml:af7521ab-a154-4c67-8a1e-396c259ea1b5\" xlink:actuate=\"onRequest\" xlink:href=\"psysml:af7521ab-a154-4c67-8a1e-396c259ea1b5\" xlink:show=\"new\" xlink:title=\"psysml:af7521ab-a154-4c67-8a1e-396c259ea1b5\" xlink:type=\"simple\"><rect fill=\"#FFFFFF\" height=\"45.9375\" id=\"E6\" rx=\"10\" ry=\"10\" style=\"stroke: #383838; stroke-width: 1.5;\" width=\"42\" x=\"34\" y=\"204\"/><text fill=\"#000000\" font-family=\"sans-serif\" font-size=\"12\" font-style=\"italic\" lengthAdjust=\"spacingAndGlyphs\" textLength=\"40\" x=\"35\" y=\"220.1387\">«port»</text><text fill=\"#000000\" font-family=\"sans-serif\" font-size=\"12\" lengthAdjust=\"spacingAndGlyphs\" textLength=\"36\" x=\"37\" y=\"234.1074\">pdest</text><line style=\"stroke: #383838; stroke-width: 1.5;\" x1=\"35\" x2=\"75\" y1=\"241.9375\" y2=\"241.9375\"/></a><!--MD5=[209b3feb70ccb6233bfe1053d122c12c]\n",
       "reverse link E2 to E3--><a href=\"psysml:923130c4-e405-43d8-b69b-9c27213fc1b8\" target=\"_top\" title=\"psysml:923130c4-e405-43d8-b69b-9c27213fc1b8\" xlink:actuate=\"onRequest\" xlink:href=\"psysml:923130c4-e405-43d8-b69b-9c27213fc1b8\" xlink:show=\"new\" xlink:title=\"psysml:923130c4-e405-43d8-b69b-9c27213fc1b8\" xlink:type=\"simple\"><path d=\"M151,280.29 C151,295.98 151,312.34 151,324.93 \" fill=\"none\" id=\"E2&lt;-E3\" style=\"stroke: #383838; stroke-width: 1.0; stroke-dasharray: 7.0,7.0;\"/><ellipse cx=\"151\" cy=\"273\" fill=\"#FFFFFF\" rx=\"8\" ry=\"8\" style=\"stroke: #383838; stroke-width: 1.0;\"/><line style=\"stroke: #383838; stroke-width: 1.0;\" x1=\"151\" x2=\"151\" y1=\"281\" y2=\"265\"/><line style=\"stroke: #383838; stroke-width: 1.0;\" x1=\"143\" x2=\"159\" y1=\"273\" y2=\"273\"/></a><!--MD5=[185131fc0dcab0a4505a2ebe144e961b]\n",
       "link E4 to E2--><a href=\"psysml:5073669c-7652-4dd2-8e27-7490931f0c73\" target=\"_top\" title=\"psysml:5073669c-7652-4dd2-8e27-7490931f0c73\" xlink:actuate=\"onRequest\" xlink:href=\"psysml:5073669c-7652-4dd2-8e27-7490931f0c73\" xlink:show=\"new\" xlink:title=\"psysml:5073669c-7652-4dd2-8e27-7490931f0c73\" xlink:type=\"simple\"><path d=\"M156.53,129.15 C155.82,141.7 155.02,155.6 154.26,168.87 \" fill=\"none\" id=\"E4-&gt;E2\" style=\"stroke: #383838; stroke-width: 1.0;\"/><polygon fill=\"#FFFFFF\" points=\"153.12,188.9,147.2169,169.5311,161.1941,170.331,153.12,188.9\" style=\"stroke: #383838; stroke-width: 1.0;\"/><ellipse cx=\"149.5393\" cy=\"163.9547\" fill=\"#383838\" rx=\"2\" ry=\"2\" style=\"stroke: #383838; stroke-width: 1.0;\"/><ellipse cx=\"159.523\" cy=\"164.526\" fill=\"#383838\" rx=\"2\" ry=\"2\" style=\"stroke: #383838; stroke-width: 1.0;\"/></a><!--MD5=[15ebcb19ae302d9b601edb458606d402]\n",
       "link E5 to E2--><a href=\"psysml:94875f8e-b487-466f-9f77-0e1d93a514ac\" target=\"_top\" title=\"psysml:94875f8e-b487-466f-9f77-0e1d93a514ac\" xlink:actuate=\"onRequest\" xlink:href=\"psysml:94875f8e-b487-466f-9f77-0e1d93a514ac\" xlink:show=\"new\" xlink:title=\"psysml:94875f8e-b487-466f-9f77-0e1d93a514ac\" xlink:type=\"simple\"><path d=\"M78.24,119.89 C89.03,135.63 102.13,154.73 114.21,172.35 \" fill=\"none\" id=\"E5-&gt;E2\" style=\"stroke: #383838; stroke-width: 1.0;\"/><polygon fill=\"#FFFFFF\" points=\"125.62,188.98,109.1019,177.2689,120.6481,169.3515,125.62,188.98\" style=\"stroke: #383838; stroke-width: 1.0;\"/><ellipse cx=\"107.5278\" cy=\"171.4368\" fill=\"#383838\" rx=\"2\" ry=\"2\" style=\"stroke: #383838; stroke-width: 1.0;\"/><ellipse cx=\"115.7751\" cy=\"165.7816\" fill=\"#383838\" rx=\"2\" ry=\"2\" style=\"stroke: #383838; stroke-width: 1.0;\"/></a><!--MD5=[85d356282659285ab4b2cfe2f634dd2b]\n",
       "reverse link E5 to E6--><a href=\"psysml:bd05ac8a-5fc5-4bdc-9c2b-ccbbccd0a28d\" target=\"_top\" title=\"psysml:bd05ac8a-5fc5-4bdc-9c2b-ccbbccd0a28d\" xlink:actuate=\"onRequest\" xlink:href=\"psysml:bd05ac8a-5fc5-4bdc-9c2b-ccbbccd0a28d\" xlink:show=\"new\" xlink:title=\"psysml:bd05ac8a-5fc5-4bdc-9c2b-ccbbccd0a28d\" xlink:type=\"simple\"><path d=\"M55,138.32 C55,161.03 55,186.4 55,203.99 \" fill=\"none\" id=\"E5&lt;-E6\" style=\"stroke: #383838; stroke-width: 1.0; stroke-dasharray: 7.0,7.0;\"/><ellipse cx=\"55\" cy=\"131.15\" fill=\"#FFFFFF\" rx=\"8\" ry=\"8\" style=\"stroke: #383838; stroke-width: 1.0;\"/><line style=\"stroke: #383838; stroke-width: 1.0;\" x1=\"55\" x2=\"55\" y1=\"139.15\" y2=\"123.15\"/><line style=\"stroke: #383838; stroke-width: 1.0;\" x1=\"47\" x2=\"63\" y1=\"131.15\" y2=\"131.15\"/></a><!--MD5=[03f2e7ddac0d0d3ee8291590b61e265c]\n",
       "@startuml\r\n",
       " skinparam monochrome true\r\n",
       "skinparam classbackgroundcolor white\r\n",
       "skinparam shadowing false\r\n",
       "skinparam wrapWidth 300\r\n",
       "hide circle\r\n",
       "\r\n",
       "package \"AliasTest\" as E1  [[psysml:2a952753-6cea-46c9-bb61-930b04eb3411 ]]  {\r\n",
       "comp def \"P1\" as E2  <<(T,blue) part def>> [[psysml:92b6686b-ceec-4d5e-ab27-24733762f61c ]] {\r\n",
       "- - ports - -\r\n",
       "porig1\r\n",
       "}\r\n",
       "comp usage \"porig1\" as E3  <<(T,blue) port>> [[psysml:ea24ffa6-0b43-4ed9-8037-2e87c3ddc217 ]] {\r\n",
       "}\r\n",
       "comp usage \"p1: P1\" as E4  <<(T,blue) part>> [[psysml:2b3d4312-7497-4457-990a-6ee5375442c5 ]] {\r\n",
       "- - ports - -\r\n",
       "po1\\n//:>>P1::porig1// \r\n",
       "}\r\n",
       "comp usage \"p2: P1\" as E5  <<(T,blue) part>> [[psysml:09e69c42-70ff-4aed-b93c-c140a8b906a0 ]] {\r\n",
       "- - ports - -\r\n",
       "pdest\r\n",
       "}\r\n",
       "comp usage \"pdest\" as E6  <<(T,blue) port>> [[psysml:af7521ab-a154-4c67-8a1e-396c259ea1b5 ]] {\r\n",
       "}\r\n",
       "E2 +.. E3 [[psysml:923130c4-e405-43d8-b69b-9c27213fc1b8 ]] \r\n",
       "E4 - -:|> E2 [[psysml:5073669c-7652-4dd2-8e27-7490931f0c73 ]] \r\n",
       "E5 - -:|> E2 [[psysml:94875f8e-b487-466f-9f77-0e1d93a514ac ]] \r\n",
       "E5 +.. E6 [[psysml:bd05ac8a-5fc5-4bdc-9c2b-ccbbccd0a28d ]] \r\n",
       "}\r\n",
       "@enduml\r\n",
       "\n",
       "PlantUML version 1.2020.13(Sat Jun 13 12:26:38 UTC 2020)\n",
       "(EPL source distribution)\n",
       "Java Runtime: OpenJDK Runtime Environment\n",
       "JVM: OpenJDK 64-Bit Server VM\n",
       "Default Encoding: UTF-8\n",
       "Language: en\n",
       "Country: null\n",
       "--></g></svg>"
      ]
     },
     "execution_count": 3,
     "metadata": {},
     "output_type": "execute_result"
    }
   ],
   "source": [
    "%viz --style=\"COMPTREE\" --view=\"Tree\" \"AliasTest\""
   ]
  },
  {
   "cell_type": "code",
   "execution_count": 4,
   "id": "2ffc8e1d",
   "metadata": {
    "execution": {
     "iopub.execute_input": "2021-06-30T09:16:05.811010Z",
     "iopub.status.busy": "2021-06-30T09:16:05.809326Z",
     "iopub.status.idle": "2021-06-30T09:16:05.821509Z",
     "shell.execute_reply": "2021-06-30T09:16:05.821077Z"
    }
   },
   "outputs": [
    {
     "data": {
      "image/svg+xml": [
       "<?xml version=\"1.0\" encoding=\"UTF-8\" standalone=\"no\"?><svg xmlns=\"http://www.w3.org/2000/svg\" xmlns:xlink=\"http://www.w3.org/1999/xlink\" contentScriptType=\"application/ecmascript\" contentStyleType=\"text/css\" height=\"12px\" preserveAspectRatio=\"none\" style=\"width:12px;height:12px;\" version=\"1.1\" viewBox=\"0 0 12 12\" width=\"12px\" zoomAndPan=\"magnify\"><defs/><g><!--MD5=[f19188ef49e11757b5c46753f95d9edc]\n",
       "@startuml\r\n",
       " skinparam monochrome true\r\n",
       "skinparam classbackgroundcolor white\r\n",
       "skinparam shadowing false\r\n",
       "skinparam wrapWidth 300\r\n",
       "hide circle\r\n",
       "\r\n",
       "@enduml\r\n",
       "\n",
       "PlantUML version 1.2020.13(Sat Jun 13 12:26:38 UTC 2020)\n",
       "(EPL source distribution)\n",
       "Java Runtime: OpenJDK Runtime Environment\n",
       "JVM: OpenJDK 64-Bit Server VM\n",
       "Default Encoding: UTF-8\n",
       "Language: en\n",
       "Country: null\n",
       "--></g></svg>"
      ]
     },
     "execution_count": 4,
     "metadata": {},
     "output_type": "execute_result"
    }
   ],
   "source": [
    "%viz --style=\"COMPTREE\" --view=\"State\" \"AliasTest\""
   ]
  },
  {
   "cell_type": "code",
   "execution_count": 5,
   "id": "542855a7",
   "metadata": {
    "execution": {
     "iopub.execute_input": "2021-06-30T09:16:05.872086Z",
     "iopub.status.busy": "2021-06-30T09:16:05.871603Z",
     "iopub.status.idle": "2021-06-30T09:16:05.938276Z",
     "shell.execute_reply": "2021-06-30T09:16:05.937485Z"
    }
   },
   "outputs": [
    {
     "data": {
      "image/svg+xml": [
       "<?xml version=\"1.0\" encoding=\"UTF-8\" standalone=\"no\"?><svg xmlns=\"http://www.w3.org/2000/svg\" xmlns:xlink=\"http://www.w3.org/1999/xlink\" contentScriptType=\"application/ecmascript\" contentStyleType=\"text/css\" height=\"207px\" preserveAspectRatio=\"none\" style=\"width:406px;height:207px;\" version=\"1.1\" viewBox=\"0 0 406 207\" width=\"406px\" zoomAndPan=\"magnify\"><defs/><g><!--MD5=[fbc87193dbaf4d95561dea2c320d4a47]\n",
       "cluster E1--><a href=\"psysml:2a952753-6cea-46c9-bb61-930b04eb3411\" target=\"_top\" title=\"psysml:2a952753-6cea-46c9-bb61-930b04eb3411\" xlink:actuate=\"onRequest\" xlink:href=\"psysml:2a952753-6cea-46c9-bb61-930b04eb3411\" xlink:show=\"new\" xlink:title=\"psysml:2a952753-6cea-46c9-bb61-930b04eb3411\" xlink:type=\"simple\"><polygon fill=\"#FFFFFF\" points=\"16,6,94,6,101,28.2969,384,28.2969,384,195,16,195,16,6\" style=\"stroke: #000000; stroke-width: 1.5;\"/><line style=\"stroke: #000000; stroke-width: 1.5;\" x1=\"16\" x2=\"101\" y1=\"28.2969\" y2=\"28.2969\"/><text fill=\"#000000\" font-family=\"sans-serif\" font-size=\"14\" font-weight=\"bold\" lengthAdjust=\"spacingAndGlyphs\" textLength=\"72\" x=\"20\" y=\"20.9951\">AliasTest</text></a><!--MD5=[e4f7fae6ed58524ba242bb0b0d3be6b7]\n",
       "cluster E2--><a href=\"psysml:92b6686b-ceec-4d5e-ab27-24733762f61c\" target=\"_top\" title=\"psysml:92b6686b-ceec-4d5e-ab27-24733762f61c\" xlink:actuate=\"onRequest\" xlink:href=\"psysml:92b6686b-ceec-4d5e-ab27-24733762f61c\" xlink:show=\"new\" xlink:title=\"psysml:92b6686b-ceec-4d5e-ab27-24733762f61c\" xlink:type=\"simple\"><rect fill=\"#FFFFFF\" height=\"73\" id=\"E2\" style=\"stroke: #383838; stroke-width: 1.5;\" width=\"83\" x=\"244\" y=\"55\"/><rect fill=\"#F8F8F8\" height=\"37.9375\" style=\"stroke: #383838; stroke-width: 1.5;\" width=\"83\" x=\"244\" y=\"55\"/><text fill=\"#000000\" font-family=\"sans-serif\" font-size=\"12\" font-style=\"italic\" lengthAdjust=\"spacingAndGlyphs\" textLength=\"64\" x=\"253.5\" y=\"71.1387\">«part def»</text><text fill=\"#000000\" font-family=\"sans-serif\" font-size=\"12\" lengthAdjust=\"spacingAndGlyphs\" textLength=\"16\" x=\"277.5\" y=\"85.1074\">P1</text></a><!--MD5=[de5ec2e2e8f62f467e546659f5068c88]\n",
       "cluster E5--><a href=\"psysml:2b3d4312-7497-4457-990a-6ee5375442c5\" target=\"_top\" title=\"psysml:2b3d4312-7497-4457-990a-6ee5375442c5\" xlink:actuate=\"onRequest\" xlink:href=\"psysml:2b3d4312-7497-4457-990a-6ee5375442c5\" xlink:show=\"new\" xlink:title=\"psysml:2b3d4312-7497-4457-990a-6ee5375442c5\" xlink:type=\"simple\"><rect fill=\"#FFFFFF\" height=\"84.5\" id=\"E5\" rx=\"10\" ry=\"10\" style=\"stroke: #383838; stroke-width: 1.5;\" width=\"101\" x=\"139\" y=\"94.5\"/><rect fill=\"#F8F8F8\" height=\"23.9688\" rx=\"10\" ry=\"10\" style=\"stroke: #F8F8F8; stroke-width: 1.5;\" width=\"101\" x=\"139\" y=\"94.5\"/><rect fill=\"#F8F8F8\" height=\"10\" style=\"stroke: #F8F8F8; stroke-width: 1.5;\" width=\"101\" x=\"139\" y=\"108.4688\"/><rect fill=\"none\" height=\"84.5\" id=\"E5\" rx=\"10\" ry=\"10\" style=\"stroke: #383838; stroke-width: 1.5;\" width=\"101\" x=\"139\" y=\"94.5\"/><text fill=\"#000000\" font-family=\"sans-serif\" font-size=\"12\" lengthAdjust=\"spacingAndGlyphs\" textLength=\"40\" x=\"169.5\" y=\"110.6387\">p1: P1</text><line style=\"stroke: #383838; stroke-width: 1.0;\" x1=\"139\" x2=\"240\" y1=\"118.4688\" y2=\"118.4688\"/></a><!--MD5=[168fadf3d0c3fd93dd5d6da1b1d7ab76]\n",
       "cluster E7--><a href=\"psysml:09e69c42-70ff-4aed-b93c-c140a8b906a0\" target=\"_top\" title=\"psysml:09e69c42-70ff-4aed-b93c-c140a8b906a0\" xlink:actuate=\"onRequest\" xlink:href=\"psysml:09e69c42-70ff-4aed-b93c-c140a8b906a0\" xlink:show=\"new\" xlink:title=\"psysml:09e69c42-70ff-4aed-b93c-c140a8b906a0\" xlink:type=\"simple\"><rect fill=\"#FFFFFF\" height=\"65\" id=\"E7\" rx=\"10\" ry=\"10\" style=\"stroke: #383838; stroke-width: 1.5;\" width=\"83\" x=\"53\" y=\"55\"/><rect fill=\"#F8F8F8\" height=\"23.9688\" rx=\"10\" ry=\"10\" style=\"stroke: #F8F8F8; stroke-width: 1.5;\" width=\"83\" x=\"53\" y=\"55\"/><rect fill=\"#F8F8F8\" height=\"10\" style=\"stroke: #F8F8F8; stroke-width: 1.5;\" width=\"83\" x=\"53\" y=\"68.9688\"/><rect fill=\"none\" height=\"65\" id=\"E7\" rx=\"10\" ry=\"10\" style=\"stroke: #383838; stroke-width: 1.5;\" width=\"83\" x=\"53\" y=\"55\"/><text fill=\"#000000\" font-family=\"sans-serif\" font-size=\"12\" lengthAdjust=\"spacingAndGlyphs\" textLength=\"40\" x=\"74.5\" y=\"71.1387\">p2: P1</text><line style=\"stroke: #383838; stroke-width: 1.0;\" x1=\"53\" x2=\"136\" y1=\"78.9688\" y2=\"78.9688\"/></a><text fill=\"#000000\" font-family=\"sans-serif\" font-size=\"14\" lengthAdjust=\"spacingAndGlyphs\" textLength=\"44\" x=\"240\" y=\"33.6982\">porig1</text><rect fill=\"#383838\" height=\"12\" style=\"stroke: #F8F8F8; stroke-width: 1.5;\" width=\"12\" x=\"256\" y=\"49\"/><text fill=\"#000000\" font-family=\"sans-serif\" font-size=\"14\" lengthAdjust=\"spacingAndGlyphs\" textLength=\"44\" x=\"287\" y=\"33.6982\">porig1</text><rect fill=\"#383838\" height=\"12\" style=\"stroke: #F8F8F8; stroke-width: 1.5;\" width=\"12\" x=\"303\" y=\"49\"/><text fill=\"#000000\" font-family=\"sans-serif\" font-size=\"14\" lengthAdjust=\"spacingAndGlyphs\" textLength=\"27\" x=\"143.5\" y=\"73.1982\">po1</text><rect fill=\"#383838\" height=\"12\" style=\"stroke: #F8F8F8; stroke-width: 1.5;\" width=\"12\" x=\"151\" y=\"88.5\"/><text fill=\"#000000\" font-family=\"sans-serif\" font-size=\"14\" lengthAdjust=\"spacingAndGlyphs\" textLength=\"40\" x=\"51\" y=\"33.6982\">pdest</text><rect fill=\"#383838\" height=\"12\" style=\"stroke: #F8F8F8; stroke-width: 1.5;\" width=\"12\" x=\"65\" y=\"49\"/><text fill=\"#000000\" font-family=\"sans-serif\" font-size=\"14\" lengthAdjust=\"spacingAndGlyphs\" textLength=\"40\" x=\"98\" y=\"33.6982\">pdest</text><rect fill=\"#383838\" height=\"12\" style=\"stroke: #F8F8F8; stroke-width: 1.5;\" width=\"12\" x=\"112\" y=\"49\"/><!--MD5=[60ac2c0cde89d4308155b0484e57a8ec]\n",
       "link E9 to E6--><a href=\"psysml:d88f1dc1-ed41-4b97-9842-84a04c2c1d2b\" target=\"_top\" title=\"psysml:d88f1dc1-ed41-4b97-9842-84a04c2c1d2b\" xlink:actuate=\"onRequest\" xlink:href=\"psysml:d88f1dc1-ed41-4b97-9842-84a04c2c1d2b\" xlink:show=\"new\" xlink:title=\"psysml:d88f1dc1-ed41-4b97-9842-84a04c2c1d2b\" xlink:type=\"simple\"><path d=\"M111.75,56.49 C103.41,58.2 109.82,64.05 115,69 C124.85,78.4 136.6,90.11 150.78,92.89 \" fill=\"none\" id=\"E9-E6\" style=\"stroke: #383838; stroke-width: 3.0;\"/></a><!--MD5=[60ac2c0cde89d4308155b0484e57a8ec]\n",
       "link E9 to E6--><a href=\"psysml:619a1562-63e5-4ed2-9546-f25d2cdc049d\" target=\"_top\" title=\"psysml:619a1562-63e5-4ed2-9546-f25d2cdc049d\" xlink:actuate=\"onRequest\" xlink:href=\"psysml:619a1562-63e5-4ed2-9546-f25d2cdc049d\" xlink:show=\"new\" xlink:title=\"psysml:619a1562-63e5-4ed2-9546-f25d2cdc049d\" xlink:type=\"simple\"><path d=\"M124.29,56.32 C137.94,57.76 144.62,63.87 150,69 C159.5,78.06 170.77,89.27 163.24,92.56 \" fill=\"none\" id=\"E9-E6-1\" style=\"stroke: #383838; stroke-width: 3.0;\"/></a><!--MD5=[7da69309723bdaee5bbc96726e19ae07]\n",
       "@startuml\r\n",
       "skinparam ranksep 10\r\n",
       "skinparam rectangle {\r\n",
       " backgroundColor<<block>> LightGreen\r\n",
       "}\r\n",
       " skinparam monochrome true\r\n",
       "skinparam classbackgroundcolor white\r\n",
       "skinparam shadowing false\r\n",
       "skinparam wrapWidth 300\r\n",
       "hide circle\r\n",
       "\r\n",
       "package \"AliasTest\" as E1  [[psysml:2a952753-6cea-46c9-bb61-930b04eb3411 ]]  {\r\n",
       "rec def \"P1\" as E2  <<(T,blue) part def>> [[psysml:92b6686b-ceec-4d5e-ab27-24733762f61c ]] {\r\n",
       "portin \"porig1\" as E3  <<(T,blue) port>> [[psysml:ea24ffa6-0b43-4ed9-8037-2e87c3ddc217 ]] \r\n",
       "portin \"porig1\" as E4  <<(T,blue) port>> [[psysml:ea24ffa6-0b43-4ed9-8037-2e87c3ddc217 ]] \r\n",
       "}\r\n",
       "rec usage \"p1: P1\" as E5  [[psysml:2b3d4312-7497-4457-990a-6ee5375442c5 ]] {\r\n",
       "portin \"po1\" as E6  <<(T,blue) port>> [[psysml:dd05f1a1-221f-4ab1-8a14-dfadf20b8a26 ]] \r\n",
       "}\r\n",
       "rec usage \"p2: P1\" as E7  [[psysml:09e69c42-70ff-4aed-b93c-c140a8b906a0 ]] {\r\n",
       "portin \"pdest\" as E8  <<(T,blue) port>> [[psysml:af7521ab-a154-4c67-8a1e-396c259ea1b5 ]] \r\n",
       "portin \"pdest\" as E9  <<(T,blue) port>> [[psysml:af7521ab-a154-4c67-8a1e-396c259ea1b5 ]] \r\n",
       "}\r\n",
       "E9 -[thickness=3]- E6 [[psysml:d88f1dc1-ed41-4b97-9842-84a04c2c1d2b ]] \r\n",
       "E9 -[thickness=3]- E6 [[psysml:619a1562-63e5-4ed2-9546-f25d2cdc049d ]] \r\n",
       "}\r\n",
       "@enduml\r\n",
       "\n",
       "PlantUML version 1.2020.13(Sat Jun 13 12:26:38 UTC 2020)\n",
       "(EPL source distribution)\n",
       "Java Runtime: OpenJDK Runtime Environment\n",
       "JVM: OpenJDK 64-Bit Server VM\n",
       "Default Encoding: UTF-8\n",
       "Language: en\n",
       "Country: null\n",
       "--></g></svg>"
      ]
     },
     "execution_count": 5,
     "metadata": {},
     "output_type": "execute_result"
    }
   ],
   "source": [
    "%viz --style=\"COMPTREE\" --view=\"Interconnection\" \"AliasTest\""
   ]
  },
  {
   "cell_type": "code",
   "execution_count": 6,
   "id": "66f9c0d5",
   "metadata": {
    "execution": {
     "iopub.execute_input": "2021-06-30T09:16:05.989368Z",
     "iopub.status.busy": "2021-06-30T09:16:05.988391Z",
     "iopub.status.idle": "2021-06-30T09:16:05.996100Z",
     "shell.execute_reply": "2021-06-30T09:16:05.995733Z"
    }
   },
   "outputs": [
    {
     "data": {
      "image/svg+xml": [
       "<?xml version=\"1.0\" encoding=\"UTF-8\" standalone=\"no\"?><svg xmlns=\"http://www.w3.org/2000/svg\" xmlns:xlink=\"http://www.w3.org/1999/xlink\" contentScriptType=\"application/ecmascript\" contentStyleType=\"text/css\" height=\"12px\" preserveAspectRatio=\"none\" style=\"width:12px;height:12px;\" version=\"1.1\" viewBox=\"0 0 12 12\" width=\"12px\" zoomAndPan=\"magnify\"><defs/><g><!--MD5=[655b888544ca4751ea36af1068543f84]\n",
       "@startuml\r\n",
       "skinparam ranksep 8\r\n",
       " skinparam monochrome true\r\n",
       "skinparam classbackgroundcolor white\r\n",
       "skinparam shadowing false\r\n",
       "skinparam wrapWidth 300\r\n",
       "hide circle\r\n",
       "\r\n",
       "@enduml\r\n",
       "\n",
       "PlantUML version 1.2020.13(Sat Jun 13 12:26:38 UTC 2020)\n",
       "(EPL source distribution)\n",
       "Java Runtime: OpenJDK Runtime Environment\n",
       "JVM: OpenJDK 64-Bit Server VM\n",
       "Default Encoding: UTF-8\n",
       "Language: en\n",
       "Country: null\n",
       "--></g></svg>"
      ]
     },
     "execution_count": 6,
     "metadata": {},
     "output_type": "execute_result"
    }
   ],
   "source": [
    "%viz --style=\"COMPTREE\" --view=\"Action\" \"AliasTest\""
   ]
  },
  {
   "cell_type": "code",
   "execution_count": 7,
   "id": "aaaf78c4",
   "metadata": {
    "execution": {
     "iopub.execute_input": "2021-06-30T09:16:06.047917Z",
     "iopub.status.busy": "2021-06-30T09:16:06.047008Z",
     "iopub.status.idle": "2021-06-30T09:16:06.164521Z",
     "shell.execute_reply": "2021-06-30T09:16:06.162907Z"
    }
   },
   "outputs": [
    {
     "data": {
      "image/svg+xml": [
       "<?xml version=\"1.0\" encoding=\"UTF-8\" standalone=\"no\"?><svg xmlns=\"http://www.w3.org/2000/svg\" xmlns:xlink=\"http://www.w3.org/1999/xlink\" contentScriptType=\"application/ecmascript\" contentStyleType=\"text/css\" height=\"399px\" preserveAspectRatio=\"none\" style=\"width:243px;height:399px;\" version=\"1.1\" viewBox=\"0 0 243 399\" width=\"243px\" zoomAndPan=\"magnify\"><defs/><g><!--MD5=[fbc87193dbaf4d95561dea2c320d4a47]\n",
       "cluster E1--><a href=\"psysml:2a952753-6cea-46c9-bb61-930b04eb3411\" target=\"_top\" title=\"psysml:2a952753-6cea-46c9-bb61-930b04eb3411\" xlink:actuate=\"onRequest\" xlink:href=\"psysml:2a952753-6cea-46c9-bb61-930b04eb3411\" xlink:show=\"new\" xlink:title=\"psysml:2a952753-6cea-46c9-bb61-930b04eb3411\" xlink:type=\"simple\"><polygon fill=\"#FFFFFF\" points=\"16,6,94,6,101,28.2969,221,28.2969,221,387,16,387,16,6\" style=\"stroke: #000000; stroke-width: 1.5;\"/><line style=\"stroke: #000000; stroke-width: 1.5;\" x1=\"16\" x2=\"101\" y1=\"28.2969\" y2=\"28.2969\"/><text fill=\"#000000\" font-family=\"sans-serif\" font-size=\"14\" font-weight=\"bold\" lengthAdjust=\"spacingAndGlyphs\" textLength=\"72\" x=\"20\" y=\"20.9951\">AliasTest</text></a><!--MD5=[b4997ac47864f28c2f74865a473b2911]\n",
       "class E2--><a href=\"psysml:92b6686b-ceec-4d5e-ab27-24733762f61c\" target=\"_top\" title=\"psysml:92b6686b-ceec-4d5e-ab27-24733762f61c\" xlink:actuate=\"onRequest\" xlink:href=\"psysml:92b6686b-ceec-4d5e-ab27-24733762f61c\" xlink:show=\"new\" xlink:title=\"psysml:92b6686b-ceec-4d5e-ab27-24733762f61c\" xlink:type=\"simple\"><rect fill=\"#FFFFFF\" height=\"75.5469\" id=\"E2\" style=\"stroke: #383838; stroke-width: 1.5;\" width=\"66\" x=\"118\" y=\"189\"/><text fill=\"#000000\" font-family=\"sans-serif\" font-size=\"12\" font-style=\"italic\" lengthAdjust=\"spacingAndGlyphs\" textLength=\"64\" x=\"119\" y=\"205.1387\">«part def»</text><text fill=\"#000000\" font-family=\"sans-serif\" font-size=\"12\" lengthAdjust=\"spacingAndGlyphs\" textLength=\"16\" x=\"143\" y=\"219.1074\">P1</text><line style=\"stroke: #383838; stroke-width: 1.5;\" x1=\"119\" x2=\"183\" y1=\"226.9375\" y2=\"226.9375\"/><text fill=\"#000000\" font-family=\"sans-serif\" font-size=\"11\" lengthAdjust=\"spacingAndGlyphs\" textLength=\"36\" x=\"124\" y=\"257.9526\">porig1</text><line style=\"stroke: #383838; stroke-width: 1.0;\" x1=\"119\" x2=\"136\" y1=\"241.3398\" y2=\"241.3398\"/><text fill=\"#000000\" font-family=\"sans-serif\" font-size=\"11\" lengthAdjust=\"spacingAndGlyphs\" textLength=\"30\" x=\"136\" y=\"244.6479\">ports</text><line style=\"stroke: #383838; stroke-width: 1.0;\" x1=\"166\" x2=\"183\" y1=\"241.3398\" y2=\"241.3398\"/></a><!--MD5=[09b614a08d8cba4a07c9adeb5e0fee81]\n",
       "class E3--><a href=\"psysml:ea24ffa6-0b43-4ed9-8037-2e87c3ddc217\" target=\"_top\" title=\"psysml:ea24ffa6-0b43-4ed9-8037-2e87c3ddc217\" xlink:actuate=\"onRequest\" xlink:href=\"psysml:ea24ffa6-0b43-4ed9-8037-2e87c3ddc217\" xlink:show=\"new\" xlink:title=\"psysml:ea24ffa6-0b43-4ed9-8037-2e87c3ddc217\" xlink:type=\"simple\"><rect fill=\"#FFFFFF\" height=\"45.9375\" id=\"E3\" rx=\"10\" ry=\"10\" style=\"stroke: #383838; stroke-width: 1.5;\" width=\"46\" x=\"128\" y=\"325\"/><text fill=\"#000000\" font-family=\"sans-serif\" font-size=\"12\" font-style=\"italic\" lengthAdjust=\"spacingAndGlyphs\" textLength=\"40\" x=\"131\" y=\"341.1387\">«port»</text><text fill=\"#000000\" font-family=\"sans-serif\" font-size=\"12\" lengthAdjust=\"spacingAndGlyphs\" textLength=\"40\" x=\"131\" y=\"355.1074\">porig1</text><line style=\"stroke: #383838; stroke-width: 1.5;\" x1=\"129\" x2=\"173\" y1=\"362.9375\" y2=\"362.9375\"/></a><!--MD5=[ebbe1d658d1005bcc118a6aa81145e00]\n",
       "class E4--><a href=\"psysml:2b3d4312-7497-4457-990a-6ee5375442c5\" target=\"_top\" title=\"psysml:2b3d4312-7497-4457-990a-6ee5375442c5\" xlink:actuate=\"onRequest\" xlink:href=\"psysml:2b3d4312-7497-4457-990a-6ee5375442c5\" xlink:show=\"new\" xlink:title=\"psysml:2b3d4312-7497-4457-990a-6ee5375442c5\" xlink:type=\"simple\"><rect fill=\"#FFFFFF\" height=\"88.3516\" id=\"E4\" rx=\"10\" ry=\"10\" style=\"stroke: #383838; stroke-width: 1.5;\" width=\"92\" x=\"113\" y=\"41\"/><text fill=\"#000000\" font-family=\"sans-serif\" font-size=\"12\" font-style=\"italic\" lengthAdjust=\"spacingAndGlyphs\" textLength=\"40\" x=\"139\" y=\"57.1387\">«part»</text><text fill=\"#000000\" font-family=\"sans-serif\" font-size=\"12\" lengthAdjust=\"spacingAndGlyphs\" textLength=\"40\" x=\"139\" y=\"71.1074\">p1: P1</text><line style=\"stroke: #383838; stroke-width: 1.5;\" x1=\"114\" x2=\"204\" y1=\"78.9375\" y2=\"78.9375\"/><text fill=\"#000000\" font-family=\"sans-serif\" font-size=\"11\" lengthAdjust=\"spacingAndGlyphs\" textLength=\"21\" x=\"119\" y=\"109.9526\">po1</text><text fill=\"#000000\" font-family=\"sans-serif\" font-size=\"11\" font-style=\"italic\" lengthAdjust=\"spacingAndGlyphs\" textLength=\"80\" x=\"119\" y=\"122.7573\">:&gt;&gt;P1::porig1</text><line style=\"stroke: #383838; stroke-width: 1.0;\" x1=\"114\" x2=\"144\" y1=\"93.3398\" y2=\"93.3398\"/><text fill=\"#000000\" font-family=\"sans-serif\" font-size=\"11\" lengthAdjust=\"spacingAndGlyphs\" textLength=\"30\" x=\"144\" y=\"96.6479\">ports</text><line style=\"stroke: #383838; stroke-width: 1.0;\" x1=\"174\" x2=\"204\" y1=\"93.3398\" y2=\"93.3398\"/></a><!--MD5=[270fce915f116d4de14055a7c1d9a0f3]\n",
       "class E5--><a href=\"psysml:09e69c42-70ff-4aed-b93c-c140a8b906a0\" target=\"_top\" title=\"psysml:09e69c42-70ff-4aed-b93c-c140a8b906a0\" xlink:actuate=\"onRequest\" xlink:href=\"psysml:09e69c42-70ff-4aed-b93c-c140a8b906a0\" xlink:show=\"new\" xlink:title=\"psysml:09e69c42-70ff-4aed-b93c-c140a8b906a0\" xlink:type=\"simple\"><rect fill=\"#FFFFFF\" height=\"75.5469\" id=\"E5\" rx=\"10\" ry=\"10\" style=\"stroke: #383838; stroke-width: 1.5;\" width=\"46\" x=\"32\" y=\"47\"/><text fill=\"#000000\" font-family=\"sans-serif\" font-size=\"12\" font-style=\"italic\" lengthAdjust=\"spacingAndGlyphs\" textLength=\"40\" x=\"35\" y=\"63.1387\">«part»</text><text fill=\"#000000\" font-family=\"sans-serif\" font-size=\"12\" lengthAdjust=\"spacingAndGlyphs\" textLength=\"40\" x=\"35\" y=\"77.1074\">p2: P1</text><line style=\"stroke: #383838; stroke-width: 1.5;\" x1=\"33\" x2=\"77\" y1=\"84.9375\" y2=\"84.9375\"/><text fill=\"#000000\" font-family=\"sans-serif\" font-size=\"11\" lengthAdjust=\"spacingAndGlyphs\" textLength=\"32\" x=\"38\" y=\"115.9526\">pdest</text><line style=\"stroke: #383838; stroke-width: 1.0;\" x1=\"33\" x2=\"40\" y1=\"99.3398\" y2=\"99.3398\"/><text fill=\"#000000\" font-family=\"sans-serif\" font-size=\"11\" lengthAdjust=\"spacingAndGlyphs\" textLength=\"30\" x=\"40\" y=\"102.6479\">ports</text><line style=\"stroke: #383838; stroke-width: 1.0;\" x1=\"70\" x2=\"77\" y1=\"99.3398\" y2=\"99.3398\"/></a><!--MD5=[60a26617385b1d2d0262a64233df1f8d]\n",
       "class E6--><a href=\"psysml:af7521ab-a154-4c67-8a1e-396c259ea1b5\" target=\"_top\" title=\"psysml:af7521ab-a154-4c67-8a1e-396c259ea1b5\" xlink:actuate=\"onRequest\" xlink:href=\"psysml:af7521ab-a154-4c67-8a1e-396c259ea1b5\" xlink:show=\"new\" xlink:title=\"psysml:af7521ab-a154-4c67-8a1e-396c259ea1b5\" xlink:type=\"simple\"><rect fill=\"#FFFFFF\" height=\"45.9375\" id=\"E6\" rx=\"10\" ry=\"10\" style=\"stroke: #383838; stroke-width: 1.5;\" width=\"42\" x=\"34\" y=\"204\"/><text fill=\"#000000\" font-family=\"sans-serif\" font-size=\"12\" font-style=\"italic\" lengthAdjust=\"spacingAndGlyphs\" textLength=\"40\" x=\"35\" y=\"220.1387\">«port»</text><text fill=\"#000000\" font-family=\"sans-serif\" font-size=\"12\" lengthAdjust=\"spacingAndGlyphs\" textLength=\"36\" x=\"37\" y=\"234.1074\">pdest</text><line style=\"stroke: #383838; stroke-width: 1.5;\" x1=\"35\" x2=\"75\" y1=\"241.9375\" y2=\"241.9375\"/></a><!--MD5=[209b3feb70ccb6233bfe1053d122c12c]\n",
       "reverse link E2 to E3--><a href=\"psysml:923130c4-e405-43d8-b69b-9c27213fc1b8\" target=\"_top\" title=\"psysml:923130c4-e405-43d8-b69b-9c27213fc1b8\" xlink:actuate=\"onRequest\" xlink:href=\"psysml:923130c4-e405-43d8-b69b-9c27213fc1b8\" xlink:show=\"new\" xlink:title=\"psysml:923130c4-e405-43d8-b69b-9c27213fc1b8\" xlink:type=\"simple\"><path d=\"M151,280.29 C151,295.98 151,312.34 151,324.93 \" fill=\"none\" id=\"E2&lt;-E3\" style=\"stroke: #383838; stroke-width: 1.0; stroke-dasharray: 7.0,7.0;\"/><ellipse cx=\"151\" cy=\"273\" fill=\"#FFFFFF\" rx=\"8\" ry=\"8\" style=\"stroke: #383838; stroke-width: 1.0;\"/><line style=\"stroke: #383838; stroke-width: 1.0;\" x1=\"151\" x2=\"151\" y1=\"281\" y2=\"265\"/><line style=\"stroke: #383838; stroke-width: 1.0;\" x1=\"143\" x2=\"159\" y1=\"273\" y2=\"273\"/></a><!--MD5=[185131fc0dcab0a4505a2ebe144e961b]\n",
       "link E4 to E2--><a href=\"psysml:5073669c-7652-4dd2-8e27-7490931f0c73\" target=\"_top\" title=\"psysml:5073669c-7652-4dd2-8e27-7490931f0c73\" xlink:actuate=\"onRequest\" xlink:href=\"psysml:5073669c-7652-4dd2-8e27-7490931f0c73\" xlink:show=\"new\" xlink:title=\"psysml:5073669c-7652-4dd2-8e27-7490931f0c73\" xlink:type=\"simple\"><path d=\"M156.53,129.15 C155.82,141.7 155.02,155.6 154.26,168.87 \" fill=\"none\" id=\"E4-&gt;E2\" style=\"stroke: #383838; stroke-width: 1.0;\"/><polygon fill=\"#FFFFFF\" points=\"153.12,188.9,147.2169,169.5311,161.1941,170.331,153.12,188.9\" style=\"stroke: #383838; stroke-width: 1.0;\"/><ellipse cx=\"149.5393\" cy=\"163.9547\" fill=\"#383838\" rx=\"2\" ry=\"2\" style=\"stroke: #383838; stroke-width: 1.0;\"/><ellipse cx=\"159.523\" cy=\"164.526\" fill=\"#383838\" rx=\"2\" ry=\"2\" style=\"stroke: #383838; stroke-width: 1.0;\"/></a><!--MD5=[15ebcb19ae302d9b601edb458606d402]\n",
       "link E5 to E2--><a href=\"psysml:94875f8e-b487-466f-9f77-0e1d93a514ac\" target=\"_top\" title=\"psysml:94875f8e-b487-466f-9f77-0e1d93a514ac\" xlink:actuate=\"onRequest\" xlink:href=\"psysml:94875f8e-b487-466f-9f77-0e1d93a514ac\" xlink:show=\"new\" xlink:title=\"psysml:94875f8e-b487-466f-9f77-0e1d93a514ac\" xlink:type=\"simple\"><path d=\"M78.24,119.89 C89.03,135.63 102.13,154.73 114.21,172.35 \" fill=\"none\" id=\"E5-&gt;E2\" style=\"stroke: #383838; stroke-width: 1.0;\"/><polygon fill=\"#FFFFFF\" points=\"125.62,188.98,109.1019,177.2689,120.6481,169.3515,125.62,188.98\" style=\"stroke: #383838; stroke-width: 1.0;\"/><ellipse cx=\"107.5278\" cy=\"171.4368\" fill=\"#383838\" rx=\"2\" ry=\"2\" style=\"stroke: #383838; stroke-width: 1.0;\"/><ellipse cx=\"115.7751\" cy=\"165.7816\" fill=\"#383838\" rx=\"2\" ry=\"2\" style=\"stroke: #383838; stroke-width: 1.0;\"/></a><!--MD5=[85d356282659285ab4b2cfe2f634dd2b]\n",
       "reverse link E5 to E6--><a href=\"psysml:bd05ac8a-5fc5-4bdc-9c2b-ccbbccd0a28d\" target=\"_top\" title=\"psysml:bd05ac8a-5fc5-4bdc-9c2b-ccbbccd0a28d\" xlink:actuate=\"onRequest\" xlink:href=\"psysml:bd05ac8a-5fc5-4bdc-9c2b-ccbbccd0a28d\" xlink:show=\"new\" xlink:title=\"psysml:bd05ac8a-5fc5-4bdc-9c2b-ccbbccd0a28d\" xlink:type=\"simple\"><path d=\"M55,138.32 C55,161.03 55,186.4 55,203.99 \" fill=\"none\" id=\"E5&lt;-E6\" style=\"stroke: #383838; stroke-width: 1.0; stroke-dasharray: 7.0,7.0;\"/><ellipse cx=\"55\" cy=\"131.15\" fill=\"#FFFFFF\" rx=\"8\" ry=\"8\" style=\"stroke: #383838; stroke-width: 1.0;\"/><line style=\"stroke: #383838; stroke-width: 1.0;\" x1=\"55\" x2=\"55\" y1=\"139.15\" y2=\"123.15\"/><line style=\"stroke: #383838; stroke-width: 1.0;\" x1=\"47\" x2=\"63\" y1=\"131.15\" y2=\"131.15\"/></a><!--MD5=[03f2e7ddac0d0d3ee8291590b61e265c]\n",
       "@startuml\r\n",
       " skinparam monochrome true\r\n",
       "skinparam classbackgroundcolor white\r\n",
       "skinparam shadowing false\r\n",
       "skinparam wrapWidth 300\r\n",
       "hide circle\r\n",
       "\r\n",
       "package \"AliasTest\" as E1  [[psysml:2a952753-6cea-46c9-bb61-930b04eb3411 ]]  {\r\n",
       "comp def \"P1\" as E2  <<(T,blue) part def>> [[psysml:92b6686b-ceec-4d5e-ab27-24733762f61c ]] {\r\n",
       "- - ports - -\r\n",
       "porig1\r\n",
       "}\r\n",
       "comp usage \"porig1\" as E3  <<(T,blue) port>> [[psysml:ea24ffa6-0b43-4ed9-8037-2e87c3ddc217 ]] {\r\n",
       "}\r\n",
       "comp usage \"p1: P1\" as E4  <<(T,blue) part>> [[psysml:2b3d4312-7497-4457-990a-6ee5375442c5 ]] {\r\n",
       "- - ports - -\r\n",
       "po1\\n//:>>P1::porig1// \r\n",
       "}\r\n",
       "comp usage \"p2: P1\" as E5  <<(T,blue) part>> [[psysml:09e69c42-70ff-4aed-b93c-c140a8b906a0 ]] {\r\n",
       "- - ports - -\r\n",
       "pdest\r\n",
       "}\r\n",
       "comp usage \"pdest\" as E6  <<(T,blue) port>> [[psysml:af7521ab-a154-4c67-8a1e-396c259ea1b5 ]] {\r\n",
       "}\r\n",
       "E2 +.. E3 [[psysml:923130c4-e405-43d8-b69b-9c27213fc1b8 ]] \r\n",
       "E4 - -:|> E2 [[psysml:5073669c-7652-4dd2-8e27-7490931f0c73 ]] \r\n",
       "E5 - -:|> E2 [[psysml:94875f8e-b487-466f-9f77-0e1d93a514ac ]] \r\n",
       "E5 +.. E6 [[psysml:bd05ac8a-5fc5-4bdc-9c2b-ccbbccd0a28d ]] \r\n",
       "}\r\n",
       "@enduml\r\n",
       "\n",
       "PlantUML version 1.2020.13(Sat Jun 13 12:26:38 UTC 2020)\n",
       "(EPL source distribution)\n",
       "Java Runtime: OpenJDK Runtime Environment\n",
       "JVM: OpenJDK 64-Bit Server VM\n",
       "Default Encoding: UTF-8\n",
       "Language: en\n",
       "Country: null\n",
       "--></g></svg>"
      ]
     },
     "execution_count": 7,
     "metadata": {},
     "output_type": "execute_result"
    }
   ],
   "source": [
    "%viz --style=\"COMPTREE\" --view=\"Sequence\" \"AliasTest\""
   ]
  },
  {
   "cell_type": "code",
   "execution_count": 8,
   "id": "de63ef7e",
   "metadata": {
    "execution": {
     "iopub.execute_input": "2021-06-30T09:16:06.220920Z",
     "iopub.status.busy": "2021-06-30T09:16:06.219602Z",
     "iopub.status.idle": "2021-06-30T09:16:06.355325Z",
     "shell.execute_reply": "2021-06-30T09:16:06.354135Z"
    }
   },
   "outputs": [
    {
     "data": {
      "image/svg+xml": [
       "<?xml version=\"1.0\" encoding=\"UTF-8\" standalone=\"no\"?><svg xmlns=\"http://www.w3.org/2000/svg\" xmlns:xlink=\"http://www.w3.org/1999/xlink\" contentScriptType=\"application/ecmascript\" contentStyleType=\"text/css\" height=\"399px\" preserveAspectRatio=\"none\" style=\"width:243px;height:399px;\" version=\"1.1\" viewBox=\"0 0 243 399\" width=\"243px\" zoomAndPan=\"magnify\"><defs/><g><!--MD5=[fbc87193dbaf4d95561dea2c320d4a47]\n",
       "cluster E1--><a href=\"psysml:2a952753-6cea-46c9-bb61-930b04eb3411\" target=\"_top\" title=\"psysml:2a952753-6cea-46c9-bb61-930b04eb3411\" xlink:actuate=\"onRequest\" xlink:href=\"psysml:2a952753-6cea-46c9-bb61-930b04eb3411\" xlink:show=\"new\" xlink:title=\"psysml:2a952753-6cea-46c9-bb61-930b04eb3411\" xlink:type=\"simple\"><polygon fill=\"#FFFFFF\" points=\"16,6,94,6,101,28.2969,221,28.2969,221,387,16,387,16,6\" style=\"stroke: #000000; stroke-width: 1.5;\"/><line style=\"stroke: #000000; stroke-width: 1.5;\" x1=\"16\" x2=\"101\" y1=\"28.2969\" y2=\"28.2969\"/><text fill=\"#000000\" font-family=\"sans-serif\" font-size=\"14\" font-weight=\"bold\" lengthAdjust=\"spacingAndGlyphs\" textLength=\"72\" x=\"20\" y=\"20.9951\">AliasTest</text></a><!--MD5=[b4997ac47864f28c2f74865a473b2911]\n",
       "class E2--><a href=\"psysml:92b6686b-ceec-4d5e-ab27-24733762f61c\" target=\"_top\" title=\"psysml:92b6686b-ceec-4d5e-ab27-24733762f61c\" xlink:actuate=\"onRequest\" xlink:href=\"psysml:92b6686b-ceec-4d5e-ab27-24733762f61c\" xlink:show=\"new\" xlink:title=\"psysml:92b6686b-ceec-4d5e-ab27-24733762f61c\" xlink:type=\"simple\"><rect fill=\"#FFFFFF\" height=\"75.5469\" id=\"E2\" style=\"stroke: #383838; stroke-width: 1.5;\" width=\"66\" x=\"118\" y=\"189\"/><text fill=\"#000000\" font-family=\"sans-serif\" font-size=\"12\" font-style=\"italic\" lengthAdjust=\"spacingAndGlyphs\" textLength=\"64\" x=\"119\" y=\"205.1387\">«part def»</text><text fill=\"#000000\" font-family=\"sans-serif\" font-size=\"12\" lengthAdjust=\"spacingAndGlyphs\" textLength=\"16\" x=\"143\" y=\"219.1074\">P1</text><line style=\"stroke: #383838; stroke-width: 1.5;\" x1=\"119\" x2=\"183\" y1=\"226.9375\" y2=\"226.9375\"/><text fill=\"#000000\" font-family=\"sans-serif\" font-size=\"11\" lengthAdjust=\"spacingAndGlyphs\" textLength=\"36\" x=\"124\" y=\"257.9526\">porig1</text><line style=\"stroke: #383838; stroke-width: 1.0;\" x1=\"119\" x2=\"136\" y1=\"241.3398\" y2=\"241.3398\"/><text fill=\"#000000\" font-family=\"sans-serif\" font-size=\"11\" lengthAdjust=\"spacingAndGlyphs\" textLength=\"30\" x=\"136\" y=\"244.6479\">ports</text><line style=\"stroke: #383838; stroke-width: 1.0;\" x1=\"166\" x2=\"183\" y1=\"241.3398\" y2=\"241.3398\"/></a><!--MD5=[09b614a08d8cba4a07c9adeb5e0fee81]\n",
       "class E3--><a href=\"psysml:ea24ffa6-0b43-4ed9-8037-2e87c3ddc217\" target=\"_top\" title=\"psysml:ea24ffa6-0b43-4ed9-8037-2e87c3ddc217\" xlink:actuate=\"onRequest\" xlink:href=\"psysml:ea24ffa6-0b43-4ed9-8037-2e87c3ddc217\" xlink:show=\"new\" xlink:title=\"psysml:ea24ffa6-0b43-4ed9-8037-2e87c3ddc217\" xlink:type=\"simple\"><rect fill=\"#FFFFFF\" height=\"45.9375\" id=\"E3\" rx=\"10\" ry=\"10\" style=\"stroke: #383838; stroke-width: 1.5;\" width=\"46\" x=\"128\" y=\"325\"/><text fill=\"#000000\" font-family=\"sans-serif\" font-size=\"12\" font-style=\"italic\" lengthAdjust=\"spacingAndGlyphs\" textLength=\"40\" x=\"131\" y=\"341.1387\">«port»</text><text fill=\"#000000\" font-family=\"sans-serif\" font-size=\"12\" lengthAdjust=\"spacingAndGlyphs\" textLength=\"40\" x=\"131\" y=\"355.1074\">porig1</text><line style=\"stroke: #383838; stroke-width: 1.5;\" x1=\"129\" x2=\"173\" y1=\"362.9375\" y2=\"362.9375\"/></a><!--MD5=[ebbe1d658d1005bcc118a6aa81145e00]\n",
       "class E4--><a href=\"psysml:2b3d4312-7497-4457-990a-6ee5375442c5\" target=\"_top\" title=\"psysml:2b3d4312-7497-4457-990a-6ee5375442c5\" xlink:actuate=\"onRequest\" xlink:href=\"psysml:2b3d4312-7497-4457-990a-6ee5375442c5\" xlink:show=\"new\" xlink:title=\"psysml:2b3d4312-7497-4457-990a-6ee5375442c5\" xlink:type=\"simple\"><rect fill=\"#FFFFFF\" height=\"88.3516\" id=\"E4\" rx=\"10\" ry=\"10\" style=\"stroke: #383838; stroke-width: 1.5;\" width=\"92\" x=\"113\" y=\"41\"/><text fill=\"#000000\" font-family=\"sans-serif\" font-size=\"12\" font-style=\"italic\" lengthAdjust=\"spacingAndGlyphs\" textLength=\"40\" x=\"139\" y=\"57.1387\">«part»</text><text fill=\"#000000\" font-family=\"sans-serif\" font-size=\"12\" lengthAdjust=\"spacingAndGlyphs\" textLength=\"40\" x=\"139\" y=\"71.1074\">p1: P1</text><line style=\"stroke: #383838; stroke-width: 1.5;\" x1=\"114\" x2=\"204\" y1=\"78.9375\" y2=\"78.9375\"/><text fill=\"#000000\" font-family=\"sans-serif\" font-size=\"11\" lengthAdjust=\"spacingAndGlyphs\" textLength=\"21\" x=\"119\" y=\"109.9526\">po1</text><text fill=\"#000000\" font-family=\"sans-serif\" font-size=\"11\" font-style=\"italic\" lengthAdjust=\"spacingAndGlyphs\" textLength=\"80\" x=\"119\" y=\"122.7573\">:&gt;&gt;P1::porig1</text><line style=\"stroke: #383838; stroke-width: 1.0;\" x1=\"114\" x2=\"144\" y1=\"93.3398\" y2=\"93.3398\"/><text fill=\"#000000\" font-family=\"sans-serif\" font-size=\"11\" lengthAdjust=\"spacingAndGlyphs\" textLength=\"30\" x=\"144\" y=\"96.6479\">ports</text><line style=\"stroke: #383838; stroke-width: 1.0;\" x1=\"174\" x2=\"204\" y1=\"93.3398\" y2=\"93.3398\"/></a><!--MD5=[270fce915f116d4de14055a7c1d9a0f3]\n",
       "class E5--><a href=\"psysml:09e69c42-70ff-4aed-b93c-c140a8b906a0\" target=\"_top\" title=\"psysml:09e69c42-70ff-4aed-b93c-c140a8b906a0\" xlink:actuate=\"onRequest\" xlink:href=\"psysml:09e69c42-70ff-4aed-b93c-c140a8b906a0\" xlink:show=\"new\" xlink:title=\"psysml:09e69c42-70ff-4aed-b93c-c140a8b906a0\" xlink:type=\"simple\"><rect fill=\"#FFFFFF\" height=\"75.5469\" id=\"E5\" rx=\"10\" ry=\"10\" style=\"stroke: #383838; stroke-width: 1.5;\" width=\"46\" x=\"32\" y=\"47\"/><text fill=\"#000000\" font-family=\"sans-serif\" font-size=\"12\" font-style=\"italic\" lengthAdjust=\"spacingAndGlyphs\" textLength=\"40\" x=\"35\" y=\"63.1387\">«part»</text><text fill=\"#000000\" font-family=\"sans-serif\" font-size=\"12\" lengthAdjust=\"spacingAndGlyphs\" textLength=\"40\" x=\"35\" y=\"77.1074\">p2: P1</text><line style=\"stroke: #383838; stroke-width: 1.5;\" x1=\"33\" x2=\"77\" y1=\"84.9375\" y2=\"84.9375\"/><text fill=\"#000000\" font-family=\"sans-serif\" font-size=\"11\" lengthAdjust=\"spacingAndGlyphs\" textLength=\"32\" x=\"38\" y=\"115.9526\">pdest</text><line style=\"stroke: #383838; stroke-width: 1.0;\" x1=\"33\" x2=\"40\" y1=\"99.3398\" y2=\"99.3398\"/><text fill=\"#000000\" font-family=\"sans-serif\" font-size=\"11\" lengthAdjust=\"spacingAndGlyphs\" textLength=\"30\" x=\"40\" y=\"102.6479\">ports</text><line style=\"stroke: #383838; stroke-width: 1.0;\" x1=\"70\" x2=\"77\" y1=\"99.3398\" y2=\"99.3398\"/></a><!--MD5=[60a26617385b1d2d0262a64233df1f8d]\n",
       "class E6--><a href=\"psysml:af7521ab-a154-4c67-8a1e-396c259ea1b5\" target=\"_top\" title=\"psysml:af7521ab-a154-4c67-8a1e-396c259ea1b5\" xlink:actuate=\"onRequest\" xlink:href=\"psysml:af7521ab-a154-4c67-8a1e-396c259ea1b5\" xlink:show=\"new\" xlink:title=\"psysml:af7521ab-a154-4c67-8a1e-396c259ea1b5\" xlink:type=\"simple\"><rect fill=\"#FFFFFF\" height=\"45.9375\" id=\"E6\" rx=\"10\" ry=\"10\" style=\"stroke: #383838; stroke-width: 1.5;\" width=\"42\" x=\"34\" y=\"204\"/><text fill=\"#000000\" font-family=\"sans-serif\" font-size=\"12\" font-style=\"italic\" lengthAdjust=\"spacingAndGlyphs\" textLength=\"40\" x=\"35\" y=\"220.1387\">«port»</text><text fill=\"#000000\" font-family=\"sans-serif\" font-size=\"12\" lengthAdjust=\"spacingAndGlyphs\" textLength=\"36\" x=\"37\" y=\"234.1074\">pdest</text><line style=\"stroke: #383838; stroke-width: 1.5;\" x1=\"35\" x2=\"75\" y1=\"241.9375\" y2=\"241.9375\"/></a><!--MD5=[209b3feb70ccb6233bfe1053d122c12c]\n",
       "reverse link E2 to E3--><a href=\"psysml:923130c4-e405-43d8-b69b-9c27213fc1b8\" target=\"_top\" title=\"psysml:923130c4-e405-43d8-b69b-9c27213fc1b8\" xlink:actuate=\"onRequest\" xlink:href=\"psysml:923130c4-e405-43d8-b69b-9c27213fc1b8\" xlink:show=\"new\" xlink:title=\"psysml:923130c4-e405-43d8-b69b-9c27213fc1b8\" xlink:type=\"simple\"><path d=\"M151,280.29 C151,295.98 151,312.34 151,324.93 \" fill=\"none\" id=\"E2&lt;-E3\" style=\"stroke: #383838; stroke-width: 1.0; stroke-dasharray: 7.0,7.0;\"/><ellipse cx=\"151\" cy=\"273\" fill=\"#FFFFFF\" rx=\"8\" ry=\"8\" style=\"stroke: #383838; stroke-width: 1.0;\"/><line style=\"stroke: #383838; stroke-width: 1.0;\" x1=\"151\" x2=\"151\" y1=\"281\" y2=\"265\"/><line style=\"stroke: #383838; stroke-width: 1.0;\" x1=\"143\" x2=\"159\" y1=\"273\" y2=\"273\"/></a><!--MD5=[185131fc0dcab0a4505a2ebe144e961b]\n",
       "link E4 to E2--><a href=\"psysml:5073669c-7652-4dd2-8e27-7490931f0c73\" target=\"_top\" title=\"psysml:5073669c-7652-4dd2-8e27-7490931f0c73\" xlink:actuate=\"onRequest\" xlink:href=\"psysml:5073669c-7652-4dd2-8e27-7490931f0c73\" xlink:show=\"new\" xlink:title=\"psysml:5073669c-7652-4dd2-8e27-7490931f0c73\" xlink:type=\"simple\"><path d=\"M156.53,129.15 C155.82,141.7 155.02,155.6 154.26,168.87 \" fill=\"none\" id=\"E4-&gt;E2\" style=\"stroke: #383838; stroke-width: 1.0;\"/><polygon fill=\"#FFFFFF\" points=\"153.12,188.9,147.2169,169.5311,161.1941,170.331,153.12,188.9\" style=\"stroke: #383838; stroke-width: 1.0;\"/><ellipse cx=\"149.5393\" cy=\"163.9547\" fill=\"#383838\" rx=\"2\" ry=\"2\" style=\"stroke: #383838; stroke-width: 1.0;\"/><ellipse cx=\"159.523\" cy=\"164.526\" fill=\"#383838\" rx=\"2\" ry=\"2\" style=\"stroke: #383838; stroke-width: 1.0;\"/></a><!--MD5=[15ebcb19ae302d9b601edb458606d402]\n",
       "link E5 to E2--><a href=\"psysml:94875f8e-b487-466f-9f77-0e1d93a514ac\" target=\"_top\" title=\"psysml:94875f8e-b487-466f-9f77-0e1d93a514ac\" xlink:actuate=\"onRequest\" xlink:href=\"psysml:94875f8e-b487-466f-9f77-0e1d93a514ac\" xlink:show=\"new\" xlink:title=\"psysml:94875f8e-b487-466f-9f77-0e1d93a514ac\" xlink:type=\"simple\"><path d=\"M78.24,119.89 C89.03,135.63 102.13,154.73 114.21,172.35 \" fill=\"none\" id=\"E5-&gt;E2\" style=\"stroke: #383838; stroke-width: 1.0;\"/><polygon fill=\"#FFFFFF\" points=\"125.62,188.98,109.1019,177.2689,120.6481,169.3515,125.62,188.98\" style=\"stroke: #383838; stroke-width: 1.0;\"/><ellipse cx=\"107.5278\" cy=\"171.4368\" fill=\"#383838\" rx=\"2\" ry=\"2\" style=\"stroke: #383838; stroke-width: 1.0;\"/><ellipse cx=\"115.7751\" cy=\"165.7816\" fill=\"#383838\" rx=\"2\" ry=\"2\" style=\"stroke: #383838; stroke-width: 1.0;\"/></a><!--MD5=[85d356282659285ab4b2cfe2f634dd2b]\n",
       "reverse link E5 to E6--><a href=\"psysml:bd05ac8a-5fc5-4bdc-9c2b-ccbbccd0a28d\" target=\"_top\" title=\"psysml:bd05ac8a-5fc5-4bdc-9c2b-ccbbccd0a28d\" xlink:actuate=\"onRequest\" xlink:href=\"psysml:bd05ac8a-5fc5-4bdc-9c2b-ccbbccd0a28d\" xlink:show=\"new\" xlink:title=\"psysml:bd05ac8a-5fc5-4bdc-9c2b-ccbbccd0a28d\" xlink:type=\"simple\"><path d=\"M55,138.32 C55,161.03 55,186.4 55,203.99 \" fill=\"none\" id=\"E5&lt;-E6\" style=\"stroke: #383838; stroke-width: 1.0; stroke-dasharray: 7.0,7.0;\"/><ellipse cx=\"55\" cy=\"131.15\" fill=\"#FFFFFF\" rx=\"8\" ry=\"8\" style=\"stroke: #383838; stroke-width: 1.0;\"/><line style=\"stroke: #383838; stroke-width: 1.0;\" x1=\"55\" x2=\"55\" y1=\"139.15\" y2=\"123.15\"/><line style=\"stroke: #383838; stroke-width: 1.0;\" x1=\"47\" x2=\"63\" y1=\"131.15\" y2=\"131.15\"/></a><!--MD5=[03f2e7ddac0d0d3ee8291590b61e265c]\n",
       "@startuml\r\n",
       " skinparam monochrome true\r\n",
       "skinparam classbackgroundcolor white\r\n",
       "skinparam shadowing false\r\n",
       "skinparam wrapWidth 300\r\n",
       "hide circle\r\n",
       "\r\n",
       "package \"AliasTest\" as E1  [[psysml:2a952753-6cea-46c9-bb61-930b04eb3411 ]]  {\r\n",
       "comp def \"P1\" as E2  <<(T,blue) part def>> [[psysml:92b6686b-ceec-4d5e-ab27-24733762f61c ]] {\r\n",
       "- - ports - -\r\n",
       "porig1\r\n",
       "}\r\n",
       "comp usage \"porig1\" as E3  <<(T,blue) port>> [[psysml:ea24ffa6-0b43-4ed9-8037-2e87c3ddc217 ]] {\r\n",
       "}\r\n",
       "comp usage \"p1: P1\" as E4  <<(T,blue) part>> [[psysml:2b3d4312-7497-4457-990a-6ee5375442c5 ]] {\r\n",
       "- - ports - -\r\n",
       "po1\\n//:>>P1::porig1// \r\n",
       "}\r\n",
       "comp usage \"p2: P1\" as E5  <<(T,blue) part>> [[psysml:09e69c42-70ff-4aed-b93c-c140a8b906a0 ]] {\r\n",
       "- - ports - -\r\n",
       "pdest\r\n",
       "}\r\n",
       "comp usage \"pdest\" as E6  <<(T,blue) port>> [[psysml:af7521ab-a154-4c67-8a1e-396c259ea1b5 ]] {\r\n",
       "}\r\n",
       "E2 +.. E3 [[psysml:923130c4-e405-43d8-b69b-9c27213fc1b8 ]] \r\n",
       "E4 - -:|> E2 [[psysml:5073669c-7652-4dd2-8e27-7490931f0c73 ]] \r\n",
       "E5 - -:|> E2 [[psysml:94875f8e-b487-466f-9f77-0e1d93a514ac ]] \r\n",
       "E5 +.. E6 [[psysml:bd05ac8a-5fc5-4bdc-9c2b-ccbbccd0a28d ]] \r\n",
       "}\r\n",
       "@enduml\r\n",
       "\n",
       "PlantUML version 1.2020.13(Sat Jun 13 12:26:38 UTC 2020)\n",
       "(EPL source distribution)\n",
       "Java Runtime: OpenJDK Runtime Environment\n",
       "JVM: OpenJDK 64-Bit Server VM\n",
       "Default Encoding: UTF-8\n",
       "Language: en\n",
       "Country: null\n",
       "--></g></svg>"
      ]
     },
     "execution_count": 8,
     "metadata": {},
     "output_type": "execute_result"
    }
   ],
   "source": [
    "%viz --style=\"COMPTREE\" --view=\"MIXED\" \"AliasTest\""
   ]
  },
  {
   "cell_type": "code",
   "execution_count": 9,
   "id": "f7e235af",
   "metadata": {
    "execution": {
     "iopub.execute_input": "2021-06-30T09:16:06.404789Z",
     "iopub.status.busy": "2021-06-30T09:16:06.403846Z",
     "iopub.status.idle": "2021-06-30T09:16:06.512229Z",
     "shell.execute_reply": "2021-06-30T09:16:06.511653Z"
    }
   },
   "outputs": [
    {
     "data": {
      "image/svg+xml": [
       "<?xml version=\"1.0\" encoding=\"UTF-8\" standalone=\"no\"?><svg xmlns=\"http://www.w3.org/2000/svg\" xmlns:xlink=\"http://www.w3.org/1999/xlink\" contentScriptType=\"application/ecmascript\" contentStyleType=\"text/css\" height=\"293px\" preserveAspectRatio=\"none\" style=\"width:243px;height:293px;\" version=\"1.1\" viewBox=\"0 0 243 293\" width=\"243px\" zoomAndPan=\"magnify\"><defs/><g><!--MD5=[fbc87193dbaf4d95561dea2c320d4a47]\n",
       "cluster E1--><a href=\"psysml:2a952753-6cea-46c9-bb61-930b04eb3411\" target=\"_top\" title=\"psysml:2a952753-6cea-46c9-bb61-930b04eb3411\" xlink:actuate=\"onRequest\" xlink:href=\"psysml:2a952753-6cea-46c9-bb61-930b04eb3411\" xlink:show=\"new\" xlink:title=\"psysml:2a952753-6cea-46c9-bb61-930b04eb3411\" xlink:type=\"simple\"><polygon fill=\"#FFFFFF\" points=\"16,6,94,6,101,28.2969,221,28.2969,221,281,16,281,16,6\" style=\"stroke: #000000; stroke-width: 1.5;\"/><line style=\"stroke: #000000; stroke-width: 1.5;\" x1=\"16\" x2=\"101\" y1=\"28.2969\" y2=\"28.2969\"/><text fill=\"#000000\" font-family=\"sans-serif\" font-size=\"14\" font-weight=\"bold\" lengthAdjust=\"spacingAndGlyphs\" textLength=\"72\" x=\"20\" y=\"20.9951\">AliasTest</text></a><!--MD5=[b4997ac47864f28c2f74865a473b2911]\n",
       "class E2--><a href=\"psysml:92b6686b-ceec-4d5e-ab27-24733762f61c\" target=\"_top\" title=\"psysml:92b6686b-ceec-4d5e-ab27-24733762f61c\" xlink:actuate=\"onRequest\" xlink:href=\"psysml:92b6686b-ceec-4d5e-ab27-24733762f61c\" xlink:show=\"new\" xlink:title=\"psysml:92b6686b-ceec-4d5e-ab27-24733762f61c\" xlink:type=\"simple\"><rect fill=\"#FFFFFF\" height=\"75.5469\" id=\"E2\" style=\"stroke: #383838; stroke-width: 1.5;\" width=\"66\" x=\"79\" y=\"189\"/><text fill=\"#000000\" font-family=\"sans-serif\" font-size=\"12\" font-style=\"italic\" lengthAdjust=\"spacingAndGlyphs\" textLength=\"64\" x=\"80\" y=\"205.1387\">«part def»</text><text fill=\"#000000\" font-family=\"sans-serif\" font-size=\"12\" lengthAdjust=\"spacingAndGlyphs\" textLength=\"16\" x=\"104\" y=\"219.1074\">P1</text><line style=\"stroke: #383838; stroke-width: 1.5;\" x1=\"80\" x2=\"144\" y1=\"226.9375\" y2=\"226.9375\"/><text fill=\"#000000\" font-family=\"sans-serif\" font-size=\"11\" lengthAdjust=\"spacingAndGlyphs\" textLength=\"36\" x=\"85\" y=\"257.9526\">porig1</text><line style=\"stroke: #383838; stroke-width: 1.0;\" x1=\"80\" x2=\"97\" y1=\"241.3398\" y2=\"241.3398\"/><text fill=\"#000000\" font-family=\"sans-serif\" font-size=\"11\" lengthAdjust=\"spacingAndGlyphs\" textLength=\"30\" x=\"97\" y=\"244.6479\">ports</text><line style=\"stroke: #383838; stroke-width: 1.0;\" x1=\"127\" x2=\"144\" y1=\"241.3398\" y2=\"241.3398\"/></a><!--MD5=[ebbe1d658d1005bcc118a6aa81145e00]\n",
       "class E4--><a href=\"psysml:2b3d4312-7497-4457-990a-6ee5375442c5\" target=\"_top\" title=\"psysml:2b3d4312-7497-4457-990a-6ee5375442c5\" xlink:actuate=\"onRequest\" xlink:href=\"psysml:2b3d4312-7497-4457-990a-6ee5375442c5\" xlink:show=\"new\" xlink:title=\"psysml:2b3d4312-7497-4457-990a-6ee5375442c5\" xlink:type=\"simple\"><rect fill=\"#FFFFFF\" height=\"88.3516\" id=\"E4\" rx=\"10\" ry=\"10\" style=\"stroke: #383838; stroke-width: 1.5;\" width=\"92\" x=\"113\" y=\"41\"/><text fill=\"#000000\" font-family=\"sans-serif\" font-size=\"12\" font-style=\"italic\" lengthAdjust=\"spacingAndGlyphs\" textLength=\"40\" x=\"139\" y=\"57.1387\">«part»</text><text fill=\"#000000\" font-family=\"sans-serif\" font-size=\"12\" lengthAdjust=\"spacingAndGlyphs\" textLength=\"40\" x=\"139\" y=\"71.1074\">p1: P1</text><line style=\"stroke: #383838; stroke-width: 1.5;\" x1=\"114\" x2=\"204\" y1=\"78.9375\" y2=\"78.9375\"/><text fill=\"#000000\" font-family=\"sans-serif\" font-size=\"11\" lengthAdjust=\"spacingAndGlyphs\" textLength=\"21\" x=\"119\" y=\"109.9526\">po1</text><text fill=\"#000000\" font-family=\"sans-serif\" font-size=\"11\" font-style=\"italic\" lengthAdjust=\"spacingAndGlyphs\" textLength=\"80\" x=\"119\" y=\"122.7573\">:&gt;&gt;P1::porig1</text><line style=\"stroke: #383838; stroke-width: 1.0;\" x1=\"114\" x2=\"144\" y1=\"93.3398\" y2=\"93.3398\"/><text fill=\"#000000\" font-family=\"sans-serif\" font-size=\"11\" lengthAdjust=\"spacingAndGlyphs\" textLength=\"30\" x=\"144\" y=\"96.6479\">ports</text><line style=\"stroke: #383838; stroke-width: 1.0;\" x1=\"174\" x2=\"204\" y1=\"93.3398\" y2=\"93.3398\"/></a><!--MD5=[60a26617385b1d2d0262a64233df1f8d]\n",
       "class E6--><a href=\"psysml:09e69c42-70ff-4aed-b93c-c140a8b906a0\" target=\"_top\" title=\"psysml:09e69c42-70ff-4aed-b93c-c140a8b906a0\" xlink:actuate=\"onRequest\" xlink:href=\"psysml:09e69c42-70ff-4aed-b93c-c140a8b906a0\" xlink:show=\"new\" xlink:title=\"psysml:09e69c42-70ff-4aed-b93c-c140a8b906a0\" xlink:type=\"simple\"><rect fill=\"#FFFFFF\" height=\"75.5469\" id=\"E6\" rx=\"10\" ry=\"10\" style=\"stroke: #383838; stroke-width: 1.5;\" width=\"46\" x=\"32\" y=\"47\"/><text fill=\"#000000\" font-family=\"sans-serif\" font-size=\"12\" font-style=\"italic\" lengthAdjust=\"spacingAndGlyphs\" textLength=\"40\" x=\"35\" y=\"63.1387\">«part»</text><text fill=\"#000000\" font-family=\"sans-serif\" font-size=\"12\" lengthAdjust=\"spacingAndGlyphs\" textLength=\"40\" x=\"35\" y=\"77.1074\">p2: P1</text><line style=\"stroke: #383838; stroke-width: 1.5;\" x1=\"33\" x2=\"77\" y1=\"84.9375\" y2=\"84.9375\"/><text fill=\"#000000\" font-family=\"sans-serif\" font-size=\"11\" lengthAdjust=\"spacingAndGlyphs\" textLength=\"32\" x=\"38\" y=\"115.9526\">pdest</text><line style=\"stroke: #383838; stroke-width: 1.0;\" x1=\"33\" x2=\"40\" y1=\"99.3398\" y2=\"99.3398\"/><text fill=\"#000000\" font-family=\"sans-serif\" font-size=\"11\" lengthAdjust=\"spacingAndGlyphs\" textLength=\"30\" x=\"40\" y=\"102.6479\">ports</text><line style=\"stroke: #383838; stroke-width: 1.0;\" x1=\"70\" x2=\"77\" y1=\"99.3398\" y2=\"99.3398\"/></a><!--MD5=[185131fc0dcab0a4505a2ebe144e961b]\n",
       "link E4 to E2--><a href=\"psysml:5073669c-7652-4dd2-8e27-7490931f0c73\" target=\"_top\" title=\"psysml:5073669c-7652-4dd2-8e27-7490931f0c73\" xlink:actuate=\"onRequest\" xlink:href=\"psysml:5073669c-7652-4dd2-8e27-7490931f0c73\" xlink:show=\"new\" xlink:title=\"psysml:5073669c-7652-4dd2-8e27-7490931f0c73\" xlink:type=\"simple\"><path d=\"M144.51,129.15 C140.2,141.99 135.41,156.26 130.86,169.81 \" fill=\"none\" id=\"E4-&gt;E2\" style=\"stroke: #383838; stroke-width: 1.0;\"/><polygon fill=\"#FFFFFF\" points=\"124.45,188.9,123.8495,168.6604,137.1241,173.1086,124.45,188.9\" style=\"stroke: #383838; stroke-width: 1.0;\"/><ellipse cx=\"127.5569\" cy=\"163.8913\" fill=\"#383838\" rx=\"2\" ry=\"2\" style=\"stroke: #383838; stroke-width: 1.0;\"/><ellipse cx=\"137.0388\" cy=\"167.0685\" fill=\"#383838\" rx=\"2\" ry=\"2\" style=\"stroke: #383838; stroke-width: 1.0;\"/></a><!--MD5=[2351f337d6de0f557b50152ba70847b5]\n",
       "link E6 to E2--><a href=\"psysml:94875f8e-b487-466f-9f77-0e1d93a514ac\" target=\"_top\" title=\"psysml:94875f8e-b487-466f-9f77-0e1d93a514ac\" xlink:actuate=\"onRequest\" xlink:href=\"psysml:94875f8e-b487-466f-9f77-0e1d93a514ac\" xlink:show=\"new\" xlink:title=\"psysml:94875f8e-b487-466f-9f77-0e1d93a514ac\" xlink:type=\"simple\"><path d=\"M70.13,123.15 C75.99,137.55 82.83,154.34 89.26,170.14 \" fill=\"none\" id=\"E6-&gt;E2\" style=\"stroke: #383838; stroke-width: 1.0;\"/><polygon fill=\"#FFFFFF\" points=\"96.8,188.68,83.1527,173.7216,96.1195,168.443,96.8,188.68\" style=\"stroke: #383838; stroke-width: 1.0;\"/><ellipse cx=\"82.856\" cy=\"167.6882\" fill=\"#383838\" rx=\"2\" ry=\"2\" style=\"stroke: #383838; stroke-width: 1.0;\"/><ellipse cx=\"92.1179\" cy=\"163.9178\" fill=\"#383838\" rx=\"2\" ry=\"2\" style=\"stroke: #383838; stroke-width: 1.0;\"/></a><!--MD5=[9bce38651f4bcd8b033d34b1a5004979]\n",
       "@startuml\r\n",
       "skinparam linetype polyline\r\n",
       "skinparam monochrome true\r\n",
       "skinparam classbackgroundcolor white\r\n",
       "skinparam shadowing false\r\n",
       "skinparam wrapWidth 300\r\n",
       "hide circle\r\n",
       "\r\n",
       "package \"AliasTest\" as E1  [[psysml:2a952753-6cea-46c9-bb61-930b04eb3411 ]]  {\r\n",
       "comp def \"P1\" as E2  <<(T,blue) part def>> [[psysml:92b6686b-ceec-4d5e-ab27-24733762f61c ]] {\r\n",
       "- - ports - -\r\n",
       "porig1\r\n",
       "}\r\n",
       "comp usage \"p1: P1\" as E4  <<(T,blue) part>> [[psysml:2b3d4312-7497-4457-990a-6ee5375442c5 ]] {\r\n",
       "- - ports - -\r\n",
       "po1\\n//:>>P1::porig1// \r\n",
       "}\r\n",
       "comp usage \"p2: P1\" as E6  <<(T,blue) part>> [[psysml:09e69c42-70ff-4aed-b93c-c140a8b906a0 ]] {\r\n",
       "- - ports - -\r\n",
       "pdest\r\n",
       "}\r\n",
       "E4 - -:|> E2 [[psysml:5073669c-7652-4dd2-8e27-7490931f0c73 ]] \r\n",
       "E6 - -:|> E2 [[psysml:94875f8e-b487-466f-9f77-0e1d93a514ac ]] \r\n",
       "}\r\n",
       "@enduml\r\n",
       "\n",
       "PlantUML version 1.2020.13(Sat Jun 13 12:26:38 UTC 2020)\n",
       "(EPL source distribution)\n",
       "Java Runtime: OpenJDK Runtime Environment\n",
       "JVM: OpenJDK 64-Bit Server VM\n",
       "Default Encoding: UTF-8\n",
       "Language: en\n",
       "Country: null\n",
       "--></g></svg>"
      ]
     },
     "execution_count": 9,
     "metadata": {},
     "output_type": "execute_result"
    }
   ],
   "source": [
    "%viz --style=\"POLYLINE\" --view=\"Default\" \"AliasTest\""
   ]
  },
  {
   "cell_type": "code",
   "execution_count": 10,
   "id": "66d2c98d",
   "metadata": {
    "execution": {
     "iopub.execute_input": "2021-06-30T09:16:06.563262Z",
     "iopub.status.busy": "2021-06-30T09:16:06.561982Z",
     "iopub.status.idle": "2021-06-30T09:16:06.682661Z",
     "shell.execute_reply": "2021-06-30T09:16:06.680284Z"
    }
   },
   "outputs": [
    {
     "data": {
      "image/svg+xml": [
       "<?xml version=\"1.0\" encoding=\"UTF-8\" standalone=\"no\"?><svg xmlns=\"http://www.w3.org/2000/svg\" xmlns:xlink=\"http://www.w3.org/1999/xlink\" contentScriptType=\"application/ecmascript\" contentStyleType=\"text/css\" height=\"293px\" preserveAspectRatio=\"none\" style=\"width:243px;height:293px;\" version=\"1.1\" viewBox=\"0 0 243 293\" width=\"243px\" zoomAndPan=\"magnify\"><defs/><g><!--MD5=[fbc87193dbaf4d95561dea2c320d4a47]\n",
       "cluster E1--><a href=\"psysml:2a952753-6cea-46c9-bb61-930b04eb3411\" target=\"_top\" title=\"psysml:2a952753-6cea-46c9-bb61-930b04eb3411\" xlink:actuate=\"onRequest\" xlink:href=\"psysml:2a952753-6cea-46c9-bb61-930b04eb3411\" xlink:show=\"new\" xlink:title=\"psysml:2a952753-6cea-46c9-bb61-930b04eb3411\" xlink:type=\"simple\"><polygon fill=\"#FFFFFF\" points=\"16,6,94,6,101,28.2969,221,28.2969,221,281,16,281,16,6\" style=\"stroke: #000000; stroke-width: 1.5;\"/><line style=\"stroke: #000000; stroke-width: 1.5;\" x1=\"16\" x2=\"101\" y1=\"28.2969\" y2=\"28.2969\"/><text fill=\"#000000\" font-family=\"sans-serif\" font-size=\"14\" font-weight=\"bold\" lengthAdjust=\"spacingAndGlyphs\" textLength=\"72\" x=\"20\" y=\"20.9951\">AliasTest</text></a><!--MD5=[b4997ac47864f28c2f74865a473b2911]\n",
       "class E2--><a href=\"psysml:92b6686b-ceec-4d5e-ab27-24733762f61c\" target=\"_top\" title=\"psysml:92b6686b-ceec-4d5e-ab27-24733762f61c\" xlink:actuate=\"onRequest\" xlink:href=\"psysml:92b6686b-ceec-4d5e-ab27-24733762f61c\" xlink:show=\"new\" xlink:title=\"psysml:92b6686b-ceec-4d5e-ab27-24733762f61c\" xlink:type=\"simple\"><rect fill=\"#FFFFFF\" height=\"75.5469\" id=\"E2\" style=\"stroke: #383838; stroke-width: 1.5;\" width=\"66\" x=\"79\" y=\"189\"/><text fill=\"#000000\" font-family=\"sans-serif\" font-size=\"12\" font-style=\"italic\" lengthAdjust=\"spacingAndGlyphs\" textLength=\"64\" x=\"80\" y=\"205.1387\">«part def»</text><text fill=\"#000000\" font-family=\"sans-serif\" font-size=\"12\" lengthAdjust=\"spacingAndGlyphs\" textLength=\"16\" x=\"104\" y=\"219.1074\">P1</text><line style=\"stroke: #383838; stroke-width: 1.5;\" x1=\"80\" x2=\"144\" y1=\"226.9375\" y2=\"226.9375\"/><text fill=\"#000000\" font-family=\"sans-serif\" font-size=\"11\" lengthAdjust=\"spacingAndGlyphs\" textLength=\"36\" x=\"85\" y=\"257.9526\">porig1</text><line style=\"stroke: #383838; stroke-width: 1.0;\" x1=\"80\" x2=\"97\" y1=\"241.3398\" y2=\"241.3398\"/><text fill=\"#000000\" font-family=\"sans-serif\" font-size=\"11\" lengthAdjust=\"spacingAndGlyphs\" textLength=\"30\" x=\"97\" y=\"244.6479\">ports</text><line style=\"stroke: #383838; stroke-width: 1.0;\" x1=\"127\" x2=\"144\" y1=\"241.3398\" y2=\"241.3398\"/></a><!--MD5=[ebbe1d658d1005bcc118a6aa81145e00]\n",
       "class E4--><a href=\"psysml:2b3d4312-7497-4457-990a-6ee5375442c5\" target=\"_top\" title=\"psysml:2b3d4312-7497-4457-990a-6ee5375442c5\" xlink:actuate=\"onRequest\" xlink:href=\"psysml:2b3d4312-7497-4457-990a-6ee5375442c5\" xlink:show=\"new\" xlink:title=\"psysml:2b3d4312-7497-4457-990a-6ee5375442c5\" xlink:type=\"simple\"><rect fill=\"#FFFFFF\" height=\"88.3516\" id=\"E4\" rx=\"10\" ry=\"10\" style=\"stroke: #383838; stroke-width: 1.5;\" width=\"92\" x=\"113\" y=\"41\"/><text fill=\"#000000\" font-family=\"sans-serif\" font-size=\"12\" font-style=\"italic\" lengthAdjust=\"spacingAndGlyphs\" textLength=\"40\" x=\"139\" y=\"57.1387\">«part»</text><text fill=\"#000000\" font-family=\"sans-serif\" font-size=\"12\" lengthAdjust=\"spacingAndGlyphs\" textLength=\"40\" x=\"139\" y=\"71.1074\">p1: P1</text><line style=\"stroke: #383838; stroke-width: 1.5;\" x1=\"114\" x2=\"204\" y1=\"78.9375\" y2=\"78.9375\"/><text fill=\"#000000\" font-family=\"sans-serif\" font-size=\"11\" lengthAdjust=\"spacingAndGlyphs\" textLength=\"21\" x=\"119\" y=\"109.9526\">po1</text><text fill=\"#000000\" font-family=\"sans-serif\" font-size=\"11\" font-style=\"italic\" lengthAdjust=\"spacingAndGlyphs\" textLength=\"80\" x=\"119\" y=\"122.7573\">:&gt;&gt;P1::porig1</text><line style=\"stroke: #383838; stroke-width: 1.0;\" x1=\"114\" x2=\"144\" y1=\"93.3398\" y2=\"93.3398\"/><text fill=\"#000000\" font-family=\"sans-serif\" font-size=\"11\" lengthAdjust=\"spacingAndGlyphs\" textLength=\"30\" x=\"144\" y=\"96.6479\">ports</text><line style=\"stroke: #383838; stroke-width: 1.0;\" x1=\"174\" x2=\"204\" y1=\"93.3398\" y2=\"93.3398\"/></a><!--MD5=[60a26617385b1d2d0262a64233df1f8d]\n",
       "class E6--><a href=\"psysml:09e69c42-70ff-4aed-b93c-c140a8b906a0\" target=\"_top\" title=\"psysml:09e69c42-70ff-4aed-b93c-c140a8b906a0\" xlink:actuate=\"onRequest\" xlink:href=\"psysml:09e69c42-70ff-4aed-b93c-c140a8b906a0\" xlink:show=\"new\" xlink:title=\"psysml:09e69c42-70ff-4aed-b93c-c140a8b906a0\" xlink:type=\"simple\"><rect fill=\"#FFFFFF\" height=\"75.5469\" id=\"E6\" rx=\"10\" ry=\"10\" style=\"stroke: #383838; stroke-width: 1.5;\" width=\"46\" x=\"32\" y=\"47\"/><text fill=\"#000000\" font-family=\"sans-serif\" font-size=\"12\" font-style=\"italic\" lengthAdjust=\"spacingAndGlyphs\" textLength=\"40\" x=\"35\" y=\"63.1387\">«part»</text><text fill=\"#000000\" font-family=\"sans-serif\" font-size=\"12\" lengthAdjust=\"spacingAndGlyphs\" textLength=\"40\" x=\"35\" y=\"77.1074\">p2: P1</text><line style=\"stroke: #383838; stroke-width: 1.5;\" x1=\"33\" x2=\"77\" y1=\"84.9375\" y2=\"84.9375\"/><text fill=\"#000000\" font-family=\"sans-serif\" font-size=\"11\" lengthAdjust=\"spacingAndGlyphs\" textLength=\"32\" x=\"38\" y=\"115.9526\">pdest</text><line style=\"stroke: #383838; stroke-width: 1.0;\" x1=\"33\" x2=\"40\" y1=\"99.3398\" y2=\"99.3398\"/><text fill=\"#000000\" font-family=\"sans-serif\" font-size=\"11\" lengthAdjust=\"spacingAndGlyphs\" textLength=\"30\" x=\"40\" y=\"102.6479\">ports</text><line style=\"stroke: #383838; stroke-width: 1.0;\" x1=\"70\" x2=\"77\" y1=\"99.3398\" y2=\"99.3398\"/></a><!--MD5=[185131fc0dcab0a4505a2ebe144e961b]\n",
       "link E4 to E2--><a href=\"psysml:5073669c-7652-4dd2-8e27-7490931f0c73\" target=\"_top\" title=\"psysml:5073669c-7652-4dd2-8e27-7490931f0c73\" xlink:actuate=\"onRequest\" xlink:href=\"psysml:5073669c-7652-4dd2-8e27-7490931f0c73\" xlink:show=\"new\" xlink:title=\"psysml:5073669c-7652-4dd2-8e27-7490931f0c73\" xlink:type=\"simple\"><path d=\"M144.51,129.15 C140.2,141.99 135.41,156.26 130.86,169.81 \" fill=\"none\" id=\"E4-&gt;E2\" style=\"stroke: #383838; stroke-width: 1.0;\"/><polygon fill=\"#FFFFFF\" points=\"124.45,188.9,123.8495,168.6604,137.1241,173.1086,124.45,188.9\" style=\"stroke: #383838; stroke-width: 1.0;\"/><ellipse cx=\"127.5569\" cy=\"163.8913\" fill=\"#383838\" rx=\"2\" ry=\"2\" style=\"stroke: #383838; stroke-width: 1.0;\"/><ellipse cx=\"137.0388\" cy=\"167.0685\" fill=\"#383838\" rx=\"2\" ry=\"2\" style=\"stroke: #383838; stroke-width: 1.0;\"/></a><!--MD5=[2351f337d6de0f557b50152ba70847b5]\n",
       "link E6 to E2--><a href=\"psysml:94875f8e-b487-466f-9f77-0e1d93a514ac\" target=\"_top\" title=\"psysml:94875f8e-b487-466f-9f77-0e1d93a514ac\" xlink:actuate=\"onRequest\" xlink:href=\"psysml:94875f8e-b487-466f-9f77-0e1d93a514ac\" xlink:show=\"new\" xlink:title=\"psysml:94875f8e-b487-466f-9f77-0e1d93a514ac\" xlink:type=\"simple\"><path d=\"M70.13,123.15 C75.99,137.55 82.83,154.34 89.26,170.14 \" fill=\"none\" id=\"E6-&gt;E2\" style=\"stroke: #383838; stroke-width: 1.0;\"/><polygon fill=\"#FFFFFF\" points=\"96.8,188.68,83.1527,173.7216,96.1195,168.443,96.8,188.68\" style=\"stroke: #383838; stroke-width: 1.0;\"/><ellipse cx=\"82.856\" cy=\"167.6882\" fill=\"#383838\" rx=\"2\" ry=\"2\" style=\"stroke: #383838; stroke-width: 1.0;\"/><ellipse cx=\"92.1179\" cy=\"163.9178\" fill=\"#383838\" rx=\"2\" ry=\"2\" style=\"stroke: #383838; stroke-width: 1.0;\"/></a><!--MD5=[9bce38651f4bcd8b033d34b1a5004979]\n",
       "@startuml\r\n",
       "skinparam linetype polyline\r\n",
       "skinparam monochrome true\r\n",
       "skinparam classbackgroundcolor white\r\n",
       "skinparam shadowing false\r\n",
       "skinparam wrapWidth 300\r\n",
       "hide circle\r\n",
       "\r\n",
       "package \"AliasTest\" as E1  [[psysml:2a952753-6cea-46c9-bb61-930b04eb3411 ]]  {\r\n",
       "comp def \"P1\" as E2  <<(T,blue) part def>> [[psysml:92b6686b-ceec-4d5e-ab27-24733762f61c ]] {\r\n",
       "- - ports - -\r\n",
       "porig1\r\n",
       "}\r\n",
       "comp usage \"p1: P1\" as E4  <<(T,blue) part>> [[psysml:2b3d4312-7497-4457-990a-6ee5375442c5 ]] {\r\n",
       "- - ports - -\r\n",
       "po1\\n//:>>P1::porig1// \r\n",
       "}\r\n",
       "comp usage \"p2: P1\" as E6  <<(T,blue) part>> [[psysml:09e69c42-70ff-4aed-b93c-c140a8b906a0 ]] {\r\n",
       "- - ports - -\r\n",
       "pdest\r\n",
       "}\r\n",
       "E4 - -:|> E2 [[psysml:5073669c-7652-4dd2-8e27-7490931f0c73 ]] \r\n",
       "E6 - -:|> E2 [[psysml:94875f8e-b487-466f-9f77-0e1d93a514ac ]] \r\n",
       "}\r\n",
       "@enduml\r\n",
       "\n",
       "PlantUML version 1.2020.13(Sat Jun 13 12:26:38 UTC 2020)\n",
       "(EPL source distribution)\n",
       "Java Runtime: OpenJDK Runtime Environment\n",
       "JVM: OpenJDK 64-Bit Server VM\n",
       "Default Encoding: UTF-8\n",
       "Language: en\n",
       "Country: null\n",
       "--></g></svg>"
      ]
     },
     "execution_count": 10,
     "metadata": {},
     "output_type": "execute_result"
    }
   ],
   "source": [
    "%viz --style=\"POLYLINE\" --view=\"Tree\" \"AliasTest\""
   ]
  },
  {
   "cell_type": "code",
   "execution_count": 11,
   "id": "e1eba39f",
   "metadata": {
    "execution": {
     "iopub.execute_input": "2021-06-30T09:16:06.732312Z",
     "iopub.status.busy": "2021-06-30T09:16:06.731808Z",
     "iopub.status.idle": "2021-06-30T09:16:06.739661Z",
     "shell.execute_reply": "2021-06-30T09:16:06.739003Z"
    }
   },
   "outputs": [
    {
     "data": {
      "image/svg+xml": [
       "<?xml version=\"1.0\" encoding=\"UTF-8\" standalone=\"no\"?><svg xmlns=\"http://www.w3.org/2000/svg\" xmlns:xlink=\"http://www.w3.org/1999/xlink\" contentScriptType=\"application/ecmascript\" contentStyleType=\"text/css\" height=\"12px\" preserveAspectRatio=\"none\" style=\"width:12px;height:12px;\" version=\"1.1\" viewBox=\"0 0 12 12\" width=\"12px\" zoomAndPan=\"magnify\"><defs/><g><!--MD5=[896ac0e7a515d8dd7765a661cb4ee08b]\n",
       "@startuml\r\n",
       "skinparam linetype polyline\r\n",
       "skinparam monochrome true\r\n",
       "skinparam classbackgroundcolor white\r\n",
       "skinparam shadowing false\r\n",
       "skinparam wrapWidth 300\r\n",
       "hide circle\r\n",
       "\r\n",
       "@enduml\r\n",
       "\n",
       "PlantUML version 1.2020.13(Sat Jun 13 12:26:38 UTC 2020)\n",
       "(EPL source distribution)\n",
       "Java Runtime: OpenJDK Runtime Environment\n",
       "JVM: OpenJDK 64-Bit Server VM\n",
       "Default Encoding: UTF-8\n",
       "Language: en\n",
       "Country: null\n",
       "--></g></svg>"
      ]
     },
     "execution_count": 11,
     "metadata": {},
     "output_type": "execute_result"
    }
   ],
   "source": [
    "%viz --style=\"POLYLINE\" --view=\"State\" \"AliasTest\""
   ]
  },
  {
   "cell_type": "code",
   "execution_count": 12,
   "id": "c8eb4676",
   "metadata": {
    "execution": {
     "iopub.execute_input": "2021-06-30T09:16:06.790428Z",
     "iopub.status.busy": "2021-06-30T09:16:06.790020Z",
     "iopub.status.idle": "2021-06-30T09:16:06.843069Z",
     "shell.execute_reply": "2021-06-30T09:16:06.842175Z"
    }
   },
   "outputs": [
    {
     "data": {
      "image/svg+xml": [
       "<?xml version=\"1.0\" encoding=\"UTF-8\" standalone=\"no\"?><svg xmlns=\"http://www.w3.org/2000/svg\" xmlns:xlink=\"http://www.w3.org/1999/xlink\" contentScriptType=\"application/ecmascript\" contentStyleType=\"text/css\" height=\"207px\" preserveAspectRatio=\"none\" style=\"width:406px;height:207px;\" version=\"1.1\" viewBox=\"0 0 406 207\" width=\"406px\" zoomAndPan=\"magnify\"><defs/><g><!--MD5=[fbc87193dbaf4d95561dea2c320d4a47]\n",
       "cluster E1--><a href=\"psysml:2a952753-6cea-46c9-bb61-930b04eb3411\" target=\"_top\" title=\"psysml:2a952753-6cea-46c9-bb61-930b04eb3411\" xlink:actuate=\"onRequest\" xlink:href=\"psysml:2a952753-6cea-46c9-bb61-930b04eb3411\" xlink:show=\"new\" xlink:title=\"psysml:2a952753-6cea-46c9-bb61-930b04eb3411\" xlink:type=\"simple\"><polygon fill=\"#FFFFFF\" points=\"16,6,94,6,101,28.2969,384,28.2969,384,195,16,195,16,6\" style=\"stroke: #000000; stroke-width: 1.5;\"/><line style=\"stroke: #000000; stroke-width: 1.5;\" x1=\"16\" x2=\"101\" y1=\"28.2969\" y2=\"28.2969\"/><text fill=\"#000000\" font-family=\"sans-serif\" font-size=\"14\" font-weight=\"bold\" lengthAdjust=\"spacingAndGlyphs\" textLength=\"72\" x=\"20\" y=\"20.9951\">AliasTest</text></a><!--MD5=[e4f7fae6ed58524ba242bb0b0d3be6b7]\n",
       "cluster E2--><a href=\"psysml:92b6686b-ceec-4d5e-ab27-24733762f61c\" target=\"_top\" title=\"psysml:92b6686b-ceec-4d5e-ab27-24733762f61c\" xlink:actuate=\"onRequest\" xlink:href=\"psysml:92b6686b-ceec-4d5e-ab27-24733762f61c\" xlink:show=\"new\" xlink:title=\"psysml:92b6686b-ceec-4d5e-ab27-24733762f61c\" xlink:type=\"simple\"><rect fill=\"#FFFFFF\" height=\"73\" id=\"E2\" style=\"stroke: #383838; stroke-width: 1.5;\" width=\"83\" x=\"244\" y=\"55\"/><rect fill=\"#F8F8F8\" height=\"37.9375\" style=\"stroke: #383838; stroke-width: 1.5;\" width=\"83\" x=\"244\" y=\"55\"/><text fill=\"#000000\" font-family=\"sans-serif\" font-size=\"12\" font-style=\"italic\" lengthAdjust=\"spacingAndGlyphs\" textLength=\"64\" x=\"253.5\" y=\"71.1387\">«part def»</text><text fill=\"#000000\" font-family=\"sans-serif\" font-size=\"12\" lengthAdjust=\"spacingAndGlyphs\" textLength=\"16\" x=\"277.5\" y=\"85.1074\">P1</text></a><!--MD5=[de5ec2e2e8f62f467e546659f5068c88]\n",
       "cluster E5--><a href=\"psysml:2b3d4312-7497-4457-990a-6ee5375442c5\" target=\"_top\" title=\"psysml:2b3d4312-7497-4457-990a-6ee5375442c5\" xlink:actuate=\"onRequest\" xlink:href=\"psysml:2b3d4312-7497-4457-990a-6ee5375442c5\" xlink:show=\"new\" xlink:title=\"psysml:2b3d4312-7497-4457-990a-6ee5375442c5\" xlink:type=\"simple\"><rect fill=\"#FFFFFF\" height=\"84.5\" id=\"E5\" rx=\"10\" ry=\"10\" style=\"stroke: #383838; stroke-width: 1.5;\" width=\"101\" x=\"139\" y=\"94.5\"/><rect fill=\"#F8F8F8\" height=\"23.9688\" rx=\"10\" ry=\"10\" style=\"stroke: #F8F8F8; stroke-width: 1.5;\" width=\"101\" x=\"139\" y=\"94.5\"/><rect fill=\"#F8F8F8\" height=\"10\" style=\"stroke: #F8F8F8; stroke-width: 1.5;\" width=\"101\" x=\"139\" y=\"108.4688\"/><rect fill=\"none\" height=\"84.5\" id=\"E5\" rx=\"10\" ry=\"10\" style=\"stroke: #383838; stroke-width: 1.5;\" width=\"101\" x=\"139\" y=\"94.5\"/><text fill=\"#000000\" font-family=\"sans-serif\" font-size=\"12\" lengthAdjust=\"spacingAndGlyphs\" textLength=\"40\" x=\"169.5\" y=\"110.6387\">p1: P1</text><line style=\"stroke: #383838; stroke-width: 1.0;\" x1=\"139\" x2=\"240\" y1=\"118.4688\" y2=\"118.4688\"/></a><!--MD5=[168fadf3d0c3fd93dd5d6da1b1d7ab76]\n",
       "cluster E7--><a href=\"psysml:09e69c42-70ff-4aed-b93c-c140a8b906a0\" target=\"_top\" title=\"psysml:09e69c42-70ff-4aed-b93c-c140a8b906a0\" xlink:actuate=\"onRequest\" xlink:href=\"psysml:09e69c42-70ff-4aed-b93c-c140a8b906a0\" xlink:show=\"new\" xlink:title=\"psysml:09e69c42-70ff-4aed-b93c-c140a8b906a0\" xlink:type=\"simple\"><rect fill=\"#FFFFFF\" height=\"65\" id=\"E7\" rx=\"10\" ry=\"10\" style=\"stroke: #383838; stroke-width: 1.5;\" width=\"83\" x=\"53\" y=\"55\"/><rect fill=\"#F8F8F8\" height=\"23.9688\" rx=\"10\" ry=\"10\" style=\"stroke: #F8F8F8; stroke-width: 1.5;\" width=\"83\" x=\"53\" y=\"55\"/><rect fill=\"#F8F8F8\" height=\"10\" style=\"stroke: #F8F8F8; stroke-width: 1.5;\" width=\"83\" x=\"53\" y=\"68.9688\"/><rect fill=\"none\" height=\"65\" id=\"E7\" rx=\"10\" ry=\"10\" style=\"stroke: #383838; stroke-width: 1.5;\" width=\"83\" x=\"53\" y=\"55\"/><text fill=\"#000000\" font-family=\"sans-serif\" font-size=\"12\" lengthAdjust=\"spacingAndGlyphs\" textLength=\"40\" x=\"74.5\" y=\"71.1387\">p2: P1</text><line style=\"stroke: #383838; stroke-width: 1.0;\" x1=\"53\" x2=\"136\" y1=\"78.9688\" y2=\"78.9688\"/></a><text fill=\"#000000\" font-family=\"sans-serif\" font-size=\"14\" lengthAdjust=\"spacingAndGlyphs\" textLength=\"44\" x=\"240\" y=\"33.6982\">porig1</text><rect fill=\"#383838\" height=\"12\" style=\"stroke: #F8F8F8; stroke-width: 1.5;\" width=\"12\" x=\"256\" y=\"49\"/><text fill=\"#000000\" font-family=\"sans-serif\" font-size=\"14\" lengthAdjust=\"spacingAndGlyphs\" textLength=\"44\" x=\"287\" y=\"33.6982\">porig1</text><rect fill=\"#383838\" height=\"12\" style=\"stroke: #F8F8F8; stroke-width: 1.5;\" width=\"12\" x=\"303\" y=\"49\"/><text fill=\"#000000\" font-family=\"sans-serif\" font-size=\"14\" lengthAdjust=\"spacingAndGlyphs\" textLength=\"27\" x=\"143.5\" y=\"73.1982\">po1</text><rect fill=\"#383838\" height=\"12\" style=\"stroke: #F8F8F8; stroke-width: 1.5;\" width=\"12\" x=\"151\" y=\"88.5\"/><text fill=\"#000000\" font-family=\"sans-serif\" font-size=\"14\" lengthAdjust=\"spacingAndGlyphs\" textLength=\"40\" x=\"51\" y=\"33.6982\">pdest</text><rect fill=\"#383838\" height=\"12\" style=\"stroke: #F8F8F8; stroke-width: 1.5;\" width=\"12\" x=\"65\" y=\"49\"/><text fill=\"#000000\" font-family=\"sans-serif\" font-size=\"14\" lengthAdjust=\"spacingAndGlyphs\" textLength=\"40\" x=\"98\" y=\"33.6982\">pdest</text><rect fill=\"#383838\" height=\"12\" style=\"stroke: #F8F8F8; stroke-width: 1.5;\" width=\"12\" x=\"112\" y=\"49\"/><!--MD5=[60ac2c0cde89d4308155b0484e57a8ec]\n",
       "link E9 to E6--><a href=\"psysml:d88f1dc1-ed41-4b97-9842-84a04c2c1d2b\" target=\"_top\" title=\"psysml:d88f1dc1-ed41-4b97-9842-84a04c2c1d2b\" xlink:actuate=\"onRequest\" xlink:href=\"psysml:d88f1dc1-ed41-4b97-9842-84a04c2c1d2b\" xlink:show=\"new\" xlink:title=\"psysml:d88f1dc1-ed41-4b97-9842-84a04c2c1d2b\" xlink:type=\"simple\"><path d=\"M111.75,57.02 C105.4,60.08 115,69 115,69 C115,69 134.48,88.09 150.75,92.57 \" fill=\"none\" id=\"E9-E6\" style=\"stroke: #383838; stroke-width: 3.0;\"/></a><!--MD5=[60ac2c0cde89d4308155b0484e57a8ec]\n",
       "link E9 to E6--><a href=\"psysml:619a1562-63e5-4ed2-9546-f25d2cdc049d\" target=\"_top\" title=\"psysml:619a1562-63e5-4ed2-9546-f25d2cdc049d\" xlink:actuate=\"onRequest\" xlink:href=\"psysml:619a1562-63e5-4ed2-9546-f25d2cdc049d\" xlink:show=\"new\" xlink:title=\"psysml:619a1562-63e5-4ed2-9546-f25d2cdc049d\" xlink:type=\"simple\"><path d=\"M124.15,56.49 C139.09,58.87 150,69 150,69 C150,69 166.5,85.17 163.04,91.24 \" fill=\"none\" id=\"E9-E6-1\" style=\"stroke: #383838; stroke-width: 3.0;\"/></a><!--MD5=[3a567b8d6cec3b97949b45cd489acfaa]\n",
       "@startuml\r\n",
       "skinparam ranksep 10\r\n",
       "skinparam rectangle {\r\n",
       " backgroundColor<<block>> LightGreen\r\n",
       "}\r\n",
       "skinparam linetype polyline\r\n",
       "skinparam monochrome true\r\n",
       "skinparam classbackgroundcolor white\r\n",
       "skinparam shadowing false\r\n",
       "skinparam wrapWidth 300\r\n",
       "hide circle\r\n",
       "\r\n",
       "package \"AliasTest\" as E1  [[psysml:2a952753-6cea-46c9-bb61-930b04eb3411 ]]  {\r\n",
       "rec def \"P1\" as E2  <<(T,blue) part def>> [[psysml:92b6686b-ceec-4d5e-ab27-24733762f61c ]] {\r\n",
       "portin \"porig1\" as E3  <<(T,blue) port>> [[psysml:ea24ffa6-0b43-4ed9-8037-2e87c3ddc217 ]] \r\n",
       "portin \"porig1\" as E4  <<(T,blue) port>> [[psysml:ea24ffa6-0b43-4ed9-8037-2e87c3ddc217 ]] \r\n",
       "}\r\n",
       "rec usage \"p1: P1\" as E5  [[psysml:2b3d4312-7497-4457-990a-6ee5375442c5 ]] {\r\n",
       "portin \"po1\" as E6  <<(T,blue) port>> [[psysml:dd05f1a1-221f-4ab1-8a14-dfadf20b8a26 ]] \r\n",
       "}\r\n",
       "rec usage \"p2: P1\" as E7  [[psysml:09e69c42-70ff-4aed-b93c-c140a8b906a0 ]] {\r\n",
       "portin \"pdest\" as E8  <<(T,blue) port>> [[psysml:af7521ab-a154-4c67-8a1e-396c259ea1b5 ]] \r\n",
       "portin \"pdest\" as E9  <<(T,blue) port>> [[psysml:af7521ab-a154-4c67-8a1e-396c259ea1b5 ]] \r\n",
       "}\r\n",
       "E9 -[thickness=3]- E6 [[psysml:d88f1dc1-ed41-4b97-9842-84a04c2c1d2b ]] \r\n",
       "E9 -[thickness=3]- E6 [[psysml:619a1562-63e5-4ed2-9546-f25d2cdc049d ]] \r\n",
       "}\r\n",
       "@enduml\r\n",
       "\n",
       "PlantUML version 1.2020.13(Sat Jun 13 12:26:38 UTC 2020)\n",
       "(EPL source distribution)\n",
       "Java Runtime: OpenJDK Runtime Environment\n",
       "JVM: OpenJDK 64-Bit Server VM\n",
       "Default Encoding: UTF-8\n",
       "Language: en\n",
       "Country: null\n",
       "--></g></svg>"
      ]
     },
     "execution_count": 12,
     "metadata": {},
     "output_type": "execute_result"
    }
   ],
   "source": [
    "%viz --style=\"POLYLINE\" --view=\"Interconnection\" \"AliasTest\""
   ]
  },
  {
   "cell_type": "code",
   "execution_count": 13,
   "id": "b404bbd1",
   "metadata": {
    "execution": {
     "iopub.execute_input": "2021-06-30T09:16:06.900423Z",
     "iopub.status.busy": "2021-06-30T09:16:06.899712Z",
     "iopub.status.idle": "2021-06-30T09:16:06.901429Z",
     "shell.execute_reply": "2021-06-30T09:16:06.900065Z"
    }
   },
   "outputs": [
    {
     "data": {
      "image/svg+xml": [
       "<?xml version=\"1.0\" encoding=\"UTF-8\" standalone=\"no\"?><svg xmlns=\"http://www.w3.org/2000/svg\" xmlns:xlink=\"http://www.w3.org/1999/xlink\" contentScriptType=\"application/ecmascript\" contentStyleType=\"text/css\" height=\"12px\" preserveAspectRatio=\"none\" style=\"width:12px;height:12px;\" version=\"1.1\" viewBox=\"0 0 12 12\" width=\"12px\" zoomAndPan=\"magnify\"><defs/><g><!--MD5=[97bbf32f66ccd50cbc40d92ea8f5a65e]\n",
       "@startuml\r\n",
       "skinparam ranksep 8\r\n",
       "skinparam linetype polyline\r\n",
       "skinparam monochrome true\r\n",
       "skinparam classbackgroundcolor white\r\n",
       "skinparam shadowing false\r\n",
       "skinparam wrapWidth 300\r\n",
       "hide circle\r\n",
       "\r\n",
       "@enduml\r\n",
       "\n",
       "PlantUML version 1.2020.13(Sat Jun 13 12:26:38 UTC 2020)\n",
       "(EPL source distribution)\n",
       "Java Runtime: OpenJDK Runtime Environment\n",
       "JVM: OpenJDK 64-Bit Server VM\n",
       "Default Encoding: UTF-8\n",
       "Language: en\n",
       "Country: null\n",
       "--></g></svg>"
      ]
     },
     "execution_count": 13,
     "metadata": {},
     "output_type": "execute_result"
    }
   ],
   "source": [
    "%viz --style=\"POLYLINE\" --view=\"Action\" \"AliasTest\""
   ]
  },
  {
   "cell_type": "code",
   "execution_count": 14,
   "id": "33c31fb2",
   "metadata": {
    "execution": {
     "iopub.execute_input": "2021-06-30T09:16:06.951775Z",
     "iopub.status.busy": "2021-06-30T09:16:06.951429Z",
     "iopub.status.idle": "2021-06-30T09:16:07.045595Z",
     "shell.execute_reply": "2021-06-30T09:16:07.043687Z"
    }
   },
   "outputs": [
    {
     "data": {
      "image/svg+xml": [
       "<?xml version=\"1.0\" encoding=\"UTF-8\" standalone=\"no\"?><svg xmlns=\"http://www.w3.org/2000/svg\" xmlns:xlink=\"http://www.w3.org/1999/xlink\" contentScriptType=\"application/ecmascript\" contentStyleType=\"text/css\" height=\"293px\" preserveAspectRatio=\"none\" style=\"width:243px;height:293px;\" version=\"1.1\" viewBox=\"0 0 243 293\" width=\"243px\" zoomAndPan=\"magnify\"><defs/><g><!--MD5=[fbc87193dbaf4d95561dea2c320d4a47]\n",
       "cluster E1--><a href=\"psysml:2a952753-6cea-46c9-bb61-930b04eb3411\" target=\"_top\" title=\"psysml:2a952753-6cea-46c9-bb61-930b04eb3411\" xlink:actuate=\"onRequest\" xlink:href=\"psysml:2a952753-6cea-46c9-bb61-930b04eb3411\" xlink:show=\"new\" xlink:title=\"psysml:2a952753-6cea-46c9-bb61-930b04eb3411\" xlink:type=\"simple\"><polygon fill=\"#FFFFFF\" points=\"16,6,94,6,101,28.2969,221,28.2969,221,281,16,281,16,6\" style=\"stroke: #000000; stroke-width: 1.5;\"/><line style=\"stroke: #000000; stroke-width: 1.5;\" x1=\"16\" x2=\"101\" y1=\"28.2969\" y2=\"28.2969\"/><text fill=\"#000000\" font-family=\"sans-serif\" font-size=\"14\" font-weight=\"bold\" lengthAdjust=\"spacingAndGlyphs\" textLength=\"72\" x=\"20\" y=\"20.9951\">AliasTest</text></a><!--MD5=[b4997ac47864f28c2f74865a473b2911]\n",
       "class E2--><a href=\"psysml:92b6686b-ceec-4d5e-ab27-24733762f61c\" target=\"_top\" title=\"psysml:92b6686b-ceec-4d5e-ab27-24733762f61c\" xlink:actuate=\"onRequest\" xlink:href=\"psysml:92b6686b-ceec-4d5e-ab27-24733762f61c\" xlink:show=\"new\" xlink:title=\"psysml:92b6686b-ceec-4d5e-ab27-24733762f61c\" xlink:type=\"simple\"><rect fill=\"#FFFFFF\" height=\"75.5469\" id=\"E2\" style=\"stroke: #383838; stroke-width: 1.5;\" width=\"66\" x=\"79\" y=\"189\"/><text fill=\"#000000\" font-family=\"sans-serif\" font-size=\"12\" font-style=\"italic\" lengthAdjust=\"spacingAndGlyphs\" textLength=\"64\" x=\"80\" y=\"205.1387\">«part def»</text><text fill=\"#000000\" font-family=\"sans-serif\" font-size=\"12\" lengthAdjust=\"spacingAndGlyphs\" textLength=\"16\" x=\"104\" y=\"219.1074\">P1</text><line style=\"stroke: #383838; stroke-width: 1.5;\" x1=\"80\" x2=\"144\" y1=\"226.9375\" y2=\"226.9375\"/><text fill=\"#000000\" font-family=\"sans-serif\" font-size=\"11\" lengthAdjust=\"spacingAndGlyphs\" textLength=\"36\" x=\"85\" y=\"257.9526\">porig1</text><line style=\"stroke: #383838; stroke-width: 1.0;\" x1=\"80\" x2=\"97\" y1=\"241.3398\" y2=\"241.3398\"/><text fill=\"#000000\" font-family=\"sans-serif\" font-size=\"11\" lengthAdjust=\"spacingAndGlyphs\" textLength=\"30\" x=\"97\" y=\"244.6479\">ports</text><line style=\"stroke: #383838; stroke-width: 1.0;\" x1=\"127\" x2=\"144\" y1=\"241.3398\" y2=\"241.3398\"/></a><!--MD5=[ebbe1d658d1005bcc118a6aa81145e00]\n",
       "class E4--><a href=\"psysml:2b3d4312-7497-4457-990a-6ee5375442c5\" target=\"_top\" title=\"psysml:2b3d4312-7497-4457-990a-6ee5375442c5\" xlink:actuate=\"onRequest\" xlink:href=\"psysml:2b3d4312-7497-4457-990a-6ee5375442c5\" xlink:show=\"new\" xlink:title=\"psysml:2b3d4312-7497-4457-990a-6ee5375442c5\" xlink:type=\"simple\"><rect fill=\"#FFFFFF\" height=\"88.3516\" id=\"E4\" rx=\"10\" ry=\"10\" style=\"stroke: #383838; stroke-width: 1.5;\" width=\"92\" x=\"113\" y=\"41\"/><text fill=\"#000000\" font-family=\"sans-serif\" font-size=\"12\" font-style=\"italic\" lengthAdjust=\"spacingAndGlyphs\" textLength=\"40\" x=\"139\" y=\"57.1387\">«part»</text><text fill=\"#000000\" font-family=\"sans-serif\" font-size=\"12\" lengthAdjust=\"spacingAndGlyphs\" textLength=\"40\" x=\"139\" y=\"71.1074\">p1: P1</text><line style=\"stroke: #383838; stroke-width: 1.5;\" x1=\"114\" x2=\"204\" y1=\"78.9375\" y2=\"78.9375\"/><text fill=\"#000000\" font-family=\"sans-serif\" font-size=\"11\" lengthAdjust=\"spacingAndGlyphs\" textLength=\"21\" x=\"119\" y=\"109.9526\">po1</text><text fill=\"#000000\" font-family=\"sans-serif\" font-size=\"11\" font-style=\"italic\" lengthAdjust=\"spacingAndGlyphs\" textLength=\"80\" x=\"119\" y=\"122.7573\">:&gt;&gt;P1::porig1</text><line style=\"stroke: #383838; stroke-width: 1.0;\" x1=\"114\" x2=\"144\" y1=\"93.3398\" y2=\"93.3398\"/><text fill=\"#000000\" font-family=\"sans-serif\" font-size=\"11\" lengthAdjust=\"spacingAndGlyphs\" textLength=\"30\" x=\"144\" y=\"96.6479\">ports</text><line style=\"stroke: #383838; stroke-width: 1.0;\" x1=\"174\" x2=\"204\" y1=\"93.3398\" y2=\"93.3398\"/></a><!--MD5=[60a26617385b1d2d0262a64233df1f8d]\n",
       "class E6--><a href=\"psysml:09e69c42-70ff-4aed-b93c-c140a8b906a0\" target=\"_top\" title=\"psysml:09e69c42-70ff-4aed-b93c-c140a8b906a0\" xlink:actuate=\"onRequest\" xlink:href=\"psysml:09e69c42-70ff-4aed-b93c-c140a8b906a0\" xlink:show=\"new\" xlink:title=\"psysml:09e69c42-70ff-4aed-b93c-c140a8b906a0\" xlink:type=\"simple\"><rect fill=\"#FFFFFF\" height=\"75.5469\" id=\"E6\" rx=\"10\" ry=\"10\" style=\"stroke: #383838; stroke-width: 1.5;\" width=\"46\" x=\"32\" y=\"47\"/><text fill=\"#000000\" font-family=\"sans-serif\" font-size=\"12\" font-style=\"italic\" lengthAdjust=\"spacingAndGlyphs\" textLength=\"40\" x=\"35\" y=\"63.1387\">«part»</text><text fill=\"#000000\" font-family=\"sans-serif\" font-size=\"12\" lengthAdjust=\"spacingAndGlyphs\" textLength=\"40\" x=\"35\" y=\"77.1074\">p2: P1</text><line style=\"stroke: #383838; stroke-width: 1.5;\" x1=\"33\" x2=\"77\" y1=\"84.9375\" y2=\"84.9375\"/><text fill=\"#000000\" font-family=\"sans-serif\" font-size=\"11\" lengthAdjust=\"spacingAndGlyphs\" textLength=\"32\" x=\"38\" y=\"115.9526\">pdest</text><line style=\"stroke: #383838; stroke-width: 1.0;\" x1=\"33\" x2=\"40\" y1=\"99.3398\" y2=\"99.3398\"/><text fill=\"#000000\" font-family=\"sans-serif\" font-size=\"11\" lengthAdjust=\"spacingAndGlyphs\" textLength=\"30\" x=\"40\" y=\"102.6479\">ports</text><line style=\"stroke: #383838; stroke-width: 1.0;\" x1=\"70\" x2=\"77\" y1=\"99.3398\" y2=\"99.3398\"/></a><!--MD5=[185131fc0dcab0a4505a2ebe144e961b]\n",
       "link E4 to E2--><a href=\"psysml:5073669c-7652-4dd2-8e27-7490931f0c73\" target=\"_top\" title=\"psysml:5073669c-7652-4dd2-8e27-7490931f0c73\" xlink:actuate=\"onRequest\" xlink:href=\"psysml:5073669c-7652-4dd2-8e27-7490931f0c73\" xlink:show=\"new\" xlink:title=\"psysml:5073669c-7652-4dd2-8e27-7490931f0c73\" xlink:type=\"simple\"><path d=\"M144.51,129.15 C140.2,141.99 135.41,156.26 130.86,169.81 \" fill=\"none\" id=\"E4-&gt;E2\" style=\"stroke: #383838; stroke-width: 1.0;\"/><polygon fill=\"#FFFFFF\" points=\"124.45,188.9,123.8495,168.6604,137.1241,173.1086,124.45,188.9\" style=\"stroke: #383838; stroke-width: 1.0;\"/><ellipse cx=\"127.5569\" cy=\"163.8913\" fill=\"#383838\" rx=\"2\" ry=\"2\" style=\"stroke: #383838; stroke-width: 1.0;\"/><ellipse cx=\"137.0388\" cy=\"167.0685\" fill=\"#383838\" rx=\"2\" ry=\"2\" style=\"stroke: #383838; stroke-width: 1.0;\"/></a><!--MD5=[2351f337d6de0f557b50152ba70847b5]\n",
       "link E6 to E2--><a href=\"psysml:94875f8e-b487-466f-9f77-0e1d93a514ac\" target=\"_top\" title=\"psysml:94875f8e-b487-466f-9f77-0e1d93a514ac\" xlink:actuate=\"onRequest\" xlink:href=\"psysml:94875f8e-b487-466f-9f77-0e1d93a514ac\" xlink:show=\"new\" xlink:title=\"psysml:94875f8e-b487-466f-9f77-0e1d93a514ac\" xlink:type=\"simple\"><path d=\"M70.13,123.15 C75.99,137.55 82.83,154.34 89.26,170.14 \" fill=\"none\" id=\"E6-&gt;E2\" style=\"stroke: #383838; stroke-width: 1.0;\"/><polygon fill=\"#FFFFFF\" points=\"96.8,188.68,83.1527,173.7216,96.1195,168.443,96.8,188.68\" style=\"stroke: #383838; stroke-width: 1.0;\"/><ellipse cx=\"82.856\" cy=\"167.6882\" fill=\"#383838\" rx=\"2\" ry=\"2\" style=\"stroke: #383838; stroke-width: 1.0;\"/><ellipse cx=\"92.1179\" cy=\"163.9178\" fill=\"#383838\" rx=\"2\" ry=\"2\" style=\"stroke: #383838; stroke-width: 1.0;\"/></a><!--MD5=[9bce38651f4bcd8b033d34b1a5004979]\n",
       "@startuml\r\n",
       "skinparam linetype polyline\r\n",
       "skinparam monochrome true\r\n",
       "skinparam classbackgroundcolor white\r\n",
       "skinparam shadowing false\r\n",
       "skinparam wrapWidth 300\r\n",
       "hide circle\r\n",
       "\r\n",
       "package \"AliasTest\" as E1  [[psysml:2a952753-6cea-46c9-bb61-930b04eb3411 ]]  {\r\n",
       "comp def \"P1\" as E2  <<(T,blue) part def>> [[psysml:92b6686b-ceec-4d5e-ab27-24733762f61c ]] {\r\n",
       "- - ports - -\r\n",
       "porig1\r\n",
       "}\r\n",
       "comp usage \"p1: P1\" as E4  <<(T,blue) part>> [[psysml:2b3d4312-7497-4457-990a-6ee5375442c5 ]] {\r\n",
       "- - ports - -\r\n",
       "po1\\n//:>>P1::porig1// \r\n",
       "}\r\n",
       "comp usage \"p2: P1\" as E6  <<(T,blue) part>> [[psysml:09e69c42-70ff-4aed-b93c-c140a8b906a0 ]] {\r\n",
       "- - ports - -\r\n",
       "pdest\r\n",
       "}\r\n",
       "E4 - -:|> E2 [[psysml:5073669c-7652-4dd2-8e27-7490931f0c73 ]] \r\n",
       "E6 - -:|> E2 [[psysml:94875f8e-b487-466f-9f77-0e1d93a514ac ]] \r\n",
       "}\r\n",
       "@enduml\r\n",
       "\n",
       "PlantUML version 1.2020.13(Sat Jun 13 12:26:38 UTC 2020)\n",
       "(EPL source distribution)\n",
       "Java Runtime: OpenJDK Runtime Environment\n",
       "JVM: OpenJDK 64-Bit Server VM\n",
       "Default Encoding: UTF-8\n",
       "Language: en\n",
       "Country: null\n",
       "--></g></svg>"
      ]
     },
     "execution_count": 14,
     "metadata": {},
     "output_type": "execute_result"
    }
   ],
   "source": [
    "%viz --style=\"POLYLINE\" --view=\"Sequence\" \"AliasTest\""
   ]
  },
  {
   "cell_type": "code",
   "execution_count": 15,
   "id": "6f3b8e91",
   "metadata": {
    "execution": {
     "iopub.execute_input": "2021-06-30T09:16:07.092274Z",
     "iopub.status.busy": "2021-06-30T09:16:07.091726Z",
     "iopub.status.idle": "2021-06-30T09:16:07.169279Z",
     "shell.execute_reply": "2021-06-30T09:16:07.168852Z"
    }
   },
   "outputs": [
    {
     "data": {
      "image/svg+xml": [
       "<?xml version=\"1.0\" encoding=\"UTF-8\" standalone=\"no\"?><svg xmlns=\"http://www.w3.org/2000/svg\" xmlns:xlink=\"http://www.w3.org/1999/xlink\" contentScriptType=\"application/ecmascript\" contentStyleType=\"text/css\" height=\"293px\" preserveAspectRatio=\"none\" style=\"width:243px;height:293px;\" version=\"1.1\" viewBox=\"0 0 243 293\" width=\"243px\" zoomAndPan=\"magnify\"><defs/><g><!--MD5=[fbc87193dbaf4d95561dea2c320d4a47]\n",
       "cluster E1--><a href=\"psysml:2a952753-6cea-46c9-bb61-930b04eb3411\" target=\"_top\" title=\"psysml:2a952753-6cea-46c9-bb61-930b04eb3411\" xlink:actuate=\"onRequest\" xlink:href=\"psysml:2a952753-6cea-46c9-bb61-930b04eb3411\" xlink:show=\"new\" xlink:title=\"psysml:2a952753-6cea-46c9-bb61-930b04eb3411\" xlink:type=\"simple\"><polygon fill=\"#FFFFFF\" points=\"16,6,94,6,101,28.2969,221,28.2969,221,281,16,281,16,6\" style=\"stroke: #000000; stroke-width: 1.5;\"/><line style=\"stroke: #000000; stroke-width: 1.5;\" x1=\"16\" x2=\"101\" y1=\"28.2969\" y2=\"28.2969\"/><text fill=\"#000000\" font-family=\"sans-serif\" font-size=\"14\" font-weight=\"bold\" lengthAdjust=\"spacingAndGlyphs\" textLength=\"72\" x=\"20\" y=\"20.9951\">AliasTest</text></a><!--MD5=[b4997ac47864f28c2f74865a473b2911]\n",
       "class E2--><a href=\"psysml:92b6686b-ceec-4d5e-ab27-24733762f61c\" target=\"_top\" title=\"psysml:92b6686b-ceec-4d5e-ab27-24733762f61c\" xlink:actuate=\"onRequest\" xlink:href=\"psysml:92b6686b-ceec-4d5e-ab27-24733762f61c\" xlink:show=\"new\" xlink:title=\"psysml:92b6686b-ceec-4d5e-ab27-24733762f61c\" xlink:type=\"simple\"><rect fill=\"#FFFFFF\" height=\"75.5469\" id=\"E2\" style=\"stroke: #383838; stroke-width: 1.5;\" width=\"66\" x=\"79\" y=\"189\"/><text fill=\"#000000\" font-family=\"sans-serif\" font-size=\"12\" font-style=\"italic\" lengthAdjust=\"spacingAndGlyphs\" textLength=\"64\" x=\"80\" y=\"205.1387\">«part def»</text><text fill=\"#000000\" font-family=\"sans-serif\" font-size=\"12\" lengthAdjust=\"spacingAndGlyphs\" textLength=\"16\" x=\"104\" y=\"219.1074\">P1</text><line style=\"stroke: #383838; stroke-width: 1.5;\" x1=\"80\" x2=\"144\" y1=\"226.9375\" y2=\"226.9375\"/><text fill=\"#000000\" font-family=\"sans-serif\" font-size=\"11\" lengthAdjust=\"spacingAndGlyphs\" textLength=\"36\" x=\"85\" y=\"257.9526\">porig1</text><line style=\"stroke: #383838; stroke-width: 1.0;\" x1=\"80\" x2=\"97\" y1=\"241.3398\" y2=\"241.3398\"/><text fill=\"#000000\" font-family=\"sans-serif\" font-size=\"11\" lengthAdjust=\"spacingAndGlyphs\" textLength=\"30\" x=\"97\" y=\"244.6479\">ports</text><line style=\"stroke: #383838; stroke-width: 1.0;\" x1=\"127\" x2=\"144\" y1=\"241.3398\" y2=\"241.3398\"/></a><!--MD5=[ebbe1d658d1005bcc118a6aa81145e00]\n",
       "class E4--><a href=\"psysml:2b3d4312-7497-4457-990a-6ee5375442c5\" target=\"_top\" title=\"psysml:2b3d4312-7497-4457-990a-6ee5375442c5\" xlink:actuate=\"onRequest\" xlink:href=\"psysml:2b3d4312-7497-4457-990a-6ee5375442c5\" xlink:show=\"new\" xlink:title=\"psysml:2b3d4312-7497-4457-990a-6ee5375442c5\" xlink:type=\"simple\"><rect fill=\"#FFFFFF\" height=\"88.3516\" id=\"E4\" rx=\"10\" ry=\"10\" style=\"stroke: #383838; stroke-width: 1.5;\" width=\"92\" x=\"113\" y=\"41\"/><text fill=\"#000000\" font-family=\"sans-serif\" font-size=\"12\" font-style=\"italic\" lengthAdjust=\"spacingAndGlyphs\" textLength=\"40\" x=\"139\" y=\"57.1387\">«part»</text><text fill=\"#000000\" font-family=\"sans-serif\" font-size=\"12\" lengthAdjust=\"spacingAndGlyphs\" textLength=\"40\" x=\"139\" y=\"71.1074\">p1: P1</text><line style=\"stroke: #383838; stroke-width: 1.5;\" x1=\"114\" x2=\"204\" y1=\"78.9375\" y2=\"78.9375\"/><text fill=\"#000000\" font-family=\"sans-serif\" font-size=\"11\" lengthAdjust=\"spacingAndGlyphs\" textLength=\"21\" x=\"119\" y=\"109.9526\">po1</text><text fill=\"#000000\" font-family=\"sans-serif\" font-size=\"11\" font-style=\"italic\" lengthAdjust=\"spacingAndGlyphs\" textLength=\"80\" x=\"119\" y=\"122.7573\">:&gt;&gt;P1::porig1</text><line style=\"stroke: #383838; stroke-width: 1.0;\" x1=\"114\" x2=\"144\" y1=\"93.3398\" y2=\"93.3398\"/><text fill=\"#000000\" font-family=\"sans-serif\" font-size=\"11\" lengthAdjust=\"spacingAndGlyphs\" textLength=\"30\" x=\"144\" y=\"96.6479\">ports</text><line style=\"stroke: #383838; stroke-width: 1.0;\" x1=\"174\" x2=\"204\" y1=\"93.3398\" y2=\"93.3398\"/></a><!--MD5=[60a26617385b1d2d0262a64233df1f8d]\n",
       "class E6--><a href=\"psysml:09e69c42-70ff-4aed-b93c-c140a8b906a0\" target=\"_top\" title=\"psysml:09e69c42-70ff-4aed-b93c-c140a8b906a0\" xlink:actuate=\"onRequest\" xlink:href=\"psysml:09e69c42-70ff-4aed-b93c-c140a8b906a0\" xlink:show=\"new\" xlink:title=\"psysml:09e69c42-70ff-4aed-b93c-c140a8b906a0\" xlink:type=\"simple\"><rect fill=\"#FFFFFF\" height=\"75.5469\" id=\"E6\" rx=\"10\" ry=\"10\" style=\"stroke: #383838; stroke-width: 1.5;\" width=\"46\" x=\"32\" y=\"47\"/><text fill=\"#000000\" font-family=\"sans-serif\" font-size=\"12\" font-style=\"italic\" lengthAdjust=\"spacingAndGlyphs\" textLength=\"40\" x=\"35\" y=\"63.1387\">«part»</text><text fill=\"#000000\" font-family=\"sans-serif\" font-size=\"12\" lengthAdjust=\"spacingAndGlyphs\" textLength=\"40\" x=\"35\" y=\"77.1074\">p2: P1</text><line style=\"stroke: #383838; stroke-width: 1.5;\" x1=\"33\" x2=\"77\" y1=\"84.9375\" y2=\"84.9375\"/><text fill=\"#000000\" font-family=\"sans-serif\" font-size=\"11\" lengthAdjust=\"spacingAndGlyphs\" textLength=\"32\" x=\"38\" y=\"115.9526\">pdest</text><line style=\"stroke: #383838; stroke-width: 1.0;\" x1=\"33\" x2=\"40\" y1=\"99.3398\" y2=\"99.3398\"/><text fill=\"#000000\" font-family=\"sans-serif\" font-size=\"11\" lengthAdjust=\"spacingAndGlyphs\" textLength=\"30\" x=\"40\" y=\"102.6479\">ports</text><line style=\"stroke: #383838; stroke-width: 1.0;\" x1=\"70\" x2=\"77\" y1=\"99.3398\" y2=\"99.3398\"/></a><!--MD5=[185131fc0dcab0a4505a2ebe144e961b]\n",
       "link E4 to E2--><a href=\"psysml:5073669c-7652-4dd2-8e27-7490931f0c73\" target=\"_top\" title=\"psysml:5073669c-7652-4dd2-8e27-7490931f0c73\" xlink:actuate=\"onRequest\" xlink:href=\"psysml:5073669c-7652-4dd2-8e27-7490931f0c73\" xlink:show=\"new\" xlink:title=\"psysml:5073669c-7652-4dd2-8e27-7490931f0c73\" xlink:type=\"simple\"><path d=\"M144.51,129.15 C140.2,141.99 135.41,156.26 130.86,169.81 \" fill=\"none\" id=\"E4-&gt;E2\" style=\"stroke: #383838; stroke-width: 1.0;\"/><polygon fill=\"#FFFFFF\" points=\"124.45,188.9,123.8495,168.6604,137.1241,173.1086,124.45,188.9\" style=\"stroke: #383838; stroke-width: 1.0;\"/><ellipse cx=\"127.5569\" cy=\"163.8913\" fill=\"#383838\" rx=\"2\" ry=\"2\" style=\"stroke: #383838; stroke-width: 1.0;\"/><ellipse cx=\"137.0388\" cy=\"167.0685\" fill=\"#383838\" rx=\"2\" ry=\"2\" style=\"stroke: #383838; stroke-width: 1.0;\"/></a><!--MD5=[2351f337d6de0f557b50152ba70847b5]\n",
       "link E6 to E2--><a href=\"psysml:94875f8e-b487-466f-9f77-0e1d93a514ac\" target=\"_top\" title=\"psysml:94875f8e-b487-466f-9f77-0e1d93a514ac\" xlink:actuate=\"onRequest\" xlink:href=\"psysml:94875f8e-b487-466f-9f77-0e1d93a514ac\" xlink:show=\"new\" xlink:title=\"psysml:94875f8e-b487-466f-9f77-0e1d93a514ac\" xlink:type=\"simple\"><path d=\"M70.13,123.15 C75.99,137.55 82.83,154.34 89.26,170.14 \" fill=\"none\" id=\"E6-&gt;E2\" style=\"stroke: #383838; stroke-width: 1.0;\"/><polygon fill=\"#FFFFFF\" points=\"96.8,188.68,83.1527,173.7216,96.1195,168.443,96.8,188.68\" style=\"stroke: #383838; stroke-width: 1.0;\"/><ellipse cx=\"82.856\" cy=\"167.6882\" fill=\"#383838\" rx=\"2\" ry=\"2\" style=\"stroke: #383838; stroke-width: 1.0;\"/><ellipse cx=\"92.1179\" cy=\"163.9178\" fill=\"#383838\" rx=\"2\" ry=\"2\" style=\"stroke: #383838; stroke-width: 1.0;\"/></a><!--MD5=[9bce38651f4bcd8b033d34b1a5004979]\n",
       "@startuml\r\n",
       "skinparam linetype polyline\r\n",
       "skinparam monochrome true\r\n",
       "skinparam classbackgroundcolor white\r\n",
       "skinparam shadowing false\r\n",
       "skinparam wrapWidth 300\r\n",
       "hide circle\r\n",
       "\r\n",
       "package \"AliasTest\" as E1  [[psysml:2a952753-6cea-46c9-bb61-930b04eb3411 ]]  {\r\n",
       "comp def \"P1\" as E2  <<(T,blue) part def>> [[psysml:92b6686b-ceec-4d5e-ab27-24733762f61c ]] {\r\n",
       "- - ports - -\r\n",
       "porig1\r\n",
       "}\r\n",
       "comp usage \"p1: P1\" as E4  <<(T,blue) part>> [[psysml:2b3d4312-7497-4457-990a-6ee5375442c5 ]] {\r\n",
       "- - ports - -\r\n",
       "po1\\n//:>>P1::porig1// \r\n",
       "}\r\n",
       "comp usage \"p2: P1\" as E6  <<(T,blue) part>> [[psysml:09e69c42-70ff-4aed-b93c-c140a8b906a0 ]] {\r\n",
       "- - ports - -\r\n",
       "pdest\r\n",
       "}\r\n",
       "E4 - -:|> E2 [[psysml:5073669c-7652-4dd2-8e27-7490931f0c73 ]] \r\n",
       "E6 - -:|> E2 [[psysml:94875f8e-b487-466f-9f77-0e1d93a514ac ]] \r\n",
       "}\r\n",
       "@enduml\r\n",
       "\n",
       "PlantUML version 1.2020.13(Sat Jun 13 12:26:38 UTC 2020)\n",
       "(EPL source distribution)\n",
       "Java Runtime: OpenJDK Runtime Environment\n",
       "JVM: OpenJDK 64-Bit Server VM\n",
       "Default Encoding: UTF-8\n",
       "Language: en\n",
       "Country: null\n",
       "--></g></svg>"
      ]
     },
     "execution_count": 15,
     "metadata": {},
     "output_type": "execute_result"
    }
   ],
   "source": [
    "%viz --style=\"POLYLINE\" --view=\"MIXED\" \"AliasTest\""
   ]
  },
  {
   "cell_type": "code",
   "execution_count": 16,
   "id": "5ffe9392",
   "metadata": {
    "execution": {
     "iopub.execute_input": "2021-06-30T09:16:07.221322Z",
     "iopub.status.busy": "2021-06-30T09:16:07.220831Z",
     "iopub.status.idle": "2021-06-30T09:16:07.317500Z",
     "shell.execute_reply": "2021-06-30T09:16:07.317877Z"
    }
   },
   "outputs": [
    {
     "data": {
      "image/svg+xml": [
       "<?xml version=\"1.0\" encoding=\"UTF-8\" standalone=\"no\"?><svg xmlns=\"http://www.w3.org/2000/svg\" xmlns:xlink=\"http://www.w3.org/1999/xlink\" contentScriptType=\"application/ecmascript\" contentStyleType=\"text/css\" height=\"268px\" preserveAspectRatio=\"none\" style=\"width:288px;height:268px;\" version=\"1.1\" viewBox=\"0 0 288 268\" width=\"288px\" zoomAndPan=\"magnify\"><defs/><g><!--MD5=[fbc87193dbaf4d95561dea2c320d4a47]\n",
       "cluster E1--><a href=\"psysml:2a952753-6cea-46c9-bb61-930b04eb3411\" target=\"_top\" title=\"psysml:2a952753-6cea-46c9-bb61-930b04eb3411\" xlink:actuate=\"onRequest\" xlink:href=\"psysml:2a952753-6cea-46c9-bb61-930b04eb3411\" xlink:show=\"new\" xlink:title=\"psysml:2a952753-6cea-46c9-bb61-930b04eb3411\" xlink:type=\"simple\"><polygon fill=\"#FFFFFF\" points=\"16,6,94,6,101,28.2969,266,28.2969,266,256,16,256,16,6\" style=\"stroke: #000000; stroke-width: 1.5;\"/><line style=\"stroke: #000000; stroke-width: 1.5;\" x1=\"16\" x2=\"101\" y1=\"28.2969\" y2=\"28.2969\"/><text fill=\"#000000\" font-family=\"sans-serif\" font-size=\"14\" font-weight=\"bold\" lengthAdjust=\"spacingAndGlyphs\" textLength=\"72\" x=\"20\" y=\"20.9951\">AliasTest</text></a><!--MD5=[b4997ac47864f28c2f74865a473b2911]\n",
       "class E2--><a href=\"psysml:92b6686b-ceec-4d5e-ab27-24733762f61c\" target=\"_top\" title=\"psysml:92b6686b-ceec-4d5e-ab27-24733762f61c\" xlink:actuate=\"onRequest\" xlink:href=\"psysml:92b6686b-ceec-4d5e-ab27-24733762f61c\" xlink:show=\"new\" xlink:title=\"psysml:92b6686b-ceec-4d5e-ab27-24733762f61c\" xlink:type=\"simple\"><rect fill=\"#FFFFFF\" height=\"75.5469\" id=\"E2\" style=\"stroke: #383838; stroke-width: 1.5;\" width=\"66\" x=\"184\" y=\"106\"/><text fill=\"#000000\" font-family=\"sans-serif\" font-size=\"12\" font-style=\"italic\" lengthAdjust=\"spacingAndGlyphs\" textLength=\"64\" x=\"185\" y=\"122.1387\">«part def»</text><text fill=\"#000000\" font-family=\"sans-serif\" font-size=\"12\" lengthAdjust=\"spacingAndGlyphs\" textLength=\"16\" x=\"209\" y=\"136.1074\">P1</text><line style=\"stroke: #383838; stroke-width: 1.5;\" x1=\"185\" x2=\"249\" y1=\"143.9375\" y2=\"143.9375\"/><text fill=\"#000000\" font-family=\"sans-serif\" font-size=\"11\" lengthAdjust=\"spacingAndGlyphs\" textLength=\"36\" x=\"190\" y=\"174.9526\">porig1</text><line style=\"stroke: #383838; stroke-width: 1.0;\" x1=\"185\" x2=\"202\" y1=\"158.3398\" y2=\"158.3398\"/><text fill=\"#000000\" font-family=\"sans-serif\" font-size=\"11\" lengthAdjust=\"spacingAndGlyphs\" textLength=\"30\" x=\"202\" y=\"161.6479\">ports</text><line style=\"stroke: #383838; stroke-width: 1.0;\" x1=\"232\" x2=\"249\" y1=\"158.3398\" y2=\"158.3398\"/></a><!--MD5=[ebbe1d658d1005bcc118a6aa81145e00]\n",
       "class E4--><a href=\"psysml:2b3d4312-7497-4457-990a-6ee5375442c5\" target=\"_top\" title=\"psysml:2b3d4312-7497-4457-990a-6ee5375442c5\" xlink:actuate=\"onRequest\" xlink:href=\"psysml:2b3d4312-7497-4457-990a-6ee5375442c5\" xlink:show=\"new\" xlink:title=\"psysml:2b3d4312-7497-4457-990a-6ee5375442c5\" xlink:type=\"simple\"><rect fill=\"#FFFFFF\" height=\"88.3516\" id=\"E4\" rx=\"10\" ry=\"10\" style=\"stroke: #383838; stroke-width: 1.5;\" width=\"92\" x=\"32\" y=\"41\"/><text fill=\"#000000\" font-family=\"sans-serif\" font-size=\"12\" font-style=\"italic\" lengthAdjust=\"spacingAndGlyphs\" textLength=\"40\" x=\"58\" y=\"57.1387\">«part»</text><text fill=\"#000000\" font-family=\"sans-serif\" font-size=\"12\" lengthAdjust=\"spacingAndGlyphs\" textLength=\"40\" x=\"58\" y=\"71.1074\">p1: P1</text><line style=\"stroke: #383838; stroke-width: 1.5;\" x1=\"33\" x2=\"123\" y1=\"78.9375\" y2=\"78.9375\"/><text fill=\"#000000\" font-family=\"sans-serif\" font-size=\"11\" lengthAdjust=\"spacingAndGlyphs\" textLength=\"21\" x=\"38\" y=\"109.9526\">po1</text><text fill=\"#000000\" font-family=\"sans-serif\" font-size=\"11\" font-style=\"italic\" lengthAdjust=\"spacingAndGlyphs\" textLength=\"80\" x=\"38\" y=\"122.7573\">:&gt;&gt;P1::porig1</text><line style=\"stroke: #383838; stroke-width: 1.0;\" x1=\"33\" x2=\"63\" y1=\"93.3398\" y2=\"93.3398\"/><text fill=\"#000000\" font-family=\"sans-serif\" font-size=\"11\" lengthAdjust=\"spacingAndGlyphs\" textLength=\"30\" x=\"63\" y=\"96.6479\">ports</text><line style=\"stroke: #383838; stroke-width: 1.0;\" x1=\"93\" x2=\"123\" y1=\"93.3398\" y2=\"93.3398\"/></a><!--MD5=[60a26617385b1d2d0262a64233df1f8d]\n",
       "class E6--><a href=\"psysml:09e69c42-70ff-4aed-b93c-c140a8b906a0\" target=\"_top\" title=\"psysml:09e69c42-70ff-4aed-b93c-c140a8b906a0\" xlink:actuate=\"onRequest\" xlink:href=\"psysml:09e69c42-70ff-4aed-b93c-c140a8b906a0\" xlink:show=\"new\" xlink:title=\"psysml:09e69c42-70ff-4aed-b93c-c140a8b906a0\" xlink:type=\"simple\"><rect fill=\"#FFFFFF\" height=\"75.5469\" id=\"E6\" rx=\"10\" ry=\"10\" style=\"stroke: #383838; stroke-width: 1.5;\" width=\"46\" x=\"55\" y=\"164\"/><text fill=\"#000000\" font-family=\"sans-serif\" font-size=\"12\" font-style=\"italic\" lengthAdjust=\"spacingAndGlyphs\" textLength=\"40\" x=\"58\" y=\"180.1387\">«part»</text><text fill=\"#000000\" font-family=\"sans-serif\" font-size=\"12\" lengthAdjust=\"spacingAndGlyphs\" textLength=\"40\" x=\"58\" y=\"194.1074\">p2: P1</text><line style=\"stroke: #383838; stroke-width: 1.5;\" x1=\"56\" x2=\"100\" y1=\"201.9375\" y2=\"201.9375\"/><text fill=\"#000000\" font-family=\"sans-serif\" font-size=\"11\" lengthAdjust=\"spacingAndGlyphs\" textLength=\"32\" x=\"61\" y=\"232.9526\">pdest</text><line style=\"stroke: #383838; stroke-width: 1.0;\" x1=\"56\" x2=\"63\" y1=\"216.3398\" y2=\"216.3398\"/><text fill=\"#000000\" font-family=\"sans-serif\" font-size=\"11\" lengthAdjust=\"spacingAndGlyphs\" textLength=\"30\" x=\"63\" y=\"219.6479\">ports</text><line style=\"stroke: #383838; stroke-width: 1.0;\" x1=\"93\" x2=\"100\" y1=\"216.3398\" y2=\"216.3398\"/></a><!--MD5=[185131fc0dcab0a4505a2ebe144e961b]\n",
       "link E4 to E2--><a href=\"psysml:5073669c-7652-4dd2-8e27-7490931f0c73\" target=\"_top\" title=\"psysml:5073669c-7652-4dd2-8e27-7490931f0c73\" xlink:actuate=\"onRequest\" xlink:href=\"psysml:5073669c-7652-4dd2-8e27-7490931f0c73\" xlink:show=\"new\" xlink:title=\"psysml:5073669c-7652-4dd2-8e27-7490931f0c73\" xlink:type=\"simple\"><path d=\"M124.24,104.48 C137.33,110.12 151.71,116.31 165.12,122.09 \" fill=\"none\" id=\"E4-&gt;E2\" style=\"stroke: #383838; stroke-width: 1.0;\"/><polygon fill=\"#FFFFFF\" points=\"183.81,130.14,163.5901,129.0649,169.1207,116.2036,183.81,130.14\" style=\"stroke: #383838; stroke-width: 1.0;\"/><ellipse cx=\"159.1438\" cy=\"124.9758\" fill=\"#383838\" rx=\"2\" ry=\"2\" style=\"stroke: #383838; stroke-width: 1.0;\"/><ellipse cx=\"163.0942\" cy=\"115.7892\" fill=\"#383838\" rx=\"2\" ry=\"2\" style=\"stroke: #383838; stroke-width: 1.0;\"/></a><!--MD5=[2351f337d6de0f557b50152ba70847b5]\n",
       "link E6 to E2--><a href=\"psysml:94875f8e-b487-466f-9f77-0e1d93a514ac\" target=\"_top\" title=\"psysml:94875f8e-b487-466f-9f77-0e1d93a514ac\" xlink:actuate=\"onRequest\" xlink:href=\"psysml:94875f8e-b487-466f-9f77-0e1d93a514ac\" xlink:show=\"new\" xlink:title=\"psysml:94875f8e-b487-466f-9f77-0e1d93a514ac\" xlink:type=\"simple\"><path d=\"M101.01,192.68 C118.33,185.35 143.15,174.84 165.3,165.46 \" fill=\"none\" id=\"E6-&gt;E2\" style=\"stroke: #383838; stroke-width: 1.0;\"/><polygon fill=\"#FFFFFF\" points=\"183.83,157.62,169.0651,171.4763,163.6046,158.5851,183.83,157.62\" style=\"stroke: #383838; stroke-width: 1.0;\"/><ellipse cx=\"163.0364\" cy=\"171.8579\" fill=\"#383838\" rx=\"2\" ry=\"2\" style=\"stroke: #383838; stroke-width: 1.0;\"/><ellipse cx=\"159.1361\" cy=\"162.6499\" fill=\"#383838\" rx=\"2\" ry=\"2\" style=\"stroke: #383838; stroke-width: 1.0;\"/></a><!--MD5=[a70b8eafa2fcd36b4974e2398e4965ed]\n",
       "@startuml\r\n",
       "left to right direction\r\n",
       "skinparam monochrome true\r\n",
       "skinparam classbackgroundcolor white\r\n",
       "skinparam shadowing false\r\n",
       "skinparam wrapWidth 300\r\n",
       "hide circle\r\n",
       "\r\n",
       "package \"AliasTest\" as E1  [[psysml:2a952753-6cea-46c9-bb61-930b04eb3411 ]]  {\r\n",
       "comp def \"P1\" as E2  <<(T,blue) part def>> [[psysml:92b6686b-ceec-4d5e-ab27-24733762f61c ]] {\r\n",
       "- - ports - -\r\n",
       "porig1\r\n",
       "}\r\n",
       "comp usage \"p1: P1\" as E4  <<(T,blue) part>> [[psysml:2b3d4312-7497-4457-990a-6ee5375442c5 ]] {\r\n",
       "- - ports - -\r\n",
       "po1\\n//:>>P1::porig1// \r\n",
       "}\r\n",
       "comp usage \"p2: P1\" as E6  <<(T,blue) part>> [[psysml:09e69c42-70ff-4aed-b93c-c140a8b906a0 ]] {\r\n",
       "- - ports - -\r\n",
       "pdest\r\n",
       "}\r\n",
       "E4 - -:|> E2 [[psysml:5073669c-7652-4dd2-8e27-7490931f0c73 ]] \r\n",
       "E6 - -:|> E2 [[psysml:94875f8e-b487-466f-9f77-0e1d93a514ac ]] \r\n",
       "}\r\n",
       "@enduml\r\n",
       "\n",
       "PlantUML version 1.2020.13(Sat Jun 13 12:26:38 UTC 2020)\n",
       "(EPL source distribution)\n",
       "Java Runtime: OpenJDK Runtime Environment\n",
       "JVM: OpenJDK 64-Bit Server VM\n",
       "Default Encoding: UTF-8\n",
       "Language: en\n",
       "Country: null\n",
       "--></g></svg>"
      ]
     },
     "execution_count": 16,
     "metadata": {},
     "output_type": "execute_result"
    }
   ],
   "source": [
    "%viz --style=\"LR\" --view=\"Default\" \"AliasTest\""
   ]
  },
  {
   "cell_type": "code",
   "execution_count": 17,
   "id": "d845f46f",
   "metadata": {
    "execution": {
     "iopub.execute_input": "2021-06-30T09:16:07.369870Z",
     "iopub.status.busy": "2021-06-30T09:16:07.369140Z",
     "iopub.status.idle": "2021-06-30T09:16:07.457637Z",
     "shell.execute_reply": "2021-06-30T09:16:07.455314Z"
    }
   },
   "outputs": [
    {
     "data": {
      "image/svg+xml": [
       "<?xml version=\"1.0\" encoding=\"UTF-8\" standalone=\"no\"?><svg xmlns=\"http://www.w3.org/2000/svg\" xmlns:xlink=\"http://www.w3.org/1999/xlink\" contentScriptType=\"application/ecmascript\" contentStyleType=\"text/css\" height=\"268px\" preserveAspectRatio=\"none\" style=\"width:288px;height:268px;\" version=\"1.1\" viewBox=\"0 0 288 268\" width=\"288px\" zoomAndPan=\"magnify\"><defs/><g><!--MD5=[fbc87193dbaf4d95561dea2c320d4a47]\n",
       "cluster E1--><a href=\"psysml:2a952753-6cea-46c9-bb61-930b04eb3411\" target=\"_top\" title=\"psysml:2a952753-6cea-46c9-bb61-930b04eb3411\" xlink:actuate=\"onRequest\" xlink:href=\"psysml:2a952753-6cea-46c9-bb61-930b04eb3411\" xlink:show=\"new\" xlink:title=\"psysml:2a952753-6cea-46c9-bb61-930b04eb3411\" xlink:type=\"simple\"><polygon fill=\"#FFFFFF\" points=\"16,6,94,6,101,28.2969,266,28.2969,266,256,16,256,16,6\" style=\"stroke: #000000; stroke-width: 1.5;\"/><line style=\"stroke: #000000; stroke-width: 1.5;\" x1=\"16\" x2=\"101\" y1=\"28.2969\" y2=\"28.2969\"/><text fill=\"#000000\" font-family=\"sans-serif\" font-size=\"14\" font-weight=\"bold\" lengthAdjust=\"spacingAndGlyphs\" textLength=\"72\" x=\"20\" y=\"20.9951\">AliasTest</text></a><!--MD5=[b4997ac47864f28c2f74865a473b2911]\n",
       "class E2--><a href=\"psysml:92b6686b-ceec-4d5e-ab27-24733762f61c\" target=\"_top\" title=\"psysml:92b6686b-ceec-4d5e-ab27-24733762f61c\" xlink:actuate=\"onRequest\" xlink:href=\"psysml:92b6686b-ceec-4d5e-ab27-24733762f61c\" xlink:show=\"new\" xlink:title=\"psysml:92b6686b-ceec-4d5e-ab27-24733762f61c\" xlink:type=\"simple\"><rect fill=\"#FFFFFF\" height=\"75.5469\" id=\"E2\" style=\"stroke: #383838; stroke-width: 1.5;\" width=\"66\" x=\"184\" y=\"106\"/><text fill=\"#000000\" font-family=\"sans-serif\" font-size=\"12\" font-style=\"italic\" lengthAdjust=\"spacingAndGlyphs\" textLength=\"64\" x=\"185\" y=\"122.1387\">«part def»</text><text fill=\"#000000\" font-family=\"sans-serif\" font-size=\"12\" lengthAdjust=\"spacingAndGlyphs\" textLength=\"16\" x=\"209\" y=\"136.1074\">P1</text><line style=\"stroke: #383838; stroke-width: 1.5;\" x1=\"185\" x2=\"249\" y1=\"143.9375\" y2=\"143.9375\"/><text fill=\"#000000\" font-family=\"sans-serif\" font-size=\"11\" lengthAdjust=\"spacingAndGlyphs\" textLength=\"36\" x=\"190\" y=\"174.9526\">porig1</text><line style=\"stroke: #383838; stroke-width: 1.0;\" x1=\"185\" x2=\"202\" y1=\"158.3398\" y2=\"158.3398\"/><text fill=\"#000000\" font-family=\"sans-serif\" font-size=\"11\" lengthAdjust=\"spacingAndGlyphs\" textLength=\"30\" x=\"202\" y=\"161.6479\">ports</text><line style=\"stroke: #383838; stroke-width: 1.0;\" x1=\"232\" x2=\"249\" y1=\"158.3398\" y2=\"158.3398\"/></a><!--MD5=[ebbe1d658d1005bcc118a6aa81145e00]\n",
       "class E4--><a href=\"psysml:2b3d4312-7497-4457-990a-6ee5375442c5\" target=\"_top\" title=\"psysml:2b3d4312-7497-4457-990a-6ee5375442c5\" xlink:actuate=\"onRequest\" xlink:href=\"psysml:2b3d4312-7497-4457-990a-6ee5375442c5\" xlink:show=\"new\" xlink:title=\"psysml:2b3d4312-7497-4457-990a-6ee5375442c5\" xlink:type=\"simple\"><rect fill=\"#FFFFFF\" height=\"88.3516\" id=\"E4\" rx=\"10\" ry=\"10\" style=\"stroke: #383838; stroke-width: 1.5;\" width=\"92\" x=\"32\" y=\"41\"/><text fill=\"#000000\" font-family=\"sans-serif\" font-size=\"12\" font-style=\"italic\" lengthAdjust=\"spacingAndGlyphs\" textLength=\"40\" x=\"58\" y=\"57.1387\">«part»</text><text fill=\"#000000\" font-family=\"sans-serif\" font-size=\"12\" lengthAdjust=\"spacingAndGlyphs\" textLength=\"40\" x=\"58\" y=\"71.1074\">p1: P1</text><line style=\"stroke: #383838; stroke-width: 1.5;\" x1=\"33\" x2=\"123\" y1=\"78.9375\" y2=\"78.9375\"/><text fill=\"#000000\" font-family=\"sans-serif\" font-size=\"11\" lengthAdjust=\"spacingAndGlyphs\" textLength=\"21\" x=\"38\" y=\"109.9526\">po1</text><text fill=\"#000000\" font-family=\"sans-serif\" font-size=\"11\" font-style=\"italic\" lengthAdjust=\"spacingAndGlyphs\" textLength=\"80\" x=\"38\" y=\"122.7573\">:&gt;&gt;P1::porig1</text><line style=\"stroke: #383838; stroke-width: 1.0;\" x1=\"33\" x2=\"63\" y1=\"93.3398\" y2=\"93.3398\"/><text fill=\"#000000\" font-family=\"sans-serif\" font-size=\"11\" lengthAdjust=\"spacingAndGlyphs\" textLength=\"30\" x=\"63\" y=\"96.6479\">ports</text><line style=\"stroke: #383838; stroke-width: 1.0;\" x1=\"93\" x2=\"123\" y1=\"93.3398\" y2=\"93.3398\"/></a><!--MD5=[60a26617385b1d2d0262a64233df1f8d]\n",
       "class E6--><a href=\"psysml:09e69c42-70ff-4aed-b93c-c140a8b906a0\" target=\"_top\" title=\"psysml:09e69c42-70ff-4aed-b93c-c140a8b906a0\" xlink:actuate=\"onRequest\" xlink:href=\"psysml:09e69c42-70ff-4aed-b93c-c140a8b906a0\" xlink:show=\"new\" xlink:title=\"psysml:09e69c42-70ff-4aed-b93c-c140a8b906a0\" xlink:type=\"simple\"><rect fill=\"#FFFFFF\" height=\"75.5469\" id=\"E6\" rx=\"10\" ry=\"10\" style=\"stroke: #383838; stroke-width: 1.5;\" width=\"46\" x=\"55\" y=\"164\"/><text fill=\"#000000\" font-family=\"sans-serif\" font-size=\"12\" font-style=\"italic\" lengthAdjust=\"spacingAndGlyphs\" textLength=\"40\" x=\"58\" y=\"180.1387\">«part»</text><text fill=\"#000000\" font-family=\"sans-serif\" font-size=\"12\" lengthAdjust=\"spacingAndGlyphs\" textLength=\"40\" x=\"58\" y=\"194.1074\">p2: P1</text><line style=\"stroke: #383838; stroke-width: 1.5;\" x1=\"56\" x2=\"100\" y1=\"201.9375\" y2=\"201.9375\"/><text fill=\"#000000\" font-family=\"sans-serif\" font-size=\"11\" lengthAdjust=\"spacingAndGlyphs\" textLength=\"32\" x=\"61\" y=\"232.9526\">pdest</text><line style=\"stroke: #383838; stroke-width: 1.0;\" x1=\"56\" x2=\"63\" y1=\"216.3398\" y2=\"216.3398\"/><text fill=\"#000000\" font-family=\"sans-serif\" font-size=\"11\" lengthAdjust=\"spacingAndGlyphs\" textLength=\"30\" x=\"63\" y=\"219.6479\">ports</text><line style=\"stroke: #383838; stroke-width: 1.0;\" x1=\"93\" x2=\"100\" y1=\"216.3398\" y2=\"216.3398\"/></a><!--MD5=[185131fc0dcab0a4505a2ebe144e961b]\n",
       "link E4 to E2--><a href=\"psysml:5073669c-7652-4dd2-8e27-7490931f0c73\" target=\"_top\" title=\"psysml:5073669c-7652-4dd2-8e27-7490931f0c73\" xlink:actuate=\"onRequest\" xlink:href=\"psysml:5073669c-7652-4dd2-8e27-7490931f0c73\" xlink:show=\"new\" xlink:title=\"psysml:5073669c-7652-4dd2-8e27-7490931f0c73\" xlink:type=\"simple\"><path d=\"M124.24,104.48 C137.33,110.12 151.71,116.31 165.12,122.09 \" fill=\"none\" id=\"E4-&gt;E2\" style=\"stroke: #383838; stroke-width: 1.0;\"/><polygon fill=\"#FFFFFF\" points=\"183.81,130.14,163.5901,129.0649,169.1207,116.2036,183.81,130.14\" style=\"stroke: #383838; stroke-width: 1.0;\"/><ellipse cx=\"159.1438\" cy=\"124.9758\" fill=\"#383838\" rx=\"2\" ry=\"2\" style=\"stroke: #383838; stroke-width: 1.0;\"/><ellipse cx=\"163.0942\" cy=\"115.7892\" fill=\"#383838\" rx=\"2\" ry=\"2\" style=\"stroke: #383838; stroke-width: 1.0;\"/></a><!--MD5=[2351f337d6de0f557b50152ba70847b5]\n",
       "link E6 to E2--><a href=\"psysml:94875f8e-b487-466f-9f77-0e1d93a514ac\" target=\"_top\" title=\"psysml:94875f8e-b487-466f-9f77-0e1d93a514ac\" xlink:actuate=\"onRequest\" xlink:href=\"psysml:94875f8e-b487-466f-9f77-0e1d93a514ac\" xlink:show=\"new\" xlink:title=\"psysml:94875f8e-b487-466f-9f77-0e1d93a514ac\" xlink:type=\"simple\"><path d=\"M101.01,192.68 C118.33,185.35 143.15,174.84 165.3,165.46 \" fill=\"none\" id=\"E6-&gt;E2\" style=\"stroke: #383838; stroke-width: 1.0;\"/><polygon fill=\"#FFFFFF\" points=\"183.83,157.62,169.0651,171.4763,163.6046,158.5851,183.83,157.62\" style=\"stroke: #383838; stroke-width: 1.0;\"/><ellipse cx=\"163.0364\" cy=\"171.8579\" fill=\"#383838\" rx=\"2\" ry=\"2\" style=\"stroke: #383838; stroke-width: 1.0;\"/><ellipse cx=\"159.1361\" cy=\"162.6499\" fill=\"#383838\" rx=\"2\" ry=\"2\" style=\"stroke: #383838; stroke-width: 1.0;\"/></a><!--MD5=[a70b8eafa2fcd36b4974e2398e4965ed]\n",
       "@startuml\r\n",
       "left to right direction\r\n",
       "skinparam monochrome true\r\n",
       "skinparam classbackgroundcolor white\r\n",
       "skinparam shadowing false\r\n",
       "skinparam wrapWidth 300\r\n",
       "hide circle\r\n",
       "\r\n",
       "package \"AliasTest\" as E1  [[psysml:2a952753-6cea-46c9-bb61-930b04eb3411 ]]  {\r\n",
       "comp def \"P1\" as E2  <<(T,blue) part def>> [[psysml:92b6686b-ceec-4d5e-ab27-24733762f61c ]] {\r\n",
       "- - ports - -\r\n",
       "porig1\r\n",
       "}\r\n",
       "comp usage \"p1: P1\" as E4  <<(T,blue) part>> [[psysml:2b3d4312-7497-4457-990a-6ee5375442c5 ]] {\r\n",
       "- - ports - -\r\n",
       "po1\\n//:>>P1::porig1// \r\n",
       "}\r\n",
       "comp usage \"p2: P1\" as E6  <<(T,blue) part>> [[psysml:09e69c42-70ff-4aed-b93c-c140a8b906a0 ]] {\r\n",
       "- - ports - -\r\n",
       "pdest\r\n",
       "}\r\n",
       "E4 - -:|> E2 [[psysml:5073669c-7652-4dd2-8e27-7490931f0c73 ]] \r\n",
       "E6 - -:|> E2 [[psysml:94875f8e-b487-466f-9f77-0e1d93a514ac ]] \r\n",
       "}\r\n",
       "@enduml\r\n",
       "\n",
       "PlantUML version 1.2020.13(Sat Jun 13 12:26:38 UTC 2020)\n",
       "(EPL source distribution)\n",
       "Java Runtime: OpenJDK Runtime Environment\n",
       "JVM: OpenJDK 64-Bit Server VM\n",
       "Default Encoding: UTF-8\n",
       "Language: en\n",
       "Country: null\n",
       "--></g></svg>"
      ]
     },
     "execution_count": 17,
     "metadata": {},
     "output_type": "execute_result"
    }
   ],
   "source": [
    "%viz --style=\"LR\" --view=\"Tree\" \"AliasTest\""
   ]
  },
  {
   "cell_type": "code",
   "execution_count": 18,
   "id": "eb0ac654",
   "metadata": {
    "execution": {
     "iopub.execute_input": "2021-06-30T09:16:07.509981Z",
     "iopub.status.busy": "2021-06-30T09:16:07.509330Z",
     "iopub.status.idle": "2021-06-30T09:16:07.515620Z",
     "shell.execute_reply": "2021-06-30T09:16:07.516003Z"
    }
   },
   "outputs": [
    {
     "data": {
      "image/svg+xml": [
       "<?xml version=\"1.0\" encoding=\"UTF-8\" standalone=\"no\"?><svg xmlns=\"http://www.w3.org/2000/svg\" xmlns:xlink=\"http://www.w3.org/1999/xlink\" contentScriptType=\"application/ecmascript\" contentStyleType=\"text/css\" height=\"12px\" preserveAspectRatio=\"none\" style=\"width:12px;height:12px;\" version=\"1.1\" viewBox=\"0 0 12 12\" width=\"12px\" zoomAndPan=\"magnify\"><defs/><g><!--MD5=[19d285c9d72a204eba4e2cd117d745e8]\n",
       "@startuml\r\n",
       "left to right direction\r\n",
       "skinparam monochrome true\r\n",
       "skinparam classbackgroundcolor white\r\n",
       "skinparam shadowing false\r\n",
       "skinparam wrapWidth 300\r\n",
       "hide circle\r\n",
       "\r\n",
       "@enduml\r\n",
       "\n",
       "PlantUML version 1.2020.13(Sat Jun 13 12:26:38 UTC 2020)\n",
       "(EPL source distribution)\n",
       "Java Runtime: OpenJDK Runtime Environment\n",
       "JVM: OpenJDK 64-Bit Server VM\n",
       "Default Encoding: UTF-8\n",
       "Language: en\n",
       "Country: null\n",
       "--></g></svg>"
      ]
     },
     "execution_count": 18,
     "metadata": {},
     "output_type": "execute_result"
    }
   ],
   "source": [
    "%viz --style=\"LR\" --view=\"State\" \"AliasTest\""
   ]
  },
  {
   "cell_type": "code",
   "execution_count": 19,
   "id": "7f02b49e",
   "metadata": {
    "execution": {
     "iopub.execute_input": "2021-06-30T09:16:07.578559Z",
     "iopub.status.busy": "2021-06-30T09:16:07.578156Z",
     "iopub.status.idle": "2021-06-30T09:16:07.626030Z",
     "shell.execute_reply": "2021-06-30T09:16:07.625339Z"
    }
   },
   "outputs": [
    {
     "data": {
      "image/svg+xml": [
       "<?xml version=\"1.0\" encoding=\"UTF-8\" standalone=\"no\"?><svg xmlns=\"http://www.w3.org/2000/svg\" xmlns:xlink=\"http://www.w3.org/1999/xlink\" contentScriptType=\"application/ecmascript\" contentStyleType=\"text/css\" height=\"287px\" preserveAspectRatio=\"none\" style=\"width:308px;height:287px;\" version=\"1.1\" viewBox=\"0 0 308 287\" width=\"308px\" zoomAndPan=\"magnify\"><defs/><g><!--MD5=[fbc87193dbaf4d95561dea2c320d4a47]\n",
       "cluster E1--><a href=\"psysml:2a952753-6cea-46c9-bb61-930b04eb3411\" target=\"_top\" title=\"psysml:2a952753-6cea-46c9-bb61-930b04eb3411\" xlink:actuate=\"onRequest\" xlink:href=\"psysml:2a952753-6cea-46c9-bb61-930b04eb3411\" xlink:show=\"new\" xlink:title=\"psysml:2a952753-6cea-46c9-bb61-930b04eb3411\" xlink:type=\"simple\"><polygon fill=\"#FFFFFF\" points=\"16,6,94,6,101,28.2969,286,28.2969,286,275,16,275,16,6\" style=\"stroke: #000000; stroke-width: 1.5;\"/><line style=\"stroke: #000000; stroke-width: 1.5;\" x1=\"16\" x2=\"101\" y1=\"28.2969\" y2=\"28.2969\"/><text fill=\"#000000\" font-family=\"sans-serif\" font-size=\"14\" font-weight=\"bold\" lengthAdjust=\"spacingAndGlyphs\" textLength=\"72\" x=\"20\" y=\"20.9951\">AliasTest</text></a><!--MD5=[e4f7fae6ed58524ba242bb0b0d3be6b7]\n",
       "cluster E2--><a href=\"psysml:92b6686b-ceec-4d5e-ab27-24733762f61c\" target=\"_top\" title=\"psysml:92b6686b-ceec-4d5e-ab27-24733762f61c\" xlink:actuate=\"onRequest\" xlink:href=\"psysml:92b6686b-ceec-4d5e-ab27-24733762f61c\" xlink:show=\"new\" xlink:title=\"psysml:92b6686b-ceec-4d5e-ab27-24733762f61c\" xlink:type=\"simple\"><rect fill=\"#FFFFFF\" height=\"47\" id=\"E2\" style=\"stroke: #383838; stroke-width: 1.5;\" width=\"143\" x=\"28\" y=\"55\"/><rect fill=\"#F8F8F8\" height=\"37.9375\" style=\"stroke: #383838; stroke-width: 1.5;\" width=\"143\" x=\"28\" y=\"55\"/><text fill=\"#000000\" font-family=\"sans-serif\" font-size=\"12\" font-style=\"italic\" lengthAdjust=\"spacingAndGlyphs\" textLength=\"64\" x=\"67.5\" y=\"71.1387\">«part def»</text><text fill=\"#000000\" font-family=\"sans-serif\" font-size=\"12\" lengthAdjust=\"spacingAndGlyphs\" textLength=\"16\" x=\"91.5\" y=\"85.1074\">P1</text></a><!--MD5=[de5ec2e2e8f62f467e546659f5068c88]\n",
       "cluster E5--><a href=\"psysml:2b3d4312-7497-4457-990a-6ee5375442c5\" target=\"_top\" title=\"psysml:2b3d4312-7497-4457-990a-6ee5375442c5\" xlink:actuate=\"onRequest\" xlink:href=\"psysml:2b3d4312-7497-4457-990a-6ee5375442c5\" xlink:show=\"new\" xlink:title=\"psysml:2b3d4312-7497-4457-990a-6ee5375442c5\" xlink:type=\"simple\"><rect fill=\"#FFFFFF\" height=\"37\" id=\"E5\" rx=\"10\" ry=\"10\" style=\"stroke: #383838; stroke-width: 1.5;\" width=\"176.5\" x=\"93.5\" y=\"124\"/><rect fill=\"#F8F8F8\" height=\"23.9688\" rx=\"10\" ry=\"10\" style=\"stroke: #F8F8F8; stroke-width: 1.5;\" width=\"176.5\" x=\"93.5\" y=\"124\"/><rect fill=\"#F8F8F8\" height=\"10\" style=\"stroke: #F8F8F8; stroke-width: 1.5;\" width=\"176.5\" x=\"93.5\" y=\"137.9688\"/><rect fill=\"none\" height=\"37\" id=\"E5\" rx=\"10\" ry=\"10\" style=\"stroke: #383838; stroke-width: 1.5;\" width=\"176.5\" x=\"93.5\" y=\"124\"/><text fill=\"#000000\" font-family=\"sans-serif\" font-size=\"12\" lengthAdjust=\"spacingAndGlyphs\" textLength=\"40\" x=\"161.75\" y=\"140.1387\">p1: P1</text><line style=\"stroke: #383838; stroke-width: 1.0;\" x1=\"93.5\" x2=\"270\" y1=\"147.9688\" y2=\"147.9688\"/></a><!--MD5=[168fadf3d0c3fd93dd5d6da1b1d7ab76]\n",
       "cluster E7--><a href=\"psysml:09e69c42-70ff-4aed-b93c-c140a8b906a0\" target=\"_top\" title=\"psysml:09e69c42-70ff-4aed-b93c-c140a8b906a0\" xlink:actuate=\"onRequest\" xlink:href=\"psysml:09e69c42-70ff-4aed-b93c-c140a8b906a0\" xlink:show=\"new\" xlink:title=\"psysml:09e69c42-70ff-4aed-b93c-c140a8b906a0\" xlink:type=\"simple\"><rect fill=\"#FFFFFF\" height=\"47\" id=\"E7\" rx=\"10\" ry=\"10\" style=\"stroke: #383838; stroke-width: 1.5;\" width=\"133\" x=\"28\" y=\"198\"/><rect fill=\"#F8F8F8\" height=\"23.9688\" rx=\"10\" ry=\"10\" style=\"stroke: #F8F8F8; stroke-width: 1.5;\" width=\"133\" x=\"28\" y=\"198\"/><rect fill=\"#F8F8F8\" height=\"10\" style=\"stroke: #F8F8F8; stroke-width: 1.5;\" width=\"133\" x=\"28\" y=\"211.9688\"/><rect fill=\"none\" height=\"47\" id=\"E7\" rx=\"10\" ry=\"10\" style=\"stroke: #383838; stroke-width: 1.5;\" width=\"133\" x=\"28\" y=\"198\"/><text fill=\"#000000\" font-family=\"sans-serif\" font-size=\"12\" lengthAdjust=\"spacingAndGlyphs\" textLength=\"40\" x=\"74.5\" y=\"214.1387\">p2: P1</text><line style=\"stroke: #383838; stroke-width: 1.0;\" x1=\"28\" x2=\"161\" y1=\"221.9688\" y2=\"221.9688\"/></a><text fill=\"#000000\" font-family=\"sans-serif\" font-size=\"14\" lengthAdjust=\"spacingAndGlyphs\" textLength=\"44\" x=\"24\" y=\"120.9951\">porig1</text><rect fill=\"#383838\" height=\"12\" style=\"stroke: #F8F8F8; stroke-width: 1.5;\" width=\"12\" x=\"40\" y=\"96\"/><text fill=\"#000000\" font-family=\"sans-serif\" font-size=\"14\" lengthAdjust=\"spacingAndGlyphs\" textLength=\"44\" x=\"24\" y=\"33.6982\">porig1</text><rect fill=\"#383838\" height=\"12\" style=\"stroke: #F8F8F8; stroke-width: 1.5;\" width=\"12\" x=\"40\" y=\"49\"/><text fill=\"#000000\" font-family=\"sans-serif\" font-size=\"14\" lengthAdjust=\"spacingAndGlyphs\" textLength=\"27\" x=\"98\" y=\"179.9951\">po1</text><rect fill=\"#383838\" height=\"12\" style=\"stroke: #F8F8F8; stroke-width: 1.5;\" width=\"12\" x=\"105.5\" y=\"155\"/><text fill=\"#000000\" font-family=\"sans-serif\" font-size=\"14\" lengthAdjust=\"spacingAndGlyphs\" textLength=\"40\" x=\"26\" y=\"263.9951\">pdest</text><rect fill=\"#383838\" height=\"12\" style=\"stroke: #F8F8F8; stroke-width: 1.5;\" width=\"12\" x=\"40\" y=\"239\"/><text fill=\"#000000\" font-family=\"sans-serif\" font-size=\"14\" lengthAdjust=\"spacingAndGlyphs\" textLength=\"40\" x=\"26\" y=\"176.6982\">pdest</text><rect fill=\"#383838\" height=\"12\" style=\"stroke: #F8F8F8; stroke-width: 1.5;\" width=\"12\" x=\"40\" y=\"192\"/><!--MD5=[60ac2c0cde89d4308155b0484e57a8ec]\n",
       "link E9 to E6--><a href=\"psysml:d88f1dc1-ed41-4b97-9842-84a04c2c1d2b\" target=\"_top\" title=\"psysml:d88f1dc1-ed41-4b97-9842-84a04c2c1d2b\" xlink:actuate=\"onRequest\" xlink:href=\"psysml:d88f1dc1-ed41-4b97-9842-84a04c2c1d2b\" xlink:show=\"new\" xlink:title=\"psysml:d88f1dc1-ed41-4b97-9842-84a04c2c1d2b\" xlink:type=\"simple\"><path d=\"M47.45,204.28 C49.04,212.72 54.53,206.76 60,203 C78.05,190.58 103.18,180.75 109.18,167.1 \" fill=\"none\" id=\"E9-E6\" style=\"stroke: #383838; stroke-width: 3.0;\"/></a><!--MD5=[60ac2c0cde89d4308155b0484e57a8ec]\n",
       "link E9 to E6--><a href=\"psysml:619a1562-63e5-4ed2-9546-f25d2cdc049d\" target=\"_top\" title=\"psysml:619a1562-63e5-4ed2-9546-f25d2cdc049d\" xlink:actuate=\"onRequest\" xlink:href=\"psysml:619a1562-63e5-4ed2-9546-f25d2cdc049d\" xlink:show=\"new\" xlink:title=\"psysml:619a1562-63e5-4ed2-9546-f25d2cdc049d\" xlink:type=\"simple\"><path d=\"M47.29,191.73 C48.63,178.16 54.33,171.9 60,168 C77.41,156.02 101.39,146.46 108.46,154.58 \" fill=\"none\" id=\"E9-E6-1\" style=\"stroke: #383838; stroke-width: 3.0;\"/></a><!--MD5=[e6e3653897622cfd653d49f665f74dba]\n",
       "@startuml\r\n",
       "skinparam ranksep 10\r\n",
       "skinparam rectangle {\r\n",
       " backgroundColor<<block>> LightGreen\r\n",
       "}\r\n",
       "left to right direction\r\n",
       "skinparam monochrome true\r\n",
       "skinparam classbackgroundcolor white\r\n",
       "skinparam shadowing false\r\n",
       "skinparam wrapWidth 300\r\n",
       "hide circle\r\n",
       "\r\n",
       "package \"AliasTest\" as E1  [[psysml:2a952753-6cea-46c9-bb61-930b04eb3411 ]]  {\r\n",
       "rec def \"P1\" as E2  <<(T,blue) part def>> [[psysml:92b6686b-ceec-4d5e-ab27-24733762f61c ]] {\r\n",
       "portin \"porig1\" as E3  <<(T,blue) port>> [[psysml:ea24ffa6-0b43-4ed9-8037-2e87c3ddc217 ]] \r\n",
       "portin \"porig1\" as E4  <<(T,blue) port>> [[psysml:ea24ffa6-0b43-4ed9-8037-2e87c3ddc217 ]] \r\n",
       "}\r\n",
       "rec usage \"p1: P1\" as E5  [[psysml:2b3d4312-7497-4457-990a-6ee5375442c5 ]] {\r\n",
       "portin \"po1\" as E6  <<(T,blue) port>> [[psysml:dd05f1a1-221f-4ab1-8a14-dfadf20b8a26 ]] \r\n",
       "}\r\n",
       "rec usage \"p2: P1\" as E7  [[psysml:09e69c42-70ff-4aed-b93c-c140a8b906a0 ]] {\r\n",
       "portin \"pdest\" as E8  <<(T,blue) port>> [[psysml:af7521ab-a154-4c67-8a1e-396c259ea1b5 ]] \r\n",
       "portin \"pdest\" as E9  <<(T,blue) port>> [[psysml:af7521ab-a154-4c67-8a1e-396c259ea1b5 ]] \r\n",
       "}\r\n",
       "E9 -[thickness=3]- E6 [[psysml:d88f1dc1-ed41-4b97-9842-84a04c2c1d2b ]] \r\n",
       "E9 -[thickness=3]- E6 [[psysml:619a1562-63e5-4ed2-9546-f25d2cdc049d ]] \r\n",
       "}\r\n",
       "@enduml\r\n",
       "\n",
       "PlantUML version 1.2020.13(Sat Jun 13 12:26:38 UTC 2020)\n",
       "(EPL source distribution)\n",
       "Java Runtime: OpenJDK Runtime Environment\n",
       "JVM: OpenJDK 64-Bit Server VM\n",
       "Default Encoding: UTF-8\n",
       "Language: en\n",
       "Country: null\n",
       "--></g></svg>"
      ]
     },
     "execution_count": 19,
     "metadata": {},
     "output_type": "execute_result"
    }
   ],
   "source": [
    "%viz --style=\"LR\" --view=\"Interconnection\" \"AliasTest\""
   ]
  },
  {
   "cell_type": "code",
   "execution_count": 20,
   "id": "47800f1a",
   "metadata": {
    "execution": {
     "iopub.execute_input": "2021-06-30T09:16:07.680122Z",
     "iopub.status.busy": "2021-06-30T09:16:07.679547Z",
     "iopub.status.idle": "2021-06-30T09:16:07.699724Z",
     "shell.execute_reply": "2021-06-30T09:16:07.699237Z"
    }
   },
   "outputs": [
    {
     "data": {
      "image/svg+xml": [
       "<?xml version=\"1.0\" encoding=\"UTF-8\" standalone=\"no\"?><svg xmlns=\"http://www.w3.org/2000/svg\" xmlns:xlink=\"http://www.w3.org/1999/xlink\" contentScriptType=\"application/ecmascript\" contentStyleType=\"text/css\" height=\"12px\" preserveAspectRatio=\"none\" style=\"width:12px;height:12px;\" version=\"1.1\" viewBox=\"0 0 12 12\" width=\"12px\" zoomAndPan=\"magnify\"><defs/><g><!--MD5=[7aeb398939421629f6affaa4a1a7b125]\n",
       "@startuml\r\n",
       "skinparam ranksep 8\r\n",
       "left to right direction\r\n",
       "skinparam monochrome true\r\n",
       "skinparam classbackgroundcolor white\r\n",
       "skinparam shadowing false\r\n",
       "skinparam wrapWidth 300\r\n",
       "hide circle\r\n",
       "\r\n",
       "@enduml\r\n",
       "\n",
       "PlantUML version 1.2020.13(Sat Jun 13 12:26:38 UTC 2020)\n",
       "(EPL source distribution)\n",
       "Java Runtime: OpenJDK Runtime Environment\n",
       "JVM: OpenJDK 64-Bit Server VM\n",
       "Default Encoding: UTF-8\n",
       "Language: en\n",
       "Country: null\n",
       "--></g></svg>"
      ]
     },
     "execution_count": 20,
     "metadata": {},
     "output_type": "execute_result"
    }
   ],
   "source": [
    "%viz --style=\"LR\" --view=\"Action\" \"AliasTest\""
   ]
  },
  {
   "cell_type": "code",
   "execution_count": 21,
   "id": "6a8ce52e",
   "metadata": {
    "execution": {
     "iopub.execute_input": "2021-06-30T09:16:07.749330Z",
     "iopub.status.busy": "2021-06-30T09:16:07.748764Z",
     "iopub.status.idle": "2021-06-30T09:16:07.824314Z",
     "shell.execute_reply": "2021-06-30T09:16:07.824726Z"
    }
   },
   "outputs": [
    {
     "data": {
      "image/svg+xml": [
       "<?xml version=\"1.0\" encoding=\"UTF-8\" standalone=\"no\"?><svg xmlns=\"http://www.w3.org/2000/svg\" xmlns:xlink=\"http://www.w3.org/1999/xlink\" contentScriptType=\"application/ecmascript\" contentStyleType=\"text/css\" height=\"268px\" preserveAspectRatio=\"none\" style=\"width:288px;height:268px;\" version=\"1.1\" viewBox=\"0 0 288 268\" width=\"288px\" zoomAndPan=\"magnify\"><defs/><g><!--MD5=[fbc87193dbaf4d95561dea2c320d4a47]\n",
       "cluster E1--><a href=\"psysml:2a952753-6cea-46c9-bb61-930b04eb3411\" target=\"_top\" title=\"psysml:2a952753-6cea-46c9-bb61-930b04eb3411\" xlink:actuate=\"onRequest\" xlink:href=\"psysml:2a952753-6cea-46c9-bb61-930b04eb3411\" xlink:show=\"new\" xlink:title=\"psysml:2a952753-6cea-46c9-bb61-930b04eb3411\" xlink:type=\"simple\"><polygon fill=\"#FFFFFF\" points=\"16,6,94,6,101,28.2969,266,28.2969,266,256,16,256,16,6\" style=\"stroke: #000000; stroke-width: 1.5;\"/><line style=\"stroke: #000000; stroke-width: 1.5;\" x1=\"16\" x2=\"101\" y1=\"28.2969\" y2=\"28.2969\"/><text fill=\"#000000\" font-family=\"sans-serif\" font-size=\"14\" font-weight=\"bold\" lengthAdjust=\"spacingAndGlyphs\" textLength=\"72\" x=\"20\" y=\"20.9951\">AliasTest</text></a><!--MD5=[b4997ac47864f28c2f74865a473b2911]\n",
       "class E2--><a href=\"psysml:92b6686b-ceec-4d5e-ab27-24733762f61c\" target=\"_top\" title=\"psysml:92b6686b-ceec-4d5e-ab27-24733762f61c\" xlink:actuate=\"onRequest\" xlink:href=\"psysml:92b6686b-ceec-4d5e-ab27-24733762f61c\" xlink:show=\"new\" xlink:title=\"psysml:92b6686b-ceec-4d5e-ab27-24733762f61c\" xlink:type=\"simple\"><rect fill=\"#FFFFFF\" height=\"75.5469\" id=\"E2\" style=\"stroke: #383838; stroke-width: 1.5;\" width=\"66\" x=\"184\" y=\"106\"/><text fill=\"#000000\" font-family=\"sans-serif\" font-size=\"12\" font-style=\"italic\" lengthAdjust=\"spacingAndGlyphs\" textLength=\"64\" x=\"185\" y=\"122.1387\">«part def»</text><text fill=\"#000000\" font-family=\"sans-serif\" font-size=\"12\" lengthAdjust=\"spacingAndGlyphs\" textLength=\"16\" x=\"209\" y=\"136.1074\">P1</text><line style=\"stroke: #383838; stroke-width: 1.5;\" x1=\"185\" x2=\"249\" y1=\"143.9375\" y2=\"143.9375\"/><text fill=\"#000000\" font-family=\"sans-serif\" font-size=\"11\" lengthAdjust=\"spacingAndGlyphs\" textLength=\"36\" x=\"190\" y=\"174.9526\">porig1</text><line style=\"stroke: #383838; stroke-width: 1.0;\" x1=\"185\" x2=\"202\" y1=\"158.3398\" y2=\"158.3398\"/><text fill=\"#000000\" font-family=\"sans-serif\" font-size=\"11\" lengthAdjust=\"spacingAndGlyphs\" textLength=\"30\" x=\"202\" y=\"161.6479\">ports</text><line style=\"stroke: #383838; stroke-width: 1.0;\" x1=\"232\" x2=\"249\" y1=\"158.3398\" y2=\"158.3398\"/></a><!--MD5=[ebbe1d658d1005bcc118a6aa81145e00]\n",
       "class E4--><a href=\"psysml:2b3d4312-7497-4457-990a-6ee5375442c5\" target=\"_top\" title=\"psysml:2b3d4312-7497-4457-990a-6ee5375442c5\" xlink:actuate=\"onRequest\" xlink:href=\"psysml:2b3d4312-7497-4457-990a-6ee5375442c5\" xlink:show=\"new\" xlink:title=\"psysml:2b3d4312-7497-4457-990a-6ee5375442c5\" xlink:type=\"simple\"><rect fill=\"#FFFFFF\" height=\"88.3516\" id=\"E4\" rx=\"10\" ry=\"10\" style=\"stroke: #383838; stroke-width: 1.5;\" width=\"92\" x=\"32\" y=\"41\"/><text fill=\"#000000\" font-family=\"sans-serif\" font-size=\"12\" font-style=\"italic\" lengthAdjust=\"spacingAndGlyphs\" textLength=\"40\" x=\"58\" y=\"57.1387\">«part»</text><text fill=\"#000000\" font-family=\"sans-serif\" font-size=\"12\" lengthAdjust=\"spacingAndGlyphs\" textLength=\"40\" x=\"58\" y=\"71.1074\">p1: P1</text><line style=\"stroke: #383838; stroke-width: 1.5;\" x1=\"33\" x2=\"123\" y1=\"78.9375\" y2=\"78.9375\"/><text fill=\"#000000\" font-family=\"sans-serif\" font-size=\"11\" lengthAdjust=\"spacingAndGlyphs\" textLength=\"21\" x=\"38\" y=\"109.9526\">po1</text><text fill=\"#000000\" font-family=\"sans-serif\" font-size=\"11\" font-style=\"italic\" lengthAdjust=\"spacingAndGlyphs\" textLength=\"80\" x=\"38\" y=\"122.7573\">:&gt;&gt;P1::porig1</text><line style=\"stroke: #383838; stroke-width: 1.0;\" x1=\"33\" x2=\"63\" y1=\"93.3398\" y2=\"93.3398\"/><text fill=\"#000000\" font-family=\"sans-serif\" font-size=\"11\" lengthAdjust=\"spacingAndGlyphs\" textLength=\"30\" x=\"63\" y=\"96.6479\">ports</text><line style=\"stroke: #383838; stroke-width: 1.0;\" x1=\"93\" x2=\"123\" y1=\"93.3398\" y2=\"93.3398\"/></a><!--MD5=[60a26617385b1d2d0262a64233df1f8d]\n",
       "class E6--><a href=\"psysml:09e69c42-70ff-4aed-b93c-c140a8b906a0\" target=\"_top\" title=\"psysml:09e69c42-70ff-4aed-b93c-c140a8b906a0\" xlink:actuate=\"onRequest\" xlink:href=\"psysml:09e69c42-70ff-4aed-b93c-c140a8b906a0\" xlink:show=\"new\" xlink:title=\"psysml:09e69c42-70ff-4aed-b93c-c140a8b906a0\" xlink:type=\"simple\"><rect fill=\"#FFFFFF\" height=\"75.5469\" id=\"E6\" rx=\"10\" ry=\"10\" style=\"stroke: #383838; stroke-width: 1.5;\" width=\"46\" x=\"55\" y=\"164\"/><text fill=\"#000000\" font-family=\"sans-serif\" font-size=\"12\" font-style=\"italic\" lengthAdjust=\"spacingAndGlyphs\" textLength=\"40\" x=\"58\" y=\"180.1387\">«part»</text><text fill=\"#000000\" font-family=\"sans-serif\" font-size=\"12\" lengthAdjust=\"spacingAndGlyphs\" textLength=\"40\" x=\"58\" y=\"194.1074\">p2: P1</text><line style=\"stroke: #383838; stroke-width: 1.5;\" x1=\"56\" x2=\"100\" y1=\"201.9375\" y2=\"201.9375\"/><text fill=\"#000000\" font-family=\"sans-serif\" font-size=\"11\" lengthAdjust=\"spacingAndGlyphs\" textLength=\"32\" x=\"61\" y=\"232.9526\">pdest</text><line style=\"stroke: #383838; stroke-width: 1.0;\" x1=\"56\" x2=\"63\" y1=\"216.3398\" y2=\"216.3398\"/><text fill=\"#000000\" font-family=\"sans-serif\" font-size=\"11\" lengthAdjust=\"spacingAndGlyphs\" textLength=\"30\" x=\"63\" y=\"219.6479\">ports</text><line style=\"stroke: #383838; stroke-width: 1.0;\" x1=\"93\" x2=\"100\" y1=\"216.3398\" y2=\"216.3398\"/></a><!--MD5=[185131fc0dcab0a4505a2ebe144e961b]\n",
       "link E4 to E2--><a href=\"psysml:5073669c-7652-4dd2-8e27-7490931f0c73\" target=\"_top\" title=\"psysml:5073669c-7652-4dd2-8e27-7490931f0c73\" xlink:actuate=\"onRequest\" xlink:href=\"psysml:5073669c-7652-4dd2-8e27-7490931f0c73\" xlink:show=\"new\" xlink:title=\"psysml:5073669c-7652-4dd2-8e27-7490931f0c73\" xlink:type=\"simple\"><path d=\"M124.24,104.48 C137.33,110.12 151.71,116.31 165.12,122.09 \" fill=\"none\" id=\"E4-&gt;E2\" style=\"stroke: #383838; stroke-width: 1.0;\"/><polygon fill=\"#FFFFFF\" points=\"183.81,130.14,163.5901,129.0649,169.1207,116.2036,183.81,130.14\" style=\"stroke: #383838; stroke-width: 1.0;\"/><ellipse cx=\"159.1438\" cy=\"124.9758\" fill=\"#383838\" rx=\"2\" ry=\"2\" style=\"stroke: #383838; stroke-width: 1.0;\"/><ellipse cx=\"163.0942\" cy=\"115.7892\" fill=\"#383838\" rx=\"2\" ry=\"2\" style=\"stroke: #383838; stroke-width: 1.0;\"/></a><!--MD5=[2351f337d6de0f557b50152ba70847b5]\n",
       "link E6 to E2--><a href=\"psysml:94875f8e-b487-466f-9f77-0e1d93a514ac\" target=\"_top\" title=\"psysml:94875f8e-b487-466f-9f77-0e1d93a514ac\" xlink:actuate=\"onRequest\" xlink:href=\"psysml:94875f8e-b487-466f-9f77-0e1d93a514ac\" xlink:show=\"new\" xlink:title=\"psysml:94875f8e-b487-466f-9f77-0e1d93a514ac\" xlink:type=\"simple\"><path d=\"M101.01,192.68 C118.33,185.35 143.15,174.84 165.3,165.46 \" fill=\"none\" id=\"E6-&gt;E2\" style=\"stroke: #383838; stroke-width: 1.0;\"/><polygon fill=\"#FFFFFF\" points=\"183.83,157.62,169.0651,171.4763,163.6046,158.5851,183.83,157.62\" style=\"stroke: #383838; stroke-width: 1.0;\"/><ellipse cx=\"163.0364\" cy=\"171.8579\" fill=\"#383838\" rx=\"2\" ry=\"2\" style=\"stroke: #383838; stroke-width: 1.0;\"/><ellipse cx=\"159.1361\" cy=\"162.6499\" fill=\"#383838\" rx=\"2\" ry=\"2\" style=\"stroke: #383838; stroke-width: 1.0;\"/></a><!--MD5=[a70b8eafa2fcd36b4974e2398e4965ed]\n",
       "@startuml\r\n",
       "left to right direction\r\n",
       "skinparam monochrome true\r\n",
       "skinparam classbackgroundcolor white\r\n",
       "skinparam shadowing false\r\n",
       "skinparam wrapWidth 300\r\n",
       "hide circle\r\n",
       "\r\n",
       "package \"AliasTest\" as E1  [[psysml:2a952753-6cea-46c9-bb61-930b04eb3411 ]]  {\r\n",
       "comp def \"P1\" as E2  <<(T,blue) part def>> [[psysml:92b6686b-ceec-4d5e-ab27-24733762f61c ]] {\r\n",
       "- - ports - -\r\n",
       "porig1\r\n",
       "}\r\n",
       "comp usage \"p1: P1\" as E4  <<(T,blue) part>> [[psysml:2b3d4312-7497-4457-990a-6ee5375442c5 ]] {\r\n",
       "- - ports - -\r\n",
       "po1\\n//:>>P1::porig1// \r\n",
       "}\r\n",
       "comp usage \"p2: P1\" as E6  <<(T,blue) part>> [[psysml:09e69c42-70ff-4aed-b93c-c140a8b906a0 ]] {\r\n",
       "- - ports - -\r\n",
       "pdest\r\n",
       "}\r\n",
       "E4 - -:|> E2 [[psysml:5073669c-7652-4dd2-8e27-7490931f0c73 ]] \r\n",
       "E6 - -:|> E2 [[psysml:94875f8e-b487-466f-9f77-0e1d93a514ac ]] \r\n",
       "}\r\n",
       "@enduml\r\n",
       "\n",
       "PlantUML version 1.2020.13(Sat Jun 13 12:26:38 UTC 2020)\n",
       "(EPL source distribution)\n",
       "Java Runtime: OpenJDK Runtime Environment\n",
       "JVM: OpenJDK 64-Bit Server VM\n",
       "Default Encoding: UTF-8\n",
       "Language: en\n",
       "Country: null\n",
       "--></g></svg>"
      ]
     },
     "execution_count": 21,
     "metadata": {},
     "output_type": "execute_result"
    }
   ],
   "source": [
    "%viz --style=\"LR\" --view=\"Sequence\" \"AliasTest\""
   ]
  },
  {
   "cell_type": "code",
   "execution_count": 22,
   "id": "8bd1cb22",
   "metadata": {
    "execution": {
     "iopub.execute_input": "2021-06-30T09:16:07.875896Z",
     "iopub.status.busy": "2021-06-30T09:16:07.874793Z",
     "iopub.status.idle": "2021-06-30T09:16:07.946671Z",
     "shell.execute_reply": "2021-06-30T09:16:07.947055Z"
    }
   },
   "outputs": [
    {
     "data": {
      "image/svg+xml": [
       "<?xml version=\"1.0\" encoding=\"UTF-8\" standalone=\"no\"?><svg xmlns=\"http://www.w3.org/2000/svg\" xmlns:xlink=\"http://www.w3.org/1999/xlink\" contentScriptType=\"application/ecmascript\" contentStyleType=\"text/css\" height=\"268px\" preserveAspectRatio=\"none\" style=\"width:288px;height:268px;\" version=\"1.1\" viewBox=\"0 0 288 268\" width=\"288px\" zoomAndPan=\"magnify\"><defs/><g><!--MD5=[fbc87193dbaf4d95561dea2c320d4a47]\n",
       "cluster E1--><a href=\"psysml:2a952753-6cea-46c9-bb61-930b04eb3411\" target=\"_top\" title=\"psysml:2a952753-6cea-46c9-bb61-930b04eb3411\" xlink:actuate=\"onRequest\" xlink:href=\"psysml:2a952753-6cea-46c9-bb61-930b04eb3411\" xlink:show=\"new\" xlink:title=\"psysml:2a952753-6cea-46c9-bb61-930b04eb3411\" xlink:type=\"simple\"><polygon fill=\"#FFFFFF\" points=\"16,6,94,6,101,28.2969,266,28.2969,266,256,16,256,16,6\" style=\"stroke: #000000; stroke-width: 1.5;\"/><line style=\"stroke: #000000; stroke-width: 1.5;\" x1=\"16\" x2=\"101\" y1=\"28.2969\" y2=\"28.2969\"/><text fill=\"#000000\" font-family=\"sans-serif\" font-size=\"14\" font-weight=\"bold\" lengthAdjust=\"spacingAndGlyphs\" textLength=\"72\" x=\"20\" y=\"20.9951\">AliasTest</text></a><!--MD5=[b4997ac47864f28c2f74865a473b2911]\n",
       "class E2--><a href=\"psysml:92b6686b-ceec-4d5e-ab27-24733762f61c\" target=\"_top\" title=\"psysml:92b6686b-ceec-4d5e-ab27-24733762f61c\" xlink:actuate=\"onRequest\" xlink:href=\"psysml:92b6686b-ceec-4d5e-ab27-24733762f61c\" xlink:show=\"new\" xlink:title=\"psysml:92b6686b-ceec-4d5e-ab27-24733762f61c\" xlink:type=\"simple\"><rect fill=\"#FFFFFF\" height=\"75.5469\" id=\"E2\" style=\"stroke: #383838; stroke-width: 1.5;\" width=\"66\" x=\"184\" y=\"106\"/><text fill=\"#000000\" font-family=\"sans-serif\" font-size=\"12\" font-style=\"italic\" lengthAdjust=\"spacingAndGlyphs\" textLength=\"64\" x=\"185\" y=\"122.1387\">«part def»</text><text fill=\"#000000\" font-family=\"sans-serif\" font-size=\"12\" lengthAdjust=\"spacingAndGlyphs\" textLength=\"16\" x=\"209\" y=\"136.1074\">P1</text><line style=\"stroke: #383838; stroke-width: 1.5;\" x1=\"185\" x2=\"249\" y1=\"143.9375\" y2=\"143.9375\"/><text fill=\"#000000\" font-family=\"sans-serif\" font-size=\"11\" lengthAdjust=\"spacingAndGlyphs\" textLength=\"36\" x=\"190\" y=\"174.9526\">porig1</text><line style=\"stroke: #383838; stroke-width: 1.0;\" x1=\"185\" x2=\"202\" y1=\"158.3398\" y2=\"158.3398\"/><text fill=\"#000000\" font-family=\"sans-serif\" font-size=\"11\" lengthAdjust=\"spacingAndGlyphs\" textLength=\"30\" x=\"202\" y=\"161.6479\">ports</text><line style=\"stroke: #383838; stroke-width: 1.0;\" x1=\"232\" x2=\"249\" y1=\"158.3398\" y2=\"158.3398\"/></a><!--MD5=[ebbe1d658d1005bcc118a6aa81145e00]\n",
       "class E4--><a href=\"psysml:2b3d4312-7497-4457-990a-6ee5375442c5\" target=\"_top\" title=\"psysml:2b3d4312-7497-4457-990a-6ee5375442c5\" xlink:actuate=\"onRequest\" xlink:href=\"psysml:2b3d4312-7497-4457-990a-6ee5375442c5\" xlink:show=\"new\" xlink:title=\"psysml:2b3d4312-7497-4457-990a-6ee5375442c5\" xlink:type=\"simple\"><rect fill=\"#FFFFFF\" height=\"88.3516\" id=\"E4\" rx=\"10\" ry=\"10\" style=\"stroke: #383838; stroke-width: 1.5;\" width=\"92\" x=\"32\" y=\"41\"/><text fill=\"#000000\" font-family=\"sans-serif\" font-size=\"12\" font-style=\"italic\" lengthAdjust=\"spacingAndGlyphs\" textLength=\"40\" x=\"58\" y=\"57.1387\">«part»</text><text fill=\"#000000\" font-family=\"sans-serif\" font-size=\"12\" lengthAdjust=\"spacingAndGlyphs\" textLength=\"40\" x=\"58\" y=\"71.1074\">p1: P1</text><line style=\"stroke: #383838; stroke-width: 1.5;\" x1=\"33\" x2=\"123\" y1=\"78.9375\" y2=\"78.9375\"/><text fill=\"#000000\" font-family=\"sans-serif\" font-size=\"11\" lengthAdjust=\"spacingAndGlyphs\" textLength=\"21\" x=\"38\" y=\"109.9526\">po1</text><text fill=\"#000000\" font-family=\"sans-serif\" font-size=\"11\" font-style=\"italic\" lengthAdjust=\"spacingAndGlyphs\" textLength=\"80\" x=\"38\" y=\"122.7573\">:&gt;&gt;P1::porig1</text><line style=\"stroke: #383838; stroke-width: 1.0;\" x1=\"33\" x2=\"63\" y1=\"93.3398\" y2=\"93.3398\"/><text fill=\"#000000\" font-family=\"sans-serif\" font-size=\"11\" lengthAdjust=\"spacingAndGlyphs\" textLength=\"30\" x=\"63\" y=\"96.6479\">ports</text><line style=\"stroke: #383838; stroke-width: 1.0;\" x1=\"93\" x2=\"123\" y1=\"93.3398\" y2=\"93.3398\"/></a><!--MD5=[60a26617385b1d2d0262a64233df1f8d]\n",
       "class E6--><a href=\"psysml:09e69c42-70ff-4aed-b93c-c140a8b906a0\" target=\"_top\" title=\"psysml:09e69c42-70ff-4aed-b93c-c140a8b906a0\" xlink:actuate=\"onRequest\" xlink:href=\"psysml:09e69c42-70ff-4aed-b93c-c140a8b906a0\" xlink:show=\"new\" xlink:title=\"psysml:09e69c42-70ff-4aed-b93c-c140a8b906a0\" xlink:type=\"simple\"><rect fill=\"#FFFFFF\" height=\"75.5469\" id=\"E6\" rx=\"10\" ry=\"10\" style=\"stroke: #383838; stroke-width: 1.5;\" width=\"46\" x=\"55\" y=\"164\"/><text fill=\"#000000\" font-family=\"sans-serif\" font-size=\"12\" font-style=\"italic\" lengthAdjust=\"spacingAndGlyphs\" textLength=\"40\" x=\"58\" y=\"180.1387\">«part»</text><text fill=\"#000000\" font-family=\"sans-serif\" font-size=\"12\" lengthAdjust=\"spacingAndGlyphs\" textLength=\"40\" x=\"58\" y=\"194.1074\">p2: P1</text><line style=\"stroke: #383838; stroke-width: 1.5;\" x1=\"56\" x2=\"100\" y1=\"201.9375\" y2=\"201.9375\"/><text fill=\"#000000\" font-family=\"sans-serif\" font-size=\"11\" lengthAdjust=\"spacingAndGlyphs\" textLength=\"32\" x=\"61\" y=\"232.9526\">pdest</text><line style=\"stroke: #383838; stroke-width: 1.0;\" x1=\"56\" x2=\"63\" y1=\"216.3398\" y2=\"216.3398\"/><text fill=\"#000000\" font-family=\"sans-serif\" font-size=\"11\" lengthAdjust=\"spacingAndGlyphs\" textLength=\"30\" x=\"63\" y=\"219.6479\">ports</text><line style=\"stroke: #383838; stroke-width: 1.0;\" x1=\"93\" x2=\"100\" y1=\"216.3398\" y2=\"216.3398\"/></a><!--MD5=[185131fc0dcab0a4505a2ebe144e961b]\n",
       "link E4 to E2--><a href=\"psysml:5073669c-7652-4dd2-8e27-7490931f0c73\" target=\"_top\" title=\"psysml:5073669c-7652-4dd2-8e27-7490931f0c73\" xlink:actuate=\"onRequest\" xlink:href=\"psysml:5073669c-7652-4dd2-8e27-7490931f0c73\" xlink:show=\"new\" xlink:title=\"psysml:5073669c-7652-4dd2-8e27-7490931f0c73\" xlink:type=\"simple\"><path d=\"M124.24,104.48 C137.33,110.12 151.71,116.31 165.12,122.09 \" fill=\"none\" id=\"E4-&gt;E2\" style=\"stroke: #383838; stroke-width: 1.0;\"/><polygon fill=\"#FFFFFF\" points=\"183.81,130.14,163.5901,129.0649,169.1207,116.2036,183.81,130.14\" style=\"stroke: #383838; stroke-width: 1.0;\"/><ellipse cx=\"159.1438\" cy=\"124.9758\" fill=\"#383838\" rx=\"2\" ry=\"2\" style=\"stroke: #383838; stroke-width: 1.0;\"/><ellipse cx=\"163.0942\" cy=\"115.7892\" fill=\"#383838\" rx=\"2\" ry=\"2\" style=\"stroke: #383838; stroke-width: 1.0;\"/></a><!--MD5=[2351f337d6de0f557b50152ba70847b5]\n",
       "link E6 to E2--><a href=\"psysml:94875f8e-b487-466f-9f77-0e1d93a514ac\" target=\"_top\" title=\"psysml:94875f8e-b487-466f-9f77-0e1d93a514ac\" xlink:actuate=\"onRequest\" xlink:href=\"psysml:94875f8e-b487-466f-9f77-0e1d93a514ac\" xlink:show=\"new\" xlink:title=\"psysml:94875f8e-b487-466f-9f77-0e1d93a514ac\" xlink:type=\"simple\"><path d=\"M101.01,192.68 C118.33,185.35 143.15,174.84 165.3,165.46 \" fill=\"none\" id=\"E6-&gt;E2\" style=\"stroke: #383838; stroke-width: 1.0;\"/><polygon fill=\"#FFFFFF\" points=\"183.83,157.62,169.0651,171.4763,163.6046,158.5851,183.83,157.62\" style=\"stroke: #383838; stroke-width: 1.0;\"/><ellipse cx=\"163.0364\" cy=\"171.8579\" fill=\"#383838\" rx=\"2\" ry=\"2\" style=\"stroke: #383838; stroke-width: 1.0;\"/><ellipse cx=\"159.1361\" cy=\"162.6499\" fill=\"#383838\" rx=\"2\" ry=\"2\" style=\"stroke: #383838; stroke-width: 1.0;\"/></a><!--MD5=[a70b8eafa2fcd36b4974e2398e4965ed]\n",
       "@startuml\r\n",
       "left to right direction\r\n",
       "skinparam monochrome true\r\n",
       "skinparam classbackgroundcolor white\r\n",
       "skinparam shadowing false\r\n",
       "skinparam wrapWidth 300\r\n",
       "hide circle\r\n",
       "\r\n",
       "package \"AliasTest\" as E1  [[psysml:2a952753-6cea-46c9-bb61-930b04eb3411 ]]  {\r\n",
       "comp def \"P1\" as E2  <<(T,blue) part def>> [[psysml:92b6686b-ceec-4d5e-ab27-24733762f61c ]] {\r\n",
       "- - ports - -\r\n",
       "porig1\r\n",
       "}\r\n",
       "comp usage \"p1: P1\" as E4  <<(T,blue) part>> [[psysml:2b3d4312-7497-4457-990a-6ee5375442c5 ]] {\r\n",
       "- - ports - -\r\n",
       "po1\\n//:>>P1::porig1// \r\n",
       "}\r\n",
       "comp usage \"p2: P1\" as E6  <<(T,blue) part>> [[psysml:09e69c42-70ff-4aed-b93c-c140a8b906a0 ]] {\r\n",
       "- - ports - -\r\n",
       "pdest\r\n",
       "}\r\n",
       "E4 - -:|> E2 [[psysml:5073669c-7652-4dd2-8e27-7490931f0c73 ]] \r\n",
       "E6 - -:|> E2 [[psysml:94875f8e-b487-466f-9f77-0e1d93a514ac ]] \r\n",
       "}\r\n",
       "@enduml\r\n",
       "\n",
       "PlantUML version 1.2020.13(Sat Jun 13 12:26:38 UTC 2020)\n",
       "(EPL source distribution)\n",
       "Java Runtime: OpenJDK Runtime Environment\n",
       "JVM: OpenJDK 64-Bit Server VM\n",
       "Default Encoding: UTF-8\n",
       "Language: en\n",
       "Country: null\n",
       "--></g></svg>"
      ]
     },
     "execution_count": 22,
     "metadata": {},
     "output_type": "execute_result"
    }
   ],
   "source": [
    "%viz --style=\"LR\" --view=\"MIXED\" \"AliasTest\""
   ]
  },
  {
   "cell_type": "code",
   "execution_count": 23,
   "id": "541cbbe1",
   "metadata": {
    "execution": {
     "iopub.execute_input": "2021-06-30T09:16:07.999741Z",
     "iopub.status.busy": "2021-06-30T09:16:07.999287Z",
     "iopub.status.idle": "2021-06-30T09:16:08.119844Z",
     "shell.execute_reply": "2021-06-30T09:16:08.117731Z"
    }
   },
   "outputs": [
    {
     "data": {
      "image/svg+xml": [
       "<?xml version=\"1.0\" encoding=\"UTF-8\" standalone=\"no\"?><svg xmlns=\"http://www.w3.org/2000/svg\" xmlns:xlink=\"http://www.w3.org/1999/xlink\" contentScriptType=\"application/ecmascript\" contentStyleType=\"text/css\" height=\"281px\" preserveAspectRatio=\"none\" style=\"width:263px;height:281px;\" version=\"1.1\" viewBox=\"0 0 263 281\" width=\"263px\" zoomAndPan=\"magnify\"><defs><filter height=\"300%\" id=\"f1v8o7bgw7d177\" width=\"300%\" x=\"-1\" y=\"-1\"><feGaussianBlur result=\"blurOut\" stdDeviation=\"2.0\"/><feColorMatrix in=\"blurOut\" result=\"blurOut2\" type=\"matrix\" values=\"0 0 0 0 0 0 0 0 0 0 0 0 0 0 0 0 0 0 .4 0\"/><feOffset dx=\"4.0\" dy=\"4.0\" in=\"blurOut2\" result=\"blurOut3\"/><feBlend in=\"SourceGraphic\" in2=\"blurOut3\" mode=\"normal\"/></filter></defs><g><!--MD5=[fbc87193dbaf4d95561dea2c320d4a47]\n",
       "cluster E1--><a href=\"psysml:2a952753-6cea-46c9-bb61-930b04eb3411\" target=\"_top\" title=\"psysml:2a952753-6cea-46c9-bb61-930b04eb3411\" xlink:actuate=\"onRequest\" xlink:href=\"psysml:2a952753-6cea-46c9-bb61-930b04eb3411\" xlink:show=\"new\" xlink:title=\"psysml:2a952753-6cea-46c9-bb61-930b04eb3411\" xlink:type=\"simple\"><polygon fill=\"#FFFFFF\" filter=\"url(#f1v8o7bgw7d177)\" points=\"16,6,94,6,101,28.2969,241,28.2969,241,269,16,269,16,6\" style=\"stroke: #000000; stroke-width: 1.5;\"/><line style=\"stroke: #000000; stroke-width: 1.5;\" x1=\"16\" x2=\"101\" y1=\"28.2969\" y2=\"28.2969\"/><text fill=\"#000000\" font-family=\"sans-serif\" font-size=\"14\" font-weight=\"bold\" lengthAdjust=\"spacingAndGlyphs\" textLength=\"72\" x=\"20\" y=\"20.9951\">AliasTest</text></a><!--MD5=[b4997ac47864f28c2f74865a473b2911]\n",
       "class E2--><a href=\"psysml:92b6686b-ceec-4d5e-ab27-24733762f61c\" target=\"_top\" title=\"psysml:92b6686b-ceec-4d5e-ab27-24733762f61c\" xlink:actuate=\"onRequest\" xlink:href=\"psysml:92b6686b-ceec-4d5e-ab27-24733762f61c\" xlink:show=\"new\" xlink:title=\"psysml:92b6686b-ceec-4d5e-ab27-24733762f61c\" xlink:type=\"simple\"><rect fill=\"#FEFECE\" filter=\"url(#f1v8o7bgw7d177)\" height=\"75.5469\" id=\"E2\" style=\"stroke: #A80036; stroke-width: 1.5;\" width=\"66\" x=\"84\" y=\"177\"/><text fill=\"#000000\" font-family=\"sans-serif\" font-size=\"12\" font-style=\"italic\" lengthAdjust=\"spacingAndGlyphs\" textLength=\"64\" x=\"85\" y=\"193.1387\">«part def»</text><text fill=\"#000000\" font-family=\"sans-serif\" font-size=\"12\" lengthAdjust=\"spacingAndGlyphs\" textLength=\"16\" x=\"109\" y=\"207.1074\">P1</text><line style=\"stroke: #A80036; stroke-width: 1.5;\" x1=\"85\" x2=\"149\" y1=\"214.9375\" y2=\"214.9375\"/><text fill=\"#000000\" font-family=\"sans-serif\" font-size=\"11\" lengthAdjust=\"spacingAndGlyphs\" textLength=\"36\" x=\"90\" y=\"245.9526\">porig1</text><line style=\"stroke: #A80036; stroke-width: 1.0;\" x1=\"85\" x2=\"102\" y1=\"229.3398\" y2=\"229.3398\"/><text fill=\"#000000\" font-family=\"sans-serif\" font-size=\"11\" lengthAdjust=\"spacingAndGlyphs\" textLength=\"30\" x=\"102\" y=\"232.6479\">ports</text><line style=\"stroke: #A80036; stroke-width: 1.0;\" x1=\"132\" x2=\"149\" y1=\"229.3398\" y2=\"229.3398\"/></a><!--MD5=[ebbe1d658d1005bcc118a6aa81145e00]\n",
       "class E4--><a href=\"psysml:2b3d4312-7497-4457-990a-6ee5375442c5\" target=\"_top\" title=\"psysml:2b3d4312-7497-4457-990a-6ee5375442c5\" xlink:actuate=\"onRequest\" xlink:href=\"psysml:2b3d4312-7497-4457-990a-6ee5375442c5\" xlink:show=\"new\" xlink:title=\"psysml:2b3d4312-7497-4457-990a-6ee5375442c5\" xlink:type=\"simple\"><rect fill=\"#FEFECE\" filter=\"url(#f1v8o7bgw7d177)\" height=\"76.4922\" id=\"E4\" rx=\"10\" ry=\"10\" style=\"stroke: #A80036; stroke-width: 1.5;\" width=\"112\" x=\"113\" y=\"41\"/><text fill=\"#000000\" font-family=\"sans-serif\" font-size=\"12\" font-style=\"italic\" lengthAdjust=\"spacingAndGlyphs\" textLength=\"40\" x=\"149\" y=\"57.1387\">«part»</text><text fill=\"#000000\" font-family=\"sans-serif\" font-size=\"12\" lengthAdjust=\"spacingAndGlyphs\" textLength=\"40\" x=\"149\" y=\"71.1074\">p1: P1</text><line style=\"stroke: #A80036; stroke-width: 1.5;\" x1=\"114\" x2=\"224\" y1=\"78.9375\" y2=\"78.9375\"/><path d=\"M120.9167,100.6589 L120.9167,109.8255 L121.8333,109.8255 L121.8333,100.6589 M124.5833,100.6589 L124.5833,109.8255 L131.9167,105.2422 L124.5833,100.6589 L125.5,102.0339 L130.5417,105.2422 L125.5,108.4505 L125.5,102.0339 \" fill=\"#000000\" style=\"stroke: ; stroke-width: 0.0; stroke-dasharray: ;\"/><text fill=\"#000000\" font-family=\"sans-serif\" font-size=\"11\" lengthAdjust=\"spacingAndGlyphs\" textLength=\"21\" x=\"136\" y=\"110.8979\">po1</text><text fill=\"#000000\" font-family=\"sans-serif\" font-size=\"11\" lengthAdjust=\"spacingAndGlyphs\" text-decoration=\"line-through\" textLength=\"58\" x=\"161\" y=\"110.8979\">P1::porig1</text><line style=\"stroke: #A80036; stroke-width: 1.0;\" x1=\"114\" x2=\"154\" y1=\"93.3398\" y2=\"93.3398\"/><text fill=\"#000000\" font-family=\"sans-serif\" font-size=\"11\" lengthAdjust=\"spacingAndGlyphs\" textLength=\"30\" x=\"154\" y=\"96.6479\">ports</text><line style=\"stroke: #A80036; stroke-width: 1.0;\" x1=\"184\" x2=\"224\" y1=\"93.3398\" y2=\"93.3398\"/></a><!--MD5=[60a26617385b1d2d0262a64233df1f8d]\n",
       "class E6--><a href=\"psysml:09e69c42-70ff-4aed-b93c-c140a8b906a0\" target=\"_top\" title=\"psysml:09e69c42-70ff-4aed-b93c-c140a8b906a0\" xlink:actuate=\"onRequest\" xlink:href=\"psysml:09e69c42-70ff-4aed-b93c-c140a8b906a0\" xlink:show=\"new\" xlink:title=\"psysml:09e69c42-70ff-4aed-b93c-c140a8b906a0\" xlink:type=\"simple\"><rect fill=\"#FEFECE\" filter=\"url(#f1v8o7bgw7d177)\" height=\"75.5469\" id=\"E6\" rx=\"10\" ry=\"10\" style=\"stroke: #A80036; stroke-width: 1.5;\" width=\"46\" x=\"32\" y=\"41\"/><text fill=\"#000000\" font-family=\"sans-serif\" font-size=\"12\" font-style=\"italic\" lengthAdjust=\"spacingAndGlyphs\" textLength=\"40\" x=\"35\" y=\"57.1387\">«part»</text><text fill=\"#000000\" font-family=\"sans-serif\" font-size=\"12\" lengthAdjust=\"spacingAndGlyphs\" textLength=\"40\" x=\"35\" y=\"71.1074\">p2: P1</text><line style=\"stroke: #A80036; stroke-width: 1.5;\" x1=\"33\" x2=\"77\" y1=\"78.9375\" y2=\"78.9375\"/><text fill=\"#000000\" font-family=\"sans-serif\" font-size=\"11\" lengthAdjust=\"spacingAndGlyphs\" textLength=\"32\" x=\"38\" y=\"109.9526\">pdest</text><line style=\"stroke: #A80036; stroke-width: 1.0;\" x1=\"33\" x2=\"40\" y1=\"93.3398\" y2=\"93.3398\"/><text fill=\"#000000\" font-family=\"sans-serif\" font-size=\"11\" lengthAdjust=\"spacingAndGlyphs\" textLength=\"30\" x=\"40\" y=\"96.6479\">ports</text><line style=\"stroke: #A80036; stroke-width: 1.0;\" x1=\"70\" x2=\"77\" y1=\"93.3398\" y2=\"93.3398\"/></a><!--MD5=[185131fc0dcab0a4505a2ebe144e961b]\n",
       "link E4 to E2--><a href=\"psysml:5073669c-7652-4dd2-8e27-7490931f0c73\" target=\"_top\" title=\"psysml:5073669c-7652-4dd2-8e27-7490931f0c73\" xlink:actuate=\"onRequest\" xlink:href=\"psysml:5073669c-7652-4dd2-8e27-7490931f0c73\" xlink:show=\"new\" xlink:title=\"psysml:5073669c-7652-4dd2-8e27-7490931f0c73\" xlink:type=\"simple\"><path d=\"M154.52,117.33 C149.61,129.96 144.03,144.36 138.69,158.11 \" fill=\"none\" id=\"E4-&gt;E2\" style=\"stroke: #A80036; stroke-width: 1.0;\"/><polygon fill=\"#FFFFFF\" points=\"131.41,176.87,131.7522,156.6244,144.8054,161.6856,131.41,176.87\" style=\"stroke: #A80036; stroke-width: 1.0;\"/><ellipse cx=\"135.6776\" cy=\"152.033\" fill=\"#A80036\" rx=\"2\" ry=\"2\" style=\"stroke: #A80036; stroke-width: 1.0;\"/><ellipse cx=\"145.0013\" cy=\"155.6481\" fill=\"#A80036\" rx=\"2\" ry=\"2\" style=\"stroke: #A80036; stroke-width: 1.0;\"/></a><!--MD5=[2351f337d6de0f557b50152ba70847b5]\n",
       "link E6 to E2--><a href=\"psysml:94875f8e-b487-466f-9f77-0e1d93a514ac\" target=\"_top\" title=\"psysml:94875f8e-b487-466f-9f77-0e1d93a514ac\" xlink:actuate=\"onRequest\" xlink:href=\"psysml:94875f8e-b487-466f-9f77-0e1d93a514ac\" xlink:show=\"new\" xlink:title=\"psysml:94875f8e-b487-466f-9f77-0e1d93a514ac\" xlink:type=\"simple\"><path d=\"M72.27,117.33 C78.18,130.1 84.93,144.69 91.36,158.58 \" fill=\"none\" id=\"E6-&gt;E2\" style=\"stroke: #A80036; stroke-width: 1.0;\"/><polygon fill=\"#FFFFFF\" points=\"99.82,176.87,85.4893,162.565,98.1955,156.6868,99.82,176.87\" style=\"stroke: #A80036; stroke-width: 1.0;\"/><ellipse cx=\"84.9112\" cy=\"156.5521\" fill=\"#A80036\" rx=\"2\" ry=\"2\" style=\"stroke: #A80036; stroke-width: 1.0;\"/><ellipse cx=\"93.987\" cy=\"152.3533\" fill=\"#A80036\" rx=\"2\" ry=\"2\" style=\"stroke: #A80036; stroke-width: 1.0;\"/></a><!--MD5=[68df047099355042f7396a7e487b602b]\n",
       "@startuml\r\n",
       "skinparam wrapWidth 300\r\n",
       "hide circle\r\n",
       "\r\n",
       "package \"AliasTest\" as E1  [[psysml:2a952753-6cea-46c9-bb61-930b04eb3411 ]]  {\r\n",
       "comp def \"P1\" as E2  <<(T,blue) part def>> [[psysml:92b6686b-ceec-4d5e-ab27-24733762f61c ]] {\r\n",
       "- - ports - -\r\n",
       "porig1\r\n",
       "}\r\n",
       "comp usage \"p1: P1\" as E4  <<(T,blue) part>> [[psysml:2b3d4312-7497-4457-990a-6ee5375442c5 ]] {\r\n",
       "- - ports - -\r\n",
       "<&bar-trig> po1 <s>P1::porig1</s>\r\n",
       "}\r\n",
       "comp usage \"p2: P1\" as E6  <<(T,blue) part>> [[psysml:09e69c42-70ff-4aed-b93c-c140a8b906a0 ]] {\r\n",
       "- - ports - -\r\n",
       "pdest\r\n",
       "}\r\n",
       "E4 - -:|> E2 [[psysml:5073669c-7652-4dd2-8e27-7490931f0c73 ]] \r\n",
       "E6 - -:|> E2 [[psysml:94875f8e-b487-466f-9f77-0e1d93a514ac ]] \r\n",
       "}\r\n",
       "@enduml\r\n",
       "\n",
       "PlantUML version 1.2020.13(Sat Jun 13 12:26:38 UTC 2020)\n",
       "(EPL source distribution)\n",
       "Java Runtime: OpenJDK Runtime Environment\n",
       "JVM: OpenJDK 64-Bit Server VM\n",
       "Default Encoding: UTF-8\n",
       "Language: en\n",
       "Country: null\n",
       "--></g></svg>"
      ]
     },
     "execution_count": 23,
     "metadata": {},
     "output_type": "execute_result"
    }
   ],
   "source": [
    "%viz --style=\"STDCOLOR\" --view=\"Default\" \"AliasTest\""
   ]
  },
  {
   "cell_type": "code",
   "execution_count": 24,
   "id": "c888238f",
   "metadata": {
    "execution": {
     "iopub.execute_input": "2021-06-30T09:16:08.172370Z",
     "iopub.status.busy": "2021-06-30T09:16:08.171940Z",
     "iopub.status.idle": "2021-06-30T09:16:08.275503Z",
     "shell.execute_reply": "2021-06-30T09:16:08.274199Z"
    }
   },
   "outputs": [
    {
     "data": {
      "image/svg+xml": [
       "<?xml version=\"1.0\" encoding=\"UTF-8\" standalone=\"no\"?><svg xmlns=\"http://www.w3.org/2000/svg\" xmlns:xlink=\"http://www.w3.org/1999/xlink\" contentScriptType=\"application/ecmascript\" contentStyleType=\"text/css\" height=\"281px\" preserveAspectRatio=\"none\" style=\"width:263px;height:281px;\" version=\"1.1\" viewBox=\"0 0 263 281\" width=\"263px\" zoomAndPan=\"magnify\"><defs><filter height=\"300%\" id=\"f1v8o7bgw7d177\" width=\"300%\" x=\"-1\" y=\"-1\"><feGaussianBlur result=\"blurOut\" stdDeviation=\"2.0\"/><feColorMatrix in=\"blurOut\" result=\"blurOut2\" type=\"matrix\" values=\"0 0 0 0 0 0 0 0 0 0 0 0 0 0 0 0 0 0 .4 0\"/><feOffset dx=\"4.0\" dy=\"4.0\" in=\"blurOut2\" result=\"blurOut3\"/><feBlend in=\"SourceGraphic\" in2=\"blurOut3\" mode=\"normal\"/></filter></defs><g><!--MD5=[fbc87193dbaf4d95561dea2c320d4a47]\n",
       "cluster E1--><a href=\"psysml:2a952753-6cea-46c9-bb61-930b04eb3411\" target=\"_top\" title=\"psysml:2a952753-6cea-46c9-bb61-930b04eb3411\" xlink:actuate=\"onRequest\" xlink:href=\"psysml:2a952753-6cea-46c9-bb61-930b04eb3411\" xlink:show=\"new\" xlink:title=\"psysml:2a952753-6cea-46c9-bb61-930b04eb3411\" xlink:type=\"simple\"><polygon fill=\"#FFFFFF\" filter=\"url(#f1v8o7bgw7d177)\" points=\"16,6,94,6,101,28.2969,241,28.2969,241,269,16,269,16,6\" style=\"stroke: #000000; stroke-width: 1.5;\"/><line style=\"stroke: #000000; stroke-width: 1.5;\" x1=\"16\" x2=\"101\" y1=\"28.2969\" y2=\"28.2969\"/><text fill=\"#000000\" font-family=\"sans-serif\" font-size=\"14\" font-weight=\"bold\" lengthAdjust=\"spacingAndGlyphs\" textLength=\"72\" x=\"20\" y=\"20.9951\">AliasTest</text></a><!--MD5=[b4997ac47864f28c2f74865a473b2911]\n",
       "class E2--><a href=\"psysml:92b6686b-ceec-4d5e-ab27-24733762f61c\" target=\"_top\" title=\"psysml:92b6686b-ceec-4d5e-ab27-24733762f61c\" xlink:actuate=\"onRequest\" xlink:href=\"psysml:92b6686b-ceec-4d5e-ab27-24733762f61c\" xlink:show=\"new\" xlink:title=\"psysml:92b6686b-ceec-4d5e-ab27-24733762f61c\" xlink:type=\"simple\"><rect fill=\"#FEFECE\" filter=\"url(#f1v8o7bgw7d177)\" height=\"75.5469\" id=\"E2\" style=\"stroke: #A80036; stroke-width: 1.5;\" width=\"66\" x=\"84\" y=\"177\"/><text fill=\"#000000\" font-family=\"sans-serif\" font-size=\"12\" font-style=\"italic\" lengthAdjust=\"spacingAndGlyphs\" textLength=\"64\" x=\"85\" y=\"193.1387\">«part def»</text><text fill=\"#000000\" font-family=\"sans-serif\" font-size=\"12\" lengthAdjust=\"spacingAndGlyphs\" textLength=\"16\" x=\"109\" y=\"207.1074\">P1</text><line style=\"stroke: #A80036; stroke-width: 1.5;\" x1=\"85\" x2=\"149\" y1=\"214.9375\" y2=\"214.9375\"/><text fill=\"#000000\" font-family=\"sans-serif\" font-size=\"11\" lengthAdjust=\"spacingAndGlyphs\" textLength=\"36\" x=\"90\" y=\"245.9526\">porig1</text><line style=\"stroke: #A80036; stroke-width: 1.0;\" x1=\"85\" x2=\"102\" y1=\"229.3398\" y2=\"229.3398\"/><text fill=\"#000000\" font-family=\"sans-serif\" font-size=\"11\" lengthAdjust=\"spacingAndGlyphs\" textLength=\"30\" x=\"102\" y=\"232.6479\">ports</text><line style=\"stroke: #A80036; stroke-width: 1.0;\" x1=\"132\" x2=\"149\" y1=\"229.3398\" y2=\"229.3398\"/></a><!--MD5=[ebbe1d658d1005bcc118a6aa81145e00]\n",
       "class E4--><a href=\"psysml:2b3d4312-7497-4457-990a-6ee5375442c5\" target=\"_top\" title=\"psysml:2b3d4312-7497-4457-990a-6ee5375442c5\" xlink:actuate=\"onRequest\" xlink:href=\"psysml:2b3d4312-7497-4457-990a-6ee5375442c5\" xlink:show=\"new\" xlink:title=\"psysml:2b3d4312-7497-4457-990a-6ee5375442c5\" xlink:type=\"simple\"><rect fill=\"#FEFECE\" filter=\"url(#f1v8o7bgw7d177)\" height=\"76.4922\" id=\"E4\" rx=\"10\" ry=\"10\" style=\"stroke: #A80036; stroke-width: 1.5;\" width=\"112\" x=\"113\" y=\"41\"/><text fill=\"#000000\" font-family=\"sans-serif\" font-size=\"12\" font-style=\"italic\" lengthAdjust=\"spacingAndGlyphs\" textLength=\"40\" x=\"149\" y=\"57.1387\">«part»</text><text fill=\"#000000\" font-family=\"sans-serif\" font-size=\"12\" lengthAdjust=\"spacingAndGlyphs\" textLength=\"40\" x=\"149\" y=\"71.1074\">p1: P1</text><line style=\"stroke: #A80036; stroke-width: 1.5;\" x1=\"114\" x2=\"224\" y1=\"78.9375\" y2=\"78.9375\"/><path d=\"M120.9167,100.6589 L120.9167,109.8255 L121.8333,109.8255 L121.8333,100.6589 M124.5833,100.6589 L124.5833,109.8255 L131.9167,105.2422 L124.5833,100.6589 L125.5,102.0339 L130.5417,105.2422 L125.5,108.4505 L125.5,102.0339 \" fill=\"#000000\" style=\"stroke: ; stroke-width: 0.0; stroke-dasharray: ;\"/><text fill=\"#000000\" font-family=\"sans-serif\" font-size=\"11\" lengthAdjust=\"spacingAndGlyphs\" textLength=\"21\" x=\"136\" y=\"110.8979\">po1</text><text fill=\"#000000\" font-family=\"sans-serif\" font-size=\"11\" lengthAdjust=\"spacingAndGlyphs\" text-decoration=\"line-through\" textLength=\"58\" x=\"161\" y=\"110.8979\">P1::porig1</text><line style=\"stroke: #A80036; stroke-width: 1.0;\" x1=\"114\" x2=\"154\" y1=\"93.3398\" y2=\"93.3398\"/><text fill=\"#000000\" font-family=\"sans-serif\" font-size=\"11\" lengthAdjust=\"spacingAndGlyphs\" textLength=\"30\" x=\"154\" y=\"96.6479\">ports</text><line style=\"stroke: #A80036; stroke-width: 1.0;\" x1=\"184\" x2=\"224\" y1=\"93.3398\" y2=\"93.3398\"/></a><!--MD5=[60a26617385b1d2d0262a64233df1f8d]\n",
       "class E6--><a href=\"psysml:09e69c42-70ff-4aed-b93c-c140a8b906a0\" target=\"_top\" title=\"psysml:09e69c42-70ff-4aed-b93c-c140a8b906a0\" xlink:actuate=\"onRequest\" xlink:href=\"psysml:09e69c42-70ff-4aed-b93c-c140a8b906a0\" xlink:show=\"new\" xlink:title=\"psysml:09e69c42-70ff-4aed-b93c-c140a8b906a0\" xlink:type=\"simple\"><rect fill=\"#FEFECE\" filter=\"url(#f1v8o7bgw7d177)\" height=\"75.5469\" id=\"E6\" rx=\"10\" ry=\"10\" style=\"stroke: #A80036; stroke-width: 1.5;\" width=\"46\" x=\"32\" y=\"41\"/><text fill=\"#000000\" font-family=\"sans-serif\" font-size=\"12\" font-style=\"italic\" lengthAdjust=\"spacingAndGlyphs\" textLength=\"40\" x=\"35\" y=\"57.1387\">«part»</text><text fill=\"#000000\" font-family=\"sans-serif\" font-size=\"12\" lengthAdjust=\"spacingAndGlyphs\" textLength=\"40\" x=\"35\" y=\"71.1074\">p2: P1</text><line style=\"stroke: #A80036; stroke-width: 1.5;\" x1=\"33\" x2=\"77\" y1=\"78.9375\" y2=\"78.9375\"/><text fill=\"#000000\" font-family=\"sans-serif\" font-size=\"11\" lengthAdjust=\"spacingAndGlyphs\" textLength=\"32\" x=\"38\" y=\"109.9526\">pdest</text><line style=\"stroke: #A80036; stroke-width: 1.0;\" x1=\"33\" x2=\"40\" y1=\"93.3398\" y2=\"93.3398\"/><text fill=\"#000000\" font-family=\"sans-serif\" font-size=\"11\" lengthAdjust=\"spacingAndGlyphs\" textLength=\"30\" x=\"40\" y=\"96.6479\">ports</text><line style=\"stroke: #A80036; stroke-width: 1.0;\" x1=\"70\" x2=\"77\" y1=\"93.3398\" y2=\"93.3398\"/></a><!--MD5=[185131fc0dcab0a4505a2ebe144e961b]\n",
       "link E4 to E2--><a href=\"psysml:5073669c-7652-4dd2-8e27-7490931f0c73\" target=\"_top\" title=\"psysml:5073669c-7652-4dd2-8e27-7490931f0c73\" xlink:actuate=\"onRequest\" xlink:href=\"psysml:5073669c-7652-4dd2-8e27-7490931f0c73\" xlink:show=\"new\" xlink:title=\"psysml:5073669c-7652-4dd2-8e27-7490931f0c73\" xlink:type=\"simple\"><path d=\"M154.52,117.33 C149.61,129.96 144.03,144.36 138.69,158.11 \" fill=\"none\" id=\"E4-&gt;E2\" style=\"stroke: #A80036; stroke-width: 1.0;\"/><polygon fill=\"#FFFFFF\" points=\"131.41,176.87,131.7522,156.6244,144.8054,161.6856,131.41,176.87\" style=\"stroke: #A80036; stroke-width: 1.0;\"/><ellipse cx=\"135.6776\" cy=\"152.033\" fill=\"#A80036\" rx=\"2\" ry=\"2\" style=\"stroke: #A80036; stroke-width: 1.0;\"/><ellipse cx=\"145.0013\" cy=\"155.6481\" fill=\"#A80036\" rx=\"2\" ry=\"2\" style=\"stroke: #A80036; stroke-width: 1.0;\"/></a><!--MD5=[2351f337d6de0f557b50152ba70847b5]\n",
       "link E6 to E2--><a href=\"psysml:94875f8e-b487-466f-9f77-0e1d93a514ac\" target=\"_top\" title=\"psysml:94875f8e-b487-466f-9f77-0e1d93a514ac\" xlink:actuate=\"onRequest\" xlink:href=\"psysml:94875f8e-b487-466f-9f77-0e1d93a514ac\" xlink:show=\"new\" xlink:title=\"psysml:94875f8e-b487-466f-9f77-0e1d93a514ac\" xlink:type=\"simple\"><path d=\"M72.27,117.33 C78.18,130.1 84.93,144.69 91.36,158.58 \" fill=\"none\" id=\"E6-&gt;E2\" style=\"stroke: #A80036; stroke-width: 1.0;\"/><polygon fill=\"#FFFFFF\" points=\"99.82,176.87,85.4893,162.565,98.1955,156.6868,99.82,176.87\" style=\"stroke: #A80036; stroke-width: 1.0;\"/><ellipse cx=\"84.9112\" cy=\"156.5521\" fill=\"#A80036\" rx=\"2\" ry=\"2\" style=\"stroke: #A80036; stroke-width: 1.0;\"/><ellipse cx=\"93.987\" cy=\"152.3533\" fill=\"#A80036\" rx=\"2\" ry=\"2\" style=\"stroke: #A80036; stroke-width: 1.0;\"/></a><!--MD5=[68df047099355042f7396a7e487b602b]\n",
       "@startuml\r\n",
       "skinparam wrapWidth 300\r\n",
       "hide circle\r\n",
       "\r\n",
       "package \"AliasTest\" as E1  [[psysml:2a952753-6cea-46c9-bb61-930b04eb3411 ]]  {\r\n",
       "comp def \"P1\" as E2  <<(T,blue) part def>> [[psysml:92b6686b-ceec-4d5e-ab27-24733762f61c ]] {\r\n",
       "- - ports - -\r\n",
       "porig1\r\n",
       "}\r\n",
       "comp usage \"p1: P1\" as E4  <<(T,blue) part>> [[psysml:2b3d4312-7497-4457-990a-6ee5375442c5 ]] {\r\n",
       "- - ports - -\r\n",
       "<&bar-trig> po1 <s>P1::porig1</s>\r\n",
       "}\r\n",
       "comp usage \"p2: P1\" as E6  <<(T,blue) part>> [[psysml:09e69c42-70ff-4aed-b93c-c140a8b906a0 ]] {\r\n",
       "- - ports - -\r\n",
       "pdest\r\n",
       "}\r\n",
       "E4 - -:|> E2 [[psysml:5073669c-7652-4dd2-8e27-7490931f0c73 ]] \r\n",
       "E6 - -:|> E2 [[psysml:94875f8e-b487-466f-9f77-0e1d93a514ac ]] \r\n",
       "}\r\n",
       "@enduml\r\n",
       "\n",
       "PlantUML version 1.2020.13(Sat Jun 13 12:26:38 UTC 2020)\n",
       "(EPL source distribution)\n",
       "Java Runtime: OpenJDK Runtime Environment\n",
       "JVM: OpenJDK 64-Bit Server VM\n",
       "Default Encoding: UTF-8\n",
       "Language: en\n",
       "Country: null\n",
       "--></g></svg>"
      ]
     },
     "execution_count": 24,
     "metadata": {},
     "output_type": "execute_result"
    }
   ],
   "source": [
    "%viz --style=\"STDCOLOR\" --view=\"Tree\" \"AliasTest\""
   ]
  },
  {
   "cell_type": "code",
   "execution_count": 25,
   "id": "d914ffa7",
   "metadata": {
    "execution": {
     "iopub.execute_input": "2021-06-30T09:16:08.326992Z",
     "iopub.status.busy": "2021-06-30T09:16:08.326505Z",
     "iopub.status.idle": "2021-06-30T09:16:08.333464Z",
     "shell.execute_reply": "2021-06-30T09:16:08.332584Z"
    }
   },
   "outputs": [
    {
     "data": {
      "image/svg+xml": [
       "<?xml version=\"1.0\" encoding=\"UTF-8\" standalone=\"no\"?><svg xmlns=\"http://www.w3.org/2000/svg\" xmlns:xlink=\"http://www.w3.org/1999/xlink\" contentScriptType=\"application/ecmascript\" contentStyleType=\"text/css\" height=\"12px\" preserveAspectRatio=\"none\" style=\"width:12px;height:12px;\" version=\"1.1\" viewBox=\"0 0 12 12\" width=\"12px\" zoomAndPan=\"magnify\"><defs/><g><!--MD5=[aeeef50f102b80d730deb6443d14f702]\n",
       "@startuml\r\n",
       "skinparam wrapWidth 300\r\n",
       "hide circle\r\n",
       "\r\n",
       "@enduml\r\n",
       "\n",
       "PlantUML version 1.2020.13(Sat Jun 13 12:26:38 UTC 2020)\n",
       "(EPL source distribution)\n",
       "Java Runtime: OpenJDK Runtime Environment\n",
       "JVM: OpenJDK 64-Bit Server VM\n",
       "Default Encoding: UTF-8\n",
       "Language: en\n",
       "Country: null\n",
       "--></g></svg>"
      ]
     },
     "execution_count": 25,
     "metadata": {},
     "output_type": "execute_result"
    }
   ],
   "source": [
    "%viz --style=\"STDCOLOR\" --view=\"State\" \"AliasTest\""
   ]
  },
  {
   "cell_type": "code",
   "execution_count": 26,
   "id": "1a6183ff",
   "metadata": {
    "execution": {
     "iopub.execute_input": "2021-06-30T09:16:08.386282Z",
     "iopub.status.busy": "2021-06-30T09:16:08.385772Z",
     "iopub.status.idle": "2021-06-30T09:16:08.428813Z",
     "shell.execute_reply": "2021-06-30T09:16:08.427189Z"
    }
   },
   "outputs": [
    {
     "data": {
      "image/svg+xml": [
       "<?xml version=\"1.0\" encoding=\"UTF-8\" standalone=\"no\"?><svg xmlns=\"http://www.w3.org/2000/svg\" xmlns:xlink=\"http://www.w3.org/1999/xlink\" contentScriptType=\"application/ecmascript\" contentStyleType=\"text/css\" height=\"207px\" preserveAspectRatio=\"none\" style=\"width:406px;height:207px;\" version=\"1.1\" viewBox=\"0 0 406 207\" width=\"406px\" zoomAndPan=\"magnify\"><defs><filter height=\"300%\" id=\"f10l4js6s3pb5d\" width=\"300%\" x=\"-1\" y=\"-1\"><feGaussianBlur result=\"blurOut\" stdDeviation=\"2.0\"/><feColorMatrix in=\"blurOut\" result=\"blurOut2\" type=\"matrix\" values=\"0 0 0 0 0 0 0 0 0 0 0 0 0 0 0 0 0 0 .4 0\"/><feOffset dx=\"4.0\" dy=\"4.0\" in=\"blurOut2\" result=\"blurOut3\"/><feBlend in=\"SourceGraphic\" in2=\"blurOut3\" mode=\"normal\"/></filter></defs><g><!--MD5=[fbc87193dbaf4d95561dea2c320d4a47]\n",
       "cluster E1--><a href=\"psysml:2a952753-6cea-46c9-bb61-930b04eb3411\" target=\"_top\" title=\"psysml:2a952753-6cea-46c9-bb61-930b04eb3411\" xlink:actuate=\"onRequest\" xlink:href=\"psysml:2a952753-6cea-46c9-bb61-930b04eb3411\" xlink:show=\"new\" xlink:title=\"psysml:2a952753-6cea-46c9-bb61-930b04eb3411\" xlink:type=\"simple\"><polygon fill=\"#FFFFFF\" filter=\"url(#f10l4js6s3pb5d)\" points=\"16,6,94,6,101,28.2969,384,28.2969,384,195,16,195,16,6\" style=\"stroke: #000000; stroke-width: 1.5;\"/><line style=\"stroke: #000000; stroke-width: 1.5;\" x1=\"16\" x2=\"101\" y1=\"28.2969\" y2=\"28.2969\"/><text fill=\"#000000\" font-family=\"sans-serif\" font-size=\"14\" font-weight=\"bold\" lengthAdjust=\"spacingAndGlyphs\" textLength=\"72\" x=\"20\" y=\"20.9951\">AliasTest</text></a><!--MD5=[e4f7fae6ed58524ba242bb0b0d3be6b7]\n",
       "cluster E2--><a href=\"psysml:92b6686b-ceec-4d5e-ab27-24733762f61c\" target=\"_top\" title=\"psysml:92b6686b-ceec-4d5e-ab27-24733762f61c\" xlink:actuate=\"onRequest\" xlink:href=\"psysml:92b6686b-ceec-4d5e-ab27-24733762f61c\" xlink:show=\"new\" xlink:title=\"psysml:92b6686b-ceec-4d5e-ab27-24733762f61c\" xlink:type=\"simple\"><rect fill=\"#FFFFFF\" filter=\"url(#f10l4js6s3pb5d)\" height=\"73\" id=\"E2\" style=\"stroke: #A80036; stroke-width: 1.5;\" width=\"83\" x=\"244\" y=\"55\"/><rect fill=\"#FEFECE\" height=\"37.9375\" style=\"stroke: #A80036; stroke-width: 1.5;\" width=\"83\" x=\"244\" y=\"55\"/><text fill=\"#000000\" font-family=\"sans-serif\" font-size=\"12\" font-style=\"italic\" lengthAdjust=\"spacingAndGlyphs\" textLength=\"64\" x=\"253.5\" y=\"71.1387\">«part def»</text><text fill=\"#000000\" font-family=\"sans-serif\" font-size=\"12\" lengthAdjust=\"spacingAndGlyphs\" textLength=\"16\" x=\"277.5\" y=\"85.1074\">P1</text></a><!--MD5=[de5ec2e2e8f62f467e546659f5068c88]\n",
       "cluster E5--><a href=\"psysml:2b3d4312-7497-4457-990a-6ee5375442c5\" target=\"_top\" title=\"psysml:2b3d4312-7497-4457-990a-6ee5375442c5\" xlink:actuate=\"onRequest\" xlink:href=\"psysml:2b3d4312-7497-4457-990a-6ee5375442c5\" xlink:show=\"new\" xlink:title=\"psysml:2b3d4312-7497-4457-990a-6ee5375442c5\" xlink:type=\"simple\"><rect fill=\"#FFFFFF\" filter=\"url(#f10l4js6s3pb5d)\" height=\"84.5\" id=\"E5\" rx=\"10\" ry=\"10\" style=\"stroke: #A80036; stroke-width: 1.5;\" width=\"101\" x=\"139\" y=\"94.5\"/><rect fill=\"#FEFECE\" height=\"23.9688\" rx=\"10\" ry=\"10\" style=\"stroke: #FEFECE; stroke-width: 1.5;\" width=\"101\" x=\"139\" y=\"94.5\"/><rect fill=\"#FEFECE\" height=\"10\" style=\"stroke: #FEFECE; stroke-width: 1.5;\" width=\"101\" x=\"139\" y=\"108.4688\"/><rect fill=\"none\" height=\"84.5\" id=\"E5\" rx=\"10\" ry=\"10\" style=\"stroke: #A80036; stroke-width: 1.5;\" width=\"101\" x=\"139\" y=\"94.5\"/><text fill=\"#000000\" font-family=\"sans-serif\" font-size=\"12\" lengthAdjust=\"spacingAndGlyphs\" textLength=\"40\" x=\"169.5\" y=\"110.6387\">p1: P1</text><line style=\"stroke: #A80036; stroke-width: 1.0;\" x1=\"139\" x2=\"240\" y1=\"118.4688\" y2=\"118.4688\"/></a><!--MD5=[168fadf3d0c3fd93dd5d6da1b1d7ab76]\n",
       "cluster E7--><a href=\"psysml:09e69c42-70ff-4aed-b93c-c140a8b906a0\" target=\"_top\" title=\"psysml:09e69c42-70ff-4aed-b93c-c140a8b906a0\" xlink:actuate=\"onRequest\" xlink:href=\"psysml:09e69c42-70ff-4aed-b93c-c140a8b906a0\" xlink:show=\"new\" xlink:title=\"psysml:09e69c42-70ff-4aed-b93c-c140a8b906a0\" xlink:type=\"simple\"><rect fill=\"#FFFFFF\" filter=\"url(#f10l4js6s3pb5d)\" height=\"65\" id=\"E7\" rx=\"10\" ry=\"10\" style=\"stroke: #A80036; stroke-width: 1.5;\" width=\"83\" x=\"53\" y=\"55\"/><rect fill=\"#FEFECE\" height=\"23.9688\" rx=\"10\" ry=\"10\" style=\"stroke: #FEFECE; stroke-width: 1.5;\" width=\"83\" x=\"53\" y=\"55\"/><rect fill=\"#FEFECE\" height=\"10\" style=\"stroke: #FEFECE; stroke-width: 1.5;\" width=\"83\" x=\"53\" y=\"68.9688\"/><rect fill=\"none\" height=\"65\" id=\"E7\" rx=\"10\" ry=\"10\" style=\"stroke: #A80036; stroke-width: 1.5;\" width=\"83\" x=\"53\" y=\"55\"/><text fill=\"#000000\" font-family=\"sans-serif\" font-size=\"12\" lengthAdjust=\"spacingAndGlyphs\" textLength=\"40\" x=\"74.5\" y=\"71.1387\">p2: P1</text><line style=\"stroke: #A80036; stroke-width: 1.0;\" x1=\"53\" x2=\"136\" y1=\"78.9688\" y2=\"78.9688\"/></a><text fill=\"#000000\" font-family=\"sans-serif\" font-size=\"14\" lengthAdjust=\"spacingAndGlyphs\" textLength=\"44\" x=\"240\" y=\"33.6982\">porig1</text><rect fill=\"#A80036\" height=\"12\" style=\"stroke: #FEFECE; stroke-width: 1.5;\" width=\"12\" x=\"256\" y=\"49\"/><text fill=\"#000000\" font-family=\"sans-serif\" font-size=\"14\" lengthAdjust=\"spacingAndGlyphs\" textLength=\"44\" x=\"287\" y=\"33.6982\">porig1</text><rect fill=\"#A80036\" height=\"12\" style=\"stroke: #FEFECE; stroke-width: 1.5;\" width=\"12\" x=\"303\" y=\"49\"/><text fill=\"#000000\" font-family=\"sans-serif\" font-size=\"14\" lengthAdjust=\"spacingAndGlyphs\" textLength=\"27\" x=\"143.5\" y=\"73.1982\">po1</text><rect fill=\"#A80036\" height=\"12\" style=\"stroke: #FEFECE; stroke-width: 1.5;\" width=\"12\" x=\"151\" y=\"88.5\"/><text fill=\"#000000\" font-family=\"sans-serif\" font-size=\"14\" lengthAdjust=\"spacingAndGlyphs\" textLength=\"40\" x=\"51\" y=\"33.6982\">pdest</text><rect fill=\"#A80036\" height=\"12\" style=\"stroke: #FEFECE; stroke-width: 1.5;\" width=\"12\" x=\"65\" y=\"49\"/><text fill=\"#000000\" font-family=\"sans-serif\" font-size=\"14\" lengthAdjust=\"spacingAndGlyphs\" textLength=\"40\" x=\"98\" y=\"33.6982\">pdest</text><rect fill=\"#A80036\" height=\"12\" style=\"stroke: #FEFECE; stroke-width: 1.5;\" width=\"12\" x=\"112\" y=\"49\"/><!--MD5=[60ac2c0cde89d4308155b0484e57a8ec]\n",
       "link E9 to E6--><a href=\"psysml:d88f1dc1-ed41-4b97-9842-84a04c2c1d2b\" target=\"_top\" title=\"psysml:d88f1dc1-ed41-4b97-9842-84a04c2c1d2b\" xlink:actuate=\"onRequest\" xlink:href=\"psysml:d88f1dc1-ed41-4b97-9842-84a04c2c1d2b\" xlink:show=\"new\" xlink:title=\"psysml:d88f1dc1-ed41-4b97-9842-84a04c2c1d2b\" xlink:type=\"simple\"><path d=\"M111.75,56.49 C103.41,58.2 109.82,64.05 115,69 C124.85,78.4 136.6,90.11 150.78,92.89 \" fill=\"none\" id=\"E9-E6\" style=\"stroke: #A80036; stroke-width: 3.0;\"/></a><!--MD5=[60ac2c0cde89d4308155b0484e57a8ec]\n",
       "link E9 to E6--><a href=\"psysml:619a1562-63e5-4ed2-9546-f25d2cdc049d\" target=\"_top\" title=\"psysml:619a1562-63e5-4ed2-9546-f25d2cdc049d\" xlink:actuate=\"onRequest\" xlink:href=\"psysml:619a1562-63e5-4ed2-9546-f25d2cdc049d\" xlink:show=\"new\" xlink:title=\"psysml:619a1562-63e5-4ed2-9546-f25d2cdc049d\" xlink:type=\"simple\"><path d=\"M124.29,56.32 C137.94,57.76 144.62,63.87 150,69 C159.5,78.06 170.77,89.27 163.24,92.56 \" fill=\"none\" id=\"E9-E6-1\" style=\"stroke: #A80036; stroke-width: 3.0;\"/></a><!--MD5=[1bdbac7838c62c1c9f92681685ba3de1]\n",
       "@startuml\r\n",
       "skinparam ranksep 10\r\n",
       "skinparam rectangle {\r\n",
       " backgroundColor<<block>> LightGreen\r\n",
       "}\r\n",
       "skinparam wrapWidth 300\r\n",
       "hide circle\r\n",
       "\r\n",
       "package \"AliasTest\" as E1  [[psysml:2a952753-6cea-46c9-bb61-930b04eb3411 ]]  {\r\n",
       "rec def \"P1\" as E2  <<(T,blue) part def>> [[psysml:92b6686b-ceec-4d5e-ab27-24733762f61c ]] {\r\n",
       "portin \"porig1\" as E3  <<(T,blue) port>> [[psysml:ea24ffa6-0b43-4ed9-8037-2e87c3ddc217 ]] \r\n",
       "portin \"porig1\" as E4  <<(T,blue) port>> [[psysml:ea24ffa6-0b43-4ed9-8037-2e87c3ddc217 ]] \r\n",
       "}\r\n",
       "rec usage \"p1: P1\" as E5  [[psysml:2b3d4312-7497-4457-990a-6ee5375442c5 ]] {\r\n",
       "portin \"po1\" as E6  <<(T,blue) port>> [[psysml:dd05f1a1-221f-4ab1-8a14-dfadf20b8a26 ]] \r\n",
       "}\r\n",
       "rec usage \"p2: P1\" as E7  [[psysml:09e69c42-70ff-4aed-b93c-c140a8b906a0 ]] {\r\n",
       "portin \"pdest\" as E8  <<(T,blue) port>> [[psysml:af7521ab-a154-4c67-8a1e-396c259ea1b5 ]] \r\n",
       "portin \"pdest\" as E9  <<(T,blue) port>> [[psysml:af7521ab-a154-4c67-8a1e-396c259ea1b5 ]] \r\n",
       "}\r\n",
       "E9 -[thickness=3]- E6 [[psysml:d88f1dc1-ed41-4b97-9842-84a04c2c1d2b ]] \r\n",
       "E9 -[thickness=3]- E6 [[psysml:619a1562-63e5-4ed2-9546-f25d2cdc049d ]] \r\n",
       "}\r\n",
       "@enduml\r\n",
       "\n",
       "PlantUML version 1.2020.13(Sat Jun 13 12:26:38 UTC 2020)\n",
       "(EPL source distribution)\n",
       "Java Runtime: OpenJDK Runtime Environment\n",
       "JVM: OpenJDK 64-Bit Server VM\n",
       "Default Encoding: UTF-8\n",
       "Language: en\n",
       "Country: null\n",
       "--></g></svg>"
      ]
     },
     "execution_count": 26,
     "metadata": {},
     "output_type": "execute_result"
    }
   ],
   "source": [
    "%viz --style=\"STDCOLOR\" --view=\"Interconnection\" \"AliasTest\""
   ]
  },
  {
   "cell_type": "code",
   "execution_count": 27,
   "id": "df39624b",
   "metadata": {
    "execution": {
     "iopub.execute_input": "2021-06-30T09:16:08.475650Z",
     "iopub.status.busy": "2021-06-30T09:16:08.475259Z",
     "iopub.status.idle": "2021-06-30T09:16:08.482291Z",
     "shell.execute_reply": "2021-06-30T09:16:08.481420Z"
    }
   },
   "outputs": [
    {
     "data": {
      "image/svg+xml": [
       "<?xml version=\"1.0\" encoding=\"UTF-8\" standalone=\"no\"?><svg xmlns=\"http://www.w3.org/2000/svg\" xmlns:xlink=\"http://www.w3.org/1999/xlink\" contentScriptType=\"application/ecmascript\" contentStyleType=\"text/css\" height=\"12px\" preserveAspectRatio=\"none\" style=\"width:12px;height:12px;\" version=\"1.1\" viewBox=\"0 0 12 12\" width=\"12px\" zoomAndPan=\"magnify\"><defs/><g><!--MD5=[9863325348a96a77dacc89509d8ee65e]\n",
       "@startuml\r\n",
       "skinparam ranksep 8\r\n",
       "skinparam wrapWidth 300\r\n",
       "hide circle\r\n",
       "\r\n",
       "@enduml\r\n",
       "\n",
       "PlantUML version 1.2020.13(Sat Jun 13 12:26:38 UTC 2020)\n",
       "(EPL source distribution)\n",
       "Java Runtime: OpenJDK Runtime Environment\n",
       "JVM: OpenJDK 64-Bit Server VM\n",
       "Default Encoding: UTF-8\n",
       "Language: en\n",
       "Country: null\n",
       "--></g></svg>"
      ]
     },
     "execution_count": 27,
     "metadata": {},
     "output_type": "execute_result"
    }
   ],
   "source": [
    "%viz --style=\"STDCOLOR\" --view=\"Action\" \"AliasTest\""
   ]
  },
  {
   "cell_type": "code",
   "execution_count": 28,
   "id": "81b960d9",
   "metadata": {
    "execution": {
     "iopub.execute_input": "2021-06-30T09:16:08.534377Z",
     "iopub.status.busy": "2021-06-30T09:16:08.533819Z",
     "iopub.status.idle": "2021-06-30T09:16:08.637661Z",
     "shell.execute_reply": "2021-06-30T09:16:08.636041Z"
    }
   },
   "outputs": [
    {
     "data": {
      "image/svg+xml": [
       "<?xml version=\"1.0\" encoding=\"UTF-8\" standalone=\"no\"?><svg xmlns=\"http://www.w3.org/2000/svg\" xmlns:xlink=\"http://www.w3.org/1999/xlink\" contentScriptType=\"application/ecmascript\" contentStyleType=\"text/css\" height=\"281px\" preserveAspectRatio=\"none\" style=\"width:263px;height:281px;\" version=\"1.1\" viewBox=\"0 0 263 281\" width=\"263px\" zoomAndPan=\"magnify\"><defs><filter height=\"300%\" id=\"f1v8o7bgw7d177\" width=\"300%\" x=\"-1\" y=\"-1\"><feGaussianBlur result=\"blurOut\" stdDeviation=\"2.0\"/><feColorMatrix in=\"blurOut\" result=\"blurOut2\" type=\"matrix\" values=\"0 0 0 0 0 0 0 0 0 0 0 0 0 0 0 0 0 0 .4 0\"/><feOffset dx=\"4.0\" dy=\"4.0\" in=\"blurOut2\" result=\"blurOut3\"/><feBlend in=\"SourceGraphic\" in2=\"blurOut3\" mode=\"normal\"/></filter></defs><g><!--MD5=[fbc87193dbaf4d95561dea2c320d4a47]\n",
       "cluster E1--><a href=\"psysml:2a952753-6cea-46c9-bb61-930b04eb3411\" target=\"_top\" title=\"psysml:2a952753-6cea-46c9-bb61-930b04eb3411\" xlink:actuate=\"onRequest\" xlink:href=\"psysml:2a952753-6cea-46c9-bb61-930b04eb3411\" xlink:show=\"new\" xlink:title=\"psysml:2a952753-6cea-46c9-bb61-930b04eb3411\" xlink:type=\"simple\"><polygon fill=\"#FFFFFF\" filter=\"url(#f1v8o7bgw7d177)\" points=\"16,6,94,6,101,28.2969,241,28.2969,241,269,16,269,16,6\" style=\"stroke: #000000; stroke-width: 1.5;\"/><line style=\"stroke: #000000; stroke-width: 1.5;\" x1=\"16\" x2=\"101\" y1=\"28.2969\" y2=\"28.2969\"/><text fill=\"#000000\" font-family=\"sans-serif\" font-size=\"14\" font-weight=\"bold\" lengthAdjust=\"spacingAndGlyphs\" textLength=\"72\" x=\"20\" y=\"20.9951\">AliasTest</text></a><!--MD5=[b4997ac47864f28c2f74865a473b2911]\n",
       "class E2--><a href=\"psysml:92b6686b-ceec-4d5e-ab27-24733762f61c\" target=\"_top\" title=\"psysml:92b6686b-ceec-4d5e-ab27-24733762f61c\" xlink:actuate=\"onRequest\" xlink:href=\"psysml:92b6686b-ceec-4d5e-ab27-24733762f61c\" xlink:show=\"new\" xlink:title=\"psysml:92b6686b-ceec-4d5e-ab27-24733762f61c\" xlink:type=\"simple\"><rect fill=\"#FEFECE\" filter=\"url(#f1v8o7bgw7d177)\" height=\"75.5469\" id=\"E2\" style=\"stroke: #A80036; stroke-width: 1.5;\" width=\"66\" x=\"84\" y=\"177\"/><text fill=\"#000000\" font-family=\"sans-serif\" font-size=\"12\" font-style=\"italic\" lengthAdjust=\"spacingAndGlyphs\" textLength=\"64\" x=\"85\" y=\"193.1387\">«part def»</text><text fill=\"#000000\" font-family=\"sans-serif\" font-size=\"12\" lengthAdjust=\"spacingAndGlyphs\" textLength=\"16\" x=\"109\" y=\"207.1074\">P1</text><line style=\"stroke: #A80036; stroke-width: 1.5;\" x1=\"85\" x2=\"149\" y1=\"214.9375\" y2=\"214.9375\"/><text fill=\"#000000\" font-family=\"sans-serif\" font-size=\"11\" lengthAdjust=\"spacingAndGlyphs\" textLength=\"36\" x=\"90\" y=\"245.9526\">porig1</text><line style=\"stroke: #A80036; stroke-width: 1.0;\" x1=\"85\" x2=\"102\" y1=\"229.3398\" y2=\"229.3398\"/><text fill=\"#000000\" font-family=\"sans-serif\" font-size=\"11\" lengthAdjust=\"spacingAndGlyphs\" textLength=\"30\" x=\"102\" y=\"232.6479\">ports</text><line style=\"stroke: #A80036; stroke-width: 1.0;\" x1=\"132\" x2=\"149\" y1=\"229.3398\" y2=\"229.3398\"/></a><!--MD5=[ebbe1d658d1005bcc118a6aa81145e00]\n",
       "class E4--><a href=\"psysml:2b3d4312-7497-4457-990a-6ee5375442c5\" target=\"_top\" title=\"psysml:2b3d4312-7497-4457-990a-6ee5375442c5\" xlink:actuate=\"onRequest\" xlink:href=\"psysml:2b3d4312-7497-4457-990a-6ee5375442c5\" xlink:show=\"new\" xlink:title=\"psysml:2b3d4312-7497-4457-990a-6ee5375442c5\" xlink:type=\"simple\"><rect fill=\"#FEFECE\" filter=\"url(#f1v8o7bgw7d177)\" height=\"76.4922\" id=\"E4\" rx=\"10\" ry=\"10\" style=\"stroke: #A80036; stroke-width: 1.5;\" width=\"112\" x=\"113\" y=\"41\"/><text fill=\"#000000\" font-family=\"sans-serif\" font-size=\"12\" font-style=\"italic\" lengthAdjust=\"spacingAndGlyphs\" textLength=\"40\" x=\"149\" y=\"57.1387\">«part»</text><text fill=\"#000000\" font-family=\"sans-serif\" font-size=\"12\" lengthAdjust=\"spacingAndGlyphs\" textLength=\"40\" x=\"149\" y=\"71.1074\">p1: P1</text><line style=\"stroke: #A80036; stroke-width: 1.5;\" x1=\"114\" x2=\"224\" y1=\"78.9375\" y2=\"78.9375\"/><path d=\"M120.9167,100.6589 L120.9167,109.8255 L121.8333,109.8255 L121.8333,100.6589 M124.5833,100.6589 L124.5833,109.8255 L131.9167,105.2422 L124.5833,100.6589 L125.5,102.0339 L130.5417,105.2422 L125.5,108.4505 L125.5,102.0339 \" fill=\"#000000\" style=\"stroke: ; stroke-width: 0.0; stroke-dasharray: ;\"/><text fill=\"#000000\" font-family=\"sans-serif\" font-size=\"11\" lengthAdjust=\"spacingAndGlyphs\" textLength=\"21\" x=\"136\" y=\"110.8979\">po1</text><text fill=\"#000000\" font-family=\"sans-serif\" font-size=\"11\" lengthAdjust=\"spacingAndGlyphs\" text-decoration=\"line-through\" textLength=\"58\" x=\"161\" y=\"110.8979\">P1::porig1</text><line style=\"stroke: #A80036; stroke-width: 1.0;\" x1=\"114\" x2=\"154\" y1=\"93.3398\" y2=\"93.3398\"/><text fill=\"#000000\" font-family=\"sans-serif\" font-size=\"11\" lengthAdjust=\"spacingAndGlyphs\" textLength=\"30\" x=\"154\" y=\"96.6479\">ports</text><line style=\"stroke: #A80036; stroke-width: 1.0;\" x1=\"184\" x2=\"224\" y1=\"93.3398\" y2=\"93.3398\"/></a><!--MD5=[60a26617385b1d2d0262a64233df1f8d]\n",
       "class E6--><a href=\"psysml:09e69c42-70ff-4aed-b93c-c140a8b906a0\" target=\"_top\" title=\"psysml:09e69c42-70ff-4aed-b93c-c140a8b906a0\" xlink:actuate=\"onRequest\" xlink:href=\"psysml:09e69c42-70ff-4aed-b93c-c140a8b906a0\" xlink:show=\"new\" xlink:title=\"psysml:09e69c42-70ff-4aed-b93c-c140a8b906a0\" xlink:type=\"simple\"><rect fill=\"#FEFECE\" filter=\"url(#f1v8o7bgw7d177)\" height=\"75.5469\" id=\"E6\" rx=\"10\" ry=\"10\" style=\"stroke: #A80036; stroke-width: 1.5;\" width=\"46\" x=\"32\" y=\"41\"/><text fill=\"#000000\" font-family=\"sans-serif\" font-size=\"12\" font-style=\"italic\" lengthAdjust=\"spacingAndGlyphs\" textLength=\"40\" x=\"35\" y=\"57.1387\">«part»</text><text fill=\"#000000\" font-family=\"sans-serif\" font-size=\"12\" lengthAdjust=\"spacingAndGlyphs\" textLength=\"40\" x=\"35\" y=\"71.1074\">p2: P1</text><line style=\"stroke: #A80036; stroke-width: 1.5;\" x1=\"33\" x2=\"77\" y1=\"78.9375\" y2=\"78.9375\"/><text fill=\"#000000\" font-family=\"sans-serif\" font-size=\"11\" lengthAdjust=\"spacingAndGlyphs\" textLength=\"32\" x=\"38\" y=\"109.9526\">pdest</text><line style=\"stroke: #A80036; stroke-width: 1.0;\" x1=\"33\" x2=\"40\" y1=\"93.3398\" y2=\"93.3398\"/><text fill=\"#000000\" font-family=\"sans-serif\" font-size=\"11\" lengthAdjust=\"spacingAndGlyphs\" textLength=\"30\" x=\"40\" y=\"96.6479\">ports</text><line style=\"stroke: #A80036; stroke-width: 1.0;\" x1=\"70\" x2=\"77\" y1=\"93.3398\" y2=\"93.3398\"/></a><!--MD5=[185131fc0dcab0a4505a2ebe144e961b]\n",
       "link E4 to E2--><a href=\"psysml:5073669c-7652-4dd2-8e27-7490931f0c73\" target=\"_top\" title=\"psysml:5073669c-7652-4dd2-8e27-7490931f0c73\" xlink:actuate=\"onRequest\" xlink:href=\"psysml:5073669c-7652-4dd2-8e27-7490931f0c73\" xlink:show=\"new\" xlink:title=\"psysml:5073669c-7652-4dd2-8e27-7490931f0c73\" xlink:type=\"simple\"><path d=\"M154.52,117.33 C149.61,129.96 144.03,144.36 138.69,158.11 \" fill=\"none\" id=\"E4-&gt;E2\" style=\"stroke: #A80036; stroke-width: 1.0;\"/><polygon fill=\"#FFFFFF\" points=\"131.41,176.87,131.7522,156.6244,144.8054,161.6856,131.41,176.87\" style=\"stroke: #A80036; stroke-width: 1.0;\"/><ellipse cx=\"135.6776\" cy=\"152.033\" fill=\"#A80036\" rx=\"2\" ry=\"2\" style=\"stroke: #A80036; stroke-width: 1.0;\"/><ellipse cx=\"145.0013\" cy=\"155.6481\" fill=\"#A80036\" rx=\"2\" ry=\"2\" style=\"stroke: #A80036; stroke-width: 1.0;\"/></a><!--MD5=[2351f337d6de0f557b50152ba70847b5]\n",
       "link E6 to E2--><a href=\"psysml:94875f8e-b487-466f-9f77-0e1d93a514ac\" target=\"_top\" title=\"psysml:94875f8e-b487-466f-9f77-0e1d93a514ac\" xlink:actuate=\"onRequest\" xlink:href=\"psysml:94875f8e-b487-466f-9f77-0e1d93a514ac\" xlink:show=\"new\" xlink:title=\"psysml:94875f8e-b487-466f-9f77-0e1d93a514ac\" xlink:type=\"simple\"><path d=\"M72.27,117.33 C78.18,130.1 84.93,144.69 91.36,158.58 \" fill=\"none\" id=\"E6-&gt;E2\" style=\"stroke: #A80036; stroke-width: 1.0;\"/><polygon fill=\"#FFFFFF\" points=\"99.82,176.87,85.4893,162.565,98.1955,156.6868,99.82,176.87\" style=\"stroke: #A80036; stroke-width: 1.0;\"/><ellipse cx=\"84.9112\" cy=\"156.5521\" fill=\"#A80036\" rx=\"2\" ry=\"2\" style=\"stroke: #A80036; stroke-width: 1.0;\"/><ellipse cx=\"93.987\" cy=\"152.3533\" fill=\"#A80036\" rx=\"2\" ry=\"2\" style=\"stroke: #A80036; stroke-width: 1.0;\"/></a><!--MD5=[68df047099355042f7396a7e487b602b]\n",
       "@startuml\r\n",
       "skinparam wrapWidth 300\r\n",
       "hide circle\r\n",
       "\r\n",
       "package \"AliasTest\" as E1  [[psysml:2a952753-6cea-46c9-bb61-930b04eb3411 ]]  {\r\n",
       "comp def \"P1\" as E2  <<(T,blue) part def>> [[psysml:92b6686b-ceec-4d5e-ab27-24733762f61c ]] {\r\n",
       "- - ports - -\r\n",
       "porig1\r\n",
       "}\r\n",
       "comp usage \"p1: P1\" as E4  <<(T,blue) part>> [[psysml:2b3d4312-7497-4457-990a-6ee5375442c5 ]] {\r\n",
       "- - ports - -\r\n",
       "<&bar-trig> po1 <s>P1::porig1</s>\r\n",
       "}\r\n",
       "comp usage \"p2: P1\" as E6  <<(T,blue) part>> [[psysml:09e69c42-70ff-4aed-b93c-c140a8b906a0 ]] {\r\n",
       "- - ports - -\r\n",
       "pdest\r\n",
       "}\r\n",
       "E4 - -:|> E2 [[psysml:5073669c-7652-4dd2-8e27-7490931f0c73 ]] \r\n",
       "E6 - -:|> E2 [[psysml:94875f8e-b487-466f-9f77-0e1d93a514ac ]] \r\n",
       "}\r\n",
       "@enduml\r\n",
       "\n",
       "PlantUML version 1.2020.13(Sat Jun 13 12:26:38 UTC 2020)\n",
       "(EPL source distribution)\n",
       "Java Runtime: OpenJDK Runtime Environment\n",
       "JVM: OpenJDK 64-Bit Server VM\n",
       "Default Encoding: UTF-8\n",
       "Language: en\n",
       "Country: null\n",
       "--></g></svg>"
      ]
     },
     "execution_count": 28,
     "metadata": {},
     "output_type": "execute_result"
    }
   ],
   "source": [
    "%viz --style=\"STDCOLOR\" --view=\"Sequence\" \"AliasTest\""
   ]
  },
  {
   "cell_type": "code",
   "execution_count": 29,
   "id": "00791dcc",
   "metadata": {
    "execution": {
     "iopub.execute_input": "2021-06-30T09:16:08.688090Z",
     "iopub.status.busy": "2021-06-30T09:16:08.687423Z",
     "iopub.status.idle": "2021-06-30T09:16:08.780512Z",
     "shell.execute_reply": "2021-06-30T09:16:08.778244Z"
    }
   },
   "outputs": [
    {
     "data": {
      "image/svg+xml": [
       "<?xml version=\"1.0\" encoding=\"UTF-8\" standalone=\"no\"?><svg xmlns=\"http://www.w3.org/2000/svg\" xmlns:xlink=\"http://www.w3.org/1999/xlink\" contentScriptType=\"application/ecmascript\" contentStyleType=\"text/css\" height=\"281px\" preserveAspectRatio=\"none\" style=\"width:263px;height:281px;\" version=\"1.1\" viewBox=\"0 0 263 281\" width=\"263px\" zoomAndPan=\"magnify\"><defs><filter height=\"300%\" id=\"f1v8o7bgw7d177\" width=\"300%\" x=\"-1\" y=\"-1\"><feGaussianBlur result=\"blurOut\" stdDeviation=\"2.0\"/><feColorMatrix in=\"blurOut\" result=\"blurOut2\" type=\"matrix\" values=\"0 0 0 0 0 0 0 0 0 0 0 0 0 0 0 0 0 0 .4 0\"/><feOffset dx=\"4.0\" dy=\"4.0\" in=\"blurOut2\" result=\"blurOut3\"/><feBlend in=\"SourceGraphic\" in2=\"blurOut3\" mode=\"normal\"/></filter></defs><g><!--MD5=[fbc87193dbaf4d95561dea2c320d4a47]\n",
       "cluster E1--><a href=\"psysml:2a952753-6cea-46c9-bb61-930b04eb3411\" target=\"_top\" title=\"psysml:2a952753-6cea-46c9-bb61-930b04eb3411\" xlink:actuate=\"onRequest\" xlink:href=\"psysml:2a952753-6cea-46c9-bb61-930b04eb3411\" xlink:show=\"new\" xlink:title=\"psysml:2a952753-6cea-46c9-bb61-930b04eb3411\" xlink:type=\"simple\"><polygon fill=\"#FFFFFF\" filter=\"url(#f1v8o7bgw7d177)\" points=\"16,6,94,6,101,28.2969,241,28.2969,241,269,16,269,16,6\" style=\"stroke: #000000; stroke-width: 1.5;\"/><line style=\"stroke: #000000; stroke-width: 1.5;\" x1=\"16\" x2=\"101\" y1=\"28.2969\" y2=\"28.2969\"/><text fill=\"#000000\" font-family=\"sans-serif\" font-size=\"14\" font-weight=\"bold\" lengthAdjust=\"spacingAndGlyphs\" textLength=\"72\" x=\"20\" y=\"20.9951\">AliasTest</text></a><!--MD5=[b4997ac47864f28c2f74865a473b2911]\n",
       "class E2--><a href=\"psysml:92b6686b-ceec-4d5e-ab27-24733762f61c\" target=\"_top\" title=\"psysml:92b6686b-ceec-4d5e-ab27-24733762f61c\" xlink:actuate=\"onRequest\" xlink:href=\"psysml:92b6686b-ceec-4d5e-ab27-24733762f61c\" xlink:show=\"new\" xlink:title=\"psysml:92b6686b-ceec-4d5e-ab27-24733762f61c\" xlink:type=\"simple\"><rect fill=\"#FEFECE\" filter=\"url(#f1v8o7bgw7d177)\" height=\"75.5469\" id=\"E2\" style=\"stroke: #A80036; stroke-width: 1.5;\" width=\"66\" x=\"84\" y=\"177\"/><text fill=\"#000000\" font-family=\"sans-serif\" font-size=\"12\" font-style=\"italic\" lengthAdjust=\"spacingAndGlyphs\" textLength=\"64\" x=\"85\" y=\"193.1387\">«part def»</text><text fill=\"#000000\" font-family=\"sans-serif\" font-size=\"12\" lengthAdjust=\"spacingAndGlyphs\" textLength=\"16\" x=\"109\" y=\"207.1074\">P1</text><line style=\"stroke: #A80036; stroke-width: 1.5;\" x1=\"85\" x2=\"149\" y1=\"214.9375\" y2=\"214.9375\"/><text fill=\"#000000\" font-family=\"sans-serif\" font-size=\"11\" lengthAdjust=\"spacingAndGlyphs\" textLength=\"36\" x=\"90\" y=\"245.9526\">porig1</text><line style=\"stroke: #A80036; stroke-width: 1.0;\" x1=\"85\" x2=\"102\" y1=\"229.3398\" y2=\"229.3398\"/><text fill=\"#000000\" font-family=\"sans-serif\" font-size=\"11\" lengthAdjust=\"spacingAndGlyphs\" textLength=\"30\" x=\"102\" y=\"232.6479\">ports</text><line style=\"stroke: #A80036; stroke-width: 1.0;\" x1=\"132\" x2=\"149\" y1=\"229.3398\" y2=\"229.3398\"/></a><!--MD5=[ebbe1d658d1005bcc118a6aa81145e00]\n",
       "class E4--><a href=\"psysml:2b3d4312-7497-4457-990a-6ee5375442c5\" target=\"_top\" title=\"psysml:2b3d4312-7497-4457-990a-6ee5375442c5\" xlink:actuate=\"onRequest\" xlink:href=\"psysml:2b3d4312-7497-4457-990a-6ee5375442c5\" xlink:show=\"new\" xlink:title=\"psysml:2b3d4312-7497-4457-990a-6ee5375442c5\" xlink:type=\"simple\"><rect fill=\"#FEFECE\" filter=\"url(#f1v8o7bgw7d177)\" height=\"76.4922\" id=\"E4\" rx=\"10\" ry=\"10\" style=\"stroke: #A80036; stroke-width: 1.5;\" width=\"112\" x=\"113\" y=\"41\"/><text fill=\"#000000\" font-family=\"sans-serif\" font-size=\"12\" font-style=\"italic\" lengthAdjust=\"spacingAndGlyphs\" textLength=\"40\" x=\"149\" y=\"57.1387\">«part»</text><text fill=\"#000000\" font-family=\"sans-serif\" font-size=\"12\" lengthAdjust=\"spacingAndGlyphs\" textLength=\"40\" x=\"149\" y=\"71.1074\">p1: P1</text><line style=\"stroke: #A80036; stroke-width: 1.5;\" x1=\"114\" x2=\"224\" y1=\"78.9375\" y2=\"78.9375\"/><path d=\"M120.9167,100.6589 L120.9167,109.8255 L121.8333,109.8255 L121.8333,100.6589 M124.5833,100.6589 L124.5833,109.8255 L131.9167,105.2422 L124.5833,100.6589 L125.5,102.0339 L130.5417,105.2422 L125.5,108.4505 L125.5,102.0339 \" fill=\"#000000\" style=\"stroke: ; stroke-width: 0.0; stroke-dasharray: ;\"/><text fill=\"#000000\" font-family=\"sans-serif\" font-size=\"11\" lengthAdjust=\"spacingAndGlyphs\" textLength=\"21\" x=\"136\" y=\"110.8979\">po1</text><text fill=\"#000000\" font-family=\"sans-serif\" font-size=\"11\" lengthAdjust=\"spacingAndGlyphs\" text-decoration=\"line-through\" textLength=\"58\" x=\"161\" y=\"110.8979\">P1::porig1</text><line style=\"stroke: #A80036; stroke-width: 1.0;\" x1=\"114\" x2=\"154\" y1=\"93.3398\" y2=\"93.3398\"/><text fill=\"#000000\" font-family=\"sans-serif\" font-size=\"11\" lengthAdjust=\"spacingAndGlyphs\" textLength=\"30\" x=\"154\" y=\"96.6479\">ports</text><line style=\"stroke: #A80036; stroke-width: 1.0;\" x1=\"184\" x2=\"224\" y1=\"93.3398\" y2=\"93.3398\"/></a><!--MD5=[60a26617385b1d2d0262a64233df1f8d]\n",
       "class E6--><a href=\"psysml:09e69c42-70ff-4aed-b93c-c140a8b906a0\" target=\"_top\" title=\"psysml:09e69c42-70ff-4aed-b93c-c140a8b906a0\" xlink:actuate=\"onRequest\" xlink:href=\"psysml:09e69c42-70ff-4aed-b93c-c140a8b906a0\" xlink:show=\"new\" xlink:title=\"psysml:09e69c42-70ff-4aed-b93c-c140a8b906a0\" xlink:type=\"simple\"><rect fill=\"#FEFECE\" filter=\"url(#f1v8o7bgw7d177)\" height=\"75.5469\" id=\"E6\" rx=\"10\" ry=\"10\" style=\"stroke: #A80036; stroke-width: 1.5;\" width=\"46\" x=\"32\" y=\"41\"/><text fill=\"#000000\" font-family=\"sans-serif\" font-size=\"12\" font-style=\"italic\" lengthAdjust=\"spacingAndGlyphs\" textLength=\"40\" x=\"35\" y=\"57.1387\">«part»</text><text fill=\"#000000\" font-family=\"sans-serif\" font-size=\"12\" lengthAdjust=\"spacingAndGlyphs\" textLength=\"40\" x=\"35\" y=\"71.1074\">p2: P1</text><line style=\"stroke: #A80036; stroke-width: 1.5;\" x1=\"33\" x2=\"77\" y1=\"78.9375\" y2=\"78.9375\"/><text fill=\"#000000\" font-family=\"sans-serif\" font-size=\"11\" lengthAdjust=\"spacingAndGlyphs\" textLength=\"32\" x=\"38\" y=\"109.9526\">pdest</text><line style=\"stroke: #A80036; stroke-width: 1.0;\" x1=\"33\" x2=\"40\" y1=\"93.3398\" y2=\"93.3398\"/><text fill=\"#000000\" font-family=\"sans-serif\" font-size=\"11\" lengthAdjust=\"spacingAndGlyphs\" textLength=\"30\" x=\"40\" y=\"96.6479\">ports</text><line style=\"stroke: #A80036; stroke-width: 1.0;\" x1=\"70\" x2=\"77\" y1=\"93.3398\" y2=\"93.3398\"/></a><!--MD5=[185131fc0dcab0a4505a2ebe144e961b]\n",
       "link E4 to E2--><a href=\"psysml:5073669c-7652-4dd2-8e27-7490931f0c73\" target=\"_top\" title=\"psysml:5073669c-7652-4dd2-8e27-7490931f0c73\" xlink:actuate=\"onRequest\" xlink:href=\"psysml:5073669c-7652-4dd2-8e27-7490931f0c73\" xlink:show=\"new\" xlink:title=\"psysml:5073669c-7652-4dd2-8e27-7490931f0c73\" xlink:type=\"simple\"><path d=\"M154.52,117.33 C149.61,129.96 144.03,144.36 138.69,158.11 \" fill=\"none\" id=\"E4-&gt;E2\" style=\"stroke: #A80036; stroke-width: 1.0;\"/><polygon fill=\"#FFFFFF\" points=\"131.41,176.87,131.7522,156.6244,144.8054,161.6856,131.41,176.87\" style=\"stroke: #A80036; stroke-width: 1.0;\"/><ellipse cx=\"135.6776\" cy=\"152.033\" fill=\"#A80036\" rx=\"2\" ry=\"2\" style=\"stroke: #A80036; stroke-width: 1.0;\"/><ellipse cx=\"145.0013\" cy=\"155.6481\" fill=\"#A80036\" rx=\"2\" ry=\"2\" style=\"stroke: #A80036; stroke-width: 1.0;\"/></a><!--MD5=[2351f337d6de0f557b50152ba70847b5]\n",
       "link E6 to E2--><a href=\"psysml:94875f8e-b487-466f-9f77-0e1d93a514ac\" target=\"_top\" title=\"psysml:94875f8e-b487-466f-9f77-0e1d93a514ac\" xlink:actuate=\"onRequest\" xlink:href=\"psysml:94875f8e-b487-466f-9f77-0e1d93a514ac\" xlink:show=\"new\" xlink:title=\"psysml:94875f8e-b487-466f-9f77-0e1d93a514ac\" xlink:type=\"simple\"><path d=\"M72.27,117.33 C78.18,130.1 84.93,144.69 91.36,158.58 \" fill=\"none\" id=\"E6-&gt;E2\" style=\"stroke: #A80036; stroke-width: 1.0;\"/><polygon fill=\"#FFFFFF\" points=\"99.82,176.87,85.4893,162.565,98.1955,156.6868,99.82,176.87\" style=\"stroke: #A80036; stroke-width: 1.0;\"/><ellipse cx=\"84.9112\" cy=\"156.5521\" fill=\"#A80036\" rx=\"2\" ry=\"2\" style=\"stroke: #A80036; stroke-width: 1.0;\"/><ellipse cx=\"93.987\" cy=\"152.3533\" fill=\"#A80036\" rx=\"2\" ry=\"2\" style=\"stroke: #A80036; stroke-width: 1.0;\"/></a><!--MD5=[68df047099355042f7396a7e487b602b]\n",
       "@startuml\r\n",
       "skinparam wrapWidth 300\r\n",
       "hide circle\r\n",
       "\r\n",
       "package \"AliasTest\" as E1  [[psysml:2a952753-6cea-46c9-bb61-930b04eb3411 ]]  {\r\n",
       "comp def \"P1\" as E2  <<(T,blue) part def>> [[psysml:92b6686b-ceec-4d5e-ab27-24733762f61c ]] {\r\n",
       "- - ports - -\r\n",
       "porig1\r\n",
       "}\r\n",
       "comp usage \"p1: P1\" as E4  <<(T,blue) part>> [[psysml:2b3d4312-7497-4457-990a-6ee5375442c5 ]] {\r\n",
       "- - ports - -\r\n",
       "<&bar-trig> po1 <s>P1::porig1</s>\r\n",
       "}\r\n",
       "comp usage \"p2: P1\" as E6  <<(T,blue) part>> [[psysml:09e69c42-70ff-4aed-b93c-c140a8b906a0 ]] {\r\n",
       "- - ports - -\r\n",
       "pdest\r\n",
       "}\r\n",
       "E4 - -:|> E2 [[psysml:5073669c-7652-4dd2-8e27-7490931f0c73 ]] \r\n",
       "E6 - -:|> E2 [[psysml:94875f8e-b487-466f-9f77-0e1d93a514ac ]] \r\n",
       "}\r\n",
       "@enduml\r\n",
       "\n",
       "PlantUML version 1.2020.13(Sat Jun 13 12:26:38 UTC 2020)\n",
       "(EPL source distribution)\n",
       "Java Runtime: OpenJDK Runtime Environment\n",
       "JVM: OpenJDK 64-Bit Server VM\n",
       "Default Encoding: UTF-8\n",
       "Language: en\n",
       "Country: null\n",
       "--></g></svg>"
      ]
     },
     "execution_count": 29,
     "metadata": {},
     "output_type": "execute_result"
    }
   ],
   "source": [
    "%viz --style=\"STDCOLOR\" --view=\"MIXED\" \"AliasTest\""
   ]
  },
  {
   "cell_type": "code",
   "execution_count": 30,
   "id": "af98559f",
   "metadata": {
    "execution": {
     "iopub.execute_input": "2021-06-30T09:16:08.831331Z",
     "iopub.status.busy": "2021-06-30T09:16:08.830287Z",
     "iopub.status.idle": "2021-06-30T09:16:08.925920Z",
     "shell.execute_reply": "2021-06-30T09:16:08.924489Z"
    }
   },
   "outputs": [
    {
     "data": {
      "image/svg+xml": [
       "<?xml version=\"1.0\" encoding=\"UTF-8\" standalone=\"no\"?><svg xmlns=\"http://www.w3.org/2000/svg\" xmlns:xlink=\"http://www.w3.org/1999/xlink\" contentScriptType=\"application/ecmascript\" contentStyleType=\"text/css\" height=\"287px\" preserveAspectRatio=\"none\" style=\"width:269px;height:287px;\" version=\"1.1\" viewBox=\"0 0 269 287\" width=\"269px\" zoomAndPan=\"magnify\"><defs><filter height=\"300%\" id=\"f1h2a4d2y3rnj2\" width=\"300%\" x=\"-1\" y=\"-1\"><feGaussianBlur result=\"blurOut\" stdDeviation=\"2.0\"/><feColorMatrix in=\"blurOut\" result=\"blurOut2\" type=\"matrix\" values=\"0 0 0 0 0 0 0 0 0 0 0 0 0 0 0 0 0 0 .4 0\"/><feOffset dx=\"4.0\" dy=\"4.0\" in=\"blurOut2\" result=\"blurOut3\"/><feBlend in=\"SourceGraphic\" in2=\"blurOut3\" mode=\"normal\"/></filter></defs><g><!--MD5=[fbc87193dbaf4d95561dea2c320d4a47]\n",
       "cluster E1--><a href=\"psysml:2a952753-6cea-46c9-bb61-930b04eb3411\" target=\"_top\" title=\"psysml:2a952753-6cea-46c9-bb61-930b04eb3411\" xlink:actuate=\"onRequest\" xlink:href=\"psysml:2a952753-6cea-46c9-bb61-930b04eb3411\" xlink:show=\"new\" xlink:title=\"psysml:2a952753-6cea-46c9-bb61-930b04eb3411\" xlink:type=\"simple\"><polygon fill=\"#FFFFFF\" filter=\"url(#f1h2a4d2y3rnj2)\" points=\"16,6,94,6,101,28.2969,247,28.2969,247,275,16,275,16,6\" style=\"stroke: #000000; stroke-width: 1.5;\"/><line style=\"stroke: #000000; stroke-width: 1.5;\" x1=\"16\" x2=\"101\" y1=\"28.2969\" y2=\"28.2969\"/><text fill=\"#000000\" font-family=\"sans-serif\" font-size=\"14\" font-weight=\"bold\" lengthAdjust=\"spacingAndGlyphs\" textLength=\"72\" x=\"20\" y=\"20.9951\">AliasTest</text></a><!--MD5=[b4997ac47864f28c2f74865a473b2911]\n",
       "class E2--><a href=\"psysml:92b6686b-ceec-4d5e-ab27-24733762f61c\" target=\"_top\" title=\"psysml:92b6686b-ceec-4d5e-ab27-24733762f61c\" xlink:actuate=\"onRequest\" xlink:href=\"psysml:92b6686b-ceec-4d5e-ab27-24733762f61c\" xlink:show=\"new\" xlink:title=\"psysml:92b6686b-ceec-4d5e-ab27-24733762f61c\" xlink:type=\"simple\"><rect fill=\"#FEFECE\" filter=\"url(#f1h2a4d2y3rnj2)\" height=\"69.6094\" id=\"E2\" style=\"stroke: #A80036; stroke-width: 1.5;\" width=\"48\" x=\"102\" y=\"189\"/><ellipse cx=\"117\" cy=\"205\" fill=\"#008000\" rx=\"11\" ry=\"11\" style=\"stroke: #A80036; stroke-width: 1.0;\"/><path d=\"M115.9063,205.375 L115.9063,209.0469 L117.5313,209.0469 Q118.7031,209.0469 119.1719,208.6563 Q119.6406,208.25 119.6406,207.25 Q119.6406,206.25 119.1406,205.8125 Q118.6563,205.375 117.5313,205.375 L115.9063,205.375 Z M115.9063,200.5469 L115.9063,203.4219 L117.5313,203.4219 Q118.4531,203.4219 118.8438,203.0938 Q119.25,202.75 119.25,202 Q119.25,201.2344 118.8438,200.8906 Q118.4375,200.5469 117.5313,200.5469 L115.9063,200.5469 Z M113.5313,198.5938 L117.5313,198.5938 Q119.5938,198.5938 120.6406,199.375 Q121.6875,200.1563 121.6875,201.7188 Q121.6875,202.9219 121.0625,203.5938 Q120.4531,204.2656 119.2656,204.375 Q120.6875,204.5156 121.4063,205.3281 Q122.125,206.1406 122.125,207.5938 Q122.125,209.3906 121.0469,210.2031 Q119.9688,211 117.5313,211 L113.5313,211 L113.5313,198.5938 Z \"/><text fill=\"#000000\" font-family=\"sans-serif\" font-size=\"12\" lengthAdjust=\"spacingAndGlyphs\" textLength=\"16\" x=\"131\" y=\"209.1543\">P1</text><line style=\"stroke: #A80036; stroke-width: 1.5;\" x1=\"103\" x2=\"149\" y1=\"221\" y2=\"221\"/><text fill=\"#000000\" font-family=\"sans-serif\" font-size=\"11\" lengthAdjust=\"spacingAndGlyphs\" textLength=\"36\" x=\"108\" y=\"252.0151\">porig1</text><line style=\"stroke: #A80036; stroke-width: 1.0;\" x1=\"103\" x2=\"111\" y1=\"235.4023\" y2=\"235.4023\"/><text fill=\"#000000\" font-family=\"sans-serif\" font-size=\"11\" lengthAdjust=\"spacingAndGlyphs\" textLength=\"30\" x=\"111\" y=\"238.7104\">ports</text><line style=\"stroke: #A80036; stroke-width: 1.0;\" x1=\"141\" x2=\"149\" y1=\"235.4023\" y2=\"235.4023\"/></a><!--MD5=[ebbe1d658d1005bcc118a6aa81145e00]\n",
       "class E4--><a href=\"psysml:2b3d4312-7497-4457-990a-6ee5375442c5\" target=\"_top\" title=\"psysml:2b3d4312-7497-4457-990a-6ee5375442c5\" xlink:actuate=\"onRequest\" xlink:href=\"psysml:2b3d4312-7497-4457-990a-6ee5375442c5\" xlink:show=\"new\" xlink:title=\"psysml:2b3d4312-7497-4457-990a-6ee5375442c5\" xlink:type=\"simple\"><rect fill=\"#FEFECE\" filter=\"url(#f1h2a4d2y3rnj2)\" height=\"88.3516\" id=\"E4\" rx=\"10\" ry=\"10\" style=\"stroke: #A80036; stroke-width: 1.5;\" width=\"92\" x=\"139\" y=\"41\"/><ellipse cx=\"163\" cy=\"59.9688\" fill=\"#32CD32\" rx=\"11\" ry=\"11\" style=\"stroke: #A80036; stroke-width: 1.0;\"/><path d=\"M162.7969,55.6406 L162.7969,59.2656 L163.7969,59.2656 Q165,59.2656 165.4844,58.8594 Q165.9688,58.4531 165.9688,57.4531 Q165.9688,56.4531 165.4844,56.0469 Q165,55.6406 163.7969,55.6406 L162.7969,55.6406 Z M160.3438,53.5781 L163.7031,53.5781 Q166.2656,53.5781 167.3906,54.5 Q168.5156,55.4063 168.5156,57.4531 Q168.5156,59.5 167.3906,60.4219 Q166.2656,61.3281 163.7031,61.3281 L162.7969,61.3281 L162.7969,65.9688 L160.3438,65.9688 L160.3438,53.5781 Z \"/><text fill=\"#000000\" font-family=\"sans-serif\" font-size=\"12\" font-style=\"italic\" lengthAdjust=\"spacingAndGlyphs\" textLength=\"40\" x=\"179\" y=\"57.1387\">«part»</text><text fill=\"#000000\" font-family=\"sans-serif\" font-size=\"12\" lengthAdjust=\"spacingAndGlyphs\" textLength=\"40\" x=\"179\" y=\"71.1074\">p1: P1</text><line style=\"stroke: #A80036; stroke-width: 1.5;\" x1=\"140\" x2=\"230\" y1=\"78.9375\" y2=\"78.9375\"/><text fill=\"#000000\" font-family=\"sans-serif\" font-size=\"11\" lengthAdjust=\"spacingAndGlyphs\" textLength=\"21\" x=\"145\" y=\"109.9526\">po1</text><text fill=\"#000000\" font-family=\"sans-serif\" font-size=\"11\" font-style=\"italic\" lengthAdjust=\"spacingAndGlyphs\" textLength=\"80\" x=\"145\" y=\"122.7573\">:&gt;&gt;P1::porig1</text><line style=\"stroke: #A80036; stroke-width: 1.0;\" x1=\"140\" x2=\"170\" y1=\"93.3398\" y2=\"93.3398\"/><text fill=\"#000000\" font-family=\"sans-serif\" font-size=\"11\" lengthAdjust=\"spacingAndGlyphs\" textLength=\"30\" x=\"170\" y=\"96.6479\">ports</text><line style=\"stroke: #A80036; stroke-width: 1.0;\" x1=\"200\" x2=\"230\" y1=\"93.3398\" y2=\"93.3398\"/></a><!--MD5=[60a26617385b1d2d0262a64233df1f8d]\n",
       "class E6--><a href=\"psysml:09e69c42-70ff-4aed-b93c-c140a8b906a0\" target=\"_top\" title=\"psysml:09e69c42-70ff-4aed-b93c-c140a8b906a0\" xlink:actuate=\"onRequest\" xlink:href=\"psysml:09e69c42-70ff-4aed-b93c-c140a8b906a0\" xlink:show=\"new\" xlink:title=\"psysml:09e69c42-70ff-4aed-b93c-c140a8b906a0\" xlink:type=\"simple\"><rect fill=\"#FEFECE\" filter=\"url(#f1h2a4d2y3rnj2)\" height=\"75.5469\" id=\"E6\" rx=\"10\" ry=\"10\" style=\"stroke: #A80036; stroke-width: 1.5;\" width=\"72\" x=\"32\" y=\"47\"/><ellipse cx=\"47\" cy=\"65.9688\" fill=\"#32CD32\" rx=\"11\" ry=\"11\" style=\"stroke: #A80036; stroke-width: 1.0;\"/><path d=\"M46.7969,61.6406 L46.7969,65.2656 L47.7969,65.2656 Q49,65.2656 49.4844,64.8594 Q49.9688,64.4531 49.9688,63.4531 Q49.9688,62.4531 49.4844,62.0469 Q49,61.6406 47.7969,61.6406 L46.7969,61.6406 Z M44.3438,59.5781 L47.7031,59.5781 Q50.2656,59.5781 51.3906,60.5 Q52.5156,61.4063 52.5156,63.4531 Q52.5156,65.5 51.3906,66.4219 Q50.2656,67.3281 47.7031,67.3281 L46.7969,67.3281 L46.7969,71.9688 L44.3438,71.9688 L44.3438,59.5781 Z \"/><text fill=\"#000000\" font-family=\"sans-serif\" font-size=\"12\" font-style=\"italic\" lengthAdjust=\"spacingAndGlyphs\" textLength=\"40\" x=\"61\" y=\"63.1387\">«part»</text><text fill=\"#000000\" font-family=\"sans-serif\" font-size=\"12\" lengthAdjust=\"spacingAndGlyphs\" textLength=\"40\" x=\"61\" y=\"77.1074\">p2: P1</text><line style=\"stroke: #A80036; stroke-width: 1.5;\" x1=\"33\" x2=\"103\" y1=\"84.9375\" y2=\"84.9375\"/><text fill=\"#000000\" font-family=\"sans-serif\" font-size=\"11\" lengthAdjust=\"spacingAndGlyphs\" textLength=\"32\" x=\"38\" y=\"115.9526\">pdest</text><line style=\"stroke: #A80036; stroke-width: 1.0;\" x1=\"33\" x2=\"53\" y1=\"99.3398\" y2=\"99.3398\"/><text fill=\"#000000\" font-family=\"sans-serif\" font-size=\"11\" lengthAdjust=\"spacingAndGlyphs\" textLength=\"30\" x=\"53\" y=\"102.6479\">ports</text><line style=\"stroke: #A80036; stroke-width: 1.0;\" x1=\"83\" x2=\"103\" y1=\"99.3398\" y2=\"99.3398\"/></a><!--MD5=[185131fc0dcab0a4505a2ebe144e961b]\n",
       "link E4 to E2--><a href=\"psysml:5073669c-7652-4dd2-8e27-7490931f0c73\" target=\"_top\" title=\"psysml:5073669c-7652-4dd2-8e27-7490931f0c73\" xlink:actuate=\"onRequest\" xlink:href=\"psysml:5073669c-7652-4dd2-8e27-7490931f0c73\" xlink:show=\"new\" xlink:title=\"psysml:5073669c-7652-4dd2-8e27-7490931f0c73\" xlink:type=\"simple\"><path d=\"M166.33,129.35 C160.8,142.2 154.67,156.42 148.9,169.82 \" fill=\"none\" id=\"E4-&gt;E2\" style=\"stroke: #A80036; stroke-width: 1.0;\"/><polygon fill=\"#FFFFFF\" points=\"140.81,188.61,141.8984,168.3908,154.756,173.9298,140.81,188.61\" style=\"stroke: #A80036; stroke-width: 1.0;\"/><ellipse cx=\"145.9903\" cy=\"163.9472\" fill=\"#A80036\" rx=\"2\" ry=\"2\" style=\"stroke: #A80036; stroke-width: 1.0;\"/><ellipse cx=\"155.1744\" cy=\"167.9036\" fill=\"#A80036\" rx=\"2\" ry=\"2\" style=\"stroke: #A80036; stroke-width: 1.0;\"/></a><!--MD5=[2351f337d6de0f557b50152ba70847b5]\n",
       "link E6 to E2--><a href=\"psysml:94875f8e-b487-466f-9f77-0e1d93a514ac\" target=\"_top\" title=\"psysml:94875f8e-b487-466f-9f77-0e1d93a514ac\" xlink:actuate=\"onRequest\" xlink:href=\"psysml:94875f8e-b487-466f-9f77-0e1d93a514ac\" xlink:show=\"new\" xlink:title=\"psysml:94875f8e-b487-466f-9f77-0e1d93a514ac\" xlink:type=\"simple\"><path d=\"M83.7,123.07 C89.82,137.53 96.94,154.37 103.59,170.06 \" fill=\"none\" id=\"E6-&gt;E2\" style=\"stroke: #A80036; stroke-width: 1.0;\"/><polygon fill=\"#FFFFFF\" points=\"111.49,188.72,97.6378,173.9512,110.5305,168.4943,111.49,188.72\" style=\"stroke: #A80036; stroke-width: 1.0;\"/><ellipse cx=\"97.2579\" cy=\"167.9225\" fill=\"#A80036\" rx=\"2\" ry=\"2\" style=\"stroke: #A80036; stroke-width: 1.0;\"/><ellipse cx=\"106.467\" cy=\"164.0247\" fill=\"#A80036\" rx=\"2\" ry=\"2\" style=\"stroke: #A80036; stroke-width: 1.0;\"/></a><!--MD5=[bb142418a209d02ecdf4153f1569af8e]\n",
       "@startuml\r\n",
       " \r\n",
       "package \"AliasTest\" as E1  [[psysml:2a952753-6cea-46c9-bb61-930b04eb3411 ]]  {\r\n",
       "comp def \"P1\" as E2 << << (B,green) >> [[psysml:92b6686b-ceec-4d5e-ab27-24733762f61c ]] {\r\n",
       "- - ports - -\r\n",
       "porig1\r\n",
       "}\r\n",
       "comp usage \"p1: P1\" as E4 << << (P,limegreen) part>> [[psysml:2b3d4312-7497-4457-990a-6ee5375442c5 ]] {\r\n",
       "- - ports - -\r\n",
       "po1\\n//:>>P1::porig1// \r\n",
       "}\r\n",
       "comp usage \"p2: P1\" as E6 << << (P,limegreen) part>> [[psysml:09e69c42-70ff-4aed-b93c-c140a8b906a0 ]] {\r\n",
       "- - ports - -\r\n",
       "pdest\r\n",
       "}\r\n",
       "E4 - -:|> E2 [[psysml:5073669c-7652-4dd2-8e27-7490931f0c73 ]] \r\n",
       "E6 - -:|> E2 [[psysml:94875f8e-b487-466f-9f77-0e1d93a514ac ]] \r\n",
       "}\r\n",
       "@enduml\r\n",
       "\n",
       "PlantUML version 1.2020.13(Sat Jun 13 12:26:38 UTC 2020)\n",
       "(EPL source distribution)\n",
       "Java Runtime: OpenJDK Runtime Environment\n",
       "JVM: OpenJDK 64-Bit Server VM\n",
       "Default Encoding: UTF-8\n",
       "Language: en\n",
       "Country: null\n",
       "--></g></svg>"
      ]
     },
     "execution_count": 30,
     "metadata": {},
     "output_type": "execute_result"
    }
   ],
   "source": [
    "%viz --style=\"PLANTUML\" --view=\"Default\" \"AliasTest\""
   ]
  },
  {
   "cell_type": "code",
   "execution_count": 31,
   "id": "2a73f7f0",
   "metadata": {
    "execution": {
     "iopub.execute_input": "2021-06-30T09:16:08.979478Z",
     "iopub.status.busy": "2021-06-30T09:16:08.978691Z",
     "iopub.status.idle": "2021-06-30T09:16:09.050552Z",
     "shell.execute_reply": "2021-06-30T09:16:09.048647Z"
    }
   },
   "outputs": [
    {
     "data": {
      "image/svg+xml": [
       "<?xml version=\"1.0\" encoding=\"UTF-8\" standalone=\"no\"?><svg xmlns=\"http://www.w3.org/2000/svg\" xmlns:xlink=\"http://www.w3.org/1999/xlink\" contentScriptType=\"application/ecmascript\" contentStyleType=\"text/css\" height=\"287px\" preserveAspectRatio=\"none\" style=\"width:269px;height:287px;\" version=\"1.1\" viewBox=\"0 0 269 287\" width=\"269px\" zoomAndPan=\"magnify\"><defs><filter height=\"300%\" id=\"f1h2a4d2y3rnj2\" width=\"300%\" x=\"-1\" y=\"-1\"><feGaussianBlur result=\"blurOut\" stdDeviation=\"2.0\"/><feColorMatrix in=\"blurOut\" result=\"blurOut2\" type=\"matrix\" values=\"0 0 0 0 0 0 0 0 0 0 0 0 0 0 0 0 0 0 .4 0\"/><feOffset dx=\"4.0\" dy=\"4.0\" in=\"blurOut2\" result=\"blurOut3\"/><feBlend in=\"SourceGraphic\" in2=\"blurOut3\" mode=\"normal\"/></filter></defs><g><!--MD5=[fbc87193dbaf4d95561dea2c320d4a47]\n",
       "cluster E1--><a href=\"psysml:2a952753-6cea-46c9-bb61-930b04eb3411\" target=\"_top\" title=\"psysml:2a952753-6cea-46c9-bb61-930b04eb3411\" xlink:actuate=\"onRequest\" xlink:href=\"psysml:2a952753-6cea-46c9-bb61-930b04eb3411\" xlink:show=\"new\" xlink:title=\"psysml:2a952753-6cea-46c9-bb61-930b04eb3411\" xlink:type=\"simple\"><polygon fill=\"#FFFFFF\" filter=\"url(#f1h2a4d2y3rnj2)\" points=\"16,6,94,6,101,28.2969,247,28.2969,247,275,16,275,16,6\" style=\"stroke: #000000; stroke-width: 1.5;\"/><line style=\"stroke: #000000; stroke-width: 1.5;\" x1=\"16\" x2=\"101\" y1=\"28.2969\" y2=\"28.2969\"/><text fill=\"#000000\" font-family=\"sans-serif\" font-size=\"14\" font-weight=\"bold\" lengthAdjust=\"spacingAndGlyphs\" textLength=\"72\" x=\"20\" y=\"20.9951\">AliasTest</text></a><!--MD5=[b4997ac47864f28c2f74865a473b2911]\n",
       "class E2--><a href=\"psysml:92b6686b-ceec-4d5e-ab27-24733762f61c\" target=\"_top\" title=\"psysml:92b6686b-ceec-4d5e-ab27-24733762f61c\" xlink:actuate=\"onRequest\" xlink:href=\"psysml:92b6686b-ceec-4d5e-ab27-24733762f61c\" xlink:show=\"new\" xlink:title=\"psysml:92b6686b-ceec-4d5e-ab27-24733762f61c\" xlink:type=\"simple\"><rect fill=\"#FEFECE\" filter=\"url(#f1h2a4d2y3rnj2)\" height=\"69.6094\" id=\"E2\" style=\"stroke: #A80036; stroke-width: 1.5;\" width=\"48\" x=\"102\" y=\"189\"/><ellipse cx=\"117\" cy=\"205\" fill=\"#008000\" rx=\"11\" ry=\"11\" style=\"stroke: #A80036; stroke-width: 1.0;\"/><path d=\"M115.9063,205.375 L115.9063,209.0469 L117.5313,209.0469 Q118.7031,209.0469 119.1719,208.6563 Q119.6406,208.25 119.6406,207.25 Q119.6406,206.25 119.1406,205.8125 Q118.6563,205.375 117.5313,205.375 L115.9063,205.375 Z M115.9063,200.5469 L115.9063,203.4219 L117.5313,203.4219 Q118.4531,203.4219 118.8438,203.0938 Q119.25,202.75 119.25,202 Q119.25,201.2344 118.8438,200.8906 Q118.4375,200.5469 117.5313,200.5469 L115.9063,200.5469 Z M113.5313,198.5938 L117.5313,198.5938 Q119.5938,198.5938 120.6406,199.375 Q121.6875,200.1563 121.6875,201.7188 Q121.6875,202.9219 121.0625,203.5938 Q120.4531,204.2656 119.2656,204.375 Q120.6875,204.5156 121.4063,205.3281 Q122.125,206.1406 122.125,207.5938 Q122.125,209.3906 121.0469,210.2031 Q119.9688,211 117.5313,211 L113.5313,211 L113.5313,198.5938 Z \"/><text fill=\"#000000\" font-family=\"sans-serif\" font-size=\"12\" lengthAdjust=\"spacingAndGlyphs\" textLength=\"16\" x=\"131\" y=\"209.1543\">P1</text><line style=\"stroke: #A80036; stroke-width: 1.5;\" x1=\"103\" x2=\"149\" y1=\"221\" y2=\"221\"/><text fill=\"#000000\" font-family=\"sans-serif\" font-size=\"11\" lengthAdjust=\"spacingAndGlyphs\" textLength=\"36\" x=\"108\" y=\"252.0151\">porig1</text><line style=\"stroke: #A80036; stroke-width: 1.0;\" x1=\"103\" x2=\"111\" y1=\"235.4023\" y2=\"235.4023\"/><text fill=\"#000000\" font-family=\"sans-serif\" font-size=\"11\" lengthAdjust=\"spacingAndGlyphs\" textLength=\"30\" x=\"111\" y=\"238.7104\">ports</text><line style=\"stroke: #A80036; stroke-width: 1.0;\" x1=\"141\" x2=\"149\" y1=\"235.4023\" y2=\"235.4023\"/></a><!--MD5=[ebbe1d658d1005bcc118a6aa81145e00]\n",
       "class E4--><a href=\"psysml:2b3d4312-7497-4457-990a-6ee5375442c5\" target=\"_top\" title=\"psysml:2b3d4312-7497-4457-990a-6ee5375442c5\" xlink:actuate=\"onRequest\" xlink:href=\"psysml:2b3d4312-7497-4457-990a-6ee5375442c5\" xlink:show=\"new\" xlink:title=\"psysml:2b3d4312-7497-4457-990a-6ee5375442c5\" xlink:type=\"simple\"><rect fill=\"#FEFECE\" filter=\"url(#f1h2a4d2y3rnj2)\" height=\"88.3516\" id=\"E4\" rx=\"10\" ry=\"10\" style=\"stroke: #A80036; stroke-width: 1.5;\" width=\"92\" x=\"139\" y=\"41\"/><ellipse cx=\"163\" cy=\"59.9688\" fill=\"#32CD32\" rx=\"11\" ry=\"11\" style=\"stroke: #A80036; stroke-width: 1.0;\"/><path d=\"M162.7969,55.6406 L162.7969,59.2656 L163.7969,59.2656 Q165,59.2656 165.4844,58.8594 Q165.9688,58.4531 165.9688,57.4531 Q165.9688,56.4531 165.4844,56.0469 Q165,55.6406 163.7969,55.6406 L162.7969,55.6406 Z M160.3438,53.5781 L163.7031,53.5781 Q166.2656,53.5781 167.3906,54.5 Q168.5156,55.4063 168.5156,57.4531 Q168.5156,59.5 167.3906,60.4219 Q166.2656,61.3281 163.7031,61.3281 L162.7969,61.3281 L162.7969,65.9688 L160.3438,65.9688 L160.3438,53.5781 Z \"/><text fill=\"#000000\" font-family=\"sans-serif\" font-size=\"12\" font-style=\"italic\" lengthAdjust=\"spacingAndGlyphs\" textLength=\"40\" x=\"179\" y=\"57.1387\">«part»</text><text fill=\"#000000\" font-family=\"sans-serif\" font-size=\"12\" lengthAdjust=\"spacingAndGlyphs\" textLength=\"40\" x=\"179\" y=\"71.1074\">p1: P1</text><line style=\"stroke: #A80036; stroke-width: 1.5;\" x1=\"140\" x2=\"230\" y1=\"78.9375\" y2=\"78.9375\"/><text fill=\"#000000\" font-family=\"sans-serif\" font-size=\"11\" lengthAdjust=\"spacingAndGlyphs\" textLength=\"21\" x=\"145\" y=\"109.9526\">po1</text><text fill=\"#000000\" font-family=\"sans-serif\" font-size=\"11\" font-style=\"italic\" lengthAdjust=\"spacingAndGlyphs\" textLength=\"80\" x=\"145\" y=\"122.7573\">:&gt;&gt;P1::porig1</text><line style=\"stroke: #A80036; stroke-width: 1.0;\" x1=\"140\" x2=\"170\" y1=\"93.3398\" y2=\"93.3398\"/><text fill=\"#000000\" font-family=\"sans-serif\" font-size=\"11\" lengthAdjust=\"spacingAndGlyphs\" textLength=\"30\" x=\"170\" y=\"96.6479\">ports</text><line style=\"stroke: #A80036; stroke-width: 1.0;\" x1=\"200\" x2=\"230\" y1=\"93.3398\" y2=\"93.3398\"/></a><!--MD5=[60a26617385b1d2d0262a64233df1f8d]\n",
       "class E6--><a href=\"psysml:09e69c42-70ff-4aed-b93c-c140a8b906a0\" target=\"_top\" title=\"psysml:09e69c42-70ff-4aed-b93c-c140a8b906a0\" xlink:actuate=\"onRequest\" xlink:href=\"psysml:09e69c42-70ff-4aed-b93c-c140a8b906a0\" xlink:show=\"new\" xlink:title=\"psysml:09e69c42-70ff-4aed-b93c-c140a8b906a0\" xlink:type=\"simple\"><rect fill=\"#FEFECE\" filter=\"url(#f1h2a4d2y3rnj2)\" height=\"75.5469\" id=\"E6\" rx=\"10\" ry=\"10\" style=\"stroke: #A80036; stroke-width: 1.5;\" width=\"72\" x=\"32\" y=\"47\"/><ellipse cx=\"47\" cy=\"65.9688\" fill=\"#32CD32\" rx=\"11\" ry=\"11\" style=\"stroke: #A80036; stroke-width: 1.0;\"/><path d=\"M46.7969,61.6406 L46.7969,65.2656 L47.7969,65.2656 Q49,65.2656 49.4844,64.8594 Q49.9688,64.4531 49.9688,63.4531 Q49.9688,62.4531 49.4844,62.0469 Q49,61.6406 47.7969,61.6406 L46.7969,61.6406 Z M44.3438,59.5781 L47.7031,59.5781 Q50.2656,59.5781 51.3906,60.5 Q52.5156,61.4063 52.5156,63.4531 Q52.5156,65.5 51.3906,66.4219 Q50.2656,67.3281 47.7031,67.3281 L46.7969,67.3281 L46.7969,71.9688 L44.3438,71.9688 L44.3438,59.5781 Z \"/><text fill=\"#000000\" font-family=\"sans-serif\" font-size=\"12\" font-style=\"italic\" lengthAdjust=\"spacingAndGlyphs\" textLength=\"40\" x=\"61\" y=\"63.1387\">«part»</text><text fill=\"#000000\" font-family=\"sans-serif\" font-size=\"12\" lengthAdjust=\"spacingAndGlyphs\" textLength=\"40\" x=\"61\" y=\"77.1074\">p2: P1</text><line style=\"stroke: #A80036; stroke-width: 1.5;\" x1=\"33\" x2=\"103\" y1=\"84.9375\" y2=\"84.9375\"/><text fill=\"#000000\" font-family=\"sans-serif\" font-size=\"11\" lengthAdjust=\"spacingAndGlyphs\" textLength=\"32\" x=\"38\" y=\"115.9526\">pdest</text><line style=\"stroke: #A80036; stroke-width: 1.0;\" x1=\"33\" x2=\"53\" y1=\"99.3398\" y2=\"99.3398\"/><text fill=\"#000000\" font-family=\"sans-serif\" font-size=\"11\" lengthAdjust=\"spacingAndGlyphs\" textLength=\"30\" x=\"53\" y=\"102.6479\">ports</text><line style=\"stroke: #A80036; stroke-width: 1.0;\" x1=\"83\" x2=\"103\" y1=\"99.3398\" y2=\"99.3398\"/></a><!--MD5=[185131fc0dcab0a4505a2ebe144e961b]\n",
       "link E4 to E2--><a href=\"psysml:5073669c-7652-4dd2-8e27-7490931f0c73\" target=\"_top\" title=\"psysml:5073669c-7652-4dd2-8e27-7490931f0c73\" xlink:actuate=\"onRequest\" xlink:href=\"psysml:5073669c-7652-4dd2-8e27-7490931f0c73\" xlink:show=\"new\" xlink:title=\"psysml:5073669c-7652-4dd2-8e27-7490931f0c73\" xlink:type=\"simple\"><path d=\"M166.33,129.35 C160.8,142.2 154.67,156.42 148.9,169.82 \" fill=\"none\" id=\"E4-&gt;E2\" style=\"stroke: #A80036; stroke-width: 1.0;\"/><polygon fill=\"#FFFFFF\" points=\"140.81,188.61,141.8984,168.3908,154.756,173.9298,140.81,188.61\" style=\"stroke: #A80036; stroke-width: 1.0;\"/><ellipse cx=\"145.9903\" cy=\"163.9472\" fill=\"#A80036\" rx=\"2\" ry=\"2\" style=\"stroke: #A80036; stroke-width: 1.0;\"/><ellipse cx=\"155.1744\" cy=\"167.9036\" fill=\"#A80036\" rx=\"2\" ry=\"2\" style=\"stroke: #A80036; stroke-width: 1.0;\"/></a><!--MD5=[2351f337d6de0f557b50152ba70847b5]\n",
       "link E6 to E2--><a href=\"psysml:94875f8e-b487-466f-9f77-0e1d93a514ac\" target=\"_top\" title=\"psysml:94875f8e-b487-466f-9f77-0e1d93a514ac\" xlink:actuate=\"onRequest\" xlink:href=\"psysml:94875f8e-b487-466f-9f77-0e1d93a514ac\" xlink:show=\"new\" xlink:title=\"psysml:94875f8e-b487-466f-9f77-0e1d93a514ac\" xlink:type=\"simple\"><path d=\"M83.7,123.07 C89.82,137.53 96.94,154.37 103.59,170.06 \" fill=\"none\" id=\"E6-&gt;E2\" style=\"stroke: #A80036; stroke-width: 1.0;\"/><polygon fill=\"#FFFFFF\" points=\"111.49,188.72,97.6378,173.9512,110.5305,168.4943,111.49,188.72\" style=\"stroke: #A80036; stroke-width: 1.0;\"/><ellipse cx=\"97.2579\" cy=\"167.9225\" fill=\"#A80036\" rx=\"2\" ry=\"2\" style=\"stroke: #A80036; stroke-width: 1.0;\"/><ellipse cx=\"106.467\" cy=\"164.0247\" fill=\"#A80036\" rx=\"2\" ry=\"2\" style=\"stroke: #A80036; stroke-width: 1.0;\"/></a><!--MD5=[bb142418a209d02ecdf4153f1569af8e]\n",
       "@startuml\r\n",
       " \r\n",
       "package \"AliasTest\" as E1  [[psysml:2a952753-6cea-46c9-bb61-930b04eb3411 ]]  {\r\n",
       "comp def \"P1\" as E2 << << (B,green) >> [[psysml:92b6686b-ceec-4d5e-ab27-24733762f61c ]] {\r\n",
       "- - ports - -\r\n",
       "porig1\r\n",
       "}\r\n",
       "comp usage \"p1: P1\" as E4 << << (P,limegreen) part>> [[psysml:2b3d4312-7497-4457-990a-6ee5375442c5 ]] {\r\n",
       "- - ports - -\r\n",
       "po1\\n//:>>P1::porig1// \r\n",
       "}\r\n",
       "comp usage \"p2: P1\" as E6 << << (P,limegreen) part>> [[psysml:09e69c42-70ff-4aed-b93c-c140a8b906a0 ]] {\r\n",
       "- - ports - -\r\n",
       "pdest\r\n",
       "}\r\n",
       "E4 - -:|> E2 [[psysml:5073669c-7652-4dd2-8e27-7490931f0c73 ]] \r\n",
       "E6 - -:|> E2 [[psysml:94875f8e-b487-466f-9f77-0e1d93a514ac ]] \r\n",
       "}\r\n",
       "@enduml\r\n",
       "\n",
       "PlantUML version 1.2020.13(Sat Jun 13 12:26:38 UTC 2020)\n",
       "(EPL source distribution)\n",
       "Java Runtime: OpenJDK Runtime Environment\n",
       "JVM: OpenJDK 64-Bit Server VM\n",
       "Default Encoding: UTF-8\n",
       "Language: en\n",
       "Country: null\n",
       "--></g></svg>"
      ]
     },
     "execution_count": 31,
     "metadata": {},
     "output_type": "execute_result"
    }
   ],
   "source": [
    "%viz --style=\"PLANTUML\" --view=\"Tree\" \"AliasTest\""
   ]
  },
  {
   "cell_type": "code",
   "execution_count": 32,
   "id": "e07be7ce",
   "metadata": {
    "execution": {
     "iopub.execute_input": "2021-06-30T09:16:09.102201Z",
     "iopub.status.busy": "2021-06-30T09:16:09.101433Z",
     "iopub.status.idle": "2021-06-30T09:16:09.210363Z",
     "shell.execute_reply": "2021-06-30T09:16:09.208286Z"
    }
   },
   "outputs": [
    {
     "data": {
      "image/svg+xml": [
       "<?xml version=\"1.0\" encoding=\"UTF-8\" standalone=\"no\"?><svg xmlns=\"http://www.w3.org/2000/svg\" xmlns:xlink=\"http://www.w3.org/1999/xlink\" contentScriptType=\"application/ecmascript\" contentStyleType=\"text/css\" height=\"303px\" preserveAspectRatio=\"none\" style=\"width:603px;height:303px;background:#000000;\" version=\"1.1\" viewBox=\"0 0 603 303\" width=\"603px\" zoomAndPan=\"magnify\"><defs/><g><rect fill=\"#07220F\" height=\"1\" style=\"stroke: #07220F; stroke-width: 1.0;\" width=\"1\" x=\"0\" y=\"0\"/><rect fill=\"#FFFFFF\" height=\"205.5625\" style=\"stroke: #FFFFFF; stroke-width: 1.0;\" width=\"602\" x=\"0\" y=\"0\"/><text fill=\"#000000\" font-family=\"sans-serif\" font-size=\"12\" font-weight=\"bold\" lengthAdjust=\"spacingAndGlyphs\" textLength=\"159\" x=\"5\" y=\"16.1387\">Welcome to PlantUML!</text><text fill=\"#000000\" font-family=\"sans-serif\" font-size=\"12\" lengthAdjust=\"spacingAndGlyphs\" textLength=\"0\" x=\"9\" y=\"30.1074\"/><text fill=\"#000000\" font-family=\"sans-serif\" font-size=\"12\" lengthAdjust=\"spacingAndGlyphs\" textLength=\"293\" x=\"5\" y=\"44.0762\">If you use this software, you accept its license.</text><text fill=\"#000000\" font-family=\"sans-serif\" font-size=\"12\" lengthAdjust=\"spacingAndGlyphs\" textLength=\"107\" x=\"5\" y=\"58.0449\">(details by typing</text><text fill=\"#000000\" font-family=\"monospace\" font-size=\"12\" lengthAdjust=\"spacingAndGlyphs\" textLength=\"49\" x=\"116\" y=\"58.0449\">license</text><text fill=\"#000000\" font-family=\"sans-serif\" font-size=\"12\" lengthAdjust=\"spacingAndGlyphs\" textLength=\"56\" x=\"169\" y=\"58.0449\">keyword)</text><text fill=\"#000000\" font-family=\"sans-serif\" font-size=\"12\" lengthAdjust=\"spacingAndGlyphs\" textLength=\"0\" x=\"9\" y=\"72.0137\"/><text fill=\"#000000\" font-family=\"sans-serif\" font-size=\"12\" lengthAdjust=\"spacingAndGlyphs\" textLength=\"283\" x=\"5\" y=\"85.9824\">You can start with a simple UML Diagram like:</text><text fill=\"#000000\" font-family=\"sans-serif\" font-size=\"12\" lengthAdjust=\"spacingAndGlyphs\" textLength=\"0\" x=\"9\" y=\"99.9512\"/><text fill=\"#000000\" font-family=\"monospace\" font-size=\"12\" lengthAdjust=\"spacingAndGlyphs\" textLength=\"119\" x=\"5\" y=\"113.9199\">Bob-&gt;Alice: Hello</text><text fill=\"#000000\" font-family=\"sans-serif\" font-size=\"12\" lengthAdjust=\"spacingAndGlyphs\" textLength=\"0\" x=\"9\" y=\"127.8887\"/><text fill=\"#000000\" font-family=\"sans-serif\" font-size=\"12\" lengthAdjust=\"spacingAndGlyphs\" textLength=\"14\" x=\"5\" y=\"141.8574\">Or</text><text fill=\"#000000\" font-family=\"sans-serif\" font-size=\"12\" lengthAdjust=\"spacingAndGlyphs\" textLength=\"0\" x=\"9\" y=\"155.8262\"/><text fill=\"#000000\" font-family=\"monospace\" font-size=\"12\" lengthAdjust=\"spacingAndGlyphs\" textLength=\"91\" x=\"5\" y=\"169.7949\">class Example</text><text fill=\"#000000\" font-family=\"sans-serif\" font-size=\"12\" lengthAdjust=\"spacingAndGlyphs\" textLength=\"0\" x=\"9\" y=\"183.7637\"/><text fill=\"#000000\" font-family=\"sans-serif\" font-size=\"12\" lengthAdjust=\"spacingAndGlyphs\" textLength=\"349\" x=\"5\" y=\"197.7324\">You will find more information about PlantUML syntax on</text><text fill=\"#000000\" font-family=\"sans-serif\" font-size=\"12\" lengthAdjust=\"spacingAndGlyphs\" text-decoration=\"underline\" textLength=\"129\" x=\"358\" y=\"197.7324\">https://plantuml.com</text><image height=\"71\" width=\"80\" x=\"516\" xlink:href=\"data:image/png;base64,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\" y=\"6\"/><rect fill=\"#000000\" height=\"96.4844\" style=\"stroke: #000000; stroke-width: 1.0;\" width=\"602\" x=\"0\" y=\"205.5625\"/><rect fill=\"#33FF02\" height=\"21.2969\" style=\"stroke: #33FF02; stroke-width: 1.0;\" width=\"170\" x=\"5\" y=\"210.5625\"/><text fill=\"#000000\" font-family=\"sans-serif\" font-size=\"14\" font-weight=\"bold\" lengthAdjust=\"spacingAndGlyphs\" textLength=\"168\" x=\"6\" y=\"225.5625\">[From string (line 2) ]</text><text fill=\"#33FF02\" font-family=\"sans-serif\" font-size=\"14\" font-weight=\"bold\" lengthAdjust=\"spacingAndGlyphs\" textLength=\"0\" x=\"10\" y=\"245.8594\"/><text fill=\"#33FF02\" font-family=\"sans-serif\" font-size=\"14\" font-weight=\"bold\" lengthAdjust=\"spacingAndGlyphs\" textLength=\"79\" x=\"5\" y=\"262.1563\">@startuml</text><text fill=\"#33FF02\" font-family=\"sans-serif\" font-size=\"14\" font-weight=\"bold\" lengthAdjust=\"spacingAndGlyphs\" textLength=\"0\" x=\"10\" y=\"278.4531\"/><text fill=\"#FF0000\" font-family=\"sans-serif\" font-size=\"14\" font-weight=\"bold\" lengthAdjust=\"spacingAndGlyphs\" textLength=\"142\" x=\"10\" y=\"294.75\">Empty description</text><!--MD5=[f59edd8218d337f74d0c332fc6737304]\n",
       "@startuml\r\n",
       " \r\n",
       "@enduml\r\n",
       "\n",
       "PlantUML version 1.2020.13(Sat Jun 13 12:26:38 UTC 2020)\n",
       "(EPL source distribution)\n",
       "Java Runtime: OpenJDK Runtime Environment\n",
       "JVM: OpenJDK 64-Bit Server VM\n",
       "Default Encoding: UTF-8\n",
       "Language: en\n",
       "Country: null\n",
       "--></g></svg>"
      ]
     },
     "execution_count": 32,
     "metadata": {},
     "output_type": "execute_result"
    }
   ],
   "source": [
    "%viz --style=\"PLANTUML\" --view=\"State\" \"AliasTest\""
   ]
  },
  {
   "cell_type": "code",
   "execution_count": 33,
   "id": "41c8c792",
   "metadata": {
    "execution": {
     "iopub.execute_input": "2021-06-30T09:16:09.262321Z",
     "iopub.status.busy": "2021-06-30T09:16:09.261521Z",
     "iopub.status.idle": "2021-06-30T09:16:09.305038Z",
     "shell.execute_reply": "2021-06-30T09:16:09.303467Z"
    }
   },
   "outputs": [
    {
     "data": {
      "image/svg+xml": [
       "<?xml version=\"1.0\" encoding=\"UTF-8\" standalone=\"no\"?><svg xmlns=\"http://www.w3.org/2000/svg\" xmlns:xlink=\"http://www.w3.org/1999/xlink\" contentScriptType=\"application/ecmascript\" contentStyleType=\"text/css\" height=\"191px\" preserveAspectRatio=\"none\" style=\"width:361px;height:191px;\" version=\"1.1\" viewBox=\"0 0 361 191\" width=\"361px\" zoomAndPan=\"magnify\"><defs><filter height=\"300%\" id=\"f1bhldq7ezvv6d\" width=\"300%\" x=\"-1\" y=\"-1\"><feGaussianBlur result=\"blurOut\" stdDeviation=\"2.0\"/><feColorMatrix in=\"blurOut\" result=\"blurOut2\" type=\"matrix\" values=\"0 0 0 0 0 0 0 0 0 0 0 0 0 0 0 0 0 0 .4 0\"/><feOffset dx=\"4.0\" dy=\"4.0\" in=\"blurOut2\" result=\"blurOut3\"/><feBlend in=\"SourceGraphic\" in2=\"blurOut3\" mode=\"normal\"/></filter></defs><g><!--MD5=[fbc87193dbaf4d95561dea2c320d4a47]\n",
       "cluster E1--><a href=\"psysml:2a952753-6cea-46c9-bb61-930b04eb3411\" target=\"_top\" title=\"psysml:2a952753-6cea-46c9-bb61-930b04eb3411\" xlink:actuate=\"onRequest\" xlink:href=\"psysml:2a952753-6cea-46c9-bb61-930b04eb3411\" xlink:show=\"new\" xlink:title=\"psysml:2a952753-6cea-46c9-bb61-930b04eb3411\" xlink:type=\"simple\"><polygon fill=\"#FFFFFF\" filter=\"url(#f1bhldq7ezvv6d)\" points=\"16,6,94,6,101,28.2969,339,28.2969,339,179,16,179,16,6\" style=\"stroke: #000000; stroke-width: 1.5;\"/><line style=\"stroke: #000000; stroke-width: 1.5;\" x1=\"16\" x2=\"101\" y1=\"28.2969\" y2=\"28.2969\"/><text fill=\"#000000\" font-family=\"sans-serif\" font-size=\"14\" font-weight=\"bold\" lengthAdjust=\"spacingAndGlyphs\" textLength=\"72\" x=\"20\" y=\"20.9951\">AliasTest</text></a><!--MD5=[e4f7fae6ed58524ba242bb0b0d3be6b7]\n",
       "cluster E2--><a href=\"psysml:92b6686b-ceec-4d5e-ab27-24733762f61c\" target=\"_top\" title=\"psysml:92b6686b-ceec-4d5e-ab27-24733762f61c\" xlink:actuate=\"onRequest\" xlink:href=\"psysml:92b6686b-ceec-4d5e-ab27-24733762f61c\" xlink:show=\"new\" xlink:title=\"psysml:92b6686b-ceec-4d5e-ab27-24733762f61c\" xlink:type=\"simple\"><rect fill=\"#FFFFFF\" filter=\"url(#f1bhldq7ezvv6d)\" height=\"57\" id=\"E2\" style=\"stroke: #A80036; stroke-width: 1.5;\" width=\"83\" x=\"244\" y=\"55\"/><rect fill=\"#FEFECE\" height=\"23.9688\" style=\"stroke: #A80036; stroke-width: 1.5;\" width=\"83\" x=\"244\" y=\"55\"/><text fill=\"#000000\" font-family=\"sans-serif\" font-size=\"12\" lengthAdjust=\"spacingAndGlyphs\" textLength=\"16\" x=\"277.5\" y=\"71.1387\">P1</text></a><!--MD5=[de5ec2e2e8f62f467e546659f5068c88]\n",
       "cluster E5--><a href=\"psysml:2b3d4312-7497-4457-990a-6ee5375442c5\" target=\"_top\" title=\"psysml:2b3d4312-7497-4457-990a-6ee5375442c5\" xlink:actuate=\"onRequest\" xlink:href=\"psysml:2b3d4312-7497-4457-990a-6ee5375442c5\" xlink:show=\"new\" xlink:title=\"psysml:2b3d4312-7497-4457-990a-6ee5375442c5\" xlink:type=\"simple\"><rect fill=\"#FFFFFF\" filter=\"url(#f1bhldq7ezvv6d)\" height=\"76.5\" id=\"E5\" rx=\"10\" ry=\"10\" style=\"stroke: #A80036; stroke-width: 1.5;\" width=\"101\" x=\"139\" y=\"86.5\"/><rect fill=\"#FEFECE\" height=\"23.9688\" rx=\"10\" ry=\"10\" style=\"stroke: #FEFECE; stroke-width: 1.5;\" width=\"101\" x=\"139\" y=\"86.5\"/><rect fill=\"#FEFECE\" height=\"10\" style=\"stroke: #FEFECE; stroke-width: 1.5;\" width=\"101\" x=\"139\" y=\"100.4688\"/><rect fill=\"none\" height=\"76.5\" id=\"E5\" rx=\"10\" ry=\"10\" style=\"stroke: #A80036; stroke-width: 1.5;\" width=\"101\" x=\"139\" y=\"86.5\"/><text fill=\"#000000\" font-family=\"sans-serif\" font-size=\"12\" lengthAdjust=\"spacingAndGlyphs\" textLength=\"40\" x=\"169.5\" y=\"102.6387\">p1: P1</text><line style=\"stroke: #A80036; stroke-width: 1.0;\" x1=\"139\" x2=\"240\" y1=\"110.4688\" y2=\"110.4688\"/></a><!--MD5=[168fadf3d0c3fd93dd5d6da1b1d7ab76]\n",
       "cluster E7--><a href=\"psysml:09e69c42-70ff-4aed-b93c-c140a8b906a0\" target=\"_top\" title=\"psysml:09e69c42-70ff-4aed-b93c-c140a8b906a0\" xlink:actuate=\"onRequest\" xlink:href=\"psysml:09e69c42-70ff-4aed-b93c-c140a8b906a0\" xlink:show=\"new\" xlink:title=\"psysml:09e69c42-70ff-4aed-b93c-c140a8b906a0\" xlink:type=\"simple\"><rect fill=\"#FFFFFF\" filter=\"url(#f1bhldq7ezvv6d)\" height=\"57\" id=\"E7\" rx=\"10\" ry=\"10\" style=\"stroke: #A80036; stroke-width: 1.5;\" width=\"83\" x=\"53\" y=\"55\"/><rect fill=\"#FEFECE\" height=\"23.9688\" rx=\"10\" ry=\"10\" style=\"stroke: #FEFECE; stroke-width: 1.5;\" width=\"83\" x=\"53\" y=\"55\"/><rect fill=\"#FEFECE\" height=\"10\" style=\"stroke: #FEFECE; stroke-width: 1.5;\" width=\"83\" x=\"53\" y=\"68.9688\"/><rect fill=\"none\" height=\"57\" id=\"E7\" rx=\"10\" ry=\"10\" style=\"stroke: #A80036; stroke-width: 1.5;\" width=\"83\" x=\"53\" y=\"55\"/><text fill=\"#000000\" font-family=\"sans-serif\" font-size=\"12\" lengthAdjust=\"spacingAndGlyphs\" textLength=\"40\" x=\"74.5\" y=\"71.1387\">p2: P1</text><line style=\"stroke: #A80036; stroke-width: 1.0;\" x1=\"53\" x2=\"136\" y1=\"78.9688\" y2=\"78.9688\"/></a><text fill=\"#000000\" font-family=\"sans-serif\" font-size=\"14\" lengthAdjust=\"spacingAndGlyphs\" textLength=\"44\" x=\"240\" y=\"33.6982\">porig1</text><rect fill=\"#A80036\" height=\"12\" style=\"stroke: #FEFECE; stroke-width: 1.5;\" width=\"12\" x=\"256\" y=\"49\"/><text fill=\"#000000\" font-family=\"sans-serif\" font-size=\"14\" lengthAdjust=\"spacingAndGlyphs\" textLength=\"44\" x=\"287\" y=\"33.6982\">porig1</text><rect fill=\"#A80036\" height=\"12\" style=\"stroke: #FEFECE; stroke-width: 1.5;\" width=\"12\" x=\"303\" y=\"49\"/><text fill=\"#000000\" font-family=\"sans-serif\" font-size=\"14\" lengthAdjust=\"spacingAndGlyphs\" textLength=\"27\" x=\"143.5\" y=\"65.1982\">po1</text><rect fill=\"#A80036\" height=\"12\" style=\"stroke: #FEFECE; stroke-width: 1.5;\" width=\"12\" x=\"151\" y=\"80.5\"/><text fill=\"#000000\" font-family=\"sans-serif\" font-size=\"14\" lengthAdjust=\"spacingAndGlyphs\" textLength=\"40\" x=\"51\" y=\"33.6982\">pdest</text><rect fill=\"#A80036\" height=\"12\" style=\"stroke: #FEFECE; stroke-width: 1.5;\" width=\"12\" x=\"65\" y=\"49\"/><text fill=\"#000000\" font-family=\"sans-serif\" font-size=\"14\" lengthAdjust=\"spacingAndGlyphs\" textLength=\"40\" x=\"98\" y=\"33.6982\">pdest</text><rect fill=\"#A80036\" height=\"12\" style=\"stroke: #FEFECE; stroke-width: 1.5;\" width=\"12\" x=\"112\" y=\"49\"/><!--MD5=[60ac2c0cde89d4308155b0484e57a8ec]\n",
       "link E9 to E6--><a href=\"psysml:d88f1dc1-ed41-4b97-9842-84a04c2c1d2b\" target=\"_top\" title=\"psysml:d88f1dc1-ed41-4b97-9842-84a04c2c1d2b\" xlink:actuate=\"onRequest\" xlink:href=\"psysml:d88f1dc1-ed41-4b97-9842-84a04c2c1d2b\" xlink:show=\"new\" xlink:title=\"psysml:d88f1dc1-ed41-4b97-9842-84a04c2c1d2b\" xlink:type=\"simple\"><path d=\"M114.84,61.14 C119.38,68.34 137.71,80.94 150.76,84.52 \" fill=\"none\" id=\"E9-E6\" style=\"stroke: #A80036; stroke-width: 3.0;\"/></a><!--MD5=[60ac2c0cde89d4308155b0484e57a8ec]\n",
       "link E9 to E6--><a href=\"psysml:619a1562-63e5-4ed2-9546-f25d2cdc049d\" target=\"_top\" title=\"psysml:619a1562-63e5-4ed2-9546-f25d2cdc049d\" xlink:actuate=\"onRequest\" xlink:href=\"psysml:619a1562-63e5-4ed2-9546-f25d2cdc049d\" xlink:show=\"new\" xlink:title=\"psysml:619a1562-63e5-4ed2-9546-f25d2cdc049d\" xlink:type=\"simple\"><path d=\"M124.05,56.85 C137.61,60.25 156.39,73.03 160.72,80.32 \" fill=\"none\" id=\"E9-E6-1\" style=\"stroke: #A80036; stroke-width: 3.0;\"/></a><!--MD5=[a1743b062e18bb0f50cd6801972fa039]\n",
       "@startuml\r\n",
       "skinparam ranksep 10\r\n",
       "skinparam rectangle {\r\n",
       " backgroundColor<<block>> LightGreen\r\n",
       "}\r\n",
       " \r\n",
       "package \"AliasTest\" as E1  [[psysml:2a952753-6cea-46c9-bb61-930b04eb3411 ]]  {\r\n",
       "rec def \"P1\" as E2 << << (B,green) >> [[psysml:92b6686b-ceec-4d5e-ab27-24733762f61c ]] {\r\n",
       "portin \"porig1\" as E3 << << (P,blue) port>> [[psysml:ea24ffa6-0b43-4ed9-8037-2e87c3ddc217 ]] \r\n",
       "portin \"porig1\" as E4 << << (P,blue) port>> [[psysml:ea24ffa6-0b43-4ed9-8037-2e87c3ddc217 ]] \r\n",
       "}\r\n",
       "rec usage \"p1: P1\" as E5  [[psysml:2b3d4312-7497-4457-990a-6ee5375442c5 ]] {\r\n",
       "portin \"po1\" as E6 << << (P,blue) port>> [[psysml:dd05f1a1-221f-4ab1-8a14-dfadf20b8a26 ]] \r\n",
       "}\r\n",
       "rec usage \"p2: P1\" as E7  [[psysml:09e69c42-70ff-4aed-b93c-c140a8b906a0 ]] {\r\n",
       "portin \"pdest\" as E8 << << (P,blue) port>> [[psysml:af7521ab-a154-4c67-8a1e-396c259ea1b5 ]] \r\n",
       "portin \"pdest\" as E9 << << (P,blue) port>> [[psysml:af7521ab-a154-4c67-8a1e-396c259ea1b5 ]] \r\n",
       "}\r\n",
       "E9 -[thickness=3]- E6 [[psysml:d88f1dc1-ed41-4b97-9842-84a04c2c1d2b ]] \r\n",
       "E9 -[thickness=3]- E6 [[psysml:619a1562-63e5-4ed2-9546-f25d2cdc049d ]] \r\n",
       "}\r\n",
       "@enduml\r\n",
       "\n",
       "PlantUML version 1.2020.13(Sat Jun 13 12:26:38 UTC 2020)\n",
       "(EPL source distribution)\n",
       "Java Runtime: OpenJDK Runtime Environment\n",
       "JVM: OpenJDK 64-Bit Server VM\n",
       "Default Encoding: UTF-8\n",
       "Language: en\n",
       "Country: null\n",
       "--></g></svg>"
      ]
     },
     "execution_count": 33,
     "metadata": {},
     "output_type": "execute_result"
    }
   ],
   "source": [
    "%viz --style=\"PLANTUML\" --view=\"Interconnection\" \"AliasTest\""
   ]
  },
  {
   "cell_type": "code",
   "execution_count": 34,
   "id": "6cd1fe93",
   "metadata": {
    "execution": {
     "iopub.execute_input": "2021-06-30T09:16:09.357467Z",
     "iopub.status.busy": "2021-06-30T09:16:09.356389Z",
     "iopub.status.idle": "2021-06-30T09:16:09.362657Z",
     "shell.execute_reply": "2021-06-30T09:16:09.362147Z"
    }
   },
   "outputs": [
    {
     "data": {
      "image/svg+xml": [
       "<?xml version=\"1.0\" encoding=\"UTF-8\" standalone=\"no\"?><svg xmlns=\"http://www.w3.org/2000/svg\" xmlns:xlink=\"http://www.w3.org/1999/xlink\" contentScriptType=\"application/ecmascript\" contentStyleType=\"text/css\" height=\"12px\" preserveAspectRatio=\"none\" style=\"width:12px;height:12px;\" version=\"1.1\" viewBox=\"0 0 12 12\" width=\"12px\" zoomAndPan=\"magnify\"><defs/><g><!--MD5=[6a4cb978cab31700e1ce5529f947a75d]\n",
       "@startuml\r\n",
       "skinparam ranksep 8\r\n",
       " \r\n",
       "@enduml\r\n",
       "\n",
       "PlantUML version 1.2020.13(Sat Jun 13 12:26:38 UTC 2020)\n",
       "(EPL source distribution)\n",
       "Java Runtime: OpenJDK Runtime Environment\n",
       "JVM: OpenJDK 64-Bit Server VM\n",
       "Default Encoding: UTF-8\n",
       "Language: en\n",
       "Country: null\n",
       "--></g></svg>"
      ]
     },
     "execution_count": 34,
     "metadata": {},
     "output_type": "execute_result"
    }
   ],
   "source": [
    "%viz --style=\"PLANTUML\" --view=\"Action\" \"AliasTest\""
   ]
  },
  {
   "cell_type": "code",
   "execution_count": 35,
   "id": "c9b51d4e",
   "metadata": {
    "execution": {
     "iopub.execute_input": "2021-06-30T09:16:09.421178Z",
     "iopub.status.busy": "2021-06-30T09:16:09.420297Z",
     "iopub.status.idle": "2021-06-30T09:16:09.512015Z",
     "shell.execute_reply": "2021-06-30T09:16:09.512461Z"
    }
   },
   "outputs": [
    {
     "data": {
      "image/svg+xml": [
       "<?xml version=\"1.0\" encoding=\"UTF-8\" standalone=\"no\"?><svg xmlns=\"http://www.w3.org/2000/svg\" xmlns:xlink=\"http://www.w3.org/1999/xlink\" contentScriptType=\"application/ecmascript\" contentStyleType=\"text/css\" height=\"287px\" preserveAspectRatio=\"none\" style=\"width:269px;height:287px;\" version=\"1.1\" viewBox=\"0 0 269 287\" width=\"269px\" zoomAndPan=\"magnify\"><defs><filter height=\"300%\" id=\"f1h2a4d2y3rnj2\" width=\"300%\" x=\"-1\" y=\"-1\"><feGaussianBlur result=\"blurOut\" stdDeviation=\"2.0\"/><feColorMatrix in=\"blurOut\" result=\"blurOut2\" type=\"matrix\" values=\"0 0 0 0 0 0 0 0 0 0 0 0 0 0 0 0 0 0 .4 0\"/><feOffset dx=\"4.0\" dy=\"4.0\" in=\"blurOut2\" result=\"blurOut3\"/><feBlend in=\"SourceGraphic\" in2=\"blurOut3\" mode=\"normal\"/></filter></defs><g><!--MD5=[fbc87193dbaf4d95561dea2c320d4a47]\n",
       "cluster E1--><a href=\"psysml:2a952753-6cea-46c9-bb61-930b04eb3411\" target=\"_top\" title=\"psysml:2a952753-6cea-46c9-bb61-930b04eb3411\" xlink:actuate=\"onRequest\" xlink:href=\"psysml:2a952753-6cea-46c9-bb61-930b04eb3411\" xlink:show=\"new\" xlink:title=\"psysml:2a952753-6cea-46c9-bb61-930b04eb3411\" xlink:type=\"simple\"><polygon fill=\"#FFFFFF\" filter=\"url(#f1h2a4d2y3rnj2)\" points=\"16,6,94,6,101,28.2969,247,28.2969,247,275,16,275,16,6\" style=\"stroke: #000000; stroke-width: 1.5;\"/><line style=\"stroke: #000000; stroke-width: 1.5;\" x1=\"16\" x2=\"101\" y1=\"28.2969\" y2=\"28.2969\"/><text fill=\"#000000\" font-family=\"sans-serif\" font-size=\"14\" font-weight=\"bold\" lengthAdjust=\"spacingAndGlyphs\" textLength=\"72\" x=\"20\" y=\"20.9951\">AliasTest</text></a><!--MD5=[b4997ac47864f28c2f74865a473b2911]\n",
       "class E2--><a href=\"psysml:92b6686b-ceec-4d5e-ab27-24733762f61c\" target=\"_top\" title=\"psysml:92b6686b-ceec-4d5e-ab27-24733762f61c\" xlink:actuate=\"onRequest\" xlink:href=\"psysml:92b6686b-ceec-4d5e-ab27-24733762f61c\" xlink:show=\"new\" xlink:title=\"psysml:92b6686b-ceec-4d5e-ab27-24733762f61c\" xlink:type=\"simple\"><rect fill=\"#FEFECE\" filter=\"url(#f1h2a4d2y3rnj2)\" height=\"69.6094\" id=\"E2\" style=\"stroke: #A80036; stroke-width: 1.5;\" width=\"48\" x=\"102\" y=\"189\"/><ellipse cx=\"117\" cy=\"205\" fill=\"#008000\" rx=\"11\" ry=\"11\" style=\"stroke: #A80036; stroke-width: 1.0;\"/><path d=\"M115.9063,205.375 L115.9063,209.0469 L117.5313,209.0469 Q118.7031,209.0469 119.1719,208.6563 Q119.6406,208.25 119.6406,207.25 Q119.6406,206.25 119.1406,205.8125 Q118.6563,205.375 117.5313,205.375 L115.9063,205.375 Z M115.9063,200.5469 L115.9063,203.4219 L117.5313,203.4219 Q118.4531,203.4219 118.8438,203.0938 Q119.25,202.75 119.25,202 Q119.25,201.2344 118.8438,200.8906 Q118.4375,200.5469 117.5313,200.5469 L115.9063,200.5469 Z M113.5313,198.5938 L117.5313,198.5938 Q119.5938,198.5938 120.6406,199.375 Q121.6875,200.1563 121.6875,201.7188 Q121.6875,202.9219 121.0625,203.5938 Q120.4531,204.2656 119.2656,204.375 Q120.6875,204.5156 121.4063,205.3281 Q122.125,206.1406 122.125,207.5938 Q122.125,209.3906 121.0469,210.2031 Q119.9688,211 117.5313,211 L113.5313,211 L113.5313,198.5938 Z \"/><text fill=\"#000000\" font-family=\"sans-serif\" font-size=\"12\" lengthAdjust=\"spacingAndGlyphs\" textLength=\"16\" x=\"131\" y=\"209.1543\">P1</text><line style=\"stroke: #A80036; stroke-width: 1.5;\" x1=\"103\" x2=\"149\" y1=\"221\" y2=\"221\"/><text fill=\"#000000\" font-family=\"sans-serif\" font-size=\"11\" lengthAdjust=\"spacingAndGlyphs\" textLength=\"36\" x=\"108\" y=\"252.0151\">porig1</text><line style=\"stroke: #A80036; stroke-width: 1.0;\" x1=\"103\" x2=\"111\" y1=\"235.4023\" y2=\"235.4023\"/><text fill=\"#000000\" font-family=\"sans-serif\" font-size=\"11\" lengthAdjust=\"spacingAndGlyphs\" textLength=\"30\" x=\"111\" y=\"238.7104\">ports</text><line style=\"stroke: #A80036; stroke-width: 1.0;\" x1=\"141\" x2=\"149\" y1=\"235.4023\" y2=\"235.4023\"/></a><!--MD5=[ebbe1d658d1005bcc118a6aa81145e00]\n",
       "class E4--><a href=\"psysml:2b3d4312-7497-4457-990a-6ee5375442c5\" target=\"_top\" title=\"psysml:2b3d4312-7497-4457-990a-6ee5375442c5\" xlink:actuate=\"onRequest\" xlink:href=\"psysml:2b3d4312-7497-4457-990a-6ee5375442c5\" xlink:show=\"new\" xlink:title=\"psysml:2b3d4312-7497-4457-990a-6ee5375442c5\" xlink:type=\"simple\"><rect fill=\"#FEFECE\" filter=\"url(#f1h2a4d2y3rnj2)\" height=\"88.3516\" id=\"E4\" rx=\"10\" ry=\"10\" style=\"stroke: #A80036; stroke-width: 1.5;\" width=\"92\" x=\"139\" y=\"41\"/><ellipse cx=\"163\" cy=\"59.9688\" fill=\"#32CD32\" rx=\"11\" ry=\"11\" style=\"stroke: #A80036; stroke-width: 1.0;\"/><path d=\"M162.7969,55.6406 L162.7969,59.2656 L163.7969,59.2656 Q165,59.2656 165.4844,58.8594 Q165.9688,58.4531 165.9688,57.4531 Q165.9688,56.4531 165.4844,56.0469 Q165,55.6406 163.7969,55.6406 L162.7969,55.6406 Z M160.3438,53.5781 L163.7031,53.5781 Q166.2656,53.5781 167.3906,54.5 Q168.5156,55.4063 168.5156,57.4531 Q168.5156,59.5 167.3906,60.4219 Q166.2656,61.3281 163.7031,61.3281 L162.7969,61.3281 L162.7969,65.9688 L160.3438,65.9688 L160.3438,53.5781 Z \"/><text fill=\"#000000\" font-family=\"sans-serif\" font-size=\"12\" font-style=\"italic\" lengthAdjust=\"spacingAndGlyphs\" textLength=\"40\" x=\"179\" y=\"57.1387\">«part»</text><text fill=\"#000000\" font-family=\"sans-serif\" font-size=\"12\" lengthAdjust=\"spacingAndGlyphs\" textLength=\"40\" x=\"179\" y=\"71.1074\">p1: P1</text><line style=\"stroke: #A80036; stroke-width: 1.5;\" x1=\"140\" x2=\"230\" y1=\"78.9375\" y2=\"78.9375\"/><text fill=\"#000000\" font-family=\"sans-serif\" font-size=\"11\" lengthAdjust=\"spacingAndGlyphs\" textLength=\"21\" x=\"145\" y=\"109.9526\">po1</text><text fill=\"#000000\" font-family=\"sans-serif\" font-size=\"11\" font-style=\"italic\" lengthAdjust=\"spacingAndGlyphs\" textLength=\"80\" x=\"145\" y=\"122.7573\">:&gt;&gt;P1::porig1</text><line style=\"stroke: #A80036; stroke-width: 1.0;\" x1=\"140\" x2=\"170\" y1=\"93.3398\" y2=\"93.3398\"/><text fill=\"#000000\" font-family=\"sans-serif\" font-size=\"11\" lengthAdjust=\"spacingAndGlyphs\" textLength=\"30\" x=\"170\" y=\"96.6479\">ports</text><line style=\"stroke: #A80036; stroke-width: 1.0;\" x1=\"200\" x2=\"230\" y1=\"93.3398\" y2=\"93.3398\"/></a><!--MD5=[60a26617385b1d2d0262a64233df1f8d]\n",
       "class E6--><a href=\"psysml:09e69c42-70ff-4aed-b93c-c140a8b906a0\" target=\"_top\" title=\"psysml:09e69c42-70ff-4aed-b93c-c140a8b906a0\" xlink:actuate=\"onRequest\" xlink:href=\"psysml:09e69c42-70ff-4aed-b93c-c140a8b906a0\" xlink:show=\"new\" xlink:title=\"psysml:09e69c42-70ff-4aed-b93c-c140a8b906a0\" xlink:type=\"simple\"><rect fill=\"#FEFECE\" filter=\"url(#f1h2a4d2y3rnj2)\" height=\"75.5469\" id=\"E6\" rx=\"10\" ry=\"10\" style=\"stroke: #A80036; stroke-width: 1.5;\" width=\"72\" x=\"32\" y=\"47\"/><ellipse cx=\"47\" cy=\"65.9688\" fill=\"#32CD32\" rx=\"11\" ry=\"11\" style=\"stroke: #A80036; stroke-width: 1.0;\"/><path d=\"M46.7969,61.6406 L46.7969,65.2656 L47.7969,65.2656 Q49,65.2656 49.4844,64.8594 Q49.9688,64.4531 49.9688,63.4531 Q49.9688,62.4531 49.4844,62.0469 Q49,61.6406 47.7969,61.6406 L46.7969,61.6406 Z M44.3438,59.5781 L47.7031,59.5781 Q50.2656,59.5781 51.3906,60.5 Q52.5156,61.4063 52.5156,63.4531 Q52.5156,65.5 51.3906,66.4219 Q50.2656,67.3281 47.7031,67.3281 L46.7969,67.3281 L46.7969,71.9688 L44.3438,71.9688 L44.3438,59.5781 Z \"/><text fill=\"#000000\" font-family=\"sans-serif\" font-size=\"12\" font-style=\"italic\" lengthAdjust=\"spacingAndGlyphs\" textLength=\"40\" x=\"61\" y=\"63.1387\">«part»</text><text fill=\"#000000\" font-family=\"sans-serif\" font-size=\"12\" lengthAdjust=\"spacingAndGlyphs\" textLength=\"40\" x=\"61\" y=\"77.1074\">p2: P1</text><line style=\"stroke: #A80036; stroke-width: 1.5;\" x1=\"33\" x2=\"103\" y1=\"84.9375\" y2=\"84.9375\"/><text fill=\"#000000\" font-family=\"sans-serif\" font-size=\"11\" lengthAdjust=\"spacingAndGlyphs\" textLength=\"32\" x=\"38\" y=\"115.9526\">pdest</text><line style=\"stroke: #A80036; stroke-width: 1.0;\" x1=\"33\" x2=\"53\" y1=\"99.3398\" y2=\"99.3398\"/><text fill=\"#000000\" font-family=\"sans-serif\" font-size=\"11\" lengthAdjust=\"spacingAndGlyphs\" textLength=\"30\" x=\"53\" y=\"102.6479\">ports</text><line style=\"stroke: #A80036; stroke-width: 1.0;\" x1=\"83\" x2=\"103\" y1=\"99.3398\" y2=\"99.3398\"/></a><!--MD5=[185131fc0dcab0a4505a2ebe144e961b]\n",
       "link E4 to E2--><a href=\"psysml:5073669c-7652-4dd2-8e27-7490931f0c73\" target=\"_top\" title=\"psysml:5073669c-7652-4dd2-8e27-7490931f0c73\" xlink:actuate=\"onRequest\" xlink:href=\"psysml:5073669c-7652-4dd2-8e27-7490931f0c73\" xlink:show=\"new\" xlink:title=\"psysml:5073669c-7652-4dd2-8e27-7490931f0c73\" xlink:type=\"simple\"><path d=\"M166.33,129.35 C160.8,142.2 154.67,156.42 148.9,169.82 \" fill=\"none\" id=\"E4-&gt;E2\" style=\"stroke: #A80036; stroke-width: 1.0;\"/><polygon fill=\"#FFFFFF\" points=\"140.81,188.61,141.8984,168.3908,154.756,173.9298,140.81,188.61\" style=\"stroke: #A80036; stroke-width: 1.0;\"/><ellipse cx=\"145.9903\" cy=\"163.9472\" fill=\"#A80036\" rx=\"2\" ry=\"2\" style=\"stroke: #A80036; stroke-width: 1.0;\"/><ellipse cx=\"155.1744\" cy=\"167.9036\" fill=\"#A80036\" rx=\"2\" ry=\"2\" style=\"stroke: #A80036; stroke-width: 1.0;\"/></a><!--MD5=[2351f337d6de0f557b50152ba70847b5]\n",
       "link E6 to E2--><a href=\"psysml:94875f8e-b487-466f-9f77-0e1d93a514ac\" target=\"_top\" title=\"psysml:94875f8e-b487-466f-9f77-0e1d93a514ac\" xlink:actuate=\"onRequest\" xlink:href=\"psysml:94875f8e-b487-466f-9f77-0e1d93a514ac\" xlink:show=\"new\" xlink:title=\"psysml:94875f8e-b487-466f-9f77-0e1d93a514ac\" xlink:type=\"simple\"><path d=\"M83.7,123.07 C89.82,137.53 96.94,154.37 103.59,170.06 \" fill=\"none\" id=\"E6-&gt;E2\" style=\"stroke: #A80036; stroke-width: 1.0;\"/><polygon fill=\"#FFFFFF\" points=\"111.49,188.72,97.6378,173.9512,110.5305,168.4943,111.49,188.72\" style=\"stroke: #A80036; stroke-width: 1.0;\"/><ellipse cx=\"97.2579\" cy=\"167.9225\" fill=\"#A80036\" rx=\"2\" ry=\"2\" style=\"stroke: #A80036; stroke-width: 1.0;\"/><ellipse cx=\"106.467\" cy=\"164.0247\" fill=\"#A80036\" rx=\"2\" ry=\"2\" style=\"stroke: #A80036; stroke-width: 1.0;\"/></a><!--MD5=[bb142418a209d02ecdf4153f1569af8e]\n",
       "@startuml\r\n",
       " \r\n",
       "package \"AliasTest\" as E1  [[psysml:2a952753-6cea-46c9-bb61-930b04eb3411 ]]  {\r\n",
       "comp def \"P1\" as E2 << << (B,green) >> [[psysml:92b6686b-ceec-4d5e-ab27-24733762f61c ]] {\r\n",
       "- - ports - -\r\n",
       "porig1\r\n",
       "}\r\n",
       "comp usage \"p1: P1\" as E4 << << (P,limegreen) part>> [[psysml:2b3d4312-7497-4457-990a-6ee5375442c5 ]] {\r\n",
       "- - ports - -\r\n",
       "po1\\n//:>>P1::porig1// \r\n",
       "}\r\n",
       "comp usage \"p2: P1\" as E6 << << (P,limegreen) part>> [[psysml:09e69c42-70ff-4aed-b93c-c140a8b906a0 ]] {\r\n",
       "- - ports - -\r\n",
       "pdest\r\n",
       "}\r\n",
       "E4 - -:|> E2 [[psysml:5073669c-7652-4dd2-8e27-7490931f0c73 ]] \r\n",
       "E6 - -:|> E2 [[psysml:94875f8e-b487-466f-9f77-0e1d93a514ac ]] \r\n",
       "}\r\n",
       "@enduml\r\n",
       "\n",
       "PlantUML version 1.2020.13(Sat Jun 13 12:26:38 UTC 2020)\n",
       "(EPL source distribution)\n",
       "Java Runtime: OpenJDK Runtime Environment\n",
       "JVM: OpenJDK 64-Bit Server VM\n",
       "Default Encoding: UTF-8\n",
       "Language: en\n",
       "Country: null\n",
       "--></g></svg>"
      ]
     },
     "execution_count": 35,
     "metadata": {},
     "output_type": "execute_result"
    }
   ],
   "source": [
    "%viz --style=\"PLANTUML\" --view=\"Sequence\" \"AliasTest\""
   ]
  },
  {
   "cell_type": "code",
   "execution_count": 36,
   "id": "24ece4c8",
   "metadata": {
    "execution": {
     "iopub.execute_input": "2021-06-30T09:16:09.565411Z",
     "iopub.status.busy": "2021-06-30T09:16:09.564139Z",
     "iopub.status.idle": "2021-06-30T09:16:09.650803Z",
     "shell.execute_reply": "2021-06-30T09:16:09.651557Z"
    }
   },
   "outputs": [
    {
     "data": {
      "image/svg+xml": [
       "<?xml version=\"1.0\" encoding=\"UTF-8\" standalone=\"no\"?><svg xmlns=\"http://www.w3.org/2000/svg\" xmlns:xlink=\"http://www.w3.org/1999/xlink\" contentScriptType=\"application/ecmascript\" contentStyleType=\"text/css\" height=\"287px\" preserveAspectRatio=\"none\" style=\"width:269px;height:287px;\" version=\"1.1\" viewBox=\"0 0 269 287\" width=\"269px\" zoomAndPan=\"magnify\"><defs><filter height=\"300%\" id=\"f1h2a4d2y3rnj2\" width=\"300%\" x=\"-1\" y=\"-1\"><feGaussianBlur result=\"blurOut\" stdDeviation=\"2.0\"/><feColorMatrix in=\"blurOut\" result=\"blurOut2\" type=\"matrix\" values=\"0 0 0 0 0 0 0 0 0 0 0 0 0 0 0 0 0 0 .4 0\"/><feOffset dx=\"4.0\" dy=\"4.0\" in=\"blurOut2\" result=\"blurOut3\"/><feBlend in=\"SourceGraphic\" in2=\"blurOut3\" mode=\"normal\"/></filter></defs><g><!--MD5=[fbc87193dbaf4d95561dea2c320d4a47]\n",
       "cluster E1--><a href=\"psysml:2a952753-6cea-46c9-bb61-930b04eb3411\" target=\"_top\" title=\"psysml:2a952753-6cea-46c9-bb61-930b04eb3411\" xlink:actuate=\"onRequest\" xlink:href=\"psysml:2a952753-6cea-46c9-bb61-930b04eb3411\" xlink:show=\"new\" xlink:title=\"psysml:2a952753-6cea-46c9-bb61-930b04eb3411\" xlink:type=\"simple\"><polygon fill=\"#FFFFFF\" filter=\"url(#f1h2a4d2y3rnj2)\" points=\"16,6,94,6,101,28.2969,247,28.2969,247,275,16,275,16,6\" style=\"stroke: #000000; stroke-width: 1.5;\"/><line style=\"stroke: #000000; stroke-width: 1.5;\" x1=\"16\" x2=\"101\" y1=\"28.2969\" y2=\"28.2969\"/><text fill=\"#000000\" font-family=\"sans-serif\" font-size=\"14\" font-weight=\"bold\" lengthAdjust=\"spacingAndGlyphs\" textLength=\"72\" x=\"20\" y=\"20.9951\">AliasTest</text></a><!--MD5=[b4997ac47864f28c2f74865a473b2911]\n",
       "class E2--><a href=\"psysml:92b6686b-ceec-4d5e-ab27-24733762f61c\" target=\"_top\" title=\"psysml:92b6686b-ceec-4d5e-ab27-24733762f61c\" xlink:actuate=\"onRequest\" xlink:href=\"psysml:92b6686b-ceec-4d5e-ab27-24733762f61c\" xlink:show=\"new\" xlink:title=\"psysml:92b6686b-ceec-4d5e-ab27-24733762f61c\" xlink:type=\"simple\"><rect fill=\"#FEFECE\" filter=\"url(#f1h2a4d2y3rnj2)\" height=\"69.6094\" id=\"E2\" style=\"stroke: #A80036; stroke-width: 1.5;\" width=\"48\" x=\"102\" y=\"189\"/><ellipse cx=\"117\" cy=\"205\" fill=\"#008000\" rx=\"11\" ry=\"11\" style=\"stroke: #A80036; stroke-width: 1.0;\"/><path d=\"M115.9063,205.375 L115.9063,209.0469 L117.5313,209.0469 Q118.7031,209.0469 119.1719,208.6563 Q119.6406,208.25 119.6406,207.25 Q119.6406,206.25 119.1406,205.8125 Q118.6563,205.375 117.5313,205.375 L115.9063,205.375 Z M115.9063,200.5469 L115.9063,203.4219 L117.5313,203.4219 Q118.4531,203.4219 118.8438,203.0938 Q119.25,202.75 119.25,202 Q119.25,201.2344 118.8438,200.8906 Q118.4375,200.5469 117.5313,200.5469 L115.9063,200.5469 Z M113.5313,198.5938 L117.5313,198.5938 Q119.5938,198.5938 120.6406,199.375 Q121.6875,200.1563 121.6875,201.7188 Q121.6875,202.9219 121.0625,203.5938 Q120.4531,204.2656 119.2656,204.375 Q120.6875,204.5156 121.4063,205.3281 Q122.125,206.1406 122.125,207.5938 Q122.125,209.3906 121.0469,210.2031 Q119.9688,211 117.5313,211 L113.5313,211 L113.5313,198.5938 Z \"/><text fill=\"#000000\" font-family=\"sans-serif\" font-size=\"12\" lengthAdjust=\"spacingAndGlyphs\" textLength=\"16\" x=\"131\" y=\"209.1543\">P1</text><line style=\"stroke: #A80036; stroke-width: 1.5;\" x1=\"103\" x2=\"149\" y1=\"221\" y2=\"221\"/><text fill=\"#000000\" font-family=\"sans-serif\" font-size=\"11\" lengthAdjust=\"spacingAndGlyphs\" textLength=\"36\" x=\"108\" y=\"252.0151\">porig1</text><line style=\"stroke: #A80036; stroke-width: 1.0;\" x1=\"103\" x2=\"111\" y1=\"235.4023\" y2=\"235.4023\"/><text fill=\"#000000\" font-family=\"sans-serif\" font-size=\"11\" lengthAdjust=\"spacingAndGlyphs\" textLength=\"30\" x=\"111\" y=\"238.7104\">ports</text><line style=\"stroke: #A80036; stroke-width: 1.0;\" x1=\"141\" x2=\"149\" y1=\"235.4023\" y2=\"235.4023\"/></a><!--MD5=[ebbe1d658d1005bcc118a6aa81145e00]\n",
       "class E4--><a href=\"psysml:2b3d4312-7497-4457-990a-6ee5375442c5\" target=\"_top\" title=\"psysml:2b3d4312-7497-4457-990a-6ee5375442c5\" xlink:actuate=\"onRequest\" xlink:href=\"psysml:2b3d4312-7497-4457-990a-6ee5375442c5\" xlink:show=\"new\" xlink:title=\"psysml:2b3d4312-7497-4457-990a-6ee5375442c5\" xlink:type=\"simple\"><rect fill=\"#FEFECE\" filter=\"url(#f1h2a4d2y3rnj2)\" height=\"88.3516\" id=\"E4\" rx=\"10\" ry=\"10\" style=\"stroke: #A80036; stroke-width: 1.5;\" width=\"92\" x=\"139\" y=\"41\"/><ellipse cx=\"163\" cy=\"59.9688\" fill=\"#32CD32\" rx=\"11\" ry=\"11\" style=\"stroke: #A80036; stroke-width: 1.0;\"/><path d=\"M162.7969,55.6406 L162.7969,59.2656 L163.7969,59.2656 Q165,59.2656 165.4844,58.8594 Q165.9688,58.4531 165.9688,57.4531 Q165.9688,56.4531 165.4844,56.0469 Q165,55.6406 163.7969,55.6406 L162.7969,55.6406 Z M160.3438,53.5781 L163.7031,53.5781 Q166.2656,53.5781 167.3906,54.5 Q168.5156,55.4063 168.5156,57.4531 Q168.5156,59.5 167.3906,60.4219 Q166.2656,61.3281 163.7031,61.3281 L162.7969,61.3281 L162.7969,65.9688 L160.3438,65.9688 L160.3438,53.5781 Z \"/><text fill=\"#000000\" font-family=\"sans-serif\" font-size=\"12\" font-style=\"italic\" lengthAdjust=\"spacingAndGlyphs\" textLength=\"40\" x=\"179\" y=\"57.1387\">«part»</text><text fill=\"#000000\" font-family=\"sans-serif\" font-size=\"12\" lengthAdjust=\"spacingAndGlyphs\" textLength=\"40\" x=\"179\" y=\"71.1074\">p1: P1</text><line style=\"stroke: #A80036; stroke-width: 1.5;\" x1=\"140\" x2=\"230\" y1=\"78.9375\" y2=\"78.9375\"/><text fill=\"#000000\" font-family=\"sans-serif\" font-size=\"11\" lengthAdjust=\"spacingAndGlyphs\" textLength=\"21\" x=\"145\" y=\"109.9526\">po1</text><text fill=\"#000000\" font-family=\"sans-serif\" font-size=\"11\" font-style=\"italic\" lengthAdjust=\"spacingAndGlyphs\" textLength=\"80\" x=\"145\" y=\"122.7573\">:&gt;&gt;P1::porig1</text><line style=\"stroke: #A80036; stroke-width: 1.0;\" x1=\"140\" x2=\"170\" y1=\"93.3398\" y2=\"93.3398\"/><text fill=\"#000000\" font-family=\"sans-serif\" font-size=\"11\" lengthAdjust=\"spacingAndGlyphs\" textLength=\"30\" x=\"170\" y=\"96.6479\">ports</text><line style=\"stroke: #A80036; stroke-width: 1.0;\" x1=\"200\" x2=\"230\" y1=\"93.3398\" y2=\"93.3398\"/></a><!--MD5=[60a26617385b1d2d0262a64233df1f8d]\n",
       "class E6--><a href=\"psysml:09e69c42-70ff-4aed-b93c-c140a8b906a0\" target=\"_top\" title=\"psysml:09e69c42-70ff-4aed-b93c-c140a8b906a0\" xlink:actuate=\"onRequest\" xlink:href=\"psysml:09e69c42-70ff-4aed-b93c-c140a8b906a0\" xlink:show=\"new\" xlink:title=\"psysml:09e69c42-70ff-4aed-b93c-c140a8b906a0\" xlink:type=\"simple\"><rect fill=\"#FEFECE\" filter=\"url(#f1h2a4d2y3rnj2)\" height=\"75.5469\" id=\"E6\" rx=\"10\" ry=\"10\" style=\"stroke: #A80036; stroke-width: 1.5;\" width=\"72\" x=\"32\" y=\"47\"/><ellipse cx=\"47\" cy=\"65.9688\" fill=\"#32CD32\" rx=\"11\" ry=\"11\" style=\"stroke: #A80036; stroke-width: 1.0;\"/><path d=\"M46.7969,61.6406 L46.7969,65.2656 L47.7969,65.2656 Q49,65.2656 49.4844,64.8594 Q49.9688,64.4531 49.9688,63.4531 Q49.9688,62.4531 49.4844,62.0469 Q49,61.6406 47.7969,61.6406 L46.7969,61.6406 Z M44.3438,59.5781 L47.7031,59.5781 Q50.2656,59.5781 51.3906,60.5 Q52.5156,61.4063 52.5156,63.4531 Q52.5156,65.5 51.3906,66.4219 Q50.2656,67.3281 47.7031,67.3281 L46.7969,67.3281 L46.7969,71.9688 L44.3438,71.9688 L44.3438,59.5781 Z \"/><text fill=\"#000000\" font-family=\"sans-serif\" font-size=\"12\" font-style=\"italic\" lengthAdjust=\"spacingAndGlyphs\" textLength=\"40\" x=\"61\" y=\"63.1387\">«part»</text><text fill=\"#000000\" font-family=\"sans-serif\" font-size=\"12\" lengthAdjust=\"spacingAndGlyphs\" textLength=\"40\" x=\"61\" y=\"77.1074\">p2: P1</text><line style=\"stroke: #A80036; stroke-width: 1.5;\" x1=\"33\" x2=\"103\" y1=\"84.9375\" y2=\"84.9375\"/><text fill=\"#000000\" font-family=\"sans-serif\" font-size=\"11\" lengthAdjust=\"spacingAndGlyphs\" textLength=\"32\" x=\"38\" y=\"115.9526\">pdest</text><line style=\"stroke: #A80036; stroke-width: 1.0;\" x1=\"33\" x2=\"53\" y1=\"99.3398\" y2=\"99.3398\"/><text fill=\"#000000\" font-family=\"sans-serif\" font-size=\"11\" lengthAdjust=\"spacingAndGlyphs\" textLength=\"30\" x=\"53\" y=\"102.6479\">ports</text><line style=\"stroke: #A80036; stroke-width: 1.0;\" x1=\"83\" x2=\"103\" y1=\"99.3398\" y2=\"99.3398\"/></a><!--MD5=[185131fc0dcab0a4505a2ebe144e961b]\n",
       "link E4 to E2--><a href=\"psysml:5073669c-7652-4dd2-8e27-7490931f0c73\" target=\"_top\" title=\"psysml:5073669c-7652-4dd2-8e27-7490931f0c73\" xlink:actuate=\"onRequest\" xlink:href=\"psysml:5073669c-7652-4dd2-8e27-7490931f0c73\" xlink:show=\"new\" xlink:title=\"psysml:5073669c-7652-4dd2-8e27-7490931f0c73\" xlink:type=\"simple\"><path d=\"M166.33,129.35 C160.8,142.2 154.67,156.42 148.9,169.82 \" fill=\"none\" id=\"E4-&gt;E2\" style=\"stroke: #A80036; stroke-width: 1.0;\"/><polygon fill=\"#FFFFFF\" points=\"140.81,188.61,141.8984,168.3908,154.756,173.9298,140.81,188.61\" style=\"stroke: #A80036; stroke-width: 1.0;\"/><ellipse cx=\"145.9903\" cy=\"163.9472\" fill=\"#A80036\" rx=\"2\" ry=\"2\" style=\"stroke: #A80036; stroke-width: 1.0;\"/><ellipse cx=\"155.1744\" cy=\"167.9036\" fill=\"#A80036\" rx=\"2\" ry=\"2\" style=\"stroke: #A80036; stroke-width: 1.0;\"/></a><!--MD5=[2351f337d6de0f557b50152ba70847b5]\n",
       "link E6 to E2--><a href=\"psysml:94875f8e-b487-466f-9f77-0e1d93a514ac\" target=\"_top\" title=\"psysml:94875f8e-b487-466f-9f77-0e1d93a514ac\" xlink:actuate=\"onRequest\" xlink:href=\"psysml:94875f8e-b487-466f-9f77-0e1d93a514ac\" xlink:show=\"new\" xlink:title=\"psysml:94875f8e-b487-466f-9f77-0e1d93a514ac\" xlink:type=\"simple\"><path d=\"M83.7,123.07 C89.82,137.53 96.94,154.37 103.59,170.06 \" fill=\"none\" id=\"E6-&gt;E2\" style=\"stroke: #A80036; stroke-width: 1.0;\"/><polygon fill=\"#FFFFFF\" points=\"111.49,188.72,97.6378,173.9512,110.5305,168.4943,111.49,188.72\" style=\"stroke: #A80036; stroke-width: 1.0;\"/><ellipse cx=\"97.2579\" cy=\"167.9225\" fill=\"#A80036\" rx=\"2\" ry=\"2\" style=\"stroke: #A80036; stroke-width: 1.0;\"/><ellipse cx=\"106.467\" cy=\"164.0247\" fill=\"#A80036\" rx=\"2\" ry=\"2\" style=\"stroke: #A80036; stroke-width: 1.0;\"/></a><!--MD5=[bb142418a209d02ecdf4153f1569af8e]\n",
       "@startuml\r\n",
       " \r\n",
       "package \"AliasTest\" as E1  [[psysml:2a952753-6cea-46c9-bb61-930b04eb3411 ]]  {\r\n",
       "comp def \"P1\" as E2 << << (B,green) >> [[psysml:92b6686b-ceec-4d5e-ab27-24733762f61c ]] {\r\n",
       "- - ports - -\r\n",
       "porig1\r\n",
       "}\r\n",
       "comp usage \"p1: P1\" as E4 << << (P,limegreen) part>> [[psysml:2b3d4312-7497-4457-990a-6ee5375442c5 ]] {\r\n",
       "- - ports - -\r\n",
       "po1\\n//:>>P1::porig1// \r\n",
       "}\r\n",
       "comp usage \"p2: P1\" as E6 << << (P,limegreen) part>> [[psysml:09e69c42-70ff-4aed-b93c-c140a8b906a0 ]] {\r\n",
       "- - ports - -\r\n",
       "pdest\r\n",
       "}\r\n",
       "E4 - -:|> E2 [[psysml:5073669c-7652-4dd2-8e27-7490931f0c73 ]] \r\n",
       "E6 - -:|> E2 [[psysml:94875f8e-b487-466f-9f77-0e1d93a514ac ]] \r\n",
       "}\r\n",
       "@enduml\r\n",
       "\n",
       "PlantUML version 1.2020.13(Sat Jun 13 12:26:38 UTC 2020)\n",
       "(EPL source distribution)\n",
       "Java Runtime: OpenJDK Runtime Environment\n",
       "JVM: OpenJDK 64-Bit Server VM\n",
       "Default Encoding: UTF-8\n",
       "Language: en\n",
       "Country: null\n",
       "--></g></svg>"
      ]
     },
     "execution_count": 36,
     "metadata": {},
     "output_type": "execute_result"
    }
   ],
   "source": [
    "%viz --style=\"PLANTUML\" --view=\"MIXED\" \"AliasTest\""
   ]
  },
  {
   "cell_type": "code",
   "execution_count": 37,
   "id": "c5d0d5f5",
   "metadata": {
    "execution": {
     "iopub.execute_input": "2021-06-30T09:16:09.702619Z",
     "iopub.status.busy": "2021-06-30T09:16:09.701619Z",
     "iopub.status.idle": "2021-06-30T09:16:09.822860Z",
     "shell.execute_reply": "2021-06-30T09:16:09.820562Z"
    }
   },
   "outputs": [
    {
     "data": {
      "image/svg+xml": [
       "<?xml version=\"1.0\" encoding=\"UTF-8\" standalone=\"no\"?><svg xmlns=\"http://www.w3.org/2000/svg\" xmlns:xlink=\"http://www.w3.org/1999/xlink\" contentScriptType=\"application/ecmascript\" contentStyleType=\"text/css\" height=\"293px\" preserveAspectRatio=\"none\" style=\"width:243px;height:293px;\" version=\"1.1\" viewBox=\"0 0 243 293\" width=\"243px\" zoomAndPan=\"magnify\"><defs/><g><!--MD5=[fbc87193dbaf4d95561dea2c320d4a47]\n",
       "cluster E1--><a href=\"psysml:2a952753-6cea-46c9-bb61-930b04eb3411\" target=\"_top\" title=\"psysml:2a952753-6cea-46c9-bb61-930b04eb3411\" xlink:actuate=\"onRequest\" xlink:href=\"psysml:2a952753-6cea-46c9-bb61-930b04eb3411\" xlink:show=\"new\" xlink:title=\"psysml:2a952753-6cea-46c9-bb61-930b04eb3411\" xlink:type=\"simple\"><polygon fill=\"#FFFFFF\" points=\"16,6,94,6,101,28.2969,221,28.2969,221,281,16,281,16,6\" style=\"stroke: #000000; stroke-width: 1.5;\"/><line style=\"stroke: #000000; stroke-width: 1.5;\" x1=\"16\" x2=\"101\" y1=\"28.2969\" y2=\"28.2969\"/><text fill=\"#000000\" font-family=\"sans-serif\" font-size=\"14\" font-weight=\"bold\" lengthAdjust=\"spacingAndGlyphs\" textLength=\"72\" x=\"20\" y=\"20.9951\">AliasTest</text></a><!--MD5=[b4997ac47864f28c2f74865a473b2911]\n",
       "class E2--><a href=\"psysml:92b6686b-ceec-4d5e-ab27-24733762f61c\" target=\"_top\" title=\"psysml:92b6686b-ceec-4d5e-ab27-24733762f61c\" xlink:actuate=\"onRequest\" xlink:href=\"psysml:92b6686b-ceec-4d5e-ab27-24733762f61c\" xlink:show=\"new\" xlink:title=\"psysml:92b6686b-ceec-4d5e-ab27-24733762f61c\" xlink:type=\"simple\"><rect fill=\"#FFFFFF\" height=\"75.5469\" id=\"E2\" style=\"stroke: #383838; stroke-width: 1.5;\" width=\"66\" x=\"79\" y=\"189\"/><text fill=\"#000000\" font-family=\"sans-serif\" font-size=\"12\" font-style=\"italic\" lengthAdjust=\"spacingAndGlyphs\" textLength=\"64\" x=\"80\" y=\"205.1387\">«part def»</text><text fill=\"#000000\" font-family=\"sans-serif\" font-size=\"12\" lengthAdjust=\"spacingAndGlyphs\" textLength=\"16\" x=\"104\" y=\"219.1074\">P1</text><line style=\"stroke: #383838; stroke-width: 1.5;\" x1=\"80\" x2=\"144\" y1=\"226.9375\" y2=\"226.9375\"/><text fill=\"#000000\" font-family=\"sans-serif\" font-size=\"11\" lengthAdjust=\"spacingAndGlyphs\" textLength=\"36\" x=\"85\" y=\"257.9526\">porig1</text><line style=\"stroke: #383838; stroke-width: 1.0;\" x1=\"80\" x2=\"97\" y1=\"241.3398\" y2=\"241.3398\"/><text fill=\"#000000\" font-family=\"sans-serif\" font-size=\"11\" lengthAdjust=\"spacingAndGlyphs\" textLength=\"30\" x=\"97\" y=\"244.6479\">ports</text><line style=\"stroke: #383838; stroke-width: 1.0;\" x1=\"127\" x2=\"144\" y1=\"241.3398\" y2=\"241.3398\"/></a><!--MD5=[ebbe1d658d1005bcc118a6aa81145e00]\n",
       "class E4--><a href=\"psysml:2b3d4312-7497-4457-990a-6ee5375442c5\" target=\"_top\" title=\"psysml:2b3d4312-7497-4457-990a-6ee5375442c5\" xlink:actuate=\"onRequest\" xlink:href=\"psysml:2b3d4312-7497-4457-990a-6ee5375442c5\" xlink:show=\"new\" xlink:title=\"psysml:2b3d4312-7497-4457-990a-6ee5375442c5\" xlink:type=\"simple\"><rect fill=\"#FFFFFF\" height=\"88.3516\" id=\"E4\" rx=\"10\" ry=\"10\" style=\"stroke: #383838; stroke-width: 1.5;\" width=\"92\" x=\"113\" y=\"41\"/><text fill=\"#000000\" font-family=\"sans-serif\" font-size=\"12\" font-style=\"italic\" lengthAdjust=\"spacingAndGlyphs\" textLength=\"40\" x=\"139\" y=\"57.1387\">«part»</text><text fill=\"#000000\" font-family=\"sans-serif\" font-size=\"12\" lengthAdjust=\"spacingAndGlyphs\" textLength=\"40\" x=\"139\" y=\"71.1074\">p1: P1</text><line style=\"stroke: #383838; stroke-width: 1.5;\" x1=\"114\" x2=\"204\" y1=\"78.9375\" y2=\"78.9375\"/><text fill=\"#000000\" font-family=\"sans-serif\" font-size=\"11\" lengthAdjust=\"spacingAndGlyphs\" textLength=\"21\" x=\"119\" y=\"109.9526\">po1</text><text fill=\"#000000\" font-family=\"sans-serif\" font-size=\"11\" font-style=\"italic\" lengthAdjust=\"spacingAndGlyphs\" textLength=\"80\" x=\"119\" y=\"122.7573\">:&gt;&gt;P1::porig1</text><line style=\"stroke: #383838; stroke-width: 1.0;\" x1=\"114\" x2=\"144\" y1=\"93.3398\" y2=\"93.3398\"/><text fill=\"#000000\" font-family=\"sans-serif\" font-size=\"11\" lengthAdjust=\"spacingAndGlyphs\" textLength=\"30\" x=\"144\" y=\"96.6479\">ports</text><line style=\"stroke: #383838; stroke-width: 1.0;\" x1=\"174\" x2=\"204\" y1=\"93.3398\" y2=\"93.3398\"/></a><!--MD5=[60a26617385b1d2d0262a64233df1f8d]\n",
       "class E6--><a href=\"psysml:09e69c42-70ff-4aed-b93c-c140a8b906a0\" target=\"_top\" title=\"psysml:09e69c42-70ff-4aed-b93c-c140a8b906a0\" xlink:actuate=\"onRequest\" xlink:href=\"psysml:09e69c42-70ff-4aed-b93c-c140a8b906a0\" xlink:show=\"new\" xlink:title=\"psysml:09e69c42-70ff-4aed-b93c-c140a8b906a0\" xlink:type=\"simple\"><rect fill=\"#FFFFFF\" height=\"75.5469\" id=\"E6\" rx=\"10\" ry=\"10\" style=\"stroke: #383838; stroke-width: 1.5;\" width=\"46\" x=\"32\" y=\"47\"/><text fill=\"#000000\" font-family=\"sans-serif\" font-size=\"12\" font-style=\"italic\" lengthAdjust=\"spacingAndGlyphs\" textLength=\"40\" x=\"35\" y=\"63.1387\">«part»</text><text fill=\"#000000\" font-family=\"sans-serif\" font-size=\"12\" lengthAdjust=\"spacingAndGlyphs\" textLength=\"40\" x=\"35\" y=\"77.1074\">p2: P1</text><line style=\"stroke: #383838; stroke-width: 1.5;\" x1=\"33\" x2=\"77\" y1=\"84.9375\" y2=\"84.9375\"/><text fill=\"#000000\" font-family=\"sans-serif\" font-size=\"11\" lengthAdjust=\"spacingAndGlyphs\" textLength=\"32\" x=\"38\" y=\"115.9526\">pdest</text><line style=\"stroke: #383838; stroke-width: 1.0;\" x1=\"33\" x2=\"40\" y1=\"99.3398\" y2=\"99.3398\"/><text fill=\"#000000\" font-family=\"sans-serif\" font-size=\"11\" lengthAdjust=\"spacingAndGlyphs\" textLength=\"30\" x=\"40\" y=\"102.6479\">ports</text><line style=\"stroke: #383838; stroke-width: 1.0;\" x1=\"70\" x2=\"77\" y1=\"99.3398\" y2=\"99.3398\"/></a><!--MD5=[185131fc0dcab0a4505a2ebe144e961b]\n",
       "link E4 to E2--><a href=\"psysml:5073669c-7652-4dd2-8e27-7490931f0c73\" target=\"_top\" title=\"psysml:5073669c-7652-4dd2-8e27-7490931f0c73\" xlink:actuate=\"onRequest\" xlink:href=\"psysml:5073669c-7652-4dd2-8e27-7490931f0c73\" xlink:show=\"new\" xlink:title=\"psysml:5073669c-7652-4dd2-8e27-7490931f0c73\" xlink:type=\"simple\"><path d=\"M144.51,129.15 C140.2,141.99 135.41,156.26 130.86,169.81 \" fill=\"none\" id=\"E4-&gt;E2\" style=\"stroke: #383838; stroke-width: 1.0;\"/><polygon fill=\"#FFFFFF\" points=\"124.45,188.9,123.8495,168.6604,137.1241,173.1086,124.45,188.9\" style=\"stroke: #383838; stroke-width: 1.0;\"/><ellipse cx=\"127.5569\" cy=\"163.8913\" fill=\"#383838\" rx=\"2\" ry=\"2\" style=\"stroke: #383838; stroke-width: 1.0;\"/><ellipse cx=\"137.0388\" cy=\"167.0685\" fill=\"#383838\" rx=\"2\" ry=\"2\" style=\"stroke: #383838; stroke-width: 1.0;\"/></a><!--MD5=[2351f337d6de0f557b50152ba70847b5]\n",
       "link E6 to E2--><a href=\"psysml:94875f8e-b487-466f-9f77-0e1d93a514ac\" target=\"_top\" title=\"psysml:94875f8e-b487-466f-9f77-0e1d93a514ac\" xlink:actuate=\"onRequest\" xlink:href=\"psysml:94875f8e-b487-466f-9f77-0e1d93a514ac\" xlink:show=\"new\" xlink:title=\"psysml:94875f8e-b487-466f-9f77-0e1d93a514ac\" xlink:type=\"simple\"><path d=\"M70.13,123.15 C75.99,137.55 82.83,154.34 89.26,170.14 \" fill=\"none\" id=\"E6-&gt;E2\" style=\"stroke: #383838; stroke-width: 1.0;\"/><polygon fill=\"#FFFFFF\" points=\"96.8,188.68,83.1527,173.7216,96.1195,168.443,96.8,188.68\" style=\"stroke: #383838; stroke-width: 1.0;\"/><ellipse cx=\"82.856\" cy=\"167.6882\" fill=\"#383838\" rx=\"2\" ry=\"2\" style=\"stroke: #383838; stroke-width: 1.0;\"/><ellipse cx=\"92.1179\" cy=\"163.9178\" fill=\"#383838\" rx=\"2\" ry=\"2\" style=\"stroke: #383838; stroke-width: 1.0;\"/></a><!--MD5=[f7c8f4386f986efe6ae0bcb7db2890b5]\n",
       "@startuml\r\n",
       "skinparam monochrome true\r\n",
       "skinparam classbackgroundcolor white\r\n",
       "skinparam shadowing false\r\n",
       "skinparam wrapWidth 300\r\n",
       "hide circle\r\n",
       "\r\n",
       "package \"AliasTest\" as E1  [[psysml:2a952753-6cea-46c9-bb61-930b04eb3411 ]]  {\r\n",
       "comp def \"P1\" as E2  <<(T,blue) part def>> [[psysml:92b6686b-ceec-4d5e-ab27-24733762f61c ]] {\r\n",
       "- - ports - -\r\n",
       "porig1\r\n",
       "}\r\n",
       "comp usage \"p1: P1\" as E4  <<(T,blue) part>> [[psysml:2b3d4312-7497-4457-990a-6ee5375442c5 ]] {\r\n",
       "- - ports - -\r\n",
       "po1\\n//:>>P1::porig1// \r\n",
       "}\r\n",
       "comp usage \"p2: P1\" as E6  <<(T,blue) part>> [[psysml:09e69c42-70ff-4aed-b93c-c140a8b906a0 ]] {\r\n",
       "- - ports - -\r\n",
       "pdest\r\n",
       "}\r\n",
       "E4 - -:|> E2 [[psysml:5073669c-7652-4dd2-8e27-7490931f0c73 ]] \r\n",
       "E6 - -:|> E2 [[psysml:94875f8e-b487-466f-9f77-0e1d93a514ac ]] \r\n",
       "}\r\n",
       "@enduml\r\n",
       "\n",
       "PlantUML version 1.2020.13(Sat Jun 13 12:26:38 UTC 2020)\n",
       "(EPL source distribution)\n",
       "Java Runtime: OpenJDK Runtime Environment\n",
       "JVM: OpenJDK 64-Bit Server VM\n",
       "Default Encoding: UTF-8\n",
       "Language: en\n",
       "Country: null\n",
       "--></g></svg>"
      ]
     },
     "execution_count": 37,
     "metadata": {},
     "output_type": "execute_result"
    }
   ],
   "source": [
    "%viz --style=\"DEFAULT\" --view=\"Default\" \"AliasTest\""
   ]
  },
  {
   "cell_type": "code",
   "execution_count": 38,
   "id": "27a7e32e",
   "metadata": {
    "execution": {
     "iopub.execute_input": "2021-06-30T09:16:09.875910Z",
     "iopub.status.busy": "2021-06-30T09:16:09.875258Z",
     "iopub.status.idle": "2021-06-30T09:16:09.967188Z",
     "shell.execute_reply": "2021-06-30T09:16:09.965556Z"
    }
   },
   "outputs": [
    {
     "data": {
      "image/svg+xml": [
       "<?xml version=\"1.0\" encoding=\"UTF-8\" standalone=\"no\"?><svg xmlns=\"http://www.w3.org/2000/svg\" xmlns:xlink=\"http://www.w3.org/1999/xlink\" contentScriptType=\"application/ecmascript\" contentStyleType=\"text/css\" height=\"293px\" preserveAspectRatio=\"none\" style=\"width:243px;height:293px;\" version=\"1.1\" viewBox=\"0 0 243 293\" width=\"243px\" zoomAndPan=\"magnify\"><defs/><g><!--MD5=[fbc87193dbaf4d95561dea2c320d4a47]\n",
       "cluster E1--><a href=\"psysml:2a952753-6cea-46c9-bb61-930b04eb3411\" target=\"_top\" title=\"psysml:2a952753-6cea-46c9-bb61-930b04eb3411\" xlink:actuate=\"onRequest\" xlink:href=\"psysml:2a952753-6cea-46c9-bb61-930b04eb3411\" xlink:show=\"new\" xlink:title=\"psysml:2a952753-6cea-46c9-bb61-930b04eb3411\" xlink:type=\"simple\"><polygon fill=\"#FFFFFF\" points=\"16,6,94,6,101,28.2969,221,28.2969,221,281,16,281,16,6\" style=\"stroke: #000000; stroke-width: 1.5;\"/><line style=\"stroke: #000000; stroke-width: 1.5;\" x1=\"16\" x2=\"101\" y1=\"28.2969\" y2=\"28.2969\"/><text fill=\"#000000\" font-family=\"sans-serif\" font-size=\"14\" font-weight=\"bold\" lengthAdjust=\"spacingAndGlyphs\" textLength=\"72\" x=\"20\" y=\"20.9951\">AliasTest</text></a><!--MD5=[b4997ac47864f28c2f74865a473b2911]\n",
       "class E2--><a href=\"psysml:92b6686b-ceec-4d5e-ab27-24733762f61c\" target=\"_top\" title=\"psysml:92b6686b-ceec-4d5e-ab27-24733762f61c\" xlink:actuate=\"onRequest\" xlink:href=\"psysml:92b6686b-ceec-4d5e-ab27-24733762f61c\" xlink:show=\"new\" xlink:title=\"psysml:92b6686b-ceec-4d5e-ab27-24733762f61c\" xlink:type=\"simple\"><rect fill=\"#FFFFFF\" height=\"75.5469\" id=\"E2\" style=\"stroke: #383838; stroke-width: 1.5;\" width=\"66\" x=\"79\" y=\"189\"/><text fill=\"#000000\" font-family=\"sans-serif\" font-size=\"12\" font-style=\"italic\" lengthAdjust=\"spacingAndGlyphs\" textLength=\"64\" x=\"80\" y=\"205.1387\">«part def»</text><text fill=\"#000000\" font-family=\"sans-serif\" font-size=\"12\" lengthAdjust=\"spacingAndGlyphs\" textLength=\"16\" x=\"104\" y=\"219.1074\">P1</text><line style=\"stroke: #383838; stroke-width: 1.5;\" x1=\"80\" x2=\"144\" y1=\"226.9375\" y2=\"226.9375\"/><text fill=\"#000000\" font-family=\"sans-serif\" font-size=\"11\" lengthAdjust=\"spacingAndGlyphs\" textLength=\"36\" x=\"85\" y=\"257.9526\">porig1</text><line style=\"stroke: #383838; stroke-width: 1.0;\" x1=\"80\" x2=\"97\" y1=\"241.3398\" y2=\"241.3398\"/><text fill=\"#000000\" font-family=\"sans-serif\" font-size=\"11\" lengthAdjust=\"spacingAndGlyphs\" textLength=\"30\" x=\"97\" y=\"244.6479\">ports</text><line style=\"stroke: #383838; stroke-width: 1.0;\" x1=\"127\" x2=\"144\" y1=\"241.3398\" y2=\"241.3398\"/></a><!--MD5=[ebbe1d658d1005bcc118a6aa81145e00]\n",
       "class E4--><a href=\"psysml:2b3d4312-7497-4457-990a-6ee5375442c5\" target=\"_top\" title=\"psysml:2b3d4312-7497-4457-990a-6ee5375442c5\" xlink:actuate=\"onRequest\" xlink:href=\"psysml:2b3d4312-7497-4457-990a-6ee5375442c5\" xlink:show=\"new\" xlink:title=\"psysml:2b3d4312-7497-4457-990a-6ee5375442c5\" xlink:type=\"simple\"><rect fill=\"#FFFFFF\" height=\"88.3516\" id=\"E4\" rx=\"10\" ry=\"10\" style=\"stroke: #383838; stroke-width: 1.5;\" width=\"92\" x=\"113\" y=\"41\"/><text fill=\"#000000\" font-family=\"sans-serif\" font-size=\"12\" font-style=\"italic\" lengthAdjust=\"spacingAndGlyphs\" textLength=\"40\" x=\"139\" y=\"57.1387\">«part»</text><text fill=\"#000000\" font-family=\"sans-serif\" font-size=\"12\" lengthAdjust=\"spacingAndGlyphs\" textLength=\"40\" x=\"139\" y=\"71.1074\">p1: P1</text><line style=\"stroke: #383838; stroke-width: 1.5;\" x1=\"114\" x2=\"204\" y1=\"78.9375\" y2=\"78.9375\"/><text fill=\"#000000\" font-family=\"sans-serif\" font-size=\"11\" lengthAdjust=\"spacingAndGlyphs\" textLength=\"21\" x=\"119\" y=\"109.9526\">po1</text><text fill=\"#000000\" font-family=\"sans-serif\" font-size=\"11\" font-style=\"italic\" lengthAdjust=\"spacingAndGlyphs\" textLength=\"80\" x=\"119\" y=\"122.7573\">:&gt;&gt;P1::porig1</text><line style=\"stroke: #383838; stroke-width: 1.0;\" x1=\"114\" x2=\"144\" y1=\"93.3398\" y2=\"93.3398\"/><text fill=\"#000000\" font-family=\"sans-serif\" font-size=\"11\" lengthAdjust=\"spacingAndGlyphs\" textLength=\"30\" x=\"144\" y=\"96.6479\">ports</text><line style=\"stroke: #383838; stroke-width: 1.0;\" x1=\"174\" x2=\"204\" y1=\"93.3398\" y2=\"93.3398\"/></a><!--MD5=[60a26617385b1d2d0262a64233df1f8d]\n",
       "class E6--><a href=\"psysml:09e69c42-70ff-4aed-b93c-c140a8b906a0\" target=\"_top\" title=\"psysml:09e69c42-70ff-4aed-b93c-c140a8b906a0\" xlink:actuate=\"onRequest\" xlink:href=\"psysml:09e69c42-70ff-4aed-b93c-c140a8b906a0\" xlink:show=\"new\" xlink:title=\"psysml:09e69c42-70ff-4aed-b93c-c140a8b906a0\" xlink:type=\"simple\"><rect fill=\"#FFFFFF\" height=\"75.5469\" id=\"E6\" rx=\"10\" ry=\"10\" style=\"stroke: #383838; stroke-width: 1.5;\" width=\"46\" x=\"32\" y=\"47\"/><text fill=\"#000000\" font-family=\"sans-serif\" font-size=\"12\" font-style=\"italic\" lengthAdjust=\"spacingAndGlyphs\" textLength=\"40\" x=\"35\" y=\"63.1387\">«part»</text><text fill=\"#000000\" font-family=\"sans-serif\" font-size=\"12\" lengthAdjust=\"spacingAndGlyphs\" textLength=\"40\" x=\"35\" y=\"77.1074\">p2: P1</text><line style=\"stroke: #383838; stroke-width: 1.5;\" x1=\"33\" x2=\"77\" y1=\"84.9375\" y2=\"84.9375\"/><text fill=\"#000000\" font-family=\"sans-serif\" font-size=\"11\" lengthAdjust=\"spacingAndGlyphs\" textLength=\"32\" x=\"38\" y=\"115.9526\">pdest</text><line style=\"stroke: #383838; stroke-width: 1.0;\" x1=\"33\" x2=\"40\" y1=\"99.3398\" y2=\"99.3398\"/><text fill=\"#000000\" font-family=\"sans-serif\" font-size=\"11\" lengthAdjust=\"spacingAndGlyphs\" textLength=\"30\" x=\"40\" y=\"102.6479\">ports</text><line style=\"stroke: #383838; stroke-width: 1.0;\" x1=\"70\" x2=\"77\" y1=\"99.3398\" y2=\"99.3398\"/></a><!--MD5=[185131fc0dcab0a4505a2ebe144e961b]\n",
       "link E4 to E2--><a href=\"psysml:5073669c-7652-4dd2-8e27-7490931f0c73\" target=\"_top\" title=\"psysml:5073669c-7652-4dd2-8e27-7490931f0c73\" xlink:actuate=\"onRequest\" xlink:href=\"psysml:5073669c-7652-4dd2-8e27-7490931f0c73\" xlink:show=\"new\" xlink:title=\"psysml:5073669c-7652-4dd2-8e27-7490931f0c73\" xlink:type=\"simple\"><path d=\"M144.51,129.15 C140.2,141.99 135.41,156.26 130.86,169.81 \" fill=\"none\" id=\"E4-&gt;E2\" style=\"stroke: #383838; stroke-width: 1.0;\"/><polygon fill=\"#FFFFFF\" points=\"124.45,188.9,123.8495,168.6604,137.1241,173.1086,124.45,188.9\" style=\"stroke: #383838; stroke-width: 1.0;\"/><ellipse cx=\"127.5569\" cy=\"163.8913\" fill=\"#383838\" rx=\"2\" ry=\"2\" style=\"stroke: #383838; stroke-width: 1.0;\"/><ellipse cx=\"137.0388\" cy=\"167.0685\" fill=\"#383838\" rx=\"2\" ry=\"2\" style=\"stroke: #383838; stroke-width: 1.0;\"/></a><!--MD5=[2351f337d6de0f557b50152ba70847b5]\n",
       "link E6 to E2--><a href=\"psysml:94875f8e-b487-466f-9f77-0e1d93a514ac\" target=\"_top\" title=\"psysml:94875f8e-b487-466f-9f77-0e1d93a514ac\" xlink:actuate=\"onRequest\" xlink:href=\"psysml:94875f8e-b487-466f-9f77-0e1d93a514ac\" xlink:show=\"new\" xlink:title=\"psysml:94875f8e-b487-466f-9f77-0e1d93a514ac\" xlink:type=\"simple\"><path d=\"M70.13,123.15 C75.99,137.55 82.83,154.34 89.26,170.14 \" fill=\"none\" id=\"E6-&gt;E2\" style=\"stroke: #383838; stroke-width: 1.0;\"/><polygon fill=\"#FFFFFF\" points=\"96.8,188.68,83.1527,173.7216,96.1195,168.443,96.8,188.68\" style=\"stroke: #383838; stroke-width: 1.0;\"/><ellipse cx=\"82.856\" cy=\"167.6882\" fill=\"#383838\" rx=\"2\" ry=\"2\" style=\"stroke: #383838; stroke-width: 1.0;\"/><ellipse cx=\"92.1179\" cy=\"163.9178\" fill=\"#383838\" rx=\"2\" ry=\"2\" style=\"stroke: #383838; stroke-width: 1.0;\"/></a><!--MD5=[f7c8f4386f986efe6ae0bcb7db2890b5]\n",
       "@startuml\r\n",
       "skinparam monochrome true\r\n",
       "skinparam classbackgroundcolor white\r\n",
       "skinparam shadowing false\r\n",
       "skinparam wrapWidth 300\r\n",
       "hide circle\r\n",
       "\r\n",
       "package \"AliasTest\" as E1  [[psysml:2a952753-6cea-46c9-bb61-930b04eb3411 ]]  {\r\n",
       "comp def \"P1\" as E2  <<(T,blue) part def>> [[psysml:92b6686b-ceec-4d5e-ab27-24733762f61c ]] {\r\n",
       "- - ports - -\r\n",
       "porig1\r\n",
       "}\r\n",
       "comp usage \"p1: P1\" as E4  <<(T,blue) part>> [[psysml:2b3d4312-7497-4457-990a-6ee5375442c5 ]] {\r\n",
       "- - ports - -\r\n",
       "po1\\n//:>>P1::porig1// \r\n",
       "}\r\n",
       "comp usage \"p2: P1\" as E6  <<(T,blue) part>> [[psysml:09e69c42-70ff-4aed-b93c-c140a8b906a0 ]] {\r\n",
       "- - ports - -\r\n",
       "pdest\r\n",
       "}\r\n",
       "E4 - -:|> E2 [[psysml:5073669c-7652-4dd2-8e27-7490931f0c73 ]] \r\n",
       "E6 - -:|> E2 [[psysml:94875f8e-b487-466f-9f77-0e1d93a514ac ]] \r\n",
       "}\r\n",
       "@enduml\r\n",
       "\n",
       "PlantUML version 1.2020.13(Sat Jun 13 12:26:38 UTC 2020)\n",
       "(EPL source distribution)\n",
       "Java Runtime: OpenJDK Runtime Environment\n",
       "JVM: OpenJDK 64-Bit Server VM\n",
       "Default Encoding: UTF-8\n",
       "Language: en\n",
       "Country: null\n",
       "--></g></svg>"
      ]
     },
     "execution_count": 38,
     "metadata": {},
     "output_type": "execute_result"
    }
   ],
   "source": [
    "%viz --style=\"DEFAULT\" --view=\"Tree\" \"AliasTest\""
   ]
  },
  {
   "cell_type": "code",
   "execution_count": 39,
   "id": "5dde0eb6",
   "metadata": {
    "execution": {
     "iopub.execute_input": "2021-06-30T09:16:10.017560Z",
     "iopub.status.busy": "2021-06-30T09:16:10.016941Z",
     "iopub.status.idle": "2021-06-30T09:16:10.025105Z",
     "shell.execute_reply": "2021-06-30T09:16:10.024671Z"
    }
   },
   "outputs": [
    {
     "data": {
      "image/svg+xml": [
       "<?xml version=\"1.0\" encoding=\"UTF-8\" standalone=\"no\"?><svg xmlns=\"http://www.w3.org/2000/svg\" xmlns:xlink=\"http://www.w3.org/1999/xlink\" contentScriptType=\"application/ecmascript\" contentStyleType=\"text/css\" height=\"12px\" preserveAspectRatio=\"none\" style=\"width:12px;height:12px;\" version=\"1.1\" viewBox=\"0 0 12 12\" width=\"12px\" zoomAndPan=\"magnify\"><defs/><g><!--MD5=[c5f280e076d0d61ccf4b0f27871bda1d]\n",
       "@startuml\r\n",
       "skinparam monochrome true\r\n",
       "skinparam classbackgroundcolor white\r\n",
       "skinparam shadowing false\r\n",
       "skinparam wrapWidth 300\r\n",
       "hide circle\r\n",
       "\r\n",
       "@enduml\r\n",
       "\n",
       "PlantUML version 1.2020.13(Sat Jun 13 12:26:38 UTC 2020)\n",
       "(EPL source distribution)\n",
       "Java Runtime: OpenJDK Runtime Environment\n",
       "JVM: OpenJDK 64-Bit Server VM\n",
       "Default Encoding: UTF-8\n",
       "Language: en\n",
       "Country: null\n",
       "--></g></svg>"
      ]
     },
     "execution_count": 39,
     "metadata": {},
     "output_type": "execute_result"
    }
   ],
   "source": [
    "%viz --style=\"DEFAULT\" --view=\"State\" \"AliasTest\""
   ]
  },
  {
   "cell_type": "code",
   "execution_count": 40,
   "id": "1d4a5e06",
   "metadata": {
    "execution": {
     "iopub.execute_input": "2021-06-30T09:16:10.075997Z",
     "iopub.status.busy": "2021-06-30T09:16:10.075265Z",
     "iopub.status.idle": "2021-06-30T09:16:10.126338Z",
     "shell.execute_reply": "2021-06-30T09:16:10.124438Z"
    }
   },
   "outputs": [
    {
     "data": {
      "image/svg+xml": [
       "<?xml version=\"1.0\" encoding=\"UTF-8\" standalone=\"no\"?><svg xmlns=\"http://www.w3.org/2000/svg\" xmlns:xlink=\"http://www.w3.org/1999/xlink\" contentScriptType=\"application/ecmascript\" contentStyleType=\"text/css\" height=\"207px\" preserveAspectRatio=\"none\" style=\"width:406px;height:207px;\" version=\"1.1\" viewBox=\"0 0 406 207\" width=\"406px\" zoomAndPan=\"magnify\"><defs/><g><!--MD5=[fbc87193dbaf4d95561dea2c320d4a47]\n",
       "cluster E1--><a href=\"psysml:2a952753-6cea-46c9-bb61-930b04eb3411\" target=\"_top\" title=\"psysml:2a952753-6cea-46c9-bb61-930b04eb3411\" xlink:actuate=\"onRequest\" xlink:href=\"psysml:2a952753-6cea-46c9-bb61-930b04eb3411\" xlink:show=\"new\" xlink:title=\"psysml:2a952753-6cea-46c9-bb61-930b04eb3411\" xlink:type=\"simple\"><polygon fill=\"#FFFFFF\" points=\"16,6,94,6,101,28.2969,384,28.2969,384,195,16,195,16,6\" style=\"stroke: #000000; stroke-width: 1.5;\"/><line style=\"stroke: #000000; stroke-width: 1.5;\" x1=\"16\" x2=\"101\" y1=\"28.2969\" y2=\"28.2969\"/><text fill=\"#000000\" font-family=\"sans-serif\" font-size=\"14\" font-weight=\"bold\" lengthAdjust=\"spacingAndGlyphs\" textLength=\"72\" x=\"20\" y=\"20.9951\">AliasTest</text></a><!--MD5=[e4f7fae6ed58524ba242bb0b0d3be6b7]\n",
       "cluster E2--><a href=\"psysml:92b6686b-ceec-4d5e-ab27-24733762f61c\" target=\"_top\" title=\"psysml:92b6686b-ceec-4d5e-ab27-24733762f61c\" xlink:actuate=\"onRequest\" xlink:href=\"psysml:92b6686b-ceec-4d5e-ab27-24733762f61c\" xlink:show=\"new\" xlink:title=\"psysml:92b6686b-ceec-4d5e-ab27-24733762f61c\" xlink:type=\"simple\"><rect fill=\"#FFFFFF\" height=\"73\" id=\"E2\" style=\"stroke: #383838; stroke-width: 1.5;\" width=\"83\" x=\"244\" y=\"55\"/><rect fill=\"#F8F8F8\" height=\"37.9375\" style=\"stroke: #383838; stroke-width: 1.5;\" width=\"83\" x=\"244\" y=\"55\"/><text fill=\"#000000\" font-family=\"sans-serif\" font-size=\"12\" font-style=\"italic\" lengthAdjust=\"spacingAndGlyphs\" textLength=\"64\" x=\"253.5\" y=\"71.1387\">«part def»</text><text fill=\"#000000\" font-family=\"sans-serif\" font-size=\"12\" lengthAdjust=\"spacingAndGlyphs\" textLength=\"16\" x=\"277.5\" y=\"85.1074\">P1</text></a><!--MD5=[de5ec2e2e8f62f467e546659f5068c88]\n",
       "cluster E5--><a href=\"psysml:2b3d4312-7497-4457-990a-6ee5375442c5\" target=\"_top\" title=\"psysml:2b3d4312-7497-4457-990a-6ee5375442c5\" xlink:actuate=\"onRequest\" xlink:href=\"psysml:2b3d4312-7497-4457-990a-6ee5375442c5\" xlink:show=\"new\" xlink:title=\"psysml:2b3d4312-7497-4457-990a-6ee5375442c5\" xlink:type=\"simple\"><rect fill=\"#FFFFFF\" height=\"84.5\" id=\"E5\" rx=\"10\" ry=\"10\" style=\"stroke: #383838; stroke-width: 1.5;\" width=\"101\" x=\"139\" y=\"94.5\"/><rect fill=\"#F8F8F8\" height=\"23.9688\" rx=\"10\" ry=\"10\" style=\"stroke: #F8F8F8; stroke-width: 1.5;\" width=\"101\" x=\"139\" y=\"94.5\"/><rect fill=\"#F8F8F8\" height=\"10\" style=\"stroke: #F8F8F8; stroke-width: 1.5;\" width=\"101\" x=\"139\" y=\"108.4688\"/><rect fill=\"none\" height=\"84.5\" id=\"E5\" rx=\"10\" ry=\"10\" style=\"stroke: #383838; stroke-width: 1.5;\" width=\"101\" x=\"139\" y=\"94.5\"/><text fill=\"#000000\" font-family=\"sans-serif\" font-size=\"12\" lengthAdjust=\"spacingAndGlyphs\" textLength=\"40\" x=\"169.5\" y=\"110.6387\">p1: P1</text><line style=\"stroke: #383838; stroke-width: 1.0;\" x1=\"139\" x2=\"240\" y1=\"118.4688\" y2=\"118.4688\"/></a><!--MD5=[168fadf3d0c3fd93dd5d6da1b1d7ab76]\n",
       "cluster E7--><a href=\"psysml:09e69c42-70ff-4aed-b93c-c140a8b906a0\" target=\"_top\" title=\"psysml:09e69c42-70ff-4aed-b93c-c140a8b906a0\" xlink:actuate=\"onRequest\" xlink:href=\"psysml:09e69c42-70ff-4aed-b93c-c140a8b906a0\" xlink:show=\"new\" xlink:title=\"psysml:09e69c42-70ff-4aed-b93c-c140a8b906a0\" xlink:type=\"simple\"><rect fill=\"#FFFFFF\" height=\"65\" id=\"E7\" rx=\"10\" ry=\"10\" style=\"stroke: #383838; stroke-width: 1.5;\" width=\"83\" x=\"53\" y=\"55\"/><rect fill=\"#F8F8F8\" height=\"23.9688\" rx=\"10\" ry=\"10\" style=\"stroke: #F8F8F8; stroke-width: 1.5;\" width=\"83\" x=\"53\" y=\"55\"/><rect fill=\"#F8F8F8\" height=\"10\" style=\"stroke: #F8F8F8; stroke-width: 1.5;\" width=\"83\" x=\"53\" y=\"68.9688\"/><rect fill=\"none\" height=\"65\" id=\"E7\" rx=\"10\" ry=\"10\" style=\"stroke: #383838; stroke-width: 1.5;\" width=\"83\" x=\"53\" y=\"55\"/><text fill=\"#000000\" font-family=\"sans-serif\" font-size=\"12\" lengthAdjust=\"spacingAndGlyphs\" textLength=\"40\" x=\"74.5\" y=\"71.1387\">p2: P1</text><line style=\"stroke: #383838; stroke-width: 1.0;\" x1=\"53\" x2=\"136\" y1=\"78.9688\" y2=\"78.9688\"/></a><text fill=\"#000000\" font-family=\"sans-serif\" font-size=\"14\" lengthAdjust=\"spacingAndGlyphs\" textLength=\"44\" x=\"240\" y=\"33.6982\">porig1</text><rect fill=\"#383838\" height=\"12\" style=\"stroke: #F8F8F8; stroke-width: 1.5;\" width=\"12\" x=\"256\" y=\"49\"/><text fill=\"#000000\" font-family=\"sans-serif\" font-size=\"14\" lengthAdjust=\"spacingAndGlyphs\" textLength=\"44\" x=\"287\" y=\"33.6982\">porig1</text><rect fill=\"#383838\" height=\"12\" style=\"stroke: #F8F8F8; stroke-width: 1.5;\" width=\"12\" x=\"303\" y=\"49\"/><text fill=\"#000000\" font-family=\"sans-serif\" font-size=\"14\" lengthAdjust=\"spacingAndGlyphs\" textLength=\"27\" x=\"143.5\" y=\"73.1982\">po1</text><rect fill=\"#383838\" height=\"12\" style=\"stroke: #F8F8F8; stroke-width: 1.5;\" width=\"12\" x=\"151\" y=\"88.5\"/><text fill=\"#000000\" font-family=\"sans-serif\" font-size=\"14\" lengthAdjust=\"spacingAndGlyphs\" textLength=\"40\" x=\"51\" y=\"33.6982\">pdest</text><rect fill=\"#383838\" height=\"12\" style=\"stroke: #F8F8F8; stroke-width: 1.5;\" width=\"12\" x=\"65\" y=\"49\"/><text fill=\"#000000\" font-family=\"sans-serif\" font-size=\"14\" lengthAdjust=\"spacingAndGlyphs\" textLength=\"40\" x=\"98\" y=\"33.6982\">pdest</text><rect fill=\"#383838\" height=\"12\" style=\"stroke: #F8F8F8; stroke-width: 1.5;\" width=\"12\" x=\"112\" y=\"49\"/><!--MD5=[60ac2c0cde89d4308155b0484e57a8ec]\n",
       "link E9 to E6--><a href=\"psysml:d88f1dc1-ed41-4b97-9842-84a04c2c1d2b\" target=\"_top\" title=\"psysml:d88f1dc1-ed41-4b97-9842-84a04c2c1d2b\" xlink:actuate=\"onRequest\" xlink:href=\"psysml:d88f1dc1-ed41-4b97-9842-84a04c2c1d2b\" xlink:show=\"new\" xlink:title=\"psysml:d88f1dc1-ed41-4b97-9842-84a04c2c1d2b\" xlink:type=\"simple\"><path d=\"M111.75,56.49 C103.41,58.2 109.82,64.05 115,69 C124.85,78.4 136.6,90.11 150.78,92.89 \" fill=\"none\" id=\"E9-E6\" style=\"stroke: #383838; stroke-width: 3.0;\"/></a><!--MD5=[60ac2c0cde89d4308155b0484e57a8ec]\n",
       "link E9 to E6--><a href=\"psysml:619a1562-63e5-4ed2-9546-f25d2cdc049d\" target=\"_top\" title=\"psysml:619a1562-63e5-4ed2-9546-f25d2cdc049d\" xlink:actuate=\"onRequest\" xlink:href=\"psysml:619a1562-63e5-4ed2-9546-f25d2cdc049d\" xlink:show=\"new\" xlink:title=\"psysml:619a1562-63e5-4ed2-9546-f25d2cdc049d\" xlink:type=\"simple\"><path d=\"M124.29,56.32 C137.94,57.76 144.62,63.87 150,69 C159.5,78.06 170.77,89.27 163.24,92.56 \" fill=\"none\" id=\"E9-E6-1\" style=\"stroke: #383838; stroke-width: 3.0;\"/></a><!--MD5=[bbe13d446f9aa9335c205e8ca23d5361]\n",
       "@startuml\r\n",
       "skinparam ranksep 10\r\n",
       "skinparam rectangle {\r\n",
       " backgroundColor<<block>> LightGreen\r\n",
       "}\r\n",
       "skinparam monochrome true\r\n",
       "skinparam classbackgroundcolor white\r\n",
       "skinparam shadowing false\r\n",
       "skinparam wrapWidth 300\r\n",
       "hide circle\r\n",
       "\r\n",
       "package \"AliasTest\" as E1  [[psysml:2a952753-6cea-46c9-bb61-930b04eb3411 ]]  {\r\n",
       "rec def \"P1\" as E2  <<(T,blue) part def>> [[psysml:92b6686b-ceec-4d5e-ab27-24733762f61c ]] {\r\n",
       "portin \"porig1\" as E3  <<(T,blue) port>> [[psysml:ea24ffa6-0b43-4ed9-8037-2e87c3ddc217 ]] \r\n",
       "portin \"porig1\" as E4  <<(T,blue) port>> [[psysml:ea24ffa6-0b43-4ed9-8037-2e87c3ddc217 ]] \r\n",
       "}\r\n",
       "rec usage \"p1: P1\" as E5  [[psysml:2b3d4312-7497-4457-990a-6ee5375442c5 ]] {\r\n",
       "portin \"po1\" as E6  <<(T,blue) port>> [[psysml:dd05f1a1-221f-4ab1-8a14-dfadf20b8a26 ]] \r\n",
       "}\r\n",
       "rec usage \"p2: P1\" as E7  [[psysml:09e69c42-70ff-4aed-b93c-c140a8b906a0 ]] {\r\n",
       "portin \"pdest\" as E8  <<(T,blue) port>> [[psysml:af7521ab-a154-4c67-8a1e-396c259ea1b5 ]] \r\n",
       "portin \"pdest\" as E9  <<(T,blue) port>> [[psysml:af7521ab-a154-4c67-8a1e-396c259ea1b5 ]] \r\n",
       "}\r\n",
       "E9 -[thickness=3]- E6 [[psysml:d88f1dc1-ed41-4b97-9842-84a04c2c1d2b ]] \r\n",
       "E9 -[thickness=3]- E6 [[psysml:619a1562-63e5-4ed2-9546-f25d2cdc049d ]] \r\n",
       "}\r\n",
       "@enduml\r\n",
       "\n",
       "PlantUML version 1.2020.13(Sat Jun 13 12:26:38 UTC 2020)\n",
       "(EPL source distribution)\n",
       "Java Runtime: OpenJDK Runtime Environment\n",
       "JVM: OpenJDK 64-Bit Server VM\n",
       "Default Encoding: UTF-8\n",
       "Language: en\n",
       "Country: null\n",
       "--></g></svg>"
      ]
     },
     "execution_count": 40,
     "metadata": {},
     "output_type": "execute_result"
    }
   ],
   "source": [
    "%viz --style=\"DEFAULT\" --view=\"Interconnection\" \"AliasTest\""
   ]
  },
  {
   "cell_type": "code",
   "execution_count": 41,
   "id": "abbc77e7",
   "metadata": {
    "execution": {
     "iopub.execute_input": "2021-06-30T09:16:10.176266Z",
     "iopub.status.busy": "2021-06-30T09:16:10.175705Z",
     "iopub.status.idle": "2021-06-30T09:16:10.187162Z",
     "shell.execute_reply": "2021-06-30T09:16:10.186640Z"
    }
   },
   "outputs": [
    {
     "data": {
      "image/svg+xml": [
       "<?xml version=\"1.0\" encoding=\"UTF-8\" standalone=\"no\"?><svg xmlns=\"http://www.w3.org/2000/svg\" xmlns:xlink=\"http://www.w3.org/1999/xlink\" contentScriptType=\"application/ecmascript\" contentStyleType=\"text/css\" height=\"12px\" preserveAspectRatio=\"none\" style=\"width:12px;height:12px;\" version=\"1.1\" viewBox=\"0 0 12 12\" width=\"12px\" zoomAndPan=\"magnify\"><defs/><g><!--MD5=[388f21188e31bfdd97050473b19af356]\n",
       "@startuml\r\n",
       "skinparam ranksep 8\r\n",
       "skinparam monochrome true\r\n",
       "skinparam classbackgroundcolor white\r\n",
       "skinparam shadowing false\r\n",
       "skinparam wrapWidth 300\r\n",
       "hide circle\r\n",
       "\r\n",
       "@enduml\r\n",
       "\n",
       "PlantUML version 1.2020.13(Sat Jun 13 12:26:38 UTC 2020)\n",
       "(EPL source distribution)\n",
       "Java Runtime: OpenJDK Runtime Environment\n",
       "JVM: OpenJDK 64-Bit Server VM\n",
       "Default Encoding: UTF-8\n",
       "Language: en\n",
       "Country: null\n",
       "--></g></svg>"
      ]
     },
     "execution_count": 41,
     "metadata": {},
     "output_type": "execute_result"
    }
   ],
   "source": [
    "%viz --style=\"DEFAULT\" --view=\"Action\" \"AliasTest\""
   ]
  },
  {
   "cell_type": "code",
   "execution_count": 42,
   "id": "1c778ef4",
   "metadata": {
    "execution": {
     "iopub.execute_input": "2021-06-30T09:16:10.238902Z",
     "iopub.status.busy": "2021-06-30T09:16:10.238461Z",
     "iopub.status.idle": "2021-06-30T09:16:10.317915Z",
     "shell.execute_reply": "2021-06-30T09:16:10.315933Z"
    }
   },
   "outputs": [
    {
     "data": {
      "image/svg+xml": [
       "<?xml version=\"1.0\" encoding=\"UTF-8\" standalone=\"no\"?><svg xmlns=\"http://www.w3.org/2000/svg\" xmlns:xlink=\"http://www.w3.org/1999/xlink\" contentScriptType=\"application/ecmascript\" contentStyleType=\"text/css\" height=\"293px\" preserveAspectRatio=\"none\" style=\"width:243px;height:293px;\" version=\"1.1\" viewBox=\"0 0 243 293\" width=\"243px\" zoomAndPan=\"magnify\"><defs/><g><!--MD5=[fbc87193dbaf4d95561dea2c320d4a47]\n",
       "cluster E1--><a href=\"psysml:2a952753-6cea-46c9-bb61-930b04eb3411\" target=\"_top\" title=\"psysml:2a952753-6cea-46c9-bb61-930b04eb3411\" xlink:actuate=\"onRequest\" xlink:href=\"psysml:2a952753-6cea-46c9-bb61-930b04eb3411\" xlink:show=\"new\" xlink:title=\"psysml:2a952753-6cea-46c9-bb61-930b04eb3411\" xlink:type=\"simple\"><polygon fill=\"#FFFFFF\" points=\"16,6,94,6,101,28.2969,221,28.2969,221,281,16,281,16,6\" style=\"stroke: #000000; stroke-width: 1.5;\"/><line style=\"stroke: #000000; stroke-width: 1.5;\" x1=\"16\" x2=\"101\" y1=\"28.2969\" y2=\"28.2969\"/><text fill=\"#000000\" font-family=\"sans-serif\" font-size=\"14\" font-weight=\"bold\" lengthAdjust=\"spacingAndGlyphs\" textLength=\"72\" x=\"20\" y=\"20.9951\">AliasTest</text></a><!--MD5=[b4997ac47864f28c2f74865a473b2911]\n",
       "class E2--><a href=\"psysml:92b6686b-ceec-4d5e-ab27-24733762f61c\" target=\"_top\" title=\"psysml:92b6686b-ceec-4d5e-ab27-24733762f61c\" xlink:actuate=\"onRequest\" xlink:href=\"psysml:92b6686b-ceec-4d5e-ab27-24733762f61c\" xlink:show=\"new\" xlink:title=\"psysml:92b6686b-ceec-4d5e-ab27-24733762f61c\" xlink:type=\"simple\"><rect fill=\"#FFFFFF\" height=\"75.5469\" id=\"E2\" style=\"stroke: #383838; stroke-width: 1.5;\" width=\"66\" x=\"79\" y=\"189\"/><text fill=\"#000000\" font-family=\"sans-serif\" font-size=\"12\" font-style=\"italic\" lengthAdjust=\"spacingAndGlyphs\" textLength=\"64\" x=\"80\" y=\"205.1387\">«part def»</text><text fill=\"#000000\" font-family=\"sans-serif\" font-size=\"12\" lengthAdjust=\"spacingAndGlyphs\" textLength=\"16\" x=\"104\" y=\"219.1074\">P1</text><line style=\"stroke: #383838; stroke-width: 1.5;\" x1=\"80\" x2=\"144\" y1=\"226.9375\" y2=\"226.9375\"/><text fill=\"#000000\" font-family=\"sans-serif\" font-size=\"11\" lengthAdjust=\"spacingAndGlyphs\" textLength=\"36\" x=\"85\" y=\"257.9526\">porig1</text><line style=\"stroke: #383838; stroke-width: 1.0;\" x1=\"80\" x2=\"97\" y1=\"241.3398\" y2=\"241.3398\"/><text fill=\"#000000\" font-family=\"sans-serif\" font-size=\"11\" lengthAdjust=\"spacingAndGlyphs\" textLength=\"30\" x=\"97\" y=\"244.6479\">ports</text><line style=\"stroke: #383838; stroke-width: 1.0;\" x1=\"127\" x2=\"144\" y1=\"241.3398\" y2=\"241.3398\"/></a><!--MD5=[ebbe1d658d1005bcc118a6aa81145e00]\n",
       "class E4--><a href=\"psysml:2b3d4312-7497-4457-990a-6ee5375442c5\" target=\"_top\" title=\"psysml:2b3d4312-7497-4457-990a-6ee5375442c5\" xlink:actuate=\"onRequest\" xlink:href=\"psysml:2b3d4312-7497-4457-990a-6ee5375442c5\" xlink:show=\"new\" xlink:title=\"psysml:2b3d4312-7497-4457-990a-6ee5375442c5\" xlink:type=\"simple\"><rect fill=\"#FFFFFF\" height=\"88.3516\" id=\"E4\" rx=\"10\" ry=\"10\" style=\"stroke: #383838; stroke-width: 1.5;\" width=\"92\" x=\"113\" y=\"41\"/><text fill=\"#000000\" font-family=\"sans-serif\" font-size=\"12\" font-style=\"italic\" lengthAdjust=\"spacingAndGlyphs\" textLength=\"40\" x=\"139\" y=\"57.1387\">«part»</text><text fill=\"#000000\" font-family=\"sans-serif\" font-size=\"12\" lengthAdjust=\"spacingAndGlyphs\" textLength=\"40\" x=\"139\" y=\"71.1074\">p1: P1</text><line style=\"stroke: #383838; stroke-width: 1.5;\" x1=\"114\" x2=\"204\" y1=\"78.9375\" y2=\"78.9375\"/><text fill=\"#000000\" font-family=\"sans-serif\" font-size=\"11\" lengthAdjust=\"spacingAndGlyphs\" textLength=\"21\" x=\"119\" y=\"109.9526\">po1</text><text fill=\"#000000\" font-family=\"sans-serif\" font-size=\"11\" font-style=\"italic\" lengthAdjust=\"spacingAndGlyphs\" textLength=\"80\" x=\"119\" y=\"122.7573\">:&gt;&gt;P1::porig1</text><line style=\"stroke: #383838; stroke-width: 1.0;\" x1=\"114\" x2=\"144\" y1=\"93.3398\" y2=\"93.3398\"/><text fill=\"#000000\" font-family=\"sans-serif\" font-size=\"11\" lengthAdjust=\"spacingAndGlyphs\" textLength=\"30\" x=\"144\" y=\"96.6479\">ports</text><line style=\"stroke: #383838; stroke-width: 1.0;\" x1=\"174\" x2=\"204\" y1=\"93.3398\" y2=\"93.3398\"/></a><!--MD5=[60a26617385b1d2d0262a64233df1f8d]\n",
       "class E6--><a href=\"psysml:09e69c42-70ff-4aed-b93c-c140a8b906a0\" target=\"_top\" title=\"psysml:09e69c42-70ff-4aed-b93c-c140a8b906a0\" xlink:actuate=\"onRequest\" xlink:href=\"psysml:09e69c42-70ff-4aed-b93c-c140a8b906a0\" xlink:show=\"new\" xlink:title=\"psysml:09e69c42-70ff-4aed-b93c-c140a8b906a0\" xlink:type=\"simple\"><rect fill=\"#FFFFFF\" height=\"75.5469\" id=\"E6\" rx=\"10\" ry=\"10\" style=\"stroke: #383838; stroke-width: 1.5;\" width=\"46\" x=\"32\" y=\"47\"/><text fill=\"#000000\" font-family=\"sans-serif\" font-size=\"12\" font-style=\"italic\" lengthAdjust=\"spacingAndGlyphs\" textLength=\"40\" x=\"35\" y=\"63.1387\">«part»</text><text fill=\"#000000\" font-family=\"sans-serif\" font-size=\"12\" lengthAdjust=\"spacingAndGlyphs\" textLength=\"40\" x=\"35\" y=\"77.1074\">p2: P1</text><line style=\"stroke: #383838; stroke-width: 1.5;\" x1=\"33\" x2=\"77\" y1=\"84.9375\" y2=\"84.9375\"/><text fill=\"#000000\" font-family=\"sans-serif\" font-size=\"11\" lengthAdjust=\"spacingAndGlyphs\" textLength=\"32\" x=\"38\" y=\"115.9526\">pdest</text><line style=\"stroke: #383838; stroke-width: 1.0;\" x1=\"33\" x2=\"40\" y1=\"99.3398\" y2=\"99.3398\"/><text fill=\"#000000\" font-family=\"sans-serif\" font-size=\"11\" lengthAdjust=\"spacingAndGlyphs\" textLength=\"30\" x=\"40\" y=\"102.6479\">ports</text><line style=\"stroke: #383838; stroke-width: 1.0;\" x1=\"70\" x2=\"77\" y1=\"99.3398\" y2=\"99.3398\"/></a><!--MD5=[185131fc0dcab0a4505a2ebe144e961b]\n",
       "link E4 to E2--><a href=\"psysml:5073669c-7652-4dd2-8e27-7490931f0c73\" target=\"_top\" title=\"psysml:5073669c-7652-4dd2-8e27-7490931f0c73\" xlink:actuate=\"onRequest\" xlink:href=\"psysml:5073669c-7652-4dd2-8e27-7490931f0c73\" xlink:show=\"new\" xlink:title=\"psysml:5073669c-7652-4dd2-8e27-7490931f0c73\" xlink:type=\"simple\"><path d=\"M144.51,129.15 C140.2,141.99 135.41,156.26 130.86,169.81 \" fill=\"none\" id=\"E4-&gt;E2\" style=\"stroke: #383838; stroke-width: 1.0;\"/><polygon fill=\"#FFFFFF\" points=\"124.45,188.9,123.8495,168.6604,137.1241,173.1086,124.45,188.9\" style=\"stroke: #383838; stroke-width: 1.0;\"/><ellipse cx=\"127.5569\" cy=\"163.8913\" fill=\"#383838\" rx=\"2\" ry=\"2\" style=\"stroke: #383838; stroke-width: 1.0;\"/><ellipse cx=\"137.0388\" cy=\"167.0685\" fill=\"#383838\" rx=\"2\" ry=\"2\" style=\"stroke: #383838; stroke-width: 1.0;\"/></a><!--MD5=[2351f337d6de0f557b50152ba70847b5]\n",
       "link E6 to E2--><a href=\"psysml:94875f8e-b487-466f-9f77-0e1d93a514ac\" target=\"_top\" title=\"psysml:94875f8e-b487-466f-9f77-0e1d93a514ac\" xlink:actuate=\"onRequest\" xlink:href=\"psysml:94875f8e-b487-466f-9f77-0e1d93a514ac\" xlink:show=\"new\" xlink:title=\"psysml:94875f8e-b487-466f-9f77-0e1d93a514ac\" xlink:type=\"simple\"><path d=\"M70.13,123.15 C75.99,137.55 82.83,154.34 89.26,170.14 \" fill=\"none\" id=\"E6-&gt;E2\" style=\"stroke: #383838; stroke-width: 1.0;\"/><polygon fill=\"#FFFFFF\" points=\"96.8,188.68,83.1527,173.7216,96.1195,168.443,96.8,188.68\" style=\"stroke: #383838; stroke-width: 1.0;\"/><ellipse cx=\"82.856\" cy=\"167.6882\" fill=\"#383838\" rx=\"2\" ry=\"2\" style=\"stroke: #383838; stroke-width: 1.0;\"/><ellipse cx=\"92.1179\" cy=\"163.9178\" fill=\"#383838\" rx=\"2\" ry=\"2\" style=\"stroke: #383838; stroke-width: 1.0;\"/></a><!--MD5=[f7c8f4386f986efe6ae0bcb7db2890b5]\n",
       "@startuml\r\n",
       "skinparam monochrome true\r\n",
       "skinparam classbackgroundcolor white\r\n",
       "skinparam shadowing false\r\n",
       "skinparam wrapWidth 300\r\n",
       "hide circle\r\n",
       "\r\n",
       "package \"AliasTest\" as E1  [[psysml:2a952753-6cea-46c9-bb61-930b04eb3411 ]]  {\r\n",
       "comp def \"P1\" as E2  <<(T,blue) part def>> [[psysml:92b6686b-ceec-4d5e-ab27-24733762f61c ]] {\r\n",
       "- - ports - -\r\n",
       "porig1\r\n",
       "}\r\n",
       "comp usage \"p1: P1\" as E4  <<(T,blue) part>> [[psysml:2b3d4312-7497-4457-990a-6ee5375442c5 ]] {\r\n",
       "- - ports - -\r\n",
       "po1\\n//:>>P1::porig1// \r\n",
       "}\r\n",
       "comp usage \"p2: P1\" as E6  <<(T,blue) part>> [[psysml:09e69c42-70ff-4aed-b93c-c140a8b906a0 ]] {\r\n",
       "- - ports - -\r\n",
       "pdest\r\n",
       "}\r\n",
       "E4 - -:|> E2 [[psysml:5073669c-7652-4dd2-8e27-7490931f0c73 ]] \r\n",
       "E6 - -:|> E2 [[psysml:94875f8e-b487-466f-9f77-0e1d93a514ac ]] \r\n",
       "}\r\n",
       "@enduml\r\n",
       "\n",
       "PlantUML version 1.2020.13(Sat Jun 13 12:26:38 UTC 2020)\n",
       "(EPL source distribution)\n",
       "Java Runtime: OpenJDK Runtime Environment\n",
       "JVM: OpenJDK 64-Bit Server VM\n",
       "Default Encoding: UTF-8\n",
       "Language: en\n",
       "Country: null\n",
       "--></g></svg>"
      ]
     },
     "execution_count": 42,
     "metadata": {},
     "output_type": "execute_result"
    }
   ],
   "source": [
    "%viz --style=\"DEFAULT\" --view=\"Sequence\" \"AliasTest\""
   ]
  },
  {
   "cell_type": "code",
   "execution_count": 43,
   "id": "7bd47648",
   "metadata": {
    "execution": {
     "iopub.execute_input": "2021-06-30T09:16:10.368805Z",
     "iopub.status.busy": "2021-06-30T09:16:10.368195Z",
     "iopub.status.idle": "2021-06-30T09:16:10.443895Z",
     "shell.execute_reply": "2021-06-30T09:16:10.442428Z"
    }
   },
   "outputs": [
    {
     "data": {
      "image/svg+xml": [
       "<?xml version=\"1.0\" encoding=\"UTF-8\" standalone=\"no\"?><svg xmlns=\"http://www.w3.org/2000/svg\" xmlns:xlink=\"http://www.w3.org/1999/xlink\" contentScriptType=\"application/ecmascript\" contentStyleType=\"text/css\" height=\"293px\" preserveAspectRatio=\"none\" style=\"width:243px;height:293px;\" version=\"1.1\" viewBox=\"0 0 243 293\" width=\"243px\" zoomAndPan=\"magnify\"><defs/><g><!--MD5=[fbc87193dbaf4d95561dea2c320d4a47]\n",
       "cluster E1--><a href=\"psysml:2a952753-6cea-46c9-bb61-930b04eb3411\" target=\"_top\" title=\"psysml:2a952753-6cea-46c9-bb61-930b04eb3411\" xlink:actuate=\"onRequest\" xlink:href=\"psysml:2a952753-6cea-46c9-bb61-930b04eb3411\" xlink:show=\"new\" xlink:title=\"psysml:2a952753-6cea-46c9-bb61-930b04eb3411\" xlink:type=\"simple\"><polygon fill=\"#FFFFFF\" points=\"16,6,94,6,101,28.2969,221,28.2969,221,281,16,281,16,6\" style=\"stroke: #000000; stroke-width: 1.5;\"/><line style=\"stroke: #000000; stroke-width: 1.5;\" x1=\"16\" x2=\"101\" y1=\"28.2969\" y2=\"28.2969\"/><text fill=\"#000000\" font-family=\"sans-serif\" font-size=\"14\" font-weight=\"bold\" lengthAdjust=\"spacingAndGlyphs\" textLength=\"72\" x=\"20\" y=\"20.9951\">AliasTest</text></a><!--MD5=[b4997ac47864f28c2f74865a473b2911]\n",
       "class E2--><a href=\"psysml:92b6686b-ceec-4d5e-ab27-24733762f61c\" target=\"_top\" title=\"psysml:92b6686b-ceec-4d5e-ab27-24733762f61c\" xlink:actuate=\"onRequest\" xlink:href=\"psysml:92b6686b-ceec-4d5e-ab27-24733762f61c\" xlink:show=\"new\" xlink:title=\"psysml:92b6686b-ceec-4d5e-ab27-24733762f61c\" xlink:type=\"simple\"><rect fill=\"#FFFFFF\" height=\"75.5469\" id=\"E2\" style=\"stroke: #383838; stroke-width: 1.5;\" width=\"66\" x=\"79\" y=\"189\"/><text fill=\"#000000\" font-family=\"sans-serif\" font-size=\"12\" font-style=\"italic\" lengthAdjust=\"spacingAndGlyphs\" textLength=\"64\" x=\"80\" y=\"205.1387\">«part def»</text><text fill=\"#000000\" font-family=\"sans-serif\" font-size=\"12\" lengthAdjust=\"spacingAndGlyphs\" textLength=\"16\" x=\"104\" y=\"219.1074\">P1</text><line style=\"stroke: #383838; stroke-width: 1.5;\" x1=\"80\" x2=\"144\" y1=\"226.9375\" y2=\"226.9375\"/><text fill=\"#000000\" font-family=\"sans-serif\" font-size=\"11\" lengthAdjust=\"spacingAndGlyphs\" textLength=\"36\" x=\"85\" y=\"257.9526\">porig1</text><line style=\"stroke: #383838; stroke-width: 1.0;\" x1=\"80\" x2=\"97\" y1=\"241.3398\" y2=\"241.3398\"/><text fill=\"#000000\" font-family=\"sans-serif\" font-size=\"11\" lengthAdjust=\"spacingAndGlyphs\" textLength=\"30\" x=\"97\" y=\"244.6479\">ports</text><line style=\"stroke: #383838; stroke-width: 1.0;\" x1=\"127\" x2=\"144\" y1=\"241.3398\" y2=\"241.3398\"/></a><!--MD5=[ebbe1d658d1005bcc118a6aa81145e00]\n",
       "class E4--><a href=\"psysml:2b3d4312-7497-4457-990a-6ee5375442c5\" target=\"_top\" title=\"psysml:2b3d4312-7497-4457-990a-6ee5375442c5\" xlink:actuate=\"onRequest\" xlink:href=\"psysml:2b3d4312-7497-4457-990a-6ee5375442c5\" xlink:show=\"new\" xlink:title=\"psysml:2b3d4312-7497-4457-990a-6ee5375442c5\" xlink:type=\"simple\"><rect fill=\"#FFFFFF\" height=\"88.3516\" id=\"E4\" rx=\"10\" ry=\"10\" style=\"stroke: #383838; stroke-width: 1.5;\" width=\"92\" x=\"113\" y=\"41\"/><text fill=\"#000000\" font-family=\"sans-serif\" font-size=\"12\" font-style=\"italic\" lengthAdjust=\"spacingAndGlyphs\" textLength=\"40\" x=\"139\" y=\"57.1387\">«part»</text><text fill=\"#000000\" font-family=\"sans-serif\" font-size=\"12\" lengthAdjust=\"spacingAndGlyphs\" textLength=\"40\" x=\"139\" y=\"71.1074\">p1: P1</text><line style=\"stroke: #383838; stroke-width: 1.5;\" x1=\"114\" x2=\"204\" y1=\"78.9375\" y2=\"78.9375\"/><text fill=\"#000000\" font-family=\"sans-serif\" font-size=\"11\" lengthAdjust=\"spacingAndGlyphs\" textLength=\"21\" x=\"119\" y=\"109.9526\">po1</text><text fill=\"#000000\" font-family=\"sans-serif\" font-size=\"11\" font-style=\"italic\" lengthAdjust=\"spacingAndGlyphs\" textLength=\"80\" x=\"119\" y=\"122.7573\">:&gt;&gt;P1::porig1</text><line style=\"stroke: #383838; stroke-width: 1.0;\" x1=\"114\" x2=\"144\" y1=\"93.3398\" y2=\"93.3398\"/><text fill=\"#000000\" font-family=\"sans-serif\" font-size=\"11\" lengthAdjust=\"spacingAndGlyphs\" textLength=\"30\" x=\"144\" y=\"96.6479\">ports</text><line style=\"stroke: #383838; stroke-width: 1.0;\" x1=\"174\" x2=\"204\" y1=\"93.3398\" y2=\"93.3398\"/></a><!--MD5=[60a26617385b1d2d0262a64233df1f8d]\n",
       "class E6--><a href=\"psysml:09e69c42-70ff-4aed-b93c-c140a8b906a0\" target=\"_top\" title=\"psysml:09e69c42-70ff-4aed-b93c-c140a8b906a0\" xlink:actuate=\"onRequest\" xlink:href=\"psysml:09e69c42-70ff-4aed-b93c-c140a8b906a0\" xlink:show=\"new\" xlink:title=\"psysml:09e69c42-70ff-4aed-b93c-c140a8b906a0\" xlink:type=\"simple\"><rect fill=\"#FFFFFF\" height=\"75.5469\" id=\"E6\" rx=\"10\" ry=\"10\" style=\"stroke: #383838; stroke-width: 1.5;\" width=\"46\" x=\"32\" y=\"47\"/><text fill=\"#000000\" font-family=\"sans-serif\" font-size=\"12\" font-style=\"italic\" lengthAdjust=\"spacingAndGlyphs\" textLength=\"40\" x=\"35\" y=\"63.1387\">«part»</text><text fill=\"#000000\" font-family=\"sans-serif\" font-size=\"12\" lengthAdjust=\"spacingAndGlyphs\" textLength=\"40\" x=\"35\" y=\"77.1074\">p2: P1</text><line style=\"stroke: #383838; stroke-width: 1.5;\" x1=\"33\" x2=\"77\" y1=\"84.9375\" y2=\"84.9375\"/><text fill=\"#000000\" font-family=\"sans-serif\" font-size=\"11\" lengthAdjust=\"spacingAndGlyphs\" textLength=\"32\" x=\"38\" y=\"115.9526\">pdest</text><line style=\"stroke: #383838; stroke-width: 1.0;\" x1=\"33\" x2=\"40\" y1=\"99.3398\" y2=\"99.3398\"/><text fill=\"#000000\" font-family=\"sans-serif\" font-size=\"11\" lengthAdjust=\"spacingAndGlyphs\" textLength=\"30\" x=\"40\" y=\"102.6479\">ports</text><line style=\"stroke: #383838; stroke-width: 1.0;\" x1=\"70\" x2=\"77\" y1=\"99.3398\" y2=\"99.3398\"/></a><!--MD5=[185131fc0dcab0a4505a2ebe144e961b]\n",
       "link E4 to E2--><a href=\"psysml:5073669c-7652-4dd2-8e27-7490931f0c73\" target=\"_top\" title=\"psysml:5073669c-7652-4dd2-8e27-7490931f0c73\" xlink:actuate=\"onRequest\" xlink:href=\"psysml:5073669c-7652-4dd2-8e27-7490931f0c73\" xlink:show=\"new\" xlink:title=\"psysml:5073669c-7652-4dd2-8e27-7490931f0c73\" xlink:type=\"simple\"><path d=\"M144.51,129.15 C140.2,141.99 135.41,156.26 130.86,169.81 \" fill=\"none\" id=\"E4-&gt;E2\" style=\"stroke: #383838; stroke-width: 1.0;\"/><polygon fill=\"#FFFFFF\" points=\"124.45,188.9,123.8495,168.6604,137.1241,173.1086,124.45,188.9\" style=\"stroke: #383838; stroke-width: 1.0;\"/><ellipse cx=\"127.5569\" cy=\"163.8913\" fill=\"#383838\" rx=\"2\" ry=\"2\" style=\"stroke: #383838; stroke-width: 1.0;\"/><ellipse cx=\"137.0388\" cy=\"167.0685\" fill=\"#383838\" rx=\"2\" ry=\"2\" style=\"stroke: #383838; stroke-width: 1.0;\"/></a><!--MD5=[2351f337d6de0f557b50152ba70847b5]\n",
       "link E6 to E2--><a href=\"psysml:94875f8e-b487-466f-9f77-0e1d93a514ac\" target=\"_top\" title=\"psysml:94875f8e-b487-466f-9f77-0e1d93a514ac\" xlink:actuate=\"onRequest\" xlink:href=\"psysml:94875f8e-b487-466f-9f77-0e1d93a514ac\" xlink:show=\"new\" xlink:title=\"psysml:94875f8e-b487-466f-9f77-0e1d93a514ac\" xlink:type=\"simple\"><path d=\"M70.13,123.15 C75.99,137.55 82.83,154.34 89.26,170.14 \" fill=\"none\" id=\"E6-&gt;E2\" style=\"stroke: #383838; stroke-width: 1.0;\"/><polygon fill=\"#FFFFFF\" points=\"96.8,188.68,83.1527,173.7216,96.1195,168.443,96.8,188.68\" style=\"stroke: #383838; stroke-width: 1.0;\"/><ellipse cx=\"82.856\" cy=\"167.6882\" fill=\"#383838\" rx=\"2\" ry=\"2\" style=\"stroke: #383838; stroke-width: 1.0;\"/><ellipse cx=\"92.1179\" cy=\"163.9178\" fill=\"#383838\" rx=\"2\" ry=\"2\" style=\"stroke: #383838; stroke-width: 1.0;\"/></a><!--MD5=[f7c8f4386f986efe6ae0bcb7db2890b5]\n",
       "@startuml\r\n",
       "skinparam monochrome true\r\n",
       "skinparam classbackgroundcolor white\r\n",
       "skinparam shadowing false\r\n",
       "skinparam wrapWidth 300\r\n",
       "hide circle\r\n",
       "\r\n",
       "package \"AliasTest\" as E1  [[psysml:2a952753-6cea-46c9-bb61-930b04eb3411 ]]  {\r\n",
       "comp def \"P1\" as E2  <<(T,blue) part def>> [[psysml:92b6686b-ceec-4d5e-ab27-24733762f61c ]] {\r\n",
       "- - ports - -\r\n",
       "porig1\r\n",
       "}\r\n",
       "comp usage \"p1: P1\" as E4  <<(T,blue) part>> [[psysml:2b3d4312-7497-4457-990a-6ee5375442c5 ]] {\r\n",
       "- - ports - -\r\n",
       "po1\\n//:>>P1::porig1// \r\n",
       "}\r\n",
       "comp usage \"p2: P1\" as E6  <<(T,blue) part>> [[psysml:09e69c42-70ff-4aed-b93c-c140a8b906a0 ]] {\r\n",
       "- - ports - -\r\n",
       "pdest\r\n",
       "}\r\n",
       "E4 - -:|> E2 [[psysml:5073669c-7652-4dd2-8e27-7490931f0c73 ]] \r\n",
       "E6 - -:|> E2 [[psysml:94875f8e-b487-466f-9f77-0e1d93a514ac ]] \r\n",
       "}\r\n",
       "@enduml\r\n",
       "\n",
       "PlantUML version 1.2020.13(Sat Jun 13 12:26:38 UTC 2020)\n",
       "(EPL source distribution)\n",
       "Java Runtime: OpenJDK Runtime Environment\n",
       "JVM: OpenJDK 64-Bit Server VM\n",
       "Default Encoding: UTF-8\n",
       "Language: en\n",
       "Country: null\n",
       "--></g></svg>"
      ]
     },
     "execution_count": 43,
     "metadata": {},
     "output_type": "execute_result"
    }
   ],
   "source": [
    "%viz --style=\"DEFAULT\" --view=\"MIXED\" \"AliasTest\""
   ]
  },
  {
   "cell_type": "code",
   "execution_count": 44,
   "id": "cf79b538",
   "metadata": {
    "execution": {
     "iopub.execute_input": "2021-06-30T09:16:10.495624Z",
     "iopub.status.busy": "2021-06-30T09:16:10.494181Z",
     "iopub.status.idle": "2021-06-30T09:16:10.574914Z",
     "shell.execute_reply": "2021-06-30T09:16:10.573493Z"
    }
   },
   "outputs": [
    {
     "data": {
      "image/svg+xml": [
       "<?xml version=\"1.0\" encoding=\"UTF-8\" standalone=\"no\"?><svg xmlns=\"http://www.w3.org/2000/svg\" xmlns:xlink=\"http://www.w3.org/1999/xlink\" contentScriptType=\"application/ecmascript\" contentStyleType=\"text/css\" height=\"293px\" preserveAspectRatio=\"none\" style=\"width:243px;height:293px;\" version=\"1.1\" viewBox=\"0 0 243 293\" width=\"243px\" zoomAndPan=\"magnify\"><defs/><g><!--MD5=[fbc87193dbaf4d95561dea2c320d4a47]\n",
       "cluster E1--><a href=\"psysml:2a952753-6cea-46c9-bb61-930b04eb3411\" target=\"_top\" title=\"psysml:2a952753-6cea-46c9-bb61-930b04eb3411\" xlink:actuate=\"onRequest\" xlink:href=\"psysml:2a952753-6cea-46c9-bb61-930b04eb3411\" xlink:show=\"new\" xlink:title=\"psysml:2a952753-6cea-46c9-bb61-930b04eb3411\" xlink:type=\"simple\"><polygon fill=\"#FFFFFF\" points=\"16,6,94,6,101,28.2969,221,28.2969,221,281,16,281,16,6\" style=\"stroke: #000000; stroke-width: 1.5;\"/><line style=\"stroke: #000000; stroke-width: 1.5;\" x1=\"16\" x2=\"101\" y1=\"28.2969\" y2=\"28.2969\"/><text fill=\"#000000\" font-family=\"sans-serif\" font-size=\"14\" font-weight=\"bold\" lengthAdjust=\"spacingAndGlyphs\" textLength=\"72\" x=\"20\" y=\"20.9951\">AliasTest</text></a><!--MD5=[b4997ac47864f28c2f74865a473b2911]\n",
       "class E2--><a href=\"psysml:92b6686b-ceec-4d5e-ab27-24733762f61c\" target=\"_top\" title=\"psysml:92b6686b-ceec-4d5e-ab27-24733762f61c\" xlink:actuate=\"onRequest\" xlink:href=\"psysml:92b6686b-ceec-4d5e-ab27-24733762f61c\" xlink:show=\"new\" xlink:title=\"psysml:92b6686b-ceec-4d5e-ab27-24733762f61c\" xlink:type=\"simple\"><rect fill=\"#FFFFFF\" height=\"75.5469\" id=\"E2\" style=\"stroke: #383838; stroke-width: 1.5;\" width=\"66\" x=\"79\" y=\"189\"/><text fill=\"#000000\" font-family=\"sans-serif\" font-size=\"12\" font-style=\"italic\" lengthAdjust=\"spacingAndGlyphs\" textLength=\"64\" x=\"80\" y=\"205.1387\">«part def»</text><text fill=\"#000000\" font-family=\"sans-serif\" font-size=\"12\" lengthAdjust=\"spacingAndGlyphs\" textLength=\"16\" x=\"104\" y=\"219.1074\">P1</text><line style=\"stroke: #383838; stroke-width: 1.5;\" x1=\"80\" x2=\"144\" y1=\"226.9375\" y2=\"226.9375\"/><text fill=\"#000000\" font-family=\"sans-serif\" font-size=\"11\" lengthAdjust=\"spacingAndGlyphs\" textLength=\"36\" x=\"85\" y=\"257.9526\">porig1</text><line style=\"stroke: #383838; stroke-width: 1.0;\" x1=\"80\" x2=\"97\" y1=\"241.3398\" y2=\"241.3398\"/><text fill=\"#000000\" font-family=\"sans-serif\" font-size=\"11\" lengthAdjust=\"spacingAndGlyphs\" textLength=\"30\" x=\"97\" y=\"244.6479\">ports</text><line style=\"stroke: #383838; stroke-width: 1.0;\" x1=\"127\" x2=\"144\" y1=\"241.3398\" y2=\"241.3398\"/></a><!--MD5=[ebbe1d658d1005bcc118a6aa81145e00]\n",
       "class E4--><a href=\"psysml:2b3d4312-7497-4457-990a-6ee5375442c5\" target=\"_top\" title=\"psysml:2b3d4312-7497-4457-990a-6ee5375442c5\" xlink:actuate=\"onRequest\" xlink:href=\"psysml:2b3d4312-7497-4457-990a-6ee5375442c5\" xlink:show=\"new\" xlink:title=\"psysml:2b3d4312-7497-4457-990a-6ee5375442c5\" xlink:type=\"simple\"><rect fill=\"#FFFFFF\" height=\"88.3516\" id=\"E4\" rx=\"10\" ry=\"10\" style=\"stroke: #383838; stroke-width: 1.5;\" width=\"92\" x=\"113\" y=\"41\"/><text fill=\"#000000\" font-family=\"sans-serif\" font-size=\"12\" font-style=\"italic\" lengthAdjust=\"spacingAndGlyphs\" textLength=\"40\" x=\"139\" y=\"57.1387\">«part»</text><text fill=\"#000000\" font-family=\"sans-serif\" font-size=\"12\" lengthAdjust=\"spacingAndGlyphs\" textLength=\"40\" x=\"139\" y=\"71.1074\">p1: P1</text><line style=\"stroke: #383838; stroke-width: 1.5;\" x1=\"114\" x2=\"204\" y1=\"78.9375\" y2=\"78.9375\"/><text fill=\"#000000\" font-family=\"sans-serif\" font-size=\"11\" lengthAdjust=\"spacingAndGlyphs\" textLength=\"21\" x=\"119\" y=\"109.9526\">po1</text><text fill=\"#000000\" font-family=\"sans-serif\" font-size=\"11\" font-style=\"italic\" lengthAdjust=\"spacingAndGlyphs\" textLength=\"80\" x=\"119\" y=\"122.7573\">:&gt;&gt;P1::porig1</text><line style=\"stroke: #383838; stroke-width: 1.0;\" x1=\"114\" x2=\"144\" y1=\"93.3398\" y2=\"93.3398\"/><text fill=\"#000000\" font-family=\"sans-serif\" font-size=\"11\" lengthAdjust=\"spacingAndGlyphs\" textLength=\"30\" x=\"144\" y=\"96.6479\">ports</text><line style=\"stroke: #383838; stroke-width: 1.0;\" x1=\"174\" x2=\"204\" y1=\"93.3398\" y2=\"93.3398\"/></a><!--MD5=[60a26617385b1d2d0262a64233df1f8d]\n",
       "class E6--><a href=\"psysml:09e69c42-70ff-4aed-b93c-c140a8b906a0\" target=\"_top\" title=\"psysml:09e69c42-70ff-4aed-b93c-c140a8b906a0\" xlink:actuate=\"onRequest\" xlink:href=\"psysml:09e69c42-70ff-4aed-b93c-c140a8b906a0\" xlink:show=\"new\" xlink:title=\"psysml:09e69c42-70ff-4aed-b93c-c140a8b906a0\" xlink:type=\"simple\"><rect fill=\"#FFFFFF\" height=\"75.5469\" id=\"E6\" rx=\"10\" ry=\"10\" style=\"stroke: #383838; stroke-width: 1.5;\" width=\"46\" x=\"32\" y=\"47\"/><text fill=\"#000000\" font-family=\"sans-serif\" font-size=\"12\" font-style=\"italic\" lengthAdjust=\"spacingAndGlyphs\" textLength=\"40\" x=\"35\" y=\"63.1387\">«part»</text><text fill=\"#000000\" font-family=\"sans-serif\" font-size=\"12\" lengthAdjust=\"spacingAndGlyphs\" textLength=\"40\" x=\"35\" y=\"77.1074\">p2: P1</text><line style=\"stroke: #383838; stroke-width: 1.5;\" x1=\"33\" x2=\"77\" y1=\"84.9375\" y2=\"84.9375\"/><text fill=\"#000000\" font-family=\"sans-serif\" font-size=\"11\" lengthAdjust=\"spacingAndGlyphs\" textLength=\"32\" x=\"38\" y=\"115.9526\">pdest</text><line style=\"stroke: #383838; stroke-width: 1.0;\" x1=\"33\" x2=\"40\" y1=\"99.3398\" y2=\"99.3398\"/><text fill=\"#000000\" font-family=\"sans-serif\" font-size=\"11\" lengthAdjust=\"spacingAndGlyphs\" textLength=\"30\" x=\"40\" y=\"102.6479\">ports</text><line style=\"stroke: #383838; stroke-width: 1.0;\" x1=\"70\" x2=\"77\" y1=\"99.3398\" y2=\"99.3398\"/></a><!--MD5=[185131fc0dcab0a4505a2ebe144e961b]\n",
       "link E4 to E2--><a href=\"psysml:5073669c-7652-4dd2-8e27-7490931f0c73\" target=\"_top\" title=\"psysml:5073669c-7652-4dd2-8e27-7490931f0c73\" xlink:actuate=\"onRequest\" xlink:href=\"psysml:5073669c-7652-4dd2-8e27-7490931f0c73\" xlink:show=\"new\" xlink:title=\"psysml:5073669c-7652-4dd2-8e27-7490931f0c73\" xlink:type=\"simple\"><path d=\"M144.51,129.15 C140.2,141.99 135.41,156.26 130.86,169.81 \" fill=\"none\" id=\"E4-&gt;E2\" style=\"stroke: #383838; stroke-width: 1.0;\"/><polygon fill=\"#FFFFFF\" points=\"124.45,188.9,123.8495,168.6604,137.1241,173.1086,124.45,188.9\" style=\"stroke: #383838; stroke-width: 1.0;\"/><ellipse cx=\"127.5569\" cy=\"163.8913\" fill=\"#383838\" rx=\"2\" ry=\"2\" style=\"stroke: #383838; stroke-width: 1.0;\"/><ellipse cx=\"137.0388\" cy=\"167.0685\" fill=\"#383838\" rx=\"2\" ry=\"2\" style=\"stroke: #383838; stroke-width: 1.0;\"/></a><!--MD5=[2351f337d6de0f557b50152ba70847b5]\n",
       "link E6 to E2--><a href=\"psysml:94875f8e-b487-466f-9f77-0e1d93a514ac\" target=\"_top\" title=\"psysml:94875f8e-b487-466f-9f77-0e1d93a514ac\" xlink:actuate=\"onRequest\" xlink:href=\"psysml:94875f8e-b487-466f-9f77-0e1d93a514ac\" xlink:show=\"new\" xlink:title=\"psysml:94875f8e-b487-466f-9f77-0e1d93a514ac\" xlink:type=\"simple\"><path d=\"M70.13,123.15 C75.99,137.55 82.83,154.34 89.26,170.14 \" fill=\"none\" id=\"E6-&gt;E2\" style=\"stroke: #383838; stroke-width: 1.0;\"/><polygon fill=\"#FFFFFF\" points=\"96.8,188.68,83.1527,173.7216,96.1195,168.443,96.8,188.68\" style=\"stroke: #383838; stroke-width: 1.0;\"/><ellipse cx=\"82.856\" cy=\"167.6882\" fill=\"#383838\" rx=\"2\" ry=\"2\" style=\"stroke: #383838; stroke-width: 1.0;\"/><ellipse cx=\"92.1179\" cy=\"163.9178\" fill=\"#383838\" rx=\"2\" ry=\"2\" style=\"stroke: #383838; stroke-width: 1.0;\"/></a><!--MD5=[f867e9240959a4babaa326542c6c3f09]\n",
       "@startuml\r\n",
       "top to bottom direction\r\n",
       "skinparam monochrome true\r\n",
       "skinparam classbackgroundcolor white\r\n",
       "skinparam shadowing false\r\n",
       "skinparam wrapWidth 300\r\n",
       "hide circle\r\n",
       "\r\n",
       "package \"AliasTest\" as E1  [[psysml:2a952753-6cea-46c9-bb61-930b04eb3411 ]]  {\r\n",
       "comp def \"P1\" as E2  <<(T,blue) part def>> [[psysml:92b6686b-ceec-4d5e-ab27-24733762f61c ]] {\r\n",
       "- - ports - -\r\n",
       "porig1\r\n",
       "}\r\n",
       "comp usage \"p1: P1\" as E4  <<(T,blue) part>> [[psysml:2b3d4312-7497-4457-990a-6ee5375442c5 ]] {\r\n",
       "- - ports - -\r\n",
       "po1\\n//:>>P1::porig1// \r\n",
       "}\r\n",
       "comp usage \"p2: P1\" as E6  <<(T,blue) part>> [[psysml:09e69c42-70ff-4aed-b93c-c140a8b906a0 ]] {\r\n",
       "- - ports - -\r\n",
       "pdest\r\n",
       "}\r\n",
       "E4 - -:|> E2 [[psysml:5073669c-7652-4dd2-8e27-7490931f0c73 ]] \r\n",
       "E6 - -:|> E2 [[psysml:94875f8e-b487-466f-9f77-0e1d93a514ac ]] \r\n",
       "}\r\n",
       "@enduml\r\n",
       "\n",
       "PlantUML version 1.2020.13(Sat Jun 13 12:26:38 UTC 2020)\n",
       "(EPL source distribution)\n",
       "Java Runtime: OpenJDK Runtime Environment\n",
       "JVM: OpenJDK 64-Bit Server VM\n",
       "Default Encoding: UTF-8\n",
       "Language: en\n",
       "Country: null\n",
       "--></g></svg>"
      ]
     },
     "execution_count": 44,
     "metadata": {},
     "output_type": "execute_result"
    }
   ],
   "source": [
    "%viz --style=\"TB\" --view=\"Default\" \"AliasTest\""
   ]
  },
  {
   "cell_type": "code",
   "execution_count": 45,
   "id": "df0bf311",
   "metadata": {
    "execution": {
     "iopub.execute_input": "2021-06-30T09:16:10.626837Z",
     "iopub.status.busy": "2021-06-30T09:16:10.626358Z",
     "iopub.status.idle": "2021-06-30T09:16:10.696100Z",
     "shell.execute_reply": "2021-06-30T09:16:10.694489Z"
    }
   },
   "outputs": [
    {
     "data": {
      "image/svg+xml": [
       "<?xml version=\"1.0\" encoding=\"UTF-8\" standalone=\"no\"?><svg xmlns=\"http://www.w3.org/2000/svg\" xmlns:xlink=\"http://www.w3.org/1999/xlink\" contentScriptType=\"application/ecmascript\" contentStyleType=\"text/css\" height=\"293px\" preserveAspectRatio=\"none\" style=\"width:243px;height:293px;\" version=\"1.1\" viewBox=\"0 0 243 293\" width=\"243px\" zoomAndPan=\"magnify\"><defs/><g><!--MD5=[fbc87193dbaf4d95561dea2c320d4a47]\n",
       "cluster E1--><a href=\"psysml:2a952753-6cea-46c9-bb61-930b04eb3411\" target=\"_top\" title=\"psysml:2a952753-6cea-46c9-bb61-930b04eb3411\" xlink:actuate=\"onRequest\" xlink:href=\"psysml:2a952753-6cea-46c9-bb61-930b04eb3411\" xlink:show=\"new\" xlink:title=\"psysml:2a952753-6cea-46c9-bb61-930b04eb3411\" xlink:type=\"simple\"><polygon fill=\"#FFFFFF\" points=\"16,6,94,6,101,28.2969,221,28.2969,221,281,16,281,16,6\" style=\"stroke: #000000; stroke-width: 1.5;\"/><line style=\"stroke: #000000; stroke-width: 1.5;\" x1=\"16\" x2=\"101\" y1=\"28.2969\" y2=\"28.2969\"/><text fill=\"#000000\" font-family=\"sans-serif\" font-size=\"14\" font-weight=\"bold\" lengthAdjust=\"spacingAndGlyphs\" textLength=\"72\" x=\"20\" y=\"20.9951\">AliasTest</text></a><!--MD5=[b4997ac47864f28c2f74865a473b2911]\n",
       "class E2--><a href=\"psysml:92b6686b-ceec-4d5e-ab27-24733762f61c\" target=\"_top\" title=\"psysml:92b6686b-ceec-4d5e-ab27-24733762f61c\" xlink:actuate=\"onRequest\" xlink:href=\"psysml:92b6686b-ceec-4d5e-ab27-24733762f61c\" xlink:show=\"new\" xlink:title=\"psysml:92b6686b-ceec-4d5e-ab27-24733762f61c\" xlink:type=\"simple\"><rect fill=\"#FFFFFF\" height=\"75.5469\" id=\"E2\" style=\"stroke: #383838; stroke-width: 1.5;\" width=\"66\" x=\"79\" y=\"189\"/><text fill=\"#000000\" font-family=\"sans-serif\" font-size=\"12\" font-style=\"italic\" lengthAdjust=\"spacingAndGlyphs\" textLength=\"64\" x=\"80\" y=\"205.1387\">«part def»</text><text fill=\"#000000\" font-family=\"sans-serif\" font-size=\"12\" lengthAdjust=\"spacingAndGlyphs\" textLength=\"16\" x=\"104\" y=\"219.1074\">P1</text><line style=\"stroke: #383838; stroke-width: 1.5;\" x1=\"80\" x2=\"144\" y1=\"226.9375\" y2=\"226.9375\"/><text fill=\"#000000\" font-family=\"sans-serif\" font-size=\"11\" lengthAdjust=\"spacingAndGlyphs\" textLength=\"36\" x=\"85\" y=\"257.9526\">porig1</text><line style=\"stroke: #383838; stroke-width: 1.0;\" x1=\"80\" x2=\"97\" y1=\"241.3398\" y2=\"241.3398\"/><text fill=\"#000000\" font-family=\"sans-serif\" font-size=\"11\" lengthAdjust=\"spacingAndGlyphs\" textLength=\"30\" x=\"97\" y=\"244.6479\">ports</text><line style=\"stroke: #383838; stroke-width: 1.0;\" x1=\"127\" x2=\"144\" y1=\"241.3398\" y2=\"241.3398\"/></a><!--MD5=[ebbe1d658d1005bcc118a6aa81145e00]\n",
       "class E4--><a href=\"psysml:2b3d4312-7497-4457-990a-6ee5375442c5\" target=\"_top\" title=\"psysml:2b3d4312-7497-4457-990a-6ee5375442c5\" xlink:actuate=\"onRequest\" xlink:href=\"psysml:2b3d4312-7497-4457-990a-6ee5375442c5\" xlink:show=\"new\" xlink:title=\"psysml:2b3d4312-7497-4457-990a-6ee5375442c5\" xlink:type=\"simple\"><rect fill=\"#FFFFFF\" height=\"88.3516\" id=\"E4\" rx=\"10\" ry=\"10\" style=\"stroke: #383838; stroke-width: 1.5;\" width=\"92\" x=\"113\" y=\"41\"/><text fill=\"#000000\" font-family=\"sans-serif\" font-size=\"12\" font-style=\"italic\" lengthAdjust=\"spacingAndGlyphs\" textLength=\"40\" x=\"139\" y=\"57.1387\">«part»</text><text fill=\"#000000\" font-family=\"sans-serif\" font-size=\"12\" lengthAdjust=\"spacingAndGlyphs\" textLength=\"40\" x=\"139\" y=\"71.1074\">p1: P1</text><line style=\"stroke: #383838; stroke-width: 1.5;\" x1=\"114\" x2=\"204\" y1=\"78.9375\" y2=\"78.9375\"/><text fill=\"#000000\" font-family=\"sans-serif\" font-size=\"11\" lengthAdjust=\"spacingAndGlyphs\" textLength=\"21\" x=\"119\" y=\"109.9526\">po1</text><text fill=\"#000000\" font-family=\"sans-serif\" font-size=\"11\" font-style=\"italic\" lengthAdjust=\"spacingAndGlyphs\" textLength=\"80\" x=\"119\" y=\"122.7573\">:&gt;&gt;P1::porig1</text><line style=\"stroke: #383838; stroke-width: 1.0;\" x1=\"114\" x2=\"144\" y1=\"93.3398\" y2=\"93.3398\"/><text fill=\"#000000\" font-family=\"sans-serif\" font-size=\"11\" lengthAdjust=\"spacingAndGlyphs\" textLength=\"30\" x=\"144\" y=\"96.6479\">ports</text><line style=\"stroke: #383838; stroke-width: 1.0;\" x1=\"174\" x2=\"204\" y1=\"93.3398\" y2=\"93.3398\"/></a><!--MD5=[60a26617385b1d2d0262a64233df1f8d]\n",
       "class E6--><a href=\"psysml:09e69c42-70ff-4aed-b93c-c140a8b906a0\" target=\"_top\" title=\"psysml:09e69c42-70ff-4aed-b93c-c140a8b906a0\" xlink:actuate=\"onRequest\" xlink:href=\"psysml:09e69c42-70ff-4aed-b93c-c140a8b906a0\" xlink:show=\"new\" xlink:title=\"psysml:09e69c42-70ff-4aed-b93c-c140a8b906a0\" xlink:type=\"simple\"><rect fill=\"#FFFFFF\" height=\"75.5469\" id=\"E6\" rx=\"10\" ry=\"10\" style=\"stroke: #383838; stroke-width: 1.5;\" width=\"46\" x=\"32\" y=\"47\"/><text fill=\"#000000\" font-family=\"sans-serif\" font-size=\"12\" font-style=\"italic\" lengthAdjust=\"spacingAndGlyphs\" textLength=\"40\" x=\"35\" y=\"63.1387\">«part»</text><text fill=\"#000000\" font-family=\"sans-serif\" font-size=\"12\" lengthAdjust=\"spacingAndGlyphs\" textLength=\"40\" x=\"35\" y=\"77.1074\">p2: P1</text><line style=\"stroke: #383838; stroke-width: 1.5;\" x1=\"33\" x2=\"77\" y1=\"84.9375\" y2=\"84.9375\"/><text fill=\"#000000\" font-family=\"sans-serif\" font-size=\"11\" lengthAdjust=\"spacingAndGlyphs\" textLength=\"32\" x=\"38\" y=\"115.9526\">pdest</text><line style=\"stroke: #383838; stroke-width: 1.0;\" x1=\"33\" x2=\"40\" y1=\"99.3398\" y2=\"99.3398\"/><text fill=\"#000000\" font-family=\"sans-serif\" font-size=\"11\" lengthAdjust=\"spacingAndGlyphs\" textLength=\"30\" x=\"40\" y=\"102.6479\">ports</text><line style=\"stroke: #383838; stroke-width: 1.0;\" x1=\"70\" x2=\"77\" y1=\"99.3398\" y2=\"99.3398\"/></a><!--MD5=[185131fc0dcab0a4505a2ebe144e961b]\n",
       "link E4 to E2--><a href=\"psysml:5073669c-7652-4dd2-8e27-7490931f0c73\" target=\"_top\" title=\"psysml:5073669c-7652-4dd2-8e27-7490931f0c73\" xlink:actuate=\"onRequest\" xlink:href=\"psysml:5073669c-7652-4dd2-8e27-7490931f0c73\" xlink:show=\"new\" xlink:title=\"psysml:5073669c-7652-4dd2-8e27-7490931f0c73\" xlink:type=\"simple\"><path d=\"M144.51,129.15 C140.2,141.99 135.41,156.26 130.86,169.81 \" fill=\"none\" id=\"E4-&gt;E2\" style=\"stroke: #383838; stroke-width: 1.0;\"/><polygon fill=\"#FFFFFF\" points=\"124.45,188.9,123.8495,168.6604,137.1241,173.1086,124.45,188.9\" style=\"stroke: #383838; stroke-width: 1.0;\"/><ellipse cx=\"127.5569\" cy=\"163.8913\" fill=\"#383838\" rx=\"2\" ry=\"2\" style=\"stroke: #383838; stroke-width: 1.0;\"/><ellipse cx=\"137.0388\" cy=\"167.0685\" fill=\"#383838\" rx=\"2\" ry=\"2\" style=\"stroke: #383838; stroke-width: 1.0;\"/></a><!--MD5=[2351f337d6de0f557b50152ba70847b5]\n",
       "link E6 to E2--><a href=\"psysml:94875f8e-b487-466f-9f77-0e1d93a514ac\" target=\"_top\" title=\"psysml:94875f8e-b487-466f-9f77-0e1d93a514ac\" xlink:actuate=\"onRequest\" xlink:href=\"psysml:94875f8e-b487-466f-9f77-0e1d93a514ac\" xlink:show=\"new\" xlink:title=\"psysml:94875f8e-b487-466f-9f77-0e1d93a514ac\" xlink:type=\"simple\"><path d=\"M70.13,123.15 C75.99,137.55 82.83,154.34 89.26,170.14 \" fill=\"none\" id=\"E6-&gt;E2\" style=\"stroke: #383838; stroke-width: 1.0;\"/><polygon fill=\"#FFFFFF\" points=\"96.8,188.68,83.1527,173.7216,96.1195,168.443,96.8,188.68\" style=\"stroke: #383838; stroke-width: 1.0;\"/><ellipse cx=\"82.856\" cy=\"167.6882\" fill=\"#383838\" rx=\"2\" ry=\"2\" style=\"stroke: #383838; stroke-width: 1.0;\"/><ellipse cx=\"92.1179\" cy=\"163.9178\" fill=\"#383838\" rx=\"2\" ry=\"2\" style=\"stroke: #383838; stroke-width: 1.0;\"/></a><!--MD5=[f867e9240959a4babaa326542c6c3f09]\n",
       "@startuml\r\n",
       "top to bottom direction\r\n",
       "skinparam monochrome true\r\n",
       "skinparam classbackgroundcolor white\r\n",
       "skinparam shadowing false\r\n",
       "skinparam wrapWidth 300\r\n",
       "hide circle\r\n",
       "\r\n",
       "package \"AliasTest\" as E1  [[psysml:2a952753-6cea-46c9-bb61-930b04eb3411 ]]  {\r\n",
       "comp def \"P1\" as E2  <<(T,blue) part def>> [[psysml:92b6686b-ceec-4d5e-ab27-24733762f61c ]] {\r\n",
       "- - ports - -\r\n",
       "porig1\r\n",
       "}\r\n",
       "comp usage \"p1: P1\" as E4  <<(T,blue) part>> [[psysml:2b3d4312-7497-4457-990a-6ee5375442c5 ]] {\r\n",
       "- - ports - -\r\n",
       "po1\\n//:>>P1::porig1// \r\n",
       "}\r\n",
       "comp usage \"p2: P1\" as E6  <<(T,blue) part>> [[psysml:09e69c42-70ff-4aed-b93c-c140a8b906a0 ]] {\r\n",
       "- - ports - -\r\n",
       "pdest\r\n",
       "}\r\n",
       "E4 - -:|> E2 [[psysml:5073669c-7652-4dd2-8e27-7490931f0c73 ]] \r\n",
       "E6 - -:|> E2 [[psysml:94875f8e-b487-466f-9f77-0e1d93a514ac ]] \r\n",
       "}\r\n",
       "@enduml\r\n",
       "\n",
       "PlantUML version 1.2020.13(Sat Jun 13 12:26:38 UTC 2020)\n",
       "(EPL source distribution)\n",
       "Java Runtime: OpenJDK Runtime Environment\n",
       "JVM: OpenJDK 64-Bit Server VM\n",
       "Default Encoding: UTF-8\n",
       "Language: en\n",
       "Country: null\n",
       "--></g></svg>"
      ]
     },
     "execution_count": 45,
     "metadata": {},
     "output_type": "execute_result"
    }
   ],
   "source": [
    "%viz --style=\"TB\" --view=\"Tree\" \"AliasTest\""
   ]
  },
  {
   "cell_type": "code",
   "execution_count": 46,
   "id": "22639826",
   "metadata": {
    "execution": {
     "iopub.execute_input": "2021-06-30T09:16:10.745664Z",
     "iopub.status.busy": "2021-06-30T09:16:10.745263Z",
     "iopub.status.idle": "2021-06-30T09:16:10.749699Z",
     "shell.execute_reply": "2021-06-30T09:16:10.749395Z"
    }
   },
   "outputs": [
    {
     "data": {
      "image/svg+xml": [
       "<?xml version=\"1.0\" encoding=\"UTF-8\" standalone=\"no\"?><svg xmlns=\"http://www.w3.org/2000/svg\" xmlns:xlink=\"http://www.w3.org/1999/xlink\" contentScriptType=\"application/ecmascript\" contentStyleType=\"text/css\" height=\"12px\" preserveAspectRatio=\"none\" style=\"width:12px;height:12px;\" version=\"1.1\" viewBox=\"0 0 12 12\" width=\"12px\" zoomAndPan=\"magnify\"><defs/><g><!--MD5=[f4ee21bc66e489b5061b7c3e9601fdef]\n",
       "@startuml\r\n",
       "top to bottom direction\r\n",
       "skinparam monochrome true\r\n",
       "skinparam classbackgroundcolor white\r\n",
       "skinparam shadowing false\r\n",
       "skinparam wrapWidth 300\r\n",
       "hide circle\r\n",
       "\r\n",
       "@enduml\r\n",
       "\n",
       "PlantUML version 1.2020.13(Sat Jun 13 12:26:38 UTC 2020)\n",
       "(EPL source distribution)\n",
       "Java Runtime: OpenJDK Runtime Environment\n",
       "JVM: OpenJDK 64-Bit Server VM\n",
       "Default Encoding: UTF-8\n",
       "Language: en\n",
       "Country: null\n",
       "--></g></svg>"
      ]
     },
     "execution_count": 46,
     "metadata": {},
     "output_type": "execute_result"
    }
   ],
   "source": [
    "%viz --style=\"TB\" --view=\"State\" \"AliasTest\""
   ]
  },
  {
   "cell_type": "code",
   "execution_count": 47,
   "id": "9757a392",
   "metadata": {
    "execution": {
     "iopub.execute_input": "2021-06-30T09:16:10.800495Z",
     "iopub.status.busy": "2021-06-30T09:16:10.800094Z",
     "iopub.status.idle": "2021-06-30T09:16:10.832081Z",
     "shell.execute_reply": "2021-06-30T09:16:10.830844Z"
    }
   },
   "outputs": [
    {
     "data": {
      "image/svg+xml": [
       "<?xml version=\"1.0\" encoding=\"UTF-8\" standalone=\"no\"?><svg xmlns=\"http://www.w3.org/2000/svg\" xmlns:xlink=\"http://www.w3.org/1999/xlink\" contentScriptType=\"application/ecmascript\" contentStyleType=\"text/css\" height=\"207px\" preserveAspectRatio=\"none\" style=\"width:406px;height:207px;\" version=\"1.1\" viewBox=\"0 0 406 207\" width=\"406px\" zoomAndPan=\"magnify\"><defs/><g><!--MD5=[fbc87193dbaf4d95561dea2c320d4a47]\n",
       "cluster E1--><a href=\"psysml:2a952753-6cea-46c9-bb61-930b04eb3411\" target=\"_top\" title=\"psysml:2a952753-6cea-46c9-bb61-930b04eb3411\" xlink:actuate=\"onRequest\" xlink:href=\"psysml:2a952753-6cea-46c9-bb61-930b04eb3411\" xlink:show=\"new\" xlink:title=\"psysml:2a952753-6cea-46c9-bb61-930b04eb3411\" xlink:type=\"simple\"><polygon fill=\"#FFFFFF\" points=\"16,6,94,6,101,28.2969,384,28.2969,384,195,16,195,16,6\" style=\"stroke: #000000; stroke-width: 1.5;\"/><line style=\"stroke: #000000; stroke-width: 1.5;\" x1=\"16\" x2=\"101\" y1=\"28.2969\" y2=\"28.2969\"/><text fill=\"#000000\" font-family=\"sans-serif\" font-size=\"14\" font-weight=\"bold\" lengthAdjust=\"spacingAndGlyphs\" textLength=\"72\" x=\"20\" y=\"20.9951\">AliasTest</text></a><!--MD5=[e4f7fae6ed58524ba242bb0b0d3be6b7]\n",
       "cluster E2--><a href=\"psysml:92b6686b-ceec-4d5e-ab27-24733762f61c\" target=\"_top\" title=\"psysml:92b6686b-ceec-4d5e-ab27-24733762f61c\" xlink:actuate=\"onRequest\" xlink:href=\"psysml:92b6686b-ceec-4d5e-ab27-24733762f61c\" xlink:show=\"new\" xlink:title=\"psysml:92b6686b-ceec-4d5e-ab27-24733762f61c\" xlink:type=\"simple\"><rect fill=\"#FFFFFF\" height=\"73\" id=\"E2\" style=\"stroke: #383838; stroke-width: 1.5;\" width=\"83\" x=\"244\" y=\"55\"/><rect fill=\"#F8F8F8\" height=\"37.9375\" style=\"stroke: #383838; stroke-width: 1.5;\" width=\"83\" x=\"244\" y=\"55\"/><text fill=\"#000000\" font-family=\"sans-serif\" font-size=\"12\" font-style=\"italic\" lengthAdjust=\"spacingAndGlyphs\" textLength=\"64\" x=\"253.5\" y=\"71.1387\">«part def»</text><text fill=\"#000000\" font-family=\"sans-serif\" font-size=\"12\" lengthAdjust=\"spacingAndGlyphs\" textLength=\"16\" x=\"277.5\" y=\"85.1074\">P1</text></a><!--MD5=[de5ec2e2e8f62f467e546659f5068c88]\n",
       "cluster E5--><a href=\"psysml:2b3d4312-7497-4457-990a-6ee5375442c5\" target=\"_top\" title=\"psysml:2b3d4312-7497-4457-990a-6ee5375442c5\" xlink:actuate=\"onRequest\" xlink:href=\"psysml:2b3d4312-7497-4457-990a-6ee5375442c5\" xlink:show=\"new\" xlink:title=\"psysml:2b3d4312-7497-4457-990a-6ee5375442c5\" xlink:type=\"simple\"><rect fill=\"#FFFFFF\" height=\"84.5\" id=\"E5\" rx=\"10\" ry=\"10\" style=\"stroke: #383838; stroke-width: 1.5;\" width=\"101\" x=\"139\" y=\"94.5\"/><rect fill=\"#F8F8F8\" height=\"23.9688\" rx=\"10\" ry=\"10\" style=\"stroke: #F8F8F8; stroke-width: 1.5;\" width=\"101\" x=\"139\" y=\"94.5\"/><rect fill=\"#F8F8F8\" height=\"10\" style=\"stroke: #F8F8F8; stroke-width: 1.5;\" width=\"101\" x=\"139\" y=\"108.4688\"/><rect fill=\"none\" height=\"84.5\" id=\"E5\" rx=\"10\" ry=\"10\" style=\"stroke: #383838; stroke-width: 1.5;\" width=\"101\" x=\"139\" y=\"94.5\"/><text fill=\"#000000\" font-family=\"sans-serif\" font-size=\"12\" lengthAdjust=\"spacingAndGlyphs\" textLength=\"40\" x=\"169.5\" y=\"110.6387\">p1: P1</text><line style=\"stroke: #383838; stroke-width: 1.0;\" x1=\"139\" x2=\"240\" y1=\"118.4688\" y2=\"118.4688\"/></a><!--MD5=[168fadf3d0c3fd93dd5d6da1b1d7ab76]\n",
       "cluster E7--><a href=\"psysml:09e69c42-70ff-4aed-b93c-c140a8b906a0\" target=\"_top\" title=\"psysml:09e69c42-70ff-4aed-b93c-c140a8b906a0\" xlink:actuate=\"onRequest\" xlink:href=\"psysml:09e69c42-70ff-4aed-b93c-c140a8b906a0\" xlink:show=\"new\" xlink:title=\"psysml:09e69c42-70ff-4aed-b93c-c140a8b906a0\" xlink:type=\"simple\"><rect fill=\"#FFFFFF\" height=\"65\" id=\"E7\" rx=\"10\" ry=\"10\" style=\"stroke: #383838; stroke-width: 1.5;\" width=\"83\" x=\"53\" y=\"55\"/><rect fill=\"#F8F8F8\" height=\"23.9688\" rx=\"10\" ry=\"10\" style=\"stroke: #F8F8F8; stroke-width: 1.5;\" width=\"83\" x=\"53\" y=\"55\"/><rect fill=\"#F8F8F8\" height=\"10\" style=\"stroke: #F8F8F8; stroke-width: 1.5;\" width=\"83\" x=\"53\" y=\"68.9688\"/><rect fill=\"none\" height=\"65\" id=\"E7\" rx=\"10\" ry=\"10\" style=\"stroke: #383838; stroke-width: 1.5;\" width=\"83\" x=\"53\" y=\"55\"/><text fill=\"#000000\" font-family=\"sans-serif\" font-size=\"12\" lengthAdjust=\"spacingAndGlyphs\" textLength=\"40\" x=\"74.5\" y=\"71.1387\">p2: P1</text><line style=\"stroke: #383838; stroke-width: 1.0;\" x1=\"53\" x2=\"136\" y1=\"78.9688\" y2=\"78.9688\"/></a><text fill=\"#000000\" font-family=\"sans-serif\" font-size=\"14\" lengthAdjust=\"spacingAndGlyphs\" textLength=\"44\" x=\"240\" y=\"33.6982\">porig1</text><rect fill=\"#383838\" height=\"12\" style=\"stroke: #F8F8F8; stroke-width: 1.5;\" width=\"12\" x=\"256\" y=\"49\"/><text fill=\"#000000\" font-family=\"sans-serif\" font-size=\"14\" lengthAdjust=\"spacingAndGlyphs\" textLength=\"44\" x=\"287\" y=\"33.6982\">porig1</text><rect fill=\"#383838\" height=\"12\" style=\"stroke: #F8F8F8; stroke-width: 1.5;\" width=\"12\" x=\"303\" y=\"49\"/><text fill=\"#000000\" font-family=\"sans-serif\" font-size=\"14\" lengthAdjust=\"spacingAndGlyphs\" textLength=\"27\" x=\"143.5\" y=\"73.1982\">po1</text><rect fill=\"#383838\" height=\"12\" style=\"stroke: #F8F8F8; stroke-width: 1.5;\" width=\"12\" x=\"151\" y=\"88.5\"/><text fill=\"#000000\" font-family=\"sans-serif\" font-size=\"14\" lengthAdjust=\"spacingAndGlyphs\" textLength=\"40\" x=\"51\" y=\"33.6982\">pdest</text><rect fill=\"#383838\" height=\"12\" style=\"stroke: #F8F8F8; stroke-width: 1.5;\" width=\"12\" x=\"65\" y=\"49\"/><text fill=\"#000000\" font-family=\"sans-serif\" font-size=\"14\" lengthAdjust=\"spacingAndGlyphs\" textLength=\"40\" x=\"98\" y=\"33.6982\">pdest</text><rect fill=\"#383838\" height=\"12\" style=\"stroke: #F8F8F8; stroke-width: 1.5;\" width=\"12\" x=\"112\" y=\"49\"/><!--MD5=[60ac2c0cde89d4308155b0484e57a8ec]\n",
       "link E9 to E6--><a href=\"psysml:d88f1dc1-ed41-4b97-9842-84a04c2c1d2b\" target=\"_top\" title=\"psysml:d88f1dc1-ed41-4b97-9842-84a04c2c1d2b\" xlink:actuate=\"onRequest\" xlink:href=\"psysml:d88f1dc1-ed41-4b97-9842-84a04c2c1d2b\" xlink:show=\"new\" xlink:title=\"psysml:d88f1dc1-ed41-4b97-9842-84a04c2c1d2b\" xlink:type=\"simple\"><path d=\"M111.75,56.49 C103.41,58.2 109.82,64.05 115,69 C124.85,78.4 136.6,90.11 150.78,92.89 \" fill=\"none\" id=\"E9-E6\" style=\"stroke: #383838; stroke-width: 3.0;\"/></a><!--MD5=[60ac2c0cde89d4308155b0484e57a8ec]\n",
       "link E9 to E6--><a href=\"psysml:619a1562-63e5-4ed2-9546-f25d2cdc049d\" target=\"_top\" title=\"psysml:619a1562-63e5-4ed2-9546-f25d2cdc049d\" xlink:actuate=\"onRequest\" xlink:href=\"psysml:619a1562-63e5-4ed2-9546-f25d2cdc049d\" xlink:show=\"new\" xlink:title=\"psysml:619a1562-63e5-4ed2-9546-f25d2cdc049d\" xlink:type=\"simple\"><path d=\"M124.29,56.32 C137.94,57.76 144.62,63.87 150,69 C159.5,78.06 170.77,89.27 163.24,92.56 \" fill=\"none\" id=\"E9-E6-1\" style=\"stroke: #383838; stroke-width: 3.0;\"/></a><!--MD5=[fbfd30bde54ad582e0d739f598c73d82]\n",
       "@startuml\r\n",
       "skinparam ranksep 10\r\n",
       "skinparam rectangle {\r\n",
       " backgroundColor<<block>> LightGreen\r\n",
       "}\r\n",
       "top to bottom direction\r\n",
       "skinparam monochrome true\r\n",
       "skinparam classbackgroundcolor white\r\n",
       "skinparam shadowing false\r\n",
       "skinparam wrapWidth 300\r\n",
       "hide circle\r\n",
       "\r\n",
       "package \"AliasTest\" as E1  [[psysml:2a952753-6cea-46c9-bb61-930b04eb3411 ]]  {\r\n",
       "rec def \"P1\" as E2  <<(T,blue) part def>> [[psysml:92b6686b-ceec-4d5e-ab27-24733762f61c ]] {\r\n",
       "portin \"porig1\" as E3  <<(T,blue) port>> [[psysml:ea24ffa6-0b43-4ed9-8037-2e87c3ddc217 ]] \r\n",
       "portin \"porig1\" as E4  <<(T,blue) port>> [[psysml:ea24ffa6-0b43-4ed9-8037-2e87c3ddc217 ]] \r\n",
       "}\r\n",
       "rec usage \"p1: P1\" as E5  [[psysml:2b3d4312-7497-4457-990a-6ee5375442c5 ]] {\r\n",
       "portin \"po1\" as E6  <<(T,blue) port>> [[psysml:dd05f1a1-221f-4ab1-8a14-dfadf20b8a26 ]] \r\n",
       "}\r\n",
       "rec usage \"p2: P1\" as E7  [[psysml:09e69c42-70ff-4aed-b93c-c140a8b906a0 ]] {\r\n",
       "portin \"pdest\" as E8  <<(T,blue) port>> [[psysml:af7521ab-a154-4c67-8a1e-396c259ea1b5 ]] \r\n",
       "portin \"pdest\" as E9  <<(T,blue) port>> [[psysml:af7521ab-a154-4c67-8a1e-396c259ea1b5 ]] \r\n",
       "}\r\n",
       "E9 -[thickness=3]- E6 [[psysml:d88f1dc1-ed41-4b97-9842-84a04c2c1d2b ]] \r\n",
       "E9 -[thickness=3]- E6 [[psysml:619a1562-63e5-4ed2-9546-f25d2cdc049d ]] \r\n",
       "}\r\n",
       "@enduml\r\n",
       "\n",
       "PlantUML version 1.2020.13(Sat Jun 13 12:26:38 UTC 2020)\n",
       "(EPL source distribution)\n",
       "Java Runtime: OpenJDK Runtime Environment\n",
       "JVM: OpenJDK 64-Bit Server VM\n",
       "Default Encoding: UTF-8\n",
       "Language: en\n",
       "Country: null\n",
       "--></g></svg>"
      ]
     },
     "execution_count": 47,
     "metadata": {},
     "output_type": "execute_result"
    }
   ],
   "source": [
    "%viz --style=\"TB\" --view=\"Interconnection\" \"AliasTest\""
   ]
  },
  {
   "cell_type": "code",
   "execution_count": 48,
   "id": "0c188c9b",
   "metadata": {
    "execution": {
     "iopub.execute_input": "2021-06-30T09:16:10.882950Z",
     "iopub.status.busy": "2021-06-30T09:16:10.882598Z",
     "iopub.status.idle": "2021-06-30T09:16:10.887525Z",
     "shell.execute_reply": "2021-06-30T09:16:10.887190Z"
    }
   },
   "outputs": [
    {
     "data": {
      "image/svg+xml": [
       "<?xml version=\"1.0\" encoding=\"UTF-8\" standalone=\"no\"?><svg xmlns=\"http://www.w3.org/2000/svg\" xmlns:xlink=\"http://www.w3.org/1999/xlink\" contentScriptType=\"application/ecmascript\" contentStyleType=\"text/css\" height=\"12px\" preserveAspectRatio=\"none\" style=\"width:12px;height:12px;\" version=\"1.1\" viewBox=\"0 0 12 12\" width=\"12px\" zoomAndPan=\"magnify\"><defs/><g><!--MD5=[06afc254b03ac5e9d9fb7773b07d0800]\n",
       "@startuml\r\n",
       "skinparam ranksep 8\r\n",
       "top to bottom direction\r\n",
       "skinparam monochrome true\r\n",
       "skinparam classbackgroundcolor white\r\n",
       "skinparam shadowing false\r\n",
       "skinparam wrapWidth 300\r\n",
       "hide circle\r\n",
       "\r\n",
       "@enduml\r\n",
       "\n",
       "PlantUML version 1.2020.13(Sat Jun 13 12:26:38 UTC 2020)\n",
       "(EPL source distribution)\n",
       "Java Runtime: OpenJDK Runtime Environment\n",
       "JVM: OpenJDK 64-Bit Server VM\n",
       "Default Encoding: UTF-8\n",
       "Language: en\n",
       "Country: null\n",
       "--></g></svg>"
      ]
     },
     "execution_count": 48,
     "metadata": {},
     "output_type": "execute_result"
    }
   ],
   "source": [
    "%viz --style=\"TB\" --view=\"Action\" \"AliasTest\""
   ]
  },
  {
   "cell_type": "code",
   "execution_count": 49,
   "id": "c977b70b",
   "metadata": {
    "execution": {
     "iopub.execute_input": "2021-06-30T09:16:10.942057Z",
     "iopub.status.busy": "2021-06-30T09:16:10.941567Z",
     "iopub.status.idle": "2021-06-30T09:16:11.015688Z",
     "shell.execute_reply": "2021-06-30T09:16:11.014308Z"
    }
   },
   "outputs": [
    {
     "data": {
      "image/svg+xml": [
       "<?xml version=\"1.0\" encoding=\"UTF-8\" standalone=\"no\"?><svg xmlns=\"http://www.w3.org/2000/svg\" xmlns:xlink=\"http://www.w3.org/1999/xlink\" contentScriptType=\"application/ecmascript\" contentStyleType=\"text/css\" height=\"293px\" preserveAspectRatio=\"none\" style=\"width:243px;height:293px;\" version=\"1.1\" viewBox=\"0 0 243 293\" width=\"243px\" zoomAndPan=\"magnify\"><defs/><g><!--MD5=[fbc87193dbaf4d95561dea2c320d4a47]\n",
       "cluster E1--><a href=\"psysml:2a952753-6cea-46c9-bb61-930b04eb3411\" target=\"_top\" title=\"psysml:2a952753-6cea-46c9-bb61-930b04eb3411\" xlink:actuate=\"onRequest\" xlink:href=\"psysml:2a952753-6cea-46c9-bb61-930b04eb3411\" xlink:show=\"new\" xlink:title=\"psysml:2a952753-6cea-46c9-bb61-930b04eb3411\" xlink:type=\"simple\"><polygon fill=\"#FFFFFF\" points=\"16,6,94,6,101,28.2969,221,28.2969,221,281,16,281,16,6\" style=\"stroke: #000000; stroke-width: 1.5;\"/><line style=\"stroke: #000000; stroke-width: 1.5;\" x1=\"16\" x2=\"101\" y1=\"28.2969\" y2=\"28.2969\"/><text fill=\"#000000\" font-family=\"sans-serif\" font-size=\"14\" font-weight=\"bold\" lengthAdjust=\"spacingAndGlyphs\" textLength=\"72\" x=\"20\" y=\"20.9951\">AliasTest</text></a><!--MD5=[b4997ac47864f28c2f74865a473b2911]\n",
       "class E2--><a href=\"psysml:92b6686b-ceec-4d5e-ab27-24733762f61c\" target=\"_top\" title=\"psysml:92b6686b-ceec-4d5e-ab27-24733762f61c\" xlink:actuate=\"onRequest\" xlink:href=\"psysml:92b6686b-ceec-4d5e-ab27-24733762f61c\" xlink:show=\"new\" xlink:title=\"psysml:92b6686b-ceec-4d5e-ab27-24733762f61c\" xlink:type=\"simple\"><rect fill=\"#FFFFFF\" height=\"75.5469\" id=\"E2\" style=\"stroke: #383838; stroke-width: 1.5;\" width=\"66\" x=\"79\" y=\"189\"/><text fill=\"#000000\" font-family=\"sans-serif\" font-size=\"12\" font-style=\"italic\" lengthAdjust=\"spacingAndGlyphs\" textLength=\"64\" x=\"80\" y=\"205.1387\">«part def»</text><text fill=\"#000000\" font-family=\"sans-serif\" font-size=\"12\" lengthAdjust=\"spacingAndGlyphs\" textLength=\"16\" x=\"104\" y=\"219.1074\">P1</text><line style=\"stroke: #383838; stroke-width: 1.5;\" x1=\"80\" x2=\"144\" y1=\"226.9375\" y2=\"226.9375\"/><text fill=\"#000000\" font-family=\"sans-serif\" font-size=\"11\" lengthAdjust=\"spacingAndGlyphs\" textLength=\"36\" x=\"85\" y=\"257.9526\">porig1</text><line style=\"stroke: #383838; stroke-width: 1.0;\" x1=\"80\" x2=\"97\" y1=\"241.3398\" y2=\"241.3398\"/><text fill=\"#000000\" font-family=\"sans-serif\" font-size=\"11\" lengthAdjust=\"spacingAndGlyphs\" textLength=\"30\" x=\"97\" y=\"244.6479\">ports</text><line style=\"stroke: #383838; stroke-width: 1.0;\" x1=\"127\" x2=\"144\" y1=\"241.3398\" y2=\"241.3398\"/></a><!--MD5=[ebbe1d658d1005bcc118a6aa81145e00]\n",
       "class E4--><a href=\"psysml:2b3d4312-7497-4457-990a-6ee5375442c5\" target=\"_top\" title=\"psysml:2b3d4312-7497-4457-990a-6ee5375442c5\" xlink:actuate=\"onRequest\" xlink:href=\"psysml:2b3d4312-7497-4457-990a-6ee5375442c5\" xlink:show=\"new\" xlink:title=\"psysml:2b3d4312-7497-4457-990a-6ee5375442c5\" xlink:type=\"simple\"><rect fill=\"#FFFFFF\" height=\"88.3516\" id=\"E4\" rx=\"10\" ry=\"10\" style=\"stroke: #383838; stroke-width: 1.5;\" width=\"92\" x=\"113\" y=\"41\"/><text fill=\"#000000\" font-family=\"sans-serif\" font-size=\"12\" font-style=\"italic\" lengthAdjust=\"spacingAndGlyphs\" textLength=\"40\" x=\"139\" y=\"57.1387\">«part»</text><text fill=\"#000000\" font-family=\"sans-serif\" font-size=\"12\" lengthAdjust=\"spacingAndGlyphs\" textLength=\"40\" x=\"139\" y=\"71.1074\">p1: P1</text><line style=\"stroke: #383838; stroke-width: 1.5;\" x1=\"114\" x2=\"204\" y1=\"78.9375\" y2=\"78.9375\"/><text fill=\"#000000\" font-family=\"sans-serif\" font-size=\"11\" lengthAdjust=\"spacingAndGlyphs\" textLength=\"21\" x=\"119\" y=\"109.9526\">po1</text><text fill=\"#000000\" font-family=\"sans-serif\" font-size=\"11\" font-style=\"italic\" lengthAdjust=\"spacingAndGlyphs\" textLength=\"80\" x=\"119\" y=\"122.7573\">:&gt;&gt;P1::porig1</text><line style=\"stroke: #383838; stroke-width: 1.0;\" x1=\"114\" x2=\"144\" y1=\"93.3398\" y2=\"93.3398\"/><text fill=\"#000000\" font-family=\"sans-serif\" font-size=\"11\" lengthAdjust=\"spacingAndGlyphs\" textLength=\"30\" x=\"144\" y=\"96.6479\">ports</text><line style=\"stroke: #383838; stroke-width: 1.0;\" x1=\"174\" x2=\"204\" y1=\"93.3398\" y2=\"93.3398\"/></a><!--MD5=[60a26617385b1d2d0262a64233df1f8d]\n",
       "class E6--><a href=\"psysml:09e69c42-70ff-4aed-b93c-c140a8b906a0\" target=\"_top\" title=\"psysml:09e69c42-70ff-4aed-b93c-c140a8b906a0\" xlink:actuate=\"onRequest\" xlink:href=\"psysml:09e69c42-70ff-4aed-b93c-c140a8b906a0\" xlink:show=\"new\" xlink:title=\"psysml:09e69c42-70ff-4aed-b93c-c140a8b906a0\" xlink:type=\"simple\"><rect fill=\"#FFFFFF\" height=\"75.5469\" id=\"E6\" rx=\"10\" ry=\"10\" style=\"stroke: #383838; stroke-width: 1.5;\" width=\"46\" x=\"32\" y=\"47\"/><text fill=\"#000000\" font-family=\"sans-serif\" font-size=\"12\" font-style=\"italic\" lengthAdjust=\"spacingAndGlyphs\" textLength=\"40\" x=\"35\" y=\"63.1387\">«part»</text><text fill=\"#000000\" font-family=\"sans-serif\" font-size=\"12\" lengthAdjust=\"spacingAndGlyphs\" textLength=\"40\" x=\"35\" y=\"77.1074\">p2: P1</text><line style=\"stroke: #383838; stroke-width: 1.5;\" x1=\"33\" x2=\"77\" y1=\"84.9375\" y2=\"84.9375\"/><text fill=\"#000000\" font-family=\"sans-serif\" font-size=\"11\" lengthAdjust=\"spacingAndGlyphs\" textLength=\"32\" x=\"38\" y=\"115.9526\">pdest</text><line style=\"stroke: #383838; stroke-width: 1.0;\" x1=\"33\" x2=\"40\" y1=\"99.3398\" y2=\"99.3398\"/><text fill=\"#000000\" font-family=\"sans-serif\" font-size=\"11\" lengthAdjust=\"spacingAndGlyphs\" textLength=\"30\" x=\"40\" y=\"102.6479\">ports</text><line style=\"stroke: #383838; stroke-width: 1.0;\" x1=\"70\" x2=\"77\" y1=\"99.3398\" y2=\"99.3398\"/></a><!--MD5=[185131fc0dcab0a4505a2ebe144e961b]\n",
       "link E4 to E2--><a href=\"psysml:5073669c-7652-4dd2-8e27-7490931f0c73\" target=\"_top\" title=\"psysml:5073669c-7652-4dd2-8e27-7490931f0c73\" xlink:actuate=\"onRequest\" xlink:href=\"psysml:5073669c-7652-4dd2-8e27-7490931f0c73\" xlink:show=\"new\" xlink:title=\"psysml:5073669c-7652-4dd2-8e27-7490931f0c73\" xlink:type=\"simple\"><path d=\"M144.51,129.15 C140.2,141.99 135.41,156.26 130.86,169.81 \" fill=\"none\" id=\"E4-&gt;E2\" style=\"stroke: #383838; stroke-width: 1.0;\"/><polygon fill=\"#FFFFFF\" points=\"124.45,188.9,123.8495,168.6604,137.1241,173.1086,124.45,188.9\" style=\"stroke: #383838; stroke-width: 1.0;\"/><ellipse cx=\"127.5569\" cy=\"163.8913\" fill=\"#383838\" rx=\"2\" ry=\"2\" style=\"stroke: #383838; stroke-width: 1.0;\"/><ellipse cx=\"137.0388\" cy=\"167.0685\" fill=\"#383838\" rx=\"2\" ry=\"2\" style=\"stroke: #383838; stroke-width: 1.0;\"/></a><!--MD5=[2351f337d6de0f557b50152ba70847b5]\n",
       "link E6 to E2--><a href=\"psysml:94875f8e-b487-466f-9f77-0e1d93a514ac\" target=\"_top\" title=\"psysml:94875f8e-b487-466f-9f77-0e1d93a514ac\" xlink:actuate=\"onRequest\" xlink:href=\"psysml:94875f8e-b487-466f-9f77-0e1d93a514ac\" xlink:show=\"new\" xlink:title=\"psysml:94875f8e-b487-466f-9f77-0e1d93a514ac\" xlink:type=\"simple\"><path d=\"M70.13,123.15 C75.99,137.55 82.83,154.34 89.26,170.14 \" fill=\"none\" id=\"E6-&gt;E2\" style=\"stroke: #383838; stroke-width: 1.0;\"/><polygon fill=\"#FFFFFF\" points=\"96.8,188.68,83.1527,173.7216,96.1195,168.443,96.8,188.68\" style=\"stroke: #383838; stroke-width: 1.0;\"/><ellipse cx=\"82.856\" cy=\"167.6882\" fill=\"#383838\" rx=\"2\" ry=\"2\" style=\"stroke: #383838; stroke-width: 1.0;\"/><ellipse cx=\"92.1179\" cy=\"163.9178\" fill=\"#383838\" rx=\"2\" ry=\"2\" style=\"stroke: #383838; stroke-width: 1.0;\"/></a><!--MD5=[f867e9240959a4babaa326542c6c3f09]\n",
       "@startuml\r\n",
       "top to bottom direction\r\n",
       "skinparam monochrome true\r\n",
       "skinparam classbackgroundcolor white\r\n",
       "skinparam shadowing false\r\n",
       "skinparam wrapWidth 300\r\n",
       "hide circle\r\n",
       "\r\n",
       "package \"AliasTest\" as E1  [[psysml:2a952753-6cea-46c9-bb61-930b04eb3411 ]]  {\r\n",
       "comp def \"P1\" as E2  <<(T,blue) part def>> [[psysml:92b6686b-ceec-4d5e-ab27-24733762f61c ]] {\r\n",
       "- - ports - -\r\n",
       "porig1\r\n",
       "}\r\n",
       "comp usage \"p1: P1\" as E4  <<(T,blue) part>> [[psysml:2b3d4312-7497-4457-990a-6ee5375442c5 ]] {\r\n",
       "- - ports - -\r\n",
       "po1\\n//:>>P1::porig1// \r\n",
       "}\r\n",
       "comp usage \"p2: P1\" as E6  <<(T,blue) part>> [[psysml:09e69c42-70ff-4aed-b93c-c140a8b906a0 ]] {\r\n",
       "- - ports - -\r\n",
       "pdest\r\n",
       "}\r\n",
       "E4 - -:|> E2 [[psysml:5073669c-7652-4dd2-8e27-7490931f0c73 ]] \r\n",
       "E6 - -:|> E2 [[psysml:94875f8e-b487-466f-9f77-0e1d93a514ac ]] \r\n",
       "}\r\n",
       "@enduml\r\n",
       "\n",
       "PlantUML version 1.2020.13(Sat Jun 13 12:26:38 UTC 2020)\n",
       "(EPL source distribution)\n",
       "Java Runtime: OpenJDK Runtime Environment\n",
       "JVM: OpenJDK 64-Bit Server VM\n",
       "Default Encoding: UTF-8\n",
       "Language: en\n",
       "Country: null\n",
       "--></g></svg>"
      ]
     },
     "execution_count": 49,
     "metadata": {},
     "output_type": "execute_result"
    }
   ],
   "source": [
    "%viz --style=\"TB\" --view=\"Sequence\" \"AliasTest\""
   ]
  },
  {
   "cell_type": "code",
   "execution_count": 50,
   "id": "c93c0cbf",
   "metadata": {
    "execution": {
     "iopub.execute_input": "2021-06-30T09:16:11.067664Z",
     "iopub.status.busy": "2021-06-30T09:16:11.067258Z",
     "iopub.status.idle": "2021-06-30T09:16:11.134193Z",
     "shell.execute_reply": "2021-06-30T09:16:11.133261Z"
    }
   },
   "outputs": [
    {
     "data": {
      "image/svg+xml": [
       "<?xml version=\"1.0\" encoding=\"UTF-8\" standalone=\"no\"?><svg xmlns=\"http://www.w3.org/2000/svg\" xmlns:xlink=\"http://www.w3.org/1999/xlink\" contentScriptType=\"application/ecmascript\" contentStyleType=\"text/css\" height=\"293px\" preserveAspectRatio=\"none\" style=\"width:243px;height:293px;\" version=\"1.1\" viewBox=\"0 0 243 293\" width=\"243px\" zoomAndPan=\"magnify\"><defs/><g><!--MD5=[fbc87193dbaf4d95561dea2c320d4a47]\n",
       "cluster E1--><a href=\"psysml:2a952753-6cea-46c9-bb61-930b04eb3411\" target=\"_top\" title=\"psysml:2a952753-6cea-46c9-bb61-930b04eb3411\" xlink:actuate=\"onRequest\" xlink:href=\"psysml:2a952753-6cea-46c9-bb61-930b04eb3411\" xlink:show=\"new\" xlink:title=\"psysml:2a952753-6cea-46c9-bb61-930b04eb3411\" xlink:type=\"simple\"><polygon fill=\"#FFFFFF\" points=\"16,6,94,6,101,28.2969,221,28.2969,221,281,16,281,16,6\" style=\"stroke: #000000; stroke-width: 1.5;\"/><line style=\"stroke: #000000; stroke-width: 1.5;\" x1=\"16\" x2=\"101\" y1=\"28.2969\" y2=\"28.2969\"/><text fill=\"#000000\" font-family=\"sans-serif\" font-size=\"14\" font-weight=\"bold\" lengthAdjust=\"spacingAndGlyphs\" textLength=\"72\" x=\"20\" y=\"20.9951\">AliasTest</text></a><!--MD5=[b4997ac47864f28c2f74865a473b2911]\n",
       "class E2--><a href=\"psysml:92b6686b-ceec-4d5e-ab27-24733762f61c\" target=\"_top\" title=\"psysml:92b6686b-ceec-4d5e-ab27-24733762f61c\" xlink:actuate=\"onRequest\" xlink:href=\"psysml:92b6686b-ceec-4d5e-ab27-24733762f61c\" xlink:show=\"new\" xlink:title=\"psysml:92b6686b-ceec-4d5e-ab27-24733762f61c\" xlink:type=\"simple\"><rect fill=\"#FFFFFF\" height=\"75.5469\" id=\"E2\" style=\"stroke: #383838; stroke-width: 1.5;\" width=\"66\" x=\"79\" y=\"189\"/><text fill=\"#000000\" font-family=\"sans-serif\" font-size=\"12\" font-style=\"italic\" lengthAdjust=\"spacingAndGlyphs\" textLength=\"64\" x=\"80\" y=\"205.1387\">«part def»</text><text fill=\"#000000\" font-family=\"sans-serif\" font-size=\"12\" lengthAdjust=\"spacingAndGlyphs\" textLength=\"16\" x=\"104\" y=\"219.1074\">P1</text><line style=\"stroke: #383838; stroke-width: 1.5;\" x1=\"80\" x2=\"144\" y1=\"226.9375\" y2=\"226.9375\"/><text fill=\"#000000\" font-family=\"sans-serif\" font-size=\"11\" lengthAdjust=\"spacingAndGlyphs\" textLength=\"36\" x=\"85\" y=\"257.9526\">porig1</text><line style=\"stroke: #383838; stroke-width: 1.0;\" x1=\"80\" x2=\"97\" y1=\"241.3398\" y2=\"241.3398\"/><text fill=\"#000000\" font-family=\"sans-serif\" font-size=\"11\" lengthAdjust=\"spacingAndGlyphs\" textLength=\"30\" x=\"97\" y=\"244.6479\">ports</text><line style=\"stroke: #383838; stroke-width: 1.0;\" x1=\"127\" x2=\"144\" y1=\"241.3398\" y2=\"241.3398\"/></a><!--MD5=[ebbe1d658d1005bcc118a6aa81145e00]\n",
       "class E4--><a href=\"psysml:2b3d4312-7497-4457-990a-6ee5375442c5\" target=\"_top\" title=\"psysml:2b3d4312-7497-4457-990a-6ee5375442c5\" xlink:actuate=\"onRequest\" xlink:href=\"psysml:2b3d4312-7497-4457-990a-6ee5375442c5\" xlink:show=\"new\" xlink:title=\"psysml:2b3d4312-7497-4457-990a-6ee5375442c5\" xlink:type=\"simple\"><rect fill=\"#FFFFFF\" height=\"88.3516\" id=\"E4\" rx=\"10\" ry=\"10\" style=\"stroke: #383838; stroke-width: 1.5;\" width=\"92\" x=\"113\" y=\"41\"/><text fill=\"#000000\" font-family=\"sans-serif\" font-size=\"12\" font-style=\"italic\" lengthAdjust=\"spacingAndGlyphs\" textLength=\"40\" x=\"139\" y=\"57.1387\">«part»</text><text fill=\"#000000\" font-family=\"sans-serif\" font-size=\"12\" lengthAdjust=\"spacingAndGlyphs\" textLength=\"40\" x=\"139\" y=\"71.1074\">p1: P1</text><line style=\"stroke: #383838; stroke-width: 1.5;\" x1=\"114\" x2=\"204\" y1=\"78.9375\" y2=\"78.9375\"/><text fill=\"#000000\" font-family=\"sans-serif\" font-size=\"11\" lengthAdjust=\"spacingAndGlyphs\" textLength=\"21\" x=\"119\" y=\"109.9526\">po1</text><text fill=\"#000000\" font-family=\"sans-serif\" font-size=\"11\" font-style=\"italic\" lengthAdjust=\"spacingAndGlyphs\" textLength=\"80\" x=\"119\" y=\"122.7573\">:&gt;&gt;P1::porig1</text><line style=\"stroke: #383838; stroke-width: 1.0;\" x1=\"114\" x2=\"144\" y1=\"93.3398\" y2=\"93.3398\"/><text fill=\"#000000\" font-family=\"sans-serif\" font-size=\"11\" lengthAdjust=\"spacingAndGlyphs\" textLength=\"30\" x=\"144\" y=\"96.6479\">ports</text><line style=\"stroke: #383838; stroke-width: 1.0;\" x1=\"174\" x2=\"204\" y1=\"93.3398\" y2=\"93.3398\"/></a><!--MD5=[60a26617385b1d2d0262a64233df1f8d]\n",
       "class E6--><a href=\"psysml:09e69c42-70ff-4aed-b93c-c140a8b906a0\" target=\"_top\" title=\"psysml:09e69c42-70ff-4aed-b93c-c140a8b906a0\" xlink:actuate=\"onRequest\" xlink:href=\"psysml:09e69c42-70ff-4aed-b93c-c140a8b906a0\" xlink:show=\"new\" xlink:title=\"psysml:09e69c42-70ff-4aed-b93c-c140a8b906a0\" xlink:type=\"simple\"><rect fill=\"#FFFFFF\" height=\"75.5469\" id=\"E6\" rx=\"10\" ry=\"10\" style=\"stroke: #383838; stroke-width: 1.5;\" width=\"46\" x=\"32\" y=\"47\"/><text fill=\"#000000\" font-family=\"sans-serif\" font-size=\"12\" font-style=\"italic\" lengthAdjust=\"spacingAndGlyphs\" textLength=\"40\" x=\"35\" y=\"63.1387\">«part»</text><text fill=\"#000000\" font-family=\"sans-serif\" font-size=\"12\" lengthAdjust=\"spacingAndGlyphs\" textLength=\"40\" x=\"35\" y=\"77.1074\">p2: P1</text><line style=\"stroke: #383838; stroke-width: 1.5;\" x1=\"33\" x2=\"77\" y1=\"84.9375\" y2=\"84.9375\"/><text fill=\"#000000\" font-family=\"sans-serif\" font-size=\"11\" lengthAdjust=\"spacingAndGlyphs\" textLength=\"32\" x=\"38\" y=\"115.9526\">pdest</text><line style=\"stroke: #383838; stroke-width: 1.0;\" x1=\"33\" x2=\"40\" y1=\"99.3398\" y2=\"99.3398\"/><text fill=\"#000000\" font-family=\"sans-serif\" font-size=\"11\" lengthAdjust=\"spacingAndGlyphs\" textLength=\"30\" x=\"40\" y=\"102.6479\">ports</text><line style=\"stroke: #383838; stroke-width: 1.0;\" x1=\"70\" x2=\"77\" y1=\"99.3398\" y2=\"99.3398\"/></a><!--MD5=[185131fc0dcab0a4505a2ebe144e961b]\n",
       "link E4 to E2--><a href=\"psysml:5073669c-7652-4dd2-8e27-7490931f0c73\" target=\"_top\" title=\"psysml:5073669c-7652-4dd2-8e27-7490931f0c73\" xlink:actuate=\"onRequest\" xlink:href=\"psysml:5073669c-7652-4dd2-8e27-7490931f0c73\" xlink:show=\"new\" xlink:title=\"psysml:5073669c-7652-4dd2-8e27-7490931f0c73\" xlink:type=\"simple\"><path d=\"M144.51,129.15 C140.2,141.99 135.41,156.26 130.86,169.81 \" fill=\"none\" id=\"E4-&gt;E2\" style=\"stroke: #383838; stroke-width: 1.0;\"/><polygon fill=\"#FFFFFF\" points=\"124.45,188.9,123.8495,168.6604,137.1241,173.1086,124.45,188.9\" style=\"stroke: #383838; stroke-width: 1.0;\"/><ellipse cx=\"127.5569\" cy=\"163.8913\" fill=\"#383838\" rx=\"2\" ry=\"2\" style=\"stroke: #383838; stroke-width: 1.0;\"/><ellipse cx=\"137.0388\" cy=\"167.0685\" fill=\"#383838\" rx=\"2\" ry=\"2\" style=\"stroke: #383838; stroke-width: 1.0;\"/></a><!--MD5=[2351f337d6de0f557b50152ba70847b5]\n",
       "link E6 to E2--><a href=\"psysml:94875f8e-b487-466f-9f77-0e1d93a514ac\" target=\"_top\" title=\"psysml:94875f8e-b487-466f-9f77-0e1d93a514ac\" xlink:actuate=\"onRequest\" xlink:href=\"psysml:94875f8e-b487-466f-9f77-0e1d93a514ac\" xlink:show=\"new\" xlink:title=\"psysml:94875f8e-b487-466f-9f77-0e1d93a514ac\" xlink:type=\"simple\"><path d=\"M70.13,123.15 C75.99,137.55 82.83,154.34 89.26,170.14 \" fill=\"none\" id=\"E6-&gt;E2\" style=\"stroke: #383838; stroke-width: 1.0;\"/><polygon fill=\"#FFFFFF\" points=\"96.8,188.68,83.1527,173.7216,96.1195,168.443,96.8,188.68\" style=\"stroke: #383838; stroke-width: 1.0;\"/><ellipse cx=\"82.856\" cy=\"167.6882\" fill=\"#383838\" rx=\"2\" ry=\"2\" style=\"stroke: #383838; stroke-width: 1.0;\"/><ellipse cx=\"92.1179\" cy=\"163.9178\" fill=\"#383838\" rx=\"2\" ry=\"2\" style=\"stroke: #383838; stroke-width: 1.0;\"/></a><!--MD5=[f867e9240959a4babaa326542c6c3f09]\n",
       "@startuml\r\n",
       "top to bottom direction\r\n",
       "skinparam monochrome true\r\n",
       "skinparam classbackgroundcolor white\r\n",
       "skinparam shadowing false\r\n",
       "skinparam wrapWidth 300\r\n",
       "hide circle\r\n",
       "\r\n",
       "package \"AliasTest\" as E1  [[psysml:2a952753-6cea-46c9-bb61-930b04eb3411 ]]  {\r\n",
       "comp def \"P1\" as E2  <<(T,blue) part def>> [[psysml:92b6686b-ceec-4d5e-ab27-24733762f61c ]] {\r\n",
       "- - ports - -\r\n",
       "porig1\r\n",
       "}\r\n",
       "comp usage \"p1: P1\" as E4  <<(T,blue) part>> [[psysml:2b3d4312-7497-4457-990a-6ee5375442c5 ]] {\r\n",
       "- - ports - -\r\n",
       "po1\\n//:>>P1::porig1// \r\n",
       "}\r\n",
       "comp usage \"p2: P1\" as E6  <<(T,blue) part>> [[psysml:09e69c42-70ff-4aed-b93c-c140a8b906a0 ]] {\r\n",
       "- - ports - -\r\n",
       "pdest\r\n",
       "}\r\n",
       "E4 - -:|> E2 [[psysml:5073669c-7652-4dd2-8e27-7490931f0c73 ]] \r\n",
       "E6 - -:|> E2 [[psysml:94875f8e-b487-466f-9f77-0e1d93a514ac ]] \r\n",
       "}\r\n",
       "@enduml\r\n",
       "\n",
       "PlantUML version 1.2020.13(Sat Jun 13 12:26:38 UTC 2020)\n",
       "(EPL source distribution)\n",
       "Java Runtime: OpenJDK Runtime Environment\n",
       "JVM: OpenJDK 64-Bit Server VM\n",
       "Default Encoding: UTF-8\n",
       "Language: en\n",
       "Country: null\n",
       "--></g></svg>"
      ]
     },
     "execution_count": 50,
     "metadata": {},
     "output_type": "execute_result"
    }
   ],
   "source": [
    "%viz --style=\"TB\" --view=\"MIXED\" \"AliasTest\""
   ]
  },
  {
   "cell_type": "code",
   "execution_count": 51,
   "id": "c75fd38c",
   "metadata": {
    "execution": {
     "iopub.execute_input": "2021-06-30T09:16:11.186388Z",
     "iopub.status.busy": "2021-06-30T09:16:11.185858Z",
     "iopub.status.idle": "2021-06-30T09:16:11.252035Z",
     "shell.execute_reply": "2021-06-30T09:16:11.250584Z"
    }
   },
   "outputs": [
    {
     "data": {
      "image/svg+xml": [
       "<?xml version=\"1.0\" encoding=\"UTF-8\" standalone=\"no\"?><svg xmlns=\"http://www.w3.org/2000/svg\" xmlns:xlink=\"http://www.w3.org/1999/xlink\" contentScriptType=\"application/ecmascript\" contentStyleType=\"text/css\" height=\"293px\" preserveAspectRatio=\"none\" style=\"width:243px;height:293px;\" version=\"1.1\" viewBox=\"0 0 243 293\" width=\"243px\" zoomAndPan=\"magnify\"><defs/><g><!--MD5=[fbc87193dbaf4d95561dea2c320d4a47]\n",
       "cluster E1--><a href=\"psysml:2a952753-6cea-46c9-bb61-930b04eb3411\" target=\"_top\" title=\"psysml:2a952753-6cea-46c9-bb61-930b04eb3411\" xlink:actuate=\"onRequest\" xlink:href=\"psysml:2a952753-6cea-46c9-bb61-930b04eb3411\" xlink:show=\"new\" xlink:title=\"psysml:2a952753-6cea-46c9-bb61-930b04eb3411\" xlink:type=\"simple\"><polygon fill=\"#FFFFFF\" points=\"16,6,94,6,101,28.2969,221,28.2969,221,281,16,281,16,6\" style=\"stroke: #000000; stroke-width: 1.5;\"/><line style=\"stroke: #000000; stroke-width: 1.5;\" x1=\"16\" x2=\"101\" y1=\"28.2969\" y2=\"28.2969\"/><text fill=\"#000000\" font-family=\"sans-serif\" font-size=\"14\" font-weight=\"bold\" lengthAdjust=\"spacingAndGlyphs\" textLength=\"72\" x=\"20\" y=\"20.9951\">AliasTest</text></a><!--MD5=[b4997ac47864f28c2f74865a473b2911]\n",
       "class E2--><a href=\"psysml:92b6686b-ceec-4d5e-ab27-24733762f61c\" target=\"_top\" title=\"psysml:92b6686b-ceec-4d5e-ab27-24733762f61c\" xlink:actuate=\"onRequest\" xlink:href=\"psysml:92b6686b-ceec-4d5e-ab27-24733762f61c\" xlink:show=\"new\" xlink:title=\"psysml:92b6686b-ceec-4d5e-ab27-24733762f61c\" xlink:type=\"simple\"><rect fill=\"#FFFFFF\" height=\"75.5469\" id=\"E2\" style=\"stroke: #383838; stroke-width: 1.5;\" width=\"66\" x=\"79\" y=\"189\"/><text fill=\"#000000\" font-family=\"sans-serif\" font-size=\"12\" font-style=\"italic\" lengthAdjust=\"spacingAndGlyphs\" textLength=\"64\" x=\"80\" y=\"205.1387\">«part def»</text><text fill=\"#000000\" font-family=\"sans-serif\" font-size=\"12\" lengthAdjust=\"spacingAndGlyphs\" textLength=\"16\" x=\"104\" y=\"219.1074\">P1</text><line style=\"stroke: #383838; stroke-width: 1.5;\" x1=\"80\" x2=\"144\" y1=\"226.9375\" y2=\"226.9375\"/><text fill=\"#000000\" font-family=\"sans-serif\" font-size=\"11\" lengthAdjust=\"spacingAndGlyphs\" textLength=\"36\" x=\"85\" y=\"257.9526\">porig1</text><line style=\"stroke: #383838; stroke-width: 1.0;\" x1=\"80\" x2=\"97\" y1=\"241.3398\" y2=\"241.3398\"/><text fill=\"#000000\" font-family=\"sans-serif\" font-size=\"11\" lengthAdjust=\"spacingAndGlyphs\" textLength=\"30\" x=\"97\" y=\"244.6479\">ports</text><line style=\"stroke: #383838; stroke-width: 1.0;\" x1=\"127\" x2=\"144\" y1=\"241.3398\" y2=\"241.3398\"/></a><!--MD5=[ebbe1d658d1005bcc118a6aa81145e00]\n",
       "class E4--><a href=\"psysml:2b3d4312-7497-4457-990a-6ee5375442c5\" target=\"_top\" title=\"psysml:2b3d4312-7497-4457-990a-6ee5375442c5\" xlink:actuate=\"onRequest\" xlink:href=\"psysml:2b3d4312-7497-4457-990a-6ee5375442c5\" xlink:show=\"new\" xlink:title=\"psysml:2b3d4312-7497-4457-990a-6ee5375442c5\" xlink:type=\"simple\"><rect fill=\"#FFFFFF\" height=\"88.3516\" id=\"E4\" rx=\"10\" ry=\"10\" style=\"stroke: #383838; stroke-width: 1.5;\" width=\"92\" x=\"113\" y=\"41\"/><text fill=\"#000000\" font-family=\"sans-serif\" font-size=\"12\" font-style=\"italic\" lengthAdjust=\"spacingAndGlyphs\" textLength=\"40\" x=\"139\" y=\"57.1387\">«part»</text><text fill=\"#000000\" font-family=\"sans-serif\" font-size=\"12\" lengthAdjust=\"spacingAndGlyphs\" textLength=\"40\" x=\"139\" y=\"71.1074\">p1: P1</text><line style=\"stroke: #383838; stroke-width: 1.5;\" x1=\"114\" x2=\"204\" y1=\"78.9375\" y2=\"78.9375\"/><text fill=\"#000000\" font-family=\"sans-serif\" font-size=\"11\" lengthAdjust=\"spacingAndGlyphs\" textLength=\"21\" x=\"119\" y=\"109.9526\">po1</text><text fill=\"#000000\" font-family=\"sans-serif\" font-size=\"11\" font-style=\"italic\" lengthAdjust=\"spacingAndGlyphs\" textLength=\"80\" x=\"119\" y=\"122.7573\">:&gt;&gt;P1::porig1</text><line style=\"stroke: #383838; stroke-width: 1.0;\" x1=\"114\" x2=\"144\" y1=\"93.3398\" y2=\"93.3398\"/><text fill=\"#000000\" font-family=\"sans-serif\" font-size=\"11\" lengthAdjust=\"spacingAndGlyphs\" textLength=\"30\" x=\"144\" y=\"96.6479\">ports</text><line style=\"stroke: #383838; stroke-width: 1.0;\" x1=\"174\" x2=\"204\" y1=\"93.3398\" y2=\"93.3398\"/></a><!--MD5=[60a26617385b1d2d0262a64233df1f8d]\n",
       "class E6--><a href=\"psysml:09e69c42-70ff-4aed-b93c-c140a8b906a0\" target=\"_top\" title=\"psysml:09e69c42-70ff-4aed-b93c-c140a8b906a0\" xlink:actuate=\"onRequest\" xlink:href=\"psysml:09e69c42-70ff-4aed-b93c-c140a8b906a0\" xlink:show=\"new\" xlink:title=\"psysml:09e69c42-70ff-4aed-b93c-c140a8b906a0\" xlink:type=\"simple\"><rect fill=\"#FFFFFF\" height=\"75.5469\" id=\"E6\" rx=\"10\" ry=\"10\" style=\"stroke: #383838; stroke-width: 1.5;\" width=\"46\" x=\"32\" y=\"47\"/><text fill=\"#000000\" font-family=\"sans-serif\" font-size=\"12\" font-style=\"italic\" lengthAdjust=\"spacingAndGlyphs\" textLength=\"40\" x=\"35\" y=\"63.1387\">«part»</text><text fill=\"#000000\" font-family=\"sans-serif\" font-size=\"12\" lengthAdjust=\"spacingAndGlyphs\" textLength=\"40\" x=\"35\" y=\"77.1074\">p2: P1</text><line style=\"stroke: #383838; stroke-width: 1.5;\" x1=\"33\" x2=\"77\" y1=\"84.9375\" y2=\"84.9375\"/><text fill=\"#000000\" font-family=\"sans-serif\" font-size=\"11\" lengthAdjust=\"spacingAndGlyphs\" textLength=\"32\" x=\"38\" y=\"115.9526\">pdest</text><line style=\"stroke: #383838; stroke-width: 1.0;\" x1=\"33\" x2=\"40\" y1=\"99.3398\" y2=\"99.3398\"/><text fill=\"#000000\" font-family=\"sans-serif\" font-size=\"11\" lengthAdjust=\"spacingAndGlyphs\" textLength=\"30\" x=\"40\" y=\"102.6479\">ports</text><line style=\"stroke: #383838; stroke-width: 1.0;\" x1=\"70\" x2=\"77\" y1=\"99.3398\" y2=\"99.3398\"/></a><!--MD5=[185131fc0dcab0a4505a2ebe144e961b]\n",
       "link E4 to E2--><a href=\"psysml:5073669c-7652-4dd2-8e27-7490931f0c73\" target=\"_top\" title=\"psysml:5073669c-7652-4dd2-8e27-7490931f0c73\" xlink:actuate=\"onRequest\" xlink:href=\"psysml:5073669c-7652-4dd2-8e27-7490931f0c73\" xlink:show=\"new\" xlink:title=\"psysml:5073669c-7652-4dd2-8e27-7490931f0c73\" xlink:type=\"simple\"><path d=\"M129,129.15 C129,129.15 129,168.63 129,168.63 \" fill=\"none\" id=\"E4-&gt;E2\" style=\"stroke: #383838; stroke-width: 1.0;\"/><polygon fill=\"#FFFFFF\" points=\"129,188.63,122,169.63,136,169.63,129,188.63\" style=\"stroke: #383838; stroke-width: 1.0;\"/><ellipse cx=\"124\" cy=\"163.93\" fill=\"#383838\" rx=\"2\" ry=\"2\" style=\"stroke: #383838; stroke-width: 1.0;\"/><ellipse cx=\"134\" cy=\"163.93\" fill=\"#383838\" rx=\"2\" ry=\"2\" style=\"stroke: #383838; stroke-width: 1.0;\"/></a><!--MD5=[2351f337d6de0f557b50152ba70847b5]\n",
       "link E6 to E2--><a href=\"psysml:94875f8e-b487-466f-9f77-0e1d93a514ac\" target=\"_top\" title=\"psysml:94875f8e-b487-466f-9f77-0e1d93a514ac\" xlink:actuate=\"onRequest\" xlink:href=\"psysml:94875f8e-b487-466f-9f77-0e1d93a514ac\" xlink:show=\"new\" xlink:title=\"psysml:94875f8e-b487-466f-9f77-0e1d93a514ac\" xlink:type=\"simple\"><path d=\"M78.37,85 C87.58,85 96,85 96,85 C96,85 96,168.95 96,168.95 \" fill=\"none\" id=\"E6-&gt;E2\" style=\"stroke: #383838; stroke-width: 1.0;\"/><polygon fill=\"#FFFFFF\" points=\"96,188.95,89,169.95,103,169.95,96,188.95\" style=\"stroke: #383838; stroke-width: 1.0;\"/><ellipse cx=\"91\" cy=\"164.25\" fill=\"#383838\" rx=\"2\" ry=\"2\" style=\"stroke: #383838; stroke-width: 1.0;\"/><ellipse cx=\"101\" cy=\"164.25\" fill=\"#383838\" rx=\"2\" ry=\"2\" style=\"stroke: #383838; stroke-width: 1.0;\"/></a><!--MD5=[a1e0dd5990ea28b53c0e4e33018daf76]\n",
       "@startuml\r\n",
       "skinparam linetype ortho\r\n",
       "skinparam monochrome true\r\n",
       "skinparam classbackgroundcolor white\r\n",
       "skinparam shadowing false\r\n",
       "skinparam wrapWidth 300\r\n",
       "hide circle\r\n",
       "\r\n",
       "package \"AliasTest\" as E1  [[psysml:2a952753-6cea-46c9-bb61-930b04eb3411 ]]  {\r\n",
       "comp def \"P1\" as E2  <<(T,blue) part def>> [[psysml:92b6686b-ceec-4d5e-ab27-24733762f61c ]] {\r\n",
       "- - ports - -\r\n",
       "porig1\r\n",
       "}\r\n",
       "comp usage \"p1: P1\" as E4  <<(T,blue) part>> [[psysml:2b3d4312-7497-4457-990a-6ee5375442c5 ]] {\r\n",
       "- - ports - -\r\n",
       "po1\\n//:>>P1::porig1// \r\n",
       "}\r\n",
       "comp usage \"p2: P1\" as E6  <<(T,blue) part>> [[psysml:09e69c42-70ff-4aed-b93c-c140a8b906a0 ]] {\r\n",
       "- - ports - -\r\n",
       "pdest\r\n",
       "}\r\n",
       "E4 - -:|> E2 [[psysml:5073669c-7652-4dd2-8e27-7490931f0c73 ]] \r\n",
       "E6 - -:|> E2 [[psysml:94875f8e-b487-466f-9f77-0e1d93a514ac ]] \r\n",
       "}\r\n",
       "@enduml\r\n",
       "\n",
       "PlantUML version 1.2020.13(Sat Jun 13 12:26:38 UTC 2020)\n",
       "(EPL source distribution)\n",
       "Java Runtime: OpenJDK Runtime Environment\n",
       "JVM: OpenJDK 64-Bit Server VM\n",
       "Default Encoding: UTF-8\n",
       "Language: en\n",
       "Country: null\n",
       "--></g></svg>"
      ]
     },
     "execution_count": 51,
     "metadata": {},
     "output_type": "execute_result"
    }
   ],
   "source": [
    "%viz --style=\"ORTHOLINE\" --view=\"Default\" \"AliasTest\""
   ]
  },
  {
   "cell_type": "code",
   "execution_count": 52,
   "id": "d0f203e7",
   "metadata": {
    "execution": {
     "iopub.execute_input": "2021-06-30T09:16:11.301859Z",
     "iopub.status.busy": "2021-06-30T09:16:11.301511Z",
     "iopub.status.idle": "2021-06-30T09:16:11.374211Z",
     "shell.execute_reply": "2021-06-30T09:16:11.372635Z"
    }
   },
   "outputs": [
    {
     "data": {
      "image/svg+xml": [
       "<?xml version=\"1.0\" encoding=\"UTF-8\" standalone=\"no\"?><svg xmlns=\"http://www.w3.org/2000/svg\" xmlns:xlink=\"http://www.w3.org/1999/xlink\" contentScriptType=\"application/ecmascript\" contentStyleType=\"text/css\" height=\"293px\" preserveAspectRatio=\"none\" style=\"width:243px;height:293px;\" version=\"1.1\" viewBox=\"0 0 243 293\" width=\"243px\" zoomAndPan=\"magnify\"><defs/><g><!--MD5=[fbc87193dbaf4d95561dea2c320d4a47]\n",
       "cluster E1--><a href=\"psysml:2a952753-6cea-46c9-bb61-930b04eb3411\" target=\"_top\" title=\"psysml:2a952753-6cea-46c9-bb61-930b04eb3411\" xlink:actuate=\"onRequest\" xlink:href=\"psysml:2a952753-6cea-46c9-bb61-930b04eb3411\" xlink:show=\"new\" xlink:title=\"psysml:2a952753-6cea-46c9-bb61-930b04eb3411\" xlink:type=\"simple\"><polygon fill=\"#FFFFFF\" points=\"16,6,94,6,101,28.2969,221,28.2969,221,281,16,281,16,6\" style=\"stroke: #000000; stroke-width: 1.5;\"/><line style=\"stroke: #000000; stroke-width: 1.5;\" x1=\"16\" x2=\"101\" y1=\"28.2969\" y2=\"28.2969\"/><text fill=\"#000000\" font-family=\"sans-serif\" font-size=\"14\" font-weight=\"bold\" lengthAdjust=\"spacingAndGlyphs\" textLength=\"72\" x=\"20\" y=\"20.9951\">AliasTest</text></a><!--MD5=[b4997ac47864f28c2f74865a473b2911]\n",
       "class E2--><a href=\"psysml:92b6686b-ceec-4d5e-ab27-24733762f61c\" target=\"_top\" title=\"psysml:92b6686b-ceec-4d5e-ab27-24733762f61c\" xlink:actuate=\"onRequest\" xlink:href=\"psysml:92b6686b-ceec-4d5e-ab27-24733762f61c\" xlink:show=\"new\" xlink:title=\"psysml:92b6686b-ceec-4d5e-ab27-24733762f61c\" xlink:type=\"simple\"><rect fill=\"#FFFFFF\" height=\"75.5469\" id=\"E2\" style=\"stroke: #383838; stroke-width: 1.5;\" width=\"66\" x=\"79\" y=\"189\"/><text fill=\"#000000\" font-family=\"sans-serif\" font-size=\"12\" font-style=\"italic\" lengthAdjust=\"spacingAndGlyphs\" textLength=\"64\" x=\"80\" y=\"205.1387\">«part def»</text><text fill=\"#000000\" font-family=\"sans-serif\" font-size=\"12\" lengthAdjust=\"spacingAndGlyphs\" textLength=\"16\" x=\"104\" y=\"219.1074\">P1</text><line style=\"stroke: #383838; stroke-width: 1.5;\" x1=\"80\" x2=\"144\" y1=\"226.9375\" y2=\"226.9375\"/><text fill=\"#000000\" font-family=\"sans-serif\" font-size=\"11\" lengthAdjust=\"spacingAndGlyphs\" textLength=\"36\" x=\"85\" y=\"257.9526\">porig1</text><line style=\"stroke: #383838; stroke-width: 1.0;\" x1=\"80\" x2=\"97\" y1=\"241.3398\" y2=\"241.3398\"/><text fill=\"#000000\" font-family=\"sans-serif\" font-size=\"11\" lengthAdjust=\"spacingAndGlyphs\" textLength=\"30\" x=\"97\" y=\"244.6479\">ports</text><line style=\"stroke: #383838; stroke-width: 1.0;\" x1=\"127\" x2=\"144\" y1=\"241.3398\" y2=\"241.3398\"/></a><!--MD5=[ebbe1d658d1005bcc118a6aa81145e00]\n",
       "class E4--><a href=\"psysml:2b3d4312-7497-4457-990a-6ee5375442c5\" target=\"_top\" title=\"psysml:2b3d4312-7497-4457-990a-6ee5375442c5\" xlink:actuate=\"onRequest\" xlink:href=\"psysml:2b3d4312-7497-4457-990a-6ee5375442c5\" xlink:show=\"new\" xlink:title=\"psysml:2b3d4312-7497-4457-990a-6ee5375442c5\" xlink:type=\"simple\"><rect fill=\"#FFFFFF\" height=\"88.3516\" id=\"E4\" rx=\"10\" ry=\"10\" style=\"stroke: #383838; stroke-width: 1.5;\" width=\"92\" x=\"113\" y=\"41\"/><text fill=\"#000000\" font-family=\"sans-serif\" font-size=\"12\" font-style=\"italic\" lengthAdjust=\"spacingAndGlyphs\" textLength=\"40\" x=\"139\" y=\"57.1387\">«part»</text><text fill=\"#000000\" font-family=\"sans-serif\" font-size=\"12\" lengthAdjust=\"spacingAndGlyphs\" textLength=\"40\" x=\"139\" y=\"71.1074\">p1: P1</text><line style=\"stroke: #383838; stroke-width: 1.5;\" x1=\"114\" x2=\"204\" y1=\"78.9375\" y2=\"78.9375\"/><text fill=\"#000000\" font-family=\"sans-serif\" font-size=\"11\" lengthAdjust=\"spacingAndGlyphs\" textLength=\"21\" x=\"119\" y=\"109.9526\">po1</text><text fill=\"#000000\" font-family=\"sans-serif\" font-size=\"11\" font-style=\"italic\" lengthAdjust=\"spacingAndGlyphs\" textLength=\"80\" x=\"119\" y=\"122.7573\">:&gt;&gt;P1::porig1</text><line style=\"stroke: #383838; stroke-width: 1.0;\" x1=\"114\" x2=\"144\" y1=\"93.3398\" y2=\"93.3398\"/><text fill=\"#000000\" font-family=\"sans-serif\" font-size=\"11\" lengthAdjust=\"spacingAndGlyphs\" textLength=\"30\" x=\"144\" y=\"96.6479\">ports</text><line style=\"stroke: #383838; stroke-width: 1.0;\" x1=\"174\" x2=\"204\" y1=\"93.3398\" y2=\"93.3398\"/></a><!--MD5=[60a26617385b1d2d0262a64233df1f8d]\n",
       "class E6--><a href=\"psysml:09e69c42-70ff-4aed-b93c-c140a8b906a0\" target=\"_top\" title=\"psysml:09e69c42-70ff-4aed-b93c-c140a8b906a0\" xlink:actuate=\"onRequest\" xlink:href=\"psysml:09e69c42-70ff-4aed-b93c-c140a8b906a0\" xlink:show=\"new\" xlink:title=\"psysml:09e69c42-70ff-4aed-b93c-c140a8b906a0\" xlink:type=\"simple\"><rect fill=\"#FFFFFF\" height=\"75.5469\" id=\"E6\" rx=\"10\" ry=\"10\" style=\"stroke: #383838; stroke-width: 1.5;\" width=\"46\" x=\"32\" y=\"47\"/><text fill=\"#000000\" font-family=\"sans-serif\" font-size=\"12\" font-style=\"italic\" lengthAdjust=\"spacingAndGlyphs\" textLength=\"40\" x=\"35\" y=\"63.1387\">«part»</text><text fill=\"#000000\" font-family=\"sans-serif\" font-size=\"12\" lengthAdjust=\"spacingAndGlyphs\" textLength=\"40\" x=\"35\" y=\"77.1074\">p2: P1</text><line style=\"stroke: #383838; stroke-width: 1.5;\" x1=\"33\" x2=\"77\" y1=\"84.9375\" y2=\"84.9375\"/><text fill=\"#000000\" font-family=\"sans-serif\" font-size=\"11\" lengthAdjust=\"spacingAndGlyphs\" textLength=\"32\" x=\"38\" y=\"115.9526\">pdest</text><line style=\"stroke: #383838; stroke-width: 1.0;\" x1=\"33\" x2=\"40\" y1=\"99.3398\" y2=\"99.3398\"/><text fill=\"#000000\" font-family=\"sans-serif\" font-size=\"11\" lengthAdjust=\"spacingAndGlyphs\" textLength=\"30\" x=\"40\" y=\"102.6479\">ports</text><line style=\"stroke: #383838; stroke-width: 1.0;\" x1=\"70\" x2=\"77\" y1=\"99.3398\" y2=\"99.3398\"/></a><!--MD5=[185131fc0dcab0a4505a2ebe144e961b]\n",
       "link E4 to E2--><a href=\"psysml:5073669c-7652-4dd2-8e27-7490931f0c73\" target=\"_top\" title=\"psysml:5073669c-7652-4dd2-8e27-7490931f0c73\" xlink:actuate=\"onRequest\" xlink:href=\"psysml:5073669c-7652-4dd2-8e27-7490931f0c73\" xlink:show=\"new\" xlink:title=\"psysml:5073669c-7652-4dd2-8e27-7490931f0c73\" xlink:type=\"simple\"><path d=\"M129,129.15 C129,129.15 129,168.63 129,168.63 \" fill=\"none\" id=\"E4-&gt;E2\" style=\"stroke: #383838; stroke-width: 1.0;\"/><polygon fill=\"#FFFFFF\" points=\"129,188.63,122,169.63,136,169.63,129,188.63\" style=\"stroke: #383838; stroke-width: 1.0;\"/><ellipse cx=\"124\" cy=\"163.93\" fill=\"#383838\" rx=\"2\" ry=\"2\" style=\"stroke: #383838; stroke-width: 1.0;\"/><ellipse cx=\"134\" cy=\"163.93\" fill=\"#383838\" rx=\"2\" ry=\"2\" style=\"stroke: #383838; stroke-width: 1.0;\"/></a><!--MD5=[2351f337d6de0f557b50152ba70847b5]\n",
       "link E6 to E2--><a href=\"psysml:94875f8e-b487-466f-9f77-0e1d93a514ac\" target=\"_top\" title=\"psysml:94875f8e-b487-466f-9f77-0e1d93a514ac\" xlink:actuate=\"onRequest\" xlink:href=\"psysml:94875f8e-b487-466f-9f77-0e1d93a514ac\" xlink:show=\"new\" xlink:title=\"psysml:94875f8e-b487-466f-9f77-0e1d93a514ac\" xlink:type=\"simple\"><path d=\"M78.37,85 C87.58,85 96,85 96,85 C96,85 96,168.95 96,168.95 \" fill=\"none\" id=\"E6-&gt;E2\" style=\"stroke: #383838; stroke-width: 1.0;\"/><polygon fill=\"#FFFFFF\" points=\"96,188.95,89,169.95,103,169.95,96,188.95\" style=\"stroke: #383838; stroke-width: 1.0;\"/><ellipse cx=\"91\" cy=\"164.25\" fill=\"#383838\" rx=\"2\" ry=\"2\" style=\"stroke: #383838; stroke-width: 1.0;\"/><ellipse cx=\"101\" cy=\"164.25\" fill=\"#383838\" rx=\"2\" ry=\"2\" style=\"stroke: #383838; stroke-width: 1.0;\"/></a><!--MD5=[a1e0dd5990ea28b53c0e4e33018daf76]\n",
       "@startuml\r\n",
       "skinparam linetype ortho\r\n",
       "skinparam monochrome true\r\n",
       "skinparam classbackgroundcolor white\r\n",
       "skinparam shadowing false\r\n",
       "skinparam wrapWidth 300\r\n",
       "hide circle\r\n",
       "\r\n",
       "package \"AliasTest\" as E1  [[psysml:2a952753-6cea-46c9-bb61-930b04eb3411 ]]  {\r\n",
       "comp def \"P1\" as E2  <<(T,blue) part def>> [[psysml:92b6686b-ceec-4d5e-ab27-24733762f61c ]] {\r\n",
       "- - ports - -\r\n",
       "porig1\r\n",
       "}\r\n",
       "comp usage \"p1: P1\" as E4  <<(T,blue) part>> [[psysml:2b3d4312-7497-4457-990a-6ee5375442c5 ]] {\r\n",
       "- - ports - -\r\n",
       "po1\\n//:>>P1::porig1// \r\n",
       "}\r\n",
       "comp usage \"p2: P1\" as E6  <<(T,blue) part>> [[psysml:09e69c42-70ff-4aed-b93c-c140a8b906a0 ]] {\r\n",
       "- - ports - -\r\n",
       "pdest\r\n",
       "}\r\n",
       "E4 - -:|> E2 [[psysml:5073669c-7652-4dd2-8e27-7490931f0c73 ]] \r\n",
       "E6 - -:|> E2 [[psysml:94875f8e-b487-466f-9f77-0e1d93a514ac ]] \r\n",
       "}\r\n",
       "@enduml\r\n",
       "\n",
       "PlantUML version 1.2020.13(Sat Jun 13 12:26:38 UTC 2020)\n",
       "(EPL source distribution)\n",
       "Java Runtime: OpenJDK Runtime Environment\n",
       "JVM: OpenJDK 64-Bit Server VM\n",
       "Default Encoding: UTF-8\n",
       "Language: en\n",
       "Country: null\n",
       "--></g></svg>"
      ]
     },
     "execution_count": 52,
     "metadata": {},
     "output_type": "execute_result"
    }
   ],
   "source": [
    "%viz --style=\"ORTHOLINE\" --view=\"Tree\" \"AliasTest\""
   ]
  },
  {
   "cell_type": "code",
   "execution_count": 53,
   "id": "8b79ceca",
   "metadata": {
    "execution": {
     "iopub.execute_input": "2021-06-30T09:16:11.426358Z",
     "iopub.status.busy": "2021-06-30T09:16:11.425533Z",
     "iopub.status.idle": "2021-06-30T09:16:11.432695Z",
     "shell.execute_reply": "2021-06-30T09:16:11.432240Z"
    }
   },
   "outputs": [
    {
     "data": {
      "image/svg+xml": [
       "<?xml version=\"1.0\" encoding=\"UTF-8\" standalone=\"no\"?><svg xmlns=\"http://www.w3.org/2000/svg\" xmlns:xlink=\"http://www.w3.org/1999/xlink\" contentScriptType=\"application/ecmascript\" contentStyleType=\"text/css\" height=\"12px\" preserveAspectRatio=\"none\" style=\"width:12px;height:12px;\" version=\"1.1\" viewBox=\"0 0 12 12\" width=\"12px\" zoomAndPan=\"magnify\"><defs/><g><!--MD5=[97d6f38768b311333d388e66b2b27985]\n",
       "@startuml\r\n",
       "skinparam linetype ortho\r\n",
       "skinparam monochrome true\r\n",
       "skinparam classbackgroundcolor white\r\n",
       "skinparam shadowing false\r\n",
       "skinparam wrapWidth 300\r\n",
       "hide circle\r\n",
       "\r\n",
       "@enduml\r\n",
       "\n",
       "PlantUML version 1.2020.13(Sat Jun 13 12:26:38 UTC 2020)\n",
       "(EPL source distribution)\n",
       "Java Runtime: OpenJDK Runtime Environment\n",
       "JVM: OpenJDK 64-Bit Server VM\n",
       "Default Encoding: UTF-8\n",
       "Language: en\n",
       "Country: null\n",
       "--></g></svg>"
      ]
     },
     "execution_count": 53,
     "metadata": {},
     "output_type": "execute_result"
    }
   ],
   "source": [
    "%viz --style=\"ORTHOLINE\" --view=\"State\" \"AliasTest\""
   ]
  },
  {
   "cell_type": "code",
   "execution_count": 54,
   "id": "ed582fdb",
   "metadata": {
    "execution": {
     "iopub.execute_input": "2021-06-30T09:16:11.483677Z",
     "iopub.status.busy": "2021-06-30T09:16:11.482806Z",
     "iopub.status.idle": "2021-06-30T09:16:11.526790Z",
     "shell.execute_reply": "2021-06-30T09:16:11.524995Z"
    }
   },
   "outputs": [
    {
     "data": {
      "image/svg+xml": [
       "<?xml version=\"1.0\" encoding=\"UTF-8\" standalone=\"no\"?><svg xmlns=\"http://www.w3.org/2000/svg\" xmlns:xlink=\"http://www.w3.org/1999/xlink\" contentScriptType=\"application/ecmascript\" contentStyleType=\"text/css\" height=\"207px\" preserveAspectRatio=\"none\" style=\"width:406px;height:207px;\" version=\"1.1\" viewBox=\"0 0 406 207\" width=\"406px\" zoomAndPan=\"magnify\"><defs/><g><!--MD5=[fbc87193dbaf4d95561dea2c320d4a47]\n",
       "cluster E1--><a href=\"psysml:2a952753-6cea-46c9-bb61-930b04eb3411\" target=\"_top\" title=\"psysml:2a952753-6cea-46c9-bb61-930b04eb3411\" xlink:actuate=\"onRequest\" xlink:href=\"psysml:2a952753-6cea-46c9-bb61-930b04eb3411\" xlink:show=\"new\" xlink:title=\"psysml:2a952753-6cea-46c9-bb61-930b04eb3411\" xlink:type=\"simple\"><polygon fill=\"#FFFFFF\" points=\"16,6,94,6,101,28.2969,384,28.2969,384,195,16,195,16,6\" style=\"stroke: #000000; stroke-width: 1.5;\"/><line style=\"stroke: #000000; stroke-width: 1.5;\" x1=\"16\" x2=\"101\" y1=\"28.2969\" y2=\"28.2969\"/><text fill=\"#000000\" font-family=\"sans-serif\" font-size=\"14\" font-weight=\"bold\" lengthAdjust=\"spacingAndGlyphs\" textLength=\"72\" x=\"20\" y=\"20.9951\">AliasTest</text></a><!--MD5=[e4f7fae6ed58524ba242bb0b0d3be6b7]\n",
       "cluster E2--><a href=\"psysml:92b6686b-ceec-4d5e-ab27-24733762f61c\" target=\"_top\" title=\"psysml:92b6686b-ceec-4d5e-ab27-24733762f61c\" xlink:actuate=\"onRequest\" xlink:href=\"psysml:92b6686b-ceec-4d5e-ab27-24733762f61c\" xlink:show=\"new\" xlink:title=\"psysml:92b6686b-ceec-4d5e-ab27-24733762f61c\" xlink:type=\"simple\"><rect fill=\"#FFFFFF\" height=\"73\" id=\"E2\" style=\"stroke: #383838; stroke-width: 1.5;\" width=\"83\" x=\"244\" y=\"55\"/><rect fill=\"#F8F8F8\" height=\"37.9375\" style=\"stroke: #383838; stroke-width: 1.5;\" width=\"83\" x=\"244\" y=\"55\"/><text fill=\"#000000\" font-family=\"sans-serif\" font-size=\"12\" font-style=\"italic\" lengthAdjust=\"spacingAndGlyphs\" textLength=\"64\" x=\"253.5\" y=\"71.1387\">«part def»</text><text fill=\"#000000\" font-family=\"sans-serif\" font-size=\"12\" lengthAdjust=\"spacingAndGlyphs\" textLength=\"16\" x=\"277.5\" y=\"85.1074\">P1</text></a><!--MD5=[de5ec2e2e8f62f467e546659f5068c88]\n",
       "cluster E5--><a href=\"psysml:2b3d4312-7497-4457-990a-6ee5375442c5\" target=\"_top\" title=\"psysml:2b3d4312-7497-4457-990a-6ee5375442c5\" xlink:actuate=\"onRequest\" xlink:href=\"psysml:2b3d4312-7497-4457-990a-6ee5375442c5\" xlink:show=\"new\" xlink:title=\"psysml:2b3d4312-7497-4457-990a-6ee5375442c5\" xlink:type=\"simple\"><rect fill=\"#FFFFFF\" height=\"84.5\" id=\"E5\" rx=\"10\" ry=\"10\" style=\"stroke: #383838; stroke-width: 1.5;\" width=\"101\" x=\"139\" y=\"94.5\"/><rect fill=\"#F8F8F8\" height=\"23.9688\" rx=\"10\" ry=\"10\" style=\"stroke: #F8F8F8; stroke-width: 1.5;\" width=\"101\" x=\"139\" y=\"94.5\"/><rect fill=\"#F8F8F8\" height=\"10\" style=\"stroke: #F8F8F8; stroke-width: 1.5;\" width=\"101\" x=\"139\" y=\"108.4688\"/><rect fill=\"none\" height=\"84.5\" id=\"E5\" rx=\"10\" ry=\"10\" style=\"stroke: #383838; stroke-width: 1.5;\" width=\"101\" x=\"139\" y=\"94.5\"/><text fill=\"#000000\" font-family=\"sans-serif\" font-size=\"12\" lengthAdjust=\"spacingAndGlyphs\" textLength=\"40\" x=\"169.5\" y=\"110.6387\">p1: P1</text><line style=\"stroke: #383838; stroke-width: 1.0;\" x1=\"139\" x2=\"240\" y1=\"118.4688\" y2=\"118.4688\"/></a><!--MD5=[168fadf3d0c3fd93dd5d6da1b1d7ab76]\n",
       "cluster E7--><a href=\"psysml:09e69c42-70ff-4aed-b93c-c140a8b906a0\" target=\"_top\" title=\"psysml:09e69c42-70ff-4aed-b93c-c140a8b906a0\" xlink:actuate=\"onRequest\" xlink:href=\"psysml:09e69c42-70ff-4aed-b93c-c140a8b906a0\" xlink:show=\"new\" xlink:title=\"psysml:09e69c42-70ff-4aed-b93c-c140a8b906a0\" xlink:type=\"simple\"><rect fill=\"#FFFFFF\" height=\"65\" id=\"E7\" rx=\"10\" ry=\"10\" style=\"stroke: #383838; stroke-width: 1.5;\" width=\"83\" x=\"53\" y=\"55\"/><rect fill=\"#F8F8F8\" height=\"23.9688\" rx=\"10\" ry=\"10\" style=\"stroke: #F8F8F8; stroke-width: 1.5;\" width=\"83\" x=\"53\" y=\"55\"/><rect fill=\"#F8F8F8\" height=\"10\" style=\"stroke: #F8F8F8; stroke-width: 1.5;\" width=\"83\" x=\"53\" y=\"68.9688\"/><rect fill=\"none\" height=\"65\" id=\"E7\" rx=\"10\" ry=\"10\" style=\"stroke: #383838; stroke-width: 1.5;\" width=\"83\" x=\"53\" y=\"55\"/><text fill=\"#000000\" font-family=\"sans-serif\" font-size=\"12\" lengthAdjust=\"spacingAndGlyphs\" textLength=\"40\" x=\"74.5\" y=\"71.1387\">p2: P1</text><line style=\"stroke: #383838; stroke-width: 1.0;\" x1=\"53\" x2=\"136\" y1=\"78.9688\" y2=\"78.9688\"/></a><text fill=\"#000000\" font-family=\"sans-serif\" font-size=\"14\" lengthAdjust=\"spacingAndGlyphs\" textLength=\"44\" x=\"240\" y=\"33.6982\">porig1</text><rect fill=\"#383838\" height=\"12\" style=\"stroke: #F8F8F8; stroke-width: 1.5;\" width=\"12\" x=\"256\" y=\"49\"/><text fill=\"#000000\" font-family=\"sans-serif\" font-size=\"14\" lengthAdjust=\"spacingAndGlyphs\" textLength=\"44\" x=\"287\" y=\"33.6982\">porig1</text><rect fill=\"#383838\" height=\"12\" style=\"stroke: #F8F8F8; stroke-width: 1.5;\" width=\"12\" x=\"303\" y=\"49\"/><text fill=\"#000000\" font-family=\"sans-serif\" font-size=\"14\" lengthAdjust=\"spacingAndGlyphs\" textLength=\"27\" x=\"143.5\" y=\"73.1982\">po1</text><rect fill=\"#383838\" height=\"12\" style=\"stroke: #F8F8F8; stroke-width: 1.5;\" width=\"12\" x=\"151\" y=\"88.5\"/><text fill=\"#000000\" font-family=\"sans-serif\" font-size=\"14\" lengthAdjust=\"spacingAndGlyphs\" textLength=\"40\" x=\"51\" y=\"33.6982\">pdest</text><rect fill=\"#383838\" height=\"12\" style=\"stroke: #F8F8F8; stroke-width: 1.5;\" width=\"12\" x=\"65\" y=\"49\"/><text fill=\"#000000\" font-family=\"sans-serif\" font-size=\"14\" lengthAdjust=\"spacingAndGlyphs\" textLength=\"40\" x=\"98\" y=\"33.6982\">pdest</text><rect fill=\"#383838\" height=\"12\" style=\"stroke: #F8F8F8; stroke-width: 1.5;\" width=\"12\" x=\"112\" y=\"49\"/><!--MD5=[60ac2c0cde89d4308155b0484e57a8ec]\n",
       "link E9 to E6--><a href=\"psysml:d88f1dc1-ed41-4b97-9842-84a04c2c1d2b\" target=\"_top\" title=\"psysml:d88f1dc1-ed41-4b97-9842-84a04c2c1d2b\" xlink:actuate=\"onRequest\" xlink:href=\"psysml:d88f1dc1-ed41-4b97-9842-84a04c2c1d2b\" xlink:show=\"new\" xlink:title=\"psysml:d88f1dc1-ed41-4b97-9842-84a04c2c1d2b\" xlink:type=\"simple\"><path d=\"M121.88,61.25 C121.88,72.5 121.88,95 121.88,95 C121.88,95 140.82,95 150.88,95 \" fill=\"none\" id=\"E9-E6\" style=\"stroke: #383838; stroke-width: 3.0;\"/></a><!--MD5=[60ac2c0cde89d4308155b0484e57a8ec]\n",
       "link E9 to E6--><a href=\"psysml:619a1562-63e5-4ed2-9546-f25d2cdc049d\" target=\"_top\" title=\"psysml:619a1562-63e5-4ed2-9546-f25d2cdc049d\" xlink:actuate=\"onRequest\" xlink:href=\"psysml:619a1562-63e5-4ed2-9546-f25d2cdc049d\" xlink:show=\"new\" xlink:title=\"psysml:619a1562-63e5-4ed2-9546-f25d2cdc049d\" xlink:type=\"simple\"><path d=\"M119.75,61.34 C119.75,73.31 119.75,98 119.75,98 C119.75,98 140.27,98 150.85,98 \" fill=\"none\" id=\"E9-E6-1\" style=\"stroke: #383838; stroke-width: 3.0;\"/></a><!--MD5=[34083851ba38c6a9e281bb221df3fead]\n",
       "@startuml\r\n",
       "skinparam ranksep 10\r\n",
       "skinparam rectangle {\r\n",
       " backgroundColor<<block>> LightGreen\r\n",
       "}\r\n",
       "skinparam linetype ortho\r\n",
       "skinparam monochrome true\r\n",
       "skinparam classbackgroundcolor white\r\n",
       "skinparam shadowing false\r\n",
       "skinparam wrapWidth 300\r\n",
       "hide circle\r\n",
       "\r\n",
       "package \"AliasTest\" as E1  [[psysml:2a952753-6cea-46c9-bb61-930b04eb3411 ]]  {\r\n",
       "rec def \"P1\" as E2  <<(T,blue) part def>> [[psysml:92b6686b-ceec-4d5e-ab27-24733762f61c ]] {\r\n",
       "portin \"porig1\" as E3  <<(T,blue) port>> [[psysml:ea24ffa6-0b43-4ed9-8037-2e87c3ddc217 ]] \r\n",
       "portin \"porig1\" as E4  <<(T,blue) port>> [[psysml:ea24ffa6-0b43-4ed9-8037-2e87c3ddc217 ]] \r\n",
       "}\r\n",
       "rec usage \"p1: P1\" as E5  [[psysml:2b3d4312-7497-4457-990a-6ee5375442c5 ]] {\r\n",
       "portin \"po1\" as E6  <<(T,blue) port>> [[psysml:dd05f1a1-221f-4ab1-8a14-dfadf20b8a26 ]] \r\n",
       "}\r\n",
       "rec usage \"p2: P1\" as E7  [[psysml:09e69c42-70ff-4aed-b93c-c140a8b906a0 ]] {\r\n",
       "portin \"pdest\" as E8  <<(T,blue) port>> [[psysml:af7521ab-a154-4c67-8a1e-396c259ea1b5 ]] \r\n",
       "portin \"pdest\" as E9  <<(T,blue) port>> [[psysml:af7521ab-a154-4c67-8a1e-396c259ea1b5 ]] \r\n",
       "}\r\n",
       "E9 -[thickness=3]- E6 [[psysml:d88f1dc1-ed41-4b97-9842-84a04c2c1d2b ]] \r\n",
       "E9 -[thickness=3]- E6 [[psysml:619a1562-63e5-4ed2-9546-f25d2cdc049d ]] \r\n",
       "}\r\n",
       "@enduml\r\n",
       "\n",
       "PlantUML version 1.2020.13(Sat Jun 13 12:26:38 UTC 2020)\n",
       "(EPL source distribution)\n",
       "Java Runtime: OpenJDK Runtime Environment\n",
       "JVM: OpenJDK 64-Bit Server VM\n",
       "Default Encoding: UTF-8\n",
       "Language: en\n",
       "Country: null\n",
       "--></g></svg>"
      ]
     },
     "execution_count": 54,
     "metadata": {},
     "output_type": "execute_result"
    }
   ],
   "source": [
    "%viz --style=\"ORTHOLINE\" --view=\"Interconnection\" \"AliasTest\""
   ]
  },
  {
   "cell_type": "code",
   "execution_count": 55,
   "id": "7a9e2df4",
   "metadata": {
    "execution": {
     "iopub.execute_input": "2021-06-30T09:16:11.576709Z",
     "iopub.status.busy": "2021-06-30T09:16:11.575659Z",
     "iopub.status.idle": "2021-06-30T09:16:11.586887Z",
     "shell.execute_reply": "2021-06-30T09:16:11.586201Z"
    }
   },
   "outputs": [
    {
     "data": {
      "image/svg+xml": [
       "<?xml version=\"1.0\" encoding=\"UTF-8\" standalone=\"no\"?><svg xmlns=\"http://www.w3.org/2000/svg\" xmlns:xlink=\"http://www.w3.org/1999/xlink\" contentScriptType=\"application/ecmascript\" contentStyleType=\"text/css\" height=\"12px\" preserveAspectRatio=\"none\" style=\"width:12px;height:12px;\" version=\"1.1\" viewBox=\"0 0 12 12\" width=\"12px\" zoomAndPan=\"magnify\"><defs/><g><!--MD5=[72934c63077099a26744516a776b4749]\n",
       "@startuml\r\n",
       "skinparam ranksep 8\r\n",
       "skinparam linetype ortho\r\n",
       "skinparam monochrome true\r\n",
       "skinparam classbackgroundcolor white\r\n",
       "skinparam shadowing false\r\n",
       "skinparam wrapWidth 300\r\n",
       "hide circle\r\n",
       "\r\n",
       "@enduml\r\n",
       "\n",
       "PlantUML version 1.2020.13(Sat Jun 13 12:26:38 UTC 2020)\n",
       "(EPL source distribution)\n",
       "Java Runtime: OpenJDK Runtime Environment\n",
       "JVM: OpenJDK 64-Bit Server VM\n",
       "Default Encoding: UTF-8\n",
       "Language: en\n",
       "Country: null\n",
       "--></g></svg>"
      ]
     },
     "execution_count": 55,
     "metadata": {},
     "output_type": "execute_result"
    }
   ],
   "source": [
    "%viz --style=\"ORTHOLINE\" --view=\"Action\" \"AliasTest\""
   ]
  },
  {
   "cell_type": "code",
   "execution_count": 56,
   "id": "e9ecbbf6",
   "metadata": {
    "execution": {
     "iopub.execute_input": "2021-06-30T09:16:11.634745Z",
     "iopub.status.busy": "2021-06-30T09:16:11.634184Z",
     "iopub.status.idle": "2021-06-30T09:16:11.703797Z",
     "shell.execute_reply": "2021-06-30T09:16:11.703448Z"
    }
   },
   "outputs": [
    {
     "data": {
      "image/svg+xml": [
       "<?xml version=\"1.0\" encoding=\"UTF-8\" standalone=\"no\"?><svg xmlns=\"http://www.w3.org/2000/svg\" xmlns:xlink=\"http://www.w3.org/1999/xlink\" contentScriptType=\"application/ecmascript\" contentStyleType=\"text/css\" height=\"293px\" preserveAspectRatio=\"none\" style=\"width:243px;height:293px;\" version=\"1.1\" viewBox=\"0 0 243 293\" width=\"243px\" zoomAndPan=\"magnify\"><defs/><g><!--MD5=[fbc87193dbaf4d95561dea2c320d4a47]\n",
       "cluster E1--><a href=\"psysml:2a952753-6cea-46c9-bb61-930b04eb3411\" target=\"_top\" title=\"psysml:2a952753-6cea-46c9-bb61-930b04eb3411\" xlink:actuate=\"onRequest\" xlink:href=\"psysml:2a952753-6cea-46c9-bb61-930b04eb3411\" xlink:show=\"new\" xlink:title=\"psysml:2a952753-6cea-46c9-bb61-930b04eb3411\" xlink:type=\"simple\"><polygon fill=\"#FFFFFF\" points=\"16,6,94,6,101,28.2969,221,28.2969,221,281,16,281,16,6\" style=\"stroke: #000000; stroke-width: 1.5;\"/><line style=\"stroke: #000000; stroke-width: 1.5;\" x1=\"16\" x2=\"101\" y1=\"28.2969\" y2=\"28.2969\"/><text fill=\"#000000\" font-family=\"sans-serif\" font-size=\"14\" font-weight=\"bold\" lengthAdjust=\"spacingAndGlyphs\" textLength=\"72\" x=\"20\" y=\"20.9951\">AliasTest</text></a><!--MD5=[b4997ac47864f28c2f74865a473b2911]\n",
       "class E2--><a href=\"psysml:92b6686b-ceec-4d5e-ab27-24733762f61c\" target=\"_top\" title=\"psysml:92b6686b-ceec-4d5e-ab27-24733762f61c\" xlink:actuate=\"onRequest\" xlink:href=\"psysml:92b6686b-ceec-4d5e-ab27-24733762f61c\" xlink:show=\"new\" xlink:title=\"psysml:92b6686b-ceec-4d5e-ab27-24733762f61c\" xlink:type=\"simple\"><rect fill=\"#FFFFFF\" height=\"75.5469\" id=\"E2\" style=\"stroke: #383838; stroke-width: 1.5;\" width=\"66\" x=\"79\" y=\"189\"/><text fill=\"#000000\" font-family=\"sans-serif\" font-size=\"12\" font-style=\"italic\" lengthAdjust=\"spacingAndGlyphs\" textLength=\"64\" x=\"80\" y=\"205.1387\">«part def»</text><text fill=\"#000000\" font-family=\"sans-serif\" font-size=\"12\" lengthAdjust=\"spacingAndGlyphs\" textLength=\"16\" x=\"104\" y=\"219.1074\">P1</text><line style=\"stroke: #383838; stroke-width: 1.5;\" x1=\"80\" x2=\"144\" y1=\"226.9375\" y2=\"226.9375\"/><text fill=\"#000000\" font-family=\"sans-serif\" font-size=\"11\" lengthAdjust=\"spacingAndGlyphs\" textLength=\"36\" x=\"85\" y=\"257.9526\">porig1</text><line style=\"stroke: #383838; stroke-width: 1.0;\" x1=\"80\" x2=\"97\" y1=\"241.3398\" y2=\"241.3398\"/><text fill=\"#000000\" font-family=\"sans-serif\" font-size=\"11\" lengthAdjust=\"spacingAndGlyphs\" textLength=\"30\" x=\"97\" y=\"244.6479\">ports</text><line style=\"stroke: #383838; stroke-width: 1.0;\" x1=\"127\" x2=\"144\" y1=\"241.3398\" y2=\"241.3398\"/></a><!--MD5=[ebbe1d658d1005bcc118a6aa81145e00]\n",
       "class E4--><a href=\"psysml:2b3d4312-7497-4457-990a-6ee5375442c5\" target=\"_top\" title=\"psysml:2b3d4312-7497-4457-990a-6ee5375442c5\" xlink:actuate=\"onRequest\" xlink:href=\"psysml:2b3d4312-7497-4457-990a-6ee5375442c5\" xlink:show=\"new\" xlink:title=\"psysml:2b3d4312-7497-4457-990a-6ee5375442c5\" xlink:type=\"simple\"><rect fill=\"#FFFFFF\" height=\"88.3516\" id=\"E4\" rx=\"10\" ry=\"10\" style=\"stroke: #383838; stroke-width: 1.5;\" width=\"92\" x=\"113\" y=\"41\"/><text fill=\"#000000\" font-family=\"sans-serif\" font-size=\"12\" font-style=\"italic\" lengthAdjust=\"spacingAndGlyphs\" textLength=\"40\" x=\"139\" y=\"57.1387\">«part»</text><text fill=\"#000000\" font-family=\"sans-serif\" font-size=\"12\" lengthAdjust=\"spacingAndGlyphs\" textLength=\"40\" x=\"139\" y=\"71.1074\">p1: P1</text><line style=\"stroke: #383838; stroke-width: 1.5;\" x1=\"114\" x2=\"204\" y1=\"78.9375\" y2=\"78.9375\"/><text fill=\"#000000\" font-family=\"sans-serif\" font-size=\"11\" lengthAdjust=\"spacingAndGlyphs\" textLength=\"21\" x=\"119\" y=\"109.9526\">po1</text><text fill=\"#000000\" font-family=\"sans-serif\" font-size=\"11\" font-style=\"italic\" lengthAdjust=\"spacingAndGlyphs\" textLength=\"80\" x=\"119\" y=\"122.7573\">:&gt;&gt;P1::porig1</text><line style=\"stroke: #383838; stroke-width: 1.0;\" x1=\"114\" x2=\"144\" y1=\"93.3398\" y2=\"93.3398\"/><text fill=\"#000000\" font-family=\"sans-serif\" font-size=\"11\" lengthAdjust=\"spacingAndGlyphs\" textLength=\"30\" x=\"144\" y=\"96.6479\">ports</text><line style=\"stroke: #383838; stroke-width: 1.0;\" x1=\"174\" x2=\"204\" y1=\"93.3398\" y2=\"93.3398\"/></a><!--MD5=[60a26617385b1d2d0262a64233df1f8d]\n",
       "class E6--><a href=\"psysml:09e69c42-70ff-4aed-b93c-c140a8b906a0\" target=\"_top\" title=\"psysml:09e69c42-70ff-4aed-b93c-c140a8b906a0\" xlink:actuate=\"onRequest\" xlink:href=\"psysml:09e69c42-70ff-4aed-b93c-c140a8b906a0\" xlink:show=\"new\" xlink:title=\"psysml:09e69c42-70ff-4aed-b93c-c140a8b906a0\" xlink:type=\"simple\"><rect fill=\"#FFFFFF\" height=\"75.5469\" id=\"E6\" rx=\"10\" ry=\"10\" style=\"stroke: #383838; stroke-width: 1.5;\" width=\"46\" x=\"32\" y=\"47\"/><text fill=\"#000000\" font-family=\"sans-serif\" font-size=\"12\" font-style=\"italic\" lengthAdjust=\"spacingAndGlyphs\" textLength=\"40\" x=\"35\" y=\"63.1387\">«part»</text><text fill=\"#000000\" font-family=\"sans-serif\" font-size=\"12\" lengthAdjust=\"spacingAndGlyphs\" textLength=\"40\" x=\"35\" y=\"77.1074\">p2: P1</text><line style=\"stroke: #383838; stroke-width: 1.5;\" x1=\"33\" x2=\"77\" y1=\"84.9375\" y2=\"84.9375\"/><text fill=\"#000000\" font-family=\"sans-serif\" font-size=\"11\" lengthAdjust=\"spacingAndGlyphs\" textLength=\"32\" x=\"38\" y=\"115.9526\">pdest</text><line style=\"stroke: #383838; stroke-width: 1.0;\" x1=\"33\" x2=\"40\" y1=\"99.3398\" y2=\"99.3398\"/><text fill=\"#000000\" font-family=\"sans-serif\" font-size=\"11\" lengthAdjust=\"spacingAndGlyphs\" textLength=\"30\" x=\"40\" y=\"102.6479\">ports</text><line style=\"stroke: #383838; stroke-width: 1.0;\" x1=\"70\" x2=\"77\" y1=\"99.3398\" y2=\"99.3398\"/></a><!--MD5=[185131fc0dcab0a4505a2ebe144e961b]\n",
       "link E4 to E2--><a href=\"psysml:5073669c-7652-4dd2-8e27-7490931f0c73\" target=\"_top\" title=\"psysml:5073669c-7652-4dd2-8e27-7490931f0c73\" xlink:actuate=\"onRequest\" xlink:href=\"psysml:5073669c-7652-4dd2-8e27-7490931f0c73\" xlink:show=\"new\" xlink:title=\"psysml:5073669c-7652-4dd2-8e27-7490931f0c73\" xlink:type=\"simple\"><path d=\"M129,129.15 C129,129.15 129,168.63 129,168.63 \" fill=\"none\" id=\"E4-&gt;E2\" style=\"stroke: #383838; stroke-width: 1.0;\"/><polygon fill=\"#FFFFFF\" points=\"129,188.63,122,169.63,136,169.63,129,188.63\" style=\"stroke: #383838; stroke-width: 1.0;\"/><ellipse cx=\"124\" cy=\"163.93\" fill=\"#383838\" rx=\"2\" ry=\"2\" style=\"stroke: #383838; stroke-width: 1.0;\"/><ellipse cx=\"134\" cy=\"163.93\" fill=\"#383838\" rx=\"2\" ry=\"2\" style=\"stroke: #383838; stroke-width: 1.0;\"/></a><!--MD5=[2351f337d6de0f557b50152ba70847b5]\n",
       "link E6 to E2--><a href=\"psysml:94875f8e-b487-466f-9f77-0e1d93a514ac\" target=\"_top\" title=\"psysml:94875f8e-b487-466f-9f77-0e1d93a514ac\" xlink:actuate=\"onRequest\" xlink:href=\"psysml:94875f8e-b487-466f-9f77-0e1d93a514ac\" xlink:show=\"new\" xlink:title=\"psysml:94875f8e-b487-466f-9f77-0e1d93a514ac\" xlink:type=\"simple\"><path d=\"M78.37,85 C87.58,85 96,85 96,85 C96,85 96,168.95 96,168.95 \" fill=\"none\" id=\"E6-&gt;E2\" style=\"stroke: #383838; stroke-width: 1.0;\"/><polygon fill=\"#FFFFFF\" points=\"96,188.95,89,169.95,103,169.95,96,188.95\" style=\"stroke: #383838; stroke-width: 1.0;\"/><ellipse cx=\"91\" cy=\"164.25\" fill=\"#383838\" rx=\"2\" ry=\"2\" style=\"stroke: #383838; stroke-width: 1.0;\"/><ellipse cx=\"101\" cy=\"164.25\" fill=\"#383838\" rx=\"2\" ry=\"2\" style=\"stroke: #383838; stroke-width: 1.0;\"/></a><!--MD5=[a1e0dd5990ea28b53c0e4e33018daf76]\n",
       "@startuml\r\n",
       "skinparam linetype ortho\r\n",
       "skinparam monochrome true\r\n",
       "skinparam classbackgroundcolor white\r\n",
       "skinparam shadowing false\r\n",
       "skinparam wrapWidth 300\r\n",
       "hide circle\r\n",
       "\r\n",
       "package \"AliasTest\" as E1  [[psysml:2a952753-6cea-46c9-bb61-930b04eb3411 ]]  {\r\n",
       "comp def \"P1\" as E2  <<(T,blue) part def>> [[psysml:92b6686b-ceec-4d5e-ab27-24733762f61c ]] {\r\n",
       "- - ports - -\r\n",
       "porig1\r\n",
       "}\r\n",
       "comp usage \"p1: P1\" as E4  <<(T,blue) part>> [[psysml:2b3d4312-7497-4457-990a-6ee5375442c5 ]] {\r\n",
       "- - ports - -\r\n",
       "po1\\n//:>>P1::porig1// \r\n",
       "}\r\n",
       "comp usage \"p2: P1\" as E6  <<(T,blue) part>> [[psysml:09e69c42-70ff-4aed-b93c-c140a8b906a0 ]] {\r\n",
       "- - ports - -\r\n",
       "pdest\r\n",
       "}\r\n",
       "E4 - -:|> E2 [[psysml:5073669c-7652-4dd2-8e27-7490931f0c73 ]] \r\n",
       "E6 - -:|> E2 [[psysml:94875f8e-b487-466f-9f77-0e1d93a514ac ]] \r\n",
       "}\r\n",
       "@enduml\r\n",
       "\n",
       "PlantUML version 1.2020.13(Sat Jun 13 12:26:38 UTC 2020)\n",
       "(EPL source distribution)\n",
       "Java Runtime: OpenJDK Runtime Environment\n",
       "JVM: OpenJDK 64-Bit Server VM\n",
       "Default Encoding: UTF-8\n",
       "Language: en\n",
       "Country: null\n",
       "--></g></svg>"
      ]
     },
     "execution_count": 56,
     "metadata": {},
     "output_type": "execute_result"
    }
   ],
   "source": [
    "%viz --style=\"ORTHOLINE\" --view=\"Sequence\" \"AliasTest\""
   ]
  },
  {
   "cell_type": "code",
   "execution_count": 57,
   "id": "dd71692f",
   "metadata": {
    "execution": {
     "iopub.execute_input": "2021-06-30T09:16:11.754423Z",
     "iopub.status.busy": "2021-06-30T09:16:11.753758Z",
     "iopub.status.idle": "2021-06-30T09:16:11.830496Z",
     "shell.execute_reply": "2021-06-30T09:16:11.828948Z"
    }
   },
   "outputs": [
    {
     "data": {
      "image/svg+xml": [
       "<?xml version=\"1.0\" encoding=\"UTF-8\" standalone=\"no\"?><svg xmlns=\"http://www.w3.org/2000/svg\" xmlns:xlink=\"http://www.w3.org/1999/xlink\" contentScriptType=\"application/ecmascript\" contentStyleType=\"text/css\" height=\"293px\" preserveAspectRatio=\"none\" style=\"width:243px;height:293px;\" version=\"1.1\" viewBox=\"0 0 243 293\" width=\"243px\" zoomAndPan=\"magnify\"><defs/><g><!--MD5=[fbc87193dbaf4d95561dea2c320d4a47]\n",
       "cluster E1--><a href=\"psysml:2a952753-6cea-46c9-bb61-930b04eb3411\" target=\"_top\" title=\"psysml:2a952753-6cea-46c9-bb61-930b04eb3411\" xlink:actuate=\"onRequest\" xlink:href=\"psysml:2a952753-6cea-46c9-bb61-930b04eb3411\" xlink:show=\"new\" xlink:title=\"psysml:2a952753-6cea-46c9-bb61-930b04eb3411\" xlink:type=\"simple\"><polygon fill=\"#FFFFFF\" points=\"16,6,94,6,101,28.2969,221,28.2969,221,281,16,281,16,6\" style=\"stroke: #000000; stroke-width: 1.5;\"/><line style=\"stroke: #000000; stroke-width: 1.5;\" x1=\"16\" x2=\"101\" y1=\"28.2969\" y2=\"28.2969\"/><text fill=\"#000000\" font-family=\"sans-serif\" font-size=\"14\" font-weight=\"bold\" lengthAdjust=\"spacingAndGlyphs\" textLength=\"72\" x=\"20\" y=\"20.9951\">AliasTest</text></a><!--MD5=[b4997ac47864f28c2f74865a473b2911]\n",
       "class E2--><a href=\"psysml:92b6686b-ceec-4d5e-ab27-24733762f61c\" target=\"_top\" title=\"psysml:92b6686b-ceec-4d5e-ab27-24733762f61c\" xlink:actuate=\"onRequest\" xlink:href=\"psysml:92b6686b-ceec-4d5e-ab27-24733762f61c\" xlink:show=\"new\" xlink:title=\"psysml:92b6686b-ceec-4d5e-ab27-24733762f61c\" xlink:type=\"simple\"><rect fill=\"#FFFFFF\" height=\"75.5469\" id=\"E2\" style=\"stroke: #383838; stroke-width: 1.5;\" width=\"66\" x=\"79\" y=\"189\"/><text fill=\"#000000\" font-family=\"sans-serif\" font-size=\"12\" font-style=\"italic\" lengthAdjust=\"spacingAndGlyphs\" textLength=\"64\" x=\"80\" y=\"205.1387\">«part def»</text><text fill=\"#000000\" font-family=\"sans-serif\" font-size=\"12\" lengthAdjust=\"spacingAndGlyphs\" textLength=\"16\" x=\"104\" y=\"219.1074\">P1</text><line style=\"stroke: #383838; stroke-width: 1.5;\" x1=\"80\" x2=\"144\" y1=\"226.9375\" y2=\"226.9375\"/><text fill=\"#000000\" font-family=\"sans-serif\" font-size=\"11\" lengthAdjust=\"spacingAndGlyphs\" textLength=\"36\" x=\"85\" y=\"257.9526\">porig1</text><line style=\"stroke: #383838; stroke-width: 1.0;\" x1=\"80\" x2=\"97\" y1=\"241.3398\" y2=\"241.3398\"/><text fill=\"#000000\" font-family=\"sans-serif\" font-size=\"11\" lengthAdjust=\"spacingAndGlyphs\" textLength=\"30\" x=\"97\" y=\"244.6479\">ports</text><line style=\"stroke: #383838; stroke-width: 1.0;\" x1=\"127\" x2=\"144\" y1=\"241.3398\" y2=\"241.3398\"/></a><!--MD5=[ebbe1d658d1005bcc118a6aa81145e00]\n",
       "class E4--><a href=\"psysml:2b3d4312-7497-4457-990a-6ee5375442c5\" target=\"_top\" title=\"psysml:2b3d4312-7497-4457-990a-6ee5375442c5\" xlink:actuate=\"onRequest\" xlink:href=\"psysml:2b3d4312-7497-4457-990a-6ee5375442c5\" xlink:show=\"new\" xlink:title=\"psysml:2b3d4312-7497-4457-990a-6ee5375442c5\" xlink:type=\"simple\"><rect fill=\"#FFFFFF\" height=\"88.3516\" id=\"E4\" rx=\"10\" ry=\"10\" style=\"stroke: #383838; stroke-width: 1.5;\" width=\"92\" x=\"113\" y=\"41\"/><text fill=\"#000000\" font-family=\"sans-serif\" font-size=\"12\" font-style=\"italic\" lengthAdjust=\"spacingAndGlyphs\" textLength=\"40\" x=\"139\" y=\"57.1387\">«part»</text><text fill=\"#000000\" font-family=\"sans-serif\" font-size=\"12\" lengthAdjust=\"spacingAndGlyphs\" textLength=\"40\" x=\"139\" y=\"71.1074\">p1: P1</text><line style=\"stroke: #383838; stroke-width: 1.5;\" x1=\"114\" x2=\"204\" y1=\"78.9375\" y2=\"78.9375\"/><text fill=\"#000000\" font-family=\"sans-serif\" font-size=\"11\" lengthAdjust=\"spacingAndGlyphs\" textLength=\"21\" x=\"119\" y=\"109.9526\">po1</text><text fill=\"#000000\" font-family=\"sans-serif\" font-size=\"11\" font-style=\"italic\" lengthAdjust=\"spacingAndGlyphs\" textLength=\"80\" x=\"119\" y=\"122.7573\">:&gt;&gt;P1::porig1</text><line style=\"stroke: #383838; stroke-width: 1.0;\" x1=\"114\" x2=\"144\" y1=\"93.3398\" y2=\"93.3398\"/><text fill=\"#000000\" font-family=\"sans-serif\" font-size=\"11\" lengthAdjust=\"spacingAndGlyphs\" textLength=\"30\" x=\"144\" y=\"96.6479\">ports</text><line style=\"stroke: #383838; stroke-width: 1.0;\" x1=\"174\" x2=\"204\" y1=\"93.3398\" y2=\"93.3398\"/></a><!--MD5=[60a26617385b1d2d0262a64233df1f8d]\n",
       "class E6--><a href=\"psysml:09e69c42-70ff-4aed-b93c-c140a8b906a0\" target=\"_top\" title=\"psysml:09e69c42-70ff-4aed-b93c-c140a8b906a0\" xlink:actuate=\"onRequest\" xlink:href=\"psysml:09e69c42-70ff-4aed-b93c-c140a8b906a0\" xlink:show=\"new\" xlink:title=\"psysml:09e69c42-70ff-4aed-b93c-c140a8b906a0\" xlink:type=\"simple\"><rect fill=\"#FFFFFF\" height=\"75.5469\" id=\"E6\" rx=\"10\" ry=\"10\" style=\"stroke: #383838; stroke-width: 1.5;\" width=\"46\" x=\"32\" y=\"47\"/><text fill=\"#000000\" font-family=\"sans-serif\" font-size=\"12\" font-style=\"italic\" lengthAdjust=\"spacingAndGlyphs\" textLength=\"40\" x=\"35\" y=\"63.1387\">«part»</text><text fill=\"#000000\" font-family=\"sans-serif\" font-size=\"12\" lengthAdjust=\"spacingAndGlyphs\" textLength=\"40\" x=\"35\" y=\"77.1074\">p2: P1</text><line style=\"stroke: #383838; stroke-width: 1.5;\" x1=\"33\" x2=\"77\" y1=\"84.9375\" y2=\"84.9375\"/><text fill=\"#000000\" font-family=\"sans-serif\" font-size=\"11\" lengthAdjust=\"spacingAndGlyphs\" textLength=\"32\" x=\"38\" y=\"115.9526\">pdest</text><line style=\"stroke: #383838; stroke-width: 1.0;\" x1=\"33\" x2=\"40\" y1=\"99.3398\" y2=\"99.3398\"/><text fill=\"#000000\" font-family=\"sans-serif\" font-size=\"11\" lengthAdjust=\"spacingAndGlyphs\" textLength=\"30\" x=\"40\" y=\"102.6479\">ports</text><line style=\"stroke: #383838; stroke-width: 1.0;\" x1=\"70\" x2=\"77\" y1=\"99.3398\" y2=\"99.3398\"/></a><!--MD5=[185131fc0dcab0a4505a2ebe144e961b]\n",
       "link E4 to E2--><a href=\"psysml:5073669c-7652-4dd2-8e27-7490931f0c73\" target=\"_top\" title=\"psysml:5073669c-7652-4dd2-8e27-7490931f0c73\" xlink:actuate=\"onRequest\" xlink:href=\"psysml:5073669c-7652-4dd2-8e27-7490931f0c73\" xlink:show=\"new\" xlink:title=\"psysml:5073669c-7652-4dd2-8e27-7490931f0c73\" xlink:type=\"simple\"><path d=\"M129,129.15 C129,129.15 129,168.63 129,168.63 \" fill=\"none\" id=\"E4-&gt;E2\" style=\"stroke: #383838; stroke-width: 1.0;\"/><polygon fill=\"#FFFFFF\" points=\"129,188.63,122,169.63,136,169.63,129,188.63\" style=\"stroke: #383838; stroke-width: 1.0;\"/><ellipse cx=\"124\" cy=\"163.93\" fill=\"#383838\" rx=\"2\" ry=\"2\" style=\"stroke: #383838; stroke-width: 1.0;\"/><ellipse cx=\"134\" cy=\"163.93\" fill=\"#383838\" rx=\"2\" ry=\"2\" style=\"stroke: #383838; stroke-width: 1.0;\"/></a><!--MD5=[2351f337d6de0f557b50152ba70847b5]\n",
       "link E6 to E2--><a href=\"psysml:94875f8e-b487-466f-9f77-0e1d93a514ac\" target=\"_top\" title=\"psysml:94875f8e-b487-466f-9f77-0e1d93a514ac\" xlink:actuate=\"onRequest\" xlink:href=\"psysml:94875f8e-b487-466f-9f77-0e1d93a514ac\" xlink:show=\"new\" xlink:title=\"psysml:94875f8e-b487-466f-9f77-0e1d93a514ac\" xlink:type=\"simple\"><path d=\"M78.37,85 C87.58,85 96,85 96,85 C96,85 96,168.95 96,168.95 \" fill=\"none\" id=\"E6-&gt;E2\" style=\"stroke: #383838; stroke-width: 1.0;\"/><polygon fill=\"#FFFFFF\" points=\"96,188.95,89,169.95,103,169.95,96,188.95\" style=\"stroke: #383838; stroke-width: 1.0;\"/><ellipse cx=\"91\" cy=\"164.25\" fill=\"#383838\" rx=\"2\" ry=\"2\" style=\"stroke: #383838; stroke-width: 1.0;\"/><ellipse cx=\"101\" cy=\"164.25\" fill=\"#383838\" rx=\"2\" ry=\"2\" style=\"stroke: #383838; stroke-width: 1.0;\"/></a><!--MD5=[a1e0dd5990ea28b53c0e4e33018daf76]\n",
       "@startuml\r\n",
       "skinparam linetype ortho\r\n",
       "skinparam monochrome true\r\n",
       "skinparam classbackgroundcolor white\r\n",
       "skinparam shadowing false\r\n",
       "skinparam wrapWidth 300\r\n",
       "hide circle\r\n",
       "\r\n",
       "package \"AliasTest\" as E1  [[psysml:2a952753-6cea-46c9-bb61-930b04eb3411 ]]  {\r\n",
       "comp def \"P1\" as E2  <<(T,blue) part def>> [[psysml:92b6686b-ceec-4d5e-ab27-24733762f61c ]] {\r\n",
       "- - ports - -\r\n",
       "porig1\r\n",
       "}\r\n",
       "comp usage \"p1: P1\" as E4  <<(T,blue) part>> [[psysml:2b3d4312-7497-4457-990a-6ee5375442c5 ]] {\r\n",
       "- - ports - -\r\n",
       "po1\\n//:>>P1::porig1// \r\n",
       "}\r\n",
       "comp usage \"p2: P1\" as E6  <<(T,blue) part>> [[psysml:09e69c42-70ff-4aed-b93c-c140a8b906a0 ]] {\r\n",
       "- - ports - -\r\n",
       "pdest\r\n",
       "}\r\n",
       "E4 - -:|> E2 [[psysml:5073669c-7652-4dd2-8e27-7490931f0c73 ]] \r\n",
       "E6 - -:|> E2 [[psysml:94875f8e-b487-466f-9f77-0e1d93a514ac ]] \r\n",
       "}\r\n",
       "@enduml\r\n",
       "\n",
       "PlantUML version 1.2020.13(Sat Jun 13 12:26:38 UTC 2020)\n",
       "(EPL source distribution)\n",
       "Java Runtime: OpenJDK Runtime Environment\n",
       "JVM: OpenJDK 64-Bit Server VM\n",
       "Default Encoding: UTF-8\n",
       "Language: en\n",
       "Country: null\n",
       "--></g></svg>"
      ]
     },
     "execution_count": 57,
     "metadata": {},
     "output_type": "execute_result"
    }
   ],
   "source": [
    "%viz --style=\"ORTHOLINE\" --view=\"MIXED\" \"AliasTest\""
   ]
  }
 ],
 "metadata": {
  "kernelspec": {
   "display_name": "SysML",
   "language": "sysml",
   "name": "sysml"
  },
  "language_info": {
   "codemirror_mode": "sysml",
   "file_extension": ".sysml",
   "mimetype": "text/x-sysml",
   "name": "SysML",
   "pygments_lexer": "java",
   "version": "1.0.0"
  }
 },
 "nbformat": 4,
 "nbformat_minor": 5
}
