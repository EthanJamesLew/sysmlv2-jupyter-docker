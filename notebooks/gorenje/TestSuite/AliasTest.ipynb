{
 "cells": [
  {
   "cell_type": "markdown",
   "id": "48ee4303",
   "metadata": {},
   "source": [
    "# SysML v2 Test Suite\n",
    "\n",
    "This can notebook can be cleared using menu `Edit --> Clear All Outputs` and then all cells can be\n",
    "run using menu `Run --> Run All Cells`.\n",
    "\n",
    "**WARNING**: This file is generated, all modifications here will be ignored.\n"
   ]
  },
  {
   "cell_type": "markdown",
   "id": "351712f0",
   "metadata": {},
   "source": [
    "## File: ../../sysml/src/examples/Simple Tests/AliasTest.sysml"
   ]
  },
  {
   "cell_type": "code",
   "execution_count": 1,
   "id": "053c469f",
   "metadata": {
    "execution": {
     "iopub.execute_input": "2022-04-22T09:51:29.728286Z",
     "iopub.status.busy": "2022-04-22T09:51:29.727209Z",
     "iopub.status.idle": "2022-04-22T09:51:29.992225Z",
     "shell.execute_reply": "2022-04-22T09:51:29.991891Z"
    }
   },
   "outputs": [
    {
     "data": {
      "text/plain": [
       "Package AliasTest (71199a40-7cab-4a6e-91ce-988aadcc191b)\n"
      ]
     },
     "execution_count": 1,
     "metadata": {},
     "output_type": "execute_result"
    }
   ],
   "source": [
    "package AliasTest {\n",
    "\timport ISQSpaceTime::breadth; // import of an alias\n",
    "\tattribute b :> breadth;\n",
    "\t\n",
    "    part def P1 {\n",
    "        port porig1;\n",
    "        alias po1 for porig1;\n",
    "    }\n",
    "\n",
    "    part p1 : P1 {\n",
    "        port po1 :>> po1;\n",
    "    }\n",
    "\n",
    "    part p2 : P1 {\n",
    "        port pdest;\n",
    "        alias pd1 for pdest;\n",
    "    }\n",
    "\n",
    "\n",
    "    connect p1.po1 to p2.pdest;\n",
    "\tconnect p1.po1 to p2.pd1;\n",
    "}"
   ]
  },
  {
   "cell_type": "code",
   "execution_count": 2,
   "id": "1766301e",
   "metadata": {
    "execution": {
     "iopub.execute_input": "2022-04-22T09:51:30.043869Z",
     "iopub.status.busy": "2022-04-22T09:51:30.043526Z",
     "iopub.status.idle": "2022-04-22T09:51:30.593502Z",
     "shell.execute_reply": "2022-04-22T09:51:30.592168Z"
    }
   },
   "outputs": [
    {
     "data": {
      "image/svg+xml": [
       "<?xml version=\"1.0\" encoding=\"UTF-8\" standalone=\"no\"?><svg xmlns=\"http://www.w3.org/2000/svg\" xmlns:xlink=\"http://www.w3.org/1999/xlink\" contentScriptType=\"application/ecmascript\" contentStyleType=\"text/css\" height=\"423px\" preserveAspectRatio=\"none\" style=\"width:448px;height:423px;\" version=\"1.1\" viewBox=\"0 0 448 423\" width=\"448px\" zoomAndPan=\"magnify\"><defs/><g><!--MD5=[fbc87193dbaf4d95561dea2c320d4a47]\n",
       "cluster E1--><a href=\"psysml:5020e8e8-e597-4a8a-8c84-9076441471bb\" target=\"_top\" title=\"psysml:5020e8e8-e597-4a8a-8c84-9076441471bb\" xlink:actuate=\"onRequest\" xlink:href=\"psysml:5020e8e8-e597-4a8a-8c84-9076441471bb\" xlink:show=\"new\" xlink:title=\"psysml:5020e8e8-e597-4a8a-8c84-9076441471bb\" xlink:type=\"simple\"><polygon fill=\"#FFFFFF\" points=\"16,6,84,6,91,28.2969,426,28.2969,426,411,16,411,16,6\" style=\"stroke: #000000; stroke-width: 1.5;\"/><line style=\"stroke: #000000; stroke-width: 1.5;\" x1=\"16\" x2=\"91\" y1=\"28.2969\" y2=\"28.2969\"/><text fill=\"#000000\" font-family=\"sans-serif\" font-size=\"14\" font-weight=\"bold\" lengthAdjust=\"spacingAndGlyphs\" textLength=\"62\" x=\"20\" y=\"20.9951\">AliasTest</text></a><!--MD5=[b4997ac47864f28c2f74865a473b2911]\n",
       "class E2--><a href=\"psysml:09023520-b272-4b76-a802-4be530536a95\" target=\"_top\" title=\"psysml:09023520-b272-4b76-a802-4be530536a95\" xlink:actuate=\"onRequest\" xlink:href=\"psysml:09023520-b272-4b76-a802-4be530536a95\" xlink:show=\"new\" xlink:title=\"psysml:09023520-b272-4b76-a802-4be530536a95\" xlink:type=\"simple\"><rect fill=\"#FFFFFF\" height=\"45.9375\" id=\"E2\" rx=\"10\" ry=\"10\" style=\"stroke: #383838; stroke-width: 1.5;\" width=\"165\" x=\"244.5\" y=\"65\"/><text fill=\"#000000\" font-family=\"sans-serif\" font-size=\"12\" font-style=\"italic\" lengthAdjust=\"spacingAndGlyphs\" textLength=\"69\" x=\"292.5\" y=\"81.1387\">«attribute»</text><text fill=\"#000000\" font-family=\"sans-serif\" font-size=\"12\" lengthAdjust=\"spacingAndGlyphs\" textLength=\"159\" x=\"247.5\" y=\"95.1074\">b :&gt; ISQSpaceTime::width</text><line style=\"stroke: #383838; stroke-width: 1.5;\" x1=\"245.5\" x2=\"408.5\" y1=\"102.9375\" y2=\"102.9375\"/></a><!--MD5=[09b614a08d8cba4a07c9adeb5e0fee81]\n",
       "class E3--><a href=\"psysml:2d23ecbc-8f8b-40e5-8168-7a4eefd95afa\" target=\"_top\" title=\"psysml:2d23ecbc-8f8b-40e5-8168-7a4eefd95afa\" xlink:actuate=\"onRequest\" xlink:href=\"psysml:2d23ecbc-8f8b-40e5-8168-7a4eefd95afa\" xlink:show=\"new\" xlink:title=\"psysml:2d23ecbc-8f8b-40e5-8168-7a4eefd95afa\" xlink:type=\"simple\"><rect fill=\"#FFFFFF\" height=\"94.3516\" id=\"E3\" style=\"stroke: #383838; stroke-width: 1.5;\" width=\"70\" x=\"121\" y=\"195\"/><text fill=\"#000000\" font-family=\"sans-serif\" font-size=\"12\" font-style=\"italic\" lengthAdjust=\"spacingAndGlyphs\" textLength=\"68\" x=\"122\" y=\"211.1387\">«part  def»</text><text fill=\"#000000\" font-family=\"sans-serif\" font-size=\"12\" lengthAdjust=\"spacingAndGlyphs\" textLength=\"16\" x=\"148\" y=\"225.1074\">P1</text><line style=\"stroke: #383838; stroke-width: 1.5;\" x1=\"122\" x2=\"190\" y1=\"232.9375\" y2=\"232.9375\"/><text fill=\"#000000\" font-family=\"sans-serif\" font-size=\"11\" lengthAdjust=\"spacingAndGlyphs\" textLength=\"36\" x=\"127\" y=\"263.9526\">porig1</text><line style=\"stroke: #383838; stroke-width: 1.0;\" x1=\"122\" x2=\"141\" y1=\"247.3398\" y2=\"247.3398\"/><text fill=\"#000000\" font-family=\"sans-serif\" font-size=\"11\" lengthAdjust=\"spacingAndGlyphs\" textLength=\"30\" x=\"141\" y=\"250.6479\">ports</text><line style=\"stroke: #383838; stroke-width: 1.0;\" x1=\"171\" x2=\"190\" y1=\"247.3398\" y2=\"247.3398\"/><text fill=\"#000000\" font-family=\"sans-serif\" font-size=\"11\" lengthAdjust=\"spacingAndGlyphs\" textLength=\"0\" x=\"143\" y=\"282.7573\"/><rect fill=\"#FFFFFF\" height=\"2\" style=\"stroke: #000000; stroke-width: 1.0;\" width=\"2\" x=\"136\" y=\"277.9492\"/><line style=\"stroke: #000000; stroke-width: 1.0;\" x1=\"129\" x2=\"137\" y1=\"278.9492\" y2=\"278.9492\"/><line style=\"stroke: #000000; stroke-width: 1.0;\" x1=\"129\" x2=\"129\" y1=\"272.5469\" y2=\"278.9492\"/></a><!--MD5=[ebbe1d658d1005bcc118a6aa81145e00]\n",
       "class E4--><a href=\"psysml:371120a0-4800-4c08-b9c5-19a2f97c5f1a\" target=\"_top\" title=\"psysml:371120a0-4800-4c08-b9c5-19a2f97c5f1a\" xlink:actuate=\"onRequest\" xlink:href=\"psysml:371120a0-4800-4c08-b9c5-19a2f97c5f1a\" xlink:show=\"new\" xlink:title=\"psysml:371120a0-4800-4c08-b9c5-19a2f97c5f1a\" xlink:type=\"simple\"><rect fill=\"#FFFFFF\" height=\"45.9375\" id=\"E4\" rx=\"10\" ry=\"10\" style=\"stroke: #383838; stroke-width: 1.5;\" width=\"50\" x=\"131\" y=\"349\"/><text fill=\"#000000\" font-family=\"sans-serif\" font-size=\"12\" font-style=\"italic\" lengthAdjust=\"spacingAndGlyphs\" textLength=\"40\" x=\"136\" y=\"365.1387\">«port»</text><text fill=\"#000000\" font-family=\"sans-serif\" font-size=\"12\" lengthAdjust=\"spacingAndGlyphs\" textLength=\"40\" x=\"134\" y=\"379.1074\">porig1</text><line style=\"stroke: #383838; stroke-width: 1.5;\" x1=\"132\" x2=\"180\" y1=\"386.9375\" y2=\"386.9375\"/></a><!--MD5=[270fce915f116d4de14055a7c1d9a0f3]\n",
       "class E5--><a href=\"psysml:23efd2aa-8423-4d75-9f93-6567d973731c\" target=\"_top\" title=\"psysml:23efd2aa-8423-4d75-9f93-6567d973731c\" xlink:actuate=\"onRequest\" xlink:href=\"psysml:23efd2aa-8423-4d75-9f93-6567d973731c\" xlink:show=\"new\" xlink:title=\"psysml:23efd2aa-8423-4d75-9f93-6567d973731c\" xlink:type=\"simple\"><rect fill=\"#FFFFFF\" height=\"88.3516\" id=\"E5\" rx=\"10\" ry=\"10\" style=\"stroke: #383838; stroke-width: 1.5;\" width=\"92\" x=\"117\" y=\"44\"/><text fill=\"#000000\" font-family=\"sans-serif\" font-size=\"12\" font-style=\"italic\" lengthAdjust=\"spacingAndGlyphs\" textLength=\"40\" x=\"143\" y=\"60.1387\">«part»</text><text fill=\"#000000\" font-family=\"sans-serif\" font-size=\"12\" lengthAdjust=\"spacingAndGlyphs\" textLength=\"40\" x=\"141\" y=\"74.1074\">p1: P1</text><line style=\"stroke: #383838; stroke-width: 1.5;\" x1=\"118\" x2=\"208\" y1=\"81.9375\" y2=\"81.9375\"/><text fill=\"#000000\" font-family=\"sans-serif\" font-size=\"11\" lengthAdjust=\"spacingAndGlyphs\" textLength=\"21\" x=\"123\" y=\"112.9526\">po1</text><text fill=\"#000000\" font-family=\"sans-serif\" font-size=\"11\" font-style=\"italic\" lengthAdjust=\"spacingAndGlyphs\" textLength=\"80\" x=\"123\" y=\"125.7573\">:&gt;&gt;P1::porig1</text><line style=\"stroke: #383838; stroke-width: 1.0;\" x1=\"118\" x2=\"148\" y1=\"96.3398\" y2=\"96.3398\"/><text fill=\"#000000\" font-family=\"sans-serif\" font-size=\"11\" lengthAdjust=\"spacingAndGlyphs\" textLength=\"30\" x=\"148\" y=\"99.6479\">ports</text><line style=\"stroke: #383838; stroke-width: 1.0;\" x1=\"178\" x2=\"208\" y1=\"96.3398\" y2=\"96.3398\"/></a><!--MD5=[60a26617385b1d2d0262a64233df1f8d]\n",
       "class E6--><a href=\"psysml:32558afe-9574-460d-81c7-219976cfcf7f\" target=\"_top\" title=\"psysml:32558afe-9574-460d-81c7-219976cfcf7f\" xlink:actuate=\"onRequest\" xlink:href=\"psysml:32558afe-9574-460d-81c7-219976cfcf7f\" xlink:show=\"new\" xlink:title=\"psysml:32558afe-9574-460d-81c7-219976cfcf7f\" xlink:type=\"simple\"><rect fill=\"#FFFFFF\" height=\"94.3516\" id=\"E6\" rx=\"10\" ry=\"10\" style=\"stroke: #383838; stroke-width: 1.5;\" width=\"50\" x=\"32\" y=\"41\"/><text fill=\"#000000\" font-family=\"sans-serif\" font-size=\"12\" font-style=\"italic\" lengthAdjust=\"spacingAndGlyphs\" textLength=\"40\" x=\"37\" y=\"57.1387\">«part»</text><text fill=\"#000000\" font-family=\"sans-serif\" font-size=\"12\" lengthAdjust=\"spacingAndGlyphs\" textLength=\"40\" x=\"35\" y=\"71.1074\">p2: P1</text><line style=\"stroke: #383838; stroke-width: 1.5;\" x1=\"33\" x2=\"81\" y1=\"78.9375\" y2=\"78.9375\"/><text fill=\"#000000\" font-family=\"sans-serif\" font-size=\"11\" lengthAdjust=\"spacingAndGlyphs\" textLength=\"32\" x=\"38\" y=\"109.9526\">pdest</text><line style=\"stroke: #383838; stroke-width: 1.0;\" x1=\"33\" x2=\"42\" y1=\"93.3398\" y2=\"93.3398\"/><text fill=\"#000000\" font-family=\"sans-serif\" font-size=\"11\" lengthAdjust=\"spacingAndGlyphs\" textLength=\"30\" x=\"42\" y=\"96.6479\">ports</text><line style=\"stroke: #383838; stroke-width: 1.0;\" x1=\"72\" x2=\"81\" y1=\"93.3398\" y2=\"93.3398\"/><text fill=\"#000000\" font-family=\"sans-serif\" font-size=\"11\" lengthAdjust=\"spacingAndGlyphs\" textLength=\"0\" x=\"54\" y=\"128.7573\"/><rect fill=\"#FFFFFF\" height=\"2\" style=\"stroke: #000000; stroke-width: 1.0;\" width=\"2\" x=\"47\" y=\"123.9492\"/><line style=\"stroke: #000000; stroke-width: 1.0;\" x1=\"40\" x2=\"48\" y1=\"124.9492\" y2=\"124.9492\"/><line style=\"stroke: #000000; stroke-width: 1.0;\" x1=\"40\" x2=\"40\" y1=\"118.5469\" y2=\"124.9492\"/></a><!--MD5=[2156ba9850f5573cc1fc38a6a4b2f02b]\n",
       "class E7--><a href=\"psysml:9d4715a0-ecad-4cb9-af91-593b0378d847\" target=\"_top\" title=\"psysml:9d4715a0-ecad-4cb9-af91-593b0378d847\" xlink:actuate=\"onRequest\" xlink:href=\"psysml:9d4715a0-ecad-4cb9-af91-593b0378d847\" xlink:show=\"new\" xlink:title=\"psysml:9d4715a0-ecad-4cb9-af91-593b0378d847\" xlink:type=\"simple\"><rect fill=\"#FFFFFF\" height=\"45.9375\" id=\"E7\" rx=\"10\" ry=\"10\" style=\"stroke: #383838; stroke-width: 1.5;\" width=\"46\" x=\"34\" y=\"219\"/><text fill=\"#000000\" font-family=\"sans-serif\" font-size=\"12\" font-style=\"italic\" lengthAdjust=\"spacingAndGlyphs\" textLength=\"40\" x=\"37\" y=\"235.1387\">«port»</text><text fill=\"#000000\" font-family=\"sans-serif\" font-size=\"12\" lengthAdjust=\"spacingAndGlyphs\" textLength=\"36\" x=\"37\" y=\"249.1074\">pdest</text><line style=\"stroke: #383838; stroke-width: 1.5;\" x1=\"35\" x2=\"79\" y1=\"256.9375\" y2=\"256.9375\"/></a><!--MD5=[4672eba38e49728da53d11aeb285b987]\n",
       "reverse link E3 to E4--><a href=\"psysml:2fb80261-1acb-4246-9b34-6566336881f2\" target=\"_top\" title=\"psysml:2fb80261-1acb-4246-9b34-6566336881f2\" xlink:actuate=\"onRequest\" xlink:href=\"psysml:2fb80261-1acb-4246-9b34-6566336881f2\" xlink:show=\"new\" xlink:title=\"psysml:2fb80261-1acb-4246-9b34-6566336881f2\" xlink:type=\"simple\"><path d=\"M156,304.32 C156,320.28 156,336.46 156,348.89 \" fill=\"none\" id=\"E3&lt;-E4\" style=\"stroke: #383838; stroke-width: 1.0; stroke-dasharray: 7.0,7.0;\"/><ellipse cx=\"156\" cy=\"297.21\" fill=\"#FFFFFF\" rx=\"8\" ry=\"8\" style=\"stroke: #383838; stroke-width: 1.0;\"/><line style=\"stroke: #383838; stroke-width: 1.0;\" x1=\"156\" x2=\"156\" y1=\"305.21\" y2=\"289.21\"/><line style=\"stroke: #383838; stroke-width: 1.0;\" x1=\"148\" x2=\"164\" y1=\"297.21\" y2=\"297.21\"/><text fill=\"#000000\" font-family=\"sans-serif\" font-size=\"13\" lengthAdjust=\"spacingAndGlyphs\" textLength=\"8\" x=\"146.925\" y=\"337.7567\">1</text></a><!--MD5=[e9be52314489bd878ff4c7144b63c9e1]\n",
       "link E5 to E3--><a href=\"psysml:bae878c2-3025-4ed8-bae0-781c13e39aed\" target=\"_top\" title=\"psysml:bae878c2-3025-4ed8-bae0-781c13e39aed\" xlink:actuate=\"onRequest\" xlink:href=\"psysml:bae878c2-3025-4ed8-bae0-781c13e39aed\" xlink:show=\"new\" xlink:title=\"psysml:bae878c2-3025-4ed8-bae0-781c13e39aed\" xlink:type=\"simple\"><path d=\"M161.01,132.15 C160.41,145.3 159.73,160.08 159.07,174.4 \" fill=\"none\" id=\"E5-&gt;E3\" style=\"stroke: #383838; stroke-width: 1.0;\"/><polygon fill=\"#FFFFFF\" points=\"158.13,194.82,152.0056,175.52,165.991,176.1597,158.13,194.82\" style=\"stroke: #383838; stroke-width: 1.0;\"/><ellipse cx=\"154.264\" cy=\"169.9173\" fill=\"#383838\" rx=\"2\" ry=\"2\" style=\"stroke: #383838; stroke-width: 1.0;\"/><ellipse cx=\"164.2535\" cy=\"170.3743\" fill=\"#383838\" rx=\"2\" ry=\"2\" style=\"stroke: #383838; stroke-width: 1.0;\"/></a><!--MD5=[a717450b82c80b9240a525fa862496af]\n",
       "link E6 to E3--><a href=\"psysml:22f6621f-c82b-45b4-aad5-95fd1a975c3d\" target=\"_top\" title=\"psysml:22f6621f-c82b-45b4-aad5-95fd1a975c3d\" xlink:actuate=\"onRequest\" xlink:href=\"psysml:22f6621f-c82b-45b4-aad5-95fd1a975c3d\" xlink:show=\"new\" xlink:title=\"psysml:22f6621f-c82b-45b4-aad5-95fd1a975c3d\" xlink:type=\"simple\"><path d=\"M82.24,127.75 C92.15,142.97 103.8,160.85 114.86,177.84 \" fill=\"none\" id=\"E6-&gt;E3\" style=\"stroke: #383838; stroke-width: 1.0;\"/><polygon fill=\"#FFFFFF\" points=\"125.87,194.74,109.6276,182.6493,121.3542,175.0015,125.87,194.74\" style=\"stroke: #383838; stroke-width: 1.0;\"/><ellipse cx=\"108.1891\" cy=\"176.7824\" fill=\"#383838\" rx=\"2\" ry=\"2\" style=\"stroke: #383838; stroke-width: 1.0;\"/><ellipse cx=\"116.5652\" cy=\"171.3197\" fill=\"#383838\" rx=\"2\" ry=\"2\" style=\"stroke: #383838; stroke-width: 1.0;\"/></a><!--MD5=[3f50a3473f1dfb74d3f76443e03635af]\n",
       "reverse link E6 to E7--><a href=\"psysml:3441a1bf-d119-4e2c-bd85-6011f03ceff2\" target=\"_top\" title=\"psysml:3441a1bf-d119-4e2c-bd85-6011f03ceff2\" xlink:actuate=\"onRequest\" xlink:href=\"psysml:3441a1bf-d119-4e2c-bd85-6011f03ceff2\" xlink:show=\"new\" xlink:title=\"psysml:3441a1bf-d119-4e2c-bd85-6011f03ceff2\" xlink:type=\"simple\"><path d=\"M57,150.16 C57,174.43 57,200.81 57,218.85 \" fill=\"none\" id=\"E6&lt;-E7\" style=\"stroke: #383838; stroke-width: 1.0; stroke-dasharray: 7.0,7.0;\"/><ellipse cx=\"57\" cy=\"143.02\" fill=\"#FFFFFF\" rx=\"8\" ry=\"8\" style=\"stroke: #383838; stroke-width: 1.0;\"/><line style=\"stroke: #383838; stroke-width: 1.0;\" x1=\"57\" x2=\"57\" y1=\"151.02\" y2=\"135.02\"/><line style=\"stroke: #383838; stroke-width: 1.0;\" x1=\"49\" x2=\"65\" y1=\"143.02\" y2=\"143.02\"/><text fill=\"#000000\" font-family=\"sans-serif\" font-size=\"13\" lengthAdjust=\"spacingAndGlyphs\" textLength=\"8\" x=\"47.975\" y=\"208.0879\">1</text></a><!--MD5=[729f93f7a2e36035c95f59656bcf977d]\n",
       "@startuml\r\n",
       " skinparam monochrome true\r\n",
       "skinparam classbackgroundcolor white\r\n",
       "skinparam shadowing false\r\n",
       "skinparam wrapWidth 300\r\n",
       "hide circle\r\n",
       "\r\n",
       "package \"AliasTest\" as E1  [[psysml:5020e8e8-e597-4a8a-8c84-9076441471bb ]]  {\r\n",
       "comp usage \"b :> ISQSpaceTime::width\" as E2  <<(T,blue) attribute>> [[psysml:09023520-b272-4b76-a802-4be530536a95 ]] {\r\n",
       "}\r\n",
       "comp def \"P1\" as E3  <<(T,blue) part  def>> [[psysml:2d23ecbc-8f8b-40e5-8168-7a4eefd95afa ]] {\r\n",
       "- - ports - -\r\n",
       "porig1\r\n",
       "|_ \r\n",
       "}\r\n",
       "comp usage \"porig1 \" as E4  <<(T,blue) port>> [[psysml:371120a0-4800-4c08-b9c5-19a2f97c5f1a ]] {\r\n",
       "}\r\n",
       "comp usage \"p1: P1 \" as E5  <<(T,blue) part>> [[psysml:23efd2aa-8423-4d75-9f93-6567d973731c ]] {\r\n",
       "- - ports - -\r\n",
       "po1\\n//:>>P1::porig1// \r\n",
       "}\r\n",
       "comp usage \"p2: P1 \" as E6  <<(T,blue) part>> [[psysml:32558afe-9574-460d-81c7-219976cfcf7f ]] {\r\n",
       "- - ports - -\r\n",
       "pdest\r\n",
       "|_ \r\n",
       "}\r\n",
       "comp usage \"pdest \" as E7  <<(T,blue) port>> [[psysml:9d4715a0-ecad-4cb9-af91-593b0378d847 ]] {\r\n",
       "}\r\n",
       "}\r\n",
       "E3 +.. \"1\"E4 [[psysml:2fb80261-1acb-4246-9b34-6566336881f2 ]] \r\n",
       "E5 - -:|> E3 [[psysml:bae878c2-3025-4ed8-bae0-781c13e39aed ]] \r\n",
       "E6 - -:|> E3 [[psysml:22f6621f-c82b-45b4-aad5-95fd1a975c3d ]] \r\n",
       "E6 +.. \"1\"E7 [[psysml:3441a1bf-d119-4e2c-bd85-6011f03ceff2 ]] \r\n",
       "@enduml\r\n",
       "\n",
       "PlantUML version 1.2020.13(Sat Jun 13 12:26:38 UTC 2020)\n",
       "(EPL source distribution)\n",
       "Java Runtime: OpenJDK Runtime Environment\n",
       "JVM: OpenJDK 64-Bit Server VM\n",
       "Default Encoding: UTF-8\n",
       "Language: en\n",
       "Country: null\n",
       "--></g></svg>"
      ]
     },
     "execution_count": 2,
     "metadata": {},
     "output_type": "execute_result"
    }
   ],
   "source": [
    "%viz --style=\"COMPTREE\" --view=\"Default\" \"AliasTest\""
   ]
  },
  {
   "cell_type": "code",
   "execution_count": 3,
   "id": "c58606f4",
   "metadata": {
    "execution": {
     "iopub.execute_input": "2022-04-22T09:51:30.644229Z",
     "iopub.status.busy": "2022-04-22T09:51:30.643784Z",
     "iopub.status.idle": "2022-04-22T09:51:30.732736Z",
     "shell.execute_reply": "2022-04-22T09:51:30.731896Z"
    }
   },
   "outputs": [
    {
     "data": {
      "image/svg+xml": [
       "<?xml version=\"1.0\" encoding=\"UTF-8\" standalone=\"no\"?><svg xmlns=\"http://www.w3.org/2000/svg\" xmlns:xlink=\"http://www.w3.org/1999/xlink\" contentScriptType=\"application/ecmascript\" contentStyleType=\"text/css\" height=\"423px\" preserveAspectRatio=\"none\" style=\"width:448px;height:423px;\" version=\"1.1\" viewBox=\"0 0 448 423\" width=\"448px\" zoomAndPan=\"magnify\"><defs/><g><!--MD5=[fbc87193dbaf4d95561dea2c320d4a47]\n",
       "cluster E1--><a href=\"psysml:5020e8e8-e597-4a8a-8c84-9076441471bb\" target=\"_top\" title=\"psysml:5020e8e8-e597-4a8a-8c84-9076441471bb\" xlink:actuate=\"onRequest\" xlink:href=\"psysml:5020e8e8-e597-4a8a-8c84-9076441471bb\" xlink:show=\"new\" xlink:title=\"psysml:5020e8e8-e597-4a8a-8c84-9076441471bb\" xlink:type=\"simple\"><polygon fill=\"#FFFFFF\" points=\"16,6,84,6,91,28.2969,426,28.2969,426,411,16,411,16,6\" style=\"stroke: #000000; stroke-width: 1.5;\"/><line style=\"stroke: #000000; stroke-width: 1.5;\" x1=\"16\" x2=\"91\" y1=\"28.2969\" y2=\"28.2969\"/><text fill=\"#000000\" font-family=\"sans-serif\" font-size=\"14\" font-weight=\"bold\" lengthAdjust=\"spacingAndGlyphs\" textLength=\"62\" x=\"20\" y=\"20.9951\">AliasTest</text></a><!--MD5=[b4997ac47864f28c2f74865a473b2911]\n",
       "class E2--><a href=\"psysml:09023520-b272-4b76-a802-4be530536a95\" target=\"_top\" title=\"psysml:09023520-b272-4b76-a802-4be530536a95\" xlink:actuate=\"onRequest\" xlink:href=\"psysml:09023520-b272-4b76-a802-4be530536a95\" xlink:show=\"new\" xlink:title=\"psysml:09023520-b272-4b76-a802-4be530536a95\" xlink:type=\"simple\"><rect fill=\"#FFFFFF\" height=\"45.9375\" id=\"E2\" rx=\"10\" ry=\"10\" style=\"stroke: #383838; stroke-width: 1.5;\" width=\"165\" x=\"244.5\" y=\"65\"/><text fill=\"#000000\" font-family=\"sans-serif\" font-size=\"12\" font-style=\"italic\" lengthAdjust=\"spacingAndGlyphs\" textLength=\"69\" x=\"292.5\" y=\"81.1387\">«attribute»</text><text fill=\"#000000\" font-family=\"sans-serif\" font-size=\"12\" lengthAdjust=\"spacingAndGlyphs\" textLength=\"159\" x=\"247.5\" y=\"95.1074\">b :&gt; ISQSpaceTime::width</text><line style=\"stroke: #383838; stroke-width: 1.5;\" x1=\"245.5\" x2=\"408.5\" y1=\"102.9375\" y2=\"102.9375\"/></a><!--MD5=[09b614a08d8cba4a07c9adeb5e0fee81]\n",
       "class E3--><a href=\"psysml:2d23ecbc-8f8b-40e5-8168-7a4eefd95afa\" target=\"_top\" title=\"psysml:2d23ecbc-8f8b-40e5-8168-7a4eefd95afa\" xlink:actuate=\"onRequest\" xlink:href=\"psysml:2d23ecbc-8f8b-40e5-8168-7a4eefd95afa\" xlink:show=\"new\" xlink:title=\"psysml:2d23ecbc-8f8b-40e5-8168-7a4eefd95afa\" xlink:type=\"simple\"><rect fill=\"#FFFFFF\" height=\"94.3516\" id=\"E3\" style=\"stroke: #383838; stroke-width: 1.5;\" width=\"70\" x=\"121\" y=\"195\"/><text fill=\"#000000\" font-family=\"sans-serif\" font-size=\"12\" font-style=\"italic\" lengthAdjust=\"spacingAndGlyphs\" textLength=\"68\" x=\"122\" y=\"211.1387\">«part  def»</text><text fill=\"#000000\" font-family=\"sans-serif\" font-size=\"12\" lengthAdjust=\"spacingAndGlyphs\" textLength=\"16\" x=\"148\" y=\"225.1074\">P1</text><line style=\"stroke: #383838; stroke-width: 1.5;\" x1=\"122\" x2=\"190\" y1=\"232.9375\" y2=\"232.9375\"/><text fill=\"#000000\" font-family=\"sans-serif\" font-size=\"11\" lengthAdjust=\"spacingAndGlyphs\" textLength=\"36\" x=\"127\" y=\"263.9526\">porig1</text><line style=\"stroke: #383838; stroke-width: 1.0;\" x1=\"122\" x2=\"141\" y1=\"247.3398\" y2=\"247.3398\"/><text fill=\"#000000\" font-family=\"sans-serif\" font-size=\"11\" lengthAdjust=\"spacingAndGlyphs\" textLength=\"30\" x=\"141\" y=\"250.6479\">ports</text><line style=\"stroke: #383838; stroke-width: 1.0;\" x1=\"171\" x2=\"190\" y1=\"247.3398\" y2=\"247.3398\"/><text fill=\"#000000\" font-family=\"sans-serif\" font-size=\"11\" lengthAdjust=\"spacingAndGlyphs\" textLength=\"0\" x=\"143\" y=\"282.7573\"/><rect fill=\"#FFFFFF\" height=\"2\" style=\"stroke: #000000; stroke-width: 1.0;\" width=\"2\" x=\"136\" y=\"277.9492\"/><line style=\"stroke: #000000; stroke-width: 1.0;\" x1=\"129\" x2=\"137\" y1=\"278.9492\" y2=\"278.9492\"/><line style=\"stroke: #000000; stroke-width: 1.0;\" x1=\"129\" x2=\"129\" y1=\"272.5469\" y2=\"278.9492\"/></a><!--MD5=[ebbe1d658d1005bcc118a6aa81145e00]\n",
       "class E4--><a href=\"psysml:371120a0-4800-4c08-b9c5-19a2f97c5f1a\" target=\"_top\" title=\"psysml:371120a0-4800-4c08-b9c5-19a2f97c5f1a\" xlink:actuate=\"onRequest\" xlink:href=\"psysml:371120a0-4800-4c08-b9c5-19a2f97c5f1a\" xlink:show=\"new\" xlink:title=\"psysml:371120a0-4800-4c08-b9c5-19a2f97c5f1a\" xlink:type=\"simple\"><rect fill=\"#FFFFFF\" height=\"45.9375\" id=\"E4\" rx=\"10\" ry=\"10\" style=\"stroke: #383838; stroke-width: 1.5;\" width=\"50\" x=\"131\" y=\"349\"/><text fill=\"#000000\" font-family=\"sans-serif\" font-size=\"12\" font-style=\"italic\" lengthAdjust=\"spacingAndGlyphs\" textLength=\"40\" x=\"136\" y=\"365.1387\">«port»</text><text fill=\"#000000\" font-family=\"sans-serif\" font-size=\"12\" lengthAdjust=\"spacingAndGlyphs\" textLength=\"40\" x=\"134\" y=\"379.1074\">porig1</text><line style=\"stroke: #383838; stroke-width: 1.5;\" x1=\"132\" x2=\"180\" y1=\"386.9375\" y2=\"386.9375\"/></a><!--MD5=[270fce915f116d4de14055a7c1d9a0f3]\n",
       "class E5--><a href=\"psysml:23efd2aa-8423-4d75-9f93-6567d973731c\" target=\"_top\" title=\"psysml:23efd2aa-8423-4d75-9f93-6567d973731c\" xlink:actuate=\"onRequest\" xlink:href=\"psysml:23efd2aa-8423-4d75-9f93-6567d973731c\" xlink:show=\"new\" xlink:title=\"psysml:23efd2aa-8423-4d75-9f93-6567d973731c\" xlink:type=\"simple\"><rect fill=\"#FFFFFF\" height=\"88.3516\" id=\"E5\" rx=\"10\" ry=\"10\" style=\"stroke: #383838; stroke-width: 1.5;\" width=\"92\" x=\"117\" y=\"44\"/><text fill=\"#000000\" font-family=\"sans-serif\" font-size=\"12\" font-style=\"italic\" lengthAdjust=\"spacingAndGlyphs\" textLength=\"40\" x=\"143\" y=\"60.1387\">«part»</text><text fill=\"#000000\" font-family=\"sans-serif\" font-size=\"12\" lengthAdjust=\"spacingAndGlyphs\" textLength=\"40\" x=\"141\" y=\"74.1074\">p1: P1</text><line style=\"stroke: #383838; stroke-width: 1.5;\" x1=\"118\" x2=\"208\" y1=\"81.9375\" y2=\"81.9375\"/><text fill=\"#000000\" font-family=\"sans-serif\" font-size=\"11\" lengthAdjust=\"spacingAndGlyphs\" textLength=\"21\" x=\"123\" y=\"112.9526\">po1</text><text fill=\"#000000\" font-family=\"sans-serif\" font-size=\"11\" font-style=\"italic\" lengthAdjust=\"spacingAndGlyphs\" textLength=\"80\" x=\"123\" y=\"125.7573\">:&gt;&gt;P1::porig1</text><line style=\"stroke: #383838; stroke-width: 1.0;\" x1=\"118\" x2=\"148\" y1=\"96.3398\" y2=\"96.3398\"/><text fill=\"#000000\" font-family=\"sans-serif\" font-size=\"11\" lengthAdjust=\"spacingAndGlyphs\" textLength=\"30\" x=\"148\" y=\"99.6479\">ports</text><line style=\"stroke: #383838; stroke-width: 1.0;\" x1=\"178\" x2=\"208\" y1=\"96.3398\" y2=\"96.3398\"/></a><!--MD5=[60a26617385b1d2d0262a64233df1f8d]\n",
       "class E6--><a href=\"psysml:32558afe-9574-460d-81c7-219976cfcf7f\" target=\"_top\" title=\"psysml:32558afe-9574-460d-81c7-219976cfcf7f\" xlink:actuate=\"onRequest\" xlink:href=\"psysml:32558afe-9574-460d-81c7-219976cfcf7f\" xlink:show=\"new\" xlink:title=\"psysml:32558afe-9574-460d-81c7-219976cfcf7f\" xlink:type=\"simple\"><rect fill=\"#FFFFFF\" height=\"94.3516\" id=\"E6\" rx=\"10\" ry=\"10\" style=\"stroke: #383838; stroke-width: 1.5;\" width=\"50\" x=\"32\" y=\"41\"/><text fill=\"#000000\" font-family=\"sans-serif\" font-size=\"12\" font-style=\"italic\" lengthAdjust=\"spacingAndGlyphs\" textLength=\"40\" x=\"37\" y=\"57.1387\">«part»</text><text fill=\"#000000\" font-family=\"sans-serif\" font-size=\"12\" lengthAdjust=\"spacingAndGlyphs\" textLength=\"40\" x=\"35\" y=\"71.1074\">p2: P1</text><line style=\"stroke: #383838; stroke-width: 1.5;\" x1=\"33\" x2=\"81\" y1=\"78.9375\" y2=\"78.9375\"/><text fill=\"#000000\" font-family=\"sans-serif\" font-size=\"11\" lengthAdjust=\"spacingAndGlyphs\" textLength=\"32\" x=\"38\" y=\"109.9526\">pdest</text><line style=\"stroke: #383838; stroke-width: 1.0;\" x1=\"33\" x2=\"42\" y1=\"93.3398\" y2=\"93.3398\"/><text fill=\"#000000\" font-family=\"sans-serif\" font-size=\"11\" lengthAdjust=\"spacingAndGlyphs\" textLength=\"30\" x=\"42\" y=\"96.6479\">ports</text><line style=\"stroke: #383838; stroke-width: 1.0;\" x1=\"72\" x2=\"81\" y1=\"93.3398\" y2=\"93.3398\"/><text fill=\"#000000\" font-family=\"sans-serif\" font-size=\"11\" lengthAdjust=\"spacingAndGlyphs\" textLength=\"0\" x=\"54\" y=\"128.7573\"/><rect fill=\"#FFFFFF\" height=\"2\" style=\"stroke: #000000; stroke-width: 1.0;\" width=\"2\" x=\"47\" y=\"123.9492\"/><line style=\"stroke: #000000; stroke-width: 1.0;\" x1=\"40\" x2=\"48\" y1=\"124.9492\" y2=\"124.9492\"/><line style=\"stroke: #000000; stroke-width: 1.0;\" x1=\"40\" x2=\"40\" y1=\"118.5469\" y2=\"124.9492\"/></a><!--MD5=[2156ba9850f5573cc1fc38a6a4b2f02b]\n",
       "class E7--><a href=\"psysml:9d4715a0-ecad-4cb9-af91-593b0378d847\" target=\"_top\" title=\"psysml:9d4715a0-ecad-4cb9-af91-593b0378d847\" xlink:actuate=\"onRequest\" xlink:href=\"psysml:9d4715a0-ecad-4cb9-af91-593b0378d847\" xlink:show=\"new\" xlink:title=\"psysml:9d4715a0-ecad-4cb9-af91-593b0378d847\" xlink:type=\"simple\"><rect fill=\"#FFFFFF\" height=\"45.9375\" id=\"E7\" rx=\"10\" ry=\"10\" style=\"stroke: #383838; stroke-width: 1.5;\" width=\"46\" x=\"34\" y=\"219\"/><text fill=\"#000000\" font-family=\"sans-serif\" font-size=\"12\" font-style=\"italic\" lengthAdjust=\"spacingAndGlyphs\" textLength=\"40\" x=\"37\" y=\"235.1387\">«port»</text><text fill=\"#000000\" font-family=\"sans-serif\" font-size=\"12\" lengthAdjust=\"spacingAndGlyphs\" textLength=\"36\" x=\"37\" y=\"249.1074\">pdest</text><line style=\"stroke: #383838; stroke-width: 1.5;\" x1=\"35\" x2=\"79\" y1=\"256.9375\" y2=\"256.9375\"/></a><!--MD5=[4672eba38e49728da53d11aeb285b987]\n",
       "reverse link E3 to E4--><a href=\"psysml:2fb80261-1acb-4246-9b34-6566336881f2\" target=\"_top\" title=\"psysml:2fb80261-1acb-4246-9b34-6566336881f2\" xlink:actuate=\"onRequest\" xlink:href=\"psysml:2fb80261-1acb-4246-9b34-6566336881f2\" xlink:show=\"new\" xlink:title=\"psysml:2fb80261-1acb-4246-9b34-6566336881f2\" xlink:type=\"simple\"><path d=\"M156,304.32 C156,320.28 156,336.46 156,348.89 \" fill=\"none\" id=\"E3&lt;-E4\" style=\"stroke: #383838; stroke-width: 1.0; stroke-dasharray: 7.0,7.0;\"/><ellipse cx=\"156\" cy=\"297.21\" fill=\"#FFFFFF\" rx=\"8\" ry=\"8\" style=\"stroke: #383838; stroke-width: 1.0;\"/><line style=\"stroke: #383838; stroke-width: 1.0;\" x1=\"156\" x2=\"156\" y1=\"305.21\" y2=\"289.21\"/><line style=\"stroke: #383838; stroke-width: 1.0;\" x1=\"148\" x2=\"164\" y1=\"297.21\" y2=\"297.21\"/><text fill=\"#000000\" font-family=\"sans-serif\" font-size=\"13\" lengthAdjust=\"spacingAndGlyphs\" textLength=\"8\" x=\"146.925\" y=\"337.7567\">1</text></a><!--MD5=[e9be52314489bd878ff4c7144b63c9e1]\n",
       "link E5 to E3--><a href=\"psysml:bae878c2-3025-4ed8-bae0-781c13e39aed\" target=\"_top\" title=\"psysml:bae878c2-3025-4ed8-bae0-781c13e39aed\" xlink:actuate=\"onRequest\" xlink:href=\"psysml:bae878c2-3025-4ed8-bae0-781c13e39aed\" xlink:show=\"new\" xlink:title=\"psysml:bae878c2-3025-4ed8-bae0-781c13e39aed\" xlink:type=\"simple\"><path d=\"M161.01,132.15 C160.41,145.3 159.73,160.08 159.07,174.4 \" fill=\"none\" id=\"E5-&gt;E3\" style=\"stroke: #383838; stroke-width: 1.0;\"/><polygon fill=\"#FFFFFF\" points=\"158.13,194.82,152.0056,175.52,165.991,176.1597,158.13,194.82\" style=\"stroke: #383838; stroke-width: 1.0;\"/><ellipse cx=\"154.264\" cy=\"169.9173\" fill=\"#383838\" rx=\"2\" ry=\"2\" style=\"stroke: #383838; stroke-width: 1.0;\"/><ellipse cx=\"164.2535\" cy=\"170.3743\" fill=\"#383838\" rx=\"2\" ry=\"2\" style=\"stroke: #383838; stroke-width: 1.0;\"/></a><!--MD5=[a717450b82c80b9240a525fa862496af]\n",
       "link E6 to E3--><a href=\"psysml:22f6621f-c82b-45b4-aad5-95fd1a975c3d\" target=\"_top\" title=\"psysml:22f6621f-c82b-45b4-aad5-95fd1a975c3d\" xlink:actuate=\"onRequest\" xlink:href=\"psysml:22f6621f-c82b-45b4-aad5-95fd1a975c3d\" xlink:show=\"new\" xlink:title=\"psysml:22f6621f-c82b-45b4-aad5-95fd1a975c3d\" xlink:type=\"simple\"><path d=\"M82.24,127.75 C92.15,142.97 103.8,160.85 114.86,177.84 \" fill=\"none\" id=\"E6-&gt;E3\" style=\"stroke: #383838; stroke-width: 1.0;\"/><polygon fill=\"#FFFFFF\" points=\"125.87,194.74,109.6276,182.6493,121.3542,175.0015,125.87,194.74\" style=\"stroke: #383838; stroke-width: 1.0;\"/><ellipse cx=\"108.1891\" cy=\"176.7824\" fill=\"#383838\" rx=\"2\" ry=\"2\" style=\"stroke: #383838; stroke-width: 1.0;\"/><ellipse cx=\"116.5652\" cy=\"171.3197\" fill=\"#383838\" rx=\"2\" ry=\"2\" style=\"stroke: #383838; stroke-width: 1.0;\"/></a><!--MD5=[3f50a3473f1dfb74d3f76443e03635af]\n",
       "reverse link E6 to E7--><a href=\"psysml:3441a1bf-d119-4e2c-bd85-6011f03ceff2\" target=\"_top\" title=\"psysml:3441a1bf-d119-4e2c-bd85-6011f03ceff2\" xlink:actuate=\"onRequest\" xlink:href=\"psysml:3441a1bf-d119-4e2c-bd85-6011f03ceff2\" xlink:show=\"new\" xlink:title=\"psysml:3441a1bf-d119-4e2c-bd85-6011f03ceff2\" xlink:type=\"simple\"><path d=\"M57,150.16 C57,174.43 57,200.81 57,218.85 \" fill=\"none\" id=\"E6&lt;-E7\" style=\"stroke: #383838; stroke-width: 1.0; stroke-dasharray: 7.0,7.0;\"/><ellipse cx=\"57\" cy=\"143.02\" fill=\"#FFFFFF\" rx=\"8\" ry=\"8\" style=\"stroke: #383838; stroke-width: 1.0;\"/><line style=\"stroke: #383838; stroke-width: 1.0;\" x1=\"57\" x2=\"57\" y1=\"151.02\" y2=\"135.02\"/><line style=\"stroke: #383838; stroke-width: 1.0;\" x1=\"49\" x2=\"65\" y1=\"143.02\" y2=\"143.02\"/><text fill=\"#000000\" font-family=\"sans-serif\" font-size=\"13\" lengthAdjust=\"spacingAndGlyphs\" textLength=\"8\" x=\"47.975\" y=\"208.0879\">1</text></a><!--MD5=[729f93f7a2e36035c95f59656bcf977d]\n",
       "@startuml\r\n",
       " skinparam monochrome true\r\n",
       "skinparam classbackgroundcolor white\r\n",
       "skinparam shadowing false\r\n",
       "skinparam wrapWidth 300\r\n",
       "hide circle\r\n",
       "\r\n",
       "package \"AliasTest\" as E1  [[psysml:5020e8e8-e597-4a8a-8c84-9076441471bb ]]  {\r\n",
       "comp usage \"b :> ISQSpaceTime::width\" as E2  <<(T,blue) attribute>> [[psysml:09023520-b272-4b76-a802-4be530536a95 ]] {\r\n",
       "}\r\n",
       "comp def \"P1\" as E3  <<(T,blue) part  def>> [[psysml:2d23ecbc-8f8b-40e5-8168-7a4eefd95afa ]] {\r\n",
       "- - ports - -\r\n",
       "porig1\r\n",
       "|_ \r\n",
       "}\r\n",
       "comp usage \"porig1 \" as E4  <<(T,blue) port>> [[psysml:371120a0-4800-4c08-b9c5-19a2f97c5f1a ]] {\r\n",
       "}\r\n",
       "comp usage \"p1: P1 \" as E5  <<(T,blue) part>> [[psysml:23efd2aa-8423-4d75-9f93-6567d973731c ]] {\r\n",
       "- - ports - -\r\n",
       "po1\\n//:>>P1::porig1// \r\n",
       "}\r\n",
       "comp usage \"p2: P1 \" as E6  <<(T,blue) part>> [[psysml:32558afe-9574-460d-81c7-219976cfcf7f ]] {\r\n",
       "- - ports - -\r\n",
       "pdest\r\n",
       "|_ \r\n",
       "}\r\n",
       "comp usage \"pdest \" as E7  <<(T,blue) port>> [[psysml:9d4715a0-ecad-4cb9-af91-593b0378d847 ]] {\r\n",
       "}\r\n",
       "}\r\n",
       "E3 +.. \"1\"E4 [[psysml:2fb80261-1acb-4246-9b34-6566336881f2 ]] \r\n",
       "E5 - -:|> E3 [[psysml:bae878c2-3025-4ed8-bae0-781c13e39aed ]] \r\n",
       "E6 - -:|> E3 [[psysml:22f6621f-c82b-45b4-aad5-95fd1a975c3d ]] \r\n",
       "E6 +.. \"1\"E7 [[psysml:3441a1bf-d119-4e2c-bd85-6011f03ceff2 ]] \r\n",
       "@enduml\r\n",
       "\n",
       "PlantUML version 1.2020.13(Sat Jun 13 12:26:38 UTC 2020)\n",
       "(EPL source distribution)\n",
       "Java Runtime: OpenJDK Runtime Environment\n",
       "JVM: OpenJDK 64-Bit Server VM\n",
       "Default Encoding: UTF-8\n",
       "Language: en\n",
       "Country: null\n",
       "--></g></svg>"
      ]
     },
     "execution_count": 3,
     "metadata": {},
     "output_type": "execute_result"
    }
   ],
   "source": [
    "%viz --style=\"COMPTREE\" --view=\"Tree\" \"AliasTest\""
   ]
  },
  {
   "cell_type": "code",
   "execution_count": 4,
   "id": "1d5a69ff",
   "metadata": {
    "execution": {
     "iopub.execute_input": "2022-04-22T09:51:30.783632Z",
     "iopub.status.busy": "2022-04-22T09:51:30.783014Z",
     "iopub.status.idle": "2022-04-22T09:51:30.788914Z",
     "shell.execute_reply": "2022-04-22T09:51:30.789235Z"
    }
   },
   "outputs": [
    {
     "data": {
      "image/svg+xml": [
       "<?xml version=\"1.0\" encoding=\"UTF-8\" standalone=\"no\"?><svg xmlns=\"http://www.w3.org/2000/svg\" xmlns:xlink=\"http://www.w3.org/1999/xlink\" contentScriptType=\"application/ecmascript\" contentStyleType=\"text/css\" height=\"12px\" preserveAspectRatio=\"none\" style=\"width:12px;height:12px;\" version=\"1.1\" viewBox=\"0 0 12 12\" width=\"12px\" zoomAndPan=\"magnify\"><defs/><g><!--MD5=[f19188ef49e11757b5c46753f95d9edc]\n",
       "@startuml\r\n",
       " skinparam monochrome true\r\n",
       "skinparam classbackgroundcolor white\r\n",
       "skinparam shadowing false\r\n",
       "skinparam wrapWidth 300\r\n",
       "hide circle\r\n",
       "\r\n",
       "@enduml\r\n",
       "\n",
       "PlantUML version 1.2020.13(Sat Jun 13 12:26:38 UTC 2020)\n",
       "(EPL source distribution)\n",
       "Java Runtime: OpenJDK Runtime Environment\n",
       "JVM: OpenJDK 64-Bit Server VM\n",
       "Default Encoding: UTF-8\n",
       "Language: en\n",
       "Country: null\n",
       "--></g></svg>"
      ]
     },
     "execution_count": 4,
     "metadata": {},
     "output_type": "execute_result"
    }
   ],
   "source": [
    "%viz --style=\"COMPTREE\" --view=\"State\" \"AliasTest\""
   ]
  },
  {
   "cell_type": "code",
   "execution_count": 5,
   "id": "0c4d7c02",
   "metadata": {
    "execution": {
     "iopub.execute_input": "2022-04-22T09:51:30.839999Z",
     "iopub.status.busy": "2022-04-22T09:51:30.839535Z",
     "iopub.status.idle": "2022-04-22T09:51:30.900898Z",
     "shell.execute_reply": "2022-04-22T09:51:30.900486Z"
    }
   },
   "outputs": [
    {
     "data": {
      "image/svg+xml": [
       "<?xml version=\"1.0\" encoding=\"UTF-8\" standalone=\"no\"?><svg xmlns=\"http://www.w3.org/2000/svg\" xmlns:xlink=\"http://www.w3.org/1999/xlink\" contentScriptType=\"application/ecmascript\" contentStyleType=\"text/css\" height=\"398px\" preserveAspectRatio=\"none\" style=\"width:370px;height:398px;\" version=\"1.1\" viewBox=\"0 0 370 398\" width=\"370px\" zoomAndPan=\"magnify\"><defs/><g><!--MD5=[fbc87193dbaf4d95561dea2c320d4a47]\n",
       "cluster E1--><a href=\"psysml:5020e8e8-e597-4a8a-8c84-9076441471bb\" target=\"_top\" title=\"psysml:5020e8e8-e597-4a8a-8c84-9076441471bb\" xlink:actuate=\"onRequest\" xlink:href=\"psysml:5020e8e8-e597-4a8a-8c84-9076441471bb\" xlink:show=\"new\" xlink:title=\"psysml:5020e8e8-e597-4a8a-8c84-9076441471bb\" xlink:type=\"simple\"><polygon fill=\"#FFFFFF\" points=\"16,6,84,6,91,28.2969,348,28.2969,348,386.36,16,386.36,16,6\" style=\"stroke: #000000; stroke-width: 1.5;\"/><line style=\"stroke: #000000; stroke-width: 1.5;\" x1=\"16\" x2=\"91\" y1=\"28.2969\" y2=\"28.2969\"/><text fill=\"#000000\" font-family=\"sans-serif\" font-size=\"14\" font-weight=\"bold\" lengthAdjust=\"spacingAndGlyphs\" textLength=\"62\" x=\"20\" y=\"20.9951\">AliasTest</text></a><!--MD5=[d5e69f78d87373223dbae638b30a9c99]\n",
       "cluster E3--><a href=\"psysml:2d23ecbc-8f8b-40e5-8168-7a4eefd95afa\" target=\"_top\" title=\"psysml:2d23ecbc-8f8b-40e5-8168-7a4eefd95afa\" xlink:actuate=\"onRequest\" xlink:href=\"psysml:2d23ecbc-8f8b-40e5-8168-7a4eefd95afa\" xlink:show=\"new\" xlink:title=\"psysml:2d23ecbc-8f8b-40e5-8168-7a4eefd95afa\" xlink:type=\"simple\"><rect fill=\"#FFFFFF\" height=\"124.5\" id=\"E3\" style=\"stroke: #383838; stroke-width: 1.5;\" width=\"144\" x=\"180\" y=\"237.86\"/><rect fill=\"#F8F8F8\" height=\"37.9375\" style=\"stroke: #383838; stroke-width: 1.5;\" width=\"144\" x=\"180\" y=\"237.86\"/><text fill=\"#000000\" font-family=\"sans-serif\" font-size=\"12\" font-style=\"italic\" lengthAdjust=\"spacingAndGlyphs\" textLength=\"68\" x=\"218\" y=\"253.9987\">«part  def»</text><text fill=\"#000000\" font-family=\"sans-serif\" font-size=\"12\" lengthAdjust=\"spacingAndGlyphs\" textLength=\"16\" x=\"244\" y=\"267.9674\">P1</text></a><!--MD5=[14e3b0961a2654348d326746436168a1]\n",
       "cluster E6--><a href=\"psysml:23efd2aa-8423-4d75-9f93-6567d973731c\" target=\"_top\" title=\"psysml:23efd2aa-8423-4d75-9f93-6567d973731c\" xlink:actuate=\"onRequest\" xlink:href=\"psysml:23efd2aa-8423-4d75-9f93-6567d973731c\" xlink:show=\"new\" xlink:title=\"psysml:23efd2aa-8423-4d75-9f93-6567d973731c\" xlink:type=\"simple\"><rect fill=\"#FFFFFF\" height=\"97.36\" id=\"E6\" rx=\"10\" ry=\"10\" style=\"stroke: #383838; stroke-width: 1.5;\" width=\"114\" x=\"210\" y=\"49\"/><rect fill=\"#F8F8F8\" height=\"23.9688\" rx=\"10\" ry=\"10\" style=\"stroke: #F8F8F8; stroke-width: 1.5;\" width=\"114\" x=\"210\" y=\"49\"/><rect fill=\"#F8F8F8\" height=\"10\" style=\"stroke: #F8F8F8; stroke-width: 1.5;\" width=\"114\" x=\"210\" y=\"62.9688\"/><rect fill=\"none\" height=\"97.36\" id=\"E6\" rx=\"10\" ry=\"10\" style=\"stroke: #383838; stroke-width: 1.5;\" width=\"114\" x=\"210\" y=\"49\"/><text fill=\"#000000\" font-family=\"sans-serif\" font-size=\"12\" lengthAdjust=\"spacingAndGlyphs\" textLength=\"40\" x=\"247\" y=\"65.1387\">p1: P1</text><line style=\"stroke: #383838; stroke-width: 1.0;\" x1=\"210\" x2=\"324\" y1=\"72.9688\" y2=\"72.9688\"/></a><!--MD5=[55dfccfc6c49c2d10cd1bd2211a6c90c]\n",
       "cluster E8--><a href=\"psysml:32558afe-9574-460d-81c7-219976cfcf7f\" target=\"_top\" title=\"psysml:32558afe-9574-460d-81c7-219976cfcf7f\" xlink:actuate=\"onRequest\" xlink:href=\"psysml:32558afe-9574-460d-81c7-219976cfcf7f\" xlink:show=\"new\" xlink:title=\"psysml:32558afe-9574-460d-81c7-219976cfcf7f\" xlink:type=\"simple\"><rect fill=\"#FFFFFF\" height=\"73\" id=\"E8\" rx=\"10\" ry=\"10\" style=\"stroke: #383838; stroke-width: 1.5;\" width=\"83\" x=\"81\" y=\"198.36\"/><rect fill=\"#F8F8F8\" height=\"23.9688\" rx=\"10\" ry=\"10\" style=\"stroke: #F8F8F8; stroke-width: 1.5;\" width=\"83\" x=\"81\" y=\"198.36\"/><rect fill=\"#F8F8F8\" height=\"10\" style=\"stroke: #F8F8F8; stroke-width: 1.5;\" width=\"83\" x=\"81\" y=\"212.3288\"/><rect fill=\"none\" height=\"73\" id=\"E8\" rx=\"10\" ry=\"10\" style=\"stroke: #383838; stroke-width: 1.5;\" width=\"83\" x=\"81\" y=\"198.36\"/><text fill=\"#000000\" font-family=\"sans-serif\" font-size=\"12\" lengthAdjust=\"spacingAndGlyphs\" textLength=\"40\" x=\"102.5\" y=\"214.4987\">p2: P1</text><line style=\"stroke: #383838; stroke-width: 1.0;\" x1=\"81\" x2=\"164\" y1=\"222.3288\" y2=\"222.3288\"/></a><!--MD5=[b4997ac47864f28c2f74865a473b2911]\n",
       "class E2--><a href=\"psysml:09023520-b272-4b76-a802-4be530536a95\" target=\"_top\" title=\"psysml:09023520-b272-4b76-a802-4be530536a95\" xlink:actuate=\"onRequest\" xlink:href=\"psysml:09023520-b272-4b76-a802-4be530536a95\" xlink:show=\"new\" xlink:title=\"psysml:09023520-b272-4b76-a802-4be530536a95\" xlink:type=\"simple\"><rect fill=\"#FFFFFF\" height=\"45.9375\" id=\"E2\" rx=\"10\" ry=\"10\" style=\"stroke: #383838; stroke-width: 1.5;\" width=\"165\" x=\"32.5\" y=\"59.5\"/><text fill=\"#000000\" font-family=\"sans-serif\" font-size=\"12\" font-style=\"italic\" lengthAdjust=\"spacingAndGlyphs\" textLength=\"69\" x=\"80.5\" y=\"75.6387\">«attribute»</text><text fill=\"#000000\" font-family=\"sans-serif\" font-size=\"12\" lengthAdjust=\"spacingAndGlyphs\" textLength=\"159\" x=\"35.5\" y=\"89.6074\">b :&gt; ISQSpaceTime::width</text><line style=\"stroke: #383838; stroke-width: 1.5;\" x1=\"33.5\" x2=\"196.5\" y1=\"97.4375\" y2=\"97.4375\"/></a><text fill=\"#000000\" font-family=\"sans-serif\" font-size=\"14\" lengthAdjust=\"spacingAndGlyphs\" textLength=\"44\" x=\"174\" y=\"216.5582\">porig1</text><rect fill=\"#383838\" height=\"12\" style=\"stroke: #F8F8F8; stroke-width: 1.5;\" width=\"12\" x=\"192\" y=\"231.86\"/><text fill=\"#000000\" font-family=\"sans-serif\" font-size=\"14\" lengthAdjust=\"spacingAndGlyphs\" textLength=\"44\" x=\"221\" y=\"216.5582\">porig1</text><rect fill=\"#383838\" height=\"12\" style=\"stroke: #F8F8F8; stroke-width: 1.5;\" width=\"12\" x=\"239\" y=\"231.86\"/><text fill=\"#000000\" font-family=\"sans-serif\" font-size=\"14\" lengthAdjust=\"spacingAndGlyphs\" textLength=\"27\" x=\"212.5\" y=\"165.3551\">po1</text><rect fill=\"#383838\" height=\"12\" style=\"stroke: #F8F8F8; stroke-width: 1.5;\" width=\"12\" x=\"222\" y=\"140.36\"/><text fill=\"#000000\" font-family=\"sans-serif\" font-size=\"14\" lengthAdjust=\"spacingAndGlyphs\" textLength=\"40\" x=\"77\" y=\"177.0582\">pdest</text><rect fill=\"#383838\" height=\"12\" style=\"stroke: #F8F8F8; stroke-width: 1.5;\" width=\"12\" x=\"93\" y=\"192.36\"/><text fill=\"#000000\" font-family=\"sans-serif\" font-size=\"14\" lengthAdjust=\"spacingAndGlyphs\" textLength=\"40\" x=\"124\" y=\"177.0582\">pdest</text><rect fill=\"#383838\" height=\"12\" style=\"stroke: #F8F8F8; stroke-width: 1.5;\" width=\"12\" x=\"140\" y=\"192.36\"/><!--MD5=[a717450b82c80b9240a525fa862496af]\n",
       "link E6 to E3--><a href=\"psysml:bae878c2-3025-4ed8-bae0-781c13e39aed\" target=\"_top\" title=\"psysml:bae878c2-3025-4ed8-bae0-781c13e39aed\" xlink:actuate=\"onRequest\" xlink:href=\"psysml:bae878c2-3025-4ed8-bae0-781c13e39aed\" xlink:show=\"new\" xlink:title=\"psysml:bae878c2-3025-4ed8-bae0-781c13e39aed\" xlink:type=\"simple\"><path d=\"M287,146.372 C287,146.4316 287,146.4946 287,146.5614 C287,146.6948 287,146.8432 287,147.0079 C287,147.3375 287,147.733 287,148.2077 C287,149.1569 287,150.4225 287,152.11 C287,158.86 287,172.36 287,199.36 C287,208.265 287.4169,215.6138 287.8598,222.1538 C287.8875,222.5625 287.9153,222.9681 287.9431,223.3707 C287.9501,223.4714 287.957,223.5718 287.964,223.6721 \" fill=\"none\" id=\"E6-&gt;E3\" style=\"stroke: #383838; stroke-width: 1.0;\"/><polygon fill=\"#FFFFFF\" points=\"287.964,223.6721,279.6675,205.2014,293.634,204.2337,287.964,223.6721\" style=\"stroke: #383838; stroke-width: 1.0;\"/><ellipse cx=\"281.2688\" cy=\"199.3768\" fill=\"#383838\" rx=\"2\" ry=\"2\" style=\"stroke: #383838; stroke-width: 1.0;\"/><ellipse cx=\"291.2448\" cy=\"198.6856\" fill=\"#383838\" rx=\"2\" ry=\"2\" style=\"stroke: #383838; stroke-width: 1.0;\"/></a><!--MD5=[95fa686b5a16158bcdbcaeead89f639b]\n",
       "link E8 to E3--><a href=\"psysml:22f6621f-c82b-45b4-aad5-95fd1a975c3d\" target=\"_top\" title=\"psysml:22f6621f-c82b-45b4-aad5-95fd1a975c3d\" xlink:actuate=\"onRequest\" xlink:href=\"psysml:22f6621f-c82b-45b4-aad5-95fd1a975c3d\" xlink:show=\"new\" xlink:title=\"psysml:22f6621f-c82b-45b4-aad5-95fd1a975c3d\" xlink:type=\"simple\"><path d=\"M161.6052,271.4143 C161.6848,271.4587 161.7644,271.5032 161.844,271.5476 C162.1624,271.7254 162.4807,271.903 162.799,272.0805 C163.4355,272.4354 164.0716,272.7896 164.7071,273.1429 C165.978,273.8495 167.2462,274.5525 168.5091,275.2502 C171.0347,276.6456 173.5388,278.02 176,279.36 C177.8425,280.3638 179.712,281.3764 181.6004,282.3941 C182.0725,282.6486 182.5457,282.9033 183.0201,283.1583 C183.2572,283.2858 183.4946,283.4134 183.7323,283.541 C183.7917,283.5729 183.8512,283.6048 183.9106,283.6368 \" fill=\"none\" id=\"E8-&gt;E3\" style=\"stroke: #383838; stroke-width: 1.0;\"/><polygon fill=\"#FFFFFF\" points=\"183.9106,283.6368,163.8594,280.8174,170.4813,268.4825,183.9106,283.6368\" style=\"stroke: #383838; stroke-width: 1.0;\"/><ellipse cx=\"159.7833\" cy=\"276.3592\" fill=\"#383838\" rx=\"2\" ry=\"2\" style=\"stroke: #383838; stroke-width: 1.0;\"/><ellipse cx=\"164.5132\" cy=\"267.5486\" fill=\"#383838\" rx=\"2\" ry=\"2\" style=\"stroke: #383838; stroke-width: 1.0;\"/></a><!--MD5=[1c0b9414cc86e0744215edee6abd8926]\n",
       "link E7 to E9--><a href=\"psysml:e347aa3d-31a4-4502-9422-b0b7e8733c17\" target=\"_top\" title=\"psysml:e347aa3d-31a4-4502-9422-b0b7e8733c17\" xlink:actuate=\"onRequest\" xlink:href=\"psysml:e347aa3d-31a4-4502-9422-b0b7e8733c17\" xlink:show=\"new\" xlink:title=\"psysml:e347aa3d-31a4-4502-9422-b0b7e8733c17\" xlink:type=\"simple\"><path d=\"M221.76,147.53 C198.85,148.59 143.6,155.09 105,176.36 C94.77,182 85.43,193.07 92.97,196.39 \" fill=\"none\" id=\"E7-E9\" style=\"stroke: #383838; stroke-width: 3.0;\"/><text fill=\"#000000\" font-family=\"sans-serif\" font-size=\"13\" lengthAdjust=\"spacingAndGlyphs\" textLength=\"7\" x=\"78.1078\" y=\"185.6989\">*</text></a><!--MD5=[1c0b9414cc86e0744215edee6abd8926]\n",
       "link E7 to E9--><a href=\"psysml:6852a8da-427c-4993-bbf6-22174e5f8d33\" target=\"_top\" title=\"psysml:6852a8da-427c-4993-bbf6-22174e5f8d33\" xlink:actuate=\"onRequest\" xlink:href=\"psysml:6852a8da-427c-4993-bbf6-22174e5f8d33\" xlink:show=\"new\" xlink:title=\"psysml:6852a8da-427c-4993-bbf6-22174e5f8d33\" xlink:type=\"simple\"><path d=\"M221.9,149.8 C204.95,153.24 168.07,160.89 140,176.36 C129.3,182.26 119.57,194.11 105.05,196.81 \" fill=\"none\" id=\"E7-E9-1\" style=\"stroke: #383838; stroke-width: 3.0;\"/><text fill=\"#000000\" font-family=\"sans-serif\" font-size=\"13\" lengthAdjust=\"spacingAndGlyphs\" textLength=\"7\" x=\"112.9288\" y=\"186.4654\">*</text></a><!--MD5=[f243429b42b0e02a603b49ce88b4520c]\n",
       "@startuml\r\n",
       "skinparam ranksep 10\r\n",
       "skinparam rectangle {\r\n",
       " backgroundColor<<block>> LightGreen\r\n",
       "}\r\n",
       " skinparam monochrome true\r\n",
       "skinparam classbackgroundcolor white\r\n",
       "skinparam shadowing false\r\n",
       "skinparam wrapWidth 300\r\n",
       "hide circle\r\n",
       "\r\n",
       "package \"AliasTest\" as E1  [[psysml:5020e8e8-e597-4a8a-8c84-9076441471bb ]]  {\r\n",
       "comp usage \"b :> ISQSpaceTime::width\" as E2  <<(T,blue) attribute>> [[psysml:09023520-b272-4b76-a802-4be530536a95 ]] {\r\n",
       "}\r\n",
       "rec def \"P1\" as E3  <<(T,blue) part  def>> [[psysml:2d23ecbc-8f8b-40e5-8168-7a4eefd95afa ]] {\r\n",
       "portin \"porig1 \" as E4  <<(T,blue) port>> [[psysml:371120a0-4800-4c08-b9c5-19a2f97c5f1a ]] \r\n",
       "portin \"porig1 \" as E5  <<(T,blue) port>> [[psysml:371120a0-4800-4c08-b9c5-19a2f97c5f1a ]] \r\n",
       "}\r\n",
       "rec usage \"p1: P1\" as E6  [[psysml:23efd2aa-8423-4d75-9f93-6567d973731c ]] {\r\n",
       "portout \"po1 \" as E7  <<(T,blue) port>> [[psysml:a6a8a5d4-8051-439c-be85-1eee73d04018 ]] \r\n",
       "}\r\n",
       "rec usage \"p2: P1\" as E8  [[psysml:32558afe-9574-460d-81c7-219976cfcf7f ]] {\r\n",
       "portin \"pdest \" as E9  <<(T,blue) port>> [[psysml:9d4715a0-ecad-4cb9-af91-593b0378d847 ]] \r\n",
       "portin \"pdest \" as E10  <<(T,blue) port>> [[psysml:9d4715a0-ecad-4cb9-af91-593b0378d847 ]] \r\n",
       "}\r\n",
       "}\r\n",
       "E6 - -:|> E3 [[psysml:bae878c2-3025-4ed8-bae0-781c13e39aed ]] \r\n",
       "E8 - -:|> E3 [[psysml:22f6621f-c82b-45b4-aad5-95fd1a975c3d ]] \r\n",
       "E7 -[thickness=3]- \"*\"E9 [[psysml:e347aa3d-31a4-4502-9422-b0b7e8733c17 ]] \r\n",
       "E7 -[thickness=3]- \"*\"E9 [[psysml:6852a8da-427c-4993-bbf6-22174e5f8d33 ]] \r\n",
       "@enduml\r\n",
       "\n",
       "PlantUML version 1.2020.13(Sat Jun 13 12:26:38 UTC 2020)\n",
       "(EPL source distribution)\n",
       "Java Runtime: OpenJDK Runtime Environment\n",
       "JVM: OpenJDK 64-Bit Server VM\n",
       "Default Encoding: UTF-8\n",
       "Language: en\n",
       "Country: null\n",
       "--></g></svg>"
      ]
     },
     "execution_count": 5,
     "metadata": {},
     "output_type": "execute_result"
    }
   ],
   "source": [
    "%viz --style=\"COMPTREE\" --view=\"Interconnection\" \"AliasTest\""
   ]
  },
  {
   "cell_type": "code",
   "execution_count": 6,
   "id": "bf90f2af",
   "metadata": {
    "execution": {
     "iopub.execute_input": "2022-04-22T09:51:30.950765Z",
     "iopub.status.busy": "2022-04-22T09:51:30.950296Z",
     "iopub.status.idle": "2022-04-22T09:51:30.959149Z",
     "shell.execute_reply": "2022-04-22T09:51:30.959496Z"
    }
   },
   "outputs": [
    {
     "data": {
      "image/svg+xml": [
       "<?xml version=\"1.0\" encoding=\"UTF-8\" standalone=\"no\"?><svg xmlns=\"http://www.w3.org/2000/svg\" xmlns:xlink=\"http://www.w3.org/1999/xlink\" contentScriptType=\"application/ecmascript\" contentStyleType=\"text/css\" height=\"12px\" preserveAspectRatio=\"none\" style=\"width:12px;height:12px;\" version=\"1.1\" viewBox=\"0 0 12 12\" width=\"12px\" zoomAndPan=\"magnify\"><defs/><g><!--MD5=[655b888544ca4751ea36af1068543f84]\n",
       "@startuml\r\n",
       "skinparam ranksep 8\r\n",
       " skinparam monochrome true\r\n",
       "skinparam classbackgroundcolor white\r\n",
       "skinparam shadowing false\r\n",
       "skinparam wrapWidth 300\r\n",
       "hide circle\r\n",
       "\r\n",
       "@enduml\r\n",
       "\n",
       "PlantUML version 1.2020.13(Sat Jun 13 12:26:38 UTC 2020)\n",
       "(EPL source distribution)\n",
       "Java Runtime: OpenJDK Runtime Environment\n",
       "JVM: OpenJDK 64-Bit Server VM\n",
       "Default Encoding: UTF-8\n",
       "Language: en\n",
       "Country: null\n",
       "--></g></svg>"
      ]
     },
     "execution_count": 6,
     "metadata": {},
     "output_type": "execute_result"
    }
   ],
   "source": [
    "%viz --style=\"COMPTREE\" --view=\"Action\" \"AliasTest\""
   ]
  },
  {
   "cell_type": "code",
   "execution_count": 7,
   "id": "1ece3060",
   "metadata": {
    "execution": {
     "iopub.execute_input": "2022-04-22T09:51:31.010191Z",
     "iopub.status.busy": "2022-04-22T09:51:31.009481Z",
     "iopub.status.idle": "2022-04-22T09:51:31.016971Z",
     "shell.execute_reply": "2022-04-22T09:51:31.017298Z"
    }
   },
   "outputs": [
    {
     "data": {
      "image/svg+xml": [
       "<?xml version=\"1.0\" encoding=\"UTF-8\" standalone=\"no\"?><svg xmlns=\"http://www.w3.org/2000/svg\" xmlns:xlink=\"http://www.w3.org/1999/xlink\" contentScriptType=\"application/ecmascript\" contentStyleType=\"text/css\" height=\"12px\" preserveAspectRatio=\"none\" style=\"width:12px;height:12px;\" version=\"1.1\" viewBox=\"0 0 12 12\" width=\"12px\" zoomAndPan=\"magnify\"><defs/><g><!--MD5=[803fc46c337be7a5c8a9831e35356779]\n",
       "@startuml\r\n",
       "skinparam roundcorner 20\r\n",
       "skinparam BoxPadding 20\r\n",
       "skinparam SequenceBoxBackgroundColor #white\r\n",
       "skinparam style strictuml\r\n",
       "skinparam maxMessageSize 100\r\n",
       " skinparam monochrome true\r\n",
       "skinparam classbackgroundcolor white\r\n",
       "skinparam shadowing false\r\n",
       "skinparam wrapWidth 300\r\n",
       "hide circle\r\n",
       "\r\n",
       "@enduml\r\n",
       "\n",
       "PlantUML version 1.2020.13(Sat Jun 13 12:26:38 UTC 2020)\n",
       "(EPL source distribution)\n",
       "Java Runtime: OpenJDK Runtime Environment\n",
       "JVM: OpenJDK 64-Bit Server VM\n",
       "Default Encoding: UTF-8\n",
       "Language: en\n",
       "Country: null\n",
       "--></g></svg>"
      ]
     },
     "execution_count": 7,
     "metadata": {},
     "output_type": "execute_result"
    }
   ],
   "source": [
    "%viz --style=\"COMPTREE\" --view=\"Sequence\" \"AliasTest\""
   ]
  },
  {
   "cell_type": "code",
   "execution_count": 8,
   "id": "7f428119",
   "metadata": {
    "execution": {
     "iopub.execute_input": "2022-04-22T09:51:31.067725Z",
     "iopub.status.busy": "2022-04-22T09:51:31.067310Z",
     "iopub.status.idle": "2022-04-22T09:51:31.164662Z",
     "shell.execute_reply": "2022-04-22T09:51:31.163220Z"
    }
   },
   "outputs": [
    {
     "data": {
      "image/svg+xml": [
       "<?xml version=\"1.0\" encoding=\"UTF-8\" standalone=\"no\"?><svg xmlns=\"http://www.w3.org/2000/svg\" xmlns:xlink=\"http://www.w3.org/1999/xlink\" contentScriptType=\"application/ecmascript\" contentStyleType=\"text/css\" height=\"423px\" preserveAspectRatio=\"none\" style=\"width:448px;height:423px;\" version=\"1.1\" viewBox=\"0 0 448 423\" width=\"448px\" zoomAndPan=\"magnify\"><defs/><g><!--MD5=[fbc87193dbaf4d95561dea2c320d4a47]\n",
       "cluster E1--><a href=\"psysml:5020e8e8-e597-4a8a-8c84-9076441471bb\" target=\"_top\" title=\"psysml:5020e8e8-e597-4a8a-8c84-9076441471bb\" xlink:actuate=\"onRequest\" xlink:href=\"psysml:5020e8e8-e597-4a8a-8c84-9076441471bb\" xlink:show=\"new\" xlink:title=\"psysml:5020e8e8-e597-4a8a-8c84-9076441471bb\" xlink:type=\"simple\"><polygon fill=\"#FFFFFF\" points=\"16,6,84,6,91,28.2969,426,28.2969,426,411,16,411,16,6\" style=\"stroke: #000000; stroke-width: 1.5;\"/><line style=\"stroke: #000000; stroke-width: 1.5;\" x1=\"16\" x2=\"91\" y1=\"28.2969\" y2=\"28.2969\"/><text fill=\"#000000\" font-family=\"sans-serif\" font-size=\"14\" font-weight=\"bold\" lengthAdjust=\"spacingAndGlyphs\" textLength=\"62\" x=\"20\" y=\"20.9951\">AliasTest</text></a><!--MD5=[b4997ac47864f28c2f74865a473b2911]\n",
       "class E2--><a href=\"psysml:09023520-b272-4b76-a802-4be530536a95\" target=\"_top\" title=\"psysml:09023520-b272-4b76-a802-4be530536a95\" xlink:actuate=\"onRequest\" xlink:href=\"psysml:09023520-b272-4b76-a802-4be530536a95\" xlink:show=\"new\" xlink:title=\"psysml:09023520-b272-4b76-a802-4be530536a95\" xlink:type=\"simple\"><rect fill=\"#FFFFFF\" height=\"45.9375\" id=\"E2\" rx=\"10\" ry=\"10\" style=\"stroke: #383838; stroke-width: 1.5;\" width=\"165\" x=\"244.5\" y=\"65\"/><text fill=\"#000000\" font-family=\"sans-serif\" font-size=\"12\" font-style=\"italic\" lengthAdjust=\"spacingAndGlyphs\" textLength=\"69\" x=\"292.5\" y=\"81.1387\">«attribute»</text><text fill=\"#000000\" font-family=\"sans-serif\" font-size=\"12\" lengthAdjust=\"spacingAndGlyphs\" textLength=\"159\" x=\"247.5\" y=\"95.1074\">b :&gt; ISQSpaceTime::width</text><line style=\"stroke: #383838; stroke-width: 1.5;\" x1=\"245.5\" x2=\"408.5\" y1=\"102.9375\" y2=\"102.9375\"/></a><!--MD5=[09b614a08d8cba4a07c9adeb5e0fee81]\n",
       "class E3--><a href=\"psysml:2d23ecbc-8f8b-40e5-8168-7a4eefd95afa\" target=\"_top\" title=\"psysml:2d23ecbc-8f8b-40e5-8168-7a4eefd95afa\" xlink:actuate=\"onRequest\" xlink:href=\"psysml:2d23ecbc-8f8b-40e5-8168-7a4eefd95afa\" xlink:show=\"new\" xlink:title=\"psysml:2d23ecbc-8f8b-40e5-8168-7a4eefd95afa\" xlink:type=\"simple\"><rect fill=\"#FFFFFF\" height=\"94.3516\" id=\"E3\" style=\"stroke: #383838; stroke-width: 1.5;\" width=\"70\" x=\"121\" y=\"195\"/><text fill=\"#000000\" font-family=\"sans-serif\" font-size=\"12\" font-style=\"italic\" lengthAdjust=\"spacingAndGlyphs\" textLength=\"68\" x=\"122\" y=\"211.1387\">«part  def»</text><text fill=\"#000000\" font-family=\"sans-serif\" font-size=\"12\" lengthAdjust=\"spacingAndGlyphs\" textLength=\"16\" x=\"148\" y=\"225.1074\">P1</text><line style=\"stroke: #383838; stroke-width: 1.5;\" x1=\"122\" x2=\"190\" y1=\"232.9375\" y2=\"232.9375\"/><text fill=\"#000000\" font-family=\"sans-serif\" font-size=\"11\" lengthAdjust=\"spacingAndGlyphs\" textLength=\"36\" x=\"127\" y=\"263.9526\">porig1</text><line style=\"stroke: #383838; stroke-width: 1.0;\" x1=\"122\" x2=\"141\" y1=\"247.3398\" y2=\"247.3398\"/><text fill=\"#000000\" font-family=\"sans-serif\" font-size=\"11\" lengthAdjust=\"spacingAndGlyphs\" textLength=\"30\" x=\"141\" y=\"250.6479\">ports</text><line style=\"stroke: #383838; stroke-width: 1.0;\" x1=\"171\" x2=\"190\" y1=\"247.3398\" y2=\"247.3398\"/><text fill=\"#000000\" font-family=\"sans-serif\" font-size=\"11\" lengthAdjust=\"spacingAndGlyphs\" textLength=\"0\" x=\"143\" y=\"282.7573\"/><rect fill=\"#FFFFFF\" height=\"2\" style=\"stroke: #000000; stroke-width: 1.0;\" width=\"2\" x=\"136\" y=\"277.9492\"/><line style=\"stroke: #000000; stroke-width: 1.0;\" x1=\"129\" x2=\"137\" y1=\"278.9492\" y2=\"278.9492\"/><line style=\"stroke: #000000; stroke-width: 1.0;\" x1=\"129\" x2=\"129\" y1=\"272.5469\" y2=\"278.9492\"/></a><!--MD5=[ebbe1d658d1005bcc118a6aa81145e00]\n",
       "class E4--><a href=\"psysml:371120a0-4800-4c08-b9c5-19a2f97c5f1a\" target=\"_top\" title=\"psysml:371120a0-4800-4c08-b9c5-19a2f97c5f1a\" xlink:actuate=\"onRequest\" xlink:href=\"psysml:371120a0-4800-4c08-b9c5-19a2f97c5f1a\" xlink:show=\"new\" xlink:title=\"psysml:371120a0-4800-4c08-b9c5-19a2f97c5f1a\" xlink:type=\"simple\"><rect fill=\"#FFFFFF\" height=\"45.9375\" id=\"E4\" rx=\"10\" ry=\"10\" style=\"stroke: #383838; stroke-width: 1.5;\" width=\"50\" x=\"131\" y=\"349\"/><text fill=\"#000000\" font-family=\"sans-serif\" font-size=\"12\" font-style=\"italic\" lengthAdjust=\"spacingAndGlyphs\" textLength=\"40\" x=\"136\" y=\"365.1387\">«port»</text><text fill=\"#000000\" font-family=\"sans-serif\" font-size=\"12\" lengthAdjust=\"spacingAndGlyphs\" textLength=\"40\" x=\"134\" y=\"379.1074\">porig1</text><line style=\"stroke: #383838; stroke-width: 1.5;\" x1=\"132\" x2=\"180\" y1=\"386.9375\" y2=\"386.9375\"/></a><!--MD5=[270fce915f116d4de14055a7c1d9a0f3]\n",
       "class E5--><a href=\"psysml:23efd2aa-8423-4d75-9f93-6567d973731c\" target=\"_top\" title=\"psysml:23efd2aa-8423-4d75-9f93-6567d973731c\" xlink:actuate=\"onRequest\" xlink:href=\"psysml:23efd2aa-8423-4d75-9f93-6567d973731c\" xlink:show=\"new\" xlink:title=\"psysml:23efd2aa-8423-4d75-9f93-6567d973731c\" xlink:type=\"simple\"><rect fill=\"#FFFFFF\" height=\"88.3516\" id=\"E5\" rx=\"10\" ry=\"10\" style=\"stroke: #383838; stroke-width: 1.5;\" width=\"92\" x=\"117\" y=\"44\"/><text fill=\"#000000\" font-family=\"sans-serif\" font-size=\"12\" font-style=\"italic\" lengthAdjust=\"spacingAndGlyphs\" textLength=\"40\" x=\"143\" y=\"60.1387\">«part»</text><text fill=\"#000000\" font-family=\"sans-serif\" font-size=\"12\" lengthAdjust=\"spacingAndGlyphs\" textLength=\"40\" x=\"141\" y=\"74.1074\">p1: P1</text><line style=\"stroke: #383838; stroke-width: 1.5;\" x1=\"118\" x2=\"208\" y1=\"81.9375\" y2=\"81.9375\"/><text fill=\"#000000\" font-family=\"sans-serif\" font-size=\"11\" lengthAdjust=\"spacingAndGlyphs\" textLength=\"21\" x=\"123\" y=\"112.9526\">po1</text><text fill=\"#000000\" font-family=\"sans-serif\" font-size=\"11\" font-style=\"italic\" lengthAdjust=\"spacingAndGlyphs\" textLength=\"80\" x=\"123\" y=\"125.7573\">:&gt;&gt;P1::porig1</text><line style=\"stroke: #383838; stroke-width: 1.0;\" x1=\"118\" x2=\"148\" y1=\"96.3398\" y2=\"96.3398\"/><text fill=\"#000000\" font-family=\"sans-serif\" font-size=\"11\" lengthAdjust=\"spacingAndGlyphs\" textLength=\"30\" x=\"148\" y=\"99.6479\">ports</text><line style=\"stroke: #383838; stroke-width: 1.0;\" x1=\"178\" x2=\"208\" y1=\"96.3398\" y2=\"96.3398\"/></a><!--MD5=[60a26617385b1d2d0262a64233df1f8d]\n",
       "class E6--><a href=\"psysml:32558afe-9574-460d-81c7-219976cfcf7f\" target=\"_top\" title=\"psysml:32558afe-9574-460d-81c7-219976cfcf7f\" xlink:actuate=\"onRequest\" xlink:href=\"psysml:32558afe-9574-460d-81c7-219976cfcf7f\" xlink:show=\"new\" xlink:title=\"psysml:32558afe-9574-460d-81c7-219976cfcf7f\" xlink:type=\"simple\"><rect fill=\"#FFFFFF\" height=\"94.3516\" id=\"E6\" rx=\"10\" ry=\"10\" style=\"stroke: #383838; stroke-width: 1.5;\" width=\"50\" x=\"32\" y=\"41\"/><text fill=\"#000000\" font-family=\"sans-serif\" font-size=\"12\" font-style=\"italic\" lengthAdjust=\"spacingAndGlyphs\" textLength=\"40\" x=\"37\" y=\"57.1387\">«part»</text><text fill=\"#000000\" font-family=\"sans-serif\" font-size=\"12\" lengthAdjust=\"spacingAndGlyphs\" textLength=\"40\" x=\"35\" y=\"71.1074\">p2: P1</text><line style=\"stroke: #383838; stroke-width: 1.5;\" x1=\"33\" x2=\"81\" y1=\"78.9375\" y2=\"78.9375\"/><text fill=\"#000000\" font-family=\"sans-serif\" font-size=\"11\" lengthAdjust=\"spacingAndGlyphs\" textLength=\"32\" x=\"38\" y=\"109.9526\">pdest</text><line style=\"stroke: #383838; stroke-width: 1.0;\" x1=\"33\" x2=\"42\" y1=\"93.3398\" y2=\"93.3398\"/><text fill=\"#000000\" font-family=\"sans-serif\" font-size=\"11\" lengthAdjust=\"spacingAndGlyphs\" textLength=\"30\" x=\"42\" y=\"96.6479\">ports</text><line style=\"stroke: #383838; stroke-width: 1.0;\" x1=\"72\" x2=\"81\" y1=\"93.3398\" y2=\"93.3398\"/><text fill=\"#000000\" font-family=\"sans-serif\" font-size=\"11\" lengthAdjust=\"spacingAndGlyphs\" textLength=\"0\" x=\"54\" y=\"128.7573\"/><rect fill=\"#FFFFFF\" height=\"2\" style=\"stroke: #000000; stroke-width: 1.0;\" width=\"2\" x=\"47\" y=\"123.9492\"/><line style=\"stroke: #000000; stroke-width: 1.0;\" x1=\"40\" x2=\"48\" y1=\"124.9492\" y2=\"124.9492\"/><line style=\"stroke: #000000; stroke-width: 1.0;\" x1=\"40\" x2=\"40\" y1=\"118.5469\" y2=\"124.9492\"/></a><!--MD5=[2156ba9850f5573cc1fc38a6a4b2f02b]\n",
       "class E7--><a href=\"psysml:9d4715a0-ecad-4cb9-af91-593b0378d847\" target=\"_top\" title=\"psysml:9d4715a0-ecad-4cb9-af91-593b0378d847\" xlink:actuate=\"onRequest\" xlink:href=\"psysml:9d4715a0-ecad-4cb9-af91-593b0378d847\" xlink:show=\"new\" xlink:title=\"psysml:9d4715a0-ecad-4cb9-af91-593b0378d847\" xlink:type=\"simple\"><rect fill=\"#FFFFFF\" height=\"45.9375\" id=\"E7\" rx=\"10\" ry=\"10\" style=\"stroke: #383838; stroke-width: 1.5;\" width=\"46\" x=\"34\" y=\"219\"/><text fill=\"#000000\" font-family=\"sans-serif\" font-size=\"12\" font-style=\"italic\" lengthAdjust=\"spacingAndGlyphs\" textLength=\"40\" x=\"37\" y=\"235.1387\">«port»</text><text fill=\"#000000\" font-family=\"sans-serif\" font-size=\"12\" lengthAdjust=\"spacingAndGlyphs\" textLength=\"36\" x=\"37\" y=\"249.1074\">pdest</text><line style=\"stroke: #383838; stroke-width: 1.5;\" x1=\"35\" x2=\"79\" y1=\"256.9375\" y2=\"256.9375\"/></a><!--MD5=[4672eba38e49728da53d11aeb285b987]\n",
       "reverse link E3 to E4--><a href=\"psysml:2fb80261-1acb-4246-9b34-6566336881f2\" target=\"_top\" title=\"psysml:2fb80261-1acb-4246-9b34-6566336881f2\" xlink:actuate=\"onRequest\" xlink:href=\"psysml:2fb80261-1acb-4246-9b34-6566336881f2\" xlink:show=\"new\" xlink:title=\"psysml:2fb80261-1acb-4246-9b34-6566336881f2\" xlink:type=\"simple\"><path d=\"M156,304.32 C156,320.28 156,336.46 156,348.89 \" fill=\"none\" id=\"E3&lt;-E4\" style=\"stroke: #383838; stroke-width: 1.0; stroke-dasharray: 7.0,7.0;\"/><ellipse cx=\"156\" cy=\"297.21\" fill=\"#FFFFFF\" rx=\"8\" ry=\"8\" style=\"stroke: #383838; stroke-width: 1.0;\"/><line style=\"stroke: #383838; stroke-width: 1.0;\" x1=\"156\" x2=\"156\" y1=\"305.21\" y2=\"289.21\"/><line style=\"stroke: #383838; stroke-width: 1.0;\" x1=\"148\" x2=\"164\" y1=\"297.21\" y2=\"297.21\"/><text fill=\"#000000\" font-family=\"sans-serif\" font-size=\"13\" lengthAdjust=\"spacingAndGlyphs\" textLength=\"8\" x=\"146.925\" y=\"337.7567\">1</text></a><!--MD5=[e9be52314489bd878ff4c7144b63c9e1]\n",
       "link E5 to E3--><a href=\"psysml:bae878c2-3025-4ed8-bae0-781c13e39aed\" target=\"_top\" title=\"psysml:bae878c2-3025-4ed8-bae0-781c13e39aed\" xlink:actuate=\"onRequest\" xlink:href=\"psysml:bae878c2-3025-4ed8-bae0-781c13e39aed\" xlink:show=\"new\" xlink:title=\"psysml:bae878c2-3025-4ed8-bae0-781c13e39aed\" xlink:type=\"simple\"><path d=\"M161.01,132.15 C160.41,145.3 159.73,160.08 159.07,174.4 \" fill=\"none\" id=\"E5-&gt;E3\" style=\"stroke: #383838; stroke-width: 1.0;\"/><polygon fill=\"#FFFFFF\" points=\"158.13,194.82,152.0056,175.52,165.991,176.1597,158.13,194.82\" style=\"stroke: #383838; stroke-width: 1.0;\"/><ellipse cx=\"154.264\" cy=\"169.9173\" fill=\"#383838\" rx=\"2\" ry=\"2\" style=\"stroke: #383838; stroke-width: 1.0;\"/><ellipse cx=\"164.2535\" cy=\"170.3743\" fill=\"#383838\" rx=\"2\" ry=\"2\" style=\"stroke: #383838; stroke-width: 1.0;\"/></a><!--MD5=[a717450b82c80b9240a525fa862496af]\n",
       "link E6 to E3--><a href=\"psysml:22f6621f-c82b-45b4-aad5-95fd1a975c3d\" target=\"_top\" title=\"psysml:22f6621f-c82b-45b4-aad5-95fd1a975c3d\" xlink:actuate=\"onRequest\" xlink:href=\"psysml:22f6621f-c82b-45b4-aad5-95fd1a975c3d\" xlink:show=\"new\" xlink:title=\"psysml:22f6621f-c82b-45b4-aad5-95fd1a975c3d\" xlink:type=\"simple\"><path d=\"M82.24,127.75 C92.15,142.97 103.8,160.85 114.86,177.84 \" fill=\"none\" id=\"E6-&gt;E3\" style=\"stroke: #383838; stroke-width: 1.0;\"/><polygon fill=\"#FFFFFF\" points=\"125.87,194.74,109.6276,182.6493,121.3542,175.0015,125.87,194.74\" style=\"stroke: #383838; stroke-width: 1.0;\"/><ellipse cx=\"108.1891\" cy=\"176.7824\" fill=\"#383838\" rx=\"2\" ry=\"2\" style=\"stroke: #383838; stroke-width: 1.0;\"/><ellipse cx=\"116.5652\" cy=\"171.3197\" fill=\"#383838\" rx=\"2\" ry=\"2\" style=\"stroke: #383838; stroke-width: 1.0;\"/></a><!--MD5=[3f50a3473f1dfb74d3f76443e03635af]\n",
       "reverse link E6 to E7--><a href=\"psysml:3441a1bf-d119-4e2c-bd85-6011f03ceff2\" target=\"_top\" title=\"psysml:3441a1bf-d119-4e2c-bd85-6011f03ceff2\" xlink:actuate=\"onRequest\" xlink:href=\"psysml:3441a1bf-d119-4e2c-bd85-6011f03ceff2\" xlink:show=\"new\" xlink:title=\"psysml:3441a1bf-d119-4e2c-bd85-6011f03ceff2\" xlink:type=\"simple\"><path d=\"M57,150.16 C57,174.43 57,200.81 57,218.85 \" fill=\"none\" id=\"E6&lt;-E7\" style=\"stroke: #383838; stroke-width: 1.0; stroke-dasharray: 7.0,7.0;\"/><ellipse cx=\"57\" cy=\"143.02\" fill=\"#FFFFFF\" rx=\"8\" ry=\"8\" style=\"stroke: #383838; stroke-width: 1.0;\"/><line style=\"stroke: #383838; stroke-width: 1.0;\" x1=\"57\" x2=\"57\" y1=\"151.02\" y2=\"135.02\"/><line style=\"stroke: #383838; stroke-width: 1.0;\" x1=\"49\" x2=\"65\" y1=\"143.02\" y2=\"143.02\"/><text fill=\"#000000\" font-family=\"sans-serif\" font-size=\"13\" lengthAdjust=\"spacingAndGlyphs\" textLength=\"8\" x=\"47.975\" y=\"208.0879\">1</text></a><!--MD5=[729f93f7a2e36035c95f59656bcf977d]\n",
       "@startuml\r\n",
       " skinparam monochrome true\r\n",
       "skinparam classbackgroundcolor white\r\n",
       "skinparam shadowing false\r\n",
       "skinparam wrapWidth 300\r\n",
       "hide circle\r\n",
       "\r\n",
       "package \"AliasTest\" as E1  [[psysml:5020e8e8-e597-4a8a-8c84-9076441471bb ]]  {\r\n",
       "comp usage \"b :> ISQSpaceTime::width\" as E2  <<(T,blue) attribute>> [[psysml:09023520-b272-4b76-a802-4be530536a95 ]] {\r\n",
       "}\r\n",
       "comp def \"P1\" as E3  <<(T,blue) part  def>> [[psysml:2d23ecbc-8f8b-40e5-8168-7a4eefd95afa ]] {\r\n",
       "- - ports - -\r\n",
       "porig1\r\n",
       "|_ \r\n",
       "}\r\n",
       "comp usage \"porig1 \" as E4  <<(T,blue) port>> [[psysml:371120a0-4800-4c08-b9c5-19a2f97c5f1a ]] {\r\n",
       "}\r\n",
       "comp usage \"p1: P1 \" as E5  <<(T,blue) part>> [[psysml:23efd2aa-8423-4d75-9f93-6567d973731c ]] {\r\n",
       "- - ports - -\r\n",
       "po1\\n//:>>P1::porig1// \r\n",
       "}\r\n",
       "comp usage \"p2: P1 \" as E6  <<(T,blue) part>> [[psysml:32558afe-9574-460d-81c7-219976cfcf7f ]] {\r\n",
       "- - ports - -\r\n",
       "pdest\r\n",
       "|_ \r\n",
       "}\r\n",
       "comp usage \"pdest \" as E7  <<(T,blue) port>> [[psysml:9d4715a0-ecad-4cb9-af91-593b0378d847 ]] {\r\n",
       "}\r\n",
       "}\r\n",
       "E3 +.. \"1\"E4 [[psysml:2fb80261-1acb-4246-9b34-6566336881f2 ]] \r\n",
       "E5 - -:|> E3 [[psysml:bae878c2-3025-4ed8-bae0-781c13e39aed ]] \r\n",
       "E6 - -:|> E3 [[psysml:22f6621f-c82b-45b4-aad5-95fd1a975c3d ]] \r\n",
       "E6 +.. \"1\"E7 [[psysml:3441a1bf-d119-4e2c-bd85-6011f03ceff2 ]] \r\n",
       "@enduml\r\n",
       "\n",
       "PlantUML version 1.2020.13(Sat Jun 13 12:26:38 UTC 2020)\n",
       "(EPL source distribution)\n",
       "Java Runtime: OpenJDK Runtime Environment\n",
       "JVM: OpenJDK 64-Bit Server VM\n",
       "Default Encoding: UTF-8\n",
       "Language: en\n",
       "Country: null\n",
       "--></g></svg>"
      ]
     },
     "execution_count": 8,
     "metadata": {},
     "output_type": "execute_result"
    }
   ],
   "source": [
    "%viz --style=\"COMPTREE\" --view=\"MIXED\" \"AliasTest\""
   ]
  },
  {
   "cell_type": "code",
   "execution_count": 9,
   "id": "a9c6f237",
   "metadata": {
    "execution": {
     "iopub.execute_input": "2022-04-22T09:51:31.214231Z",
     "iopub.status.busy": "2022-04-22T09:51:31.213803Z",
     "iopub.status.idle": "2022-04-22T09:51:31.261003Z",
     "shell.execute_reply": "2022-04-22T09:51:31.259469Z"
    }
   },
   "outputs": [
    {
     "data": {
      "image/svg+xml": [
       "<?xml version=\"1.0\" encoding=\"UTF-8\" standalone=\"no\"?><svg xmlns=\"http://www.w3.org/2000/svg\" xmlns:xlink=\"http://www.w3.org/1999/xlink\" contentScriptType=\"application/ecmascript\" contentStyleType=\"text/css\" height=\"327px\" preserveAspectRatio=\"none\" style=\"width:406px;height:327px;\" version=\"1.1\" viewBox=\"0 0 406 327\" width=\"406px\" zoomAndPan=\"magnify\"><defs/><g><!--MD5=[fbc87193dbaf4d95561dea2c320d4a47]\n",
       "cluster E1--><a href=\"psysml:5020e8e8-e597-4a8a-8c84-9076441471bb\" target=\"_top\" title=\"psysml:5020e8e8-e597-4a8a-8c84-9076441471bb\" xlink:actuate=\"onRequest\" xlink:href=\"psysml:5020e8e8-e597-4a8a-8c84-9076441471bb\" xlink:show=\"new\" xlink:title=\"psysml:5020e8e8-e597-4a8a-8c84-9076441471bb\" xlink:type=\"simple\"><polygon fill=\"#FFFFFF\" points=\"16,6,84,6,91,28.2969,384,28.2969,384,315,16,315,16,6\" style=\"stroke: #000000; stroke-width: 1.5;\"/><line style=\"stroke: #000000; stroke-width: 1.5;\" x1=\"16\" x2=\"91\" y1=\"28.2969\" y2=\"28.2969\"/><text fill=\"#000000\" font-family=\"sans-serif\" font-size=\"14\" font-weight=\"bold\" lengthAdjust=\"spacingAndGlyphs\" textLength=\"62\" x=\"20\" y=\"20.9951\">AliasTest</text></a><!--MD5=[b4997ac47864f28c2f74865a473b2911]\n",
       "class E2--><a href=\"psysml:09023520-b272-4b76-a802-4be530536a95\" target=\"_top\" title=\"psysml:09023520-b272-4b76-a802-4be530536a95\" xlink:actuate=\"onRequest\" xlink:href=\"psysml:09023520-b272-4b76-a802-4be530536a95\" xlink:show=\"new\" xlink:title=\"psysml:09023520-b272-4b76-a802-4be530536a95\" xlink:type=\"simple\"><rect fill=\"#FFFFFF\" height=\"45.9375\" id=\"E2\" rx=\"10\" ry=\"10\" style=\"stroke: #383838; stroke-width: 1.5;\" width=\"165\" x=\"202.5\" y=\"41\"/><text fill=\"#000000\" font-family=\"sans-serif\" font-size=\"12\" font-style=\"italic\" lengthAdjust=\"spacingAndGlyphs\" textLength=\"69\" x=\"250.5\" y=\"57.1387\">«attribute»</text><text fill=\"#000000\" font-family=\"sans-serif\" font-size=\"12\" lengthAdjust=\"spacingAndGlyphs\" textLength=\"159\" x=\"205.5\" y=\"71.1074\">b :&gt; ISQSpaceTime::width</text><line style=\"stroke: #383838; stroke-width: 1.5;\" x1=\"203.5\" x2=\"366.5\" y1=\"78.9375\" y2=\"78.9375\"/></a><!--MD5=[09b614a08d8cba4a07c9adeb5e0fee81]\n",
       "class E3--><a href=\"psysml:2d23ecbc-8f8b-40e5-8168-7a4eefd95afa\" target=\"_top\" title=\"psysml:2d23ecbc-8f8b-40e5-8168-7a4eefd95afa\" xlink:actuate=\"onRequest\" xlink:href=\"psysml:2d23ecbc-8f8b-40e5-8168-7a4eefd95afa\" xlink:show=\"new\" xlink:title=\"psysml:2d23ecbc-8f8b-40e5-8168-7a4eefd95afa\" xlink:type=\"simple\"><rect fill=\"#FFFFFF\" height=\"45.9375\" id=\"E3\" style=\"stroke: #383838; stroke-width: 1.5;\" width=\"70\" x=\"170\" y=\"147\"/><text fill=\"#000000\" font-family=\"sans-serif\" font-size=\"12\" font-style=\"italic\" lengthAdjust=\"spacingAndGlyphs\" textLength=\"68\" x=\"171\" y=\"163.1387\">«part  def»</text><text fill=\"#000000\" font-family=\"sans-serif\" font-size=\"12\" lengthAdjust=\"spacingAndGlyphs\" textLength=\"16\" x=\"197\" y=\"177.1074\">P1</text><line style=\"stroke: #383838; stroke-width: 1.5;\" x1=\"171\" x2=\"239\" y1=\"184.9375\" y2=\"184.9375\"/></a><!--MD5=[ebbe1d658d1005bcc118a6aa81145e00]\n",
       "class E4--><a href=\"psysml:371120a0-4800-4c08-b9c5-19a2f97c5f1a\" target=\"_top\" title=\"psysml:371120a0-4800-4c08-b9c5-19a2f97c5f1a\" xlink:actuate=\"onRequest\" xlink:href=\"psysml:371120a0-4800-4c08-b9c5-19a2f97c5f1a\" xlink:show=\"new\" xlink:title=\"psysml:371120a0-4800-4c08-b9c5-19a2f97c5f1a\" xlink:type=\"simple\"><rect fill=\"#FFFFFF\" height=\"45.9375\" id=\"E4\" rx=\"10\" ry=\"10\" style=\"stroke: #383838; stroke-width: 1.5;\" width=\"50\" x=\"180\" y=\"253\"/><text fill=\"#000000\" font-family=\"sans-serif\" font-size=\"12\" font-style=\"italic\" lengthAdjust=\"spacingAndGlyphs\" textLength=\"40\" x=\"185\" y=\"269.1387\">«port»</text><text fill=\"#000000\" font-family=\"sans-serif\" font-size=\"12\" lengthAdjust=\"spacingAndGlyphs\" textLength=\"40\" x=\"183\" y=\"283.1074\">porig1</text><line style=\"stroke: #383838; stroke-width: 1.5;\" x1=\"181\" x2=\"229\" y1=\"290.9375\" y2=\"290.9375\"/></a><!--MD5=[270fce915f116d4de14055a7c1d9a0f3]\n",
       "class E5--><a href=\"psysml:23efd2aa-8423-4d75-9f93-6567d973731c\" target=\"_top\" title=\"psysml:23efd2aa-8423-4d75-9f93-6567d973731c\" xlink:actuate=\"onRequest\" xlink:href=\"psysml:23efd2aa-8423-4d75-9f93-6567d973731c\" xlink:show=\"new\" xlink:title=\"psysml:23efd2aa-8423-4d75-9f93-6567d973731c\" xlink:type=\"simple\"><rect fill=\"#FFFFFF\" height=\"45.9375\" id=\"E5\" rx=\"10\" ry=\"10\" style=\"stroke: #383838; stroke-width: 1.5;\" width=\"50\" x=\"117\" y=\"41\"/><text fill=\"#000000\" font-family=\"sans-serif\" font-size=\"12\" font-style=\"italic\" lengthAdjust=\"spacingAndGlyphs\" textLength=\"40\" x=\"122\" y=\"57.1387\">«part»</text><text fill=\"#000000\" font-family=\"sans-serif\" font-size=\"12\" lengthAdjust=\"spacingAndGlyphs\" textLength=\"40\" x=\"120\" y=\"71.1074\">p1: P1</text><line style=\"stroke: #383838; stroke-width: 1.5;\" x1=\"118\" x2=\"166\" y1=\"78.9375\" y2=\"78.9375\"/></a><!--MD5=[60a26617385b1d2d0262a64233df1f8d]\n",
       "class E6--><a href=\"psysml:a6a8a5d4-8051-439c-be85-1eee73d04018\" target=\"_top\" title=\"psysml:a6a8a5d4-8051-439c-be85-1eee73d04018\" xlink:actuate=\"onRequest\" xlink:href=\"psysml:a6a8a5d4-8051-439c-be85-1eee73d04018\" xlink:show=\"new\" xlink:title=\"psysml:a6a8a5d4-8051-439c-be85-1eee73d04018\" xlink:type=\"simple\"><rect fill=\"#FFFFFF\" height=\"45.9375\" id=\"E6\" rx=\"10\" ry=\"10\" style=\"stroke: #383838; stroke-width: 1.5;\" width=\"42\" x=\"93\" y=\"147\"/><text fill=\"#000000\" font-family=\"sans-serif\" font-size=\"12\" font-style=\"italic\" lengthAdjust=\"spacingAndGlyphs\" textLength=\"40\" x=\"94\" y=\"163.1387\">«port»</text><text fill=\"#000000\" font-family=\"sans-serif\" font-size=\"12\" lengthAdjust=\"spacingAndGlyphs\" textLength=\"24\" x=\"100\" y=\"177.1074\">po1</text><line style=\"stroke: #383838; stroke-width: 1.5;\" x1=\"94\" x2=\"134\" y1=\"184.9375\" y2=\"184.9375\"/></a><!--MD5=[2156ba9850f5573cc1fc38a6a4b2f02b]\n",
       "class E7--><a href=\"psysml:32558afe-9574-460d-81c7-219976cfcf7f\" target=\"_top\" title=\"psysml:32558afe-9574-460d-81c7-219976cfcf7f\" xlink:actuate=\"onRequest\" xlink:href=\"psysml:32558afe-9574-460d-81c7-219976cfcf7f\" xlink:show=\"new\" xlink:title=\"psysml:32558afe-9574-460d-81c7-219976cfcf7f\" xlink:type=\"simple\"><rect fill=\"#FFFFFF\" height=\"45.9375\" id=\"E7\" rx=\"10\" ry=\"10\" style=\"stroke: #383838; stroke-width: 1.5;\" width=\"50\" x=\"32\" y=\"41\"/><text fill=\"#000000\" font-family=\"sans-serif\" font-size=\"12\" font-style=\"italic\" lengthAdjust=\"spacingAndGlyphs\" textLength=\"40\" x=\"37\" y=\"57.1387\">«part»</text><text fill=\"#000000\" font-family=\"sans-serif\" font-size=\"12\" lengthAdjust=\"spacingAndGlyphs\" textLength=\"40\" x=\"35\" y=\"71.1074\">p2: P1</text><line style=\"stroke: #383838; stroke-width: 1.5;\" x1=\"33\" x2=\"81\" y1=\"78.9375\" y2=\"78.9375\"/></a><!--MD5=[b9389687b975829384b498ac4b7476b2]\n",
       "class E8--><a href=\"psysml:9d4715a0-ecad-4cb9-af91-593b0378d847\" target=\"_top\" title=\"psysml:9d4715a0-ecad-4cb9-af91-593b0378d847\" xlink:actuate=\"onRequest\" xlink:href=\"psysml:9d4715a0-ecad-4cb9-af91-593b0378d847\" xlink:show=\"new\" xlink:title=\"psysml:9d4715a0-ecad-4cb9-af91-593b0378d847\" xlink:type=\"simple\"><rect fill=\"#FFFFFF\" height=\"45.9375\" id=\"E8\" rx=\"10\" ry=\"10\" style=\"stroke: #383838; stroke-width: 1.5;\" width=\"46\" x=\"63\" y=\"253\"/><text fill=\"#000000\" font-family=\"sans-serif\" font-size=\"12\" font-style=\"italic\" lengthAdjust=\"spacingAndGlyphs\" textLength=\"40\" x=\"66\" y=\"269.1387\">«port»</text><text fill=\"#000000\" font-family=\"sans-serif\" font-size=\"12\" lengthAdjust=\"spacingAndGlyphs\" textLength=\"36\" x=\"66\" y=\"283.1074\">pdest</text><line style=\"stroke: #383838; stroke-width: 1.5;\" x1=\"64\" x2=\"108\" y1=\"290.9375\" y2=\"290.9375\"/></a><!--MD5=[4672eba38e49728da53d11aeb285b987]\n",
       "reverse link E3 to E4--><a href=\"psysml:77da464e-a07c-41d7-bf00-c994457c7429\" target=\"_top\" title=\"psysml:77da464e-a07c-41d7-bf00-c994457c7429\" xlink:actuate=\"onRequest\" xlink:href=\"psysml:77da464e-a07c-41d7-bf00-c994457c7429\" xlink:show=\"new\" xlink:title=\"psysml:77da464e-a07c-41d7-bf00-c994457c7429\" xlink:type=\"simple\"><path d=\"M192.84,206.44 C191.7,221.87 192.21,239.47 194.36,252.98 \" fill=\"none\" id=\"E3&lt;-E4\" style=\"stroke: #383838; stroke-width: 1.0;\"/><polygon fill=\"#FFFFFF\" points=\"194.35,193.06,189.7032,198.5743,193.006,204.9845,197.6528,199.4702,194.35,193.06\" style=\"stroke: #383838; stroke-width: 1.0;\"/><text fill=\"#000000\" font-family=\"sans-serif\" font-size=\"13\" lengthAdjust=\"spacingAndGlyphs\" textLength=\"8\" x=\"182.4255\" y=\"241.8709\">1</text></a><!--MD5=[4672eba38e49728da53d11aeb285b987]\n",
       "reverse link E3 to E4--><a href=\"psysml:2fb80261-1acb-4246-9b34-6566336881f2\" target=\"_top\" title=\"psysml:2fb80261-1acb-4246-9b34-6566336881f2\" xlink:actuate=\"onRequest\" xlink:href=\"psysml:2fb80261-1acb-4246-9b34-6566336881f2\" xlink:show=\"new\" xlink:title=\"psysml:2fb80261-1acb-4246-9b34-6566336881f2\" xlink:type=\"simple\"><path d=\"M218.01,208.34 C219.03,223.3 218.45,240.02 216.27,252.98 \" fill=\"none\" id=\"E3&lt;-E4-1\" style=\"stroke: #383838; stroke-width: 1.0; stroke-dasharray: 7.0,7.0;\"/><ellipse cx=\"217.1693\" cy=\"201.0093\" fill=\"#FFFFFF\" rx=\"8\" ry=\"8\" style=\"stroke: #383838; stroke-width: 1.0;\"/><line style=\"stroke: #383838; stroke-width: 1.0;\" x1=\"218.0687\" x2=\"216.27\" y1=\"208.9586\" y2=\"193.06\"/><line style=\"stroke: #383838; stroke-width: 1.0;\" x1=\"209.2201\" x2=\"225.1186\" y1=\"201.9086\" y2=\"200.1099\"/><text fill=\"#000000\" font-family=\"sans-serif\" font-size=\"13\" lengthAdjust=\"spacingAndGlyphs\" textLength=\"8\" x=\"210.2238\" y=\"241.8709\">1</text></a><!--MD5=[e9be52314489bd878ff4c7144b63c9e1]\n",
       "link E5 to E3--><a href=\"psysml:bae878c2-3025-4ed8-bae0-781c13e39aed\" target=\"_top\" title=\"psysml:bae878c2-3025-4ed8-bae0-781c13e39aed\" xlink:actuate=\"onRequest\" xlink:href=\"psysml:bae878c2-3025-4ed8-bae0-781c13e39aed\" xlink:show=\"new\" xlink:title=\"psysml:bae878c2-3025-4ed8-bae0-781c13e39aed\" xlink:type=\"simple\"><path d=\"M155.36,87.06 C162.88,99.47 172.49,115.33 181.24,129.78 \" fill=\"none\" id=\"E5-&gt;E3\" style=\"stroke: #383838; stroke-width: 1.0;\"/><polygon fill=\"#FFFFFF\" points=\"191.66,146.98,175.8217,134.3646,187.792,127.1044,191.66,146.98\" style=\"stroke: #383838; stroke-width: 1.0;\"/><ellipse cx=\"174.5758\" cy=\"128.4538\" fill=\"#383838\" rx=\"2\" ry=\"2\" style=\"stroke: #383838; stroke-width: 1.0;\"/><ellipse cx=\"183.126\" cy=\"123.2679\" fill=\"#383838\" rx=\"2\" ry=\"2\" style=\"stroke: #383838; stroke-width: 1.0;\"/></a><!--MD5=[85d356282659285ab4b2cfe2f634dd2b]\n",
       "reverse link E5 to E6--><a href=\"psysml:cd2d9195-2d40-49eb-a50a-4bb167712418\" target=\"_top\" title=\"psysml:cd2d9195-2d40-49eb-a50a-4bb167712418\" xlink:actuate=\"onRequest\" xlink:href=\"psysml:cd2d9195-2d40-49eb-a50a-4bb167712418\" xlink:show=\"new\" xlink:title=\"psysml:cd2d9195-2d40-49eb-a50a-4bb167712418\" xlink:type=\"simple\"><path d=\"M132.59,99.96 C128.4,115.51 123.6,133.33 119.93,146.98 \" fill=\"none\" id=\"E5&lt;-E6\" style=\"stroke: #383838; stroke-width: 1.0;\"/><polygon fill=\"#FFFFFF\" points=\"136.06,87.06,130.641,91.8176,132.9484,98.6496,138.3674,93.892,136.06,87.06\" style=\"stroke: #383838; stroke-width: 1.0;\"/><text fill=\"#000000\" font-family=\"sans-serif\" font-size=\"13\" lengthAdjust=\"spacingAndGlyphs\" textLength=\"8\" x=\"112.4487\" y=\"135.8709\">1</text></a><!--MD5=[f667431f98296947986a1a7595a31603]\n",
       "link E6 to E4--><a href=\"psysml:9b4aa44d-c7fb-440f-8f9d-ccf8058f014a\" target=\"_top\" title=\"psysml:9b4aa44d-c7fb-440f-8f9d-ccf8058f014a\" xlink:actuate=\"onRequest\" xlink:href=\"psysml:9b4aa44d-c7fb-440f-8f9d-ccf8058f014a\" xlink:show=\"new\" xlink:title=\"psysml:9b4aa44d-c7fb-440f-8f9d-ccf8058f014a\" xlink:type=\"simple\"><path d=\"M133.3,193.06 C144.64,206.02 159.28,222.74 172.36,237.7 \" fill=\"none\" id=\"E6-&gt;E4\" style=\"stroke: #383838; stroke-width: 1.0;\"/><polygon fill=\"#FFFFFF\" points=\"185.73,252.98,167.9517,243.2882,178.489,234.0705,185.73,252.98\" style=\"stroke: #383838; stroke-width: 1.0;\"/><line style=\"stroke: #383838; stroke-width: 2.0;\" x1=\"165.4497\" x2=\"175.9871\" y1=\"240.4281\" y2=\"231.2104\"/></a><!--MD5=[14ccda38c055a5c0da953d572bc50960]\n",
       "link E7 to E3--><a href=\"psysml:22f6621f-c82b-45b4-aad5-95fd1a975c3d\" target=\"_top\" title=\"psysml:22f6621f-c82b-45b4-aad5-95fd1a975c3d\" xlink:actuate=\"onRequest\" xlink:href=\"psysml:22f6621f-c82b-45b4-aad5-95fd1a975c3d\" xlink:show=\"new\" xlink:title=\"psysml:22f6621f-c82b-45b4-aad5-95fd1a975c3d\" xlink:type=\"simple\"><path d=\"M82.11,82.64 C102.61,97.05 132.18,117.83 157.18,135.39 \" fill=\"none\" id=\"E7-&gt;E3\" style=\"stroke: #383838; stroke-width: 1.0;\"/><polygon fill=\"#FFFFFF\" points=\"173.58,146.92,154.011,141.7187,162.0629,130.266,173.58,146.92\" style=\"stroke: #383838; stroke-width: 1.0;\"/><ellipse cx=\"150.4983\" cy=\"136.8043\" fill=\"#383838\" rx=\"2\" ry=\"2\" style=\"stroke: #383838; stroke-width: 1.0;\"/><ellipse cx=\"156.2497\" cy=\"128.6238\" fill=\"#383838\" rx=\"2\" ry=\"2\" style=\"stroke: #383838; stroke-width: 1.0;\"/></a><!--MD5=[dc164f5e8a733ab456ef1add180e9e34]\n",
       "reverse link E7 to E8--><a href=\"psysml:22337106-f0e5-4c32-83fd-01b8d559ead1\" target=\"_top\" title=\"psysml:22337106-f0e5-4c32-83fd-01b8d559ead1\" xlink:actuate=\"onRequest\" xlink:href=\"psysml:22337106-f0e5-4c32-83fd-01b8d559ead1\" xlink:show=\"new\" xlink:title=\"psysml:22337106-f0e5-4c32-83fd-01b8d559ead1\" xlink:type=\"simple\"><path d=\"M52.05,100.09 C53.65,143.61 64.25,216.5 74.75,252.9 \" fill=\"none\" id=\"E7&lt;-E8\" style=\"stroke: #383838; stroke-width: 1.0;\"/><polygon fill=\"#FFFFFF\" points=\"51.85,87.08,47.9362,93.1366,52.0216,99.0788,55.9354,93.0222,51.85,87.08\" style=\"stroke: #383838; stroke-width: 1.0;\"/><text fill=\"#000000\" font-family=\"sans-serif\" font-size=\"13\" lengthAdjust=\"spacingAndGlyphs\" textLength=\"8\" x=\"62.6516\" y=\"241.7694\">1</text></a><!--MD5=[dc164f5e8a733ab456ef1add180e9e34]\n",
       "reverse link E7 to E8--><a href=\"psysml:3441a1bf-d119-4e2c-bd85-6011f03ceff2\" target=\"_top\" title=\"psysml:3441a1bf-d119-4e2c-bd85-6011f03ceff2\" xlink:actuate=\"onRequest\" xlink:href=\"psysml:3441a1bf-d119-4e2c-bd85-6011f03ceff2\" xlink:show=\"new\" xlink:title=\"psysml:3441a1bf-d119-4e2c-bd85-6011f03ceff2\" xlink:type=\"simple\"><path d=\"M72.64,101.8 C83.15,145.5 92.39,216.97 91.63,252.9 \" fill=\"none\" id=\"E7&lt;-E8-1\" style=\"stroke: #383838; stroke-width: 1.0; stroke-dasharray: 7.0,7.0;\"/><ellipse cx=\"70.7794\" cy=\"94.813\" fill=\"#FFFFFF\" rx=\"8\" ry=\"8\" style=\"stroke: #383838; stroke-width: 1.0;\"/><line style=\"stroke: #383838; stroke-width: 1.0;\" x1=\"72.8289\" x2=\"68.73\" y1=\"102.5461\" y2=\"87.08\"/><line style=\"stroke: #383838; stroke-width: 1.0;\" x1=\"63.0464\" x2=\"78.5125\" y1=\"96.8625\" y2=\"92.7636\"/><text fill=\"#000000\" font-family=\"sans-serif\" font-size=\"13\" lengthAdjust=\"spacingAndGlyphs\" textLength=\"8\" x=\"94.2181\" y=\"241.7694\">1</text></a><!--MD5=[0a839d0f80c2d72d4b9b307f046d0de8]\n",
       "link E6 to E8--><a href=\"psysml:e347aa3d-31a4-4502-9422-b0b7e8733c17\" target=\"_top\" title=\"psysml:e347aa3d-31a4-4502-9422-b0b7e8733c17\" xlink:actuate=\"onRequest\" xlink:href=\"psysml:e347aa3d-31a4-4502-9422-b0b7e8733c17\" xlink:show=\"new\" xlink:title=\"psysml:e347aa3d-31a4-4502-9422-b0b7e8733c17\" xlink:type=\"simple\"><path d=\"M97.42,193.06 C89.86,210.7 83.23,235.34 81.29,252.98 \" fill=\"none\" id=\"E6-E8\" style=\"stroke: #383838; stroke-width: 3.0;\"/><text fill=\"#000000\" font-family=\"sans-serif\" font-size=\"13\" lengthAdjust=\"spacingAndGlyphs\" textLength=\"7\" x=\"80.9648\" y=\"241.8709\">*</text></a><!--MD5=[0a839d0f80c2d72d4b9b307f046d0de8]\n",
       "link E6 to E8--><a href=\"psysml:6852a8da-427c-4993-bbf6-22174e5f8d33\" target=\"_top\" title=\"psysml:6852a8da-427c-4993-bbf6-22174e5f8d33\" xlink:actuate=\"onRequest\" xlink:href=\"psysml:6852a8da-427c-4993-bbf6-22174e5f8d33\" xlink:show=\"new\" xlink:title=\"psysml:6852a8da-427c-4993-bbf6-22174e5f8d33\" xlink:type=\"simple\"><path d=\"M119.33,193.06 C117.55,210.7 110.92,235.34 103.2,252.98 \" fill=\"none\" id=\"E6-E8-1\" style=\"stroke: #383838; stroke-width: 3.0;\"/><text fill=\"#000000\" font-family=\"sans-serif\" font-size=\"13\" lengthAdjust=\"spacingAndGlyphs\" textLength=\"7\" x=\"99.8819\" y=\"241.8709\">*</text></a><!--MD5=[7d035bbed14e64b0039e8653394b138e]\n",
       "@startuml\r\n",
       "skinparam linetype polyline\r\n",
       "skinparam monochrome true\r\n",
       "skinparam classbackgroundcolor white\r\n",
       "skinparam shadowing false\r\n",
       "skinparam wrapWidth 300\r\n",
       "hide circle\r\n",
       "\r\n",
       "package \"AliasTest\" as E1  [[psysml:5020e8e8-e597-4a8a-8c84-9076441471bb ]]  {\r\n",
       "comp usage \"b :> ISQSpaceTime::width\" as E2  <<(T,blue) attribute>> [[psysml:09023520-b272-4b76-a802-4be530536a95 ]] {\r\n",
       "}\r\n",
       "comp def \"P1\" as E3  <<(T,blue) part  def>> [[psysml:2d23ecbc-8f8b-40e5-8168-7a4eefd95afa ]] {\r\n",
       "}\r\n",
       "comp usage \"porig1 \" as E4  <<(T,blue) port>> [[psysml:371120a0-4800-4c08-b9c5-19a2f97c5f1a ]] {\r\n",
       "}\r\n",
       "comp usage \"p1: P1 \" as E5  <<(T,blue) part>> [[psysml:23efd2aa-8423-4d75-9f93-6567d973731c ]] {\r\n",
       "}\r\n",
       "comp usage \"po1 \" as E6  <<(T,blue) port>> [[psysml:a6a8a5d4-8051-439c-be85-1eee73d04018 ]] {\r\n",
       "}\r\n",
       "comp usage \"p2: P1 \" as E7  <<(T,blue) part>> [[psysml:32558afe-9574-460d-81c7-219976cfcf7f ]] {\r\n",
       "}\r\n",
       "comp usage \"pdest \" as E8  <<(T,blue) port>> [[psysml:9d4715a0-ecad-4cb9-af91-593b0378d847 ]] {\r\n",
       "}\r\n",
       "}\r\n",
       "E3 o- - \"1\"E4 [[psysml:77da464e-a07c-41d7-bf00-c994457c7429 ]] \r\n",
       "E3 +.. \"1\"E4 [[psysml:2fb80261-1acb-4246-9b34-6566336881f2 ]] \r\n",
       "E5 - -:|> E3 [[psysml:bae878c2-3025-4ed8-bae0-781c13e39aed ]] \r\n",
       "E5 o- - \"1\"E6 [[psysml:cd2d9195-2d40-49eb-a50a-4bb167712418 ]] \r\n",
       "E6 - -||> E4 [[psysml:9b4aa44d-c7fb-440f-8f9d-ccf8058f014a ]] \r\n",
       "E7 - -:|> E3 [[psysml:22f6621f-c82b-45b4-aad5-95fd1a975c3d ]] \r\n",
       "E7 o- - \"1\"E8 [[psysml:22337106-f0e5-4c32-83fd-01b8d559ead1 ]] \r\n",
       "E7 +.. \"1\"E8 [[psysml:3441a1bf-d119-4e2c-bd85-6011f03ceff2 ]] \r\n",
       "E6 -[thickness=3]- \"*\"E8 [[psysml:e347aa3d-31a4-4502-9422-b0b7e8733c17 ]] \r\n",
       "E6 -[thickness=3]- \"*\"E8 [[psysml:6852a8da-427c-4993-bbf6-22174e5f8d33 ]] \r\n",
       "@enduml\r\n",
       "\n",
       "PlantUML version 1.2020.13(Sat Jun 13 12:26:38 UTC 2020)\n",
       "(EPL source distribution)\n",
       "Java Runtime: OpenJDK Runtime Environment\n",
       "JVM: OpenJDK 64-Bit Server VM\n",
       "Default Encoding: UTF-8\n",
       "Language: en\n",
       "Country: null\n",
       "--></g></svg>"
      ]
     },
     "execution_count": 9,
     "metadata": {},
     "output_type": "execute_result"
    }
   ],
   "source": [
    "%viz --style=\"POLYLINE\" --view=\"Default\" \"AliasTest\""
   ]
  },
  {
   "cell_type": "code",
   "execution_count": 10,
   "id": "b3503057",
   "metadata": {
    "execution": {
     "iopub.execute_input": "2022-04-22T09:51:31.310854Z",
     "iopub.status.busy": "2022-04-22T09:51:31.310433Z",
     "iopub.status.idle": "2022-04-22T09:51:31.361074Z",
     "shell.execute_reply": "2022-04-22T09:51:31.360695Z"
    }
   },
   "outputs": [
    {
     "data": {
      "image/svg+xml": [
       "<?xml version=\"1.0\" encoding=\"UTF-8\" standalone=\"no\"?><svg xmlns=\"http://www.w3.org/2000/svg\" xmlns:xlink=\"http://www.w3.org/1999/xlink\" contentScriptType=\"application/ecmascript\" contentStyleType=\"text/css\" height=\"327px\" preserveAspectRatio=\"none\" style=\"width:406px;height:327px;\" version=\"1.1\" viewBox=\"0 0 406 327\" width=\"406px\" zoomAndPan=\"magnify\"><defs/><g><!--MD5=[fbc87193dbaf4d95561dea2c320d4a47]\n",
       "cluster E1--><a href=\"psysml:5020e8e8-e597-4a8a-8c84-9076441471bb\" target=\"_top\" title=\"psysml:5020e8e8-e597-4a8a-8c84-9076441471bb\" xlink:actuate=\"onRequest\" xlink:href=\"psysml:5020e8e8-e597-4a8a-8c84-9076441471bb\" xlink:show=\"new\" xlink:title=\"psysml:5020e8e8-e597-4a8a-8c84-9076441471bb\" xlink:type=\"simple\"><polygon fill=\"#FFFFFF\" points=\"16,6,84,6,91,28.2969,384,28.2969,384,315,16,315,16,6\" style=\"stroke: #000000; stroke-width: 1.5;\"/><line style=\"stroke: #000000; stroke-width: 1.5;\" x1=\"16\" x2=\"91\" y1=\"28.2969\" y2=\"28.2969\"/><text fill=\"#000000\" font-family=\"sans-serif\" font-size=\"14\" font-weight=\"bold\" lengthAdjust=\"spacingAndGlyphs\" textLength=\"62\" x=\"20\" y=\"20.9951\">AliasTest</text></a><!--MD5=[b4997ac47864f28c2f74865a473b2911]\n",
       "class E2--><a href=\"psysml:09023520-b272-4b76-a802-4be530536a95\" target=\"_top\" title=\"psysml:09023520-b272-4b76-a802-4be530536a95\" xlink:actuate=\"onRequest\" xlink:href=\"psysml:09023520-b272-4b76-a802-4be530536a95\" xlink:show=\"new\" xlink:title=\"psysml:09023520-b272-4b76-a802-4be530536a95\" xlink:type=\"simple\"><rect fill=\"#FFFFFF\" height=\"45.9375\" id=\"E2\" rx=\"10\" ry=\"10\" style=\"stroke: #383838; stroke-width: 1.5;\" width=\"165\" x=\"202.5\" y=\"41\"/><text fill=\"#000000\" font-family=\"sans-serif\" font-size=\"12\" font-style=\"italic\" lengthAdjust=\"spacingAndGlyphs\" textLength=\"69\" x=\"250.5\" y=\"57.1387\">«attribute»</text><text fill=\"#000000\" font-family=\"sans-serif\" font-size=\"12\" lengthAdjust=\"spacingAndGlyphs\" textLength=\"159\" x=\"205.5\" y=\"71.1074\">b :&gt; ISQSpaceTime::width</text><line style=\"stroke: #383838; stroke-width: 1.5;\" x1=\"203.5\" x2=\"366.5\" y1=\"78.9375\" y2=\"78.9375\"/></a><!--MD5=[09b614a08d8cba4a07c9adeb5e0fee81]\n",
       "class E3--><a href=\"psysml:2d23ecbc-8f8b-40e5-8168-7a4eefd95afa\" target=\"_top\" title=\"psysml:2d23ecbc-8f8b-40e5-8168-7a4eefd95afa\" xlink:actuate=\"onRequest\" xlink:href=\"psysml:2d23ecbc-8f8b-40e5-8168-7a4eefd95afa\" xlink:show=\"new\" xlink:title=\"psysml:2d23ecbc-8f8b-40e5-8168-7a4eefd95afa\" xlink:type=\"simple\"><rect fill=\"#FFFFFF\" height=\"45.9375\" id=\"E3\" style=\"stroke: #383838; stroke-width: 1.5;\" width=\"70\" x=\"170\" y=\"147\"/><text fill=\"#000000\" font-family=\"sans-serif\" font-size=\"12\" font-style=\"italic\" lengthAdjust=\"spacingAndGlyphs\" textLength=\"68\" x=\"171\" y=\"163.1387\">«part  def»</text><text fill=\"#000000\" font-family=\"sans-serif\" font-size=\"12\" lengthAdjust=\"spacingAndGlyphs\" textLength=\"16\" x=\"197\" y=\"177.1074\">P1</text><line style=\"stroke: #383838; stroke-width: 1.5;\" x1=\"171\" x2=\"239\" y1=\"184.9375\" y2=\"184.9375\"/></a><!--MD5=[ebbe1d658d1005bcc118a6aa81145e00]\n",
       "class E4--><a href=\"psysml:371120a0-4800-4c08-b9c5-19a2f97c5f1a\" target=\"_top\" title=\"psysml:371120a0-4800-4c08-b9c5-19a2f97c5f1a\" xlink:actuate=\"onRequest\" xlink:href=\"psysml:371120a0-4800-4c08-b9c5-19a2f97c5f1a\" xlink:show=\"new\" xlink:title=\"psysml:371120a0-4800-4c08-b9c5-19a2f97c5f1a\" xlink:type=\"simple\"><rect fill=\"#FFFFFF\" height=\"45.9375\" id=\"E4\" rx=\"10\" ry=\"10\" style=\"stroke: #383838; stroke-width: 1.5;\" width=\"50\" x=\"180\" y=\"253\"/><text fill=\"#000000\" font-family=\"sans-serif\" font-size=\"12\" font-style=\"italic\" lengthAdjust=\"spacingAndGlyphs\" textLength=\"40\" x=\"185\" y=\"269.1387\">«port»</text><text fill=\"#000000\" font-family=\"sans-serif\" font-size=\"12\" lengthAdjust=\"spacingAndGlyphs\" textLength=\"40\" x=\"183\" y=\"283.1074\">porig1</text><line style=\"stroke: #383838; stroke-width: 1.5;\" x1=\"181\" x2=\"229\" y1=\"290.9375\" y2=\"290.9375\"/></a><!--MD5=[270fce915f116d4de14055a7c1d9a0f3]\n",
       "class E5--><a href=\"psysml:23efd2aa-8423-4d75-9f93-6567d973731c\" target=\"_top\" title=\"psysml:23efd2aa-8423-4d75-9f93-6567d973731c\" xlink:actuate=\"onRequest\" xlink:href=\"psysml:23efd2aa-8423-4d75-9f93-6567d973731c\" xlink:show=\"new\" xlink:title=\"psysml:23efd2aa-8423-4d75-9f93-6567d973731c\" xlink:type=\"simple\"><rect fill=\"#FFFFFF\" height=\"45.9375\" id=\"E5\" rx=\"10\" ry=\"10\" style=\"stroke: #383838; stroke-width: 1.5;\" width=\"50\" x=\"117\" y=\"41\"/><text fill=\"#000000\" font-family=\"sans-serif\" font-size=\"12\" font-style=\"italic\" lengthAdjust=\"spacingAndGlyphs\" textLength=\"40\" x=\"122\" y=\"57.1387\">«part»</text><text fill=\"#000000\" font-family=\"sans-serif\" font-size=\"12\" lengthAdjust=\"spacingAndGlyphs\" textLength=\"40\" x=\"120\" y=\"71.1074\">p1: P1</text><line style=\"stroke: #383838; stroke-width: 1.5;\" x1=\"118\" x2=\"166\" y1=\"78.9375\" y2=\"78.9375\"/></a><!--MD5=[60a26617385b1d2d0262a64233df1f8d]\n",
       "class E6--><a href=\"psysml:a6a8a5d4-8051-439c-be85-1eee73d04018\" target=\"_top\" title=\"psysml:a6a8a5d4-8051-439c-be85-1eee73d04018\" xlink:actuate=\"onRequest\" xlink:href=\"psysml:a6a8a5d4-8051-439c-be85-1eee73d04018\" xlink:show=\"new\" xlink:title=\"psysml:a6a8a5d4-8051-439c-be85-1eee73d04018\" xlink:type=\"simple\"><rect fill=\"#FFFFFF\" height=\"45.9375\" id=\"E6\" rx=\"10\" ry=\"10\" style=\"stroke: #383838; stroke-width: 1.5;\" width=\"42\" x=\"93\" y=\"147\"/><text fill=\"#000000\" font-family=\"sans-serif\" font-size=\"12\" font-style=\"italic\" lengthAdjust=\"spacingAndGlyphs\" textLength=\"40\" x=\"94\" y=\"163.1387\">«port»</text><text fill=\"#000000\" font-family=\"sans-serif\" font-size=\"12\" lengthAdjust=\"spacingAndGlyphs\" textLength=\"24\" x=\"100\" y=\"177.1074\">po1</text><line style=\"stroke: #383838; stroke-width: 1.5;\" x1=\"94\" x2=\"134\" y1=\"184.9375\" y2=\"184.9375\"/></a><!--MD5=[2156ba9850f5573cc1fc38a6a4b2f02b]\n",
       "class E7--><a href=\"psysml:32558afe-9574-460d-81c7-219976cfcf7f\" target=\"_top\" title=\"psysml:32558afe-9574-460d-81c7-219976cfcf7f\" xlink:actuate=\"onRequest\" xlink:href=\"psysml:32558afe-9574-460d-81c7-219976cfcf7f\" xlink:show=\"new\" xlink:title=\"psysml:32558afe-9574-460d-81c7-219976cfcf7f\" xlink:type=\"simple\"><rect fill=\"#FFFFFF\" height=\"45.9375\" id=\"E7\" rx=\"10\" ry=\"10\" style=\"stroke: #383838; stroke-width: 1.5;\" width=\"50\" x=\"32\" y=\"41\"/><text fill=\"#000000\" font-family=\"sans-serif\" font-size=\"12\" font-style=\"italic\" lengthAdjust=\"spacingAndGlyphs\" textLength=\"40\" x=\"37\" y=\"57.1387\">«part»</text><text fill=\"#000000\" font-family=\"sans-serif\" font-size=\"12\" lengthAdjust=\"spacingAndGlyphs\" textLength=\"40\" x=\"35\" y=\"71.1074\">p2: P1</text><line style=\"stroke: #383838; stroke-width: 1.5;\" x1=\"33\" x2=\"81\" y1=\"78.9375\" y2=\"78.9375\"/></a><!--MD5=[b9389687b975829384b498ac4b7476b2]\n",
       "class E8--><a href=\"psysml:9d4715a0-ecad-4cb9-af91-593b0378d847\" target=\"_top\" title=\"psysml:9d4715a0-ecad-4cb9-af91-593b0378d847\" xlink:actuate=\"onRequest\" xlink:href=\"psysml:9d4715a0-ecad-4cb9-af91-593b0378d847\" xlink:show=\"new\" xlink:title=\"psysml:9d4715a0-ecad-4cb9-af91-593b0378d847\" xlink:type=\"simple\"><rect fill=\"#FFFFFF\" height=\"45.9375\" id=\"E8\" rx=\"10\" ry=\"10\" style=\"stroke: #383838; stroke-width: 1.5;\" width=\"46\" x=\"63\" y=\"253\"/><text fill=\"#000000\" font-family=\"sans-serif\" font-size=\"12\" font-style=\"italic\" lengthAdjust=\"spacingAndGlyphs\" textLength=\"40\" x=\"66\" y=\"269.1387\">«port»</text><text fill=\"#000000\" font-family=\"sans-serif\" font-size=\"12\" lengthAdjust=\"spacingAndGlyphs\" textLength=\"36\" x=\"66\" y=\"283.1074\">pdest</text><line style=\"stroke: #383838; stroke-width: 1.5;\" x1=\"64\" x2=\"108\" y1=\"290.9375\" y2=\"290.9375\"/></a><!--MD5=[4672eba38e49728da53d11aeb285b987]\n",
       "reverse link E3 to E4--><a href=\"psysml:77da464e-a07c-41d7-bf00-c994457c7429\" target=\"_top\" title=\"psysml:77da464e-a07c-41d7-bf00-c994457c7429\" xlink:actuate=\"onRequest\" xlink:href=\"psysml:77da464e-a07c-41d7-bf00-c994457c7429\" xlink:show=\"new\" xlink:title=\"psysml:77da464e-a07c-41d7-bf00-c994457c7429\" xlink:type=\"simple\"><path d=\"M192.84,206.44 C191.7,221.87 192.21,239.47 194.36,252.98 \" fill=\"none\" id=\"E3&lt;-E4\" style=\"stroke: #383838; stroke-width: 1.0;\"/><polygon fill=\"#FFFFFF\" points=\"194.35,193.06,189.7032,198.5743,193.006,204.9845,197.6528,199.4702,194.35,193.06\" style=\"stroke: #383838; stroke-width: 1.0;\"/><text fill=\"#000000\" font-family=\"sans-serif\" font-size=\"13\" lengthAdjust=\"spacingAndGlyphs\" textLength=\"8\" x=\"182.4255\" y=\"241.8709\">1</text></a><!--MD5=[4672eba38e49728da53d11aeb285b987]\n",
       "reverse link E3 to E4--><a href=\"psysml:2fb80261-1acb-4246-9b34-6566336881f2\" target=\"_top\" title=\"psysml:2fb80261-1acb-4246-9b34-6566336881f2\" xlink:actuate=\"onRequest\" xlink:href=\"psysml:2fb80261-1acb-4246-9b34-6566336881f2\" xlink:show=\"new\" xlink:title=\"psysml:2fb80261-1acb-4246-9b34-6566336881f2\" xlink:type=\"simple\"><path d=\"M218.01,208.34 C219.03,223.3 218.45,240.02 216.27,252.98 \" fill=\"none\" id=\"E3&lt;-E4-1\" style=\"stroke: #383838; stroke-width: 1.0; stroke-dasharray: 7.0,7.0;\"/><ellipse cx=\"217.1693\" cy=\"201.0093\" fill=\"#FFFFFF\" rx=\"8\" ry=\"8\" style=\"stroke: #383838; stroke-width: 1.0;\"/><line style=\"stroke: #383838; stroke-width: 1.0;\" x1=\"218.0687\" x2=\"216.27\" y1=\"208.9586\" y2=\"193.06\"/><line style=\"stroke: #383838; stroke-width: 1.0;\" x1=\"209.2201\" x2=\"225.1186\" y1=\"201.9086\" y2=\"200.1099\"/><text fill=\"#000000\" font-family=\"sans-serif\" font-size=\"13\" lengthAdjust=\"spacingAndGlyphs\" textLength=\"8\" x=\"210.2238\" y=\"241.8709\">1</text></a><!--MD5=[e9be52314489bd878ff4c7144b63c9e1]\n",
       "link E5 to E3--><a href=\"psysml:bae878c2-3025-4ed8-bae0-781c13e39aed\" target=\"_top\" title=\"psysml:bae878c2-3025-4ed8-bae0-781c13e39aed\" xlink:actuate=\"onRequest\" xlink:href=\"psysml:bae878c2-3025-4ed8-bae0-781c13e39aed\" xlink:show=\"new\" xlink:title=\"psysml:bae878c2-3025-4ed8-bae0-781c13e39aed\" xlink:type=\"simple\"><path d=\"M155.36,87.06 C162.88,99.47 172.49,115.33 181.24,129.78 \" fill=\"none\" id=\"E5-&gt;E3\" style=\"stroke: #383838; stroke-width: 1.0;\"/><polygon fill=\"#FFFFFF\" points=\"191.66,146.98,175.8217,134.3646,187.792,127.1044,191.66,146.98\" style=\"stroke: #383838; stroke-width: 1.0;\"/><ellipse cx=\"174.5758\" cy=\"128.4538\" fill=\"#383838\" rx=\"2\" ry=\"2\" style=\"stroke: #383838; stroke-width: 1.0;\"/><ellipse cx=\"183.126\" cy=\"123.2679\" fill=\"#383838\" rx=\"2\" ry=\"2\" style=\"stroke: #383838; stroke-width: 1.0;\"/></a><!--MD5=[85d356282659285ab4b2cfe2f634dd2b]\n",
       "reverse link E5 to E6--><a href=\"psysml:cd2d9195-2d40-49eb-a50a-4bb167712418\" target=\"_top\" title=\"psysml:cd2d9195-2d40-49eb-a50a-4bb167712418\" xlink:actuate=\"onRequest\" xlink:href=\"psysml:cd2d9195-2d40-49eb-a50a-4bb167712418\" xlink:show=\"new\" xlink:title=\"psysml:cd2d9195-2d40-49eb-a50a-4bb167712418\" xlink:type=\"simple\"><path d=\"M132.59,99.96 C128.4,115.51 123.6,133.33 119.93,146.98 \" fill=\"none\" id=\"E5&lt;-E6\" style=\"stroke: #383838; stroke-width: 1.0;\"/><polygon fill=\"#FFFFFF\" points=\"136.06,87.06,130.641,91.8176,132.9484,98.6496,138.3674,93.892,136.06,87.06\" style=\"stroke: #383838; stroke-width: 1.0;\"/><text fill=\"#000000\" font-family=\"sans-serif\" font-size=\"13\" lengthAdjust=\"spacingAndGlyphs\" textLength=\"8\" x=\"112.4487\" y=\"135.8709\">1</text></a><!--MD5=[f667431f98296947986a1a7595a31603]\n",
       "link E6 to E4--><a href=\"psysml:9b4aa44d-c7fb-440f-8f9d-ccf8058f014a\" target=\"_top\" title=\"psysml:9b4aa44d-c7fb-440f-8f9d-ccf8058f014a\" xlink:actuate=\"onRequest\" xlink:href=\"psysml:9b4aa44d-c7fb-440f-8f9d-ccf8058f014a\" xlink:show=\"new\" xlink:title=\"psysml:9b4aa44d-c7fb-440f-8f9d-ccf8058f014a\" xlink:type=\"simple\"><path d=\"M133.3,193.06 C144.64,206.02 159.28,222.74 172.36,237.7 \" fill=\"none\" id=\"E6-&gt;E4\" style=\"stroke: #383838; stroke-width: 1.0;\"/><polygon fill=\"#FFFFFF\" points=\"185.73,252.98,167.9517,243.2882,178.489,234.0705,185.73,252.98\" style=\"stroke: #383838; stroke-width: 1.0;\"/><line style=\"stroke: #383838; stroke-width: 2.0;\" x1=\"165.4497\" x2=\"175.9871\" y1=\"240.4281\" y2=\"231.2104\"/></a><!--MD5=[14ccda38c055a5c0da953d572bc50960]\n",
       "link E7 to E3--><a href=\"psysml:22f6621f-c82b-45b4-aad5-95fd1a975c3d\" target=\"_top\" title=\"psysml:22f6621f-c82b-45b4-aad5-95fd1a975c3d\" xlink:actuate=\"onRequest\" xlink:href=\"psysml:22f6621f-c82b-45b4-aad5-95fd1a975c3d\" xlink:show=\"new\" xlink:title=\"psysml:22f6621f-c82b-45b4-aad5-95fd1a975c3d\" xlink:type=\"simple\"><path d=\"M82.11,82.64 C102.61,97.05 132.18,117.83 157.18,135.39 \" fill=\"none\" id=\"E7-&gt;E3\" style=\"stroke: #383838; stroke-width: 1.0;\"/><polygon fill=\"#FFFFFF\" points=\"173.58,146.92,154.011,141.7187,162.0629,130.266,173.58,146.92\" style=\"stroke: #383838; stroke-width: 1.0;\"/><ellipse cx=\"150.4983\" cy=\"136.8043\" fill=\"#383838\" rx=\"2\" ry=\"2\" style=\"stroke: #383838; stroke-width: 1.0;\"/><ellipse cx=\"156.2497\" cy=\"128.6238\" fill=\"#383838\" rx=\"2\" ry=\"2\" style=\"stroke: #383838; stroke-width: 1.0;\"/></a><!--MD5=[dc164f5e8a733ab456ef1add180e9e34]\n",
       "reverse link E7 to E8--><a href=\"psysml:22337106-f0e5-4c32-83fd-01b8d559ead1\" target=\"_top\" title=\"psysml:22337106-f0e5-4c32-83fd-01b8d559ead1\" xlink:actuate=\"onRequest\" xlink:href=\"psysml:22337106-f0e5-4c32-83fd-01b8d559ead1\" xlink:show=\"new\" xlink:title=\"psysml:22337106-f0e5-4c32-83fd-01b8d559ead1\" xlink:type=\"simple\"><path d=\"M52.05,100.09 C53.65,143.61 64.25,216.5 74.75,252.9 \" fill=\"none\" id=\"E7&lt;-E8\" style=\"stroke: #383838; stroke-width: 1.0;\"/><polygon fill=\"#FFFFFF\" points=\"51.85,87.08,47.9362,93.1366,52.0216,99.0788,55.9354,93.0222,51.85,87.08\" style=\"stroke: #383838; stroke-width: 1.0;\"/><text fill=\"#000000\" font-family=\"sans-serif\" font-size=\"13\" lengthAdjust=\"spacingAndGlyphs\" textLength=\"8\" x=\"62.6516\" y=\"241.7694\">1</text></a><!--MD5=[dc164f5e8a733ab456ef1add180e9e34]\n",
       "reverse link E7 to E8--><a href=\"psysml:3441a1bf-d119-4e2c-bd85-6011f03ceff2\" target=\"_top\" title=\"psysml:3441a1bf-d119-4e2c-bd85-6011f03ceff2\" xlink:actuate=\"onRequest\" xlink:href=\"psysml:3441a1bf-d119-4e2c-bd85-6011f03ceff2\" xlink:show=\"new\" xlink:title=\"psysml:3441a1bf-d119-4e2c-bd85-6011f03ceff2\" xlink:type=\"simple\"><path d=\"M72.64,101.8 C83.15,145.5 92.39,216.97 91.63,252.9 \" fill=\"none\" id=\"E7&lt;-E8-1\" style=\"stroke: #383838; stroke-width: 1.0; stroke-dasharray: 7.0,7.0;\"/><ellipse cx=\"70.7794\" cy=\"94.813\" fill=\"#FFFFFF\" rx=\"8\" ry=\"8\" style=\"stroke: #383838; stroke-width: 1.0;\"/><line style=\"stroke: #383838; stroke-width: 1.0;\" x1=\"72.8289\" x2=\"68.73\" y1=\"102.5461\" y2=\"87.08\"/><line style=\"stroke: #383838; stroke-width: 1.0;\" x1=\"63.0464\" x2=\"78.5125\" y1=\"96.8625\" y2=\"92.7636\"/><text fill=\"#000000\" font-family=\"sans-serif\" font-size=\"13\" lengthAdjust=\"spacingAndGlyphs\" textLength=\"8\" x=\"94.2181\" y=\"241.7694\">1</text></a><!--MD5=[0a839d0f80c2d72d4b9b307f046d0de8]\n",
       "link E6 to E8--><a href=\"psysml:e347aa3d-31a4-4502-9422-b0b7e8733c17\" target=\"_top\" title=\"psysml:e347aa3d-31a4-4502-9422-b0b7e8733c17\" xlink:actuate=\"onRequest\" xlink:href=\"psysml:e347aa3d-31a4-4502-9422-b0b7e8733c17\" xlink:show=\"new\" xlink:title=\"psysml:e347aa3d-31a4-4502-9422-b0b7e8733c17\" xlink:type=\"simple\"><path d=\"M97.42,193.06 C89.86,210.7 83.23,235.34 81.29,252.98 \" fill=\"none\" id=\"E6-E8\" style=\"stroke: #383838; stroke-width: 3.0;\"/><text fill=\"#000000\" font-family=\"sans-serif\" font-size=\"13\" lengthAdjust=\"spacingAndGlyphs\" textLength=\"7\" x=\"80.9648\" y=\"241.8709\">*</text></a><!--MD5=[0a839d0f80c2d72d4b9b307f046d0de8]\n",
       "link E6 to E8--><a href=\"psysml:6852a8da-427c-4993-bbf6-22174e5f8d33\" target=\"_top\" title=\"psysml:6852a8da-427c-4993-bbf6-22174e5f8d33\" xlink:actuate=\"onRequest\" xlink:href=\"psysml:6852a8da-427c-4993-bbf6-22174e5f8d33\" xlink:show=\"new\" xlink:title=\"psysml:6852a8da-427c-4993-bbf6-22174e5f8d33\" xlink:type=\"simple\"><path d=\"M119.33,193.06 C117.55,210.7 110.92,235.34 103.2,252.98 \" fill=\"none\" id=\"E6-E8-1\" style=\"stroke: #383838; stroke-width: 3.0;\"/><text fill=\"#000000\" font-family=\"sans-serif\" font-size=\"13\" lengthAdjust=\"spacingAndGlyphs\" textLength=\"7\" x=\"99.8819\" y=\"241.8709\">*</text></a><!--MD5=[7d035bbed14e64b0039e8653394b138e]\n",
       "@startuml\r\n",
       "skinparam linetype polyline\r\n",
       "skinparam monochrome true\r\n",
       "skinparam classbackgroundcolor white\r\n",
       "skinparam shadowing false\r\n",
       "skinparam wrapWidth 300\r\n",
       "hide circle\r\n",
       "\r\n",
       "package \"AliasTest\" as E1  [[psysml:5020e8e8-e597-4a8a-8c84-9076441471bb ]]  {\r\n",
       "comp usage \"b :> ISQSpaceTime::width\" as E2  <<(T,blue) attribute>> [[psysml:09023520-b272-4b76-a802-4be530536a95 ]] {\r\n",
       "}\r\n",
       "comp def \"P1\" as E3  <<(T,blue) part  def>> [[psysml:2d23ecbc-8f8b-40e5-8168-7a4eefd95afa ]] {\r\n",
       "}\r\n",
       "comp usage \"porig1 \" as E4  <<(T,blue) port>> [[psysml:371120a0-4800-4c08-b9c5-19a2f97c5f1a ]] {\r\n",
       "}\r\n",
       "comp usage \"p1: P1 \" as E5  <<(T,blue) part>> [[psysml:23efd2aa-8423-4d75-9f93-6567d973731c ]] {\r\n",
       "}\r\n",
       "comp usage \"po1 \" as E6  <<(T,blue) port>> [[psysml:a6a8a5d4-8051-439c-be85-1eee73d04018 ]] {\r\n",
       "}\r\n",
       "comp usage \"p2: P1 \" as E7  <<(T,blue) part>> [[psysml:32558afe-9574-460d-81c7-219976cfcf7f ]] {\r\n",
       "}\r\n",
       "comp usage \"pdest \" as E8  <<(T,blue) port>> [[psysml:9d4715a0-ecad-4cb9-af91-593b0378d847 ]] {\r\n",
       "}\r\n",
       "}\r\n",
       "E3 o- - \"1\"E4 [[psysml:77da464e-a07c-41d7-bf00-c994457c7429 ]] \r\n",
       "E3 +.. \"1\"E4 [[psysml:2fb80261-1acb-4246-9b34-6566336881f2 ]] \r\n",
       "E5 - -:|> E3 [[psysml:bae878c2-3025-4ed8-bae0-781c13e39aed ]] \r\n",
       "E5 o- - \"1\"E6 [[psysml:cd2d9195-2d40-49eb-a50a-4bb167712418 ]] \r\n",
       "E6 - -||> E4 [[psysml:9b4aa44d-c7fb-440f-8f9d-ccf8058f014a ]] \r\n",
       "E7 - -:|> E3 [[psysml:22f6621f-c82b-45b4-aad5-95fd1a975c3d ]] \r\n",
       "E7 o- - \"1\"E8 [[psysml:22337106-f0e5-4c32-83fd-01b8d559ead1 ]] \r\n",
       "E7 +.. \"1\"E8 [[psysml:3441a1bf-d119-4e2c-bd85-6011f03ceff2 ]] \r\n",
       "E6 -[thickness=3]- \"*\"E8 [[psysml:e347aa3d-31a4-4502-9422-b0b7e8733c17 ]] \r\n",
       "E6 -[thickness=3]- \"*\"E8 [[psysml:6852a8da-427c-4993-bbf6-22174e5f8d33 ]] \r\n",
       "@enduml\r\n",
       "\n",
       "PlantUML version 1.2020.13(Sat Jun 13 12:26:38 UTC 2020)\n",
       "(EPL source distribution)\n",
       "Java Runtime: OpenJDK Runtime Environment\n",
       "JVM: OpenJDK 64-Bit Server VM\n",
       "Default Encoding: UTF-8\n",
       "Language: en\n",
       "Country: null\n",
       "--></g></svg>"
      ]
     },
     "execution_count": 10,
     "metadata": {},
     "output_type": "execute_result"
    }
   ],
   "source": [
    "%viz --style=\"POLYLINE\" --view=\"Tree\" \"AliasTest\""
   ]
  },
  {
   "cell_type": "code",
   "execution_count": 11,
   "id": "2ad5df45",
   "metadata": {
    "execution": {
     "iopub.execute_input": "2022-04-22T09:51:31.410748Z",
     "iopub.status.busy": "2022-04-22T09:51:31.410286Z",
     "iopub.status.idle": "2022-04-22T09:51:31.416581Z",
     "shell.execute_reply": "2022-04-22T09:51:31.416900Z"
    }
   },
   "outputs": [
    {
     "data": {
      "image/svg+xml": [
       "<?xml version=\"1.0\" encoding=\"UTF-8\" standalone=\"no\"?><svg xmlns=\"http://www.w3.org/2000/svg\" xmlns:xlink=\"http://www.w3.org/1999/xlink\" contentScriptType=\"application/ecmascript\" contentStyleType=\"text/css\" height=\"12px\" preserveAspectRatio=\"none\" style=\"width:12px;height:12px;\" version=\"1.1\" viewBox=\"0 0 12 12\" width=\"12px\" zoomAndPan=\"magnify\"><defs/><g><!--MD5=[896ac0e7a515d8dd7765a661cb4ee08b]\n",
       "@startuml\r\n",
       "skinparam linetype polyline\r\n",
       "skinparam monochrome true\r\n",
       "skinparam classbackgroundcolor white\r\n",
       "skinparam shadowing false\r\n",
       "skinparam wrapWidth 300\r\n",
       "hide circle\r\n",
       "\r\n",
       "@enduml\r\n",
       "\n",
       "PlantUML version 1.2020.13(Sat Jun 13 12:26:38 UTC 2020)\n",
       "(EPL source distribution)\n",
       "Java Runtime: OpenJDK Runtime Environment\n",
       "JVM: OpenJDK 64-Bit Server VM\n",
       "Default Encoding: UTF-8\n",
       "Language: en\n",
       "Country: null\n",
       "--></g></svg>"
      ]
     },
     "execution_count": 11,
     "metadata": {},
     "output_type": "execute_result"
    }
   ],
   "source": [
    "%viz --style=\"POLYLINE\" --view=\"State\" \"AliasTest\""
   ]
  },
  {
   "cell_type": "code",
   "execution_count": 12,
   "id": "eec70e44",
   "metadata": {
    "execution": {
     "iopub.execute_input": "2022-04-22T09:51:31.467432Z",
     "iopub.status.busy": "2022-04-22T09:51:31.466966Z",
     "iopub.status.idle": "2022-04-22T09:51:31.516189Z",
     "shell.execute_reply": "2022-04-22T09:51:31.515780Z"
    }
   },
   "outputs": [
    {
     "data": {
      "image/svg+xml": [
       "<?xml version=\"1.0\" encoding=\"UTF-8\" standalone=\"no\"?><svg xmlns=\"http://www.w3.org/2000/svg\" xmlns:xlink=\"http://www.w3.org/1999/xlink\" contentScriptType=\"application/ecmascript\" contentStyleType=\"text/css\" height=\"398px\" preserveAspectRatio=\"none\" style=\"width:370px;height:398px;\" version=\"1.1\" viewBox=\"0 0 370 398\" width=\"370px\" zoomAndPan=\"magnify\"><defs/><g><!--MD5=[fbc87193dbaf4d95561dea2c320d4a47]\n",
       "cluster E1--><a href=\"psysml:5020e8e8-e597-4a8a-8c84-9076441471bb\" target=\"_top\" title=\"psysml:5020e8e8-e597-4a8a-8c84-9076441471bb\" xlink:actuate=\"onRequest\" xlink:href=\"psysml:5020e8e8-e597-4a8a-8c84-9076441471bb\" xlink:show=\"new\" xlink:title=\"psysml:5020e8e8-e597-4a8a-8c84-9076441471bb\" xlink:type=\"simple\"><polygon fill=\"#FFFFFF\" points=\"16,6,84,6,91,28.2969,348,28.2969,348,386.36,16,386.36,16,6\" style=\"stroke: #000000; stroke-width: 1.5;\"/><line style=\"stroke: #000000; stroke-width: 1.5;\" x1=\"16\" x2=\"91\" y1=\"28.2969\" y2=\"28.2969\"/><text fill=\"#000000\" font-family=\"sans-serif\" font-size=\"14\" font-weight=\"bold\" lengthAdjust=\"spacingAndGlyphs\" textLength=\"62\" x=\"20\" y=\"20.9951\">AliasTest</text></a><!--MD5=[d5e69f78d87373223dbae638b30a9c99]\n",
       "cluster E3--><a href=\"psysml:2d23ecbc-8f8b-40e5-8168-7a4eefd95afa\" target=\"_top\" title=\"psysml:2d23ecbc-8f8b-40e5-8168-7a4eefd95afa\" xlink:actuate=\"onRequest\" xlink:href=\"psysml:2d23ecbc-8f8b-40e5-8168-7a4eefd95afa\" xlink:show=\"new\" xlink:title=\"psysml:2d23ecbc-8f8b-40e5-8168-7a4eefd95afa\" xlink:type=\"simple\"><rect fill=\"#FFFFFF\" height=\"124.5\" id=\"E3\" style=\"stroke: #383838; stroke-width: 1.5;\" width=\"144\" x=\"180\" y=\"237.86\"/><rect fill=\"#F8F8F8\" height=\"37.9375\" style=\"stroke: #383838; stroke-width: 1.5;\" width=\"144\" x=\"180\" y=\"237.86\"/><text fill=\"#000000\" font-family=\"sans-serif\" font-size=\"12\" font-style=\"italic\" lengthAdjust=\"spacingAndGlyphs\" textLength=\"68\" x=\"218\" y=\"253.9987\">«part  def»</text><text fill=\"#000000\" font-family=\"sans-serif\" font-size=\"12\" lengthAdjust=\"spacingAndGlyphs\" textLength=\"16\" x=\"244\" y=\"267.9674\">P1</text></a><!--MD5=[14e3b0961a2654348d326746436168a1]\n",
       "cluster E6--><a href=\"psysml:23efd2aa-8423-4d75-9f93-6567d973731c\" target=\"_top\" title=\"psysml:23efd2aa-8423-4d75-9f93-6567d973731c\" xlink:actuate=\"onRequest\" xlink:href=\"psysml:23efd2aa-8423-4d75-9f93-6567d973731c\" xlink:show=\"new\" xlink:title=\"psysml:23efd2aa-8423-4d75-9f93-6567d973731c\" xlink:type=\"simple\"><rect fill=\"#FFFFFF\" height=\"97.36\" id=\"E6\" rx=\"10\" ry=\"10\" style=\"stroke: #383838; stroke-width: 1.5;\" width=\"114\" x=\"210\" y=\"49\"/><rect fill=\"#F8F8F8\" height=\"23.9688\" rx=\"10\" ry=\"10\" style=\"stroke: #F8F8F8; stroke-width: 1.5;\" width=\"114\" x=\"210\" y=\"49\"/><rect fill=\"#F8F8F8\" height=\"10\" style=\"stroke: #F8F8F8; stroke-width: 1.5;\" width=\"114\" x=\"210\" y=\"62.9688\"/><rect fill=\"none\" height=\"97.36\" id=\"E6\" rx=\"10\" ry=\"10\" style=\"stroke: #383838; stroke-width: 1.5;\" width=\"114\" x=\"210\" y=\"49\"/><text fill=\"#000000\" font-family=\"sans-serif\" font-size=\"12\" lengthAdjust=\"spacingAndGlyphs\" textLength=\"40\" x=\"247\" y=\"65.1387\">p1: P1</text><line style=\"stroke: #383838; stroke-width: 1.0;\" x1=\"210\" x2=\"324\" y1=\"72.9688\" y2=\"72.9688\"/></a><!--MD5=[55dfccfc6c49c2d10cd1bd2211a6c90c]\n",
       "cluster E8--><a href=\"psysml:32558afe-9574-460d-81c7-219976cfcf7f\" target=\"_top\" title=\"psysml:32558afe-9574-460d-81c7-219976cfcf7f\" xlink:actuate=\"onRequest\" xlink:href=\"psysml:32558afe-9574-460d-81c7-219976cfcf7f\" xlink:show=\"new\" xlink:title=\"psysml:32558afe-9574-460d-81c7-219976cfcf7f\" xlink:type=\"simple\"><rect fill=\"#FFFFFF\" height=\"73\" id=\"E8\" rx=\"10\" ry=\"10\" style=\"stroke: #383838; stroke-width: 1.5;\" width=\"83\" x=\"81\" y=\"198.36\"/><rect fill=\"#F8F8F8\" height=\"23.9688\" rx=\"10\" ry=\"10\" style=\"stroke: #F8F8F8; stroke-width: 1.5;\" width=\"83\" x=\"81\" y=\"198.36\"/><rect fill=\"#F8F8F8\" height=\"10\" style=\"stroke: #F8F8F8; stroke-width: 1.5;\" width=\"83\" x=\"81\" y=\"212.3288\"/><rect fill=\"none\" height=\"73\" id=\"E8\" rx=\"10\" ry=\"10\" style=\"stroke: #383838; stroke-width: 1.5;\" width=\"83\" x=\"81\" y=\"198.36\"/><text fill=\"#000000\" font-family=\"sans-serif\" font-size=\"12\" lengthAdjust=\"spacingAndGlyphs\" textLength=\"40\" x=\"102.5\" y=\"214.4987\">p2: P1</text><line style=\"stroke: #383838; stroke-width: 1.0;\" x1=\"81\" x2=\"164\" y1=\"222.3288\" y2=\"222.3288\"/></a><!--MD5=[b4997ac47864f28c2f74865a473b2911]\n",
       "class E2--><a href=\"psysml:09023520-b272-4b76-a802-4be530536a95\" target=\"_top\" title=\"psysml:09023520-b272-4b76-a802-4be530536a95\" xlink:actuate=\"onRequest\" xlink:href=\"psysml:09023520-b272-4b76-a802-4be530536a95\" xlink:show=\"new\" xlink:title=\"psysml:09023520-b272-4b76-a802-4be530536a95\" xlink:type=\"simple\"><rect fill=\"#FFFFFF\" height=\"45.9375\" id=\"E2\" rx=\"10\" ry=\"10\" style=\"stroke: #383838; stroke-width: 1.5;\" width=\"165\" x=\"32.5\" y=\"59.5\"/><text fill=\"#000000\" font-family=\"sans-serif\" font-size=\"12\" font-style=\"italic\" lengthAdjust=\"spacingAndGlyphs\" textLength=\"69\" x=\"80.5\" y=\"75.6387\">«attribute»</text><text fill=\"#000000\" font-family=\"sans-serif\" font-size=\"12\" lengthAdjust=\"spacingAndGlyphs\" textLength=\"159\" x=\"35.5\" y=\"89.6074\">b :&gt; ISQSpaceTime::width</text><line style=\"stroke: #383838; stroke-width: 1.5;\" x1=\"33.5\" x2=\"196.5\" y1=\"97.4375\" y2=\"97.4375\"/></a><text fill=\"#000000\" font-family=\"sans-serif\" font-size=\"14\" lengthAdjust=\"spacingAndGlyphs\" textLength=\"44\" x=\"174\" y=\"216.5582\">porig1</text><rect fill=\"#383838\" height=\"12\" style=\"stroke: #F8F8F8; stroke-width: 1.5;\" width=\"12\" x=\"192\" y=\"231.86\"/><text fill=\"#000000\" font-family=\"sans-serif\" font-size=\"14\" lengthAdjust=\"spacingAndGlyphs\" textLength=\"44\" x=\"221\" y=\"216.5582\">porig1</text><rect fill=\"#383838\" height=\"12\" style=\"stroke: #F8F8F8; stroke-width: 1.5;\" width=\"12\" x=\"239\" y=\"231.86\"/><text fill=\"#000000\" font-family=\"sans-serif\" font-size=\"14\" lengthAdjust=\"spacingAndGlyphs\" textLength=\"27\" x=\"212.5\" y=\"165.3551\">po1</text><rect fill=\"#383838\" height=\"12\" style=\"stroke: #F8F8F8; stroke-width: 1.5;\" width=\"12\" x=\"222\" y=\"140.36\"/><text fill=\"#000000\" font-family=\"sans-serif\" font-size=\"14\" lengthAdjust=\"spacingAndGlyphs\" textLength=\"40\" x=\"77\" y=\"177.0582\">pdest</text><rect fill=\"#383838\" height=\"12\" style=\"stroke: #F8F8F8; stroke-width: 1.5;\" width=\"12\" x=\"93\" y=\"192.36\"/><text fill=\"#000000\" font-family=\"sans-serif\" font-size=\"14\" lengthAdjust=\"spacingAndGlyphs\" textLength=\"40\" x=\"124\" y=\"177.0582\">pdest</text><rect fill=\"#383838\" height=\"12\" style=\"stroke: #F8F8F8; stroke-width: 1.5;\" width=\"12\" x=\"140\" y=\"192.36\"/><!--MD5=[a717450b82c80b9240a525fa862496af]\n",
       "link E6 to E3--><a href=\"psysml:bae878c2-3025-4ed8-bae0-781c13e39aed\" target=\"_top\" title=\"psysml:bae878c2-3025-4ed8-bae0-781c13e39aed\" xlink:actuate=\"onRequest\" xlink:href=\"psysml:bae878c2-3025-4ed8-bae0-781c13e39aed\" xlink:show=\"new\" xlink:title=\"psysml:bae878c2-3025-4ed8-bae0-781c13e39aed\" xlink:type=\"simple\"><path d=\"M287,146.372 C287,146.4316 287,146.4946 287,146.5614 C287,146.6948 287,146.8432 287,147.0079 C287,147.3375 287,147.733 287,148.2077 C287,149.1569 287,150.4225 287,152.11 C287,158.86 287,172.36 287,199.36 C287,199.36 286.6875,204.36 286.2188,211.86 C286.1016,213.735 285.9746,215.7663 285.8403,217.9147 C285.7732,218.9889 285.7042,220.0924 285.6337,221.2204 C285.5985,221.7843 285.5629,222.3544 285.5269,222.9299 C285.5089,223.2177 285.4908,223.5069 285.4727,223.7973 \" fill=\"none\" id=\"E6-&gt;E3\" style=\"stroke: #383838; stroke-width: 1.0;\"/><polygon fill=\"#FFFFFF\" points=\"285.4727,223.7973,279.6715,204.3977,293.6442,205.271,285.4727,223.7973\" style=\"stroke: #383838; stroke-width: 1.0;\"/><ellipse cx=\"282.0231\" cy=\"198.8335\" fill=\"#383838\" rx=\"2\" ry=\"2\" style=\"stroke: #383838; stroke-width: 1.0;\"/><ellipse cx=\"292.0037\" cy=\"199.4573\" fill=\"#383838\" rx=\"2\" ry=\"2\" style=\"stroke: #383838; stroke-width: 1.0;\"/></a><!--MD5=[95fa686b5a16158bcdbcaeead89f639b]\n",
       "link E8 to E3--><a href=\"psysml:22f6621f-c82b-45b4-aad5-95fd1a975c3d\" target=\"_top\" title=\"psysml:22f6621f-c82b-45b4-aad5-95fd1a975c3d\" xlink:actuate=\"onRequest\" xlink:href=\"psysml:22f6621f-c82b-45b4-aad5-95fd1a975c3d\" xlink:show=\"new\" xlink:title=\"psysml:22f6621f-c82b-45b4-aad5-95fd1a975c3d\" xlink:type=\"simple\"><path d=\"M162.1689,271.4709 C162.248,271.516 162.3269,271.561 162.4055,271.6059 C162.5628,271.6956 162.7192,271.7848 162.8746,271.8734 C163.1854,272.0507 163.4923,272.2258 163.7952,272.3985 C166.2181,273.7806 168.3819,275.0148 170.19,276.0461 C173.8063,278.1088 176,279.36 176,279.36 C176,279.36 177.5213,280.15 180.1388,281.5092 C180.7931,281.849 181.516,282.2244 182.3008,282.6319 C182.6932,282.8357 183.101,283.0475 183.5235,283.2668 C183.6291,283.3217 183.7357,283.377 183.8431,283.4328 \" fill=\"none\" id=\"E8-&gt;E3\" style=\"stroke: #383838; stroke-width: 1.0;\"/><polygon fill=\"#FFFFFF\" points=\"183.8431,283.4328,163.755,280.8892,170.2068,268.4644,183.8431,283.4328\" style=\"stroke: #383838; stroke-width: 1.0;\"/><ellipse cx=\"159.6181\" cy=\"276.4874\" fill=\"#383838\" rx=\"2\" ry=\"2\" style=\"stroke: #383838; stroke-width: 1.0;\"/><ellipse cx=\"164.2265\" cy=\"267.6126\" fill=\"#383838\" rx=\"2\" ry=\"2\" style=\"stroke: #383838; stroke-width: 1.0;\"/></a><!--MD5=[1c0b9414cc86e0744215edee6abd8926]\n",
       "link E7 to E9--><a href=\"psysml:e347aa3d-31a4-4502-9422-b0b7e8733c17\" target=\"_top\" title=\"psysml:e347aa3d-31a4-4502-9422-b0b7e8733c17\" xlink:actuate=\"onRequest\" xlink:href=\"psysml:e347aa3d-31a4-4502-9422-b0b7e8733c17\" xlink:show=\"new\" xlink:title=\"psysml:e347aa3d-31a4-4502-9422-b0b7e8733c17\" xlink:type=\"simple\"><path d=\"M221.77,147.97 C193.56,152.13 105,176.36 105,176.36 C105,176.36 90.96,189.18 92.93,194.78 \" fill=\"none\" id=\"E7-E9\" style=\"stroke: #383838; stroke-width: 3.0;\"/><text fill=\"#000000\" font-family=\"sans-serif\" font-size=\"13\" lengthAdjust=\"spacingAndGlyphs\" textLength=\"7\" x=\"78.0348\" y=\"182.7607\">*</text></a><!--MD5=[1c0b9414cc86e0744215edee6abd8926]\n",
       "link E7 to E9--><a href=\"psysml:6852a8da-427c-4993-bbf6-22174e5f8d33\" target=\"_top\" title=\"psysml:6852a8da-427c-4993-bbf6-22174e5f8d33\" xlink:actuate=\"onRequest\" xlink:href=\"psysml:6852a8da-427c-4993-bbf6-22174e5f8d33\" xlink:show=\"new\" xlink:title=\"psysml:6852a8da-427c-4993-bbf6-22174e5f8d33\" xlink:type=\"simple\"><path d=\"M221.84,151.89 C199.62,160.05 140,176.36 140,176.36 C140,176.36 121.76,193.02 105.05,196.66 \" fill=\"none\" id=\"E7-E9-1\" style=\"stroke: #383838; stroke-width: 3.0;\"/><text fill=\"#000000\" font-family=\"sans-serif\" font-size=\"13\" lengthAdjust=\"spacingAndGlyphs\" textLength=\"7\" x=\"112.9288\" y=\"186.1917\">*</text></a><!--MD5=[439796b58bd2394baecb5fbdd3028154]\n",
       "@startuml\r\n",
       "skinparam ranksep 10\r\n",
       "skinparam rectangle {\r\n",
       " backgroundColor<<block>> LightGreen\r\n",
       "}\r\n",
       "skinparam linetype polyline\r\n",
       "skinparam monochrome true\r\n",
       "skinparam classbackgroundcolor white\r\n",
       "skinparam shadowing false\r\n",
       "skinparam wrapWidth 300\r\n",
       "hide circle\r\n",
       "\r\n",
       "package \"AliasTest\" as E1  [[psysml:5020e8e8-e597-4a8a-8c84-9076441471bb ]]  {\r\n",
       "comp usage \"b :> ISQSpaceTime::width\" as E2  <<(T,blue) attribute>> [[psysml:09023520-b272-4b76-a802-4be530536a95 ]] {\r\n",
       "}\r\n",
       "rec def \"P1\" as E3  <<(T,blue) part  def>> [[psysml:2d23ecbc-8f8b-40e5-8168-7a4eefd95afa ]] {\r\n",
       "portin \"porig1 \" as E4  <<(T,blue) port>> [[psysml:371120a0-4800-4c08-b9c5-19a2f97c5f1a ]] \r\n",
       "portin \"porig1 \" as E5  <<(T,blue) port>> [[psysml:371120a0-4800-4c08-b9c5-19a2f97c5f1a ]] \r\n",
       "}\r\n",
       "rec usage \"p1: P1\" as E6  [[psysml:23efd2aa-8423-4d75-9f93-6567d973731c ]] {\r\n",
       "portout \"po1 \" as E7  <<(T,blue) port>> [[psysml:a6a8a5d4-8051-439c-be85-1eee73d04018 ]] \r\n",
       "}\r\n",
       "rec usage \"p2: P1\" as E8  [[psysml:32558afe-9574-460d-81c7-219976cfcf7f ]] {\r\n",
       "portin \"pdest \" as E9  <<(T,blue) port>> [[psysml:9d4715a0-ecad-4cb9-af91-593b0378d847 ]] \r\n",
       "portin \"pdest \" as E10  <<(T,blue) port>> [[psysml:9d4715a0-ecad-4cb9-af91-593b0378d847 ]] \r\n",
       "}\r\n",
       "}\r\n",
       "E6 - -:|> E3 [[psysml:bae878c2-3025-4ed8-bae0-781c13e39aed ]] \r\n",
       "E8 - -:|> E3 [[psysml:22f6621f-c82b-45b4-aad5-95fd1a975c3d ]] \r\n",
       "E7 -[thickness=3]- \"*\"E9 [[psysml:e347aa3d-31a4-4502-9422-b0b7e8733c17 ]] \r\n",
       "E7 -[thickness=3]- \"*\"E9 [[psysml:6852a8da-427c-4993-bbf6-22174e5f8d33 ]] \r\n",
       "@enduml\r\n",
       "\n",
       "PlantUML version 1.2020.13(Sat Jun 13 12:26:38 UTC 2020)\n",
       "(EPL source distribution)\n",
       "Java Runtime: OpenJDK Runtime Environment\n",
       "JVM: OpenJDK 64-Bit Server VM\n",
       "Default Encoding: UTF-8\n",
       "Language: en\n",
       "Country: null\n",
       "--></g></svg>"
      ]
     },
     "execution_count": 12,
     "metadata": {},
     "output_type": "execute_result"
    }
   ],
   "source": [
    "%viz --style=\"POLYLINE\" --view=\"Interconnection\" \"AliasTest\""
   ]
  },
  {
   "cell_type": "code",
   "execution_count": 13,
   "id": "a0c81da2",
   "metadata": {
    "execution": {
     "iopub.execute_input": "2022-04-22T09:51:31.566096Z",
     "iopub.status.busy": "2022-04-22T09:51:31.565627Z",
     "iopub.status.idle": "2022-04-22T09:51:31.571962Z",
     "shell.execute_reply": "2022-04-22T09:51:31.572321Z"
    }
   },
   "outputs": [
    {
     "data": {
      "image/svg+xml": [
       "<?xml version=\"1.0\" encoding=\"UTF-8\" standalone=\"no\"?><svg xmlns=\"http://www.w3.org/2000/svg\" xmlns:xlink=\"http://www.w3.org/1999/xlink\" contentScriptType=\"application/ecmascript\" contentStyleType=\"text/css\" height=\"12px\" preserveAspectRatio=\"none\" style=\"width:12px;height:12px;\" version=\"1.1\" viewBox=\"0 0 12 12\" width=\"12px\" zoomAndPan=\"magnify\"><defs/><g><!--MD5=[97bbf32f66ccd50cbc40d92ea8f5a65e]\n",
       "@startuml\r\n",
       "skinparam ranksep 8\r\n",
       "skinparam linetype polyline\r\n",
       "skinparam monochrome true\r\n",
       "skinparam classbackgroundcolor white\r\n",
       "skinparam shadowing false\r\n",
       "skinparam wrapWidth 300\r\n",
       "hide circle\r\n",
       "\r\n",
       "@enduml\r\n",
       "\n",
       "PlantUML version 1.2020.13(Sat Jun 13 12:26:38 UTC 2020)\n",
       "(EPL source distribution)\n",
       "Java Runtime: OpenJDK Runtime Environment\n",
       "JVM: OpenJDK 64-Bit Server VM\n",
       "Default Encoding: UTF-8\n",
       "Language: en\n",
       "Country: null\n",
       "--></g></svg>"
      ]
     },
     "execution_count": 13,
     "metadata": {},
     "output_type": "execute_result"
    }
   ],
   "source": [
    "%viz --style=\"POLYLINE\" --view=\"Action\" \"AliasTest\""
   ]
  },
  {
   "cell_type": "code",
   "execution_count": 14,
   "id": "c81c7d1c",
   "metadata": {
    "execution": {
     "iopub.execute_input": "2022-04-22T09:51:31.622421Z",
     "iopub.status.busy": "2022-04-22T09:51:31.622025Z",
     "iopub.status.idle": "2022-04-22T09:51:31.629051Z",
     "shell.execute_reply": "2022-04-22T09:51:31.629360Z"
    }
   },
   "outputs": [
    {
     "data": {
      "image/svg+xml": [
       "<?xml version=\"1.0\" encoding=\"UTF-8\" standalone=\"no\"?><svg xmlns=\"http://www.w3.org/2000/svg\" xmlns:xlink=\"http://www.w3.org/1999/xlink\" contentScriptType=\"application/ecmascript\" contentStyleType=\"text/css\" height=\"12px\" preserveAspectRatio=\"none\" style=\"width:12px;height:12px;\" version=\"1.1\" viewBox=\"0 0 12 12\" width=\"12px\" zoomAndPan=\"magnify\"><defs/><g><!--MD5=[dc938048236c351797870c36b62f92ad]\n",
       "@startuml\r\n",
       "skinparam roundcorner 20\r\n",
       "skinparam BoxPadding 20\r\n",
       "skinparam SequenceBoxBackgroundColor #white\r\n",
       "skinparam style strictuml\r\n",
       "skinparam maxMessageSize 100\r\n",
       "skinparam linetype polyline\r\n",
       "skinparam monochrome true\r\n",
       "skinparam classbackgroundcolor white\r\n",
       "skinparam shadowing false\r\n",
       "skinparam wrapWidth 300\r\n",
       "hide circle\r\n",
       "\r\n",
       "@enduml\r\n",
       "\n",
       "PlantUML version 1.2020.13(Sat Jun 13 12:26:38 UTC 2020)\n",
       "(EPL source distribution)\n",
       "Java Runtime: OpenJDK Runtime Environment\n",
       "JVM: OpenJDK 64-Bit Server VM\n",
       "Default Encoding: UTF-8\n",
       "Language: en\n",
       "Country: null\n",
       "--></g></svg>"
      ]
     },
     "execution_count": 14,
     "metadata": {},
     "output_type": "execute_result"
    }
   ],
   "source": [
    "%viz --style=\"POLYLINE\" --view=\"Sequence\" \"AliasTest\""
   ]
  },
  {
   "cell_type": "code",
   "execution_count": 15,
   "id": "03197b7d",
   "metadata": {
    "execution": {
     "iopub.execute_input": "2022-04-22T09:51:31.679862Z",
     "iopub.status.busy": "2022-04-22T09:51:31.679406Z",
     "iopub.status.idle": "2022-04-22T09:51:31.730282Z",
     "shell.execute_reply": "2022-04-22T09:51:31.730573Z"
    }
   },
   "outputs": [
    {
     "data": {
      "image/svg+xml": [
       "<?xml version=\"1.0\" encoding=\"UTF-8\" standalone=\"no\"?><svg xmlns=\"http://www.w3.org/2000/svg\" xmlns:xlink=\"http://www.w3.org/1999/xlink\" contentScriptType=\"application/ecmascript\" contentStyleType=\"text/css\" height=\"327px\" preserveAspectRatio=\"none\" style=\"width:406px;height:327px;\" version=\"1.1\" viewBox=\"0 0 406 327\" width=\"406px\" zoomAndPan=\"magnify\"><defs/><g><!--MD5=[fbc87193dbaf4d95561dea2c320d4a47]\n",
       "cluster E1--><a href=\"psysml:5020e8e8-e597-4a8a-8c84-9076441471bb\" target=\"_top\" title=\"psysml:5020e8e8-e597-4a8a-8c84-9076441471bb\" xlink:actuate=\"onRequest\" xlink:href=\"psysml:5020e8e8-e597-4a8a-8c84-9076441471bb\" xlink:show=\"new\" xlink:title=\"psysml:5020e8e8-e597-4a8a-8c84-9076441471bb\" xlink:type=\"simple\"><polygon fill=\"#FFFFFF\" points=\"16,6,84,6,91,28.2969,384,28.2969,384,315,16,315,16,6\" style=\"stroke: #000000; stroke-width: 1.5;\"/><line style=\"stroke: #000000; stroke-width: 1.5;\" x1=\"16\" x2=\"91\" y1=\"28.2969\" y2=\"28.2969\"/><text fill=\"#000000\" font-family=\"sans-serif\" font-size=\"14\" font-weight=\"bold\" lengthAdjust=\"spacingAndGlyphs\" textLength=\"62\" x=\"20\" y=\"20.9951\">AliasTest</text></a><!--MD5=[b4997ac47864f28c2f74865a473b2911]\n",
       "class E2--><a href=\"psysml:09023520-b272-4b76-a802-4be530536a95\" target=\"_top\" title=\"psysml:09023520-b272-4b76-a802-4be530536a95\" xlink:actuate=\"onRequest\" xlink:href=\"psysml:09023520-b272-4b76-a802-4be530536a95\" xlink:show=\"new\" xlink:title=\"psysml:09023520-b272-4b76-a802-4be530536a95\" xlink:type=\"simple\"><rect fill=\"#FFFFFF\" height=\"45.9375\" id=\"E2\" rx=\"10\" ry=\"10\" style=\"stroke: #383838; stroke-width: 1.5;\" width=\"165\" x=\"202.5\" y=\"41\"/><text fill=\"#000000\" font-family=\"sans-serif\" font-size=\"12\" font-style=\"italic\" lengthAdjust=\"spacingAndGlyphs\" textLength=\"69\" x=\"250.5\" y=\"57.1387\">«attribute»</text><text fill=\"#000000\" font-family=\"sans-serif\" font-size=\"12\" lengthAdjust=\"spacingAndGlyphs\" textLength=\"159\" x=\"205.5\" y=\"71.1074\">b :&gt; ISQSpaceTime::width</text><line style=\"stroke: #383838; stroke-width: 1.5;\" x1=\"203.5\" x2=\"366.5\" y1=\"78.9375\" y2=\"78.9375\"/></a><!--MD5=[09b614a08d8cba4a07c9adeb5e0fee81]\n",
       "class E3--><a href=\"psysml:2d23ecbc-8f8b-40e5-8168-7a4eefd95afa\" target=\"_top\" title=\"psysml:2d23ecbc-8f8b-40e5-8168-7a4eefd95afa\" xlink:actuate=\"onRequest\" xlink:href=\"psysml:2d23ecbc-8f8b-40e5-8168-7a4eefd95afa\" xlink:show=\"new\" xlink:title=\"psysml:2d23ecbc-8f8b-40e5-8168-7a4eefd95afa\" xlink:type=\"simple\"><rect fill=\"#FFFFFF\" height=\"45.9375\" id=\"E3\" style=\"stroke: #383838; stroke-width: 1.5;\" width=\"70\" x=\"170\" y=\"147\"/><text fill=\"#000000\" font-family=\"sans-serif\" font-size=\"12\" font-style=\"italic\" lengthAdjust=\"spacingAndGlyphs\" textLength=\"68\" x=\"171\" y=\"163.1387\">«part  def»</text><text fill=\"#000000\" font-family=\"sans-serif\" font-size=\"12\" lengthAdjust=\"spacingAndGlyphs\" textLength=\"16\" x=\"197\" y=\"177.1074\">P1</text><line style=\"stroke: #383838; stroke-width: 1.5;\" x1=\"171\" x2=\"239\" y1=\"184.9375\" y2=\"184.9375\"/></a><!--MD5=[ebbe1d658d1005bcc118a6aa81145e00]\n",
       "class E4--><a href=\"psysml:371120a0-4800-4c08-b9c5-19a2f97c5f1a\" target=\"_top\" title=\"psysml:371120a0-4800-4c08-b9c5-19a2f97c5f1a\" xlink:actuate=\"onRequest\" xlink:href=\"psysml:371120a0-4800-4c08-b9c5-19a2f97c5f1a\" xlink:show=\"new\" xlink:title=\"psysml:371120a0-4800-4c08-b9c5-19a2f97c5f1a\" xlink:type=\"simple\"><rect fill=\"#FFFFFF\" height=\"45.9375\" id=\"E4\" rx=\"10\" ry=\"10\" style=\"stroke: #383838; stroke-width: 1.5;\" width=\"50\" x=\"180\" y=\"253\"/><text fill=\"#000000\" font-family=\"sans-serif\" font-size=\"12\" font-style=\"italic\" lengthAdjust=\"spacingAndGlyphs\" textLength=\"40\" x=\"185\" y=\"269.1387\">«port»</text><text fill=\"#000000\" font-family=\"sans-serif\" font-size=\"12\" lengthAdjust=\"spacingAndGlyphs\" textLength=\"40\" x=\"183\" y=\"283.1074\">porig1</text><line style=\"stroke: #383838; stroke-width: 1.5;\" x1=\"181\" x2=\"229\" y1=\"290.9375\" y2=\"290.9375\"/></a><!--MD5=[270fce915f116d4de14055a7c1d9a0f3]\n",
       "class E5--><a href=\"psysml:23efd2aa-8423-4d75-9f93-6567d973731c\" target=\"_top\" title=\"psysml:23efd2aa-8423-4d75-9f93-6567d973731c\" xlink:actuate=\"onRequest\" xlink:href=\"psysml:23efd2aa-8423-4d75-9f93-6567d973731c\" xlink:show=\"new\" xlink:title=\"psysml:23efd2aa-8423-4d75-9f93-6567d973731c\" xlink:type=\"simple\"><rect fill=\"#FFFFFF\" height=\"45.9375\" id=\"E5\" rx=\"10\" ry=\"10\" style=\"stroke: #383838; stroke-width: 1.5;\" width=\"50\" x=\"117\" y=\"41\"/><text fill=\"#000000\" font-family=\"sans-serif\" font-size=\"12\" font-style=\"italic\" lengthAdjust=\"spacingAndGlyphs\" textLength=\"40\" x=\"122\" y=\"57.1387\">«part»</text><text fill=\"#000000\" font-family=\"sans-serif\" font-size=\"12\" lengthAdjust=\"spacingAndGlyphs\" textLength=\"40\" x=\"120\" y=\"71.1074\">p1: P1</text><line style=\"stroke: #383838; stroke-width: 1.5;\" x1=\"118\" x2=\"166\" y1=\"78.9375\" y2=\"78.9375\"/></a><!--MD5=[60a26617385b1d2d0262a64233df1f8d]\n",
       "class E6--><a href=\"psysml:a6a8a5d4-8051-439c-be85-1eee73d04018\" target=\"_top\" title=\"psysml:a6a8a5d4-8051-439c-be85-1eee73d04018\" xlink:actuate=\"onRequest\" xlink:href=\"psysml:a6a8a5d4-8051-439c-be85-1eee73d04018\" xlink:show=\"new\" xlink:title=\"psysml:a6a8a5d4-8051-439c-be85-1eee73d04018\" xlink:type=\"simple\"><rect fill=\"#FFFFFF\" height=\"45.9375\" id=\"E6\" rx=\"10\" ry=\"10\" style=\"stroke: #383838; stroke-width: 1.5;\" width=\"42\" x=\"93\" y=\"147\"/><text fill=\"#000000\" font-family=\"sans-serif\" font-size=\"12\" font-style=\"italic\" lengthAdjust=\"spacingAndGlyphs\" textLength=\"40\" x=\"94\" y=\"163.1387\">«port»</text><text fill=\"#000000\" font-family=\"sans-serif\" font-size=\"12\" lengthAdjust=\"spacingAndGlyphs\" textLength=\"24\" x=\"100\" y=\"177.1074\">po1</text><line style=\"stroke: #383838; stroke-width: 1.5;\" x1=\"94\" x2=\"134\" y1=\"184.9375\" y2=\"184.9375\"/></a><!--MD5=[2156ba9850f5573cc1fc38a6a4b2f02b]\n",
       "class E7--><a href=\"psysml:32558afe-9574-460d-81c7-219976cfcf7f\" target=\"_top\" title=\"psysml:32558afe-9574-460d-81c7-219976cfcf7f\" xlink:actuate=\"onRequest\" xlink:href=\"psysml:32558afe-9574-460d-81c7-219976cfcf7f\" xlink:show=\"new\" xlink:title=\"psysml:32558afe-9574-460d-81c7-219976cfcf7f\" xlink:type=\"simple\"><rect fill=\"#FFFFFF\" height=\"45.9375\" id=\"E7\" rx=\"10\" ry=\"10\" style=\"stroke: #383838; stroke-width: 1.5;\" width=\"50\" x=\"32\" y=\"41\"/><text fill=\"#000000\" font-family=\"sans-serif\" font-size=\"12\" font-style=\"italic\" lengthAdjust=\"spacingAndGlyphs\" textLength=\"40\" x=\"37\" y=\"57.1387\">«part»</text><text fill=\"#000000\" font-family=\"sans-serif\" font-size=\"12\" lengthAdjust=\"spacingAndGlyphs\" textLength=\"40\" x=\"35\" y=\"71.1074\">p2: P1</text><line style=\"stroke: #383838; stroke-width: 1.5;\" x1=\"33\" x2=\"81\" y1=\"78.9375\" y2=\"78.9375\"/></a><!--MD5=[b9389687b975829384b498ac4b7476b2]\n",
       "class E8--><a href=\"psysml:9d4715a0-ecad-4cb9-af91-593b0378d847\" target=\"_top\" title=\"psysml:9d4715a0-ecad-4cb9-af91-593b0378d847\" xlink:actuate=\"onRequest\" xlink:href=\"psysml:9d4715a0-ecad-4cb9-af91-593b0378d847\" xlink:show=\"new\" xlink:title=\"psysml:9d4715a0-ecad-4cb9-af91-593b0378d847\" xlink:type=\"simple\"><rect fill=\"#FFFFFF\" height=\"45.9375\" id=\"E8\" rx=\"10\" ry=\"10\" style=\"stroke: #383838; stroke-width: 1.5;\" width=\"46\" x=\"63\" y=\"253\"/><text fill=\"#000000\" font-family=\"sans-serif\" font-size=\"12\" font-style=\"italic\" lengthAdjust=\"spacingAndGlyphs\" textLength=\"40\" x=\"66\" y=\"269.1387\">«port»</text><text fill=\"#000000\" font-family=\"sans-serif\" font-size=\"12\" lengthAdjust=\"spacingAndGlyphs\" textLength=\"36\" x=\"66\" y=\"283.1074\">pdest</text><line style=\"stroke: #383838; stroke-width: 1.5;\" x1=\"64\" x2=\"108\" y1=\"290.9375\" y2=\"290.9375\"/></a><!--MD5=[4672eba38e49728da53d11aeb285b987]\n",
       "reverse link E3 to E4--><a href=\"psysml:77da464e-a07c-41d7-bf00-c994457c7429\" target=\"_top\" title=\"psysml:77da464e-a07c-41d7-bf00-c994457c7429\" xlink:actuate=\"onRequest\" xlink:href=\"psysml:77da464e-a07c-41d7-bf00-c994457c7429\" xlink:show=\"new\" xlink:title=\"psysml:77da464e-a07c-41d7-bf00-c994457c7429\" xlink:type=\"simple\"><path d=\"M192.84,206.44 C191.7,221.87 192.21,239.47 194.36,252.98 \" fill=\"none\" id=\"E3&lt;-E4\" style=\"stroke: #383838; stroke-width: 1.0;\"/><polygon fill=\"#FFFFFF\" points=\"194.35,193.06,189.7032,198.5743,193.006,204.9845,197.6528,199.4702,194.35,193.06\" style=\"stroke: #383838; stroke-width: 1.0;\"/><text fill=\"#000000\" font-family=\"sans-serif\" font-size=\"13\" lengthAdjust=\"spacingAndGlyphs\" textLength=\"8\" x=\"182.4255\" y=\"241.8709\">1</text></a><!--MD5=[4672eba38e49728da53d11aeb285b987]\n",
       "reverse link E3 to E4--><a href=\"psysml:2fb80261-1acb-4246-9b34-6566336881f2\" target=\"_top\" title=\"psysml:2fb80261-1acb-4246-9b34-6566336881f2\" xlink:actuate=\"onRequest\" xlink:href=\"psysml:2fb80261-1acb-4246-9b34-6566336881f2\" xlink:show=\"new\" xlink:title=\"psysml:2fb80261-1acb-4246-9b34-6566336881f2\" xlink:type=\"simple\"><path d=\"M218.01,208.34 C219.03,223.3 218.45,240.02 216.27,252.98 \" fill=\"none\" id=\"E3&lt;-E4-1\" style=\"stroke: #383838; stroke-width: 1.0; stroke-dasharray: 7.0,7.0;\"/><ellipse cx=\"217.1693\" cy=\"201.0093\" fill=\"#FFFFFF\" rx=\"8\" ry=\"8\" style=\"stroke: #383838; stroke-width: 1.0;\"/><line style=\"stroke: #383838; stroke-width: 1.0;\" x1=\"218.0687\" x2=\"216.27\" y1=\"208.9586\" y2=\"193.06\"/><line style=\"stroke: #383838; stroke-width: 1.0;\" x1=\"209.2201\" x2=\"225.1186\" y1=\"201.9086\" y2=\"200.1099\"/><text fill=\"#000000\" font-family=\"sans-serif\" font-size=\"13\" lengthAdjust=\"spacingAndGlyphs\" textLength=\"8\" x=\"210.2238\" y=\"241.8709\">1</text></a><!--MD5=[e9be52314489bd878ff4c7144b63c9e1]\n",
       "link E5 to E3--><a href=\"psysml:bae878c2-3025-4ed8-bae0-781c13e39aed\" target=\"_top\" title=\"psysml:bae878c2-3025-4ed8-bae0-781c13e39aed\" xlink:actuate=\"onRequest\" xlink:href=\"psysml:bae878c2-3025-4ed8-bae0-781c13e39aed\" xlink:show=\"new\" xlink:title=\"psysml:bae878c2-3025-4ed8-bae0-781c13e39aed\" xlink:type=\"simple\"><path d=\"M155.36,87.06 C162.88,99.47 172.49,115.33 181.24,129.78 \" fill=\"none\" id=\"E5-&gt;E3\" style=\"stroke: #383838; stroke-width: 1.0;\"/><polygon fill=\"#FFFFFF\" points=\"191.66,146.98,175.8217,134.3646,187.792,127.1044,191.66,146.98\" style=\"stroke: #383838; stroke-width: 1.0;\"/><ellipse cx=\"174.5758\" cy=\"128.4538\" fill=\"#383838\" rx=\"2\" ry=\"2\" style=\"stroke: #383838; stroke-width: 1.0;\"/><ellipse cx=\"183.126\" cy=\"123.2679\" fill=\"#383838\" rx=\"2\" ry=\"2\" style=\"stroke: #383838; stroke-width: 1.0;\"/></a><!--MD5=[85d356282659285ab4b2cfe2f634dd2b]\n",
       "reverse link E5 to E6--><a href=\"psysml:cd2d9195-2d40-49eb-a50a-4bb167712418\" target=\"_top\" title=\"psysml:cd2d9195-2d40-49eb-a50a-4bb167712418\" xlink:actuate=\"onRequest\" xlink:href=\"psysml:cd2d9195-2d40-49eb-a50a-4bb167712418\" xlink:show=\"new\" xlink:title=\"psysml:cd2d9195-2d40-49eb-a50a-4bb167712418\" xlink:type=\"simple\"><path d=\"M132.59,99.96 C128.4,115.51 123.6,133.33 119.93,146.98 \" fill=\"none\" id=\"E5&lt;-E6\" style=\"stroke: #383838; stroke-width: 1.0;\"/><polygon fill=\"#FFFFFF\" points=\"136.06,87.06,130.641,91.8176,132.9484,98.6496,138.3674,93.892,136.06,87.06\" style=\"stroke: #383838; stroke-width: 1.0;\"/><text fill=\"#000000\" font-family=\"sans-serif\" font-size=\"13\" lengthAdjust=\"spacingAndGlyphs\" textLength=\"8\" x=\"112.4487\" y=\"135.8709\">1</text></a><!--MD5=[f667431f98296947986a1a7595a31603]\n",
       "link E6 to E4--><a href=\"psysml:9b4aa44d-c7fb-440f-8f9d-ccf8058f014a\" target=\"_top\" title=\"psysml:9b4aa44d-c7fb-440f-8f9d-ccf8058f014a\" xlink:actuate=\"onRequest\" xlink:href=\"psysml:9b4aa44d-c7fb-440f-8f9d-ccf8058f014a\" xlink:show=\"new\" xlink:title=\"psysml:9b4aa44d-c7fb-440f-8f9d-ccf8058f014a\" xlink:type=\"simple\"><path d=\"M133.3,193.06 C144.64,206.02 159.28,222.74 172.36,237.7 \" fill=\"none\" id=\"E6-&gt;E4\" style=\"stroke: #383838; stroke-width: 1.0;\"/><polygon fill=\"#FFFFFF\" points=\"185.73,252.98,167.9517,243.2882,178.489,234.0705,185.73,252.98\" style=\"stroke: #383838; stroke-width: 1.0;\"/><line style=\"stroke: #383838; stroke-width: 2.0;\" x1=\"165.4497\" x2=\"175.9871\" y1=\"240.4281\" y2=\"231.2104\"/></a><!--MD5=[14ccda38c055a5c0da953d572bc50960]\n",
       "link E7 to E3--><a href=\"psysml:22f6621f-c82b-45b4-aad5-95fd1a975c3d\" target=\"_top\" title=\"psysml:22f6621f-c82b-45b4-aad5-95fd1a975c3d\" xlink:actuate=\"onRequest\" xlink:href=\"psysml:22f6621f-c82b-45b4-aad5-95fd1a975c3d\" xlink:show=\"new\" xlink:title=\"psysml:22f6621f-c82b-45b4-aad5-95fd1a975c3d\" xlink:type=\"simple\"><path d=\"M82.11,82.64 C102.61,97.05 132.18,117.83 157.18,135.39 \" fill=\"none\" id=\"E7-&gt;E3\" style=\"stroke: #383838; stroke-width: 1.0;\"/><polygon fill=\"#FFFFFF\" points=\"173.58,146.92,154.011,141.7187,162.0629,130.266,173.58,146.92\" style=\"stroke: #383838; stroke-width: 1.0;\"/><ellipse cx=\"150.4983\" cy=\"136.8043\" fill=\"#383838\" rx=\"2\" ry=\"2\" style=\"stroke: #383838; stroke-width: 1.0;\"/><ellipse cx=\"156.2497\" cy=\"128.6238\" fill=\"#383838\" rx=\"2\" ry=\"2\" style=\"stroke: #383838; stroke-width: 1.0;\"/></a><!--MD5=[dc164f5e8a733ab456ef1add180e9e34]\n",
       "reverse link E7 to E8--><a href=\"psysml:22337106-f0e5-4c32-83fd-01b8d559ead1\" target=\"_top\" title=\"psysml:22337106-f0e5-4c32-83fd-01b8d559ead1\" xlink:actuate=\"onRequest\" xlink:href=\"psysml:22337106-f0e5-4c32-83fd-01b8d559ead1\" xlink:show=\"new\" xlink:title=\"psysml:22337106-f0e5-4c32-83fd-01b8d559ead1\" xlink:type=\"simple\"><path d=\"M52.05,100.09 C53.65,143.61 64.25,216.5 74.75,252.9 \" fill=\"none\" id=\"E7&lt;-E8\" style=\"stroke: #383838; stroke-width: 1.0;\"/><polygon fill=\"#FFFFFF\" points=\"51.85,87.08,47.9362,93.1366,52.0216,99.0788,55.9354,93.0222,51.85,87.08\" style=\"stroke: #383838; stroke-width: 1.0;\"/><text fill=\"#000000\" font-family=\"sans-serif\" font-size=\"13\" lengthAdjust=\"spacingAndGlyphs\" textLength=\"8\" x=\"62.6516\" y=\"241.7694\">1</text></a><!--MD5=[dc164f5e8a733ab456ef1add180e9e34]\n",
       "reverse link E7 to E8--><a href=\"psysml:3441a1bf-d119-4e2c-bd85-6011f03ceff2\" target=\"_top\" title=\"psysml:3441a1bf-d119-4e2c-bd85-6011f03ceff2\" xlink:actuate=\"onRequest\" xlink:href=\"psysml:3441a1bf-d119-4e2c-bd85-6011f03ceff2\" xlink:show=\"new\" xlink:title=\"psysml:3441a1bf-d119-4e2c-bd85-6011f03ceff2\" xlink:type=\"simple\"><path d=\"M72.64,101.8 C83.15,145.5 92.39,216.97 91.63,252.9 \" fill=\"none\" id=\"E7&lt;-E8-1\" style=\"stroke: #383838; stroke-width: 1.0; stroke-dasharray: 7.0,7.0;\"/><ellipse cx=\"70.7794\" cy=\"94.813\" fill=\"#FFFFFF\" rx=\"8\" ry=\"8\" style=\"stroke: #383838; stroke-width: 1.0;\"/><line style=\"stroke: #383838; stroke-width: 1.0;\" x1=\"72.8289\" x2=\"68.73\" y1=\"102.5461\" y2=\"87.08\"/><line style=\"stroke: #383838; stroke-width: 1.0;\" x1=\"63.0464\" x2=\"78.5125\" y1=\"96.8625\" y2=\"92.7636\"/><text fill=\"#000000\" font-family=\"sans-serif\" font-size=\"13\" lengthAdjust=\"spacingAndGlyphs\" textLength=\"8\" x=\"94.2181\" y=\"241.7694\">1</text></a><!--MD5=[0a839d0f80c2d72d4b9b307f046d0de8]\n",
       "link E6 to E8--><a href=\"psysml:e347aa3d-31a4-4502-9422-b0b7e8733c17\" target=\"_top\" title=\"psysml:e347aa3d-31a4-4502-9422-b0b7e8733c17\" xlink:actuate=\"onRequest\" xlink:href=\"psysml:e347aa3d-31a4-4502-9422-b0b7e8733c17\" xlink:show=\"new\" xlink:title=\"psysml:e347aa3d-31a4-4502-9422-b0b7e8733c17\" xlink:type=\"simple\"><path d=\"M97.42,193.06 C89.86,210.7 83.23,235.34 81.29,252.98 \" fill=\"none\" id=\"E6-E8\" style=\"stroke: #383838; stroke-width: 3.0;\"/><text fill=\"#000000\" font-family=\"sans-serif\" font-size=\"13\" lengthAdjust=\"spacingAndGlyphs\" textLength=\"7\" x=\"80.9648\" y=\"241.8709\">*</text></a><!--MD5=[0a839d0f80c2d72d4b9b307f046d0de8]\n",
       "link E6 to E8--><a href=\"psysml:6852a8da-427c-4993-bbf6-22174e5f8d33\" target=\"_top\" title=\"psysml:6852a8da-427c-4993-bbf6-22174e5f8d33\" xlink:actuate=\"onRequest\" xlink:href=\"psysml:6852a8da-427c-4993-bbf6-22174e5f8d33\" xlink:show=\"new\" xlink:title=\"psysml:6852a8da-427c-4993-bbf6-22174e5f8d33\" xlink:type=\"simple\"><path d=\"M119.33,193.06 C117.55,210.7 110.92,235.34 103.2,252.98 \" fill=\"none\" id=\"E6-E8-1\" style=\"stroke: #383838; stroke-width: 3.0;\"/><text fill=\"#000000\" font-family=\"sans-serif\" font-size=\"13\" lengthAdjust=\"spacingAndGlyphs\" textLength=\"7\" x=\"99.8819\" y=\"241.8709\">*</text></a><!--MD5=[7d035bbed14e64b0039e8653394b138e]\n",
       "@startuml\r\n",
       "skinparam linetype polyline\r\n",
       "skinparam monochrome true\r\n",
       "skinparam classbackgroundcolor white\r\n",
       "skinparam shadowing false\r\n",
       "skinparam wrapWidth 300\r\n",
       "hide circle\r\n",
       "\r\n",
       "package \"AliasTest\" as E1  [[psysml:5020e8e8-e597-4a8a-8c84-9076441471bb ]]  {\r\n",
       "comp usage \"b :> ISQSpaceTime::width\" as E2  <<(T,blue) attribute>> [[psysml:09023520-b272-4b76-a802-4be530536a95 ]] {\r\n",
       "}\r\n",
       "comp def \"P1\" as E3  <<(T,blue) part  def>> [[psysml:2d23ecbc-8f8b-40e5-8168-7a4eefd95afa ]] {\r\n",
       "}\r\n",
       "comp usage \"porig1 \" as E4  <<(T,blue) port>> [[psysml:371120a0-4800-4c08-b9c5-19a2f97c5f1a ]] {\r\n",
       "}\r\n",
       "comp usage \"p1: P1 \" as E5  <<(T,blue) part>> [[psysml:23efd2aa-8423-4d75-9f93-6567d973731c ]] {\r\n",
       "}\r\n",
       "comp usage \"po1 \" as E6  <<(T,blue) port>> [[psysml:a6a8a5d4-8051-439c-be85-1eee73d04018 ]] {\r\n",
       "}\r\n",
       "comp usage \"p2: P1 \" as E7  <<(T,blue) part>> [[psysml:32558afe-9574-460d-81c7-219976cfcf7f ]] {\r\n",
       "}\r\n",
       "comp usage \"pdest \" as E8  <<(T,blue) port>> [[psysml:9d4715a0-ecad-4cb9-af91-593b0378d847 ]] {\r\n",
       "}\r\n",
       "}\r\n",
       "E3 o- - \"1\"E4 [[psysml:77da464e-a07c-41d7-bf00-c994457c7429 ]] \r\n",
       "E3 +.. \"1\"E4 [[psysml:2fb80261-1acb-4246-9b34-6566336881f2 ]] \r\n",
       "E5 - -:|> E3 [[psysml:bae878c2-3025-4ed8-bae0-781c13e39aed ]] \r\n",
       "E5 o- - \"1\"E6 [[psysml:cd2d9195-2d40-49eb-a50a-4bb167712418 ]] \r\n",
       "E6 - -||> E4 [[psysml:9b4aa44d-c7fb-440f-8f9d-ccf8058f014a ]] \r\n",
       "E7 - -:|> E3 [[psysml:22f6621f-c82b-45b4-aad5-95fd1a975c3d ]] \r\n",
       "E7 o- - \"1\"E8 [[psysml:22337106-f0e5-4c32-83fd-01b8d559ead1 ]] \r\n",
       "E7 +.. \"1\"E8 [[psysml:3441a1bf-d119-4e2c-bd85-6011f03ceff2 ]] \r\n",
       "E6 -[thickness=3]- \"*\"E8 [[psysml:e347aa3d-31a4-4502-9422-b0b7e8733c17 ]] \r\n",
       "E6 -[thickness=3]- \"*\"E8 [[psysml:6852a8da-427c-4993-bbf6-22174e5f8d33 ]] \r\n",
       "@enduml\r\n",
       "\n",
       "PlantUML version 1.2020.13(Sat Jun 13 12:26:38 UTC 2020)\n",
       "(EPL source distribution)\n",
       "Java Runtime: OpenJDK Runtime Environment\n",
       "JVM: OpenJDK 64-Bit Server VM\n",
       "Default Encoding: UTF-8\n",
       "Language: en\n",
       "Country: null\n",
       "--></g></svg>"
      ]
     },
     "execution_count": 15,
     "metadata": {},
     "output_type": "execute_result"
    }
   ],
   "source": [
    "%viz --style=\"POLYLINE\" --view=\"MIXED\" \"AliasTest\""
   ]
  },
  {
   "cell_type": "code",
   "execution_count": 16,
   "id": "7e29c3c0",
   "metadata": {
    "execution": {
     "iopub.execute_input": "2022-04-22T09:51:31.781150Z",
     "iopub.status.busy": "2022-04-22T09:51:31.780674Z",
     "iopub.status.idle": "2022-04-22T09:51:31.828697Z",
     "shell.execute_reply": "2022-04-22T09:51:31.828291Z"
    }
   },
   "outputs": [
    {
     "data": {
      "image/svg+xml": [
       "<?xml version=\"1.0\" encoding=\"UTF-8\" standalone=\"no\"?><svg xmlns=\"http://www.w3.org/2000/svg\" xmlns:xlink=\"http://www.w3.org/1999/xlink\" contentScriptType=\"application/ecmascript\" contentStyleType=\"text/css\" height=\"277px\" preserveAspectRatio=\"none\" style=\"width:475px;height:277px;\" version=\"1.1\" viewBox=\"0 0 475 277\" width=\"475px\" zoomAndPan=\"magnify\"><defs/><g><!--MD5=[fbc87193dbaf4d95561dea2c320d4a47]\n",
       "cluster E1--><a href=\"psysml:5020e8e8-e597-4a8a-8c84-9076441471bb\" target=\"_top\" title=\"psysml:5020e8e8-e597-4a8a-8c84-9076441471bb\" xlink:actuate=\"onRequest\" xlink:href=\"psysml:5020e8e8-e597-4a8a-8c84-9076441471bb\" xlink:show=\"new\" xlink:title=\"psysml:5020e8e8-e597-4a8a-8c84-9076441471bb\" xlink:type=\"simple\"><polygon fill=\"#FFFFFF\" points=\"16,6,84,6,91,28.2969,453,28.2969,453,265,16,265,16,6\" style=\"stroke: #000000; stroke-width: 1.5;\"/><line style=\"stroke: #000000; stroke-width: 1.5;\" x1=\"16\" x2=\"91\" y1=\"28.2969\" y2=\"28.2969\"/><text fill=\"#000000\" font-family=\"sans-serif\" font-size=\"14\" font-weight=\"bold\" lengthAdjust=\"spacingAndGlyphs\" textLength=\"62\" x=\"20\" y=\"20.9951\">AliasTest</text></a><!--MD5=[b4997ac47864f28c2f74865a473b2911]\n",
       "class E2--><a href=\"psysml:09023520-b272-4b76-a802-4be530536a95\" target=\"_top\" title=\"psysml:09023520-b272-4b76-a802-4be530536a95\" xlink:actuate=\"onRequest\" xlink:href=\"psysml:09023520-b272-4b76-a802-4be530536a95\" xlink:show=\"new\" xlink:title=\"psysml:09023520-b272-4b76-a802-4be530536a95\" xlink:type=\"simple\"><rect fill=\"#FFFFFF\" height=\"45.9375\" id=\"E2\" rx=\"10\" ry=\"10\" style=\"stroke: #383838; stroke-width: 1.5;\" width=\"165\" x=\"32\" y=\"41\"/><text fill=\"#000000\" font-family=\"sans-serif\" font-size=\"12\" font-style=\"italic\" lengthAdjust=\"spacingAndGlyphs\" textLength=\"69\" x=\"80\" y=\"57.1387\">«attribute»</text><text fill=\"#000000\" font-family=\"sans-serif\" font-size=\"12\" lengthAdjust=\"spacingAndGlyphs\" textLength=\"159\" x=\"35\" y=\"71.1074\">b :&gt; ISQSpaceTime::width</text><line style=\"stroke: #383838; stroke-width: 1.5;\" x1=\"33\" x2=\"196\" y1=\"78.9375\" y2=\"78.9375\"/></a><!--MD5=[09b614a08d8cba4a07c9adeb5e0fee81]\n",
       "class E3--><a href=\"psysml:2d23ecbc-8f8b-40e5-8168-7a4eefd95afa\" target=\"_top\" title=\"psysml:2d23ecbc-8f8b-40e5-8168-7a4eefd95afa\" xlink:actuate=\"onRequest\" xlink:href=\"psysml:2d23ecbc-8f8b-40e5-8168-7a4eefd95afa\" xlink:show=\"new\" xlink:title=\"psysml:2d23ecbc-8f8b-40e5-8168-7a4eefd95afa\" xlink:type=\"simple\"><rect fill=\"#FFFFFF\" height=\"45.9375\" id=\"E3\" style=\"stroke: #383838; stroke-width: 1.5;\" width=\"70\" x=\"257\" y=\"63\"/><text fill=\"#000000\" font-family=\"sans-serif\" font-size=\"12\" font-style=\"italic\" lengthAdjust=\"spacingAndGlyphs\" textLength=\"68\" x=\"258\" y=\"79.1387\">«part  def»</text><text fill=\"#000000\" font-family=\"sans-serif\" font-size=\"12\" lengthAdjust=\"spacingAndGlyphs\" textLength=\"16\" x=\"284\" y=\"93.1074\">P1</text><line style=\"stroke: #383838; stroke-width: 1.5;\" x1=\"258\" x2=\"326\" y1=\"100.9375\" y2=\"100.9375\"/></a><!--MD5=[ebbe1d658d1005bcc118a6aa81145e00]\n",
       "class E4--><a href=\"psysml:371120a0-4800-4c08-b9c5-19a2f97c5f1a\" target=\"_top\" title=\"psysml:371120a0-4800-4c08-b9c5-19a2f97c5f1a\" xlink:actuate=\"onRequest\" xlink:href=\"psysml:371120a0-4800-4c08-b9c5-19a2f97c5f1a\" xlink:show=\"new\" xlink:title=\"psysml:371120a0-4800-4c08-b9c5-19a2f97c5f1a\" xlink:type=\"simple\"><rect fill=\"#FFFFFF\" height=\"45.9375\" id=\"E4\" rx=\"10\" ry=\"10\" style=\"stroke: #383838; stroke-width: 1.5;\" width=\"50\" x=\"387\" y=\"63\"/><text fill=\"#000000\" font-family=\"sans-serif\" font-size=\"12\" font-style=\"italic\" lengthAdjust=\"spacingAndGlyphs\" textLength=\"40\" x=\"392\" y=\"79.1387\">«port»</text><text fill=\"#000000\" font-family=\"sans-serif\" font-size=\"12\" lengthAdjust=\"spacingAndGlyphs\" textLength=\"40\" x=\"390\" y=\"93.1074\">porig1</text><line style=\"stroke: #383838; stroke-width: 1.5;\" x1=\"388\" x2=\"436\" y1=\"100.9375\" y2=\"100.9375\"/></a><!--MD5=[270fce915f116d4de14055a7c1d9a0f3]\n",
       "class E5--><a href=\"psysml:23efd2aa-8423-4d75-9f93-6567d973731c\" target=\"_top\" title=\"psysml:23efd2aa-8423-4d75-9f93-6567d973731c\" xlink:actuate=\"onRequest\" xlink:href=\"psysml:23efd2aa-8423-4d75-9f93-6567d973731c\" xlink:show=\"new\" xlink:title=\"psysml:23efd2aa-8423-4d75-9f93-6567d973731c\" xlink:type=\"simple\"><rect fill=\"#FFFFFF\" height=\"45.9375\" id=\"E5\" rx=\"10\" ry=\"10\" style=\"stroke: #383838; stroke-width: 1.5;\" width=\"50\" x=\"89.5\" y=\"122\"/><text fill=\"#000000\" font-family=\"sans-serif\" font-size=\"12\" font-style=\"italic\" lengthAdjust=\"spacingAndGlyphs\" textLength=\"40\" x=\"94.5\" y=\"138.1387\">«part»</text><text fill=\"#000000\" font-family=\"sans-serif\" font-size=\"12\" lengthAdjust=\"spacingAndGlyphs\" textLength=\"40\" x=\"92.5\" y=\"152.1074\">p1: P1</text><line style=\"stroke: #383838; stroke-width: 1.5;\" x1=\"90.5\" x2=\"138.5\" y1=\"159.9375\" y2=\"159.9375\"/></a><!--MD5=[60a26617385b1d2d0262a64233df1f8d]\n",
       "class E6--><a href=\"psysml:a6a8a5d4-8051-439c-be85-1eee73d04018\" target=\"_top\" title=\"psysml:a6a8a5d4-8051-439c-be85-1eee73d04018\" xlink:actuate=\"onRequest\" xlink:href=\"psysml:a6a8a5d4-8051-439c-be85-1eee73d04018\" xlink:show=\"new\" xlink:title=\"psysml:a6a8a5d4-8051-439c-be85-1eee73d04018\" xlink:type=\"simple\"><rect fill=\"#FFFFFF\" height=\"45.9375\" id=\"E6\" rx=\"10\" ry=\"10\" style=\"stroke: #383838; stroke-width: 1.5;\" width=\"42\" x=\"271\" y=\"144\"/><text fill=\"#000000\" font-family=\"sans-serif\" font-size=\"12\" font-style=\"italic\" lengthAdjust=\"spacingAndGlyphs\" textLength=\"40\" x=\"272\" y=\"160.1387\">«port»</text><text fill=\"#000000\" font-family=\"sans-serif\" font-size=\"12\" lengthAdjust=\"spacingAndGlyphs\" textLength=\"24\" x=\"278\" y=\"174.1074\">po1</text><line style=\"stroke: #383838; stroke-width: 1.5;\" x1=\"272\" x2=\"312\" y1=\"181.9375\" y2=\"181.9375\"/></a><!--MD5=[2156ba9850f5573cc1fc38a6a4b2f02b]\n",
       "class E7--><a href=\"psysml:32558afe-9574-460d-81c7-219976cfcf7f\" target=\"_top\" title=\"psysml:32558afe-9574-460d-81c7-219976cfcf7f\" xlink:actuate=\"onRequest\" xlink:href=\"psysml:32558afe-9574-460d-81c7-219976cfcf7f\" xlink:show=\"new\" xlink:title=\"psysml:32558afe-9574-460d-81c7-219976cfcf7f\" xlink:type=\"simple\"><rect fill=\"#FFFFFF\" height=\"45.9375\" id=\"E7\" rx=\"10\" ry=\"10\" style=\"stroke: #383838; stroke-width: 1.5;\" width=\"50\" x=\"89.5\" y=\"203\"/><text fill=\"#000000\" font-family=\"sans-serif\" font-size=\"12\" font-style=\"italic\" lengthAdjust=\"spacingAndGlyphs\" textLength=\"40\" x=\"94.5\" y=\"219.1387\">«part»</text><text fill=\"#000000\" font-family=\"sans-serif\" font-size=\"12\" lengthAdjust=\"spacingAndGlyphs\" textLength=\"40\" x=\"92.5\" y=\"233.1074\">p2: P1</text><line style=\"stroke: #383838; stroke-width: 1.5;\" x1=\"90.5\" x2=\"138.5\" y1=\"240.9375\" y2=\"240.9375\"/></a><!--MD5=[b9389687b975829384b498ac4b7476b2]\n",
       "class E8--><a href=\"psysml:9d4715a0-ecad-4cb9-af91-593b0378d847\" target=\"_top\" title=\"psysml:9d4715a0-ecad-4cb9-af91-593b0378d847\" xlink:actuate=\"onRequest\" xlink:href=\"psysml:9d4715a0-ecad-4cb9-af91-593b0378d847\" xlink:show=\"new\" xlink:title=\"psysml:9d4715a0-ecad-4cb9-af91-593b0378d847\" xlink:type=\"simple\"><rect fill=\"#FFFFFF\" height=\"45.9375\" id=\"E8\" rx=\"10\" ry=\"10\" style=\"stroke: #383838; stroke-width: 1.5;\" width=\"46\" x=\"389\" y=\"173\"/><text fill=\"#000000\" font-family=\"sans-serif\" font-size=\"12\" font-style=\"italic\" lengthAdjust=\"spacingAndGlyphs\" textLength=\"40\" x=\"392\" y=\"189.1387\">«port»</text><text fill=\"#000000\" font-family=\"sans-serif\" font-size=\"12\" lengthAdjust=\"spacingAndGlyphs\" textLength=\"36\" x=\"392\" y=\"203.1074\">pdest</text><line style=\"stroke: #383838; stroke-width: 1.5;\" x1=\"390\" x2=\"434\" y1=\"210.9375\" y2=\"210.9375\"/></a><!--MD5=[4672eba38e49728da53d11aeb285b987]\n",
       "reverse link E3 to E4--><a href=\"psysml:77da464e-a07c-41d7-bf00-c994457c7429\" target=\"_top\" title=\"psysml:77da464e-a07c-41d7-bf00-c994457c7429\" xlink:actuate=\"onRequest\" xlink:href=\"psysml:77da464e-a07c-41d7-bf00-c994457c7429\" xlink:show=\"new\" xlink:title=\"psysml:77da464e-a07c-41d7-bf00-c994457c7429\" xlink:type=\"simple\"><path d=\"M340.14,98.52 C356.09,99.15 373.25,98.49 386.68,96.54 \" fill=\"none\" id=\"E3&lt;-E4\" style=\"stroke: #383838; stroke-width: 1.0;\"/><polygon fill=\"#FFFFFF\" points=\"327.13,97.68,332.8628,102.0543,339.1056,98.445,333.3728,94.0706,327.13,97.68\" style=\"stroke: #383838; stroke-width: 1.0;\"/><text fill=\"#000000\" font-family=\"sans-serif\" font-size=\"13\" lengthAdjust=\"spacingAndGlyphs\" textLength=\"8\" x=\"371.1668\" y=\"113.2547\">1</text></a><!--MD5=[4672eba38e49728da53d11aeb285b987]\n",
       "reverse link E3 to E4--><a href=\"psysml:2fb80261-1acb-4246-9b34-6566336881f2\" target=\"_top\" title=\"psysml:2fb80261-1acb-4246-9b34-6566336881f2\" xlink:actuate=\"onRequest\" xlink:href=\"psysml:2fb80261-1acb-4246-9b34-6566336881f2\" xlink:show=\"new\" xlink:title=\"psysml:2fb80261-1acb-4246-9b34-6566336881f2\" xlink:type=\"simple\"><path d=\"M342.54,72.66 C357.8,72.15 373.92,72.88 386.68,74.84 \" fill=\"none\" id=\"E3&lt;-E4-1\" style=\"stroke: #383838; stroke-width: 1.0; stroke-dasharray: 7.0,7.0;\"/><ellipse cx=\"335.1142\" cy=\"73.1272\" fill=\"#FFFFFF\" rx=\"8\" ry=\"8\" style=\"stroke: #383838; stroke-width: 1.0;\"/><line style=\"stroke: #383838; stroke-width: 1.0;\" x1=\"343.0984\" x2=\"327.13\" y1=\"72.6244\" y2=\"73.63\"/><line style=\"stroke: #383838; stroke-width: 1.0;\" x1=\"335.617\" x2=\"334.6114\" y1=\"81.1114\" y2=\"65.143\"/><text fill=\"#000000\" font-family=\"sans-serif\" font-size=\"13\" lengthAdjust=\"spacingAndGlyphs\" textLength=\"8\" x=\"371.1668\" y=\"85.994\">1</text></a><!--MD5=[e9be52314489bd878ff4c7144b63c9e1]\n",
       "link E5 to E3--><a href=\"psysml:bae878c2-3025-4ed8-bae0-781c13e39aed\" target=\"_top\" title=\"psysml:bae878c2-3025-4ed8-bae0-781c13e39aed\" xlink:actuate=\"onRequest\" xlink:href=\"psysml:bae878c2-3025-4ed8-bae0-781c13e39aed\" xlink:show=\"new\" xlink:title=\"psysml:bae878c2-3025-4ed8-bae0-781c13e39aed\" xlink:type=\"simple\"><path d=\"M139.53,136.92 C164.65,128.48 204.86,114.96 237.54,103.97 \" fill=\"none\" id=\"E5-&gt;E3\" style=\"stroke: #383838; stroke-width: 1.0;\"/><polygon fill=\"#FFFFFF\" points=\"256.72,97.53,240.9401,110.2184,236.4799,96.9478,256.72,97.53\" style=\"stroke: #383838; stroke-width: 1.0;\"/><ellipse cx=\"234.8999\" cy=\"110.1385\" fill=\"#383838\" rx=\"2\" ry=\"2\" style=\"stroke: #383838; stroke-width: 1.0;\"/><ellipse cx=\"231.7141\" cy=\"100.6596\" fill=\"#383838\" rx=\"2\" ry=\"2\" style=\"stroke: #383838; stroke-width: 1.0;\"/></a><!--MD5=[85d356282659285ab4b2cfe2f634dd2b]\n",
       "reverse link E5 to E6--><a href=\"psysml:cd2d9195-2d40-49eb-a50a-4bb167712418\" target=\"_top\" title=\"psysml:cd2d9195-2d40-49eb-a50a-4bb167712418\" xlink:actuate=\"onRequest\" xlink:href=\"psysml:cd2d9195-2d40-49eb-a50a-4bb167712418\" xlink:show=\"new\" xlink:title=\"psysml:cd2d9195-2d40-49eb-a50a-4bb167712418\" xlink:type=\"simple\"><path d=\"M152.88,149.69 C188.91,154.2 242.06,160.86 270.79,164.47 \" fill=\"none\" id=\"E5&lt;-E6\" style=\"stroke: #383838; stroke-width: 1.0;\"/><polygon fill=\"#FFFFFF\" points=\"139.53,148.01,144.9862,152.7248,151.4369,149.5017,145.9807,144.7869,139.53,148.01\" style=\"stroke: #383838; stroke-width: 1.0;\"/><text fill=\"#000000\" font-family=\"sans-serif\" font-size=\"13\" lengthAdjust=\"spacingAndGlyphs\" textLength=\"8\" x=\"255.0694\" y=\"178.0889\">1</text></a><!--MD5=[f667431f98296947986a1a7595a31603]\n",
       "link E6 to E4--><a href=\"psysml:9b4aa44d-c7fb-440f-8f9d-ccf8058f014a\" target=\"_top\" title=\"psysml:9b4aa44d-c7fb-440f-8f9d-ccf8058f014a\" xlink:actuate=\"onRequest\" xlink:href=\"psysml:9b4aa44d-c7fb-440f-8f9d-ccf8058f014a\" xlink:show=\"new\" xlink:title=\"psysml:9b4aa44d-c7fb-440f-8f9d-ccf8058f014a\" xlink:type=\"simple\"><path d=\"M313.02,153.26 C328.62,142.55 350.82,127.31 370.14,114.05 \" fill=\"none\" id=\"E6-&gt;E4\" style=\"stroke: #383838; stroke-width: 1.0;\"/><polygon fill=\"#FFFFFF\" points=\"386.8,102.61,375.0955,119.1329,367.1735,107.5899,386.8,102.61\" style=\"stroke: #383838; stroke-width: 1.0;\"/><line style=\"stroke: #383838; stroke-width: 2.0;\" x1=\"371.9624\" x2=\"364.0404\" y1=\"121.2831\" y2=\"109.7401\"/></a><!--MD5=[14ccda38c055a5c0da953d572bc50960]\n",
       "link E7 to E3--><a href=\"psysml:22f6621f-c82b-45b4-aad5-95fd1a975c3d\" target=\"_top\" title=\"psysml:22f6621f-c82b-45b4-aad5-95fd1a975c3d\" xlink:actuate=\"onRequest\" xlink:href=\"psysml:22f6621f-c82b-45b4-aad5-95fd1a975c3d\" xlink:show=\"new\" xlink:title=\"psysml:22f6621f-c82b-45b4-aad5-95fd1a975c3d\" xlink:type=\"simple\"><path d=\"M139.57,216.52 C156.49,209.24 179.2,198.22 197,185 C209.97,175.37 235.79,147.92 257.09,124.36 \" fill=\"none\" id=\"E7-&gt;E3\" style=\"stroke: #383838; stroke-width: 1.0;\"/><polygon fill=\"#FFFFFF\" points=\"270.58,109.3,263.1197,128.124,252.6902,118.7845,270.58,109.3\" style=\"stroke: #383838; stroke-width: 1.0;\"/><ellipse cx=\"257.8272\" cy=\"131.0361\" fill=\"#383838\" rx=\"2\" ry=\"2\" style=\"stroke: #383838; stroke-width: 1.0;\"/><ellipse cx=\"250.3776\" cy=\"124.365\" fill=\"#383838\" rx=\"2\" ry=\"2\" style=\"stroke: #383838; stroke-width: 1.0;\"/></a><!--MD5=[dc164f5e8a733ab456ef1add180e9e34]\n",
       "reverse link E7 to E8--><a href=\"psysml:22337106-f0e5-4c32-83fd-01b8d559ead1\" target=\"_top\" title=\"psysml:22337106-f0e5-4c32-83fd-01b8d559ead1\" xlink:actuate=\"onRequest\" xlink:href=\"psysml:22337106-f0e5-4c32-83fd-01b8d559ead1\" xlink:show=\"new\" xlink:title=\"psysml:22337106-f0e5-4c32-83fd-01b8d559ead1\" xlink:type=\"simple\"><path d=\"M152.83,235.46 C195.12,236.72 266.09,230.72 327,224 C348.05,221.68 372,218.49 388.92,213.11 \" fill=\"none\" id=\"E7&lt;-E8\" style=\"stroke: #383838; stroke-width: 1.0;\"/><polygon fill=\"#FFFFFF\" points=\"139.64,234.74,145.4113,239.0635,151.6219,235.3991,145.8506,231.0756,139.64,234.74\" style=\"stroke: #383838; stroke-width: 1.0;\"/><text fill=\"#000000\" font-family=\"sans-serif\" font-size=\"13\" lengthAdjust=\"spacingAndGlyphs\" textLength=\"8\" x=\"372.9653\" y=\"232.4348\">1</text></a><!--MD5=[dc164f5e8a733ab456ef1add180e9e34]\n",
       "reverse link E7 to E8--><a href=\"psysml:3441a1bf-d119-4e2c-bd85-6011f03ceff2\" target=\"_top\" title=\"psysml:3441a1bf-d119-4e2c-bd85-6011f03ceff2\" xlink:actuate=\"onRequest\" xlink:href=\"psysml:3441a1bf-d119-4e2c-bd85-6011f03ceff2\" xlink:show=\"new\" xlink:title=\"psysml:3441a1bf-d119-4e2c-bd85-6011f03ceff2\" xlink:type=\"simple\"><path d=\"M154.5,209.71 C196.97,201.57 266.89,195.63 327,189 C348.05,186.68 372,183.49 388.92,184.34 \" fill=\"none\" id=\"E7&lt;-E8-1\" style=\"stroke: #383838; stroke-width: 1.0; stroke-dasharray: 7.0,7.0;\"/><ellipse cx=\"147.4575\" cy=\"211.2509\" fill=\"#FFFFFF\" rx=\"8\" ry=\"8\" style=\"stroke: #383838; stroke-width: 1.0;\"/><line style=\"stroke: #383838; stroke-width: 1.0;\" x1=\"155.275\" x2=\"139.64\" y1=\"209.5518\" y2=\"212.95\"/><line style=\"stroke: #383838; stroke-width: 1.0;\" x1=\"149.1566\" x2=\"145.7584\" y1=\"219.0684\" y2=\"203.4334\"/><text fill=\"#000000\" font-family=\"sans-serif\" font-size=\"13\" lengthAdjust=\"spacingAndGlyphs\" textLength=\"8\" x=\"372.9653\" y=\"175.8073\">1</text></a><!--MD5=[0a839d0f80c2d72d4b9b307f046d0de8]\n",
       "link E6 to E8--><a href=\"psysml:e347aa3d-31a4-4502-9422-b0b7e8733c17\" target=\"_top\" title=\"psysml:e347aa3d-31a4-4502-9422-b0b7e8733c17\" xlink:actuate=\"onRequest\" xlink:href=\"psysml:e347aa3d-31a4-4502-9422-b0b7e8733c17\" xlink:show=\"new\" xlink:title=\"psysml:e347aa3d-31a4-4502-9422-b0b7e8733c17\" xlink:type=\"simple\"><path d=\"M313.02,181.77 C334.06,190.68 367.07,198.92 388.87,200.77 \" fill=\"none\" id=\"E6-E8\" style=\"stroke: #383838; stroke-width: 3.0;\"/><text fill=\"#000000\" font-family=\"sans-serif\" font-size=\"13\" lengthAdjust=\"spacingAndGlyphs\" textLength=\"7\" x=\"374.0474\" y=\"216.4699\">*</text></a><!--MD5=[0a839d0f80c2d72d4b9b307f046d0de8]\n",
       "link E6 to E8--><a href=\"psysml:6852a8da-427c-4993-bbf6-22174e5f8d33\" target=\"_top\" title=\"psysml:6852a8da-427c-4993-bbf6-22174e5f8d33\" xlink:actuate=\"onRequest\" xlink:href=\"psysml:6852a8da-427c-4993-bbf6-22174e5f8d33\" xlink:show=\"new\" xlink:title=\"psysml:6852a8da-427c-4993-bbf6-22174e5f8d33\" xlink:type=\"simple\"><path d=\"M313.02,161.49 C334.06,162.7 367.07,170.69 388.87,179.75 \" fill=\"none\" id=\"E6-E8-1\" style=\"stroke: #383838; stroke-width: 3.0;\"/><text fill=\"#000000\" font-family=\"sans-serif\" font-size=\"13\" lengthAdjust=\"spacingAndGlyphs\" textLength=\"7\" x=\"374.0474\" y=\"189.2753\">*</text></a><!--MD5=[758751d4a1d06560bf04ff0b33140c4f]\n",
       "@startuml\r\n",
       "left to right direction\r\n",
       "skinparam monochrome true\r\n",
       "skinparam classbackgroundcolor white\r\n",
       "skinparam shadowing false\r\n",
       "skinparam wrapWidth 300\r\n",
       "hide circle\r\n",
       "\r\n",
       "package \"AliasTest\" as E1  [[psysml:5020e8e8-e597-4a8a-8c84-9076441471bb ]]  {\r\n",
       "comp usage \"b :> ISQSpaceTime::width\" as E2  <<(T,blue) attribute>> [[psysml:09023520-b272-4b76-a802-4be530536a95 ]] {\r\n",
       "}\r\n",
       "comp def \"P1\" as E3  <<(T,blue) part  def>> [[psysml:2d23ecbc-8f8b-40e5-8168-7a4eefd95afa ]] {\r\n",
       "}\r\n",
       "comp usage \"porig1 \" as E4  <<(T,blue) port>> [[psysml:371120a0-4800-4c08-b9c5-19a2f97c5f1a ]] {\r\n",
       "}\r\n",
       "comp usage \"p1: P1 \" as E5  <<(T,blue) part>> [[psysml:23efd2aa-8423-4d75-9f93-6567d973731c ]] {\r\n",
       "}\r\n",
       "comp usage \"po1 \" as E6  <<(T,blue) port>> [[psysml:a6a8a5d4-8051-439c-be85-1eee73d04018 ]] {\r\n",
       "}\r\n",
       "comp usage \"p2: P1 \" as E7  <<(T,blue) part>> [[psysml:32558afe-9574-460d-81c7-219976cfcf7f ]] {\r\n",
       "}\r\n",
       "comp usage \"pdest \" as E8  <<(T,blue) port>> [[psysml:9d4715a0-ecad-4cb9-af91-593b0378d847 ]] {\r\n",
       "}\r\n",
       "}\r\n",
       "E3 o- - \"1\"E4 [[psysml:77da464e-a07c-41d7-bf00-c994457c7429 ]] \r\n",
       "E3 +.. \"1\"E4 [[psysml:2fb80261-1acb-4246-9b34-6566336881f2 ]] \r\n",
       "E5 - -:|> E3 [[psysml:bae878c2-3025-4ed8-bae0-781c13e39aed ]] \r\n",
       "E5 o- - \"1\"E6 [[psysml:cd2d9195-2d40-49eb-a50a-4bb167712418 ]] \r\n",
       "E6 - -||> E4 [[psysml:9b4aa44d-c7fb-440f-8f9d-ccf8058f014a ]] \r\n",
       "E7 - -:|> E3 [[psysml:22f6621f-c82b-45b4-aad5-95fd1a975c3d ]] \r\n",
       "E7 o- - \"1\"E8 [[psysml:22337106-f0e5-4c32-83fd-01b8d559ead1 ]] \r\n",
       "E7 +.. \"1\"E8 [[psysml:3441a1bf-d119-4e2c-bd85-6011f03ceff2 ]] \r\n",
       "E6 -[thickness=3]- \"*\"E8 [[psysml:e347aa3d-31a4-4502-9422-b0b7e8733c17 ]] \r\n",
       "E6 -[thickness=3]- \"*\"E8 [[psysml:6852a8da-427c-4993-bbf6-22174e5f8d33 ]] \r\n",
       "@enduml\r\n",
       "\n",
       "PlantUML version 1.2020.13(Sat Jun 13 12:26:38 UTC 2020)\n",
       "(EPL source distribution)\n",
       "Java Runtime: OpenJDK Runtime Environment\n",
       "JVM: OpenJDK 64-Bit Server VM\n",
       "Default Encoding: UTF-8\n",
       "Language: en\n",
       "Country: null\n",
       "--></g></svg>"
      ]
     },
     "execution_count": 16,
     "metadata": {},
     "output_type": "execute_result"
    }
   ],
   "source": [
    "%viz --style=\"LR\" --view=\"Default\" \"AliasTest\""
   ]
  },
  {
   "cell_type": "code",
   "execution_count": 17,
   "id": "1dd8a8b7",
   "metadata": {
    "execution": {
     "iopub.execute_input": "2022-04-22T09:51:31.878056Z",
     "iopub.status.busy": "2022-04-22T09:51:31.877630Z",
     "iopub.status.idle": "2022-04-22T09:51:31.936214Z",
     "shell.execute_reply": "2022-04-22T09:51:31.935796Z"
    }
   },
   "outputs": [
    {
     "data": {
      "image/svg+xml": [
       "<?xml version=\"1.0\" encoding=\"UTF-8\" standalone=\"no\"?><svg xmlns=\"http://www.w3.org/2000/svg\" xmlns:xlink=\"http://www.w3.org/1999/xlink\" contentScriptType=\"application/ecmascript\" contentStyleType=\"text/css\" height=\"277px\" preserveAspectRatio=\"none\" style=\"width:475px;height:277px;\" version=\"1.1\" viewBox=\"0 0 475 277\" width=\"475px\" zoomAndPan=\"magnify\"><defs/><g><!--MD5=[fbc87193dbaf4d95561dea2c320d4a47]\n",
       "cluster E1--><a href=\"psysml:5020e8e8-e597-4a8a-8c84-9076441471bb\" target=\"_top\" title=\"psysml:5020e8e8-e597-4a8a-8c84-9076441471bb\" xlink:actuate=\"onRequest\" xlink:href=\"psysml:5020e8e8-e597-4a8a-8c84-9076441471bb\" xlink:show=\"new\" xlink:title=\"psysml:5020e8e8-e597-4a8a-8c84-9076441471bb\" xlink:type=\"simple\"><polygon fill=\"#FFFFFF\" points=\"16,6,84,6,91,28.2969,453,28.2969,453,265,16,265,16,6\" style=\"stroke: #000000; stroke-width: 1.5;\"/><line style=\"stroke: #000000; stroke-width: 1.5;\" x1=\"16\" x2=\"91\" y1=\"28.2969\" y2=\"28.2969\"/><text fill=\"#000000\" font-family=\"sans-serif\" font-size=\"14\" font-weight=\"bold\" lengthAdjust=\"spacingAndGlyphs\" textLength=\"62\" x=\"20\" y=\"20.9951\">AliasTest</text></a><!--MD5=[b4997ac47864f28c2f74865a473b2911]\n",
       "class E2--><a href=\"psysml:09023520-b272-4b76-a802-4be530536a95\" target=\"_top\" title=\"psysml:09023520-b272-4b76-a802-4be530536a95\" xlink:actuate=\"onRequest\" xlink:href=\"psysml:09023520-b272-4b76-a802-4be530536a95\" xlink:show=\"new\" xlink:title=\"psysml:09023520-b272-4b76-a802-4be530536a95\" xlink:type=\"simple\"><rect fill=\"#FFFFFF\" height=\"45.9375\" id=\"E2\" rx=\"10\" ry=\"10\" style=\"stroke: #383838; stroke-width: 1.5;\" width=\"165\" x=\"32\" y=\"41\"/><text fill=\"#000000\" font-family=\"sans-serif\" font-size=\"12\" font-style=\"italic\" lengthAdjust=\"spacingAndGlyphs\" textLength=\"69\" x=\"80\" y=\"57.1387\">«attribute»</text><text fill=\"#000000\" font-family=\"sans-serif\" font-size=\"12\" lengthAdjust=\"spacingAndGlyphs\" textLength=\"159\" x=\"35\" y=\"71.1074\">b :&gt; ISQSpaceTime::width</text><line style=\"stroke: #383838; stroke-width: 1.5;\" x1=\"33\" x2=\"196\" y1=\"78.9375\" y2=\"78.9375\"/></a><!--MD5=[09b614a08d8cba4a07c9adeb5e0fee81]\n",
       "class E3--><a href=\"psysml:2d23ecbc-8f8b-40e5-8168-7a4eefd95afa\" target=\"_top\" title=\"psysml:2d23ecbc-8f8b-40e5-8168-7a4eefd95afa\" xlink:actuate=\"onRequest\" xlink:href=\"psysml:2d23ecbc-8f8b-40e5-8168-7a4eefd95afa\" xlink:show=\"new\" xlink:title=\"psysml:2d23ecbc-8f8b-40e5-8168-7a4eefd95afa\" xlink:type=\"simple\"><rect fill=\"#FFFFFF\" height=\"45.9375\" id=\"E3\" style=\"stroke: #383838; stroke-width: 1.5;\" width=\"70\" x=\"257\" y=\"63\"/><text fill=\"#000000\" font-family=\"sans-serif\" font-size=\"12\" font-style=\"italic\" lengthAdjust=\"spacingAndGlyphs\" textLength=\"68\" x=\"258\" y=\"79.1387\">«part  def»</text><text fill=\"#000000\" font-family=\"sans-serif\" font-size=\"12\" lengthAdjust=\"spacingAndGlyphs\" textLength=\"16\" x=\"284\" y=\"93.1074\">P1</text><line style=\"stroke: #383838; stroke-width: 1.5;\" x1=\"258\" x2=\"326\" y1=\"100.9375\" y2=\"100.9375\"/></a><!--MD5=[ebbe1d658d1005bcc118a6aa81145e00]\n",
       "class E4--><a href=\"psysml:371120a0-4800-4c08-b9c5-19a2f97c5f1a\" target=\"_top\" title=\"psysml:371120a0-4800-4c08-b9c5-19a2f97c5f1a\" xlink:actuate=\"onRequest\" xlink:href=\"psysml:371120a0-4800-4c08-b9c5-19a2f97c5f1a\" xlink:show=\"new\" xlink:title=\"psysml:371120a0-4800-4c08-b9c5-19a2f97c5f1a\" xlink:type=\"simple\"><rect fill=\"#FFFFFF\" height=\"45.9375\" id=\"E4\" rx=\"10\" ry=\"10\" style=\"stroke: #383838; stroke-width: 1.5;\" width=\"50\" x=\"387\" y=\"63\"/><text fill=\"#000000\" font-family=\"sans-serif\" font-size=\"12\" font-style=\"italic\" lengthAdjust=\"spacingAndGlyphs\" textLength=\"40\" x=\"392\" y=\"79.1387\">«port»</text><text fill=\"#000000\" font-family=\"sans-serif\" font-size=\"12\" lengthAdjust=\"spacingAndGlyphs\" textLength=\"40\" x=\"390\" y=\"93.1074\">porig1</text><line style=\"stroke: #383838; stroke-width: 1.5;\" x1=\"388\" x2=\"436\" y1=\"100.9375\" y2=\"100.9375\"/></a><!--MD5=[270fce915f116d4de14055a7c1d9a0f3]\n",
       "class E5--><a href=\"psysml:23efd2aa-8423-4d75-9f93-6567d973731c\" target=\"_top\" title=\"psysml:23efd2aa-8423-4d75-9f93-6567d973731c\" xlink:actuate=\"onRequest\" xlink:href=\"psysml:23efd2aa-8423-4d75-9f93-6567d973731c\" xlink:show=\"new\" xlink:title=\"psysml:23efd2aa-8423-4d75-9f93-6567d973731c\" xlink:type=\"simple\"><rect fill=\"#FFFFFF\" height=\"45.9375\" id=\"E5\" rx=\"10\" ry=\"10\" style=\"stroke: #383838; stroke-width: 1.5;\" width=\"50\" x=\"89.5\" y=\"122\"/><text fill=\"#000000\" font-family=\"sans-serif\" font-size=\"12\" font-style=\"italic\" lengthAdjust=\"spacingAndGlyphs\" textLength=\"40\" x=\"94.5\" y=\"138.1387\">«part»</text><text fill=\"#000000\" font-family=\"sans-serif\" font-size=\"12\" lengthAdjust=\"spacingAndGlyphs\" textLength=\"40\" x=\"92.5\" y=\"152.1074\">p1: P1</text><line style=\"stroke: #383838; stroke-width: 1.5;\" x1=\"90.5\" x2=\"138.5\" y1=\"159.9375\" y2=\"159.9375\"/></a><!--MD5=[60a26617385b1d2d0262a64233df1f8d]\n",
       "class E6--><a href=\"psysml:a6a8a5d4-8051-439c-be85-1eee73d04018\" target=\"_top\" title=\"psysml:a6a8a5d4-8051-439c-be85-1eee73d04018\" xlink:actuate=\"onRequest\" xlink:href=\"psysml:a6a8a5d4-8051-439c-be85-1eee73d04018\" xlink:show=\"new\" xlink:title=\"psysml:a6a8a5d4-8051-439c-be85-1eee73d04018\" xlink:type=\"simple\"><rect fill=\"#FFFFFF\" height=\"45.9375\" id=\"E6\" rx=\"10\" ry=\"10\" style=\"stroke: #383838; stroke-width: 1.5;\" width=\"42\" x=\"271\" y=\"144\"/><text fill=\"#000000\" font-family=\"sans-serif\" font-size=\"12\" font-style=\"italic\" lengthAdjust=\"spacingAndGlyphs\" textLength=\"40\" x=\"272\" y=\"160.1387\">«port»</text><text fill=\"#000000\" font-family=\"sans-serif\" font-size=\"12\" lengthAdjust=\"spacingAndGlyphs\" textLength=\"24\" x=\"278\" y=\"174.1074\">po1</text><line style=\"stroke: #383838; stroke-width: 1.5;\" x1=\"272\" x2=\"312\" y1=\"181.9375\" y2=\"181.9375\"/></a><!--MD5=[2156ba9850f5573cc1fc38a6a4b2f02b]\n",
       "class E7--><a href=\"psysml:32558afe-9574-460d-81c7-219976cfcf7f\" target=\"_top\" title=\"psysml:32558afe-9574-460d-81c7-219976cfcf7f\" xlink:actuate=\"onRequest\" xlink:href=\"psysml:32558afe-9574-460d-81c7-219976cfcf7f\" xlink:show=\"new\" xlink:title=\"psysml:32558afe-9574-460d-81c7-219976cfcf7f\" xlink:type=\"simple\"><rect fill=\"#FFFFFF\" height=\"45.9375\" id=\"E7\" rx=\"10\" ry=\"10\" style=\"stroke: #383838; stroke-width: 1.5;\" width=\"50\" x=\"89.5\" y=\"203\"/><text fill=\"#000000\" font-family=\"sans-serif\" font-size=\"12\" font-style=\"italic\" lengthAdjust=\"spacingAndGlyphs\" textLength=\"40\" x=\"94.5\" y=\"219.1387\">«part»</text><text fill=\"#000000\" font-family=\"sans-serif\" font-size=\"12\" lengthAdjust=\"spacingAndGlyphs\" textLength=\"40\" x=\"92.5\" y=\"233.1074\">p2: P1</text><line style=\"stroke: #383838; stroke-width: 1.5;\" x1=\"90.5\" x2=\"138.5\" y1=\"240.9375\" y2=\"240.9375\"/></a><!--MD5=[b9389687b975829384b498ac4b7476b2]\n",
       "class E8--><a href=\"psysml:9d4715a0-ecad-4cb9-af91-593b0378d847\" target=\"_top\" title=\"psysml:9d4715a0-ecad-4cb9-af91-593b0378d847\" xlink:actuate=\"onRequest\" xlink:href=\"psysml:9d4715a0-ecad-4cb9-af91-593b0378d847\" xlink:show=\"new\" xlink:title=\"psysml:9d4715a0-ecad-4cb9-af91-593b0378d847\" xlink:type=\"simple\"><rect fill=\"#FFFFFF\" height=\"45.9375\" id=\"E8\" rx=\"10\" ry=\"10\" style=\"stroke: #383838; stroke-width: 1.5;\" width=\"46\" x=\"389\" y=\"173\"/><text fill=\"#000000\" font-family=\"sans-serif\" font-size=\"12\" font-style=\"italic\" lengthAdjust=\"spacingAndGlyphs\" textLength=\"40\" x=\"392\" y=\"189.1387\">«port»</text><text fill=\"#000000\" font-family=\"sans-serif\" font-size=\"12\" lengthAdjust=\"spacingAndGlyphs\" textLength=\"36\" x=\"392\" y=\"203.1074\">pdest</text><line style=\"stroke: #383838; stroke-width: 1.5;\" x1=\"390\" x2=\"434\" y1=\"210.9375\" y2=\"210.9375\"/></a><!--MD5=[4672eba38e49728da53d11aeb285b987]\n",
       "reverse link E3 to E4--><a href=\"psysml:77da464e-a07c-41d7-bf00-c994457c7429\" target=\"_top\" title=\"psysml:77da464e-a07c-41d7-bf00-c994457c7429\" xlink:actuate=\"onRequest\" xlink:href=\"psysml:77da464e-a07c-41d7-bf00-c994457c7429\" xlink:show=\"new\" xlink:title=\"psysml:77da464e-a07c-41d7-bf00-c994457c7429\" xlink:type=\"simple\"><path d=\"M340.14,98.52 C356.09,99.15 373.25,98.49 386.68,96.54 \" fill=\"none\" id=\"E3&lt;-E4\" style=\"stroke: #383838; stroke-width: 1.0;\"/><polygon fill=\"#FFFFFF\" points=\"327.13,97.68,332.8628,102.0543,339.1056,98.445,333.3728,94.0706,327.13,97.68\" style=\"stroke: #383838; stroke-width: 1.0;\"/><text fill=\"#000000\" font-family=\"sans-serif\" font-size=\"13\" lengthAdjust=\"spacingAndGlyphs\" textLength=\"8\" x=\"371.1668\" y=\"113.2547\">1</text></a><!--MD5=[4672eba38e49728da53d11aeb285b987]\n",
       "reverse link E3 to E4--><a href=\"psysml:2fb80261-1acb-4246-9b34-6566336881f2\" target=\"_top\" title=\"psysml:2fb80261-1acb-4246-9b34-6566336881f2\" xlink:actuate=\"onRequest\" xlink:href=\"psysml:2fb80261-1acb-4246-9b34-6566336881f2\" xlink:show=\"new\" xlink:title=\"psysml:2fb80261-1acb-4246-9b34-6566336881f2\" xlink:type=\"simple\"><path d=\"M342.54,72.66 C357.8,72.15 373.92,72.88 386.68,74.84 \" fill=\"none\" id=\"E3&lt;-E4-1\" style=\"stroke: #383838; stroke-width: 1.0; stroke-dasharray: 7.0,7.0;\"/><ellipse cx=\"335.1142\" cy=\"73.1272\" fill=\"#FFFFFF\" rx=\"8\" ry=\"8\" style=\"stroke: #383838; stroke-width: 1.0;\"/><line style=\"stroke: #383838; stroke-width: 1.0;\" x1=\"343.0984\" x2=\"327.13\" y1=\"72.6244\" y2=\"73.63\"/><line style=\"stroke: #383838; stroke-width: 1.0;\" x1=\"335.617\" x2=\"334.6114\" y1=\"81.1114\" y2=\"65.143\"/><text fill=\"#000000\" font-family=\"sans-serif\" font-size=\"13\" lengthAdjust=\"spacingAndGlyphs\" textLength=\"8\" x=\"371.1668\" y=\"85.994\">1</text></a><!--MD5=[e9be52314489bd878ff4c7144b63c9e1]\n",
       "link E5 to E3--><a href=\"psysml:bae878c2-3025-4ed8-bae0-781c13e39aed\" target=\"_top\" title=\"psysml:bae878c2-3025-4ed8-bae0-781c13e39aed\" xlink:actuate=\"onRequest\" xlink:href=\"psysml:bae878c2-3025-4ed8-bae0-781c13e39aed\" xlink:show=\"new\" xlink:title=\"psysml:bae878c2-3025-4ed8-bae0-781c13e39aed\" xlink:type=\"simple\"><path d=\"M139.53,136.92 C164.65,128.48 204.86,114.96 237.54,103.97 \" fill=\"none\" id=\"E5-&gt;E3\" style=\"stroke: #383838; stroke-width: 1.0;\"/><polygon fill=\"#FFFFFF\" points=\"256.72,97.53,240.9401,110.2184,236.4799,96.9478,256.72,97.53\" style=\"stroke: #383838; stroke-width: 1.0;\"/><ellipse cx=\"234.8999\" cy=\"110.1385\" fill=\"#383838\" rx=\"2\" ry=\"2\" style=\"stroke: #383838; stroke-width: 1.0;\"/><ellipse cx=\"231.7141\" cy=\"100.6596\" fill=\"#383838\" rx=\"2\" ry=\"2\" style=\"stroke: #383838; stroke-width: 1.0;\"/></a><!--MD5=[85d356282659285ab4b2cfe2f634dd2b]\n",
       "reverse link E5 to E6--><a href=\"psysml:cd2d9195-2d40-49eb-a50a-4bb167712418\" target=\"_top\" title=\"psysml:cd2d9195-2d40-49eb-a50a-4bb167712418\" xlink:actuate=\"onRequest\" xlink:href=\"psysml:cd2d9195-2d40-49eb-a50a-4bb167712418\" xlink:show=\"new\" xlink:title=\"psysml:cd2d9195-2d40-49eb-a50a-4bb167712418\" xlink:type=\"simple\"><path d=\"M152.88,149.69 C188.91,154.2 242.06,160.86 270.79,164.47 \" fill=\"none\" id=\"E5&lt;-E6\" style=\"stroke: #383838; stroke-width: 1.0;\"/><polygon fill=\"#FFFFFF\" points=\"139.53,148.01,144.9862,152.7248,151.4369,149.5017,145.9807,144.7869,139.53,148.01\" style=\"stroke: #383838; stroke-width: 1.0;\"/><text fill=\"#000000\" font-family=\"sans-serif\" font-size=\"13\" lengthAdjust=\"spacingAndGlyphs\" textLength=\"8\" x=\"255.0694\" y=\"178.0889\">1</text></a><!--MD5=[f667431f98296947986a1a7595a31603]\n",
       "link E6 to E4--><a href=\"psysml:9b4aa44d-c7fb-440f-8f9d-ccf8058f014a\" target=\"_top\" title=\"psysml:9b4aa44d-c7fb-440f-8f9d-ccf8058f014a\" xlink:actuate=\"onRequest\" xlink:href=\"psysml:9b4aa44d-c7fb-440f-8f9d-ccf8058f014a\" xlink:show=\"new\" xlink:title=\"psysml:9b4aa44d-c7fb-440f-8f9d-ccf8058f014a\" xlink:type=\"simple\"><path d=\"M313.02,153.26 C328.62,142.55 350.82,127.31 370.14,114.05 \" fill=\"none\" id=\"E6-&gt;E4\" style=\"stroke: #383838; stroke-width: 1.0;\"/><polygon fill=\"#FFFFFF\" points=\"386.8,102.61,375.0955,119.1329,367.1735,107.5899,386.8,102.61\" style=\"stroke: #383838; stroke-width: 1.0;\"/><line style=\"stroke: #383838; stroke-width: 2.0;\" x1=\"371.9624\" x2=\"364.0404\" y1=\"121.2831\" y2=\"109.7401\"/></a><!--MD5=[14ccda38c055a5c0da953d572bc50960]\n",
       "link E7 to E3--><a href=\"psysml:22f6621f-c82b-45b4-aad5-95fd1a975c3d\" target=\"_top\" title=\"psysml:22f6621f-c82b-45b4-aad5-95fd1a975c3d\" xlink:actuate=\"onRequest\" xlink:href=\"psysml:22f6621f-c82b-45b4-aad5-95fd1a975c3d\" xlink:show=\"new\" xlink:title=\"psysml:22f6621f-c82b-45b4-aad5-95fd1a975c3d\" xlink:type=\"simple\"><path d=\"M139.57,216.52 C156.49,209.24 179.2,198.22 197,185 C209.97,175.37 235.79,147.92 257.09,124.36 \" fill=\"none\" id=\"E7-&gt;E3\" style=\"stroke: #383838; stroke-width: 1.0;\"/><polygon fill=\"#FFFFFF\" points=\"270.58,109.3,263.1197,128.124,252.6902,118.7845,270.58,109.3\" style=\"stroke: #383838; stroke-width: 1.0;\"/><ellipse cx=\"257.8272\" cy=\"131.0361\" fill=\"#383838\" rx=\"2\" ry=\"2\" style=\"stroke: #383838; stroke-width: 1.0;\"/><ellipse cx=\"250.3776\" cy=\"124.365\" fill=\"#383838\" rx=\"2\" ry=\"2\" style=\"stroke: #383838; stroke-width: 1.0;\"/></a><!--MD5=[dc164f5e8a733ab456ef1add180e9e34]\n",
       "reverse link E7 to E8--><a href=\"psysml:22337106-f0e5-4c32-83fd-01b8d559ead1\" target=\"_top\" title=\"psysml:22337106-f0e5-4c32-83fd-01b8d559ead1\" xlink:actuate=\"onRequest\" xlink:href=\"psysml:22337106-f0e5-4c32-83fd-01b8d559ead1\" xlink:show=\"new\" xlink:title=\"psysml:22337106-f0e5-4c32-83fd-01b8d559ead1\" xlink:type=\"simple\"><path d=\"M152.83,235.46 C195.12,236.72 266.09,230.72 327,224 C348.05,221.68 372,218.49 388.92,213.11 \" fill=\"none\" id=\"E7&lt;-E8\" style=\"stroke: #383838; stroke-width: 1.0;\"/><polygon fill=\"#FFFFFF\" points=\"139.64,234.74,145.4113,239.0635,151.6219,235.3991,145.8506,231.0756,139.64,234.74\" style=\"stroke: #383838; stroke-width: 1.0;\"/><text fill=\"#000000\" font-family=\"sans-serif\" font-size=\"13\" lengthAdjust=\"spacingAndGlyphs\" textLength=\"8\" x=\"372.9653\" y=\"232.4348\">1</text></a><!--MD5=[dc164f5e8a733ab456ef1add180e9e34]\n",
       "reverse link E7 to E8--><a href=\"psysml:3441a1bf-d119-4e2c-bd85-6011f03ceff2\" target=\"_top\" title=\"psysml:3441a1bf-d119-4e2c-bd85-6011f03ceff2\" xlink:actuate=\"onRequest\" xlink:href=\"psysml:3441a1bf-d119-4e2c-bd85-6011f03ceff2\" xlink:show=\"new\" xlink:title=\"psysml:3441a1bf-d119-4e2c-bd85-6011f03ceff2\" xlink:type=\"simple\"><path d=\"M154.5,209.71 C196.97,201.57 266.89,195.63 327,189 C348.05,186.68 372,183.49 388.92,184.34 \" fill=\"none\" id=\"E7&lt;-E8-1\" style=\"stroke: #383838; stroke-width: 1.0; stroke-dasharray: 7.0,7.0;\"/><ellipse cx=\"147.4575\" cy=\"211.2509\" fill=\"#FFFFFF\" rx=\"8\" ry=\"8\" style=\"stroke: #383838; stroke-width: 1.0;\"/><line style=\"stroke: #383838; stroke-width: 1.0;\" x1=\"155.275\" x2=\"139.64\" y1=\"209.5518\" y2=\"212.95\"/><line style=\"stroke: #383838; stroke-width: 1.0;\" x1=\"149.1566\" x2=\"145.7584\" y1=\"219.0684\" y2=\"203.4334\"/><text fill=\"#000000\" font-family=\"sans-serif\" font-size=\"13\" lengthAdjust=\"spacingAndGlyphs\" textLength=\"8\" x=\"372.9653\" y=\"175.8073\">1</text></a><!--MD5=[0a839d0f80c2d72d4b9b307f046d0de8]\n",
       "link E6 to E8--><a href=\"psysml:e347aa3d-31a4-4502-9422-b0b7e8733c17\" target=\"_top\" title=\"psysml:e347aa3d-31a4-4502-9422-b0b7e8733c17\" xlink:actuate=\"onRequest\" xlink:href=\"psysml:e347aa3d-31a4-4502-9422-b0b7e8733c17\" xlink:show=\"new\" xlink:title=\"psysml:e347aa3d-31a4-4502-9422-b0b7e8733c17\" xlink:type=\"simple\"><path d=\"M313.02,181.77 C334.06,190.68 367.07,198.92 388.87,200.77 \" fill=\"none\" id=\"E6-E8\" style=\"stroke: #383838; stroke-width: 3.0;\"/><text fill=\"#000000\" font-family=\"sans-serif\" font-size=\"13\" lengthAdjust=\"spacingAndGlyphs\" textLength=\"7\" x=\"374.0474\" y=\"216.4699\">*</text></a><!--MD5=[0a839d0f80c2d72d4b9b307f046d0de8]\n",
       "link E6 to E8--><a href=\"psysml:6852a8da-427c-4993-bbf6-22174e5f8d33\" target=\"_top\" title=\"psysml:6852a8da-427c-4993-bbf6-22174e5f8d33\" xlink:actuate=\"onRequest\" xlink:href=\"psysml:6852a8da-427c-4993-bbf6-22174e5f8d33\" xlink:show=\"new\" xlink:title=\"psysml:6852a8da-427c-4993-bbf6-22174e5f8d33\" xlink:type=\"simple\"><path d=\"M313.02,161.49 C334.06,162.7 367.07,170.69 388.87,179.75 \" fill=\"none\" id=\"E6-E8-1\" style=\"stroke: #383838; stroke-width: 3.0;\"/><text fill=\"#000000\" font-family=\"sans-serif\" font-size=\"13\" lengthAdjust=\"spacingAndGlyphs\" textLength=\"7\" x=\"374.0474\" y=\"189.2753\">*</text></a><!--MD5=[758751d4a1d06560bf04ff0b33140c4f]\n",
       "@startuml\r\n",
       "left to right direction\r\n",
       "skinparam monochrome true\r\n",
       "skinparam classbackgroundcolor white\r\n",
       "skinparam shadowing false\r\n",
       "skinparam wrapWidth 300\r\n",
       "hide circle\r\n",
       "\r\n",
       "package \"AliasTest\" as E1  [[psysml:5020e8e8-e597-4a8a-8c84-9076441471bb ]]  {\r\n",
       "comp usage \"b :> ISQSpaceTime::width\" as E2  <<(T,blue) attribute>> [[psysml:09023520-b272-4b76-a802-4be530536a95 ]] {\r\n",
       "}\r\n",
       "comp def \"P1\" as E3  <<(T,blue) part  def>> [[psysml:2d23ecbc-8f8b-40e5-8168-7a4eefd95afa ]] {\r\n",
       "}\r\n",
       "comp usage \"porig1 \" as E4  <<(T,blue) port>> [[psysml:371120a0-4800-4c08-b9c5-19a2f97c5f1a ]] {\r\n",
       "}\r\n",
       "comp usage \"p1: P1 \" as E5  <<(T,blue) part>> [[psysml:23efd2aa-8423-4d75-9f93-6567d973731c ]] {\r\n",
       "}\r\n",
       "comp usage \"po1 \" as E6  <<(T,blue) port>> [[psysml:a6a8a5d4-8051-439c-be85-1eee73d04018 ]] {\r\n",
       "}\r\n",
       "comp usage \"p2: P1 \" as E7  <<(T,blue) part>> [[psysml:32558afe-9574-460d-81c7-219976cfcf7f ]] {\r\n",
       "}\r\n",
       "comp usage \"pdest \" as E8  <<(T,blue) port>> [[psysml:9d4715a0-ecad-4cb9-af91-593b0378d847 ]] {\r\n",
       "}\r\n",
       "}\r\n",
       "E3 o- - \"1\"E4 [[psysml:77da464e-a07c-41d7-bf00-c994457c7429 ]] \r\n",
       "E3 +.. \"1\"E4 [[psysml:2fb80261-1acb-4246-9b34-6566336881f2 ]] \r\n",
       "E5 - -:|> E3 [[psysml:bae878c2-3025-4ed8-bae0-781c13e39aed ]] \r\n",
       "E5 o- - \"1\"E6 [[psysml:cd2d9195-2d40-49eb-a50a-4bb167712418 ]] \r\n",
       "E6 - -||> E4 [[psysml:9b4aa44d-c7fb-440f-8f9d-ccf8058f014a ]] \r\n",
       "E7 - -:|> E3 [[psysml:22f6621f-c82b-45b4-aad5-95fd1a975c3d ]] \r\n",
       "E7 o- - \"1\"E8 [[psysml:22337106-f0e5-4c32-83fd-01b8d559ead1 ]] \r\n",
       "E7 +.. \"1\"E8 [[psysml:3441a1bf-d119-4e2c-bd85-6011f03ceff2 ]] \r\n",
       "E6 -[thickness=3]- \"*\"E8 [[psysml:e347aa3d-31a4-4502-9422-b0b7e8733c17 ]] \r\n",
       "E6 -[thickness=3]- \"*\"E8 [[psysml:6852a8da-427c-4993-bbf6-22174e5f8d33 ]] \r\n",
       "@enduml\r\n",
       "\n",
       "PlantUML version 1.2020.13(Sat Jun 13 12:26:38 UTC 2020)\n",
       "(EPL source distribution)\n",
       "Java Runtime: OpenJDK Runtime Environment\n",
       "JVM: OpenJDK 64-Bit Server VM\n",
       "Default Encoding: UTF-8\n",
       "Language: en\n",
       "Country: null\n",
       "--></g></svg>"
      ]
     },
     "execution_count": 17,
     "metadata": {},
     "output_type": "execute_result"
    }
   ],
   "source": [
    "%viz --style=\"LR\" --view=\"Tree\" \"AliasTest\""
   ]
  },
  {
   "cell_type": "code",
   "execution_count": 18,
   "id": "1a631656",
   "metadata": {
    "execution": {
     "iopub.execute_input": "2022-04-22T09:51:31.985331Z",
     "iopub.status.busy": "2022-04-22T09:51:31.984930Z",
     "iopub.status.idle": "2022-04-22T09:51:31.990595Z",
     "shell.execute_reply": "2022-04-22T09:51:31.990908Z"
    }
   },
   "outputs": [
    {
     "data": {
      "image/svg+xml": [
       "<?xml version=\"1.0\" encoding=\"UTF-8\" standalone=\"no\"?><svg xmlns=\"http://www.w3.org/2000/svg\" xmlns:xlink=\"http://www.w3.org/1999/xlink\" contentScriptType=\"application/ecmascript\" contentStyleType=\"text/css\" height=\"12px\" preserveAspectRatio=\"none\" style=\"width:12px;height:12px;\" version=\"1.1\" viewBox=\"0 0 12 12\" width=\"12px\" zoomAndPan=\"magnify\"><defs/><g><!--MD5=[19d285c9d72a204eba4e2cd117d745e8]\n",
       "@startuml\r\n",
       "left to right direction\r\n",
       "skinparam monochrome true\r\n",
       "skinparam classbackgroundcolor white\r\n",
       "skinparam shadowing false\r\n",
       "skinparam wrapWidth 300\r\n",
       "hide circle\r\n",
       "\r\n",
       "@enduml\r\n",
       "\n",
       "PlantUML version 1.2020.13(Sat Jun 13 12:26:38 UTC 2020)\n",
       "(EPL source distribution)\n",
       "Java Runtime: OpenJDK Runtime Environment\n",
       "JVM: OpenJDK 64-Bit Server VM\n",
       "Default Encoding: UTF-8\n",
       "Language: en\n",
       "Country: null\n",
       "--></g></svg>"
      ]
     },
     "execution_count": 18,
     "metadata": {},
     "output_type": "execute_result"
    }
   ],
   "source": [
    "%viz --style=\"LR\" --view=\"State\" \"AliasTest\""
   ]
  },
  {
   "cell_type": "code",
   "execution_count": 19,
   "id": "777681aa",
   "metadata": {
    "execution": {
     "iopub.execute_input": "2022-04-22T09:51:32.041507Z",
     "iopub.status.busy": "2022-04-22T09:51:32.041039Z",
     "iopub.status.idle": "2022-04-22T09:51:32.083469Z",
     "shell.execute_reply": "2022-04-22T09:51:32.083270Z"
    }
   },
   "outputs": [
    {
     "data": {
      "image/svg+xml": [
       "<?xml version=\"1.0\" encoding=\"UTF-8\" standalone=\"no\"?><svg xmlns=\"http://www.w3.org/2000/svg\" xmlns:xlink=\"http://www.w3.org/1999/xlink\" contentScriptType=\"application/ecmascript\" contentStyleType=\"text/css\" height=\"280px\" preserveAspectRatio=\"none\" style=\"width:597px;height:280px;\" version=\"1.1\" viewBox=\"0 0 597 280\" width=\"597px\" zoomAndPan=\"magnify\"><defs/><g><!--MD5=[fbc87193dbaf4d95561dea2c320d4a47]\n",
       "cluster E1--><a href=\"psysml:5020e8e8-e597-4a8a-8c84-9076441471bb\" target=\"_top\" title=\"psysml:5020e8e8-e597-4a8a-8c84-9076441471bb\" xlink:actuate=\"onRequest\" xlink:href=\"psysml:5020e8e8-e597-4a8a-8c84-9076441471bb\" xlink:show=\"new\" xlink:title=\"psysml:5020e8e8-e597-4a8a-8c84-9076441471bb\" xlink:type=\"simple\"><polygon fill=\"#FFFFFF\" points=\"16,6,84,6,91,28.2969,575.86,28.2969,575.86,268,16,268,16,6\" style=\"stroke: #000000; stroke-width: 1.5;\"/><line style=\"stroke: #000000; stroke-width: 1.5;\" x1=\"16\" x2=\"91\" y1=\"28.2969\" y2=\"28.2969\"/><text fill=\"#000000\" font-family=\"sans-serif\" font-size=\"14\" font-weight=\"bold\" lengthAdjust=\"spacingAndGlyphs\" textLength=\"62\" x=\"20\" y=\"20.9951\">AliasTest</text></a><!--MD5=[d5e69f78d87373223dbae638b30a9c99]\n",
       "cluster E3--><a href=\"psysml:2d23ecbc-8f8b-40e5-8168-7a4eefd95afa\" target=\"_top\" title=\"psysml:2d23ecbc-8f8b-40e5-8168-7a4eefd95afa\" xlink:actuate=\"onRequest\" xlink:href=\"psysml:2d23ecbc-8f8b-40e5-8168-7a4eefd95afa\" xlink:show=\"new\" xlink:title=\"psysml:2d23ecbc-8f8b-40e5-8168-7a4eefd95afa\" xlink:type=\"simple\"><rect fill=\"#FFFFFF\" height=\"47\" id=\"E3\" style=\"stroke: #383838; stroke-width: 1.5;\" width=\"219.5\" x=\"332.36\" y=\"84\"/><rect fill=\"#F8F8F8\" height=\"37.9375\" style=\"stroke: #383838; stroke-width: 1.5;\" width=\"219.5\" x=\"332.36\" y=\"84\"/><text fill=\"#000000\" font-family=\"sans-serif\" font-size=\"12\" font-style=\"italic\" lengthAdjust=\"spacingAndGlyphs\" textLength=\"68\" x=\"408.11\" y=\"100.1387\">«part  def»</text><text fill=\"#000000\" font-family=\"sans-serif\" font-size=\"12\" lengthAdjust=\"spacingAndGlyphs\" textLength=\"16\" x=\"434.11\" y=\"114.1074\">P1</text></a><!--MD5=[14e3b0961a2654348d326746436168a1]\n",
       "cluster E6--><a href=\"psysml:23efd2aa-8423-4d75-9f93-6567d973731c\" target=\"_top\" title=\"psysml:23efd2aa-8423-4d75-9f93-6567d973731c\" xlink:actuate=\"onRequest\" xlink:href=\"psysml:23efd2aa-8423-4d75-9f93-6567d973731c\" xlink:show=\"new\" xlink:title=\"psysml:23efd2aa-8423-4d75-9f93-6567d973731c\" xlink:type=\"simple\"><rect fill=\"#FFFFFF\" height=\"54\" id=\"E6\" rx=\"10\" ry=\"10\" style=\"stroke: #383838; stroke-width: 1.5;\" width=\"195.86\" x=\"60\" y=\"122\"/><rect fill=\"#F8F8F8\" height=\"23.9688\" rx=\"10\" ry=\"10\" style=\"stroke: #F8F8F8; stroke-width: 1.5;\" width=\"195.86\" x=\"60\" y=\"122\"/><rect fill=\"#F8F8F8\" height=\"10\" style=\"stroke: #F8F8F8; stroke-width: 1.5;\" width=\"195.86\" x=\"60\" y=\"135.9688\"/><rect fill=\"none\" height=\"54\" id=\"E6\" rx=\"10\" ry=\"10\" style=\"stroke: #383838; stroke-width: 1.5;\" width=\"195.86\" x=\"60\" y=\"122\"/><text fill=\"#000000\" font-family=\"sans-serif\" font-size=\"12\" lengthAdjust=\"spacingAndGlyphs\" textLength=\"40\" x=\"137.93\" y=\"138.1387\">p1: P1</text><line style=\"stroke: #383838; stroke-width: 1.0;\" x1=\"60\" x2=\"255.86\" y1=\"145.9688\" y2=\"145.9688\"/></a><!--MD5=[55dfccfc6c49c2d10cd1bd2211a6c90c]\n",
       "cluster E8--><a href=\"psysml:32558afe-9574-460d-81c7-219976cfcf7f\" target=\"_top\" title=\"psysml:32558afe-9574-460d-81c7-219976cfcf7f\" xlink:actuate=\"onRequest\" xlink:href=\"psysml:32558afe-9574-460d-81c7-219976cfcf7f\" xlink:show=\"new\" xlink:title=\"psysml:32558afe-9574-460d-81c7-219976cfcf7f\" xlink:type=\"simple\"><rect fill=\"#FFFFFF\" height=\"47\" id=\"E8\" rx=\"10\" ry=\"10\" style=\"stroke: #383838; stroke-width: 1.5;\" width=\"133\" x=\"271.86\" y=\"183\"/><rect fill=\"#F8F8F8\" height=\"23.9688\" rx=\"10\" ry=\"10\" style=\"stroke: #F8F8F8; stroke-width: 1.5;\" width=\"133\" x=\"271.86\" y=\"183\"/><rect fill=\"#F8F8F8\" height=\"10\" style=\"stroke: #F8F8F8; stroke-width: 1.5;\" width=\"133\" x=\"271.86\" y=\"196.9688\"/><rect fill=\"none\" height=\"47\" id=\"E8\" rx=\"10\" ry=\"10\" style=\"stroke: #383838; stroke-width: 1.5;\" width=\"133\" x=\"271.86\" y=\"183\"/><text fill=\"#000000\" font-family=\"sans-serif\" font-size=\"12\" lengthAdjust=\"spacingAndGlyphs\" textLength=\"40\" x=\"318.36\" y=\"199.1387\">p2: P1</text><line style=\"stroke: #383838; stroke-width: 1.0;\" x1=\"271.86\" x2=\"404.86\" y1=\"206.9688\" y2=\"206.9688\"/></a><!--MD5=[b4997ac47864f28c2f74865a473b2911]\n",
       "class E2--><a href=\"psysml:09023520-b272-4b76-a802-4be530536a95\" target=\"_top\" title=\"psysml:09023520-b272-4b76-a802-4be530536a95\" xlink:actuate=\"onRequest\" xlink:href=\"psysml:09023520-b272-4b76-a802-4be530536a95\" xlink:show=\"new\" xlink:title=\"psysml:09023520-b272-4b76-a802-4be530536a95\" xlink:type=\"simple\"><rect fill=\"#FFFFFF\" height=\"45.9375\" id=\"E2\" rx=\"10\" ry=\"10\" style=\"stroke: #383838; stroke-width: 1.5;\" width=\"165\" x=\"32\" y=\"206\"/><text fill=\"#000000\" font-family=\"sans-serif\" font-size=\"12\" font-style=\"italic\" lengthAdjust=\"spacingAndGlyphs\" textLength=\"69\" x=\"80\" y=\"222.1387\">«attribute»</text><text fill=\"#000000\" font-family=\"sans-serif\" font-size=\"12\" lengthAdjust=\"spacingAndGlyphs\" textLength=\"159\" x=\"35\" y=\"236.1074\">b :&gt; ISQSpaceTime::width</text><line style=\"stroke: #383838; stroke-width: 1.5;\" x1=\"33\" x2=\"196\" y1=\"243.9375\" y2=\"243.9375\"/></a><text fill=\"#000000\" font-family=\"sans-serif\" font-size=\"14\" lengthAdjust=\"spacingAndGlyphs\" textLength=\"44\" x=\"326.36\" y=\"149.9951\">porig1</text><rect fill=\"#383838\" height=\"12\" style=\"stroke: #F8F8F8; stroke-width: 1.5;\" width=\"12\" x=\"344.36\" y=\"125\"/><text fill=\"#000000\" font-family=\"sans-serif\" font-size=\"14\" lengthAdjust=\"spacingAndGlyphs\" textLength=\"44\" x=\"326.36\" y=\"62.6982\">porig1</text><rect fill=\"#383838\" height=\"12\" style=\"stroke: #F8F8F8; stroke-width: 1.5;\" width=\"12\" x=\"344.36\" y=\"78\"/><text fill=\"#000000\" font-family=\"sans-serif\" font-size=\"14\" lengthAdjust=\"spacingAndGlyphs\" textLength=\"27\" x=\"222.36\" y=\"194.9951\">po1</text><rect fill=\"#383838\" height=\"12\" style=\"stroke: #F8F8F8; stroke-width: 1.5;\" width=\"12\" x=\"231.86\" y=\"170\"/><text fill=\"#000000\" font-family=\"sans-serif\" font-size=\"14\" lengthAdjust=\"spacingAndGlyphs\" textLength=\"40\" x=\"267.86\" y=\"248.9951\">pdest</text><rect fill=\"#383838\" height=\"12\" style=\"stroke: #F8F8F8; stroke-width: 1.5;\" width=\"12\" x=\"283.86\" y=\"224\"/><text fill=\"#000000\" font-family=\"sans-serif\" font-size=\"14\" lengthAdjust=\"spacingAndGlyphs\" textLength=\"40\" x=\"267.86\" y=\"161.6982\">pdest</text><rect fill=\"#383838\" height=\"12\" style=\"stroke: #F8F8F8; stroke-width: 1.5;\" width=\"12\" x=\"283.86\" y=\"177\"/><!--MD5=[a717450b82c80b9240a525fa862496af]\n",
       "link E6 to E3--><a href=\"psysml:bae878c2-3025-4ed8-bae0-781c13e39aed\" target=\"_top\" title=\"psysml:bae878c2-3025-4ed8-bae0-781c13e39aed\" xlink:actuate=\"onRequest\" xlink:href=\"psysml:bae878c2-3025-4ed8-bae0-781c13e39aed\" xlink:show=\"new\" xlink:title=\"psysml:bae878c2-3025-4ed8-bae0-781c13e39aed\" xlink:type=\"simple\"><path d=\"M133.168,121.9448 C133.2693,121.776 133.3709,121.6069 133.473,121.4374 C133.6771,121.0986 133.8829,120.7584 134.0903,120.4171 C134.505,119.7344 134.9263,119.0469 135.3541,118.3552 C142.1981,107.2866 150.6988,95.1131 160.6775,83.8013 C180.635,61.1775 206.505,42 236.86,42 C236.86,42 236.86,42 290.86,42 C345.3,42 361.91,33.81 412.86,53 C417.6125,54.79 422.3281,57.0056 426.9306,59.4997 C427.5059,59.8114 428.0795,60.1276 428.6511,60.4477 C428.9369,60.6078 429.2223,60.7689 429.5071,60.931 \" fill=\"none\" id=\"E6-&gt;E3\" style=\"stroke: #383838; stroke-width: 1.0;\"/><polygon fill=\"#FFFFFF\" points=\"429.5071,60.931,409.5315,57.6182,416.4554,45.4502,429.5071,60.931\" style=\"stroke: #383838; stroke-width: 1.0;\"/><ellipse cx=\"405.5665\" cy=\"53.0609\" fill=\"#383838\" rx=\"2\" ry=\"2\" style=\"stroke: #383838; stroke-width: 1.0;\"/><ellipse cx=\"410.5122\" cy=\"44.3695\" fill=\"#383838\" rx=\"2\" ry=\"2\" style=\"stroke: #383838; stroke-width: 1.0;\"/></a><!--MD5=[95fa686b5a16158bcdbcaeead89f639b]\n",
       "link E8 to E3--><a href=\"psysml:22f6621f-c82b-45b4-aad5-95fd1a975c3d\" target=\"_top\" title=\"psysml:22f6621f-c82b-45b4-aad5-95fd1a975c3d\" xlink:actuate=\"onRequest\" xlink:href=\"psysml:22f6621f-c82b-45b4-aad5-95fd1a975c3d\" xlink:show=\"new\" xlink:title=\"psysml:22f6621f-c82b-45b4-aad5-95fd1a975c3d\" xlink:type=\"simple\"><path d=\"M377.5682,182.8361 C377.7934,182.6629 378.0196,182.4889 378.2467,182.3142 C380.0639,180.9165 381.9425,179.4716 383.8725,177.9872 C391.5925,172.0494 400.135,165.4788 408.86,158.7675 C413.2225,155.4119 417.6306,152.0211 422.0044,148.6567 C423.0978,147.8156 424.1891,146.9761 425.277,146.1393 C425.549,145.9301 425.8207,145.721 426.0923,145.5121 C426.228,145.4077 426.3637,145.3033 426.4994,145.199 C426.5672,145.1468 426.635,145.0946 426.7028,145.0425 \" fill=\"none\" id=\"E8-&gt;E3\" style=\"stroke: #383838; stroke-width: 1.0;\"/><polygon fill=\"#FFFFFF\" points=\"426.7028,145.0425,415.911,162.1754,407.375,151.0788,426.7028,145.0425\" style=\"stroke: #383838; stroke-width: 1.0;\"/><ellipse cx=\"410.1737\" cy=\"164.0656\" fill=\"#383838\" rx=\"2\" ry=\"2\" style=\"stroke: #383838; stroke-width: 1.0;\"/><ellipse cx=\"404.0765\" cy=\"156.1394\" fill=\"#383838\" rx=\"2\" ry=\"2\" style=\"stroke: #383838; stroke-width: 1.0;\"/></a><!--MD5=[1c0b9414cc86e0744215edee6abd8926]\n",
       "link E7 to E9--><a href=\"psysml:e347aa3d-31a4-4502-9422-b0b7e8733c17\" target=\"_top\" title=\"psysml:e347aa3d-31a4-4502-9422-b0b7e8733c17\" xlink:actuate=\"onRequest\" xlink:href=\"psysml:e347aa3d-31a4-4502-9422-b0b7e8733c17\" xlink:show=\"new\" xlink:title=\"psysml:e347aa3d-31a4-4502-9422-b0b7e8733c17\" xlink:type=\"simple\"><path d=\"M240.3,182.21 C246.71,198.64 272.74,227.89 283.83,232.62 \" fill=\"none\" id=\"E7-E9\" style=\"stroke: #383838; stroke-width: 3.0;\"/><text fill=\"#000000\" font-family=\"sans-serif\" font-size=\"13\" lengthAdjust=\"spacingAndGlyphs\" textLength=\"7\" x=\"268.9677\" y=\"253.0907\">*</text></a><!--MD5=[1c0b9414cc86e0744215edee6abd8926]\n",
       "link E7 to E9--><a href=\"psysml:6852a8da-427c-4993-bbf6-22174e5f8d33\" target=\"_top\" title=\"psysml:6852a8da-427c-4993-bbf6-22174e5f8d33\" xlink:actuate=\"onRequest\" xlink:href=\"psysml:6852a8da-427c-4993-bbf6-22174e5f8d33\" xlink:show=\"new\" xlink:title=\"psysml:6852a8da-427c-4993-bbf6-22174e5f8d33\" xlink:type=\"simple\"><path d=\"M244.21,173.04 C255.5,177.78 281.22,206.85 287.47,223.66 \" fill=\"none\" id=\"E7-E9-1\" style=\"stroke: #383838; stroke-width: 3.0;\"/><text fill=\"#000000\" font-family=\"sans-serif\" font-size=\"13\" lengthAdjust=\"spacingAndGlyphs\" textLength=\"7\" x=\"277.1569\" y=\"212.9792\">*</text></a><!--MD5=[840c265cab06075df391cc037761005e]\n",
       "@startuml\r\n",
       "skinparam ranksep 10\r\n",
       "skinparam rectangle {\r\n",
       " backgroundColor<<block>> LightGreen\r\n",
       "}\r\n",
       "left to right direction\r\n",
       "skinparam monochrome true\r\n",
       "skinparam classbackgroundcolor white\r\n",
       "skinparam shadowing false\r\n",
       "skinparam wrapWidth 300\r\n",
       "hide circle\r\n",
       "\r\n",
       "package \"AliasTest\" as E1  [[psysml:5020e8e8-e597-4a8a-8c84-9076441471bb ]]  {\r\n",
       "comp usage \"b :> ISQSpaceTime::width\" as E2  <<(T,blue) attribute>> [[psysml:09023520-b272-4b76-a802-4be530536a95 ]] {\r\n",
       "}\r\n",
       "rec def \"P1\" as E3  <<(T,blue) part  def>> [[psysml:2d23ecbc-8f8b-40e5-8168-7a4eefd95afa ]] {\r\n",
       "portin \"porig1 \" as E4  <<(T,blue) port>> [[psysml:371120a0-4800-4c08-b9c5-19a2f97c5f1a ]] \r\n",
       "portin \"porig1 \" as E5  <<(T,blue) port>> [[psysml:371120a0-4800-4c08-b9c5-19a2f97c5f1a ]] \r\n",
       "}\r\n",
       "rec usage \"p1: P1\" as E6  [[psysml:23efd2aa-8423-4d75-9f93-6567d973731c ]] {\r\n",
       "portout \"po1 \" as E7  <<(T,blue) port>> [[psysml:a6a8a5d4-8051-439c-be85-1eee73d04018 ]] \r\n",
       "}\r\n",
       "rec usage \"p2: P1\" as E8  [[psysml:32558afe-9574-460d-81c7-219976cfcf7f ]] {\r\n",
       "portin \"pdest \" as E9  <<(T,blue) port>> [[psysml:9d4715a0-ecad-4cb9-af91-593b0378d847 ]] \r\n",
       "portin \"pdest \" as E10  <<(T,blue) port>> [[psysml:9d4715a0-ecad-4cb9-af91-593b0378d847 ]] \r\n",
       "}\r\n",
       "}\r\n",
       "E6 - -:|> E3 [[psysml:bae878c2-3025-4ed8-bae0-781c13e39aed ]] \r\n",
       "E8 - -:|> E3 [[psysml:22f6621f-c82b-45b4-aad5-95fd1a975c3d ]] \r\n",
       "E7 -[thickness=3]- \"*\"E9 [[psysml:e347aa3d-31a4-4502-9422-b0b7e8733c17 ]] \r\n",
       "E7 -[thickness=3]- \"*\"E9 [[psysml:6852a8da-427c-4993-bbf6-22174e5f8d33 ]] \r\n",
       "@enduml\r\n",
       "\n",
       "PlantUML version 1.2020.13(Sat Jun 13 12:26:38 UTC 2020)\n",
       "(EPL source distribution)\n",
       "Java Runtime: OpenJDK Runtime Environment\n",
       "JVM: OpenJDK 64-Bit Server VM\n",
       "Default Encoding: UTF-8\n",
       "Language: en\n",
       "Country: null\n",
       "--></g></svg>"
      ]
     },
     "execution_count": 19,
     "metadata": {},
     "output_type": "execute_result"
    }
   ],
   "source": [
    "%viz --style=\"LR\" --view=\"Interconnection\" \"AliasTest\""
   ]
  },
  {
   "cell_type": "code",
   "execution_count": 20,
   "id": "49633ef7",
   "metadata": {
    "execution": {
     "iopub.execute_input": "2022-04-22T09:51:32.133918Z",
     "iopub.status.busy": "2022-04-22T09:51:32.133687Z",
     "iopub.status.idle": "2022-04-22T09:51:32.138993Z",
     "shell.execute_reply": "2022-04-22T09:51:32.139154Z"
    }
   },
   "outputs": [
    {
     "data": {
      "image/svg+xml": [
       "<?xml version=\"1.0\" encoding=\"UTF-8\" standalone=\"no\"?><svg xmlns=\"http://www.w3.org/2000/svg\" xmlns:xlink=\"http://www.w3.org/1999/xlink\" contentScriptType=\"application/ecmascript\" contentStyleType=\"text/css\" height=\"12px\" preserveAspectRatio=\"none\" style=\"width:12px;height:12px;\" version=\"1.1\" viewBox=\"0 0 12 12\" width=\"12px\" zoomAndPan=\"magnify\"><defs/><g><!--MD5=[7aeb398939421629f6affaa4a1a7b125]\n",
       "@startuml\r\n",
       "skinparam ranksep 8\r\n",
       "left to right direction\r\n",
       "skinparam monochrome true\r\n",
       "skinparam classbackgroundcolor white\r\n",
       "skinparam shadowing false\r\n",
       "skinparam wrapWidth 300\r\n",
       "hide circle\r\n",
       "\r\n",
       "@enduml\r\n",
       "\n",
       "PlantUML version 1.2020.13(Sat Jun 13 12:26:38 UTC 2020)\n",
       "(EPL source distribution)\n",
       "Java Runtime: OpenJDK Runtime Environment\n",
       "JVM: OpenJDK 64-Bit Server VM\n",
       "Default Encoding: UTF-8\n",
       "Language: en\n",
       "Country: null\n",
       "--></g></svg>"
      ]
     },
     "execution_count": 20,
     "metadata": {},
     "output_type": "execute_result"
    }
   ],
   "source": [
    "%viz --style=\"LR\" --view=\"Action\" \"AliasTest\""
   ]
  },
  {
   "cell_type": "code",
   "execution_count": 21,
   "id": "3f94ae00",
   "metadata": {
    "execution": {
     "iopub.execute_input": "2022-04-22T09:51:32.190220Z",
     "iopub.status.busy": "2022-04-22T09:51:32.189790Z",
     "iopub.status.idle": "2022-04-22T09:51:32.195667Z",
     "shell.execute_reply": "2022-04-22T09:51:32.195988Z"
    }
   },
   "outputs": [
    {
     "data": {
      "image/svg+xml": [
       "<?xml version=\"1.0\" encoding=\"UTF-8\" standalone=\"no\"?><svg xmlns=\"http://www.w3.org/2000/svg\" xmlns:xlink=\"http://www.w3.org/1999/xlink\" contentScriptType=\"application/ecmascript\" contentStyleType=\"text/css\" height=\"12px\" preserveAspectRatio=\"none\" style=\"width:12px;height:12px;\" version=\"1.1\" viewBox=\"0 0 12 12\" width=\"12px\" zoomAndPan=\"magnify\"><defs/><g><!--MD5=[238c11ea2002f03115ad6b49a457d50e]\n",
       "@startuml\r\n",
       "skinparam roundcorner 20\r\n",
       "skinparam BoxPadding 20\r\n",
       "skinparam SequenceBoxBackgroundColor #white\r\n",
       "skinparam style strictuml\r\n",
       "skinparam maxMessageSize 100\r\n",
       "left to right direction\r\n",
       "skinparam monochrome true\r\n",
       "skinparam classbackgroundcolor white\r\n",
       "skinparam shadowing false\r\n",
       "skinparam wrapWidth 300\r\n",
       "hide circle\r\n",
       "\r\n",
       "@enduml\r\n",
       "\n",
       "PlantUML version 1.2020.13(Sat Jun 13 12:26:38 UTC 2020)\n",
       "(EPL source distribution)\n",
       "Java Runtime: OpenJDK Runtime Environment\n",
       "JVM: OpenJDK 64-Bit Server VM\n",
       "Default Encoding: UTF-8\n",
       "Language: en\n",
       "Country: null\n",
       "--></g></svg>"
      ]
     },
     "execution_count": 21,
     "metadata": {},
     "output_type": "execute_result"
    }
   ],
   "source": [
    "%viz --style=\"LR\" --view=\"Sequence\" \"AliasTest\""
   ]
  },
  {
   "cell_type": "code",
   "execution_count": 22,
   "id": "d731ec47",
   "metadata": {
    "execution": {
     "iopub.execute_input": "2022-04-22T09:51:32.246232Z",
     "iopub.status.busy": "2022-04-22T09:51:32.245808Z",
     "iopub.status.idle": "2022-04-22T09:51:32.287912Z",
     "shell.execute_reply": "2022-04-22T09:51:32.287588Z"
    }
   },
   "outputs": [
    {
     "data": {
      "image/svg+xml": [
       "<?xml version=\"1.0\" encoding=\"UTF-8\" standalone=\"no\"?><svg xmlns=\"http://www.w3.org/2000/svg\" xmlns:xlink=\"http://www.w3.org/1999/xlink\" contentScriptType=\"application/ecmascript\" contentStyleType=\"text/css\" height=\"277px\" preserveAspectRatio=\"none\" style=\"width:475px;height:277px;\" version=\"1.1\" viewBox=\"0 0 475 277\" width=\"475px\" zoomAndPan=\"magnify\"><defs/><g><!--MD5=[fbc87193dbaf4d95561dea2c320d4a47]\n",
       "cluster E1--><a href=\"psysml:5020e8e8-e597-4a8a-8c84-9076441471bb\" target=\"_top\" title=\"psysml:5020e8e8-e597-4a8a-8c84-9076441471bb\" xlink:actuate=\"onRequest\" xlink:href=\"psysml:5020e8e8-e597-4a8a-8c84-9076441471bb\" xlink:show=\"new\" xlink:title=\"psysml:5020e8e8-e597-4a8a-8c84-9076441471bb\" xlink:type=\"simple\"><polygon fill=\"#FFFFFF\" points=\"16,6,84,6,91,28.2969,453,28.2969,453,265,16,265,16,6\" style=\"stroke: #000000; stroke-width: 1.5;\"/><line style=\"stroke: #000000; stroke-width: 1.5;\" x1=\"16\" x2=\"91\" y1=\"28.2969\" y2=\"28.2969\"/><text fill=\"#000000\" font-family=\"sans-serif\" font-size=\"14\" font-weight=\"bold\" lengthAdjust=\"spacingAndGlyphs\" textLength=\"62\" x=\"20\" y=\"20.9951\">AliasTest</text></a><!--MD5=[b4997ac47864f28c2f74865a473b2911]\n",
       "class E2--><a href=\"psysml:09023520-b272-4b76-a802-4be530536a95\" target=\"_top\" title=\"psysml:09023520-b272-4b76-a802-4be530536a95\" xlink:actuate=\"onRequest\" xlink:href=\"psysml:09023520-b272-4b76-a802-4be530536a95\" xlink:show=\"new\" xlink:title=\"psysml:09023520-b272-4b76-a802-4be530536a95\" xlink:type=\"simple\"><rect fill=\"#FFFFFF\" height=\"45.9375\" id=\"E2\" rx=\"10\" ry=\"10\" style=\"stroke: #383838; stroke-width: 1.5;\" width=\"165\" x=\"32\" y=\"41\"/><text fill=\"#000000\" font-family=\"sans-serif\" font-size=\"12\" font-style=\"italic\" lengthAdjust=\"spacingAndGlyphs\" textLength=\"69\" x=\"80\" y=\"57.1387\">«attribute»</text><text fill=\"#000000\" font-family=\"sans-serif\" font-size=\"12\" lengthAdjust=\"spacingAndGlyphs\" textLength=\"159\" x=\"35\" y=\"71.1074\">b :&gt; ISQSpaceTime::width</text><line style=\"stroke: #383838; stroke-width: 1.5;\" x1=\"33\" x2=\"196\" y1=\"78.9375\" y2=\"78.9375\"/></a><!--MD5=[09b614a08d8cba4a07c9adeb5e0fee81]\n",
       "class E3--><a href=\"psysml:2d23ecbc-8f8b-40e5-8168-7a4eefd95afa\" target=\"_top\" title=\"psysml:2d23ecbc-8f8b-40e5-8168-7a4eefd95afa\" xlink:actuate=\"onRequest\" xlink:href=\"psysml:2d23ecbc-8f8b-40e5-8168-7a4eefd95afa\" xlink:show=\"new\" xlink:title=\"psysml:2d23ecbc-8f8b-40e5-8168-7a4eefd95afa\" xlink:type=\"simple\"><rect fill=\"#FFFFFF\" height=\"45.9375\" id=\"E3\" style=\"stroke: #383838; stroke-width: 1.5;\" width=\"70\" x=\"257\" y=\"63\"/><text fill=\"#000000\" font-family=\"sans-serif\" font-size=\"12\" font-style=\"italic\" lengthAdjust=\"spacingAndGlyphs\" textLength=\"68\" x=\"258\" y=\"79.1387\">«part  def»</text><text fill=\"#000000\" font-family=\"sans-serif\" font-size=\"12\" lengthAdjust=\"spacingAndGlyphs\" textLength=\"16\" x=\"284\" y=\"93.1074\">P1</text><line style=\"stroke: #383838; stroke-width: 1.5;\" x1=\"258\" x2=\"326\" y1=\"100.9375\" y2=\"100.9375\"/></a><!--MD5=[ebbe1d658d1005bcc118a6aa81145e00]\n",
       "class E4--><a href=\"psysml:371120a0-4800-4c08-b9c5-19a2f97c5f1a\" target=\"_top\" title=\"psysml:371120a0-4800-4c08-b9c5-19a2f97c5f1a\" xlink:actuate=\"onRequest\" xlink:href=\"psysml:371120a0-4800-4c08-b9c5-19a2f97c5f1a\" xlink:show=\"new\" xlink:title=\"psysml:371120a0-4800-4c08-b9c5-19a2f97c5f1a\" xlink:type=\"simple\"><rect fill=\"#FFFFFF\" height=\"45.9375\" id=\"E4\" rx=\"10\" ry=\"10\" style=\"stroke: #383838; stroke-width: 1.5;\" width=\"50\" x=\"387\" y=\"63\"/><text fill=\"#000000\" font-family=\"sans-serif\" font-size=\"12\" font-style=\"italic\" lengthAdjust=\"spacingAndGlyphs\" textLength=\"40\" x=\"392\" y=\"79.1387\">«port»</text><text fill=\"#000000\" font-family=\"sans-serif\" font-size=\"12\" lengthAdjust=\"spacingAndGlyphs\" textLength=\"40\" x=\"390\" y=\"93.1074\">porig1</text><line style=\"stroke: #383838; stroke-width: 1.5;\" x1=\"388\" x2=\"436\" y1=\"100.9375\" y2=\"100.9375\"/></a><!--MD5=[270fce915f116d4de14055a7c1d9a0f3]\n",
       "class E5--><a href=\"psysml:23efd2aa-8423-4d75-9f93-6567d973731c\" target=\"_top\" title=\"psysml:23efd2aa-8423-4d75-9f93-6567d973731c\" xlink:actuate=\"onRequest\" xlink:href=\"psysml:23efd2aa-8423-4d75-9f93-6567d973731c\" xlink:show=\"new\" xlink:title=\"psysml:23efd2aa-8423-4d75-9f93-6567d973731c\" xlink:type=\"simple\"><rect fill=\"#FFFFFF\" height=\"45.9375\" id=\"E5\" rx=\"10\" ry=\"10\" style=\"stroke: #383838; stroke-width: 1.5;\" width=\"50\" x=\"89.5\" y=\"122\"/><text fill=\"#000000\" font-family=\"sans-serif\" font-size=\"12\" font-style=\"italic\" lengthAdjust=\"spacingAndGlyphs\" textLength=\"40\" x=\"94.5\" y=\"138.1387\">«part»</text><text fill=\"#000000\" font-family=\"sans-serif\" font-size=\"12\" lengthAdjust=\"spacingAndGlyphs\" textLength=\"40\" x=\"92.5\" y=\"152.1074\">p1: P1</text><line style=\"stroke: #383838; stroke-width: 1.5;\" x1=\"90.5\" x2=\"138.5\" y1=\"159.9375\" y2=\"159.9375\"/></a><!--MD5=[60a26617385b1d2d0262a64233df1f8d]\n",
       "class E6--><a href=\"psysml:a6a8a5d4-8051-439c-be85-1eee73d04018\" target=\"_top\" title=\"psysml:a6a8a5d4-8051-439c-be85-1eee73d04018\" xlink:actuate=\"onRequest\" xlink:href=\"psysml:a6a8a5d4-8051-439c-be85-1eee73d04018\" xlink:show=\"new\" xlink:title=\"psysml:a6a8a5d4-8051-439c-be85-1eee73d04018\" xlink:type=\"simple\"><rect fill=\"#FFFFFF\" height=\"45.9375\" id=\"E6\" rx=\"10\" ry=\"10\" style=\"stroke: #383838; stroke-width: 1.5;\" width=\"42\" x=\"271\" y=\"144\"/><text fill=\"#000000\" font-family=\"sans-serif\" font-size=\"12\" font-style=\"italic\" lengthAdjust=\"spacingAndGlyphs\" textLength=\"40\" x=\"272\" y=\"160.1387\">«port»</text><text fill=\"#000000\" font-family=\"sans-serif\" font-size=\"12\" lengthAdjust=\"spacingAndGlyphs\" textLength=\"24\" x=\"278\" y=\"174.1074\">po1</text><line style=\"stroke: #383838; stroke-width: 1.5;\" x1=\"272\" x2=\"312\" y1=\"181.9375\" y2=\"181.9375\"/></a><!--MD5=[2156ba9850f5573cc1fc38a6a4b2f02b]\n",
       "class E7--><a href=\"psysml:32558afe-9574-460d-81c7-219976cfcf7f\" target=\"_top\" title=\"psysml:32558afe-9574-460d-81c7-219976cfcf7f\" xlink:actuate=\"onRequest\" xlink:href=\"psysml:32558afe-9574-460d-81c7-219976cfcf7f\" xlink:show=\"new\" xlink:title=\"psysml:32558afe-9574-460d-81c7-219976cfcf7f\" xlink:type=\"simple\"><rect fill=\"#FFFFFF\" height=\"45.9375\" id=\"E7\" rx=\"10\" ry=\"10\" style=\"stroke: #383838; stroke-width: 1.5;\" width=\"50\" x=\"89.5\" y=\"203\"/><text fill=\"#000000\" font-family=\"sans-serif\" font-size=\"12\" font-style=\"italic\" lengthAdjust=\"spacingAndGlyphs\" textLength=\"40\" x=\"94.5\" y=\"219.1387\">«part»</text><text fill=\"#000000\" font-family=\"sans-serif\" font-size=\"12\" lengthAdjust=\"spacingAndGlyphs\" textLength=\"40\" x=\"92.5\" y=\"233.1074\">p2: P1</text><line style=\"stroke: #383838; stroke-width: 1.5;\" x1=\"90.5\" x2=\"138.5\" y1=\"240.9375\" y2=\"240.9375\"/></a><!--MD5=[b9389687b975829384b498ac4b7476b2]\n",
       "class E8--><a href=\"psysml:9d4715a0-ecad-4cb9-af91-593b0378d847\" target=\"_top\" title=\"psysml:9d4715a0-ecad-4cb9-af91-593b0378d847\" xlink:actuate=\"onRequest\" xlink:href=\"psysml:9d4715a0-ecad-4cb9-af91-593b0378d847\" xlink:show=\"new\" xlink:title=\"psysml:9d4715a0-ecad-4cb9-af91-593b0378d847\" xlink:type=\"simple\"><rect fill=\"#FFFFFF\" height=\"45.9375\" id=\"E8\" rx=\"10\" ry=\"10\" style=\"stroke: #383838; stroke-width: 1.5;\" width=\"46\" x=\"389\" y=\"173\"/><text fill=\"#000000\" font-family=\"sans-serif\" font-size=\"12\" font-style=\"italic\" lengthAdjust=\"spacingAndGlyphs\" textLength=\"40\" x=\"392\" y=\"189.1387\">«port»</text><text fill=\"#000000\" font-family=\"sans-serif\" font-size=\"12\" lengthAdjust=\"spacingAndGlyphs\" textLength=\"36\" x=\"392\" y=\"203.1074\">pdest</text><line style=\"stroke: #383838; stroke-width: 1.5;\" x1=\"390\" x2=\"434\" y1=\"210.9375\" y2=\"210.9375\"/></a><!--MD5=[4672eba38e49728da53d11aeb285b987]\n",
       "reverse link E3 to E4--><a href=\"psysml:77da464e-a07c-41d7-bf00-c994457c7429\" target=\"_top\" title=\"psysml:77da464e-a07c-41d7-bf00-c994457c7429\" xlink:actuate=\"onRequest\" xlink:href=\"psysml:77da464e-a07c-41d7-bf00-c994457c7429\" xlink:show=\"new\" xlink:title=\"psysml:77da464e-a07c-41d7-bf00-c994457c7429\" xlink:type=\"simple\"><path d=\"M340.14,98.52 C356.09,99.15 373.25,98.49 386.68,96.54 \" fill=\"none\" id=\"E3&lt;-E4\" style=\"stroke: #383838; stroke-width: 1.0;\"/><polygon fill=\"#FFFFFF\" points=\"327.13,97.68,332.8628,102.0543,339.1056,98.445,333.3728,94.0706,327.13,97.68\" style=\"stroke: #383838; stroke-width: 1.0;\"/><text fill=\"#000000\" font-family=\"sans-serif\" font-size=\"13\" lengthAdjust=\"spacingAndGlyphs\" textLength=\"8\" x=\"371.1668\" y=\"113.2547\">1</text></a><!--MD5=[4672eba38e49728da53d11aeb285b987]\n",
       "reverse link E3 to E4--><a href=\"psysml:2fb80261-1acb-4246-9b34-6566336881f2\" target=\"_top\" title=\"psysml:2fb80261-1acb-4246-9b34-6566336881f2\" xlink:actuate=\"onRequest\" xlink:href=\"psysml:2fb80261-1acb-4246-9b34-6566336881f2\" xlink:show=\"new\" xlink:title=\"psysml:2fb80261-1acb-4246-9b34-6566336881f2\" xlink:type=\"simple\"><path d=\"M342.54,72.66 C357.8,72.15 373.92,72.88 386.68,74.84 \" fill=\"none\" id=\"E3&lt;-E4-1\" style=\"stroke: #383838; stroke-width: 1.0; stroke-dasharray: 7.0,7.0;\"/><ellipse cx=\"335.1142\" cy=\"73.1272\" fill=\"#FFFFFF\" rx=\"8\" ry=\"8\" style=\"stroke: #383838; stroke-width: 1.0;\"/><line style=\"stroke: #383838; stroke-width: 1.0;\" x1=\"343.0984\" x2=\"327.13\" y1=\"72.6244\" y2=\"73.63\"/><line style=\"stroke: #383838; stroke-width: 1.0;\" x1=\"335.617\" x2=\"334.6114\" y1=\"81.1114\" y2=\"65.143\"/><text fill=\"#000000\" font-family=\"sans-serif\" font-size=\"13\" lengthAdjust=\"spacingAndGlyphs\" textLength=\"8\" x=\"371.1668\" y=\"85.994\">1</text></a><!--MD5=[e9be52314489bd878ff4c7144b63c9e1]\n",
       "link E5 to E3--><a href=\"psysml:bae878c2-3025-4ed8-bae0-781c13e39aed\" target=\"_top\" title=\"psysml:bae878c2-3025-4ed8-bae0-781c13e39aed\" xlink:actuate=\"onRequest\" xlink:href=\"psysml:bae878c2-3025-4ed8-bae0-781c13e39aed\" xlink:show=\"new\" xlink:title=\"psysml:bae878c2-3025-4ed8-bae0-781c13e39aed\" xlink:type=\"simple\"><path d=\"M139.53,136.92 C164.65,128.48 204.86,114.96 237.54,103.97 \" fill=\"none\" id=\"E5-&gt;E3\" style=\"stroke: #383838; stroke-width: 1.0;\"/><polygon fill=\"#FFFFFF\" points=\"256.72,97.53,240.9401,110.2184,236.4799,96.9478,256.72,97.53\" style=\"stroke: #383838; stroke-width: 1.0;\"/><ellipse cx=\"234.8999\" cy=\"110.1385\" fill=\"#383838\" rx=\"2\" ry=\"2\" style=\"stroke: #383838; stroke-width: 1.0;\"/><ellipse cx=\"231.7141\" cy=\"100.6596\" fill=\"#383838\" rx=\"2\" ry=\"2\" style=\"stroke: #383838; stroke-width: 1.0;\"/></a><!--MD5=[85d356282659285ab4b2cfe2f634dd2b]\n",
       "reverse link E5 to E6--><a href=\"psysml:cd2d9195-2d40-49eb-a50a-4bb167712418\" target=\"_top\" title=\"psysml:cd2d9195-2d40-49eb-a50a-4bb167712418\" xlink:actuate=\"onRequest\" xlink:href=\"psysml:cd2d9195-2d40-49eb-a50a-4bb167712418\" xlink:show=\"new\" xlink:title=\"psysml:cd2d9195-2d40-49eb-a50a-4bb167712418\" xlink:type=\"simple\"><path d=\"M152.88,149.69 C188.91,154.2 242.06,160.86 270.79,164.47 \" fill=\"none\" id=\"E5&lt;-E6\" style=\"stroke: #383838; stroke-width: 1.0;\"/><polygon fill=\"#FFFFFF\" points=\"139.53,148.01,144.9862,152.7248,151.4369,149.5017,145.9807,144.7869,139.53,148.01\" style=\"stroke: #383838; stroke-width: 1.0;\"/><text fill=\"#000000\" font-family=\"sans-serif\" font-size=\"13\" lengthAdjust=\"spacingAndGlyphs\" textLength=\"8\" x=\"255.0694\" y=\"178.0889\">1</text></a><!--MD5=[f667431f98296947986a1a7595a31603]\n",
       "link E6 to E4--><a href=\"psysml:9b4aa44d-c7fb-440f-8f9d-ccf8058f014a\" target=\"_top\" title=\"psysml:9b4aa44d-c7fb-440f-8f9d-ccf8058f014a\" xlink:actuate=\"onRequest\" xlink:href=\"psysml:9b4aa44d-c7fb-440f-8f9d-ccf8058f014a\" xlink:show=\"new\" xlink:title=\"psysml:9b4aa44d-c7fb-440f-8f9d-ccf8058f014a\" xlink:type=\"simple\"><path d=\"M313.02,153.26 C328.62,142.55 350.82,127.31 370.14,114.05 \" fill=\"none\" id=\"E6-&gt;E4\" style=\"stroke: #383838; stroke-width: 1.0;\"/><polygon fill=\"#FFFFFF\" points=\"386.8,102.61,375.0955,119.1329,367.1735,107.5899,386.8,102.61\" style=\"stroke: #383838; stroke-width: 1.0;\"/><line style=\"stroke: #383838; stroke-width: 2.0;\" x1=\"371.9624\" x2=\"364.0404\" y1=\"121.2831\" y2=\"109.7401\"/></a><!--MD5=[14ccda38c055a5c0da953d572bc50960]\n",
       "link E7 to E3--><a href=\"psysml:22f6621f-c82b-45b4-aad5-95fd1a975c3d\" target=\"_top\" title=\"psysml:22f6621f-c82b-45b4-aad5-95fd1a975c3d\" xlink:actuate=\"onRequest\" xlink:href=\"psysml:22f6621f-c82b-45b4-aad5-95fd1a975c3d\" xlink:show=\"new\" xlink:title=\"psysml:22f6621f-c82b-45b4-aad5-95fd1a975c3d\" xlink:type=\"simple\"><path d=\"M139.57,216.52 C156.49,209.24 179.2,198.22 197,185 C209.97,175.37 235.79,147.92 257.09,124.36 \" fill=\"none\" id=\"E7-&gt;E3\" style=\"stroke: #383838; stroke-width: 1.0;\"/><polygon fill=\"#FFFFFF\" points=\"270.58,109.3,263.1197,128.124,252.6902,118.7845,270.58,109.3\" style=\"stroke: #383838; stroke-width: 1.0;\"/><ellipse cx=\"257.8272\" cy=\"131.0361\" fill=\"#383838\" rx=\"2\" ry=\"2\" style=\"stroke: #383838; stroke-width: 1.0;\"/><ellipse cx=\"250.3776\" cy=\"124.365\" fill=\"#383838\" rx=\"2\" ry=\"2\" style=\"stroke: #383838; stroke-width: 1.0;\"/></a><!--MD5=[dc164f5e8a733ab456ef1add180e9e34]\n",
       "reverse link E7 to E8--><a href=\"psysml:22337106-f0e5-4c32-83fd-01b8d559ead1\" target=\"_top\" title=\"psysml:22337106-f0e5-4c32-83fd-01b8d559ead1\" xlink:actuate=\"onRequest\" xlink:href=\"psysml:22337106-f0e5-4c32-83fd-01b8d559ead1\" xlink:show=\"new\" xlink:title=\"psysml:22337106-f0e5-4c32-83fd-01b8d559ead1\" xlink:type=\"simple\"><path d=\"M152.83,235.46 C195.12,236.72 266.09,230.72 327,224 C348.05,221.68 372,218.49 388.92,213.11 \" fill=\"none\" id=\"E7&lt;-E8\" style=\"stroke: #383838; stroke-width: 1.0;\"/><polygon fill=\"#FFFFFF\" points=\"139.64,234.74,145.4113,239.0635,151.6219,235.3991,145.8506,231.0756,139.64,234.74\" style=\"stroke: #383838; stroke-width: 1.0;\"/><text fill=\"#000000\" font-family=\"sans-serif\" font-size=\"13\" lengthAdjust=\"spacingAndGlyphs\" textLength=\"8\" x=\"372.9653\" y=\"232.4348\">1</text></a><!--MD5=[dc164f5e8a733ab456ef1add180e9e34]\n",
       "reverse link E7 to E8--><a href=\"psysml:3441a1bf-d119-4e2c-bd85-6011f03ceff2\" target=\"_top\" title=\"psysml:3441a1bf-d119-4e2c-bd85-6011f03ceff2\" xlink:actuate=\"onRequest\" xlink:href=\"psysml:3441a1bf-d119-4e2c-bd85-6011f03ceff2\" xlink:show=\"new\" xlink:title=\"psysml:3441a1bf-d119-4e2c-bd85-6011f03ceff2\" xlink:type=\"simple\"><path d=\"M154.5,209.71 C196.97,201.57 266.89,195.63 327,189 C348.05,186.68 372,183.49 388.92,184.34 \" fill=\"none\" id=\"E7&lt;-E8-1\" style=\"stroke: #383838; stroke-width: 1.0; stroke-dasharray: 7.0,7.0;\"/><ellipse cx=\"147.4575\" cy=\"211.2509\" fill=\"#FFFFFF\" rx=\"8\" ry=\"8\" style=\"stroke: #383838; stroke-width: 1.0;\"/><line style=\"stroke: #383838; stroke-width: 1.0;\" x1=\"155.275\" x2=\"139.64\" y1=\"209.5518\" y2=\"212.95\"/><line style=\"stroke: #383838; stroke-width: 1.0;\" x1=\"149.1566\" x2=\"145.7584\" y1=\"219.0684\" y2=\"203.4334\"/><text fill=\"#000000\" font-family=\"sans-serif\" font-size=\"13\" lengthAdjust=\"spacingAndGlyphs\" textLength=\"8\" x=\"372.9653\" y=\"175.8073\">1</text></a><!--MD5=[0a839d0f80c2d72d4b9b307f046d0de8]\n",
       "link E6 to E8--><a href=\"psysml:e347aa3d-31a4-4502-9422-b0b7e8733c17\" target=\"_top\" title=\"psysml:e347aa3d-31a4-4502-9422-b0b7e8733c17\" xlink:actuate=\"onRequest\" xlink:href=\"psysml:e347aa3d-31a4-4502-9422-b0b7e8733c17\" xlink:show=\"new\" xlink:title=\"psysml:e347aa3d-31a4-4502-9422-b0b7e8733c17\" xlink:type=\"simple\"><path d=\"M313.02,181.77 C334.06,190.68 367.07,198.92 388.87,200.77 \" fill=\"none\" id=\"E6-E8\" style=\"stroke: #383838; stroke-width: 3.0;\"/><text fill=\"#000000\" font-family=\"sans-serif\" font-size=\"13\" lengthAdjust=\"spacingAndGlyphs\" textLength=\"7\" x=\"374.0474\" y=\"216.4699\">*</text></a><!--MD5=[0a839d0f80c2d72d4b9b307f046d0de8]\n",
       "link E6 to E8--><a href=\"psysml:6852a8da-427c-4993-bbf6-22174e5f8d33\" target=\"_top\" title=\"psysml:6852a8da-427c-4993-bbf6-22174e5f8d33\" xlink:actuate=\"onRequest\" xlink:href=\"psysml:6852a8da-427c-4993-bbf6-22174e5f8d33\" xlink:show=\"new\" xlink:title=\"psysml:6852a8da-427c-4993-bbf6-22174e5f8d33\" xlink:type=\"simple\"><path d=\"M313.02,161.49 C334.06,162.7 367.07,170.69 388.87,179.75 \" fill=\"none\" id=\"E6-E8-1\" style=\"stroke: #383838; stroke-width: 3.0;\"/><text fill=\"#000000\" font-family=\"sans-serif\" font-size=\"13\" lengthAdjust=\"spacingAndGlyphs\" textLength=\"7\" x=\"374.0474\" y=\"189.2753\">*</text></a><!--MD5=[758751d4a1d06560bf04ff0b33140c4f]\n",
       "@startuml\r\n",
       "left to right direction\r\n",
       "skinparam monochrome true\r\n",
       "skinparam classbackgroundcolor white\r\n",
       "skinparam shadowing false\r\n",
       "skinparam wrapWidth 300\r\n",
       "hide circle\r\n",
       "\r\n",
       "package \"AliasTest\" as E1  [[psysml:5020e8e8-e597-4a8a-8c84-9076441471bb ]]  {\r\n",
       "comp usage \"b :> ISQSpaceTime::width\" as E2  <<(T,blue) attribute>> [[psysml:09023520-b272-4b76-a802-4be530536a95 ]] {\r\n",
       "}\r\n",
       "comp def \"P1\" as E3  <<(T,blue) part  def>> [[psysml:2d23ecbc-8f8b-40e5-8168-7a4eefd95afa ]] {\r\n",
       "}\r\n",
       "comp usage \"porig1 \" as E4  <<(T,blue) port>> [[psysml:371120a0-4800-4c08-b9c5-19a2f97c5f1a ]] {\r\n",
       "}\r\n",
       "comp usage \"p1: P1 \" as E5  <<(T,blue) part>> [[psysml:23efd2aa-8423-4d75-9f93-6567d973731c ]] {\r\n",
       "}\r\n",
       "comp usage \"po1 \" as E6  <<(T,blue) port>> [[psysml:a6a8a5d4-8051-439c-be85-1eee73d04018 ]] {\r\n",
       "}\r\n",
       "comp usage \"p2: P1 \" as E7  <<(T,blue) part>> [[psysml:32558afe-9574-460d-81c7-219976cfcf7f ]] {\r\n",
       "}\r\n",
       "comp usage \"pdest \" as E8  <<(T,blue) port>> [[psysml:9d4715a0-ecad-4cb9-af91-593b0378d847 ]] {\r\n",
       "}\r\n",
       "}\r\n",
       "E3 o- - \"1\"E4 [[psysml:77da464e-a07c-41d7-bf00-c994457c7429 ]] \r\n",
       "E3 +.. \"1\"E4 [[psysml:2fb80261-1acb-4246-9b34-6566336881f2 ]] \r\n",
       "E5 - -:|> E3 [[psysml:bae878c2-3025-4ed8-bae0-781c13e39aed ]] \r\n",
       "E5 o- - \"1\"E6 [[psysml:cd2d9195-2d40-49eb-a50a-4bb167712418 ]] \r\n",
       "E6 - -||> E4 [[psysml:9b4aa44d-c7fb-440f-8f9d-ccf8058f014a ]] \r\n",
       "E7 - -:|> E3 [[psysml:22f6621f-c82b-45b4-aad5-95fd1a975c3d ]] \r\n",
       "E7 o- - \"1\"E8 [[psysml:22337106-f0e5-4c32-83fd-01b8d559ead1 ]] \r\n",
       "E7 +.. \"1\"E8 [[psysml:3441a1bf-d119-4e2c-bd85-6011f03ceff2 ]] \r\n",
       "E6 -[thickness=3]- \"*\"E8 [[psysml:e347aa3d-31a4-4502-9422-b0b7e8733c17 ]] \r\n",
       "E6 -[thickness=3]- \"*\"E8 [[psysml:6852a8da-427c-4993-bbf6-22174e5f8d33 ]] \r\n",
       "@enduml\r\n",
       "\n",
       "PlantUML version 1.2020.13(Sat Jun 13 12:26:38 UTC 2020)\n",
       "(EPL source distribution)\n",
       "Java Runtime: OpenJDK Runtime Environment\n",
       "JVM: OpenJDK 64-Bit Server VM\n",
       "Default Encoding: UTF-8\n",
       "Language: en\n",
       "Country: null\n",
       "--></g></svg>"
      ]
     },
     "execution_count": 22,
     "metadata": {},
     "output_type": "execute_result"
    }
   ],
   "source": [
    "%viz --style=\"LR\" --view=\"MIXED\" \"AliasTest\""
   ]
  },
  {
   "cell_type": "code",
   "execution_count": 23,
   "id": "ab6efc31",
   "metadata": {
    "execution": {
     "iopub.execute_input": "2022-04-22T09:51:32.337400Z",
     "iopub.status.busy": "2022-04-22T09:51:32.337059Z",
     "iopub.status.idle": "2022-04-22T09:51:32.377487Z",
     "shell.execute_reply": "2022-04-22T09:51:32.377194Z"
    }
   },
   "outputs": [
    {
     "data": {
      "image/svg+xml": [
       "<?xml version=\"1.0\" encoding=\"UTF-8\" standalone=\"no\"?><svg xmlns=\"http://www.w3.org/2000/svg\" xmlns:xlink=\"http://www.w3.org/1999/xlink\" contentScriptType=\"application/ecmascript\" contentStyleType=\"text/css\" height=\"327px\" preserveAspectRatio=\"none\" style=\"width:406px;height:327px;\" version=\"1.1\" viewBox=\"0 0 406 327\" width=\"406px\" zoomAndPan=\"magnify\"><defs><filter height=\"300%\" id=\"fzjgavssbipxs\" width=\"300%\" x=\"-1\" y=\"-1\"><feGaussianBlur result=\"blurOut\" stdDeviation=\"2.0\"/><feColorMatrix in=\"blurOut\" result=\"blurOut2\" type=\"matrix\" values=\"0 0 0 0 0 0 0 0 0 0 0 0 0 0 0 0 0 0 .4 0\"/><feOffset dx=\"4.0\" dy=\"4.0\" in=\"blurOut2\" result=\"blurOut3\"/><feBlend in=\"SourceGraphic\" in2=\"blurOut3\" mode=\"normal\"/></filter></defs><g><!--MD5=[fbc87193dbaf4d95561dea2c320d4a47]\n",
       "cluster E1--><a href=\"psysml:5020e8e8-e597-4a8a-8c84-9076441471bb\" target=\"_top\" title=\"psysml:5020e8e8-e597-4a8a-8c84-9076441471bb\" xlink:actuate=\"onRequest\" xlink:href=\"psysml:5020e8e8-e597-4a8a-8c84-9076441471bb\" xlink:show=\"new\" xlink:title=\"psysml:5020e8e8-e597-4a8a-8c84-9076441471bb\" xlink:type=\"simple\"><polygon fill=\"#FFFFFF\" filter=\"url(#fzjgavssbipxs)\" points=\"16,6,84,6,91,28.2969,384,28.2969,384,315,16,315,16,6\" style=\"stroke: #000000; stroke-width: 1.5;\"/><line style=\"stroke: #000000; stroke-width: 1.5;\" x1=\"16\" x2=\"91\" y1=\"28.2969\" y2=\"28.2969\"/><text fill=\"#000000\" font-family=\"sans-serif\" font-size=\"14\" font-weight=\"bold\" lengthAdjust=\"spacingAndGlyphs\" textLength=\"62\" x=\"20\" y=\"20.9951\">AliasTest</text></a><!--MD5=[b4997ac47864f28c2f74865a473b2911]\n",
       "class E2--><a href=\"psysml:09023520-b272-4b76-a802-4be530536a95\" target=\"_top\" title=\"psysml:09023520-b272-4b76-a802-4be530536a95\" xlink:actuate=\"onRequest\" xlink:href=\"psysml:09023520-b272-4b76-a802-4be530536a95\" xlink:show=\"new\" xlink:title=\"psysml:09023520-b272-4b76-a802-4be530536a95\" xlink:type=\"simple\"><rect fill=\"#FEFECE\" filter=\"url(#fzjgavssbipxs)\" height=\"45.9375\" id=\"E2\" rx=\"10\" ry=\"10\" style=\"stroke: #A80036; stroke-width: 1.5;\" width=\"165\" x=\"202.5\" y=\"41\"/><text fill=\"#000000\" font-family=\"sans-serif\" font-size=\"12\" font-style=\"italic\" lengthAdjust=\"spacingAndGlyphs\" textLength=\"69\" x=\"250.5\" y=\"57.1387\">«attribute»</text><text fill=\"#000000\" font-family=\"sans-serif\" font-size=\"12\" lengthAdjust=\"spacingAndGlyphs\" textLength=\"159\" x=\"205.5\" y=\"71.1074\">b :&gt; ISQSpaceTime::width</text><line style=\"stroke: #A80036; stroke-width: 1.5;\" x1=\"203.5\" x2=\"366.5\" y1=\"78.9375\" y2=\"78.9375\"/></a><!--MD5=[09b614a08d8cba4a07c9adeb5e0fee81]\n",
       "class E3--><a href=\"psysml:2d23ecbc-8f8b-40e5-8168-7a4eefd95afa\" target=\"_top\" title=\"psysml:2d23ecbc-8f8b-40e5-8168-7a4eefd95afa\" xlink:actuate=\"onRequest\" xlink:href=\"psysml:2d23ecbc-8f8b-40e5-8168-7a4eefd95afa\" xlink:show=\"new\" xlink:title=\"psysml:2d23ecbc-8f8b-40e5-8168-7a4eefd95afa\" xlink:type=\"simple\"><rect fill=\"#FEFECE\" filter=\"url(#fzjgavssbipxs)\" height=\"45.9375\" id=\"E3\" style=\"stroke: #A80036; stroke-width: 1.5;\" width=\"70\" x=\"170\" y=\"147\"/><text fill=\"#000000\" font-family=\"sans-serif\" font-size=\"12\" font-style=\"italic\" lengthAdjust=\"spacingAndGlyphs\" textLength=\"68\" x=\"171\" y=\"163.1387\">«part  def»</text><text fill=\"#000000\" font-family=\"sans-serif\" font-size=\"12\" lengthAdjust=\"spacingAndGlyphs\" textLength=\"16\" x=\"197\" y=\"177.1074\">P1</text><line style=\"stroke: #A80036; stroke-width: 1.5;\" x1=\"171\" x2=\"239\" y1=\"184.9375\" y2=\"184.9375\"/></a><!--MD5=[ebbe1d658d1005bcc118a6aa81145e00]\n",
       "class E4--><a href=\"psysml:371120a0-4800-4c08-b9c5-19a2f97c5f1a\" target=\"_top\" title=\"psysml:371120a0-4800-4c08-b9c5-19a2f97c5f1a\" xlink:actuate=\"onRequest\" xlink:href=\"psysml:371120a0-4800-4c08-b9c5-19a2f97c5f1a\" xlink:show=\"new\" xlink:title=\"psysml:371120a0-4800-4c08-b9c5-19a2f97c5f1a\" xlink:type=\"simple\"><rect fill=\"#FEFECE\" filter=\"url(#fzjgavssbipxs)\" height=\"45.9375\" id=\"E4\" rx=\"10\" ry=\"10\" style=\"stroke: #A80036; stroke-width: 1.5;\" width=\"50\" x=\"180\" y=\"253\"/><text fill=\"#000000\" font-family=\"sans-serif\" font-size=\"12\" font-style=\"italic\" lengthAdjust=\"spacingAndGlyphs\" textLength=\"40\" x=\"185\" y=\"269.1387\">«port»</text><text fill=\"#000000\" font-family=\"sans-serif\" font-size=\"12\" lengthAdjust=\"spacingAndGlyphs\" textLength=\"40\" x=\"183\" y=\"283.1074\">porig1</text><line style=\"stroke: #A80036; stroke-width: 1.5;\" x1=\"181\" x2=\"229\" y1=\"290.9375\" y2=\"290.9375\"/></a><!--MD5=[270fce915f116d4de14055a7c1d9a0f3]\n",
       "class E5--><a href=\"psysml:23efd2aa-8423-4d75-9f93-6567d973731c\" target=\"_top\" title=\"psysml:23efd2aa-8423-4d75-9f93-6567d973731c\" xlink:actuate=\"onRequest\" xlink:href=\"psysml:23efd2aa-8423-4d75-9f93-6567d973731c\" xlink:show=\"new\" xlink:title=\"psysml:23efd2aa-8423-4d75-9f93-6567d973731c\" xlink:type=\"simple\"><rect fill=\"#FEFECE\" filter=\"url(#fzjgavssbipxs)\" height=\"45.9375\" id=\"E5\" rx=\"10\" ry=\"10\" style=\"stroke: #A80036; stroke-width: 1.5;\" width=\"50\" x=\"117\" y=\"41\"/><text fill=\"#000000\" font-family=\"sans-serif\" font-size=\"12\" font-style=\"italic\" lengthAdjust=\"spacingAndGlyphs\" textLength=\"40\" x=\"122\" y=\"57.1387\">«part»</text><text fill=\"#000000\" font-family=\"sans-serif\" font-size=\"12\" lengthAdjust=\"spacingAndGlyphs\" textLength=\"40\" x=\"120\" y=\"71.1074\">p1: P1</text><line style=\"stroke: #A80036; stroke-width: 1.5;\" x1=\"118\" x2=\"166\" y1=\"78.9375\" y2=\"78.9375\"/></a><!--MD5=[60a26617385b1d2d0262a64233df1f8d]\n",
       "class E6--><a href=\"psysml:a6a8a5d4-8051-439c-be85-1eee73d04018\" target=\"_top\" title=\"psysml:a6a8a5d4-8051-439c-be85-1eee73d04018\" xlink:actuate=\"onRequest\" xlink:href=\"psysml:a6a8a5d4-8051-439c-be85-1eee73d04018\" xlink:show=\"new\" xlink:title=\"psysml:a6a8a5d4-8051-439c-be85-1eee73d04018\" xlink:type=\"simple\"><rect fill=\"#FEFECE\" filter=\"url(#fzjgavssbipxs)\" height=\"45.9375\" id=\"E6\" rx=\"10\" ry=\"10\" style=\"stroke: #A80036; stroke-width: 1.5;\" width=\"42\" x=\"93\" y=\"147\"/><text fill=\"#000000\" font-family=\"sans-serif\" font-size=\"12\" font-style=\"italic\" lengthAdjust=\"spacingAndGlyphs\" textLength=\"40\" x=\"94\" y=\"163.1387\">«port»</text><text fill=\"#000000\" font-family=\"sans-serif\" font-size=\"12\" lengthAdjust=\"spacingAndGlyphs\" textLength=\"24\" x=\"100\" y=\"177.1074\">po1</text><line style=\"stroke: #A80036; stroke-width: 1.5;\" x1=\"94\" x2=\"134\" y1=\"184.9375\" y2=\"184.9375\"/></a><!--MD5=[2156ba9850f5573cc1fc38a6a4b2f02b]\n",
       "class E7--><a href=\"psysml:32558afe-9574-460d-81c7-219976cfcf7f\" target=\"_top\" title=\"psysml:32558afe-9574-460d-81c7-219976cfcf7f\" xlink:actuate=\"onRequest\" xlink:href=\"psysml:32558afe-9574-460d-81c7-219976cfcf7f\" xlink:show=\"new\" xlink:title=\"psysml:32558afe-9574-460d-81c7-219976cfcf7f\" xlink:type=\"simple\"><rect fill=\"#FEFECE\" filter=\"url(#fzjgavssbipxs)\" height=\"45.9375\" id=\"E7\" rx=\"10\" ry=\"10\" style=\"stroke: #A80036; stroke-width: 1.5;\" width=\"50\" x=\"32\" y=\"41\"/><text fill=\"#000000\" font-family=\"sans-serif\" font-size=\"12\" font-style=\"italic\" lengthAdjust=\"spacingAndGlyphs\" textLength=\"40\" x=\"37\" y=\"57.1387\">«part»</text><text fill=\"#000000\" font-family=\"sans-serif\" font-size=\"12\" lengthAdjust=\"spacingAndGlyphs\" textLength=\"40\" x=\"35\" y=\"71.1074\">p2: P1</text><line style=\"stroke: #A80036; stroke-width: 1.5;\" x1=\"33\" x2=\"81\" y1=\"78.9375\" y2=\"78.9375\"/></a><!--MD5=[b9389687b975829384b498ac4b7476b2]\n",
       "class E8--><a href=\"psysml:9d4715a0-ecad-4cb9-af91-593b0378d847\" target=\"_top\" title=\"psysml:9d4715a0-ecad-4cb9-af91-593b0378d847\" xlink:actuate=\"onRequest\" xlink:href=\"psysml:9d4715a0-ecad-4cb9-af91-593b0378d847\" xlink:show=\"new\" xlink:title=\"psysml:9d4715a0-ecad-4cb9-af91-593b0378d847\" xlink:type=\"simple\"><rect fill=\"#FEFECE\" filter=\"url(#fzjgavssbipxs)\" height=\"45.9375\" id=\"E8\" rx=\"10\" ry=\"10\" style=\"stroke: #A80036; stroke-width: 1.5;\" width=\"46\" x=\"63\" y=\"253\"/><text fill=\"#000000\" font-family=\"sans-serif\" font-size=\"12\" font-style=\"italic\" lengthAdjust=\"spacingAndGlyphs\" textLength=\"40\" x=\"66\" y=\"269.1387\">«port»</text><text fill=\"#000000\" font-family=\"sans-serif\" font-size=\"12\" lengthAdjust=\"spacingAndGlyphs\" textLength=\"36\" x=\"66\" y=\"283.1074\">pdest</text><line style=\"stroke: #A80036; stroke-width: 1.5;\" x1=\"64\" x2=\"108\" y1=\"290.9375\" y2=\"290.9375\"/></a><!--MD5=[4672eba38e49728da53d11aeb285b987]\n",
       "reverse link E3 to E4--><a href=\"psysml:77da464e-a07c-41d7-bf00-c994457c7429\" target=\"_top\" title=\"psysml:77da464e-a07c-41d7-bf00-c994457c7429\" xlink:actuate=\"onRequest\" xlink:href=\"psysml:77da464e-a07c-41d7-bf00-c994457c7429\" xlink:show=\"new\" xlink:title=\"psysml:77da464e-a07c-41d7-bf00-c994457c7429\" xlink:type=\"simple\"><path d=\"M192.84,206.44 C191.7,221.87 192.21,239.47 194.36,252.98 \" fill=\"none\" id=\"E3&lt;-E4\" style=\"stroke: #A80036; stroke-width: 1.0;\"/><polygon fill=\"#FFFFFF\" points=\"194.35,193.06,189.7032,198.5743,193.006,204.9845,197.6528,199.4702,194.35,193.06\" style=\"stroke: #A80036; stroke-width: 1.0;\"/><text fill=\"#000000\" font-family=\"sans-serif\" font-size=\"13\" lengthAdjust=\"spacingAndGlyphs\" textLength=\"8\" x=\"182.4255\" y=\"241.8709\">1</text></a><!--MD5=[4672eba38e49728da53d11aeb285b987]\n",
       "reverse link E3 to E4--><a href=\"psysml:2fb80261-1acb-4246-9b34-6566336881f2\" target=\"_top\" title=\"psysml:2fb80261-1acb-4246-9b34-6566336881f2\" xlink:actuate=\"onRequest\" xlink:href=\"psysml:2fb80261-1acb-4246-9b34-6566336881f2\" xlink:show=\"new\" xlink:title=\"psysml:2fb80261-1acb-4246-9b34-6566336881f2\" xlink:type=\"simple\"><path d=\"M218.01,208.34 C219.03,223.3 218.45,240.02 216.27,252.98 \" fill=\"none\" id=\"E3&lt;-E4-1\" style=\"stroke: #A80036; stroke-width: 1.0; stroke-dasharray: 7.0,7.0;\"/><ellipse cx=\"217.1693\" cy=\"201.0093\" fill=\"#FFFFFF\" rx=\"8\" ry=\"8\" style=\"stroke: #A80036; stroke-width: 1.0;\"/><line style=\"stroke: #A80036; stroke-width: 1.0;\" x1=\"218.0687\" x2=\"216.27\" y1=\"208.9586\" y2=\"193.06\"/><line style=\"stroke: #A80036; stroke-width: 1.0;\" x1=\"209.2201\" x2=\"225.1186\" y1=\"201.9086\" y2=\"200.1099\"/><text fill=\"#000000\" font-family=\"sans-serif\" font-size=\"13\" lengthAdjust=\"spacingAndGlyphs\" textLength=\"8\" x=\"210.2238\" y=\"241.8709\">1</text></a><!--MD5=[e9be52314489bd878ff4c7144b63c9e1]\n",
       "link E5 to E3--><a href=\"psysml:bae878c2-3025-4ed8-bae0-781c13e39aed\" target=\"_top\" title=\"psysml:bae878c2-3025-4ed8-bae0-781c13e39aed\" xlink:actuate=\"onRequest\" xlink:href=\"psysml:bae878c2-3025-4ed8-bae0-781c13e39aed\" xlink:show=\"new\" xlink:title=\"psysml:bae878c2-3025-4ed8-bae0-781c13e39aed\" xlink:type=\"simple\"><path d=\"M155.36,87.06 C162.88,99.47 172.49,115.33 181.24,129.78 \" fill=\"none\" id=\"E5-&gt;E3\" style=\"stroke: #A80036; stroke-width: 1.0;\"/><polygon fill=\"#FFFFFF\" points=\"191.66,146.98,175.8217,134.3646,187.792,127.1044,191.66,146.98\" style=\"stroke: #A80036; stroke-width: 1.0;\"/><ellipse cx=\"174.5758\" cy=\"128.4538\" fill=\"#A80036\" rx=\"2\" ry=\"2\" style=\"stroke: #A80036; stroke-width: 1.0;\"/><ellipse cx=\"183.126\" cy=\"123.2679\" fill=\"#A80036\" rx=\"2\" ry=\"2\" style=\"stroke: #A80036; stroke-width: 1.0;\"/></a><!--MD5=[85d356282659285ab4b2cfe2f634dd2b]\n",
       "reverse link E5 to E6--><a href=\"psysml:cd2d9195-2d40-49eb-a50a-4bb167712418\" target=\"_top\" title=\"psysml:cd2d9195-2d40-49eb-a50a-4bb167712418\" xlink:actuate=\"onRequest\" xlink:href=\"psysml:cd2d9195-2d40-49eb-a50a-4bb167712418\" xlink:show=\"new\" xlink:title=\"psysml:cd2d9195-2d40-49eb-a50a-4bb167712418\" xlink:type=\"simple\"><path d=\"M132.59,99.96 C128.4,115.51 123.6,133.33 119.93,146.98 \" fill=\"none\" id=\"E5&lt;-E6\" style=\"stroke: #A80036; stroke-width: 1.0;\"/><polygon fill=\"#FFFFFF\" points=\"136.06,87.06,130.641,91.8176,132.9484,98.6496,138.3674,93.892,136.06,87.06\" style=\"stroke: #A80036; stroke-width: 1.0;\"/><text fill=\"#000000\" font-family=\"sans-serif\" font-size=\"13\" lengthAdjust=\"spacingAndGlyphs\" textLength=\"8\" x=\"112.4487\" y=\"135.8709\">1</text></a><!--MD5=[f667431f98296947986a1a7595a31603]\n",
       "link E6 to E4--><a href=\"psysml:9b4aa44d-c7fb-440f-8f9d-ccf8058f014a\" target=\"_top\" title=\"psysml:9b4aa44d-c7fb-440f-8f9d-ccf8058f014a\" xlink:actuate=\"onRequest\" xlink:href=\"psysml:9b4aa44d-c7fb-440f-8f9d-ccf8058f014a\" xlink:show=\"new\" xlink:title=\"psysml:9b4aa44d-c7fb-440f-8f9d-ccf8058f014a\" xlink:type=\"simple\"><path d=\"M133.3,193.06 C144.64,206.02 159.28,222.74 172.36,237.7 \" fill=\"none\" id=\"E6-&gt;E4\" style=\"stroke: #A80036; stroke-width: 1.0;\"/><polygon fill=\"#FFFFFF\" points=\"185.73,252.98,167.9517,243.2882,178.489,234.0705,185.73,252.98\" style=\"stroke: #A80036; stroke-width: 1.0;\"/><line style=\"stroke: #A80036; stroke-width: 2.0;\" x1=\"165.4497\" x2=\"175.9871\" y1=\"240.4281\" y2=\"231.2104\"/></a><!--MD5=[14ccda38c055a5c0da953d572bc50960]\n",
       "link E7 to E3--><a href=\"psysml:22f6621f-c82b-45b4-aad5-95fd1a975c3d\" target=\"_top\" title=\"psysml:22f6621f-c82b-45b4-aad5-95fd1a975c3d\" xlink:actuate=\"onRequest\" xlink:href=\"psysml:22f6621f-c82b-45b4-aad5-95fd1a975c3d\" xlink:show=\"new\" xlink:title=\"psysml:22f6621f-c82b-45b4-aad5-95fd1a975c3d\" xlink:type=\"simple\"><path d=\"M82.11,82.64 C102.61,97.05 132.18,117.83 157.18,135.39 \" fill=\"none\" id=\"E7-&gt;E3\" style=\"stroke: #A80036; stroke-width: 1.0;\"/><polygon fill=\"#FFFFFF\" points=\"173.58,146.92,154.011,141.7187,162.0629,130.266,173.58,146.92\" style=\"stroke: #A80036; stroke-width: 1.0;\"/><ellipse cx=\"150.4983\" cy=\"136.8043\" fill=\"#A80036\" rx=\"2\" ry=\"2\" style=\"stroke: #A80036; stroke-width: 1.0;\"/><ellipse cx=\"156.2497\" cy=\"128.6238\" fill=\"#A80036\" rx=\"2\" ry=\"2\" style=\"stroke: #A80036; stroke-width: 1.0;\"/></a><!--MD5=[dc164f5e8a733ab456ef1add180e9e34]\n",
       "reverse link E7 to E8--><a href=\"psysml:22337106-f0e5-4c32-83fd-01b8d559ead1\" target=\"_top\" title=\"psysml:22337106-f0e5-4c32-83fd-01b8d559ead1\" xlink:actuate=\"onRequest\" xlink:href=\"psysml:22337106-f0e5-4c32-83fd-01b8d559ead1\" xlink:show=\"new\" xlink:title=\"psysml:22337106-f0e5-4c32-83fd-01b8d559ead1\" xlink:type=\"simple\"><path d=\"M52.05,100.09 C53.65,143.61 64.25,216.5 74.75,252.9 \" fill=\"none\" id=\"E7&lt;-E8\" style=\"stroke: #A80036; stroke-width: 1.0;\"/><polygon fill=\"#FFFFFF\" points=\"51.85,87.08,47.9362,93.1366,52.0216,99.0788,55.9354,93.0222,51.85,87.08\" style=\"stroke: #A80036; stroke-width: 1.0;\"/><text fill=\"#000000\" font-family=\"sans-serif\" font-size=\"13\" lengthAdjust=\"spacingAndGlyphs\" textLength=\"8\" x=\"62.6516\" y=\"241.7694\">1</text></a><!--MD5=[dc164f5e8a733ab456ef1add180e9e34]\n",
       "reverse link E7 to E8--><a href=\"psysml:3441a1bf-d119-4e2c-bd85-6011f03ceff2\" target=\"_top\" title=\"psysml:3441a1bf-d119-4e2c-bd85-6011f03ceff2\" xlink:actuate=\"onRequest\" xlink:href=\"psysml:3441a1bf-d119-4e2c-bd85-6011f03ceff2\" xlink:show=\"new\" xlink:title=\"psysml:3441a1bf-d119-4e2c-bd85-6011f03ceff2\" xlink:type=\"simple\"><path d=\"M72.64,101.8 C83.15,145.5 92.39,216.97 91.63,252.9 \" fill=\"none\" id=\"E7&lt;-E8-1\" style=\"stroke: #A80036; stroke-width: 1.0; stroke-dasharray: 7.0,7.0;\"/><ellipse cx=\"70.7794\" cy=\"94.813\" fill=\"#FFFFFF\" rx=\"8\" ry=\"8\" style=\"stroke: #A80036; stroke-width: 1.0;\"/><line style=\"stroke: #A80036; stroke-width: 1.0;\" x1=\"72.8289\" x2=\"68.73\" y1=\"102.5461\" y2=\"87.08\"/><line style=\"stroke: #A80036; stroke-width: 1.0;\" x1=\"63.0464\" x2=\"78.5125\" y1=\"96.8625\" y2=\"92.7636\"/><text fill=\"#000000\" font-family=\"sans-serif\" font-size=\"13\" lengthAdjust=\"spacingAndGlyphs\" textLength=\"8\" x=\"94.2181\" y=\"241.7694\">1</text></a><!--MD5=[0a839d0f80c2d72d4b9b307f046d0de8]\n",
       "link E6 to E8--><a href=\"psysml:e347aa3d-31a4-4502-9422-b0b7e8733c17\" target=\"_top\" title=\"psysml:e347aa3d-31a4-4502-9422-b0b7e8733c17\" xlink:actuate=\"onRequest\" xlink:href=\"psysml:e347aa3d-31a4-4502-9422-b0b7e8733c17\" xlink:show=\"new\" xlink:title=\"psysml:e347aa3d-31a4-4502-9422-b0b7e8733c17\" xlink:type=\"simple\"><path d=\"M97.42,193.06 C89.86,210.7 83.23,235.34 81.29,252.98 \" fill=\"none\" id=\"E6-E8\" style=\"stroke: #A80036; stroke-width: 3.0;\"/><text fill=\"#000000\" font-family=\"sans-serif\" font-size=\"13\" lengthAdjust=\"spacingAndGlyphs\" textLength=\"7\" x=\"80.9648\" y=\"241.8709\">*</text></a><!--MD5=[0a839d0f80c2d72d4b9b307f046d0de8]\n",
       "link E6 to E8--><a href=\"psysml:6852a8da-427c-4993-bbf6-22174e5f8d33\" target=\"_top\" title=\"psysml:6852a8da-427c-4993-bbf6-22174e5f8d33\" xlink:actuate=\"onRequest\" xlink:href=\"psysml:6852a8da-427c-4993-bbf6-22174e5f8d33\" xlink:show=\"new\" xlink:title=\"psysml:6852a8da-427c-4993-bbf6-22174e5f8d33\" xlink:type=\"simple\"><path d=\"M119.33,193.06 C117.55,210.7 110.92,235.34 103.2,252.98 \" fill=\"none\" id=\"E6-E8-1\" style=\"stroke: #A80036; stroke-width: 3.0;\"/><text fill=\"#000000\" font-family=\"sans-serif\" font-size=\"13\" lengthAdjust=\"spacingAndGlyphs\" textLength=\"7\" x=\"99.8819\" y=\"241.8709\">*</text></a><!--MD5=[152ea7540d3e3945184c2bf05861bc11]\n",
       "@startuml\r\n",
       "skinparam wrapWidth 300\r\n",
       "hide circle\r\n",
       "\r\n",
       "package \"AliasTest\" as E1  [[psysml:5020e8e8-e597-4a8a-8c84-9076441471bb ]]  {\r\n",
       "comp usage \"b :> ISQSpaceTime::width\" as E2  <<(T,blue) attribute>> [[psysml:09023520-b272-4b76-a802-4be530536a95 ]] {\r\n",
       "}\r\n",
       "comp def \"P1\" as E3  <<(T,blue) part  def>> [[psysml:2d23ecbc-8f8b-40e5-8168-7a4eefd95afa ]] {\r\n",
       "}\r\n",
       "comp usage \"porig1 \" as E4  <<(T,blue) port>> [[psysml:371120a0-4800-4c08-b9c5-19a2f97c5f1a ]] {\r\n",
       "}\r\n",
       "comp usage \"p1: P1 \" as E5  <<(T,blue) part>> [[psysml:23efd2aa-8423-4d75-9f93-6567d973731c ]] {\r\n",
       "}\r\n",
       "comp usage \"po1 \" as E6  <<(T,blue) port>> [[psysml:a6a8a5d4-8051-439c-be85-1eee73d04018 ]] {\r\n",
       "}\r\n",
       "comp usage \"p2: P1 \" as E7  <<(T,blue) part>> [[psysml:32558afe-9574-460d-81c7-219976cfcf7f ]] {\r\n",
       "}\r\n",
       "comp usage \"pdest \" as E8  <<(T,blue) port>> [[psysml:9d4715a0-ecad-4cb9-af91-593b0378d847 ]] {\r\n",
       "}\r\n",
       "}\r\n",
       "E3 o- - \"1\"E4 [[psysml:77da464e-a07c-41d7-bf00-c994457c7429 ]] \r\n",
       "E3 +.. \"1\"E4 [[psysml:2fb80261-1acb-4246-9b34-6566336881f2 ]] \r\n",
       "E5 - -:|> E3 [[psysml:bae878c2-3025-4ed8-bae0-781c13e39aed ]] \r\n",
       "E5 o- - \"1\"E6 [[psysml:cd2d9195-2d40-49eb-a50a-4bb167712418 ]] \r\n",
       "E6 - -||> E4 [[psysml:9b4aa44d-c7fb-440f-8f9d-ccf8058f014a ]] \r\n",
       "E7 - -:|> E3 [[psysml:22f6621f-c82b-45b4-aad5-95fd1a975c3d ]] \r\n",
       "E7 o- - \"1\"E8 [[psysml:22337106-f0e5-4c32-83fd-01b8d559ead1 ]] \r\n",
       "E7 +.. \"1\"E8 [[psysml:3441a1bf-d119-4e2c-bd85-6011f03ceff2 ]] \r\n",
       "E6 -[thickness=3]- \"*\"E8 [[psysml:e347aa3d-31a4-4502-9422-b0b7e8733c17 ]] \r\n",
       "E6 -[thickness=3]- \"*\"E8 [[psysml:6852a8da-427c-4993-bbf6-22174e5f8d33 ]] \r\n",
       "@enduml\r\n",
       "\n",
       "PlantUML version 1.2020.13(Sat Jun 13 12:26:38 UTC 2020)\n",
       "(EPL source distribution)\n",
       "Java Runtime: OpenJDK Runtime Environment\n",
       "JVM: OpenJDK 64-Bit Server VM\n",
       "Default Encoding: UTF-8\n",
       "Language: en\n",
       "Country: null\n",
       "--></g></svg>"
      ]
     },
     "execution_count": 23,
     "metadata": {},
     "output_type": "execute_result"
    }
   ],
   "source": [
    "%viz --style=\"STDCOLOR\" --view=\"Default\" \"AliasTest\""
   ]
  },
  {
   "cell_type": "code",
   "execution_count": 24,
   "id": "6ae8f8d4",
   "metadata": {
    "execution": {
     "iopub.execute_input": "2022-04-22T09:51:32.427201Z",
     "iopub.status.busy": "2022-04-22T09:51:32.426877Z",
     "iopub.status.idle": "2022-04-22T09:51:32.468847Z",
     "shell.execute_reply": "2022-04-22T09:51:32.468556Z"
    }
   },
   "outputs": [
    {
     "data": {
      "image/svg+xml": [
       "<?xml version=\"1.0\" encoding=\"UTF-8\" standalone=\"no\"?><svg xmlns=\"http://www.w3.org/2000/svg\" xmlns:xlink=\"http://www.w3.org/1999/xlink\" contentScriptType=\"application/ecmascript\" contentStyleType=\"text/css\" height=\"327px\" preserveAspectRatio=\"none\" style=\"width:406px;height:327px;\" version=\"1.1\" viewBox=\"0 0 406 327\" width=\"406px\" zoomAndPan=\"magnify\"><defs><filter height=\"300%\" id=\"fzjgavssbipxs\" width=\"300%\" x=\"-1\" y=\"-1\"><feGaussianBlur result=\"blurOut\" stdDeviation=\"2.0\"/><feColorMatrix in=\"blurOut\" result=\"blurOut2\" type=\"matrix\" values=\"0 0 0 0 0 0 0 0 0 0 0 0 0 0 0 0 0 0 .4 0\"/><feOffset dx=\"4.0\" dy=\"4.0\" in=\"blurOut2\" result=\"blurOut3\"/><feBlend in=\"SourceGraphic\" in2=\"blurOut3\" mode=\"normal\"/></filter></defs><g><!--MD5=[fbc87193dbaf4d95561dea2c320d4a47]\n",
       "cluster E1--><a href=\"psysml:5020e8e8-e597-4a8a-8c84-9076441471bb\" target=\"_top\" title=\"psysml:5020e8e8-e597-4a8a-8c84-9076441471bb\" xlink:actuate=\"onRequest\" xlink:href=\"psysml:5020e8e8-e597-4a8a-8c84-9076441471bb\" xlink:show=\"new\" xlink:title=\"psysml:5020e8e8-e597-4a8a-8c84-9076441471bb\" xlink:type=\"simple\"><polygon fill=\"#FFFFFF\" filter=\"url(#fzjgavssbipxs)\" points=\"16,6,84,6,91,28.2969,384,28.2969,384,315,16,315,16,6\" style=\"stroke: #000000; stroke-width: 1.5;\"/><line style=\"stroke: #000000; stroke-width: 1.5;\" x1=\"16\" x2=\"91\" y1=\"28.2969\" y2=\"28.2969\"/><text fill=\"#000000\" font-family=\"sans-serif\" font-size=\"14\" font-weight=\"bold\" lengthAdjust=\"spacingAndGlyphs\" textLength=\"62\" x=\"20\" y=\"20.9951\">AliasTest</text></a><!--MD5=[b4997ac47864f28c2f74865a473b2911]\n",
       "class E2--><a href=\"psysml:09023520-b272-4b76-a802-4be530536a95\" target=\"_top\" title=\"psysml:09023520-b272-4b76-a802-4be530536a95\" xlink:actuate=\"onRequest\" xlink:href=\"psysml:09023520-b272-4b76-a802-4be530536a95\" xlink:show=\"new\" xlink:title=\"psysml:09023520-b272-4b76-a802-4be530536a95\" xlink:type=\"simple\"><rect fill=\"#FEFECE\" filter=\"url(#fzjgavssbipxs)\" height=\"45.9375\" id=\"E2\" rx=\"10\" ry=\"10\" style=\"stroke: #A80036; stroke-width: 1.5;\" width=\"165\" x=\"202.5\" y=\"41\"/><text fill=\"#000000\" font-family=\"sans-serif\" font-size=\"12\" font-style=\"italic\" lengthAdjust=\"spacingAndGlyphs\" textLength=\"69\" x=\"250.5\" y=\"57.1387\">«attribute»</text><text fill=\"#000000\" font-family=\"sans-serif\" font-size=\"12\" lengthAdjust=\"spacingAndGlyphs\" textLength=\"159\" x=\"205.5\" y=\"71.1074\">b :&gt; ISQSpaceTime::width</text><line style=\"stroke: #A80036; stroke-width: 1.5;\" x1=\"203.5\" x2=\"366.5\" y1=\"78.9375\" y2=\"78.9375\"/></a><!--MD5=[09b614a08d8cba4a07c9adeb5e0fee81]\n",
       "class E3--><a href=\"psysml:2d23ecbc-8f8b-40e5-8168-7a4eefd95afa\" target=\"_top\" title=\"psysml:2d23ecbc-8f8b-40e5-8168-7a4eefd95afa\" xlink:actuate=\"onRequest\" xlink:href=\"psysml:2d23ecbc-8f8b-40e5-8168-7a4eefd95afa\" xlink:show=\"new\" xlink:title=\"psysml:2d23ecbc-8f8b-40e5-8168-7a4eefd95afa\" xlink:type=\"simple\"><rect fill=\"#FEFECE\" filter=\"url(#fzjgavssbipxs)\" height=\"45.9375\" id=\"E3\" style=\"stroke: #A80036; stroke-width: 1.5;\" width=\"70\" x=\"170\" y=\"147\"/><text fill=\"#000000\" font-family=\"sans-serif\" font-size=\"12\" font-style=\"italic\" lengthAdjust=\"spacingAndGlyphs\" textLength=\"68\" x=\"171\" y=\"163.1387\">«part  def»</text><text fill=\"#000000\" font-family=\"sans-serif\" font-size=\"12\" lengthAdjust=\"spacingAndGlyphs\" textLength=\"16\" x=\"197\" y=\"177.1074\">P1</text><line style=\"stroke: #A80036; stroke-width: 1.5;\" x1=\"171\" x2=\"239\" y1=\"184.9375\" y2=\"184.9375\"/></a><!--MD5=[ebbe1d658d1005bcc118a6aa81145e00]\n",
       "class E4--><a href=\"psysml:371120a0-4800-4c08-b9c5-19a2f97c5f1a\" target=\"_top\" title=\"psysml:371120a0-4800-4c08-b9c5-19a2f97c5f1a\" xlink:actuate=\"onRequest\" xlink:href=\"psysml:371120a0-4800-4c08-b9c5-19a2f97c5f1a\" xlink:show=\"new\" xlink:title=\"psysml:371120a0-4800-4c08-b9c5-19a2f97c5f1a\" xlink:type=\"simple\"><rect fill=\"#FEFECE\" filter=\"url(#fzjgavssbipxs)\" height=\"45.9375\" id=\"E4\" rx=\"10\" ry=\"10\" style=\"stroke: #A80036; stroke-width: 1.5;\" width=\"50\" x=\"180\" y=\"253\"/><text fill=\"#000000\" font-family=\"sans-serif\" font-size=\"12\" font-style=\"italic\" lengthAdjust=\"spacingAndGlyphs\" textLength=\"40\" x=\"185\" y=\"269.1387\">«port»</text><text fill=\"#000000\" font-family=\"sans-serif\" font-size=\"12\" lengthAdjust=\"spacingAndGlyphs\" textLength=\"40\" x=\"183\" y=\"283.1074\">porig1</text><line style=\"stroke: #A80036; stroke-width: 1.5;\" x1=\"181\" x2=\"229\" y1=\"290.9375\" y2=\"290.9375\"/></a><!--MD5=[270fce915f116d4de14055a7c1d9a0f3]\n",
       "class E5--><a href=\"psysml:23efd2aa-8423-4d75-9f93-6567d973731c\" target=\"_top\" title=\"psysml:23efd2aa-8423-4d75-9f93-6567d973731c\" xlink:actuate=\"onRequest\" xlink:href=\"psysml:23efd2aa-8423-4d75-9f93-6567d973731c\" xlink:show=\"new\" xlink:title=\"psysml:23efd2aa-8423-4d75-9f93-6567d973731c\" xlink:type=\"simple\"><rect fill=\"#FEFECE\" filter=\"url(#fzjgavssbipxs)\" height=\"45.9375\" id=\"E5\" rx=\"10\" ry=\"10\" style=\"stroke: #A80036; stroke-width: 1.5;\" width=\"50\" x=\"117\" y=\"41\"/><text fill=\"#000000\" font-family=\"sans-serif\" font-size=\"12\" font-style=\"italic\" lengthAdjust=\"spacingAndGlyphs\" textLength=\"40\" x=\"122\" y=\"57.1387\">«part»</text><text fill=\"#000000\" font-family=\"sans-serif\" font-size=\"12\" lengthAdjust=\"spacingAndGlyphs\" textLength=\"40\" x=\"120\" y=\"71.1074\">p1: P1</text><line style=\"stroke: #A80036; stroke-width: 1.5;\" x1=\"118\" x2=\"166\" y1=\"78.9375\" y2=\"78.9375\"/></a><!--MD5=[60a26617385b1d2d0262a64233df1f8d]\n",
       "class E6--><a href=\"psysml:a6a8a5d4-8051-439c-be85-1eee73d04018\" target=\"_top\" title=\"psysml:a6a8a5d4-8051-439c-be85-1eee73d04018\" xlink:actuate=\"onRequest\" xlink:href=\"psysml:a6a8a5d4-8051-439c-be85-1eee73d04018\" xlink:show=\"new\" xlink:title=\"psysml:a6a8a5d4-8051-439c-be85-1eee73d04018\" xlink:type=\"simple\"><rect fill=\"#FEFECE\" filter=\"url(#fzjgavssbipxs)\" height=\"45.9375\" id=\"E6\" rx=\"10\" ry=\"10\" style=\"stroke: #A80036; stroke-width: 1.5;\" width=\"42\" x=\"93\" y=\"147\"/><text fill=\"#000000\" font-family=\"sans-serif\" font-size=\"12\" font-style=\"italic\" lengthAdjust=\"spacingAndGlyphs\" textLength=\"40\" x=\"94\" y=\"163.1387\">«port»</text><text fill=\"#000000\" font-family=\"sans-serif\" font-size=\"12\" lengthAdjust=\"spacingAndGlyphs\" textLength=\"24\" x=\"100\" y=\"177.1074\">po1</text><line style=\"stroke: #A80036; stroke-width: 1.5;\" x1=\"94\" x2=\"134\" y1=\"184.9375\" y2=\"184.9375\"/></a><!--MD5=[2156ba9850f5573cc1fc38a6a4b2f02b]\n",
       "class E7--><a href=\"psysml:32558afe-9574-460d-81c7-219976cfcf7f\" target=\"_top\" title=\"psysml:32558afe-9574-460d-81c7-219976cfcf7f\" xlink:actuate=\"onRequest\" xlink:href=\"psysml:32558afe-9574-460d-81c7-219976cfcf7f\" xlink:show=\"new\" xlink:title=\"psysml:32558afe-9574-460d-81c7-219976cfcf7f\" xlink:type=\"simple\"><rect fill=\"#FEFECE\" filter=\"url(#fzjgavssbipxs)\" height=\"45.9375\" id=\"E7\" rx=\"10\" ry=\"10\" style=\"stroke: #A80036; stroke-width: 1.5;\" width=\"50\" x=\"32\" y=\"41\"/><text fill=\"#000000\" font-family=\"sans-serif\" font-size=\"12\" font-style=\"italic\" lengthAdjust=\"spacingAndGlyphs\" textLength=\"40\" x=\"37\" y=\"57.1387\">«part»</text><text fill=\"#000000\" font-family=\"sans-serif\" font-size=\"12\" lengthAdjust=\"spacingAndGlyphs\" textLength=\"40\" x=\"35\" y=\"71.1074\">p2: P1</text><line style=\"stroke: #A80036; stroke-width: 1.5;\" x1=\"33\" x2=\"81\" y1=\"78.9375\" y2=\"78.9375\"/></a><!--MD5=[b9389687b975829384b498ac4b7476b2]\n",
       "class E8--><a href=\"psysml:9d4715a0-ecad-4cb9-af91-593b0378d847\" target=\"_top\" title=\"psysml:9d4715a0-ecad-4cb9-af91-593b0378d847\" xlink:actuate=\"onRequest\" xlink:href=\"psysml:9d4715a0-ecad-4cb9-af91-593b0378d847\" xlink:show=\"new\" xlink:title=\"psysml:9d4715a0-ecad-4cb9-af91-593b0378d847\" xlink:type=\"simple\"><rect fill=\"#FEFECE\" filter=\"url(#fzjgavssbipxs)\" height=\"45.9375\" id=\"E8\" rx=\"10\" ry=\"10\" style=\"stroke: #A80036; stroke-width: 1.5;\" width=\"46\" x=\"63\" y=\"253\"/><text fill=\"#000000\" font-family=\"sans-serif\" font-size=\"12\" font-style=\"italic\" lengthAdjust=\"spacingAndGlyphs\" textLength=\"40\" x=\"66\" y=\"269.1387\">«port»</text><text fill=\"#000000\" font-family=\"sans-serif\" font-size=\"12\" lengthAdjust=\"spacingAndGlyphs\" textLength=\"36\" x=\"66\" y=\"283.1074\">pdest</text><line style=\"stroke: #A80036; stroke-width: 1.5;\" x1=\"64\" x2=\"108\" y1=\"290.9375\" y2=\"290.9375\"/></a><!--MD5=[4672eba38e49728da53d11aeb285b987]\n",
       "reverse link E3 to E4--><a href=\"psysml:77da464e-a07c-41d7-bf00-c994457c7429\" target=\"_top\" title=\"psysml:77da464e-a07c-41d7-bf00-c994457c7429\" xlink:actuate=\"onRequest\" xlink:href=\"psysml:77da464e-a07c-41d7-bf00-c994457c7429\" xlink:show=\"new\" xlink:title=\"psysml:77da464e-a07c-41d7-bf00-c994457c7429\" xlink:type=\"simple\"><path d=\"M192.84,206.44 C191.7,221.87 192.21,239.47 194.36,252.98 \" fill=\"none\" id=\"E3&lt;-E4\" style=\"stroke: #A80036; stroke-width: 1.0;\"/><polygon fill=\"#FFFFFF\" points=\"194.35,193.06,189.7032,198.5743,193.006,204.9845,197.6528,199.4702,194.35,193.06\" style=\"stroke: #A80036; stroke-width: 1.0;\"/><text fill=\"#000000\" font-family=\"sans-serif\" font-size=\"13\" lengthAdjust=\"spacingAndGlyphs\" textLength=\"8\" x=\"182.4255\" y=\"241.8709\">1</text></a><!--MD5=[4672eba38e49728da53d11aeb285b987]\n",
       "reverse link E3 to E4--><a href=\"psysml:2fb80261-1acb-4246-9b34-6566336881f2\" target=\"_top\" title=\"psysml:2fb80261-1acb-4246-9b34-6566336881f2\" xlink:actuate=\"onRequest\" xlink:href=\"psysml:2fb80261-1acb-4246-9b34-6566336881f2\" xlink:show=\"new\" xlink:title=\"psysml:2fb80261-1acb-4246-9b34-6566336881f2\" xlink:type=\"simple\"><path d=\"M218.01,208.34 C219.03,223.3 218.45,240.02 216.27,252.98 \" fill=\"none\" id=\"E3&lt;-E4-1\" style=\"stroke: #A80036; stroke-width: 1.0; stroke-dasharray: 7.0,7.0;\"/><ellipse cx=\"217.1693\" cy=\"201.0093\" fill=\"#FFFFFF\" rx=\"8\" ry=\"8\" style=\"stroke: #A80036; stroke-width: 1.0;\"/><line style=\"stroke: #A80036; stroke-width: 1.0;\" x1=\"218.0687\" x2=\"216.27\" y1=\"208.9586\" y2=\"193.06\"/><line style=\"stroke: #A80036; stroke-width: 1.0;\" x1=\"209.2201\" x2=\"225.1186\" y1=\"201.9086\" y2=\"200.1099\"/><text fill=\"#000000\" font-family=\"sans-serif\" font-size=\"13\" lengthAdjust=\"spacingAndGlyphs\" textLength=\"8\" x=\"210.2238\" y=\"241.8709\">1</text></a><!--MD5=[e9be52314489bd878ff4c7144b63c9e1]\n",
       "link E5 to E3--><a href=\"psysml:bae878c2-3025-4ed8-bae0-781c13e39aed\" target=\"_top\" title=\"psysml:bae878c2-3025-4ed8-bae0-781c13e39aed\" xlink:actuate=\"onRequest\" xlink:href=\"psysml:bae878c2-3025-4ed8-bae0-781c13e39aed\" xlink:show=\"new\" xlink:title=\"psysml:bae878c2-3025-4ed8-bae0-781c13e39aed\" xlink:type=\"simple\"><path d=\"M155.36,87.06 C162.88,99.47 172.49,115.33 181.24,129.78 \" fill=\"none\" id=\"E5-&gt;E3\" style=\"stroke: #A80036; stroke-width: 1.0;\"/><polygon fill=\"#FFFFFF\" points=\"191.66,146.98,175.8217,134.3646,187.792,127.1044,191.66,146.98\" style=\"stroke: #A80036; stroke-width: 1.0;\"/><ellipse cx=\"174.5758\" cy=\"128.4538\" fill=\"#A80036\" rx=\"2\" ry=\"2\" style=\"stroke: #A80036; stroke-width: 1.0;\"/><ellipse cx=\"183.126\" cy=\"123.2679\" fill=\"#A80036\" rx=\"2\" ry=\"2\" style=\"stroke: #A80036; stroke-width: 1.0;\"/></a><!--MD5=[85d356282659285ab4b2cfe2f634dd2b]\n",
       "reverse link E5 to E6--><a href=\"psysml:cd2d9195-2d40-49eb-a50a-4bb167712418\" target=\"_top\" title=\"psysml:cd2d9195-2d40-49eb-a50a-4bb167712418\" xlink:actuate=\"onRequest\" xlink:href=\"psysml:cd2d9195-2d40-49eb-a50a-4bb167712418\" xlink:show=\"new\" xlink:title=\"psysml:cd2d9195-2d40-49eb-a50a-4bb167712418\" xlink:type=\"simple\"><path d=\"M132.59,99.96 C128.4,115.51 123.6,133.33 119.93,146.98 \" fill=\"none\" id=\"E5&lt;-E6\" style=\"stroke: #A80036; stroke-width: 1.0;\"/><polygon fill=\"#FFFFFF\" points=\"136.06,87.06,130.641,91.8176,132.9484,98.6496,138.3674,93.892,136.06,87.06\" style=\"stroke: #A80036; stroke-width: 1.0;\"/><text fill=\"#000000\" font-family=\"sans-serif\" font-size=\"13\" lengthAdjust=\"spacingAndGlyphs\" textLength=\"8\" x=\"112.4487\" y=\"135.8709\">1</text></a><!--MD5=[f667431f98296947986a1a7595a31603]\n",
       "link E6 to E4--><a href=\"psysml:9b4aa44d-c7fb-440f-8f9d-ccf8058f014a\" target=\"_top\" title=\"psysml:9b4aa44d-c7fb-440f-8f9d-ccf8058f014a\" xlink:actuate=\"onRequest\" xlink:href=\"psysml:9b4aa44d-c7fb-440f-8f9d-ccf8058f014a\" xlink:show=\"new\" xlink:title=\"psysml:9b4aa44d-c7fb-440f-8f9d-ccf8058f014a\" xlink:type=\"simple\"><path d=\"M133.3,193.06 C144.64,206.02 159.28,222.74 172.36,237.7 \" fill=\"none\" id=\"E6-&gt;E4\" style=\"stroke: #A80036; stroke-width: 1.0;\"/><polygon fill=\"#FFFFFF\" points=\"185.73,252.98,167.9517,243.2882,178.489,234.0705,185.73,252.98\" style=\"stroke: #A80036; stroke-width: 1.0;\"/><line style=\"stroke: #A80036; stroke-width: 2.0;\" x1=\"165.4497\" x2=\"175.9871\" y1=\"240.4281\" y2=\"231.2104\"/></a><!--MD5=[14ccda38c055a5c0da953d572bc50960]\n",
       "link E7 to E3--><a href=\"psysml:22f6621f-c82b-45b4-aad5-95fd1a975c3d\" target=\"_top\" title=\"psysml:22f6621f-c82b-45b4-aad5-95fd1a975c3d\" xlink:actuate=\"onRequest\" xlink:href=\"psysml:22f6621f-c82b-45b4-aad5-95fd1a975c3d\" xlink:show=\"new\" xlink:title=\"psysml:22f6621f-c82b-45b4-aad5-95fd1a975c3d\" xlink:type=\"simple\"><path d=\"M82.11,82.64 C102.61,97.05 132.18,117.83 157.18,135.39 \" fill=\"none\" id=\"E7-&gt;E3\" style=\"stroke: #A80036; stroke-width: 1.0;\"/><polygon fill=\"#FFFFFF\" points=\"173.58,146.92,154.011,141.7187,162.0629,130.266,173.58,146.92\" style=\"stroke: #A80036; stroke-width: 1.0;\"/><ellipse cx=\"150.4983\" cy=\"136.8043\" fill=\"#A80036\" rx=\"2\" ry=\"2\" style=\"stroke: #A80036; stroke-width: 1.0;\"/><ellipse cx=\"156.2497\" cy=\"128.6238\" fill=\"#A80036\" rx=\"2\" ry=\"2\" style=\"stroke: #A80036; stroke-width: 1.0;\"/></a><!--MD5=[dc164f5e8a733ab456ef1add180e9e34]\n",
       "reverse link E7 to E8--><a href=\"psysml:22337106-f0e5-4c32-83fd-01b8d559ead1\" target=\"_top\" title=\"psysml:22337106-f0e5-4c32-83fd-01b8d559ead1\" xlink:actuate=\"onRequest\" xlink:href=\"psysml:22337106-f0e5-4c32-83fd-01b8d559ead1\" xlink:show=\"new\" xlink:title=\"psysml:22337106-f0e5-4c32-83fd-01b8d559ead1\" xlink:type=\"simple\"><path d=\"M52.05,100.09 C53.65,143.61 64.25,216.5 74.75,252.9 \" fill=\"none\" id=\"E7&lt;-E8\" style=\"stroke: #A80036; stroke-width: 1.0;\"/><polygon fill=\"#FFFFFF\" points=\"51.85,87.08,47.9362,93.1366,52.0216,99.0788,55.9354,93.0222,51.85,87.08\" style=\"stroke: #A80036; stroke-width: 1.0;\"/><text fill=\"#000000\" font-family=\"sans-serif\" font-size=\"13\" lengthAdjust=\"spacingAndGlyphs\" textLength=\"8\" x=\"62.6516\" y=\"241.7694\">1</text></a><!--MD5=[dc164f5e8a733ab456ef1add180e9e34]\n",
       "reverse link E7 to E8--><a href=\"psysml:3441a1bf-d119-4e2c-bd85-6011f03ceff2\" target=\"_top\" title=\"psysml:3441a1bf-d119-4e2c-bd85-6011f03ceff2\" xlink:actuate=\"onRequest\" xlink:href=\"psysml:3441a1bf-d119-4e2c-bd85-6011f03ceff2\" xlink:show=\"new\" xlink:title=\"psysml:3441a1bf-d119-4e2c-bd85-6011f03ceff2\" xlink:type=\"simple\"><path d=\"M72.64,101.8 C83.15,145.5 92.39,216.97 91.63,252.9 \" fill=\"none\" id=\"E7&lt;-E8-1\" style=\"stroke: #A80036; stroke-width: 1.0; stroke-dasharray: 7.0,7.0;\"/><ellipse cx=\"70.7794\" cy=\"94.813\" fill=\"#FFFFFF\" rx=\"8\" ry=\"8\" style=\"stroke: #A80036; stroke-width: 1.0;\"/><line style=\"stroke: #A80036; stroke-width: 1.0;\" x1=\"72.8289\" x2=\"68.73\" y1=\"102.5461\" y2=\"87.08\"/><line style=\"stroke: #A80036; stroke-width: 1.0;\" x1=\"63.0464\" x2=\"78.5125\" y1=\"96.8625\" y2=\"92.7636\"/><text fill=\"#000000\" font-family=\"sans-serif\" font-size=\"13\" lengthAdjust=\"spacingAndGlyphs\" textLength=\"8\" x=\"94.2181\" y=\"241.7694\">1</text></a><!--MD5=[0a839d0f80c2d72d4b9b307f046d0de8]\n",
       "link E6 to E8--><a href=\"psysml:e347aa3d-31a4-4502-9422-b0b7e8733c17\" target=\"_top\" title=\"psysml:e347aa3d-31a4-4502-9422-b0b7e8733c17\" xlink:actuate=\"onRequest\" xlink:href=\"psysml:e347aa3d-31a4-4502-9422-b0b7e8733c17\" xlink:show=\"new\" xlink:title=\"psysml:e347aa3d-31a4-4502-9422-b0b7e8733c17\" xlink:type=\"simple\"><path d=\"M97.42,193.06 C89.86,210.7 83.23,235.34 81.29,252.98 \" fill=\"none\" id=\"E6-E8\" style=\"stroke: #A80036; stroke-width: 3.0;\"/><text fill=\"#000000\" font-family=\"sans-serif\" font-size=\"13\" lengthAdjust=\"spacingAndGlyphs\" textLength=\"7\" x=\"80.9648\" y=\"241.8709\">*</text></a><!--MD5=[0a839d0f80c2d72d4b9b307f046d0de8]\n",
       "link E6 to E8--><a href=\"psysml:6852a8da-427c-4993-bbf6-22174e5f8d33\" target=\"_top\" title=\"psysml:6852a8da-427c-4993-bbf6-22174e5f8d33\" xlink:actuate=\"onRequest\" xlink:href=\"psysml:6852a8da-427c-4993-bbf6-22174e5f8d33\" xlink:show=\"new\" xlink:title=\"psysml:6852a8da-427c-4993-bbf6-22174e5f8d33\" xlink:type=\"simple\"><path d=\"M119.33,193.06 C117.55,210.7 110.92,235.34 103.2,252.98 \" fill=\"none\" id=\"E6-E8-1\" style=\"stroke: #A80036; stroke-width: 3.0;\"/><text fill=\"#000000\" font-family=\"sans-serif\" font-size=\"13\" lengthAdjust=\"spacingAndGlyphs\" textLength=\"7\" x=\"99.8819\" y=\"241.8709\">*</text></a><!--MD5=[152ea7540d3e3945184c2bf05861bc11]\n",
       "@startuml\r\n",
       "skinparam wrapWidth 300\r\n",
       "hide circle\r\n",
       "\r\n",
       "package \"AliasTest\" as E1  [[psysml:5020e8e8-e597-4a8a-8c84-9076441471bb ]]  {\r\n",
       "comp usage \"b :> ISQSpaceTime::width\" as E2  <<(T,blue) attribute>> [[psysml:09023520-b272-4b76-a802-4be530536a95 ]] {\r\n",
       "}\r\n",
       "comp def \"P1\" as E3  <<(T,blue) part  def>> [[psysml:2d23ecbc-8f8b-40e5-8168-7a4eefd95afa ]] {\r\n",
       "}\r\n",
       "comp usage \"porig1 \" as E4  <<(T,blue) port>> [[psysml:371120a0-4800-4c08-b9c5-19a2f97c5f1a ]] {\r\n",
       "}\r\n",
       "comp usage \"p1: P1 \" as E5  <<(T,blue) part>> [[psysml:23efd2aa-8423-4d75-9f93-6567d973731c ]] {\r\n",
       "}\r\n",
       "comp usage \"po1 \" as E6  <<(T,blue) port>> [[psysml:a6a8a5d4-8051-439c-be85-1eee73d04018 ]] {\r\n",
       "}\r\n",
       "comp usage \"p2: P1 \" as E7  <<(T,blue) part>> [[psysml:32558afe-9574-460d-81c7-219976cfcf7f ]] {\r\n",
       "}\r\n",
       "comp usage \"pdest \" as E8  <<(T,blue) port>> [[psysml:9d4715a0-ecad-4cb9-af91-593b0378d847 ]] {\r\n",
       "}\r\n",
       "}\r\n",
       "E3 o- - \"1\"E4 [[psysml:77da464e-a07c-41d7-bf00-c994457c7429 ]] \r\n",
       "E3 +.. \"1\"E4 [[psysml:2fb80261-1acb-4246-9b34-6566336881f2 ]] \r\n",
       "E5 - -:|> E3 [[psysml:bae878c2-3025-4ed8-bae0-781c13e39aed ]] \r\n",
       "E5 o- - \"1\"E6 [[psysml:cd2d9195-2d40-49eb-a50a-4bb167712418 ]] \r\n",
       "E6 - -||> E4 [[psysml:9b4aa44d-c7fb-440f-8f9d-ccf8058f014a ]] \r\n",
       "E7 - -:|> E3 [[psysml:22f6621f-c82b-45b4-aad5-95fd1a975c3d ]] \r\n",
       "E7 o- - \"1\"E8 [[psysml:22337106-f0e5-4c32-83fd-01b8d559ead1 ]] \r\n",
       "E7 +.. \"1\"E8 [[psysml:3441a1bf-d119-4e2c-bd85-6011f03ceff2 ]] \r\n",
       "E6 -[thickness=3]- \"*\"E8 [[psysml:e347aa3d-31a4-4502-9422-b0b7e8733c17 ]] \r\n",
       "E6 -[thickness=3]- \"*\"E8 [[psysml:6852a8da-427c-4993-bbf6-22174e5f8d33 ]] \r\n",
       "@enduml\r\n",
       "\n",
       "PlantUML version 1.2020.13(Sat Jun 13 12:26:38 UTC 2020)\n",
       "(EPL source distribution)\n",
       "Java Runtime: OpenJDK Runtime Environment\n",
       "JVM: OpenJDK 64-Bit Server VM\n",
       "Default Encoding: UTF-8\n",
       "Language: en\n",
       "Country: null\n",
       "--></g></svg>"
      ]
     },
     "execution_count": 24,
     "metadata": {},
     "output_type": "execute_result"
    }
   ],
   "source": [
    "%viz --style=\"STDCOLOR\" --view=\"Tree\" \"AliasTest\""
   ]
  },
  {
   "cell_type": "code",
   "execution_count": 25,
   "id": "fa7465d2",
   "metadata": {
    "execution": {
     "iopub.execute_input": "2022-04-22T09:51:32.518904Z",
     "iopub.status.busy": "2022-04-22T09:51:32.518494Z",
     "iopub.status.idle": "2022-04-22T09:51:32.523851Z",
     "shell.execute_reply": "2022-04-22T09:51:32.524161Z"
    }
   },
   "outputs": [
    {
     "data": {
      "image/svg+xml": [
       "<?xml version=\"1.0\" encoding=\"UTF-8\" standalone=\"no\"?><svg xmlns=\"http://www.w3.org/2000/svg\" xmlns:xlink=\"http://www.w3.org/1999/xlink\" contentScriptType=\"application/ecmascript\" contentStyleType=\"text/css\" height=\"12px\" preserveAspectRatio=\"none\" style=\"width:12px;height:12px;\" version=\"1.1\" viewBox=\"0 0 12 12\" width=\"12px\" zoomAndPan=\"magnify\"><defs/><g><!--MD5=[aeeef50f102b80d730deb6443d14f702]\n",
       "@startuml\r\n",
       "skinparam wrapWidth 300\r\n",
       "hide circle\r\n",
       "\r\n",
       "@enduml\r\n",
       "\n",
       "PlantUML version 1.2020.13(Sat Jun 13 12:26:38 UTC 2020)\n",
       "(EPL source distribution)\n",
       "Java Runtime: OpenJDK Runtime Environment\n",
       "JVM: OpenJDK 64-Bit Server VM\n",
       "Default Encoding: UTF-8\n",
       "Language: en\n",
       "Country: null\n",
       "--></g></svg>"
      ]
     },
     "execution_count": 25,
     "metadata": {},
     "output_type": "execute_result"
    }
   ],
   "source": [
    "%viz --style=\"STDCOLOR\" --view=\"State\" \"AliasTest\""
   ]
  },
  {
   "cell_type": "code",
   "execution_count": 26,
   "id": "1fecaec3",
   "metadata": {
    "execution": {
     "iopub.execute_input": "2022-04-22T09:51:32.574428Z",
     "iopub.status.busy": "2022-04-22T09:51:32.574083Z",
     "iopub.status.idle": "2022-04-22T09:51:32.616373Z",
     "shell.execute_reply": "2022-04-22T09:51:32.616113Z"
    }
   },
   "outputs": [
    {
     "data": {
      "image/svg+xml": [
       "<?xml version=\"1.0\" encoding=\"UTF-8\" standalone=\"no\"?><svg xmlns=\"http://www.w3.org/2000/svg\" xmlns:xlink=\"http://www.w3.org/1999/xlink\" contentScriptType=\"application/ecmascript\" contentStyleType=\"text/css\" height=\"398px\" preserveAspectRatio=\"none\" style=\"width:370px;height:398px;\" version=\"1.1\" viewBox=\"0 0 370 398\" width=\"370px\" zoomAndPan=\"magnify\"><defs><filter height=\"300%\" id=\"f38gpij16nugo\" width=\"300%\" x=\"-1\" y=\"-1\"><feGaussianBlur result=\"blurOut\" stdDeviation=\"2.0\"/><feColorMatrix in=\"blurOut\" result=\"blurOut2\" type=\"matrix\" values=\"0 0 0 0 0 0 0 0 0 0 0 0 0 0 0 0 0 0 .4 0\"/><feOffset dx=\"4.0\" dy=\"4.0\" in=\"blurOut2\" result=\"blurOut3\"/><feBlend in=\"SourceGraphic\" in2=\"blurOut3\" mode=\"normal\"/></filter></defs><g><!--MD5=[fbc87193dbaf4d95561dea2c320d4a47]\n",
       "cluster E1--><a href=\"psysml:5020e8e8-e597-4a8a-8c84-9076441471bb\" target=\"_top\" title=\"psysml:5020e8e8-e597-4a8a-8c84-9076441471bb\" xlink:actuate=\"onRequest\" xlink:href=\"psysml:5020e8e8-e597-4a8a-8c84-9076441471bb\" xlink:show=\"new\" xlink:title=\"psysml:5020e8e8-e597-4a8a-8c84-9076441471bb\" xlink:type=\"simple\"><polygon fill=\"#FFFFFF\" filter=\"url(#f38gpij16nugo)\" points=\"16,6,84,6,91,28.2969,348,28.2969,348,386.36,16,386.36,16,6\" style=\"stroke: #000000; stroke-width: 1.5;\"/><line style=\"stroke: #000000; stroke-width: 1.5;\" x1=\"16\" x2=\"91\" y1=\"28.2969\" y2=\"28.2969\"/><text fill=\"#000000\" font-family=\"sans-serif\" font-size=\"14\" font-weight=\"bold\" lengthAdjust=\"spacingAndGlyphs\" textLength=\"62\" x=\"20\" y=\"20.9951\">AliasTest</text></a><!--MD5=[d5e69f78d87373223dbae638b30a9c99]\n",
       "cluster E3--><a href=\"psysml:2d23ecbc-8f8b-40e5-8168-7a4eefd95afa\" target=\"_top\" title=\"psysml:2d23ecbc-8f8b-40e5-8168-7a4eefd95afa\" xlink:actuate=\"onRequest\" xlink:href=\"psysml:2d23ecbc-8f8b-40e5-8168-7a4eefd95afa\" xlink:show=\"new\" xlink:title=\"psysml:2d23ecbc-8f8b-40e5-8168-7a4eefd95afa\" xlink:type=\"simple\"><rect fill=\"#FFFFFF\" filter=\"url(#f38gpij16nugo)\" height=\"124.5\" id=\"E3\" style=\"stroke: #A80036; stroke-width: 1.5;\" width=\"144\" x=\"180\" y=\"237.86\"/><rect fill=\"#FEFECE\" height=\"37.9375\" style=\"stroke: #A80036; stroke-width: 1.5;\" width=\"144\" x=\"180\" y=\"237.86\"/><text fill=\"#000000\" font-family=\"sans-serif\" font-size=\"12\" font-style=\"italic\" lengthAdjust=\"spacingAndGlyphs\" textLength=\"68\" x=\"218\" y=\"253.9987\">«part  def»</text><text fill=\"#000000\" font-family=\"sans-serif\" font-size=\"12\" lengthAdjust=\"spacingAndGlyphs\" textLength=\"16\" x=\"244\" y=\"267.9674\">P1</text></a><!--MD5=[14e3b0961a2654348d326746436168a1]\n",
       "cluster E6--><a href=\"psysml:23efd2aa-8423-4d75-9f93-6567d973731c\" target=\"_top\" title=\"psysml:23efd2aa-8423-4d75-9f93-6567d973731c\" xlink:actuate=\"onRequest\" xlink:href=\"psysml:23efd2aa-8423-4d75-9f93-6567d973731c\" xlink:show=\"new\" xlink:title=\"psysml:23efd2aa-8423-4d75-9f93-6567d973731c\" xlink:type=\"simple\"><rect fill=\"#FFFFFF\" filter=\"url(#f38gpij16nugo)\" height=\"97.36\" id=\"E6\" rx=\"10\" ry=\"10\" style=\"stroke: #A80036; stroke-width: 1.5;\" width=\"114\" x=\"210\" y=\"49\"/><rect fill=\"#FEFECE\" height=\"23.9688\" rx=\"10\" ry=\"10\" style=\"stroke: #FEFECE; stroke-width: 1.5;\" width=\"114\" x=\"210\" y=\"49\"/><rect fill=\"#FEFECE\" height=\"10\" style=\"stroke: #FEFECE; stroke-width: 1.5;\" width=\"114\" x=\"210\" y=\"62.9688\"/><rect fill=\"none\" height=\"97.36\" id=\"E6\" rx=\"10\" ry=\"10\" style=\"stroke: #A80036; stroke-width: 1.5;\" width=\"114\" x=\"210\" y=\"49\"/><text fill=\"#000000\" font-family=\"sans-serif\" font-size=\"12\" lengthAdjust=\"spacingAndGlyphs\" textLength=\"40\" x=\"247\" y=\"65.1387\">p1: P1</text><line style=\"stroke: #A80036; stroke-width: 1.0;\" x1=\"210\" x2=\"324\" y1=\"72.9688\" y2=\"72.9688\"/></a><!--MD5=[55dfccfc6c49c2d10cd1bd2211a6c90c]\n",
       "cluster E8--><a href=\"psysml:32558afe-9574-460d-81c7-219976cfcf7f\" target=\"_top\" title=\"psysml:32558afe-9574-460d-81c7-219976cfcf7f\" xlink:actuate=\"onRequest\" xlink:href=\"psysml:32558afe-9574-460d-81c7-219976cfcf7f\" xlink:show=\"new\" xlink:title=\"psysml:32558afe-9574-460d-81c7-219976cfcf7f\" xlink:type=\"simple\"><rect fill=\"#FFFFFF\" filter=\"url(#f38gpij16nugo)\" height=\"73\" id=\"E8\" rx=\"10\" ry=\"10\" style=\"stroke: #A80036; stroke-width: 1.5;\" width=\"83\" x=\"81\" y=\"198.36\"/><rect fill=\"#FEFECE\" height=\"23.9688\" rx=\"10\" ry=\"10\" style=\"stroke: #FEFECE; stroke-width: 1.5;\" width=\"83\" x=\"81\" y=\"198.36\"/><rect fill=\"#FEFECE\" height=\"10\" style=\"stroke: #FEFECE; stroke-width: 1.5;\" width=\"83\" x=\"81\" y=\"212.3288\"/><rect fill=\"none\" height=\"73\" id=\"E8\" rx=\"10\" ry=\"10\" style=\"stroke: #A80036; stroke-width: 1.5;\" width=\"83\" x=\"81\" y=\"198.36\"/><text fill=\"#000000\" font-family=\"sans-serif\" font-size=\"12\" lengthAdjust=\"spacingAndGlyphs\" textLength=\"40\" x=\"102.5\" y=\"214.4987\">p2: P1</text><line style=\"stroke: #A80036; stroke-width: 1.0;\" x1=\"81\" x2=\"164\" y1=\"222.3288\" y2=\"222.3288\"/></a><!--MD5=[b4997ac47864f28c2f74865a473b2911]\n",
       "class E2--><a href=\"psysml:09023520-b272-4b76-a802-4be530536a95\" target=\"_top\" title=\"psysml:09023520-b272-4b76-a802-4be530536a95\" xlink:actuate=\"onRequest\" xlink:href=\"psysml:09023520-b272-4b76-a802-4be530536a95\" xlink:show=\"new\" xlink:title=\"psysml:09023520-b272-4b76-a802-4be530536a95\" xlink:type=\"simple\"><rect fill=\"#FEFECE\" filter=\"url(#f38gpij16nugo)\" height=\"45.9375\" id=\"E2\" rx=\"10\" ry=\"10\" style=\"stroke: #A80036; stroke-width: 1.5;\" width=\"165\" x=\"32.5\" y=\"59.5\"/><text fill=\"#000000\" font-family=\"sans-serif\" font-size=\"12\" font-style=\"italic\" lengthAdjust=\"spacingAndGlyphs\" textLength=\"69\" x=\"80.5\" y=\"75.6387\">«attribute»</text><text fill=\"#000000\" font-family=\"sans-serif\" font-size=\"12\" lengthAdjust=\"spacingAndGlyphs\" textLength=\"159\" x=\"35.5\" y=\"89.6074\">b :&gt; ISQSpaceTime::width</text><line style=\"stroke: #A80036; stroke-width: 1.5;\" x1=\"33.5\" x2=\"196.5\" y1=\"97.4375\" y2=\"97.4375\"/></a><text fill=\"#000000\" font-family=\"sans-serif\" font-size=\"14\" lengthAdjust=\"spacingAndGlyphs\" textLength=\"44\" x=\"174\" y=\"216.5582\">porig1</text><rect fill=\"#A80036\" height=\"12\" style=\"stroke: #FEFECE; stroke-width: 1.5;\" width=\"12\" x=\"192\" y=\"231.86\"/><text fill=\"#000000\" font-family=\"sans-serif\" font-size=\"14\" lengthAdjust=\"spacingAndGlyphs\" textLength=\"44\" x=\"221\" y=\"216.5582\">porig1</text><rect fill=\"#A80036\" height=\"12\" style=\"stroke: #FEFECE; stroke-width: 1.5;\" width=\"12\" x=\"239\" y=\"231.86\"/><text fill=\"#000000\" font-family=\"sans-serif\" font-size=\"14\" lengthAdjust=\"spacingAndGlyphs\" textLength=\"27\" x=\"212.5\" y=\"165.3551\">po1</text><rect fill=\"#A80036\" height=\"12\" style=\"stroke: #FEFECE; stroke-width: 1.5;\" width=\"12\" x=\"222\" y=\"140.36\"/><text fill=\"#000000\" font-family=\"sans-serif\" font-size=\"14\" lengthAdjust=\"spacingAndGlyphs\" textLength=\"40\" x=\"77\" y=\"177.0582\">pdest</text><rect fill=\"#A80036\" height=\"12\" style=\"stroke: #FEFECE; stroke-width: 1.5;\" width=\"12\" x=\"93\" y=\"192.36\"/><text fill=\"#000000\" font-family=\"sans-serif\" font-size=\"14\" lengthAdjust=\"spacingAndGlyphs\" textLength=\"40\" x=\"124\" y=\"177.0582\">pdest</text><rect fill=\"#A80036\" height=\"12\" style=\"stroke: #FEFECE; stroke-width: 1.5;\" width=\"12\" x=\"140\" y=\"192.36\"/><!--MD5=[a717450b82c80b9240a525fa862496af]\n",
       "link E6 to E3--><a href=\"psysml:bae878c2-3025-4ed8-bae0-781c13e39aed\" target=\"_top\" title=\"psysml:bae878c2-3025-4ed8-bae0-781c13e39aed\" xlink:actuate=\"onRequest\" xlink:href=\"psysml:bae878c2-3025-4ed8-bae0-781c13e39aed\" xlink:show=\"new\" xlink:title=\"psysml:bae878c2-3025-4ed8-bae0-781c13e39aed\" xlink:type=\"simple\"><path d=\"M287,146.372 C287,146.4316 287,146.4946 287,146.5614 C287,146.6948 287,146.8432 287,147.0079 C287,147.3375 287,147.733 287,148.2077 C287,149.1569 287,150.4225 287,152.11 C287,158.86 287,172.36 287,199.36 C287,208.265 287.4169,215.6138 287.8598,222.1538 C287.8875,222.5625 287.9153,222.9681 287.9431,223.3707 C287.9501,223.4714 287.957,223.5718 287.964,223.6721 \" fill=\"none\" id=\"E6-&gt;E3\" style=\"stroke: #A80036; stroke-width: 1.0;\"/><polygon fill=\"#FFFFFF\" points=\"287.964,223.6721,279.6675,205.2014,293.634,204.2337,287.964,223.6721\" style=\"stroke: #A80036; stroke-width: 1.0;\"/><ellipse cx=\"281.2688\" cy=\"199.3768\" fill=\"#A80036\" rx=\"2\" ry=\"2\" style=\"stroke: #A80036; stroke-width: 1.0;\"/><ellipse cx=\"291.2448\" cy=\"198.6856\" fill=\"#A80036\" rx=\"2\" ry=\"2\" style=\"stroke: #A80036; stroke-width: 1.0;\"/></a><!--MD5=[95fa686b5a16158bcdbcaeead89f639b]\n",
       "link E8 to E3--><a href=\"psysml:22f6621f-c82b-45b4-aad5-95fd1a975c3d\" target=\"_top\" title=\"psysml:22f6621f-c82b-45b4-aad5-95fd1a975c3d\" xlink:actuate=\"onRequest\" xlink:href=\"psysml:22f6621f-c82b-45b4-aad5-95fd1a975c3d\" xlink:show=\"new\" xlink:title=\"psysml:22f6621f-c82b-45b4-aad5-95fd1a975c3d\" xlink:type=\"simple\"><path d=\"M161.6052,271.4143 C161.6848,271.4587 161.7644,271.5032 161.844,271.5476 C162.1624,271.7254 162.4807,271.903 162.799,272.0805 C163.4355,272.4354 164.0716,272.7896 164.7071,273.1429 C165.978,273.8495 167.2462,274.5525 168.5091,275.2502 C171.0347,276.6456 173.5388,278.02 176,279.36 C177.8425,280.3638 179.712,281.3764 181.6004,282.3941 C182.0725,282.6486 182.5457,282.9033 183.0201,283.1583 C183.2572,283.2858 183.4946,283.4134 183.7323,283.541 C183.7917,283.5729 183.8512,283.6048 183.9106,283.6368 \" fill=\"none\" id=\"E8-&gt;E3\" style=\"stroke: #A80036; stroke-width: 1.0;\"/><polygon fill=\"#FFFFFF\" points=\"183.9106,283.6368,163.8594,280.8174,170.4813,268.4825,183.9106,283.6368\" style=\"stroke: #A80036; stroke-width: 1.0;\"/><ellipse cx=\"159.7833\" cy=\"276.3592\" fill=\"#A80036\" rx=\"2\" ry=\"2\" style=\"stroke: #A80036; stroke-width: 1.0;\"/><ellipse cx=\"164.5132\" cy=\"267.5486\" fill=\"#A80036\" rx=\"2\" ry=\"2\" style=\"stroke: #A80036; stroke-width: 1.0;\"/></a><!--MD5=[1c0b9414cc86e0744215edee6abd8926]\n",
       "link E7 to E9--><a href=\"psysml:e347aa3d-31a4-4502-9422-b0b7e8733c17\" target=\"_top\" title=\"psysml:e347aa3d-31a4-4502-9422-b0b7e8733c17\" xlink:actuate=\"onRequest\" xlink:href=\"psysml:e347aa3d-31a4-4502-9422-b0b7e8733c17\" xlink:show=\"new\" xlink:title=\"psysml:e347aa3d-31a4-4502-9422-b0b7e8733c17\" xlink:type=\"simple\"><path d=\"M221.76,147.53 C198.85,148.59 143.6,155.09 105,176.36 C94.77,182 85.43,193.07 92.97,196.39 \" fill=\"none\" id=\"E7-E9\" style=\"stroke: #A80036; stroke-width: 3.0;\"/><text fill=\"#000000\" font-family=\"sans-serif\" font-size=\"13\" lengthAdjust=\"spacingAndGlyphs\" textLength=\"7\" x=\"78.1078\" y=\"185.6989\">*</text></a><!--MD5=[1c0b9414cc86e0744215edee6abd8926]\n",
       "link E7 to E9--><a href=\"psysml:6852a8da-427c-4993-bbf6-22174e5f8d33\" target=\"_top\" title=\"psysml:6852a8da-427c-4993-bbf6-22174e5f8d33\" xlink:actuate=\"onRequest\" xlink:href=\"psysml:6852a8da-427c-4993-bbf6-22174e5f8d33\" xlink:show=\"new\" xlink:title=\"psysml:6852a8da-427c-4993-bbf6-22174e5f8d33\" xlink:type=\"simple\"><path d=\"M221.9,149.8 C204.95,153.24 168.07,160.89 140,176.36 C129.3,182.26 119.57,194.11 105.05,196.81 \" fill=\"none\" id=\"E7-E9-1\" style=\"stroke: #A80036; stroke-width: 3.0;\"/><text fill=\"#000000\" font-family=\"sans-serif\" font-size=\"13\" lengthAdjust=\"spacingAndGlyphs\" textLength=\"7\" x=\"112.9288\" y=\"186.4654\">*</text></a><!--MD5=[05fd1ec858e1b0757eb68864be9ea9c1]\n",
       "@startuml\r\n",
       "skinparam ranksep 10\r\n",
       "skinparam rectangle {\r\n",
       " backgroundColor<<block>> LightGreen\r\n",
       "}\r\n",
       "skinparam wrapWidth 300\r\n",
       "hide circle\r\n",
       "\r\n",
       "package \"AliasTest\" as E1  [[psysml:5020e8e8-e597-4a8a-8c84-9076441471bb ]]  {\r\n",
       "comp usage \"b :> ISQSpaceTime::width\" as E2  <<(T,blue) attribute>> [[psysml:09023520-b272-4b76-a802-4be530536a95 ]] {\r\n",
       "}\r\n",
       "rec def \"P1\" as E3  <<(T,blue) part  def>> [[psysml:2d23ecbc-8f8b-40e5-8168-7a4eefd95afa ]] {\r\n",
       "portin \"porig1 \" as E4  <<(T,blue) port>> [[psysml:371120a0-4800-4c08-b9c5-19a2f97c5f1a ]] \r\n",
       "portin \"porig1 \" as E5  <<(T,blue) port>> [[psysml:371120a0-4800-4c08-b9c5-19a2f97c5f1a ]] \r\n",
       "}\r\n",
       "rec usage \"p1: P1\" as E6  [[psysml:23efd2aa-8423-4d75-9f93-6567d973731c ]] {\r\n",
       "portout \"po1 \" as E7  <<(T,blue) port>> [[psysml:a6a8a5d4-8051-439c-be85-1eee73d04018 ]] \r\n",
       "}\r\n",
       "rec usage \"p2: P1\" as E8  [[psysml:32558afe-9574-460d-81c7-219976cfcf7f ]] {\r\n",
       "portin \"pdest \" as E9  <<(T,blue) port>> [[psysml:9d4715a0-ecad-4cb9-af91-593b0378d847 ]] \r\n",
       "portin \"pdest \" as E10  <<(T,blue) port>> [[psysml:9d4715a0-ecad-4cb9-af91-593b0378d847 ]] \r\n",
       "}\r\n",
       "}\r\n",
       "E6 - -:|> E3 [[psysml:bae878c2-3025-4ed8-bae0-781c13e39aed ]] \r\n",
       "E8 - -:|> E3 [[psysml:22f6621f-c82b-45b4-aad5-95fd1a975c3d ]] \r\n",
       "E7 -[thickness=3]- \"*\"E9 [[psysml:e347aa3d-31a4-4502-9422-b0b7e8733c17 ]] \r\n",
       "E7 -[thickness=3]- \"*\"E9 [[psysml:6852a8da-427c-4993-bbf6-22174e5f8d33 ]] \r\n",
       "@enduml\r\n",
       "\n",
       "PlantUML version 1.2020.13(Sat Jun 13 12:26:38 UTC 2020)\n",
       "(EPL source distribution)\n",
       "Java Runtime: OpenJDK Runtime Environment\n",
       "JVM: OpenJDK 64-Bit Server VM\n",
       "Default Encoding: UTF-8\n",
       "Language: en\n",
       "Country: null\n",
       "--></g></svg>"
      ]
     },
     "execution_count": 26,
     "metadata": {},
     "output_type": "execute_result"
    }
   ],
   "source": [
    "%viz --style=\"STDCOLOR\" --view=\"Interconnection\" \"AliasTest\""
   ]
  },
  {
   "cell_type": "code",
   "execution_count": 27,
   "id": "49f39e1b",
   "metadata": {
    "execution": {
     "iopub.execute_input": "2022-04-22T09:51:32.666366Z",
     "iopub.status.busy": "2022-04-22T09:51:32.665887Z",
     "iopub.status.idle": "2022-04-22T09:51:32.671716Z",
     "shell.execute_reply": "2022-04-22T09:51:32.671320Z"
    }
   },
   "outputs": [
    {
     "data": {
      "image/svg+xml": [
       "<?xml version=\"1.0\" encoding=\"UTF-8\" standalone=\"no\"?><svg xmlns=\"http://www.w3.org/2000/svg\" xmlns:xlink=\"http://www.w3.org/1999/xlink\" contentScriptType=\"application/ecmascript\" contentStyleType=\"text/css\" height=\"12px\" preserveAspectRatio=\"none\" style=\"width:12px;height:12px;\" version=\"1.1\" viewBox=\"0 0 12 12\" width=\"12px\" zoomAndPan=\"magnify\"><defs/><g><!--MD5=[9863325348a96a77dacc89509d8ee65e]\n",
       "@startuml\r\n",
       "skinparam ranksep 8\r\n",
       "skinparam wrapWidth 300\r\n",
       "hide circle\r\n",
       "\r\n",
       "@enduml\r\n",
       "\n",
       "PlantUML version 1.2020.13(Sat Jun 13 12:26:38 UTC 2020)\n",
       "(EPL source distribution)\n",
       "Java Runtime: OpenJDK Runtime Environment\n",
       "JVM: OpenJDK 64-Bit Server VM\n",
       "Default Encoding: UTF-8\n",
       "Language: en\n",
       "Country: null\n",
       "--></g></svg>"
      ]
     },
     "execution_count": 27,
     "metadata": {},
     "output_type": "execute_result"
    }
   ],
   "source": [
    "%viz --style=\"STDCOLOR\" --view=\"Action\" \"AliasTest\""
   ]
  },
  {
   "cell_type": "code",
   "execution_count": 28,
   "id": "2c7192d6",
   "metadata": {
    "execution": {
     "iopub.execute_input": "2022-04-22T09:51:32.721392Z",
     "iopub.status.busy": "2022-04-22T09:51:32.720979Z",
     "iopub.status.idle": "2022-04-22T09:51:32.725960Z",
     "shell.execute_reply": "2022-04-22T09:51:32.726277Z"
    }
   },
   "outputs": [
    {
     "data": {
      "image/svg+xml": [
       "<?xml version=\"1.0\" encoding=\"UTF-8\" standalone=\"no\"?><svg xmlns=\"http://www.w3.org/2000/svg\" xmlns:xlink=\"http://www.w3.org/1999/xlink\" contentScriptType=\"application/ecmascript\" contentStyleType=\"text/css\" height=\"12px\" preserveAspectRatio=\"none\" style=\"width:12px;height:12px;\" version=\"1.1\" viewBox=\"0 0 12 12\" width=\"12px\" zoomAndPan=\"magnify\"><defs/><g><!--MD5=[6c4bca67b4d71758159a5a7f1f1e1fc2]\n",
       "@startuml\r\n",
       "skinparam roundcorner 20\r\n",
       "skinparam BoxPadding 20\r\n",
       "skinparam SequenceBoxBackgroundColor #white\r\n",
       "skinparam style strictuml\r\n",
       "skinparam maxMessageSize 100\r\n",
       "skinparam wrapWidth 300\r\n",
       "hide circle\r\n",
       "\r\n",
       "@enduml\r\n",
       "\n",
       "PlantUML version 1.2020.13(Sat Jun 13 12:26:38 UTC 2020)\n",
       "(EPL source distribution)\n",
       "Java Runtime: OpenJDK Runtime Environment\n",
       "JVM: OpenJDK 64-Bit Server VM\n",
       "Default Encoding: UTF-8\n",
       "Language: en\n",
       "Country: null\n",
       "--></g></svg>"
      ]
     },
     "execution_count": 28,
     "metadata": {},
     "output_type": "execute_result"
    }
   ],
   "source": [
    "%viz --style=\"STDCOLOR\" --view=\"Sequence\" \"AliasTest\""
   ]
  },
  {
   "cell_type": "code",
   "execution_count": 29,
   "id": "08c6fa8b",
   "metadata": {
    "execution": {
     "iopub.execute_input": "2022-04-22T09:51:32.776463Z",
     "iopub.status.busy": "2022-04-22T09:51:32.776052Z",
     "iopub.status.idle": "2022-04-22T09:51:32.815665Z",
     "shell.execute_reply": "2022-04-22T09:51:32.815312Z"
    }
   },
   "outputs": [
    {
     "data": {
      "image/svg+xml": [
       "<?xml version=\"1.0\" encoding=\"UTF-8\" standalone=\"no\"?><svg xmlns=\"http://www.w3.org/2000/svg\" xmlns:xlink=\"http://www.w3.org/1999/xlink\" contentScriptType=\"application/ecmascript\" contentStyleType=\"text/css\" height=\"327px\" preserveAspectRatio=\"none\" style=\"width:406px;height:327px;\" version=\"1.1\" viewBox=\"0 0 406 327\" width=\"406px\" zoomAndPan=\"magnify\"><defs><filter height=\"300%\" id=\"fzjgavssbipxs\" width=\"300%\" x=\"-1\" y=\"-1\"><feGaussianBlur result=\"blurOut\" stdDeviation=\"2.0\"/><feColorMatrix in=\"blurOut\" result=\"blurOut2\" type=\"matrix\" values=\"0 0 0 0 0 0 0 0 0 0 0 0 0 0 0 0 0 0 .4 0\"/><feOffset dx=\"4.0\" dy=\"4.0\" in=\"blurOut2\" result=\"blurOut3\"/><feBlend in=\"SourceGraphic\" in2=\"blurOut3\" mode=\"normal\"/></filter></defs><g><!--MD5=[fbc87193dbaf4d95561dea2c320d4a47]\n",
       "cluster E1--><a href=\"psysml:5020e8e8-e597-4a8a-8c84-9076441471bb\" target=\"_top\" title=\"psysml:5020e8e8-e597-4a8a-8c84-9076441471bb\" xlink:actuate=\"onRequest\" xlink:href=\"psysml:5020e8e8-e597-4a8a-8c84-9076441471bb\" xlink:show=\"new\" xlink:title=\"psysml:5020e8e8-e597-4a8a-8c84-9076441471bb\" xlink:type=\"simple\"><polygon fill=\"#FFFFFF\" filter=\"url(#fzjgavssbipxs)\" points=\"16,6,84,6,91,28.2969,384,28.2969,384,315,16,315,16,6\" style=\"stroke: #000000; stroke-width: 1.5;\"/><line style=\"stroke: #000000; stroke-width: 1.5;\" x1=\"16\" x2=\"91\" y1=\"28.2969\" y2=\"28.2969\"/><text fill=\"#000000\" font-family=\"sans-serif\" font-size=\"14\" font-weight=\"bold\" lengthAdjust=\"spacingAndGlyphs\" textLength=\"62\" x=\"20\" y=\"20.9951\">AliasTest</text></a><!--MD5=[b4997ac47864f28c2f74865a473b2911]\n",
       "class E2--><a href=\"psysml:09023520-b272-4b76-a802-4be530536a95\" target=\"_top\" title=\"psysml:09023520-b272-4b76-a802-4be530536a95\" xlink:actuate=\"onRequest\" xlink:href=\"psysml:09023520-b272-4b76-a802-4be530536a95\" xlink:show=\"new\" xlink:title=\"psysml:09023520-b272-4b76-a802-4be530536a95\" xlink:type=\"simple\"><rect fill=\"#FEFECE\" filter=\"url(#fzjgavssbipxs)\" height=\"45.9375\" id=\"E2\" rx=\"10\" ry=\"10\" style=\"stroke: #A80036; stroke-width: 1.5;\" width=\"165\" x=\"202.5\" y=\"41\"/><text fill=\"#000000\" font-family=\"sans-serif\" font-size=\"12\" font-style=\"italic\" lengthAdjust=\"spacingAndGlyphs\" textLength=\"69\" x=\"250.5\" y=\"57.1387\">«attribute»</text><text fill=\"#000000\" font-family=\"sans-serif\" font-size=\"12\" lengthAdjust=\"spacingAndGlyphs\" textLength=\"159\" x=\"205.5\" y=\"71.1074\">b :&gt; ISQSpaceTime::width</text><line style=\"stroke: #A80036; stroke-width: 1.5;\" x1=\"203.5\" x2=\"366.5\" y1=\"78.9375\" y2=\"78.9375\"/></a><!--MD5=[09b614a08d8cba4a07c9adeb5e0fee81]\n",
       "class E3--><a href=\"psysml:2d23ecbc-8f8b-40e5-8168-7a4eefd95afa\" target=\"_top\" title=\"psysml:2d23ecbc-8f8b-40e5-8168-7a4eefd95afa\" xlink:actuate=\"onRequest\" xlink:href=\"psysml:2d23ecbc-8f8b-40e5-8168-7a4eefd95afa\" xlink:show=\"new\" xlink:title=\"psysml:2d23ecbc-8f8b-40e5-8168-7a4eefd95afa\" xlink:type=\"simple\"><rect fill=\"#FEFECE\" filter=\"url(#fzjgavssbipxs)\" height=\"45.9375\" id=\"E3\" style=\"stroke: #A80036; stroke-width: 1.5;\" width=\"70\" x=\"170\" y=\"147\"/><text fill=\"#000000\" font-family=\"sans-serif\" font-size=\"12\" font-style=\"italic\" lengthAdjust=\"spacingAndGlyphs\" textLength=\"68\" x=\"171\" y=\"163.1387\">«part  def»</text><text fill=\"#000000\" font-family=\"sans-serif\" font-size=\"12\" lengthAdjust=\"spacingAndGlyphs\" textLength=\"16\" x=\"197\" y=\"177.1074\">P1</text><line style=\"stroke: #A80036; stroke-width: 1.5;\" x1=\"171\" x2=\"239\" y1=\"184.9375\" y2=\"184.9375\"/></a><!--MD5=[ebbe1d658d1005bcc118a6aa81145e00]\n",
       "class E4--><a href=\"psysml:371120a0-4800-4c08-b9c5-19a2f97c5f1a\" target=\"_top\" title=\"psysml:371120a0-4800-4c08-b9c5-19a2f97c5f1a\" xlink:actuate=\"onRequest\" xlink:href=\"psysml:371120a0-4800-4c08-b9c5-19a2f97c5f1a\" xlink:show=\"new\" xlink:title=\"psysml:371120a0-4800-4c08-b9c5-19a2f97c5f1a\" xlink:type=\"simple\"><rect fill=\"#FEFECE\" filter=\"url(#fzjgavssbipxs)\" height=\"45.9375\" id=\"E4\" rx=\"10\" ry=\"10\" style=\"stroke: #A80036; stroke-width: 1.5;\" width=\"50\" x=\"180\" y=\"253\"/><text fill=\"#000000\" font-family=\"sans-serif\" font-size=\"12\" font-style=\"italic\" lengthAdjust=\"spacingAndGlyphs\" textLength=\"40\" x=\"185\" y=\"269.1387\">«port»</text><text fill=\"#000000\" font-family=\"sans-serif\" font-size=\"12\" lengthAdjust=\"spacingAndGlyphs\" textLength=\"40\" x=\"183\" y=\"283.1074\">porig1</text><line style=\"stroke: #A80036; stroke-width: 1.5;\" x1=\"181\" x2=\"229\" y1=\"290.9375\" y2=\"290.9375\"/></a><!--MD5=[270fce915f116d4de14055a7c1d9a0f3]\n",
       "class E5--><a href=\"psysml:23efd2aa-8423-4d75-9f93-6567d973731c\" target=\"_top\" title=\"psysml:23efd2aa-8423-4d75-9f93-6567d973731c\" xlink:actuate=\"onRequest\" xlink:href=\"psysml:23efd2aa-8423-4d75-9f93-6567d973731c\" xlink:show=\"new\" xlink:title=\"psysml:23efd2aa-8423-4d75-9f93-6567d973731c\" xlink:type=\"simple\"><rect fill=\"#FEFECE\" filter=\"url(#fzjgavssbipxs)\" height=\"45.9375\" id=\"E5\" rx=\"10\" ry=\"10\" style=\"stroke: #A80036; stroke-width: 1.5;\" width=\"50\" x=\"117\" y=\"41\"/><text fill=\"#000000\" font-family=\"sans-serif\" font-size=\"12\" font-style=\"italic\" lengthAdjust=\"spacingAndGlyphs\" textLength=\"40\" x=\"122\" y=\"57.1387\">«part»</text><text fill=\"#000000\" font-family=\"sans-serif\" font-size=\"12\" lengthAdjust=\"spacingAndGlyphs\" textLength=\"40\" x=\"120\" y=\"71.1074\">p1: P1</text><line style=\"stroke: #A80036; stroke-width: 1.5;\" x1=\"118\" x2=\"166\" y1=\"78.9375\" y2=\"78.9375\"/></a><!--MD5=[60a26617385b1d2d0262a64233df1f8d]\n",
       "class E6--><a href=\"psysml:a6a8a5d4-8051-439c-be85-1eee73d04018\" target=\"_top\" title=\"psysml:a6a8a5d4-8051-439c-be85-1eee73d04018\" xlink:actuate=\"onRequest\" xlink:href=\"psysml:a6a8a5d4-8051-439c-be85-1eee73d04018\" xlink:show=\"new\" xlink:title=\"psysml:a6a8a5d4-8051-439c-be85-1eee73d04018\" xlink:type=\"simple\"><rect fill=\"#FEFECE\" filter=\"url(#fzjgavssbipxs)\" height=\"45.9375\" id=\"E6\" rx=\"10\" ry=\"10\" style=\"stroke: #A80036; stroke-width: 1.5;\" width=\"42\" x=\"93\" y=\"147\"/><text fill=\"#000000\" font-family=\"sans-serif\" font-size=\"12\" font-style=\"italic\" lengthAdjust=\"spacingAndGlyphs\" textLength=\"40\" x=\"94\" y=\"163.1387\">«port»</text><text fill=\"#000000\" font-family=\"sans-serif\" font-size=\"12\" lengthAdjust=\"spacingAndGlyphs\" textLength=\"24\" x=\"100\" y=\"177.1074\">po1</text><line style=\"stroke: #A80036; stroke-width: 1.5;\" x1=\"94\" x2=\"134\" y1=\"184.9375\" y2=\"184.9375\"/></a><!--MD5=[2156ba9850f5573cc1fc38a6a4b2f02b]\n",
       "class E7--><a href=\"psysml:32558afe-9574-460d-81c7-219976cfcf7f\" target=\"_top\" title=\"psysml:32558afe-9574-460d-81c7-219976cfcf7f\" xlink:actuate=\"onRequest\" xlink:href=\"psysml:32558afe-9574-460d-81c7-219976cfcf7f\" xlink:show=\"new\" xlink:title=\"psysml:32558afe-9574-460d-81c7-219976cfcf7f\" xlink:type=\"simple\"><rect fill=\"#FEFECE\" filter=\"url(#fzjgavssbipxs)\" height=\"45.9375\" id=\"E7\" rx=\"10\" ry=\"10\" style=\"stroke: #A80036; stroke-width: 1.5;\" width=\"50\" x=\"32\" y=\"41\"/><text fill=\"#000000\" font-family=\"sans-serif\" font-size=\"12\" font-style=\"italic\" lengthAdjust=\"spacingAndGlyphs\" textLength=\"40\" x=\"37\" y=\"57.1387\">«part»</text><text fill=\"#000000\" font-family=\"sans-serif\" font-size=\"12\" lengthAdjust=\"spacingAndGlyphs\" textLength=\"40\" x=\"35\" y=\"71.1074\">p2: P1</text><line style=\"stroke: #A80036; stroke-width: 1.5;\" x1=\"33\" x2=\"81\" y1=\"78.9375\" y2=\"78.9375\"/></a><!--MD5=[b9389687b975829384b498ac4b7476b2]\n",
       "class E8--><a href=\"psysml:9d4715a0-ecad-4cb9-af91-593b0378d847\" target=\"_top\" title=\"psysml:9d4715a0-ecad-4cb9-af91-593b0378d847\" xlink:actuate=\"onRequest\" xlink:href=\"psysml:9d4715a0-ecad-4cb9-af91-593b0378d847\" xlink:show=\"new\" xlink:title=\"psysml:9d4715a0-ecad-4cb9-af91-593b0378d847\" xlink:type=\"simple\"><rect fill=\"#FEFECE\" filter=\"url(#fzjgavssbipxs)\" height=\"45.9375\" id=\"E8\" rx=\"10\" ry=\"10\" style=\"stroke: #A80036; stroke-width: 1.5;\" width=\"46\" x=\"63\" y=\"253\"/><text fill=\"#000000\" font-family=\"sans-serif\" font-size=\"12\" font-style=\"italic\" lengthAdjust=\"spacingAndGlyphs\" textLength=\"40\" x=\"66\" y=\"269.1387\">«port»</text><text fill=\"#000000\" font-family=\"sans-serif\" font-size=\"12\" lengthAdjust=\"spacingAndGlyphs\" textLength=\"36\" x=\"66\" y=\"283.1074\">pdest</text><line style=\"stroke: #A80036; stroke-width: 1.5;\" x1=\"64\" x2=\"108\" y1=\"290.9375\" y2=\"290.9375\"/></a><!--MD5=[4672eba38e49728da53d11aeb285b987]\n",
       "reverse link E3 to E4--><a href=\"psysml:77da464e-a07c-41d7-bf00-c994457c7429\" target=\"_top\" title=\"psysml:77da464e-a07c-41d7-bf00-c994457c7429\" xlink:actuate=\"onRequest\" xlink:href=\"psysml:77da464e-a07c-41d7-bf00-c994457c7429\" xlink:show=\"new\" xlink:title=\"psysml:77da464e-a07c-41d7-bf00-c994457c7429\" xlink:type=\"simple\"><path d=\"M192.84,206.44 C191.7,221.87 192.21,239.47 194.36,252.98 \" fill=\"none\" id=\"E3&lt;-E4\" style=\"stroke: #A80036; stroke-width: 1.0;\"/><polygon fill=\"#FFFFFF\" points=\"194.35,193.06,189.7032,198.5743,193.006,204.9845,197.6528,199.4702,194.35,193.06\" style=\"stroke: #A80036; stroke-width: 1.0;\"/><text fill=\"#000000\" font-family=\"sans-serif\" font-size=\"13\" lengthAdjust=\"spacingAndGlyphs\" textLength=\"8\" x=\"182.4255\" y=\"241.8709\">1</text></a><!--MD5=[4672eba38e49728da53d11aeb285b987]\n",
       "reverse link E3 to E4--><a href=\"psysml:2fb80261-1acb-4246-9b34-6566336881f2\" target=\"_top\" title=\"psysml:2fb80261-1acb-4246-9b34-6566336881f2\" xlink:actuate=\"onRequest\" xlink:href=\"psysml:2fb80261-1acb-4246-9b34-6566336881f2\" xlink:show=\"new\" xlink:title=\"psysml:2fb80261-1acb-4246-9b34-6566336881f2\" xlink:type=\"simple\"><path d=\"M218.01,208.34 C219.03,223.3 218.45,240.02 216.27,252.98 \" fill=\"none\" id=\"E3&lt;-E4-1\" style=\"stroke: #A80036; stroke-width: 1.0; stroke-dasharray: 7.0,7.0;\"/><ellipse cx=\"217.1693\" cy=\"201.0093\" fill=\"#FFFFFF\" rx=\"8\" ry=\"8\" style=\"stroke: #A80036; stroke-width: 1.0;\"/><line style=\"stroke: #A80036; stroke-width: 1.0;\" x1=\"218.0687\" x2=\"216.27\" y1=\"208.9586\" y2=\"193.06\"/><line style=\"stroke: #A80036; stroke-width: 1.0;\" x1=\"209.2201\" x2=\"225.1186\" y1=\"201.9086\" y2=\"200.1099\"/><text fill=\"#000000\" font-family=\"sans-serif\" font-size=\"13\" lengthAdjust=\"spacingAndGlyphs\" textLength=\"8\" x=\"210.2238\" y=\"241.8709\">1</text></a><!--MD5=[e9be52314489bd878ff4c7144b63c9e1]\n",
       "link E5 to E3--><a href=\"psysml:bae878c2-3025-4ed8-bae0-781c13e39aed\" target=\"_top\" title=\"psysml:bae878c2-3025-4ed8-bae0-781c13e39aed\" xlink:actuate=\"onRequest\" xlink:href=\"psysml:bae878c2-3025-4ed8-bae0-781c13e39aed\" xlink:show=\"new\" xlink:title=\"psysml:bae878c2-3025-4ed8-bae0-781c13e39aed\" xlink:type=\"simple\"><path d=\"M155.36,87.06 C162.88,99.47 172.49,115.33 181.24,129.78 \" fill=\"none\" id=\"E5-&gt;E3\" style=\"stroke: #A80036; stroke-width: 1.0;\"/><polygon fill=\"#FFFFFF\" points=\"191.66,146.98,175.8217,134.3646,187.792,127.1044,191.66,146.98\" style=\"stroke: #A80036; stroke-width: 1.0;\"/><ellipse cx=\"174.5758\" cy=\"128.4538\" fill=\"#A80036\" rx=\"2\" ry=\"2\" style=\"stroke: #A80036; stroke-width: 1.0;\"/><ellipse cx=\"183.126\" cy=\"123.2679\" fill=\"#A80036\" rx=\"2\" ry=\"2\" style=\"stroke: #A80036; stroke-width: 1.0;\"/></a><!--MD5=[85d356282659285ab4b2cfe2f634dd2b]\n",
       "reverse link E5 to E6--><a href=\"psysml:cd2d9195-2d40-49eb-a50a-4bb167712418\" target=\"_top\" title=\"psysml:cd2d9195-2d40-49eb-a50a-4bb167712418\" xlink:actuate=\"onRequest\" xlink:href=\"psysml:cd2d9195-2d40-49eb-a50a-4bb167712418\" xlink:show=\"new\" xlink:title=\"psysml:cd2d9195-2d40-49eb-a50a-4bb167712418\" xlink:type=\"simple\"><path d=\"M132.59,99.96 C128.4,115.51 123.6,133.33 119.93,146.98 \" fill=\"none\" id=\"E5&lt;-E6\" style=\"stroke: #A80036; stroke-width: 1.0;\"/><polygon fill=\"#FFFFFF\" points=\"136.06,87.06,130.641,91.8176,132.9484,98.6496,138.3674,93.892,136.06,87.06\" style=\"stroke: #A80036; stroke-width: 1.0;\"/><text fill=\"#000000\" font-family=\"sans-serif\" font-size=\"13\" lengthAdjust=\"spacingAndGlyphs\" textLength=\"8\" x=\"112.4487\" y=\"135.8709\">1</text></a><!--MD5=[f667431f98296947986a1a7595a31603]\n",
       "link E6 to E4--><a href=\"psysml:9b4aa44d-c7fb-440f-8f9d-ccf8058f014a\" target=\"_top\" title=\"psysml:9b4aa44d-c7fb-440f-8f9d-ccf8058f014a\" xlink:actuate=\"onRequest\" xlink:href=\"psysml:9b4aa44d-c7fb-440f-8f9d-ccf8058f014a\" xlink:show=\"new\" xlink:title=\"psysml:9b4aa44d-c7fb-440f-8f9d-ccf8058f014a\" xlink:type=\"simple\"><path d=\"M133.3,193.06 C144.64,206.02 159.28,222.74 172.36,237.7 \" fill=\"none\" id=\"E6-&gt;E4\" style=\"stroke: #A80036; stroke-width: 1.0;\"/><polygon fill=\"#FFFFFF\" points=\"185.73,252.98,167.9517,243.2882,178.489,234.0705,185.73,252.98\" style=\"stroke: #A80036; stroke-width: 1.0;\"/><line style=\"stroke: #A80036; stroke-width: 2.0;\" x1=\"165.4497\" x2=\"175.9871\" y1=\"240.4281\" y2=\"231.2104\"/></a><!--MD5=[14ccda38c055a5c0da953d572bc50960]\n",
       "link E7 to E3--><a href=\"psysml:22f6621f-c82b-45b4-aad5-95fd1a975c3d\" target=\"_top\" title=\"psysml:22f6621f-c82b-45b4-aad5-95fd1a975c3d\" xlink:actuate=\"onRequest\" xlink:href=\"psysml:22f6621f-c82b-45b4-aad5-95fd1a975c3d\" xlink:show=\"new\" xlink:title=\"psysml:22f6621f-c82b-45b4-aad5-95fd1a975c3d\" xlink:type=\"simple\"><path d=\"M82.11,82.64 C102.61,97.05 132.18,117.83 157.18,135.39 \" fill=\"none\" id=\"E7-&gt;E3\" style=\"stroke: #A80036; stroke-width: 1.0;\"/><polygon fill=\"#FFFFFF\" points=\"173.58,146.92,154.011,141.7187,162.0629,130.266,173.58,146.92\" style=\"stroke: #A80036; stroke-width: 1.0;\"/><ellipse cx=\"150.4983\" cy=\"136.8043\" fill=\"#A80036\" rx=\"2\" ry=\"2\" style=\"stroke: #A80036; stroke-width: 1.0;\"/><ellipse cx=\"156.2497\" cy=\"128.6238\" fill=\"#A80036\" rx=\"2\" ry=\"2\" style=\"stroke: #A80036; stroke-width: 1.0;\"/></a><!--MD5=[dc164f5e8a733ab456ef1add180e9e34]\n",
       "reverse link E7 to E8--><a href=\"psysml:22337106-f0e5-4c32-83fd-01b8d559ead1\" target=\"_top\" title=\"psysml:22337106-f0e5-4c32-83fd-01b8d559ead1\" xlink:actuate=\"onRequest\" xlink:href=\"psysml:22337106-f0e5-4c32-83fd-01b8d559ead1\" xlink:show=\"new\" xlink:title=\"psysml:22337106-f0e5-4c32-83fd-01b8d559ead1\" xlink:type=\"simple\"><path d=\"M52.05,100.09 C53.65,143.61 64.25,216.5 74.75,252.9 \" fill=\"none\" id=\"E7&lt;-E8\" style=\"stroke: #A80036; stroke-width: 1.0;\"/><polygon fill=\"#FFFFFF\" points=\"51.85,87.08,47.9362,93.1366,52.0216,99.0788,55.9354,93.0222,51.85,87.08\" style=\"stroke: #A80036; stroke-width: 1.0;\"/><text fill=\"#000000\" font-family=\"sans-serif\" font-size=\"13\" lengthAdjust=\"spacingAndGlyphs\" textLength=\"8\" x=\"62.6516\" y=\"241.7694\">1</text></a><!--MD5=[dc164f5e8a733ab456ef1add180e9e34]\n",
       "reverse link E7 to E8--><a href=\"psysml:3441a1bf-d119-4e2c-bd85-6011f03ceff2\" target=\"_top\" title=\"psysml:3441a1bf-d119-4e2c-bd85-6011f03ceff2\" xlink:actuate=\"onRequest\" xlink:href=\"psysml:3441a1bf-d119-4e2c-bd85-6011f03ceff2\" xlink:show=\"new\" xlink:title=\"psysml:3441a1bf-d119-4e2c-bd85-6011f03ceff2\" xlink:type=\"simple\"><path d=\"M72.64,101.8 C83.15,145.5 92.39,216.97 91.63,252.9 \" fill=\"none\" id=\"E7&lt;-E8-1\" style=\"stroke: #A80036; stroke-width: 1.0; stroke-dasharray: 7.0,7.0;\"/><ellipse cx=\"70.7794\" cy=\"94.813\" fill=\"#FFFFFF\" rx=\"8\" ry=\"8\" style=\"stroke: #A80036; stroke-width: 1.0;\"/><line style=\"stroke: #A80036; stroke-width: 1.0;\" x1=\"72.8289\" x2=\"68.73\" y1=\"102.5461\" y2=\"87.08\"/><line style=\"stroke: #A80036; stroke-width: 1.0;\" x1=\"63.0464\" x2=\"78.5125\" y1=\"96.8625\" y2=\"92.7636\"/><text fill=\"#000000\" font-family=\"sans-serif\" font-size=\"13\" lengthAdjust=\"spacingAndGlyphs\" textLength=\"8\" x=\"94.2181\" y=\"241.7694\">1</text></a><!--MD5=[0a839d0f80c2d72d4b9b307f046d0de8]\n",
       "link E6 to E8--><a href=\"psysml:e347aa3d-31a4-4502-9422-b0b7e8733c17\" target=\"_top\" title=\"psysml:e347aa3d-31a4-4502-9422-b0b7e8733c17\" xlink:actuate=\"onRequest\" xlink:href=\"psysml:e347aa3d-31a4-4502-9422-b0b7e8733c17\" xlink:show=\"new\" xlink:title=\"psysml:e347aa3d-31a4-4502-9422-b0b7e8733c17\" xlink:type=\"simple\"><path d=\"M97.42,193.06 C89.86,210.7 83.23,235.34 81.29,252.98 \" fill=\"none\" id=\"E6-E8\" style=\"stroke: #A80036; stroke-width: 3.0;\"/><text fill=\"#000000\" font-family=\"sans-serif\" font-size=\"13\" lengthAdjust=\"spacingAndGlyphs\" textLength=\"7\" x=\"80.9648\" y=\"241.8709\">*</text></a><!--MD5=[0a839d0f80c2d72d4b9b307f046d0de8]\n",
       "link E6 to E8--><a href=\"psysml:6852a8da-427c-4993-bbf6-22174e5f8d33\" target=\"_top\" title=\"psysml:6852a8da-427c-4993-bbf6-22174e5f8d33\" xlink:actuate=\"onRequest\" xlink:href=\"psysml:6852a8da-427c-4993-bbf6-22174e5f8d33\" xlink:show=\"new\" xlink:title=\"psysml:6852a8da-427c-4993-bbf6-22174e5f8d33\" xlink:type=\"simple\"><path d=\"M119.33,193.06 C117.55,210.7 110.92,235.34 103.2,252.98 \" fill=\"none\" id=\"E6-E8-1\" style=\"stroke: #A80036; stroke-width: 3.0;\"/><text fill=\"#000000\" font-family=\"sans-serif\" font-size=\"13\" lengthAdjust=\"spacingAndGlyphs\" textLength=\"7\" x=\"99.8819\" y=\"241.8709\">*</text></a><!--MD5=[152ea7540d3e3945184c2bf05861bc11]\n",
       "@startuml\r\n",
       "skinparam wrapWidth 300\r\n",
       "hide circle\r\n",
       "\r\n",
       "package \"AliasTest\" as E1  [[psysml:5020e8e8-e597-4a8a-8c84-9076441471bb ]]  {\r\n",
       "comp usage \"b :> ISQSpaceTime::width\" as E2  <<(T,blue) attribute>> [[psysml:09023520-b272-4b76-a802-4be530536a95 ]] {\r\n",
       "}\r\n",
       "comp def \"P1\" as E3  <<(T,blue) part  def>> [[psysml:2d23ecbc-8f8b-40e5-8168-7a4eefd95afa ]] {\r\n",
       "}\r\n",
       "comp usage \"porig1 \" as E4  <<(T,blue) port>> [[psysml:371120a0-4800-4c08-b9c5-19a2f97c5f1a ]] {\r\n",
       "}\r\n",
       "comp usage \"p1: P1 \" as E5  <<(T,blue) part>> [[psysml:23efd2aa-8423-4d75-9f93-6567d973731c ]] {\r\n",
       "}\r\n",
       "comp usage \"po1 \" as E6  <<(T,blue) port>> [[psysml:a6a8a5d4-8051-439c-be85-1eee73d04018 ]] {\r\n",
       "}\r\n",
       "comp usage \"p2: P1 \" as E7  <<(T,blue) part>> [[psysml:32558afe-9574-460d-81c7-219976cfcf7f ]] {\r\n",
       "}\r\n",
       "comp usage \"pdest \" as E8  <<(T,blue) port>> [[psysml:9d4715a0-ecad-4cb9-af91-593b0378d847 ]] {\r\n",
       "}\r\n",
       "}\r\n",
       "E3 o- - \"1\"E4 [[psysml:77da464e-a07c-41d7-bf00-c994457c7429 ]] \r\n",
       "E3 +.. \"1\"E4 [[psysml:2fb80261-1acb-4246-9b34-6566336881f2 ]] \r\n",
       "E5 - -:|> E3 [[psysml:bae878c2-3025-4ed8-bae0-781c13e39aed ]] \r\n",
       "E5 o- - \"1\"E6 [[psysml:cd2d9195-2d40-49eb-a50a-4bb167712418 ]] \r\n",
       "E6 - -||> E4 [[psysml:9b4aa44d-c7fb-440f-8f9d-ccf8058f014a ]] \r\n",
       "E7 - -:|> E3 [[psysml:22f6621f-c82b-45b4-aad5-95fd1a975c3d ]] \r\n",
       "E7 o- - \"1\"E8 [[psysml:22337106-f0e5-4c32-83fd-01b8d559ead1 ]] \r\n",
       "E7 +.. \"1\"E8 [[psysml:3441a1bf-d119-4e2c-bd85-6011f03ceff2 ]] \r\n",
       "E6 -[thickness=3]- \"*\"E8 [[psysml:e347aa3d-31a4-4502-9422-b0b7e8733c17 ]] \r\n",
       "E6 -[thickness=3]- \"*\"E8 [[psysml:6852a8da-427c-4993-bbf6-22174e5f8d33 ]] \r\n",
       "@enduml\r\n",
       "\n",
       "PlantUML version 1.2020.13(Sat Jun 13 12:26:38 UTC 2020)\n",
       "(EPL source distribution)\n",
       "Java Runtime: OpenJDK Runtime Environment\n",
       "JVM: OpenJDK 64-Bit Server VM\n",
       "Default Encoding: UTF-8\n",
       "Language: en\n",
       "Country: null\n",
       "--></g></svg>"
      ]
     },
     "execution_count": 29,
     "metadata": {},
     "output_type": "execute_result"
    }
   ],
   "source": [
    "%viz --style=\"STDCOLOR\" --view=\"MIXED\" \"AliasTest\""
   ]
  },
  {
   "cell_type": "code",
   "execution_count": 30,
   "id": "20f70e24",
   "metadata": {
    "execution": {
     "iopub.execute_input": "2022-04-22T09:51:32.865369Z",
     "iopub.status.busy": "2022-04-22T09:51:32.864968Z",
     "iopub.status.idle": "2022-04-22T09:51:32.933604Z",
     "shell.execute_reply": "2022-04-22T09:51:32.933226Z"
    }
   },
   "outputs": [
    {
     "data": {
      "image/svg+xml": [
       "<?xml version=\"1.0\" encoding=\"UTF-8\" standalone=\"no\"?><svg xmlns=\"http://www.w3.org/2000/svg\" xmlns:xlink=\"http://www.w3.org/1999/xlink\" contentScriptType=\"application/ecmascript\" contentStyleType=\"text/css\" height=\"327px\" preserveAspectRatio=\"none\" style=\"width:484px;height:327px;\" version=\"1.1\" viewBox=\"0 0 484 327\" width=\"484px\" zoomAndPan=\"magnify\"><defs><filter height=\"300%\" id=\"f15u7ku9tv660j\" width=\"300%\" x=\"-1\" y=\"-1\"><feGaussianBlur result=\"blurOut\" stdDeviation=\"2.0\"/><feColorMatrix in=\"blurOut\" result=\"blurOut2\" type=\"matrix\" values=\"0 0 0 0 0 0 0 0 0 0 0 0 0 0 0 0 0 0 .4 0\"/><feOffset dx=\"4.0\" dy=\"4.0\" in=\"blurOut2\" result=\"blurOut3\"/><feBlend in=\"SourceGraphic\" in2=\"blurOut3\" mode=\"normal\"/></filter></defs><g><!--MD5=[fbc87193dbaf4d95561dea2c320d4a47]\n",
       "cluster E1--><a href=\"psysml:5020e8e8-e597-4a8a-8c84-9076441471bb\" target=\"_top\" title=\"psysml:5020e8e8-e597-4a8a-8c84-9076441471bb\" xlink:actuate=\"onRequest\" xlink:href=\"psysml:5020e8e8-e597-4a8a-8c84-9076441471bb\" xlink:show=\"new\" xlink:title=\"psysml:5020e8e8-e597-4a8a-8c84-9076441471bb\" xlink:type=\"simple\"><polygon fill=\"#FFFFFF\" filter=\"url(#f15u7ku9tv660j)\" points=\"16,6,84,6,91,28.2969,462,28.2969,462,315,16,315,16,6\" style=\"stroke: #000000; stroke-width: 1.5;\"/><line style=\"stroke: #000000; stroke-width: 1.5;\" x1=\"16\" x2=\"91\" y1=\"28.2969\" y2=\"28.2969\"/><text fill=\"#000000\" font-family=\"sans-serif\" font-size=\"14\" font-weight=\"bold\" lengthAdjust=\"spacingAndGlyphs\" textLength=\"62\" x=\"20\" y=\"20.9951\">AliasTest</text></a><!--MD5=[b4997ac47864f28c2f74865a473b2911]\n",
       "class E2--><a href=\"psysml:09023520-b272-4b76-a802-4be530536a95\" target=\"_top\" title=\"psysml:09023520-b272-4b76-a802-4be530536a95\" xlink:actuate=\"onRequest\" xlink:href=\"psysml:09023520-b272-4b76-a802-4be530536a95\" xlink:show=\"new\" xlink:title=\"psysml:09023520-b272-4b76-a802-4be530536a95\" xlink:type=\"simple\"><rect fill=\"#FEFECE\" filter=\"url(#f15u7ku9tv660j)\" height=\"45.9375\" id=\"E2\" rx=\"10\" ry=\"10\" style=\"stroke: #A80036; stroke-width: 1.5;\" width=\"191\" x=\"254.5\" y=\"41\"/><ellipse cx=\"269.5\" cy=\"59.9688\" fill=\"#FFA500\" rx=\"11\" ry=\"11\" style=\"stroke: #A80036; stroke-width: 1.0;\"/><path d=\"M269.25,65.4375 Q267.5,65.4375 266.5469,64.4063 Q265.6094,63.3594 265.6094,61.5156 L265.6094,54.625 L267.6719,54.625 L267.6719,54.7813 Q267.5781,54.875 267.5469,55.0156 Q267.5313,55.1406 267.5313,55.4063 L267.5313,61.5313 Q267.5313,62.625 267.9063,63.25 Q268.2813,63.875 269.2656,63.875 Q270.25,63.875 270.6406,63.25 Q271.0313,62.625 271.0313,61.4844 L271.0313,54.625 L272.9063,54.625 L272.9063,61.4688 Q272.9063,63.5 271.875,64.4688 Q270.8594,65.4375 269.25,65.4375 Z \"/><text fill=\"#000000\" font-family=\"sans-serif\" font-size=\"12\" font-style=\"italic\" lengthAdjust=\"spacingAndGlyphs\" textLength=\"69\" x=\"328.5\" y=\"57.1387\">«attribute»</text><text fill=\"#000000\" font-family=\"sans-serif\" font-size=\"12\" lengthAdjust=\"spacingAndGlyphs\" textLength=\"159\" x=\"283.5\" y=\"71.1074\">b :&gt; ISQSpaceTime::width</text><line style=\"stroke: #A80036; stroke-width: 1.5;\" x1=\"255.5\" x2=\"444.5\" y1=\"78.9375\" y2=\"78.9375\"/></a><!--MD5=[09b614a08d8cba4a07c9adeb5e0fee81]\n",
       "class E3--><a href=\"psysml:2d23ecbc-8f8b-40e5-8168-7a4eefd95afa\" target=\"_top\" title=\"psysml:2d23ecbc-8f8b-40e5-8168-7a4eefd95afa\" xlink:actuate=\"onRequest\" xlink:href=\"psysml:2d23ecbc-8f8b-40e5-8168-7a4eefd95afa\" xlink:show=\"new\" xlink:title=\"psysml:2d23ecbc-8f8b-40e5-8168-7a4eefd95afa\" xlink:type=\"simple\"><rect fill=\"#FEFECE\" filter=\"url(#f15u7ku9tv660j)\" height=\"40\" id=\"E3\" style=\"stroke: #A80036; stroke-width: 1.5;\" width=\"48\" x=\"209\" y=\"150\"/><ellipse cx=\"224\" cy=\"166\" fill=\"#008000\" rx=\"11\" ry=\"11\" style=\"stroke: #A80036; stroke-width: 1.0;\"/><path d=\"M220.875,171 L220.875,160.4063 L224.1094,160.4063 Q226.0156,160.4063 226.9219,161.1563 Q227.8438,161.9063 227.8438,163.0781 Q227.8438,163.7656 227.4531,164.4219 Q227.0781,165.0781 226.3594,165.375 Q227.2188,165.75 227.7344,166.4375 Q228.25,167.125 228.25,167.9375 Q228.25,169.3125 227.2188,170.1563 Q226.2031,171 224.0938,171 L220.875,171 Z M222.7969,164.6406 L223.9531,164.6406 Q225.0781,164.6406 225.4844,164.2656 Q225.9063,163.875 225.9063,163.25 Q225.9063,162.6719 225.4844,162.3125 Q225.0625,161.9531 224.125,161.9531 L222.7969,161.9531 L222.7969,164.6406 Z M222.7969,169.4219 L224.2969,169.4219 Q225.2031,169.4219 225.7344,169.0313 Q226.2656,168.6406 226.2656,167.8906 Q226.2656,167.125 225.7656,166.6563 Q225.2656,166.1719 224,166.1719 L222.7969,166.1719 L222.7969,169.4219 Z \"/><text fill=\"#000000\" font-family=\"sans-serif\" font-size=\"12\" lengthAdjust=\"spacingAndGlyphs\" textLength=\"16\" x=\"238\" y=\"170.1543\">P1</text><line style=\"stroke: #A80036; stroke-width: 1.5;\" x1=\"210\" x2=\"256\" y1=\"182\" y2=\"182\"/></a><!--MD5=[ebbe1d658d1005bcc118a6aa81145e00]\n",
       "class E4--><a href=\"psysml:371120a0-4800-4c08-b9c5-19a2f97c5f1a\" target=\"_top\" title=\"psysml:371120a0-4800-4c08-b9c5-19a2f97c5f1a\" xlink:actuate=\"onRequest\" xlink:href=\"psysml:371120a0-4800-4c08-b9c5-19a2f97c5f1a\" xlink:show=\"new\" xlink:title=\"psysml:371120a0-4800-4c08-b9c5-19a2f97c5f1a\" xlink:type=\"simple\"><rect fill=\"#FEFECE\" filter=\"url(#f15u7ku9tv660j)\" height=\"45.9375\" id=\"E4\" rx=\"10\" ry=\"10\" style=\"stroke: #A80036; stroke-width: 1.5;\" width=\"76\" x=\"195\" y=\"253\"/><ellipse cx=\"210\" cy=\"271.9688\" fill=\"#0000FF\" rx=\"11\" ry=\"11\" style=\"stroke: #A80036; stroke-width: 1.0;\"/><path d=\"M206.8125,276.9688 L206.8125,266.375 L210.4219,266.375 Q211.6406,266.375 212.4375,266.8125 Q213.2344,267.2344 213.6094,267.9375 Q214,268.6406 214,269.4844 Q214,270.3281 213.625,271.0156 Q213.2656,271.7031 212.4688,272.125 Q211.6875,272.5313 210.5,272.5313 L208.7656,272.5313 L208.7656,276.9688 L206.8125,276.9688 Z M208.7656,270.9375 L210.375,270.9375 Q211.1875,270.9375 211.6094,270.5313 Q212.0313,270.125 212.0313,269.4844 Q212.0313,268.8594 211.6094,268.4531 Q211.1875,268.0469 210.3906,268.0469 L208.7656,268.0469 L208.7656,270.9375 Z \"/><text fill=\"#000000\" font-family=\"sans-serif\" font-size=\"12\" font-style=\"italic\" lengthAdjust=\"spacingAndGlyphs\" textLength=\"40\" x=\"226\" y=\"269.1387\">«port»</text><text fill=\"#000000\" font-family=\"sans-serif\" font-size=\"12\" lengthAdjust=\"spacingAndGlyphs\" textLength=\"40\" x=\"224\" y=\"283.1074\">porig1</text><line style=\"stroke: #A80036; stroke-width: 1.5;\" x1=\"196\" x2=\"270\" y1=\"290.9375\" y2=\"290.9375\"/></a><!--MD5=[270fce915f116d4de14055a7c1d9a0f3]\n",
       "class E5--><a href=\"psysml:23efd2aa-8423-4d75-9f93-6567d973731c\" target=\"_top\" title=\"psysml:23efd2aa-8423-4d75-9f93-6567d973731c\" xlink:actuate=\"onRequest\" xlink:href=\"psysml:23efd2aa-8423-4d75-9f93-6567d973731c\" xlink:show=\"new\" xlink:title=\"psysml:23efd2aa-8423-4d75-9f93-6567d973731c\" xlink:type=\"simple\"><rect fill=\"#FEFECE\" filter=\"url(#f15u7ku9tv660j)\" height=\"45.9375\" id=\"E5\" rx=\"10\" ry=\"10\" style=\"stroke: #A80036; stroke-width: 1.5;\" width=\"76\" x=\"143\" y=\"41\"/><ellipse cx=\"158\" cy=\"59.9688\" fill=\"#32CD32\" rx=\"11\" ry=\"11\" style=\"stroke: #A80036; stroke-width: 1.0;\"/><path d=\"M154.8125,64.9688 L154.8125,54.375 L158.4219,54.375 Q159.6406,54.375 160.4375,54.8125 Q161.2344,55.2344 161.6094,55.9375 Q162,56.6406 162,57.4844 Q162,58.3281 161.625,59.0156 Q161.2656,59.7031 160.4688,60.125 Q159.6875,60.5313 158.5,60.5313 L156.7656,60.5313 L156.7656,64.9688 L154.8125,64.9688 Z M156.7656,58.9375 L158.375,58.9375 Q159.1875,58.9375 159.6094,58.5313 Q160.0313,58.125 160.0313,57.4844 Q160.0313,56.8594 159.6094,56.4531 Q159.1875,56.0469 158.3906,56.0469 L156.7656,56.0469 L156.7656,58.9375 Z \"/><text fill=\"#000000\" font-family=\"sans-serif\" font-size=\"12\" font-style=\"italic\" lengthAdjust=\"spacingAndGlyphs\" textLength=\"40\" x=\"174\" y=\"57.1387\">«part»</text><text fill=\"#000000\" font-family=\"sans-serif\" font-size=\"12\" lengthAdjust=\"spacingAndGlyphs\" textLength=\"40\" x=\"172\" y=\"71.1074\">p1: P1</text><line style=\"stroke: #A80036; stroke-width: 1.5;\" x1=\"144\" x2=\"218\" y1=\"78.9375\" y2=\"78.9375\"/></a><!--MD5=[60a26617385b1d2d0262a64233df1f8d]\n",
       "class E6--><a href=\"psysml:a6a8a5d4-8051-439c-be85-1eee73d04018\" target=\"_top\" title=\"psysml:a6a8a5d4-8051-439c-be85-1eee73d04018\" xlink:actuate=\"onRequest\" xlink:href=\"psysml:a6a8a5d4-8051-439c-be85-1eee73d04018\" xlink:show=\"new\" xlink:title=\"psysml:a6a8a5d4-8051-439c-be85-1eee73d04018\" xlink:type=\"simple\"><rect fill=\"#FEFECE\" filter=\"url(#f15u7ku9tv660j)\" height=\"45.9375\" id=\"E6\" rx=\"10\" ry=\"10\" style=\"stroke: #A80036; stroke-width: 1.5;\" width=\"68\" x=\"106\" y=\"147\"/><ellipse cx=\"121\" cy=\"165.9688\" fill=\"#0000FF\" rx=\"11\" ry=\"11\" style=\"stroke: #A80036; stroke-width: 1.0;\"/><path d=\"M117.8125,170.9688 L117.8125,160.375 L121.4219,160.375 Q122.6406,160.375 123.4375,160.8125 Q124.2344,161.2344 124.6094,161.9375 Q125,162.6406 125,163.4844 Q125,164.3281 124.625,165.0156 Q124.2656,165.7031 123.4688,166.125 Q122.6875,166.5313 121.5,166.5313 L119.7656,166.5313 L119.7656,170.9688 L117.8125,170.9688 Z M119.7656,164.9375 L121.375,164.9375 Q122.1875,164.9375 122.6094,164.5313 Q123.0313,164.125 123.0313,163.4844 Q123.0313,162.8594 122.6094,162.4531 Q122.1875,162.0469 121.3906,162.0469 L119.7656,162.0469 L119.7656,164.9375 Z \"/><text fill=\"#000000\" font-family=\"sans-serif\" font-size=\"12\" font-style=\"italic\" lengthAdjust=\"spacingAndGlyphs\" textLength=\"40\" x=\"133\" y=\"163.1387\">«port»</text><text fill=\"#000000\" font-family=\"sans-serif\" font-size=\"12\" lengthAdjust=\"spacingAndGlyphs\" textLength=\"24\" x=\"139\" y=\"177.1074\">po1</text><line style=\"stroke: #A80036; stroke-width: 1.5;\" x1=\"107\" x2=\"173\" y1=\"184.9375\" y2=\"184.9375\"/></a><!--MD5=[2156ba9850f5573cc1fc38a6a4b2f02b]\n",
       "class E7--><a href=\"psysml:32558afe-9574-460d-81c7-219976cfcf7f\" target=\"_top\" title=\"psysml:32558afe-9574-460d-81c7-219976cfcf7f\" xlink:actuate=\"onRequest\" xlink:href=\"psysml:32558afe-9574-460d-81c7-219976cfcf7f\" xlink:show=\"new\" xlink:title=\"psysml:32558afe-9574-460d-81c7-219976cfcf7f\" xlink:type=\"simple\"><rect fill=\"#FEFECE\" filter=\"url(#f15u7ku9tv660j)\" height=\"45.9375\" id=\"E7\" rx=\"10\" ry=\"10\" style=\"stroke: #A80036; stroke-width: 1.5;\" width=\"76\" x=\"32\" y=\"41\"/><ellipse cx=\"47\" cy=\"59.9688\" fill=\"#32CD32\" rx=\"11\" ry=\"11\" style=\"stroke: #A80036; stroke-width: 1.0;\"/><path d=\"M43.8125,64.9688 L43.8125,54.375 L47.4219,54.375 Q48.6406,54.375 49.4375,54.8125 Q50.2344,55.2344 50.6094,55.9375 Q51,56.6406 51,57.4844 Q51,58.3281 50.625,59.0156 Q50.2656,59.7031 49.4688,60.125 Q48.6875,60.5313 47.5,60.5313 L45.7656,60.5313 L45.7656,64.9688 L43.8125,64.9688 Z M45.7656,58.9375 L47.375,58.9375 Q48.1875,58.9375 48.6094,58.5313 Q49.0313,58.125 49.0313,57.4844 Q49.0313,56.8594 48.6094,56.4531 Q48.1875,56.0469 47.3906,56.0469 L45.7656,56.0469 L45.7656,58.9375 Z \"/><text fill=\"#000000\" font-family=\"sans-serif\" font-size=\"12\" font-style=\"italic\" lengthAdjust=\"spacingAndGlyphs\" textLength=\"40\" x=\"63\" y=\"57.1387\">«part»</text><text fill=\"#000000\" font-family=\"sans-serif\" font-size=\"12\" lengthAdjust=\"spacingAndGlyphs\" textLength=\"40\" x=\"61\" y=\"71.1074\">p2: P1</text><line style=\"stroke: #A80036; stroke-width: 1.5;\" x1=\"33\" x2=\"107\" y1=\"78.9375\" y2=\"78.9375\"/></a><!--MD5=[b9389687b975829384b498ac4b7476b2]\n",
       "class E8--><a href=\"psysml:9d4715a0-ecad-4cb9-af91-593b0378d847\" target=\"_top\" title=\"psysml:9d4715a0-ecad-4cb9-af91-593b0378d847\" xlink:actuate=\"onRequest\" xlink:href=\"psysml:9d4715a0-ecad-4cb9-af91-593b0378d847\" xlink:show=\"new\" xlink:title=\"psysml:9d4715a0-ecad-4cb9-af91-593b0378d847\" xlink:type=\"simple\"><rect fill=\"#FEFECE\" filter=\"url(#f15u7ku9tv660j)\" height=\"45.9375\" id=\"E8\" rx=\"10\" ry=\"10\" style=\"stroke: #A80036; stroke-width: 1.5;\" width=\"72\" x=\"61\" y=\"253\"/><ellipse cx=\"76\" cy=\"271.9688\" fill=\"#0000FF\" rx=\"11\" ry=\"11\" style=\"stroke: #A80036; stroke-width: 1.0;\"/><path d=\"M72.8125,276.9688 L72.8125,266.375 L76.4219,266.375 Q77.6406,266.375 78.4375,266.8125 Q79.2344,267.2344 79.6094,267.9375 Q80,268.6406 80,269.4844 Q80,270.3281 79.625,271.0156 Q79.2656,271.7031 78.4688,272.125 Q77.6875,272.5313 76.5,272.5313 L74.7656,272.5313 L74.7656,276.9688 L72.8125,276.9688 Z M74.7656,270.9375 L76.375,270.9375 Q77.1875,270.9375 77.6094,270.5313 Q78.0313,270.125 78.0313,269.4844 Q78.0313,268.8594 77.6094,268.4531 Q77.1875,268.0469 76.3906,268.0469 L74.7656,268.0469 L74.7656,270.9375 Z \"/><text fill=\"#000000\" font-family=\"sans-serif\" font-size=\"12\" font-style=\"italic\" lengthAdjust=\"spacingAndGlyphs\" textLength=\"40\" x=\"90\" y=\"269.1387\">«port»</text><text fill=\"#000000\" font-family=\"sans-serif\" font-size=\"12\" lengthAdjust=\"spacingAndGlyphs\" textLength=\"36\" x=\"90\" y=\"283.1074\">pdest</text><line style=\"stroke: #A80036; stroke-width: 1.5;\" x1=\"62\" x2=\"132\" y1=\"290.9375\" y2=\"290.9375\"/></a><!--MD5=[4672eba38e49728da53d11aeb285b987]\n",
       "reverse link E3 to E4--><a href=\"psysml:77da464e-a07c-41d7-bf00-c994457c7429\" target=\"_top\" title=\"psysml:77da464e-a07c-41d7-bf00-c994457c7429\" xlink:actuate=\"onRequest\" xlink:href=\"psysml:77da464e-a07c-41d7-bf00-c994457c7429\" xlink:show=\"new\" xlink:title=\"psysml:77da464e-a07c-41d7-bf00-c994457c7429\" xlink:type=\"simple\"><path d=\"M221.1,203.25 C219.65,219.33 220.05,238.37 222.33,252.8 \" fill=\"none\" id=\"E3&lt;-E4\" style=\"stroke: #A80036; stroke-width: 1.0;\"/><polygon fill=\"#FFFFFF\" points=\"222.87,190.08,218.1137,195.5001,221.2875,201.9752,226.0438,196.5551,222.87,190.08\" style=\"stroke: #A80036; stroke-width: 1.0;\"/><text fill=\"#000000\" font-family=\"sans-serif\" font-size=\"13\" lengthAdjust=\"spacingAndGlyphs\" textLength=\"8\" x=\"210.5708\" y=\"242.025\">1</text></a><!--MD5=[4672eba38e49728da53d11aeb285b987]\n",
       "reverse link E3 to E4--><a href=\"psysml:2fb80261-1acb-4246-9b34-6566336881f2\" target=\"_top\" title=\"psysml:2fb80261-1acb-4246-9b34-6566336881f2\" xlink:actuate=\"onRequest\" xlink:href=\"psysml:2fb80261-1acb-4246-9b34-6566336881f2\" xlink:show=\"new\" xlink:title=\"psysml:2fb80261-1acb-4246-9b34-6566336881f2\" xlink:type=\"simple\"><path d=\"M245.77,205.22 C247.1,220.87 246.61,238.96 244.3,252.8 \" fill=\"none\" id=\"E3&lt;-E4-1\" style=\"stroke: #A80036; stroke-width: 1.0; stroke-dasharray: 7.0,7.0;\"/><ellipse cx=\"244.7963\" cy=\"198.0086\" fill=\"#FFFFFF\" rx=\"8\" ry=\"8\" style=\"stroke: #A80036; stroke-width: 1.0;\"/><line style=\"stroke: #A80036; stroke-width: 1.0;\" x1=\"245.8626\" x2=\"243.73\" y1=\"205.9372\" y2=\"190.08\"/><line style=\"stroke: #A80036; stroke-width: 1.0;\" x1=\"236.8677\" x2=\"252.7249\" y1=\"199.0749\" y2=\"196.9423\"/><text fill=\"#000000\" font-family=\"sans-serif\" font-size=\"13\" lengthAdjust=\"spacingAndGlyphs\" textLength=\"8\" x=\"238.1706\" y=\"242.025\">1</text></a><!--MD5=[e9be52314489bd878ff4c7144b63c9e1]\n",
       "link E5 to E3--><a href=\"psysml:bae878c2-3025-4ed8-bae0-781c13e39aed\" target=\"_top\" title=\"psysml:bae878c2-3025-4ed8-bae0-781c13e39aed\" xlink:actuate=\"onRequest\" xlink:href=\"psysml:bae878c2-3025-4ed8-bae0-781c13e39aed\" xlink:show=\"new\" xlink:title=\"psysml:bae878c2-3025-4ed8-bae0-781c13e39aed\" xlink:type=\"simple\"><path d=\"M192.03,87.06 C198.53,100.06 206.93,116.86 214.43,131.86 \" fill=\"none\" id=\"E5-&gt;E3\" style=\"stroke: #A80036; stroke-width: 1.0;\"/><polygon fill=\"#FFFFFF\" points=\"223.39,149.77,208.6231,135.9158,221.1411,129.6468,223.39,149.77\" style=\"stroke: #A80036; stroke-width: 1.0;\"/><ellipse cx=\"207.859\" cy=\"129.9236\" fill=\"#A80036\" rx=\"2\" ry=\"2\" style=\"stroke: #A80036; stroke-width: 1.0;\"/><ellipse cx=\"216.8004\" cy=\"125.4458\" fill=\"#A80036\" rx=\"2\" ry=\"2\" style=\"stroke: #A80036; stroke-width: 1.0;\"/></a><!--MD5=[85d356282659285ab4b2cfe2f634dd2b]\n",
       "reverse link E5 to E6--><a href=\"psysml:cd2d9195-2d40-49eb-a50a-4bb167712418\" target=\"_top\" title=\"psysml:cd2d9195-2d40-49eb-a50a-4bb167712418\" xlink:actuate=\"onRequest\" xlink:href=\"psysml:cd2d9195-2d40-49eb-a50a-4bb167712418\" xlink:show=\"new\" xlink:title=\"psysml:cd2d9195-2d40-49eb-a50a-4bb167712418\" xlink:type=\"simple\"><path d=\"M167.4,99.49 C161.23,115.15 154.12,133.19 148.68,146.98 \" fill=\"none\" id=\"E5&lt;-E6\" style=\"stroke: #A80036; stroke-width: 1.0;\"/><polygon fill=\"#FFFFFF\" points=\"172.3,87.06,166.3778,91.1743,167.8979,98.2234,173.8201,94.1091,172.3,87.06\" style=\"stroke: #A80036; stroke-width: 1.0;\"/><text fill=\"#000000\" font-family=\"sans-serif\" font-size=\"13\" lengthAdjust=\"spacingAndGlyphs\" textLength=\"8\" x=\"141.9378\" y=\"135.8709\">1</text></a><!--MD5=[f667431f98296947986a1a7595a31603]\n",
       "link E6 to E4--><a href=\"psysml:9b4aa44d-c7fb-440f-8f9d-ccf8058f014a\" target=\"_top\" title=\"psysml:9b4aa44d-c7fb-440f-8f9d-ccf8058f014a\" xlink:actuate=\"onRequest\" xlink:href=\"psysml:9b4aa44d-c7fb-440f-8f9d-ccf8058f014a\" xlink:show=\"new\" xlink:title=\"psysml:9b4aa44d-c7fb-440f-8f9d-ccf8058f014a\" xlink:type=\"simple\"><path d=\"M159.72,193.06 C171.31,206.02 186.27,222.74 199.65,237.7 \" fill=\"none\" id=\"E6-&gt;E4\" style=\"stroke: #A80036; stroke-width: 1.0;\"/><polygon fill=\"#FFFFFF\" points=\"213.31,252.98,195.4253,243.486,205.8597,234.152,213.31,252.98\" style=\"stroke: #A80036; stroke-width: 1.0;\"/><line style=\"stroke: #A80036; stroke-width: 2.0;\" x1=\"192.8918\" x2=\"203.3262\" y1=\"240.6538\" y2=\"231.3198\"/></a><!--MD5=[14ccda38c055a5c0da953d572bc50960]\n",
       "link E7 to E3--><a href=\"psysml:22f6621f-c82b-45b4-aad5-95fd1a975c3d\" target=\"_top\" title=\"psysml:22f6621f-c82b-45b4-aad5-95fd1a975c3d\" xlink:actuate=\"onRequest\" xlink:href=\"psysml:22f6621f-c82b-45b4-aad5-95fd1a975c3d\" xlink:show=\"new\" xlink:title=\"psysml:22f6621f-c82b-45b4-aad5-95fd1a975c3d\" xlink:type=\"simple\"><path d=\"M104.57,87.06 C129.93,103.24 164.49,125.29 191.37,142.44 \" fill=\"none\" id=\"E7-&gt;E3\" style=\"stroke: #A80036; stroke-width: 1.0;\"/><polygon fill=\"#FFFFFF\" points=\"208.54,153.39,188.7577,149.0701,196.2889,137.2683,208.54,153.39\" style=\"stroke: #A80036; stroke-width: 1.0;\"/><ellipse cx=\"185.0286\" cy=\"144.3178\" fill=\"#A80036\" rx=\"2\" ry=\"2\" style=\"stroke: #A80036; stroke-width: 1.0;\"/><ellipse cx=\"190.408\" cy=\"135.888\" fill=\"#A80036\" rx=\"2\" ry=\"2\" style=\"stroke: #A80036; stroke-width: 1.0;\"/></a><!--MD5=[dc164f5e8a733ab456ef1add180e9e34]\n",
       "reverse link E7 to E8--><a href=\"psysml:22337106-f0e5-4c32-83fd-01b8d559ead1\" target=\"_top\" title=\"psysml:22337106-f0e5-4c32-83fd-01b8d559ead1\" xlink:actuate=\"onRequest\" xlink:href=\"psysml:22337106-f0e5-4c32-83fd-01b8d559ead1\" xlink:show=\"new\" xlink:title=\"psysml:22337106-f0e5-4c32-83fd-01b8d559ead1\" xlink:type=\"simple\"><path d=\"M64.71,100.09 C65.9,143.61 75.8,216.5 85.96,252.9 \" fill=\"none\" id=\"E7&lt;-E8\" style=\"stroke: #A80036; stroke-width: 1.0;\"/><polygon fill=\"#FFFFFF\" points=\"64.64,87.08,60.673,93.1019,64.7059,99.0798,68.6729,93.0579,64.64,87.08\" style=\"stroke: #A80036; stroke-width: 1.0;\"/><text fill=\"#000000\" font-family=\"sans-serif\" font-size=\"13\" lengthAdjust=\"spacingAndGlyphs\" textLength=\"8\" x=\"73.918\" y=\"241.7694\">1</text></a><!--MD5=[dc164f5e8a733ab456ef1add180e9e34]\n",
       "reverse link E7 to E8--><a href=\"psysml:3441a1bf-d119-4e2c-bd85-6011f03ceff2\" target=\"_top\" title=\"psysml:3441a1bf-d119-4e2c-bd85-6011f03ceff2\" xlink:actuate=\"onRequest\" xlink:href=\"psysml:3441a1bf-d119-4e2c-bd85-6011f03ceff2\" xlink:show=\"new\" xlink:title=\"psysml:3441a1bf-d119-4e2c-bd85-6011f03ceff2\" xlink:type=\"simple\"><path d=\"M85.29,101.8 C95.38,145.5 103.94,216.97 102.84,252.9 \" fill=\"none\" id=\"E7&lt;-E8-1\" style=\"stroke: #A80036; stroke-width: 1.0; stroke-dasharray: 7.0,7.0;\"/><ellipse cx=\"83.5087\" cy=\"94.8289\" fill=\"#FFFFFF\" rx=\"8\" ry=\"8\" style=\"stroke: #A80036; stroke-width: 1.0;\"/><line style=\"stroke: #A80036; stroke-width: 1.0;\" x1=\"85.4973\" x2=\"81.52\" y1=\"102.5778\" y2=\"87.08\"/><line style=\"stroke: #A80036; stroke-width: 1.0;\" x1=\"75.7598\" x2=\"91.2575\" y1=\"96.8175\" y2=\"92.8402\"/><text fill=\"#000000\" font-family=\"sans-serif\" font-size=\"13\" lengthAdjust=\"spacingAndGlyphs\" textLength=\"8\" x=\"105.4845\" y=\"241.7694\">1</text></a><!--MD5=[0a839d0f80c2d72d4b9b307f046d0de8]\n",
       "link E6 to E8--><a href=\"psysml:e347aa3d-31a4-4502-9422-b0b7e8733c17\" target=\"_top\" title=\"psysml:e347aa3d-31a4-4502-9422-b0b7e8733c17\" xlink:actuate=\"onRequest\" xlink:href=\"psysml:e347aa3d-31a4-4502-9422-b0b7e8733c17\" xlink:show=\"new\" xlink:title=\"psysml:e347aa3d-31a4-4502-9422-b0b7e8733c17\" xlink:type=\"simple\"><path d=\"M120.24,193.06 C110.13,210.7 99.95,235.34 95.47,252.98 \" fill=\"none\" id=\"E6-E8\" style=\"stroke: #A80036; stroke-width: 3.0;\"/><text fill=\"#000000\" font-family=\"sans-serif\" font-size=\"13\" lengthAdjust=\"spacingAndGlyphs\" textLength=\"7\" x=\"87.1182\" y=\"241.8709\">*</text></a><!--MD5=[0a839d0f80c2d72d4b9b307f046d0de8]\n",
       "link E6 to E8--><a href=\"psysml:6852a8da-427c-4993-bbf6-22174e5f8d33\" target=\"_top\" title=\"psysml:6852a8da-427c-4993-bbf6-22174e5f8d33\" xlink:actuate=\"onRequest\" xlink:href=\"psysml:6852a8da-427c-4993-bbf6-22174e5f8d33\" xlink:show=\"new\" xlink:title=\"psysml:6852a8da-427c-4993-bbf6-22174e5f8d33\" xlink:type=\"simple\"><path d=\"M142.15,193.06 C137.83,210.7 127.64,235.34 117.37,252.98 \" fill=\"none\" id=\"E6-E8-1\" style=\"stroke: #A80036; stroke-width: 3.0;\"/><text fill=\"#000000\" font-family=\"sans-serif\" font-size=\"13\" lengthAdjust=\"spacingAndGlyphs\" textLength=\"7\" x=\"114.9038\" y=\"241.8709\">*</text></a><!--MD5=[42ee461270ebbfd425d9265349a0fb17]\n",
       "@startuml\r\n",
       " \r\n",
       "package \"AliasTest\" as E1  [[psysml:5020e8e8-e597-4a8a-8c84-9076441471bb ]]  {\r\n",
       "comp usage \"b :> ISQSpaceTime::width\" as E2 << <<(U,orange) attribute>> [[psysml:09023520-b272-4b76-a802-4be530536a95 ]] {\r\n",
       "}\r\n",
       "comp def \"P1\" as E3 << << (B,green) >> [[psysml:2d23ecbc-8f8b-40e5-8168-7a4eefd95afa ]] {\r\n",
       "}\r\n",
       "comp usage \"porig1 \" as E4 << << (P,blue) port>> [[psysml:371120a0-4800-4c08-b9c5-19a2f97c5f1a ]] {\r\n",
       "}\r\n",
       "comp usage \"p1: P1 \" as E5 << << (P,limegreen) part>> [[psysml:23efd2aa-8423-4d75-9f93-6567d973731c ]] {\r\n",
       "}\r\n",
       "comp usage \"po1 \" as E6 << << (P,blue) port>> [[psysml:a6a8a5d4-8051-439c-be85-1eee73d04018 ]] {\r\n",
       "}\r\n",
       "comp usage \"p2: P1 \" as E7 << << (P,limegreen) part>> [[psysml:32558afe-9574-460d-81c7-219976cfcf7f ]] {\r\n",
       "}\r\n",
       "comp usage \"pdest \" as E8 << << (P,blue) port>> [[psysml:9d4715a0-ecad-4cb9-af91-593b0378d847 ]] {\r\n",
       "}\r\n",
       "}\r\n",
       "E3 o- - \"1\"E4 [[psysml:77da464e-a07c-41d7-bf00-c994457c7429 ]] \r\n",
       "E3 +.. \"1\"E4 [[psysml:2fb80261-1acb-4246-9b34-6566336881f2 ]] \r\n",
       "E5 - -:|> E3 [[psysml:bae878c2-3025-4ed8-bae0-781c13e39aed ]] \r\n",
       "E5 o- - \"1\"E6 [[psysml:cd2d9195-2d40-49eb-a50a-4bb167712418 ]] \r\n",
       "E6 - -||> E4 [[psysml:9b4aa44d-c7fb-440f-8f9d-ccf8058f014a ]] \r\n",
       "E7 - -:|> E3 [[psysml:22f6621f-c82b-45b4-aad5-95fd1a975c3d ]] \r\n",
       "E7 o- - \"1\"E8 [[psysml:22337106-f0e5-4c32-83fd-01b8d559ead1 ]] \r\n",
       "E7 +.. \"1\"E8 [[psysml:3441a1bf-d119-4e2c-bd85-6011f03ceff2 ]] \r\n",
       "E6 -[thickness=3]- \"*\"E8 [[psysml:e347aa3d-31a4-4502-9422-b0b7e8733c17 ]] \r\n",
       "E6 -[thickness=3]- \"*\"E8 [[psysml:6852a8da-427c-4993-bbf6-22174e5f8d33 ]] \r\n",
       "@enduml\r\n",
       "\n",
       "PlantUML version 1.2020.13(Sat Jun 13 12:26:38 UTC 2020)\n",
       "(EPL source distribution)\n",
       "Java Runtime: OpenJDK Runtime Environment\n",
       "JVM: OpenJDK 64-Bit Server VM\n",
       "Default Encoding: UTF-8\n",
       "Language: en\n",
       "Country: null\n",
       "--></g></svg>"
      ]
     },
     "execution_count": 30,
     "metadata": {},
     "output_type": "execute_result"
    }
   ],
   "source": [
    "%viz --style=\"PLANTUML\" --view=\"Default\" \"AliasTest\""
   ]
  },
  {
   "cell_type": "code",
   "execution_count": 31,
   "id": "a0fb9e9a",
   "metadata": {
    "execution": {
     "iopub.execute_input": "2022-04-22T09:51:32.983187Z",
     "iopub.status.busy": "2022-04-22T09:51:32.982773Z",
     "iopub.status.idle": "2022-04-22T09:51:33.022512Z",
     "shell.execute_reply": "2022-04-22T09:51:33.022162Z"
    }
   },
   "outputs": [
    {
     "data": {
      "image/svg+xml": [
       "<?xml version=\"1.0\" encoding=\"UTF-8\" standalone=\"no\"?><svg xmlns=\"http://www.w3.org/2000/svg\" xmlns:xlink=\"http://www.w3.org/1999/xlink\" contentScriptType=\"application/ecmascript\" contentStyleType=\"text/css\" height=\"327px\" preserveAspectRatio=\"none\" style=\"width:484px;height:327px;\" version=\"1.1\" viewBox=\"0 0 484 327\" width=\"484px\" zoomAndPan=\"magnify\"><defs><filter height=\"300%\" id=\"f15u7ku9tv660j\" width=\"300%\" x=\"-1\" y=\"-1\"><feGaussianBlur result=\"blurOut\" stdDeviation=\"2.0\"/><feColorMatrix in=\"blurOut\" result=\"blurOut2\" type=\"matrix\" values=\"0 0 0 0 0 0 0 0 0 0 0 0 0 0 0 0 0 0 .4 0\"/><feOffset dx=\"4.0\" dy=\"4.0\" in=\"blurOut2\" result=\"blurOut3\"/><feBlend in=\"SourceGraphic\" in2=\"blurOut3\" mode=\"normal\"/></filter></defs><g><!--MD5=[fbc87193dbaf4d95561dea2c320d4a47]\n",
       "cluster E1--><a href=\"psysml:5020e8e8-e597-4a8a-8c84-9076441471bb\" target=\"_top\" title=\"psysml:5020e8e8-e597-4a8a-8c84-9076441471bb\" xlink:actuate=\"onRequest\" xlink:href=\"psysml:5020e8e8-e597-4a8a-8c84-9076441471bb\" xlink:show=\"new\" xlink:title=\"psysml:5020e8e8-e597-4a8a-8c84-9076441471bb\" xlink:type=\"simple\"><polygon fill=\"#FFFFFF\" filter=\"url(#f15u7ku9tv660j)\" points=\"16,6,84,6,91,28.2969,462,28.2969,462,315,16,315,16,6\" style=\"stroke: #000000; stroke-width: 1.5;\"/><line style=\"stroke: #000000; stroke-width: 1.5;\" x1=\"16\" x2=\"91\" y1=\"28.2969\" y2=\"28.2969\"/><text fill=\"#000000\" font-family=\"sans-serif\" font-size=\"14\" font-weight=\"bold\" lengthAdjust=\"spacingAndGlyphs\" textLength=\"62\" x=\"20\" y=\"20.9951\">AliasTest</text></a><!--MD5=[b4997ac47864f28c2f74865a473b2911]\n",
       "class E2--><a href=\"psysml:09023520-b272-4b76-a802-4be530536a95\" target=\"_top\" title=\"psysml:09023520-b272-4b76-a802-4be530536a95\" xlink:actuate=\"onRequest\" xlink:href=\"psysml:09023520-b272-4b76-a802-4be530536a95\" xlink:show=\"new\" xlink:title=\"psysml:09023520-b272-4b76-a802-4be530536a95\" xlink:type=\"simple\"><rect fill=\"#FEFECE\" filter=\"url(#f15u7ku9tv660j)\" height=\"45.9375\" id=\"E2\" rx=\"10\" ry=\"10\" style=\"stroke: #A80036; stroke-width: 1.5;\" width=\"191\" x=\"254.5\" y=\"41\"/><ellipse cx=\"269.5\" cy=\"59.9688\" fill=\"#FFA500\" rx=\"11\" ry=\"11\" style=\"stroke: #A80036; stroke-width: 1.0;\"/><path d=\"M269.25,65.4375 Q267.5,65.4375 266.5469,64.4063 Q265.6094,63.3594 265.6094,61.5156 L265.6094,54.625 L267.6719,54.625 L267.6719,54.7813 Q267.5781,54.875 267.5469,55.0156 Q267.5313,55.1406 267.5313,55.4063 L267.5313,61.5313 Q267.5313,62.625 267.9063,63.25 Q268.2813,63.875 269.2656,63.875 Q270.25,63.875 270.6406,63.25 Q271.0313,62.625 271.0313,61.4844 L271.0313,54.625 L272.9063,54.625 L272.9063,61.4688 Q272.9063,63.5 271.875,64.4688 Q270.8594,65.4375 269.25,65.4375 Z \"/><text fill=\"#000000\" font-family=\"sans-serif\" font-size=\"12\" font-style=\"italic\" lengthAdjust=\"spacingAndGlyphs\" textLength=\"69\" x=\"328.5\" y=\"57.1387\">«attribute»</text><text fill=\"#000000\" font-family=\"sans-serif\" font-size=\"12\" lengthAdjust=\"spacingAndGlyphs\" textLength=\"159\" x=\"283.5\" y=\"71.1074\">b :&gt; ISQSpaceTime::width</text><line style=\"stroke: #A80036; stroke-width: 1.5;\" x1=\"255.5\" x2=\"444.5\" y1=\"78.9375\" y2=\"78.9375\"/></a><!--MD5=[09b614a08d8cba4a07c9adeb5e0fee81]\n",
       "class E3--><a href=\"psysml:2d23ecbc-8f8b-40e5-8168-7a4eefd95afa\" target=\"_top\" title=\"psysml:2d23ecbc-8f8b-40e5-8168-7a4eefd95afa\" xlink:actuate=\"onRequest\" xlink:href=\"psysml:2d23ecbc-8f8b-40e5-8168-7a4eefd95afa\" xlink:show=\"new\" xlink:title=\"psysml:2d23ecbc-8f8b-40e5-8168-7a4eefd95afa\" xlink:type=\"simple\"><rect fill=\"#FEFECE\" filter=\"url(#f15u7ku9tv660j)\" height=\"40\" id=\"E3\" style=\"stroke: #A80036; stroke-width: 1.5;\" width=\"48\" x=\"209\" y=\"150\"/><ellipse cx=\"224\" cy=\"166\" fill=\"#008000\" rx=\"11\" ry=\"11\" style=\"stroke: #A80036; stroke-width: 1.0;\"/><path d=\"M220.875,171 L220.875,160.4063 L224.1094,160.4063 Q226.0156,160.4063 226.9219,161.1563 Q227.8438,161.9063 227.8438,163.0781 Q227.8438,163.7656 227.4531,164.4219 Q227.0781,165.0781 226.3594,165.375 Q227.2188,165.75 227.7344,166.4375 Q228.25,167.125 228.25,167.9375 Q228.25,169.3125 227.2188,170.1563 Q226.2031,171 224.0938,171 L220.875,171 Z M222.7969,164.6406 L223.9531,164.6406 Q225.0781,164.6406 225.4844,164.2656 Q225.9063,163.875 225.9063,163.25 Q225.9063,162.6719 225.4844,162.3125 Q225.0625,161.9531 224.125,161.9531 L222.7969,161.9531 L222.7969,164.6406 Z M222.7969,169.4219 L224.2969,169.4219 Q225.2031,169.4219 225.7344,169.0313 Q226.2656,168.6406 226.2656,167.8906 Q226.2656,167.125 225.7656,166.6563 Q225.2656,166.1719 224,166.1719 L222.7969,166.1719 L222.7969,169.4219 Z \"/><text fill=\"#000000\" font-family=\"sans-serif\" font-size=\"12\" lengthAdjust=\"spacingAndGlyphs\" textLength=\"16\" x=\"238\" y=\"170.1543\">P1</text><line style=\"stroke: #A80036; stroke-width: 1.5;\" x1=\"210\" x2=\"256\" y1=\"182\" y2=\"182\"/></a><!--MD5=[ebbe1d658d1005bcc118a6aa81145e00]\n",
       "class E4--><a href=\"psysml:371120a0-4800-4c08-b9c5-19a2f97c5f1a\" target=\"_top\" title=\"psysml:371120a0-4800-4c08-b9c5-19a2f97c5f1a\" xlink:actuate=\"onRequest\" xlink:href=\"psysml:371120a0-4800-4c08-b9c5-19a2f97c5f1a\" xlink:show=\"new\" xlink:title=\"psysml:371120a0-4800-4c08-b9c5-19a2f97c5f1a\" xlink:type=\"simple\"><rect fill=\"#FEFECE\" filter=\"url(#f15u7ku9tv660j)\" height=\"45.9375\" id=\"E4\" rx=\"10\" ry=\"10\" style=\"stroke: #A80036; stroke-width: 1.5;\" width=\"76\" x=\"195\" y=\"253\"/><ellipse cx=\"210\" cy=\"271.9688\" fill=\"#0000FF\" rx=\"11\" ry=\"11\" style=\"stroke: #A80036; stroke-width: 1.0;\"/><path d=\"M206.8125,276.9688 L206.8125,266.375 L210.4219,266.375 Q211.6406,266.375 212.4375,266.8125 Q213.2344,267.2344 213.6094,267.9375 Q214,268.6406 214,269.4844 Q214,270.3281 213.625,271.0156 Q213.2656,271.7031 212.4688,272.125 Q211.6875,272.5313 210.5,272.5313 L208.7656,272.5313 L208.7656,276.9688 L206.8125,276.9688 Z M208.7656,270.9375 L210.375,270.9375 Q211.1875,270.9375 211.6094,270.5313 Q212.0313,270.125 212.0313,269.4844 Q212.0313,268.8594 211.6094,268.4531 Q211.1875,268.0469 210.3906,268.0469 L208.7656,268.0469 L208.7656,270.9375 Z \"/><text fill=\"#000000\" font-family=\"sans-serif\" font-size=\"12\" font-style=\"italic\" lengthAdjust=\"spacingAndGlyphs\" textLength=\"40\" x=\"226\" y=\"269.1387\">«port»</text><text fill=\"#000000\" font-family=\"sans-serif\" font-size=\"12\" lengthAdjust=\"spacingAndGlyphs\" textLength=\"40\" x=\"224\" y=\"283.1074\">porig1</text><line style=\"stroke: #A80036; stroke-width: 1.5;\" x1=\"196\" x2=\"270\" y1=\"290.9375\" y2=\"290.9375\"/></a><!--MD5=[270fce915f116d4de14055a7c1d9a0f3]\n",
       "class E5--><a href=\"psysml:23efd2aa-8423-4d75-9f93-6567d973731c\" target=\"_top\" title=\"psysml:23efd2aa-8423-4d75-9f93-6567d973731c\" xlink:actuate=\"onRequest\" xlink:href=\"psysml:23efd2aa-8423-4d75-9f93-6567d973731c\" xlink:show=\"new\" xlink:title=\"psysml:23efd2aa-8423-4d75-9f93-6567d973731c\" xlink:type=\"simple\"><rect fill=\"#FEFECE\" filter=\"url(#f15u7ku9tv660j)\" height=\"45.9375\" id=\"E5\" rx=\"10\" ry=\"10\" style=\"stroke: #A80036; stroke-width: 1.5;\" width=\"76\" x=\"143\" y=\"41\"/><ellipse cx=\"158\" cy=\"59.9688\" fill=\"#32CD32\" rx=\"11\" ry=\"11\" style=\"stroke: #A80036; stroke-width: 1.0;\"/><path d=\"M154.8125,64.9688 L154.8125,54.375 L158.4219,54.375 Q159.6406,54.375 160.4375,54.8125 Q161.2344,55.2344 161.6094,55.9375 Q162,56.6406 162,57.4844 Q162,58.3281 161.625,59.0156 Q161.2656,59.7031 160.4688,60.125 Q159.6875,60.5313 158.5,60.5313 L156.7656,60.5313 L156.7656,64.9688 L154.8125,64.9688 Z M156.7656,58.9375 L158.375,58.9375 Q159.1875,58.9375 159.6094,58.5313 Q160.0313,58.125 160.0313,57.4844 Q160.0313,56.8594 159.6094,56.4531 Q159.1875,56.0469 158.3906,56.0469 L156.7656,56.0469 L156.7656,58.9375 Z \"/><text fill=\"#000000\" font-family=\"sans-serif\" font-size=\"12\" font-style=\"italic\" lengthAdjust=\"spacingAndGlyphs\" textLength=\"40\" x=\"174\" y=\"57.1387\">«part»</text><text fill=\"#000000\" font-family=\"sans-serif\" font-size=\"12\" lengthAdjust=\"spacingAndGlyphs\" textLength=\"40\" x=\"172\" y=\"71.1074\">p1: P1</text><line style=\"stroke: #A80036; stroke-width: 1.5;\" x1=\"144\" x2=\"218\" y1=\"78.9375\" y2=\"78.9375\"/></a><!--MD5=[60a26617385b1d2d0262a64233df1f8d]\n",
       "class E6--><a href=\"psysml:a6a8a5d4-8051-439c-be85-1eee73d04018\" target=\"_top\" title=\"psysml:a6a8a5d4-8051-439c-be85-1eee73d04018\" xlink:actuate=\"onRequest\" xlink:href=\"psysml:a6a8a5d4-8051-439c-be85-1eee73d04018\" xlink:show=\"new\" xlink:title=\"psysml:a6a8a5d4-8051-439c-be85-1eee73d04018\" xlink:type=\"simple\"><rect fill=\"#FEFECE\" filter=\"url(#f15u7ku9tv660j)\" height=\"45.9375\" id=\"E6\" rx=\"10\" ry=\"10\" style=\"stroke: #A80036; stroke-width: 1.5;\" width=\"68\" x=\"106\" y=\"147\"/><ellipse cx=\"121\" cy=\"165.9688\" fill=\"#0000FF\" rx=\"11\" ry=\"11\" style=\"stroke: #A80036; stroke-width: 1.0;\"/><path d=\"M117.8125,170.9688 L117.8125,160.375 L121.4219,160.375 Q122.6406,160.375 123.4375,160.8125 Q124.2344,161.2344 124.6094,161.9375 Q125,162.6406 125,163.4844 Q125,164.3281 124.625,165.0156 Q124.2656,165.7031 123.4688,166.125 Q122.6875,166.5313 121.5,166.5313 L119.7656,166.5313 L119.7656,170.9688 L117.8125,170.9688 Z M119.7656,164.9375 L121.375,164.9375 Q122.1875,164.9375 122.6094,164.5313 Q123.0313,164.125 123.0313,163.4844 Q123.0313,162.8594 122.6094,162.4531 Q122.1875,162.0469 121.3906,162.0469 L119.7656,162.0469 L119.7656,164.9375 Z \"/><text fill=\"#000000\" font-family=\"sans-serif\" font-size=\"12\" font-style=\"italic\" lengthAdjust=\"spacingAndGlyphs\" textLength=\"40\" x=\"133\" y=\"163.1387\">«port»</text><text fill=\"#000000\" font-family=\"sans-serif\" font-size=\"12\" lengthAdjust=\"spacingAndGlyphs\" textLength=\"24\" x=\"139\" y=\"177.1074\">po1</text><line style=\"stroke: #A80036; stroke-width: 1.5;\" x1=\"107\" x2=\"173\" y1=\"184.9375\" y2=\"184.9375\"/></a><!--MD5=[2156ba9850f5573cc1fc38a6a4b2f02b]\n",
       "class E7--><a href=\"psysml:32558afe-9574-460d-81c7-219976cfcf7f\" target=\"_top\" title=\"psysml:32558afe-9574-460d-81c7-219976cfcf7f\" xlink:actuate=\"onRequest\" xlink:href=\"psysml:32558afe-9574-460d-81c7-219976cfcf7f\" xlink:show=\"new\" xlink:title=\"psysml:32558afe-9574-460d-81c7-219976cfcf7f\" xlink:type=\"simple\"><rect fill=\"#FEFECE\" filter=\"url(#f15u7ku9tv660j)\" height=\"45.9375\" id=\"E7\" rx=\"10\" ry=\"10\" style=\"stroke: #A80036; stroke-width: 1.5;\" width=\"76\" x=\"32\" y=\"41\"/><ellipse cx=\"47\" cy=\"59.9688\" fill=\"#32CD32\" rx=\"11\" ry=\"11\" style=\"stroke: #A80036; stroke-width: 1.0;\"/><path d=\"M43.8125,64.9688 L43.8125,54.375 L47.4219,54.375 Q48.6406,54.375 49.4375,54.8125 Q50.2344,55.2344 50.6094,55.9375 Q51,56.6406 51,57.4844 Q51,58.3281 50.625,59.0156 Q50.2656,59.7031 49.4688,60.125 Q48.6875,60.5313 47.5,60.5313 L45.7656,60.5313 L45.7656,64.9688 L43.8125,64.9688 Z M45.7656,58.9375 L47.375,58.9375 Q48.1875,58.9375 48.6094,58.5313 Q49.0313,58.125 49.0313,57.4844 Q49.0313,56.8594 48.6094,56.4531 Q48.1875,56.0469 47.3906,56.0469 L45.7656,56.0469 L45.7656,58.9375 Z \"/><text fill=\"#000000\" font-family=\"sans-serif\" font-size=\"12\" font-style=\"italic\" lengthAdjust=\"spacingAndGlyphs\" textLength=\"40\" x=\"63\" y=\"57.1387\">«part»</text><text fill=\"#000000\" font-family=\"sans-serif\" font-size=\"12\" lengthAdjust=\"spacingAndGlyphs\" textLength=\"40\" x=\"61\" y=\"71.1074\">p2: P1</text><line style=\"stroke: #A80036; stroke-width: 1.5;\" x1=\"33\" x2=\"107\" y1=\"78.9375\" y2=\"78.9375\"/></a><!--MD5=[b9389687b975829384b498ac4b7476b2]\n",
       "class E8--><a href=\"psysml:9d4715a0-ecad-4cb9-af91-593b0378d847\" target=\"_top\" title=\"psysml:9d4715a0-ecad-4cb9-af91-593b0378d847\" xlink:actuate=\"onRequest\" xlink:href=\"psysml:9d4715a0-ecad-4cb9-af91-593b0378d847\" xlink:show=\"new\" xlink:title=\"psysml:9d4715a0-ecad-4cb9-af91-593b0378d847\" xlink:type=\"simple\"><rect fill=\"#FEFECE\" filter=\"url(#f15u7ku9tv660j)\" height=\"45.9375\" id=\"E8\" rx=\"10\" ry=\"10\" style=\"stroke: #A80036; stroke-width: 1.5;\" width=\"72\" x=\"61\" y=\"253\"/><ellipse cx=\"76\" cy=\"271.9688\" fill=\"#0000FF\" rx=\"11\" ry=\"11\" style=\"stroke: #A80036; stroke-width: 1.0;\"/><path d=\"M72.8125,276.9688 L72.8125,266.375 L76.4219,266.375 Q77.6406,266.375 78.4375,266.8125 Q79.2344,267.2344 79.6094,267.9375 Q80,268.6406 80,269.4844 Q80,270.3281 79.625,271.0156 Q79.2656,271.7031 78.4688,272.125 Q77.6875,272.5313 76.5,272.5313 L74.7656,272.5313 L74.7656,276.9688 L72.8125,276.9688 Z M74.7656,270.9375 L76.375,270.9375 Q77.1875,270.9375 77.6094,270.5313 Q78.0313,270.125 78.0313,269.4844 Q78.0313,268.8594 77.6094,268.4531 Q77.1875,268.0469 76.3906,268.0469 L74.7656,268.0469 L74.7656,270.9375 Z \"/><text fill=\"#000000\" font-family=\"sans-serif\" font-size=\"12\" font-style=\"italic\" lengthAdjust=\"spacingAndGlyphs\" textLength=\"40\" x=\"90\" y=\"269.1387\">«port»</text><text fill=\"#000000\" font-family=\"sans-serif\" font-size=\"12\" lengthAdjust=\"spacingAndGlyphs\" textLength=\"36\" x=\"90\" y=\"283.1074\">pdest</text><line style=\"stroke: #A80036; stroke-width: 1.5;\" x1=\"62\" x2=\"132\" y1=\"290.9375\" y2=\"290.9375\"/></a><!--MD5=[4672eba38e49728da53d11aeb285b987]\n",
       "reverse link E3 to E4--><a href=\"psysml:77da464e-a07c-41d7-bf00-c994457c7429\" target=\"_top\" title=\"psysml:77da464e-a07c-41d7-bf00-c994457c7429\" xlink:actuate=\"onRequest\" xlink:href=\"psysml:77da464e-a07c-41d7-bf00-c994457c7429\" xlink:show=\"new\" xlink:title=\"psysml:77da464e-a07c-41d7-bf00-c994457c7429\" xlink:type=\"simple\"><path d=\"M221.1,203.25 C219.65,219.33 220.05,238.37 222.33,252.8 \" fill=\"none\" id=\"E3&lt;-E4\" style=\"stroke: #A80036; stroke-width: 1.0;\"/><polygon fill=\"#FFFFFF\" points=\"222.87,190.08,218.1137,195.5001,221.2875,201.9752,226.0438,196.5551,222.87,190.08\" style=\"stroke: #A80036; stroke-width: 1.0;\"/><text fill=\"#000000\" font-family=\"sans-serif\" font-size=\"13\" lengthAdjust=\"spacingAndGlyphs\" textLength=\"8\" x=\"210.5708\" y=\"242.025\">1</text></a><!--MD5=[4672eba38e49728da53d11aeb285b987]\n",
       "reverse link E3 to E4--><a href=\"psysml:2fb80261-1acb-4246-9b34-6566336881f2\" target=\"_top\" title=\"psysml:2fb80261-1acb-4246-9b34-6566336881f2\" xlink:actuate=\"onRequest\" xlink:href=\"psysml:2fb80261-1acb-4246-9b34-6566336881f2\" xlink:show=\"new\" xlink:title=\"psysml:2fb80261-1acb-4246-9b34-6566336881f2\" xlink:type=\"simple\"><path d=\"M245.77,205.22 C247.1,220.87 246.61,238.96 244.3,252.8 \" fill=\"none\" id=\"E3&lt;-E4-1\" style=\"stroke: #A80036; stroke-width: 1.0; stroke-dasharray: 7.0,7.0;\"/><ellipse cx=\"244.7963\" cy=\"198.0086\" fill=\"#FFFFFF\" rx=\"8\" ry=\"8\" style=\"stroke: #A80036; stroke-width: 1.0;\"/><line style=\"stroke: #A80036; stroke-width: 1.0;\" x1=\"245.8626\" x2=\"243.73\" y1=\"205.9372\" y2=\"190.08\"/><line style=\"stroke: #A80036; stroke-width: 1.0;\" x1=\"236.8677\" x2=\"252.7249\" y1=\"199.0749\" y2=\"196.9423\"/><text fill=\"#000000\" font-family=\"sans-serif\" font-size=\"13\" lengthAdjust=\"spacingAndGlyphs\" textLength=\"8\" x=\"238.1706\" y=\"242.025\">1</text></a><!--MD5=[e9be52314489bd878ff4c7144b63c9e1]\n",
       "link E5 to E3--><a href=\"psysml:bae878c2-3025-4ed8-bae0-781c13e39aed\" target=\"_top\" title=\"psysml:bae878c2-3025-4ed8-bae0-781c13e39aed\" xlink:actuate=\"onRequest\" xlink:href=\"psysml:bae878c2-3025-4ed8-bae0-781c13e39aed\" xlink:show=\"new\" xlink:title=\"psysml:bae878c2-3025-4ed8-bae0-781c13e39aed\" xlink:type=\"simple\"><path d=\"M192.03,87.06 C198.53,100.06 206.93,116.86 214.43,131.86 \" fill=\"none\" id=\"E5-&gt;E3\" style=\"stroke: #A80036; stroke-width: 1.0;\"/><polygon fill=\"#FFFFFF\" points=\"223.39,149.77,208.6231,135.9158,221.1411,129.6468,223.39,149.77\" style=\"stroke: #A80036; stroke-width: 1.0;\"/><ellipse cx=\"207.859\" cy=\"129.9236\" fill=\"#A80036\" rx=\"2\" ry=\"2\" style=\"stroke: #A80036; stroke-width: 1.0;\"/><ellipse cx=\"216.8004\" cy=\"125.4458\" fill=\"#A80036\" rx=\"2\" ry=\"2\" style=\"stroke: #A80036; stroke-width: 1.0;\"/></a><!--MD5=[85d356282659285ab4b2cfe2f634dd2b]\n",
       "reverse link E5 to E6--><a href=\"psysml:cd2d9195-2d40-49eb-a50a-4bb167712418\" target=\"_top\" title=\"psysml:cd2d9195-2d40-49eb-a50a-4bb167712418\" xlink:actuate=\"onRequest\" xlink:href=\"psysml:cd2d9195-2d40-49eb-a50a-4bb167712418\" xlink:show=\"new\" xlink:title=\"psysml:cd2d9195-2d40-49eb-a50a-4bb167712418\" xlink:type=\"simple\"><path d=\"M167.4,99.49 C161.23,115.15 154.12,133.19 148.68,146.98 \" fill=\"none\" id=\"E5&lt;-E6\" style=\"stroke: #A80036; stroke-width: 1.0;\"/><polygon fill=\"#FFFFFF\" points=\"172.3,87.06,166.3778,91.1743,167.8979,98.2234,173.8201,94.1091,172.3,87.06\" style=\"stroke: #A80036; stroke-width: 1.0;\"/><text fill=\"#000000\" font-family=\"sans-serif\" font-size=\"13\" lengthAdjust=\"spacingAndGlyphs\" textLength=\"8\" x=\"141.9378\" y=\"135.8709\">1</text></a><!--MD5=[f667431f98296947986a1a7595a31603]\n",
       "link E6 to E4--><a href=\"psysml:9b4aa44d-c7fb-440f-8f9d-ccf8058f014a\" target=\"_top\" title=\"psysml:9b4aa44d-c7fb-440f-8f9d-ccf8058f014a\" xlink:actuate=\"onRequest\" xlink:href=\"psysml:9b4aa44d-c7fb-440f-8f9d-ccf8058f014a\" xlink:show=\"new\" xlink:title=\"psysml:9b4aa44d-c7fb-440f-8f9d-ccf8058f014a\" xlink:type=\"simple\"><path d=\"M159.72,193.06 C171.31,206.02 186.27,222.74 199.65,237.7 \" fill=\"none\" id=\"E6-&gt;E4\" style=\"stroke: #A80036; stroke-width: 1.0;\"/><polygon fill=\"#FFFFFF\" points=\"213.31,252.98,195.4253,243.486,205.8597,234.152,213.31,252.98\" style=\"stroke: #A80036; stroke-width: 1.0;\"/><line style=\"stroke: #A80036; stroke-width: 2.0;\" x1=\"192.8918\" x2=\"203.3262\" y1=\"240.6538\" y2=\"231.3198\"/></a><!--MD5=[14ccda38c055a5c0da953d572bc50960]\n",
       "link E7 to E3--><a href=\"psysml:22f6621f-c82b-45b4-aad5-95fd1a975c3d\" target=\"_top\" title=\"psysml:22f6621f-c82b-45b4-aad5-95fd1a975c3d\" xlink:actuate=\"onRequest\" xlink:href=\"psysml:22f6621f-c82b-45b4-aad5-95fd1a975c3d\" xlink:show=\"new\" xlink:title=\"psysml:22f6621f-c82b-45b4-aad5-95fd1a975c3d\" xlink:type=\"simple\"><path d=\"M104.57,87.06 C129.93,103.24 164.49,125.29 191.37,142.44 \" fill=\"none\" id=\"E7-&gt;E3\" style=\"stroke: #A80036; stroke-width: 1.0;\"/><polygon fill=\"#FFFFFF\" points=\"208.54,153.39,188.7577,149.0701,196.2889,137.2683,208.54,153.39\" style=\"stroke: #A80036; stroke-width: 1.0;\"/><ellipse cx=\"185.0286\" cy=\"144.3178\" fill=\"#A80036\" rx=\"2\" ry=\"2\" style=\"stroke: #A80036; stroke-width: 1.0;\"/><ellipse cx=\"190.408\" cy=\"135.888\" fill=\"#A80036\" rx=\"2\" ry=\"2\" style=\"stroke: #A80036; stroke-width: 1.0;\"/></a><!--MD5=[dc164f5e8a733ab456ef1add180e9e34]\n",
       "reverse link E7 to E8--><a href=\"psysml:22337106-f0e5-4c32-83fd-01b8d559ead1\" target=\"_top\" title=\"psysml:22337106-f0e5-4c32-83fd-01b8d559ead1\" xlink:actuate=\"onRequest\" xlink:href=\"psysml:22337106-f0e5-4c32-83fd-01b8d559ead1\" xlink:show=\"new\" xlink:title=\"psysml:22337106-f0e5-4c32-83fd-01b8d559ead1\" xlink:type=\"simple\"><path d=\"M64.71,100.09 C65.9,143.61 75.8,216.5 85.96,252.9 \" fill=\"none\" id=\"E7&lt;-E8\" style=\"stroke: #A80036; stroke-width: 1.0;\"/><polygon fill=\"#FFFFFF\" points=\"64.64,87.08,60.673,93.1019,64.7059,99.0798,68.6729,93.0579,64.64,87.08\" style=\"stroke: #A80036; stroke-width: 1.0;\"/><text fill=\"#000000\" font-family=\"sans-serif\" font-size=\"13\" lengthAdjust=\"spacingAndGlyphs\" textLength=\"8\" x=\"73.918\" y=\"241.7694\">1</text></a><!--MD5=[dc164f5e8a733ab456ef1add180e9e34]\n",
       "reverse link E7 to E8--><a href=\"psysml:3441a1bf-d119-4e2c-bd85-6011f03ceff2\" target=\"_top\" title=\"psysml:3441a1bf-d119-4e2c-bd85-6011f03ceff2\" xlink:actuate=\"onRequest\" xlink:href=\"psysml:3441a1bf-d119-4e2c-bd85-6011f03ceff2\" xlink:show=\"new\" xlink:title=\"psysml:3441a1bf-d119-4e2c-bd85-6011f03ceff2\" xlink:type=\"simple\"><path d=\"M85.29,101.8 C95.38,145.5 103.94,216.97 102.84,252.9 \" fill=\"none\" id=\"E7&lt;-E8-1\" style=\"stroke: #A80036; stroke-width: 1.0; stroke-dasharray: 7.0,7.0;\"/><ellipse cx=\"83.5087\" cy=\"94.8289\" fill=\"#FFFFFF\" rx=\"8\" ry=\"8\" style=\"stroke: #A80036; stroke-width: 1.0;\"/><line style=\"stroke: #A80036; stroke-width: 1.0;\" x1=\"85.4973\" x2=\"81.52\" y1=\"102.5778\" y2=\"87.08\"/><line style=\"stroke: #A80036; stroke-width: 1.0;\" x1=\"75.7598\" x2=\"91.2575\" y1=\"96.8175\" y2=\"92.8402\"/><text fill=\"#000000\" font-family=\"sans-serif\" font-size=\"13\" lengthAdjust=\"spacingAndGlyphs\" textLength=\"8\" x=\"105.4845\" y=\"241.7694\">1</text></a><!--MD5=[0a839d0f80c2d72d4b9b307f046d0de8]\n",
       "link E6 to E8--><a href=\"psysml:e347aa3d-31a4-4502-9422-b0b7e8733c17\" target=\"_top\" title=\"psysml:e347aa3d-31a4-4502-9422-b0b7e8733c17\" xlink:actuate=\"onRequest\" xlink:href=\"psysml:e347aa3d-31a4-4502-9422-b0b7e8733c17\" xlink:show=\"new\" xlink:title=\"psysml:e347aa3d-31a4-4502-9422-b0b7e8733c17\" xlink:type=\"simple\"><path d=\"M120.24,193.06 C110.13,210.7 99.95,235.34 95.47,252.98 \" fill=\"none\" id=\"E6-E8\" style=\"stroke: #A80036; stroke-width: 3.0;\"/><text fill=\"#000000\" font-family=\"sans-serif\" font-size=\"13\" lengthAdjust=\"spacingAndGlyphs\" textLength=\"7\" x=\"87.1182\" y=\"241.8709\">*</text></a><!--MD5=[0a839d0f80c2d72d4b9b307f046d0de8]\n",
       "link E6 to E8--><a href=\"psysml:6852a8da-427c-4993-bbf6-22174e5f8d33\" target=\"_top\" title=\"psysml:6852a8da-427c-4993-bbf6-22174e5f8d33\" xlink:actuate=\"onRequest\" xlink:href=\"psysml:6852a8da-427c-4993-bbf6-22174e5f8d33\" xlink:show=\"new\" xlink:title=\"psysml:6852a8da-427c-4993-bbf6-22174e5f8d33\" xlink:type=\"simple\"><path d=\"M142.15,193.06 C137.83,210.7 127.64,235.34 117.37,252.98 \" fill=\"none\" id=\"E6-E8-1\" style=\"stroke: #A80036; stroke-width: 3.0;\"/><text fill=\"#000000\" font-family=\"sans-serif\" font-size=\"13\" lengthAdjust=\"spacingAndGlyphs\" textLength=\"7\" x=\"114.9038\" y=\"241.8709\">*</text></a><!--MD5=[42ee461270ebbfd425d9265349a0fb17]\n",
       "@startuml\r\n",
       " \r\n",
       "package \"AliasTest\" as E1  [[psysml:5020e8e8-e597-4a8a-8c84-9076441471bb ]]  {\r\n",
       "comp usage \"b :> ISQSpaceTime::width\" as E2 << <<(U,orange) attribute>> [[psysml:09023520-b272-4b76-a802-4be530536a95 ]] {\r\n",
       "}\r\n",
       "comp def \"P1\" as E3 << << (B,green) >> [[psysml:2d23ecbc-8f8b-40e5-8168-7a4eefd95afa ]] {\r\n",
       "}\r\n",
       "comp usage \"porig1 \" as E4 << << (P,blue) port>> [[psysml:371120a0-4800-4c08-b9c5-19a2f97c5f1a ]] {\r\n",
       "}\r\n",
       "comp usage \"p1: P1 \" as E5 << << (P,limegreen) part>> [[psysml:23efd2aa-8423-4d75-9f93-6567d973731c ]] {\r\n",
       "}\r\n",
       "comp usage \"po1 \" as E6 << << (P,blue) port>> [[psysml:a6a8a5d4-8051-439c-be85-1eee73d04018 ]] {\r\n",
       "}\r\n",
       "comp usage \"p2: P1 \" as E7 << << (P,limegreen) part>> [[psysml:32558afe-9574-460d-81c7-219976cfcf7f ]] {\r\n",
       "}\r\n",
       "comp usage \"pdest \" as E8 << << (P,blue) port>> [[psysml:9d4715a0-ecad-4cb9-af91-593b0378d847 ]] {\r\n",
       "}\r\n",
       "}\r\n",
       "E3 o- - \"1\"E4 [[psysml:77da464e-a07c-41d7-bf00-c994457c7429 ]] \r\n",
       "E3 +.. \"1\"E4 [[psysml:2fb80261-1acb-4246-9b34-6566336881f2 ]] \r\n",
       "E5 - -:|> E3 [[psysml:bae878c2-3025-4ed8-bae0-781c13e39aed ]] \r\n",
       "E5 o- - \"1\"E6 [[psysml:cd2d9195-2d40-49eb-a50a-4bb167712418 ]] \r\n",
       "E6 - -||> E4 [[psysml:9b4aa44d-c7fb-440f-8f9d-ccf8058f014a ]] \r\n",
       "E7 - -:|> E3 [[psysml:22f6621f-c82b-45b4-aad5-95fd1a975c3d ]] \r\n",
       "E7 o- - \"1\"E8 [[psysml:22337106-f0e5-4c32-83fd-01b8d559ead1 ]] \r\n",
       "E7 +.. \"1\"E8 [[psysml:3441a1bf-d119-4e2c-bd85-6011f03ceff2 ]] \r\n",
       "E6 -[thickness=3]- \"*\"E8 [[psysml:e347aa3d-31a4-4502-9422-b0b7e8733c17 ]] \r\n",
       "E6 -[thickness=3]- \"*\"E8 [[psysml:6852a8da-427c-4993-bbf6-22174e5f8d33 ]] \r\n",
       "@enduml\r\n",
       "\n",
       "PlantUML version 1.2020.13(Sat Jun 13 12:26:38 UTC 2020)\n",
       "(EPL source distribution)\n",
       "Java Runtime: OpenJDK Runtime Environment\n",
       "JVM: OpenJDK 64-Bit Server VM\n",
       "Default Encoding: UTF-8\n",
       "Language: en\n",
       "Country: null\n",
       "--></g></svg>"
      ]
     },
     "execution_count": 31,
     "metadata": {},
     "output_type": "execute_result"
    }
   ],
   "source": [
    "%viz --style=\"PLANTUML\" --view=\"Tree\" \"AliasTest\""
   ]
  },
  {
   "cell_type": "code",
   "execution_count": 32,
   "id": "222607fd",
   "metadata": {
    "execution": {
     "iopub.execute_input": "2022-04-22T09:51:33.072189Z",
     "iopub.status.busy": "2022-04-22T09:51:33.071739Z",
     "iopub.status.idle": "2022-04-22T09:51:33.153787Z",
     "shell.execute_reply": "2022-04-22T09:51:33.152557Z"
    }
   },
   "outputs": [
    {
     "data": {
      "image/svg+xml": [
       "<?xml version=\"1.0\" encoding=\"UTF-8\" standalone=\"no\"?><svg xmlns=\"http://www.w3.org/2000/svg\" xmlns:xlink=\"http://www.w3.org/1999/xlink\" contentScriptType=\"application/ecmascript\" contentStyleType=\"text/css\" height=\"300px\" preserveAspectRatio=\"none\" style=\"width:603px;height:300px;background:#000000;\" version=\"1.1\" viewBox=\"0 0 603 300\" width=\"603px\" zoomAndPan=\"magnify\"><defs/><g><rect fill=\"#1F1201\" height=\"1\" style=\"stroke: #1F1201; stroke-width: 1.0;\" width=\"1\" x=\"0\" y=\"0\"/><rect fill=\"#FFFFFF\" height=\"202.8012\" style=\"stroke: #FFFFFF; stroke-width: 1.0;\" width=\"602\" x=\"0\" y=\"0\"/><text fill=\"#000000\" font-family=\"sans-serif\" font-size=\"12\" font-weight=\"bold\" lengthAdjust=\"spacingAndGlyphs\" textLength=\"139\" x=\"5\" y=\"16.1387\">Welcome to PlantUML!</text><text fill=\"#000000\" font-family=\"sans-serif\" font-size=\"12\" lengthAdjust=\"spacingAndGlyphs\" textLength=\"0\" x=\"9\" y=\"30.1074\"/><text fill=\"#000000\" font-family=\"sans-serif\" font-size=\"12\" lengthAdjust=\"spacingAndGlyphs\" textLength=\"293\" x=\"5\" y=\"44.0762\">If you use this software, you accept its license.</text><text fill=\"#000000\" font-family=\"sans-serif\" font-size=\"12\" lengthAdjust=\"spacingAndGlyphs\" textLength=\"107\" x=\"5\" y=\"58.0449\">(details by typing</text><text fill=\"#000000\" font-family=\"monospace\" font-size=\"12\" lengthAdjust=\"spacingAndGlyphs\" textLength=\"42\" x=\"116\" y=\"58.595\">license</text><text fill=\"#000000\" font-family=\"sans-serif\" font-size=\"12\" lengthAdjust=\"spacingAndGlyphs\" textLength=\"56\" x=\"162\" y=\"58.0449\">keyword)</text><text fill=\"#000000\" font-family=\"sans-serif\" font-size=\"12\" lengthAdjust=\"spacingAndGlyphs\" textLength=\"0\" x=\"9\" y=\"72.0137\"/><text fill=\"#000000\" font-family=\"sans-serif\" font-size=\"12\" lengthAdjust=\"spacingAndGlyphs\" textLength=\"283\" x=\"5\" y=\"85.9824\">You can start with a simple UML Diagram like:</text><text fill=\"#000000\" font-family=\"sans-serif\" font-size=\"12\" lengthAdjust=\"spacingAndGlyphs\" textLength=\"0\" x=\"9\" y=\"99.9512\"/><text fill=\"#000000\" font-family=\"monospace\" font-size=\"12\" lengthAdjust=\"spacingAndGlyphs\" textLength=\"102\" x=\"5\" y=\"113.0893\">Bob-&gt;Alice: Hello</text><text fill=\"#000000\" font-family=\"sans-serif\" font-size=\"12\" lengthAdjust=\"spacingAndGlyphs\" textLength=\"0\" x=\"9\" y=\"126.508\"/><text fill=\"#000000\" font-family=\"sans-serif\" font-size=\"12\" lengthAdjust=\"spacingAndGlyphs\" textLength=\"14\" x=\"5\" y=\"140.4768\">Or</text><text fill=\"#000000\" font-family=\"sans-serif\" font-size=\"12\" lengthAdjust=\"spacingAndGlyphs\" textLength=\"0\" x=\"9\" y=\"154.4455\"/><text fill=\"#000000\" font-family=\"monospace\" font-size=\"12\" lengthAdjust=\"spacingAndGlyphs\" textLength=\"78\" x=\"5\" y=\"167.5837\">class Example</text><text fill=\"#000000\" font-family=\"sans-serif\" font-size=\"12\" lengthAdjust=\"spacingAndGlyphs\" textLength=\"0\" x=\"9\" y=\"181.0023\"/><text fill=\"#000000\" font-family=\"sans-serif\" font-size=\"12\" lengthAdjust=\"spacingAndGlyphs\" textLength=\"349\" x=\"5\" y=\"194.9711\">You will find more information about PlantUML syntax on</text><text fill=\"#000000\" font-family=\"sans-serif\" font-size=\"12\" lengthAdjust=\"spacingAndGlyphs\" text-decoration=\"underline\" textLength=\"129\" x=\"358\" y=\"194.9711\">https://plantuml.com</text><image height=\"71\" width=\"80\" x=\"516\" xlink:href=\"data:image/png;base64,iVBORw0KGgoAAAANSUhEUgAAAFAAAABHCAMAAACnHDC8AAADAFBMVEX///+BpbvD3u/f7vfPz8+nz+g3ksuZEDkWADr/ujlvsdpTodLCwsOLwOEbg8T//v6pqamZETnLysvT09To5+jqLS4VATj9/f27u7vDw8MTfsK+v7/j4+SOweJprdjL4/KxsbEri8jk8PgXa57c29uUETez1utQoNJ1tNtEmc9cptWBut6ayOW/3O6YEDjY6vUfhcXBwcHs7Ozw9/v83t79uTn7+/vX19ehoaHx8fG2tLXHx8fuVlfrNTYaBjn/vUH5+fmko6WXl5f/+fn95ub+9PT+8PD3qKidmaMxIUrnqDWcFj7n5eX09PTu7u2SkpKfnZ6rq6z0lJTm4tzJrHUfDT339/eFGDn6tjcrEzOvrbBuZ3l4eomSMS7Hz9Smpqasu8SFiYuQETfa2du1m6OOM051J0NWTWL5xse4uLj6zc33r6/4vb7ydHXqLi/72dntTE3tR0ijbn5jW3C+u8NANVQrG0XFubqRVGZza4GQGT2VaS7a0NPJtI6IJj/zszrfqkXXzr/Hw8cgC0LUqltOQ2JsSC5bTGjOpFafSi2+iDGtyt14m7TJhTCPJUSwoIG/qa+ikHiIgpCRHjI9j8KXbnaQH0FLf6FGPlp0cnYyKE2rg49Wj7dFXHmcwtrp6uu+xMjvYWLvW1z97e3sPD3sP0DuUlP709PYzdDPmzqZWWySRVygfHHd1smWkZ+PgnibETqsl260q5fLuppJLC/dpj2HPFLTtHv/ujrTwJy5s6iWjIi0iD3joTTCmU3trjuvZS2zlFvjq0HSyLbYp0qRts10XGxEKC9yPVBQZIOPdlNvMk2NeYNqRlujtcCVrr3j5eY1gK9Qn9GLp7lbeJXRxrCkiZDaozyukoJ+H0B3rc+OYy+iprJkYXdhmr6ee0afs79xq9BikrGKjI3FomEiLFO0ay6nfIm4pZXRjTFuhZSZWm0zcZyJN0KNTk4eebNfdIGGlZ93h5kcED5nOVYyRWbziIk9dJ4kerE5ZYxRUnLG1d7p8PTvY2PtTk/1nZ1ycV/bAAAFx0lEQVR4Xu1Ye1BUVRg/e3dhl4csKyxqPlBJQVETF2icAY13GogkEFqizqRRpoBpTCIapaUOhWNjUdOMSBpqJYZTg4KigFKADzSIVZ4qD5VFluXhLgvbPee+r49R7v2z3+zcc77fOfPb7zvfPd85uwCIhwT4wPisANwPAuIKHnbHH1I+KwAXDA18ShDW58CneCEnXl8JGwmfHylCPSvlZ/FWxh8YIRIxTWkZAEofkTz8sNq7tAqE2gODOB6GYZobVaH20SVZ4oQcdmXV0L7c4b8OFvJHRoYwdVIoyPX3gxtFDA+V8e6mM8pBoCjij4wQiWo/ALzV/kpkifBi13p4waZuGrJEECycixcEVSbYgFwUozg4/qSraOxrP7O8Eogj2HDxyMWmzpk6823+yIjhvR7fLOpDsCuGhwC0WfbkjQq8A0MWC0EgIYzPCYMymM8Iwcvz6K4IWw8skTrgq3iPMIQnxdfKrvyedpyvbSsyBQt6zcH6OxXmjqYxg9PbgXBBveK6aRAXNEl1Ssc+hz7Bgntyohb/ggQlNrrdzfIuoYKSb79067PrRoLmGo25SeghJRn1yMrSbPTptZaoBlwtlWbBHspxiW+mW8+46ereVnMXGxbFQ+mjofiHZTrclJn5E14UEgdrO9tRVph0HDJlYlRsLv4XFA7RBA1kK5ogBb7gtn08AvxWymc2b+YzLHC3nnOCNHvdayUsZpnnwnPqGf+yGKcPKlv92vtJC209zGyRWJmgyd16sSGGT/AmM2rdKZKZHxwCz7KUodLzJOO8th4OBqxdo0c2tfUkNr3QlJkZQWWMBP0uwBHvmQQb3zRVCMnsMO6ATazf3f0kkza0HTaPCdIhpyTknqP61Te1eV2gRpr1FUn4xtxRT72pDHhj09/UnBLjiv72p4d8FEtlLibBd7Qg0xK5+XfS9q2AzxSVHPnNIMBS8BQPw8N1W4glQWj0mtp4+nSHhvKYOM4GL6vH1jGTcDQ3p1979AQPI5agXEDYwuS5awknJ73rHU56RyLAr6ACpO5iMRGvp3XykjImgs4Fgm2/7URc8dhbeD9jdhYVNon0mdFcAjTIXbmC75VrmVHcQ+JDIXbuNmYUYlZoYx6XcWjKTWavYXd1WzU9OEh9wLFfEVFza5PEhVhDAvfLx60cWM3ePMa9hyZG5DNr6DbQiCUcYU0AKGzGyYxlkf+wxnCk+wdwCbA/TkWH7Dbgoq8dcmKNssQQ3F/JmMxlIj/fzo/7s9OIwUMebbYzbh2zLfk7ehBGzIau6OeO+xzGKlBRwCGAXNaCFgYbRoKG+hMTfMff4M6h0LYxpmv/92ym9tIxc4uRzawynCEWGhum7odf9/75vh8zg0bKijX5AMxhMacsK8pBxaJihtnQqr1KG8yFMzq/dutJ2iKwNCbXA7Yamsm2Xn0XtgtowY3Xy8rpYc4NNqon8eM49k+NtzU55GtMleGAkNR6oldDMhH+e9EX0JB+UYKv4WgLZrLCjHV7wnyYlzJZvYV6A6d1w6xEph842UUyTkjGIbzwRA/JIOBJKSt88yglqND1h6TpiQqQV99wmJ7nknQcgIIHqd00EwSzgudigGYQUHE4qFMcGJb22kp7lNop8p6znStvg5S2e1TVRti56w/zj8fZzKLiDa317MqBQFbs+J3dcbSgo+H4D0kLOokJ82/NR8KZbp9eIZgllwKR8Ec1ejIX827POk/06HpYffGd5dkoZJXMqDAVXd1Nbhavlx4OyuAiPcyAF3Ick8faXAuE5WToApkMxykL1PbNRJ91SDkXOyymPFR1UMlw9GjRPKCrPsRSvUnbzbkELj2PSSRkQLiH1AvROTutlpryLHQAoCD+C2BBP4npMwd9zsIgzgaDsK+bctmVw3hetai5t9RS4PEqub4QnCvxteGzOZyQXxjscxkhHisWKMi72+T0p1dxGeGYkG0ez+eeG7In/n/oNOexC9fzIiLvPxVtKp84iza+AAAAAElFTkSuQmCC\" y=\"6\"/><rect fill=\"#000000\" height=\"96.4844\" style=\"stroke: #000000; stroke-width: 1.0;\" width=\"602\" x=\"0\" y=\"202.8012\"/><rect fill=\"#33FF02\" height=\"21.2969\" style=\"stroke: #33FF02; stroke-width: 1.0;\" width=\"145\" x=\"5\" y=\"207.8012\"/><text fill=\"#000000\" font-family=\"sans-serif\" font-size=\"14\" font-weight=\"bold\" lengthAdjust=\"spacingAndGlyphs\" textLength=\"143\" x=\"6\" y=\"222.8012\">[From string (line 2) ]</text><text fill=\"#33FF02\" font-family=\"sans-serif\" font-size=\"14\" font-weight=\"bold\" lengthAdjust=\"spacingAndGlyphs\" textLength=\"0\" x=\"9\" y=\"243.0981\"/><text fill=\"#33FF02\" font-family=\"sans-serif\" font-size=\"14\" font-weight=\"bold\" lengthAdjust=\"spacingAndGlyphs\" textLength=\"70\" x=\"5\" y=\"259.3949\">@startuml</text><text fill=\"#33FF02\" font-family=\"sans-serif\" font-size=\"14\" font-weight=\"bold\" lengthAdjust=\"spacingAndGlyphs\" textLength=\"0\" x=\"9\" y=\"275.6918\"/><text fill=\"#FF0000\" font-family=\"sans-serif\" font-size=\"14\" font-weight=\"bold\" lengthAdjust=\"spacingAndGlyphs\" textLength=\"124\" x=\"9\" y=\"291.9887\">Empty description</text><!--MD5=[f59edd8218d337f74d0c332fc6737304]\n",
       "@startuml\r\n",
       " \r\n",
       "@enduml\r\n",
       "\n",
       "PlantUML version 1.2020.13(Sat Jun 13 12:26:38 UTC 2020)\n",
       "(EPL source distribution)\n",
       "Java Runtime: OpenJDK Runtime Environment\n",
       "JVM: OpenJDK 64-Bit Server VM\n",
       "Default Encoding: UTF-8\n",
       "Language: en\n",
       "Country: null\n",
       "--></g></svg>"
      ]
     },
     "execution_count": 32,
     "metadata": {},
     "output_type": "execute_result"
    }
   ],
   "source": [
    "%viz --style=\"PLANTUML\" --view=\"State\" \"AliasTest\""
   ]
  },
  {
   "cell_type": "code",
   "execution_count": 33,
   "id": "f0151640",
   "metadata": {
    "execution": {
     "iopub.execute_input": "2022-04-22T09:51:33.203337Z",
     "iopub.status.busy": "2022-04-22T09:51:33.202936Z",
     "iopub.status.idle": "2022-04-22T09:51:33.231371Z",
     "shell.execute_reply": "2022-04-22T09:51:33.231019Z"
    }
   },
   "outputs": [
    {
     "data": {
      "image/svg+xml": [
       "<?xml version=\"1.0\" encoding=\"UTF-8\" standalone=\"no\"?><svg xmlns=\"http://www.w3.org/2000/svg\" xmlns:xlink=\"http://www.w3.org/1999/xlink\" contentScriptType=\"application/ecmascript\" contentStyleType=\"text/css\" height=\"382px\" preserveAspectRatio=\"none\" style=\"width:396px;height:382px;\" version=\"1.1\" viewBox=\"0 0 396 382\" width=\"396px\" zoomAndPan=\"magnify\"><defs><filter height=\"300%\" id=\"f1seih03p1nizr\" width=\"300%\" x=\"-1\" y=\"-1\"><feGaussianBlur result=\"blurOut\" stdDeviation=\"2.0\"/><feColorMatrix in=\"blurOut\" result=\"blurOut2\" type=\"matrix\" values=\"0 0 0 0 0 0 0 0 0 0 0 0 0 0 0 0 0 0 .4 0\"/><feOffset dx=\"4.0\" dy=\"4.0\" in=\"blurOut2\" result=\"blurOut3\"/><feBlend in=\"SourceGraphic\" in2=\"blurOut3\" mode=\"normal\"/></filter></defs><g><!--MD5=[fbc87193dbaf4d95561dea2c320d4a47]\n",
       "cluster E1--><a href=\"psysml:5020e8e8-e597-4a8a-8c84-9076441471bb\" target=\"_top\" title=\"psysml:5020e8e8-e597-4a8a-8c84-9076441471bb\" xlink:actuate=\"onRequest\" xlink:href=\"psysml:5020e8e8-e597-4a8a-8c84-9076441471bb\" xlink:show=\"new\" xlink:title=\"psysml:5020e8e8-e597-4a8a-8c84-9076441471bb\" xlink:type=\"simple\"><polygon fill=\"#FFFFFF\" filter=\"url(#f1seih03p1nizr)\" points=\"16,6,84,6,91,28.2969,374,28.2969,374,370.36,16,370.36,16,6\" style=\"stroke: #000000; stroke-width: 1.5;\"/><line style=\"stroke: #000000; stroke-width: 1.5;\" x1=\"16\" x2=\"91\" y1=\"28.2969\" y2=\"28.2969\"/><text fill=\"#000000\" font-family=\"sans-serif\" font-size=\"14\" font-weight=\"bold\" lengthAdjust=\"spacingAndGlyphs\" textLength=\"62\" x=\"20\" y=\"20.9951\">AliasTest</text></a><!--MD5=[d5e69f78d87373223dbae638b30a9c99]\n",
       "cluster E3--><a href=\"psysml:2d23ecbc-8f8b-40e5-8168-7a4eefd95afa\" target=\"_top\" title=\"psysml:2d23ecbc-8f8b-40e5-8168-7a4eefd95afa\" xlink:actuate=\"onRequest\" xlink:href=\"psysml:2d23ecbc-8f8b-40e5-8168-7a4eefd95afa\" xlink:show=\"new\" xlink:title=\"psysml:2d23ecbc-8f8b-40e5-8168-7a4eefd95afa\" xlink:type=\"simple\"><rect fill=\"#FFFFFF\" filter=\"url(#f1seih03p1nizr)\" height=\"108.5\" id=\"E3\" style=\"stroke: #A80036; stroke-width: 1.5;\" width=\"83\" x=\"250\" y=\"237.86\"/><rect fill=\"#FEFECE\" height=\"23.9688\" style=\"stroke: #A80036; stroke-width: 1.5;\" width=\"83\" x=\"250\" y=\"237.86\"/><text fill=\"#000000\" font-family=\"sans-serif\" font-size=\"12\" lengthAdjust=\"spacingAndGlyphs\" textLength=\"16\" x=\"283.5\" y=\"253.9987\">P1</text></a><!--MD5=[14e3b0961a2654348d326746436168a1]\n",
       "cluster E6--><a href=\"psysml:23efd2aa-8423-4d75-9f93-6567d973731c\" target=\"_top\" title=\"psysml:23efd2aa-8423-4d75-9f93-6567d973731c\" xlink:actuate=\"onRequest\" xlink:href=\"psysml:23efd2aa-8423-4d75-9f93-6567d973731c\" xlink:show=\"new\" xlink:title=\"psysml:23efd2aa-8423-4d75-9f93-6567d973731c\" xlink:type=\"simple\"><rect fill=\"#FFFFFF\" filter=\"url(#f1seih03p1nizr)\" height=\"97.36\" id=\"E6\" rx=\"10\" ry=\"10\" style=\"stroke: #A80036; stroke-width: 1.5;\" width=\"114\" x=\"236\" y=\"49\"/><rect fill=\"#FEFECE\" height=\"23.9688\" rx=\"10\" ry=\"10\" style=\"stroke: #FEFECE; stroke-width: 1.5;\" width=\"114\" x=\"236\" y=\"49\"/><rect fill=\"#FEFECE\" height=\"10\" style=\"stroke: #FEFECE; stroke-width: 1.5;\" width=\"114\" x=\"236\" y=\"62.9688\"/><rect fill=\"none\" height=\"97.36\" id=\"E6\" rx=\"10\" ry=\"10\" style=\"stroke: #A80036; stroke-width: 1.5;\" width=\"114\" x=\"236\" y=\"49\"/><text fill=\"#000000\" font-family=\"sans-serif\" font-size=\"12\" lengthAdjust=\"spacingAndGlyphs\" textLength=\"40\" x=\"273\" y=\"65.1387\">p1: P1</text><line style=\"stroke: #A80036; stroke-width: 1.0;\" x1=\"236\" x2=\"350\" y1=\"72.9688\" y2=\"72.9688\"/></a><!--MD5=[55dfccfc6c49c2d10cd1bd2211a6c90c]\n",
       "cluster E8--><a href=\"psysml:32558afe-9574-460d-81c7-219976cfcf7f\" target=\"_top\" title=\"psysml:32558afe-9574-460d-81c7-219976cfcf7f\" xlink:actuate=\"onRequest\" xlink:href=\"psysml:32558afe-9574-460d-81c7-219976cfcf7f\" xlink:show=\"new\" xlink:title=\"psysml:32558afe-9574-460d-81c7-219976cfcf7f\" xlink:type=\"simple\"><rect fill=\"#FFFFFF\" filter=\"url(#f1seih03p1nizr)\" height=\"73\" id=\"E8\" rx=\"10\" ry=\"10\" style=\"stroke: #A80036; stroke-width: 1.5;\" width=\"83\" x=\"151\" y=\"198.36\"/><rect fill=\"#FEFECE\" height=\"23.9688\" rx=\"10\" ry=\"10\" style=\"stroke: #FEFECE; stroke-width: 1.5;\" width=\"83\" x=\"151\" y=\"198.36\"/><rect fill=\"#FEFECE\" height=\"10\" style=\"stroke: #FEFECE; stroke-width: 1.5;\" width=\"83\" x=\"151\" y=\"212.3288\"/><rect fill=\"none\" height=\"73\" id=\"E8\" rx=\"10\" ry=\"10\" style=\"stroke: #A80036; stroke-width: 1.5;\" width=\"83\" x=\"151\" y=\"198.36\"/><text fill=\"#000000\" font-family=\"sans-serif\" font-size=\"12\" lengthAdjust=\"spacingAndGlyphs\" textLength=\"40\" x=\"172.5\" y=\"214.4987\">p2: P1</text><line style=\"stroke: #A80036; stroke-width: 1.0;\" x1=\"151\" x2=\"234\" y1=\"222.3288\" y2=\"222.3288\"/></a><!--MD5=[b4997ac47864f28c2f74865a473b2911]\n",
       "class E2--><a href=\"psysml:09023520-b272-4b76-a802-4be530536a95\" target=\"_top\" title=\"psysml:09023520-b272-4b76-a802-4be530536a95\" xlink:actuate=\"onRequest\" xlink:href=\"psysml:09023520-b272-4b76-a802-4be530536a95\" xlink:show=\"new\" xlink:title=\"psysml:09023520-b272-4b76-a802-4be530536a95\" xlink:type=\"simple\"><rect fill=\"#FEFECE\" filter=\"url(#f1seih03p1nizr)\" height=\"45.9375\" id=\"E2\" rx=\"10\" ry=\"10\" style=\"stroke: #A80036; stroke-width: 1.5;\" width=\"191\" x=\"32.5\" y=\"59.5\"/><ellipse cx=\"47.5\" cy=\"78.4688\" fill=\"#FFA500\" rx=\"11\" ry=\"11\" style=\"stroke: #A80036; stroke-width: 1.0;\"/><path d=\"M47.25,83.9375 Q45.5,83.9375 44.5469,82.9063 Q43.6094,81.8594 43.6094,80.0156 L43.6094,73.125 L45.6719,73.125 L45.6719,73.2813 Q45.5781,73.375 45.5469,73.5156 Q45.5313,73.6406 45.5313,73.9063 L45.5313,80.0313 Q45.5313,81.125 45.9063,81.75 Q46.2813,82.375 47.2656,82.375 Q48.25,82.375 48.6406,81.75 Q49.0313,81.125 49.0313,79.9844 L49.0313,73.125 L50.9063,73.125 L50.9063,79.9688 Q50.9063,82 49.875,82.9688 Q48.8594,83.9375 47.25,83.9375 Z \"/><text fill=\"#000000\" font-family=\"sans-serif\" font-size=\"12\" font-style=\"italic\" lengthAdjust=\"spacingAndGlyphs\" textLength=\"69\" x=\"106.5\" y=\"75.6387\">«attribute»</text><text fill=\"#000000\" font-family=\"sans-serif\" font-size=\"12\" lengthAdjust=\"spacingAndGlyphs\" textLength=\"159\" x=\"61.5\" y=\"89.6074\">b :&gt; ISQSpaceTime::width</text><line style=\"stroke: #A80036; stroke-width: 1.5;\" x1=\"33.5\" x2=\"222.5\" y1=\"97.4375\" y2=\"97.4375\"/></a><text fill=\"#000000\" font-family=\"sans-serif\" font-size=\"14\" lengthAdjust=\"spacingAndGlyphs\" textLength=\"44\" x=\"244\" y=\"216.5582\">porig1</text><rect fill=\"#A80036\" height=\"12\" style=\"stroke: #FEFECE; stroke-width: 1.5;\" width=\"12\" x=\"262\" y=\"231.86\"/><text fill=\"#000000\" font-family=\"sans-serif\" font-size=\"14\" lengthAdjust=\"spacingAndGlyphs\" textLength=\"44\" x=\"291\" y=\"216.5582\">porig1</text><rect fill=\"#A80036\" height=\"12\" style=\"stroke: #FEFECE; stroke-width: 1.5;\" width=\"12\" x=\"309\" y=\"231.86\"/><text fill=\"#000000\" font-family=\"sans-serif\" font-size=\"14\" lengthAdjust=\"spacingAndGlyphs\" textLength=\"27\" x=\"238.5\" y=\"165.3551\">po1</text><rect fill=\"#A80036\" height=\"12\" style=\"stroke: #FEFECE; stroke-width: 1.5;\" width=\"12\" x=\"248\" y=\"140.36\"/><text fill=\"#000000\" font-family=\"sans-serif\" font-size=\"14\" lengthAdjust=\"spacingAndGlyphs\" textLength=\"40\" x=\"147\" y=\"177.0582\">pdest</text><rect fill=\"#A80036\" height=\"12\" style=\"stroke: #FEFECE; stroke-width: 1.5;\" width=\"12\" x=\"163\" y=\"192.36\"/><text fill=\"#000000\" font-family=\"sans-serif\" font-size=\"14\" lengthAdjust=\"spacingAndGlyphs\" textLength=\"40\" x=\"194\" y=\"177.0582\">pdest</text><rect fill=\"#A80036\" height=\"12\" style=\"stroke: #FEFECE; stroke-width: 1.5;\" width=\"12\" x=\"210\" y=\"192.36\"/><!--MD5=[a717450b82c80b9240a525fa862496af]\n",
       "link E6 to E3--><a href=\"psysml:bae878c2-3025-4ed8-bae0-781c13e39aed\" target=\"_top\" title=\"psysml:bae878c2-3025-4ed8-bae0-781c13e39aed\" xlink:actuate=\"onRequest\" xlink:href=\"psysml:bae878c2-3025-4ed8-bae0-781c13e39aed\" xlink:show=\"new\" xlink:title=\"psysml:bae878c2-3025-4ed8-bae0-781c13e39aed\" xlink:type=\"simple\"><path d=\"M350.0881,123.2355 C350.1392,123.3155 350.19,123.3957 350.2406,123.476 C350.3418,123.6365 350.4421,123.7974 350.5414,123.9588 C351.3363,125.2499 352.0715,126.5688 352.7392,127.9152 C355.41,133.3006 357,139.125 357,145.36 C357,145.36 357,145.36 357,199.36 C357,235.38 363.53,249.09 344,279.36 C342.1175,282.275 339.8706,284.9894 337.3894,287.5048 C337.0792,287.8193 336.7654,288.1306 336.4482,288.4388 C336.3689,288.5159 336.2893,288.5927 336.2096,288.6694 C336.1698,288.7077 336.1298,288.746 336.0899,288.7843 \" fill=\"none\" id=\"E6-&gt;E3\" style=\"stroke: #A80036; stroke-width: 1.0;\"/><polygon fill=\"#FFFFFF\" points=\"336.0899,288.7843,344.9801,270.5918,354.658,280.7081,336.0899,288.7843\" style=\"stroke: #A80036; stroke-width: 1.0;\"/><ellipse cx=\"350.4814\" cy=\"268.0967\" fill=\"#A80036\" rx=\"2\" ry=\"2\" style=\"stroke: #A80036; stroke-width: 1.0;\"/><ellipse cx=\"357.3942\" cy=\"275.3226\" fill=\"#A80036\" rx=\"2\" ry=\"2\" style=\"stroke: #A80036; stroke-width: 1.0;\"/></a><!--MD5=[95fa686b5a16158bcdbcaeead89f639b]\n",
       "link E8 to E3--><a href=\"psysml:22f6621f-c82b-45b4-aad5-95fd1a975c3d\" target=\"_top\" title=\"psysml:22f6621f-c82b-45b4-aad5-95fd1a975c3d\" xlink:actuate=\"onRequest\" xlink:href=\"psysml:22f6621f-c82b-45b4-aad5-95fd1a975c3d\" xlink:show=\"new\" xlink:title=\"psysml:22f6621f-c82b-45b4-aad5-95fd1a975c3d\" xlink:type=\"simple\"><path d=\"M228.6069,271.4711 C230.7353,272.7659 232.8745,274.0673 235.0138,275.3688 C239.2922,277.9716 243.5705,280.5743 247.7618,283.124 C249.8574,284.3989 251.9312,285.6605 253.9724,286.9022 \" fill=\"none\" id=\"E8-&gt;E3\" style=\"stroke: #A80036; stroke-width: 1.0;\"/><polygon fill=\"#FFFFFF\" points=\"253.9724,286.9022,234.102,283.0078,241.3781,271.0471,253.9724,286.9022\" style=\"stroke: #A80036; stroke-width: 1.0;\"/><ellipse cx=\"230.2717\" cy=\"278.3367\" fill=\"#A80036\" rx=\"2\" ry=\"2\" style=\"stroke: #A80036; stroke-width: 1.0;\"/><ellipse cx=\"235.469\" cy=\"269.7933\" fill=\"#A80036\" rx=\"2\" ry=\"2\" style=\"stroke: #A80036; stroke-width: 1.0;\"/></a><!--MD5=[1c0b9414cc86e0744215edee6abd8926]\n",
       "link E7 to E9--><a href=\"psysml:e347aa3d-31a4-4502-9422-b0b7e8733c17\" target=\"_top\" title=\"psysml:e347aa3d-31a4-4502-9422-b0b7e8733c17\" xlink:actuate=\"onRequest\" xlink:href=\"psysml:e347aa3d-31a4-4502-9422-b0b7e8733c17\" xlink:show=\"new\" xlink:title=\"psysml:e347aa3d-31a4-4502-9422-b0b7e8733c17\" xlink:type=\"simple\"><path d=\"M247.76,147.78 C229.11,150.07 197.53,161.31 175,176.36 C165.47,182.73 155.95,192.95 162.61,196.28 \" fill=\"none\" id=\"E7-E9\" style=\"stroke: #A80036; stroke-width: 3.0;\"/><text fill=\"#000000\" font-family=\"sans-serif\" font-size=\"13\" lengthAdjust=\"spacingAndGlyphs\" textLength=\"7\" x=\"148.0689\" y=\"186.0928\">*</text></a><!--MD5=[1c0b9414cc86e0744215edee6abd8926]\n",
       "link E7 to E9--><a href=\"psysml:6852a8da-427c-4993-bbf6-22174e5f8d33\" target=\"_top\" title=\"psysml:6852a8da-427c-4993-bbf6-22174e5f8d33\" xlink:actuate=\"onRequest\" xlink:href=\"psysml:6852a8da-427c-4993-bbf6-22174e5f8d33\" xlink:show=\"new\" xlink:title=\"psysml:6852a8da-427c-4993-bbf6-22174e5f8d33\" xlink:type=\"simple\"><path d=\"M253.99,152.47 C245.07,157.55 225.42,166.07 210,176.36 C199.84,183.15 189.69,194.32 175.07,196.84 \" fill=\"none\" id=\"E7-E9-1\" style=\"stroke: #A80036; stroke-width: 3.0;\"/><text fill=\"#000000\" font-family=\"sans-serif\" font-size=\"13\" lengthAdjust=\"spacingAndGlyphs\" textLength=\"7\" x=\"182.9653\" y=\"186.5202\">*</text></a><!--MD5=[03d0db09c6f9a11111dd0705472bb73d]\n",
       "@startuml\r\n",
       "skinparam ranksep 10\r\n",
       "skinparam rectangle {\r\n",
       " backgroundColor<<block>> LightGreen\r\n",
       "}\r\n",
       " \r\n",
       "package \"AliasTest\" as E1  [[psysml:5020e8e8-e597-4a8a-8c84-9076441471bb ]]  {\r\n",
       "comp usage \"b :> ISQSpaceTime::width\" as E2 << <<(U,orange) attribute>> [[psysml:09023520-b272-4b76-a802-4be530536a95 ]] {\r\n",
       "}\r\n",
       "rec def \"P1\" as E3 << << (B,green) >> [[psysml:2d23ecbc-8f8b-40e5-8168-7a4eefd95afa ]] {\r\n",
       "portin \"porig1 \" as E4 << << (P,blue) port>> [[psysml:371120a0-4800-4c08-b9c5-19a2f97c5f1a ]] \r\n",
       "portin \"porig1 \" as E5 << << (P,blue) port>> [[psysml:371120a0-4800-4c08-b9c5-19a2f97c5f1a ]] \r\n",
       "}\r\n",
       "rec usage \"p1: P1\" as E6  [[psysml:23efd2aa-8423-4d75-9f93-6567d973731c ]] {\r\n",
       "portout \"po1 \" as E7 << << (P,blue) port>> [[psysml:a6a8a5d4-8051-439c-be85-1eee73d04018 ]] \r\n",
       "}\r\n",
       "rec usage \"p2: P1\" as E8  [[psysml:32558afe-9574-460d-81c7-219976cfcf7f ]] {\r\n",
       "portin \"pdest \" as E9 << << (P,blue) port>> [[psysml:9d4715a0-ecad-4cb9-af91-593b0378d847 ]] \r\n",
       "portin \"pdest \" as E10 << << (P,blue) port>> [[psysml:9d4715a0-ecad-4cb9-af91-593b0378d847 ]] \r\n",
       "}\r\n",
       "}\r\n",
       "E6 - -:|> E3 [[psysml:bae878c2-3025-4ed8-bae0-781c13e39aed ]] \r\n",
       "E8 - -:|> E3 [[psysml:22f6621f-c82b-45b4-aad5-95fd1a975c3d ]] \r\n",
       "E7 -[thickness=3]- \"*\"E9 [[psysml:e347aa3d-31a4-4502-9422-b0b7e8733c17 ]] \r\n",
       "E7 -[thickness=3]- \"*\"E9 [[psysml:6852a8da-427c-4993-bbf6-22174e5f8d33 ]] \r\n",
       "@enduml\r\n",
       "\n",
       "PlantUML version 1.2020.13(Sat Jun 13 12:26:38 UTC 2020)\n",
       "(EPL source distribution)\n",
       "Java Runtime: OpenJDK Runtime Environment\n",
       "JVM: OpenJDK 64-Bit Server VM\n",
       "Default Encoding: UTF-8\n",
       "Language: en\n",
       "Country: null\n",
       "--></g></svg>"
      ]
     },
     "execution_count": 33,
     "metadata": {},
     "output_type": "execute_result"
    }
   ],
   "source": [
    "%viz --style=\"PLANTUML\" --view=\"Interconnection\" \"AliasTest\""
   ]
  },
  {
   "cell_type": "code",
   "execution_count": 34,
   "id": "8ce2f605",
   "metadata": {
    "execution": {
     "iopub.execute_input": "2022-04-22T09:51:33.281003Z",
     "iopub.status.busy": "2022-04-22T09:51:33.280599Z",
     "iopub.status.idle": "2022-04-22T09:51:33.285277Z",
     "shell.execute_reply": "2022-04-22T09:51:33.284911Z"
    }
   },
   "outputs": [
    {
     "data": {
      "image/svg+xml": [
       "<?xml version=\"1.0\" encoding=\"UTF-8\" standalone=\"no\"?><svg xmlns=\"http://www.w3.org/2000/svg\" xmlns:xlink=\"http://www.w3.org/1999/xlink\" contentScriptType=\"application/ecmascript\" contentStyleType=\"text/css\" height=\"12px\" preserveAspectRatio=\"none\" style=\"width:12px;height:12px;\" version=\"1.1\" viewBox=\"0 0 12 12\" width=\"12px\" zoomAndPan=\"magnify\"><defs/><g><!--MD5=[6a4cb978cab31700e1ce5529f947a75d]\n",
       "@startuml\r\n",
       "skinparam ranksep 8\r\n",
       " \r\n",
       "@enduml\r\n",
       "\n",
       "PlantUML version 1.2020.13(Sat Jun 13 12:26:38 UTC 2020)\n",
       "(EPL source distribution)\n",
       "Java Runtime: OpenJDK Runtime Environment\n",
       "JVM: OpenJDK 64-Bit Server VM\n",
       "Default Encoding: UTF-8\n",
       "Language: en\n",
       "Country: null\n",
       "--></g></svg>"
      ]
     },
     "execution_count": 34,
     "metadata": {},
     "output_type": "execute_result"
    }
   ],
   "source": [
    "%viz --style=\"PLANTUML\" --view=\"Action\" \"AliasTest\""
   ]
  },
  {
   "cell_type": "code",
   "execution_count": 35,
   "id": "9c151117",
   "metadata": {
    "execution": {
     "iopub.execute_input": "2022-04-22T09:51:33.335199Z",
     "iopub.status.busy": "2022-04-22T09:51:33.334801Z",
     "iopub.status.idle": "2022-04-22T09:51:33.339416Z",
     "shell.execute_reply": "2022-04-22T09:51:33.339065Z"
    }
   },
   "outputs": [
    {
     "data": {
      "image/svg+xml": [
       "<?xml version=\"1.0\" encoding=\"UTF-8\" standalone=\"no\"?><svg xmlns=\"http://www.w3.org/2000/svg\" xmlns:xlink=\"http://www.w3.org/1999/xlink\" contentScriptType=\"application/ecmascript\" contentStyleType=\"text/css\" height=\"12px\" preserveAspectRatio=\"none\" style=\"width:12px;height:12px;\" version=\"1.1\" viewBox=\"0 0 12 12\" width=\"12px\" zoomAndPan=\"magnify\"><defs/><g><!--MD5=[ca4faa0b02def275ea33c14ea7a1a98d]\n",
       "@startuml\r\n",
       "skinparam roundcorner 20\r\n",
       "skinparam BoxPadding 20\r\n",
       "skinparam SequenceBoxBackgroundColor #white\r\n",
       "skinparam style strictuml\r\n",
       "skinparam maxMessageSize 100\r\n",
       " \r\n",
       "@enduml\r\n",
       "\n",
       "PlantUML version 1.2020.13(Sat Jun 13 12:26:38 UTC 2020)\n",
       "(EPL source distribution)\n",
       "Java Runtime: OpenJDK Runtime Environment\n",
       "JVM: OpenJDK 64-Bit Server VM\n",
       "Default Encoding: UTF-8\n",
       "Language: en\n",
       "Country: null\n",
       "--></g></svg>"
      ]
     },
     "execution_count": 35,
     "metadata": {},
     "output_type": "execute_result"
    }
   ],
   "source": [
    "%viz --style=\"PLANTUML\" --view=\"Sequence\" \"AliasTest\""
   ]
  },
  {
   "cell_type": "code",
   "execution_count": 36,
   "id": "5f7f0d0b",
   "metadata": {
    "execution": {
     "iopub.execute_input": "2022-04-22T09:51:33.388980Z",
     "iopub.status.busy": "2022-04-22T09:51:33.388580Z",
     "iopub.status.idle": "2022-04-22T09:51:33.428707Z",
     "shell.execute_reply": "2022-04-22T09:51:33.427244Z"
    }
   },
   "outputs": [
    {
     "data": {
      "image/svg+xml": [
       "<?xml version=\"1.0\" encoding=\"UTF-8\" standalone=\"no\"?><svg xmlns=\"http://www.w3.org/2000/svg\" xmlns:xlink=\"http://www.w3.org/1999/xlink\" contentScriptType=\"application/ecmascript\" contentStyleType=\"text/css\" height=\"327px\" preserveAspectRatio=\"none\" style=\"width:484px;height:327px;\" version=\"1.1\" viewBox=\"0 0 484 327\" width=\"484px\" zoomAndPan=\"magnify\"><defs><filter height=\"300%\" id=\"f15u7ku9tv660j\" width=\"300%\" x=\"-1\" y=\"-1\"><feGaussianBlur result=\"blurOut\" stdDeviation=\"2.0\"/><feColorMatrix in=\"blurOut\" result=\"blurOut2\" type=\"matrix\" values=\"0 0 0 0 0 0 0 0 0 0 0 0 0 0 0 0 0 0 .4 0\"/><feOffset dx=\"4.0\" dy=\"4.0\" in=\"blurOut2\" result=\"blurOut3\"/><feBlend in=\"SourceGraphic\" in2=\"blurOut3\" mode=\"normal\"/></filter></defs><g><!--MD5=[fbc87193dbaf4d95561dea2c320d4a47]\n",
       "cluster E1--><a href=\"psysml:5020e8e8-e597-4a8a-8c84-9076441471bb\" target=\"_top\" title=\"psysml:5020e8e8-e597-4a8a-8c84-9076441471bb\" xlink:actuate=\"onRequest\" xlink:href=\"psysml:5020e8e8-e597-4a8a-8c84-9076441471bb\" xlink:show=\"new\" xlink:title=\"psysml:5020e8e8-e597-4a8a-8c84-9076441471bb\" xlink:type=\"simple\"><polygon fill=\"#FFFFFF\" filter=\"url(#f15u7ku9tv660j)\" points=\"16,6,84,6,91,28.2969,462,28.2969,462,315,16,315,16,6\" style=\"stroke: #000000; stroke-width: 1.5;\"/><line style=\"stroke: #000000; stroke-width: 1.5;\" x1=\"16\" x2=\"91\" y1=\"28.2969\" y2=\"28.2969\"/><text fill=\"#000000\" font-family=\"sans-serif\" font-size=\"14\" font-weight=\"bold\" lengthAdjust=\"spacingAndGlyphs\" textLength=\"62\" x=\"20\" y=\"20.9951\">AliasTest</text></a><!--MD5=[b4997ac47864f28c2f74865a473b2911]\n",
       "class E2--><a href=\"psysml:09023520-b272-4b76-a802-4be530536a95\" target=\"_top\" title=\"psysml:09023520-b272-4b76-a802-4be530536a95\" xlink:actuate=\"onRequest\" xlink:href=\"psysml:09023520-b272-4b76-a802-4be530536a95\" xlink:show=\"new\" xlink:title=\"psysml:09023520-b272-4b76-a802-4be530536a95\" xlink:type=\"simple\"><rect fill=\"#FEFECE\" filter=\"url(#f15u7ku9tv660j)\" height=\"45.9375\" id=\"E2\" rx=\"10\" ry=\"10\" style=\"stroke: #A80036; stroke-width: 1.5;\" width=\"191\" x=\"254.5\" y=\"41\"/><ellipse cx=\"269.5\" cy=\"59.9688\" fill=\"#FFA500\" rx=\"11\" ry=\"11\" style=\"stroke: #A80036; stroke-width: 1.0;\"/><path d=\"M269.25,65.4375 Q267.5,65.4375 266.5469,64.4063 Q265.6094,63.3594 265.6094,61.5156 L265.6094,54.625 L267.6719,54.625 L267.6719,54.7813 Q267.5781,54.875 267.5469,55.0156 Q267.5313,55.1406 267.5313,55.4063 L267.5313,61.5313 Q267.5313,62.625 267.9063,63.25 Q268.2813,63.875 269.2656,63.875 Q270.25,63.875 270.6406,63.25 Q271.0313,62.625 271.0313,61.4844 L271.0313,54.625 L272.9063,54.625 L272.9063,61.4688 Q272.9063,63.5 271.875,64.4688 Q270.8594,65.4375 269.25,65.4375 Z \"/><text fill=\"#000000\" font-family=\"sans-serif\" font-size=\"12\" font-style=\"italic\" lengthAdjust=\"spacingAndGlyphs\" textLength=\"69\" x=\"328.5\" y=\"57.1387\">«attribute»</text><text fill=\"#000000\" font-family=\"sans-serif\" font-size=\"12\" lengthAdjust=\"spacingAndGlyphs\" textLength=\"159\" x=\"283.5\" y=\"71.1074\">b :&gt; ISQSpaceTime::width</text><line style=\"stroke: #A80036; stroke-width: 1.5;\" x1=\"255.5\" x2=\"444.5\" y1=\"78.9375\" y2=\"78.9375\"/></a><!--MD5=[09b614a08d8cba4a07c9adeb5e0fee81]\n",
       "class E3--><a href=\"psysml:2d23ecbc-8f8b-40e5-8168-7a4eefd95afa\" target=\"_top\" title=\"psysml:2d23ecbc-8f8b-40e5-8168-7a4eefd95afa\" xlink:actuate=\"onRequest\" xlink:href=\"psysml:2d23ecbc-8f8b-40e5-8168-7a4eefd95afa\" xlink:show=\"new\" xlink:title=\"psysml:2d23ecbc-8f8b-40e5-8168-7a4eefd95afa\" xlink:type=\"simple\"><rect fill=\"#FEFECE\" filter=\"url(#f15u7ku9tv660j)\" height=\"40\" id=\"E3\" style=\"stroke: #A80036; stroke-width: 1.5;\" width=\"48\" x=\"209\" y=\"150\"/><ellipse cx=\"224\" cy=\"166\" fill=\"#008000\" rx=\"11\" ry=\"11\" style=\"stroke: #A80036; stroke-width: 1.0;\"/><path d=\"M220.875,171 L220.875,160.4063 L224.1094,160.4063 Q226.0156,160.4063 226.9219,161.1563 Q227.8438,161.9063 227.8438,163.0781 Q227.8438,163.7656 227.4531,164.4219 Q227.0781,165.0781 226.3594,165.375 Q227.2188,165.75 227.7344,166.4375 Q228.25,167.125 228.25,167.9375 Q228.25,169.3125 227.2188,170.1563 Q226.2031,171 224.0938,171 L220.875,171 Z M222.7969,164.6406 L223.9531,164.6406 Q225.0781,164.6406 225.4844,164.2656 Q225.9063,163.875 225.9063,163.25 Q225.9063,162.6719 225.4844,162.3125 Q225.0625,161.9531 224.125,161.9531 L222.7969,161.9531 L222.7969,164.6406 Z M222.7969,169.4219 L224.2969,169.4219 Q225.2031,169.4219 225.7344,169.0313 Q226.2656,168.6406 226.2656,167.8906 Q226.2656,167.125 225.7656,166.6563 Q225.2656,166.1719 224,166.1719 L222.7969,166.1719 L222.7969,169.4219 Z \"/><text fill=\"#000000\" font-family=\"sans-serif\" font-size=\"12\" lengthAdjust=\"spacingAndGlyphs\" textLength=\"16\" x=\"238\" y=\"170.1543\">P1</text><line style=\"stroke: #A80036; stroke-width: 1.5;\" x1=\"210\" x2=\"256\" y1=\"182\" y2=\"182\"/></a><!--MD5=[ebbe1d658d1005bcc118a6aa81145e00]\n",
       "class E4--><a href=\"psysml:371120a0-4800-4c08-b9c5-19a2f97c5f1a\" target=\"_top\" title=\"psysml:371120a0-4800-4c08-b9c5-19a2f97c5f1a\" xlink:actuate=\"onRequest\" xlink:href=\"psysml:371120a0-4800-4c08-b9c5-19a2f97c5f1a\" xlink:show=\"new\" xlink:title=\"psysml:371120a0-4800-4c08-b9c5-19a2f97c5f1a\" xlink:type=\"simple\"><rect fill=\"#FEFECE\" filter=\"url(#f15u7ku9tv660j)\" height=\"45.9375\" id=\"E4\" rx=\"10\" ry=\"10\" style=\"stroke: #A80036; stroke-width: 1.5;\" width=\"76\" x=\"195\" y=\"253\"/><ellipse cx=\"210\" cy=\"271.9688\" fill=\"#0000FF\" rx=\"11\" ry=\"11\" style=\"stroke: #A80036; stroke-width: 1.0;\"/><path d=\"M206.8125,276.9688 L206.8125,266.375 L210.4219,266.375 Q211.6406,266.375 212.4375,266.8125 Q213.2344,267.2344 213.6094,267.9375 Q214,268.6406 214,269.4844 Q214,270.3281 213.625,271.0156 Q213.2656,271.7031 212.4688,272.125 Q211.6875,272.5313 210.5,272.5313 L208.7656,272.5313 L208.7656,276.9688 L206.8125,276.9688 Z M208.7656,270.9375 L210.375,270.9375 Q211.1875,270.9375 211.6094,270.5313 Q212.0313,270.125 212.0313,269.4844 Q212.0313,268.8594 211.6094,268.4531 Q211.1875,268.0469 210.3906,268.0469 L208.7656,268.0469 L208.7656,270.9375 Z \"/><text fill=\"#000000\" font-family=\"sans-serif\" font-size=\"12\" font-style=\"italic\" lengthAdjust=\"spacingAndGlyphs\" textLength=\"40\" x=\"226\" y=\"269.1387\">«port»</text><text fill=\"#000000\" font-family=\"sans-serif\" font-size=\"12\" lengthAdjust=\"spacingAndGlyphs\" textLength=\"40\" x=\"224\" y=\"283.1074\">porig1</text><line style=\"stroke: #A80036; stroke-width: 1.5;\" x1=\"196\" x2=\"270\" y1=\"290.9375\" y2=\"290.9375\"/></a><!--MD5=[270fce915f116d4de14055a7c1d9a0f3]\n",
       "class E5--><a href=\"psysml:23efd2aa-8423-4d75-9f93-6567d973731c\" target=\"_top\" title=\"psysml:23efd2aa-8423-4d75-9f93-6567d973731c\" xlink:actuate=\"onRequest\" xlink:href=\"psysml:23efd2aa-8423-4d75-9f93-6567d973731c\" xlink:show=\"new\" xlink:title=\"psysml:23efd2aa-8423-4d75-9f93-6567d973731c\" xlink:type=\"simple\"><rect fill=\"#FEFECE\" filter=\"url(#f15u7ku9tv660j)\" height=\"45.9375\" id=\"E5\" rx=\"10\" ry=\"10\" style=\"stroke: #A80036; stroke-width: 1.5;\" width=\"76\" x=\"143\" y=\"41\"/><ellipse cx=\"158\" cy=\"59.9688\" fill=\"#32CD32\" rx=\"11\" ry=\"11\" style=\"stroke: #A80036; stroke-width: 1.0;\"/><path d=\"M154.8125,64.9688 L154.8125,54.375 L158.4219,54.375 Q159.6406,54.375 160.4375,54.8125 Q161.2344,55.2344 161.6094,55.9375 Q162,56.6406 162,57.4844 Q162,58.3281 161.625,59.0156 Q161.2656,59.7031 160.4688,60.125 Q159.6875,60.5313 158.5,60.5313 L156.7656,60.5313 L156.7656,64.9688 L154.8125,64.9688 Z M156.7656,58.9375 L158.375,58.9375 Q159.1875,58.9375 159.6094,58.5313 Q160.0313,58.125 160.0313,57.4844 Q160.0313,56.8594 159.6094,56.4531 Q159.1875,56.0469 158.3906,56.0469 L156.7656,56.0469 L156.7656,58.9375 Z \"/><text fill=\"#000000\" font-family=\"sans-serif\" font-size=\"12\" font-style=\"italic\" lengthAdjust=\"spacingAndGlyphs\" textLength=\"40\" x=\"174\" y=\"57.1387\">«part»</text><text fill=\"#000000\" font-family=\"sans-serif\" font-size=\"12\" lengthAdjust=\"spacingAndGlyphs\" textLength=\"40\" x=\"172\" y=\"71.1074\">p1: P1</text><line style=\"stroke: #A80036; stroke-width: 1.5;\" x1=\"144\" x2=\"218\" y1=\"78.9375\" y2=\"78.9375\"/></a><!--MD5=[60a26617385b1d2d0262a64233df1f8d]\n",
       "class E6--><a href=\"psysml:a6a8a5d4-8051-439c-be85-1eee73d04018\" target=\"_top\" title=\"psysml:a6a8a5d4-8051-439c-be85-1eee73d04018\" xlink:actuate=\"onRequest\" xlink:href=\"psysml:a6a8a5d4-8051-439c-be85-1eee73d04018\" xlink:show=\"new\" xlink:title=\"psysml:a6a8a5d4-8051-439c-be85-1eee73d04018\" xlink:type=\"simple\"><rect fill=\"#FEFECE\" filter=\"url(#f15u7ku9tv660j)\" height=\"45.9375\" id=\"E6\" rx=\"10\" ry=\"10\" style=\"stroke: #A80036; stroke-width: 1.5;\" width=\"68\" x=\"106\" y=\"147\"/><ellipse cx=\"121\" cy=\"165.9688\" fill=\"#0000FF\" rx=\"11\" ry=\"11\" style=\"stroke: #A80036; stroke-width: 1.0;\"/><path d=\"M117.8125,170.9688 L117.8125,160.375 L121.4219,160.375 Q122.6406,160.375 123.4375,160.8125 Q124.2344,161.2344 124.6094,161.9375 Q125,162.6406 125,163.4844 Q125,164.3281 124.625,165.0156 Q124.2656,165.7031 123.4688,166.125 Q122.6875,166.5313 121.5,166.5313 L119.7656,166.5313 L119.7656,170.9688 L117.8125,170.9688 Z M119.7656,164.9375 L121.375,164.9375 Q122.1875,164.9375 122.6094,164.5313 Q123.0313,164.125 123.0313,163.4844 Q123.0313,162.8594 122.6094,162.4531 Q122.1875,162.0469 121.3906,162.0469 L119.7656,162.0469 L119.7656,164.9375 Z \"/><text fill=\"#000000\" font-family=\"sans-serif\" font-size=\"12\" font-style=\"italic\" lengthAdjust=\"spacingAndGlyphs\" textLength=\"40\" x=\"133\" y=\"163.1387\">«port»</text><text fill=\"#000000\" font-family=\"sans-serif\" font-size=\"12\" lengthAdjust=\"spacingAndGlyphs\" textLength=\"24\" x=\"139\" y=\"177.1074\">po1</text><line style=\"stroke: #A80036; stroke-width: 1.5;\" x1=\"107\" x2=\"173\" y1=\"184.9375\" y2=\"184.9375\"/></a><!--MD5=[2156ba9850f5573cc1fc38a6a4b2f02b]\n",
       "class E7--><a href=\"psysml:32558afe-9574-460d-81c7-219976cfcf7f\" target=\"_top\" title=\"psysml:32558afe-9574-460d-81c7-219976cfcf7f\" xlink:actuate=\"onRequest\" xlink:href=\"psysml:32558afe-9574-460d-81c7-219976cfcf7f\" xlink:show=\"new\" xlink:title=\"psysml:32558afe-9574-460d-81c7-219976cfcf7f\" xlink:type=\"simple\"><rect fill=\"#FEFECE\" filter=\"url(#f15u7ku9tv660j)\" height=\"45.9375\" id=\"E7\" rx=\"10\" ry=\"10\" style=\"stroke: #A80036; stroke-width: 1.5;\" width=\"76\" x=\"32\" y=\"41\"/><ellipse cx=\"47\" cy=\"59.9688\" fill=\"#32CD32\" rx=\"11\" ry=\"11\" style=\"stroke: #A80036; stroke-width: 1.0;\"/><path d=\"M43.8125,64.9688 L43.8125,54.375 L47.4219,54.375 Q48.6406,54.375 49.4375,54.8125 Q50.2344,55.2344 50.6094,55.9375 Q51,56.6406 51,57.4844 Q51,58.3281 50.625,59.0156 Q50.2656,59.7031 49.4688,60.125 Q48.6875,60.5313 47.5,60.5313 L45.7656,60.5313 L45.7656,64.9688 L43.8125,64.9688 Z M45.7656,58.9375 L47.375,58.9375 Q48.1875,58.9375 48.6094,58.5313 Q49.0313,58.125 49.0313,57.4844 Q49.0313,56.8594 48.6094,56.4531 Q48.1875,56.0469 47.3906,56.0469 L45.7656,56.0469 L45.7656,58.9375 Z \"/><text fill=\"#000000\" font-family=\"sans-serif\" font-size=\"12\" font-style=\"italic\" lengthAdjust=\"spacingAndGlyphs\" textLength=\"40\" x=\"63\" y=\"57.1387\">«part»</text><text fill=\"#000000\" font-family=\"sans-serif\" font-size=\"12\" lengthAdjust=\"spacingAndGlyphs\" textLength=\"40\" x=\"61\" y=\"71.1074\">p2: P1</text><line style=\"stroke: #A80036; stroke-width: 1.5;\" x1=\"33\" x2=\"107\" y1=\"78.9375\" y2=\"78.9375\"/></a><!--MD5=[b9389687b975829384b498ac4b7476b2]\n",
       "class E8--><a href=\"psysml:9d4715a0-ecad-4cb9-af91-593b0378d847\" target=\"_top\" title=\"psysml:9d4715a0-ecad-4cb9-af91-593b0378d847\" xlink:actuate=\"onRequest\" xlink:href=\"psysml:9d4715a0-ecad-4cb9-af91-593b0378d847\" xlink:show=\"new\" xlink:title=\"psysml:9d4715a0-ecad-4cb9-af91-593b0378d847\" xlink:type=\"simple\"><rect fill=\"#FEFECE\" filter=\"url(#f15u7ku9tv660j)\" height=\"45.9375\" id=\"E8\" rx=\"10\" ry=\"10\" style=\"stroke: #A80036; stroke-width: 1.5;\" width=\"72\" x=\"61\" y=\"253\"/><ellipse cx=\"76\" cy=\"271.9688\" fill=\"#0000FF\" rx=\"11\" ry=\"11\" style=\"stroke: #A80036; stroke-width: 1.0;\"/><path d=\"M72.8125,276.9688 L72.8125,266.375 L76.4219,266.375 Q77.6406,266.375 78.4375,266.8125 Q79.2344,267.2344 79.6094,267.9375 Q80,268.6406 80,269.4844 Q80,270.3281 79.625,271.0156 Q79.2656,271.7031 78.4688,272.125 Q77.6875,272.5313 76.5,272.5313 L74.7656,272.5313 L74.7656,276.9688 L72.8125,276.9688 Z M74.7656,270.9375 L76.375,270.9375 Q77.1875,270.9375 77.6094,270.5313 Q78.0313,270.125 78.0313,269.4844 Q78.0313,268.8594 77.6094,268.4531 Q77.1875,268.0469 76.3906,268.0469 L74.7656,268.0469 L74.7656,270.9375 Z \"/><text fill=\"#000000\" font-family=\"sans-serif\" font-size=\"12\" font-style=\"italic\" lengthAdjust=\"spacingAndGlyphs\" textLength=\"40\" x=\"90\" y=\"269.1387\">«port»</text><text fill=\"#000000\" font-family=\"sans-serif\" font-size=\"12\" lengthAdjust=\"spacingAndGlyphs\" textLength=\"36\" x=\"90\" y=\"283.1074\">pdest</text><line style=\"stroke: #A80036; stroke-width: 1.5;\" x1=\"62\" x2=\"132\" y1=\"290.9375\" y2=\"290.9375\"/></a><!--MD5=[4672eba38e49728da53d11aeb285b987]\n",
       "reverse link E3 to E4--><a href=\"psysml:77da464e-a07c-41d7-bf00-c994457c7429\" target=\"_top\" title=\"psysml:77da464e-a07c-41d7-bf00-c994457c7429\" xlink:actuate=\"onRequest\" xlink:href=\"psysml:77da464e-a07c-41d7-bf00-c994457c7429\" xlink:show=\"new\" xlink:title=\"psysml:77da464e-a07c-41d7-bf00-c994457c7429\" xlink:type=\"simple\"><path d=\"M221.1,203.25 C219.65,219.33 220.05,238.37 222.33,252.8 \" fill=\"none\" id=\"E3&lt;-E4\" style=\"stroke: #A80036; stroke-width: 1.0;\"/><polygon fill=\"#FFFFFF\" points=\"222.87,190.08,218.1137,195.5001,221.2875,201.9752,226.0438,196.5551,222.87,190.08\" style=\"stroke: #A80036; stroke-width: 1.0;\"/><text fill=\"#000000\" font-family=\"sans-serif\" font-size=\"13\" lengthAdjust=\"spacingAndGlyphs\" textLength=\"8\" x=\"210.5708\" y=\"242.025\">1</text></a><!--MD5=[4672eba38e49728da53d11aeb285b987]\n",
       "reverse link E3 to E4--><a href=\"psysml:2fb80261-1acb-4246-9b34-6566336881f2\" target=\"_top\" title=\"psysml:2fb80261-1acb-4246-9b34-6566336881f2\" xlink:actuate=\"onRequest\" xlink:href=\"psysml:2fb80261-1acb-4246-9b34-6566336881f2\" xlink:show=\"new\" xlink:title=\"psysml:2fb80261-1acb-4246-9b34-6566336881f2\" xlink:type=\"simple\"><path d=\"M245.77,205.22 C247.1,220.87 246.61,238.96 244.3,252.8 \" fill=\"none\" id=\"E3&lt;-E4-1\" style=\"stroke: #A80036; stroke-width: 1.0; stroke-dasharray: 7.0,7.0;\"/><ellipse cx=\"244.7963\" cy=\"198.0086\" fill=\"#FFFFFF\" rx=\"8\" ry=\"8\" style=\"stroke: #A80036; stroke-width: 1.0;\"/><line style=\"stroke: #A80036; stroke-width: 1.0;\" x1=\"245.8626\" x2=\"243.73\" y1=\"205.9372\" y2=\"190.08\"/><line style=\"stroke: #A80036; stroke-width: 1.0;\" x1=\"236.8677\" x2=\"252.7249\" y1=\"199.0749\" y2=\"196.9423\"/><text fill=\"#000000\" font-family=\"sans-serif\" font-size=\"13\" lengthAdjust=\"spacingAndGlyphs\" textLength=\"8\" x=\"238.1706\" y=\"242.025\">1</text></a><!--MD5=[e9be52314489bd878ff4c7144b63c9e1]\n",
       "link E5 to E3--><a href=\"psysml:bae878c2-3025-4ed8-bae0-781c13e39aed\" target=\"_top\" title=\"psysml:bae878c2-3025-4ed8-bae0-781c13e39aed\" xlink:actuate=\"onRequest\" xlink:href=\"psysml:bae878c2-3025-4ed8-bae0-781c13e39aed\" xlink:show=\"new\" xlink:title=\"psysml:bae878c2-3025-4ed8-bae0-781c13e39aed\" xlink:type=\"simple\"><path d=\"M192.03,87.06 C198.53,100.06 206.93,116.86 214.43,131.86 \" fill=\"none\" id=\"E5-&gt;E3\" style=\"stroke: #A80036; stroke-width: 1.0;\"/><polygon fill=\"#FFFFFF\" points=\"223.39,149.77,208.6231,135.9158,221.1411,129.6468,223.39,149.77\" style=\"stroke: #A80036; stroke-width: 1.0;\"/><ellipse cx=\"207.859\" cy=\"129.9236\" fill=\"#A80036\" rx=\"2\" ry=\"2\" style=\"stroke: #A80036; stroke-width: 1.0;\"/><ellipse cx=\"216.8004\" cy=\"125.4458\" fill=\"#A80036\" rx=\"2\" ry=\"2\" style=\"stroke: #A80036; stroke-width: 1.0;\"/></a><!--MD5=[85d356282659285ab4b2cfe2f634dd2b]\n",
       "reverse link E5 to E6--><a href=\"psysml:cd2d9195-2d40-49eb-a50a-4bb167712418\" target=\"_top\" title=\"psysml:cd2d9195-2d40-49eb-a50a-4bb167712418\" xlink:actuate=\"onRequest\" xlink:href=\"psysml:cd2d9195-2d40-49eb-a50a-4bb167712418\" xlink:show=\"new\" xlink:title=\"psysml:cd2d9195-2d40-49eb-a50a-4bb167712418\" xlink:type=\"simple\"><path d=\"M167.4,99.49 C161.23,115.15 154.12,133.19 148.68,146.98 \" fill=\"none\" id=\"E5&lt;-E6\" style=\"stroke: #A80036; stroke-width: 1.0;\"/><polygon fill=\"#FFFFFF\" points=\"172.3,87.06,166.3778,91.1743,167.8979,98.2234,173.8201,94.1091,172.3,87.06\" style=\"stroke: #A80036; stroke-width: 1.0;\"/><text fill=\"#000000\" font-family=\"sans-serif\" font-size=\"13\" lengthAdjust=\"spacingAndGlyphs\" textLength=\"8\" x=\"141.9378\" y=\"135.8709\">1</text></a><!--MD5=[f667431f98296947986a1a7595a31603]\n",
       "link E6 to E4--><a href=\"psysml:9b4aa44d-c7fb-440f-8f9d-ccf8058f014a\" target=\"_top\" title=\"psysml:9b4aa44d-c7fb-440f-8f9d-ccf8058f014a\" xlink:actuate=\"onRequest\" xlink:href=\"psysml:9b4aa44d-c7fb-440f-8f9d-ccf8058f014a\" xlink:show=\"new\" xlink:title=\"psysml:9b4aa44d-c7fb-440f-8f9d-ccf8058f014a\" xlink:type=\"simple\"><path d=\"M159.72,193.06 C171.31,206.02 186.27,222.74 199.65,237.7 \" fill=\"none\" id=\"E6-&gt;E4\" style=\"stroke: #A80036; stroke-width: 1.0;\"/><polygon fill=\"#FFFFFF\" points=\"213.31,252.98,195.4253,243.486,205.8597,234.152,213.31,252.98\" style=\"stroke: #A80036; stroke-width: 1.0;\"/><line style=\"stroke: #A80036; stroke-width: 2.0;\" x1=\"192.8918\" x2=\"203.3262\" y1=\"240.6538\" y2=\"231.3198\"/></a><!--MD5=[14ccda38c055a5c0da953d572bc50960]\n",
       "link E7 to E3--><a href=\"psysml:22f6621f-c82b-45b4-aad5-95fd1a975c3d\" target=\"_top\" title=\"psysml:22f6621f-c82b-45b4-aad5-95fd1a975c3d\" xlink:actuate=\"onRequest\" xlink:href=\"psysml:22f6621f-c82b-45b4-aad5-95fd1a975c3d\" xlink:show=\"new\" xlink:title=\"psysml:22f6621f-c82b-45b4-aad5-95fd1a975c3d\" xlink:type=\"simple\"><path d=\"M104.57,87.06 C129.93,103.24 164.49,125.29 191.37,142.44 \" fill=\"none\" id=\"E7-&gt;E3\" style=\"stroke: #A80036; stroke-width: 1.0;\"/><polygon fill=\"#FFFFFF\" points=\"208.54,153.39,188.7577,149.0701,196.2889,137.2683,208.54,153.39\" style=\"stroke: #A80036; stroke-width: 1.0;\"/><ellipse cx=\"185.0286\" cy=\"144.3178\" fill=\"#A80036\" rx=\"2\" ry=\"2\" style=\"stroke: #A80036; stroke-width: 1.0;\"/><ellipse cx=\"190.408\" cy=\"135.888\" fill=\"#A80036\" rx=\"2\" ry=\"2\" style=\"stroke: #A80036; stroke-width: 1.0;\"/></a><!--MD5=[dc164f5e8a733ab456ef1add180e9e34]\n",
       "reverse link E7 to E8--><a href=\"psysml:22337106-f0e5-4c32-83fd-01b8d559ead1\" target=\"_top\" title=\"psysml:22337106-f0e5-4c32-83fd-01b8d559ead1\" xlink:actuate=\"onRequest\" xlink:href=\"psysml:22337106-f0e5-4c32-83fd-01b8d559ead1\" xlink:show=\"new\" xlink:title=\"psysml:22337106-f0e5-4c32-83fd-01b8d559ead1\" xlink:type=\"simple\"><path d=\"M64.71,100.09 C65.9,143.61 75.8,216.5 85.96,252.9 \" fill=\"none\" id=\"E7&lt;-E8\" style=\"stroke: #A80036; stroke-width: 1.0;\"/><polygon fill=\"#FFFFFF\" points=\"64.64,87.08,60.673,93.1019,64.7059,99.0798,68.6729,93.0579,64.64,87.08\" style=\"stroke: #A80036; stroke-width: 1.0;\"/><text fill=\"#000000\" font-family=\"sans-serif\" font-size=\"13\" lengthAdjust=\"spacingAndGlyphs\" textLength=\"8\" x=\"73.918\" y=\"241.7694\">1</text></a><!--MD5=[dc164f5e8a733ab456ef1add180e9e34]\n",
       "reverse link E7 to E8--><a href=\"psysml:3441a1bf-d119-4e2c-bd85-6011f03ceff2\" target=\"_top\" title=\"psysml:3441a1bf-d119-4e2c-bd85-6011f03ceff2\" xlink:actuate=\"onRequest\" xlink:href=\"psysml:3441a1bf-d119-4e2c-bd85-6011f03ceff2\" xlink:show=\"new\" xlink:title=\"psysml:3441a1bf-d119-4e2c-bd85-6011f03ceff2\" xlink:type=\"simple\"><path d=\"M85.29,101.8 C95.38,145.5 103.94,216.97 102.84,252.9 \" fill=\"none\" id=\"E7&lt;-E8-1\" style=\"stroke: #A80036; stroke-width: 1.0; stroke-dasharray: 7.0,7.0;\"/><ellipse cx=\"83.5087\" cy=\"94.8289\" fill=\"#FFFFFF\" rx=\"8\" ry=\"8\" style=\"stroke: #A80036; stroke-width: 1.0;\"/><line style=\"stroke: #A80036; stroke-width: 1.0;\" x1=\"85.4973\" x2=\"81.52\" y1=\"102.5778\" y2=\"87.08\"/><line style=\"stroke: #A80036; stroke-width: 1.0;\" x1=\"75.7598\" x2=\"91.2575\" y1=\"96.8175\" y2=\"92.8402\"/><text fill=\"#000000\" font-family=\"sans-serif\" font-size=\"13\" lengthAdjust=\"spacingAndGlyphs\" textLength=\"8\" x=\"105.4845\" y=\"241.7694\">1</text></a><!--MD5=[0a839d0f80c2d72d4b9b307f046d0de8]\n",
       "link E6 to E8--><a href=\"psysml:e347aa3d-31a4-4502-9422-b0b7e8733c17\" target=\"_top\" title=\"psysml:e347aa3d-31a4-4502-9422-b0b7e8733c17\" xlink:actuate=\"onRequest\" xlink:href=\"psysml:e347aa3d-31a4-4502-9422-b0b7e8733c17\" xlink:show=\"new\" xlink:title=\"psysml:e347aa3d-31a4-4502-9422-b0b7e8733c17\" xlink:type=\"simple\"><path d=\"M120.24,193.06 C110.13,210.7 99.95,235.34 95.47,252.98 \" fill=\"none\" id=\"E6-E8\" style=\"stroke: #A80036; stroke-width: 3.0;\"/><text fill=\"#000000\" font-family=\"sans-serif\" font-size=\"13\" lengthAdjust=\"spacingAndGlyphs\" textLength=\"7\" x=\"87.1182\" y=\"241.8709\">*</text></a><!--MD5=[0a839d0f80c2d72d4b9b307f046d0de8]\n",
       "link E6 to E8--><a href=\"psysml:6852a8da-427c-4993-bbf6-22174e5f8d33\" target=\"_top\" title=\"psysml:6852a8da-427c-4993-bbf6-22174e5f8d33\" xlink:actuate=\"onRequest\" xlink:href=\"psysml:6852a8da-427c-4993-bbf6-22174e5f8d33\" xlink:show=\"new\" xlink:title=\"psysml:6852a8da-427c-4993-bbf6-22174e5f8d33\" xlink:type=\"simple\"><path d=\"M142.15,193.06 C137.83,210.7 127.64,235.34 117.37,252.98 \" fill=\"none\" id=\"E6-E8-1\" style=\"stroke: #A80036; stroke-width: 3.0;\"/><text fill=\"#000000\" font-family=\"sans-serif\" font-size=\"13\" lengthAdjust=\"spacingAndGlyphs\" textLength=\"7\" x=\"114.9038\" y=\"241.8709\">*</text></a><!--MD5=[42ee461270ebbfd425d9265349a0fb17]\n",
       "@startuml\r\n",
       " \r\n",
       "package \"AliasTest\" as E1  [[psysml:5020e8e8-e597-4a8a-8c84-9076441471bb ]]  {\r\n",
       "comp usage \"b :> ISQSpaceTime::width\" as E2 << <<(U,orange) attribute>> [[psysml:09023520-b272-4b76-a802-4be530536a95 ]] {\r\n",
       "}\r\n",
       "comp def \"P1\" as E3 << << (B,green) >> [[psysml:2d23ecbc-8f8b-40e5-8168-7a4eefd95afa ]] {\r\n",
       "}\r\n",
       "comp usage \"porig1 \" as E4 << << (P,blue) port>> [[psysml:371120a0-4800-4c08-b9c5-19a2f97c5f1a ]] {\r\n",
       "}\r\n",
       "comp usage \"p1: P1 \" as E5 << << (P,limegreen) part>> [[psysml:23efd2aa-8423-4d75-9f93-6567d973731c ]] {\r\n",
       "}\r\n",
       "comp usage \"po1 \" as E6 << << (P,blue) port>> [[psysml:a6a8a5d4-8051-439c-be85-1eee73d04018 ]] {\r\n",
       "}\r\n",
       "comp usage \"p2: P1 \" as E7 << << (P,limegreen) part>> [[psysml:32558afe-9574-460d-81c7-219976cfcf7f ]] {\r\n",
       "}\r\n",
       "comp usage \"pdest \" as E8 << << (P,blue) port>> [[psysml:9d4715a0-ecad-4cb9-af91-593b0378d847 ]] {\r\n",
       "}\r\n",
       "}\r\n",
       "E3 o- - \"1\"E4 [[psysml:77da464e-a07c-41d7-bf00-c994457c7429 ]] \r\n",
       "E3 +.. \"1\"E4 [[psysml:2fb80261-1acb-4246-9b34-6566336881f2 ]] \r\n",
       "E5 - -:|> E3 [[psysml:bae878c2-3025-4ed8-bae0-781c13e39aed ]] \r\n",
       "E5 o- - \"1\"E6 [[psysml:cd2d9195-2d40-49eb-a50a-4bb167712418 ]] \r\n",
       "E6 - -||> E4 [[psysml:9b4aa44d-c7fb-440f-8f9d-ccf8058f014a ]] \r\n",
       "E7 - -:|> E3 [[psysml:22f6621f-c82b-45b4-aad5-95fd1a975c3d ]] \r\n",
       "E7 o- - \"1\"E8 [[psysml:22337106-f0e5-4c32-83fd-01b8d559ead1 ]] \r\n",
       "E7 +.. \"1\"E8 [[psysml:3441a1bf-d119-4e2c-bd85-6011f03ceff2 ]] \r\n",
       "E6 -[thickness=3]- \"*\"E8 [[psysml:e347aa3d-31a4-4502-9422-b0b7e8733c17 ]] \r\n",
       "E6 -[thickness=3]- \"*\"E8 [[psysml:6852a8da-427c-4993-bbf6-22174e5f8d33 ]] \r\n",
       "@enduml\r\n",
       "\n",
       "PlantUML version 1.2020.13(Sat Jun 13 12:26:38 UTC 2020)\n",
       "(EPL source distribution)\n",
       "Java Runtime: OpenJDK Runtime Environment\n",
       "JVM: OpenJDK 64-Bit Server VM\n",
       "Default Encoding: UTF-8\n",
       "Language: en\n",
       "Country: null\n",
       "--></g></svg>"
      ]
     },
     "execution_count": 36,
     "metadata": {},
     "output_type": "execute_result"
    }
   ],
   "source": [
    "%viz --style=\"PLANTUML\" --view=\"MIXED\" \"AliasTest\""
   ]
  },
  {
   "cell_type": "code",
   "execution_count": 37,
   "id": "2258df3d",
   "metadata": {
    "execution": {
     "iopub.execute_input": "2022-04-22T09:51:33.478194Z",
     "iopub.status.busy": "2022-04-22T09:51:33.477791Z",
     "iopub.status.idle": "2022-04-22T09:51:33.516446Z",
     "shell.execute_reply": "2022-04-22T09:51:33.516096Z"
    }
   },
   "outputs": [
    {
     "data": {
      "image/svg+xml": [
       "<?xml version=\"1.0\" encoding=\"UTF-8\" standalone=\"no\"?><svg xmlns=\"http://www.w3.org/2000/svg\" xmlns:xlink=\"http://www.w3.org/1999/xlink\" contentScriptType=\"application/ecmascript\" contentStyleType=\"text/css\" height=\"327px\" preserveAspectRatio=\"none\" style=\"width:406px;height:327px;\" version=\"1.1\" viewBox=\"0 0 406 327\" width=\"406px\" zoomAndPan=\"magnify\"><defs/><g><!--MD5=[fbc87193dbaf4d95561dea2c320d4a47]\n",
       "cluster E1--><a href=\"psysml:5020e8e8-e597-4a8a-8c84-9076441471bb\" target=\"_top\" title=\"psysml:5020e8e8-e597-4a8a-8c84-9076441471bb\" xlink:actuate=\"onRequest\" xlink:href=\"psysml:5020e8e8-e597-4a8a-8c84-9076441471bb\" xlink:show=\"new\" xlink:title=\"psysml:5020e8e8-e597-4a8a-8c84-9076441471bb\" xlink:type=\"simple\"><polygon fill=\"#FFFFFF\" points=\"16,6,84,6,91,28.2969,384,28.2969,384,315,16,315,16,6\" style=\"stroke: #000000; stroke-width: 1.5;\"/><line style=\"stroke: #000000; stroke-width: 1.5;\" x1=\"16\" x2=\"91\" y1=\"28.2969\" y2=\"28.2969\"/><text fill=\"#000000\" font-family=\"sans-serif\" font-size=\"14\" font-weight=\"bold\" lengthAdjust=\"spacingAndGlyphs\" textLength=\"62\" x=\"20\" y=\"20.9951\">AliasTest</text></a><!--MD5=[b4997ac47864f28c2f74865a473b2911]\n",
       "class E2--><a href=\"psysml:09023520-b272-4b76-a802-4be530536a95\" target=\"_top\" title=\"psysml:09023520-b272-4b76-a802-4be530536a95\" xlink:actuate=\"onRequest\" xlink:href=\"psysml:09023520-b272-4b76-a802-4be530536a95\" xlink:show=\"new\" xlink:title=\"psysml:09023520-b272-4b76-a802-4be530536a95\" xlink:type=\"simple\"><rect fill=\"#FFFFFF\" height=\"45.9375\" id=\"E2\" rx=\"10\" ry=\"10\" style=\"stroke: #383838; stroke-width: 1.5;\" width=\"165\" x=\"202.5\" y=\"41\"/><text fill=\"#000000\" font-family=\"sans-serif\" font-size=\"12\" font-style=\"italic\" lengthAdjust=\"spacingAndGlyphs\" textLength=\"69\" x=\"250.5\" y=\"57.1387\">«attribute»</text><text fill=\"#000000\" font-family=\"sans-serif\" font-size=\"12\" lengthAdjust=\"spacingAndGlyphs\" textLength=\"159\" x=\"205.5\" y=\"71.1074\">b :&gt; ISQSpaceTime::width</text><line style=\"stroke: #383838; stroke-width: 1.5;\" x1=\"203.5\" x2=\"366.5\" y1=\"78.9375\" y2=\"78.9375\"/></a><!--MD5=[09b614a08d8cba4a07c9adeb5e0fee81]\n",
       "class E3--><a href=\"psysml:2d23ecbc-8f8b-40e5-8168-7a4eefd95afa\" target=\"_top\" title=\"psysml:2d23ecbc-8f8b-40e5-8168-7a4eefd95afa\" xlink:actuate=\"onRequest\" xlink:href=\"psysml:2d23ecbc-8f8b-40e5-8168-7a4eefd95afa\" xlink:show=\"new\" xlink:title=\"psysml:2d23ecbc-8f8b-40e5-8168-7a4eefd95afa\" xlink:type=\"simple\"><rect fill=\"#FFFFFF\" height=\"45.9375\" id=\"E3\" style=\"stroke: #383838; stroke-width: 1.5;\" width=\"70\" x=\"170\" y=\"147\"/><text fill=\"#000000\" font-family=\"sans-serif\" font-size=\"12\" font-style=\"italic\" lengthAdjust=\"spacingAndGlyphs\" textLength=\"68\" x=\"171\" y=\"163.1387\">«part  def»</text><text fill=\"#000000\" font-family=\"sans-serif\" font-size=\"12\" lengthAdjust=\"spacingAndGlyphs\" textLength=\"16\" x=\"197\" y=\"177.1074\">P1</text><line style=\"stroke: #383838; stroke-width: 1.5;\" x1=\"171\" x2=\"239\" y1=\"184.9375\" y2=\"184.9375\"/></a><!--MD5=[ebbe1d658d1005bcc118a6aa81145e00]\n",
       "class E4--><a href=\"psysml:371120a0-4800-4c08-b9c5-19a2f97c5f1a\" target=\"_top\" title=\"psysml:371120a0-4800-4c08-b9c5-19a2f97c5f1a\" xlink:actuate=\"onRequest\" xlink:href=\"psysml:371120a0-4800-4c08-b9c5-19a2f97c5f1a\" xlink:show=\"new\" xlink:title=\"psysml:371120a0-4800-4c08-b9c5-19a2f97c5f1a\" xlink:type=\"simple\"><rect fill=\"#FFFFFF\" height=\"45.9375\" id=\"E4\" rx=\"10\" ry=\"10\" style=\"stroke: #383838; stroke-width: 1.5;\" width=\"50\" x=\"180\" y=\"253\"/><text fill=\"#000000\" font-family=\"sans-serif\" font-size=\"12\" font-style=\"italic\" lengthAdjust=\"spacingAndGlyphs\" textLength=\"40\" x=\"185\" y=\"269.1387\">«port»</text><text fill=\"#000000\" font-family=\"sans-serif\" font-size=\"12\" lengthAdjust=\"spacingAndGlyphs\" textLength=\"40\" x=\"183\" y=\"283.1074\">porig1</text><line style=\"stroke: #383838; stroke-width: 1.5;\" x1=\"181\" x2=\"229\" y1=\"290.9375\" y2=\"290.9375\"/></a><!--MD5=[270fce915f116d4de14055a7c1d9a0f3]\n",
       "class E5--><a href=\"psysml:23efd2aa-8423-4d75-9f93-6567d973731c\" target=\"_top\" title=\"psysml:23efd2aa-8423-4d75-9f93-6567d973731c\" xlink:actuate=\"onRequest\" xlink:href=\"psysml:23efd2aa-8423-4d75-9f93-6567d973731c\" xlink:show=\"new\" xlink:title=\"psysml:23efd2aa-8423-4d75-9f93-6567d973731c\" xlink:type=\"simple\"><rect fill=\"#FFFFFF\" height=\"45.9375\" id=\"E5\" rx=\"10\" ry=\"10\" style=\"stroke: #383838; stroke-width: 1.5;\" width=\"50\" x=\"117\" y=\"41\"/><text fill=\"#000000\" font-family=\"sans-serif\" font-size=\"12\" font-style=\"italic\" lengthAdjust=\"spacingAndGlyphs\" textLength=\"40\" x=\"122\" y=\"57.1387\">«part»</text><text fill=\"#000000\" font-family=\"sans-serif\" font-size=\"12\" lengthAdjust=\"spacingAndGlyphs\" textLength=\"40\" x=\"120\" y=\"71.1074\">p1: P1</text><line style=\"stroke: #383838; stroke-width: 1.5;\" x1=\"118\" x2=\"166\" y1=\"78.9375\" y2=\"78.9375\"/></a><!--MD5=[60a26617385b1d2d0262a64233df1f8d]\n",
       "class E6--><a href=\"psysml:a6a8a5d4-8051-439c-be85-1eee73d04018\" target=\"_top\" title=\"psysml:a6a8a5d4-8051-439c-be85-1eee73d04018\" xlink:actuate=\"onRequest\" xlink:href=\"psysml:a6a8a5d4-8051-439c-be85-1eee73d04018\" xlink:show=\"new\" xlink:title=\"psysml:a6a8a5d4-8051-439c-be85-1eee73d04018\" xlink:type=\"simple\"><rect fill=\"#FFFFFF\" height=\"45.9375\" id=\"E6\" rx=\"10\" ry=\"10\" style=\"stroke: #383838; stroke-width: 1.5;\" width=\"42\" x=\"93\" y=\"147\"/><text fill=\"#000000\" font-family=\"sans-serif\" font-size=\"12\" font-style=\"italic\" lengthAdjust=\"spacingAndGlyphs\" textLength=\"40\" x=\"94\" y=\"163.1387\">«port»</text><text fill=\"#000000\" font-family=\"sans-serif\" font-size=\"12\" lengthAdjust=\"spacingAndGlyphs\" textLength=\"24\" x=\"100\" y=\"177.1074\">po1</text><line style=\"stroke: #383838; stroke-width: 1.5;\" x1=\"94\" x2=\"134\" y1=\"184.9375\" y2=\"184.9375\"/></a><!--MD5=[2156ba9850f5573cc1fc38a6a4b2f02b]\n",
       "class E7--><a href=\"psysml:32558afe-9574-460d-81c7-219976cfcf7f\" target=\"_top\" title=\"psysml:32558afe-9574-460d-81c7-219976cfcf7f\" xlink:actuate=\"onRequest\" xlink:href=\"psysml:32558afe-9574-460d-81c7-219976cfcf7f\" xlink:show=\"new\" xlink:title=\"psysml:32558afe-9574-460d-81c7-219976cfcf7f\" xlink:type=\"simple\"><rect fill=\"#FFFFFF\" height=\"45.9375\" id=\"E7\" rx=\"10\" ry=\"10\" style=\"stroke: #383838; stroke-width: 1.5;\" width=\"50\" x=\"32\" y=\"41\"/><text fill=\"#000000\" font-family=\"sans-serif\" font-size=\"12\" font-style=\"italic\" lengthAdjust=\"spacingAndGlyphs\" textLength=\"40\" x=\"37\" y=\"57.1387\">«part»</text><text fill=\"#000000\" font-family=\"sans-serif\" font-size=\"12\" lengthAdjust=\"spacingAndGlyphs\" textLength=\"40\" x=\"35\" y=\"71.1074\">p2: P1</text><line style=\"stroke: #383838; stroke-width: 1.5;\" x1=\"33\" x2=\"81\" y1=\"78.9375\" y2=\"78.9375\"/></a><!--MD5=[b9389687b975829384b498ac4b7476b2]\n",
       "class E8--><a href=\"psysml:9d4715a0-ecad-4cb9-af91-593b0378d847\" target=\"_top\" title=\"psysml:9d4715a0-ecad-4cb9-af91-593b0378d847\" xlink:actuate=\"onRequest\" xlink:href=\"psysml:9d4715a0-ecad-4cb9-af91-593b0378d847\" xlink:show=\"new\" xlink:title=\"psysml:9d4715a0-ecad-4cb9-af91-593b0378d847\" xlink:type=\"simple\"><rect fill=\"#FFFFFF\" height=\"45.9375\" id=\"E8\" rx=\"10\" ry=\"10\" style=\"stroke: #383838; stroke-width: 1.5;\" width=\"46\" x=\"63\" y=\"253\"/><text fill=\"#000000\" font-family=\"sans-serif\" font-size=\"12\" font-style=\"italic\" lengthAdjust=\"spacingAndGlyphs\" textLength=\"40\" x=\"66\" y=\"269.1387\">«port»</text><text fill=\"#000000\" font-family=\"sans-serif\" font-size=\"12\" lengthAdjust=\"spacingAndGlyphs\" textLength=\"36\" x=\"66\" y=\"283.1074\">pdest</text><line style=\"stroke: #383838; stroke-width: 1.5;\" x1=\"64\" x2=\"108\" y1=\"290.9375\" y2=\"290.9375\"/></a><!--MD5=[4672eba38e49728da53d11aeb285b987]\n",
       "reverse link E3 to E4--><a href=\"psysml:77da464e-a07c-41d7-bf00-c994457c7429\" target=\"_top\" title=\"psysml:77da464e-a07c-41d7-bf00-c994457c7429\" xlink:actuate=\"onRequest\" xlink:href=\"psysml:77da464e-a07c-41d7-bf00-c994457c7429\" xlink:show=\"new\" xlink:title=\"psysml:77da464e-a07c-41d7-bf00-c994457c7429\" xlink:type=\"simple\"><path d=\"M192.84,206.44 C191.7,221.87 192.21,239.47 194.36,252.98 \" fill=\"none\" id=\"E3&lt;-E4\" style=\"stroke: #383838; stroke-width: 1.0;\"/><polygon fill=\"#FFFFFF\" points=\"194.35,193.06,189.7032,198.5743,193.006,204.9845,197.6528,199.4702,194.35,193.06\" style=\"stroke: #383838; stroke-width: 1.0;\"/><text fill=\"#000000\" font-family=\"sans-serif\" font-size=\"13\" lengthAdjust=\"spacingAndGlyphs\" textLength=\"8\" x=\"182.4255\" y=\"241.8709\">1</text></a><!--MD5=[4672eba38e49728da53d11aeb285b987]\n",
       "reverse link E3 to E4--><a href=\"psysml:2fb80261-1acb-4246-9b34-6566336881f2\" target=\"_top\" title=\"psysml:2fb80261-1acb-4246-9b34-6566336881f2\" xlink:actuate=\"onRequest\" xlink:href=\"psysml:2fb80261-1acb-4246-9b34-6566336881f2\" xlink:show=\"new\" xlink:title=\"psysml:2fb80261-1acb-4246-9b34-6566336881f2\" xlink:type=\"simple\"><path d=\"M218.01,208.34 C219.03,223.3 218.45,240.02 216.27,252.98 \" fill=\"none\" id=\"E3&lt;-E4-1\" style=\"stroke: #383838; stroke-width: 1.0; stroke-dasharray: 7.0,7.0;\"/><ellipse cx=\"217.1693\" cy=\"201.0093\" fill=\"#FFFFFF\" rx=\"8\" ry=\"8\" style=\"stroke: #383838; stroke-width: 1.0;\"/><line style=\"stroke: #383838; stroke-width: 1.0;\" x1=\"218.0687\" x2=\"216.27\" y1=\"208.9586\" y2=\"193.06\"/><line style=\"stroke: #383838; stroke-width: 1.0;\" x1=\"209.2201\" x2=\"225.1186\" y1=\"201.9086\" y2=\"200.1099\"/><text fill=\"#000000\" font-family=\"sans-serif\" font-size=\"13\" lengthAdjust=\"spacingAndGlyphs\" textLength=\"8\" x=\"210.2238\" y=\"241.8709\">1</text></a><!--MD5=[e9be52314489bd878ff4c7144b63c9e1]\n",
       "link E5 to E3--><a href=\"psysml:bae878c2-3025-4ed8-bae0-781c13e39aed\" target=\"_top\" title=\"psysml:bae878c2-3025-4ed8-bae0-781c13e39aed\" xlink:actuate=\"onRequest\" xlink:href=\"psysml:bae878c2-3025-4ed8-bae0-781c13e39aed\" xlink:show=\"new\" xlink:title=\"psysml:bae878c2-3025-4ed8-bae0-781c13e39aed\" xlink:type=\"simple\"><path d=\"M155.36,87.06 C162.88,99.47 172.49,115.33 181.24,129.78 \" fill=\"none\" id=\"E5-&gt;E3\" style=\"stroke: #383838; stroke-width: 1.0;\"/><polygon fill=\"#FFFFFF\" points=\"191.66,146.98,175.8217,134.3646,187.792,127.1044,191.66,146.98\" style=\"stroke: #383838; stroke-width: 1.0;\"/><ellipse cx=\"174.5758\" cy=\"128.4538\" fill=\"#383838\" rx=\"2\" ry=\"2\" style=\"stroke: #383838; stroke-width: 1.0;\"/><ellipse cx=\"183.126\" cy=\"123.2679\" fill=\"#383838\" rx=\"2\" ry=\"2\" style=\"stroke: #383838; stroke-width: 1.0;\"/></a><!--MD5=[85d356282659285ab4b2cfe2f634dd2b]\n",
       "reverse link E5 to E6--><a href=\"psysml:cd2d9195-2d40-49eb-a50a-4bb167712418\" target=\"_top\" title=\"psysml:cd2d9195-2d40-49eb-a50a-4bb167712418\" xlink:actuate=\"onRequest\" xlink:href=\"psysml:cd2d9195-2d40-49eb-a50a-4bb167712418\" xlink:show=\"new\" xlink:title=\"psysml:cd2d9195-2d40-49eb-a50a-4bb167712418\" xlink:type=\"simple\"><path d=\"M132.59,99.96 C128.4,115.51 123.6,133.33 119.93,146.98 \" fill=\"none\" id=\"E5&lt;-E6\" style=\"stroke: #383838; stroke-width: 1.0;\"/><polygon fill=\"#FFFFFF\" points=\"136.06,87.06,130.641,91.8176,132.9484,98.6496,138.3674,93.892,136.06,87.06\" style=\"stroke: #383838; stroke-width: 1.0;\"/><text fill=\"#000000\" font-family=\"sans-serif\" font-size=\"13\" lengthAdjust=\"spacingAndGlyphs\" textLength=\"8\" x=\"112.4487\" y=\"135.8709\">1</text></a><!--MD5=[f667431f98296947986a1a7595a31603]\n",
       "link E6 to E4--><a href=\"psysml:9b4aa44d-c7fb-440f-8f9d-ccf8058f014a\" target=\"_top\" title=\"psysml:9b4aa44d-c7fb-440f-8f9d-ccf8058f014a\" xlink:actuate=\"onRequest\" xlink:href=\"psysml:9b4aa44d-c7fb-440f-8f9d-ccf8058f014a\" xlink:show=\"new\" xlink:title=\"psysml:9b4aa44d-c7fb-440f-8f9d-ccf8058f014a\" xlink:type=\"simple\"><path d=\"M133.3,193.06 C144.64,206.02 159.28,222.74 172.36,237.7 \" fill=\"none\" id=\"E6-&gt;E4\" style=\"stroke: #383838; stroke-width: 1.0;\"/><polygon fill=\"#FFFFFF\" points=\"185.73,252.98,167.9517,243.2882,178.489,234.0705,185.73,252.98\" style=\"stroke: #383838; stroke-width: 1.0;\"/><line style=\"stroke: #383838; stroke-width: 2.0;\" x1=\"165.4497\" x2=\"175.9871\" y1=\"240.4281\" y2=\"231.2104\"/></a><!--MD5=[14ccda38c055a5c0da953d572bc50960]\n",
       "link E7 to E3--><a href=\"psysml:22f6621f-c82b-45b4-aad5-95fd1a975c3d\" target=\"_top\" title=\"psysml:22f6621f-c82b-45b4-aad5-95fd1a975c3d\" xlink:actuate=\"onRequest\" xlink:href=\"psysml:22f6621f-c82b-45b4-aad5-95fd1a975c3d\" xlink:show=\"new\" xlink:title=\"psysml:22f6621f-c82b-45b4-aad5-95fd1a975c3d\" xlink:type=\"simple\"><path d=\"M82.11,82.64 C102.61,97.05 132.18,117.83 157.18,135.39 \" fill=\"none\" id=\"E7-&gt;E3\" style=\"stroke: #383838; stroke-width: 1.0;\"/><polygon fill=\"#FFFFFF\" points=\"173.58,146.92,154.011,141.7187,162.0629,130.266,173.58,146.92\" style=\"stroke: #383838; stroke-width: 1.0;\"/><ellipse cx=\"150.4983\" cy=\"136.8043\" fill=\"#383838\" rx=\"2\" ry=\"2\" style=\"stroke: #383838; stroke-width: 1.0;\"/><ellipse cx=\"156.2497\" cy=\"128.6238\" fill=\"#383838\" rx=\"2\" ry=\"2\" style=\"stroke: #383838; stroke-width: 1.0;\"/></a><!--MD5=[dc164f5e8a733ab456ef1add180e9e34]\n",
       "reverse link E7 to E8--><a href=\"psysml:22337106-f0e5-4c32-83fd-01b8d559ead1\" target=\"_top\" title=\"psysml:22337106-f0e5-4c32-83fd-01b8d559ead1\" xlink:actuate=\"onRequest\" xlink:href=\"psysml:22337106-f0e5-4c32-83fd-01b8d559ead1\" xlink:show=\"new\" xlink:title=\"psysml:22337106-f0e5-4c32-83fd-01b8d559ead1\" xlink:type=\"simple\"><path d=\"M52.05,100.09 C53.65,143.61 64.25,216.5 74.75,252.9 \" fill=\"none\" id=\"E7&lt;-E8\" style=\"stroke: #383838; stroke-width: 1.0;\"/><polygon fill=\"#FFFFFF\" points=\"51.85,87.08,47.9362,93.1366,52.0216,99.0788,55.9354,93.0222,51.85,87.08\" style=\"stroke: #383838; stroke-width: 1.0;\"/><text fill=\"#000000\" font-family=\"sans-serif\" font-size=\"13\" lengthAdjust=\"spacingAndGlyphs\" textLength=\"8\" x=\"62.6516\" y=\"241.7694\">1</text></a><!--MD5=[dc164f5e8a733ab456ef1add180e9e34]\n",
       "reverse link E7 to E8--><a href=\"psysml:3441a1bf-d119-4e2c-bd85-6011f03ceff2\" target=\"_top\" title=\"psysml:3441a1bf-d119-4e2c-bd85-6011f03ceff2\" xlink:actuate=\"onRequest\" xlink:href=\"psysml:3441a1bf-d119-4e2c-bd85-6011f03ceff2\" xlink:show=\"new\" xlink:title=\"psysml:3441a1bf-d119-4e2c-bd85-6011f03ceff2\" xlink:type=\"simple\"><path d=\"M72.64,101.8 C83.15,145.5 92.39,216.97 91.63,252.9 \" fill=\"none\" id=\"E7&lt;-E8-1\" style=\"stroke: #383838; stroke-width: 1.0; stroke-dasharray: 7.0,7.0;\"/><ellipse cx=\"70.7794\" cy=\"94.813\" fill=\"#FFFFFF\" rx=\"8\" ry=\"8\" style=\"stroke: #383838; stroke-width: 1.0;\"/><line style=\"stroke: #383838; stroke-width: 1.0;\" x1=\"72.8289\" x2=\"68.73\" y1=\"102.5461\" y2=\"87.08\"/><line style=\"stroke: #383838; stroke-width: 1.0;\" x1=\"63.0464\" x2=\"78.5125\" y1=\"96.8625\" y2=\"92.7636\"/><text fill=\"#000000\" font-family=\"sans-serif\" font-size=\"13\" lengthAdjust=\"spacingAndGlyphs\" textLength=\"8\" x=\"94.2181\" y=\"241.7694\">1</text></a><!--MD5=[0a839d0f80c2d72d4b9b307f046d0de8]\n",
       "link E6 to E8--><a href=\"psysml:e347aa3d-31a4-4502-9422-b0b7e8733c17\" target=\"_top\" title=\"psysml:e347aa3d-31a4-4502-9422-b0b7e8733c17\" xlink:actuate=\"onRequest\" xlink:href=\"psysml:e347aa3d-31a4-4502-9422-b0b7e8733c17\" xlink:show=\"new\" xlink:title=\"psysml:e347aa3d-31a4-4502-9422-b0b7e8733c17\" xlink:type=\"simple\"><path d=\"M97.42,193.06 C89.86,210.7 83.23,235.34 81.29,252.98 \" fill=\"none\" id=\"E6-E8\" style=\"stroke: #383838; stroke-width: 3.0;\"/><text fill=\"#000000\" font-family=\"sans-serif\" font-size=\"13\" lengthAdjust=\"spacingAndGlyphs\" textLength=\"7\" x=\"80.9648\" y=\"241.8709\">*</text></a><!--MD5=[0a839d0f80c2d72d4b9b307f046d0de8]\n",
       "link E6 to E8--><a href=\"psysml:6852a8da-427c-4993-bbf6-22174e5f8d33\" target=\"_top\" title=\"psysml:6852a8da-427c-4993-bbf6-22174e5f8d33\" xlink:actuate=\"onRequest\" xlink:href=\"psysml:6852a8da-427c-4993-bbf6-22174e5f8d33\" xlink:show=\"new\" xlink:title=\"psysml:6852a8da-427c-4993-bbf6-22174e5f8d33\" xlink:type=\"simple\"><path d=\"M119.33,193.06 C117.55,210.7 110.92,235.34 103.2,252.98 \" fill=\"none\" id=\"E6-E8-1\" style=\"stroke: #383838; stroke-width: 3.0;\"/><text fill=\"#000000\" font-family=\"sans-serif\" font-size=\"13\" lengthAdjust=\"spacingAndGlyphs\" textLength=\"7\" x=\"99.8819\" y=\"241.8709\">*</text></a><!--MD5=[49bf59ec121361e1b1f31aa70dac3f5b]\n",
       "@startuml\r\n",
       "skinparam monochrome true\r\n",
       "skinparam classbackgroundcolor white\r\n",
       "skinparam shadowing false\r\n",
       "skinparam wrapWidth 300\r\n",
       "hide circle\r\n",
       "\r\n",
       "package \"AliasTest\" as E1  [[psysml:5020e8e8-e597-4a8a-8c84-9076441471bb ]]  {\r\n",
       "comp usage \"b :> ISQSpaceTime::width\" as E2  <<(T,blue) attribute>> [[psysml:09023520-b272-4b76-a802-4be530536a95 ]] {\r\n",
       "}\r\n",
       "comp def \"P1\" as E3  <<(T,blue) part  def>> [[psysml:2d23ecbc-8f8b-40e5-8168-7a4eefd95afa ]] {\r\n",
       "}\r\n",
       "comp usage \"porig1 \" as E4  <<(T,blue) port>> [[psysml:371120a0-4800-4c08-b9c5-19a2f97c5f1a ]] {\r\n",
       "}\r\n",
       "comp usage \"p1: P1 \" as E5  <<(T,blue) part>> [[psysml:23efd2aa-8423-4d75-9f93-6567d973731c ]] {\r\n",
       "}\r\n",
       "comp usage \"po1 \" as E6  <<(T,blue) port>> [[psysml:a6a8a5d4-8051-439c-be85-1eee73d04018 ]] {\r\n",
       "}\r\n",
       "comp usage \"p2: P1 \" as E7  <<(T,blue) part>> [[psysml:32558afe-9574-460d-81c7-219976cfcf7f ]] {\r\n",
       "}\r\n",
       "comp usage \"pdest \" as E8  <<(T,blue) port>> [[psysml:9d4715a0-ecad-4cb9-af91-593b0378d847 ]] {\r\n",
       "}\r\n",
       "}\r\n",
       "E3 o- - \"1\"E4 [[psysml:77da464e-a07c-41d7-bf00-c994457c7429 ]] \r\n",
       "E3 +.. \"1\"E4 [[psysml:2fb80261-1acb-4246-9b34-6566336881f2 ]] \r\n",
       "E5 - -:|> E3 [[psysml:bae878c2-3025-4ed8-bae0-781c13e39aed ]] \r\n",
       "E5 o- - \"1\"E6 [[psysml:cd2d9195-2d40-49eb-a50a-4bb167712418 ]] \r\n",
       "E6 - -||> E4 [[psysml:9b4aa44d-c7fb-440f-8f9d-ccf8058f014a ]] \r\n",
       "E7 - -:|> E3 [[psysml:22f6621f-c82b-45b4-aad5-95fd1a975c3d ]] \r\n",
       "E7 o- - \"1\"E8 [[psysml:22337106-f0e5-4c32-83fd-01b8d559ead1 ]] \r\n",
       "E7 +.. \"1\"E8 [[psysml:3441a1bf-d119-4e2c-bd85-6011f03ceff2 ]] \r\n",
       "E6 -[thickness=3]- \"*\"E8 [[psysml:e347aa3d-31a4-4502-9422-b0b7e8733c17 ]] \r\n",
       "E6 -[thickness=3]- \"*\"E8 [[psysml:6852a8da-427c-4993-bbf6-22174e5f8d33 ]] \r\n",
       "@enduml\r\n",
       "\n",
       "PlantUML version 1.2020.13(Sat Jun 13 12:26:38 UTC 2020)\n",
       "(EPL source distribution)\n",
       "Java Runtime: OpenJDK Runtime Environment\n",
       "JVM: OpenJDK 64-Bit Server VM\n",
       "Default Encoding: UTF-8\n",
       "Language: en\n",
       "Country: null\n",
       "--></g></svg>"
      ]
     },
     "execution_count": 37,
     "metadata": {},
     "output_type": "execute_result"
    }
   ],
   "source": [
    "%viz --style=\"DEFAULT\" --view=\"Default\" \"AliasTest\""
   ]
  },
  {
   "cell_type": "code",
   "execution_count": 38,
   "id": "13b56350",
   "metadata": {
    "execution": {
     "iopub.execute_input": "2022-04-22T09:51:33.566157Z",
     "iopub.status.busy": "2022-04-22T09:51:33.565756Z",
     "iopub.status.idle": "2022-04-22T09:51:33.605629Z",
     "shell.execute_reply": "2022-04-22T09:51:33.605266Z"
    }
   },
   "outputs": [
    {
     "data": {
      "image/svg+xml": [
       "<?xml version=\"1.0\" encoding=\"UTF-8\" standalone=\"no\"?><svg xmlns=\"http://www.w3.org/2000/svg\" xmlns:xlink=\"http://www.w3.org/1999/xlink\" contentScriptType=\"application/ecmascript\" contentStyleType=\"text/css\" height=\"327px\" preserveAspectRatio=\"none\" style=\"width:406px;height:327px;\" version=\"1.1\" viewBox=\"0 0 406 327\" width=\"406px\" zoomAndPan=\"magnify\"><defs/><g><!--MD5=[fbc87193dbaf4d95561dea2c320d4a47]\n",
       "cluster E1--><a href=\"psysml:5020e8e8-e597-4a8a-8c84-9076441471bb\" target=\"_top\" title=\"psysml:5020e8e8-e597-4a8a-8c84-9076441471bb\" xlink:actuate=\"onRequest\" xlink:href=\"psysml:5020e8e8-e597-4a8a-8c84-9076441471bb\" xlink:show=\"new\" xlink:title=\"psysml:5020e8e8-e597-4a8a-8c84-9076441471bb\" xlink:type=\"simple\"><polygon fill=\"#FFFFFF\" points=\"16,6,84,6,91,28.2969,384,28.2969,384,315,16,315,16,6\" style=\"stroke: #000000; stroke-width: 1.5;\"/><line style=\"stroke: #000000; stroke-width: 1.5;\" x1=\"16\" x2=\"91\" y1=\"28.2969\" y2=\"28.2969\"/><text fill=\"#000000\" font-family=\"sans-serif\" font-size=\"14\" font-weight=\"bold\" lengthAdjust=\"spacingAndGlyphs\" textLength=\"62\" x=\"20\" y=\"20.9951\">AliasTest</text></a><!--MD5=[b4997ac47864f28c2f74865a473b2911]\n",
       "class E2--><a href=\"psysml:09023520-b272-4b76-a802-4be530536a95\" target=\"_top\" title=\"psysml:09023520-b272-4b76-a802-4be530536a95\" xlink:actuate=\"onRequest\" xlink:href=\"psysml:09023520-b272-4b76-a802-4be530536a95\" xlink:show=\"new\" xlink:title=\"psysml:09023520-b272-4b76-a802-4be530536a95\" xlink:type=\"simple\"><rect fill=\"#FFFFFF\" height=\"45.9375\" id=\"E2\" rx=\"10\" ry=\"10\" style=\"stroke: #383838; stroke-width: 1.5;\" width=\"165\" x=\"202.5\" y=\"41\"/><text fill=\"#000000\" font-family=\"sans-serif\" font-size=\"12\" font-style=\"italic\" lengthAdjust=\"spacingAndGlyphs\" textLength=\"69\" x=\"250.5\" y=\"57.1387\">«attribute»</text><text fill=\"#000000\" font-family=\"sans-serif\" font-size=\"12\" lengthAdjust=\"spacingAndGlyphs\" textLength=\"159\" x=\"205.5\" y=\"71.1074\">b :&gt; ISQSpaceTime::width</text><line style=\"stroke: #383838; stroke-width: 1.5;\" x1=\"203.5\" x2=\"366.5\" y1=\"78.9375\" y2=\"78.9375\"/></a><!--MD5=[09b614a08d8cba4a07c9adeb5e0fee81]\n",
       "class E3--><a href=\"psysml:2d23ecbc-8f8b-40e5-8168-7a4eefd95afa\" target=\"_top\" title=\"psysml:2d23ecbc-8f8b-40e5-8168-7a4eefd95afa\" xlink:actuate=\"onRequest\" xlink:href=\"psysml:2d23ecbc-8f8b-40e5-8168-7a4eefd95afa\" xlink:show=\"new\" xlink:title=\"psysml:2d23ecbc-8f8b-40e5-8168-7a4eefd95afa\" xlink:type=\"simple\"><rect fill=\"#FFFFFF\" height=\"45.9375\" id=\"E3\" style=\"stroke: #383838; stroke-width: 1.5;\" width=\"70\" x=\"170\" y=\"147\"/><text fill=\"#000000\" font-family=\"sans-serif\" font-size=\"12\" font-style=\"italic\" lengthAdjust=\"spacingAndGlyphs\" textLength=\"68\" x=\"171\" y=\"163.1387\">«part  def»</text><text fill=\"#000000\" font-family=\"sans-serif\" font-size=\"12\" lengthAdjust=\"spacingAndGlyphs\" textLength=\"16\" x=\"197\" y=\"177.1074\">P1</text><line style=\"stroke: #383838; stroke-width: 1.5;\" x1=\"171\" x2=\"239\" y1=\"184.9375\" y2=\"184.9375\"/></a><!--MD5=[ebbe1d658d1005bcc118a6aa81145e00]\n",
       "class E4--><a href=\"psysml:371120a0-4800-4c08-b9c5-19a2f97c5f1a\" target=\"_top\" title=\"psysml:371120a0-4800-4c08-b9c5-19a2f97c5f1a\" xlink:actuate=\"onRequest\" xlink:href=\"psysml:371120a0-4800-4c08-b9c5-19a2f97c5f1a\" xlink:show=\"new\" xlink:title=\"psysml:371120a0-4800-4c08-b9c5-19a2f97c5f1a\" xlink:type=\"simple\"><rect fill=\"#FFFFFF\" height=\"45.9375\" id=\"E4\" rx=\"10\" ry=\"10\" style=\"stroke: #383838; stroke-width: 1.5;\" width=\"50\" x=\"180\" y=\"253\"/><text fill=\"#000000\" font-family=\"sans-serif\" font-size=\"12\" font-style=\"italic\" lengthAdjust=\"spacingAndGlyphs\" textLength=\"40\" x=\"185\" y=\"269.1387\">«port»</text><text fill=\"#000000\" font-family=\"sans-serif\" font-size=\"12\" lengthAdjust=\"spacingAndGlyphs\" textLength=\"40\" x=\"183\" y=\"283.1074\">porig1</text><line style=\"stroke: #383838; stroke-width: 1.5;\" x1=\"181\" x2=\"229\" y1=\"290.9375\" y2=\"290.9375\"/></a><!--MD5=[270fce915f116d4de14055a7c1d9a0f3]\n",
       "class E5--><a href=\"psysml:23efd2aa-8423-4d75-9f93-6567d973731c\" target=\"_top\" title=\"psysml:23efd2aa-8423-4d75-9f93-6567d973731c\" xlink:actuate=\"onRequest\" xlink:href=\"psysml:23efd2aa-8423-4d75-9f93-6567d973731c\" xlink:show=\"new\" xlink:title=\"psysml:23efd2aa-8423-4d75-9f93-6567d973731c\" xlink:type=\"simple\"><rect fill=\"#FFFFFF\" height=\"45.9375\" id=\"E5\" rx=\"10\" ry=\"10\" style=\"stroke: #383838; stroke-width: 1.5;\" width=\"50\" x=\"117\" y=\"41\"/><text fill=\"#000000\" font-family=\"sans-serif\" font-size=\"12\" font-style=\"italic\" lengthAdjust=\"spacingAndGlyphs\" textLength=\"40\" x=\"122\" y=\"57.1387\">«part»</text><text fill=\"#000000\" font-family=\"sans-serif\" font-size=\"12\" lengthAdjust=\"spacingAndGlyphs\" textLength=\"40\" x=\"120\" y=\"71.1074\">p1: P1</text><line style=\"stroke: #383838; stroke-width: 1.5;\" x1=\"118\" x2=\"166\" y1=\"78.9375\" y2=\"78.9375\"/></a><!--MD5=[60a26617385b1d2d0262a64233df1f8d]\n",
       "class E6--><a href=\"psysml:a6a8a5d4-8051-439c-be85-1eee73d04018\" target=\"_top\" title=\"psysml:a6a8a5d4-8051-439c-be85-1eee73d04018\" xlink:actuate=\"onRequest\" xlink:href=\"psysml:a6a8a5d4-8051-439c-be85-1eee73d04018\" xlink:show=\"new\" xlink:title=\"psysml:a6a8a5d4-8051-439c-be85-1eee73d04018\" xlink:type=\"simple\"><rect fill=\"#FFFFFF\" height=\"45.9375\" id=\"E6\" rx=\"10\" ry=\"10\" style=\"stroke: #383838; stroke-width: 1.5;\" width=\"42\" x=\"93\" y=\"147\"/><text fill=\"#000000\" font-family=\"sans-serif\" font-size=\"12\" font-style=\"italic\" lengthAdjust=\"spacingAndGlyphs\" textLength=\"40\" x=\"94\" y=\"163.1387\">«port»</text><text fill=\"#000000\" font-family=\"sans-serif\" font-size=\"12\" lengthAdjust=\"spacingAndGlyphs\" textLength=\"24\" x=\"100\" y=\"177.1074\">po1</text><line style=\"stroke: #383838; stroke-width: 1.5;\" x1=\"94\" x2=\"134\" y1=\"184.9375\" y2=\"184.9375\"/></a><!--MD5=[2156ba9850f5573cc1fc38a6a4b2f02b]\n",
       "class E7--><a href=\"psysml:32558afe-9574-460d-81c7-219976cfcf7f\" target=\"_top\" title=\"psysml:32558afe-9574-460d-81c7-219976cfcf7f\" xlink:actuate=\"onRequest\" xlink:href=\"psysml:32558afe-9574-460d-81c7-219976cfcf7f\" xlink:show=\"new\" xlink:title=\"psysml:32558afe-9574-460d-81c7-219976cfcf7f\" xlink:type=\"simple\"><rect fill=\"#FFFFFF\" height=\"45.9375\" id=\"E7\" rx=\"10\" ry=\"10\" style=\"stroke: #383838; stroke-width: 1.5;\" width=\"50\" x=\"32\" y=\"41\"/><text fill=\"#000000\" font-family=\"sans-serif\" font-size=\"12\" font-style=\"italic\" lengthAdjust=\"spacingAndGlyphs\" textLength=\"40\" x=\"37\" y=\"57.1387\">«part»</text><text fill=\"#000000\" font-family=\"sans-serif\" font-size=\"12\" lengthAdjust=\"spacingAndGlyphs\" textLength=\"40\" x=\"35\" y=\"71.1074\">p2: P1</text><line style=\"stroke: #383838; stroke-width: 1.5;\" x1=\"33\" x2=\"81\" y1=\"78.9375\" y2=\"78.9375\"/></a><!--MD5=[b9389687b975829384b498ac4b7476b2]\n",
       "class E8--><a href=\"psysml:9d4715a0-ecad-4cb9-af91-593b0378d847\" target=\"_top\" title=\"psysml:9d4715a0-ecad-4cb9-af91-593b0378d847\" xlink:actuate=\"onRequest\" xlink:href=\"psysml:9d4715a0-ecad-4cb9-af91-593b0378d847\" xlink:show=\"new\" xlink:title=\"psysml:9d4715a0-ecad-4cb9-af91-593b0378d847\" xlink:type=\"simple\"><rect fill=\"#FFFFFF\" height=\"45.9375\" id=\"E8\" rx=\"10\" ry=\"10\" style=\"stroke: #383838; stroke-width: 1.5;\" width=\"46\" x=\"63\" y=\"253\"/><text fill=\"#000000\" font-family=\"sans-serif\" font-size=\"12\" font-style=\"italic\" lengthAdjust=\"spacingAndGlyphs\" textLength=\"40\" x=\"66\" y=\"269.1387\">«port»</text><text fill=\"#000000\" font-family=\"sans-serif\" font-size=\"12\" lengthAdjust=\"spacingAndGlyphs\" textLength=\"36\" x=\"66\" y=\"283.1074\">pdest</text><line style=\"stroke: #383838; stroke-width: 1.5;\" x1=\"64\" x2=\"108\" y1=\"290.9375\" y2=\"290.9375\"/></a><!--MD5=[4672eba38e49728da53d11aeb285b987]\n",
       "reverse link E3 to E4--><a href=\"psysml:77da464e-a07c-41d7-bf00-c994457c7429\" target=\"_top\" title=\"psysml:77da464e-a07c-41d7-bf00-c994457c7429\" xlink:actuate=\"onRequest\" xlink:href=\"psysml:77da464e-a07c-41d7-bf00-c994457c7429\" xlink:show=\"new\" xlink:title=\"psysml:77da464e-a07c-41d7-bf00-c994457c7429\" xlink:type=\"simple\"><path d=\"M192.84,206.44 C191.7,221.87 192.21,239.47 194.36,252.98 \" fill=\"none\" id=\"E3&lt;-E4\" style=\"stroke: #383838; stroke-width: 1.0;\"/><polygon fill=\"#FFFFFF\" points=\"194.35,193.06,189.7032,198.5743,193.006,204.9845,197.6528,199.4702,194.35,193.06\" style=\"stroke: #383838; stroke-width: 1.0;\"/><text fill=\"#000000\" font-family=\"sans-serif\" font-size=\"13\" lengthAdjust=\"spacingAndGlyphs\" textLength=\"8\" x=\"182.4255\" y=\"241.8709\">1</text></a><!--MD5=[4672eba38e49728da53d11aeb285b987]\n",
       "reverse link E3 to E4--><a href=\"psysml:2fb80261-1acb-4246-9b34-6566336881f2\" target=\"_top\" title=\"psysml:2fb80261-1acb-4246-9b34-6566336881f2\" xlink:actuate=\"onRequest\" xlink:href=\"psysml:2fb80261-1acb-4246-9b34-6566336881f2\" xlink:show=\"new\" xlink:title=\"psysml:2fb80261-1acb-4246-9b34-6566336881f2\" xlink:type=\"simple\"><path d=\"M218.01,208.34 C219.03,223.3 218.45,240.02 216.27,252.98 \" fill=\"none\" id=\"E3&lt;-E4-1\" style=\"stroke: #383838; stroke-width: 1.0; stroke-dasharray: 7.0,7.0;\"/><ellipse cx=\"217.1693\" cy=\"201.0093\" fill=\"#FFFFFF\" rx=\"8\" ry=\"8\" style=\"stroke: #383838; stroke-width: 1.0;\"/><line style=\"stroke: #383838; stroke-width: 1.0;\" x1=\"218.0687\" x2=\"216.27\" y1=\"208.9586\" y2=\"193.06\"/><line style=\"stroke: #383838; stroke-width: 1.0;\" x1=\"209.2201\" x2=\"225.1186\" y1=\"201.9086\" y2=\"200.1099\"/><text fill=\"#000000\" font-family=\"sans-serif\" font-size=\"13\" lengthAdjust=\"spacingAndGlyphs\" textLength=\"8\" x=\"210.2238\" y=\"241.8709\">1</text></a><!--MD5=[e9be52314489bd878ff4c7144b63c9e1]\n",
       "link E5 to E3--><a href=\"psysml:bae878c2-3025-4ed8-bae0-781c13e39aed\" target=\"_top\" title=\"psysml:bae878c2-3025-4ed8-bae0-781c13e39aed\" xlink:actuate=\"onRequest\" xlink:href=\"psysml:bae878c2-3025-4ed8-bae0-781c13e39aed\" xlink:show=\"new\" xlink:title=\"psysml:bae878c2-3025-4ed8-bae0-781c13e39aed\" xlink:type=\"simple\"><path d=\"M155.36,87.06 C162.88,99.47 172.49,115.33 181.24,129.78 \" fill=\"none\" id=\"E5-&gt;E3\" style=\"stroke: #383838; stroke-width: 1.0;\"/><polygon fill=\"#FFFFFF\" points=\"191.66,146.98,175.8217,134.3646,187.792,127.1044,191.66,146.98\" style=\"stroke: #383838; stroke-width: 1.0;\"/><ellipse cx=\"174.5758\" cy=\"128.4538\" fill=\"#383838\" rx=\"2\" ry=\"2\" style=\"stroke: #383838; stroke-width: 1.0;\"/><ellipse cx=\"183.126\" cy=\"123.2679\" fill=\"#383838\" rx=\"2\" ry=\"2\" style=\"stroke: #383838; stroke-width: 1.0;\"/></a><!--MD5=[85d356282659285ab4b2cfe2f634dd2b]\n",
       "reverse link E5 to E6--><a href=\"psysml:cd2d9195-2d40-49eb-a50a-4bb167712418\" target=\"_top\" title=\"psysml:cd2d9195-2d40-49eb-a50a-4bb167712418\" xlink:actuate=\"onRequest\" xlink:href=\"psysml:cd2d9195-2d40-49eb-a50a-4bb167712418\" xlink:show=\"new\" xlink:title=\"psysml:cd2d9195-2d40-49eb-a50a-4bb167712418\" xlink:type=\"simple\"><path d=\"M132.59,99.96 C128.4,115.51 123.6,133.33 119.93,146.98 \" fill=\"none\" id=\"E5&lt;-E6\" style=\"stroke: #383838; stroke-width: 1.0;\"/><polygon fill=\"#FFFFFF\" points=\"136.06,87.06,130.641,91.8176,132.9484,98.6496,138.3674,93.892,136.06,87.06\" style=\"stroke: #383838; stroke-width: 1.0;\"/><text fill=\"#000000\" font-family=\"sans-serif\" font-size=\"13\" lengthAdjust=\"spacingAndGlyphs\" textLength=\"8\" x=\"112.4487\" y=\"135.8709\">1</text></a><!--MD5=[f667431f98296947986a1a7595a31603]\n",
       "link E6 to E4--><a href=\"psysml:9b4aa44d-c7fb-440f-8f9d-ccf8058f014a\" target=\"_top\" title=\"psysml:9b4aa44d-c7fb-440f-8f9d-ccf8058f014a\" xlink:actuate=\"onRequest\" xlink:href=\"psysml:9b4aa44d-c7fb-440f-8f9d-ccf8058f014a\" xlink:show=\"new\" xlink:title=\"psysml:9b4aa44d-c7fb-440f-8f9d-ccf8058f014a\" xlink:type=\"simple\"><path d=\"M133.3,193.06 C144.64,206.02 159.28,222.74 172.36,237.7 \" fill=\"none\" id=\"E6-&gt;E4\" style=\"stroke: #383838; stroke-width: 1.0;\"/><polygon fill=\"#FFFFFF\" points=\"185.73,252.98,167.9517,243.2882,178.489,234.0705,185.73,252.98\" style=\"stroke: #383838; stroke-width: 1.0;\"/><line style=\"stroke: #383838; stroke-width: 2.0;\" x1=\"165.4497\" x2=\"175.9871\" y1=\"240.4281\" y2=\"231.2104\"/></a><!--MD5=[14ccda38c055a5c0da953d572bc50960]\n",
       "link E7 to E3--><a href=\"psysml:22f6621f-c82b-45b4-aad5-95fd1a975c3d\" target=\"_top\" title=\"psysml:22f6621f-c82b-45b4-aad5-95fd1a975c3d\" xlink:actuate=\"onRequest\" xlink:href=\"psysml:22f6621f-c82b-45b4-aad5-95fd1a975c3d\" xlink:show=\"new\" xlink:title=\"psysml:22f6621f-c82b-45b4-aad5-95fd1a975c3d\" xlink:type=\"simple\"><path d=\"M82.11,82.64 C102.61,97.05 132.18,117.83 157.18,135.39 \" fill=\"none\" id=\"E7-&gt;E3\" style=\"stroke: #383838; stroke-width: 1.0;\"/><polygon fill=\"#FFFFFF\" points=\"173.58,146.92,154.011,141.7187,162.0629,130.266,173.58,146.92\" style=\"stroke: #383838; stroke-width: 1.0;\"/><ellipse cx=\"150.4983\" cy=\"136.8043\" fill=\"#383838\" rx=\"2\" ry=\"2\" style=\"stroke: #383838; stroke-width: 1.0;\"/><ellipse cx=\"156.2497\" cy=\"128.6238\" fill=\"#383838\" rx=\"2\" ry=\"2\" style=\"stroke: #383838; stroke-width: 1.0;\"/></a><!--MD5=[dc164f5e8a733ab456ef1add180e9e34]\n",
       "reverse link E7 to E8--><a href=\"psysml:22337106-f0e5-4c32-83fd-01b8d559ead1\" target=\"_top\" title=\"psysml:22337106-f0e5-4c32-83fd-01b8d559ead1\" xlink:actuate=\"onRequest\" xlink:href=\"psysml:22337106-f0e5-4c32-83fd-01b8d559ead1\" xlink:show=\"new\" xlink:title=\"psysml:22337106-f0e5-4c32-83fd-01b8d559ead1\" xlink:type=\"simple\"><path d=\"M52.05,100.09 C53.65,143.61 64.25,216.5 74.75,252.9 \" fill=\"none\" id=\"E7&lt;-E8\" style=\"stroke: #383838; stroke-width: 1.0;\"/><polygon fill=\"#FFFFFF\" points=\"51.85,87.08,47.9362,93.1366,52.0216,99.0788,55.9354,93.0222,51.85,87.08\" style=\"stroke: #383838; stroke-width: 1.0;\"/><text fill=\"#000000\" font-family=\"sans-serif\" font-size=\"13\" lengthAdjust=\"spacingAndGlyphs\" textLength=\"8\" x=\"62.6516\" y=\"241.7694\">1</text></a><!--MD5=[dc164f5e8a733ab456ef1add180e9e34]\n",
       "reverse link E7 to E8--><a href=\"psysml:3441a1bf-d119-4e2c-bd85-6011f03ceff2\" target=\"_top\" title=\"psysml:3441a1bf-d119-4e2c-bd85-6011f03ceff2\" xlink:actuate=\"onRequest\" xlink:href=\"psysml:3441a1bf-d119-4e2c-bd85-6011f03ceff2\" xlink:show=\"new\" xlink:title=\"psysml:3441a1bf-d119-4e2c-bd85-6011f03ceff2\" xlink:type=\"simple\"><path d=\"M72.64,101.8 C83.15,145.5 92.39,216.97 91.63,252.9 \" fill=\"none\" id=\"E7&lt;-E8-1\" style=\"stroke: #383838; stroke-width: 1.0; stroke-dasharray: 7.0,7.0;\"/><ellipse cx=\"70.7794\" cy=\"94.813\" fill=\"#FFFFFF\" rx=\"8\" ry=\"8\" style=\"stroke: #383838; stroke-width: 1.0;\"/><line style=\"stroke: #383838; stroke-width: 1.0;\" x1=\"72.8289\" x2=\"68.73\" y1=\"102.5461\" y2=\"87.08\"/><line style=\"stroke: #383838; stroke-width: 1.0;\" x1=\"63.0464\" x2=\"78.5125\" y1=\"96.8625\" y2=\"92.7636\"/><text fill=\"#000000\" font-family=\"sans-serif\" font-size=\"13\" lengthAdjust=\"spacingAndGlyphs\" textLength=\"8\" x=\"94.2181\" y=\"241.7694\">1</text></a><!--MD5=[0a839d0f80c2d72d4b9b307f046d0de8]\n",
       "link E6 to E8--><a href=\"psysml:e347aa3d-31a4-4502-9422-b0b7e8733c17\" target=\"_top\" title=\"psysml:e347aa3d-31a4-4502-9422-b0b7e8733c17\" xlink:actuate=\"onRequest\" xlink:href=\"psysml:e347aa3d-31a4-4502-9422-b0b7e8733c17\" xlink:show=\"new\" xlink:title=\"psysml:e347aa3d-31a4-4502-9422-b0b7e8733c17\" xlink:type=\"simple\"><path d=\"M97.42,193.06 C89.86,210.7 83.23,235.34 81.29,252.98 \" fill=\"none\" id=\"E6-E8\" style=\"stroke: #383838; stroke-width: 3.0;\"/><text fill=\"#000000\" font-family=\"sans-serif\" font-size=\"13\" lengthAdjust=\"spacingAndGlyphs\" textLength=\"7\" x=\"80.9648\" y=\"241.8709\">*</text></a><!--MD5=[0a839d0f80c2d72d4b9b307f046d0de8]\n",
       "link E6 to E8--><a href=\"psysml:6852a8da-427c-4993-bbf6-22174e5f8d33\" target=\"_top\" title=\"psysml:6852a8da-427c-4993-bbf6-22174e5f8d33\" xlink:actuate=\"onRequest\" xlink:href=\"psysml:6852a8da-427c-4993-bbf6-22174e5f8d33\" xlink:show=\"new\" xlink:title=\"psysml:6852a8da-427c-4993-bbf6-22174e5f8d33\" xlink:type=\"simple\"><path d=\"M119.33,193.06 C117.55,210.7 110.92,235.34 103.2,252.98 \" fill=\"none\" id=\"E6-E8-1\" style=\"stroke: #383838; stroke-width: 3.0;\"/><text fill=\"#000000\" font-family=\"sans-serif\" font-size=\"13\" lengthAdjust=\"spacingAndGlyphs\" textLength=\"7\" x=\"99.8819\" y=\"241.8709\">*</text></a><!--MD5=[49bf59ec121361e1b1f31aa70dac3f5b]\n",
       "@startuml\r\n",
       "skinparam monochrome true\r\n",
       "skinparam classbackgroundcolor white\r\n",
       "skinparam shadowing false\r\n",
       "skinparam wrapWidth 300\r\n",
       "hide circle\r\n",
       "\r\n",
       "package \"AliasTest\" as E1  [[psysml:5020e8e8-e597-4a8a-8c84-9076441471bb ]]  {\r\n",
       "comp usage \"b :> ISQSpaceTime::width\" as E2  <<(T,blue) attribute>> [[psysml:09023520-b272-4b76-a802-4be530536a95 ]] {\r\n",
       "}\r\n",
       "comp def \"P1\" as E3  <<(T,blue) part  def>> [[psysml:2d23ecbc-8f8b-40e5-8168-7a4eefd95afa ]] {\r\n",
       "}\r\n",
       "comp usage \"porig1 \" as E4  <<(T,blue) port>> [[psysml:371120a0-4800-4c08-b9c5-19a2f97c5f1a ]] {\r\n",
       "}\r\n",
       "comp usage \"p1: P1 \" as E5  <<(T,blue) part>> [[psysml:23efd2aa-8423-4d75-9f93-6567d973731c ]] {\r\n",
       "}\r\n",
       "comp usage \"po1 \" as E6  <<(T,blue) port>> [[psysml:a6a8a5d4-8051-439c-be85-1eee73d04018 ]] {\r\n",
       "}\r\n",
       "comp usage \"p2: P1 \" as E7  <<(T,blue) part>> [[psysml:32558afe-9574-460d-81c7-219976cfcf7f ]] {\r\n",
       "}\r\n",
       "comp usage \"pdest \" as E8  <<(T,blue) port>> [[psysml:9d4715a0-ecad-4cb9-af91-593b0378d847 ]] {\r\n",
       "}\r\n",
       "}\r\n",
       "E3 o- - \"1\"E4 [[psysml:77da464e-a07c-41d7-bf00-c994457c7429 ]] \r\n",
       "E3 +.. \"1\"E4 [[psysml:2fb80261-1acb-4246-9b34-6566336881f2 ]] \r\n",
       "E5 - -:|> E3 [[psysml:bae878c2-3025-4ed8-bae0-781c13e39aed ]] \r\n",
       "E5 o- - \"1\"E6 [[psysml:cd2d9195-2d40-49eb-a50a-4bb167712418 ]] \r\n",
       "E6 - -||> E4 [[psysml:9b4aa44d-c7fb-440f-8f9d-ccf8058f014a ]] \r\n",
       "E7 - -:|> E3 [[psysml:22f6621f-c82b-45b4-aad5-95fd1a975c3d ]] \r\n",
       "E7 o- - \"1\"E8 [[psysml:22337106-f0e5-4c32-83fd-01b8d559ead1 ]] \r\n",
       "E7 +.. \"1\"E8 [[psysml:3441a1bf-d119-4e2c-bd85-6011f03ceff2 ]] \r\n",
       "E6 -[thickness=3]- \"*\"E8 [[psysml:e347aa3d-31a4-4502-9422-b0b7e8733c17 ]] \r\n",
       "E6 -[thickness=3]- \"*\"E8 [[psysml:6852a8da-427c-4993-bbf6-22174e5f8d33 ]] \r\n",
       "@enduml\r\n",
       "\n",
       "PlantUML version 1.2020.13(Sat Jun 13 12:26:38 UTC 2020)\n",
       "(EPL source distribution)\n",
       "Java Runtime: OpenJDK Runtime Environment\n",
       "JVM: OpenJDK 64-Bit Server VM\n",
       "Default Encoding: UTF-8\n",
       "Language: en\n",
       "Country: null\n",
       "--></g></svg>"
      ]
     },
     "execution_count": 38,
     "metadata": {},
     "output_type": "execute_result"
    }
   ],
   "source": [
    "%viz --style=\"DEFAULT\" --view=\"Tree\" \"AliasTest\""
   ]
  },
  {
   "cell_type": "code",
   "execution_count": 39,
   "id": "5e28bf6e",
   "metadata": {
    "execution": {
     "iopub.execute_input": "2022-04-22T09:51:33.655299Z",
     "iopub.status.busy": "2022-04-22T09:51:33.654902Z",
     "iopub.status.idle": "2022-04-22T09:51:33.660134Z",
     "shell.execute_reply": "2022-04-22T09:51:33.659801Z"
    }
   },
   "outputs": [
    {
     "data": {
      "image/svg+xml": [
       "<?xml version=\"1.0\" encoding=\"UTF-8\" standalone=\"no\"?><svg xmlns=\"http://www.w3.org/2000/svg\" xmlns:xlink=\"http://www.w3.org/1999/xlink\" contentScriptType=\"application/ecmascript\" contentStyleType=\"text/css\" height=\"12px\" preserveAspectRatio=\"none\" style=\"width:12px;height:12px;\" version=\"1.1\" viewBox=\"0 0 12 12\" width=\"12px\" zoomAndPan=\"magnify\"><defs/><g><!--MD5=[c5f280e076d0d61ccf4b0f27871bda1d]\n",
       "@startuml\r\n",
       "skinparam monochrome true\r\n",
       "skinparam classbackgroundcolor white\r\n",
       "skinparam shadowing false\r\n",
       "skinparam wrapWidth 300\r\n",
       "hide circle\r\n",
       "\r\n",
       "@enduml\r\n",
       "\n",
       "PlantUML version 1.2020.13(Sat Jun 13 12:26:38 UTC 2020)\n",
       "(EPL source distribution)\n",
       "Java Runtime: OpenJDK Runtime Environment\n",
       "JVM: OpenJDK 64-Bit Server VM\n",
       "Default Encoding: UTF-8\n",
       "Language: en\n",
       "Country: null\n",
       "--></g></svg>"
      ]
     },
     "execution_count": 39,
     "metadata": {},
     "output_type": "execute_result"
    }
   ],
   "source": [
    "%viz --style=\"DEFAULT\" --view=\"State\" \"AliasTest\""
   ]
  },
  {
   "cell_type": "code",
   "execution_count": 40,
   "id": "3dd8dce6",
   "metadata": {
    "execution": {
     "iopub.execute_input": "2022-04-22T09:51:33.710187Z",
     "iopub.status.busy": "2022-04-22T09:51:33.709736Z",
     "iopub.status.idle": "2022-04-22T09:51:33.747937Z",
     "shell.execute_reply": "2022-04-22T09:51:33.747579Z"
    }
   },
   "outputs": [
    {
     "data": {
      "image/svg+xml": [
       "<?xml version=\"1.0\" encoding=\"UTF-8\" standalone=\"no\"?><svg xmlns=\"http://www.w3.org/2000/svg\" xmlns:xlink=\"http://www.w3.org/1999/xlink\" contentScriptType=\"application/ecmascript\" contentStyleType=\"text/css\" height=\"398px\" preserveAspectRatio=\"none\" style=\"width:370px;height:398px;\" version=\"1.1\" viewBox=\"0 0 370 398\" width=\"370px\" zoomAndPan=\"magnify\"><defs/><g><!--MD5=[fbc87193dbaf4d95561dea2c320d4a47]\n",
       "cluster E1--><a href=\"psysml:5020e8e8-e597-4a8a-8c84-9076441471bb\" target=\"_top\" title=\"psysml:5020e8e8-e597-4a8a-8c84-9076441471bb\" xlink:actuate=\"onRequest\" xlink:href=\"psysml:5020e8e8-e597-4a8a-8c84-9076441471bb\" xlink:show=\"new\" xlink:title=\"psysml:5020e8e8-e597-4a8a-8c84-9076441471bb\" xlink:type=\"simple\"><polygon fill=\"#FFFFFF\" points=\"16,6,84,6,91,28.2969,348,28.2969,348,386.36,16,386.36,16,6\" style=\"stroke: #000000; stroke-width: 1.5;\"/><line style=\"stroke: #000000; stroke-width: 1.5;\" x1=\"16\" x2=\"91\" y1=\"28.2969\" y2=\"28.2969\"/><text fill=\"#000000\" font-family=\"sans-serif\" font-size=\"14\" font-weight=\"bold\" lengthAdjust=\"spacingAndGlyphs\" textLength=\"62\" x=\"20\" y=\"20.9951\">AliasTest</text></a><!--MD5=[d5e69f78d87373223dbae638b30a9c99]\n",
       "cluster E3--><a href=\"psysml:2d23ecbc-8f8b-40e5-8168-7a4eefd95afa\" target=\"_top\" title=\"psysml:2d23ecbc-8f8b-40e5-8168-7a4eefd95afa\" xlink:actuate=\"onRequest\" xlink:href=\"psysml:2d23ecbc-8f8b-40e5-8168-7a4eefd95afa\" xlink:show=\"new\" xlink:title=\"psysml:2d23ecbc-8f8b-40e5-8168-7a4eefd95afa\" xlink:type=\"simple\"><rect fill=\"#FFFFFF\" height=\"124.5\" id=\"E3\" style=\"stroke: #383838; stroke-width: 1.5;\" width=\"144\" x=\"180\" y=\"237.86\"/><rect fill=\"#F8F8F8\" height=\"37.9375\" style=\"stroke: #383838; stroke-width: 1.5;\" width=\"144\" x=\"180\" y=\"237.86\"/><text fill=\"#000000\" font-family=\"sans-serif\" font-size=\"12\" font-style=\"italic\" lengthAdjust=\"spacingAndGlyphs\" textLength=\"68\" x=\"218\" y=\"253.9987\">«part  def»</text><text fill=\"#000000\" font-family=\"sans-serif\" font-size=\"12\" lengthAdjust=\"spacingAndGlyphs\" textLength=\"16\" x=\"244\" y=\"267.9674\">P1</text></a><!--MD5=[14e3b0961a2654348d326746436168a1]\n",
       "cluster E6--><a href=\"psysml:23efd2aa-8423-4d75-9f93-6567d973731c\" target=\"_top\" title=\"psysml:23efd2aa-8423-4d75-9f93-6567d973731c\" xlink:actuate=\"onRequest\" xlink:href=\"psysml:23efd2aa-8423-4d75-9f93-6567d973731c\" xlink:show=\"new\" xlink:title=\"psysml:23efd2aa-8423-4d75-9f93-6567d973731c\" xlink:type=\"simple\"><rect fill=\"#FFFFFF\" height=\"97.36\" id=\"E6\" rx=\"10\" ry=\"10\" style=\"stroke: #383838; stroke-width: 1.5;\" width=\"114\" x=\"210\" y=\"49\"/><rect fill=\"#F8F8F8\" height=\"23.9688\" rx=\"10\" ry=\"10\" style=\"stroke: #F8F8F8; stroke-width: 1.5;\" width=\"114\" x=\"210\" y=\"49\"/><rect fill=\"#F8F8F8\" height=\"10\" style=\"stroke: #F8F8F8; stroke-width: 1.5;\" width=\"114\" x=\"210\" y=\"62.9688\"/><rect fill=\"none\" height=\"97.36\" id=\"E6\" rx=\"10\" ry=\"10\" style=\"stroke: #383838; stroke-width: 1.5;\" width=\"114\" x=\"210\" y=\"49\"/><text fill=\"#000000\" font-family=\"sans-serif\" font-size=\"12\" lengthAdjust=\"spacingAndGlyphs\" textLength=\"40\" x=\"247\" y=\"65.1387\">p1: P1</text><line style=\"stroke: #383838; stroke-width: 1.0;\" x1=\"210\" x2=\"324\" y1=\"72.9688\" y2=\"72.9688\"/></a><!--MD5=[55dfccfc6c49c2d10cd1bd2211a6c90c]\n",
       "cluster E8--><a href=\"psysml:32558afe-9574-460d-81c7-219976cfcf7f\" target=\"_top\" title=\"psysml:32558afe-9574-460d-81c7-219976cfcf7f\" xlink:actuate=\"onRequest\" xlink:href=\"psysml:32558afe-9574-460d-81c7-219976cfcf7f\" xlink:show=\"new\" xlink:title=\"psysml:32558afe-9574-460d-81c7-219976cfcf7f\" xlink:type=\"simple\"><rect fill=\"#FFFFFF\" height=\"73\" id=\"E8\" rx=\"10\" ry=\"10\" style=\"stroke: #383838; stroke-width: 1.5;\" width=\"83\" x=\"81\" y=\"198.36\"/><rect fill=\"#F8F8F8\" height=\"23.9688\" rx=\"10\" ry=\"10\" style=\"stroke: #F8F8F8; stroke-width: 1.5;\" width=\"83\" x=\"81\" y=\"198.36\"/><rect fill=\"#F8F8F8\" height=\"10\" style=\"stroke: #F8F8F8; stroke-width: 1.5;\" width=\"83\" x=\"81\" y=\"212.3288\"/><rect fill=\"none\" height=\"73\" id=\"E8\" rx=\"10\" ry=\"10\" style=\"stroke: #383838; stroke-width: 1.5;\" width=\"83\" x=\"81\" y=\"198.36\"/><text fill=\"#000000\" font-family=\"sans-serif\" font-size=\"12\" lengthAdjust=\"spacingAndGlyphs\" textLength=\"40\" x=\"102.5\" y=\"214.4987\">p2: P1</text><line style=\"stroke: #383838; stroke-width: 1.0;\" x1=\"81\" x2=\"164\" y1=\"222.3288\" y2=\"222.3288\"/></a><!--MD5=[b4997ac47864f28c2f74865a473b2911]\n",
       "class E2--><a href=\"psysml:09023520-b272-4b76-a802-4be530536a95\" target=\"_top\" title=\"psysml:09023520-b272-4b76-a802-4be530536a95\" xlink:actuate=\"onRequest\" xlink:href=\"psysml:09023520-b272-4b76-a802-4be530536a95\" xlink:show=\"new\" xlink:title=\"psysml:09023520-b272-4b76-a802-4be530536a95\" xlink:type=\"simple\"><rect fill=\"#FFFFFF\" height=\"45.9375\" id=\"E2\" rx=\"10\" ry=\"10\" style=\"stroke: #383838; stroke-width: 1.5;\" width=\"165\" x=\"32.5\" y=\"59.5\"/><text fill=\"#000000\" font-family=\"sans-serif\" font-size=\"12\" font-style=\"italic\" lengthAdjust=\"spacingAndGlyphs\" textLength=\"69\" x=\"80.5\" y=\"75.6387\">«attribute»</text><text fill=\"#000000\" font-family=\"sans-serif\" font-size=\"12\" lengthAdjust=\"spacingAndGlyphs\" textLength=\"159\" x=\"35.5\" y=\"89.6074\">b :&gt; ISQSpaceTime::width</text><line style=\"stroke: #383838; stroke-width: 1.5;\" x1=\"33.5\" x2=\"196.5\" y1=\"97.4375\" y2=\"97.4375\"/></a><text fill=\"#000000\" font-family=\"sans-serif\" font-size=\"14\" lengthAdjust=\"spacingAndGlyphs\" textLength=\"44\" x=\"174\" y=\"216.5582\">porig1</text><rect fill=\"#383838\" height=\"12\" style=\"stroke: #F8F8F8; stroke-width: 1.5;\" width=\"12\" x=\"192\" y=\"231.86\"/><text fill=\"#000000\" font-family=\"sans-serif\" font-size=\"14\" lengthAdjust=\"spacingAndGlyphs\" textLength=\"44\" x=\"221\" y=\"216.5582\">porig1</text><rect fill=\"#383838\" height=\"12\" style=\"stroke: #F8F8F8; stroke-width: 1.5;\" width=\"12\" x=\"239\" y=\"231.86\"/><text fill=\"#000000\" font-family=\"sans-serif\" font-size=\"14\" lengthAdjust=\"spacingAndGlyphs\" textLength=\"27\" x=\"212.5\" y=\"165.3551\">po1</text><rect fill=\"#383838\" height=\"12\" style=\"stroke: #F8F8F8; stroke-width: 1.5;\" width=\"12\" x=\"222\" y=\"140.36\"/><text fill=\"#000000\" font-family=\"sans-serif\" font-size=\"14\" lengthAdjust=\"spacingAndGlyphs\" textLength=\"40\" x=\"77\" y=\"177.0582\">pdest</text><rect fill=\"#383838\" height=\"12\" style=\"stroke: #F8F8F8; stroke-width: 1.5;\" width=\"12\" x=\"93\" y=\"192.36\"/><text fill=\"#000000\" font-family=\"sans-serif\" font-size=\"14\" lengthAdjust=\"spacingAndGlyphs\" textLength=\"40\" x=\"124\" y=\"177.0582\">pdest</text><rect fill=\"#383838\" height=\"12\" style=\"stroke: #F8F8F8; stroke-width: 1.5;\" width=\"12\" x=\"140\" y=\"192.36\"/><!--MD5=[a717450b82c80b9240a525fa862496af]\n",
       "link E6 to E3--><a href=\"psysml:bae878c2-3025-4ed8-bae0-781c13e39aed\" target=\"_top\" title=\"psysml:bae878c2-3025-4ed8-bae0-781c13e39aed\" xlink:actuate=\"onRequest\" xlink:href=\"psysml:bae878c2-3025-4ed8-bae0-781c13e39aed\" xlink:show=\"new\" xlink:title=\"psysml:bae878c2-3025-4ed8-bae0-781c13e39aed\" xlink:type=\"simple\"><path d=\"M287,146.372 C287,146.4316 287,146.4946 287,146.5614 C287,146.6948 287,146.8432 287,147.0079 C287,147.3375 287,147.733 287,148.2077 C287,149.1569 287,150.4225 287,152.11 C287,158.86 287,172.36 287,199.36 C287,208.265 287.4169,215.6138 287.8598,222.1538 C287.8875,222.5625 287.9153,222.9681 287.9431,223.3707 C287.9501,223.4714 287.957,223.5718 287.964,223.6721 \" fill=\"none\" id=\"E6-&gt;E3\" style=\"stroke: #383838; stroke-width: 1.0;\"/><polygon fill=\"#FFFFFF\" points=\"287.964,223.6721,279.6675,205.2014,293.634,204.2337,287.964,223.6721\" style=\"stroke: #383838; stroke-width: 1.0;\"/><ellipse cx=\"281.2688\" cy=\"199.3768\" fill=\"#383838\" rx=\"2\" ry=\"2\" style=\"stroke: #383838; stroke-width: 1.0;\"/><ellipse cx=\"291.2448\" cy=\"198.6856\" fill=\"#383838\" rx=\"2\" ry=\"2\" style=\"stroke: #383838; stroke-width: 1.0;\"/></a><!--MD5=[95fa686b5a16158bcdbcaeead89f639b]\n",
       "link E8 to E3--><a href=\"psysml:22f6621f-c82b-45b4-aad5-95fd1a975c3d\" target=\"_top\" title=\"psysml:22f6621f-c82b-45b4-aad5-95fd1a975c3d\" xlink:actuate=\"onRequest\" xlink:href=\"psysml:22f6621f-c82b-45b4-aad5-95fd1a975c3d\" xlink:show=\"new\" xlink:title=\"psysml:22f6621f-c82b-45b4-aad5-95fd1a975c3d\" xlink:type=\"simple\"><path d=\"M161.6052,271.4143 C161.6848,271.4587 161.7644,271.5032 161.844,271.5476 C162.1624,271.7254 162.4807,271.903 162.799,272.0805 C163.4355,272.4354 164.0716,272.7896 164.7071,273.1429 C165.978,273.8495 167.2462,274.5525 168.5091,275.2502 C171.0347,276.6456 173.5388,278.02 176,279.36 C177.8425,280.3638 179.712,281.3764 181.6004,282.3941 C182.0725,282.6486 182.5457,282.9033 183.0201,283.1583 C183.2572,283.2858 183.4946,283.4134 183.7323,283.541 C183.7917,283.5729 183.8512,283.6048 183.9106,283.6368 \" fill=\"none\" id=\"E8-&gt;E3\" style=\"stroke: #383838; stroke-width: 1.0;\"/><polygon fill=\"#FFFFFF\" points=\"183.9106,283.6368,163.8594,280.8174,170.4813,268.4825,183.9106,283.6368\" style=\"stroke: #383838; stroke-width: 1.0;\"/><ellipse cx=\"159.7833\" cy=\"276.3592\" fill=\"#383838\" rx=\"2\" ry=\"2\" style=\"stroke: #383838; stroke-width: 1.0;\"/><ellipse cx=\"164.5132\" cy=\"267.5486\" fill=\"#383838\" rx=\"2\" ry=\"2\" style=\"stroke: #383838; stroke-width: 1.0;\"/></a><!--MD5=[1c0b9414cc86e0744215edee6abd8926]\n",
       "link E7 to E9--><a href=\"psysml:e347aa3d-31a4-4502-9422-b0b7e8733c17\" target=\"_top\" title=\"psysml:e347aa3d-31a4-4502-9422-b0b7e8733c17\" xlink:actuate=\"onRequest\" xlink:href=\"psysml:e347aa3d-31a4-4502-9422-b0b7e8733c17\" xlink:show=\"new\" xlink:title=\"psysml:e347aa3d-31a4-4502-9422-b0b7e8733c17\" xlink:type=\"simple\"><path d=\"M221.76,147.53 C198.85,148.59 143.6,155.09 105,176.36 C94.77,182 85.43,193.07 92.97,196.39 \" fill=\"none\" id=\"E7-E9\" style=\"stroke: #383838; stroke-width: 3.0;\"/><text fill=\"#000000\" font-family=\"sans-serif\" font-size=\"13\" lengthAdjust=\"spacingAndGlyphs\" textLength=\"7\" x=\"78.1078\" y=\"185.6989\">*</text></a><!--MD5=[1c0b9414cc86e0744215edee6abd8926]\n",
       "link E7 to E9--><a href=\"psysml:6852a8da-427c-4993-bbf6-22174e5f8d33\" target=\"_top\" title=\"psysml:6852a8da-427c-4993-bbf6-22174e5f8d33\" xlink:actuate=\"onRequest\" xlink:href=\"psysml:6852a8da-427c-4993-bbf6-22174e5f8d33\" xlink:show=\"new\" xlink:title=\"psysml:6852a8da-427c-4993-bbf6-22174e5f8d33\" xlink:type=\"simple\"><path d=\"M221.9,149.8 C204.95,153.24 168.07,160.89 140,176.36 C129.3,182.26 119.57,194.11 105.05,196.81 \" fill=\"none\" id=\"E7-E9-1\" style=\"stroke: #383838; stroke-width: 3.0;\"/><text fill=\"#000000\" font-family=\"sans-serif\" font-size=\"13\" lengthAdjust=\"spacingAndGlyphs\" textLength=\"7\" x=\"112.9288\" y=\"186.4654\">*</text></a><!--MD5=[4191429ef3e8ffbc1fe9d22e0bf2af2d]\n",
       "@startuml\r\n",
       "skinparam ranksep 10\r\n",
       "skinparam rectangle {\r\n",
       " backgroundColor<<block>> LightGreen\r\n",
       "}\r\n",
       "skinparam monochrome true\r\n",
       "skinparam classbackgroundcolor white\r\n",
       "skinparam shadowing false\r\n",
       "skinparam wrapWidth 300\r\n",
       "hide circle\r\n",
       "\r\n",
       "package \"AliasTest\" as E1  [[psysml:5020e8e8-e597-4a8a-8c84-9076441471bb ]]  {\r\n",
       "comp usage \"b :> ISQSpaceTime::width\" as E2  <<(T,blue) attribute>> [[psysml:09023520-b272-4b76-a802-4be530536a95 ]] {\r\n",
       "}\r\n",
       "rec def \"P1\" as E3  <<(T,blue) part  def>> [[psysml:2d23ecbc-8f8b-40e5-8168-7a4eefd95afa ]] {\r\n",
       "portin \"porig1 \" as E4  <<(T,blue) port>> [[psysml:371120a0-4800-4c08-b9c5-19a2f97c5f1a ]] \r\n",
       "portin \"porig1 \" as E5  <<(T,blue) port>> [[psysml:371120a0-4800-4c08-b9c5-19a2f97c5f1a ]] \r\n",
       "}\r\n",
       "rec usage \"p1: P1\" as E6  [[psysml:23efd2aa-8423-4d75-9f93-6567d973731c ]] {\r\n",
       "portout \"po1 \" as E7  <<(T,blue) port>> [[psysml:a6a8a5d4-8051-439c-be85-1eee73d04018 ]] \r\n",
       "}\r\n",
       "rec usage \"p2: P1\" as E8  [[psysml:32558afe-9574-460d-81c7-219976cfcf7f ]] {\r\n",
       "portin \"pdest \" as E9  <<(T,blue) port>> [[psysml:9d4715a0-ecad-4cb9-af91-593b0378d847 ]] \r\n",
       "portin \"pdest \" as E10  <<(T,blue) port>> [[psysml:9d4715a0-ecad-4cb9-af91-593b0378d847 ]] \r\n",
       "}\r\n",
       "}\r\n",
       "E6 - -:|> E3 [[psysml:bae878c2-3025-4ed8-bae0-781c13e39aed ]] \r\n",
       "E8 - -:|> E3 [[psysml:22f6621f-c82b-45b4-aad5-95fd1a975c3d ]] \r\n",
       "E7 -[thickness=3]- \"*\"E9 [[psysml:e347aa3d-31a4-4502-9422-b0b7e8733c17 ]] \r\n",
       "E7 -[thickness=3]- \"*\"E9 [[psysml:6852a8da-427c-4993-bbf6-22174e5f8d33 ]] \r\n",
       "@enduml\r\n",
       "\n",
       "PlantUML version 1.2020.13(Sat Jun 13 12:26:38 UTC 2020)\n",
       "(EPL source distribution)\n",
       "Java Runtime: OpenJDK Runtime Environment\n",
       "JVM: OpenJDK 64-Bit Server VM\n",
       "Default Encoding: UTF-8\n",
       "Language: en\n",
       "Country: null\n",
       "--></g></svg>"
      ]
     },
     "execution_count": 40,
     "metadata": {},
     "output_type": "execute_result"
    }
   ],
   "source": [
    "%viz --style=\"DEFAULT\" --view=\"Interconnection\" \"AliasTest\""
   ]
  },
  {
   "cell_type": "code",
   "execution_count": 41,
   "id": "a91eaad5",
   "metadata": {
    "execution": {
     "iopub.execute_input": "2022-04-22T09:51:33.797694Z",
     "iopub.status.busy": "2022-04-22T09:51:33.797273Z",
     "iopub.status.idle": "2022-04-22T09:51:33.802704Z",
     "shell.execute_reply": "2022-04-22T09:51:33.803017Z"
    }
   },
   "outputs": [
    {
     "data": {
      "image/svg+xml": [
       "<?xml version=\"1.0\" encoding=\"UTF-8\" standalone=\"no\"?><svg xmlns=\"http://www.w3.org/2000/svg\" xmlns:xlink=\"http://www.w3.org/1999/xlink\" contentScriptType=\"application/ecmascript\" contentStyleType=\"text/css\" height=\"12px\" preserveAspectRatio=\"none\" style=\"width:12px;height:12px;\" version=\"1.1\" viewBox=\"0 0 12 12\" width=\"12px\" zoomAndPan=\"magnify\"><defs/><g><!--MD5=[388f21188e31bfdd97050473b19af356]\n",
       "@startuml\r\n",
       "skinparam ranksep 8\r\n",
       "skinparam monochrome true\r\n",
       "skinparam classbackgroundcolor white\r\n",
       "skinparam shadowing false\r\n",
       "skinparam wrapWidth 300\r\n",
       "hide circle\r\n",
       "\r\n",
       "@enduml\r\n",
       "\n",
       "PlantUML version 1.2020.13(Sat Jun 13 12:26:38 UTC 2020)\n",
       "(EPL source distribution)\n",
       "Java Runtime: OpenJDK Runtime Environment\n",
       "JVM: OpenJDK 64-Bit Server VM\n",
       "Default Encoding: UTF-8\n",
       "Language: en\n",
       "Country: null\n",
       "--></g></svg>"
      ]
     },
     "execution_count": 41,
     "metadata": {},
     "output_type": "execute_result"
    }
   ],
   "source": [
    "%viz --style=\"DEFAULT\" --view=\"Action\" \"AliasTest\""
   ]
  },
  {
   "cell_type": "code",
   "execution_count": 42,
   "id": "526d50fa",
   "metadata": {
    "execution": {
     "iopub.execute_input": "2022-04-22T09:51:33.853059Z",
     "iopub.status.busy": "2022-04-22T09:51:33.852662Z",
     "iopub.status.idle": "2022-04-22T09:51:33.858311Z",
     "shell.execute_reply": "2022-04-22T09:51:33.858623Z"
    }
   },
   "outputs": [
    {
     "data": {
      "image/svg+xml": [
       "<?xml version=\"1.0\" encoding=\"UTF-8\" standalone=\"no\"?><svg xmlns=\"http://www.w3.org/2000/svg\" xmlns:xlink=\"http://www.w3.org/1999/xlink\" contentScriptType=\"application/ecmascript\" contentStyleType=\"text/css\" height=\"12px\" preserveAspectRatio=\"none\" style=\"width:12px;height:12px;\" version=\"1.1\" viewBox=\"0 0 12 12\" width=\"12px\" zoomAndPan=\"magnify\"><defs/><g><!--MD5=[0b72472770326784bf6c2b53246e1e64]\n",
       "@startuml\r\n",
       "skinparam roundcorner 20\r\n",
       "skinparam BoxPadding 20\r\n",
       "skinparam SequenceBoxBackgroundColor #white\r\n",
       "skinparam style strictuml\r\n",
       "skinparam maxMessageSize 100\r\n",
       "skinparam monochrome true\r\n",
       "skinparam classbackgroundcolor white\r\n",
       "skinparam shadowing false\r\n",
       "skinparam wrapWidth 300\r\n",
       "hide circle\r\n",
       "\r\n",
       "@enduml\r\n",
       "\n",
       "PlantUML version 1.2020.13(Sat Jun 13 12:26:38 UTC 2020)\n",
       "(EPL source distribution)\n",
       "Java Runtime: OpenJDK Runtime Environment\n",
       "JVM: OpenJDK 64-Bit Server VM\n",
       "Default Encoding: UTF-8\n",
       "Language: en\n",
       "Country: null\n",
       "--></g></svg>"
      ]
     },
     "execution_count": 42,
     "metadata": {},
     "output_type": "execute_result"
    }
   ],
   "source": [
    "%viz --style=\"DEFAULT\" --view=\"Sequence\" \"AliasTest\""
   ]
  },
  {
   "cell_type": "code",
   "execution_count": 43,
   "id": "bd5303c9",
   "metadata": {
    "execution": {
     "iopub.execute_input": "2022-04-22T09:51:33.908672Z",
     "iopub.status.busy": "2022-04-22T09:51:33.908275Z",
     "iopub.status.idle": "2022-04-22T09:51:33.946736Z",
     "shell.execute_reply": "2022-04-22T09:51:33.946387Z"
    }
   },
   "outputs": [
    {
     "data": {
      "image/svg+xml": [
       "<?xml version=\"1.0\" encoding=\"UTF-8\" standalone=\"no\"?><svg xmlns=\"http://www.w3.org/2000/svg\" xmlns:xlink=\"http://www.w3.org/1999/xlink\" contentScriptType=\"application/ecmascript\" contentStyleType=\"text/css\" height=\"327px\" preserveAspectRatio=\"none\" style=\"width:406px;height:327px;\" version=\"1.1\" viewBox=\"0 0 406 327\" width=\"406px\" zoomAndPan=\"magnify\"><defs/><g><!--MD5=[fbc87193dbaf4d95561dea2c320d4a47]\n",
       "cluster E1--><a href=\"psysml:5020e8e8-e597-4a8a-8c84-9076441471bb\" target=\"_top\" title=\"psysml:5020e8e8-e597-4a8a-8c84-9076441471bb\" xlink:actuate=\"onRequest\" xlink:href=\"psysml:5020e8e8-e597-4a8a-8c84-9076441471bb\" xlink:show=\"new\" xlink:title=\"psysml:5020e8e8-e597-4a8a-8c84-9076441471bb\" xlink:type=\"simple\"><polygon fill=\"#FFFFFF\" points=\"16,6,84,6,91,28.2969,384,28.2969,384,315,16,315,16,6\" style=\"stroke: #000000; stroke-width: 1.5;\"/><line style=\"stroke: #000000; stroke-width: 1.5;\" x1=\"16\" x2=\"91\" y1=\"28.2969\" y2=\"28.2969\"/><text fill=\"#000000\" font-family=\"sans-serif\" font-size=\"14\" font-weight=\"bold\" lengthAdjust=\"spacingAndGlyphs\" textLength=\"62\" x=\"20\" y=\"20.9951\">AliasTest</text></a><!--MD5=[b4997ac47864f28c2f74865a473b2911]\n",
       "class E2--><a href=\"psysml:09023520-b272-4b76-a802-4be530536a95\" target=\"_top\" title=\"psysml:09023520-b272-4b76-a802-4be530536a95\" xlink:actuate=\"onRequest\" xlink:href=\"psysml:09023520-b272-4b76-a802-4be530536a95\" xlink:show=\"new\" xlink:title=\"psysml:09023520-b272-4b76-a802-4be530536a95\" xlink:type=\"simple\"><rect fill=\"#FFFFFF\" height=\"45.9375\" id=\"E2\" rx=\"10\" ry=\"10\" style=\"stroke: #383838; stroke-width: 1.5;\" width=\"165\" x=\"202.5\" y=\"41\"/><text fill=\"#000000\" font-family=\"sans-serif\" font-size=\"12\" font-style=\"italic\" lengthAdjust=\"spacingAndGlyphs\" textLength=\"69\" x=\"250.5\" y=\"57.1387\">«attribute»</text><text fill=\"#000000\" font-family=\"sans-serif\" font-size=\"12\" lengthAdjust=\"spacingAndGlyphs\" textLength=\"159\" x=\"205.5\" y=\"71.1074\">b :&gt; ISQSpaceTime::width</text><line style=\"stroke: #383838; stroke-width: 1.5;\" x1=\"203.5\" x2=\"366.5\" y1=\"78.9375\" y2=\"78.9375\"/></a><!--MD5=[09b614a08d8cba4a07c9adeb5e0fee81]\n",
       "class E3--><a href=\"psysml:2d23ecbc-8f8b-40e5-8168-7a4eefd95afa\" target=\"_top\" title=\"psysml:2d23ecbc-8f8b-40e5-8168-7a4eefd95afa\" xlink:actuate=\"onRequest\" xlink:href=\"psysml:2d23ecbc-8f8b-40e5-8168-7a4eefd95afa\" xlink:show=\"new\" xlink:title=\"psysml:2d23ecbc-8f8b-40e5-8168-7a4eefd95afa\" xlink:type=\"simple\"><rect fill=\"#FFFFFF\" height=\"45.9375\" id=\"E3\" style=\"stroke: #383838; stroke-width: 1.5;\" width=\"70\" x=\"170\" y=\"147\"/><text fill=\"#000000\" font-family=\"sans-serif\" font-size=\"12\" font-style=\"italic\" lengthAdjust=\"spacingAndGlyphs\" textLength=\"68\" x=\"171\" y=\"163.1387\">«part  def»</text><text fill=\"#000000\" font-family=\"sans-serif\" font-size=\"12\" lengthAdjust=\"spacingAndGlyphs\" textLength=\"16\" x=\"197\" y=\"177.1074\">P1</text><line style=\"stroke: #383838; stroke-width: 1.5;\" x1=\"171\" x2=\"239\" y1=\"184.9375\" y2=\"184.9375\"/></a><!--MD5=[ebbe1d658d1005bcc118a6aa81145e00]\n",
       "class E4--><a href=\"psysml:371120a0-4800-4c08-b9c5-19a2f97c5f1a\" target=\"_top\" title=\"psysml:371120a0-4800-4c08-b9c5-19a2f97c5f1a\" xlink:actuate=\"onRequest\" xlink:href=\"psysml:371120a0-4800-4c08-b9c5-19a2f97c5f1a\" xlink:show=\"new\" xlink:title=\"psysml:371120a0-4800-4c08-b9c5-19a2f97c5f1a\" xlink:type=\"simple\"><rect fill=\"#FFFFFF\" height=\"45.9375\" id=\"E4\" rx=\"10\" ry=\"10\" style=\"stroke: #383838; stroke-width: 1.5;\" width=\"50\" x=\"180\" y=\"253\"/><text fill=\"#000000\" font-family=\"sans-serif\" font-size=\"12\" font-style=\"italic\" lengthAdjust=\"spacingAndGlyphs\" textLength=\"40\" x=\"185\" y=\"269.1387\">«port»</text><text fill=\"#000000\" font-family=\"sans-serif\" font-size=\"12\" lengthAdjust=\"spacingAndGlyphs\" textLength=\"40\" x=\"183\" y=\"283.1074\">porig1</text><line style=\"stroke: #383838; stroke-width: 1.5;\" x1=\"181\" x2=\"229\" y1=\"290.9375\" y2=\"290.9375\"/></a><!--MD5=[270fce915f116d4de14055a7c1d9a0f3]\n",
       "class E5--><a href=\"psysml:23efd2aa-8423-4d75-9f93-6567d973731c\" target=\"_top\" title=\"psysml:23efd2aa-8423-4d75-9f93-6567d973731c\" xlink:actuate=\"onRequest\" xlink:href=\"psysml:23efd2aa-8423-4d75-9f93-6567d973731c\" xlink:show=\"new\" xlink:title=\"psysml:23efd2aa-8423-4d75-9f93-6567d973731c\" xlink:type=\"simple\"><rect fill=\"#FFFFFF\" height=\"45.9375\" id=\"E5\" rx=\"10\" ry=\"10\" style=\"stroke: #383838; stroke-width: 1.5;\" width=\"50\" x=\"117\" y=\"41\"/><text fill=\"#000000\" font-family=\"sans-serif\" font-size=\"12\" font-style=\"italic\" lengthAdjust=\"spacingAndGlyphs\" textLength=\"40\" x=\"122\" y=\"57.1387\">«part»</text><text fill=\"#000000\" font-family=\"sans-serif\" font-size=\"12\" lengthAdjust=\"spacingAndGlyphs\" textLength=\"40\" x=\"120\" y=\"71.1074\">p1: P1</text><line style=\"stroke: #383838; stroke-width: 1.5;\" x1=\"118\" x2=\"166\" y1=\"78.9375\" y2=\"78.9375\"/></a><!--MD5=[60a26617385b1d2d0262a64233df1f8d]\n",
       "class E6--><a href=\"psysml:a6a8a5d4-8051-439c-be85-1eee73d04018\" target=\"_top\" title=\"psysml:a6a8a5d4-8051-439c-be85-1eee73d04018\" xlink:actuate=\"onRequest\" xlink:href=\"psysml:a6a8a5d4-8051-439c-be85-1eee73d04018\" xlink:show=\"new\" xlink:title=\"psysml:a6a8a5d4-8051-439c-be85-1eee73d04018\" xlink:type=\"simple\"><rect fill=\"#FFFFFF\" height=\"45.9375\" id=\"E6\" rx=\"10\" ry=\"10\" style=\"stroke: #383838; stroke-width: 1.5;\" width=\"42\" x=\"93\" y=\"147\"/><text fill=\"#000000\" font-family=\"sans-serif\" font-size=\"12\" font-style=\"italic\" lengthAdjust=\"spacingAndGlyphs\" textLength=\"40\" x=\"94\" y=\"163.1387\">«port»</text><text fill=\"#000000\" font-family=\"sans-serif\" font-size=\"12\" lengthAdjust=\"spacingAndGlyphs\" textLength=\"24\" x=\"100\" y=\"177.1074\">po1</text><line style=\"stroke: #383838; stroke-width: 1.5;\" x1=\"94\" x2=\"134\" y1=\"184.9375\" y2=\"184.9375\"/></a><!--MD5=[2156ba9850f5573cc1fc38a6a4b2f02b]\n",
       "class E7--><a href=\"psysml:32558afe-9574-460d-81c7-219976cfcf7f\" target=\"_top\" title=\"psysml:32558afe-9574-460d-81c7-219976cfcf7f\" xlink:actuate=\"onRequest\" xlink:href=\"psysml:32558afe-9574-460d-81c7-219976cfcf7f\" xlink:show=\"new\" xlink:title=\"psysml:32558afe-9574-460d-81c7-219976cfcf7f\" xlink:type=\"simple\"><rect fill=\"#FFFFFF\" height=\"45.9375\" id=\"E7\" rx=\"10\" ry=\"10\" style=\"stroke: #383838; stroke-width: 1.5;\" width=\"50\" x=\"32\" y=\"41\"/><text fill=\"#000000\" font-family=\"sans-serif\" font-size=\"12\" font-style=\"italic\" lengthAdjust=\"spacingAndGlyphs\" textLength=\"40\" x=\"37\" y=\"57.1387\">«part»</text><text fill=\"#000000\" font-family=\"sans-serif\" font-size=\"12\" lengthAdjust=\"spacingAndGlyphs\" textLength=\"40\" x=\"35\" y=\"71.1074\">p2: P1</text><line style=\"stroke: #383838; stroke-width: 1.5;\" x1=\"33\" x2=\"81\" y1=\"78.9375\" y2=\"78.9375\"/></a><!--MD5=[b9389687b975829384b498ac4b7476b2]\n",
       "class E8--><a href=\"psysml:9d4715a0-ecad-4cb9-af91-593b0378d847\" target=\"_top\" title=\"psysml:9d4715a0-ecad-4cb9-af91-593b0378d847\" xlink:actuate=\"onRequest\" xlink:href=\"psysml:9d4715a0-ecad-4cb9-af91-593b0378d847\" xlink:show=\"new\" xlink:title=\"psysml:9d4715a0-ecad-4cb9-af91-593b0378d847\" xlink:type=\"simple\"><rect fill=\"#FFFFFF\" height=\"45.9375\" id=\"E8\" rx=\"10\" ry=\"10\" style=\"stroke: #383838; stroke-width: 1.5;\" width=\"46\" x=\"63\" y=\"253\"/><text fill=\"#000000\" font-family=\"sans-serif\" font-size=\"12\" font-style=\"italic\" lengthAdjust=\"spacingAndGlyphs\" textLength=\"40\" x=\"66\" y=\"269.1387\">«port»</text><text fill=\"#000000\" font-family=\"sans-serif\" font-size=\"12\" lengthAdjust=\"spacingAndGlyphs\" textLength=\"36\" x=\"66\" y=\"283.1074\">pdest</text><line style=\"stroke: #383838; stroke-width: 1.5;\" x1=\"64\" x2=\"108\" y1=\"290.9375\" y2=\"290.9375\"/></a><!--MD5=[4672eba38e49728da53d11aeb285b987]\n",
       "reverse link E3 to E4--><a href=\"psysml:77da464e-a07c-41d7-bf00-c994457c7429\" target=\"_top\" title=\"psysml:77da464e-a07c-41d7-bf00-c994457c7429\" xlink:actuate=\"onRequest\" xlink:href=\"psysml:77da464e-a07c-41d7-bf00-c994457c7429\" xlink:show=\"new\" xlink:title=\"psysml:77da464e-a07c-41d7-bf00-c994457c7429\" xlink:type=\"simple\"><path d=\"M192.84,206.44 C191.7,221.87 192.21,239.47 194.36,252.98 \" fill=\"none\" id=\"E3&lt;-E4\" style=\"stroke: #383838; stroke-width: 1.0;\"/><polygon fill=\"#FFFFFF\" points=\"194.35,193.06,189.7032,198.5743,193.006,204.9845,197.6528,199.4702,194.35,193.06\" style=\"stroke: #383838; stroke-width: 1.0;\"/><text fill=\"#000000\" font-family=\"sans-serif\" font-size=\"13\" lengthAdjust=\"spacingAndGlyphs\" textLength=\"8\" x=\"182.4255\" y=\"241.8709\">1</text></a><!--MD5=[4672eba38e49728da53d11aeb285b987]\n",
       "reverse link E3 to E4--><a href=\"psysml:2fb80261-1acb-4246-9b34-6566336881f2\" target=\"_top\" title=\"psysml:2fb80261-1acb-4246-9b34-6566336881f2\" xlink:actuate=\"onRequest\" xlink:href=\"psysml:2fb80261-1acb-4246-9b34-6566336881f2\" xlink:show=\"new\" xlink:title=\"psysml:2fb80261-1acb-4246-9b34-6566336881f2\" xlink:type=\"simple\"><path d=\"M218.01,208.34 C219.03,223.3 218.45,240.02 216.27,252.98 \" fill=\"none\" id=\"E3&lt;-E4-1\" style=\"stroke: #383838; stroke-width: 1.0; stroke-dasharray: 7.0,7.0;\"/><ellipse cx=\"217.1693\" cy=\"201.0093\" fill=\"#FFFFFF\" rx=\"8\" ry=\"8\" style=\"stroke: #383838; stroke-width: 1.0;\"/><line style=\"stroke: #383838; stroke-width: 1.0;\" x1=\"218.0687\" x2=\"216.27\" y1=\"208.9586\" y2=\"193.06\"/><line style=\"stroke: #383838; stroke-width: 1.0;\" x1=\"209.2201\" x2=\"225.1186\" y1=\"201.9086\" y2=\"200.1099\"/><text fill=\"#000000\" font-family=\"sans-serif\" font-size=\"13\" lengthAdjust=\"spacingAndGlyphs\" textLength=\"8\" x=\"210.2238\" y=\"241.8709\">1</text></a><!--MD5=[e9be52314489bd878ff4c7144b63c9e1]\n",
       "link E5 to E3--><a href=\"psysml:bae878c2-3025-4ed8-bae0-781c13e39aed\" target=\"_top\" title=\"psysml:bae878c2-3025-4ed8-bae0-781c13e39aed\" xlink:actuate=\"onRequest\" xlink:href=\"psysml:bae878c2-3025-4ed8-bae0-781c13e39aed\" xlink:show=\"new\" xlink:title=\"psysml:bae878c2-3025-4ed8-bae0-781c13e39aed\" xlink:type=\"simple\"><path d=\"M155.36,87.06 C162.88,99.47 172.49,115.33 181.24,129.78 \" fill=\"none\" id=\"E5-&gt;E3\" style=\"stroke: #383838; stroke-width: 1.0;\"/><polygon fill=\"#FFFFFF\" points=\"191.66,146.98,175.8217,134.3646,187.792,127.1044,191.66,146.98\" style=\"stroke: #383838; stroke-width: 1.0;\"/><ellipse cx=\"174.5758\" cy=\"128.4538\" fill=\"#383838\" rx=\"2\" ry=\"2\" style=\"stroke: #383838; stroke-width: 1.0;\"/><ellipse cx=\"183.126\" cy=\"123.2679\" fill=\"#383838\" rx=\"2\" ry=\"2\" style=\"stroke: #383838; stroke-width: 1.0;\"/></a><!--MD5=[85d356282659285ab4b2cfe2f634dd2b]\n",
       "reverse link E5 to E6--><a href=\"psysml:cd2d9195-2d40-49eb-a50a-4bb167712418\" target=\"_top\" title=\"psysml:cd2d9195-2d40-49eb-a50a-4bb167712418\" xlink:actuate=\"onRequest\" xlink:href=\"psysml:cd2d9195-2d40-49eb-a50a-4bb167712418\" xlink:show=\"new\" xlink:title=\"psysml:cd2d9195-2d40-49eb-a50a-4bb167712418\" xlink:type=\"simple\"><path d=\"M132.59,99.96 C128.4,115.51 123.6,133.33 119.93,146.98 \" fill=\"none\" id=\"E5&lt;-E6\" style=\"stroke: #383838; stroke-width: 1.0;\"/><polygon fill=\"#FFFFFF\" points=\"136.06,87.06,130.641,91.8176,132.9484,98.6496,138.3674,93.892,136.06,87.06\" style=\"stroke: #383838; stroke-width: 1.0;\"/><text fill=\"#000000\" font-family=\"sans-serif\" font-size=\"13\" lengthAdjust=\"spacingAndGlyphs\" textLength=\"8\" x=\"112.4487\" y=\"135.8709\">1</text></a><!--MD5=[f667431f98296947986a1a7595a31603]\n",
       "link E6 to E4--><a href=\"psysml:9b4aa44d-c7fb-440f-8f9d-ccf8058f014a\" target=\"_top\" title=\"psysml:9b4aa44d-c7fb-440f-8f9d-ccf8058f014a\" xlink:actuate=\"onRequest\" xlink:href=\"psysml:9b4aa44d-c7fb-440f-8f9d-ccf8058f014a\" xlink:show=\"new\" xlink:title=\"psysml:9b4aa44d-c7fb-440f-8f9d-ccf8058f014a\" xlink:type=\"simple\"><path d=\"M133.3,193.06 C144.64,206.02 159.28,222.74 172.36,237.7 \" fill=\"none\" id=\"E6-&gt;E4\" style=\"stroke: #383838; stroke-width: 1.0;\"/><polygon fill=\"#FFFFFF\" points=\"185.73,252.98,167.9517,243.2882,178.489,234.0705,185.73,252.98\" style=\"stroke: #383838; stroke-width: 1.0;\"/><line style=\"stroke: #383838; stroke-width: 2.0;\" x1=\"165.4497\" x2=\"175.9871\" y1=\"240.4281\" y2=\"231.2104\"/></a><!--MD5=[14ccda38c055a5c0da953d572bc50960]\n",
       "link E7 to E3--><a href=\"psysml:22f6621f-c82b-45b4-aad5-95fd1a975c3d\" target=\"_top\" title=\"psysml:22f6621f-c82b-45b4-aad5-95fd1a975c3d\" xlink:actuate=\"onRequest\" xlink:href=\"psysml:22f6621f-c82b-45b4-aad5-95fd1a975c3d\" xlink:show=\"new\" xlink:title=\"psysml:22f6621f-c82b-45b4-aad5-95fd1a975c3d\" xlink:type=\"simple\"><path d=\"M82.11,82.64 C102.61,97.05 132.18,117.83 157.18,135.39 \" fill=\"none\" id=\"E7-&gt;E3\" style=\"stroke: #383838; stroke-width: 1.0;\"/><polygon fill=\"#FFFFFF\" points=\"173.58,146.92,154.011,141.7187,162.0629,130.266,173.58,146.92\" style=\"stroke: #383838; stroke-width: 1.0;\"/><ellipse cx=\"150.4983\" cy=\"136.8043\" fill=\"#383838\" rx=\"2\" ry=\"2\" style=\"stroke: #383838; stroke-width: 1.0;\"/><ellipse cx=\"156.2497\" cy=\"128.6238\" fill=\"#383838\" rx=\"2\" ry=\"2\" style=\"stroke: #383838; stroke-width: 1.0;\"/></a><!--MD5=[dc164f5e8a733ab456ef1add180e9e34]\n",
       "reverse link E7 to E8--><a href=\"psysml:22337106-f0e5-4c32-83fd-01b8d559ead1\" target=\"_top\" title=\"psysml:22337106-f0e5-4c32-83fd-01b8d559ead1\" xlink:actuate=\"onRequest\" xlink:href=\"psysml:22337106-f0e5-4c32-83fd-01b8d559ead1\" xlink:show=\"new\" xlink:title=\"psysml:22337106-f0e5-4c32-83fd-01b8d559ead1\" xlink:type=\"simple\"><path d=\"M52.05,100.09 C53.65,143.61 64.25,216.5 74.75,252.9 \" fill=\"none\" id=\"E7&lt;-E8\" style=\"stroke: #383838; stroke-width: 1.0;\"/><polygon fill=\"#FFFFFF\" points=\"51.85,87.08,47.9362,93.1366,52.0216,99.0788,55.9354,93.0222,51.85,87.08\" style=\"stroke: #383838; stroke-width: 1.0;\"/><text fill=\"#000000\" font-family=\"sans-serif\" font-size=\"13\" lengthAdjust=\"spacingAndGlyphs\" textLength=\"8\" x=\"62.6516\" y=\"241.7694\">1</text></a><!--MD5=[dc164f5e8a733ab456ef1add180e9e34]\n",
       "reverse link E7 to E8--><a href=\"psysml:3441a1bf-d119-4e2c-bd85-6011f03ceff2\" target=\"_top\" title=\"psysml:3441a1bf-d119-4e2c-bd85-6011f03ceff2\" xlink:actuate=\"onRequest\" xlink:href=\"psysml:3441a1bf-d119-4e2c-bd85-6011f03ceff2\" xlink:show=\"new\" xlink:title=\"psysml:3441a1bf-d119-4e2c-bd85-6011f03ceff2\" xlink:type=\"simple\"><path d=\"M72.64,101.8 C83.15,145.5 92.39,216.97 91.63,252.9 \" fill=\"none\" id=\"E7&lt;-E8-1\" style=\"stroke: #383838; stroke-width: 1.0; stroke-dasharray: 7.0,7.0;\"/><ellipse cx=\"70.7794\" cy=\"94.813\" fill=\"#FFFFFF\" rx=\"8\" ry=\"8\" style=\"stroke: #383838; stroke-width: 1.0;\"/><line style=\"stroke: #383838; stroke-width: 1.0;\" x1=\"72.8289\" x2=\"68.73\" y1=\"102.5461\" y2=\"87.08\"/><line style=\"stroke: #383838; stroke-width: 1.0;\" x1=\"63.0464\" x2=\"78.5125\" y1=\"96.8625\" y2=\"92.7636\"/><text fill=\"#000000\" font-family=\"sans-serif\" font-size=\"13\" lengthAdjust=\"spacingAndGlyphs\" textLength=\"8\" x=\"94.2181\" y=\"241.7694\">1</text></a><!--MD5=[0a839d0f80c2d72d4b9b307f046d0de8]\n",
       "link E6 to E8--><a href=\"psysml:e347aa3d-31a4-4502-9422-b0b7e8733c17\" target=\"_top\" title=\"psysml:e347aa3d-31a4-4502-9422-b0b7e8733c17\" xlink:actuate=\"onRequest\" xlink:href=\"psysml:e347aa3d-31a4-4502-9422-b0b7e8733c17\" xlink:show=\"new\" xlink:title=\"psysml:e347aa3d-31a4-4502-9422-b0b7e8733c17\" xlink:type=\"simple\"><path d=\"M97.42,193.06 C89.86,210.7 83.23,235.34 81.29,252.98 \" fill=\"none\" id=\"E6-E8\" style=\"stroke: #383838; stroke-width: 3.0;\"/><text fill=\"#000000\" font-family=\"sans-serif\" font-size=\"13\" lengthAdjust=\"spacingAndGlyphs\" textLength=\"7\" x=\"80.9648\" y=\"241.8709\">*</text></a><!--MD5=[0a839d0f80c2d72d4b9b307f046d0de8]\n",
       "link E6 to E8--><a href=\"psysml:6852a8da-427c-4993-bbf6-22174e5f8d33\" target=\"_top\" title=\"psysml:6852a8da-427c-4993-bbf6-22174e5f8d33\" xlink:actuate=\"onRequest\" xlink:href=\"psysml:6852a8da-427c-4993-bbf6-22174e5f8d33\" xlink:show=\"new\" xlink:title=\"psysml:6852a8da-427c-4993-bbf6-22174e5f8d33\" xlink:type=\"simple\"><path d=\"M119.33,193.06 C117.55,210.7 110.92,235.34 103.2,252.98 \" fill=\"none\" id=\"E6-E8-1\" style=\"stroke: #383838; stroke-width: 3.0;\"/><text fill=\"#000000\" font-family=\"sans-serif\" font-size=\"13\" lengthAdjust=\"spacingAndGlyphs\" textLength=\"7\" x=\"99.8819\" y=\"241.8709\">*</text></a><!--MD5=[49bf59ec121361e1b1f31aa70dac3f5b]\n",
       "@startuml\r\n",
       "skinparam monochrome true\r\n",
       "skinparam classbackgroundcolor white\r\n",
       "skinparam shadowing false\r\n",
       "skinparam wrapWidth 300\r\n",
       "hide circle\r\n",
       "\r\n",
       "package \"AliasTest\" as E1  [[psysml:5020e8e8-e597-4a8a-8c84-9076441471bb ]]  {\r\n",
       "comp usage \"b :> ISQSpaceTime::width\" as E2  <<(T,blue) attribute>> [[psysml:09023520-b272-4b76-a802-4be530536a95 ]] {\r\n",
       "}\r\n",
       "comp def \"P1\" as E3  <<(T,blue) part  def>> [[psysml:2d23ecbc-8f8b-40e5-8168-7a4eefd95afa ]] {\r\n",
       "}\r\n",
       "comp usage \"porig1 \" as E4  <<(T,blue) port>> [[psysml:371120a0-4800-4c08-b9c5-19a2f97c5f1a ]] {\r\n",
       "}\r\n",
       "comp usage \"p1: P1 \" as E5  <<(T,blue) part>> [[psysml:23efd2aa-8423-4d75-9f93-6567d973731c ]] {\r\n",
       "}\r\n",
       "comp usage \"po1 \" as E6  <<(T,blue) port>> [[psysml:a6a8a5d4-8051-439c-be85-1eee73d04018 ]] {\r\n",
       "}\r\n",
       "comp usage \"p2: P1 \" as E7  <<(T,blue) part>> [[psysml:32558afe-9574-460d-81c7-219976cfcf7f ]] {\r\n",
       "}\r\n",
       "comp usage \"pdest \" as E8  <<(T,blue) port>> [[psysml:9d4715a0-ecad-4cb9-af91-593b0378d847 ]] {\r\n",
       "}\r\n",
       "}\r\n",
       "E3 o- - \"1\"E4 [[psysml:77da464e-a07c-41d7-bf00-c994457c7429 ]] \r\n",
       "E3 +.. \"1\"E4 [[psysml:2fb80261-1acb-4246-9b34-6566336881f2 ]] \r\n",
       "E5 - -:|> E3 [[psysml:bae878c2-3025-4ed8-bae0-781c13e39aed ]] \r\n",
       "E5 o- - \"1\"E6 [[psysml:cd2d9195-2d40-49eb-a50a-4bb167712418 ]] \r\n",
       "E6 - -||> E4 [[psysml:9b4aa44d-c7fb-440f-8f9d-ccf8058f014a ]] \r\n",
       "E7 - -:|> E3 [[psysml:22f6621f-c82b-45b4-aad5-95fd1a975c3d ]] \r\n",
       "E7 o- - \"1\"E8 [[psysml:22337106-f0e5-4c32-83fd-01b8d559ead1 ]] \r\n",
       "E7 +.. \"1\"E8 [[psysml:3441a1bf-d119-4e2c-bd85-6011f03ceff2 ]] \r\n",
       "E6 -[thickness=3]- \"*\"E8 [[psysml:e347aa3d-31a4-4502-9422-b0b7e8733c17 ]] \r\n",
       "E6 -[thickness=3]- \"*\"E8 [[psysml:6852a8da-427c-4993-bbf6-22174e5f8d33 ]] \r\n",
       "@enduml\r\n",
       "\n",
       "PlantUML version 1.2020.13(Sat Jun 13 12:26:38 UTC 2020)\n",
       "(EPL source distribution)\n",
       "Java Runtime: OpenJDK Runtime Environment\n",
       "JVM: OpenJDK 64-Bit Server VM\n",
       "Default Encoding: UTF-8\n",
       "Language: en\n",
       "Country: null\n",
       "--></g></svg>"
      ]
     },
     "execution_count": 43,
     "metadata": {},
     "output_type": "execute_result"
    }
   ],
   "source": [
    "%viz --style=\"DEFAULT\" --view=\"MIXED\" \"AliasTest\""
   ]
  },
  {
   "cell_type": "code",
   "execution_count": 44,
   "id": "87ff758a",
   "metadata": {
    "execution": {
     "iopub.execute_input": "2022-04-22T09:51:33.996376Z",
     "iopub.status.busy": "2022-04-22T09:51:33.995980Z",
     "iopub.status.idle": "2022-04-22T09:51:34.042034Z",
     "shell.execute_reply": "2022-04-22T09:51:34.040601Z"
    }
   },
   "outputs": [
    {
     "data": {
      "image/svg+xml": [
       "<?xml version=\"1.0\" encoding=\"UTF-8\" standalone=\"no\"?><svg xmlns=\"http://www.w3.org/2000/svg\" xmlns:xlink=\"http://www.w3.org/1999/xlink\" contentScriptType=\"application/ecmascript\" contentStyleType=\"text/css\" height=\"327px\" preserveAspectRatio=\"none\" style=\"width:406px;height:327px;\" version=\"1.1\" viewBox=\"0 0 406 327\" width=\"406px\" zoomAndPan=\"magnify\"><defs/><g><!--MD5=[fbc87193dbaf4d95561dea2c320d4a47]\n",
       "cluster E1--><a href=\"psysml:5020e8e8-e597-4a8a-8c84-9076441471bb\" target=\"_top\" title=\"psysml:5020e8e8-e597-4a8a-8c84-9076441471bb\" xlink:actuate=\"onRequest\" xlink:href=\"psysml:5020e8e8-e597-4a8a-8c84-9076441471bb\" xlink:show=\"new\" xlink:title=\"psysml:5020e8e8-e597-4a8a-8c84-9076441471bb\" xlink:type=\"simple\"><polygon fill=\"#FFFFFF\" points=\"16,6,84,6,91,28.2969,384,28.2969,384,315,16,315,16,6\" style=\"stroke: #000000; stroke-width: 1.5;\"/><line style=\"stroke: #000000; stroke-width: 1.5;\" x1=\"16\" x2=\"91\" y1=\"28.2969\" y2=\"28.2969\"/><text fill=\"#000000\" font-family=\"sans-serif\" font-size=\"14\" font-weight=\"bold\" lengthAdjust=\"spacingAndGlyphs\" textLength=\"62\" x=\"20\" y=\"20.9951\">AliasTest</text></a><!--MD5=[b4997ac47864f28c2f74865a473b2911]\n",
       "class E2--><a href=\"psysml:09023520-b272-4b76-a802-4be530536a95\" target=\"_top\" title=\"psysml:09023520-b272-4b76-a802-4be530536a95\" xlink:actuate=\"onRequest\" xlink:href=\"psysml:09023520-b272-4b76-a802-4be530536a95\" xlink:show=\"new\" xlink:title=\"psysml:09023520-b272-4b76-a802-4be530536a95\" xlink:type=\"simple\"><rect fill=\"#FFFFFF\" height=\"45.9375\" id=\"E2\" rx=\"10\" ry=\"10\" style=\"stroke: #383838; stroke-width: 1.5;\" width=\"165\" x=\"202.5\" y=\"41\"/><text fill=\"#000000\" font-family=\"sans-serif\" font-size=\"12\" font-style=\"italic\" lengthAdjust=\"spacingAndGlyphs\" textLength=\"69\" x=\"250.5\" y=\"57.1387\">«attribute»</text><text fill=\"#000000\" font-family=\"sans-serif\" font-size=\"12\" lengthAdjust=\"spacingAndGlyphs\" textLength=\"159\" x=\"205.5\" y=\"71.1074\">b :&gt; ISQSpaceTime::width</text><line style=\"stroke: #383838; stroke-width: 1.5;\" x1=\"203.5\" x2=\"366.5\" y1=\"78.9375\" y2=\"78.9375\"/></a><!--MD5=[09b614a08d8cba4a07c9adeb5e0fee81]\n",
       "class E3--><a href=\"psysml:2d23ecbc-8f8b-40e5-8168-7a4eefd95afa\" target=\"_top\" title=\"psysml:2d23ecbc-8f8b-40e5-8168-7a4eefd95afa\" xlink:actuate=\"onRequest\" xlink:href=\"psysml:2d23ecbc-8f8b-40e5-8168-7a4eefd95afa\" xlink:show=\"new\" xlink:title=\"psysml:2d23ecbc-8f8b-40e5-8168-7a4eefd95afa\" xlink:type=\"simple\"><rect fill=\"#FFFFFF\" height=\"45.9375\" id=\"E3\" style=\"stroke: #383838; stroke-width: 1.5;\" width=\"70\" x=\"170\" y=\"147\"/><text fill=\"#000000\" font-family=\"sans-serif\" font-size=\"12\" font-style=\"italic\" lengthAdjust=\"spacingAndGlyphs\" textLength=\"68\" x=\"171\" y=\"163.1387\">«part  def»</text><text fill=\"#000000\" font-family=\"sans-serif\" font-size=\"12\" lengthAdjust=\"spacingAndGlyphs\" textLength=\"16\" x=\"197\" y=\"177.1074\">P1</text><line style=\"stroke: #383838; stroke-width: 1.5;\" x1=\"171\" x2=\"239\" y1=\"184.9375\" y2=\"184.9375\"/></a><!--MD5=[ebbe1d658d1005bcc118a6aa81145e00]\n",
       "class E4--><a href=\"psysml:371120a0-4800-4c08-b9c5-19a2f97c5f1a\" target=\"_top\" title=\"psysml:371120a0-4800-4c08-b9c5-19a2f97c5f1a\" xlink:actuate=\"onRequest\" xlink:href=\"psysml:371120a0-4800-4c08-b9c5-19a2f97c5f1a\" xlink:show=\"new\" xlink:title=\"psysml:371120a0-4800-4c08-b9c5-19a2f97c5f1a\" xlink:type=\"simple\"><rect fill=\"#FFFFFF\" height=\"45.9375\" id=\"E4\" rx=\"10\" ry=\"10\" style=\"stroke: #383838; stroke-width: 1.5;\" width=\"50\" x=\"180\" y=\"253\"/><text fill=\"#000000\" font-family=\"sans-serif\" font-size=\"12\" font-style=\"italic\" lengthAdjust=\"spacingAndGlyphs\" textLength=\"40\" x=\"185\" y=\"269.1387\">«port»</text><text fill=\"#000000\" font-family=\"sans-serif\" font-size=\"12\" lengthAdjust=\"spacingAndGlyphs\" textLength=\"40\" x=\"183\" y=\"283.1074\">porig1</text><line style=\"stroke: #383838; stroke-width: 1.5;\" x1=\"181\" x2=\"229\" y1=\"290.9375\" y2=\"290.9375\"/></a><!--MD5=[270fce915f116d4de14055a7c1d9a0f3]\n",
       "class E5--><a href=\"psysml:23efd2aa-8423-4d75-9f93-6567d973731c\" target=\"_top\" title=\"psysml:23efd2aa-8423-4d75-9f93-6567d973731c\" xlink:actuate=\"onRequest\" xlink:href=\"psysml:23efd2aa-8423-4d75-9f93-6567d973731c\" xlink:show=\"new\" xlink:title=\"psysml:23efd2aa-8423-4d75-9f93-6567d973731c\" xlink:type=\"simple\"><rect fill=\"#FFFFFF\" height=\"45.9375\" id=\"E5\" rx=\"10\" ry=\"10\" style=\"stroke: #383838; stroke-width: 1.5;\" width=\"50\" x=\"117\" y=\"41\"/><text fill=\"#000000\" font-family=\"sans-serif\" font-size=\"12\" font-style=\"italic\" lengthAdjust=\"spacingAndGlyphs\" textLength=\"40\" x=\"122\" y=\"57.1387\">«part»</text><text fill=\"#000000\" font-family=\"sans-serif\" font-size=\"12\" lengthAdjust=\"spacingAndGlyphs\" textLength=\"40\" x=\"120\" y=\"71.1074\">p1: P1</text><line style=\"stroke: #383838; stroke-width: 1.5;\" x1=\"118\" x2=\"166\" y1=\"78.9375\" y2=\"78.9375\"/></a><!--MD5=[60a26617385b1d2d0262a64233df1f8d]\n",
       "class E6--><a href=\"psysml:a6a8a5d4-8051-439c-be85-1eee73d04018\" target=\"_top\" title=\"psysml:a6a8a5d4-8051-439c-be85-1eee73d04018\" xlink:actuate=\"onRequest\" xlink:href=\"psysml:a6a8a5d4-8051-439c-be85-1eee73d04018\" xlink:show=\"new\" xlink:title=\"psysml:a6a8a5d4-8051-439c-be85-1eee73d04018\" xlink:type=\"simple\"><rect fill=\"#FFFFFF\" height=\"45.9375\" id=\"E6\" rx=\"10\" ry=\"10\" style=\"stroke: #383838; stroke-width: 1.5;\" width=\"42\" x=\"93\" y=\"147\"/><text fill=\"#000000\" font-family=\"sans-serif\" font-size=\"12\" font-style=\"italic\" lengthAdjust=\"spacingAndGlyphs\" textLength=\"40\" x=\"94\" y=\"163.1387\">«port»</text><text fill=\"#000000\" font-family=\"sans-serif\" font-size=\"12\" lengthAdjust=\"spacingAndGlyphs\" textLength=\"24\" x=\"100\" y=\"177.1074\">po1</text><line style=\"stroke: #383838; stroke-width: 1.5;\" x1=\"94\" x2=\"134\" y1=\"184.9375\" y2=\"184.9375\"/></a><!--MD5=[2156ba9850f5573cc1fc38a6a4b2f02b]\n",
       "class E7--><a href=\"psysml:32558afe-9574-460d-81c7-219976cfcf7f\" target=\"_top\" title=\"psysml:32558afe-9574-460d-81c7-219976cfcf7f\" xlink:actuate=\"onRequest\" xlink:href=\"psysml:32558afe-9574-460d-81c7-219976cfcf7f\" xlink:show=\"new\" xlink:title=\"psysml:32558afe-9574-460d-81c7-219976cfcf7f\" xlink:type=\"simple\"><rect fill=\"#FFFFFF\" height=\"45.9375\" id=\"E7\" rx=\"10\" ry=\"10\" style=\"stroke: #383838; stroke-width: 1.5;\" width=\"50\" x=\"32\" y=\"41\"/><text fill=\"#000000\" font-family=\"sans-serif\" font-size=\"12\" font-style=\"italic\" lengthAdjust=\"spacingAndGlyphs\" textLength=\"40\" x=\"37\" y=\"57.1387\">«part»</text><text fill=\"#000000\" font-family=\"sans-serif\" font-size=\"12\" lengthAdjust=\"spacingAndGlyphs\" textLength=\"40\" x=\"35\" y=\"71.1074\">p2: P1</text><line style=\"stroke: #383838; stroke-width: 1.5;\" x1=\"33\" x2=\"81\" y1=\"78.9375\" y2=\"78.9375\"/></a><!--MD5=[b9389687b975829384b498ac4b7476b2]\n",
       "class E8--><a href=\"psysml:9d4715a0-ecad-4cb9-af91-593b0378d847\" target=\"_top\" title=\"psysml:9d4715a0-ecad-4cb9-af91-593b0378d847\" xlink:actuate=\"onRequest\" xlink:href=\"psysml:9d4715a0-ecad-4cb9-af91-593b0378d847\" xlink:show=\"new\" xlink:title=\"psysml:9d4715a0-ecad-4cb9-af91-593b0378d847\" xlink:type=\"simple\"><rect fill=\"#FFFFFF\" height=\"45.9375\" id=\"E8\" rx=\"10\" ry=\"10\" style=\"stroke: #383838; stroke-width: 1.5;\" width=\"46\" x=\"63\" y=\"253\"/><text fill=\"#000000\" font-family=\"sans-serif\" font-size=\"12\" font-style=\"italic\" lengthAdjust=\"spacingAndGlyphs\" textLength=\"40\" x=\"66\" y=\"269.1387\">«port»</text><text fill=\"#000000\" font-family=\"sans-serif\" font-size=\"12\" lengthAdjust=\"spacingAndGlyphs\" textLength=\"36\" x=\"66\" y=\"283.1074\">pdest</text><line style=\"stroke: #383838; stroke-width: 1.5;\" x1=\"64\" x2=\"108\" y1=\"290.9375\" y2=\"290.9375\"/></a><!--MD5=[4672eba38e49728da53d11aeb285b987]\n",
       "reverse link E3 to E4--><a href=\"psysml:77da464e-a07c-41d7-bf00-c994457c7429\" target=\"_top\" title=\"psysml:77da464e-a07c-41d7-bf00-c994457c7429\" xlink:actuate=\"onRequest\" xlink:href=\"psysml:77da464e-a07c-41d7-bf00-c994457c7429\" xlink:show=\"new\" xlink:title=\"psysml:77da464e-a07c-41d7-bf00-c994457c7429\" xlink:type=\"simple\"><path d=\"M192.84,206.44 C191.7,221.87 192.21,239.47 194.36,252.98 \" fill=\"none\" id=\"E3&lt;-E4\" style=\"stroke: #383838; stroke-width: 1.0;\"/><polygon fill=\"#FFFFFF\" points=\"194.35,193.06,189.7032,198.5743,193.006,204.9845,197.6528,199.4702,194.35,193.06\" style=\"stroke: #383838; stroke-width: 1.0;\"/><text fill=\"#000000\" font-family=\"sans-serif\" font-size=\"13\" lengthAdjust=\"spacingAndGlyphs\" textLength=\"8\" x=\"182.4255\" y=\"241.8709\">1</text></a><!--MD5=[4672eba38e49728da53d11aeb285b987]\n",
       "reverse link E3 to E4--><a href=\"psysml:2fb80261-1acb-4246-9b34-6566336881f2\" target=\"_top\" title=\"psysml:2fb80261-1acb-4246-9b34-6566336881f2\" xlink:actuate=\"onRequest\" xlink:href=\"psysml:2fb80261-1acb-4246-9b34-6566336881f2\" xlink:show=\"new\" xlink:title=\"psysml:2fb80261-1acb-4246-9b34-6566336881f2\" xlink:type=\"simple\"><path d=\"M218.01,208.34 C219.03,223.3 218.45,240.02 216.27,252.98 \" fill=\"none\" id=\"E3&lt;-E4-1\" style=\"stroke: #383838; stroke-width: 1.0; stroke-dasharray: 7.0,7.0;\"/><ellipse cx=\"217.1693\" cy=\"201.0093\" fill=\"#FFFFFF\" rx=\"8\" ry=\"8\" style=\"stroke: #383838; stroke-width: 1.0;\"/><line style=\"stroke: #383838; stroke-width: 1.0;\" x1=\"218.0687\" x2=\"216.27\" y1=\"208.9586\" y2=\"193.06\"/><line style=\"stroke: #383838; stroke-width: 1.0;\" x1=\"209.2201\" x2=\"225.1186\" y1=\"201.9086\" y2=\"200.1099\"/><text fill=\"#000000\" font-family=\"sans-serif\" font-size=\"13\" lengthAdjust=\"spacingAndGlyphs\" textLength=\"8\" x=\"210.2238\" y=\"241.8709\">1</text></a><!--MD5=[e9be52314489bd878ff4c7144b63c9e1]\n",
       "link E5 to E3--><a href=\"psysml:bae878c2-3025-4ed8-bae0-781c13e39aed\" target=\"_top\" title=\"psysml:bae878c2-3025-4ed8-bae0-781c13e39aed\" xlink:actuate=\"onRequest\" xlink:href=\"psysml:bae878c2-3025-4ed8-bae0-781c13e39aed\" xlink:show=\"new\" xlink:title=\"psysml:bae878c2-3025-4ed8-bae0-781c13e39aed\" xlink:type=\"simple\"><path d=\"M155.36,87.06 C162.88,99.47 172.49,115.33 181.24,129.78 \" fill=\"none\" id=\"E5-&gt;E3\" style=\"stroke: #383838; stroke-width: 1.0;\"/><polygon fill=\"#FFFFFF\" points=\"191.66,146.98,175.8217,134.3646,187.792,127.1044,191.66,146.98\" style=\"stroke: #383838; stroke-width: 1.0;\"/><ellipse cx=\"174.5758\" cy=\"128.4538\" fill=\"#383838\" rx=\"2\" ry=\"2\" style=\"stroke: #383838; stroke-width: 1.0;\"/><ellipse cx=\"183.126\" cy=\"123.2679\" fill=\"#383838\" rx=\"2\" ry=\"2\" style=\"stroke: #383838; stroke-width: 1.0;\"/></a><!--MD5=[85d356282659285ab4b2cfe2f634dd2b]\n",
       "reverse link E5 to E6--><a href=\"psysml:cd2d9195-2d40-49eb-a50a-4bb167712418\" target=\"_top\" title=\"psysml:cd2d9195-2d40-49eb-a50a-4bb167712418\" xlink:actuate=\"onRequest\" xlink:href=\"psysml:cd2d9195-2d40-49eb-a50a-4bb167712418\" xlink:show=\"new\" xlink:title=\"psysml:cd2d9195-2d40-49eb-a50a-4bb167712418\" xlink:type=\"simple\"><path d=\"M132.59,99.96 C128.4,115.51 123.6,133.33 119.93,146.98 \" fill=\"none\" id=\"E5&lt;-E6\" style=\"stroke: #383838; stroke-width: 1.0;\"/><polygon fill=\"#FFFFFF\" points=\"136.06,87.06,130.641,91.8176,132.9484,98.6496,138.3674,93.892,136.06,87.06\" style=\"stroke: #383838; stroke-width: 1.0;\"/><text fill=\"#000000\" font-family=\"sans-serif\" font-size=\"13\" lengthAdjust=\"spacingAndGlyphs\" textLength=\"8\" x=\"112.4487\" y=\"135.8709\">1</text></a><!--MD5=[f667431f98296947986a1a7595a31603]\n",
       "link E6 to E4--><a href=\"psysml:9b4aa44d-c7fb-440f-8f9d-ccf8058f014a\" target=\"_top\" title=\"psysml:9b4aa44d-c7fb-440f-8f9d-ccf8058f014a\" xlink:actuate=\"onRequest\" xlink:href=\"psysml:9b4aa44d-c7fb-440f-8f9d-ccf8058f014a\" xlink:show=\"new\" xlink:title=\"psysml:9b4aa44d-c7fb-440f-8f9d-ccf8058f014a\" xlink:type=\"simple\"><path d=\"M133.3,193.06 C144.64,206.02 159.28,222.74 172.36,237.7 \" fill=\"none\" id=\"E6-&gt;E4\" style=\"stroke: #383838; stroke-width: 1.0;\"/><polygon fill=\"#FFFFFF\" points=\"185.73,252.98,167.9517,243.2882,178.489,234.0705,185.73,252.98\" style=\"stroke: #383838; stroke-width: 1.0;\"/><line style=\"stroke: #383838; stroke-width: 2.0;\" x1=\"165.4497\" x2=\"175.9871\" y1=\"240.4281\" y2=\"231.2104\"/></a><!--MD5=[14ccda38c055a5c0da953d572bc50960]\n",
       "link E7 to E3--><a href=\"psysml:22f6621f-c82b-45b4-aad5-95fd1a975c3d\" target=\"_top\" title=\"psysml:22f6621f-c82b-45b4-aad5-95fd1a975c3d\" xlink:actuate=\"onRequest\" xlink:href=\"psysml:22f6621f-c82b-45b4-aad5-95fd1a975c3d\" xlink:show=\"new\" xlink:title=\"psysml:22f6621f-c82b-45b4-aad5-95fd1a975c3d\" xlink:type=\"simple\"><path d=\"M82.11,82.64 C102.61,97.05 132.18,117.83 157.18,135.39 \" fill=\"none\" id=\"E7-&gt;E3\" style=\"stroke: #383838; stroke-width: 1.0;\"/><polygon fill=\"#FFFFFF\" points=\"173.58,146.92,154.011,141.7187,162.0629,130.266,173.58,146.92\" style=\"stroke: #383838; stroke-width: 1.0;\"/><ellipse cx=\"150.4983\" cy=\"136.8043\" fill=\"#383838\" rx=\"2\" ry=\"2\" style=\"stroke: #383838; stroke-width: 1.0;\"/><ellipse cx=\"156.2497\" cy=\"128.6238\" fill=\"#383838\" rx=\"2\" ry=\"2\" style=\"stroke: #383838; stroke-width: 1.0;\"/></a><!--MD5=[dc164f5e8a733ab456ef1add180e9e34]\n",
       "reverse link E7 to E8--><a href=\"psysml:22337106-f0e5-4c32-83fd-01b8d559ead1\" target=\"_top\" title=\"psysml:22337106-f0e5-4c32-83fd-01b8d559ead1\" xlink:actuate=\"onRequest\" xlink:href=\"psysml:22337106-f0e5-4c32-83fd-01b8d559ead1\" xlink:show=\"new\" xlink:title=\"psysml:22337106-f0e5-4c32-83fd-01b8d559ead1\" xlink:type=\"simple\"><path d=\"M52.05,100.09 C53.65,143.61 64.25,216.5 74.75,252.9 \" fill=\"none\" id=\"E7&lt;-E8\" style=\"stroke: #383838; stroke-width: 1.0;\"/><polygon fill=\"#FFFFFF\" points=\"51.85,87.08,47.9362,93.1366,52.0216,99.0788,55.9354,93.0222,51.85,87.08\" style=\"stroke: #383838; stroke-width: 1.0;\"/><text fill=\"#000000\" font-family=\"sans-serif\" font-size=\"13\" lengthAdjust=\"spacingAndGlyphs\" textLength=\"8\" x=\"62.6516\" y=\"241.7694\">1</text></a><!--MD5=[dc164f5e8a733ab456ef1add180e9e34]\n",
       "reverse link E7 to E8--><a href=\"psysml:3441a1bf-d119-4e2c-bd85-6011f03ceff2\" target=\"_top\" title=\"psysml:3441a1bf-d119-4e2c-bd85-6011f03ceff2\" xlink:actuate=\"onRequest\" xlink:href=\"psysml:3441a1bf-d119-4e2c-bd85-6011f03ceff2\" xlink:show=\"new\" xlink:title=\"psysml:3441a1bf-d119-4e2c-bd85-6011f03ceff2\" xlink:type=\"simple\"><path d=\"M72.64,101.8 C83.15,145.5 92.39,216.97 91.63,252.9 \" fill=\"none\" id=\"E7&lt;-E8-1\" style=\"stroke: #383838; stroke-width: 1.0; stroke-dasharray: 7.0,7.0;\"/><ellipse cx=\"70.7794\" cy=\"94.813\" fill=\"#FFFFFF\" rx=\"8\" ry=\"8\" style=\"stroke: #383838; stroke-width: 1.0;\"/><line style=\"stroke: #383838; stroke-width: 1.0;\" x1=\"72.8289\" x2=\"68.73\" y1=\"102.5461\" y2=\"87.08\"/><line style=\"stroke: #383838; stroke-width: 1.0;\" x1=\"63.0464\" x2=\"78.5125\" y1=\"96.8625\" y2=\"92.7636\"/><text fill=\"#000000\" font-family=\"sans-serif\" font-size=\"13\" lengthAdjust=\"spacingAndGlyphs\" textLength=\"8\" x=\"94.2181\" y=\"241.7694\">1</text></a><!--MD5=[0a839d0f80c2d72d4b9b307f046d0de8]\n",
       "link E6 to E8--><a href=\"psysml:e347aa3d-31a4-4502-9422-b0b7e8733c17\" target=\"_top\" title=\"psysml:e347aa3d-31a4-4502-9422-b0b7e8733c17\" xlink:actuate=\"onRequest\" xlink:href=\"psysml:e347aa3d-31a4-4502-9422-b0b7e8733c17\" xlink:show=\"new\" xlink:title=\"psysml:e347aa3d-31a4-4502-9422-b0b7e8733c17\" xlink:type=\"simple\"><path d=\"M97.42,193.06 C89.86,210.7 83.23,235.34 81.29,252.98 \" fill=\"none\" id=\"E6-E8\" style=\"stroke: #383838; stroke-width: 3.0;\"/><text fill=\"#000000\" font-family=\"sans-serif\" font-size=\"13\" lengthAdjust=\"spacingAndGlyphs\" textLength=\"7\" x=\"80.9648\" y=\"241.8709\">*</text></a><!--MD5=[0a839d0f80c2d72d4b9b307f046d0de8]\n",
       "link E6 to E8--><a href=\"psysml:6852a8da-427c-4993-bbf6-22174e5f8d33\" target=\"_top\" title=\"psysml:6852a8da-427c-4993-bbf6-22174e5f8d33\" xlink:actuate=\"onRequest\" xlink:href=\"psysml:6852a8da-427c-4993-bbf6-22174e5f8d33\" xlink:show=\"new\" xlink:title=\"psysml:6852a8da-427c-4993-bbf6-22174e5f8d33\" xlink:type=\"simple\"><path d=\"M119.33,193.06 C117.55,210.7 110.92,235.34 103.2,252.98 \" fill=\"none\" id=\"E6-E8-1\" style=\"stroke: #383838; stroke-width: 3.0;\"/><text fill=\"#000000\" font-family=\"sans-serif\" font-size=\"13\" lengthAdjust=\"spacingAndGlyphs\" textLength=\"7\" x=\"99.8819\" y=\"241.8709\">*</text></a><!--MD5=[4680f1334c11fcc68359efdcde80c08f]\n",
       "@startuml\r\n",
       "top to bottom direction\r\n",
       "skinparam monochrome true\r\n",
       "skinparam classbackgroundcolor white\r\n",
       "skinparam shadowing false\r\n",
       "skinparam wrapWidth 300\r\n",
       "hide circle\r\n",
       "\r\n",
       "package \"AliasTest\" as E1  [[psysml:5020e8e8-e597-4a8a-8c84-9076441471bb ]]  {\r\n",
       "comp usage \"b :> ISQSpaceTime::width\" as E2  <<(T,blue) attribute>> [[psysml:09023520-b272-4b76-a802-4be530536a95 ]] {\r\n",
       "}\r\n",
       "comp def \"P1\" as E3  <<(T,blue) part  def>> [[psysml:2d23ecbc-8f8b-40e5-8168-7a4eefd95afa ]] {\r\n",
       "}\r\n",
       "comp usage \"porig1 \" as E4  <<(T,blue) port>> [[psysml:371120a0-4800-4c08-b9c5-19a2f97c5f1a ]] {\r\n",
       "}\r\n",
       "comp usage \"p1: P1 \" as E5  <<(T,blue) part>> [[psysml:23efd2aa-8423-4d75-9f93-6567d973731c ]] {\r\n",
       "}\r\n",
       "comp usage \"po1 \" as E6  <<(T,blue) port>> [[psysml:a6a8a5d4-8051-439c-be85-1eee73d04018 ]] {\r\n",
       "}\r\n",
       "comp usage \"p2: P1 \" as E7  <<(T,blue) part>> [[psysml:32558afe-9574-460d-81c7-219976cfcf7f ]] {\r\n",
       "}\r\n",
       "comp usage \"pdest \" as E8  <<(T,blue) port>> [[psysml:9d4715a0-ecad-4cb9-af91-593b0378d847 ]] {\r\n",
       "}\r\n",
       "}\r\n",
       "E3 o- - \"1\"E4 [[psysml:77da464e-a07c-41d7-bf00-c994457c7429 ]] \r\n",
       "E3 +.. \"1\"E4 [[psysml:2fb80261-1acb-4246-9b34-6566336881f2 ]] \r\n",
       "E5 - -:|> E3 [[psysml:bae878c2-3025-4ed8-bae0-781c13e39aed ]] \r\n",
       "E5 o- - \"1\"E6 [[psysml:cd2d9195-2d40-49eb-a50a-4bb167712418 ]] \r\n",
       "E6 - -||> E4 [[psysml:9b4aa44d-c7fb-440f-8f9d-ccf8058f014a ]] \r\n",
       "E7 - -:|> E3 [[psysml:22f6621f-c82b-45b4-aad5-95fd1a975c3d ]] \r\n",
       "E7 o- - \"1\"E8 [[psysml:22337106-f0e5-4c32-83fd-01b8d559ead1 ]] \r\n",
       "E7 +.. \"1\"E8 [[psysml:3441a1bf-d119-4e2c-bd85-6011f03ceff2 ]] \r\n",
       "E6 -[thickness=3]- \"*\"E8 [[psysml:e347aa3d-31a4-4502-9422-b0b7e8733c17 ]] \r\n",
       "E6 -[thickness=3]- \"*\"E8 [[psysml:6852a8da-427c-4993-bbf6-22174e5f8d33 ]] \r\n",
       "@enduml\r\n",
       "\n",
       "PlantUML version 1.2020.13(Sat Jun 13 12:26:38 UTC 2020)\n",
       "(EPL source distribution)\n",
       "Java Runtime: OpenJDK Runtime Environment\n",
       "JVM: OpenJDK 64-Bit Server VM\n",
       "Default Encoding: UTF-8\n",
       "Language: en\n",
       "Country: null\n",
       "--></g></svg>"
      ]
     },
     "execution_count": 44,
     "metadata": {},
     "output_type": "execute_result"
    }
   ],
   "source": [
    "%viz --style=\"TB\" --view=\"Default\" \"AliasTest\""
   ]
  },
  {
   "cell_type": "code",
   "execution_count": 45,
   "id": "a7ece664",
   "metadata": {
    "execution": {
     "iopub.execute_input": "2022-04-22T09:51:34.091435Z",
     "iopub.status.busy": "2022-04-22T09:51:34.091034Z",
     "iopub.status.idle": "2022-04-22T09:51:34.123289Z",
     "shell.execute_reply": "2022-04-22T09:51:34.122007Z"
    }
   },
   "outputs": [
    {
     "data": {
      "image/svg+xml": [
       "<?xml version=\"1.0\" encoding=\"UTF-8\" standalone=\"no\"?><svg xmlns=\"http://www.w3.org/2000/svg\" xmlns:xlink=\"http://www.w3.org/1999/xlink\" contentScriptType=\"application/ecmascript\" contentStyleType=\"text/css\" height=\"327px\" preserveAspectRatio=\"none\" style=\"width:406px;height:327px;\" version=\"1.1\" viewBox=\"0 0 406 327\" width=\"406px\" zoomAndPan=\"magnify\"><defs/><g><!--MD5=[fbc87193dbaf4d95561dea2c320d4a47]\n",
       "cluster E1--><a href=\"psysml:5020e8e8-e597-4a8a-8c84-9076441471bb\" target=\"_top\" title=\"psysml:5020e8e8-e597-4a8a-8c84-9076441471bb\" xlink:actuate=\"onRequest\" xlink:href=\"psysml:5020e8e8-e597-4a8a-8c84-9076441471bb\" xlink:show=\"new\" xlink:title=\"psysml:5020e8e8-e597-4a8a-8c84-9076441471bb\" xlink:type=\"simple\"><polygon fill=\"#FFFFFF\" points=\"16,6,84,6,91,28.2969,384,28.2969,384,315,16,315,16,6\" style=\"stroke: #000000; stroke-width: 1.5;\"/><line style=\"stroke: #000000; stroke-width: 1.5;\" x1=\"16\" x2=\"91\" y1=\"28.2969\" y2=\"28.2969\"/><text fill=\"#000000\" font-family=\"sans-serif\" font-size=\"14\" font-weight=\"bold\" lengthAdjust=\"spacingAndGlyphs\" textLength=\"62\" x=\"20\" y=\"20.9951\">AliasTest</text></a><!--MD5=[b4997ac47864f28c2f74865a473b2911]\n",
       "class E2--><a href=\"psysml:09023520-b272-4b76-a802-4be530536a95\" target=\"_top\" title=\"psysml:09023520-b272-4b76-a802-4be530536a95\" xlink:actuate=\"onRequest\" xlink:href=\"psysml:09023520-b272-4b76-a802-4be530536a95\" xlink:show=\"new\" xlink:title=\"psysml:09023520-b272-4b76-a802-4be530536a95\" xlink:type=\"simple\"><rect fill=\"#FFFFFF\" height=\"45.9375\" id=\"E2\" rx=\"10\" ry=\"10\" style=\"stroke: #383838; stroke-width: 1.5;\" width=\"165\" x=\"202.5\" y=\"41\"/><text fill=\"#000000\" font-family=\"sans-serif\" font-size=\"12\" font-style=\"italic\" lengthAdjust=\"spacingAndGlyphs\" textLength=\"69\" x=\"250.5\" y=\"57.1387\">«attribute»</text><text fill=\"#000000\" font-family=\"sans-serif\" font-size=\"12\" lengthAdjust=\"spacingAndGlyphs\" textLength=\"159\" x=\"205.5\" y=\"71.1074\">b :&gt; ISQSpaceTime::width</text><line style=\"stroke: #383838; stroke-width: 1.5;\" x1=\"203.5\" x2=\"366.5\" y1=\"78.9375\" y2=\"78.9375\"/></a><!--MD5=[09b614a08d8cba4a07c9adeb5e0fee81]\n",
       "class E3--><a href=\"psysml:2d23ecbc-8f8b-40e5-8168-7a4eefd95afa\" target=\"_top\" title=\"psysml:2d23ecbc-8f8b-40e5-8168-7a4eefd95afa\" xlink:actuate=\"onRequest\" xlink:href=\"psysml:2d23ecbc-8f8b-40e5-8168-7a4eefd95afa\" xlink:show=\"new\" xlink:title=\"psysml:2d23ecbc-8f8b-40e5-8168-7a4eefd95afa\" xlink:type=\"simple\"><rect fill=\"#FFFFFF\" height=\"45.9375\" id=\"E3\" style=\"stroke: #383838; stroke-width: 1.5;\" width=\"70\" x=\"170\" y=\"147\"/><text fill=\"#000000\" font-family=\"sans-serif\" font-size=\"12\" font-style=\"italic\" lengthAdjust=\"spacingAndGlyphs\" textLength=\"68\" x=\"171\" y=\"163.1387\">«part  def»</text><text fill=\"#000000\" font-family=\"sans-serif\" font-size=\"12\" lengthAdjust=\"spacingAndGlyphs\" textLength=\"16\" x=\"197\" y=\"177.1074\">P1</text><line style=\"stroke: #383838; stroke-width: 1.5;\" x1=\"171\" x2=\"239\" y1=\"184.9375\" y2=\"184.9375\"/></a><!--MD5=[ebbe1d658d1005bcc118a6aa81145e00]\n",
       "class E4--><a href=\"psysml:371120a0-4800-4c08-b9c5-19a2f97c5f1a\" target=\"_top\" title=\"psysml:371120a0-4800-4c08-b9c5-19a2f97c5f1a\" xlink:actuate=\"onRequest\" xlink:href=\"psysml:371120a0-4800-4c08-b9c5-19a2f97c5f1a\" xlink:show=\"new\" xlink:title=\"psysml:371120a0-4800-4c08-b9c5-19a2f97c5f1a\" xlink:type=\"simple\"><rect fill=\"#FFFFFF\" height=\"45.9375\" id=\"E4\" rx=\"10\" ry=\"10\" style=\"stroke: #383838; stroke-width: 1.5;\" width=\"50\" x=\"180\" y=\"253\"/><text fill=\"#000000\" font-family=\"sans-serif\" font-size=\"12\" font-style=\"italic\" lengthAdjust=\"spacingAndGlyphs\" textLength=\"40\" x=\"185\" y=\"269.1387\">«port»</text><text fill=\"#000000\" font-family=\"sans-serif\" font-size=\"12\" lengthAdjust=\"spacingAndGlyphs\" textLength=\"40\" x=\"183\" y=\"283.1074\">porig1</text><line style=\"stroke: #383838; stroke-width: 1.5;\" x1=\"181\" x2=\"229\" y1=\"290.9375\" y2=\"290.9375\"/></a><!--MD5=[270fce915f116d4de14055a7c1d9a0f3]\n",
       "class E5--><a href=\"psysml:23efd2aa-8423-4d75-9f93-6567d973731c\" target=\"_top\" title=\"psysml:23efd2aa-8423-4d75-9f93-6567d973731c\" xlink:actuate=\"onRequest\" xlink:href=\"psysml:23efd2aa-8423-4d75-9f93-6567d973731c\" xlink:show=\"new\" xlink:title=\"psysml:23efd2aa-8423-4d75-9f93-6567d973731c\" xlink:type=\"simple\"><rect fill=\"#FFFFFF\" height=\"45.9375\" id=\"E5\" rx=\"10\" ry=\"10\" style=\"stroke: #383838; stroke-width: 1.5;\" width=\"50\" x=\"117\" y=\"41\"/><text fill=\"#000000\" font-family=\"sans-serif\" font-size=\"12\" font-style=\"italic\" lengthAdjust=\"spacingAndGlyphs\" textLength=\"40\" x=\"122\" y=\"57.1387\">«part»</text><text fill=\"#000000\" font-family=\"sans-serif\" font-size=\"12\" lengthAdjust=\"spacingAndGlyphs\" textLength=\"40\" x=\"120\" y=\"71.1074\">p1: P1</text><line style=\"stroke: #383838; stroke-width: 1.5;\" x1=\"118\" x2=\"166\" y1=\"78.9375\" y2=\"78.9375\"/></a><!--MD5=[60a26617385b1d2d0262a64233df1f8d]\n",
       "class E6--><a href=\"psysml:a6a8a5d4-8051-439c-be85-1eee73d04018\" target=\"_top\" title=\"psysml:a6a8a5d4-8051-439c-be85-1eee73d04018\" xlink:actuate=\"onRequest\" xlink:href=\"psysml:a6a8a5d4-8051-439c-be85-1eee73d04018\" xlink:show=\"new\" xlink:title=\"psysml:a6a8a5d4-8051-439c-be85-1eee73d04018\" xlink:type=\"simple\"><rect fill=\"#FFFFFF\" height=\"45.9375\" id=\"E6\" rx=\"10\" ry=\"10\" style=\"stroke: #383838; stroke-width: 1.5;\" width=\"42\" x=\"93\" y=\"147\"/><text fill=\"#000000\" font-family=\"sans-serif\" font-size=\"12\" font-style=\"italic\" lengthAdjust=\"spacingAndGlyphs\" textLength=\"40\" x=\"94\" y=\"163.1387\">«port»</text><text fill=\"#000000\" font-family=\"sans-serif\" font-size=\"12\" lengthAdjust=\"spacingAndGlyphs\" textLength=\"24\" x=\"100\" y=\"177.1074\">po1</text><line style=\"stroke: #383838; stroke-width: 1.5;\" x1=\"94\" x2=\"134\" y1=\"184.9375\" y2=\"184.9375\"/></a><!--MD5=[2156ba9850f5573cc1fc38a6a4b2f02b]\n",
       "class E7--><a href=\"psysml:32558afe-9574-460d-81c7-219976cfcf7f\" target=\"_top\" title=\"psysml:32558afe-9574-460d-81c7-219976cfcf7f\" xlink:actuate=\"onRequest\" xlink:href=\"psysml:32558afe-9574-460d-81c7-219976cfcf7f\" xlink:show=\"new\" xlink:title=\"psysml:32558afe-9574-460d-81c7-219976cfcf7f\" xlink:type=\"simple\"><rect fill=\"#FFFFFF\" height=\"45.9375\" id=\"E7\" rx=\"10\" ry=\"10\" style=\"stroke: #383838; stroke-width: 1.5;\" width=\"50\" x=\"32\" y=\"41\"/><text fill=\"#000000\" font-family=\"sans-serif\" font-size=\"12\" font-style=\"italic\" lengthAdjust=\"spacingAndGlyphs\" textLength=\"40\" x=\"37\" y=\"57.1387\">«part»</text><text fill=\"#000000\" font-family=\"sans-serif\" font-size=\"12\" lengthAdjust=\"spacingAndGlyphs\" textLength=\"40\" x=\"35\" y=\"71.1074\">p2: P1</text><line style=\"stroke: #383838; stroke-width: 1.5;\" x1=\"33\" x2=\"81\" y1=\"78.9375\" y2=\"78.9375\"/></a><!--MD5=[b9389687b975829384b498ac4b7476b2]\n",
       "class E8--><a href=\"psysml:9d4715a0-ecad-4cb9-af91-593b0378d847\" target=\"_top\" title=\"psysml:9d4715a0-ecad-4cb9-af91-593b0378d847\" xlink:actuate=\"onRequest\" xlink:href=\"psysml:9d4715a0-ecad-4cb9-af91-593b0378d847\" xlink:show=\"new\" xlink:title=\"psysml:9d4715a0-ecad-4cb9-af91-593b0378d847\" xlink:type=\"simple\"><rect fill=\"#FFFFFF\" height=\"45.9375\" id=\"E8\" rx=\"10\" ry=\"10\" style=\"stroke: #383838; stroke-width: 1.5;\" width=\"46\" x=\"63\" y=\"253\"/><text fill=\"#000000\" font-family=\"sans-serif\" font-size=\"12\" font-style=\"italic\" lengthAdjust=\"spacingAndGlyphs\" textLength=\"40\" x=\"66\" y=\"269.1387\">«port»</text><text fill=\"#000000\" font-family=\"sans-serif\" font-size=\"12\" lengthAdjust=\"spacingAndGlyphs\" textLength=\"36\" x=\"66\" y=\"283.1074\">pdest</text><line style=\"stroke: #383838; stroke-width: 1.5;\" x1=\"64\" x2=\"108\" y1=\"290.9375\" y2=\"290.9375\"/></a><!--MD5=[4672eba38e49728da53d11aeb285b987]\n",
       "reverse link E3 to E4--><a href=\"psysml:77da464e-a07c-41d7-bf00-c994457c7429\" target=\"_top\" title=\"psysml:77da464e-a07c-41d7-bf00-c994457c7429\" xlink:actuate=\"onRequest\" xlink:href=\"psysml:77da464e-a07c-41d7-bf00-c994457c7429\" xlink:show=\"new\" xlink:title=\"psysml:77da464e-a07c-41d7-bf00-c994457c7429\" xlink:type=\"simple\"><path d=\"M192.84,206.44 C191.7,221.87 192.21,239.47 194.36,252.98 \" fill=\"none\" id=\"E3&lt;-E4\" style=\"stroke: #383838; stroke-width: 1.0;\"/><polygon fill=\"#FFFFFF\" points=\"194.35,193.06,189.7032,198.5743,193.006,204.9845,197.6528,199.4702,194.35,193.06\" style=\"stroke: #383838; stroke-width: 1.0;\"/><text fill=\"#000000\" font-family=\"sans-serif\" font-size=\"13\" lengthAdjust=\"spacingAndGlyphs\" textLength=\"8\" x=\"182.4255\" y=\"241.8709\">1</text></a><!--MD5=[4672eba38e49728da53d11aeb285b987]\n",
       "reverse link E3 to E4--><a href=\"psysml:2fb80261-1acb-4246-9b34-6566336881f2\" target=\"_top\" title=\"psysml:2fb80261-1acb-4246-9b34-6566336881f2\" xlink:actuate=\"onRequest\" xlink:href=\"psysml:2fb80261-1acb-4246-9b34-6566336881f2\" xlink:show=\"new\" xlink:title=\"psysml:2fb80261-1acb-4246-9b34-6566336881f2\" xlink:type=\"simple\"><path d=\"M218.01,208.34 C219.03,223.3 218.45,240.02 216.27,252.98 \" fill=\"none\" id=\"E3&lt;-E4-1\" style=\"stroke: #383838; stroke-width: 1.0; stroke-dasharray: 7.0,7.0;\"/><ellipse cx=\"217.1693\" cy=\"201.0093\" fill=\"#FFFFFF\" rx=\"8\" ry=\"8\" style=\"stroke: #383838; stroke-width: 1.0;\"/><line style=\"stroke: #383838; stroke-width: 1.0;\" x1=\"218.0687\" x2=\"216.27\" y1=\"208.9586\" y2=\"193.06\"/><line style=\"stroke: #383838; stroke-width: 1.0;\" x1=\"209.2201\" x2=\"225.1186\" y1=\"201.9086\" y2=\"200.1099\"/><text fill=\"#000000\" font-family=\"sans-serif\" font-size=\"13\" lengthAdjust=\"spacingAndGlyphs\" textLength=\"8\" x=\"210.2238\" y=\"241.8709\">1</text></a><!--MD5=[e9be52314489bd878ff4c7144b63c9e1]\n",
       "link E5 to E3--><a href=\"psysml:bae878c2-3025-4ed8-bae0-781c13e39aed\" target=\"_top\" title=\"psysml:bae878c2-3025-4ed8-bae0-781c13e39aed\" xlink:actuate=\"onRequest\" xlink:href=\"psysml:bae878c2-3025-4ed8-bae0-781c13e39aed\" xlink:show=\"new\" xlink:title=\"psysml:bae878c2-3025-4ed8-bae0-781c13e39aed\" xlink:type=\"simple\"><path d=\"M155.36,87.06 C162.88,99.47 172.49,115.33 181.24,129.78 \" fill=\"none\" id=\"E5-&gt;E3\" style=\"stroke: #383838; stroke-width: 1.0;\"/><polygon fill=\"#FFFFFF\" points=\"191.66,146.98,175.8217,134.3646,187.792,127.1044,191.66,146.98\" style=\"stroke: #383838; stroke-width: 1.0;\"/><ellipse cx=\"174.5758\" cy=\"128.4538\" fill=\"#383838\" rx=\"2\" ry=\"2\" style=\"stroke: #383838; stroke-width: 1.0;\"/><ellipse cx=\"183.126\" cy=\"123.2679\" fill=\"#383838\" rx=\"2\" ry=\"2\" style=\"stroke: #383838; stroke-width: 1.0;\"/></a><!--MD5=[85d356282659285ab4b2cfe2f634dd2b]\n",
       "reverse link E5 to E6--><a href=\"psysml:cd2d9195-2d40-49eb-a50a-4bb167712418\" target=\"_top\" title=\"psysml:cd2d9195-2d40-49eb-a50a-4bb167712418\" xlink:actuate=\"onRequest\" xlink:href=\"psysml:cd2d9195-2d40-49eb-a50a-4bb167712418\" xlink:show=\"new\" xlink:title=\"psysml:cd2d9195-2d40-49eb-a50a-4bb167712418\" xlink:type=\"simple\"><path d=\"M132.59,99.96 C128.4,115.51 123.6,133.33 119.93,146.98 \" fill=\"none\" id=\"E5&lt;-E6\" style=\"stroke: #383838; stroke-width: 1.0;\"/><polygon fill=\"#FFFFFF\" points=\"136.06,87.06,130.641,91.8176,132.9484,98.6496,138.3674,93.892,136.06,87.06\" style=\"stroke: #383838; stroke-width: 1.0;\"/><text fill=\"#000000\" font-family=\"sans-serif\" font-size=\"13\" lengthAdjust=\"spacingAndGlyphs\" textLength=\"8\" x=\"112.4487\" y=\"135.8709\">1</text></a><!--MD5=[f667431f98296947986a1a7595a31603]\n",
       "link E6 to E4--><a href=\"psysml:9b4aa44d-c7fb-440f-8f9d-ccf8058f014a\" target=\"_top\" title=\"psysml:9b4aa44d-c7fb-440f-8f9d-ccf8058f014a\" xlink:actuate=\"onRequest\" xlink:href=\"psysml:9b4aa44d-c7fb-440f-8f9d-ccf8058f014a\" xlink:show=\"new\" xlink:title=\"psysml:9b4aa44d-c7fb-440f-8f9d-ccf8058f014a\" xlink:type=\"simple\"><path d=\"M133.3,193.06 C144.64,206.02 159.28,222.74 172.36,237.7 \" fill=\"none\" id=\"E6-&gt;E4\" style=\"stroke: #383838; stroke-width: 1.0;\"/><polygon fill=\"#FFFFFF\" points=\"185.73,252.98,167.9517,243.2882,178.489,234.0705,185.73,252.98\" style=\"stroke: #383838; stroke-width: 1.0;\"/><line style=\"stroke: #383838; stroke-width: 2.0;\" x1=\"165.4497\" x2=\"175.9871\" y1=\"240.4281\" y2=\"231.2104\"/></a><!--MD5=[14ccda38c055a5c0da953d572bc50960]\n",
       "link E7 to E3--><a href=\"psysml:22f6621f-c82b-45b4-aad5-95fd1a975c3d\" target=\"_top\" title=\"psysml:22f6621f-c82b-45b4-aad5-95fd1a975c3d\" xlink:actuate=\"onRequest\" xlink:href=\"psysml:22f6621f-c82b-45b4-aad5-95fd1a975c3d\" xlink:show=\"new\" xlink:title=\"psysml:22f6621f-c82b-45b4-aad5-95fd1a975c3d\" xlink:type=\"simple\"><path d=\"M82.11,82.64 C102.61,97.05 132.18,117.83 157.18,135.39 \" fill=\"none\" id=\"E7-&gt;E3\" style=\"stroke: #383838; stroke-width: 1.0;\"/><polygon fill=\"#FFFFFF\" points=\"173.58,146.92,154.011,141.7187,162.0629,130.266,173.58,146.92\" style=\"stroke: #383838; stroke-width: 1.0;\"/><ellipse cx=\"150.4983\" cy=\"136.8043\" fill=\"#383838\" rx=\"2\" ry=\"2\" style=\"stroke: #383838; stroke-width: 1.0;\"/><ellipse cx=\"156.2497\" cy=\"128.6238\" fill=\"#383838\" rx=\"2\" ry=\"2\" style=\"stroke: #383838; stroke-width: 1.0;\"/></a><!--MD5=[dc164f5e8a733ab456ef1add180e9e34]\n",
       "reverse link E7 to E8--><a href=\"psysml:22337106-f0e5-4c32-83fd-01b8d559ead1\" target=\"_top\" title=\"psysml:22337106-f0e5-4c32-83fd-01b8d559ead1\" xlink:actuate=\"onRequest\" xlink:href=\"psysml:22337106-f0e5-4c32-83fd-01b8d559ead1\" xlink:show=\"new\" xlink:title=\"psysml:22337106-f0e5-4c32-83fd-01b8d559ead1\" xlink:type=\"simple\"><path d=\"M52.05,100.09 C53.65,143.61 64.25,216.5 74.75,252.9 \" fill=\"none\" id=\"E7&lt;-E8\" style=\"stroke: #383838; stroke-width: 1.0;\"/><polygon fill=\"#FFFFFF\" points=\"51.85,87.08,47.9362,93.1366,52.0216,99.0788,55.9354,93.0222,51.85,87.08\" style=\"stroke: #383838; stroke-width: 1.0;\"/><text fill=\"#000000\" font-family=\"sans-serif\" font-size=\"13\" lengthAdjust=\"spacingAndGlyphs\" textLength=\"8\" x=\"62.6516\" y=\"241.7694\">1</text></a><!--MD5=[dc164f5e8a733ab456ef1add180e9e34]\n",
       "reverse link E7 to E8--><a href=\"psysml:3441a1bf-d119-4e2c-bd85-6011f03ceff2\" target=\"_top\" title=\"psysml:3441a1bf-d119-4e2c-bd85-6011f03ceff2\" xlink:actuate=\"onRequest\" xlink:href=\"psysml:3441a1bf-d119-4e2c-bd85-6011f03ceff2\" xlink:show=\"new\" xlink:title=\"psysml:3441a1bf-d119-4e2c-bd85-6011f03ceff2\" xlink:type=\"simple\"><path d=\"M72.64,101.8 C83.15,145.5 92.39,216.97 91.63,252.9 \" fill=\"none\" id=\"E7&lt;-E8-1\" style=\"stroke: #383838; stroke-width: 1.0; stroke-dasharray: 7.0,7.0;\"/><ellipse cx=\"70.7794\" cy=\"94.813\" fill=\"#FFFFFF\" rx=\"8\" ry=\"8\" style=\"stroke: #383838; stroke-width: 1.0;\"/><line style=\"stroke: #383838; stroke-width: 1.0;\" x1=\"72.8289\" x2=\"68.73\" y1=\"102.5461\" y2=\"87.08\"/><line style=\"stroke: #383838; stroke-width: 1.0;\" x1=\"63.0464\" x2=\"78.5125\" y1=\"96.8625\" y2=\"92.7636\"/><text fill=\"#000000\" font-family=\"sans-serif\" font-size=\"13\" lengthAdjust=\"spacingAndGlyphs\" textLength=\"8\" x=\"94.2181\" y=\"241.7694\">1</text></a><!--MD5=[0a839d0f80c2d72d4b9b307f046d0de8]\n",
       "link E6 to E8--><a href=\"psysml:e347aa3d-31a4-4502-9422-b0b7e8733c17\" target=\"_top\" title=\"psysml:e347aa3d-31a4-4502-9422-b0b7e8733c17\" xlink:actuate=\"onRequest\" xlink:href=\"psysml:e347aa3d-31a4-4502-9422-b0b7e8733c17\" xlink:show=\"new\" xlink:title=\"psysml:e347aa3d-31a4-4502-9422-b0b7e8733c17\" xlink:type=\"simple\"><path d=\"M97.42,193.06 C89.86,210.7 83.23,235.34 81.29,252.98 \" fill=\"none\" id=\"E6-E8\" style=\"stroke: #383838; stroke-width: 3.0;\"/><text fill=\"#000000\" font-family=\"sans-serif\" font-size=\"13\" lengthAdjust=\"spacingAndGlyphs\" textLength=\"7\" x=\"80.9648\" y=\"241.8709\">*</text></a><!--MD5=[0a839d0f80c2d72d4b9b307f046d0de8]\n",
       "link E6 to E8--><a href=\"psysml:6852a8da-427c-4993-bbf6-22174e5f8d33\" target=\"_top\" title=\"psysml:6852a8da-427c-4993-bbf6-22174e5f8d33\" xlink:actuate=\"onRequest\" xlink:href=\"psysml:6852a8da-427c-4993-bbf6-22174e5f8d33\" xlink:show=\"new\" xlink:title=\"psysml:6852a8da-427c-4993-bbf6-22174e5f8d33\" xlink:type=\"simple\"><path d=\"M119.33,193.06 C117.55,210.7 110.92,235.34 103.2,252.98 \" fill=\"none\" id=\"E6-E8-1\" style=\"stroke: #383838; stroke-width: 3.0;\"/><text fill=\"#000000\" font-family=\"sans-serif\" font-size=\"13\" lengthAdjust=\"spacingAndGlyphs\" textLength=\"7\" x=\"99.8819\" y=\"241.8709\">*</text></a><!--MD5=[4680f1334c11fcc68359efdcde80c08f]\n",
       "@startuml\r\n",
       "top to bottom direction\r\n",
       "skinparam monochrome true\r\n",
       "skinparam classbackgroundcolor white\r\n",
       "skinparam shadowing false\r\n",
       "skinparam wrapWidth 300\r\n",
       "hide circle\r\n",
       "\r\n",
       "package \"AliasTest\" as E1  [[psysml:5020e8e8-e597-4a8a-8c84-9076441471bb ]]  {\r\n",
       "comp usage \"b :> ISQSpaceTime::width\" as E2  <<(T,blue) attribute>> [[psysml:09023520-b272-4b76-a802-4be530536a95 ]] {\r\n",
       "}\r\n",
       "comp def \"P1\" as E3  <<(T,blue) part  def>> [[psysml:2d23ecbc-8f8b-40e5-8168-7a4eefd95afa ]] {\r\n",
       "}\r\n",
       "comp usage \"porig1 \" as E4  <<(T,blue) port>> [[psysml:371120a0-4800-4c08-b9c5-19a2f97c5f1a ]] {\r\n",
       "}\r\n",
       "comp usage \"p1: P1 \" as E5  <<(T,blue) part>> [[psysml:23efd2aa-8423-4d75-9f93-6567d973731c ]] {\r\n",
       "}\r\n",
       "comp usage \"po1 \" as E6  <<(T,blue) port>> [[psysml:a6a8a5d4-8051-439c-be85-1eee73d04018 ]] {\r\n",
       "}\r\n",
       "comp usage \"p2: P1 \" as E7  <<(T,blue) part>> [[psysml:32558afe-9574-460d-81c7-219976cfcf7f ]] {\r\n",
       "}\r\n",
       "comp usage \"pdest \" as E8  <<(T,blue) port>> [[psysml:9d4715a0-ecad-4cb9-af91-593b0378d847 ]] {\r\n",
       "}\r\n",
       "}\r\n",
       "E3 o- - \"1\"E4 [[psysml:77da464e-a07c-41d7-bf00-c994457c7429 ]] \r\n",
       "E3 +.. \"1\"E4 [[psysml:2fb80261-1acb-4246-9b34-6566336881f2 ]] \r\n",
       "E5 - -:|> E3 [[psysml:bae878c2-3025-4ed8-bae0-781c13e39aed ]] \r\n",
       "E5 o- - \"1\"E6 [[psysml:cd2d9195-2d40-49eb-a50a-4bb167712418 ]] \r\n",
       "E6 - -||> E4 [[psysml:9b4aa44d-c7fb-440f-8f9d-ccf8058f014a ]] \r\n",
       "E7 - -:|> E3 [[psysml:22f6621f-c82b-45b4-aad5-95fd1a975c3d ]] \r\n",
       "E7 o- - \"1\"E8 [[psysml:22337106-f0e5-4c32-83fd-01b8d559ead1 ]] \r\n",
       "E7 +.. \"1\"E8 [[psysml:3441a1bf-d119-4e2c-bd85-6011f03ceff2 ]] \r\n",
       "E6 -[thickness=3]- \"*\"E8 [[psysml:e347aa3d-31a4-4502-9422-b0b7e8733c17 ]] \r\n",
       "E6 -[thickness=3]- \"*\"E8 [[psysml:6852a8da-427c-4993-bbf6-22174e5f8d33 ]] \r\n",
       "@enduml\r\n",
       "\n",
       "PlantUML version 1.2020.13(Sat Jun 13 12:26:38 UTC 2020)\n",
       "(EPL source distribution)\n",
       "Java Runtime: OpenJDK Runtime Environment\n",
       "JVM: OpenJDK 64-Bit Server VM\n",
       "Default Encoding: UTF-8\n",
       "Language: en\n",
       "Country: null\n",
       "--></g></svg>"
      ]
     },
     "execution_count": 45,
     "metadata": {},
     "output_type": "execute_result"
    }
   ],
   "source": [
    "%viz --style=\"TB\" --view=\"Tree\" \"AliasTest\""
   ]
  },
  {
   "cell_type": "code",
   "execution_count": 46,
   "id": "8810265f",
   "metadata": {
    "execution": {
     "iopub.execute_input": "2022-04-22T09:51:34.172807Z",
     "iopub.status.busy": "2022-04-22T09:51:34.172412Z",
     "iopub.status.idle": "2022-04-22T09:51:34.175953Z",
     "shell.execute_reply": "2022-04-22T09:51:34.175607Z"
    }
   },
   "outputs": [
    {
     "data": {
      "image/svg+xml": [
       "<?xml version=\"1.0\" encoding=\"UTF-8\" standalone=\"no\"?><svg xmlns=\"http://www.w3.org/2000/svg\" xmlns:xlink=\"http://www.w3.org/1999/xlink\" contentScriptType=\"application/ecmascript\" contentStyleType=\"text/css\" height=\"12px\" preserveAspectRatio=\"none\" style=\"width:12px;height:12px;\" version=\"1.1\" viewBox=\"0 0 12 12\" width=\"12px\" zoomAndPan=\"magnify\"><defs/><g><!--MD5=[f4ee21bc66e489b5061b7c3e9601fdef]\n",
       "@startuml\r\n",
       "top to bottom direction\r\n",
       "skinparam monochrome true\r\n",
       "skinparam classbackgroundcolor white\r\n",
       "skinparam shadowing false\r\n",
       "skinparam wrapWidth 300\r\n",
       "hide circle\r\n",
       "\r\n",
       "@enduml\r\n",
       "\n",
       "PlantUML version 1.2020.13(Sat Jun 13 12:26:38 UTC 2020)\n",
       "(EPL source distribution)\n",
       "Java Runtime: OpenJDK Runtime Environment\n",
       "JVM: OpenJDK 64-Bit Server VM\n",
       "Default Encoding: UTF-8\n",
       "Language: en\n",
       "Country: null\n",
       "--></g></svg>"
      ]
     },
     "execution_count": 46,
     "metadata": {},
     "output_type": "execute_result"
    }
   ],
   "source": [
    "%viz --style=\"TB\" --view=\"State\" \"AliasTest\""
   ]
  },
  {
   "cell_type": "code",
   "execution_count": 47,
   "id": "508649be",
   "metadata": {
    "execution": {
     "iopub.execute_input": "2022-04-22T09:51:34.225775Z",
     "iopub.status.busy": "2022-04-22T09:51:34.225370Z",
     "iopub.status.idle": "2022-04-22T09:51:34.259110Z",
     "shell.execute_reply": "2022-04-22T09:51:34.257901Z"
    }
   },
   "outputs": [
    {
     "data": {
      "image/svg+xml": [
       "<?xml version=\"1.0\" encoding=\"UTF-8\" standalone=\"no\"?><svg xmlns=\"http://www.w3.org/2000/svg\" xmlns:xlink=\"http://www.w3.org/1999/xlink\" contentScriptType=\"application/ecmascript\" contentStyleType=\"text/css\" height=\"398px\" preserveAspectRatio=\"none\" style=\"width:370px;height:398px;\" version=\"1.1\" viewBox=\"0 0 370 398\" width=\"370px\" zoomAndPan=\"magnify\"><defs/><g><!--MD5=[fbc87193dbaf4d95561dea2c320d4a47]\n",
       "cluster E1--><a href=\"psysml:5020e8e8-e597-4a8a-8c84-9076441471bb\" target=\"_top\" title=\"psysml:5020e8e8-e597-4a8a-8c84-9076441471bb\" xlink:actuate=\"onRequest\" xlink:href=\"psysml:5020e8e8-e597-4a8a-8c84-9076441471bb\" xlink:show=\"new\" xlink:title=\"psysml:5020e8e8-e597-4a8a-8c84-9076441471bb\" xlink:type=\"simple\"><polygon fill=\"#FFFFFF\" points=\"16,6,84,6,91,28.2969,348,28.2969,348,386.36,16,386.36,16,6\" style=\"stroke: #000000; stroke-width: 1.5;\"/><line style=\"stroke: #000000; stroke-width: 1.5;\" x1=\"16\" x2=\"91\" y1=\"28.2969\" y2=\"28.2969\"/><text fill=\"#000000\" font-family=\"sans-serif\" font-size=\"14\" font-weight=\"bold\" lengthAdjust=\"spacingAndGlyphs\" textLength=\"62\" x=\"20\" y=\"20.9951\">AliasTest</text></a><!--MD5=[d5e69f78d87373223dbae638b30a9c99]\n",
       "cluster E3--><a href=\"psysml:2d23ecbc-8f8b-40e5-8168-7a4eefd95afa\" target=\"_top\" title=\"psysml:2d23ecbc-8f8b-40e5-8168-7a4eefd95afa\" xlink:actuate=\"onRequest\" xlink:href=\"psysml:2d23ecbc-8f8b-40e5-8168-7a4eefd95afa\" xlink:show=\"new\" xlink:title=\"psysml:2d23ecbc-8f8b-40e5-8168-7a4eefd95afa\" xlink:type=\"simple\"><rect fill=\"#FFFFFF\" height=\"124.5\" id=\"E3\" style=\"stroke: #383838; stroke-width: 1.5;\" width=\"144\" x=\"180\" y=\"237.86\"/><rect fill=\"#F8F8F8\" height=\"37.9375\" style=\"stroke: #383838; stroke-width: 1.5;\" width=\"144\" x=\"180\" y=\"237.86\"/><text fill=\"#000000\" font-family=\"sans-serif\" font-size=\"12\" font-style=\"italic\" lengthAdjust=\"spacingAndGlyphs\" textLength=\"68\" x=\"218\" y=\"253.9987\">«part  def»</text><text fill=\"#000000\" font-family=\"sans-serif\" font-size=\"12\" lengthAdjust=\"spacingAndGlyphs\" textLength=\"16\" x=\"244\" y=\"267.9674\">P1</text></a><!--MD5=[14e3b0961a2654348d326746436168a1]\n",
       "cluster E6--><a href=\"psysml:23efd2aa-8423-4d75-9f93-6567d973731c\" target=\"_top\" title=\"psysml:23efd2aa-8423-4d75-9f93-6567d973731c\" xlink:actuate=\"onRequest\" xlink:href=\"psysml:23efd2aa-8423-4d75-9f93-6567d973731c\" xlink:show=\"new\" xlink:title=\"psysml:23efd2aa-8423-4d75-9f93-6567d973731c\" xlink:type=\"simple\"><rect fill=\"#FFFFFF\" height=\"97.36\" id=\"E6\" rx=\"10\" ry=\"10\" style=\"stroke: #383838; stroke-width: 1.5;\" width=\"114\" x=\"210\" y=\"49\"/><rect fill=\"#F8F8F8\" height=\"23.9688\" rx=\"10\" ry=\"10\" style=\"stroke: #F8F8F8; stroke-width: 1.5;\" width=\"114\" x=\"210\" y=\"49\"/><rect fill=\"#F8F8F8\" height=\"10\" style=\"stroke: #F8F8F8; stroke-width: 1.5;\" width=\"114\" x=\"210\" y=\"62.9688\"/><rect fill=\"none\" height=\"97.36\" id=\"E6\" rx=\"10\" ry=\"10\" style=\"stroke: #383838; stroke-width: 1.5;\" width=\"114\" x=\"210\" y=\"49\"/><text fill=\"#000000\" font-family=\"sans-serif\" font-size=\"12\" lengthAdjust=\"spacingAndGlyphs\" textLength=\"40\" x=\"247\" y=\"65.1387\">p1: P1</text><line style=\"stroke: #383838; stroke-width: 1.0;\" x1=\"210\" x2=\"324\" y1=\"72.9688\" y2=\"72.9688\"/></a><!--MD5=[55dfccfc6c49c2d10cd1bd2211a6c90c]\n",
       "cluster E8--><a href=\"psysml:32558afe-9574-460d-81c7-219976cfcf7f\" target=\"_top\" title=\"psysml:32558afe-9574-460d-81c7-219976cfcf7f\" xlink:actuate=\"onRequest\" xlink:href=\"psysml:32558afe-9574-460d-81c7-219976cfcf7f\" xlink:show=\"new\" xlink:title=\"psysml:32558afe-9574-460d-81c7-219976cfcf7f\" xlink:type=\"simple\"><rect fill=\"#FFFFFF\" height=\"73\" id=\"E8\" rx=\"10\" ry=\"10\" style=\"stroke: #383838; stroke-width: 1.5;\" width=\"83\" x=\"81\" y=\"198.36\"/><rect fill=\"#F8F8F8\" height=\"23.9688\" rx=\"10\" ry=\"10\" style=\"stroke: #F8F8F8; stroke-width: 1.5;\" width=\"83\" x=\"81\" y=\"198.36\"/><rect fill=\"#F8F8F8\" height=\"10\" style=\"stroke: #F8F8F8; stroke-width: 1.5;\" width=\"83\" x=\"81\" y=\"212.3288\"/><rect fill=\"none\" height=\"73\" id=\"E8\" rx=\"10\" ry=\"10\" style=\"stroke: #383838; stroke-width: 1.5;\" width=\"83\" x=\"81\" y=\"198.36\"/><text fill=\"#000000\" font-family=\"sans-serif\" font-size=\"12\" lengthAdjust=\"spacingAndGlyphs\" textLength=\"40\" x=\"102.5\" y=\"214.4987\">p2: P1</text><line style=\"stroke: #383838; stroke-width: 1.0;\" x1=\"81\" x2=\"164\" y1=\"222.3288\" y2=\"222.3288\"/></a><!--MD5=[b4997ac47864f28c2f74865a473b2911]\n",
       "class E2--><a href=\"psysml:09023520-b272-4b76-a802-4be530536a95\" target=\"_top\" title=\"psysml:09023520-b272-4b76-a802-4be530536a95\" xlink:actuate=\"onRequest\" xlink:href=\"psysml:09023520-b272-4b76-a802-4be530536a95\" xlink:show=\"new\" xlink:title=\"psysml:09023520-b272-4b76-a802-4be530536a95\" xlink:type=\"simple\"><rect fill=\"#FFFFFF\" height=\"45.9375\" id=\"E2\" rx=\"10\" ry=\"10\" style=\"stroke: #383838; stroke-width: 1.5;\" width=\"165\" x=\"32.5\" y=\"59.5\"/><text fill=\"#000000\" font-family=\"sans-serif\" font-size=\"12\" font-style=\"italic\" lengthAdjust=\"spacingAndGlyphs\" textLength=\"69\" x=\"80.5\" y=\"75.6387\">«attribute»</text><text fill=\"#000000\" font-family=\"sans-serif\" font-size=\"12\" lengthAdjust=\"spacingAndGlyphs\" textLength=\"159\" x=\"35.5\" y=\"89.6074\">b :&gt; ISQSpaceTime::width</text><line style=\"stroke: #383838; stroke-width: 1.5;\" x1=\"33.5\" x2=\"196.5\" y1=\"97.4375\" y2=\"97.4375\"/></a><text fill=\"#000000\" font-family=\"sans-serif\" font-size=\"14\" lengthAdjust=\"spacingAndGlyphs\" textLength=\"44\" x=\"174\" y=\"216.5582\">porig1</text><rect fill=\"#383838\" height=\"12\" style=\"stroke: #F8F8F8; stroke-width: 1.5;\" width=\"12\" x=\"192\" y=\"231.86\"/><text fill=\"#000000\" font-family=\"sans-serif\" font-size=\"14\" lengthAdjust=\"spacingAndGlyphs\" textLength=\"44\" x=\"221\" y=\"216.5582\">porig1</text><rect fill=\"#383838\" height=\"12\" style=\"stroke: #F8F8F8; stroke-width: 1.5;\" width=\"12\" x=\"239\" y=\"231.86\"/><text fill=\"#000000\" font-family=\"sans-serif\" font-size=\"14\" lengthAdjust=\"spacingAndGlyphs\" textLength=\"27\" x=\"212.5\" y=\"165.3551\">po1</text><rect fill=\"#383838\" height=\"12\" style=\"stroke: #F8F8F8; stroke-width: 1.5;\" width=\"12\" x=\"222\" y=\"140.36\"/><text fill=\"#000000\" font-family=\"sans-serif\" font-size=\"14\" lengthAdjust=\"spacingAndGlyphs\" textLength=\"40\" x=\"77\" y=\"177.0582\">pdest</text><rect fill=\"#383838\" height=\"12\" style=\"stroke: #F8F8F8; stroke-width: 1.5;\" width=\"12\" x=\"93\" y=\"192.36\"/><text fill=\"#000000\" font-family=\"sans-serif\" font-size=\"14\" lengthAdjust=\"spacingAndGlyphs\" textLength=\"40\" x=\"124\" y=\"177.0582\">pdest</text><rect fill=\"#383838\" height=\"12\" style=\"stroke: #F8F8F8; stroke-width: 1.5;\" width=\"12\" x=\"140\" y=\"192.36\"/><!--MD5=[a717450b82c80b9240a525fa862496af]\n",
       "link E6 to E3--><a href=\"psysml:bae878c2-3025-4ed8-bae0-781c13e39aed\" target=\"_top\" title=\"psysml:bae878c2-3025-4ed8-bae0-781c13e39aed\" xlink:actuate=\"onRequest\" xlink:href=\"psysml:bae878c2-3025-4ed8-bae0-781c13e39aed\" xlink:show=\"new\" xlink:title=\"psysml:bae878c2-3025-4ed8-bae0-781c13e39aed\" xlink:type=\"simple\"><path d=\"M287,146.372 C287,146.4316 287,146.4946 287,146.5614 C287,146.6948 287,146.8432 287,147.0079 C287,147.3375 287,147.733 287,148.2077 C287,149.1569 287,150.4225 287,152.11 C287,158.86 287,172.36 287,199.36 C287,208.265 287.4169,215.6138 287.8598,222.1538 C287.8875,222.5625 287.9153,222.9681 287.9431,223.3707 C287.9501,223.4714 287.957,223.5718 287.964,223.6721 \" fill=\"none\" id=\"E6-&gt;E3\" style=\"stroke: #383838; stroke-width: 1.0;\"/><polygon fill=\"#FFFFFF\" points=\"287.964,223.6721,279.6675,205.2014,293.634,204.2337,287.964,223.6721\" style=\"stroke: #383838; stroke-width: 1.0;\"/><ellipse cx=\"281.2688\" cy=\"199.3768\" fill=\"#383838\" rx=\"2\" ry=\"2\" style=\"stroke: #383838; stroke-width: 1.0;\"/><ellipse cx=\"291.2448\" cy=\"198.6856\" fill=\"#383838\" rx=\"2\" ry=\"2\" style=\"stroke: #383838; stroke-width: 1.0;\"/></a><!--MD5=[95fa686b5a16158bcdbcaeead89f639b]\n",
       "link E8 to E3--><a href=\"psysml:22f6621f-c82b-45b4-aad5-95fd1a975c3d\" target=\"_top\" title=\"psysml:22f6621f-c82b-45b4-aad5-95fd1a975c3d\" xlink:actuate=\"onRequest\" xlink:href=\"psysml:22f6621f-c82b-45b4-aad5-95fd1a975c3d\" xlink:show=\"new\" xlink:title=\"psysml:22f6621f-c82b-45b4-aad5-95fd1a975c3d\" xlink:type=\"simple\"><path d=\"M161.6052,271.4143 C161.6848,271.4587 161.7644,271.5032 161.844,271.5476 C162.1624,271.7254 162.4807,271.903 162.799,272.0805 C163.4355,272.4354 164.0716,272.7896 164.7071,273.1429 C165.978,273.8495 167.2462,274.5525 168.5091,275.2502 C171.0347,276.6456 173.5388,278.02 176,279.36 C177.8425,280.3638 179.712,281.3764 181.6004,282.3941 C182.0725,282.6486 182.5457,282.9033 183.0201,283.1583 C183.2572,283.2858 183.4946,283.4134 183.7323,283.541 C183.7917,283.5729 183.8512,283.6048 183.9106,283.6368 \" fill=\"none\" id=\"E8-&gt;E3\" style=\"stroke: #383838; stroke-width: 1.0;\"/><polygon fill=\"#FFFFFF\" points=\"183.9106,283.6368,163.8594,280.8174,170.4813,268.4825,183.9106,283.6368\" style=\"stroke: #383838; stroke-width: 1.0;\"/><ellipse cx=\"159.7833\" cy=\"276.3592\" fill=\"#383838\" rx=\"2\" ry=\"2\" style=\"stroke: #383838; stroke-width: 1.0;\"/><ellipse cx=\"164.5132\" cy=\"267.5486\" fill=\"#383838\" rx=\"2\" ry=\"2\" style=\"stroke: #383838; stroke-width: 1.0;\"/></a><!--MD5=[1c0b9414cc86e0744215edee6abd8926]\n",
       "link E7 to E9--><a href=\"psysml:e347aa3d-31a4-4502-9422-b0b7e8733c17\" target=\"_top\" title=\"psysml:e347aa3d-31a4-4502-9422-b0b7e8733c17\" xlink:actuate=\"onRequest\" xlink:href=\"psysml:e347aa3d-31a4-4502-9422-b0b7e8733c17\" xlink:show=\"new\" xlink:title=\"psysml:e347aa3d-31a4-4502-9422-b0b7e8733c17\" xlink:type=\"simple\"><path d=\"M221.76,147.53 C198.85,148.59 143.6,155.09 105,176.36 C94.77,182 85.43,193.07 92.97,196.39 \" fill=\"none\" id=\"E7-E9\" style=\"stroke: #383838; stroke-width: 3.0;\"/><text fill=\"#000000\" font-family=\"sans-serif\" font-size=\"13\" lengthAdjust=\"spacingAndGlyphs\" textLength=\"7\" x=\"78.1078\" y=\"185.6989\">*</text></a><!--MD5=[1c0b9414cc86e0744215edee6abd8926]\n",
       "link E7 to E9--><a href=\"psysml:6852a8da-427c-4993-bbf6-22174e5f8d33\" target=\"_top\" title=\"psysml:6852a8da-427c-4993-bbf6-22174e5f8d33\" xlink:actuate=\"onRequest\" xlink:href=\"psysml:6852a8da-427c-4993-bbf6-22174e5f8d33\" xlink:show=\"new\" xlink:title=\"psysml:6852a8da-427c-4993-bbf6-22174e5f8d33\" xlink:type=\"simple\"><path d=\"M221.9,149.8 C204.95,153.24 168.07,160.89 140,176.36 C129.3,182.26 119.57,194.11 105.05,196.81 \" fill=\"none\" id=\"E7-E9-1\" style=\"stroke: #383838; stroke-width: 3.0;\"/><text fill=\"#000000\" font-family=\"sans-serif\" font-size=\"13\" lengthAdjust=\"spacingAndGlyphs\" textLength=\"7\" x=\"112.9288\" y=\"186.4654\">*</text></a><!--MD5=[7a6b5a1c655d3f9e9b2e0cf2c73d713e]\n",
       "@startuml\r\n",
       "skinparam ranksep 10\r\n",
       "skinparam rectangle {\r\n",
       " backgroundColor<<block>> LightGreen\r\n",
       "}\r\n",
       "top to bottom direction\r\n",
       "skinparam monochrome true\r\n",
       "skinparam classbackgroundcolor white\r\n",
       "skinparam shadowing false\r\n",
       "skinparam wrapWidth 300\r\n",
       "hide circle\r\n",
       "\r\n",
       "package \"AliasTest\" as E1  [[psysml:5020e8e8-e597-4a8a-8c84-9076441471bb ]]  {\r\n",
       "comp usage \"b :> ISQSpaceTime::width\" as E2  <<(T,blue) attribute>> [[psysml:09023520-b272-4b76-a802-4be530536a95 ]] {\r\n",
       "}\r\n",
       "rec def \"P1\" as E3  <<(T,blue) part  def>> [[psysml:2d23ecbc-8f8b-40e5-8168-7a4eefd95afa ]] {\r\n",
       "portin \"porig1 \" as E4  <<(T,blue) port>> [[psysml:371120a0-4800-4c08-b9c5-19a2f97c5f1a ]] \r\n",
       "portin \"porig1 \" as E5  <<(T,blue) port>> [[psysml:371120a0-4800-4c08-b9c5-19a2f97c5f1a ]] \r\n",
       "}\r\n",
       "rec usage \"p1: P1\" as E6  [[psysml:23efd2aa-8423-4d75-9f93-6567d973731c ]] {\r\n",
       "portout \"po1 \" as E7  <<(T,blue) port>> [[psysml:a6a8a5d4-8051-439c-be85-1eee73d04018 ]] \r\n",
       "}\r\n",
       "rec usage \"p2: P1\" as E8  [[psysml:32558afe-9574-460d-81c7-219976cfcf7f ]] {\r\n",
       "portin \"pdest \" as E9  <<(T,blue) port>> [[psysml:9d4715a0-ecad-4cb9-af91-593b0378d847 ]] \r\n",
       "portin \"pdest \" as E10  <<(T,blue) port>> [[psysml:9d4715a0-ecad-4cb9-af91-593b0378d847 ]] \r\n",
       "}\r\n",
       "}\r\n",
       "E6 - -:|> E3 [[psysml:bae878c2-3025-4ed8-bae0-781c13e39aed ]] \r\n",
       "E8 - -:|> E3 [[psysml:22f6621f-c82b-45b4-aad5-95fd1a975c3d ]] \r\n",
       "E7 -[thickness=3]- \"*\"E9 [[psysml:e347aa3d-31a4-4502-9422-b0b7e8733c17 ]] \r\n",
       "E7 -[thickness=3]- \"*\"E9 [[psysml:6852a8da-427c-4993-bbf6-22174e5f8d33 ]] \r\n",
       "@enduml\r\n",
       "\n",
       "PlantUML version 1.2020.13(Sat Jun 13 12:26:38 UTC 2020)\n",
       "(EPL source distribution)\n",
       "Java Runtime: OpenJDK Runtime Environment\n",
       "JVM: OpenJDK 64-Bit Server VM\n",
       "Default Encoding: UTF-8\n",
       "Language: en\n",
       "Country: null\n",
       "--></g></svg>"
      ]
     },
     "execution_count": 47,
     "metadata": {},
     "output_type": "execute_result"
    }
   ],
   "source": [
    "%viz --style=\"TB\" --view=\"Interconnection\" \"AliasTest\""
   ]
  },
  {
   "cell_type": "code",
   "execution_count": 48,
   "id": "7f6d522b",
   "metadata": {
    "execution": {
     "iopub.execute_input": "2022-04-22T09:51:34.308691Z",
     "iopub.status.busy": "2022-04-22T09:51:34.308300Z",
     "iopub.status.idle": "2022-04-22T09:51:34.313010Z",
     "shell.execute_reply": "2022-04-22T09:51:34.313315Z"
    }
   },
   "outputs": [
    {
     "data": {
      "image/svg+xml": [
       "<?xml version=\"1.0\" encoding=\"UTF-8\" standalone=\"no\"?><svg xmlns=\"http://www.w3.org/2000/svg\" xmlns:xlink=\"http://www.w3.org/1999/xlink\" contentScriptType=\"application/ecmascript\" contentStyleType=\"text/css\" height=\"12px\" preserveAspectRatio=\"none\" style=\"width:12px;height:12px;\" version=\"1.1\" viewBox=\"0 0 12 12\" width=\"12px\" zoomAndPan=\"magnify\"><defs/><g><!--MD5=[06afc254b03ac5e9d9fb7773b07d0800]\n",
       "@startuml\r\n",
       "skinparam ranksep 8\r\n",
       "top to bottom direction\r\n",
       "skinparam monochrome true\r\n",
       "skinparam classbackgroundcolor white\r\n",
       "skinparam shadowing false\r\n",
       "skinparam wrapWidth 300\r\n",
       "hide circle\r\n",
       "\r\n",
       "@enduml\r\n",
       "\n",
       "PlantUML version 1.2020.13(Sat Jun 13 12:26:38 UTC 2020)\n",
       "(EPL source distribution)\n",
       "Java Runtime: OpenJDK Runtime Environment\n",
       "JVM: OpenJDK 64-Bit Server VM\n",
       "Default Encoding: UTF-8\n",
       "Language: en\n",
       "Country: null\n",
       "--></g></svg>"
      ]
     },
     "execution_count": 48,
     "metadata": {},
     "output_type": "execute_result"
    }
   ],
   "source": [
    "%viz --style=\"TB\" --view=\"Action\" \"AliasTest\""
   ]
  },
  {
   "cell_type": "code",
   "execution_count": 49,
   "id": "7a37de87",
   "metadata": {
    "execution": {
     "iopub.execute_input": "2022-04-22T09:51:34.363447Z",
     "iopub.status.busy": "2022-04-22T09:51:34.363054Z",
     "iopub.status.idle": "2022-04-22T09:51:34.368459Z",
     "shell.execute_reply": "2022-04-22T09:51:34.368743Z"
    }
   },
   "outputs": [
    {
     "data": {
      "image/svg+xml": [
       "<?xml version=\"1.0\" encoding=\"UTF-8\" standalone=\"no\"?><svg xmlns=\"http://www.w3.org/2000/svg\" xmlns:xlink=\"http://www.w3.org/1999/xlink\" contentScriptType=\"application/ecmascript\" contentStyleType=\"text/css\" height=\"12px\" preserveAspectRatio=\"none\" style=\"width:12px;height:12px;\" version=\"1.1\" viewBox=\"0 0 12 12\" width=\"12px\" zoomAndPan=\"magnify\"><defs/><g><!--MD5=[e1ab0c84c44d2fef8bf5f140f2689906]\n",
       "@startuml\r\n",
       "skinparam roundcorner 20\r\n",
       "skinparam BoxPadding 20\r\n",
       "skinparam SequenceBoxBackgroundColor #white\r\n",
       "skinparam style strictuml\r\n",
       "skinparam maxMessageSize 100\r\n",
       "top to bottom direction\r\n",
       "skinparam monochrome true\r\n",
       "skinparam classbackgroundcolor white\r\n",
       "skinparam shadowing false\r\n",
       "skinparam wrapWidth 300\r\n",
       "hide circle\r\n",
       "\r\n",
       "@enduml\r\n",
       "\n",
       "PlantUML version 1.2020.13(Sat Jun 13 12:26:38 UTC 2020)\n",
       "(EPL source distribution)\n",
       "Java Runtime: OpenJDK Runtime Environment\n",
       "JVM: OpenJDK 64-Bit Server VM\n",
       "Default Encoding: UTF-8\n",
       "Language: en\n",
       "Country: null\n",
       "--></g></svg>"
      ]
     },
     "execution_count": 49,
     "metadata": {},
     "output_type": "execute_result"
    }
   ],
   "source": [
    "%viz --style=\"TB\" --view=\"Sequence\" \"AliasTest\""
   ]
  },
  {
   "cell_type": "code",
   "execution_count": 50,
   "id": "dd14df11",
   "metadata": {
    "execution": {
     "iopub.execute_input": "2022-04-22T09:51:34.418723Z",
     "iopub.status.busy": "2022-04-22T09:51:34.418334Z",
     "iopub.status.idle": "2022-04-22T09:51:34.446961Z",
     "shell.execute_reply": "2022-04-22T09:51:34.445537Z"
    }
   },
   "outputs": [
    {
     "data": {
      "image/svg+xml": [
       "<?xml version=\"1.0\" encoding=\"UTF-8\" standalone=\"no\"?><svg xmlns=\"http://www.w3.org/2000/svg\" xmlns:xlink=\"http://www.w3.org/1999/xlink\" contentScriptType=\"application/ecmascript\" contentStyleType=\"text/css\" height=\"327px\" preserveAspectRatio=\"none\" style=\"width:406px;height:327px;\" version=\"1.1\" viewBox=\"0 0 406 327\" width=\"406px\" zoomAndPan=\"magnify\"><defs/><g><!--MD5=[fbc87193dbaf4d95561dea2c320d4a47]\n",
       "cluster E1--><a href=\"psysml:5020e8e8-e597-4a8a-8c84-9076441471bb\" target=\"_top\" title=\"psysml:5020e8e8-e597-4a8a-8c84-9076441471bb\" xlink:actuate=\"onRequest\" xlink:href=\"psysml:5020e8e8-e597-4a8a-8c84-9076441471bb\" xlink:show=\"new\" xlink:title=\"psysml:5020e8e8-e597-4a8a-8c84-9076441471bb\" xlink:type=\"simple\"><polygon fill=\"#FFFFFF\" points=\"16,6,84,6,91,28.2969,384,28.2969,384,315,16,315,16,6\" style=\"stroke: #000000; stroke-width: 1.5;\"/><line style=\"stroke: #000000; stroke-width: 1.5;\" x1=\"16\" x2=\"91\" y1=\"28.2969\" y2=\"28.2969\"/><text fill=\"#000000\" font-family=\"sans-serif\" font-size=\"14\" font-weight=\"bold\" lengthAdjust=\"spacingAndGlyphs\" textLength=\"62\" x=\"20\" y=\"20.9951\">AliasTest</text></a><!--MD5=[b4997ac47864f28c2f74865a473b2911]\n",
       "class E2--><a href=\"psysml:09023520-b272-4b76-a802-4be530536a95\" target=\"_top\" title=\"psysml:09023520-b272-4b76-a802-4be530536a95\" xlink:actuate=\"onRequest\" xlink:href=\"psysml:09023520-b272-4b76-a802-4be530536a95\" xlink:show=\"new\" xlink:title=\"psysml:09023520-b272-4b76-a802-4be530536a95\" xlink:type=\"simple\"><rect fill=\"#FFFFFF\" height=\"45.9375\" id=\"E2\" rx=\"10\" ry=\"10\" style=\"stroke: #383838; stroke-width: 1.5;\" width=\"165\" x=\"202.5\" y=\"41\"/><text fill=\"#000000\" font-family=\"sans-serif\" font-size=\"12\" font-style=\"italic\" lengthAdjust=\"spacingAndGlyphs\" textLength=\"69\" x=\"250.5\" y=\"57.1387\">«attribute»</text><text fill=\"#000000\" font-family=\"sans-serif\" font-size=\"12\" lengthAdjust=\"spacingAndGlyphs\" textLength=\"159\" x=\"205.5\" y=\"71.1074\">b :&gt; ISQSpaceTime::width</text><line style=\"stroke: #383838; stroke-width: 1.5;\" x1=\"203.5\" x2=\"366.5\" y1=\"78.9375\" y2=\"78.9375\"/></a><!--MD5=[09b614a08d8cba4a07c9adeb5e0fee81]\n",
       "class E3--><a href=\"psysml:2d23ecbc-8f8b-40e5-8168-7a4eefd95afa\" target=\"_top\" title=\"psysml:2d23ecbc-8f8b-40e5-8168-7a4eefd95afa\" xlink:actuate=\"onRequest\" xlink:href=\"psysml:2d23ecbc-8f8b-40e5-8168-7a4eefd95afa\" xlink:show=\"new\" xlink:title=\"psysml:2d23ecbc-8f8b-40e5-8168-7a4eefd95afa\" xlink:type=\"simple\"><rect fill=\"#FFFFFF\" height=\"45.9375\" id=\"E3\" style=\"stroke: #383838; stroke-width: 1.5;\" width=\"70\" x=\"170\" y=\"147\"/><text fill=\"#000000\" font-family=\"sans-serif\" font-size=\"12\" font-style=\"italic\" lengthAdjust=\"spacingAndGlyphs\" textLength=\"68\" x=\"171\" y=\"163.1387\">«part  def»</text><text fill=\"#000000\" font-family=\"sans-serif\" font-size=\"12\" lengthAdjust=\"spacingAndGlyphs\" textLength=\"16\" x=\"197\" y=\"177.1074\">P1</text><line style=\"stroke: #383838; stroke-width: 1.5;\" x1=\"171\" x2=\"239\" y1=\"184.9375\" y2=\"184.9375\"/></a><!--MD5=[ebbe1d658d1005bcc118a6aa81145e00]\n",
       "class E4--><a href=\"psysml:371120a0-4800-4c08-b9c5-19a2f97c5f1a\" target=\"_top\" title=\"psysml:371120a0-4800-4c08-b9c5-19a2f97c5f1a\" xlink:actuate=\"onRequest\" xlink:href=\"psysml:371120a0-4800-4c08-b9c5-19a2f97c5f1a\" xlink:show=\"new\" xlink:title=\"psysml:371120a0-4800-4c08-b9c5-19a2f97c5f1a\" xlink:type=\"simple\"><rect fill=\"#FFFFFF\" height=\"45.9375\" id=\"E4\" rx=\"10\" ry=\"10\" style=\"stroke: #383838; stroke-width: 1.5;\" width=\"50\" x=\"180\" y=\"253\"/><text fill=\"#000000\" font-family=\"sans-serif\" font-size=\"12\" font-style=\"italic\" lengthAdjust=\"spacingAndGlyphs\" textLength=\"40\" x=\"185\" y=\"269.1387\">«port»</text><text fill=\"#000000\" font-family=\"sans-serif\" font-size=\"12\" lengthAdjust=\"spacingAndGlyphs\" textLength=\"40\" x=\"183\" y=\"283.1074\">porig1</text><line style=\"stroke: #383838; stroke-width: 1.5;\" x1=\"181\" x2=\"229\" y1=\"290.9375\" y2=\"290.9375\"/></a><!--MD5=[270fce915f116d4de14055a7c1d9a0f3]\n",
       "class E5--><a href=\"psysml:23efd2aa-8423-4d75-9f93-6567d973731c\" target=\"_top\" title=\"psysml:23efd2aa-8423-4d75-9f93-6567d973731c\" xlink:actuate=\"onRequest\" xlink:href=\"psysml:23efd2aa-8423-4d75-9f93-6567d973731c\" xlink:show=\"new\" xlink:title=\"psysml:23efd2aa-8423-4d75-9f93-6567d973731c\" xlink:type=\"simple\"><rect fill=\"#FFFFFF\" height=\"45.9375\" id=\"E5\" rx=\"10\" ry=\"10\" style=\"stroke: #383838; stroke-width: 1.5;\" width=\"50\" x=\"117\" y=\"41\"/><text fill=\"#000000\" font-family=\"sans-serif\" font-size=\"12\" font-style=\"italic\" lengthAdjust=\"spacingAndGlyphs\" textLength=\"40\" x=\"122\" y=\"57.1387\">«part»</text><text fill=\"#000000\" font-family=\"sans-serif\" font-size=\"12\" lengthAdjust=\"spacingAndGlyphs\" textLength=\"40\" x=\"120\" y=\"71.1074\">p1: P1</text><line style=\"stroke: #383838; stroke-width: 1.5;\" x1=\"118\" x2=\"166\" y1=\"78.9375\" y2=\"78.9375\"/></a><!--MD5=[60a26617385b1d2d0262a64233df1f8d]\n",
       "class E6--><a href=\"psysml:a6a8a5d4-8051-439c-be85-1eee73d04018\" target=\"_top\" title=\"psysml:a6a8a5d4-8051-439c-be85-1eee73d04018\" xlink:actuate=\"onRequest\" xlink:href=\"psysml:a6a8a5d4-8051-439c-be85-1eee73d04018\" xlink:show=\"new\" xlink:title=\"psysml:a6a8a5d4-8051-439c-be85-1eee73d04018\" xlink:type=\"simple\"><rect fill=\"#FFFFFF\" height=\"45.9375\" id=\"E6\" rx=\"10\" ry=\"10\" style=\"stroke: #383838; stroke-width: 1.5;\" width=\"42\" x=\"93\" y=\"147\"/><text fill=\"#000000\" font-family=\"sans-serif\" font-size=\"12\" font-style=\"italic\" lengthAdjust=\"spacingAndGlyphs\" textLength=\"40\" x=\"94\" y=\"163.1387\">«port»</text><text fill=\"#000000\" font-family=\"sans-serif\" font-size=\"12\" lengthAdjust=\"spacingAndGlyphs\" textLength=\"24\" x=\"100\" y=\"177.1074\">po1</text><line style=\"stroke: #383838; stroke-width: 1.5;\" x1=\"94\" x2=\"134\" y1=\"184.9375\" y2=\"184.9375\"/></a><!--MD5=[2156ba9850f5573cc1fc38a6a4b2f02b]\n",
       "class E7--><a href=\"psysml:32558afe-9574-460d-81c7-219976cfcf7f\" target=\"_top\" title=\"psysml:32558afe-9574-460d-81c7-219976cfcf7f\" xlink:actuate=\"onRequest\" xlink:href=\"psysml:32558afe-9574-460d-81c7-219976cfcf7f\" xlink:show=\"new\" xlink:title=\"psysml:32558afe-9574-460d-81c7-219976cfcf7f\" xlink:type=\"simple\"><rect fill=\"#FFFFFF\" height=\"45.9375\" id=\"E7\" rx=\"10\" ry=\"10\" style=\"stroke: #383838; stroke-width: 1.5;\" width=\"50\" x=\"32\" y=\"41\"/><text fill=\"#000000\" font-family=\"sans-serif\" font-size=\"12\" font-style=\"italic\" lengthAdjust=\"spacingAndGlyphs\" textLength=\"40\" x=\"37\" y=\"57.1387\">«part»</text><text fill=\"#000000\" font-family=\"sans-serif\" font-size=\"12\" lengthAdjust=\"spacingAndGlyphs\" textLength=\"40\" x=\"35\" y=\"71.1074\">p2: P1</text><line style=\"stroke: #383838; stroke-width: 1.5;\" x1=\"33\" x2=\"81\" y1=\"78.9375\" y2=\"78.9375\"/></a><!--MD5=[b9389687b975829384b498ac4b7476b2]\n",
       "class E8--><a href=\"psysml:9d4715a0-ecad-4cb9-af91-593b0378d847\" target=\"_top\" title=\"psysml:9d4715a0-ecad-4cb9-af91-593b0378d847\" xlink:actuate=\"onRequest\" xlink:href=\"psysml:9d4715a0-ecad-4cb9-af91-593b0378d847\" xlink:show=\"new\" xlink:title=\"psysml:9d4715a0-ecad-4cb9-af91-593b0378d847\" xlink:type=\"simple\"><rect fill=\"#FFFFFF\" height=\"45.9375\" id=\"E8\" rx=\"10\" ry=\"10\" style=\"stroke: #383838; stroke-width: 1.5;\" width=\"46\" x=\"63\" y=\"253\"/><text fill=\"#000000\" font-family=\"sans-serif\" font-size=\"12\" font-style=\"italic\" lengthAdjust=\"spacingAndGlyphs\" textLength=\"40\" x=\"66\" y=\"269.1387\">«port»</text><text fill=\"#000000\" font-family=\"sans-serif\" font-size=\"12\" lengthAdjust=\"spacingAndGlyphs\" textLength=\"36\" x=\"66\" y=\"283.1074\">pdest</text><line style=\"stroke: #383838; stroke-width: 1.5;\" x1=\"64\" x2=\"108\" y1=\"290.9375\" y2=\"290.9375\"/></a><!--MD5=[4672eba38e49728da53d11aeb285b987]\n",
       "reverse link E3 to E4--><a href=\"psysml:77da464e-a07c-41d7-bf00-c994457c7429\" target=\"_top\" title=\"psysml:77da464e-a07c-41d7-bf00-c994457c7429\" xlink:actuate=\"onRequest\" xlink:href=\"psysml:77da464e-a07c-41d7-bf00-c994457c7429\" xlink:show=\"new\" xlink:title=\"psysml:77da464e-a07c-41d7-bf00-c994457c7429\" xlink:type=\"simple\"><path d=\"M192.84,206.44 C191.7,221.87 192.21,239.47 194.36,252.98 \" fill=\"none\" id=\"E3&lt;-E4\" style=\"stroke: #383838; stroke-width: 1.0;\"/><polygon fill=\"#FFFFFF\" points=\"194.35,193.06,189.7032,198.5743,193.006,204.9845,197.6528,199.4702,194.35,193.06\" style=\"stroke: #383838; stroke-width: 1.0;\"/><text fill=\"#000000\" font-family=\"sans-serif\" font-size=\"13\" lengthAdjust=\"spacingAndGlyphs\" textLength=\"8\" x=\"182.4255\" y=\"241.8709\">1</text></a><!--MD5=[4672eba38e49728da53d11aeb285b987]\n",
       "reverse link E3 to E4--><a href=\"psysml:2fb80261-1acb-4246-9b34-6566336881f2\" target=\"_top\" title=\"psysml:2fb80261-1acb-4246-9b34-6566336881f2\" xlink:actuate=\"onRequest\" xlink:href=\"psysml:2fb80261-1acb-4246-9b34-6566336881f2\" xlink:show=\"new\" xlink:title=\"psysml:2fb80261-1acb-4246-9b34-6566336881f2\" xlink:type=\"simple\"><path d=\"M218.01,208.34 C219.03,223.3 218.45,240.02 216.27,252.98 \" fill=\"none\" id=\"E3&lt;-E4-1\" style=\"stroke: #383838; stroke-width: 1.0; stroke-dasharray: 7.0,7.0;\"/><ellipse cx=\"217.1693\" cy=\"201.0093\" fill=\"#FFFFFF\" rx=\"8\" ry=\"8\" style=\"stroke: #383838; stroke-width: 1.0;\"/><line style=\"stroke: #383838; stroke-width: 1.0;\" x1=\"218.0687\" x2=\"216.27\" y1=\"208.9586\" y2=\"193.06\"/><line style=\"stroke: #383838; stroke-width: 1.0;\" x1=\"209.2201\" x2=\"225.1186\" y1=\"201.9086\" y2=\"200.1099\"/><text fill=\"#000000\" font-family=\"sans-serif\" font-size=\"13\" lengthAdjust=\"spacingAndGlyphs\" textLength=\"8\" x=\"210.2238\" y=\"241.8709\">1</text></a><!--MD5=[e9be52314489bd878ff4c7144b63c9e1]\n",
       "link E5 to E3--><a href=\"psysml:bae878c2-3025-4ed8-bae0-781c13e39aed\" target=\"_top\" title=\"psysml:bae878c2-3025-4ed8-bae0-781c13e39aed\" xlink:actuate=\"onRequest\" xlink:href=\"psysml:bae878c2-3025-4ed8-bae0-781c13e39aed\" xlink:show=\"new\" xlink:title=\"psysml:bae878c2-3025-4ed8-bae0-781c13e39aed\" xlink:type=\"simple\"><path d=\"M155.36,87.06 C162.88,99.47 172.49,115.33 181.24,129.78 \" fill=\"none\" id=\"E5-&gt;E3\" style=\"stroke: #383838; stroke-width: 1.0;\"/><polygon fill=\"#FFFFFF\" points=\"191.66,146.98,175.8217,134.3646,187.792,127.1044,191.66,146.98\" style=\"stroke: #383838; stroke-width: 1.0;\"/><ellipse cx=\"174.5758\" cy=\"128.4538\" fill=\"#383838\" rx=\"2\" ry=\"2\" style=\"stroke: #383838; stroke-width: 1.0;\"/><ellipse cx=\"183.126\" cy=\"123.2679\" fill=\"#383838\" rx=\"2\" ry=\"2\" style=\"stroke: #383838; stroke-width: 1.0;\"/></a><!--MD5=[85d356282659285ab4b2cfe2f634dd2b]\n",
       "reverse link E5 to E6--><a href=\"psysml:cd2d9195-2d40-49eb-a50a-4bb167712418\" target=\"_top\" title=\"psysml:cd2d9195-2d40-49eb-a50a-4bb167712418\" xlink:actuate=\"onRequest\" xlink:href=\"psysml:cd2d9195-2d40-49eb-a50a-4bb167712418\" xlink:show=\"new\" xlink:title=\"psysml:cd2d9195-2d40-49eb-a50a-4bb167712418\" xlink:type=\"simple\"><path d=\"M132.59,99.96 C128.4,115.51 123.6,133.33 119.93,146.98 \" fill=\"none\" id=\"E5&lt;-E6\" style=\"stroke: #383838; stroke-width: 1.0;\"/><polygon fill=\"#FFFFFF\" points=\"136.06,87.06,130.641,91.8176,132.9484,98.6496,138.3674,93.892,136.06,87.06\" style=\"stroke: #383838; stroke-width: 1.0;\"/><text fill=\"#000000\" font-family=\"sans-serif\" font-size=\"13\" lengthAdjust=\"spacingAndGlyphs\" textLength=\"8\" x=\"112.4487\" y=\"135.8709\">1</text></a><!--MD5=[f667431f98296947986a1a7595a31603]\n",
       "link E6 to E4--><a href=\"psysml:9b4aa44d-c7fb-440f-8f9d-ccf8058f014a\" target=\"_top\" title=\"psysml:9b4aa44d-c7fb-440f-8f9d-ccf8058f014a\" xlink:actuate=\"onRequest\" xlink:href=\"psysml:9b4aa44d-c7fb-440f-8f9d-ccf8058f014a\" xlink:show=\"new\" xlink:title=\"psysml:9b4aa44d-c7fb-440f-8f9d-ccf8058f014a\" xlink:type=\"simple\"><path d=\"M133.3,193.06 C144.64,206.02 159.28,222.74 172.36,237.7 \" fill=\"none\" id=\"E6-&gt;E4\" style=\"stroke: #383838; stroke-width: 1.0;\"/><polygon fill=\"#FFFFFF\" points=\"185.73,252.98,167.9517,243.2882,178.489,234.0705,185.73,252.98\" style=\"stroke: #383838; stroke-width: 1.0;\"/><line style=\"stroke: #383838; stroke-width: 2.0;\" x1=\"165.4497\" x2=\"175.9871\" y1=\"240.4281\" y2=\"231.2104\"/></a><!--MD5=[14ccda38c055a5c0da953d572bc50960]\n",
       "link E7 to E3--><a href=\"psysml:22f6621f-c82b-45b4-aad5-95fd1a975c3d\" target=\"_top\" title=\"psysml:22f6621f-c82b-45b4-aad5-95fd1a975c3d\" xlink:actuate=\"onRequest\" xlink:href=\"psysml:22f6621f-c82b-45b4-aad5-95fd1a975c3d\" xlink:show=\"new\" xlink:title=\"psysml:22f6621f-c82b-45b4-aad5-95fd1a975c3d\" xlink:type=\"simple\"><path d=\"M82.11,82.64 C102.61,97.05 132.18,117.83 157.18,135.39 \" fill=\"none\" id=\"E7-&gt;E3\" style=\"stroke: #383838; stroke-width: 1.0;\"/><polygon fill=\"#FFFFFF\" points=\"173.58,146.92,154.011,141.7187,162.0629,130.266,173.58,146.92\" style=\"stroke: #383838; stroke-width: 1.0;\"/><ellipse cx=\"150.4983\" cy=\"136.8043\" fill=\"#383838\" rx=\"2\" ry=\"2\" style=\"stroke: #383838; stroke-width: 1.0;\"/><ellipse cx=\"156.2497\" cy=\"128.6238\" fill=\"#383838\" rx=\"2\" ry=\"2\" style=\"stroke: #383838; stroke-width: 1.0;\"/></a><!--MD5=[dc164f5e8a733ab456ef1add180e9e34]\n",
       "reverse link E7 to E8--><a href=\"psysml:22337106-f0e5-4c32-83fd-01b8d559ead1\" target=\"_top\" title=\"psysml:22337106-f0e5-4c32-83fd-01b8d559ead1\" xlink:actuate=\"onRequest\" xlink:href=\"psysml:22337106-f0e5-4c32-83fd-01b8d559ead1\" xlink:show=\"new\" xlink:title=\"psysml:22337106-f0e5-4c32-83fd-01b8d559ead1\" xlink:type=\"simple\"><path d=\"M52.05,100.09 C53.65,143.61 64.25,216.5 74.75,252.9 \" fill=\"none\" id=\"E7&lt;-E8\" style=\"stroke: #383838; stroke-width: 1.0;\"/><polygon fill=\"#FFFFFF\" points=\"51.85,87.08,47.9362,93.1366,52.0216,99.0788,55.9354,93.0222,51.85,87.08\" style=\"stroke: #383838; stroke-width: 1.0;\"/><text fill=\"#000000\" font-family=\"sans-serif\" font-size=\"13\" lengthAdjust=\"spacingAndGlyphs\" textLength=\"8\" x=\"62.6516\" y=\"241.7694\">1</text></a><!--MD5=[dc164f5e8a733ab456ef1add180e9e34]\n",
       "reverse link E7 to E8--><a href=\"psysml:3441a1bf-d119-4e2c-bd85-6011f03ceff2\" target=\"_top\" title=\"psysml:3441a1bf-d119-4e2c-bd85-6011f03ceff2\" xlink:actuate=\"onRequest\" xlink:href=\"psysml:3441a1bf-d119-4e2c-bd85-6011f03ceff2\" xlink:show=\"new\" xlink:title=\"psysml:3441a1bf-d119-4e2c-bd85-6011f03ceff2\" xlink:type=\"simple\"><path d=\"M72.64,101.8 C83.15,145.5 92.39,216.97 91.63,252.9 \" fill=\"none\" id=\"E7&lt;-E8-1\" style=\"stroke: #383838; stroke-width: 1.0; stroke-dasharray: 7.0,7.0;\"/><ellipse cx=\"70.7794\" cy=\"94.813\" fill=\"#FFFFFF\" rx=\"8\" ry=\"8\" style=\"stroke: #383838; stroke-width: 1.0;\"/><line style=\"stroke: #383838; stroke-width: 1.0;\" x1=\"72.8289\" x2=\"68.73\" y1=\"102.5461\" y2=\"87.08\"/><line style=\"stroke: #383838; stroke-width: 1.0;\" x1=\"63.0464\" x2=\"78.5125\" y1=\"96.8625\" y2=\"92.7636\"/><text fill=\"#000000\" font-family=\"sans-serif\" font-size=\"13\" lengthAdjust=\"spacingAndGlyphs\" textLength=\"8\" x=\"94.2181\" y=\"241.7694\">1</text></a><!--MD5=[0a839d0f80c2d72d4b9b307f046d0de8]\n",
       "link E6 to E8--><a href=\"psysml:e347aa3d-31a4-4502-9422-b0b7e8733c17\" target=\"_top\" title=\"psysml:e347aa3d-31a4-4502-9422-b0b7e8733c17\" xlink:actuate=\"onRequest\" xlink:href=\"psysml:e347aa3d-31a4-4502-9422-b0b7e8733c17\" xlink:show=\"new\" xlink:title=\"psysml:e347aa3d-31a4-4502-9422-b0b7e8733c17\" xlink:type=\"simple\"><path d=\"M97.42,193.06 C89.86,210.7 83.23,235.34 81.29,252.98 \" fill=\"none\" id=\"E6-E8\" style=\"stroke: #383838; stroke-width: 3.0;\"/><text fill=\"#000000\" font-family=\"sans-serif\" font-size=\"13\" lengthAdjust=\"spacingAndGlyphs\" textLength=\"7\" x=\"80.9648\" y=\"241.8709\">*</text></a><!--MD5=[0a839d0f80c2d72d4b9b307f046d0de8]\n",
       "link E6 to E8--><a href=\"psysml:6852a8da-427c-4993-bbf6-22174e5f8d33\" target=\"_top\" title=\"psysml:6852a8da-427c-4993-bbf6-22174e5f8d33\" xlink:actuate=\"onRequest\" xlink:href=\"psysml:6852a8da-427c-4993-bbf6-22174e5f8d33\" xlink:show=\"new\" xlink:title=\"psysml:6852a8da-427c-4993-bbf6-22174e5f8d33\" xlink:type=\"simple\"><path d=\"M119.33,193.06 C117.55,210.7 110.92,235.34 103.2,252.98 \" fill=\"none\" id=\"E6-E8-1\" style=\"stroke: #383838; stroke-width: 3.0;\"/><text fill=\"#000000\" font-family=\"sans-serif\" font-size=\"13\" lengthAdjust=\"spacingAndGlyphs\" textLength=\"7\" x=\"99.8819\" y=\"241.8709\">*</text></a><!--MD5=[4680f1334c11fcc68359efdcde80c08f]\n",
       "@startuml\r\n",
       "top to bottom direction\r\n",
       "skinparam monochrome true\r\n",
       "skinparam classbackgroundcolor white\r\n",
       "skinparam shadowing false\r\n",
       "skinparam wrapWidth 300\r\n",
       "hide circle\r\n",
       "\r\n",
       "package \"AliasTest\" as E1  [[psysml:5020e8e8-e597-4a8a-8c84-9076441471bb ]]  {\r\n",
       "comp usage \"b :> ISQSpaceTime::width\" as E2  <<(T,blue) attribute>> [[psysml:09023520-b272-4b76-a802-4be530536a95 ]] {\r\n",
       "}\r\n",
       "comp def \"P1\" as E3  <<(T,blue) part  def>> [[psysml:2d23ecbc-8f8b-40e5-8168-7a4eefd95afa ]] {\r\n",
       "}\r\n",
       "comp usage \"porig1 \" as E4  <<(T,blue) port>> [[psysml:371120a0-4800-4c08-b9c5-19a2f97c5f1a ]] {\r\n",
       "}\r\n",
       "comp usage \"p1: P1 \" as E5  <<(T,blue) part>> [[psysml:23efd2aa-8423-4d75-9f93-6567d973731c ]] {\r\n",
       "}\r\n",
       "comp usage \"po1 \" as E6  <<(T,blue) port>> [[psysml:a6a8a5d4-8051-439c-be85-1eee73d04018 ]] {\r\n",
       "}\r\n",
       "comp usage \"p2: P1 \" as E7  <<(T,blue) part>> [[psysml:32558afe-9574-460d-81c7-219976cfcf7f ]] {\r\n",
       "}\r\n",
       "comp usage \"pdest \" as E8  <<(T,blue) port>> [[psysml:9d4715a0-ecad-4cb9-af91-593b0378d847 ]] {\r\n",
       "}\r\n",
       "}\r\n",
       "E3 o- - \"1\"E4 [[psysml:77da464e-a07c-41d7-bf00-c994457c7429 ]] \r\n",
       "E3 +.. \"1\"E4 [[psysml:2fb80261-1acb-4246-9b34-6566336881f2 ]] \r\n",
       "E5 - -:|> E3 [[psysml:bae878c2-3025-4ed8-bae0-781c13e39aed ]] \r\n",
       "E5 o- - \"1\"E6 [[psysml:cd2d9195-2d40-49eb-a50a-4bb167712418 ]] \r\n",
       "E6 - -||> E4 [[psysml:9b4aa44d-c7fb-440f-8f9d-ccf8058f014a ]] \r\n",
       "E7 - -:|> E3 [[psysml:22f6621f-c82b-45b4-aad5-95fd1a975c3d ]] \r\n",
       "E7 o- - \"1\"E8 [[psysml:22337106-f0e5-4c32-83fd-01b8d559ead1 ]] \r\n",
       "E7 +.. \"1\"E8 [[psysml:3441a1bf-d119-4e2c-bd85-6011f03ceff2 ]] \r\n",
       "E6 -[thickness=3]- \"*\"E8 [[psysml:e347aa3d-31a4-4502-9422-b0b7e8733c17 ]] \r\n",
       "E6 -[thickness=3]- \"*\"E8 [[psysml:6852a8da-427c-4993-bbf6-22174e5f8d33 ]] \r\n",
       "@enduml\r\n",
       "\n",
       "PlantUML version 1.2020.13(Sat Jun 13 12:26:38 UTC 2020)\n",
       "(EPL source distribution)\n",
       "Java Runtime: OpenJDK Runtime Environment\n",
       "JVM: OpenJDK 64-Bit Server VM\n",
       "Default Encoding: UTF-8\n",
       "Language: en\n",
       "Country: null\n",
       "--></g></svg>"
      ]
     },
     "execution_count": 50,
     "metadata": {},
     "output_type": "execute_result"
    }
   ],
   "source": [
    "%viz --style=\"TB\" --view=\"MIXED\" \"AliasTest\""
   ]
  },
  {
   "cell_type": "code",
   "execution_count": 51,
   "id": "bd464f33",
   "metadata": {
    "execution": {
     "iopub.execute_input": "2022-04-22T09:51:34.496141Z",
     "iopub.status.busy": "2022-04-22T09:51:34.495749Z",
     "iopub.status.idle": "2022-04-22T09:51:34.528237Z",
     "shell.execute_reply": "2022-04-22T09:51:34.526948Z"
    }
   },
   "outputs": [
    {
     "data": {
      "image/svg+xml": [
       "<?xml version=\"1.0\" encoding=\"UTF-8\" standalone=\"no\"?><svg xmlns=\"http://www.w3.org/2000/svg\" xmlns:xlink=\"http://www.w3.org/1999/xlink\" contentScriptType=\"application/ecmascript\" contentStyleType=\"text/css\" height=\"327px\" preserveAspectRatio=\"none\" style=\"width:406px;height:327px;\" version=\"1.1\" viewBox=\"0 0 406 327\" width=\"406px\" zoomAndPan=\"magnify\"><defs/><g><!--MD5=[fbc87193dbaf4d95561dea2c320d4a47]\n",
       "cluster E1--><a href=\"psysml:5020e8e8-e597-4a8a-8c84-9076441471bb\" target=\"_top\" title=\"psysml:5020e8e8-e597-4a8a-8c84-9076441471bb\" xlink:actuate=\"onRequest\" xlink:href=\"psysml:5020e8e8-e597-4a8a-8c84-9076441471bb\" xlink:show=\"new\" xlink:title=\"psysml:5020e8e8-e597-4a8a-8c84-9076441471bb\" xlink:type=\"simple\"><polygon fill=\"#FFFFFF\" points=\"16,6,84,6,91,28.2969,384,28.2969,384,315,16,315,16,6\" style=\"stroke: #000000; stroke-width: 1.5;\"/><line style=\"stroke: #000000; stroke-width: 1.5;\" x1=\"16\" x2=\"91\" y1=\"28.2969\" y2=\"28.2969\"/><text fill=\"#000000\" font-family=\"sans-serif\" font-size=\"14\" font-weight=\"bold\" lengthAdjust=\"spacingAndGlyphs\" textLength=\"62\" x=\"20\" y=\"20.9951\">AliasTest</text></a><!--MD5=[b4997ac47864f28c2f74865a473b2911]\n",
       "class E2--><a href=\"psysml:09023520-b272-4b76-a802-4be530536a95\" target=\"_top\" title=\"psysml:09023520-b272-4b76-a802-4be530536a95\" xlink:actuate=\"onRequest\" xlink:href=\"psysml:09023520-b272-4b76-a802-4be530536a95\" xlink:show=\"new\" xlink:title=\"psysml:09023520-b272-4b76-a802-4be530536a95\" xlink:type=\"simple\"><rect fill=\"#FFFFFF\" height=\"45.9375\" id=\"E2\" rx=\"10\" ry=\"10\" style=\"stroke: #383838; stroke-width: 1.5;\" width=\"165\" x=\"202.5\" y=\"41\"/><text fill=\"#000000\" font-family=\"sans-serif\" font-size=\"12\" font-style=\"italic\" lengthAdjust=\"spacingAndGlyphs\" textLength=\"69\" x=\"250.5\" y=\"57.1387\">«attribute»</text><text fill=\"#000000\" font-family=\"sans-serif\" font-size=\"12\" lengthAdjust=\"spacingAndGlyphs\" textLength=\"159\" x=\"205.5\" y=\"71.1074\">b :&gt; ISQSpaceTime::width</text><line style=\"stroke: #383838; stroke-width: 1.5;\" x1=\"203.5\" x2=\"366.5\" y1=\"78.9375\" y2=\"78.9375\"/></a><!--MD5=[09b614a08d8cba4a07c9adeb5e0fee81]\n",
       "class E3--><a href=\"psysml:2d23ecbc-8f8b-40e5-8168-7a4eefd95afa\" target=\"_top\" title=\"psysml:2d23ecbc-8f8b-40e5-8168-7a4eefd95afa\" xlink:actuate=\"onRequest\" xlink:href=\"psysml:2d23ecbc-8f8b-40e5-8168-7a4eefd95afa\" xlink:show=\"new\" xlink:title=\"psysml:2d23ecbc-8f8b-40e5-8168-7a4eefd95afa\" xlink:type=\"simple\"><rect fill=\"#FFFFFF\" height=\"45.9375\" id=\"E3\" style=\"stroke: #383838; stroke-width: 1.5;\" width=\"70\" x=\"170\" y=\"147\"/><text fill=\"#000000\" font-family=\"sans-serif\" font-size=\"12\" font-style=\"italic\" lengthAdjust=\"spacingAndGlyphs\" textLength=\"68\" x=\"171\" y=\"163.1387\">«part  def»</text><text fill=\"#000000\" font-family=\"sans-serif\" font-size=\"12\" lengthAdjust=\"spacingAndGlyphs\" textLength=\"16\" x=\"197\" y=\"177.1074\">P1</text><line style=\"stroke: #383838; stroke-width: 1.5;\" x1=\"171\" x2=\"239\" y1=\"184.9375\" y2=\"184.9375\"/></a><!--MD5=[ebbe1d658d1005bcc118a6aa81145e00]\n",
       "class E4--><a href=\"psysml:371120a0-4800-4c08-b9c5-19a2f97c5f1a\" target=\"_top\" title=\"psysml:371120a0-4800-4c08-b9c5-19a2f97c5f1a\" xlink:actuate=\"onRequest\" xlink:href=\"psysml:371120a0-4800-4c08-b9c5-19a2f97c5f1a\" xlink:show=\"new\" xlink:title=\"psysml:371120a0-4800-4c08-b9c5-19a2f97c5f1a\" xlink:type=\"simple\"><rect fill=\"#FFFFFF\" height=\"45.9375\" id=\"E4\" rx=\"10\" ry=\"10\" style=\"stroke: #383838; stroke-width: 1.5;\" width=\"50\" x=\"180\" y=\"253\"/><text fill=\"#000000\" font-family=\"sans-serif\" font-size=\"12\" font-style=\"italic\" lengthAdjust=\"spacingAndGlyphs\" textLength=\"40\" x=\"185\" y=\"269.1387\">«port»</text><text fill=\"#000000\" font-family=\"sans-serif\" font-size=\"12\" lengthAdjust=\"spacingAndGlyphs\" textLength=\"40\" x=\"183\" y=\"283.1074\">porig1</text><line style=\"stroke: #383838; stroke-width: 1.5;\" x1=\"181\" x2=\"229\" y1=\"290.9375\" y2=\"290.9375\"/></a><!--MD5=[270fce915f116d4de14055a7c1d9a0f3]\n",
       "class E5--><a href=\"psysml:23efd2aa-8423-4d75-9f93-6567d973731c\" target=\"_top\" title=\"psysml:23efd2aa-8423-4d75-9f93-6567d973731c\" xlink:actuate=\"onRequest\" xlink:href=\"psysml:23efd2aa-8423-4d75-9f93-6567d973731c\" xlink:show=\"new\" xlink:title=\"psysml:23efd2aa-8423-4d75-9f93-6567d973731c\" xlink:type=\"simple\"><rect fill=\"#FFFFFF\" height=\"45.9375\" id=\"E5\" rx=\"10\" ry=\"10\" style=\"stroke: #383838; stroke-width: 1.5;\" width=\"50\" x=\"117\" y=\"41\"/><text fill=\"#000000\" font-family=\"sans-serif\" font-size=\"12\" font-style=\"italic\" lengthAdjust=\"spacingAndGlyphs\" textLength=\"40\" x=\"122\" y=\"57.1387\">«part»</text><text fill=\"#000000\" font-family=\"sans-serif\" font-size=\"12\" lengthAdjust=\"spacingAndGlyphs\" textLength=\"40\" x=\"120\" y=\"71.1074\">p1: P1</text><line style=\"stroke: #383838; stroke-width: 1.5;\" x1=\"118\" x2=\"166\" y1=\"78.9375\" y2=\"78.9375\"/></a><!--MD5=[60a26617385b1d2d0262a64233df1f8d]\n",
       "class E6--><a href=\"psysml:a6a8a5d4-8051-439c-be85-1eee73d04018\" target=\"_top\" title=\"psysml:a6a8a5d4-8051-439c-be85-1eee73d04018\" xlink:actuate=\"onRequest\" xlink:href=\"psysml:a6a8a5d4-8051-439c-be85-1eee73d04018\" xlink:show=\"new\" xlink:title=\"psysml:a6a8a5d4-8051-439c-be85-1eee73d04018\" xlink:type=\"simple\"><rect fill=\"#FFFFFF\" height=\"45.9375\" id=\"E6\" rx=\"10\" ry=\"10\" style=\"stroke: #383838; stroke-width: 1.5;\" width=\"42\" x=\"93\" y=\"147\"/><text fill=\"#000000\" font-family=\"sans-serif\" font-size=\"12\" font-style=\"italic\" lengthAdjust=\"spacingAndGlyphs\" textLength=\"40\" x=\"94\" y=\"163.1387\">«port»</text><text fill=\"#000000\" font-family=\"sans-serif\" font-size=\"12\" lengthAdjust=\"spacingAndGlyphs\" textLength=\"24\" x=\"100\" y=\"177.1074\">po1</text><line style=\"stroke: #383838; stroke-width: 1.5;\" x1=\"94\" x2=\"134\" y1=\"184.9375\" y2=\"184.9375\"/></a><!--MD5=[2156ba9850f5573cc1fc38a6a4b2f02b]\n",
       "class E7--><a href=\"psysml:32558afe-9574-460d-81c7-219976cfcf7f\" target=\"_top\" title=\"psysml:32558afe-9574-460d-81c7-219976cfcf7f\" xlink:actuate=\"onRequest\" xlink:href=\"psysml:32558afe-9574-460d-81c7-219976cfcf7f\" xlink:show=\"new\" xlink:title=\"psysml:32558afe-9574-460d-81c7-219976cfcf7f\" xlink:type=\"simple\"><rect fill=\"#FFFFFF\" height=\"45.9375\" id=\"E7\" rx=\"10\" ry=\"10\" style=\"stroke: #383838; stroke-width: 1.5;\" width=\"50\" x=\"32\" y=\"41\"/><text fill=\"#000000\" font-family=\"sans-serif\" font-size=\"12\" font-style=\"italic\" lengthAdjust=\"spacingAndGlyphs\" textLength=\"40\" x=\"37\" y=\"57.1387\">«part»</text><text fill=\"#000000\" font-family=\"sans-serif\" font-size=\"12\" lengthAdjust=\"spacingAndGlyphs\" textLength=\"40\" x=\"35\" y=\"71.1074\">p2: P1</text><line style=\"stroke: #383838; stroke-width: 1.5;\" x1=\"33\" x2=\"81\" y1=\"78.9375\" y2=\"78.9375\"/></a><!--MD5=[b9389687b975829384b498ac4b7476b2]\n",
       "class E8--><a href=\"psysml:9d4715a0-ecad-4cb9-af91-593b0378d847\" target=\"_top\" title=\"psysml:9d4715a0-ecad-4cb9-af91-593b0378d847\" xlink:actuate=\"onRequest\" xlink:href=\"psysml:9d4715a0-ecad-4cb9-af91-593b0378d847\" xlink:show=\"new\" xlink:title=\"psysml:9d4715a0-ecad-4cb9-af91-593b0378d847\" xlink:type=\"simple\"><rect fill=\"#FFFFFF\" height=\"45.9375\" id=\"E8\" rx=\"10\" ry=\"10\" style=\"stroke: #383838; stroke-width: 1.5;\" width=\"46\" x=\"63\" y=\"253\"/><text fill=\"#000000\" font-family=\"sans-serif\" font-size=\"12\" font-style=\"italic\" lengthAdjust=\"spacingAndGlyphs\" textLength=\"40\" x=\"66\" y=\"269.1387\">«port»</text><text fill=\"#000000\" font-family=\"sans-serif\" font-size=\"12\" lengthAdjust=\"spacingAndGlyphs\" textLength=\"36\" x=\"66\" y=\"283.1074\">pdest</text><line style=\"stroke: #383838; stroke-width: 1.5;\" x1=\"64\" x2=\"108\" y1=\"290.9375\" y2=\"290.9375\"/></a><!--MD5=[4672eba38e49728da53d11aeb285b987]\n",
       "reverse link E3 to E4--><a href=\"psysml:77da464e-a07c-41d7-bf00-c994457c7429\" target=\"_top\" title=\"psysml:77da464e-a07c-41d7-bf00-c994457c7429\" xlink:actuate=\"onRequest\" xlink:href=\"psysml:77da464e-a07c-41d7-bf00-c994457c7429\" xlink:show=\"new\" xlink:title=\"psysml:77da464e-a07c-41d7-bf00-c994457c7429\" xlink:type=\"simple\"><path d=\"M196.67,206 C196.67,206 196.67,252.68 196.67,252.68 \" fill=\"none\" id=\"E3&lt;-E4\" style=\"stroke: #383838; stroke-width: 1.0;\"/><polygon fill=\"#FFFFFF\" points=\"196.67,193,192.67,199,196.67,205,200.67,199,196.67,193\" style=\"stroke: #383838; stroke-width: 1.0;\"/><text fill=\"#000000\" font-family=\"sans-serif\" font-size=\"13\" lengthAdjust=\"spacingAndGlyphs\" textLength=\"8\" x=\"185.5104\" y=\"241.8743\">1</text></a><!--MD5=[4672eba38e49728da53d11aeb285b987]\n",
       "reverse link E3 to E4--><a href=\"psysml:2fb80261-1acb-4246-9b34-6566336881f2\" target=\"_top\" title=\"psysml:2fb80261-1acb-4246-9b34-6566336881f2\" xlink:actuate=\"onRequest\" xlink:href=\"psysml:2fb80261-1acb-4246-9b34-6566336881f2\" xlink:show=\"new\" xlink:title=\"psysml:2fb80261-1acb-4246-9b34-6566336881f2\" xlink:type=\"simple\"><path d=\"M213.33,208 C213.33,208 213.33,252.68 213.33,252.68 \" fill=\"none\" id=\"E3&lt;-E4-1\" style=\"stroke: #383838; stroke-width: 1.0; stroke-dasharray: 7.0,7.0;\"/><ellipse cx=\"213.33\" cy=\"201\" fill=\"#FFFFFF\" rx=\"8\" ry=\"8\" style=\"stroke: #383838; stroke-width: 1.0;\"/><line style=\"stroke: #383838; stroke-width: 1.0;\" x1=\"213.33\" x2=\"213.33\" y1=\"209\" y2=\"193\"/><line style=\"stroke: #383838; stroke-width: 1.0;\" x1=\"205.33\" x2=\"221.33\" y1=\"201\" y2=\"201\"/><text fill=\"#000000\" font-family=\"sans-serif\" font-size=\"13\" lengthAdjust=\"spacingAndGlyphs\" textLength=\"8\" x=\"206.4396\" y=\"241.8743\">1</text></a><!--MD5=[e9be52314489bd878ff4c7144b63c9e1]\n",
       "link E5 to E3--><a href=\"psysml:bae878c2-3025-4ed8-bae0-781c13e39aed\" target=\"_top\" title=\"psysml:bae878c2-3025-4ed8-bae0-781c13e39aed\" xlink:actuate=\"onRequest\" xlink:href=\"psysml:bae878c2-3025-4ed8-bae0-781c13e39aed\" xlink:show=\"new\" xlink:title=\"psysml:bae878c2-3025-4ed8-bae0-781c13e39aed\" xlink:type=\"simple\"><path d=\"M151,87 C151,118.18 151,170 151,170 C151,170 152.89,170 152.89,170 \" fill=\"none\" id=\"E5-&gt;E3\" style=\"stroke: #383838; stroke-width: 1.0;\"/><polygon fill=\"#FFFFFF\" points=\"169.89,170,150.89,177,150.89,163,169.89,170\" style=\"stroke: #383838; stroke-width: 1.0;\"/><ellipse cx=\"145.19\" cy=\"175\" fill=\"#383838\" rx=\"2\" ry=\"2\" style=\"stroke: #383838; stroke-width: 1.0;\"/><ellipse cx=\"145.19\" cy=\"165\" fill=\"#383838\" rx=\"2\" ry=\"2\" style=\"stroke: #383838; stroke-width: 1.0;\"/></a><!--MD5=[85d356282659285ab4b2cfe2f634dd2b]\n",
       "reverse link E5 to E6--><a href=\"psysml:cd2d9195-2d40-49eb-a50a-4bb167712418\" target=\"_top\" title=\"psysml:cd2d9195-2d40-49eb-a50a-4bb167712418\" xlink:actuate=\"onRequest\" xlink:href=\"psysml:cd2d9195-2d40-49eb-a50a-4bb167712418\" xlink:show=\"new\" xlink:title=\"psysml:cd2d9195-2d40-49eb-a50a-4bb167712418\" xlink:type=\"simple\"><path d=\"M126,100 C126,100 126,146.68 126,146.68 \" fill=\"none\" id=\"E5&lt;-E6\" style=\"stroke: #383838; stroke-width: 1.0;\"/><polygon fill=\"#FFFFFF\" points=\"126,87,122,93,126,99,130,93,126,87\" style=\"stroke: #383838; stroke-width: 1.0;\"/><text fill=\"#000000\" font-family=\"sans-serif\" font-size=\"13\" lengthAdjust=\"spacingAndGlyphs\" textLength=\"8\" x=\"120.05\" y=\"135.8743\">1</text></a><!--MD5=[f667431f98296947986a1a7595a31603]\n",
       "link E6 to E4--><a href=\"psysml:9b4aa44d-c7fb-440f-8f9d-ccf8058f014a\" target=\"_top\" title=\"psysml:9b4aa44d-c7fb-440f-8f9d-ccf8058f014a\" xlink:actuate=\"onRequest\" xlink:href=\"psysml:9b4aa44d-c7fb-440f-8f9d-ccf8058f014a\" xlink:show=\"new\" xlink:title=\"psysml:9b4aa44d-c7fb-440f-8f9d-ccf8058f014a\" xlink:type=\"simple\"><path d=\"M122,193 C122,224.18 122,276 122,276 C122,276 159.65,276 159.65,276 \" fill=\"none\" id=\"E6-&gt;E4\" style=\"stroke: #383838; stroke-width: 1.0;\"/><polygon fill=\"#FFFFFF\" points=\"179.65,276,160.65,283,160.65,269,179.65,276\" style=\"stroke: #383838; stroke-width: 1.0;\"/><line style=\"stroke: #383838; stroke-width: 2.0;\" x1=\"156.85\" x2=\"156.85\" y1=\"283\" y2=\"269\"/></a><!--MD5=[14ccda38c055a5c0da953d572bc50960]\n",
       "link E7 to E3--><a href=\"psysml:22f6621f-c82b-45b4-aad5-95fd1a975c3d\" target=\"_top\" title=\"psysml:22f6621f-c82b-45b4-aad5-95fd1a975c3d\" xlink:actuate=\"onRequest\" xlink:href=\"psysml:22f6621f-c82b-45b4-aad5-95fd1a975c3d\" xlink:show=\"new\" xlink:title=\"psysml:22f6621f-c82b-45b4-aad5-95fd1a975c3d\" xlink:type=\"simple\"><path d=\"M77.25,87.09 C77.25,101.37 77.25,117 77.25,117 C77.25,117 186.25,117 186.25,117 C186.25,117 186.25,126.91 186.25,126.91 \" fill=\"none\" id=\"E7-&gt;E3\" style=\"stroke: #383838; stroke-width: 1.0;\"/><polygon fill=\"#FFFFFF\" points=\"186.25,146.91,179.25,127.91,193.25,127.91,186.25,146.91\" style=\"stroke: #383838; stroke-width: 1.0;\"/><ellipse cx=\"181.25\" cy=\"122.21\" fill=\"#383838\" rx=\"2\" ry=\"2\" style=\"stroke: #383838; stroke-width: 1.0;\"/><ellipse cx=\"191.25\" cy=\"122.21\" fill=\"#383838\" rx=\"2\" ry=\"2\" style=\"stroke: #383838; stroke-width: 1.0;\"/></a><!--MD5=[dc164f5e8a733ab456ef1add180e9e34]\n",
       "reverse link E7 to E8--><a href=\"psysml:22337106-f0e5-4c32-83fd-01b8d559ead1\" target=\"_top\" title=\"psysml:22337106-f0e5-4c32-83fd-01b8d559ead1\" xlink:actuate=\"onRequest\" xlink:href=\"psysml:22337106-f0e5-4c32-83fd-01b8d559ead1\" xlink:show=\"new\" xlink:title=\"psysml:22337106-f0e5-4c32-83fd-01b8d559ead1\" xlink:type=\"simple\"><path d=\"M67.75,100.09 C67.75,100.09 67.75,252.94 67.75,252.94 \" fill=\"none\" id=\"E7&lt;-E8\" style=\"stroke: #383838; stroke-width: 1.0;\"/><polygon fill=\"#FFFFFF\" points=\"67.75,87.09,63.75,93.09,67.75,99.09,71.75,93.09,67.75,87.09\" style=\"stroke: #383838; stroke-width: 1.0;\"/><text fill=\"#000000\" font-family=\"sans-serif\" font-size=\"13\" lengthAdjust=\"spacingAndGlyphs\" textLength=\"8\" x=\"53.7703\" y=\"241.8201\">1</text></a><!--MD5=[dc164f5e8a733ab456ef1add180e9e34]\n",
       "reverse link E7 to E8--><a href=\"psysml:3441a1bf-d119-4e2c-bd85-6011f03ceff2\" target=\"_top\" title=\"psysml:3441a1bf-d119-4e2c-bd85-6011f03ceff2\" xlink:actuate=\"onRequest\" xlink:href=\"psysml:3441a1bf-d119-4e2c-bd85-6011f03ceff2\" xlink:show=\"new\" xlink:title=\"psysml:3441a1bf-d119-4e2c-bd85-6011f03ceff2\" xlink:type=\"simple\"><path d=\"M72.5,102.09 C72.5,102.09 72.5,252.94 72.5,252.94 \" fill=\"none\" id=\"E7&lt;-E8-1\" style=\"stroke: #383838; stroke-width: 1.0; stroke-dasharray: 7.0,7.0;\"/><ellipse cx=\"72.5\" cy=\"95.09\" fill=\"#FFFFFF\" rx=\"8\" ry=\"8\" style=\"stroke: #383838; stroke-width: 1.0;\"/><line style=\"stroke: #383838; stroke-width: 1.0;\" x1=\"72.5\" x2=\"72.5\" y1=\"103.09\" y2=\"87.09\"/><line style=\"stroke: #383838; stroke-width: 1.0;\" x1=\"64.5\" x2=\"80.5\" y1=\"95.09\" y2=\"95.09\"/><text fill=\"#000000\" font-family=\"sans-serif\" font-size=\"13\" lengthAdjust=\"spacingAndGlyphs\" textLength=\"8\" x=\"69.9469\" y=\"241.8201\">1</text></a><!--MD5=[0a839d0f80c2d72d4b9b307f046d0de8]\n",
       "link E6 to E8--><a href=\"psysml:e347aa3d-31a4-4502-9422-b0b7e8733c17\" target=\"_top\" title=\"psysml:e347aa3d-31a4-4502-9422-b0b7e8733c17\" xlink:actuate=\"onRequest\" xlink:href=\"psysml:e347aa3d-31a4-4502-9422-b0b7e8733c17\" xlink:show=\"new\" xlink:title=\"psysml:e347aa3d-31a4-4502-9422-b0b7e8733c17\" xlink:type=\"simple\"><path d=\"M98.33,193 C98.33,210.66 98.33,234.94 98.33,252.68 \" fill=\"none\" id=\"E6-E8\" style=\"stroke: #383838; stroke-width: 3.0;\"/><text fill=\"#000000\" font-family=\"sans-serif\" font-size=\"13\" lengthAdjust=\"spacingAndGlyphs\" textLength=\"7\" x=\"93.5927\" y=\"241.8743\">*</text></a><!--MD5=[0a839d0f80c2d72d4b9b307f046d0de8]\n",
       "link E6 to E8--><a href=\"psysml:6852a8da-427c-4993-bbf6-22174e5f8d33\" target=\"_top\" title=\"psysml:6852a8da-427c-4993-bbf6-22174e5f8d33\" xlink:actuate=\"onRequest\" xlink:href=\"psysml:6852a8da-427c-4993-bbf6-22174e5f8d33\" xlink:show=\"new\" xlink:title=\"psysml:6852a8da-427c-4993-bbf6-22174e5f8d33\" xlink:type=\"simple\"><path d=\"M103.67,193 C103.67,210.66 103.67,234.94 103.67,252.68 \" fill=\"none\" id=\"E6-E8-1\" style=\"stroke: #383838; stroke-width: 3.0;\"/><text fill=\"#000000\" font-family=\"sans-serif\" font-size=\"13\" lengthAdjust=\"spacingAndGlyphs\" textLength=\"7\" x=\"109.0948\" y=\"241.8743\">*</text></a><!--MD5=[90c2ce07dd036cc91d22b3679eb62ac1]\n",
       "@startuml\r\n",
       "skinparam linetype ortho\r\n",
       "skinparam monochrome true\r\n",
       "skinparam classbackgroundcolor white\r\n",
       "skinparam shadowing false\r\n",
       "skinparam wrapWidth 300\r\n",
       "hide circle\r\n",
       "\r\n",
       "package \"AliasTest\" as E1  [[psysml:5020e8e8-e597-4a8a-8c84-9076441471bb ]]  {\r\n",
       "comp usage \"b :> ISQSpaceTime::width\" as E2  <<(T,blue) attribute>> [[psysml:09023520-b272-4b76-a802-4be530536a95 ]] {\r\n",
       "}\r\n",
       "comp def \"P1\" as E3  <<(T,blue) part  def>> [[psysml:2d23ecbc-8f8b-40e5-8168-7a4eefd95afa ]] {\r\n",
       "}\r\n",
       "comp usage \"porig1 \" as E4  <<(T,blue) port>> [[psysml:371120a0-4800-4c08-b9c5-19a2f97c5f1a ]] {\r\n",
       "}\r\n",
       "comp usage \"p1: P1 \" as E5  <<(T,blue) part>> [[psysml:23efd2aa-8423-4d75-9f93-6567d973731c ]] {\r\n",
       "}\r\n",
       "comp usage \"po1 \" as E6  <<(T,blue) port>> [[psysml:a6a8a5d4-8051-439c-be85-1eee73d04018 ]] {\r\n",
       "}\r\n",
       "comp usage \"p2: P1 \" as E7  <<(T,blue) part>> [[psysml:32558afe-9574-460d-81c7-219976cfcf7f ]] {\r\n",
       "}\r\n",
       "comp usage \"pdest \" as E8  <<(T,blue) port>> [[psysml:9d4715a0-ecad-4cb9-af91-593b0378d847 ]] {\r\n",
       "}\r\n",
       "}\r\n",
       "E3 o- - \"1\"E4 [[psysml:77da464e-a07c-41d7-bf00-c994457c7429 ]] \r\n",
       "E3 +.. \"1\"E4 [[psysml:2fb80261-1acb-4246-9b34-6566336881f2 ]] \r\n",
       "E5 - -:|> E3 [[psysml:bae878c2-3025-4ed8-bae0-781c13e39aed ]] \r\n",
       "E5 o- - \"1\"E6 [[psysml:cd2d9195-2d40-49eb-a50a-4bb167712418 ]] \r\n",
       "E6 - -||> E4 [[psysml:9b4aa44d-c7fb-440f-8f9d-ccf8058f014a ]] \r\n",
       "E7 - -:|> E3 [[psysml:22f6621f-c82b-45b4-aad5-95fd1a975c3d ]] \r\n",
       "E7 o- - \"1\"E8 [[psysml:22337106-f0e5-4c32-83fd-01b8d559ead1 ]] \r\n",
       "E7 +.. \"1\"E8 [[psysml:3441a1bf-d119-4e2c-bd85-6011f03ceff2 ]] \r\n",
       "E6 -[thickness=3]- \"*\"E8 [[psysml:e347aa3d-31a4-4502-9422-b0b7e8733c17 ]] \r\n",
       "E6 -[thickness=3]- \"*\"E8 [[psysml:6852a8da-427c-4993-bbf6-22174e5f8d33 ]] \r\n",
       "@enduml\r\n",
       "\n",
       "PlantUML version 1.2020.13(Sat Jun 13 12:26:38 UTC 2020)\n",
       "(EPL source distribution)\n",
       "Java Runtime: OpenJDK Runtime Environment\n",
       "JVM: OpenJDK 64-Bit Server VM\n",
       "Default Encoding: UTF-8\n",
       "Language: en\n",
       "Country: null\n",
       "--></g></svg>"
      ]
     },
     "execution_count": 51,
     "metadata": {},
     "output_type": "execute_result"
    }
   ],
   "source": [
    "%viz --style=\"ORTHOLINE\" --view=\"Default\" \"AliasTest\""
   ]
  },
  {
   "cell_type": "code",
   "execution_count": 52,
   "id": "3b6de1f7",
   "metadata": {
    "execution": {
     "iopub.execute_input": "2022-04-22T09:51:34.577732Z",
     "iopub.status.busy": "2022-04-22T09:51:34.577326Z",
     "iopub.status.idle": "2022-04-22T09:51:34.605694Z",
     "shell.execute_reply": "2022-04-22T09:51:34.604395Z"
    }
   },
   "outputs": [
    {
     "data": {
      "image/svg+xml": [
       "<?xml version=\"1.0\" encoding=\"UTF-8\" standalone=\"no\"?><svg xmlns=\"http://www.w3.org/2000/svg\" xmlns:xlink=\"http://www.w3.org/1999/xlink\" contentScriptType=\"application/ecmascript\" contentStyleType=\"text/css\" height=\"327px\" preserveAspectRatio=\"none\" style=\"width:406px;height:327px;\" version=\"1.1\" viewBox=\"0 0 406 327\" width=\"406px\" zoomAndPan=\"magnify\"><defs/><g><!--MD5=[fbc87193dbaf4d95561dea2c320d4a47]\n",
       "cluster E1--><a href=\"psysml:5020e8e8-e597-4a8a-8c84-9076441471bb\" target=\"_top\" title=\"psysml:5020e8e8-e597-4a8a-8c84-9076441471bb\" xlink:actuate=\"onRequest\" xlink:href=\"psysml:5020e8e8-e597-4a8a-8c84-9076441471bb\" xlink:show=\"new\" xlink:title=\"psysml:5020e8e8-e597-4a8a-8c84-9076441471bb\" xlink:type=\"simple\"><polygon fill=\"#FFFFFF\" points=\"16,6,84,6,91,28.2969,384,28.2969,384,315,16,315,16,6\" style=\"stroke: #000000; stroke-width: 1.5;\"/><line style=\"stroke: #000000; stroke-width: 1.5;\" x1=\"16\" x2=\"91\" y1=\"28.2969\" y2=\"28.2969\"/><text fill=\"#000000\" font-family=\"sans-serif\" font-size=\"14\" font-weight=\"bold\" lengthAdjust=\"spacingAndGlyphs\" textLength=\"62\" x=\"20\" y=\"20.9951\">AliasTest</text></a><!--MD5=[b4997ac47864f28c2f74865a473b2911]\n",
       "class E2--><a href=\"psysml:09023520-b272-4b76-a802-4be530536a95\" target=\"_top\" title=\"psysml:09023520-b272-4b76-a802-4be530536a95\" xlink:actuate=\"onRequest\" xlink:href=\"psysml:09023520-b272-4b76-a802-4be530536a95\" xlink:show=\"new\" xlink:title=\"psysml:09023520-b272-4b76-a802-4be530536a95\" xlink:type=\"simple\"><rect fill=\"#FFFFFF\" height=\"45.9375\" id=\"E2\" rx=\"10\" ry=\"10\" style=\"stroke: #383838; stroke-width: 1.5;\" width=\"165\" x=\"202.5\" y=\"41\"/><text fill=\"#000000\" font-family=\"sans-serif\" font-size=\"12\" font-style=\"italic\" lengthAdjust=\"spacingAndGlyphs\" textLength=\"69\" x=\"250.5\" y=\"57.1387\">«attribute»</text><text fill=\"#000000\" font-family=\"sans-serif\" font-size=\"12\" lengthAdjust=\"spacingAndGlyphs\" textLength=\"159\" x=\"205.5\" y=\"71.1074\">b :&gt; ISQSpaceTime::width</text><line style=\"stroke: #383838; stroke-width: 1.5;\" x1=\"203.5\" x2=\"366.5\" y1=\"78.9375\" y2=\"78.9375\"/></a><!--MD5=[09b614a08d8cba4a07c9adeb5e0fee81]\n",
       "class E3--><a href=\"psysml:2d23ecbc-8f8b-40e5-8168-7a4eefd95afa\" target=\"_top\" title=\"psysml:2d23ecbc-8f8b-40e5-8168-7a4eefd95afa\" xlink:actuate=\"onRequest\" xlink:href=\"psysml:2d23ecbc-8f8b-40e5-8168-7a4eefd95afa\" xlink:show=\"new\" xlink:title=\"psysml:2d23ecbc-8f8b-40e5-8168-7a4eefd95afa\" xlink:type=\"simple\"><rect fill=\"#FFFFFF\" height=\"45.9375\" id=\"E3\" style=\"stroke: #383838; stroke-width: 1.5;\" width=\"70\" x=\"170\" y=\"147\"/><text fill=\"#000000\" font-family=\"sans-serif\" font-size=\"12\" font-style=\"italic\" lengthAdjust=\"spacingAndGlyphs\" textLength=\"68\" x=\"171\" y=\"163.1387\">«part  def»</text><text fill=\"#000000\" font-family=\"sans-serif\" font-size=\"12\" lengthAdjust=\"spacingAndGlyphs\" textLength=\"16\" x=\"197\" y=\"177.1074\">P1</text><line style=\"stroke: #383838; stroke-width: 1.5;\" x1=\"171\" x2=\"239\" y1=\"184.9375\" y2=\"184.9375\"/></a><!--MD5=[ebbe1d658d1005bcc118a6aa81145e00]\n",
       "class E4--><a href=\"psysml:371120a0-4800-4c08-b9c5-19a2f97c5f1a\" target=\"_top\" title=\"psysml:371120a0-4800-4c08-b9c5-19a2f97c5f1a\" xlink:actuate=\"onRequest\" xlink:href=\"psysml:371120a0-4800-4c08-b9c5-19a2f97c5f1a\" xlink:show=\"new\" xlink:title=\"psysml:371120a0-4800-4c08-b9c5-19a2f97c5f1a\" xlink:type=\"simple\"><rect fill=\"#FFFFFF\" height=\"45.9375\" id=\"E4\" rx=\"10\" ry=\"10\" style=\"stroke: #383838; stroke-width: 1.5;\" width=\"50\" x=\"180\" y=\"253\"/><text fill=\"#000000\" font-family=\"sans-serif\" font-size=\"12\" font-style=\"italic\" lengthAdjust=\"spacingAndGlyphs\" textLength=\"40\" x=\"185\" y=\"269.1387\">«port»</text><text fill=\"#000000\" font-family=\"sans-serif\" font-size=\"12\" lengthAdjust=\"spacingAndGlyphs\" textLength=\"40\" x=\"183\" y=\"283.1074\">porig1</text><line style=\"stroke: #383838; stroke-width: 1.5;\" x1=\"181\" x2=\"229\" y1=\"290.9375\" y2=\"290.9375\"/></a><!--MD5=[270fce915f116d4de14055a7c1d9a0f3]\n",
       "class E5--><a href=\"psysml:23efd2aa-8423-4d75-9f93-6567d973731c\" target=\"_top\" title=\"psysml:23efd2aa-8423-4d75-9f93-6567d973731c\" xlink:actuate=\"onRequest\" xlink:href=\"psysml:23efd2aa-8423-4d75-9f93-6567d973731c\" xlink:show=\"new\" xlink:title=\"psysml:23efd2aa-8423-4d75-9f93-6567d973731c\" xlink:type=\"simple\"><rect fill=\"#FFFFFF\" height=\"45.9375\" id=\"E5\" rx=\"10\" ry=\"10\" style=\"stroke: #383838; stroke-width: 1.5;\" width=\"50\" x=\"117\" y=\"41\"/><text fill=\"#000000\" font-family=\"sans-serif\" font-size=\"12\" font-style=\"italic\" lengthAdjust=\"spacingAndGlyphs\" textLength=\"40\" x=\"122\" y=\"57.1387\">«part»</text><text fill=\"#000000\" font-family=\"sans-serif\" font-size=\"12\" lengthAdjust=\"spacingAndGlyphs\" textLength=\"40\" x=\"120\" y=\"71.1074\">p1: P1</text><line style=\"stroke: #383838; stroke-width: 1.5;\" x1=\"118\" x2=\"166\" y1=\"78.9375\" y2=\"78.9375\"/></a><!--MD5=[60a26617385b1d2d0262a64233df1f8d]\n",
       "class E6--><a href=\"psysml:a6a8a5d4-8051-439c-be85-1eee73d04018\" target=\"_top\" title=\"psysml:a6a8a5d4-8051-439c-be85-1eee73d04018\" xlink:actuate=\"onRequest\" xlink:href=\"psysml:a6a8a5d4-8051-439c-be85-1eee73d04018\" xlink:show=\"new\" xlink:title=\"psysml:a6a8a5d4-8051-439c-be85-1eee73d04018\" xlink:type=\"simple\"><rect fill=\"#FFFFFF\" height=\"45.9375\" id=\"E6\" rx=\"10\" ry=\"10\" style=\"stroke: #383838; stroke-width: 1.5;\" width=\"42\" x=\"93\" y=\"147\"/><text fill=\"#000000\" font-family=\"sans-serif\" font-size=\"12\" font-style=\"italic\" lengthAdjust=\"spacingAndGlyphs\" textLength=\"40\" x=\"94\" y=\"163.1387\">«port»</text><text fill=\"#000000\" font-family=\"sans-serif\" font-size=\"12\" lengthAdjust=\"spacingAndGlyphs\" textLength=\"24\" x=\"100\" y=\"177.1074\">po1</text><line style=\"stroke: #383838; stroke-width: 1.5;\" x1=\"94\" x2=\"134\" y1=\"184.9375\" y2=\"184.9375\"/></a><!--MD5=[2156ba9850f5573cc1fc38a6a4b2f02b]\n",
       "class E7--><a href=\"psysml:32558afe-9574-460d-81c7-219976cfcf7f\" target=\"_top\" title=\"psysml:32558afe-9574-460d-81c7-219976cfcf7f\" xlink:actuate=\"onRequest\" xlink:href=\"psysml:32558afe-9574-460d-81c7-219976cfcf7f\" xlink:show=\"new\" xlink:title=\"psysml:32558afe-9574-460d-81c7-219976cfcf7f\" xlink:type=\"simple\"><rect fill=\"#FFFFFF\" height=\"45.9375\" id=\"E7\" rx=\"10\" ry=\"10\" style=\"stroke: #383838; stroke-width: 1.5;\" width=\"50\" x=\"32\" y=\"41\"/><text fill=\"#000000\" font-family=\"sans-serif\" font-size=\"12\" font-style=\"italic\" lengthAdjust=\"spacingAndGlyphs\" textLength=\"40\" x=\"37\" y=\"57.1387\">«part»</text><text fill=\"#000000\" font-family=\"sans-serif\" font-size=\"12\" lengthAdjust=\"spacingAndGlyphs\" textLength=\"40\" x=\"35\" y=\"71.1074\">p2: P1</text><line style=\"stroke: #383838; stroke-width: 1.5;\" x1=\"33\" x2=\"81\" y1=\"78.9375\" y2=\"78.9375\"/></a><!--MD5=[b9389687b975829384b498ac4b7476b2]\n",
       "class E8--><a href=\"psysml:9d4715a0-ecad-4cb9-af91-593b0378d847\" target=\"_top\" title=\"psysml:9d4715a0-ecad-4cb9-af91-593b0378d847\" xlink:actuate=\"onRequest\" xlink:href=\"psysml:9d4715a0-ecad-4cb9-af91-593b0378d847\" xlink:show=\"new\" xlink:title=\"psysml:9d4715a0-ecad-4cb9-af91-593b0378d847\" xlink:type=\"simple\"><rect fill=\"#FFFFFF\" height=\"45.9375\" id=\"E8\" rx=\"10\" ry=\"10\" style=\"stroke: #383838; stroke-width: 1.5;\" width=\"46\" x=\"63\" y=\"253\"/><text fill=\"#000000\" font-family=\"sans-serif\" font-size=\"12\" font-style=\"italic\" lengthAdjust=\"spacingAndGlyphs\" textLength=\"40\" x=\"66\" y=\"269.1387\">«port»</text><text fill=\"#000000\" font-family=\"sans-serif\" font-size=\"12\" lengthAdjust=\"spacingAndGlyphs\" textLength=\"36\" x=\"66\" y=\"283.1074\">pdest</text><line style=\"stroke: #383838; stroke-width: 1.5;\" x1=\"64\" x2=\"108\" y1=\"290.9375\" y2=\"290.9375\"/></a><!--MD5=[4672eba38e49728da53d11aeb285b987]\n",
       "reverse link E3 to E4--><a href=\"psysml:77da464e-a07c-41d7-bf00-c994457c7429\" target=\"_top\" title=\"psysml:77da464e-a07c-41d7-bf00-c994457c7429\" xlink:actuate=\"onRequest\" xlink:href=\"psysml:77da464e-a07c-41d7-bf00-c994457c7429\" xlink:show=\"new\" xlink:title=\"psysml:77da464e-a07c-41d7-bf00-c994457c7429\" xlink:type=\"simple\"><path d=\"M196.67,206 C196.67,206 196.67,252.68 196.67,252.68 \" fill=\"none\" id=\"E3&lt;-E4\" style=\"stroke: #383838; stroke-width: 1.0;\"/><polygon fill=\"#FFFFFF\" points=\"196.67,193,192.67,199,196.67,205,200.67,199,196.67,193\" style=\"stroke: #383838; stroke-width: 1.0;\"/><text fill=\"#000000\" font-family=\"sans-serif\" font-size=\"13\" lengthAdjust=\"spacingAndGlyphs\" textLength=\"8\" x=\"185.5104\" y=\"241.8743\">1</text></a><!--MD5=[4672eba38e49728da53d11aeb285b987]\n",
       "reverse link E3 to E4--><a href=\"psysml:2fb80261-1acb-4246-9b34-6566336881f2\" target=\"_top\" title=\"psysml:2fb80261-1acb-4246-9b34-6566336881f2\" xlink:actuate=\"onRequest\" xlink:href=\"psysml:2fb80261-1acb-4246-9b34-6566336881f2\" xlink:show=\"new\" xlink:title=\"psysml:2fb80261-1acb-4246-9b34-6566336881f2\" xlink:type=\"simple\"><path d=\"M213.33,208 C213.33,208 213.33,252.68 213.33,252.68 \" fill=\"none\" id=\"E3&lt;-E4-1\" style=\"stroke: #383838; stroke-width: 1.0; stroke-dasharray: 7.0,7.0;\"/><ellipse cx=\"213.33\" cy=\"201\" fill=\"#FFFFFF\" rx=\"8\" ry=\"8\" style=\"stroke: #383838; stroke-width: 1.0;\"/><line style=\"stroke: #383838; stroke-width: 1.0;\" x1=\"213.33\" x2=\"213.33\" y1=\"209\" y2=\"193\"/><line style=\"stroke: #383838; stroke-width: 1.0;\" x1=\"205.33\" x2=\"221.33\" y1=\"201\" y2=\"201\"/><text fill=\"#000000\" font-family=\"sans-serif\" font-size=\"13\" lengthAdjust=\"spacingAndGlyphs\" textLength=\"8\" x=\"206.4396\" y=\"241.8743\">1</text></a><!--MD5=[e9be52314489bd878ff4c7144b63c9e1]\n",
       "link E5 to E3--><a href=\"psysml:bae878c2-3025-4ed8-bae0-781c13e39aed\" target=\"_top\" title=\"psysml:bae878c2-3025-4ed8-bae0-781c13e39aed\" xlink:actuate=\"onRequest\" xlink:href=\"psysml:bae878c2-3025-4ed8-bae0-781c13e39aed\" xlink:show=\"new\" xlink:title=\"psysml:bae878c2-3025-4ed8-bae0-781c13e39aed\" xlink:type=\"simple\"><path d=\"M151,87 C151,118.18 151,170 151,170 C151,170 152.89,170 152.89,170 \" fill=\"none\" id=\"E5-&gt;E3\" style=\"stroke: #383838; stroke-width: 1.0;\"/><polygon fill=\"#FFFFFF\" points=\"169.89,170,150.89,177,150.89,163,169.89,170\" style=\"stroke: #383838; stroke-width: 1.0;\"/><ellipse cx=\"145.19\" cy=\"175\" fill=\"#383838\" rx=\"2\" ry=\"2\" style=\"stroke: #383838; stroke-width: 1.0;\"/><ellipse cx=\"145.19\" cy=\"165\" fill=\"#383838\" rx=\"2\" ry=\"2\" style=\"stroke: #383838; stroke-width: 1.0;\"/></a><!--MD5=[85d356282659285ab4b2cfe2f634dd2b]\n",
       "reverse link E5 to E6--><a href=\"psysml:cd2d9195-2d40-49eb-a50a-4bb167712418\" target=\"_top\" title=\"psysml:cd2d9195-2d40-49eb-a50a-4bb167712418\" xlink:actuate=\"onRequest\" xlink:href=\"psysml:cd2d9195-2d40-49eb-a50a-4bb167712418\" xlink:show=\"new\" xlink:title=\"psysml:cd2d9195-2d40-49eb-a50a-4bb167712418\" xlink:type=\"simple\"><path d=\"M126,100 C126,100 126,146.68 126,146.68 \" fill=\"none\" id=\"E5&lt;-E6\" style=\"stroke: #383838; stroke-width: 1.0;\"/><polygon fill=\"#FFFFFF\" points=\"126,87,122,93,126,99,130,93,126,87\" style=\"stroke: #383838; stroke-width: 1.0;\"/><text fill=\"#000000\" font-family=\"sans-serif\" font-size=\"13\" lengthAdjust=\"spacingAndGlyphs\" textLength=\"8\" x=\"120.05\" y=\"135.8743\">1</text></a><!--MD5=[f667431f98296947986a1a7595a31603]\n",
       "link E6 to E4--><a href=\"psysml:9b4aa44d-c7fb-440f-8f9d-ccf8058f014a\" target=\"_top\" title=\"psysml:9b4aa44d-c7fb-440f-8f9d-ccf8058f014a\" xlink:actuate=\"onRequest\" xlink:href=\"psysml:9b4aa44d-c7fb-440f-8f9d-ccf8058f014a\" xlink:show=\"new\" xlink:title=\"psysml:9b4aa44d-c7fb-440f-8f9d-ccf8058f014a\" xlink:type=\"simple\"><path d=\"M122,193 C122,224.18 122,276 122,276 C122,276 159.65,276 159.65,276 \" fill=\"none\" id=\"E6-&gt;E4\" style=\"stroke: #383838; stroke-width: 1.0;\"/><polygon fill=\"#FFFFFF\" points=\"179.65,276,160.65,283,160.65,269,179.65,276\" style=\"stroke: #383838; stroke-width: 1.0;\"/><line style=\"stroke: #383838; stroke-width: 2.0;\" x1=\"156.85\" x2=\"156.85\" y1=\"283\" y2=\"269\"/></a><!--MD5=[14ccda38c055a5c0da953d572bc50960]\n",
       "link E7 to E3--><a href=\"psysml:22f6621f-c82b-45b4-aad5-95fd1a975c3d\" target=\"_top\" title=\"psysml:22f6621f-c82b-45b4-aad5-95fd1a975c3d\" xlink:actuate=\"onRequest\" xlink:href=\"psysml:22f6621f-c82b-45b4-aad5-95fd1a975c3d\" xlink:show=\"new\" xlink:title=\"psysml:22f6621f-c82b-45b4-aad5-95fd1a975c3d\" xlink:type=\"simple\"><path d=\"M77.25,87.09 C77.25,101.37 77.25,117 77.25,117 C77.25,117 186.25,117 186.25,117 C186.25,117 186.25,126.91 186.25,126.91 \" fill=\"none\" id=\"E7-&gt;E3\" style=\"stroke: #383838; stroke-width: 1.0;\"/><polygon fill=\"#FFFFFF\" points=\"186.25,146.91,179.25,127.91,193.25,127.91,186.25,146.91\" style=\"stroke: #383838; stroke-width: 1.0;\"/><ellipse cx=\"181.25\" cy=\"122.21\" fill=\"#383838\" rx=\"2\" ry=\"2\" style=\"stroke: #383838; stroke-width: 1.0;\"/><ellipse cx=\"191.25\" cy=\"122.21\" fill=\"#383838\" rx=\"2\" ry=\"2\" style=\"stroke: #383838; stroke-width: 1.0;\"/></a><!--MD5=[dc164f5e8a733ab456ef1add180e9e34]\n",
       "reverse link E7 to E8--><a href=\"psysml:22337106-f0e5-4c32-83fd-01b8d559ead1\" target=\"_top\" title=\"psysml:22337106-f0e5-4c32-83fd-01b8d559ead1\" xlink:actuate=\"onRequest\" xlink:href=\"psysml:22337106-f0e5-4c32-83fd-01b8d559ead1\" xlink:show=\"new\" xlink:title=\"psysml:22337106-f0e5-4c32-83fd-01b8d559ead1\" xlink:type=\"simple\"><path d=\"M67.75,100.09 C67.75,100.09 67.75,252.94 67.75,252.94 \" fill=\"none\" id=\"E7&lt;-E8\" style=\"stroke: #383838; stroke-width: 1.0;\"/><polygon fill=\"#FFFFFF\" points=\"67.75,87.09,63.75,93.09,67.75,99.09,71.75,93.09,67.75,87.09\" style=\"stroke: #383838; stroke-width: 1.0;\"/><text fill=\"#000000\" font-family=\"sans-serif\" font-size=\"13\" lengthAdjust=\"spacingAndGlyphs\" textLength=\"8\" x=\"53.7703\" y=\"241.8201\">1</text></a><!--MD5=[dc164f5e8a733ab456ef1add180e9e34]\n",
       "reverse link E7 to E8--><a href=\"psysml:3441a1bf-d119-4e2c-bd85-6011f03ceff2\" target=\"_top\" title=\"psysml:3441a1bf-d119-4e2c-bd85-6011f03ceff2\" xlink:actuate=\"onRequest\" xlink:href=\"psysml:3441a1bf-d119-4e2c-bd85-6011f03ceff2\" xlink:show=\"new\" xlink:title=\"psysml:3441a1bf-d119-4e2c-bd85-6011f03ceff2\" xlink:type=\"simple\"><path d=\"M72.5,102.09 C72.5,102.09 72.5,252.94 72.5,252.94 \" fill=\"none\" id=\"E7&lt;-E8-1\" style=\"stroke: #383838; stroke-width: 1.0; stroke-dasharray: 7.0,7.0;\"/><ellipse cx=\"72.5\" cy=\"95.09\" fill=\"#FFFFFF\" rx=\"8\" ry=\"8\" style=\"stroke: #383838; stroke-width: 1.0;\"/><line style=\"stroke: #383838; stroke-width: 1.0;\" x1=\"72.5\" x2=\"72.5\" y1=\"103.09\" y2=\"87.09\"/><line style=\"stroke: #383838; stroke-width: 1.0;\" x1=\"64.5\" x2=\"80.5\" y1=\"95.09\" y2=\"95.09\"/><text fill=\"#000000\" font-family=\"sans-serif\" font-size=\"13\" lengthAdjust=\"spacingAndGlyphs\" textLength=\"8\" x=\"69.9469\" y=\"241.8201\">1</text></a><!--MD5=[0a839d0f80c2d72d4b9b307f046d0de8]\n",
       "link E6 to E8--><a href=\"psysml:e347aa3d-31a4-4502-9422-b0b7e8733c17\" target=\"_top\" title=\"psysml:e347aa3d-31a4-4502-9422-b0b7e8733c17\" xlink:actuate=\"onRequest\" xlink:href=\"psysml:e347aa3d-31a4-4502-9422-b0b7e8733c17\" xlink:show=\"new\" xlink:title=\"psysml:e347aa3d-31a4-4502-9422-b0b7e8733c17\" xlink:type=\"simple\"><path d=\"M98.33,193 C98.33,210.66 98.33,234.94 98.33,252.68 \" fill=\"none\" id=\"E6-E8\" style=\"stroke: #383838; stroke-width: 3.0;\"/><text fill=\"#000000\" font-family=\"sans-serif\" font-size=\"13\" lengthAdjust=\"spacingAndGlyphs\" textLength=\"7\" x=\"93.5927\" y=\"241.8743\">*</text></a><!--MD5=[0a839d0f80c2d72d4b9b307f046d0de8]\n",
       "link E6 to E8--><a href=\"psysml:6852a8da-427c-4993-bbf6-22174e5f8d33\" target=\"_top\" title=\"psysml:6852a8da-427c-4993-bbf6-22174e5f8d33\" xlink:actuate=\"onRequest\" xlink:href=\"psysml:6852a8da-427c-4993-bbf6-22174e5f8d33\" xlink:show=\"new\" xlink:title=\"psysml:6852a8da-427c-4993-bbf6-22174e5f8d33\" xlink:type=\"simple\"><path d=\"M103.67,193 C103.67,210.66 103.67,234.94 103.67,252.68 \" fill=\"none\" id=\"E6-E8-1\" style=\"stroke: #383838; stroke-width: 3.0;\"/><text fill=\"#000000\" font-family=\"sans-serif\" font-size=\"13\" lengthAdjust=\"spacingAndGlyphs\" textLength=\"7\" x=\"109.0948\" y=\"241.8743\">*</text></a><!--MD5=[90c2ce07dd036cc91d22b3679eb62ac1]\n",
       "@startuml\r\n",
       "skinparam linetype ortho\r\n",
       "skinparam monochrome true\r\n",
       "skinparam classbackgroundcolor white\r\n",
       "skinparam shadowing false\r\n",
       "skinparam wrapWidth 300\r\n",
       "hide circle\r\n",
       "\r\n",
       "package \"AliasTest\" as E1  [[psysml:5020e8e8-e597-4a8a-8c84-9076441471bb ]]  {\r\n",
       "comp usage \"b :> ISQSpaceTime::width\" as E2  <<(T,blue) attribute>> [[psysml:09023520-b272-4b76-a802-4be530536a95 ]] {\r\n",
       "}\r\n",
       "comp def \"P1\" as E3  <<(T,blue) part  def>> [[psysml:2d23ecbc-8f8b-40e5-8168-7a4eefd95afa ]] {\r\n",
       "}\r\n",
       "comp usage \"porig1 \" as E4  <<(T,blue) port>> [[psysml:371120a0-4800-4c08-b9c5-19a2f97c5f1a ]] {\r\n",
       "}\r\n",
       "comp usage \"p1: P1 \" as E5  <<(T,blue) part>> [[psysml:23efd2aa-8423-4d75-9f93-6567d973731c ]] {\r\n",
       "}\r\n",
       "comp usage \"po1 \" as E6  <<(T,blue) port>> [[psysml:a6a8a5d4-8051-439c-be85-1eee73d04018 ]] {\r\n",
       "}\r\n",
       "comp usage \"p2: P1 \" as E7  <<(T,blue) part>> [[psysml:32558afe-9574-460d-81c7-219976cfcf7f ]] {\r\n",
       "}\r\n",
       "comp usage \"pdest \" as E8  <<(T,blue) port>> [[psysml:9d4715a0-ecad-4cb9-af91-593b0378d847 ]] {\r\n",
       "}\r\n",
       "}\r\n",
       "E3 o- - \"1\"E4 [[psysml:77da464e-a07c-41d7-bf00-c994457c7429 ]] \r\n",
       "E3 +.. \"1\"E4 [[psysml:2fb80261-1acb-4246-9b34-6566336881f2 ]] \r\n",
       "E5 - -:|> E3 [[psysml:bae878c2-3025-4ed8-bae0-781c13e39aed ]] \r\n",
       "E5 o- - \"1\"E6 [[psysml:cd2d9195-2d40-49eb-a50a-4bb167712418 ]] \r\n",
       "E6 - -||> E4 [[psysml:9b4aa44d-c7fb-440f-8f9d-ccf8058f014a ]] \r\n",
       "E7 - -:|> E3 [[psysml:22f6621f-c82b-45b4-aad5-95fd1a975c3d ]] \r\n",
       "E7 o- - \"1\"E8 [[psysml:22337106-f0e5-4c32-83fd-01b8d559ead1 ]] \r\n",
       "E7 +.. \"1\"E8 [[psysml:3441a1bf-d119-4e2c-bd85-6011f03ceff2 ]] \r\n",
       "E6 -[thickness=3]- \"*\"E8 [[psysml:e347aa3d-31a4-4502-9422-b0b7e8733c17 ]] \r\n",
       "E6 -[thickness=3]- \"*\"E8 [[psysml:6852a8da-427c-4993-bbf6-22174e5f8d33 ]] \r\n",
       "@enduml\r\n",
       "\n",
       "PlantUML version 1.2020.13(Sat Jun 13 12:26:38 UTC 2020)\n",
       "(EPL source distribution)\n",
       "Java Runtime: OpenJDK Runtime Environment\n",
       "JVM: OpenJDK 64-Bit Server VM\n",
       "Default Encoding: UTF-8\n",
       "Language: en\n",
       "Country: null\n",
       "--></g></svg>"
      ]
     },
     "execution_count": 52,
     "metadata": {},
     "output_type": "execute_result"
    }
   ],
   "source": [
    "%viz --style=\"ORTHOLINE\" --view=\"Tree\" \"AliasTest\""
   ]
  },
  {
   "cell_type": "code",
   "execution_count": 53,
   "id": "c8a9cb66",
   "metadata": {
    "execution": {
     "iopub.execute_input": "2022-04-22T09:51:34.655345Z",
     "iopub.status.busy": "2022-04-22T09:51:34.654952Z",
     "iopub.status.idle": "2022-04-22T09:51:34.660752Z",
     "shell.execute_reply": "2022-04-22T09:51:34.660429Z"
    }
   },
   "outputs": [
    {
     "data": {
      "image/svg+xml": [
       "<?xml version=\"1.0\" encoding=\"UTF-8\" standalone=\"no\"?><svg xmlns=\"http://www.w3.org/2000/svg\" xmlns:xlink=\"http://www.w3.org/1999/xlink\" contentScriptType=\"application/ecmascript\" contentStyleType=\"text/css\" height=\"12px\" preserveAspectRatio=\"none\" style=\"width:12px;height:12px;\" version=\"1.1\" viewBox=\"0 0 12 12\" width=\"12px\" zoomAndPan=\"magnify\"><defs/><g><!--MD5=[97d6f38768b311333d388e66b2b27985]\n",
       "@startuml\r\n",
       "skinparam linetype ortho\r\n",
       "skinparam monochrome true\r\n",
       "skinparam classbackgroundcolor white\r\n",
       "skinparam shadowing false\r\n",
       "skinparam wrapWidth 300\r\n",
       "hide circle\r\n",
       "\r\n",
       "@enduml\r\n",
       "\n",
       "PlantUML version 1.2020.13(Sat Jun 13 12:26:38 UTC 2020)\n",
       "(EPL source distribution)\n",
       "Java Runtime: OpenJDK Runtime Environment\n",
       "JVM: OpenJDK 64-Bit Server VM\n",
       "Default Encoding: UTF-8\n",
       "Language: en\n",
       "Country: null\n",
       "--></g></svg>"
      ]
     },
     "execution_count": 53,
     "metadata": {},
     "output_type": "execute_result"
    }
   ],
   "source": [
    "%viz --style=\"ORTHOLINE\" --view=\"State\" \"AliasTest\""
   ]
  },
  {
   "cell_type": "code",
   "execution_count": 54,
   "id": "1c445e7d",
   "metadata": {
    "execution": {
     "iopub.execute_input": "2022-04-22T09:51:34.710243Z",
     "iopub.status.busy": "2022-04-22T09:51:34.709853Z",
     "iopub.status.idle": "2022-04-22T09:51:34.744233Z",
     "shell.execute_reply": "2022-04-22T09:51:34.742924Z"
    }
   },
   "outputs": [
    {
     "data": {
      "image/svg+xml": [
       "<?xml version=\"1.0\" encoding=\"UTF-8\" standalone=\"no\"?><svg xmlns=\"http://www.w3.org/2000/svg\" xmlns:xlink=\"http://www.w3.org/1999/xlink\" contentScriptType=\"application/ecmascript\" contentStyleType=\"text/css\" height=\"398px\" preserveAspectRatio=\"none\" style=\"width:370px;height:398px;\" version=\"1.1\" viewBox=\"0 0 370 398\" width=\"370px\" zoomAndPan=\"magnify\"><defs/><g><!--MD5=[fbc87193dbaf4d95561dea2c320d4a47]\n",
       "cluster E1--><a href=\"psysml:5020e8e8-e597-4a8a-8c84-9076441471bb\" target=\"_top\" title=\"psysml:5020e8e8-e597-4a8a-8c84-9076441471bb\" xlink:actuate=\"onRequest\" xlink:href=\"psysml:5020e8e8-e597-4a8a-8c84-9076441471bb\" xlink:show=\"new\" xlink:title=\"psysml:5020e8e8-e597-4a8a-8c84-9076441471bb\" xlink:type=\"simple\"><polygon fill=\"#FFFFFF\" points=\"16,6,84,6,91,28.2969,348,28.2969,348,386.36,16,386.36,16,6\" style=\"stroke: #000000; stroke-width: 1.5;\"/><line style=\"stroke: #000000; stroke-width: 1.5;\" x1=\"16\" x2=\"91\" y1=\"28.2969\" y2=\"28.2969\"/><text fill=\"#000000\" font-family=\"sans-serif\" font-size=\"14\" font-weight=\"bold\" lengthAdjust=\"spacingAndGlyphs\" textLength=\"62\" x=\"20\" y=\"20.9951\">AliasTest</text></a><!--MD5=[d5e69f78d87373223dbae638b30a9c99]\n",
       "cluster E3--><a href=\"psysml:2d23ecbc-8f8b-40e5-8168-7a4eefd95afa\" target=\"_top\" title=\"psysml:2d23ecbc-8f8b-40e5-8168-7a4eefd95afa\" xlink:actuate=\"onRequest\" xlink:href=\"psysml:2d23ecbc-8f8b-40e5-8168-7a4eefd95afa\" xlink:show=\"new\" xlink:title=\"psysml:2d23ecbc-8f8b-40e5-8168-7a4eefd95afa\" xlink:type=\"simple\"><rect fill=\"#FFFFFF\" height=\"124.5\" id=\"E3\" style=\"stroke: #383838; stroke-width: 1.5;\" width=\"144\" x=\"180\" y=\"237.86\"/><rect fill=\"#F8F8F8\" height=\"37.9375\" style=\"stroke: #383838; stroke-width: 1.5;\" width=\"144\" x=\"180\" y=\"237.86\"/><text fill=\"#000000\" font-family=\"sans-serif\" font-size=\"12\" font-style=\"italic\" lengthAdjust=\"spacingAndGlyphs\" textLength=\"68\" x=\"218\" y=\"253.9987\">«part  def»</text><text fill=\"#000000\" font-family=\"sans-serif\" font-size=\"12\" lengthAdjust=\"spacingAndGlyphs\" textLength=\"16\" x=\"244\" y=\"267.9674\">P1</text></a><!--MD5=[14e3b0961a2654348d326746436168a1]\n",
       "cluster E6--><a href=\"psysml:23efd2aa-8423-4d75-9f93-6567d973731c\" target=\"_top\" title=\"psysml:23efd2aa-8423-4d75-9f93-6567d973731c\" xlink:actuate=\"onRequest\" xlink:href=\"psysml:23efd2aa-8423-4d75-9f93-6567d973731c\" xlink:show=\"new\" xlink:title=\"psysml:23efd2aa-8423-4d75-9f93-6567d973731c\" xlink:type=\"simple\"><rect fill=\"#FFFFFF\" height=\"97.36\" id=\"E6\" rx=\"10\" ry=\"10\" style=\"stroke: #383838; stroke-width: 1.5;\" width=\"114\" x=\"210\" y=\"49\"/><rect fill=\"#F8F8F8\" height=\"23.9688\" rx=\"10\" ry=\"10\" style=\"stroke: #F8F8F8; stroke-width: 1.5;\" width=\"114\" x=\"210\" y=\"49\"/><rect fill=\"#F8F8F8\" height=\"10\" style=\"stroke: #F8F8F8; stroke-width: 1.5;\" width=\"114\" x=\"210\" y=\"62.9688\"/><rect fill=\"none\" height=\"97.36\" id=\"E6\" rx=\"10\" ry=\"10\" style=\"stroke: #383838; stroke-width: 1.5;\" width=\"114\" x=\"210\" y=\"49\"/><text fill=\"#000000\" font-family=\"sans-serif\" font-size=\"12\" lengthAdjust=\"spacingAndGlyphs\" textLength=\"40\" x=\"247\" y=\"65.1387\">p1: P1</text><line style=\"stroke: #383838; stroke-width: 1.0;\" x1=\"210\" x2=\"324\" y1=\"72.9688\" y2=\"72.9688\"/></a><!--MD5=[55dfccfc6c49c2d10cd1bd2211a6c90c]\n",
       "cluster E8--><a href=\"psysml:32558afe-9574-460d-81c7-219976cfcf7f\" target=\"_top\" title=\"psysml:32558afe-9574-460d-81c7-219976cfcf7f\" xlink:actuate=\"onRequest\" xlink:href=\"psysml:32558afe-9574-460d-81c7-219976cfcf7f\" xlink:show=\"new\" xlink:title=\"psysml:32558afe-9574-460d-81c7-219976cfcf7f\" xlink:type=\"simple\"><rect fill=\"#FFFFFF\" height=\"73\" id=\"E8\" rx=\"10\" ry=\"10\" style=\"stroke: #383838; stroke-width: 1.5;\" width=\"83\" x=\"81\" y=\"198.36\"/><rect fill=\"#F8F8F8\" height=\"23.9688\" rx=\"10\" ry=\"10\" style=\"stroke: #F8F8F8; stroke-width: 1.5;\" width=\"83\" x=\"81\" y=\"198.36\"/><rect fill=\"#F8F8F8\" height=\"10\" style=\"stroke: #F8F8F8; stroke-width: 1.5;\" width=\"83\" x=\"81\" y=\"212.3288\"/><rect fill=\"none\" height=\"73\" id=\"E8\" rx=\"10\" ry=\"10\" style=\"stroke: #383838; stroke-width: 1.5;\" width=\"83\" x=\"81\" y=\"198.36\"/><text fill=\"#000000\" font-family=\"sans-serif\" font-size=\"12\" lengthAdjust=\"spacingAndGlyphs\" textLength=\"40\" x=\"102.5\" y=\"214.4987\">p2: P1</text><line style=\"stroke: #383838; stroke-width: 1.0;\" x1=\"81\" x2=\"164\" y1=\"222.3288\" y2=\"222.3288\"/></a><!--MD5=[b4997ac47864f28c2f74865a473b2911]\n",
       "class E2--><a href=\"psysml:09023520-b272-4b76-a802-4be530536a95\" target=\"_top\" title=\"psysml:09023520-b272-4b76-a802-4be530536a95\" xlink:actuate=\"onRequest\" xlink:href=\"psysml:09023520-b272-4b76-a802-4be530536a95\" xlink:show=\"new\" xlink:title=\"psysml:09023520-b272-4b76-a802-4be530536a95\" xlink:type=\"simple\"><rect fill=\"#FFFFFF\" height=\"45.9375\" id=\"E2\" rx=\"10\" ry=\"10\" style=\"stroke: #383838; stroke-width: 1.5;\" width=\"165\" x=\"32.5\" y=\"59.5\"/><text fill=\"#000000\" font-family=\"sans-serif\" font-size=\"12\" font-style=\"italic\" lengthAdjust=\"spacingAndGlyphs\" textLength=\"69\" x=\"80.5\" y=\"75.6387\">«attribute»</text><text fill=\"#000000\" font-family=\"sans-serif\" font-size=\"12\" lengthAdjust=\"spacingAndGlyphs\" textLength=\"159\" x=\"35.5\" y=\"89.6074\">b :&gt; ISQSpaceTime::width</text><line style=\"stroke: #383838; stroke-width: 1.5;\" x1=\"33.5\" x2=\"196.5\" y1=\"97.4375\" y2=\"97.4375\"/></a><text fill=\"#000000\" font-family=\"sans-serif\" font-size=\"14\" lengthAdjust=\"spacingAndGlyphs\" textLength=\"44\" x=\"174\" y=\"216.5582\">porig1</text><rect fill=\"#383838\" height=\"12\" style=\"stroke: #F8F8F8; stroke-width: 1.5;\" width=\"12\" x=\"192\" y=\"231.86\"/><text fill=\"#000000\" font-family=\"sans-serif\" font-size=\"14\" lengthAdjust=\"spacingAndGlyphs\" textLength=\"44\" x=\"221\" y=\"216.5582\">porig1</text><rect fill=\"#383838\" height=\"12\" style=\"stroke: #F8F8F8; stroke-width: 1.5;\" width=\"12\" x=\"239\" y=\"231.86\"/><text fill=\"#000000\" font-family=\"sans-serif\" font-size=\"14\" lengthAdjust=\"spacingAndGlyphs\" textLength=\"27\" x=\"212.5\" y=\"165.3551\">po1</text><rect fill=\"#383838\" height=\"12\" style=\"stroke: #F8F8F8; stroke-width: 1.5;\" width=\"12\" x=\"222\" y=\"140.36\"/><text fill=\"#000000\" font-family=\"sans-serif\" font-size=\"14\" lengthAdjust=\"spacingAndGlyphs\" textLength=\"40\" x=\"77\" y=\"177.0582\">pdest</text><rect fill=\"#383838\" height=\"12\" style=\"stroke: #F8F8F8; stroke-width: 1.5;\" width=\"12\" x=\"93\" y=\"192.36\"/><text fill=\"#000000\" font-family=\"sans-serif\" font-size=\"14\" lengthAdjust=\"spacingAndGlyphs\" textLength=\"40\" x=\"124\" y=\"177.0582\">pdest</text><rect fill=\"#383838\" height=\"12\" style=\"stroke: #F8F8F8; stroke-width: 1.5;\" width=\"12\" x=\"140\" y=\"192.36\"/><!--MD5=[a717450b82c80b9240a525fa862496af]\n",
       "link E6 to E3--><a href=\"psysml:bae878c2-3025-4ed8-bae0-781c13e39aed\" target=\"_top\" title=\"psysml:bae878c2-3025-4ed8-bae0-781c13e39aed\" xlink:actuate=\"onRequest\" xlink:href=\"psysml:bae878c2-3025-4ed8-bae0-781c13e39aed\" xlink:show=\"new\" xlink:title=\"psysml:bae878c2-3025-4ed8-bae0-781c13e39aed\" xlink:type=\"simple\"><path d=\"M275.25,146.7243 C275.25,147.0224 275.25,147.3211 275.25,147.6203 C275.25,152.4082 275.25,157.3439 275.25,162.3852 C275.25,172.4677 275.25,182.9728 275.25,193.5638 C275.25,198.8592 275.25,204.1762 275.25,209.4725 C275.25,212.1206 275.25,214.7636 275.25,217.3962 C275.25,218.7125 275.25,220.0262 275.25,221.3366 C275.25,221.9918 275.25,222.6462 275.25,223.2997 C275.25,223.4631 275.25,223.6264 275.25,223.7897 \" fill=\"none\" id=\"E6-&gt;E3\" style=\"stroke: #383838; stroke-width: 1.0;\"/><polygon fill=\"#FFFFFF\" points=\"275.25,223.7897,268.25,204.7897,282.25,204.7897,275.25,223.7897\" style=\"stroke: #383838; stroke-width: 1.0;\"/><ellipse cx=\"270.25\" cy=\"199.0897\" fill=\"#383838\" rx=\"2\" ry=\"2\" style=\"stroke: #383838; stroke-width: 1.0;\"/><ellipse cx=\"280.25\" cy=\"199.0897\" fill=\"#383838\" rx=\"2\" ry=\"2\" style=\"stroke: #383838; stroke-width: 1.0;\"/></a><!--MD5=[95fa686b5a16158bcdbcaeead89f639b]\n",
       "link E8 to E3--><a href=\"psysml:22f6621f-c82b-45b4-aad5-95fd1a975c3d\" target=\"_top\" title=\"psysml:22f6621f-c82b-45b4-aad5-95fd1a975c3d\" xlink:actuate=\"onRequest\" xlink:href=\"psysml:22f6621f-c82b-45b4-aad5-95fd1a975c3d\" xlink:show=\"new\" xlink:title=\"psysml:22f6621f-c82b-45b4-aad5-95fd1a975c3d\" xlink:type=\"simple\"><path d=\"M105,271.6308 C105,271.7574 105,271.8841 105,272.0108 C105,272.2644 105,272.5183 105,272.7726 C105,273.2811 105,273.791 105,274.302 C105,276.3461 105,278.4074 105,280.466 C105,284.583 105,288.6891 105,292.6238 C105,308.3625 105,321.36 105,321.36 C105,321.36 119.9175,321.36 140.3125,321.36 C150.51,321.36 162.0769,321.36 173.8331,321.36 C176.7722,321.36 179.7231,321.36 182.6674,321.36 C183.0354,321.36 183.4034,321.36 183.7711,321.36 \" fill=\"none\" id=\"E8-&gt;E3\" style=\"stroke: #383838; stroke-width: 1.0;\"/><polygon fill=\"#FFFFFF\" points=\"183.7711,321.36,164.7711,328.36,164.7711,314.36,183.7711,321.36\" style=\"stroke: #383838; stroke-width: 1.0;\"/><ellipse cx=\"159.0711\" cy=\"326.36\" fill=\"#383838\" rx=\"2\" ry=\"2\" style=\"stroke: #383838; stroke-width: 1.0;\"/><ellipse cx=\"159.0711\" cy=\"316.36\" fill=\"#383838\" rx=\"2\" ry=\"2\" style=\"stroke: #383838; stroke-width: 1.0;\"/></a><!--MD5=[1c0b9414cc86e0744215edee6abd8926]\n",
       "link E7 to E9--><a href=\"psysml:e347aa3d-31a4-4502-9422-b0b7e8733c17\" target=\"_top\" title=\"psysml:e347aa3d-31a4-4502-9422-b0b7e8733c17\" xlink:actuate=\"onRequest\" xlink:href=\"psysml:e347aa3d-31a4-4502-9422-b0b7e8733c17\" xlink:show=\"new\" xlink:title=\"psysml:e347aa3d-31a4-4502-9422-b0b7e8733c17\" xlink:type=\"simple\"><path d=\"M221.68,144.36 C195.51,144.36 97,144.36 97,144.36 C97,144.36 97,177.98 97,192.17 \" fill=\"none\" id=\"E7-E9\" style=\"stroke: #383838; stroke-width: 3.0;\"/><text fill=\"#000000\" font-family=\"sans-serif\" font-size=\"13\" lengthAdjust=\"spacingAndGlyphs\" textLength=\"7\" x=\"86.7688\" y=\"181.233\">*</text></a><!--MD5=[1c0b9414cc86e0744215edee6abd8926]\n",
       "link E7 to E9--><a href=\"psysml:6852a8da-427c-4993-bbf6-22174e5f8d33\" target=\"_top\" title=\"psysml:6852a8da-427c-4993-bbf6-22174e5f8d33\" xlink:actuate=\"onRequest\" xlink:href=\"psysml:6852a8da-427c-4993-bbf6-22174e5f8d33\" xlink:show=\"new\" xlink:title=\"psysml:6852a8da-427c-4993-bbf6-22174e5f8d33\" xlink:type=\"simple\"><path d=\"M221.87,148.36 C196.51,148.36 101,148.36 101,148.36 C101,148.36 101,178.88 101,192.23 \" fill=\"none\" id=\"E7-E9-1\" style=\"stroke: #383838; stroke-width: 3.0;\"/><text fill=\"#000000\" font-family=\"sans-serif\" font-size=\"13\" lengthAdjust=\"spacingAndGlyphs\" textLength=\"7\" x=\"104.2313\" y=\"181.3283\">*</text></a><!--MD5=[6a6b816641ecf7a21a90664ab06b9c2a]\n",
       "@startuml\r\n",
       "skinparam ranksep 10\r\n",
       "skinparam rectangle {\r\n",
       " backgroundColor<<block>> LightGreen\r\n",
       "}\r\n",
       "skinparam linetype ortho\r\n",
       "skinparam monochrome true\r\n",
       "skinparam classbackgroundcolor white\r\n",
       "skinparam shadowing false\r\n",
       "skinparam wrapWidth 300\r\n",
       "hide circle\r\n",
       "\r\n",
       "package \"AliasTest\" as E1  [[psysml:5020e8e8-e597-4a8a-8c84-9076441471bb ]]  {\r\n",
       "comp usage \"b :> ISQSpaceTime::width\" as E2  <<(T,blue) attribute>> [[psysml:09023520-b272-4b76-a802-4be530536a95 ]] {\r\n",
       "}\r\n",
       "rec def \"P1\" as E3  <<(T,blue) part  def>> [[psysml:2d23ecbc-8f8b-40e5-8168-7a4eefd95afa ]] {\r\n",
       "portin \"porig1 \" as E4  <<(T,blue) port>> [[psysml:371120a0-4800-4c08-b9c5-19a2f97c5f1a ]] \r\n",
       "portin \"porig1 \" as E5  <<(T,blue) port>> [[psysml:371120a0-4800-4c08-b9c5-19a2f97c5f1a ]] \r\n",
       "}\r\n",
       "rec usage \"p1: P1\" as E6  [[psysml:23efd2aa-8423-4d75-9f93-6567d973731c ]] {\r\n",
       "portout \"po1 \" as E7  <<(T,blue) port>> [[psysml:a6a8a5d4-8051-439c-be85-1eee73d04018 ]] \r\n",
       "}\r\n",
       "rec usage \"p2: P1\" as E8  [[psysml:32558afe-9574-460d-81c7-219976cfcf7f ]] {\r\n",
       "portin \"pdest \" as E9  <<(T,blue) port>> [[psysml:9d4715a0-ecad-4cb9-af91-593b0378d847 ]] \r\n",
       "portin \"pdest \" as E10  <<(T,blue) port>> [[psysml:9d4715a0-ecad-4cb9-af91-593b0378d847 ]] \r\n",
       "}\r\n",
       "}\r\n",
       "E6 - -:|> E3 [[psysml:bae878c2-3025-4ed8-bae0-781c13e39aed ]] \r\n",
       "E8 - -:|> E3 [[psysml:22f6621f-c82b-45b4-aad5-95fd1a975c3d ]] \r\n",
       "E7 -[thickness=3]- \"*\"E9 [[psysml:e347aa3d-31a4-4502-9422-b0b7e8733c17 ]] \r\n",
       "E7 -[thickness=3]- \"*\"E9 [[psysml:6852a8da-427c-4993-bbf6-22174e5f8d33 ]] \r\n",
       "@enduml\r\n",
       "\n",
       "PlantUML version 1.2020.13(Sat Jun 13 12:26:38 UTC 2020)\n",
       "(EPL source distribution)\n",
       "Java Runtime: OpenJDK Runtime Environment\n",
       "JVM: OpenJDK 64-Bit Server VM\n",
       "Default Encoding: UTF-8\n",
       "Language: en\n",
       "Country: null\n",
       "--></g></svg>"
      ]
     },
     "execution_count": 54,
     "metadata": {},
     "output_type": "execute_result"
    }
   ],
   "source": [
    "%viz --style=\"ORTHOLINE\" --view=\"Interconnection\" \"AliasTest\""
   ]
  },
  {
   "cell_type": "code",
   "execution_count": 55,
   "id": "b5e3f0e7",
   "metadata": {
    "execution": {
     "iopub.execute_input": "2022-04-22T09:51:34.793581Z",
     "iopub.status.busy": "2022-04-22T09:51:34.793175Z",
     "iopub.status.idle": "2022-04-22T09:51:34.798226Z",
     "shell.execute_reply": "2022-04-22T09:51:34.797901Z"
    }
   },
   "outputs": [
    {
     "data": {
      "image/svg+xml": [
       "<?xml version=\"1.0\" encoding=\"UTF-8\" standalone=\"no\"?><svg xmlns=\"http://www.w3.org/2000/svg\" xmlns:xlink=\"http://www.w3.org/1999/xlink\" contentScriptType=\"application/ecmascript\" contentStyleType=\"text/css\" height=\"12px\" preserveAspectRatio=\"none\" style=\"width:12px;height:12px;\" version=\"1.1\" viewBox=\"0 0 12 12\" width=\"12px\" zoomAndPan=\"magnify\"><defs/><g><!--MD5=[72934c63077099a26744516a776b4749]\n",
       "@startuml\r\n",
       "skinparam ranksep 8\r\n",
       "skinparam linetype ortho\r\n",
       "skinparam monochrome true\r\n",
       "skinparam classbackgroundcolor white\r\n",
       "skinparam shadowing false\r\n",
       "skinparam wrapWidth 300\r\n",
       "hide circle\r\n",
       "\r\n",
       "@enduml\r\n",
       "\n",
       "PlantUML version 1.2020.13(Sat Jun 13 12:26:38 UTC 2020)\n",
       "(EPL source distribution)\n",
       "Java Runtime: OpenJDK Runtime Environment\n",
       "JVM: OpenJDK 64-Bit Server VM\n",
       "Default Encoding: UTF-8\n",
       "Language: en\n",
       "Country: null\n",
       "--></g></svg>"
      ]
     },
     "execution_count": 55,
     "metadata": {},
     "output_type": "execute_result"
    }
   ],
   "source": [
    "%viz --style=\"ORTHOLINE\" --view=\"Action\" \"AliasTest\""
   ]
  },
  {
   "cell_type": "code",
   "execution_count": 56,
   "id": "de25e2bb",
   "metadata": {
    "execution": {
     "iopub.execute_input": "2022-04-22T09:51:34.848071Z",
     "iopub.status.busy": "2022-04-22T09:51:34.847679Z",
     "iopub.status.idle": "2022-04-22T09:51:34.852768Z",
     "shell.execute_reply": "2022-04-22T09:51:34.852427Z"
    }
   },
   "outputs": [
    {
     "data": {
      "image/svg+xml": [
       "<?xml version=\"1.0\" encoding=\"UTF-8\" standalone=\"no\"?><svg xmlns=\"http://www.w3.org/2000/svg\" xmlns:xlink=\"http://www.w3.org/1999/xlink\" contentScriptType=\"application/ecmascript\" contentStyleType=\"text/css\" height=\"12px\" preserveAspectRatio=\"none\" style=\"width:12px;height:12px;\" version=\"1.1\" viewBox=\"0 0 12 12\" width=\"12px\" zoomAndPan=\"magnify\"><defs/><g><!--MD5=[30fc1de5121c5abddedd55b44417fde8]\n",
       "@startuml\r\n",
       "skinparam roundcorner 20\r\n",
       "skinparam BoxPadding 20\r\n",
       "skinparam SequenceBoxBackgroundColor #white\r\n",
       "skinparam style strictuml\r\n",
       "skinparam maxMessageSize 100\r\n",
       "skinparam linetype ortho\r\n",
       "skinparam monochrome true\r\n",
       "skinparam classbackgroundcolor white\r\n",
       "skinparam shadowing false\r\n",
       "skinparam wrapWidth 300\r\n",
       "hide circle\r\n",
       "\r\n",
       "@enduml\r\n",
       "\n",
       "PlantUML version 1.2020.13(Sat Jun 13 12:26:38 UTC 2020)\n",
       "(EPL source distribution)\n",
       "Java Runtime: OpenJDK Runtime Environment\n",
       "JVM: OpenJDK 64-Bit Server VM\n",
       "Default Encoding: UTF-8\n",
       "Language: en\n",
       "Country: null\n",
       "--></g></svg>"
      ]
     },
     "execution_count": 56,
     "metadata": {},
     "output_type": "execute_result"
    }
   ],
   "source": [
    "%viz --style=\"ORTHOLINE\" --view=\"Sequence\" \"AliasTest\""
   ]
  },
  {
   "cell_type": "code",
   "execution_count": 57,
   "id": "34415c0c",
   "metadata": {
    "execution": {
     "iopub.execute_input": "2022-04-22T09:51:34.902537Z",
     "iopub.status.busy": "2022-04-22T09:51:34.902142Z",
     "iopub.status.idle": "2022-04-22T09:51:34.935159Z",
     "shell.execute_reply": "2022-04-22T09:51:34.934808Z"
    }
   },
   "outputs": [
    {
     "data": {
      "image/svg+xml": [
       "<?xml version=\"1.0\" encoding=\"UTF-8\" standalone=\"no\"?><svg xmlns=\"http://www.w3.org/2000/svg\" xmlns:xlink=\"http://www.w3.org/1999/xlink\" contentScriptType=\"application/ecmascript\" contentStyleType=\"text/css\" height=\"327px\" preserveAspectRatio=\"none\" style=\"width:406px;height:327px;\" version=\"1.1\" viewBox=\"0 0 406 327\" width=\"406px\" zoomAndPan=\"magnify\"><defs/><g><!--MD5=[fbc87193dbaf4d95561dea2c320d4a47]\n",
       "cluster E1--><a href=\"psysml:5020e8e8-e597-4a8a-8c84-9076441471bb\" target=\"_top\" title=\"psysml:5020e8e8-e597-4a8a-8c84-9076441471bb\" xlink:actuate=\"onRequest\" xlink:href=\"psysml:5020e8e8-e597-4a8a-8c84-9076441471bb\" xlink:show=\"new\" xlink:title=\"psysml:5020e8e8-e597-4a8a-8c84-9076441471bb\" xlink:type=\"simple\"><polygon fill=\"#FFFFFF\" points=\"16,6,84,6,91,28.2969,384,28.2969,384,315,16,315,16,6\" style=\"stroke: #000000; stroke-width: 1.5;\"/><line style=\"stroke: #000000; stroke-width: 1.5;\" x1=\"16\" x2=\"91\" y1=\"28.2969\" y2=\"28.2969\"/><text fill=\"#000000\" font-family=\"sans-serif\" font-size=\"14\" font-weight=\"bold\" lengthAdjust=\"spacingAndGlyphs\" textLength=\"62\" x=\"20\" y=\"20.9951\">AliasTest</text></a><!--MD5=[b4997ac47864f28c2f74865a473b2911]\n",
       "class E2--><a href=\"psysml:09023520-b272-4b76-a802-4be530536a95\" target=\"_top\" title=\"psysml:09023520-b272-4b76-a802-4be530536a95\" xlink:actuate=\"onRequest\" xlink:href=\"psysml:09023520-b272-4b76-a802-4be530536a95\" xlink:show=\"new\" xlink:title=\"psysml:09023520-b272-4b76-a802-4be530536a95\" xlink:type=\"simple\"><rect fill=\"#FFFFFF\" height=\"45.9375\" id=\"E2\" rx=\"10\" ry=\"10\" style=\"stroke: #383838; stroke-width: 1.5;\" width=\"165\" x=\"202.5\" y=\"41\"/><text fill=\"#000000\" font-family=\"sans-serif\" font-size=\"12\" font-style=\"italic\" lengthAdjust=\"spacingAndGlyphs\" textLength=\"69\" x=\"250.5\" y=\"57.1387\">«attribute»</text><text fill=\"#000000\" font-family=\"sans-serif\" font-size=\"12\" lengthAdjust=\"spacingAndGlyphs\" textLength=\"159\" x=\"205.5\" y=\"71.1074\">b :&gt; ISQSpaceTime::width</text><line style=\"stroke: #383838; stroke-width: 1.5;\" x1=\"203.5\" x2=\"366.5\" y1=\"78.9375\" y2=\"78.9375\"/></a><!--MD5=[09b614a08d8cba4a07c9adeb5e0fee81]\n",
       "class E3--><a href=\"psysml:2d23ecbc-8f8b-40e5-8168-7a4eefd95afa\" target=\"_top\" title=\"psysml:2d23ecbc-8f8b-40e5-8168-7a4eefd95afa\" xlink:actuate=\"onRequest\" xlink:href=\"psysml:2d23ecbc-8f8b-40e5-8168-7a4eefd95afa\" xlink:show=\"new\" xlink:title=\"psysml:2d23ecbc-8f8b-40e5-8168-7a4eefd95afa\" xlink:type=\"simple\"><rect fill=\"#FFFFFF\" height=\"45.9375\" id=\"E3\" style=\"stroke: #383838; stroke-width: 1.5;\" width=\"70\" x=\"170\" y=\"147\"/><text fill=\"#000000\" font-family=\"sans-serif\" font-size=\"12\" font-style=\"italic\" lengthAdjust=\"spacingAndGlyphs\" textLength=\"68\" x=\"171\" y=\"163.1387\">«part  def»</text><text fill=\"#000000\" font-family=\"sans-serif\" font-size=\"12\" lengthAdjust=\"spacingAndGlyphs\" textLength=\"16\" x=\"197\" y=\"177.1074\">P1</text><line style=\"stroke: #383838; stroke-width: 1.5;\" x1=\"171\" x2=\"239\" y1=\"184.9375\" y2=\"184.9375\"/></a><!--MD5=[ebbe1d658d1005bcc118a6aa81145e00]\n",
       "class E4--><a href=\"psysml:371120a0-4800-4c08-b9c5-19a2f97c5f1a\" target=\"_top\" title=\"psysml:371120a0-4800-4c08-b9c5-19a2f97c5f1a\" xlink:actuate=\"onRequest\" xlink:href=\"psysml:371120a0-4800-4c08-b9c5-19a2f97c5f1a\" xlink:show=\"new\" xlink:title=\"psysml:371120a0-4800-4c08-b9c5-19a2f97c5f1a\" xlink:type=\"simple\"><rect fill=\"#FFFFFF\" height=\"45.9375\" id=\"E4\" rx=\"10\" ry=\"10\" style=\"stroke: #383838; stroke-width: 1.5;\" width=\"50\" x=\"180\" y=\"253\"/><text fill=\"#000000\" font-family=\"sans-serif\" font-size=\"12\" font-style=\"italic\" lengthAdjust=\"spacingAndGlyphs\" textLength=\"40\" x=\"185\" y=\"269.1387\">«port»</text><text fill=\"#000000\" font-family=\"sans-serif\" font-size=\"12\" lengthAdjust=\"spacingAndGlyphs\" textLength=\"40\" x=\"183\" y=\"283.1074\">porig1</text><line style=\"stroke: #383838; stroke-width: 1.5;\" x1=\"181\" x2=\"229\" y1=\"290.9375\" y2=\"290.9375\"/></a><!--MD5=[270fce915f116d4de14055a7c1d9a0f3]\n",
       "class E5--><a href=\"psysml:23efd2aa-8423-4d75-9f93-6567d973731c\" target=\"_top\" title=\"psysml:23efd2aa-8423-4d75-9f93-6567d973731c\" xlink:actuate=\"onRequest\" xlink:href=\"psysml:23efd2aa-8423-4d75-9f93-6567d973731c\" xlink:show=\"new\" xlink:title=\"psysml:23efd2aa-8423-4d75-9f93-6567d973731c\" xlink:type=\"simple\"><rect fill=\"#FFFFFF\" height=\"45.9375\" id=\"E5\" rx=\"10\" ry=\"10\" style=\"stroke: #383838; stroke-width: 1.5;\" width=\"50\" x=\"117\" y=\"41\"/><text fill=\"#000000\" font-family=\"sans-serif\" font-size=\"12\" font-style=\"italic\" lengthAdjust=\"spacingAndGlyphs\" textLength=\"40\" x=\"122\" y=\"57.1387\">«part»</text><text fill=\"#000000\" font-family=\"sans-serif\" font-size=\"12\" lengthAdjust=\"spacingAndGlyphs\" textLength=\"40\" x=\"120\" y=\"71.1074\">p1: P1</text><line style=\"stroke: #383838; stroke-width: 1.5;\" x1=\"118\" x2=\"166\" y1=\"78.9375\" y2=\"78.9375\"/></a><!--MD5=[60a26617385b1d2d0262a64233df1f8d]\n",
       "class E6--><a href=\"psysml:a6a8a5d4-8051-439c-be85-1eee73d04018\" target=\"_top\" title=\"psysml:a6a8a5d4-8051-439c-be85-1eee73d04018\" xlink:actuate=\"onRequest\" xlink:href=\"psysml:a6a8a5d4-8051-439c-be85-1eee73d04018\" xlink:show=\"new\" xlink:title=\"psysml:a6a8a5d4-8051-439c-be85-1eee73d04018\" xlink:type=\"simple\"><rect fill=\"#FFFFFF\" height=\"45.9375\" id=\"E6\" rx=\"10\" ry=\"10\" style=\"stroke: #383838; stroke-width: 1.5;\" width=\"42\" x=\"93\" y=\"147\"/><text fill=\"#000000\" font-family=\"sans-serif\" font-size=\"12\" font-style=\"italic\" lengthAdjust=\"spacingAndGlyphs\" textLength=\"40\" x=\"94\" y=\"163.1387\">«port»</text><text fill=\"#000000\" font-family=\"sans-serif\" font-size=\"12\" lengthAdjust=\"spacingAndGlyphs\" textLength=\"24\" x=\"100\" y=\"177.1074\">po1</text><line style=\"stroke: #383838; stroke-width: 1.5;\" x1=\"94\" x2=\"134\" y1=\"184.9375\" y2=\"184.9375\"/></a><!--MD5=[2156ba9850f5573cc1fc38a6a4b2f02b]\n",
       "class E7--><a href=\"psysml:32558afe-9574-460d-81c7-219976cfcf7f\" target=\"_top\" title=\"psysml:32558afe-9574-460d-81c7-219976cfcf7f\" xlink:actuate=\"onRequest\" xlink:href=\"psysml:32558afe-9574-460d-81c7-219976cfcf7f\" xlink:show=\"new\" xlink:title=\"psysml:32558afe-9574-460d-81c7-219976cfcf7f\" xlink:type=\"simple\"><rect fill=\"#FFFFFF\" height=\"45.9375\" id=\"E7\" rx=\"10\" ry=\"10\" style=\"stroke: #383838; stroke-width: 1.5;\" width=\"50\" x=\"32\" y=\"41\"/><text fill=\"#000000\" font-family=\"sans-serif\" font-size=\"12\" font-style=\"italic\" lengthAdjust=\"spacingAndGlyphs\" textLength=\"40\" x=\"37\" y=\"57.1387\">«part»</text><text fill=\"#000000\" font-family=\"sans-serif\" font-size=\"12\" lengthAdjust=\"spacingAndGlyphs\" textLength=\"40\" x=\"35\" y=\"71.1074\">p2: P1</text><line style=\"stroke: #383838; stroke-width: 1.5;\" x1=\"33\" x2=\"81\" y1=\"78.9375\" y2=\"78.9375\"/></a><!--MD5=[b9389687b975829384b498ac4b7476b2]\n",
       "class E8--><a href=\"psysml:9d4715a0-ecad-4cb9-af91-593b0378d847\" target=\"_top\" title=\"psysml:9d4715a0-ecad-4cb9-af91-593b0378d847\" xlink:actuate=\"onRequest\" xlink:href=\"psysml:9d4715a0-ecad-4cb9-af91-593b0378d847\" xlink:show=\"new\" xlink:title=\"psysml:9d4715a0-ecad-4cb9-af91-593b0378d847\" xlink:type=\"simple\"><rect fill=\"#FFFFFF\" height=\"45.9375\" id=\"E8\" rx=\"10\" ry=\"10\" style=\"stroke: #383838; stroke-width: 1.5;\" width=\"46\" x=\"63\" y=\"253\"/><text fill=\"#000000\" font-family=\"sans-serif\" font-size=\"12\" font-style=\"italic\" lengthAdjust=\"spacingAndGlyphs\" textLength=\"40\" x=\"66\" y=\"269.1387\">«port»</text><text fill=\"#000000\" font-family=\"sans-serif\" font-size=\"12\" lengthAdjust=\"spacingAndGlyphs\" textLength=\"36\" x=\"66\" y=\"283.1074\">pdest</text><line style=\"stroke: #383838; stroke-width: 1.5;\" x1=\"64\" x2=\"108\" y1=\"290.9375\" y2=\"290.9375\"/></a><!--MD5=[4672eba38e49728da53d11aeb285b987]\n",
       "reverse link E3 to E4--><a href=\"psysml:77da464e-a07c-41d7-bf00-c994457c7429\" target=\"_top\" title=\"psysml:77da464e-a07c-41d7-bf00-c994457c7429\" xlink:actuate=\"onRequest\" xlink:href=\"psysml:77da464e-a07c-41d7-bf00-c994457c7429\" xlink:show=\"new\" xlink:title=\"psysml:77da464e-a07c-41d7-bf00-c994457c7429\" xlink:type=\"simple\"><path d=\"M196.67,206 C196.67,206 196.67,252.68 196.67,252.68 \" fill=\"none\" id=\"E3&lt;-E4\" style=\"stroke: #383838; stroke-width: 1.0;\"/><polygon fill=\"#FFFFFF\" points=\"196.67,193,192.67,199,196.67,205,200.67,199,196.67,193\" style=\"stroke: #383838; stroke-width: 1.0;\"/><text fill=\"#000000\" font-family=\"sans-serif\" font-size=\"13\" lengthAdjust=\"spacingAndGlyphs\" textLength=\"8\" x=\"185.5104\" y=\"241.8743\">1</text></a><!--MD5=[4672eba38e49728da53d11aeb285b987]\n",
       "reverse link E3 to E4--><a href=\"psysml:2fb80261-1acb-4246-9b34-6566336881f2\" target=\"_top\" title=\"psysml:2fb80261-1acb-4246-9b34-6566336881f2\" xlink:actuate=\"onRequest\" xlink:href=\"psysml:2fb80261-1acb-4246-9b34-6566336881f2\" xlink:show=\"new\" xlink:title=\"psysml:2fb80261-1acb-4246-9b34-6566336881f2\" xlink:type=\"simple\"><path d=\"M213.33,208 C213.33,208 213.33,252.68 213.33,252.68 \" fill=\"none\" id=\"E3&lt;-E4-1\" style=\"stroke: #383838; stroke-width: 1.0; stroke-dasharray: 7.0,7.0;\"/><ellipse cx=\"213.33\" cy=\"201\" fill=\"#FFFFFF\" rx=\"8\" ry=\"8\" style=\"stroke: #383838; stroke-width: 1.0;\"/><line style=\"stroke: #383838; stroke-width: 1.0;\" x1=\"213.33\" x2=\"213.33\" y1=\"209\" y2=\"193\"/><line style=\"stroke: #383838; stroke-width: 1.0;\" x1=\"205.33\" x2=\"221.33\" y1=\"201\" y2=\"201\"/><text fill=\"#000000\" font-family=\"sans-serif\" font-size=\"13\" lengthAdjust=\"spacingAndGlyphs\" textLength=\"8\" x=\"206.4396\" y=\"241.8743\">1</text></a><!--MD5=[e9be52314489bd878ff4c7144b63c9e1]\n",
       "link E5 to E3--><a href=\"psysml:bae878c2-3025-4ed8-bae0-781c13e39aed\" target=\"_top\" title=\"psysml:bae878c2-3025-4ed8-bae0-781c13e39aed\" xlink:actuate=\"onRequest\" xlink:href=\"psysml:bae878c2-3025-4ed8-bae0-781c13e39aed\" xlink:show=\"new\" xlink:title=\"psysml:bae878c2-3025-4ed8-bae0-781c13e39aed\" xlink:type=\"simple\"><path d=\"M151,87 C151,118.18 151,170 151,170 C151,170 152.89,170 152.89,170 \" fill=\"none\" id=\"E5-&gt;E3\" style=\"stroke: #383838; stroke-width: 1.0;\"/><polygon fill=\"#FFFFFF\" points=\"169.89,170,150.89,177,150.89,163,169.89,170\" style=\"stroke: #383838; stroke-width: 1.0;\"/><ellipse cx=\"145.19\" cy=\"175\" fill=\"#383838\" rx=\"2\" ry=\"2\" style=\"stroke: #383838; stroke-width: 1.0;\"/><ellipse cx=\"145.19\" cy=\"165\" fill=\"#383838\" rx=\"2\" ry=\"2\" style=\"stroke: #383838; stroke-width: 1.0;\"/></a><!--MD5=[85d356282659285ab4b2cfe2f634dd2b]\n",
       "reverse link E5 to E6--><a href=\"psysml:cd2d9195-2d40-49eb-a50a-4bb167712418\" target=\"_top\" title=\"psysml:cd2d9195-2d40-49eb-a50a-4bb167712418\" xlink:actuate=\"onRequest\" xlink:href=\"psysml:cd2d9195-2d40-49eb-a50a-4bb167712418\" xlink:show=\"new\" xlink:title=\"psysml:cd2d9195-2d40-49eb-a50a-4bb167712418\" xlink:type=\"simple\"><path d=\"M126,100 C126,100 126,146.68 126,146.68 \" fill=\"none\" id=\"E5&lt;-E6\" style=\"stroke: #383838; stroke-width: 1.0;\"/><polygon fill=\"#FFFFFF\" points=\"126,87,122,93,126,99,130,93,126,87\" style=\"stroke: #383838; stroke-width: 1.0;\"/><text fill=\"#000000\" font-family=\"sans-serif\" font-size=\"13\" lengthAdjust=\"spacingAndGlyphs\" textLength=\"8\" x=\"120.05\" y=\"135.8743\">1</text></a><!--MD5=[f667431f98296947986a1a7595a31603]\n",
       "link E6 to E4--><a href=\"psysml:9b4aa44d-c7fb-440f-8f9d-ccf8058f014a\" target=\"_top\" title=\"psysml:9b4aa44d-c7fb-440f-8f9d-ccf8058f014a\" xlink:actuate=\"onRequest\" xlink:href=\"psysml:9b4aa44d-c7fb-440f-8f9d-ccf8058f014a\" xlink:show=\"new\" xlink:title=\"psysml:9b4aa44d-c7fb-440f-8f9d-ccf8058f014a\" xlink:type=\"simple\"><path d=\"M122,193 C122,224.18 122,276 122,276 C122,276 159.65,276 159.65,276 \" fill=\"none\" id=\"E6-&gt;E4\" style=\"stroke: #383838; stroke-width: 1.0;\"/><polygon fill=\"#FFFFFF\" points=\"179.65,276,160.65,283,160.65,269,179.65,276\" style=\"stroke: #383838; stroke-width: 1.0;\"/><line style=\"stroke: #383838; stroke-width: 2.0;\" x1=\"156.85\" x2=\"156.85\" y1=\"283\" y2=\"269\"/></a><!--MD5=[14ccda38c055a5c0da953d572bc50960]\n",
       "link E7 to E3--><a href=\"psysml:22f6621f-c82b-45b4-aad5-95fd1a975c3d\" target=\"_top\" title=\"psysml:22f6621f-c82b-45b4-aad5-95fd1a975c3d\" xlink:actuate=\"onRequest\" xlink:href=\"psysml:22f6621f-c82b-45b4-aad5-95fd1a975c3d\" xlink:show=\"new\" xlink:title=\"psysml:22f6621f-c82b-45b4-aad5-95fd1a975c3d\" xlink:type=\"simple\"><path d=\"M77.25,87.09 C77.25,101.37 77.25,117 77.25,117 C77.25,117 186.25,117 186.25,117 C186.25,117 186.25,126.91 186.25,126.91 \" fill=\"none\" id=\"E7-&gt;E3\" style=\"stroke: #383838; stroke-width: 1.0;\"/><polygon fill=\"#FFFFFF\" points=\"186.25,146.91,179.25,127.91,193.25,127.91,186.25,146.91\" style=\"stroke: #383838; stroke-width: 1.0;\"/><ellipse cx=\"181.25\" cy=\"122.21\" fill=\"#383838\" rx=\"2\" ry=\"2\" style=\"stroke: #383838; stroke-width: 1.0;\"/><ellipse cx=\"191.25\" cy=\"122.21\" fill=\"#383838\" rx=\"2\" ry=\"2\" style=\"stroke: #383838; stroke-width: 1.0;\"/></a><!--MD5=[dc164f5e8a733ab456ef1add180e9e34]\n",
       "reverse link E7 to E8--><a href=\"psysml:22337106-f0e5-4c32-83fd-01b8d559ead1\" target=\"_top\" title=\"psysml:22337106-f0e5-4c32-83fd-01b8d559ead1\" xlink:actuate=\"onRequest\" xlink:href=\"psysml:22337106-f0e5-4c32-83fd-01b8d559ead1\" xlink:show=\"new\" xlink:title=\"psysml:22337106-f0e5-4c32-83fd-01b8d559ead1\" xlink:type=\"simple\"><path d=\"M67.75,100.09 C67.75,100.09 67.75,252.94 67.75,252.94 \" fill=\"none\" id=\"E7&lt;-E8\" style=\"stroke: #383838; stroke-width: 1.0;\"/><polygon fill=\"#FFFFFF\" points=\"67.75,87.09,63.75,93.09,67.75,99.09,71.75,93.09,67.75,87.09\" style=\"stroke: #383838; stroke-width: 1.0;\"/><text fill=\"#000000\" font-family=\"sans-serif\" font-size=\"13\" lengthAdjust=\"spacingAndGlyphs\" textLength=\"8\" x=\"53.7703\" y=\"241.8201\">1</text></a><!--MD5=[dc164f5e8a733ab456ef1add180e9e34]\n",
       "reverse link E7 to E8--><a href=\"psysml:3441a1bf-d119-4e2c-bd85-6011f03ceff2\" target=\"_top\" title=\"psysml:3441a1bf-d119-4e2c-bd85-6011f03ceff2\" xlink:actuate=\"onRequest\" xlink:href=\"psysml:3441a1bf-d119-4e2c-bd85-6011f03ceff2\" xlink:show=\"new\" xlink:title=\"psysml:3441a1bf-d119-4e2c-bd85-6011f03ceff2\" xlink:type=\"simple\"><path d=\"M72.5,102.09 C72.5,102.09 72.5,252.94 72.5,252.94 \" fill=\"none\" id=\"E7&lt;-E8-1\" style=\"stroke: #383838; stroke-width: 1.0; stroke-dasharray: 7.0,7.0;\"/><ellipse cx=\"72.5\" cy=\"95.09\" fill=\"#FFFFFF\" rx=\"8\" ry=\"8\" style=\"stroke: #383838; stroke-width: 1.0;\"/><line style=\"stroke: #383838; stroke-width: 1.0;\" x1=\"72.5\" x2=\"72.5\" y1=\"103.09\" y2=\"87.09\"/><line style=\"stroke: #383838; stroke-width: 1.0;\" x1=\"64.5\" x2=\"80.5\" y1=\"95.09\" y2=\"95.09\"/><text fill=\"#000000\" font-family=\"sans-serif\" font-size=\"13\" lengthAdjust=\"spacingAndGlyphs\" textLength=\"8\" x=\"69.9469\" y=\"241.8201\">1</text></a><!--MD5=[0a839d0f80c2d72d4b9b307f046d0de8]\n",
       "link E6 to E8--><a href=\"psysml:e347aa3d-31a4-4502-9422-b0b7e8733c17\" target=\"_top\" title=\"psysml:e347aa3d-31a4-4502-9422-b0b7e8733c17\" xlink:actuate=\"onRequest\" xlink:href=\"psysml:e347aa3d-31a4-4502-9422-b0b7e8733c17\" xlink:show=\"new\" xlink:title=\"psysml:e347aa3d-31a4-4502-9422-b0b7e8733c17\" xlink:type=\"simple\"><path d=\"M98.33,193 C98.33,210.66 98.33,234.94 98.33,252.68 \" fill=\"none\" id=\"E6-E8\" style=\"stroke: #383838; stroke-width: 3.0;\"/><text fill=\"#000000\" font-family=\"sans-serif\" font-size=\"13\" lengthAdjust=\"spacingAndGlyphs\" textLength=\"7\" x=\"93.5927\" y=\"241.8743\">*</text></a><!--MD5=[0a839d0f80c2d72d4b9b307f046d0de8]\n",
       "link E6 to E8--><a href=\"psysml:6852a8da-427c-4993-bbf6-22174e5f8d33\" target=\"_top\" title=\"psysml:6852a8da-427c-4993-bbf6-22174e5f8d33\" xlink:actuate=\"onRequest\" xlink:href=\"psysml:6852a8da-427c-4993-bbf6-22174e5f8d33\" xlink:show=\"new\" xlink:title=\"psysml:6852a8da-427c-4993-bbf6-22174e5f8d33\" xlink:type=\"simple\"><path d=\"M103.67,193 C103.67,210.66 103.67,234.94 103.67,252.68 \" fill=\"none\" id=\"E6-E8-1\" style=\"stroke: #383838; stroke-width: 3.0;\"/><text fill=\"#000000\" font-family=\"sans-serif\" font-size=\"13\" lengthAdjust=\"spacingAndGlyphs\" textLength=\"7\" x=\"109.0948\" y=\"241.8743\">*</text></a><!--MD5=[90c2ce07dd036cc91d22b3679eb62ac1]\n",
       "@startuml\r\n",
       "skinparam linetype ortho\r\n",
       "skinparam monochrome true\r\n",
       "skinparam classbackgroundcolor white\r\n",
       "skinparam shadowing false\r\n",
       "skinparam wrapWidth 300\r\n",
       "hide circle\r\n",
       "\r\n",
       "package \"AliasTest\" as E1  [[psysml:5020e8e8-e597-4a8a-8c84-9076441471bb ]]  {\r\n",
       "comp usage \"b :> ISQSpaceTime::width\" as E2  <<(T,blue) attribute>> [[psysml:09023520-b272-4b76-a802-4be530536a95 ]] {\r\n",
       "}\r\n",
       "comp def \"P1\" as E3  <<(T,blue) part  def>> [[psysml:2d23ecbc-8f8b-40e5-8168-7a4eefd95afa ]] {\r\n",
       "}\r\n",
       "comp usage \"porig1 \" as E4  <<(T,blue) port>> [[psysml:371120a0-4800-4c08-b9c5-19a2f97c5f1a ]] {\r\n",
       "}\r\n",
       "comp usage \"p1: P1 \" as E5  <<(T,blue) part>> [[psysml:23efd2aa-8423-4d75-9f93-6567d973731c ]] {\r\n",
       "}\r\n",
       "comp usage \"po1 \" as E6  <<(T,blue) port>> [[psysml:a6a8a5d4-8051-439c-be85-1eee73d04018 ]] {\r\n",
       "}\r\n",
       "comp usage \"p2: P1 \" as E7  <<(T,blue) part>> [[psysml:32558afe-9574-460d-81c7-219976cfcf7f ]] {\r\n",
       "}\r\n",
       "comp usage \"pdest \" as E8  <<(T,blue) port>> [[psysml:9d4715a0-ecad-4cb9-af91-593b0378d847 ]] {\r\n",
       "}\r\n",
       "}\r\n",
       "E3 o- - \"1\"E4 [[psysml:77da464e-a07c-41d7-bf00-c994457c7429 ]] \r\n",
       "E3 +.. \"1\"E4 [[psysml:2fb80261-1acb-4246-9b34-6566336881f2 ]] \r\n",
       "E5 - -:|> E3 [[psysml:bae878c2-3025-4ed8-bae0-781c13e39aed ]] \r\n",
       "E5 o- - \"1\"E6 [[psysml:cd2d9195-2d40-49eb-a50a-4bb167712418 ]] \r\n",
       "E6 - -||> E4 [[psysml:9b4aa44d-c7fb-440f-8f9d-ccf8058f014a ]] \r\n",
       "E7 - -:|> E3 [[psysml:22f6621f-c82b-45b4-aad5-95fd1a975c3d ]] \r\n",
       "E7 o- - \"1\"E8 [[psysml:22337106-f0e5-4c32-83fd-01b8d559ead1 ]] \r\n",
       "E7 +.. \"1\"E8 [[psysml:3441a1bf-d119-4e2c-bd85-6011f03ceff2 ]] \r\n",
       "E6 -[thickness=3]- \"*\"E8 [[psysml:e347aa3d-31a4-4502-9422-b0b7e8733c17 ]] \r\n",
       "E6 -[thickness=3]- \"*\"E8 [[psysml:6852a8da-427c-4993-bbf6-22174e5f8d33 ]] \r\n",
       "@enduml\r\n",
       "\n",
       "PlantUML version 1.2020.13(Sat Jun 13 12:26:38 UTC 2020)\n",
       "(EPL source distribution)\n",
       "Java Runtime: OpenJDK Runtime Environment\n",
       "JVM: OpenJDK 64-Bit Server VM\n",
       "Default Encoding: UTF-8\n",
       "Language: en\n",
       "Country: null\n",
       "--></g></svg>"
      ]
     },
     "execution_count": 57,
     "metadata": {},
     "output_type": "execute_result"
    }
   ],
   "source": [
    "%viz --style=\"ORTHOLINE\" --view=\"MIXED\" \"AliasTest\""
   ]
  }
 ],
 "metadata": {
  "kernelspec": {
   "display_name": "SysML",
   "language": "sysml",
   "name": "sysml"
  },
  "language_info": {
   "codemirror_mode": "sysml",
   "file_extension": ".sysml",
   "mimetype": "text/x-sysml",
   "name": "SysML",
   "pygments_lexer": "java",
   "version": "1.0.0"
  }
 },
 "nbformat": 4,
 "nbformat_minor": 5
}
