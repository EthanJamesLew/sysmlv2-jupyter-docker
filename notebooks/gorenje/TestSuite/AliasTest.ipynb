{
 "cells": [
  {
   "cell_type": "markdown",
   "id": "32f4e215",
   "metadata": {},
   "source": [
    "# SysML v2 Test Suite\n",
    "\n",
    "This can notebook can be cleared using menu `Edit --> Clear All Outputs` and then all cells can be\n",
    "run using menu `Run --> Run All Cells`.\n",
    "\n",
    "**WARNING**: This file is generated, all modifications here will be ignored.\n"
   ]
  },
  {
   "cell_type": "markdown",
   "id": "1a6c8585",
   "metadata": {},
   "source": [
    "## File: ../../sysml/src/examples/Simple Tests/AliasTest.sysml"
   ]
  },
  {
   "cell_type": "code",
   "execution_count": 1,
   "id": "766c43e5",
   "metadata": {
    "execution": {
     "iopub.execute_input": "2022-03-21T07:52:14.146868Z",
     "iopub.status.busy": "2022-03-21T07:52:14.145394Z",
     "iopub.status.idle": "2022-03-21T07:52:14.392770Z",
     "shell.execute_reply": "2022-03-21T07:52:14.392470Z"
    }
   },
   "outputs": [
    {
     "data": {
      "text/plain": [
       "Package AliasTest (5181216d-803a-4bd6-ac00-656c81e2c9ac)\n"
      ]
     },
     "execution_count": 1,
     "metadata": {},
     "output_type": "execute_result"
    }
   ],
   "source": [
    "package AliasTest {\n",
    "\timport ISQSpaceTime::breadth; // import of an alias\n",
    "\tattribute b :> breadth;\n",
    "\t\n",
    "    part def P1 {\n",
    "        port porig1;\n",
    "        alias po1 for porig1;\n",
    "    }\n",
    "\n",
    "    part p1 : P1 {\n",
    "        port po1 :>> po1;\n",
    "    }\n",
    "\n",
    "    part p2 : P1 {\n",
    "        port pdest;\n",
    "        alias pd1 for pdest;\n",
    "    }\n",
    "\n",
    "\n",
    "    connect p1.po1 to p2.pdest;\n",
    "\tconnect p1.po1 to p2.pd1;\n",
    "}"
   ]
  },
  {
   "cell_type": "code",
   "execution_count": 2,
   "id": "82663bbf",
   "metadata": {
    "execution": {
     "iopub.execute_input": "2022-03-21T07:52:14.444606Z",
     "iopub.status.busy": "2022-03-21T07:52:14.444210Z",
     "iopub.status.idle": "2022-03-21T07:52:14.992011Z",
     "shell.execute_reply": "2022-03-21T07:52:14.989882Z"
    }
   },
   "outputs": [
    {
     "data": {
      "image/svg+xml": [
       "<?xml version=\"1.0\" encoding=\"UTF-8\" standalone=\"no\"?><svg xmlns=\"http://www.w3.org/2000/svg\" xmlns:xlink=\"http://www.w3.org/1999/xlink\" contentScriptType=\"application/ecmascript\" contentStyleType=\"text/css\" height=\"423px\" preserveAspectRatio=\"none\" style=\"width:448px;height:423px;\" version=\"1.1\" viewBox=\"0 0 448 423\" width=\"448px\" zoomAndPan=\"magnify\"><defs/><g><!--MD5=[fbc87193dbaf4d95561dea2c320d4a47]\n",
       "cluster E1--><a href=\"psysml:6242facc-ff06-44d1-b4f3-467b2ef71334\" target=\"_top\" title=\"psysml:6242facc-ff06-44d1-b4f3-467b2ef71334\" xlink:actuate=\"onRequest\" xlink:href=\"psysml:6242facc-ff06-44d1-b4f3-467b2ef71334\" xlink:show=\"new\" xlink:title=\"psysml:6242facc-ff06-44d1-b4f3-467b2ef71334\" xlink:type=\"simple\"><polygon fill=\"#FFFFFF\" points=\"16,6,84,6,91,28.2969,426,28.2969,426,411,16,411,16,6\" style=\"stroke: #000000; stroke-width: 1.5;\"/><line style=\"stroke: #000000; stroke-width: 1.5;\" x1=\"16\" x2=\"91\" y1=\"28.2969\" y2=\"28.2969\"/><text fill=\"#000000\" font-family=\"sans-serif\" font-size=\"14\" font-weight=\"bold\" lengthAdjust=\"spacingAndGlyphs\" textLength=\"62\" x=\"20\" y=\"20.9951\">AliasTest</text></a><!--MD5=[b4997ac47864f28c2f74865a473b2911]\n",
       "class E2--><a href=\"psysml:c7d5118b-0b42-4b21-9071-aba180ff097b\" target=\"_top\" title=\"psysml:c7d5118b-0b42-4b21-9071-aba180ff097b\" xlink:actuate=\"onRequest\" xlink:href=\"psysml:c7d5118b-0b42-4b21-9071-aba180ff097b\" xlink:show=\"new\" xlink:title=\"psysml:c7d5118b-0b42-4b21-9071-aba180ff097b\" xlink:type=\"simple\"><rect fill=\"#FFFFFF\" height=\"45.9375\" id=\"E2\" rx=\"10\" ry=\"10\" style=\"stroke: #383838; stroke-width: 1.5;\" width=\"165\" x=\"244.5\" y=\"65\"/><text fill=\"#000000\" font-family=\"sans-serif\" font-size=\"12\" font-style=\"italic\" lengthAdjust=\"spacingAndGlyphs\" textLength=\"69\" x=\"292.5\" y=\"81.1387\">«attribute»</text><text fill=\"#000000\" font-family=\"sans-serif\" font-size=\"12\" lengthAdjust=\"spacingAndGlyphs\" textLength=\"159\" x=\"247.5\" y=\"95.1074\">b :&gt; ISQSpaceTime::width</text><line style=\"stroke: #383838; stroke-width: 1.5;\" x1=\"245.5\" x2=\"408.5\" y1=\"102.9375\" y2=\"102.9375\"/></a><!--MD5=[09b614a08d8cba4a07c9adeb5e0fee81]\n",
       "class E3--><a href=\"psysml:f3a385fe-c72f-4489-86aa-e832e0f5c54b\" target=\"_top\" title=\"psysml:f3a385fe-c72f-4489-86aa-e832e0f5c54b\" xlink:actuate=\"onRequest\" xlink:href=\"psysml:f3a385fe-c72f-4489-86aa-e832e0f5c54b\" xlink:show=\"new\" xlink:title=\"psysml:f3a385fe-c72f-4489-86aa-e832e0f5c54b\" xlink:type=\"simple\"><rect fill=\"#FFFFFF\" height=\"94.3516\" id=\"E3\" style=\"stroke: #383838; stroke-width: 1.5;\" width=\"70\" x=\"121\" y=\"195\"/><text fill=\"#000000\" font-family=\"sans-serif\" font-size=\"12\" font-style=\"italic\" lengthAdjust=\"spacingAndGlyphs\" textLength=\"68\" x=\"122\" y=\"211.1387\">«part  def»</text><text fill=\"#000000\" font-family=\"sans-serif\" font-size=\"12\" lengthAdjust=\"spacingAndGlyphs\" textLength=\"16\" x=\"148\" y=\"225.1074\">P1</text><line style=\"stroke: #383838; stroke-width: 1.5;\" x1=\"122\" x2=\"190\" y1=\"232.9375\" y2=\"232.9375\"/><text fill=\"#000000\" font-family=\"sans-serif\" font-size=\"11\" lengthAdjust=\"spacingAndGlyphs\" textLength=\"36\" x=\"127\" y=\"263.9526\">porig1</text><line style=\"stroke: #383838; stroke-width: 1.0;\" x1=\"122\" x2=\"141\" y1=\"247.3398\" y2=\"247.3398\"/><text fill=\"#000000\" font-family=\"sans-serif\" font-size=\"11\" lengthAdjust=\"spacingAndGlyphs\" textLength=\"30\" x=\"141\" y=\"250.6479\">ports</text><line style=\"stroke: #383838; stroke-width: 1.0;\" x1=\"171\" x2=\"190\" y1=\"247.3398\" y2=\"247.3398\"/><text fill=\"#000000\" font-family=\"sans-serif\" font-size=\"11\" lengthAdjust=\"spacingAndGlyphs\" textLength=\"0\" x=\"143\" y=\"282.7573\"/><rect fill=\"#FFFFFF\" height=\"2\" style=\"stroke: #000000; stroke-width: 1.0;\" width=\"2\" x=\"136\" y=\"277.9492\"/><line style=\"stroke: #000000; stroke-width: 1.0;\" x1=\"129\" x2=\"137\" y1=\"278.9492\" y2=\"278.9492\"/><line style=\"stroke: #000000; stroke-width: 1.0;\" x1=\"129\" x2=\"129\" y1=\"272.5469\" y2=\"278.9492\"/></a><!--MD5=[ebbe1d658d1005bcc118a6aa81145e00]\n",
       "class E4--><a href=\"psysml:12c3f617-858e-4877-bab3-72d077a58110\" target=\"_top\" title=\"psysml:12c3f617-858e-4877-bab3-72d077a58110\" xlink:actuate=\"onRequest\" xlink:href=\"psysml:12c3f617-858e-4877-bab3-72d077a58110\" xlink:show=\"new\" xlink:title=\"psysml:12c3f617-858e-4877-bab3-72d077a58110\" xlink:type=\"simple\"><rect fill=\"#FFFFFF\" height=\"45.9375\" id=\"E4\" rx=\"10\" ry=\"10\" style=\"stroke: #383838; stroke-width: 1.5;\" width=\"50\" x=\"131\" y=\"349\"/><text fill=\"#000000\" font-family=\"sans-serif\" font-size=\"12\" font-style=\"italic\" lengthAdjust=\"spacingAndGlyphs\" textLength=\"40\" x=\"136\" y=\"365.1387\">«port»</text><text fill=\"#000000\" font-family=\"sans-serif\" font-size=\"12\" lengthAdjust=\"spacingAndGlyphs\" textLength=\"40\" x=\"134\" y=\"379.1074\">porig1</text><line style=\"stroke: #383838; stroke-width: 1.5;\" x1=\"132\" x2=\"180\" y1=\"386.9375\" y2=\"386.9375\"/></a><!--MD5=[270fce915f116d4de14055a7c1d9a0f3]\n",
       "class E5--><a href=\"psysml:f19cd7cf-ead7-487d-acf0-998c02877f08\" target=\"_top\" title=\"psysml:f19cd7cf-ead7-487d-acf0-998c02877f08\" xlink:actuate=\"onRequest\" xlink:href=\"psysml:f19cd7cf-ead7-487d-acf0-998c02877f08\" xlink:show=\"new\" xlink:title=\"psysml:f19cd7cf-ead7-487d-acf0-998c02877f08\" xlink:type=\"simple\"><rect fill=\"#FFFFFF\" height=\"88.3516\" id=\"E5\" rx=\"10\" ry=\"10\" style=\"stroke: #383838; stroke-width: 1.5;\" width=\"92\" x=\"117\" y=\"44\"/><text fill=\"#000000\" font-family=\"sans-serif\" font-size=\"12\" font-style=\"italic\" lengthAdjust=\"spacingAndGlyphs\" textLength=\"40\" x=\"143\" y=\"60.1387\">«part»</text><text fill=\"#000000\" font-family=\"sans-serif\" font-size=\"12\" lengthAdjust=\"spacingAndGlyphs\" textLength=\"40\" x=\"141\" y=\"74.1074\">p1: P1</text><line style=\"stroke: #383838; stroke-width: 1.5;\" x1=\"118\" x2=\"208\" y1=\"81.9375\" y2=\"81.9375\"/><text fill=\"#000000\" font-family=\"sans-serif\" font-size=\"11\" lengthAdjust=\"spacingAndGlyphs\" textLength=\"21\" x=\"123\" y=\"112.9526\">po1</text><text fill=\"#000000\" font-family=\"sans-serif\" font-size=\"11\" font-style=\"italic\" lengthAdjust=\"spacingAndGlyphs\" textLength=\"80\" x=\"123\" y=\"125.7573\">:&gt;&gt;P1::porig1</text><line style=\"stroke: #383838; stroke-width: 1.0;\" x1=\"118\" x2=\"148\" y1=\"96.3398\" y2=\"96.3398\"/><text fill=\"#000000\" font-family=\"sans-serif\" font-size=\"11\" lengthAdjust=\"spacingAndGlyphs\" textLength=\"30\" x=\"148\" y=\"99.6479\">ports</text><line style=\"stroke: #383838; stroke-width: 1.0;\" x1=\"178\" x2=\"208\" y1=\"96.3398\" y2=\"96.3398\"/></a><!--MD5=[60a26617385b1d2d0262a64233df1f8d]\n",
       "class E6--><a href=\"psysml:3758ddaf-2d7c-4372-b46d-cbe5af56d102\" target=\"_top\" title=\"psysml:3758ddaf-2d7c-4372-b46d-cbe5af56d102\" xlink:actuate=\"onRequest\" xlink:href=\"psysml:3758ddaf-2d7c-4372-b46d-cbe5af56d102\" xlink:show=\"new\" xlink:title=\"psysml:3758ddaf-2d7c-4372-b46d-cbe5af56d102\" xlink:type=\"simple\"><rect fill=\"#FFFFFF\" height=\"94.3516\" id=\"E6\" rx=\"10\" ry=\"10\" style=\"stroke: #383838; stroke-width: 1.5;\" width=\"50\" x=\"32\" y=\"41\"/><text fill=\"#000000\" font-family=\"sans-serif\" font-size=\"12\" font-style=\"italic\" lengthAdjust=\"spacingAndGlyphs\" textLength=\"40\" x=\"37\" y=\"57.1387\">«part»</text><text fill=\"#000000\" font-family=\"sans-serif\" font-size=\"12\" lengthAdjust=\"spacingAndGlyphs\" textLength=\"40\" x=\"35\" y=\"71.1074\">p2: P1</text><line style=\"stroke: #383838; stroke-width: 1.5;\" x1=\"33\" x2=\"81\" y1=\"78.9375\" y2=\"78.9375\"/><text fill=\"#000000\" font-family=\"sans-serif\" font-size=\"11\" lengthAdjust=\"spacingAndGlyphs\" textLength=\"32\" x=\"38\" y=\"109.9526\">pdest</text><line style=\"stroke: #383838; stroke-width: 1.0;\" x1=\"33\" x2=\"42\" y1=\"93.3398\" y2=\"93.3398\"/><text fill=\"#000000\" font-family=\"sans-serif\" font-size=\"11\" lengthAdjust=\"spacingAndGlyphs\" textLength=\"30\" x=\"42\" y=\"96.6479\">ports</text><line style=\"stroke: #383838; stroke-width: 1.0;\" x1=\"72\" x2=\"81\" y1=\"93.3398\" y2=\"93.3398\"/><text fill=\"#000000\" font-family=\"sans-serif\" font-size=\"11\" lengthAdjust=\"spacingAndGlyphs\" textLength=\"0\" x=\"54\" y=\"128.7573\"/><rect fill=\"#FFFFFF\" height=\"2\" style=\"stroke: #000000; stroke-width: 1.0;\" width=\"2\" x=\"47\" y=\"123.9492\"/><line style=\"stroke: #000000; stroke-width: 1.0;\" x1=\"40\" x2=\"48\" y1=\"124.9492\" y2=\"124.9492\"/><line style=\"stroke: #000000; stroke-width: 1.0;\" x1=\"40\" x2=\"40\" y1=\"118.5469\" y2=\"124.9492\"/></a><!--MD5=[2156ba9850f5573cc1fc38a6a4b2f02b]\n",
       "class E7--><a href=\"psysml:009efb1a-81d8-4f5e-8e24-a878e8625106\" target=\"_top\" title=\"psysml:009efb1a-81d8-4f5e-8e24-a878e8625106\" xlink:actuate=\"onRequest\" xlink:href=\"psysml:009efb1a-81d8-4f5e-8e24-a878e8625106\" xlink:show=\"new\" xlink:title=\"psysml:009efb1a-81d8-4f5e-8e24-a878e8625106\" xlink:type=\"simple\"><rect fill=\"#FFFFFF\" height=\"45.9375\" id=\"E7\" rx=\"10\" ry=\"10\" style=\"stroke: #383838; stroke-width: 1.5;\" width=\"46\" x=\"34\" y=\"219\"/><text fill=\"#000000\" font-family=\"sans-serif\" font-size=\"12\" font-style=\"italic\" lengthAdjust=\"spacingAndGlyphs\" textLength=\"40\" x=\"37\" y=\"235.1387\">«port»</text><text fill=\"#000000\" font-family=\"sans-serif\" font-size=\"12\" lengthAdjust=\"spacingAndGlyphs\" textLength=\"36\" x=\"37\" y=\"249.1074\">pdest</text><line style=\"stroke: #383838; stroke-width: 1.5;\" x1=\"35\" x2=\"79\" y1=\"256.9375\" y2=\"256.9375\"/></a><!--MD5=[4672eba38e49728da53d11aeb285b987]\n",
       "reverse link E3 to E4--><a href=\"psysml:dd790abf-ac6c-4371-bdbb-56cf5ab0181d\" target=\"_top\" title=\"psysml:dd790abf-ac6c-4371-bdbb-56cf5ab0181d\" xlink:actuate=\"onRequest\" xlink:href=\"psysml:dd790abf-ac6c-4371-bdbb-56cf5ab0181d\" xlink:show=\"new\" xlink:title=\"psysml:dd790abf-ac6c-4371-bdbb-56cf5ab0181d\" xlink:type=\"simple\"><path d=\"M156,304.32 C156,320.28 156,336.46 156,348.89 \" fill=\"none\" id=\"E3&lt;-E4\" style=\"stroke: #383838; stroke-width: 1.0; stroke-dasharray: 7.0,7.0;\"/><ellipse cx=\"156\" cy=\"297.21\" fill=\"#FFFFFF\" rx=\"8\" ry=\"8\" style=\"stroke: #383838; stroke-width: 1.0;\"/><line style=\"stroke: #383838; stroke-width: 1.0;\" x1=\"156\" x2=\"156\" y1=\"305.21\" y2=\"289.21\"/><line style=\"stroke: #383838; stroke-width: 1.0;\" x1=\"148\" x2=\"164\" y1=\"297.21\" y2=\"297.21\"/><text fill=\"#000000\" font-family=\"sans-serif\" font-size=\"13\" lengthAdjust=\"spacingAndGlyphs\" textLength=\"8\" x=\"146.925\" y=\"337.7567\">1</text></a><!--MD5=[e9be52314489bd878ff4c7144b63c9e1]\n",
       "link E5 to E3--><a href=\"psysml:a968a559-ae75-4ff7-b264-66e5a143558d\" target=\"_top\" title=\"psysml:a968a559-ae75-4ff7-b264-66e5a143558d\" xlink:actuate=\"onRequest\" xlink:href=\"psysml:a968a559-ae75-4ff7-b264-66e5a143558d\" xlink:show=\"new\" xlink:title=\"psysml:a968a559-ae75-4ff7-b264-66e5a143558d\" xlink:type=\"simple\"><path d=\"M161.01,132.15 C160.41,145.3 159.73,160.08 159.07,174.4 \" fill=\"none\" id=\"E5-&gt;E3\" style=\"stroke: #383838; stroke-width: 1.0;\"/><polygon fill=\"#FFFFFF\" points=\"158.13,194.82,152.0056,175.52,165.991,176.1597,158.13,194.82\" style=\"stroke: #383838; stroke-width: 1.0;\"/><ellipse cx=\"154.264\" cy=\"169.9173\" fill=\"#383838\" rx=\"2\" ry=\"2\" style=\"stroke: #383838; stroke-width: 1.0;\"/><ellipse cx=\"164.2535\" cy=\"170.3743\" fill=\"#383838\" rx=\"2\" ry=\"2\" style=\"stroke: #383838; stroke-width: 1.0;\"/></a><!--MD5=[a717450b82c80b9240a525fa862496af]\n",
       "link E6 to E3--><a href=\"psysml:a1db7df5-c75d-4551-8d1a-744022949b4d\" target=\"_top\" title=\"psysml:a1db7df5-c75d-4551-8d1a-744022949b4d\" xlink:actuate=\"onRequest\" xlink:href=\"psysml:a1db7df5-c75d-4551-8d1a-744022949b4d\" xlink:show=\"new\" xlink:title=\"psysml:a1db7df5-c75d-4551-8d1a-744022949b4d\" xlink:type=\"simple\"><path d=\"M82.24,127.75 C92.15,142.97 103.8,160.85 114.86,177.84 \" fill=\"none\" id=\"E6-&gt;E3\" style=\"stroke: #383838; stroke-width: 1.0;\"/><polygon fill=\"#FFFFFF\" points=\"125.87,194.74,109.6276,182.6493,121.3542,175.0015,125.87,194.74\" style=\"stroke: #383838; stroke-width: 1.0;\"/><ellipse cx=\"108.1891\" cy=\"176.7824\" fill=\"#383838\" rx=\"2\" ry=\"2\" style=\"stroke: #383838; stroke-width: 1.0;\"/><ellipse cx=\"116.5652\" cy=\"171.3197\" fill=\"#383838\" rx=\"2\" ry=\"2\" style=\"stroke: #383838; stroke-width: 1.0;\"/></a><!--MD5=[3f50a3473f1dfb74d3f76443e03635af]\n",
       "reverse link E6 to E7--><a href=\"psysml:b8781950-4d8a-4fb9-9fe0-7c7847cd278f\" target=\"_top\" title=\"psysml:b8781950-4d8a-4fb9-9fe0-7c7847cd278f\" xlink:actuate=\"onRequest\" xlink:href=\"psysml:b8781950-4d8a-4fb9-9fe0-7c7847cd278f\" xlink:show=\"new\" xlink:title=\"psysml:b8781950-4d8a-4fb9-9fe0-7c7847cd278f\" xlink:type=\"simple\"><path d=\"M57,150.16 C57,174.43 57,200.81 57,218.85 \" fill=\"none\" id=\"E6&lt;-E7\" style=\"stroke: #383838; stroke-width: 1.0; stroke-dasharray: 7.0,7.0;\"/><ellipse cx=\"57\" cy=\"143.02\" fill=\"#FFFFFF\" rx=\"8\" ry=\"8\" style=\"stroke: #383838; stroke-width: 1.0;\"/><line style=\"stroke: #383838; stroke-width: 1.0;\" x1=\"57\" x2=\"57\" y1=\"151.02\" y2=\"135.02\"/><line style=\"stroke: #383838; stroke-width: 1.0;\" x1=\"49\" x2=\"65\" y1=\"143.02\" y2=\"143.02\"/><text fill=\"#000000\" font-family=\"sans-serif\" font-size=\"13\" lengthAdjust=\"spacingAndGlyphs\" textLength=\"8\" x=\"47.975\" y=\"208.0879\">1</text></a><!--MD5=[2b91871eb950d2a5da07a9d941821a32]\n",
       "@startuml\r\n",
       " skinparam monochrome true\r\n",
       "skinparam classbackgroundcolor white\r\n",
       "skinparam shadowing false\r\n",
       "skinparam wrapWidth 300\r\n",
       "hide circle\r\n",
       "\r\n",
       "package \"AliasTest\" as E1  [[psysml:6242facc-ff06-44d1-b4f3-467b2ef71334 ]]  {\r\n",
       "comp usage \"b :> ISQSpaceTime::width\" as E2  <<(T,blue) attribute>> [[psysml:c7d5118b-0b42-4b21-9071-aba180ff097b ]] {\r\n",
       "}\r\n",
       "comp def \"P1\" as E3  <<(T,blue) part  def>> [[psysml:f3a385fe-c72f-4489-86aa-e832e0f5c54b ]] {\r\n",
       "- - ports - -\r\n",
       "porig1\r\n",
       "|_ \r\n",
       "}\r\n",
       "comp usage \"porig1 \" as E4  <<(T,blue) port>> [[psysml:12c3f617-858e-4877-bab3-72d077a58110 ]] {\r\n",
       "}\r\n",
       "comp usage \"p1: P1 \" as E5  <<(T,blue) part>> [[psysml:f19cd7cf-ead7-487d-acf0-998c02877f08 ]] {\r\n",
       "- - ports - -\r\n",
       "po1\\n//:>>P1::porig1// \r\n",
       "}\r\n",
       "comp usage \"p2: P1 \" as E6  <<(T,blue) part>> [[psysml:3758ddaf-2d7c-4372-b46d-cbe5af56d102 ]] {\r\n",
       "- - ports - -\r\n",
       "pdest\r\n",
       "|_ \r\n",
       "}\r\n",
       "comp usage \"pdest \" as E7  <<(T,blue) port>> [[psysml:009efb1a-81d8-4f5e-8e24-a878e8625106 ]] {\r\n",
       "}\r\n",
       "}\r\n",
       "E3 +.. \"1\"E4 [[psysml:dd790abf-ac6c-4371-bdbb-56cf5ab0181d ]] \r\n",
       "E5 - -:|> E3 [[psysml:a968a559-ae75-4ff7-b264-66e5a143558d ]] \r\n",
       "E6 - -:|> E3 [[psysml:a1db7df5-c75d-4551-8d1a-744022949b4d ]] \r\n",
       "E6 +.. \"1\"E7 [[psysml:b8781950-4d8a-4fb9-9fe0-7c7847cd278f ]] \r\n",
       "@enduml\r\n",
       "\n",
       "PlantUML version 1.2020.13(Sat Jun 13 12:26:38 UTC 2020)\n",
       "(EPL source distribution)\n",
       "Java Runtime: OpenJDK Runtime Environment\n",
       "JVM: OpenJDK 64-Bit Server VM\n",
       "Default Encoding: UTF-8\n",
       "Language: en\n",
       "Country: null\n",
       "--></g></svg>"
      ]
     },
     "execution_count": 2,
     "metadata": {},
     "output_type": "execute_result"
    }
   ],
   "source": [
    "%viz --style=\"COMPTREE\" --view=\"Default\" \"AliasTest\""
   ]
  },
  {
   "cell_type": "code",
   "execution_count": 3,
   "id": "0f10aed8",
   "metadata": {
    "execution": {
     "iopub.execute_input": "2022-03-21T07:52:15.041303Z",
     "iopub.status.busy": "2022-03-21T07:52:15.040821Z",
     "iopub.status.idle": "2022-03-21T07:52:15.163205Z",
     "shell.execute_reply": "2022-03-21T07:52:15.161690Z"
    }
   },
   "outputs": [
    {
     "data": {
      "image/svg+xml": [
       "<?xml version=\"1.0\" encoding=\"UTF-8\" standalone=\"no\"?><svg xmlns=\"http://www.w3.org/2000/svg\" xmlns:xlink=\"http://www.w3.org/1999/xlink\" contentScriptType=\"application/ecmascript\" contentStyleType=\"text/css\" height=\"423px\" preserveAspectRatio=\"none\" style=\"width:448px;height:423px;\" version=\"1.1\" viewBox=\"0 0 448 423\" width=\"448px\" zoomAndPan=\"magnify\"><defs/><g><!--MD5=[fbc87193dbaf4d95561dea2c320d4a47]\n",
       "cluster E1--><a href=\"psysml:6242facc-ff06-44d1-b4f3-467b2ef71334\" target=\"_top\" title=\"psysml:6242facc-ff06-44d1-b4f3-467b2ef71334\" xlink:actuate=\"onRequest\" xlink:href=\"psysml:6242facc-ff06-44d1-b4f3-467b2ef71334\" xlink:show=\"new\" xlink:title=\"psysml:6242facc-ff06-44d1-b4f3-467b2ef71334\" xlink:type=\"simple\"><polygon fill=\"#FFFFFF\" points=\"16,6,84,6,91,28.2969,426,28.2969,426,411,16,411,16,6\" style=\"stroke: #000000; stroke-width: 1.5;\"/><line style=\"stroke: #000000; stroke-width: 1.5;\" x1=\"16\" x2=\"91\" y1=\"28.2969\" y2=\"28.2969\"/><text fill=\"#000000\" font-family=\"sans-serif\" font-size=\"14\" font-weight=\"bold\" lengthAdjust=\"spacingAndGlyphs\" textLength=\"62\" x=\"20\" y=\"20.9951\">AliasTest</text></a><!--MD5=[b4997ac47864f28c2f74865a473b2911]\n",
       "class E2--><a href=\"psysml:c7d5118b-0b42-4b21-9071-aba180ff097b\" target=\"_top\" title=\"psysml:c7d5118b-0b42-4b21-9071-aba180ff097b\" xlink:actuate=\"onRequest\" xlink:href=\"psysml:c7d5118b-0b42-4b21-9071-aba180ff097b\" xlink:show=\"new\" xlink:title=\"psysml:c7d5118b-0b42-4b21-9071-aba180ff097b\" xlink:type=\"simple\"><rect fill=\"#FFFFFF\" height=\"45.9375\" id=\"E2\" rx=\"10\" ry=\"10\" style=\"stroke: #383838; stroke-width: 1.5;\" width=\"165\" x=\"244.5\" y=\"65\"/><text fill=\"#000000\" font-family=\"sans-serif\" font-size=\"12\" font-style=\"italic\" lengthAdjust=\"spacingAndGlyphs\" textLength=\"69\" x=\"292.5\" y=\"81.1387\">«attribute»</text><text fill=\"#000000\" font-family=\"sans-serif\" font-size=\"12\" lengthAdjust=\"spacingAndGlyphs\" textLength=\"159\" x=\"247.5\" y=\"95.1074\">b :&gt; ISQSpaceTime::width</text><line style=\"stroke: #383838; stroke-width: 1.5;\" x1=\"245.5\" x2=\"408.5\" y1=\"102.9375\" y2=\"102.9375\"/></a><!--MD5=[09b614a08d8cba4a07c9adeb5e0fee81]\n",
       "class E3--><a href=\"psysml:f3a385fe-c72f-4489-86aa-e832e0f5c54b\" target=\"_top\" title=\"psysml:f3a385fe-c72f-4489-86aa-e832e0f5c54b\" xlink:actuate=\"onRequest\" xlink:href=\"psysml:f3a385fe-c72f-4489-86aa-e832e0f5c54b\" xlink:show=\"new\" xlink:title=\"psysml:f3a385fe-c72f-4489-86aa-e832e0f5c54b\" xlink:type=\"simple\"><rect fill=\"#FFFFFF\" height=\"94.3516\" id=\"E3\" style=\"stroke: #383838; stroke-width: 1.5;\" width=\"70\" x=\"121\" y=\"195\"/><text fill=\"#000000\" font-family=\"sans-serif\" font-size=\"12\" font-style=\"italic\" lengthAdjust=\"spacingAndGlyphs\" textLength=\"68\" x=\"122\" y=\"211.1387\">«part  def»</text><text fill=\"#000000\" font-family=\"sans-serif\" font-size=\"12\" lengthAdjust=\"spacingAndGlyphs\" textLength=\"16\" x=\"148\" y=\"225.1074\">P1</text><line style=\"stroke: #383838; stroke-width: 1.5;\" x1=\"122\" x2=\"190\" y1=\"232.9375\" y2=\"232.9375\"/><text fill=\"#000000\" font-family=\"sans-serif\" font-size=\"11\" lengthAdjust=\"spacingAndGlyphs\" textLength=\"36\" x=\"127\" y=\"263.9526\">porig1</text><line style=\"stroke: #383838; stroke-width: 1.0;\" x1=\"122\" x2=\"141\" y1=\"247.3398\" y2=\"247.3398\"/><text fill=\"#000000\" font-family=\"sans-serif\" font-size=\"11\" lengthAdjust=\"spacingAndGlyphs\" textLength=\"30\" x=\"141\" y=\"250.6479\">ports</text><line style=\"stroke: #383838; stroke-width: 1.0;\" x1=\"171\" x2=\"190\" y1=\"247.3398\" y2=\"247.3398\"/><text fill=\"#000000\" font-family=\"sans-serif\" font-size=\"11\" lengthAdjust=\"spacingAndGlyphs\" textLength=\"0\" x=\"143\" y=\"282.7573\"/><rect fill=\"#FFFFFF\" height=\"2\" style=\"stroke: #000000; stroke-width: 1.0;\" width=\"2\" x=\"136\" y=\"277.9492\"/><line style=\"stroke: #000000; stroke-width: 1.0;\" x1=\"129\" x2=\"137\" y1=\"278.9492\" y2=\"278.9492\"/><line style=\"stroke: #000000; stroke-width: 1.0;\" x1=\"129\" x2=\"129\" y1=\"272.5469\" y2=\"278.9492\"/></a><!--MD5=[ebbe1d658d1005bcc118a6aa81145e00]\n",
       "class E4--><a href=\"psysml:12c3f617-858e-4877-bab3-72d077a58110\" target=\"_top\" title=\"psysml:12c3f617-858e-4877-bab3-72d077a58110\" xlink:actuate=\"onRequest\" xlink:href=\"psysml:12c3f617-858e-4877-bab3-72d077a58110\" xlink:show=\"new\" xlink:title=\"psysml:12c3f617-858e-4877-bab3-72d077a58110\" xlink:type=\"simple\"><rect fill=\"#FFFFFF\" height=\"45.9375\" id=\"E4\" rx=\"10\" ry=\"10\" style=\"stroke: #383838; stroke-width: 1.5;\" width=\"50\" x=\"131\" y=\"349\"/><text fill=\"#000000\" font-family=\"sans-serif\" font-size=\"12\" font-style=\"italic\" lengthAdjust=\"spacingAndGlyphs\" textLength=\"40\" x=\"136\" y=\"365.1387\">«port»</text><text fill=\"#000000\" font-family=\"sans-serif\" font-size=\"12\" lengthAdjust=\"spacingAndGlyphs\" textLength=\"40\" x=\"134\" y=\"379.1074\">porig1</text><line style=\"stroke: #383838; stroke-width: 1.5;\" x1=\"132\" x2=\"180\" y1=\"386.9375\" y2=\"386.9375\"/></a><!--MD5=[270fce915f116d4de14055a7c1d9a0f3]\n",
       "class E5--><a href=\"psysml:f19cd7cf-ead7-487d-acf0-998c02877f08\" target=\"_top\" title=\"psysml:f19cd7cf-ead7-487d-acf0-998c02877f08\" xlink:actuate=\"onRequest\" xlink:href=\"psysml:f19cd7cf-ead7-487d-acf0-998c02877f08\" xlink:show=\"new\" xlink:title=\"psysml:f19cd7cf-ead7-487d-acf0-998c02877f08\" xlink:type=\"simple\"><rect fill=\"#FFFFFF\" height=\"88.3516\" id=\"E5\" rx=\"10\" ry=\"10\" style=\"stroke: #383838; stroke-width: 1.5;\" width=\"92\" x=\"117\" y=\"44\"/><text fill=\"#000000\" font-family=\"sans-serif\" font-size=\"12\" font-style=\"italic\" lengthAdjust=\"spacingAndGlyphs\" textLength=\"40\" x=\"143\" y=\"60.1387\">«part»</text><text fill=\"#000000\" font-family=\"sans-serif\" font-size=\"12\" lengthAdjust=\"spacingAndGlyphs\" textLength=\"40\" x=\"141\" y=\"74.1074\">p1: P1</text><line style=\"stroke: #383838; stroke-width: 1.5;\" x1=\"118\" x2=\"208\" y1=\"81.9375\" y2=\"81.9375\"/><text fill=\"#000000\" font-family=\"sans-serif\" font-size=\"11\" lengthAdjust=\"spacingAndGlyphs\" textLength=\"21\" x=\"123\" y=\"112.9526\">po1</text><text fill=\"#000000\" font-family=\"sans-serif\" font-size=\"11\" font-style=\"italic\" lengthAdjust=\"spacingAndGlyphs\" textLength=\"80\" x=\"123\" y=\"125.7573\">:&gt;&gt;P1::porig1</text><line style=\"stroke: #383838; stroke-width: 1.0;\" x1=\"118\" x2=\"148\" y1=\"96.3398\" y2=\"96.3398\"/><text fill=\"#000000\" font-family=\"sans-serif\" font-size=\"11\" lengthAdjust=\"spacingAndGlyphs\" textLength=\"30\" x=\"148\" y=\"99.6479\">ports</text><line style=\"stroke: #383838; stroke-width: 1.0;\" x1=\"178\" x2=\"208\" y1=\"96.3398\" y2=\"96.3398\"/></a><!--MD5=[60a26617385b1d2d0262a64233df1f8d]\n",
       "class E6--><a href=\"psysml:3758ddaf-2d7c-4372-b46d-cbe5af56d102\" target=\"_top\" title=\"psysml:3758ddaf-2d7c-4372-b46d-cbe5af56d102\" xlink:actuate=\"onRequest\" xlink:href=\"psysml:3758ddaf-2d7c-4372-b46d-cbe5af56d102\" xlink:show=\"new\" xlink:title=\"psysml:3758ddaf-2d7c-4372-b46d-cbe5af56d102\" xlink:type=\"simple\"><rect fill=\"#FFFFFF\" height=\"94.3516\" id=\"E6\" rx=\"10\" ry=\"10\" style=\"stroke: #383838; stroke-width: 1.5;\" width=\"50\" x=\"32\" y=\"41\"/><text fill=\"#000000\" font-family=\"sans-serif\" font-size=\"12\" font-style=\"italic\" lengthAdjust=\"spacingAndGlyphs\" textLength=\"40\" x=\"37\" y=\"57.1387\">«part»</text><text fill=\"#000000\" font-family=\"sans-serif\" font-size=\"12\" lengthAdjust=\"spacingAndGlyphs\" textLength=\"40\" x=\"35\" y=\"71.1074\">p2: P1</text><line style=\"stroke: #383838; stroke-width: 1.5;\" x1=\"33\" x2=\"81\" y1=\"78.9375\" y2=\"78.9375\"/><text fill=\"#000000\" font-family=\"sans-serif\" font-size=\"11\" lengthAdjust=\"spacingAndGlyphs\" textLength=\"32\" x=\"38\" y=\"109.9526\">pdest</text><line style=\"stroke: #383838; stroke-width: 1.0;\" x1=\"33\" x2=\"42\" y1=\"93.3398\" y2=\"93.3398\"/><text fill=\"#000000\" font-family=\"sans-serif\" font-size=\"11\" lengthAdjust=\"spacingAndGlyphs\" textLength=\"30\" x=\"42\" y=\"96.6479\">ports</text><line style=\"stroke: #383838; stroke-width: 1.0;\" x1=\"72\" x2=\"81\" y1=\"93.3398\" y2=\"93.3398\"/><text fill=\"#000000\" font-family=\"sans-serif\" font-size=\"11\" lengthAdjust=\"spacingAndGlyphs\" textLength=\"0\" x=\"54\" y=\"128.7573\"/><rect fill=\"#FFFFFF\" height=\"2\" style=\"stroke: #000000; stroke-width: 1.0;\" width=\"2\" x=\"47\" y=\"123.9492\"/><line style=\"stroke: #000000; stroke-width: 1.0;\" x1=\"40\" x2=\"48\" y1=\"124.9492\" y2=\"124.9492\"/><line style=\"stroke: #000000; stroke-width: 1.0;\" x1=\"40\" x2=\"40\" y1=\"118.5469\" y2=\"124.9492\"/></a><!--MD5=[2156ba9850f5573cc1fc38a6a4b2f02b]\n",
       "class E7--><a href=\"psysml:009efb1a-81d8-4f5e-8e24-a878e8625106\" target=\"_top\" title=\"psysml:009efb1a-81d8-4f5e-8e24-a878e8625106\" xlink:actuate=\"onRequest\" xlink:href=\"psysml:009efb1a-81d8-4f5e-8e24-a878e8625106\" xlink:show=\"new\" xlink:title=\"psysml:009efb1a-81d8-4f5e-8e24-a878e8625106\" xlink:type=\"simple\"><rect fill=\"#FFFFFF\" height=\"45.9375\" id=\"E7\" rx=\"10\" ry=\"10\" style=\"stroke: #383838; stroke-width: 1.5;\" width=\"46\" x=\"34\" y=\"219\"/><text fill=\"#000000\" font-family=\"sans-serif\" font-size=\"12\" font-style=\"italic\" lengthAdjust=\"spacingAndGlyphs\" textLength=\"40\" x=\"37\" y=\"235.1387\">«port»</text><text fill=\"#000000\" font-family=\"sans-serif\" font-size=\"12\" lengthAdjust=\"spacingAndGlyphs\" textLength=\"36\" x=\"37\" y=\"249.1074\">pdest</text><line style=\"stroke: #383838; stroke-width: 1.5;\" x1=\"35\" x2=\"79\" y1=\"256.9375\" y2=\"256.9375\"/></a><!--MD5=[4672eba38e49728da53d11aeb285b987]\n",
       "reverse link E3 to E4--><a href=\"psysml:dd790abf-ac6c-4371-bdbb-56cf5ab0181d\" target=\"_top\" title=\"psysml:dd790abf-ac6c-4371-bdbb-56cf5ab0181d\" xlink:actuate=\"onRequest\" xlink:href=\"psysml:dd790abf-ac6c-4371-bdbb-56cf5ab0181d\" xlink:show=\"new\" xlink:title=\"psysml:dd790abf-ac6c-4371-bdbb-56cf5ab0181d\" xlink:type=\"simple\"><path d=\"M156,304.32 C156,320.28 156,336.46 156,348.89 \" fill=\"none\" id=\"E3&lt;-E4\" style=\"stroke: #383838; stroke-width: 1.0; stroke-dasharray: 7.0,7.0;\"/><ellipse cx=\"156\" cy=\"297.21\" fill=\"#FFFFFF\" rx=\"8\" ry=\"8\" style=\"stroke: #383838; stroke-width: 1.0;\"/><line style=\"stroke: #383838; stroke-width: 1.0;\" x1=\"156\" x2=\"156\" y1=\"305.21\" y2=\"289.21\"/><line style=\"stroke: #383838; stroke-width: 1.0;\" x1=\"148\" x2=\"164\" y1=\"297.21\" y2=\"297.21\"/><text fill=\"#000000\" font-family=\"sans-serif\" font-size=\"13\" lengthAdjust=\"spacingAndGlyphs\" textLength=\"8\" x=\"146.925\" y=\"337.7567\">1</text></a><!--MD5=[e9be52314489bd878ff4c7144b63c9e1]\n",
       "link E5 to E3--><a href=\"psysml:a968a559-ae75-4ff7-b264-66e5a143558d\" target=\"_top\" title=\"psysml:a968a559-ae75-4ff7-b264-66e5a143558d\" xlink:actuate=\"onRequest\" xlink:href=\"psysml:a968a559-ae75-4ff7-b264-66e5a143558d\" xlink:show=\"new\" xlink:title=\"psysml:a968a559-ae75-4ff7-b264-66e5a143558d\" xlink:type=\"simple\"><path d=\"M161.01,132.15 C160.41,145.3 159.73,160.08 159.07,174.4 \" fill=\"none\" id=\"E5-&gt;E3\" style=\"stroke: #383838; stroke-width: 1.0;\"/><polygon fill=\"#FFFFFF\" points=\"158.13,194.82,152.0056,175.52,165.991,176.1597,158.13,194.82\" style=\"stroke: #383838; stroke-width: 1.0;\"/><ellipse cx=\"154.264\" cy=\"169.9173\" fill=\"#383838\" rx=\"2\" ry=\"2\" style=\"stroke: #383838; stroke-width: 1.0;\"/><ellipse cx=\"164.2535\" cy=\"170.3743\" fill=\"#383838\" rx=\"2\" ry=\"2\" style=\"stroke: #383838; stroke-width: 1.0;\"/></a><!--MD5=[a717450b82c80b9240a525fa862496af]\n",
       "link E6 to E3--><a href=\"psysml:a1db7df5-c75d-4551-8d1a-744022949b4d\" target=\"_top\" title=\"psysml:a1db7df5-c75d-4551-8d1a-744022949b4d\" xlink:actuate=\"onRequest\" xlink:href=\"psysml:a1db7df5-c75d-4551-8d1a-744022949b4d\" xlink:show=\"new\" xlink:title=\"psysml:a1db7df5-c75d-4551-8d1a-744022949b4d\" xlink:type=\"simple\"><path d=\"M82.24,127.75 C92.15,142.97 103.8,160.85 114.86,177.84 \" fill=\"none\" id=\"E6-&gt;E3\" style=\"stroke: #383838; stroke-width: 1.0;\"/><polygon fill=\"#FFFFFF\" points=\"125.87,194.74,109.6276,182.6493,121.3542,175.0015,125.87,194.74\" style=\"stroke: #383838; stroke-width: 1.0;\"/><ellipse cx=\"108.1891\" cy=\"176.7824\" fill=\"#383838\" rx=\"2\" ry=\"2\" style=\"stroke: #383838; stroke-width: 1.0;\"/><ellipse cx=\"116.5652\" cy=\"171.3197\" fill=\"#383838\" rx=\"2\" ry=\"2\" style=\"stroke: #383838; stroke-width: 1.0;\"/></a><!--MD5=[3f50a3473f1dfb74d3f76443e03635af]\n",
       "reverse link E6 to E7--><a href=\"psysml:b8781950-4d8a-4fb9-9fe0-7c7847cd278f\" target=\"_top\" title=\"psysml:b8781950-4d8a-4fb9-9fe0-7c7847cd278f\" xlink:actuate=\"onRequest\" xlink:href=\"psysml:b8781950-4d8a-4fb9-9fe0-7c7847cd278f\" xlink:show=\"new\" xlink:title=\"psysml:b8781950-4d8a-4fb9-9fe0-7c7847cd278f\" xlink:type=\"simple\"><path d=\"M57,150.16 C57,174.43 57,200.81 57,218.85 \" fill=\"none\" id=\"E6&lt;-E7\" style=\"stroke: #383838; stroke-width: 1.0; stroke-dasharray: 7.0,7.0;\"/><ellipse cx=\"57\" cy=\"143.02\" fill=\"#FFFFFF\" rx=\"8\" ry=\"8\" style=\"stroke: #383838; stroke-width: 1.0;\"/><line style=\"stroke: #383838; stroke-width: 1.0;\" x1=\"57\" x2=\"57\" y1=\"151.02\" y2=\"135.02\"/><line style=\"stroke: #383838; stroke-width: 1.0;\" x1=\"49\" x2=\"65\" y1=\"143.02\" y2=\"143.02\"/><text fill=\"#000000\" font-family=\"sans-serif\" font-size=\"13\" lengthAdjust=\"spacingAndGlyphs\" textLength=\"8\" x=\"47.975\" y=\"208.0879\">1</text></a><!--MD5=[2b91871eb950d2a5da07a9d941821a32]\n",
       "@startuml\r\n",
       " skinparam monochrome true\r\n",
       "skinparam classbackgroundcolor white\r\n",
       "skinparam shadowing false\r\n",
       "skinparam wrapWidth 300\r\n",
       "hide circle\r\n",
       "\r\n",
       "package \"AliasTest\" as E1  [[psysml:6242facc-ff06-44d1-b4f3-467b2ef71334 ]]  {\r\n",
       "comp usage \"b :> ISQSpaceTime::width\" as E2  <<(T,blue) attribute>> [[psysml:c7d5118b-0b42-4b21-9071-aba180ff097b ]] {\r\n",
       "}\r\n",
       "comp def \"P1\" as E3  <<(T,blue) part  def>> [[psysml:f3a385fe-c72f-4489-86aa-e832e0f5c54b ]] {\r\n",
       "- - ports - -\r\n",
       "porig1\r\n",
       "|_ \r\n",
       "}\r\n",
       "comp usage \"porig1 \" as E4  <<(T,blue) port>> [[psysml:12c3f617-858e-4877-bab3-72d077a58110 ]] {\r\n",
       "}\r\n",
       "comp usage \"p1: P1 \" as E5  <<(T,blue) part>> [[psysml:f19cd7cf-ead7-487d-acf0-998c02877f08 ]] {\r\n",
       "- - ports - -\r\n",
       "po1\\n//:>>P1::porig1// \r\n",
       "}\r\n",
       "comp usage \"p2: P1 \" as E6  <<(T,blue) part>> [[psysml:3758ddaf-2d7c-4372-b46d-cbe5af56d102 ]] {\r\n",
       "- - ports - -\r\n",
       "pdest\r\n",
       "|_ \r\n",
       "}\r\n",
       "comp usage \"pdest \" as E7  <<(T,blue) port>> [[psysml:009efb1a-81d8-4f5e-8e24-a878e8625106 ]] {\r\n",
       "}\r\n",
       "}\r\n",
       "E3 +.. \"1\"E4 [[psysml:dd790abf-ac6c-4371-bdbb-56cf5ab0181d ]] \r\n",
       "E5 - -:|> E3 [[psysml:a968a559-ae75-4ff7-b264-66e5a143558d ]] \r\n",
       "E6 - -:|> E3 [[psysml:a1db7df5-c75d-4551-8d1a-744022949b4d ]] \r\n",
       "E6 +.. \"1\"E7 [[psysml:b8781950-4d8a-4fb9-9fe0-7c7847cd278f ]] \r\n",
       "@enduml\r\n",
       "\n",
       "PlantUML version 1.2020.13(Sat Jun 13 12:26:38 UTC 2020)\n",
       "(EPL source distribution)\n",
       "Java Runtime: OpenJDK Runtime Environment\n",
       "JVM: OpenJDK 64-Bit Server VM\n",
       "Default Encoding: UTF-8\n",
       "Language: en\n",
       "Country: null\n",
       "--></g></svg>"
      ]
     },
     "execution_count": 3,
     "metadata": {},
     "output_type": "execute_result"
    }
   ],
   "source": [
    "%viz --style=\"COMPTREE\" --view=\"Tree\" \"AliasTest\""
   ]
  },
  {
   "cell_type": "code",
   "execution_count": 4,
   "id": "2db54e8e",
   "metadata": {
    "execution": {
     "iopub.execute_input": "2022-03-21T07:52:15.212821Z",
     "iopub.status.busy": "2022-03-21T07:52:15.212400Z",
     "iopub.status.idle": "2022-03-21T07:52:15.218809Z",
     "shell.execute_reply": "2022-03-21T07:52:15.219144Z"
    }
   },
   "outputs": [
    {
     "data": {
      "image/svg+xml": [
       "<?xml version=\"1.0\" encoding=\"UTF-8\" standalone=\"no\"?><svg xmlns=\"http://www.w3.org/2000/svg\" xmlns:xlink=\"http://www.w3.org/1999/xlink\" contentScriptType=\"application/ecmascript\" contentStyleType=\"text/css\" height=\"12px\" preserveAspectRatio=\"none\" style=\"width:12px;height:12px;\" version=\"1.1\" viewBox=\"0 0 12 12\" width=\"12px\" zoomAndPan=\"magnify\"><defs/><g><!--MD5=[f19188ef49e11757b5c46753f95d9edc]\n",
       "@startuml\r\n",
       " skinparam monochrome true\r\n",
       "skinparam classbackgroundcolor white\r\n",
       "skinparam shadowing false\r\n",
       "skinparam wrapWidth 300\r\n",
       "hide circle\r\n",
       "\r\n",
       "@enduml\r\n",
       "\n",
       "PlantUML version 1.2020.13(Sat Jun 13 12:26:38 UTC 2020)\n",
       "(EPL source distribution)\n",
       "Java Runtime: OpenJDK Runtime Environment\n",
       "JVM: OpenJDK 64-Bit Server VM\n",
       "Default Encoding: UTF-8\n",
       "Language: en\n",
       "Country: null\n",
       "--></g></svg>"
      ]
     },
     "execution_count": 4,
     "metadata": {},
     "output_type": "execute_result"
    }
   ],
   "source": [
    "%viz --style=\"COMPTREE\" --view=\"State\" \"AliasTest\""
   ]
  },
  {
   "cell_type": "code",
   "execution_count": 5,
   "id": "38ce9724",
   "metadata": {
    "execution": {
     "iopub.execute_input": "2022-03-21T07:52:15.269377Z",
     "iopub.status.busy": "2022-03-21T07:52:15.268966Z",
     "iopub.status.idle": "2022-03-21T07:52:15.325884Z",
     "shell.execute_reply": "2022-03-21T07:52:15.326205Z"
    }
   },
   "outputs": [
    {
     "data": {
      "image/svg+xml": [
       "<?xml version=\"1.0\" encoding=\"UTF-8\" standalone=\"no\"?><svg xmlns=\"http://www.w3.org/2000/svg\" xmlns:xlink=\"http://www.w3.org/1999/xlink\" contentScriptType=\"application/ecmascript\" contentStyleType=\"text/css\" height=\"233px\" preserveAspectRatio=\"none\" style=\"width:572px;height:233px;\" version=\"1.1\" viewBox=\"0 0 572 233\" width=\"572px\" zoomAndPan=\"magnify\"><defs/><g><!--MD5=[fbc87193dbaf4d95561dea2c320d4a47]\n",
       "cluster E1--><a href=\"psysml:6242facc-ff06-44d1-b4f3-467b2ef71334\" target=\"_top\" title=\"psysml:6242facc-ff06-44d1-b4f3-467b2ef71334\" xlink:actuate=\"onRequest\" xlink:href=\"psysml:6242facc-ff06-44d1-b4f3-467b2ef71334\" xlink:show=\"new\" xlink:title=\"psysml:6242facc-ff06-44d1-b4f3-467b2ef71334\" xlink:type=\"simple\"><polygon fill=\"#FFFFFF\" points=\"16,6,84,6,91,28.2969,550,28.2969,550,221,16,221,16,6\" style=\"stroke: #000000; stroke-width: 1.5;\"/><line style=\"stroke: #000000; stroke-width: 1.5;\" x1=\"16\" x2=\"91\" y1=\"28.2969\" y2=\"28.2969\"/><text fill=\"#000000\" font-family=\"sans-serif\" font-size=\"14\" font-weight=\"bold\" lengthAdjust=\"spacingAndGlyphs\" textLength=\"62\" x=\"20\" y=\"20.9951\">AliasTest</text></a><!--MD5=[d5e69f78d87373223dbae638b30a9c99]\n",
       "cluster E3--><a href=\"psysml:f3a385fe-c72f-4489-86aa-e832e0f5c54b\" target=\"_top\" title=\"psysml:f3a385fe-c72f-4489-86aa-e832e0f5c54b\" xlink:actuate=\"onRequest\" xlink:href=\"psysml:f3a385fe-c72f-4489-86aa-e832e0f5c54b\" xlink:show=\"new\" xlink:title=\"psysml:f3a385fe-c72f-4489-86aa-e832e0f5c54b\" xlink:type=\"simple\"><rect fill=\"#FFFFFF\" height=\"90\" id=\"E3\" style=\"stroke: #383838; stroke-width: 1.5;\" width=\"85\" x=\"407\" y=\"64\"/><rect fill=\"#F8F8F8\" height=\"37.9375\" style=\"stroke: #383838; stroke-width: 1.5;\" width=\"85\" x=\"407\" y=\"64\"/><text fill=\"#000000\" font-family=\"sans-serif\" font-size=\"12\" font-style=\"italic\" lengthAdjust=\"spacingAndGlyphs\" textLength=\"68\" x=\"415.5\" y=\"80.1387\">«part  def»</text><text fill=\"#000000\" font-family=\"sans-serif\" font-size=\"12\" lengthAdjust=\"spacingAndGlyphs\" textLength=\"16\" x=\"441.5\" y=\"94.1074\">P1</text></a><!--MD5=[14e3b0961a2654348d326746436168a1]\n",
       "cluster E6--><a href=\"psysml:f19cd7cf-ead7-487d-acf0-998c02877f08\" target=\"_top\" title=\"psysml:f19cd7cf-ead7-487d-acf0-998c02877f08\" xlink:actuate=\"onRequest\" xlink:href=\"psysml:f19cd7cf-ead7-487d-acf0-998c02877f08\" xlink:show=\"new\" xlink:title=\"psysml:f19cd7cf-ead7-487d-acf0-998c02877f08\" xlink:type=\"simple\"><rect fill=\"#FFFFFF\" height=\"82\" id=\"E6\" rx=\"10\" ry=\"10\" style=\"stroke: #383838; stroke-width: 1.5;\" width=\"98\" x=\"206\" y=\"64\"/><rect fill=\"#F8F8F8\" height=\"23.9688\" rx=\"10\" ry=\"10\" style=\"stroke: #F8F8F8; stroke-width: 1.5;\" width=\"98\" x=\"206\" y=\"64\"/><rect fill=\"#F8F8F8\" height=\"10\" style=\"stroke: #F8F8F8; stroke-width: 1.5;\" width=\"98\" x=\"206\" y=\"77.9688\"/><rect fill=\"none\" height=\"82\" id=\"E6\" rx=\"10\" ry=\"10\" style=\"stroke: #383838; stroke-width: 1.5;\" width=\"98\" x=\"206\" y=\"64\"/><text fill=\"#000000\" font-family=\"sans-serif\" font-size=\"12\" lengthAdjust=\"spacingAndGlyphs\" textLength=\"40\" x=\"235\" y=\"80.1387\">p1: P1</text><line style=\"stroke: #383838; stroke-width: 1.0;\" x1=\"206\" x2=\"304\" y1=\"87.9688\" y2=\"87.9688\"/></a><!--MD5=[55dfccfc6c49c2d10cd1bd2211a6c90c]\n",
       "cluster E8--><a href=\"psysml:3758ddaf-2d7c-4372-b46d-cbe5af56d102\" target=\"_top\" title=\"psysml:3758ddaf-2d7c-4372-b46d-cbe5af56d102\" xlink:actuate=\"onRequest\" xlink:href=\"psysml:3758ddaf-2d7c-4372-b46d-cbe5af56d102\" xlink:show=\"new\" xlink:title=\"psysml:3758ddaf-2d7c-4372-b46d-cbe5af56d102\" xlink:type=\"simple\"><rect fill=\"#FFFFFF\" height=\"84.5\" id=\"E8\" rx=\"10\" ry=\"10\" style=\"stroke: #383838; stroke-width: 1.5;\" width=\"83\" x=\"307\" y=\"120.5\"/><rect fill=\"#F8F8F8\" height=\"23.9688\" rx=\"10\" ry=\"10\" style=\"stroke: #F8F8F8; stroke-width: 1.5;\" width=\"83\" x=\"307\" y=\"120.5\"/><rect fill=\"#F8F8F8\" height=\"10\" style=\"stroke: #F8F8F8; stroke-width: 1.5;\" width=\"83\" x=\"307\" y=\"134.4688\"/><rect fill=\"none\" height=\"84.5\" id=\"E8\" rx=\"10\" ry=\"10\" style=\"stroke: #383838; stroke-width: 1.5;\" width=\"83\" x=\"307\" y=\"120.5\"/><text fill=\"#000000\" font-family=\"sans-serif\" font-size=\"12\" lengthAdjust=\"spacingAndGlyphs\" textLength=\"40\" x=\"328.5\" y=\"136.6387\">p2: P1</text><line style=\"stroke: #383838; stroke-width: 1.0;\" x1=\"307\" x2=\"390\" y1=\"144.4688\" y2=\"144.4688\"/></a><!--MD5=[b4997ac47864f28c2f74865a473b2911]\n",
       "class E2--><a href=\"psysml:c7d5118b-0b42-4b21-9071-aba180ff097b\" target=\"_top\" title=\"psysml:c7d5118b-0b42-4b21-9071-aba180ff097b\" xlink:actuate=\"onRequest\" xlink:href=\"psysml:c7d5118b-0b42-4b21-9071-aba180ff097b\" xlink:show=\"new\" xlink:title=\"psysml:c7d5118b-0b42-4b21-9071-aba180ff097b\" xlink:type=\"simple\"><rect fill=\"#FFFFFF\" height=\"45.9375\" id=\"E2\" rx=\"10\" ry=\"10\" style=\"stroke: #383838; stroke-width: 1.5;\" width=\"165\" x=\"32.5\" y=\"41\"/><text fill=\"#000000\" font-family=\"sans-serif\" font-size=\"12\" font-style=\"italic\" lengthAdjust=\"spacingAndGlyphs\" textLength=\"69\" x=\"80.5\" y=\"57.1387\">«attribute»</text><text fill=\"#000000\" font-family=\"sans-serif\" font-size=\"12\" lengthAdjust=\"spacingAndGlyphs\" textLength=\"159\" x=\"35.5\" y=\"71.1074\">b :&gt; ISQSpaceTime::width</text><line style=\"stroke: #383838; stroke-width: 1.5;\" x1=\"33.5\" x2=\"196.5\" y1=\"78.9375\" y2=\"78.9375\"/></a><text fill=\"#000000\" font-family=\"sans-serif\" font-size=\"14\" lengthAdjust=\"spacingAndGlyphs\" textLength=\"44\" x=\"401\" y=\"42.6982\">porig1</text><rect fill=\"#383838\" height=\"12\" style=\"stroke: #F8F8F8; stroke-width: 1.5;\" width=\"12\" x=\"419\" y=\"58\"/><text fill=\"#000000\" font-family=\"sans-serif\" font-size=\"14\" lengthAdjust=\"spacingAndGlyphs\" textLength=\"44\" x=\"448\" y=\"42.6982\">porig1</text><rect fill=\"#383838\" height=\"12\" style=\"stroke: #F8F8F8; stroke-width: 1.5;\" width=\"12\" x=\"466\" y=\"58\"/><text fill=\"#000000\" font-family=\"sans-serif\" font-size=\"14\" lengthAdjust=\"spacingAndGlyphs\" textLength=\"27\" x=\"270.5\" y=\"42.6982\">po1</text><rect fill=\"#383838\" height=\"12\" style=\"stroke: #F8F8F8; stroke-width: 1.5;\" width=\"12\" x=\"280\" y=\"58\"/><text fill=\"#000000\" font-family=\"sans-serif\" font-size=\"14\" lengthAdjust=\"spacingAndGlyphs\" textLength=\"40\" x=\"303\" y=\"99.1982\">pdest</text><rect fill=\"#383838\" height=\"12\" style=\"stroke: #F8F8F8; stroke-width: 1.5;\" width=\"12\" x=\"319\" y=\"114.5\"/><text fill=\"#000000\" font-family=\"sans-serif\" font-size=\"14\" lengthAdjust=\"spacingAndGlyphs\" textLength=\"40\" x=\"350\" y=\"99.1982\">pdest</text><rect fill=\"#383838\" height=\"12\" style=\"stroke: #F8F8F8; stroke-width: 1.5;\" width=\"12\" x=\"366\" y=\"114.5\"/><!--MD5=[1c0b9414cc86e0744215edee6abd8926]\n",
       "link E7 to E9--><a href=\"psysml:117cd7b6-777c-4755-88f6-d7a432271d85\" target=\"_top\" title=\"psysml:117cd7b6-777c-4755-88f6-d7a432271d85\" xlink:actuate=\"onRequest\" xlink:href=\"psysml:117cd7b6-777c-4755-88f6-d7a432271d85\" xlink:show=\"new\" xlink:title=\"psysml:117cd7b6-777c-4755-88f6-d7a432271d85\" xlink:type=\"simple\"><path d=\"M281.83,70.03 C282.72,81.73 304.14,110.34 318.83,117.73 \" fill=\"none\" id=\"E7-E9\" style=\"stroke: #383838; stroke-width: 3.0;\"/><text fill=\"#000000\" font-family=\"sans-serif\" font-size=\"13\" lengthAdjust=\"spacingAndGlyphs\" textLength=\"7\" x=\"303.8522\" y=\"106.3789\">*</text></a><!--MD5=[1c0b9414cc86e0744215edee6abd8926]\n",
       "link E7 to E9--><a href=\"psysml:c7325d6a-fceb-4e80-be50-eff52df502df\" target=\"_top\" title=\"psysml:c7325d6a-fceb-4e80-be50-eff52df502df\" xlink:actuate=\"onRequest\" xlink:href=\"psysml:c7325d6a-fceb-4e80-be50-eff52df502df\" xlink:show=\"new\" xlink:title=\"psysml:c7325d6a-fceb-4e80-be50-eff52df502df\" xlink:type=\"simple\"><path d=\"M292.05,66.57 C307.27,73.62 329.05,102.5 329.62,114.37 \" fill=\"none\" id=\"E7-E9-1\" style=\"stroke: #383838; stroke-width: 3.0;\"/><text fill=\"#000000\" font-family=\"sans-serif\" font-size=\"13\" lengthAdjust=\"spacingAndGlyphs\" textLength=\"7\" x=\"323.278\" y=\"103.4683\">*</text></a><!--MD5=[001ff41e1a98ddf1314e04cb0525a305]\n",
       "@startuml\r\n",
       "skinparam ranksep 10\r\n",
       "skinparam rectangle {\r\n",
       " backgroundColor<<block>> LightGreen\r\n",
       "}\r\n",
       " skinparam monochrome true\r\n",
       "skinparam classbackgroundcolor white\r\n",
       "skinparam shadowing false\r\n",
       "skinparam wrapWidth 300\r\n",
       "hide circle\r\n",
       "\r\n",
       "package \"AliasTest\" as E1  [[psysml:6242facc-ff06-44d1-b4f3-467b2ef71334 ]]  {\r\n",
       "comp usage \"b :> ISQSpaceTime::width\" as E2  <<(T,blue) attribute>> [[psysml:c7d5118b-0b42-4b21-9071-aba180ff097b ]] {\r\n",
       "}\r\n",
       "rec def \"P1\" as E3  <<(T,blue) part  def>> [[psysml:f3a385fe-c72f-4489-86aa-e832e0f5c54b ]] {\r\n",
       "portin \"porig1 \" as E4  <<(T,blue) port>> [[psysml:12c3f617-858e-4877-bab3-72d077a58110 ]] \r\n",
       "portin \"porig1 \" as E5  <<(T,blue) port>> [[psysml:12c3f617-858e-4877-bab3-72d077a58110 ]] \r\n",
       "}\r\n",
       "rec usage \"p1: P1\" as E6  [[psysml:f19cd7cf-ead7-487d-acf0-998c02877f08 ]] {\r\n",
       "portin \"po1 \" as E7  <<(T,blue) port>> [[psysml:7bd77f36-e1da-430e-90ed-8aecc87780c5 ]] \r\n",
       "}\r\n",
       "rec usage \"p2: P1\" as E8  [[psysml:3758ddaf-2d7c-4372-b46d-cbe5af56d102 ]] {\r\n",
       "portin \"pdest \" as E9  <<(T,blue) port>> [[psysml:009efb1a-81d8-4f5e-8e24-a878e8625106 ]] \r\n",
       "portin \"pdest \" as E10  <<(T,blue) port>> [[psysml:009efb1a-81d8-4f5e-8e24-a878e8625106 ]] \r\n",
       "}\r\n",
       "}\r\n",
       "E7 -[thickness=3]- \"*\"E9 [[psysml:117cd7b6-777c-4755-88f6-d7a432271d85 ]] \r\n",
       "E7 -[thickness=3]- \"*\"E9 [[psysml:c7325d6a-fceb-4e80-be50-eff52df502df ]] \r\n",
       "@enduml\r\n",
       "\n",
       "PlantUML version 1.2020.13(Sat Jun 13 12:26:38 UTC 2020)\n",
       "(EPL source distribution)\n",
       "Java Runtime: OpenJDK Runtime Environment\n",
       "JVM: OpenJDK 64-Bit Server VM\n",
       "Default Encoding: UTF-8\n",
       "Language: en\n",
       "Country: null\n",
       "--></g></svg>"
      ]
     },
     "execution_count": 5,
     "metadata": {},
     "output_type": "execute_result"
    }
   ],
   "source": [
    "%viz --style=\"COMPTREE\" --view=\"Interconnection\" \"AliasTest\""
   ]
  },
  {
   "cell_type": "code",
   "execution_count": 6,
   "id": "aeab06d2",
   "metadata": {
    "execution": {
     "iopub.execute_input": "2022-03-21T07:52:15.376527Z",
     "iopub.status.busy": "2022-03-21T07:52:15.376114Z",
     "iopub.status.idle": "2022-03-21T07:52:15.381600Z",
     "shell.execute_reply": "2022-03-21T07:52:15.381893Z"
    }
   },
   "outputs": [
    {
     "data": {
      "image/svg+xml": [
       "<?xml version=\"1.0\" encoding=\"UTF-8\" standalone=\"no\"?><svg xmlns=\"http://www.w3.org/2000/svg\" xmlns:xlink=\"http://www.w3.org/1999/xlink\" contentScriptType=\"application/ecmascript\" contentStyleType=\"text/css\" height=\"12px\" preserveAspectRatio=\"none\" style=\"width:12px;height:12px;\" version=\"1.1\" viewBox=\"0 0 12 12\" width=\"12px\" zoomAndPan=\"magnify\"><defs/><g><!--MD5=[655b888544ca4751ea36af1068543f84]\n",
       "@startuml\r\n",
       "skinparam ranksep 8\r\n",
       " skinparam monochrome true\r\n",
       "skinparam classbackgroundcolor white\r\n",
       "skinparam shadowing false\r\n",
       "skinparam wrapWidth 300\r\n",
       "hide circle\r\n",
       "\r\n",
       "@enduml\r\n",
       "\n",
       "PlantUML version 1.2020.13(Sat Jun 13 12:26:38 UTC 2020)\n",
       "(EPL source distribution)\n",
       "Java Runtime: OpenJDK Runtime Environment\n",
       "JVM: OpenJDK 64-Bit Server VM\n",
       "Default Encoding: UTF-8\n",
       "Language: en\n",
       "Country: null\n",
       "--></g></svg>"
      ]
     },
     "execution_count": 6,
     "metadata": {},
     "output_type": "execute_result"
    }
   ],
   "source": [
    "%viz --style=\"COMPTREE\" --view=\"Action\" \"AliasTest\""
   ]
  },
  {
   "cell_type": "code",
   "execution_count": 7,
   "id": "0cf927d3",
   "metadata": {
    "execution": {
     "iopub.execute_input": "2022-03-21T07:52:15.432206Z",
     "iopub.status.busy": "2022-03-21T07:52:15.431800Z",
     "iopub.status.idle": "2022-03-21T07:52:15.443336Z",
     "shell.execute_reply": "2022-03-21T07:52:15.443651Z"
    }
   },
   "outputs": [
    {
     "data": {
      "image/svg+xml": [
       "<?xml version=\"1.0\" encoding=\"UTF-8\" standalone=\"no\"?><svg xmlns=\"http://www.w3.org/2000/svg\" xmlns:xlink=\"http://www.w3.org/1999/xlink\" contentScriptType=\"application/ecmascript\" contentStyleType=\"text/css\" height=\"12px\" preserveAspectRatio=\"none\" style=\"width:12px;height:12px;\" version=\"1.1\" viewBox=\"0 0 12 12\" width=\"12px\" zoomAndPan=\"magnify\"><defs/><g><!--MD5=[803fc46c337be7a5c8a9831e35356779]\n",
       "@startuml\r\n",
       "skinparam roundcorner 20\r\n",
       "skinparam BoxPadding 20\r\n",
       "skinparam SequenceBoxBackgroundColor #white\r\n",
       "skinparam style strictuml\r\n",
       "skinparam maxMessageSize 100\r\n",
       " skinparam monochrome true\r\n",
       "skinparam classbackgroundcolor white\r\n",
       "skinparam shadowing false\r\n",
       "skinparam wrapWidth 300\r\n",
       "hide circle\r\n",
       "\r\n",
       "@enduml\r\n",
       "\n",
       "PlantUML version 1.2020.13(Sat Jun 13 12:26:38 UTC 2020)\n",
       "(EPL source distribution)\n",
       "Java Runtime: OpenJDK Runtime Environment\n",
       "JVM: OpenJDK 64-Bit Server VM\n",
       "Default Encoding: UTF-8\n",
       "Language: en\n",
       "Country: null\n",
       "--></g></svg>"
      ]
     },
     "execution_count": 7,
     "metadata": {},
     "output_type": "execute_result"
    }
   ],
   "source": [
    "%viz --style=\"COMPTREE\" --view=\"Sequence\" \"AliasTest\""
   ]
  },
  {
   "cell_type": "code",
   "execution_count": 8,
   "id": "919dbf48",
   "metadata": {
    "execution": {
     "iopub.execute_input": "2022-03-21T07:52:15.494072Z",
     "iopub.status.busy": "2022-03-21T07:52:15.493661Z",
     "iopub.status.idle": "2022-03-21T07:52:15.586357Z",
     "shell.execute_reply": "2022-03-21T07:52:15.585988Z"
    }
   },
   "outputs": [
    {
     "data": {
      "image/svg+xml": [
       "<?xml version=\"1.0\" encoding=\"UTF-8\" standalone=\"no\"?><svg xmlns=\"http://www.w3.org/2000/svg\" xmlns:xlink=\"http://www.w3.org/1999/xlink\" contentScriptType=\"application/ecmascript\" contentStyleType=\"text/css\" height=\"423px\" preserveAspectRatio=\"none\" style=\"width:448px;height:423px;\" version=\"1.1\" viewBox=\"0 0 448 423\" width=\"448px\" zoomAndPan=\"magnify\"><defs/><g><!--MD5=[fbc87193dbaf4d95561dea2c320d4a47]\n",
       "cluster E1--><a href=\"psysml:6242facc-ff06-44d1-b4f3-467b2ef71334\" target=\"_top\" title=\"psysml:6242facc-ff06-44d1-b4f3-467b2ef71334\" xlink:actuate=\"onRequest\" xlink:href=\"psysml:6242facc-ff06-44d1-b4f3-467b2ef71334\" xlink:show=\"new\" xlink:title=\"psysml:6242facc-ff06-44d1-b4f3-467b2ef71334\" xlink:type=\"simple\"><polygon fill=\"#FFFFFF\" points=\"16,6,84,6,91,28.2969,426,28.2969,426,411,16,411,16,6\" style=\"stroke: #000000; stroke-width: 1.5;\"/><line style=\"stroke: #000000; stroke-width: 1.5;\" x1=\"16\" x2=\"91\" y1=\"28.2969\" y2=\"28.2969\"/><text fill=\"#000000\" font-family=\"sans-serif\" font-size=\"14\" font-weight=\"bold\" lengthAdjust=\"spacingAndGlyphs\" textLength=\"62\" x=\"20\" y=\"20.9951\">AliasTest</text></a><!--MD5=[b4997ac47864f28c2f74865a473b2911]\n",
       "class E2--><a href=\"psysml:c7d5118b-0b42-4b21-9071-aba180ff097b\" target=\"_top\" title=\"psysml:c7d5118b-0b42-4b21-9071-aba180ff097b\" xlink:actuate=\"onRequest\" xlink:href=\"psysml:c7d5118b-0b42-4b21-9071-aba180ff097b\" xlink:show=\"new\" xlink:title=\"psysml:c7d5118b-0b42-4b21-9071-aba180ff097b\" xlink:type=\"simple\"><rect fill=\"#FFFFFF\" height=\"45.9375\" id=\"E2\" rx=\"10\" ry=\"10\" style=\"stroke: #383838; stroke-width: 1.5;\" width=\"165\" x=\"244.5\" y=\"65\"/><text fill=\"#000000\" font-family=\"sans-serif\" font-size=\"12\" font-style=\"italic\" lengthAdjust=\"spacingAndGlyphs\" textLength=\"69\" x=\"292.5\" y=\"81.1387\">«attribute»</text><text fill=\"#000000\" font-family=\"sans-serif\" font-size=\"12\" lengthAdjust=\"spacingAndGlyphs\" textLength=\"159\" x=\"247.5\" y=\"95.1074\">b :&gt; ISQSpaceTime::width</text><line style=\"stroke: #383838; stroke-width: 1.5;\" x1=\"245.5\" x2=\"408.5\" y1=\"102.9375\" y2=\"102.9375\"/></a><!--MD5=[09b614a08d8cba4a07c9adeb5e0fee81]\n",
       "class E3--><a href=\"psysml:f3a385fe-c72f-4489-86aa-e832e0f5c54b\" target=\"_top\" title=\"psysml:f3a385fe-c72f-4489-86aa-e832e0f5c54b\" xlink:actuate=\"onRequest\" xlink:href=\"psysml:f3a385fe-c72f-4489-86aa-e832e0f5c54b\" xlink:show=\"new\" xlink:title=\"psysml:f3a385fe-c72f-4489-86aa-e832e0f5c54b\" xlink:type=\"simple\"><rect fill=\"#FFFFFF\" height=\"94.3516\" id=\"E3\" style=\"stroke: #383838; stroke-width: 1.5;\" width=\"70\" x=\"121\" y=\"195\"/><text fill=\"#000000\" font-family=\"sans-serif\" font-size=\"12\" font-style=\"italic\" lengthAdjust=\"spacingAndGlyphs\" textLength=\"68\" x=\"122\" y=\"211.1387\">«part  def»</text><text fill=\"#000000\" font-family=\"sans-serif\" font-size=\"12\" lengthAdjust=\"spacingAndGlyphs\" textLength=\"16\" x=\"148\" y=\"225.1074\">P1</text><line style=\"stroke: #383838; stroke-width: 1.5;\" x1=\"122\" x2=\"190\" y1=\"232.9375\" y2=\"232.9375\"/><text fill=\"#000000\" font-family=\"sans-serif\" font-size=\"11\" lengthAdjust=\"spacingAndGlyphs\" textLength=\"36\" x=\"127\" y=\"263.9526\">porig1</text><line style=\"stroke: #383838; stroke-width: 1.0;\" x1=\"122\" x2=\"141\" y1=\"247.3398\" y2=\"247.3398\"/><text fill=\"#000000\" font-family=\"sans-serif\" font-size=\"11\" lengthAdjust=\"spacingAndGlyphs\" textLength=\"30\" x=\"141\" y=\"250.6479\">ports</text><line style=\"stroke: #383838; stroke-width: 1.0;\" x1=\"171\" x2=\"190\" y1=\"247.3398\" y2=\"247.3398\"/><text fill=\"#000000\" font-family=\"sans-serif\" font-size=\"11\" lengthAdjust=\"spacingAndGlyphs\" textLength=\"0\" x=\"143\" y=\"282.7573\"/><rect fill=\"#FFFFFF\" height=\"2\" style=\"stroke: #000000; stroke-width: 1.0;\" width=\"2\" x=\"136\" y=\"277.9492\"/><line style=\"stroke: #000000; stroke-width: 1.0;\" x1=\"129\" x2=\"137\" y1=\"278.9492\" y2=\"278.9492\"/><line style=\"stroke: #000000; stroke-width: 1.0;\" x1=\"129\" x2=\"129\" y1=\"272.5469\" y2=\"278.9492\"/></a><!--MD5=[ebbe1d658d1005bcc118a6aa81145e00]\n",
       "class E4--><a href=\"psysml:12c3f617-858e-4877-bab3-72d077a58110\" target=\"_top\" title=\"psysml:12c3f617-858e-4877-bab3-72d077a58110\" xlink:actuate=\"onRequest\" xlink:href=\"psysml:12c3f617-858e-4877-bab3-72d077a58110\" xlink:show=\"new\" xlink:title=\"psysml:12c3f617-858e-4877-bab3-72d077a58110\" xlink:type=\"simple\"><rect fill=\"#FFFFFF\" height=\"45.9375\" id=\"E4\" rx=\"10\" ry=\"10\" style=\"stroke: #383838; stroke-width: 1.5;\" width=\"50\" x=\"131\" y=\"349\"/><text fill=\"#000000\" font-family=\"sans-serif\" font-size=\"12\" font-style=\"italic\" lengthAdjust=\"spacingAndGlyphs\" textLength=\"40\" x=\"136\" y=\"365.1387\">«port»</text><text fill=\"#000000\" font-family=\"sans-serif\" font-size=\"12\" lengthAdjust=\"spacingAndGlyphs\" textLength=\"40\" x=\"134\" y=\"379.1074\">porig1</text><line style=\"stroke: #383838; stroke-width: 1.5;\" x1=\"132\" x2=\"180\" y1=\"386.9375\" y2=\"386.9375\"/></a><!--MD5=[270fce915f116d4de14055a7c1d9a0f3]\n",
       "class E5--><a href=\"psysml:f19cd7cf-ead7-487d-acf0-998c02877f08\" target=\"_top\" title=\"psysml:f19cd7cf-ead7-487d-acf0-998c02877f08\" xlink:actuate=\"onRequest\" xlink:href=\"psysml:f19cd7cf-ead7-487d-acf0-998c02877f08\" xlink:show=\"new\" xlink:title=\"psysml:f19cd7cf-ead7-487d-acf0-998c02877f08\" xlink:type=\"simple\"><rect fill=\"#FFFFFF\" height=\"88.3516\" id=\"E5\" rx=\"10\" ry=\"10\" style=\"stroke: #383838; stroke-width: 1.5;\" width=\"92\" x=\"117\" y=\"44\"/><text fill=\"#000000\" font-family=\"sans-serif\" font-size=\"12\" font-style=\"italic\" lengthAdjust=\"spacingAndGlyphs\" textLength=\"40\" x=\"143\" y=\"60.1387\">«part»</text><text fill=\"#000000\" font-family=\"sans-serif\" font-size=\"12\" lengthAdjust=\"spacingAndGlyphs\" textLength=\"40\" x=\"141\" y=\"74.1074\">p1: P1</text><line style=\"stroke: #383838; stroke-width: 1.5;\" x1=\"118\" x2=\"208\" y1=\"81.9375\" y2=\"81.9375\"/><text fill=\"#000000\" font-family=\"sans-serif\" font-size=\"11\" lengthAdjust=\"spacingAndGlyphs\" textLength=\"21\" x=\"123\" y=\"112.9526\">po1</text><text fill=\"#000000\" font-family=\"sans-serif\" font-size=\"11\" font-style=\"italic\" lengthAdjust=\"spacingAndGlyphs\" textLength=\"80\" x=\"123\" y=\"125.7573\">:&gt;&gt;P1::porig1</text><line style=\"stroke: #383838; stroke-width: 1.0;\" x1=\"118\" x2=\"148\" y1=\"96.3398\" y2=\"96.3398\"/><text fill=\"#000000\" font-family=\"sans-serif\" font-size=\"11\" lengthAdjust=\"spacingAndGlyphs\" textLength=\"30\" x=\"148\" y=\"99.6479\">ports</text><line style=\"stroke: #383838; stroke-width: 1.0;\" x1=\"178\" x2=\"208\" y1=\"96.3398\" y2=\"96.3398\"/></a><!--MD5=[60a26617385b1d2d0262a64233df1f8d]\n",
       "class E6--><a href=\"psysml:3758ddaf-2d7c-4372-b46d-cbe5af56d102\" target=\"_top\" title=\"psysml:3758ddaf-2d7c-4372-b46d-cbe5af56d102\" xlink:actuate=\"onRequest\" xlink:href=\"psysml:3758ddaf-2d7c-4372-b46d-cbe5af56d102\" xlink:show=\"new\" xlink:title=\"psysml:3758ddaf-2d7c-4372-b46d-cbe5af56d102\" xlink:type=\"simple\"><rect fill=\"#FFFFFF\" height=\"94.3516\" id=\"E6\" rx=\"10\" ry=\"10\" style=\"stroke: #383838; stroke-width: 1.5;\" width=\"50\" x=\"32\" y=\"41\"/><text fill=\"#000000\" font-family=\"sans-serif\" font-size=\"12\" font-style=\"italic\" lengthAdjust=\"spacingAndGlyphs\" textLength=\"40\" x=\"37\" y=\"57.1387\">«part»</text><text fill=\"#000000\" font-family=\"sans-serif\" font-size=\"12\" lengthAdjust=\"spacingAndGlyphs\" textLength=\"40\" x=\"35\" y=\"71.1074\">p2: P1</text><line style=\"stroke: #383838; stroke-width: 1.5;\" x1=\"33\" x2=\"81\" y1=\"78.9375\" y2=\"78.9375\"/><text fill=\"#000000\" font-family=\"sans-serif\" font-size=\"11\" lengthAdjust=\"spacingAndGlyphs\" textLength=\"32\" x=\"38\" y=\"109.9526\">pdest</text><line style=\"stroke: #383838; stroke-width: 1.0;\" x1=\"33\" x2=\"42\" y1=\"93.3398\" y2=\"93.3398\"/><text fill=\"#000000\" font-family=\"sans-serif\" font-size=\"11\" lengthAdjust=\"spacingAndGlyphs\" textLength=\"30\" x=\"42\" y=\"96.6479\">ports</text><line style=\"stroke: #383838; stroke-width: 1.0;\" x1=\"72\" x2=\"81\" y1=\"93.3398\" y2=\"93.3398\"/><text fill=\"#000000\" font-family=\"sans-serif\" font-size=\"11\" lengthAdjust=\"spacingAndGlyphs\" textLength=\"0\" x=\"54\" y=\"128.7573\"/><rect fill=\"#FFFFFF\" height=\"2\" style=\"stroke: #000000; stroke-width: 1.0;\" width=\"2\" x=\"47\" y=\"123.9492\"/><line style=\"stroke: #000000; stroke-width: 1.0;\" x1=\"40\" x2=\"48\" y1=\"124.9492\" y2=\"124.9492\"/><line style=\"stroke: #000000; stroke-width: 1.0;\" x1=\"40\" x2=\"40\" y1=\"118.5469\" y2=\"124.9492\"/></a><!--MD5=[2156ba9850f5573cc1fc38a6a4b2f02b]\n",
       "class E7--><a href=\"psysml:009efb1a-81d8-4f5e-8e24-a878e8625106\" target=\"_top\" title=\"psysml:009efb1a-81d8-4f5e-8e24-a878e8625106\" xlink:actuate=\"onRequest\" xlink:href=\"psysml:009efb1a-81d8-4f5e-8e24-a878e8625106\" xlink:show=\"new\" xlink:title=\"psysml:009efb1a-81d8-4f5e-8e24-a878e8625106\" xlink:type=\"simple\"><rect fill=\"#FFFFFF\" height=\"45.9375\" id=\"E7\" rx=\"10\" ry=\"10\" style=\"stroke: #383838; stroke-width: 1.5;\" width=\"46\" x=\"34\" y=\"219\"/><text fill=\"#000000\" font-family=\"sans-serif\" font-size=\"12\" font-style=\"italic\" lengthAdjust=\"spacingAndGlyphs\" textLength=\"40\" x=\"37\" y=\"235.1387\">«port»</text><text fill=\"#000000\" font-family=\"sans-serif\" font-size=\"12\" lengthAdjust=\"spacingAndGlyphs\" textLength=\"36\" x=\"37\" y=\"249.1074\">pdest</text><line style=\"stroke: #383838; stroke-width: 1.5;\" x1=\"35\" x2=\"79\" y1=\"256.9375\" y2=\"256.9375\"/></a><!--MD5=[4672eba38e49728da53d11aeb285b987]\n",
       "reverse link E3 to E4--><a href=\"psysml:dd790abf-ac6c-4371-bdbb-56cf5ab0181d\" target=\"_top\" title=\"psysml:dd790abf-ac6c-4371-bdbb-56cf5ab0181d\" xlink:actuate=\"onRequest\" xlink:href=\"psysml:dd790abf-ac6c-4371-bdbb-56cf5ab0181d\" xlink:show=\"new\" xlink:title=\"psysml:dd790abf-ac6c-4371-bdbb-56cf5ab0181d\" xlink:type=\"simple\"><path d=\"M156,304.32 C156,320.28 156,336.46 156,348.89 \" fill=\"none\" id=\"E3&lt;-E4\" style=\"stroke: #383838; stroke-width: 1.0; stroke-dasharray: 7.0,7.0;\"/><ellipse cx=\"156\" cy=\"297.21\" fill=\"#FFFFFF\" rx=\"8\" ry=\"8\" style=\"stroke: #383838; stroke-width: 1.0;\"/><line style=\"stroke: #383838; stroke-width: 1.0;\" x1=\"156\" x2=\"156\" y1=\"305.21\" y2=\"289.21\"/><line style=\"stroke: #383838; stroke-width: 1.0;\" x1=\"148\" x2=\"164\" y1=\"297.21\" y2=\"297.21\"/><text fill=\"#000000\" font-family=\"sans-serif\" font-size=\"13\" lengthAdjust=\"spacingAndGlyphs\" textLength=\"8\" x=\"146.925\" y=\"337.7567\">1</text></a><!--MD5=[e9be52314489bd878ff4c7144b63c9e1]\n",
       "link E5 to E3--><a href=\"psysml:a968a559-ae75-4ff7-b264-66e5a143558d\" target=\"_top\" title=\"psysml:a968a559-ae75-4ff7-b264-66e5a143558d\" xlink:actuate=\"onRequest\" xlink:href=\"psysml:a968a559-ae75-4ff7-b264-66e5a143558d\" xlink:show=\"new\" xlink:title=\"psysml:a968a559-ae75-4ff7-b264-66e5a143558d\" xlink:type=\"simple\"><path d=\"M161.01,132.15 C160.41,145.3 159.73,160.08 159.07,174.4 \" fill=\"none\" id=\"E5-&gt;E3\" style=\"stroke: #383838; stroke-width: 1.0;\"/><polygon fill=\"#FFFFFF\" points=\"158.13,194.82,152.0056,175.52,165.991,176.1597,158.13,194.82\" style=\"stroke: #383838; stroke-width: 1.0;\"/><ellipse cx=\"154.264\" cy=\"169.9173\" fill=\"#383838\" rx=\"2\" ry=\"2\" style=\"stroke: #383838; stroke-width: 1.0;\"/><ellipse cx=\"164.2535\" cy=\"170.3743\" fill=\"#383838\" rx=\"2\" ry=\"2\" style=\"stroke: #383838; stroke-width: 1.0;\"/></a><!--MD5=[a717450b82c80b9240a525fa862496af]\n",
       "link E6 to E3--><a href=\"psysml:a1db7df5-c75d-4551-8d1a-744022949b4d\" target=\"_top\" title=\"psysml:a1db7df5-c75d-4551-8d1a-744022949b4d\" xlink:actuate=\"onRequest\" xlink:href=\"psysml:a1db7df5-c75d-4551-8d1a-744022949b4d\" xlink:show=\"new\" xlink:title=\"psysml:a1db7df5-c75d-4551-8d1a-744022949b4d\" xlink:type=\"simple\"><path d=\"M82.24,127.75 C92.15,142.97 103.8,160.85 114.86,177.84 \" fill=\"none\" id=\"E6-&gt;E3\" style=\"stroke: #383838; stroke-width: 1.0;\"/><polygon fill=\"#FFFFFF\" points=\"125.87,194.74,109.6276,182.6493,121.3542,175.0015,125.87,194.74\" style=\"stroke: #383838; stroke-width: 1.0;\"/><ellipse cx=\"108.1891\" cy=\"176.7824\" fill=\"#383838\" rx=\"2\" ry=\"2\" style=\"stroke: #383838; stroke-width: 1.0;\"/><ellipse cx=\"116.5652\" cy=\"171.3197\" fill=\"#383838\" rx=\"2\" ry=\"2\" style=\"stroke: #383838; stroke-width: 1.0;\"/></a><!--MD5=[3f50a3473f1dfb74d3f76443e03635af]\n",
       "reverse link E6 to E7--><a href=\"psysml:b8781950-4d8a-4fb9-9fe0-7c7847cd278f\" target=\"_top\" title=\"psysml:b8781950-4d8a-4fb9-9fe0-7c7847cd278f\" xlink:actuate=\"onRequest\" xlink:href=\"psysml:b8781950-4d8a-4fb9-9fe0-7c7847cd278f\" xlink:show=\"new\" xlink:title=\"psysml:b8781950-4d8a-4fb9-9fe0-7c7847cd278f\" xlink:type=\"simple\"><path d=\"M57,150.16 C57,174.43 57,200.81 57,218.85 \" fill=\"none\" id=\"E6&lt;-E7\" style=\"stroke: #383838; stroke-width: 1.0; stroke-dasharray: 7.0,7.0;\"/><ellipse cx=\"57\" cy=\"143.02\" fill=\"#FFFFFF\" rx=\"8\" ry=\"8\" style=\"stroke: #383838; stroke-width: 1.0;\"/><line style=\"stroke: #383838; stroke-width: 1.0;\" x1=\"57\" x2=\"57\" y1=\"151.02\" y2=\"135.02\"/><line style=\"stroke: #383838; stroke-width: 1.0;\" x1=\"49\" x2=\"65\" y1=\"143.02\" y2=\"143.02\"/><text fill=\"#000000\" font-family=\"sans-serif\" font-size=\"13\" lengthAdjust=\"spacingAndGlyphs\" textLength=\"8\" x=\"47.975\" y=\"208.0879\">1</text></a><!--MD5=[2b91871eb950d2a5da07a9d941821a32]\n",
       "@startuml\r\n",
       " skinparam monochrome true\r\n",
       "skinparam classbackgroundcolor white\r\n",
       "skinparam shadowing false\r\n",
       "skinparam wrapWidth 300\r\n",
       "hide circle\r\n",
       "\r\n",
       "package \"AliasTest\" as E1  [[psysml:6242facc-ff06-44d1-b4f3-467b2ef71334 ]]  {\r\n",
       "comp usage \"b :> ISQSpaceTime::width\" as E2  <<(T,blue) attribute>> [[psysml:c7d5118b-0b42-4b21-9071-aba180ff097b ]] {\r\n",
       "}\r\n",
       "comp def \"P1\" as E3  <<(T,blue) part  def>> [[psysml:f3a385fe-c72f-4489-86aa-e832e0f5c54b ]] {\r\n",
       "- - ports - -\r\n",
       "porig1\r\n",
       "|_ \r\n",
       "}\r\n",
       "comp usage \"porig1 \" as E4  <<(T,blue) port>> [[psysml:12c3f617-858e-4877-bab3-72d077a58110 ]] {\r\n",
       "}\r\n",
       "comp usage \"p1: P1 \" as E5  <<(T,blue) part>> [[psysml:f19cd7cf-ead7-487d-acf0-998c02877f08 ]] {\r\n",
       "- - ports - -\r\n",
       "po1\\n//:>>P1::porig1// \r\n",
       "}\r\n",
       "comp usage \"p2: P1 \" as E6  <<(T,blue) part>> [[psysml:3758ddaf-2d7c-4372-b46d-cbe5af56d102 ]] {\r\n",
       "- - ports - -\r\n",
       "pdest\r\n",
       "|_ \r\n",
       "}\r\n",
       "comp usage \"pdest \" as E7  <<(T,blue) port>> [[psysml:009efb1a-81d8-4f5e-8e24-a878e8625106 ]] {\r\n",
       "}\r\n",
       "}\r\n",
       "E3 +.. \"1\"E4 [[psysml:dd790abf-ac6c-4371-bdbb-56cf5ab0181d ]] \r\n",
       "E5 - -:|> E3 [[psysml:a968a559-ae75-4ff7-b264-66e5a143558d ]] \r\n",
       "E6 - -:|> E3 [[psysml:a1db7df5-c75d-4551-8d1a-744022949b4d ]] \r\n",
       "E6 +.. \"1\"E7 [[psysml:b8781950-4d8a-4fb9-9fe0-7c7847cd278f ]] \r\n",
       "@enduml\r\n",
       "\n",
       "PlantUML version 1.2020.13(Sat Jun 13 12:26:38 UTC 2020)\n",
       "(EPL source distribution)\n",
       "Java Runtime: OpenJDK Runtime Environment\n",
       "JVM: OpenJDK 64-Bit Server VM\n",
       "Default Encoding: UTF-8\n",
       "Language: en\n",
       "Country: null\n",
       "--></g></svg>"
      ]
     },
     "execution_count": 8,
     "metadata": {},
     "output_type": "execute_result"
    }
   ],
   "source": [
    "%viz --style=\"COMPTREE\" --view=\"MIXED\" \"AliasTest\""
   ]
  },
  {
   "cell_type": "code",
   "execution_count": 9,
   "id": "ca699289",
   "metadata": {
    "execution": {
     "iopub.execute_input": "2022-03-21T07:52:15.635983Z",
     "iopub.status.busy": "2022-03-21T07:52:15.635579Z",
     "iopub.status.idle": "2022-03-21T07:52:15.693772Z",
     "shell.execute_reply": "2022-03-21T07:52:15.693410Z"
    }
   },
   "outputs": [
    {
     "data": {
      "image/svg+xml": [
       "<?xml version=\"1.0\" encoding=\"UTF-8\" standalone=\"no\"?><svg xmlns=\"http://www.w3.org/2000/svg\" xmlns:xlink=\"http://www.w3.org/1999/xlink\" contentScriptType=\"application/ecmascript\" contentStyleType=\"text/css\" height=\"327px\" preserveAspectRatio=\"none\" style=\"width:406px;height:327px;\" version=\"1.1\" viewBox=\"0 0 406 327\" width=\"406px\" zoomAndPan=\"magnify\"><defs/><g><!--MD5=[fbc87193dbaf4d95561dea2c320d4a47]\n",
       "cluster E1--><a href=\"psysml:6242facc-ff06-44d1-b4f3-467b2ef71334\" target=\"_top\" title=\"psysml:6242facc-ff06-44d1-b4f3-467b2ef71334\" xlink:actuate=\"onRequest\" xlink:href=\"psysml:6242facc-ff06-44d1-b4f3-467b2ef71334\" xlink:show=\"new\" xlink:title=\"psysml:6242facc-ff06-44d1-b4f3-467b2ef71334\" xlink:type=\"simple\"><polygon fill=\"#FFFFFF\" points=\"16,6,84,6,91,28.2969,384,28.2969,384,315,16,315,16,6\" style=\"stroke: #000000; stroke-width: 1.5;\"/><line style=\"stroke: #000000; stroke-width: 1.5;\" x1=\"16\" x2=\"91\" y1=\"28.2969\" y2=\"28.2969\"/><text fill=\"#000000\" font-family=\"sans-serif\" font-size=\"14\" font-weight=\"bold\" lengthAdjust=\"spacingAndGlyphs\" textLength=\"62\" x=\"20\" y=\"20.9951\">AliasTest</text></a><!--MD5=[b4997ac47864f28c2f74865a473b2911]\n",
       "class E2--><a href=\"psysml:c7d5118b-0b42-4b21-9071-aba180ff097b\" target=\"_top\" title=\"psysml:c7d5118b-0b42-4b21-9071-aba180ff097b\" xlink:actuate=\"onRequest\" xlink:href=\"psysml:c7d5118b-0b42-4b21-9071-aba180ff097b\" xlink:show=\"new\" xlink:title=\"psysml:c7d5118b-0b42-4b21-9071-aba180ff097b\" xlink:type=\"simple\"><rect fill=\"#FFFFFF\" height=\"45.9375\" id=\"E2\" rx=\"10\" ry=\"10\" style=\"stroke: #383838; stroke-width: 1.5;\" width=\"165\" x=\"202.5\" y=\"41\"/><text fill=\"#000000\" font-family=\"sans-serif\" font-size=\"12\" font-style=\"italic\" lengthAdjust=\"spacingAndGlyphs\" textLength=\"69\" x=\"250.5\" y=\"57.1387\">«attribute»</text><text fill=\"#000000\" font-family=\"sans-serif\" font-size=\"12\" lengthAdjust=\"spacingAndGlyphs\" textLength=\"159\" x=\"205.5\" y=\"71.1074\">b :&gt; ISQSpaceTime::width</text><line style=\"stroke: #383838; stroke-width: 1.5;\" x1=\"203.5\" x2=\"366.5\" y1=\"78.9375\" y2=\"78.9375\"/></a><!--MD5=[09b614a08d8cba4a07c9adeb5e0fee81]\n",
       "class E3--><a href=\"psysml:f3a385fe-c72f-4489-86aa-e832e0f5c54b\" target=\"_top\" title=\"psysml:f3a385fe-c72f-4489-86aa-e832e0f5c54b\" xlink:actuate=\"onRequest\" xlink:href=\"psysml:f3a385fe-c72f-4489-86aa-e832e0f5c54b\" xlink:show=\"new\" xlink:title=\"psysml:f3a385fe-c72f-4489-86aa-e832e0f5c54b\" xlink:type=\"simple\"><rect fill=\"#FFFFFF\" height=\"45.9375\" id=\"E3\" style=\"stroke: #383838; stroke-width: 1.5;\" width=\"70\" x=\"170\" y=\"147\"/><text fill=\"#000000\" font-family=\"sans-serif\" font-size=\"12\" font-style=\"italic\" lengthAdjust=\"spacingAndGlyphs\" textLength=\"68\" x=\"171\" y=\"163.1387\">«part  def»</text><text fill=\"#000000\" font-family=\"sans-serif\" font-size=\"12\" lengthAdjust=\"spacingAndGlyphs\" textLength=\"16\" x=\"197\" y=\"177.1074\">P1</text><line style=\"stroke: #383838; stroke-width: 1.5;\" x1=\"171\" x2=\"239\" y1=\"184.9375\" y2=\"184.9375\"/></a><!--MD5=[ebbe1d658d1005bcc118a6aa81145e00]\n",
       "class E4--><a href=\"psysml:12c3f617-858e-4877-bab3-72d077a58110\" target=\"_top\" title=\"psysml:12c3f617-858e-4877-bab3-72d077a58110\" xlink:actuate=\"onRequest\" xlink:href=\"psysml:12c3f617-858e-4877-bab3-72d077a58110\" xlink:show=\"new\" xlink:title=\"psysml:12c3f617-858e-4877-bab3-72d077a58110\" xlink:type=\"simple\"><rect fill=\"#FFFFFF\" height=\"45.9375\" id=\"E4\" rx=\"10\" ry=\"10\" style=\"stroke: #383838; stroke-width: 1.5;\" width=\"50\" x=\"180\" y=\"253\"/><text fill=\"#000000\" font-family=\"sans-serif\" font-size=\"12\" font-style=\"italic\" lengthAdjust=\"spacingAndGlyphs\" textLength=\"40\" x=\"185\" y=\"269.1387\">«port»</text><text fill=\"#000000\" font-family=\"sans-serif\" font-size=\"12\" lengthAdjust=\"spacingAndGlyphs\" textLength=\"40\" x=\"183\" y=\"283.1074\">porig1</text><line style=\"stroke: #383838; stroke-width: 1.5;\" x1=\"181\" x2=\"229\" y1=\"290.9375\" y2=\"290.9375\"/></a><!--MD5=[270fce915f116d4de14055a7c1d9a0f3]\n",
       "class E5--><a href=\"psysml:f19cd7cf-ead7-487d-acf0-998c02877f08\" target=\"_top\" title=\"psysml:f19cd7cf-ead7-487d-acf0-998c02877f08\" xlink:actuate=\"onRequest\" xlink:href=\"psysml:f19cd7cf-ead7-487d-acf0-998c02877f08\" xlink:show=\"new\" xlink:title=\"psysml:f19cd7cf-ead7-487d-acf0-998c02877f08\" xlink:type=\"simple\"><rect fill=\"#FFFFFF\" height=\"45.9375\" id=\"E5\" rx=\"10\" ry=\"10\" style=\"stroke: #383838; stroke-width: 1.5;\" width=\"50\" x=\"117\" y=\"41\"/><text fill=\"#000000\" font-family=\"sans-serif\" font-size=\"12\" font-style=\"italic\" lengthAdjust=\"spacingAndGlyphs\" textLength=\"40\" x=\"122\" y=\"57.1387\">«part»</text><text fill=\"#000000\" font-family=\"sans-serif\" font-size=\"12\" lengthAdjust=\"spacingAndGlyphs\" textLength=\"40\" x=\"120\" y=\"71.1074\">p1: P1</text><line style=\"stroke: #383838; stroke-width: 1.5;\" x1=\"118\" x2=\"166\" y1=\"78.9375\" y2=\"78.9375\"/></a><!--MD5=[60a26617385b1d2d0262a64233df1f8d]\n",
       "class E6--><a href=\"psysml:7bd77f36-e1da-430e-90ed-8aecc87780c5\" target=\"_top\" title=\"psysml:7bd77f36-e1da-430e-90ed-8aecc87780c5\" xlink:actuate=\"onRequest\" xlink:href=\"psysml:7bd77f36-e1da-430e-90ed-8aecc87780c5\" xlink:show=\"new\" xlink:title=\"psysml:7bd77f36-e1da-430e-90ed-8aecc87780c5\" xlink:type=\"simple\"><rect fill=\"#FFFFFF\" height=\"45.9375\" id=\"E6\" rx=\"10\" ry=\"10\" style=\"stroke: #383838; stroke-width: 1.5;\" width=\"42\" x=\"93\" y=\"147\"/><text fill=\"#000000\" font-family=\"sans-serif\" font-size=\"12\" font-style=\"italic\" lengthAdjust=\"spacingAndGlyphs\" textLength=\"40\" x=\"94\" y=\"163.1387\">«port»</text><text fill=\"#000000\" font-family=\"sans-serif\" font-size=\"12\" lengthAdjust=\"spacingAndGlyphs\" textLength=\"24\" x=\"100\" y=\"177.1074\">po1</text><line style=\"stroke: #383838; stroke-width: 1.5;\" x1=\"94\" x2=\"134\" y1=\"184.9375\" y2=\"184.9375\"/></a><!--MD5=[2156ba9850f5573cc1fc38a6a4b2f02b]\n",
       "class E7--><a href=\"psysml:3758ddaf-2d7c-4372-b46d-cbe5af56d102\" target=\"_top\" title=\"psysml:3758ddaf-2d7c-4372-b46d-cbe5af56d102\" xlink:actuate=\"onRequest\" xlink:href=\"psysml:3758ddaf-2d7c-4372-b46d-cbe5af56d102\" xlink:show=\"new\" xlink:title=\"psysml:3758ddaf-2d7c-4372-b46d-cbe5af56d102\" xlink:type=\"simple\"><rect fill=\"#FFFFFF\" height=\"45.9375\" id=\"E7\" rx=\"10\" ry=\"10\" style=\"stroke: #383838; stroke-width: 1.5;\" width=\"50\" x=\"32\" y=\"41\"/><text fill=\"#000000\" font-family=\"sans-serif\" font-size=\"12\" font-style=\"italic\" lengthAdjust=\"spacingAndGlyphs\" textLength=\"40\" x=\"37\" y=\"57.1387\">«part»</text><text fill=\"#000000\" font-family=\"sans-serif\" font-size=\"12\" lengthAdjust=\"spacingAndGlyphs\" textLength=\"40\" x=\"35\" y=\"71.1074\">p2: P1</text><line style=\"stroke: #383838; stroke-width: 1.5;\" x1=\"33\" x2=\"81\" y1=\"78.9375\" y2=\"78.9375\"/></a><!--MD5=[b9389687b975829384b498ac4b7476b2]\n",
       "class E8--><a href=\"psysml:009efb1a-81d8-4f5e-8e24-a878e8625106\" target=\"_top\" title=\"psysml:009efb1a-81d8-4f5e-8e24-a878e8625106\" xlink:actuate=\"onRequest\" xlink:href=\"psysml:009efb1a-81d8-4f5e-8e24-a878e8625106\" xlink:show=\"new\" xlink:title=\"psysml:009efb1a-81d8-4f5e-8e24-a878e8625106\" xlink:type=\"simple\"><rect fill=\"#FFFFFF\" height=\"45.9375\" id=\"E8\" rx=\"10\" ry=\"10\" style=\"stroke: #383838; stroke-width: 1.5;\" width=\"46\" x=\"63\" y=\"253\"/><text fill=\"#000000\" font-family=\"sans-serif\" font-size=\"12\" font-style=\"italic\" lengthAdjust=\"spacingAndGlyphs\" textLength=\"40\" x=\"66\" y=\"269.1387\">«port»</text><text fill=\"#000000\" font-family=\"sans-serif\" font-size=\"12\" lengthAdjust=\"spacingAndGlyphs\" textLength=\"36\" x=\"66\" y=\"283.1074\">pdest</text><line style=\"stroke: #383838; stroke-width: 1.5;\" x1=\"64\" x2=\"108\" y1=\"290.9375\" y2=\"290.9375\"/></a><!--MD5=[4672eba38e49728da53d11aeb285b987]\n",
       "reverse link E3 to E4--><a href=\"psysml:97bd4c72-9c32-47a6-a147-0b42cd362230\" target=\"_top\" title=\"psysml:97bd4c72-9c32-47a6-a147-0b42cd362230\" xlink:actuate=\"onRequest\" xlink:href=\"psysml:97bd4c72-9c32-47a6-a147-0b42cd362230\" xlink:show=\"new\" xlink:title=\"psysml:97bd4c72-9c32-47a6-a147-0b42cd362230\" xlink:type=\"simple\"><path d=\"M192.84,206.44 C191.7,221.87 192.21,239.47 194.36,252.98 \" fill=\"none\" id=\"E3&lt;-E4\" style=\"stroke: #383838; stroke-width: 1.0;\"/><polygon fill=\"#FFFFFF\" points=\"194.35,193.06,189.7032,198.5743,193.006,204.9845,197.6528,199.4702,194.35,193.06\" style=\"stroke: #383838; stroke-width: 1.0;\"/><text fill=\"#000000\" font-family=\"sans-serif\" font-size=\"13\" lengthAdjust=\"spacingAndGlyphs\" textLength=\"8\" x=\"182.4255\" y=\"241.8709\">1</text></a><!--MD5=[4672eba38e49728da53d11aeb285b987]\n",
       "reverse link E3 to E4--><a href=\"psysml:dd790abf-ac6c-4371-bdbb-56cf5ab0181d\" target=\"_top\" title=\"psysml:dd790abf-ac6c-4371-bdbb-56cf5ab0181d\" xlink:actuate=\"onRequest\" xlink:href=\"psysml:dd790abf-ac6c-4371-bdbb-56cf5ab0181d\" xlink:show=\"new\" xlink:title=\"psysml:dd790abf-ac6c-4371-bdbb-56cf5ab0181d\" xlink:type=\"simple\"><path d=\"M218.01,208.34 C219.03,223.3 218.45,240.02 216.27,252.98 \" fill=\"none\" id=\"E3&lt;-E4-1\" style=\"stroke: #383838; stroke-width: 1.0; stroke-dasharray: 7.0,7.0;\"/><ellipse cx=\"217.1693\" cy=\"201.0093\" fill=\"#FFFFFF\" rx=\"8\" ry=\"8\" style=\"stroke: #383838; stroke-width: 1.0;\"/><line style=\"stroke: #383838; stroke-width: 1.0;\" x1=\"218.0687\" x2=\"216.27\" y1=\"208.9586\" y2=\"193.06\"/><line style=\"stroke: #383838; stroke-width: 1.0;\" x1=\"209.2201\" x2=\"225.1186\" y1=\"201.9086\" y2=\"200.1099\"/><text fill=\"#000000\" font-family=\"sans-serif\" font-size=\"13\" lengthAdjust=\"spacingAndGlyphs\" textLength=\"8\" x=\"210.2238\" y=\"241.8709\">1</text></a><!--MD5=[e9be52314489bd878ff4c7144b63c9e1]\n",
       "link E5 to E3--><a href=\"psysml:a968a559-ae75-4ff7-b264-66e5a143558d\" target=\"_top\" title=\"psysml:a968a559-ae75-4ff7-b264-66e5a143558d\" xlink:actuate=\"onRequest\" xlink:href=\"psysml:a968a559-ae75-4ff7-b264-66e5a143558d\" xlink:show=\"new\" xlink:title=\"psysml:a968a559-ae75-4ff7-b264-66e5a143558d\" xlink:type=\"simple\"><path d=\"M155.36,87.06 C162.88,99.47 172.49,115.33 181.24,129.78 \" fill=\"none\" id=\"E5-&gt;E3\" style=\"stroke: #383838; stroke-width: 1.0;\"/><polygon fill=\"#FFFFFF\" points=\"191.66,146.98,175.8217,134.3646,187.792,127.1044,191.66,146.98\" style=\"stroke: #383838; stroke-width: 1.0;\"/><ellipse cx=\"174.5758\" cy=\"128.4538\" fill=\"#383838\" rx=\"2\" ry=\"2\" style=\"stroke: #383838; stroke-width: 1.0;\"/><ellipse cx=\"183.126\" cy=\"123.2679\" fill=\"#383838\" rx=\"2\" ry=\"2\" style=\"stroke: #383838; stroke-width: 1.0;\"/></a><!--MD5=[85d356282659285ab4b2cfe2f634dd2b]\n",
       "reverse link E5 to E6--><a href=\"psysml:167a231e-25d4-4100-8e0d-53e0a4e750c8\" target=\"_top\" title=\"psysml:167a231e-25d4-4100-8e0d-53e0a4e750c8\" xlink:actuate=\"onRequest\" xlink:href=\"psysml:167a231e-25d4-4100-8e0d-53e0a4e750c8\" xlink:show=\"new\" xlink:title=\"psysml:167a231e-25d4-4100-8e0d-53e0a4e750c8\" xlink:type=\"simple\"><path d=\"M132.59,99.96 C128.4,115.51 123.6,133.33 119.93,146.98 \" fill=\"none\" id=\"E5&lt;-E6\" style=\"stroke: #383838; stroke-width: 1.0;\"/><polygon fill=\"#FFFFFF\" points=\"136.06,87.06,130.641,91.8176,132.9484,98.6496,138.3674,93.892,136.06,87.06\" style=\"stroke: #383838; stroke-width: 1.0;\"/><text fill=\"#000000\" font-family=\"sans-serif\" font-size=\"13\" lengthAdjust=\"spacingAndGlyphs\" textLength=\"8\" x=\"112.4487\" y=\"135.8709\">1</text></a><!--MD5=[f667431f98296947986a1a7595a31603]\n",
       "link E6 to E4--><a href=\"psysml:57ff51c2-e85d-4f72-aa72-bbf7c251408b\" target=\"_top\" title=\"psysml:57ff51c2-e85d-4f72-aa72-bbf7c251408b\" xlink:actuate=\"onRequest\" xlink:href=\"psysml:57ff51c2-e85d-4f72-aa72-bbf7c251408b\" xlink:show=\"new\" xlink:title=\"psysml:57ff51c2-e85d-4f72-aa72-bbf7c251408b\" xlink:type=\"simple\"><path d=\"M133.3,193.06 C144.64,206.02 159.28,222.74 172.36,237.7 \" fill=\"none\" id=\"E6-&gt;E4\" style=\"stroke: #383838; stroke-width: 1.0;\"/><polygon fill=\"#FFFFFF\" points=\"185.73,252.98,167.9517,243.2882,178.489,234.0705,185.73,252.98\" style=\"stroke: #383838; stroke-width: 1.0;\"/><line style=\"stroke: #383838; stroke-width: 2.0;\" x1=\"165.4497\" x2=\"175.9871\" y1=\"240.4281\" y2=\"231.2104\"/></a><!--MD5=[14ccda38c055a5c0da953d572bc50960]\n",
       "link E7 to E3--><a href=\"psysml:a1db7df5-c75d-4551-8d1a-744022949b4d\" target=\"_top\" title=\"psysml:a1db7df5-c75d-4551-8d1a-744022949b4d\" xlink:actuate=\"onRequest\" xlink:href=\"psysml:a1db7df5-c75d-4551-8d1a-744022949b4d\" xlink:show=\"new\" xlink:title=\"psysml:a1db7df5-c75d-4551-8d1a-744022949b4d\" xlink:type=\"simple\"><path d=\"M82.11,82.64 C102.61,97.05 132.18,117.83 157.18,135.39 \" fill=\"none\" id=\"E7-&gt;E3\" style=\"stroke: #383838; stroke-width: 1.0;\"/><polygon fill=\"#FFFFFF\" points=\"173.58,146.92,154.011,141.7187,162.0629,130.266,173.58,146.92\" style=\"stroke: #383838; stroke-width: 1.0;\"/><ellipse cx=\"150.4983\" cy=\"136.8043\" fill=\"#383838\" rx=\"2\" ry=\"2\" style=\"stroke: #383838; stroke-width: 1.0;\"/><ellipse cx=\"156.2497\" cy=\"128.6238\" fill=\"#383838\" rx=\"2\" ry=\"2\" style=\"stroke: #383838; stroke-width: 1.0;\"/></a><!--MD5=[dc164f5e8a733ab456ef1add180e9e34]\n",
       "reverse link E7 to E8--><a href=\"psysml:f57d57d9-12d9-410c-acd5-2b53e0560bbf\" target=\"_top\" title=\"psysml:f57d57d9-12d9-410c-acd5-2b53e0560bbf\" xlink:actuate=\"onRequest\" xlink:href=\"psysml:f57d57d9-12d9-410c-acd5-2b53e0560bbf\" xlink:show=\"new\" xlink:title=\"psysml:f57d57d9-12d9-410c-acd5-2b53e0560bbf\" xlink:type=\"simple\"><path d=\"M52.05,100.09 C53.65,143.61 64.25,216.5 74.75,252.9 \" fill=\"none\" id=\"E7&lt;-E8\" style=\"stroke: #383838; stroke-width: 1.0;\"/><polygon fill=\"#FFFFFF\" points=\"51.85,87.08,47.9362,93.1366,52.0216,99.0788,55.9354,93.0222,51.85,87.08\" style=\"stroke: #383838; stroke-width: 1.0;\"/><text fill=\"#000000\" font-family=\"sans-serif\" font-size=\"13\" lengthAdjust=\"spacingAndGlyphs\" textLength=\"8\" x=\"62.6516\" y=\"241.7694\">1</text></a><!--MD5=[dc164f5e8a733ab456ef1add180e9e34]\n",
       "reverse link E7 to E8--><a href=\"psysml:b8781950-4d8a-4fb9-9fe0-7c7847cd278f\" target=\"_top\" title=\"psysml:b8781950-4d8a-4fb9-9fe0-7c7847cd278f\" xlink:actuate=\"onRequest\" xlink:href=\"psysml:b8781950-4d8a-4fb9-9fe0-7c7847cd278f\" xlink:show=\"new\" xlink:title=\"psysml:b8781950-4d8a-4fb9-9fe0-7c7847cd278f\" xlink:type=\"simple\"><path d=\"M72.64,101.8 C83.15,145.5 92.39,216.97 91.63,252.9 \" fill=\"none\" id=\"E7&lt;-E8-1\" style=\"stroke: #383838; stroke-width: 1.0; stroke-dasharray: 7.0,7.0;\"/><ellipse cx=\"70.7794\" cy=\"94.813\" fill=\"#FFFFFF\" rx=\"8\" ry=\"8\" style=\"stroke: #383838; stroke-width: 1.0;\"/><line style=\"stroke: #383838; stroke-width: 1.0;\" x1=\"72.8289\" x2=\"68.73\" y1=\"102.5461\" y2=\"87.08\"/><line style=\"stroke: #383838; stroke-width: 1.0;\" x1=\"63.0464\" x2=\"78.5125\" y1=\"96.8625\" y2=\"92.7636\"/><text fill=\"#000000\" font-family=\"sans-serif\" font-size=\"13\" lengthAdjust=\"spacingAndGlyphs\" textLength=\"8\" x=\"94.2181\" y=\"241.7694\">1</text></a><!--MD5=[0a839d0f80c2d72d4b9b307f046d0de8]\n",
       "link E6 to E8--><a href=\"psysml:117cd7b6-777c-4755-88f6-d7a432271d85\" target=\"_top\" title=\"psysml:117cd7b6-777c-4755-88f6-d7a432271d85\" xlink:actuate=\"onRequest\" xlink:href=\"psysml:117cd7b6-777c-4755-88f6-d7a432271d85\" xlink:show=\"new\" xlink:title=\"psysml:117cd7b6-777c-4755-88f6-d7a432271d85\" xlink:type=\"simple\"><path d=\"M97.42,193.06 C89.86,210.7 83.23,235.34 81.29,252.98 \" fill=\"none\" id=\"E6-E8\" style=\"stroke: #383838; stroke-width: 3.0;\"/><text fill=\"#000000\" font-family=\"sans-serif\" font-size=\"13\" lengthAdjust=\"spacingAndGlyphs\" textLength=\"7\" x=\"80.9648\" y=\"241.8709\">*</text></a><!--MD5=[0a839d0f80c2d72d4b9b307f046d0de8]\n",
       "link E6 to E8--><a href=\"psysml:c7325d6a-fceb-4e80-be50-eff52df502df\" target=\"_top\" title=\"psysml:c7325d6a-fceb-4e80-be50-eff52df502df\" xlink:actuate=\"onRequest\" xlink:href=\"psysml:c7325d6a-fceb-4e80-be50-eff52df502df\" xlink:show=\"new\" xlink:title=\"psysml:c7325d6a-fceb-4e80-be50-eff52df502df\" xlink:type=\"simple\"><path d=\"M119.33,193.06 C117.55,210.7 110.92,235.34 103.2,252.98 \" fill=\"none\" id=\"E6-E8-1\" style=\"stroke: #383838; stroke-width: 3.0;\"/><text fill=\"#000000\" font-family=\"sans-serif\" font-size=\"13\" lengthAdjust=\"spacingAndGlyphs\" textLength=\"7\" x=\"99.8819\" y=\"241.8709\">*</text></a><!--MD5=[760514593a04811b816cfabeea3ff10b]\n",
       "@startuml\r\n",
       "skinparam linetype polyline\r\n",
       "skinparam monochrome true\r\n",
       "skinparam classbackgroundcolor white\r\n",
       "skinparam shadowing false\r\n",
       "skinparam wrapWidth 300\r\n",
       "hide circle\r\n",
       "\r\n",
       "package \"AliasTest\" as E1  [[psysml:6242facc-ff06-44d1-b4f3-467b2ef71334 ]]  {\r\n",
       "comp usage \"b :> ISQSpaceTime::width\" as E2  <<(T,blue) attribute>> [[psysml:c7d5118b-0b42-4b21-9071-aba180ff097b ]] {\r\n",
       "}\r\n",
       "comp def \"P1\" as E3  <<(T,blue) part  def>> [[psysml:f3a385fe-c72f-4489-86aa-e832e0f5c54b ]] {\r\n",
       "}\r\n",
       "comp usage \"porig1 \" as E4  <<(T,blue) port>> [[psysml:12c3f617-858e-4877-bab3-72d077a58110 ]] {\r\n",
       "}\r\n",
       "comp usage \"p1: P1 \" as E5  <<(T,blue) part>> [[psysml:f19cd7cf-ead7-487d-acf0-998c02877f08 ]] {\r\n",
       "}\r\n",
       "comp usage \"po1 \" as E6  <<(T,blue) port>> [[psysml:7bd77f36-e1da-430e-90ed-8aecc87780c5 ]] {\r\n",
       "}\r\n",
       "comp usage \"p2: P1 \" as E7  <<(T,blue) part>> [[psysml:3758ddaf-2d7c-4372-b46d-cbe5af56d102 ]] {\r\n",
       "}\r\n",
       "comp usage \"pdest \" as E8  <<(T,blue) port>> [[psysml:009efb1a-81d8-4f5e-8e24-a878e8625106 ]] {\r\n",
       "}\r\n",
       "}\r\n",
       "E3 o- - \"1\"E4 [[psysml:97bd4c72-9c32-47a6-a147-0b42cd362230 ]] \r\n",
       "E3 +.. \"1\"E4 [[psysml:dd790abf-ac6c-4371-bdbb-56cf5ab0181d ]] \r\n",
       "E5 - -:|> E3 [[psysml:a968a559-ae75-4ff7-b264-66e5a143558d ]] \r\n",
       "E5 o- - \"1\"E6 [[psysml:167a231e-25d4-4100-8e0d-53e0a4e750c8 ]] \r\n",
       "E6 - -||> E4 [[psysml:57ff51c2-e85d-4f72-aa72-bbf7c251408b ]] \r\n",
       "E7 - -:|> E3 [[psysml:a1db7df5-c75d-4551-8d1a-744022949b4d ]] \r\n",
       "E7 o- - \"1\"E8 [[psysml:f57d57d9-12d9-410c-acd5-2b53e0560bbf ]] \r\n",
       "E7 +.. \"1\"E8 [[psysml:b8781950-4d8a-4fb9-9fe0-7c7847cd278f ]] \r\n",
       "E6 -[thickness=3]- \"*\"E8 [[psysml:117cd7b6-777c-4755-88f6-d7a432271d85 ]] \r\n",
       "E6 -[thickness=3]- \"*\"E8 [[psysml:c7325d6a-fceb-4e80-be50-eff52df502df ]] \r\n",
       "@enduml\r\n",
       "\n",
       "PlantUML version 1.2020.13(Sat Jun 13 12:26:38 UTC 2020)\n",
       "(EPL source distribution)\n",
       "Java Runtime: OpenJDK Runtime Environment\n",
       "JVM: OpenJDK 64-Bit Server VM\n",
       "Default Encoding: UTF-8\n",
       "Language: en\n",
       "Country: null\n",
       "--></g></svg>"
      ]
     },
     "execution_count": 9,
     "metadata": {},
     "output_type": "execute_result"
    }
   ],
   "source": [
    "%viz --style=\"POLYLINE\" --view=\"Default\" \"AliasTest\""
   ]
  },
  {
   "cell_type": "code",
   "execution_count": 10,
   "id": "3ac3be64",
   "metadata": {
    "execution": {
     "iopub.execute_input": "2022-03-21T07:52:15.743744Z",
     "iopub.status.busy": "2022-03-21T07:52:15.743339Z",
     "iopub.status.idle": "2022-03-21T07:52:15.808322Z",
     "shell.execute_reply": "2022-03-21T07:52:15.807904Z"
    }
   },
   "outputs": [
    {
     "data": {
      "image/svg+xml": [
       "<?xml version=\"1.0\" encoding=\"UTF-8\" standalone=\"no\"?><svg xmlns=\"http://www.w3.org/2000/svg\" xmlns:xlink=\"http://www.w3.org/1999/xlink\" contentScriptType=\"application/ecmascript\" contentStyleType=\"text/css\" height=\"327px\" preserveAspectRatio=\"none\" style=\"width:406px;height:327px;\" version=\"1.1\" viewBox=\"0 0 406 327\" width=\"406px\" zoomAndPan=\"magnify\"><defs/><g><!--MD5=[fbc87193dbaf4d95561dea2c320d4a47]\n",
       "cluster E1--><a href=\"psysml:6242facc-ff06-44d1-b4f3-467b2ef71334\" target=\"_top\" title=\"psysml:6242facc-ff06-44d1-b4f3-467b2ef71334\" xlink:actuate=\"onRequest\" xlink:href=\"psysml:6242facc-ff06-44d1-b4f3-467b2ef71334\" xlink:show=\"new\" xlink:title=\"psysml:6242facc-ff06-44d1-b4f3-467b2ef71334\" xlink:type=\"simple\"><polygon fill=\"#FFFFFF\" points=\"16,6,84,6,91,28.2969,384,28.2969,384,315,16,315,16,6\" style=\"stroke: #000000; stroke-width: 1.5;\"/><line style=\"stroke: #000000; stroke-width: 1.5;\" x1=\"16\" x2=\"91\" y1=\"28.2969\" y2=\"28.2969\"/><text fill=\"#000000\" font-family=\"sans-serif\" font-size=\"14\" font-weight=\"bold\" lengthAdjust=\"spacingAndGlyphs\" textLength=\"62\" x=\"20\" y=\"20.9951\">AliasTest</text></a><!--MD5=[b4997ac47864f28c2f74865a473b2911]\n",
       "class E2--><a href=\"psysml:c7d5118b-0b42-4b21-9071-aba180ff097b\" target=\"_top\" title=\"psysml:c7d5118b-0b42-4b21-9071-aba180ff097b\" xlink:actuate=\"onRequest\" xlink:href=\"psysml:c7d5118b-0b42-4b21-9071-aba180ff097b\" xlink:show=\"new\" xlink:title=\"psysml:c7d5118b-0b42-4b21-9071-aba180ff097b\" xlink:type=\"simple\"><rect fill=\"#FFFFFF\" height=\"45.9375\" id=\"E2\" rx=\"10\" ry=\"10\" style=\"stroke: #383838; stroke-width: 1.5;\" width=\"165\" x=\"202.5\" y=\"41\"/><text fill=\"#000000\" font-family=\"sans-serif\" font-size=\"12\" font-style=\"italic\" lengthAdjust=\"spacingAndGlyphs\" textLength=\"69\" x=\"250.5\" y=\"57.1387\">«attribute»</text><text fill=\"#000000\" font-family=\"sans-serif\" font-size=\"12\" lengthAdjust=\"spacingAndGlyphs\" textLength=\"159\" x=\"205.5\" y=\"71.1074\">b :&gt; ISQSpaceTime::width</text><line style=\"stroke: #383838; stroke-width: 1.5;\" x1=\"203.5\" x2=\"366.5\" y1=\"78.9375\" y2=\"78.9375\"/></a><!--MD5=[09b614a08d8cba4a07c9adeb5e0fee81]\n",
       "class E3--><a href=\"psysml:f3a385fe-c72f-4489-86aa-e832e0f5c54b\" target=\"_top\" title=\"psysml:f3a385fe-c72f-4489-86aa-e832e0f5c54b\" xlink:actuate=\"onRequest\" xlink:href=\"psysml:f3a385fe-c72f-4489-86aa-e832e0f5c54b\" xlink:show=\"new\" xlink:title=\"psysml:f3a385fe-c72f-4489-86aa-e832e0f5c54b\" xlink:type=\"simple\"><rect fill=\"#FFFFFF\" height=\"45.9375\" id=\"E3\" style=\"stroke: #383838; stroke-width: 1.5;\" width=\"70\" x=\"170\" y=\"147\"/><text fill=\"#000000\" font-family=\"sans-serif\" font-size=\"12\" font-style=\"italic\" lengthAdjust=\"spacingAndGlyphs\" textLength=\"68\" x=\"171\" y=\"163.1387\">«part  def»</text><text fill=\"#000000\" font-family=\"sans-serif\" font-size=\"12\" lengthAdjust=\"spacingAndGlyphs\" textLength=\"16\" x=\"197\" y=\"177.1074\">P1</text><line style=\"stroke: #383838; stroke-width: 1.5;\" x1=\"171\" x2=\"239\" y1=\"184.9375\" y2=\"184.9375\"/></a><!--MD5=[ebbe1d658d1005bcc118a6aa81145e00]\n",
       "class E4--><a href=\"psysml:12c3f617-858e-4877-bab3-72d077a58110\" target=\"_top\" title=\"psysml:12c3f617-858e-4877-bab3-72d077a58110\" xlink:actuate=\"onRequest\" xlink:href=\"psysml:12c3f617-858e-4877-bab3-72d077a58110\" xlink:show=\"new\" xlink:title=\"psysml:12c3f617-858e-4877-bab3-72d077a58110\" xlink:type=\"simple\"><rect fill=\"#FFFFFF\" height=\"45.9375\" id=\"E4\" rx=\"10\" ry=\"10\" style=\"stroke: #383838; stroke-width: 1.5;\" width=\"50\" x=\"180\" y=\"253\"/><text fill=\"#000000\" font-family=\"sans-serif\" font-size=\"12\" font-style=\"italic\" lengthAdjust=\"spacingAndGlyphs\" textLength=\"40\" x=\"185\" y=\"269.1387\">«port»</text><text fill=\"#000000\" font-family=\"sans-serif\" font-size=\"12\" lengthAdjust=\"spacingAndGlyphs\" textLength=\"40\" x=\"183\" y=\"283.1074\">porig1</text><line style=\"stroke: #383838; stroke-width: 1.5;\" x1=\"181\" x2=\"229\" y1=\"290.9375\" y2=\"290.9375\"/></a><!--MD5=[270fce915f116d4de14055a7c1d9a0f3]\n",
       "class E5--><a href=\"psysml:f19cd7cf-ead7-487d-acf0-998c02877f08\" target=\"_top\" title=\"psysml:f19cd7cf-ead7-487d-acf0-998c02877f08\" xlink:actuate=\"onRequest\" xlink:href=\"psysml:f19cd7cf-ead7-487d-acf0-998c02877f08\" xlink:show=\"new\" xlink:title=\"psysml:f19cd7cf-ead7-487d-acf0-998c02877f08\" xlink:type=\"simple\"><rect fill=\"#FFFFFF\" height=\"45.9375\" id=\"E5\" rx=\"10\" ry=\"10\" style=\"stroke: #383838; stroke-width: 1.5;\" width=\"50\" x=\"117\" y=\"41\"/><text fill=\"#000000\" font-family=\"sans-serif\" font-size=\"12\" font-style=\"italic\" lengthAdjust=\"spacingAndGlyphs\" textLength=\"40\" x=\"122\" y=\"57.1387\">«part»</text><text fill=\"#000000\" font-family=\"sans-serif\" font-size=\"12\" lengthAdjust=\"spacingAndGlyphs\" textLength=\"40\" x=\"120\" y=\"71.1074\">p1: P1</text><line style=\"stroke: #383838; stroke-width: 1.5;\" x1=\"118\" x2=\"166\" y1=\"78.9375\" y2=\"78.9375\"/></a><!--MD5=[60a26617385b1d2d0262a64233df1f8d]\n",
       "class E6--><a href=\"psysml:7bd77f36-e1da-430e-90ed-8aecc87780c5\" target=\"_top\" title=\"psysml:7bd77f36-e1da-430e-90ed-8aecc87780c5\" xlink:actuate=\"onRequest\" xlink:href=\"psysml:7bd77f36-e1da-430e-90ed-8aecc87780c5\" xlink:show=\"new\" xlink:title=\"psysml:7bd77f36-e1da-430e-90ed-8aecc87780c5\" xlink:type=\"simple\"><rect fill=\"#FFFFFF\" height=\"45.9375\" id=\"E6\" rx=\"10\" ry=\"10\" style=\"stroke: #383838; stroke-width: 1.5;\" width=\"42\" x=\"93\" y=\"147\"/><text fill=\"#000000\" font-family=\"sans-serif\" font-size=\"12\" font-style=\"italic\" lengthAdjust=\"spacingAndGlyphs\" textLength=\"40\" x=\"94\" y=\"163.1387\">«port»</text><text fill=\"#000000\" font-family=\"sans-serif\" font-size=\"12\" lengthAdjust=\"spacingAndGlyphs\" textLength=\"24\" x=\"100\" y=\"177.1074\">po1</text><line style=\"stroke: #383838; stroke-width: 1.5;\" x1=\"94\" x2=\"134\" y1=\"184.9375\" y2=\"184.9375\"/></a><!--MD5=[2156ba9850f5573cc1fc38a6a4b2f02b]\n",
       "class E7--><a href=\"psysml:3758ddaf-2d7c-4372-b46d-cbe5af56d102\" target=\"_top\" title=\"psysml:3758ddaf-2d7c-4372-b46d-cbe5af56d102\" xlink:actuate=\"onRequest\" xlink:href=\"psysml:3758ddaf-2d7c-4372-b46d-cbe5af56d102\" xlink:show=\"new\" xlink:title=\"psysml:3758ddaf-2d7c-4372-b46d-cbe5af56d102\" xlink:type=\"simple\"><rect fill=\"#FFFFFF\" height=\"45.9375\" id=\"E7\" rx=\"10\" ry=\"10\" style=\"stroke: #383838; stroke-width: 1.5;\" width=\"50\" x=\"32\" y=\"41\"/><text fill=\"#000000\" font-family=\"sans-serif\" font-size=\"12\" font-style=\"italic\" lengthAdjust=\"spacingAndGlyphs\" textLength=\"40\" x=\"37\" y=\"57.1387\">«part»</text><text fill=\"#000000\" font-family=\"sans-serif\" font-size=\"12\" lengthAdjust=\"spacingAndGlyphs\" textLength=\"40\" x=\"35\" y=\"71.1074\">p2: P1</text><line style=\"stroke: #383838; stroke-width: 1.5;\" x1=\"33\" x2=\"81\" y1=\"78.9375\" y2=\"78.9375\"/></a><!--MD5=[b9389687b975829384b498ac4b7476b2]\n",
       "class E8--><a href=\"psysml:009efb1a-81d8-4f5e-8e24-a878e8625106\" target=\"_top\" title=\"psysml:009efb1a-81d8-4f5e-8e24-a878e8625106\" xlink:actuate=\"onRequest\" xlink:href=\"psysml:009efb1a-81d8-4f5e-8e24-a878e8625106\" xlink:show=\"new\" xlink:title=\"psysml:009efb1a-81d8-4f5e-8e24-a878e8625106\" xlink:type=\"simple\"><rect fill=\"#FFFFFF\" height=\"45.9375\" id=\"E8\" rx=\"10\" ry=\"10\" style=\"stroke: #383838; stroke-width: 1.5;\" width=\"46\" x=\"63\" y=\"253\"/><text fill=\"#000000\" font-family=\"sans-serif\" font-size=\"12\" font-style=\"italic\" lengthAdjust=\"spacingAndGlyphs\" textLength=\"40\" x=\"66\" y=\"269.1387\">«port»</text><text fill=\"#000000\" font-family=\"sans-serif\" font-size=\"12\" lengthAdjust=\"spacingAndGlyphs\" textLength=\"36\" x=\"66\" y=\"283.1074\">pdest</text><line style=\"stroke: #383838; stroke-width: 1.5;\" x1=\"64\" x2=\"108\" y1=\"290.9375\" y2=\"290.9375\"/></a><!--MD5=[4672eba38e49728da53d11aeb285b987]\n",
       "reverse link E3 to E4--><a href=\"psysml:97bd4c72-9c32-47a6-a147-0b42cd362230\" target=\"_top\" title=\"psysml:97bd4c72-9c32-47a6-a147-0b42cd362230\" xlink:actuate=\"onRequest\" xlink:href=\"psysml:97bd4c72-9c32-47a6-a147-0b42cd362230\" xlink:show=\"new\" xlink:title=\"psysml:97bd4c72-9c32-47a6-a147-0b42cd362230\" xlink:type=\"simple\"><path d=\"M192.84,206.44 C191.7,221.87 192.21,239.47 194.36,252.98 \" fill=\"none\" id=\"E3&lt;-E4\" style=\"stroke: #383838; stroke-width: 1.0;\"/><polygon fill=\"#FFFFFF\" points=\"194.35,193.06,189.7032,198.5743,193.006,204.9845,197.6528,199.4702,194.35,193.06\" style=\"stroke: #383838; stroke-width: 1.0;\"/><text fill=\"#000000\" font-family=\"sans-serif\" font-size=\"13\" lengthAdjust=\"spacingAndGlyphs\" textLength=\"8\" x=\"182.4255\" y=\"241.8709\">1</text></a><!--MD5=[4672eba38e49728da53d11aeb285b987]\n",
       "reverse link E3 to E4--><a href=\"psysml:dd790abf-ac6c-4371-bdbb-56cf5ab0181d\" target=\"_top\" title=\"psysml:dd790abf-ac6c-4371-bdbb-56cf5ab0181d\" xlink:actuate=\"onRequest\" xlink:href=\"psysml:dd790abf-ac6c-4371-bdbb-56cf5ab0181d\" xlink:show=\"new\" xlink:title=\"psysml:dd790abf-ac6c-4371-bdbb-56cf5ab0181d\" xlink:type=\"simple\"><path d=\"M218.01,208.34 C219.03,223.3 218.45,240.02 216.27,252.98 \" fill=\"none\" id=\"E3&lt;-E4-1\" style=\"stroke: #383838; stroke-width: 1.0; stroke-dasharray: 7.0,7.0;\"/><ellipse cx=\"217.1693\" cy=\"201.0093\" fill=\"#FFFFFF\" rx=\"8\" ry=\"8\" style=\"stroke: #383838; stroke-width: 1.0;\"/><line style=\"stroke: #383838; stroke-width: 1.0;\" x1=\"218.0687\" x2=\"216.27\" y1=\"208.9586\" y2=\"193.06\"/><line style=\"stroke: #383838; stroke-width: 1.0;\" x1=\"209.2201\" x2=\"225.1186\" y1=\"201.9086\" y2=\"200.1099\"/><text fill=\"#000000\" font-family=\"sans-serif\" font-size=\"13\" lengthAdjust=\"spacingAndGlyphs\" textLength=\"8\" x=\"210.2238\" y=\"241.8709\">1</text></a><!--MD5=[e9be52314489bd878ff4c7144b63c9e1]\n",
       "link E5 to E3--><a href=\"psysml:a968a559-ae75-4ff7-b264-66e5a143558d\" target=\"_top\" title=\"psysml:a968a559-ae75-4ff7-b264-66e5a143558d\" xlink:actuate=\"onRequest\" xlink:href=\"psysml:a968a559-ae75-4ff7-b264-66e5a143558d\" xlink:show=\"new\" xlink:title=\"psysml:a968a559-ae75-4ff7-b264-66e5a143558d\" xlink:type=\"simple\"><path d=\"M155.36,87.06 C162.88,99.47 172.49,115.33 181.24,129.78 \" fill=\"none\" id=\"E5-&gt;E3\" style=\"stroke: #383838; stroke-width: 1.0;\"/><polygon fill=\"#FFFFFF\" points=\"191.66,146.98,175.8217,134.3646,187.792,127.1044,191.66,146.98\" style=\"stroke: #383838; stroke-width: 1.0;\"/><ellipse cx=\"174.5758\" cy=\"128.4538\" fill=\"#383838\" rx=\"2\" ry=\"2\" style=\"stroke: #383838; stroke-width: 1.0;\"/><ellipse cx=\"183.126\" cy=\"123.2679\" fill=\"#383838\" rx=\"2\" ry=\"2\" style=\"stroke: #383838; stroke-width: 1.0;\"/></a><!--MD5=[85d356282659285ab4b2cfe2f634dd2b]\n",
       "reverse link E5 to E6--><a href=\"psysml:167a231e-25d4-4100-8e0d-53e0a4e750c8\" target=\"_top\" title=\"psysml:167a231e-25d4-4100-8e0d-53e0a4e750c8\" xlink:actuate=\"onRequest\" xlink:href=\"psysml:167a231e-25d4-4100-8e0d-53e0a4e750c8\" xlink:show=\"new\" xlink:title=\"psysml:167a231e-25d4-4100-8e0d-53e0a4e750c8\" xlink:type=\"simple\"><path d=\"M132.59,99.96 C128.4,115.51 123.6,133.33 119.93,146.98 \" fill=\"none\" id=\"E5&lt;-E6\" style=\"stroke: #383838; stroke-width: 1.0;\"/><polygon fill=\"#FFFFFF\" points=\"136.06,87.06,130.641,91.8176,132.9484,98.6496,138.3674,93.892,136.06,87.06\" style=\"stroke: #383838; stroke-width: 1.0;\"/><text fill=\"#000000\" font-family=\"sans-serif\" font-size=\"13\" lengthAdjust=\"spacingAndGlyphs\" textLength=\"8\" x=\"112.4487\" y=\"135.8709\">1</text></a><!--MD5=[f667431f98296947986a1a7595a31603]\n",
       "link E6 to E4--><a href=\"psysml:57ff51c2-e85d-4f72-aa72-bbf7c251408b\" target=\"_top\" title=\"psysml:57ff51c2-e85d-4f72-aa72-bbf7c251408b\" xlink:actuate=\"onRequest\" xlink:href=\"psysml:57ff51c2-e85d-4f72-aa72-bbf7c251408b\" xlink:show=\"new\" xlink:title=\"psysml:57ff51c2-e85d-4f72-aa72-bbf7c251408b\" xlink:type=\"simple\"><path d=\"M133.3,193.06 C144.64,206.02 159.28,222.74 172.36,237.7 \" fill=\"none\" id=\"E6-&gt;E4\" style=\"stroke: #383838; stroke-width: 1.0;\"/><polygon fill=\"#FFFFFF\" points=\"185.73,252.98,167.9517,243.2882,178.489,234.0705,185.73,252.98\" style=\"stroke: #383838; stroke-width: 1.0;\"/><line style=\"stroke: #383838; stroke-width: 2.0;\" x1=\"165.4497\" x2=\"175.9871\" y1=\"240.4281\" y2=\"231.2104\"/></a><!--MD5=[14ccda38c055a5c0da953d572bc50960]\n",
       "link E7 to E3--><a href=\"psysml:a1db7df5-c75d-4551-8d1a-744022949b4d\" target=\"_top\" title=\"psysml:a1db7df5-c75d-4551-8d1a-744022949b4d\" xlink:actuate=\"onRequest\" xlink:href=\"psysml:a1db7df5-c75d-4551-8d1a-744022949b4d\" xlink:show=\"new\" xlink:title=\"psysml:a1db7df5-c75d-4551-8d1a-744022949b4d\" xlink:type=\"simple\"><path d=\"M82.11,82.64 C102.61,97.05 132.18,117.83 157.18,135.39 \" fill=\"none\" id=\"E7-&gt;E3\" style=\"stroke: #383838; stroke-width: 1.0;\"/><polygon fill=\"#FFFFFF\" points=\"173.58,146.92,154.011,141.7187,162.0629,130.266,173.58,146.92\" style=\"stroke: #383838; stroke-width: 1.0;\"/><ellipse cx=\"150.4983\" cy=\"136.8043\" fill=\"#383838\" rx=\"2\" ry=\"2\" style=\"stroke: #383838; stroke-width: 1.0;\"/><ellipse cx=\"156.2497\" cy=\"128.6238\" fill=\"#383838\" rx=\"2\" ry=\"2\" style=\"stroke: #383838; stroke-width: 1.0;\"/></a><!--MD5=[dc164f5e8a733ab456ef1add180e9e34]\n",
       "reverse link E7 to E8--><a href=\"psysml:f57d57d9-12d9-410c-acd5-2b53e0560bbf\" target=\"_top\" title=\"psysml:f57d57d9-12d9-410c-acd5-2b53e0560bbf\" xlink:actuate=\"onRequest\" xlink:href=\"psysml:f57d57d9-12d9-410c-acd5-2b53e0560bbf\" xlink:show=\"new\" xlink:title=\"psysml:f57d57d9-12d9-410c-acd5-2b53e0560bbf\" xlink:type=\"simple\"><path d=\"M52.05,100.09 C53.65,143.61 64.25,216.5 74.75,252.9 \" fill=\"none\" id=\"E7&lt;-E8\" style=\"stroke: #383838; stroke-width: 1.0;\"/><polygon fill=\"#FFFFFF\" points=\"51.85,87.08,47.9362,93.1366,52.0216,99.0788,55.9354,93.0222,51.85,87.08\" style=\"stroke: #383838; stroke-width: 1.0;\"/><text fill=\"#000000\" font-family=\"sans-serif\" font-size=\"13\" lengthAdjust=\"spacingAndGlyphs\" textLength=\"8\" x=\"62.6516\" y=\"241.7694\">1</text></a><!--MD5=[dc164f5e8a733ab456ef1add180e9e34]\n",
       "reverse link E7 to E8--><a href=\"psysml:b8781950-4d8a-4fb9-9fe0-7c7847cd278f\" target=\"_top\" title=\"psysml:b8781950-4d8a-4fb9-9fe0-7c7847cd278f\" xlink:actuate=\"onRequest\" xlink:href=\"psysml:b8781950-4d8a-4fb9-9fe0-7c7847cd278f\" xlink:show=\"new\" xlink:title=\"psysml:b8781950-4d8a-4fb9-9fe0-7c7847cd278f\" xlink:type=\"simple\"><path d=\"M72.64,101.8 C83.15,145.5 92.39,216.97 91.63,252.9 \" fill=\"none\" id=\"E7&lt;-E8-1\" style=\"stroke: #383838; stroke-width: 1.0; stroke-dasharray: 7.0,7.0;\"/><ellipse cx=\"70.7794\" cy=\"94.813\" fill=\"#FFFFFF\" rx=\"8\" ry=\"8\" style=\"stroke: #383838; stroke-width: 1.0;\"/><line style=\"stroke: #383838; stroke-width: 1.0;\" x1=\"72.8289\" x2=\"68.73\" y1=\"102.5461\" y2=\"87.08\"/><line style=\"stroke: #383838; stroke-width: 1.0;\" x1=\"63.0464\" x2=\"78.5125\" y1=\"96.8625\" y2=\"92.7636\"/><text fill=\"#000000\" font-family=\"sans-serif\" font-size=\"13\" lengthAdjust=\"spacingAndGlyphs\" textLength=\"8\" x=\"94.2181\" y=\"241.7694\">1</text></a><!--MD5=[0a839d0f80c2d72d4b9b307f046d0de8]\n",
       "link E6 to E8--><a href=\"psysml:117cd7b6-777c-4755-88f6-d7a432271d85\" target=\"_top\" title=\"psysml:117cd7b6-777c-4755-88f6-d7a432271d85\" xlink:actuate=\"onRequest\" xlink:href=\"psysml:117cd7b6-777c-4755-88f6-d7a432271d85\" xlink:show=\"new\" xlink:title=\"psysml:117cd7b6-777c-4755-88f6-d7a432271d85\" xlink:type=\"simple\"><path d=\"M97.42,193.06 C89.86,210.7 83.23,235.34 81.29,252.98 \" fill=\"none\" id=\"E6-E8\" style=\"stroke: #383838; stroke-width: 3.0;\"/><text fill=\"#000000\" font-family=\"sans-serif\" font-size=\"13\" lengthAdjust=\"spacingAndGlyphs\" textLength=\"7\" x=\"80.9648\" y=\"241.8709\">*</text></a><!--MD5=[0a839d0f80c2d72d4b9b307f046d0de8]\n",
       "link E6 to E8--><a href=\"psysml:c7325d6a-fceb-4e80-be50-eff52df502df\" target=\"_top\" title=\"psysml:c7325d6a-fceb-4e80-be50-eff52df502df\" xlink:actuate=\"onRequest\" xlink:href=\"psysml:c7325d6a-fceb-4e80-be50-eff52df502df\" xlink:show=\"new\" xlink:title=\"psysml:c7325d6a-fceb-4e80-be50-eff52df502df\" xlink:type=\"simple\"><path d=\"M119.33,193.06 C117.55,210.7 110.92,235.34 103.2,252.98 \" fill=\"none\" id=\"E6-E8-1\" style=\"stroke: #383838; stroke-width: 3.0;\"/><text fill=\"#000000\" font-family=\"sans-serif\" font-size=\"13\" lengthAdjust=\"spacingAndGlyphs\" textLength=\"7\" x=\"99.8819\" y=\"241.8709\">*</text></a><!--MD5=[760514593a04811b816cfabeea3ff10b]\n",
       "@startuml\r\n",
       "skinparam linetype polyline\r\n",
       "skinparam monochrome true\r\n",
       "skinparam classbackgroundcolor white\r\n",
       "skinparam shadowing false\r\n",
       "skinparam wrapWidth 300\r\n",
       "hide circle\r\n",
       "\r\n",
       "package \"AliasTest\" as E1  [[psysml:6242facc-ff06-44d1-b4f3-467b2ef71334 ]]  {\r\n",
       "comp usage \"b :> ISQSpaceTime::width\" as E2  <<(T,blue) attribute>> [[psysml:c7d5118b-0b42-4b21-9071-aba180ff097b ]] {\r\n",
       "}\r\n",
       "comp def \"P1\" as E3  <<(T,blue) part  def>> [[psysml:f3a385fe-c72f-4489-86aa-e832e0f5c54b ]] {\r\n",
       "}\r\n",
       "comp usage \"porig1 \" as E4  <<(T,blue) port>> [[psysml:12c3f617-858e-4877-bab3-72d077a58110 ]] {\r\n",
       "}\r\n",
       "comp usage \"p1: P1 \" as E5  <<(T,blue) part>> [[psysml:f19cd7cf-ead7-487d-acf0-998c02877f08 ]] {\r\n",
       "}\r\n",
       "comp usage \"po1 \" as E6  <<(T,blue) port>> [[psysml:7bd77f36-e1da-430e-90ed-8aecc87780c5 ]] {\r\n",
       "}\r\n",
       "comp usage \"p2: P1 \" as E7  <<(T,blue) part>> [[psysml:3758ddaf-2d7c-4372-b46d-cbe5af56d102 ]] {\r\n",
       "}\r\n",
       "comp usage \"pdest \" as E8  <<(T,blue) port>> [[psysml:009efb1a-81d8-4f5e-8e24-a878e8625106 ]] {\r\n",
       "}\r\n",
       "}\r\n",
       "E3 o- - \"1\"E4 [[psysml:97bd4c72-9c32-47a6-a147-0b42cd362230 ]] \r\n",
       "E3 +.. \"1\"E4 [[psysml:dd790abf-ac6c-4371-bdbb-56cf5ab0181d ]] \r\n",
       "E5 - -:|> E3 [[psysml:a968a559-ae75-4ff7-b264-66e5a143558d ]] \r\n",
       "E5 o- - \"1\"E6 [[psysml:167a231e-25d4-4100-8e0d-53e0a4e750c8 ]] \r\n",
       "E6 - -||> E4 [[psysml:57ff51c2-e85d-4f72-aa72-bbf7c251408b ]] \r\n",
       "E7 - -:|> E3 [[psysml:a1db7df5-c75d-4551-8d1a-744022949b4d ]] \r\n",
       "E7 o- - \"1\"E8 [[psysml:f57d57d9-12d9-410c-acd5-2b53e0560bbf ]] \r\n",
       "E7 +.. \"1\"E8 [[psysml:b8781950-4d8a-4fb9-9fe0-7c7847cd278f ]] \r\n",
       "E6 -[thickness=3]- \"*\"E8 [[psysml:117cd7b6-777c-4755-88f6-d7a432271d85 ]] \r\n",
       "E6 -[thickness=3]- \"*\"E8 [[psysml:c7325d6a-fceb-4e80-be50-eff52df502df ]] \r\n",
       "@enduml\r\n",
       "\n",
       "PlantUML version 1.2020.13(Sat Jun 13 12:26:38 UTC 2020)\n",
       "(EPL source distribution)\n",
       "Java Runtime: OpenJDK Runtime Environment\n",
       "JVM: OpenJDK 64-Bit Server VM\n",
       "Default Encoding: UTF-8\n",
       "Language: en\n",
       "Country: null\n",
       "--></g></svg>"
      ]
     },
     "execution_count": 10,
     "metadata": {},
     "output_type": "execute_result"
    }
   ],
   "source": [
    "%viz --style=\"POLYLINE\" --view=\"Tree\" \"AliasTest\""
   ]
  },
  {
   "cell_type": "code",
   "execution_count": 11,
   "id": "4f8f9b1c",
   "metadata": {
    "execution": {
     "iopub.execute_input": "2022-03-21T07:52:15.857852Z",
     "iopub.status.busy": "2022-03-21T07:52:15.857390Z",
     "iopub.status.idle": "2022-03-21T07:52:15.863902Z",
     "shell.execute_reply": "2022-03-21T07:52:15.864217Z"
    }
   },
   "outputs": [
    {
     "data": {
      "image/svg+xml": [
       "<?xml version=\"1.0\" encoding=\"UTF-8\" standalone=\"no\"?><svg xmlns=\"http://www.w3.org/2000/svg\" xmlns:xlink=\"http://www.w3.org/1999/xlink\" contentScriptType=\"application/ecmascript\" contentStyleType=\"text/css\" height=\"12px\" preserveAspectRatio=\"none\" style=\"width:12px;height:12px;\" version=\"1.1\" viewBox=\"0 0 12 12\" width=\"12px\" zoomAndPan=\"magnify\"><defs/><g><!--MD5=[896ac0e7a515d8dd7765a661cb4ee08b]\n",
       "@startuml\r\n",
       "skinparam linetype polyline\r\n",
       "skinparam monochrome true\r\n",
       "skinparam classbackgroundcolor white\r\n",
       "skinparam shadowing false\r\n",
       "skinparam wrapWidth 300\r\n",
       "hide circle\r\n",
       "\r\n",
       "@enduml\r\n",
       "\n",
       "PlantUML version 1.2020.13(Sat Jun 13 12:26:38 UTC 2020)\n",
       "(EPL source distribution)\n",
       "Java Runtime: OpenJDK Runtime Environment\n",
       "JVM: OpenJDK 64-Bit Server VM\n",
       "Default Encoding: UTF-8\n",
       "Language: en\n",
       "Country: null\n",
       "--></g></svg>"
      ]
     },
     "execution_count": 11,
     "metadata": {},
     "output_type": "execute_result"
    }
   ],
   "source": [
    "%viz --style=\"POLYLINE\" --view=\"State\" \"AliasTest\""
   ]
  },
  {
   "cell_type": "code",
   "execution_count": 12,
   "id": "89906647",
   "metadata": {
    "execution": {
     "iopub.execute_input": "2022-03-21T07:52:15.914580Z",
     "iopub.status.busy": "2022-03-21T07:52:15.914170Z",
     "iopub.status.idle": "2022-03-21T07:52:15.958397Z",
     "shell.execute_reply": "2022-03-21T07:52:15.958688Z"
    }
   },
   "outputs": [
    {
     "data": {
      "image/svg+xml": [
       "<?xml version=\"1.0\" encoding=\"UTF-8\" standalone=\"no\"?><svg xmlns=\"http://www.w3.org/2000/svg\" xmlns:xlink=\"http://www.w3.org/1999/xlink\" contentScriptType=\"application/ecmascript\" contentStyleType=\"text/css\" height=\"233px\" preserveAspectRatio=\"none\" style=\"width:572px;height:233px;\" version=\"1.1\" viewBox=\"0 0 572 233\" width=\"572px\" zoomAndPan=\"magnify\"><defs/><g><!--MD5=[fbc87193dbaf4d95561dea2c320d4a47]\n",
       "cluster E1--><a href=\"psysml:6242facc-ff06-44d1-b4f3-467b2ef71334\" target=\"_top\" title=\"psysml:6242facc-ff06-44d1-b4f3-467b2ef71334\" xlink:actuate=\"onRequest\" xlink:href=\"psysml:6242facc-ff06-44d1-b4f3-467b2ef71334\" xlink:show=\"new\" xlink:title=\"psysml:6242facc-ff06-44d1-b4f3-467b2ef71334\" xlink:type=\"simple\"><polygon fill=\"#FFFFFF\" points=\"16,6,84,6,91,28.2969,550,28.2969,550,221,16,221,16,6\" style=\"stroke: #000000; stroke-width: 1.5;\"/><line style=\"stroke: #000000; stroke-width: 1.5;\" x1=\"16\" x2=\"91\" y1=\"28.2969\" y2=\"28.2969\"/><text fill=\"#000000\" font-family=\"sans-serif\" font-size=\"14\" font-weight=\"bold\" lengthAdjust=\"spacingAndGlyphs\" textLength=\"62\" x=\"20\" y=\"20.9951\">AliasTest</text></a><!--MD5=[d5e69f78d87373223dbae638b30a9c99]\n",
       "cluster E3--><a href=\"psysml:f3a385fe-c72f-4489-86aa-e832e0f5c54b\" target=\"_top\" title=\"psysml:f3a385fe-c72f-4489-86aa-e832e0f5c54b\" xlink:actuate=\"onRequest\" xlink:href=\"psysml:f3a385fe-c72f-4489-86aa-e832e0f5c54b\" xlink:show=\"new\" xlink:title=\"psysml:f3a385fe-c72f-4489-86aa-e832e0f5c54b\" xlink:type=\"simple\"><rect fill=\"#FFFFFF\" height=\"90\" id=\"E3\" style=\"stroke: #383838; stroke-width: 1.5;\" width=\"85\" x=\"407\" y=\"64\"/><rect fill=\"#F8F8F8\" height=\"37.9375\" style=\"stroke: #383838; stroke-width: 1.5;\" width=\"85\" x=\"407\" y=\"64\"/><text fill=\"#000000\" font-family=\"sans-serif\" font-size=\"12\" font-style=\"italic\" lengthAdjust=\"spacingAndGlyphs\" textLength=\"68\" x=\"415.5\" y=\"80.1387\">«part  def»</text><text fill=\"#000000\" font-family=\"sans-serif\" font-size=\"12\" lengthAdjust=\"spacingAndGlyphs\" textLength=\"16\" x=\"441.5\" y=\"94.1074\">P1</text></a><!--MD5=[14e3b0961a2654348d326746436168a1]\n",
       "cluster E6--><a href=\"psysml:f19cd7cf-ead7-487d-acf0-998c02877f08\" target=\"_top\" title=\"psysml:f19cd7cf-ead7-487d-acf0-998c02877f08\" xlink:actuate=\"onRequest\" xlink:href=\"psysml:f19cd7cf-ead7-487d-acf0-998c02877f08\" xlink:show=\"new\" xlink:title=\"psysml:f19cd7cf-ead7-487d-acf0-998c02877f08\" xlink:type=\"simple\"><rect fill=\"#FFFFFF\" height=\"82\" id=\"E6\" rx=\"10\" ry=\"10\" style=\"stroke: #383838; stroke-width: 1.5;\" width=\"98\" x=\"206\" y=\"64\"/><rect fill=\"#F8F8F8\" height=\"23.9688\" rx=\"10\" ry=\"10\" style=\"stroke: #F8F8F8; stroke-width: 1.5;\" width=\"98\" x=\"206\" y=\"64\"/><rect fill=\"#F8F8F8\" height=\"10\" style=\"stroke: #F8F8F8; stroke-width: 1.5;\" width=\"98\" x=\"206\" y=\"77.9688\"/><rect fill=\"none\" height=\"82\" id=\"E6\" rx=\"10\" ry=\"10\" style=\"stroke: #383838; stroke-width: 1.5;\" width=\"98\" x=\"206\" y=\"64\"/><text fill=\"#000000\" font-family=\"sans-serif\" font-size=\"12\" lengthAdjust=\"spacingAndGlyphs\" textLength=\"40\" x=\"235\" y=\"80.1387\">p1: P1</text><line style=\"stroke: #383838; stroke-width: 1.0;\" x1=\"206\" x2=\"304\" y1=\"87.9688\" y2=\"87.9688\"/></a><!--MD5=[55dfccfc6c49c2d10cd1bd2211a6c90c]\n",
       "cluster E8--><a href=\"psysml:3758ddaf-2d7c-4372-b46d-cbe5af56d102\" target=\"_top\" title=\"psysml:3758ddaf-2d7c-4372-b46d-cbe5af56d102\" xlink:actuate=\"onRequest\" xlink:href=\"psysml:3758ddaf-2d7c-4372-b46d-cbe5af56d102\" xlink:show=\"new\" xlink:title=\"psysml:3758ddaf-2d7c-4372-b46d-cbe5af56d102\" xlink:type=\"simple\"><rect fill=\"#FFFFFF\" height=\"84.5\" id=\"E8\" rx=\"10\" ry=\"10\" style=\"stroke: #383838; stroke-width: 1.5;\" width=\"83\" x=\"307\" y=\"120.5\"/><rect fill=\"#F8F8F8\" height=\"23.9688\" rx=\"10\" ry=\"10\" style=\"stroke: #F8F8F8; stroke-width: 1.5;\" width=\"83\" x=\"307\" y=\"120.5\"/><rect fill=\"#F8F8F8\" height=\"10\" style=\"stroke: #F8F8F8; stroke-width: 1.5;\" width=\"83\" x=\"307\" y=\"134.4688\"/><rect fill=\"none\" height=\"84.5\" id=\"E8\" rx=\"10\" ry=\"10\" style=\"stroke: #383838; stroke-width: 1.5;\" width=\"83\" x=\"307\" y=\"120.5\"/><text fill=\"#000000\" font-family=\"sans-serif\" font-size=\"12\" lengthAdjust=\"spacingAndGlyphs\" textLength=\"40\" x=\"328.5\" y=\"136.6387\">p2: P1</text><line style=\"stroke: #383838; stroke-width: 1.0;\" x1=\"307\" x2=\"390\" y1=\"144.4688\" y2=\"144.4688\"/></a><!--MD5=[b4997ac47864f28c2f74865a473b2911]\n",
       "class E2--><a href=\"psysml:c7d5118b-0b42-4b21-9071-aba180ff097b\" target=\"_top\" title=\"psysml:c7d5118b-0b42-4b21-9071-aba180ff097b\" xlink:actuate=\"onRequest\" xlink:href=\"psysml:c7d5118b-0b42-4b21-9071-aba180ff097b\" xlink:show=\"new\" xlink:title=\"psysml:c7d5118b-0b42-4b21-9071-aba180ff097b\" xlink:type=\"simple\"><rect fill=\"#FFFFFF\" height=\"45.9375\" id=\"E2\" rx=\"10\" ry=\"10\" style=\"stroke: #383838; stroke-width: 1.5;\" width=\"165\" x=\"32.5\" y=\"41\"/><text fill=\"#000000\" font-family=\"sans-serif\" font-size=\"12\" font-style=\"italic\" lengthAdjust=\"spacingAndGlyphs\" textLength=\"69\" x=\"80.5\" y=\"57.1387\">«attribute»</text><text fill=\"#000000\" font-family=\"sans-serif\" font-size=\"12\" lengthAdjust=\"spacingAndGlyphs\" textLength=\"159\" x=\"35.5\" y=\"71.1074\">b :&gt; ISQSpaceTime::width</text><line style=\"stroke: #383838; stroke-width: 1.5;\" x1=\"33.5\" x2=\"196.5\" y1=\"78.9375\" y2=\"78.9375\"/></a><text fill=\"#000000\" font-family=\"sans-serif\" font-size=\"14\" lengthAdjust=\"spacingAndGlyphs\" textLength=\"44\" x=\"401\" y=\"42.6982\">porig1</text><rect fill=\"#383838\" height=\"12\" style=\"stroke: #F8F8F8; stroke-width: 1.5;\" width=\"12\" x=\"419\" y=\"58\"/><text fill=\"#000000\" font-family=\"sans-serif\" font-size=\"14\" lengthAdjust=\"spacingAndGlyphs\" textLength=\"44\" x=\"448\" y=\"42.6982\">porig1</text><rect fill=\"#383838\" height=\"12\" style=\"stroke: #F8F8F8; stroke-width: 1.5;\" width=\"12\" x=\"466\" y=\"58\"/><text fill=\"#000000\" font-family=\"sans-serif\" font-size=\"14\" lengthAdjust=\"spacingAndGlyphs\" textLength=\"27\" x=\"270.5\" y=\"42.6982\">po1</text><rect fill=\"#383838\" height=\"12\" style=\"stroke: #F8F8F8; stroke-width: 1.5;\" width=\"12\" x=\"280\" y=\"58\"/><text fill=\"#000000\" font-family=\"sans-serif\" font-size=\"14\" lengthAdjust=\"spacingAndGlyphs\" textLength=\"40\" x=\"303\" y=\"99.1982\">pdest</text><rect fill=\"#383838\" height=\"12\" style=\"stroke: #F8F8F8; stroke-width: 1.5;\" width=\"12\" x=\"319\" y=\"114.5\"/><text fill=\"#000000\" font-family=\"sans-serif\" font-size=\"14\" lengthAdjust=\"spacingAndGlyphs\" textLength=\"40\" x=\"350\" y=\"99.1982\">pdest</text><rect fill=\"#383838\" height=\"12\" style=\"stroke: #F8F8F8; stroke-width: 1.5;\" width=\"12\" x=\"366\" y=\"114.5\"/><!--MD5=[1c0b9414cc86e0744215edee6abd8926]\n",
       "link E7 to E9--><a href=\"psysml:117cd7b6-777c-4755-88f6-d7a432271d85\" target=\"_top\" title=\"psysml:117cd7b6-777c-4755-88f6-d7a432271d85\" xlink:actuate=\"onRequest\" xlink:href=\"psysml:117cd7b6-777c-4755-88f6-d7a432271d85\" xlink:show=\"new\" xlink:title=\"psysml:117cd7b6-777c-4755-88f6-d7a432271d85\" xlink:type=\"simple\"><path d=\"M281.83,70.03 C282.72,81.73 304.14,110.34 318.83,117.73 \" fill=\"none\" id=\"E7-E9\" style=\"stroke: #383838; stroke-width: 3.0;\"/><text fill=\"#000000\" font-family=\"sans-serif\" font-size=\"13\" lengthAdjust=\"spacingAndGlyphs\" textLength=\"7\" x=\"303.8522\" y=\"106.3789\">*</text></a><!--MD5=[1c0b9414cc86e0744215edee6abd8926]\n",
       "link E7 to E9--><a href=\"psysml:c7325d6a-fceb-4e80-be50-eff52df502df\" target=\"_top\" title=\"psysml:c7325d6a-fceb-4e80-be50-eff52df502df\" xlink:actuate=\"onRequest\" xlink:href=\"psysml:c7325d6a-fceb-4e80-be50-eff52df502df\" xlink:show=\"new\" xlink:title=\"psysml:c7325d6a-fceb-4e80-be50-eff52df502df\" xlink:type=\"simple\"><path d=\"M292.05,66.57 C307.27,73.62 329.05,102.5 329.62,114.37 \" fill=\"none\" id=\"E7-E9-1\" style=\"stroke: #383838; stroke-width: 3.0;\"/><text fill=\"#000000\" font-family=\"sans-serif\" font-size=\"13\" lengthAdjust=\"spacingAndGlyphs\" textLength=\"7\" x=\"323.278\" y=\"103.4683\">*</text></a><!--MD5=[c93bbdfb8a8454ea59180471170afce0]\n",
       "@startuml\r\n",
       "skinparam ranksep 10\r\n",
       "skinparam rectangle {\r\n",
       " backgroundColor<<block>> LightGreen\r\n",
       "}\r\n",
       "skinparam linetype polyline\r\n",
       "skinparam monochrome true\r\n",
       "skinparam classbackgroundcolor white\r\n",
       "skinparam shadowing false\r\n",
       "skinparam wrapWidth 300\r\n",
       "hide circle\r\n",
       "\r\n",
       "package \"AliasTest\" as E1  [[psysml:6242facc-ff06-44d1-b4f3-467b2ef71334 ]]  {\r\n",
       "comp usage \"b :> ISQSpaceTime::width\" as E2  <<(T,blue) attribute>> [[psysml:c7d5118b-0b42-4b21-9071-aba180ff097b ]] {\r\n",
       "}\r\n",
       "rec def \"P1\" as E3  <<(T,blue) part  def>> [[psysml:f3a385fe-c72f-4489-86aa-e832e0f5c54b ]] {\r\n",
       "portin \"porig1 \" as E4  <<(T,blue) port>> [[psysml:12c3f617-858e-4877-bab3-72d077a58110 ]] \r\n",
       "portin \"porig1 \" as E5  <<(T,blue) port>> [[psysml:12c3f617-858e-4877-bab3-72d077a58110 ]] \r\n",
       "}\r\n",
       "rec usage \"p1: P1\" as E6  [[psysml:f19cd7cf-ead7-487d-acf0-998c02877f08 ]] {\r\n",
       "portin \"po1 \" as E7  <<(T,blue) port>> [[psysml:7bd77f36-e1da-430e-90ed-8aecc87780c5 ]] \r\n",
       "}\r\n",
       "rec usage \"p2: P1\" as E8  [[psysml:3758ddaf-2d7c-4372-b46d-cbe5af56d102 ]] {\r\n",
       "portin \"pdest \" as E9  <<(T,blue) port>> [[psysml:009efb1a-81d8-4f5e-8e24-a878e8625106 ]] \r\n",
       "portin \"pdest \" as E10  <<(T,blue) port>> [[psysml:009efb1a-81d8-4f5e-8e24-a878e8625106 ]] \r\n",
       "}\r\n",
       "}\r\n",
       "E7 -[thickness=3]- \"*\"E9 [[psysml:117cd7b6-777c-4755-88f6-d7a432271d85 ]] \r\n",
       "E7 -[thickness=3]- \"*\"E9 [[psysml:c7325d6a-fceb-4e80-be50-eff52df502df ]] \r\n",
       "@enduml\r\n",
       "\n",
       "PlantUML version 1.2020.13(Sat Jun 13 12:26:38 UTC 2020)\n",
       "(EPL source distribution)\n",
       "Java Runtime: OpenJDK Runtime Environment\n",
       "JVM: OpenJDK 64-Bit Server VM\n",
       "Default Encoding: UTF-8\n",
       "Language: en\n",
       "Country: null\n",
       "--></g></svg>"
      ]
     },
     "execution_count": 12,
     "metadata": {},
     "output_type": "execute_result"
    }
   ],
   "source": [
    "%viz --style=\"POLYLINE\" --view=\"Interconnection\" \"AliasTest\""
   ]
  },
  {
   "cell_type": "code",
   "execution_count": 13,
   "id": "bd141e60",
   "metadata": {
    "execution": {
     "iopub.execute_input": "2022-03-21T07:52:16.009041Z",
     "iopub.status.busy": "2022-03-21T07:52:16.008633Z",
     "iopub.status.idle": "2022-03-21T07:52:16.014440Z",
     "shell.execute_reply": "2022-03-21T07:52:16.014760Z"
    }
   },
   "outputs": [
    {
     "data": {
      "image/svg+xml": [
       "<?xml version=\"1.0\" encoding=\"UTF-8\" standalone=\"no\"?><svg xmlns=\"http://www.w3.org/2000/svg\" xmlns:xlink=\"http://www.w3.org/1999/xlink\" contentScriptType=\"application/ecmascript\" contentStyleType=\"text/css\" height=\"12px\" preserveAspectRatio=\"none\" style=\"width:12px;height:12px;\" version=\"1.1\" viewBox=\"0 0 12 12\" width=\"12px\" zoomAndPan=\"magnify\"><defs/><g><!--MD5=[97bbf32f66ccd50cbc40d92ea8f5a65e]\n",
       "@startuml\r\n",
       "skinparam ranksep 8\r\n",
       "skinparam linetype polyline\r\n",
       "skinparam monochrome true\r\n",
       "skinparam classbackgroundcolor white\r\n",
       "skinparam shadowing false\r\n",
       "skinparam wrapWidth 300\r\n",
       "hide circle\r\n",
       "\r\n",
       "@enduml\r\n",
       "\n",
       "PlantUML version 1.2020.13(Sat Jun 13 12:26:38 UTC 2020)\n",
       "(EPL source distribution)\n",
       "Java Runtime: OpenJDK Runtime Environment\n",
       "JVM: OpenJDK 64-Bit Server VM\n",
       "Default Encoding: UTF-8\n",
       "Language: en\n",
       "Country: null\n",
       "--></g></svg>"
      ]
     },
     "execution_count": 13,
     "metadata": {},
     "output_type": "execute_result"
    }
   ],
   "source": [
    "%viz --style=\"POLYLINE\" --view=\"Action\" \"AliasTest\""
   ]
  },
  {
   "cell_type": "code",
   "execution_count": 14,
   "id": "c5dfaae3",
   "metadata": {
    "execution": {
     "iopub.execute_input": "2022-03-21T07:52:16.065047Z",
     "iopub.status.busy": "2022-03-21T07:52:16.064639Z",
     "iopub.status.idle": "2022-03-21T07:52:16.071185Z",
     "shell.execute_reply": "2022-03-21T07:52:16.071500Z"
    }
   },
   "outputs": [
    {
     "data": {
      "image/svg+xml": [
       "<?xml version=\"1.0\" encoding=\"UTF-8\" standalone=\"no\"?><svg xmlns=\"http://www.w3.org/2000/svg\" xmlns:xlink=\"http://www.w3.org/1999/xlink\" contentScriptType=\"application/ecmascript\" contentStyleType=\"text/css\" height=\"12px\" preserveAspectRatio=\"none\" style=\"width:12px;height:12px;\" version=\"1.1\" viewBox=\"0 0 12 12\" width=\"12px\" zoomAndPan=\"magnify\"><defs/><g><!--MD5=[dc938048236c351797870c36b62f92ad]\n",
       "@startuml\r\n",
       "skinparam roundcorner 20\r\n",
       "skinparam BoxPadding 20\r\n",
       "skinparam SequenceBoxBackgroundColor #white\r\n",
       "skinparam style strictuml\r\n",
       "skinparam maxMessageSize 100\r\n",
       "skinparam linetype polyline\r\n",
       "skinparam monochrome true\r\n",
       "skinparam classbackgroundcolor white\r\n",
       "skinparam shadowing false\r\n",
       "skinparam wrapWidth 300\r\n",
       "hide circle\r\n",
       "\r\n",
       "@enduml\r\n",
       "\n",
       "PlantUML version 1.2020.13(Sat Jun 13 12:26:38 UTC 2020)\n",
       "(EPL source distribution)\n",
       "Java Runtime: OpenJDK Runtime Environment\n",
       "JVM: OpenJDK 64-Bit Server VM\n",
       "Default Encoding: UTF-8\n",
       "Language: en\n",
       "Country: null\n",
       "--></g></svg>"
      ]
     },
     "execution_count": 14,
     "metadata": {},
     "output_type": "execute_result"
    }
   ],
   "source": [
    "%viz --style=\"POLYLINE\" --view=\"Sequence\" \"AliasTest\""
   ]
  },
  {
   "cell_type": "code",
   "execution_count": 15,
   "id": "03f40ea3",
   "metadata": {
    "execution": {
     "iopub.execute_input": "2022-03-21T07:52:16.121776Z",
     "iopub.status.busy": "2022-03-21T07:52:16.121357Z",
     "iopub.status.idle": "2022-03-21T07:52:16.178443Z",
     "shell.execute_reply": "2022-03-21T07:52:16.176973Z"
    }
   },
   "outputs": [
    {
     "data": {
      "image/svg+xml": [
       "<?xml version=\"1.0\" encoding=\"UTF-8\" standalone=\"no\"?><svg xmlns=\"http://www.w3.org/2000/svg\" xmlns:xlink=\"http://www.w3.org/1999/xlink\" contentScriptType=\"application/ecmascript\" contentStyleType=\"text/css\" height=\"327px\" preserveAspectRatio=\"none\" style=\"width:406px;height:327px;\" version=\"1.1\" viewBox=\"0 0 406 327\" width=\"406px\" zoomAndPan=\"magnify\"><defs/><g><!--MD5=[fbc87193dbaf4d95561dea2c320d4a47]\n",
       "cluster E1--><a href=\"psysml:6242facc-ff06-44d1-b4f3-467b2ef71334\" target=\"_top\" title=\"psysml:6242facc-ff06-44d1-b4f3-467b2ef71334\" xlink:actuate=\"onRequest\" xlink:href=\"psysml:6242facc-ff06-44d1-b4f3-467b2ef71334\" xlink:show=\"new\" xlink:title=\"psysml:6242facc-ff06-44d1-b4f3-467b2ef71334\" xlink:type=\"simple\"><polygon fill=\"#FFFFFF\" points=\"16,6,84,6,91,28.2969,384,28.2969,384,315,16,315,16,6\" style=\"stroke: #000000; stroke-width: 1.5;\"/><line style=\"stroke: #000000; stroke-width: 1.5;\" x1=\"16\" x2=\"91\" y1=\"28.2969\" y2=\"28.2969\"/><text fill=\"#000000\" font-family=\"sans-serif\" font-size=\"14\" font-weight=\"bold\" lengthAdjust=\"spacingAndGlyphs\" textLength=\"62\" x=\"20\" y=\"20.9951\">AliasTest</text></a><!--MD5=[b4997ac47864f28c2f74865a473b2911]\n",
       "class E2--><a href=\"psysml:c7d5118b-0b42-4b21-9071-aba180ff097b\" target=\"_top\" title=\"psysml:c7d5118b-0b42-4b21-9071-aba180ff097b\" xlink:actuate=\"onRequest\" xlink:href=\"psysml:c7d5118b-0b42-4b21-9071-aba180ff097b\" xlink:show=\"new\" xlink:title=\"psysml:c7d5118b-0b42-4b21-9071-aba180ff097b\" xlink:type=\"simple\"><rect fill=\"#FFFFFF\" height=\"45.9375\" id=\"E2\" rx=\"10\" ry=\"10\" style=\"stroke: #383838; stroke-width: 1.5;\" width=\"165\" x=\"202.5\" y=\"41\"/><text fill=\"#000000\" font-family=\"sans-serif\" font-size=\"12\" font-style=\"italic\" lengthAdjust=\"spacingAndGlyphs\" textLength=\"69\" x=\"250.5\" y=\"57.1387\">«attribute»</text><text fill=\"#000000\" font-family=\"sans-serif\" font-size=\"12\" lengthAdjust=\"spacingAndGlyphs\" textLength=\"159\" x=\"205.5\" y=\"71.1074\">b :&gt; ISQSpaceTime::width</text><line style=\"stroke: #383838; stroke-width: 1.5;\" x1=\"203.5\" x2=\"366.5\" y1=\"78.9375\" y2=\"78.9375\"/></a><!--MD5=[09b614a08d8cba4a07c9adeb5e0fee81]\n",
       "class E3--><a href=\"psysml:f3a385fe-c72f-4489-86aa-e832e0f5c54b\" target=\"_top\" title=\"psysml:f3a385fe-c72f-4489-86aa-e832e0f5c54b\" xlink:actuate=\"onRequest\" xlink:href=\"psysml:f3a385fe-c72f-4489-86aa-e832e0f5c54b\" xlink:show=\"new\" xlink:title=\"psysml:f3a385fe-c72f-4489-86aa-e832e0f5c54b\" xlink:type=\"simple\"><rect fill=\"#FFFFFF\" height=\"45.9375\" id=\"E3\" style=\"stroke: #383838; stroke-width: 1.5;\" width=\"70\" x=\"170\" y=\"147\"/><text fill=\"#000000\" font-family=\"sans-serif\" font-size=\"12\" font-style=\"italic\" lengthAdjust=\"spacingAndGlyphs\" textLength=\"68\" x=\"171\" y=\"163.1387\">«part  def»</text><text fill=\"#000000\" font-family=\"sans-serif\" font-size=\"12\" lengthAdjust=\"spacingAndGlyphs\" textLength=\"16\" x=\"197\" y=\"177.1074\">P1</text><line style=\"stroke: #383838; stroke-width: 1.5;\" x1=\"171\" x2=\"239\" y1=\"184.9375\" y2=\"184.9375\"/></a><!--MD5=[ebbe1d658d1005bcc118a6aa81145e00]\n",
       "class E4--><a href=\"psysml:12c3f617-858e-4877-bab3-72d077a58110\" target=\"_top\" title=\"psysml:12c3f617-858e-4877-bab3-72d077a58110\" xlink:actuate=\"onRequest\" xlink:href=\"psysml:12c3f617-858e-4877-bab3-72d077a58110\" xlink:show=\"new\" xlink:title=\"psysml:12c3f617-858e-4877-bab3-72d077a58110\" xlink:type=\"simple\"><rect fill=\"#FFFFFF\" height=\"45.9375\" id=\"E4\" rx=\"10\" ry=\"10\" style=\"stroke: #383838; stroke-width: 1.5;\" width=\"50\" x=\"180\" y=\"253\"/><text fill=\"#000000\" font-family=\"sans-serif\" font-size=\"12\" font-style=\"italic\" lengthAdjust=\"spacingAndGlyphs\" textLength=\"40\" x=\"185\" y=\"269.1387\">«port»</text><text fill=\"#000000\" font-family=\"sans-serif\" font-size=\"12\" lengthAdjust=\"spacingAndGlyphs\" textLength=\"40\" x=\"183\" y=\"283.1074\">porig1</text><line style=\"stroke: #383838; stroke-width: 1.5;\" x1=\"181\" x2=\"229\" y1=\"290.9375\" y2=\"290.9375\"/></a><!--MD5=[270fce915f116d4de14055a7c1d9a0f3]\n",
       "class E5--><a href=\"psysml:f19cd7cf-ead7-487d-acf0-998c02877f08\" target=\"_top\" title=\"psysml:f19cd7cf-ead7-487d-acf0-998c02877f08\" xlink:actuate=\"onRequest\" xlink:href=\"psysml:f19cd7cf-ead7-487d-acf0-998c02877f08\" xlink:show=\"new\" xlink:title=\"psysml:f19cd7cf-ead7-487d-acf0-998c02877f08\" xlink:type=\"simple\"><rect fill=\"#FFFFFF\" height=\"45.9375\" id=\"E5\" rx=\"10\" ry=\"10\" style=\"stroke: #383838; stroke-width: 1.5;\" width=\"50\" x=\"117\" y=\"41\"/><text fill=\"#000000\" font-family=\"sans-serif\" font-size=\"12\" font-style=\"italic\" lengthAdjust=\"spacingAndGlyphs\" textLength=\"40\" x=\"122\" y=\"57.1387\">«part»</text><text fill=\"#000000\" font-family=\"sans-serif\" font-size=\"12\" lengthAdjust=\"spacingAndGlyphs\" textLength=\"40\" x=\"120\" y=\"71.1074\">p1: P1</text><line style=\"stroke: #383838; stroke-width: 1.5;\" x1=\"118\" x2=\"166\" y1=\"78.9375\" y2=\"78.9375\"/></a><!--MD5=[60a26617385b1d2d0262a64233df1f8d]\n",
       "class E6--><a href=\"psysml:7bd77f36-e1da-430e-90ed-8aecc87780c5\" target=\"_top\" title=\"psysml:7bd77f36-e1da-430e-90ed-8aecc87780c5\" xlink:actuate=\"onRequest\" xlink:href=\"psysml:7bd77f36-e1da-430e-90ed-8aecc87780c5\" xlink:show=\"new\" xlink:title=\"psysml:7bd77f36-e1da-430e-90ed-8aecc87780c5\" xlink:type=\"simple\"><rect fill=\"#FFFFFF\" height=\"45.9375\" id=\"E6\" rx=\"10\" ry=\"10\" style=\"stroke: #383838; stroke-width: 1.5;\" width=\"42\" x=\"93\" y=\"147\"/><text fill=\"#000000\" font-family=\"sans-serif\" font-size=\"12\" font-style=\"italic\" lengthAdjust=\"spacingAndGlyphs\" textLength=\"40\" x=\"94\" y=\"163.1387\">«port»</text><text fill=\"#000000\" font-family=\"sans-serif\" font-size=\"12\" lengthAdjust=\"spacingAndGlyphs\" textLength=\"24\" x=\"100\" y=\"177.1074\">po1</text><line style=\"stroke: #383838; stroke-width: 1.5;\" x1=\"94\" x2=\"134\" y1=\"184.9375\" y2=\"184.9375\"/></a><!--MD5=[2156ba9850f5573cc1fc38a6a4b2f02b]\n",
       "class E7--><a href=\"psysml:3758ddaf-2d7c-4372-b46d-cbe5af56d102\" target=\"_top\" title=\"psysml:3758ddaf-2d7c-4372-b46d-cbe5af56d102\" xlink:actuate=\"onRequest\" xlink:href=\"psysml:3758ddaf-2d7c-4372-b46d-cbe5af56d102\" xlink:show=\"new\" xlink:title=\"psysml:3758ddaf-2d7c-4372-b46d-cbe5af56d102\" xlink:type=\"simple\"><rect fill=\"#FFFFFF\" height=\"45.9375\" id=\"E7\" rx=\"10\" ry=\"10\" style=\"stroke: #383838; stroke-width: 1.5;\" width=\"50\" x=\"32\" y=\"41\"/><text fill=\"#000000\" font-family=\"sans-serif\" font-size=\"12\" font-style=\"italic\" lengthAdjust=\"spacingAndGlyphs\" textLength=\"40\" x=\"37\" y=\"57.1387\">«part»</text><text fill=\"#000000\" font-family=\"sans-serif\" font-size=\"12\" lengthAdjust=\"spacingAndGlyphs\" textLength=\"40\" x=\"35\" y=\"71.1074\">p2: P1</text><line style=\"stroke: #383838; stroke-width: 1.5;\" x1=\"33\" x2=\"81\" y1=\"78.9375\" y2=\"78.9375\"/></a><!--MD5=[b9389687b975829384b498ac4b7476b2]\n",
       "class E8--><a href=\"psysml:009efb1a-81d8-4f5e-8e24-a878e8625106\" target=\"_top\" title=\"psysml:009efb1a-81d8-4f5e-8e24-a878e8625106\" xlink:actuate=\"onRequest\" xlink:href=\"psysml:009efb1a-81d8-4f5e-8e24-a878e8625106\" xlink:show=\"new\" xlink:title=\"psysml:009efb1a-81d8-4f5e-8e24-a878e8625106\" xlink:type=\"simple\"><rect fill=\"#FFFFFF\" height=\"45.9375\" id=\"E8\" rx=\"10\" ry=\"10\" style=\"stroke: #383838; stroke-width: 1.5;\" width=\"46\" x=\"63\" y=\"253\"/><text fill=\"#000000\" font-family=\"sans-serif\" font-size=\"12\" font-style=\"italic\" lengthAdjust=\"spacingAndGlyphs\" textLength=\"40\" x=\"66\" y=\"269.1387\">«port»</text><text fill=\"#000000\" font-family=\"sans-serif\" font-size=\"12\" lengthAdjust=\"spacingAndGlyphs\" textLength=\"36\" x=\"66\" y=\"283.1074\">pdest</text><line style=\"stroke: #383838; stroke-width: 1.5;\" x1=\"64\" x2=\"108\" y1=\"290.9375\" y2=\"290.9375\"/></a><!--MD5=[4672eba38e49728da53d11aeb285b987]\n",
       "reverse link E3 to E4--><a href=\"psysml:97bd4c72-9c32-47a6-a147-0b42cd362230\" target=\"_top\" title=\"psysml:97bd4c72-9c32-47a6-a147-0b42cd362230\" xlink:actuate=\"onRequest\" xlink:href=\"psysml:97bd4c72-9c32-47a6-a147-0b42cd362230\" xlink:show=\"new\" xlink:title=\"psysml:97bd4c72-9c32-47a6-a147-0b42cd362230\" xlink:type=\"simple\"><path d=\"M192.84,206.44 C191.7,221.87 192.21,239.47 194.36,252.98 \" fill=\"none\" id=\"E3&lt;-E4\" style=\"stroke: #383838; stroke-width: 1.0;\"/><polygon fill=\"#FFFFFF\" points=\"194.35,193.06,189.7032,198.5743,193.006,204.9845,197.6528,199.4702,194.35,193.06\" style=\"stroke: #383838; stroke-width: 1.0;\"/><text fill=\"#000000\" font-family=\"sans-serif\" font-size=\"13\" lengthAdjust=\"spacingAndGlyphs\" textLength=\"8\" x=\"182.4255\" y=\"241.8709\">1</text></a><!--MD5=[4672eba38e49728da53d11aeb285b987]\n",
       "reverse link E3 to E4--><a href=\"psysml:dd790abf-ac6c-4371-bdbb-56cf5ab0181d\" target=\"_top\" title=\"psysml:dd790abf-ac6c-4371-bdbb-56cf5ab0181d\" xlink:actuate=\"onRequest\" xlink:href=\"psysml:dd790abf-ac6c-4371-bdbb-56cf5ab0181d\" xlink:show=\"new\" xlink:title=\"psysml:dd790abf-ac6c-4371-bdbb-56cf5ab0181d\" xlink:type=\"simple\"><path d=\"M218.01,208.34 C219.03,223.3 218.45,240.02 216.27,252.98 \" fill=\"none\" id=\"E3&lt;-E4-1\" style=\"stroke: #383838; stroke-width: 1.0; stroke-dasharray: 7.0,7.0;\"/><ellipse cx=\"217.1693\" cy=\"201.0093\" fill=\"#FFFFFF\" rx=\"8\" ry=\"8\" style=\"stroke: #383838; stroke-width: 1.0;\"/><line style=\"stroke: #383838; stroke-width: 1.0;\" x1=\"218.0687\" x2=\"216.27\" y1=\"208.9586\" y2=\"193.06\"/><line style=\"stroke: #383838; stroke-width: 1.0;\" x1=\"209.2201\" x2=\"225.1186\" y1=\"201.9086\" y2=\"200.1099\"/><text fill=\"#000000\" font-family=\"sans-serif\" font-size=\"13\" lengthAdjust=\"spacingAndGlyphs\" textLength=\"8\" x=\"210.2238\" y=\"241.8709\">1</text></a><!--MD5=[e9be52314489bd878ff4c7144b63c9e1]\n",
       "link E5 to E3--><a href=\"psysml:a968a559-ae75-4ff7-b264-66e5a143558d\" target=\"_top\" title=\"psysml:a968a559-ae75-4ff7-b264-66e5a143558d\" xlink:actuate=\"onRequest\" xlink:href=\"psysml:a968a559-ae75-4ff7-b264-66e5a143558d\" xlink:show=\"new\" xlink:title=\"psysml:a968a559-ae75-4ff7-b264-66e5a143558d\" xlink:type=\"simple\"><path d=\"M155.36,87.06 C162.88,99.47 172.49,115.33 181.24,129.78 \" fill=\"none\" id=\"E5-&gt;E3\" style=\"stroke: #383838; stroke-width: 1.0;\"/><polygon fill=\"#FFFFFF\" points=\"191.66,146.98,175.8217,134.3646,187.792,127.1044,191.66,146.98\" style=\"stroke: #383838; stroke-width: 1.0;\"/><ellipse cx=\"174.5758\" cy=\"128.4538\" fill=\"#383838\" rx=\"2\" ry=\"2\" style=\"stroke: #383838; stroke-width: 1.0;\"/><ellipse cx=\"183.126\" cy=\"123.2679\" fill=\"#383838\" rx=\"2\" ry=\"2\" style=\"stroke: #383838; stroke-width: 1.0;\"/></a><!--MD5=[85d356282659285ab4b2cfe2f634dd2b]\n",
       "reverse link E5 to E6--><a href=\"psysml:167a231e-25d4-4100-8e0d-53e0a4e750c8\" target=\"_top\" title=\"psysml:167a231e-25d4-4100-8e0d-53e0a4e750c8\" xlink:actuate=\"onRequest\" xlink:href=\"psysml:167a231e-25d4-4100-8e0d-53e0a4e750c8\" xlink:show=\"new\" xlink:title=\"psysml:167a231e-25d4-4100-8e0d-53e0a4e750c8\" xlink:type=\"simple\"><path d=\"M132.59,99.96 C128.4,115.51 123.6,133.33 119.93,146.98 \" fill=\"none\" id=\"E5&lt;-E6\" style=\"stroke: #383838; stroke-width: 1.0;\"/><polygon fill=\"#FFFFFF\" points=\"136.06,87.06,130.641,91.8176,132.9484,98.6496,138.3674,93.892,136.06,87.06\" style=\"stroke: #383838; stroke-width: 1.0;\"/><text fill=\"#000000\" font-family=\"sans-serif\" font-size=\"13\" lengthAdjust=\"spacingAndGlyphs\" textLength=\"8\" x=\"112.4487\" y=\"135.8709\">1</text></a><!--MD5=[f667431f98296947986a1a7595a31603]\n",
       "link E6 to E4--><a href=\"psysml:57ff51c2-e85d-4f72-aa72-bbf7c251408b\" target=\"_top\" title=\"psysml:57ff51c2-e85d-4f72-aa72-bbf7c251408b\" xlink:actuate=\"onRequest\" xlink:href=\"psysml:57ff51c2-e85d-4f72-aa72-bbf7c251408b\" xlink:show=\"new\" xlink:title=\"psysml:57ff51c2-e85d-4f72-aa72-bbf7c251408b\" xlink:type=\"simple\"><path d=\"M133.3,193.06 C144.64,206.02 159.28,222.74 172.36,237.7 \" fill=\"none\" id=\"E6-&gt;E4\" style=\"stroke: #383838; stroke-width: 1.0;\"/><polygon fill=\"#FFFFFF\" points=\"185.73,252.98,167.9517,243.2882,178.489,234.0705,185.73,252.98\" style=\"stroke: #383838; stroke-width: 1.0;\"/><line style=\"stroke: #383838; stroke-width: 2.0;\" x1=\"165.4497\" x2=\"175.9871\" y1=\"240.4281\" y2=\"231.2104\"/></a><!--MD5=[14ccda38c055a5c0da953d572bc50960]\n",
       "link E7 to E3--><a href=\"psysml:a1db7df5-c75d-4551-8d1a-744022949b4d\" target=\"_top\" title=\"psysml:a1db7df5-c75d-4551-8d1a-744022949b4d\" xlink:actuate=\"onRequest\" xlink:href=\"psysml:a1db7df5-c75d-4551-8d1a-744022949b4d\" xlink:show=\"new\" xlink:title=\"psysml:a1db7df5-c75d-4551-8d1a-744022949b4d\" xlink:type=\"simple\"><path d=\"M82.11,82.64 C102.61,97.05 132.18,117.83 157.18,135.39 \" fill=\"none\" id=\"E7-&gt;E3\" style=\"stroke: #383838; stroke-width: 1.0;\"/><polygon fill=\"#FFFFFF\" points=\"173.58,146.92,154.011,141.7187,162.0629,130.266,173.58,146.92\" style=\"stroke: #383838; stroke-width: 1.0;\"/><ellipse cx=\"150.4983\" cy=\"136.8043\" fill=\"#383838\" rx=\"2\" ry=\"2\" style=\"stroke: #383838; stroke-width: 1.0;\"/><ellipse cx=\"156.2497\" cy=\"128.6238\" fill=\"#383838\" rx=\"2\" ry=\"2\" style=\"stroke: #383838; stroke-width: 1.0;\"/></a><!--MD5=[dc164f5e8a733ab456ef1add180e9e34]\n",
       "reverse link E7 to E8--><a href=\"psysml:f57d57d9-12d9-410c-acd5-2b53e0560bbf\" target=\"_top\" title=\"psysml:f57d57d9-12d9-410c-acd5-2b53e0560bbf\" xlink:actuate=\"onRequest\" xlink:href=\"psysml:f57d57d9-12d9-410c-acd5-2b53e0560bbf\" xlink:show=\"new\" xlink:title=\"psysml:f57d57d9-12d9-410c-acd5-2b53e0560bbf\" xlink:type=\"simple\"><path d=\"M52.05,100.09 C53.65,143.61 64.25,216.5 74.75,252.9 \" fill=\"none\" id=\"E7&lt;-E8\" style=\"stroke: #383838; stroke-width: 1.0;\"/><polygon fill=\"#FFFFFF\" points=\"51.85,87.08,47.9362,93.1366,52.0216,99.0788,55.9354,93.0222,51.85,87.08\" style=\"stroke: #383838; stroke-width: 1.0;\"/><text fill=\"#000000\" font-family=\"sans-serif\" font-size=\"13\" lengthAdjust=\"spacingAndGlyphs\" textLength=\"8\" x=\"62.6516\" y=\"241.7694\">1</text></a><!--MD5=[dc164f5e8a733ab456ef1add180e9e34]\n",
       "reverse link E7 to E8--><a href=\"psysml:b8781950-4d8a-4fb9-9fe0-7c7847cd278f\" target=\"_top\" title=\"psysml:b8781950-4d8a-4fb9-9fe0-7c7847cd278f\" xlink:actuate=\"onRequest\" xlink:href=\"psysml:b8781950-4d8a-4fb9-9fe0-7c7847cd278f\" xlink:show=\"new\" xlink:title=\"psysml:b8781950-4d8a-4fb9-9fe0-7c7847cd278f\" xlink:type=\"simple\"><path d=\"M72.64,101.8 C83.15,145.5 92.39,216.97 91.63,252.9 \" fill=\"none\" id=\"E7&lt;-E8-1\" style=\"stroke: #383838; stroke-width: 1.0; stroke-dasharray: 7.0,7.0;\"/><ellipse cx=\"70.7794\" cy=\"94.813\" fill=\"#FFFFFF\" rx=\"8\" ry=\"8\" style=\"stroke: #383838; stroke-width: 1.0;\"/><line style=\"stroke: #383838; stroke-width: 1.0;\" x1=\"72.8289\" x2=\"68.73\" y1=\"102.5461\" y2=\"87.08\"/><line style=\"stroke: #383838; stroke-width: 1.0;\" x1=\"63.0464\" x2=\"78.5125\" y1=\"96.8625\" y2=\"92.7636\"/><text fill=\"#000000\" font-family=\"sans-serif\" font-size=\"13\" lengthAdjust=\"spacingAndGlyphs\" textLength=\"8\" x=\"94.2181\" y=\"241.7694\">1</text></a><!--MD5=[0a839d0f80c2d72d4b9b307f046d0de8]\n",
       "link E6 to E8--><a href=\"psysml:117cd7b6-777c-4755-88f6-d7a432271d85\" target=\"_top\" title=\"psysml:117cd7b6-777c-4755-88f6-d7a432271d85\" xlink:actuate=\"onRequest\" xlink:href=\"psysml:117cd7b6-777c-4755-88f6-d7a432271d85\" xlink:show=\"new\" xlink:title=\"psysml:117cd7b6-777c-4755-88f6-d7a432271d85\" xlink:type=\"simple\"><path d=\"M97.42,193.06 C89.86,210.7 83.23,235.34 81.29,252.98 \" fill=\"none\" id=\"E6-E8\" style=\"stroke: #383838; stroke-width: 3.0;\"/><text fill=\"#000000\" font-family=\"sans-serif\" font-size=\"13\" lengthAdjust=\"spacingAndGlyphs\" textLength=\"7\" x=\"80.9648\" y=\"241.8709\">*</text></a><!--MD5=[0a839d0f80c2d72d4b9b307f046d0de8]\n",
       "link E6 to E8--><a href=\"psysml:c7325d6a-fceb-4e80-be50-eff52df502df\" target=\"_top\" title=\"psysml:c7325d6a-fceb-4e80-be50-eff52df502df\" xlink:actuate=\"onRequest\" xlink:href=\"psysml:c7325d6a-fceb-4e80-be50-eff52df502df\" xlink:show=\"new\" xlink:title=\"psysml:c7325d6a-fceb-4e80-be50-eff52df502df\" xlink:type=\"simple\"><path d=\"M119.33,193.06 C117.55,210.7 110.92,235.34 103.2,252.98 \" fill=\"none\" id=\"E6-E8-1\" style=\"stroke: #383838; stroke-width: 3.0;\"/><text fill=\"#000000\" font-family=\"sans-serif\" font-size=\"13\" lengthAdjust=\"spacingAndGlyphs\" textLength=\"7\" x=\"99.8819\" y=\"241.8709\">*</text></a><!--MD5=[760514593a04811b816cfabeea3ff10b]\n",
       "@startuml\r\n",
       "skinparam linetype polyline\r\n",
       "skinparam monochrome true\r\n",
       "skinparam classbackgroundcolor white\r\n",
       "skinparam shadowing false\r\n",
       "skinparam wrapWidth 300\r\n",
       "hide circle\r\n",
       "\r\n",
       "package \"AliasTest\" as E1  [[psysml:6242facc-ff06-44d1-b4f3-467b2ef71334 ]]  {\r\n",
       "comp usage \"b :> ISQSpaceTime::width\" as E2  <<(T,blue) attribute>> [[psysml:c7d5118b-0b42-4b21-9071-aba180ff097b ]] {\r\n",
       "}\r\n",
       "comp def \"P1\" as E3  <<(T,blue) part  def>> [[psysml:f3a385fe-c72f-4489-86aa-e832e0f5c54b ]] {\r\n",
       "}\r\n",
       "comp usage \"porig1 \" as E4  <<(T,blue) port>> [[psysml:12c3f617-858e-4877-bab3-72d077a58110 ]] {\r\n",
       "}\r\n",
       "comp usage \"p1: P1 \" as E5  <<(T,blue) part>> [[psysml:f19cd7cf-ead7-487d-acf0-998c02877f08 ]] {\r\n",
       "}\r\n",
       "comp usage \"po1 \" as E6  <<(T,blue) port>> [[psysml:7bd77f36-e1da-430e-90ed-8aecc87780c5 ]] {\r\n",
       "}\r\n",
       "comp usage \"p2: P1 \" as E7  <<(T,blue) part>> [[psysml:3758ddaf-2d7c-4372-b46d-cbe5af56d102 ]] {\r\n",
       "}\r\n",
       "comp usage \"pdest \" as E8  <<(T,blue) port>> [[psysml:009efb1a-81d8-4f5e-8e24-a878e8625106 ]] {\r\n",
       "}\r\n",
       "}\r\n",
       "E3 o- - \"1\"E4 [[psysml:97bd4c72-9c32-47a6-a147-0b42cd362230 ]] \r\n",
       "E3 +.. \"1\"E4 [[psysml:dd790abf-ac6c-4371-bdbb-56cf5ab0181d ]] \r\n",
       "E5 - -:|> E3 [[psysml:a968a559-ae75-4ff7-b264-66e5a143558d ]] \r\n",
       "E5 o- - \"1\"E6 [[psysml:167a231e-25d4-4100-8e0d-53e0a4e750c8 ]] \r\n",
       "E6 - -||> E4 [[psysml:57ff51c2-e85d-4f72-aa72-bbf7c251408b ]] \r\n",
       "E7 - -:|> E3 [[psysml:a1db7df5-c75d-4551-8d1a-744022949b4d ]] \r\n",
       "E7 o- - \"1\"E8 [[psysml:f57d57d9-12d9-410c-acd5-2b53e0560bbf ]] \r\n",
       "E7 +.. \"1\"E8 [[psysml:b8781950-4d8a-4fb9-9fe0-7c7847cd278f ]] \r\n",
       "E6 -[thickness=3]- \"*\"E8 [[psysml:117cd7b6-777c-4755-88f6-d7a432271d85 ]] \r\n",
       "E6 -[thickness=3]- \"*\"E8 [[psysml:c7325d6a-fceb-4e80-be50-eff52df502df ]] \r\n",
       "@enduml\r\n",
       "\n",
       "PlantUML version 1.2020.13(Sat Jun 13 12:26:38 UTC 2020)\n",
       "(EPL source distribution)\n",
       "Java Runtime: OpenJDK Runtime Environment\n",
       "JVM: OpenJDK 64-Bit Server VM\n",
       "Default Encoding: UTF-8\n",
       "Language: en\n",
       "Country: null\n",
       "--></g></svg>"
      ]
     },
     "execution_count": 15,
     "metadata": {},
     "output_type": "execute_result"
    }
   ],
   "source": [
    "%viz --style=\"POLYLINE\" --view=\"MIXED\" \"AliasTest\""
   ]
  },
  {
   "cell_type": "code",
   "execution_count": 16,
   "id": "74d98459",
   "metadata": {
    "execution": {
     "iopub.execute_input": "2022-03-21T07:52:16.228106Z",
     "iopub.status.busy": "2022-03-21T07:52:16.227700Z",
     "iopub.status.idle": "2022-03-21T07:52:16.274281Z",
     "shell.execute_reply": "2022-03-21T07:52:16.273921Z"
    }
   },
   "outputs": [
    {
     "data": {
      "image/svg+xml": [
       "<?xml version=\"1.0\" encoding=\"UTF-8\" standalone=\"no\"?><svg xmlns=\"http://www.w3.org/2000/svg\" xmlns:xlink=\"http://www.w3.org/1999/xlink\" contentScriptType=\"application/ecmascript\" contentStyleType=\"text/css\" height=\"277px\" preserveAspectRatio=\"none\" style=\"width:475px;height:277px;\" version=\"1.1\" viewBox=\"0 0 475 277\" width=\"475px\" zoomAndPan=\"magnify\"><defs/><g><!--MD5=[fbc87193dbaf4d95561dea2c320d4a47]\n",
       "cluster E1--><a href=\"psysml:6242facc-ff06-44d1-b4f3-467b2ef71334\" target=\"_top\" title=\"psysml:6242facc-ff06-44d1-b4f3-467b2ef71334\" xlink:actuate=\"onRequest\" xlink:href=\"psysml:6242facc-ff06-44d1-b4f3-467b2ef71334\" xlink:show=\"new\" xlink:title=\"psysml:6242facc-ff06-44d1-b4f3-467b2ef71334\" xlink:type=\"simple\"><polygon fill=\"#FFFFFF\" points=\"16,6,84,6,91,28.2969,453,28.2969,453,265,16,265,16,6\" style=\"stroke: #000000; stroke-width: 1.5;\"/><line style=\"stroke: #000000; stroke-width: 1.5;\" x1=\"16\" x2=\"91\" y1=\"28.2969\" y2=\"28.2969\"/><text fill=\"#000000\" font-family=\"sans-serif\" font-size=\"14\" font-weight=\"bold\" lengthAdjust=\"spacingAndGlyphs\" textLength=\"62\" x=\"20\" y=\"20.9951\">AliasTest</text></a><!--MD5=[b4997ac47864f28c2f74865a473b2911]\n",
       "class E2--><a href=\"psysml:c7d5118b-0b42-4b21-9071-aba180ff097b\" target=\"_top\" title=\"psysml:c7d5118b-0b42-4b21-9071-aba180ff097b\" xlink:actuate=\"onRequest\" xlink:href=\"psysml:c7d5118b-0b42-4b21-9071-aba180ff097b\" xlink:show=\"new\" xlink:title=\"psysml:c7d5118b-0b42-4b21-9071-aba180ff097b\" xlink:type=\"simple\"><rect fill=\"#FFFFFF\" height=\"45.9375\" id=\"E2\" rx=\"10\" ry=\"10\" style=\"stroke: #383838; stroke-width: 1.5;\" width=\"165\" x=\"32\" y=\"41\"/><text fill=\"#000000\" font-family=\"sans-serif\" font-size=\"12\" font-style=\"italic\" lengthAdjust=\"spacingAndGlyphs\" textLength=\"69\" x=\"80\" y=\"57.1387\">«attribute»</text><text fill=\"#000000\" font-family=\"sans-serif\" font-size=\"12\" lengthAdjust=\"spacingAndGlyphs\" textLength=\"159\" x=\"35\" y=\"71.1074\">b :&gt; ISQSpaceTime::width</text><line style=\"stroke: #383838; stroke-width: 1.5;\" x1=\"33\" x2=\"196\" y1=\"78.9375\" y2=\"78.9375\"/></a><!--MD5=[09b614a08d8cba4a07c9adeb5e0fee81]\n",
       "class E3--><a href=\"psysml:f3a385fe-c72f-4489-86aa-e832e0f5c54b\" target=\"_top\" title=\"psysml:f3a385fe-c72f-4489-86aa-e832e0f5c54b\" xlink:actuate=\"onRequest\" xlink:href=\"psysml:f3a385fe-c72f-4489-86aa-e832e0f5c54b\" xlink:show=\"new\" xlink:title=\"psysml:f3a385fe-c72f-4489-86aa-e832e0f5c54b\" xlink:type=\"simple\"><rect fill=\"#FFFFFF\" height=\"45.9375\" id=\"E3\" style=\"stroke: #383838; stroke-width: 1.5;\" width=\"70\" x=\"257\" y=\"63\"/><text fill=\"#000000\" font-family=\"sans-serif\" font-size=\"12\" font-style=\"italic\" lengthAdjust=\"spacingAndGlyphs\" textLength=\"68\" x=\"258\" y=\"79.1387\">«part  def»</text><text fill=\"#000000\" font-family=\"sans-serif\" font-size=\"12\" lengthAdjust=\"spacingAndGlyphs\" textLength=\"16\" x=\"284\" y=\"93.1074\">P1</text><line style=\"stroke: #383838; stroke-width: 1.5;\" x1=\"258\" x2=\"326\" y1=\"100.9375\" y2=\"100.9375\"/></a><!--MD5=[ebbe1d658d1005bcc118a6aa81145e00]\n",
       "class E4--><a href=\"psysml:12c3f617-858e-4877-bab3-72d077a58110\" target=\"_top\" title=\"psysml:12c3f617-858e-4877-bab3-72d077a58110\" xlink:actuate=\"onRequest\" xlink:href=\"psysml:12c3f617-858e-4877-bab3-72d077a58110\" xlink:show=\"new\" xlink:title=\"psysml:12c3f617-858e-4877-bab3-72d077a58110\" xlink:type=\"simple\"><rect fill=\"#FFFFFF\" height=\"45.9375\" id=\"E4\" rx=\"10\" ry=\"10\" style=\"stroke: #383838; stroke-width: 1.5;\" width=\"50\" x=\"387\" y=\"63\"/><text fill=\"#000000\" font-family=\"sans-serif\" font-size=\"12\" font-style=\"italic\" lengthAdjust=\"spacingAndGlyphs\" textLength=\"40\" x=\"392\" y=\"79.1387\">«port»</text><text fill=\"#000000\" font-family=\"sans-serif\" font-size=\"12\" lengthAdjust=\"spacingAndGlyphs\" textLength=\"40\" x=\"390\" y=\"93.1074\">porig1</text><line style=\"stroke: #383838; stroke-width: 1.5;\" x1=\"388\" x2=\"436\" y1=\"100.9375\" y2=\"100.9375\"/></a><!--MD5=[270fce915f116d4de14055a7c1d9a0f3]\n",
       "class E5--><a href=\"psysml:f19cd7cf-ead7-487d-acf0-998c02877f08\" target=\"_top\" title=\"psysml:f19cd7cf-ead7-487d-acf0-998c02877f08\" xlink:actuate=\"onRequest\" xlink:href=\"psysml:f19cd7cf-ead7-487d-acf0-998c02877f08\" xlink:show=\"new\" xlink:title=\"psysml:f19cd7cf-ead7-487d-acf0-998c02877f08\" xlink:type=\"simple\"><rect fill=\"#FFFFFF\" height=\"45.9375\" id=\"E5\" rx=\"10\" ry=\"10\" style=\"stroke: #383838; stroke-width: 1.5;\" width=\"50\" x=\"89.5\" y=\"122\"/><text fill=\"#000000\" font-family=\"sans-serif\" font-size=\"12\" font-style=\"italic\" lengthAdjust=\"spacingAndGlyphs\" textLength=\"40\" x=\"94.5\" y=\"138.1387\">«part»</text><text fill=\"#000000\" font-family=\"sans-serif\" font-size=\"12\" lengthAdjust=\"spacingAndGlyphs\" textLength=\"40\" x=\"92.5\" y=\"152.1074\">p1: P1</text><line style=\"stroke: #383838; stroke-width: 1.5;\" x1=\"90.5\" x2=\"138.5\" y1=\"159.9375\" y2=\"159.9375\"/></a><!--MD5=[60a26617385b1d2d0262a64233df1f8d]\n",
       "class E6--><a href=\"psysml:7bd77f36-e1da-430e-90ed-8aecc87780c5\" target=\"_top\" title=\"psysml:7bd77f36-e1da-430e-90ed-8aecc87780c5\" xlink:actuate=\"onRequest\" xlink:href=\"psysml:7bd77f36-e1da-430e-90ed-8aecc87780c5\" xlink:show=\"new\" xlink:title=\"psysml:7bd77f36-e1da-430e-90ed-8aecc87780c5\" xlink:type=\"simple\"><rect fill=\"#FFFFFF\" height=\"45.9375\" id=\"E6\" rx=\"10\" ry=\"10\" style=\"stroke: #383838; stroke-width: 1.5;\" width=\"42\" x=\"271\" y=\"144\"/><text fill=\"#000000\" font-family=\"sans-serif\" font-size=\"12\" font-style=\"italic\" lengthAdjust=\"spacingAndGlyphs\" textLength=\"40\" x=\"272\" y=\"160.1387\">«port»</text><text fill=\"#000000\" font-family=\"sans-serif\" font-size=\"12\" lengthAdjust=\"spacingAndGlyphs\" textLength=\"24\" x=\"278\" y=\"174.1074\">po1</text><line style=\"stroke: #383838; stroke-width: 1.5;\" x1=\"272\" x2=\"312\" y1=\"181.9375\" y2=\"181.9375\"/></a><!--MD5=[2156ba9850f5573cc1fc38a6a4b2f02b]\n",
       "class E7--><a href=\"psysml:3758ddaf-2d7c-4372-b46d-cbe5af56d102\" target=\"_top\" title=\"psysml:3758ddaf-2d7c-4372-b46d-cbe5af56d102\" xlink:actuate=\"onRequest\" xlink:href=\"psysml:3758ddaf-2d7c-4372-b46d-cbe5af56d102\" xlink:show=\"new\" xlink:title=\"psysml:3758ddaf-2d7c-4372-b46d-cbe5af56d102\" xlink:type=\"simple\"><rect fill=\"#FFFFFF\" height=\"45.9375\" id=\"E7\" rx=\"10\" ry=\"10\" style=\"stroke: #383838; stroke-width: 1.5;\" width=\"50\" x=\"89.5\" y=\"203\"/><text fill=\"#000000\" font-family=\"sans-serif\" font-size=\"12\" font-style=\"italic\" lengthAdjust=\"spacingAndGlyphs\" textLength=\"40\" x=\"94.5\" y=\"219.1387\">«part»</text><text fill=\"#000000\" font-family=\"sans-serif\" font-size=\"12\" lengthAdjust=\"spacingAndGlyphs\" textLength=\"40\" x=\"92.5\" y=\"233.1074\">p2: P1</text><line style=\"stroke: #383838; stroke-width: 1.5;\" x1=\"90.5\" x2=\"138.5\" y1=\"240.9375\" y2=\"240.9375\"/></a><!--MD5=[b9389687b975829384b498ac4b7476b2]\n",
       "class E8--><a href=\"psysml:009efb1a-81d8-4f5e-8e24-a878e8625106\" target=\"_top\" title=\"psysml:009efb1a-81d8-4f5e-8e24-a878e8625106\" xlink:actuate=\"onRequest\" xlink:href=\"psysml:009efb1a-81d8-4f5e-8e24-a878e8625106\" xlink:show=\"new\" xlink:title=\"psysml:009efb1a-81d8-4f5e-8e24-a878e8625106\" xlink:type=\"simple\"><rect fill=\"#FFFFFF\" height=\"45.9375\" id=\"E8\" rx=\"10\" ry=\"10\" style=\"stroke: #383838; stroke-width: 1.5;\" width=\"46\" x=\"389\" y=\"173\"/><text fill=\"#000000\" font-family=\"sans-serif\" font-size=\"12\" font-style=\"italic\" lengthAdjust=\"spacingAndGlyphs\" textLength=\"40\" x=\"392\" y=\"189.1387\">«port»</text><text fill=\"#000000\" font-family=\"sans-serif\" font-size=\"12\" lengthAdjust=\"spacingAndGlyphs\" textLength=\"36\" x=\"392\" y=\"203.1074\">pdest</text><line style=\"stroke: #383838; stroke-width: 1.5;\" x1=\"390\" x2=\"434\" y1=\"210.9375\" y2=\"210.9375\"/></a><!--MD5=[4672eba38e49728da53d11aeb285b987]\n",
       "reverse link E3 to E4--><a href=\"psysml:97bd4c72-9c32-47a6-a147-0b42cd362230\" target=\"_top\" title=\"psysml:97bd4c72-9c32-47a6-a147-0b42cd362230\" xlink:actuate=\"onRequest\" xlink:href=\"psysml:97bd4c72-9c32-47a6-a147-0b42cd362230\" xlink:show=\"new\" xlink:title=\"psysml:97bd4c72-9c32-47a6-a147-0b42cd362230\" xlink:type=\"simple\"><path d=\"M340.14,98.52 C356.09,99.15 373.25,98.49 386.68,96.54 \" fill=\"none\" id=\"E3&lt;-E4\" style=\"stroke: #383838; stroke-width: 1.0;\"/><polygon fill=\"#FFFFFF\" points=\"327.13,97.68,332.8628,102.0543,339.1056,98.445,333.3728,94.0706,327.13,97.68\" style=\"stroke: #383838; stroke-width: 1.0;\"/><text fill=\"#000000\" font-family=\"sans-serif\" font-size=\"13\" lengthAdjust=\"spacingAndGlyphs\" textLength=\"8\" x=\"371.1668\" y=\"113.2547\">1</text></a><!--MD5=[4672eba38e49728da53d11aeb285b987]\n",
       "reverse link E3 to E4--><a href=\"psysml:dd790abf-ac6c-4371-bdbb-56cf5ab0181d\" target=\"_top\" title=\"psysml:dd790abf-ac6c-4371-bdbb-56cf5ab0181d\" xlink:actuate=\"onRequest\" xlink:href=\"psysml:dd790abf-ac6c-4371-bdbb-56cf5ab0181d\" xlink:show=\"new\" xlink:title=\"psysml:dd790abf-ac6c-4371-bdbb-56cf5ab0181d\" xlink:type=\"simple\"><path d=\"M342.54,72.66 C357.8,72.15 373.92,72.88 386.68,74.84 \" fill=\"none\" id=\"E3&lt;-E4-1\" style=\"stroke: #383838; stroke-width: 1.0; stroke-dasharray: 7.0,7.0;\"/><ellipse cx=\"335.1142\" cy=\"73.1272\" fill=\"#FFFFFF\" rx=\"8\" ry=\"8\" style=\"stroke: #383838; stroke-width: 1.0;\"/><line style=\"stroke: #383838; stroke-width: 1.0;\" x1=\"343.0984\" x2=\"327.13\" y1=\"72.6244\" y2=\"73.63\"/><line style=\"stroke: #383838; stroke-width: 1.0;\" x1=\"335.617\" x2=\"334.6114\" y1=\"81.1114\" y2=\"65.143\"/><text fill=\"#000000\" font-family=\"sans-serif\" font-size=\"13\" lengthAdjust=\"spacingAndGlyphs\" textLength=\"8\" x=\"371.1668\" y=\"85.994\">1</text></a><!--MD5=[e9be52314489bd878ff4c7144b63c9e1]\n",
       "link E5 to E3--><a href=\"psysml:a968a559-ae75-4ff7-b264-66e5a143558d\" target=\"_top\" title=\"psysml:a968a559-ae75-4ff7-b264-66e5a143558d\" xlink:actuate=\"onRequest\" xlink:href=\"psysml:a968a559-ae75-4ff7-b264-66e5a143558d\" xlink:show=\"new\" xlink:title=\"psysml:a968a559-ae75-4ff7-b264-66e5a143558d\" xlink:type=\"simple\"><path d=\"M139.53,136.92 C164.65,128.48 204.86,114.96 237.54,103.97 \" fill=\"none\" id=\"E5-&gt;E3\" style=\"stroke: #383838; stroke-width: 1.0;\"/><polygon fill=\"#FFFFFF\" points=\"256.72,97.53,240.9401,110.2184,236.4799,96.9478,256.72,97.53\" style=\"stroke: #383838; stroke-width: 1.0;\"/><ellipse cx=\"234.8999\" cy=\"110.1385\" fill=\"#383838\" rx=\"2\" ry=\"2\" style=\"stroke: #383838; stroke-width: 1.0;\"/><ellipse cx=\"231.7141\" cy=\"100.6596\" fill=\"#383838\" rx=\"2\" ry=\"2\" style=\"stroke: #383838; stroke-width: 1.0;\"/></a><!--MD5=[85d356282659285ab4b2cfe2f634dd2b]\n",
       "reverse link E5 to E6--><a href=\"psysml:167a231e-25d4-4100-8e0d-53e0a4e750c8\" target=\"_top\" title=\"psysml:167a231e-25d4-4100-8e0d-53e0a4e750c8\" xlink:actuate=\"onRequest\" xlink:href=\"psysml:167a231e-25d4-4100-8e0d-53e0a4e750c8\" xlink:show=\"new\" xlink:title=\"psysml:167a231e-25d4-4100-8e0d-53e0a4e750c8\" xlink:type=\"simple\"><path d=\"M152.88,149.69 C188.91,154.2 242.06,160.86 270.79,164.47 \" fill=\"none\" id=\"E5&lt;-E6\" style=\"stroke: #383838; stroke-width: 1.0;\"/><polygon fill=\"#FFFFFF\" points=\"139.53,148.01,144.9862,152.7248,151.4369,149.5017,145.9807,144.7869,139.53,148.01\" style=\"stroke: #383838; stroke-width: 1.0;\"/><text fill=\"#000000\" font-family=\"sans-serif\" font-size=\"13\" lengthAdjust=\"spacingAndGlyphs\" textLength=\"8\" x=\"255.0694\" y=\"178.0889\">1</text></a><!--MD5=[f667431f98296947986a1a7595a31603]\n",
       "link E6 to E4--><a href=\"psysml:57ff51c2-e85d-4f72-aa72-bbf7c251408b\" target=\"_top\" title=\"psysml:57ff51c2-e85d-4f72-aa72-bbf7c251408b\" xlink:actuate=\"onRequest\" xlink:href=\"psysml:57ff51c2-e85d-4f72-aa72-bbf7c251408b\" xlink:show=\"new\" xlink:title=\"psysml:57ff51c2-e85d-4f72-aa72-bbf7c251408b\" xlink:type=\"simple\"><path d=\"M313.02,153.26 C328.62,142.55 350.82,127.31 370.14,114.05 \" fill=\"none\" id=\"E6-&gt;E4\" style=\"stroke: #383838; stroke-width: 1.0;\"/><polygon fill=\"#FFFFFF\" points=\"386.8,102.61,375.0955,119.1329,367.1735,107.5899,386.8,102.61\" style=\"stroke: #383838; stroke-width: 1.0;\"/><line style=\"stroke: #383838; stroke-width: 2.0;\" x1=\"371.9624\" x2=\"364.0404\" y1=\"121.2831\" y2=\"109.7401\"/></a><!--MD5=[14ccda38c055a5c0da953d572bc50960]\n",
       "link E7 to E3--><a href=\"psysml:a1db7df5-c75d-4551-8d1a-744022949b4d\" target=\"_top\" title=\"psysml:a1db7df5-c75d-4551-8d1a-744022949b4d\" xlink:actuate=\"onRequest\" xlink:href=\"psysml:a1db7df5-c75d-4551-8d1a-744022949b4d\" xlink:show=\"new\" xlink:title=\"psysml:a1db7df5-c75d-4551-8d1a-744022949b4d\" xlink:type=\"simple\"><path d=\"M139.57,216.52 C156.49,209.24 179.2,198.22 197,185 C209.97,175.37 235.79,147.92 257.09,124.36 \" fill=\"none\" id=\"E7-&gt;E3\" style=\"stroke: #383838; stroke-width: 1.0;\"/><polygon fill=\"#FFFFFF\" points=\"270.58,109.3,263.1197,128.124,252.6902,118.7845,270.58,109.3\" style=\"stroke: #383838; stroke-width: 1.0;\"/><ellipse cx=\"257.8272\" cy=\"131.0361\" fill=\"#383838\" rx=\"2\" ry=\"2\" style=\"stroke: #383838; stroke-width: 1.0;\"/><ellipse cx=\"250.3776\" cy=\"124.365\" fill=\"#383838\" rx=\"2\" ry=\"2\" style=\"stroke: #383838; stroke-width: 1.0;\"/></a><!--MD5=[dc164f5e8a733ab456ef1add180e9e34]\n",
       "reverse link E7 to E8--><a href=\"psysml:f57d57d9-12d9-410c-acd5-2b53e0560bbf\" target=\"_top\" title=\"psysml:f57d57d9-12d9-410c-acd5-2b53e0560bbf\" xlink:actuate=\"onRequest\" xlink:href=\"psysml:f57d57d9-12d9-410c-acd5-2b53e0560bbf\" xlink:show=\"new\" xlink:title=\"psysml:f57d57d9-12d9-410c-acd5-2b53e0560bbf\" xlink:type=\"simple\"><path d=\"M152.83,235.46 C195.12,236.72 266.09,230.72 327,224 C348.05,221.68 372,218.49 388.92,213.11 \" fill=\"none\" id=\"E7&lt;-E8\" style=\"stroke: #383838; stroke-width: 1.0;\"/><polygon fill=\"#FFFFFF\" points=\"139.64,234.74,145.4113,239.0635,151.6219,235.3991,145.8506,231.0756,139.64,234.74\" style=\"stroke: #383838; stroke-width: 1.0;\"/><text fill=\"#000000\" font-family=\"sans-serif\" font-size=\"13\" lengthAdjust=\"spacingAndGlyphs\" textLength=\"8\" x=\"372.9653\" y=\"232.4348\">1</text></a><!--MD5=[dc164f5e8a733ab456ef1add180e9e34]\n",
       "reverse link E7 to E8--><a href=\"psysml:b8781950-4d8a-4fb9-9fe0-7c7847cd278f\" target=\"_top\" title=\"psysml:b8781950-4d8a-4fb9-9fe0-7c7847cd278f\" xlink:actuate=\"onRequest\" xlink:href=\"psysml:b8781950-4d8a-4fb9-9fe0-7c7847cd278f\" xlink:show=\"new\" xlink:title=\"psysml:b8781950-4d8a-4fb9-9fe0-7c7847cd278f\" xlink:type=\"simple\"><path d=\"M154.5,209.71 C196.97,201.57 266.89,195.63 327,189 C348.05,186.68 372,183.49 388.92,184.34 \" fill=\"none\" id=\"E7&lt;-E8-1\" style=\"stroke: #383838; stroke-width: 1.0; stroke-dasharray: 7.0,7.0;\"/><ellipse cx=\"147.4575\" cy=\"211.2509\" fill=\"#FFFFFF\" rx=\"8\" ry=\"8\" style=\"stroke: #383838; stroke-width: 1.0;\"/><line style=\"stroke: #383838; stroke-width: 1.0;\" x1=\"155.275\" x2=\"139.64\" y1=\"209.5518\" y2=\"212.95\"/><line style=\"stroke: #383838; stroke-width: 1.0;\" x1=\"149.1566\" x2=\"145.7584\" y1=\"219.0684\" y2=\"203.4334\"/><text fill=\"#000000\" font-family=\"sans-serif\" font-size=\"13\" lengthAdjust=\"spacingAndGlyphs\" textLength=\"8\" x=\"372.9653\" y=\"175.8073\">1</text></a><!--MD5=[0a839d0f80c2d72d4b9b307f046d0de8]\n",
       "link E6 to E8--><a href=\"psysml:117cd7b6-777c-4755-88f6-d7a432271d85\" target=\"_top\" title=\"psysml:117cd7b6-777c-4755-88f6-d7a432271d85\" xlink:actuate=\"onRequest\" xlink:href=\"psysml:117cd7b6-777c-4755-88f6-d7a432271d85\" xlink:show=\"new\" xlink:title=\"psysml:117cd7b6-777c-4755-88f6-d7a432271d85\" xlink:type=\"simple\"><path d=\"M313.02,181.77 C334.06,190.68 367.07,198.92 388.87,200.77 \" fill=\"none\" id=\"E6-E8\" style=\"stroke: #383838; stroke-width: 3.0;\"/><text fill=\"#000000\" font-family=\"sans-serif\" font-size=\"13\" lengthAdjust=\"spacingAndGlyphs\" textLength=\"7\" x=\"374.0474\" y=\"216.4699\">*</text></a><!--MD5=[0a839d0f80c2d72d4b9b307f046d0de8]\n",
       "link E6 to E8--><a href=\"psysml:c7325d6a-fceb-4e80-be50-eff52df502df\" target=\"_top\" title=\"psysml:c7325d6a-fceb-4e80-be50-eff52df502df\" xlink:actuate=\"onRequest\" xlink:href=\"psysml:c7325d6a-fceb-4e80-be50-eff52df502df\" xlink:show=\"new\" xlink:title=\"psysml:c7325d6a-fceb-4e80-be50-eff52df502df\" xlink:type=\"simple\"><path d=\"M313.02,161.49 C334.06,162.7 367.07,170.69 388.87,179.75 \" fill=\"none\" id=\"E6-E8-1\" style=\"stroke: #383838; stroke-width: 3.0;\"/><text fill=\"#000000\" font-family=\"sans-serif\" font-size=\"13\" lengthAdjust=\"spacingAndGlyphs\" textLength=\"7\" x=\"374.0474\" y=\"189.2753\">*</text></a><!--MD5=[10894fc5344d9f685f803d05ce664e09]\n",
       "@startuml\r\n",
       "left to right direction\r\n",
       "skinparam monochrome true\r\n",
       "skinparam classbackgroundcolor white\r\n",
       "skinparam shadowing false\r\n",
       "skinparam wrapWidth 300\r\n",
       "hide circle\r\n",
       "\r\n",
       "package \"AliasTest\" as E1  [[psysml:6242facc-ff06-44d1-b4f3-467b2ef71334 ]]  {\r\n",
       "comp usage \"b :> ISQSpaceTime::width\" as E2  <<(T,blue) attribute>> [[psysml:c7d5118b-0b42-4b21-9071-aba180ff097b ]] {\r\n",
       "}\r\n",
       "comp def \"P1\" as E3  <<(T,blue) part  def>> [[psysml:f3a385fe-c72f-4489-86aa-e832e0f5c54b ]] {\r\n",
       "}\r\n",
       "comp usage \"porig1 \" as E4  <<(T,blue) port>> [[psysml:12c3f617-858e-4877-bab3-72d077a58110 ]] {\r\n",
       "}\r\n",
       "comp usage \"p1: P1 \" as E5  <<(T,blue) part>> [[psysml:f19cd7cf-ead7-487d-acf0-998c02877f08 ]] {\r\n",
       "}\r\n",
       "comp usage \"po1 \" as E6  <<(T,blue) port>> [[psysml:7bd77f36-e1da-430e-90ed-8aecc87780c5 ]] {\r\n",
       "}\r\n",
       "comp usage \"p2: P1 \" as E7  <<(T,blue) part>> [[psysml:3758ddaf-2d7c-4372-b46d-cbe5af56d102 ]] {\r\n",
       "}\r\n",
       "comp usage \"pdest \" as E8  <<(T,blue) port>> [[psysml:009efb1a-81d8-4f5e-8e24-a878e8625106 ]] {\r\n",
       "}\r\n",
       "}\r\n",
       "E3 o- - \"1\"E4 [[psysml:97bd4c72-9c32-47a6-a147-0b42cd362230 ]] \r\n",
       "E3 +.. \"1\"E4 [[psysml:dd790abf-ac6c-4371-bdbb-56cf5ab0181d ]] \r\n",
       "E5 - -:|> E3 [[psysml:a968a559-ae75-4ff7-b264-66e5a143558d ]] \r\n",
       "E5 o- - \"1\"E6 [[psysml:167a231e-25d4-4100-8e0d-53e0a4e750c8 ]] \r\n",
       "E6 - -||> E4 [[psysml:57ff51c2-e85d-4f72-aa72-bbf7c251408b ]] \r\n",
       "E7 - -:|> E3 [[psysml:a1db7df5-c75d-4551-8d1a-744022949b4d ]] \r\n",
       "E7 o- - \"1\"E8 [[psysml:f57d57d9-12d9-410c-acd5-2b53e0560bbf ]] \r\n",
       "E7 +.. \"1\"E8 [[psysml:b8781950-4d8a-4fb9-9fe0-7c7847cd278f ]] \r\n",
       "E6 -[thickness=3]- \"*\"E8 [[psysml:117cd7b6-777c-4755-88f6-d7a432271d85 ]] \r\n",
       "E6 -[thickness=3]- \"*\"E8 [[psysml:c7325d6a-fceb-4e80-be50-eff52df502df ]] \r\n",
       "@enduml\r\n",
       "\n",
       "PlantUML version 1.2020.13(Sat Jun 13 12:26:38 UTC 2020)\n",
       "(EPL source distribution)\n",
       "Java Runtime: OpenJDK Runtime Environment\n",
       "JVM: OpenJDK 64-Bit Server VM\n",
       "Default Encoding: UTF-8\n",
       "Language: en\n",
       "Country: null\n",
       "--></g></svg>"
      ]
     },
     "execution_count": 16,
     "metadata": {},
     "output_type": "execute_result"
    }
   ],
   "source": [
    "%viz --style=\"LR\" --view=\"Default\" \"AliasTest\""
   ]
  },
  {
   "cell_type": "code",
   "execution_count": 17,
   "id": "951fdf5e",
   "metadata": {
    "execution": {
     "iopub.execute_input": "2022-03-21T07:52:16.324108Z",
     "iopub.status.busy": "2022-03-21T07:52:16.323694Z",
     "iopub.status.idle": "2022-03-21T07:52:16.369429Z",
     "shell.execute_reply": "2022-03-21T07:52:16.369091Z"
    }
   },
   "outputs": [
    {
     "data": {
      "image/svg+xml": [
       "<?xml version=\"1.0\" encoding=\"UTF-8\" standalone=\"no\"?><svg xmlns=\"http://www.w3.org/2000/svg\" xmlns:xlink=\"http://www.w3.org/1999/xlink\" contentScriptType=\"application/ecmascript\" contentStyleType=\"text/css\" height=\"277px\" preserveAspectRatio=\"none\" style=\"width:475px;height:277px;\" version=\"1.1\" viewBox=\"0 0 475 277\" width=\"475px\" zoomAndPan=\"magnify\"><defs/><g><!--MD5=[fbc87193dbaf4d95561dea2c320d4a47]\n",
       "cluster E1--><a href=\"psysml:6242facc-ff06-44d1-b4f3-467b2ef71334\" target=\"_top\" title=\"psysml:6242facc-ff06-44d1-b4f3-467b2ef71334\" xlink:actuate=\"onRequest\" xlink:href=\"psysml:6242facc-ff06-44d1-b4f3-467b2ef71334\" xlink:show=\"new\" xlink:title=\"psysml:6242facc-ff06-44d1-b4f3-467b2ef71334\" xlink:type=\"simple\"><polygon fill=\"#FFFFFF\" points=\"16,6,84,6,91,28.2969,453,28.2969,453,265,16,265,16,6\" style=\"stroke: #000000; stroke-width: 1.5;\"/><line style=\"stroke: #000000; stroke-width: 1.5;\" x1=\"16\" x2=\"91\" y1=\"28.2969\" y2=\"28.2969\"/><text fill=\"#000000\" font-family=\"sans-serif\" font-size=\"14\" font-weight=\"bold\" lengthAdjust=\"spacingAndGlyphs\" textLength=\"62\" x=\"20\" y=\"20.9951\">AliasTest</text></a><!--MD5=[b4997ac47864f28c2f74865a473b2911]\n",
       "class E2--><a href=\"psysml:c7d5118b-0b42-4b21-9071-aba180ff097b\" target=\"_top\" title=\"psysml:c7d5118b-0b42-4b21-9071-aba180ff097b\" xlink:actuate=\"onRequest\" xlink:href=\"psysml:c7d5118b-0b42-4b21-9071-aba180ff097b\" xlink:show=\"new\" xlink:title=\"psysml:c7d5118b-0b42-4b21-9071-aba180ff097b\" xlink:type=\"simple\"><rect fill=\"#FFFFFF\" height=\"45.9375\" id=\"E2\" rx=\"10\" ry=\"10\" style=\"stroke: #383838; stroke-width: 1.5;\" width=\"165\" x=\"32\" y=\"41\"/><text fill=\"#000000\" font-family=\"sans-serif\" font-size=\"12\" font-style=\"italic\" lengthAdjust=\"spacingAndGlyphs\" textLength=\"69\" x=\"80\" y=\"57.1387\">«attribute»</text><text fill=\"#000000\" font-family=\"sans-serif\" font-size=\"12\" lengthAdjust=\"spacingAndGlyphs\" textLength=\"159\" x=\"35\" y=\"71.1074\">b :&gt; ISQSpaceTime::width</text><line style=\"stroke: #383838; stroke-width: 1.5;\" x1=\"33\" x2=\"196\" y1=\"78.9375\" y2=\"78.9375\"/></a><!--MD5=[09b614a08d8cba4a07c9adeb5e0fee81]\n",
       "class E3--><a href=\"psysml:f3a385fe-c72f-4489-86aa-e832e0f5c54b\" target=\"_top\" title=\"psysml:f3a385fe-c72f-4489-86aa-e832e0f5c54b\" xlink:actuate=\"onRequest\" xlink:href=\"psysml:f3a385fe-c72f-4489-86aa-e832e0f5c54b\" xlink:show=\"new\" xlink:title=\"psysml:f3a385fe-c72f-4489-86aa-e832e0f5c54b\" xlink:type=\"simple\"><rect fill=\"#FFFFFF\" height=\"45.9375\" id=\"E3\" style=\"stroke: #383838; stroke-width: 1.5;\" width=\"70\" x=\"257\" y=\"63\"/><text fill=\"#000000\" font-family=\"sans-serif\" font-size=\"12\" font-style=\"italic\" lengthAdjust=\"spacingAndGlyphs\" textLength=\"68\" x=\"258\" y=\"79.1387\">«part  def»</text><text fill=\"#000000\" font-family=\"sans-serif\" font-size=\"12\" lengthAdjust=\"spacingAndGlyphs\" textLength=\"16\" x=\"284\" y=\"93.1074\">P1</text><line style=\"stroke: #383838; stroke-width: 1.5;\" x1=\"258\" x2=\"326\" y1=\"100.9375\" y2=\"100.9375\"/></a><!--MD5=[ebbe1d658d1005bcc118a6aa81145e00]\n",
       "class E4--><a href=\"psysml:12c3f617-858e-4877-bab3-72d077a58110\" target=\"_top\" title=\"psysml:12c3f617-858e-4877-bab3-72d077a58110\" xlink:actuate=\"onRequest\" xlink:href=\"psysml:12c3f617-858e-4877-bab3-72d077a58110\" xlink:show=\"new\" xlink:title=\"psysml:12c3f617-858e-4877-bab3-72d077a58110\" xlink:type=\"simple\"><rect fill=\"#FFFFFF\" height=\"45.9375\" id=\"E4\" rx=\"10\" ry=\"10\" style=\"stroke: #383838; stroke-width: 1.5;\" width=\"50\" x=\"387\" y=\"63\"/><text fill=\"#000000\" font-family=\"sans-serif\" font-size=\"12\" font-style=\"italic\" lengthAdjust=\"spacingAndGlyphs\" textLength=\"40\" x=\"392\" y=\"79.1387\">«port»</text><text fill=\"#000000\" font-family=\"sans-serif\" font-size=\"12\" lengthAdjust=\"spacingAndGlyphs\" textLength=\"40\" x=\"390\" y=\"93.1074\">porig1</text><line style=\"stroke: #383838; stroke-width: 1.5;\" x1=\"388\" x2=\"436\" y1=\"100.9375\" y2=\"100.9375\"/></a><!--MD5=[270fce915f116d4de14055a7c1d9a0f3]\n",
       "class E5--><a href=\"psysml:f19cd7cf-ead7-487d-acf0-998c02877f08\" target=\"_top\" title=\"psysml:f19cd7cf-ead7-487d-acf0-998c02877f08\" xlink:actuate=\"onRequest\" xlink:href=\"psysml:f19cd7cf-ead7-487d-acf0-998c02877f08\" xlink:show=\"new\" xlink:title=\"psysml:f19cd7cf-ead7-487d-acf0-998c02877f08\" xlink:type=\"simple\"><rect fill=\"#FFFFFF\" height=\"45.9375\" id=\"E5\" rx=\"10\" ry=\"10\" style=\"stroke: #383838; stroke-width: 1.5;\" width=\"50\" x=\"89.5\" y=\"122\"/><text fill=\"#000000\" font-family=\"sans-serif\" font-size=\"12\" font-style=\"italic\" lengthAdjust=\"spacingAndGlyphs\" textLength=\"40\" x=\"94.5\" y=\"138.1387\">«part»</text><text fill=\"#000000\" font-family=\"sans-serif\" font-size=\"12\" lengthAdjust=\"spacingAndGlyphs\" textLength=\"40\" x=\"92.5\" y=\"152.1074\">p1: P1</text><line style=\"stroke: #383838; stroke-width: 1.5;\" x1=\"90.5\" x2=\"138.5\" y1=\"159.9375\" y2=\"159.9375\"/></a><!--MD5=[60a26617385b1d2d0262a64233df1f8d]\n",
       "class E6--><a href=\"psysml:7bd77f36-e1da-430e-90ed-8aecc87780c5\" target=\"_top\" title=\"psysml:7bd77f36-e1da-430e-90ed-8aecc87780c5\" xlink:actuate=\"onRequest\" xlink:href=\"psysml:7bd77f36-e1da-430e-90ed-8aecc87780c5\" xlink:show=\"new\" xlink:title=\"psysml:7bd77f36-e1da-430e-90ed-8aecc87780c5\" xlink:type=\"simple\"><rect fill=\"#FFFFFF\" height=\"45.9375\" id=\"E6\" rx=\"10\" ry=\"10\" style=\"stroke: #383838; stroke-width: 1.5;\" width=\"42\" x=\"271\" y=\"144\"/><text fill=\"#000000\" font-family=\"sans-serif\" font-size=\"12\" font-style=\"italic\" lengthAdjust=\"spacingAndGlyphs\" textLength=\"40\" x=\"272\" y=\"160.1387\">«port»</text><text fill=\"#000000\" font-family=\"sans-serif\" font-size=\"12\" lengthAdjust=\"spacingAndGlyphs\" textLength=\"24\" x=\"278\" y=\"174.1074\">po1</text><line style=\"stroke: #383838; stroke-width: 1.5;\" x1=\"272\" x2=\"312\" y1=\"181.9375\" y2=\"181.9375\"/></a><!--MD5=[2156ba9850f5573cc1fc38a6a4b2f02b]\n",
       "class E7--><a href=\"psysml:3758ddaf-2d7c-4372-b46d-cbe5af56d102\" target=\"_top\" title=\"psysml:3758ddaf-2d7c-4372-b46d-cbe5af56d102\" xlink:actuate=\"onRequest\" xlink:href=\"psysml:3758ddaf-2d7c-4372-b46d-cbe5af56d102\" xlink:show=\"new\" xlink:title=\"psysml:3758ddaf-2d7c-4372-b46d-cbe5af56d102\" xlink:type=\"simple\"><rect fill=\"#FFFFFF\" height=\"45.9375\" id=\"E7\" rx=\"10\" ry=\"10\" style=\"stroke: #383838; stroke-width: 1.5;\" width=\"50\" x=\"89.5\" y=\"203\"/><text fill=\"#000000\" font-family=\"sans-serif\" font-size=\"12\" font-style=\"italic\" lengthAdjust=\"spacingAndGlyphs\" textLength=\"40\" x=\"94.5\" y=\"219.1387\">«part»</text><text fill=\"#000000\" font-family=\"sans-serif\" font-size=\"12\" lengthAdjust=\"spacingAndGlyphs\" textLength=\"40\" x=\"92.5\" y=\"233.1074\">p2: P1</text><line style=\"stroke: #383838; stroke-width: 1.5;\" x1=\"90.5\" x2=\"138.5\" y1=\"240.9375\" y2=\"240.9375\"/></a><!--MD5=[b9389687b975829384b498ac4b7476b2]\n",
       "class E8--><a href=\"psysml:009efb1a-81d8-4f5e-8e24-a878e8625106\" target=\"_top\" title=\"psysml:009efb1a-81d8-4f5e-8e24-a878e8625106\" xlink:actuate=\"onRequest\" xlink:href=\"psysml:009efb1a-81d8-4f5e-8e24-a878e8625106\" xlink:show=\"new\" xlink:title=\"psysml:009efb1a-81d8-4f5e-8e24-a878e8625106\" xlink:type=\"simple\"><rect fill=\"#FFFFFF\" height=\"45.9375\" id=\"E8\" rx=\"10\" ry=\"10\" style=\"stroke: #383838; stroke-width: 1.5;\" width=\"46\" x=\"389\" y=\"173\"/><text fill=\"#000000\" font-family=\"sans-serif\" font-size=\"12\" font-style=\"italic\" lengthAdjust=\"spacingAndGlyphs\" textLength=\"40\" x=\"392\" y=\"189.1387\">«port»</text><text fill=\"#000000\" font-family=\"sans-serif\" font-size=\"12\" lengthAdjust=\"spacingAndGlyphs\" textLength=\"36\" x=\"392\" y=\"203.1074\">pdest</text><line style=\"stroke: #383838; stroke-width: 1.5;\" x1=\"390\" x2=\"434\" y1=\"210.9375\" y2=\"210.9375\"/></a><!--MD5=[4672eba38e49728da53d11aeb285b987]\n",
       "reverse link E3 to E4--><a href=\"psysml:97bd4c72-9c32-47a6-a147-0b42cd362230\" target=\"_top\" title=\"psysml:97bd4c72-9c32-47a6-a147-0b42cd362230\" xlink:actuate=\"onRequest\" xlink:href=\"psysml:97bd4c72-9c32-47a6-a147-0b42cd362230\" xlink:show=\"new\" xlink:title=\"psysml:97bd4c72-9c32-47a6-a147-0b42cd362230\" xlink:type=\"simple\"><path d=\"M340.14,98.52 C356.09,99.15 373.25,98.49 386.68,96.54 \" fill=\"none\" id=\"E3&lt;-E4\" style=\"stroke: #383838; stroke-width: 1.0;\"/><polygon fill=\"#FFFFFF\" points=\"327.13,97.68,332.8628,102.0543,339.1056,98.445,333.3728,94.0706,327.13,97.68\" style=\"stroke: #383838; stroke-width: 1.0;\"/><text fill=\"#000000\" font-family=\"sans-serif\" font-size=\"13\" lengthAdjust=\"spacingAndGlyphs\" textLength=\"8\" x=\"371.1668\" y=\"113.2547\">1</text></a><!--MD5=[4672eba38e49728da53d11aeb285b987]\n",
       "reverse link E3 to E4--><a href=\"psysml:dd790abf-ac6c-4371-bdbb-56cf5ab0181d\" target=\"_top\" title=\"psysml:dd790abf-ac6c-4371-bdbb-56cf5ab0181d\" xlink:actuate=\"onRequest\" xlink:href=\"psysml:dd790abf-ac6c-4371-bdbb-56cf5ab0181d\" xlink:show=\"new\" xlink:title=\"psysml:dd790abf-ac6c-4371-bdbb-56cf5ab0181d\" xlink:type=\"simple\"><path d=\"M342.54,72.66 C357.8,72.15 373.92,72.88 386.68,74.84 \" fill=\"none\" id=\"E3&lt;-E4-1\" style=\"stroke: #383838; stroke-width: 1.0; stroke-dasharray: 7.0,7.0;\"/><ellipse cx=\"335.1142\" cy=\"73.1272\" fill=\"#FFFFFF\" rx=\"8\" ry=\"8\" style=\"stroke: #383838; stroke-width: 1.0;\"/><line style=\"stroke: #383838; stroke-width: 1.0;\" x1=\"343.0984\" x2=\"327.13\" y1=\"72.6244\" y2=\"73.63\"/><line style=\"stroke: #383838; stroke-width: 1.0;\" x1=\"335.617\" x2=\"334.6114\" y1=\"81.1114\" y2=\"65.143\"/><text fill=\"#000000\" font-family=\"sans-serif\" font-size=\"13\" lengthAdjust=\"spacingAndGlyphs\" textLength=\"8\" x=\"371.1668\" y=\"85.994\">1</text></a><!--MD5=[e9be52314489bd878ff4c7144b63c9e1]\n",
       "link E5 to E3--><a href=\"psysml:a968a559-ae75-4ff7-b264-66e5a143558d\" target=\"_top\" title=\"psysml:a968a559-ae75-4ff7-b264-66e5a143558d\" xlink:actuate=\"onRequest\" xlink:href=\"psysml:a968a559-ae75-4ff7-b264-66e5a143558d\" xlink:show=\"new\" xlink:title=\"psysml:a968a559-ae75-4ff7-b264-66e5a143558d\" xlink:type=\"simple\"><path d=\"M139.53,136.92 C164.65,128.48 204.86,114.96 237.54,103.97 \" fill=\"none\" id=\"E5-&gt;E3\" style=\"stroke: #383838; stroke-width: 1.0;\"/><polygon fill=\"#FFFFFF\" points=\"256.72,97.53,240.9401,110.2184,236.4799,96.9478,256.72,97.53\" style=\"stroke: #383838; stroke-width: 1.0;\"/><ellipse cx=\"234.8999\" cy=\"110.1385\" fill=\"#383838\" rx=\"2\" ry=\"2\" style=\"stroke: #383838; stroke-width: 1.0;\"/><ellipse cx=\"231.7141\" cy=\"100.6596\" fill=\"#383838\" rx=\"2\" ry=\"2\" style=\"stroke: #383838; stroke-width: 1.0;\"/></a><!--MD5=[85d356282659285ab4b2cfe2f634dd2b]\n",
       "reverse link E5 to E6--><a href=\"psysml:167a231e-25d4-4100-8e0d-53e0a4e750c8\" target=\"_top\" title=\"psysml:167a231e-25d4-4100-8e0d-53e0a4e750c8\" xlink:actuate=\"onRequest\" xlink:href=\"psysml:167a231e-25d4-4100-8e0d-53e0a4e750c8\" xlink:show=\"new\" xlink:title=\"psysml:167a231e-25d4-4100-8e0d-53e0a4e750c8\" xlink:type=\"simple\"><path d=\"M152.88,149.69 C188.91,154.2 242.06,160.86 270.79,164.47 \" fill=\"none\" id=\"E5&lt;-E6\" style=\"stroke: #383838; stroke-width: 1.0;\"/><polygon fill=\"#FFFFFF\" points=\"139.53,148.01,144.9862,152.7248,151.4369,149.5017,145.9807,144.7869,139.53,148.01\" style=\"stroke: #383838; stroke-width: 1.0;\"/><text fill=\"#000000\" font-family=\"sans-serif\" font-size=\"13\" lengthAdjust=\"spacingAndGlyphs\" textLength=\"8\" x=\"255.0694\" y=\"178.0889\">1</text></a><!--MD5=[f667431f98296947986a1a7595a31603]\n",
       "link E6 to E4--><a href=\"psysml:57ff51c2-e85d-4f72-aa72-bbf7c251408b\" target=\"_top\" title=\"psysml:57ff51c2-e85d-4f72-aa72-bbf7c251408b\" xlink:actuate=\"onRequest\" xlink:href=\"psysml:57ff51c2-e85d-4f72-aa72-bbf7c251408b\" xlink:show=\"new\" xlink:title=\"psysml:57ff51c2-e85d-4f72-aa72-bbf7c251408b\" xlink:type=\"simple\"><path d=\"M313.02,153.26 C328.62,142.55 350.82,127.31 370.14,114.05 \" fill=\"none\" id=\"E6-&gt;E4\" style=\"stroke: #383838; stroke-width: 1.0;\"/><polygon fill=\"#FFFFFF\" points=\"386.8,102.61,375.0955,119.1329,367.1735,107.5899,386.8,102.61\" style=\"stroke: #383838; stroke-width: 1.0;\"/><line style=\"stroke: #383838; stroke-width: 2.0;\" x1=\"371.9624\" x2=\"364.0404\" y1=\"121.2831\" y2=\"109.7401\"/></a><!--MD5=[14ccda38c055a5c0da953d572bc50960]\n",
       "link E7 to E3--><a href=\"psysml:a1db7df5-c75d-4551-8d1a-744022949b4d\" target=\"_top\" title=\"psysml:a1db7df5-c75d-4551-8d1a-744022949b4d\" xlink:actuate=\"onRequest\" xlink:href=\"psysml:a1db7df5-c75d-4551-8d1a-744022949b4d\" xlink:show=\"new\" xlink:title=\"psysml:a1db7df5-c75d-4551-8d1a-744022949b4d\" xlink:type=\"simple\"><path d=\"M139.57,216.52 C156.49,209.24 179.2,198.22 197,185 C209.97,175.37 235.79,147.92 257.09,124.36 \" fill=\"none\" id=\"E7-&gt;E3\" style=\"stroke: #383838; stroke-width: 1.0;\"/><polygon fill=\"#FFFFFF\" points=\"270.58,109.3,263.1197,128.124,252.6902,118.7845,270.58,109.3\" style=\"stroke: #383838; stroke-width: 1.0;\"/><ellipse cx=\"257.8272\" cy=\"131.0361\" fill=\"#383838\" rx=\"2\" ry=\"2\" style=\"stroke: #383838; stroke-width: 1.0;\"/><ellipse cx=\"250.3776\" cy=\"124.365\" fill=\"#383838\" rx=\"2\" ry=\"2\" style=\"stroke: #383838; stroke-width: 1.0;\"/></a><!--MD5=[dc164f5e8a733ab456ef1add180e9e34]\n",
       "reverse link E7 to E8--><a href=\"psysml:f57d57d9-12d9-410c-acd5-2b53e0560bbf\" target=\"_top\" title=\"psysml:f57d57d9-12d9-410c-acd5-2b53e0560bbf\" xlink:actuate=\"onRequest\" xlink:href=\"psysml:f57d57d9-12d9-410c-acd5-2b53e0560bbf\" xlink:show=\"new\" xlink:title=\"psysml:f57d57d9-12d9-410c-acd5-2b53e0560bbf\" xlink:type=\"simple\"><path d=\"M152.83,235.46 C195.12,236.72 266.09,230.72 327,224 C348.05,221.68 372,218.49 388.92,213.11 \" fill=\"none\" id=\"E7&lt;-E8\" style=\"stroke: #383838; stroke-width: 1.0;\"/><polygon fill=\"#FFFFFF\" points=\"139.64,234.74,145.4113,239.0635,151.6219,235.3991,145.8506,231.0756,139.64,234.74\" style=\"stroke: #383838; stroke-width: 1.0;\"/><text fill=\"#000000\" font-family=\"sans-serif\" font-size=\"13\" lengthAdjust=\"spacingAndGlyphs\" textLength=\"8\" x=\"372.9653\" y=\"232.4348\">1</text></a><!--MD5=[dc164f5e8a733ab456ef1add180e9e34]\n",
       "reverse link E7 to E8--><a href=\"psysml:b8781950-4d8a-4fb9-9fe0-7c7847cd278f\" target=\"_top\" title=\"psysml:b8781950-4d8a-4fb9-9fe0-7c7847cd278f\" xlink:actuate=\"onRequest\" xlink:href=\"psysml:b8781950-4d8a-4fb9-9fe0-7c7847cd278f\" xlink:show=\"new\" xlink:title=\"psysml:b8781950-4d8a-4fb9-9fe0-7c7847cd278f\" xlink:type=\"simple\"><path d=\"M154.5,209.71 C196.97,201.57 266.89,195.63 327,189 C348.05,186.68 372,183.49 388.92,184.34 \" fill=\"none\" id=\"E7&lt;-E8-1\" style=\"stroke: #383838; stroke-width: 1.0; stroke-dasharray: 7.0,7.0;\"/><ellipse cx=\"147.4575\" cy=\"211.2509\" fill=\"#FFFFFF\" rx=\"8\" ry=\"8\" style=\"stroke: #383838; stroke-width: 1.0;\"/><line style=\"stroke: #383838; stroke-width: 1.0;\" x1=\"155.275\" x2=\"139.64\" y1=\"209.5518\" y2=\"212.95\"/><line style=\"stroke: #383838; stroke-width: 1.0;\" x1=\"149.1566\" x2=\"145.7584\" y1=\"219.0684\" y2=\"203.4334\"/><text fill=\"#000000\" font-family=\"sans-serif\" font-size=\"13\" lengthAdjust=\"spacingAndGlyphs\" textLength=\"8\" x=\"372.9653\" y=\"175.8073\">1</text></a><!--MD5=[0a839d0f80c2d72d4b9b307f046d0de8]\n",
       "link E6 to E8--><a href=\"psysml:117cd7b6-777c-4755-88f6-d7a432271d85\" target=\"_top\" title=\"psysml:117cd7b6-777c-4755-88f6-d7a432271d85\" xlink:actuate=\"onRequest\" xlink:href=\"psysml:117cd7b6-777c-4755-88f6-d7a432271d85\" xlink:show=\"new\" xlink:title=\"psysml:117cd7b6-777c-4755-88f6-d7a432271d85\" xlink:type=\"simple\"><path d=\"M313.02,181.77 C334.06,190.68 367.07,198.92 388.87,200.77 \" fill=\"none\" id=\"E6-E8\" style=\"stroke: #383838; stroke-width: 3.0;\"/><text fill=\"#000000\" font-family=\"sans-serif\" font-size=\"13\" lengthAdjust=\"spacingAndGlyphs\" textLength=\"7\" x=\"374.0474\" y=\"216.4699\">*</text></a><!--MD5=[0a839d0f80c2d72d4b9b307f046d0de8]\n",
       "link E6 to E8--><a href=\"psysml:c7325d6a-fceb-4e80-be50-eff52df502df\" target=\"_top\" title=\"psysml:c7325d6a-fceb-4e80-be50-eff52df502df\" xlink:actuate=\"onRequest\" xlink:href=\"psysml:c7325d6a-fceb-4e80-be50-eff52df502df\" xlink:show=\"new\" xlink:title=\"psysml:c7325d6a-fceb-4e80-be50-eff52df502df\" xlink:type=\"simple\"><path d=\"M313.02,161.49 C334.06,162.7 367.07,170.69 388.87,179.75 \" fill=\"none\" id=\"E6-E8-1\" style=\"stroke: #383838; stroke-width: 3.0;\"/><text fill=\"#000000\" font-family=\"sans-serif\" font-size=\"13\" lengthAdjust=\"spacingAndGlyphs\" textLength=\"7\" x=\"374.0474\" y=\"189.2753\">*</text></a><!--MD5=[10894fc5344d9f685f803d05ce664e09]\n",
       "@startuml\r\n",
       "left to right direction\r\n",
       "skinparam monochrome true\r\n",
       "skinparam classbackgroundcolor white\r\n",
       "skinparam shadowing false\r\n",
       "skinparam wrapWidth 300\r\n",
       "hide circle\r\n",
       "\r\n",
       "package \"AliasTest\" as E1  [[psysml:6242facc-ff06-44d1-b4f3-467b2ef71334 ]]  {\r\n",
       "comp usage \"b :> ISQSpaceTime::width\" as E2  <<(T,blue) attribute>> [[psysml:c7d5118b-0b42-4b21-9071-aba180ff097b ]] {\r\n",
       "}\r\n",
       "comp def \"P1\" as E3  <<(T,blue) part  def>> [[psysml:f3a385fe-c72f-4489-86aa-e832e0f5c54b ]] {\r\n",
       "}\r\n",
       "comp usage \"porig1 \" as E4  <<(T,blue) port>> [[psysml:12c3f617-858e-4877-bab3-72d077a58110 ]] {\r\n",
       "}\r\n",
       "comp usage \"p1: P1 \" as E5  <<(T,blue) part>> [[psysml:f19cd7cf-ead7-487d-acf0-998c02877f08 ]] {\r\n",
       "}\r\n",
       "comp usage \"po1 \" as E6  <<(T,blue) port>> [[psysml:7bd77f36-e1da-430e-90ed-8aecc87780c5 ]] {\r\n",
       "}\r\n",
       "comp usage \"p2: P1 \" as E7  <<(T,blue) part>> [[psysml:3758ddaf-2d7c-4372-b46d-cbe5af56d102 ]] {\r\n",
       "}\r\n",
       "comp usage \"pdest \" as E8  <<(T,blue) port>> [[psysml:009efb1a-81d8-4f5e-8e24-a878e8625106 ]] {\r\n",
       "}\r\n",
       "}\r\n",
       "E3 o- - \"1\"E4 [[psysml:97bd4c72-9c32-47a6-a147-0b42cd362230 ]] \r\n",
       "E3 +.. \"1\"E4 [[psysml:dd790abf-ac6c-4371-bdbb-56cf5ab0181d ]] \r\n",
       "E5 - -:|> E3 [[psysml:a968a559-ae75-4ff7-b264-66e5a143558d ]] \r\n",
       "E5 o- - \"1\"E6 [[psysml:167a231e-25d4-4100-8e0d-53e0a4e750c8 ]] \r\n",
       "E6 - -||> E4 [[psysml:57ff51c2-e85d-4f72-aa72-bbf7c251408b ]] \r\n",
       "E7 - -:|> E3 [[psysml:a1db7df5-c75d-4551-8d1a-744022949b4d ]] \r\n",
       "E7 o- - \"1\"E8 [[psysml:f57d57d9-12d9-410c-acd5-2b53e0560bbf ]] \r\n",
       "E7 +.. \"1\"E8 [[psysml:b8781950-4d8a-4fb9-9fe0-7c7847cd278f ]] \r\n",
       "E6 -[thickness=3]- \"*\"E8 [[psysml:117cd7b6-777c-4755-88f6-d7a432271d85 ]] \r\n",
       "E6 -[thickness=3]- \"*\"E8 [[psysml:c7325d6a-fceb-4e80-be50-eff52df502df ]] \r\n",
       "@enduml\r\n",
       "\n",
       "PlantUML version 1.2020.13(Sat Jun 13 12:26:38 UTC 2020)\n",
       "(EPL source distribution)\n",
       "Java Runtime: OpenJDK Runtime Environment\n",
       "JVM: OpenJDK 64-Bit Server VM\n",
       "Default Encoding: UTF-8\n",
       "Language: en\n",
       "Country: null\n",
       "--></g></svg>"
      ]
     },
     "execution_count": 17,
     "metadata": {},
     "output_type": "execute_result"
    }
   ],
   "source": [
    "%viz --style=\"LR\" --view=\"Tree\" \"AliasTest\""
   ]
  },
  {
   "cell_type": "code",
   "execution_count": 18,
   "id": "ea626991",
   "metadata": {
    "execution": {
     "iopub.execute_input": "2022-03-21T07:52:16.418953Z",
     "iopub.status.busy": "2022-03-21T07:52:16.418543Z",
     "iopub.status.idle": "2022-03-21T07:52:16.424412Z",
     "shell.execute_reply": "2022-03-21T07:52:16.424737Z"
    }
   },
   "outputs": [
    {
     "data": {
      "image/svg+xml": [
       "<?xml version=\"1.0\" encoding=\"UTF-8\" standalone=\"no\"?><svg xmlns=\"http://www.w3.org/2000/svg\" xmlns:xlink=\"http://www.w3.org/1999/xlink\" contentScriptType=\"application/ecmascript\" contentStyleType=\"text/css\" height=\"12px\" preserveAspectRatio=\"none\" style=\"width:12px;height:12px;\" version=\"1.1\" viewBox=\"0 0 12 12\" width=\"12px\" zoomAndPan=\"magnify\"><defs/><g><!--MD5=[19d285c9d72a204eba4e2cd117d745e8]\n",
       "@startuml\r\n",
       "left to right direction\r\n",
       "skinparam monochrome true\r\n",
       "skinparam classbackgroundcolor white\r\n",
       "skinparam shadowing false\r\n",
       "skinparam wrapWidth 300\r\n",
       "hide circle\r\n",
       "\r\n",
       "@enduml\r\n",
       "\n",
       "PlantUML version 1.2020.13(Sat Jun 13 12:26:38 UTC 2020)\n",
       "(EPL source distribution)\n",
       "Java Runtime: OpenJDK Runtime Environment\n",
       "JVM: OpenJDK 64-Bit Server VM\n",
       "Default Encoding: UTF-8\n",
       "Language: en\n",
       "Country: null\n",
       "--></g></svg>"
      ]
     },
     "execution_count": 18,
     "metadata": {},
     "output_type": "execute_result"
    }
   ],
   "source": [
    "%viz --style=\"LR\" --view=\"State\" \"AliasTest\""
   ]
  },
  {
   "cell_type": "code",
   "execution_count": 19,
   "id": "15ddff7d",
   "metadata": {
    "execution": {
     "iopub.execute_input": "2022-03-21T07:52:16.475310Z",
     "iopub.status.busy": "2022-03-21T07:52:16.474805Z",
     "iopub.status.idle": "2022-03-21T07:52:16.513481Z",
     "shell.execute_reply": "2022-03-21T07:52:16.513141Z"
    }
   },
   "outputs": [
    {
     "data": {
      "image/svg+xml": [
       "<?xml version=\"1.0\" encoding=\"UTF-8\" standalone=\"no\"?><svg xmlns=\"http://www.w3.org/2000/svg\" xmlns:xlink=\"http://www.w3.org/1999/xlink\" contentScriptType=\"application/ecmascript\" contentStyleType=\"text/css\" height=\"344px\" preserveAspectRatio=\"none\" style=\"width:451px;height:344px;\" version=\"1.1\" viewBox=\"0 0 451 344\" width=\"451px\" zoomAndPan=\"magnify\"><defs/><g><!--MD5=[fbc87193dbaf4d95561dea2c320d4a47]\n",
       "cluster E1--><a href=\"psysml:6242facc-ff06-44d1-b4f3-467b2ef71334\" target=\"_top\" title=\"psysml:6242facc-ff06-44d1-b4f3-467b2ef71334\" xlink:actuate=\"onRequest\" xlink:href=\"psysml:6242facc-ff06-44d1-b4f3-467b2ef71334\" xlink:show=\"new\" xlink:title=\"psysml:6242facc-ff06-44d1-b4f3-467b2ef71334\" xlink:type=\"simple\"><polygon fill=\"#FFFFFF\" points=\"16,6,84,6,91,28.2969,429,28.2969,429,332,16,332,16,6\" style=\"stroke: #000000; stroke-width: 1.5;\"/><line style=\"stroke: #000000; stroke-width: 1.5;\" x1=\"16\" x2=\"91\" y1=\"28.2969\" y2=\"28.2969\"/><text fill=\"#000000\" font-family=\"sans-serif\" font-size=\"14\" font-weight=\"bold\" lengthAdjust=\"spacingAndGlyphs\" textLength=\"62\" x=\"20\" y=\"20.9951\">AliasTest</text></a><!--MD5=[d5e69f78d87373223dbae638b30a9c99]\n",
       "cluster E3--><a href=\"psysml:f3a385fe-c72f-4489-86aa-e832e0f5c54b\" target=\"_top\" title=\"psysml:f3a385fe-c72f-4489-86aa-e832e0f5c54b\" xlink:actuate=\"onRequest\" xlink:href=\"psysml:f3a385fe-c72f-4489-86aa-e832e0f5c54b\" xlink:show=\"new\" xlink:title=\"psysml:f3a385fe-c72f-4489-86aa-e832e0f5c54b\" xlink:type=\"simple\"><rect fill=\"#FFFFFF\" height=\"47\" id=\"E3\" style=\"stroke: #383838; stroke-width: 1.5;\" width=\"223.5\" x=\"96.5\" y=\"55\"/><rect fill=\"#F8F8F8\" height=\"37.9375\" style=\"stroke: #383838; stroke-width: 1.5;\" width=\"223.5\" x=\"96.5\" y=\"55\"/><text fill=\"#000000\" font-family=\"sans-serif\" font-size=\"12\" font-style=\"italic\" lengthAdjust=\"spacingAndGlyphs\" textLength=\"68\" x=\"174.25\" y=\"71.1387\">«part  def»</text><text fill=\"#000000\" font-family=\"sans-serif\" font-size=\"12\" lengthAdjust=\"spacingAndGlyphs\" textLength=\"16\" x=\"200.25\" y=\"85.1074\">P1</text></a><!--MD5=[14e3b0961a2654348d326746436168a1]\n",
       "cluster E6--><a href=\"psysml:f19cd7cf-ead7-487d-acf0-998c02877f08\" target=\"_top\" title=\"psysml:f19cd7cf-ead7-487d-acf0-998c02877f08\" xlink:actuate=\"onRequest\" xlink:href=\"psysml:f19cd7cf-ead7-487d-acf0-998c02877f08\" xlink:show=\"new\" xlink:title=\"psysml:f19cd7cf-ead7-487d-acf0-998c02877f08\" xlink:type=\"simple\"><rect fill=\"#FFFFFF\" height=\"38\" id=\"E6\" rx=\"10\" ry=\"10\" style=\"stroke: #383838; stroke-width: 1.5;\" width=\"208.5\" x=\"96.5\" y=\"224\"/><rect fill=\"#F8F8F8\" height=\"23.9688\" rx=\"10\" ry=\"10\" style=\"stroke: #F8F8F8; stroke-width: 1.5;\" width=\"208.5\" x=\"96.5\" y=\"224\"/><rect fill=\"#F8F8F8\" height=\"10\" style=\"stroke: #F8F8F8; stroke-width: 1.5;\" width=\"208.5\" x=\"96.5\" y=\"237.9688\"/><rect fill=\"none\" height=\"38\" id=\"E6\" rx=\"10\" ry=\"10\" style=\"stroke: #383838; stroke-width: 1.5;\" width=\"208.5\" x=\"96.5\" y=\"224\"/><text fill=\"#000000\" font-family=\"sans-serif\" font-size=\"12\" lengthAdjust=\"spacingAndGlyphs\" textLength=\"40\" x=\"180.75\" y=\"240.1387\">p1: P1</text><line style=\"stroke: #383838; stroke-width: 1.0;\" x1=\"96.5\" x2=\"305\" y1=\"247.9688\" y2=\"247.9688\"/></a><!--MD5=[55dfccfc6c49c2d10cd1bd2211a6c90c]\n",
       "cluster E8--><a href=\"psysml:3758ddaf-2d7c-4372-b46d-cbe5af56d102\" target=\"_top\" title=\"psysml:3758ddaf-2d7c-4372-b46d-cbe5af56d102\" xlink:actuate=\"onRequest\" xlink:href=\"psysml:3758ddaf-2d7c-4372-b46d-cbe5af56d102\" xlink:show=\"new\" xlink:title=\"psysml:3758ddaf-2d7c-4372-b46d-cbe5af56d102\" xlink:type=\"simple\"><rect fill=\"#FFFFFF\" height=\"47\" id=\"E8\" rx=\"10\" ry=\"10\" style=\"stroke: #383838; stroke-width: 1.5;\" width=\"172.5\" x=\"240.5\" y=\"138\"/><rect fill=\"#F8F8F8\" height=\"23.9688\" rx=\"10\" ry=\"10\" style=\"stroke: #F8F8F8; stroke-width: 1.5;\" width=\"172.5\" x=\"240.5\" y=\"138\"/><rect fill=\"#F8F8F8\" height=\"10\" style=\"stroke: #F8F8F8; stroke-width: 1.5;\" width=\"172.5\" x=\"240.5\" y=\"151.9688\"/><rect fill=\"none\" height=\"47\" id=\"E8\" rx=\"10\" ry=\"10\" style=\"stroke: #383838; stroke-width: 1.5;\" width=\"172.5\" x=\"240.5\" y=\"138\"/><text fill=\"#000000\" font-family=\"sans-serif\" font-size=\"12\" lengthAdjust=\"spacingAndGlyphs\" textLength=\"40\" x=\"306.75\" y=\"154.1387\">p2: P1</text><line style=\"stroke: #383838; stroke-width: 1.0;\" x1=\"240.5\" x2=\"413\" y1=\"161.9688\" y2=\"161.9688\"/></a><!--MD5=[b4997ac47864f28c2f74865a473b2911]\n",
       "class E2--><a href=\"psysml:c7d5118b-0b42-4b21-9071-aba180ff097b\" target=\"_top\" title=\"psysml:c7d5118b-0b42-4b21-9071-aba180ff097b\" xlink:actuate=\"onRequest\" xlink:href=\"psysml:c7d5118b-0b42-4b21-9071-aba180ff097b\" xlink:show=\"new\" xlink:title=\"psysml:c7d5118b-0b42-4b21-9071-aba180ff097b\" xlink:type=\"simple\"><rect fill=\"#FFFFFF\" height=\"45.9375\" id=\"E2\" rx=\"10\" ry=\"10\" style=\"stroke: #383838; stroke-width: 1.5;\" width=\"165\" x=\"32\" y=\"270\"/><text fill=\"#000000\" font-family=\"sans-serif\" font-size=\"12\" font-style=\"italic\" lengthAdjust=\"spacingAndGlyphs\" textLength=\"69\" x=\"80\" y=\"286.1387\">«attribute»</text><text fill=\"#000000\" font-family=\"sans-serif\" font-size=\"12\" lengthAdjust=\"spacingAndGlyphs\" textLength=\"159\" x=\"35\" y=\"300.1074\">b :&gt; ISQSpaceTime::width</text><line style=\"stroke: #383838; stroke-width: 1.5;\" x1=\"33\" x2=\"196\" y1=\"307.9375\" y2=\"307.9375\"/></a><text fill=\"#000000\" font-family=\"sans-serif\" font-size=\"14\" lengthAdjust=\"spacingAndGlyphs\" textLength=\"44\" x=\"90.5\" y=\"120.9951\">porig1</text><rect fill=\"#383838\" height=\"12\" style=\"stroke: #F8F8F8; stroke-width: 1.5;\" width=\"12\" x=\"108.5\" y=\"96\"/><text fill=\"#000000\" font-family=\"sans-serif\" font-size=\"14\" lengthAdjust=\"spacingAndGlyphs\" textLength=\"44\" x=\"90.5\" y=\"33.6982\">porig1</text><rect fill=\"#383838\" height=\"12\" style=\"stroke: #F8F8F8; stroke-width: 1.5;\" width=\"12\" x=\"108.5\" y=\"49\"/><text fill=\"#000000\" font-family=\"sans-serif\" font-size=\"14\" lengthAdjust=\"spacingAndGlyphs\" textLength=\"27\" x=\"99\" y=\"202.6982\">po1</text><rect fill=\"#383838\" height=\"12\" style=\"stroke: #F8F8F8; stroke-width: 1.5;\" width=\"12\" x=\"108.5\" y=\"218\"/><text fill=\"#000000\" font-family=\"sans-serif\" font-size=\"14\" lengthAdjust=\"spacingAndGlyphs\" textLength=\"40\" x=\"236.5\" y=\"203.9951\">pdest</text><rect fill=\"#383838\" height=\"12\" style=\"stroke: #F8F8F8; stroke-width: 1.5;\" width=\"12\" x=\"252.5\" y=\"179\"/><text fill=\"#000000\" font-family=\"sans-serif\" font-size=\"14\" lengthAdjust=\"spacingAndGlyphs\" textLength=\"40\" x=\"236.5\" y=\"116.6982\">pdest</text><rect fill=\"#383838\" height=\"12\" style=\"stroke: #F8F8F8; stroke-width: 1.5;\" width=\"12\" x=\"252.5\" y=\"132\"/><!--MD5=[1c0b9414cc86e0744215edee6abd8926]\n",
       "link E7 to E9--><a href=\"psysml:117cd7b6-777c-4755-88f6-d7a432271d85\" target=\"_top\" title=\"psysml:117cd7b6-777c-4755-88f6-d7a432271d85\" xlink:actuate=\"onRequest\" xlink:href=\"psysml:117cd7b6-777c-4755-88f6-d7a432271d85\" xlink:show=\"new\" xlink:title=\"psysml:117cd7b6-777c-4755-88f6-d7a432271d85\" xlink:type=\"simple\"><path d=\"M120.55,227.73 C142.79,231.88 231.73,207.37 252.94,191.14 \" fill=\"none\" id=\"E7-E9\" style=\"stroke: #383838; stroke-width: 3.0;\"/><text fill=\"#000000\" font-family=\"sans-serif\" font-size=\"13\" lengthAdjust=\"spacingAndGlyphs\" textLength=\"7\" x=\"240.8438\" y=\"210.9167\">*</text></a><!--MD5=[1c0b9414cc86e0744215edee6abd8926]\n",
       "link E7 to E9--><a href=\"psysml:c7325d6a-fceb-4e80-be50-eff52df502df\" target=\"_top\" title=\"psysml:c7325d6a-fceb-4e80-be50-eff52df502df\" xlink:actuate=\"onRequest\" xlink:href=\"psysml:c7325d6a-fceb-4e80-be50-eff52df502df\" xlink:show=\"new\" xlink:title=\"psysml:c7325d6a-fceb-4e80-be50-eff52df502df\" xlink:type=\"simple\"><path d=\"M119.6,217.95 C139.88,201.15 229.47,176.35 252.23,180.92 \" fill=\"none\" id=\"E7-E9-1\" style=\"stroke: #383838; stroke-width: 3.0;\"/><text fill=\"#000000\" font-family=\"sans-serif\" font-size=\"13\" lengthAdjust=\"spacingAndGlyphs\" textLength=\"7\" x=\"237.5361\" y=\"168.9199\">*</text></a><!--MD5=[d7729d6b06c5569b8c739f8cc254c0d8]\n",
       "@startuml\r\n",
       "skinparam ranksep 10\r\n",
       "skinparam rectangle {\r\n",
       " backgroundColor<<block>> LightGreen\r\n",
       "}\r\n",
       "left to right direction\r\n",
       "skinparam monochrome true\r\n",
       "skinparam classbackgroundcolor white\r\n",
       "skinparam shadowing false\r\n",
       "skinparam wrapWidth 300\r\n",
       "hide circle\r\n",
       "\r\n",
       "package \"AliasTest\" as E1  [[psysml:6242facc-ff06-44d1-b4f3-467b2ef71334 ]]  {\r\n",
       "comp usage \"b :> ISQSpaceTime::width\" as E2  <<(T,blue) attribute>> [[psysml:c7d5118b-0b42-4b21-9071-aba180ff097b ]] {\r\n",
       "}\r\n",
       "rec def \"P1\" as E3  <<(T,blue) part  def>> [[psysml:f3a385fe-c72f-4489-86aa-e832e0f5c54b ]] {\r\n",
       "portin \"porig1 \" as E4  <<(T,blue) port>> [[psysml:12c3f617-858e-4877-bab3-72d077a58110 ]] \r\n",
       "portin \"porig1 \" as E5  <<(T,blue) port>> [[psysml:12c3f617-858e-4877-bab3-72d077a58110 ]] \r\n",
       "}\r\n",
       "rec usage \"p1: P1\" as E6  [[psysml:f19cd7cf-ead7-487d-acf0-998c02877f08 ]] {\r\n",
       "portin \"po1 \" as E7  <<(T,blue) port>> [[psysml:7bd77f36-e1da-430e-90ed-8aecc87780c5 ]] \r\n",
       "}\r\n",
       "rec usage \"p2: P1\" as E8  [[psysml:3758ddaf-2d7c-4372-b46d-cbe5af56d102 ]] {\r\n",
       "portin \"pdest \" as E9  <<(T,blue) port>> [[psysml:009efb1a-81d8-4f5e-8e24-a878e8625106 ]] \r\n",
       "portin \"pdest \" as E10  <<(T,blue) port>> [[psysml:009efb1a-81d8-4f5e-8e24-a878e8625106 ]] \r\n",
       "}\r\n",
       "}\r\n",
       "E7 -[thickness=3]- \"*\"E9 [[psysml:117cd7b6-777c-4755-88f6-d7a432271d85 ]] \r\n",
       "E7 -[thickness=3]- \"*\"E9 [[psysml:c7325d6a-fceb-4e80-be50-eff52df502df ]] \r\n",
       "@enduml\r\n",
       "\n",
       "PlantUML version 1.2020.13(Sat Jun 13 12:26:38 UTC 2020)\n",
       "(EPL source distribution)\n",
       "Java Runtime: OpenJDK Runtime Environment\n",
       "JVM: OpenJDK 64-Bit Server VM\n",
       "Default Encoding: UTF-8\n",
       "Language: en\n",
       "Country: null\n",
       "--></g></svg>"
      ]
     },
     "execution_count": 19,
     "metadata": {},
     "output_type": "execute_result"
    }
   ],
   "source": [
    "%viz --style=\"LR\" --view=\"Interconnection\" \"AliasTest\""
   ]
  },
  {
   "cell_type": "code",
   "execution_count": 20,
   "id": "d0143f54",
   "metadata": {
    "execution": {
     "iopub.execute_input": "2022-03-21T07:52:16.563456Z",
     "iopub.status.busy": "2022-03-21T07:52:16.563049Z",
     "iopub.status.idle": "2022-03-21T07:52:16.568058Z",
     "shell.execute_reply": "2022-03-21T07:52:16.568371Z"
    }
   },
   "outputs": [
    {
     "data": {
      "image/svg+xml": [
       "<?xml version=\"1.0\" encoding=\"UTF-8\" standalone=\"no\"?><svg xmlns=\"http://www.w3.org/2000/svg\" xmlns:xlink=\"http://www.w3.org/1999/xlink\" contentScriptType=\"application/ecmascript\" contentStyleType=\"text/css\" height=\"12px\" preserveAspectRatio=\"none\" style=\"width:12px;height:12px;\" version=\"1.1\" viewBox=\"0 0 12 12\" width=\"12px\" zoomAndPan=\"magnify\"><defs/><g><!--MD5=[7aeb398939421629f6affaa4a1a7b125]\n",
       "@startuml\r\n",
       "skinparam ranksep 8\r\n",
       "left to right direction\r\n",
       "skinparam monochrome true\r\n",
       "skinparam classbackgroundcolor white\r\n",
       "skinparam shadowing false\r\n",
       "skinparam wrapWidth 300\r\n",
       "hide circle\r\n",
       "\r\n",
       "@enduml\r\n",
       "\n",
       "PlantUML version 1.2020.13(Sat Jun 13 12:26:38 UTC 2020)\n",
       "(EPL source distribution)\n",
       "Java Runtime: OpenJDK Runtime Environment\n",
       "JVM: OpenJDK 64-Bit Server VM\n",
       "Default Encoding: UTF-8\n",
       "Language: en\n",
       "Country: null\n",
       "--></g></svg>"
      ]
     },
     "execution_count": 20,
     "metadata": {},
     "output_type": "execute_result"
    }
   ],
   "source": [
    "%viz --style=\"LR\" --view=\"Action\" \"AliasTest\""
   ]
  },
  {
   "cell_type": "code",
   "execution_count": 21,
   "id": "8f371428",
   "metadata": {
    "execution": {
     "iopub.execute_input": "2022-03-21T07:52:16.618476Z",
     "iopub.status.busy": "2022-03-21T07:52:16.618071Z",
     "iopub.status.idle": "2022-03-21T07:52:16.623118Z",
     "shell.execute_reply": "2022-03-21T07:52:16.623429Z"
    }
   },
   "outputs": [
    {
     "data": {
      "image/svg+xml": [
       "<?xml version=\"1.0\" encoding=\"UTF-8\" standalone=\"no\"?><svg xmlns=\"http://www.w3.org/2000/svg\" xmlns:xlink=\"http://www.w3.org/1999/xlink\" contentScriptType=\"application/ecmascript\" contentStyleType=\"text/css\" height=\"12px\" preserveAspectRatio=\"none\" style=\"width:12px;height:12px;\" version=\"1.1\" viewBox=\"0 0 12 12\" width=\"12px\" zoomAndPan=\"magnify\"><defs/><g><!--MD5=[238c11ea2002f03115ad6b49a457d50e]\n",
       "@startuml\r\n",
       "skinparam roundcorner 20\r\n",
       "skinparam BoxPadding 20\r\n",
       "skinparam SequenceBoxBackgroundColor #white\r\n",
       "skinparam style strictuml\r\n",
       "skinparam maxMessageSize 100\r\n",
       "left to right direction\r\n",
       "skinparam monochrome true\r\n",
       "skinparam classbackgroundcolor white\r\n",
       "skinparam shadowing false\r\n",
       "skinparam wrapWidth 300\r\n",
       "hide circle\r\n",
       "\r\n",
       "@enduml\r\n",
       "\n",
       "PlantUML version 1.2020.13(Sat Jun 13 12:26:38 UTC 2020)\n",
       "(EPL source distribution)\n",
       "Java Runtime: OpenJDK Runtime Environment\n",
       "JVM: OpenJDK 64-Bit Server VM\n",
       "Default Encoding: UTF-8\n",
       "Language: en\n",
       "Country: null\n",
       "--></g></svg>"
      ]
     },
     "execution_count": 21,
     "metadata": {},
     "output_type": "execute_result"
    }
   ],
   "source": [
    "%viz --style=\"LR\" --view=\"Sequence\" \"AliasTest\""
   ]
  },
  {
   "cell_type": "code",
   "execution_count": 22,
   "id": "ccedf16f",
   "metadata": {
    "execution": {
     "iopub.execute_input": "2022-03-21T07:52:16.673528Z",
     "iopub.status.busy": "2022-03-21T07:52:16.673128Z",
     "iopub.status.idle": "2022-03-21T07:52:16.713141Z",
     "shell.execute_reply": "2022-03-21T07:52:16.712812Z"
    }
   },
   "outputs": [
    {
     "data": {
      "image/svg+xml": [
       "<?xml version=\"1.0\" encoding=\"UTF-8\" standalone=\"no\"?><svg xmlns=\"http://www.w3.org/2000/svg\" xmlns:xlink=\"http://www.w3.org/1999/xlink\" contentScriptType=\"application/ecmascript\" contentStyleType=\"text/css\" height=\"277px\" preserveAspectRatio=\"none\" style=\"width:475px;height:277px;\" version=\"1.1\" viewBox=\"0 0 475 277\" width=\"475px\" zoomAndPan=\"magnify\"><defs/><g><!--MD5=[fbc87193dbaf4d95561dea2c320d4a47]\n",
       "cluster E1--><a href=\"psysml:6242facc-ff06-44d1-b4f3-467b2ef71334\" target=\"_top\" title=\"psysml:6242facc-ff06-44d1-b4f3-467b2ef71334\" xlink:actuate=\"onRequest\" xlink:href=\"psysml:6242facc-ff06-44d1-b4f3-467b2ef71334\" xlink:show=\"new\" xlink:title=\"psysml:6242facc-ff06-44d1-b4f3-467b2ef71334\" xlink:type=\"simple\"><polygon fill=\"#FFFFFF\" points=\"16,6,84,6,91,28.2969,453,28.2969,453,265,16,265,16,6\" style=\"stroke: #000000; stroke-width: 1.5;\"/><line style=\"stroke: #000000; stroke-width: 1.5;\" x1=\"16\" x2=\"91\" y1=\"28.2969\" y2=\"28.2969\"/><text fill=\"#000000\" font-family=\"sans-serif\" font-size=\"14\" font-weight=\"bold\" lengthAdjust=\"spacingAndGlyphs\" textLength=\"62\" x=\"20\" y=\"20.9951\">AliasTest</text></a><!--MD5=[b4997ac47864f28c2f74865a473b2911]\n",
       "class E2--><a href=\"psysml:c7d5118b-0b42-4b21-9071-aba180ff097b\" target=\"_top\" title=\"psysml:c7d5118b-0b42-4b21-9071-aba180ff097b\" xlink:actuate=\"onRequest\" xlink:href=\"psysml:c7d5118b-0b42-4b21-9071-aba180ff097b\" xlink:show=\"new\" xlink:title=\"psysml:c7d5118b-0b42-4b21-9071-aba180ff097b\" xlink:type=\"simple\"><rect fill=\"#FFFFFF\" height=\"45.9375\" id=\"E2\" rx=\"10\" ry=\"10\" style=\"stroke: #383838; stroke-width: 1.5;\" width=\"165\" x=\"32\" y=\"41\"/><text fill=\"#000000\" font-family=\"sans-serif\" font-size=\"12\" font-style=\"italic\" lengthAdjust=\"spacingAndGlyphs\" textLength=\"69\" x=\"80\" y=\"57.1387\">«attribute»</text><text fill=\"#000000\" font-family=\"sans-serif\" font-size=\"12\" lengthAdjust=\"spacingAndGlyphs\" textLength=\"159\" x=\"35\" y=\"71.1074\">b :&gt; ISQSpaceTime::width</text><line style=\"stroke: #383838; stroke-width: 1.5;\" x1=\"33\" x2=\"196\" y1=\"78.9375\" y2=\"78.9375\"/></a><!--MD5=[09b614a08d8cba4a07c9adeb5e0fee81]\n",
       "class E3--><a href=\"psysml:f3a385fe-c72f-4489-86aa-e832e0f5c54b\" target=\"_top\" title=\"psysml:f3a385fe-c72f-4489-86aa-e832e0f5c54b\" xlink:actuate=\"onRequest\" xlink:href=\"psysml:f3a385fe-c72f-4489-86aa-e832e0f5c54b\" xlink:show=\"new\" xlink:title=\"psysml:f3a385fe-c72f-4489-86aa-e832e0f5c54b\" xlink:type=\"simple\"><rect fill=\"#FFFFFF\" height=\"45.9375\" id=\"E3\" style=\"stroke: #383838; stroke-width: 1.5;\" width=\"70\" x=\"257\" y=\"63\"/><text fill=\"#000000\" font-family=\"sans-serif\" font-size=\"12\" font-style=\"italic\" lengthAdjust=\"spacingAndGlyphs\" textLength=\"68\" x=\"258\" y=\"79.1387\">«part  def»</text><text fill=\"#000000\" font-family=\"sans-serif\" font-size=\"12\" lengthAdjust=\"spacingAndGlyphs\" textLength=\"16\" x=\"284\" y=\"93.1074\">P1</text><line style=\"stroke: #383838; stroke-width: 1.5;\" x1=\"258\" x2=\"326\" y1=\"100.9375\" y2=\"100.9375\"/></a><!--MD5=[ebbe1d658d1005bcc118a6aa81145e00]\n",
       "class E4--><a href=\"psysml:12c3f617-858e-4877-bab3-72d077a58110\" target=\"_top\" title=\"psysml:12c3f617-858e-4877-bab3-72d077a58110\" xlink:actuate=\"onRequest\" xlink:href=\"psysml:12c3f617-858e-4877-bab3-72d077a58110\" xlink:show=\"new\" xlink:title=\"psysml:12c3f617-858e-4877-bab3-72d077a58110\" xlink:type=\"simple\"><rect fill=\"#FFFFFF\" height=\"45.9375\" id=\"E4\" rx=\"10\" ry=\"10\" style=\"stroke: #383838; stroke-width: 1.5;\" width=\"50\" x=\"387\" y=\"63\"/><text fill=\"#000000\" font-family=\"sans-serif\" font-size=\"12\" font-style=\"italic\" lengthAdjust=\"spacingAndGlyphs\" textLength=\"40\" x=\"392\" y=\"79.1387\">«port»</text><text fill=\"#000000\" font-family=\"sans-serif\" font-size=\"12\" lengthAdjust=\"spacingAndGlyphs\" textLength=\"40\" x=\"390\" y=\"93.1074\">porig1</text><line style=\"stroke: #383838; stroke-width: 1.5;\" x1=\"388\" x2=\"436\" y1=\"100.9375\" y2=\"100.9375\"/></a><!--MD5=[270fce915f116d4de14055a7c1d9a0f3]\n",
       "class E5--><a href=\"psysml:f19cd7cf-ead7-487d-acf0-998c02877f08\" target=\"_top\" title=\"psysml:f19cd7cf-ead7-487d-acf0-998c02877f08\" xlink:actuate=\"onRequest\" xlink:href=\"psysml:f19cd7cf-ead7-487d-acf0-998c02877f08\" xlink:show=\"new\" xlink:title=\"psysml:f19cd7cf-ead7-487d-acf0-998c02877f08\" xlink:type=\"simple\"><rect fill=\"#FFFFFF\" height=\"45.9375\" id=\"E5\" rx=\"10\" ry=\"10\" style=\"stroke: #383838; stroke-width: 1.5;\" width=\"50\" x=\"89.5\" y=\"122\"/><text fill=\"#000000\" font-family=\"sans-serif\" font-size=\"12\" font-style=\"italic\" lengthAdjust=\"spacingAndGlyphs\" textLength=\"40\" x=\"94.5\" y=\"138.1387\">«part»</text><text fill=\"#000000\" font-family=\"sans-serif\" font-size=\"12\" lengthAdjust=\"spacingAndGlyphs\" textLength=\"40\" x=\"92.5\" y=\"152.1074\">p1: P1</text><line style=\"stroke: #383838; stroke-width: 1.5;\" x1=\"90.5\" x2=\"138.5\" y1=\"159.9375\" y2=\"159.9375\"/></a><!--MD5=[60a26617385b1d2d0262a64233df1f8d]\n",
       "class E6--><a href=\"psysml:7bd77f36-e1da-430e-90ed-8aecc87780c5\" target=\"_top\" title=\"psysml:7bd77f36-e1da-430e-90ed-8aecc87780c5\" xlink:actuate=\"onRequest\" xlink:href=\"psysml:7bd77f36-e1da-430e-90ed-8aecc87780c5\" xlink:show=\"new\" xlink:title=\"psysml:7bd77f36-e1da-430e-90ed-8aecc87780c5\" xlink:type=\"simple\"><rect fill=\"#FFFFFF\" height=\"45.9375\" id=\"E6\" rx=\"10\" ry=\"10\" style=\"stroke: #383838; stroke-width: 1.5;\" width=\"42\" x=\"271\" y=\"144\"/><text fill=\"#000000\" font-family=\"sans-serif\" font-size=\"12\" font-style=\"italic\" lengthAdjust=\"spacingAndGlyphs\" textLength=\"40\" x=\"272\" y=\"160.1387\">«port»</text><text fill=\"#000000\" font-family=\"sans-serif\" font-size=\"12\" lengthAdjust=\"spacingAndGlyphs\" textLength=\"24\" x=\"278\" y=\"174.1074\">po1</text><line style=\"stroke: #383838; stroke-width: 1.5;\" x1=\"272\" x2=\"312\" y1=\"181.9375\" y2=\"181.9375\"/></a><!--MD5=[2156ba9850f5573cc1fc38a6a4b2f02b]\n",
       "class E7--><a href=\"psysml:3758ddaf-2d7c-4372-b46d-cbe5af56d102\" target=\"_top\" title=\"psysml:3758ddaf-2d7c-4372-b46d-cbe5af56d102\" xlink:actuate=\"onRequest\" xlink:href=\"psysml:3758ddaf-2d7c-4372-b46d-cbe5af56d102\" xlink:show=\"new\" xlink:title=\"psysml:3758ddaf-2d7c-4372-b46d-cbe5af56d102\" xlink:type=\"simple\"><rect fill=\"#FFFFFF\" height=\"45.9375\" id=\"E7\" rx=\"10\" ry=\"10\" style=\"stroke: #383838; stroke-width: 1.5;\" width=\"50\" x=\"89.5\" y=\"203\"/><text fill=\"#000000\" font-family=\"sans-serif\" font-size=\"12\" font-style=\"italic\" lengthAdjust=\"spacingAndGlyphs\" textLength=\"40\" x=\"94.5\" y=\"219.1387\">«part»</text><text fill=\"#000000\" font-family=\"sans-serif\" font-size=\"12\" lengthAdjust=\"spacingAndGlyphs\" textLength=\"40\" x=\"92.5\" y=\"233.1074\">p2: P1</text><line style=\"stroke: #383838; stroke-width: 1.5;\" x1=\"90.5\" x2=\"138.5\" y1=\"240.9375\" y2=\"240.9375\"/></a><!--MD5=[b9389687b975829384b498ac4b7476b2]\n",
       "class E8--><a href=\"psysml:009efb1a-81d8-4f5e-8e24-a878e8625106\" target=\"_top\" title=\"psysml:009efb1a-81d8-4f5e-8e24-a878e8625106\" xlink:actuate=\"onRequest\" xlink:href=\"psysml:009efb1a-81d8-4f5e-8e24-a878e8625106\" xlink:show=\"new\" xlink:title=\"psysml:009efb1a-81d8-4f5e-8e24-a878e8625106\" xlink:type=\"simple\"><rect fill=\"#FFFFFF\" height=\"45.9375\" id=\"E8\" rx=\"10\" ry=\"10\" style=\"stroke: #383838; stroke-width: 1.5;\" width=\"46\" x=\"389\" y=\"173\"/><text fill=\"#000000\" font-family=\"sans-serif\" font-size=\"12\" font-style=\"italic\" lengthAdjust=\"spacingAndGlyphs\" textLength=\"40\" x=\"392\" y=\"189.1387\">«port»</text><text fill=\"#000000\" font-family=\"sans-serif\" font-size=\"12\" lengthAdjust=\"spacingAndGlyphs\" textLength=\"36\" x=\"392\" y=\"203.1074\">pdest</text><line style=\"stroke: #383838; stroke-width: 1.5;\" x1=\"390\" x2=\"434\" y1=\"210.9375\" y2=\"210.9375\"/></a><!--MD5=[4672eba38e49728da53d11aeb285b987]\n",
       "reverse link E3 to E4--><a href=\"psysml:97bd4c72-9c32-47a6-a147-0b42cd362230\" target=\"_top\" title=\"psysml:97bd4c72-9c32-47a6-a147-0b42cd362230\" xlink:actuate=\"onRequest\" xlink:href=\"psysml:97bd4c72-9c32-47a6-a147-0b42cd362230\" xlink:show=\"new\" xlink:title=\"psysml:97bd4c72-9c32-47a6-a147-0b42cd362230\" xlink:type=\"simple\"><path d=\"M340.14,98.52 C356.09,99.15 373.25,98.49 386.68,96.54 \" fill=\"none\" id=\"E3&lt;-E4\" style=\"stroke: #383838; stroke-width: 1.0;\"/><polygon fill=\"#FFFFFF\" points=\"327.13,97.68,332.8628,102.0543,339.1056,98.445,333.3728,94.0706,327.13,97.68\" style=\"stroke: #383838; stroke-width: 1.0;\"/><text fill=\"#000000\" font-family=\"sans-serif\" font-size=\"13\" lengthAdjust=\"spacingAndGlyphs\" textLength=\"8\" x=\"371.1668\" y=\"113.2547\">1</text></a><!--MD5=[4672eba38e49728da53d11aeb285b987]\n",
       "reverse link E3 to E4--><a href=\"psysml:dd790abf-ac6c-4371-bdbb-56cf5ab0181d\" target=\"_top\" title=\"psysml:dd790abf-ac6c-4371-bdbb-56cf5ab0181d\" xlink:actuate=\"onRequest\" xlink:href=\"psysml:dd790abf-ac6c-4371-bdbb-56cf5ab0181d\" xlink:show=\"new\" xlink:title=\"psysml:dd790abf-ac6c-4371-bdbb-56cf5ab0181d\" xlink:type=\"simple\"><path d=\"M342.54,72.66 C357.8,72.15 373.92,72.88 386.68,74.84 \" fill=\"none\" id=\"E3&lt;-E4-1\" style=\"stroke: #383838; stroke-width: 1.0; stroke-dasharray: 7.0,7.0;\"/><ellipse cx=\"335.1142\" cy=\"73.1272\" fill=\"#FFFFFF\" rx=\"8\" ry=\"8\" style=\"stroke: #383838; stroke-width: 1.0;\"/><line style=\"stroke: #383838; stroke-width: 1.0;\" x1=\"343.0984\" x2=\"327.13\" y1=\"72.6244\" y2=\"73.63\"/><line style=\"stroke: #383838; stroke-width: 1.0;\" x1=\"335.617\" x2=\"334.6114\" y1=\"81.1114\" y2=\"65.143\"/><text fill=\"#000000\" font-family=\"sans-serif\" font-size=\"13\" lengthAdjust=\"spacingAndGlyphs\" textLength=\"8\" x=\"371.1668\" y=\"85.994\">1</text></a><!--MD5=[e9be52314489bd878ff4c7144b63c9e1]\n",
       "link E5 to E3--><a href=\"psysml:a968a559-ae75-4ff7-b264-66e5a143558d\" target=\"_top\" title=\"psysml:a968a559-ae75-4ff7-b264-66e5a143558d\" xlink:actuate=\"onRequest\" xlink:href=\"psysml:a968a559-ae75-4ff7-b264-66e5a143558d\" xlink:show=\"new\" xlink:title=\"psysml:a968a559-ae75-4ff7-b264-66e5a143558d\" xlink:type=\"simple\"><path d=\"M139.53,136.92 C164.65,128.48 204.86,114.96 237.54,103.97 \" fill=\"none\" id=\"E5-&gt;E3\" style=\"stroke: #383838; stroke-width: 1.0;\"/><polygon fill=\"#FFFFFF\" points=\"256.72,97.53,240.9401,110.2184,236.4799,96.9478,256.72,97.53\" style=\"stroke: #383838; stroke-width: 1.0;\"/><ellipse cx=\"234.8999\" cy=\"110.1385\" fill=\"#383838\" rx=\"2\" ry=\"2\" style=\"stroke: #383838; stroke-width: 1.0;\"/><ellipse cx=\"231.7141\" cy=\"100.6596\" fill=\"#383838\" rx=\"2\" ry=\"2\" style=\"stroke: #383838; stroke-width: 1.0;\"/></a><!--MD5=[85d356282659285ab4b2cfe2f634dd2b]\n",
       "reverse link E5 to E6--><a href=\"psysml:167a231e-25d4-4100-8e0d-53e0a4e750c8\" target=\"_top\" title=\"psysml:167a231e-25d4-4100-8e0d-53e0a4e750c8\" xlink:actuate=\"onRequest\" xlink:href=\"psysml:167a231e-25d4-4100-8e0d-53e0a4e750c8\" xlink:show=\"new\" xlink:title=\"psysml:167a231e-25d4-4100-8e0d-53e0a4e750c8\" xlink:type=\"simple\"><path d=\"M152.88,149.69 C188.91,154.2 242.06,160.86 270.79,164.47 \" fill=\"none\" id=\"E5&lt;-E6\" style=\"stroke: #383838; stroke-width: 1.0;\"/><polygon fill=\"#FFFFFF\" points=\"139.53,148.01,144.9862,152.7248,151.4369,149.5017,145.9807,144.7869,139.53,148.01\" style=\"stroke: #383838; stroke-width: 1.0;\"/><text fill=\"#000000\" font-family=\"sans-serif\" font-size=\"13\" lengthAdjust=\"spacingAndGlyphs\" textLength=\"8\" x=\"255.0694\" y=\"178.0889\">1</text></a><!--MD5=[f667431f98296947986a1a7595a31603]\n",
       "link E6 to E4--><a href=\"psysml:57ff51c2-e85d-4f72-aa72-bbf7c251408b\" target=\"_top\" title=\"psysml:57ff51c2-e85d-4f72-aa72-bbf7c251408b\" xlink:actuate=\"onRequest\" xlink:href=\"psysml:57ff51c2-e85d-4f72-aa72-bbf7c251408b\" xlink:show=\"new\" xlink:title=\"psysml:57ff51c2-e85d-4f72-aa72-bbf7c251408b\" xlink:type=\"simple\"><path d=\"M313.02,153.26 C328.62,142.55 350.82,127.31 370.14,114.05 \" fill=\"none\" id=\"E6-&gt;E4\" style=\"stroke: #383838; stroke-width: 1.0;\"/><polygon fill=\"#FFFFFF\" points=\"386.8,102.61,375.0955,119.1329,367.1735,107.5899,386.8,102.61\" style=\"stroke: #383838; stroke-width: 1.0;\"/><line style=\"stroke: #383838; stroke-width: 2.0;\" x1=\"371.9624\" x2=\"364.0404\" y1=\"121.2831\" y2=\"109.7401\"/></a><!--MD5=[14ccda38c055a5c0da953d572bc50960]\n",
       "link E7 to E3--><a href=\"psysml:a1db7df5-c75d-4551-8d1a-744022949b4d\" target=\"_top\" title=\"psysml:a1db7df5-c75d-4551-8d1a-744022949b4d\" xlink:actuate=\"onRequest\" xlink:href=\"psysml:a1db7df5-c75d-4551-8d1a-744022949b4d\" xlink:show=\"new\" xlink:title=\"psysml:a1db7df5-c75d-4551-8d1a-744022949b4d\" xlink:type=\"simple\"><path d=\"M139.57,216.52 C156.49,209.24 179.2,198.22 197,185 C209.97,175.37 235.79,147.92 257.09,124.36 \" fill=\"none\" id=\"E7-&gt;E3\" style=\"stroke: #383838; stroke-width: 1.0;\"/><polygon fill=\"#FFFFFF\" points=\"270.58,109.3,263.1197,128.124,252.6902,118.7845,270.58,109.3\" style=\"stroke: #383838; stroke-width: 1.0;\"/><ellipse cx=\"257.8272\" cy=\"131.0361\" fill=\"#383838\" rx=\"2\" ry=\"2\" style=\"stroke: #383838; stroke-width: 1.0;\"/><ellipse cx=\"250.3776\" cy=\"124.365\" fill=\"#383838\" rx=\"2\" ry=\"2\" style=\"stroke: #383838; stroke-width: 1.0;\"/></a><!--MD5=[dc164f5e8a733ab456ef1add180e9e34]\n",
       "reverse link E7 to E8--><a href=\"psysml:f57d57d9-12d9-410c-acd5-2b53e0560bbf\" target=\"_top\" title=\"psysml:f57d57d9-12d9-410c-acd5-2b53e0560bbf\" xlink:actuate=\"onRequest\" xlink:href=\"psysml:f57d57d9-12d9-410c-acd5-2b53e0560bbf\" xlink:show=\"new\" xlink:title=\"psysml:f57d57d9-12d9-410c-acd5-2b53e0560bbf\" xlink:type=\"simple\"><path d=\"M152.83,235.46 C195.12,236.72 266.09,230.72 327,224 C348.05,221.68 372,218.49 388.92,213.11 \" fill=\"none\" id=\"E7&lt;-E8\" style=\"stroke: #383838; stroke-width: 1.0;\"/><polygon fill=\"#FFFFFF\" points=\"139.64,234.74,145.4113,239.0635,151.6219,235.3991,145.8506,231.0756,139.64,234.74\" style=\"stroke: #383838; stroke-width: 1.0;\"/><text fill=\"#000000\" font-family=\"sans-serif\" font-size=\"13\" lengthAdjust=\"spacingAndGlyphs\" textLength=\"8\" x=\"372.9653\" y=\"232.4348\">1</text></a><!--MD5=[dc164f5e8a733ab456ef1add180e9e34]\n",
       "reverse link E7 to E8--><a href=\"psysml:b8781950-4d8a-4fb9-9fe0-7c7847cd278f\" target=\"_top\" title=\"psysml:b8781950-4d8a-4fb9-9fe0-7c7847cd278f\" xlink:actuate=\"onRequest\" xlink:href=\"psysml:b8781950-4d8a-4fb9-9fe0-7c7847cd278f\" xlink:show=\"new\" xlink:title=\"psysml:b8781950-4d8a-4fb9-9fe0-7c7847cd278f\" xlink:type=\"simple\"><path d=\"M154.5,209.71 C196.97,201.57 266.89,195.63 327,189 C348.05,186.68 372,183.49 388.92,184.34 \" fill=\"none\" id=\"E7&lt;-E8-1\" style=\"stroke: #383838; stroke-width: 1.0; stroke-dasharray: 7.0,7.0;\"/><ellipse cx=\"147.4575\" cy=\"211.2509\" fill=\"#FFFFFF\" rx=\"8\" ry=\"8\" style=\"stroke: #383838; stroke-width: 1.0;\"/><line style=\"stroke: #383838; stroke-width: 1.0;\" x1=\"155.275\" x2=\"139.64\" y1=\"209.5518\" y2=\"212.95\"/><line style=\"stroke: #383838; stroke-width: 1.0;\" x1=\"149.1566\" x2=\"145.7584\" y1=\"219.0684\" y2=\"203.4334\"/><text fill=\"#000000\" font-family=\"sans-serif\" font-size=\"13\" lengthAdjust=\"spacingAndGlyphs\" textLength=\"8\" x=\"372.9653\" y=\"175.8073\">1</text></a><!--MD5=[0a839d0f80c2d72d4b9b307f046d0de8]\n",
       "link E6 to E8--><a href=\"psysml:117cd7b6-777c-4755-88f6-d7a432271d85\" target=\"_top\" title=\"psysml:117cd7b6-777c-4755-88f6-d7a432271d85\" xlink:actuate=\"onRequest\" xlink:href=\"psysml:117cd7b6-777c-4755-88f6-d7a432271d85\" xlink:show=\"new\" xlink:title=\"psysml:117cd7b6-777c-4755-88f6-d7a432271d85\" xlink:type=\"simple\"><path d=\"M313.02,181.77 C334.06,190.68 367.07,198.92 388.87,200.77 \" fill=\"none\" id=\"E6-E8\" style=\"stroke: #383838; stroke-width: 3.0;\"/><text fill=\"#000000\" font-family=\"sans-serif\" font-size=\"13\" lengthAdjust=\"spacingAndGlyphs\" textLength=\"7\" x=\"374.0474\" y=\"216.4699\">*</text></a><!--MD5=[0a839d0f80c2d72d4b9b307f046d0de8]\n",
       "link E6 to E8--><a href=\"psysml:c7325d6a-fceb-4e80-be50-eff52df502df\" target=\"_top\" title=\"psysml:c7325d6a-fceb-4e80-be50-eff52df502df\" xlink:actuate=\"onRequest\" xlink:href=\"psysml:c7325d6a-fceb-4e80-be50-eff52df502df\" xlink:show=\"new\" xlink:title=\"psysml:c7325d6a-fceb-4e80-be50-eff52df502df\" xlink:type=\"simple\"><path d=\"M313.02,161.49 C334.06,162.7 367.07,170.69 388.87,179.75 \" fill=\"none\" id=\"E6-E8-1\" style=\"stroke: #383838; stroke-width: 3.0;\"/><text fill=\"#000000\" font-family=\"sans-serif\" font-size=\"13\" lengthAdjust=\"spacingAndGlyphs\" textLength=\"7\" x=\"374.0474\" y=\"189.2753\">*</text></a><!--MD5=[10894fc5344d9f685f803d05ce664e09]\n",
       "@startuml\r\n",
       "left to right direction\r\n",
       "skinparam monochrome true\r\n",
       "skinparam classbackgroundcolor white\r\n",
       "skinparam shadowing false\r\n",
       "skinparam wrapWidth 300\r\n",
       "hide circle\r\n",
       "\r\n",
       "package \"AliasTest\" as E1  [[psysml:6242facc-ff06-44d1-b4f3-467b2ef71334 ]]  {\r\n",
       "comp usage \"b :> ISQSpaceTime::width\" as E2  <<(T,blue) attribute>> [[psysml:c7d5118b-0b42-4b21-9071-aba180ff097b ]] {\r\n",
       "}\r\n",
       "comp def \"P1\" as E3  <<(T,blue) part  def>> [[psysml:f3a385fe-c72f-4489-86aa-e832e0f5c54b ]] {\r\n",
       "}\r\n",
       "comp usage \"porig1 \" as E4  <<(T,blue) port>> [[psysml:12c3f617-858e-4877-bab3-72d077a58110 ]] {\r\n",
       "}\r\n",
       "comp usage \"p1: P1 \" as E5  <<(T,blue) part>> [[psysml:f19cd7cf-ead7-487d-acf0-998c02877f08 ]] {\r\n",
       "}\r\n",
       "comp usage \"po1 \" as E6  <<(T,blue) port>> [[psysml:7bd77f36-e1da-430e-90ed-8aecc87780c5 ]] {\r\n",
       "}\r\n",
       "comp usage \"p2: P1 \" as E7  <<(T,blue) part>> [[psysml:3758ddaf-2d7c-4372-b46d-cbe5af56d102 ]] {\r\n",
       "}\r\n",
       "comp usage \"pdest \" as E8  <<(T,blue) port>> [[psysml:009efb1a-81d8-4f5e-8e24-a878e8625106 ]] {\r\n",
       "}\r\n",
       "}\r\n",
       "E3 o- - \"1\"E4 [[psysml:97bd4c72-9c32-47a6-a147-0b42cd362230 ]] \r\n",
       "E3 +.. \"1\"E4 [[psysml:dd790abf-ac6c-4371-bdbb-56cf5ab0181d ]] \r\n",
       "E5 - -:|> E3 [[psysml:a968a559-ae75-4ff7-b264-66e5a143558d ]] \r\n",
       "E5 o- - \"1\"E6 [[psysml:167a231e-25d4-4100-8e0d-53e0a4e750c8 ]] \r\n",
       "E6 - -||> E4 [[psysml:57ff51c2-e85d-4f72-aa72-bbf7c251408b ]] \r\n",
       "E7 - -:|> E3 [[psysml:a1db7df5-c75d-4551-8d1a-744022949b4d ]] \r\n",
       "E7 o- - \"1\"E8 [[psysml:f57d57d9-12d9-410c-acd5-2b53e0560bbf ]] \r\n",
       "E7 +.. \"1\"E8 [[psysml:b8781950-4d8a-4fb9-9fe0-7c7847cd278f ]] \r\n",
       "E6 -[thickness=3]- \"*\"E8 [[psysml:117cd7b6-777c-4755-88f6-d7a432271d85 ]] \r\n",
       "E6 -[thickness=3]- \"*\"E8 [[psysml:c7325d6a-fceb-4e80-be50-eff52df502df ]] \r\n",
       "@enduml\r\n",
       "\n",
       "PlantUML version 1.2020.13(Sat Jun 13 12:26:38 UTC 2020)\n",
       "(EPL source distribution)\n",
       "Java Runtime: OpenJDK Runtime Environment\n",
       "JVM: OpenJDK 64-Bit Server VM\n",
       "Default Encoding: UTF-8\n",
       "Language: en\n",
       "Country: null\n",
       "--></g></svg>"
      ]
     },
     "execution_count": 22,
     "metadata": {},
     "output_type": "execute_result"
    }
   ],
   "source": [
    "%viz --style=\"LR\" --view=\"MIXED\" \"AliasTest\""
   ]
  },
  {
   "cell_type": "code",
   "execution_count": 23,
   "id": "17d819eb",
   "metadata": {
    "execution": {
     "iopub.execute_input": "2022-03-21T07:52:16.763099Z",
     "iopub.status.busy": "2022-03-21T07:52:16.762684Z",
     "iopub.status.idle": "2022-03-21T07:52:16.802807Z",
     "shell.execute_reply": "2022-03-21T07:52:16.802443Z"
    }
   },
   "outputs": [
    {
     "data": {
      "image/svg+xml": [
       "<?xml version=\"1.0\" encoding=\"UTF-8\" standalone=\"no\"?><svg xmlns=\"http://www.w3.org/2000/svg\" xmlns:xlink=\"http://www.w3.org/1999/xlink\" contentScriptType=\"application/ecmascript\" contentStyleType=\"text/css\" height=\"327px\" preserveAspectRatio=\"none\" style=\"width:406px;height:327px;\" version=\"1.1\" viewBox=\"0 0 406 327\" width=\"406px\" zoomAndPan=\"magnify\"><defs><filter height=\"300%\" id=\"f11mqpwqpf0o80\" width=\"300%\" x=\"-1\" y=\"-1\"><feGaussianBlur result=\"blurOut\" stdDeviation=\"2.0\"/><feColorMatrix in=\"blurOut\" result=\"blurOut2\" type=\"matrix\" values=\"0 0 0 0 0 0 0 0 0 0 0 0 0 0 0 0 0 0 .4 0\"/><feOffset dx=\"4.0\" dy=\"4.0\" in=\"blurOut2\" result=\"blurOut3\"/><feBlend in=\"SourceGraphic\" in2=\"blurOut3\" mode=\"normal\"/></filter></defs><g><!--MD5=[fbc87193dbaf4d95561dea2c320d4a47]\n",
       "cluster E1--><a href=\"psysml:6242facc-ff06-44d1-b4f3-467b2ef71334\" target=\"_top\" title=\"psysml:6242facc-ff06-44d1-b4f3-467b2ef71334\" xlink:actuate=\"onRequest\" xlink:href=\"psysml:6242facc-ff06-44d1-b4f3-467b2ef71334\" xlink:show=\"new\" xlink:title=\"psysml:6242facc-ff06-44d1-b4f3-467b2ef71334\" xlink:type=\"simple\"><polygon fill=\"#FFFFFF\" filter=\"url(#f11mqpwqpf0o80)\" points=\"16,6,84,6,91,28.2969,384,28.2969,384,315,16,315,16,6\" style=\"stroke: #000000; stroke-width: 1.5;\"/><line style=\"stroke: #000000; stroke-width: 1.5;\" x1=\"16\" x2=\"91\" y1=\"28.2969\" y2=\"28.2969\"/><text fill=\"#000000\" font-family=\"sans-serif\" font-size=\"14\" font-weight=\"bold\" lengthAdjust=\"spacingAndGlyphs\" textLength=\"62\" x=\"20\" y=\"20.9951\">AliasTest</text></a><!--MD5=[b4997ac47864f28c2f74865a473b2911]\n",
       "class E2--><a href=\"psysml:c7d5118b-0b42-4b21-9071-aba180ff097b\" target=\"_top\" title=\"psysml:c7d5118b-0b42-4b21-9071-aba180ff097b\" xlink:actuate=\"onRequest\" xlink:href=\"psysml:c7d5118b-0b42-4b21-9071-aba180ff097b\" xlink:show=\"new\" xlink:title=\"psysml:c7d5118b-0b42-4b21-9071-aba180ff097b\" xlink:type=\"simple\"><rect fill=\"#FEFECE\" filter=\"url(#f11mqpwqpf0o80)\" height=\"45.9375\" id=\"E2\" rx=\"10\" ry=\"10\" style=\"stroke: #A80036; stroke-width: 1.5;\" width=\"165\" x=\"202.5\" y=\"41\"/><text fill=\"#000000\" font-family=\"sans-serif\" font-size=\"12\" font-style=\"italic\" lengthAdjust=\"spacingAndGlyphs\" textLength=\"69\" x=\"250.5\" y=\"57.1387\">«attribute»</text><text fill=\"#000000\" font-family=\"sans-serif\" font-size=\"12\" lengthAdjust=\"spacingAndGlyphs\" textLength=\"159\" x=\"205.5\" y=\"71.1074\">b :&gt; ISQSpaceTime::width</text><line style=\"stroke: #A80036; stroke-width: 1.5;\" x1=\"203.5\" x2=\"366.5\" y1=\"78.9375\" y2=\"78.9375\"/></a><!--MD5=[09b614a08d8cba4a07c9adeb5e0fee81]\n",
       "class E3--><a href=\"psysml:f3a385fe-c72f-4489-86aa-e832e0f5c54b\" target=\"_top\" title=\"psysml:f3a385fe-c72f-4489-86aa-e832e0f5c54b\" xlink:actuate=\"onRequest\" xlink:href=\"psysml:f3a385fe-c72f-4489-86aa-e832e0f5c54b\" xlink:show=\"new\" xlink:title=\"psysml:f3a385fe-c72f-4489-86aa-e832e0f5c54b\" xlink:type=\"simple\"><rect fill=\"#FEFECE\" filter=\"url(#f11mqpwqpf0o80)\" height=\"45.9375\" id=\"E3\" style=\"stroke: #A80036; stroke-width: 1.5;\" width=\"70\" x=\"170\" y=\"147\"/><text fill=\"#000000\" font-family=\"sans-serif\" font-size=\"12\" font-style=\"italic\" lengthAdjust=\"spacingAndGlyphs\" textLength=\"68\" x=\"171\" y=\"163.1387\">«part  def»</text><text fill=\"#000000\" font-family=\"sans-serif\" font-size=\"12\" lengthAdjust=\"spacingAndGlyphs\" textLength=\"16\" x=\"197\" y=\"177.1074\">P1</text><line style=\"stroke: #A80036; stroke-width: 1.5;\" x1=\"171\" x2=\"239\" y1=\"184.9375\" y2=\"184.9375\"/></a><!--MD5=[ebbe1d658d1005bcc118a6aa81145e00]\n",
       "class E4--><a href=\"psysml:12c3f617-858e-4877-bab3-72d077a58110\" target=\"_top\" title=\"psysml:12c3f617-858e-4877-bab3-72d077a58110\" xlink:actuate=\"onRequest\" xlink:href=\"psysml:12c3f617-858e-4877-bab3-72d077a58110\" xlink:show=\"new\" xlink:title=\"psysml:12c3f617-858e-4877-bab3-72d077a58110\" xlink:type=\"simple\"><rect fill=\"#FEFECE\" filter=\"url(#f11mqpwqpf0o80)\" height=\"45.9375\" id=\"E4\" rx=\"10\" ry=\"10\" style=\"stroke: #A80036; stroke-width: 1.5;\" width=\"50\" x=\"180\" y=\"253\"/><text fill=\"#000000\" font-family=\"sans-serif\" font-size=\"12\" font-style=\"italic\" lengthAdjust=\"spacingAndGlyphs\" textLength=\"40\" x=\"185\" y=\"269.1387\">«port»</text><text fill=\"#000000\" font-family=\"sans-serif\" font-size=\"12\" lengthAdjust=\"spacingAndGlyphs\" textLength=\"40\" x=\"183\" y=\"283.1074\">porig1</text><line style=\"stroke: #A80036; stroke-width: 1.5;\" x1=\"181\" x2=\"229\" y1=\"290.9375\" y2=\"290.9375\"/></a><!--MD5=[270fce915f116d4de14055a7c1d9a0f3]\n",
       "class E5--><a href=\"psysml:f19cd7cf-ead7-487d-acf0-998c02877f08\" target=\"_top\" title=\"psysml:f19cd7cf-ead7-487d-acf0-998c02877f08\" xlink:actuate=\"onRequest\" xlink:href=\"psysml:f19cd7cf-ead7-487d-acf0-998c02877f08\" xlink:show=\"new\" xlink:title=\"psysml:f19cd7cf-ead7-487d-acf0-998c02877f08\" xlink:type=\"simple\"><rect fill=\"#FEFECE\" filter=\"url(#f11mqpwqpf0o80)\" height=\"45.9375\" id=\"E5\" rx=\"10\" ry=\"10\" style=\"stroke: #A80036; stroke-width: 1.5;\" width=\"50\" x=\"117\" y=\"41\"/><text fill=\"#000000\" font-family=\"sans-serif\" font-size=\"12\" font-style=\"italic\" lengthAdjust=\"spacingAndGlyphs\" textLength=\"40\" x=\"122\" y=\"57.1387\">«part»</text><text fill=\"#000000\" font-family=\"sans-serif\" font-size=\"12\" lengthAdjust=\"spacingAndGlyphs\" textLength=\"40\" x=\"120\" y=\"71.1074\">p1: P1</text><line style=\"stroke: #A80036; stroke-width: 1.5;\" x1=\"118\" x2=\"166\" y1=\"78.9375\" y2=\"78.9375\"/></a><!--MD5=[60a26617385b1d2d0262a64233df1f8d]\n",
       "class E6--><a href=\"psysml:7bd77f36-e1da-430e-90ed-8aecc87780c5\" target=\"_top\" title=\"psysml:7bd77f36-e1da-430e-90ed-8aecc87780c5\" xlink:actuate=\"onRequest\" xlink:href=\"psysml:7bd77f36-e1da-430e-90ed-8aecc87780c5\" xlink:show=\"new\" xlink:title=\"psysml:7bd77f36-e1da-430e-90ed-8aecc87780c5\" xlink:type=\"simple\"><rect fill=\"#FEFECE\" filter=\"url(#f11mqpwqpf0o80)\" height=\"45.9375\" id=\"E6\" rx=\"10\" ry=\"10\" style=\"stroke: #A80036; stroke-width: 1.5;\" width=\"42\" x=\"93\" y=\"147\"/><text fill=\"#000000\" font-family=\"sans-serif\" font-size=\"12\" font-style=\"italic\" lengthAdjust=\"spacingAndGlyphs\" textLength=\"40\" x=\"94\" y=\"163.1387\">«port»</text><text fill=\"#000000\" font-family=\"sans-serif\" font-size=\"12\" lengthAdjust=\"spacingAndGlyphs\" textLength=\"24\" x=\"100\" y=\"177.1074\">po1</text><line style=\"stroke: #A80036; stroke-width: 1.5;\" x1=\"94\" x2=\"134\" y1=\"184.9375\" y2=\"184.9375\"/></a><!--MD5=[2156ba9850f5573cc1fc38a6a4b2f02b]\n",
       "class E7--><a href=\"psysml:3758ddaf-2d7c-4372-b46d-cbe5af56d102\" target=\"_top\" title=\"psysml:3758ddaf-2d7c-4372-b46d-cbe5af56d102\" xlink:actuate=\"onRequest\" xlink:href=\"psysml:3758ddaf-2d7c-4372-b46d-cbe5af56d102\" xlink:show=\"new\" xlink:title=\"psysml:3758ddaf-2d7c-4372-b46d-cbe5af56d102\" xlink:type=\"simple\"><rect fill=\"#FEFECE\" filter=\"url(#f11mqpwqpf0o80)\" height=\"45.9375\" id=\"E7\" rx=\"10\" ry=\"10\" style=\"stroke: #A80036; stroke-width: 1.5;\" width=\"50\" x=\"32\" y=\"41\"/><text fill=\"#000000\" font-family=\"sans-serif\" font-size=\"12\" font-style=\"italic\" lengthAdjust=\"spacingAndGlyphs\" textLength=\"40\" x=\"37\" y=\"57.1387\">«part»</text><text fill=\"#000000\" font-family=\"sans-serif\" font-size=\"12\" lengthAdjust=\"spacingAndGlyphs\" textLength=\"40\" x=\"35\" y=\"71.1074\">p2: P1</text><line style=\"stroke: #A80036; stroke-width: 1.5;\" x1=\"33\" x2=\"81\" y1=\"78.9375\" y2=\"78.9375\"/></a><!--MD5=[b9389687b975829384b498ac4b7476b2]\n",
       "class E8--><a href=\"psysml:009efb1a-81d8-4f5e-8e24-a878e8625106\" target=\"_top\" title=\"psysml:009efb1a-81d8-4f5e-8e24-a878e8625106\" xlink:actuate=\"onRequest\" xlink:href=\"psysml:009efb1a-81d8-4f5e-8e24-a878e8625106\" xlink:show=\"new\" xlink:title=\"psysml:009efb1a-81d8-4f5e-8e24-a878e8625106\" xlink:type=\"simple\"><rect fill=\"#FEFECE\" filter=\"url(#f11mqpwqpf0o80)\" height=\"45.9375\" id=\"E8\" rx=\"10\" ry=\"10\" style=\"stroke: #A80036; stroke-width: 1.5;\" width=\"46\" x=\"63\" y=\"253\"/><text fill=\"#000000\" font-family=\"sans-serif\" font-size=\"12\" font-style=\"italic\" lengthAdjust=\"spacingAndGlyphs\" textLength=\"40\" x=\"66\" y=\"269.1387\">«port»</text><text fill=\"#000000\" font-family=\"sans-serif\" font-size=\"12\" lengthAdjust=\"spacingAndGlyphs\" textLength=\"36\" x=\"66\" y=\"283.1074\">pdest</text><line style=\"stroke: #A80036; stroke-width: 1.5;\" x1=\"64\" x2=\"108\" y1=\"290.9375\" y2=\"290.9375\"/></a><!--MD5=[4672eba38e49728da53d11aeb285b987]\n",
       "reverse link E3 to E4--><a href=\"psysml:97bd4c72-9c32-47a6-a147-0b42cd362230\" target=\"_top\" title=\"psysml:97bd4c72-9c32-47a6-a147-0b42cd362230\" xlink:actuate=\"onRequest\" xlink:href=\"psysml:97bd4c72-9c32-47a6-a147-0b42cd362230\" xlink:show=\"new\" xlink:title=\"psysml:97bd4c72-9c32-47a6-a147-0b42cd362230\" xlink:type=\"simple\"><path d=\"M192.84,206.44 C191.7,221.87 192.21,239.47 194.36,252.98 \" fill=\"none\" id=\"E3&lt;-E4\" style=\"stroke: #A80036; stroke-width: 1.0;\"/><polygon fill=\"#FFFFFF\" points=\"194.35,193.06,189.7032,198.5743,193.006,204.9845,197.6528,199.4702,194.35,193.06\" style=\"stroke: #A80036; stroke-width: 1.0;\"/><text fill=\"#000000\" font-family=\"sans-serif\" font-size=\"13\" lengthAdjust=\"spacingAndGlyphs\" textLength=\"8\" x=\"182.4255\" y=\"241.8709\">1</text></a><!--MD5=[4672eba38e49728da53d11aeb285b987]\n",
       "reverse link E3 to E4--><a href=\"psysml:dd790abf-ac6c-4371-bdbb-56cf5ab0181d\" target=\"_top\" title=\"psysml:dd790abf-ac6c-4371-bdbb-56cf5ab0181d\" xlink:actuate=\"onRequest\" xlink:href=\"psysml:dd790abf-ac6c-4371-bdbb-56cf5ab0181d\" xlink:show=\"new\" xlink:title=\"psysml:dd790abf-ac6c-4371-bdbb-56cf5ab0181d\" xlink:type=\"simple\"><path d=\"M218.01,208.34 C219.03,223.3 218.45,240.02 216.27,252.98 \" fill=\"none\" id=\"E3&lt;-E4-1\" style=\"stroke: #A80036; stroke-width: 1.0; stroke-dasharray: 7.0,7.0;\"/><ellipse cx=\"217.1693\" cy=\"201.0093\" fill=\"#FFFFFF\" rx=\"8\" ry=\"8\" style=\"stroke: #A80036; stroke-width: 1.0;\"/><line style=\"stroke: #A80036; stroke-width: 1.0;\" x1=\"218.0687\" x2=\"216.27\" y1=\"208.9586\" y2=\"193.06\"/><line style=\"stroke: #A80036; stroke-width: 1.0;\" x1=\"209.2201\" x2=\"225.1186\" y1=\"201.9086\" y2=\"200.1099\"/><text fill=\"#000000\" font-family=\"sans-serif\" font-size=\"13\" lengthAdjust=\"spacingAndGlyphs\" textLength=\"8\" x=\"210.2238\" y=\"241.8709\">1</text></a><!--MD5=[e9be52314489bd878ff4c7144b63c9e1]\n",
       "link E5 to E3--><a href=\"psysml:a968a559-ae75-4ff7-b264-66e5a143558d\" target=\"_top\" title=\"psysml:a968a559-ae75-4ff7-b264-66e5a143558d\" xlink:actuate=\"onRequest\" xlink:href=\"psysml:a968a559-ae75-4ff7-b264-66e5a143558d\" xlink:show=\"new\" xlink:title=\"psysml:a968a559-ae75-4ff7-b264-66e5a143558d\" xlink:type=\"simple\"><path d=\"M155.36,87.06 C162.88,99.47 172.49,115.33 181.24,129.78 \" fill=\"none\" id=\"E5-&gt;E3\" style=\"stroke: #A80036; stroke-width: 1.0;\"/><polygon fill=\"#FFFFFF\" points=\"191.66,146.98,175.8217,134.3646,187.792,127.1044,191.66,146.98\" style=\"stroke: #A80036; stroke-width: 1.0;\"/><ellipse cx=\"174.5758\" cy=\"128.4538\" fill=\"#A80036\" rx=\"2\" ry=\"2\" style=\"stroke: #A80036; stroke-width: 1.0;\"/><ellipse cx=\"183.126\" cy=\"123.2679\" fill=\"#A80036\" rx=\"2\" ry=\"2\" style=\"stroke: #A80036; stroke-width: 1.0;\"/></a><!--MD5=[85d356282659285ab4b2cfe2f634dd2b]\n",
       "reverse link E5 to E6--><a href=\"psysml:167a231e-25d4-4100-8e0d-53e0a4e750c8\" target=\"_top\" title=\"psysml:167a231e-25d4-4100-8e0d-53e0a4e750c8\" xlink:actuate=\"onRequest\" xlink:href=\"psysml:167a231e-25d4-4100-8e0d-53e0a4e750c8\" xlink:show=\"new\" xlink:title=\"psysml:167a231e-25d4-4100-8e0d-53e0a4e750c8\" xlink:type=\"simple\"><path d=\"M132.59,99.96 C128.4,115.51 123.6,133.33 119.93,146.98 \" fill=\"none\" id=\"E5&lt;-E6\" style=\"stroke: #A80036; stroke-width: 1.0;\"/><polygon fill=\"#FFFFFF\" points=\"136.06,87.06,130.641,91.8176,132.9484,98.6496,138.3674,93.892,136.06,87.06\" style=\"stroke: #A80036; stroke-width: 1.0;\"/><text fill=\"#000000\" font-family=\"sans-serif\" font-size=\"13\" lengthAdjust=\"spacingAndGlyphs\" textLength=\"8\" x=\"112.4487\" y=\"135.8709\">1</text></a><!--MD5=[f667431f98296947986a1a7595a31603]\n",
       "link E6 to E4--><a href=\"psysml:57ff51c2-e85d-4f72-aa72-bbf7c251408b\" target=\"_top\" title=\"psysml:57ff51c2-e85d-4f72-aa72-bbf7c251408b\" xlink:actuate=\"onRequest\" xlink:href=\"psysml:57ff51c2-e85d-4f72-aa72-bbf7c251408b\" xlink:show=\"new\" xlink:title=\"psysml:57ff51c2-e85d-4f72-aa72-bbf7c251408b\" xlink:type=\"simple\"><path d=\"M133.3,193.06 C144.64,206.02 159.28,222.74 172.36,237.7 \" fill=\"none\" id=\"E6-&gt;E4\" style=\"stroke: #A80036; stroke-width: 1.0;\"/><polygon fill=\"#FFFFFF\" points=\"185.73,252.98,167.9517,243.2882,178.489,234.0705,185.73,252.98\" style=\"stroke: #A80036; stroke-width: 1.0;\"/><line style=\"stroke: #A80036; stroke-width: 2.0;\" x1=\"165.4497\" x2=\"175.9871\" y1=\"240.4281\" y2=\"231.2104\"/></a><!--MD5=[14ccda38c055a5c0da953d572bc50960]\n",
       "link E7 to E3--><a href=\"psysml:a1db7df5-c75d-4551-8d1a-744022949b4d\" target=\"_top\" title=\"psysml:a1db7df5-c75d-4551-8d1a-744022949b4d\" xlink:actuate=\"onRequest\" xlink:href=\"psysml:a1db7df5-c75d-4551-8d1a-744022949b4d\" xlink:show=\"new\" xlink:title=\"psysml:a1db7df5-c75d-4551-8d1a-744022949b4d\" xlink:type=\"simple\"><path d=\"M82.11,82.64 C102.61,97.05 132.18,117.83 157.18,135.39 \" fill=\"none\" id=\"E7-&gt;E3\" style=\"stroke: #A80036; stroke-width: 1.0;\"/><polygon fill=\"#FFFFFF\" points=\"173.58,146.92,154.011,141.7187,162.0629,130.266,173.58,146.92\" style=\"stroke: #A80036; stroke-width: 1.0;\"/><ellipse cx=\"150.4983\" cy=\"136.8043\" fill=\"#A80036\" rx=\"2\" ry=\"2\" style=\"stroke: #A80036; stroke-width: 1.0;\"/><ellipse cx=\"156.2497\" cy=\"128.6238\" fill=\"#A80036\" rx=\"2\" ry=\"2\" style=\"stroke: #A80036; stroke-width: 1.0;\"/></a><!--MD5=[dc164f5e8a733ab456ef1add180e9e34]\n",
       "reverse link E7 to E8--><a href=\"psysml:f57d57d9-12d9-410c-acd5-2b53e0560bbf\" target=\"_top\" title=\"psysml:f57d57d9-12d9-410c-acd5-2b53e0560bbf\" xlink:actuate=\"onRequest\" xlink:href=\"psysml:f57d57d9-12d9-410c-acd5-2b53e0560bbf\" xlink:show=\"new\" xlink:title=\"psysml:f57d57d9-12d9-410c-acd5-2b53e0560bbf\" xlink:type=\"simple\"><path d=\"M52.05,100.09 C53.65,143.61 64.25,216.5 74.75,252.9 \" fill=\"none\" id=\"E7&lt;-E8\" style=\"stroke: #A80036; stroke-width: 1.0;\"/><polygon fill=\"#FFFFFF\" points=\"51.85,87.08,47.9362,93.1366,52.0216,99.0788,55.9354,93.0222,51.85,87.08\" style=\"stroke: #A80036; stroke-width: 1.0;\"/><text fill=\"#000000\" font-family=\"sans-serif\" font-size=\"13\" lengthAdjust=\"spacingAndGlyphs\" textLength=\"8\" x=\"62.6516\" y=\"241.7694\">1</text></a><!--MD5=[dc164f5e8a733ab456ef1add180e9e34]\n",
       "reverse link E7 to E8--><a href=\"psysml:b8781950-4d8a-4fb9-9fe0-7c7847cd278f\" target=\"_top\" title=\"psysml:b8781950-4d8a-4fb9-9fe0-7c7847cd278f\" xlink:actuate=\"onRequest\" xlink:href=\"psysml:b8781950-4d8a-4fb9-9fe0-7c7847cd278f\" xlink:show=\"new\" xlink:title=\"psysml:b8781950-4d8a-4fb9-9fe0-7c7847cd278f\" xlink:type=\"simple\"><path d=\"M72.64,101.8 C83.15,145.5 92.39,216.97 91.63,252.9 \" fill=\"none\" id=\"E7&lt;-E8-1\" style=\"stroke: #A80036; stroke-width: 1.0; stroke-dasharray: 7.0,7.0;\"/><ellipse cx=\"70.7794\" cy=\"94.813\" fill=\"#FFFFFF\" rx=\"8\" ry=\"8\" style=\"stroke: #A80036; stroke-width: 1.0;\"/><line style=\"stroke: #A80036; stroke-width: 1.0;\" x1=\"72.8289\" x2=\"68.73\" y1=\"102.5461\" y2=\"87.08\"/><line style=\"stroke: #A80036; stroke-width: 1.0;\" x1=\"63.0464\" x2=\"78.5125\" y1=\"96.8625\" y2=\"92.7636\"/><text fill=\"#000000\" font-family=\"sans-serif\" font-size=\"13\" lengthAdjust=\"spacingAndGlyphs\" textLength=\"8\" x=\"94.2181\" y=\"241.7694\">1</text></a><!--MD5=[0a839d0f80c2d72d4b9b307f046d0de8]\n",
       "link E6 to E8--><a href=\"psysml:117cd7b6-777c-4755-88f6-d7a432271d85\" target=\"_top\" title=\"psysml:117cd7b6-777c-4755-88f6-d7a432271d85\" xlink:actuate=\"onRequest\" xlink:href=\"psysml:117cd7b6-777c-4755-88f6-d7a432271d85\" xlink:show=\"new\" xlink:title=\"psysml:117cd7b6-777c-4755-88f6-d7a432271d85\" xlink:type=\"simple\"><path d=\"M97.42,193.06 C89.86,210.7 83.23,235.34 81.29,252.98 \" fill=\"none\" id=\"E6-E8\" style=\"stroke: #A80036; stroke-width: 3.0;\"/><text fill=\"#000000\" font-family=\"sans-serif\" font-size=\"13\" lengthAdjust=\"spacingAndGlyphs\" textLength=\"7\" x=\"80.9648\" y=\"241.8709\">*</text></a><!--MD5=[0a839d0f80c2d72d4b9b307f046d0de8]\n",
       "link E6 to E8--><a href=\"psysml:c7325d6a-fceb-4e80-be50-eff52df502df\" target=\"_top\" title=\"psysml:c7325d6a-fceb-4e80-be50-eff52df502df\" xlink:actuate=\"onRequest\" xlink:href=\"psysml:c7325d6a-fceb-4e80-be50-eff52df502df\" xlink:show=\"new\" xlink:title=\"psysml:c7325d6a-fceb-4e80-be50-eff52df502df\" xlink:type=\"simple\"><path d=\"M119.33,193.06 C117.55,210.7 110.92,235.34 103.2,252.98 \" fill=\"none\" id=\"E6-E8-1\" style=\"stroke: #A80036; stroke-width: 3.0;\"/><text fill=\"#000000\" font-family=\"sans-serif\" font-size=\"13\" lengthAdjust=\"spacingAndGlyphs\" textLength=\"7\" x=\"99.8819\" y=\"241.8709\">*</text></a><!--MD5=[eb5c6c35ae4faa63f8837b4a12e3998d]\n",
       "@startuml\r\n",
       "skinparam wrapWidth 300\r\n",
       "hide circle\r\n",
       "\r\n",
       "package \"AliasTest\" as E1  [[psysml:6242facc-ff06-44d1-b4f3-467b2ef71334 ]]  {\r\n",
       "comp usage \"b :> ISQSpaceTime::width\" as E2  <<(T,blue) attribute>> [[psysml:c7d5118b-0b42-4b21-9071-aba180ff097b ]] {\r\n",
       "}\r\n",
       "comp def \"P1\" as E3  <<(T,blue) part  def>> [[psysml:f3a385fe-c72f-4489-86aa-e832e0f5c54b ]] {\r\n",
       "}\r\n",
       "comp usage \"porig1 \" as E4  <<(T,blue) port>> [[psysml:12c3f617-858e-4877-bab3-72d077a58110 ]] {\r\n",
       "}\r\n",
       "comp usage \"p1: P1 \" as E5  <<(T,blue) part>> [[psysml:f19cd7cf-ead7-487d-acf0-998c02877f08 ]] {\r\n",
       "}\r\n",
       "comp usage \"po1 \" as E6  <<(T,blue) port>> [[psysml:7bd77f36-e1da-430e-90ed-8aecc87780c5 ]] {\r\n",
       "}\r\n",
       "comp usage \"p2: P1 \" as E7  <<(T,blue) part>> [[psysml:3758ddaf-2d7c-4372-b46d-cbe5af56d102 ]] {\r\n",
       "}\r\n",
       "comp usage \"pdest \" as E8  <<(T,blue) port>> [[psysml:009efb1a-81d8-4f5e-8e24-a878e8625106 ]] {\r\n",
       "}\r\n",
       "}\r\n",
       "E3 o- - \"1\"E4 [[psysml:97bd4c72-9c32-47a6-a147-0b42cd362230 ]] \r\n",
       "E3 +.. \"1\"E4 [[psysml:dd790abf-ac6c-4371-bdbb-56cf5ab0181d ]] \r\n",
       "E5 - -:|> E3 [[psysml:a968a559-ae75-4ff7-b264-66e5a143558d ]] \r\n",
       "E5 o- - \"1\"E6 [[psysml:167a231e-25d4-4100-8e0d-53e0a4e750c8 ]] \r\n",
       "E6 - -||> E4 [[psysml:57ff51c2-e85d-4f72-aa72-bbf7c251408b ]] \r\n",
       "E7 - -:|> E3 [[psysml:a1db7df5-c75d-4551-8d1a-744022949b4d ]] \r\n",
       "E7 o- - \"1\"E8 [[psysml:f57d57d9-12d9-410c-acd5-2b53e0560bbf ]] \r\n",
       "E7 +.. \"1\"E8 [[psysml:b8781950-4d8a-4fb9-9fe0-7c7847cd278f ]] \r\n",
       "E6 -[thickness=3]- \"*\"E8 [[psysml:117cd7b6-777c-4755-88f6-d7a432271d85 ]] \r\n",
       "E6 -[thickness=3]- \"*\"E8 [[psysml:c7325d6a-fceb-4e80-be50-eff52df502df ]] \r\n",
       "@enduml\r\n",
       "\n",
       "PlantUML version 1.2020.13(Sat Jun 13 12:26:38 UTC 2020)\n",
       "(EPL source distribution)\n",
       "Java Runtime: OpenJDK Runtime Environment\n",
       "JVM: OpenJDK 64-Bit Server VM\n",
       "Default Encoding: UTF-8\n",
       "Language: en\n",
       "Country: null\n",
       "--></g></svg>"
      ]
     },
     "execution_count": 23,
     "metadata": {},
     "output_type": "execute_result"
    }
   ],
   "source": [
    "%viz --style=\"STDCOLOR\" --view=\"Default\" \"AliasTest\""
   ]
  },
  {
   "cell_type": "code",
   "execution_count": 24,
   "id": "43a24648",
   "metadata": {
    "execution": {
     "iopub.execute_input": "2022-03-21T07:52:16.852597Z",
     "iopub.status.busy": "2022-03-21T07:52:16.852175Z",
     "iopub.status.idle": "2022-03-21T07:52:16.892600Z",
     "shell.execute_reply": "2022-03-21T07:52:16.892238Z"
    }
   },
   "outputs": [
    {
     "data": {
      "image/svg+xml": [
       "<?xml version=\"1.0\" encoding=\"UTF-8\" standalone=\"no\"?><svg xmlns=\"http://www.w3.org/2000/svg\" xmlns:xlink=\"http://www.w3.org/1999/xlink\" contentScriptType=\"application/ecmascript\" contentStyleType=\"text/css\" height=\"327px\" preserveAspectRatio=\"none\" style=\"width:406px;height:327px;\" version=\"1.1\" viewBox=\"0 0 406 327\" width=\"406px\" zoomAndPan=\"magnify\"><defs><filter height=\"300%\" id=\"f11mqpwqpf0o80\" width=\"300%\" x=\"-1\" y=\"-1\"><feGaussianBlur result=\"blurOut\" stdDeviation=\"2.0\"/><feColorMatrix in=\"blurOut\" result=\"blurOut2\" type=\"matrix\" values=\"0 0 0 0 0 0 0 0 0 0 0 0 0 0 0 0 0 0 .4 0\"/><feOffset dx=\"4.0\" dy=\"4.0\" in=\"blurOut2\" result=\"blurOut3\"/><feBlend in=\"SourceGraphic\" in2=\"blurOut3\" mode=\"normal\"/></filter></defs><g><!--MD5=[fbc87193dbaf4d95561dea2c320d4a47]\n",
       "cluster E1--><a href=\"psysml:6242facc-ff06-44d1-b4f3-467b2ef71334\" target=\"_top\" title=\"psysml:6242facc-ff06-44d1-b4f3-467b2ef71334\" xlink:actuate=\"onRequest\" xlink:href=\"psysml:6242facc-ff06-44d1-b4f3-467b2ef71334\" xlink:show=\"new\" xlink:title=\"psysml:6242facc-ff06-44d1-b4f3-467b2ef71334\" xlink:type=\"simple\"><polygon fill=\"#FFFFFF\" filter=\"url(#f11mqpwqpf0o80)\" points=\"16,6,84,6,91,28.2969,384,28.2969,384,315,16,315,16,6\" style=\"stroke: #000000; stroke-width: 1.5;\"/><line style=\"stroke: #000000; stroke-width: 1.5;\" x1=\"16\" x2=\"91\" y1=\"28.2969\" y2=\"28.2969\"/><text fill=\"#000000\" font-family=\"sans-serif\" font-size=\"14\" font-weight=\"bold\" lengthAdjust=\"spacingAndGlyphs\" textLength=\"62\" x=\"20\" y=\"20.9951\">AliasTest</text></a><!--MD5=[b4997ac47864f28c2f74865a473b2911]\n",
       "class E2--><a href=\"psysml:c7d5118b-0b42-4b21-9071-aba180ff097b\" target=\"_top\" title=\"psysml:c7d5118b-0b42-4b21-9071-aba180ff097b\" xlink:actuate=\"onRequest\" xlink:href=\"psysml:c7d5118b-0b42-4b21-9071-aba180ff097b\" xlink:show=\"new\" xlink:title=\"psysml:c7d5118b-0b42-4b21-9071-aba180ff097b\" xlink:type=\"simple\"><rect fill=\"#FEFECE\" filter=\"url(#f11mqpwqpf0o80)\" height=\"45.9375\" id=\"E2\" rx=\"10\" ry=\"10\" style=\"stroke: #A80036; stroke-width: 1.5;\" width=\"165\" x=\"202.5\" y=\"41\"/><text fill=\"#000000\" font-family=\"sans-serif\" font-size=\"12\" font-style=\"italic\" lengthAdjust=\"spacingAndGlyphs\" textLength=\"69\" x=\"250.5\" y=\"57.1387\">«attribute»</text><text fill=\"#000000\" font-family=\"sans-serif\" font-size=\"12\" lengthAdjust=\"spacingAndGlyphs\" textLength=\"159\" x=\"205.5\" y=\"71.1074\">b :&gt; ISQSpaceTime::width</text><line style=\"stroke: #A80036; stroke-width: 1.5;\" x1=\"203.5\" x2=\"366.5\" y1=\"78.9375\" y2=\"78.9375\"/></a><!--MD5=[09b614a08d8cba4a07c9adeb5e0fee81]\n",
       "class E3--><a href=\"psysml:f3a385fe-c72f-4489-86aa-e832e0f5c54b\" target=\"_top\" title=\"psysml:f3a385fe-c72f-4489-86aa-e832e0f5c54b\" xlink:actuate=\"onRequest\" xlink:href=\"psysml:f3a385fe-c72f-4489-86aa-e832e0f5c54b\" xlink:show=\"new\" xlink:title=\"psysml:f3a385fe-c72f-4489-86aa-e832e0f5c54b\" xlink:type=\"simple\"><rect fill=\"#FEFECE\" filter=\"url(#f11mqpwqpf0o80)\" height=\"45.9375\" id=\"E3\" style=\"stroke: #A80036; stroke-width: 1.5;\" width=\"70\" x=\"170\" y=\"147\"/><text fill=\"#000000\" font-family=\"sans-serif\" font-size=\"12\" font-style=\"italic\" lengthAdjust=\"spacingAndGlyphs\" textLength=\"68\" x=\"171\" y=\"163.1387\">«part  def»</text><text fill=\"#000000\" font-family=\"sans-serif\" font-size=\"12\" lengthAdjust=\"spacingAndGlyphs\" textLength=\"16\" x=\"197\" y=\"177.1074\">P1</text><line style=\"stroke: #A80036; stroke-width: 1.5;\" x1=\"171\" x2=\"239\" y1=\"184.9375\" y2=\"184.9375\"/></a><!--MD5=[ebbe1d658d1005bcc118a6aa81145e00]\n",
       "class E4--><a href=\"psysml:12c3f617-858e-4877-bab3-72d077a58110\" target=\"_top\" title=\"psysml:12c3f617-858e-4877-bab3-72d077a58110\" xlink:actuate=\"onRequest\" xlink:href=\"psysml:12c3f617-858e-4877-bab3-72d077a58110\" xlink:show=\"new\" xlink:title=\"psysml:12c3f617-858e-4877-bab3-72d077a58110\" xlink:type=\"simple\"><rect fill=\"#FEFECE\" filter=\"url(#f11mqpwqpf0o80)\" height=\"45.9375\" id=\"E4\" rx=\"10\" ry=\"10\" style=\"stroke: #A80036; stroke-width: 1.5;\" width=\"50\" x=\"180\" y=\"253\"/><text fill=\"#000000\" font-family=\"sans-serif\" font-size=\"12\" font-style=\"italic\" lengthAdjust=\"spacingAndGlyphs\" textLength=\"40\" x=\"185\" y=\"269.1387\">«port»</text><text fill=\"#000000\" font-family=\"sans-serif\" font-size=\"12\" lengthAdjust=\"spacingAndGlyphs\" textLength=\"40\" x=\"183\" y=\"283.1074\">porig1</text><line style=\"stroke: #A80036; stroke-width: 1.5;\" x1=\"181\" x2=\"229\" y1=\"290.9375\" y2=\"290.9375\"/></a><!--MD5=[270fce915f116d4de14055a7c1d9a0f3]\n",
       "class E5--><a href=\"psysml:f19cd7cf-ead7-487d-acf0-998c02877f08\" target=\"_top\" title=\"psysml:f19cd7cf-ead7-487d-acf0-998c02877f08\" xlink:actuate=\"onRequest\" xlink:href=\"psysml:f19cd7cf-ead7-487d-acf0-998c02877f08\" xlink:show=\"new\" xlink:title=\"psysml:f19cd7cf-ead7-487d-acf0-998c02877f08\" xlink:type=\"simple\"><rect fill=\"#FEFECE\" filter=\"url(#f11mqpwqpf0o80)\" height=\"45.9375\" id=\"E5\" rx=\"10\" ry=\"10\" style=\"stroke: #A80036; stroke-width: 1.5;\" width=\"50\" x=\"117\" y=\"41\"/><text fill=\"#000000\" font-family=\"sans-serif\" font-size=\"12\" font-style=\"italic\" lengthAdjust=\"spacingAndGlyphs\" textLength=\"40\" x=\"122\" y=\"57.1387\">«part»</text><text fill=\"#000000\" font-family=\"sans-serif\" font-size=\"12\" lengthAdjust=\"spacingAndGlyphs\" textLength=\"40\" x=\"120\" y=\"71.1074\">p1: P1</text><line style=\"stroke: #A80036; stroke-width: 1.5;\" x1=\"118\" x2=\"166\" y1=\"78.9375\" y2=\"78.9375\"/></a><!--MD5=[60a26617385b1d2d0262a64233df1f8d]\n",
       "class E6--><a href=\"psysml:7bd77f36-e1da-430e-90ed-8aecc87780c5\" target=\"_top\" title=\"psysml:7bd77f36-e1da-430e-90ed-8aecc87780c5\" xlink:actuate=\"onRequest\" xlink:href=\"psysml:7bd77f36-e1da-430e-90ed-8aecc87780c5\" xlink:show=\"new\" xlink:title=\"psysml:7bd77f36-e1da-430e-90ed-8aecc87780c5\" xlink:type=\"simple\"><rect fill=\"#FEFECE\" filter=\"url(#f11mqpwqpf0o80)\" height=\"45.9375\" id=\"E6\" rx=\"10\" ry=\"10\" style=\"stroke: #A80036; stroke-width: 1.5;\" width=\"42\" x=\"93\" y=\"147\"/><text fill=\"#000000\" font-family=\"sans-serif\" font-size=\"12\" font-style=\"italic\" lengthAdjust=\"spacingAndGlyphs\" textLength=\"40\" x=\"94\" y=\"163.1387\">«port»</text><text fill=\"#000000\" font-family=\"sans-serif\" font-size=\"12\" lengthAdjust=\"spacingAndGlyphs\" textLength=\"24\" x=\"100\" y=\"177.1074\">po1</text><line style=\"stroke: #A80036; stroke-width: 1.5;\" x1=\"94\" x2=\"134\" y1=\"184.9375\" y2=\"184.9375\"/></a><!--MD5=[2156ba9850f5573cc1fc38a6a4b2f02b]\n",
       "class E7--><a href=\"psysml:3758ddaf-2d7c-4372-b46d-cbe5af56d102\" target=\"_top\" title=\"psysml:3758ddaf-2d7c-4372-b46d-cbe5af56d102\" xlink:actuate=\"onRequest\" xlink:href=\"psysml:3758ddaf-2d7c-4372-b46d-cbe5af56d102\" xlink:show=\"new\" xlink:title=\"psysml:3758ddaf-2d7c-4372-b46d-cbe5af56d102\" xlink:type=\"simple\"><rect fill=\"#FEFECE\" filter=\"url(#f11mqpwqpf0o80)\" height=\"45.9375\" id=\"E7\" rx=\"10\" ry=\"10\" style=\"stroke: #A80036; stroke-width: 1.5;\" width=\"50\" x=\"32\" y=\"41\"/><text fill=\"#000000\" font-family=\"sans-serif\" font-size=\"12\" font-style=\"italic\" lengthAdjust=\"spacingAndGlyphs\" textLength=\"40\" x=\"37\" y=\"57.1387\">«part»</text><text fill=\"#000000\" font-family=\"sans-serif\" font-size=\"12\" lengthAdjust=\"spacingAndGlyphs\" textLength=\"40\" x=\"35\" y=\"71.1074\">p2: P1</text><line style=\"stroke: #A80036; stroke-width: 1.5;\" x1=\"33\" x2=\"81\" y1=\"78.9375\" y2=\"78.9375\"/></a><!--MD5=[b9389687b975829384b498ac4b7476b2]\n",
       "class E8--><a href=\"psysml:009efb1a-81d8-4f5e-8e24-a878e8625106\" target=\"_top\" title=\"psysml:009efb1a-81d8-4f5e-8e24-a878e8625106\" xlink:actuate=\"onRequest\" xlink:href=\"psysml:009efb1a-81d8-4f5e-8e24-a878e8625106\" xlink:show=\"new\" xlink:title=\"psysml:009efb1a-81d8-4f5e-8e24-a878e8625106\" xlink:type=\"simple\"><rect fill=\"#FEFECE\" filter=\"url(#f11mqpwqpf0o80)\" height=\"45.9375\" id=\"E8\" rx=\"10\" ry=\"10\" style=\"stroke: #A80036; stroke-width: 1.5;\" width=\"46\" x=\"63\" y=\"253\"/><text fill=\"#000000\" font-family=\"sans-serif\" font-size=\"12\" font-style=\"italic\" lengthAdjust=\"spacingAndGlyphs\" textLength=\"40\" x=\"66\" y=\"269.1387\">«port»</text><text fill=\"#000000\" font-family=\"sans-serif\" font-size=\"12\" lengthAdjust=\"spacingAndGlyphs\" textLength=\"36\" x=\"66\" y=\"283.1074\">pdest</text><line style=\"stroke: #A80036; stroke-width: 1.5;\" x1=\"64\" x2=\"108\" y1=\"290.9375\" y2=\"290.9375\"/></a><!--MD5=[4672eba38e49728da53d11aeb285b987]\n",
       "reverse link E3 to E4--><a href=\"psysml:97bd4c72-9c32-47a6-a147-0b42cd362230\" target=\"_top\" title=\"psysml:97bd4c72-9c32-47a6-a147-0b42cd362230\" xlink:actuate=\"onRequest\" xlink:href=\"psysml:97bd4c72-9c32-47a6-a147-0b42cd362230\" xlink:show=\"new\" xlink:title=\"psysml:97bd4c72-9c32-47a6-a147-0b42cd362230\" xlink:type=\"simple\"><path d=\"M192.84,206.44 C191.7,221.87 192.21,239.47 194.36,252.98 \" fill=\"none\" id=\"E3&lt;-E4\" style=\"stroke: #A80036; stroke-width: 1.0;\"/><polygon fill=\"#FFFFFF\" points=\"194.35,193.06,189.7032,198.5743,193.006,204.9845,197.6528,199.4702,194.35,193.06\" style=\"stroke: #A80036; stroke-width: 1.0;\"/><text fill=\"#000000\" font-family=\"sans-serif\" font-size=\"13\" lengthAdjust=\"spacingAndGlyphs\" textLength=\"8\" x=\"182.4255\" y=\"241.8709\">1</text></a><!--MD5=[4672eba38e49728da53d11aeb285b987]\n",
       "reverse link E3 to E4--><a href=\"psysml:dd790abf-ac6c-4371-bdbb-56cf5ab0181d\" target=\"_top\" title=\"psysml:dd790abf-ac6c-4371-bdbb-56cf5ab0181d\" xlink:actuate=\"onRequest\" xlink:href=\"psysml:dd790abf-ac6c-4371-bdbb-56cf5ab0181d\" xlink:show=\"new\" xlink:title=\"psysml:dd790abf-ac6c-4371-bdbb-56cf5ab0181d\" xlink:type=\"simple\"><path d=\"M218.01,208.34 C219.03,223.3 218.45,240.02 216.27,252.98 \" fill=\"none\" id=\"E3&lt;-E4-1\" style=\"stroke: #A80036; stroke-width: 1.0; stroke-dasharray: 7.0,7.0;\"/><ellipse cx=\"217.1693\" cy=\"201.0093\" fill=\"#FFFFFF\" rx=\"8\" ry=\"8\" style=\"stroke: #A80036; stroke-width: 1.0;\"/><line style=\"stroke: #A80036; stroke-width: 1.0;\" x1=\"218.0687\" x2=\"216.27\" y1=\"208.9586\" y2=\"193.06\"/><line style=\"stroke: #A80036; stroke-width: 1.0;\" x1=\"209.2201\" x2=\"225.1186\" y1=\"201.9086\" y2=\"200.1099\"/><text fill=\"#000000\" font-family=\"sans-serif\" font-size=\"13\" lengthAdjust=\"spacingAndGlyphs\" textLength=\"8\" x=\"210.2238\" y=\"241.8709\">1</text></a><!--MD5=[e9be52314489bd878ff4c7144b63c9e1]\n",
       "link E5 to E3--><a href=\"psysml:a968a559-ae75-4ff7-b264-66e5a143558d\" target=\"_top\" title=\"psysml:a968a559-ae75-4ff7-b264-66e5a143558d\" xlink:actuate=\"onRequest\" xlink:href=\"psysml:a968a559-ae75-4ff7-b264-66e5a143558d\" xlink:show=\"new\" xlink:title=\"psysml:a968a559-ae75-4ff7-b264-66e5a143558d\" xlink:type=\"simple\"><path d=\"M155.36,87.06 C162.88,99.47 172.49,115.33 181.24,129.78 \" fill=\"none\" id=\"E5-&gt;E3\" style=\"stroke: #A80036; stroke-width: 1.0;\"/><polygon fill=\"#FFFFFF\" points=\"191.66,146.98,175.8217,134.3646,187.792,127.1044,191.66,146.98\" style=\"stroke: #A80036; stroke-width: 1.0;\"/><ellipse cx=\"174.5758\" cy=\"128.4538\" fill=\"#A80036\" rx=\"2\" ry=\"2\" style=\"stroke: #A80036; stroke-width: 1.0;\"/><ellipse cx=\"183.126\" cy=\"123.2679\" fill=\"#A80036\" rx=\"2\" ry=\"2\" style=\"stroke: #A80036; stroke-width: 1.0;\"/></a><!--MD5=[85d356282659285ab4b2cfe2f634dd2b]\n",
       "reverse link E5 to E6--><a href=\"psysml:167a231e-25d4-4100-8e0d-53e0a4e750c8\" target=\"_top\" title=\"psysml:167a231e-25d4-4100-8e0d-53e0a4e750c8\" xlink:actuate=\"onRequest\" xlink:href=\"psysml:167a231e-25d4-4100-8e0d-53e0a4e750c8\" xlink:show=\"new\" xlink:title=\"psysml:167a231e-25d4-4100-8e0d-53e0a4e750c8\" xlink:type=\"simple\"><path d=\"M132.59,99.96 C128.4,115.51 123.6,133.33 119.93,146.98 \" fill=\"none\" id=\"E5&lt;-E6\" style=\"stroke: #A80036; stroke-width: 1.0;\"/><polygon fill=\"#FFFFFF\" points=\"136.06,87.06,130.641,91.8176,132.9484,98.6496,138.3674,93.892,136.06,87.06\" style=\"stroke: #A80036; stroke-width: 1.0;\"/><text fill=\"#000000\" font-family=\"sans-serif\" font-size=\"13\" lengthAdjust=\"spacingAndGlyphs\" textLength=\"8\" x=\"112.4487\" y=\"135.8709\">1</text></a><!--MD5=[f667431f98296947986a1a7595a31603]\n",
       "link E6 to E4--><a href=\"psysml:57ff51c2-e85d-4f72-aa72-bbf7c251408b\" target=\"_top\" title=\"psysml:57ff51c2-e85d-4f72-aa72-bbf7c251408b\" xlink:actuate=\"onRequest\" xlink:href=\"psysml:57ff51c2-e85d-4f72-aa72-bbf7c251408b\" xlink:show=\"new\" xlink:title=\"psysml:57ff51c2-e85d-4f72-aa72-bbf7c251408b\" xlink:type=\"simple\"><path d=\"M133.3,193.06 C144.64,206.02 159.28,222.74 172.36,237.7 \" fill=\"none\" id=\"E6-&gt;E4\" style=\"stroke: #A80036; stroke-width: 1.0;\"/><polygon fill=\"#FFFFFF\" points=\"185.73,252.98,167.9517,243.2882,178.489,234.0705,185.73,252.98\" style=\"stroke: #A80036; stroke-width: 1.0;\"/><line style=\"stroke: #A80036; stroke-width: 2.0;\" x1=\"165.4497\" x2=\"175.9871\" y1=\"240.4281\" y2=\"231.2104\"/></a><!--MD5=[14ccda38c055a5c0da953d572bc50960]\n",
       "link E7 to E3--><a href=\"psysml:a1db7df5-c75d-4551-8d1a-744022949b4d\" target=\"_top\" title=\"psysml:a1db7df5-c75d-4551-8d1a-744022949b4d\" xlink:actuate=\"onRequest\" xlink:href=\"psysml:a1db7df5-c75d-4551-8d1a-744022949b4d\" xlink:show=\"new\" xlink:title=\"psysml:a1db7df5-c75d-4551-8d1a-744022949b4d\" xlink:type=\"simple\"><path d=\"M82.11,82.64 C102.61,97.05 132.18,117.83 157.18,135.39 \" fill=\"none\" id=\"E7-&gt;E3\" style=\"stroke: #A80036; stroke-width: 1.0;\"/><polygon fill=\"#FFFFFF\" points=\"173.58,146.92,154.011,141.7187,162.0629,130.266,173.58,146.92\" style=\"stroke: #A80036; stroke-width: 1.0;\"/><ellipse cx=\"150.4983\" cy=\"136.8043\" fill=\"#A80036\" rx=\"2\" ry=\"2\" style=\"stroke: #A80036; stroke-width: 1.0;\"/><ellipse cx=\"156.2497\" cy=\"128.6238\" fill=\"#A80036\" rx=\"2\" ry=\"2\" style=\"stroke: #A80036; stroke-width: 1.0;\"/></a><!--MD5=[dc164f5e8a733ab456ef1add180e9e34]\n",
       "reverse link E7 to E8--><a href=\"psysml:f57d57d9-12d9-410c-acd5-2b53e0560bbf\" target=\"_top\" title=\"psysml:f57d57d9-12d9-410c-acd5-2b53e0560bbf\" xlink:actuate=\"onRequest\" xlink:href=\"psysml:f57d57d9-12d9-410c-acd5-2b53e0560bbf\" xlink:show=\"new\" xlink:title=\"psysml:f57d57d9-12d9-410c-acd5-2b53e0560bbf\" xlink:type=\"simple\"><path d=\"M52.05,100.09 C53.65,143.61 64.25,216.5 74.75,252.9 \" fill=\"none\" id=\"E7&lt;-E8\" style=\"stroke: #A80036; stroke-width: 1.0;\"/><polygon fill=\"#FFFFFF\" points=\"51.85,87.08,47.9362,93.1366,52.0216,99.0788,55.9354,93.0222,51.85,87.08\" style=\"stroke: #A80036; stroke-width: 1.0;\"/><text fill=\"#000000\" font-family=\"sans-serif\" font-size=\"13\" lengthAdjust=\"spacingAndGlyphs\" textLength=\"8\" x=\"62.6516\" y=\"241.7694\">1</text></a><!--MD5=[dc164f5e8a733ab456ef1add180e9e34]\n",
       "reverse link E7 to E8--><a href=\"psysml:b8781950-4d8a-4fb9-9fe0-7c7847cd278f\" target=\"_top\" title=\"psysml:b8781950-4d8a-4fb9-9fe0-7c7847cd278f\" xlink:actuate=\"onRequest\" xlink:href=\"psysml:b8781950-4d8a-4fb9-9fe0-7c7847cd278f\" xlink:show=\"new\" xlink:title=\"psysml:b8781950-4d8a-4fb9-9fe0-7c7847cd278f\" xlink:type=\"simple\"><path d=\"M72.64,101.8 C83.15,145.5 92.39,216.97 91.63,252.9 \" fill=\"none\" id=\"E7&lt;-E8-1\" style=\"stroke: #A80036; stroke-width: 1.0; stroke-dasharray: 7.0,7.0;\"/><ellipse cx=\"70.7794\" cy=\"94.813\" fill=\"#FFFFFF\" rx=\"8\" ry=\"8\" style=\"stroke: #A80036; stroke-width: 1.0;\"/><line style=\"stroke: #A80036; stroke-width: 1.0;\" x1=\"72.8289\" x2=\"68.73\" y1=\"102.5461\" y2=\"87.08\"/><line style=\"stroke: #A80036; stroke-width: 1.0;\" x1=\"63.0464\" x2=\"78.5125\" y1=\"96.8625\" y2=\"92.7636\"/><text fill=\"#000000\" font-family=\"sans-serif\" font-size=\"13\" lengthAdjust=\"spacingAndGlyphs\" textLength=\"8\" x=\"94.2181\" y=\"241.7694\">1</text></a><!--MD5=[0a839d0f80c2d72d4b9b307f046d0de8]\n",
       "link E6 to E8--><a href=\"psysml:117cd7b6-777c-4755-88f6-d7a432271d85\" target=\"_top\" title=\"psysml:117cd7b6-777c-4755-88f6-d7a432271d85\" xlink:actuate=\"onRequest\" xlink:href=\"psysml:117cd7b6-777c-4755-88f6-d7a432271d85\" xlink:show=\"new\" xlink:title=\"psysml:117cd7b6-777c-4755-88f6-d7a432271d85\" xlink:type=\"simple\"><path d=\"M97.42,193.06 C89.86,210.7 83.23,235.34 81.29,252.98 \" fill=\"none\" id=\"E6-E8\" style=\"stroke: #A80036; stroke-width: 3.0;\"/><text fill=\"#000000\" font-family=\"sans-serif\" font-size=\"13\" lengthAdjust=\"spacingAndGlyphs\" textLength=\"7\" x=\"80.9648\" y=\"241.8709\">*</text></a><!--MD5=[0a839d0f80c2d72d4b9b307f046d0de8]\n",
       "link E6 to E8--><a href=\"psysml:c7325d6a-fceb-4e80-be50-eff52df502df\" target=\"_top\" title=\"psysml:c7325d6a-fceb-4e80-be50-eff52df502df\" xlink:actuate=\"onRequest\" xlink:href=\"psysml:c7325d6a-fceb-4e80-be50-eff52df502df\" xlink:show=\"new\" xlink:title=\"psysml:c7325d6a-fceb-4e80-be50-eff52df502df\" xlink:type=\"simple\"><path d=\"M119.33,193.06 C117.55,210.7 110.92,235.34 103.2,252.98 \" fill=\"none\" id=\"E6-E8-1\" style=\"stroke: #A80036; stroke-width: 3.0;\"/><text fill=\"#000000\" font-family=\"sans-serif\" font-size=\"13\" lengthAdjust=\"spacingAndGlyphs\" textLength=\"7\" x=\"99.8819\" y=\"241.8709\">*</text></a><!--MD5=[eb5c6c35ae4faa63f8837b4a12e3998d]\n",
       "@startuml\r\n",
       "skinparam wrapWidth 300\r\n",
       "hide circle\r\n",
       "\r\n",
       "package \"AliasTest\" as E1  [[psysml:6242facc-ff06-44d1-b4f3-467b2ef71334 ]]  {\r\n",
       "comp usage \"b :> ISQSpaceTime::width\" as E2  <<(T,blue) attribute>> [[psysml:c7d5118b-0b42-4b21-9071-aba180ff097b ]] {\r\n",
       "}\r\n",
       "comp def \"P1\" as E3  <<(T,blue) part  def>> [[psysml:f3a385fe-c72f-4489-86aa-e832e0f5c54b ]] {\r\n",
       "}\r\n",
       "comp usage \"porig1 \" as E4  <<(T,blue) port>> [[psysml:12c3f617-858e-4877-bab3-72d077a58110 ]] {\r\n",
       "}\r\n",
       "comp usage \"p1: P1 \" as E5  <<(T,blue) part>> [[psysml:f19cd7cf-ead7-487d-acf0-998c02877f08 ]] {\r\n",
       "}\r\n",
       "comp usage \"po1 \" as E6  <<(T,blue) port>> [[psysml:7bd77f36-e1da-430e-90ed-8aecc87780c5 ]] {\r\n",
       "}\r\n",
       "comp usage \"p2: P1 \" as E7  <<(T,blue) part>> [[psysml:3758ddaf-2d7c-4372-b46d-cbe5af56d102 ]] {\r\n",
       "}\r\n",
       "comp usage \"pdest \" as E8  <<(T,blue) port>> [[psysml:009efb1a-81d8-4f5e-8e24-a878e8625106 ]] {\r\n",
       "}\r\n",
       "}\r\n",
       "E3 o- - \"1\"E4 [[psysml:97bd4c72-9c32-47a6-a147-0b42cd362230 ]] \r\n",
       "E3 +.. \"1\"E4 [[psysml:dd790abf-ac6c-4371-bdbb-56cf5ab0181d ]] \r\n",
       "E5 - -:|> E3 [[psysml:a968a559-ae75-4ff7-b264-66e5a143558d ]] \r\n",
       "E5 o- - \"1\"E6 [[psysml:167a231e-25d4-4100-8e0d-53e0a4e750c8 ]] \r\n",
       "E6 - -||> E4 [[psysml:57ff51c2-e85d-4f72-aa72-bbf7c251408b ]] \r\n",
       "E7 - -:|> E3 [[psysml:a1db7df5-c75d-4551-8d1a-744022949b4d ]] \r\n",
       "E7 o- - \"1\"E8 [[psysml:f57d57d9-12d9-410c-acd5-2b53e0560bbf ]] \r\n",
       "E7 +.. \"1\"E8 [[psysml:b8781950-4d8a-4fb9-9fe0-7c7847cd278f ]] \r\n",
       "E6 -[thickness=3]- \"*\"E8 [[psysml:117cd7b6-777c-4755-88f6-d7a432271d85 ]] \r\n",
       "E6 -[thickness=3]- \"*\"E8 [[psysml:c7325d6a-fceb-4e80-be50-eff52df502df ]] \r\n",
       "@enduml\r\n",
       "\n",
       "PlantUML version 1.2020.13(Sat Jun 13 12:26:38 UTC 2020)\n",
       "(EPL source distribution)\n",
       "Java Runtime: OpenJDK Runtime Environment\n",
       "JVM: OpenJDK 64-Bit Server VM\n",
       "Default Encoding: UTF-8\n",
       "Language: en\n",
       "Country: null\n",
       "--></g></svg>"
      ]
     },
     "execution_count": 24,
     "metadata": {},
     "output_type": "execute_result"
    }
   ],
   "source": [
    "%viz --style=\"STDCOLOR\" --view=\"Tree\" \"AliasTest\""
   ]
  },
  {
   "cell_type": "code",
   "execution_count": 25,
   "id": "9e529e52",
   "metadata": {
    "execution": {
     "iopub.execute_input": "2022-03-21T07:52:16.942319Z",
     "iopub.status.busy": "2022-03-21T07:52:16.941916Z",
     "iopub.status.idle": "2022-03-21T07:52:16.946594Z",
     "shell.execute_reply": "2022-03-21T07:52:16.946907Z"
    }
   },
   "outputs": [
    {
     "data": {
      "image/svg+xml": [
       "<?xml version=\"1.0\" encoding=\"UTF-8\" standalone=\"no\"?><svg xmlns=\"http://www.w3.org/2000/svg\" xmlns:xlink=\"http://www.w3.org/1999/xlink\" contentScriptType=\"application/ecmascript\" contentStyleType=\"text/css\" height=\"12px\" preserveAspectRatio=\"none\" style=\"width:12px;height:12px;\" version=\"1.1\" viewBox=\"0 0 12 12\" width=\"12px\" zoomAndPan=\"magnify\"><defs/><g><!--MD5=[aeeef50f102b80d730deb6443d14f702]\n",
       "@startuml\r\n",
       "skinparam wrapWidth 300\r\n",
       "hide circle\r\n",
       "\r\n",
       "@enduml\r\n",
       "\n",
       "PlantUML version 1.2020.13(Sat Jun 13 12:26:38 UTC 2020)\n",
       "(EPL source distribution)\n",
       "Java Runtime: OpenJDK Runtime Environment\n",
       "JVM: OpenJDK 64-Bit Server VM\n",
       "Default Encoding: UTF-8\n",
       "Language: en\n",
       "Country: null\n",
       "--></g></svg>"
      ]
     },
     "execution_count": 25,
     "metadata": {},
     "output_type": "execute_result"
    }
   ],
   "source": [
    "%viz --style=\"STDCOLOR\" --view=\"State\" \"AliasTest\""
   ]
  },
  {
   "cell_type": "code",
   "execution_count": 26,
   "id": "28a28795",
   "metadata": {
    "execution": {
     "iopub.execute_input": "2022-03-21T07:52:16.997074Z",
     "iopub.status.busy": "2022-03-21T07:52:16.996679Z",
     "iopub.status.idle": "2022-03-21T07:52:17.032891Z",
     "shell.execute_reply": "2022-03-21T07:52:17.032559Z"
    }
   },
   "outputs": [
    {
     "data": {
      "image/svg+xml": [
       "<?xml version=\"1.0\" encoding=\"UTF-8\" standalone=\"no\"?><svg xmlns=\"http://www.w3.org/2000/svg\" xmlns:xlink=\"http://www.w3.org/1999/xlink\" contentScriptType=\"application/ecmascript\" contentStyleType=\"text/css\" height=\"233px\" preserveAspectRatio=\"none\" style=\"width:572px;height:233px;\" version=\"1.1\" viewBox=\"0 0 572 233\" width=\"572px\" zoomAndPan=\"magnify\"><defs><filter height=\"300%\" id=\"f15cwvpni3a6fi\" width=\"300%\" x=\"-1\" y=\"-1\"><feGaussianBlur result=\"blurOut\" stdDeviation=\"2.0\"/><feColorMatrix in=\"blurOut\" result=\"blurOut2\" type=\"matrix\" values=\"0 0 0 0 0 0 0 0 0 0 0 0 0 0 0 0 0 0 .4 0\"/><feOffset dx=\"4.0\" dy=\"4.0\" in=\"blurOut2\" result=\"blurOut3\"/><feBlend in=\"SourceGraphic\" in2=\"blurOut3\" mode=\"normal\"/></filter></defs><g><!--MD5=[fbc87193dbaf4d95561dea2c320d4a47]\n",
       "cluster E1--><a href=\"psysml:6242facc-ff06-44d1-b4f3-467b2ef71334\" target=\"_top\" title=\"psysml:6242facc-ff06-44d1-b4f3-467b2ef71334\" xlink:actuate=\"onRequest\" xlink:href=\"psysml:6242facc-ff06-44d1-b4f3-467b2ef71334\" xlink:show=\"new\" xlink:title=\"psysml:6242facc-ff06-44d1-b4f3-467b2ef71334\" xlink:type=\"simple\"><polygon fill=\"#FFFFFF\" filter=\"url(#f15cwvpni3a6fi)\" points=\"16,6,84,6,91,28.2969,550,28.2969,550,221,16,221,16,6\" style=\"stroke: #000000; stroke-width: 1.5;\"/><line style=\"stroke: #000000; stroke-width: 1.5;\" x1=\"16\" x2=\"91\" y1=\"28.2969\" y2=\"28.2969\"/><text fill=\"#000000\" font-family=\"sans-serif\" font-size=\"14\" font-weight=\"bold\" lengthAdjust=\"spacingAndGlyphs\" textLength=\"62\" x=\"20\" y=\"20.9951\">AliasTest</text></a><!--MD5=[d5e69f78d87373223dbae638b30a9c99]\n",
       "cluster E3--><a href=\"psysml:f3a385fe-c72f-4489-86aa-e832e0f5c54b\" target=\"_top\" title=\"psysml:f3a385fe-c72f-4489-86aa-e832e0f5c54b\" xlink:actuate=\"onRequest\" xlink:href=\"psysml:f3a385fe-c72f-4489-86aa-e832e0f5c54b\" xlink:show=\"new\" xlink:title=\"psysml:f3a385fe-c72f-4489-86aa-e832e0f5c54b\" xlink:type=\"simple\"><rect fill=\"#FFFFFF\" filter=\"url(#f15cwvpni3a6fi)\" height=\"90\" id=\"E3\" style=\"stroke: #A80036; stroke-width: 1.5;\" width=\"85\" x=\"407\" y=\"64\"/><rect fill=\"#FEFECE\" height=\"37.9375\" style=\"stroke: #A80036; stroke-width: 1.5;\" width=\"85\" x=\"407\" y=\"64\"/><text fill=\"#000000\" font-family=\"sans-serif\" font-size=\"12\" font-style=\"italic\" lengthAdjust=\"spacingAndGlyphs\" textLength=\"68\" x=\"415.5\" y=\"80.1387\">«part  def»</text><text fill=\"#000000\" font-family=\"sans-serif\" font-size=\"12\" lengthAdjust=\"spacingAndGlyphs\" textLength=\"16\" x=\"441.5\" y=\"94.1074\">P1</text></a><!--MD5=[14e3b0961a2654348d326746436168a1]\n",
       "cluster E6--><a href=\"psysml:f19cd7cf-ead7-487d-acf0-998c02877f08\" target=\"_top\" title=\"psysml:f19cd7cf-ead7-487d-acf0-998c02877f08\" xlink:actuate=\"onRequest\" xlink:href=\"psysml:f19cd7cf-ead7-487d-acf0-998c02877f08\" xlink:show=\"new\" xlink:title=\"psysml:f19cd7cf-ead7-487d-acf0-998c02877f08\" xlink:type=\"simple\"><rect fill=\"#FFFFFF\" filter=\"url(#f15cwvpni3a6fi)\" height=\"82\" id=\"E6\" rx=\"10\" ry=\"10\" style=\"stroke: #A80036; stroke-width: 1.5;\" width=\"98\" x=\"206\" y=\"64\"/><rect fill=\"#FEFECE\" height=\"23.9688\" rx=\"10\" ry=\"10\" style=\"stroke: #FEFECE; stroke-width: 1.5;\" width=\"98\" x=\"206\" y=\"64\"/><rect fill=\"#FEFECE\" height=\"10\" style=\"stroke: #FEFECE; stroke-width: 1.5;\" width=\"98\" x=\"206\" y=\"77.9688\"/><rect fill=\"none\" height=\"82\" id=\"E6\" rx=\"10\" ry=\"10\" style=\"stroke: #A80036; stroke-width: 1.5;\" width=\"98\" x=\"206\" y=\"64\"/><text fill=\"#000000\" font-family=\"sans-serif\" font-size=\"12\" lengthAdjust=\"spacingAndGlyphs\" textLength=\"40\" x=\"235\" y=\"80.1387\">p1: P1</text><line style=\"stroke: #A80036; stroke-width: 1.0;\" x1=\"206\" x2=\"304\" y1=\"87.9688\" y2=\"87.9688\"/></a><!--MD5=[55dfccfc6c49c2d10cd1bd2211a6c90c]\n",
       "cluster E8--><a href=\"psysml:3758ddaf-2d7c-4372-b46d-cbe5af56d102\" target=\"_top\" title=\"psysml:3758ddaf-2d7c-4372-b46d-cbe5af56d102\" xlink:actuate=\"onRequest\" xlink:href=\"psysml:3758ddaf-2d7c-4372-b46d-cbe5af56d102\" xlink:show=\"new\" xlink:title=\"psysml:3758ddaf-2d7c-4372-b46d-cbe5af56d102\" xlink:type=\"simple\"><rect fill=\"#FFFFFF\" filter=\"url(#f15cwvpni3a6fi)\" height=\"84.5\" id=\"E8\" rx=\"10\" ry=\"10\" style=\"stroke: #A80036; stroke-width: 1.5;\" width=\"83\" x=\"307\" y=\"120.5\"/><rect fill=\"#FEFECE\" height=\"23.9688\" rx=\"10\" ry=\"10\" style=\"stroke: #FEFECE; stroke-width: 1.5;\" width=\"83\" x=\"307\" y=\"120.5\"/><rect fill=\"#FEFECE\" height=\"10\" style=\"stroke: #FEFECE; stroke-width: 1.5;\" width=\"83\" x=\"307\" y=\"134.4688\"/><rect fill=\"none\" height=\"84.5\" id=\"E8\" rx=\"10\" ry=\"10\" style=\"stroke: #A80036; stroke-width: 1.5;\" width=\"83\" x=\"307\" y=\"120.5\"/><text fill=\"#000000\" font-family=\"sans-serif\" font-size=\"12\" lengthAdjust=\"spacingAndGlyphs\" textLength=\"40\" x=\"328.5\" y=\"136.6387\">p2: P1</text><line style=\"stroke: #A80036; stroke-width: 1.0;\" x1=\"307\" x2=\"390\" y1=\"144.4688\" y2=\"144.4688\"/></a><!--MD5=[b4997ac47864f28c2f74865a473b2911]\n",
       "class E2--><a href=\"psysml:c7d5118b-0b42-4b21-9071-aba180ff097b\" target=\"_top\" title=\"psysml:c7d5118b-0b42-4b21-9071-aba180ff097b\" xlink:actuate=\"onRequest\" xlink:href=\"psysml:c7d5118b-0b42-4b21-9071-aba180ff097b\" xlink:show=\"new\" xlink:title=\"psysml:c7d5118b-0b42-4b21-9071-aba180ff097b\" xlink:type=\"simple\"><rect fill=\"#FEFECE\" filter=\"url(#f15cwvpni3a6fi)\" height=\"45.9375\" id=\"E2\" rx=\"10\" ry=\"10\" style=\"stroke: #A80036; stroke-width: 1.5;\" width=\"165\" x=\"32.5\" y=\"41\"/><text fill=\"#000000\" font-family=\"sans-serif\" font-size=\"12\" font-style=\"italic\" lengthAdjust=\"spacingAndGlyphs\" textLength=\"69\" x=\"80.5\" y=\"57.1387\">«attribute»</text><text fill=\"#000000\" font-family=\"sans-serif\" font-size=\"12\" lengthAdjust=\"spacingAndGlyphs\" textLength=\"159\" x=\"35.5\" y=\"71.1074\">b :&gt; ISQSpaceTime::width</text><line style=\"stroke: #A80036; stroke-width: 1.5;\" x1=\"33.5\" x2=\"196.5\" y1=\"78.9375\" y2=\"78.9375\"/></a><text fill=\"#000000\" font-family=\"sans-serif\" font-size=\"14\" lengthAdjust=\"spacingAndGlyphs\" textLength=\"44\" x=\"401\" y=\"42.6982\">porig1</text><rect fill=\"#A80036\" height=\"12\" style=\"stroke: #FEFECE; stroke-width: 1.5;\" width=\"12\" x=\"419\" y=\"58\"/><text fill=\"#000000\" font-family=\"sans-serif\" font-size=\"14\" lengthAdjust=\"spacingAndGlyphs\" textLength=\"44\" x=\"448\" y=\"42.6982\">porig1</text><rect fill=\"#A80036\" height=\"12\" style=\"stroke: #FEFECE; stroke-width: 1.5;\" width=\"12\" x=\"466\" y=\"58\"/><text fill=\"#000000\" font-family=\"sans-serif\" font-size=\"14\" lengthAdjust=\"spacingAndGlyphs\" textLength=\"27\" x=\"270.5\" y=\"42.6982\">po1</text><rect fill=\"#A80036\" height=\"12\" style=\"stroke: #FEFECE; stroke-width: 1.5;\" width=\"12\" x=\"280\" y=\"58\"/><text fill=\"#000000\" font-family=\"sans-serif\" font-size=\"14\" lengthAdjust=\"spacingAndGlyphs\" textLength=\"40\" x=\"303\" y=\"99.1982\">pdest</text><rect fill=\"#A80036\" height=\"12\" style=\"stroke: #FEFECE; stroke-width: 1.5;\" width=\"12\" x=\"319\" y=\"114.5\"/><text fill=\"#000000\" font-family=\"sans-serif\" font-size=\"14\" lengthAdjust=\"spacingAndGlyphs\" textLength=\"40\" x=\"350\" y=\"99.1982\">pdest</text><rect fill=\"#A80036\" height=\"12\" style=\"stroke: #FEFECE; stroke-width: 1.5;\" width=\"12\" x=\"366\" y=\"114.5\"/><!--MD5=[1c0b9414cc86e0744215edee6abd8926]\n",
       "link E7 to E9--><a href=\"psysml:117cd7b6-777c-4755-88f6-d7a432271d85\" target=\"_top\" title=\"psysml:117cd7b6-777c-4755-88f6-d7a432271d85\" xlink:actuate=\"onRequest\" xlink:href=\"psysml:117cd7b6-777c-4755-88f6-d7a432271d85\" xlink:show=\"new\" xlink:title=\"psysml:117cd7b6-777c-4755-88f6-d7a432271d85\" xlink:type=\"simple\"><path d=\"M281.83,70.03 C282.72,81.73 304.14,110.34 318.83,117.73 \" fill=\"none\" id=\"E7-E9\" style=\"stroke: #A80036; stroke-width: 3.0;\"/><text fill=\"#000000\" font-family=\"sans-serif\" font-size=\"13\" lengthAdjust=\"spacingAndGlyphs\" textLength=\"7\" x=\"303.8522\" y=\"106.3789\">*</text></a><!--MD5=[1c0b9414cc86e0744215edee6abd8926]\n",
       "link E7 to E9--><a href=\"psysml:c7325d6a-fceb-4e80-be50-eff52df502df\" target=\"_top\" title=\"psysml:c7325d6a-fceb-4e80-be50-eff52df502df\" xlink:actuate=\"onRequest\" xlink:href=\"psysml:c7325d6a-fceb-4e80-be50-eff52df502df\" xlink:show=\"new\" xlink:title=\"psysml:c7325d6a-fceb-4e80-be50-eff52df502df\" xlink:type=\"simple\"><path d=\"M292.05,66.57 C307.27,73.62 329.05,102.5 329.62,114.37 \" fill=\"none\" id=\"E7-E9-1\" style=\"stroke: #A80036; stroke-width: 3.0;\"/><text fill=\"#000000\" font-family=\"sans-serif\" font-size=\"13\" lengthAdjust=\"spacingAndGlyphs\" textLength=\"7\" x=\"323.278\" y=\"103.4683\">*</text></a><!--MD5=[6e3a405bada26c12fbb53d5792cf4174]\n",
       "@startuml\r\n",
       "skinparam ranksep 10\r\n",
       "skinparam rectangle {\r\n",
       " backgroundColor<<block>> LightGreen\r\n",
       "}\r\n",
       "skinparam wrapWidth 300\r\n",
       "hide circle\r\n",
       "\r\n",
       "package \"AliasTest\" as E1  [[psysml:6242facc-ff06-44d1-b4f3-467b2ef71334 ]]  {\r\n",
       "comp usage \"b :> ISQSpaceTime::width\" as E2  <<(T,blue) attribute>> [[psysml:c7d5118b-0b42-4b21-9071-aba180ff097b ]] {\r\n",
       "}\r\n",
       "rec def \"P1\" as E3  <<(T,blue) part  def>> [[psysml:f3a385fe-c72f-4489-86aa-e832e0f5c54b ]] {\r\n",
       "portin \"porig1 \" as E4  <<(T,blue) port>> [[psysml:12c3f617-858e-4877-bab3-72d077a58110 ]] \r\n",
       "portin \"porig1 \" as E5  <<(T,blue) port>> [[psysml:12c3f617-858e-4877-bab3-72d077a58110 ]] \r\n",
       "}\r\n",
       "rec usage \"p1: P1\" as E6  [[psysml:f19cd7cf-ead7-487d-acf0-998c02877f08 ]] {\r\n",
       "portin \"po1 \" as E7  <<(T,blue) port>> [[psysml:7bd77f36-e1da-430e-90ed-8aecc87780c5 ]] \r\n",
       "}\r\n",
       "rec usage \"p2: P1\" as E8  [[psysml:3758ddaf-2d7c-4372-b46d-cbe5af56d102 ]] {\r\n",
       "portin \"pdest \" as E9  <<(T,blue) port>> [[psysml:009efb1a-81d8-4f5e-8e24-a878e8625106 ]] \r\n",
       "portin \"pdest \" as E10  <<(T,blue) port>> [[psysml:009efb1a-81d8-4f5e-8e24-a878e8625106 ]] \r\n",
       "}\r\n",
       "}\r\n",
       "E7 -[thickness=3]- \"*\"E9 [[psysml:117cd7b6-777c-4755-88f6-d7a432271d85 ]] \r\n",
       "E7 -[thickness=3]- \"*\"E9 [[psysml:c7325d6a-fceb-4e80-be50-eff52df502df ]] \r\n",
       "@enduml\r\n",
       "\n",
       "PlantUML version 1.2020.13(Sat Jun 13 12:26:38 UTC 2020)\n",
       "(EPL source distribution)\n",
       "Java Runtime: OpenJDK Runtime Environment\n",
       "JVM: OpenJDK 64-Bit Server VM\n",
       "Default Encoding: UTF-8\n",
       "Language: en\n",
       "Country: null\n",
       "--></g></svg>"
      ]
     },
     "execution_count": 26,
     "metadata": {},
     "output_type": "execute_result"
    }
   ],
   "source": [
    "%viz --style=\"STDCOLOR\" --view=\"Interconnection\" \"AliasTest\""
   ]
  },
  {
   "cell_type": "code",
   "execution_count": 27,
   "id": "2fcb1839",
   "metadata": {
    "execution": {
     "iopub.execute_input": "2022-03-21T07:52:17.082716Z",
     "iopub.status.busy": "2022-03-21T07:52:17.082321Z",
     "iopub.status.idle": "2022-03-21T07:52:17.086926Z",
     "shell.execute_reply": "2022-03-21T07:52:17.087240Z"
    }
   },
   "outputs": [
    {
     "data": {
      "image/svg+xml": [
       "<?xml version=\"1.0\" encoding=\"UTF-8\" standalone=\"no\"?><svg xmlns=\"http://www.w3.org/2000/svg\" xmlns:xlink=\"http://www.w3.org/1999/xlink\" contentScriptType=\"application/ecmascript\" contentStyleType=\"text/css\" height=\"12px\" preserveAspectRatio=\"none\" style=\"width:12px;height:12px;\" version=\"1.1\" viewBox=\"0 0 12 12\" width=\"12px\" zoomAndPan=\"magnify\"><defs/><g><!--MD5=[9863325348a96a77dacc89509d8ee65e]\n",
       "@startuml\r\n",
       "skinparam ranksep 8\r\n",
       "skinparam wrapWidth 300\r\n",
       "hide circle\r\n",
       "\r\n",
       "@enduml\r\n",
       "\n",
       "PlantUML version 1.2020.13(Sat Jun 13 12:26:38 UTC 2020)\n",
       "(EPL source distribution)\n",
       "Java Runtime: OpenJDK Runtime Environment\n",
       "JVM: OpenJDK 64-Bit Server VM\n",
       "Default Encoding: UTF-8\n",
       "Language: en\n",
       "Country: null\n",
       "--></g></svg>"
      ]
     },
     "execution_count": 27,
     "metadata": {},
     "output_type": "execute_result"
    }
   ],
   "source": [
    "%viz --style=\"STDCOLOR\" --view=\"Action\" \"AliasTest\""
   ]
  },
  {
   "cell_type": "code",
   "execution_count": 28,
   "id": "74b63fa1",
   "metadata": {
    "execution": {
     "iopub.execute_input": "2022-03-21T07:52:17.137398Z",
     "iopub.status.busy": "2022-03-21T07:52:17.136985Z",
     "iopub.status.idle": "2022-03-21T07:52:17.141639Z",
     "shell.execute_reply": "2022-03-21T07:52:17.141933Z"
    }
   },
   "outputs": [
    {
     "data": {
      "image/svg+xml": [
       "<?xml version=\"1.0\" encoding=\"UTF-8\" standalone=\"no\"?><svg xmlns=\"http://www.w3.org/2000/svg\" xmlns:xlink=\"http://www.w3.org/1999/xlink\" contentScriptType=\"application/ecmascript\" contentStyleType=\"text/css\" height=\"12px\" preserveAspectRatio=\"none\" style=\"width:12px;height:12px;\" version=\"1.1\" viewBox=\"0 0 12 12\" width=\"12px\" zoomAndPan=\"magnify\"><defs/><g><!--MD5=[6c4bca67b4d71758159a5a7f1f1e1fc2]\n",
       "@startuml\r\n",
       "skinparam roundcorner 20\r\n",
       "skinparam BoxPadding 20\r\n",
       "skinparam SequenceBoxBackgroundColor #white\r\n",
       "skinparam style strictuml\r\n",
       "skinparam maxMessageSize 100\r\n",
       "skinparam wrapWidth 300\r\n",
       "hide circle\r\n",
       "\r\n",
       "@enduml\r\n",
       "\n",
       "PlantUML version 1.2020.13(Sat Jun 13 12:26:38 UTC 2020)\n",
       "(EPL source distribution)\n",
       "Java Runtime: OpenJDK Runtime Environment\n",
       "JVM: OpenJDK 64-Bit Server VM\n",
       "Default Encoding: UTF-8\n",
       "Language: en\n",
       "Country: null\n",
       "--></g></svg>"
      ]
     },
     "execution_count": 28,
     "metadata": {},
     "output_type": "execute_result"
    }
   ],
   "source": [
    "%viz --style=\"STDCOLOR\" --view=\"Sequence\" \"AliasTest\""
   ]
  },
  {
   "cell_type": "code",
   "execution_count": 29,
   "id": "cf600799",
   "metadata": {
    "execution": {
     "iopub.execute_input": "2022-03-21T07:52:17.192086Z",
     "iopub.status.busy": "2022-03-21T07:52:17.191680Z",
     "iopub.status.idle": "2022-03-21T07:52:17.229110Z",
     "shell.execute_reply": "2022-03-21T07:52:17.228734Z"
    }
   },
   "outputs": [
    {
     "data": {
      "image/svg+xml": [
       "<?xml version=\"1.0\" encoding=\"UTF-8\" standalone=\"no\"?><svg xmlns=\"http://www.w3.org/2000/svg\" xmlns:xlink=\"http://www.w3.org/1999/xlink\" contentScriptType=\"application/ecmascript\" contentStyleType=\"text/css\" height=\"327px\" preserveAspectRatio=\"none\" style=\"width:406px;height:327px;\" version=\"1.1\" viewBox=\"0 0 406 327\" width=\"406px\" zoomAndPan=\"magnify\"><defs><filter height=\"300%\" id=\"f11mqpwqpf0o80\" width=\"300%\" x=\"-1\" y=\"-1\"><feGaussianBlur result=\"blurOut\" stdDeviation=\"2.0\"/><feColorMatrix in=\"blurOut\" result=\"blurOut2\" type=\"matrix\" values=\"0 0 0 0 0 0 0 0 0 0 0 0 0 0 0 0 0 0 .4 0\"/><feOffset dx=\"4.0\" dy=\"4.0\" in=\"blurOut2\" result=\"blurOut3\"/><feBlend in=\"SourceGraphic\" in2=\"blurOut3\" mode=\"normal\"/></filter></defs><g><!--MD5=[fbc87193dbaf4d95561dea2c320d4a47]\n",
       "cluster E1--><a href=\"psysml:6242facc-ff06-44d1-b4f3-467b2ef71334\" target=\"_top\" title=\"psysml:6242facc-ff06-44d1-b4f3-467b2ef71334\" xlink:actuate=\"onRequest\" xlink:href=\"psysml:6242facc-ff06-44d1-b4f3-467b2ef71334\" xlink:show=\"new\" xlink:title=\"psysml:6242facc-ff06-44d1-b4f3-467b2ef71334\" xlink:type=\"simple\"><polygon fill=\"#FFFFFF\" filter=\"url(#f11mqpwqpf0o80)\" points=\"16,6,84,6,91,28.2969,384,28.2969,384,315,16,315,16,6\" style=\"stroke: #000000; stroke-width: 1.5;\"/><line style=\"stroke: #000000; stroke-width: 1.5;\" x1=\"16\" x2=\"91\" y1=\"28.2969\" y2=\"28.2969\"/><text fill=\"#000000\" font-family=\"sans-serif\" font-size=\"14\" font-weight=\"bold\" lengthAdjust=\"spacingAndGlyphs\" textLength=\"62\" x=\"20\" y=\"20.9951\">AliasTest</text></a><!--MD5=[b4997ac47864f28c2f74865a473b2911]\n",
       "class E2--><a href=\"psysml:c7d5118b-0b42-4b21-9071-aba180ff097b\" target=\"_top\" title=\"psysml:c7d5118b-0b42-4b21-9071-aba180ff097b\" xlink:actuate=\"onRequest\" xlink:href=\"psysml:c7d5118b-0b42-4b21-9071-aba180ff097b\" xlink:show=\"new\" xlink:title=\"psysml:c7d5118b-0b42-4b21-9071-aba180ff097b\" xlink:type=\"simple\"><rect fill=\"#FEFECE\" filter=\"url(#f11mqpwqpf0o80)\" height=\"45.9375\" id=\"E2\" rx=\"10\" ry=\"10\" style=\"stroke: #A80036; stroke-width: 1.5;\" width=\"165\" x=\"202.5\" y=\"41\"/><text fill=\"#000000\" font-family=\"sans-serif\" font-size=\"12\" font-style=\"italic\" lengthAdjust=\"spacingAndGlyphs\" textLength=\"69\" x=\"250.5\" y=\"57.1387\">«attribute»</text><text fill=\"#000000\" font-family=\"sans-serif\" font-size=\"12\" lengthAdjust=\"spacingAndGlyphs\" textLength=\"159\" x=\"205.5\" y=\"71.1074\">b :&gt; ISQSpaceTime::width</text><line style=\"stroke: #A80036; stroke-width: 1.5;\" x1=\"203.5\" x2=\"366.5\" y1=\"78.9375\" y2=\"78.9375\"/></a><!--MD5=[09b614a08d8cba4a07c9adeb5e0fee81]\n",
       "class E3--><a href=\"psysml:f3a385fe-c72f-4489-86aa-e832e0f5c54b\" target=\"_top\" title=\"psysml:f3a385fe-c72f-4489-86aa-e832e0f5c54b\" xlink:actuate=\"onRequest\" xlink:href=\"psysml:f3a385fe-c72f-4489-86aa-e832e0f5c54b\" xlink:show=\"new\" xlink:title=\"psysml:f3a385fe-c72f-4489-86aa-e832e0f5c54b\" xlink:type=\"simple\"><rect fill=\"#FEFECE\" filter=\"url(#f11mqpwqpf0o80)\" height=\"45.9375\" id=\"E3\" style=\"stroke: #A80036; stroke-width: 1.5;\" width=\"70\" x=\"170\" y=\"147\"/><text fill=\"#000000\" font-family=\"sans-serif\" font-size=\"12\" font-style=\"italic\" lengthAdjust=\"spacingAndGlyphs\" textLength=\"68\" x=\"171\" y=\"163.1387\">«part  def»</text><text fill=\"#000000\" font-family=\"sans-serif\" font-size=\"12\" lengthAdjust=\"spacingAndGlyphs\" textLength=\"16\" x=\"197\" y=\"177.1074\">P1</text><line style=\"stroke: #A80036; stroke-width: 1.5;\" x1=\"171\" x2=\"239\" y1=\"184.9375\" y2=\"184.9375\"/></a><!--MD5=[ebbe1d658d1005bcc118a6aa81145e00]\n",
       "class E4--><a href=\"psysml:12c3f617-858e-4877-bab3-72d077a58110\" target=\"_top\" title=\"psysml:12c3f617-858e-4877-bab3-72d077a58110\" xlink:actuate=\"onRequest\" xlink:href=\"psysml:12c3f617-858e-4877-bab3-72d077a58110\" xlink:show=\"new\" xlink:title=\"psysml:12c3f617-858e-4877-bab3-72d077a58110\" xlink:type=\"simple\"><rect fill=\"#FEFECE\" filter=\"url(#f11mqpwqpf0o80)\" height=\"45.9375\" id=\"E4\" rx=\"10\" ry=\"10\" style=\"stroke: #A80036; stroke-width: 1.5;\" width=\"50\" x=\"180\" y=\"253\"/><text fill=\"#000000\" font-family=\"sans-serif\" font-size=\"12\" font-style=\"italic\" lengthAdjust=\"spacingAndGlyphs\" textLength=\"40\" x=\"185\" y=\"269.1387\">«port»</text><text fill=\"#000000\" font-family=\"sans-serif\" font-size=\"12\" lengthAdjust=\"spacingAndGlyphs\" textLength=\"40\" x=\"183\" y=\"283.1074\">porig1</text><line style=\"stroke: #A80036; stroke-width: 1.5;\" x1=\"181\" x2=\"229\" y1=\"290.9375\" y2=\"290.9375\"/></a><!--MD5=[270fce915f116d4de14055a7c1d9a0f3]\n",
       "class E5--><a href=\"psysml:f19cd7cf-ead7-487d-acf0-998c02877f08\" target=\"_top\" title=\"psysml:f19cd7cf-ead7-487d-acf0-998c02877f08\" xlink:actuate=\"onRequest\" xlink:href=\"psysml:f19cd7cf-ead7-487d-acf0-998c02877f08\" xlink:show=\"new\" xlink:title=\"psysml:f19cd7cf-ead7-487d-acf0-998c02877f08\" xlink:type=\"simple\"><rect fill=\"#FEFECE\" filter=\"url(#f11mqpwqpf0o80)\" height=\"45.9375\" id=\"E5\" rx=\"10\" ry=\"10\" style=\"stroke: #A80036; stroke-width: 1.5;\" width=\"50\" x=\"117\" y=\"41\"/><text fill=\"#000000\" font-family=\"sans-serif\" font-size=\"12\" font-style=\"italic\" lengthAdjust=\"spacingAndGlyphs\" textLength=\"40\" x=\"122\" y=\"57.1387\">«part»</text><text fill=\"#000000\" font-family=\"sans-serif\" font-size=\"12\" lengthAdjust=\"spacingAndGlyphs\" textLength=\"40\" x=\"120\" y=\"71.1074\">p1: P1</text><line style=\"stroke: #A80036; stroke-width: 1.5;\" x1=\"118\" x2=\"166\" y1=\"78.9375\" y2=\"78.9375\"/></a><!--MD5=[60a26617385b1d2d0262a64233df1f8d]\n",
       "class E6--><a href=\"psysml:7bd77f36-e1da-430e-90ed-8aecc87780c5\" target=\"_top\" title=\"psysml:7bd77f36-e1da-430e-90ed-8aecc87780c5\" xlink:actuate=\"onRequest\" xlink:href=\"psysml:7bd77f36-e1da-430e-90ed-8aecc87780c5\" xlink:show=\"new\" xlink:title=\"psysml:7bd77f36-e1da-430e-90ed-8aecc87780c5\" xlink:type=\"simple\"><rect fill=\"#FEFECE\" filter=\"url(#f11mqpwqpf0o80)\" height=\"45.9375\" id=\"E6\" rx=\"10\" ry=\"10\" style=\"stroke: #A80036; stroke-width: 1.5;\" width=\"42\" x=\"93\" y=\"147\"/><text fill=\"#000000\" font-family=\"sans-serif\" font-size=\"12\" font-style=\"italic\" lengthAdjust=\"spacingAndGlyphs\" textLength=\"40\" x=\"94\" y=\"163.1387\">«port»</text><text fill=\"#000000\" font-family=\"sans-serif\" font-size=\"12\" lengthAdjust=\"spacingAndGlyphs\" textLength=\"24\" x=\"100\" y=\"177.1074\">po1</text><line style=\"stroke: #A80036; stroke-width: 1.5;\" x1=\"94\" x2=\"134\" y1=\"184.9375\" y2=\"184.9375\"/></a><!--MD5=[2156ba9850f5573cc1fc38a6a4b2f02b]\n",
       "class E7--><a href=\"psysml:3758ddaf-2d7c-4372-b46d-cbe5af56d102\" target=\"_top\" title=\"psysml:3758ddaf-2d7c-4372-b46d-cbe5af56d102\" xlink:actuate=\"onRequest\" xlink:href=\"psysml:3758ddaf-2d7c-4372-b46d-cbe5af56d102\" xlink:show=\"new\" xlink:title=\"psysml:3758ddaf-2d7c-4372-b46d-cbe5af56d102\" xlink:type=\"simple\"><rect fill=\"#FEFECE\" filter=\"url(#f11mqpwqpf0o80)\" height=\"45.9375\" id=\"E7\" rx=\"10\" ry=\"10\" style=\"stroke: #A80036; stroke-width: 1.5;\" width=\"50\" x=\"32\" y=\"41\"/><text fill=\"#000000\" font-family=\"sans-serif\" font-size=\"12\" font-style=\"italic\" lengthAdjust=\"spacingAndGlyphs\" textLength=\"40\" x=\"37\" y=\"57.1387\">«part»</text><text fill=\"#000000\" font-family=\"sans-serif\" font-size=\"12\" lengthAdjust=\"spacingAndGlyphs\" textLength=\"40\" x=\"35\" y=\"71.1074\">p2: P1</text><line style=\"stroke: #A80036; stroke-width: 1.5;\" x1=\"33\" x2=\"81\" y1=\"78.9375\" y2=\"78.9375\"/></a><!--MD5=[b9389687b975829384b498ac4b7476b2]\n",
       "class E8--><a href=\"psysml:009efb1a-81d8-4f5e-8e24-a878e8625106\" target=\"_top\" title=\"psysml:009efb1a-81d8-4f5e-8e24-a878e8625106\" xlink:actuate=\"onRequest\" xlink:href=\"psysml:009efb1a-81d8-4f5e-8e24-a878e8625106\" xlink:show=\"new\" xlink:title=\"psysml:009efb1a-81d8-4f5e-8e24-a878e8625106\" xlink:type=\"simple\"><rect fill=\"#FEFECE\" filter=\"url(#f11mqpwqpf0o80)\" height=\"45.9375\" id=\"E8\" rx=\"10\" ry=\"10\" style=\"stroke: #A80036; stroke-width: 1.5;\" width=\"46\" x=\"63\" y=\"253\"/><text fill=\"#000000\" font-family=\"sans-serif\" font-size=\"12\" font-style=\"italic\" lengthAdjust=\"spacingAndGlyphs\" textLength=\"40\" x=\"66\" y=\"269.1387\">«port»</text><text fill=\"#000000\" font-family=\"sans-serif\" font-size=\"12\" lengthAdjust=\"spacingAndGlyphs\" textLength=\"36\" x=\"66\" y=\"283.1074\">pdest</text><line style=\"stroke: #A80036; stroke-width: 1.5;\" x1=\"64\" x2=\"108\" y1=\"290.9375\" y2=\"290.9375\"/></a><!--MD5=[4672eba38e49728da53d11aeb285b987]\n",
       "reverse link E3 to E4--><a href=\"psysml:97bd4c72-9c32-47a6-a147-0b42cd362230\" target=\"_top\" title=\"psysml:97bd4c72-9c32-47a6-a147-0b42cd362230\" xlink:actuate=\"onRequest\" xlink:href=\"psysml:97bd4c72-9c32-47a6-a147-0b42cd362230\" xlink:show=\"new\" xlink:title=\"psysml:97bd4c72-9c32-47a6-a147-0b42cd362230\" xlink:type=\"simple\"><path d=\"M192.84,206.44 C191.7,221.87 192.21,239.47 194.36,252.98 \" fill=\"none\" id=\"E3&lt;-E4\" style=\"stroke: #A80036; stroke-width: 1.0;\"/><polygon fill=\"#FFFFFF\" points=\"194.35,193.06,189.7032,198.5743,193.006,204.9845,197.6528,199.4702,194.35,193.06\" style=\"stroke: #A80036; stroke-width: 1.0;\"/><text fill=\"#000000\" font-family=\"sans-serif\" font-size=\"13\" lengthAdjust=\"spacingAndGlyphs\" textLength=\"8\" x=\"182.4255\" y=\"241.8709\">1</text></a><!--MD5=[4672eba38e49728da53d11aeb285b987]\n",
       "reverse link E3 to E4--><a href=\"psysml:dd790abf-ac6c-4371-bdbb-56cf5ab0181d\" target=\"_top\" title=\"psysml:dd790abf-ac6c-4371-bdbb-56cf5ab0181d\" xlink:actuate=\"onRequest\" xlink:href=\"psysml:dd790abf-ac6c-4371-bdbb-56cf5ab0181d\" xlink:show=\"new\" xlink:title=\"psysml:dd790abf-ac6c-4371-bdbb-56cf5ab0181d\" xlink:type=\"simple\"><path d=\"M218.01,208.34 C219.03,223.3 218.45,240.02 216.27,252.98 \" fill=\"none\" id=\"E3&lt;-E4-1\" style=\"stroke: #A80036; stroke-width: 1.0; stroke-dasharray: 7.0,7.0;\"/><ellipse cx=\"217.1693\" cy=\"201.0093\" fill=\"#FFFFFF\" rx=\"8\" ry=\"8\" style=\"stroke: #A80036; stroke-width: 1.0;\"/><line style=\"stroke: #A80036; stroke-width: 1.0;\" x1=\"218.0687\" x2=\"216.27\" y1=\"208.9586\" y2=\"193.06\"/><line style=\"stroke: #A80036; stroke-width: 1.0;\" x1=\"209.2201\" x2=\"225.1186\" y1=\"201.9086\" y2=\"200.1099\"/><text fill=\"#000000\" font-family=\"sans-serif\" font-size=\"13\" lengthAdjust=\"spacingAndGlyphs\" textLength=\"8\" x=\"210.2238\" y=\"241.8709\">1</text></a><!--MD5=[e9be52314489bd878ff4c7144b63c9e1]\n",
       "link E5 to E3--><a href=\"psysml:a968a559-ae75-4ff7-b264-66e5a143558d\" target=\"_top\" title=\"psysml:a968a559-ae75-4ff7-b264-66e5a143558d\" xlink:actuate=\"onRequest\" xlink:href=\"psysml:a968a559-ae75-4ff7-b264-66e5a143558d\" xlink:show=\"new\" xlink:title=\"psysml:a968a559-ae75-4ff7-b264-66e5a143558d\" xlink:type=\"simple\"><path d=\"M155.36,87.06 C162.88,99.47 172.49,115.33 181.24,129.78 \" fill=\"none\" id=\"E5-&gt;E3\" style=\"stroke: #A80036; stroke-width: 1.0;\"/><polygon fill=\"#FFFFFF\" points=\"191.66,146.98,175.8217,134.3646,187.792,127.1044,191.66,146.98\" style=\"stroke: #A80036; stroke-width: 1.0;\"/><ellipse cx=\"174.5758\" cy=\"128.4538\" fill=\"#A80036\" rx=\"2\" ry=\"2\" style=\"stroke: #A80036; stroke-width: 1.0;\"/><ellipse cx=\"183.126\" cy=\"123.2679\" fill=\"#A80036\" rx=\"2\" ry=\"2\" style=\"stroke: #A80036; stroke-width: 1.0;\"/></a><!--MD5=[85d356282659285ab4b2cfe2f634dd2b]\n",
       "reverse link E5 to E6--><a href=\"psysml:167a231e-25d4-4100-8e0d-53e0a4e750c8\" target=\"_top\" title=\"psysml:167a231e-25d4-4100-8e0d-53e0a4e750c8\" xlink:actuate=\"onRequest\" xlink:href=\"psysml:167a231e-25d4-4100-8e0d-53e0a4e750c8\" xlink:show=\"new\" xlink:title=\"psysml:167a231e-25d4-4100-8e0d-53e0a4e750c8\" xlink:type=\"simple\"><path d=\"M132.59,99.96 C128.4,115.51 123.6,133.33 119.93,146.98 \" fill=\"none\" id=\"E5&lt;-E6\" style=\"stroke: #A80036; stroke-width: 1.0;\"/><polygon fill=\"#FFFFFF\" points=\"136.06,87.06,130.641,91.8176,132.9484,98.6496,138.3674,93.892,136.06,87.06\" style=\"stroke: #A80036; stroke-width: 1.0;\"/><text fill=\"#000000\" font-family=\"sans-serif\" font-size=\"13\" lengthAdjust=\"spacingAndGlyphs\" textLength=\"8\" x=\"112.4487\" y=\"135.8709\">1</text></a><!--MD5=[f667431f98296947986a1a7595a31603]\n",
       "link E6 to E4--><a href=\"psysml:57ff51c2-e85d-4f72-aa72-bbf7c251408b\" target=\"_top\" title=\"psysml:57ff51c2-e85d-4f72-aa72-bbf7c251408b\" xlink:actuate=\"onRequest\" xlink:href=\"psysml:57ff51c2-e85d-4f72-aa72-bbf7c251408b\" xlink:show=\"new\" xlink:title=\"psysml:57ff51c2-e85d-4f72-aa72-bbf7c251408b\" xlink:type=\"simple\"><path d=\"M133.3,193.06 C144.64,206.02 159.28,222.74 172.36,237.7 \" fill=\"none\" id=\"E6-&gt;E4\" style=\"stroke: #A80036; stroke-width: 1.0;\"/><polygon fill=\"#FFFFFF\" points=\"185.73,252.98,167.9517,243.2882,178.489,234.0705,185.73,252.98\" style=\"stroke: #A80036; stroke-width: 1.0;\"/><line style=\"stroke: #A80036; stroke-width: 2.0;\" x1=\"165.4497\" x2=\"175.9871\" y1=\"240.4281\" y2=\"231.2104\"/></a><!--MD5=[14ccda38c055a5c0da953d572bc50960]\n",
       "link E7 to E3--><a href=\"psysml:a1db7df5-c75d-4551-8d1a-744022949b4d\" target=\"_top\" title=\"psysml:a1db7df5-c75d-4551-8d1a-744022949b4d\" xlink:actuate=\"onRequest\" xlink:href=\"psysml:a1db7df5-c75d-4551-8d1a-744022949b4d\" xlink:show=\"new\" xlink:title=\"psysml:a1db7df5-c75d-4551-8d1a-744022949b4d\" xlink:type=\"simple\"><path d=\"M82.11,82.64 C102.61,97.05 132.18,117.83 157.18,135.39 \" fill=\"none\" id=\"E7-&gt;E3\" style=\"stroke: #A80036; stroke-width: 1.0;\"/><polygon fill=\"#FFFFFF\" points=\"173.58,146.92,154.011,141.7187,162.0629,130.266,173.58,146.92\" style=\"stroke: #A80036; stroke-width: 1.0;\"/><ellipse cx=\"150.4983\" cy=\"136.8043\" fill=\"#A80036\" rx=\"2\" ry=\"2\" style=\"stroke: #A80036; stroke-width: 1.0;\"/><ellipse cx=\"156.2497\" cy=\"128.6238\" fill=\"#A80036\" rx=\"2\" ry=\"2\" style=\"stroke: #A80036; stroke-width: 1.0;\"/></a><!--MD5=[dc164f5e8a733ab456ef1add180e9e34]\n",
       "reverse link E7 to E8--><a href=\"psysml:f57d57d9-12d9-410c-acd5-2b53e0560bbf\" target=\"_top\" title=\"psysml:f57d57d9-12d9-410c-acd5-2b53e0560bbf\" xlink:actuate=\"onRequest\" xlink:href=\"psysml:f57d57d9-12d9-410c-acd5-2b53e0560bbf\" xlink:show=\"new\" xlink:title=\"psysml:f57d57d9-12d9-410c-acd5-2b53e0560bbf\" xlink:type=\"simple\"><path d=\"M52.05,100.09 C53.65,143.61 64.25,216.5 74.75,252.9 \" fill=\"none\" id=\"E7&lt;-E8\" style=\"stroke: #A80036; stroke-width: 1.0;\"/><polygon fill=\"#FFFFFF\" points=\"51.85,87.08,47.9362,93.1366,52.0216,99.0788,55.9354,93.0222,51.85,87.08\" style=\"stroke: #A80036; stroke-width: 1.0;\"/><text fill=\"#000000\" font-family=\"sans-serif\" font-size=\"13\" lengthAdjust=\"spacingAndGlyphs\" textLength=\"8\" x=\"62.6516\" y=\"241.7694\">1</text></a><!--MD5=[dc164f5e8a733ab456ef1add180e9e34]\n",
       "reverse link E7 to E8--><a href=\"psysml:b8781950-4d8a-4fb9-9fe0-7c7847cd278f\" target=\"_top\" title=\"psysml:b8781950-4d8a-4fb9-9fe0-7c7847cd278f\" xlink:actuate=\"onRequest\" xlink:href=\"psysml:b8781950-4d8a-4fb9-9fe0-7c7847cd278f\" xlink:show=\"new\" xlink:title=\"psysml:b8781950-4d8a-4fb9-9fe0-7c7847cd278f\" xlink:type=\"simple\"><path d=\"M72.64,101.8 C83.15,145.5 92.39,216.97 91.63,252.9 \" fill=\"none\" id=\"E7&lt;-E8-1\" style=\"stroke: #A80036; stroke-width: 1.0; stroke-dasharray: 7.0,7.0;\"/><ellipse cx=\"70.7794\" cy=\"94.813\" fill=\"#FFFFFF\" rx=\"8\" ry=\"8\" style=\"stroke: #A80036; stroke-width: 1.0;\"/><line style=\"stroke: #A80036; stroke-width: 1.0;\" x1=\"72.8289\" x2=\"68.73\" y1=\"102.5461\" y2=\"87.08\"/><line style=\"stroke: #A80036; stroke-width: 1.0;\" x1=\"63.0464\" x2=\"78.5125\" y1=\"96.8625\" y2=\"92.7636\"/><text fill=\"#000000\" font-family=\"sans-serif\" font-size=\"13\" lengthAdjust=\"spacingAndGlyphs\" textLength=\"8\" x=\"94.2181\" y=\"241.7694\">1</text></a><!--MD5=[0a839d0f80c2d72d4b9b307f046d0de8]\n",
       "link E6 to E8--><a href=\"psysml:117cd7b6-777c-4755-88f6-d7a432271d85\" target=\"_top\" title=\"psysml:117cd7b6-777c-4755-88f6-d7a432271d85\" xlink:actuate=\"onRequest\" xlink:href=\"psysml:117cd7b6-777c-4755-88f6-d7a432271d85\" xlink:show=\"new\" xlink:title=\"psysml:117cd7b6-777c-4755-88f6-d7a432271d85\" xlink:type=\"simple\"><path d=\"M97.42,193.06 C89.86,210.7 83.23,235.34 81.29,252.98 \" fill=\"none\" id=\"E6-E8\" style=\"stroke: #A80036; stroke-width: 3.0;\"/><text fill=\"#000000\" font-family=\"sans-serif\" font-size=\"13\" lengthAdjust=\"spacingAndGlyphs\" textLength=\"7\" x=\"80.9648\" y=\"241.8709\">*</text></a><!--MD5=[0a839d0f80c2d72d4b9b307f046d0de8]\n",
       "link E6 to E8--><a href=\"psysml:c7325d6a-fceb-4e80-be50-eff52df502df\" target=\"_top\" title=\"psysml:c7325d6a-fceb-4e80-be50-eff52df502df\" xlink:actuate=\"onRequest\" xlink:href=\"psysml:c7325d6a-fceb-4e80-be50-eff52df502df\" xlink:show=\"new\" xlink:title=\"psysml:c7325d6a-fceb-4e80-be50-eff52df502df\" xlink:type=\"simple\"><path d=\"M119.33,193.06 C117.55,210.7 110.92,235.34 103.2,252.98 \" fill=\"none\" id=\"E6-E8-1\" style=\"stroke: #A80036; stroke-width: 3.0;\"/><text fill=\"#000000\" font-family=\"sans-serif\" font-size=\"13\" lengthAdjust=\"spacingAndGlyphs\" textLength=\"7\" x=\"99.8819\" y=\"241.8709\">*</text></a><!--MD5=[eb5c6c35ae4faa63f8837b4a12e3998d]\n",
       "@startuml\r\n",
       "skinparam wrapWidth 300\r\n",
       "hide circle\r\n",
       "\r\n",
       "package \"AliasTest\" as E1  [[psysml:6242facc-ff06-44d1-b4f3-467b2ef71334 ]]  {\r\n",
       "comp usage \"b :> ISQSpaceTime::width\" as E2  <<(T,blue) attribute>> [[psysml:c7d5118b-0b42-4b21-9071-aba180ff097b ]] {\r\n",
       "}\r\n",
       "comp def \"P1\" as E3  <<(T,blue) part  def>> [[psysml:f3a385fe-c72f-4489-86aa-e832e0f5c54b ]] {\r\n",
       "}\r\n",
       "comp usage \"porig1 \" as E4  <<(T,blue) port>> [[psysml:12c3f617-858e-4877-bab3-72d077a58110 ]] {\r\n",
       "}\r\n",
       "comp usage \"p1: P1 \" as E5  <<(T,blue) part>> [[psysml:f19cd7cf-ead7-487d-acf0-998c02877f08 ]] {\r\n",
       "}\r\n",
       "comp usage \"po1 \" as E6  <<(T,blue) port>> [[psysml:7bd77f36-e1da-430e-90ed-8aecc87780c5 ]] {\r\n",
       "}\r\n",
       "comp usage \"p2: P1 \" as E7  <<(T,blue) part>> [[psysml:3758ddaf-2d7c-4372-b46d-cbe5af56d102 ]] {\r\n",
       "}\r\n",
       "comp usage \"pdest \" as E8  <<(T,blue) port>> [[psysml:009efb1a-81d8-4f5e-8e24-a878e8625106 ]] {\r\n",
       "}\r\n",
       "}\r\n",
       "E3 o- - \"1\"E4 [[psysml:97bd4c72-9c32-47a6-a147-0b42cd362230 ]] \r\n",
       "E3 +.. \"1\"E4 [[psysml:dd790abf-ac6c-4371-bdbb-56cf5ab0181d ]] \r\n",
       "E5 - -:|> E3 [[psysml:a968a559-ae75-4ff7-b264-66e5a143558d ]] \r\n",
       "E5 o- - \"1\"E6 [[psysml:167a231e-25d4-4100-8e0d-53e0a4e750c8 ]] \r\n",
       "E6 - -||> E4 [[psysml:57ff51c2-e85d-4f72-aa72-bbf7c251408b ]] \r\n",
       "E7 - -:|> E3 [[psysml:a1db7df5-c75d-4551-8d1a-744022949b4d ]] \r\n",
       "E7 o- - \"1\"E8 [[psysml:f57d57d9-12d9-410c-acd5-2b53e0560bbf ]] \r\n",
       "E7 +.. \"1\"E8 [[psysml:b8781950-4d8a-4fb9-9fe0-7c7847cd278f ]] \r\n",
       "E6 -[thickness=3]- \"*\"E8 [[psysml:117cd7b6-777c-4755-88f6-d7a432271d85 ]] \r\n",
       "E6 -[thickness=3]- \"*\"E8 [[psysml:c7325d6a-fceb-4e80-be50-eff52df502df ]] \r\n",
       "@enduml\r\n",
       "\n",
       "PlantUML version 1.2020.13(Sat Jun 13 12:26:38 UTC 2020)\n",
       "(EPL source distribution)\n",
       "Java Runtime: OpenJDK Runtime Environment\n",
       "JVM: OpenJDK 64-Bit Server VM\n",
       "Default Encoding: UTF-8\n",
       "Language: en\n",
       "Country: null\n",
       "--></g></svg>"
      ]
     },
     "execution_count": 29,
     "metadata": {},
     "output_type": "execute_result"
    }
   ],
   "source": [
    "%viz --style=\"STDCOLOR\" --view=\"MIXED\" \"AliasTest\""
   ]
  },
  {
   "cell_type": "code",
   "execution_count": 30,
   "id": "0191a02d",
   "metadata": {
    "execution": {
     "iopub.execute_input": "2022-03-21T07:52:17.278746Z",
     "iopub.status.busy": "2022-03-21T07:52:17.278317Z",
     "iopub.status.idle": "2022-03-21T07:52:17.343394Z",
     "shell.execute_reply": "2022-03-21T07:52:17.343039Z"
    }
   },
   "outputs": [
    {
     "data": {
      "image/svg+xml": [
       "<?xml version=\"1.0\" encoding=\"UTF-8\" standalone=\"no\"?><svg xmlns=\"http://www.w3.org/2000/svg\" xmlns:xlink=\"http://www.w3.org/1999/xlink\" contentScriptType=\"application/ecmascript\" contentStyleType=\"text/css\" height=\"327px\" preserveAspectRatio=\"none\" style=\"width:484px;height:327px;\" version=\"1.1\" viewBox=\"0 0 484 327\" width=\"484px\" zoomAndPan=\"magnify\"><defs><filter height=\"300%\" id=\"fo3rcb94inc9n\" width=\"300%\" x=\"-1\" y=\"-1\"><feGaussianBlur result=\"blurOut\" stdDeviation=\"2.0\"/><feColorMatrix in=\"blurOut\" result=\"blurOut2\" type=\"matrix\" values=\"0 0 0 0 0 0 0 0 0 0 0 0 0 0 0 0 0 0 .4 0\"/><feOffset dx=\"4.0\" dy=\"4.0\" in=\"blurOut2\" result=\"blurOut3\"/><feBlend in=\"SourceGraphic\" in2=\"blurOut3\" mode=\"normal\"/></filter></defs><g><!--MD5=[fbc87193dbaf4d95561dea2c320d4a47]\n",
       "cluster E1--><a href=\"psysml:6242facc-ff06-44d1-b4f3-467b2ef71334\" target=\"_top\" title=\"psysml:6242facc-ff06-44d1-b4f3-467b2ef71334\" xlink:actuate=\"onRequest\" xlink:href=\"psysml:6242facc-ff06-44d1-b4f3-467b2ef71334\" xlink:show=\"new\" xlink:title=\"psysml:6242facc-ff06-44d1-b4f3-467b2ef71334\" xlink:type=\"simple\"><polygon fill=\"#FFFFFF\" filter=\"url(#fo3rcb94inc9n)\" points=\"16,6,84,6,91,28.2969,462,28.2969,462,315,16,315,16,6\" style=\"stroke: #000000; stroke-width: 1.5;\"/><line style=\"stroke: #000000; stroke-width: 1.5;\" x1=\"16\" x2=\"91\" y1=\"28.2969\" y2=\"28.2969\"/><text fill=\"#000000\" font-family=\"sans-serif\" font-size=\"14\" font-weight=\"bold\" lengthAdjust=\"spacingAndGlyphs\" textLength=\"62\" x=\"20\" y=\"20.9951\">AliasTest</text></a><!--MD5=[b4997ac47864f28c2f74865a473b2911]\n",
       "class E2--><a href=\"psysml:c7d5118b-0b42-4b21-9071-aba180ff097b\" target=\"_top\" title=\"psysml:c7d5118b-0b42-4b21-9071-aba180ff097b\" xlink:actuate=\"onRequest\" xlink:href=\"psysml:c7d5118b-0b42-4b21-9071-aba180ff097b\" xlink:show=\"new\" xlink:title=\"psysml:c7d5118b-0b42-4b21-9071-aba180ff097b\" xlink:type=\"simple\"><rect fill=\"#FEFECE\" filter=\"url(#fo3rcb94inc9n)\" height=\"45.9375\" id=\"E2\" rx=\"10\" ry=\"10\" style=\"stroke: #A80036; stroke-width: 1.5;\" width=\"191\" x=\"254.5\" y=\"41\"/><ellipse cx=\"269.5\" cy=\"59.9688\" fill=\"#FFA500\" rx=\"11\" ry=\"11\" style=\"stroke: #A80036; stroke-width: 1.0;\"/><path d=\"M269.25,65.4375 Q267.5,65.4375 266.5469,64.4063 Q265.6094,63.3594 265.6094,61.5156 L265.6094,54.625 L267.6719,54.625 L267.6719,54.7813 Q267.5781,54.875 267.5469,55.0156 Q267.5313,55.1406 267.5313,55.4063 L267.5313,61.5313 Q267.5313,62.625 267.9063,63.25 Q268.2813,63.875 269.2656,63.875 Q270.25,63.875 270.6406,63.25 Q271.0313,62.625 271.0313,61.4844 L271.0313,54.625 L272.9063,54.625 L272.9063,61.4688 Q272.9063,63.5 271.875,64.4688 Q270.8594,65.4375 269.25,65.4375 Z \"/><text fill=\"#000000\" font-family=\"sans-serif\" font-size=\"12\" font-style=\"italic\" lengthAdjust=\"spacingAndGlyphs\" textLength=\"69\" x=\"328.5\" y=\"57.1387\">«attribute»</text><text fill=\"#000000\" font-family=\"sans-serif\" font-size=\"12\" lengthAdjust=\"spacingAndGlyphs\" textLength=\"159\" x=\"283.5\" y=\"71.1074\">b :&gt; ISQSpaceTime::width</text><line style=\"stroke: #A80036; stroke-width: 1.5;\" x1=\"255.5\" x2=\"444.5\" y1=\"78.9375\" y2=\"78.9375\"/></a><!--MD5=[09b614a08d8cba4a07c9adeb5e0fee81]\n",
       "class E3--><a href=\"psysml:f3a385fe-c72f-4489-86aa-e832e0f5c54b\" target=\"_top\" title=\"psysml:f3a385fe-c72f-4489-86aa-e832e0f5c54b\" xlink:actuate=\"onRequest\" xlink:href=\"psysml:f3a385fe-c72f-4489-86aa-e832e0f5c54b\" xlink:show=\"new\" xlink:title=\"psysml:f3a385fe-c72f-4489-86aa-e832e0f5c54b\" xlink:type=\"simple\"><rect fill=\"#FEFECE\" filter=\"url(#fo3rcb94inc9n)\" height=\"40\" id=\"E3\" style=\"stroke: #A80036; stroke-width: 1.5;\" width=\"48\" x=\"209\" y=\"150\"/><ellipse cx=\"224\" cy=\"166\" fill=\"#008000\" rx=\"11\" ry=\"11\" style=\"stroke: #A80036; stroke-width: 1.0;\"/><path d=\"M220.875,171 L220.875,160.4063 L224.1094,160.4063 Q226.0156,160.4063 226.9219,161.1563 Q227.8438,161.9063 227.8438,163.0781 Q227.8438,163.7656 227.4531,164.4219 Q227.0781,165.0781 226.3594,165.375 Q227.2188,165.75 227.7344,166.4375 Q228.25,167.125 228.25,167.9375 Q228.25,169.3125 227.2188,170.1563 Q226.2031,171 224.0938,171 L220.875,171 Z M222.7969,164.6406 L223.9531,164.6406 Q225.0781,164.6406 225.4844,164.2656 Q225.9063,163.875 225.9063,163.25 Q225.9063,162.6719 225.4844,162.3125 Q225.0625,161.9531 224.125,161.9531 L222.7969,161.9531 L222.7969,164.6406 Z M222.7969,169.4219 L224.2969,169.4219 Q225.2031,169.4219 225.7344,169.0313 Q226.2656,168.6406 226.2656,167.8906 Q226.2656,167.125 225.7656,166.6563 Q225.2656,166.1719 224,166.1719 L222.7969,166.1719 L222.7969,169.4219 Z \"/><text fill=\"#000000\" font-family=\"sans-serif\" font-size=\"12\" lengthAdjust=\"spacingAndGlyphs\" textLength=\"16\" x=\"238\" y=\"170.1543\">P1</text><line style=\"stroke: #A80036; stroke-width: 1.5;\" x1=\"210\" x2=\"256\" y1=\"182\" y2=\"182\"/></a><!--MD5=[ebbe1d658d1005bcc118a6aa81145e00]\n",
       "class E4--><a href=\"psysml:12c3f617-858e-4877-bab3-72d077a58110\" target=\"_top\" title=\"psysml:12c3f617-858e-4877-bab3-72d077a58110\" xlink:actuate=\"onRequest\" xlink:href=\"psysml:12c3f617-858e-4877-bab3-72d077a58110\" xlink:show=\"new\" xlink:title=\"psysml:12c3f617-858e-4877-bab3-72d077a58110\" xlink:type=\"simple\"><rect fill=\"#FEFECE\" filter=\"url(#fo3rcb94inc9n)\" height=\"45.9375\" id=\"E4\" rx=\"10\" ry=\"10\" style=\"stroke: #A80036; stroke-width: 1.5;\" width=\"76\" x=\"195\" y=\"253\"/><ellipse cx=\"210\" cy=\"271.9688\" fill=\"#0000FF\" rx=\"11\" ry=\"11\" style=\"stroke: #A80036; stroke-width: 1.0;\"/><path d=\"M206.8125,276.9688 L206.8125,266.375 L210.4219,266.375 Q211.6406,266.375 212.4375,266.8125 Q213.2344,267.2344 213.6094,267.9375 Q214,268.6406 214,269.4844 Q214,270.3281 213.625,271.0156 Q213.2656,271.7031 212.4688,272.125 Q211.6875,272.5313 210.5,272.5313 L208.7656,272.5313 L208.7656,276.9688 L206.8125,276.9688 Z M208.7656,270.9375 L210.375,270.9375 Q211.1875,270.9375 211.6094,270.5313 Q212.0313,270.125 212.0313,269.4844 Q212.0313,268.8594 211.6094,268.4531 Q211.1875,268.0469 210.3906,268.0469 L208.7656,268.0469 L208.7656,270.9375 Z \"/><text fill=\"#000000\" font-family=\"sans-serif\" font-size=\"12\" font-style=\"italic\" lengthAdjust=\"spacingAndGlyphs\" textLength=\"40\" x=\"226\" y=\"269.1387\">«port»</text><text fill=\"#000000\" font-family=\"sans-serif\" font-size=\"12\" lengthAdjust=\"spacingAndGlyphs\" textLength=\"40\" x=\"224\" y=\"283.1074\">porig1</text><line style=\"stroke: #A80036; stroke-width: 1.5;\" x1=\"196\" x2=\"270\" y1=\"290.9375\" y2=\"290.9375\"/></a><!--MD5=[270fce915f116d4de14055a7c1d9a0f3]\n",
       "class E5--><a href=\"psysml:f19cd7cf-ead7-487d-acf0-998c02877f08\" target=\"_top\" title=\"psysml:f19cd7cf-ead7-487d-acf0-998c02877f08\" xlink:actuate=\"onRequest\" xlink:href=\"psysml:f19cd7cf-ead7-487d-acf0-998c02877f08\" xlink:show=\"new\" xlink:title=\"psysml:f19cd7cf-ead7-487d-acf0-998c02877f08\" xlink:type=\"simple\"><rect fill=\"#FEFECE\" filter=\"url(#fo3rcb94inc9n)\" height=\"45.9375\" id=\"E5\" rx=\"10\" ry=\"10\" style=\"stroke: #A80036; stroke-width: 1.5;\" width=\"76\" x=\"143\" y=\"41\"/><ellipse cx=\"158\" cy=\"59.9688\" fill=\"#32CD32\" rx=\"11\" ry=\"11\" style=\"stroke: #A80036; stroke-width: 1.0;\"/><path d=\"M154.8125,64.9688 L154.8125,54.375 L158.4219,54.375 Q159.6406,54.375 160.4375,54.8125 Q161.2344,55.2344 161.6094,55.9375 Q162,56.6406 162,57.4844 Q162,58.3281 161.625,59.0156 Q161.2656,59.7031 160.4688,60.125 Q159.6875,60.5313 158.5,60.5313 L156.7656,60.5313 L156.7656,64.9688 L154.8125,64.9688 Z M156.7656,58.9375 L158.375,58.9375 Q159.1875,58.9375 159.6094,58.5313 Q160.0313,58.125 160.0313,57.4844 Q160.0313,56.8594 159.6094,56.4531 Q159.1875,56.0469 158.3906,56.0469 L156.7656,56.0469 L156.7656,58.9375 Z \"/><text fill=\"#000000\" font-family=\"sans-serif\" font-size=\"12\" font-style=\"italic\" lengthAdjust=\"spacingAndGlyphs\" textLength=\"40\" x=\"174\" y=\"57.1387\">«part»</text><text fill=\"#000000\" font-family=\"sans-serif\" font-size=\"12\" lengthAdjust=\"spacingAndGlyphs\" textLength=\"40\" x=\"172\" y=\"71.1074\">p1: P1</text><line style=\"stroke: #A80036; stroke-width: 1.5;\" x1=\"144\" x2=\"218\" y1=\"78.9375\" y2=\"78.9375\"/></a><!--MD5=[60a26617385b1d2d0262a64233df1f8d]\n",
       "class E6--><a href=\"psysml:7bd77f36-e1da-430e-90ed-8aecc87780c5\" target=\"_top\" title=\"psysml:7bd77f36-e1da-430e-90ed-8aecc87780c5\" xlink:actuate=\"onRequest\" xlink:href=\"psysml:7bd77f36-e1da-430e-90ed-8aecc87780c5\" xlink:show=\"new\" xlink:title=\"psysml:7bd77f36-e1da-430e-90ed-8aecc87780c5\" xlink:type=\"simple\"><rect fill=\"#FEFECE\" filter=\"url(#fo3rcb94inc9n)\" height=\"45.9375\" id=\"E6\" rx=\"10\" ry=\"10\" style=\"stroke: #A80036; stroke-width: 1.5;\" width=\"68\" x=\"106\" y=\"147\"/><ellipse cx=\"121\" cy=\"165.9688\" fill=\"#0000FF\" rx=\"11\" ry=\"11\" style=\"stroke: #A80036; stroke-width: 1.0;\"/><path d=\"M117.8125,170.9688 L117.8125,160.375 L121.4219,160.375 Q122.6406,160.375 123.4375,160.8125 Q124.2344,161.2344 124.6094,161.9375 Q125,162.6406 125,163.4844 Q125,164.3281 124.625,165.0156 Q124.2656,165.7031 123.4688,166.125 Q122.6875,166.5313 121.5,166.5313 L119.7656,166.5313 L119.7656,170.9688 L117.8125,170.9688 Z M119.7656,164.9375 L121.375,164.9375 Q122.1875,164.9375 122.6094,164.5313 Q123.0313,164.125 123.0313,163.4844 Q123.0313,162.8594 122.6094,162.4531 Q122.1875,162.0469 121.3906,162.0469 L119.7656,162.0469 L119.7656,164.9375 Z \"/><text fill=\"#000000\" font-family=\"sans-serif\" font-size=\"12\" font-style=\"italic\" lengthAdjust=\"spacingAndGlyphs\" textLength=\"40\" x=\"133\" y=\"163.1387\">«port»</text><text fill=\"#000000\" font-family=\"sans-serif\" font-size=\"12\" lengthAdjust=\"spacingAndGlyphs\" textLength=\"24\" x=\"139\" y=\"177.1074\">po1</text><line style=\"stroke: #A80036; stroke-width: 1.5;\" x1=\"107\" x2=\"173\" y1=\"184.9375\" y2=\"184.9375\"/></a><!--MD5=[2156ba9850f5573cc1fc38a6a4b2f02b]\n",
       "class E7--><a href=\"psysml:3758ddaf-2d7c-4372-b46d-cbe5af56d102\" target=\"_top\" title=\"psysml:3758ddaf-2d7c-4372-b46d-cbe5af56d102\" xlink:actuate=\"onRequest\" xlink:href=\"psysml:3758ddaf-2d7c-4372-b46d-cbe5af56d102\" xlink:show=\"new\" xlink:title=\"psysml:3758ddaf-2d7c-4372-b46d-cbe5af56d102\" xlink:type=\"simple\"><rect fill=\"#FEFECE\" filter=\"url(#fo3rcb94inc9n)\" height=\"45.9375\" id=\"E7\" rx=\"10\" ry=\"10\" style=\"stroke: #A80036; stroke-width: 1.5;\" width=\"76\" x=\"32\" y=\"41\"/><ellipse cx=\"47\" cy=\"59.9688\" fill=\"#32CD32\" rx=\"11\" ry=\"11\" style=\"stroke: #A80036; stroke-width: 1.0;\"/><path d=\"M43.8125,64.9688 L43.8125,54.375 L47.4219,54.375 Q48.6406,54.375 49.4375,54.8125 Q50.2344,55.2344 50.6094,55.9375 Q51,56.6406 51,57.4844 Q51,58.3281 50.625,59.0156 Q50.2656,59.7031 49.4688,60.125 Q48.6875,60.5313 47.5,60.5313 L45.7656,60.5313 L45.7656,64.9688 L43.8125,64.9688 Z M45.7656,58.9375 L47.375,58.9375 Q48.1875,58.9375 48.6094,58.5313 Q49.0313,58.125 49.0313,57.4844 Q49.0313,56.8594 48.6094,56.4531 Q48.1875,56.0469 47.3906,56.0469 L45.7656,56.0469 L45.7656,58.9375 Z \"/><text fill=\"#000000\" font-family=\"sans-serif\" font-size=\"12\" font-style=\"italic\" lengthAdjust=\"spacingAndGlyphs\" textLength=\"40\" x=\"63\" y=\"57.1387\">«part»</text><text fill=\"#000000\" font-family=\"sans-serif\" font-size=\"12\" lengthAdjust=\"spacingAndGlyphs\" textLength=\"40\" x=\"61\" y=\"71.1074\">p2: P1</text><line style=\"stroke: #A80036; stroke-width: 1.5;\" x1=\"33\" x2=\"107\" y1=\"78.9375\" y2=\"78.9375\"/></a><!--MD5=[b9389687b975829384b498ac4b7476b2]\n",
       "class E8--><a href=\"psysml:009efb1a-81d8-4f5e-8e24-a878e8625106\" target=\"_top\" title=\"psysml:009efb1a-81d8-4f5e-8e24-a878e8625106\" xlink:actuate=\"onRequest\" xlink:href=\"psysml:009efb1a-81d8-4f5e-8e24-a878e8625106\" xlink:show=\"new\" xlink:title=\"psysml:009efb1a-81d8-4f5e-8e24-a878e8625106\" xlink:type=\"simple\"><rect fill=\"#FEFECE\" filter=\"url(#fo3rcb94inc9n)\" height=\"45.9375\" id=\"E8\" rx=\"10\" ry=\"10\" style=\"stroke: #A80036; stroke-width: 1.5;\" width=\"72\" x=\"61\" y=\"253\"/><ellipse cx=\"76\" cy=\"271.9688\" fill=\"#0000FF\" rx=\"11\" ry=\"11\" style=\"stroke: #A80036; stroke-width: 1.0;\"/><path d=\"M72.8125,276.9688 L72.8125,266.375 L76.4219,266.375 Q77.6406,266.375 78.4375,266.8125 Q79.2344,267.2344 79.6094,267.9375 Q80,268.6406 80,269.4844 Q80,270.3281 79.625,271.0156 Q79.2656,271.7031 78.4688,272.125 Q77.6875,272.5313 76.5,272.5313 L74.7656,272.5313 L74.7656,276.9688 L72.8125,276.9688 Z M74.7656,270.9375 L76.375,270.9375 Q77.1875,270.9375 77.6094,270.5313 Q78.0313,270.125 78.0313,269.4844 Q78.0313,268.8594 77.6094,268.4531 Q77.1875,268.0469 76.3906,268.0469 L74.7656,268.0469 L74.7656,270.9375 Z \"/><text fill=\"#000000\" font-family=\"sans-serif\" font-size=\"12\" font-style=\"italic\" lengthAdjust=\"spacingAndGlyphs\" textLength=\"40\" x=\"90\" y=\"269.1387\">«port»</text><text fill=\"#000000\" font-family=\"sans-serif\" font-size=\"12\" lengthAdjust=\"spacingAndGlyphs\" textLength=\"36\" x=\"90\" y=\"283.1074\">pdest</text><line style=\"stroke: #A80036; stroke-width: 1.5;\" x1=\"62\" x2=\"132\" y1=\"290.9375\" y2=\"290.9375\"/></a><!--MD5=[4672eba38e49728da53d11aeb285b987]\n",
       "reverse link E3 to E4--><a href=\"psysml:97bd4c72-9c32-47a6-a147-0b42cd362230\" target=\"_top\" title=\"psysml:97bd4c72-9c32-47a6-a147-0b42cd362230\" xlink:actuate=\"onRequest\" xlink:href=\"psysml:97bd4c72-9c32-47a6-a147-0b42cd362230\" xlink:show=\"new\" xlink:title=\"psysml:97bd4c72-9c32-47a6-a147-0b42cd362230\" xlink:type=\"simple\"><path d=\"M221.1,203.25 C219.65,219.33 220.05,238.37 222.33,252.8 \" fill=\"none\" id=\"E3&lt;-E4\" style=\"stroke: #A80036; stroke-width: 1.0;\"/><polygon fill=\"#FFFFFF\" points=\"222.87,190.08,218.1137,195.5001,221.2875,201.9752,226.0438,196.5551,222.87,190.08\" style=\"stroke: #A80036; stroke-width: 1.0;\"/><text fill=\"#000000\" font-family=\"sans-serif\" font-size=\"13\" lengthAdjust=\"spacingAndGlyphs\" textLength=\"8\" x=\"210.5708\" y=\"242.025\">1</text></a><!--MD5=[4672eba38e49728da53d11aeb285b987]\n",
       "reverse link E3 to E4--><a href=\"psysml:dd790abf-ac6c-4371-bdbb-56cf5ab0181d\" target=\"_top\" title=\"psysml:dd790abf-ac6c-4371-bdbb-56cf5ab0181d\" xlink:actuate=\"onRequest\" xlink:href=\"psysml:dd790abf-ac6c-4371-bdbb-56cf5ab0181d\" xlink:show=\"new\" xlink:title=\"psysml:dd790abf-ac6c-4371-bdbb-56cf5ab0181d\" xlink:type=\"simple\"><path d=\"M245.77,205.22 C247.1,220.87 246.61,238.96 244.3,252.8 \" fill=\"none\" id=\"E3&lt;-E4-1\" style=\"stroke: #A80036; stroke-width: 1.0; stroke-dasharray: 7.0,7.0;\"/><ellipse cx=\"244.7963\" cy=\"198.0086\" fill=\"#FFFFFF\" rx=\"8\" ry=\"8\" style=\"stroke: #A80036; stroke-width: 1.0;\"/><line style=\"stroke: #A80036; stroke-width: 1.0;\" x1=\"245.8626\" x2=\"243.73\" y1=\"205.9372\" y2=\"190.08\"/><line style=\"stroke: #A80036; stroke-width: 1.0;\" x1=\"236.8677\" x2=\"252.7249\" y1=\"199.0749\" y2=\"196.9423\"/><text fill=\"#000000\" font-family=\"sans-serif\" font-size=\"13\" lengthAdjust=\"spacingAndGlyphs\" textLength=\"8\" x=\"238.1706\" y=\"242.025\">1</text></a><!--MD5=[e9be52314489bd878ff4c7144b63c9e1]\n",
       "link E5 to E3--><a href=\"psysml:a968a559-ae75-4ff7-b264-66e5a143558d\" target=\"_top\" title=\"psysml:a968a559-ae75-4ff7-b264-66e5a143558d\" xlink:actuate=\"onRequest\" xlink:href=\"psysml:a968a559-ae75-4ff7-b264-66e5a143558d\" xlink:show=\"new\" xlink:title=\"psysml:a968a559-ae75-4ff7-b264-66e5a143558d\" xlink:type=\"simple\"><path d=\"M192.03,87.06 C198.53,100.06 206.93,116.86 214.43,131.86 \" fill=\"none\" id=\"E5-&gt;E3\" style=\"stroke: #A80036; stroke-width: 1.0;\"/><polygon fill=\"#FFFFFF\" points=\"223.39,149.77,208.6231,135.9158,221.1411,129.6468,223.39,149.77\" style=\"stroke: #A80036; stroke-width: 1.0;\"/><ellipse cx=\"207.859\" cy=\"129.9236\" fill=\"#A80036\" rx=\"2\" ry=\"2\" style=\"stroke: #A80036; stroke-width: 1.0;\"/><ellipse cx=\"216.8004\" cy=\"125.4458\" fill=\"#A80036\" rx=\"2\" ry=\"2\" style=\"stroke: #A80036; stroke-width: 1.0;\"/></a><!--MD5=[85d356282659285ab4b2cfe2f634dd2b]\n",
       "reverse link E5 to E6--><a href=\"psysml:167a231e-25d4-4100-8e0d-53e0a4e750c8\" target=\"_top\" title=\"psysml:167a231e-25d4-4100-8e0d-53e0a4e750c8\" xlink:actuate=\"onRequest\" xlink:href=\"psysml:167a231e-25d4-4100-8e0d-53e0a4e750c8\" xlink:show=\"new\" xlink:title=\"psysml:167a231e-25d4-4100-8e0d-53e0a4e750c8\" xlink:type=\"simple\"><path d=\"M167.4,99.49 C161.23,115.15 154.12,133.19 148.68,146.98 \" fill=\"none\" id=\"E5&lt;-E6\" style=\"stroke: #A80036; stroke-width: 1.0;\"/><polygon fill=\"#FFFFFF\" points=\"172.3,87.06,166.3778,91.1743,167.8979,98.2234,173.8201,94.1091,172.3,87.06\" style=\"stroke: #A80036; stroke-width: 1.0;\"/><text fill=\"#000000\" font-family=\"sans-serif\" font-size=\"13\" lengthAdjust=\"spacingAndGlyphs\" textLength=\"8\" x=\"141.9378\" y=\"135.8709\">1</text></a><!--MD5=[f667431f98296947986a1a7595a31603]\n",
       "link E6 to E4--><a href=\"psysml:57ff51c2-e85d-4f72-aa72-bbf7c251408b\" target=\"_top\" title=\"psysml:57ff51c2-e85d-4f72-aa72-bbf7c251408b\" xlink:actuate=\"onRequest\" xlink:href=\"psysml:57ff51c2-e85d-4f72-aa72-bbf7c251408b\" xlink:show=\"new\" xlink:title=\"psysml:57ff51c2-e85d-4f72-aa72-bbf7c251408b\" xlink:type=\"simple\"><path d=\"M159.72,193.06 C171.31,206.02 186.27,222.74 199.65,237.7 \" fill=\"none\" id=\"E6-&gt;E4\" style=\"stroke: #A80036; stroke-width: 1.0;\"/><polygon fill=\"#FFFFFF\" points=\"213.31,252.98,195.4253,243.486,205.8597,234.152,213.31,252.98\" style=\"stroke: #A80036; stroke-width: 1.0;\"/><line style=\"stroke: #A80036; stroke-width: 2.0;\" x1=\"192.8918\" x2=\"203.3262\" y1=\"240.6538\" y2=\"231.3198\"/></a><!--MD5=[14ccda38c055a5c0da953d572bc50960]\n",
       "link E7 to E3--><a href=\"psysml:a1db7df5-c75d-4551-8d1a-744022949b4d\" target=\"_top\" title=\"psysml:a1db7df5-c75d-4551-8d1a-744022949b4d\" xlink:actuate=\"onRequest\" xlink:href=\"psysml:a1db7df5-c75d-4551-8d1a-744022949b4d\" xlink:show=\"new\" xlink:title=\"psysml:a1db7df5-c75d-4551-8d1a-744022949b4d\" xlink:type=\"simple\"><path d=\"M104.57,87.06 C129.93,103.24 164.49,125.29 191.37,142.44 \" fill=\"none\" id=\"E7-&gt;E3\" style=\"stroke: #A80036; stroke-width: 1.0;\"/><polygon fill=\"#FFFFFF\" points=\"208.54,153.39,188.7577,149.0701,196.2889,137.2683,208.54,153.39\" style=\"stroke: #A80036; stroke-width: 1.0;\"/><ellipse cx=\"185.0286\" cy=\"144.3178\" fill=\"#A80036\" rx=\"2\" ry=\"2\" style=\"stroke: #A80036; stroke-width: 1.0;\"/><ellipse cx=\"190.408\" cy=\"135.888\" fill=\"#A80036\" rx=\"2\" ry=\"2\" style=\"stroke: #A80036; stroke-width: 1.0;\"/></a><!--MD5=[dc164f5e8a733ab456ef1add180e9e34]\n",
       "reverse link E7 to E8--><a href=\"psysml:f57d57d9-12d9-410c-acd5-2b53e0560bbf\" target=\"_top\" title=\"psysml:f57d57d9-12d9-410c-acd5-2b53e0560bbf\" xlink:actuate=\"onRequest\" xlink:href=\"psysml:f57d57d9-12d9-410c-acd5-2b53e0560bbf\" xlink:show=\"new\" xlink:title=\"psysml:f57d57d9-12d9-410c-acd5-2b53e0560bbf\" xlink:type=\"simple\"><path d=\"M64.71,100.09 C65.9,143.61 75.8,216.5 85.96,252.9 \" fill=\"none\" id=\"E7&lt;-E8\" style=\"stroke: #A80036; stroke-width: 1.0;\"/><polygon fill=\"#FFFFFF\" points=\"64.64,87.08,60.673,93.1019,64.7059,99.0798,68.6729,93.0579,64.64,87.08\" style=\"stroke: #A80036; stroke-width: 1.0;\"/><text fill=\"#000000\" font-family=\"sans-serif\" font-size=\"13\" lengthAdjust=\"spacingAndGlyphs\" textLength=\"8\" x=\"73.918\" y=\"241.7694\">1</text></a><!--MD5=[dc164f5e8a733ab456ef1add180e9e34]\n",
       "reverse link E7 to E8--><a href=\"psysml:b8781950-4d8a-4fb9-9fe0-7c7847cd278f\" target=\"_top\" title=\"psysml:b8781950-4d8a-4fb9-9fe0-7c7847cd278f\" xlink:actuate=\"onRequest\" xlink:href=\"psysml:b8781950-4d8a-4fb9-9fe0-7c7847cd278f\" xlink:show=\"new\" xlink:title=\"psysml:b8781950-4d8a-4fb9-9fe0-7c7847cd278f\" xlink:type=\"simple\"><path d=\"M85.29,101.8 C95.38,145.5 103.94,216.97 102.84,252.9 \" fill=\"none\" id=\"E7&lt;-E8-1\" style=\"stroke: #A80036; stroke-width: 1.0; stroke-dasharray: 7.0,7.0;\"/><ellipse cx=\"83.5087\" cy=\"94.8289\" fill=\"#FFFFFF\" rx=\"8\" ry=\"8\" style=\"stroke: #A80036; stroke-width: 1.0;\"/><line style=\"stroke: #A80036; stroke-width: 1.0;\" x1=\"85.4973\" x2=\"81.52\" y1=\"102.5778\" y2=\"87.08\"/><line style=\"stroke: #A80036; stroke-width: 1.0;\" x1=\"75.7598\" x2=\"91.2575\" y1=\"96.8175\" y2=\"92.8402\"/><text fill=\"#000000\" font-family=\"sans-serif\" font-size=\"13\" lengthAdjust=\"spacingAndGlyphs\" textLength=\"8\" x=\"105.4845\" y=\"241.7694\">1</text></a><!--MD5=[0a839d0f80c2d72d4b9b307f046d0de8]\n",
       "link E6 to E8--><a href=\"psysml:117cd7b6-777c-4755-88f6-d7a432271d85\" target=\"_top\" title=\"psysml:117cd7b6-777c-4755-88f6-d7a432271d85\" xlink:actuate=\"onRequest\" xlink:href=\"psysml:117cd7b6-777c-4755-88f6-d7a432271d85\" xlink:show=\"new\" xlink:title=\"psysml:117cd7b6-777c-4755-88f6-d7a432271d85\" xlink:type=\"simple\"><path d=\"M120.24,193.06 C110.13,210.7 99.95,235.34 95.47,252.98 \" fill=\"none\" id=\"E6-E8\" style=\"stroke: #A80036; stroke-width: 3.0;\"/><text fill=\"#000000\" font-family=\"sans-serif\" font-size=\"13\" lengthAdjust=\"spacingAndGlyphs\" textLength=\"7\" x=\"87.1182\" y=\"241.8709\">*</text></a><!--MD5=[0a839d0f80c2d72d4b9b307f046d0de8]\n",
       "link E6 to E8--><a href=\"psysml:c7325d6a-fceb-4e80-be50-eff52df502df\" target=\"_top\" title=\"psysml:c7325d6a-fceb-4e80-be50-eff52df502df\" xlink:actuate=\"onRequest\" xlink:href=\"psysml:c7325d6a-fceb-4e80-be50-eff52df502df\" xlink:show=\"new\" xlink:title=\"psysml:c7325d6a-fceb-4e80-be50-eff52df502df\" xlink:type=\"simple\"><path d=\"M142.15,193.06 C137.83,210.7 127.64,235.34 117.37,252.98 \" fill=\"none\" id=\"E6-E8-1\" style=\"stroke: #A80036; stroke-width: 3.0;\"/><text fill=\"#000000\" font-family=\"sans-serif\" font-size=\"13\" lengthAdjust=\"spacingAndGlyphs\" textLength=\"7\" x=\"114.9038\" y=\"241.8709\">*</text></a><!--MD5=[2f6cc202762f5a7d1a1508dff57fb991]\n",
       "@startuml\r\n",
       " \r\n",
       "package \"AliasTest\" as E1  [[psysml:6242facc-ff06-44d1-b4f3-467b2ef71334 ]]  {\r\n",
       "comp usage \"b :> ISQSpaceTime::width\" as E2 << <<(U,orange) attribute>> [[psysml:c7d5118b-0b42-4b21-9071-aba180ff097b ]] {\r\n",
       "}\r\n",
       "comp def \"P1\" as E3 << << (B,green) >> [[psysml:f3a385fe-c72f-4489-86aa-e832e0f5c54b ]] {\r\n",
       "}\r\n",
       "comp usage \"porig1 \" as E4 << << (P,blue) port>> [[psysml:12c3f617-858e-4877-bab3-72d077a58110 ]] {\r\n",
       "}\r\n",
       "comp usage \"p1: P1 \" as E5 << << (P,limegreen) part>> [[psysml:f19cd7cf-ead7-487d-acf0-998c02877f08 ]] {\r\n",
       "}\r\n",
       "comp usage \"po1 \" as E6 << << (P,blue) port>> [[psysml:7bd77f36-e1da-430e-90ed-8aecc87780c5 ]] {\r\n",
       "}\r\n",
       "comp usage \"p2: P1 \" as E7 << << (P,limegreen) part>> [[psysml:3758ddaf-2d7c-4372-b46d-cbe5af56d102 ]] {\r\n",
       "}\r\n",
       "comp usage \"pdest \" as E8 << << (P,blue) port>> [[psysml:009efb1a-81d8-4f5e-8e24-a878e8625106 ]] {\r\n",
       "}\r\n",
       "}\r\n",
       "E3 o- - \"1\"E4 [[psysml:97bd4c72-9c32-47a6-a147-0b42cd362230 ]] \r\n",
       "E3 +.. \"1\"E4 [[psysml:dd790abf-ac6c-4371-bdbb-56cf5ab0181d ]] \r\n",
       "E5 - -:|> E3 [[psysml:a968a559-ae75-4ff7-b264-66e5a143558d ]] \r\n",
       "E5 o- - \"1\"E6 [[psysml:167a231e-25d4-4100-8e0d-53e0a4e750c8 ]] \r\n",
       "E6 - -||> E4 [[psysml:57ff51c2-e85d-4f72-aa72-bbf7c251408b ]] \r\n",
       "E7 - -:|> E3 [[psysml:a1db7df5-c75d-4551-8d1a-744022949b4d ]] \r\n",
       "E7 o- - \"1\"E8 [[psysml:f57d57d9-12d9-410c-acd5-2b53e0560bbf ]] \r\n",
       "E7 +.. \"1\"E8 [[psysml:b8781950-4d8a-4fb9-9fe0-7c7847cd278f ]] \r\n",
       "E6 -[thickness=3]- \"*\"E8 [[psysml:117cd7b6-777c-4755-88f6-d7a432271d85 ]] \r\n",
       "E6 -[thickness=3]- \"*\"E8 [[psysml:c7325d6a-fceb-4e80-be50-eff52df502df ]] \r\n",
       "@enduml\r\n",
       "\n",
       "PlantUML version 1.2020.13(Sat Jun 13 12:26:38 UTC 2020)\n",
       "(EPL source distribution)\n",
       "Java Runtime: OpenJDK Runtime Environment\n",
       "JVM: OpenJDK 64-Bit Server VM\n",
       "Default Encoding: UTF-8\n",
       "Language: en\n",
       "Country: null\n",
       "--></g></svg>"
      ]
     },
     "execution_count": 30,
     "metadata": {},
     "output_type": "execute_result"
    }
   ],
   "source": [
    "%viz --style=\"PLANTUML\" --view=\"Default\" \"AliasTest\""
   ]
  },
  {
   "cell_type": "code",
   "execution_count": 31,
   "id": "af7278fa",
   "metadata": {
    "execution": {
     "iopub.execute_input": "2022-03-21T07:52:17.393067Z",
     "iopub.status.busy": "2022-03-21T07:52:17.392657Z",
     "iopub.status.idle": "2022-03-21T07:52:17.434995Z",
     "shell.execute_reply": "2022-03-21T07:52:17.434596Z"
    }
   },
   "outputs": [
    {
     "data": {
      "image/svg+xml": [
       "<?xml version=\"1.0\" encoding=\"UTF-8\" standalone=\"no\"?><svg xmlns=\"http://www.w3.org/2000/svg\" xmlns:xlink=\"http://www.w3.org/1999/xlink\" contentScriptType=\"application/ecmascript\" contentStyleType=\"text/css\" height=\"327px\" preserveAspectRatio=\"none\" style=\"width:484px;height:327px;\" version=\"1.1\" viewBox=\"0 0 484 327\" width=\"484px\" zoomAndPan=\"magnify\"><defs><filter height=\"300%\" id=\"fo3rcb94inc9n\" width=\"300%\" x=\"-1\" y=\"-1\"><feGaussianBlur result=\"blurOut\" stdDeviation=\"2.0\"/><feColorMatrix in=\"blurOut\" result=\"blurOut2\" type=\"matrix\" values=\"0 0 0 0 0 0 0 0 0 0 0 0 0 0 0 0 0 0 .4 0\"/><feOffset dx=\"4.0\" dy=\"4.0\" in=\"blurOut2\" result=\"blurOut3\"/><feBlend in=\"SourceGraphic\" in2=\"blurOut3\" mode=\"normal\"/></filter></defs><g><!--MD5=[fbc87193dbaf4d95561dea2c320d4a47]\n",
       "cluster E1--><a href=\"psysml:6242facc-ff06-44d1-b4f3-467b2ef71334\" target=\"_top\" title=\"psysml:6242facc-ff06-44d1-b4f3-467b2ef71334\" xlink:actuate=\"onRequest\" xlink:href=\"psysml:6242facc-ff06-44d1-b4f3-467b2ef71334\" xlink:show=\"new\" xlink:title=\"psysml:6242facc-ff06-44d1-b4f3-467b2ef71334\" xlink:type=\"simple\"><polygon fill=\"#FFFFFF\" filter=\"url(#fo3rcb94inc9n)\" points=\"16,6,84,6,91,28.2969,462,28.2969,462,315,16,315,16,6\" style=\"stroke: #000000; stroke-width: 1.5;\"/><line style=\"stroke: #000000; stroke-width: 1.5;\" x1=\"16\" x2=\"91\" y1=\"28.2969\" y2=\"28.2969\"/><text fill=\"#000000\" font-family=\"sans-serif\" font-size=\"14\" font-weight=\"bold\" lengthAdjust=\"spacingAndGlyphs\" textLength=\"62\" x=\"20\" y=\"20.9951\">AliasTest</text></a><!--MD5=[b4997ac47864f28c2f74865a473b2911]\n",
       "class E2--><a href=\"psysml:c7d5118b-0b42-4b21-9071-aba180ff097b\" target=\"_top\" title=\"psysml:c7d5118b-0b42-4b21-9071-aba180ff097b\" xlink:actuate=\"onRequest\" xlink:href=\"psysml:c7d5118b-0b42-4b21-9071-aba180ff097b\" xlink:show=\"new\" xlink:title=\"psysml:c7d5118b-0b42-4b21-9071-aba180ff097b\" xlink:type=\"simple\"><rect fill=\"#FEFECE\" filter=\"url(#fo3rcb94inc9n)\" height=\"45.9375\" id=\"E2\" rx=\"10\" ry=\"10\" style=\"stroke: #A80036; stroke-width: 1.5;\" width=\"191\" x=\"254.5\" y=\"41\"/><ellipse cx=\"269.5\" cy=\"59.9688\" fill=\"#FFA500\" rx=\"11\" ry=\"11\" style=\"stroke: #A80036; stroke-width: 1.0;\"/><path d=\"M269.25,65.4375 Q267.5,65.4375 266.5469,64.4063 Q265.6094,63.3594 265.6094,61.5156 L265.6094,54.625 L267.6719,54.625 L267.6719,54.7813 Q267.5781,54.875 267.5469,55.0156 Q267.5313,55.1406 267.5313,55.4063 L267.5313,61.5313 Q267.5313,62.625 267.9063,63.25 Q268.2813,63.875 269.2656,63.875 Q270.25,63.875 270.6406,63.25 Q271.0313,62.625 271.0313,61.4844 L271.0313,54.625 L272.9063,54.625 L272.9063,61.4688 Q272.9063,63.5 271.875,64.4688 Q270.8594,65.4375 269.25,65.4375 Z \"/><text fill=\"#000000\" font-family=\"sans-serif\" font-size=\"12\" font-style=\"italic\" lengthAdjust=\"spacingAndGlyphs\" textLength=\"69\" x=\"328.5\" y=\"57.1387\">«attribute»</text><text fill=\"#000000\" font-family=\"sans-serif\" font-size=\"12\" lengthAdjust=\"spacingAndGlyphs\" textLength=\"159\" x=\"283.5\" y=\"71.1074\">b :&gt; ISQSpaceTime::width</text><line style=\"stroke: #A80036; stroke-width: 1.5;\" x1=\"255.5\" x2=\"444.5\" y1=\"78.9375\" y2=\"78.9375\"/></a><!--MD5=[09b614a08d8cba4a07c9adeb5e0fee81]\n",
       "class E3--><a href=\"psysml:f3a385fe-c72f-4489-86aa-e832e0f5c54b\" target=\"_top\" title=\"psysml:f3a385fe-c72f-4489-86aa-e832e0f5c54b\" xlink:actuate=\"onRequest\" xlink:href=\"psysml:f3a385fe-c72f-4489-86aa-e832e0f5c54b\" xlink:show=\"new\" xlink:title=\"psysml:f3a385fe-c72f-4489-86aa-e832e0f5c54b\" xlink:type=\"simple\"><rect fill=\"#FEFECE\" filter=\"url(#fo3rcb94inc9n)\" height=\"40\" id=\"E3\" style=\"stroke: #A80036; stroke-width: 1.5;\" width=\"48\" x=\"209\" y=\"150\"/><ellipse cx=\"224\" cy=\"166\" fill=\"#008000\" rx=\"11\" ry=\"11\" style=\"stroke: #A80036; stroke-width: 1.0;\"/><path d=\"M220.875,171 L220.875,160.4063 L224.1094,160.4063 Q226.0156,160.4063 226.9219,161.1563 Q227.8438,161.9063 227.8438,163.0781 Q227.8438,163.7656 227.4531,164.4219 Q227.0781,165.0781 226.3594,165.375 Q227.2188,165.75 227.7344,166.4375 Q228.25,167.125 228.25,167.9375 Q228.25,169.3125 227.2188,170.1563 Q226.2031,171 224.0938,171 L220.875,171 Z M222.7969,164.6406 L223.9531,164.6406 Q225.0781,164.6406 225.4844,164.2656 Q225.9063,163.875 225.9063,163.25 Q225.9063,162.6719 225.4844,162.3125 Q225.0625,161.9531 224.125,161.9531 L222.7969,161.9531 L222.7969,164.6406 Z M222.7969,169.4219 L224.2969,169.4219 Q225.2031,169.4219 225.7344,169.0313 Q226.2656,168.6406 226.2656,167.8906 Q226.2656,167.125 225.7656,166.6563 Q225.2656,166.1719 224,166.1719 L222.7969,166.1719 L222.7969,169.4219 Z \"/><text fill=\"#000000\" font-family=\"sans-serif\" font-size=\"12\" lengthAdjust=\"spacingAndGlyphs\" textLength=\"16\" x=\"238\" y=\"170.1543\">P1</text><line style=\"stroke: #A80036; stroke-width: 1.5;\" x1=\"210\" x2=\"256\" y1=\"182\" y2=\"182\"/></a><!--MD5=[ebbe1d658d1005bcc118a6aa81145e00]\n",
       "class E4--><a href=\"psysml:12c3f617-858e-4877-bab3-72d077a58110\" target=\"_top\" title=\"psysml:12c3f617-858e-4877-bab3-72d077a58110\" xlink:actuate=\"onRequest\" xlink:href=\"psysml:12c3f617-858e-4877-bab3-72d077a58110\" xlink:show=\"new\" xlink:title=\"psysml:12c3f617-858e-4877-bab3-72d077a58110\" xlink:type=\"simple\"><rect fill=\"#FEFECE\" filter=\"url(#fo3rcb94inc9n)\" height=\"45.9375\" id=\"E4\" rx=\"10\" ry=\"10\" style=\"stroke: #A80036; stroke-width: 1.5;\" width=\"76\" x=\"195\" y=\"253\"/><ellipse cx=\"210\" cy=\"271.9688\" fill=\"#0000FF\" rx=\"11\" ry=\"11\" style=\"stroke: #A80036; stroke-width: 1.0;\"/><path d=\"M206.8125,276.9688 L206.8125,266.375 L210.4219,266.375 Q211.6406,266.375 212.4375,266.8125 Q213.2344,267.2344 213.6094,267.9375 Q214,268.6406 214,269.4844 Q214,270.3281 213.625,271.0156 Q213.2656,271.7031 212.4688,272.125 Q211.6875,272.5313 210.5,272.5313 L208.7656,272.5313 L208.7656,276.9688 L206.8125,276.9688 Z M208.7656,270.9375 L210.375,270.9375 Q211.1875,270.9375 211.6094,270.5313 Q212.0313,270.125 212.0313,269.4844 Q212.0313,268.8594 211.6094,268.4531 Q211.1875,268.0469 210.3906,268.0469 L208.7656,268.0469 L208.7656,270.9375 Z \"/><text fill=\"#000000\" font-family=\"sans-serif\" font-size=\"12\" font-style=\"italic\" lengthAdjust=\"spacingAndGlyphs\" textLength=\"40\" x=\"226\" y=\"269.1387\">«port»</text><text fill=\"#000000\" font-family=\"sans-serif\" font-size=\"12\" lengthAdjust=\"spacingAndGlyphs\" textLength=\"40\" x=\"224\" y=\"283.1074\">porig1</text><line style=\"stroke: #A80036; stroke-width: 1.5;\" x1=\"196\" x2=\"270\" y1=\"290.9375\" y2=\"290.9375\"/></a><!--MD5=[270fce915f116d4de14055a7c1d9a0f3]\n",
       "class E5--><a href=\"psysml:f19cd7cf-ead7-487d-acf0-998c02877f08\" target=\"_top\" title=\"psysml:f19cd7cf-ead7-487d-acf0-998c02877f08\" xlink:actuate=\"onRequest\" xlink:href=\"psysml:f19cd7cf-ead7-487d-acf0-998c02877f08\" xlink:show=\"new\" xlink:title=\"psysml:f19cd7cf-ead7-487d-acf0-998c02877f08\" xlink:type=\"simple\"><rect fill=\"#FEFECE\" filter=\"url(#fo3rcb94inc9n)\" height=\"45.9375\" id=\"E5\" rx=\"10\" ry=\"10\" style=\"stroke: #A80036; stroke-width: 1.5;\" width=\"76\" x=\"143\" y=\"41\"/><ellipse cx=\"158\" cy=\"59.9688\" fill=\"#32CD32\" rx=\"11\" ry=\"11\" style=\"stroke: #A80036; stroke-width: 1.0;\"/><path d=\"M154.8125,64.9688 L154.8125,54.375 L158.4219,54.375 Q159.6406,54.375 160.4375,54.8125 Q161.2344,55.2344 161.6094,55.9375 Q162,56.6406 162,57.4844 Q162,58.3281 161.625,59.0156 Q161.2656,59.7031 160.4688,60.125 Q159.6875,60.5313 158.5,60.5313 L156.7656,60.5313 L156.7656,64.9688 L154.8125,64.9688 Z M156.7656,58.9375 L158.375,58.9375 Q159.1875,58.9375 159.6094,58.5313 Q160.0313,58.125 160.0313,57.4844 Q160.0313,56.8594 159.6094,56.4531 Q159.1875,56.0469 158.3906,56.0469 L156.7656,56.0469 L156.7656,58.9375 Z \"/><text fill=\"#000000\" font-family=\"sans-serif\" font-size=\"12\" font-style=\"italic\" lengthAdjust=\"spacingAndGlyphs\" textLength=\"40\" x=\"174\" y=\"57.1387\">«part»</text><text fill=\"#000000\" font-family=\"sans-serif\" font-size=\"12\" lengthAdjust=\"spacingAndGlyphs\" textLength=\"40\" x=\"172\" y=\"71.1074\">p1: P1</text><line style=\"stroke: #A80036; stroke-width: 1.5;\" x1=\"144\" x2=\"218\" y1=\"78.9375\" y2=\"78.9375\"/></a><!--MD5=[60a26617385b1d2d0262a64233df1f8d]\n",
       "class E6--><a href=\"psysml:7bd77f36-e1da-430e-90ed-8aecc87780c5\" target=\"_top\" title=\"psysml:7bd77f36-e1da-430e-90ed-8aecc87780c5\" xlink:actuate=\"onRequest\" xlink:href=\"psysml:7bd77f36-e1da-430e-90ed-8aecc87780c5\" xlink:show=\"new\" xlink:title=\"psysml:7bd77f36-e1da-430e-90ed-8aecc87780c5\" xlink:type=\"simple\"><rect fill=\"#FEFECE\" filter=\"url(#fo3rcb94inc9n)\" height=\"45.9375\" id=\"E6\" rx=\"10\" ry=\"10\" style=\"stroke: #A80036; stroke-width: 1.5;\" width=\"68\" x=\"106\" y=\"147\"/><ellipse cx=\"121\" cy=\"165.9688\" fill=\"#0000FF\" rx=\"11\" ry=\"11\" style=\"stroke: #A80036; stroke-width: 1.0;\"/><path d=\"M117.8125,170.9688 L117.8125,160.375 L121.4219,160.375 Q122.6406,160.375 123.4375,160.8125 Q124.2344,161.2344 124.6094,161.9375 Q125,162.6406 125,163.4844 Q125,164.3281 124.625,165.0156 Q124.2656,165.7031 123.4688,166.125 Q122.6875,166.5313 121.5,166.5313 L119.7656,166.5313 L119.7656,170.9688 L117.8125,170.9688 Z M119.7656,164.9375 L121.375,164.9375 Q122.1875,164.9375 122.6094,164.5313 Q123.0313,164.125 123.0313,163.4844 Q123.0313,162.8594 122.6094,162.4531 Q122.1875,162.0469 121.3906,162.0469 L119.7656,162.0469 L119.7656,164.9375 Z \"/><text fill=\"#000000\" font-family=\"sans-serif\" font-size=\"12\" font-style=\"italic\" lengthAdjust=\"spacingAndGlyphs\" textLength=\"40\" x=\"133\" y=\"163.1387\">«port»</text><text fill=\"#000000\" font-family=\"sans-serif\" font-size=\"12\" lengthAdjust=\"spacingAndGlyphs\" textLength=\"24\" x=\"139\" y=\"177.1074\">po1</text><line style=\"stroke: #A80036; stroke-width: 1.5;\" x1=\"107\" x2=\"173\" y1=\"184.9375\" y2=\"184.9375\"/></a><!--MD5=[2156ba9850f5573cc1fc38a6a4b2f02b]\n",
       "class E7--><a href=\"psysml:3758ddaf-2d7c-4372-b46d-cbe5af56d102\" target=\"_top\" title=\"psysml:3758ddaf-2d7c-4372-b46d-cbe5af56d102\" xlink:actuate=\"onRequest\" xlink:href=\"psysml:3758ddaf-2d7c-4372-b46d-cbe5af56d102\" xlink:show=\"new\" xlink:title=\"psysml:3758ddaf-2d7c-4372-b46d-cbe5af56d102\" xlink:type=\"simple\"><rect fill=\"#FEFECE\" filter=\"url(#fo3rcb94inc9n)\" height=\"45.9375\" id=\"E7\" rx=\"10\" ry=\"10\" style=\"stroke: #A80036; stroke-width: 1.5;\" width=\"76\" x=\"32\" y=\"41\"/><ellipse cx=\"47\" cy=\"59.9688\" fill=\"#32CD32\" rx=\"11\" ry=\"11\" style=\"stroke: #A80036; stroke-width: 1.0;\"/><path d=\"M43.8125,64.9688 L43.8125,54.375 L47.4219,54.375 Q48.6406,54.375 49.4375,54.8125 Q50.2344,55.2344 50.6094,55.9375 Q51,56.6406 51,57.4844 Q51,58.3281 50.625,59.0156 Q50.2656,59.7031 49.4688,60.125 Q48.6875,60.5313 47.5,60.5313 L45.7656,60.5313 L45.7656,64.9688 L43.8125,64.9688 Z M45.7656,58.9375 L47.375,58.9375 Q48.1875,58.9375 48.6094,58.5313 Q49.0313,58.125 49.0313,57.4844 Q49.0313,56.8594 48.6094,56.4531 Q48.1875,56.0469 47.3906,56.0469 L45.7656,56.0469 L45.7656,58.9375 Z \"/><text fill=\"#000000\" font-family=\"sans-serif\" font-size=\"12\" font-style=\"italic\" lengthAdjust=\"spacingAndGlyphs\" textLength=\"40\" x=\"63\" y=\"57.1387\">«part»</text><text fill=\"#000000\" font-family=\"sans-serif\" font-size=\"12\" lengthAdjust=\"spacingAndGlyphs\" textLength=\"40\" x=\"61\" y=\"71.1074\">p2: P1</text><line style=\"stroke: #A80036; stroke-width: 1.5;\" x1=\"33\" x2=\"107\" y1=\"78.9375\" y2=\"78.9375\"/></a><!--MD5=[b9389687b975829384b498ac4b7476b2]\n",
       "class E8--><a href=\"psysml:009efb1a-81d8-4f5e-8e24-a878e8625106\" target=\"_top\" title=\"psysml:009efb1a-81d8-4f5e-8e24-a878e8625106\" xlink:actuate=\"onRequest\" xlink:href=\"psysml:009efb1a-81d8-4f5e-8e24-a878e8625106\" xlink:show=\"new\" xlink:title=\"psysml:009efb1a-81d8-4f5e-8e24-a878e8625106\" xlink:type=\"simple\"><rect fill=\"#FEFECE\" filter=\"url(#fo3rcb94inc9n)\" height=\"45.9375\" id=\"E8\" rx=\"10\" ry=\"10\" style=\"stroke: #A80036; stroke-width: 1.5;\" width=\"72\" x=\"61\" y=\"253\"/><ellipse cx=\"76\" cy=\"271.9688\" fill=\"#0000FF\" rx=\"11\" ry=\"11\" style=\"stroke: #A80036; stroke-width: 1.0;\"/><path d=\"M72.8125,276.9688 L72.8125,266.375 L76.4219,266.375 Q77.6406,266.375 78.4375,266.8125 Q79.2344,267.2344 79.6094,267.9375 Q80,268.6406 80,269.4844 Q80,270.3281 79.625,271.0156 Q79.2656,271.7031 78.4688,272.125 Q77.6875,272.5313 76.5,272.5313 L74.7656,272.5313 L74.7656,276.9688 L72.8125,276.9688 Z M74.7656,270.9375 L76.375,270.9375 Q77.1875,270.9375 77.6094,270.5313 Q78.0313,270.125 78.0313,269.4844 Q78.0313,268.8594 77.6094,268.4531 Q77.1875,268.0469 76.3906,268.0469 L74.7656,268.0469 L74.7656,270.9375 Z \"/><text fill=\"#000000\" font-family=\"sans-serif\" font-size=\"12\" font-style=\"italic\" lengthAdjust=\"spacingAndGlyphs\" textLength=\"40\" x=\"90\" y=\"269.1387\">«port»</text><text fill=\"#000000\" font-family=\"sans-serif\" font-size=\"12\" lengthAdjust=\"spacingAndGlyphs\" textLength=\"36\" x=\"90\" y=\"283.1074\">pdest</text><line style=\"stroke: #A80036; stroke-width: 1.5;\" x1=\"62\" x2=\"132\" y1=\"290.9375\" y2=\"290.9375\"/></a><!--MD5=[4672eba38e49728da53d11aeb285b987]\n",
       "reverse link E3 to E4--><a href=\"psysml:97bd4c72-9c32-47a6-a147-0b42cd362230\" target=\"_top\" title=\"psysml:97bd4c72-9c32-47a6-a147-0b42cd362230\" xlink:actuate=\"onRequest\" xlink:href=\"psysml:97bd4c72-9c32-47a6-a147-0b42cd362230\" xlink:show=\"new\" xlink:title=\"psysml:97bd4c72-9c32-47a6-a147-0b42cd362230\" xlink:type=\"simple\"><path d=\"M221.1,203.25 C219.65,219.33 220.05,238.37 222.33,252.8 \" fill=\"none\" id=\"E3&lt;-E4\" style=\"stroke: #A80036; stroke-width: 1.0;\"/><polygon fill=\"#FFFFFF\" points=\"222.87,190.08,218.1137,195.5001,221.2875,201.9752,226.0438,196.5551,222.87,190.08\" style=\"stroke: #A80036; stroke-width: 1.0;\"/><text fill=\"#000000\" font-family=\"sans-serif\" font-size=\"13\" lengthAdjust=\"spacingAndGlyphs\" textLength=\"8\" x=\"210.5708\" y=\"242.025\">1</text></a><!--MD5=[4672eba38e49728da53d11aeb285b987]\n",
       "reverse link E3 to E4--><a href=\"psysml:dd790abf-ac6c-4371-bdbb-56cf5ab0181d\" target=\"_top\" title=\"psysml:dd790abf-ac6c-4371-bdbb-56cf5ab0181d\" xlink:actuate=\"onRequest\" xlink:href=\"psysml:dd790abf-ac6c-4371-bdbb-56cf5ab0181d\" xlink:show=\"new\" xlink:title=\"psysml:dd790abf-ac6c-4371-bdbb-56cf5ab0181d\" xlink:type=\"simple\"><path d=\"M245.77,205.22 C247.1,220.87 246.61,238.96 244.3,252.8 \" fill=\"none\" id=\"E3&lt;-E4-1\" style=\"stroke: #A80036; stroke-width: 1.0; stroke-dasharray: 7.0,7.0;\"/><ellipse cx=\"244.7963\" cy=\"198.0086\" fill=\"#FFFFFF\" rx=\"8\" ry=\"8\" style=\"stroke: #A80036; stroke-width: 1.0;\"/><line style=\"stroke: #A80036; stroke-width: 1.0;\" x1=\"245.8626\" x2=\"243.73\" y1=\"205.9372\" y2=\"190.08\"/><line style=\"stroke: #A80036; stroke-width: 1.0;\" x1=\"236.8677\" x2=\"252.7249\" y1=\"199.0749\" y2=\"196.9423\"/><text fill=\"#000000\" font-family=\"sans-serif\" font-size=\"13\" lengthAdjust=\"spacingAndGlyphs\" textLength=\"8\" x=\"238.1706\" y=\"242.025\">1</text></a><!--MD5=[e9be52314489bd878ff4c7144b63c9e1]\n",
       "link E5 to E3--><a href=\"psysml:a968a559-ae75-4ff7-b264-66e5a143558d\" target=\"_top\" title=\"psysml:a968a559-ae75-4ff7-b264-66e5a143558d\" xlink:actuate=\"onRequest\" xlink:href=\"psysml:a968a559-ae75-4ff7-b264-66e5a143558d\" xlink:show=\"new\" xlink:title=\"psysml:a968a559-ae75-4ff7-b264-66e5a143558d\" xlink:type=\"simple\"><path d=\"M192.03,87.06 C198.53,100.06 206.93,116.86 214.43,131.86 \" fill=\"none\" id=\"E5-&gt;E3\" style=\"stroke: #A80036; stroke-width: 1.0;\"/><polygon fill=\"#FFFFFF\" points=\"223.39,149.77,208.6231,135.9158,221.1411,129.6468,223.39,149.77\" style=\"stroke: #A80036; stroke-width: 1.0;\"/><ellipse cx=\"207.859\" cy=\"129.9236\" fill=\"#A80036\" rx=\"2\" ry=\"2\" style=\"stroke: #A80036; stroke-width: 1.0;\"/><ellipse cx=\"216.8004\" cy=\"125.4458\" fill=\"#A80036\" rx=\"2\" ry=\"2\" style=\"stroke: #A80036; stroke-width: 1.0;\"/></a><!--MD5=[85d356282659285ab4b2cfe2f634dd2b]\n",
       "reverse link E5 to E6--><a href=\"psysml:167a231e-25d4-4100-8e0d-53e0a4e750c8\" target=\"_top\" title=\"psysml:167a231e-25d4-4100-8e0d-53e0a4e750c8\" xlink:actuate=\"onRequest\" xlink:href=\"psysml:167a231e-25d4-4100-8e0d-53e0a4e750c8\" xlink:show=\"new\" xlink:title=\"psysml:167a231e-25d4-4100-8e0d-53e0a4e750c8\" xlink:type=\"simple\"><path d=\"M167.4,99.49 C161.23,115.15 154.12,133.19 148.68,146.98 \" fill=\"none\" id=\"E5&lt;-E6\" style=\"stroke: #A80036; stroke-width: 1.0;\"/><polygon fill=\"#FFFFFF\" points=\"172.3,87.06,166.3778,91.1743,167.8979,98.2234,173.8201,94.1091,172.3,87.06\" style=\"stroke: #A80036; stroke-width: 1.0;\"/><text fill=\"#000000\" font-family=\"sans-serif\" font-size=\"13\" lengthAdjust=\"spacingAndGlyphs\" textLength=\"8\" x=\"141.9378\" y=\"135.8709\">1</text></a><!--MD5=[f667431f98296947986a1a7595a31603]\n",
       "link E6 to E4--><a href=\"psysml:57ff51c2-e85d-4f72-aa72-bbf7c251408b\" target=\"_top\" title=\"psysml:57ff51c2-e85d-4f72-aa72-bbf7c251408b\" xlink:actuate=\"onRequest\" xlink:href=\"psysml:57ff51c2-e85d-4f72-aa72-bbf7c251408b\" xlink:show=\"new\" xlink:title=\"psysml:57ff51c2-e85d-4f72-aa72-bbf7c251408b\" xlink:type=\"simple\"><path d=\"M159.72,193.06 C171.31,206.02 186.27,222.74 199.65,237.7 \" fill=\"none\" id=\"E6-&gt;E4\" style=\"stroke: #A80036; stroke-width: 1.0;\"/><polygon fill=\"#FFFFFF\" points=\"213.31,252.98,195.4253,243.486,205.8597,234.152,213.31,252.98\" style=\"stroke: #A80036; stroke-width: 1.0;\"/><line style=\"stroke: #A80036; stroke-width: 2.0;\" x1=\"192.8918\" x2=\"203.3262\" y1=\"240.6538\" y2=\"231.3198\"/></a><!--MD5=[14ccda38c055a5c0da953d572bc50960]\n",
       "link E7 to E3--><a href=\"psysml:a1db7df5-c75d-4551-8d1a-744022949b4d\" target=\"_top\" title=\"psysml:a1db7df5-c75d-4551-8d1a-744022949b4d\" xlink:actuate=\"onRequest\" xlink:href=\"psysml:a1db7df5-c75d-4551-8d1a-744022949b4d\" xlink:show=\"new\" xlink:title=\"psysml:a1db7df5-c75d-4551-8d1a-744022949b4d\" xlink:type=\"simple\"><path d=\"M104.57,87.06 C129.93,103.24 164.49,125.29 191.37,142.44 \" fill=\"none\" id=\"E7-&gt;E3\" style=\"stroke: #A80036; stroke-width: 1.0;\"/><polygon fill=\"#FFFFFF\" points=\"208.54,153.39,188.7577,149.0701,196.2889,137.2683,208.54,153.39\" style=\"stroke: #A80036; stroke-width: 1.0;\"/><ellipse cx=\"185.0286\" cy=\"144.3178\" fill=\"#A80036\" rx=\"2\" ry=\"2\" style=\"stroke: #A80036; stroke-width: 1.0;\"/><ellipse cx=\"190.408\" cy=\"135.888\" fill=\"#A80036\" rx=\"2\" ry=\"2\" style=\"stroke: #A80036; stroke-width: 1.0;\"/></a><!--MD5=[dc164f5e8a733ab456ef1add180e9e34]\n",
       "reverse link E7 to E8--><a href=\"psysml:f57d57d9-12d9-410c-acd5-2b53e0560bbf\" target=\"_top\" title=\"psysml:f57d57d9-12d9-410c-acd5-2b53e0560bbf\" xlink:actuate=\"onRequest\" xlink:href=\"psysml:f57d57d9-12d9-410c-acd5-2b53e0560bbf\" xlink:show=\"new\" xlink:title=\"psysml:f57d57d9-12d9-410c-acd5-2b53e0560bbf\" xlink:type=\"simple\"><path d=\"M64.71,100.09 C65.9,143.61 75.8,216.5 85.96,252.9 \" fill=\"none\" id=\"E7&lt;-E8\" style=\"stroke: #A80036; stroke-width: 1.0;\"/><polygon fill=\"#FFFFFF\" points=\"64.64,87.08,60.673,93.1019,64.7059,99.0798,68.6729,93.0579,64.64,87.08\" style=\"stroke: #A80036; stroke-width: 1.0;\"/><text fill=\"#000000\" font-family=\"sans-serif\" font-size=\"13\" lengthAdjust=\"spacingAndGlyphs\" textLength=\"8\" x=\"73.918\" y=\"241.7694\">1</text></a><!--MD5=[dc164f5e8a733ab456ef1add180e9e34]\n",
       "reverse link E7 to E8--><a href=\"psysml:b8781950-4d8a-4fb9-9fe0-7c7847cd278f\" target=\"_top\" title=\"psysml:b8781950-4d8a-4fb9-9fe0-7c7847cd278f\" xlink:actuate=\"onRequest\" xlink:href=\"psysml:b8781950-4d8a-4fb9-9fe0-7c7847cd278f\" xlink:show=\"new\" xlink:title=\"psysml:b8781950-4d8a-4fb9-9fe0-7c7847cd278f\" xlink:type=\"simple\"><path d=\"M85.29,101.8 C95.38,145.5 103.94,216.97 102.84,252.9 \" fill=\"none\" id=\"E7&lt;-E8-1\" style=\"stroke: #A80036; stroke-width: 1.0; stroke-dasharray: 7.0,7.0;\"/><ellipse cx=\"83.5087\" cy=\"94.8289\" fill=\"#FFFFFF\" rx=\"8\" ry=\"8\" style=\"stroke: #A80036; stroke-width: 1.0;\"/><line style=\"stroke: #A80036; stroke-width: 1.0;\" x1=\"85.4973\" x2=\"81.52\" y1=\"102.5778\" y2=\"87.08\"/><line style=\"stroke: #A80036; stroke-width: 1.0;\" x1=\"75.7598\" x2=\"91.2575\" y1=\"96.8175\" y2=\"92.8402\"/><text fill=\"#000000\" font-family=\"sans-serif\" font-size=\"13\" lengthAdjust=\"spacingAndGlyphs\" textLength=\"8\" x=\"105.4845\" y=\"241.7694\">1</text></a><!--MD5=[0a839d0f80c2d72d4b9b307f046d0de8]\n",
       "link E6 to E8--><a href=\"psysml:117cd7b6-777c-4755-88f6-d7a432271d85\" target=\"_top\" title=\"psysml:117cd7b6-777c-4755-88f6-d7a432271d85\" xlink:actuate=\"onRequest\" xlink:href=\"psysml:117cd7b6-777c-4755-88f6-d7a432271d85\" xlink:show=\"new\" xlink:title=\"psysml:117cd7b6-777c-4755-88f6-d7a432271d85\" xlink:type=\"simple\"><path d=\"M120.24,193.06 C110.13,210.7 99.95,235.34 95.47,252.98 \" fill=\"none\" id=\"E6-E8\" style=\"stroke: #A80036; stroke-width: 3.0;\"/><text fill=\"#000000\" font-family=\"sans-serif\" font-size=\"13\" lengthAdjust=\"spacingAndGlyphs\" textLength=\"7\" x=\"87.1182\" y=\"241.8709\">*</text></a><!--MD5=[0a839d0f80c2d72d4b9b307f046d0de8]\n",
       "link E6 to E8--><a href=\"psysml:c7325d6a-fceb-4e80-be50-eff52df502df\" target=\"_top\" title=\"psysml:c7325d6a-fceb-4e80-be50-eff52df502df\" xlink:actuate=\"onRequest\" xlink:href=\"psysml:c7325d6a-fceb-4e80-be50-eff52df502df\" xlink:show=\"new\" xlink:title=\"psysml:c7325d6a-fceb-4e80-be50-eff52df502df\" xlink:type=\"simple\"><path d=\"M142.15,193.06 C137.83,210.7 127.64,235.34 117.37,252.98 \" fill=\"none\" id=\"E6-E8-1\" style=\"stroke: #A80036; stroke-width: 3.0;\"/><text fill=\"#000000\" font-family=\"sans-serif\" font-size=\"13\" lengthAdjust=\"spacingAndGlyphs\" textLength=\"7\" x=\"114.9038\" y=\"241.8709\">*</text></a><!--MD5=[2f6cc202762f5a7d1a1508dff57fb991]\n",
       "@startuml\r\n",
       " \r\n",
       "package \"AliasTest\" as E1  [[psysml:6242facc-ff06-44d1-b4f3-467b2ef71334 ]]  {\r\n",
       "comp usage \"b :> ISQSpaceTime::width\" as E2 << <<(U,orange) attribute>> [[psysml:c7d5118b-0b42-4b21-9071-aba180ff097b ]] {\r\n",
       "}\r\n",
       "comp def \"P1\" as E3 << << (B,green) >> [[psysml:f3a385fe-c72f-4489-86aa-e832e0f5c54b ]] {\r\n",
       "}\r\n",
       "comp usage \"porig1 \" as E4 << << (P,blue) port>> [[psysml:12c3f617-858e-4877-bab3-72d077a58110 ]] {\r\n",
       "}\r\n",
       "comp usage \"p1: P1 \" as E5 << << (P,limegreen) part>> [[psysml:f19cd7cf-ead7-487d-acf0-998c02877f08 ]] {\r\n",
       "}\r\n",
       "comp usage \"po1 \" as E6 << << (P,blue) port>> [[psysml:7bd77f36-e1da-430e-90ed-8aecc87780c5 ]] {\r\n",
       "}\r\n",
       "comp usage \"p2: P1 \" as E7 << << (P,limegreen) part>> [[psysml:3758ddaf-2d7c-4372-b46d-cbe5af56d102 ]] {\r\n",
       "}\r\n",
       "comp usage \"pdest \" as E8 << << (P,blue) port>> [[psysml:009efb1a-81d8-4f5e-8e24-a878e8625106 ]] {\r\n",
       "}\r\n",
       "}\r\n",
       "E3 o- - \"1\"E4 [[psysml:97bd4c72-9c32-47a6-a147-0b42cd362230 ]] \r\n",
       "E3 +.. \"1\"E4 [[psysml:dd790abf-ac6c-4371-bdbb-56cf5ab0181d ]] \r\n",
       "E5 - -:|> E3 [[psysml:a968a559-ae75-4ff7-b264-66e5a143558d ]] \r\n",
       "E5 o- - \"1\"E6 [[psysml:167a231e-25d4-4100-8e0d-53e0a4e750c8 ]] \r\n",
       "E6 - -||> E4 [[psysml:57ff51c2-e85d-4f72-aa72-bbf7c251408b ]] \r\n",
       "E7 - -:|> E3 [[psysml:a1db7df5-c75d-4551-8d1a-744022949b4d ]] \r\n",
       "E7 o- - \"1\"E8 [[psysml:f57d57d9-12d9-410c-acd5-2b53e0560bbf ]] \r\n",
       "E7 +.. \"1\"E8 [[psysml:b8781950-4d8a-4fb9-9fe0-7c7847cd278f ]] \r\n",
       "E6 -[thickness=3]- \"*\"E8 [[psysml:117cd7b6-777c-4755-88f6-d7a432271d85 ]] \r\n",
       "E6 -[thickness=3]- \"*\"E8 [[psysml:c7325d6a-fceb-4e80-be50-eff52df502df ]] \r\n",
       "@enduml\r\n",
       "\n",
       "PlantUML version 1.2020.13(Sat Jun 13 12:26:38 UTC 2020)\n",
       "(EPL source distribution)\n",
       "Java Runtime: OpenJDK Runtime Environment\n",
       "JVM: OpenJDK 64-Bit Server VM\n",
       "Default Encoding: UTF-8\n",
       "Language: en\n",
       "Country: null\n",
       "--></g></svg>"
      ]
     },
     "execution_count": 31,
     "metadata": {},
     "output_type": "execute_result"
    }
   ],
   "source": [
    "%viz --style=\"PLANTUML\" --view=\"Tree\" \"AliasTest\""
   ]
  },
  {
   "cell_type": "code",
   "execution_count": 32,
   "id": "10f1f205",
   "metadata": {
    "execution": {
     "iopub.execute_input": "2022-03-21T07:52:17.484893Z",
     "iopub.status.busy": "2022-03-21T07:52:17.484496Z",
     "iopub.status.idle": "2022-03-21T07:52:17.574086Z",
     "shell.execute_reply": "2022-03-21T07:52:17.572942Z"
    }
   },
   "outputs": [
    {
     "data": {
      "image/svg+xml": [
       "<?xml version=\"1.0\" encoding=\"UTF-8\" standalone=\"no\"?><svg xmlns=\"http://www.w3.org/2000/svg\" xmlns:xlink=\"http://www.w3.org/1999/xlink\" contentScriptType=\"application/ecmascript\" contentStyleType=\"text/css\" height=\"300px\" preserveAspectRatio=\"none\" style=\"width:603px;height:300px;background:#000000;\" version=\"1.1\" viewBox=\"0 0 603 300\" width=\"603px\" zoomAndPan=\"magnify\"><defs/><g><rect fill=\"#212321\" height=\"1\" style=\"stroke: #212321; stroke-width: 1.0;\" width=\"1\" x=\"0\" y=\"0\"/><rect fill=\"#FFFFFF\" height=\"202.8012\" style=\"stroke: #FFFFFF; stroke-width: 1.0;\" width=\"602\" x=\"0\" y=\"0\"/><text fill=\"#000000\" font-family=\"sans-serif\" font-size=\"12\" font-weight=\"bold\" lengthAdjust=\"spacingAndGlyphs\" textLength=\"139\" x=\"5\" y=\"16.1387\">Welcome to PlantUML!</text><text fill=\"#000000\" font-family=\"sans-serif\" font-size=\"12\" lengthAdjust=\"spacingAndGlyphs\" textLength=\"0\" x=\"9\" y=\"30.1074\"/><text fill=\"#000000\" font-family=\"sans-serif\" font-size=\"12\" lengthAdjust=\"spacingAndGlyphs\" textLength=\"293\" x=\"5\" y=\"44.0762\">If you use this software, you accept its license.</text><text fill=\"#000000\" font-family=\"sans-serif\" font-size=\"12\" lengthAdjust=\"spacingAndGlyphs\" textLength=\"107\" x=\"5\" y=\"58.0449\">(details by typing</text><text fill=\"#000000\" font-family=\"monospace\" font-size=\"12\" lengthAdjust=\"spacingAndGlyphs\" textLength=\"42\" x=\"116\" y=\"58.595\">license</text><text fill=\"#000000\" font-family=\"sans-serif\" font-size=\"12\" lengthAdjust=\"spacingAndGlyphs\" textLength=\"56\" x=\"162\" y=\"58.0449\">keyword)</text><text fill=\"#000000\" font-family=\"sans-serif\" font-size=\"12\" lengthAdjust=\"spacingAndGlyphs\" textLength=\"0\" x=\"9\" y=\"72.0137\"/><text fill=\"#000000\" font-family=\"sans-serif\" font-size=\"12\" lengthAdjust=\"spacingAndGlyphs\" textLength=\"283\" x=\"5\" y=\"85.9824\">You can start with a simple UML Diagram like:</text><text fill=\"#000000\" font-family=\"sans-serif\" font-size=\"12\" lengthAdjust=\"spacingAndGlyphs\" textLength=\"0\" x=\"9\" y=\"99.9512\"/><text fill=\"#000000\" font-family=\"monospace\" font-size=\"12\" lengthAdjust=\"spacingAndGlyphs\" textLength=\"102\" x=\"5\" y=\"113.0893\">Bob-&gt;Alice: Hello</text><text fill=\"#000000\" font-family=\"sans-serif\" font-size=\"12\" lengthAdjust=\"spacingAndGlyphs\" textLength=\"0\" x=\"9\" y=\"126.508\"/><text fill=\"#000000\" font-family=\"sans-serif\" font-size=\"12\" lengthAdjust=\"spacingAndGlyphs\" textLength=\"14\" x=\"5\" y=\"140.4768\">Or</text><text fill=\"#000000\" font-family=\"sans-serif\" font-size=\"12\" lengthAdjust=\"spacingAndGlyphs\" textLength=\"0\" x=\"9\" y=\"154.4455\"/><text fill=\"#000000\" font-family=\"monospace\" font-size=\"12\" lengthAdjust=\"spacingAndGlyphs\" textLength=\"78\" x=\"5\" y=\"167.5837\">class Example</text><text fill=\"#000000\" font-family=\"sans-serif\" font-size=\"12\" lengthAdjust=\"spacingAndGlyphs\" textLength=\"0\" x=\"9\" y=\"181.0023\"/><text fill=\"#000000\" font-family=\"sans-serif\" font-size=\"12\" lengthAdjust=\"spacingAndGlyphs\" textLength=\"349\" x=\"5\" y=\"194.9711\">You will find more information about PlantUML syntax on</text><text fill=\"#000000\" font-family=\"sans-serif\" font-size=\"12\" lengthAdjust=\"spacingAndGlyphs\" text-decoration=\"underline\" textLength=\"129\" x=\"358\" y=\"194.9711\">https://plantuml.com</text><image height=\"71\" width=\"80\" x=\"516\" xlink:href=\"data:image/png;base64,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\" y=\"6\"/><rect fill=\"#000000\" height=\"96.4844\" style=\"stroke: #000000; stroke-width: 1.0;\" width=\"602\" x=\"0\" y=\"202.8012\"/><rect fill=\"#33FF02\" height=\"21.2969\" style=\"stroke: #33FF02; stroke-width: 1.0;\" width=\"145\" x=\"5\" y=\"207.8012\"/><text fill=\"#000000\" font-family=\"sans-serif\" font-size=\"14\" font-weight=\"bold\" lengthAdjust=\"spacingAndGlyphs\" textLength=\"143\" x=\"6\" y=\"222.8012\">[From string (line 2) ]</text><text fill=\"#33FF02\" font-family=\"sans-serif\" font-size=\"14\" font-weight=\"bold\" lengthAdjust=\"spacingAndGlyphs\" textLength=\"0\" x=\"9\" y=\"243.0981\"/><text fill=\"#33FF02\" font-family=\"sans-serif\" font-size=\"14\" font-weight=\"bold\" lengthAdjust=\"spacingAndGlyphs\" textLength=\"70\" x=\"5\" y=\"259.3949\">@startuml</text><text fill=\"#33FF02\" font-family=\"sans-serif\" font-size=\"14\" font-weight=\"bold\" lengthAdjust=\"spacingAndGlyphs\" textLength=\"0\" x=\"9\" y=\"275.6918\"/><text fill=\"#FF0000\" font-family=\"sans-serif\" font-size=\"14\" font-weight=\"bold\" lengthAdjust=\"spacingAndGlyphs\" textLength=\"124\" x=\"9\" y=\"291.9887\">Empty description</text><!--MD5=[f59edd8218d337f74d0c332fc6737304]\n",
       "@startuml\r\n",
       " \r\n",
       "@enduml\r\n",
       "\n",
       "PlantUML version 1.2020.13(Sat Jun 13 12:26:38 UTC 2020)\n",
       "(EPL source distribution)\n",
       "Java Runtime: OpenJDK Runtime Environment\n",
       "JVM: OpenJDK 64-Bit Server VM\n",
       "Default Encoding: UTF-8\n",
       "Language: en\n",
       "Country: null\n",
       "--></g></svg>"
      ]
     },
     "execution_count": 32,
     "metadata": {},
     "output_type": "execute_result"
    }
   ],
   "source": [
    "%viz --style=\"PLANTUML\" --view=\"State\" \"AliasTest\""
   ]
  },
  {
   "cell_type": "code",
   "execution_count": 33,
   "id": "d719b2a6",
   "metadata": {
    "execution": {
     "iopub.execute_input": "2022-03-21T07:52:17.623790Z",
     "iopub.status.busy": "2022-03-21T07:52:17.623397Z",
     "iopub.status.idle": "2022-03-21T07:52:17.662748Z",
     "shell.execute_reply": "2022-03-21T07:52:17.661394Z"
    }
   },
   "outputs": [
    {
     "data": {
      "image/svg+xml": [
       "<?xml version=\"1.0\" encoding=\"UTF-8\" standalone=\"no\"?><svg xmlns=\"http://www.w3.org/2000/svg\" xmlns:xlink=\"http://www.w3.org/1999/xlink\" contentScriptType=\"application/ecmascript\" contentStyleType=\"text/css\" height=\"217px\" preserveAspectRatio=\"none\" style=\"width:549px;height:217px;\" version=\"1.1\" viewBox=\"0 0 549 217\" width=\"549px\" zoomAndPan=\"magnify\"><defs><filter height=\"300%\" id=\"f23pyk82qs5kb\" width=\"300%\" x=\"-1\" y=\"-1\"><feGaussianBlur result=\"blurOut\" stdDeviation=\"2.0\"/><feColorMatrix in=\"blurOut\" result=\"blurOut2\" type=\"matrix\" values=\"0 0 0 0 0 0 0 0 0 0 0 0 0 0 0 0 0 0 .4 0\"/><feOffset dx=\"4.0\" dy=\"4.0\" in=\"blurOut2\" result=\"blurOut3\"/><feBlend in=\"SourceGraphic\" in2=\"blurOut3\" mode=\"normal\"/></filter></defs><g><!--MD5=[fbc87193dbaf4d95561dea2c320d4a47]\n",
       "cluster E1--><a href=\"psysml:6242facc-ff06-44d1-b4f3-467b2ef71334\" target=\"_top\" title=\"psysml:6242facc-ff06-44d1-b4f3-467b2ef71334\" xlink:actuate=\"onRequest\" xlink:href=\"psysml:6242facc-ff06-44d1-b4f3-467b2ef71334\" xlink:show=\"new\" xlink:title=\"psysml:6242facc-ff06-44d1-b4f3-467b2ef71334\" xlink:type=\"simple\"><polygon fill=\"#FFFFFF\" filter=\"url(#f23pyk82qs5kb)\" points=\"16,6,84,6,91,28.2969,527,28.2969,527,205,16,205,16,6\" style=\"stroke: #000000; stroke-width: 1.5;\"/><line style=\"stroke: #000000; stroke-width: 1.5;\" x1=\"16\" x2=\"91\" y1=\"28.2969\" y2=\"28.2969\"/><text fill=\"#000000\" font-family=\"sans-serif\" font-size=\"14\" font-weight=\"bold\" lengthAdjust=\"spacingAndGlyphs\" textLength=\"62\" x=\"20\" y=\"20.9951\">AliasTest</text></a><!--MD5=[d5e69f78d87373223dbae638b30a9c99]\n",
       "cluster E3--><a href=\"psysml:f3a385fe-c72f-4489-86aa-e832e0f5c54b\" target=\"_top\" title=\"psysml:f3a385fe-c72f-4489-86aa-e832e0f5c54b\" xlink:actuate=\"onRequest\" xlink:href=\"psysml:f3a385fe-c72f-4489-86aa-e832e0f5c54b\" xlink:show=\"new\" xlink:title=\"psysml:f3a385fe-c72f-4489-86aa-e832e0f5c54b\" xlink:type=\"simple\"><rect fill=\"#FFFFFF\" filter=\"url(#f23pyk82qs5kb)\" height=\"74\" id=\"E3\" style=\"stroke: #A80036; stroke-width: 1.5;\" width=\"83\" x=\"432\" y=\"64\"/><rect fill=\"#FEFECE\" height=\"23.9688\" style=\"stroke: #A80036; stroke-width: 1.5;\" width=\"83\" x=\"432\" y=\"64\"/><text fill=\"#000000\" font-family=\"sans-serif\" font-size=\"12\" lengthAdjust=\"spacingAndGlyphs\" textLength=\"16\" x=\"465.5\" y=\"80.1387\">P1</text></a><!--MD5=[14e3b0961a2654348d326746436168a1]\n",
       "cluster E6--><a href=\"psysml:f19cd7cf-ead7-487d-acf0-998c02877f08\" target=\"_top\" title=\"psysml:f19cd7cf-ead7-487d-acf0-998c02877f08\" xlink:actuate=\"onRequest\" xlink:href=\"psysml:f19cd7cf-ead7-487d-acf0-998c02877f08\" xlink:show=\"new\" xlink:title=\"psysml:f19cd7cf-ead7-487d-acf0-998c02877f08\" xlink:type=\"simple\"><rect fill=\"#FFFFFF\" filter=\"url(#f23pyk82qs5kb)\" height=\"74\" id=\"E6\" rx=\"10\" ry=\"10\" style=\"stroke: #A80036; stroke-width: 1.5;\" width=\"98\" x=\"232\" y=\"64\"/><rect fill=\"#FEFECE\" height=\"23.9688\" rx=\"10\" ry=\"10\" style=\"stroke: #FEFECE; stroke-width: 1.5;\" width=\"98\" x=\"232\" y=\"64\"/><rect fill=\"#FEFECE\" height=\"10\" style=\"stroke: #FEFECE; stroke-width: 1.5;\" width=\"98\" x=\"232\" y=\"77.9688\"/><rect fill=\"none\" height=\"74\" id=\"E6\" rx=\"10\" ry=\"10\" style=\"stroke: #A80036; stroke-width: 1.5;\" width=\"98\" x=\"232\" y=\"64\"/><text fill=\"#000000\" font-family=\"sans-serif\" font-size=\"12\" lengthAdjust=\"spacingAndGlyphs\" textLength=\"40\" x=\"261\" y=\"80.1387\">p1: P1</text><line style=\"stroke: #A80036; stroke-width: 1.0;\" x1=\"232\" x2=\"330\" y1=\"87.9688\" y2=\"87.9688\"/></a><!--MD5=[55dfccfc6c49c2d10cd1bd2211a6c90c]\n",
       "cluster E8--><a href=\"psysml:3758ddaf-2d7c-4372-b46d-cbe5af56d102\" target=\"_top\" title=\"psysml:3758ddaf-2d7c-4372-b46d-cbe5af56d102\" xlink:actuate=\"onRequest\" xlink:href=\"psysml:3758ddaf-2d7c-4372-b46d-cbe5af56d102\" xlink:show=\"new\" xlink:title=\"psysml:3758ddaf-2d7c-4372-b46d-cbe5af56d102\" xlink:type=\"simple\"><rect fill=\"#FFFFFF\" filter=\"url(#f23pyk82qs5kb)\" height=\"76.5\" id=\"E8\" rx=\"10\" ry=\"10\" style=\"stroke: #A80036; stroke-width: 1.5;\" width=\"83\" x=\"333\" y=\"112.5\"/><rect fill=\"#FEFECE\" height=\"23.9688\" rx=\"10\" ry=\"10\" style=\"stroke: #FEFECE; stroke-width: 1.5;\" width=\"83\" x=\"333\" y=\"112.5\"/><rect fill=\"#FEFECE\" height=\"10\" style=\"stroke: #FEFECE; stroke-width: 1.5;\" width=\"83\" x=\"333\" y=\"126.4688\"/><rect fill=\"none\" height=\"76.5\" id=\"E8\" rx=\"10\" ry=\"10\" style=\"stroke: #A80036; stroke-width: 1.5;\" width=\"83\" x=\"333\" y=\"112.5\"/><text fill=\"#000000\" font-family=\"sans-serif\" font-size=\"12\" lengthAdjust=\"spacingAndGlyphs\" textLength=\"40\" x=\"354.5\" y=\"128.6387\">p2: P1</text><line style=\"stroke: #A80036; stroke-width: 1.0;\" x1=\"333\" x2=\"416\" y1=\"136.4688\" y2=\"136.4688\"/></a><!--MD5=[b4997ac47864f28c2f74865a473b2911]\n",
       "class E2--><a href=\"psysml:c7d5118b-0b42-4b21-9071-aba180ff097b\" target=\"_top\" title=\"psysml:c7d5118b-0b42-4b21-9071-aba180ff097b\" xlink:actuate=\"onRequest\" xlink:href=\"psysml:c7d5118b-0b42-4b21-9071-aba180ff097b\" xlink:show=\"new\" xlink:title=\"psysml:c7d5118b-0b42-4b21-9071-aba180ff097b\" xlink:type=\"simple\"><rect fill=\"#FEFECE\" filter=\"url(#f23pyk82qs5kb)\" height=\"45.9375\" id=\"E2\" rx=\"10\" ry=\"10\" style=\"stroke: #A80036; stroke-width: 1.5;\" width=\"191\" x=\"32.5\" y=\"41\"/><ellipse cx=\"47.5\" cy=\"59.9688\" fill=\"#FFA500\" rx=\"11\" ry=\"11\" style=\"stroke: #A80036; stroke-width: 1.0;\"/><path d=\"M47.25,65.4375 Q45.5,65.4375 44.5469,64.4063 Q43.6094,63.3594 43.6094,61.5156 L43.6094,54.625 L45.6719,54.625 L45.6719,54.7813 Q45.5781,54.875 45.5469,55.0156 Q45.5313,55.1406 45.5313,55.4063 L45.5313,61.5313 Q45.5313,62.625 45.9063,63.25 Q46.2813,63.875 47.2656,63.875 Q48.25,63.875 48.6406,63.25 Q49.0313,62.625 49.0313,61.4844 L49.0313,54.625 L50.9063,54.625 L50.9063,61.4688 Q50.9063,63.5 49.875,64.4688 Q48.8594,65.4375 47.25,65.4375 Z \"/><text fill=\"#000000\" font-family=\"sans-serif\" font-size=\"12\" font-style=\"italic\" lengthAdjust=\"spacingAndGlyphs\" textLength=\"69\" x=\"106.5\" y=\"57.1387\">«attribute»</text><text fill=\"#000000\" font-family=\"sans-serif\" font-size=\"12\" lengthAdjust=\"spacingAndGlyphs\" textLength=\"159\" x=\"61.5\" y=\"71.1074\">b :&gt; ISQSpaceTime::width</text><line style=\"stroke: #A80036; stroke-width: 1.5;\" x1=\"33.5\" x2=\"222.5\" y1=\"78.9375\" y2=\"78.9375\"/></a><text fill=\"#000000\" font-family=\"sans-serif\" font-size=\"14\" lengthAdjust=\"spacingAndGlyphs\" textLength=\"44\" x=\"426\" y=\"42.6982\">porig1</text><rect fill=\"#A80036\" height=\"12\" style=\"stroke: #FEFECE; stroke-width: 1.5;\" width=\"12\" x=\"444\" y=\"58\"/><text fill=\"#000000\" font-family=\"sans-serif\" font-size=\"14\" lengthAdjust=\"spacingAndGlyphs\" textLength=\"44\" x=\"473\" y=\"42.6982\">porig1</text><rect fill=\"#A80036\" height=\"12\" style=\"stroke: #FEFECE; stroke-width: 1.5;\" width=\"12\" x=\"491\" y=\"58\"/><text fill=\"#000000\" font-family=\"sans-serif\" font-size=\"14\" lengthAdjust=\"spacingAndGlyphs\" textLength=\"27\" x=\"296.5\" y=\"42.6982\">po1</text><rect fill=\"#A80036\" height=\"12\" style=\"stroke: #FEFECE; stroke-width: 1.5;\" width=\"12\" x=\"306\" y=\"58\"/><text fill=\"#000000\" font-family=\"sans-serif\" font-size=\"14\" lengthAdjust=\"spacingAndGlyphs\" textLength=\"40\" x=\"329\" y=\"91.1982\">pdest</text><rect fill=\"#A80036\" height=\"12\" style=\"stroke: #FEFECE; stroke-width: 1.5;\" width=\"12\" x=\"345\" y=\"106.5\"/><text fill=\"#000000\" font-family=\"sans-serif\" font-size=\"14\" lengthAdjust=\"spacingAndGlyphs\" textLength=\"40\" x=\"376\" y=\"91.1982\">pdest</text><rect fill=\"#A80036\" height=\"12\" style=\"stroke: #FEFECE; stroke-width: 1.5;\" width=\"12\" x=\"392\" y=\"106.5\"/><!--MD5=[1c0b9414cc86e0744215edee6abd8926]\n",
       "link E7 to E9--><a href=\"psysml:117cd7b6-777c-4755-88f6-d7a432271d85\" target=\"_top\" title=\"psysml:117cd7b6-777c-4755-88f6-d7a432271d85\" xlink:actuate=\"onRequest\" xlink:href=\"psysml:117cd7b6-777c-4755-88f6-d7a432271d85\" xlink:show=\"new\" xlink:title=\"psysml:117cd7b6-777c-4755-88f6-d7a432271d85\" xlink:type=\"simple\"><path d=\"M307.99,70.33 C310.12,80.83 330.45,103.69 344.63,109.91 \" fill=\"none\" id=\"E7-E9\" style=\"stroke: #A80036; stroke-width: 3.0;\"/><text fill=\"#000000\" font-family=\"sans-serif\" font-size=\"13\" lengthAdjust=\"spacingAndGlyphs\" textLength=\"7\" x=\"330.1041\" y=\"99.3339\">*</text></a><!--MD5=[1c0b9414cc86e0744215edee6abd8926]\n",
       "link E7 to E9--><a href=\"psysml:c7325d6a-fceb-4e80-be50-eff52df502df\" target=\"_top\" title=\"psysml:c7325d6a-fceb-4e80-be50-eff52df502df\" xlink:actuate=\"onRequest\" xlink:href=\"psysml:c7325d6a-fceb-4e80-be50-eff52df502df\" xlink:show=\"new\" xlink:title=\"psysml:c7325d6a-fceb-4e80-be50-eff52df502df\" xlink:type=\"simple\"><path d=\"M318.05,66.34 C332.81,72.18 353.77,95.55 355.52,106.18 \" fill=\"none\" id=\"E7-E9-1\" style=\"stroke: #A80036; stroke-width: 3.0;\"/><text fill=\"#000000\" font-family=\"sans-serif\" font-size=\"13\" lengthAdjust=\"spacingAndGlyphs\" textLength=\"7\" x=\"349.0938\" y=\"95.5105\">*</text></a><!--MD5=[976cdc614729446ae4cb9f7bf2e5a7ce]\n",
       "@startuml\r\n",
       "skinparam ranksep 10\r\n",
       "skinparam rectangle {\r\n",
       " backgroundColor<<block>> LightGreen\r\n",
       "}\r\n",
       " \r\n",
       "package \"AliasTest\" as E1  [[psysml:6242facc-ff06-44d1-b4f3-467b2ef71334 ]]  {\r\n",
       "comp usage \"b :> ISQSpaceTime::width\" as E2 << <<(U,orange) attribute>> [[psysml:c7d5118b-0b42-4b21-9071-aba180ff097b ]] {\r\n",
       "}\r\n",
       "rec def \"P1\" as E3 << << (B,green) >> [[psysml:f3a385fe-c72f-4489-86aa-e832e0f5c54b ]] {\r\n",
       "portin \"porig1 \" as E4 << << (P,blue) port>> [[psysml:12c3f617-858e-4877-bab3-72d077a58110 ]] \r\n",
       "portin \"porig1 \" as E5 << << (P,blue) port>> [[psysml:12c3f617-858e-4877-bab3-72d077a58110 ]] \r\n",
       "}\r\n",
       "rec usage \"p1: P1\" as E6  [[psysml:f19cd7cf-ead7-487d-acf0-998c02877f08 ]] {\r\n",
       "portin \"po1 \" as E7 << << (P,blue) port>> [[psysml:7bd77f36-e1da-430e-90ed-8aecc87780c5 ]] \r\n",
       "}\r\n",
       "rec usage \"p2: P1\" as E8  [[psysml:3758ddaf-2d7c-4372-b46d-cbe5af56d102 ]] {\r\n",
       "portin \"pdest \" as E9 << << (P,blue) port>> [[psysml:009efb1a-81d8-4f5e-8e24-a878e8625106 ]] \r\n",
       "portin \"pdest \" as E10 << << (P,blue) port>> [[psysml:009efb1a-81d8-4f5e-8e24-a878e8625106 ]] \r\n",
       "}\r\n",
       "}\r\n",
       "E7 -[thickness=3]- \"*\"E9 [[psysml:117cd7b6-777c-4755-88f6-d7a432271d85 ]] \r\n",
       "E7 -[thickness=3]- \"*\"E9 [[psysml:c7325d6a-fceb-4e80-be50-eff52df502df ]] \r\n",
       "@enduml\r\n",
       "\n",
       "PlantUML version 1.2020.13(Sat Jun 13 12:26:38 UTC 2020)\n",
       "(EPL source distribution)\n",
       "Java Runtime: OpenJDK Runtime Environment\n",
       "JVM: OpenJDK 64-Bit Server VM\n",
       "Default Encoding: UTF-8\n",
       "Language: en\n",
       "Country: null\n",
       "--></g></svg>"
      ]
     },
     "execution_count": 33,
     "metadata": {},
     "output_type": "execute_result"
    }
   ],
   "source": [
    "%viz --style=\"PLANTUML\" --view=\"Interconnection\" \"AliasTest\""
   ]
  },
  {
   "cell_type": "code",
   "execution_count": 34,
   "id": "385faf13",
   "metadata": {
    "execution": {
     "iopub.execute_input": "2022-03-21T07:52:17.712438Z",
     "iopub.status.busy": "2022-03-21T07:52:17.712042Z",
     "iopub.status.idle": "2022-03-21T07:52:17.717297Z",
     "shell.execute_reply": "2022-03-21T07:52:17.717606Z"
    }
   },
   "outputs": [
    {
     "data": {
      "image/svg+xml": [
       "<?xml version=\"1.0\" encoding=\"UTF-8\" standalone=\"no\"?><svg xmlns=\"http://www.w3.org/2000/svg\" xmlns:xlink=\"http://www.w3.org/1999/xlink\" contentScriptType=\"application/ecmascript\" contentStyleType=\"text/css\" height=\"12px\" preserveAspectRatio=\"none\" style=\"width:12px;height:12px;\" version=\"1.1\" viewBox=\"0 0 12 12\" width=\"12px\" zoomAndPan=\"magnify\"><defs/><g><!--MD5=[6a4cb978cab31700e1ce5529f947a75d]\n",
       "@startuml\r\n",
       "skinparam ranksep 8\r\n",
       " \r\n",
       "@enduml\r\n",
       "\n",
       "PlantUML version 1.2020.13(Sat Jun 13 12:26:38 UTC 2020)\n",
       "(EPL source distribution)\n",
       "Java Runtime: OpenJDK Runtime Environment\n",
       "JVM: OpenJDK 64-Bit Server VM\n",
       "Default Encoding: UTF-8\n",
       "Language: en\n",
       "Country: null\n",
       "--></g></svg>"
      ]
     },
     "execution_count": 34,
     "metadata": {},
     "output_type": "execute_result"
    }
   ],
   "source": [
    "%viz --style=\"PLANTUML\" --view=\"Action\" \"AliasTest\""
   ]
  },
  {
   "cell_type": "code",
   "execution_count": 35,
   "id": "4d03058a",
   "metadata": {
    "execution": {
     "iopub.execute_input": "2022-03-21T07:52:17.767868Z",
     "iopub.status.busy": "2022-03-21T07:52:17.767457Z",
     "iopub.status.idle": "2022-03-21T07:52:17.772085Z",
     "shell.execute_reply": "2022-03-21T07:52:17.771751Z"
    }
   },
   "outputs": [
    {
     "data": {
      "image/svg+xml": [
       "<?xml version=\"1.0\" encoding=\"UTF-8\" standalone=\"no\"?><svg xmlns=\"http://www.w3.org/2000/svg\" xmlns:xlink=\"http://www.w3.org/1999/xlink\" contentScriptType=\"application/ecmascript\" contentStyleType=\"text/css\" height=\"12px\" preserveAspectRatio=\"none\" style=\"width:12px;height:12px;\" version=\"1.1\" viewBox=\"0 0 12 12\" width=\"12px\" zoomAndPan=\"magnify\"><defs/><g><!--MD5=[ca4faa0b02def275ea33c14ea7a1a98d]\n",
       "@startuml\r\n",
       "skinparam roundcorner 20\r\n",
       "skinparam BoxPadding 20\r\n",
       "skinparam SequenceBoxBackgroundColor #white\r\n",
       "skinparam style strictuml\r\n",
       "skinparam maxMessageSize 100\r\n",
       " \r\n",
       "@enduml\r\n",
       "\n",
       "PlantUML version 1.2020.13(Sat Jun 13 12:26:38 UTC 2020)\n",
       "(EPL source distribution)\n",
       "Java Runtime: OpenJDK Runtime Environment\n",
       "JVM: OpenJDK 64-Bit Server VM\n",
       "Default Encoding: UTF-8\n",
       "Language: en\n",
       "Country: null\n",
       "--></g></svg>"
      ]
     },
     "execution_count": 35,
     "metadata": {},
     "output_type": "execute_result"
    }
   ],
   "source": [
    "%viz --style=\"PLANTUML\" --view=\"Sequence\" \"AliasTest\""
   ]
  },
  {
   "cell_type": "code",
   "execution_count": 36,
   "id": "c8df3bb8",
   "metadata": {
    "execution": {
     "iopub.execute_input": "2022-03-21T07:52:17.821777Z",
     "iopub.status.busy": "2022-03-21T07:52:17.821376Z",
     "iopub.status.idle": "2022-03-21T07:52:17.853511Z",
     "shell.execute_reply": "2022-03-21T07:52:17.852028Z"
    }
   },
   "outputs": [
    {
     "data": {
      "image/svg+xml": [
       "<?xml version=\"1.0\" encoding=\"UTF-8\" standalone=\"no\"?><svg xmlns=\"http://www.w3.org/2000/svg\" xmlns:xlink=\"http://www.w3.org/1999/xlink\" contentScriptType=\"application/ecmascript\" contentStyleType=\"text/css\" height=\"327px\" preserveAspectRatio=\"none\" style=\"width:484px;height:327px;\" version=\"1.1\" viewBox=\"0 0 484 327\" width=\"484px\" zoomAndPan=\"magnify\"><defs><filter height=\"300%\" id=\"fo3rcb94inc9n\" width=\"300%\" x=\"-1\" y=\"-1\"><feGaussianBlur result=\"blurOut\" stdDeviation=\"2.0\"/><feColorMatrix in=\"blurOut\" result=\"blurOut2\" type=\"matrix\" values=\"0 0 0 0 0 0 0 0 0 0 0 0 0 0 0 0 0 0 .4 0\"/><feOffset dx=\"4.0\" dy=\"4.0\" in=\"blurOut2\" result=\"blurOut3\"/><feBlend in=\"SourceGraphic\" in2=\"blurOut3\" mode=\"normal\"/></filter></defs><g><!--MD5=[fbc87193dbaf4d95561dea2c320d4a47]\n",
       "cluster E1--><a href=\"psysml:6242facc-ff06-44d1-b4f3-467b2ef71334\" target=\"_top\" title=\"psysml:6242facc-ff06-44d1-b4f3-467b2ef71334\" xlink:actuate=\"onRequest\" xlink:href=\"psysml:6242facc-ff06-44d1-b4f3-467b2ef71334\" xlink:show=\"new\" xlink:title=\"psysml:6242facc-ff06-44d1-b4f3-467b2ef71334\" xlink:type=\"simple\"><polygon fill=\"#FFFFFF\" filter=\"url(#fo3rcb94inc9n)\" points=\"16,6,84,6,91,28.2969,462,28.2969,462,315,16,315,16,6\" style=\"stroke: #000000; stroke-width: 1.5;\"/><line style=\"stroke: #000000; stroke-width: 1.5;\" x1=\"16\" x2=\"91\" y1=\"28.2969\" y2=\"28.2969\"/><text fill=\"#000000\" font-family=\"sans-serif\" font-size=\"14\" font-weight=\"bold\" lengthAdjust=\"spacingAndGlyphs\" textLength=\"62\" x=\"20\" y=\"20.9951\">AliasTest</text></a><!--MD5=[b4997ac47864f28c2f74865a473b2911]\n",
       "class E2--><a href=\"psysml:c7d5118b-0b42-4b21-9071-aba180ff097b\" target=\"_top\" title=\"psysml:c7d5118b-0b42-4b21-9071-aba180ff097b\" xlink:actuate=\"onRequest\" xlink:href=\"psysml:c7d5118b-0b42-4b21-9071-aba180ff097b\" xlink:show=\"new\" xlink:title=\"psysml:c7d5118b-0b42-4b21-9071-aba180ff097b\" xlink:type=\"simple\"><rect fill=\"#FEFECE\" filter=\"url(#fo3rcb94inc9n)\" height=\"45.9375\" id=\"E2\" rx=\"10\" ry=\"10\" style=\"stroke: #A80036; stroke-width: 1.5;\" width=\"191\" x=\"254.5\" y=\"41\"/><ellipse cx=\"269.5\" cy=\"59.9688\" fill=\"#FFA500\" rx=\"11\" ry=\"11\" style=\"stroke: #A80036; stroke-width: 1.0;\"/><path d=\"M269.25,65.4375 Q267.5,65.4375 266.5469,64.4063 Q265.6094,63.3594 265.6094,61.5156 L265.6094,54.625 L267.6719,54.625 L267.6719,54.7813 Q267.5781,54.875 267.5469,55.0156 Q267.5313,55.1406 267.5313,55.4063 L267.5313,61.5313 Q267.5313,62.625 267.9063,63.25 Q268.2813,63.875 269.2656,63.875 Q270.25,63.875 270.6406,63.25 Q271.0313,62.625 271.0313,61.4844 L271.0313,54.625 L272.9063,54.625 L272.9063,61.4688 Q272.9063,63.5 271.875,64.4688 Q270.8594,65.4375 269.25,65.4375 Z \"/><text fill=\"#000000\" font-family=\"sans-serif\" font-size=\"12\" font-style=\"italic\" lengthAdjust=\"spacingAndGlyphs\" textLength=\"69\" x=\"328.5\" y=\"57.1387\">«attribute»</text><text fill=\"#000000\" font-family=\"sans-serif\" font-size=\"12\" lengthAdjust=\"spacingAndGlyphs\" textLength=\"159\" x=\"283.5\" y=\"71.1074\">b :&gt; ISQSpaceTime::width</text><line style=\"stroke: #A80036; stroke-width: 1.5;\" x1=\"255.5\" x2=\"444.5\" y1=\"78.9375\" y2=\"78.9375\"/></a><!--MD5=[09b614a08d8cba4a07c9adeb5e0fee81]\n",
       "class E3--><a href=\"psysml:f3a385fe-c72f-4489-86aa-e832e0f5c54b\" target=\"_top\" title=\"psysml:f3a385fe-c72f-4489-86aa-e832e0f5c54b\" xlink:actuate=\"onRequest\" xlink:href=\"psysml:f3a385fe-c72f-4489-86aa-e832e0f5c54b\" xlink:show=\"new\" xlink:title=\"psysml:f3a385fe-c72f-4489-86aa-e832e0f5c54b\" xlink:type=\"simple\"><rect fill=\"#FEFECE\" filter=\"url(#fo3rcb94inc9n)\" height=\"40\" id=\"E3\" style=\"stroke: #A80036; stroke-width: 1.5;\" width=\"48\" x=\"209\" y=\"150\"/><ellipse cx=\"224\" cy=\"166\" fill=\"#008000\" rx=\"11\" ry=\"11\" style=\"stroke: #A80036; stroke-width: 1.0;\"/><path d=\"M220.875,171 L220.875,160.4063 L224.1094,160.4063 Q226.0156,160.4063 226.9219,161.1563 Q227.8438,161.9063 227.8438,163.0781 Q227.8438,163.7656 227.4531,164.4219 Q227.0781,165.0781 226.3594,165.375 Q227.2188,165.75 227.7344,166.4375 Q228.25,167.125 228.25,167.9375 Q228.25,169.3125 227.2188,170.1563 Q226.2031,171 224.0938,171 L220.875,171 Z M222.7969,164.6406 L223.9531,164.6406 Q225.0781,164.6406 225.4844,164.2656 Q225.9063,163.875 225.9063,163.25 Q225.9063,162.6719 225.4844,162.3125 Q225.0625,161.9531 224.125,161.9531 L222.7969,161.9531 L222.7969,164.6406 Z M222.7969,169.4219 L224.2969,169.4219 Q225.2031,169.4219 225.7344,169.0313 Q226.2656,168.6406 226.2656,167.8906 Q226.2656,167.125 225.7656,166.6563 Q225.2656,166.1719 224,166.1719 L222.7969,166.1719 L222.7969,169.4219 Z \"/><text fill=\"#000000\" font-family=\"sans-serif\" font-size=\"12\" lengthAdjust=\"spacingAndGlyphs\" textLength=\"16\" x=\"238\" y=\"170.1543\">P1</text><line style=\"stroke: #A80036; stroke-width: 1.5;\" x1=\"210\" x2=\"256\" y1=\"182\" y2=\"182\"/></a><!--MD5=[ebbe1d658d1005bcc118a6aa81145e00]\n",
       "class E4--><a href=\"psysml:12c3f617-858e-4877-bab3-72d077a58110\" target=\"_top\" title=\"psysml:12c3f617-858e-4877-bab3-72d077a58110\" xlink:actuate=\"onRequest\" xlink:href=\"psysml:12c3f617-858e-4877-bab3-72d077a58110\" xlink:show=\"new\" xlink:title=\"psysml:12c3f617-858e-4877-bab3-72d077a58110\" xlink:type=\"simple\"><rect fill=\"#FEFECE\" filter=\"url(#fo3rcb94inc9n)\" height=\"45.9375\" id=\"E4\" rx=\"10\" ry=\"10\" style=\"stroke: #A80036; stroke-width: 1.5;\" width=\"76\" x=\"195\" y=\"253\"/><ellipse cx=\"210\" cy=\"271.9688\" fill=\"#0000FF\" rx=\"11\" ry=\"11\" style=\"stroke: #A80036; stroke-width: 1.0;\"/><path d=\"M206.8125,276.9688 L206.8125,266.375 L210.4219,266.375 Q211.6406,266.375 212.4375,266.8125 Q213.2344,267.2344 213.6094,267.9375 Q214,268.6406 214,269.4844 Q214,270.3281 213.625,271.0156 Q213.2656,271.7031 212.4688,272.125 Q211.6875,272.5313 210.5,272.5313 L208.7656,272.5313 L208.7656,276.9688 L206.8125,276.9688 Z M208.7656,270.9375 L210.375,270.9375 Q211.1875,270.9375 211.6094,270.5313 Q212.0313,270.125 212.0313,269.4844 Q212.0313,268.8594 211.6094,268.4531 Q211.1875,268.0469 210.3906,268.0469 L208.7656,268.0469 L208.7656,270.9375 Z \"/><text fill=\"#000000\" font-family=\"sans-serif\" font-size=\"12\" font-style=\"italic\" lengthAdjust=\"spacingAndGlyphs\" textLength=\"40\" x=\"226\" y=\"269.1387\">«port»</text><text fill=\"#000000\" font-family=\"sans-serif\" font-size=\"12\" lengthAdjust=\"spacingAndGlyphs\" textLength=\"40\" x=\"224\" y=\"283.1074\">porig1</text><line style=\"stroke: #A80036; stroke-width: 1.5;\" x1=\"196\" x2=\"270\" y1=\"290.9375\" y2=\"290.9375\"/></a><!--MD5=[270fce915f116d4de14055a7c1d9a0f3]\n",
       "class E5--><a href=\"psysml:f19cd7cf-ead7-487d-acf0-998c02877f08\" target=\"_top\" title=\"psysml:f19cd7cf-ead7-487d-acf0-998c02877f08\" xlink:actuate=\"onRequest\" xlink:href=\"psysml:f19cd7cf-ead7-487d-acf0-998c02877f08\" xlink:show=\"new\" xlink:title=\"psysml:f19cd7cf-ead7-487d-acf0-998c02877f08\" xlink:type=\"simple\"><rect fill=\"#FEFECE\" filter=\"url(#fo3rcb94inc9n)\" height=\"45.9375\" id=\"E5\" rx=\"10\" ry=\"10\" style=\"stroke: #A80036; stroke-width: 1.5;\" width=\"76\" x=\"143\" y=\"41\"/><ellipse cx=\"158\" cy=\"59.9688\" fill=\"#32CD32\" rx=\"11\" ry=\"11\" style=\"stroke: #A80036; stroke-width: 1.0;\"/><path d=\"M154.8125,64.9688 L154.8125,54.375 L158.4219,54.375 Q159.6406,54.375 160.4375,54.8125 Q161.2344,55.2344 161.6094,55.9375 Q162,56.6406 162,57.4844 Q162,58.3281 161.625,59.0156 Q161.2656,59.7031 160.4688,60.125 Q159.6875,60.5313 158.5,60.5313 L156.7656,60.5313 L156.7656,64.9688 L154.8125,64.9688 Z M156.7656,58.9375 L158.375,58.9375 Q159.1875,58.9375 159.6094,58.5313 Q160.0313,58.125 160.0313,57.4844 Q160.0313,56.8594 159.6094,56.4531 Q159.1875,56.0469 158.3906,56.0469 L156.7656,56.0469 L156.7656,58.9375 Z \"/><text fill=\"#000000\" font-family=\"sans-serif\" font-size=\"12\" font-style=\"italic\" lengthAdjust=\"spacingAndGlyphs\" textLength=\"40\" x=\"174\" y=\"57.1387\">«part»</text><text fill=\"#000000\" font-family=\"sans-serif\" font-size=\"12\" lengthAdjust=\"spacingAndGlyphs\" textLength=\"40\" x=\"172\" y=\"71.1074\">p1: P1</text><line style=\"stroke: #A80036; stroke-width: 1.5;\" x1=\"144\" x2=\"218\" y1=\"78.9375\" y2=\"78.9375\"/></a><!--MD5=[60a26617385b1d2d0262a64233df1f8d]\n",
       "class E6--><a href=\"psysml:7bd77f36-e1da-430e-90ed-8aecc87780c5\" target=\"_top\" title=\"psysml:7bd77f36-e1da-430e-90ed-8aecc87780c5\" xlink:actuate=\"onRequest\" xlink:href=\"psysml:7bd77f36-e1da-430e-90ed-8aecc87780c5\" xlink:show=\"new\" xlink:title=\"psysml:7bd77f36-e1da-430e-90ed-8aecc87780c5\" xlink:type=\"simple\"><rect fill=\"#FEFECE\" filter=\"url(#fo3rcb94inc9n)\" height=\"45.9375\" id=\"E6\" rx=\"10\" ry=\"10\" style=\"stroke: #A80036; stroke-width: 1.5;\" width=\"68\" x=\"106\" y=\"147\"/><ellipse cx=\"121\" cy=\"165.9688\" fill=\"#0000FF\" rx=\"11\" ry=\"11\" style=\"stroke: #A80036; stroke-width: 1.0;\"/><path d=\"M117.8125,170.9688 L117.8125,160.375 L121.4219,160.375 Q122.6406,160.375 123.4375,160.8125 Q124.2344,161.2344 124.6094,161.9375 Q125,162.6406 125,163.4844 Q125,164.3281 124.625,165.0156 Q124.2656,165.7031 123.4688,166.125 Q122.6875,166.5313 121.5,166.5313 L119.7656,166.5313 L119.7656,170.9688 L117.8125,170.9688 Z M119.7656,164.9375 L121.375,164.9375 Q122.1875,164.9375 122.6094,164.5313 Q123.0313,164.125 123.0313,163.4844 Q123.0313,162.8594 122.6094,162.4531 Q122.1875,162.0469 121.3906,162.0469 L119.7656,162.0469 L119.7656,164.9375 Z \"/><text fill=\"#000000\" font-family=\"sans-serif\" font-size=\"12\" font-style=\"italic\" lengthAdjust=\"spacingAndGlyphs\" textLength=\"40\" x=\"133\" y=\"163.1387\">«port»</text><text fill=\"#000000\" font-family=\"sans-serif\" font-size=\"12\" lengthAdjust=\"spacingAndGlyphs\" textLength=\"24\" x=\"139\" y=\"177.1074\">po1</text><line style=\"stroke: #A80036; stroke-width: 1.5;\" x1=\"107\" x2=\"173\" y1=\"184.9375\" y2=\"184.9375\"/></a><!--MD5=[2156ba9850f5573cc1fc38a6a4b2f02b]\n",
       "class E7--><a href=\"psysml:3758ddaf-2d7c-4372-b46d-cbe5af56d102\" target=\"_top\" title=\"psysml:3758ddaf-2d7c-4372-b46d-cbe5af56d102\" xlink:actuate=\"onRequest\" xlink:href=\"psysml:3758ddaf-2d7c-4372-b46d-cbe5af56d102\" xlink:show=\"new\" xlink:title=\"psysml:3758ddaf-2d7c-4372-b46d-cbe5af56d102\" xlink:type=\"simple\"><rect fill=\"#FEFECE\" filter=\"url(#fo3rcb94inc9n)\" height=\"45.9375\" id=\"E7\" rx=\"10\" ry=\"10\" style=\"stroke: #A80036; stroke-width: 1.5;\" width=\"76\" x=\"32\" y=\"41\"/><ellipse cx=\"47\" cy=\"59.9688\" fill=\"#32CD32\" rx=\"11\" ry=\"11\" style=\"stroke: #A80036; stroke-width: 1.0;\"/><path d=\"M43.8125,64.9688 L43.8125,54.375 L47.4219,54.375 Q48.6406,54.375 49.4375,54.8125 Q50.2344,55.2344 50.6094,55.9375 Q51,56.6406 51,57.4844 Q51,58.3281 50.625,59.0156 Q50.2656,59.7031 49.4688,60.125 Q48.6875,60.5313 47.5,60.5313 L45.7656,60.5313 L45.7656,64.9688 L43.8125,64.9688 Z M45.7656,58.9375 L47.375,58.9375 Q48.1875,58.9375 48.6094,58.5313 Q49.0313,58.125 49.0313,57.4844 Q49.0313,56.8594 48.6094,56.4531 Q48.1875,56.0469 47.3906,56.0469 L45.7656,56.0469 L45.7656,58.9375 Z \"/><text fill=\"#000000\" font-family=\"sans-serif\" font-size=\"12\" font-style=\"italic\" lengthAdjust=\"spacingAndGlyphs\" textLength=\"40\" x=\"63\" y=\"57.1387\">«part»</text><text fill=\"#000000\" font-family=\"sans-serif\" font-size=\"12\" lengthAdjust=\"spacingAndGlyphs\" textLength=\"40\" x=\"61\" y=\"71.1074\">p2: P1</text><line style=\"stroke: #A80036; stroke-width: 1.5;\" x1=\"33\" x2=\"107\" y1=\"78.9375\" y2=\"78.9375\"/></a><!--MD5=[b9389687b975829384b498ac4b7476b2]\n",
       "class E8--><a href=\"psysml:009efb1a-81d8-4f5e-8e24-a878e8625106\" target=\"_top\" title=\"psysml:009efb1a-81d8-4f5e-8e24-a878e8625106\" xlink:actuate=\"onRequest\" xlink:href=\"psysml:009efb1a-81d8-4f5e-8e24-a878e8625106\" xlink:show=\"new\" xlink:title=\"psysml:009efb1a-81d8-4f5e-8e24-a878e8625106\" xlink:type=\"simple\"><rect fill=\"#FEFECE\" filter=\"url(#fo3rcb94inc9n)\" height=\"45.9375\" id=\"E8\" rx=\"10\" ry=\"10\" style=\"stroke: #A80036; stroke-width: 1.5;\" width=\"72\" x=\"61\" y=\"253\"/><ellipse cx=\"76\" cy=\"271.9688\" fill=\"#0000FF\" rx=\"11\" ry=\"11\" style=\"stroke: #A80036; stroke-width: 1.0;\"/><path d=\"M72.8125,276.9688 L72.8125,266.375 L76.4219,266.375 Q77.6406,266.375 78.4375,266.8125 Q79.2344,267.2344 79.6094,267.9375 Q80,268.6406 80,269.4844 Q80,270.3281 79.625,271.0156 Q79.2656,271.7031 78.4688,272.125 Q77.6875,272.5313 76.5,272.5313 L74.7656,272.5313 L74.7656,276.9688 L72.8125,276.9688 Z M74.7656,270.9375 L76.375,270.9375 Q77.1875,270.9375 77.6094,270.5313 Q78.0313,270.125 78.0313,269.4844 Q78.0313,268.8594 77.6094,268.4531 Q77.1875,268.0469 76.3906,268.0469 L74.7656,268.0469 L74.7656,270.9375 Z \"/><text fill=\"#000000\" font-family=\"sans-serif\" font-size=\"12\" font-style=\"italic\" lengthAdjust=\"spacingAndGlyphs\" textLength=\"40\" x=\"90\" y=\"269.1387\">«port»</text><text fill=\"#000000\" font-family=\"sans-serif\" font-size=\"12\" lengthAdjust=\"spacingAndGlyphs\" textLength=\"36\" x=\"90\" y=\"283.1074\">pdest</text><line style=\"stroke: #A80036; stroke-width: 1.5;\" x1=\"62\" x2=\"132\" y1=\"290.9375\" y2=\"290.9375\"/></a><!--MD5=[4672eba38e49728da53d11aeb285b987]\n",
       "reverse link E3 to E4--><a href=\"psysml:97bd4c72-9c32-47a6-a147-0b42cd362230\" target=\"_top\" title=\"psysml:97bd4c72-9c32-47a6-a147-0b42cd362230\" xlink:actuate=\"onRequest\" xlink:href=\"psysml:97bd4c72-9c32-47a6-a147-0b42cd362230\" xlink:show=\"new\" xlink:title=\"psysml:97bd4c72-9c32-47a6-a147-0b42cd362230\" xlink:type=\"simple\"><path d=\"M221.1,203.25 C219.65,219.33 220.05,238.37 222.33,252.8 \" fill=\"none\" id=\"E3&lt;-E4\" style=\"stroke: #A80036; stroke-width: 1.0;\"/><polygon fill=\"#FFFFFF\" points=\"222.87,190.08,218.1137,195.5001,221.2875,201.9752,226.0438,196.5551,222.87,190.08\" style=\"stroke: #A80036; stroke-width: 1.0;\"/><text fill=\"#000000\" font-family=\"sans-serif\" font-size=\"13\" lengthAdjust=\"spacingAndGlyphs\" textLength=\"8\" x=\"210.5708\" y=\"242.025\">1</text></a><!--MD5=[4672eba38e49728da53d11aeb285b987]\n",
       "reverse link E3 to E4--><a href=\"psysml:dd790abf-ac6c-4371-bdbb-56cf5ab0181d\" target=\"_top\" title=\"psysml:dd790abf-ac6c-4371-bdbb-56cf5ab0181d\" xlink:actuate=\"onRequest\" xlink:href=\"psysml:dd790abf-ac6c-4371-bdbb-56cf5ab0181d\" xlink:show=\"new\" xlink:title=\"psysml:dd790abf-ac6c-4371-bdbb-56cf5ab0181d\" xlink:type=\"simple\"><path d=\"M245.77,205.22 C247.1,220.87 246.61,238.96 244.3,252.8 \" fill=\"none\" id=\"E3&lt;-E4-1\" style=\"stroke: #A80036; stroke-width: 1.0; stroke-dasharray: 7.0,7.0;\"/><ellipse cx=\"244.7963\" cy=\"198.0086\" fill=\"#FFFFFF\" rx=\"8\" ry=\"8\" style=\"stroke: #A80036; stroke-width: 1.0;\"/><line style=\"stroke: #A80036; stroke-width: 1.0;\" x1=\"245.8626\" x2=\"243.73\" y1=\"205.9372\" y2=\"190.08\"/><line style=\"stroke: #A80036; stroke-width: 1.0;\" x1=\"236.8677\" x2=\"252.7249\" y1=\"199.0749\" y2=\"196.9423\"/><text fill=\"#000000\" font-family=\"sans-serif\" font-size=\"13\" lengthAdjust=\"spacingAndGlyphs\" textLength=\"8\" x=\"238.1706\" y=\"242.025\">1</text></a><!--MD5=[e9be52314489bd878ff4c7144b63c9e1]\n",
       "link E5 to E3--><a href=\"psysml:a968a559-ae75-4ff7-b264-66e5a143558d\" target=\"_top\" title=\"psysml:a968a559-ae75-4ff7-b264-66e5a143558d\" xlink:actuate=\"onRequest\" xlink:href=\"psysml:a968a559-ae75-4ff7-b264-66e5a143558d\" xlink:show=\"new\" xlink:title=\"psysml:a968a559-ae75-4ff7-b264-66e5a143558d\" xlink:type=\"simple\"><path d=\"M192.03,87.06 C198.53,100.06 206.93,116.86 214.43,131.86 \" fill=\"none\" id=\"E5-&gt;E3\" style=\"stroke: #A80036; stroke-width: 1.0;\"/><polygon fill=\"#FFFFFF\" points=\"223.39,149.77,208.6231,135.9158,221.1411,129.6468,223.39,149.77\" style=\"stroke: #A80036; stroke-width: 1.0;\"/><ellipse cx=\"207.859\" cy=\"129.9236\" fill=\"#A80036\" rx=\"2\" ry=\"2\" style=\"stroke: #A80036; stroke-width: 1.0;\"/><ellipse cx=\"216.8004\" cy=\"125.4458\" fill=\"#A80036\" rx=\"2\" ry=\"2\" style=\"stroke: #A80036; stroke-width: 1.0;\"/></a><!--MD5=[85d356282659285ab4b2cfe2f634dd2b]\n",
       "reverse link E5 to E6--><a href=\"psysml:167a231e-25d4-4100-8e0d-53e0a4e750c8\" target=\"_top\" title=\"psysml:167a231e-25d4-4100-8e0d-53e0a4e750c8\" xlink:actuate=\"onRequest\" xlink:href=\"psysml:167a231e-25d4-4100-8e0d-53e0a4e750c8\" xlink:show=\"new\" xlink:title=\"psysml:167a231e-25d4-4100-8e0d-53e0a4e750c8\" xlink:type=\"simple\"><path d=\"M167.4,99.49 C161.23,115.15 154.12,133.19 148.68,146.98 \" fill=\"none\" id=\"E5&lt;-E6\" style=\"stroke: #A80036; stroke-width: 1.0;\"/><polygon fill=\"#FFFFFF\" points=\"172.3,87.06,166.3778,91.1743,167.8979,98.2234,173.8201,94.1091,172.3,87.06\" style=\"stroke: #A80036; stroke-width: 1.0;\"/><text fill=\"#000000\" font-family=\"sans-serif\" font-size=\"13\" lengthAdjust=\"spacingAndGlyphs\" textLength=\"8\" x=\"141.9378\" y=\"135.8709\">1</text></a><!--MD5=[f667431f98296947986a1a7595a31603]\n",
       "link E6 to E4--><a href=\"psysml:57ff51c2-e85d-4f72-aa72-bbf7c251408b\" target=\"_top\" title=\"psysml:57ff51c2-e85d-4f72-aa72-bbf7c251408b\" xlink:actuate=\"onRequest\" xlink:href=\"psysml:57ff51c2-e85d-4f72-aa72-bbf7c251408b\" xlink:show=\"new\" xlink:title=\"psysml:57ff51c2-e85d-4f72-aa72-bbf7c251408b\" xlink:type=\"simple\"><path d=\"M159.72,193.06 C171.31,206.02 186.27,222.74 199.65,237.7 \" fill=\"none\" id=\"E6-&gt;E4\" style=\"stroke: #A80036; stroke-width: 1.0;\"/><polygon fill=\"#FFFFFF\" points=\"213.31,252.98,195.4253,243.486,205.8597,234.152,213.31,252.98\" style=\"stroke: #A80036; stroke-width: 1.0;\"/><line style=\"stroke: #A80036; stroke-width: 2.0;\" x1=\"192.8918\" x2=\"203.3262\" y1=\"240.6538\" y2=\"231.3198\"/></a><!--MD5=[14ccda38c055a5c0da953d572bc50960]\n",
       "link E7 to E3--><a href=\"psysml:a1db7df5-c75d-4551-8d1a-744022949b4d\" target=\"_top\" title=\"psysml:a1db7df5-c75d-4551-8d1a-744022949b4d\" xlink:actuate=\"onRequest\" xlink:href=\"psysml:a1db7df5-c75d-4551-8d1a-744022949b4d\" xlink:show=\"new\" xlink:title=\"psysml:a1db7df5-c75d-4551-8d1a-744022949b4d\" xlink:type=\"simple\"><path d=\"M104.57,87.06 C129.93,103.24 164.49,125.29 191.37,142.44 \" fill=\"none\" id=\"E7-&gt;E3\" style=\"stroke: #A80036; stroke-width: 1.0;\"/><polygon fill=\"#FFFFFF\" points=\"208.54,153.39,188.7577,149.0701,196.2889,137.2683,208.54,153.39\" style=\"stroke: #A80036; stroke-width: 1.0;\"/><ellipse cx=\"185.0286\" cy=\"144.3178\" fill=\"#A80036\" rx=\"2\" ry=\"2\" style=\"stroke: #A80036; stroke-width: 1.0;\"/><ellipse cx=\"190.408\" cy=\"135.888\" fill=\"#A80036\" rx=\"2\" ry=\"2\" style=\"stroke: #A80036; stroke-width: 1.0;\"/></a><!--MD5=[dc164f5e8a733ab456ef1add180e9e34]\n",
       "reverse link E7 to E8--><a href=\"psysml:f57d57d9-12d9-410c-acd5-2b53e0560bbf\" target=\"_top\" title=\"psysml:f57d57d9-12d9-410c-acd5-2b53e0560bbf\" xlink:actuate=\"onRequest\" xlink:href=\"psysml:f57d57d9-12d9-410c-acd5-2b53e0560bbf\" xlink:show=\"new\" xlink:title=\"psysml:f57d57d9-12d9-410c-acd5-2b53e0560bbf\" xlink:type=\"simple\"><path d=\"M64.71,100.09 C65.9,143.61 75.8,216.5 85.96,252.9 \" fill=\"none\" id=\"E7&lt;-E8\" style=\"stroke: #A80036; stroke-width: 1.0;\"/><polygon fill=\"#FFFFFF\" points=\"64.64,87.08,60.673,93.1019,64.7059,99.0798,68.6729,93.0579,64.64,87.08\" style=\"stroke: #A80036; stroke-width: 1.0;\"/><text fill=\"#000000\" font-family=\"sans-serif\" font-size=\"13\" lengthAdjust=\"spacingAndGlyphs\" textLength=\"8\" x=\"73.918\" y=\"241.7694\">1</text></a><!--MD5=[dc164f5e8a733ab456ef1add180e9e34]\n",
       "reverse link E7 to E8--><a href=\"psysml:b8781950-4d8a-4fb9-9fe0-7c7847cd278f\" target=\"_top\" title=\"psysml:b8781950-4d8a-4fb9-9fe0-7c7847cd278f\" xlink:actuate=\"onRequest\" xlink:href=\"psysml:b8781950-4d8a-4fb9-9fe0-7c7847cd278f\" xlink:show=\"new\" xlink:title=\"psysml:b8781950-4d8a-4fb9-9fe0-7c7847cd278f\" xlink:type=\"simple\"><path d=\"M85.29,101.8 C95.38,145.5 103.94,216.97 102.84,252.9 \" fill=\"none\" id=\"E7&lt;-E8-1\" style=\"stroke: #A80036; stroke-width: 1.0; stroke-dasharray: 7.0,7.0;\"/><ellipse cx=\"83.5087\" cy=\"94.8289\" fill=\"#FFFFFF\" rx=\"8\" ry=\"8\" style=\"stroke: #A80036; stroke-width: 1.0;\"/><line style=\"stroke: #A80036; stroke-width: 1.0;\" x1=\"85.4973\" x2=\"81.52\" y1=\"102.5778\" y2=\"87.08\"/><line style=\"stroke: #A80036; stroke-width: 1.0;\" x1=\"75.7598\" x2=\"91.2575\" y1=\"96.8175\" y2=\"92.8402\"/><text fill=\"#000000\" font-family=\"sans-serif\" font-size=\"13\" lengthAdjust=\"spacingAndGlyphs\" textLength=\"8\" x=\"105.4845\" y=\"241.7694\">1</text></a><!--MD5=[0a839d0f80c2d72d4b9b307f046d0de8]\n",
       "link E6 to E8--><a href=\"psysml:117cd7b6-777c-4755-88f6-d7a432271d85\" target=\"_top\" title=\"psysml:117cd7b6-777c-4755-88f6-d7a432271d85\" xlink:actuate=\"onRequest\" xlink:href=\"psysml:117cd7b6-777c-4755-88f6-d7a432271d85\" xlink:show=\"new\" xlink:title=\"psysml:117cd7b6-777c-4755-88f6-d7a432271d85\" xlink:type=\"simple\"><path d=\"M120.24,193.06 C110.13,210.7 99.95,235.34 95.47,252.98 \" fill=\"none\" id=\"E6-E8\" style=\"stroke: #A80036; stroke-width: 3.0;\"/><text fill=\"#000000\" font-family=\"sans-serif\" font-size=\"13\" lengthAdjust=\"spacingAndGlyphs\" textLength=\"7\" x=\"87.1182\" y=\"241.8709\">*</text></a><!--MD5=[0a839d0f80c2d72d4b9b307f046d0de8]\n",
       "link E6 to E8--><a href=\"psysml:c7325d6a-fceb-4e80-be50-eff52df502df\" target=\"_top\" title=\"psysml:c7325d6a-fceb-4e80-be50-eff52df502df\" xlink:actuate=\"onRequest\" xlink:href=\"psysml:c7325d6a-fceb-4e80-be50-eff52df502df\" xlink:show=\"new\" xlink:title=\"psysml:c7325d6a-fceb-4e80-be50-eff52df502df\" xlink:type=\"simple\"><path d=\"M142.15,193.06 C137.83,210.7 127.64,235.34 117.37,252.98 \" fill=\"none\" id=\"E6-E8-1\" style=\"stroke: #A80036; stroke-width: 3.0;\"/><text fill=\"#000000\" font-family=\"sans-serif\" font-size=\"13\" lengthAdjust=\"spacingAndGlyphs\" textLength=\"7\" x=\"114.9038\" y=\"241.8709\">*</text></a><!--MD5=[2f6cc202762f5a7d1a1508dff57fb991]\n",
       "@startuml\r\n",
       " \r\n",
       "package \"AliasTest\" as E1  [[psysml:6242facc-ff06-44d1-b4f3-467b2ef71334 ]]  {\r\n",
       "comp usage \"b :> ISQSpaceTime::width\" as E2 << <<(U,orange) attribute>> [[psysml:c7d5118b-0b42-4b21-9071-aba180ff097b ]] {\r\n",
       "}\r\n",
       "comp def \"P1\" as E3 << << (B,green) >> [[psysml:f3a385fe-c72f-4489-86aa-e832e0f5c54b ]] {\r\n",
       "}\r\n",
       "comp usage \"porig1 \" as E4 << << (P,blue) port>> [[psysml:12c3f617-858e-4877-bab3-72d077a58110 ]] {\r\n",
       "}\r\n",
       "comp usage \"p1: P1 \" as E5 << << (P,limegreen) part>> [[psysml:f19cd7cf-ead7-487d-acf0-998c02877f08 ]] {\r\n",
       "}\r\n",
       "comp usage \"po1 \" as E6 << << (P,blue) port>> [[psysml:7bd77f36-e1da-430e-90ed-8aecc87780c5 ]] {\r\n",
       "}\r\n",
       "comp usage \"p2: P1 \" as E7 << << (P,limegreen) part>> [[psysml:3758ddaf-2d7c-4372-b46d-cbe5af56d102 ]] {\r\n",
       "}\r\n",
       "comp usage \"pdest \" as E8 << << (P,blue) port>> [[psysml:009efb1a-81d8-4f5e-8e24-a878e8625106 ]] {\r\n",
       "}\r\n",
       "}\r\n",
       "E3 o- - \"1\"E4 [[psysml:97bd4c72-9c32-47a6-a147-0b42cd362230 ]] \r\n",
       "E3 +.. \"1\"E4 [[psysml:dd790abf-ac6c-4371-bdbb-56cf5ab0181d ]] \r\n",
       "E5 - -:|> E3 [[psysml:a968a559-ae75-4ff7-b264-66e5a143558d ]] \r\n",
       "E5 o- - \"1\"E6 [[psysml:167a231e-25d4-4100-8e0d-53e0a4e750c8 ]] \r\n",
       "E6 - -||> E4 [[psysml:57ff51c2-e85d-4f72-aa72-bbf7c251408b ]] \r\n",
       "E7 - -:|> E3 [[psysml:a1db7df5-c75d-4551-8d1a-744022949b4d ]] \r\n",
       "E7 o- - \"1\"E8 [[psysml:f57d57d9-12d9-410c-acd5-2b53e0560bbf ]] \r\n",
       "E7 +.. \"1\"E8 [[psysml:b8781950-4d8a-4fb9-9fe0-7c7847cd278f ]] \r\n",
       "E6 -[thickness=3]- \"*\"E8 [[psysml:117cd7b6-777c-4755-88f6-d7a432271d85 ]] \r\n",
       "E6 -[thickness=3]- \"*\"E8 [[psysml:c7325d6a-fceb-4e80-be50-eff52df502df ]] \r\n",
       "@enduml\r\n",
       "\n",
       "PlantUML version 1.2020.13(Sat Jun 13 12:26:38 UTC 2020)\n",
       "(EPL source distribution)\n",
       "Java Runtime: OpenJDK Runtime Environment\n",
       "JVM: OpenJDK 64-Bit Server VM\n",
       "Default Encoding: UTF-8\n",
       "Language: en\n",
       "Country: null\n",
       "--></g></svg>"
      ]
     },
     "execution_count": 36,
     "metadata": {},
     "output_type": "execute_result"
    }
   ],
   "source": [
    "%viz --style=\"PLANTUML\" --view=\"MIXED\" \"AliasTest\""
   ]
  },
  {
   "cell_type": "code",
   "execution_count": 37,
   "id": "8411859b",
   "metadata": {
    "execution": {
     "iopub.execute_input": "2022-03-21T07:52:17.902874Z",
     "iopub.status.busy": "2022-03-21T07:52:17.902472Z",
     "iopub.status.idle": "2022-03-21T07:52:17.939785Z",
     "shell.execute_reply": "2022-03-21T07:52:17.939412Z"
    }
   },
   "outputs": [
    {
     "data": {
      "image/svg+xml": [
       "<?xml version=\"1.0\" encoding=\"UTF-8\" standalone=\"no\"?><svg xmlns=\"http://www.w3.org/2000/svg\" xmlns:xlink=\"http://www.w3.org/1999/xlink\" contentScriptType=\"application/ecmascript\" contentStyleType=\"text/css\" height=\"327px\" preserveAspectRatio=\"none\" style=\"width:406px;height:327px;\" version=\"1.1\" viewBox=\"0 0 406 327\" width=\"406px\" zoomAndPan=\"magnify\"><defs/><g><!--MD5=[fbc87193dbaf4d95561dea2c320d4a47]\n",
       "cluster E1--><a href=\"psysml:6242facc-ff06-44d1-b4f3-467b2ef71334\" target=\"_top\" title=\"psysml:6242facc-ff06-44d1-b4f3-467b2ef71334\" xlink:actuate=\"onRequest\" xlink:href=\"psysml:6242facc-ff06-44d1-b4f3-467b2ef71334\" xlink:show=\"new\" xlink:title=\"psysml:6242facc-ff06-44d1-b4f3-467b2ef71334\" xlink:type=\"simple\"><polygon fill=\"#FFFFFF\" points=\"16,6,84,6,91,28.2969,384,28.2969,384,315,16,315,16,6\" style=\"stroke: #000000; stroke-width: 1.5;\"/><line style=\"stroke: #000000; stroke-width: 1.5;\" x1=\"16\" x2=\"91\" y1=\"28.2969\" y2=\"28.2969\"/><text fill=\"#000000\" font-family=\"sans-serif\" font-size=\"14\" font-weight=\"bold\" lengthAdjust=\"spacingAndGlyphs\" textLength=\"62\" x=\"20\" y=\"20.9951\">AliasTest</text></a><!--MD5=[b4997ac47864f28c2f74865a473b2911]\n",
       "class E2--><a href=\"psysml:c7d5118b-0b42-4b21-9071-aba180ff097b\" target=\"_top\" title=\"psysml:c7d5118b-0b42-4b21-9071-aba180ff097b\" xlink:actuate=\"onRequest\" xlink:href=\"psysml:c7d5118b-0b42-4b21-9071-aba180ff097b\" xlink:show=\"new\" xlink:title=\"psysml:c7d5118b-0b42-4b21-9071-aba180ff097b\" xlink:type=\"simple\"><rect fill=\"#FFFFFF\" height=\"45.9375\" id=\"E2\" rx=\"10\" ry=\"10\" style=\"stroke: #383838; stroke-width: 1.5;\" width=\"165\" x=\"202.5\" y=\"41\"/><text fill=\"#000000\" font-family=\"sans-serif\" font-size=\"12\" font-style=\"italic\" lengthAdjust=\"spacingAndGlyphs\" textLength=\"69\" x=\"250.5\" y=\"57.1387\">«attribute»</text><text fill=\"#000000\" font-family=\"sans-serif\" font-size=\"12\" lengthAdjust=\"spacingAndGlyphs\" textLength=\"159\" x=\"205.5\" y=\"71.1074\">b :&gt; ISQSpaceTime::width</text><line style=\"stroke: #383838; stroke-width: 1.5;\" x1=\"203.5\" x2=\"366.5\" y1=\"78.9375\" y2=\"78.9375\"/></a><!--MD5=[09b614a08d8cba4a07c9adeb5e0fee81]\n",
       "class E3--><a href=\"psysml:f3a385fe-c72f-4489-86aa-e832e0f5c54b\" target=\"_top\" title=\"psysml:f3a385fe-c72f-4489-86aa-e832e0f5c54b\" xlink:actuate=\"onRequest\" xlink:href=\"psysml:f3a385fe-c72f-4489-86aa-e832e0f5c54b\" xlink:show=\"new\" xlink:title=\"psysml:f3a385fe-c72f-4489-86aa-e832e0f5c54b\" xlink:type=\"simple\"><rect fill=\"#FFFFFF\" height=\"45.9375\" id=\"E3\" style=\"stroke: #383838; stroke-width: 1.5;\" width=\"70\" x=\"170\" y=\"147\"/><text fill=\"#000000\" font-family=\"sans-serif\" font-size=\"12\" font-style=\"italic\" lengthAdjust=\"spacingAndGlyphs\" textLength=\"68\" x=\"171\" y=\"163.1387\">«part  def»</text><text fill=\"#000000\" font-family=\"sans-serif\" font-size=\"12\" lengthAdjust=\"spacingAndGlyphs\" textLength=\"16\" x=\"197\" y=\"177.1074\">P1</text><line style=\"stroke: #383838; stroke-width: 1.5;\" x1=\"171\" x2=\"239\" y1=\"184.9375\" y2=\"184.9375\"/></a><!--MD5=[ebbe1d658d1005bcc118a6aa81145e00]\n",
       "class E4--><a href=\"psysml:12c3f617-858e-4877-bab3-72d077a58110\" target=\"_top\" title=\"psysml:12c3f617-858e-4877-bab3-72d077a58110\" xlink:actuate=\"onRequest\" xlink:href=\"psysml:12c3f617-858e-4877-bab3-72d077a58110\" xlink:show=\"new\" xlink:title=\"psysml:12c3f617-858e-4877-bab3-72d077a58110\" xlink:type=\"simple\"><rect fill=\"#FFFFFF\" height=\"45.9375\" id=\"E4\" rx=\"10\" ry=\"10\" style=\"stroke: #383838; stroke-width: 1.5;\" width=\"50\" x=\"180\" y=\"253\"/><text fill=\"#000000\" font-family=\"sans-serif\" font-size=\"12\" font-style=\"italic\" lengthAdjust=\"spacingAndGlyphs\" textLength=\"40\" x=\"185\" y=\"269.1387\">«port»</text><text fill=\"#000000\" font-family=\"sans-serif\" font-size=\"12\" lengthAdjust=\"spacingAndGlyphs\" textLength=\"40\" x=\"183\" y=\"283.1074\">porig1</text><line style=\"stroke: #383838; stroke-width: 1.5;\" x1=\"181\" x2=\"229\" y1=\"290.9375\" y2=\"290.9375\"/></a><!--MD5=[270fce915f116d4de14055a7c1d9a0f3]\n",
       "class E5--><a href=\"psysml:f19cd7cf-ead7-487d-acf0-998c02877f08\" target=\"_top\" title=\"psysml:f19cd7cf-ead7-487d-acf0-998c02877f08\" xlink:actuate=\"onRequest\" xlink:href=\"psysml:f19cd7cf-ead7-487d-acf0-998c02877f08\" xlink:show=\"new\" xlink:title=\"psysml:f19cd7cf-ead7-487d-acf0-998c02877f08\" xlink:type=\"simple\"><rect fill=\"#FFFFFF\" height=\"45.9375\" id=\"E5\" rx=\"10\" ry=\"10\" style=\"stroke: #383838; stroke-width: 1.5;\" width=\"50\" x=\"117\" y=\"41\"/><text fill=\"#000000\" font-family=\"sans-serif\" font-size=\"12\" font-style=\"italic\" lengthAdjust=\"spacingAndGlyphs\" textLength=\"40\" x=\"122\" y=\"57.1387\">«part»</text><text fill=\"#000000\" font-family=\"sans-serif\" font-size=\"12\" lengthAdjust=\"spacingAndGlyphs\" textLength=\"40\" x=\"120\" y=\"71.1074\">p1: P1</text><line style=\"stroke: #383838; stroke-width: 1.5;\" x1=\"118\" x2=\"166\" y1=\"78.9375\" y2=\"78.9375\"/></a><!--MD5=[60a26617385b1d2d0262a64233df1f8d]\n",
       "class E6--><a href=\"psysml:7bd77f36-e1da-430e-90ed-8aecc87780c5\" target=\"_top\" title=\"psysml:7bd77f36-e1da-430e-90ed-8aecc87780c5\" xlink:actuate=\"onRequest\" xlink:href=\"psysml:7bd77f36-e1da-430e-90ed-8aecc87780c5\" xlink:show=\"new\" xlink:title=\"psysml:7bd77f36-e1da-430e-90ed-8aecc87780c5\" xlink:type=\"simple\"><rect fill=\"#FFFFFF\" height=\"45.9375\" id=\"E6\" rx=\"10\" ry=\"10\" style=\"stroke: #383838; stroke-width: 1.5;\" width=\"42\" x=\"93\" y=\"147\"/><text fill=\"#000000\" font-family=\"sans-serif\" font-size=\"12\" font-style=\"italic\" lengthAdjust=\"spacingAndGlyphs\" textLength=\"40\" x=\"94\" y=\"163.1387\">«port»</text><text fill=\"#000000\" font-family=\"sans-serif\" font-size=\"12\" lengthAdjust=\"spacingAndGlyphs\" textLength=\"24\" x=\"100\" y=\"177.1074\">po1</text><line style=\"stroke: #383838; stroke-width: 1.5;\" x1=\"94\" x2=\"134\" y1=\"184.9375\" y2=\"184.9375\"/></a><!--MD5=[2156ba9850f5573cc1fc38a6a4b2f02b]\n",
       "class E7--><a href=\"psysml:3758ddaf-2d7c-4372-b46d-cbe5af56d102\" target=\"_top\" title=\"psysml:3758ddaf-2d7c-4372-b46d-cbe5af56d102\" xlink:actuate=\"onRequest\" xlink:href=\"psysml:3758ddaf-2d7c-4372-b46d-cbe5af56d102\" xlink:show=\"new\" xlink:title=\"psysml:3758ddaf-2d7c-4372-b46d-cbe5af56d102\" xlink:type=\"simple\"><rect fill=\"#FFFFFF\" height=\"45.9375\" id=\"E7\" rx=\"10\" ry=\"10\" style=\"stroke: #383838; stroke-width: 1.5;\" width=\"50\" x=\"32\" y=\"41\"/><text fill=\"#000000\" font-family=\"sans-serif\" font-size=\"12\" font-style=\"italic\" lengthAdjust=\"spacingAndGlyphs\" textLength=\"40\" x=\"37\" y=\"57.1387\">«part»</text><text fill=\"#000000\" font-family=\"sans-serif\" font-size=\"12\" lengthAdjust=\"spacingAndGlyphs\" textLength=\"40\" x=\"35\" y=\"71.1074\">p2: P1</text><line style=\"stroke: #383838; stroke-width: 1.5;\" x1=\"33\" x2=\"81\" y1=\"78.9375\" y2=\"78.9375\"/></a><!--MD5=[b9389687b975829384b498ac4b7476b2]\n",
       "class E8--><a href=\"psysml:009efb1a-81d8-4f5e-8e24-a878e8625106\" target=\"_top\" title=\"psysml:009efb1a-81d8-4f5e-8e24-a878e8625106\" xlink:actuate=\"onRequest\" xlink:href=\"psysml:009efb1a-81d8-4f5e-8e24-a878e8625106\" xlink:show=\"new\" xlink:title=\"psysml:009efb1a-81d8-4f5e-8e24-a878e8625106\" xlink:type=\"simple\"><rect fill=\"#FFFFFF\" height=\"45.9375\" id=\"E8\" rx=\"10\" ry=\"10\" style=\"stroke: #383838; stroke-width: 1.5;\" width=\"46\" x=\"63\" y=\"253\"/><text fill=\"#000000\" font-family=\"sans-serif\" font-size=\"12\" font-style=\"italic\" lengthAdjust=\"spacingAndGlyphs\" textLength=\"40\" x=\"66\" y=\"269.1387\">«port»</text><text fill=\"#000000\" font-family=\"sans-serif\" font-size=\"12\" lengthAdjust=\"spacingAndGlyphs\" textLength=\"36\" x=\"66\" y=\"283.1074\">pdest</text><line style=\"stroke: #383838; stroke-width: 1.5;\" x1=\"64\" x2=\"108\" y1=\"290.9375\" y2=\"290.9375\"/></a><!--MD5=[4672eba38e49728da53d11aeb285b987]\n",
       "reverse link E3 to E4--><a href=\"psysml:97bd4c72-9c32-47a6-a147-0b42cd362230\" target=\"_top\" title=\"psysml:97bd4c72-9c32-47a6-a147-0b42cd362230\" xlink:actuate=\"onRequest\" xlink:href=\"psysml:97bd4c72-9c32-47a6-a147-0b42cd362230\" xlink:show=\"new\" xlink:title=\"psysml:97bd4c72-9c32-47a6-a147-0b42cd362230\" xlink:type=\"simple\"><path d=\"M192.84,206.44 C191.7,221.87 192.21,239.47 194.36,252.98 \" fill=\"none\" id=\"E3&lt;-E4\" style=\"stroke: #383838; stroke-width: 1.0;\"/><polygon fill=\"#FFFFFF\" points=\"194.35,193.06,189.7032,198.5743,193.006,204.9845,197.6528,199.4702,194.35,193.06\" style=\"stroke: #383838; stroke-width: 1.0;\"/><text fill=\"#000000\" font-family=\"sans-serif\" font-size=\"13\" lengthAdjust=\"spacingAndGlyphs\" textLength=\"8\" x=\"182.4255\" y=\"241.8709\">1</text></a><!--MD5=[4672eba38e49728da53d11aeb285b987]\n",
       "reverse link E3 to E4--><a href=\"psysml:dd790abf-ac6c-4371-bdbb-56cf5ab0181d\" target=\"_top\" title=\"psysml:dd790abf-ac6c-4371-bdbb-56cf5ab0181d\" xlink:actuate=\"onRequest\" xlink:href=\"psysml:dd790abf-ac6c-4371-bdbb-56cf5ab0181d\" xlink:show=\"new\" xlink:title=\"psysml:dd790abf-ac6c-4371-bdbb-56cf5ab0181d\" xlink:type=\"simple\"><path d=\"M218.01,208.34 C219.03,223.3 218.45,240.02 216.27,252.98 \" fill=\"none\" id=\"E3&lt;-E4-1\" style=\"stroke: #383838; stroke-width: 1.0; stroke-dasharray: 7.0,7.0;\"/><ellipse cx=\"217.1693\" cy=\"201.0093\" fill=\"#FFFFFF\" rx=\"8\" ry=\"8\" style=\"stroke: #383838; stroke-width: 1.0;\"/><line style=\"stroke: #383838; stroke-width: 1.0;\" x1=\"218.0687\" x2=\"216.27\" y1=\"208.9586\" y2=\"193.06\"/><line style=\"stroke: #383838; stroke-width: 1.0;\" x1=\"209.2201\" x2=\"225.1186\" y1=\"201.9086\" y2=\"200.1099\"/><text fill=\"#000000\" font-family=\"sans-serif\" font-size=\"13\" lengthAdjust=\"spacingAndGlyphs\" textLength=\"8\" x=\"210.2238\" y=\"241.8709\">1</text></a><!--MD5=[e9be52314489bd878ff4c7144b63c9e1]\n",
       "link E5 to E3--><a href=\"psysml:a968a559-ae75-4ff7-b264-66e5a143558d\" target=\"_top\" title=\"psysml:a968a559-ae75-4ff7-b264-66e5a143558d\" xlink:actuate=\"onRequest\" xlink:href=\"psysml:a968a559-ae75-4ff7-b264-66e5a143558d\" xlink:show=\"new\" xlink:title=\"psysml:a968a559-ae75-4ff7-b264-66e5a143558d\" xlink:type=\"simple\"><path d=\"M155.36,87.06 C162.88,99.47 172.49,115.33 181.24,129.78 \" fill=\"none\" id=\"E5-&gt;E3\" style=\"stroke: #383838; stroke-width: 1.0;\"/><polygon fill=\"#FFFFFF\" points=\"191.66,146.98,175.8217,134.3646,187.792,127.1044,191.66,146.98\" style=\"stroke: #383838; stroke-width: 1.0;\"/><ellipse cx=\"174.5758\" cy=\"128.4538\" fill=\"#383838\" rx=\"2\" ry=\"2\" style=\"stroke: #383838; stroke-width: 1.0;\"/><ellipse cx=\"183.126\" cy=\"123.2679\" fill=\"#383838\" rx=\"2\" ry=\"2\" style=\"stroke: #383838; stroke-width: 1.0;\"/></a><!--MD5=[85d356282659285ab4b2cfe2f634dd2b]\n",
       "reverse link E5 to E6--><a href=\"psysml:167a231e-25d4-4100-8e0d-53e0a4e750c8\" target=\"_top\" title=\"psysml:167a231e-25d4-4100-8e0d-53e0a4e750c8\" xlink:actuate=\"onRequest\" xlink:href=\"psysml:167a231e-25d4-4100-8e0d-53e0a4e750c8\" xlink:show=\"new\" xlink:title=\"psysml:167a231e-25d4-4100-8e0d-53e0a4e750c8\" xlink:type=\"simple\"><path d=\"M132.59,99.96 C128.4,115.51 123.6,133.33 119.93,146.98 \" fill=\"none\" id=\"E5&lt;-E6\" style=\"stroke: #383838; stroke-width: 1.0;\"/><polygon fill=\"#FFFFFF\" points=\"136.06,87.06,130.641,91.8176,132.9484,98.6496,138.3674,93.892,136.06,87.06\" style=\"stroke: #383838; stroke-width: 1.0;\"/><text fill=\"#000000\" font-family=\"sans-serif\" font-size=\"13\" lengthAdjust=\"spacingAndGlyphs\" textLength=\"8\" x=\"112.4487\" y=\"135.8709\">1</text></a><!--MD5=[f667431f98296947986a1a7595a31603]\n",
       "link E6 to E4--><a href=\"psysml:57ff51c2-e85d-4f72-aa72-bbf7c251408b\" target=\"_top\" title=\"psysml:57ff51c2-e85d-4f72-aa72-bbf7c251408b\" xlink:actuate=\"onRequest\" xlink:href=\"psysml:57ff51c2-e85d-4f72-aa72-bbf7c251408b\" xlink:show=\"new\" xlink:title=\"psysml:57ff51c2-e85d-4f72-aa72-bbf7c251408b\" xlink:type=\"simple\"><path d=\"M133.3,193.06 C144.64,206.02 159.28,222.74 172.36,237.7 \" fill=\"none\" id=\"E6-&gt;E4\" style=\"stroke: #383838; stroke-width: 1.0;\"/><polygon fill=\"#FFFFFF\" points=\"185.73,252.98,167.9517,243.2882,178.489,234.0705,185.73,252.98\" style=\"stroke: #383838; stroke-width: 1.0;\"/><line style=\"stroke: #383838; stroke-width: 2.0;\" x1=\"165.4497\" x2=\"175.9871\" y1=\"240.4281\" y2=\"231.2104\"/></a><!--MD5=[14ccda38c055a5c0da953d572bc50960]\n",
       "link E7 to E3--><a href=\"psysml:a1db7df5-c75d-4551-8d1a-744022949b4d\" target=\"_top\" title=\"psysml:a1db7df5-c75d-4551-8d1a-744022949b4d\" xlink:actuate=\"onRequest\" xlink:href=\"psysml:a1db7df5-c75d-4551-8d1a-744022949b4d\" xlink:show=\"new\" xlink:title=\"psysml:a1db7df5-c75d-4551-8d1a-744022949b4d\" xlink:type=\"simple\"><path d=\"M82.11,82.64 C102.61,97.05 132.18,117.83 157.18,135.39 \" fill=\"none\" id=\"E7-&gt;E3\" style=\"stroke: #383838; stroke-width: 1.0;\"/><polygon fill=\"#FFFFFF\" points=\"173.58,146.92,154.011,141.7187,162.0629,130.266,173.58,146.92\" style=\"stroke: #383838; stroke-width: 1.0;\"/><ellipse cx=\"150.4983\" cy=\"136.8043\" fill=\"#383838\" rx=\"2\" ry=\"2\" style=\"stroke: #383838; stroke-width: 1.0;\"/><ellipse cx=\"156.2497\" cy=\"128.6238\" fill=\"#383838\" rx=\"2\" ry=\"2\" style=\"stroke: #383838; stroke-width: 1.0;\"/></a><!--MD5=[dc164f5e8a733ab456ef1add180e9e34]\n",
       "reverse link E7 to E8--><a href=\"psysml:f57d57d9-12d9-410c-acd5-2b53e0560bbf\" target=\"_top\" title=\"psysml:f57d57d9-12d9-410c-acd5-2b53e0560bbf\" xlink:actuate=\"onRequest\" xlink:href=\"psysml:f57d57d9-12d9-410c-acd5-2b53e0560bbf\" xlink:show=\"new\" xlink:title=\"psysml:f57d57d9-12d9-410c-acd5-2b53e0560bbf\" xlink:type=\"simple\"><path d=\"M52.05,100.09 C53.65,143.61 64.25,216.5 74.75,252.9 \" fill=\"none\" id=\"E7&lt;-E8\" style=\"stroke: #383838; stroke-width: 1.0;\"/><polygon fill=\"#FFFFFF\" points=\"51.85,87.08,47.9362,93.1366,52.0216,99.0788,55.9354,93.0222,51.85,87.08\" style=\"stroke: #383838; stroke-width: 1.0;\"/><text fill=\"#000000\" font-family=\"sans-serif\" font-size=\"13\" lengthAdjust=\"spacingAndGlyphs\" textLength=\"8\" x=\"62.6516\" y=\"241.7694\">1</text></a><!--MD5=[dc164f5e8a733ab456ef1add180e9e34]\n",
       "reverse link E7 to E8--><a href=\"psysml:b8781950-4d8a-4fb9-9fe0-7c7847cd278f\" target=\"_top\" title=\"psysml:b8781950-4d8a-4fb9-9fe0-7c7847cd278f\" xlink:actuate=\"onRequest\" xlink:href=\"psysml:b8781950-4d8a-4fb9-9fe0-7c7847cd278f\" xlink:show=\"new\" xlink:title=\"psysml:b8781950-4d8a-4fb9-9fe0-7c7847cd278f\" xlink:type=\"simple\"><path d=\"M72.64,101.8 C83.15,145.5 92.39,216.97 91.63,252.9 \" fill=\"none\" id=\"E7&lt;-E8-1\" style=\"stroke: #383838; stroke-width: 1.0; stroke-dasharray: 7.0,7.0;\"/><ellipse cx=\"70.7794\" cy=\"94.813\" fill=\"#FFFFFF\" rx=\"8\" ry=\"8\" style=\"stroke: #383838; stroke-width: 1.0;\"/><line style=\"stroke: #383838; stroke-width: 1.0;\" x1=\"72.8289\" x2=\"68.73\" y1=\"102.5461\" y2=\"87.08\"/><line style=\"stroke: #383838; stroke-width: 1.0;\" x1=\"63.0464\" x2=\"78.5125\" y1=\"96.8625\" y2=\"92.7636\"/><text fill=\"#000000\" font-family=\"sans-serif\" font-size=\"13\" lengthAdjust=\"spacingAndGlyphs\" textLength=\"8\" x=\"94.2181\" y=\"241.7694\">1</text></a><!--MD5=[0a839d0f80c2d72d4b9b307f046d0de8]\n",
       "link E6 to E8--><a href=\"psysml:117cd7b6-777c-4755-88f6-d7a432271d85\" target=\"_top\" title=\"psysml:117cd7b6-777c-4755-88f6-d7a432271d85\" xlink:actuate=\"onRequest\" xlink:href=\"psysml:117cd7b6-777c-4755-88f6-d7a432271d85\" xlink:show=\"new\" xlink:title=\"psysml:117cd7b6-777c-4755-88f6-d7a432271d85\" xlink:type=\"simple\"><path d=\"M97.42,193.06 C89.86,210.7 83.23,235.34 81.29,252.98 \" fill=\"none\" id=\"E6-E8\" style=\"stroke: #383838; stroke-width: 3.0;\"/><text fill=\"#000000\" font-family=\"sans-serif\" font-size=\"13\" lengthAdjust=\"spacingAndGlyphs\" textLength=\"7\" x=\"80.9648\" y=\"241.8709\">*</text></a><!--MD5=[0a839d0f80c2d72d4b9b307f046d0de8]\n",
       "link E6 to E8--><a href=\"psysml:c7325d6a-fceb-4e80-be50-eff52df502df\" target=\"_top\" title=\"psysml:c7325d6a-fceb-4e80-be50-eff52df502df\" xlink:actuate=\"onRequest\" xlink:href=\"psysml:c7325d6a-fceb-4e80-be50-eff52df502df\" xlink:show=\"new\" xlink:title=\"psysml:c7325d6a-fceb-4e80-be50-eff52df502df\" xlink:type=\"simple\"><path d=\"M119.33,193.06 C117.55,210.7 110.92,235.34 103.2,252.98 \" fill=\"none\" id=\"E6-E8-1\" style=\"stroke: #383838; stroke-width: 3.0;\"/><text fill=\"#000000\" font-family=\"sans-serif\" font-size=\"13\" lengthAdjust=\"spacingAndGlyphs\" textLength=\"7\" x=\"99.8819\" y=\"241.8709\">*</text></a><!--MD5=[2ca21f3d179ec1cfb5ccdd9603a2a31f]\n",
       "@startuml\r\n",
       "skinparam monochrome true\r\n",
       "skinparam classbackgroundcolor white\r\n",
       "skinparam shadowing false\r\n",
       "skinparam wrapWidth 300\r\n",
       "hide circle\r\n",
       "\r\n",
       "package \"AliasTest\" as E1  [[psysml:6242facc-ff06-44d1-b4f3-467b2ef71334 ]]  {\r\n",
       "comp usage \"b :> ISQSpaceTime::width\" as E2  <<(T,blue) attribute>> [[psysml:c7d5118b-0b42-4b21-9071-aba180ff097b ]] {\r\n",
       "}\r\n",
       "comp def \"P1\" as E3  <<(T,blue) part  def>> [[psysml:f3a385fe-c72f-4489-86aa-e832e0f5c54b ]] {\r\n",
       "}\r\n",
       "comp usage \"porig1 \" as E4  <<(T,blue) port>> [[psysml:12c3f617-858e-4877-bab3-72d077a58110 ]] {\r\n",
       "}\r\n",
       "comp usage \"p1: P1 \" as E5  <<(T,blue) part>> [[psysml:f19cd7cf-ead7-487d-acf0-998c02877f08 ]] {\r\n",
       "}\r\n",
       "comp usage \"po1 \" as E6  <<(T,blue) port>> [[psysml:7bd77f36-e1da-430e-90ed-8aecc87780c5 ]] {\r\n",
       "}\r\n",
       "comp usage \"p2: P1 \" as E7  <<(T,blue) part>> [[psysml:3758ddaf-2d7c-4372-b46d-cbe5af56d102 ]] {\r\n",
       "}\r\n",
       "comp usage \"pdest \" as E8  <<(T,blue) port>> [[psysml:009efb1a-81d8-4f5e-8e24-a878e8625106 ]] {\r\n",
       "}\r\n",
       "}\r\n",
       "E3 o- - \"1\"E4 [[psysml:97bd4c72-9c32-47a6-a147-0b42cd362230 ]] \r\n",
       "E3 +.. \"1\"E4 [[psysml:dd790abf-ac6c-4371-bdbb-56cf5ab0181d ]] \r\n",
       "E5 - -:|> E3 [[psysml:a968a559-ae75-4ff7-b264-66e5a143558d ]] \r\n",
       "E5 o- - \"1\"E6 [[psysml:167a231e-25d4-4100-8e0d-53e0a4e750c8 ]] \r\n",
       "E6 - -||> E4 [[psysml:57ff51c2-e85d-4f72-aa72-bbf7c251408b ]] \r\n",
       "E7 - -:|> E3 [[psysml:a1db7df5-c75d-4551-8d1a-744022949b4d ]] \r\n",
       "E7 o- - \"1\"E8 [[psysml:f57d57d9-12d9-410c-acd5-2b53e0560bbf ]] \r\n",
       "E7 +.. \"1\"E8 [[psysml:b8781950-4d8a-4fb9-9fe0-7c7847cd278f ]] \r\n",
       "E6 -[thickness=3]- \"*\"E8 [[psysml:117cd7b6-777c-4755-88f6-d7a432271d85 ]] \r\n",
       "E6 -[thickness=3]- \"*\"E8 [[psysml:c7325d6a-fceb-4e80-be50-eff52df502df ]] \r\n",
       "@enduml\r\n",
       "\n",
       "PlantUML version 1.2020.13(Sat Jun 13 12:26:38 UTC 2020)\n",
       "(EPL source distribution)\n",
       "Java Runtime: OpenJDK Runtime Environment\n",
       "JVM: OpenJDK 64-Bit Server VM\n",
       "Default Encoding: UTF-8\n",
       "Language: en\n",
       "Country: null\n",
       "--></g></svg>"
      ]
     },
     "execution_count": 37,
     "metadata": {},
     "output_type": "execute_result"
    }
   ],
   "source": [
    "%viz --style=\"DEFAULT\" --view=\"Default\" \"AliasTest\""
   ]
  },
  {
   "cell_type": "code",
   "execution_count": 38,
   "id": "448c91dc",
   "metadata": {
    "execution": {
     "iopub.execute_input": "2022-03-21T07:52:17.989374Z",
     "iopub.status.busy": "2022-03-21T07:52:17.988971Z",
     "iopub.status.idle": "2022-03-21T07:52:18.029356Z",
     "shell.execute_reply": "2022-03-21T07:52:18.028995Z"
    }
   },
   "outputs": [
    {
     "data": {
      "image/svg+xml": [
       "<?xml version=\"1.0\" encoding=\"UTF-8\" standalone=\"no\"?><svg xmlns=\"http://www.w3.org/2000/svg\" xmlns:xlink=\"http://www.w3.org/1999/xlink\" contentScriptType=\"application/ecmascript\" contentStyleType=\"text/css\" height=\"327px\" preserveAspectRatio=\"none\" style=\"width:406px;height:327px;\" version=\"1.1\" viewBox=\"0 0 406 327\" width=\"406px\" zoomAndPan=\"magnify\"><defs/><g><!--MD5=[fbc87193dbaf4d95561dea2c320d4a47]\n",
       "cluster E1--><a href=\"psysml:6242facc-ff06-44d1-b4f3-467b2ef71334\" target=\"_top\" title=\"psysml:6242facc-ff06-44d1-b4f3-467b2ef71334\" xlink:actuate=\"onRequest\" xlink:href=\"psysml:6242facc-ff06-44d1-b4f3-467b2ef71334\" xlink:show=\"new\" xlink:title=\"psysml:6242facc-ff06-44d1-b4f3-467b2ef71334\" xlink:type=\"simple\"><polygon fill=\"#FFFFFF\" points=\"16,6,84,6,91,28.2969,384,28.2969,384,315,16,315,16,6\" style=\"stroke: #000000; stroke-width: 1.5;\"/><line style=\"stroke: #000000; stroke-width: 1.5;\" x1=\"16\" x2=\"91\" y1=\"28.2969\" y2=\"28.2969\"/><text fill=\"#000000\" font-family=\"sans-serif\" font-size=\"14\" font-weight=\"bold\" lengthAdjust=\"spacingAndGlyphs\" textLength=\"62\" x=\"20\" y=\"20.9951\">AliasTest</text></a><!--MD5=[b4997ac47864f28c2f74865a473b2911]\n",
       "class E2--><a href=\"psysml:c7d5118b-0b42-4b21-9071-aba180ff097b\" target=\"_top\" title=\"psysml:c7d5118b-0b42-4b21-9071-aba180ff097b\" xlink:actuate=\"onRequest\" xlink:href=\"psysml:c7d5118b-0b42-4b21-9071-aba180ff097b\" xlink:show=\"new\" xlink:title=\"psysml:c7d5118b-0b42-4b21-9071-aba180ff097b\" xlink:type=\"simple\"><rect fill=\"#FFFFFF\" height=\"45.9375\" id=\"E2\" rx=\"10\" ry=\"10\" style=\"stroke: #383838; stroke-width: 1.5;\" width=\"165\" x=\"202.5\" y=\"41\"/><text fill=\"#000000\" font-family=\"sans-serif\" font-size=\"12\" font-style=\"italic\" lengthAdjust=\"spacingAndGlyphs\" textLength=\"69\" x=\"250.5\" y=\"57.1387\">«attribute»</text><text fill=\"#000000\" font-family=\"sans-serif\" font-size=\"12\" lengthAdjust=\"spacingAndGlyphs\" textLength=\"159\" x=\"205.5\" y=\"71.1074\">b :&gt; ISQSpaceTime::width</text><line style=\"stroke: #383838; stroke-width: 1.5;\" x1=\"203.5\" x2=\"366.5\" y1=\"78.9375\" y2=\"78.9375\"/></a><!--MD5=[09b614a08d8cba4a07c9adeb5e0fee81]\n",
       "class E3--><a href=\"psysml:f3a385fe-c72f-4489-86aa-e832e0f5c54b\" target=\"_top\" title=\"psysml:f3a385fe-c72f-4489-86aa-e832e0f5c54b\" xlink:actuate=\"onRequest\" xlink:href=\"psysml:f3a385fe-c72f-4489-86aa-e832e0f5c54b\" xlink:show=\"new\" xlink:title=\"psysml:f3a385fe-c72f-4489-86aa-e832e0f5c54b\" xlink:type=\"simple\"><rect fill=\"#FFFFFF\" height=\"45.9375\" id=\"E3\" style=\"stroke: #383838; stroke-width: 1.5;\" width=\"70\" x=\"170\" y=\"147\"/><text fill=\"#000000\" font-family=\"sans-serif\" font-size=\"12\" font-style=\"italic\" lengthAdjust=\"spacingAndGlyphs\" textLength=\"68\" x=\"171\" y=\"163.1387\">«part  def»</text><text fill=\"#000000\" font-family=\"sans-serif\" font-size=\"12\" lengthAdjust=\"spacingAndGlyphs\" textLength=\"16\" x=\"197\" y=\"177.1074\">P1</text><line style=\"stroke: #383838; stroke-width: 1.5;\" x1=\"171\" x2=\"239\" y1=\"184.9375\" y2=\"184.9375\"/></a><!--MD5=[ebbe1d658d1005bcc118a6aa81145e00]\n",
       "class E4--><a href=\"psysml:12c3f617-858e-4877-bab3-72d077a58110\" target=\"_top\" title=\"psysml:12c3f617-858e-4877-bab3-72d077a58110\" xlink:actuate=\"onRequest\" xlink:href=\"psysml:12c3f617-858e-4877-bab3-72d077a58110\" xlink:show=\"new\" xlink:title=\"psysml:12c3f617-858e-4877-bab3-72d077a58110\" xlink:type=\"simple\"><rect fill=\"#FFFFFF\" height=\"45.9375\" id=\"E4\" rx=\"10\" ry=\"10\" style=\"stroke: #383838; stroke-width: 1.5;\" width=\"50\" x=\"180\" y=\"253\"/><text fill=\"#000000\" font-family=\"sans-serif\" font-size=\"12\" font-style=\"italic\" lengthAdjust=\"spacingAndGlyphs\" textLength=\"40\" x=\"185\" y=\"269.1387\">«port»</text><text fill=\"#000000\" font-family=\"sans-serif\" font-size=\"12\" lengthAdjust=\"spacingAndGlyphs\" textLength=\"40\" x=\"183\" y=\"283.1074\">porig1</text><line style=\"stroke: #383838; stroke-width: 1.5;\" x1=\"181\" x2=\"229\" y1=\"290.9375\" y2=\"290.9375\"/></a><!--MD5=[270fce915f116d4de14055a7c1d9a0f3]\n",
       "class E5--><a href=\"psysml:f19cd7cf-ead7-487d-acf0-998c02877f08\" target=\"_top\" title=\"psysml:f19cd7cf-ead7-487d-acf0-998c02877f08\" xlink:actuate=\"onRequest\" xlink:href=\"psysml:f19cd7cf-ead7-487d-acf0-998c02877f08\" xlink:show=\"new\" xlink:title=\"psysml:f19cd7cf-ead7-487d-acf0-998c02877f08\" xlink:type=\"simple\"><rect fill=\"#FFFFFF\" height=\"45.9375\" id=\"E5\" rx=\"10\" ry=\"10\" style=\"stroke: #383838; stroke-width: 1.5;\" width=\"50\" x=\"117\" y=\"41\"/><text fill=\"#000000\" font-family=\"sans-serif\" font-size=\"12\" font-style=\"italic\" lengthAdjust=\"spacingAndGlyphs\" textLength=\"40\" x=\"122\" y=\"57.1387\">«part»</text><text fill=\"#000000\" font-family=\"sans-serif\" font-size=\"12\" lengthAdjust=\"spacingAndGlyphs\" textLength=\"40\" x=\"120\" y=\"71.1074\">p1: P1</text><line style=\"stroke: #383838; stroke-width: 1.5;\" x1=\"118\" x2=\"166\" y1=\"78.9375\" y2=\"78.9375\"/></a><!--MD5=[60a26617385b1d2d0262a64233df1f8d]\n",
       "class E6--><a href=\"psysml:7bd77f36-e1da-430e-90ed-8aecc87780c5\" target=\"_top\" title=\"psysml:7bd77f36-e1da-430e-90ed-8aecc87780c5\" xlink:actuate=\"onRequest\" xlink:href=\"psysml:7bd77f36-e1da-430e-90ed-8aecc87780c5\" xlink:show=\"new\" xlink:title=\"psysml:7bd77f36-e1da-430e-90ed-8aecc87780c5\" xlink:type=\"simple\"><rect fill=\"#FFFFFF\" height=\"45.9375\" id=\"E6\" rx=\"10\" ry=\"10\" style=\"stroke: #383838; stroke-width: 1.5;\" width=\"42\" x=\"93\" y=\"147\"/><text fill=\"#000000\" font-family=\"sans-serif\" font-size=\"12\" font-style=\"italic\" lengthAdjust=\"spacingAndGlyphs\" textLength=\"40\" x=\"94\" y=\"163.1387\">«port»</text><text fill=\"#000000\" font-family=\"sans-serif\" font-size=\"12\" lengthAdjust=\"spacingAndGlyphs\" textLength=\"24\" x=\"100\" y=\"177.1074\">po1</text><line style=\"stroke: #383838; stroke-width: 1.5;\" x1=\"94\" x2=\"134\" y1=\"184.9375\" y2=\"184.9375\"/></a><!--MD5=[2156ba9850f5573cc1fc38a6a4b2f02b]\n",
       "class E7--><a href=\"psysml:3758ddaf-2d7c-4372-b46d-cbe5af56d102\" target=\"_top\" title=\"psysml:3758ddaf-2d7c-4372-b46d-cbe5af56d102\" xlink:actuate=\"onRequest\" xlink:href=\"psysml:3758ddaf-2d7c-4372-b46d-cbe5af56d102\" xlink:show=\"new\" xlink:title=\"psysml:3758ddaf-2d7c-4372-b46d-cbe5af56d102\" xlink:type=\"simple\"><rect fill=\"#FFFFFF\" height=\"45.9375\" id=\"E7\" rx=\"10\" ry=\"10\" style=\"stroke: #383838; stroke-width: 1.5;\" width=\"50\" x=\"32\" y=\"41\"/><text fill=\"#000000\" font-family=\"sans-serif\" font-size=\"12\" font-style=\"italic\" lengthAdjust=\"spacingAndGlyphs\" textLength=\"40\" x=\"37\" y=\"57.1387\">«part»</text><text fill=\"#000000\" font-family=\"sans-serif\" font-size=\"12\" lengthAdjust=\"spacingAndGlyphs\" textLength=\"40\" x=\"35\" y=\"71.1074\">p2: P1</text><line style=\"stroke: #383838; stroke-width: 1.5;\" x1=\"33\" x2=\"81\" y1=\"78.9375\" y2=\"78.9375\"/></a><!--MD5=[b9389687b975829384b498ac4b7476b2]\n",
       "class E8--><a href=\"psysml:009efb1a-81d8-4f5e-8e24-a878e8625106\" target=\"_top\" title=\"psysml:009efb1a-81d8-4f5e-8e24-a878e8625106\" xlink:actuate=\"onRequest\" xlink:href=\"psysml:009efb1a-81d8-4f5e-8e24-a878e8625106\" xlink:show=\"new\" xlink:title=\"psysml:009efb1a-81d8-4f5e-8e24-a878e8625106\" xlink:type=\"simple\"><rect fill=\"#FFFFFF\" height=\"45.9375\" id=\"E8\" rx=\"10\" ry=\"10\" style=\"stroke: #383838; stroke-width: 1.5;\" width=\"46\" x=\"63\" y=\"253\"/><text fill=\"#000000\" font-family=\"sans-serif\" font-size=\"12\" font-style=\"italic\" lengthAdjust=\"spacingAndGlyphs\" textLength=\"40\" x=\"66\" y=\"269.1387\">«port»</text><text fill=\"#000000\" font-family=\"sans-serif\" font-size=\"12\" lengthAdjust=\"spacingAndGlyphs\" textLength=\"36\" x=\"66\" y=\"283.1074\">pdest</text><line style=\"stroke: #383838; stroke-width: 1.5;\" x1=\"64\" x2=\"108\" y1=\"290.9375\" y2=\"290.9375\"/></a><!--MD5=[4672eba38e49728da53d11aeb285b987]\n",
       "reverse link E3 to E4--><a href=\"psysml:97bd4c72-9c32-47a6-a147-0b42cd362230\" target=\"_top\" title=\"psysml:97bd4c72-9c32-47a6-a147-0b42cd362230\" xlink:actuate=\"onRequest\" xlink:href=\"psysml:97bd4c72-9c32-47a6-a147-0b42cd362230\" xlink:show=\"new\" xlink:title=\"psysml:97bd4c72-9c32-47a6-a147-0b42cd362230\" xlink:type=\"simple\"><path d=\"M192.84,206.44 C191.7,221.87 192.21,239.47 194.36,252.98 \" fill=\"none\" id=\"E3&lt;-E4\" style=\"stroke: #383838; stroke-width: 1.0;\"/><polygon fill=\"#FFFFFF\" points=\"194.35,193.06,189.7032,198.5743,193.006,204.9845,197.6528,199.4702,194.35,193.06\" style=\"stroke: #383838; stroke-width: 1.0;\"/><text fill=\"#000000\" font-family=\"sans-serif\" font-size=\"13\" lengthAdjust=\"spacingAndGlyphs\" textLength=\"8\" x=\"182.4255\" y=\"241.8709\">1</text></a><!--MD5=[4672eba38e49728da53d11aeb285b987]\n",
       "reverse link E3 to E4--><a href=\"psysml:dd790abf-ac6c-4371-bdbb-56cf5ab0181d\" target=\"_top\" title=\"psysml:dd790abf-ac6c-4371-bdbb-56cf5ab0181d\" xlink:actuate=\"onRequest\" xlink:href=\"psysml:dd790abf-ac6c-4371-bdbb-56cf5ab0181d\" xlink:show=\"new\" xlink:title=\"psysml:dd790abf-ac6c-4371-bdbb-56cf5ab0181d\" xlink:type=\"simple\"><path d=\"M218.01,208.34 C219.03,223.3 218.45,240.02 216.27,252.98 \" fill=\"none\" id=\"E3&lt;-E4-1\" style=\"stroke: #383838; stroke-width: 1.0; stroke-dasharray: 7.0,7.0;\"/><ellipse cx=\"217.1693\" cy=\"201.0093\" fill=\"#FFFFFF\" rx=\"8\" ry=\"8\" style=\"stroke: #383838; stroke-width: 1.0;\"/><line style=\"stroke: #383838; stroke-width: 1.0;\" x1=\"218.0687\" x2=\"216.27\" y1=\"208.9586\" y2=\"193.06\"/><line style=\"stroke: #383838; stroke-width: 1.0;\" x1=\"209.2201\" x2=\"225.1186\" y1=\"201.9086\" y2=\"200.1099\"/><text fill=\"#000000\" font-family=\"sans-serif\" font-size=\"13\" lengthAdjust=\"spacingAndGlyphs\" textLength=\"8\" x=\"210.2238\" y=\"241.8709\">1</text></a><!--MD5=[e9be52314489bd878ff4c7144b63c9e1]\n",
       "link E5 to E3--><a href=\"psysml:a968a559-ae75-4ff7-b264-66e5a143558d\" target=\"_top\" title=\"psysml:a968a559-ae75-4ff7-b264-66e5a143558d\" xlink:actuate=\"onRequest\" xlink:href=\"psysml:a968a559-ae75-4ff7-b264-66e5a143558d\" xlink:show=\"new\" xlink:title=\"psysml:a968a559-ae75-4ff7-b264-66e5a143558d\" xlink:type=\"simple\"><path d=\"M155.36,87.06 C162.88,99.47 172.49,115.33 181.24,129.78 \" fill=\"none\" id=\"E5-&gt;E3\" style=\"stroke: #383838; stroke-width: 1.0;\"/><polygon fill=\"#FFFFFF\" points=\"191.66,146.98,175.8217,134.3646,187.792,127.1044,191.66,146.98\" style=\"stroke: #383838; stroke-width: 1.0;\"/><ellipse cx=\"174.5758\" cy=\"128.4538\" fill=\"#383838\" rx=\"2\" ry=\"2\" style=\"stroke: #383838; stroke-width: 1.0;\"/><ellipse cx=\"183.126\" cy=\"123.2679\" fill=\"#383838\" rx=\"2\" ry=\"2\" style=\"stroke: #383838; stroke-width: 1.0;\"/></a><!--MD5=[85d356282659285ab4b2cfe2f634dd2b]\n",
       "reverse link E5 to E6--><a href=\"psysml:167a231e-25d4-4100-8e0d-53e0a4e750c8\" target=\"_top\" title=\"psysml:167a231e-25d4-4100-8e0d-53e0a4e750c8\" xlink:actuate=\"onRequest\" xlink:href=\"psysml:167a231e-25d4-4100-8e0d-53e0a4e750c8\" xlink:show=\"new\" xlink:title=\"psysml:167a231e-25d4-4100-8e0d-53e0a4e750c8\" xlink:type=\"simple\"><path d=\"M132.59,99.96 C128.4,115.51 123.6,133.33 119.93,146.98 \" fill=\"none\" id=\"E5&lt;-E6\" style=\"stroke: #383838; stroke-width: 1.0;\"/><polygon fill=\"#FFFFFF\" points=\"136.06,87.06,130.641,91.8176,132.9484,98.6496,138.3674,93.892,136.06,87.06\" style=\"stroke: #383838; stroke-width: 1.0;\"/><text fill=\"#000000\" font-family=\"sans-serif\" font-size=\"13\" lengthAdjust=\"spacingAndGlyphs\" textLength=\"8\" x=\"112.4487\" y=\"135.8709\">1</text></a><!--MD5=[f667431f98296947986a1a7595a31603]\n",
       "link E6 to E4--><a href=\"psysml:57ff51c2-e85d-4f72-aa72-bbf7c251408b\" target=\"_top\" title=\"psysml:57ff51c2-e85d-4f72-aa72-bbf7c251408b\" xlink:actuate=\"onRequest\" xlink:href=\"psysml:57ff51c2-e85d-4f72-aa72-bbf7c251408b\" xlink:show=\"new\" xlink:title=\"psysml:57ff51c2-e85d-4f72-aa72-bbf7c251408b\" xlink:type=\"simple\"><path d=\"M133.3,193.06 C144.64,206.02 159.28,222.74 172.36,237.7 \" fill=\"none\" id=\"E6-&gt;E4\" style=\"stroke: #383838; stroke-width: 1.0;\"/><polygon fill=\"#FFFFFF\" points=\"185.73,252.98,167.9517,243.2882,178.489,234.0705,185.73,252.98\" style=\"stroke: #383838; stroke-width: 1.0;\"/><line style=\"stroke: #383838; stroke-width: 2.0;\" x1=\"165.4497\" x2=\"175.9871\" y1=\"240.4281\" y2=\"231.2104\"/></a><!--MD5=[14ccda38c055a5c0da953d572bc50960]\n",
       "link E7 to E3--><a href=\"psysml:a1db7df5-c75d-4551-8d1a-744022949b4d\" target=\"_top\" title=\"psysml:a1db7df5-c75d-4551-8d1a-744022949b4d\" xlink:actuate=\"onRequest\" xlink:href=\"psysml:a1db7df5-c75d-4551-8d1a-744022949b4d\" xlink:show=\"new\" xlink:title=\"psysml:a1db7df5-c75d-4551-8d1a-744022949b4d\" xlink:type=\"simple\"><path d=\"M82.11,82.64 C102.61,97.05 132.18,117.83 157.18,135.39 \" fill=\"none\" id=\"E7-&gt;E3\" style=\"stroke: #383838; stroke-width: 1.0;\"/><polygon fill=\"#FFFFFF\" points=\"173.58,146.92,154.011,141.7187,162.0629,130.266,173.58,146.92\" style=\"stroke: #383838; stroke-width: 1.0;\"/><ellipse cx=\"150.4983\" cy=\"136.8043\" fill=\"#383838\" rx=\"2\" ry=\"2\" style=\"stroke: #383838; stroke-width: 1.0;\"/><ellipse cx=\"156.2497\" cy=\"128.6238\" fill=\"#383838\" rx=\"2\" ry=\"2\" style=\"stroke: #383838; stroke-width: 1.0;\"/></a><!--MD5=[dc164f5e8a733ab456ef1add180e9e34]\n",
       "reverse link E7 to E8--><a href=\"psysml:f57d57d9-12d9-410c-acd5-2b53e0560bbf\" target=\"_top\" title=\"psysml:f57d57d9-12d9-410c-acd5-2b53e0560bbf\" xlink:actuate=\"onRequest\" xlink:href=\"psysml:f57d57d9-12d9-410c-acd5-2b53e0560bbf\" xlink:show=\"new\" xlink:title=\"psysml:f57d57d9-12d9-410c-acd5-2b53e0560bbf\" xlink:type=\"simple\"><path d=\"M52.05,100.09 C53.65,143.61 64.25,216.5 74.75,252.9 \" fill=\"none\" id=\"E7&lt;-E8\" style=\"stroke: #383838; stroke-width: 1.0;\"/><polygon fill=\"#FFFFFF\" points=\"51.85,87.08,47.9362,93.1366,52.0216,99.0788,55.9354,93.0222,51.85,87.08\" style=\"stroke: #383838; stroke-width: 1.0;\"/><text fill=\"#000000\" font-family=\"sans-serif\" font-size=\"13\" lengthAdjust=\"spacingAndGlyphs\" textLength=\"8\" x=\"62.6516\" y=\"241.7694\">1</text></a><!--MD5=[dc164f5e8a733ab456ef1add180e9e34]\n",
       "reverse link E7 to E8--><a href=\"psysml:b8781950-4d8a-4fb9-9fe0-7c7847cd278f\" target=\"_top\" title=\"psysml:b8781950-4d8a-4fb9-9fe0-7c7847cd278f\" xlink:actuate=\"onRequest\" xlink:href=\"psysml:b8781950-4d8a-4fb9-9fe0-7c7847cd278f\" xlink:show=\"new\" xlink:title=\"psysml:b8781950-4d8a-4fb9-9fe0-7c7847cd278f\" xlink:type=\"simple\"><path d=\"M72.64,101.8 C83.15,145.5 92.39,216.97 91.63,252.9 \" fill=\"none\" id=\"E7&lt;-E8-1\" style=\"stroke: #383838; stroke-width: 1.0; stroke-dasharray: 7.0,7.0;\"/><ellipse cx=\"70.7794\" cy=\"94.813\" fill=\"#FFFFFF\" rx=\"8\" ry=\"8\" style=\"stroke: #383838; stroke-width: 1.0;\"/><line style=\"stroke: #383838; stroke-width: 1.0;\" x1=\"72.8289\" x2=\"68.73\" y1=\"102.5461\" y2=\"87.08\"/><line style=\"stroke: #383838; stroke-width: 1.0;\" x1=\"63.0464\" x2=\"78.5125\" y1=\"96.8625\" y2=\"92.7636\"/><text fill=\"#000000\" font-family=\"sans-serif\" font-size=\"13\" lengthAdjust=\"spacingAndGlyphs\" textLength=\"8\" x=\"94.2181\" y=\"241.7694\">1</text></a><!--MD5=[0a839d0f80c2d72d4b9b307f046d0de8]\n",
       "link E6 to E8--><a href=\"psysml:117cd7b6-777c-4755-88f6-d7a432271d85\" target=\"_top\" title=\"psysml:117cd7b6-777c-4755-88f6-d7a432271d85\" xlink:actuate=\"onRequest\" xlink:href=\"psysml:117cd7b6-777c-4755-88f6-d7a432271d85\" xlink:show=\"new\" xlink:title=\"psysml:117cd7b6-777c-4755-88f6-d7a432271d85\" xlink:type=\"simple\"><path d=\"M97.42,193.06 C89.86,210.7 83.23,235.34 81.29,252.98 \" fill=\"none\" id=\"E6-E8\" style=\"stroke: #383838; stroke-width: 3.0;\"/><text fill=\"#000000\" font-family=\"sans-serif\" font-size=\"13\" lengthAdjust=\"spacingAndGlyphs\" textLength=\"7\" x=\"80.9648\" y=\"241.8709\">*</text></a><!--MD5=[0a839d0f80c2d72d4b9b307f046d0de8]\n",
       "link E6 to E8--><a href=\"psysml:c7325d6a-fceb-4e80-be50-eff52df502df\" target=\"_top\" title=\"psysml:c7325d6a-fceb-4e80-be50-eff52df502df\" xlink:actuate=\"onRequest\" xlink:href=\"psysml:c7325d6a-fceb-4e80-be50-eff52df502df\" xlink:show=\"new\" xlink:title=\"psysml:c7325d6a-fceb-4e80-be50-eff52df502df\" xlink:type=\"simple\"><path d=\"M119.33,193.06 C117.55,210.7 110.92,235.34 103.2,252.98 \" fill=\"none\" id=\"E6-E8-1\" style=\"stroke: #383838; stroke-width: 3.0;\"/><text fill=\"#000000\" font-family=\"sans-serif\" font-size=\"13\" lengthAdjust=\"spacingAndGlyphs\" textLength=\"7\" x=\"99.8819\" y=\"241.8709\">*</text></a><!--MD5=[2ca21f3d179ec1cfb5ccdd9603a2a31f]\n",
       "@startuml\r\n",
       "skinparam monochrome true\r\n",
       "skinparam classbackgroundcolor white\r\n",
       "skinparam shadowing false\r\n",
       "skinparam wrapWidth 300\r\n",
       "hide circle\r\n",
       "\r\n",
       "package \"AliasTest\" as E1  [[psysml:6242facc-ff06-44d1-b4f3-467b2ef71334 ]]  {\r\n",
       "comp usage \"b :> ISQSpaceTime::width\" as E2  <<(T,blue) attribute>> [[psysml:c7d5118b-0b42-4b21-9071-aba180ff097b ]] {\r\n",
       "}\r\n",
       "comp def \"P1\" as E3  <<(T,blue) part  def>> [[psysml:f3a385fe-c72f-4489-86aa-e832e0f5c54b ]] {\r\n",
       "}\r\n",
       "comp usage \"porig1 \" as E4  <<(T,blue) port>> [[psysml:12c3f617-858e-4877-bab3-72d077a58110 ]] {\r\n",
       "}\r\n",
       "comp usage \"p1: P1 \" as E5  <<(T,blue) part>> [[psysml:f19cd7cf-ead7-487d-acf0-998c02877f08 ]] {\r\n",
       "}\r\n",
       "comp usage \"po1 \" as E6  <<(T,blue) port>> [[psysml:7bd77f36-e1da-430e-90ed-8aecc87780c5 ]] {\r\n",
       "}\r\n",
       "comp usage \"p2: P1 \" as E7  <<(T,blue) part>> [[psysml:3758ddaf-2d7c-4372-b46d-cbe5af56d102 ]] {\r\n",
       "}\r\n",
       "comp usage \"pdest \" as E8  <<(T,blue) port>> [[psysml:009efb1a-81d8-4f5e-8e24-a878e8625106 ]] {\r\n",
       "}\r\n",
       "}\r\n",
       "E3 o- - \"1\"E4 [[psysml:97bd4c72-9c32-47a6-a147-0b42cd362230 ]] \r\n",
       "E3 +.. \"1\"E4 [[psysml:dd790abf-ac6c-4371-bdbb-56cf5ab0181d ]] \r\n",
       "E5 - -:|> E3 [[psysml:a968a559-ae75-4ff7-b264-66e5a143558d ]] \r\n",
       "E5 o- - \"1\"E6 [[psysml:167a231e-25d4-4100-8e0d-53e0a4e750c8 ]] \r\n",
       "E6 - -||> E4 [[psysml:57ff51c2-e85d-4f72-aa72-bbf7c251408b ]] \r\n",
       "E7 - -:|> E3 [[psysml:a1db7df5-c75d-4551-8d1a-744022949b4d ]] \r\n",
       "E7 o- - \"1\"E8 [[psysml:f57d57d9-12d9-410c-acd5-2b53e0560bbf ]] \r\n",
       "E7 +.. \"1\"E8 [[psysml:b8781950-4d8a-4fb9-9fe0-7c7847cd278f ]] \r\n",
       "E6 -[thickness=3]- \"*\"E8 [[psysml:117cd7b6-777c-4755-88f6-d7a432271d85 ]] \r\n",
       "E6 -[thickness=3]- \"*\"E8 [[psysml:c7325d6a-fceb-4e80-be50-eff52df502df ]] \r\n",
       "@enduml\r\n",
       "\n",
       "PlantUML version 1.2020.13(Sat Jun 13 12:26:38 UTC 2020)\n",
       "(EPL source distribution)\n",
       "Java Runtime: OpenJDK Runtime Environment\n",
       "JVM: OpenJDK 64-Bit Server VM\n",
       "Default Encoding: UTF-8\n",
       "Language: en\n",
       "Country: null\n",
       "--></g></svg>"
      ]
     },
     "execution_count": 38,
     "metadata": {},
     "output_type": "execute_result"
    }
   ],
   "source": [
    "%viz --style=\"DEFAULT\" --view=\"Tree\" \"AliasTest\""
   ]
  },
  {
   "cell_type": "code",
   "execution_count": 39,
   "id": "9c6a1d81",
   "metadata": {
    "execution": {
     "iopub.execute_input": "2022-03-21T07:52:18.079106Z",
     "iopub.status.busy": "2022-03-21T07:52:18.078679Z",
     "iopub.status.idle": "2022-03-21T07:52:18.083148Z",
     "shell.execute_reply": "2022-03-21T07:52:18.083463Z"
    }
   },
   "outputs": [
    {
     "data": {
      "image/svg+xml": [
       "<?xml version=\"1.0\" encoding=\"UTF-8\" standalone=\"no\"?><svg xmlns=\"http://www.w3.org/2000/svg\" xmlns:xlink=\"http://www.w3.org/1999/xlink\" contentScriptType=\"application/ecmascript\" contentStyleType=\"text/css\" height=\"12px\" preserveAspectRatio=\"none\" style=\"width:12px;height:12px;\" version=\"1.1\" viewBox=\"0 0 12 12\" width=\"12px\" zoomAndPan=\"magnify\"><defs/><g><!--MD5=[c5f280e076d0d61ccf4b0f27871bda1d]\n",
       "@startuml\r\n",
       "skinparam monochrome true\r\n",
       "skinparam classbackgroundcolor white\r\n",
       "skinparam shadowing false\r\n",
       "skinparam wrapWidth 300\r\n",
       "hide circle\r\n",
       "\r\n",
       "@enduml\r\n",
       "\n",
       "PlantUML version 1.2020.13(Sat Jun 13 12:26:38 UTC 2020)\n",
       "(EPL source distribution)\n",
       "Java Runtime: OpenJDK Runtime Environment\n",
       "JVM: OpenJDK 64-Bit Server VM\n",
       "Default Encoding: UTF-8\n",
       "Language: en\n",
       "Country: null\n",
       "--></g></svg>"
      ]
     },
     "execution_count": 39,
     "metadata": {},
     "output_type": "execute_result"
    }
   ],
   "source": [
    "%viz --style=\"DEFAULT\" --view=\"State\" \"AliasTest\""
   ]
  },
  {
   "cell_type": "code",
   "execution_count": 40,
   "id": "dbffab89",
   "metadata": {
    "execution": {
     "iopub.execute_input": "2022-03-21T07:52:18.133800Z",
     "iopub.status.busy": "2022-03-21T07:52:18.133368Z",
     "iopub.status.idle": "2022-03-21T07:52:18.168420Z",
     "shell.execute_reply": "2022-03-21T07:52:18.168063Z"
    }
   },
   "outputs": [
    {
     "data": {
      "image/svg+xml": [
       "<?xml version=\"1.0\" encoding=\"UTF-8\" standalone=\"no\"?><svg xmlns=\"http://www.w3.org/2000/svg\" xmlns:xlink=\"http://www.w3.org/1999/xlink\" contentScriptType=\"application/ecmascript\" contentStyleType=\"text/css\" height=\"233px\" preserveAspectRatio=\"none\" style=\"width:572px;height:233px;\" version=\"1.1\" viewBox=\"0 0 572 233\" width=\"572px\" zoomAndPan=\"magnify\"><defs/><g><!--MD5=[fbc87193dbaf4d95561dea2c320d4a47]\n",
       "cluster E1--><a href=\"psysml:6242facc-ff06-44d1-b4f3-467b2ef71334\" target=\"_top\" title=\"psysml:6242facc-ff06-44d1-b4f3-467b2ef71334\" xlink:actuate=\"onRequest\" xlink:href=\"psysml:6242facc-ff06-44d1-b4f3-467b2ef71334\" xlink:show=\"new\" xlink:title=\"psysml:6242facc-ff06-44d1-b4f3-467b2ef71334\" xlink:type=\"simple\"><polygon fill=\"#FFFFFF\" points=\"16,6,84,6,91,28.2969,550,28.2969,550,221,16,221,16,6\" style=\"stroke: #000000; stroke-width: 1.5;\"/><line style=\"stroke: #000000; stroke-width: 1.5;\" x1=\"16\" x2=\"91\" y1=\"28.2969\" y2=\"28.2969\"/><text fill=\"#000000\" font-family=\"sans-serif\" font-size=\"14\" font-weight=\"bold\" lengthAdjust=\"spacingAndGlyphs\" textLength=\"62\" x=\"20\" y=\"20.9951\">AliasTest</text></a><!--MD5=[d5e69f78d87373223dbae638b30a9c99]\n",
       "cluster E3--><a href=\"psysml:f3a385fe-c72f-4489-86aa-e832e0f5c54b\" target=\"_top\" title=\"psysml:f3a385fe-c72f-4489-86aa-e832e0f5c54b\" xlink:actuate=\"onRequest\" xlink:href=\"psysml:f3a385fe-c72f-4489-86aa-e832e0f5c54b\" xlink:show=\"new\" xlink:title=\"psysml:f3a385fe-c72f-4489-86aa-e832e0f5c54b\" xlink:type=\"simple\"><rect fill=\"#FFFFFF\" height=\"90\" id=\"E3\" style=\"stroke: #383838; stroke-width: 1.5;\" width=\"85\" x=\"407\" y=\"64\"/><rect fill=\"#F8F8F8\" height=\"37.9375\" style=\"stroke: #383838; stroke-width: 1.5;\" width=\"85\" x=\"407\" y=\"64\"/><text fill=\"#000000\" font-family=\"sans-serif\" font-size=\"12\" font-style=\"italic\" lengthAdjust=\"spacingAndGlyphs\" textLength=\"68\" x=\"415.5\" y=\"80.1387\">«part  def»</text><text fill=\"#000000\" font-family=\"sans-serif\" font-size=\"12\" lengthAdjust=\"spacingAndGlyphs\" textLength=\"16\" x=\"441.5\" y=\"94.1074\">P1</text></a><!--MD5=[14e3b0961a2654348d326746436168a1]\n",
       "cluster E6--><a href=\"psysml:f19cd7cf-ead7-487d-acf0-998c02877f08\" target=\"_top\" title=\"psysml:f19cd7cf-ead7-487d-acf0-998c02877f08\" xlink:actuate=\"onRequest\" xlink:href=\"psysml:f19cd7cf-ead7-487d-acf0-998c02877f08\" xlink:show=\"new\" xlink:title=\"psysml:f19cd7cf-ead7-487d-acf0-998c02877f08\" xlink:type=\"simple\"><rect fill=\"#FFFFFF\" height=\"82\" id=\"E6\" rx=\"10\" ry=\"10\" style=\"stroke: #383838; stroke-width: 1.5;\" width=\"98\" x=\"206\" y=\"64\"/><rect fill=\"#F8F8F8\" height=\"23.9688\" rx=\"10\" ry=\"10\" style=\"stroke: #F8F8F8; stroke-width: 1.5;\" width=\"98\" x=\"206\" y=\"64\"/><rect fill=\"#F8F8F8\" height=\"10\" style=\"stroke: #F8F8F8; stroke-width: 1.5;\" width=\"98\" x=\"206\" y=\"77.9688\"/><rect fill=\"none\" height=\"82\" id=\"E6\" rx=\"10\" ry=\"10\" style=\"stroke: #383838; stroke-width: 1.5;\" width=\"98\" x=\"206\" y=\"64\"/><text fill=\"#000000\" font-family=\"sans-serif\" font-size=\"12\" lengthAdjust=\"spacingAndGlyphs\" textLength=\"40\" x=\"235\" y=\"80.1387\">p1: P1</text><line style=\"stroke: #383838; stroke-width: 1.0;\" x1=\"206\" x2=\"304\" y1=\"87.9688\" y2=\"87.9688\"/></a><!--MD5=[55dfccfc6c49c2d10cd1bd2211a6c90c]\n",
       "cluster E8--><a href=\"psysml:3758ddaf-2d7c-4372-b46d-cbe5af56d102\" target=\"_top\" title=\"psysml:3758ddaf-2d7c-4372-b46d-cbe5af56d102\" xlink:actuate=\"onRequest\" xlink:href=\"psysml:3758ddaf-2d7c-4372-b46d-cbe5af56d102\" xlink:show=\"new\" xlink:title=\"psysml:3758ddaf-2d7c-4372-b46d-cbe5af56d102\" xlink:type=\"simple\"><rect fill=\"#FFFFFF\" height=\"84.5\" id=\"E8\" rx=\"10\" ry=\"10\" style=\"stroke: #383838; stroke-width: 1.5;\" width=\"83\" x=\"307\" y=\"120.5\"/><rect fill=\"#F8F8F8\" height=\"23.9688\" rx=\"10\" ry=\"10\" style=\"stroke: #F8F8F8; stroke-width: 1.5;\" width=\"83\" x=\"307\" y=\"120.5\"/><rect fill=\"#F8F8F8\" height=\"10\" style=\"stroke: #F8F8F8; stroke-width: 1.5;\" width=\"83\" x=\"307\" y=\"134.4688\"/><rect fill=\"none\" height=\"84.5\" id=\"E8\" rx=\"10\" ry=\"10\" style=\"stroke: #383838; stroke-width: 1.5;\" width=\"83\" x=\"307\" y=\"120.5\"/><text fill=\"#000000\" font-family=\"sans-serif\" font-size=\"12\" lengthAdjust=\"spacingAndGlyphs\" textLength=\"40\" x=\"328.5\" y=\"136.6387\">p2: P1</text><line style=\"stroke: #383838; stroke-width: 1.0;\" x1=\"307\" x2=\"390\" y1=\"144.4688\" y2=\"144.4688\"/></a><!--MD5=[b4997ac47864f28c2f74865a473b2911]\n",
       "class E2--><a href=\"psysml:c7d5118b-0b42-4b21-9071-aba180ff097b\" target=\"_top\" title=\"psysml:c7d5118b-0b42-4b21-9071-aba180ff097b\" xlink:actuate=\"onRequest\" xlink:href=\"psysml:c7d5118b-0b42-4b21-9071-aba180ff097b\" xlink:show=\"new\" xlink:title=\"psysml:c7d5118b-0b42-4b21-9071-aba180ff097b\" xlink:type=\"simple\"><rect fill=\"#FFFFFF\" height=\"45.9375\" id=\"E2\" rx=\"10\" ry=\"10\" style=\"stroke: #383838; stroke-width: 1.5;\" width=\"165\" x=\"32.5\" y=\"41\"/><text fill=\"#000000\" font-family=\"sans-serif\" font-size=\"12\" font-style=\"italic\" lengthAdjust=\"spacingAndGlyphs\" textLength=\"69\" x=\"80.5\" y=\"57.1387\">«attribute»</text><text fill=\"#000000\" font-family=\"sans-serif\" font-size=\"12\" lengthAdjust=\"spacingAndGlyphs\" textLength=\"159\" x=\"35.5\" y=\"71.1074\">b :&gt; ISQSpaceTime::width</text><line style=\"stroke: #383838; stroke-width: 1.5;\" x1=\"33.5\" x2=\"196.5\" y1=\"78.9375\" y2=\"78.9375\"/></a><text fill=\"#000000\" font-family=\"sans-serif\" font-size=\"14\" lengthAdjust=\"spacingAndGlyphs\" textLength=\"44\" x=\"401\" y=\"42.6982\">porig1</text><rect fill=\"#383838\" height=\"12\" style=\"stroke: #F8F8F8; stroke-width: 1.5;\" width=\"12\" x=\"419\" y=\"58\"/><text fill=\"#000000\" font-family=\"sans-serif\" font-size=\"14\" lengthAdjust=\"spacingAndGlyphs\" textLength=\"44\" x=\"448\" y=\"42.6982\">porig1</text><rect fill=\"#383838\" height=\"12\" style=\"stroke: #F8F8F8; stroke-width: 1.5;\" width=\"12\" x=\"466\" y=\"58\"/><text fill=\"#000000\" font-family=\"sans-serif\" font-size=\"14\" lengthAdjust=\"spacingAndGlyphs\" textLength=\"27\" x=\"270.5\" y=\"42.6982\">po1</text><rect fill=\"#383838\" height=\"12\" style=\"stroke: #F8F8F8; stroke-width: 1.5;\" width=\"12\" x=\"280\" y=\"58\"/><text fill=\"#000000\" font-family=\"sans-serif\" font-size=\"14\" lengthAdjust=\"spacingAndGlyphs\" textLength=\"40\" x=\"303\" y=\"99.1982\">pdest</text><rect fill=\"#383838\" height=\"12\" style=\"stroke: #F8F8F8; stroke-width: 1.5;\" width=\"12\" x=\"319\" y=\"114.5\"/><text fill=\"#000000\" font-family=\"sans-serif\" font-size=\"14\" lengthAdjust=\"spacingAndGlyphs\" textLength=\"40\" x=\"350\" y=\"99.1982\">pdest</text><rect fill=\"#383838\" height=\"12\" style=\"stroke: #F8F8F8; stroke-width: 1.5;\" width=\"12\" x=\"366\" y=\"114.5\"/><!--MD5=[1c0b9414cc86e0744215edee6abd8926]\n",
       "link E7 to E9--><a href=\"psysml:117cd7b6-777c-4755-88f6-d7a432271d85\" target=\"_top\" title=\"psysml:117cd7b6-777c-4755-88f6-d7a432271d85\" xlink:actuate=\"onRequest\" xlink:href=\"psysml:117cd7b6-777c-4755-88f6-d7a432271d85\" xlink:show=\"new\" xlink:title=\"psysml:117cd7b6-777c-4755-88f6-d7a432271d85\" xlink:type=\"simple\"><path d=\"M281.83,70.03 C282.72,81.73 304.14,110.34 318.83,117.73 \" fill=\"none\" id=\"E7-E9\" style=\"stroke: #383838; stroke-width: 3.0;\"/><text fill=\"#000000\" font-family=\"sans-serif\" font-size=\"13\" lengthAdjust=\"spacingAndGlyphs\" textLength=\"7\" x=\"303.8522\" y=\"106.3789\">*</text></a><!--MD5=[1c0b9414cc86e0744215edee6abd8926]\n",
       "link E7 to E9--><a href=\"psysml:c7325d6a-fceb-4e80-be50-eff52df502df\" target=\"_top\" title=\"psysml:c7325d6a-fceb-4e80-be50-eff52df502df\" xlink:actuate=\"onRequest\" xlink:href=\"psysml:c7325d6a-fceb-4e80-be50-eff52df502df\" xlink:show=\"new\" xlink:title=\"psysml:c7325d6a-fceb-4e80-be50-eff52df502df\" xlink:type=\"simple\"><path d=\"M292.05,66.57 C307.27,73.62 329.05,102.5 329.62,114.37 \" fill=\"none\" id=\"E7-E9-1\" style=\"stroke: #383838; stroke-width: 3.0;\"/><text fill=\"#000000\" font-family=\"sans-serif\" font-size=\"13\" lengthAdjust=\"spacingAndGlyphs\" textLength=\"7\" x=\"323.278\" y=\"103.4683\">*</text></a><!--MD5=[c6723ff3ea12e29be510b26831c68a4c]\n",
       "@startuml\r\n",
       "skinparam ranksep 10\r\n",
       "skinparam rectangle {\r\n",
       " backgroundColor<<block>> LightGreen\r\n",
       "}\r\n",
       "skinparam monochrome true\r\n",
       "skinparam classbackgroundcolor white\r\n",
       "skinparam shadowing false\r\n",
       "skinparam wrapWidth 300\r\n",
       "hide circle\r\n",
       "\r\n",
       "package \"AliasTest\" as E1  [[psysml:6242facc-ff06-44d1-b4f3-467b2ef71334 ]]  {\r\n",
       "comp usage \"b :> ISQSpaceTime::width\" as E2  <<(T,blue) attribute>> [[psysml:c7d5118b-0b42-4b21-9071-aba180ff097b ]] {\r\n",
       "}\r\n",
       "rec def \"P1\" as E3  <<(T,blue) part  def>> [[psysml:f3a385fe-c72f-4489-86aa-e832e0f5c54b ]] {\r\n",
       "portin \"porig1 \" as E4  <<(T,blue) port>> [[psysml:12c3f617-858e-4877-bab3-72d077a58110 ]] \r\n",
       "portin \"porig1 \" as E5  <<(T,blue) port>> [[psysml:12c3f617-858e-4877-bab3-72d077a58110 ]] \r\n",
       "}\r\n",
       "rec usage \"p1: P1\" as E6  [[psysml:f19cd7cf-ead7-487d-acf0-998c02877f08 ]] {\r\n",
       "portin \"po1 \" as E7  <<(T,blue) port>> [[psysml:7bd77f36-e1da-430e-90ed-8aecc87780c5 ]] \r\n",
       "}\r\n",
       "rec usage \"p2: P1\" as E8  [[psysml:3758ddaf-2d7c-4372-b46d-cbe5af56d102 ]] {\r\n",
       "portin \"pdest \" as E9  <<(T,blue) port>> [[psysml:009efb1a-81d8-4f5e-8e24-a878e8625106 ]] \r\n",
       "portin \"pdest \" as E10  <<(T,blue) port>> [[psysml:009efb1a-81d8-4f5e-8e24-a878e8625106 ]] \r\n",
       "}\r\n",
       "}\r\n",
       "E7 -[thickness=3]- \"*\"E9 [[psysml:117cd7b6-777c-4755-88f6-d7a432271d85 ]] \r\n",
       "E7 -[thickness=3]- \"*\"E9 [[psysml:c7325d6a-fceb-4e80-be50-eff52df502df ]] \r\n",
       "@enduml\r\n",
       "\n",
       "PlantUML version 1.2020.13(Sat Jun 13 12:26:38 UTC 2020)\n",
       "(EPL source distribution)\n",
       "Java Runtime: OpenJDK Runtime Environment\n",
       "JVM: OpenJDK 64-Bit Server VM\n",
       "Default Encoding: UTF-8\n",
       "Language: en\n",
       "Country: null\n",
       "--></g></svg>"
      ]
     },
     "execution_count": 40,
     "metadata": {},
     "output_type": "execute_result"
    }
   ],
   "source": [
    "%viz --style=\"DEFAULT\" --view=\"Interconnection\" \"AliasTest\""
   ]
  },
  {
   "cell_type": "code",
   "execution_count": 41,
   "id": "f63e9eac",
   "metadata": {
    "execution": {
     "iopub.execute_input": "2022-03-21T07:52:18.217799Z",
     "iopub.status.busy": "2022-03-21T07:52:18.217565Z",
     "iopub.status.idle": "2022-03-21T07:52:18.222947Z",
     "shell.execute_reply": "2022-03-21T07:52:18.222582Z"
    }
   },
   "outputs": [
    {
     "data": {
      "image/svg+xml": [
       "<?xml version=\"1.0\" encoding=\"UTF-8\" standalone=\"no\"?><svg xmlns=\"http://www.w3.org/2000/svg\" xmlns:xlink=\"http://www.w3.org/1999/xlink\" contentScriptType=\"application/ecmascript\" contentStyleType=\"text/css\" height=\"12px\" preserveAspectRatio=\"none\" style=\"width:12px;height:12px;\" version=\"1.1\" viewBox=\"0 0 12 12\" width=\"12px\" zoomAndPan=\"magnify\"><defs/><g><!--MD5=[388f21188e31bfdd97050473b19af356]\n",
       "@startuml\r\n",
       "skinparam ranksep 8\r\n",
       "skinparam monochrome true\r\n",
       "skinparam classbackgroundcolor white\r\n",
       "skinparam shadowing false\r\n",
       "skinparam wrapWidth 300\r\n",
       "hide circle\r\n",
       "\r\n",
       "@enduml\r\n",
       "\n",
       "PlantUML version 1.2020.13(Sat Jun 13 12:26:38 UTC 2020)\n",
       "(EPL source distribution)\n",
       "Java Runtime: OpenJDK Runtime Environment\n",
       "JVM: OpenJDK 64-Bit Server VM\n",
       "Default Encoding: UTF-8\n",
       "Language: en\n",
       "Country: null\n",
       "--></g></svg>"
      ]
     },
     "execution_count": 41,
     "metadata": {},
     "output_type": "execute_result"
    }
   ],
   "source": [
    "%viz --style=\"DEFAULT\" --view=\"Action\" \"AliasTest\""
   ]
  },
  {
   "cell_type": "code",
   "execution_count": 42,
   "id": "e575a243",
   "metadata": {
    "execution": {
     "iopub.execute_input": "2022-03-21T07:52:18.272966Z",
     "iopub.status.busy": "2022-03-21T07:52:18.272528Z",
     "iopub.status.idle": "2022-03-21T07:52:18.277477Z",
     "shell.execute_reply": "2022-03-21T07:52:18.277834Z"
    }
   },
   "outputs": [
    {
     "data": {
      "image/svg+xml": [
       "<?xml version=\"1.0\" encoding=\"UTF-8\" standalone=\"no\"?><svg xmlns=\"http://www.w3.org/2000/svg\" xmlns:xlink=\"http://www.w3.org/1999/xlink\" contentScriptType=\"application/ecmascript\" contentStyleType=\"text/css\" height=\"12px\" preserveAspectRatio=\"none\" style=\"width:12px;height:12px;\" version=\"1.1\" viewBox=\"0 0 12 12\" width=\"12px\" zoomAndPan=\"magnify\"><defs/><g><!--MD5=[0b72472770326784bf6c2b53246e1e64]\n",
       "@startuml\r\n",
       "skinparam roundcorner 20\r\n",
       "skinparam BoxPadding 20\r\n",
       "skinparam SequenceBoxBackgroundColor #white\r\n",
       "skinparam style strictuml\r\n",
       "skinparam maxMessageSize 100\r\n",
       "skinparam monochrome true\r\n",
       "skinparam classbackgroundcolor white\r\n",
       "skinparam shadowing false\r\n",
       "skinparam wrapWidth 300\r\n",
       "hide circle\r\n",
       "\r\n",
       "@enduml\r\n",
       "\n",
       "PlantUML version 1.2020.13(Sat Jun 13 12:26:38 UTC 2020)\n",
       "(EPL source distribution)\n",
       "Java Runtime: OpenJDK Runtime Environment\n",
       "JVM: OpenJDK 64-Bit Server VM\n",
       "Default Encoding: UTF-8\n",
       "Language: en\n",
       "Country: null\n",
       "--></g></svg>"
      ]
     },
     "execution_count": 42,
     "metadata": {},
     "output_type": "execute_result"
    }
   ],
   "source": [
    "%viz --style=\"DEFAULT\" --view=\"Sequence\" \"AliasTest\""
   ]
  },
  {
   "cell_type": "code",
   "execution_count": 43,
   "id": "c18701a1",
   "metadata": {
    "execution": {
     "iopub.execute_input": "2022-03-21T07:52:18.327824Z",
     "iopub.status.busy": "2022-03-21T07:52:18.327397Z",
     "iopub.status.idle": "2022-03-21T07:52:18.363610Z",
     "shell.execute_reply": "2022-03-21T07:52:18.363249Z"
    }
   },
   "outputs": [
    {
     "data": {
      "image/svg+xml": [
       "<?xml version=\"1.0\" encoding=\"UTF-8\" standalone=\"no\"?><svg xmlns=\"http://www.w3.org/2000/svg\" xmlns:xlink=\"http://www.w3.org/1999/xlink\" contentScriptType=\"application/ecmascript\" contentStyleType=\"text/css\" height=\"327px\" preserveAspectRatio=\"none\" style=\"width:406px;height:327px;\" version=\"1.1\" viewBox=\"0 0 406 327\" width=\"406px\" zoomAndPan=\"magnify\"><defs/><g><!--MD5=[fbc87193dbaf4d95561dea2c320d4a47]\n",
       "cluster E1--><a href=\"psysml:6242facc-ff06-44d1-b4f3-467b2ef71334\" target=\"_top\" title=\"psysml:6242facc-ff06-44d1-b4f3-467b2ef71334\" xlink:actuate=\"onRequest\" xlink:href=\"psysml:6242facc-ff06-44d1-b4f3-467b2ef71334\" xlink:show=\"new\" xlink:title=\"psysml:6242facc-ff06-44d1-b4f3-467b2ef71334\" xlink:type=\"simple\"><polygon fill=\"#FFFFFF\" points=\"16,6,84,6,91,28.2969,384,28.2969,384,315,16,315,16,6\" style=\"stroke: #000000; stroke-width: 1.5;\"/><line style=\"stroke: #000000; stroke-width: 1.5;\" x1=\"16\" x2=\"91\" y1=\"28.2969\" y2=\"28.2969\"/><text fill=\"#000000\" font-family=\"sans-serif\" font-size=\"14\" font-weight=\"bold\" lengthAdjust=\"spacingAndGlyphs\" textLength=\"62\" x=\"20\" y=\"20.9951\">AliasTest</text></a><!--MD5=[b4997ac47864f28c2f74865a473b2911]\n",
       "class E2--><a href=\"psysml:c7d5118b-0b42-4b21-9071-aba180ff097b\" target=\"_top\" title=\"psysml:c7d5118b-0b42-4b21-9071-aba180ff097b\" xlink:actuate=\"onRequest\" xlink:href=\"psysml:c7d5118b-0b42-4b21-9071-aba180ff097b\" xlink:show=\"new\" xlink:title=\"psysml:c7d5118b-0b42-4b21-9071-aba180ff097b\" xlink:type=\"simple\"><rect fill=\"#FFFFFF\" height=\"45.9375\" id=\"E2\" rx=\"10\" ry=\"10\" style=\"stroke: #383838; stroke-width: 1.5;\" width=\"165\" x=\"202.5\" y=\"41\"/><text fill=\"#000000\" font-family=\"sans-serif\" font-size=\"12\" font-style=\"italic\" lengthAdjust=\"spacingAndGlyphs\" textLength=\"69\" x=\"250.5\" y=\"57.1387\">«attribute»</text><text fill=\"#000000\" font-family=\"sans-serif\" font-size=\"12\" lengthAdjust=\"spacingAndGlyphs\" textLength=\"159\" x=\"205.5\" y=\"71.1074\">b :&gt; ISQSpaceTime::width</text><line style=\"stroke: #383838; stroke-width: 1.5;\" x1=\"203.5\" x2=\"366.5\" y1=\"78.9375\" y2=\"78.9375\"/></a><!--MD5=[09b614a08d8cba4a07c9adeb5e0fee81]\n",
       "class E3--><a href=\"psysml:f3a385fe-c72f-4489-86aa-e832e0f5c54b\" target=\"_top\" title=\"psysml:f3a385fe-c72f-4489-86aa-e832e0f5c54b\" xlink:actuate=\"onRequest\" xlink:href=\"psysml:f3a385fe-c72f-4489-86aa-e832e0f5c54b\" xlink:show=\"new\" xlink:title=\"psysml:f3a385fe-c72f-4489-86aa-e832e0f5c54b\" xlink:type=\"simple\"><rect fill=\"#FFFFFF\" height=\"45.9375\" id=\"E3\" style=\"stroke: #383838; stroke-width: 1.5;\" width=\"70\" x=\"170\" y=\"147\"/><text fill=\"#000000\" font-family=\"sans-serif\" font-size=\"12\" font-style=\"italic\" lengthAdjust=\"spacingAndGlyphs\" textLength=\"68\" x=\"171\" y=\"163.1387\">«part  def»</text><text fill=\"#000000\" font-family=\"sans-serif\" font-size=\"12\" lengthAdjust=\"spacingAndGlyphs\" textLength=\"16\" x=\"197\" y=\"177.1074\">P1</text><line style=\"stroke: #383838; stroke-width: 1.5;\" x1=\"171\" x2=\"239\" y1=\"184.9375\" y2=\"184.9375\"/></a><!--MD5=[ebbe1d658d1005bcc118a6aa81145e00]\n",
       "class E4--><a href=\"psysml:12c3f617-858e-4877-bab3-72d077a58110\" target=\"_top\" title=\"psysml:12c3f617-858e-4877-bab3-72d077a58110\" xlink:actuate=\"onRequest\" xlink:href=\"psysml:12c3f617-858e-4877-bab3-72d077a58110\" xlink:show=\"new\" xlink:title=\"psysml:12c3f617-858e-4877-bab3-72d077a58110\" xlink:type=\"simple\"><rect fill=\"#FFFFFF\" height=\"45.9375\" id=\"E4\" rx=\"10\" ry=\"10\" style=\"stroke: #383838; stroke-width: 1.5;\" width=\"50\" x=\"180\" y=\"253\"/><text fill=\"#000000\" font-family=\"sans-serif\" font-size=\"12\" font-style=\"italic\" lengthAdjust=\"spacingAndGlyphs\" textLength=\"40\" x=\"185\" y=\"269.1387\">«port»</text><text fill=\"#000000\" font-family=\"sans-serif\" font-size=\"12\" lengthAdjust=\"spacingAndGlyphs\" textLength=\"40\" x=\"183\" y=\"283.1074\">porig1</text><line style=\"stroke: #383838; stroke-width: 1.5;\" x1=\"181\" x2=\"229\" y1=\"290.9375\" y2=\"290.9375\"/></a><!--MD5=[270fce915f116d4de14055a7c1d9a0f3]\n",
       "class E5--><a href=\"psysml:f19cd7cf-ead7-487d-acf0-998c02877f08\" target=\"_top\" title=\"psysml:f19cd7cf-ead7-487d-acf0-998c02877f08\" xlink:actuate=\"onRequest\" xlink:href=\"psysml:f19cd7cf-ead7-487d-acf0-998c02877f08\" xlink:show=\"new\" xlink:title=\"psysml:f19cd7cf-ead7-487d-acf0-998c02877f08\" xlink:type=\"simple\"><rect fill=\"#FFFFFF\" height=\"45.9375\" id=\"E5\" rx=\"10\" ry=\"10\" style=\"stroke: #383838; stroke-width: 1.5;\" width=\"50\" x=\"117\" y=\"41\"/><text fill=\"#000000\" font-family=\"sans-serif\" font-size=\"12\" font-style=\"italic\" lengthAdjust=\"spacingAndGlyphs\" textLength=\"40\" x=\"122\" y=\"57.1387\">«part»</text><text fill=\"#000000\" font-family=\"sans-serif\" font-size=\"12\" lengthAdjust=\"spacingAndGlyphs\" textLength=\"40\" x=\"120\" y=\"71.1074\">p1: P1</text><line style=\"stroke: #383838; stroke-width: 1.5;\" x1=\"118\" x2=\"166\" y1=\"78.9375\" y2=\"78.9375\"/></a><!--MD5=[60a26617385b1d2d0262a64233df1f8d]\n",
       "class E6--><a href=\"psysml:7bd77f36-e1da-430e-90ed-8aecc87780c5\" target=\"_top\" title=\"psysml:7bd77f36-e1da-430e-90ed-8aecc87780c5\" xlink:actuate=\"onRequest\" xlink:href=\"psysml:7bd77f36-e1da-430e-90ed-8aecc87780c5\" xlink:show=\"new\" xlink:title=\"psysml:7bd77f36-e1da-430e-90ed-8aecc87780c5\" xlink:type=\"simple\"><rect fill=\"#FFFFFF\" height=\"45.9375\" id=\"E6\" rx=\"10\" ry=\"10\" style=\"stroke: #383838; stroke-width: 1.5;\" width=\"42\" x=\"93\" y=\"147\"/><text fill=\"#000000\" font-family=\"sans-serif\" font-size=\"12\" font-style=\"italic\" lengthAdjust=\"spacingAndGlyphs\" textLength=\"40\" x=\"94\" y=\"163.1387\">«port»</text><text fill=\"#000000\" font-family=\"sans-serif\" font-size=\"12\" lengthAdjust=\"spacingAndGlyphs\" textLength=\"24\" x=\"100\" y=\"177.1074\">po1</text><line style=\"stroke: #383838; stroke-width: 1.5;\" x1=\"94\" x2=\"134\" y1=\"184.9375\" y2=\"184.9375\"/></a><!--MD5=[2156ba9850f5573cc1fc38a6a4b2f02b]\n",
       "class E7--><a href=\"psysml:3758ddaf-2d7c-4372-b46d-cbe5af56d102\" target=\"_top\" title=\"psysml:3758ddaf-2d7c-4372-b46d-cbe5af56d102\" xlink:actuate=\"onRequest\" xlink:href=\"psysml:3758ddaf-2d7c-4372-b46d-cbe5af56d102\" xlink:show=\"new\" xlink:title=\"psysml:3758ddaf-2d7c-4372-b46d-cbe5af56d102\" xlink:type=\"simple\"><rect fill=\"#FFFFFF\" height=\"45.9375\" id=\"E7\" rx=\"10\" ry=\"10\" style=\"stroke: #383838; stroke-width: 1.5;\" width=\"50\" x=\"32\" y=\"41\"/><text fill=\"#000000\" font-family=\"sans-serif\" font-size=\"12\" font-style=\"italic\" lengthAdjust=\"spacingAndGlyphs\" textLength=\"40\" x=\"37\" y=\"57.1387\">«part»</text><text fill=\"#000000\" font-family=\"sans-serif\" font-size=\"12\" lengthAdjust=\"spacingAndGlyphs\" textLength=\"40\" x=\"35\" y=\"71.1074\">p2: P1</text><line style=\"stroke: #383838; stroke-width: 1.5;\" x1=\"33\" x2=\"81\" y1=\"78.9375\" y2=\"78.9375\"/></a><!--MD5=[b9389687b975829384b498ac4b7476b2]\n",
       "class E8--><a href=\"psysml:009efb1a-81d8-4f5e-8e24-a878e8625106\" target=\"_top\" title=\"psysml:009efb1a-81d8-4f5e-8e24-a878e8625106\" xlink:actuate=\"onRequest\" xlink:href=\"psysml:009efb1a-81d8-4f5e-8e24-a878e8625106\" xlink:show=\"new\" xlink:title=\"psysml:009efb1a-81d8-4f5e-8e24-a878e8625106\" xlink:type=\"simple\"><rect fill=\"#FFFFFF\" height=\"45.9375\" id=\"E8\" rx=\"10\" ry=\"10\" style=\"stroke: #383838; stroke-width: 1.5;\" width=\"46\" x=\"63\" y=\"253\"/><text fill=\"#000000\" font-family=\"sans-serif\" font-size=\"12\" font-style=\"italic\" lengthAdjust=\"spacingAndGlyphs\" textLength=\"40\" x=\"66\" y=\"269.1387\">«port»</text><text fill=\"#000000\" font-family=\"sans-serif\" font-size=\"12\" lengthAdjust=\"spacingAndGlyphs\" textLength=\"36\" x=\"66\" y=\"283.1074\">pdest</text><line style=\"stroke: #383838; stroke-width: 1.5;\" x1=\"64\" x2=\"108\" y1=\"290.9375\" y2=\"290.9375\"/></a><!--MD5=[4672eba38e49728da53d11aeb285b987]\n",
       "reverse link E3 to E4--><a href=\"psysml:97bd4c72-9c32-47a6-a147-0b42cd362230\" target=\"_top\" title=\"psysml:97bd4c72-9c32-47a6-a147-0b42cd362230\" xlink:actuate=\"onRequest\" xlink:href=\"psysml:97bd4c72-9c32-47a6-a147-0b42cd362230\" xlink:show=\"new\" xlink:title=\"psysml:97bd4c72-9c32-47a6-a147-0b42cd362230\" xlink:type=\"simple\"><path d=\"M192.84,206.44 C191.7,221.87 192.21,239.47 194.36,252.98 \" fill=\"none\" id=\"E3&lt;-E4\" style=\"stroke: #383838; stroke-width: 1.0;\"/><polygon fill=\"#FFFFFF\" points=\"194.35,193.06,189.7032,198.5743,193.006,204.9845,197.6528,199.4702,194.35,193.06\" style=\"stroke: #383838; stroke-width: 1.0;\"/><text fill=\"#000000\" font-family=\"sans-serif\" font-size=\"13\" lengthAdjust=\"spacingAndGlyphs\" textLength=\"8\" x=\"182.4255\" y=\"241.8709\">1</text></a><!--MD5=[4672eba38e49728da53d11aeb285b987]\n",
       "reverse link E3 to E4--><a href=\"psysml:dd790abf-ac6c-4371-bdbb-56cf5ab0181d\" target=\"_top\" title=\"psysml:dd790abf-ac6c-4371-bdbb-56cf5ab0181d\" xlink:actuate=\"onRequest\" xlink:href=\"psysml:dd790abf-ac6c-4371-bdbb-56cf5ab0181d\" xlink:show=\"new\" xlink:title=\"psysml:dd790abf-ac6c-4371-bdbb-56cf5ab0181d\" xlink:type=\"simple\"><path d=\"M218.01,208.34 C219.03,223.3 218.45,240.02 216.27,252.98 \" fill=\"none\" id=\"E3&lt;-E4-1\" style=\"stroke: #383838; stroke-width: 1.0; stroke-dasharray: 7.0,7.0;\"/><ellipse cx=\"217.1693\" cy=\"201.0093\" fill=\"#FFFFFF\" rx=\"8\" ry=\"8\" style=\"stroke: #383838; stroke-width: 1.0;\"/><line style=\"stroke: #383838; stroke-width: 1.0;\" x1=\"218.0687\" x2=\"216.27\" y1=\"208.9586\" y2=\"193.06\"/><line style=\"stroke: #383838; stroke-width: 1.0;\" x1=\"209.2201\" x2=\"225.1186\" y1=\"201.9086\" y2=\"200.1099\"/><text fill=\"#000000\" font-family=\"sans-serif\" font-size=\"13\" lengthAdjust=\"spacingAndGlyphs\" textLength=\"8\" x=\"210.2238\" y=\"241.8709\">1</text></a><!--MD5=[e9be52314489bd878ff4c7144b63c9e1]\n",
       "link E5 to E3--><a href=\"psysml:a968a559-ae75-4ff7-b264-66e5a143558d\" target=\"_top\" title=\"psysml:a968a559-ae75-4ff7-b264-66e5a143558d\" xlink:actuate=\"onRequest\" xlink:href=\"psysml:a968a559-ae75-4ff7-b264-66e5a143558d\" xlink:show=\"new\" xlink:title=\"psysml:a968a559-ae75-4ff7-b264-66e5a143558d\" xlink:type=\"simple\"><path d=\"M155.36,87.06 C162.88,99.47 172.49,115.33 181.24,129.78 \" fill=\"none\" id=\"E5-&gt;E3\" style=\"stroke: #383838; stroke-width: 1.0;\"/><polygon fill=\"#FFFFFF\" points=\"191.66,146.98,175.8217,134.3646,187.792,127.1044,191.66,146.98\" style=\"stroke: #383838; stroke-width: 1.0;\"/><ellipse cx=\"174.5758\" cy=\"128.4538\" fill=\"#383838\" rx=\"2\" ry=\"2\" style=\"stroke: #383838; stroke-width: 1.0;\"/><ellipse cx=\"183.126\" cy=\"123.2679\" fill=\"#383838\" rx=\"2\" ry=\"2\" style=\"stroke: #383838; stroke-width: 1.0;\"/></a><!--MD5=[85d356282659285ab4b2cfe2f634dd2b]\n",
       "reverse link E5 to E6--><a href=\"psysml:167a231e-25d4-4100-8e0d-53e0a4e750c8\" target=\"_top\" title=\"psysml:167a231e-25d4-4100-8e0d-53e0a4e750c8\" xlink:actuate=\"onRequest\" xlink:href=\"psysml:167a231e-25d4-4100-8e0d-53e0a4e750c8\" xlink:show=\"new\" xlink:title=\"psysml:167a231e-25d4-4100-8e0d-53e0a4e750c8\" xlink:type=\"simple\"><path d=\"M132.59,99.96 C128.4,115.51 123.6,133.33 119.93,146.98 \" fill=\"none\" id=\"E5&lt;-E6\" style=\"stroke: #383838; stroke-width: 1.0;\"/><polygon fill=\"#FFFFFF\" points=\"136.06,87.06,130.641,91.8176,132.9484,98.6496,138.3674,93.892,136.06,87.06\" style=\"stroke: #383838; stroke-width: 1.0;\"/><text fill=\"#000000\" font-family=\"sans-serif\" font-size=\"13\" lengthAdjust=\"spacingAndGlyphs\" textLength=\"8\" x=\"112.4487\" y=\"135.8709\">1</text></a><!--MD5=[f667431f98296947986a1a7595a31603]\n",
       "link E6 to E4--><a href=\"psysml:57ff51c2-e85d-4f72-aa72-bbf7c251408b\" target=\"_top\" title=\"psysml:57ff51c2-e85d-4f72-aa72-bbf7c251408b\" xlink:actuate=\"onRequest\" xlink:href=\"psysml:57ff51c2-e85d-4f72-aa72-bbf7c251408b\" xlink:show=\"new\" xlink:title=\"psysml:57ff51c2-e85d-4f72-aa72-bbf7c251408b\" xlink:type=\"simple\"><path d=\"M133.3,193.06 C144.64,206.02 159.28,222.74 172.36,237.7 \" fill=\"none\" id=\"E6-&gt;E4\" style=\"stroke: #383838; stroke-width: 1.0;\"/><polygon fill=\"#FFFFFF\" points=\"185.73,252.98,167.9517,243.2882,178.489,234.0705,185.73,252.98\" style=\"stroke: #383838; stroke-width: 1.0;\"/><line style=\"stroke: #383838; stroke-width: 2.0;\" x1=\"165.4497\" x2=\"175.9871\" y1=\"240.4281\" y2=\"231.2104\"/></a><!--MD5=[14ccda38c055a5c0da953d572bc50960]\n",
       "link E7 to E3--><a href=\"psysml:a1db7df5-c75d-4551-8d1a-744022949b4d\" target=\"_top\" title=\"psysml:a1db7df5-c75d-4551-8d1a-744022949b4d\" xlink:actuate=\"onRequest\" xlink:href=\"psysml:a1db7df5-c75d-4551-8d1a-744022949b4d\" xlink:show=\"new\" xlink:title=\"psysml:a1db7df5-c75d-4551-8d1a-744022949b4d\" xlink:type=\"simple\"><path d=\"M82.11,82.64 C102.61,97.05 132.18,117.83 157.18,135.39 \" fill=\"none\" id=\"E7-&gt;E3\" style=\"stroke: #383838; stroke-width: 1.0;\"/><polygon fill=\"#FFFFFF\" points=\"173.58,146.92,154.011,141.7187,162.0629,130.266,173.58,146.92\" style=\"stroke: #383838; stroke-width: 1.0;\"/><ellipse cx=\"150.4983\" cy=\"136.8043\" fill=\"#383838\" rx=\"2\" ry=\"2\" style=\"stroke: #383838; stroke-width: 1.0;\"/><ellipse cx=\"156.2497\" cy=\"128.6238\" fill=\"#383838\" rx=\"2\" ry=\"2\" style=\"stroke: #383838; stroke-width: 1.0;\"/></a><!--MD5=[dc164f5e8a733ab456ef1add180e9e34]\n",
       "reverse link E7 to E8--><a href=\"psysml:f57d57d9-12d9-410c-acd5-2b53e0560bbf\" target=\"_top\" title=\"psysml:f57d57d9-12d9-410c-acd5-2b53e0560bbf\" xlink:actuate=\"onRequest\" xlink:href=\"psysml:f57d57d9-12d9-410c-acd5-2b53e0560bbf\" xlink:show=\"new\" xlink:title=\"psysml:f57d57d9-12d9-410c-acd5-2b53e0560bbf\" xlink:type=\"simple\"><path d=\"M52.05,100.09 C53.65,143.61 64.25,216.5 74.75,252.9 \" fill=\"none\" id=\"E7&lt;-E8\" style=\"stroke: #383838; stroke-width: 1.0;\"/><polygon fill=\"#FFFFFF\" points=\"51.85,87.08,47.9362,93.1366,52.0216,99.0788,55.9354,93.0222,51.85,87.08\" style=\"stroke: #383838; stroke-width: 1.0;\"/><text fill=\"#000000\" font-family=\"sans-serif\" font-size=\"13\" lengthAdjust=\"spacingAndGlyphs\" textLength=\"8\" x=\"62.6516\" y=\"241.7694\">1</text></a><!--MD5=[dc164f5e8a733ab456ef1add180e9e34]\n",
       "reverse link E7 to E8--><a href=\"psysml:b8781950-4d8a-4fb9-9fe0-7c7847cd278f\" target=\"_top\" title=\"psysml:b8781950-4d8a-4fb9-9fe0-7c7847cd278f\" xlink:actuate=\"onRequest\" xlink:href=\"psysml:b8781950-4d8a-4fb9-9fe0-7c7847cd278f\" xlink:show=\"new\" xlink:title=\"psysml:b8781950-4d8a-4fb9-9fe0-7c7847cd278f\" xlink:type=\"simple\"><path d=\"M72.64,101.8 C83.15,145.5 92.39,216.97 91.63,252.9 \" fill=\"none\" id=\"E7&lt;-E8-1\" style=\"stroke: #383838; stroke-width: 1.0; stroke-dasharray: 7.0,7.0;\"/><ellipse cx=\"70.7794\" cy=\"94.813\" fill=\"#FFFFFF\" rx=\"8\" ry=\"8\" style=\"stroke: #383838; stroke-width: 1.0;\"/><line style=\"stroke: #383838; stroke-width: 1.0;\" x1=\"72.8289\" x2=\"68.73\" y1=\"102.5461\" y2=\"87.08\"/><line style=\"stroke: #383838; stroke-width: 1.0;\" x1=\"63.0464\" x2=\"78.5125\" y1=\"96.8625\" y2=\"92.7636\"/><text fill=\"#000000\" font-family=\"sans-serif\" font-size=\"13\" lengthAdjust=\"spacingAndGlyphs\" textLength=\"8\" x=\"94.2181\" y=\"241.7694\">1</text></a><!--MD5=[0a839d0f80c2d72d4b9b307f046d0de8]\n",
       "link E6 to E8--><a href=\"psysml:117cd7b6-777c-4755-88f6-d7a432271d85\" target=\"_top\" title=\"psysml:117cd7b6-777c-4755-88f6-d7a432271d85\" xlink:actuate=\"onRequest\" xlink:href=\"psysml:117cd7b6-777c-4755-88f6-d7a432271d85\" xlink:show=\"new\" xlink:title=\"psysml:117cd7b6-777c-4755-88f6-d7a432271d85\" xlink:type=\"simple\"><path d=\"M97.42,193.06 C89.86,210.7 83.23,235.34 81.29,252.98 \" fill=\"none\" id=\"E6-E8\" style=\"stroke: #383838; stroke-width: 3.0;\"/><text fill=\"#000000\" font-family=\"sans-serif\" font-size=\"13\" lengthAdjust=\"spacingAndGlyphs\" textLength=\"7\" x=\"80.9648\" y=\"241.8709\">*</text></a><!--MD5=[0a839d0f80c2d72d4b9b307f046d0de8]\n",
       "link E6 to E8--><a href=\"psysml:c7325d6a-fceb-4e80-be50-eff52df502df\" target=\"_top\" title=\"psysml:c7325d6a-fceb-4e80-be50-eff52df502df\" xlink:actuate=\"onRequest\" xlink:href=\"psysml:c7325d6a-fceb-4e80-be50-eff52df502df\" xlink:show=\"new\" xlink:title=\"psysml:c7325d6a-fceb-4e80-be50-eff52df502df\" xlink:type=\"simple\"><path d=\"M119.33,193.06 C117.55,210.7 110.92,235.34 103.2,252.98 \" fill=\"none\" id=\"E6-E8-1\" style=\"stroke: #383838; stroke-width: 3.0;\"/><text fill=\"#000000\" font-family=\"sans-serif\" font-size=\"13\" lengthAdjust=\"spacingAndGlyphs\" textLength=\"7\" x=\"99.8819\" y=\"241.8709\">*</text></a><!--MD5=[2ca21f3d179ec1cfb5ccdd9603a2a31f]\n",
       "@startuml\r\n",
       "skinparam monochrome true\r\n",
       "skinparam classbackgroundcolor white\r\n",
       "skinparam shadowing false\r\n",
       "skinparam wrapWidth 300\r\n",
       "hide circle\r\n",
       "\r\n",
       "package \"AliasTest\" as E1  [[psysml:6242facc-ff06-44d1-b4f3-467b2ef71334 ]]  {\r\n",
       "comp usage \"b :> ISQSpaceTime::width\" as E2  <<(T,blue) attribute>> [[psysml:c7d5118b-0b42-4b21-9071-aba180ff097b ]] {\r\n",
       "}\r\n",
       "comp def \"P1\" as E3  <<(T,blue) part  def>> [[psysml:f3a385fe-c72f-4489-86aa-e832e0f5c54b ]] {\r\n",
       "}\r\n",
       "comp usage \"porig1 \" as E4  <<(T,blue) port>> [[psysml:12c3f617-858e-4877-bab3-72d077a58110 ]] {\r\n",
       "}\r\n",
       "comp usage \"p1: P1 \" as E5  <<(T,blue) part>> [[psysml:f19cd7cf-ead7-487d-acf0-998c02877f08 ]] {\r\n",
       "}\r\n",
       "comp usage \"po1 \" as E6  <<(T,blue) port>> [[psysml:7bd77f36-e1da-430e-90ed-8aecc87780c5 ]] {\r\n",
       "}\r\n",
       "comp usage \"p2: P1 \" as E7  <<(T,blue) part>> [[psysml:3758ddaf-2d7c-4372-b46d-cbe5af56d102 ]] {\r\n",
       "}\r\n",
       "comp usage \"pdest \" as E8  <<(T,blue) port>> [[psysml:009efb1a-81d8-4f5e-8e24-a878e8625106 ]] {\r\n",
       "}\r\n",
       "}\r\n",
       "E3 o- - \"1\"E4 [[psysml:97bd4c72-9c32-47a6-a147-0b42cd362230 ]] \r\n",
       "E3 +.. \"1\"E4 [[psysml:dd790abf-ac6c-4371-bdbb-56cf5ab0181d ]] \r\n",
       "E5 - -:|> E3 [[psysml:a968a559-ae75-4ff7-b264-66e5a143558d ]] \r\n",
       "E5 o- - \"1\"E6 [[psysml:167a231e-25d4-4100-8e0d-53e0a4e750c8 ]] \r\n",
       "E6 - -||> E4 [[psysml:57ff51c2-e85d-4f72-aa72-bbf7c251408b ]] \r\n",
       "E7 - -:|> E3 [[psysml:a1db7df5-c75d-4551-8d1a-744022949b4d ]] \r\n",
       "E7 o- - \"1\"E8 [[psysml:f57d57d9-12d9-410c-acd5-2b53e0560bbf ]] \r\n",
       "E7 +.. \"1\"E8 [[psysml:b8781950-4d8a-4fb9-9fe0-7c7847cd278f ]] \r\n",
       "E6 -[thickness=3]- \"*\"E8 [[psysml:117cd7b6-777c-4755-88f6-d7a432271d85 ]] \r\n",
       "E6 -[thickness=3]- \"*\"E8 [[psysml:c7325d6a-fceb-4e80-be50-eff52df502df ]] \r\n",
       "@enduml\r\n",
       "\n",
       "PlantUML version 1.2020.13(Sat Jun 13 12:26:38 UTC 2020)\n",
       "(EPL source distribution)\n",
       "Java Runtime: OpenJDK Runtime Environment\n",
       "JVM: OpenJDK 64-Bit Server VM\n",
       "Default Encoding: UTF-8\n",
       "Language: en\n",
       "Country: null\n",
       "--></g></svg>"
      ]
     },
     "execution_count": 43,
     "metadata": {},
     "output_type": "execute_result"
    }
   ],
   "source": [
    "%viz --style=\"DEFAULT\" --view=\"MIXED\" \"AliasTest\""
   ]
  },
  {
   "cell_type": "code",
   "execution_count": 44,
   "id": "1e101dc6",
   "metadata": {
    "execution": {
     "iopub.execute_input": "2022-03-21T07:52:18.413339Z",
     "iopub.status.busy": "2022-03-21T07:52:18.412928Z",
     "iopub.status.idle": "2022-03-21T07:52:18.451171Z",
     "shell.execute_reply": "2022-03-21T07:52:18.450791Z"
    }
   },
   "outputs": [
    {
     "data": {
      "image/svg+xml": [
       "<?xml version=\"1.0\" encoding=\"UTF-8\" standalone=\"no\"?><svg xmlns=\"http://www.w3.org/2000/svg\" xmlns:xlink=\"http://www.w3.org/1999/xlink\" contentScriptType=\"application/ecmascript\" contentStyleType=\"text/css\" height=\"327px\" preserveAspectRatio=\"none\" style=\"width:406px;height:327px;\" version=\"1.1\" viewBox=\"0 0 406 327\" width=\"406px\" zoomAndPan=\"magnify\"><defs/><g><!--MD5=[fbc87193dbaf4d95561dea2c320d4a47]\n",
       "cluster E1--><a href=\"psysml:6242facc-ff06-44d1-b4f3-467b2ef71334\" target=\"_top\" title=\"psysml:6242facc-ff06-44d1-b4f3-467b2ef71334\" xlink:actuate=\"onRequest\" xlink:href=\"psysml:6242facc-ff06-44d1-b4f3-467b2ef71334\" xlink:show=\"new\" xlink:title=\"psysml:6242facc-ff06-44d1-b4f3-467b2ef71334\" xlink:type=\"simple\"><polygon fill=\"#FFFFFF\" points=\"16,6,84,6,91,28.2969,384,28.2969,384,315,16,315,16,6\" style=\"stroke: #000000; stroke-width: 1.5;\"/><line style=\"stroke: #000000; stroke-width: 1.5;\" x1=\"16\" x2=\"91\" y1=\"28.2969\" y2=\"28.2969\"/><text fill=\"#000000\" font-family=\"sans-serif\" font-size=\"14\" font-weight=\"bold\" lengthAdjust=\"spacingAndGlyphs\" textLength=\"62\" x=\"20\" y=\"20.9951\">AliasTest</text></a><!--MD5=[b4997ac47864f28c2f74865a473b2911]\n",
       "class E2--><a href=\"psysml:c7d5118b-0b42-4b21-9071-aba180ff097b\" target=\"_top\" title=\"psysml:c7d5118b-0b42-4b21-9071-aba180ff097b\" xlink:actuate=\"onRequest\" xlink:href=\"psysml:c7d5118b-0b42-4b21-9071-aba180ff097b\" xlink:show=\"new\" xlink:title=\"psysml:c7d5118b-0b42-4b21-9071-aba180ff097b\" xlink:type=\"simple\"><rect fill=\"#FFFFFF\" height=\"45.9375\" id=\"E2\" rx=\"10\" ry=\"10\" style=\"stroke: #383838; stroke-width: 1.5;\" width=\"165\" x=\"202.5\" y=\"41\"/><text fill=\"#000000\" font-family=\"sans-serif\" font-size=\"12\" font-style=\"italic\" lengthAdjust=\"spacingAndGlyphs\" textLength=\"69\" x=\"250.5\" y=\"57.1387\">«attribute»</text><text fill=\"#000000\" font-family=\"sans-serif\" font-size=\"12\" lengthAdjust=\"spacingAndGlyphs\" textLength=\"159\" x=\"205.5\" y=\"71.1074\">b :&gt; ISQSpaceTime::width</text><line style=\"stroke: #383838; stroke-width: 1.5;\" x1=\"203.5\" x2=\"366.5\" y1=\"78.9375\" y2=\"78.9375\"/></a><!--MD5=[09b614a08d8cba4a07c9adeb5e0fee81]\n",
       "class E3--><a href=\"psysml:f3a385fe-c72f-4489-86aa-e832e0f5c54b\" target=\"_top\" title=\"psysml:f3a385fe-c72f-4489-86aa-e832e0f5c54b\" xlink:actuate=\"onRequest\" xlink:href=\"psysml:f3a385fe-c72f-4489-86aa-e832e0f5c54b\" xlink:show=\"new\" xlink:title=\"psysml:f3a385fe-c72f-4489-86aa-e832e0f5c54b\" xlink:type=\"simple\"><rect fill=\"#FFFFFF\" height=\"45.9375\" id=\"E3\" style=\"stroke: #383838; stroke-width: 1.5;\" width=\"70\" x=\"170\" y=\"147\"/><text fill=\"#000000\" font-family=\"sans-serif\" font-size=\"12\" font-style=\"italic\" lengthAdjust=\"spacingAndGlyphs\" textLength=\"68\" x=\"171\" y=\"163.1387\">«part  def»</text><text fill=\"#000000\" font-family=\"sans-serif\" font-size=\"12\" lengthAdjust=\"spacingAndGlyphs\" textLength=\"16\" x=\"197\" y=\"177.1074\">P1</text><line style=\"stroke: #383838; stroke-width: 1.5;\" x1=\"171\" x2=\"239\" y1=\"184.9375\" y2=\"184.9375\"/></a><!--MD5=[ebbe1d658d1005bcc118a6aa81145e00]\n",
       "class E4--><a href=\"psysml:12c3f617-858e-4877-bab3-72d077a58110\" target=\"_top\" title=\"psysml:12c3f617-858e-4877-bab3-72d077a58110\" xlink:actuate=\"onRequest\" xlink:href=\"psysml:12c3f617-858e-4877-bab3-72d077a58110\" xlink:show=\"new\" xlink:title=\"psysml:12c3f617-858e-4877-bab3-72d077a58110\" xlink:type=\"simple\"><rect fill=\"#FFFFFF\" height=\"45.9375\" id=\"E4\" rx=\"10\" ry=\"10\" style=\"stroke: #383838; stroke-width: 1.5;\" width=\"50\" x=\"180\" y=\"253\"/><text fill=\"#000000\" font-family=\"sans-serif\" font-size=\"12\" font-style=\"italic\" lengthAdjust=\"spacingAndGlyphs\" textLength=\"40\" x=\"185\" y=\"269.1387\">«port»</text><text fill=\"#000000\" font-family=\"sans-serif\" font-size=\"12\" lengthAdjust=\"spacingAndGlyphs\" textLength=\"40\" x=\"183\" y=\"283.1074\">porig1</text><line style=\"stroke: #383838; stroke-width: 1.5;\" x1=\"181\" x2=\"229\" y1=\"290.9375\" y2=\"290.9375\"/></a><!--MD5=[270fce915f116d4de14055a7c1d9a0f3]\n",
       "class E5--><a href=\"psysml:f19cd7cf-ead7-487d-acf0-998c02877f08\" target=\"_top\" title=\"psysml:f19cd7cf-ead7-487d-acf0-998c02877f08\" xlink:actuate=\"onRequest\" xlink:href=\"psysml:f19cd7cf-ead7-487d-acf0-998c02877f08\" xlink:show=\"new\" xlink:title=\"psysml:f19cd7cf-ead7-487d-acf0-998c02877f08\" xlink:type=\"simple\"><rect fill=\"#FFFFFF\" height=\"45.9375\" id=\"E5\" rx=\"10\" ry=\"10\" style=\"stroke: #383838; stroke-width: 1.5;\" width=\"50\" x=\"117\" y=\"41\"/><text fill=\"#000000\" font-family=\"sans-serif\" font-size=\"12\" font-style=\"italic\" lengthAdjust=\"spacingAndGlyphs\" textLength=\"40\" x=\"122\" y=\"57.1387\">«part»</text><text fill=\"#000000\" font-family=\"sans-serif\" font-size=\"12\" lengthAdjust=\"spacingAndGlyphs\" textLength=\"40\" x=\"120\" y=\"71.1074\">p1: P1</text><line style=\"stroke: #383838; stroke-width: 1.5;\" x1=\"118\" x2=\"166\" y1=\"78.9375\" y2=\"78.9375\"/></a><!--MD5=[60a26617385b1d2d0262a64233df1f8d]\n",
       "class E6--><a href=\"psysml:7bd77f36-e1da-430e-90ed-8aecc87780c5\" target=\"_top\" title=\"psysml:7bd77f36-e1da-430e-90ed-8aecc87780c5\" xlink:actuate=\"onRequest\" xlink:href=\"psysml:7bd77f36-e1da-430e-90ed-8aecc87780c5\" xlink:show=\"new\" xlink:title=\"psysml:7bd77f36-e1da-430e-90ed-8aecc87780c5\" xlink:type=\"simple\"><rect fill=\"#FFFFFF\" height=\"45.9375\" id=\"E6\" rx=\"10\" ry=\"10\" style=\"stroke: #383838; stroke-width: 1.5;\" width=\"42\" x=\"93\" y=\"147\"/><text fill=\"#000000\" font-family=\"sans-serif\" font-size=\"12\" font-style=\"italic\" lengthAdjust=\"spacingAndGlyphs\" textLength=\"40\" x=\"94\" y=\"163.1387\">«port»</text><text fill=\"#000000\" font-family=\"sans-serif\" font-size=\"12\" lengthAdjust=\"spacingAndGlyphs\" textLength=\"24\" x=\"100\" y=\"177.1074\">po1</text><line style=\"stroke: #383838; stroke-width: 1.5;\" x1=\"94\" x2=\"134\" y1=\"184.9375\" y2=\"184.9375\"/></a><!--MD5=[2156ba9850f5573cc1fc38a6a4b2f02b]\n",
       "class E7--><a href=\"psysml:3758ddaf-2d7c-4372-b46d-cbe5af56d102\" target=\"_top\" title=\"psysml:3758ddaf-2d7c-4372-b46d-cbe5af56d102\" xlink:actuate=\"onRequest\" xlink:href=\"psysml:3758ddaf-2d7c-4372-b46d-cbe5af56d102\" xlink:show=\"new\" xlink:title=\"psysml:3758ddaf-2d7c-4372-b46d-cbe5af56d102\" xlink:type=\"simple\"><rect fill=\"#FFFFFF\" height=\"45.9375\" id=\"E7\" rx=\"10\" ry=\"10\" style=\"stroke: #383838; stroke-width: 1.5;\" width=\"50\" x=\"32\" y=\"41\"/><text fill=\"#000000\" font-family=\"sans-serif\" font-size=\"12\" font-style=\"italic\" lengthAdjust=\"spacingAndGlyphs\" textLength=\"40\" x=\"37\" y=\"57.1387\">«part»</text><text fill=\"#000000\" font-family=\"sans-serif\" font-size=\"12\" lengthAdjust=\"spacingAndGlyphs\" textLength=\"40\" x=\"35\" y=\"71.1074\">p2: P1</text><line style=\"stroke: #383838; stroke-width: 1.5;\" x1=\"33\" x2=\"81\" y1=\"78.9375\" y2=\"78.9375\"/></a><!--MD5=[b9389687b975829384b498ac4b7476b2]\n",
       "class E8--><a href=\"psysml:009efb1a-81d8-4f5e-8e24-a878e8625106\" target=\"_top\" title=\"psysml:009efb1a-81d8-4f5e-8e24-a878e8625106\" xlink:actuate=\"onRequest\" xlink:href=\"psysml:009efb1a-81d8-4f5e-8e24-a878e8625106\" xlink:show=\"new\" xlink:title=\"psysml:009efb1a-81d8-4f5e-8e24-a878e8625106\" xlink:type=\"simple\"><rect fill=\"#FFFFFF\" height=\"45.9375\" id=\"E8\" rx=\"10\" ry=\"10\" style=\"stroke: #383838; stroke-width: 1.5;\" width=\"46\" x=\"63\" y=\"253\"/><text fill=\"#000000\" font-family=\"sans-serif\" font-size=\"12\" font-style=\"italic\" lengthAdjust=\"spacingAndGlyphs\" textLength=\"40\" x=\"66\" y=\"269.1387\">«port»</text><text fill=\"#000000\" font-family=\"sans-serif\" font-size=\"12\" lengthAdjust=\"spacingAndGlyphs\" textLength=\"36\" x=\"66\" y=\"283.1074\">pdest</text><line style=\"stroke: #383838; stroke-width: 1.5;\" x1=\"64\" x2=\"108\" y1=\"290.9375\" y2=\"290.9375\"/></a><!--MD5=[4672eba38e49728da53d11aeb285b987]\n",
       "reverse link E3 to E4--><a href=\"psysml:97bd4c72-9c32-47a6-a147-0b42cd362230\" target=\"_top\" title=\"psysml:97bd4c72-9c32-47a6-a147-0b42cd362230\" xlink:actuate=\"onRequest\" xlink:href=\"psysml:97bd4c72-9c32-47a6-a147-0b42cd362230\" xlink:show=\"new\" xlink:title=\"psysml:97bd4c72-9c32-47a6-a147-0b42cd362230\" xlink:type=\"simple\"><path d=\"M192.84,206.44 C191.7,221.87 192.21,239.47 194.36,252.98 \" fill=\"none\" id=\"E3&lt;-E4\" style=\"stroke: #383838; stroke-width: 1.0;\"/><polygon fill=\"#FFFFFF\" points=\"194.35,193.06,189.7032,198.5743,193.006,204.9845,197.6528,199.4702,194.35,193.06\" style=\"stroke: #383838; stroke-width: 1.0;\"/><text fill=\"#000000\" font-family=\"sans-serif\" font-size=\"13\" lengthAdjust=\"spacingAndGlyphs\" textLength=\"8\" x=\"182.4255\" y=\"241.8709\">1</text></a><!--MD5=[4672eba38e49728da53d11aeb285b987]\n",
       "reverse link E3 to E4--><a href=\"psysml:dd790abf-ac6c-4371-bdbb-56cf5ab0181d\" target=\"_top\" title=\"psysml:dd790abf-ac6c-4371-bdbb-56cf5ab0181d\" xlink:actuate=\"onRequest\" xlink:href=\"psysml:dd790abf-ac6c-4371-bdbb-56cf5ab0181d\" xlink:show=\"new\" xlink:title=\"psysml:dd790abf-ac6c-4371-bdbb-56cf5ab0181d\" xlink:type=\"simple\"><path d=\"M218.01,208.34 C219.03,223.3 218.45,240.02 216.27,252.98 \" fill=\"none\" id=\"E3&lt;-E4-1\" style=\"stroke: #383838; stroke-width: 1.0; stroke-dasharray: 7.0,7.0;\"/><ellipse cx=\"217.1693\" cy=\"201.0093\" fill=\"#FFFFFF\" rx=\"8\" ry=\"8\" style=\"stroke: #383838; stroke-width: 1.0;\"/><line style=\"stroke: #383838; stroke-width: 1.0;\" x1=\"218.0687\" x2=\"216.27\" y1=\"208.9586\" y2=\"193.06\"/><line style=\"stroke: #383838; stroke-width: 1.0;\" x1=\"209.2201\" x2=\"225.1186\" y1=\"201.9086\" y2=\"200.1099\"/><text fill=\"#000000\" font-family=\"sans-serif\" font-size=\"13\" lengthAdjust=\"spacingAndGlyphs\" textLength=\"8\" x=\"210.2238\" y=\"241.8709\">1</text></a><!--MD5=[e9be52314489bd878ff4c7144b63c9e1]\n",
       "link E5 to E3--><a href=\"psysml:a968a559-ae75-4ff7-b264-66e5a143558d\" target=\"_top\" title=\"psysml:a968a559-ae75-4ff7-b264-66e5a143558d\" xlink:actuate=\"onRequest\" xlink:href=\"psysml:a968a559-ae75-4ff7-b264-66e5a143558d\" xlink:show=\"new\" xlink:title=\"psysml:a968a559-ae75-4ff7-b264-66e5a143558d\" xlink:type=\"simple\"><path d=\"M155.36,87.06 C162.88,99.47 172.49,115.33 181.24,129.78 \" fill=\"none\" id=\"E5-&gt;E3\" style=\"stroke: #383838; stroke-width: 1.0;\"/><polygon fill=\"#FFFFFF\" points=\"191.66,146.98,175.8217,134.3646,187.792,127.1044,191.66,146.98\" style=\"stroke: #383838; stroke-width: 1.0;\"/><ellipse cx=\"174.5758\" cy=\"128.4538\" fill=\"#383838\" rx=\"2\" ry=\"2\" style=\"stroke: #383838; stroke-width: 1.0;\"/><ellipse cx=\"183.126\" cy=\"123.2679\" fill=\"#383838\" rx=\"2\" ry=\"2\" style=\"stroke: #383838; stroke-width: 1.0;\"/></a><!--MD5=[85d356282659285ab4b2cfe2f634dd2b]\n",
       "reverse link E5 to E6--><a href=\"psysml:167a231e-25d4-4100-8e0d-53e0a4e750c8\" target=\"_top\" title=\"psysml:167a231e-25d4-4100-8e0d-53e0a4e750c8\" xlink:actuate=\"onRequest\" xlink:href=\"psysml:167a231e-25d4-4100-8e0d-53e0a4e750c8\" xlink:show=\"new\" xlink:title=\"psysml:167a231e-25d4-4100-8e0d-53e0a4e750c8\" xlink:type=\"simple\"><path d=\"M132.59,99.96 C128.4,115.51 123.6,133.33 119.93,146.98 \" fill=\"none\" id=\"E5&lt;-E6\" style=\"stroke: #383838; stroke-width: 1.0;\"/><polygon fill=\"#FFFFFF\" points=\"136.06,87.06,130.641,91.8176,132.9484,98.6496,138.3674,93.892,136.06,87.06\" style=\"stroke: #383838; stroke-width: 1.0;\"/><text fill=\"#000000\" font-family=\"sans-serif\" font-size=\"13\" lengthAdjust=\"spacingAndGlyphs\" textLength=\"8\" x=\"112.4487\" y=\"135.8709\">1</text></a><!--MD5=[f667431f98296947986a1a7595a31603]\n",
       "link E6 to E4--><a href=\"psysml:57ff51c2-e85d-4f72-aa72-bbf7c251408b\" target=\"_top\" title=\"psysml:57ff51c2-e85d-4f72-aa72-bbf7c251408b\" xlink:actuate=\"onRequest\" xlink:href=\"psysml:57ff51c2-e85d-4f72-aa72-bbf7c251408b\" xlink:show=\"new\" xlink:title=\"psysml:57ff51c2-e85d-4f72-aa72-bbf7c251408b\" xlink:type=\"simple\"><path d=\"M133.3,193.06 C144.64,206.02 159.28,222.74 172.36,237.7 \" fill=\"none\" id=\"E6-&gt;E4\" style=\"stroke: #383838; stroke-width: 1.0;\"/><polygon fill=\"#FFFFFF\" points=\"185.73,252.98,167.9517,243.2882,178.489,234.0705,185.73,252.98\" style=\"stroke: #383838; stroke-width: 1.0;\"/><line style=\"stroke: #383838; stroke-width: 2.0;\" x1=\"165.4497\" x2=\"175.9871\" y1=\"240.4281\" y2=\"231.2104\"/></a><!--MD5=[14ccda38c055a5c0da953d572bc50960]\n",
       "link E7 to E3--><a href=\"psysml:a1db7df5-c75d-4551-8d1a-744022949b4d\" target=\"_top\" title=\"psysml:a1db7df5-c75d-4551-8d1a-744022949b4d\" xlink:actuate=\"onRequest\" xlink:href=\"psysml:a1db7df5-c75d-4551-8d1a-744022949b4d\" xlink:show=\"new\" xlink:title=\"psysml:a1db7df5-c75d-4551-8d1a-744022949b4d\" xlink:type=\"simple\"><path d=\"M82.11,82.64 C102.61,97.05 132.18,117.83 157.18,135.39 \" fill=\"none\" id=\"E7-&gt;E3\" style=\"stroke: #383838; stroke-width: 1.0;\"/><polygon fill=\"#FFFFFF\" points=\"173.58,146.92,154.011,141.7187,162.0629,130.266,173.58,146.92\" style=\"stroke: #383838; stroke-width: 1.0;\"/><ellipse cx=\"150.4983\" cy=\"136.8043\" fill=\"#383838\" rx=\"2\" ry=\"2\" style=\"stroke: #383838; stroke-width: 1.0;\"/><ellipse cx=\"156.2497\" cy=\"128.6238\" fill=\"#383838\" rx=\"2\" ry=\"2\" style=\"stroke: #383838; stroke-width: 1.0;\"/></a><!--MD5=[dc164f5e8a733ab456ef1add180e9e34]\n",
       "reverse link E7 to E8--><a href=\"psysml:f57d57d9-12d9-410c-acd5-2b53e0560bbf\" target=\"_top\" title=\"psysml:f57d57d9-12d9-410c-acd5-2b53e0560bbf\" xlink:actuate=\"onRequest\" xlink:href=\"psysml:f57d57d9-12d9-410c-acd5-2b53e0560bbf\" xlink:show=\"new\" xlink:title=\"psysml:f57d57d9-12d9-410c-acd5-2b53e0560bbf\" xlink:type=\"simple\"><path d=\"M52.05,100.09 C53.65,143.61 64.25,216.5 74.75,252.9 \" fill=\"none\" id=\"E7&lt;-E8\" style=\"stroke: #383838; stroke-width: 1.0;\"/><polygon fill=\"#FFFFFF\" points=\"51.85,87.08,47.9362,93.1366,52.0216,99.0788,55.9354,93.0222,51.85,87.08\" style=\"stroke: #383838; stroke-width: 1.0;\"/><text fill=\"#000000\" font-family=\"sans-serif\" font-size=\"13\" lengthAdjust=\"spacingAndGlyphs\" textLength=\"8\" x=\"62.6516\" y=\"241.7694\">1</text></a><!--MD5=[dc164f5e8a733ab456ef1add180e9e34]\n",
       "reverse link E7 to E8--><a href=\"psysml:b8781950-4d8a-4fb9-9fe0-7c7847cd278f\" target=\"_top\" title=\"psysml:b8781950-4d8a-4fb9-9fe0-7c7847cd278f\" xlink:actuate=\"onRequest\" xlink:href=\"psysml:b8781950-4d8a-4fb9-9fe0-7c7847cd278f\" xlink:show=\"new\" xlink:title=\"psysml:b8781950-4d8a-4fb9-9fe0-7c7847cd278f\" xlink:type=\"simple\"><path d=\"M72.64,101.8 C83.15,145.5 92.39,216.97 91.63,252.9 \" fill=\"none\" id=\"E7&lt;-E8-1\" style=\"stroke: #383838; stroke-width: 1.0; stroke-dasharray: 7.0,7.0;\"/><ellipse cx=\"70.7794\" cy=\"94.813\" fill=\"#FFFFFF\" rx=\"8\" ry=\"8\" style=\"stroke: #383838; stroke-width: 1.0;\"/><line style=\"stroke: #383838; stroke-width: 1.0;\" x1=\"72.8289\" x2=\"68.73\" y1=\"102.5461\" y2=\"87.08\"/><line style=\"stroke: #383838; stroke-width: 1.0;\" x1=\"63.0464\" x2=\"78.5125\" y1=\"96.8625\" y2=\"92.7636\"/><text fill=\"#000000\" font-family=\"sans-serif\" font-size=\"13\" lengthAdjust=\"spacingAndGlyphs\" textLength=\"8\" x=\"94.2181\" y=\"241.7694\">1</text></a><!--MD5=[0a839d0f80c2d72d4b9b307f046d0de8]\n",
       "link E6 to E8--><a href=\"psysml:117cd7b6-777c-4755-88f6-d7a432271d85\" target=\"_top\" title=\"psysml:117cd7b6-777c-4755-88f6-d7a432271d85\" xlink:actuate=\"onRequest\" xlink:href=\"psysml:117cd7b6-777c-4755-88f6-d7a432271d85\" xlink:show=\"new\" xlink:title=\"psysml:117cd7b6-777c-4755-88f6-d7a432271d85\" xlink:type=\"simple\"><path d=\"M97.42,193.06 C89.86,210.7 83.23,235.34 81.29,252.98 \" fill=\"none\" id=\"E6-E8\" style=\"stroke: #383838; stroke-width: 3.0;\"/><text fill=\"#000000\" font-family=\"sans-serif\" font-size=\"13\" lengthAdjust=\"spacingAndGlyphs\" textLength=\"7\" x=\"80.9648\" y=\"241.8709\">*</text></a><!--MD5=[0a839d0f80c2d72d4b9b307f046d0de8]\n",
       "link E6 to E8--><a href=\"psysml:c7325d6a-fceb-4e80-be50-eff52df502df\" target=\"_top\" title=\"psysml:c7325d6a-fceb-4e80-be50-eff52df502df\" xlink:actuate=\"onRequest\" xlink:href=\"psysml:c7325d6a-fceb-4e80-be50-eff52df502df\" xlink:show=\"new\" xlink:title=\"psysml:c7325d6a-fceb-4e80-be50-eff52df502df\" xlink:type=\"simple\"><path d=\"M119.33,193.06 C117.55,210.7 110.92,235.34 103.2,252.98 \" fill=\"none\" id=\"E6-E8-1\" style=\"stroke: #383838; stroke-width: 3.0;\"/><text fill=\"#000000\" font-family=\"sans-serif\" font-size=\"13\" lengthAdjust=\"spacingAndGlyphs\" textLength=\"7\" x=\"99.8819\" y=\"241.8709\">*</text></a><!--MD5=[481cae2a614a464253ef07e44dd66295]\n",
       "@startuml\r\n",
       "top to bottom direction\r\n",
       "skinparam monochrome true\r\n",
       "skinparam classbackgroundcolor white\r\n",
       "skinparam shadowing false\r\n",
       "skinparam wrapWidth 300\r\n",
       "hide circle\r\n",
       "\r\n",
       "package \"AliasTest\" as E1  [[psysml:6242facc-ff06-44d1-b4f3-467b2ef71334 ]]  {\r\n",
       "comp usage \"b :> ISQSpaceTime::width\" as E2  <<(T,blue) attribute>> [[psysml:c7d5118b-0b42-4b21-9071-aba180ff097b ]] {\r\n",
       "}\r\n",
       "comp def \"P1\" as E3  <<(T,blue) part  def>> [[psysml:f3a385fe-c72f-4489-86aa-e832e0f5c54b ]] {\r\n",
       "}\r\n",
       "comp usage \"porig1 \" as E4  <<(T,blue) port>> [[psysml:12c3f617-858e-4877-bab3-72d077a58110 ]] {\r\n",
       "}\r\n",
       "comp usage \"p1: P1 \" as E5  <<(T,blue) part>> [[psysml:f19cd7cf-ead7-487d-acf0-998c02877f08 ]] {\r\n",
       "}\r\n",
       "comp usage \"po1 \" as E6  <<(T,blue) port>> [[psysml:7bd77f36-e1da-430e-90ed-8aecc87780c5 ]] {\r\n",
       "}\r\n",
       "comp usage \"p2: P1 \" as E7  <<(T,blue) part>> [[psysml:3758ddaf-2d7c-4372-b46d-cbe5af56d102 ]] {\r\n",
       "}\r\n",
       "comp usage \"pdest \" as E8  <<(T,blue) port>> [[psysml:009efb1a-81d8-4f5e-8e24-a878e8625106 ]] {\r\n",
       "}\r\n",
       "}\r\n",
       "E3 o- - \"1\"E4 [[psysml:97bd4c72-9c32-47a6-a147-0b42cd362230 ]] \r\n",
       "E3 +.. \"1\"E4 [[psysml:dd790abf-ac6c-4371-bdbb-56cf5ab0181d ]] \r\n",
       "E5 - -:|> E3 [[psysml:a968a559-ae75-4ff7-b264-66e5a143558d ]] \r\n",
       "E5 o- - \"1\"E6 [[psysml:167a231e-25d4-4100-8e0d-53e0a4e750c8 ]] \r\n",
       "E6 - -||> E4 [[psysml:57ff51c2-e85d-4f72-aa72-bbf7c251408b ]] \r\n",
       "E7 - -:|> E3 [[psysml:a1db7df5-c75d-4551-8d1a-744022949b4d ]] \r\n",
       "E7 o- - \"1\"E8 [[psysml:f57d57d9-12d9-410c-acd5-2b53e0560bbf ]] \r\n",
       "E7 +.. \"1\"E8 [[psysml:b8781950-4d8a-4fb9-9fe0-7c7847cd278f ]] \r\n",
       "E6 -[thickness=3]- \"*\"E8 [[psysml:117cd7b6-777c-4755-88f6-d7a432271d85 ]] \r\n",
       "E6 -[thickness=3]- \"*\"E8 [[psysml:c7325d6a-fceb-4e80-be50-eff52df502df ]] \r\n",
       "@enduml\r\n",
       "\n",
       "PlantUML version 1.2020.13(Sat Jun 13 12:26:38 UTC 2020)\n",
       "(EPL source distribution)\n",
       "Java Runtime: OpenJDK Runtime Environment\n",
       "JVM: OpenJDK 64-Bit Server VM\n",
       "Default Encoding: UTF-8\n",
       "Language: en\n",
       "Country: null\n",
       "--></g></svg>"
      ]
     },
     "execution_count": 44,
     "metadata": {},
     "output_type": "execute_result"
    }
   ],
   "source": [
    "%viz --style=\"TB\" --view=\"Default\" \"AliasTest\""
   ]
  },
  {
   "cell_type": "code",
   "execution_count": 45,
   "id": "bbffcf8f",
   "metadata": {
    "execution": {
     "iopub.execute_input": "2022-03-21T07:52:18.500668Z",
     "iopub.status.busy": "2022-03-21T07:52:18.500256Z",
     "iopub.status.idle": "2022-03-21T07:52:18.536411Z",
     "shell.execute_reply": "2022-03-21T07:52:18.536053Z"
    }
   },
   "outputs": [
    {
     "data": {
      "image/svg+xml": [
       "<?xml version=\"1.0\" encoding=\"UTF-8\" standalone=\"no\"?><svg xmlns=\"http://www.w3.org/2000/svg\" xmlns:xlink=\"http://www.w3.org/1999/xlink\" contentScriptType=\"application/ecmascript\" contentStyleType=\"text/css\" height=\"327px\" preserveAspectRatio=\"none\" style=\"width:406px;height:327px;\" version=\"1.1\" viewBox=\"0 0 406 327\" width=\"406px\" zoomAndPan=\"magnify\"><defs/><g><!--MD5=[fbc87193dbaf4d95561dea2c320d4a47]\n",
       "cluster E1--><a href=\"psysml:6242facc-ff06-44d1-b4f3-467b2ef71334\" target=\"_top\" title=\"psysml:6242facc-ff06-44d1-b4f3-467b2ef71334\" xlink:actuate=\"onRequest\" xlink:href=\"psysml:6242facc-ff06-44d1-b4f3-467b2ef71334\" xlink:show=\"new\" xlink:title=\"psysml:6242facc-ff06-44d1-b4f3-467b2ef71334\" xlink:type=\"simple\"><polygon fill=\"#FFFFFF\" points=\"16,6,84,6,91,28.2969,384,28.2969,384,315,16,315,16,6\" style=\"stroke: #000000; stroke-width: 1.5;\"/><line style=\"stroke: #000000; stroke-width: 1.5;\" x1=\"16\" x2=\"91\" y1=\"28.2969\" y2=\"28.2969\"/><text fill=\"#000000\" font-family=\"sans-serif\" font-size=\"14\" font-weight=\"bold\" lengthAdjust=\"spacingAndGlyphs\" textLength=\"62\" x=\"20\" y=\"20.9951\">AliasTest</text></a><!--MD5=[b4997ac47864f28c2f74865a473b2911]\n",
       "class E2--><a href=\"psysml:c7d5118b-0b42-4b21-9071-aba180ff097b\" target=\"_top\" title=\"psysml:c7d5118b-0b42-4b21-9071-aba180ff097b\" xlink:actuate=\"onRequest\" xlink:href=\"psysml:c7d5118b-0b42-4b21-9071-aba180ff097b\" xlink:show=\"new\" xlink:title=\"psysml:c7d5118b-0b42-4b21-9071-aba180ff097b\" xlink:type=\"simple\"><rect fill=\"#FFFFFF\" height=\"45.9375\" id=\"E2\" rx=\"10\" ry=\"10\" style=\"stroke: #383838; stroke-width: 1.5;\" width=\"165\" x=\"202.5\" y=\"41\"/><text fill=\"#000000\" font-family=\"sans-serif\" font-size=\"12\" font-style=\"italic\" lengthAdjust=\"spacingAndGlyphs\" textLength=\"69\" x=\"250.5\" y=\"57.1387\">«attribute»</text><text fill=\"#000000\" font-family=\"sans-serif\" font-size=\"12\" lengthAdjust=\"spacingAndGlyphs\" textLength=\"159\" x=\"205.5\" y=\"71.1074\">b :&gt; ISQSpaceTime::width</text><line style=\"stroke: #383838; stroke-width: 1.5;\" x1=\"203.5\" x2=\"366.5\" y1=\"78.9375\" y2=\"78.9375\"/></a><!--MD5=[09b614a08d8cba4a07c9adeb5e0fee81]\n",
       "class E3--><a href=\"psysml:f3a385fe-c72f-4489-86aa-e832e0f5c54b\" target=\"_top\" title=\"psysml:f3a385fe-c72f-4489-86aa-e832e0f5c54b\" xlink:actuate=\"onRequest\" xlink:href=\"psysml:f3a385fe-c72f-4489-86aa-e832e0f5c54b\" xlink:show=\"new\" xlink:title=\"psysml:f3a385fe-c72f-4489-86aa-e832e0f5c54b\" xlink:type=\"simple\"><rect fill=\"#FFFFFF\" height=\"45.9375\" id=\"E3\" style=\"stroke: #383838; stroke-width: 1.5;\" width=\"70\" x=\"170\" y=\"147\"/><text fill=\"#000000\" font-family=\"sans-serif\" font-size=\"12\" font-style=\"italic\" lengthAdjust=\"spacingAndGlyphs\" textLength=\"68\" x=\"171\" y=\"163.1387\">«part  def»</text><text fill=\"#000000\" font-family=\"sans-serif\" font-size=\"12\" lengthAdjust=\"spacingAndGlyphs\" textLength=\"16\" x=\"197\" y=\"177.1074\">P1</text><line style=\"stroke: #383838; stroke-width: 1.5;\" x1=\"171\" x2=\"239\" y1=\"184.9375\" y2=\"184.9375\"/></a><!--MD5=[ebbe1d658d1005bcc118a6aa81145e00]\n",
       "class E4--><a href=\"psysml:12c3f617-858e-4877-bab3-72d077a58110\" target=\"_top\" title=\"psysml:12c3f617-858e-4877-bab3-72d077a58110\" xlink:actuate=\"onRequest\" xlink:href=\"psysml:12c3f617-858e-4877-bab3-72d077a58110\" xlink:show=\"new\" xlink:title=\"psysml:12c3f617-858e-4877-bab3-72d077a58110\" xlink:type=\"simple\"><rect fill=\"#FFFFFF\" height=\"45.9375\" id=\"E4\" rx=\"10\" ry=\"10\" style=\"stroke: #383838; stroke-width: 1.5;\" width=\"50\" x=\"180\" y=\"253\"/><text fill=\"#000000\" font-family=\"sans-serif\" font-size=\"12\" font-style=\"italic\" lengthAdjust=\"spacingAndGlyphs\" textLength=\"40\" x=\"185\" y=\"269.1387\">«port»</text><text fill=\"#000000\" font-family=\"sans-serif\" font-size=\"12\" lengthAdjust=\"spacingAndGlyphs\" textLength=\"40\" x=\"183\" y=\"283.1074\">porig1</text><line style=\"stroke: #383838; stroke-width: 1.5;\" x1=\"181\" x2=\"229\" y1=\"290.9375\" y2=\"290.9375\"/></a><!--MD5=[270fce915f116d4de14055a7c1d9a0f3]\n",
       "class E5--><a href=\"psysml:f19cd7cf-ead7-487d-acf0-998c02877f08\" target=\"_top\" title=\"psysml:f19cd7cf-ead7-487d-acf0-998c02877f08\" xlink:actuate=\"onRequest\" xlink:href=\"psysml:f19cd7cf-ead7-487d-acf0-998c02877f08\" xlink:show=\"new\" xlink:title=\"psysml:f19cd7cf-ead7-487d-acf0-998c02877f08\" xlink:type=\"simple\"><rect fill=\"#FFFFFF\" height=\"45.9375\" id=\"E5\" rx=\"10\" ry=\"10\" style=\"stroke: #383838; stroke-width: 1.5;\" width=\"50\" x=\"117\" y=\"41\"/><text fill=\"#000000\" font-family=\"sans-serif\" font-size=\"12\" font-style=\"italic\" lengthAdjust=\"spacingAndGlyphs\" textLength=\"40\" x=\"122\" y=\"57.1387\">«part»</text><text fill=\"#000000\" font-family=\"sans-serif\" font-size=\"12\" lengthAdjust=\"spacingAndGlyphs\" textLength=\"40\" x=\"120\" y=\"71.1074\">p1: P1</text><line style=\"stroke: #383838; stroke-width: 1.5;\" x1=\"118\" x2=\"166\" y1=\"78.9375\" y2=\"78.9375\"/></a><!--MD5=[60a26617385b1d2d0262a64233df1f8d]\n",
       "class E6--><a href=\"psysml:7bd77f36-e1da-430e-90ed-8aecc87780c5\" target=\"_top\" title=\"psysml:7bd77f36-e1da-430e-90ed-8aecc87780c5\" xlink:actuate=\"onRequest\" xlink:href=\"psysml:7bd77f36-e1da-430e-90ed-8aecc87780c5\" xlink:show=\"new\" xlink:title=\"psysml:7bd77f36-e1da-430e-90ed-8aecc87780c5\" xlink:type=\"simple\"><rect fill=\"#FFFFFF\" height=\"45.9375\" id=\"E6\" rx=\"10\" ry=\"10\" style=\"stroke: #383838; stroke-width: 1.5;\" width=\"42\" x=\"93\" y=\"147\"/><text fill=\"#000000\" font-family=\"sans-serif\" font-size=\"12\" font-style=\"italic\" lengthAdjust=\"spacingAndGlyphs\" textLength=\"40\" x=\"94\" y=\"163.1387\">«port»</text><text fill=\"#000000\" font-family=\"sans-serif\" font-size=\"12\" lengthAdjust=\"spacingAndGlyphs\" textLength=\"24\" x=\"100\" y=\"177.1074\">po1</text><line style=\"stroke: #383838; stroke-width: 1.5;\" x1=\"94\" x2=\"134\" y1=\"184.9375\" y2=\"184.9375\"/></a><!--MD5=[2156ba9850f5573cc1fc38a6a4b2f02b]\n",
       "class E7--><a href=\"psysml:3758ddaf-2d7c-4372-b46d-cbe5af56d102\" target=\"_top\" title=\"psysml:3758ddaf-2d7c-4372-b46d-cbe5af56d102\" xlink:actuate=\"onRequest\" xlink:href=\"psysml:3758ddaf-2d7c-4372-b46d-cbe5af56d102\" xlink:show=\"new\" xlink:title=\"psysml:3758ddaf-2d7c-4372-b46d-cbe5af56d102\" xlink:type=\"simple\"><rect fill=\"#FFFFFF\" height=\"45.9375\" id=\"E7\" rx=\"10\" ry=\"10\" style=\"stroke: #383838; stroke-width: 1.5;\" width=\"50\" x=\"32\" y=\"41\"/><text fill=\"#000000\" font-family=\"sans-serif\" font-size=\"12\" font-style=\"italic\" lengthAdjust=\"spacingAndGlyphs\" textLength=\"40\" x=\"37\" y=\"57.1387\">«part»</text><text fill=\"#000000\" font-family=\"sans-serif\" font-size=\"12\" lengthAdjust=\"spacingAndGlyphs\" textLength=\"40\" x=\"35\" y=\"71.1074\">p2: P1</text><line style=\"stroke: #383838; stroke-width: 1.5;\" x1=\"33\" x2=\"81\" y1=\"78.9375\" y2=\"78.9375\"/></a><!--MD5=[b9389687b975829384b498ac4b7476b2]\n",
       "class E8--><a href=\"psysml:009efb1a-81d8-4f5e-8e24-a878e8625106\" target=\"_top\" title=\"psysml:009efb1a-81d8-4f5e-8e24-a878e8625106\" xlink:actuate=\"onRequest\" xlink:href=\"psysml:009efb1a-81d8-4f5e-8e24-a878e8625106\" xlink:show=\"new\" xlink:title=\"psysml:009efb1a-81d8-4f5e-8e24-a878e8625106\" xlink:type=\"simple\"><rect fill=\"#FFFFFF\" height=\"45.9375\" id=\"E8\" rx=\"10\" ry=\"10\" style=\"stroke: #383838; stroke-width: 1.5;\" width=\"46\" x=\"63\" y=\"253\"/><text fill=\"#000000\" font-family=\"sans-serif\" font-size=\"12\" font-style=\"italic\" lengthAdjust=\"spacingAndGlyphs\" textLength=\"40\" x=\"66\" y=\"269.1387\">«port»</text><text fill=\"#000000\" font-family=\"sans-serif\" font-size=\"12\" lengthAdjust=\"spacingAndGlyphs\" textLength=\"36\" x=\"66\" y=\"283.1074\">pdest</text><line style=\"stroke: #383838; stroke-width: 1.5;\" x1=\"64\" x2=\"108\" y1=\"290.9375\" y2=\"290.9375\"/></a><!--MD5=[4672eba38e49728da53d11aeb285b987]\n",
       "reverse link E3 to E4--><a href=\"psysml:97bd4c72-9c32-47a6-a147-0b42cd362230\" target=\"_top\" title=\"psysml:97bd4c72-9c32-47a6-a147-0b42cd362230\" xlink:actuate=\"onRequest\" xlink:href=\"psysml:97bd4c72-9c32-47a6-a147-0b42cd362230\" xlink:show=\"new\" xlink:title=\"psysml:97bd4c72-9c32-47a6-a147-0b42cd362230\" xlink:type=\"simple\"><path d=\"M192.84,206.44 C191.7,221.87 192.21,239.47 194.36,252.98 \" fill=\"none\" id=\"E3&lt;-E4\" style=\"stroke: #383838; stroke-width: 1.0;\"/><polygon fill=\"#FFFFFF\" points=\"194.35,193.06,189.7032,198.5743,193.006,204.9845,197.6528,199.4702,194.35,193.06\" style=\"stroke: #383838; stroke-width: 1.0;\"/><text fill=\"#000000\" font-family=\"sans-serif\" font-size=\"13\" lengthAdjust=\"spacingAndGlyphs\" textLength=\"8\" x=\"182.4255\" y=\"241.8709\">1</text></a><!--MD5=[4672eba38e49728da53d11aeb285b987]\n",
       "reverse link E3 to E4--><a href=\"psysml:dd790abf-ac6c-4371-bdbb-56cf5ab0181d\" target=\"_top\" title=\"psysml:dd790abf-ac6c-4371-bdbb-56cf5ab0181d\" xlink:actuate=\"onRequest\" xlink:href=\"psysml:dd790abf-ac6c-4371-bdbb-56cf5ab0181d\" xlink:show=\"new\" xlink:title=\"psysml:dd790abf-ac6c-4371-bdbb-56cf5ab0181d\" xlink:type=\"simple\"><path d=\"M218.01,208.34 C219.03,223.3 218.45,240.02 216.27,252.98 \" fill=\"none\" id=\"E3&lt;-E4-1\" style=\"stroke: #383838; stroke-width: 1.0; stroke-dasharray: 7.0,7.0;\"/><ellipse cx=\"217.1693\" cy=\"201.0093\" fill=\"#FFFFFF\" rx=\"8\" ry=\"8\" style=\"stroke: #383838; stroke-width: 1.0;\"/><line style=\"stroke: #383838; stroke-width: 1.0;\" x1=\"218.0687\" x2=\"216.27\" y1=\"208.9586\" y2=\"193.06\"/><line style=\"stroke: #383838; stroke-width: 1.0;\" x1=\"209.2201\" x2=\"225.1186\" y1=\"201.9086\" y2=\"200.1099\"/><text fill=\"#000000\" font-family=\"sans-serif\" font-size=\"13\" lengthAdjust=\"spacingAndGlyphs\" textLength=\"8\" x=\"210.2238\" y=\"241.8709\">1</text></a><!--MD5=[e9be52314489bd878ff4c7144b63c9e1]\n",
       "link E5 to E3--><a href=\"psysml:a968a559-ae75-4ff7-b264-66e5a143558d\" target=\"_top\" title=\"psysml:a968a559-ae75-4ff7-b264-66e5a143558d\" xlink:actuate=\"onRequest\" xlink:href=\"psysml:a968a559-ae75-4ff7-b264-66e5a143558d\" xlink:show=\"new\" xlink:title=\"psysml:a968a559-ae75-4ff7-b264-66e5a143558d\" xlink:type=\"simple\"><path d=\"M155.36,87.06 C162.88,99.47 172.49,115.33 181.24,129.78 \" fill=\"none\" id=\"E5-&gt;E3\" style=\"stroke: #383838; stroke-width: 1.0;\"/><polygon fill=\"#FFFFFF\" points=\"191.66,146.98,175.8217,134.3646,187.792,127.1044,191.66,146.98\" style=\"stroke: #383838; stroke-width: 1.0;\"/><ellipse cx=\"174.5758\" cy=\"128.4538\" fill=\"#383838\" rx=\"2\" ry=\"2\" style=\"stroke: #383838; stroke-width: 1.0;\"/><ellipse cx=\"183.126\" cy=\"123.2679\" fill=\"#383838\" rx=\"2\" ry=\"2\" style=\"stroke: #383838; stroke-width: 1.0;\"/></a><!--MD5=[85d356282659285ab4b2cfe2f634dd2b]\n",
       "reverse link E5 to E6--><a href=\"psysml:167a231e-25d4-4100-8e0d-53e0a4e750c8\" target=\"_top\" title=\"psysml:167a231e-25d4-4100-8e0d-53e0a4e750c8\" xlink:actuate=\"onRequest\" xlink:href=\"psysml:167a231e-25d4-4100-8e0d-53e0a4e750c8\" xlink:show=\"new\" xlink:title=\"psysml:167a231e-25d4-4100-8e0d-53e0a4e750c8\" xlink:type=\"simple\"><path d=\"M132.59,99.96 C128.4,115.51 123.6,133.33 119.93,146.98 \" fill=\"none\" id=\"E5&lt;-E6\" style=\"stroke: #383838; stroke-width: 1.0;\"/><polygon fill=\"#FFFFFF\" points=\"136.06,87.06,130.641,91.8176,132.9484,98.6496,138.3674,93.892,136.06,87.06\" style=\"stroke: #383838; stroke-width: 1.0;\"/><text fill=\"#000000\" font-family=\"sans-serif\" font-size=\"13\" lengthAdjust=\"spacingAndGlyphs\" textLength=\"8\" x=\"112.4487\" y=\"135.8709\">1</text></a><!--MD5=[f667431f98296947986a1a7595a31603]\n",
       "link E6 to E4--><a href=\"psysml:57ff51c2-e85d-4f72-aa72-bbf7c251408b\" target=\"_top\" title=\"psysml:57ff51c2-e85d-4f72-aa72-bbf7c251408b\" xlink:actuate=\"onRequest\" xlink:href=\"psysml:57ff51c2-e85d-4f72-aa72-bbf7c251408b\" xlink:show=\"new\" xlink:title=\"psysml:57ff51c2-e85d-4f72-aa72-bbf7c251408b\" xlink:type=\"simple\"><path d=\"M133.3,193.06 C144.64,206.02 159.28,222.74 172.36,237.7 \" fill=\"none\" id=\"E6-&gt;E4\" style=\"stroke: #383838; stroke-width: 1.0;\"/><polygon fill=\"#FFFFFF\" points=\"185.73,252.98,167.9517,243.2882,178.489,234.0705,185.73,252.98\" style=\"stroke: #383838; stroke-width: 1.0;\"/><line style=\"stroke: #383838; stroke-width: 2.0;\" x1=\"165.4497\" x2=\"175.9871\" y1=\"240.4281\" y2=\"231.2104\"/></a><!--MD5=[14ccda38c055a5c0da953d572bc50960]\n",
       "link E7 to E3--><a href=\"psysml:a1db7df5-c75d-4551-8d1a-744022949b4d\" target=\"_top\" title=\"psysml:a1db7df5-c75d-4551-8d1a-744022949b4d\" xlink:actuate=\"onRequest\" xlink:href=\"psysml:a1db7df5-c75d-4551-8d1a-744022949b4d\" xlink:show=\"new\" xlink:title=\"psysml:a1db7df5-c75d-4551-8d1a-744022949b4d\" xlink:type=\"simple\"><path d=\"M82.11,82.64 C102.61,97.05 132.18,117.83 157.18,135.39 \" fill=\"none\" id=\"E7-&gt;E3\" style=\"stroke: #383838; stroke-width: 1.0;\"/><polygon fill=\"#FFFFFF\" points=\"173.58,146.92,154.011,141.7187,162.0629,130.266,173.58,146.92\" style=\"stroke: #383838; stroke-width: 1.0;\"/><ellipse cx=\"150.4983\" cy=\"136.8043\" fill=\"#383838\" rx=\"2\" ry=\"2\" style=\"stroke: #383838; stroke-width: 1.0;\"/><ellipse cx=\"156.2497\" cy=\"128.6238\" fill=\"#383838\" rx=\"2\" ry=\"2\" style=\"stroke: #383838; stroke-width: 1.0;\"/></a><!--MD5=[dc164f5e8a733ab456ef1add180e9e34]\n",
       "reverse link E7 to E8--><a href=\"psysml:f57d57d9-12d9-410c-acd5-2b53e0560bbf\" target=\"_top\" title=\"psysml:f57d57d9-12d9-410c-acd5-2b53e0560bbf\" xlink:actuate=\"onRequest\" xlink:href=\"psysml:f57d57d9-12d9-410c-acd5-2b53e0560bbf\" xlink:show=\"new\" xlink:title=\"psysml:f57d57d9-12d9-410c-acd5-2b53e0560bbf\" xlink:type=\"simple\"><path d=\"M52.05,100.09 C53.65,143.61 64.25,216.5 74.75,252.9 \" fill=\"none\" id=\"E7&lt;-E8\" style=\"stroke: #383838; stroke-width: 1.0;\"/><polygon fill=\"#FFFFFF\" points=\"51.85,87.08,47.9362,93.1366,52.0216,99.0788,55.9354,93.0222,51.85,87.08\" style=\"stroke: #383838; stroke-width: 1.0;\"/><text fill=\"#000000\" font-family=\"sans-serif\" font-size=\"13\" lengthAdjust=\"spacingAndGlyphs\" textLength=\"8\" x=\"62.6516\" y=\"241.7694\">1</text></a><!--MD5=[dc164f5e8a733ab456ef1add180e9e34]\n",
       "reverse link E7 to E8--><a href=\"psysml:b8781950-4d8a-4fb9-9fe0-7c7847cd278f\" target=\"_top\" title=\"psysml:b8781950-4d8a-4fb9-9fe0-7c7847cd278f\" xlink:actuate=\"onRequest\" xlink:href=\"psysml:b8781950-4d8a-4fb9-9fe0-7c7847cd278f\" xlink:show=\"new\" xlink:title=\"psysml:b8781950-4d8a-4fb9-9fe0-7c7847cd278f\" xlink:type=\"simple\"><path d=\"M72.64,101.8 C83.15,145.5 92.39,216.97 91.63,252.9 \" fill=\"none\" id=\"E7&lt;-E8-1\" style=\"stroke: #383838; stroke-width: 1.0; stroke-dasharray: 7.0,7.0;\"/><ellipse cx=\"70.7794\" cy=\"94.813\" fill=\"#FFFFFF\" rx=\"8\" ry=\"8\" style=\"stroke: #383838; stroke-width: 1.0;\"/><line style=\"stroke: #383838; stroke-width: 1.0;\" x1=\"72.8289\" x2=\"68.73\" y1=\"102.5461\" y2=\"87.08\"/><line style=\"stroke: #383838; stroke-width: 1.0;\" x1=\"63.0464\" x2=\"78.5125\" y1=\"96.8625\" y2=\"92.7636\"/><text fill=\"#000000\" font-family=\"sans-serif\" font-size=\"13\" lengthAdjust=\"spacingAndGlyphs\" textLength=\"8\" x=\"94.2181\" y=\"241.7694\">1</text></a><!--MD5=[0a839d0f80c2d72d4b9b307f046d0de8]\n",
       "link E6 to E8--><a href=\"psysml:117cd7b6-777c-4755-88f6-d7a432271d85\" target=\"_top\" title=\"psysml:117cd7b6-777c-4755-88f6-d7a432271d85\" xlink:actuate=\"onRequest\" xlink:href=\"psysml:117cd7b6-777c-4755-88f6-d7a432271d85\" xlink:show=\"new\" xlink:title=\"psysml:117cd7b6-777c-4755-88f6-d7a432271d85\" xlink:type=\"simple\"><path d=\"M97.42,193.06 C89.86,210.7 83.23,235.34 81.29,252.98 \" fill=\"none\" id=\"E6-E8\" style=\"stroke: #383838; stroke-width: 3.0;\"/><text fill=\"#000000\" font-family=\"sans-serif\" font-size=\"13\" lengthAdjust=\"spacingAndGlyphs\" textLength=\"7\" x=\"80.9648\" y=\"241.8709\">*</text></a><!--MD5=[0a839d0f80c2d72d4b9b307f046d0de8]\n",
       "link E6 to E8--><a href=\"psysml:c7325d6a-fceb-4e80-be50-eff52df502df\" target=\"_top\" title=\"psysml:c7325d6a-fceb-4e80-be50-eff52df502df\" xlink:actuate=\"onRequest\" xlink:href=\"psysml:c7325d6a-fceb-4e80-be50-eff52df502df\" xlink:show=\"new\" xlink:title=\"psysml:c7325d6a-fceb-4e80-be50-eff52df502df\" xlink:type=\"simple\"><path d=\"M119.33,193.06 C117.55,210.7 110.92,235.34 103.2,252.98 \" fill=\"none\" id=\"E6-E8-1\" style=\"stroke: #383838; stroke-width: 3.0;\"/><text fill=\"#000000\" font-family=\"sans-serif\" font-size=\"13\" lengthAdjust=\"spacingAndGlyphs\" textLength=\"7\" x=\"99.8819\" y=\"241.8709\">*</text></a><!--MD5=[481cae2a614a464253ef07e44dd66295]\n",
       "@startuml\r\n",
       "top to bottom direction\r\n",
       "skinparam monochrome true\r\n",
       "skinparam classbackgroundcolor white\r\n",
       "skinparam shadowing false\r\n",
       "skinparam wrapWidth 300\r\n",
       "hide circle\r\n",
       "\r\n",
       "package \"AliasTest\" as E1  [[psysml:6242facc-ff06-44d1-b4f3-467b2ef71334 ]]  {\r\n",
       "comp usage \"b :> ISQSpaceTime::width\" as E2  <<(T,blue) attribute>> [[psysml:c7d5118b-0b42-4b21-9071-aba180ff097b ]] {\r\n",
       "}\r\n",
       "comp def \"P1\" as E3  <<(T,blue) part  def>> [[psysml:f3a385fe-c72f-4489-86aa-e832e0f5c54b ]] {\r\n",
       "}\r\n",
       "comp usage \"porig1 \" as E4  <<(T,blue) port>> [[psysml:12c3f617-858e-4877-bab3-72d077a58110 ]] {\r\n",
       "}\r\n",
       "comp usage \"p1: P1 \" as E5  <<(T,blue) part>> [[psysml:f19cd7cf-ead7-487d-acf0-998c02877f08 ]] {\r\n",
       "}\r\n",
       "comp usage \"po1 \" as E6  <<(T,blue) port>> [[psysml:7bd77f36-e1da-430e-90ed-8aecc87780c5 ]] {\r\n",
       "}\r\n",
       "comp usage \"p2: P1 \" as E7  <<(T,blue) part>> [[psysml:3758ddaf-2d7c-4372-b46d-cbe5af56d102 ]] {\r\n",
       "}\r\n",
       "comp usage \"pdest \" as E8  <<(T,blue) port>> [[psysml:009efb1a-81d8-4f5e-8e24-a878e8625106 ]] {\r\n",
       "}\r\n",
       "}\r\n",
       "E3 o- - \"1\"E4 [[psysml:97bd4c72-9c32-47a6-a147-0b42cd362230 ]] \r\n",
       "E3 +.. \"1\"E4 [[psysml:dd790abf-ac6c-4371-bdbb-56cf5ab0181d ]] \r\n",
       "E5 - -:|> E3 [[psysml:a968a559-ae75-4ff7-b264-66e5a143558d ]] \r\n",
       "E5 o- - \"1\"E6 [[psysml:167a231e-25d4-4100-8e0d-53e0a4e750c8 ]] \r\n",
       "E6 - -||> E4 [[psysml:57ff51c2-e85d-4f72-aa72-bbf7c251408b ]] \r\n",
       "E7 - -:|> E3 [[psysml:a1db7df5-c75d-4551-8d1a-744022949b4d ]] \r\n",
       "E7 o- - \"1\"E8 [[psysml:f57d57d9-12d9-410c-acd5-2b53e0560bbf ]] \r\n",
       "E7 +.. \"1\"E8 [[psysml:b8781950-4d8a-4fb9-9fe0-7c7847cd278f ]] \r\n",
       "E6 -[thickness=3]- \"*\"E8 [[psysml:117cd7b6-777c-4755-88f6-d7a432271d85 ]] \r\n",
       "E6 -[thickness=3]- \"*\"E8 [[psysml:c7325d6a-fceb-4e80-be50-eff52df502df ]] \r\n",
       "@enduml\r\n",
       "\n",
       "PlantUML version 1.2020.13(Sat Jun 13 12:26:38 UTC 2020)\n",
       "(EPL source distribution)\n",
       "Java Runtime: OpenJDK Runtime Environment\n",
       "JVM: OpenJDK 64-Bit Server VM\n",
       "Default Encoding: UTF-8\n",
       "Language: en\n",
       "Country: null\n",
       "--></g></svg>"
      ]
     },
     "execution_count": 45,
     "metadata": {},
     "output_type": "execute_result"
    }
   ],
   "source": [
    "%viz --style=\"TB\" --view=\"Tree\" \"AliasTest\""
   ]
  },
  {
   "cell_type": "code",
   "execution_count": 46,
   "id": "7a7abd0f",
   "metadata": {
    "execution": {
     "iopub.execute_input": "2022-03-21T07:52:18.585962Z",
     "iopub.status.busy": "2022-03-21T07:52:18.585556Z",
     "iopub.status.idle": "2022-03-21T07:52:18.590304Z",
     "shell.execute_reply": "2022-03-21T07:52:18.589974Z"
    }
   },
   "outputs": [
    {
     "data": {
      "image/svg+xml": [
       "<?xml version=\"1.0\" encoding=\"UTF-8\" standalone=\"no\"?><svg xmlns=\"http://www.w3.org/2000/svg\" xmlns:xlink=\"http://www.w3.org/1999/xlink\" contentScriptType=\"application/ecmascript\" contentStyleType=\"text/css\" height=\"12px\" preserveAspectRatio=\"none\" style=\"width:12px;height:12px;\" version=\"1.1\" viewBox=\"0 0 12 12\" width=\"12px\" zoomAndPan=\"magnify\"><defs/><g><!--MD5=[f4ee21bc66e489b5061b7c3e9601fdef]\n",
       "@startuml\r\n",
       "top to bottom direction\r\n",
       "skinparam monochrome true\r\n",
       "skinparam classbackgroundcolor white\r\n",
       "skinparam shadowing false\r\n",
       "skinparam wrapWidth 300\r\n",
       "hide circle\r\n",
       "\r\n",
       "@enduml\r\n",
       "\n",
       "PlantUML version 1.2020.13(Sat Jun 13 12:26:38 UTC 2020)\n",
       "(EPL source distribution)\n",
       "Java Runtime: OpenJDK Runtime Environment\n",
       "JVM: OpenJDK 64-Bit Server VM\n",
       "Default Encoding: UTF-8\n",
       "Language: en\n",
       "Country: null\n",
       "--></g></svg>"
      ]
     },
     "execution_count": 46,
     "metadata": {},
     "output_type": "execute_result"
    }
   ],
   "source": [
    "%viz --style=\"TB\" --view=\"State\" \"AliasTest\""
   ]
  },
  {
   "cell_type": "code",
   "execution_count": 47,
   "id": "bfdeeb96",
   "metadata": {
    "execution": {
     "iopub.execute_input": "2022-03-21T07:52:18.640213Z",
     "iopub.status.busy": "2022-03-21T07:52:18.639811Z",
     "iopub.status.idle": "2022-03-21T07:52:18.674274Z",
     "shell.execute_reply": "2022-03-21T07:52:18.673914Z"
    }
   },
   "outputs": [
    {
     "data": {
      "image/svg+xml": [
       "<?xml version=\"1.0\" encoding=\"UTF-8\" standalone=\"no\"?><svg xmlns=\"http://www.w3.org/2000/svg\" xmlns:xlink=\"http://www.w3.org/1999/xlink\" contentScriptType=\"application/ecmascript\" contentStyleType=\"text/css\" height=\"233px\" preserveAspectRatio=\"none\" style=\"width:572px;height:233px;\" version=\"1.1\" viewBox=\"0 0 572 233\" width=\"572px\" zoomAndPan=\"magnify\"><defs/><g><!--MD5=[fbc87193dbaf4d95561dea2c320d4a47]\n",
       "cluster E1--><a href=\"psysml:6242facc-ff06-44d1-b4f3-467b2ef71334\" target=\"_top\" title=\"psysml:6242facc-ff06-44d1-b4f3-467b2ef71334\" xlink:actuate=\"onRequest\" xlink:href=\"psysml:6242facc-ff06-44d1-b4f3-467b2ef71334\" xlink:show=\"new\" xlink:title=\"psysml:6242facc-ff06-44d1-b4f3-467b2ef71334\" xlink:type=\"simple\"><polygon fill=\"#FFFFFF\" points=\"16,6,84,6,91,28.2969,550,28.2969,550,221,16,221,16,6\" style=\"stroke: #000000; stroke-width: 1.5;\"/><line style=\"stroke: #000000; stroke-width: 1.5;\" x1=\"16\" x2=\"91\" y1=\"28.2969\" y2=\"28.2969\"/><text fill=\"#000000\" font-family=\"sans-serif\" font-size=\"14\" font-weight=\"bold\" lengthAdjust=\"spacingAndGlyphs\" textLength=\"62\" x=\"20\" y=\"20.9951\">AliasTest</text></a><!--MD5=[d5e69f78d87373223dbae638b30a9c99]\n",
       "cluster E3--><a href=\"psysml:f3a385fe-c72f-4489-86aa-e832e0f5c54b\" target=\"_top\" title=\"psysml:f3a385fe-c72f-4489-86aa-e832e0f5c54b\" xlink:actuate=\"onRequest\" xlink:href=\"psysml:f3a385fe-c72f-4489-86aa-e832e0f5c54b\" xlink:show=\"new\" xlink:title=\"psysml:f3a385fe-c72f-4489-86aa-e832e0f5c54b\" xlink:type=\"simple\"><rect fill=\"#FFFFFF\" height=\"90\" id=\"E3\" style=\"stroke: #383838; stroke-width: 1.5;\" width=\"85\" x=\"407\" y=\"64\"/><rect fill=\"#F8F8F8\" height=\"37.9375\" style=\"stroke: #383838; stroke-width: 1.5;\" width=\"85\" x=\"407\" y=\"64\"/><text fill=\"#000000\" font-family=\"sans-serif\" font-size=\"12\" font-style=\"italic\" lengthAdjust=\"spacingAndGlyphs\" textLength=\"68\" x=\"415.5\" y=\"80.1387\">«part  def»</text><text fill=\"#000000\" font-family=\"sans-serif\" font-size=\"12\" lengthAdjust=\"spacingAndGlyphs\" textLength=\"16\" x=\"441.5\" y=\"94.1074\">P1</text></a><!--MD5=[14e3b0961a2654348d326746436168a1]\n",
       "cluster E6--><a href=\"psysml:f19cd7cf-ead7-487d-acf0-998c02877f08\" target=\"_top\" title=\"psysml:f19cd7cf-ead7-487d-acf0-998c02877f08\" xlink:actuate=\"onRequest\" xlink:href=\"psysml:f19cd7cf-ead7-487d-acf0-998c02877f08\" xlink:show=\"new\" xlink:title=\"psysml:f19cd7cf-ead7-487d-acf0-998c02877f08\" xlink:type=\"simple\"><rect fill=\"#FFFFFF\" height=\"82\" id=\"E6\" rx=\"10\" ry=\"10\" style=\"stroke: #383838; stroke-width: 1.5;\" width=\"98\" x=\"206\" y=\"64\"/><rect fill=\"#F8F8F8\" height=\"23.9688\" rx=\"10\" ry=\"10\" style=\"stroke: #F8F8F8; stroke-width: 1.5;\" width=\"98\" x=\"206\" y=\"64\"/><rect fill=\"#F8F8F8\" height=\"10\" style=\"stroke: #F8F8F8; stroke-width: 1.5;\" width=\"98\" x=\"206\" y=\"77.9688\"/><rect fill=\"none\" height=\"82\" id=\"E6\" rx=\"10\" ry=\"10\" style=\"stroke: #383838; stroke-width: 1.5;\" width=\"98\" x=\"206\" y=\"64\"/><text fill=\"#000000\" font-family=\"sans-serif\" font-size=\"12\" lengthAdjust=\"spacingAndGlyphs\" textLength=\"40\" x=\"235\" y=\"80.1387\">p1: P1</text><line style=\"stroke: #383838; stroke-width: 1.0;\" x1=\"206\" x2=\"304\" y1=\"87.9688\" y2=\"87.9688\"/></a><!--MD5=[55dfccfc6c49c2d10cd1bd2211a6c90c]\n",
       "cluster E8--><a href=\"psysml:3758ddaf-2d7c-4372-b46d-cbe5af56d102\" target=\"_top\" title=\"psysml:3758ddaf-2d7c-4372-b46d-cbe5af56d102\" xlink:actuate=\"onRequest\" xlink:href=\"psysml:3758ddaf-2d7c-4372-b46d-cbe5af56d102\" xlink:show=\"new\" xlink:title=\"psysml:3758ddaf-2d7c-4372-b46d-cbe5af56d102\" xlink:type=\"simple\"><rect fill=\"#FFFFFF\" height=\"84.5\" id=\"E8\" rx=\"10\" ry=\"10\" style=\"stroke: #383838; stroke-width: 1.5;\" width=\"83\" x=\"307\" y=\"120.5\"/><rect fill=\"#F8F8F8\" height=\"23.9688\" rx=\"10\" ry=\"10\" style=\"stroke: #F8F8F8; stroke-width: 1.5;\" width=\"83\" x=\"307\" y=\"120.5\"/><rect fill=\"#F8F8F8\" height=\"10\" style=\"stroke: #F8F8F8; stroke-width: 1.5;\" width=\"83\" x=\"307\" y=\"134.4688\"/><rect fill=\"none\" height=\"84.5\" id=\"E8\" rx=\"10\" ry=\"10\" style=\"stroke: #383838; stroke-width: 1.5;\" width=\"83\" x=\"307\" y=\"120.5\"/><text fill=\"#000000\" font-family=\"sans-serif\" font-size=\"12\" lengthAdjust=\"spacingAndGlyphs\" textLength=\"40\" x=\"328.5\" y=\"136.6387\">p2: P1</text><line style=\"stroke: #383838; stroke-width: 1.0;\" x1=\"307\" x2=\"390\" y1=\"144.4688\" y2=\"144.4688\"/></a><!--MD5=[b4997ac47864f28c2f74865a473b2911]\n",
       "class E2--><a href=\"psysml:c7d5118b-0b42-4b21-9071-aba180ff097b\" target=\"_top\" title=\"psysml:c7d5118b-0b42-4b21-9071-aba180ff097b\" xlink:actuate=\"onRequest\" xlink:href=\"psysml:c7d5118b-0b42-4b21-9071-aba180ff097b\" xlink:show=\"new\" xlink:title=\"psysml:c7d5118b-0b42-4b21-9071-aba180ff097b\" xlink:type=\"simple\"><rect fill=\"#FFFFFF\" height=\"45.9375\" id=\"E2\" rx=\"10\" ry=\"10\" style=\"stroke: #383838; stroke-width: 1.5;\" width=\"165\" x=\"32.5\" y=\"41\"/><text fill=\"#000000\" font-family=\"sans-serif\" font-size=\"12\" font-style=\"italic\" lengthAdjust=\"spacingAndGlyphs\" textLength=\"69\" x=\"80.5\" y=\"57.1387\">«attribute»</text><text fill=\"#000000\" font-family=\"sans-serif\" font-size=\"12\" lengthAdjust=\"spacingAndGlyphs\" textLength=\"159\" x=\"35.5\" y=\"71.1074\">b :&gt; ISQSpaceTime::width</text><line style=\"stroke: #383838; stroke-width: 1.5;\" x1=\"33.5\" x2=\"196.5\" y1=\"78.9375\" y2=\"78.9375\"/></a><text fill=\"#000000\" font-family=\"sans-serif\" font-size=\"14\" lengthAdjust=\"spacingAndGlyphs\" textLength=\"44\" x=\"401\" y=\"42.6982\">porig1</text><rect fill=\"#383838\" height=\"12\" style=\"stroke: #F8F8F8; stroke-width: 1.5;\" width=\"12\" x=\"419\" y=\"58\"/><text fill=\"#000000\" font-family=\"sans-serif\" font-size=\"14\" lengthAdjust=\"spacingAndGlyphs\" textLength=\"44\" x=\"448\" y=\"42.6982\">porig1</text><rect fill=\"#383838\" height=\"12\" style=\"stroke: #F8F8F8; stroke-width: 1.5;\" width=\"12\" x=\"466\" y=\"58\"/><text fill=\"#000000\" font-family=\"sans-serif\" font-size=\"14\" lengthAdjust=\"spacingAndGlyphs\" textLength=\"27\" x=\"270.5\" y=\"42.6982\">po1</text><rect fill=\"#383838\" height=\"12\" style=\"stroke: #F8F8F8; stroke-width: 1.5;\" width=\"12\" x=\"280\" y=\"58\"/><text fill=\"#000000\" font-family=\"sans-serif\" font-size=\"14\" lengthAdjust=\"spacingAndGlyphs\" textLength=\"40\" x=\"303\" y=\"99.1982\">pdest</text><rect fill=\"#383838\" height=\"12\" style=\"stroke: #F8F8F8; stroke-width: 1.5;\" width=\"12\" x=\"319\" y=\"114.5\"/><text fill=\"#000000\" font-family=\"sans-serif\" font-size=\"14\" lengthAdjust=\"spacingAndGlyphs\" textLength=\"40\" x=\"350\" y=\"99.1982\">pdest</text><rect fill=\"#383838\" height=\"12\" style=\"stroke: #F8F8F8; stroke-width: 1.5;\" width=\"12\" x=\"366\" y=\"114.5\"/><!--MD5=[1c0b9414cc86e0744215edee6abd8926]\n",
       "link E7 to E9--><a href=\"psysml:117cd7b6-777c-4755-88f6-d7a432271d85\" target=\"_top\" title=\"psysml:117cd7b6-777c-4755-88f6-d7a432271d85\" xlink:actuate=\"onRequest\" xlink:href=\"psysml:117cd7b6-777c-4755-88f6-d7a432271d85\" xlink:show=\"new\" xlink:title=\"psysml:117cd7b6-777c-4755-88f6-d7a432271d85\" xlink:type=\"simple\"><path d=\"M281.83,70.03 C282.72,81.73 304.14,110.34 318.83,117.73 \" fill=\"none\" id=\"E7-E9\" style=\"stroke: #383838; stroke-width: 3.0;\"/><text fill=\"#000000\" font-family=\"sans-serif\" font-size=\"13\" lengthAdjust=\"spacingAndGlyphs\" textLength=\"7\" x=\"303.8522\" y=\"106.3789\">*</text></a><!--MD5=[1c0b9414cc86e0744215edee6abd8926]\n",
       "link E7 to E9--><a href=\"psysml:c7325d6a-fceb-4e80-be50-eff52df502df\" target=\"_top\" title=\"psysml:c7325d6a-fceb-4e80-be50-eff52df502df\" xlink:actuate=\"onRequest\" xlink:href=\"psysml:c7325d6a-fceb-4e80-be50-eff52df502df\" xlink:show=\"new\" xlink:title=\"psysml:c7325d6a-fceb-4e80-be50-eff52df502df\" xlink:type=\"simple\"><path d=\"M292.05,66.57 C307.27,73.62 329.05,102.5 329.62,114.37 \" fill=\"none\" id=\"E7-E9-1\" style=\"stroke: #383838; stroke-width: 3.0;\"/><text fill=\"#000000\" font-family=\"sans-serif\" font-size=\"13\" lengthAdjust=\"spacingAndGlyphs\" textLength=\"7\" x=\"323.278\" y=\"103.4683\">*</text></a><!--MD5=[274f63927d606d49c4ce4ed721ab26de]\n",
       "@startuml\r\n",
       "skinparam ranksep 10\r\n",
       "skinparam rectangle {\r\n",
       " backgroundColor<<block>> LightGreen\r\n",
       "}\r\n",
       "top to bottom direction\r\n",
       "skinparam monochrome true\r\n",
       "skinparam classbackgroundcolor white\r\n",
       "skinparam shadowing false\r\n",
       "skinparam wrapWidth 300\r\n",
       "hide circle\r\n",
       "\r\n",
       "package \"AliasTest\" as E1  [[psysml:6242facc-ff06-44d1-b4f3-467b2ef71334 ]]  {\r\n",
       "comp usage \"b :> ISQSpaceTime::width\" as E2  <<(T,blue) attribute>> [[psysml:c7d5118b-0b42-4b21-9071-aba180ff097b ]] {\r\n",
       "}\r\n",
       "rec def \"P1\" as E3  <<(T,blue) part  def>> [[psysml:f3a385fe-c72f-4489-86aa-e832e0f5c54b ]] {\r\n",
       "portin \"porig1 \" as E4  <<(T,blue) port>> [[psysml:12c3f617-858e-4877-bab3-72d077a58110 ]] \r\n",
       "portin \"porig1 \" as E5  <<(T,blue) port>> [[psysml:12c3f617-858e-4877-bab3-72d077a58110 ]] \r\n",
       "}\r\n",
       "rec usage \"p1: P1\" as E6  [[psysml:f19cd7cf-ead7-487d-acf0-998c02877f08 ]] {\r\n",
       "portin \"po1 \" as E7  <<(T,blue) port>> [[psysml:7bd77f36-e1da-430e-90ed-8aecc87780c5 ]] \r\n",
       "}\r\n",
       "rec usage \"p2: P1\" as E8  [[psysml:3758ddaf-2d7c-4372-b46d-cbe5af56d102 ]] {\r\n",
       "portin \"pdest \" as E9  <<(T,blue) port>> [[psysml:009efb1a-81d8-4f5e-8e24-a878e8625106 ]] \r\n",
       "portin \"pdest \" as E10  <<(T,blue) port>> [[psysml:009efb1a-81d8-4f5e-8e24-a878e8625106 ]] \r\n",
       "}\r\n",
       "}\r\n",
       "E7 -[thickness=3]- \"*\"E9 [[psysml:117cd7b6-777c-4755-88f6-d7a432271d85 ]] \r\n",
       "E7 -[thickness=3]- \"*\"E9 [[psysml:c7325d6a-fceb-4e80-be50-eff52df502df ]] \r\n",
       "@enduml\r\n",
       "\n",
       "PlantUML version 1.2020.13(Sat Jun 13 12:26:38 UTC 2020)\n",
       "(EPL source distribution)\n",
       "Java Runtime: OpenJDK Runtime Environment\n",
       "JVM: OpenJDK 64-Bit Server VM\n",
       "Default Encoding: UTF-8\n",
       "Language: en\n",
       "Country: null\n",
       "--></g></svg>"
      ]
     },
     "execution_count": 47,
     "metadata": {},
     "output_type": "execute_result"
    }
   ],
   "source": [
    "%viz --style=\"TB\" --view=\"Interconnection\" \"AliasTest\""
   ]
  },
  {
   "cell_type": "code",
   "execution_count": 48,
   "id": "f3c41164",
   "metadata": {
    "execution": {
     "iopub.execute_input": "2022-03-21T07:52:18.724182Z",
     "iopub.status.busy": "2022-03-21T07:52:18.723781Z",
     "iopub.status.idle": "2022-03-21T07:52:18.729620Z",
     "shell.execute_reply": "2022-03-21T07:52:18.729271Z"
    }
   },
   "outputs": [
    {
     "data": {
      "image/svg+xml": [
       "<?xml version=\"1.0\" encoding=\"UTF-8\" standalone=\"no\"?><svg xmlns=\"http://www.w3.org/2000/svg\" xmlns:xlink=\"http://www.w3.org/1999/xlink\" contentScriptType=\"application/ecmascript\" contentStyleType=\"text/css\" height=\"12px\" preserveAspectRatio=\"none\" style=\"width:12px;height:12px;\" version=\"1.1\" viewBox=\"0 0 12 12\" width=\"12px\" zoomAndPan=\"magnify\"><defs/><g><!--MD5=[06afc254b03ac5e9d9fb7773b07d0800]\n",
       "@startuml\r\n",
       "skinparam ranksep 8\r\n",
       "top to bottom direction\r\n",
       "skinparam monochrome true\r\n",
       "skinparam classbackgroundcolor white\r\n",
       "skinparam shadowing false\r\n",
       "skinparam wrapWidth 300\r\n",
       "hide circle\r\n",
       "\r\n",
       "@enduml\r\n",
       "\n",
       "PlantUML version 1.2020.13(Sat Jun 13 12:26:38 UTC 2020)\n",
       "(EPL source distribution)\n",
       "Java Runtime: OpenJDK Runtime Environment\n",
       "JVM: OpenJDK 64-Bit Server VM\n",
       "Default Encoding: UTF-8\n",
       "Language: en\n",
       "Country: null\n",
       "--></g></svg>"
      ]
     },
     "execution_count": 48,
     "metadata": {},
     "output_type": "execute_result"
    }
   ],
   "source": [
    "%viz --style=\"TB\" --view=\"Action\" \"AliasTest\""
   ]
  },
  {
   "cell_type": "code",
   "execution_count": 49,
   "id": "5e005792",
   "metadata": {
    "execution": {
     "iopub.execute_input": "2022-03-21T07:52:18.780245Z",
     "iopub.status.busy": "2022-03-21T07:52:18.779819Z",
     "iopub.status.idle": "2022-03-21T07:52:18.785529Z",
     "shell.execute_reply": "2022-03-21T07:52:18.785851Z"
    }
   },
   "outputs": [
    {
     "data": {
      "image/svg+xml": [
       "<?xml version=\"1.0\" encoding=\"UTF-8\" standalone=\"no\"?><svg xmlns=\"http://www.w3.org/2000/svg\" xmlns:xlink=\"http://www.w3.org/1999/xlink\" contentScriptType=\"application/ecmascript\" contentStyleType=\"text/css\" height=\"12px\" preserveAspectRatio=\"none\" style=\"width:12px;height:12px;\" version=\"1.1\" viewBox=\"0 0 12 12\" width=\"12px\" zoomAndPan=\"magnify\"><defs/><g><!--MD5=[e1ab0c84c44d2fef8bf5f140f2689906]\n",
       "@startuml\r\n",
       "skinparam roundcorner 20\r\n",
       "skinparam BoxPadding 20\r\n",
       "skinparam SequenceBoxBackgroundColor #white\r\n",
       "skinparam style strictuml\r\n",
       "skinparam maxMessageSize 100\r\n",
       "top to bottom direction\r\n",
       "skinparam monochrome true\r\n",
       "skinparam classbackgroundcolor white\r\n",
       "skinparam shadowing false\r\n",
       "skinparam wrapWidth 300\r\n",
       "hide circle\r\n",
       "\r\n",
       "@enduml\r\n",
       "\n",
       "PlantUML version 1.2020.13(Sat Jun 13 12:26:38 UTC 2020)\n",
       "(EPL source distribution)\n",
       "Java Runtime: OpenJDK Runtime Environment\n",
       "JVM: OpenJDK 64-Bit Server VM\n",
       "Default Encoding: UTF-8\n",
       "Language: en\n",
       "Country: null\n",
       "--></g></svg>"
      ]
     },
     "execution_count": 49,
     "metadata": {},
     "output_type": "execute_result"
    }
   ],
   "source": [
    "%viz --style=\"TB\" --view=\"Sequence\" \"AliasTest\""
   ]
  },
  {
   "cell_type": "code",
   "execution_count": 50,
   "id": "3ada2236",
   "metadata": {
    "execution": {
     "iopub.execute_input": "2022-03-21T07:52:18.836460Z",
     "iopub.status.busy": "2022-03-21T07:52:18.836033Z",
     "iopub.status.idle": "2022-03-21T07:52:18.870780Z",
     "shell.execute_reply": "2022-03-21T07:52:18.870418Z"
    }
   },
   "outputs": [
    {
     "data": {
      "image/svg+xml": [
       "<?xml version=\"1.0\" encoding=\"UTF-8\" standalone=\"no\"?><svg xmlns=\"http://www.w3.org/2000/svg\" xmlns:xlink=\"http://www.w3.org/1999/xlink\" contentScriptType=\"application/ecmascript\" contentStyleType=\"text/css\" height=\"327px\" preserveAspectRatio=\"none\" style=\"width:406px;height:327px;\" version=\"1.1\" viewBox=\"0 0 406 327\" width=\"406px\" zoomAndPan=\"magnify\"><defs/><g><!--MD5=[fbc87193dbaf4d95561dea2c320d4a47]\n",
       "cluster E1--><a href=\"psysml:6242facc-ff06-44d1-b4f3-467b2ef71334\" target=\"_top\" title=\"psysml:6242facc-ff06-44d1-b4f3-467b2ef71334\" xlink:actuate=\"onRequest\" xlink:href=\"psysml:6242facc-ff06-44d1-b4f3-467b2ef71334\" xlink:show=\"new\" xlink:title=\"psysml:6242facc-ff06-44d1-b4f3-467b2ef71334\" xlink:type=\"simple\"><polygon fill=\"#FFFFFF\" points=\"16,6,84,6,91,28.2969,384,28.2969,384,315,16,315,16,6\" style=\"stroke: #000000; stroke-width: 1.5;\"/><line style=\"stroke: #000000; stroke-width: 1.5;\" x1=\"16\" x2=\"91\" y1=\"28.2969\" y2=\"28.2969\"/><text fill=\"#000000\" font-family=\"sans-serif\" font-size=\"14\" font-weight=\"bold\" lengthAdjust=\"spacingAndGlyphs\" textLength=\"62\" x=\"20\" y=\"20.9951\">AliasTest</text></a><!--MD5=[b4997ac47864f28c2f74865a473b2911]\n",
       "class E2--><a href=\"psysml:c7d5118b-0b42-4b21-9071-aba180ff097b\" target=\"_top\" title=\"psysml:c7d5118b-0b42-4b21-9071-aba180ff097b\" xlink:actuate=\"onRequest\" xlink:href=\"psysml:c7d5118b-0b42-4b21-9071-aba180ff097b\" xlink:show=\"new\" xlink:title=\"psysml:c7d5118b-0b42-4b21-9071-aba180ff097b\" xlink:type=\"simple\"><rect fill=\"#FFFFFF\" height=\"45.9375\" id=\"E2\" rx=\"10\" ry=\"10\" style=\"stroke: #383838; stroke-width: 1.5;\" width=\"165\" x=\"202.5\" y=\"41\"/><text fill=\"#000000\" font-family=\"sans-serif\" font-size=\"12\" font-style=\"italic\" lengthAdjust=\"spacingAndGlyphs\" textLength=\"69\" x=\"250.5\" y=\"57.1387\">«attribute»</text><text fill=\"#000000\" font-family=\"sans-serif\" font-size=\"12\" lengthAdjust=\"spacingAndGlyphs\" textLength=\"159\" x=\"205.5\" y=\"71.1074\">b :&gt; ISQSpaceTime::width</text><line style=\"stroke: #383838; stroke-width: 1.5;\" x1=\"203.5\" x2=\"366.5\" y1=\"78.9375\" y2=\"78.9375\"/></a><!--MD5=[09b614a08d8cba4a07c9adeb5e0fee81]\n",
       "class E3--><a href=\"psysml:f3a385fe-c72f-4489-86aa-e832e0f5c54b\" target=\"_top\" title=\"psysml:f3a385fe-c72f-4489-86aa-e832e0f5c54b\" xlink:actuate=\"onRequest\" xlink:href=\"psysml:f3a385fe-c72f-4489-86aa-e832e0f5c54b\" xlink:show=\"new\" xlink:title=\"psysml:f3a385fe-c72f-4489-86aa-e832e0f5c54b\" xlink:type=\"simple\"><rect fill=\"#FFFFFF\" height=\"45.9375\" id=\"E3\" style=\"stroke: #383838; stroke-width: 1.5;\" width=\"70\" x=\"170\" y=\"147\"/><text fill=\"#000000\" font-family=\"sans-serif\" font-size=\"12\" font-style=\"italic\" lengthAdjust=\"spacingAndGlyphs\" textLength=\"68\" x=\"171\" y=\"163.1387\">«part  def»</text><text fill=\"#000000\" font-family=\"sans-serif\" font-size=\"12\" lengthAdjust=\"spacingAndGlyphs\" textLength=\"16\" x=\"197\" y=\"177.1074\">P1</text><line style=\"stroke: #383838; stroke-width: 1.5;\" x1=\"171\" x2=\"239\" y1=\"184.9375\" y2=\"184.9375\"/></a><!--MD5=[ebbe1d658d1005bcc118a6aa81145e00]\n",
       "class E4--><a href=\"psysml:12c3f617-858e-4877-bab3-72d077a58110\" target=\"_top\" title=\"psysml:12c3f617-858e-4877-bab3-72d077a58110\" xlink:actuate=\"onRequest\" xlink:href=\"psysml:12c3f617-858e-4877-bab3-72d077a58110\" xlink:show=\"new\" xlink:title=\"psysml:12c3f617-858e-4877-bab3-72d077a58110\" xlink:type=\"simple\"><rect fill=\"#FFFFFF\" height=\"45.9375\" id=\"E4\" rx=\"10\" ry=\"10\" style=\"stroke: #383838; stroke-width: 1.5;\" width=\"50\" x=\"180\" y=\"253\"/><text fill=\"#000000\" font-family=\"sans-serif\" font-size=\"12\" font-style=\"italic\" lengthAdjust=\"spacingAndGlyphs\" textLength=\"40\" x=\"185\" y=\"269.1387\">«port»</text><text fill=\"#000000\" font-family=\"sans-serif\" font-size=\"12\" lengthAdjust=\"spacingAndGlyphs\" textLength=\"40\" x=\"183\" y=\"283.1074\">porig1</text><line style=\"stroke: #383838; stroke-width: 1.5;\" x1=\"181\" x2=\"229\" y1=\"290.9375\" y2=\"290.9375\"/></a><!--MD5=[270fce915f116d4de14055a7c1d9a0f3]\n",
       "class E5--><a href=\"psysml:f19cd7cf-ead7-487d-acf0-998c02877f08\" target=\"_top\" title=\"psysml:f19cd7cf-ead7-487d-acf0-998c02877f08\" xlink:actuate=\"onRequest\" xlink:href=\"psysml:f19cd7cf-ead7-487d-acf0-998c02877f08\" xlink:show=\"new\" xlink:title=\"psysml:f19cd7cf-ead7-487d-acf0-998c02877f08\" xlink:type=\"simple\"><rect fill=\"#FFFFFF\" height=\"45.9375\" id=\"E5\" rx=\"10\" ry=\"10\" style=\"stroke: #383838; stroke-width: 1.5;\" width=\"50\" x=\"117\" y=\"41\"/><text fill=\"#000000\" font-family=\"sans-serif\" font-size=\"12\" font-style=\"italic\" lengthAdjust=\"spacingAndGlyphs\" textLength=\"40\" x=\"122\" y=\"57.1387\">«part»</text><text fill=\"#000000\" font-family=\"sans-serif\" font-size=\"12\" lengthAdjust=\"spacingAndGlyphs\" textLength=\"40\" x=\"120\" y=\"71.1074\">p1: P1</text><line style=\"stroke: #383838; stroke-width: 1.5;\" x1=\"118\" x2=\"166\" y1=\"78.9375\" y2=\"78.9375\"/></a><!--MD5=[60a26617385b1d2d0262a64233df1f8d]\n",
       "class E6--><a href=\"psysml:7bd77f36-e1da-430e-90ed-8aecc87780c5\" target=\"_top\" title=\"psysml:7bd77f36-e1da-430e-90ed-8aecc87780c5\" xlink:actuate=\"onRequest\" xlink:href=\"psysml:7bd77f36-e1da-430e-90ed-8aecc87780c5\" xlink:show=\"new\" xlink:title=\"psysml:7bd77f36-e1da-430e-90ed-8aecc87780c5\" xlink:type=\"simple\"><rect fill=\"#FFFFFF\" height=\"45.9375\" id=\"E6\" rx=\"10\" ry=\"10\" style=\"stroke: #383838; stroke-width: 1.5;\" width=\"42\" x=\"93\" y=\"147\"/><text fill=\"#000000\" font-family=\"sans-serif\" font-size=\"12\" font-style=\"italic\" lengthAdjust=\"spacingAndGlyphs\" textLength=\"40\" x=\"94\" y=\"163.1387\">«port»</text><text fill=\"#000000\" font-family=\"sans-serif\" font-size=\"12\" lengthAdjust=\"spacingAndGlyphs\" textLength=\"24\" x=\"100\" y=\"177.1074\">po1</text><line style=\"stroke: #383838; stroke-width: 1.5;\" x1=\"94\" x2=\"134\" y1=\"184.9375\" y2=\"184.9375\"/></a><!--MD5=[2156ba9850f5573cc1fc38a6a4b2f02b]\n",
       "class E7--><a href=\"psysml:3758ddaf-2d7c-4372-b46d-cbe5af56d102\" target=\"_top\" title=\"psysml:3758ddaf-2d7c-4372-b46d-cbe5af56d102\" xlink:actuate=\"onRequest\" xlink:href=\"psysml:3758ddaf-2d7c-4372-b46d-cbe5af56d102\" xlink:show=\"new\" xlink:title=\"psysml:3758ddaf-2d7c-4372-b46d-cbe5af56d102\" xlink:type=\"simple\"><rect fill=\"#FFFFFF\" height=\"45.9375\" id=\"E7\" rx=\"10\" ry=\"10\" style=\"stroke: #383838; stroke-width: 1.5;\" width=\"50\" x=\"32\" y=\"41\"/><text fill=\"#000000\" font-family=\"sans-serif\" font-size=\"12\" font-style=\"italic\" lengthAdjust=\"spacingAndGlyphs\" textLength=\"40\" x=\"37\" y=\"57.1387\">«part»</text><text fill=\"#000000\" font-family=\"sans-serif\" font-size=\"12\" lengthAdjust=\"spacingAndGlyphs\" textLength=\"40\" x=\"35\" y=\"71.1074\">p2: P1</text><line style=\"stroke: #383838; stroke-width: 1.5;\" x1=\"33\" x2=\"81\" y1=\"78.9375\" y2=\"78.9375\"/></a><!--MD5=[b9389687b975829384b498ac4b7476b2]\n",
       "class E8--><a href=\"psysml:009efb1a-81d8-4f5e-8e24-a878e8625106\" target=\"_top\" title=\"psysml:009efb1a-81d8-4f5e-8e24-a878e8625106\" xlink:actuate=\"onRequest\" xlink:href=\"psysml:009efb1a-81d8-4f5e-8e24-a878e8625106\" xlink:show=\"new\" xlink:title=\"psysml:009efb1a-81d8-4f5e-8e24-a878e8625106\" xlink:type=\"simple\"><rect fill=\"#FFFFFF\" height=\"45.9375\" id=\"E8\" rx=\"10\" ry=\"10\" style=\"stroke: #383838; stroke-width: 1.5;\" width=\"46\" x=\"63\" y=\"253\"/><text fill=\"#000000\" font-family=\"sans-serif\" font-size=\"12\" font-style=\"italic\" lengthAdjust=\"spacingAndGlyphs\" textLength=\"40\" x=\"66\" y=\"269.1387\">«port»</text><text fill=\"#000000\" font-family=\"sans-serif\" font-size=\"12\" lengthAdjust=\"spacingAndGlyphs\" textLength=\"36\" x=\"66\" y=\"283.1074\">pdest</text><line style=\"stroke: #383838; stroke-width: 1.5;\" x1=\"64\" x2=\"108\" y1=\"290.9375\" y2=\"290.9375\"/></a><!--MD5=[4672eba38e49728da53d11aeb285b987]\n",
       "reverse link E3 to E4--><a href=\"psysml:97bd4c72-9c32-47a6-a147-0b42cd362230\" target=\"_top\" title=\"psysml:97bd4c72-9c32-47a6-a147-0b42cd362230\" xlink:actuate=\"onRequest\" xlink:href=\"psysml:97bd4c72-9c32-47a6-a147-0b42cd362230\" xlink:show=\"new\" xlink:title=\"psysml:97bd4c72-9c32-47a6-a147-0b42cd362230\" xlink:type=\"simple\"><path d=\"M192.84,206.44 C191.7,221.87 192.21,239.47 194.36,252.98 \" fill=\"none\" id=\"E3&lt;-E4\" style=\"stroke: #383838; stroke-width: 1.0;\"/><polygon fill=\"#FFFFFF\" points=\"194.35,193.06,189.7032,198.5743,193.006,204.9845,197.6528,199.4702,194.35,193.06\" style=\"stroke: #383838; stroke-width: 1.0;\"/><text fill=\"#000000\" font-family=\"sans-serif\" font-size=\"13\" lengthAdjust=\"spacingAndGlyphs\" textLength=\"8\" x=\"182.4255\" y=\"241.8709\">1</text></a><!--MD5=[4672eba38e49728da53d11aeb285b987]\n",
       "reverse link E3 to E4--><a href=\"psysml:dd790abf-ac6c-4371-bdbb-56cf5ab0181d\" target=\"_top\" title=\"psysml:dd790abf-ac6c-4371-bdbb-56cf5ab0181d\" xlink:actuate=\"onRequest\" xlink:href=\"psysml:dd790abf-ac6c-4371-bdbb-56cf5ab0181d\" xlink:show=\"new\" xlink:title=\"psysml:dd790abf-ac6c-4371-bdbb-56cf5ab0181d\" xlink:type=\"simple\"><path d=\"M218.01,208.34 C219.03,223.3 218.45,240.02 216.27,252.98 \" fill=\"none\" id=\"E3&lt;-E4-1\" style=\"stroke: #383838; stroke-width: 1.0; stroke-dasharray: 7.0,7.0;\"/><ellipse cx=\"217.1693\" cy=\"201.0093\" fill=\"#FFFFFF\" rx=\"8\" ry=\"8\" style=\"stroke: #383838; stroke-width: 1.0;\"/><line style=\"stroke: #383838; stroke-width: 1.0;\" x1=\"218.0687\" x2=\"216.27\" y1=\"208.9586\" y2=\"193.06\"/><line style=\"stroke: #383838; stroke-width: 1.0;\" x1=\"209.2201\" x2=\"225.1186\" y1=\"201.9086\" y2=\"200.1099\"/><text fill=\"#000000\" font-family=\"sans-serif\" font-size=\"13\" lengthAdjust=\"spacingAndGlyphs\" textLength=\"8\" x=\"210.2238\" y=\"241.8709\">1</text></a><!--MD5=[e9be52314489bd878ff4c7144b63c9e1]\n",
       "link E5 to E3--><a href=\"psysml:a968a559-ae75-4ff7-b264-66e5a143558d\" target=\"_top\" title=\"psysml:a968a559-ae75-4ff7-b264-66e5a143558d\" xlink:actuate=\"onRequest\" xlink:href=\"psysml:a968a559-ae75-4ff7-b264-66e5a143558d\" xlink:show=\"new\" xlink:title=\"psysml:a968a559-ae75-4ff7-b264-66e5a143558d\" xlink:type=\"simple\"><path d=\"M155.36,87.06 C162.88,99.47 172.49,115.33 181.24,129.78 \" fill=\"none\" id=\"E5-&gt;E3\" style=\"stroke: #383838; stroke-width: 1.0;\"/><polygon fill=\"#FFFFFF\" points=\"191.66,146.98,175.8217,134.3646,187.792,127.1044,191.66,146.98\" style=\"stroke: #383838; stroke-width: 1.0;\"/><ellipse cx=\"174.5758\" cy=\"128.4538\" fill=\"#383838\" rx=\"2\" ry=\"2\" style=\"stroke: #383838; stroke-width: 1.0;\"/><ellipse cx=\"183.126\" cy=\"123.2679\" fill=\"#383838\" rx=\"2\" ry=\"2\" style=\"stroke: #383838; stroke-width: 1.0;\"/></a><!--MD5=[85d356282659285ab4b2cfe2f634dd2b]\n",
       "reverse link E5 to E6--><a href=\"psysml:167a231e-25d4-4100-8e0d-53e0a4e750c8\" target=\"_top\" title=\"psysml:167a231e-25d4-4100-8e0d-53e0a4e750c8\" xlink:actuate=\"onRequest\" xlink:href=\"psysml:167a231e-25d4-4100-8e0d-53e0a4e750c8\" xlink:show=\"new\" xlink:title=\"psysml:167a231e-25d4-4100-8e0d-53e0a4e750c8\" xlink:type=\"simple\"><path d=\"M132.59,99.96 C128.4,115.51 123.6,133.33 119.93,146.98 \" fill=\"none\" id=\"E5&lt;-E6\" style=\"stroke: #383838; stroke-width: 1.0;\"/><polygon fill=\"#FFFFFF\" points=\"136.06,87.06,130.641,91.8176,132.9484,98.6496,138.3674,93.892,136.06,87.06\" style=\"stroke: #383838; stroke-width: 1.0;\"/><text fill=\"#000000\" font-family=\"sans-serif\" font-size=\"13\" lengthAdjust=\"spacingAndGlyphs\" textLength=\"8\" x=\"112.4487\" y=\"135.8709\">1</text></a><!--MD5=[f667431f98296947986a1a7595a31603]\n",
       "link E6 to E4--><a href=\"psysml:57ff51c2-e85d-4f72-aa72-bbf7c251408b\" target=\"_top\" title=\"psysml:57ff51c2-e85d-4f72-aa72-bbf7c251408b\" xlink:actuate=\"onRequest\" xlink:href=\"psysml:57ff51c2-e85d-4f72-aa72-bbf7c251408b\" xlink:show=\"new\" xlink:title=\"psysml:57ff51c2-e85d-4f72-aa72-bbf7c251408b\" xlink:type=\"simple\"><path d=\"M133.3,193.06 C144.64,206.02 159.28,222.74 172.36,237.7 \" fill=\"none\" id=\"E6-&gt;E4\" style=\"stroke: #383838; stroke-width: 1.0;\"/><polygon fill=\"#FFFFFF\" points=\"185.73,252.98,167.9517,243.2882,178.489,234.0705,185.73,252.98\" style=\"stroke: #383838; stroke-width: 1.0;\"/><line style=\"stroke: #383838; stroke-width: 2.0;\" x1=\"165.4497\" x2=\"175.9871\" y1=\"240.4281\" y2=\"231.2104\"/></a><!--MD5=[14ccda38c055a5c0da953d572bc50960]\n",
       "link E7 to E3--><a href=\"psysml:a1db7df5-c75d-4551-8d1a-744022949b4d\" target=\"_top\" title=\"psysml:a1db7df5-c75d-4551-8d1a-744022949b4d\" xlink:actuate=\"onRequest\" xlink:href=\"psysml:a1db7df5-c75d-4551-8d1a-744022949b4d\" xlink:show=\"new\" xlink:title=\"psysml:a1db7df5-c75d-4551-8d1a-744022949b4d\" xlink:type=\"simple\"><path d=\"M82.11,82.64 C102.61,97.05 132.18,117.83 157.18,135.39 \" fill=\"none\" id=\"E7-&gt;E3\" style=\"stroke: #383838; stroke-width: 1.0;\"/><polygon fill=\"#FFFFFF\" points=\"173.58,146.92,154.011,141.7187,162.0629,130.266,173.58,146.92\" style=\"stroke: #383838; stroke-width: 1.0;\"/><ellipse cx=\"150.4983\" cy=\"136.8043\" fill=\"#383838\" rx=\"2\" ry=\"2\" style=\"stroke: #383838; stroke-width: 1.0;\"/><ellipse cx=\"156.2497\" cy=\"128.6238\" fill=\"#383838\" rx=\"2\" ry=\"2\" style=\"stroke: #383838; stroke-width: 1.0;\"/></a><!--MD5=[dc164f5e8a733ab456ef1add180e9e34]\n",
       "reverse link E7 to E8--><a href=\"psysml:f57d57d9-12d9-410c-acd5-2b53e0560bbf\" target=\"_top\" title=\"psysml:f57d57d9-12d9-410c-acd5-2b53e0560bbf\" xlink:actuate=\"onRequest\" xlink:href=\"psysml:f57d57d9-12d9-410c-acd5-2b53e0560bbf\" xlink:show=\"new\" xlink:title=\"psysml:f57d57d9-12d9-410c-acd5-2b53e0560bbf\" xlink:type=\"simple\"><path d=\"M52.05,100.09 C53.65,143.61 64.25,216.5 74.75,252.9 \" fill=\"none\" id=\"E7&lt;-E8\" style=\"stroke: #383838; stroke-width: 1.0;\"/><polygon fill=\"#FFFFFF\" points=\"51.85,87.08,47.9362,93.1366,52.0216,99.0788,55.9354,93.0222,51.85,87.08\" style=\"stroke: #383838; stroke-width: 1.0;\"/><text fill=\"#000000\" font-family=\"sans-serif\" font-size=\"13\" lengthAdjust=\"spacingAndGlyphs\" textLength=\"8\" x=\"62.6516\" y=\"241.7694\">1</text></a><!--MD5=[dc164f5e8a733ab456ef1add180e9e34]\n",
       "reverse link E7 to E8--><a href=\"psysml:b8781950-4d8a-4fb9-9fe0-7c7847cd278f\" target=\"_top\" title=\"psysml:b8781950-4d8a-4fb9-9fe0-7c7847cd278f\" xlink:actuate=\"onRequest\" xlink:href=\"psysml:b8781950-4d8a-4fb9-9fe0-7c7847cd278f\" xlink:show=\"new\" xlink:title=\"psysml:b8781950-4d8a-4fb9-9fe0-7c7847cd278f\" xlink:type=\"simple\"><path d=\"M72.64,101.8 C83.15,145.5 92.39,216.97 91.63,252.9 \" fill=\"none\" id=\"E7&lt;-E8-1\" style=\"stroke: #383838; stroke-width: 1.0; stroke-dasharray: 7.0,7.0;\"/><ellipse cx=\"70.7794\" cy=\"94.813\" fill=\"#FFFFFF\" rx=\"8\" ry=\"8\" style=\"stroke: #383838; stroke-width: 1.0;\"/><line style=\"stroke: #383838; stroke-width: 1.0;\" x1=\"72.8289\" x2=\"68.73\" y1=\"102.5461\" y2=\"87.08\"/><line style=\"stroke: #383838; stroke-width: 1.0;\" x1=\"63.0464\" x2=\"78.5125\" y1=\"96.8625\" y2=\"92.7636\"/><text fill=\"#000000\" font-family=\"sans-serif\" font-size=\"13\" lengthAdjust=\"spacingAndGlyphs\" textLength=\"8\" x=\"94.2181\" y=\"241.7694\">1</text></a><!--MD5=[0a839d0f80c2d72d4b9b307f046d0de8]\n",
       "link E6 to E8--><a href=\"psysml:117cd7b6-777c-4755-88f6-d7a432271d85\" target=\"_top\" title=\"psysml:117cd7b6-777c-4755-88f6-d7a432271d85\" xlink:actuate=\"onRequest\" xlink:href=\"psysml:117cd7b6-777c-4755-88f6-d7a432271d85\" xlink:show=\"new\" xlink:title=\"psysml:117cd7b6-777c-4755-88f6-d7a432271d85\" xlink:type=\"simple\"><path d=\"M97.42,193.06 C89.86,210.7 83.23,235.34 81.29,252.98 \" fill=\"none\" id=\"E6-E8\" style=\"stroke: #383838; stroke-width: 3.0;\"/><text fill=\"#000000\" font-family=\"sans-serif\" font-size=\"13\" lengthAdjust=\"spacingAndGlyphs\" textLength=\"7\" x=\"80.9648\" y=\"241.8709\">*</text></a><!--MD5=[0a839d0f80c2d72d4b9b307f046d0de8]\n",
       "link E6 to E8--><a href=\"psysml:c7325d6a-fceb-4e80-be50-eff52df502df\" target=\"_top\" title=\"psysml:c7325d6a-fceb-4e80-be50-eff52df502df\" xlink:actuate=\"onRequest\" xlink:href=\"psysml:c7325d6a-fceb-4e80-be50-eff52df502df\" xlink:show=\"new\" xlink:title=\"psysml:c7325d6a-fceb-4e80-be50-eff52df502df\" xlink:type=\"simple\"><path d=\"M119.33,193.06 C117.55,210.7 110.92,235.34 103.2,252.98 \" fill=\"none\" id=\"E6-E8-1\" style=\"stroke: #383838; stroke-width: 3.0;\"/><text fill=\"#000000\" font-family=\"sans-serif\" font-size=\"13\" lengthAdjust=\"spacingAndGlyphs\" textLength=\"7\" x=\"99.8819\" y=\"241.8709\">*</text></a><!--MD5=[481cae2a614a464253ef07e44dd66295]\n",
       "@startuml\r\n",
       "top to bottom direction\r\n",
       "skinparam monochrome true\r\n",
       "skinparam classbackgroundcolor white\r\n",
       "skinparam shadowing false\r\n",
       "skinparam wrapWidth 300\r\n",
       "hide circle\r\n",
       "\r\n",
       "package \"AliasTest\" as E1  [[psysml:6242facc-ff06-44d1-b4f3-467b2ef71334 ]]  {\r\n",
       "comp usage \"b :> ISQSpaceTime::width\" as E2  <<(T,blue) attribute>> [[psysml:c7d5118b-0b42-4b21-9071-aba180ff097b ]] {\r\n",
       "}\r\n",
       "comp def \"P1\" as E3  <<(T,blue) part  def>> [[psysml:f3a385fe-c72f-4489-86aa-e832e0f5c54b ]] {\r\n",
       "}\r\n",
       "comp usage \"porig1 \" as E4  <<(T,blue) port>> [[psysml:12c3f617-858e-4877-bab3-72d077a58110 ]] {\r\n",
       "}\r\n",
       "comp usage \"p1: P1 \" as E5  <<(T,blue) part>> [[psysml:f19cd7cf-ead7-487d-acf0-998c02877f08 ]] {\r\n",
       "}\r\n",
       "comp usage \"po1 \" as E6  <<(T,blue) port>> [[psysml:7bd77f36-e1da-430e-90ed-8aecc87780c5 ]] {\r\n",
       "}\r\n",
       "comp usage \"p2: P1 \" as E7  <<(T,blue) part>> [[psysml:3758ddaf-2d7c-4372-b46d-cbe5af56d102 ]] {\r\n",
       "}\r\n",
       "comp usage \"pdest \" as E8  <<(T,blue) port>> [[psysml:009efb1a-81d8-4f5e-8e24-a878e8625106 ]] {\r\n",
       "}\r\n",
       "}\r\n",
       "E3 o- - \"1\"E4 [[psysml:97bd4c72-9c32-47a6-a147-0b42cd362230 ]] \r\n",
       "E3 +.. \"1\"E4 [[psysml:dd790abf-ac6c-4371-bdbb-56cf5ab0181d ]] \r\n",
       "E5 - -:|> E3 [[psysml:a968a559-ae75-4ff7-b264-66e5a143558d ]] \r\n",
       "E5 o- - \"1\"E6 [[psysml:167a231e-25d4-4100-8e0d-53e0a4e750c8 ]] \r\n",
       "E6 - -||> E4 [[psysml:57ff51c2-e85d-4f72-aa72-bbf7c251408b ]] \r\n",
       "E7 - -:|> E3 [[psysml:a1db7df5-c75d-4551-8d1a-744022949b4d ]] \r\n",
       "E7 o- - \"1\"E8 [[psysml:f57d57d9-12d9-410c-acd5-2b53e0560bbf ]] \r\n",
       "E7 +.. \"1\"E8 [[psysml:b8781950-4d8a-4fb9-9fe0-7c7847cd278f ]] \r\n",
       "E6 -[thickness=3]- \"*\"E8 [[psysml:117cd7b6-777c-4755-88f6-d7a432271d85 ]] \r\n",
       "E6 -[thickness=3]- \"*\"E8 [[psysml:c7325d6a-fceb-4e80-be50-eff52df502df ]] \r\n",
       "@enduml\r\n",
       "\n",
       "PlantUML version 1.2020.13(Sat Jun 13 12:26:38 UTC 2020)\n",
       "(EPL source distribution)\n",
       "Java Runtime: OpenJDK Runtime Environment\n",
       "JVM: OpenJDK 64-Bit Server VM\n",
       "Default Encoding: UTF-8\n",
       "Language: en\n",
       "Country: null\n",
       "--></g></svg>"
      ]
     },
     "execution_count": 50,
     "metadata": {},
     "output_type": "execute_result"
    }
   ],
   "source": [
    "%viz --style=\"TB\" --view=\"MIXED\" \"AliasTest\""
   ]
  },
  {
   "cell_type": "code",
   "execution_count": 51,
   "id": "d348ae7b",
   "metadata": {
    "execution": {
     "iopub.execute_input": "2022-03-21T07:52:18.920171Z",
     "iopub.status.busy": "2022-03-21T07:52:18.919773Z",
     "iopub.status.idle": "2022-03-21T07:52:18.955743Z",
     "shell.execute_reply": "2022-03-21T07:52:18.954265Z"
    }
   },
   "outputs": [
    {
     "data": {
      "image/svg+xml": [
       "<?xml version=\"1.0\" encoding=\"UTF-8\" standalone=\"no\"?><svg xmlns=\"http://www.w3.org/2000/svg\" xmlns:xlink=\"http://www.w3.org/1999/xlink\" contentScriptType=\"application/ecmascript\" contentStyleType=\"text/css\" height=\"327px\" preserveAspectRatio=\"none\" style=\"width:406px;height:327px;\" version=\"1.1\" viewBox=\"0 0 406 327\" width=\"406px\" zoomAndPan=\"magnify\"><defs/><g><!--MD5=[fbc87193dbaf4d95561dea2c320d4a47]\n",
       "cluster E1--><a href=\"psysml:6242facc-ff06-44d1-b4f3-467b2ef71334\" target=\"_top\" title=\"psysml:6242facc-ff06-44d1-b4f3-467b2ef71334\" xlink:actuate=\"onRequest\" xlink:href=\"psysml:6242facc-ff06-44d1-b4f3-467b2ef71334\" xlink:show=\"new\" xlink:title=\"psysml:6242facc-ff06-44d1-b4f3-467b2ef71334\" xlink:type=\"simple\"><polygon fill=\"#FFFFFF\" points=\"16,6,84,6,91,28.2969,384,28.2969,384,315,16,315,16,6\" style=\"stroke: #000000; stroke-width: 1.5;\"/><line style=\"stroke: #000000; stroke-width: 1.5;\" x1=\"16\" x2=\"91\" y1=\"28.2969\" y2=\"28.2969\"/><text fill=\"#000000\" font-family=\"sans-serif\" font-size=\"14\" font-weight=\"bold\" lengthAdjust=\"spacingAndGlyphs\" textLength=\"62\" x=\"20\" y=\"20.9951\">AliasTest</text></a><!--MD5=[b4997ac47864f28c2f74865a473b2911]\n",
       "class E2--><a href=\"psysml:c7d5118b-0b42-4b21-9071-aba180ff097b\" target=\"_top\" title=\"psysml:c7d5118b-0b42-4b21-9071-aba180ff097b\" xlink:actuate=\"onRequest\" xlink:href=\"psysml:c7d5118b-0b42-4b21-9071-aba180ff097b\" xlink:show=\"new\" xlink:title=\"psysml:c7d5118b-0b42-4b21-9071-aba180ff097b\" xlink:type=\"simple\"><rect fill=\"#FFFFFF\" height=\"45.9375\" id=\"E2\" rx=\"10\" ry=\"10\" style=\"stroke: #383838; stroke-width: 1.5;\" width=\"165\" x=\"202.5\" y=\"41\"/><text fill=\"#000000\" font-family=\"sans-serif\" font-size=\"12\" font-style=\"italic\" lengthAdjust=\"spacingAndGlyphs\" textLength=\"69\" x=\"250.5\" y=\"57.1387\">«attribute»</text><text fill=\"#000000\" font-family=\"sans-serif\" font-size=\"12\" lengthAdjust=\"spacingAndGlyphs\" textLength=\"159\" x=\"205.5\" y=\"71.1074\">b :&gt; ISQSpaceTime::width</text><line style=\"stroke: #383838; stroke-width: 1.5;\" x1=\"203.5\" x2=\"366.5\" y1=\"78.9375\" y2=\"78.9375\"/></a><!--MD5=[09b614a08d8cba4a07c9adeb5e0fee81]\n",
       "class E3--><a href=\"psysml:f3a385fe-c72f-4489-86aa-e832e0f5c54b\" target=\"_top\" title=\"psysml:f3a385fe-c72f-4489-86aa-e832e0f5c54b\" xlink:actuate=\"onRequest\" xlink:href=\"psysml:f3a385fe-c72f-4489-86aa-e832e0f5c54b\" xlink:show=\"new\" xlink:title=\"psysml:f3a385fe-c72f-4489-86aa-e832e0f5c54b\" xlink:type=\"simple\"><rect fill=\"#FFFFFF\" height=\"45.9375\" id=\"E3\" style=\"stroke: #383838; stroke-width: 1.5;\" width=\"70\" x=\"170\" y=\"147\"/><text fill=\"#000000\" font-family=\"sans-serif\" font-size=\"12\" font-style=\"italic\" lengthAdjust=\"spacingAndGlyphs\" textLength=\"68\" x=\"171\" y=\"163.1387\">«part  def»</text><text fill=\"#000000\" font-family=\"sans-serif\" font-size=\"12\" lengthAdjust=\"spacingAndGlyphs\" textLength=\"16\" x=\"197\" y=\"177.1074\">P1</text><line style=\"stroke: #383838; stroke-width: 1.5;\" x1=\"171\" x2=\"239\" y1=\"184.9375\" y2=\"184.9375\"/></a><!--MD5=[ebbe1d658d1005bcc118a6aa81145e00]\n",
       "class E4--><a href=\"psysml:12c3f617-858e-4877-bab3-72d077a58110\" target=\"_top\" title=\"psysml:12c3f617-858e-4877-bab3-72d077a58110\" xlink:actuate=\"onRequest\" xlink:href=\"psysml:12c3f617-858e-4877-bab3-72d077a58110\" xlink:show=\"new\" xlink:title=\"psysml:12c3f617-858e-4877-bab3-72d077a58110\" xlink:type=\"simple\"><rect fill=\"#FFFFFF\" height=\"45.9375\" id=\"E4\" rx=\"10\" ry=\"10\" style=\"stroke: #383838; stroke-width: 1.5;\" width=\"50\" x=\"180\" y=\"253\"/><text fill=\"#000000\" font-family=\"sans-serif\" font-size=\"12\" font-style=\"italic\" lengthAdjust=\"spacingAndGlyphs\" textLength=\"40\" x=\"185\" y=\"269.1387\">«port»</text><text fill=\"#000000\" font-family=\"sans-serif\" font-size=\"12\" lengthAdjust=\"spacingAndGlyphs\" textLength=\"40\" x=\"183\" y=\"283.1074\">porig1</text><line style=\"stroke: #383838; stroke-width: 1.5;\" x1=\"181\" x2=\"229\" y1=\"290.9375\" y2=\"290.9375\"/></a><!--MD5=[270fce915f116d4de14055a7c1d9a0f3]\n",
       "class E5--><a href=\"psysml:f19cd7cf-ead7-487d-acf0-998c02877f08\" target=\"_top\" title=\"psysml:f19cd7cf-ead7-487d-acf0-998c02877f08\" xlink:actuate=\"onRequest\" xlink:href=\"psysml:f19cd7cf-ead7-487d-acf0-998c02877f08\" xlink:show=\"new\" xlink:title=\"psysml:f19cd7cf-ead7-487d-acf0-998c02877f08\" xlink:type=\"simple\"><rect fill=\"#FFFFFF\" height=\"45.9375\" id=\"E5\" rx=\"10\" ry=\"10\" style=\"stroke: #383838; stroke-width: 1.5;\" width=\"50\" x=\"117\" y=\"41\"/><text fill=\"#000000\" font-family=\"sans-serif\" font-size=\"12\" font-style=\"italic\" lengthAdjust=\"spacingAndGlyphs\" textLength=\"40\" x=\"122\" y=\"57.1387\">«part»</text><text fill=\"#000000\" font-family=\"sans-serif\" font-size=\"12\" lengthAdjust=\"spacingAndGlyphs\" textLength=\"40\" x=\"120\" y=\"71.1074\">p1: P1</text><line style=\"stroke: #383838; stroke-width: 1.5;\" x1=\"118\" x2=\"166\" y1=\"78.9375\" y2=\"78.9375\"/></a><!--MD5=[60a26617385b1d2d0262a64233df1f8d]\n",
       "class E6--><a href=\"psysml:7bd77f36-e1da-430e-90ed-8aecc87780c5\" target=\"_top\" title=\"psysml:7bd77f36-e1da-430e-90ed-8aecc87780c5\" xlink:actuate=\"onRequest\" xlink:href=\"psysml:7bd77f36-e1da-430e-90ed-8aecc87780c5\" xlink:show=\"new\" xlink:title=\"psysml:7bd77f36-e1da-430e-90ed-8aecc87780c5\" xlink:type=\"simple\"><rect fill=\"#FFFFFF\" height=\"45.9375\" id=\"E6\" rx=\"10\" ry=\"10\" style=\"stroke: #383838; stroke-width: 1.5;\" width=\"42\" x=\"93\" y=\"147\"/><text fill=\"#000000\" font-family=\"sans-serif\" font-size=\"12\" font-style=\"italic\" lengthAdjust=\"spacingAndGlyphs\" textLength=\"40\" x=\"94\" y=\"163.1387\">«port»</text><text fill=\"#000000\" font-family=\"sans-serif\" font-size=\"12\" lengthAdjust=\"spacingAndGlyphs\" textLength=\"24\" x=\"100\" y=\"177.1074\">po1</text><line style=\"stroke: #383838; stroke-width: 1.5;\" x1=\"94\" x2=\"134\" y1=\"184.9375\" y2=\"184.9375\"/></a><!--MD5=[2156ba9850f5573cc1fc38a6a4b2f02b]\n",
       "class E7--><a href=\"psysml:3758ddaf-2d7c-4372-b46d-cbe5af56d102\" target=\"_top\" title=\"psysml:3758ddaf-2d7c-4372-b46d-cbe5af56d102\" xlink:actuate=\"onRequest\" xlink:href=\"psysml:3758ddaf-2d7c-4372-b46d-cbe5af56d102\" xlink:show=\"new\" xlink:title=\"psysml:3758ddaf-2d7c-4372-b46d-cbe5af56d102\" xlink:type=\"simple\"><rect fill=\"#FFFFFF\" height=\"45.9375\" id=\"E7\" rx=\"10\" ry=\"10\" style=\"stroke: #383838; stroke-width: 1.5;\" width=\"50\" x=\"32\" y=\"41\"/><text fill=\"#000000\" font-family=\"sans-serif\" font-size=\"12\" font-style=\"italic\" lengthAdjust=\"spacingAndGlyphs\" textLength=\"40\" x=\"37\" y=\"57.1387\">«part»</text><text fill=\"#000000\" font-family=\"sans-serif\" font-size=\"12\" lengthAdjust=\"spacingAndGlyphs\" textLength=\"40\" x=\"35\" y=\"71.1074\">p2: P1</text><line style=\"stroke: #383838; stroke-width: 1.5;\" x1=\"33\" x2=\"81\" y1=\"78.9375\" y2=\"78.9375\"/></a><!--MD5=[b9389687b975829384b498ac4b7476b2]\n",
       "class E8--><a href=\"psysml:009efb1a-81d8-4f5e-8e24-a878e8625106\" target=\"_top\" title=\"psysml:009efb1a-81d8-4f5e-8e24-a878e8625106\" xlink:actuate=\"onRequest\" xlink:href=\"psysml:009efb1a-81d8-4f5e-8e24-a878e8625106\" xlink:show=\"new\" xlink:title=\"psysml:009efb1a-81d8-4f5e-8e24-a878e8625106\" xlink:type=\"simple\"><rect fill=\"#FFFFFF\" height=\"45.9375\" id=\"E8\" rx=\"10\" ry=\"10\" style=\"stroke: #383838; stroke-width: 1.5;\" width=\"46\" x=\"63\" y=\"253\"/><text fill=\"#000000\" font-family=\"sans-serif\" font-size=\"12\" font-style=\"italic\" lengthAdjust=\"spacingAndGlyphs\" textLength=\"40\" x=\"66\" y=\"269.1387\">«port»</text><text fill=\"#000000\" font-family=\"sans-serif\" font-size=\"12\" lengthAdjust=\"spacingAndGlyphs\" textLength=\"36\" x=\"66\" y=\"283.1074\">pdest</text><line style=\"stroke: #383838; stroke-width: 1.5;\" x1=\"64\" x2=\"108\" y1=\"290.9375\" y2=\"290.9375\"/></a><!--MD5=[4672eba38e49728da53d11aeb285b987]\n",
       "reverse link E3 to E4--><a href=\"psysml:97bd4c72-9c32-47a6-a147-0b42cd362230\" target=\"_top\" title=\"psysml:97bd4c72-9c32-47a6-a147-0b42cd362230\" xlink:actuate=\"onRequest\" xlink:href=\"psysml:97bd4c72-9c32-47a6-a147-0b42cd362230\" xlink:show=\"new\" xlink:title=\"psysml:97bd4c72-9c32-47a6-a147-0b42cd362230\" xlink:type=\"simple\"><path d=\"M196.67,206 C196.67,206 196.67,252.68 196.67,252.68 \" fill=\"none\" id=\"E3&lt;-E4\" style=\"stroke: #383838; stroke-width: 1.0;\"/><polygon fill=\"#FFFFFF\" points=\"196.67,193,192.67,199,196.67,205,200.67,199,196.67,193\" style=\"stroke: #383838; stroke-width: 1.0;\"/><text fill=\"#000000\" font-family=\"sans-serif\" font-size=\"13\" lengthAdjust=\"spacingAndGlyphs\" textLength=\"8\" x=\"185.5104\" y=\"241.8743\">1</text></a><!--MD5=[4672eba38e49728da53d11aeb285b987]\n",
       "reverse link E3 to E4--><a href=\"psysml:dd790abf-ac6c-4371-bdbb-56cf5ab0181d\" target=\"_top\" title=\"psysml:dd790abf-ac6c-4371-bdbb-56cf5ab0181d\" xlink:actuate=\"onRequest\" xlink:href=\"psysml:dd790abf-ac6c-4371-bdbb-56cf5ab0181d\" xlink:show=\"new\" xlink:title=\"psysml:dd790abf-ac6c-4371-bdbb-56cf5ab0181d\" xlink:type=\"simple\"><path d=\"M213.33,208 C213.33,208 213.33,252.68 213.33,252.68 \" fill=\"none\" id=\"E3&lt;-E4-1\" style=\"stroke: #383838; stroke-width: 1.0; stroke-dasharray: 7.0,7.0;\"/><ellipse cx=\"213.33\" cy=\"201\" fill=\"#FFFFFF\" rx=\"8\" ry=\"8\" style=\"stroke: #383838; stroke-width: 1.0;\"/><line style=\"stroke: #383838; stroke-width: 1.0;\" x1=\"213.33\" x2=\"213.33\" y1=\"209\" y2=\"193\"/><line style=\"stroke: #383838; stroke-width: 1.0;\" x1=\"205.33\" x2=\"221.33\" y1=\"201\" y2=\"201\"/><text fill=\"#000000\" font-family=\"sans-serif\" font-size=\"13\" lengthAdjust=\"spacingAndGlyphs\" textLength=\"8\" x=\"206.4396\" y=\"241.8743\">1</text></a><!--MD5=[e9be52314489bd878ff4c7144b63c9e1]\n",
       "link E5 to E3--><a href=\"psysml:a968a559-ae75-4ff7-b264-66e5a143558d\" target=\"_top\" title=\"psysml:a968a559-ae75-4ff7-b264-66e5a143558d\" xlink:actuate=\"onRequest\" xlink:href=\"psysml:a968a559-ae75-4ff7-b264-66e5a143558d\" xlink:show=\"new\" xlink:title=\"psysml:a968a559-ae75-4ff7-b264-66e5a143558d\" xlink:type=\"simple\"><path d=\"M151,87 C151,118.18 151,170 151,170 C151,170 152.89,170 152.89,170 \" fill=\"none\" id=\"E5-&gt;E3\" style=\"stroke: #383838; stroke-width: 1.0;\"/><polygon fill=\"#FFFFFF\" points=\"169.89,170,150.89,177,150.89,163,169.89,170\" style=\"stroke: #383838; stroke-width: 1.0;\"/><ellipse cx=\"145.19\" cy=\"175\" fill=\"#383838\" rx=\"2\" ry=\"2\" style=\"stroke: #383838; stroke-width: 1.0;\"/><ellipse cx=\"145.19\" cy=\"165\" fill=\"#383838\" rx=\"2\" ry=\"2\" style=\"stroke: #383838; stroke-width: 1.0;\"/></a><!--MD5=[85d356282659285ab4b2cfe2f634dd2b]\n",
       "reverse link E5 to E6--><a href=\"psysml:167a231e-25d4-4100-8e0d-53e0a4e750c8\" target=\"_top\" title=\"psysml:167a231e-25d4-4100-8e0d-53e0a4e750c8\" xlink:actuate=\"onRequest\" xlink:href=\"psysml:167a231e-25d4-4100-8e0d-53e0a4e750c8\" xlink:show=\"new\" xlink:title=\"psysml:167a231e-25d4-4100-8e0d-53e0a4e750c8\" xlink:type=\"simple\"><path d=\"M126,100 C126,100 126,146.68 126,146.68 \" fill=\"none\" id=\"E5&lt;-E6\" style=\"stroke: #383838; stroke-width: 1.0;\"/><polygon fill=\"#FFFFFF\" points=\"126,87,122,93,126,99,130,93,126,87\" style=\"stroke: #383838; stroke-width: 1.0;\"/><text fill=\"#000000\" font-family=\"sans-serif\" font-size=\"13\" lengthAdjust=\"spacingAndGlyphs\" textLength=\"8\" x=\"120.05\" y=\"135.8743\">1</text></a><!--MD5=[f667431f98296947986a1a7595a31603]\n",
       "link E6 to E4--><a href=\"psysml:57ff51c2-e85d-4f72-aa72-bbf7c251408b\" target=\"_top\" title=\"psysml:57ff51c2-e85d-4f72-aa72-bbf7c251408b\" xlink:actuate=\"onRequest\" xlink:href=\"psysml:57ff51c2-e85d-4f72-aa72-bbf7c251408b\" xlink:show=\"new\" xlink:title=\"psysml:57ff51c2-e85d-4f72-aa72-bbf7c251408b\" xlink:type=\"simple\"><path d=\"M122,193 C122,224.18 122,276 122,276 C122,276 159.65,276 159.65,276 \" fill=\"none\" id=\"E6-&gt;E4\" style=\"stroke: #383838; stroke-width: 1.0;\"/><polygon fill=\"#FFFFFF\" points=\"179.65,276,160.65,283,160.65,269,179.65,276\" style=\"stroke: #383838; stroke-width: 1.0;\"/><line style=\"stroke: #383838; stroke-width: 2.0;\" x1=\"156.85\" x2=\"156.85\" y1=\"283\" y2=\"269\"/></a><!--MD5=[14ccda38c055a5c0da953d572bc50960]\n",
       "link E7 to E3--><a href=\"psysml:a1db7df5-c75d-4551-8d1a-744022949b4d\" target=\"_top\" title=\"psysml:a1db7df5-c75d-4551-8d1a-744022949b4d\" xlink:actuate=\"onRequest\" xlink:href=\"psysml:a1db7df5-c75d-4551-8d1a-744022949b4d\" xlink:show=\"new\" xlink:title=\"psysml:a1db7df5-c75d-4551-8d1a-744022949b4d\" xlink:type=\"simple\"><path d=\"M77.25,87.09 C77.25,101.37 77.25,117 77.25,117 C77.25,117 186.25,117 186.25,117 C186.25,117 186.25,126.91 186.25,126.91 \" fill=\"none\" id=\"E7-&gt;E3\" style=\"stroke: #383838; stroke-width: 1.0;\"/><polygon fill=\"#FFFFFF\" points=\"186.25,146.91,179.25,127.91,193.25,127.91,186.25,146.91\" style=\"stroke: #383838; stroke-width: 1.0;\"/><ellipse cx=\"181.25\" cy=\"122.21\" fill=\"#383838\" rx=\"2\" ry=\"2\" style=\"stroke: #383838; stroke-width: 1.0;\"/><ellipse cx=\"191.25\" cy=\"122.21\" fill=\"#383838\" rx=\"2\" ry=\"2\" style=\"stroke: #383838; stroke-width: 1.0;\"/></a><!--MD5=[dc164f5e8a733ab456ef1add180e9e34]\n",
       "reverse link E7 to E8--><a href=\"psysml:f57d57d9-12d9-410c-acd5-2b53e0560bbf\" target=\"_top\" title=\"psysml:f57d57d9-12d9-410c-acd5-2b53e0560bbf\" xlink:actuate=\"onRequest\" xlink:href=\"psysml:f57d57d9-12d9-410c-acd5-2b53e0560bbf\" xlink:show=\"new\" xlink:title=\"psysml:f57d57d9-12d9-410c-acd5-2b53e0560bbf\" xlink:type=\"simple\"><path d=\"M67.75,100.09 C67.75,100.09 67.75,252.94 67.75,252.94 \" fill=\"none\" id=\"E7&lt;-E8\" style=\"stroke: #383838; stroke-width: 1.0;\"/><polygon fill=\"#FFFFFF\" points=\"67.75,87.09,63.75,93.09,67.75,99.09,71.75,93.09,67.75,87.09\" style=\"stroke: #383838; stroke-width: 1.0;\"/><text fill=\"#000000\" font-family=\"sans-serif\" font-size=\"13\" lengthAdjust=\"spacingAndGlyphs\" textLength=\"8\" x=\"53.7703\" y=\"241.8201\">1</text></a><!--MD5=[dc164f5e8a733ab456ef1add180e9e34]\n",
       "reverse link E7 to E8--><a href=\"psysml:b8781950-4d8a-4fb9-9fe0-7c7847cd278f\" target=\"_top\" title=\"psysml:b8781950-4d8a-4fb9-9fe0-7c7847cd278f\" xlink:actuate=\"onRequest\" xlink:href=\"psysml:b8781950-4d8a-4fb9-9fe0-7c7847cd278f\" xlink:show=\"new\" xlink:title=\"psysml:b8781950-4d8a-4fb9-9fe0-7c7847cd278f\" xlink:type=\"simple\"><path d=\"M72.5,102.09 C72.5,102.09 72.5,252.94 72.5,252.94 \" fill=\"none\" id=\"E7&lt;-E8-1\" style=\"stroke: #383838; stroke-width: 1.0; stroke-dasharray: 7.0,7.0;\"/><ellipse cx=\"72.5\" cy=\"95.09\" fill=\"#FFFFFF\" rx=\"8\" ry=\"8\" style=\"stroke: #383838; stroke-width: 1.0;\"/><line style=\"stroke: #383838; stroke-width: 1.0;\" x1=\"72.5\" x2=\"72.5\" y1=\"103.09\" y2=\"87.09\"/><line style=\"stroke: #383838; stroke-width: 1.0;\" x1=\"64.5\" x2=\"80.5\" y1=\"95.09\" y2=\"95.09\"/><text fill=\"#000000\" font-family=\"sans-serif\" font-size=\"13\" lengthAdjust=\"spacingAndGlyphs\" textLength=\"8\" x=\"69.9469\" y=\"241.8201\">1</text></a><!--MD5=[0a839d0f80c2d72d4b9b307f046d0de8]\n",
       "link E6 to E8--><a href=\"psysml:117cd7b6-777c-4755-88f6-d7a432271d85\" target=\"_top\" title=\"psysml:117cd7b6-777c-4755-88f6-d7a432271d85\" xlink:actuate=\"onRequest\" xlink:href=\"psysml:117cd7b6-777c-4755-88f6-d7a432271d85\" xlink:show=\"new\" xlink:title=\"psysml:117cd7b6-777c-4755-88f6-d7a432271d85\" xlink:type=\"simple\"><path d=\"M98.33,193 C98.33,210.66 98.33,234.94 98.33,252.68 \" fill=\"none\" id=\"E6-E8\" style=\"stroke: #383838; stroke-width: 3.0;\"/><text fill=\"#000000\" font-family=\"sans-serif\" font-size=\"13\" lengthAdjust=\"spacingAndGlyphs\" textLength=\"7\" x=\"93.5927\" y=\"241.8743\">*</text></a><!--MD5=[0a839d0f80c2d72d4b9b307f046d0de8]\n",
       "link E6 to E8--><a href=\"psysml:c7325d6a-fceb-4e80-be50-eff52df502df\" target=\"_top\" title=\"psysml:c7325d6a-fceb-4e80-be50-eff52df502df\" xlink:actuate=\"onRequest\" xlink:href=\"psysml:c7325d6a-fceb-4e80-be50-eff52df502df\" xlink:show=\"new\" xlink:title=\"psysml:c7325d6a-fceb-4e80-be50-eff52df502df\" xlink:type=\"simple\"><path d=\"M103.67,193 C103.67,210.66 103.67,234.94 103.67,252.68 \" fill=\"none\" id=\"E6-E8-1\" style=\"stroke: #383838; stroke-width: 3.0;\"/><text fill=\"#000000\" font-family=\"sans-serif\" font-size=\"13\" lengthAdjust=\"spacingAndGlyphs\" textLength=\"7\" x=\"109.0948\" y=\"241.8743\">*</text></a><!--MD5=[f560510ab194248b20a757918ae3064a]\n",
       "@startuml\r\n",
       "skinparam linetype ortho\r\n",
       "skinparam monochrome true\r\n",
       "skinparam classbackgroundcolor white\r\n",
       "skinparam shadowing false\r\n",
       "skinparam wrapWidth 300\r\n",
       "hide circle\r\n",
       "\r\n",
       "package \"AliasTest\" as E1  [[psysml:6242facc-ff06-44d1-b4f3-467b2ef71334 ]]  {\r\n",
       "comp usage \"b :> ISQSpaceTime::width\" as E2  <<(T,blue) attribute>> [[psysml:c7d5118b-0b42-4b21-9071-aba180ff097b ]] {\r\n",
       "}\r\n",
       "comp def \"P1\" as E3  <<(T,blue) part  def>> [[psysml:f3a385fe-c72f-4489-86aa-e832e0f5c54b ]] {\r\n",
       "}\r\n",
       "comp usage \"porig1 \" as E4  <<(T,blue) port>> [[psysml:12c3f617-858e-4877-bab3-72d077a58110 ]] {\r\n",
       "}\r\n",
       "comp usage \"p1: P1 \" as E5  <<(T,blue) part>> [[psysml:f19cd7cf-ead7-487d-acf0-998c02877f08 ]] {\r\n",
       "}\r\n",
       "comp usage \"po1 \" as E6  <<(T,blue) port>> [[psysml:7bd77f36-e1da-430e-90ed-8aecc87780c5 ]] {\r\n",
       "}\r\n",
       "comp usage \"p2: P1 \" as E7  <<(T,blue) part>> [[psysml:3758ddaf-2d7c-4372-b46d-cbe5af56d102 ]] {\r\n",
       "}\r\n",
       "comp usage \"pdest \" as E8  <<(T,blue) port>> [[psysml:009efb1a-81d8-4f5e-8e24-a878e8625106 ]] {\r\n",
       "}\r\n",
       "}\r\n",
       "E3 o- - \"1\"E4 [[psysml:97bd4c72-9c32-47a6-a147-0b42cd362230 ]] \r\n",
       "E3 +.. \"1\"E4 [[psysml:dd790abf-ac6c-4371-bdbb-56cf5ab0181d ]] \r\n",
       "E5 - -:|> E3 [[psysml:a968a559-ae75-4ff7-b264-66e5a143558d ]] \r\n",
       "E5 o- - \"1\"E6 [[psysml:167a231e-25d4-4100-8e0d-53e0a4e750c8 ]] \r\n",
       "E6 - -||> E4 [[psysml:57ff51c2-e85d-4f72-aa72-bbf7c251408b ]] \r\n",
       "E7 - -:|> E3 [[psysml:a1db7df5-c75d-4551-8d1a-744022949b4d ]] \r\n",
       "E7 o- - \"1\"E8 [[psysml:f57d57d9-12d9-410c-acd5-2b53e0560bbf ]] \r\n",
       "E7 +.. \"1\"E8 [[psysml:b8781950-4d8a-4fb9-9fe0-7c7847cd278f ]] \r\n",
       "E6 -[thickness=3]- \"*\"E8 [[psysml:117cd7b6-777c-4755-88f6-d7a432271d85 ]] \r\n",
       "E6 -[thickness=3]- \"*\"E8 [[psysml:c7325d6a-fceb-4e80-be50-eff52df502df ]] \r\n",
       "@enduml\r\n",
       "\n",
       "PlantUML version 1.2020.13(Sat Jun 13 12:26:38 UTC 2020)\n",
       "(EPL source distribution)\n",
       "Java Runtime: OpenJDK Runtime Environment\n",
       "JVM: OpenJDK 64-Bit Server VM\n",
       "Default Encoding: UTF-8\n",
       "Language: en\n",
       "Country: null\n",
       "--></g></svg>"
      ]
     },
     "execution_count": 51,
     "metadata": {},
     "output_type": "execute_result"
    }
   ],
   "source": [
    "%viz --style=\"ORTHOLINE\" --view=\"Default\" \"AliasTest\""
   ]
  },
  {
   "cell_type": "code",
   "execution_count": 52,
   "id": "6d53e6e2",
   "metadata": {
    "execution": {
     "iopub.execute_input": "2022-03-21T07:52:19.005044Z",
     "iopub.status.busy": "2022-03-21T07:52:19.004601Z",
     "iopub.status.idle": "2022-03-21T07:52:19.040462Z",
     "shell.execute_reply": "2022-03-21T07:52:19.040089Z"
    }
   },
   "outputs": [
    {
     "data": {
      "image/svg+xml": [
       "<?xml version=\"1.0\" encoding=\"UTF-8\" standalone=\"no\"?><svg xmlns=\"http://www.w3.org/2000/svg\" xmlns:xlink=\"http://www.w3.org/1999/xlink\" contentScriptType=\"application/ecmascript\" contentStyleType=\"text/css\" height=\"327px\" preserveAspectRatio=\"none\" style=\"width:406px;height:327px;\" version=\"1.1\" viewBox=\"0 0 406 327\" width=\"406px\" zoomAndPan=\"magnify\"><defs/><g><!--MD5=[fbc87193dbaf4d95561dea2c320d4a47]\n",
       "cluster E1--><a href=\"psysml:6242facc-ff06-44d1-b4f3-467b2ef71334\" target=\"_top\" title=\"psysml:6242facc-ff06-44d1-b4f3-467b2ef71334\" xlink:actuate=\"onRequest\" xlink:href=\"psysml:6242facc-ff06-44d1-b4f3-467b2ef71334\" xlink:show=\"new\" xlink:title=\"psysml:6242facc-ff06-44d1-b4f3-467b2ef71334\" xlink:type=\"simple\"><polygon fill=\"#FFFFFF\" points=\"16,6,84,6,91,28.2969,384,28.2969,384,315,16,315,16,6\" style=\"stroke: #000000; stroke-width: 1.5;\"/><line style=\"stroke: #000000; stroke-width: 1.5;\" x1=\"16\" x2=\"91\" y1=\"28.2969\" y2=\"28.2969\"/><text fill=\"#000000\" font-family=\"sans-serif\" font-size=\"14\" font-weight=\"bold\" lengthAdjust=\"spacingAndGlyphs\" textLength=\"62\" x=\"20\" y=\"20.9951\">AliasTest</text></a><!--MD5=[b4997ac47864f28c2f74865a473b2911]\n",
       "class E2--><a href=\"psysml:c7d5118b-0b42-4b21-9071-aba180ff097b\" target=\"_top\" title=\"psysml:c7d5118b-0b42-4b21-9071-aba180ff097b\" xlink:actuate=\"onRequest\" xlink:href=\"psysml:c7d5118b-0b42-4b21-9071-aba180ff097b\" xlink:show=\"new\" xlink:title=\"psysml:c7d5118b-0b42-4b21-9071-aba180ff097b\" xlink:type=\"simple\"><rect fill=\"#FFFFFF\" height=\"45.9375\" id=\"E2\" rx=\"10\" ry=\"10\" style=\"stroke: #383838; stroke-width: 1.5;\" width=\"165\" x=\"202.5\" y=\"41\"/><text fill=\"#000000\" font-family=\"sans-serif\" font-size=\"12\" font-style=\"italic\" lengthAdjust=\"spacingAndGlyphs\" textLength=\"69\" x=\"250.5\" y=\"57.1387\">«attribute»</text><text fill=\"#000000\" font-family=\"sans-serif\" font-size=\"12\" lengthAdjust=\"spacingAndGlyphs\" textLength=\"159\" x=\"205.5\" y=\"71.1074\">b :&gt; ISQSpaceTime::width</text><line style=\"stroke: #383838; stroke-width: 1.5;\" x1=\"203.5\" x2=\"366.5\" y1=\"78.9375\" y2=\"78.9375\"/></a><!--MD5=[09b614a08d8cba4a07c9adeb5e0fee81]\n",
       "class E3--><a href=\"psysml:f3a385fe-c72f-4489-86aa-e832e0f5c54b\" target=\"_top\" title=\"psysml:f3a385fe-c72f-4489-86aa-e832e0f5c54b\" xlink:actuate=\"onRequest\" xlink:href=\"psysml:f3a385fe-c72f-4489-86aa-e832e0f5c54b\" xlink:show=\"new\" xlink:title=\"psysml:f3a385fe-c72f-4489-86aa-e832e0f5c54b\" xlink:type=\"simple\"><rect fill=\"#FFFFFF\" height=\"45.9375\" id=\"E3\" style=\"stroke: #383838; stroke-width: 1.5;\" width=\"70\" x=\"170\" y=\"147\"/><text fill=\"#000000\" font-family=\"sans-serif\" font-size=\"12\" font-style=\"italic\" lengthAdjust=\"spacingAndGlyphs\" textLength=\"68\" x=\"171\" y=\"163.1387\">«part  def»</text><text fill=\"#000000\" font-family=\"sans-serif\" font-size=\"12\" lengthAdjust=\"spacingAndGlyphs\" textLength=\"16\" x=\"197\" y=\"177.1074\">P1</text><line style=\"stroke: #383838; stroke-width: 1.5;\" x1=\"171\" x2=\"239\" y1=\"184.9375\" y2=\"184.9375\"/></a><!--MD5=[ebbe1d658d1005bcc118a6aa81145e00]\n",
       "class E4--><a href=\"psysml:12c3f617-858e-4877-bab3-72d077a58110\" target=\"_top\" title=\"psysml:12c3f617-858e-4877-bab3-72d077a58110\" xlink:actuate=\"onRequest\" xlink:href=\"psysml:12c3f617-858e-4877-bab3-72d077a58110\" xlink:show=\"new\" xlink:title=\"psysml:12c3f617-858e-4877-bab3-72d077a58110\" xlink:type=\"simple\"><rect fill=\"#FFFFFF\" height=\"45.9375\" id=\"E4\" rx=\"10\" ry=\"10\" style=\"stroke: #383838; stroke-width: 1.5;\" width=\"50\" x=\"180\" y=\"253\"/><text fill=\"#000000\" font-family=\"sans-serif\" font-size=\"12\" font-style=\"italic\" lengthAdjust=\"spacingAndGlyphs\" textLength=\"40\" x=\"185\" y=\"269.1387\">«port»</text><text fill=\"#000000\" font-family=\"sans-serif\" font-size=\"12\" lengthAdjust=\"spacingAndGlyphs\" textLength=\"40\" x=\"183\" y=\"283.1074\">porig1</text><line style=\"stroke: #383838; stroke-width: 1.5;\" x1=\"181\" x2=\"229\" y1=\"290.9375\" y2=\"290.9375\"/></a><!--MD5=[270fce915f116d4de14055a7c1d9a0f3]\n",
       "class E5--><a href=\"psysml:f19cd7cf-ead7-487d-acf0-998c02877f08\" target=\"_top\" title=\"psysml:f19cd7cf-ead7-487d-acf0-998c02877f08\" xlink:actuate=\"onRequest\" xlink:href=\"psysml:f19cd7cf-ead7-487d-acf0-998c02877f08\" xlink:show=\"new\" xlink:title=\"psysml:f19cd7cf-ead7-487d-acf0-998c02877f08\" xlink:type=\"simple\"><rect fill=\"#FFFFFF\" height=\"45.9375\" id=\"E5\" rx=\"10\" ry=\"10\" style=\"stroke: #383838; stroke-width: 1.5;\" width=\"50\" x=\"117\" y=\"41\"/><text fill=\"#000000\" font-family=\"sans-serif\" font-size=\"12\" font-style=\"italic\" lengthAdjust=\"spacingAndGlyphs\" textLength=\"40\" x=\"122\" y=\"57.1387\">«part»</text><text fill=\"#000000\" font-family=\"sans-serif\" font-size=\"12\" lengthAdjust=\"spacingAndGlyphs\" textLength=\"40\" x=\"120\" y=\"71.1074\">p1: P1</text><line style=\"stroke: #383838; stroke-width: 1.5;\" x1=\"118\" x2=\"166\" y1=\"78.9375\" y2=\"78.9375\"/></a><!--MD5=[60a26617385b1d2d0262a64233df1f8d]\n",
       "class E6--><a href=\"psysml:7bd77f36-e1da-430e-90ed-8aecc87780c5\" target=\"_top\" title=\"psysml:7bd77f36-e1da-430e-90ed-8aecc87780c5\" xlink:actuate=\"onRequest\" xlink:href=\"psysml:7bd77f36-e1da-430e-90ed-8aecc87780c5\" xlink:show=\"new\" xlink:title=\"psysml:7bd77f36-e1da-430e-90ed-8aecc87780c5\" xlink:type=\"simple\"><rect fill=\"#FFFFFF\" height=\"45.9375\" id=\"E6\" rx=\"10\" ry=\"10\" style=\"stroke: #383838; stroke-width: 1.5;\" width=\"42\" x=\"93\" y=\"147\"/><text fill=\"#000000\" font-family=\"sans-serif\" font-size=\"12\" font-style=\"italic\" lengthAdjust=\"spacingAndGlyphs\" textLength=\"40\" x=\"94\" y=\"163.1387\">«port»</text><text fill=\"#000000\" font-family=\"sans-serif\" font-size=\"12\" lengthAdjust=\"spacingAndGlyphs\" textLength=\"24\" x=\"100\" y=\"177.1074\">po1</text><line style=\"stroke: #383838; stroke-width: 1.5;\" x1=\"94\" x2=\"134\" y1=\"184.9375\" y2=\"184.9375\"/></a><!--MD5=[2156ba9850f5573cc1fc38a6a4b2f02b]\n",
       "class E7--><a href=\"psysml:3758ddaf-2d7c-4372-b46d-cbe5af56d102\" target=\"_top\" title=\"psysml:3758ddaf-2d7c-4372-b46d-cbe5af56d102\" xlink:actuate=\"onRequest\" xlink:href=\"psysml:3758ddaf-2d7c-4372-b46d-cbe5af56d102\" xlink:show=\"new\" xlink:title=\"psysml:3758ddaf-2d7c-4372-b46d-cbe5af56d102\" xlink:type=\"simple\"><rect fill=\"#FFFFFF\" height=\"45.9375\" id=\"E7\" rx=\"10\" ry=\"10\" style=\"stroke: #383838; stroke-width: 1.5;\" width=\"50\" x=\"32\" y=\"41\"/><text fill=\"#000000\" font-family=\"sans-serif\" font-size=\"12\" font-style=\"italic\" lengthAdjust=\"spacingAndGlyphs\" textLength=\"40\" x=\"37\" y=\"57.1387\">«part»</text><text fill=\"#000000\" font-family=\"sans-serif\" font-size=\"12\" lengthAdjust=\"spacingAndGlyphs\" textLength=\"40\" x=\"35\" y=\"71.1074\">p2: P1</text><line style=\"stroke: #383838; stroke-width: 1.5;\" x1=\"33\" x2=\"81\" y1=\"78.9375\" y2=\"78.9375\"/></a><!--MD5=[b9389687b975829384b498ac4b7476b2]\n",
       "class E8--><a href=\"psysml:009efb1a-81d8-4f5e-8e24-a878e8625106\" target=\"_top\" title=\"psysml:009efb1a-81d8-4f5e-8e24-a878e8625106\" xlink:actuate=\"onRequest\" xlink:href=\"psysml:009efb1a-81d8-4f5e-8e24-a878e8625106\" xlink:show=\"new\" xlink:title=\"psysml:009efb1a-81d8-4f5e-8e24-a878e8625106\" xlink:type=\"simple\"><rect fill=\"#FFFFFF\" height=\"45.9375\" id=\"E8\" rx=\"10\" ry=\"10\" style=\"stroke: #383838; stroke-width: 1.5;\" width=\"46\" x=\"63\" y=\"253\"/><text fill=\"#000000\" font-family=\"sans-serif\" font-size=\"12\" font-style=\"italic\" lengthAdjust=\"spacingAndGlyphs\" textLength=\"40\" x=\"66\" y=\"269.1387\">«port»</text><text fill=\"#000000\" font-family=\"sans-serif\" font-size=\"12\" lengthAdjust=\"spacingAndGlyphs\" textLength=\"36\" x=\"66\" y=\"283.1074\">pdest</text><line style=\"stroke: #383838; stroke-width: 1.5;\" x1=\"64\" x2=\"108\" y1=\"290.9375\" y2=\"290.9375\"/></a><!--MD5=[4672eba38e49728da53d11aeb285b987]\n",
       "reverse link E3 to E4--><a href=\"psysml:97bd4c72-9c32-47a6-a147-0b42cd362230\" target=\"_top\" title=\"psysml:97bd4c72-9c32-47a6-a147-0b42cd362230\" xlink:actuate=\"onRequest\" xlink:href=\"psysml:97bd4c72-9c32-47a6-a147-0b42cd362230\" xlink:show=\"new\" xlink:title=\"psysml:97bd4c72-9c32-47a6-a147-0b42cd362230\" xlink:type=\"simple\"><path d=\"M196.67,206 C196.67,206 196.67,252.68 196.67,252.68 \" fill=\"none\" id=\"E3&lt;-E4\" style=\"stroke: #383838; stroke-width: 1.0;\"/><polygon fill=\"#FFFFFF\" points=\"196.67,193,192.67,199,196.67,205,200.67,199,196.67,193\" style=\"stroke: #383838; stroke-width: 1.0;\"/><text fill=\"#000000\" font-family=\"sans-serif\" font-size=\"13\" lengthAdjust=\"spacingAndGlyphs\" textLength=\"8\" x=\"185.5104\" y=\"241.8743\">1</text></a><!--MD5=[4672eba38e49728da53d11aeb285b987]\n",
       "reverse link E3 to E4--><a href=\"psysml:dd790abf-ac6c-4371-bdbb-56cf5ab0181d\" target=\"_top\" title=\"psysml:dd790abf-ac6c-4371-bdbb-56cf5ab0181d\" xlink:actuate=\"onRequest\" xlink:href=\"psysml:dd790abf-ac6c-4371-bdbb-56cf5ab0181d\" xlink:show=\"new\" xlink:title=\"psysml:dd790abf-ac6c-4371-bdbb-56cf5ab0181d\" xlink:type=\"simple\"><path d=\"M213.33,208 C213.33,208 213.33,252.68 213.33,252.68 \" fill=\"none\" id=\"E3&lt;-E4-1\" style=\"stroke: #383838; stroke-width: 1.0; stroke-dasharray: 7.0,7.0;\"/><ellipse cx=\"213.33\" cy=\"201\" fill=\"#FFFFFF\" rx=\"8\" ry=\"8\" style=\"stroke: #383838; stroke-width: 1.0;\"/><line style=\"stroke: #383838; stroke-width: 1.0;\" x1=\"213.33\" x2=\"213.33\" y1=\"209\" y2=\"193\"/><line style=\"stroke: #383838; stroke-width: 1.0;\" x1=\"205.33\" x2=\"221.33\" y1=\"201\" y2=\"201\"/><text fill=\"#000000\" font-family=\"sans-serif\" font-size=\"13\" lengthAdjust=\"spacingAndGlyphs\" textLength=\"8\" x=\"206.4396\" y=\"241.8743\">1</text></a><!--MD5=[e9be52314489bd878ff4c7144b63c9e1]\n",
       "link E5 to E3--><a href=\"psysml:a968a559-ae75-4ff7-b264-66e5a143558d\" target=\"_top\" title=\"psysml:a968a559-ae75-4ff7-b264-66e5a143558d\" xlink:actuate=\"onRequest\" xlink:href=\"psysml:a968a559-ae75-4ff7-b264-66e5a143558d\" xlink:show=\"new\" xlink:title=\"psysml:a968a559-ae75-4ff7-b264-66e5a143558d\" xlink:type=\"simple\"><path d=\"M151,87 C151,118.18 151,170 151,170 C151,170 152.89,170 152.89,170 \" fill=\"none\" id=\"E5-&gt;E3\" style=\"stroke: #383838; stroke-width: 1.0;\"/><polygon fill=\"#FFFFFF\" points=\"169.89,170,150.89,177,150.89,163,169.89,170\" style=\"stroke: #383838; stroke-width: 1.0;\"/><ellipse cx=\"145.19\" cy=\"175\" fill=\"#383838\" rx=\"2\" ry=\"2\" style=\"stroke: #383838; stroke-width: 1.0;\"/><ellipse cx=\"145.19\" cy=\"165\" fill=\"#383838\" rx=\"2\" ry=\"2\" style=\"stroke: #383838; stroke-width: 1.0;\"/></a><!--MD5=[85d356282659285ab4b2cfe2f634dd2b]\n",
       "reverse link E5 to E6--><a href=\"psysml:167a231e-25d4-4100-8e0d-53e0a4e750c8\" target=\"_top\" title=\"psysml:167a231e-25d4-4100-8e0d-53e0a4e750c8\" xlink:actuate=\"onRequest\" xlink:href=\"psysml:167a231e-25d4-4100-8e0d-53e0a4e750c8\" xlink:show=\"new\" xlink:title=\"psysml:167a231e-25d4-4100-8e0d-53e0a4e750c8\" xlink:type=\"simple\"><path d=\"M126,100 C126,100 126,146.68 126,146.68 \" fill=\"none\" id=\"E5&lt;-E6\" style=\"stroke: #383838; stroke-width: 1.0;\"/><polygon fill=\"#FFFFFF\" points=\"126,87,122,93,126,99,130,93,126,87\" style=\"stroke: #383838; stroke-width: 1.0;\"/><text fill=\"#000000\" font-family=\"sans-serif\" font-size=\"13\" lengthAdjust=\"spacingAndGlyphs\" textLength=\"8\" x=\"120.05\" y=\"135.8743\">1</text></a><!--MD5=[f667431f98296947986a1a7595a31603]\n",
       "link E6 to E4--><a href=\"psysml:57ff51c2-e85d-4f72-aa72-bbf7c251408b\" target=\"_top\" title=\"psysml:57ff51c2-e85d-4f72-aa72-bbf7c251408b\" xlink:actuate=\"onRequest\" xlink:href=\"psysml:57ff51c2-e85d-4f72-aa72-bbf7c251408b\" xlink:show=\"new\" xlink:title=\"psysml:57ff51c2-e85d-4f72-aa72-bbf7c251408b\" xlink:type=\"simple\"><path d=\"M122,193 C122,224.18 122,276 122,276 C122,276 159.65,276 159.65,276 \" fill=\"none\" id=\"E6-&gt;E4\" style=\"stroke: #383838; stroke-width: 1.0;\"/><polygon fill=\"#FFFFFF\" points=\"179.65,276,160.65,283,160.65,269,179.65,276\" style=\"stroke: #383838; stroke-width: 1.0;\"/><line style=\"stroke: #383838; stroke-width: 2.0;\" x1=\"156.85\" x2=\"156.85\" y1=\"283\" y2=\"269\"/></a><!--MD5=[14ccda38c055a5c0da953d572bc50960]\n",
       "link E7 to E3--><a href=\"psysml:a1db7df5-c75d-4551-8d1a-744022949b4d\" target=\"_top\" title=\"psysml:a1db7df5-c75d-4551-8d1a-744022949b4d\" xlink:actuate=\"onRequest\" xlink:href=\"psysml:a1db7df5-c75d-4551-8d1a-744022949b4d\" xlink:show=\"new\" xlink:title=\"psysml:a1db7df5-c75d-4551-8d1a-744022949b4d\" xlink:type=\"simple\"><path d=\"M77.25,87.09 C77.25,101.37 77.25,117 77.25,117 C77.25,117 186.25,117 186.25,117 C186.25,117 186.25,126.91 186.25,126.91 \" fill=\"none\" id=\"E7-&gt;E3\" style=\"stroke: #383838; stroke-width: 1.0;\"/><polygon fill=\"#FFFFFF\" points=\"186.25,146.91,179.25,127.91,193.25,127.91,186.25,146.91\" style=\"stroke: #383838; stroke-width: 1.0;\"/><ellipse cx=\"181.25\" cy=\"122.21\" fill=\"#383838\" rx=\"2\" ry=\"2\" style=\"stroke: #383838; stroke-width: 1.0;\"/><ellipse cx=\"191.25\" cy=\"122.21\" fill=\"#383838\" rx=\"2\" ry=\"2\" style=\"stroke: #383838; stroke-width: 1.0;\"/></a><!--MD5=[dc164f5e8a733ab456ef1add180e9e34]\n",
       "reverse link E7 to E8--><a href=\"psysml:f57d57d9-12d9-410c-acd5-2b53e0560bbf\" target=\"_top\" title=\"psysml:f57d57d9-12d9-410c-acd5-2b53e0560bbf\" xlink:actuate=\"onRequest\" xlink:href=\"psysml:f57d57d9-12d9-410c-acd5-2b53e0560bbf\" xlink:show=\"new\" xlink:title=\"psysml:f57d57d9-12d9-410c-acd5-2b53e0560bbf\" xlink:type=\"simple\"><path d=\"M67.75,100.09 C67.75,100.09 67.75,252.94 67.75,252.94 \" fill=\"none\" id=\"E7&lt;-E8\" style=\"stroke: #383838; stroke-width: 1.0;\"/><polygon fill=\"#FFFFFF\" points=\"67.75,87.09,63.75,93.09,67.75,99.09,71.75,93.09,67.75,87.09\" style=\"stroke: #383838; stroke-width: 1.0;\"/><text fill=\"#000000\" font-family=\"sans-serif\" font-size=\"13\" lengthAdjust=\"spacingAndGlyphs\" textLength=\"8\" x=\"53.7703\" y=\"241.8201\">1</text></a><!--MD5=[dc164f5e8a733ab456ef1add180e9e34]\n",
       "reverse link E7 to E8--><a href=\"psysml:b8781950-4d8a-4fb9-9fe0-7c7847cd278f\" target=\"_top\" title=\"psysml:b8781950-4d8a-4fb9-9fe0-7c7847cd278f\" xlink:actuate=\"onRequest\" xlink:href=\"psysml:b8781950-4d8a-4fb9-9fe0-7c7847cd278f\" xlink:show=\"new\" xlink:title=\"psysml:b8781950-4d8a-4fb9-9fe0-7c7847cd278f\" xlink:type=\"simple\"><path d=\"M72.5,102.09 C72.5,102.09 72.5,252.94 72.5,252.94 \" fill=\"none\" id=\"E7&lt;-E8-1\" style=\"stroke: #383838; stroke-width: 1.0; stroke-dasharray: 7.0,7.0;\"/><ellipse cx=\"72.5\" cy=\"95.09\" fill=\"#FFFFFF\" rx=\"8\" ry=\"8\" style=\"stroke: #383838; stroke-width: 1.0;\"/><line style=\"stroke: #383838; stroke-width: 1.0;\" x1=\"72.5\" x2=\"72.5\" y1=\"103.09\" y2=\"87.09\"/><line style=\"stroke: #383838; stroke-width: 1.0;\" x1=\"64.5\" x2=\"80.5\" y1=\"95.09\" y2=\"95.09\"/><text fill=\"#000000\" font-family=\"sans-serif\" font-size=\"13\" lengthAdjust=\"spacingAndGlyphs\" textLength=\"8\" x=\"69.9469\" y=\"241.8201\">1</text></a><!--MD5=[0a839d0f80c2d72d4b9b307f046d0de8]\n",
       "link E6 to E8--><a href=\"psysml:117cd7b6-777c-4755-88f6-d7a432271d85\" target=\"_top\" title=\"psysml:117cd7b6-777c-4755-88f6-d7a432271d85\" xlink:actuate=\"onRequest\" xlink:href=\"psysml:117cd7b6-777c-4755-88f6-d7a432271d85\" xlink:show=\"new\" xlink:title=\"psysml:117cd7b6-777c-4755-88f6-d7a432271d85\" xlink:type=\"simple\"><path d=\"M98.33,193 C98.33,210.66 98.33,234.94 98.33,252.68 \" fill=\"none\" id=\"E6-E8\" style=\"stroke: #383838; stroke-width: 3.0;\"/><text fill=\"#000000\" font-family=\"sans-serif\" font-size=\"13\" lengthAdjust=\"spacingAndGlyphs\" textLength=\"7\" x=\"93.5927\" y=\"241.8743\">*</text></a><!--MD5=[0a839d0f80c2d72d4b9b307f046d0de8]\n",
       "link E6 to E8--><a href=\"psysml:c7325d6a-fceb-4e80-be50-eff52df502df\" target=\"_top\" title=\"psysml:c7325d6a-fceb-4e80-be50-eff52df502df\" xlink:actuate=\"onRequest\" xlink:href=\"psysml:c7325d6a-fceb-4e80-be50-eff52df502df\" xlink:show=\"new\" xlink:title=\"psysml:c7325d6a-fceb-4e80-be50-eff52df502df\" xlink:type=\"simple\"><path d=\"M103.67,193 C103.67,210.66 103.67,234.94 103.67,252.68 \" fill=\"none\" id=\"E6-E8-1\" style=\"stroke: #383838; stroke-width: 3.0;\"/><text fill=\"#000000\" font-family=\"sans-serif\" font-size=\"13\" lengthAdjust=\"spacingAndGlyphs\" textLength=\"7\" x=\"109.0948\" y=\"241.8743\">*</text></a><!--MD5=[f560510ab194248b20a757918ae3064a]\n",
       "@startuml\r\n",
       "skinparam linetype ortho\r\n",
       "skinparam monochrome true\r\n",
       "skinparam classbackgroundcolor white\r\n",
       "skinparam shadowing false\r\n",
       "skinparam wrapWidth 300\r\n",
       "hide circle\r\n",
       "\r\n",
       "package \"AliasTest\" as E1  [[psysml:6242facc-ff06-44d1-b4f3-467b2ef71334 ]]  {\r\n",
       "comp usage \"b :> ISQSpaceTime::width\" as E2  <<(T,blue) attribute>> [[psysml:c7d5118b-0b42-4b21-9071-aba180ff097b ]] {\r\n",
       "}\r\n",
       "comp def \"P1\" as E3  <<(T,blue) part  def>> [[psysml:f3a385fe-c72f-4489-86aa-e832e0f5c54b ]] {\r\n",
       "}\r\n",
       "comp usage \"porig1 \" as E4  <<(T,blue) port>> [[psysml:12c3f617-858e-4877-bab3-72d077a58110 ]] {\r\n",
       "}\r\n",
       "comp usage \"p1: P1 \" as E5  <<(T,blue) part>> [[psysml:f19cd7cf-ead7-487d-acf0-998c02877f08 ]] {\r\n",
       "}\r\n",
       "comp usage \"po1 \" as E6  <<(T,blue) port>> [[psysml:7bd77f36-e1da-430e-90ed-8aecc87780c5 ]] {\r\n",
       "}\r\n",
       "comp usage \"p2: P1 \" as E7  <<(T,blue) part>> [[psysml:3758ddaf-2d7c-4372-b46d-cbe5af56d102 ]] {\r\n",
       "}\r\n",
       "comp usage \"pdest \" as E8  <<(T,blue) port>> [[psysml:009efb1a-81d8-4f5e-8e24-a878e8625106 ]] {\r\n",
       "}\r\n",
       "}\r\n",
       "E3 o- - \"1\"E4 [[psysml:97bd4c72-9c32-47a6-a147-0b42cd362230 ]] \r\n",
       "E3 +.. \"1\"E4 [[psysml:dd790abf-ac6c-4371-bdbb-56cf5ab0181d ]] \r\n",
       "E5 - -:|> E3 [[psysml:a968a559-ae75-4ff7-b264-66e5a143558d ]] \r\n",
       "E5 o- - \"1\"E6 [[psysml:167a231e-25d4-4100-8e0d-53e0a4e750c8 ]] \r\n",
       "E6 - -||> E4 [[psysml:57ff51c2-e85d-4f72-aa72-bbf7c251408b ]] \r\n",
       "E7 - -:|> E3 [[psysml:a1db7df5-c75d-4551-8d1a-744022949b4d ]] \r\n",
       "E7 o- - \"1\"E8 [[psysml:f57d57d9-12d9-410c-acd5-2b53e0560bbf ]] \r\n",
       "E7 +.. \"1\"E8 [[psysml:b8781950-4d8a-4fb9-9fe0-7c7847cd278f ]] \r\n",
       "E6 -[thickness=3]- \"*\"E8 [[psysml:117cd7b6-777c-4755-88f6-d7a432271d85 ]] \r\n",
       "E6 -[thickness=3]- \"*\"E8 [[psysml:c7325d6a-fceb-4e80-be50-eff52df502df ]] \r\n",
       "@enduml\r\n",
       "\n",
       "PlantUML version 1.2020.13(Sat Jun 13 12:26:38 UTC 2020)\n",
       "(EPL source distribution)\n",
       "Java Runtime: OpenJDK Runtime Environment\n",
       "JVM: OpenJDK 64-Bit Server VM\n",
       "Default Encoding: UTF-8\n",
       "Language: en\n",
       "Country: null\n",
       "--></g></svg>"
      ]
     },
     "execution_count": 52,
     "metadata": {},
     "output_type": "execute_result"
    }
   ],
   "source": [
    "%viz --style=\"ORTHOLINE\" --view=\"Tree\" \"AliasTest\""
   ]
  },
  {
   "cell_type": "code",
   "execution_count": 53,
   "id": "abc35bd9",
   "metadata": {
    "execution": {
     "iopub.execute_input": "2022-03-21T07:52:19.089759Z",
     "iopub.status.busy": "2022-03-21T07:52:19.089322Z",
     "iopub.status.idle": "2022-03-21T07:52:19.094618Z",
     "shell.execute_reply": "2022-03-21T07:52:19.094282Z"
    }
   },
   "outputs": [
    {
     "data": {
      "image/svg+xml": [
       "<?xml version=\"1.0\" encoding=\"UTF-8\" standalone=\"no\"?><svg xmlns=\"http://www.w3.org/2000/svg\" xmlns:xlink=\"http://www.w3.org/1999/xlink\" contentScriptType=\"application/ecmascript\" contentStyleType=\"text/css\" height=\"12px\" preserveAspectRatio=\"none\" style=\"width:12px;height:12px;\" version=\"1.1\" viewBox=\"0 0 12 12\" width=\"12px\" zoomAndPan=\"magnify\"><defs/><g><!--MD5=[97d6f38768b311333d388e66b2b27985]\n",
       "@startuml\r\n",
       "skinparam linetype ortho\r\n",
       "skinparam monochrome true\r\n",
       "skinparam classbackgroundcolor white\r\n",
       "skinparam shadowing false\r\n",
       "skinparam wrapWidth 300\r\n",
       "hide circle\r\n",
       "\r\n",
       "@enduml\r\n",
       "\n",
       "PlantUML version 1.2020.13(Sat Jun 13 12:26:38 UTC 2020)\n",
       "(EPL source distribution)\n",
       "Java Runtime: OpenJDK Runtime Environment\n",
       "JVM: OpenJDK 64-Bit Server VM\n",
       "Default Encoding: UTF-8\n",
       "Language: en\n",
       "Country: null\n",
       "--></g></svg>"
      ]
     },
     "execution_count": 53,
     "metadata": {},
     "output_type": "execute_result"
    }
   ],
   "source": [
    "%viz --style=\"ORTHOLINE\" --view=\"State\" \"AliasTest\""
   ]
  },
  {
   "cell_type": "code",
   "execution_count": 54,
   "id": "e8318957",
   "metadata": {
    "execution": {
     "iopub.execute_input": "2022-03-21T07:52:19.144093Z",
     "iopub.status.busy": "2022-03-21T07:52:19.143688Z",
     "iopub.status.idle": "2022-03-21T07:52:19.178379Z",
     "shell.execute_reply": "2022-03-21T07:52:19.177045Z"
    }
   },
   "outputs": [
    {
     "data": {
      "image/svg+xml": [
       "<?xml version=\"1.0\" encoding=\"UTF-8\" standalone=\"no\"?><svg xmlns=\"http://www.w3.org/2000/svg\" xmlns:xlink=\"http://www.w3.org/1999/xlink\" contentScriptType=\"application/ecmascript\" contentStyleType=\"text/css\" height=\"233px\" preserveAspectRatio=\"none\" style=\"width:572px;height:233px;\" version=\"1.1\" viewBox=\"0 0 572 233\" width=\"572px\" zoomAndPan=\"magnify\"><defs/><g><!--MD5=[fbc87193dbaf4d95561dea2c320d4a47]\n",
       "cluster E1--><a href=\"psysml:6242facc-ff06-44d1-b4f3-467b2ef71334\" target=\"_top\" title=\"psysml:6242facc-ff06-44d1-b4f3-467b2ef71334\" xlink:actuate=\"onRequest\" xlink:href=\"psysml:6242facc-ff06-44d1-b4f3-467b2ef71334\" xlink:show=\"new\" xlink:title=\"psysml:6242facc-ff06-44d1-b4f3-467b2ef71334\" xlink:type=\"simple\"><polygon fill=\"#FFFFFF\" points=\"16,6,84,6,91,28.2969,550,28.2969,550,221,16,221,16,6\" style=\"stroke: #000000; stroke-width: 1.5;\"/><line style=\"stroke: #000000; stroke-width: 1.5;\" x1=\"16\" x2=\"91\" y1=\"28.2969\" y2=\"28.2969\"/><text fill=\"#000000\" font-family=\"sans-serif\" font-size=\"14\" font-weight=\"bold\" lengthAdjust=\"spacingAndGlyphs\" textLength=\"62\" x=\"20\" y=\"20.9951\">AliasTest</text></a><!--MD5=[d5e69f78d87373223dbae638b30a9c99]\n",
       "cluster E3--><a href=\"psysml:f3a385fe-c72f-4489-86aa-e832e0f5c54b\" target=\"_top\" title=\"psysml:f3a385fe-c72f-4489-86aa-e832e0f5c54b\" xlink:actuate=\"onRequest\" xlink:href=\"psysml:f3a385fe-c72f-4489-86aa-e832e0f5c54b\" xlink:show=\"new\" xlink:title=\"psysml:f3a385fe-c72f-4489-86aa-e832e0f5c54b\" xlink:type=\"simple\"><rect fill=\"#FFFFFF\" height=\"90\" id=\"E3\" style=\"stroke: #383838; stroke-width: 1.5;\" width=\"85\" x=\"407\" y=\"64\"/><rect fill=\"#F8F8F8\" height=\"37.9375\" style=\"stroke: #383838; stroke-width: 1.5;\" width=\"85\" x=\"407\" y=\"64\"/><text fill=\"#000000\" font-family=\"sans-serif\" font-size=\"12\" font-style=\"italic\" lengthAdjust=\"spacingAndGlyphs\" textLength=\"68\" x=\"415.5\" y=\"80.1387\">«part  def»</text><text fill=\"#000000\" font-family=\"sans-serif\" font-size=\"12\" lengthAdjust=\"spacingAndGlyphs\" textLength=\"16\" x=\"441.5\" y=\"94.1074\">P1</text></a><!--MD5=[14e3b0961a2654348d326746436168a1]\n",
       "cluster E6--><a href=\"psysml:f19cd7cf-ead7-487d-acf0-998c02877f08\" target=\"_top\" title=\"psysml:f19cd7cf-ead7-487d-acf0-998c02877f08\" xlink:actuate=\"onRequest\" xlink:href=\"psysml:f19cd7cf-ead7-487d-acf0-998c02877f08\" xlink:show=\"new\" xlink:title=\"psysml:f19cd7cf-ead7-487d-acf0-998c02877f08\" xlink:type=\"simple\"><rect fill=\"#FFFFFF\" height=\"82\" id=\"E6\" rx=\"10\" ry=\"10\" style=\"stroke: #383838; stroke-width: 1.5;\" width=\"98\" x=\"206\" y=\"64\"/><rect fill=\"#F8F8F8\" height=\"23.9688\" rx=\"10\" ry=\"10\" style=\"stroke: #F8F8F8; stroke-width: 1.5;\" width=\"98\" x=\"206\" y=\"64\"/><rect fill=\"#F8F8F8\" height=\"10\" style=\"stroke: #F8F8F8; stroke-width: 1.5;\" width=\"98\" x=\"206\" y=\"77.9688\"/><rect fill=\"none\" height=\"82\" id=\"E6\" rx=\"10\" ry=\"10\" style=\"stroke: #383838; stroke-width: 1.5;\" width=\"98\" x=\"206\" y=\"64\"/><text fill=\"#000000\" font-family=\"sans-serif\" font-size=\"12\" lengthAdjust=\"spacingAndGlyphs\" textLength=\"40\" x=\"235\" y=\"80.1387\">p1: P1</text><line style=\"stroke: #383838; stroke-width: 1.0;\" x1=\"206\" x2=\"304\" y1=\"87.9688\" y2=\"87.9688\"/></a><!--MD5=[55dfccfc6c49c2d10cd1bd2211a6c90c]\n",
       "cluster E8--><a href=\"psysml:3758ddaf-2d7c-4372-b46d-cbe5af56d102\" target=\"_top\" title=\"psysml:3758ddaf-2d7c-4372-b46d-cbe5af56d102\" xlink:actuate=\"onRequest\" xlink:href=\"psysml:3758ddaf-2d7c-4372-b46d-cbe5af56d102\" xlink:show=\"new\" xlink:title=\"psysml:3758ddaf-2d7c-4372-b46d-cbe5af56d102\" xlink:type=\"simple\"><rect fill=\"#FFFFFF\" height=\"84.5\" id=\"E8\" rx=\"10\" ry=\"10\" style=\"stroke: #383838; stroke-width: 1.5;\" width=\"83\" x=\"307\" y=\"120.5\"/><rect fill=\"#F8F8F8\" height=\"23.9688\" rx=\"10\" ry=\"10\" style=\"stroke: #F8F8F8; stroke-width: 1.5;\" width=\"83\" x=\"307\" y=\"120.5\"/><rect fill=\"#F8F8F8\" height=\"10\" style=\"stroke: #F8F8F8; stroke-width: 1.5;\" width=\"83\" x=\"307\" y=\"134.4688\"/><rect fill=\"none\" height=\"84.5\" id=\"E8\" rx=\"10\" ry=\"10\" style=\"stroke: #383838; stroke-width: 1.5;\" width=\"83\" x=\"307\" y=\"120.5\"/><text fill=\"#000000\" font-family=\"sans-serif\" font-size=\"12\" lengthAdjust=\"spacingAndGlyphs\" textLength=\"40\" x=\"328.5\" y=\"136.6387\">p2: P1</text><line style=\"stroke: #383838; stroke-width: 1.0;\" x1=\"307\" x2=\"390\" y1=\"144.4688\" y2=\"144.4688\"/></a><!--MD5=[b4997ac47864f28c2f74865a473b2911]\n",
       "class E2--><a href=\"psysml:c7d5118b-0b42-4b21-9071-aba180ff097b\" target=\"_top\" title=\"psysml:c7d5118b-0b42-4b21-9071-aba180ff097b\" xlink:actuate=\"onRequest\" xlink:href=\"psysml:c7d5118b-0b42-4b21-9071-aba180ff097b\" xlink:show=\"new\" xlink:title=\"psysml:c7d5118b-0b42-4b21-9071-aba180ff097b\" xlink:type=\"simple\"><rect fill=\"#FFFFFF\" height=\"45.9375\" id=\"E2\" rx=\"10\" ry=\"10\" style=\"stroke: #383838; stroke-width: 1.5;\" width=\"165\" x=\"32.5\" y=\"41\"/><text fill=\"#000000\" font-family=\"sans-serif\" font-size=\"12\" font-style=\"italic\" lengthAdjust=\"spacingAndGlyphs\" textLength=\"69\" x=\"80.5\" y=\"57.1387\">«attribute»</text><text fill=\"#000000\" font-family=\"sans-serif\" font-size=\"12\" lengthAdjust=\"spacingAndGlyphs\" textLength=\"159\" x=\"35.5\" y=\"71.1074\">b :&gt; ISQSpaceTime::width</text><line style=\"stroke: #383838; stroke-width: 1.5;\" x1=\"33.5\" x2=\"196.5\" y1=\"78.9375\" y2=\"78.9375\"/></a><text fill=\"#000000\" font-family=\"sans-serif\" font-size=\"14\" lengthAdjust=\"spacingAndGlyphs\" textLength=\"44\" x=\"401\" y=\"42.6982\">porig1</text><rect fill=\"#383838\" height=\"12\" style=\"stroke: #F8F8F8; stroke-width: 1.5;\" width=\"12\" x=\"419\" y=\"58\"/><text fill=\"#000000\" font-family=\"sans-serif\" font-size=\"14\" lengthAdjust=\"spacingAndGlyphs\" textLength=\"44\" x=\"448\" y=\"42.6982\">porig1</text><rect fill=\"#383838\" height=\"12\" style=\"stroke: #F8F8F8; stroke-width: 1.5;\" width=\"12\" x=\"466\" y=\"58\"/><text fill=\"#000000\" font-family=\"sans-serif\" font-size=\"14\" lengthAdjust=\"spacingAndGlyphs\" textLength=\"27\" x=\"270.5\" y=\"42.6982\">po1</text><rect fill=\"#383838\" height=\"12\" style=\"stroke: #F8F8F8; stroke-width: 1.5;\" width=\"12\" x=\"280\" y=\"58\"/><text fill=\"#000000\" font-family=\"sans-serif\" font-size=\"14\" lengthAdjust=\"spacingAndGlyphs\" textLength=\"40\" x=\"303\" y=\"99.1982\">pdest</text><rect fill=\"#383838\" height=\"12\" style=\"stroke: #F8F8F8; stroke-width: 1.5;\" width=\"12\" x=\"319\" y=\"114.5\"/><text fill=\"#000000\" font-family=\"sans-serif\" font-size=\"14\" lengthAdjust=\"spacingAndGlyphs\" textLength=\"40\" x=\"350\" y=\"99.1982\">pdest</text><rect fill=\"#383838\" height=\"12\" style=\"stroke: #F8F8F8; stroke-width: 1.5;\" width=\"12\" x=\"366\" y=\"114.5\"/><!--MD5=[1c0b9414cc86e0744215edee6abd8926]\n",
       "link E7 to E9--><a href=\"psysml:117cd7b6-777c-4755-88f6-d7a432271d85\" target=\"_top\" title=\"psysml:117cd7b6-777c-4755-88f6-d7a432271d85\" xlink:actuate=\"onRequest\" xlink:href=\"psysml:117cd7b6-777c-4755-88f6-d7a432271d85\" xlink:show=\"new\" xlink:title=\"psysml:117cd7b6-777c-4755-88f6-d7a432271d85\" xlink:type=\"simple\"><path d=\"M289.88,70.19 C289.88,84.38 289.88,118 289.88,118 C289.88,118 308.82,118 318.88,118 \" fill=\"none\" id=\"E7-E9\" style=\"stroke: #383838; stroke-width: 3.0;\"/><text fill=\"#000000\" font-family=\"sans-serif\" font-size=\"13\" lengthAdjust=\"spacingAndGlyphs\" textLength=\"7\" x=\"303.9435\" y=\"106.8717\">*</text></a><!--MD5=[1c0b9414cc86e0744215edee6abd8926]\n",
       "link E7 to E9--><a href=\"psysml:c7325d6a-fceb-4e80-be50-eff52df502df\" target=\"_top\" title=\"psysml:c7325d6a-fceb-4e80-be50-eff52df502df\" xlink:actuate=\"onRequest\" xlink:href=\"psysml:c7325d6a-fceb-4e80-be50-eff52df502df\" xlink:show=\"new\" xlink:title=\"psysml:c7325d6a-fceb-4e80-be50-eff52df502df\" xlink:type=\"simple\"><path d=\"M287.75,70.1 C287.75,84.8 287.75,121 287.75,121 C287.75,121 308.27,121 318.85,121 \" fill=\"none\" id=\"E7-E9-1\" style=\"stroke: #383838; stroke-width: 3.0;\"/><text fill=\"#000000\" font-family=\"sans-serif\" font-size=\"13\" lengthAdjust=\"spacingAndGlyphs\" textLength=\"7\" x=\"303.8888\" y=\"139.7217\">*</text></a><!--MD5=[7c132a4983ffdcea06dca18e28b9d326]\n",
       "@startuml\r\n",
       "skinparam ranksep 10\r\n",
       "skinparam rectangle {\r\n",
       " backgroundColor<<block>> LightGreen\r\n",
       "}\r\n",
       "skinparam linetype ortho\r\n",
       "skinparam monochrome true\r\n",
       "skinparam classbackgroundcolor white\r\n",
       "skinparam shadowing false\r\n",
       "skinparam wrapWidth 300\r\n",
       "hide circle\r\n",
       "\r\n",
       "package \"AliasTest\" as E1  [[psysml:6242facc-ff06-44d1-b4f3-467b2ef71334 ]]  {\r\n",
       "comp usage \"b :> ISQSpaceTime::width\" as E2  <<(T,blue) attribute>> [[psysml:c7d5118b-0b42-4b21-9071-aba180ff097b ]] {\r\n",
       "}\r\n",
       "rec def \"P1\" as E3  <<(T,blue) part  def>> [[psysml:f3a385fe-c72f-4489-86aa-e832e0f5c54b ]] {\r\n",
       "portin \"porig1 \" as E4  <<(T,blue) port>> [[psysml:12c3f617-858e-4877-bab3-72d077a58110 ]] \r\n",
       "portin \"porig1 \" as E5  <<(T,blue) port>> [[psysml:12c3f617-858e-4877-bab3-72d077a58110 ]] \r\n",
       "}\r\n",
       "rec usage \"p1: P1\" as E6  [[psysml:f19cd7cf-ead7-487d-acf0-998c02877f08 ]] {\r\n",
       "portin \"po1 \" as E7  <<(T,blue) port>> [[psysml:7bd77f36-e1da-430e-90ed-8aecc87780c5 ]] \r\n",
       "}\r\n",
       "rec usage \"p2: P1\" as E8  [[psysml:3758ddaf-2d7c-4372-b46d-cbe5af56d102 ]] {\r\n",
       "portin \"pdest \" as E9  <<(T,blue) port>> [[psysml:009efb1a-81d8-4f5e-8e24-a878e8625106 ]] \r\n",
       "portin \"pdest \" as E10  <<(T,blue) port>> [[psysml:009efb1a-81d8-4f5e-8e24-a878e8625106 ]] \r\n",
       "}\r\n",
       "}\r\n",
       "E7 -[thickness=3]- \"*\"E9 [[psysml:117cd7b6-777c-4755-88f6-d7a432271d85 ]] \r\n",
       "E7 -[thickness=3]- \"*\"E9 [[psysml:c7325d6a-fceb-4e80-be50-eff52df502df ]] \r\n",
       "@enduml\r\n",
       "\n",
       "PlantUML version 1.2020.13(Sat Jun 13 12:26:38 UTC 2020)\n",
       "(EPL source distribution)\n",
       "Java Runtime: OpenJDK Runtime Environment\n",
       "JVM: OpenJDK 64-Bit Server VM\n",
       "Default Encoding: UTF-8\n",
       "Language: en\n",
       "Country: null\n",
       "--></g></svg>"
      ]
     },
     "execution_count": 54,
     "metadata": {},
     "output_type": "execute_result"
    }
   ],
   "source": [
    "%viz --style=\"ORTHOLINE\" --view=\"Interconnection\" \"AliasTest\""
   ]
  },
  {
   "cell_type": "code",
   "execution_count": 55,
   "id": "a209e078",
   "metadata": {
    "execution": {
     "iopub.execute_input": "2022-03-21T07:52:19.227793Z",
     "iopub.status.busy": "2022-03-21T07:52:19.227388Z",
     "iopub.status.idle": "2022-03-21T07:52:19.232527Z",
     "shell.execute_reply": "2022-03-21T07:52:19.232171Z"
    }
   },
   "outputs": [
    {
     "data": {
      "image/svg+xml": [
       "<?xml version=\"1.0\" encoding=\"UTF-8\" standalone=\"no\"?><svg xmlns=\"http://www.w3.org/2000/svg\" xmlns:xlink=\"http://www.w3.org/1999/xlink\" contentScriptType=\"application/ecmascript\" contentStyleType=\"text/css\" height=\"12px\" preserveAspectRatio=\"none\" style=\"width:12px;height:12px;\" version=\"1.1\" viewBox=\"0 0 12 12\" width=\"12px\" zoomAndPan=\"magnify\"><defs/><g><!--MD5=[72934c63077099a26744516a776b4749]\n",
       "@startuml\r\n",
       "skinparam ranksep 8\r\n",
       "skinparam linetype ortho\r\n",
       "skinparam monochrome true\r\n",
       "skinparam classbackgroundcolor white\r\n",
       "skinparam shadowing false\r\n",
       "skinparam wrapWidth 300\r\n",
       "hide circle\r\n",
       "\r\n",
       "@enduml\r\n",
       "\n",
       "PlantUML version 1.2020.13(Sat Jun 13 12:26:38 UTC 2020)\n",
       "(EPL source distribution)\n",
       "Java Runtime: OpenJDK Runtime Environment\n",
       "JVM: OpenJDK 64-Bit Server VM\n",
       "Default Encoding: UTF-8\n",
       "Language: en\n",
       "Country: null\n",
       "--></g></svg>"
      ]
     },
     "execution_count": 55,
     "metadata": {},
     "output_type": "execute_result"
    }
   ],
   "source": [
    "%viz --style=\"ORTHOLINE\" --view=\"Action\" \"AliasTest\""
   ]
  },
  {
   "cell_type": "code",
   "execution_count": 56,
   "id": "25602e88",
   "metadata": {
    "execution": {
     "iopub.execute_input": "2022-03-21T07:52:19.282374Z",
     "iopub.status.busy": "2022-03-21T07:52:19.281980Z",
     "iopub.status.idle": "2022-03-21T07:52:19.287039Z",
     "shell.execute_reply": "2022-03-21T07:52:19.286686Z"
    }
   },
   "outputs": [
    {
     "data": {
      "image/svg+xml": [
       "<?xml version=\"1.0\" encoding=\"UTF-8\" standalone=\"no\"?><svg xmlns=\"http://www.w3.org/2000/svg\" xmlns:xlink=\"http://www.w3.org/1999/xlink\" contentScriptType=\"application/ecmascript\" contentStyleType=\"text/css\" height=\"12px\" preserveAspectRatio=\"none\" style=\"width:12px;height:12px;\" version=\"1.1\" viewBox=\"0 0 12 12\" width=\"12px\" zoomAndPan=\"magnify\"><defs/><g><!--MD5=[30fc1de5121c5abddedd55b44417fde8]\n",
       "@startuml\r\n",
       "skinparam roundcorner 20\r\n",
       "skinparam BoxPadding 20\r\n",
       "skinparam SequenceBoxBackgroundColor #white\r\n",
       "skinparam style strictuml\r\n",
       "skinparam maxMessageSize 100\r\n",
       "skinparam linetype ortho\r\n",
       "skinparam monochrome true\r\n",
       "skinparam classbackgroundcolor white\r\n",
       "skinparam shadowing false\r\n",
       "skinparam wrapWidth 300\r\n",
       "hide circle\r\n",
       "\r\n",
       "@enduml\r\n",
       "\n",
       "PlantUML version 1.2020.13(Sat Jun 13 12:26:38 UTC 2020)\n",
       "(EPL source distribution)\n",
       "Java Runtime: OpenJDK Runtime Environment\n",
       "JVM: OpenJDK 64-Bit Server VM\n",
       "Default Encoding: UTF-8\n",
       "Language: en\n",
       "Country: null\n",
       "--></g></svg>"
      ]
     },
     "execution_count": 56,
     "metadata": {},
     "output_type": "execute_result"
    }
   ],
   "source": [
    "%viz --style=\"ORTHOLINE\" --view=\"Sequence\" \"AliasTest\""
   ]
  },
  {
   "cell_type": "code",
   "execution_count": 57,
   "id": "723d7106",
   "metadata": {
    "execution": {
     "iopub.execute_input": "2022-03-21T07:52:19.337226Z",
     "iopub.status.busy": "2022-03-21T07:52:19.336798Z",
     "iopub.status.idle": "2022-03-21T07:52:19.373453Z",
     "shell.execute_reply": "2022-03-21T07:52:19.371887Z"
    }
   },
   "outputs": [
    {
     "data": {
      "image/svg+xml": [
       "<?xml version=\"1.0\" encoding=\"UTF-8\" standalone=\"no\"?><svg xmlns=\"http://www.w3.org/2000/svg\" xmlns:xlink=\"http://www.w3.org/1999/xlink\" contentScriptType=\"application/ecmascript\" contentStyleType=\"text/css\" height=\"327px\" preserveAspectRatio=\"none\" style=\"width:406px;height:327px;\" version=\"1.1\" viewBox=\"0 0 406 327\" width=\"406px\" zoomAndPan=\"magnify\"><defs/><g><!--MD5=[fbc87193dbaf4d95561dea2c320d4a47]\n",
       "cluster E1--><a href=\"psysml:6242facc-ff06-44d1-b4f3-467b2ef71334\" target=\"_top\" title=\"psysml:6242facc-ff06-44d1-b4f3-467b2ef71334\" xlink:actuate=\"onRequest\" xlink:href=\"psysml:6242facc-ff06-44d1-b4f3-467b2ef71334\" xlink:show=\"new\" xlink:title=\"psysml:6242facc-ff06-44d1-b4f3-467b2ef71334\" xlink:type=\"simple\"><polygon fill=\"#FFFFFF\" points=\"16,6,84,6,91,28.2969,384,28.2969,384,315,16,315,16,6\" style=\"stroke: #000000; stroke-width: 1.5;\"/><line style=\"stroke: #000000; stroke-width: 1.5;\" x1=\"16\" x2=\"91\" y1=\"28.2969\" y2=\"28.2969\"/><text fill=\"#000000\" font-family=\"sans-serif\" font-size=\"14\" font-weight=\"bold\" lengthAdjust=\"spacingAndGlyphs\" textLength=\"62\" x=\"20\" y=\"20.9951\">AliasTest</text></a><!--MD5=[b4997ac47864f28c2f74865a473b2911]\n",
       "class E2--><a href=\"psysml:c7d5118b-0b42-4b21-9071-aba180ff097b\" target=\"_top\" title=\"psysml:c7d5118b-0b42-4b21-9071-aba180ff097b\" xlink:actuate=\"onRequest\" xlink:href=\"psysml:c7d5118b-0b42-4b21-9071-aba180ff097b\" xlink:show=\"new\" xlink:title=\"psysml:c7d5118b-0b42-4b21-9071-aba180ff097b\" xlink:type=\"simple\"><rect fill=\"#FFFFFF\" height=\"45.9375\" id=\"E2\" rx=\"10\" ry=\"10\" style=\"stroke: #383838; stroke-width: 1.5;\" width=\"165\" x=\"202.5\" y=\"41\"/><text fill=\"#000000\" font-family=\"sans-serif\" font-size=\"12\" font-style=\"italic\" lengthAdjust=\"spacingAndGlyphs\" textLength=\"69\" x=\"250.5\" y=\"57.1387\">«attribute»</text><text fill=\"#000000\" font-family=\"sans-serif\" font-size=\"12\" lengthAdjust=\"spacingAndGlyphs\" textLength=\"159\" x=\"205.5\" y=\"71.1074\">b :&gt; ISQSpaceTime::width</text><line style=\"stroke: #383838; stroke-width: 1.5;\" x1=\"203.5\" x2=\"366.5\" y1=\"78.9375\" y2=\"78.9375\"/></a><!--MD5=[09b614a08d8cba4a07c9adeb5e0fee81]\n",
       "class E3--><a href=\"psysml:f3a385fe-c72f-4489-86aa-e832e0f5c54b\" target=\"_top\" title=\"psysml:f3a385fe-c72f-4489-86aa-e832e0f5c54b\" xlink:actuate=\"onRequest\" xlink:href=\"psysml:f3a385fe-c72f-4489-86aa-e832e0f5c54b\" xlink:show=\"new\" xlink:title=\"psysml:f3a385fe-c72f-4489-86aa-e832e0f5c54b\" xlink:type=\"simple\"><rect fill=\"#FFFFFF\" height=\"45.9375\" id=\"E3\" style=\"stroke: #383838; stroke-width: 1.5;\" width=\"70\" x=\"170\" y=\"147\"/><text fill=\"#000000\" font-family=\"sans-serif\" font-size=\"12\" font-style=\"italic\" lengthAdjust=\"spacingAndGlyphs\" textLength=\"68\" x=\"171\" y=\"163.1387\">«part  def»</text><text fill=\"#000000\" font-family=\"sans-serif\" font-size=\"12\" lengthAdjust=\"spacingAndGlyphs\" textLength=\"16\" x=\"197\" y=\"177.1074\">P1</text><line style=\"stroke: #383838; stroke-width: 1.5;\" x1=\"171\" x2=\"239\" y1=\"184.9375\" y2=\"184.9375\"/></a><!--MD5=[ebbe1d658d1005bcc118a6aa81145e00]\n",
       "class E4--><a href=\"psysml:12c3f617-858e-4877-bab3-72d077a58110\" target=\"_top\" title=\"psysml:12c3f617-858e-4877-bab3-72d077a58110\" xlink:actuate=\"onRequest\" xlink:href=\"psysml:12c3f617-858e-4877-bab3-72d077a58110\" xlink:show=\"new\" xlink:title=\"psysml:12c3f617-858e-4877-bab3-72d077a58110\" xlink:type=\"simple\"><rect fill=\"#FFFFFF\" height=\"45.9375\" id=\"E4\" rx=\"10\" ry=\"10\" style=\"stroke: #383838; stroke-width: 1.5;\" width=\"50\" x=\"180\" y=\"253\"/><text fill=\"#000000\" font-family=\"sans-serif\" font-size=\"12\" font-style=\"italic\" lengthAdjust=\"spacingAndGlyphs\" textLength=\"40\" x=\"185\" y=\"269.1387\">«port»</text><text fill=\"#000000\" font-family=\"sans-serif\" font-size=\"12\" lengthAdjust=\"spacingAndGlyphs\" textLength=\"40\" x=\"183\" y=\"283.1074\">porig1</text><line style=\"stroke: #383838; stroke-width: 1.5;\" x1=\"181\" x2=\"229\" y1=\"290.9375\" y2=\"290.9375\"/></a><!--MD5=[270fce915f116d4de14055a7c1d9a0f3]\n",
       "class E5--><a href=\"psysml:f19cd7cf-ead7-487d-acf0-998c02877f08\" target=\"_top\" title=\"psysml:f19cd7cf-ead7-487d-acf0-998c02877f08\" xlink:actuate=\"onRequest\" xlink:href=\"psysml:f19cd7cf-ead7-487d-acf0-998c02877f08\" xlink:show=\"new\" xlink:title=\"psysml:f19cd7cf-ead7-487d-acf0-998c02877f08\" xlink:type=\"simple\"><rect fill=\"#FFFFFF\" height=\"45.9375\" id=\"E5\" rx=\"10\" ry=\"10\" style=\"stroke: #383838; stroke-width: 1.5;\" width=\"50\" x=\"117\" y=\"41\"/><text fill=\"#000000\" font-family=\"sans-serif\" font-size=\"12\" font-style=\"italic\" lengthAdjust=\"spacingAndGlyphs\" textLength=\"40\" x=\"122\" y=\"57.1387\">«part»</text><text fill=\"#000000\" font-family=\"sans-serif\" font-size=\"12\" lengthAdjust=\"spacingAndGlyphs\" textLength=\"40\" x=\"120\" y=\"71.1074\">p1: P1</text><line style=\"stroke: #383838; stroke-width: 1.5;\" x1=\"118\" x2=\"166\" y1=\"78.9375\" y2=\"78.9375\"/></a><!--MD5=[60a26617385b1d2d0262a64233df1f8d]\n",
       "class E6--><a href=\"psysml:7bd77f36-e1da-430e-90ed-8aecc87780c5\" target=\"_top\" title=\"psysml:7bd77f36-e1da-430e-90ed-8aecc87780c5\" xlink:actuate=\"onRequest\" xlink:href=\"psysml:7bd77f36-e1da-430e-90ed-8aecc87780c5\" xlink:show=\"new\" xlink:title=\"psysml:7bd77f36-e1da-430e-90ed-8aecc87780c5\" xlink:type=\"simple\"><rect fill=\"#FFFFFF\" height=\"45.9375\" id=\"E6\" rx=\"10\" ry=\"10\" style=\"stroke: #383838; stroke-width: 1.5;\" width=\"42\" x=\"93\" y=\"147\"/><text fill=\"#000000\" font-family=\"sans-serif\" font-size=\"12\" font-style=\"italic\" lengthAdjust=\"spacingAndGlyphs\" textLength=\"40\" x=\"94\" y=\"163.1387\">«port»</text><text fill=\"#000000\" font-family=\"sans-serif\" font-size=\"12\" lengthAdjust=\"spacingAndGlyphs\" textLength=\"24\" x=\"100\" y=\"177.1074\">po1</text><line style=\"stroke: #383838; stroke-width: 1.5;\" x1=\"94\" x2=\"134\" y1=\"184.9375\" y2=\"184.9375\"/></a><!--MD5=[2156ba9850f5573cc1fc38a6a4b2f02b]\n",
       "class E7--><a href=\"psysml:3758ddaf-2d7c-4372-b46d-cbe5af56d102\" target=\"_top\" title=\"psysml:3758ddaf-2d7c-4372-b46d-cbe5af56d102\" xlink:actuate=\"onRequest\" xlink:href=\"psysml:3758ddaf-2d7c-4372-b46d-cbe5af56d102\" xlink:show=\"new\" xlink:title=\"psysml:3758ddaf-2d7c-4372-b46d-cbe5af56d102\" xlink:type=\"simple\"><rect fill=\"#FFFFFF\" height=\"45.9375\" id=\"E7\" rx=\"10\" ry=\"10\" style=\"stroke: #383838; stroke-width: 1.5;\" width=\"50\" x=\"32\" y=\"41\"/><text fill=\"#000000\" font-family=\"sans-serif\" font-size=\"12\" font-style=\"italic\" lengthAdjust=\"spacingAndGlyphs\" textLength=\"40\" x=\"37\" y=\"57.1387\">«part»</text><text fill=\"#000000\" font-family=\"sans-serif\" font-size=\"12\" lengthAdjust=\"spacingAndGlyphs\" textLength=\"40\" x=\"35\" y=\"71.1074\">p2: P1</text><line style=\"stroke: #383838; stroke-width: 1.5;\" x1=\"33\" x2=\"81\" y1=\"78.9375\" y2=\"78.9375\"/></a><!--MD5=[b9389687b975829384b498ac4b7476b2]\n",
       "class E8--><a href=\"psysml:009efb1a-81d8-4f5e-8e24-a878e8625106\" target=\"_top\" title=\"psysml:009efb1a-81d8-4f5e-8e24-a878e8625106\" xlink:actuate=\"onRequest\" xlink:href=\"psysml:009efb1a-81d8-4f5e-8e24-a878e8625106\" xlink:show=\"new\" xlink:title=\"psysml:009efb1a-81d8-4f5e-8e24-a878e8625106\" xlink:type=\"simple\"><rect fill=\"#FFFFFF\" height=\"45.9375\" id=\"E8\" rx=\"10\" ry=\"10\" style=\"stroke: #383838; stroke-width: 1.5;\" width=\"46\" x=\"63\" y=\"253\"/><text fill=\"#000000\" font-family=\"sans-serif\" font-size=\"12\" font-style=\"italic\" lengthAdjust=\"spacingAndGlyphs\" textLength=\"40\" x=\"66\" y=\"269.1387\">«port»</text><text fill=\"#000000\" font-family=\"sans-serif\" font-size=\"12\" lengthAdjust=\"spacingAndGlyphs\" textLength=\"36\" x=\"66\" y=\"283.1074\">pdest</text><line style=\"stroke: #383838; stroke-width: 1.5;\" x1=\"64\" x2=\"108\" y1=\"290.9375\" y2=\"290.9375\"/></a><!--MD5=[4672eba38e49728da53d11aeb285b987]\n",
       "reverse link E3 to E4--><a href=\"psysml:97bd4c72-9c32-47a6-a147-0b42cd362230\" target=\"_top\" title=\"psysml:97bd4c72-9c32-47a6-a147-0b42cd362230\" xlink:actuate=\"onRequest\" xlink:href=\"psysml:97bd4c72-9c32-47a6-a147-0b42cd362230\" xlink:show=\"new\" xlink:title=\"psysml:97bd4c72-9c32-47a6-a147-0b42cd362230\" xlink:type=\"simple\"><path d=\"M196.67,206 C196.67,206 196.67,252.68 196.67,252.68 \" fill=\"none\" id=\"E3&lt;-E4\" style=\"stroke: #383838; stroke-width: 1.0;\"/><polygon fill=\"#FFFFFF\" points=\"196.67,193,192.67,199,196.67,205,200.67,199,196.67,193\" style=\"stroke: #383838; stroke-width: 1.0;\"/><text fill=\"#000000\" font-family=\"sans-serif\" font-size=\"13\" lengthAdjust=\"spacingAndGlyphs\" textLength=\"8\" x=\"185.5104\" y=\"241.8743\">1</text></a><!--MD5=[4672eba38e49728da53d11aeb285b987]\n",
       "reverse link E3 to E4--><a href=\"psysml:dd790abf-ac6c-4371-bdbb-56cf5ab0181d\" target=\"_top\" title=\"psysml:dd790abf-ac6c-4371-bdbb-56cf5ab0181d\" xlink:actuate=\"onRequest\" xlink:href=\"psysml:dd790abf-ac6c-4371-bdbb-56cf5ab0181d\" xlink:show=\"new\" xlink:title=\"psysml:dd790abf-ac6c-4371-bdbb-56cf5ab0181d\" xlink:type=\"simple\"><path d=\"M213.33,208 C213.33,208 213.33,252.68 213.33,252.68 \" fill=\"none\" id=\"E3&lt;-E4-1\" style=\"stroke: #383838; stroke-width: 1.0; stroke-dasharray: 7.0,7.0;\"/><ellipse cx=\"213.33\" cy=\"201\" fill=\"#FFFFFF\" rx=\"8\" ry=\"8\" style=\"stroke: #383838; stroke-width: 1.0;\"/><line style=\"stroke: #383838; stroke-width: 1.0;\" x1=\"213.33\" x2=\"213.33\" y1=\"209\" y2=\"193\"/><line style=\"stroke: #383838; stroke-width: 1.0;\" x1=\"205.33\" x2=\"221.33\" y1=\"201\" y2=\"201\"/><text fill=\"#000000\" font-family=\"sans-serif\" font-size=\"13\" lengthAdjust=\"spacingAndGlyphs\" textLength=\"8\" x=\"206.4396\" y=\"241.8743\">1</text></a><!--MD5=[e9be52314489bd878ff4c7144b63c9e1]\n",
       "link E5 to E3--><a href=\"psysml:a968a559-ae75-4ff7-b264-66e5a143558d\" target=\"_top\" title=\"psysml:a968a559-ae75-4ff7-b264-66e5a143558d\" xlink:actuate=\"onRequest\" xlink:href=\"psysml:a968a559-ae75-4ff7-b264-66e5a143558d\" xlink:show=\"new\" xlink:title=\"psysml:a968a559-ae75-4ff7-b264-66e5a143558d\" xlink:type=\"simple\"><path d=\"M151,87 C151,118.18 151,170 151,170 C151,170 152.89,170 152.89,170 \" fill=\"none\" id=\"E5-&gt;E3\" style=\"stroke: #383838; stroke-width: 1.0;\"/><polygon fill=\"#FFFFFF\" points=\"169.89,170,150.89,177,150.89,163,169.89,170\" style=\"stroke: #383838; stroke-width: 1.0;\"/><ellipse cx=\"145.19\" cy=\"175\" fill=\"#383838\" rx=\"2\" ry=\"2\" style=\"stroke: #383838; stroke-width: 1.0;\"/><ellipse cx=\"145.19\" cy=\"165\" fill=\"#383838\" rx=\"2\" ry=\"2\" style=\"stroke: #383838; stroke-width: 1.0;\"/></a><!--MD5=[85d356282659285ab4b2cfe2f634dd2b]\n",
       "reverse link E5 to E6--><a href=\"psysml:167a231e-25d4-4100-8e0d-53e0a4e750c8\" target=\"_top\" title=\"psysml:167a231e-25d4-4100-8e0d-53e0a4e750c8\" xlink:actuate=\"onRequest\" xlink:href=\"psysml:167a231e-25d4-4100-8e0d-53e0a4e750c8\" xlink:show=\"new\" xlink:title=\"psysml:167a231e-25d4-4100-8e0d-53e0a4e750c8\" xlink:type=\"simple\"><path d=\"M126,100 C126,100 126,146.68 126,146.68 \" fill=\"none\" id=\"E5&lt;-E6\" style=\"stroke: #383838; stroke-width: 1.0;\"/><polygon fill=\"#FFFFFF\" points=\"126,87,122,93,126,99,130,93,126,87\" style=\"stroke: #383838; stroke-width: 1.0;\"/><text fill=\"#000000\" font-family=\"sans-serif\" font-size=\"13\" lengthAdjust=\"spacingAndGlyphs\" textLength=\"8\" x=\"120.05\" y=\"135.8743\">1</text></a><!--MD5=[f667431f98296947986a1a7595a31603]\n",
       "link E6 to E4--><a href=\"psysml:57ff51c2-e85d-4f72-aa72-bbf7c251408b\" target=\"_top\" title=\"psysml:57ff51c2-e85d-4f72-aa72-bbf7c251408b\" xlink:actuate=\"onRequest\" xlink:href=\"psysml:57ff51c2-e85d-4f72-aa72-bbf7c251408b\" xlink:show=\"new\" xlink:title=\"psysml:57ff51c2-e85d-4f72-aa72-bbf7c251408b\" xlink:type=\"simple\"><path d=\"M122,193 C122,224.18 122,276 122,276 C122,276 159.65,276 159.65,276 \" fill=\"none\" id=\"E6-&gt;E4\" style=\"stroke: #383838; stroke-width: 1.0;\"/><polygon fill=\"#FFFFFF\" points=\"179.65,276,160.65,283,160.65,269,179.65,276\" style=\"stroke: #383838; stroke-width: 1.0;\"/><line style=\"stroke: #383838; stroke-width: 2.0;\" x1=\"156.85\" x2=\"156.85\" y1=\"283\" y2=\"269\"/></a><!--MD5=[14ccda38c055a5c0da953d572bc50960]\n",
       "link E7 to E3--><a href=\"psysml:a1db7df5-c75d-4551-8d1a-744022949b4d\" target=\"_top\" title=\"psysml:a1db7df5-c75d-4551-8d1a-744022949b4d\" xlink:actuate=\"onRequest\" xlink:href=\"psysml:a1db7df5-c75d-4551-8d1a-744022949b4d\" xlink:show=\"new\" xlink:title=\"psysml:a1db7df5-c75d-4551-8d1a-744022949b4d\" xlink:type=\"simple\"><path d=\"M77.25,87.09 C77.25,101.37 77.25,117 77.25,117 C77.25,117 186.25,117 186.25,117 C186.25,117 186.25,126.91 186.25,126.91 \" fill=\"none\" id=\"E7-&gt;E3\" style=\"stroke: #383838; stroke-width: 1.0;\"/><polygon fill=\"#FFFFFF\" points=\"186.25,146.91,179.25,127.91,193.25,127.91,186.25,146.91\" style=\"stroke: #383838; stroke-width: 1.0;\"/><ellipse cx=\"181.25\" cy=\"122.21\" fill=\"#383838\" rx=\"2\" ry=\"2\" style=\"stroke: #383838; stroke-width: 1.0;\"/><ellipse cx=\"191.25\" cy=\"122.21\" fill=\"#383838\" rx=\"2\" ry=\"2\" style=\"stroke: #383838; stroke-width: 1.0;\"/></a><!--MD5=[dc164f5e8a733ab456ef1add180e9e34]\n",
       "reverse link E7 to E8--><a href=\"psysml:f57d57d9-12d9-410c-acd5-2b53e0560bbf\" target=\"_top\" title=\"psysml:f57d57d9-12d9-410c-acd5-2b53e0560bbf\" xlink:actuate=\"onRequest\" xlink:href=\"psysml:f57d57d9-12d9-410c-acd5-2b53e0560bbf\" xlink:show=\"new\" xlink:title=\"psysml:f57d57d9-12d9-410c-acd5-2b53e0560bbf\" xlink:type=\"simple\"><path d=\"M67.75,100.09 C67.75,100.09 67.75,252.94 67.75,252.94 \" fill=\"none\" id=\"E7&lt;-E8\" style=\"stroke: #383838; stroke-width: 1.0;\"/><polygon fill=\"#FFFFFF\" points=\"67.75,87.09,63.75,93.09,67.75,99.09,71.75,93.09,67.75,87.09\" style=\"stroke: #383838; stroke-width: 1.0;\"/><text fill=\"#000000\" font-family=\"sans-serif\" font-size=\"13\" lengthAdjust=\"spacingAndGlyphs\" textLength=\"8\" x=\"53.7703\" y=\"241.8201\">1</text></a><!--MD5=[dc164f5e8a733ab456ef1add180e9e34]\n",
       "reverse link E7 to E8--><a href=\"psysml:b8781950-4d8a-4fb9-9fe0-7c7847cd278f\" target=\"_top\" title=\"psysml:b8781950-4d8a-4fb9-9fe0-7c7847cd278f\" xlink:actuate=\"onRequest\" xlink:href=\"psysml:b8781950-4d8a-4fb9-9fe0-7c7847cd278f\" xlink:show=\"new\" xlink:title=\"psysml:b8781950-4d8a-4fb9-9fe0-7c7847cd278f\" xlink:type=\"simple\"><path d=\"M72.5,102.09 C72.5,102.09 72.5,252.94 72.5,252.94 \" fill=\"none\" id=\"E7&lt;-E8-1\" style=\"stroke: #383838; stroke-width: 1.0; stroke-dasharray: 7.0,7.0;\"/><ellipse cx=\"72.5\" cy=\"95.09\" fill=\"#FFFFFF\" rx=\"8\" ry=\"8\" style=\"stroke: #383838; stroke-width: 1.0;\"/><line style=\"stroke: #383838; stroke-width: 1.0;\" x1=\"72.5\" x2=\"72.5\" y1=\"103.09\" y2=\"87.09\"/><line style=\"stroke: #383838; stroke-width: 1.0;\" x1=\"64.5\" x2=\"80.5\" y1=\"95.09\" y2=\"95.09\"/><text fill=\"#000000\" font-family=\"sans-serif\" font-size=\"13\" lengthAdjust=\"spacingAndGlyphs\" textLength=\"8\" x=\"69.9469\" y=\"241.8201\">1</text></a><!--MD5=[0a839d0f80c2d72d4b9b307f046d0de8]\n",
       "link E6 to E8--><a href=\"psysml:117cd7b6-777c-4755-88f6-d7a432271d85\" target=\"_top\" title=\"psysml:117cd7b6-777c-4755-88f6-d7a432271d85\" xlink:actuate=\"onRequest\" xlink:href=\"psysml:117cd7b6-777c-4755-88f6-d7a432271d85\" xlink:show=\"new\" xlink:title=\"psysml:117cd7b6-777c-4755-88f6-d7a432271d85\" xlink:type=\"simple\"><path d=\"M98.33,193 C98.33,210.66 98.33,234.94 98.33,252.68 \" fill=\"none\" id=\"E6-E8\" style=\"stroke: #383838; stroke-width: 3.0;\"/><text fill=\"#000000\" font-family=\"sans-serif\" font-size=\"13\" lengthAdjust=\"spacingAndGlyphs\" textLength=\"7\" x=\"93.5927\" y=\"241.8743\">*</text></a><!--MD5=[0a839d0f80c2d72d4b9b307f046d0de8]\n",
       "link E6 to E8--><a href=\"psysml:c7325d6a-fceb-4e80-be50-eff52df502df\" target=\"_top\" title=\"psysml:c7325d6a-fceb-4e80-be50-eff52df502df\" xlink:actuate=\"onRequest\" xlink:href=\"psysml:c7325d6a-fceb-4e80-be50-eff52df502df\" xlink:show=\"new\" xlink:title=\"psysml:c7325d6a-fceb-4e80-be50-eff52df502df\" xlink:type=\"simple\"><path d=\"M103.67,193 C103.67,210.66 103.67,234.94 103.67,252.68 \" fill=\"none\" id=\"E6-E8-1\" style=\"stroke: #383838; stroke-width: 3.0;\"/><text fill=\"#000000\" font-family=\"sans-serif\" font-size=\"13\" lengthAdjust=\"spacingAndGlyphs\" textLength=\"7\" x=\"109.0948\" y=\"241.8743\">*</text></a><!--MD5=[f560510ab194248b20a757918ae3064a]\n",
       "@startuml\r\n",
       "skinparam linetype ortho\r\n",
       "skinparam monochrome true\r\n",
       "skinparam classbackgroundcolor white\r\n",
       "skinparam shadowing false\r\n",
       "skinparam wrapWidth 300\r\n",
       "hide circle\r\n",
       "\r\n",
       "package \"AliasTest\" as E1  [[psysml:6242facc-ff06-44d1-b4f3-467b2ef71334 ]]  {\r\n",
       "comp usage \"b :> ISQSpaceTime::width\" as E2  <<(T,blue) attribute>> [[psysml:c7d5118b-0b42-4b21-9071-aba180ff097b ]] {\r\n",
       "}\r\n",
       "comp def \"P1\" as E3  <<(T,blue) part  def>> [[psysml:f3a385fe-c72f-4489-86aa-e832e0f5c54b ]] {\r\n",
       "}\r\n",
       "comp usage \"porig1 \" as E4  <<(T,blue) port>> [[psysml:12c3f617-858e-4877-bab3-72d077a58110 ]] {\r\n",
       "}\r\n",
       "comp usage \"p1: P1 \" as E5  <<(T,blue) part>> [[psysml:f19cd7cf-ead7-487d-acf0-998c02877f08 ]] {\r\n",
       "}\r\n",
       "comp usage \"po1 \" as E6  <<(T,blue) port>> [[psysml:7bd77f36-e1da-430e-90ed-8aecc87780c5 ]] {\r\n",
       "}\r\n",
       "comp usage \"p2: P1 \" as E7  <<(T,blue) part>> [[psysml:3758ddaf-2d7c-4372-b46d-cbe5af56d102 ]] {\r\n",
       "}\r\n",
       "comp usage \"pdest \" as E8  <<(T,blue) port>> [[psysml:009efb1a-81d8-4f5e-8e24-a878e8625106 ]] {\r\n",
       "}\r\n",
       "}\r\n",
       "E3 o- - \"1\"E4 [[psysml:97bd4c72-9c32-47a6-a147-0b42cd362230 ]] \r\n",
       "E3 +.. \"1\"E4 [[psysml:dd790abf-ac6c-4371-bdbb-56cf5ab0181d ]] \r\n",
       "E5 - -:|> E3 [[psysml:a968a559-ae75-4ff7-b264-66e5a143558d ]] \r\n",
       "E5 o- - \"1\"E6 [[psysml:167a231e-25d4-4100-8e0d-53e0a4e750c8 ]] \r\n",
       "E6 - -||> E4 [[psysml:57ff51c2-e85d-4f72-aa72-bbf7c251408b ]] \r\n",
       "E7 - -:|> E3 [[psysml:a1db7df5-c75d-4551-8d1a-744022949b4d ]] \r\n",
       "E7 o- - \"1\"E8 [[psysml:f57d57d9-12d9-410c-acd5-2b53e0560bbf ]] \r\n",
       "E7 +.. \"1\"E8 [[psysml:b8781950-4d8a-4fb9-9fe0-7c7847cd278f ]] \r\n",
       "E6 -[thickness=3]- \"*\"E8 [[psysml:117cd7b6-777c-4755-88f6-d7a432271d85 ]] \r\n",
       "E6 -[thickness=3]- \"*\"E8 [[psysml:c7325d6a-fceb-4e80-be50-eff52df502df ]] \r\n",
       "@enduml\r\n",
       "\n",
       "PlantUML version 1.2020.13(Sat Jun 13 12:26:38 UTC 2020)\n",
       "(EPL source distribution)\n",
       "Java Runtime: OpenJDK Runtime Environment\n",
       "JVM: OpenJDK 64-Bit Server VM\n",
       "Default Encoding: UTF-8\n",
       "Language: en\n",
       "Country: null\n",
       "--></g></svg>"
      ]
     },
     "execution_count": 57,
     "metadata": {},
     "output_type": "execute_result"
    }
   ],
   "source": [
    "%viz --style=\"ORTHOLINE\" --view=\"MIXED\" \"AliasTest\""
   ]
  }
 ],
 "metadata": {
  "kernelspec": {
   "display_name": "SysML",
   "language": "sysml",
   "name": "sysml"
  },
  "language_info": {
   "codemirror_mode": "sysml",
   "file_extension": ".sysml",
   "mimetype": "text/x-sysml",
   "name": "SysML",
   "pygments_lexer": "java",
   "version": "1.0.0"
  }
 },
 "nbformat": 4,
 "nbformat_minor": 5
}
