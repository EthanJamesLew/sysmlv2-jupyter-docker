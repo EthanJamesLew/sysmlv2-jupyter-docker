{
 "cells": [
  {
   "cell_type": "markdown",
   "id": "5fc9e272",
   "metadata": {},
   "source": [
    "# SysML v2 Test Suite\n",
    "\n",
    "This can notebook can be cleared using menu `Edit --> Clear All Outputs` and then all cells can be\n",
    "run using menu `Run --> Run All Cells`.\n",
    "\n",
    "**WARNING**: This file is generated, all modifications here will be ignored.\n"
   ]
  },
  {
   "cell_type": "markdown",
   "id": "6fd7eca4",
   "metadata": {},
   "source": [
    "## File: ../../sysml/src/examples/Simple Tests/AliasTest.sysml"
   ]
  },
  {
   "cell_type": "code",
   "execution_count": 1,
   "id": "8b69bd6d",
   "metadata": {
    "execution": {
     "iopub.execute_input": "2021-08-04T06:25:29.072828Z",
     "iopub.status.busy": "2021-08-04T06:25:29.071620Z",
     "iopub.status.idle": "2021-08-04T06:25:29.357437Z",
     "shell.execute_reply": "2021-08-04T06:25:29.356926Z"
    }
   },
   "outputs": [
    {
     "data": {
      "text/plain": [
       "Package AliasTest (fc8281c4-ed08-4fcd-81e4-c22da3a08457)\n"
      ]
     },
     "execution_count": 1,
     "metadata": {},
     "output_type": "execute_result"
    }
   ],
   "source": [
    "package AliasTest {\n",
    "\timport Quantities::quantities; // import of an alias\t\n",
    "\tattribute q :> quantities;\n",
    "\t\n",
    "    part def P1 {\n",
    "        port porig1;\n",
    "        alias po1 for porig1;\n",
    "    }\n",
    "\n",
    "    part p1 : P1 {\n",
    "        port po1 :>> po1;\n",
    "    }\n",
    "\n",
    "    part p2 : P1 {\n",
    "        port pdest;\n",
    "        alias pd1 for pdest;\n",
    "    }\n",
    "\n",
    "\n",
    "    connect p1.po1 to p2.pdest;\n",
    "\tconnect p1.po1 to p2.pd1;\n",
    "}"
   ]
  },
  {
   "cell_type": "code",
   "execution_count": 2,
   "id": "4c935041",
   "metadata": {
    "execution": {
     "iopub.execute_input": "2021-08-04T06:25:29.408367Z",
     "iopub.status.busy": "2021-08-04T06:25:29.407948Z",
     "iopub.status.idle": "2021-08-04T06:25:29.834097Z",
     "shell.execute_reply": "2021-08-04T06:25:29.832996Z"
    }
   },
   "outputs": [
    {
     "data": {
      "image/svg+xml": [
       "<?xml version=\"1.0\" encoding=\"UTF-8\" standalone=\"no\"?><svg xmlns=\"http://www.w3.org/2000/svg\" xmlns:xlink=\"http://www.w3.org/1999/xlink\" contentScriptType=\"application/ecmascript\" contentStyleType=\"text/css\" height=\"399px\" preserveAspectRatio=\"none\" style=\"width:350px;height:399px;\" version=\"1.1\" viewBox=\"0 0 350 399\" width=\"350px\" zoomAndPan=\"magnify\"><defs/><g><!--MD5=[fbc87193dbaf4d95561dea2c320d4a47]\n",
       "cluster E1--><a href=\"psysml:7e4311dd-4dd4-41de-a431-b17c5d614850\" target=\"_top\" title=\"psysml:7e4311dd-4dd4-41de-a431-b17c5d614850\" xlink:actuate=\"onRequest\" xlink:href=\"psysml:7e4311dd-4dd4-41de-a431-b17c5d614850\" xlink:show=\"new\" xlink:title=\"psysml:7e4311dd-4dd4-41de-a431-b17c5d614850\" xlink:type=\"simple\"><polygon fill=\"#FFFFFF\" points=\"16,6,94,6,101,28.2969,328,28.2969,328,387,16,387,16,6\" style=\"stroke: #000000; stroke-width: 1.5;\"/><line style=\"stroke: #000000; stroke-width: 1.5;\" x1=\"16\" x2=\"101\" y1=\"28.2969\" y2=\"28.2969\"/><text fill=\"#000000\" font-family=\"sans-serif\" font-size=\"14\" font-weight=\"bold\" lengthAdjust=\"spacingAndGlyphs\" textLength=\"72\" x=\"20\" y=\"20.9951\">AliasTest</text></a><!--MD5=[b4997ac47864f28c2f74865a473b2911]\n",
       "class E2--><a href=\"psysml:789c28e5-5e95-405e-84fa-948507b238dc\" target=\"_top\" title=\"psysml:789c28e5-5e95-405e-84fa-948507b238dc\" xlink:actuate=\"onRequest\" xlink:href=\"psysml:789c28e5-5e95-405e-84fa-948507b238dc\" xlink:show=\"new\" xlink:title=\"psysml:789c28e5-5e95-405e-84fa-948507b238dc\" xlink:type=\"simple\"><rect fill=\"#FFFFFF\" height=\"45.9375\" id=\"E2\" rx=\"10\" ry=\"10\" style=\"stroke: #383838; stroke-width: 1.5;\" width=\"71\" x=\"240.5\" y=\"62\"/><text fill=\"#000000\" font-family=\"sans-serif\" font-size=\"12\" font-style=\"italic\" lengthAdjust=\"spacingAndGlyphs\" textLength=\"69\" x=\"241.5\" y=\"78.1387\">«attribute»</text><text fill=\"#000000\" font-family=\"sans-serif\" font-size=\"12\" lengthAdjust=\"spacingAndGlyphs\" textLength=\"8\" x=\"272\" y=\"92.1074\">q</text><line style=\"stroke: #383838; stroke-width: 1.5;\" x1=\"241.5\" x2=\"310.5\" y1=\"99.9375\" y2=\"99.9375\"/></a><!--MD5=[09b614a08d8cba4a07c9adeb5e0fee81]\n",
       "class E3--><a href=\"psysml:00588ae4-2df7-4d57-b3d7-e09c73d2d5b1\" target=\"_top\" title=\"psysml:00588ae4-2df7-4d57-b3d7-e09c73d2d5b1\" xlink:actuate=\"onRequest\" xlink:href=\"psysml:00588ae4-2df7-4d57-b3d7-e09c73d2d5b1\" xlink:show=\"new\" xlink:title=\"psysml:00588ae4-2df7-4d57-b3d7-e09c73d2d5b1\" xlink:type=\"simple\"><rect fill=\"#FFFFFF\" height=\"75.5469\" id=\"E3\" style=\"stroke: #383838; stroke-width: 1.5;\" width=\"66\" x=\"118\" y=\"189\"/><text fill=\"#000000\" font-family=\"sans-serif\" font-size=\"12\" font-style=\"italic\" lengthAdjust=\"spacingAndGlyphs\" textLength=\"64\" x=\"119\" y=\"205.1387\">«part def»</text><text fill=\"#000000\" font-family=\"sans-serif\" font-size=\"12\" lengthAdjust=\"spacingAndGlyphs\" textLength=\"16\" x=\"143\" y=\"219.1074\">P1</text><line style=\"stroke: #383838; stroke-width: 1.5;\" x1=\"119\" x2=\"183\" y1=\"226.9375\" y2=\"226.9375\"/><text fill=\"#000000\" font-family=\"sans-serif\" font-size=\"11\" lengthAdjust=\"spacingAndGlyphs\" textLength=\"36\" x=\"124\" y=\"257.9526\">porig1</text><line style=\"stroke: #383838; stroke-width: 1.0;\" x1=\"119\" x2=\"136\" y1=\"241.3398\" y2=\"241.3398\"/><text fill=\"#000000\" font-family=\"sans-serif\" font-size=\"11\" lengthAdjust=\"spacingAndGlyphs\" textLength=\"30\" x=\"136\" y=\"244.6479\">ports</text><line style=\"stroke: #383838; stroke-width: 1.0;\" x1=\"166\" x2=\"183\" y1=\"241.3398\" y2=\"241.3398\"/></a><!--MD5=[ebbe1d658d1005bcc118a6aa81145e00]\n",
       "class E4--><a href=\"psysml:236a437d-3673-4742-905a-959f5dd42893\" target=\"_top\" title=\"psysml:236a437d-3673-4742-905a-959f5dd42893\" xlink:actuate=\"onRequest\" xlink:href=\"psysml:236a437d-3673-4742-905a-959f5dd42893\" xlink:show=\"new\" xlink:title=\"psysml:236a437d-3673-4742-905a-959f5dd42893\" xlink:type=\"simple\"><rect fill=\"#FFFFFF\" height=\"45.9375\" id=\"E4\" rx=\"10\" ry=\"10\" style=\"stroke: #383838; stroke-width: 1.5;\" width=\"46\" x=\"128\" y=\"325\"/><text fill=\"#000000\" font-family=\"sans-serif\" font-size=\"12\" font-style=\"italic\" lengthAdjust=\"spacingAndGlyphs\" textLength=\"40\" x=\"131\" y=\"341.1387\">«port»</text><text fill=\"#000000\" font-family=\"sans-serif\" font-size=\"12\" lengthAdjust=\"spacingAndGlyphs\" textLength=\"40\" x=\"131\" y=\"355.1074\">porig1</text><line style=\"stroke: #383838; stroke-width: 1.5;\" x1=\"129\" x2=\"173\" y1=\"362.9375\" y2=\"362.9375\"/></a><!--MD5=[270fce915f116d4de14055a7c1d9a0f3]\n",
       "class E5--><a href=\"psysml:4e54ee4d-012b-498f-93d7-1afb3759d34d\" target=\"_top\" title=\"psysml:4e54ee4d-012b-498f-93d7-1afb3759d34d\" xlink:actuate=\"onRequest\" xlink:href=\"psysml:4e54ee4d-012b-498f-93d7-1afb3759d34d\" xlink:show=\"new\" xlink:title=\"psysml:4e54ee4d-012b-498f-93d7-1afb3759d34d\" xlink:type=\"simple\"><rect fill=\"#FFFFFF\" height=\"88.3516\" id=\"E5\" rx=\"10\" ry=\"10\" style=\"stroke: #383838; stroke-width: 1.5;\" width=\"92\" x=\"113\" y=\"41\"/><text fill=\"#000000\" font-family=\"sans-serif\" font-size=\"12\" font-style=\"italic\" lengthAdjust=\"spacingAndGlyphs\" textLength=\"40\" x=\"139\" y=\"57.1387\">«part»</text><text fill=\"#000000\" font-family=\"sans-serif\" font-size=\"12\" lengthAdjust=\"spacingAndGlyphs\" textLength=\"40\" x=\"139\" y=\"71.1074\">p1: P1</text><line style=\"stroke: #383838; stroke-width: 1.5;\" x1=\"114\" x2=\"204\" y1=\"78.9375\" y2=\"78.9375\"/><text fill=\"#000000\" font-family=\"sans-serif\" font-size=\"11\" lengthAdjust=\"spacingAndGlyphs\" textLength=\"30\" x=\"119\" y=\"109.9526\">^po1</text><text fill=\"#000000\" font-family=\"sans-serif\" font-size=\"11\" font-style=\"italic\" lengthAdjust=\"spacingAndGlyphs\" textLength=\"80\" x=\"119\" y=\"122.7573\">:&gt;&gt;P1::porig1</text><line style=\"stroke: #383838; stroke-width: 1.0;\" x1=\"114\" x2=\"144\" y1=\"93.3398\" y2=\"93.3398\"/><text fill=\"#000000\" font-family=\"sans-serif\" font-size=\"11\" lengthAdjust=\"spacingAndGlyphs\" textLength=\"30\" x=\"144\" y=\"96.6479\">ports</text><line style=\"stroke: #383838; stroke-width: 1.0;\" x1=\"174\" x2=\"204\" y1=\"93.3398\" y2=\"93.3398\"/></a><!--MD5=[60a26617385b1d2d0262a64233df1f8d]\n",
       "class E6--><a href=\"psysml:77eadb46-ce1a-4e0f-9527-bb06765d2ea7\" target=\"_top\" title=\"psysml:77eadb46-ce1a-4e0f-9527-bb06765d2ea7\" xlink:actuate=\"onRequest\" xlink:href=\"psysml:77eadb46-ce1a-4e0f-9527-bb06765d2ea7\" xlink:show=\"new\" xlink:title=\"psysml:77eadb46-ce1a-4e0f-9527-bb06765d2ea7\" xlink:type=\"simple\"><rect fill=\"#FFFFFF\" height=\"75.5469\" id=\"E6\" rx=\"10\" ry=\"10\" style=\"stroke: #383838; stroke-width: 1.5;\" width=\"46\" x=\"32\" y=\"47\"/><text fill=\"#000000\" font-family=\"sans-serif\" font-size=\"12\" font-style=\"italic\" lengthAdjust=\"spacingAndGlyphs\" textLength=\"40\" x=\"35\" y=\"63.1387\">«part»</text><text fill=\"#000000\" font-family=\"sans-serif\" font-size=\"12\" lengthAdjust=\"spacingAndGlyphs\" textLength=\"40\" x=\"35\" y=\"77.1074\">p2: P1</text><line style=\"stroke: #383838; stroke-width: 1.5;\" x1=\"33\" x2=\"77\" y1=\"84.9375\" y2=\"84.9375\"/><text fill=\"#000000\" font-family=\"sans-serif\" font-size=\"11\" lengthAdjust=\"spacingAndGlyphs\" textLength=\"32\" x=\"38\" y=\"115.9526\">pdest</text><line style=\"stroke: #383838; stroke-width: 1.0;\" x1=\"33\" x2=\"40\" y1=\"99.3398\" y2=\"99.3398\"/><text fill=\"#000000\" font-family=\"sans-serif\" font-size=\"11\" lengthAdjust=\"spacingAndGlyphs\" textLength=\"30\" x=\"40\" y=\"102.6479\">ports</text><line style=\"stroke: #383838; stroke-width: 1.0;\" x1=\"70\" x2=\"77\" y1=\"99.3398\" y2=\"99.3398\"/></a><!--MD5=[2156ba9850f5573cc1fc38a6a4b2f02b]\n",
       "class E7--><a href=\"psysml:db28622a-fbe8-4c7d-8fe4-9e164802e944\" target=\"_top\" title=\"psysml:db28622a-fbe8-4c7d-8fe4-9e164802e944\" xlink:actuate=\"onRequest\" xlink:href=\"psysml:db28622a-fbe8-4c7d-8fe4-9e164802e944\" xlink:show=\"new\" xlink:title=\"psysml:db28622a-fbe8-4c7d-8fe4-9e164802e944\" xlink:type=\"simple\"><rect fill=\"#FFFFFF\" height=\"45.9375\" id=\"E7\" rx=\"10\" ry=\"10\" style=\"stroke: #383838; stroke-width: 1.5;\" width=\"42\" x=\"34\" y=\"204\"/><text fill=\"#000000\" font-family=\"sans-serif\" font-size=\"12\" font-style=\"italic\" lengthAdjust=\"spacingAndGlyphs\" textLength=\"40\" x=\"35\" y=\"220.1387\">«port»</text><text fill=\"#000000\" font-family=\"sans-serif\" font-size=\"12\" lengthAdjust=\"spacingAndGlyphs\" textLength=\"36\" x=\"37\" y=\"234.1074\">pdest</text><line style=\"stroke: #383838; stroke-width: 1.5;\" x1=\"35\" x2=\"75\" y1=\"241.9375\" y2=\"241.9375\"/></a><!--MD5=[4672eba38e49728da53d11aeb285b987]\n",
       "reverse link E3 to E4--><a href=\"psysml:4c29fec0-8309-450b-9bf3-4a2b28b77917\" target=\"_top\" title=\"psysml:4c29fec0-8309-450b-9bf3-4a2b28b77917\" xlink:actuate=\"onRequest\" xlink:href=\"psysml:4c29fec0-8309-450b-9bf3-4a2b28b77917\" xlink:show=\"new\" xlink:title=\"psysml:4c29fec0-8309-450b-9bf3-4a2b28b77917\" xlink:type=\"simple\"><path d=\"M151,280.29 C151,295.98 151,312.34 151,324.93 \" fill=\"none\" id=\"E3&lt;-E4\" style=\"stroke: #383838; stroke-width: 1.0; stroke-dasharray: 7.0,7.0;\"/><ellipse cx=\"151\" cy=\"273\" fill=\"#FFFFFF\" rx=\"8\" ry=\"8\" style=\"stroke: #383838; stroke-width: 1.0;\"/><line style=\"stroke: #383838; stroke-width: 1.0;\" x1=\"151\" x2=\"151\" y1=\"281\" y2=\"265\"/><line style=\"stroke: #383838; stroke-width: 1.0;\" x1=\"143\" x2=\"159\" y1=\"273\" y2=\"273\"/><text fill=\"#000000\" font-family=\"sans-serif\" font-size=\"13\" lengthAdjust=\"spacingAndGlyphs\" textLength=\"8\" x=\"141.925\" y=\"313.8075\">1</text></a><!--MD5=[e9be52314489bd878ff4c7144b63c9e1]\n",
       "link E5 to E3--><a href=\"psysml:93a52ea3-a140-4bd2-b924-ec5ad15b1b7e\" target=\"_top\" title=\"psysml:93a52ea3-a140-4bd2-b924-ec5ad15b1b7e\" xlink:actuate=\"onRequest\" xlink:href=\"psysml:93a52ea3-a140-4bd2-b924-ec5ad15b1b7e\" xlink:show=\"new\" xlink:title=\"psysml:93a52ea3-a140-4bd2-b924-ec5ad15b1b7e\" xlink:type=\"simple\"><path d=\"M156.53,129.15 C155.82,141.7 155.02,155.6 154.26,168.87 \" fill=\"none\" id=\"E5-&gt;E3\" style=\"stroke: #383838; stroke-width: 1.0;\"/><polygon fill=\"#FFFFFF\" points=\"153.12,188.9,147.2169,169.5311,161.1941,170.331,153.12,188.9\" style=\"stroke: #383838; stroke-width: 1.0;\"/><ellipse cx=\"149.5393\" cy=\"163.9547\" fill=\"#383838\" rx=\"2\" ry=\"2\" style=\"stroke: #383838; stroke-width: 1.0;\"/><ellipse cx=\"159.523\" cy=\"164.526\" fill=\"#383838\" rx=\"2\" ry=\"2\" style=\"stroke: #383838; stroke-width: 1.0;\"/></a><!--MD5=[a717450b82c80b9240a525fa862496af]\n",
       "link E6 to E3--><a href=\"psysml:87c48ed5-bc50-48bb-899d-f807bfcdc26e\" target=\"_top\" title=\"psysml:87c48ed5-bc50-48bb-899d-f807bfcdc26e\" xlink:actuate=\"onRequest\" xlink:href=\"psysml:87c48ed5-bc50-48bb-899d-f807bfcdc26e\" xlink:show=\"new\" xlink:title=\"psysml:87c48ed5-bc50-48bb-899d-f807bfcdc26e\" xlink:type=\"simple\"><path d=\"M78.24,119.89 C89.03,135.63 102.13,154.73 114.21,172.35 \" fill=\"none\" id=\"E6-&gt;E3\" style=\"stroke: #383838; stroke-width: 1.0;\"/><polygon fill=\"#FFFFFF\" points=\"125.62,188.98,109.1019,177.2689,120.6481,169.3515,125.62,188.98\" style=\"stroke: #383838; stroke-width: 1.0;\"/><ellipse cx=\"107.5278\" cy=\"171.4368\" fill=\"#383838\" rx=\"2\" ry=\"2\" style=\"stroke: #383838; stroke-width: 1.0;\"/><ellipse cx=\"115.7751\" cy=\"165.7816\" fill=\"#383838\" rx=\"2\" ry=\"2\" style=\"stroke: #383838; stroke-width: 1.0;\"/></a><!--MD5=[3f50a3473f1dfb74d3f76443e03635af]\n",
       "reverse link E6 to E7--><a href=\"psysml:4eb1c616-a5a7-47d5-8985-e84491dc2120\" target=\"_top\" title=\"psysml:4eb1c616-a5a7-47d5-8985-e84491dc2120\" xlink:actuate=\"onRequest\" xlink:href=\"psysml:4eb1c616-a5a7-47d5-8985-e84491dc2120\" xlink:show=\"new\" xlink:title=\"psysml:4eb1c616-a5a7-47d5-8985-e84491dc2120\" xlink:type=\"simple\"><path d=\"M55,138.32 C55,161.03 55,186.4 55,203.99 \" fill=\"none\" id=\"E6&lt;-E7\" style=\"stroke: #383838; stroke-width: 1.0; stroke-dasharray: 7.0,7.0;\"/><ellipse cx=\"55\" cy=\"131.15\" fill=\"#FFFFFF\" rx=\"8\" ry=\"8\" style=\"stroke: #383838; stroke-width: 1.0;\"/><line style=\"stroke: #383838; stroke-width: 1.0;\" x1=\"55\" x2=\"55\" y1=\"139.15\" y2=\"123.15\"/><line style=\"stroke: #383838; stroke-width: 1.0;\" x1=\"47\" x2=\"63\" y1=\"131.15\" y2=\"131.15\"/><text fill=\"#000000\" font-family=\"sans-serif\" font-size=\"13\" lengthAdjust=\"spacingAndGlyphs\" textLength=\"8\" x=\"45.925\" y=\"192.8836\">1</text></a><!--MD5=[b3536015acd09c4b9d0d665ec64a60f0]\n",
       "@startuml\r\n",
       " skinparam monochrome true\r\n",
       "skinparam classbackgroundcolor white\r\n",
       "skinparam shadowing false\r\n",
       "skinparam wrapWidth 300\r\n",
       "hide circle\r\n",
       "\r\n",
       "package \"AliasTest\" as E1  [[psysml:7e4311dd-4dd4-41de-a431-b17c5d614850 ]]  {\r\n",
       "comp usage \"q\" as E2  <<(T,blue) attribute>> [[psysml:789c28e5-5e95-405e-84fa-948507b238dc ]] {\r\n",
       "}\r\n",
       "comp def \"P1\" as E3  <<(T,blue) part def>> [[psysml:00588ae4-2df7-4d57-b3d7-e09c73d2d5b1 ]] {\r\n",
       "- - ports - -\r\n",
       "porig1\r\n",
       "}\r\n",
       "comp usage \"porig1\" as E4  <<(T,blue) port>> [[psysml:236a437d-3673-4742-905a-959f5dd42893 ]] {\r\n",
       "}\r\n",
       "comp usage \"p1: P1\" as E5  <<(T,blue) part>> [[psysml:4e54ee4d-012b-498f-93d7-1afb3759d34d ]] {\r\n",
       "- - ports - -\r\n",
       "^po1\\n//:>>P1::porig1// \r\n",
       "}\r\n",
       "comp usage \"p2: P1\" as E6  <<(T,blue) part>> [[psysml:77eadb46-ce1a-4e0f-9527-bb06765d2ea7 ]] {\r\n",
       "- - ports - -\r\n",
       "pdest\r\n",
       "}\r\n",
       "comp usage \"pdest\" as E7  <<(T,blue) port>> [[psysml:db28622a-fbe8-4c7d-8fe4-9e164802e944 ]] {\r\n",
       "}\r\n",
       "E3 +.. \"1\"E4 [[psysml:4c29fec0-8309-450b-9bf3-4a2b28b77917 ]] \r\n",
       "E5 - -:|> E3 [[psysml:93a52ea3-a140-4bd2-b924-ec5ad15b1b7e ]] \r\n",
       "E6 - -:|> E3 [[psysml:87c48ed5-bc50-48bb-899d-f807bfcdc26e ]] \r\n",
       "E6 +.. \"1\"E7 [[psysml:4eb1c616-a5a7-47d5-8985-e84491dc2120 ]] \r\n",
       "}\r\n",
       "@enduml\r\n",
       "\n",
       "PlantUML version 1.2020.13(Sat Jun 13 12:26:38 UTC 2020)\n",
       "(EPL source distribution)\n",
       "Java Runtime: OpenJDK Runtime Environment\n",
       "JVM: OpenJDK 64-Bit Server VM\n",
       "Default Encoding: UTF-8\n",
       "Language: en\n",
       "Country: null\n",
       "--></g></svg>"
      ]
     },
     "execution_count": 2,
     "metadata": {},
     "output_type": "execute_result"
    }
   ],
   "source": [
    "%viz --style=\"COMPTREE\" --view=\"Default\" \"AliasTest\""
   ]
  },
  {
   "cell_type": "code",
   "execution_count": 3,
   "id": "5c6b8ed4",
   "metadata": {
    "execution": {
     "iopub.execute_input": "2021-08-04T06:25:29.884104Z",
     "iopub.status.busy": "2021-08-04T06:25:29.883836Z",
     "iopub.status.idle": "2021-08-04T06:25:29.965467Z",
     "shell.execute_reply": "2021-08-04T06:25:29.965069Z"
    }
   },
   "outputs": [
    {
     "data": {
      "image/svg+xml": [
       "<?xml version=\"1.0\" encoding=\"UTF-8\" standalone=\"no\"?><svg xmlns=\"http://www.w3.org/2000/svg\" xmlns:xlink=\"http://www.w3.org/1999/xlink\" contentScriptType=\"application/ecmascript\" contentStyleType=\"text/css\" height=\"399px\" preserveAspectRatio=\"none\" style=\"width:350px;height:399px;\" version=\"1.1\" viewBox=\"0 0 350 399\" width=\"350px\" zoomAndPan=\"magnify\"><defs/><g><!--MD5=[fbc87193dbaf4d95561dea2c320d4a47]\n",
       "cluster E1--><a href=\"psysml:7e4311dd-4dd4-41de-a431-b17c5d614850\" target=\"_top\" title=\"psysml:7e4311dd-4dd4-41de-a431-b17c5d614850\" xlink:actuate=\"onRequest\" xlink:href=\"psysml:7e4311dd-4dd4-41de-a431-b17c5d614850\" xlink:show=\"new\" xlink:title=\"psysml:7e4311dd-4dd4-41de-a431-b17c5d614850\" xlink:type=\"simple\"><polygon fill=\"#FFFFFF\" points=\"16,6,94,6,101,28.2969,328,28.2969,328,387,16,387,16,6\" style=\"stroke: #000000; stroke-width: 1.5;\"/><line style=\"stroke: #000000; stroke-width: 1.5;\" x1=\"16\" x2=\"101\" y1=\"28.2969\" y2=\"28.2969\"/><text fill=\"#000000\" font-family=\"sans-serif\" font-size=\"14\" font-weight=\"bold\" lengthAdjust=\"spacingAndGlyphs\" textLength=\"72\" x=\"20\" y=\"20.9951\">AliasTest</text></a><!--MD5=[b4997ac47864f28c2f74865a473b2911]\n",
       "class E2--><a href=\"psysml:789c28e5-5e95-405e-84fa-948507b238dc\" target=\"_top\" title=\"psysml:789c28e5-5e95-405e-84fa-948507b238dc\" xlink:actuate=\"onRequest\" xlink:href=\"psysml:789c28e5-5e95-405e-84fa-948507b238dc\" xlink:show=\"new\" xlink:title=\"psysml:789c28e5-5e95-405e-84fa-948507b238dc\" xlink:type=\"simple\"><rect fill=\"#FFFFFF\" height=\"45.9375\" id=\"E2\" rx=\"10\" ry=\"10\" style=\"stroke: #383838; stroke-width: 1.5;\" width=\"71\" x=\"240.5\" y=\"62\"/><text fill=\"#000000\" font-family=\"sans-serif\" font-size=\"12\" font-style=\"italic\" lengthAdjust=\"spacingAndGlyphs\" textLength=\"69\" x=\"241.5\" y=\"78.1387\">«attribute»</text><text fill=\"#000000\" font-family=\"sans-serif\" font-size=\"12\" lengthAdjust=\"spacingAndGlyphs\" textLength=\"8\" x=\"272\" y=\"92.1074\">q</text><line style=\"stroke: #383838; stroke-width: 1.5;\" x1=\"241.5\" x2=\"310.5\" y1=\"99.9375\" y2=\"99.9375\"/></a><!--MD5=[09b614a08d8cba4a07c9adeb5e0fee81]\n",
       "class E3--><a href=\"psysml:00588ae4-2df7-4d57-b3d7-e09c73d2d5b1\" target=\"_top\" title=\"psysml:00588ae4-2df7-4d57-b3d7-e09c73d2d5b1\" xlink:actuate=\"onRequest\" xlink:href=\"psysml:00588ae4-2df7-4d57-b3d7-e09c73d2d5b1\" xlink:show=\"new\" xlink:title=\"psysml:00588ae4-2df7-4d57-b3d7-e09c73d2d5b1\" xlink:type=\"simple\"><rect fill=\"#FFFFFF\" height=\"75.5469\" id=\"E3\" style=\"stroke: #383838; stroke-width: 1.5;\" width=\"66\" x=\"118\" y=\"189\"/><text fill=\"#000000\" font-family=\"sans-serif\" font-size=\"12\" font-style=\"italic\" lengthAdjust=\"spacingAndGlyphs\" textLength=\"64\" x=\"119\" y=\"205.1387\">«part def»</text><text fill=\"#000000\" font-family=\"sans-serif\" font-size=\"12\" lengthAdjust=\"spacingAndGlyphs\" textLength=\"16\" x=\"143\" y=\"219.1074\">P1</text><line style=\"stroke: #383838; stroke-width: 1.5;\" x1=\"119\" x2=\"183\" y1=\"226.9375\" y2=\"226.9375\"/><text fill=\"#000000\" font-family=\"sans-serif\" font-size=\"11\" lengthAdjust=\"spacingAndGlyphs\" textLength=\"36\" x=\"124\" y=\"257.9526\">porig1</text><line style=\"stroke: #383838; stroke-width: 1.0;\" x1=\"119\" x2=\"136\" y1=\"241.3398\" y2=\"241.3398\"/><text fill=\"#000000\" font-family=\"sans-serif\" font-size=\"11\" lengthAdjust=\"spacingAndGlyphs\" textLength=\"30\" x=\"136\" y=\"244.6479\">ports</text><line style=\"stroke: #383838; stroke-width: 1.0;\" x1=\"166\" x2=\"183\" y1=\"241.3398\" y2=\"241.3398\"/></a><!--MD5=[ebbe1d658d1005bcc118a6aa81145e00]\n",
       "class E4--><a href=\"psysml:236a437d-3673-4742-905a-959f5dd42893\" target=\"_top\" title=\"psysml:236a437d-3673-4742-905a-959f5dd42893\" xlink:actuate=\"onRequest\" xlink:href=\"psysml:236a437d-3673-4742-905a-959f5dd42893\" xlink:show=\"new\" xlink:title=\"psysml:236a437d-3673-4742-905a-959f5dd42893\" xlink:type=\"simple\"><rect fill=\"#FFFFFF\" height=\"45.9375\" id=\"E4\" rx=\"10\" ry=\"10\" style=\"stroke: #383838; stroke-width: 1.5;\" width=\"46\" x=\"128\" y=\"325\"/><text fill=\"#000000\" font-family=\"sans-serif\" font-size=\"12\" font-style=\"italic\" lengthAdjust=\"spacingAndGlyphs\" textLength=\"40\" x=\"131\" y=\"341.1387\">«port»</text><text fill=\"#000000\" font-family=\"sans-serif\" font-size=\"12\" lengthAdjust=\"spacingAndGlyphs\" textLength=\"40\" x=\"131\" y=\"355.1074\">porig1</text><line style=\"stroke: #383838; stroke-width: 1.5;\" x1=\"129\" x2=\"173\" y1=\"362.9375\" y2=\"362.9375\"/></a><!--MD5=[270fce915f116d4de14055a7c1d9a0f3]\n",
       "class E5--><a href=\"psysml:4e54ee4d-012b-498f-93d7-1afb3759d34d\" target=\"_top\" title=\"psysml:4e54ee4d-012b-498f-93d7-1afb3759d34d\" xlink:actuate=\"onRequest\" xlink:href=\"psysml:4e54ee4d-012b-498f-93d7-1afb3759d34d\" xlink:show=\"new\" xlink:title=\"psysml:4e54ee4d-012b-498f-93d7-1afb3759d34d\" xlink:type=\"simple\"><rect fill=\"#FFFFFF\" height=\"88.3516\" id=\"E5\" rx=\"10\" ry=\"10\" style=\"stroke: #383838; stroke-width: 1.5;\" width=\"92\" x=\"113\" y=\"41\"/><text fill=\"#000000\" font-family=\"sans-serif\" font-size=\"12\" font-style=\"italic\" lengthAdjust=\"spacingAndGlyphs\" textLength=\"40\" x=\"139\" y=\"57.1387\">«part»</text><text fill=\"#000000\" font-family=\"sans-serif\" font-size=\"12\" lengthAdjust=\"spacingAndGlyphs\" textLength=\"40\" x=\"139\" y=\"71.1074\">p1: P1</text><line style=\"stroke: #383838; stroke-width: 1.5;\" x1=\"114\" x2=\"204\" y1=\"78.9375\" y2=\"78.9375\"/><text fill=\"#000000\" font-family=\"sans-serif\" font-size=\"11\" lengthAdjust=\"spacingAndGlyphs\" textLength=\"30\" x=\"119\" y=\"109.9526\">^po1</text><text fill=\"#000000\" font-family=\"sans-serif\" font-size=\"11\" font-style=\"italic\" lengthAdjust=\"spacingAndGlyphs\" textLength=\"80\" x=\"119\" y=\"122.7573\">:&gt;&gt;P1::porig1</text><line style=\"stroke: #383838; stroke-width: 1.0;\" x1=\"114\" x2=\"144\" y1=\"93.3398\" y2=\"93.3398\"/><text fill=\"#000000\" font-family=\"sans-serif\" font-size=\"11\" lengthAdjust=\"spacingAndGlyphs\" textLength=\"30\" x=\"144\" y=\"96.6479\">ports</text><line style=\"stroke: #383838; stroke-width: 1.0;\" x1=\"174\" x2=\"204\" y1=\"93.3398\" y2=\"93.3398\"/></a><!--MD5=[60a26617385b1d2d0262a64233df1f8d]\n",
       "class E6--><a href=\"psysml:77eadb46-ce1a-4e0f-9527-bb06765d2ea7\" target=\"_top\" title=\"psysml:77eadb46-ce1a-4e0f-9527-bb06765d2ea7\" xlink:actuate=\"onRequest\" xlink:href=\"psysml:77eadb46-ce1a-4e0f-9527-bb06765d2ea7\" xlink:show=\"new\" xlink:title=\"psysml:77eadb46-ce1a-4e0f-9527-bb06765d2ea7\" xlink:type=\"simple\"><rect fill=\"#FFFFFF\" height=\"75.5469\" id=\"E6\" rx=\"10\" ry=\"10\" style=\"stroke: #383838; stroke-width: 1.5;\" width=\"46\" x=\"32\" y=\"47\"/><text fill=\"#000000\" font-family=\"sans-serif\" font-size=\"12\" font-style=\"italic\" lengthAdjust=\"spacingAndGlyphs\" textLength=\"40\" x=\"35\" y=\"63.1387\">«part»</text><text fill=\"#000000\" font-family=\"sans-serif\" font-size=\"12\" lengthAdjust=\"spacingAndGlyphs\" textLength=\"40\" x=\"35\" y=\"77.1074\">p2: P1</text><line style=\"stroke: #383838; stroke-width: 1.5;\" x1=\"33\" x2=\"77\" y1=\"84.9375\" y2=\"84.9375\"/><text fill=\"#000000\" font-family=\"sans-serif\" font-size=\"11\" lengthAdjust=\"spacingAndGlyphs\" textLength=\"32\" x=\"38\" y=\"115.9526\">pdest</text><line style=\"stroke: #383838; stroke-width: 1.0;\" x1=\"33\" x2=\"40\" y1=\"99.3398\" y2=\"99.3398\"/><text fill=\"#000000\" font-family=\"sans-serif\" font-size=\"11\" lengthAdjust=\"spacingAndGlyphs\" textLength=\"30\" x=\"40\" y=\"102.6479\">ports</text><line style=\"stroke: #383838; stroke-width: 1.0;\" x1=\"70\" x2=\"77\" y1=\"99.3398\" y2=\"99.3398\"/></a><!--MD5=[2156ba9850f5573cc1fc38a6a4b2f02b]\n",
       "class E7--><a href=\"psysml:db28622a-fbe8-4c7d-8fe4-9e164802e944\" target=\"_top\" title=\"psysml:db28622a-fbe8-4c7d-8fe4-9e164802e944\" xlink:actuate=\"onRequest\" xlink:href=\"psysml:db28622a-fbe8-4c7d-8fe4-9e164802e944\" xlink:show=\"new\" xlink:title=\"psysml:db28622a-fbe8-4c7d-8fe4-9e164802e944\" xlink:type=\"simple\"><rect fill=\"#FFFFFF\" height=\"45.9375\" id=\"E7\" rx=\"10\" ry=\"10\" style=\"stroke: #383838; stroke-width: 1.5;\" width=\"42\" x=\"34\" y=\"204\"/><text fill=\"#000000\" font-family=\"sans-serif\" font-size=\"12\" font-style=\"italic\" lengthAdjust=\"spacingAndGlyphs\" textLength=\"40\" x=\"35\" y=\"220.1387\">«port»</text><text fill=\"#000000\" font-family=\"sans-serif\" font-size=\"12\" lengthAdjust=\"spacingAndGlyphs\" textLength=\"36\" x=\"37\" y=\"234.1074\">pdest</text><line style=\"stroke: #383838; stroke-width: 1.5;\" x1=\"35\" x2=\"75\" y1=\"241.9375\" y2=\"241.9375\"/></a><!--MD5=[4672eba38e49728da53d11aeb285b987]\n",
       "reverse link E3 to E4--><a href=\"psysml:4c29fec0-8309-450b-9bf3-4a2b28b77917\" target=\"_top\" title=\"psysml:4c29fec0-8309-450b-9bf3-4a2b28b77917\" xlink:actuate=\"onRequest\" xlink:href=\"psysml:4c29fec0-8309-450b-9bf3-4a2b28b77917\" xlink:show=\"new\" xlink:title=\"psysml:4c29fec0-8309-450b-9bf3-4a2b28b77917\" xlink:type=\"simple\"><path d=\"M151,280.29 C151,295.98 151,312.34 151,324.93 \" fill=\"none\" id=\"E3&lt;-E4\" style=\"stroke: #383838; stroke-width: 1.0; stroke-dasharray: 7.0,7.0;\"/><ellipse cx=\"151\" cy=\"273\" fill=\"#FFFFFF\" rx=\"8\" ry=\"8\" style=\"stroke: #383838; stroke-width: 1.0;\"/><line style=\"stroke: #383838; stroke-width: 1.0;\" x1=\"151\" x2=\"151\" y1=\"281\" y2=\"265\"/><line style=\"stroke: #383838; stroke-width: 1.0;\" x1=\"143\" x2=\"159\" y1=\"273\" y2=\"273\"/><text fill=\"#000000\" font-family=\"sans-serif\" font-size=\"13\" lengthAdjust=\"spacingAndGlyphs\" textLength=\"8\" x=\"141.925\" y=\"313.8075\">1</text></a><!--MD5=[e9be52314489bd878ff4c7144b63c9e1]\n",
       "link E5 to E3--><a href=\"psysml:93a52ea3-a140-4bd2-b924-ec5ad15b1b7e\" target=\"_top\" title=\"psysml:93a52ea3-a140-4bd2-b924-ec5ad15b1b7e\" xlink:actuate=\"onRequest\" xlink:href=\"psysml:93a52ea3-a140-4bd2-b924-ec5ad15b1b7e\" xlink:show=\"new\" xlink:title=\"psysml:93a52ea3-a140-4bd2-b924-ec5ad15b1b7e\" xlink:type=\"simple\"><path d=\"M156.53,129.15 C155.82,141.7 155.02,155.6 154.26,168.87 \" fill=\"none\" id=\"E5-&gt;E3\" style=\"stroke: #383838; stroke-width: 1.0;\"/><polygon fill=\"#FFFFFF\" points=\"153.12,188.9,147.2169,169.5311,161.1941,170.331,153.12,188.9\" style=\"stroke: #383838; stroke-width: 1.0;\"/><ellipse cx=\"149.5393\" cy=\"163.9547\" fill=\"#383838\" rx=\"2\" ry=\"2\" style=\"stroke: #383838; stroke-width: 1.0;\"/><ellipse cx=\"159.523\" cy=\"164.526\" fill=\"#383838\" rx=\"2\" ry=\"2\" style=\"stroke: #383838; stroke-width: 1.0;\"/></a><!--MD5=[a717450b82c80b9240a525fa862496af]\n",
       "link E6 to E3--><a href=\"psysml:87c48ed5-bc50-48bb-899d-f807bfcdc26e\" target=\"_top\" title=\"psysml:87c48ed5-bc50-48bb-899d-f807bfcdc26e\" xlink:actuate=\"onRequest\" xlink:href=\"psysml:87c48ed5-bc50-48bb-899d-f807bfcdc26e\" xlink:show=\"new\" xlink:title=\"psysml:87c48ed5-bc50-48bb-899d-f807bfcdc26e\" xlink:type=\"simple\"><path d=\"M78.24,119.89 C89.03,135.63 102.13,154.73 114.21,172.35 \" fill=\"none\" id=\"E6-&gt;E3\" style=\"stroke: #383838; stroke-width: 1.0;\"/><polygon fill=\"#FFFFFF\" points=\"125.62,188.98,109.1019,177.2689,120.6481,169.3515,125.62,188.98\" style=\"stroke: #383838; stroke-width: 1.0;\"/><ellipse cx=\"107.5278\" cy=\"171.4368\" fill=\"#383838\" rx=\"2\" ry=\"2\" style=\"stroke: #383838; stroke-width: 1.0;\"/><ellipse cx=\"115.7751\" cy=\"165.7816\" fill=\"#383838\" rx=\"2\" ry=\"2\" style=\"stroke: #383838; stroke-width: 1.0;\"/></a><!--MD5=[3f50a3473f1dfb74d3f76443e03635af]\n",
       "reverse link E6 to E7--><a href=\"psysml:4eb1c616-a5a7-47d5-8985-e84491dc2120\" target=\"_top\" title=\"psysml:4eb1c616-a5a7-47d5-8985-e84491dc2120\" xlink:actuate=\"onRequest\" xlink:href=\"psysml:4eb1c616-a5a7-47d5-8985-e84491dc2120\" xlink:show=\"new\" xlink:title=\"psysml:4eb1c616-a5a7-47d5-8985-e84491dc2120\" xlink:type=\"simple\"><path d=\"M55,138.32 C55,161.03 55,186.4 55,203.99 \" fill=\"none\" id=\"E6&lt;-E7\" style=\"stroke: #383838; stroke-width: 1.0; stroke-dasharray: 7.0,7.0;\"/><ellipse cx=\"55\" cy=\"131.15\" fill=\"#FFFFFF\" rx=\"8\" ry=\"8\" style=\"stroke: #383838; stroke-width: 1.0;\"/><line style=\"stroke: #383838; stroke-width: 1.0;\" x1=\"55\" x2=\"55\" y1=\"139.15\" y2=\"123.15\"/><line style=\"stroke: #383838; stroke-width: 1.0;\" x1=\"47\" x2=\"63\" y1=\"131.15\" y2=\"131.15\"/><text fill=\"#000000\" font-family=\"sans-serif\" font-size=\"13\" lengthAdjust=\"spacingAndGlyphs\" textLength=\"8\" x=\"45.925\" y=\"192.8836\">1</text></a><!--MD5=[b3536015acd09c4b9d0d665ec64a60f0]\n",
       "@startuml\r\n",
       " skinparam monochrome true\r\n",
       "skinparam classbackgroundcolor white\r\n",
       "skinparam shadowing false\r\n",
       "skinparam wrapWidth 300\r\n",
       "hide circle\r\n",
       "\r\n",
       "package \"AliasTest\" as E1  [[psysml:7e4311dd-4dd4-41de-a431-b17c5d614850 ]]  {\r\n",
       "comp usage \"q\" as E2  <<(T,blue) attribute>> [[psysml:789c28e5-5e95-405e-84fa-948507b238dc ]] {\r\n",
       "}\r\n",
       "comp def \"P1\" as E3  <<(T,blue) part def>> [[psysml:00588ae4-2df7-4d57-b3d7-e09c73d2d5b1 ]] {\r\n",
       "- - ports - -\r\n",
       "porig1\r\n",
       "}\r\n",
       "comp usage \"porig1\" as E4  <<(T,blue) port>> [[psysml:236a437d-3673-4742-905a-959f5dd42893 ]] {\r\n",
       "}\r\n",
       "comp usage \"p1: P1\" as E5  <<(T,blue) part>> [[psysml:4e54ee4d-012b-498f-93d7-1afb3759d34d ]] {\r\n",
       "- - ports - -\r\n",
       "^po1\\n//:>>P1::porig1// \r\n",
       "}\r\n",
       "comp usage \"p2: P1\" as E6  <<(T,blue) part>> [[psysml:77eadb46-ce1a-4e0f-9527-bb06765d2ea7 ]] {\r\n",
       "- - ports - -\r\n",
       "pdest\r\n",
       "}\r\n",
       "comp usage \"pdest\" as E7  <<(T,blue) port>> [[psysml:db28622a-fbe8-4c7d-8fe4-9e164802e944 ]] {\r\n",
       "}\r\n",
       "E3 +.. \"1\"E4 [[psysml:4c29fec0-8309-450b-9bf3-4a2b28b77917 ]] \r\n",
       "E5 - -:|> E3 [[psysml:93a52ea3-a140-4bd2-b924-ec5ad15b1b7e ]] \r\n",
       "E6 - -:|> E3 [[psysml:87c48ed5-bc50-48bb-899d-f807bfcdc26e ]] \r\n",
       "E6 +.. \"1\"E7 [[psysml:4eb1c616-a5a7-47d5-8985-e84491dc2120 ]] \r\n",
       "}\r\n",
       "@enduml\r\n",
       "\n",
       "PlantUML version 1.2020.13(Sat Jun 13 12:26:38 UTC 2020)\n",
       "(EPL source distribution)\n",
       "Java Runtime: OpenJDK Runtime Environment\n",
       "JVM: OpenJDK 64-Bit Server VM\n",
       "Default Encoding: UTF-8\n",
       "Language: en\n",
       "Country: null\n",
       "--></g></svg>"
      ]
     },
     "execution_count": 3,
     "metadata": {},
     "output_type": "execute_result"
    }
   ],
   "source": [
    "%viz --style=\"COMPTREE\" --view=\"Tree\" \"AliasTest\""
   ]
  },
  {
   "cell_type": "code",
   "execution_count": 4,
   "id": "c208fc75",
   "metadata": {
    "execution": {
     "iopub.execute_input": "2021-08-04T06:25:30.015088Z",
     "iopub.status.busy": "2021-08-04T06:25:30.014600Z",
     "iopub.status.idle": "2021-08-04T06:25:30.021612Z",
     "shell.execute_reply": "2021-08-04T06:25:30.021910Z"
    }
   },
   "outputs": [
    {
     "data": {
      "image/svg+xml": [
       "<?xml version=\"1.0\" encoding=\"UTF-8\" standalone=\"no\"?><svg xmlns=\"http://www.w3.org/2000/svg\" xmlns:xlink=\"http://www.w3.org/1999/xlink\" contentScriptType=\"application/ecmascript\" contentStyleType=\"text/css\" height=\"12px\" preserveAspectRatio=\"none\" style=\"width:12px;height:12px;\" version=\"1.1\" viewBox=\"0 0 12 12\" width=\"12px\" zoomAndPan=\"magnify\"><defs/><g><!--MD5=[f19188ef49e11757b5c46753f95d9edc]\n",
       "@startuml\r\n",
       " skinparam monochrome true\r\n",
       "skinparam classbackgroundcolor white\r\n",
       "skinparam shadowing false\r\n",
       "skinparam wrapWidth 300\r\n",
       "hide circle\r\n",
       "\r\n",
       "@enduml\r\n",
       "\n",
       "PlantUML version 1.2020.13(Sat Jun 13 12:26:38 UTC 2020)\n",
       "(EPL source distribution)\n",
       "Java Runtime: OpenJDK Runtime Environment\n",
       "JVM: OpenJDK 64-Bit Server VM\n",
       "Default Encoding: UTF-8\n",
       "Language: en\n",
       "Country: null\n",
       "--></g></svg>"
      ]
     },
     "execution_count": 4,
     "metadata": {},
     "output_type": "execute_result"
    }
   ],
   "source": [
    "%viz --style=\"COMPTREE\" --view=\"State\" \"AliasTest\""
   ]
  },
  {
   "cell_type": "code",
   "execution_count": 5,
   "id": "2b19105e",
   "metadata": {
    "execution": {
     "iopub.execute_input": "2021-08-04T06:25:30.072319Z",
     "iopub.status.busy": "2021-08-04T06:25:30.071913Z",
     "iopub.status.idle": "2021-08-04T06:25:30.129630Z",
     "shell.execute_reply": "2021-08-04T06:25:30.127771Z"
    }
   },
   "outputs": [
    {
     "data": {
      "image/svg+xml": [
       "<?xml version=\"1.0\" encoding=\"UTF-8\" standalone=\"no\"?><svg xmlns=\"http://www.w3.org/2000/svg\" xmlns:xlink=\"http://www.w3.org/1999/xlink\" contentScriptType=\"application/ecmascript\" contentStyleType=\"text/css\" height=\"233px\" preserveAspectRatio=\"none\" style=\"width:486px;height:233px;\" version=\"1.1\" viewBox=\"0 0 486 233\" width=\"486px\" zoomAndPan=\"magnify\"><defs/><g><!--MD5=[fbc87193dbaf4d95561dea2c320d4a47]\n",
       "cluster E1--><a href=\"psysml:7e4311dd-4dd4-41de-a431-b17c5d614850\" target=\"_top\" title=\"psysml:7e4311dd-4dd4-41de-a431-b17c5d614850\" xlink:actuate=\"onRequest\" xlink:href=\"psysml:7e4311dd-4dd4-41de-a431-b17c5d614850\" xlink:show=\"new\" xlink:title=\"psysml:7e4311dd-4dd4-41de-a431-b17c5d614850\" xlink:type=\"simple\"><polygon fill=\"#FFFFFF\" points=\"16,6,94,6,101,28.2969,464,28.2969,464,221,16,221,16,6\" style=\"stroke: #000000; stroke-width: 1.5;\"/><line style=\"stroke: #000000; stroke-width: 1.5;\" x1=\"16\" x2=\"101\" y1=\"28.2969\" y2=\"28.2969\"/><text fill=\"#000000\" font-family=\"sans-serif\" font-size=\"14\" font-weight=\"bold\" lengthAdjust=\"spacingAndGlyphs\" textLength=\"72\" x=\"20\" y=\"20.9951\">AliasTest</text></a><!--MD5=[d5e69f78d87373223dbae638b30a9c99]\n",
       "cluster E3--><a href=\"psysml:00588ae4-2df7-4d57-b3d7-e09c73d2d5b1\" target=\"_top\" title=\"psysml:00588ae4-2df7-4d57-b3d7-e09c73d2d5b1\" xlink:actuate=\"onRequest\" xlink:href=\"psysml:00588ae4-2df7-4d57-b3d7-e09c73d2d5b1\" xlink:show=\"new\" xlink:title=\"psysml:00588ae4-2df7-4d57-b3d7-e09c73d2d5b1\" xlink:type=\"simple\"><rect fill=\"#FFFFFF\" height=\"90\" id=\"E3\" style=\"stroke: #383838; stroke-width: 1.5;\" width=\"83\" x=\"324\" y=\"64\"/><rect fill=\"#F8F8F8\" height=\"37.9375\" style=\"stroke: #383838; stroke-width: 1.5;\" width=\"83\" x=\"324\" y=\"64\"/><text fill=\"#000000\" font-family=\"sans-serif\" font-size=\"12\" font-style=\"italic\" lengthAdjust=\"spacingAndGlyphs\" textLength=\"64\" x=\"333.5\" y=\"80.1387\">«part def»</text><text fill=\"#000000\" font-family=\"sans-serif\" font-size=\"12\" lengthAdjust=\"spacingAndGlyphs\" textLength=\"16\" x=\"357.5\" y=\"94.1074\">P1</text></a><!--MD5=[14e3b0961a2654348d326746436168a1]\n",
       "cluster E6--><a href=\"psysml:4e54ee4d-012b-498f-93d7-1afb3759d34d\" target=\"_top\" title=\"psysml:4e54ee4d-012b-498f-93d7-1afb3759d34d\" xlink:actuate=\"onRequest\" xlink:href=\"psysml:4e54ee4d-012b-498f-93d7-1afb3759d34d\" xlink:show=\"new\" xlink:title=\"psysml:4e54ee4d-012b-498f-93d7-1afb3759d34d\" xlink:type=\"simple\"><rect fill=\"#FFFFFF\" height=\"82\" id=\"E6\" rx=\"10\" ry=\"10\" style=\"stroke: #383838; stroke-width: 1.5;\" width=\"104\" x=\"112\" y=\"64\"/><rect fill=\"#F8F8F8\" height=\"23.9688\" rx=\"10\" ry=\"10\" style=\"stroke: #F8F8F8; stroke-width: 1.5;\" width=\"104\" x=\"112\" y=\"64\"/><rect fill=\"#F8F8F8\" height=\"10\" style=\"stroke: #F8F8F8; stroke-width: 1.5;\" width=\"104\" x=\"112\" y=\"77.9688\"/><rect fill=\"none\" height=\"82\" id=\"E6\" rx=\"10\" ry=\"10\" style=\"stroke: #383838; stroke-width: 1.5;\" width=\"104\" x=\"112\" y=\"64\"/><text fill=\"#000000\" font-family=\"sans-serif\" font-size=\"12\" lengthAdjust=\"spacingAndGlyphs\" textLength=\"40\" x=\"144\" y=\"80.1387\">p1: P1</text><line style=\"stroke: #383838; stroke-width: 1.0;\" x1=\"112\" x2=\"216\" y1=\"87.9688\" y2=\"87.9688\"/></a><!--MD5=[55dfccfc6c49c2d10cd1bd2211a6c90c]\n",
       "cluster E8--><a href=\"psysml:77eadb46-ce1a-4e0f-9527-bb06765d2ea7\" target=\"_top\" title=\"psysml:77eadb46-ce1a-4e0f-9527-bb06765d2ea7\" xlink:actuate=\"onRequest\" xlink:href=\"psysml:77eadb46-ce1a-4e0f-9527-bb06765d2ea7\" xlink:show=\"new\" xlink:title=\"psysml:77eadb46-ce1a-4e0f-9527-bb06765d2ea7\" xlink:type=\"simple\"><rect fill=\"#FFFFFF\" height=\"84.5\" id=\"E8\" rx=\"10\" ry=\"10\" style=\"stroke: #383838; stroke-width: 1.5;\" width=\"83\" x=\"219\" y=\"120.5\"/><rect fill=\"#F8F8F8\" height=\"23.9688\" rx=\"10\" ry=\"10\" style=\"stroke: #F8F8F8; stroke-width: 1.5;\" width=\"83\" x=\"219\" y=\"120.5\"/><rect fill=\"#F8F8F8\" height=\"10\" style=\"stroke: #F8F8F8; stroke-width: 1.5;\" width=\"83\" x=\"219\" y=\"134.4688\"/><rect fill=\"none\" height=\"84.5\" id=\"E8\" rx=\"10\" ry=\"10\" style=\"stroke: #383838; stroke-width: 1.5;\" width=\"83\" x=\"219\" y=\"120.5\"/><text fill=\"#000000\" font-family=\"sans-serif\" font-size=\"12\" lengthAdjust=\"spacingAndGlyphs\" textLength=\"40\" x=\"240.5\" y=\"136.6387\">p2: P1</text><line style=\"stroke: #383838; stroke-width: 1.0;\" x1=\"219\" x2=\"302\" y1=\"144.4688\" y2=\"144.4688\"/></a><!--MD5=[b4997ac47864f28c2f74865a473b2911]\n",
       "class E2--><a href=\"psysml:789c28e5-5e95-405e-84fa-948507b238dc\" target=\"_top\" title=\"psysml:789c28e5-5e95-405e-84fa-948507b238dc\" xlink:actuate=\"onRequest\" xlink:href=\"psysml:789c28e5-5e95-405e-84fa-948507b238dc\" xlink:show=\"new\" xlink:title=\"psysml:789c28e5-5e95-405e-84fa-948507b238dc\" xlink:type=\"simple\"><rect fill=\"#FFFFFF\" height=\"45.9375\" id=\"E2\" rx=\"10\" ry=\"10\" style=\"stroke: #383838; stroke-width: 1.5;\" width=\"71\" x=\"32.5\" y=\"41\"/><text fill=\"#000000\" font-family=\"sans-serif\" font-size=\"12\" font-style=\"italic\" lengthAdjust=\"spacingAndGlyphs\" textLength=\"69\" x=\"33.5\" y=\"57.1387\">«attribute»</text><text fill=\"#000000\" font-family=\"sans-serif\" font-size=\"12\" lengthAdjust=\"spacingAndGlyphs\" textLength=\"8\" x=\"64\" y=\"71.1074\">q</text><line style=\"stroke: #383838; stroke-width: 1.5;\" x1=\"33.5\" x2=\"102.5\" y1=\"78.9375\" y2=\"78.9375\"/></a><text fill=\"#000000\" font-family=\"sans-serif\" font-size=\"14\" lengthAdjust=\"spacingAndGlyphs\" textLength=\"44\" x=\"320\" y=\"42.6982\">porig1</text><rect fill=\"#383838\" height=\"12\" style=\"stroke: #F8F8F8; stroke-width: 1.5;\" width=\"12\" x=\"336\" y=\"58\"/><text fill=\"#000000\" font-family=\"sans-serif\" font-size=\"14\" lengthAdjust=\"spacingAndGlyphs\" textLength=\"44\" x=\"367\" y=\"42.6982\">porig1</text><rect fill=\"#383838\" height=\"12\" style=\"stroke: #F8F8F8; stroke-width: 1.5;\" width=\"12\" x=\"383\" y=\"58\"/><text fill=\"#000000\" font-family=\"sans-serif\" font-size=\"14\" lengthAdjust=\"spacingAndGlyphs\" textLength=\"27\" x=\"184.5\" y=\"42.6982\">po1</text><rect fill=\"#383838\" height=\"12\" style=\"stroke: #F8F8F8; stroke-width: 1.5;\" width=\"12\" x=\"192\" y=\"58\"/><text fill=\"#000000\" font-family=\"sans-serif\" font-size=\"14\" lengthAdjust=\"spacingAndGlyphs\" textLength=\"40\" x=\"217\" y=\"99.1982\">pdest</text><rect fill=\"#383838\" height=\"12\" style=\"stroke: #F8F8F8; stroke-width: 1.5;\" width=\"12\" x=\"231\" y=\"114.5\"/><text fill=\"#000000\" font-family=\"sans-serif\" font-size=\"14\" lengthAdjust=\"spacingAndGlyphs\" textLength=\"40\" x=\"264\" y=\"99.1982\">pdest</text><rect fill=\"#383838\" height=\"12\" style=\"stroke: #F8F8F8; stroke-width: 1.5;\" width=\"12\" x=\"278\" y=\"114.5\"/><!--MD5=[1c0b9414cc86e0744215edee6abd8926]\n",
       "link E7 to E9--><a href=\"psysml:af89f277-c22a-4acb-b9c9-7f04d6a8a86b\" target=\"_top\" title=\"psysml:af89f277-c22a-4acb-b9c9-7f04d6a8a86b\" xlink:actuate=\"onRequest\" xlink:href=\"psysml:af89f277-c22a-4acb-b9c9-7f04d6a8a86b\" xlink:show=\"new\" xlink:title=\"psysml:af89f277-c22a-4acb-b9c9-7f04d6a8a86b\" xlink:type=\"simple\"><path d=\"M193.83,70.03 C194.72,81.73 216.14,110.34 230.83,117.73 \" fill=\"none\" id=\"E7-E9\" style=\"stroke: #383838; stroke-width: 3.0;\"/><text fill=\"#000000\" font-family=\"sans-serif\" font-size=\"13\" lengthAdjust=\"spacingAndGlyphs\" textLength=\"7\" x=\"215.8523\" y=\"106.3789\">*</text></a><!--MD5=[1c0b9414cc86e0744215edee6abd8926]\n",
       "link E7 to E9--><a href=\"psysml:6818c790-7ee4-49fa-b866-28c88d0d2e1e\" target=\"_top\" title=\"psysml:6818c790-7ee4-49fa-b866-28c88d0d2e1e\" xlink:actuate=\"onRequest\" xlink:href=\"psysml:6818c790-7ee4-49fa-b866-28c88d0d2e1e\" xlink:show=\"new\" xlink:title=\"psysml:6818c790-7ee4-49fa-b866-28c88d0d2e1e\" xlink:type=\"simple\"><path d=\"M204.05,66.57 C219.27,73.62 241.05,102.5 241.62,114.37 \" fill=\"none\" id=\"E7-E9-1\" style=\"stroke: #383838; stroke-width: 3.0;\"/><text fill=\"#000000\" font-family=\"sans-serif\" font-size=\"13\" lengthAdjust=\"spacingAndGlyphs\" textLength=\"7\" x=\"235.278\" y=\"103.4683\">*</text></a><!--MD5=[da362939090ec11cda8924e4786e4dc2]\n",
       "@startuml\r\n",
       "skinparam ranksep 10\r\n",
       "skinparam rectangle {\r\n",
       " backgroundColor<<block>> LightGreen\r\n",
       "}\r\n",
       " skinparam monochrome true\r\n",
       "skinparam classbackgroundcolor white\r\n",
       "skinparam shadowing false\r\n",
       "skinparam wrapWidth 300\r\n",
       "hide circle\r\n",
       "\r\n",
       "package \"AliasTest\" as E1  [[psysml:7e4311dd-4dd4-41de-a431-b17c5d614850 ]]  {\r\n",
       "comp usage \"q\" as E2  <<(T,blue) attribute>> [[psysml:789c28e5-5e95-405e-84fa-948507b238dc ]] {\r\n",
       "}\r\n",
       "rec def \"P1\" as E3  <<(T,blue) part def>> [[psysml:00588ae4-2df7-4d57-b3d7-e09c73d2d5b1 ]] {\r\n",
       "portin \"porig1\" as E4  <<(T,blue) port>> [[psysml:236a437d-3673-4742-905a-959f5dd42893 ]] \r\n",
       "portin \"porig1\" as E5  <<(T,blue) port>> [[psysml:236a437d-3673-4742-905a-959f5dd42893 ]] \r\n",
       "}\r\n",
       "rec usage \"p1: P1\" as E6  [[psysml:4e54ee4d-012b-498f-93d7-1afb3759d34d ]] {\r\n",
       "portin \"po1\" as E7  <<(T,blue) port>> [[psysml:8965b7df-293c-4ee2-9b2b-715c01154c80 ]] \r\n",
       "}\r\n",
       "rec usage \"p2: P1\" as E8  [[psysml:77eadb46-ce1a-4e0f-9527-bb06765d2ea7 ]] {\r\n",
       "portin \"pdest\" as E9  <<(T,blue) port>> [[psysml:db28622a-fbe8-4c7d-8fe4-9e164802e944 ]] \r\n",
       "portin \"pdest\" as E10  <<(T,blue) port>> [[psysml:db28622a-fbe8-4c7d-8fe4-9e164802e944 ]] \r\n",
       "}\r\n",
       "E7 -[thickness=3]- \"*\"E9 [[psysml:af89f277-c22a-4acb-b9c9-7f04d6a8a86b ]] \r\n",
       "E7 -[thickness=3]- \"*\"E9 [[psysml:6818c790-7ee4-49fa-b866-28c88d0d2e1e ]] \r\n",
       "}\r\n",
       "@enduml\r\n",
       "\n",
       "PlantUML version 1.2020.13(Sat Jun 13 12:26:38 UTC 2020)\n",
       "(EPL source distribution)\n",
       "Java Runtime: OpenJDK Runtime Environment\n",
       "JVM: OpenJDK 64-Bit Server VM\n",
       "Default Encoding: UTF-8\n",
       "Language: en\n",
       "Country: null\n",
       "--></g></svg>"
      ]
     },
     "execution_count": 5,
     "metadata": {},
     "output_type": "execute_result"
    }
   ],
   "source": [
    "%viz --style=\"COMPTREE\" --view=\"Interconnection\" \"AliasTest\""
   ]
  },
  {
   "cell_type": "code",
   "execution_count": 6,
   "id": "3adbf7bb",
   "metadata": {
    "execution": {
     "iopub.execute_input": "2021-08-04T06:25:30.178676Z",
     "iopub.status.busy": "2021-08-04T06:25:30.178197Z",
     "iopub.status.idle": "2021-08-04T06:25:30.184825Z",
     "shell.execute_reply": "2021-08-04T06:25:30.184259Z"
    }
   },
   "outputs": [
    {
     "data": {
      "image/svg+xml": [
       "<?xml version=\"1.0\" encoding=\"UTF-8\" standalone=\"no\"?><svg xmlns=\"http://www.w3.org/2000/svg\" xmlns:xlink=\"http://www.w3.org/1999/xlink\" contentScriptType=\"application/ecmascript\" contentStyleType=\"text/css\" height=\"12px\" preserveAspectRatio=\"none\" style=\"width:12px;height:12px;\" version=\"1.1\" viewBox=\"0 0 12 12\" width=\"12px\" zoomAndPan=\"magnify\"><defs/><g><!--MD5=[655b888544ca4751ea36af1068543f84]\n",
       "@startuml\r\n",
       "skinparam ranksep 8\r\n",
       " skinparam monochrome true\r\n",
       "skinparam classbackgroundcolor white\r\n",
       "skinparam shadowing false\r\n",
       "skinparam wrapWidth 300\r\n",
       "hide circle\r\n",
       "\r\n",
       "@enduml\r\n",
       "\n",
       "PlantUML version 1.2020.13(Sat Jun 13 12:26:38 UTC 2020)\n",
       "(EPL source distribution)\n",
       "Java Runtime: OpenJDK Runtime Environment\n",
       "JVM: OpenJDK 64-Bit Server VM\n",
       "Default Encoding: UTF-8\n",
       "Language: en\n",
       "Country: null\n",
       "--></g></svg>"
      ]
     },
     "execution_count": 6,
     "metadata": {},
     "output_type": "execute_result"
    }
   ],
   "source": [
    "%viz --style=\"COMPTREE\" --view=\"Action\" \"AliasTest\""
   ]
  },
  {
   "cell_type": "code",
   "execution_count": 7,
   "id": "470128bc",
   "metadata": {
    "execution": {
     "iopub.execute_input": "2021-08-04T06:25:30.234370Z",
     "iopub.status.busy": "2021-08-04T06:25:30.233913Z",
     "iopub.status.idle": "2021-08-04T06:25:30.338003Z",
     "shell.execute_reply": "2021-08-04T06:25:30.336031Z"
    }
   },
   "outputs": [
    {
     "data": {
      "image/svg+xml": [
       "<?xml version=\"1.0\" encoding=\"UTF-8\" standalone=\"no\"?><svg xmlns=\"http://www.w3.org/2000/svg\" xmlns:xlink=\"http://www.w3.org/1999/xlink\" contentScriptType=\"application/ecmascript\" contentStyleType=\"text/css\" height=\"399px\" preserveAspectRatio=\"none\" style=\"width:350px;height:399px;\" version=\"1.1\" viewBox=\"0 0 350 399\" width=\"350px\" zoomAndPan=\"magnify\"><defs/><g><!--MD5=[fbc87193dbaf4d95561dea2c320d4a47]\n",
       "cluster E1--><a href=\"psysml:7e4311dd-4dd4-41de-a431-b17c5d614850\" target=\"_top\" title=\"psysml:7e4311dd-4dd4-41de-a431-b17c5d614850\" xlink:actuate=\"onRequest\" xlink:href=\"psysml:7e4311dd-4dd4-41de-a431-b17c5d614850\" xlink:show=\"new\" xlink:title=\"psysml:7e4311dd-4dd4-41de-a431-b17c5d614850\" xlink:type=\"simple\"><polygon fill=\"#FFFFFF\" points=\"16,6,94,6,101,28.2969,328,28.2969,328,387,16,387,16,6\" style=\"stroke: #000000; stroke-width: 1.5;\"/><line style=\"stroke: #000000; stroke-width: 1.5;\" x1=\"16\" x2=\"101\" y1=\"28.2969\" y2=\"28.2969\"/><text fill=\"#000000\" font-family=\"sans-serif\" font-size=\"14\" font-weight=\"bold\" lengthAdjust=\"spacingAndGlyphs\" textLength=\"72\" x=\"20\" y=\"20.9951\">AliasTest</text></a><!--MD5=[b4997ac47864f28c2f74865a473b2911]\n",
       "class E2--><a href=\"psysml:789c28e5-5e95-405e-84fa-948507b238dc\" target=\"_top\" title=\"psysml:789c28e5-5e95-405e-84fa-948507b238dc\" xlink:actuate=\"onRequest\" xlink:href=\"psysml:789c28e5-5e95-405e-84fa-948507b238dc\" xlink:show=\"new\" xlink:title=\"psysml:789c28e5-5e95-405e-84fa-948507b238dc\" xlink:type=\"simple\"><rect fill=\"#FFFFFF\" height=\"45.9375\" id=\"E2\" rx=\"10\" ry=\"10\" style=\"stroke: #383838; stroke-width: 1.5;\" width=\"71\" x=\"240.5\" y=\"62\"/><text fill=\"#000000\" font-family=\"sans-serif\" font-size=\"12\" font-style=\"italic\" lengthAdjust=\"spacingAndGlyphs\" textLength=\"69\" x=\"241.5\" y=\"78.1387\">«attribute»</text><text fill=\"#000000\" font-family=\"sans-serif\" font-size=\"12\" lengthAdjust=\"spacingAndGlyphs\" textLength=\"8\" x=\"272\" y=\"92.1074\">q</text><line style=\"stroke: #383838; stroke-width: 1.5;\" x1=\"241.5\" x2=\"310.5\" y1=\"99.9375\" y2=\"99.9375\"/></a><!--MD5=[09b614a08d8cba4a07c9adeb5e0fee81]\n",
       "class E3--><a href=\"psysml:00588ae4-2df7-4d57-b3d7-e09c73d2d5b1\" target=\"_top\" title=\"psysml:00588ae4-2df7-4d57-b3d7-e09c73d2d5b1\" xlink:actuate=\"onRequest\" xlink:href=\"psysml:00588ae4-2df7-4d57-b3d7-e09c73d2d5b1\" xlink:show=\"new\" xlink:title=\"psysml:00588ae4-2df7-4d57-b3d7-e09c73d2d5b1\" xlink:type=\"simple\"><rect fill=\"#FFFFFF\" height=\"75.5469\" id=\"E3\" style=\"stroke: #383838; stroke-width: 1.5;\" width=\"66\" x=\"118\" y=\"189\"/><text fill=\"#000000\" font-family=\"sans-serif\" font-size=\"12\" font-style=\"italic\" lengthAdjust=\"spacingAndGlyphs\" textLength=\"64\" x=\"119\" y=\"205.1387\">«part def»</text><text fill=\"#000000\" font-family=\"sans-serif\" font-size=\"12\" lengthAdjust=\"spacingAndGlyphs\" textLength=\"16\" x=\"143\" y=\"219.1074\">P1</text><line style=\"stroke: #383838; stroke-width: 1.5;\" x1=\"119\" x2=\"183\" y1=\"226.9375\" y2=\"226.9375\"/><text fill=\"#000000\" font-family=\"sans-serif\" font-size=\"11\" lengthAdjust=\"spacingAndGlyphs\" textLength=\"36\" x=\"124\" y=\"257.9526\">porig1</text><line style=\"stroke: #383838; stroke-width: 1.0;\" x1=\"119\" x2=\"136\" y1=\"241.3398\" y2=\"241.3398\"/><text fill=\"#000000\" font-family=\"sans-serif\" font-size=\"11\" lengthAdjust=\"spacingAndGlyphs\" textLength=\"30\" x=\"136\" y=\"244.6479\">ports</text><line style=\"stroke: #383838; stroke-width: 1.0;\" x1=\"166\" x2=\"183\" y1=\"241.3398\" y2=\"241.3398\"/></a><!--MD5=[ebbe1d658d1005bcc118a6aa81145e00]\n",
       "class E4--><a href=\"psysml:236a437d-3673-4742-905a-959f5dd42893\" target=\"_top\" title=\"psysml:236a437d-3673-4742-905a-959f5dd42893\" xlink:actuate=\"onRequest\" xlink:href=\"psysml:236a437d-3673-4742-905a-959f5dd42893\" xlink:show=\"new\" xlink:title=\"psysml:236a437d-3673-4742-905a-959f5dd42893\" xlink:type=\"simple\"><rect fill=\"#FFFFFF\" height=\"45.9375\" id=\"E4\" rx=\"10\" ry=\"10\" style=\"stroke: #383838; stroke-width: 1.5;\" width=\"46\" x=\"128\" y=\"325\"/><text fill=\"#000000\" font-family=\"sans-serif\" font-size=\"12\" font-style=\"italic\" lengthAdjust=\"spacingAndGlyphs\" textLength=\"40\" x=\"131\" y=\"341.1387\">«port»</text><text fill=\"#000000\" font-family=\"sans-serif\" font-size=\"12\" lengthAdjust=\"spacingAndGlyphs\" textLength=\"40\" x=\"131\" y=\"355.1074\">porig1</text><line style=\"stroke: #383838; stroke-width: 1.5;\" x1=\"129\" x2=\"173\" y1=\"362.9375\" y2=\"362.9375\"/></a><!--MD5=[270fce915f116d4de14055a7c1d9a0f3]\n",
       "class E5--><a href=\"psysml:4e54ee4d-012b-498f-93d7-1afb3759d34d\" target=\"_top\" title=\"psysml:4e54ee4d-012b-498f-93d7-1afb3759d34d\" xlink:actuate=\"onRequest\" xlink:href=\"psysml:4e54ee4d-012b-498f-93d7-1afb3759d34d\" xlink:show=\"new\" xlink:title=\"psysml:4e54ee4d-012b-498f-93d7-1afb3759d34d\" xlink:type=\"simple\"><rect fill=\"#FFFFFF\" height=\"88.3516\" id=\"E5\" rx=\"10\" ry=\"10\" style=\"stroke: #383838; stroke-width: 1.5;\" width=\"92\" x=\"113\" y=\"41\"/><text fill=\"#000000\" font-family=\"sans-serif\" font-size=\"12\" font-style=\"italic\" lengthAdjust=\"spacingAndGlyphs\" textLength=\"40\" x=\"139\" y=\"57.1387\">«part»</text><text fill=\"#000000\" font-family=\"sans-serif\" font-size=\"12\" lengthAdjust=\"spacingAndGlyphs\" textLength=\"40\" x=\"139\" y=\"71.1074\">p1: P1</text><line style=\"stroke: #383838; stroke-width: 1.5;\" x1=\"114\" x2=\"204\" y1=\"78.9375\" y2=\"78.9375\"/><text fill=\"#000000\" font-family=\"sans-serif\" font-size=\"11\" lengthAdjust=\"spacingAndGlyphs\" textLength=\"30\" x=\"119\" y=\"109.9526\">^po1</text><text fill=\"#000000\" font-family=\"sans-serif\" font-size=\"11\" font-style=\"italic\" lengthAdjust=\"spacingAndGlyphs\" textLength=\"80\" x=\"119\" y=\"122.7573\">:&gt;&gt;P1::porig1</text><line style=\"stroke: #383838; stroke-width: 1.0;\" x1=\"114\" x2=\"144\" y1=\"93.3398\" y2=\"93.3398\"/><text fill=\"#000000\" font-family=\"sans-serif\" font-size=\"11\" lengthAdjust=\"spacingAndGlyphs\" textLength=\"30\" x=\"144\" y=\"96.6479\">ports</text><line style=\"stroke: #383838; stroke-width: 1.0;\" x1=\"174\" x2=\"204\" y1=\"93.3398\" y2=\"93.3398\"/></a><!--MD5=[60a26617385b1d2d0262a64233df1f8d]\n",
       "class E6--><a href=\"psysml:77eadb46-ce1a-4e0f-9527-bb06765d2ea7\" target=\"_top\" title=\"psysml:77eadb46-ce1a-4e0f-9527-bb06765d2ea7\" xlink:actuate=\"onRequest\" xlink:href=\"psysml:77eadb46-ce1a-4e0f-9527-bb06765d2ea7\" xlink:show=\"new\" xlink:title=\"psysml:77eadb46-ce1a-4e0f-9527-bb06765d2ea7\" xlink:type=\"simple\"><rect fill=\"#FFFFFF\" height=\"75.5469\" id=\"E6\" rx=\"10\" ry=\"10\" style=\"stroke: #383838; stroke-width: 1.5;\" width=\"46\" x=\"32\" y=\"47\"/><text fill=\"#000000\" font-family=\"sans-serif\" font-size=\"12\" font-style=\"italic\" lengthAdjust=\"spacingAndGlyphs\" textLength=\"40\" x=\"35\" y=\"63.1387\">«part»</text><text fill=\"#000000\" font-family=\"sans-serif\" font-size=\"12\" lengthAdjust=\"spacingAndGlyphs\" textLength=\"40\" x=\"35\" y=\"77.1074\">p2: P1</text><line style=\"stroke: #383838; stroke-width: 1.5;\" x1=\"33\" x2=\"77\" y1=\"84.9375\" y2=\"84.9375\"/><text fill=\"#000000\" font-family=\"sans-serif\" font-size=\"11\" lengthAdjust=\"spacingAndGlyphs\" textLength=\"32\" x=\"38\" y=\"115.9526\">pdest</text><line style=\"stroke: #383838; stroke-width: 1.0;\" x1=\"33\" x2=\"40\" y1=\"99.3398\" y2=\"99.3398\"/><text fill=\"#000000\" font-family=\"sans-serif\" font-size=\"11\" lengthAdjust=\"spacingAndGlyphs\" textLength=\"30\" x=\"40\" y=\"102.6479\">ports</text><line style=\"stroke: #383838; stroke-width: 1.0;\" x1=\"70\" x2=\"77\" y1=\"99.3398\" y2=\"99.3398\"/></a><!--MD5=[2156ba9850f5573cc1fc38a6a4b2f02b]\n",
       "class E7--><a href=\"psysml:db28622a-fbe8-4c7d-8fe4-9e164802e944\" target=\"_top\" title=\"psysml:db28622a-fbe8-4c7d-8fe4-9e164802e944\" xlink:actuate=\"onRequest\" xlink:href=\"psysml:db28622a-fbe8-4c7d-8fe4-9e164802e944\" xlink:show=\"new\" xlink:title=\"psysml:db28622a-fbe8-4c7d-8fe4-9e164802e944\" xlink:type=\"simple\"><rect fill=\"#FFFFFF\" height=\"45.9375\" id=\"E7\" rx=\"10\" ry=\"10\" style=\"stroke: #383838; stroke-width: 1.5;\" width=\"42\" x=\"34\" y=\"204\"/><text fill=\"#000000\" font-family=\"sans-serif\" font-size=\"12\" font-style=\"italic\" lengthAdjust=\"spacingAndGlyphs\" textLength=\"40\" x=\"35\" y=\"220.1387\">«port»</text><text fill=\"#000000\" font-family=\"sans-serif\" font-size=\"12\" lengthAdjust=\"spacingAndGlyphs\" textLength=\"36\" x=\"37\" y=\"234.1074\">pdest</text><line style=\"stroke: #383838; stroke-width: 1.5;\" x1=\"35\" x2=\"75\" y1=\"241.9375\" y2=\"241.9375\"/></a><!--MD5=[4672eba38e49728da53d11aeb285b987]\n",
       "reverse link E3 to E4--><a href=\"psysml:4c29fec0-8309-450b-9bf3-4a2b28b77917\" target=\"_top\" title=\"psysml:4c29fec0-8309-450b-9bf3-4a2b28b77917\" xlink:actuate=\"onRequest\" xlink:href=\"psysml:4c29fec0-8309-450b-9bf3-4a2b28b77917\" xlink:show=\"new\" xlink:title=\"psysml:4c29fec0-8309-450b-9bf3-4a2b28b77917\" xlink:type=\"simple\"><path d=\"M151,280.29 C151,295.98 151,312.34 151,324.93 \" fill=\"none\" id=\"E3&lt;-E4\" style=\"stroke: #383838; stroke-width: 1.0; stroke-dasharray: 7.0,7.0;\"/><ellipse cx=\"151\" cy=\"273\" fill=\"#FFFFFF\" rx=\"8\" ry=\"8\" style=\"stroke: #383838; stroke-width: 1.0;\"/><line style=\"stroke: #383838; stroke-width: 1.0;\" x1=\"151\" x2=\"151\" y1=\"281\" y2=\"265\"/><line style=\"stroke: #383838; stroke-width: 1.0;\" x1=\"143\" x2=\"159\" y1=\"273\" y2=\"273\"/><text fill=\"#000000\" font-family=\"sans-serif\" font-size=\"13\" lengthAdjust=\"spacingAndGlyphs\" textLength=\"8\" x=\"141.925\" y=\"313.8075\">1</text></a><!--MD5=[e9be52314489bd878ff4c7144b63c9e1]\n",
       "link E5 to E3--><a href=\"psysml:93a52ea3-a140-4bd2-b924-ec5ad15b1b7e\" target=\"_top\" title=\"psysml:93a52ea3-a140-4bd2-b924-ec5ad15b1b7e\" xlink:actuate=\"onRequest\" xlink:href=\"psysml:93a52ea3-a140-4bd2-b924-ec5ad15b1b7e\" xlink:show=\"new\" xlink:title=\"psysml:93a52ea3-a140-4bd2-b924-ec5ad15b1b7e\" xlink:type=\"simple\"><path d=\"M156.53,129.15 C155.82,141.7 155.02,155.6 154.26,168.87 \" fill=\"none\" id=\"E5-&gt;E3\" style=\"stroke: #383838; stroke-width: 1.0;\"/><polygon fill=\"#FFFFFF\" points=\"153.12,188.9,147.2169,169.5311,161.1941,170.331,153.12,188.9\" style=\"stroke: #383838; stroke-width: 1.0;\"/><ellipse cx=\"149.5393\" cy=\"163.9547\" fill=\"#383838\" rx=\"2\" ry=\"2\" style=\"stroke: #383838; stroke-width: 1.0;\"/><ellipse cx=\"159.523\" cy=\"164.526\" fill=\"#383838\" rx=\"2\" ry=\"2\" style=\"stroke: #383838; stroke-width: 1.0;\"/></a><!--MD5=[a717450b82c80b9240a525fa862496af]\n",
       "link E6 to E3--><a href=\"psysml:87c48ed5-bc50-48bb-899d-f807bfcdc26e\" target=\"_top\" title=\"psysml:87c48ed5-bc50-48bb-899d-f807bfcdc26e\" xlink:actuate=\"onRequest\" xlink:href=\"psysml:87c48ed5-bc50-48bb-899d-f807bfcdc26e\" xlink:show=\"new\" xlink:title=\"psysml:87c48ed5-bc50-48bb-899d-f807bfcdc26e\" xlink:type=\"simple\"><path d=\"M78.24,119.89 C89.03,135.63 102.13,154.73 114.21,172.35 \" fill=\"none\" id=\"E6-&gt;E3\" style=\"stroke: #383838; stroke-width: 1.0;\"/><polygon fill=\"#FFFFFF\" points=\"125.62,188.98,109.1019,177.2689,120.6481,169.3515,125.62,188.98\" style=\"stroke: #383838; stroke-width: 1.0;\"/><ellipse cx=\"107.5278\" cy=\"171.4368\" fill=\"#383838\" rx=\"2\" ry=\"2\" style=\"stroke: #383838; stroke-width: 1.0;\"/><ellipse cx=\"115.7751\" cy=\"165.7816\" fill=\"#383838\" rx=\"2\" ry=\"2\" style=\"stroke: #383838; stroke-width: 1.0;\"/></a><!--MD5=[3f50a3473f1dfb74d3f76443e03635af]\n",
       "reverse link E6 to E7--><a href=\"psysml:4eb1c616-a5a7-47d5-8985-e84491dc2120\" target=\"_top\" title=\"psysml:4eb1c616-a5a7-47d5-8985-e84491dc2120\" xlink:actuate=\"onRequest\" xlink:href=\"psysml:4eb1c616-a5a7-47d5-8985-e84491dc2120\" xlink:show=\"new\" xlink:title=\"psysml:4eb1c616-a5a7-47d5-8985-e84491dc2120\" xlink:type=\"simple\"><path d=\"M55,138.32 C55,161.03 55,186.4 55,203.99 \" fill=\"none\" id=\"E6&lt;-E7\" style=\"stroke: #383838; stroke-width: 1.0; stroke-dasharray: 7.0,7.0;\"/><ellipse cx=\"55\" cy=\"131.15\" fill=\"#FFFFFF\" rx=\"8\" ry=\"8\" style=\"stroke: #383838; stroke-width: 1.0;\"/><line style=\"stroke: #383838; stroke-width: 1.0;\" x1=\"55\" x2=\"55\" y1=\"139.15\" y2=\"123.15\"/><line style=\"stroke: #383838; stroke-width: 1.0;\" x1=\"47\" x2=\"63\" y1=\"131.15\" y2=\"131.15\"/><text fill=\"#000000\" font-family=\"sans-serif\" font-size=\"13\" lengthAdjust=\"spacingAndGlyphs\" textLength=\"8\" x=\"45.925\" y=\"192.8836\">1</text></a><!--MD5=[b3536015acd09c4b9d0d665ec64a60f0]\n",
       "@startuml\r\n",
       " skinparam monochrome true\r\n",
       "skinparam classbackgroundcolor white\r\n",
       "skinparam shadowing false\r\n",
       "skinparam wrapWidth 300\r\n",
       "hide circle\r\n",
       "\r\n",
       "package \"AliasTest\" as E1  [[psysml:7e4311dd-4dd4-41de-a431-b17c5d614850 ]]  {\r\n",
       "comp usage \"q\" as E2  <<(T,blue) attribute>> [[psysml:789c28e5-5e95-405e-84fa-948507b238dc ]] {\r\n",
       "}\r\n",
       "comp def \"P1\" as E3  <<(T,blue) part def>> [[psysml:00588ae4-2df7-4d57-b3d7-e09c73d2d5b1 ]] {\r\n",
       "- - ports - -\r\n",
       "porig1\r\n",
       "}\r\n",
       "comp usage \"porig1\" as E4  <<(T,blue) port>> [[psysml:236a437d-3673-4742-905a-959f5dd42893 ]] {\r\n",
       "}\r\n",
       "comp usage \"p1: P1\" as E5  <<(T,blue) part>> [[psysml:4e54ee4d-012b-498f-93d7-1afb3759d34d ]] {\r\n",
       "- - ports - -\r\n",
       "^po1\\n//:>>P1::porig1// \r\n",
       "}\r\n",
       "comp usage \"p2: P1\" as E6  <<(T,blue) part>> [[psysml:77eadb46-ce1a-4e0f-9527-bb06765d2ea7 ]] {\r\n",
       "- - ports - -\r\n",
       "pdest\r\n",
       "}\r\n",
       "comp usage \"pdest\" as E7  <<(T,blue) port>> [[psysml:db28622a-fbe8-4c7d-8fe4-9e164802e944 ]] {\r\n",
       "}\r\n",
       "E3 +.. \"1\"E4 [[psysml:4c29fec0-8309-450b-9bf3-4a2b28b77917 ]] \r\n",
       "E5 - -:|> E3 [[psysml:93a52ea3-a140-4bd2-b924-ec5ad15b1b7e ]] \r\n",
       "E6 - -:|> E3 [[psysml:87c48ed5-bc50-48bb-899d-f807bfcdc26e ]] \r\n",
       "E6 +.. \"1\"E7 [[psysml:4eb1c616-a5a7-47d5-8985-e84491dc2120 ]] \r\n",
       "}\r\n",
       "@enduml\r\n",
       "\n",
       "PlantUML version 1.2020.13(Sat Jun 13 12:26:38 UTC 2020)\n",
       "(EPL source distribution)\n",
       "Java Runtime: OpenJDK Runtime Environment\n",
       "JVM: OpenJDK 64-Bit Server VM\n",
       "Default Encoding: UTF-8\n",
       "Language: en\n",
       "Country: null\n",
       "--></g></svg>"
      ]
     },
     "execution_count": 7,
     "metadata": {},
     "output_type": "execute_result"
    }
   ],
   "source": [
    "%viz --style=\"COMPTREE\" --view=\"Sequence\" \"AliasTest\""
   ]
  },
  {
   "cell_type": "code",
   "execution_count": 8,
   "id": "8cc6788d",
   "metadata": {
    "execution": {
     "iopub.execute_input": "2021-08-04T06:25:30.386838Z",
     "iopub.status.busy": "2021-08-04T06:25:30.386387Z",
     "iopub.status.idle": "2021-08-04T06:25:30.453902Z",
     "shell.execute_reply": "2021-08-04T06:25:30.452314Z"
    }
   },
   "outputs": [
    {
     "data": {
      "image/svg+xml": [
       "<?xml version=\"1.0\" encoding=\"UTF-8\" standalone=\"no\"?><svg xmlns=\"http://www.w3.org/2000/svg\" xmlns:xlink=\"http://www.w3.org/1999/xlink\" contentScriptType=\"application/ecmascript\" contentStyleType=\"text/css\" height=\"399px\" preserveAspectRatio=\"none\" style=\"width:350px;height:399px;\" version=\"1.1\" viewBox=\"0 0 350 399\" width=\"350px\" zoomAndPan=\"magnify\"><defs/><g><!--MD5=[fbc87193dbaf4d95561dea2c320d4a47]\n",
       "cluster E1--><a href=\"psysml:7e4311dd-4dd4-41de-a431-b17c5d614850\" target=\"_top\" title=\"psysml:7e4311dd-4dd4-41de-a431-b17c5d614850\" xlink:actuate=\"onRequest\" xlink:href=\"psysml:7e4311dd-4dd4-41de-a431-b17c5d614850\" xlink:show=\"new\" xlink:title=\"psysml:7e4311dd-4dd4-41de-a431-b17c5d614850\" xlink:type=\"simple\"><polygon fill=\"#FFFFFF\" points=\"16,6,94,6,101,28.2969,328,28.2969,328,387,16,387,16,6\" style=\"stroke: #000000; stroke-width: 1.5;\"/><line style=\"stroke: #000000; stroke-width: 1.5;\" x1=\"16\" x2=\"101\" y1=\"28.2969\" y2=\"28.2969\"/><text fill=\"#000000\" font-family=\"sans-serif\" font-size=\"14\" font-weight=\"bold\" lengthAdjust=\"spacingAndGlyphs\" textLength=\"72\" x=\"20\" y=\"20.9951\">AliasTest</text></a><!--MD5=[b4997ac47864f28c2f74865a473b2911]\n",
       "class E2--><a href=\"psysml:789c28e5-5e95-405e-84fa-948507b238dc\" target=\"_top\" title=\"psysml:789c28e5-5e95-405e-84fa-948507b238dc\" xlink:actuate=\"onRequest\" xlink:href=\"psysml:789c28e5-5e95-405e-84fa-948507b238dc\" xlink:show=\"new\" xlink:title=\"psysml:789c28e5-5e95-405e-84fa-948507b238dc\" xlink:type=\"simple\"><rect fill=\"#FFFFFF\" height=\"45.9375\" id=\"E2\" rx=\"10\" ry=\"10\" style=\"stroke: #383838; stroke-width: 1.5;\" width=\"71\" x=\"240.5\" y=\"62\"/><text fill=\"#000000\" font-family=\"sans-serif\" font-size=\"12\" font-style=\"italic\" lengthAdjust=\"spacingAndGlyphs\" textLength=\"69\" x=\"241.5\" y=\"78.1387\">«attribute»</text><text fill=\"#000000\" font-family=\"sans-serif\" font-size=\"12\" lengthAdjust=\"spacingAndGlyphs\" textLength=\"8\" x=\"272\" y=\"92.1074\">q</text><line style=\"stroke: #383838; stroke-width: 1.5;\" x1=\"241.5\" x2=\"310.5\" y1=\"99.9375\" y2=\"99.9375\"/></a><!--MD5=[09b614a08d8cba4a07c9adeb5e0fee81]\n",
       "class E3--><a href=\"psysml:00588ae4-2df7-4d57-b3d7-e09c73d2d5b1\" target=\"_top\" title=\"psysml:00588ae4-2df7-4d57-b3d7-e09c73d2d5b1\" xlink:actuate=\"onRequest\" xlink:href=\"psysml:00588ae4-2df7-4d57-b3d7-e09c73d2d5b1\" xlink:show=\"new\" xlink:title=\"psysml:00588ae4-2df7-4d57-b3d7-e09c73d2d5b1\" xlink:type=\"simple\"><rect fill=\"#FFFFFF\" height=\"75.5469\" id=\"E3\" style=\"stroke: #383838; stroke-width: 1.5;\" width=\"66\" x=\"118\" y=\"189\"/><text fill=\"#000000\" font-family=\"sans-serif\" font-size=\"12\" font-style=\"italic\" lengthAdjust=\"spacingAndGlyphs\" textLength=\"64\" x=\"119\" y=\"205.1387\">«part def»</text><text fill=\"#000000\" font-family=\"sans-serif\" font-size=\"12\" lengthAdjust=\"spacingAndGlyphs\" textLength=\"16\" x=\"143\" y=\"219.1074\">P1</text><line style=\"stroke: #383838; stroke-width: 1.5;\" x1=\"119\" x2=\"183\" y1=\"226.9375\" y2=\"226.9375\"/><text fill=\"#000000\" font-family=\"sans-serif\" font-size=\"11\" lengthAdjust=\"spacingAndGlyphs\" textLength=\"36\" x=\"124\" y=\"257.9526\">porig1</text><line style=\"stroke: #383838; stroke-width: 1.0;\" x1=\"119\" x2=\"136\" y1=\"241.3398\" y2=\"241.3398\"/><text fill=\"#000000\" font-family=\"sans-serif\" font-size=\"11\" lengthAdjust=\"spacingAndGlyphs\" textLength=\"30\" x=\"136\" y=\"244.6479\">ports</text><line style=\"stroke: #383838; stroke-width: 1.0;\" x1=\"166\" x2=\"183\" y1=\"241.3398\" y2=\"241.3398\"/></a><!--MD5=[ebbe1d658d1005bcc118a6aa81145e00]\n",
       "class E4--><a href=\"psysml:236a437d-3673-4742-905a-959f5dd42893\" target=\"_top\" title=\"psysml:236a437d-3673-4742-905a-959f5dd42893\" xlink:actuate=\"onRequest\" xlink:href=\"psysml:236a437d-3673-4742-905a-959f5dd42893\" xlink:show=\"new\" xlink:title=\"psysml:236a437d-3673-4742-905a-959f5dd42893\" xlink:type=\"simple\"><rect fill=\"#FFFFFF\" height=\"45.9375\" id=\"E4\" rx=\"10\" ry=\"10\" style=\"stroke: #383838; stroke-width: 1.5;\" width=\"46\" x=\"128\" y=\"325\"/><text fill=\"#000000\" font-family=\"sans-serif\" font-size=\"12\" font-style=\"italic\" lengthAdjust=\"spacingAndGlyphs\" textLength=\"40\" x=\"131\" y=\"341.1387\">«port»</text><text fill=\"#000000\" font-family=\"sans-serif\" font-size=\"12\" lengthAdjust=\"spacingAndGlyphs\" textLength=\"40\" x=\"131\" y=\"355.1074\">porig1</text><line style=\"stroke: #383838; stroke-width: 1.5;\" x1=\"129\" x2=\"173\" y1=\"362.9375\" y2=\"362.9375\"/></a><!--MD5=[270fce915f116d4de14055a7c1d9a0f3]\n",
       "class E5--><a href=\"psysml:4e54ee4d-012b-498f-93d7-1afb3759d34d\" target=\"_top\" title=\"psysml:4e54ee4d-012b-498f-93d7-1afb3759d34d\" xlink:actuate=\"onRequest\" xlink:href=\"psysml:4e54ee4d-012b-498f-93d7-1afb3759d34d\" xlink:show=\"new\" xlink:title=\"psysml:4e54ee4d-012b-498f-93d7-1afb3759d34d\" xlink:type=\"simple\"><rect fill=\"#FFFFFF\" height=\"88.3516\" id=\"E5\" rx=\"10\" ry=\"10\" style=\"stroke: #383838; stroke-width: 1.5;\" width=\"92\" x=\"113\" y=\"41\"/><text fill=\"#000000\" font-family=\"sans-serif\" font-size=\"12\" font-style=\"italic\" lengthAdjust=\"spacingAndGlyphs\" textLength=\"40\" x=\"139\" y=\"57.1387\">«part»</text><text fill=\"#000000\" font-family=\"sans-serif\" font-size=\"12\" lengthAdjust=\"spacingAndGlyphs\" textLength=\"40\" x=\"139\" y=\"71.1074\">p1: P1</text><line style=\"stroke: #383838; stroke-width: 1.5;\" x1=\"114\" x2=\"204\" y1=\"78.9375\" y2=\"78.9375\"/><text fill=\"#000000\" font-family=\"sans-serif\" font-size=\"11\" lengthAdjust=\"spacingAndGlyphs\" textLength=\"30\" x=\"119\" y=\"109.9526\">^po1</text><text fill=\"#000000\" font-family=\"sans-serif\" font-size=\"11\" font-style=\"italic\" lengthAdjust=\"spacingAndGlyphs\" textLength=\"80\" x=\"119\" y=\"122.7573\">:&gt;&gt;P1::porig1</text><line style=\"stroke: #383838; stroke-width: 1.0;\" x1=\"114\" x2=\"144\" y1=\"93.3398\" y2=\"93.3398\"/><text fill=\"#000000\" font-family=\"sans-serif\" font-size=\"11\" lengthAdjust=\"spacingAndGlyphs\" textLength=\"30\" x=\"144\" y=\"96.6479\">ports</text><line style=\"stroke: #383838; stroke-width: 1.0;\" x1=\"174\" x2=\"204\" y1=\"93.3398\" y2=\"93.3398\"/></a><!--MD5=[60a26617385b1d2d0262a64233df1f8d]\n",
       "class E6--><a href=\"psysml:77eadb46-ce1a-4e0f-9527-bb06765d2ea7\" target=\"_top\" title=\"psysml:77eadb46-ce1a-4e0f-9527-bb06765d2ea7\" xlink:actuate=\"onRequest\" xlink:href=\"psysml:77eadb46-ce1a-4e0f-9527-bb06765d2ea7\" xlink:show=\"new\" xlink:title=\"psysml:77eadb46-ce1a-4e0f-9527-bb06765d2ea7\" xlink:type=\"simple\"><rect fill=\"#FFFFFF\" height=\"75.5469\" id=\"E6\" rx=\"10\" ry=\"10\" style=\"stroke: #383838; stroke-width: 1.5;\" width=\"46\" x=\"32\" y=\"47\"/><text fill=\"#000000\" font-family=\"sans-serif\" font-size=\"12\" font-style=\"italic\" lengthAdjust=\"spacingAndGlyphs\" textLength=\"40\" x=\"35\" y=\"63.1387\">«part»</text><text fill=\"#000000\" font-family=\"sans-serif\" font-size=\"12\" lengthAdjust=\"spacingAndGlyphs\" textLength=\"40\" x=\"35\" y=\"77.1074\">p2: P1</text><line style=\"stroke: #383838; stroke-width: 1.5;\" x1=\"33\" x2=\"77\" y1=\"84.9375\" y2=\"84.9375\"/><text fill=\"#000000\" font-family=\"sans-serif\" font-size=\"11\" lengthAdjust=\"spacingAndGlyphs\" textLength=\"32\" x=\"38\" y=\"115.9526\">pdest</text><line style=\"stroke: #383838; stroke-width: 1.0;\" x1=\"33\" x2=\"40\" y1=\"99.3398\" y2=\"99.3398\"/><text fill=\"#000000\" font-family=\"sans-serif\" font-size=\"11\" lengthAdjust=\"spacingAndGlyphs\" textLength=\"30\" x=\"40\" y=\"102.6479\">ports</text><line style=\"stroke: #383838; stroke-width: 1.0;\" x1=\"70\" x2=\"77\" y1=\"99.3398\" y2=\"99.3398\"/></a><!--MD5=[2156ba9850f5573cc1fc38a6a4b2f02b]\n",
       "class E7--><a href=\"psysml:db28622a-fbe8-4c7d-8fe4-9e164802e944\" target=\"_top\" title=\"psysml:db28622a-fbe8-4c7d-8fe4-9e164802e944\" xlink:actuate=\"onRequest\" xlink:href=\"psysml:db28622a-fbe8-4c7d-8fe4-9e164802e944\" xlink:show=\"new\" xlink:title=\"psysml:db28622a-fbe8-4c7d-8fe4-9e164802e944\" xlink:type=\"simple\"><rect fill=\"#FFFFFF\" height=\"45.9375\" id=\"E7\" rx=\"10\" ry=\"10\" style=\"stroke: #383838; stroke-width: 1.5;\" width=\"42\" x=\"34\" y=\"204\"/><text fill=\"#000000\" font-family=\"sans-serif\" font-size=\"12\" font-style=\"italic\" lengthAdjust=\"spacingAndGlyphs\" textLength=\"40\" x=\"35\" y=\"220.1387\">«port»</text><text fill=\"#000000\" font-family=\"sans-serif\" font-size=\"12\" lengthAdjust=\"spacingAndGlyphs\" textLength=\"36\" x=\"37\" y=\"234.1074\">pdest</text><line style=\"stroke: #383838; stroke-width: 1.5;\" x1=\"35\" x2=\"75\" y1=\"241.9375\" y2=\"241.9375\"/></a><!--MD5=[4672eba38e49728da53d11aeb285b987]\n",
       "reverse link E3 to E4--><a href=\"psysml:4c29fec0-8309-450b-9bf3-4a2b28b77917\" target=\"_top\" title=\"psysml:4c29fec0-8309-450b-9bf3-4a2b28b77917\" xlink:actuate=\"onRequest\" xlink:href=\"psysml:4c29fec0-8309-450b-9bf3-4a2b28b77917\" xlink:show=\"new\" xlink:title=\"psysml:4c29fec0-8309-450b-9bf3-4a2b28b77917\" xlink:type=\"simple\"><path d=\"M151,280.29 C151,295.98 151,312.34 151,324.93 \" fill=\"none\" id=\"E3&lt;-E4\" style=\"stroke: #383838; stroke-width: 1.0; stroke-dasharray: 7.0,7.0;\"/><ellipse cx=\"151\" cy=\"273\" fill=\"#FFFFFF\" rx=\"8\" ry=\"8\" style=\"stroke: #383838; stroke-width: 1.0;\"/><line style=\"stroke: #383838; stroke-width: 1.0;\" x1=\"151\" x2=\"151\" y1=\"281\" y2=\"265\"/><line style=\"stroke: #383838; stroke-width: 1.0;\" x1=\"143\" x2=\"159\" y1=\"273\" y2=\"273\"/><text fill=\"#000000\" font-family=\"sans-serif\" font-size=\"13\" lengthAdjust=\"spacingAndGlyphs\" textLength=\"8\" x=\"141.925\" y=\"313.8075\">1</text></a><!--MD5=[e9be52314489bd878ff4c7144b63c9e1]\n",
       "link E5 to E3--><a href=\"psysml:93a52ea3-a140-4bd2-b924-ec5ad15b1b7e\" target=\"_top\" title=\"psysml:93a52ea3-a140-4bd2-b924-ec5ad15b1b7e\" xlink:actuate=\"onRequest\" xlink:href=\"psysml:93a52ea3-a140-4bd2-b924-ec5ad15b1b7e\" xlink:show=\"new\" xlink:title=\"psysml:93a52ea3-a140-4bd2-b924-ec5ad15b1b7e\" xlink:type=\"simple\"><path d=\"M156.53,129.15 C155.82,141.7 155.02,155.6 154.26,168.87 \" fill=\"none\" id=\"E5-&gt;E3\" style=\"stroke: #383838; stroke-width: 1.0;\"/><polygon fill=\"#FFFFFF\" points=\"153.12,188.9,147.2169,169.5311,161.1941,170.331,153.12,188.9\" style=\"stroke: #383838; stroke-width: 1.0;\"/><ellipse cx=\"149.5393\" cy=\"163.9547\" fill=\"#383838\" rx=\"2\" ry=\"2\" style=\"stroke: #383838; stroke-width: 1.0;\"/><ellipse cx=\"159.523\" cy=\"164.526\" fill=\"#383838\" rx=\"2\" ry=\"2\" style=\"stroke: #383838; stroke-width: 1.0;\"/></a><!--MD5=[a717450b82c80b9240a525fa862496af]\n",
       "link E6 to E3--><a href=\"psysml:87c48ed5-bc50-48bb-899d-f807bfcdc26e\" target=\"_top\" title=\"psysml:87c48ed5-bc50-48bb-899d-f807bfcdc26e\" xlink:actuate=\"onRequest\" xlink:href=\"psysml:87c48ed5-bc50-48bb-899d-f807bfcdc26e\" xlink:show=\"new\" xlink:title=\"psysml:87c48ed5-bc50-48bb-899d-f807bfcdc26e\" xlink:type=\"simple\"><path d=\"M78.24,119.89 C89.03,135.63 102.13,154.73 114.21,172.35 \" fill=\"none\" id=\"E6-&gt;E3\" style=\"stroke: #383838; stroke-width: 1.0;\"/><polygon fill=\"#FFFFFF\" points=\"125.62,188.98,109.1019,177.2689,120.6481,169.3515,125.62,188.98\" style=\"stroke: #383838; stroke-width: 1.0;\"/><ellipse cx=\"107.5278\" cy=\"171.4368\" fill=\"#383838\" rx=\"2\" ry=\"2\" style=\"stroke: #383838; stroke-width: 1.0;\"/><ellipse cx=\"115.7751\" cy=\"165.7816\" fill=\"#383838\" rx=\"2\" ry=\"2\" style=\"stroke: #383838; stroke-width: 1.0;\"/></a><!--MD5=[3f50a3473f1dfb74d3f76443e03635af]\n",
       "reverse link E6 to E7--><a href=\"psysml:4eb1c616-a5a7-47d5-8985-e84491dc2120\" target=\"_top\" title=\"psysml:4eb1c616-a5a7-47d5-8985-e84491dc2120\" xlink:actuate=\"onRequest\" xlink:href=\"psysml:4eb1c616-a5a7-47d5-8985-e84491dc2120\" xlink:show=\"new\" xlink:title=\"psysml:4eb1c616-a5a7-47d5-8985-e84491dc2120\" xlink:type=\"simple\"><path d=\"M55,138.32 C55,161.03 55,186.4 55,203.99 \" fill=\"none\" id=\"E6&lt;-E7\" style=\"stroke: #383838; stroke-width: 1.0; stroke-dasharray: 7.0,7.0;\"/><ellipse cx=\"55\" cy=\"131.15\" fill=\"#FFFFFF\" rx=\"8\" ry=\"8\" style=\"stroke: #383838; stroke-width: 1.0;\"/><line style=\"stroke: #383838; stroke-width: 1.0;\" x1=\"55\" x2=\"55\" y1=\"139.15\" y2=\"123.15\"/><line style=\"stroke: #383838; stroke-width: 1.0;\" x1=\"47\" x2=\"63\" y1=\"131.15\" y2=\"131.15\"/><text fill=\"#000000\" font-family=\"sans-serif\" font-size=\"13\" lengthAdjust=\"spacingAndGlyphs\" textLength=\"8\" x=\"45.925\" y=\"192.8836\">1</text></a><!--MD5=[b3536015acd09c4b9d0d665ec64a60f0]\n",
       "@startuml\r\n",
       " skinparam monochrome true\r\n",
       "skinparam classbackgroundcolor white\r\n",
       "skinparam shadowing false\r\n",
       "skinparam wrapWidth 300\r\n",
       "hide circle\r\n",
       "\r\n",
       "package \"AliasTest\" as E1  [[psysml:7e4311dd-4dd4-41de-a431-b17c5d614850 ]]  {\r\n",
       "comp usage \"q\" as E2  <<(T,blue) attribute>> [[psysml:789c28e5-5e95-405e-84fa-948507b238dc ]] {\r\n",
       "}\r\n",
       "comp def \"P1\" as E3  <<(T,blue) part def>> [[psysml:00588ae4-2df7-4d57-b3d7-e09c73d2d5b1 ]] {\r\n",
       "- - ports - -\r\n",
       "porig1\r\n",
       "}\r\n",
       "comp usage \"porig1\" as E4  <<(T,blue) port>> [[psysml:236a437d-3673-4742-905a-959f5dd42893 ]] {\r\n",
       "}\r\n",
       "comp usage \"p1: P1\" as E5  <<(T,blue) part>> [[psysml:4e54ee4d-012b-498f-93d7-1afb3759d34d ]] {\r\n",
       "- - ports - -\r\n",
       "^po1\\n//:>>P1::porig1// \r\n",
       "}\r\n",
       "comp usage \"p2: P1\" as E6  <<(T,blue) part>> [[psysml:77eadb46-ce1a-4e0f-9527-bb06765d2ea7 ]] {\r\n",
       "- - ports - -\r\n",
       "pdest\r\n",
       "}\r\n",
       "comp usage \"pdest\" as E7  <<(T,blue) port>> [[psysml:db28622a-fbe8-4c7d-8fe4-9e164802e944 ]] {\r\n",
       "}\r\n",
       "E3 +.. \"1\"E4 [[psysml:4c29fec0-8309-450b-9bf3-4a2b28b77917 ]] \r\n",
       "E5 - -:|> E3 [[psysml:93a52ea3-a140-4bd2-b924-ec5ad15b1b7e ]] \r\n",
       "E6 - -:|> E3 [[psysml:87c48ed5-bc50-48bb-899d-f807bfcdc26e ]] \r\n",
       "E6 +.. \"1\"E7 [[psysml:4eb1c616-a5a7-47d5-8985-e84491dc2120 ]] \r\n",
       "}\r\n",
       "@enduml\r\n",
       "\n",
       "PlantUML version 1.2020.13(Sat Jun 13 12:26:38 UTC 2020)\n",
       "(EPL source distribution)\n",
       "Java Runtime: OpenJDK Runtime Environment\n",
       "JVM: OpenJDK 64-Bit Server VM\n",
       "Default Encoding: UTF-8\n",
       "Language: en\n",
       "Country: null\n",
       "--></g></svg>"
      ]
     },
     "execution_count": 8,
     "metadata": {},
     "output_type": "execute_result"
    }
   ],
   "source": [
    "%viz --style=\"COMPTREE\" --view=\"MIXED\" \"AliasTest\""
   ]
  },
  {
   "cell_type": "code",
   "execution_count": 9,
   "id": "85419968",
   "metadata": {
    "execution": {
     "iopub.execute_input": "2021-08-04T06:25:30.502956Z",
     "iopub.status.busy": "2021-08-04T06:25:30.502504Z",
     "iopub.status.idle": "2021-08-04T06:25:30.537076Z",
     "shell.execute_reply": "2021-08-04T06:25:30.535489Z"
    }
   },
   "outputs": [
    {
     "data": {
      "image/svg+xml": [
       "<?xml version=\"1.0\" encoding=\"UTF-8\" standalone=\"no\"?><svg xmlns=\"http://www.w3.org/2000/svg\" xmlns:xlink=\"http://www.w3.org/1999/xlink\" contentScriptType=\"application/ecmascript\" contentStyleType=\"text/css\" height=\"327px\" preserveAspectRatio=\"none\" style=\"width:304px;height:327px;\" version=\"1.1\" viewBox=\"0 0 304 327\" width=\"304px\" zoomAndPan=\"magnify\"><defs/><g><!--MD5=[fbc87193dbaf4d95561dea2c320d4a47]\n",
       "cluster E1--><a href=\"psysml:7e4311dd-4dd4-41de-a431-b17c5d614850\" target=\"_top\" title=\"psysml:7e4311dd-4dd4-41de-a431-b17c5d614850\" xlink:actuate=\"onRequest\" xlink:href=\"psysml:7e4311dd-4dd4-41de-a431-b17c5d614850\" xlink:show=\"new\" xlink:title=\"psysml:7e4311dd-4dd4-41de-a431-b17c5d614850\" xlink:type=\"simple\"><polygon fill=\"#FFFFFF\" points=\"16,6,94,6,101,28.2969,282,28.2969,282,315,16,315,16,6\" style=\"stroke: #000000; stroke-width: 1.5;\"/><line style=\"stroke: #000000; stroke-width: 1.5;\" x1=\"16\" x2=\"101\" y1=\"28.2969\" y2=\"28.2969\"/><text fill=\"#000000\" font-family=\"sans-serif\" font-size=\"14\" font-weight=\"bold\" lengthAdjust=\"spacingAndGlyphs\" textLength=\"72\" x=\"20\" y=\"20.9951\">AliasTest</text></a><!--MD5=[b4997ac47864f28c2f74865a473b2911]\n",
       "class E2--><a href=\"psysml:789c28e5-5e95-405e-84fa-948507b238dc\" target=\"_top\" title=\"psysml:789c28e5-5e95-405e-84fa-948507b238dc\" xlink:actuate=\"onRequest\" xlink:href=\"psysml:789c28e5-5e95-405e-84fa-948507b238dc\" xlink:show=\"new\" xlink:title=\"psysml:789c28e5-5e95-405e-84fa-948507b238dc\" xlink:type=\"simple\"><rect fill=\"#FFFFFF\" height=\"45.9375\" id=\"E2\" rx=\"10\" ry=\"10\" style=\"stroke: #383838; stroke-width: 1.5;\" width=\"71\" x=\"194.5\" y=\"41\"/><text fill=\"#000000\" font-family=\"sans-serif\" font-size=\"12\" font-style=\"italic\" lengthAdjust=\"spacingAndGlyphs\" textLength=\"69\" x=\"195.5\" y=\"57.1387\">«attribute»</text><text fill=\"#000000\" font-family=\"sans-serif\" font-size=\"12\" lengthAdjust=\"spacingAndGlyphs\" textLength=\"8\" x=\"226\" y=\"71.1074\">q</text><line style=\"stroke: #383838; stroke-width: 1.5;\" x1=\"195.5\" x2=\"264.5\" y1=\"78.9375\" y2=\"78.9375\"/></a><!--MD5=[09b614a08d8cba4a07c9adeb5e0fee81]\n",
       "class E3--><a href=\"psysml:00588ae4-2df7-4d57-b3d7-e09c73d2d5b1\" target=\"_top\" title=\"psysml:00588ae4-2df7-4d57-b3d7-e09c73d2d5b1\" xlink:actuate=\"onRequest\" xlink:href=\"psysml:00588ae4-2df7-4d57-b3d7-e09c73d2d5b1\" xlink:show=\"new\" xlink:title=\"psysml:00588ae4-2df7-4d57-b3d7-e09c73d2d5b1\" xlink:type=\"simple\"><rect fill=\"#FFFFFF\" height=\"45.9375\" id=\"E3\" style=\"stroke: #383838; stroke-width: 1.5;\" width=\"66\" x=\"168\" y=\"147\"/><text fill=\"#000000\" font-family=\"sans-serif\" font-size=\"12\" font-style=\"italic\" lengthAdjust=\"spacingAndGlyphs\" textLength=\"64\" x=\"169\" y=\"163.1387\">«part def»</text><text fill=\"#000000\" font-family=\"sans-serif\" font-size=\"12\" lengthAdjust=\"spacingAndGlyphs\" textLength=\"16\" x=\"193\" y=\"177.1074\">P1</text><line style=\"stroke: #383838; stroke-width: 1.5;\" x1=\"169\" x2=\"233\" y1=\"184.9375\" y2=\"184.9375\"/></a><!--MD5=[ebbe1d658d1005bcc118a6aa81145e00]\n",
       "class E4--><a href=\"psysml:236a437d-3673-4742-905a-959f5dd42893\" target=\"_top\" title=\"psysml:236a437d-3673-4742-905a-959f5dd42893\" xlink:actuate=\"onRequest\" xlink:href=\"psysml:236a437d-3673-4742-905a-959f5dd42893\" xlink:show=\"new\" xlink:title=\"psysml:236a437d-3673-4742-905a-959f5dd42893\" xlink:type=\"simple\"><rect fill=\"#FFFFFF\" height=\"45.9375\" id=\"E4\" rx=\"10\" ry=\"10\" style=\"stroke: #383838; stroke-width: 1.5;\" width=\"46\" x=\"178\" y=\"253\"/><text fill=\"#000000\" font-family=\"sans-serif\" font-size=\"12\" font-style=\"italic\" lengthAdjust=\"spacingAndGlyphs\" textLength=\"40\" x=\"181\" y=\"269.1387\">«port»</text><text fill=\"#000000\" font-family=\"sans-serif\" font-size=\"12\" lengthAdjust=\"spacingAndGlyphs\" textLength=\"40\" x=\"181\" y=\"283.1074\">porig1</text><line style=\"stroke: #383838; stroke-width: 1.5;\" x1=\"179\" x2=\"223\" y1=\"290.9375\" y2=\"290.9375\"/></a><!--MD5=[270fce915f116d4de14055a7c1d9a0f3]\n",
       "class E5--><a href=\"psysml:4e54ee4d-012b-498f-93d7-1afb3759d34d\" target=\"_top\" title=\"psysml:4e54ee4d-012b-498f-93d7-1afb3759d34d\" xlink:actuate=\"onRequest\" xlink:href=\"psysml:4e54ee4d-012b-498f-93d7-1afb3759d34d\" xlink:show=\"new\" xlink:title=\"psysml:4e54ee4d-012b-498f-93d7-1afb3759d34d\" xlink:type=\"simple\"><rect fill=\"#FFFFFF\" height=\"45.9375\" id=\"E5\" rx=\"10\" ry=\"10\" style=\"stroke: #383838; stroke-width: 1.5;\" width=\"46\" x=\"113\" y=\"41\"/><text fill=\"#000000\" font-family=\"sans-serif\" font-size=\"12\" font-style=\"italic\" lengthAdjust=\"spacingAndGlyphs\" textLength=\"40\" x=\"116\" y=\"57.1387\">«part»</text><text fill=\"#000000\" font-family=\"sans-serif\" font-size=\"12\" lengthAdjust=\"spacingAndGlyphs\" textLength=\"40\" x=\"116\" y=\"71.1074\">p1: P1</text><line style=\"stroke: #383838; stroke-width: 1.5;\" x1=\"114\" x2=\"158\" y1=\"78.9375\" y2=\"78.9375\"/></a><!--MD5=[60a26617385b1d2d0262a64233df1f8d]\n",
       "class E6--><a href=\"psysml:8965b7df-293c-4ee2-9b2b-715c01154c80\" target=\"_top\" title=\"psysml:8965b7df-293c-4ee2-9b2b-715c01154c80\" xlink:actuate=\"onRequest\" xlink:href=\"psysml:8965b7df-293c-4ee2-9b2b-715c01154c80\" xlink:show=\"new\" xlink:title=\"psysml:8965b7df-293c-4ee2-9b2b-715c01154c80\" xlink:type=\"simple\"><rect fill=\"#FFFFFF\" height=\"45.9375\" id=\"E6\" rx=\"10\" ry=\"10\" style=\"stroke: #383838; stroke-width: 1.5;\" width=\"42\" x=\"91\" y=\"147\"/><text fill=\"#000000\" font-family=\"sans-serif\" font-size=\"12\" font-style=\"italic\" lengthAdjust=\"spacingAndGlyphs\" textLength=\"40\" x=\"92\" y=\"163.1387\">«port»</text><text fill=\"#000000\" font-family=\"sans-serif\" font-size=\"12\" lengthAdjust=\"spacingAndGlyphs\" textLength=\"24\" x=\"100\" y=\"177.1074\">po1</text><line style=\"stroke: #383838; stroke-width: 1.5;\" x1=\"92\" x2=\"132\" y1=\"184.9375\" y2=\"184.9375\"/></a><!--MD5=[2156ba9850f5573cc1fc38a6a4b2f02b]\n",
       "class E7--><a href=\"psysml:77eadb46-ce1a-4e0f-9527-bb06765d2ea7\" target=\"_top\" title=\"psysml:77eadb46-ce1a-4e0f-9527-bb06765d2ea7\" xlink:actuate=\"onRequest\" xlink:href=\"psysml:77eadb46-ce1a-4e0f-9527-bb06765d2ea7\" xlink:show=\"new\" xlink:title=\"psysml:77eadb46-ce1a-4e0f-9527-bb06765d2ea7\" xlink:type=\"simple\"><rect fill=\"#FFFFFF\" height=\"45.9375\" id=\"E7\" rx=\"10\" ry=\"10\" style=\"stroke: #383838; stroke-width: 1.5;\" width=\"46\" x=\"32\" y=\"41\"/><text fill=\"#000000\" font-family=\"sans-serif\" font-size=\"12\" font-style=\"italic\" lengthAdjust=\"spacingAndGlyphs\" textLength=\"40\" x=\"35\" y=\"57.1387\">«part»</text><text fill=\"#000000\" font-family=\"sans-serif\" font-size=\"12\" lengthAdjust=\"spacingAndGlyphs\" textLength=\"40\" x=\"35\" y=\"71.1074\">p2: P1</text><line style=\"stroke: #383838; stroke-width: 1.5;\" x1=\"33\" x2=\"77\" y1=\"78.9375\" y2=\"78.9375\"/></a><!--MD5=[b9389687b975829384b498ac4b7476b2]\n",
       "class E8--><a href=\"psysml:db28622a-fbe8-4c7d-8fe4-9e164802e944\" target=\"_top\" title=\"psysml:db28622a-fbe8-4c7d-8fe4-9e164802e944\" xlink:actuate=\"onRequest\" xlink:href=\"psysml:db28622a-fbe8-4c7d-8fe4-9e164802e944\" xlink:show=\"new\" xlink:title=\"psysml:db28622a-fbe8-4c7d-8fe4-9e164802e944\" xlink:type=\"simple\"><rect fill=\"#FFFFFF\" height=\"45.9375\" id=\"E8\" rx=\"10\" ry=\"10\" style=\"stroke: #383838; stroke-width: 1.5;\" width=\"42\" x=\"63\" y=\"253\"/><text fill=\"#000000\" font-family=\"sans-serif\" font-size=\"12\" font-style=\"italic\" lengthAdjust=\"spacingAndGlyphs\" textLength=\"40\" x=\"64\" y=\"269.1387\">«port»</text><text fill=\"#000000\" font-family=\"sans-serif\" font-size=\"12\" lengthAdjust=\"spacingAndGlyphs\" textLength=\"36\" x=\"66\" y=\"283.1074\">pdest</text><line style=\"stroke: #383838; stroke-width: 1.5;\" x1=\"64\" x2=\"104\" y1=\"290.9375\" y2=\"290.9375\"/></a><!--MD5=[4672eba38e49728da53d11aeb285b987]\n",
       "reverse link E3 to E4--><a href=\"psysml:10297d07-57fa-4f9d-a873-bd76f542a35c\" target=\"_top\" title=\"psysml:10297d07-57fa-4f9d-a873-bd76f542a35c\" xlink:actuate=\"onRequest\" xlink:href=\"psysml:10297d07-57fa-4f9d-a873-bd76f542a35c\" xlink:show=\"new\" xlink:title=\"psysml:10297d07-57fa-4f9d-a873-bd76f542a35c\" xlink:type=\"simple\"><path d=\"M188.84,206.44 C187.7,221.87 188.21,239.47 190.36,252.98 \" fill=\"none\" id=\"E3&lt;-E4\" style=\"stroke: #383838; stroke-width: 1.0;\"/><polygon fill=\"#FFFFFF\" points=\"190.35,193.06,185.7032,198.5743,189.006,204.9845,193.6528,199.4702,190.35,193.06\" style=\"stroke: #383838; stroke-width: 1.0;\"/><text fill=\"#000000\" font-family=\"sans-serif\" font-size=\"13\" lengthAdjust=\"spacingAndGlyphs\" textLength=\"8\" x=\"178.4255\" y=\"241.8709\">1</text></a><!--MD5=[4672eba38e49728da53d11aeb285b987]\n",
       "reverse link E3 to E4--><a href=\"psysml:4c29fec0-8309-450b-9bf3-4a2b28b77917\" target=\"_top\" title=\"psysml:4c29fec0-8309-450b-9bf3-4a2b28b77917\" xlink:actuate=\"onRequest\" xlink:href=\"psysml:4c29fec0-8309-450b-9bf3-4a2b28b77917\" xlink:show=\"new\" xlink:title=\"psysml:4c29fec0-8309-450b-9bf3-4a2b28b77917\" xlink:type=\"simple\"><path d=\"M214.01,208.34 C215.03,223.3 214.45,240.02 212.27,252.98 \" fill=\"none\" id=\"E3&lt;-E4-1\" style=\"stroke: #383838; stroke-width: 1.0; stroke-dasharray: 7.0,7.0;\"/><ellipse cx=\"213.1693\" cy=\"201.0093\" fill=\"#FFFFFF\" rx=\"8\" ry=\"8\" style=\"stroke: #383838; stroke-width: 1.0;\"/><line style=\"stroke: #383838; stroke-width: 1.0;\" x1=\"214.0687\" x2=\"212.27\" y1=\"208.9586\" y2=\"193.06\"/><line style=\"stroke: #383838; stroke-width: 1.0;\" x1=\"205.2201\" x2=\"221.1186\" y1=\"201.9086\" y2=\"200.1099\"/><text fill=\"#000000\" font-family=\"sans-serif\" font-size=\"13\" lengthAdjust=\"spacingAndGlyphs\" textLength=\"8\" x=\"206.2238\" y=\"241.8709\">1</text></a><!--MD5=[e9be52314489bd878ff4c7144b63c9e1]\n",
       "link E5 to E3--><a href=\"psysml:93a52ea3-a140-4bd2-b924-ec5ad15b1b7e\" target=\"_top\" title=\"psysml:93a52ea3-a140-4bd2-b924-ec5ad15b1b7e\" xlink:actuate=\"onRequest\" xlink:href=\"psysml:93a52ea3-a140-4bd2-b924-ec5ad15b1b7e\" xlink:show=\"new\" xlink:title=\"psysml:93a52ea3-a140-4bd2-b924-ec5ad15b1b7e\" xlink:type=\"simple\"><path d=\"M149.78,87.06 C157.54,99.47 167.45,115.33 176.49,129.78 \" fill=\"none\" id=\"E5-&gt;E3\" style=\"stroke: #383838; stroke-width: 1.0;\"/><polygon fill=\"#FFFFFF\" points=\"187.24,146.98,171.2331,134.5792,183.1045,127.1584,187.24,146.98\" style=\"stroke: #383838; stroke-width: 1.0;\"/><ellipse cx=\"169.9076\" cy=\"128.6857\" fill=\"#383838\" rx=\"2\" ry=\"2\" style=\"stroke: #383838; stroke-width: 1.0;\"/><ellipse cx=\"178.3872\" cy=\"123.3851\" fill=\"#383838\" rx=\"2\" ry=\"2\" style=\"stroke: #383838; stroke-width: 1.0;\"/></a><!--MD5=[85d356282659285ab4b2cfe2f634dd2b]\n",
       "reverse link E5 to E6--><a href=\"psysml:cdcbbeec-90be-4e1d-8c60-d92c8a6a7077\" target=\"_top\" title=\"psysml:cdcbbeec-90be-4e1d-8c60-d92c8a6a7077\" xlink:actuate=\"onRequest\" xlink:href=\"psysml:cdcbbeec-90be-4e1d-8c60-d92c8a6a7077\" xlink:show=\"new\" xlink:title=\"psysml:cdcbbeec-90be-4e1d-8c60-d92c8a6a7077\" xlink:type=\"simple\"><path d=\"M127.93,99.96 C124.34,115.51 120.23,133.33 117.08,146.98 \" fill=\"none\" id=\"E5&lt;-E6\" style=\"stroke: #383838; stroke-width: 1.0;\"/><polygon fill=\"#FFFFFF\" points=\"130.91,87.06,125.6616,92.0052,128.2078,98.7518,133.4562,93.8066,130.91,87.06\" style=\"stroke: #383838; stroke-width: 1.0;\"/><text fill=\"#000000\" font-family=\"sans-serif\" font-size=\"13\" lengthAdjust=\"spacingAndGlyphs\" textLength=\"8\" x=\"109.3703\" y=\"135.8709\">1</text></a><!--MD5=[f667431f98296947986a1a7595a31603]\n",
       "link E6 to E4--><a href=\"psysml:b5614b00-f88c-4f87-85f7-609ca7f17bae\" target=\"_top\" title=\"psysml:b5614b00-f88c-4f87-85f7-609ca7f17bae\" xlink:actuate=\"onRequest\" xlink:href=\"psysml:b5614b00-f88c-4f87-85f7-609ca7f17bae\" xlink:show=\"new\" xlink:title=\"psysml:b5614b00-f88c-4f87-85f7-609ca7f17bae\" xlink:type=\"simple\"><path d=\"M130.87,193.06 C141.97,206.02 156.28,222.74 169.08,237.7 \" fill=\"none\" id=\"E6-&gt;E4\" style=\"stroke: #383838; stroke-width: 1.0;\"/><polygon fill=\"#FFFFFF\" points=\"182.15,252.98,164.4809,243.0905,175.1204,233.9909,182.15,252.98\" style=\"stroke: #383838; stroke-width: 1.0;\"/><line style=\"stroke: #383838; stroke-width: 2.0;\" x1=\"162.011\" x2=\"172.6505\" y1=\"240.2026\" y2=\"231.1031\"/></a><!--MD5=[14ccda38c055a5c0da953d572bc50960]\n",
       "link E7 to E3--><a href=\"psysml:87c48ed5-bc50-48bb-899d-f807bfcdc26e\" target=\"_top\" title=\"psysml:87c48ed5-bc50-48bb-899d-f807bfcdc26e\" xlink:actuate=\"onRequest\" xlink:href=\"psysml:87c48ed5-bc50-48bb-899d-f807bfcdc26e\" xlink:show=\"new\" xlink:title=\"psysml:87c48ed5-bc50-48bb-899d-f807bfcdc26e\" xlink:type=\"simple\"><path d=\"M78.13,81.48 C98.32,95.86 128.25,117.18 153.52,135.18 \" fill=\"none\" id=\"E7-&gt;E3\" style=\"stroke: #383838; stroke-width: 1.0;\"/><polygon fill=\"#FFFFFF\" points=\"170.09,146.98,150.5533,141.6586,158.6755,130.2555,170.09,146.98\" style=\"stroke: #383838; stroke-width: 1.0;\"/><ellipse cx=\"147.0709\" cy=\"136.7227\" fill=\"#383838\" rx=\"2\" ry=\"2\" style=\"stroke: #383838; stroke-width: 1.0;\"/><ellipse cx=\"152.8725\" cy=\"128.5776\" fill=\"#383838\" rx=\"2\" ry=\"2\" style=\"stroke: #383838; stroke-width: 1.0;\"/></a><!--MD5=[dc164f5e8a733ab456ef1add180e9e34]\n",
       "reverse link E7 to E8--><a href=\"psysml:5ff6c459-66f7-4338-82bb-16aa2b22f6b4\" target=\"_top\" title=\"psysml:5ff6c459-66f7-4338-82bb-16aa2b22f6b4\" xlink:actuate=\"onRequest\" xlink:href=\"psysml:5ff6c459-66f7-4338-82bb-16aa2b22f6b4\" xlink:show=\"new\" xlink:title=\"psysml:5ff6c459-66f7-4338-82bb-16aa2b22f6b4\" xlink:type=\"simple\"><path d=\"M50.05,100.09 C51.65,143.61 62.25,216.5 72.75,252.9 \" fill=\"none\" id=\"E7&lt;-E8\" style=\"stroke: #383838; stroke-width: 1.0;\"/><polygon fill=\"#FFFFFF\" points=\"49.85,87.08,45.9362,93.1366,50.0216,99.0788,53.9354,93.0222,49.85,87.08\" style=\"stroke: #383838; stroke-width: 1.0;\"/><text fill=\"#000000\" font-family=\"sans-serif\" font-size=\"13\" lengthAdjust=\"spacingAndGlyphs\" textLength=\"8\" x=\"60.6516\" y=\"241.7694\">1</text></a><!--MD5=[dc164f5e8a733ab456ef1add180e9e34]\n",
       "reverse link E7 to E8--><a href=\"psysml:4eb1c616-a5a7-47d5-8985-e84491dc2120\" target=\"_top\" title=\"psysml:4eb1c616-a5a7-47d5-8985-e84491dc2120\" xlink:actuate=\"onRequest\" xlink:href=\"psysml:4eb1c616-a5a7-47d5-8985-e84491dc2120\" xlink:show=\"new\" xlink:title=\"psysml:4eb1c616-a5a7-47d5-8985-e84491dc2120\" xlink:type=\"simple\"><path d=\"M70.64,101.8 C81.15,145.5 90.39,216.97 89.63,252.9 \" fill=\"none\" id=\"E7&lt;-E8-1\" style=\"stroke: #383838; stroke-width: 1.0; stroke-dasharray: 7.0,7.0;\"/><ellipse cx=\"68.7794\" cy=\"94.813\" fill=\"#FFFFFF\" rx=\"8\" ry=\"8\" style=\"stroke: #383838; stroke-width: 1.0;\"/><line style=\"stroke: #383838; stroke-width: 1.0;\" x1=\"70.8289\" x2=\"66.73\" y1=\"102.5461\" y2=\"87.08\"/><line style=\"stroke: #383838; stroke-width: 1.0;\" x1=\"61.0464\" x2=\"76.5125\" y1=\"96.8625\" y2=\"92.7636\"/><text fill=\"#000000\" font-family=\"sans-serif\" font-size=\"13\" lengthAdjust=\"spacingAndGlyphs\" textLength=\"8\" x=\"92.2181\" y=\"241.7694\">1</text></a><!--MD5=[0a839d0f80c2d72d4b9b307f046d0de8]\n",
       "link E6 to E8--><a href=\"psysml:af89f277-c22a-4acb-b9c9-7f04d6a8a86b\" target=\"_top\" title=\"psysml:af89f277-c22a-4acb-b9c9-7f04d6a8a86b\" xlink:actuate=\"onRequest\" xlink:href=\"psysml:af89f277-c22a-4acb-b9c9-7f04d6a8a86b\" xlink:show=\"new\" xlink:title=\"psysml:af89f277-c22a-4acb-b9c9-7f04d6a8a86b\" xlink:type=\"simple\"><path d=\"M95.42,193.06 C87.86,210.7 81.23,235.34 79.29,252.98 \" fill=\"none\" id=\"E6-E8\" style=\"stroke: #383838; stroke-width: 3.0;\"/><text fill=\"#000000\" font-family=\"sans-serif\" font-size=\"13\" lengthAdjust=\"spacingAndGlyphs\" textLength=\"7\" x=\"78.9648\" y=\"241.8709\">*</text></a><!--MD5=[0a839d0f80c2d72d4b9b307f046d0de8]\n",
       "link E6 to E8--><a href=\"psysml:6818c790-7ee4-49fa-b866-28c88d0d2e1e\" target=\"_top\" title=\"psysml:6818c790-7ee4-49fa-b866-28c88d0d2e1e\" xlink:actuate=\"onRequest\" xlink:href=\"psysml:6818c790-7ee4-49fa-b866-28c88d0d2e1e\" xlink:show=\"new\" xlink:title=\"psysml:6818c790-7ee4-49fa-b866-28c88d0d2e1e\" xlink:type=\"simple\"><path d=\"M117.33,193.06 C115.55,210.7 108.92,235.34 101.2,252.98 \" fill=\"none\" id=\"E6-E8-1\" style=\"stroke: #383838; stroke-width: 3.0;\"/><text fill=\"#000000\" font-family=\"sans-serif\" font-size=\"13\" lengthAdjust=\"spacingAndGlyphs\" textLength=\"7\" x=\"97.8819\" y=\"241.8709\">*</text></a><!--MD5=[012edc820cc18e1b28c92bfe30596caf]\n",
       "@startuml\r\n",
       "skinparam linetype polyline\r\n",
       "skinparam monochrome true\r\n",
       "skinparam classbackgroundcolor white\r\n",
       "skinparam shadowing false\r\n",
       "skinparam wrapWidth 300\r\n",
       "hide circle\r\n",
       "\r\n",
       "package \"AliasTest\" as E1  [[psysml:7e4311dd-4dd4-41de-a431-b17c5d614850 ]]  {\r\n",
       "comp usage \"q\" as E2  <<(T,blue) attribute>> [[psysml:789c28e5-5e95-405e-84fa-948507b238dc ]] {\r\n",
       "}\r\n",
       "comp def \"P1\" as E3  <<(T,blue) part def>> [[psysml:00588ae4-2df7-4d57-b3d7-e09c73d2d5b1 ]] {\r\n",
       "}\r\n",
       "comp usage \"porig1\" as E4  <<(T,blue) port>> [[psysml:236a437d-3673-4742-905a-959f5dd42893 ]] {\r\n",
       "}\r\n",
       "comp usage \"p1: P1\" as E5  <<(T,blue) part>> [[psysml:4e54ee4d-012b-498f-93d7-1afb3759d34d ]] {\r\n",
       "}\r\n",
       "comp usage \"po1\" as E6  <<(T,blue) port>> [[psysml:8965b7df-293c-4ee2-9b2b-715c01154c80 ]] {\r\n",
       "}\r\n",
       "comp usage \"p2: P1\" as E7  <<(T,blue) part>> [[psysml:77eadb46-ce1a-4e0f-9527-bb06765d2ea7 ]] {\r\n",
       "}\r\n",
       "comp usage \"pdest\" as E8  <<(T,blue) port>> [[psysml:db28622a-fbe8-4c7d-8fe4-9e164802e944 ]] {\r\n",
       "}\r\n",
       "E3 o- - \"1\"E4 [[psysml:10297d07-57fa-4f9d-a873-bd76f542a35c ]] \r\n",
       "E3 +.. \"1\"E4 [[psysml:4c29fec0-8309-450b-9bf3-4a2b28b77917 ]] \r\n",
       "E5 - -:|> E3 [[psysml:93a52ea3-a140-4bd2-b924-ec5ad15b1b7e ]] \r\n",
       "E5 o- - \"1\"E6 [[psysml:cdcbbeec-90be-4e1d-8c60-d92c8a6a7077 ]] \r\n",
       "E6 - -||> E4 [[psysml:b5614b00-f88c-4f87-85f7-609ca7f17bae ]] \r\n",
       "E7 - -:|> E3 [[psysml:87c48ed5-bc50-48bb-899d-f807bfcdc26e ]] \r\n",
       "E7 o- - \"1\"E8 [[psysml:5ff6c459-66f7-4338-82bb-16aa2b22f6b4 ]] \r\n",
       "E7 +.. \"1\"E8 [[psysml:4eb1c616-a5a7-47d5-8985-e84491dc2120 ]] \r\n",
       "E6 -[thickness=3]- \"*\"E8 [[psysml:af89f277-c22a-4acb-b9c9-7f04d6a8a86b ]] \r\n",
       "E6 -[thickness=3]- \"*\"E8 [[psysml:6818c790-7ee4-49fa-b866-28c88d0d2e1e ]] \r\n",
       "}\r\n",
       "@enduml\r\n",
       "\n",
       "PlantUML version 1.2020.13(Sat Jun 13 12:26:38 UTC 2020)\n",
       "(EPL source distribution)\n",
       "Java Runtime: OpenJDK Runtime Environment\n",
       "JVM: OpenJDK 64-Bit Server VM\n",
       "Default Encoding: UTF-8\n",
       "Language: en\n",
       "Country: null\n",
       "--></g></svg>"
      ]
     },
     "execution_count": 9,
     "metadata": {},
     "output_type": "execute_result"
    }
   ],
   "source": [
    "%viz --style=\"POLYLINE\" --view=\"Default\" \"AliasTest\""
   ]
  },
  {
   "cell_type": "code",
   "execution_count": 10,
   "id": "5401615c",
   "metadata": {
    "execution": {
     "iopub.execute_input": "2021-08-04T06:25:30.586019Z",
     "iopub.status.busy": "2021-08-04T06:25:30.585776Z",
     "iopub.status.idle": "2021-08-04T06:25:30.631666Z",
     "shell.execute_reply": "2021-08-04T06:25:30.631463Z"
    }
   },
   "outputs": [
    {
     "data": {
      "image/svg+xml": [
       "<?xml version=\"1.0\" encoding=\"UTF-8\" standalone=\"no\"?><svg xmlns=\"http://www.w3.org/2000/svg\" xmlns:xlink=\"http://www.w3.org/1999/xlink\" contentScriptType=\"application/ecmascript\" contentStyleType=\"text/css\" height=\"327px\" preserveAspectRatio=\"none\" style=\"width:304px;height:327px;\" version=\"1.1\" viewBox=\"0 0 304 327\" width=\"304px\" zoomAndPan=\"magnify\"><defs/><g><!--MD5=[fbc87193dbaf4d95561dea2c320d4a47]\n",
       "cluster E1--><a href=\"psysml:7e4311dd-4dd4-41de-a431-b17c5d614850\" target=\"_top\" title=\"psysml:7e4311dd-4dd4-41de-a431-b17c5d614850\" xlink:actuate=\"onRequest\" xlink:href=\"psysml:7e4311dd-4dd4-41de-a431-b17c5d614850\" xlink:show=\"new\" xlink:title=\"psysml:7e4311dd-4dd4-41de-a431-b17c5d614850\" xlink:type=\"simple\"><polygon fill=\"#FFFFFF\" points=\"16,6,94,6,101,28.2969,282,28.2969,282,315,16,315,16,6\" style=\"stroke: #000000; stroke-width: 1.5;\"/><line style=\"stroke: #000000; stroke-width: 1.5;\" x1=\"16\" x2=\"101\" y1=\"28.2969\" y2=\"28.2969\"/><text fill=\"#000000\" font-family=\"sans-serif\" font-size=\"14\" font-weight=\"bold\" lengthAdjust=\"spacingAndGlyphs\" textLength=\"72\" x=\"20\" y=\"20.9951\">AliasTest</text></a><!--MD5=[b4997ac47864f28c2f74865a473b2911]\n",
       "class E2--><a href=\"psysml:789c28e5-5e95-405e-84fa-948507b238dc\" target=\"_top\" title=\"psysml:789c28e5-5e95-405e-84fa-948507b238dc\" xlink:actuate=\"onRequest\" xlink:href=\"psysml:789c28e5-5e95-405e-84fa-948507b238dc\" xlink:show=\"new\" xlink:title=\"psysml:789c28e5-5e95-405e-84fa-948507b238dc\" xlink:type=\"simple\"><rect fill=\"#FFFFFF\" height=\"45.9375\" id=\"E2\" rx=\"10\" ry=\"10\" style=\"stroke: #383838; stroke-width: 1.5;\" width=\"71\" x=\"194.5\" y=\"41\"/><text fill=\"#000000\" font-family=\"sans-serif\" font-size=\"12\" font-style=\"italic\" lengthAdjust=\"spacingAndGlyphs\" textLength=\"69\" x=\"195.5\" y=\"57.1387\">«attribute»</text><text fill=\"#000000\" font-family=\"sans-serif\" font-size=\"12\" lengthAdjust=\"spacingAndGlyphs\" textLength=\"8\" x=\"226\" y=\"71.1074\">q</text><line style=\"stroke: #383838; stroke-width: 1.5;\" x1=\"195.5\" x2=\"264.5\" y1=\"78.9375\" y2=\"78.9375\"/></a><!--MD5=[09b614a08d8cba4a07c9adeb5e0fee81]\n",
       "class E3--><a href=\"psysml:00588ae4-2df7-4d57-b3d7-e09c73d2d5b1\" target=\"_top\" title=\"psysml:00588ae4-2df7-4d57-b3d7-e09c73d2d5b1\" xlink:actuate=\"onRequest\" xlink:href=\"psysml:00588ae4-2df7-4d57-b3d7-e09c73d2d5b1\" xlink:show=\"new\" xlink:title=\"psysml:00588ae4-2df7-4d57-b3d7-e09c73d2d5b1\" xlink:type=\"simple\"><rect fill=\"#FFFFFF\" height=\"45.9375\" id=\"E3\" style=\"stroke: #383838; stroke-width: 1.5;\" width=\"66\" x=\"168\" y=\"147\"/><text fill=\"#000000\" font-family=\"sans-serif\" font-size=\"12\" font-style=\"italic\" lengthAdjust=\"spacingAndGlyphs\" textLength=\"64\" x=\"169\" y=\"163.1387\">«part def»</text><text fill=\"#000000\" font-family=\"sans-serif\" font-size=\"12\" lengthAdjust=\"spacingAndGlyphs\" textLength=\"16\" x=\"193\" y=\"177.1074\">P1</text><line style=\"stroke: #383838; stroke-width: 1.5;\" x1=\"169\" x2=\"233\" y1=\"184.9375\" y2=\"184.9375\"/></a><!--MD5=[ebbe1d658d1005bcc118a6aa81145e00]\n",
       "class E4--><a href=\"psysml:236a437d-3673-4742-905a-959f5dd42893\" target=\"_top\" title=\"psysml:236a437d-3673-4742-905a-959f5dd42893\" xlink:actuate=\"onRequest\" xlink:href=\"psysml:236a437d-3673-4742-905a-959f5dd42893\" xlink:show=\"new\" xlink:title=\"psysml:236a437d-3673-4742-905a-959f5dd42893\" xlink:type=\"simple\"><rect fill=\"#FFFFFF\" height=\"45.9375\" id=\"E4\" rx=\"10\" ry=\"10\" style=\"stroke: #383838; stroke-width: 1.5;\" width=\"46\" x=\"178\" y=\"253\"/><text fill=\"#000000\" font-family=\"sans-serif\" font-size=\"12\" font-style=\"italic\" lengthAdjust=\"spacingAndGlyphs\" textLength=\"40\" x=\"181\" y=\"269.1387\">«port»</text><text fill=\"#000000\" font-family=\"sans-serif\" font-size=\"12\" lengthAdjust=\"spacingAndGlyphs\" textLength=\"40\" x=\"181\" y=\"283.1074\">porig1</text><line style=\"stroke: #383838; stroke-width: 1.5;\" x1=\"179\" x2=\"223\" y1=\"290.9375\" y2=\"290.9375\"/></a><!--MD5=[270fce915f116d4de14055a7c1d9a0f3]\n",
       "class E5--><a href=\"psysml:4e54ee4d-012b-498f-93d7-1afb3759d34d\" target=\"_top\" title=\"psysml:4e54ee4d-012b-498f-93d7-1afb3759d34d\" xlink:actuate=\"onRequest\" xlink:href=\"psysml:4e54ee4d-012b-498f-93d7-1afb3759d34d\" xlink:show=\"new\" xlink:title=\"psysml:4e54ee4d-012b-498f-93d7-1afb3759d34d\" xlink:type=\"simple\"><rect fill=\"#FFFFFF\" height=\"45.9375\" id=\"E5\" rx=\"10\" ry=\"10\" style=\"stroke: #383838; stroke-width: 1.5;\" width=\"46\" x=\"113\" y=\"41\"/><text fill=\"#000000\" font-family=\"sans-serif\" font-size=\"12\" font-style=\"italic\" lengthAdjust=\"spacingAndGlyphs\" textLength=\"40\" x=\"116\" y=\"57.1387\">«part»</text><text fill=\"#000000\" font-family=\"sans-serif\" font-size=\"12\" lengthAdjust=\"spacingAndGlyphs\" textLength=\"40\" x=\"116\" y=\"71.1074\">p1: P1</text><line style=\"stroke: #383838; stroke-width: 1.5;\" x1=\"114\" x2=\"158\" y1=\"78.9375\" y2=\"78.9375\"/></a><!--MD5=[60a26617385b1d2d0262a64233df1f8d]\n",
       "class E6--><a href=\"psysml:8965b7df-293c-4ee2-9b2b-715c01154c80\" target=\"_top\" title=\"psysml:8965b7df-293c-4ee2-9b2b-715c01154c80\" xlink:actuate=\"onRequest\" xlink:href=\"psysml:8965b7df-293c-4ee2-9b2b-715c01154c80\" xlink:show=\"new\" xlink:title=\"psysml:8965b7df-293c-4ee2-9b2b-715c01154c80\" xlink:type=\"simple\"><rect fill=\"#FFFFFF\" height=\"45.9375\" id=\"E6\" rx=\"10\" ry=\"10\" style=\"stroke: #383838; stroke-width: 1.5;\" width=\"42\" x=\"91\" y=\"147\"/><text fill=\"#000000\" font-family=\"sans-serif\" font-size=\"12\" font-style=\"italic\" lengthAdjust=\"spacingAndGlyphs\" textLength=\"40\" x=\"92\" y=\"163.1387\">«port»</text><text fill=\"#000000\" font-family=\"sans-serif\" font-size=\"12\" lengthAdjust=\"spacingAndGlyphs\" textLength=\"24\" x=\"100\" y=\"177.1074\">po1</text><line style=\"stroke: #383838; stroke-width: 1.5;\" x1=\"92\" x2=\"132\" y1=\"184.9375\" y2=\"184.9375\"/></a><!--MD5=[2156ba9850f5573cc1fc38a6a4b2f02b]\n",
       "class E7--><a href=\"psysml:77eadb46-ce1a-4e0f-9527-bb06765d2ea7\" target=\"_top\" title=\"psysml:77eadb46-ce1a-4e0f-9527-bb06765d2ea7\" xlink:actuate=\"onRequest\" xlink:href=\"psysml:77eadb46-ce1a-4e0f-9527-bb06765d2ea7\" xlink:show=\"new\" xlink:title=\"psysml:77eadb46-ce1a-4e0f-9527-bb06765d2ea7\" xlink:type=\"simple\"><rect fill=\"#FFFFFF\" height=\"45.9375\" id=\"E7\" rx=\"10\" ry=\"10\" style=\"stroke: #383838; stroke-width: 1.5;\" width=\"46\" x=\"32\" y=\"41\"/><text fill=\"#000000\" font-family=\"sans-serif\" font-size=\"12\" font-style=\"italic\" lengthAdjust=\"spacingAndGlyphs\" textLength=\"40\" x=\"35\" y=\"57.1387\">«part»</text><text fill=\"#000000\" font-family=\"sans-serif\" font-size=\"12\" lengthAdjust=\"spacingAndGlyphs\" textLength=\"40\" x=\"35\" y=\"71.1074\">p2: P1</text><line style=\"stroke: #383838; stroke-width: 1.5;\" x1=\"33\" x2=\"77\" y1=\"78.9375\" y2=\"78.9375\"/></a><!--MD5=[b9389687b975829384b498ac4b7476b2]\n",
       "class E8--><a href=\"psysml:db28622a-fbe8-4c7d-8fe4-9e164802e944\" target=\"_top\" title=\"psysml:db28622a-fbe8-4c7d-8fe4-9e164802e944\" xlink:actuate=\"onRequest\" xlink:href=\"psysml:db28622a-fbe8-4c7d-8fe4-9e164802e944\" xlink:show=\"new\" xlink:title=\"psysml:db28622a-fbe8-4c7d-8fe4-9e164802e944\" xlink:type=\"simple\"><rect fill=\"#FFFFFF\" height=\"45.9375\" id=\"E8\" rx=\"10\" ry=\"10\" style=\"stroke: #383838; stroke-width: 1.5;\" width=\"42\" x=\"63\" y=\"253\"/><text fill=\"#000000\" font-family=\"sans-serif\" font-size=\"12\" font-style=\"italic\" lengthAdjust=\"spacingAndGlyphs\" textLength=\"40\" x=\"64\" y=\"269.1387\">«port»</text><text fill=\"#000000\" font-family=\"sans-serif\" font-size=\"12\" lengthAdjust=\"spacingAndGlyphs\" textLength=\"36\" x=\"66\" y=\"283.1074\">pdest</text><line style=\"stroke: #383838; stroke-width: 1.5;\" x1=\"64\" x2=\"104\" y1=\"290.9375\" y2=\"290.9375\"/></a><!--MD5=[4672eba38e49728da53d11aeb285b987]\n",
       "reverse link E3 to E4--><a href=\"psysml:10297d07-57fa-4f9d-a873-bd76f542a35c\" target=\"_top\" title=\"psysml:10297d07-57fa-4f9d-a873-bd76f542a35c\" xlink:actuate=\"onRequest\" xlink:href=\"psysml:10297d07-57fa-4f9d-a873-bd76f542a35c\" xlink:show=\"new\" xlink:title=\"psysml:10297d07-57fa-4f9d-a873-bd76f542a35c\" xlink:type=\"simple\"><path d=\"M188.84,206.44 C187.7,221.87 188.21,239.47 190.36,252.98 \" fill=\"none\" id=\"E3&lt;-E4\" style=\"stroke: #383838; stroke-width: 1.0;\"/><polygon fill=\"#FFFFFF\" points=\"190.35,193.06,185.7032,198.5743,189.006,204.9845,193.6528,199.4702,190.35,193.06\" style=\"stroke: #383838; stroke-width: 1.0;\"/><text fill=\"#000000\" font-family=\"sans-serif\" font-size=\"13\" lengthAdjust=\"spacingAndGlyphs\" textLength=\"8\" x=\"178.4255\" y=\"241.8709\">1</text></a><!--MD5=[4672eba38e49728da53d11aeb285b987]\n",
       "reverse link E3 to E4--><a href=\"psysml:4c29fec0-8309-450b-9bf3-4a2b28b77917\" target=\"_top\" title=\"psysml:4c29fec0-8309-450b-9bf3-4a2b28b77917\" xlink:actuate=\"onRequest\" xlink:href=\"psysml:4c29fec0-8309-450b-9bf3-4a2b28b77917\" xlink:show=\"new\" xlink:title=\"psysml:4c29fec0-8309-450b-9bf3-4a2b28b77917\" xlink:type=\"simple\"><path d=\"M214.01,208.34 C215.03,223.3 214.45,240.02 212.27,252.98 \" fill=\"none\" id=\"E3&lt;-E4-1\" style=\"stroke: #383838; stroke-width: 1.0; stroke-dasharray: 7.0,7.0;\"/><ellipse cx=\"213.1693\" cy=\"201.0093\" fill=\"#FFFFFF\" rx=\"8\" ry=\"8\" style=\"stroke: #383838; stroke-width: 1.0;\"/><line style=\"stroke: #383838; stroke-width: 1.0;\" x1=\"214.0687\" x2=\"212.27\" y1=\"208.9586\" y2=\"193.06\"/><line style=\"stroke: #383838; stroke-width: 1.0;\" x1=\"205.2201\" x2=\"221.1186\" y1=\"201.9086\" y2=\"200.1099\"/><text fill=\"#000000\" font-family=\"sans-serif\" font-size=\"13\" lengthAdjust=\"spacingAndGlyphs\" textLength=\"8\" x=\"206.2238\" y=\"241.8709\">1</text></a><!--MD5=[e9be52314489bd878ff4c7144b63c9e1]\n",
       "link E5 to E3--><a href=\"psysml:93a52ea3-a140-4bd2-b924-ec5ad15b1b7e\" target=\"_top\" title=\"psysml:93a52ea3-a140-4bd2-b924-ec5ad15b1b7e\" xlink:actuate=\"onRequest\" xlink:href=\"psysml:93a52ea3-a140-4bd2-b924-ec5ad15b1b7e\" xlink:show=\"new\" xlink:title=\"psysml:93a52ea3-a140-4bd2-b924-ec5ad15b1b7e\" xlink:type=\"simple\"><path d=\"M149.78,87.06 C157.54,99.47 167.45,115.33 176.49,129.78 \" fill=\"none\" id=\"E5-&gt;E3\" style=\"stroke: #383838; stroke-width: 1.0;\"/><polygon fill=\"#FFFFFF\" points=\"187.24,146.98,171.2331,134.5792,183.1045,127.1584,187.24,146.98\" style=\"stroke: #383838; stroke-width: 1.0;\"/><ellipse cx=\"169.9076\" cy=\"128.6857\" fill=\"#383838\" rx=\"2\" ry=\"2\" style=\"stroke: #383838; stroke-width: 1.0;\"/><ellipse cx=\"178.3872\" cy=\"123.3851\" fill=\"#383838\" rx=\"2\" ry=\"2\" style=\"stroke: #383838; stroke-width: 1.0;\"/></a><!--MD5=[85d356282659285ab4b2cfe2f634dd2b]\n",
       "reverse link E5 to E6--><a href=\"psysml:cdcbbeec-90be-4e1d-8c60-d92c8a6a7077\" target=\"_top\" title=\"psysml:cdcbbeec-90be-4e1d-8c60-d92c8a6a7077\" xlink:actuate=\"onRequest\" xlink:href=\"psysml:cdcbbeec-90be-4e1d-8c60-d92c8a6a7077\" xlink:show=\"new\" xlink:title=\"psysml:cdcbbeec-90be-4e1d-8c60-d92c8a6a7077\" xlink:type=\"simple\"><path d=\"M127.93,99.96 C124.34,115.51 120.23,133.33 117.08,146.98 \" fill=\"none\" id=\"E5&lt;-E6\" style=\"stroke: #383838; stroke-width: 1.0;\"/><polygon fill=\"#FFFFFF\" points=\"130.91,87.06,125.6616,92.0052,128.2078,98.7518,133.4562,93.8066,130.91,87.06\" style=\"stroke: #383838; stroke-width: 1.0;\"/><text fill=\"#000000\" font-family=\"sans-serif\" font-size=\"13\" lengthAdjust=\"spacingAndGlyphs\" textLength=\"8\" x=\"109.3703\" y=\"135.8709\">1</text></a><!--MD5=[f667431f98296947986a1a7595a31603]\n",
       "link E6 to E4--><a href=\"psysml:b5614b00-f88c-4f87-85f7-609ca7f17bae\" target=\"_top\" title=\"psysml:b5614b00-f88c-4f87-85f7-609ca7f17bae\" xlink:actuate=\"onRequest\" xlink:href=\"psysml:b5614b00-f88c-4f87-85f7-609ca7f17bae\" xlink:show=\"new\" xlink:title=\"psysml:b5614b00-f88c-4f87-85f7-609ca7f17bae\" xlink:type=\"simple\"><path d=\"M130.87,193.06 C141.97,206.02 156.28,222.74 169.08,237.7 \" fill=\"none\" id=\"E6-&gt;E4\" style=\"stroke: #383838; stroke-width: 1.0;\"/><polygon fill=\"#FFFFFF\" points=\"182.15,252.98,164.4809,243.0905,175.1204,233.9909,182.15,252.98\" style=\"stroke: #383838; stroke-width: 1.0;\"/><line style=\"stroke: #383838; stroke-width: 2.0;\" x1=\"162.011\" x2=\"172.6505\" y1=\"240.2026\" y2=\"231.1031\"/></a><!--MD5=[14ccda38c055a5c0da953d572bc50960]\n",
       "link E7 to E3--><a href=\"psysml:87c48ed5-bc50-48bb-899d-f807bfcdc26e\" target=\"_top\" title=\"psysml:87c48ed5-bc50-48bb-899d-f807bfcdc26e\" xlink:actuate=\"onRequest\" xlink:href=\"psysml:87c48ed5-bc50-48bb-899d-f807bfcdc26e\" xlink:show=\"new\" xlink:title=\"psysml:87c48ed5-bc50-48bb-899d-f807bfcdc26e\" xlink:type=\"simple\"><path d=\"M78.13,81.48 C98.32,95.86 128.25,117.18 153.52,135.18 \" fill=\"none\" id=\"E7-&gt;E3\" style=\"stroke: #383838; stroke-width: 1.0;\"/><polygon fill=\"#FFFFFF\" points=\"170.09,146.98,150.5533,141.6586,158.6755,130.2555,170.09,146.98\" style=\"stroke: #383838; stroke-width: 1.0;\"/><ellipse cx=\"147.0709\" cy=\"136.7227\" fill=\"#383838\" rx=\"2\" ry=\"2\" style=\"stroke: #383838; stroke-width: 1.0;\"/><ellipse cx=\"152.8725\" cy=\"128.5776\" fill=\"#383838\" rx=\"2\" ry=\"2\" style=\"stroke: #383838; stroke-width: 1.0;\"/></a><!--MD5=[dc164f5e8a733ab456ef1add180e9e34]\n",
       "reverse link E7 to E8--><a href=\"psysml:5ff6c459-66f7-4338-82bb-16aa2b22f6b4\" target=\"_top\" title=\"psysml:5ff6c459-66f7-4338-82bb-16aa2b22f6b4\" xlink:actuate=\"onRequest\" xlink:href=\"psysml:5ff6c459-66f7-4338-82bb-16aa2b22f6b4\" xlink:show=\"new\" xlink:title=\"psysml:5ff6c459-66f7-4338-82bb-16aa2b22f6b4\" xlink:type=\"simple\"><path d=\"M50.05,100.09 C51.65,143.61 62.25,216.5 72.75,252.9 \" fill=\"none\" id=\"E7&lt;-E8\" style=\"stroke: #383838; stroke-width: 1.0;\"/><polygon fill=\"#FFFFFF\" points=\"49.85,87.08,45.9362,93.1366,50.0216,99.0788,53.9354,93.0222,49.85,87.08\" style=\"stroke: #383838; stroke-width: 1.0;\"/><text fill=\"#000000\" font-family=\"sans-serif\" font-size=\"13\" lengthAdjust=\"spacingAndGlyphs\" textLength=\"8\" x=\"60.6516\" y=\"241.7694\">1</text></a><!--MD5=[dc164f5e8a733ab456ef1add180e9e34]\n",
       "reverse link E7 to E8--><a href=\"psysml:4eb1c616-a5a7-47d5-8985-e84491dc2120\" target=\"_top\" title=\"psysml:4eb1c616-a5a7-47d5-8985-e84491dc2120\" xlink:actuate=\"onRequest\" xlink:href=\"psysml:4eb1c616-a5a7-47d5-8985-e84491dc2120\" xlink:show=\"new\" xlink:title=\"psysml:4eb1c616-a5a7-47d5-8985-e84491dc2120\" xlink:type=\"simple\"><path d=\"M70.64,101.8 C81.15,145.5 90.39,216.97 89.63,252.9 \" fill=\"none\" id=\"E7&lt;-E8-1\" style=\"stroke: #383838; stroke-width: 1.0; stroke-dasharray: 7.0,7.0;\"/><ellipse cx=\"68.7794\" cy=\"94.813\" fill=\"#FFFFFF\" rx=\"8\" ry=\"8\" style=\"stroke: #383838; stroke-width: 1.0;\"/><line style=\"stroke: #383838; stroke-width: 1.0;\" x1=\"70.8289\" x2=\"66.73\" y1=\"102.5461\" y2=\"87.08\"/><line style=\"stroke: #383838; stroke-width: 1.0;\" x1=\"61.0464\" x2=\"76.5125\" y1=\"96.8625\" y2=\"92.7636\"/><text fill=\"#000000\" font-family=\"sans-serif\" font-size=\"13\" lengthAdjust=\"spacingAndGlyphs\" textLength=\"8\" x=\"92.2181\" y=\"241.7694\">1</text></a><!--MD5=[0a839d0f80c2d72d4b9b307f046d0de8]\n",
       "link E6 to E8--><a href=\"psysml:af89f277-c22a-4acb-b9c9-7f04d6a8a86b\" target=\"_top\" title=\"psysml:af89f277-c22a-4acb-b9c9-7f04d6a8a86b\" xlink:actuate=\"onRequest\" xlink:href=\"psysml:af89f277-c22a-4acb-b9c9-7f04d6a8a86b\" xlink:show=\"new\" xlink:title=\"psysml:af89f277-c22a-4acb-b9c9-7f04d6a8a86b\" xlink:type=\"simple\"><path d=\"M95.42,193.06 C87.86,210.7 81.23,235.34 79.29,252.98 \" fill=\"none\" id=\"E6-E8\" style=\"stroke: #383838; stroke-width: 3.0;\"/><text fill=\"#000000\" font-family=\"sans-serif\" font-size=\"13\" lengthAdjust=\"spacingAndGlyphs\" textLength=\"7\" x=\"78.9648\" y=\"241.8709\">*</text></a><!--MD5=[0a839d0f80c2d72d4b9b307f046d0de8]\n",
       "link E6 to E8--><a href=\"psysml:6818c790-7ee4-49fa-b866-28c88d0d2e1e\" target=\"_top\" title=\"psysml:6818c790-7ee4-49fa-b866-28c88d0d2e1e\" xlink:actuate=\"onRequest\" xlink:href=\"psysml:6818c790-7ee4-49fa-b866-28c88d0d2e1e\" xlink:show=\"new\" xlink:title=\"psysml:6818c790-7ee4-49fa-b866-28c88d0d2e1e\" xlink:type=\"simple\"><path d=\"M117.33,193.06 C115.55,210.7 108.92,235.34 101.2,252.98 \" fill=\"none\" id=\"E6-E8-1\" style=\"stroke: #383838; stroke-width: 3.0;\"/><text fill=\"#000000\" font-family=\"sans-serif\" font-size=\"13\" lengthAdjust=\"spacingAndGlyphs\" textLength=\"7\" x=\"97.8819\" y=\"241.8709\">*</text></a><!--MD5=[012edc820cc18e1b28c92bfe30596caf]\n",
       "@startuml\r\n",
       "skinparam linetype polyline\r\n",
       "skinparam monochrome true\r\n",
       "skinparam classbackgroundcolor white\r\n",
       "skinparam shadowing false\r\n",
       "skinparam wrapWidth 300\r\n",
       "hide circle\r\n",
       "\r\n",
       "package \"AliasTest\" as E1  [[psysml:7e4311dd-4dd4-41de-a431-b17c5d614850 ]]  {\r\n",
       "comp usage \"q\" as E2  <<(T,blue) attribute>> [[psysml:789c28e5-5e95-405e-84fa-948507b238dc ]] {\r\n",
       "}\r\n",
       "comp def \"P1\" as E3  <<(T,blue) part def>> [[psysml:00588ae4-2df7-4d57-b3d7-e09c73d2d5b1 ]] {\r\n",
       "}\r\n",
       "comp usage \"porig1\" as E4  <<(T,blue) port>> [[psysml:236a437d-3673-4742-905a-959f5dd42893 ]] {\r\n",
       "}\r\n",
       "comp usage \"p1: P1\" as E5  <<(T,blue) part>> [[psysml:4e54ee4d-012b-498f-93d7-1afb3759d34d ]] {\r\n",
       "}\r\n",
       "comp usage \"po1\" as E6  <<(T,blue) port>> [[psysml:8965b7df-293c-4ee2-9b2b-715c01154c80 ]] {\r\n",
       "}\r\n",
       "comp usage \"p2: P1\" as E7  <<(T,blue) part>> [[psysml:77eadb46-ce1a-4e0f-9527-bb06765d2ea7 ]] {\r\n",
       "}\r\n",
       "comp usage \"pdest\" as E8  <<(T,blue) port>> [[psysml:db28622a-fbe8-4c7d-8fe4-9e164802e944 ]] {\r\n",
       "}\r\n",
       "E3 o- - \"1\"E4 [[psysml:10297d07-57fa-4f9d-a873-bd76f542a35c ]] \r\n",
       "E3 +.. \"1\"E4 [[psysml:4c29fec0-8309-450b-9bf3-4a2b28b77917 ]] \r\n",
       "E5 - -:|> E3 [[psysml:93a52ea3-a140-4bd2-b924-ec5ad15b1b7e ]] \r\n",
       "E5 o- - \"1\"E6 [[psysml:cdcbbeec-90be-4e1d-8c60-d92c8a6a7077 ]] \r\n",
       "E6 - -||> E4 [[psysml:b5614b00-f88c-4f87-85f7-609ca7f17bae ]] \r\n",
       "E7 - -:|> E3 [[psysml:87c48ed5-bc50-48bb-899d-f807bfcdc26e ]] \r\n",
       "E7 o- - \"1\"E8 [[psysml:5ff6c459-66f7-4338-82bb-16aa2b22f6b4 ]] \r\n",
       "E7 +.. \"1\"E8 [[psysml:4eb1c616-a5a7-47d5-8985-e84491dc2120 ]] \r\n",
       "E6 -[thickness=3]- \"*\"E8 [[psysml:af89f277-c22a-4acb-b9c9-7f04d6a8a86b ]] \r\n",
       "E6 -[thickness=3]- \"*\"E8 [[psysml:6818c790-7ee4-49fa-b866-28c88d0d2e1e ]] \r\n",
       "}\r\n",
       "@enduml\r\n",
       "\n",
       "PlantUML version 1.2020.13(Sat Jun 13 12:26:38 UTC 2020)\n",
       "(EPL source distribution)\n",
       "Java Runtime: OpenJDK Runtime Environment\n",
       "JVM: OpenJDK 64-Bit Server VM\n",
       "Default Encoding: UTF-8\n",
       "Language: en\n",
       "Country: null\n",
       "--></g></svg>"
      ]
     },
     "execution_count": 10,
     "metadata": {},
     "output_type": "execute_result"
    }
   ],
   "source": [
    "%viz --style=\"POLYLINE\" --view=\"Tree\" \"AliasTest\""
   ]
  },
  {
   "cell_type": "code",
   "execution_count": 11,
   "id": "e7848f6c",
   "metadata": {
    "execution": {
     "iopub.execute_input": "2021-08-04T06:25:30.681930Z",
     "iopub.status.busy": "2021-08-04T06:25:30.681552Z",
     "iopub.status.idle": "2021-08-04T06:25:30.689697Z",
     "shell.execute_reply": "2021-08-04T06:25:30.689471Z"
    }
   },
   "outputs": [
    {
     "data": {
      "image/svg+xml": [
       "<?xml version=\"1.0\" encoding=\"UTF-8\" standalone=\"no\"?><svg xmlns=\"http://www.w3.org/2000/svg\" xmlns:xlink=\"http://www.w3.org/1999/xlink\" contentScriptType=\"application/ecmascript\" contentStyleType=\"text/css\" height=\"12px\" preserveAspectRatio=\"none\" style=\"width:12px;height:12px;\" version=\"1.1\" viewBox=\"0 0 12 12\" width=\"12px\" zoomAndPan=\"magnify\"><defs/><g><!--MD5=[896ac0e7a515d8dd7765a661cb4ee08b]\n",
       "@startuml\r\n",
       "skinparam linetype polyline\r\n",
       "skinparam monochrome true\r\n",
       "skinparam classbackgroundcolor white\r\n",
       "skinparam shadowing false\r\n",
       "skinparam wrapWidth 300\r\n",
       "hide circle\r\n",
       "\r\n",
       "@enduml\r\n",
       "\n",
       "PlantUML version 1.2020.13(Sat Jun 13 12:26:38 UTC 2020)\n",
       "(EPL source distribution)\n",
       "Java Runtime: OpenJDK Runtime Environment\n",
       "JVM: OpenJDK 64-Bit Server VM\n",
       "Default Encoding: UTF-8\n",
       "Language: en\n",
       "Country: null\n",
       "--></g></svg>"
      ]
     },
     "execution_count": 11,
     "metadata": {},
     "output_type": "execute_result"
    }
   ],
   "source": [
    "%viz --style=\"POLYLINE\" --view=\"State\" \"AliasTest\""
   ]
  },
  {
   "cell_type": "code",
   "execution_count": 12,
   "id": "b249dbbf",
   "metadata": {
    "execution": {
     "iopub.execute_input": "2021-08-04T06:25:30.741113Z",
     "iopub.status.busy": "2021-08-04T06:25:30.740706Z",
     "iopub.status.idle": "2021-08-04T06:25:30.780701Z",
     "shell.execute_reply": "2021-08-04T06:25:30.780195Z"
    }
   },
   "outputs": [
    {
     "data": {
      "image/svg+xml": [
       "<?xml version=\"1.0\" encoding=\"UTF-8\" standalone=\"no\"?><svg xmlns=\"http://www.w3.org/2000/svg\" xmlns:xlink=\"http://www.w3.org/1999/xlink\" contentScriptType=\"application/ecmascript\" contentStyleType=\"text/css\" height=\"233px\" preserveAspectRatio=\"none\" style=\"width:486px;height:233px;\" version=\"1.1\" viewBox=\"0 0 486 233\" width=\"486px\" zoomAndPan=\"magnify\"><defs/><g><!--MD5=[fbc87193dbaf4d95561dea2c320d4a47]\n",
       "cluster E1--><a href=\"psysml:7e4311dd-4dd4-41de-a431-b17c5d614850\" target=\"_top\" title=\"psysml:7e4311dd-4dd4-41de-a431-b17c5d614850\" xlink:actuate=\"onRequest\" xlink:href=\"psysml:7e4311dd-4dd4-41de-a431-b17c5d614850\" xlink:show=\"new\" xlink:title=\"psysml:7e4311dd-4dd4-41de-a431-b17c5d614850\" xlink:type=\"simple\"><polygon fill=\"#FFFFFF\" points=\"16,6,94,6,101,28.2969,464,28.2969,464,221,16,221,16,6\" style=\"stroke: #000000; stroke-width: 1.5;\"/><line style=\"stroke: #000000; stroke-width: 1.5;\" x1=\"16\" x2=\"101\" y1=\"28.2969\" y2=\"28.2969\"/><text fill=\"#000000\" font-family=\"sans-serif\" font-size=\"14\" font-weight=\"bold\" lengthAdjust=\"spacingAndGlyphs\" textLength=\"72\" x=\"20\" y=\"20.9951\">AliasTest</text></a><!--MD5=[d5e69f78d87373223dbae638b30a9c99]\n",
       "cluster E3--><a href=\"psysml:00588ae4-2df7-4d57-b3d7-e09c73d2d5b1\" target=\"_top\" title=\"psysml:00588ae4-2df7-4d57-b3d7-e09c73d2d5b1\" xlink:actuate=\"onRequest\" xlink:href=\"psysml:00588ae4-2df7-4d57-b3d7-e09c73d2d5b1\" xlink:show=\"new\" xlink:title=\"psysml:00588ae4-2df7-4d57-b3d7-e09c73d2d5b1\" xlink:type=\"simple\"><rect fill=\"#FFFFFF\" height=\"90\" id=\"E3\" style=\"stroke: #383838; stroke-width: 1.5;\" width=\"83\" x=\"324\" y=\"64\"/><rect fill=\"#F8F8F8\" height=\"37.9375\" style=\"stroke: #383838; stroke-width: 1.5;\" width=\"83\" x=\"324\" y=\"64\"/><text fill=\"#000000\" font-family=\"sans-serif\" font-size=\"12\" font-style=\"italic\" lengthAdjust=\"spacingAndGlyphs\" textLength=\"64\" x=\"333.5\" y=\"80.1387\">«part def»</text><text fill=\"#000000\" font-family=\"sans-serif\" font-size=\"12\" lengthAdjust=\"spacingAndGlyphs\" textLength=\"16\" x=\"357.5\" y=\"94.1074\">P1</text></a><!--MD5=[14e3b0961a2654348d326746436168a1]\n",
       "cluster E6--><a href=\"psysml:4e54ee4d-012b-498f-93d7-1afb3759d34d\" target=\"_top\" title=\"psysml:4e54ee4d-012b-498f-93d7-1afb3759d34d\" xlink:actuate=\"onRequest\" xlink:href=\"psysml:4e54ee4d-012b-498f-93d7-1afb3759d34d\" xlink:show=\"new\" xlink:title=\"psysml:4e54ee4d-012b-498f-93d7-1afb3759d34d\" xlink:type=\"simple\"><rect fill=\"#FFFFFF\" height=\"82\" id=\"E6\" rx=\"10\" ry=\"10\" style=\"stroke: #383838; stroke-width: 1.5;\" width=\"104\" x=\"112\" y=\"64\"/><rect fill=\"#F8F8F8\" height=\"23.9688\" rx=\"10\" ry=\"10\" style=\"stroke: #F8F8F8; stroke-width: 1.5;\" width=\"104\" x=\"112\" y=\"64\"/><rect fill=\"#F8F8F8\" height=\"10\" style=\"stroke: #F8F8F8; stroke-width: 1.5;\" width=\"104\" x=\"112\" y=\"77.9688\"/><rect fill=\"none\" height=\"82\" id=\"E6\" rx=\"10\" ry=\"10\" style=\"stroke: #383838; stroke-width: 1.5;\" width=\"104\" x=\"112\" y=\"64\"/><text fill=\"#000000\" font-family=\"sans-serif\" font-size=\"12\" lengthAdjust=\"spacingAndGlyphs\" textLength=\"40\" x=\"144\" y=\"80.1387\">p1: P1</text><line style=\"stroke: #383838; stroke-width: 1.0;\" x1=\"112\" x2=\"216\" y1=\"87.9688\" y2=\"87.9688\"/></a><!--MD5=[55dfccfc6c49c2d10cd1bd2211a6c90c]\n",
       "cluster E8--><a href=\"psysml:77eadb46-ce1a-4e0f-9527-bb06765d2ea7\" target=\"_top\" title=\"psysml:77eadb46-ce1a-4e0f-9527-bb06765d2ea7\" xlink:actuate=\"onRequest\" xlink:href=\"psysml:77eadb46-ce1a-4e0f-9527-bb06765d2ea7\" xlink:show=\"new\" xlink:title=\"psysml:77eadb46-ce1a-4e0f-9527-bb06765d2ea7\" xlink:type=\"simple\"><rect fill=\"#FFFFFF\" height=\"84.5\" id=\"E8\" rx=\"10\" ry=\"10\" style=\"stroke: #383838; stroke-width: 1.5;\" width=\"83\" x=\"219\" y=\"120.5\"/><rect fill=\"#F8F8F8\" height=\"23.9688\" rx=\"10\" ry=\"10\" style=\"stroke: #F8F8F8; stroke-width: 1.5;\" width=\"83\" x=\"219\" y=\"120.5\"/><rect fill=\"#F8F8F8\" height=\"10\" style=\"stroke: #F8F8F8; stroke-width: 1.5;\" width=\"83\" x=\"219\" y=\"134.4688\"/><rect fill=\"none\" height=\"84.5\" id=\"E8\" rx=\"10\" ry=\"10\" style=\"stroke: #383838; stroke-width: 1.5;\" width=\"83\" x=\"219\" y=\"120.5\"/><text fill=\"#000000\" font-family=\"sans-serif\" font-size=\"12\" lengthAdjust=\"spacingAndGlyphs\" textLength=\"40\" x=\"240.5\" y=\"136.6387\">p2: P1</text><line style=\"stroke: #383838; stroke-width: 1.0;\" x1=\"219\" x2=\"302\" y1=\"144.4688\" y2=\"144.4688\"/></a><!--MD5=[b4997ac47864f28c2f74865a473b2911]\n",
       "class E2--><a href=\"psysml:789c28e5-5e95-405e-84fa-948507b238dc\" target=\"_top\" title=\"psysml:789c28e5-5e95-405e-84fa-948507b238dc\" xlink:actuate=\"onRequest\" xlink:href=\"psysml:789c28e5-5e95-405e-84fa-948507b238dc\" xlink:show=\"new\" xlink:title=\"psysml:789c28e5-5e95-405e-84fa-948507b238dc\" xlink:type=\"simple\"><rect fill=\"#FFFFFF\" height=\"45.9375\" id=\"E2\" rx=\"10\" ry=\"10\" style=\"stroke: #383838; stroke-width: 1.5;\" width=\"71\" x=\"32.5\" y=\"41\"/><text fill=\"#000000\" font-family=\"sans-serif\" font-size=\"12\" font-style=\"italic\" lengthAdjust=\"spacingAndGlyphs\" textLength=\"69\" x=\"33.5\" y=\"57.1387\">«attribute»</text><text fill=\"#000000\" font-family=\"sans-serif\" font-size=\"12\" lengthAdjust=\"spacingAndGlyphs\" textLength=\"8\" x=\"64\" y=\"71.1074\">q</text><line style=\"stroke: #383838; stroke-width: 1.5;\" x1=\"33.5\" x2=\"102.5\" y1=\"78.9375\" y2=\"78.9375\"/></a><text fill=\"#000000\" font-family=\"sans-serif\" font-size=\"14\" lengthAdjust=\"spacingAndGlyphs\" textLength=\"44\" x=\"320\" y=\"42.6982\">porig1</text><rect fill=\"#383838\" height=\"12\" style=\"stroke: #F8F8F8; stroke-width: 1.5;\" width=\"12\" x=\"336\" y=\"58\"/><text fill=\"#000000\" font-family=\"sans-serif\" font-size=\"14\" lengthAdjust=\"spacingAndGlyphs\" textLength=\"44\" x=\"367\" y=\"42.6982\">porig1</text><rect fill=\"#383838\" height=\"12\" style=\"stroke: #F8F8F8; stroke-width: 1.5;\" width=\"12\" x=\"383\" y=\"58\"/><text fill=\"#000000\" font-family=\"sans-serif\" font-size=\"14\" lengthAdjust=\"spacingAndGlyphs\" textLength=\"27\" x=\"184.5\" y=\"42.6982\">po1</text><rect fill=\"#383838\" height=\"12\" style=\"stroke: #F8F8F8; stroke-width: 1.5;\" width=\"12\" x=\"192\" y=\"58\"/><text fill=\"#000000\" font-family=\"sans-serif\" font-size=\"14\" lengthAdjust=\"spacingAndGlyphs\" textLength=\"40\" x=\"217\" y=\"99.1982\">pdest</text><rect fill=\"#383838\" height=\"12\" style=\"stroke: #F8F8F8; stroke-width: 1.5;\" width=\"12\" x=\"231\" y=\"114.5\"/><text fill=\"#000000\" font-family=\"sans-serif\" font-size=\"14\" lengthAdjust=\"spacingAndGlyphs\" textLength=\"40\" x=\"264\" y=\"99.1982\">pdest</text><rect fill=\"#383838\" height=\"12\" style=\"stroke: #F8F8F8; stroke-width: 1.5;\" width=\"12\" x=\"278\" y=\"114.5\"/><!--MD5=[1c0b9414cc86e0744215edee6abd8926]\n",
       "link E7 to E9--><a href=\"psysml:af89f277-c22a-4acb-b9c9-7f04d6a8a86b\" target=\"_top\" title=\"psysml:af89f277-c22a-4acb-b9c9-7f04d6a8a86b\" xlink:actuate=\"onRequest\" xlink:href=\"psysml:af89f277-c22a-4acb-b9c9-7f04d6a8a86b\" xlink:show=\"new\" xlink:title=\"psysml:af89f277-c22a-4acb-b9c9-7f04d6a8a86b\" xlink:type=\"simple\"><path d=\"M193.83,70.03 C194.72,81.73 216.14,110.34 230.83,117.73 \" fill=\"none\" id=\"E7-E9\" style=\"stroke: #383838; stroke-width: 3.0;\"/><text fill=\"#000000\" font-family=\"sans-serif\" font-size=\"13\" lengthAdjust=\"spacingAndGlyphs\" textLength=\"7\" x=\"215.8523\" y=\"106.3789\">*</text></a><!--MD5=[1c0b9414cc86e0744215edee6abd8926]\n",
       "link E7 to E9--><a href=\"psysml:6818c790-7ee4-49fa-b866-28c88d0d2e1e\" target=\"_top\" title=\"psysml:6818c790-7ee4-49fa-b866-28c88d0d2e1e\" xlink:actuate=\"onRequest\" xlink:href=\"psysml:6818c790-7ee4-49fa-b866-28c88d0d2e1e\" xlink:show=\"new\" xlink:title=\"psysml:6818c790-7ee4-49fa-b866-28c88d0d2e1e\" xlink:type=\"simple\"><path d=\"M204.05,66.57 C219.27,73.62 241.05,102.5 241.62,114.37 \" fill=\"none\" id=\"E7-E9-1\" style=\"stroke: #383838; stroke-width: 3.0;\"/><text fill=\"#000000\" font-family=\"sans-serif\" font-size=\"13\" lengthAdjust=\"spacingAndGlyphs\" textLength=\"7\" x=\"235.278\" y=\"103.4683\">*</text></a><!--MD5=[2d6ec185da6926ea751c5eed321d1da8]\n",
       "@startuml\r\n",
       "skinparam ranksep 10\r\n",
       "skinparam rectangle {\r\n",
       " backgroundColor<<block>> LightGreen\r\n",
       "}\r\n",
       "skinparam linetype polyline\r\n",
       "skinparam monochrome true\r\n",
       "skinparam classbackgroundcolor white\r\n",
       "skinparam shadowing false\r\n",
       "skinparam wrapWidth 300\r\n",
       "hide circle\r\n",
       "\r\n",
       "package \"AliasTest\" as E1  [[psysml:7e4311dd-4dd4-41de-a431-b17c5d614850 ]]  {\r\n",
       "comp usage \"q\" as E2  <<(T,blue) attribute>> [[psysml:789c28e5-5e95-405e-84fa-948507b238dc ]] {\r\n",
       "}\r\n",
       "rec def \"P1\" as E3  <<(T,blue) part def>> [[psysml:00588ae4-2df7-4d57-b3d7-e09c73d2d5b1 ]] {\r\n",
       "portin \"porig1\" as E4  <<(T,blue) port>> [[psysml:236a437d-3673-4742-905a-959f5dd42893 ]] \r\n",
       "portin \"porig1\" as E5  <<(T,blue) port>> [[psysml:236a437d-3673-4742-905a-959f5dd42893 ]] \r\n",
       "}\r\n",
       "rec usage \"p1: P1\" as E6  [[psysml:4e54ee4d-012b-498f-93d7-1afb3759d34d ]] {\r\n",
       "portin \"po1\" as E7  <<(T,blue) port>> [[psysml:8965b7df-293c-4ee2-9b2b-715c01154c80 ]] \r\n",
       "}\r\n",
       "rec usage \"p2: P1\" as E8  [[psysml:77eadb46-ce1a-4e0f-9527-bb06765d2ea7 ]] {\r\n",
       "portin \"pdest\" as E9  <<(T,blue) port>> [[psysml:db28622a-fbe8-4c7d-8fe4-9e164802e944 ]] \r\n",
       "portin \"pdest\" as E10  <<(T,blue) port>> [[psysml:db28622a-fbe8-4c7d-8fe4-9e164802e944 ]] \r\n",
       "}\r\n",
       "E7 -[thickness=3]- \"*\"E9 [[psysml:af89f277-c22a-4acb-b9c9-7f04d6a8a86b ]] \r\n",
       "E7 -[thickness=3]- \"*\"E9 [[psysml:6818c790-7ee4-49fa-b866-28c88d0d2e1e ]] \r\n",
       "}\r\n",
       "@enduml\r\n",
       "\n",
       "PlantUML version 1.2020.13(Sat Jun 13 12:26:38 UTC 2020)\n",
       "(EPL source distribution)\n",
       "Java Runtime: OpenJDK Runtime Environment\n",
       "JVM: OpenJDK 64-Bit Server VM\n",
       "Default Encoding: UTF-8\n",
       "Language: en\n",
       "Country: null\n",
       "--></g></svg>"
      ]
     },
     "execution_count": 12,
     "metadata": {},
     "output_type": "execute_result"
    }
   ],
   "source": [
    "%viz --style=\"POLYLINE\" --view=\"Interconnection\" \"AliasTest\""
   ]
  },
  {
   "cell_type": "code",
   "execution_count": 13,
   "id": "a1c2bba4",
   "metadata": {
    "execution": {
     "iopub.execute_input": "2021-08-04T06:25:30.829952Z",
     "iopub.status.busy": "2021-08-04T06:25:30.829625Z",
     "iopub.status.idle": "2021-08-04T06:25:30.836117Z",
     "shell.execute_reply": "2021-08-04T06:25:30.836439Z"
    }
   },
   "outputs": [
    {
     "data": {
      "image/svg+xml": [
       "<?xml version=\"1.0\" encoding=\"UTF-8\" standalone=\"no\"?><svg xmlns=\"http://www.w3.org/2000/svg\" xmlns:xlink=\"http://www.w3.org/1999/xlink\" contentScriptType=\"application/ecmascript\" contentStyleType=\"text/css\" height=\"12px\" preserveAspectRatio=\"none\" style=\"width:12px;height:12px;\" version=\"1.1\" viewBox=\"0 0 12 12\" width=\"12px\" zoomAndPan=\"magnify\"><defs/><g><!--MD5=[97bbf32f66ccd50cbc40d92ea8f5a65e]\n",
       "@startuml\r\n",
       "skinparam ranksep 8\r\n",
       "skinparam linetype polyline\r\n",
       "skinparam monochrome true\r\n",
       "skinparam classbackgroundcolor white\r\n",
       "skinparam shadowing false\r\n",
       "skinparam wrapWidth 300\r\n",
       "hide circle\r\n",
       "\r\n",
       "@enduml\r\n",
       "\n",
       "PlantUML version 1.2020.13(Sat Jun 13 12:26:38 UTC 2020)\n",
       "(EPL source distribution)\n",
       "Java Runtime: OpenJDK Runtime Environment\n",
       "JVM: OpenJDK 64-Bit Server VM\n",
       "Default Encoding: UTF-8\n",
       "Language: en\n",
       "Country: null\n",
       "--></g></svg>"
      ]
     },
     "execution_count": 13,
     "metadata": {},
     "output_type": "execute_result"
    }
   ],
   "source": [
    "%viz --style=\"POLYLINE\" --view=\"Action\" \"AliasTest\""
   ]
  },
  {
   "cell_type": "code",
   "execution_count": 14,
   "id": "c751a089",
   "metadata": {
    "execution": {
     "iopub.execute_input": "2021-08-04T06:25:30.886599Z",
     "iopub.status.busy": "2021-08-04T06:25:30.886178Z",
     "iopub.status.idle": "2021-08-04T06:25:30.925093Z",
     "shell.execute_reply": "2021-08-04T06:25:30.924729Z"
    }
   },
   "outputs": [
    {
     "data": {
      "image/svg+xml": [
       "<?xml version=\"1.0\" encoding=\"UTF-8\" standalone=\"no\"?><svg xmlns=\"http://www.w3.org/2000/svg\" xmlns:xlink=\"http://www.w3.org/1999/xlink\" contentScriptType=\"application/ecmascript\" contentStyleType=\"text/css\" height=\"327px\" preserveAspectRatio=\"none\" style=\"width:304px;height:327px;\" version=\"1.1\" viewBox=\"0 0 304 327\" width=\"304px\" zoomAndPan=\"magnify\"><defs/><g><!--MD5=[fbc87193dbaf4d95561dea2c320d4a47]\n",
       "cluster E1--><a href=\"psysml:7e4311dd-4dd4-41de-a431-b17c5d614850\" target=\"_top\" title=\"psysml:7e4311dd-4dd4-41de-a431-b17c5d614850\" xlink:actuate=\"onRequest\" xlink:href=\"psysml:7e4311dd-4dd4-41de-a431-b17c5d614850\" xlink:show=\"new\" xlink:title=\"psysml:7e4311dd-4dd4-41de-a431-b17c5d614850\" xlink:type=\"simple\"><polygon fill=\"#FFFFFF\" points=\"16,6,94,6,101,28.2969,282,28.2969,282,315,16,315,16,6\" style=\"stroke: #000000; stroke-width: 1.5;\"/><line style=\"stroke: #000000; stroke-width: 1.5;\" x1=\"16\" x2=\"101\" y1=\"28.2969\" y2=\"28.2969\"/><text fill=\"#000000\" font-family=\"sans-serif\" font-size=\"14\" font-weight=\"bold\" lengthAdjust=\"spacingAndGlyphs\" textLength=\"72\" x=\"20\" y=\"20.9951\">AliasTest</text></a><!--MD5=[b4997ac47864f28c2f74865a473b2911]\n",
       "class E2--><a href=\"psysml:789c28e5-5e95-405e-84fa-948507b238dc\" target=\"_top\" title=\"psysml:789c28e5-5e95-405e-84fa-948507b238dc\" xlink:actuate=\"onRequest\" xlink:href=\"psysml:789c28e5-5e95-405e-84fa-948507b238dc\" xlink:show=\"new\" xlink:title=\"psysml:789c28e5-5e95-405e-84fa-948507b238dc\" xlink:type=\"simple\"><rect fill=\"#FFFFFF\" height=\"45.9375\" id=\"E2\" rx=\"10\" ry=\"10\" style=\"stroke: #383838; stroke-width: 1.5;\" width=\"71\" x=\"194.5\" y=\"41\"/><text fill=\"#000000\" font-family=\"sans-serif\" font-size=\"12\" font-style=\"italic\" lengthAdjust=\"spacingAndGlyphs\" textLength=\"69\" x=\"195.5\" y=\"57.1387\">«attribute»</text><text fill=\"#000000\" font-family=\"sans-serif\" font-size=\"12\" lengthAdjust=\"spacingAndGlyphs\" textLength=\"8\" x=\"226\" y=\"71.1074\">q</text><line style=\"stroke: #383838; stroke-width: 1.5;\" x1=\"195.5\" x2=\"264.5\" y1=\"78.9375\" y2=\"78.9375\"/></a><!--MD5=[09b614a08d8cba4a07c9adeb5e0fee81]\n",
       "class E3--><a href=\"psysml:00588ae4-2df7-4d57-b3d7-e09c73d2d5b1\" target=\"_top\" title=\"psysml:00588ae4-2df7-4d57-b3d7-e09c73d2d5b1\" xlink:actuate=\"onRequest\" xlink:href=\"psysml:00588ae4-2df7-4d57-b3d7-e09c73d2d5b1\" xlink:show=\"new\" xlink:title=\"psysml:00588ae4-2df7-4d57-b3d7-e09c73d2d5b1\" xlink:type=\"simple\"><rect fill=\"#FFFFFF\" height=\"45.9375\" id=\"E3\" style=\"stroke: #383838; stroke-width: 1.5;\" width=\"66\" x=\"168\" y=\"147\"/><text fill=\"#000000\" font-family=\"sans-serif\" font-size=\"12\" font-style=\"italic\" lengthAdjust=\"spacingAndGlyphs\" textLength=\"64\" x=\"169\" y=\"163.1387\">«part def»</text><text fill=\"#000000\" font-family=\"sans-serif\" font-size=\"12\" lengthAdjust=\"spacingAndGlyphs\" textLength=\"16\" x=\"193\" y=\"177.1074\">P1</text><line style=\"stroke: #383838; stroke-width: 1.5;\" x1=\"169\" x2=\"233\" y1=\"184.9375\" y2=\"184.9375\"/></a><!--MD5=[ebbe1d658d1005bcc118a6aa81145e00]\n",
       "class E4--><a href=\"psysml:236a437d-3673-4742-905a-959f5dd42893\" target=\"_top\" title=\"psysml:236a437d-3673-4742-905a-959f5dd42893\" xlink:actuate=\"onRequest\" xlink:href=\"psysml:236a437d-3673-4742-905a-959f5dd42893\" xlink:show=\"new\" xlink:title=\"psysml:236a437d-3673-4742-905a-959f5dd42893\" xlink:type=\"simple\"><rect fill=\"#FFFFFF\" height=\"45.9375\" id=\"E4\" rx=\"10\" ry=\"10\" style=\"stroke: #383838; stroke-width: 1.5;\" width=\"46\" x=\"178\" y=\"253\"/><text fill=\"#000000\" font-family=\"sans-serif\" font-size=\"12\" font-style=\"italic\" lengthAdjust=\"spacingAndGlyphs\" textLength=\"40\" x=\"181\" y=\"269.1387\">«port»</text><text fill=\"#000000\" font-family=\"sans-serif\" font-size=\"12\" lengthAdjust=\"spacingAndGlyphs\" textLength=\"40\" x=\"181\" y=\"283.1074\">porig1</text><line style=\"stroke: #383838; stroke-width: 1.5;\" x1=\"179\" x2=\"223\" y1=\"290.9375\" y2=\"290.9375\"/></a><!--MD5=[270fce915f116d4de14055a7c1d9a0f3]\n",
       "class E5--><a href=\"psysml:4e54ee4d-012b-498f-93d7-1afb3759d34d\" target=\"_top\" title=\"psysml:4e54ee4d-012b-498f-93d7-1afb3759d34d\" xlink:actuate=\"onRequest\" xlink:href=\"psysml:4e54ee4d-012b-498f-93d7-1afb3759d34d\" xlink:show=\"new\" xlink:title=\"psysml:4e54ee4d-012b-498f-93d7-1afb3759d34d\" xlink:type=\"simple\"><rect fill=\"#FFFFFF\" height=\"45.9375\" id=\"E5\" rx=\"10\" ry=\"10\" style=\"stroke: #383838; stroke-width: 1.5;\" width=\"46\" x=\"113\" y=\"41\"/><text fill=\"#000000\" font-family=\"sans-serif\" font-size=\"12\" font-style=\"italic\" lengthAdjust=\"spacingAndGlyphs\" textLength=\"40\" x=\"116\" y=\"57.1387\">«part»</text><text fill=\"#000000\" font-family=\"sans-serif\" font-size=\"12\" lengthAdjust=\"spacingAndGlyphs\" textLength=\"40\" x=\"116\" y=\"71.1074\">p1: P1</text><line style=\"stroke: #383838; stroke-width: 1.5;\" x1=\"114\" x2=\"158\" y1=\"78.9375\" y2=\"78.9375\"/></a><!--MD5=[60a26617385b1d2d0262a64233df1f8d]\n",
       "class E6--><a href=\"psysml:8965b7df-293c-4ee2-9b2b-715c01154c80\" target=\"_top\" title=\"psysml:8965b7df-293c-4ee2-9b2b-715c01154c80\" xlink:actuate=\"onRequest\" xlink:href=\"psysml:8965b7df-293c-4ee2-9b2b-715c01154c80\" xlink:show=\"new\" xlink:title=\"psysml:8965b7df-293c-4ee2-9b2b-715c01154c80\" xlink:type=\"simple\"><rect fill=\"#FFFFFF\" height=\"45.9375\" id=\"E6\" rx=\"10\" ry=\"10\" style=\"stroke: #383838; stroke-width: 1.5;\" width=\"42\" x=\"91\" y=\"147\"/><text fill=\"#000000\" font-family=\"sans-serif\" font-size=\"12\" font-style=\"italic\" lengthAdjust=\"spacingAndGlyphs\" textLength=\"40\" x=\"92\" y=\"163.1387\">«port»</text><text fill=\"#000000\" font-family=\"sans-serif\" font-size=\"12\" lengthAdjust=\"spacingAndGlyphs\" textLength=\"24\" x=\"100\" y=\"177.1074\">po1</text><line style=\"stroke: #383838; stroke-width: 1.5;\" x1=\"92\" x2=\"132\" y1=\"184.9375\" y2=\"184.9375\"/></a><!--MD5=[2156ba9850f5573cc1fc38a6a4b2f02b]\n",
       "class E7--><a href=\"psysml:77eadb46-ce1a-4e0f-9527-bb06765d2ea7\" target=\"_top\" title=\"psysml:77eadb46-ce1a-4e0f-9527-bb06765d2ea7\" xlink:actuate=\"onRequest\" xlink:href=\"psysml:77eadb46-ce1a-4e0f-9527-bb06765d2ea7\" xlink:show=\"new\" xlink:title=\"psysml:77eadb46-ce1a-4e0f-9527-bb06765d2ea7\" xlink:type=\"simple\"><rect fill=\"#FFFFFF\" height=\"45.9375\" id=\"E7\" rx=\"10\" ry=\"10\" style=\"stroke: #383838; stroke-width: 1.5;\" width=\"46\" x=\"32\" y=\"41\"/><text fill=\"#000000\" font-family=\"sans-serif\" font-size=\"12\" font-style=\"italic\" lengthAdjust=\"spacingAndGlyphs\" textLength=\"40\" x=\"35\" y=\"57.1387\">«part»</text><text fill=\"#000000\" font-family=\"sans-serif\" font-size=\"12\" lengthAdjust=\"spacingAndGlyphs\" textLength=\"40\" x=\"35\" y=\"71.1074\">p2: P1</text><line style=\"stroke: #383838; stroke-width: 1.5;\" x1=\"33\" x2=\"77\" y1=\"78.9375\" y2=\"78.9375\"/></a><!--MD5=[b9389687b975829384b498ac4b7476b2]\n",
       "class E8--><a href=\"psysml:db28622a-fbe8-4c7d-8fe4-9e164802e944\" target=\"_top\" title=\"psysml:db28622a-fbe8-4c7d-8fe4-9e164802e944\" xlink:actuate=\"onRequest\" xlink:href=\"psysml:db28622a-fbe8-4c7d-8fe4-9e164802e944\" xlink:show=\"new\" xlink:title=\"psysml:db28622a-fbe8-4c7d-8fe4-9e164802e944\" xlink:type=\"simple\"><rect fill=\"#FFFFFF\" height=\"45.9375\" id=\"E8\" rx=\"10\" ry=\"10\" style=\"stroke: #383838; stroke-width: 1.5;\" width=\"42\" x=\"63\" y=\"253\"/><text fill=\"#000000\" font-family=\"sans-serif\" font-size=\"12\" font-style=\"italic\" lengthAdjust=\"spacingAndGlyphs\" textLength=\"40\" x=\"64\" y=\"269.1387\">«port»</text><text fill=\"#000000\" font-family=\"sans-serif\" font-size=\"12\" lengthAdjust=\"spacingAndGlyphs\" textLength=\"36\" x=\"66\" y=\"283.1074\">pdest</text><line style=\"stroke: #383838; stroke-width: 1.5;\" x1=\"64\" x2=\"104\" y1=\"290.9375\" y2=\"290.9375\"/></a><!--MD5=[4672eba38e49728da53d11aeb285b987]\n",
       "reverse link E3 to E4--><a href=\"psysml:10297d07-57fa-4f9d-a873-bd76f542a35c\" target=\"_top\" title=\"psysml:10297d07-57fa-4f9d-a873-bd76f542a35c\" xlink:actuate=\"onRequest\" xlink:href=\"psysml:10297d07-57fa-4f9d-a873-bd76f542a35c\" xlink:show=\"new\" xlink:title=\"psysml:10297d07-57fa-4f9d-a873-bd76f542a35c\" xlink:type=\"simple\"><path d=\"M188.84,206.44 C187.7,221.87 188.21,239.47 190.36,252.98 \" fill=\"none\" id=\"E3&lt;-E4\" style=\"stroke: #383838; stroke-width: 1.0;\"/><polygon fill=\"#FFFFFF\" points=\"190.35,193.06,185.7032,198.5743,189.006,204.9845,193.6528,199.4702,190.35,193.06\" style=\"stroke: #383838; stroke-width: 1.0;\"/><text fill=\"#000000\" font-family=\"sans-serif\" font-size=\"13\" lengthAdjust=\"spacingAndGlyphs\" textLength=\"8\" x=\"178.4255\" y=\"241.8709\">1</text></a><!--MD5=[4672eba38e49728da53d11aeb285b987]\n",
       "reverse link E3 to E4--><a href=\"psysml:4c29fec0-8309-450b-9bf3-4a2b28b77917\" target=\"_top\" title=\"psysml:4c29fec0-8309-450b-9bf3-4a2b28b77917\" xlink:actuate=\"onRequest\" xlink:href=\"psysml:4c29fec0-8309-450b-9bf3-4a2b28b77917\" xlink:show=\"new\" xlink:title=\"psysml:4c29fec0-8309-450b-9bf3-4a2b28b77917\" xlink:type=\"simple\"><path d=\"M214.01,208.34 C215.03,223.3 214.45,240.02 212.27,252.98 \" fill=\"none\" id=\"E3&lt;-E4-1\" style=\"stroke: #383838; stroke-width: 1.0; stroke-dasharray: 7.0,7.0;\"/><ellipse cx=\"213.1693\" cy=\"201.0093\" fill=\"#FFFFFF\" rx=\"8\" ry=\"8\" style=\"stroke: #383838; stroke-width: 1.0;\"/><line style=\"stroke: #383838; stroke-width: 1.0;\" x1=\"214.0687\" x2=\"212.27\" y1=\"208.9586\" y2=\"193.06\"/><line style=\"stroke: #383838; stroke-width: 1.0;\" x1=\"205.2201\" x2=\"221.1186\" y1=\"201.9086\" y2=\"200.1099\"/><text fill=\"#000000\" font-family=\"sans-serif\" font-size=\"13\" lengthAdjust=\"spacingAndGlyphs\" textLength=\"8\" x=\"206.2238\" y=\"241.8709\">1</text></a><!--MD5=[e9be52314489bd878ff4c7144b63c9e1]\n",
       "link E5 to E3--><a href=\"psysml:93a52ea3-a140-4bd2-b924-ec5ad15b1b7e\" target=\"_top\" title=\"psysml:93a52ea3-a140-4bd2-b924-ec5ad15b1b7e\" xlink:actuate=\"onRequest\" xlink:href=\"psysml:93a52ea3-a140-4bd2-b924-ec5ad15b1b7e\" xlink:show=\"new\" xlink:title=\"psysml:93a52ea3-a140-4bd2-b924-ec5ad15b1b7e\" xlink:type=\"simple\"><path d=\"M149.78,87.06 C157.54,99.47 167.45,115.33 176.49,129.78 \" fill=\"none\" id=\"E5-&gt;E3\" style=\"stroke: #383838; stroke-width: 1.0;\"/><polygon fill=\"#FFFFFF\" points=\"187.24,146.98,171.2331,134.5792,183.1045,127.1584,187.24,146.98\" style=\"stroke: #383838; stroke-width: 1.0;\"/><ellipse cx=\"169.9076\" cy=\"128.6857\" fill=\"#383838\" rx=\"2\" ry=\"2\" style=\"stroke: #383838; stroke-width: 1.0;\"/><ellipse cx=\"178.3872\" cy=\"123.3851\" fill=\"#383838\" rx=\"2\" ry=\"2\" style=\"stroke: #383838; stroke-width: 1.0;\"/></a><!--MD5=[85d356282659285ab4b2cfe2f634dd2b]\n",
       "reverse link E5 to E6--><a href=\"psysml:cdcbbeec-90be-4e1d-8c60-d92c8a6a7077\" target=\"_top\" title=\"psysml:cdcbbeec-90be-4e1d-8c60-d92c8a6a7077\" xlink:actuate=\"onRequest\" xlink:href=\"psysml:cdcbbeec-90be-4e1d-8c60-d92c8a6a7077\" xlink:show=\"new\" xlink:title=\"psysml:cdcbbeec-90be-4e1d-8c60-d92c8a6a7077\" xlink:type=\"simple\"><path d=\"M127.93,99.96 C124.34,115.51 120.23,133.33 117.08,146.98 \" fill=\"none\" id=\"E5&lt;-E6\" style=\"stroke: #383838; stroke-width: 1.0;\"/><polygon fill=\"#FFFFFF\" points=\"130.91,87.06,125.6616,92.0052,128.2078,98.7518,133.4562,93.8066,130.91,87.06\" style=\"stroke: #383838; stroke-width: 1.0;\"/><text fill=\"#000000\" font-family=\"sans-serif\" font-size=\"13\" lengthAdjust=\"spacingAndGlyphs\" textLength=\"8\" x=\"109.3703\" y=\"135.8709\">1</text></a><!--MD5=[f667431f98296947986a1a7595a31603]\n",
       "link E6 to E4--><a href=\"psysml:b5614b00-f88c-4f87-85f7-609ca7f17bae\" target=\"_top\" title=\"psysml:b5614b00-f88c-4f87-85f7-609ca7f17bae\" xlink:actuate=\"onRequest\" xlink:href=\"psysml:b5614b00-f88c-4f87-85f7-609ca7f17bae\" xlink:show=\"new\" xlink:title=\"psysml:b5614b00-f88c-4f87-85f7-609ca7f17bae\" xlink:type=\"simple\"><path d=\"M130.87,193.06 C141.97,206.02 156.28,222.74 169.08,237.7 \" fill=\"none\" id=\"E6-&gt;E4\" style=\"stroke: #383838; stroke-width: 1.0;\"/><polygon fill=\"#FFFFFF\" points=\"182.15,252.98,164.4809,243.0905,175.1204,233.9909,182.15,252.98\" style=\"stroke: #383838; stroke-width: 1.0;\"/><line style=\"stroke: #383838; stroke-width: 2.0;\" x1=\"162.011\" x2=\"172.6505\" y1=\"240.2026\" y2=\"231.1031\"/></a><!--MD5=[14ccda38c055a5c0da953d572bc50960]\n",
       "link E7 to E3--><a href=\"psysml:87c48ed5-bc50-48bb-899d-f807bfcdc26e\" target=\"_top\" title=\"psysml:87c48ed5-bc50-48bb-899d-f807bfcdc26e\" xlink:actuate=\"onRequest\" xlink:href=\"psysml:87c48ed5-bc50-48bb-899d-f807bfcdc26e\" xlink:show=\"new\" xlink:title=\"psysml:87c48ed5-bc50-48bb-899d-f807bfcdc26e\" xlink:type=\"simple\"><path d=\"M78.13,81.48 C98.32,95.86 128.25,117.18 153.52,135.18 \" fill=\"none\" id=\"E7-&gt;E3\" style=\"stroke: #383838; stroke-width: 1.0;\"/><polygon fill=\"#FFFFFF\" points=\"170.09,146.98,150.5533,141.6586,158.6755,130.2555,170.09,146.98\" style=\"stroke: #383838; stroke-width: 1.0;\"/><ellipse cx=\"147.0709\" cy=\"136.7227\" fill=\"#383838\" rx=\"2\" ry=\"2\" style=\"stroke: #383838; stroke-width: 1.0;\"/><ellipse cx=\"152.8725\" cy=\"128.5776\" fill=\"#383838\" rx=\"2\" ry=\"2\" style=\"stroke: #383838; stroke-width: 1.0;\"/></a><!--MD5=[dc164f5e8a733ab456ef1add180e9e34]\n",
       "reverse link E7 to E8--><a href=\"psysml:5ff6c459-66f7-4338-82bb-16aa2b22f6b4\" target=\"_top\" title=\"psysml:5ff6c459-66f7-4338-82bb-16aa2b22f6b4\" xlink:actuate=\"onRequest\" xlink:href=\"psysml:5ff6c459-66f7-4338-82bb-16aa2b22f6b4\" xlink:show=\"new\" xlink:title=\"psysml:5ff6c459-66f7-4338-82bb-16aa2b22f6b4\" xlink:type=\"simple\"><path d=\"M50.05,100.09 C51.65,143.61 62.25,216.5 72.75,252.9 \" fill=\"none\" id=\"E7&lt;-E8\" style=\"stroke: #383838; stroke-width: 1.0;\"/><polygon fill=\"#FFFFFF\" points=\"49.85,87.08,45.9362,93.1366,50.0216,99.0788,53.9354,93.0222,49.85,87.08\" style=\"stroke: #383838; stroke-width: 1.0;\"/><text fill=\"#000000\" font-family=\"sans-serif\" font-size=\"13\" lengthAdjust=\"spacingAndGlyphs\" textLength=\"8\" x=\"60.6516\" y=\"241.7694\">1</text></a><!--MD5=[dc164f5e8a733ab456ef1add180e9e34]\n",
       "reverse link E7 to E8--><a href=\"psysml:4eb1c616-a5a7-47d5-8985-e84491dc2120\" target=\"_top\" title=\"psysml:4eb1c616-a5a7-47d5-8985-e84491dc2120\" xlink:actuate=\"onRequest\" xlink:href=\"psysml:4eb1c616-a5a7-47d5-8985-e84491dc2120\" xlink:show=\"new\" xlink:title=\"psysml:4eb1c616-a5a7-47d5-8985-e84491dc2120\" xlink:type=\"simple\"><path d=\"M70.64,101.8 C81.15,145.5 90.39,216.97 89.63,252.9 \" fill=\"none\" id=\"E7&lt;-E8-1\" style=\"stroke: #383838; stroke-width: 1.0; stroke-dasharray: 7.0,7.0;\"/><ellipse cx=\"68.7794\" cy=\"94.813\" fill=\"#FFFFFF\" rx=\"8\" ry=\"8\" style=\"stroke: #383838; stroke-width: 1.0;\"/><line style=\"stroke: #383838; stroke-width: 1.0;\" x1=\"70.8289\" x2=\"66.73\" y1=\"102.5461\" y2=\"87.08\"/><line style=\"stroke: #383838; stroke-width: 1.0;\" x1=\"61.0464\" x2=\"76.5125\" y1=\"96.8625\" y2=\"92.7636\"/><text fill=\"#000000\" font-family=\"sans-serif\" font-size=\"13\" lengthAdjust=\"spacingAndGlyphs\" textLength=\"8\" x=\"92.2181\" y=\"241.7694\">1</text></a><!--MD5=[0a839d0f80c2d72d4b9b307f046d0de8]\n",
       "link E6 to E8--><a href=\"psysml:af89f277-c22a-4acb-b9c9-7f04d6a8a86b\" target=\"_top\" title=\"psysml:af89f277-c22a-4acb-b9c9-7f04d6a8a86b\" xlink:actuate=\"onRequest\" xlink:href=\"psysml:af89f277-c22a-4acb-b9c9-7f04d6a8a86b\" xlink:show=\"new\" xlink:title=\"psysml:af89f277-c22a-4acb-b9c9-7f04d6a8a86b\" xlink:type=\"simple\"><path d=\"M95.42,193.06 C87.86,210.7 81.23,235.34 79.29,252.98 \" fill=\"none\" id=\"E6-E8\" style=\"stroke: #383838; stroke-width: 3.0;\"/><text fill=\"#000000\" font-family=\"sans-serif\" font-size=\"13\" lengthAdjust=\"spacingAndGlyphs\" textLength=\"7\" x=\"78.9648\" y=\"241.8709\">*</text></a><!--MD5=[0a839d0f80c2d72d4b9b307f046d0de8]\n",
       "link E6 to E8--><a href=\"psysml:6818c790-7ee4-49fa-b866-28c88d0d2e1e\" target=\"_top\" title=\"psysml:6818c790-7ee4-49fa-b866-28c88d0d2e1e\" xlink:actuate=\"onRequest\" xlink:href=\"psysml:6818c790-7ee4-49fa-b866-28c88d0d2e1e\" xlink:show=\"new\" xlink:title=\"psysml:6818c790-7ee4-49fa-b866-28c88d0d2e1e\" xlink:type=\"simple\"><path d=\"M117.33,193.06 C115.55,210.7 108.92,235.34 101.2,252.98 \" fill=\"none\" id=\"E6-E8-1\" style=\"stroke: #383838; stroke-width: 3.0;\"/><text fill=\"#000000\" font-family=\"sans-serif\" font-size=\"13\" lengthAdjust=\"spacingAndGlyphs\" textLength=\"7\" x=\"97.8819\" y=\"241.8709\">*</text></a><!--MD5=[012edc820cc18e1b28c92bfe30596caf]\n",
       "@startuml\r\n",
       "skinparam linetype polyline\r\n",
       "skinparam monochrome true\r\n",
       "skinparam classbackgroundcolor white\r\n",
       "skinparam shadowing false\r\n",
       "skinparam wrapWidth 300\r\n",
       "hide circle\r\n",
       "\r\n",
       "package \"AliasTest\" as E1  [[psysml:7e4311dd-4dd4-41de-a431-b17c5d614850 ]]  {\r\n",
       "comp usage \"q\" as E2  <<(T,blue) attribute>> [[psysml:789c28e5-5e95-405e-84fa-948507b238dc ]] {\r\n",
       "}\r\n",
       "comp def \"P1\" as E3  <<(T,blue) part def>> [[psysml:00588ae4-2df7-4d57-b3d7-e09c73d2d5b1 ]] {\r\n",
       "}\r\n",
       "comp usage \"porig1\" as E4  <<(T,blue) port>> [[psysml:236a437d-3673-4742-905a-959f5dd42893 ]] {\r\n",
       "}\r\n",
       "comp usage \"p1: P1\" as E5  <<(T,blue) part>> [[psysml:4e54ee4d-012b-498f-93d7-1afb3759d34d ]] {\r\n",
       "}\r\n",
       "comp usage \"po1\" as E6  <<(T,blue) port>> [[psysml:8965b7df-293c-4ee2-9b2b-715c01154c80 ]] {\r\n",
       "}\r\n",
       "comp usage \"p2: P1\" as E7  <<(T,blue) part>> [[psysml:77eadb46-ce1a-4e0f-9527-bb06765d2ea7 ]] {\r\n",
       "}\r\n",
       "comp usage \"pdest\" as E8  <<(T,blue) port>> [[psysml:db28622a-fbe8-4c7d-8fe4-9e164802e944 ]] {\r\n",
       "}\r\n",
       "E3 o- - \"1\"E4 [[psysml:10297d07-57fa-4f9d-a873-bd76f542a35c ]] \r\n",
       "E3 +.. \"1\"E4 [[psysml:4c29fec0-8309-450b-9bf3-4a2b28b77917 ]] \r\n",
       "E5 - -:|> E3 [[psysml:93a52ea3-a140-4bd2-b924-ec5ad15b1b7e ]] \r\n",
       "E5 o- - \"1\"E6 [[psysml:cdcbbeec-90be-4e1d-8c60-d92c8a6a7077 ]] \r\n",
       "E6 - -||> E4 [[psysml:b5614b00-f88c-4f87-85f7-609ca7f17bae ]] \r\n",
       "E7 - -:|> E3 [[psysml:87c48ed5-bc50-48bb-899d-f807bfcdc26e ]] \r\n",
       "E7 o- - \"1\"E8 [[psysml:5ff6c459-66f7-4338-82bb-16aa2b22f6b4 ]] \r\n",
       "E7 +.. \"1\"E8 [[psysml:4eb1c616-a5a7-47d5-8985-e84491dc2120 ]] \r\n",
       "E6 -[thickness=3]- \"*\"E8 [[psysml:af89f277-c22a-4acb-b9c9-7f04d6a8a86b ]] \r\n",
       "E6 -[thickness=3]- \"*\"E8 [[psysml:6818c790-7ee4-49fa-b866-28c88d0d2e1e ]] \r\n",
       "}\r\n",
       "@enduml\r\n",
       "\n",
       "PlantUML version 1.2020.13(Sat Jun 13 12:26:38 UTC 2020)\n",
       "(EPL source distribution)\n",
       "Java Runtime: OpenJDK Runtime Environment\n",
       "JVM: OpenJDK 64-Bit Server VM\n",
       "Default Encoding: UTF-8\n",
       "Language: en\n",
       "Country: null\n",
       "--></g></svg>"
      ]
     },
     "execution_count": 14,
     "metadata": {},
     "output_type": "execute_result"
    }
   ],
   "source": [
    "%viz --style=\"POLYLINE\" --view=\"Sequence\" \"AliasTest\""
   ]
  },
  {
   "cell_type": "code",
   "execution_count": 15,
   "id": "d28e3f46",
   "metadata": {
    "execution": {
     "iopub.execute_input": "2021-08-04T06:25:30.974777Z",
     "iopub.status.busy": "2021-08-04T06:25:30.974377Z",
     "iopub.status.idle": "2021-08-04T06:25:31.008210Z",
     "shell.execute_reply": "2021-08-04T06:25:31.006867Z"
    }
   },
   "outputs": [
    {
     "data": {
      "image/svg+xml": [
       "<?xml version=\"1.0\" encoding=\"UTF-8\" standalone=\"no\"?><svg xmlns=\"http://www.w3.org/2000/svg\" xmlns:xlink=\"http://www.w3.org/1999/xlink\" contentScriptType=\"application/ecmascript\" contentStyleType=\"text/css\" height=\"327px\" preserveAspectRatio=\"none\" style=\"width:304px;height:327px;\" version=\"1.1\" viewBox=\"0 0 304 327\" width=\"304px\" zoomAndPan=\"magnify\"><defs/><g><!--MD5=[fbc87193dbaf4d95561dea2c320d4a47]\n",
       "cluster E1--><a href=\"psysml:7e4311dd-4dd4-41de-a431-b17c5d614850\" target=\"_top\" title=\"psysml:7e4311dd-4dd4-41de-a431-b17c5d614850\" xlink:actuate=\"onRequest\" xlink:href=\"psysml:7e4311dd-4dd4-41de-a431-b17c5d614850\" xlink:show=\"new\" xlink:title=\"psysml:7e4311dd-4dd4-41de-a431-b17c5d614850\" xlink:type=\"simple\"><polygon fill=\"#FFFFFF\" points=\"16,6,94,6,101,28.2969,282,28.2969,282,315,16,315,16,6\" style=\"stroke: #000000; stroke-width: 1.5;\"/><line style=\"stroke: #000000; stroke-width: 1.5;\" x1=\"16\" x2=\"101\" y1=\"28.2969\" y2=\"28.2969\"/><text fill=\"#000000\" font-family=\"sans-serif\" font-size=\"14\" font-weight=\"bold\" lengthAdjust=\"spacingAndGlyphs\" textLength=\"72\" x=\"20\" y=\"20.9951\">AliasTest</text></a><!--MD5=[b4997ac47864f28c2f74865a473b2911]\n",
       "class E2--><a href=\"psysml:789c28e5-5e95-405e-84fa-948507b238dc\" target=\"_top\" title=\"psysml:789c28e5-5e95-405e-84fa-948507b238dc\" xlink:actuate=\"onRequest\" xlink:href=\"psysml:789c28e5-5e95-405e-84fa-948507b238dc\" xlink:show=\"new\" xlink:title=\"psysml:789c28e5-5e95-405e-84fa-948507b238dc\" xlink:type=\"simple\"><rect fill=\"#FFFFFF\" height=\"45.9375\" id=\"E2\" rx=\"10\" ry=\"10\" style=\"stroke: #383838; stroke-width: 1.5;\" width=\"71\" x=\"194.5\" y=\"41\"/><text fill=\"#000000\" font-family=\"sans-serif\" font-size=\"12\" font-style=\"italic\" lengthAdjust=\"spacingAndGlyphs\" textLength=\"69\" x=\"195.5\" y=\"57.1387\">«attribute»</text><text fill=\"#000000\" font-family=\"sans-serif\" font-size=\"12\" lengthAdjust=\"spacingAndGlyphs\" textLength=\"8\" x=\"226\" y=\"71.1074\">q</text><line style=\"stroke: #383838; stroke-width: 1.5;\" x1=\"195.5\" x2=\"264.5\" y1=\"78.9375\" y2=\"78.9375\"/></a><!--MD5=[09b614a08d8cba4a07c9adeb5e0fee81]\n",
       "class E3--><a href=\"psysml:00588ae4-2df7-4d57-b3d7-e09c73d2d5b1\" target=\"_top\" title=\"psysml:00588ae4-2df7-4d57-b3d7-e09c73d2d5b1\" xlink:actuate=\"onRequest\" xlink:href=\"psysml:00588ae4-2df7-4d57-b3d7-e09c73d2d5b1\" xlink:show=\"new\" xlink:title=\"psysml:00588ae4-2df7-4d57-b3d7-e09c73d2d5b1\" xlink:type=\"simple\"><rect fill=\"#FFFFFF\" height=\"45.9375\" id=\"E3\" style=\"stroke: #383838; stroke-width: 1.5;\" width=\"66\" x=\"168\" y=\"147\"/><text fill=\"#000000\" font-family=\"sans-serif\" font-size=\"12\" font-style=\"italic\" lengthAdjust=\"spacingAndGlyphs\" textLength=\"64\" x=\"169\" y=\"163.1387\">«part def»</text><text fill=\"#000000\" font-family=\"sans-serif\" font-size=\"12\" lengthAdjust=\"spacingAndGlyphs\" textLength=\"16\" x=\"193\" y=\"177.1074\">P1</text><line style=\"stroke: #383838; stroke-width: 1.5;\" x1=\"169\" x2=\"233\" y1=\"184.9375\" y2=\"184.9375\"/></a><!--MD5=[ebbe1d658d1005bcc118a6aa81145e00]\n",
       "class E4--><a href=\"psysml:236a437d-3673-4742-905a-959f5dd42893\" target=\"_top\" title=\"psysml:236a437d-3673-4742-905a-959f5dd42893\" xlink:actuate=\"onRequest\" xlink:href=\"psysml:236a437d-3673-4742-905a-959f5dd42893\" xlink:show=\"new\" xlink:title=\"psysml:236a437d-3673-4742-905a-959f5dd42893\" xlink:type=\"simple\"><rect fill=\"#FFFFFF\" height=\"45.9375\" id=\"E4\" rx=\"10\" ry=\"10\" style=\"stroke: #383838; stroke-width: 1.5;\" width=\"46\" x=\"178\" y=\"253\"/><text fill=\"#000000\" font-family=\"sans-serif\" font-size=\"12\" font-style=\"italic\" lengthAdjust=\"spacingAndGlyphs\" textLength=\"40\" x=\"181\" y=\"269.1387\">«port»</text><text fill=\"#000000\" font-family=\"sans-serif\" font-size=\"12\" lengthAdjust=\"spacingAndGlyphs\" textLength=\"40\" x=\"181\" y=\"283.1074\">porig1</text><line style=\"stroke: #383838; stroke-width: 1.5;\" x1=\"179\" x2=\"223\" y1=\"290.9375\" y2=\"290.9375\"/></a><!--MD5=[270fce915f116d4de14055a7c1d9a0f3]\n",
       "class E5--><a href=\"psysml:4e54ee4d-012b-498f-93d7-1afb3759d34d\" target=\"_top\" title=\"psysml:4e54ee4d-012b-498f-93d7-1afb3759d34d\" xlink:actuate=\"onRequest\" xlink:href=\"psysml:4e54ee4d-012b-498f-93d7-1afb3759d34d\" xlink:show=\"new\" xlink:title=\"psysml:4e54ee4d-012b-498f-93d7-1afb3759d34d\" xlink:type=\"simple\"><rect fill=\"#FFFFFF\" height=\"45.9375\" id=\"E5\" rx=\"10\" ry=\"10\" style=\"stroke: #383838; stroke-width: 1.5;\" width=\"46\" x=\"113\" y=\"41\"/><text fill=\"#000000\" font-family=\"sans-serif\" font-size=\"12\" font-style=\"italic\" lengthAdjust=\"spacingAndGlyphs\" textLength=\"40\" x=\"116\" y=\"57.1387\">«part»</text><text fill=\"#000000\" font-family=\"sans-serif\" font-size=\"12\" lengthAdjust=\"spacingAndGlyphs\" textLength=\"40\" x=\"116\" y=\"71.1074\">p1: P1</text><line style=\"stroke: #383838; stroke-width: 1.5;\" x1=\"114\" x2=\"158\" y1=\"78.9375\" y2=\"78.9375\"/></a><!--MD5=[60a26617385b1d2d0262a64233df1f8d]\n",
       "class E6--><a href=\"psysml:8965b7df-293c-4ee2-9b2b-715c01154c80\" target=\"_top\" title=\"psysml:8965b7df-293c-4ee2-9b2b-715c01154c80\" xlink:actuate=\"onRequest\" xlink:href=\"psysml:8965b7df-293c-4ee2-9b2b-715c01154c80\" xlink:show=\"new\" xlink:title=\"psysml:8965b7df-293c-4ee2-9b2b-715c01154c80\" xlink:type=\"simple\"><rect fill=\"#FFFFFF\" height=\"45.9375\" id=\"E6\" rx=\"10\" ry=\"10\" style=\"stroke: #383838; stroke-width: 1.5;\" width=\"42\" x=\"91\" y=\"147\"/><text fill=\"#000000\" font-family=\"sans-serif\" font-size=\"12\" font-style=\"italic\" lengthAdjust=\"spacingAndGlyphs\" textLength=\"40\" x=\"92\" y=\"163.1387\">«port»</text><text fill=\"#000000\" font-family=\"sans-serif\" font-size=\"12\" lengthAdjust=\"spacingAndGlyphs\" textLength=\"24\" x=\"100\" y=\"177.1074\">po1</text><line style=\"stroke: #383838; stroke-width: 1.5;\" x1=\"92\" x2=\"132\" y1=\"184.9375\" y2=\"184.9375\"/></a><!--MD5=[2156ba9850f5573cc1fc38a6a4b2f02b]\n",
       "class E7--><a href=\"psysml:77eadb46-ce1a-4e0f-9527-bb06765d2ea7\" target=\"_top\" title=\"psysml:77eadb46-ce1a-4e0f-9527-bb06765d2ea7\" xlink:actuate=\"onRequest\" xlink:href=\"psysml:77eadb46-ce1a-4e0f-9527-bb06765d2ea7\" xlink:show=\"new\" xlink:title=\"psysml:77eadb46-ce1a-4e0f-9527-bb06765d2ea7\" xlink:type=\"simple\"><rect fill=\"#FFFFFF\" height=\"45.9375\" id=\"E7\" rx=\"10\" ry=\"10\" style=\"stroke: #383838; stroke-width: 1.5;\" width=\"46\" x=\"32\" y=\"41\"/><text fill=\"#000000\" font-family=\"sans-serif\" font-size=\"12\" font-style=\"italic\" lengthAdjust=\"spacingAndGlyphs\" textLength=\"40\" x=\"35\" y=\"57.1387\">«part»</text><text fill=\"#000000\" font-family=\"sans-serif\" font-size=\"12\" lengthAdjust=\"spacingAndGlyphs\" textLength=\"40\" x=\"35\" y=\"71.1074\">p2: P1</text><line style=\"stroke: #383838; stroke-width: 1.5;\" x1=\"33\" x2=\"77\" y1=\"78.9375\" y2=\"78.9375\"/></a><!--MD5=[b9389687b975829384b498ac4b7476b2]\n",
       "class E8--><a href=\"psysml:db28622a-fbe8-4c7d-8fe4-9e164802e944\" target=\"_top\" title=\"psysml:db28622a-fbe8-4c7d-8fe4-9e164802e944\" xlink:actuate=\"onRequest\" xlink:href=\"psysml:db28622a-fbe8-4c7d-8fe4-9e164802e944\" xlink:show=\"new\" xlink:title=\"psysml:db28622a-fbe8-4c7d-8fe4-9e164802e944\" xlink:type=\"simple\"><rect fill=\"#FFFFFF\" height=\"45.9375\" id=\"E8\" rx=\"10\" ry=\"10\" style=\"stroke: #383838; stroke-width: 1.5;\" width=\"42\" x=\"63\" y=\"253\"/><text fill=\"#000000\" font-family=\"sans-serif\" font-size=\"12\" font-style=\"italic\" lengthAdjust=\"spacingAndGlyphs\" textLength=\"40\" x=\"64\" y=\"269.1387\">«port»</text><text fill=\"#000000\" font-family=\"sans-serif\" font-size=\"12\" lengthAdjust=\"spacingAndGlyphs\" textLength=\"36\" x=\"66\" y=\"283.1074\">pdest</text><line style=\"stroke: #383838; stroke-width: 1.5;\" x1=\"64\" x2=\"104\" y1=\"290.9375\" y2=\"290.9375\"/></a><!--MD5=[4672eba38e49728da53d11aeb285b987]\n",
       "reverse link E3 to E4--><a href=\"psysml:10297d07-57fa-4f9d-a873-bd76f542a35c\" target=\"_top\" title=\"psysml:10297d07-57fa-4f9d-a873-bd76f542a35c\" xlink:actuate=\"onRequest\" xlink:href=\"psysml:10297d07-57fa-4f9d-a873-bd76f542a35c\" xlink:show=\"new\" xlink:title=\"psysml:10297d07-57fa-4f9d-a873-bd76f542a35c\" xlink:type=\"simple\"><path d=\"M188.84,206.44 C187.7,221.87 188.21,239.47 190.36,252.98 \" fill=\"none\" id=\"E3&lt;-E4\" style=\"stroke: #383838; stroke-width: 1.0;\"/><polygon fill=\"#FFFFFF\" points=\"190.35,193.06,185.7032,198.5743,189.006,204.9845,193.6528,199.4702,190.35,193.06\" style=\"stroke: #383838; stroke-width: 1.0;\"/><text fill=\"#000000\" font-family=\"sans-serif\" font-size=\"13\" lengthAdjust=\"spacingAndGlyphs\" textLength=\"8\" x=\"178.4255\" y=\"241.8709\">1</text></a><!--MD5=[4672eba38e49728da53d11aeb285b987]\n",
       "reverse link E3 to E4--><a href=\"psysml:4c29fec0-8309-450b-9bf3-4a2b28b77917\" target=\"_top\" title=\"psysml:4c29fec0-8309-450b-9bf3-4a2b28b77917\" xlink:actuate=\"onRequest\" xlink:href=\"psysml:4c29fec0-8309-450b-9bf3-4a2b28b77917\" xlink:show=\"new\" xlink:title=\"psysml:4c29fec0-8309-450b-9bf3-4a2b28b77917\" xlink:type=\"simple\"><path d=\"M214.01,208.34 C215.03,223.3 214.45,240.02 212.27,252.98 \" fill=\"none\" id=\"E3&lt;-E4-1\" style=\"stroke: #383838; stroke-width: 1.0; stroke-dasharray: 7.0,7.0;\"/><ellipse cx=\"213.1693\" cy=\"201.0093\" fill=\"#FFFFFF\" rx=\"8\" ry=\"8\" style=\"stroke: #383838; stroke-width: 1.0;\"/><line style=\"stroke: #383838; stroke-width: 1.0;\" x1=\"214.0687\" x2=\"212.27\" y1=\"208.9586\" y2=\"193.06\"/><line style=\"stroke: #383838; stroke-width: 1.0;\" x1=\"205.2201\" x2=\"221.1186\" y1=\"201.9086\" y2=\"200.1099\"/><text fill=\"#000000\" font-family=\"sans-serif\" font-size=\"13\" lengthAdjust=\"spacingAndGlyphs\" textLength=\"8\" x=\"206.2238\" y=\"241.8709\">1</text></a><!--MD5=[e9be52314489bd878ff4c7144b63c9e1]\n",
       "link E5 to E3--><a href=\"psysml:93a52ea3-a140-4bd2-b924-ec5ad15b1b7e\" target=\"_top\" title=\"psysml:93a52ea3-a140-4bd2-b924-ec5ad15b1b7e\" xlink:actuate=\"onRequest\" xlink:href=\"psysml:93a52ea3-a140-4bd2-b924-ec5ad15b1b7e\" xlink:show=\"new\" xlink:title=\"psysml:93a52ea3-a140-4bd2-b924-ec5ad15b1b7e\" xlink:type=\"simple\"><path d=\"M149.78,87.06 C157.54,99.47 167.45,115.33 176.49,129.78 \" fill=\"none\" id=\"E5-&gt;E3\" style=\"stroke: #383838; stroke-width: 1.0;\"/><polygon fill=\"#FFFFFF\" points=\"187.24,146.98,171.2331,134.5792,183.1045,127.1584,187.24,146.98\" style=\"stroke: #383838; stroke-width: 1.0;\"/><ellipse cx=\"169.9076\" cy=\"128.6857\" fill=\"#383838\" rx=\"2\" ry=\"2\" style=\"stroke: #383838; stroke-width: 1.0;\"/><ellipse cx=\"178.3872\" cy=\"123.3851\" fill=\"#383838\" rx=\"2\" ry=\"2\" style=\"stroke: #383838; stroke-width: 1.0;\"/></a><!--MD5=[85d356282659285ab4b2cfe2f634dd2b]\n",
       "reverse link E5 to E6--><a href=\"psysml:cdcbbeec-90be-4e1d-8c60-d92c8a6a7077\" target=\"_top\" title=\"psysml:cdcbbeec-90be-4e1d-8c60-d92c8a6a7077\" xlink:actuate=\"onRequest\" xlink:href=\"psysml:cdcbbeec-90be-4e1d-8c60-d92c8a6a7077\" xlink:show=\"new\" xlink:title=\"psysml:cdcbbeec-90be-4e1d-8c60-d92c8a6a7077\" xlink:type=\"simple\"><path d=\"M127.93,99.96 C124.34,115.51 120.23,133.33 117.08,146.98 \" fill=\"none\" id=\"E5&lt;-E6\" style=\"stroke: #383838; stroke-width: 1.0;\"/><polygon fill=\"#FFFFFF\" points=\"130.91,87.06,125.6616,92.0052,128.2078,98.7518,133.4562,93.8066,130.91,87.06\" style=\"stroke: #383838; stroke-width: 1.0;\"/><text fill=\"#000000\" font-family=\"sans-serif\" font-size=\"13\" lengthAdjust=\"spacingAndGlyphs\" textLength=\"8\" x=\"109.3703\" y=\"135.8709\">1</text></a><!--MD5=[f667431f98296947986a1a7595a31603]\n",
       "link E6 to E4--><a href=\"psysml:b5614b00-f88c-4f87-85f7-609ca7f17bae\" target=\"_top\" title=\"psysml:b5614b00-f88c-4f87-85f7-609ca7f17bae\" xlink:actuate=\"onRequest\" xlink:href=\"psysml:b5614b00-f88c-4f87-85f7-609ca7f17bae\" xlink:show=\"new\" xlink:title=\"psysml:b5614b00-f88c-4f87-85f7-609ca7f17bae\" xlink:type=\"simple\"><path d=\"M130.87,193.06 C141.97,206.02 156.28,222.74 169.08,237.7 \" fill=\"none\" id=\"E6-&gt;E4\" style=\"stroke: #383838; stroke-width: 1.0;\"/><polygon fill=\"#FFFFFF\" points=\"182.15,252.98,164.4809,243.0905,175.1204,233.9909,182.15,252.98\" style=\"stroke: #383838; stroke-width: 1.0;\"/><line style=\"stroke: #383838; stroke-width: 2.0;\" x1=\"162.011\" x2=\"172.6505\" y1=\"240.2026\" y2=\"231.1031\"/></a><!--MD5=[14ccda38c055a5c0da953d572bc50960]\n",
       "link E7 to E3--><a href=\"psysml:87c48ed5-bc50-48bb-899d-f807bfcdc26e\" target=\"_top\" title=\"psysml:87c48ed5-bc50-48bb-899d-f807bfcdc26e\" xlink:actuate=\"onRequest\" xlink:href=\"psysml:87c48ed5-bc50-48bb-899d-f807bfcdc26e\" xlink:show=\"new\" xlink:title=\"psysml:87c48ed5-bc50-48bb-899d-f807bfcdc26e\" xlink:type=\"simple\"><path d=\"M78.13,81.48 C98.32,95.86 128.25,117.18 153.52,135.18 \" fill=\"none\" id=\"E7-&gt;E3\" style=\"stroke: #383838; stroke-width: 1.0;\"/><polygon fill=\"#FFFFFF\" points=\"170.09,146.98,150.5533,141.6586,158.6755,130.2555,170.09,146.98\" style=\"stroke: #383838; stroke-width: 1.0;\"/><ellipse cx=\"147.0709\" cy=\"136.7227\" fill=\"#383838\" rx=\"2\" ry=\"2\" style=\"stroke: #383838; stroke-width: 1.0;\"/><ellipse cx=\"152.8725\" cy=\"128.5776\" fill=\"#383838\" rx=\"2\" ry=\"2\" style=\"stroke: #383838; stroke-width: 1.0;\"/></a><!--MD5=[dc164f5e8a733ab456ef1add180e9e34]\n",
       "reverse link E7 to E8--><a href=\"psysml:5ff6c459-66f7-4338-82bb-16aa2b22f6b4\" target=\"_top\" title=\"psysml:5ff6c459-66f7-4338-82bb-16aa2b22f6b4\" xlink:actuate=\"onRequest\" xlink:href=\"psysml:5ff6c459-66f7-4338-82bb-16aa2b22f6b4\" xlink:show=\"new\" xlink:title=\"psysml:5ff6c459-66f7-4338-82bb-16aa2b22f6b4\" xlink:type=\"simple\"><path d=\"M50.05,100.09 C51.65,143.61 62.25,216.5 72.75,252.9 \" fill=\"none\" id=\"E7&lt;-E8\" style=\"stroke: #383838; stroke-width: 1.0;\"/><polygon fill=\"#FFFFFF\" points=\"49.85,87.08,45.9362,93.1366,50.0216,99.0788,53.9354,93.0222,49.85,87.08\" style=\"stroke: #383838; stroke-width: 1.0;\"/><text fill=\"#000000\" font-family=\"sans-serif\" font-size=\"13\" lengthAdjust=\"spacingAndGlyphs\" textLength=\"8\" x=\"60.6516\" y=\"241.7694\">1</text></a><!--MD5=[dc164f5e8a733ab456ef1add180e9e34]\n",
       "reverse link E7 to E8--><a href=\"psysml:4eb1c616-a5a7-47d5-8985-e84491dc2120\" target=\"_top\" title=\"psysml:4eb1c616-a5a7-47d5-8985-e84491dc2120\" xlink:actuate=\"onRequest\" xlink:href=\"psysml:4eb1c616-a5a7-47d5-8985-e84491dc2120\" xlink:show=\"new\" xlink:title=\"psysml:4eb1c616-a5a7-47d5-8985-e84491dc2120\" xlink:type=\"simple\"><path d=\"M70.64,101.8 C81.15,145.5 90.39,216.97 89.63,252.9 \" fill=\"none\" id=\"E7&lt;-E8-1\" style=\"stroke: #383838; stroke-width: 1.0; stroke-dasharray: 7.0,7.0;\"/><ellipse cx=\"68.7794\" cy=\"94.813\" fill=\"#FFFFFF\" rx=\"8\" ry=\"8\" style=\"stroke: #383838; stroke-width: 1.0;\"/><line style=\"stroke: #383838; stroke-width: 1.0;\" x1=\"70.8289\" x2=\"66.73\" y1=\"102.5461\" y2=\"87.08\"/><line style=\"stroke: #383838; stroke-width: 1.0;\" x1=\"61.0464\" x2=\"76.5125\" y1=\"96.8625\" y2=\"92.7636\"/><text fill=\"#000000\" font-family=\"sans-serif\" font-size=\"13\" lengthAdjust=\"spacingAndGlyphs\" textLength=\"8\" x=\"92.2181\" y=\"241.7694\">1</text></a><!--MD5=[0a839d0f80c2d72d4b9b307f046d0de8]\n",
       "link E6 to E8--><a href=\"psysml:af89f277-c22a-4acb-b9c9-7f04d6a8a86b\" target=\"_top\" title=\"psysml:af89f277-c22a-4acb-b9c9-7f04d6a8a86b\" xlink:actuate=\"onRequest\" xlink:href=\"psysml:af89f277-c22a-4acb-b9c9-7f04d6a8a86b\" xlink:show=\"new\" xlink:title=\"psysml:af89f277-c22a-4acb-b9c9-7f04d6a8a86b\" xlink:type=\"simple\"><path d=\"M95.42,193.06 C87.86,210.7 81.23,235.34 79.29,252.98 \" fill=\"none\" id=\"E6-E8\" style=\"stroke: #383838; stroke-width: 3.0;\"/><text fill=\"#000000\" font-family=\"sans-serif\" font-size=\"13\" lengthAdjust=\"spacingAndGlyphs\" textLength=\"7\" x=\"78.9648\" y=\"241.8709\">*</text></a><!--MD5=[0a839d0f80c2d72d4b9b307f046d0de8]\n",
       "link E6 to E8--><a href=\"psysml:6818c790-7ee4-49fa-b866-28c88d0d2e1e\" target=\"_top\" title=\"psysml:6818c790-7ee4-49fa-b866-28c88d0d2e1e\" xlink:actuate=\"onRequest\" xlink:href=\"psysml:6818c790-7ee4-49fa-b866-28c88d0d2e1e\" xlink:show=\"new\" xlink:title=\"psysml:6818c790-7ee4-49fa-b866-28c88d0d2e1e\" xlink:type=\"simple\"><path d=\"M117.33,193.06 C115.55,210.7 108.92,235.34 101.2,252.98 \" fill=\"none\" id=\"E6-E8-1\" style=\"stroke: #383838; stroke-width: 3.0;\"/><text fill=\"#000000\" font-family=\"sans-serif\" font-size=\"13\" lengthAdjust=\"spacingAndGlyphs\" textLength=\"7\" x=\"97.8819\" y=\"241.8709\">*</text></a><!--MD5=[012edc820cc18e1b28c92bfe30596caf]\n",
       "@startuml\r\n",
       "skinparam linetype polyline\r\n",
       "skinparam monochrome true\r\n",
       "skinparam classbackgroundcolor white\r\n",
       "skinparam shadowing false\r\n",
       "skinparam wrapWidth 300\r\n",
       "hide circle\r\n",
       "\r\n",
       "package \"AliasTest\" as E1  [[psysml:7e4311dd-4dd4-41de-a431-b17c5d614850 ]]  {\r\n",
       "comp usage \"q\" as E2  <<(T,blue) attribute>> [[psysml:789c28e5-5e95-405e-84fa-948507b238dc ]] {\r\n",
       "}\r\n",
       "comp def \"P1\" as E3  <<(T,blue) part def>> [[psysml:00588ae4-2df7-4d57-b3d7-e09c73d2d5b1 ]] {\r\n",
       "}\r\n",
       "comp usage \"porig1\" as E4  <<(T,blue) port>> [[psysml:236a437d-3673-4742-905a-959f5dd42893 ]] {\r\n",
       "}\r\n",
       "comp usage \"p1: P1\" as E5  <<(T,blue) part>> [[psysml:4e54ee4d-012b-498f-93d7-1afb3759d34d ]] {\r\n",
       "}\r\n",
       "comp usage \"po1\" as E6  <<(T,blue) port>> [[psysml:8965b7df-293c-4ee2-9b2b-715c01154c80 ]] {\r\n",
       "}\r\n",
       "comp usage \"p2: P1\" as E7  <<(T,blue) part>> [[psysml:77eadb46-ce1a-4e0f-9527-bb06765d2ea7 ]] {\r\n",
       "}\r\n",
       "comp usage \"pdest\" as E8  <<(T,blue) port>> [[psysml:db28622a-fbe8-4c7d-8fe4-9e164802e944 ]] {\r\n",
       "}\r\n",
       "E3 o- - \"1\"E4 [[psysml:10297d07-57fa-4f9d-a873-bd76f542a35c ]] \r\n",
       "E3 +.. \"1\"E4 [[psysml:4c29fec0-8309-450b-9bf3-4a2b28b77917 ]] \r\n",
       "E5 - -:|> E3 [[psysml:93a52ea3-a140-4bd2-b924-ec5ad15b1b7e ]] \r\n",
       "E5 o- - \"1\"E6 [[psysml:cdcbbeec-90be-4e1d-8c60-d92c8a6a7077 ]] \r\n",
       "E6 - -||> E4 [[psysml:b5614b00-f88c-4f87-85f7-609ca7f17bae ]] \r\n",
       "E7 - -:|> E3 [[psysml:87c48ed5-bc50-48bb-899d-f807bfcdc26e ]] \r\n",
       "E7 o- - \"1\"E8 [[psysml:5ff6c459-66f7-4338-82bb-16aa2b22f6b4 ]] \r\n",
       "E7 +.. \"1\"E8 [[psysml:4eb1c616-a5a7-47d5-8985-e84491dc2120 ]] \r\n",
       "E6 -[thickness=3]- \"*\"E8 [[psysml:af89f277-c22a-4acb-b9c9-7f04d6a8a86b ]] \r\n",
       "E6 -[thickness=3]- \"*\"E8 [[psysml:6818c790-7ee4-49fa-b866-28c88d0d2e1e ]] \r\n",
       "}\r\n",
       "@enduml\r\n",
       "\n",
       "PlantUML version 1.2020.13(Sat Jun 13 12:26:38 UTC 2020)\n",
       "(EPL source distribution)\n",
       "Java Runtime: OpenJDK Runtime Environment\n",
       "JVM: OpenJDK 64-Bit Server VM\n",
       "Default Encoding: UTF-8\n",
       "Language: en\n",
       "Country: null\n",
       "--></g></svg>"
      ]
     },
     "execution_count": 15,
     "metadata": {},
     "output_type": "execute_result"
    }
   ],
   "source": [
    "%viz --style=\"POLYLINE\" --view=\"MIXED\" \"AliasTest\""
   ]
  },
  {
   "cell_type": "code",
   "execution_count": 16,
   "id": "70e9ae3c",
   "metadata": {
    "execution": {
     "iopub.execute_input": "2021-08-04T06:25:31.058103Z",
     "iopub.status.busy": "2021-08-04T06:25:31.057680Z",
     "iopub.status.idle": "2021-08-04T06:25:31.085642Z",
     "shell.execute_reply": "2021-08-04T06:25:31.085280Z"
    }
   },
   "outputs": [
    {
     "data": {
      "image/svg+xml": [
       "<?xml version=\"1.0\" encoding=\"UTF-8\" standalone=\"no\"?><svg xmlns=\"http://www.w3.org/2000/svg\" xmlns:xlink=\"http://www.w3.org/1999/xlink\" contentScriptType=\"application/ecmascript\" contentStyleType=\"text/css\" height=\"277px\" preserveAspectRatio=\"none\" style=\"width:373px;height:277px;\" version=\"1.1\" viewBox=\"0 0 373 277\" width=\"373px\" zoomAndPan=\"magnify\"><defs/><g><!--MD5=[fbc87193dbaf4d95561dea2c320d4a47]\n",
       "cluster E1--><a href=\"psysml:7e4311dd-4dd4-41de-a431-b17c5d614850\" target=\"_top\" title=\"psysml:7e4311dd-4dd4-41de-a431-b17c5d614850\" xlink:actuate=\"onRequest\" xlink:href=\"psysml:7e4311dd-4dd4-41de-a431-b17c5d614850\" xlink:show=\"new\" xlink:title=\"psysml:7e4311dd-4dd4-41de-a431-b17c5d614850\" xlink:type=\"simple\"><polygon fill=\"#FFFFFF\" points=\"16,6,94,6,101,28.2969,351,28.2969,351,265,16,265,16,6\" style=\"stroke: #000000; stroke-width: 1.5;\"/><line style=\"stroke: #000000; stroke-width: 1.5;\" x1=\"16\" x2=\"101\" y1=\"28.2969\" y2=\"28.2969\"/><text fill=\"#000000\" font-family=\"sans-serif\" font-size=\"14\" font-weight=\"bold\" lengthAdjust=\"spacingAndGlyphs\" textLength=\"72\" x=\"20\" y=\"20.9951\">AliasTest</text></a><!--MD5=[b4997ac47864f28c2f74865a473b2911]\n",
       "class E2--><a href=\"psysml:789c28e5-5e95-405e-84fa-948507b238dc\" target=\"_top\" title=\"psysml:789c28e5-5e95-405e-84fa-948507b238dc\" xlink:actuate=\"onRequest\" xlink:href=\"psysml:789c28e5-5e95-405e-84fa-948507b238dc\" xlink:show=\"new\" xlink:title=\"psysml:789c28e5-5e95-405e-84fa-948507b238dc\" xlink:type=\"simple\"><rect fill=\"#FFFFFF\" height=\"45.9375\" id=\"E2\" rx=\"10\" ry=\"10\" style=\"stroke: #383838; stroke-width: 1.5;\" width=\"71\" x=\"32\" y=\"41\"/><text fill=\"#000000\" font-family=\"sans-serif\" font-size=\"12\" font-style=\"italic\" lengthAdjust=\"spacingAndGlyphs\" textLength=\"69\" x=\"33\" y=\"57.1387\">«attribute»</text><text fill=\"#000000\" font-family=\"sans-serif\" font-size=\"12\" lengthAdjust=\"spacingAndGlyphs\" textLength=\"8\" x=\"63.5\" y=\"71.1074\">q</text><line style=\"stroke: #383838; stroke-width: 1.5;\" x1=\"33\" x2=\"102\" y1=\"78.9375\" y2=\"78.9375\"/></a><!--MD5=[09b614a08d8cba4a07c9adeb5e0fee81]\n",
       "class E3--><a href=\"psysml:00588ae4-2df7-4d57-b3d7-e09c73d2d5b1\" target=\"_top\" title=\"psysml:00588ae4-2df7-4d57-b3d7-e09c73d2d5b1\" xlink:actuate=\"onRequest\" xlink:href=\"psysml:00588ae4-2df7-4d57-b3d7-e09c73d2d5b1\" xlink:show=\"new\" xlink:title=\"psysml:00588ae4-2df7-4d57-b3d7-e09c73d2d5b1\" xlink:type=\"simple\"><rect fill=\"#FFFFFF\" height=\"45.9375\" id=\"E3\" style=\"stroke: #383838; stroke-width: 1.5;\" width=\"66\" x=\"163\" y=\"63\"/><text fill=\"#000000\" font-family=\"sans-serif\" font-size=\"12\" font-style=\"italic\" lengthAdjust=\"spacingAndGlyphs\" textLength=\"64\" x=\"164\" y=\"79.1387\">«part def»</text><text fill=\"#000000\" font-family=\"sans-serif\" font-size=\"12\" lengthAdjust=\"spacingAndGlyphs\" textLength=\"16\" x=\"188\" y=\"93.1074\">P1</text><line style=\"stroke: #383838; stroke-width: 1.5;\" x1=\"164\" x2=\"228\" y1=\"100.9375\" y2=\"100.9375\"/></a><!--MD5=[ebbe1d658d1005bcc118a6aa81145e00]\n",
       "class E4--><a href=\"psysml:236a437d-3673-4742-905a-959f5dd42893\" target=\"_top\" title=\"psysml:236a437d-3673-4742-905a-959f5dd42893\" xlink:actuate=\"onRequest\" xlink:href=\"psysml:236a437d-3673-4742-905a-959f5dd42893\" xlink:show=\"new\" xlink:title=\"psysml:236a437d-3673-4742-905a-959f5dd42893\" xlink:type=\"simple\"><rect fill=\"#FFFFFF\" height=\"45.9375\" id=\"E4\" rx=\"10\" ry=\"10\" style=\"stroke: #383838; stroke-width: 1.5;\" width=\"46\" x=\"289\" y=\"63\"/><text fill=\"#000000\" font-family=\"sans-serif\" font-size=\"12\" font-style=\"italic\" lengthAdjust=\"spacingAndGlyphs\" textLength=\"40\" x=\"292\" y=\"79.1387\">«port»</text><text fill=\"#000000\" font-family=\"sans-serif\" font-size=\"12\" lengthAdjust=\"spacingAndGlyphs\" textLength=\"40\" x=\"292\" y=\"93.1074\">porig1</text><line style=\"stroke: #383838; stroke-width: 1.5;\" x1=\"290\" x2=\"334\" y1=\"100.9375\" y2=\"100.9375\"/></a><!--MD5=[270fce915f116d4de14055a7c1d9a0f3]\n",
       "class E5--><a href=\"psysml:4e54ee4d-012b-498f-93d7-1afb3759d34d\" target=\"_top\" title=\"psysml:4e54ee4d-012b-498f-93d7-1afb3759d34d\" xlink:actuate=\"onRequest\" xlink:href=\"psysml:4e54ee4d-012b-498f-93d7-1afb3759d34d\" xlink:show=\"new\" xlink:title=\"psysml:4e54ee4d-012b-498f-93d7-1afb3759d34d\" xlink:type=\"simple\"><rect fill=\"#FFFFFF\" height=\"45.9375\" id=\"E5\" rx=\"10\" ry=\"10\" style=\"stroke: #383838; stroke-width: 1.5;\" width=\"46\" x=\"44.5\" y=\"122\"/><text fill=\"#000000\" font-family=\"sans-serif\" font-size=\"12\" font-style=\"italic\" lengthAdjust=\"spacingAndGlyphs\" textLength=\"40\" x=\"47.5\" y=\"138.1387\">«part»</text><text fill=\"#000000\" font-family=\"sans-serif\" font-size=\"12\" lengthAdjust=\"spacingAndGlyphs\" textLength=\"40\" x=\"47.5\" y=\"152.1074\">p1: P1</text><line style=\"stroke: #383838; stroke-width: 1.5;\" x1=\"45.5\" x2=\"89.5\" y1=\"159.9375\" y2=\"159.9375\"/></a><!--MD5=[60a26617385b1d2d0262a64233df1f8d]\n",
       "class E6--><a href=\"psysml:8965b7df-293c-4ee2-9b2b-715c01154c80\" target=\"_top\" title=\"psysml:8965b7df-293c-4ee2-9b2b-715c01154c80\" xlink:actuate=\"onRequest\" xlink:href=\"psysml:8965b7df-293c-4ee2-9b2b-715c01154c80\" xlink:show=\"new\" xlink:title=\"psysml:8965b7df-293c-4ee2-9b2b-715c01154c80\" xlink:type=\"simple\"><rect fill=\"#FFFFFF\" height=\"45.9375\" id=\"E6\" rx=\"10\" ry=\"10\" style=\"stroke: #383838; stroke-width: 1.5;\" width=\"42\" x=\"175\" y=\"144\"/><text fill=\"#000000\" font-family=\"sans-serif\" font-size=\"12\" font-style=\"italic\" lengthAdjust=\"spacingAndGlyphs\" textLength=\"40\" x=\"176\" y=\"160.1387\">«port»</text><text fill=\"#000000\" font-family=\"sans-serif\" font-size=\"12\" lengthAdjust=\"spacingAndGlyphs\" textLength=\"24\" x=\"184\" y=\"174.1074\">po1</text><line style=\"stroke: #383838; stroke-width: 1.5;\" x1=\"176\" x2=\"216\" y1=\"181.9375\" y2=\"181.9375\"/></a><!--MD5=[2156ba9850f5573cc1fc38a6a4b2f02b]\n",
       "class E7--><a href=\"psysml:77eadb46-ce1a-4e0f-9527-bb06765d2ea7\" target=\"_top\" title=\"psysml:77eadb46-ce1a-4e0f-9527-bb06765d2ea7\" xlink:actuate=\"onRequest\" xlink:href=\"psysml:77eadb46-ce1a-4e0f-9527-bb06765d2ea7\" xlink:show=\"new\" xlink:title=\"psysml:77eadb46-ce1a-4e0f-9527-bb06765d2ea7\" xlink:type=\"simple\"><rect fill=\"#FFFFFF\" height=\"45.9375\" id=\"E7\" rx=\"10\" ry=\"10\" style=\"stroke: #383838; stroke-width: 1.5;\" width=\"46\" x=\"44.5\" y=\"203\"/><text fill=\"#000000\" font-family=\"sans-serif\" font-size=\"12\" font-style=\"italic\" lengthAdjust=\"spacingAndGlyphs\" textLength=\"40\" x=\"47.5\" y=\"219.1387\">«part»</text><text fill=\"#000000\" font-family=\"sans-serif\" font-size=\"12\" lengthAdjust=\"spacingAndGlyphs\" textLength=\"40\" x=\"47.5\" y=\"233.1074\">p2: P1</text><line style=\"stroke: #383838; stroke-width: 1.5;\" x1=\"45.5\" x2=\"89.5\" y1=\"240.9375\" y2=\"240.9375\"/></a><!--MD5=[b9389687b975829384b498ac4b7476b2]\n",
       "class E8--><a href=\"psysml:db28622a-fbe8-4c7d-8fe4-9e164802e944\" target=\"_top\" title=\"psysml:db28622a-fbe8-4c7d-8fe4-9e164802e944\" xlink:actuate=\"onRequest\" xlink:href=\"psysml:db28622a-fbe8-4c7d-8fe4-9e164802e944\" xlink:show=\"new\" xlink:title=\"psysml:db28622a-fbe8-4c7d-8fe4-9e164802e944\" xlink:type=\"simple\"><rect fill=\"#FFFFFF\" height=\"45.9375\" id=\"E8\" rx=\"10\" ry=\"10\" style=\"stroke: #383838; stroke-width: 1.5;\" width=\"42\" x=\"291\" y=\"173\"/><text fill=\"#000000\" font-family=\"sans-serif\" font-size=\"12\" font-style=\"italic\" lengthAdjust=\"spacingAndGlyphs\" textLength=\"40\" x=\"292\" y=\"189.1387\">«port»</text><text fill=\"#000000\" font-family=\"sans-serif\" font-size=\"12\" lengthAdjust=\"spacingAndGlyphs\" textLength=\"36\" x=\"294\" y=\"203.1074\">pdest</text><line style=\"stroke: #383838; stroke-width: 1.5;\" x1=\"292\" x2=\"332\" y1=\"210.9375\" y2=\"210.9375\"/></a><!--MD5=[4672eba38e49728da53d11aeb285b987]\n",
       "reverse link E3 to E4--><a href=\"psysml:10297d07-57fa-4f9d-a873-bd76f542a35c\" target=\"_top\" title=\"psysml:10297d07-57fa-4f9d-a873-bd76f542a35c\" xlink:actuate=\"onRequest\" xlink:href=\"psysml:10297d07-57fa-4f9d-a873-bd76f542a35c\" xlink:show=\"new\" xlink:title=\"psysml:10297d07-57fa-4f9d-a873-bd76f542a35c\" xlink:type=\"simple\"><path d=\"M242.14,98.5 C258.23,99.18 275.63,98.46 288.92,96.33 \" fill=\"none\" id=\"E3&lt;-E4\" style=\"stroke: #383838; stroke-width: 1.0;\"/><polygon fill=\"#FFFFFF\" points=\"229.06,97.6,234.7687,102.0057,241.0312,98.4306,235.3225,94.0249,229.06,97.6\" style=\"stroke: #383838; stroke-width: 1.0;\"/><text fill=\"#000000\" font-family=\"sans-serif\" font-size=\"13\" lengthAdjust=\"spacingAndGlyphs\" textLength=\"8\" x=\"272.9653\" y=\"113.6631\">1</text></a><!--MD5=[4672eba38e49728da53d11aeb285b987]\n",
       "reverse link E3 to E4--><a href=\"psysml:4c29fec0-8309-450b-9bf3-4a2b28b77917\" target=\"_top\" title=\"psysml:4c29fec0-8309-450b-9bf3-4a2b28b77917\" xlink:actuate=\"onRequest\" xlink:href=\"psysml:4c29fec0-8309-450b-9bf3-4a2b28b77917\" xlink:show=\"new\" xlink:title=\"psysml:4c29fec0-8309-450b-9bf3-4a2b28b77917\" xlink:type=\"simple\"><path d=\"M244.08,72.68 C259.61,72.1 276.16,72.9 288.92,75.07 \" fill=\"none\" id=\"E3&lt;-E4-1\" style=\"stroke: #383838; stroke-width: 1.0; stroke-dasharray: 7.0,7.0;\"/><ellipse cx=\"237.0406\" cy=\"73.1636\" fill=\"#FFFFFF\" rx=\"8\" ry=\"8\" style=\"stroke: #383838; stroke-width: 1.0;\"/><line style=\"stroke: #383838; stroke-width: 1.0;\" x1=\"245.0213\" x2=\"229.06\" y1=\"72.6071\" y2=\"73.72\"/><line style=\"stroke: #383838; stroke-width: 1.0;\" x1=\"237.5971\" x2=\"236.4842\" y1=\"81.1442\" y2=\"65.1829\"/><text fill=\"#000000\" font-family=\"sans-serif\" font-size=\"13\" lengthAdjust=\"spacingAndGlyphs\" textLength=\"8\" x=\"272.9653\" y=\"86.158\">1</text></a><!--MD5=[e9be52314489bd878ff4c7144b63c9e1]\n",
       "link E5 to E3--><a href=\"psysml:93a52ea3-a140-4bd2-b924-ec5ad15b1b7e\" target=\"_top\" title=\"psysml:93a52ea3-a140-4bd2-b924-ec5ad15b1b7e\" xlink:actuate=\"onRequest\" xlink:href=\"psysml:93a52ea3-a140-4bd2-b924-ec5ad15b1b7e\" xlink:show=\"new\" xlink:title=\"psysml:93a52ea3-a140-4bd2-b924-ec5ad15b1b7e\" xlink:type=\"simple\"><path d=\"M90.53,134.72 C105.43,127.78 125.72,118.31 144.46,109.57 \" fill=\"none\" id=\"E5-&gt;E3\" style=\"stroke: #383838; stroke-width: 1.0;\"/><polygon fill=\"#FFFFFF\" points=\"162.78,101.03,148.5252,115.4106,142.6026,102.725,162.78,101.03\" style=\"stroke: #383838; stroke-width: 1.0;\"/><ellipse cx=\"142.5143\" cy=\"116.0097\" fill=\"#383838\" rx=\"2\" ry=\"2\" style=\"stroke: #383838; stroke-width: 1.0;\"/><ellipse cx=\"138.2839\" cy=\"106.9486\" fill=\"#383838\" rx=\"2\" ry=\"2\" style=\"stroke: #383838; stroke-width: 1.0;\"/></a><!--MD5=[85d356282659285ab4b2cfe2f634dd2b]\n",
       "reverse link E5 to E6--><a href=\"psysml:cdcbbeec-90be-4e1d-8c60-d92c8a6a7077\" target=\"_top\" title=\"psysml:cdcbbeec-90be-4e1d-8c60-d92c8a6a7077\" xlink:actuate=\"onRequest\" xlink:href=\"psysml:cdcbbeec-90be-4e1d-8c60-d92c8a6a7077\" xlink:show=\"new\" xlink:title=\"psysml:cdcbbeec-90be-4e1d-8c60-d92c8a6a7077\" xlink:type=\"simple\"><path d=\"M103.55,151.1 C126.53,155.09 155.74,160.17 174.89,163.5 \" fill=\"none\" id=\"E5&lt;-E6\" style=\"stroke: #383838; stroke-width: 1.0;\"/><polygon fill=\"#FFFFFF\" points=\"90.53,148.83,95.755,153.7999,102.3522,150.8883,97.1272,145.9184,90.53,148.83\" style=\"stroke: #383838; stroke-width: 1.0;\"/><text fill=\"#000000\" font-family=\"sans-serif\" font-size=\"13\" lengthAdjust=\"spacingAndGlyphs\" textLength=\"8\" x=\"158.8862\" y=\"176.873\">1</text></a><!--MD5=[f667431f98296947986a1a7595a31603]\n",
       "link E6 to E4--><a href=\"psysml:b5614b00-f88c-4f87-85f7-609ca7f17bae\" target=\"_top\" title=\"psysml:b5614b00-f88c-4f87-85f7-609ca7f17bae\" xlink:actuate=\"onRequest\" xlink:href=\"psysml:b5614b00-f88c-4f87-85f7-609ca7f17bae\" xlink:show=\"new\" xlink:title=\"psysml:b5614b00-f88c-4f87-85f7-609ca7f17bae\" xlink:type=\"simple\"><path d=\"M217.12,152.71 C232.33,141.9 253.68,126.73 272.18,113.59 \" fill=\"none\" id=\"E6-&gt;E4\" style=\"stroke: #383838; stroke-width: 1.0;\"/><polygon fill=\"#FFFFFF\" points=\"288.74,101.81,277.2991,118.5165,269.1949,107.1006,288.74,101.81\" style=\"stroke: #383838; stroke-width: 1.0;\"/><line style=\"stroke: #383838; stroke-width: 2.0;\" x1=\"274.2005\" x2=\"266.0963\" y1=\"120.7162\" y2=\"109.3003\"/></a><!--MD5=[14ccda38c055a5c0da953d572bc50960]\n",
       "link E7 to E3--><a href=\"psysml:87c48ed5-bc50-48bb-899d-f807bfcdc26e\" target=\"_top\" title=\"psysml:87c48ed5-bc50-48bb-899d-f807bfcdc26e\" xlink:actuate=\"onRequest\" xlink:href=\"psysml:87c48ed5-bc50-48bb-899d-f807bfcdc26e\" xlink:show=\"new\" xlink:title=\"psysml:87c48ed5-bc50-48bb-899d-f807bfcdc26e\" xlink:type=\"simple\"><path d=\"M89.39,202.88 C108.71,181.5 137.78,149.32 160.54,124.14 \" fill=\"none\" id=\"E7-&gt;E3\" style=\"stroke: #383838; stroke-width: 1.0;\"/><polygon fill=\"#FFFFFF\" points=\"174.08,109.15,166.5338,127.9398,156.1471,118.5527,174.08,109.15\" style=\"stroke: #383838; stroke-width: 1.0;\"/><ellipse cx=\"161.2281\" cy=\"130.8276\" fill=\"#383838\" rx=\"2\" ry=\"2\" style=\"stroke: #383838; stroke-width: 1.0;\"/><ellipse cx=\"153.8091\" cy=\"124.1226\" fill=\"#383838\" rx=\"2\" ry=\"2\" style=\"stroke: #383838; stroke-width: 1.0;\"/></a><!--MD5=[dc164f5e8a733ab456ef1add180e9e34]\n",
       "reverse link E7 to E8--><a href=\"psysml:5ff6c459-66f7-4338-82bb-16aa2b22f6b4\" target=\"_top\" title=\"psysml:5ff6c459-66f7-4338-82bb-16aa2b22f6b4\" xlink:actuate=\"onRequest\" xlink:href=\"psysml:5ff6c459-66f7-4338-82bb-16aa2b22f6b4\" xlink:show=\"new\" xlink:title=\"psysml:5ff6c459-66f7-4338-82bb-16aa2b22f6b4\" xlink:type=\"simple\"><path d=\"M103.83,235.23 C136.36,235.24 185.96,229.43 229,224 C250.09,221.34 274.2,218.08 290.79,212.51 \" fill=\"none\" id=\"E7&lt;-E8\" style=\"stroke: #383838; stroke-width: 1.0;\"/><polygon fill=\"#FFFFFF\" points=\"90.58,234.83,96.4586,239.0064,102.5747,235.1863,96.6961,231.0099,90.58,234.83\" style=\"stroke: #383838; stroke-width: 1.0;\"/><text fill=\"#000000\" font-family=\"sans-serif\" font-size=\"13\" lengthAdjust=\"spacingAndGlyphs\" textLength=\"8\" x=\"275.0694\" y=\"231.9599\">1</text></a><!--MD5=[dc164f5e8a733ab456ef1add180e9e34]\n",
       "reverse link E7 to E8--><a href=\"psysml:4eb1c616-a5a7-47d5-8985-e84491dc2120\" target=\"_top\" title=\"psysml:4eb1c616-a5a7-47d5-8985-e84491dc2120\" xlink:actuate=\"onRequest\" xlink:href=\"psysml:4eb1c616-a5a7-47d5-8985-e84491dc2120\" xlink:show=\"new\" xlink:title=\"psysml:4eb1c616-a5a7-47d5-8985-e84491dc2120\" xlink:type=\"simple\"><path d=\"M105.15,207.63 C137.69,200.08 186.54,194.36 229,189 C250.09,186.34 274.2,183.08 290.79,184.28 \" fill=\"none\" id=\"E7&lt;-E8-1\" style=\"stroke: #383838; stroke-width: 1.0; stroke-dasharray: 7.0,7.0;\"/><ellipse cx=\"98.3111\" cy=\"209.4434\" fill=\"#FFFFFF\" rx=\"8\" ry=\"8\" style=\"stroke: #383838; stroke-width: 1.0;\"/><line style=\"stroke: #383838; stroke-width: 1.0;\" x1=\"106.0423\" x2=\"90.58\" y1=\"207.3869\" y2=\"211.5\"/><line style=\"stroke: #383838; stroke-width: 1.0;\" x1=\"100.3677\" x2=\"96.2546\" y1=\"217.1746\" y2=\"201.7123\"/><text fill=\"#000000\" font-family=\"sans-serif\" font-size=\"13\" lengthAdjust=\"spacingAndGlyphs\" textLength=\"8\" x=\"275.0694\" y=\"175.4907\">1</text></a><!--MD5=[0a839d0f80c2d72d4b9b307f046d0de8]\n",
       "link E6 to E8--><a href=\"psysml:af89f277-c22a-4acb-b9c9-7f04d6a8a86b\" target=\"_top\" title=\"psysml:af89f277-c22a-4acb-b9c9-7f04d6a8a86b\" xlink:actuate=\"onRequest\" xlink:href=\"psysml:af89f277-c22a-4acb-b9c9-7f04d6a8a86b\" xlink:show=\"new\" xlink:title=\"psysml:af89f277-c22a-4acb-b9c9-7f04d6a8a86b\" xlink:type=\"simple\"><path d=\"M217.12,182.11 C237.83,191.04 269.92,199.22 290.7,200.86 \" fill=\"none\" id=\"E6-E8\" style=\"stroke: #383838; stroke-width: 3.0;\"/><text fill=\"#000000\" font-family=\"sans-serif\" font-size=\"13\" lengthAdjust=\"spacingAndGlyphs\" textLength=\"7\" x=\"276.105\" y=\"216.7421\">*</text></a><!--MD5=[0a839d0f80c2d72d4b9b307f046d0de8]\n",
       "link E6 to E8--><a href=\"psysml:6818c790-7ee4-49fa-b866-28c88d0d2e1e\" target=\"_top\" title=\"psysml:6818c790-7ee4-49fa-b866-28c88d0d2e1e\" xlink:actuate=\"onRequest\" xlink:href=\"psysml:6818c790-7ee4-49fa-b866-28c88d0d2e1e\" xlink:show=\"new\" xlink:title=\"psysml:6818c790-7ee4-49fa-b866-28c88d0d2e1e\" xlink:type=\"simple\"><path d=\"M217.12,161.53 C237.83,162.93 269.92,171.08 290.7,180.22 \" fill=\"none\" id=\"E6-E8-1\" style=\"stroke: #383838; stroke-width: 3.0;\"/><text fill=\"#000000\" font-family=\"sans-serif\" font-size=\"13\" lengthAdjust=\"spacingAndGlyphs\" textLength=\"7\" x=\"276.105\" y=\"189.7811\">*</text></a><!--MD5=[b8c9887a816f801ee51b4eebbe8f105b]\n",
       "@startuml\r\n",
       "left to right direction\r\n",
       "skinparam monochrome true\r\n",
       "skinparam classbackgroundcolor white\r\n",
       "skinparam shadowing false\r\n",
       "skinparam wrapWidth 300\r\n",
       "hide circle\r\n",
       "\r\n",
       "package \"AliasTest\" as E1  [[psysml:7e4311dd-4dd4-41de-a431-b17c5d614850 ]]  {\r\n",
       "comp usage \"q\" as E2  <<(T,blue) attribute>> [[psysml:789c28e5-5e95-405e-84fa-948507b238dc ]] {\r\n",
       "}\r\n",
       "comp def \"P1\" as E3  <<(T,blue) part def>> [[psysml:00588ae4-2df7-4d57-b3d7-e09c73d2d5b1 ]] {\r\n",
       "}\r\n",
       "comp usage \"porig1\" as E4  <<(T,blue) port>> [[psysml:236a437d-3673-4742-905a-959f5dd42893 ]] {\r\n",
       "}\r\n",
       "comp usage \"p1: P1\" as E5  <<(T,blue) part>> [[psysml:4e54ee4d-012b-498f-93d7-1afb3759d34d ]] {\r\n",
       "}\r\n",
       "comp usage \"po1\" as E6  <<(T,blue) port>> [[psysml:8965b7df-293c-4ee2-9b2b-715c01154c80 ]] {\r\n",
       "}\r\n",
       "comp usage \"p2: P1\" as E7  <<(T,blue) part>> [[psysml:77eadb46-ce1a-4e0f-9527-bb06765d2ea7 ]] {\r\n",
       "}\r\n",
       "comp usage \"pdest\" as E8  <<(T,blue) port>> [[psysml:db28622a-fbe8-4c7d-8fe4-9e164802e944 ]] {\r\n",
       "}\r\n",
       "E3 o- - \"1\"E4 [[psysml:10297d07-57fa-4f9d-a873-bd76f542a35c ]] \r\n",
       "E3 +.. \"1\"E4 [[psysml:4c29fec0-8309-450b-9bf3-4a2b28b77917 ]] \r\n",
       "E5 - -:|> E3 [[psysml:93a52ea3-a140-4bd2-b924-ec5ad15b1b7e ]] \r\n",
       "E5 o- - \"1\"E6 [[psysml:cdcbbeec-90be-4e1d-8c60-d92c8a6a7077 ]] \r\n",
       "E6 - -||> E4 [[psysml:b5614b00-f88c-4f87-85f7-609ca7f17bae ]] \r\n",
       "E7 - -:|> E3 [[psysml:87c48ed5-bc50-48bb-899d-f807bfcdc26e ]] \r\n",
       "E7 o- - \"1\"E8 [[psysml:5ff6c459-66f7-4338-82bb-16aa2b22f6b4 ]] \r\n",
       "E7 +.. \"1\"E8 [[psysml:4eb1c616-a5a7-47d5-8985-e84491dc2120 ]] \r\n",
       "E6 -[thickness=3]- \"*\"E8 [[psysml:af89f277-c22a-4acb-b9c9-7f04d6a8a86b ]] \r\n",
       "E6 -[thickness=3]- \"*\"E8 [[psysml:6818c790-7ee4-49fa-b866-28c88d0d2e1e ]] \r\n",
       "}\r\n",
       "@enduml\r\n",
       "\n",
       "PlantUML version 1.2020.13(Sat Jun 13 12:26:38 UTC 2020)\n",
       "(EPL source distribution)\n",
       "Java Runtime: OpenJDK Runtime Environment\n",
       "JVM: OpenJDK 64-Bit Server VM\n",
       "Default Encoding: UTF-8\n",
       "Language: en\n",
       "Country: null\n",
       "--></g></svg>"
      ]
     },
     "execution_count": 16,
     "metadata": {},
     "output_type": "execute_result"
    }
   ],
   "source": [
    "%viz --style=\"LR\" --view=\"Default\" \"AliasTest\""
   ]
  },
  {
   "cell_type": "code",
   "execution_count": 17,
   "id": "5485a076",
   "metadata": {
    "execution": {
     "iopub.execute_input": "2021-08-04T06:25:31.135758Z",
     "iopub.status.busy": "2021-08-04T06:25:31.135332Z",
     "iopub.status.idle": "2021-08-04T06:25:31.169698Z",
     "shell.execute_reply": "2021-08-04T06:25:31.168291Z"
    }
   },
   "outputs": [
    {
     "data": {
      "image/svg+xml": [
       "<?xml version=\"1.0\" encoding=\"UTF-8\" standalone=\"no\"?><svg xmlns=\"http://www.w3.org/2000/svg\" xmlns:xlink=\"http://www.w3.org/1999/xlink\" contentScriptType=\"application/ecmascript\" contentStyleType=\"text/css\" height=\"277px\" preserveAspectRatio=\"none\" style=\"width:373px;height:277px;\" version=\"1.1\" viewBox=\"0 0 373 277\" width=\"373px\" zoomAndPan=\"magnify\"><defs/><g><!--MD5=[fbc87193dbaf4d95561dea2c320d4a47]\n",
       "cluster E1--><a href=\"psysml:7e4311dd-4dd4-41de-a431-b17c5d614850\" target=\"_top\" title=\"psysml:7e4311dd-4dd4-41de-a431-b17c5d614850\" xlink:actuate=\"onRequest\" xlink:href=\"psysml:7e4311dd-4dd4-41de-a431-b17c5d614850\" xlink:show=\"new\" xlink:title=\"psysml:7e4311dd-4dd4-41de-a431-b17c5d614850\" xlink:type=\"simple\"><polygon fill=\"#FFFFFF\" points=\"16,6,94,6,101,28.2969,351,28.2969,351,265,16,265,16,6\" style=\"stroke: #000000; stroke-width: 1.5;\"/><line style=\"stroke: #000000; stroke-width: 1.5;\" x1=\"16\" x2=\"101\" y1=\"28.2969\" y2=\"28.2969\"/><text fill=\"#000000\" font-family=\"sans-serif\" font-size=\"14\" font-weight=\"bold\" lengthAdjust=\"spacingAndGlyphs\" textLength=\"72\" x=\"20\" y=\"20.9951\">AliasTest</text></a><!--MD5=[b4997ac47864f28c2f74865a473b2911]\n",
       "class E2--><a href=\"psysml:789c28e5-5e95-405e-84fa-948507b238dc\" target=\"_top\" title=\"psysml:789c28e5-5e95-405e-84fa-948507b238dc\" xlink:actuate=\"onRequest\" xlink:href=\"psysml:789c28e5-5e95-405e-84fa-948507b238dc\" xlink:show=\"new\" xlink:title=\"psysml:789c28e5-5e95-405e-84fa-948507b238dc\" xlink:type=\"simple\"><rect fill=\"#FFFFFF\" height=\"45.9375\" id=\"E2\" rx=\"10\" ry=\"10\" style=\"stroke: #383838; stroke-width: 1.5;\" width=\"71\" x=\"32\" y=\"41\"/><text fill=\"#000000\" font-family=\"sans-serif\" font-size=\"12\" font-style=\"italic\" lengthAdjust=\"spacingAndGlyphs\" textLength=\"69\" x=\"33\" y=\"57.1387\">«attribute»</text><text fill=\"#000000\" font-family=\"sans-serif\" font-size=\"12\" lengthAdjust=\"spacingAndGlyphs\" textLength=\"8\" x=\"63.5\" y=\"71.1074\">q</text><line style=\"stroke: #383838; stroke-width: 1.5;\" x1=\"33\" x2=\"102\" y1=\"78.9375\" y2=\"78.9375\"/></a><!--MD5=[09b614a08d8cba4a07c9adeb5e0fee81]\n",
       "class E3--><a href=\"psysml:00588ae4-2df7-4d57-b3d7-e09c73d2d5b1\" target=\"_top\" title=\"psysml:00588ae4-2df7-4d57-b3d7-e09c73d2d5b1\" xlink:actuate=\"onRequest\" xlink:href=\"psysml:00588ae4-2df7-4d57-b3d7-e09c73d2d5b1\" xlink:show=\"new\" xlink:title=\"psysml:00588ae4-2df7-4d57-b3d7-e09c73d2d5b1\" xlink:type=\"simple\"><rect fill=\"#FFFFFF\" height=\"45.9375\" id=\"E3\" style=\"stroke: #383838; stroke-width: 1.5;\" width=\"66\" x=\"163\" y=\"63\"/><text fill=\"#000000\" font-family=\"sans-serif\" font-size=\"12\" font-style=\"italic\" lengthAdjust=\"spacingAndGlyphs\" textLength=\"64\" x=\"164\" y=\"79.1387\">«part def»</text><text fill=\"#000000\" font-family=\"sans-serif\" font-size=\"12\" lengthAdjust=\"spacingAndGlyphs\" textLength=\"16\" x=\"188\" y=\"93.1074\">P1</text><line style=\"stroke: #383838; stroke-width: 1.5;\" x1=\"164\" x2=\"228\" y1=\"100.9375\" y2=\"100.9375\"/></a><!--MD5=[ebbe1d658d1005bcc118a6aa81145e00]\n",
       "class E4--><a href=\"psysml:236a437d-3673-4742-905a-959f5dd42893\" target=\"_top\" title=\"psysml:236a437d-3673-4742-905a-959f5dd42893\" xlink:actuate=\"onRequest\" xlink:href=\"psysml:236a437d-3673-4742-905a-959f5dd42893\" xlink:show=\"new\" xlink:title=\"psysml:236a437d-3673-4742-905a-959f5dd42893\" xlink:type=\"simple\"><rect fill=\"#FFFFFF\" height=\"45.9375\" id=\"E4\" rx=\"10\" ry=\"10\" style=\"stroke: #383838; stroke-width: 1.5;\" width=\"46\" x=\"289\" y=\"63\"/><text fill=\"#000000\" font-family=\"sans-serif\" font-size=\"12\" font-style=\"italic\" lengthAdjust=\"spacingAndGlyphs\" textLength=\"40\" x=\"292\" y=\"79.1387\">«port»</text><text fill=\"#000000\" font-family=\"sans-serif\" font-size=\"12\" lengthAdjust=\"spacingAndGlyphs\" textLength=\"40\" x=\"292\" y=\"93.1074\">porig1</text><line style=\"stroke: #383838; stroke-width: 1.5;\" x1=\"290\" x2=\"334\" y1=\"100.9375\" y2=\"100.9375\"/></a><!--MD5=[270fce915f116d4de14055a7c1d9a0f3]\n",
       "class E5--><a href=\"psysml:4e54ee4d-012b-498f-93d7-1afb3759d34d\" target=\"_top\" title=\"psysml:4e54ee4d-012b-498f-93d7-1afb3759d34d\" xlink:actuate=\"onRequest\" xlink:href=\"psysml:4e54ee4d-012b-498f-93d7-1afb3759d34d\" xlink:show=\"new\" xlink:title=\"psysml:4e54ee4d-012b-498f-93d7-1afb3759d34d\" xlink:type=\"simple\"><rect fill=\"#FFFFFF\" height=\"45.9375\" id=\"E5\" rx=\"10\" ry=\"10\" style=\"stroke: #383838; stroke-width: 1.5;\" width=\"46\" x=\"44.5\" y=\"122\"/><text fill=\"#000000\" font-family=\"sans-serif\" font-size=\"12\" font-style=\"italic\" lengthAdjust=\"spacingAndGlyphs\" textLength=\"40\" x=\"47.5\" y=\"138.1387\">«part»</text><text fill=\"#000000\" font-family=\"sans-serif\" font-size=\"12\" lengthAdjust=\"spacingAndGlyphs\" textLength=\"40\" x=\"47.5\" y=\"152.1074\">p1: P1</text><line style=\"stroke: #383838; stroke-width: 1.5;\" x1=\"45.5\" x2=\"89.5\" y1=\"159.9375\" y2=\"159.9375\"/></a><!--MD5=[60a26617385b1d2d0262a64233df1f8d]\n",
       "class E6--><a href=\"psysml:8965b7df-293c-4ee2-9b2b-715c01154c80\" target=\"_top\" title=\"psysml:8965b7df-293c-4ee2-9b2b-715c01154c80\" xlink:actuate=\"onRequest\" xlink:href=\"psysml:8965b7df-293c-4ee2-9b2b-715c01154c80\" xlink:show=\"new\" xlink:title=\"psysml:8965b7df-293c-4ee2-9b2b-715c01154c80\" xlink:type=\"simple\"><rect fill=\"#FFFFFF\" height=\"45.9375\" id=\"E6\" rx=\"10\" ry=\"10\" style=\"stroke: #383838; stroke-width: 1.5;\" width=\"42\" x=\"175\" y=\"144\"/><text fill=\"#000000\" font-family=\"sans-serif\" font-size=\"12\" font-style=\"italic\" lengthAdjust=\"spacingAndGlyphs\" textLength=\"40\" x=\"176\" y=\"160.1387\">«port»</text><text fill=\"#000000\" font-family=\"sans-serif\" font-size=\"12\" lengthAdjust=\"spacingAndGlyphs\" textLength=\"24\" x=\"184\" y=\"174.1074\">po1</text><line style=\"stroke: #383838; stroke-width: 1.5;\" x1=\"176\" x2=\"216\" y1=\"181.9375\" y2=\"181.9375\"/></a><!--MD5=[2156ba9850f5573cc1fc38a6a4b2f02b]\n",
       "class E7--><a href=\"psysml:77eadb46-ce1a-4e0f-9527-bb06765d2ea7\" target=\"_top\" title=\"psysml:77eadb46-ce1a-4e0f-9527-bb06765d2ea7\" xlink:actuate=\"onRequest\" xlink:href=\"psysml:77eadb46-ce1a-4e0f-9527-bb06765d2ea7\" xlink:show=\"new\" xlink:title=\"psysml:77eadb46-ce1a-4e0f-9527-bb06765d2ea7\" xlink:type=\"simple\"><rect fill=\"#FFFFFF\" height=\"45.9375\" id=\"E7\" rx=\"10\" ry=\"10\" style=\"stroke: #383838; stroke-width: 1.5;\" width=\"46\" x=\"44.5\" y=\"203\"/><text fill=\"#000000\" font-family=\"sans-serif\" font-size=\"12\" font-style=\"italic\" lengthAdjust=\"spacingAndGlyphs\" textLength=\"40\" x=\"47.5\" y=\"219.1387\">«part»</text><text fill=\"#000000\" font-family=\"sans-serif\" font-size=\"12\" lengthAdjust=\"spacingAndGlyphs\" textLength=\"40\" x=\"47.5\" y=\"233.1074\">p2: P1</text><line style=\"stroke: #383838; stroke-width: 1.5;\" x1=\"45.5\" x2=\"89.5\" y1=\"240.9375\" y2=\"240.9375\"/></a><!--MD5=[b9389687b975829384b498ac4b7476b2]\n",
       "class E8--><a href=\"psysml:db28622a-fbe8-4c7d-8fe4-9e164802e944\" target=\"_top\" title=\"psysml:db28622a-fbe8-4c7d-8fe4-9e164802e944\" xlink:actuate=\"onRequest\" xlink:href=\"psysml:db28622a-fbe8-4c7d-8fe4-9e164802e944\" xlink:show=\"new\" xlink:title=\"psysml:db28622a-fbe8-4c7d-8fe4-9e164802e944\" xlink:type=\"simple\"><rect fill=\"#FFFFFF\" height=\"45.9375\" id=\"E8\" rx=\"10\" ry=\"10\" style=\"stroke: #383838; stroke-width: 1.5;\" width=\"42\" x=\"291\" y=\"173\"/><text fill=\"#000000\" font-family=\"sans-serif\" font-size=\"12\" font-style=\"italic\" lengthAdjust=\"spacingAndGlyphs\" textLength=\"40\" x=\"292\" y=\"189.1387\">«port»</text><text fill=\"#000000\" font-family=\"sans-serif\" font-size=\"12\" lengthAdjust=\"spacingAndGlyphs\" textLength=\"36\" x=\"294\" y=\"203.1074\">pdest</text><line style=\"stroke: #383838; stroke-width: 1.5;\" x1=\"292\" x2=\"332\" y1=\"210.9375\" y2=\"210.9375\"/></a><!--MD5=[4672eba38e49728da53d11aeb285b987]\n",
       "reverse link E3 to E4--><a href=\"psysml:10297d07-57fa-4f9d-a873-bd76f542a35c\" target=\"_top\" title=\"psysml:10297d07-57fa-4f9d-a873-bd76f542a35c\" xlink:actuate=\"onRequest\" xlink:href=\"psysml:10297d07-57fa-4f9d-a873-bd76f542a35c\" xlink:show=\"new\" xlink:title=\"psysml:10297d07-57fa-4f9d-a873-bd76f542a35c\" xlink:type=\"simple\"><path d=\"M242.14,98.5 C258.23,99.18 275.63,98.46 288.92,96.33 \" fill=\"none\" id=\"E3&lt;-E4\" style=\"stroke: #383838; stroke-width: 1.0;\"/><polygon fill=\"#FFFFFF\" points=\"229.06,97.6,234.7687,102.0057,241.0312,98.4306,235.3225,94.0249,229.06,97.6\" style=\"stroke: #383838; stroke-width: 1.0;\"/><text fill=\"#000000\" font-family=\"sans-serif\" font-size=\"13\" lengthAdjust=\"spacingAndGlyphs\" textLength=\"8\" x=\"272.9653\" y=\"113.6631\">1</text></a><!--MD5=[4672eba38e49728da53d11aeb285b987]\n",
       "reverse link E3 to E4--><a href=\"psysml:4c29fec0-8309-450b-9bf3-4a2b28b77917\" target=\"_top\" title=\"psysml:4c29fec0-8309-450b-9bf3-4a2b28b77917\" xlink:actuate=\"onRequest\" xlink:href=\"psysml:4c29fec0-8309-450b-9bf3-4a2b28b77917\" xlink:show=\"new\" xlink:title=\"psysml:4c29fec0-8309-450b-9bf3-4a2b28b77917\" xlink:type=\"simple\"><path d=\"M244.08,72.68 C259.61,72.1 276.16,72.9 288.92,75.07 \" fill=\"none\" id=\"E3&lt;-E4-1\" style=\"stroke: #383838; stroke-width: 1.0; stroke-dasharray: 7.0,7.0;\"/><ellipse cx=\"237.0406\" cy=\"73.1636\" fill=\"#FFFFFF\" rx=\"8\" ry=\"8\" style=\"stroke: #383838; stroke-width: 1.0;\"/><line style=\"stroke: #383838; stroke-width: 1.0;\" x1=\"245.0213\" x2=\"229.06\" y1=\"72.6071\" y2=\"73.72\"/><line style=\"stroke: #383838; stroke-width: 1.0;\" x1=\"237.5971\" x2=\"236.4842\" y1=\"81.1442\" y2=\"65.1829\"/><text fill=\"#000000\" font-family=\"sans-serif\" font-size=\"13\" lengthAdjust=\"spacingAndGlyphs\" textLength=\"8\" x=\"272.9653\" y=\"86.158\">1</text></a><!--MD5=[e9be52314489bd878ff4c7144b63c9e1]\n",
       "link E5 to E3--><a href=\"psysml:93a52ea3-a140-4bd2-b924-ec5ad15b1b7e\" target=\"_top\" title=\"psysml:93a52ea3-a140-4bd2-b924-ec5ad15b1b7e\" xlink:actuate=\"onRequest\" xlink:href=\"psysml:93a52ea3-a140-4bd2-b924-ec5ad15b1b7e\" xlink:show=\"new\" xlink:title=\"psysml:93a52ea3-a140-4bd2-b924-ec5ad15b1b7e\" xlink:type=\"simple\"><path d=\"M90.53,134.72 C105.43,127.78 125.72,118.31 144.46,109.57 \" fill=\"none\" id=\"E5-&gt;E3\" style=\"stroke: #383838; stroke-width: 1.0;\"/><polygon fill=\"#FFFFFF\" points=\"162.78,101.03,148.5252,115.4106,142.6026,102.725,162.78,101.03\" style=\"stroke: #383838; stroke-width: 1.0;\"/><ellipse cx=\"142.5143\" cy=\"116.0097\" fill=\"#383838\" rx=\"2\" ry=\"2\" style=\"stroke: #383838; stroke-width: 1.0;\"/><ellipse cx=\"138.2839\" cy=\"106.9486\" fill=\"#383838\" rx=\"2\" ry=\"2\" style=\"stroke: #383838; stroke-width: 1.0;\"/></a><!--MD5=[85d356282659285ab4b2cfe2f634dd2b]\n",
       "reverse link E5 to E6--><a href=\"psysml:cdcbbeec-90be-4e1d-8c60-d92c8a6a7077\" target=\"_top\" title=\"psysml:cdcbbeec-90be-4e1d-8c60-d92c8a6a7077\" xlink:actuate=\"onRequest\" xlink:href=\"psysml:cdcbbeec-90be-4e1d-8c60-d92c8a6a7077\" xlink:show=\"new\" xlink:title=\"psysml:cdcbbeec-90be-4e1d-8c60-d92c8a6a7077\" xlink:type=\"simple\"><path d=\"M103.55,151.1 C126.53,155.09 155.74,160.17 174.89,163.5 \" fill=\"none\" id=\"E5&lt;-E6\" style=\"stroke: #383838; stroke-width: 1.0;\"/><polygon fill=\"#FFFFFF\" points=\"90.53,148.83,95.755,153.7999,102.3522,150.8883,97.1272,145.9184,90.53,148.83\" style=\"stroke: #383838; stroke-width: 1.0;\"/><text fill=\"#000000\" font-family=\"sans-serif\" font-size=\"13\" lengthAdjust=\"spacingAndGlyphs\" textLength=\"8\" x=\"158.8862\" y=\"176.873\">1</text></a><!--MD5=[f667431f98296947986a1a7595a31603]\n",
       "link E6 to E4--><a href=\"psysml:b5614b00-f88c-4f87-85f7-609ca7f17bae\" target=\"_top\" title=\"psysml:b5614b00-f88c-4f87-85f7-609ca7f17bae\" xlink:actuate=\"onRequest\" xlink:href=\"psysml:b5614b00-f88c-4f87-85f7-609ca7f17bae\" xlink:show=\"new\" xlink:title=\"psysml:b5614b00-f88c-4f87-85f7-609ca7f17bae\" xlink:type=\"simple\"><path d=\"M217.12,152.71 C232.33,141.9 253.68,126.73 272.18,113.59 \" fill=\"none\" id=\"E6-&gt;E4\" style=\"stroke: #383838; stroke-width: 1.0;\"/><polygon fill=\"#FFFFFF\" points=\"288.74,101.81,277.2991,118.5165,269.1949,107.1006,288.74,101.81\" style=\"stroke: #383838; stroke-width: 1.0;\"/><line style=\"stroke: #383838; stroke-width: 2.0;\" x1=\"274.2005\" x2=\"266.0963\" y1=\"120.7162\" y2=\"109.3003\"/></a><!--MD5=[14ccda38c055a5c0da953d572bc50960]\n",
       "link E7 to E3--><a href=\"psysml:87c48ed5-bc50-48bb-899d-f807bfcdc26e\" target=\"_top\" title=\"psysml:87c48ed5-bc50-48bb-899d-f807bfcdc26e\" xlink:actuate=\"onRequest\" xlink:href=\"psysml:87c48ed5-bc50-48bb-899d-f807bfcdc26e\" xlink:show=\"new\" xlink:title=\"psysml:87c48ed5-bc50-48bb-899d-f807bfcdc26e\" xlink:type=\"simple\"><path d=\"M89.39,202.88 C108.71,181.5 137.78,149.32 160.54,124.14 \" fill=\"none\" id=\"E7-&gt;E3\" style=\"stroke: #383838; stroke-width: 1.0;\"/><polygon fill=\"#FFFFFF\" points=\"174.08,109.15,166.5338,127.9398,156.1471,118.5527,174.08,109.15\" style=\"stroke: #383838; stroke-width: 1.0;\"/><ellipse cx=\"161.2281\" cy=\"130.8276\" fill=\"#383838\" rx=\"2\" ry=\"2\" style=\"stroke: #383838; stroke-width: 1.0;\"/><ellipse cx=\"153.8091\" cy=\"124.1226\" fill=\"#383838\" rx=\"2\" ry=\"2\" style=\"stroke: #383838; stroke-width: 1.0;\"/></a><!--MD5=[dc164f5e8a733ab456ef1add180e9e34]\n",
       "reverse link E7 to E8--><a href=\"psysml:5ff6c459-66f7-4338-82bb-16aa2b22f6b4\" target=\"_top\" title=\"psysml:5ff6c459-66f7-4338-82bb-16aa2b22f6b4\" xlink:actuate=\"onRequest\" xlink:href=\"psysml:5ff6c459-66f7-4338-82bb-16aa2b22f6b4\" xlink:show=\"new\" xlink:title=\"psysml:5ff6c459-66f7-4338-82bb-16aa2b22f6b4\" xlink:type=\"simple\"><path d=\"M103.83,235.23 C136.36,235.24 185.96,229.43 229,224 C250.09,221.34 274.2,218.08 290.79,212.51 \" fill=\"none\" id=\"E7&lt;-E8\" style=\"stroke: #383838; stroke-width: 1.0;\"/><polygon fill=\"#FFFFFF\" points=\"90.58,234.83,96.4586,239.0064,102.5747,235.1863,96.6961,231.0099,90.58,234.83\" style=\"stroke: #383838; stroke-width: 1.0;\"/><text fill=\"#000000\" font-family=\"sans-serif\" font-size=\"13\" lengthAdjust=\"spacingAndGlyphs\" textLength=\"8\" x=\"275.0694\" y=\"231.9599\">1</text></a><!--MD5=[dc164f5e8a733ab456ef1add180e9e34]\n",
       "reverse link E7 to E8--><a href=\"psysml:4eb1c616-a5a7-47d5-8985-e84491dc2120\" target=\"_top\" title=\"psysml:4eb1c616-a5a7-47d5-8985-e84491dc2120\" xlink:actuate=\"onRequest\" xlink:href=\"psysml:4eb1c616-a5a7-47d5-8985-e84491dc2120\" xlink:show=\"new\" xlink:title=\"psysml:4eb1c616-a5a7-47d5-8985-e84491dc2120\" xlink:type=\"simple\"><path d=\"M105.15,207.63 C137.69,200.08 186.54,194.36 229,189 C250.09,186.34 274.2,183.08 290.79,184.28 \" fill=\"none\" id=\"E7&lt;-E8-1\" style=\"stroke: #383838; stroke-width: 1.0; stroke-dasharray: 7.0,7.0;\"/><ellipse cx=\"98.3111\" cy=\"209.4434\" fill=\"#FFFFFF\" rx=\"8\" ry=\"8\" style=\"stroke: #383838; stroke-width: 1.0;\"/><line style=\"stroke: #383838; stroke-width: 1.0;\" x1=\"106.0423\" x2=\"90.58\" y1=\"207.3869\" y2=\"211.5\"/><line style=\"stroke: #383838; stroke-width: 1.0;\" x1=\"100.3677\" x2=\"96.2546\" y1=\"217.1746\" y2=\"201.7123\"/><text fill=\"#000000\" font-family=\"sans-serif\" font-size=\"13\" lengthAdjust=\"spacingAndGlyphs\" textLength=\"8\" x=\"275.0694\" y=\"175.4907\">1</text></a><!--MD5=[0a839d0f80c2d72d4b9b307f046d0de8]\n",
       "link E6 to E8--><a href=\"psysml:af89f277-c22a-4acb-b9c9-7f04d6a8a86b\" target=\"_top\" title=\"psysml:af89f277-c22a-4acb-b9c9-7f04d6a8a86b\" xlink:actuate=\"onRequest\" xlink:href=\"psysml:af89f277-c22a-4acb-b9c9-7f04d6a8a86b\" xlink:show=\"new\" xlink:title=\"psysml:af89f277-c22a-4acb-b9c9-7f04d6a8a86b\" xlink:type=\"simple\"><path d=\"M217.12,182.11 C237.83,191.04 269.92,199.22 290.7,200.86 \" fill=\"none\" id=\"E6-E8\" style=\"stroke: #383838; stroke-width: 3.0;\"/><text fill=\"#000000\" font-family=\"sans-serif\" font-size=\"13\" lengthAdjust=\"spacingAndGlyphs\" textLength=\"7\" x=\"276.105\" y=\"216.7421\">*</text></a><!--MD5=[0a839d0f80c2d72d4b9b307f046d0de8]\n",
       "link E6 to E8--><a href=\"psysml:6818c790-7ee4-49fa-b866-28c88d0d2e1e\" target=\"_top\" title=\"psysml:6818c790-7ee4-49fa-b866-28c88d0d2e1e\" xlink:actuate=\"onRequest\" xlink:href=\"psysml:6818c790-7ee4-49fa-b866-28c88d0d2e1e\" xlink:show=\"new\" xlink:title=\"psysml:6818c790-7ee4-49fa-b866-28c88d0d2e1e\" xlink:type=\"simple\"><path d=\"M217.12,161.53 C237.83,162.93 269.92,171.08 290.7,180.22 \" fill=\"none\" id=\"E6-E8-1\" style=\"stroke: #383838; stroke-width: 3.0;\"/><text fill=\"#000000\" font-family=\"sans-serif\" font-size=\"13\" lengthAdjust=\"spacingAndGlyphs\" textLength=\"7\" x=\"276.105\" y=\"189.7811\">*</text></a><!--MD5=[b8c9887a816f801ee51b4eebbe8f105b]\n",
       "@startuml\r\n",
       "left to right direction\r\n",
       "skinparam monochrome true\r\n",
       "skinparam classbackgroundcolor white\r\n",
       "skinparam shadowing false\r\n",
       "skinparam wrapWidth 300\r\n",
       "hide circle\r\n",
       "\r\n",
       "package \"AliasTest\" as E1  [[psysml:7e4311dd-4dd4-41de-a431-b17c5d614850 ]]  {\r\n",
       "comp usage \"q\" as E2  <<(T,blue) attribute>> [[psysml:789c28e5-5e95-405e-84fa-948507b238dc ]] {\r\n",
       "}\r\n",
       "comp def \"P1\" as E3  <<(T,blue) part def>> [[psysml:00588ae4-2df7-4d57-b3d7-e09c73d2d5b1 ]] {\r\n",
       "}\r\n",
       "comp usage \"porig1\" as E4  <<(T,blue) port>> [[psysml:236a437d-3673-4742-905a-959f5dd42893 ]] {\r\n",
       "}\r\n",
       "comp usage \"p1: P1\" as E5  <<(T,blue) part>> [[psysml:4e54ee4d-012b-498f-93d7-1afb3759d34d ]] {\r\n",
       "}\r\n",
       "comp usage \"po1\" as E6  <<(T,blue) port>> [[psysml:8965b7df-293c-4ee2-9b2b-715c01154c80 ]] {\r\n",
       "}\r\n",
       "comp usage \"p2: P1\" as E7  <<(T,blue) part>> [[psysml:77eadb46-ce1a-4e0f-9527-bb06765d2ea7 ]] {\r\n",
       "}\r\n",
       "comp usage \"pdest\" as E8  <<(T,blue) port>> [[psysml:db28622a-fbe8-4c7d-8fe4-9e164802e944 ]] {\r\n",
       "}\r\n",
       "E3 o- - \"1\"E4 [[psysml:10297d07-57fa-4f9d-a873-bd76f542a35c ]] \r\n",
       "E3 +.. \"1\"E4 [[psysml:4c29fec0-8309-450b-9bf3-4a2b28b77917 ]] \r\n",
       "E5 - -:|> E3 [[psysml:93a52ea3-a140-4bd2-b924-ec5ad15b1b7e ]] \r\n",
       "E5 o- - \"1\"E6 [[psysml:cdcbbeec-90be-4e1d-8c60-d92c8a6a7077 ]] \r\n",
       "E6 - -||> E4 [[psysml:b5614b00-f88c-4f87-85f7-609ca7f17bae ]] \r\n",
       "E7 - -:|> E3 [[psysml:87c48ed5-bc50-48bb-899d-f807bfcdc26e ]] \r\n",
       "E7 o- - \"1\"E8 [[psysml:5ff6c459-66f7-4338-82bb-16aa2b22f6b4 ]] \r\n",
       "E7 +.. \"1\"E8 [[psysml:4eb1c616-a5a7-47d5-8985-e84491dc2120 ]] \r\n",
       "E6 -[thickness=3]- \"*\"E8 [[psysml:af89f277-c22a-4acb-b9c9-7f04d6a8a86b ]] \r\n",
       "E6 -[thickness=3]- \"*\"E8 [[psysml:6818c790-7ee4-49fa-b866-28c88d0d2e1e ]] \r\n",
       "}\r\n",
       "@enduml\r\n",
       "\n",
       "PlantUML version 1.2020.13(Sat Jun 13 12:26:38 UTC 2020)\n",
       "(EPL source distribution)\n",
       "Java Runtime: OpenJDK Runtime Environment\n",
       "JVM: OpenJDK 64-Bit Server VM\n",
       "Default Encoding: UTF-8\n",
       "Language: en\n",
       "Country: null\n",
       "--></g></svg>"
      ]
     },
     "execution_count": 17,
     "metadata": {},
     "output_type": "execute_result"
    }
   ],
   "source": [
    "%viz --style=\"LR\" --view=\"Tree\" \"AliasTest\""
   ]
  },
  {
   "cell_type": "code",
   "execution_count": 18,
   "id": "ef982c35",
   "metadata": {
    "execution": {
     "iopub.execute_input": "2021-08-04T06:25:31.219596Z",
     "iopub.status.busy": "2021-08-04T06:25:31.219164Z",
     "iopub.status.idle": "2021-08-04T06:25:31.222341Z",
     "shell.execute_reply": "2021-08-04T06:25:31.222662Z"
    }
   },
   "outputs": [
    {
     "data": {
      "image/svg+xml": [
       "<?xml version=\"1.0\" encoding=\"UTF-8\" standalone=\"no\"?><svg xmlns=\"http://www.w3.org/2000/svg\" xmlns:xlink=\"http://www.w3.org/1999/xlink\" contentScriptType=\"application/ecmascript\" contentStyleType=\"text/css\" height=\"12px\" preserveAspectRatio=\"none\" style=\"width:12px;height:12px;\" version=\"1.1\" viewBox=\"0 0 12 12\" width=\"12px\" zoomAndPan=\"magnify\"><defs/><g><!--MD5=[19d285c9d72a204eba4e2cd117d745e8]\n",
       "@startuml\r\n",
       "left to right direction\r\n",
       "skinparam monochrome true\r\n",
       "skinparam classbackgroundcolor white\r\n",
       "skinparam shadowing false\r\n",
       "skinparam wrapWidth 300\r\n",
       "hide circle\r\n",
       "\r\n",
       "@enduml\r\n",
       "\n",
       "PlantUML version 1.2020.13(Sat Jun 13 12:26:38 UTC 2020)\n",
       "(EPL source distribution)\n",
       "Java Runtime: OpenJDK Runtime Environment\n",
       "JVM: OpenJDK 64-Bit Server VM\n",
       "Default Encoding: UTF-8\n",
       "Language: en\n",
       "Country: null\n",
       "--></g></svg>"
      ]
     },
     "execution_count": 18,
     "metadata": {},
     "output_type": "execute_result"
    }
   ],
   "source": [
    "%viz --style=\"LR\" --view=\"State\" \"AliasTest\""
   ]
  },
  {
   "cell_type": "code",
   "execution_count": 19,
   "id": "c8665e73",
   "metadata": {
    "execution": {
     "iopub.execute_input": "2021-08-04T06:25:31.272706Z",
     "iopub.status.busy": "2021-08-04T06:25:31.272277Z",
     "iopub.status.idle": "2021-08-04T06:25:31.299700Z",
     "shell.execute_reply": "2021-08-04T06:25:31.299333Z"
    }
   },
   "outputs": [
    {
     "data": {
      "image/svg+xml": [
       "<?xml version=\"1.0\" encoding=\"UTF-8\" standalone=\"no\"?><svg xmlns=\"http://www.w3.org/2000/svg\" xmlns:xlink=\"http://www.w3.org/1999/xlink\" contentScriptType=\"application/ecmascript\" contentStyleType=\"text/css\" height=\"344px\" preserveAspectRatio=\"none\" style=\"width:359px;height:344px;\" version=\"1.1\" viewBox=\"0 0 359 344\" width=\"359px\" zoomAndPan=\"magnify\"><defs/><g><!--MD5=[fbc87193dbaf4d95561dea2c320d4a47]\n",
       "cluster E1--><a href=\"psysml:7e4311dd-4dd4-41de-a431-b17c5d614850\" target=\"_top\" title=\"psysml:7e4311dd-4dd4-41de-a431-b17c5d614850\" xlink:actuate=\"onRequest\" xlink:href=\"psysml:7e4311dd-4dd4-41de-a431-b17c5d614850\" xlink:show=\"new\" xlink:title=\"psysml:7e4311dd-4dd4-41de-a431-b17c5d614850\" xlink:type=\"simple\"><polygon fill=\"#FFFFFF\" points=\"16,6,94,6,101,28.2969,337,28.2969,337,332,16,332,16,6\" style=\"stroke: #000000; stroke-width: 1.5;\"/><line style=\"stroke: #000000; stroke-width: 1.5;\" x1=\"16\" x2=\"101\" y1=\"28.2969\" y2=\"28.2969\"/><text fill=\"#000000\" font-family=\"sans-serif\" font-size=\"14\" font-weight=\"bold\" lengthAdjust=\"spacingAndGlyphs\" textLength=\"72\" x=\"20\" y=\"20.9951\">AliasTest</text></a><!--MD5=[d5e69f78d87373223dbae638b30a9c99]\n",
       "cluster E3--><a href=\"psysml:00588ae4-2df7-4d57-b3d7-e09c73d2d5b1\" target=\"_top\" title=\"psysml:00588ae4-2df7-4d57-b3d7-e09c73d2d5b1\" xlink:actuate=\"onRequest\" xlink:href=\"psysml:00588ae4-2df7-4d57-b3d7-e09c73d2d5b1\" xlink:show=\"new\" xlink:title=\"psysml:00588ae4-2df7-4d57-b3d7-e09c73d2d5b1\" xlink:type=\"simple\"><rect fill=\"#FFFFFF\" height=\"47\" id=\"E3\" style=\"stroke: #383838; stroke-width: 1.5;\" width=\"172.5\" x=\"49.5\" y=\"55\"/><rect fill=\"#F8F8F8\" height=\"37.9375\" style=\"stroke: #383838; stroke-width: 1.5;\" width=\"172.5\" x=\"49.5\" y=\"55\"/><text fill=\"#000000\" font-family=\"sans-serif\" font-size=\"12\" font-style=\"italic\" lengthAdjust=\"spacingAndGlyphs\" textLength=\"64\" x=\"103.75\" y=\"71.1387\">«part def»</text><text fill=\"#000000\" font-family=\"sans-serif\" font-size=\"12\" lengthAdjust=\"spacingAndGlyphs\" textLength=\"16\" x=\"127.75\" y=\"85.1074\">P1</text></a><!--MD5=[14e3b0961a2654348d326746436168a1]\n",
       "cluster E6--><a href=\"psysml:4e54ee4d-012b-498f-93d7-1afb3759d34d\" target=\"_top\" title=\"psysml:4e54ee4d-012b-498f-93d7-1afb3759d34d\" xlink:actuate=\"onRequest\" xlink:href=\"psysml:4e54ee4d-012b-498f-93d7-1afb3759d34d\" xlink:show=\"new\" xlink:title=\"psysml:4e54ee4d-012b-498f-93d7-1afb3759d34d\" xlink:type=\"simple\"><rect fill=\"#FFFFFF\" height=\"38\" id=\"E6\" rx=\"10\" ry=\"10\" style=\"stroke: #383838; stroke-width: 1.5;\" width=\"162.5\" x=\"49.5\" y=\"224\"/><rect fill=\"#F8F8F8\" height=\"23.9688\" rx=\"10\" ry=\"10\" style=\"stroke: #F8F8F8; stroke-width: 1.5;\" width=\"162.5\" x=\"49.5\" y=\"224\"/><rect fill=\"#F8F8F8\" height=\"10\" style=\"stroke: #F8F8F8; stroke-width: 1.5;\" width=\"162.5\" x=\"49.5\" y=\"237.9688\"/><rect fill=\"none\" height=\"38\" id=\"E6\" rx=\"10\" ry=\"10\" style=\"stroke: #383838; stroke-width: 1.5;\" width=\"162.5\" x=\"49.5\" y=\"224\"/><text fill=\"#000000\" font-family=\"sans-serif\" font-size=\"12\" lengthAdjust=\"spacingAndGlyphs\" textLength=\"40\" x=\"110.75\" y=\"240.1387\">p1: P1</text><line style=\"stroke: #383838; stroke-width: 1.0;\" x1=\"49.5\" x2=\"212\" y1=\"247.9688\" y2=\"247.9688\"/></a><!--MD5=[55dfccfc6c49c2d10cd1bd2211a6c90c]\n",
       "cluster E8--><a href=\"psysml:77eadb46-ce1a-4e0f-9527-bb06765d2ea7\" target=\"_top\" title=\"psysml:77eadb46-ce1a-4e0f-9527-bb06765d2ea7\" xlink:actuate=\"onRequest\" xlink:href=\"psysml:77eadb46-ce1a-4e0f-9527-bb06765d2ea7\" xlink:show=\"new\" xlink:title=\"psysml:77eadb46-ce1a-4e0f-9527-bb06765d2ea7\" xlink:type=\"simple\"><rect fill=\"#FFFFFF\" height=\"47\" id=\"E8\" rx=\"10\" ry=\"10\" style=\"stroke: #383838; stroke-width: 1.5;\" width=\"176.5\" x=\"144.5\" y=\"138\"/><rect fill=\"#F8F8F8\" height=\"23.9688\" rx=\"10\" ry=\"10\" style=\"stroke: #F8F8F8; stroke-width: 1.5;\" width=\"176.5\" x=\"144.5\" y=\"138\"/><rect fill=\"#F8F8F8\" height=\"10\" style=\"stroke: #F8F8F8; stroke-width: 1.5;\" width=\"176.5\" x=\"144.5\" y=\"151.9688\"/><rect fill=\"none\" height=\"47\" id=\"E8\" rx=\"10\" ry=\"10\" style=\"stroke: #383838; stroke-width: 1.5;\" width=\"176.5\" x=\"144.5\" y=\"138\"/><text fill=\"#000000\" font-family=\"sans-serif\" font-size=\"12\" lengthAdjust=\"spacingAndGlyphs\" textLength=\"40\" x=\"212.75\" y=\"154.1387\">p2: P1</text><line style=\"stroke: #383838; stroke-width: 1.0;\" x1=\"144.5\" x2=\"321\" y1=\"161.9688\" y2=\"161.9688\"/></a><!--MD5=[b4997ac47864f28c2f74865a473b2911]\n",
       "class E2--><a href=\"psysml:789c28e5-5e95-405e-84fa-948507b238dc\" target=\"_top\" title=\"psysml:789c28e5-5e95-405e-84fa-948507b238dc\" xlink:actuate=\"onRequest\" xlink:href=\"psysml:789c28e5-5e95-405e-84fa-948507b238dc\" xlink:show=\"new\" xlink:title=\"psysml:789c28e5-5e95-405e-84fa-948507b238dc\" xlink:type=\"simple\"><rect fill=\"#FFFFFF\" height=\"45.9375\" id=\"E2\" rx=\"10\" ry=\"10\" style=\"stroke: #383838; stroke-width: 1.5;\" width=\"71\" x=\"32\" y=\"270\"/><text fill=\"#000000\" font-family=\"sans-serif\" font-size=\"12\" font-style=\"italic\" lengthAdjust=\"spacingAndGlyphs\" textLength=\"69\" x=\"33\" y=\"286.1387\">«attribute»</text><text fill=\"#000000\" font-family=\"sans-serif\" font-size=\"12\" lengthAdjust=\"spacingAndGlyphs\" textLength=\"8\" x=\"63.5\" y=\"300.1074\">q</text><line style=\"stroke: #383838; stroke-width: 1.5;\" x1=\"33\" x2=\"102\" y1=\"307.9375\" y2=\"307.9375\"/></a><text fill=\"#000000\" font-family=\"sans-serif\" font-size=\"14\" lengthAdjust=\"spacingAndGlyphs\" textLength=\"44\" x=\"45.5\" y=\"120.9951\">porig1</text><rect fill=\"#383838\" height=\"12\" style=\"stroke: #F8F8F8; stroke-width: 1.5;\" width=\"12\" x=\"61.5\" y=\"96\"/><text fill=\"#000000\" font-family=\"sans-serif\" font-size=\"14\" lengthAdjust=\"spacingAndGlyphs\" textLength=\"44\" x=\"45.5\" y=\"33.6982\">porig1</text><rect fill=\"#383838\" height=\"12\" style=\"stroke: #F8F8F8; stroke-width: 1.5;\" width=\"12\" x=\"61.5\" y=\"49\"/><text fill=\"#000000\" font-family=\"sans-serif\" font-size=\"14\" lengthAdjust=\"spacingAndGlyphs\" textLength=\"27\" x=\"54\" y=\"202.6982\">po1</text><rect fill=\"#383838\" height=\"12\" style=\"stroke: #F8F8F8; stroke-width: 1.5;\" width=\"12\" x=\"61.5\" y=\"218\"/><text fill=\"#000000\" font-family=\"sans-serif\" font-size=\"14\" lengthAdjust=\"spacingAndGlyphs\" textLength=\"40\" x=\"142.5\" y=\"203.9951\">pdest</text><rect fill=\"#383838\" height=\"12\" style=\"stroke: #F8F8F8; stroke-width: 1.5;\" width=\"12\" x=\"156.5\" y=\"179\"/><text fill=\"#000000\" font-family=\"sans-serif\" font-size=\"14\" lengthAdjust=\"spacingAndGlyphs\" textLength=\"40\" x=\"142.5\" y=\"116.6982\">pdest</text><rect fill=\"#383838\" height=\"12\" style=\"stroke: #F8F8F8; stroke-width: 1.5;\" width=\"12\" x=\"156.5\" y=\"132\"/><!--MD5=[1c0b9414cc86e0744215edee6abd8926]\n",
       "link E7 to E9--><a href=\"psysml:af89f277-c22a-4acb-b9c9-7f04d6a8a86b\" target=\"_top\" title=\"psysml:af89f277-c22a-4acb-b9c9-7f04d6a8a86b\" xlink:actuate=\"onRequest\" xlink:href=\"psysml:af89f277-c22a-4acb-b9c9-7f04d6a8a86b\" xlink:show=\"new\" xlink:title=\"psysml:af89f277-c22a-4acb-b9c9-7f04d6a8a86b\" xlink:type=\"simple\"><path d=\"M73.5,228.07 C90.4,230.17 145.1,206.8 158.51,191.14 \" fill=\"none\" id=\"E7-E9\" style=\"stroke: #383838; stroke-width: 3.0;\"/><text fill=\"#000000\" font-family=\"sans-serif\" font-size=\"13\" lengthAdjust=\"spacingAndGlyphs\" textLength=\"7\" x=\"147.2969\" y=\"210.9167\">*</text></a><!--MD5=[1c0b9414cc86e0744215edee6abd8926]\n",
       "link E7 to E9--><a href=\"psysml:6818c790-7ee4-49fa-b866-28c88d0d2e1e\" target=\"_top\" title=\"psysml:6818c790-7ee4-49fa-b866-28c88d0d2e1e\" xlink:actuate=\"onRequest\" xlink:href=\"psysml:6818c790-7ee4-49fa-b866-28c88d0d2e1e\" xlink:show=\"new\" xlink:title=\"psysml:6818c790-7ee4-49fa-b866-28c88d0d2e1e\" xlink:type=\"simple\"><path d=\"M71.18,217.95 C83.99,201.75 138.99,178.11 156.28,180.54 \" fill=\"none\" id=\"E7-E9-1\" style=\"stroke: #383838; stroke-width: 3.0;\"/><text fill=\"#000000\" font-family=\"sans-serif\" font-size=\"13\" lengthAdjust=\"spacingAndGlyphs\" textLength=\"7\" x=\"141.261\" y=\"167.7947\">*</text></a><!--MD5=[b868be4cdf3e3752994f0a25a936c558]\n",
       "@startuml\r\n",
       "skinparam ranksep 10\r\n",
       "skinparam rectangle {\r\n",
       " backgroundColor<<block>> LightGreen\r\n",
       "}\r\n",
       "left to right direction\r\n",
       "skinparam monochrome true\r\n",
       "skinparam classbackgroundcolor white\r\n",
       "skinparam shadowing false\r\n",
       "skinparam wrapWidth 300\r\n",
       "hide circle\r\n",
       "\r\n",
       "package \"AliasTest\" as E1  [[psysml:7e4311dd-4dd4-41de-a431-b17c5d614850 ]]  {\r\n",
       "comp usage \"q\" as E2  <<(T,blue) attribute>> [[psysml:789c28e5-5e95-405e-84fa-948507b238dc ]] {\r\n",
       "}\r\n",
       "rec def \"P1\" as E3  <<(T,blue) part def>> [[psysml:00588ae4-2df7-4d57-b3d7-e09c73d2d5b1 ]] {\r\n",
       "portin \"porig1\" as E4  <<(T,blue) port>> [[psysml:236a437d-3673-4742-905a-959f5dd42893 ]] \r\n",
       "portin \"porig1\" as E5  <<(T,blue) port>> [[psysml:236a437d-3673-4742-905a-959f5dd42893 ]] \r\n",
       "}\r\n",
       "rec usage \"p1: P1\" as E6  [[psysml:4e54ee4d-012b-498f-93d7-1afb3759d34d ]] {\r\n",
       "portin \"po1\" as E7  <<(T,blue) port>> [[psysml:8965b7df-293c-4ee2-9b2b-715c01154c80 ]] \r\n",
       "}\r\n",
       "rec usage \"p2: P1\" as E8  [[psysml:77eadb46-ce1a-4e0f-9527-bb06765d2ea7 ]] {\r\n",
       "portin \"pdest\" as E9  <<(T,blue) port>> [[psysml:db28622a-fbe8-4c7d-8fe4-9e164802e944 ]] \r\n",
       "portin \"pdest\" as E10  <<(T,blue) port>> [[psysml:db28622a-fbe8-4c7d-8fe4-9e164802e944 ]] \r\n",
       "}\r\n",
       "E7 -[thickness=3]- \"*\"E9 [[psysml:af89f277-c22a-4acb-b9c9-7f04d6a8a86b ]] \r\n",
       "E7 -[thickness=3]- \"*\"E9 [[psysml:6818c790-7ee4-49fa-b866-28c88d0d2e1e ]] \r\n",
       "}\r\n",
       "@enduml\r\n",
       "\n",
       "PlantUML version 1.2020.13(Sat Jun 13 12:26:38 UTC 2020)\n",
       "(EPL source distribution)\n",
       "Java Runtime: OpenJDK Runtime Environment\n",
       "JVM: OpenJDK 64-Bit Server VM\n",
       "Default Encoding: UTF-8\n",
       "Language: en\n",
       "Country: null\n",
       "--></g></svg>"
      ]
     },
     "execution_count": 19,
     "metadata": {},
     "output_type": "execute_result"
    }
   ],
   "source": [
    "%viz --style=\"LR\" --view=\"Interconnection\" \"AliasTest\""
   ]
  },
  {
   "cell_type": "code",
   "execution_count": 20,
   "id": "a508a9c9",
   "metadata": {
    "execution": {
     "iopub.execute_input": "2021-08-04T06:25:31.348947Z",
     "iopub.status.busy": "2021-08-04T06:25:31.348471Z",
     "iopub.status.idle": "2021-08-04T06:25:31.352866Z",
     "shell.execute_reply": "2021-08-04T06:25:31.352364Z"
    }
   },
   "outputs": [
    {
     "data": {
      "image/svg+xml": [
       "<?xml version=\"1.0\" encoding=\"UTF-8\" standalone=\"no\"?><svg xmlns=\"http://www.w3.org/2000/svg\" xmlns:xlink=\"http://www.w3.org/1999/xlink\" contentScriptType=\"application/ecmascript\" contentStyleType=\"text/css\" height=\"12px\" preserveAspectRatio=\"none\" style=\"width:12px;height:12px;\" version=\"1.1\" viewBox=\"0 0 12 12\" width=\"12px\" zoomAndPan=\"magnify\"><defs/><g><!--MD5=[7aeb398939421629f6affaa4a1a7b125]\n",
       "@startuml\r\n",
       "skinparam ranksep 8\r\n",
       "left to right direction\r\n",
       "skinparam monochrome true\r\n",
       "skinparam classbackgroundcolor white\r\n",
       "skinparam shadowing false\r\n",
       "skinparam wrapWidth 300\r\n",
       "hide circle\r\n",
       "\r\n",
       "@enduml\r\n",
       "\n",
       "PlantUML version 1.2020.13(Sat Jun 13 12:26:38 UTC 2020)\n",
       "(EPL source distribution)\n",
       "Java Runtime: OpenJDK Runtime Environment\n",
       "JVM: OpenJDK 64-Bit Server VM\n",
       "Default Encoding: UTF-8\n",
       "Language: en\n",
       "Country: null\n",
       "--></g></svg>"
      ]
     },
     "execution_count": 20,
     "metadata": {},
     "output_type": "execute_result"
    }
   ],
   "source": [
    "%viz --style=\"LR\" --view=\"Action\" \"AliasTest\""
   ]
  },
  {
   "cell_type": "code",
   "execution_count": 21,
   "id": "ef228ca3",
   "metadata": {
    "execution": {
     "iopub.execute_input": "2021-08-04T06:25:31.402389Z",
     "iopub.status.busy": "2021-08-04T06:25:31.401967Z",
     "iopub.status.idle": "2021-08-04T06:25:31.434131Z",
     "shell.execute_reply": "2021-08-04T06:25:31.432247Z"
    }
   },
   "outputs": [
    {
     "data": {
      "image/svg+xml": [
       "<?xml version=\"1.0\" encoding=\"UTF-8\" standalone=\"no\"?><svg xmlns=\"http://www.w3.org/2000/svg\" xmlns:xlink=\"http://www.w3.org/1999/xlink\" contentScriptType=\"application/ecmascript\" contentStyleType=\"text/css\" height=\"277px\" preserveAspectRatio=\"none\" style=\"width:373px;height:277px;\" version=\"1.1\" viewBox=\"0 0 373 277\" width=\"373px\" zoomAndPan=\"magnify\"><defs/><g><!--MD5=[fbc87193dbaf4d95561dea2c320d4a47]\n",
       "cluster E1--><a href=\"psysml:7e4311dd-4dd4-41de-a431-b17c5d614850\" target=\"_top\" title=\"psysml:7e4311dd-4dd4-41de-a431-b17c5d614850\" xlink:actuate=\"onRequest\" xlink:href=\"psysml:7e4311dd-4dd4-41de-a431-b17c5d614850\" xlink:show=\"new\" xlink:title=\"psysml:7e4311dd-4dd4-41de-a431-b17c5d614850\" xlink:type=\"simple\"><polygon fill=\"#FFFFFF\" points=\"16,6,94,6,101,28.2969,351,28.2969,351,265,16,265,16,6\" style=\"stroke: #000000; stroke-width: 1.5;\"/><line style=\"stroke: #000000; stroke-width: 1.5;\" x1=\"16\" x2=\"101\" y1=\"28.2969\" y2=\"28.2969\"/><text fill=\"#000000\" font-family=\"sans-serif\" font-size=\"14\" font-weight=\"bold\" lengthAdjust=\"spacingAndGlyphs\" textLength=\"72\" x=\"20\" y=\"20.9951\">AliasTest</text></a><!--MD5=[b4997ac47864f28c2f74865a473b2911]\n",
       "class E2--><a href=\"psysml:789c28e5-5e95-405e-84fa-948507b238dc\" target=\"_top\" title=\"psysml:789c28e5-5e95-405e-84fa-948507b238dc\" xlink:actuate=\"onRequest\" xlink:href=\"psysml:789c28e5-5e95-405e-84fa-948507b238dc\" xlink:show=\"new\" xlink:title=\"psysml:789c28e5-5e95-405e-84fa-948507b238dc\" xlink:type=\"simple\"><rect fill=\"#FFFFFF\" height=\"45.9375\" id=\"E2\" rx=\"10\" ry=\"10\" style=\"stroke: #383838; stroke-width: 1.5;\" width=\"71\" x=\"32\" y=\"41\"/><text fill=\"#000000\" font-family=\"sans-serif\" font-size=\"12\" font-style=\"italic\" lengthAdjust=\"spacingAndGlyphs\" textLength=\"69\" x=\"33\" y=\"57.1387\">«attribute»</text><text fill=\"#000000\" font-family=\"sans-serif\" font-size=\"12\" lengthAdjust=\"spacingAndGlyphs\" textLength=\"8\" x=\"63.5\" y=\"71.1074\">q</text><line style=\"stroke: #383838; stroke-width: 1.5;\" x1=\"33\" x2=\"102\" y1=\"78.9375\" y2=\"78.9375\"/></a><!--MD5=[09b614a08d8cba4a07c9adeb5e0fee81]\n",
       "class E3--><a href=\"psysml:00588ae4-2df7-4d57-b3d7-e09c73d2d5b1\" target=\"_top\" title=\"psysml:00588ae4-2df7-4d57-b3d7-e09c73d2d5b1\" xlink:actuate=\"onRequest\" xlink:href=\"psysml:00588ae4-2df7-4d57-b3d7-e09c73d2d5b1\" xlink:show=\"new\" xlink:title=\"psysml:00588ae4-2df7-4d57-b3d7-e09c73d2d5b1\" xlink:type=\"simple\"><rect fill=\"#FFFFFF\" height=\"45.9375\" id=\"E3\" style=\"stroke: #383838; stroke-width: 1.5;\" width=\"66\" x=\"163\" y=\"63\"/><text fill=\"#000000\" font-family=\"sans-serif\" font-size=\"12\" font-style=\"italic\" lengthAdjust=\"spacingAndGlyphs\" textLength=\"64\" x=\"164\" y=\"79.1387\">«part def»</text><text fill=\"#000000\" font-family=\"sans-serif\" font-size=\"12\" lengthAdjust=\"spacingAndGlyphs\" textLength=\"16\" x=\"188\" y=\"93.1074\">P1</text><line style=\"stroke: #383838; stroke-width: 1.5;\" x1=\"164\" x2=\"228\" y1=\"100.9375\" y2=\"100.9375\"/></a><!--MD5=[ebbe1d658d1005bcc118a6aa81145e00]\n",
       "class E4--><a href=\"psysml:236a437d-3673-4742-905a-959f5dd42893\" target=\"_top\" title=\"psysml:236a437d-3673-4742-905a-959f5dd42893\" xlink:actuate=\"onRequest\" xlink:href=\"psysml:236a437d-3673-4742-905a-959f5dd42893\" xlink:show=\"new\" xlink:title=\"psysml:236a437d-3673-4742-905a-959f5dd42893\" xlink:type=\"simple\"><rect fill=\"#FFFFFF\" height=\"45.9375\" id=\"E4\" rx=\"10\" ry=\"10\" style=\"stroke: #383838; stroke-width: 1.5;\" width=\"46\" x=\"289\" y=\"63\"/><text fill=\"#000000\" font-family=\"sans-serif\" font-size=\"12\" font-style=\"italic\" lengthAdjust=\"spacingAndGlyphs\" textLength=\"40\" x=\"292\" y=\"79.1387\">«port»</text><text fill=\"#000000\" font-family=\"sans-serif\" font-size=\"12\" lengthAdjust=\"spacingAndGlyphs\" textLength=\"40\" x=\"292\" y=\"93.1074\">porig1</text><line style=\"stroke: #383838; stroke-width: 1.5;\" x1=\"290\" x2=\"334\" y1=\"100.9375\" y2=\"100.9375\"/></a><!--MD5=[270fce915f116d4de14055a7c1d9a0f3]\n",
       "class E5--><a href=\"psysml:4e54ee4d-012b-498f-93d7-1afb3759d34d\" target=\"_top\" title=\"psysml:4e54ee4d-012b-498f-93d7-1afb3759d34d\" xlink:actuate=\"onRequest\" xlink:href=\"psysml:4e54ee4d-012b-498f-93d7-1afb3759d34d\" xlink:show=\"new\" xlink:title=\"psysml:4e54ee4d-012b-498f-93d7-1afb3759d34d\" xlink:type=\"simple\"><rect fill=\"#FFFFFF\" height=\"45.9375\" id=\"E5\" rx=\"10\" ry=\"10\" style=\"stroke: #383838; stroke-width: 1.5;\" width=\"46\" x=\"44.5\" y=\"122\"/><text fill=\"#000000\" font-family=\"sans-serif\" font-size=\"12\" font-style=\"italic\" lengthAdjust=\"spacingAndGlyphs\" textLength=\"40\" x=\"47.5\" y=\"138.1387\">«part»</text><text fill=\"#000000\" font-family=\"sans-serif\" font-size=\"12\" lengthAdjust=\"spacingAndGlyphs\" textLength=\"40\" x=\"47.5\" y=\"152.1074\">p1: P1</text><line style=\"stroke: #383838; stroke-width: 1.5;\" x1=\"45.5\" x2=\"89.5\" y1=\"159.9375\" y2=\"159.9375\"/></a><!--MD5=[60a26617385b1d2d0262a64233df1f8d]\n",
       "class E6--><a href=\"psysml:8965b7df-293c-4ee2-9b2b-715c01154c80\" target=\"_top\" title=\"psysml:8965b7df-293c-4ee2-9b2b-715c01154c80\" xlink:actuate=\"onRequest\" xlink:href=\"psysml:8965b7df-293c-4ee2-9b2b-715c01154c80\" xlink:show=\"new\" xlink:title=\"psysml:8965b7df-293c-4ee2-9b2b-715c01154c80\" xlink:type=\"simple\"><rect fill=\"#FFFFFF\" height=\"45.9375\" id=\"E6\" rx=\"10\" ry=\"10\" style=\"stroke: #383838; stroke-width: 1.5;\" width=\"42\" x=\"175\" y=\"144\"/><text fill=\"#000000\" font-family=\"sans-serif\" font-size=\"12\" font-style=\"italic\" lengthAdjust=\"spacingAndGlyphs\" textLength=\"40\" x=\"176\" y=\"160.1387\">«port»</text><text fill=\"#000000\" font-family=\"sans-serif\" font-size=\"12\" lengthAdjust=\"spacingAndGlyphs\" textLength=\"24\" x=\"184\" y=\"174.1074\">po1</text><line style=\"stroke: #383838; stroke-width: 1.5;\" x1=\"176\" x2=\"216\" y1=\"181.9375\" y2=\"181.9375\"/></a><!--MD5=[2156ba9850f5573cc1fc38a6a4b2f02b]\n",
       "class E7--><a href=\"psysml:77eadb46-ce1a-4e0f-9527-bb06765d2ea7\" target=\"_top\" title=\"psysml:77eadb46-ce1a-4e0f-9527-bb06765d2ea7\" xlink:actuate=\"onRequest\" xlink:href=\"psysml:77eadb46-ce1a-4e0f-9527-bb06765d2ea7\" xlink:show=\"new\" xlink:title=\"psysml:77eadb46-ce1a-4e0f-9527-bb06765d2ea7\" xlink:type=\"simple\"><rect fill=\"#FFFFFF\" height=\"45.9375\" id=\"E7\" rx=\"10\" ry=\"10\" style=\"stroke: #383838; stroke-width: 1.5;\" width=\"46\" x=\"44.5\" y=\"203\"/><text fill=\"#000000\" font-family=\"sans-serif\" font-size=\"12\" font-style=\"italic\" lengthAdjust=\"spacingAndGlyphs\" textLength=\"40\" x=\"47.5\" y=\"219.1387\">«part»</text><text fill=\"#000000\" font-family=\"sans-serif\" font-size=\"12\" lengthAdjust=\"spacingAndGlyphs\" textLength=\"40\" x=\"47.5\" y=\"233.1074\">p2: P1</text><line style=\"stroke: #383838; stroke-width: 1.5;\" x1=\"45.5\" x2=\"89.5\" y1=\"240.9375\" y2=\"240.9375\"/></a><!--MD5=[b9389687b975829384b498ac4b7476b2]\n",
       "class E8--><a href=\"psysml:db28622a-fbe8-4c7d-8fe4-9e164802e944\" target=\"_top\" title=\"psysml:db28622a-fbe8-4c7d-8fe4-9e164802e944\" xlink:actuate=\"onRequest\" xlink:href=\"psysml:db28622a-fbe8-4c7d-8fe4-9e164802e944\" xlink:show=\"new\" xlink:title=\"psysml:db28622a-fbe8-4c7d-8fe4-9e164802e944\" xlink:type=\"simple\"><rect fill=\"#FFFFFF\" height=\"45.9375\" id=\"E8\" rx=\"10\" ry=\"10\" style=\"stroke: #383838; stroke-width: 1.5;\" width=\"42\" x=\"291\" y=\"173\"/><text fill=\"#000000\" font-family=\"sans-serif\" font-size=\"12\" font-style=\"italic\" lengthAdjust=\"spacingAndGlyphs\" textLength=\"40\" x=\"292\" y=\"189.1387\">«port»</text><text fill=\"#000000\" font-family=\"sans-serif\" font-size=\"12\" lengthAdjust=\"spacingAndGlyphs\" textLength=\"36\" x=\"294\" y=\"203.1074\">pdest</text><line style=\"stroke: #383838; stroke-width: 1.5;\" x1=\"292\" x2=\"332\" y1=\"210.9375\" y2=\"210.9375\"/></a><!--MD5=[4672eba38e49728da53d11aeb285b987]\n",
       "reverse link E3 to E4--><a href=\"psysml:10297d07-57fa-4f9d-a873-bd76f542a35c\" target=\"_top\" title=\"psysml:10297d07-57fa-4f9d-a873-bd76f542a35c\" xlink:actuate=\"onRequest\" xlink:href=\"psysml:10297d07-57fa-4f9d-a873-bd76f542a35c\" xlink:show=\"new\" xlink:title=\"psysml:10297d07-57fa-4f9d-a873-bd76f542a35c\" xlink:type=\"simple\"><path d=\"M242.14,98.5 C258.23,99.18 275.63,98.46 288.92,96.33 \" fill=\"none\" id=\"E3&lt;-E4\" style=\"stroke: #383838; stroke-width: 1.0;\"/><polygon fill=\"#FFFFFF\" points=\"229.06,97.6,234.7687,102.0057,241.0312,98.4306,235.3225,94.0249,229.06,97.6\" style=\"stroke: #383838; stroke-width: 1.0;\"/><text fill=\"#000000\" font-family=\"sans-serif\" font-size=\"13\" lengthAdjust=\"spacingAndGlyphs\" textLength=\"8\" x=\"272.9653\" y=\"113.6631\">1</text></a><!--MD5=[4672eba38e49728da53d11aeb285b987]\n",
       "reverse link E3 to E4--><a href=\"psysml:4c29fec0-8309-450b-9bf3-4a2b28b77917\" target=\"_top\" title=\"psysml:4c29fec0-8309-450b-9bf3-4a2b28b77917\" xlink:actuate=\"onRequest\" xlink:href=\"psysml:4c29fec0-8309-450b-9bf3-4a2b28b77917\" xlink:show=\"new\" xlink:title=\"psysml:4c29fec0-8309-450b-9bf3-4a2b28b77917\" xlink:type=\"simple\"><path d=\"M244.08,72.68 C259.61,72.1 276.16,72.9 288.92,75.07 \" fill=\"none\" id=\"E3&lt;-E4-1\" style=\"stroke: #383838; stroke-width: 1.0; stroke-dasharray: 7.0,7.0;\"/><ellipse cx=\"237.0406\" cy=\"73.1636\" fill=\"#FFFFFF\" rx=\"8\" ry=\"8\" style=\"stroke: #383838; stroke-width: 1.0;\"/><line style=\"stroke: #383838; stroke-width: 1.0;\" x1=\"245.0213\" x2=\"229.06\" y1=\"72.6071\" y2=\"73.72\"/><line style=\"stroke: #383838; stroke-width: 1.0;\" x1=\"237.5971\" x2=\"236.4842\" y1=\"81.1442\" y2=\"65.1829\"/><text fill=\"#000000\" font-family=\"sans-serif\" font-size=\"13\" lengthAdjust=\"spacingAndGlyphs\" textLength=\"8\" x=\"272.9653\" y=\"86.158\">1</text></a><!--MD5=[e9be52314489bd878ff4c7144b63c9e1]\n",
       "link E5 to E3--><a href=\"psysml:93a52ea3-a140-4bd2-b924-ec5ad15b1b7e\" target=\"_top\" title=\"psysml:93a52ea3-a140-4bd2-b924-ec5ad15b1b7e\" xlink:actuate=\"onRequest\" xlink:href=\"psysml:93a52ea3-a140-4bd2-b924-ec5ad15b1b7e\" xlink:show=\"new\" xlink:title=\"psysml:93a52ea3-a140-4bd2-b924-ec5ad15b1b7e\" xlink:type=\"simple\"><path d=\"M90.53,134.72 C105.43,127.78 125.72,118.31 144.46,109.57 \" fill=\"none\" id=\"E5-&gt;E3\" style=\"stroke: #383838; stroke-width: 1.0;\"/><polygon fill=\"#FFFFFF\" points=\"162.78,101.03,148.5252,115.4106,142.6026,102.725,162.78,101.03\" style=\"stroke: #383838; stroke-width: 1.0;\"/><ellipse cx=\"142.5143\" cy=\"116.0097\" fill=\"#383838\" rx=\"2\" ry=\"2\" style=\"stroke: #383838; stroke-width: 1.0;\"/><ellipse cx=\"138.2839\" cy=\"106.9486\" fill=\"#383838\" rx=\"2\" ry=\"2\" style=\"stroke: #383838; stroke-width: 1.0;\"/></a><!--MD5=[85d356282659285ab4b2cfe2f634dd2b]\n",
       "reverse link E5 to E6--><a href=\"psysml:cdcbbeec-90be-4e1d-8c60-d92c8a6a7077\" target=\"_top\" title=\"psysml:cdcbbeec-90be-4e1d-8c60-d92c8a6a7077\" xlink:actuate=\"onRequest\" xlink:href=\"psysml:cdcbbeec-90be-4e1d-8c60-d92c8a6a7077\" xlink:show=\"new\" xlink:title=\"psysml:cdcbbeec-90be-4e1d-8c60-d92c8a6a7077\" xlink:type=\"simple\"><path d=\"M103.55,151.1 C126.53,155.09 155.74,160.17 174.89,163.5 \" fill=\"none\" id=\"E5&lt;-E6\" style=\"stroke: #383838; stroke-width: 1.0;\"/><polygon fill=\"#FFFFFF\" points=\"90.53,148.83,95.755,153.7999,102.3522,150.8883,97.1272,145.9184,90.53,148.83\" style=\"stroke: #383838; stroke-width: 1.0;\"/><text fill=\"#000000\" font-family=\"sans-serif\" font-size=\"13\" lengthAdjust=\"spacingAndGlyphs\" textLength=\"8\" x=\"158.8862\" y=\"176.873\">1</text></a><!--MD5=[f667431f98296947986a1a7595a31603]\n",
       "link E6 to E4--><a href=\"psysml:b5614b00-f88c-4f87-85f7-609ca7f17bae\" target=\"_top\" title=\"psysml:b5614b00-f88c-4f87-85f7-609ca7f17bae\" xlink:actuate=\"onRequest\" xlink:href=\"psysml:b5614b00-f88c-4f87-85f7-609ca7f17bae\" xlink:show=\"new\" xlink:title=\"psysml:b5614b00-f88c-4f87-85f7-609ca7f17bae\" xlink:type=\"simple\"><path d=\"M217.12,152.71 C232.33,141.9 253.68,126.73 272.18,113.59 \" fill=\"none\" id=\"E6-&gt;E4\" style=\"stroke: #383838; stroke-width: 1.0;\"/><polygon fill=\"#FFFFFF\" points=\"288.74,101.81,277.2991,118.5165,269.1949,107.1006,288.74,101.81\" style=\"stroke: #383838; stroke-width: 1.0;\"/><line style=\"stroke: #383838; stroke-width: 2.0;\" x1=\"274.2005\" x2=\"266.0963\" y1=\"120.7162\" y2=\"109.3003\"/></a><!--MD5=[14ccda38c055a5c0da953d572bc50960]\n",
       "link E7 to E3--><a href=\"psysml:87c48ed5-bc50-48bb-899d-f807bfcdc26e\" target=\"_top\" title=\"psysml:87c48ed5-bc50-48bb-899d-f807bfcdc26e\" xlink:actuate=\"onRequest\" xlink:href=\"psysml:87c48ed5-bc50-48bb-899d-f807bfcdc26e\" xlink:show=\"new\" xlink:title=\"psysml:87c48ed5-bc50-48bb-899d-f807bfcdc26e\" xlink:type=\"simple\"><path d=\"M89.39,202.88 C108.71,181.5 137.78,149.32 160.54,124.14 \" fill=\"none\" id=\"E7-&gt;E3\" style=\"stroke: #383838; stroke-width: 1.0;\"/><polygon fill=\"#FFFFFF\" points=\"174.08,109.15,166.5338,127.9398,156.1471,118.5527,174.08,109.15\" style=\"stroke: #383838; stroke-width: 1.0;\"/><ellipse cx=\"161.2281\" cy=\"130.8276\" fill=\"#383838\" rx=\"2\" ry=\"2\" style=\"stroke: #383838; stroke-width: 1.0;\"/><ellipse cx=\"153.8091\" cy=\"124.1226\" fill=\"#383838\" rx=\"2\" ry=\"2\" style=\"stroke: #383838; stroke-width: 1.0;\"/></a><!--MD5=[dc164f5e8a733ab456ef1add180e9e34]\n",
       "reverse link E7 to E8--><a href=\"psysml:5ff6c459-66f7-4338-82bb-16aa2b22f6b4\" target=\"_top\" title=\"psysml:5ff6c459-66f7-4338-82bb-16aa2b22f6b4\" xlink:actuate=\"onRequest\" xlink:href=\"psysml:5ff6c459-66f7-4338-82bb-16aa2b22f6b4\" xlink:show=\"new\" xlink:title=\"psysml:5ff6c459-66f7-4338-82bb-16aa2b22f6b4\" xlink:type=\"simple\"><path d=\"M103.83,235.23 C136.36,235.24 185.96,229.43 229,224 C250.09,221.34 274.2,218.08 290.79,212.51 \" fill=\"none\" id=\"E7&lt;-E8\" style=\"stroke: #383838; stroke-width: 1.0;\"/><polygon fill=\"#FFFFFF\" points=\"90.58,234.83,96.4586,239.0064,102.5747,235.1863,96.6961,231.0099,90.58,234.83\" style=\"stroke: #383838; stroke-width: 1.0;\"/><text fill=\"#000000\" font-family=\"sans-serif\" font-size=\"13\" lengthAdjust=\"spacingAndGlyphs\" textLength=\"8\" x=\"275.0694\" y=\"231.9599\">1</text></a><!--MD5=[dc164f5e8a733ab456ef1add180e9e34]\n",
       "reverse link E7 to E8--><a href=\"psysml:4eb1c616-a5a7-47d5-8985-e84491dc2120\" target=\"_top\" title=\"psysml:4eb1c616-a5a7-47d5-8985-e84491dc2120\" xlink:actuate=\"onRequest\" xlink:href=\"psysml:4eb1c616-a5a7-47d5-8985-e84491dc2120\" xlink:show=\"new\" xlink:title=\"psysml:4eb1c616-a5a7-47d5-8985-e84491dc2120\" xlink:type=\"simple\"><path d=\"M105.15,207.63 C137.69,200.08 186.54,194.36 229,189 C250.09,186.34 274.2,183.08 290.79,184.28 \" fill=\"none\" id=\"E7&lt;-E8-1\" style=\"stroke: #383838; stroke-width: 1.0; stroke-dasharray: 7.0,7.0;\"/><ellipse cx=\"98.3111\" cy=\"209.4434\" fill=\"#FFFFFF\" rx=\"8\" ry=\"8\" style=\"stroke: #383838; stroke-width: 1.0;\"/><line style=\"stroke: #383838; stroke-width: 1.0;\" x1=\"106.0423\" x2=\"90.58\" y1=\"207.3869\" y2=\"211.5\"/><line style=\"stroke: #383838; stroke-width: 1.0;\" x1=\"100.3677\" x2=\"96.2546\" y1=\"217.1746\" y2=\"201.7123\"/><text fill=\"#000000\" font-family=\"sans-serif\" font-size=\"13\" lengthAdjust=\"spacingAndGlyphs\" textLength=\"8\" x=\"275.0694\" y=\"175.4907\">1</text></a><!--MD5=[0a839d0f80c2d72d4b9b307f046d0de8]\n",
       "link E6 to E8--><a href=\"psysml:af89f277-c22a-4acb-b9c9-7f04d6a8a86b\" target=\"_top\" title=\"psysml:af89f277-c22a-4acb-b9c9-7f04d6a8a86b\" xlink:actuate=\"onRequest\" xlink:href=\"psysml:af89f277-c22a-4acb-b9c9-7f04d6a8a86b\" xlink:show=\"new\" xlink:title=\"psysml:af89f277-c22a-4acb-b9c9-7f04d6a8a86b\" xlink:type=\"simple\"><path d=\"M217.12,182.11 C237.83,191.04 269.92,199.22 290.7,200.86 \" fill=\"none\" id=\"E6-E8\" style=\"stroke: #383838; stroke-width: 3.0;\"/><text fill=\"#000000\" font-family=\"sans-serif\" font-size=\"13\" lengthAdjust=\"spacingAndGlyphs\" textLength=\"7\" x=\"276.105\" y=\"216.7421\">*</text></a><!--MD5=[0a839d0f80c2d72d4b9b307f046d0de8]\n",
       "link E6 to E8--><a href=\"psysml:6818c790-7ee4-49fa-b866-28c88d0d2e1e\" target=\"_top\" title=\"psysml:6818c790-7ee4-49fa-b866-28c88d0d2e1e\" xlink:actuate=\"onRequest\" xlink:href=\"psysml:6818c790-7ee4-49fa-b866-28c88d0d2e1e\" xlink:show=\"new\" xlink:title=\"psysml:6818c790-7ee4-49fa-b866-28c88d0d2e1e\" xlink:type=\"simple\"><path d=\"M217.12,161.53 C237.83,162.93 269.92,171.08 290.7,180.22 \" fill=\"none\" id=\"E6-E8-1\" style=\"stroke: #383838; stroke-width: 3.0;\"/><text fill=\"#000000\" font-family=\"sans-serif\" font-size=\"13\" lengthAdjust=\"spacingAndGlyphs\" textLength=\"7\" x=\"276.105\" y=\"189.7811\">*</text></a><!--MD5=[b8c9887a816f801ee51b4eebbe8f105b]\n",
       "@startuml\r\n",
       "left to right direction\r\n",
       "skinparam monochrome true\r\n",
       "skinparam classbackgroundcolor white\r\n",
       "skinparam shadowing false\r\n",
       "skinparam wrapWidth 300\r\n",
       "hide circle\r\n",
       "\r\n",
       "package \"AliasTest\" as E1  [[psysml:7e4311dd-4dd4-41de-a431-b17c5d614850 ]]  {\r\n",
       "comp usage \"q\" as E2  <<(T,blue) attribute>> [[psysml:789c28e5-5e95-405e-84fa-948507b238dc ]] {\r\n",
       "}\r\n",
       "comp def \"P1\" as E3  <<(T,blue) part def>> [[psysml:00588ae4-2df7-4d57-b3d7-e09c73d2d5b1 ]] {\r\n",
       "}\r\n",
       "comp usage \"porig1\" as E4  <<(T,blue) port>> [[psysml:236a437d-3673-4742-905a-959f5dd42893 ]] {\r\n",
       "}\r\n",
       "comp usage \"p1: P1\" as E5  <<(T,blue) part>> [[psysml:4e54ee4d-012b-498f-93d7-1afb3759d34d ]] {\r\n",
       "}\r\n",
       "comp usage \"po1\" as E6  <<(T,blue) port>> [[psysml:8965b7df-293c-4ee2-9b2b-715c01154c80 ]] {\r\n",
       "}\r\n",
       "comp usage \"p2: P1\" as E7  <<(T,blue) part>> [[psysml:77eadb46-ce1a-4e0f-9527-bb06765d2ea7 ]] {\r\n",
       "}\r\n",
       "comp usage \"pdest\" as E8  <<(T,blue) port>> [[psysml:db28622a-fbe8-4c7d-8fe4-9e164802e944 ]] {\r\n",
       "}\r\n",
       "E3 o- - \"1\"E4 [[psysml:10297d07-57fa-4f9d-a873-bd76f542a35c ]] \r\n",
       "E3 +.. \"1\"E4 [[psysml:4c29fec0-8309-450b-9bf3-4a2b28b77917 ]] \r\n",
       "E5 - -:|> E3 [[psysml:93a52ea3-a140-4bd2-b924-ec5ad15b1b7e ]] \r\n",
       "E5 o- - \"1\"E6 [[psysml:cdcbbeec-90be-4e1d-8c60-d92c8a6a7077 ]] \r\n",
       "E6 - -||> E4 [[psysml:b5614b00-f88c-4f87-85f7-609ca7f17bae ]] \r\n",
       "E7 - -:|> E3 [[psysml:87c48ed5-bc50-48bb-899d-f807bfcdc26e ]] \r\n",
       "E7 o- - \"1\"E8 [[psysml:5ff6c459-66f7-4338-82bb-16aa2b22f6b4 ]] \r\n",
       "E7 +.. \"1\"E8 [[psysml:4eb1c616-a5a7-47d5-8985-e84491dc2120 ]] \r\n",
       "E6 -[thickness=3]- \"*\"E8 [[psysml:af89f277-c22a-4acb-b9c9-7f04d6a8a86b ]] \r\n",
       "E6 -[thickness=3]- \"*\"E8 [[psysml:6818c790-7ee4-49fa-b866-28c88d0d2e1e ]] \r\n",
       "}\r\n",
       "@enduml\r\n",
       "\n",
       "PlantUML version 1.2020.13(Sat Jun 13 12:26:38 UTC 2020)\n",
       "(EPL source distribution)\n",
       "Java Runtime: OpenJDK Runtime Environment\n",
       "JVM: OpenJDK 64-Bit Server VM\n",
       "Default Encoding: UTF-8\n",
       "Language: en\n",
       "Country: null\n",
       "--></g></svg>"
      ]
     },
     "execution_count": 21,
     "metadata": {},
     "output_type": "execute_result"
    }
   ],
   "source": [
    "%viz --style=\"LR\" --view=\"Sequence\" \"AliasTest\""
   ]
  },
  {
   "cell_type": "code",
   "execution_count": 22,
   "id": "f0488567",
   "metadata": {
    "execution": {
     "iopub.execute_input": "2021-08-04T06:25:31.482868Z",
     "iopub.status.busy": "2021-08-04T06:25:31.482447Z",
     "iopub.status.idle": "2021-08-04T06:25:31.506584Z",
     "shell.execute_reply": "2021-08-04T06:25:31.504746Z"
    }
   },
   "outputs": [
    {
     "data": {
      "image/svg+xml": [
       "<?xml version=\"1.0\" encoding=\"UTF-8\" standalone=\"no\"?><svg xmlns=\"http://www.w3.org/2000/svg\" xmlns:xlink=\"http://www.w3.org/1999/xlink\" contentScriptType=\"application/ecmascript\" contentStyleType=\"text/css\" height=\"277px\" preserveAspectRatio=\"none\" style=\"width:373px;height:277px;\" version=\"1.1\" viewBox=\"0 0 373 277\" width=\"373px\" zoomAndPan=\"magnify\"><defs/><g><!--MD5=[fbc87193dbaf4d95561dea2c320d4a47]\n",
       "cluster E1--><a href=\"psysml:7e4311dd-4dd4-41de-a431-b17c5d614850\" target=\"_top\" title=\"psysml:7e4311dd-4dd4-41de-a431-b17c5d614850\" xlink:actuate=\"onRequest\" xlink:href=\"psysml:7e4311dd-4dd4-41de-a431-b17c5d614850\" xlink:show=\"new\" xlink:title=\"psysml:7e4311dd-4dd4-41de-a431-b17c5d614850\" xlink:type=\"simple\"><polygon fill=\"#FFFFFF\" points=\"16,6,94,6,101,28.2969,351,28.2969,351,265,16,265,16,6\" style=\"stroke: #000000; stroke-width: 1.5;\"/><line style=\"stroke: #000000; stroke-width: 1.5;\" x1=\"16\" x2=\"101\" y1=\"28.2969\" y2=\"28.2969\"/><text fill=\"#000000\" font-family=\"sans-serif\" font-size=\"14\" font-weight=\"bold\" lengthAdjust=\"spacingAndGlyphs\" textLength=\"72\" x=\"20\" y=\"20.9951\">AliasTest</text></a><!--MD5=[b4997ac47864f28c2f74865a473b2911]\n",
       "class E2--><a href=\"psysml:789c28e5-5e95-405e-84fa-948507b238dc\" target=\"_top\" title=\"psysml:789c28e5-5e95-405e-84fa-948507b238dc\" xlink:actuate=\"onRequest\" xlink:href=\"psysml:789c28e5-5e95-405e-84fa-948507b238dc\" xlink:show=\"new\" xlink:title=\"psysml:789c28e5-5e95-405e-84fa-948507b238dc\" xlink:type=\"simple\"><rect fill=\"#FFFFFF\" height=\"45.9375\" id=\"E2\" rx=\"10\" ry=\"10\" style=\"stroke: #383838; stroke-width: 1.5;\" width=\"71\" x=\"32\" y=\"41\"/><text fill=\"#000000\" font-family=\"sans-serif\" font-size=\"12\" font-style=\"italic\" lengthAdjust=\"spacingAndGlyphs\" textLength=\"69\" x=\"33\" y=\"57.1387\">«attribute»</text><text fill=\"#000000\" font-family=\"sans-serif\" font-size=\"12\" lengthAdjust=\"spacingAndGlyphs\" textLength=\"8\" x=\"63.5\" y=\"71.1074\">q</text><line style=\"stroke: #383838; stroke-width: 1.5;\" x1=\"33\" x2=\"102\" y1=\"78.9375\" y2=\"78.9375\"/></a><!--MD5=[09b614a08d8cba4a07c9adeb5e0fee81]\n",
       "class E3--><a href=\"psysml:00588ae4-2df7-4d57-b3d7-e09c73d2d5b1\" target=\"_top\" title=\"psysml:00588ae4-2df7-4d57-b3d7-e09c73d2d5b1\" xlink:actuate=\"onRequest\" xlink:href=\"psysml:00588ae4-2df7-4d57-b3d7-e09c73d2d5b1\" xlink:show=\"new\" xlink:title=\"psysml:00588ae4-2df7-4d57-b3d7-e09c73d2d5b1\" xlink:type=\"simple\"><rect fill=\"#FFFFFF\" height=\"45.9375\" id=\"E3\" style=\"stroke: #383838; stroke-width: 1.5;\" width=\"66\" x=\"163\" y=\"63\"/><text fill=\"#000000\" font-family=\"sans-serif\" font-size=\"12\" font-style=\"italic\" lengthAdjust=\"spacingAndGlyphs\" textLength=\"64\" x=\"164\" y=\"79.1387\">«part def»</text><text fill=\"#000000\" font-family=\"sans-serif\" font-size=\"12\" lengthAdjust=\"spacingAndGlyphs\" textLength=\"16\" x=\"188\" y=\"93.1074\">P1</text><line style=\"stroke: #383838; stroke-width: 1.5;\" x1=\"164\" x2=\"228\" y1=\"100.9375\" y2=\"100.9375\"/></a><!--MD5=[ebbe1d658d1005bcc118a6aa81145e00]\n",
       "class E4--><a href=\"psysml:236a437d-3673-4742-905a-959f5dd42893\" target=\"_top\" title=\"psysml:236a437d-3673-4742-905a-959f5dd42893\" xlink:actuate=\"onRequest\" xlink:href=\"psysml:236a437d-3673-4742-905a-959f5dd42893\" xlink:show=\"new\" xlink:title=\"psysml:236a437d-3673-4742-905a-959f5dd42893\" xlink:type=\"simple\"><rect fill=\"#FFFFFF\" height=\"45.9375\" id=\"E4\" rx=\"10\" ry=\"10\" style=\"stroke: #383838; stroke-width: 1.5;\" width=\"46\" x=\"289\" y=\"63\"/><text fill=\"#000000\" font-family=\"sans-serif\" font-size=\"12\" font-style=\"italic\" lengthAdjust=\"spacingAndGlyphs\" textLength=\"40\" x=\"292\" y=\"79.1387\">«port»</text><text fill=\"#000000\" font-family=\"sans-serif\" font-size=\"12\" lengthAdjust=\"spacingAndGlyphs\" textLength=\"40\" x=\"292\" y=\"93.1074\">porig1</text><line style=\"stroke: #383838; stroke-width: 1.5;\" x1=\"290\" x2=\"334\" y1=\"100.9375\" y2=\"100.9375\"/></a><!--MD5=[270fce915f116d4de14055a7c1d9a0f3]\n",
       "class E5--><a href=\"psysml:4e54ee4d-012b-498f-93d7-1afb3759d34d\" target=\"_top\" title=\"psysml:4e54ee4d-012b-498f-93d7-1afb3759d34d\" xlink:actuate=\"onRequest\" xlink:href=\"psysml:4e54ee4d-012b-498f-93d7-1afb3759d34d\" xlink:show=\"new\" xlink:title=\"psysml:4e54ee4d-012b-498f-93d7-1afb3759d34d\" xlink:type=\"simple\"><rect fill=\"#FFFFFF\" height=\"45.9375\" id=\"E5\" rx=\"10\" ry=\"10\" style=\"stroke: #383838; stroke-width: 1.5;\" width=\"46\" x=\"44.5\" y=\"122\"/><text fill=\"#000000\" font-family=\"sans-serif\" font-size=\"12\" font-style=\"italic\" lengthAdjust=\"spacingAndGlyphs\" textLength=\"40\" x=\"47.5\" y=\"138.1387\">«part»</text><text fill=\"#000000\" font-family=\"sans-serif\" font-size=\"12\" lengthAdjust=\"spacingAndGlyphs\" textLength=\"40\" x=\"47.5\" y=\"152.1074\">p1: P1</text><line style=\"stroke: #383838; stroke-width: 1.5;\" x1=\"45.5\" x2=\"89.5\" y1=\"159.9375\" y2=\"159.9375\"/></a><!--MD5=[60a26617385b1d2d0262a64233df1f8d]\n",
       "class E6--><a href=\"psysml:8965b7df-293c-4ee2-9b2b-715c01154c80\" target=\"_top\" title=\"psysml:8965b7df-293c-4ee2-9b2b-715c01154c80\" xlink:actuate=\"onRequest\" xlink:href=\"psysml:8965b7df-293c-4ee2-9b2b-715c01154c80\" xlink:show=\"new\" xlink:title=\"psysml:8965b7df-293c-4ee2-9b2b-715c01154c80\" xlink:type=\"simple\"><rect fill=\"#FFFFFF\" height=\"45.9375\" id=\"E6\" rx=\"10\" ry=\"10\" style=\"stroke: #383838; stroke-width: 1.5;\" width=\"42\" x=\"175\" y=\"144\"/><text fill=\"#000000\" font-family=\"sans-serif\" font-size=\"12\" font-style=\"italic\" lengthAdjust=\"spacingAndGlyphs\" textLength=\"40\" x=\"176\" y=\"160.1387\">«port»</text><text fill=\"#000000\" font-family=\"sans-serif\" font-size=\"12\" lengthAdjust=\"spacingAndGlyphs\" textLength=\"24\" x=\"184\" y=\"174.1074\">po1</text><line style=\"stroke: #383838; stroke-width: 1.5;\" x1=\"176\" x2=\"216\" y1=\"181.9375\" y2=\"181.9375\"/></a><!--MD5=[2156ba9850f5573cc1fc38a6a4b2f02b]\n",
       "class E7--><a href=\"psysml:77eadb46-ce1a-4e0f-9527-bb06765d2ea7\" target=\"_top\" title=\"psysml:77eadb46-ce1a-4e0f-9527-bb06765d2ea7\" xlink:actuate=\"onRequest\" xlink:href=\"psysml:77eadb46-ce1a-4e0f-9527-bb06765d2ea7\" xlink:show=\"new\" xlink:title=\"psysml:77eadb46-ce1a-4e0f-9527-bb06765d2ea7\" xlink:type=\"simple\"><rect fill=\"#FFFFFF\" height=\"45.9375\" id=\"E7\" rx=\"10\" ry=\"10\" style=\"stroke: #383838; stroke-width: 1.5;\" width=\"46\" x=\"44.5\" y=\"203\"/><text fill=\"#000000\" font-family=\"sans-serif\" font-size=\"12\" font-style=\"italic\" lengthAdjust=\"spacingAndGlyphs\" textLength=\"40\" x=\"47.5\" y=\"219.1387\">«part»</text><text fill=\"#000000\" font-family=\"sans-serif\" font-size=\"12\" lengthAdjust=\"spacingAndGlyphs\" textLength=\"40\" x=\"47.5\" y=\"233.1074\">p2: P1</text><line style=\"stroke: #383838; stroke-width: 1.5;\" x1=\"45.5\" x2=\"89.5\" y1=\"240.9375\" y2=\"240.9375\"/></a><!--MD5=[b9389687b975829384b498ac4b7476b2]\n",
       "class E8--><a href=\"psysml:db28622a-fbe8-4c7d-8fe4-9e164802e944\" target=\"_top\" title=\"psysml:db28622a-fbe8-4c7d-8fe4-9e164802e944\" xlink:actuate=\"onRequest\" xlink:href=\"psysml:db28622a-fbe8-4c7d-8fe4-9e164802e944\" xlink:show=\"new\" xlink:title=\"psysml:db28622a-fbe8-4c7d-8fe4-9e164802e944\" xlink:type=\"simple\"><rect fill=\"#FFFFFF\" height=\"45.9375\" id=\"E8\" rx=\"10\" ry=\"10\" style=\"stroke: #383838; stroke-width: 1.5;\" width=\"42\" x=\"291\" y=\"173\"/><text fill=\"#000000\" font-family=\"sans-serif\" font-size=\"12\" font-style=\"italic\" lengthAdjust=\"spacingAndGlyphs\" textLength=\"40\" x=\"292\" y=\"189.1387\">«port»</text><text fill=\"#000000\" font-family=\"sans-serif\" font-size=\"12\" lengthAdjust=\"spacingAndGlyphs\" textLength=\"36\" x=\"294\" y=\"203.1074\">pdest</text><line style=\"stroke: #383838; stroke-width: 1.5;\" x1=\"292\" x2=\"332\" y1=\"210.9375\" y2=\"210.9375\"/></a><!--MD5=[4672eba38e49728da53d11aeb285b987]\n",
       "reverse link E3 to E4--><a href=\"psysml:10297d07-57fa-4f9d-a873-bd76f542a35c\" target=\"_top\" title=\"psysml:10297d07-57fa-4f9d-a873-bd76f542a35c\" xlink:actuate=\"onRequest\" xlink:href=\"psysml:10297d07-57fa-4f9d-a873-bd76f542a35c\" xlink:show=\"new\" xlink:title=\"psysml:10297d07-57fa-4f9d-a873-bd76f542a35c\" xlink:type=\"simple\"><path d=\"M242.14,98.5 C258.23,99.18 275.63,98.46 288.92,96.33 \" fill=\"none\" id=\"E3&lt;-E4\" style=\"stroke: #383838; stroke-width: 1.0;\"/><polygon fill=\"#FFFFFF\" points=\"229.06,97.6,234.7687,102.0057,241.0312,98.4306,235.3225,94.0249,229.06,97.6\" style=\"stroke: #383838; stroke-width: 1.0;\"/><text fill=\"#000000\" font-family=\"sans-serif\" font-size=\"13\" lengthAdjust=\"spacingAndGlyphs\" textLength=\"8\" x=\"272.9653\" y=\"113.6631\">1</text></a><!--MD5=[4672eba38e49728da53d11aeb285b987]\n",
       "reverse link E3 to E4--><a href=\"psysml:4c29fec0-8309-450b-9bf3-4a2b28b77917\" target=\"_top\" title=\"psysml:4c29fec0-8309-450b-9bf3-4a2b28b77917\" xlink:actuate=\"onRequest\" xlink:href=\"psysml:4c29fec0-8309-450b-9bf3-4a2b28b77917\" xlink:show=\"new\" xlink:title=\"psysml:4c29fec0-8309-450b-9bf3-4a2b28b77917\" xlink:type=\"simple\"><path d=\"M244.08,72.68 C259.61,72.1 276.16,72.9 288.92,75.07 \" fill=\"none\" id=\"E3&lt;-E4-1\" style=\"stroke: #383838; stroke-width: 1.0; stroke-dasharray: 7.0,7.0;\"/><ellipse cx=\"237.0406\" cy=\"73.1636\" fill=\"#FFFFFF\" rx=\"8\" ry=\"8\" style=\"stroke: #383838; stroke-width: 1.0;\"/><line style=\"stroke: #383838; stroke-width: 1.0;\" x1=\"245.0213\" x2=\"229.06\" y1=\"72.6071\" y2=\"73.72\"/><line style=\"stroke: #383838; stroke-width: 1.0;\" x1=\"237.5971\" x2=\"236.4842\" y1=\"81.1442\" y2=\"65.1829\"/><text fill=\"#000000\" font-family=\"sans-serif\" font-size=\"13\" lengthAdjust=\"spacingAndGlyphs\" textLength=\"8\" x=\"272.9653\" y=\"86.158\">1</text></a><!--MD5=[e9be52314489bd878ff4c7144b63c9e1]\n",
       "link E5 to E3--><a href=\"psysml:93a52ea3-a140-4bd2-b924-ec5ad15b1b7e\" target=\"_top\" title=\"psysml:93a52ea3-a140-4bd2-b924-ec5ad15b1b7e\" xlink:actuate=\"onRequest\" xlink:href=\"psysml:93a52ea3-a140-4bd2-b924-ec5ad15b1b7e\" xlink:show=\"new\" xlink:title=\"psysml:93a52ea3-a140-4bd2-b924-ec5ad15b1b7e\" xlink:type=\"simple\"><path d=\"M90.53,134.72 C105.43,127.78 125.72,118.31 144.46,109.57 \" fill=\"none\" id=\"E5-&gt;E3\" style=\"stroke: #383838; stroke-width: 1.0;\"/><polygon fill=\"#FFFFFF\" points=\"162.78,101.03,148.5252,115.4106,142.6026,102.725,162.78,101.03\" style=\"stroke: #383838; stroke-width: 1.0;\"/><ellipse cx=\"142.5143\" cy=\"116.0097\" fill=\"#383838\" rx=\"2\" ry=\"2\" style=\"stroke: #383838; stroke-width: 1.0;\"/><ellipse cx=\"138.2839\" cy=\"106.9486\" fill=\"#383838\" rx=\"2\" ry=\"2\" style=\"stroke: #383838; stroke-width: 1.0;\"/></a><!--MD5=[85d356282659285ab4b2cfe2f634dd2b]\n",
       "reverse link E5 to E6--><a href=\"psysml:cdcbbeec-90be-4e1d-8c60-d92c8a6a7077\" target=\"_top\" title=\"psysml:cdcbbeec-90be-4e1d-8c60-d92c8a6a7077\" xlink:actuate=\"onRequest\" xlink:href=\"psysml:cdcbbeec-90be-4e1d-8c60-d92c8a6a7077\" xlink:show=\"new\" xlink:title=\"psysml:cdcbbeec-90be-4e1d-8c60-d92c8a6a7077\" xlink:type=\"simple\"><path d=\"M103.55,151.1 C126.53,155.09 155.74,160.17 174.89,163.5 \" fill=\"none\" id=\"E5&lt;-E6\" style=\"stroke: #383838; stroke-width: 1.0;\"/><polygon fill=\"#FFFFFF\" points=\"90.53,148.83,95.755,153.7999,102.3522,150.8883,97.1272,145.9184,90.53,148.83\" style=\"stroke: #383838; stroke-width: 1.0;\"/><text fill=\"#000000\" font-family=\"sans-serif\" font-size=\"13\" lengthAdjust=\"spacingAndGlyphs\" textLength=\"8\" x=\"158.8862\" y=\"176.873\">1</text></a><!--MD5=[f667431f98296947986a1a7595a31603]\n",
       "link E6 to E4--><a href=\"psysml:b5614b00-f88c-4f87-85f7-609ca7f17bae\" target=\"_top\" title=\"psysml:b5614b00-f88c-4f87-85f7-609ca7f17bae\" xlink:actuate=\"onRequest\" xlink:href=\"psysml:b5614b00-f88c-4f87-85f7-609ca7f17bae\" xlink:show=\"new\" xlink:title=\"psysml:b5614b00-f88c-4f87-85f7-609ca7f17bae\" xlink:type=\"simple\"><path d=\"M217.12,152.71 C232.33,141.9 253.68,126.73 272.18,113.59 \" fill=\"none\" id=\"E6-&gt;E4\" style=\"stroke: #383838; stroke-width: 1.0;\"/><polygon fill=\"#FFFFFF\" points=\"288.74,101.81,277.2991,118.5165,269.1949,107.1006,288.74,101.81\" style=\"stroke: #383838; stroke-width: 1.0;\"/><line style=\"stroke: #383838; stroke-width: 2.0;\" x1=\"274.2005\" x2=\"266.0963\" y1=\"120.7162\" y2=\"109.3003\"/></a><!--MD5=[14ccda38c055a5c0da953d572bc50960]\n",
       "link E7 to E3--><a href=\"psysml:87c48ed5-bc50-48bb-899d-f807bfcdc26e\" target=\"_top\" title=\"psysml:87c48ed5-bc50-48bb-899d-f807bfcdc26e\" xlink:actuate=\"onRequest\" xlink:href=\"psysml:87c48ed5-bc50-48bb-899d-f807bfcdc26e\" xlink:show=\"new\" xlink:title=\"psysml:87c48ed5-bc50-48bb-899d-f807bfcdc26e\" xlink:type=\"simple\"><path d=\"M89.39,202.88 C108.71,181.5 137.78,149.32 160.54,124.14 \" fill=\"none\" id=\"E7-&gt;E3\" style=\"stroke: #383838; stroke-width: 1.0;\"/><polygon fill=\"#FFFFFF\" points=\"174.08,109.15,166.5338,127.9398,156.1471,118.5527,174.08,109.15\" style=\"stroke: #383838; stroke-width: 1.0;\"/><ellipse cx=\"161.2281\" cy=\"130.8276\" fill=\"#383838\" rx=\"2\" ry=\"2\" style=\"stroke: #383838; stroke-width: 1.0;\"/><ellipse cx=\"153.8091\" cy=\"124.1226\" fill=\"#383838\" rx=\"2\" ry=\"2\" style=\"stroke: #383838; stroke-width: 1.0;\"/></a><!--MD5=[dc164f5e8a733ab456ef1add180e9e34]\n",
       "reverse link E7 to E8--><a href=\"psysml:5ff6c459-66f7-4338-82bb-16aa2b22f6b4\" target=\"_top\" title=\"psysml:5ff6c459-66f7-4338-82bb-16aa2b22f6b4\" xlink:actuate=\"onRequest\" xlink:href=\"psysml:5ff6c459-66f7-4338-82bb-16aa2b22f6b4\" xlink:show=\"new\" xlink:title=\"psysml:5ff6c459-66f7-4338-82bb-16aa2b22f6b4\" xlink:type=\"simple\"><path d=\"M103.83,235.23 C136.36,235.24 185.96,229.43 229,224 C250.09,221.34 274.2,218.08 290.79,212.51 \" fill=\"none\" id=\"E7&lt;-E8\" style=\"stroke: #383838; stroke-width: 1.0;\"/><polygon fill=\"#FFFFFF\" points=\"90.58,234.83,96.4586,239.0064,102.5747,235.1863,96.6961,231.0099,90.58,234.83\" style=\"stroke: #383838; stroke-width: 1.0;\"/><text fill=\"#000000\" font-family=\"sans-serif\" font-size=\"13\" lengthAdjust=\"spacingAndGlyphs\" textLength=\"8\" x=\"275.0694\" y=\"231.9599\">1</text></a><!--MD5=[dc164f5e8a733ab456ef1add180e9e34]\n",
       "reverse link E7 to E8--><a href=\"psysml:4eb1c616-a5a7-47d5-8985-e84491dc2120\" target=\"_top\" title=\"psysml:4eb1c616-a5a7-47d5-8985-e84491dc2120\" xlink:actuate=\"onRequest\" xlink:href=\"psysml:4eb1c616-a5a7-47d5-8985-e84491dc2120\" xlink:show=\"new\" xlink:title=\"psysml:4eb1c616-a5a7-47d5-8985-e84491dc2120\" xlink:type=\"simple\"><path d=\"M105.15,207.63 C137.69,200.08 186.54,194.36 229,189 C250.09,186.34 274.2,183.08 290.79,184.28 \" fill=\"none\" id=\"E7&lt;-E8-1\" style=\"stroke: #383838; stroke-width: 1.0; stroke-dasharray: 7.0,7.0;\"/><ellipse cx=\"98.3111\" cy=\"209.4434\" fill=\"#FFFFFF\" rx=\"8\" ry=\"8\" style=\"stroke: #383838; stroke-width: 1.0;\"/><line style=\"stroke: #383838; stroke-width: 1.0;\" x1=\"106.0423\" x2=\"90.58\" y1=\"207.3869\" y2=\"211.5\"/><line style=\"stroke: #383838; stroke-width: 1.0;\" x1=\"100.3677\" x2=\"96.2546\" y1=\"217.1746\" y2=\"201.7123\"/><text fill=\"#000000\" font-family=\"sans-serif\" font-size=\"13\" lengthAdjust=\"spacingAndGlyphs\" textLength=\"8\" x=\"275.0694\" y=\"175.4907\">1</text></a><!--MD5=[0a839d0f80c2d72d4b9b307f046d0de8]\n",
       "link E6 to E8--><a href=\"psysml:af89f277-c22a-4acb-b9c9-7f04d6a8a86b\" target=\"_top\" title=\"psysml:af89f277-c22a-4acb-b9c9-7f04d6a8a86b\" xlink:actuate=\"onRequest\" xlink:href=\"psysml:af89f277-c22a-4acb-b9c9-7f04d6a8a86b\" xlink:show=\"new\" xlink:title=\"psysml:af89f277-c22a-4acb-b9c9-7f04d6a8a86b\" xlink:type=\"simple\"><path d=\"M217.12,182.11 C237.83,191.04 269.92,199.22 290.7,200.86 \" fill=\"none\" id=\"E6-E8\" style=\"stroke: #383838; stroke-width: 3.0;\"/><text fill=\"#000000\" font-family=\"sans-serif\" font-size=\"13\" lengthAdjust=\"spacingAndGlyphs\" textLength=\"7\" x=\"276.105\" y=\"216.7421\">*</text></a><!--MD5=[0a839d0f80c2d72d4b9b307f046d0de8]\n",
       "link E6 to E8--><a href=\"psysml:6818c790-7ee4-49fa-b866-28c88d0d2e1e\" target=\"_top\" title=\"psysml:6818c790-7ee4-49fa-b866-28c88d0d2e1e\" xlink:actuate=\"onRequest\" xlink:href=\"psysml:6818c790-7ee4-49fa-b866-28c88d0d2e1e\" xlink:show=\"new\" xlink:title=\"psysml:6818c790-7ee4-49fa-b866-28c88d0d2e1e\" xlink:type=\"simple\"><path d=\"M217.12,161.53 C237.83,162.93 269.92,171.08 290.7,180.22 \" fill=\"none\" id=\"E6-E8-1\" style=\"stroke: #383838; stroke-width: 3.0;\"/><text fill=\"#000000\" font-family=\"sans-serif\" font-size=\"13\" lengthAdjust=\"spacingAndGlyphs\" textLength=\"7\" x=\"276.105\" y=\"189.7811\">*</text></a><!--MD5=[b8c9887a816f801ee51b4eebbe8f105b]\n",
       "@startuml\r\n",
       "left to right direction\r\n",
       "skinparam monochrome true\r\n",
       "skinparam classbackgroundcolor white\r\n",
       "skinparam shadowing false\r\n",
       "skinparam wrapWidth 300\r\n",
       "hide circle\r\n",
       "\r\n",
       "package \"AliasTest\" as E1  [[psysml:7e4311dd-4dd4-41de-a431-b17c5d614850 ]]  {\r\n",
       "comp usage \"q\" as E2  <<(T,blue) attribute>> [[psysml:789c28e5-5e95-405e-84fa-948507b238dc ]] {\r\n",
       "}\r\n",
       "comp def \"P1\" as E3  <<(T,blue) part def>> [[psysml:00588ae4-2df7-4d57-b3d7-e09c73d2d5b1 ]] {\r\n",
       "}\r\n",
       "comp usage \"porig1\" as E4  <<(T,blue) port>> [[psysml:236a437d-3673-4742-905a-959f5dd42893 ]] {\r\n",
       "}\r\n",
       "comp usage \"p1: P1\" as E5  <<(T,blue) part>> [[psysml:4e54ee4d-012b-498f-93d7-1afb3759d34d ]] {\r\n",
       "}\r\n",
       "comp usage \"po1\" as E6  <<(T,blue) port>> [[psysml:8965b7df-293c-4ee2-9b2b-715c01154c80 ]] {\r\n",
       "}\r\n",
       "comp usage \"p2: P1\" as E7  <<(T,blue) part>> [[psysml:77eadb46-ce1a-4e0f-9527-bb06765d2ea7 ]] {\r\n",
       "}\r\n",
       "comp usage \"pdest\" as E8  <<(T,blue) port>> [[psysml:db28622a-fbe8-4c7d-8fe4-9e164802e944 ]] {\r\n",
       "}\r\n",
       "E3 o- - \"1\"E4 [[psysml:10297d07-57fa-4f9d-a873-bd76f542a35c ]] \r\n",
       "E3 +.. \"1\"E4 [[psysml:4c29fec0-8309-450b-9bf3-4a2b28b77917 ]] \r\n",
       "E5 - -:|> E3 [[psysml:93a52ea3-a140-4bd2-b924-ec5ad15b1b7e ]] \r\n",
       "E5 o- - \"1\"E6 [[psysml:cdcbbeec-90be-4e1d-8c60-d92c8a6a7077 ]] \r\n",
       "E6 - -||> E4 [[psysml:b5614b00-f88c-4f87-85f7-609ca7f17bae ]] \r\n",
       "E7 - -:|> E3 [[psysml:87c48ed5-bc50-48bb-899d-f807bfcdc26e ]] \r\n",
       "E7 o- - \"1\"E8 [[psysml:5ff6c459-66f7-4338-82bb-16aa2b22f6b4 ]] \r\n",
       "E7 +.. \"1\"E8 [[psysml:4eb1c616-a5a7-47d5-8985-e84491dc2120 ]] \r\n",
       "E6 -[thickness=3]- \"*\"E8 [[psysml:af89f277-c22a-4acb-b9c9-7f04d6a8a86b ]] \r\n",
       "E6 -[thickness=3]- \"*\"E8 [[psysml:6818c790-7ee4-49fa-b866-28c88d0d2e1e ]] \r\n",
       "}\r\n",
       "@enduml\r\n",
       "\n",
       "PlantUML version 1.2020.13(Sat Jun 13 12:26:38 UTC 2020)\n",
       "(EPL source distribution)\n",
       "Java Runtime: OpenJDK Runtime Environment\n",
       "JVM: OpenJDK 64-Bit Server VM\n",
       "Default Encoding: UTF-8\n",
       "Language: en\n",
       "Country: null\n",
       "--></g></svg>"
      ]
     },
     "execution_count": 22,
     "metadata": {},
     "output_type": "execute_result"
    }
   ],
   "source": [
    "%viz --style=\"LR\" --view=\"MIXED\" \"AliasTest\""
   ]
  },
  {
   "cell_type": "code",
   "execution_count": 23,
   "id": "f6db5579",
   "metadata": {
    "execution": {
     "iopub.execute_input": "2021-08-04T06:25:31.555396Z",
     "iopub.status.busy": "2021-08-04T06:25:31.554960Z",
     "iopub.status.idle": "2021-08-04T06:25:31.583625Z",
     "shell.execute_reply": "2021-08-04T06:25:31.583371Z"
    }
   },
   "outputs": [
    {
     "data": {
      "image/svg+xml": [
       "<?xml version=\"1.0\" encoding=\"UTF-8\" standalone=\"no\"?><svg xmlns=\"http://www.w3.org/2000/svg\" xmlns:xlink=\"http://www.w3.org/1999/xlink\" contentScriptType=\"application/ecmascript\" contentStyleType=\"text/css\" height=\"327px\" preserveAspectRatio=\"none\" style=\"width:304px;height:327px;\" version=\"1.1\" viewBox=\"0 0 304 327\" width=\"304px\" zoomAndPan=\"magnify\"><defs><filter height=\"300%\" id=\"fmo66olgvpkvb\" width=\"300%\" x=\"-1\" y=\"-1\"><feGaussianBlur result=\"blurOut\" stdDeviation=\"2.0\"/><feColorMatrix in=\"blurOut\" result=\"blurOut2\" type=\"matrix\" values=\"0 0 0 0 0 0 0 0 0 0 0 0 0 0 0 0 0 0 .4 0\"/><feOffset dx=\"4.0\" dy=\"4.0\" in=\"blurOut2\" result=\"blurOut3\"/><feBlend in=\"SourceGraphic\" in2=\"blurOut3\" mode=\"normal\"/></filter></defs><g><!--MD5=[fbc87193dbaf4d95561dea2c320d4a47]\n",
       "cluster E1--><a href=\"psysml:7e4311dd-4dd4-41de-a431-b17c5d614850\" target=\"_top\" title=\"psysml:7e4311dd-4dd4-41de-a431-b17c5d614850\" xlink:actuate=\"onRequest\" xlink:href=\"psysml:7e4311dd-4dd4-41de-a431-b17c5d614850\" xlink:show=\"new\" xlink:title=\"psysml:7e4311dd-4dd4-41de-a431-b17c5d614850\" xlink:type=\"simple\"><polygon fill=\"#FFFFFF\" filter=\"url(#fmo66olgvpkvb)\" points=\"16,6,94,6,101,28.2969,282,28.2969,282,315,16,315,16,6\" style=\"stroke: #000000; stroke-width: 1.5;\"/><line style=\"stroke: #000000; stroke-width: 1.5;\" x1=\"16\" x2=\"101\" y1=\"28.2969\" y2=\"28.2969\"/><text fill=\"#000000\" font-family=\"sans-serif\" font-size=\"14\" font-weight=\"bold\" lengthAdjust=\"spacingAndGlyphs\" textLength=\"72\" x=\"20\" y=\"20.9951\">AliasTest</text></a><!--MD5=[b4997ac47864f28c2f74865a473b2911]\n",
       "class E2--><a href=\"psysml:789c28e5-5e95-405e-84fa-948507b238dc\" target=\"_top\" title=\"psysml:789c28e5-5e95-405e-84fa-948507b238dc\" xlink:actuate=\"onRequest\" xlink:href=\"psysml:789c28e5-5e95-405e-84fa-948507b238dc\" xlink:show=\"new\" xlink:title=\"psysml:789c28e5-5e95-405e-84fa-948507b238dc\" xlink:type=\"simple\"><rect fill=\"#FEFECE\" filter=\"url(#fmo66olgvpkvb)\" height=\"45.9375\" id=\"E2\" rx=\"10\" ry=\"10\" style=\"stroke: #A80036; stroke-width: 1.5;\" width=\"71\" x=\"194.5\" y=\"41\"/><text fill=\"#000000\" font-family=\"sans-serif\" font-size=\"12\" font-style=\"italic\" lengthAdjust=\"spacingAndGlyphs\" textLength=\"69\" x=\"195.5\" y=\"57.1387\">«attribute»</text><text fill=\"#000000\" font-family=\"sans-serif\" font-size=\"12\" lengthAdjust=\"spacingAndGlyphs\" textLength=\"8\" x=\"226\" y=\"71.1074\">q</text><line style=\"stroke: #A80036; stroke-width: 1.5;\" x1=\"195.5\" x2=\"264.5\" y1=\"78.9375\" y2=\"78.9375\"/></a><!--MD5=[09b614a08d8cba4a07c9adeb5e0fee81]\n",
       "class E3--><a href=\"psysml:00588ae4-2df7-4d57-b3d7-e09c73d2d5b1\" target=\"_top\" title=\"psysml:00588ae4-2df7-4d57-b3d7-e09c73d2d5b1\" xlink:actuate=\"onRequest\" xlink:href=\"psysml:00588ae4-2df7-4d57-b3d7-e09c73d2d5b1\" xlink:show=\"new\" xlink:title=\"psysml:00588ae4-2df7-4d57-b3d7-e09c73d2d5b1\" xlink:type=\"simple\"><rect fill=\"#FEFECE\" filter=\"url(#fmo66olgvpkvb)\" height=\"45.9375\" id=\"E3\" style=\"stroke: #A80036; stroke-width: 1.5;\" width=\"66\" x=\"168\" y=\"147\"/><text fill=\"#000000\" font-family=\"sans-serif\" font-size=\"12\" font-style=\"italic\" lengthAdjust=\"spacingAndGlyphs\" textLength=\"64\" x=\"169\" y=\"163.1387\">«part def»</text><text fill=\"#000000\" font-family=\"sans-serif\" font-size=\"12\" lengthAdjust=\"spacingAndGlyphs\" textLength=\"16\" x=\"193\" y=\"177.1074\">P1</text><line style=\"stroke: #A80036; stroke-width: 1.5;\" x1=\"169\" x2=\"233\" y1=\"184.9375\" y2=\"184.9375\"/></a><!--MD5=[ebbe1d658d1005bcc118a6aa81145e00]\n",
       "class E4--><a href=\"psysml:236a437d-3673-4742-905a-959f5dd42893\" target=\"_top\" title=\"psysml:236a437d-3673-4742-905a-959f5dd42893\" xlink:actuate=\"onRequest\" xlink:href=\"psysml:236a437d-3673-4742-905a-959f5dd42893\" xlink:show=\"new\" xlink:title=\"psysml:236a437d-3673-4742-905a-959f5dd42893\" xlink:type=\"simple\"><rect fill=\"#FEFECE\" filter=\"url(#fmo66olgvpkvb)\" height=\"45.9375\" id=\"E4\" rx=\"10\" ry=\"10\" style=\"stroke: #A80036; stroke-width: 1.5;\" width=\"46\" x=\"178\" y=\"253\"/><text fill=\"#000000\" font-family=\"sans-serif\" font-size=\"12\" font-style=\"italic\" lengthAdjust=\"spacingAndGlyphs\" textLength=\"40\" x=\"181\" y=\"269.1387\">«port»</text><text fill=\"#000000\" font-family=\"sans-serif\" font-size=\"12\" lengthAdjust=\"spacingAndGlyphs\" textLength=\"40\" x=\"181\" y=\"283.1074\">porig1</text><line style=\"stroke: #A80036; stroke-width: 1.5;\" x1=\"179\" x2=\"223\" y1=\"290.9375\" y2=\"290.9375\"/></a><!--MD5=[270fce915f116d4de14055a7c1d9a0f3]\n",
       "class E5--><a href=\"psysml:4e54ee4d-012b-498f-93d7-1afb3759d34d\" target=\"_top\" title=\"psysml:4e54ee4d-012b-498f-93d7-1afb3759d34d\" xlink:actuate=\"onRequest\" xlink:href=\"psysml:4e54ee4d-012b-498f-93d7-1afb3759d34d\" xlink:show=\"new\" xlink:title=\"psysml:4e54ee4d-012b-498f-93d7-1afb3759d34d\" xlink:type=\"simple\"><rect fill=\"#FEFECE\" filter=\"url(#fmo66olgvpkvb)\" height=\"45.9375\" id=\"E5\" rx=\"10\" ry=\"10\" style=\"stroke: #A80036; stroke-width: 1.5;\" width=\"46\" x=\"113\" y=\"41\"/><text fill=\"#000000\" font-family=\"sans-serif\" font-size=\"12\" font-style=\"italic\" lengthAdjust=\"spacingAndGlyphs\" textLength=\"40\" x=\"116\" y=\"57.1387\">«part»</text><text fill=\"#000000\" font-family=\"sans-serif\" font-size=\"12\" lengthAdjust=\"spacingAndGlyphs\" textLength=\"40\" x=\"116\" y=\"71.1074\">p1: P1</text><line style=\"stroke: #A80036; stroke-width: 1.5;\" x1=\"114\" x2=\"158\" y1=\"78.9375\" y2=\"78.9375\"/></a><!--MD5=[60a26617385b1d2d0262a64233df1f8d]\n",
       "class E6--><a href=\"psysml:8965b7df-293c-4ee2-9b2b-715c01154c80\" target=\"_top\" title=\"psysml:8965b7df-293c-4ee2-9b2b-715c01154c80\" xlink:actuate=\"onRequest\" xlink:href=\"psysml:8965b7df-293c-4ee2-9b2b-715c01154c80\" xlink:show=\"new\" xlink:title=\"psysml:8965b7df-293c-4ee2-9b2b-715c01154c80\" xlink:type=\"simple\"><rect fill=\"#FEFECE\" filter=\"url(#fmo66olgvpkvb)\" height=\"45.9375\" id=\"E6\" rx=\"10\" ry=\"10\" style=\"stroke: #A80036; stroke-width: 1.5;\" width=\"42\" x=\"91\" y=\"147\"/><text fill=\"#000000\" font-family=\"sans-serif\" font-size=\"12\" font-style=\"italic\" lengthAdjust=\"spacingAndGlyphs\" textLength=\"40\" x=\"92\" y=\"163.1387\">«port»</text><text fill=\"#000000\" font-family=\"sans-serif\" font-size=\"12\" lengthAdjust=\"spacingAndGlyphs\" textLength=\"24\" x=\"100\" y=\"177.1074\">po1</text><line style=\"stroke: #A80036; stroke-width: 1.5;\" x1=\"92\" x2=\"132\" y1=\"184.9375\" y2=\"184.9375\"/></a><!--MD5=[2156ba9850f5573cc1fc38a6a4b2f02b]\n",
       "class E7--><a href=\"psysml:77eadb46-ce1a-4e0f-9527-bb06765d2ea7\" target=\"_top\" title=\"psysml:77eadb46-ce1a-4e0f-9527-bb06765d2ea7\" xlink:actuate=\"onRequest\" xlink:href=\"psysml:77eadb46-ce1a-4e0f-9527-bb06765d2ea7\" xlink:show=\"new\" xlink:title=\"psysml:77eadb46-ce1a-4e0f-9527-bb06765d2ea7\" xlink:type=\"simple\"><rect fill=\"#FEFECE\" filter=\"url(#fmo66olgvpkvb)\" height=\"45.9375\" id=\"E7\" rx=\"10\" ry=\"10\" style=\"stroke: #A80036; stroke-width: 1.5;\" width=\"46\" x=\"32\" y=\"41\"/><text fill=\"#000000\" font-family=\"sans-serif\" font-size=\"12\" font-style=\"italic\" lengthAdjust=\"spacingAndGlyphs\" textLength=\"40\" x=\"35\" y=\"57.1387\">«part»</text><text fill=\"#000000\" font-family=\"sans-serif\" font-size=\"12\" lengthAdjust=\"spacingAndGlyphs\" textLength=\"40\" x=\"35\" y=\"71.1074\">p2: P1</text><line style=\"stroke: #A80036; stroke-width: 1.5;\" x1=\"33\" x2=\"77\" y1=\"78.9375\" y2=\"78.9375\"/></a><!--MD5=[b9389687b975829384b498ac4b7476b2]\n",
       "class E8--><a href=\"psysml:db28622a-fbe8-4c7d-8fe4-9e164802e944\" target=\"_top\" title=\"psysml:db28622a-fbe8-4c7d-8fe4-9e164802e944\" xlink:actuate=\"onRequest\" xlink:href=\"psysml:db28622a-fbe8-4c7d-8fe4-9e164802e944\" xlink:show=\"new\" xlink:title=\"psysml:db28622a-fbe8-4c7d-8fe4-9e164802e944\" xlink:type=\"simple\"><rect fill=\"#FEFECE\" filter=\"url(#fmo66olgvpkvb)\" height=\"45.9375\" id=\"E8\" rx=\"10\" ry=\"10\" style=\"stroke: #A80036; stroke-width: 1.5;\" width=\"42\" x=\"63\" y=\"253\"/><text fill=\"#000000\" font-family=\"sans-serif\" font-size=\"12\" font-style=\"italic\" lengthAdjust=\"spacingAndGlyphs\" textLength=\"40\" x=\"64\" y=\"269.1387\">«port»</text><text fill=\"#000000\" font-family=\"sans-serif\" font-size=\"12\" lengthAdjust=\"spacingAndGlyphs\" textLength=\"36\" x=\"66\" y=\"283.1074\">pdest</text><line style=\"stroke: #A80036; stroke-width: 1.5;\" x1=\"64\" x2=\"104\" y1=\"290.9375\" y2=\"290.9375\"/></a><!--MD5=[4672eba38e49728da53d11aeb285b987]\n",
       "reverse link E3 to E4--><a href=\"psysml:10297d07-57fa-4f9d-a873-bd76f542a35c\" target=\"_top\" title=\"psysml:10297d07-57fa-4f9d-a873-bd76f542a35c\" xlink:actuate=\"onRequest\" xlink:href=\"psysml:10297d07-57fa-4f9d-a873-bd76f542a35c\" xlink:show=\"new\" xlink:title=\"psysml:10297d07-57fa-4f9d-a873-bd76f542a35c\" xlink:type=\"simple\"><path d=\"M188.84,206.44 C187.7,221.87 188.21,239.47 190.36,252.98 \" fill=\"none\" id=\"E3&lt;-E4\" style=\"stroke: #A80036; stroke-width: 1.0;\"/><polygon fill=\"#FFFFFF\" points=\"190.35,193.06,185.7032,198.5743,189.006,204.9845,193.6528,199.4702,190.35,193.06\" style=\"stroke: #A80036; stroke-width: 1.0;\"/><text fill=\"#000000\" font-family=\"sans-serif\" font-size=\"13\" lengthAdjust=\"spacingAndGlyphs\" textLength=\"8\" x=\"178.4255\" y=\"241.8709\">1</text></a><!--MD5=[4672eba38e49728da53d11aeb285b987]\n",
       "reverse link E3 to E4--><a href=\"psysml:4c29fec0-8309-450b-9bf3-4a2b28b77917\" target=\"_top\" title=\"psysml:4c29fec0-8309-450b-9bf3-4a2b28b77917\" xlink:actuate=\"onRequest\" xlink:href=\"psysml:4c29fec0-8309-450b-9bf3-4a2b28b77917\" xlink:show=\"new\" xlink:title=\"psysml:4c29fec0-8309-450b-9bf3-4a2b28b77917\" xlink:type=\"simple\"><path d=\"M214.01,208.34 C215.03,223.3 214.45,240.02 212.27,252.98 \" fill=\"none\" id=\"E3&lt;-E4-1\" style=\"stroke: #A80036; stroke-width: 1.0; stroke-dasharray: 7.0,7.0;\"/><ellipse cx=\"213.1693\" cy=\"201.0093\" fill=\"#FFFFFF\" rx=\"8\" ry=\"8\" style=\"stroke: #A80036; stroke-width: 1.0;\"/><line style=\"stroke: #A80036; stroke-width: 1.0;\" x1=\"214.0687\" x2=\"212.27\" y1=\"208.9586\" y2=\"193.06\"/><line style=\"stroke: #A80036; stroke-width: 1.0;\" x1=\"205.2201\" x2=\"221.1186\" y1=\"201.9086\" y2=\"200.1099\"/><text fill=\"#000000\" font-family=\"sans-serif\" font-size=\"13\" lengthAdjust=\"spacingAndGlyphs\" textLength=\"8\" x=\"206.2238\" y=\"241.8709\">1</text></a><!--MD5=[e9be52314489bd878ff4c7144b63c9e1]\n",
       "link E5 to E3--><a href=\"psysml:93a52ea3-a140-4bd2-b924-ec5ad15b1b7e\" target=\"_top\" title=\"psysml:93a52ea3-a140-4bd2-b924-ec5ad15b1b7e\" xlink:actuate=\"onRequest\" xlink:href=\"psysml:93a52ea3-a140-4bd2-b924-ec5ad15b1b7e\" xlink:show=\"new\" xlink:title=\"psysml:93a52ea3-a140-4bd2-b924-ec5ad15b1b7e\" xlink:type=\"simple\"><path d=\"M149.78,87.06 C157.54,99.47 167.45,115.33 176.49,129.78 \" fill=\"none\" id=\"E5-&gt;E3\" style=\"stroke: #A80036; stroke-width: 1.0;\"/><polygon fill=\"#FFFFFF\" points=\"187.24,146.98,171.2331,134.5792,183.1045,127.1584,187.24,146.98\" style=\"stroke: #A80036; stroke-width: 1.0;\"/><ellipse cx=\"169.9076\" cy=\"128.6857\" fill=\"#A80036\" rx=\"2\" ry=\"2\" style=\"stroke: #A80036; stroke-width: 1.0;\"/><ellipse cx=\"178.3872\" cy=\"123.3851\" fill=\"#A80036\" rx=\"2\" ry=\"2\" style=\"stroke: #A80036; stroke-width: 1.0;\"/></a><!--MD5=[85d356282659285ab4b2cfe2f634dd2b]\n",
       "reverse link E5 to E6--><a href=\"psysml:cdcbbeec-90be-4e1d-8c60-d92c8a6a7077\" target=\"_top\" title=\"psysml:cdcbbeec-90be-4e1d-8c60-d92c8a6a7077\" xlink:actuate=\"onRequest\" xlink:href=\"psysml:cdcbbeec-90be-4e1d-8c60-d92c8a6a7077\" xlink:show=\"new\" xlink:title=\"psysml:cdcbbeec-90be-4e1d-8c60-d92c8a6a7077\" xlink:type=\"simple\"><path d=\"M127.93,99.96 C124.34,115.51 120.23,133.33 117.08,146.98 \" fill=\"none\" id=\"E5&lt;-E6\" style=\"stroke: #A80036; stroke-width: 1.0;\"/><polygon fill=\"#FFFFFF\" points=\"130.91,87.06,125.6616,92.0052,128.2078,98.7518,133.4562,93.8066,130.91,87.06\" style=\"stroke: #A80036; stroke-width: 1.0;\"/><text fill=\"#000000\" font-family=\"sans-serif\" font-size=\"13\" lengthAdjust=\"spacingAndGlyphs\" textLength=\"8\" x=\"109.3703\" y=\"135.8709\">1</text></a><!--MD5=[f667431f98296947986a1a7595a31603]\n",
       "link E6 to E4--><a href=\"psysml:b5614b00-f88c-4f87-85f7-609ca7f17bae\" target=\"_top\" title=\"psysml:b5614b00-f88c-4f87-85f7-609ca7f17bae\" xlink:actuate=\"onRequest\" xlink:href=\"psysml:b5614b00-f88c-4f87-85f7-609ca7f17bae\" xlink:show=\"new\" xlink:title=\"psysml:b5614b00-f88c-4f87-85f7-609ca7f17bae\" xlink:type=\"simple\"><path d=\"M130.87,193.06 C141.97,206.02 156.28,222.74 169.08,237.7 \" fill=\"none\" id=\"E6-&gt;E4\" style=\"stroke: #A80036; stroke-width: 1.0;\"/><polygon fill=\"#FFFFFF\" points=\"182.15,252.98,164.4809,243.0905,175.1204,233.9909,182.15,252.98\" style=\"stroke: #A80036; stroke-width: 1.0;\"/><line style=\"stroke: #A80036; stroke-width: 2.0;\" x1=\"162.011\" x2=\"172.6505\" y1=\"240.2026\" y2=\"231.1031\"/></a><!--MD5=[14ccda38c055a5c0da953d572bc50960]\n",
       "link E7 to E3--><a href=\"psysml:87c48ed5-bc50-48bb-899d-f807bfcdc26e\" target=\"_top\" title=\"psysml:87c48ed5-bc50-48bb-899d-f807bfcdc26e\" xlink:actuate=\"onRequest\" xlink:href=\"psysml:87c48ed5-bc50-48bb-899d-f807bfcdc26e\" xlink:show=\"new\" xlink:title=\"psysml:87c48ed5-bc50-48bb-899d-f807bfcdc26e\" xlink:type=\"simple\"><path d=\"M78.13,81.48 C98.32,95.86 128.25,117.18 153.52,135.18 \" fill=\"none\" id=\"E7-&gt;E3\" style=\"stroke: #A80036; stroke-width: 1.0;\"/><polygon fill=\"#FFFFFF\" points=\"170.09,146.98,150.5533,141.6586,158.6755,130.2555,170.09,146.98\" style=\"stroke: #A80036; stroke-width: 1.0;\"/><ellipse cx=\"147.0709\" cy=\"136.7227\" fill=\"#A80036\" rx=\"2\" ry=\"2\" style=\"stroke: #A80036; stroke-width: 1.0;\"/><ellipse cx=\"152.8725\" cy=\"128.5776\" fill=\"#A80036\" rx=\"2\" ry=\"2\" style=\"stroke: #A80036; stroke-width: 1.0;\"/></a><!--MD5=[dc164f5e8a733ab456ef1add180e9e34]\n",
       "reverse link E7 to E8--><a href=\"psysml:5ff6c459-66f7-4338-82bb-16aa2b22f6b4\" target=\"_top\" title=\"psysml:5ff6c459-66f7-4338-82bb-16aa2b22f6b4\" xlink:actuate=\"onRequest\" xlink:href=\"psysml:5ff6c459-66f7-4338-82bb-16aa2b22f6b4\" xlink:show=\"new\" xlink:title=\"psysml:5ff6c459-66f7-4338-82bb-16aa2b22f6b4\" xlink:type=\"simple\"><path d=\"M50.05,100.09 C51.65,143.61 62.25,216.5 72.75,252.9 \" fill=\"none\" id=\"E7&lt;-E8\" style=\"stroke: #A80036; stroke-width: 1.0;\"/><polygon fill=\"#FFFFFF\" points=\"49.85,87.08,45.9362,93.1366,50.0216,99.0788,53.9354,93.0222,49.85,87.08\" style=\"stroke: #A80036; stroke-width: 1.0;\"/><text fill=\"#000000\" font-family=\"sans-serif\" font-size=\"13\" lengthAdjust=\"spacingAndGlyphs\" textLength=\"8\" x=\"60.6516\" y=\"241.7694\">1</text></a><!--MD5=[dc164f5e8a733ab456ef1add180e9e34]\n",
       "reverse link E7 to E8--><a href=\"psysml:4eb1c616-a5a7-47d5-8985-e84491dc2120\" target=\"_top\" title=\"psysml:4eb1c616-a5a7-47d5-8985-e84491dc2120\" xlink:actuate=\"onRequest\" xlink:href=\"psysml:4eb1c616-a5a7-47d5-8985-e84491dc2120\" xlink:show=\"new\" xlink:title=\"psysml:4eb1c616-a5a7-47d5-8985-e84491dc2120\" xlink:type=\"simple\"><path d=\"M70.64,101.8 C81.15,145.5 90.39,216.97 89.63,252.9 \" fill=\"none\" id=\"E7&lt;-E8-1\" style=\"stroke: #A80036; stroke-width: 1.0; stroke-dasharray: 7.0,7.0;\"/><ellipse cx=\"68.7794\" cy=\"94.813\" fill=\"#FFFFFF\" rx=\"8\" ry=\"8\" style=\"stroke: #A80036; stroke-width: 1.0;\"/><line style=\"stroke: #A80036; stroke-width: 1.0;\" x1=\"70.8289\" x2=\"66.73\" y1=\"102.5461\" y2=\"87.08\"/><line style=\"stroke: #A80036; stroke-width: 1.0;\" x1=\"61.0464\" x2=\"76.5125\" y1=\"96.8625\" y2=\"92.7636\"/><text fill=\"#000000\" font-family=\"sans-serif\" font-size=\"13\" lengthAdjust=\"spacingAndGlyphs\" textLength=\"8\" x=\"92.2181\" y=\"241.7694\">1</text></a><!--MD5=[0a839d0f80c2d72d4b9b307f046d0de8]\n",
       "link E6 to E8--><a href=\"psysml:af89f277-c22a-4acb-b9c9-7f04d6a8a86b\" target=\"_top\" title=\"psysml:af89f277-c22a-4acb-b9c9-7f04d6a8a86b\" xlink:actuate=\"onRequest\" xlink:href=\"psysml:af89f277-c22a-4acb-b9c9-7f04d6a8a86b\" xlink:show=\"new\" xlink:title=\"psysml:af89f277-c22a-4acb-b9c9-7f04d6a8a86b\" xlink:type=\"simple\"><path d=\"M95.42,193.06 C87.86,210.7 81.23,235.34 79.29,252.98 \" fill=\"none\" id=\"E6-E8\" style=\"stroke: #A80036; stroke-width: 3.0;\"/><text fill=\"#000000\" font-family=\"sans-serif\" font-size=\"13\" lengthAdjust=\"spacingAndGlyphs\" textLength=\"7\" x=\"78.9648\" y=\"241.8709\">*</text></a><!--MD5=[0a839d0f80c2d72d4b9b307f046d0de8]\n",
       "link E6 to E8--><a href=\"psysml:6818c790-7ee4-49fa-b866-28c88d0d2e1e\" target=\"_top\" title=\"psysml:6818c790-7ee4-49fa-b866-28c88d0d2e1e\" xlink:actuate=\"onRequest\" xlink:href=\"psysml:6818c790-7ee4-49fa-b866-28c88d0d2e1e\" xlink:show=\"new\" xlink:title=\"psysml:6818c790-7ee4-49fa-b866-28c88d0d2e1e\" xlink:type=\"simple\"><path d=\"M117.33,193.06 C115.55,210.7 108.92,235.34 101.2,252.98 \" fill=\"none\" id=\"E6-E8-1\" style=\"stroke: #A80036; stroke-width: 3.0;\"/><text fill=\"#000000\" font-family=\"sans-serif\" font-size=\"13\" lengthAdjust=\"spacingAndGlyphs\" textLength=\"7\" x=\"97.8819\" y=\"241.8709\">*</text></a><!--MD5=[c06aabebda7ca03ba8c70c097bad79a6]\n",
       "@startuml\r\n",
       "skinparam wrapWidth 300\r\n",
       "hide circle\r\n",
       "\r\n",
       "package \"AliasTest\" as E1  [[psysml:7e4311dd-4dd4-41de-a431-b17c5d614850 ]]  {\r\n",
       "comp usage \"q\" as E2  <<(T,blue) attribute>> [[psysml:789c28e5-5e95-405e-84fa-948507b238dc ]] {\r\n",
       "}\r\n",
       "comp def \"P1\" as E3  <<(T,blue) part def>> [[psysml:00588ae4-2df7-4d57-b3d7-e09c73d2d5b1 ]] {\r\n",
       "}\r\n",
       "comp usage \"porig1\" as E4  <<(T,blue) port>> [[psysml:236a437d-3673-4742-905a-959f5dd42893 ]] {\r\n",
       "}\r\n",
       "comp usage \"p1: P1\" as E5  <<(T,blue) part>> [[psysml:4e54ee4d-012b-498f-93d7-1afb3759d34d ]] {\r\n",
       "}\r\n",
       "comp usage \"po1\" as E6  <<(T,blue) port>> [[psysml:8965b7df-293c-4ee2-9b2b-715c01154c80 ]] {\r\n",
       "}\r\n",
       "comp usage \"p2: P1\" as E7  <<(T,blue) part>> [[psysml:77eadb46-ce1a-4e0f-9527-bb06765d2ea7 ]] {\r\n",
       "}\r\n",
       "comp usage \"pdest\" as E8  <<(T,blue) port>> [[psysml:db28622a-fbe8-4c7d-8fe4-9e164802e944 ]] {\r\n",
       "}\r\n",
       "E3 o- - \"1\"E4 [[psysml:10297d07-57fa-4f9d-a873-bd76f542a35c ]] \r\n",
       "E3 +.. \"1\"E4 [[psysml:4c29fec0-8309-450b-9bf3-4a2b28b77917 ]] \r\n",
       "E5 - -:|> E3 [[psysml:93a52ea3-a140-4bd2-b924-ec5ad15b1b7e ]] \r\n",
       "E5 o- - \"1\"E6 [[psysml:cdcbbeec-90be-4e1d-8c60-d92c8a6a7077 ]] \r\n",
       "E6 - -||> E4 [[psysml:b5614b00-f88c-4f87-85f7-609ca7f17bae ]] \r\n",
       "E7 - -:|> E3 [[psysml:87c48ed5-bc50-48bb-899d-f807bfcdc26e ]] \r\n",
       "E7 o- - \"1\"E8 [[psysml:5ff6c459-66f7-4338-82bb-16aa2b22f6b4 ]] \r\n",
       "E7 +.. \"1\"E8 [[psysml:4eb1c616-a5a7-47d5-8985-e84491dc2120 ]] \r\n",
       "E6 -[thickness=3]- \"*\"E8 [[psysml:af89f277-c22a-4acb-b9c9-7f04d6a8a86b ]] \r\n",
       "E6 -[thickness=3]- \"*\"E8 [[psysml:6818c790-7ee4-49fa-b866-28c88d0d2e1e ]] \r\n",
       "}\r\n",
       "@enduml\r\n",
       "\n",
       "PlantUML version 1.2020.13(Sat Jun 13 12:26:38 UTC 2020)\n",
       "(EPL source distribution)\n",
       "Java Runtime: OpenJDK Runtime Environment\n",
       "JVM: OpenJDK 64-Bit Server VM\n",
       "Default Encoding: UTF-8\n",
       "Language: en\n",
       "Country: null\n",
       "--></g></svg>"
      ]
     },
     "execution_count": 23,
     "metadata": {},
     "output_type": "execute_result"
    }
   ],
   "source": [
    "%viz --style=\"STDCOLOR\" --view=\"Default\" \"AliasTest\""
   ]
  },
  {
   "cell_type": "code",
   "execution_count": 24,
   "id": "e4f7c50b",
   "metadata": {
    "execution": {
     "iopub.execute_input": "2021-08-04T06:25:31.634353Z",
     "iopub.status.busy": "2021-08-04T06:25:31.633795Z",
     "iopub.status.idle": "2021-08-04T06:25:31.668229Z",
     "shell.execute_reply": "2021-08-04T06:25:31.667859Z"
    }
   },
   "outputs": [
    {
     "data": {
      "image/svg+xml": [
       "<?xml version=\"1.0\" encoding=\"UTF-8\" standalone=\"no\"?><svg xmlns=\"http://www.w3.org/2000/svg\" xmlns:xlink=\"http://www.w3.org/1999/xlink\" contentScriptType=\"application/ecmascript\" contentStyleType=\"text/css\" height=\"327px\" preserveAspectRatio=\"none\" style=\"width:304px;height:327px;\" version=\"1.1\" viewBox=\"0 0 304 327\" width=\"304px\" zoomAndPan=\"magnify\"><defs><filter height=\"300%\" id=\"fmo66olgvpkvb\" width=\"300%\" x=\"-1\" y=\"-1\"><feGaussianBlur result=\"blurOut\" stdDeviation=\"2.0\"/><feColorMatrix in=\"blurOut\" result=\"blurOut2\" type=\"matrix\" values=\"0 0 0 0 0 0 0 0 0 0 0 0 0 0 0 0 0 0 .4 0\"/><feOffset dx=\"4.0\" dy=\"4.0\" in=\"blurOut2\" result=\"blurOut3\"/><feBlend in=\"SourceGraphic\" in2=\"blurOut3\" mode=\"normal\"/></filter></defs><g><!--MD5=[fbc87193dbaf4d95561dea2c320d4a47]\n",
       "cluster E1--><a href=\"psysml:7e4311dd-4dd4-41de-a431-b17c5d614850\" target=\"_top\" title=\"psysml:7e4311dd-4dd4-41de-a431-b17c5d614850\" xlink:actuate=\"onRequest\" xlink:href=\"psysml:7e4311dd-4dd4-41de-a431-b17c5d614850\" xlink:show=\"new\" xlink:title=\"psysml:7e4311dd-4dd4-41de-a431-b17c5d614850\" xlink:type=\"simple\"><polygon fill=\"#FFFFFF\" filter=\"url(#fmo66olgvpkvb)\" points=\"16,6,94,6,101,28.2969,282,28.2969,282,315,16,315,16,6\" style=\"stroke: #000000; stroke-width: 1.5;\"/><line style=\"stroke: #000000; stroke-width: 1.5;\" x1=\"16\" x2=\"101\" y1=\"28.2969\" y2=\"28.2969\"/><text fill=\"#000000\" font-family=\"sans-serif\" font-size=\"14\" font-weight=\"bold\" lengthAdjust=\"spacingAndGlyphs\" textLength=\"72\" x=\"20\" y=\"20.9951\">AliasTest</text></a><!--MD5=[b4997ac47864f28c2f74865a473b2911]\n",
       "class E2--><a href=\"psysml:789c28e5-5e95-405e-84fa-948507b238dc\" target=\"_top\" title=\"psysml:789c28e5-5e95-405e-84fa-948507b238dc\" xlink:actuate=\"onRequest\" xlink:href=\"psysml:789c28e5-5e95-405e-84fa-948507b238dc\" xlink:show=\"new\" xlink:title=\"psysml:789c28e5-5e95-405e-84fa-948507b238dc\" xlink:type=\"simple\"><rect fill=\"#FEFECE\" filter=\"url(#fmo66olgvpkvb)\" height=\"45.9375\" id=\"E2\" rx=\"10\" ry=\"10\" style=\"stroke: #A80036; stroke-width: 1.5;\" width=\"71\" x=\"194.5\" y=\"41\"/><text fill=\"#000000\" font-family=\"sans-serif\" font-size=\"12\" font-style=\"italic\" lengthAdjust=\"spacingAndGlyphs\" textLength=\"69\" x=\"195.5\" y=\"57.1387\">«attribute»</text><text fill=\"#000000\" font-family=\"sans-serif\" font-size=\"12\" lengthAdjust=\"spacingAndGlyphs\" textLength=\"8\" x=\"226\" y=\"71.1074\">q</text><line style=\"stroke: #A80036; stroke-width: 1.5;\" x1=\"195.5\" x2=\"264.5\" y1=\"78.9375\" y2=\"78.9375\"/></a><!--MD5=[09b614a08d8cba4a07c9adeb5e0fee81]\n",
       "class E3--><a href=\"psysml:00588ae4-2df7-4d57-b3d7-e09c73d2d5b1\" target=\"_top\" title=\"psysml:00588ae4-2df7-4d57-b3d7-e09c73d2d5b1\" xlink:actuate=\"onRequest\" xlink:href=\"psysml:00588ae4-2df7-4d57-b3d7-e09c73d2d5b1\" xlink:show=\"new\" xlink:title=\"psysml:00588ae4-2df7-4d57-b3d7-e09c73d2d5b1\" xlink:type=\"simple\"><rect fill=\"#FEFECE\" filter=\"url(#fmo66olgvpkvb)\" height=\"45.9375\" id=\"E3\" style=\"stroke: #A80036; stroke-width: 1.5;\" width=\"66\" x=\"168\" y=\"147\"/><text fill=\"#000000\" font-family=\"sans-serif\" font-size=\"12\" font-style=\"italic\" lengthAdjust=\"spacingAndGlyphs\" textLength=\"64\" x=\"169\" y=\"163.1387\">«part def»</text><text fill=\"#000000\" font-family=\"sans-serif\" font-size=\"12\" lengthAdjust=\"spacingAndGlyphs\" textLength=\"16\" x=\"193\" y=\"177.1074\">P1</text><line style=\"stroke: #A80036; stroke-width: 1.5;\" x1=\"169\" x2=\"233\" y1=\"184.9375\" y2=\"184.9375\"/></a><!--MD5=[ebbe1d658d1005bcc118a6aa81145e00]\n",
       "class E4--><a href=\"psysml:236a437d-3673-4742-905a-959f5dd42893\" target=\"_top\" title=\"psysml:236a437d-3673-4742-905a-959f5dd42893\" xlink:actuate=\"onRequest\" xlink:href=\"psysml:236a437d-3673-4742-905a-959f5dd42893\" xlink:show=\"new\" xlink:title=\"psysml:236a437d-3673-4742-905a-959f5dd42893\" xlink:type=\"simple\"><rect fill=\"#FEFECE\" filter=\"url(#fmo66olgvpkvb)\" height=\"45.9375\" id=\"E4\" rx=\"10\" ry=\"10\" style=\"stroke: #A80036; stroke-width: 1.5;\" width=\"46\" x=\"178\" y=\"253\"/><text fill=\"#000000\" font-family=\"sans-serif\" font-size=\"12\" font-style=\"italic\" lengthAdjust=\"spacingAndGlyphs\" textLength=\"40\" x=\"181\" y=\"269.1387\">«port»</text><text fill=\"#000000\" font-family=\"sans-serif\" font-size=\"12\" lengthAdjust=\"spacingAndGlyphs\" textLength=\"40\" x=\"181\" y=\"283.1074\">porig1</text><line style=\"stroke: #A80036; stroke-width: 1.5;\" x1=\"179\" x2=\"223\" y1=\"290.9375\" y2=\"290.9375\"/></a><!--MD5=[270fce915f116d4de14055a7c1d9a0f3]\n",
       "class E5--><a href=\"psysml:4e54ee4d-012b-498f-93d7-1afb3759d34d\" target=\"_top\" title=\"psysml:4e54ee4d-012b-498f-93d7-1afb3759d34d\" xlink:actuate=\"onRequest\" xlink:href=\"psysml:4e54ee4d-012b-498f-93d7-1afb3759d34d\" xlink:show=\"new\" xlink:title=\"psysml:4e54ee4d-012b-498f-93d7-1afb3759d34d\" xlink:type=\"simple\"><rect fill=\"#FEFECE\" filter=\"url(#fmo66olgvpkvb)\" height=\"45.9375\" id=\"E5\" rx=\"10\" ry=\"10\" style=\"stroke: #A80036; stroke-width: 1.5;\" width=\"46\" x=\"113\" y=\"41\"/><text fill=\"#000000\" font-family=\"sans-serif\" font-size=\"12\" font-style=\"italic\" lengthAdjust=\"spacingAndGlyphs\" textLength=\"40\" x=\"116\" y=\"57.1387\">«part»</text><text fill=\"#000000\" font-family=\"sans-serif\" font-size=\"12\" lengthAdjust=\"spacingAndGlyphs\" textLength=\"40\" x=\"116\" y=\"71.1074\">p1: P1</text><line style=\"stroke: #A80036; stroke-width: 1.5;\" x1=\"114\" x2=\"158\" y1=\"78.9375\" y2=\"78.9375\"/></a><!--MD5=[60a26617385b1d2d0262a64233df1f8d]\n",
       "class E6--><a href=\"psysml:8965b7df-293c-4ee2-9b2b-715c01154c80\" target=\"_top\" title=\"psysml:8965b7df-293c-4ee2-9b2b-715c01154c80\" xlink:actuate=\"onRequest\" xlink:href=\"psysml:8965b7df-293c-4ee2-9b2b-715c01154c80\" xlink:show=\"new\" xlink:title=\"psysml:8965b7df-293c-4ee2-9b2b-715c01154c80\" xlink:type=\"simple\"><rect fill=\"#FEFECE\" filter=\"url(#fmo66olgvpkvb)\" height=\"45.9375\" id=\"E6\" rx=\"10\" ry=\"10\" style=\"stroke: #A80036; stroke-width: 1.5;\" width=\"42\" x=\"91\" y=\"147\"/><text fill=\"#000000\" font-family=\"sans-serif\" font-size=\"12\" font-style=\"italic\" lengthAdjust=\"spacingAndGlyphs\" textLength=\"40\" x=\"92\" y=\"163.1387\">«port»</text><text fill=\"#000000\" font-family=\"sans-serif\" font-size=\"12\" lengthAdjust=\"spacingAndGlyphs\" textLength=\"24\" x=\"100\" y=\"177.1074\">po1</text><line style=\"stroke: #A80036; stroke-width: 1.5;\" x1=\"92\" x2=\"132\" y1=\"184.9375\" y2=\"184.9375\"/></a><!--MD5=[2156ba9850f5573cc1fc38a6a4b2f02b]\n",
       "class E7--><a href=\"psysml:77eadb46-ce1a-4e0f-9527-bb06765d2ea7\" target=\"_top\" title=\"psysml:77eadb46-ce1a-4e0f-9527-bb06765d2ea7\" xlink:actuate=\"onRequest\" xlink:href=\"psysml:77eadb46-ce1a-4e0f-9527-bb06765d2ea7\" xlink:show=\"new\" xlink:title=\"psysml:77eadb46-ce1a-4e0f-9527-bb06765d2ea7\" xlink:type=\"simple\"><rect fill=\"#FEFECE\" filter=\"url(#fmo66olgvpkvb)\" height=\"45.9375\" id=\"E7\" rx=\"10\" ry=\"10\" style=\"stroke: #A80036; stroke-width: 1.5;\" width=\"46\" x=\"32\" y=\"41\"/><text fill=\"#000000\" font-family=\"sans-serif\" font-size=\"12\" font-style=\"italic\" lengthAdjust=\"spacingAndGlyphs\" textLength=\"40\" x=\"35\" y=\"57.1387\">«part»</text><text fill=\"#000000\" font-family=\"sans-serif\" font-size=\"12\" lengthAdjust=\"spacingAndGlyphs\" textLength=\"40\" x=\"35\" y=\"71.1074\">p2: P1</text><line style=\"stroke: #A80036; stroke-width: 1.5;\" x1=\"33\" x2=\"77\" y1=\"78.9375\" y2=\"78.9375\"/></a><!--MD5=[b9389687b975829384b498ac4b7476b2]\n",
       "class E8--><a href=\"psysml:db28622a-fbe8-4c7d-8fe4-9e164802e944\" target=\"_top\" title=\"psysml:db28622a-fbe8-4c7d-8fe4-9e164802e944\" xlink:actuate=\"onRequest\" xlink:href=\"psysml:db28622a-fbe8-4c7d-8fe4-9e164802e944\" xlink:show=\"new\" xlink:title=\"psysml:db28622a-fbe8-4c7d-8fe4-9e164802e944\" xlink:type=\"simple\"><rect fill=\"#FEFECE\" filter=\"url(#fmo66olgvpkvb)\" height=\"45.9375\" id=\"E8\" rx=\"10\" ry=\"10\" style=\"stroke: #A80036; stroke-width: 1.5;\" width=\"42\" x=\"63\" y=\"253\"/><text fill=\"#000000\" font-family=\"sans-serif\" font-size=\"12\" font-style=\"italic\" lengthAdjust=\"spacingAndGlyphs\" textLength=\"40\" x=\"64\" y=\"269.1387\">«port»</text><text fill=\"#000000\" font-family=\"sans-serif\" font-size=\"12\" lengthAdjust=\"spacingAndGlyphs\" textLength=\"36\" x=\"66\" y=\"283.1074\">pdest</text><line style=\"stroke: #A80036; stroke-width: 1.5;\" x1=\"64\" x2=\"104\" y1=\"290.9375\" y2=\"290.9375\"/></a><!--MD5=[4672eba38e49728da53d11aeb285b987]\n",
       "reverse link E3 to E4--><a href=\"psysml:10297d07-57fa-4f9d-a873-bd76f542a35c\" target=\"_top\" title=\"psysml:10297d07-57fa-4f9d-a873-bd76f542a35c\" xlink:actuate=\"onRequest\" xlink:href=\"psysml:10297d07-57fa-4f9d-a873-bd76f542a35c\" xlink:show=\"new\" xlink:title=\"psysml:10297d07-57fa-4f9d-a873-bd76f542a35c\" xlink:type=\"simple\"><path d=\"M188.84,206.44 C187.7,221.87 188.21,239.47 190.36,252.98 \" fill=\"none\" id=\"E3&lt;-E4\" style=\"stroke: #A80036; stroke-width: 1.0;\"/><polygon fill=\"#FFFFFF\" points=\"190.35,193.06,185.7032,198.5743,189.006,204.9845,193.6528,199.4702,190.35,193.06\" style=\"stroke: #A80036; stroke-width: 1.0;\"/><text fill=\"#000000\" font-family=\"sans-serif\" font-size=\"13\" lengthAdjust=\"spacingAndGlyphs\" textLength=\"8\" x=\"178.4255\" y=\"241.8709\">1</text></a><!--MD5=[4672eba38e49728da53d11aeb285b987]\n",
       "reverse link E3 to E4--><a href=\"psysml:4c29fec0-8309-450b-9bf3-4a2b28b77917\" target=\"_top\" title=\"psysml:4c29fec0-8309-450b-9bf3-4a2b28b77917\" xlink:actuate=\"onRequest\" xlink:href=\"psysml:4c29fec0-8309-450b-9bf3-4a2b28b77917\" xlink:show=\"new\" xlink:title=\"psysml:4c29fec0-8309-450b-9bf3-4a2b28b77917\" xlink:type=\"simple\"><path d=\"M214.01,208.34 C215.03,223.3 214.45,240.02 212.27,252.98 \" fill=\"none\" id=\"E3&lt;-E4-1\" style=\"stroke: #A80036; stroke-width: 1.0; stroke-dasharray: 7.0,7.0;\"/><ellipse cx=\"213.1693\" cy=\"201.0093\" fill=\"#FFFFFF\" rx=\"8\" ry=\"8\" style=\"stroke: #A80036; stroke-width: 1.0;\"/><line style=\"stroke: #A80036; stroke-width: 1.0;\" x1=\"214.0687\" x2=\"212.27\" y1=\"208.9586\" y2=\"193.06\"/><line style=\"stroke: #A80036; stroke-width: 1.0;\" x1=\"205.2201\" x2=\"221.1186\" y1=\"201.9086\" y2=\"200.1099\"/><text fill=\"#000000\" font-family=\"sans-serif\" font-size=\"13\" lengthAdjust=\"spacingAndGlyphs\" textLength=\"8\" x=\"206.2238\" y=\"241.8709\">1</text></a><!--MD5=[e9be52314489bd878ff4c7144b63c9e1]\n",
       "link E5 to E3--><a href=\"psysml:93a52ea3-a140-4bd2-b924-ec5ad15b1b7e\" target=\"_top\" title=\"psysml:93a52ea3-a140-4bd2-b924-ec5ad15b1b7e\" xlink:actuate=\"onRequest\" xlink:href=\"psysml:93a52ea3-a140-4bd2-b924-ec5ad15b1b7e\" xlink:show=\"new\" xlink:title=\"psysml:93a52ea3-a140-4bd2-b924-ec5ad15b1b7e\" xlink:type=\"simple\"><path d=\"M149.78,87.06 C157.54,99.47 167.45,115.33 176.49,129.78 \" fill=\"none\" id=\"E5-&gt;E3\" style=\"stroke: #A80036; stroke-width: 1.0;\"/><polygon fill=\"#FFFFFF\" points=\"187.24,146.98,171.2331,134.5792,183.1045,127.1584,187.24,146.98\" style=\"stroke: #A80036; stroke-width: 1.0;\"/><ellipse cx=\"169.9076\" cy=\"128.6857\" fill=\"#A80036\" rx=\"2\" ry=\"2\" style=\"stroke: #A80036; stroke-width: 1.0;\"/><ellipse cx=\"178.3872\" cy=\"123.3851\" fill=\"#A80036\" rx=\"2\" ry=\"2\" style=\"stroke: #A80036; stroke-width: 1.0;\"/></a><!--MD5=[85d356282659285ab4b2cfe2f634dd2b]\n",
       "reverse link E5 to E6--><a href=\"psysml:cdcbbeec-90be-4e1d-8c60-d92c8a6a7077\" target=\"_top\" title=\"psysml:cdcbbeec-90be-4e1d-8c60-d92c8a6a7077\" xlink:actuate=\"onRequest\" xlink:href=\"psysml:cdcbbeec-90be-4e1d-8c60-d92c8a6a7077\" xlink:show=\"new\" xlink:title=\"psysml:cdcbbeec-90be-4e1d-8c60-d92c8a6a7077\" xlink:type=\"simple\"><path d=\"M127.93,99.96 C124.34,115.51 120.23,133.33 117.08,146.98 \" fill=\"none\" id=\"E5&lt;-E6\" style=\"stroke: #A80036; stroke-width: 1.0;\"/><polygon fill=\"#FFFFFF\" points=\"130.91,87.06,125.6616,92.0052,128.2078,98.7518,133.4562,93.8066,130.91,87.06\" style=\"stroke: #A80036; stroke-width: 1.0;\"/><text fill=\"#000000\" font-family=\"sans-serif\" font-size=\"13\" lengthAdjust=\"spacingAndGlyphs\" textLength=\"8\" x=\"109.3703\" y=\"135.8709\">1</text></a><!--MD5=[f667431f98296947986a1a7595a31603]\n",
       "link E6 to E4--><a href=\"psysml:b5614b00-f88c-4f87-85f7-609ca7f17bae\" target=\"_top\" title=\"psysml:b5614b00-f88c-4f87-85f7-609ca7f17bae\" xlink:actuate=\"onRequest\" xlink:href=\"psysml:b5614b00-f88c-4f87-85f7-609ca7f17bae\" xlink:show=\"new\" xlink:title=\"psysml:b5614b00-f88c-4f87-85f7-609ca7f17bae\" xlink:type=\"simple\"><path d=\"M130.87,193.06 C141.97,206.02 156.28,222.74 169.08,237.7 \" fill=\"none\" id=\"E6-&gt;E4\" style=\"stroke: #A80036; stroke-width: 1.0;\"/><polygon fill=\"#FFFFFF\" points=\"182.15,252.98,164.4809,243.0905,175.1204,233.9909,182.15,252.98\" style=\"stroke: #A80036; stroke-width: 1.0;\"/><line style=\"stroke: #A80036; stroke-width: 2.0;\" x1=\"162.011\" x2=\"172.6505\" y1=\"240.2026\" y2=\"231.1031\"/></a><!--MD5=[14ccda38c055a5c0da953d572bc50960]\n",
       "link E7 to E3--><a href=\"psysml:87c48ed5-bc50-48bb-899d-f807bfcdc26e\" target=\"_top\" title=\"psysml:87c48ed5-bc50-48bb-899d-f807bfcdc26e\" xlink:actuate=\"onRequest\" xlink:href=\"psysml:87c48ed5-bc50-48bb-899d-f807bfcdc26e\" xlink:show=\"new\" xlink:title=\"psysml:87c48ed5-bc50-48bb-899d-f807bfcdc26e\" xlink:type=\"simple\"><path d=\"M78.13,81.48 C98.32,95.86 128.25,117.18 153.52,135.18 \" fill=\"none\" id=\"E7-&gt;E3\" style=\"stroke: #A80036; stroke-width: 1.0;\"/><polygon fill=\"#FFFFFF\" points=\"170.09,146.98,150.5533,141.6586,158.6755,130.2555,170.09,146.98\" style=\"stroke: #A80036; stroke-width: 1.0;\"/><ellipse cx=\"147.0709\" cy=\"136.7227\" fill=\"#A80036\" rx=\"2\" ry=\"2\" style=\"stroke: #A80036; stroke-width: 1.0;\"/><ellipse cx=\"152.8725\" cy=\"128.5776\" fill=\"#A80036\" rx=\"2\" ry=\"2\" style=\"stroke: #A80036; stroke-width: 1.0;\"/></a><!--MD5=[dc164f5e8a733ab456ef1add180e9e34]\n",
       "reverse link E7 to E8--><a href=\"psysml:5ff6c459-66f7-4338-82bb-16aa2b22f6b4\" target=\"_top\" title=\"psysml:5ff6c459-66f7-4338-82bb-16aa2b22f6b4\" xlink:actuate=\"onRequest\" xlink:href=\"psysml:5ff6c459-66f7-4338-82bb-16aa2b22f6b4\" xlink:show=\"new\" xlink:title=\"psysml:5ff6c459-66f7-4338-82bb-16aa2b22f6b4\" xlink:type=\"simple\"><path d=\"M50.05,100.09 C51.65,143.61 62.25,216.5 72.75,252.9 \" fill=\"none\" id=\"E7&lt;-E8\" style=\"stroke: #A80036; stroke-width: 1.0;\"/><polygon fill=\"#FFFFFF\" points=\"49.85,87.08,45.9362,93.1366,50.0216,99.0788,53.9354,93.0222,49.85,87.08\" style=\"stroke: #A80036; stroke-width: 1.0;\"/><text fill=\"#000000\" font-family=\"sans-serif\" font-size=\"13\" lengthAdjust=\"spacingAndGlyphs\" textLength=\"8\" x=\"60.6516\" y=\"241.7694\">1</text></a><!--MD5=[dc164f5e8a733ab456ef1add180e9e34]\n",
       "reverse link E7 to E8--><a href=\"psysml:4eb1c616-a5a7-47d5-8985-e84491dc2120\" target=\"_top\" title=\"psysml:4eb1c616-a5a7-47d5-8985-e84491dc2120\" xlink:actuate=\"onRequest\" xlink:href=\"psysml:4eb1c616-a5a7-47d5-8985-e84491dc2120\" xlink:show=\"new\" xlink:title=\"psysml:4eb1c616-a5a7-47d5-8985-e84491dc2120\" xlink:type=\"simple\"><path d=\"M70.64,101.8 C81.15,145.5 90.39,216.97 89.63,252.9 \" fill=\"none\" id=\"E7&lt;-E8-1\" style=\"stroke: #A80036; stroke-width: 1.0; stroke-dasharray: 7.0,7.0;\"/><ellipse cx=\"68.7794\" cy=\"94.813\" fill=\"#FFFFFF\" rx=\"8\" ry=\"8\" style=\"stroke: #A80036; stroke-width: 1.0;\"/><line style=\"stroke: #A80036; stroke-width: 1.0;\" x1=\"70.8289\" x2=\"66.73\" y1=\"102.5461\" y2=\"87.08\"/><line style=\"stroke: #A80036; stroke-width: 1.0;\" x1=\"61.0464\" x2=\"76.5125\" y1=\"96.8625\" y2=\"92.7636\"/><text fill=\"#000000\" font-family=\"sans-serif\" font-size=\"13\" lengthAdjust=\"spacingAndGlyphs\" textLength=\"8\" x=\"92.2181\" y=\"241.7694\">1</text></a><!--MD5=[0a839d0f80c2d72d4b9b307f046d0de8]\n",
       "link E6 to E8--><a href=\"psysml:af89f277-c22a-4acb-b9c9-7f04d6a8a86b\" target=\"_top\" title=\"psysml:af89f277-c22a-4acb-b9c9-7f04d6a8a86b\" xlink:actuate=\"onRequest\" xlink:href=\"psysml:af89f277-c22a-4acb-b9c9-7f04d6a8a86b\" xlink:show=\"new\" xlink:title=\"psysml:af89f277-c22a-4acb-b9c9-7f04d6a8a86b\" xlink:type=\"simple\"><path d=\"M95.42,193.06 C87.86,210.7 81.23,235.34 79.29,252.98 \" fill=\"none\" id=\"E6-E8\" style=\"stroke: #A80036; stroke-width: 3.0;\"/><text fill=\"#000000\" font-family=\"sans-serif\" font-size=\"13\" lengthAdjust=\"spacingAndGlyphs\" textLength=\"7\" x=\"78.9648\" y=\"241.8709\">*</text></a><!--MD5=[0a839d0f80c2d72d4b9b307f046d0de8]\n",
       "link E6 to E8--><a href=\"psysml:6818c790-7ee4-49fa-b866-28c88d0d2e1e\" target=\"_top\" title=\"psysml:6818c790-7ee4-49fa-b866-28c88d0d2e1e\" xlink:actuate=\"onRequest\" xlink:href=\"psysml:6818c790-7ee4-49fa-b866-28c88d0d2e1e\" xlink:show=\"new\" xlink:title=\"psysml:6818c790-7ee4-49fa-b866-28c88d0d2e1e\" xlink:type=\"simple\"><path d=\"M117.33,193.06 C115.55,210.7 108.92,235.34 101.2,252.98 \" fill=\"none\" id=\"E6-E8-1\" style=\"stroke: #A80036; stroke-width: 3.0;\"/><text fill=\"#000000\" font-family=\"sans-serif\" font-size=\"13\" lengthAdjust=\"spacingAndGlyphs\" textLength=\"7\" x=\"97.8819\" y=\"241.8709\">*</text></a><!--MD5=[c06aabebda7ca03ba8c70c097bad79a6]\n",
       "@startuml\r\n",
       "skinparam wrapWidth 300\r\n",
       "hide circle\r\n",
       "\r\n",
       "package \"AliasTest\" as E1  [[psysml:7e4311dd-4dd4-41de-a431-b17c5d614850 ]]  {\r\n",
       "comp usage \"q\" as E2  <<(T,blue) attribute>> [[psysml:789c28e5-5e95-405e-84fa-948507b238dc ]] {\r\n",
       "}\r\n",
       "comp def \"P1\" as E3  <<(T,blue) part def>> [[psysml:00588ae4-2df7-4d57-b3d7-e09c73d2d5b1 ]] {\r\n",
       "}\r\n",
       "comp usage \"porig1\" as E4  <<(T,blue) port>> [[psysml:236a437d-3673-4742-905a-959f5dd42893 ]] {\r\n",
       "}\r\n",
       "comp usage \"p1: P1\" as E5  <<(T,blue) part>> [[psysml:4e54ee4d-012b-498f-93d7-1afb3759d34d ]] {\r\n",
       "}\r\n",
       "comp usage \"po1\" as E6  <<(T,blue) port>> [[psysml:8965b7df-293c-4ee2-9b2b-715c01154c80 ]] {\r\n",
       "}\r\n",
       "comp usage \"p2: P1\" as E7  <<(T,blue) part>> [[psysml:77eadb46-ce1a-4e0f-9527-bb06765d2ea7 ]] {\r\n",
       "}\r\n",
       "comp usage \"pdest\" as E8  <<(T,blue) port>> [[psysml:db28622a-fbe8-4c7d-8fe4-9e164802e944 ]] {\r\n",
       "}\r\n",
       "E3 o- - \"1\"E4 [[psysml:10297d07-57fa-4f9d-a873-bd76f542a35c ]] \r\n",
       "E3 +.. \"1\"E4 [[psysml:4c29fec0-8309-450b-9bf3-4a2b28b77917 ]] \r\n",
       "E5 - -:|> E3 [[psysml:93a52ea3-a140-4bd2-b924-ec5ad15b1b7e ]] \r\n",
       "E5 o- - \"1\"E6 [[psysml:cdcbbeec-90be-4e1d-8c60-d92c8a6a7077 ]] \r\n",
       "E6 - -||> E4 [[psysml:b5614b00-f88c-4f87-85f7-609ca7f17bae ]] \r\n",
       "E7 - -:|> E3 [[psysml:87c48ed5-bc50-48bb-899d-f807bfcdc26e ]] \r\n",
       "E7 o- - \"1\"E8 [[psysml:5ff6c459-66f7-4338-82bb-16aa2b22f6b4 ]] \r\n",
       "E7 +.. \"1\"E8 [[psysml:4eb1c616-a5a7-47d5-8985-e84491dc2120 ]] \r\n",
       "E6 -[thickness=3]- \"*\"E8 [[psysml:af89f277-c22a-4acb-b9c9-7f04d6a8a86b ]] \r\n",
       "E6 -[thickness=3]- \"*\"E8 [[psysml:6818c790-7ee4-49fa-b866-28c88d0d2e1e ]] \r\n",
       "}\r\n",
       "@enduml\r\n",
       "\n",
       "PlantUML version 1.2020.13(Sat Jun 13 12:26:38 UTC 2020)\n",
       "(EPL source distribution)\n",
       "Java Runtime: OpenJDK Runtime Environment\n",
       "JVM: OpenJDK 64-Bit Server VM\n",
       "Default Encoding: UTF-8\n",
       "Language: en\n",
       "Country: null\n",
       "--></g></svg>"
      ]
     },
     "execution_count": 24,
     "metadata": {},
     "output_type": "execute_result"
    }
   ],
   "source": [
    "%viz --style=\"STDCOLOR\" --view=\"Tree\" \"AliasTest\""
   ]
  },
  {
   "cell_type": "code",
   "execution_count": 25,
   "id": "fc337a41",
   "metadata": {
    "execution": {
     "iopub.execute_input": "2021-08-04T06:25:31.718048Z",
     "iopub.status.busy": "2021-08-04T06:25:31.717602Z",
     "iopub.status.idle": "2021-08-04T06:25:31.721504Z",
     "shell.execute_reply": "2021-08-04T06:25:31.721825Z"
    }
   },
   "outputs": [
    {
     "data": {
      "image/svg+xml": [
       "<?xml version=\"1.0\" encoding=\"UTF-8\" standalone=\"no\"?><svg xmlns=\"http://www.w3.org/2000/svg\" xmlns:xlink=\"http://www.w3.org/1999/xlink\" contentScriptType=\"application/ecmascript\" contentStyleType=\"text/css\" height=\"12px\" preserveAspectRatio=\"none\" style=\"width:12px;height:12px;\" version=\"1.1\" viewBox=\"0 0 12 12\" width=\"12px\" zoomAndPan=\"magnify\"><defs/><g><!--MD5=[aeeef50f102b80d730deb6443d14f702]\n",
       "@startuml\r\n",
       "skinparam wrapWidth 300\r\n",
       "hide circle\r\n",
       "\r\n",
       "@enduml\r\n",
       "\n",
       "PlantUML version 1.2020.13(Sat Jun 13 12:26:38 UTC 2020)\n",
       "(EPL source distribution)\n",
       "Java Runtime: OpenJDK Runtime Environment\n",
       "JVM: OpenJDK 64-Bit Server VM\n",
       "Default Encoding: UTF-8\n",
       "Language: en\n",
       "Country: null\n",
       "--></g></svg>"
      ]
     },
     "execution_count": 25,
     "metadata": {},
     "output_type": "execute_result"
    }
   ],
   "source": [
    "%viz --style=\"STDCOLOR\" --view=\"State\" \"AliasTest\""
   ]
  },
  {
   "cell_type": "code",
   "execution_count": 26,
   "id": "568db850",
   "metadata": {
    "execution": {
     "iopub.execute_input": "2021-08-04T06:25:31.772102Z",
     "iopub.status.busy": "2021-08-04T06:25:31.771682Z",
     "iopub.status.idle": "2021-08-04T06:25:31.797964Z",
     "shell.execute_reply": "2021-08-04T06:25:31.796596Z"
    }
   },
   "outputs": [
    {
     "data": {
      "image/svg+xml": [
       "<?xml version=\"1.0\" encoding=\"UTF-8\" standalone=\"no\"?><svg xmlns=\"http://www.w3.org/2000/svg\" xmlns:xlink=\"http://www.w3.org/1999/xlink\" contentScriptType=\"application/ecmascript\" contentStyleType=\"text/css\" height=\"233px\" preserveAspectRatio=\"none\" style=\"width:486px;height:233px;\" version=\"1.1\" viewBox=\"0 0 486 233\" width=\"486px\" zoomAndPan=\"magnify\"><defs><filter height=\"300%\" id=\"f18zwus7x83wv3\" width=\"300%\" x=\"-1\" y=\"-1\"><feGaussianBlur result=\"blurOut\" stdDeviation=\"2.0\"/><feColorMatrix in=\"blurOut\" result=\"blurOut2\" type=\"matrix\" values=\"0 0 0 0 0 0 0 0 0 0 0 0 0 0 0 0 0 0 .4 0\"/><feOffset dx=\"4.0\" dy=\"4.0\" in=\"blurOut2\" result=\"blurOut3\"/><feBlend in=\"SourceGraphic\" in2=\"blurOut3\" mode=\"normal\"/></filter></defs><g><!--MD5=[fbc87193dbaf4d95561dea2c320d4a47]\n",
       "cluster E1--><a href=\"psysml:7e4311dd-4dd4-41de-a431-b17c5d614850\" target=\"_top\" title=\"psysml:7e4311dd-4dd4-41de-a431-b17c5d614850\" xlink:actuate=\"onRequest\" xlink:href=\"psysml:7e4311dd-4dd4-41de-a431-b17c5d614850\" xlink:show=\"new\" xlink:title=\"psysml:7e4311dd-4dd4-41de-a431-b17c5d614850\" xlink:type=\"simple\"><polygon fill=\"#FFFFFF\" filter=\"url(#f18zwus7x83wv3)\" points=\"16,6,94,6,101,28.2969,464,28.2969,464,221,16,221,16,6\" style=\"stroke: #000000; stroke-width: 1.5;\"/><line style=\"stroke: #000000; stroke-width: 1.5;\" x1=\"16\" x2=\"101\" y1=\"28.2969\" y2=\"28.2969\"/><text fill=\"#000000\" font-family=\"sans-serif\" font-size=\"14\" font-weight=\"bold\" lengthAdjust=\"spacingAndGlyphs\" textLength=\"72\" x=\"20\" y=\"20.9951\">AliasTest</text></a><!--MD5=[d5e69f78d87373223dbae638b30a9c99]\n",
       "cluster E3--><a href=\"psysml:00588ae4-2df7-4d57-b3d7-e09c73d2d5b1\" target=\"_top\" title=\"psysml:00588ae4-2df7-4d57-b3d7-e09c73d2d5b1\" xlink:actuate=\"onRequest\" xlink:href=\"psysml:00588ae4-2df7-4d57-b3d7-e09c73d2d5b1\" xlink:show=\"new\" xlink:title=\"psysml:00588ae4-2df7-4d57-b3d7-e09c73d2d5b1\" xlink:type=\"simple\"><rect fill=\"#FFFFFF\" filter=\"url(#f18zwus7x83wv3)\" height=\"90\" id=\"E3\" style=\"stroke: #A80036; stroke-width: 1.5;\" width=\"83\" x=\"324\" y=\"64\"/><rect fill=\"#FEFECE\" height=\"37.9375\" style=\"stroke: #A80036; stroke-width: 1.5;\" width=\"83\" x=\"324\" y=\"64\"/><text fill=\"#000000\" font-family=\"sans-serif\" font-size=\"12\" font-style=\"italic\" lengthAdjust=\"spacingAndGlyphs\" textLength=\"64\" x=\"333.5\" y=\"80.1387\">«part def»</text><text fill=\"#000000\" font-family=\"sans-serif\" font-size=\"12\" lengthAdjust=\"spacingAndGlyphs\" textLength=\"16\" x=\"357.5\" y=\"94.1074\">P1</text></a><!--MD5=[14e3b0961a2654348d326746436168a1]\n",
       "cluster E6--><a href=\"psysml:4e54ee4d-012b-498f-93d7-1afb3759d34d\" target=\"_top\" title=\"psysml:4e54ee4d-012b-498f-93d7-1afb3759d34d\" xlink:actuate=\"onRequest\" xlink:href=\"psysml:4e54ee4d-012b-498f-93d7-1afb3759d34d\" xlink:show=\"new\" xlink:title=\"psysml:4e54ee4d-012b-498f-93d7-1afb3759d34d\" xlink:type=\"simple\"><rect fill=\"#FFFFFF\" filter=\"url(#f18zwus7x83wv3)\" height=\"82\" id=\"E6\" rx=\"10\" ry=\"10\" style=\"stroke: #A80036; stroke-width: 1.5;\" width=\"104\" x=\"112\" y=\"64\"/><rect fill=\"#FEFECE\" height=\"23.9688\" rx=\"10\" ry=\"10\" style=\"stroke: #FEFECE; stroke-width: 1.5;\" width=\"104\" x=\"112\" y=\"64\"/><rect fill=\"#FEFECE\" height=\"10\" style=\"stroke: #FEFECE; stroke-width: 1.5;\" width=\"104\" x=\"112\" y=\"77.9688\"/><rect fill=\"none\" height=\"82\" id=\"E6\" rx=\"10\" ry=\"10\" style=\"stroke: #A80036; stroke-width: 1.5;\" width=\"104\" x=\"112\" y=\"64\"/><text fill=\"#000000\" font-family=\"sans-serif\" font-size=\"12\" lengthAdjust=\"spacingAndGlyphs\" textLength=\"40\" x=\"144\" y=\"80.1387\">p1: P1</text><line style=\"stroke: #A80036; stroke-width: 1.0;\" x1=\"112\" x2=\"216\" y1=\"87.9688\" y2=\"87.9688\"/></a><!--MD5=[55dfccfc6c49c2d10cd1bd2211a6c90c]\n",
       "cluster E8--><a href=\"psysml:77eadb46-ce1a-4e0f-9527-bb06765d2ea7\" target=\"_top\" title=\"psysml:77eadb46-ce1a-4e0f-9527-bb06765d2ea7\" xlink:actuate=\"onRequest\" xlink:href=\"psysml:77eadb46-ce1a-4e0f-9527-bb06765d2ea7\" xlink:show=\"new\" xlink:title=\"psysml:77eadb46-ce1a-4e0f-9527-bb06765d2ea7\" xlink:type=\"simple\"><rect fill=\"#FFFFFF\" filter=\"url(#f18zwus7x83wv3)\" height=\"84.5\" id=\"E8\" rx=\"10\" ry=\"10\" style=\"stroke: #A80036; stroke-width: 1.5;\" width=\"83\" x=\"219\" y=\"120.5\"/><rect fill=\"#FEFECE\" height=\"23.9688\" rx=\"10\" ry=\"10\" style=\"stroke: #FEFECE; stroke-width: 1.5;\" width=\"83\" x=\"219\" y=\"120.5\"/><rect fill=\"#FEFECE\" height=\"10\" style=\"stroke: #FEFECE; stroke-width: 1.5;\" width=\"83\" x=\"219\" y=\"134.4688\"/><rect fill=\"none\" height=\"84.5\" id=\"E8\" rx=\"10\" ry=\"10\" style=\"stroke: #A80036; stroke-width: 1.5;\" width=\"83\" x=\"219\" y=\"120.5\"/><text fill=\"#000000\" font-family=\"sans-serif\" font-size=\"12\" lengthAdjust=\"spacingAndGlyphs\" textLength=\"40\" x=\"240.5\" y=\"136.6387\">p2: P1</text><line style=\"stroke: #A80036; stroke-width: 1.0;\" x1=\"219\" x2=\"302\" y1=\"144.4688\" y2=\"144.4688\"/></a><!--MD5=[b4997ac47864f28c2f74865a473b2911]\n",
       "class E2--><a href=\"psysml:789c28e5-5e95-405e-84fa-948507b238dc\" target=\"_top\" title=\"psysml:789c28e5-5e95-405e-84fa-948507b238dc\" xlink:actuate=\"onRequest\" xlink:href=\"psysml:789c28e5-5e95-405e-84fa-948507b238dc\" xlink:show=\"new\" xlink:title=\"psysml:789c28e5-5e95-405e-84fa-948507b238dc\" xlink:type=\"simple\"><rect fill=\"#FEFECE\" filter=\"url(#f18zwus7x83wv3)\" height=\"45.9375\" id=\"E2\" rx=\"10\" ry=\"10\" style=\"stroke: #A80036; stroke-width: 1.5;\" width=\"71\" x=\"32.5\" y=\"41\"/><text fill=\"#000000\" font-family=\"sans-serif\" font-size=\"12\" font-style=\"italic\" lengthAdjust=\"spacingAndGlyphs\" textLength=\"69\" x=\"33.5\" y=\"57.1387\">«attribute»</text><text fill=\"#000000\" font-family=\"sans-serif\" font-size=\"12\" lengthAdjust=\"spacingAndGlyphs\" textLength=\"8\" x=\"64\" y=\"71.1074\">q</text><line style=\"stroke: #A80036; stroke-width: 1.5;\" x1=\"33.5\" x2=\"102.5\" y1=\"78.9375\" y2=\"78.9375\"/></a><text fill=\"#000000\" font-family=\"sans-serif\" font-size=\"14\" lengthAdjust=\"spacingAndGlyphs\" textLength=\"44\" x=\"320\" y=\"42.6982\">porig1</text><rect fill=\"#A80036\" height=\"12\" style=\"stroke: #FEFECE; stroke-width: 1.5;\" width=\"12\" x=\"336\" y=\"58\"/><text fill=\"#000000\" font-family=\"sans-serif\" font-size=\"14\" lengthAdjust=\"spacingAndGlyphs\" textLength=\"44\" x=\"367\" y=\"42.6982\">porig1</text><rect fill=\"#A80036\" height=\"12\" style=\"stroke: #FEFECE; stroke-width: 1.5;\" width=\"12\" x=\"383\" y=\"58\"/><text fill=\"#000000\" font-family=\"sans-serif\" font-size=\"14\" lengthAdjust=\"spacingAndGlyphs\" textLength=\"27\" x=\"184.5\" y=\"42.6982\">po1</text><rect fill=\"#A80036\" height=\"12\" style=\"stroke: #FEFECE; stroke-width: 1.5;\" width=\"12\" x=\"192\" y=\"58\"/><text fill=\"#000000\" font-family=\"sans-serif\" font-size=\"14\" lengthAdjust=\"spacingAndGlyphs\" textLength=\"40\" x=\"217\" y=\"99.1982\">pdest</text><rect fill=\"#A80036\" height=\"12\" style=\"stroke: #FEFECE; stroke-width: 1.5;\" width=\"12\" x=\"231\" y=\"114.5\"/><text fill=\"#000000\" font-family=\"sans-serif\" font-size=\"14\" lengthAdjust=\"spacingAndGlyphs\" textLength=\"40\" x=\"264\" y=\"99.1982\">pdest</text><rect fill=\"#A80036\" height=\"12\" style=\"stroke: #FEFECE; stroke-width: 1.5;\" width=\"12\" x=\"278\" y=\"114.5\"/><!--MD5=[1c0b9414cc86e0744215edee6abd8926]\n",
       "link E7 to E9--><a href=\"psysml:af89f277-c22a-4acb-b9c9-7f04d6a8a86b\" target=\"_top\" title=\"psysml:af89f277-c22a-4acb-b9c9-7f04d6a8a86b\" xlink:actuate=\"onRequest\" xlink:href=\"psysml:af89f277-c22a-4acb-b9c9-7f04d6a8a86b\" xlink:show=\"new\" xlink:title=\"psysml:af89f277-c22a-4acb-b9c9-7f04d6a8a86b\" xlink:type=\"simple\"><path d=\"M193.83,70.03 C194.72,81.73 216.14,110.34 230.83,117.73 \" fill=\"none\" id=\"E7-E9\" style=\"stroke: #A80036; stroke-width: 3.0;\"/><text fill=\"#000000\" font-family=\"sans-serif\" font-size=\"13\" lengthAdjust=\"spacingAndGlyphs\" textLength=\"7\" x=\"215.8523\" y=\"106.3789\">*</text></a><!--MD5=[1c0b9414cc86e0744215edee6abd8926]\n",
       "link E7 to E9--><a href=\"psysml:6818c790-7ee4-49fa-b866-28c88d0d2e1e\" target=\"_top\" title=\"psysml:6818c790-7ee4-49fa-b866-28c88d0d2e1e\" xlink:actuate=\"onRequest\" xlink:href=\"psysml:6818c790-7ee4-49fa-b866-28c88d0d2e1e\" xlink:show=\"new\" xlink:title=\"psysml:6818c790-7ee4-49fa-b866-28c88d0d2e1e\" xlink:type=\"simple\"><path d=\"M204.05,66.57 C219.27,73.62 241.05,102.5 241.62,114.37 \" fill=\"none\" id=\"E7-E9-1\" style=\"stroke: #A80036; stroke-width: 3.0;\"/><text fill=\"#000000\" font-family=\"sans-serif\" font-size=\"13\" lengthAdjust=\"spacingAndGlyphs\" textLength=\"7\" x=\"235.278\" y=\"103.4683\">*</text></a><!--MD5=[7e0b1ed5f61a79db8b4bd90a0966beca]\n",
       "@startuml\r\n",
       "skinparam ranksep 10\r\n",
       "skinparam rectangle {\r\n",
       " backgroundColor<<block>> LightGreen\r\n",
       "}\r\n",
       "skinparam wrapWidth 300\r\n",
       "hide circle\r\n",
       "\r\n",
       "package \"AliasTest\" as E1  [[psysml:7e4311dd-4dd4-41de-a431-b17c5d614850 ]]  {\r\n",
       "comp usage \"q\" as E2  <<(T,blue) attribute>> [[psysml:789c28e5-5e95-405e-84fa-948507b238dc ]] {\r\n",
       "}\r\n",
       "rec def \"P1\" as E3  <<(T,blue) part def>> [[psysml:00588ae4-2df7-4d57-b3d7-e09c73d2d5b1 ]] {\r\n",
       "portin \"porig1\" as E4  <<(T,blue) port>> [[psysml:236a437d-3673-4742-905a-959f5dd42893 ]] \r\n",
       "portin \"porig1\" as E5  <<(T,blue) port>> [[psysml:236a437d-3673-4742-905a-959f5dd42893 ]] \r\n",
       "}\r\n",
       "rec usage \"p1: P1\" as E6  [[psysml:4e54ee4d-012b-498f-93d7-1afb3759d34d ]] {\r\n",
       "portin \"po1\" as E7  <<(T,blue) port>> [[psysml:8965b7df-293c-4ee2-9b2b-715c01154c80 ]] \r\n",
       "}\r\n",
       "rec usage \"p2: P1\" as E8  [[psysml:77eadb46-ce1a-4e0f-9527-bb06765d2ea7 ]] {\r\n",
       "portin \"pdest\" as E9  <<(T,blue) port>> [[psysml:db28622a-fbe8-4c7d-8fe4-9e164802e944 ]] \r\n",
       "portin \"pdest\" as E10  <<(T,blue) port>> [[psysml:db28622a-fbe8-4c7d-8fe4-9e164802e944 ]] \r\n",
       "}\r\n",
       "E7 -[thickness=3]- \"*\"E9 [[psysml:af89f277-c22a-4acb-b9c9-7f04d6a8a86b ]] \r\n",
       "E7 -[thickness=3]- \"*\"E9 [[psysml:6818c790-7ee4-49fa-b866-28c88d0d2e1e ]] \r\n",
       "}\r\n",
       "@enduml\r\n",
       "\n",
       "PlantUML version 1.2020.13(Sat Jun 13 12:26:38 UTC 2020)\n",
       "(EPL source distribution)\n",
       "Java Runtime: OpenJDK Runtime Environment\n",
       "JVM: OpenJDK 64-Bit Server VM\n",
       "Default Encoding: UTF-8\n",
       "Language: en\n",
       "Country: null\n",
       "--></g></svg>"
      ]
     },
     "execution_count": 26,
     "metadata": {},
     "output_type": "execute_result"
    }
   ],
   "source": [
    "%viz --style=\"STDCOLOR\" --view=\"Interconnection\" \"AliasTest\""
   ]
  },
  {
   "cell_type": "code",
   "execution_count": 27,
   "id": "7dad2abd",
   "metadata": {
    "execution": {
     "iopub.execute_input": "2021-08-04T06:25:31.847462Z",
     "iopub.status.busy": "2021-08-04T06:25:31.846996Z",
     "iopub.status.idle": "2021-08-04T06:25:31.850279Z",
     "shell.execute_reply": "2021-08-04T06:25:31.849930Z"
    }
   },
   "outputs": [
    {
     "data": {
      "image/svg+xml": [
       "<?xml version=\"1.0\" encoding=\"UTF-8\" standalone=\"no\"?><svg xmlns=\"http://www.w3.org/2000/svg\" xmlns:xlink=\"http://www.w3.org/1999/xlink\" contentScriptType=\"application/ecmascript\" contentStyleType=\"text/css\" height=\"12px\" preserveAspectRatio=\"none\" style=\"width:12px;height:12px;\" version=\"1.1\" viewBox=\"0 0 12 12\" width=\"12px\" zoomAndPan=\"magnify\"><defs/><g><!--MD5=[9863325348a96a77dacc89509d8ee65e]\n",
       "@startuml\r\n",
       "skinparam ranksep 8\r\n",
       "skinparam wrapWidth 300\r\n",
       "hide circle\r\n",
       "\r\n",
       "@enduml\r\n",
       "\n",
       "PlantUML version 1.2020.13(Sat Jun 13 12:26:38 UTC 2020)\n",
       "(EPL source distribution)\n",
       "Java Runtime: OpenJDK Runtime Environment\n",
       "JVM: OpenJDK 64-Bit Server VM\n",
       "Default Encoding: UTF-8\n",
       "Language: en\n",
       "Country: null\n",
       "--></g></svg>"
      ]
     },
     "execution_count": 27,
     "metadata": {},
     "output_type": "execute_result"
    }
   ],
   "source": [
    "%viz --style=\"STDCOLOR\" --view=\"Action\" \"AliasTest\""
   ]
  },
  {
   "cell_type": "code",
   "execution_count": 28,
   "id": "ff31653b",
   "metadata": {
    "execution": {
     "iopub.execute_input": "2021-08-04T06:25:31.900053Z",
     "iopub.status.busy": "2021-08-04T06:25:31.899654Z",
     "iopub.status.idle": "2021-08-04T06:25:31.931322Z",
     "shell.execute_reply": "2021-08-04T06:25:31.931122Z"
    }
   },
   "outputs": [
    {
     "data": {
      "image/svg+xml": [
       "<?xml version=\"1.0\" encoding=\"UTF-8\" standalone=\"no\"?><svg xmlns=\"http://www.w3.org/2000/svg\" xmlns:xlink=\"http://www.w3.org/1999/xlink\" contentScriptType=\"application/ecmascript\" contentStyleType=\"text/css\" height=\"327px\" preserveAspectRatio=\"none\" style=\"width:304px;height:327px;\" version=\"1.1\" viewBox=\"0 0 304 327\" width=\"304px\" zoomAndPan=\"magnify\"><defs><filter height=\"300%\" id=\"fmo66olgvpkvb\" width=\"300%\" x=\"-1\" y=\"-1\"><feGaussianBlur result=\"blurOut\" stdDeviation=\"2.0\"/><feColorMatrix in=\"blurOut\" result=\"blurOut2\" type=\"matrix\" values=\"0 0 0 0 0 0 0 0 0 0 0 0 0 0 0 0 0 0 .4 0\"/><feOffset dx=\"4.0\" dy=\"4.0\" in=\"blurOut2\" result=\"blurOut3\"/><feBlend in=\"SourceGraphic\" in2=\"blurOut3\" mode=\"normal\"/></filter></defs><g><!--MD5=[fbc87193dbaf4d95561dea2c320d4a47]\n",
       "cluster E1--><a href=\"psysml:7e4311dd-4dd4-41de-a431-b17c5d614850\" target=\"_top\" title=\"psysml:7e4311dd-4dd4-41de-a431-b17c5d614850\" xlink:actuate=\"onRequest\" xlink:href=\"psysml:7e4311dd-4dd4-41de-a431-b17c5d614850\" xlink:show=\"new\" xlink:title=\"psysml:7e4311dd-4dd4-41de-a431-b17c5d614850\" xlink:type=\"simple\"><polygon fill=\"#FFFFFF\" filter=\"url(#fmo66olgvpkvb)\" points=\"16,6,94,6,101,28.2969,282,28.2969,282,315,16,315,16,6\" style=\"stroke: #000000; stroke-width: 1.5;\"/><line style=\"stroke: #000000; stroke-width: 1.5;\" x1=\"16\" x2=\"101\" y1=\"28.2969\" y2=\"28.2969\"/><text fill=\"#000000\" font-family=\"sans-serif\" font-size=\"14\" font-weight=\"bold\" lengthAdjust=\"spacingAndGlyphs\" textLength=\"72\" x=\"20\" y=\"20.9951\">AliasTest</text></a><!--MD5=[b4997ac47864f28c2f74865a473b2911]\n",
       "class E2--><a href=\"psysml:789c28e5-5e95-405e-84fa-948507b238dc\" target=\"_top\" title=\"psysml:789c28e5-5e95-405e-84fa-948507b238dc\" xlink:actuate=\"onRequest\" xlink:href=\"psysml:789c28e5-5e95-405e-84fa-948507b238dc\" xlink:show=\"new\" xlink:title=\"psysml:789c28e5-5e95-405e-84fa-948507b238dc\" xlink:type=\"simple\"><rect fill=\"#FEFECE\" filter=\"url(#fmo66olgvpkvb)\" height=\"45.9375\" id=\"E2\" rx=\"10\" ry=\"10\" style=\"stroke: #A80036; stroke-width: 1.5;\" width=\"71\" x=\"194.5\" y=\"41\"/><text fill=\"#000000\" font-family=\"sans-serif\" font-size=\"12\" font-style=\"italic\" lengthAdjust=\"spacingAndGlyphs\" textLength=\"69\" x=\"195.5\" y=\"57.1387\">«attribute»</text><text fill=\"#000000\" font-family=\"sans-serif\" font-size=\"12\" lengthAdjust=\"spacingAndGlyphs\" textLength=\"8\" x=\"226\" y=\"71.1074\">q</text><line style=\"stroke: #A80036; stroke-width: 1.5;\" x1=\"195.5\" x2=\"264.5\" y1=\"78.9375\" y2=\"78.9375\"/></a><!--MD5=[09b614a08d8cba4a07c9adeb5e0fee81]\n",
       "class E3--><a href=\"psysml:00588ae4-2df7-4d57-b3d7-e09c73d2d5b1\" target=\"_top\" title=\"psysml:00588ae4-2df7-4d57-b3d7-e09c73d2d5b1\" xlink:actuate=\"onRequest\" xlink:href=\"psysml:00588ae4-2df7-4d57-b3d7-e09c73d2d5b1\" xlink:show=\"new\" xlink:title=\"psysml:00588ae4-2df7-4d57-b3d7-e09c73d2d5b1\" xlink:type=\"simple\"><rect fill=\"#FEFECE\" filter=\"url(#fmo66olgvpkvb)\" height=\"45.9375\" id=\"E3\" style=\"stroke: #A80036; stroke-width: 1.5;\" width=\"66\" x=\"168\" y=\"147\"/><text fill=\"#000000\" font-family=\"sans-serif\" font-size=\"12\" font-style=\"italic\" lengthAdjust=\"spacingAndGlyphs\" textLength=\"64\" x=\"169\" y=\"163.1387\">«part def»</text><text fill=\"#000000\" font-family=\"sans-serif\" font-size=\"12\" lengthAdjust=\"spacingAndGlyphs\" textLength=\"16\" x=\"193\" y=\"177.1074\">P1</text><line style=\"stroke: #A80036; stroke-width: 1.5;\" x1=\"169\" x2=\"233\" y1=\"184.9375\" y2=\"184.9375\"/></a><!--MD5=[ebbe1d658d1005bcc118a6aa81145e00]\n",
       "class E4--><a href=\"psysml:236a437d-3673-4742-905a-959f5dd42893\" target=\"_top\" title=\"psysml:236a437d-3673-4742-905a-959f5dd42893\" xlink:actuate=\"onRequest\" xlink:href=\"psysml:236a437d-3673-4742-905a-959f5dd42893\" xlink:show=\"new\" xlink:title=\"psysml:236a437d-3673-4742-905a-959f5dd42893\" xlink:type=\"simple\"><rect fill=\"#FEFECE\" filter=\"url(#fmo66olgvpkvb)\" height=\"45.9375\" id=\"E4\" rx=\"10\" ry=\"10\" style=\"stroke: #A80036; stroke-width: 1.5;\" width=\"46\" x=\"178\" y=\"253\"/><text fill=\"#000000\" font-family=\"sans-serif\" font-size=\"12\" font-style=\"italic\" lengthAdjust=\"spacingAndGlyphs\" textLength=\"40\" x=\"181\" y=\"269.1387\">«port»</text><text fill=\"#000000\" font-family=\"sans-serif\" font-size=\"12\" lengthAdjust=\"spacingAndGlyphs\" textLength=\"40\" x=\"181\" y=\"283.1074\">porig1</text><line style=\"stroke: #A80036; stroke-width: 1.5;\" x1=\"179\" x2=\"223\" y1=\"290.9375\" y2=\"290.9375\"/></a><!--MD5=[270fce915f116d4de14055a7c1d9a0f3]\n",
       "class E5--><a href=\"psysml:4e54ee4d-012b-498f-93d7-1afb3759d34d\" target=\"_top\" title=\"psysml:4e54ee4d-012b-498f-93d7-1afb3759d34d\" xlink:actuate=\"onRequest\" xlink:href=\"psysml:4e54ee4d-012b-498f-93d7-1afb3759d34d\" xlink:show=\"new\" xlink:title=\"psysml:4e54ee4d-012b-498f-93d7-1afb3759d34d\" xlink:type=\"simple\"><rect fill=\"#FEFECE\" filter=\"url(#fmo66olgvpkvb)\" height=\"45.9375\" id=\"E5\" rx=\"10\" ry=\"10\" style=\"stroke: #A80036; stroke-width: 1.5;\" width=\"46\" x=\"113\" y=\"41\"/><text fill=\"#000000\" font-family=\"sans-serif\" font-size=\"12\" font-style=\"italic\" lengthAdjust=\"spacingAndGlyphs\" textLength=\"40\" x=\"116\" y=\"57.1387\">«part»</text><text fill=\"#000000\" font-family=\"sans-serif\" font-size=\"12\" lengthAdjust=\"spacingAndGlyphs\" textLength=\"40\" x=\"116\" y=\"71.1074\">p1: P1</text><line style=\"stroke: #A80036; stroke-width: 1.5;\" x1=\"114\" x2=\"158\" y1=\"78.9375\" y2=\"78.9375\"/></a><!--MD5=[60a26617385b1d2d0262a64233df1f8d]\n",
       "class E6--><a href=\"psysml:8965b7df-293c-4ee2-9b2b-715c01154c80\" target=\"_top\" title=\"psysml:8965b7df-293c-4ee2-9b2b-715c01154c80\" xlink:actuate=\"onRequest\" xlink:href=\"psysml:8965b7df-293c-4ee2-9b2b-715c01154c80\" xlink:show=\"new\" xlink:title=\"psysml:8965b7df-293c-4ee2-9b2b-715c01154c80\" xlink:type=\"simple\"><rect fill=\"#FEFECE\" filter=\"url(#fmo66olgvpkvb)\" height=\"45.9375\" id=\"E6\" rx=\"10\" ry=\"10\" style=\"stroke: #A80036; stroke-width: 1.5;\" width=\"42\" x=\"91\" y=\"147\"/><text fill=\"#000000\" font-family=\"sans-serif\" font-size=\"12\" font-style=\"italic\" lengthAdjust=\"spacingAndGlyphs\" textLength=\"40\" x=\"92\" y=\"163.1387\">«port»</text><text fill=\"#000000\" font-family=\"sans-serif\" font-size=\"12\" lengthAdjust=\"spacingAndGlyphs\" textLength=\"24\" x=\"100\" y=\"177.1074\">po1</text><line style=\"stroke: #A80036; stroke-width: 1.5;\" x1=\"92\" x2=\"132\" y1=\"184.9375\" y2=\"184.9375\"/></a><!--MD5=[2156ba9850f5573cc1fc38a6a4b2f02b]\n",
       "class E7--><a href=\"psysml:77eadb46-ce1a-4e0f-9527-bb06765d2ea7\" target=\"_top\" title=\"psysml:77eadb46-ce1a-4e0f-9527-bb06765d2ea7\" xlink:actuate=\"onRequest\" xlink:href=\"psysml:77eadb46-ce1a-4e0f-9527-bb06765d2ea7\" xlink:show=\"new\" xlink:title=\"psysml:77eadb46-ce1a-4e0f-9527-bb06765d2ea7\" xlink:type=\"simple\"><rect fill=\"#FEFECE\" filter=\"url(#fmo66olgvpkvb)\" height=\"45.9375\" id=\"E7\" rx=\"10\" ry=\"10\" style=\"stroke: #A80036; stroke-width: 1.5;\" width=\"46\" x=\"32\" y=\"41\"/><text fill=\"#000000\" font-family=\"sans-serif\" font-size=\"12\" font-style=\"italic\" lengthAdjust=\"spacingAndGlyphs\" textLength=\"40\" x=\"35\" y=\"57.1387\">«part»</text><text fill=\"#000000\" font-family=\"sans-serif\" font-size=\"12\" lengthAdjust=\"spacingAndGlyphs\" textLength=\"40\" x=\"35\" y=\"71.1074\">p2: P1</text><line style=\"stroke: #A80036; stroke-width: 1.5;\" x1=\"33\" x2=\"77\" y1=\"78.9375\" y2=\"78.9375\"/></a><!--MD5=[b9389687b975829384b498ac4b7476b2]\n",
       "class E8--><a href=\"psysml:db28622a-fbe8-4c7d-8fe4-9e164802e944\" target=\"_top\" title=\"psysml:db28622a-fbe8-4c7d-8fe4-9e164802e944\" xlink:actuate=\"onRequest\" xlink:href=\"psysml:db28622a-fbe8-4c7d-8fe4-9e164802e944\" xlink:show=\"new\" xlink:title=\"psysml:db28622a-fbe8-4c7d-8fe4-9e164802e944\" xlink:type=\"simple\"><rect fill=\"#FEFECE\" filter=\"url(#fmo66olgvpkvb)\" height=\"45.9375\" id=\"E8\" rx=\"10\" ry=\"10\" style=\"stroke: #A80036; stroke-width: 1.5;\" width=\"42\" x=\"63\" y=\"253\"/><text fill=\"#000000\" font-family=\"sans-serif\" font-size=\"12\" font-style=\"italic\" lengthAdjust=\"spacingAndGlyphs\" textLength=\"40\" x=\"64\" y=\"269.1387\">«port»</text><text fill=\"#000000\" font-family=\"sans-serif\" font-size=\"12\" lengthAdjust=\"spacingAndGlyphs\" textLength=\"36\" x=\"66\" y=\"283.1074\">pdest</text><line style=\"stroke: #A80036; stroke-width: 1.5;\" x1=\"64\" x2=\"104\" y1=\"290.9375\" y2=\"290.9375\"/></a><!--MD5=[4672eba38e49728da53d11aeb285b987]\n",
       "reverse link E3 to E4--><a href=\"psysml:10297d07-57fa-4f9d-a873-bd76f542a35c\" target=\"_top\" title=\"psysml:10297d07-57fa-4f9d-a873-bd76f542a35c\" xlink:actuate=\"onRequest\" xlink:href=\"psysml:10297d07-57fa-4f9d-a873-bd76f542a35c\" xlink:show=\"new\" xlink:title=\"psysml:10297d07-57fa-4f9d-a873-bd76f542a35c\" xlink:type=\"simple\"><path d=\"M188.84,206.44 C187.7,221.87 188.21,239.47 190.36,252.98 \" fill=\"none\" id=\"E3&lt;-E4\" style=\"stroke: #A80036; stroke-width: 1.0;\"/><polygon fill=\"#FFFFFF\" points=\"190.35,193.06,185.7032,198.5743,189.006,204.9845,193.6528,199.4702,190.35,193.06\" style=\"stroke: #A80036; stroke-width: 1.0;\"/><text fill=\"#000000\" font-family=\"sans-serif\" font-size=\"13\" lengthAdjust=\"spacingAndGlyphs\" textLength=\"8\" x=\"178.4255\" y=\"241.8709\">1</text></a><!--MD5=[4672eba38e49728da53d11aeb285b987]\n",
       "reverse link E3 to E4--><a href=\"psysml:4c29fec0-8309-450b-9bf3-4a2b28b77917\" target=\"_top\" title=\"psysml:4c29fec0-8309-450b-9bf3-4a2b28b77917\" xlink:actuate=\"onRequest\" xlink:href=\"psysml:4c29fec0-8309-450b-9bf3-4a2b28b77917\" xlink:show=\"new\" xlink:title=\"psysml:4c29fec0-8309-450b-9bf3-4a2b28b77917\" xlink:type=\"simple\"><path d=\"M214.01,208.34 C215.03,223.3 214.45,240.02 212.27,252.98 \" fill=\"none\" id=\"E3&lt;-E4-1\" style=\"stroke: #A80036; stroke-width: 1.0; stroke-dasharray: 7.0,7.0;\"/><ellipse cx=\"213.1693\" cy=\"201.0093\" fill=\"#FFFFFF\" rx=\"8\" ry=\"8\" style=\"stroke: #A80036; stroke-width: 1.0;\"/><line style=\"stroke: #A80036; stroke-width: 1.0;\" x1=\"214.0687\" x2=\"212.27\" y1=\"208.9586\" y2=\"193.06\"/><line style=\"stroke: #A80036; stroke-width: 1.0;\" x1=\"205.2201\" x2=\"221.1186\" y1=\"201.9086\" y2=\"200.1099\"/><text fill=\"#000000\" font-family=\"sans-serif\" font-size=\"13\" lengthAdjust=\"spacingAndGlyphs\" textLength=\"8\" x=\"206.2238\" y=\"241.8709\">1</text></a><!--MD5=[e9be52314489bd878ff4c7144b63c9e1]\n",
       "link E5 to E3--><a href=\"psysml:93a52ea3-a140-4bd2-b924-ec5ad15b1b7e\" target=\"_top\" title=\"psysml:93a52ea3-a140-4bd2-b924-ec5ad15b1b7e\" xlink:actuate=\"onRequest\" xlink:href=\"psysml:93a52ea3-a140-4bd2-b924-ec5ad15b1b7e\" xlink:show=\"new\" xlink:title=\"psysml:93a52ea3-a140-4bd2-b924-ec5ad15b1b7e\" xlink:type=\"simple\"><path d=\"M149.78,87.06 C157.54,99.47 167.45,115.33 176.49,129.78 \" fill=\"none\" id=\"E5-&gt;E3\" style=\"stroke: #A80036; stroke-width: 1.0;\"/><polygon fill=\"#FFFFFF\" points=\"187.24,146.98,171.2331,134.5792,183.1045,127.1584,187.24,146.98\" style=\"stroke: #A80036; stroke-width: 1.0;\"/><ellipse cx=\"169.9076\" cy=\"128.6857\" fill=\"#A80036\" rx=\"2\" ry=\"2\" style=\"stroke: #A80036; stroke-width: 1.0;\"/><ellipse cx=\"178.3872\" cy=\"123.3851\" fill=\"#A80036\" rx=\"2\" ry=\"2\" style=\"stroke: #A80036; stroke-width: 1.0;\"/></a><!--MD5=[85d356282659285ab4b2cfe2f634dd2b]\n",
       "reverse link E5 to E6--><a href=\"psysml:cdcbbeec-90be-4e1d-8c60-d92c8a6a7077\" target=\"_top\" title=\"psysml:cdcbbeec-90be-4e1d-8c60-d92c8a6a7077\" xlink:actuate=\"onRequest\" xlink:href=\"psysml:cdcbbeec-90be-4e1d-8c60-d92c8a6a7077\" xlink:show=\"new\" xlink:title=\"psysml:cdcbbeec-90be-4e1d-8c60-d92c8a6a7077\" xlink:type=\"simple\"><path d=\"M127.93,99.96 C124.34,115.51 120.23,133.33 117.08,146.98 \" fill=\"none\" id=\"E5&lt;-E6\" style=\"stroke: #A80036; stroke-width: 1.0;\"/><polygon fill=\"#FFFFFF\" points=\"130.91,87.06,125.6616,92.0052,128.2078,98.7518,133.4562,93.8066,130.91,87.06\" style=\"stroke: #A80036; stroke-width: 1.0;\"/><text fill=\"#000000\" font-family=\"sans-serif\" font-size=\"13\" lengthAdjust=\"spacingAndGlyphs\" textLength=\"8\" x=\"109.3703\" y=\"135.8709\">1</text></a><!--MD5=[f667431f98296947986a1a7595a31603]\n",
       "link E6 to E4--><a href=\"psysml:b5614b00-f88c-4f87-85f7-609ca7f17bae\" target=\"_top\" title=\"psysml:b5614b00-f88c-4f87-85f7-609ca7f17bae\" xlink:actuate=\"onRequest\" xlink:href=\"psysml:b5614b00-f88c-4f87-85f7-609ca7f17bae\" xlink:show=\"new\" xlink:title=\"psysml:b5614b00-f88c-4f87-85f7-609ca7f17bae\" xlink:type=\"simple\"><path d=\"M130.87,193.06 C141.97,206.02 156.28,222.74 169.08,237.7 \" fill=\"none\" id=\"E6-&gt;E4\" style=\"stroke: #A80036; stroke-width: 1.0;\"/><polygon fill=\"#FFFFFF\" points=\"182.15,252.98,164.4809,243.0905,175.1204,233.9909,182.15,252.98\" style=\"stroke: #A80036; stroke-width: 1.0;\"/><line style=\"stroke: #A80036; stroke-width: 2.0;\" x1=\"162.011\" x2=\"172.6505\" y1=\"240.2026\" y2=\"231.1031\"/></a><!--MD5=[14ccda38c055a5c0da953d572bc50960]\n",
       "link E7 to E3--><a href=\"psysml:87c48ed5-bc50-48bb-899d-f807bfcdc26e\" target=\"_top\" title=\"psysml:87c48ed5-bc50-48bb-899d-f807bfcdc26e\" xlink:actuate=\"onRequest\" xlink:href=\"psysml:87c48ed5-bc50-48bb-899d-f807bfcdc26e\" xlink:show=\"new\" xlink:title=\"psysml:87c48ed5-bc50-48bb-899d-f807bfcdc26e\" xlink:type=\"simple\"><path d=\"M78.13,81.48 C98.32,95.86 128.25,117.18 153.52,135.18 \" fill=\"none\" id=\"E7-&gt;E3\" style=\"stroke: #A80036; stroke-width: 1.0;\"/><polygon fill=\"#FFFFFF\" points=\"170.09,146.98,150.5533,141.6586,158.6755,130.2555,170.09,146.98\" style=\"stroke: #A80036; stroke-width: 1.0;\"/><ellipse cx=\"147.0709\" cy=\"136.7227\" fill=\"#A80036\" rx=\"2\" ry=\"2\" style=\"stroke: #A80036; stroke-width: 1.0;\"/><ellipse cx=\"152.8725\" cy=\"128.5776\" fill=\"#A80036\" rx=\"2\" ry=\"2\" style=\"stroke: #A80036; stroke-width: 1.0;\"/></a><!--MD5=[dc164f5e8a733ab456ef1add180e9e34]\n",
       "reverse link E7 to E8--><a href=\"psysml:5ff6c459-66f7-4338-82bb-16aa2b22f6b4\" target=\"_top\" title=\"psysml:5ff6c459-66f7-4338-82bb-16aa2b22f6b4\" xlink:actuate=\"onRequest\" xlink:href=\"psysml:5ff6c459-66f7-4338-82bb-16aa2b22f6b4\" xlink:show=\"new\" xlink:title=\"psysml:5ff6c459-66f7-4338-82bb-16aa2b22f6b4\" xlink:type=\"simple\"><path d=\"M50.05,100.09 C51.65,143.61 62.25,216.5 72.75,252.9 \" fill=\"none\" id=\"E7&lt;-E8\" style=\"stroke: #A80036; stroke-width: 1.0;\"/><polygon fill=\"#FFFFFF\" points=\"49.85,87.08,45.9362,93.1366,50.0216,99.0788,53.9354,93.0222,49.85,87.08\" style=\"stroke: #A80036; stroke-width: 1.0;\"/><text fill=\"#000000\" font-family=\"sans-serif\" font-size=\"13\" lengthAdjust=\"spacingAndGlyphs\" textLength=\"8\" x=\"60.6516\" y=\"241.7694\">1</text></a><!--MD5=[dc164f5e8a733ab456ef1add180e9e34]\n",
       "reverse link E7 to E8--><a href=\"psysml:4eb1c616-a5a7-47d5-8985-e84491dc2120\" target=\"_top\" title=\"psysml:4eb1c616-a5a7-47d5-8985-e84491dc2120\" xlink:actuate=\"onRequest\" xlink:href=\"psysml:4eb1c616-a5a7-47d5-8985-e84491dc2120\" xlink:show=\"new\" xlink:title=\"psysml:4eb1c616-a5a7-47d5-8985-e84491dc2120\" xlink:type=\"simple\"><path d=\"M70.64,101.8 C81.15,145.5 90.39,216.97 89.63,252.9 \" fill=\"none\" id=\"E7&lt;-E8-1\" style=\"stroke: #A80036; stroke-width: 1.0; stroke-dasharray: 7.0,7.0;\"/><ellipse cx=\"68.7794\" cy=\"94.813\" fill=\"#FFFFFF\" rx=\"8\" ry=\"8\" style=\"stroke: #A80036; stroke-width: 1.0;\"/><line style=\"stroke: #A80036; stroke-width: 1.0;\" x1=\"70.8289\" x2=\"66.73\" y1=\"102.5461\" y2=\"87.08\"/><line style=\"stroke: #A80036; stroke-width: 1.0;\" x1=\"61.0464\" x2=\"76.5125\" y1=\"96.8625\" y2=\"92.7636\"/><text fill=\"#000000\" font-family=\"sans-serif\" font-size=\"13\" lengthAdjust=\"spacingAndGlyphs\" textLength=\"8\" x=\"92.2181\" y=\"241.7694\">1</text></a><!--MD5=[0a839d0f80c2d72d4b9b307f046d0de8]\n",
       "link E6 to E8--><a href=\"psysml:af89f277-c22a-4acb-b9c9-7f04d6a8a86b\" target=\"_top\" title=\"psysml:af89f277-c22a-4acb-b9c9-7f04d6a8a86b\" xlink:actuate=\"onRequest\" xlink:href=\"psysml:af89f277-c22a-4acb-b9c9-7f04d6a8a86b\" xlink:show=\"new\" xlink:title=\"psysml:af89f277-c22a-4acb-b9c9-7f04d6a8a86b\" xlink:type=\"simple\"><path d=\"M95.42,193.06 C87.86,210.7 81.23,235.34 79.29,252.98 \" fill=\"none\" id=\"E6-E8\" style=\"stroke: #A80036; stroke-width: 3.0;\"/><text fill=\"#000000\" font-family=\"sans-serif\" font-size=\"13\" lengthAdjust=\"spacingAndGlyphs\" textLength=\"7\" x=\"78.9648\" y=\"241.8709\">*</text></a><!--MD5=[0a839d0f80c2d72d4b9b307f046d0de8]\n",
       "link E6 to E8--><a href=\"psysml:6818c790-7ee4-49fa-b866-28c88d0d2e1e\" target=\"_top\" title=\"psysml:6818c790-7ee4-49fa-b866-28c88d0d2e1e\" xlink:actuate=\"onRequest\" xlink:href=\"psysml:6818c790-7ee4-49fa-b866-28c88d0d2e1e\" xlink:show=\"new\" xlink:title=\"psysml:6818c790-7ee4-49fa-b866-28c88d0d2e1e\" xlink:type=\"simple\"><path d=\"M117.33,193.06 C115.55,210.7 108.92,235.34 101.2,252.98 \" fill=\"none\" id=\"E6-E8-1\" style=\"stroke: #A80036; stroke-width: 3.0;\"/><text fill=\"#000000\" font-family=\"sans-serif\" font-size=\"13\" lengthAdjust=\"spacingAndGlyphs\" textLength=\"7\" x=\"97.8819\" y=\"241.8709\">*</text></a><!--MD5=[c06aabebda7ca03ba8c70c097bad79a6]\n",
       "@startuml\r\n",
       "skinparam wrapWidth 300\r\n",
       "hide circle\r\n",
       "\r\n",
       "package \"AliasTest\" as E1  [[psysml:7e4311dd-4dd4-41de-a431-b17c5d614850 ]]  {\r\n",
       "comp usage \"q\" as E2  <<(T,blue) attribute>> [[psysml:789c28e5-5e95-405e-84fa-948507b238dc ]] {\r\n",
       "}\r\n",
       "comp def \"P1\" as E3  <<(T,blue) part def>> [[psysml:00588ae4-2df7-4d57-b3d7-e09c73d2d5b1 ]] {\r\n",
       "}\r\n",
       "comp usage \"porig1\" as E4  <<(T,blue) port>> [[psysml:236a437d-3673-4742-905a-959f5dd42893 ]] {\r\n",
       "}\r\n",
       "comp usage \"p1: P1\" as E5  <<(T,blue) part>> [[psysml:4e54ee4d-012b-498f-93d7-1afb3759d34d ]] {\r\n",
       "}\r\n",
       "comp usage \"po1\" as E6  <<(T,blue) port>> [[psysml:8965b7df-293c-4ee2-9b2b-715c01154c80 ]] {\r\n",
       "}\r\n",
       "comp usage \"p2: P1\" as E7  <<(T,blue) part>> [[psysml:77eadb46-ce1a-4e0f-9527-bb06765d2ea7 ]] {\r\n",
       "}\r\n",
       "comp usage \"pdest\" as E8  <<(T,blue) port>> [[psysml:db28622a-fbe8-4c7d-8fe4-9e164802e944 ]] {\r\n",
       "}\r\n",
       "E3 o- - \"1\"E4 [[psysml:10297d07-57fa-4f9d-a873-bd76f542a35c ]] \r\n",
       "E3 +.. \"1\"E4 [[psysml:4c29fec0-8309-450b-9bf3-4a2b28b77917 ]] \r\n",
       "E5 - -:|> E3 [[psysml:93a52ea3-a140-4bd2-b924-ec5ad15b1b7e ]] \r\n",
       "E5 o- - \"1\"E6 [[psysml:cdcbbeec-90be-4e1d-8c60-d92c8a6a7077 ]] \r\n",
       "E6 - -||> E4 [[psysml:b5614b00-f88c-4f87-85f7-609ca7f17bae ]] \r\n",
       "E7 - -:|> E3 [[psysml:87c48ed5-bc50-48bb-899d-f807bfcdc26e ]] \r\n",
       "E7 o- - \"1\"E8 [[psysml:5ff6c459-66f7-4338-82bb-16aa2b22f6b4 ]] \r\n",
       "E7 +.. \"1\"E8 [[psysml:4eb1c616-a5a7-47d5-8985-e84491dc2120 ]] \r\n",
       "E6 -[thickness=3]- \"*\"E8 [[psysml:af89f277-c22a-4acb-b9c9-7f04d6a8a86b ]] \r\n",
       "E6 -[thickness=3]- \"*\"E8 [[psysml:6818c790-7ee4-49fa-b866-28c88d0d2e1e ]] \r\n",
       "}\r\n",
       "@enduml\r\n",
       "\n",
       "PlantUML version 1.2020.13(Sat Jun 13 12:26:38 UTC 2020)\n",
       "(EPL source distribution)\n",
       "Java Runtime: OpenJDK Runtime Environment\n",
       "JVM: OpenJDK 64-Bit Server VM\n",
       "Default Encoding: UTF-8\n",
       "Language: en\n",
       "Country: null\n",
       "--></g></svg>"
      ]
     },
     "execution_count": 28,
     "metadata": {},
     "output_type": "execute_result"
    }
   ],
   "source": [
    "%viz --style=\"STDCOLOR\" --view=\"Sequence\" \"AliasTest\""
   ]
  },
  {
   "cell_type": "code",
   "execution_count": 29,
   "id": "5ee852af",
   "metadata": {
    "execution": {
     "iopub.execute_input": "2021-08-04T06:25:31.981467Z",
     "iopub.status.busy": "2021-08-04T06:25:31.981234Z",
     "iopub.status.idle": "2021-08-04T06:25:32.009576Z",
     "shell.execute_reply": "2021-08-04T06:25:32.008142Z"
    }
   },
   "outputs": [
    {
     "data": {
      "image/svg+xml": [
       "<?xml version=\"1.0\" encoding=\"UTF-8\" standalone=\"no\"?><svg xmlns=\"http://www.w3.org/2000/svg\" xmlns:xlink=\"http://www.w3.org/1999/xlink\" contentScriptType=\"application/ecmascript\" contentStyleType=\"text/css\" height=\"327px\" preserveAspectRatio=\"none\" style=\"width:304px;height:327px;\" version=\"1.1\" viewBox=\"0 0 304 327\" width=\"304px\" zoomAndPan=\"magnify\"><defs><filter height=\"300%\" id=\"fmo66olgvpkvb\" width=\"300%\" x=\"-1\" y=\"-1\"><feGaussianBlur result=\"blurOut\" stdDeviation=\"2.0\"/><feColorMatrix in=\"blurOut\" result=\"blurOut2\" type=\"matrix\" values=\"0 0 0 0 0 0 0 0 0 0 0 0 0 0 0 0 0 0 .4 0\"/><feOffset dx=\"4.0\" dy=\"4.0\" in=\"blurOut2\" result=\"blurOut3\"/><feBlend in=\"SourceGraphic\" in2=\"blurOut3\" mode=\"normal\"/></filter></defs><g><!--MD5=[fbc87193dbaf4d95561dea2c320d4a47]\n",
       "cluster E1--><a href=\"psysml:7e4311dd-4dd4-41de-a431-b17c5d614850\" target=\"_top\" title=\"psysml:7e4311dd-4dd4-41de-a431-b17c5d614850\" xlink:actuate=\"onRequest\" xlink:href=\"psysml:7e4311dd-4dd4-41de-a431-b17c5d614850\" xlink:show=\"new\" xlink:title=\"psysml:7e4311dd-4dd4-41de-a431-b17c5d614850\" xlink:type=\"simple\"><polygon fill=\"#FFFFFF\" filter=\"url(#fmo66olgvpkvb)\" points=\"16,6,94,6,101,28.2969,282,28.2969,282,315,16,315,16,6\" style=\"stroke: #000000; stroke-width: 1.5;\"/><line style=\"stroke: #000000; stroke-width: 1.5;\" x1=\"16\" x2=\"101\" y1=\"28.2969\" y2=\"28.2969\"/><text fill=\"#000000\" font-family=\"sans-serif\" font-size=\"14\" font-weight=\"bold\" lengthAdjust=\"spacingAndGlyphs\" textLength=\"72\" x=\"20\" y=\"20.9951\">AliasTest</text></a><!--MD5=[b4997ac47864f28c2f74865a473b2911]\n",
       "class E2--><a href=\"psysml:789c28e5-5e95-405e-84fa-948507b238dc\" target=\"_top\" title=\"psysml:789c28e5-5e95-405e-84fa-948507b238dc\" xlink:actuate=\"onRequest\" xlink:href=\"psysml:789c28e5-5e95-405e-84fa-948507b238dc\" xlink:show=\"new\" xlink:title=\"psysml:789c28e5-5e95-405e-84fa-948507b238dc\" xlink:type=\"simple\"><rect fill=\"#FEFECE\" filter=\"url(#fmo66olgvpkvb)\" height=\"45.9375\" id=\"E2\" rx=\"10\" ry=\"10\" style=\"stroke: #A80036; stroke-width: 1.5;\" width=\"71\" x=\"194.5\" y=\"41\"/><text fill=\"#000000\" font-family=\"sans-serif\" font-size=\"12\" font-style=\"italic\" lengthAdjust=\"spacingAndGlyphs\" textLength=\"69\" x=\"195.5\" y=\"57.1387\">«attribute»</text><text fill=\"#000000\" font-family=\"sans-serif\" font-size=\"12\" lengthAdjust=\"spacingAndGlyphs\" textLength=\"8\" x=\"226\" y=\"71.1074\">q</text><line style=\"stroke: #A80036; stroke-width: 1.5;\" x1=\"195.5\" x2=\"264.5\" y1=\"78.9375\" y2=\"78.9375\"/></a><!--MD5=[09b614a08d8cba4a07c9adeb5e0fee81]\n",
       "class E3--><a href=\"psysml:00588ae4-2df7-4d57-b3d7-e09c73d2d5b1\" target=\"_top\" title=\"psysml:00588ae4-2df7-4d57-b3d7-e09c73d2d5b1\" xlink:actuate=\"onRequest\" xlink:href=\"psysml:00588ae4-2df7-4d57-b3d7-e09c73d2d5b1\" xlink:show=\"new\" xlink:title=\"psysml:00588ae4-2df7-4d57-b3d7-e09c73d2d5b1\" xlink:type=\"simple\"><rect fill=\"#FEFECE\" filter=\"url(#fmo66olgvpkvb)\" height=\"45.9375\" id=\"E3\" style=\"stroke: #A80036; stroke-width: 1.5;\" width=\"66\" x=\"168\" y=\"147\"/><text fill=\"#000000\" font-family=\"sans-serif\" font-size=\"12\" font-style=\"italic\" lengthAdjust=\"spacingAndGlyphs\" textLength=\"64\" x=\"169\" y=\"163.1387\">«part def»</text><text fill=\"#000000\" font-family=\"sans-serif\" font-size=\"12\" lengthAdjust=\"spacingAndGlyphs\" textLength=\"16\" x=\"193\" y=\"177.1074\">P1</text><line style=\"stroke: #A80036; stroke-width: 1.5;\" x1=\"169\" x2=\"233\" y1=\"184.9375\" y2=\"184.9375\"/></a><!--MD5=[ebbe1d658d1005bcc118a6aa81145e00]\n",
       "class E4--><a href=\"psysml:236a437d-3673-4742-905a-959f5dd42893\" target=\"_top\" title=\"psysml:236a437d-3673-4742-905a-959f5dd42893\" xlink:actuate=\"onRequest\" xlink:href=\"psysml:236a437d-3673-4742-905a-959f5dd42893\" xlink:show=\"new\" xlink:title=\"psysml:236a437d-3673-4742-905a-959f5dd42893\" xlink:type=\"simple\"><rect fill=\"#FEFECE\" filter=\"url(#fmo66olgvpkvb)\" height=\"45.9375\" id=\"E4\" rx=\"10\" ry=\"10\" style=\"stroke: #A80036; stroke-width: 1.5;\" width=\"46\" x=\"178\" y=\"253\"/><text fill=\"#000000\" font-family=\"sans-serif\" font-size=\"12\" font-style=\"italic\" lengthAdjust=\"spacingAndGlyphs\" textLength=\"40\" x=\"181\" y=\"269.1387\">«port»</text><text fill=\"#000000\" font-family=\"sans-serif\" font-size=\"12\" lengthAdjust=\"spacingAndGlyphs\" textLength=\"40\" x=\"181\" y=\"283.1074\">porig1</text><line style=\"stroke: #A80036; stroke-width: 1.5;\" x1=\"179\" x2=\"223\" y1=\"290.9375\" y2=\"290.9375\"/></a><!--MD5=[270fce915f116d4de14055a7c1d9a0f3]\n",
       "class E5--><a href=\"psysml:4e54ee4d-012b-498f-93d7-1afb3759d34d\" target=\"_top\" title=\"psysml:4e54ee4d-012b-498f-93d7-1afb3759d34d\" xlink:actuate=\"onRequest\" xlink:href=\"psysml:4e54ee4d-012b-498f-93d7-1afb3759d34d\" xlink:show=\"new\" xlink:title=\"psysml:4e54ee4d-012b-498f-93d7-1afb3759d34d\" xlink:type=\"simple\"><rect fill=\"#FEFECE\" filter=\"url(#fmo66olgvpkvb)\" height=\"45.9375\" id=\"E5\" rx=\"10\" ry=\"10\" style=\"stroke: #A80036; stroke-width: 1.5;\" width=\"46\" x=\"113\" y=\"41\"/><text fill=\"#000000\" font-family=\"sans-serif\" font-size=\"12\" font-style=\"italic\" lengthAdjust=\"spacingAndGlyphs\" textLength=\"40\" x=\"116\" y=\"57.1387\">«part»</text><text fill=\"#000000\" font-family=\"sans-serif\" font-size=\"12\" lengthAdjust=\"spacingAndGlyphs\" textLength=\"40\" x=\"116\" y=\"71.1074\">p1: P1</text><line style=\"stroke: #A80036; stroke-width: 1.5;\" x1=\"114\" x2=\"158\" y1=\"78.9375\" y2=\"78.9375\"/></a><!--MD5=[60a26617385b1d2d0262a64233df1f8d]\n",
       "class E6--><a href=\"psysml:8965b7df-293c-4ee2-9b2b-715c01154c80\" target=\"_top\" title=\"psysml:8965b7df-293c-4ee2-9b2b-715c01154c80\" xlink:actuate=\"onRequest\" xlink:href=\"psysml:8965b7df-293c-4ee2-9b2b-715c01154c80\" xlink:show=\"new\" xlink:title=\"psysml:8965b7df-293c-4ee2-9b2b-715c01154c80\" xlink:type=\"simple\"><rect fill=\"#FEFECE\" filter=\"url(#fmo66olgvpkvb)\" height=\"45.9375\" id=\"E6\" rx=\"10\" ry=\"10\" style=\"stroke: #A80036; stroke-width: 1.5;\" width=\"42\" x=\"91\" y=\"147\"/><text fill=\"#000000\" font-family=\"sans-serif\" font-size=\"12\" font-style=\"italic\" lengthAdjust=\"spacingAndGlyphs\" textLength=\"40\" x=\"92\" y=\"163.1387\">«port»</text><text fill=\"#000000\" font-family=\"sans-serif\" font-size=\"12\" lengthAdjust=\"spacingAndGlyphs\" textLength=\"24\" x=\"100\" y=\"177.1074\">po1</text><line style=\"stroke: #A80036; stroke-width: 1.5;\" x1=\"92\" x2=\"132\" y1=\"184.9375\" y2=\"184.9375\"/></a><!--MD5=[2156ba9850f5573cc1fc38a6a4b2f02b]\n",
       "class E7--><a href=\"psysml:77eadb46-ce1a-4e0f-9527-bb06765d2ea7\" target=\"_top\" title=\"psysml:77eadb46-ce1a-4e0f-9527-bb06765d2ea7\" xlink:actuate=\"onRequest\" xlink:href=\"psysml:77eadb46-ce1a-4e0f-9527-bb06765d2ea7\" xlink:show=\"new\" xlink:title=\"psysml:77eadb46-ce1a-4e0f-9527-bb06765d2ea7\" xlink:type=\"simple\"><rect fill=\"#FEFECE\" filter=\"url(#fmo66olgvpkvb)\" height=\"45.9375\" id=\"E7\" rx=\"10\" ry=\"10\" style=\"stroke: #A80036; stroke-width: 1.5;\" width=\"46\" x=\"32\" y=\"41\"/><text fill=\"#000000\" font-family=\"sans-serif\" font-size=\"12\" font-style=\"italic\" lengthAdjust=\"spacingAndGlyphs\" textLength=\"40\" x=\"35\" y=\"57.1387\">«part»</text><text fill=\"#000000\" font-family=\"sans-serif\" font-size=\"12\" lengthAdjust=\"spacingAndGlyphs\" textLength=\"40\" x=\"35\" y=\"71.1074\">p2: P1</text><line style=\"stroke: #A80036; stroke-width: 1.5;\" x1=\"33\" x2=\"77\" y1=\"78.9375\" y2=\"78.9375\"/></a><!--MD5=[b9389687b975829384b498ac4b7476b2]\n",
       "class E8--><a href=\"psysml:db28622a-fbe8-4c7d-8fe4-9e164802e944\" target=\"_top\" title=\"psysml:db28622a-fbe8-4c7d-8fe4-9e164802e944\" xlink:actuate=\"onRequest\" xlink:href=\"psysml:db28622a-fbe8-4c7d-8fe4-9e164802e944\" xlink:show=\"new\" xlink:title=\"psysml:db28622a-fbe8-4c7d-8fe4-9e164802e944\" xlink:type=\"simple\"><rect fill=\"#FEFECE\" filter=\"url(#fmo66olgvpkvb)\" height=\"45.9375\" id=\"E8\" rx=\"10\" ry=\"10\" style=\"stroke: #A80036; stroke-width: 1.5;\" width=\"42\" x=\"63\" y=\"253\"/><text fill=\"#000000\" font-family=\"sans-serif\" font-size=\"12\" font-style=\"italic\" lengthAdjust=\"spacingAndGlyphs\" textLength=\"40\" x=\"64\" y=\"269.1387\">«port»</text><text fill=\"#000000\" font-family=\"sans-serif\" font-size=\"12\" lengthAdjust=\"spacingAndGlyphs\" textLength=\"36\" x=\"66\" y=\"283.1074\">pdest</text><line style=\"stroke: #A80036; stroke-width: 1.5;\" x1=\"64\" x2=\"104\" y1=\"290.9375\" y2=\"290.9375\"/></a><!--MD5=[4672eba38e49728da53d11aeb285b987]\n",
       "reverse link E3 to E4--><a href=\"psysml:10297d07-57fa-4f9d-a873-bd76f542a35c\" target=\"_top\" title=\"psysml:10297d07-57fa-4f9d-a873-bd76f542a35c\" xlink:actuate=\"onRequest\" xlink:href=\"psysml:10297d07-57fa-4f9d-a873-bd76f542a35c\" xlink:show=\"new\" xlink:title=\"psysml:10297d07-57fa-4f9d-a873-bd76f542a35c\" xlink:type=\"simple\"><path d=\"M188.84,206.44 C187.7,221.87 188.21,239.47 190.36,252.98 \" fill=\"none\" id=\"E3&lt;-E4\" style=\"stroke: #A80036; stroke-width: 1.0;\"/><polygon fill=\"#FFFFFF\" points=\"190.35,193.06,185.7032,198.5743,189.006,204.9845,193.6528,199.4702,190.35,193.06\" style=\"stroke: #A80036; stroke-width: 1.0;\"/><text fill=\"#000000\" font-family=\"sans-serif\" font-size=\"13\" lengthAdjust=\"spacingAndGlyphs\" textLength=\"8\" x=\"178.4255\" y=\"241.8709\">1</text></a><!--MD5=[4672eba38e49728da53d11aeb285b987]\n",
       "reverse link E3 to E4--><a href=\"psysml:4c29fec0-8309-450b-9bf3-4a2b28b77917\" target=\"_top\" title=\"psysml:4c29fec0-8309-450b-9bf3-4a2b28b77917\" xlink:actuate=\"onRequest\" xlink:href=\"psysml:4c29fec0-8309-450b-9bf3-4a2b28b77917\" xlink:show=\"new\" xlink:title=\"psysml:4c29fec0-8309-450b-9bf3-4a2b28b77917\" xlink:type=\"simple\"><path d=\"M214.01,208.34 C215.03,223.3 214.45,240.02 212.27,252.98 \" fill=\"none\" id=\"E3&lt;-E4-1\" style=\"stroke: #A80036; stroke-width: 1.0; stroke-dasharray: 7.0,7.0;\"/><ellipse cx=\"213.1693\" cy=\"201.0093\" fill=\"#FFFFFF\" rx=\"8\" ry=\"8\" style=\"stroke: #A80036; stroke-width: 1.0;\"/><line style=\"stroke: #A80036; stroke-width: 1.0;\" x1=\"214.0687\" x2=\"212.27\" y1=\"208.9586\" y2=\"193.06\"/><line style=\"stroke: #A80036; stroke-width: 1.0;\" x1=\"205.2201\" x2=\"221.1186\" y1=\"201.9086\" y2=\"200.1099\"/><text fill=\"#000000\" font-family=\"sans-serif\" font-size=\"13\" lengthAdjust=\"spacingAndGlyphs\" textLength=\"8\" x=\"206.2238\" y=\"241.8709\">1</text></a><!--MD5=[e9be52314489bd878ff4c7144b63c9e1]\n",
       "link E5 to E3--><a href=\"psysml:93a52ea3-a140-4bd2-b924-ec5ad15b1b7e\" target=\"_top\" title=\"psysml:93a52ea3-a140-4bd2-b924-ec5ad15b1b7e\" xlink:actuate=\"onRequest\" xlink:href=\"psysml:93a52ea3-a140-4bd2-b924-ec5ad15b1b7e\" xlink:show=\"new\" xlink:title=\"psysml:93a52ea3-a140-4bd2-b924-ec5ad15b1b7e\" xlink:type=\"simple\"><path d=\"M149.78,87.06 C157.54,99.47 167.45,115.33 176.49,129.78 \" fill=\"none\" id=\"E5-&gt;E3\" style=\"stroke: #A80036; stroke-width: 1.0;\"/><polygon fill=\"#FFFFFF\" points=\"187.24,146.98,171.2331,134.5792,183.1045,127.1584,187.24,146.98\" style=\"stroke: #A80036; stroke-width: 1.0;\"/><ellipse cx=\"169.9076\" cy=\"128.6857\" fill=\"#A80036\" rx=\"2\" ry=\"2\" style=\"stroke: #A80036; stroke-width: 1.0;\"/><ellipse cx=\"178.3872\" cy=\"123.3851\" fill=\"#A80036\" rx=\"2\" ry=\"2\" style=\"stroke: #A80036; stroke-width: 1.0;\"/></a><!--MD5=[85d356282659285ab4b2cfe2f634dd2b]\n",
       "reverse link E5 to E6--><a href=\"psysml:cdcbbeec-90be-4e1d-8c60-d92c8a6a7077\" target=\"_top\" title=\"psysml:cdcbbeec-90be-4e1d-8c60-d92c8a6a7077\" xlink:actuate=\"onRequest\" xlink:href=\"psysml:cdcbbeec-90be-4e1d-8c60-d92c8a6a7077\" xlink:show=\"new\" xlink:title=\"psysml:cdcbbeec-90be-4e1d-8c60-d92c8a6a7077\" xlink:type=\"simple\"><path d=\"M127.93,99.96 C124.34,115.51 120.23,133.33 117.08,146.98 \" fill=\"none\" id=\"E5&lt;-E6\" style=\"stroke: #A80036; stroke-width: 1.0;\"/><polygon fill=\"#FFFFFF\" points=\"130.91,87.06,125.6616,92.0052,128.2078,98.7518,133.4562,93.8066,130.91,87.06\" style=\"stroke: #A80036; stroke-width: 1.0;\"/><text fill=\"#000000\" font-family=\"sans-serif\" font-size=\"13\" lengthAdjust=\"spacingAndGlyphs\" textLength=\"8\" x=\"109.3703\" y=\"135.8709\">1</text></a><!--MD5=[f667431f98296947986a1a7595a31603]\n",
       "link E6 to E4--><a href=\"psysml:b5614b00-f88c-4f87-85f7-609ca7f17bae\" target=\"_top\" title=\"psysml:b5614b00-f88c-4f87-85f7-609ca7f17bae\" xlink:actuate=\"onRequest\" xlink:href=\"psysml:b5614b00-f88c-4f87-85f7-609ca7f17bae\" xlink:show=\"new\" xlink:title=\"psysml:b5614b00-f88c-4f87-85f7-609ca7f17bae\" xlink:type=\"simple\"><path d=\"M130.87,193.06 C141.97,206.02 156.28,222.74 169.08,237.7 \" fill=\"none\" id=\"E6-&gt;E4\" style=\"stroke: #A80036; stroke-width: 1.0;\"/><polygon fill=\"#FFFFFF\" points=\"182.15,252.98,164.4809,243.0905,175.1204,233.9909,182.15,252.98\" style=\"stroke: #A80036; stroke-width: 1.0;\"/><line style=\"stroke: #A80036; stroke-width: 2.0;\" x1=\"162.011\" x2=\"172.6505\" y1=\"240.2026\" y2=\"231.1031\"/></a><!--MD5=[14ccda38c055a5c0da953d572bc50960]\n",
       "link E7 to E3--><a href=\"psysml:87c48ed5-bc50-48bb-899d-f807bfcdc26e\" target=\"_top\" title=\"psysml:87c48ed5-bc50-48bb-899d-f807bfcdc26e\" xlink:actuate=\"onRequest\" xlink:href=\"psysml:87c48ed5-bc50-48bb-899d-f807bfcdc26e\" xlink:show=\"new\" xlink:title=\"psysml:87c48ed5-bc50-48bb-899d-f807bfcdc26e\" xlink:type=\"simple\"><path d=\"M78.13,81.48 C98.32,95.86 128.25,117.18 153.52,135.18 \" fill=\"none\" id=\"E7-&gt;E3\" style=\"stroke: #A80036; stroke-width: 1.0;\"/><polygon fill=\"#FFFFFF\" points=\"170.09,146.98,150.5533,141.6586,158.6755,130.2555,170.09,146.98\" style=\"stroke: #A80036; stroke-width: 1.0;\"/><ellipse cx=\"147.0709\" cy=\"136.7227\" fill=\"#A80036\" rx=\"2\" ry=\"2\" style=\"stroke: #A80036; stroke-width: 1.0;\"/><ellipse cx=\"152.8725\" cy=\"128.5776\" fill=\"#A80036\" rx=\"2\" ry=\"2\" style=\"stroke: #A80036; stroke-width: 1.0;\"/></a><!--MD5=[dc164f5e8a733ab456ef1add180e9e34]\n",
       "reverse link E7 to E8--><a href=\"psysml:5ff6c459-66f7-4338-82bb-16aa2b22f6b4\" target=\"_top\" title=\"psysml:5ff6c459-66f7-4338-82bb-16aa2b22f6b4\" xlink:actuate=\"onRequest\" xlink:href=\"psysml:5ff6c459-66f7-4338-82bb-16aa2b22f6b4\" xlink:show=\"new\" xlink:title=\"psysml:5ff6c459-66f7-4338-82bb-16aa2b22f6b4\" xlink:type=\"simple\"><path d=\"M50.05,100.09 C51.65,143.61 62.25,216.5 72.75,252.9 \" fill=\"none\" id=\"E7&lt;-E8\" style=\"stroke: #A80036; stroke-width: 1.0;\"/><polygon fill=\"#FFFFFF\" points=\"49.85,87.08,45.9362,93.1366,50.0216,99.0788,53.9354,93.0222,49.85,87.08\" style=\"stroke: #A80036; stroke-width: 1.0;\"/><text fill=\"#000000\" font-family=\"sans-serif\" font-size=\"13\" lengthAdjust=\"spacingAndGlyphs\" textLength=\"8\" x=\"60.6516\" y=\"241.7694\">1</text></a><!--MD5=[dc164f5e8a733ab456ef1add180e9e34]\n",
       "reverse link E7 to E8--><a href=\"psysml:4eb1c616-a5a7-47d5-8985-e84491dc2120\" target=\"_top\" title=\"psysml:4eb1c616-a5a7-47d5-8985-e84491dc2120\" xlink:actuate=\"onRequest\" xlink:href=\"psysml:4eb1c616-a5a7-47d5-8985-e84491dc2120\" xlink:show=\"new\" xlink:title=\"psysml:4eb1c616-a5a7-47d5-8985-e84491dc2120\" xlink:type=\"simple\"><path d=\"M70.64,101.8 C81.15,145.5 90.39,216.97 89.63,252.9 \" fill=\"none\" id=\"E7&lt;-E8-1\" style=\"stroke: #A80036; stroke-width: 1.0; stroke-dasharray: 7.0,7.0;\"/><ellipse cx=\"68.7794\" cy=\"94.813\" fill=\"#FFFFFF\" rx=\"8\" ry=\"8\" style=\"stroke: #A80036; stroke-width: 1.0;\"/><line style=\"stroke: #A80036; stroke-width: 1.0;\" x1=\"70.8289\" x2=\"66.73\" y1=\"102.5461\" y2=\"87.08\"/><line style=\"stroke: #A80036; stroke-width: 1.0;\" x1=\"61.0464\" x2=\"76.5125\" y1=\"96.8625\" y2=\"92.7636\"/><text fill=\"#000000\" font-family=\"sans-serif\" font-size=\"13\" lengthAdjust=\"spacingAndGlyphs\" textLength=\"8\" x=\"92.2181\" y=\"241.7694\">1</text></a><!--MD5=[0a839d0f80c2d72d4b9b307f046d0de8]\n",
       "link E6 to E8--><a href=\"psysml:af89f277-c22a-4acb-b9c9-7f04d6a8a86b\" target=\"_top\" title=\"psysml:af89f277-c22a-4acb-b9c9-7f04d6a8a86b\" xlink:actuate=\"onRequest\" xlink:href=\"psysml:af89f277-c22a-4acb-b9c9-7f04d6a8a86b\" xlink:show=\"new\" xlink:title=\"psysml:af89f277-c22a-4acb-b9c9-7f04d6a8a86b\" xlink:type=\"simple\"><path d=\"M95.42,193.06 C87.86,210.7 81.23,235.34 79.29,252.98 \" fill=\"none\" id=\"E6-E8\" style=\"stroke: #A80036; stroke-width: 3.0;\"/><text fill=\"#000000\" font-family=\"sans-serif\" font-size=\"13\" lengthAdjust=\"spacingAndGlyphs\" textLength=\"7\" x=\"78.9648\" y=\"241.8709\">*</text></a><!--MD5=[0a839d0f80c2d72d4b9b307f046d0de8]\n",
       "link E6 to E8--><a href=\"psysml:6818c790-7ee4-49fa-b866-28c88d0d2e1e\" target=\"_top\" title=\"psysml:6818c790-7ee4-49fa-b866-28c88d0d2e1e\" xlink:actuate=\"onRequest\" xlink:href=\"psysml:6818c790-7ee4-49fa-b866-28c88d0d2e1e\" xlink:show=\"new\" xlink:title=\"psysml:6818c790-7ee4-49fa-b866-28c88d0d2e1e\" xlink:type=\"simple\"><path d=\"M117.33,193.06 C115.55,210.7 108.92,235.34 101.2,252.98 \" fill=\"none\" id=\"E6-E8-1\" style=\"stroke: #A80036; stroke-width: 3.0;\"/><text fill=\"#000000\" font-family=\"sans-serif\" font-size=\"13\" lengthAdjust=\"spacingAndGlyphs\" textLength=\"7\" x=\"97.8819\" y=\"241.8709\">*</text></a><!--MD5=[c06aabebda7ca03ba8c70c097bad79a6]\n",
       "@startuml\r\n",
       "skinparam wrapWidth 300\r\n",
       "hide circle\r\n",
       "\r\n",
       "package \"AliasTest\" as E1  [[psysml:7e4311dd-4dd4-41de-a431-b17c5d614850 ]]  {\r\n",
       "comp usage \"q\" as E2  <<(T,blue) attribute>> [[psysml:789c28e5-5e95-405e-84fa-948507b238dc ]] {\r\n",
       "}\r\n",
       "comp def \"P1\" as E3  <<(T,blue) part def>> [[psysml:00588ae4-2df7-4d57-b3d7-e09c73d2d5b1 ]] {\r\n",
       "}\r\n",
       "comp usage \"porig1\" as E4  <<(T,blue) port>> [[psysml:236a437d-3673-4742-905a-959f5dd42893 ]] {\r\n",
       "}\r\n",
       "comp usage \"p1: P1\" as E5  <<(T,blue) part>> [[psysml:4e54ee4d-012b-498f-93d7-1afb3759d34d ]] {\r\n",
       "}\r\n",
       "comp usage \"po1\" as E6  <<(T,blue) port>> [[psysml:8965b7df-293c-4ee2-9b2b-715c01154c80 ]] {\r\n",
       "}\r\n",
       "comp usage \"p2: P1\" as E7  <<(T,blue) part>> [[psysml:77eadb46-ce1a-4e0f-9527-bb06765d2ea7 ]] {\r\n",
       "}\r\n",
       "comp usage \"pdest\" as E8  <<(T,blue) port>> [[psysml:db28622a-fbe8-4c7d-8fe4-9e164802e944 ]] {\r\n",
       "}\r\n",
       "E3 o- - \"1\"E4 [[psysml:10297d07-57fa-4f9d-a873-bd76f542a35c ]] \r\n",
       "E3 +.. \"1\"E4 [[psysml:4c29fec0-8309-450b-9bf3-4a2b28b77917 ]] \r\n",
       "E5 - -:|> E3 [[psysml:93a52ea3-a140-4bd2-b924-ec5ad15b1b7e ]] \r\n",
       "E5 o- - \"1\"E6 [[psysml:cdcbbeec-90be-4e1d-8c60-d92c8a6a7077 ]] \r\n",
       "E6 - -||> E4 [[psysml:b5614b00-f88c-4f87-85f7-609ca7f17bae ]] \r\n",
       "E7 - -:|> E3 [[psysml:87c48ed5-bc50-48bb-899d-f807bfcdc26e ]] \r\n",
       "E7 o- - \"1\"E8 [[psysml:5ff6c459-66f7-4338-82bb-16aa2b22f6b4 ]] \r\n",
       "E7 +.. \"1\"E8 [[psysml:4eb1c616-a5a7-47d5-8985-e84491dc2120 ]] \r\n",
       "E6 -[thickness=3]- \"*\"E8 [[psysml:af89f277-c22a-4acb-b9c9-7f04d6a8a86b ]] \r\n",
       "E6 -[thickness=3]- \"*\"E8 [[psysml:6818c790-7ee4-49fa-b866-28c88d0d2e1e ]] \r\n",
       "}\r\n",
       "@enduml\r\n",
       "\n",
       "PlantUML version 1.2020.13(Sat Jun 13 12:26:38 UTC 2020)\n",
       "(EPL source distribution)\n",
       "Java Runtime: OpenJDK Runtime Environment\n",
       "JVM: OpenJDK 64-Bit Server VM\n",
       "Default Encoding: UTF-8\n",
       "Language: en\n",
       "Country: null\n",
       "--></g></svg>"
      ]
     },
     "execution_count": 29,
     "metadata": {},
     "output_type": "execute_result"
    }
   ],
   "source": [
    "%viz --style=\"STDCOLOR\" --view=\"MIXED\" \"AliasTest\""
   ]
  },
  {
   "cell_type": "code",
   "execution_count": 30,
   "id": "9eecbc03",
   "metadata": {
    "execution": {
     "iopub.execute_input": "2021-08-04T06:25:32.059121Z",
     "iopub.status.busy": "2021-08-04T06:25:32.058523Z",
     "iopub.status.idle": "2021-08-04T06:25:32.095950Z",
     "shell.execute_reply": "2021-08-04T06:25:32.094497Z"
    }
   },
   "outputs": [
    {
     "data": {
      "image/svg+xml": [
       "<?xml version=\"1.0\" encoding=\"UTF-8\" standalone=\"no\"?><svg xmlns=\"http://www.w3.org/2000/svg\" xmlns:xlink=\"http://www.w3.org/1999/xlink\" contentScriptType=\"application/ecmascript\" contentStyleType=\"text/css\" height=\"327px\" preserveAspectRatio=\"none\" style=\"width:381px;height:327px;\" version=\"1.1\" viewBox=\"0 0 381 327\" width=\"381px\" zoomAndPan=\"magnify\"><defs><filter height=\"300%\" id=\"fva0ty0nbu5t6\" width=\"300%\" x=\"-1\" y=\"-1\"><feGaussianBlur result=\"blurOut\" stdDeviation=\"2.0\"/><feColorMatrix in=\"blurOut\" result=\"blurOut2\" type=\"matrix\" values=\"0 0 0 0 0 0 0 0 0 0 0 0 0 0 0 0 0 0 .4 0\"/><feOffset dx=\"4.0\" dy=\"4.0\" in=\"blurOut2\" result=\"blurOut3\"/><feBlend in=\"SourceGraphic\" in2=\"blurOut3\" mode=\"normal\"/></filter></defs><g><!--MD5=[fbc87193dbaf4d95561dea2c320d4a47]\n",
       "cluster E1--><a href=\"psysml:7e4311dd-4dd4-41de-a431-b17c5d614850\" target=\"_top\" title=\"psysml:7e4311dd-4dd4-41de-a431-b17c5d614850\" xlink:actuate=\"onRequest\" xlink:href=\"psysml:7e4311dd-4dd4-41de-a431-b17c5d614850\" xlink:show=\"new\" xlink:title=\"psysml:7e4311dd-4dd4-41de-a431-b17c5d614850\" xlink:type=\"simple\"><polygon fill=\"#FFFFFF\" filter=\"url(#fva0ty0nbu5t6)\" points=\"16,6,94,6,101,28.2969,359,28.2969,359,315,16,315,16,6\" style=\"stroke: #000000; stroke-width: 1.5;\"/><line style=\"stroke: #000000; stroke-width: 1.5;\" x1=\"16\" x2=\"101\" y1=\"28.2969\" y2=\"28.2969\"/><text fill=\"#000000\" font-family=\"sans-serif\" font-size=\"14\" font-weight=\"bold\" lengthAdjust=\"spacingAndGlyphs\" textLength=\"72\" x=\"20\" y=\"20.9951\">AliasTest</text></a><!--MD5=[b4997ac47864f28c2f74865a473b2911]\n",
       "class E2--><a href=\"psysml:789c28e5-5e95-405e-84fa-948507b238dc\" target=\"_top\" title=\"psysml:789c28e5-5e95-405e-84fa-948507b238dc\" xlink:actuate=\"onRequest\" xlink:href=\"psysml:789c28e5-5e95-405e-84fa-948507b238dc\" xlink:show=\"new\" xlink:title=\"psysml:789c28e5-5e95-405e-84fa-948507b238dc\" xlink:type=\"simple\"><rect fill=\"#FEFECE\" filter=\"url(#fva0ty0nbu5t6)\" height=\"45.9375\" id=\"E2\" rx=\"10\" ry=\"10\" style=\"stroke: #A80036; stroke-width: 1.5;\" width=\"97\" x=\"246.5\" y=\"41\"/><ellipse cx=\"261.5\" cy=\"59.9688\" fill=\"#FFA500\" rx=\"11\" ry=\"11\" style=\"stroke: #A80036; stroke-width: 1.0;\"/><path d=\"M257.375,61.8906 L257.375,54.0781 L259.8281,54.0781 L259.8281,62.5156 Q259.8281,63.4375 260.2969,63.9688 Q260.7813,64.5 261.6094,64.5 Q262.4531,64.5 262.9219,63.9688 Q263.3906,63.4375 263.3906,62.5156 L263.3906,54.0781 L265.8438,54.0781 L265.8438,61.8906 Q265.8438,64.4219 264.8438,65.5625 Q263.8438,66.7031 261.6094,66.7031 Q259.3906,66.7031 258.375,65.5625 Q257.375,64.4219 257.375,61.8906 Z \"/><text fill=\"#000000\" font-family=\"sans-serif\" font-size=\"12\" font-style=\"italic\" lengthAdjust=\"spacingAndGlyphs\" textLength=\"69\" x=\"273.5\" y=\"57.1387\">«attribute»</text><text fill=\"#000000\" font-family=\"sans-serif\" font-size=\"12\" lengthAdjust=\"spacingAndGlyphs\" textLength=\"8\" x=\"304\" y=\"71.1074\">q</text><line style=\"stroke: #A80036; stroke-width: 1.5;\" x1=\"247.5\" x2=\"342.5\" y1=\"78.9375\" y2=\"78.9375\"/></a><!--MD5=[09b614a08d8cba4a07c9adeb5e0fee81]\n",
       "class E3--><a href=\"psysml:00588ae4-2df7-4d57-b3d7-e09c73d2d5b1\" target=\"_top\" title=\"psysml:00588ae4-2df7-4d57-b3d7-e09c73d2d5b1\" xlink:actuate=\"onRequest\" xlink:href=\"psysml:00588ae4-2df7-4d57-b3d7-e09c73d2d5b1\" xlink:show=\"new\" xlink:title=\"psysml:00588ae4-2df7-4d57-b3d7-e09c73d2d5b1\" xlink:type=\"simple\"><rect fill=\"#FEFECE\" filter=\"url(#fva0ty0nbu5t6)\" height=\"40\" id=\"E3\" style=\"stroke: #A80036; stroke-width: 1.5;\" width=\"48\" x=\"207\" y=\"150\"/><ellipse cx=\"222\" cy=\"166\" fill=\"#008000\" rx=\"11\" ry=\"11\" style=\"stroke: #A80036; stroke-width: 1.0;\"/><path d=\"M220.9063,166.375 L220.9063,170.0469 L222.5313,170.0469 Q223.7031,170.0469 224.1719,169.6563 Q224.6406,169.25 224.6406,168.25 Q224.6406,167.25 224.1406,166.8125 Q223.6563,166.375 222.5313,166.375 L220.9063,166.375 Z M220.9063,161.5469 L220.9063,164.4219 L222.5313,164.4219 Q223.4531,164.4219 223.8438,164.0938 Q224.25,163.75 224.25,163 Q224.25,162.2344 223.8438,161.8906 Q223.4375,161.5469 222.5313,161.5469 L220.9063,161.5469 Z M218.5313,159.5938 L222.5313,159.5938 Q224.5938,159.5938 225.6406,160.375 Q226.6875,161.1563 226.6875,162.7188 Q226.6875,163.9219 226.0625,164.5938 Q225.4531,165.2656 224.2656,165.375 Q225.6875,165.5156 226.4063,166.3281 Q227.125,167.1406 227.125,168.5938 Q227.125,170.3906 226.0469,171.2031 Q224.9688,172 222.5313,172 L218.5313,172 L218.5313,159.5938 Z \"/><text fill=\"#000000\" font-family=\"sans-serif\" font-size=\"12\" lengthAdjust=\"spacingAndGlyphs\" textLength=\"16\" x=\"236\" y=\"170.1543\">P1</text><line style=\"stroke: #A80036; stroke-width: 1.5;\" x1=\"208\" x2=\"254\" y1=\"182\" y2=\"182\"/></a><!--MD5=[ebbe1d658d1005bcc118a6aa81145e00]\n",
       "class E4--><a href=\"psysml:236a437d-3673-4742-905a-959f5dd42893\" target=\"_top\" title=\"psysml:236a437d-3673-4742-905a-959f5dd42893\" xlink:actuate=\"onRequest\" xlink:href=\"psysml:236a437d-3673-4742-905a-959f5dd42893\" xlink:show=\"new\" xlink:title=\"psysml:236a437d-3673-4742-905a-959f5dd42893\" xlink:type=\"simple\"><rect fill=\"#FEFECE\" filter=\"url(#fva0ty0nbu5t6)\" height=\"45.9375\" id=\"E4\" rx=\"10\" ry=\"10\" style=\"stroke: #A80036; stroke-width: 1.5;\" width=\"72\" x=\"195\" y=\"253\"/><ellipse cx=\"210\" cy=\"271.9688\" fill=\"#0000FF\" rx=\"11\" ry=\"11\" style=\"stroke: #A80036; stroke-width: 1.0;\"/><path d=\"M209.7969,267.6406 L209.7969,271.2656 L210.7969,271.2656 Q212,271.2656 212.4844,270.8594 Q212.9688,270.4531 212.9688,269.4531 Q212.9688,268.4531 212.4844,268.0469 Q212,267.6406 210.7969,267.6406 L209.7969,267.6406 Z M207.3438,265.5781 L210.7031,265.5781 Q213.2656,265.5781 214.3906,266.5 Q215.5156,267.4063 215.5156,269.4531 Q215.5156,271.5 214.3906,272.4219 Q213.2656,273.3281 210.7031,273.3281 L209.7969,273.3281 L209.7969,277.9688 L207.3438,277.9688 L207.3438,265.5781 Z \"/><text fill=\"#000000\" font-family=\"sans-serif\" font-size=\"12\" font-style=\"italic\" lengthAdjust=\"spacingAndGlyphs\" textLength=\"40\" x=\"224\" y=\"269.1387\">«port»</text><text fill=\"#000000\" font-family=\"sans-serif\" font-size=\"12\" lengthAdjust=\"spacingAndGlyphs\" textLength=\"40\" x=\"224\" y=\"283.1074\">porig1</text><line style=\"stroke: #A80036; stroke-width: 1.5;\" x1=\"196\" x2=\"266\" y1=\"290.9375\" y2=\"290.9375\"/></a><!--MD5=[270fce915f116d4de14055a7c1d9a0f3]\n",
       "class E5--><a href=\"psysml:4e54ee4d-012b-498f-93d7-1afb3759d34d\" target=\"_top\" title=\"psysml:4e54ee4d-012b-498f-93d7-1afb3759d34d\" xlink:actuate=\"onRequest\" xlink:href=\"psysml:4e54ee4d-012b-498f-93d7-1afb3759d34d\" xlink:show=\"new\" xlink:title=\"psysml:4e54ee4d-012b-498f-93d7-1afb3759d34d\" xlink:type=\"simple\"><rect fill=\"#FEFECE\" filter=\"url(#fva0ty0nbu5t6)\" height=\"45.9375\" id=\"E5\" rx=\"10\" ry=\"10\" style=\"stroke: #A80036; stroke-width: 1.5;\" width=\"72\" x=\"139\" y=\"41\"/><ellipse cx=\"154\" cy=\"59.9688\" fill=\"#32CD32\" rx=\"11\" ry=\"11\" style=\"stroke: #A80036; stroke-width: 1.0;\"/><path d=\"M153.7969,55.6406 L153.7969,59.2656 L154.7969,59.2656 Q156,59.2656 156.4844,58.8594 Q156.9688,58.4531 156.9688,57.4531 Q156.9688,56.4531 156.4844,56.0469 Q156,55.6406 154.7969,55.6406 L153.7969,55.6406 Z M151.3438,53.5781 L154.7031,53.5781 Q157.2656,53.5781 158.3906,54.5 Q159.5156,55.4063 159.5156,57.4531 Q159.5156,59.5 158.3906,60.4219 Q157.2656,61.3281 154.7031,61.3281 L153.7969,61.3281 L153.7969,65.9688 L151.3438,65.9688 L151.3438,53.5781 Z \"/><text fill=\"#000000\" font-family=\"sans-serif\" font-size=\"12\" font-style=\"italic\" lengthAdjust=\"spacingAndGlyphs\" textLength=\"40\" x=\"168\" y=\"57.1387\">«part»</text><text fill=\"#000000\" font-family=\"sans-serif\" font-size=\"12\" lengthAdjust=\"spacingAndGlyphs\" textLength=\"40\" x=\"168\" y=\"71.1074\">p1: P1</text><line style=\"stroke: #A80036; stroke-width: 1.5;\" x1=\"140\" x2=\"210\" y1=\"78.9375\" y2=\"78.9375\"/></a><!--MD5=[60a26617385b1d2d0262a64233df1f8d]\n",
       "class E6--><a href=\"psysml:8965b7df-293c-4ee2-9b2b-715c01154c80\" target=\"_top\" title=\"psysml:8965b7df-293c-4ee2-9b2b-715c01154c80\" xlink:actuate=\"onRequest\" xlink:href=\"psysml:8965b7df-293c-4ee2-9b2b-715c01154c80\" xlink:show=\"new\" xlink:title=\"psysml:8965b7df-293c-4ee2-9b2b-715c01154c80\" xlink:type=\"simple\"><rect fill=\"#FEFECE\" filter=\"url(#fva0ty0nbu5t6)\" height=\"45.9375\" id=\"E6\" rx=\"10\" ry=\"10\" style=\"stroke: #A80036; stroke-width: 1.5;\" width=\"68\" x=\"104\" y=\"147\"/><ellipse cx=\"119\" cy=\"165.9688\" fill=\"#0000FF\" rx=\"11\" ry=\"11\" style=\"stroke: #A80036; stroke-width: 1.0;\"/><path d=\"M118.7969,161.6406 L118.7969,165.2656 L119.7969,165.2656 Q121,165.2656 121.4844,164.8594 Q121.9688,164.4531 121.9688,163.4531 Q121.9688,162.4531 121.4844,162.0469 Q121,161.6406 119.7969,161.6406 L118.7969,161.6406 Z M116.3438,159.5781 L119.7031,159.5781 Q122.2656,159.5781 123.3906,160.5 Q124.5156,161.4063 124.5156,163.4531 Q124.5156,165.5 123.3906,166.4219 Q122.2656,167.3281 119.7031,167.3281 L118.7969,167.3281 L118.7969,171.9688 L116.3438,171.9688 L116.3438,159.5781 Z \"/><text fill=\"#000000\" font-family=\"sans-serif\" font-size=\"12\" font-style=\"italic\" lengthAdjust=\"spacingAndGlyphs\" textLength=\"40\" x=\"131\" y=\"163.1387\">«port»</text><text fill=\"#000000\" font-family=\"sans-serif\" font-size=\"12\" lengthAdjust=\"spacingAndGlyphs\" textLength=\"24\" x=\"139\" y=\"177.1074\">po1</text><line style=\"stroke: #A80036; stroke-width: 1.5;\" x1=\"105\" x2=\"171\" y1=\"184.9375\" y2=\"184.9375\"/></a><!--MD5=[2156ba9850f5573cc1fc38a6a4b2f02b]\n",
       "class E7--><a href=\"psysml:77eadb46-ce1a-4e0f-9527-bb06765d2ea7\" target=\"_top\" title=\"psysml:77eadb46-ce1a-4e0f-9527-bb06765d2ea7\" xlink:actuate=\"onRequest\" xlink:href=\"psysml:77eadb46-ce1a-4e0f-9527-bb06765d2ea7\" xlink:show=\"new\" xlink:title=\"psysml:77eadb46-ce1a-4e0f-9527-bb06765d2ea7\" xlink:type=\"simple\"><rect fill=\"#FEFECE\" filter=\"url(#fva0ty0nbu5t6)\" height=\"45.9375\" id=\"E7\" rx=\"10\" ry=\"10\" style=\"stroke: #A80036; stroke-width: 1.5;\" width=\"72\" x=\"32\" y=\"41\"/><ellipse cx=\"47\" cy=\"59.9688\" fill=\"#32CD32\" rx=\"11\" ry=\"11\" style=\"stroke: #A80036; stroke-width: 1.0;\"/><path d=\"M46.7969,55.6406 L46.7969,59.2656 L47.7969,59.2656 Q49,59.2656 49.4844,58.8594 Q49.9688,58.4531 49.9688,57.4531 Q49.9688,56.4531 49.4844,56.0469 Q49,55.6406 47.7969,55.6406 L46.7969,55.6406 Z M44.3438,53.5781 L47.7031,53.5781 Q50.2656,53.5781 51.3906,54.5 Q52.5156,55.4063 52.5156,57.4531 Q52.5156,59.5 51.3906,60.4219 Q50.2656,61.3281 47.7031,61.3281 L46.7969,61.3281 L46.7969,65.9688 L44.3438,65.9688 L44.3438,53.5781 Z \"/><text fill=\"#000000\" font-family=\"sans-serif\" font-size=\"12\" font-style=\"italic\" lengthAdjust=\"spacingAndGlyphs\" textLength=\"40\" x=\"61\" y=\"57.1387\">«part»</text><text fill=\"#000000\" font-family=\"sans-serif\" font-size=\"12\" lengthAdjust=\"spacingAndGlyphs\" textLength=\"40\" x=\"61\" y=\"71.1074\">p2: P1</text><line style=\"stroke: #A80036; stroke-width: 1.5;\" x1=\"33\" x2=\"103\" y1=\"78.9375\" y2=\"78.9375\"/></a><!--MD5=[b9389687b975829384b498ac4b7476b2]\n",
       "class E8--><a href=\"psysml:db28622a-fbe8-4c7d-8fe4-9e164802e944\" target=\"_top\" title=\"psysml:db28622a-fbe8-4c7d-8fe4-9e164802e944\" xlink:actuate=\"onRequest\" xlink:href=\"psysml:db28622a-fbe8-4c7d-8fe4-9e164802e944\" xlink:show=\"new\" xlink:title=\"psysml:db28622a-fbe8-4c7d-8fe4-9e164802e944\" xlink:type=\"simple\"><rect fill=\"#FEFECE\" filter=\"url(#fva0ty0nbu5t6)\" height=\"45.9375\" id=\"E8\" rx=\"10\" ry=\"10\" style=\"stroke: #A80036; stroke-width: 1.5;\" width=\"68\" x=\"63\" y=\"253\"/><ellipse cx=\"78\" cy=\"271.9688\" fill=\"#0000FF\" rx=\"11\" ry=\"11\" style=\"stroke: #A80036; stroke-width: 1.0;\"/><path d=\"M77.7969,267.6406 L77.7969,271.2656 L78.7969,271.2656 Q80,271.2656 80.4844,270.8594 Q80.9688,270.4531 80.9688,269.4531 Q80.9688,268.4531 80.4844,268.0469 Q80,267.6406 78.7969,267.6406 L77.7969,267.6406 Z M75.3438,265.5781 L78.7031,265.5781 Q81.2656,265.5781 82.3906,266.5 Q83.5156,267.4063 83.5156,269.4531 Q83.5156,271.5 82.3906,272.4219 Q81.2656,273.3281 78.7031,273.3281 L77.7969,273.3281 L77.7969,277.9688 L75.3438,277.9688 L75.3438,265.5781 Z \"/><text fill=\"#000000\" font-family=\"sans-serif\" font-size=\"12\" font-style=\"italic\" lengthAdjust=\"spacingAndGlyphs\" textLength=\"40\" x=\"90\" y=\"269.1387\">«port»</text><text fill=\"#000000\" font-family=\"sans-serif\" font-size=\"12\" lengthAdjust=\"spacingAndGlyphs\" textLength=\"36\" x=\"92\" y=\"283.1074\">pdest</text><line style=\"stroke: #A80036; stroke-width: 1.5;\" x1=\"64\" x2=\"130\" y1=\"290.9375\" y2=\"290.9375\"/></a><!--MD5=[4672eba38e49728da53d11aeb285b987]\n",
       "reverse link E3 to E4--><a href=\"psysml:10297d07-57fa-4f9d-a873-bd76f542a35c\" target=\"_top\" title=\"psysml:10297d07-57fa-4f9d-a873-bd76f542a35c\" xlink:actuate=\"onRequest\" xlink:href=\"psysml:10297d07-57fa-4f9d-a873-bd76f542a35c\" xlink:show=\"new\" xlink:title=\"psysml:10297d07-57fa-4f9d-a873-bd76f542a35c\" xlink:type=\"simple\"><path d=\"M219.1,203.25 C217.65,219.33 218.05,238.37 220.33,252.8 \" fill=\"none\" id=\"E3&lt;-E4\" style=\"stroke: #A80036; stroke-width: 1.0;\"/><polygon fill=\"#FFFFFF\" points=\"220.87,190.08,216.1137,195.5001,219.2875,201.9752,224.0438,196.5551,220.87,190.08\" style=\"stroke: #A80036; stroke-width: 1.0;\"/><text fill=\"#000000\" font-family=\"sans-serif\" font-size=\"13\" lengthAdjust=\"spacingAndGlyphs\" textLength=\"8\" x=\"208.5708\" y=\"242.025\">1</text></a><!--MD5=[4672eba38e49728da53d11aeb285b987]\n",
       "reverse link E3 to E4--><a href=\"psysml:4c29fec0-8309-450b-9bf3-4a2b28b77917\" target=\"_top\" title=\"psysml:4c29fec0-8309-450b-9bf3-4a2b28b77917\" xlink:actuate=\"onRequest\" xlink:href=\"psysml:4c29fec0-8309-450b-9bf3-4a2b28b77917\" xlink:show=\"new\" xlink:title=\"psysml:4c29fec0-8309-450b-9bf3-4a2b28b77917\" xlink:type=\"simple\"><path d=\"M243.77,205.22 C245.1,220.87 244.61,238.96 242.3,252.8 \" fill=\"none\" id=\"E3&lt;-E4-1\" style=\"stroke: #A80036; stroke-width: 1.0; stroke-dasharray: 7.0,7.0;\"/><ellipse cx=\"242.7963\" cy=\"198.0086\" fill=\"#FFFFFF\" rx=\"8\" ry=\"8\" style=\"stroke: #A80036; stroke-width: 1.0;\"/><line style=\"stroke: #A80036; stroke-width: 1.0;\" x1=\"243.8626\" x2=\"241.73\" y1=\"205.9372\" y2=\"190.08\"/><line style=\"stroke: #A80036; stroke-width: 1.0;\" x1=\"234.8677\" x2=\"250.7249\" y1=\"199.0749\" y2=\"196.9423\"/><text fill=\"#000000\" font-family=\"sans-serif\" font-size=\"13\" lengthAdjust=\"spacingAndGlyphs\" textLength=\"8\" x=\"236.1706\" y=\"242.025\">1</text></a><!--MD5=[e9be52314489bd878ff4c7144b63c9e1]\n",
       "link E5 to E3--><a href=\"psysml:93a52ea3-a140-4bd2-b924-ec5ad15b1b7e\" target=\"_top\" title=\"psysml:93a52ea3-a140-4bd2-b924-ec5ad15b1b7e\" xlink:actuate=\"onRequest\" xlink:href=\"psysml:93a52ea3-a140-4bd2-b924-ec5ad15b1b7e\" xlink:show=\"new\" xlink:title=\"psysml:93a52ea3-a140-4bd2-b924-ec5ad15b1b7e\" xlink:type=\"simple\"><path d=\"M186.88,87.06 C193.92,100.14 203.03,117.05 211.14,132.11 \" fill=\"none\" id=\"E5-&gt;E3\" style=\"stroke: #A80036; stroke-width: 1.0;\"/><polygon fill=\"#FFFFFF\" points=\"220.65,149.77,205.4866,136.3509,217.817,129.7207,220.65,149.77\" style=\"stroke: #A80036; stroke-width: 1.0;\"/><ellipse cx=\"204.5486\" cy=\"130.3835\" fill=\"#A80036\" rx=\"2\" ry=\"2\" style=\"stroke: #A80036; stroke-width: 1.0;\"/><ellipse cx=\"213.3561\" cy=\"125.6476\" fill=\"#A80036\" rx=\"2\" ry=\"2\" style=\"stroke: #A80036; stroke-width: 1.0;\"/></a><!--MD5=[85d356282659285ab4b2cfe2f634dd2b]\n",
       "reverse link E5 to E6--><a href=\"psysml:cdcbbeec-90be-4e1d-8c60-d92c8a6a7077\" target=\"_top\" title=\"psysml:cdcbbeec-90be-4e1d-8c60-d92c8a6a7077\" xlink:actuate=\"onRequest\" xlink:href=\"psysml:cdcbbeec-90be-4e1d-8c60-d92c8a6a7077\" xlink:show=\"new\" xlink:title=\"psysml:cdcbbeec-90be-4e1d-8c60-d92c8a6a7077\" xlink:type=\"simple\"><path d=\"M162.73,99.49 C157.16,115.15 150.74,133.19 145.84,146.98 \" fill=\"none\" id=\"E5&lt;-E6\" style=\"stroke: #A80036; stroke-width: 1.0;\"/><polygon fill=\"#FFFFFF\" points=\"167.15,87.06,161.3698,91.3715,163.1265,98.3654,168.9067,94.0539,167.15,87.06\" style=\"stroke: #A80036; stroke-width: 1.0;\"/><text fill=\"#000000\" font-family=\"sans-serif\" font-size=\"13\" lengthAdjust=\"spacingAndGlyphs\" textLength=\"8\" x=\"138.872\" y=\"135.8709\">1</text></a><!--MD5=[f667431f98296947986a1a7595a31603]\n",
       "link E6 to E4--><a href=\"psysml:b5614b00-f88c-4f87-85f7-609ca7f17bae\" target=\"_top\" title=\"psysml:b5614b00-f88c-4f87-85f7-609ca7f17bae\" xlink:actuate=\"onRequest\" xlink:href=\"psysml:b5614b00-f88c-4f87-85f7-609ca7f17bae\" xlink:show=\"new\" xlink:title=\"psysml:b5614b00-f88c-4f87-85f7-609ca7f17bae\" xlink:type=\"simple\"><path d=\"M157.72,193.06 C169.31,206.02 184.27,222.74 197.65,237.7 \" fill=\"none\" id=\"E6-&gt;E4\" style=\"stroke: #A80036; stroke-width: 1.0;\"/><polygon fill=\"#FFFFFF\" points=\"211.31,252.98,193.4253,243.486,203.8597,234.152,211.31,252.98\" style=\"stroke: #A80036; stroke-width: 1.0;\"/><line style=\"stroke: #A80036; stroke-width: 2.0;\" x1=\"190.8918\" x2=\"201.3262\" y1=\"240.6538\" y2=\"231.3198\"/></a><!--MD5=[14ccda38c055a5c0da953d572bc50960]\n",
       "link E7 to E3--><a href=\"psysml:87c48ed5-bc50-48bb-899d-f807bfcdc26e\" target=\"_top\" title=\"psysml:87c48ed5-bc50-48bb-899d-f807bfcdc26e\" xlink:actuate=\"onRequest\" xlink:href=\"psysml:87c48ed5-bc50-48bb-899d-f807bfcdc26e\" xlink:show=\"new\" xlink:title=\"psysml:87c48ed5-bc50-48bb-899d-f807bfcdc26e\" xlink:type=\"simple\"><path d=\"M102.57,87.06 C127.93,103.24 162.49,125.29 189.37,142.44 \" fill=\"none\" id=\"E7-&gt;E3\" style=\"stroke: #A80036; stroke-width: 1.0;\"/><polygon fill=\"#FFFFFF\" points=\"206.54,153.39,186.7577,149.0701,194.2889,137.2683,206.54,153.39\" style=\"stroke: #A80036; stroke-width: 1.0;\"/><ellipse cx=\"183.0286\" cy=\"144.3178\" fill=\"#A80036\" rx=\"2\" ry=\"2\" style=\"stroke: #A80036; stroke-width: 1.0;\"/><ellipse cx=\"188.408\" cy=\"135.888\" fill=\"#A80036\" rx=\"2\" ry=\"2\" style=\"stroke: #A80036; stroke-width: 1.0;\"/></a><!--MD5=[dc164f5e8a733ab456ef1add180e9e34]\n",
       "reverse link E7 to E8--><a href=\"psysml:5ff6c459-66f7-4338-82bb-16aa2b22f6b4\" target=\"_top\" title=\"psysml:5ff6c459-66f7-4338-82bb-16aa2b22f6b4\" xlink:actuate=\"onRequest\" xlink:href=\"psysml:5ff6c459-66f7-4338-82bb-16aa2b22f6b4\" xlink:show=\"new\" xlink:title=\"psysml:5ff6c459-66f7-4338-82bb-16aa2b22f6b4\" xlink:type=\"simple\"><path d=\"M63.05,100.09 C64.65,143.61 75.25,216.5 85.75,252.9 \" fill=\"none\" id=\"E7&lt;-E8\" style=\"stroke: #A80036; stroke-width: 1.0;\"/><polygon fill=\"#FFFFFF\" points=\"62.85,87.08,58.9362,93.1366,63.0216,99.0788,66.9354,93.0222,62.85,87.08\" style=\"stroke: #A80036; stroke-width: 1.0;\"/><text fill=\"#000000\" font-family=\"sans-serif\" font-size=\"13\" lengthAdjust=\"spacingAndGlyphs\" textLength=\"8\" x=\"73.6516\" y=\"241.7694\">1</text></a><!--MD5=[dc164f5e8a733ab456ef1add180e9e34]\n",
       "reverse link E7 to E8--><a href=\"psysml:4eb1c616-a5a7-47d5-8985-e84491dc2120\" target=\"_top\" title=\"psysml:4eb1c616-a5a7-47d5-8985-e84491dc2120\" xlink:actuate=\"onRequest\" xlink:href=\"psysml:4eb1c616-a5a7-47d5-8985-e84491dc2120\" xlink:show=\"new\" xlink:title=\"psysml:4eb1c616-a5a7-47d5-8985-e84491dc2120\" xlink:type=\"simple\"><path d=\"M83.64,101.8 C94.15,145.5 103.39,216.97 102.63,252.9 \" fill=\"none\" id=\"E7&lt;-E8-1\" style=\"stroke: #A80036; stroke-width: 1.0; stroke-dasharray: 7.0,7.0;\"/><ellipse cx=\"81.7794\" cy=\"94.813\" fill=\"#FFFFFF\" rx=\"8\" ry=\"8\" style=\"stroke: #A80036; stroke-width: 1.0;\"/><line style=\"stroke: #A80036; stroke-width: 1.0;\" x1=\"83.8289\" x2=\"79.73\" y1=\"102.5461\" y2=\"87.08\"/><line style=\"stroke: #A80036; stroke-width: 1.0;\" x1=\"74.0464\" x2=\"89.5125\" y1=\"96.8625\" y2=\"92.7636\"/><text fill=\"#000000\" font-family=\"sans-serif\" font-size=\"13\" lengthAdjust=\"spacingAndGlyphs\" textLength=\"8\" x=\"95.0681\" y=\"241.7694\">1</text></a><!--MD5=[0a839d0f80c2d72d4b9b307f046d0de8]\n",
       "link E6 to E8--><a href=\"psysml:af89f277-c22a-4acb-b9c9-7f04d6a8a86b\" target=\"_top\" title=\"psysml:af89f277-c22a-4acb-b9c9-7f04d6a8a86b\" xlink:actuate=\"onRequest\" xlink:href=\"psysml:af89f277-c22a-4acb-b9c9-7f04d6a8a86b\" xlink:show=\"new\" xlink:title=\"psysml:af89f277-c22a-4acb-b9c9-7f04d6a8a86b\" xlink:type=\"simple\"><path d=\"M118.66,193.06 C108.89,210.7 99.19,235.34 95.04,252.98 \" fill=\"none\" id=\"E6-E8\" style=\"stroke: #A80036; stroke-width: 3.0;\"/><text fill=\"#000000\" font-family=\"sans-serif\" font-size=\"13\" lengthAdjust=\"spacingAndGlyphs\" textLength=\"7\" x=\"86.5726\" y=\"241.8709\">*</text></a><!--MD5=[0a839d0f80c2d72d4b9b307f046d0de8]\n",
       "link E6 to E8--><a href=\"psysml:6818c790-7ee4-49fa-b866-28c88d0d2e1e\" target=\"_top\" title=\"psysml:6818c790-7ee4-49fa-b866-28c88d0d2e1e\" xlink:actuate=\"onRequest\" xlink:href=\"psysml:6818c790-7ee4-49fa-b866-28c88d0d2e1e\" xlink:show=\"new\" xlink:title=\"psysml:6818c790-7ee4-49fa-b866-28c88d0d2e1e\" xlink:type=\"simple\"><path d=\"M140.58,193.06 C136.59,210.7 126.88,235.34 116.95,252.98 \" fill=\"none\" id=\"E6-E8-1\" style=\"stroke: #A80036; stroke-width: 3.0;\"/><text fill=\"#000000\" font-family=\"sans-serif\" font-size=\"13\" lengthAdjust=\"spacingAndGlyphs\" textLength=\"7\" x=\"114.3709\" y=\"241.8709\">*</text></a><!--MD5=[50476e6423e76b8eba4ec765a892f56a]\n",
       "@startuml\r\n",
       " \r\n",
       "package \"AliasTest\" as E1  [[psysml:7e4311dd-4dd4-41de-a431-b17c5d614850 ]]  {\r\n",
       "comp usage \"q\" as E2 << <<(U,orange) attribute>> [[psysml:789c28e5-5e95-405e-84fa-948507b238dc ]] {\r\n",
       "}\r\n",
       "comp def \"P1\" as E3 << << (B,green) >> [[psysml:00588ae4-2df7-4d57-b3d7-e09c73d2d5b1 ]] {\r\n",
       "}\r\n",
       "comp usage \"porig1\" as E4 << << (P,blue) port>> [[psysml:236a437d-3673-4742-905a-959f5dd42893 ]] {\r\n",
       "}\r\n",
       "comp usage \"p1: P1\" as E5 << << (P,limegreen) part>> [[psysml:4e54ee4d-012b-498f-93d7-1afb3759d34d ]] {\r\n",
       "}\r\n",
       "comp usage \"po1\" as E6 << << (P,blue) port>> [[psysml:8965b7df-293c-4ee2-9b2b-715c01154c80 ]] {\r\n",
       "}\r\n",
       "comp usage \"p2: P1\" as E7 << << (P,limegreen) part>> [[psysml:77eadb46-ce1a-4e0f-9527-bb06765d2ea7 ]] {\r\n",
       "}\r\n",
       "comp usage \"pdest\" as E8 << << (P,blue) port>> [[psysml:db28622a-fbe8-4c7d-8fe4-9e164802e944 ]] {\r\n",
       "}\r\n",
       "E3 o- - \"1\"E4 [[psysml:10297d07-57fa-4f9d-a873-bd76f542a35c ]] \r\n",
       "E3 +.. \"1\"E4 [[psysml:4c29fec0-8309-450b-9bf3-4a2b28b77917 ]] \r\n",
       "E5 - -:|> E3 [[psysml:93a52ea3-a140-4bd2-b924-ec5ad15b1b7e ]] \r\n",
       "E5 o- - \"1\"E6 [[psysml:cdcbbeec-90be-4e1d-8c60-d92c8a6a7077 ]] \r\n",
       "E6 - -||> E4 [[psysml:b5614b00-f88c-4f87-85f7-609ca7f17bae ]] \r\n",
       "E7 - -:|> E3 [[psysml:87c48ed5-bc50-48bb-899d-f807bfcdc26e ]] \r\n",
       "E7 o- - \"1\"E8 [[psysml:5ff6c459-66f7-4338-82bb-16aa2b22f6b4 ]] \r\n",
       "E7 +.. \"1\"E8 [[psysml:4eb1c616-a5a7-47d5-8985-e84491dc2120 ]] \r\n",
       "E6 -[thickness=3]- \"*\"E8 [[psysml:af89f277-c22a-4acb-b9c9-7f04d6a8a86b ]] \r\n",
       "E6 -[thickness=3]- \"*\"E8 [[psysml:6818c790-7ee4-49fa-b866-28c88d0d2e1e ]] \r\n",
       "}\r\n",
       "@enduml\r\n",
       "\n",
       "PlantUML version 1.2020.13(Sat Jun 13 12:26:38 UTC 2020)\n",
       "(EPL source distribution)\n",
       "Java Runtime: OpenJDK Runtime Environment\n",
       "JVM: OpenJDK 64-Bit Server VM\n",
       "Default Encoding: UTF-8\n",
       "Language: en\n",
       "Country: null\n",
       "--></g></svg>"
      ]
     },
     "execution_count": 30,
     "metadata": {},
     "output_type": "execute_result"
    }
   ],
   "source": [
    "%viz --style=\"PLANTUML\" --view=\"Default\" \"AliasTest\""
   ]
  },
  {
   "cell_type": "code",
   "execution_count": 31,
   "id": "895835f7",
   "metadata": {
    "execution": {
     "iopub.execute_input": "2021-08-04T06:25:32.145313Z",
     "iopub.status.busy": "2021-08-04T06:25:32.144783Z",
     "iopub.status.idle": "2021-08-04T06:25:32.173346Z",
     "shell.execute_reply": "2021-08-04T06:25:32.172985Z"
    }
   },
   "outputs": [
    {
     "data": {
      "image/svg+xml": [
       "<?xml version=\"1.0\" encoding=\"UTF-8\" standalone=\"no\"?><svg xmlns=\"http://www.w3.org/2000/svg\" xmlns:xlink=\"http://www.w3.org/1999/xlink\" contentScriptType=\"application/ecmascript\" contentStyleType=\"text/css\" height=\"327px\" preserveAspectRatio=\"none\" style=\"width:381px;height:327px;\" version=\"1.1\" viewBox=\"0 0 381 327\" width=\"381px\" zoomAndPan=\"magnify\"><defs><filter height=\"300%\" id=\"fva0ty0nbu5t6\" width=\"300%\" x=\"-1\" y=\"-1\"><feGaussianBlur result=\"blurOut\" stdDeviation=\"2.0\"/><feColorMatrix in=\"blurOut\" result=\"blurOut2\" type=\"matrix\" values=\"0 0 0 0 0 0 0 0 0 0 0 0 0 0 0 0 0 0 .4 0\"/><feOffset dx=\"4.0\" dy=\"4.0\" in=\"blurOut2\" result=\"blurOut3\"/><feBlend in=\"SourceGraphic\" in2=\"blurOut3\" mode=\"normal\"/></filter></defs><g><!--MD5=[fbc87193dbaf4d95561dea2c320d4a47]\n",
       "cluster E1--><a href=\"psysml:7e4311dd-4dd4-41de-a431-b17c5d614850\" target=\"_top\" title=\"psysml:7e4311dd-4dd4-41de-a431-b17c5d614850\" xlink:actuate=\"onRequest\" xlink:href=\"psysml:7e4311dd-4dd4-41de-a431-b17c5d614850\" xlink:show=\"new\" xlink:title=\"psysml:7e4311dd-4dd4-41de-a431-b17c5d614850\" xlink:type=\"simple\"><polygon fill=\"#FFFFFF\" filter=\"url(#fva0ty0nbu5t6)\" points=\"16,6,94,6,101,28.2969,359,28.2969,359,315,16,315,16,6\" style=\"stroke: #000000; stroke-width: 1.5;\"/><line style=\"stroke: #000000; stroke-width: 1.5;\" x1=\"16\" x2=\"101\" y1=\"28.2969\" y2=\"28.2969\"/><text fill=\"#000000\" font-family=\"sans-serif\" font-size=\"14\" font-weight=\"bold\" lengthAdjust=\"spacingAndGlyphs\" textLength=\"72\" x=\"20\" y=\"20.9951\">AliasTest</text></a><!--MD5=[b4997ac47864f28c2f74865a473b2911]\n",
       "class E2--><a href=\"psysml:789c28e5-5e95-405e-84fa-948507b238dc\" target=\"_top\" title=\"psysml:789c28e5-5e95-405e-84fa-948507b238dc\" xlink:actuate=\"onRequest\" xlink:href=\"psysml:789c28e5-5e95-405e-84fa-948507b238dc\" xlink:show=\"new\" xlink:title=\"psysml:789c28e5-5e95-405e-84fa-948507b238dc\" xlink:type=\"simple\"><rect fill=\"#FEFECE\" filter=\"url(#fva0ty0nbu5t6)\" height=\"45.9375\" id=\"E2\" rx=\"10\" ry=\"10\" style=\"stroke: #A80036; stroke-width: 1.5;\" width=\"97\" x=\"246.5\" y=\"41\"/><ellipse cx=\"261.5\" cy=\"59.9688\" fill=\"#FFA500\" rx=\"11\" ry=\"11\" style=\"stroke: #A80036; stroke-width: 1.0;\"/><path d=\"M257.375,61.8906 L257.375,54.0781 L259.8281,54.0781 L259.8281,62.5156 Q259.8281,63.4375 260.2969,63.9688 Q260.7813,64.5 261.6094,64.5 Q262.4531,64.5 262.9219,63.9688 Q263.3906,63.4375 263.3906,62.5156 L263.3906,54.0781 L265.8438,54.0781 L265.8438,61.8906 Q265.8438,64.4219 264.8438,65.5625 Q263.8438,66.7031 261.6094,66.7031 Q259.3906,66.7031 258.375,65.5625 Q257.375,64.4219 257.375,61.8906 Z \"/><text fill=\"#000000\" font-family=\"sans-serif\" font-size=\"12\" font-style=\"italic\" lengthAdjust=\"spacingAndGlyphs\" textLength=\"69\" x=\"273.5\" y=\"57.1387\">«attribute»</text><text fill=\"#000000\" font-family=\"sans-serif\" font-size=\"12\" lengthAdjust=\"spacingAndGlyphs\" textLength=\"8\" x=\"304\" y=\"71.1074\">q</text><line style=\"stroke: #A80036; stroke-width: 1.5;\" x1=\"247.5\" x2=\"342.5\" y1=\"78.9375\" y2=\"78.9375\"/></a><!--MD5=[09b614a08d8cba4a07c9adeb5e0fee81]\n",
       "class E3--><a href=\"psysml:00588ae4-2df7-4d57-b3d7-e09c73d2d5b1\" target=\"_top\" title=\"psysml:00588ae4-2df7-4d57-b3d7-e09c73d2d5b1\" xlink:actuate=\"onRequest\" xlink:href=\"psysml:00588ae4-2df7-4d57-b3d7-e09c73d2d5b1\" xlink:show=\"new\" xlink:title=\"psysml:00588ae4-2df7-4d57-b3d7-e09c73d2d5b1\" xlink:type=\"simple\"><rect fill=\"#FEFECE\" filter=\"url(#fva0ty0nbu5t6)\" height=\"40\" id=\"E3\" style=\"stroke: #A80036; stroke-width: 1.5;\" width=\"48\" x=\"207\" y=\"150\"/><ellipse cx=\"222\" cy=\"166\" fill=\"#008000\" rx=\"11\" ry=\"11\" style=\"stroke: #A80036; stroke-width: 1.0;\"/><path d=\"M220.9063,166.375 L220.9063,170.0469 L222.5313,170.0469 Q223.7031,170.0469 224.1719,169.6563 Q224.6406,169.25 224.6406,168.25 Q224.6406,167.25 224.1406,166.8125 Q223.6563,166.375 222.5313,166.375 L220.9063,166.375 Z M220.9063,161.5469 L220.9063,164.4219 L222.5313,164.4219 Q223.4531,164.4219 223.8438,164.0938 Q224.25,163.75 224.25,163 Q224.25,162.2344 223.8438,161.8906 Q223.4375,161.5469 222.5313,161.5469 L220.9063,161.5469 Z M218.5313,159.5938 L222.5313,159.5938 Q224.5938,159.5938 225.6406,160.375 Q226.6875,161.1563 226.6875,162.7188 Q226.6875,163.9219 226.0625,164.5938 Q225.4531,165.2656 224.2656,165.375 Q225.6875,165.5156 226.4063,166.3281 Q227.125,167.1406 227.125,168.5938 Q227.125,170.3906 226.0469,171.2031 Q224.9688,172 222.5313,172 L218.5313,172 L218.5313,159.5938 Z \"/><text fill=\"#000000\" font-family=\"sans-serif\" font-size=\"12\" lengthAdjust=\"spacingAndGlyphs\" textLength=\"16\" x=\"236\" y=\"170.1543\">P1</text><line style=\"stroke: #A80036; stroke-width: 1.5;\" x1=\"208\" x2=\"254\" y1=\"182\" y2=\"182\"/></a><!--MD5=[ebbe1d658d1005bcc118a6aa81145e00]\n",
       "class E4--><a href=\"psysml:236a437d-3673-4742-905a-959f5dd42893\" target=\"_top\" title=\"psysml:236a437d-3673-4742-905a-959f5dd42893\" xlink:actuate=\"onRequest\" xlink:href=\"psysml:236a437d-3673-4742-905a-959f5dd42893\" xlink:show=\"new\" xlink:title=\"psysml:236a437d-3673-4742-905a-959f5dd42893\" xlink:type=\"simple\"><rect fill=\"#FEFECE\" filter=\"url(#fva0ty0nbu5t6)\" height=\"45.9375\" id=\"E4\" rx=\"10\" ry=\"10\" style=\"stroke: #A80036; stroke-width: 1.5;\" width=\"72\" x=\"195\" y=\"253\"/><ellipse cx=\"210\" cy=\"271.9688\" fill=\"#0000FF\" rx=\"11\" ry=\"11\" style=\"stroke: #A80036; stroke-width: 1.0;\"/><path d=\"M209.7969,267.6406 L209.7969,271.2656 L210.7969,271.2656 Q212,271.2656 212.4844,270.8594 Q212.9688,270.4531 212.9688,269.4531 Q212.9688,268.4531 212.4844,268.0469 Q212,267.6406 210.7969,267.6406 L209.7969,267.6406 Z M207.3438,265.5781 L210.7031,265.5781 Q213.2656,265.5781 214.3906,266.5 Q215.5156,267.4063 215.5156,269.4531 Q215.5156,271.5 214.3906,272.4219 Q213.2656,273.3281 210.7031,273.3281 L209.7969,273.3281 L209.7969,277.9688 L207.3438,277.9688 L207.3438,265.5781 Z \"/><text fill=\"#000000\" font-family=\"sans-serif\" font-size=\"12\" font-style=\"italic\" lengthAdjust=\"spacingAndGlyphs\" textLength=\"40\" x=\"224\" y=\"269.1387\">«port»</text><text fill=\"#000000\" font-family=\"sans-serif\" font-size=\"12\" lengthAdjust=\"spacingAndGlyphs\" textLength=\"40\" x=\"224\" y=\"283.1074\">porig1</text><line style=\"stroke: #A80036; stroke-width: 1.5;\" x1=\"196\" x2=\"266\" y1=\"290.9375\" y2=\"290.9375\"/></a><!--MD5=[270fce915f116d4de14055a7c1d9a0f3]\n",
       "class E5--><a href=\"psysml:4e54ee4d-012b-498f-93d7-1afb3759d34d\" target=\"_top\" title=\"psysml:4e54ee4d-012b-498f-93d7-1afb3759d34d\" xlink:actuate=\"onRequest\" xlink:href=\"psysml:4e54ee4d-012b-498f-93d7-1afb3759d34d\" xlink:show=\"new\" xlink:title=\"psysml:4e54ee4d-012b-498f-93d7-1afb3759d34d\" xlink:type=\"simple\"><rect fill=\"#FEFECE\" filter=\"url(#fva0ty0nbu5t6)\" height=\"45.9375\" id=\"E5\" rx=\"10\" ry=\"10\" style=\"stroke: #A80036; stroke-width: 1.5;\" width=\"72\" x=\"139\" y=\"41\"/><ellipse cx=\"154\" cy=\"59.9688\" fill=\"#32CD32\" rx=\"11\" ry=\"11\" style=\"stroke: #A80036; stroke-width: 1.0;\"/><path d=\"M153.7969,55.6406 L153.7969,59.2656 L154.7969,59.2656 Q156,59.2656 156.4844,58.8594 Q156.9688,58.4531 156.9688,57.4531 Q156.9688,56.4531 156.4844,56.0469 Q156,55.6406 154.7969,55.6406 L153.7969,55.6406 Z M151.3438,53.5781 L154.7031,53.5781 Q157.2656,53.5781 158.3906,54.5 Q159.5156,55.4063 159.5156,57.4531 Q159.5156,59.5 158.3906,60.4219 Q157.2656,61.3281 154.7031,61.3281 L153.7969,61.3281 L153.7969,65.9688 L151.3438,65.9688 L151.3438,53.5781 Z \"/><text fill=\"#000000\" font-family=\"sans-serif\" font-size=\"12\" font-style=\"italic\" lengthAdjust=\"spacingAndGlyphs\" textLength=\"40\" x=\"168\" y=\"57.1387\">«part»</text><text fill=\"#000000\" font-family=\"sans-serif\" font-size=\"12\" lengthAdjust=\"spacingAndGlyphs\" textLength=\"40\" x=\"168\" y=\"71.1074\">p1: P1</text><line style=\"stroke: #A80036; stroke-width: 1.5;\" x1=\"140\" x2=\"210\" y1=\"78.9375\" y2=\"78.9375\"/></a><!--MD5=[60a26617385b1d2d0262a64233df1f8d]\n",
       "class E6--><a href=\"psysml:8965b7df-293c-4ee2-9b2b-715c01154c80\" target=\"_top\" title=\"psysml:8965b7df-293c-4ee2-9b2b-715c01154c80\" xlink:actuate=\"onRequest\" xlink:href=\"psysml:8965b7df-293c-4ee2-9b2b-715c01154c80\" xlink:show=\"new\" xlink:title=\"psysml:8965b7df-293c-4ee2-9b2b-715c01154c80\" xlink:type=\"simple\"><rect fill=\"#FEFECE\" filter=\"url(#fva0ty0nbu5t6)\" height=\"45.9375\" id=\"E6\" rx=\"10\" ry=\"10\" style=\"stroke: #A80036; stroke-width: 1.5;\" width=\"68\" x=\"104\" y=\"147\"/><ellipse cx=\"119\" cy=\"165.9688\" fill=\"#0000FF\" rx=\"11\" ry=\"11\" style=\"stroke: #A80036; stroke-width: 1.0;\"/><path d=\"M118.7969,161.6406 L118.7969,165.2656 L119.7969,165.2656 Q121,165.2656 121.4844,164.8594 Q121.9688,164.4531 121.9688,163.4531 Q121.9688,162.4531 121.4844,162.0469 Q121,161.6406 119.7969,161.6406 L118.7969,161.6406 Z M116.3438,159.5781 L119.7031,159.5781 Q122.2656,159.5781 123.3906,160.5 Q124.5156,161.4063 124.5156,163.4531 Q124.5156,165.5 123.3906,166.4219 Q122.2656,167.3281 119.7031,167.3281 L118.7969,167.3281 L118.7969,171.9688 L116.3438,171.9688 L116.3438,159.5781 Z \"/><text fill=\"#000000\" font-family=\"sans-serif\" font-size=\"12\" font-style=\"italic\" lengthAdjust=\"spacingAndGlyphs\" textLength=\"40\" x=\"131\" y=\"163.1387\">«port»</text><text fill=\"#000000\" font-family=\"sans-serif\" font-size=\"12\" lengthAdjust=\"spacingAndGlyphs\" textLength=\"24\" x=\"139\" y=\"177.1074\">po1</text><line style=\"stroke: #A80036; stroke-width: 1.5;\" x1=\"105\" x2=\"171\" y1=\"184.9375\" y2=\"184.9375\"/></a><!--MD5=[2156ba9850f5573cc1fc38a6a4b2f02b]\n",
       "class E7--><a href=\"psysml:77eadb46-ce1a-4e0f-9527-bb06765d2ea7\" target=\"_top\" title=\"psysml:77eadb46-ce1a-4e0f-9527-bb06765d2ea7\" xlink:actuate=\"onRequest\" xlink:href=\"psysml:77eadb46-ce1a-4e0f-9527-bb06765d2ea7\" xlink:show=\"new\" xlink:title=\"psysml:77eadb46-ce1a-4e0f-9527-bb06765d2ea7\" xlink:type=\"simple\"><rect fill=\"#FEFECE\" filter=\"url(#fva0ty0nbu5t6)\" height=\"45.9375\" id=\"E7\" rx=\"10\" ry=\"10\" style=\"stroke: #A80036; stroke-width: 1.5;\" width=\"72\" x=\"32\" y=\"41\"/><ellipse cx=\"47\" cy=\"59.9688\" fill=\"#32CD32\" rx=\"11\" ry=\"11\" style=\"stroke: #A80036; stroke-width: 1.0;\"/><path d=\"M46.7969,55.6406 L46.7969,59.2656 L47.7969,59.2656 Q49,59.2656 49.4844,58.8594 Q49.9688,58.4531 49.9688,57.4531 Q49.9688,56.4531 49.4844,56.0469 Q49,55.6406 47.7969,55.6406 L46.7969,55.6406 Z M44.3438,53.5781 L47.7031,53.5781 Q50.2656,53.5781 51.3906,54.5 Q52.5156,55.4063 52.5156,57.4531 Q52.5156,59.5 51.3906,60.4219 Q50.2656,61.3281 47.7031,61.3281 L46.7969,61.3281 L46.7969,65.9688 L44.3438,65.9688 L44.3438,53.5781 Z \"/><text fill=\"#000000\" font-family=\"sans-serif\" font-size=\"12\" font-style=\"italic\" lengthAdjust=\"spacingAndGlyphs\" textLength=\"40\" x=\"61\" y=\"57.1387\">«part»</text><text fill=\"#000000\" font-family=\"sans-serif\" font-size=\"12\" lengthAdjust=\"spacingAndGlyphs\" textLength=\"40\" x=\"61\" y=\"71.1074\">p2: P1</text><line style=\"stroke: #A80036; stroke-width: 1.5;\" x1=\"33\" x2=\"103\" y1=\"78.9375\" y2=\"78.9375\"/></a><!--MD5=[b9389687b975829384b498ac4b7476b2]\n",
       "class E8--><a href=\"psysml:db28622a-fbe8-4c7d-8fe4-9e164802e944\" target=\"_top\" title=\"psysml:db28622a-fbe8-4c7d-8fe4-9e164802e944\" xlink:actuate=\"onRequest\" xlink:href=\"psysml:db28622a-fbe8-4c7d-8fe4-9e164802e944\" xlink:show=\"new\" xlink:title=\"psysml:db28622a-fbe8-4c7d-8fe4-9e164802e944\" xlink:type=\"simple\"><rect fill=\"#FEFECE\" filter=\"url(#fva0ty0nbu5t6)\" height=\"45.9375\" id=\"E8\" rx=\"10\" ry=\"10\" style=\"stroke: #A80036; stroke-width: 1.5;\" width=\"68\" x=\"63\" y=\"253\"/><ellipse cx=\"78\" cy=\"271.9688\" fill=\"#0000FF\" rx=\"11\" ry=\"11\" style=\"stroke: #A80036; stroke-width: 1.0;\"/><path d=\"M77.7969,267.6406 L77.7969,271.2656 L78.7969,271.2656 Q80,271.2656 80.4844,270.8594 Q80.9688,270.4531 80.9688,269.4531 Q80.9688,268.4531 80.4844,268.0469 Q80,267.6406 78.7969,267.6406 L77.7969,267.6406 Z M75.3438,265.5781 L78.7031,265.5781 Q81.2656,265.5781 82.3906,266.5 Q83.5156,267.4063 83.5156,269.4531 Q83.5156,271.5 82.3906,272.4219 Q81.2656,273.3281 78.7031,273.3281 L77.7969,273.3281 L77.7969,277.9688 L75.3438,277.9688 L75.3438,265.5781 Z \"/><text fill=\"#000000\" font-family=\"sans-serif\" font-size=\"12\" font-style=\"italic\" lengthAdjust=\"spacingAndGlyphs\" textLength=\"40\" x=\"90\" y=\"269.1387\">«port»</text><text fill=\"#000000\" font-family=\"sans-serif\" font-size=\"12\" lengthAdjust=\"spacingAndGlyphs\" textLength=\"36\" x=\"92\" y=\"283.1074\">pdest</text><line style=\"stroke: #A80036; stroke-width: 1.5;\" x1=\"64\" x2=\"130\" y1=\"290.9375\" y2=\"290.9375\"/></a><!--MD5=[4672eba38e49728da53d11aeb285b987]\n",
       "reverse link E3 to E4--><a href=\"psysml:10297d07-57fa-4f9d-a873-bd76f542a35c\" target=\"_top\" title=\"psysml:10297d07-57fa-4f9d-a873-bd76f542a35c\" xlink:actuate=\"onRequest\" xlink:href=\"psysml:10297d07-57fa-4f9d-a873-bd76f542a35c\" xlink:show=\"new\" xlink:title=\"psysml:10297d07-57fa-4f9d-a873-bd76f542a35c\" xlink:type=\"simple\"><path d=\"M219.1,203.25 C217.65,219.33 218.05,238.37 220.33,252.8 \" fill=\"none\" id=\"E3&lt;-E4\" style=\"stroke: #A80036; stroke-width: 1.0;\"/><polygon fill=\"#FFFFFF\" points=\"220.87,190.08,216.1137,195.5001,219.2875,201.9752,224.0438,196.5551,220.87,190.08\" style=\"stroke: #A80036; stroke-width: 1.0;\"/><text fill=\"#000000\" font-family=\"sans-serif\" font-size=\"13\" lengthAdjust=\"spacingAndGlyphs\" textLength=\"8\" x=\"208.5708\" y=\"242.025\">1</text></a><!--MD5=[4672eba38e49728da53d11aeb285b987]\n",
       "reverse link E3 to E4--><a href=\"psysml:4c29fec0-8309-450b-9bf3-4a2b28b77917\" target=\"_top\" title=\"psysml:4c29fec0-8309-450b-9bf3-4a2b28b77917\" xlink:actuate=\"onRequest\" xlink:href=\"psysml:4c29fec0-8309-450b-9bf3-4a2b28b77917\" xlink:show=\"new\" xlink:title=\"psysml:4c29fec0-8309-450b-9bf3-4a2b28b77917\" xlink:type=\"simple\"><path d=\"M243.77,205.22 C245.1,220.87 244.61,238.96 242.3,252.8 \" fill=\"none\" id=\"E3&lt;-E4-1\" style=\"stroke: #A80036; stroke-width: 1.0; stroke-dasharray: 7.0,7.0;\"/><ellipse cx=\"242.7963\" cy=\"198.0086\" fill=\"#FFFFFF\" rx=\"8\" ry=\"8\" style=\"stroke: #A80036; stroke-width: 1.0;\"/><line style=\"stroke: #A80036; stroke-width: 1.0;\" x1=\"243.8626\" x2=\"241.73\" y1=\"205.9372\" y2=\"190.08\"/><line style=\"stroke: #A80036; stroke-width: 1.0;\" x1=\"234.8677\" x2=\"250.7249\" y1=\"199.0749\" y2=\"196.9423\"/><text fill=\"#000000\" font-family=\"sans-serif\" font-size=\"13\" lengthAdjust=\"spacingAndGlyphs\" textLength=\"8\" x=\"236.1706\" y=\"242.025\">1</text></a><!--MD5=[e9be52314489bd878ff4c7144b63c9e1]\n",
       "link E5 to E3--><a href=\"psysml:93a52ea3-a140-4bd2-b924-ec5ad15b1b7e\" target=\"_top\" title=\"psysml:93a52ea3-a140-4bd2-b924-ec5ad15b1b7e\" xlink:actuate=\"onRequest\" xlink:href=\"psysml:93a52ea3-a140-4bd2-b924-ec5ad15b1b7e\" xlink:show=\"new\" xlink:title=\"psysml:93a52ea3-a140-4bd2-b924-ec5ad15b1b7e\" xlink:type=\"simple\"><path d=\"M186.88,87.06 C193.92,100.14 203.03,117.05 211.14,132.11 \" fill=\"none\" id=\"E5-&gt;E3\" style=\"stroke: #A80036; stroke-width: 1.0;\"/><polygon fill=\"#FFFFFF\" points=\"220.65,149.77,205.4866,136.3509,217.817,129.7207,220.65,149.77\" style=\"stroke: #A80036; stroke-width: 1.0;\"/><ellipse cx=\"204.5486\" cy=\"130.3835\" fill=\"#A80036\" rx=\"2\" ry=\"2\" style=\"stroke: #A80036; stroke-width: 1.0;\"/><ellipse cx=\"213.3561\" cy=\"125.6476\" fill=\"#A80036\" rx=\"2\" ry=\"2\" style=\"stroke: #A80036; stroke-width: 1.0;\"/></a><!--MD5=[85d356282659285ab4b2cfe2f634dd2b]\n",
       "reverse link E5 to E6--><a href=\"psysml:cdcbbeec-90be-4e1d-8c60-d92c8a6a7077\" target=\"_top\" title=\"psysml:cdcbbeec-90be-4e1d-8c60-d92c8a6a7077\" xlink:actuate=\"onRequest\" xlink:href=\"psysml:cdcbbeec-90be-4e1d-8c60-d92c8a6a7077\" xlink:show=\"new\" xlink:title=\"psysml:cdcbbeec-90be-4e1d-8c60-d92c8a6a7077\" xlink:type=\"simple\"><path d=\"M162.73,99.49 C157.16,115.15 150.74,133.19 145.84,146.98 \" fill=\"none\" id=\"E5&lt;-E6\" style=\"stroke: #A80036; stroke-width: 1.0;\"/><polygon fill=\"#FFFFFF\" points=\"167.15,87.06,161.3698,91.3715,163.1265,98.3654,168.9067,94.0539,167.15,87.06\" style=\"stroke: #A80036; stroke-width: 1.0;\"/><text fill=\"#000000\" font-family=\"sans-serif\" font-size=\"13\" lengthAdjust=\"spacingAndGlyphs\" textLength=\"8\" x=\"138.872\" y=\"135.8709\">1</text></a><!--MD5=[f667431f98296947986a1a7595a31603]\n",
       "link E6 to E4--><a href=\"psysml:b5614b00-f88c-4f87-85f7-609ca7f17bae\" target=\"_top\" title=\"psysml:b5614b00-f88c-4f87-85f7-609ca7f17bae\" xlink:actuate=\"onRequest\" xlink:href=\"psysml:b5614b00-f88c-4f87-85f7-609ca7f17bae\" xlink:show=\"new\" xlink:title=\"psysml:b5614b00-f88c-4f87-85f7-609ca7f17bae\" xlink:type=\"simple\"><path d=\"M157.72,193.06 C169.31,206.02 184.27,222.74 197.65,237.7 \" fill=\"none\" id=\"E6-&gt;E4\" style=\"stroke: #A80036; stroke-width: 1.0;\"/><polygon fill=\"#FFFFFF\" points=\"211.31,252.98,193.4253,243.486,203.8597,234.152,211.31,252.98\" style=\"stroke: #A80036; stroke-width: 1.0;\"/><line style=\"stroke: #A80036; stroke-width: 2.0;\" x1=\"190.8918\" x2=\"201.3262\" y1=\"240.6538\" y2=\"231.3198\"/></a><!--MD5=[14ccda38c055a5c0da953d572bc50960]\n",
       "link E7 to E3--><a href=\"psysml:87c48ed5-bc50-48bb-899d-f807bfcdc26e\" target=\"_top\" title=\"psysml:87c48ed5-bc50-48bb-899d-f807bfcdc26e\" xlink:actuate=\"onRequest\" xlink:href=\"psysml:87c48ed5-bc50-48bb-899d-f807bfcdc26e\" xlink:show=\"new\" xlink:title=\"psysml:87c48ed5-bc50-48bb-899d-f807bfcdc26e\" xlink:type=\"simple\"><path d=\"M102.57,87.06 C127.93,103.24 162.49,125.29 189.37,142.44 \" fill=\"none\" id=\"E7-&gt;E3\" style=\"stroke: #A80036; stroke-width: 1.0;\"/><polygon fill=\"#FFFFFF\" points=\"206.54,153.39,186.7577,149.0701,194.2889,137.2683,206.54,153.39\" style=\"stroke: #A80036; stroke-width: 1.0;\"/><ellipse cx=\"183.0286\" cy=\"144.3178\" fill=\"#A80036\" rx=\"2\" ry=\"2\" style=\"stroke: #A80036; stroke-width: 1.0;\"/><ellipse cx=\"188.408\" cy=\"135.888\" fill=\"#A80036\" rx=\"2\" ry=\"2\" style=\"stroke: #A80036; stroke-width: 1.0;\"/></a><!--MD5=[dc164f5e8a733ab456ef1add180e9e34]\n",
       "reverse link E7 to E8--><a href=\"psysml:5ff6c459-66f7-4338-82bb-16aa2b22f6b4\" target=\"_top\" title=\"psysml:5ff6c459-66f7-4338-82bb-16aa2b22f6b4\" xlink:actuate=\"onRequest\" xlink:href=\"psysml:5ff6c459-66f7-4338-82bb-16aa2b22f6b4\" xlink:show=\"new\" xlink:title=\"psysml:5ff6c459-66f7-4338-82bb-16aa2b22f6b4\" xlink:type=\"simple\"><path d=\"M63.05,100.09 C64.65,143.61 75.25,216.5 85.75,252.9 \" fill=\"none\" id=\"E7&lt;-E8\" style=\"stroke: #A80036; stroke-width: 1.0;\"/><polygon fill=\"#FFFFFF\" points=\"62.85,87.08,58.9362,93.1366,63.0216,99.0788,66.9354,93.0222,62.85,87.08\" style=\"stroke: #A80036; stroke-width: 1.0;\"/><text fill=\"#000000\" font-family=\"sans-serif\" font-size=\"13\" lengthAdjust=\"spacingAndGlyphs\" textLength=\"8\" x=\"73.6516\" y=\"241.7694\">1</text></a><!--MD5=[dc164f5e8a733ab456ef1add180e9e34]\n",
       "reverse link E7 to E8--><a href=\"psysml:4eb1c616-a5a7-47d5-8985-e84491dc2120\" target=\"_top\" title=\"psysml:4eb1c616-a5a7-47d5-8985-e84491dc2120\" xlink:actuate=\"onRequest\" xlink:href=\"psysml:4eb1c616-a5a7-47d5-8985-e84491dc2120\" xlink:show=\"new\" xlink:title=\"psysml:4eb1c616-a5a7-47d5-8985-e84491dc2120\" xlink:type=\"simple\"><path d=\"M83.64,101.8 C94.15,145.5 103.39,216.97 102.63,252.9 \" fill=\"none\" id=\"E7&lt;-E8-1\" style=\"stroke: #A80036; stroke-width: 1.0; stroke-dasharray: 7.0,7.0;\"/><ellipse cx=\"81.7794\" cy=\"94.813\" fill=\"#FFFFFF\" rx=\"8\" ry=\"8\" style=\"stroke: #A80036; stroke-width: 1.0;\"/><line style=\"stroke: #A80036; stroke-width: 1.0;\" x1=\"83.8289\" x2=\"79.73\" y1=\"102.5461\" y2=\"87.08\"/><line style=\"stroke: #A80036; stroke-width: 1.0;\" x1=\"74.0464\" x2=\"89.5125\" y1=\"96.8625\" y2=\"92.7636\"/><text fill=\"#000000\" font-family=\"sans-serif\" font-size=\"13\" lengthAdjust=\"spacingAndGlyphs\" textLength=\"8\" x=\"95.0681\" y=\"241.7694\">1</text></a><!--MD5=[0a839d0f80c2d72d4b9b307f046d0de8]\n",
       "link E6 to E8--><a href=\"psysml:af89f277-c22a-4acb-b9c9-7f04d6a8a86b\" target=\"_top\" title=\"psysml:af89f277-c22a-4acb-b9c9-7f04d6a8a86b\" xlink:actuate=\"onRequest\" xlink:href=\"psysml:af89f277-c22a-4acb-b9c9-7f04d6a8a86b\" xlink:show=\"new\" xlink:title=\"psysml:af89f277-c22a-4acb-b9c9-7f04d6a8a86b\" xlink:type=\"simple\"><path d=\"M118.66,193.06 C108.89,210.7 99.19,235.34 95.04,252.98 \" fill=\"none\" id=\"E6-E8\" style=\"stroke: #A80036; stroke-width: 3.0;\"/><text fill=\"#000000\" font-family=\"sans-serif\" font-size=\"13\" lengthAdjust=\"spacingAndGlyphs\" textLength=\"7\" x=\"86.5726\" y=\"241.8709\">*</text></a><!--MD5=[0a839d0f80c2d72d4b9b307f046d0de8]\n",
       "link E6 to E8--><a href=\"psysml:6818c790-7ee4-49fa-b866-28c88d0d2e1e\" target=\"_top\" title=\"psysml:6818c790-7ee4-49fa-b866-28c88d0d2e1e\" xlink:actuate=\"onRequest\" xlink:href=\"psysml:6818c790-7ee4-49fa-b866-28c88d0d2e1e\" xlink:show=\"new\" xlink:title=\"psysml:6818c790-7ee4-49fa-b866-28c88d0d2e1e\" xlink:type=\"simple\"><path d=\"M140.58,193.06 C136.59,210.7 126.88,235.34 116.95,252.98 \" fill=\"none\" id=\"E6-E8-1\" style=\"stroke: #A80036; stroke-width: 3.0;\"/><text fill=\"#000000\" font-family=\"sans-serif\" font-size=\"13\" lengthAdjust=\"spacingAndGlyphs\" textLength=\"7\" x=\"114.3709\" y=\"241.8709\">*</text></a><!--MD5=[50476e6423e76b8eba4ec765a892f56a]\n",
       "@startuml\r\n",
       " \r\n",
       "package \"AliasTest\" as E1  [[psysml:7e4311dd-4dd4-41de-a431-b17c5d614850 ]]  {\r\n",
       "comp usage \"q\" as E2 << <<(U,orange) attribute>> [[psysml:789c28e5-5e95-405e-84fa-948507b238dc ]] {\r\n",
       "}\r\n",
       "comp def \"P1\" as E3 << << (B,green) >> [[psysml:00588ae4-2df7-4d57-b3d7-e09c73d2d5b1 ]] {\r\n",
       "}\r\n",
       "comp usage \"porig1\" as E4 << << (P,blue) port>> [[psysml:236a437d-3673-4742-905a-959f5dd42893 ]] {\r\n",
       "}\r\n",
       "comp usage \"p1: P1\" as E5 << << (P,limegreen) part>> [[psysml:4e54ee4d-012b-498f-93d7-1afb3759d34d ]] {\r\n",
       "}\r\n",
       "comp usage \"po1\" as E6 << << (P,blue) port>> [[psysml:8965b7df-293c-4ee2-9b2b-715c01154c80 ]] {\r\n",
       "}\r\n",
       "comp usage \"p2: P1\" as E7 << << (P,limegreen) part>> [[psysml:77eadb46-ce1a-4e0f-9527-bb06765d2ea7 ]] {\r\n",
       "}\r\n",
       "comp usage \"pdest\" as E8 << << (P,blue) port>> [[psysml:db28622a-fbe8-4c7d-8fe4-9e164802e944 ]] {\r\n",
       "}\r\n",
       "E3 o- - \"1\"E4 [[psysml:10297d07-57fa-4f9d-a873-bd76f542a35c ]] \r\n",
       "E3 +.. \"1\"E4 [[psysml:4c29fec0-8309-450b-9bf3-4a2b28b77917 ]] \r\n",
       "E5 - -:|> E3 [[psysml:93a52ea3-a140-4bd2-b924-ec5ad15b1b7e ]] \r\n",
       "E5 o- - \"1\"E6 [[psysml:cdcbbeec-90be-4e1d-8c60-d92c8a6a7077 ]] \r\n",
       "E6 - -||> E4 [[psysml:b5614b00-f88c-4f87-85f7-609ca7f17bae ]] \r\n",
       "E7 - -:|> E3 [[psysml:87c48ed5-bc50-48bb-899d-f807bfcdc26e ]] \r\n",
       "E7 o- - \"1\"E8 [[psysml:5ff6c459-66f7-4338-82bb-16aa2b22f6b4 ]] \r\n",
       "E7 +.. \"1\"E8 [[psysml:4eb1c616-a5a7-47d5-8985-e84491dc2120 ]] \r\n",
       "E6 -[thickness=3]- \"*\"E8 [[psysml:af89f277-c22a-4acb-b9c9-7f04d6a8a86b ]] \r\n",
       "E6 -[thickness=3]- \"*\"E8 [[psysml:6818c790-7ee4-49fa-b866-28c88d0d2e1e ]] \r\n",
       "}\r\n",
       "@enduml\r\n",
       "\n",
       "PlantUML version 1.2020.13(Sat Jun 13 12:26:38 UTC 2020)\n",
       "(EPL source distribution)\n",
       "Java Runtime: OpenJDK Runtime Environment\n",
       "JVM: OpenJDK 64-Bit Server VM\n",
       "Default Encoding: UTF-8\n",
       "Language: en\n",
       "Country: null\n",
       "--></g></svg>"
      ]
     },
     "execution_count": 31,
     "metadata": {},
     "output_type": "execute_result"
    }
   ],
   "source": [
    "%viz --style=\"PLANTUML\" --view=\"Tree\" \"AliasTest\""
   ]
  },
  {
   "cell_type": "code",
   "execution_count": 32,
   "id": "b7b4beba",
   "metadata": {
    "execution": {
     "iopub.execute_input": "2021-08-04T06:25:32.222712Z",
     "iopub.status.busy": "2021-08-04T06:25:32.222159Z",
     "iopub.status.idle": "2021-08-04T06:25:32.272806Z",
     "shell.execute_reply": "2021-08-04T06:25:32.271564Z"
    }
   },
   "outputs": [
    {
     "data": {
      "image/svg+xml": [
       "<?xml version=\"1.0\" encoding=\"UTF-8\" standalone=\"no\"?><svg xmlns=\"http://www.w3.org/2000/svg\" xmlns:xlink=\"http://www.w3.org/1999/xlink\" contentScriptType=\"application/ecmascript\" contentStyleType=\"text/css\" height=\"303px\" preserveAspectRatio=\"none\" style=\"width:603px;height:303px;background:#000000;\" version=\"1.1\" viewBox=\"0 0 603 303\" width=\"603px\" zoomAndPan=\"magnify\"><defs/><g><rect fill=\"#11171D\" height=\"1\" style=\"stroke: #11171D; stroke-width: 1.0;\" width=\"1\" x=\"0\" y=\"0\"/><rect fill=\"#FFFFFF\" height=\"205.5625\" style=\"stroke: #FFFFFF; stroke-width: 1.0;\" width=\"602\" x=\"0\" y=\"0\"/><text fill=\"#000000\" font-family=\"sans-serif\" font-size=\"12\" font-weight=\"bold\" lengthAdjust=\"spacingAndGlyphs\" textLength=\"159\" x=\"5\" y=\"16.1387\">Welcome to PlantUML!</text><text fill=\"#000000\" font-family=\"sans-serif\" font-size=\"12\" lengthAdjust=\"spacingAndGlyphs\" textLength=\"0\" x=\"9\" y=\"30.1074\"/><text fill=\"#000000\" font-family=\"sans-serif\" font-size=\"12\" lengthAdjust=\"spacingAndGlyphs\" textLength=\"293\" x=\"5\" y=\"44.0762\">If you use this software, you accept its license.</text><text fill=\"#000000\" font-family=\"sans-serif\" font-size=\"12\" lengthAdjust=\"spacingAndGlyphs\" textLength=\"107\" x=\"5\" y=\"58.0449\">(details by typing</text><text fill=\"#000000\" font-family=\"monospace\" font-size=\"12\" lengthAdjust=\"spacingAndGlyphs\" textLength=\"49\" x=\"116\" y=\"58.0449\">license</text><text fill=\"#000000\" font-family=\"sans-serif\" font-size=\"12\" lengthAdjust=\"spacingAndGlyphs\" textLength=\"56\" x=\"169\" y=\"58.0449\">keyword)</text><text fill=\"#000000\" font-family=\"sans-serif\" font-size=\"12\" lengthAdjust=\"spacingAndGlyphs\" textLength=\"0\" x=\"9\" y=\"72.0137\"/><text fill=\"#000000\" font-family=\"sans-serif\" font-size=\"12\" lengthAdjust=\"spacingAndGlyphs\" textLength=\"283\" x=\"5\" y=\"85.9824\">You can start with a simple UML Diagram like:</text><text fill=\"#000000\" font-family=\"sans-serif\" font-size=\"12\" lengthAdjust=\"spacingAndGlyphs\" textLength=\"0\" x=\"9\" y=\"99.9512\"/><text fill=\"#000000\" font-family=\"monospace\" font-size=\"12\" lengthAdjust=\"spacingAndGlyphs\" textLength=\"119\" x=\"5\" y=\"113.9199\">Bob-&gt;Alice: Hello</text><text fill=\"#000000\" font-family=\"sans-serif\" font-size=\"12\" lengthAdjust=\"spacingAndGlyphs\" textLength=\"0\" x=\"9\" y=\"127.8887\"/><text fill=\"#000000\" font-family=\"sans-serif\" font-size=\"12\" lengthAdjust=\"spacingAndGlyphs\" textLength=\"14\" x=\"5\" y=\"141.8574\">Or</text><text fill=\"#000000\" font-family=\"sans-serif\" font-size=\"12\" lengthAdjust=\"spacingAndGlyphs\" textLength=\"0\" x=\"9\" y=\"155.8262\"/><text fill=\"#000000\" font-family=\"monospace\" font-size=\"12\" lengthAdjust=\"spacingAndGlyphs\" textLength=\"91\" x=\"5\" y=\"169.7949\">class Example</text><text fill=\"#000000\" font-family=\"sans-serif\" font-size=\"12\" lengthAdjust=\"spacingAndGlyphs\" textLength=\"0\" x=\"9\" y=\"183.7637\"/><text fill=\"#000000\" font-family=\"sans-serif\" font-size=\"12\" lengthAdjust=\"spacingAndGlyphs\" textLength=\"349\" x=\"5\" y=\"197.7324\">You will find more information about PlantUML syntax on</text><text fill=\"#000000\" font-family=\"sans-serif\" font-size=\"12\" lengthAdjust=\"spacingAndGlyphs\" text-decoration=\"underline\" textLength=\"129\" x=\"358\" y=\"197.7324\">https://plantuml.com</text><image height=\"71\" width=\"80\" x=\"516\" xlink:href=\"data:image/png;base64,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\" y=\"6\"/><rect fill=\"#000000\" height=\"96.4844\" style=\"stroke: #000000; stroke-width: 1.0;\" width=\"602\" x=\"0\" y=\"205.5625\"/><rect fill=\"#33FF02\" height=\"21.2969\" style=\"stroke: #33FF02; stroke-width: 1.0;\" width=\"170\" x=\"5\" y=\"210.5625\"/><text fill=\"#000000\" font-family=\"sans-serif\" font-size=\"14\" font-weight=\"bold\" lengthAdjust=\"spacingAndGlyphs\" textLength=\"168\" x=\"6\" y=\"225.5625\">[From string (line 2) ]</text><text fill=\"#33FF02\" font-family=\"sans-serif\" font-size=\"14\" font-weight=\"bold\" lengthAdjust=\"spacingAndGlyphs\" textLength=\"0\" x=\"10\" y=\"245.8594\"/><text fill=\"#33FF02\" font-family=\"sans-serif\" font-size=\"14\" font-weight=\"bold\" lengthAdjust=\"spacingAndGlyphs\" textLength=\"79\" x=\"5\" y=\"262.1563\">@startuml</text><text fill=\"#33FF02\" font-family=\"sans-serif\" font-size=\"14\" font-weight=\"bold\" lengthAdjust=\"spacingAndGlyphs\" textLength=\"0\" x=\"10\" y=\"278.4531\"/><text fill=\"#FF0000\" font-family=\"sans-serif\" font-size=\"14\" font-weight=\"bold\" lengthAdjust=\"spacingAndGlyphs\" textLength=\"142\" x=\"10\" y=\"294.75\">Empty description</text><!--MD5=[f59edd8218d337f74d0c332fc6737304]\n",
       "@startuml\r\n",
       " \r\n",
       "@enduml\r\n",
       "\n",
       "PlantUML version 1.2020.13(Sat Jun 13 12:26:38 UTC 2020)\n",
       "(EPL source distribution)\n",
       "Java Runtime: OpenJDK Runtime Environment\n",
       "JVM: OpenJDK 64-Bit Server VM\n",
       "Default Encoding: UTF-8\n",
       "Language: en\n",
       "Country: null\n",
       "--></g></svg>"
      ]
     },
     "execution_count": 32,
     "metadata": {},
     "output_type": "execute_result"
    }
   ],
   "source": [
    "%viz --style=\"PLANTUML\" --view=\"State\" \"AliasTest\""
   ]
  },
  {
   "cell_type": "code",
   "execution_count": 33,
   "id": "d81882ea",
   "metadata": {
    "execution": {
     "iopub.execute_input": "2021-08-04T06:25:32.322140Z",
     "iopub.status.busy": "2021-08-04T06:25:32.321648Z",
     "iopub.status.idle": "2021-08-04T06:25:32.341276Z",
     "shell.execute_reply": "2021-08-04T06:25:32.340000Z"
    }
   },
   "outputs": [
    {
     "data": {
      "image/svg+xml": [
       "<?xml version=\"1.0\" encoding=\"UTF-8\" standalone=\"no\"?><svg xmlns=\"http://www.w3.org/2000/svg\" xmlns:xlink=\"http://www.w3.org/1999/xlink\" contentScriptType=\"application/ecmascript\" contentStyleType=\"text/css\" height=\"217px\" preserveAspectRatio=\"none\" style=\"width:465px;height:217px;\" version=\"1.1\" viewBox=\"0 0 465 217\" width=\"465px\" zoomAndPan=\"magnify\"><defs><filter height=\"300%\" id=\"fqaxeyk5401c\" width=\"300%\" x=\"-1\" y=\"-1\"><feGaussianBlur result=\"blurOut\" stdDeviation=\"2.0\"/><feColorMatrix in=\"blurOut\" result=\"blurOut2\" type=\"matrix\" values=\"0 0 0 0 0 0 0 0 0 0 0 0 0 0 0 0 0 0 .4 0\"/><feOffset dx=\"4.0\" dy=\"4.0\" in=\"blurOut2\" result=\"blurOut3\"/><feBlend in=\"SourceGraphic\" in2=\"blurOut3\" mode=\"normal\"/></filter></defs><g><!--MD5=[fbc87193dbaf4d95561dea2c320d4a47]\n",
       "cluster E1--><a href=\"psysml:7e4311dd-4dd4-41de-a431-b17c5d614850\" target=\"_top\" title=\"psysml:7e4311dd-4dd4-41de-a431-b17c5d614850\" xlink:actuate=\"onRequest\" xlink:href=\"psysml:7e4311dd-4dd4-41de-a431-b17c5d614850\" xlink:show=\"new\" xlink:title=\"psysml:7e4311dd-4dd4-41de-a431-b17c5d614850\" xlink:type=\"simple\"><polygon fill=\"#FFFFFF\" filter=\"url(#fqaxeyk5401c)\" points=\"16,6,94,6,101,28.2969,443,28.2969,443,205,16,205,16,6\" style=\"stroke: #000000; stroke-width: 1.5;\"/><line style=\"stroke: #000000; stroke-width: 1.5;\" x1=\"16\" x2=\"101\" y1=\"28.2969\" y2=\"28.2969\"/><text fill=\"#000000\" font-family=\"sans-serif\" font-size=\"14\" font-weight=\"bold\" lengthAdjust=\"spacingAndGlyphs\" textLength=\"72\" x=\"20\" y=\"20.9951\">AliasTest</text></a><!--MD5=[d5e69f78d87373223dbae638b30a9c99]\n",
       "cluster E3--><a href=\"psysml:00588ae4-2df7-4d57-b3d7-e09c73d2d5b1\" target=\"_top\" title=\"psysml:00588ae4-2df7-4d57-b3d7-e09c73d2d5b1\" xlink:actuate=\"onRequest\" xlink:href=\"psysml:00588ae4-2df7-4d57-b3d7-e09c73d2d5b1\" xlink:show=\"new\" xlink:title=\"psysml:00588ae4-2df7-4d57-b3d7-e09c73d2d5b1\" xlink:type=\"simple\"><rect fill=\"#FFFFFF\" filter=\"url(#fqaxeyk5401c)\" height=\"74\" id=\"E3\" style=\"stroke: #A80036; stroke-width: 1.5;\" width=\"83\" x=\"348\" y=\"64\"/><rect fill=\"#FEFECE\" height=\"23.9688\" style=\"stroke: #A80036; stroke-width: 1.5;\" width=\"83\" x=\"348\" y=\"64\"/><text fill=\"#000000\" font-family=\"sans-serif\" font-size=\"12\" lengthAdjust=\"spacingAndGlyphs\" textLength=\"16\" x=\"381.5\" y=\"80.1387\">P1</text></a><!--MD5=[14e3b0961a2654348d326746436168a1]\n",
       "cluster E6--><a href=\"psysml:4e54ee4d-012b-498f-93d7-1afb3759d34d\" target=\"_top\" title=\"psysml:4e54ee4d-012b-498f-93d7-1afb3759d34d\" xlink:actuate=\"onRequest\" xlink:href=\"psysml:4e54ee4d-012b-498f-93d7-1afb3759d34d\" xlink:show=\"new\" xlink:title=\"psysml:4e54ee4d-012b-498f-93d7-1afb3759d34d\" xlink:type=\"simple\"><rect fill=\"#FFFFFF\" filter=\"url(#fqaxeyk5401c)\" height=\"74\" id=\"E6\" rx=\"10\" ry=\"10\" style=\"stroke: #A80036; stroke-width: 1.5;\" width=\"104\" x=\"136\" y=\"64\"/><rect fill=\"#FEFECE\" height=\"23.9688\" rx=\"10\" ry=\"10\" style=\"stroke: #FEFECE; stroke-width: 1.5;\" width=\"104\" x=\"136\" y=\"64\"/><rect fill=\"#FEFECE\" height=\"10\" style=\"stroke: #FEFECE; stroke-width: 1.5;\" width=\"104\" x=\"136\" y=\"77.9688\"/><rect fill=\"none\" height=\"74\" id=\"E6\" rx=\"10\" ry=\"10\" style=\"stroke: #A80036; stroke-width: 1.5;\" width=\"104\" x=\"136\" y=\"64\"/><text fill=\"#000000\" font-family=\"sans-serif\" font-size=\"12\" lengthAdjust=\"spacingAndGlyphs\" textLength=\"40\" x=\"168\" y=\"80.1387\">p1: P1</text><line style=\"stroke: #A80036; stroke-width: 1.0;\" x1=\"136\" x2=\"240\" y1=\"87.9688\" y2=\"87.9688\"/></a><!--MD5=[55dfccfc6c49c2d10cd1bd2211a6c90c]\n",
       "cluster E8--><a href=\"psysml:77eadb46-ce1a-4e0f-9527-bb06765d2ea7\" target=\"_top\" title=\"psysml:77eadb46-ce1a-4e0f-9527-bb06765d2ea7\" xlink:actuate=\"onRequest\" xlink:href=\"psysml:77eadb46-ce1a-4e0f-9527-bb06765d2ea7\" xlink:show=\"new\" xlink:title=\"psysml:77eadb46-ce1a-4e0f-9527-bb06765d2ea7\" xlink:type=\"simple\"><rect fill=\"#FFFFFF\" filter=\"url(#fqaxeyk5401c)\" height=\"76.5\" id=\"E8\" rx=\"10\" ry=\"10\" style=\"stroke: #A80036; stroke-width: 1.5;\" width=\"83\" x=\"243\" y=\"112.5\"/><rect fill=\"#FEFECE\" height=\"23.9688\" rx=\"10\" ry=\"10\" style=\"stroke: #FEFECE; stroke-width: 1.5;\" width=\"83\" x=\"243\" y=\"112.5\"/><rect fill=\"#FEFECE\" height=\"10\" style=\"stroke: #FEFECE; stroke-width: 1.5;\" width=\"83\" x=\"243\" y=\"126.4688\"/><rect fill=\"none\" height=\"76.5\" id=\"E8\" rx=\"10\" ry=\"10\" style=\"stroke: #A80036; stroke-width: 1.5;\" width=\"83\" x=\"243\" y=\"112.5\"/><text fill=\"#000000\" font-family=\"sans-serif\" font-size=\"12\" lengthAdjust=\"spacingAndGlyphs\" textLength=\"40\" x=\"264.5\" y=\"128.6387\">p2: P1</text><line style=\"stroke: #A80036; stroke-width: 1.0;\" x1=\"243\" x2=\"326\" y1=\"136.4688\" y2=\"136.4688\"/></a><!--MD5=[b4997ac47864f28c2f74865a473b2911]\n",
       "class E2--><a href=\"psysml:789c28e5-5e95-405e-84fa-948507b238dc\" target=\"_top\" title=\"psysml:789c28e5-5e95-405e-84fa-948507b238dc\" xlink:actuate=\"onRequest\" xlink:href=\"psysml:789c28e5-5e95-405e-84fa-948507b238dc\" xlink:show=\"new\" xlink:title=\"psysml:789c28e5-5e95-405e-84fa-948507b238dc\" xlink:type=\"simple\"><rect fill=\"#FEFECE\" filter=\"url(#fqaxeyk5401c)\" height=\"45.9375\" id=\"E2\" rx=\"10\" ry=\"10\" style=\"stroke: #A80036; stroke-width: 1.5;\" width=\"97\" x=\"31.5\" y=\"41\"/><ellipse cx=\"46.5\" cy=\"59.9688\" fill=\"#FFA500\" rx=\"11\" ry=\"11\" style=\"stroke: #A80036; stroke-width: 1.0;\"/><path d=\"M42.375,61.8906 L42.375,54.0781 L44.8281,54.0781 L44.8281,62.5156 Q44.8281,63.4375 45.2969,63.9688 Q45.7813,64.5 46.6094,64.5 Q47.4531,64.5 47.9219,63.9688 Q48.3906,63.4375 48.3906,62.5156 L48.3906,54.0781 L50.8438,54.0781 L50.8438,61.8906 Q50.8438,64.4219 49.8438,65.5625 Q48.8438,66.7031 46.6094,66.7031 Q44.3906,66.7031 43.375,65.5625 Q42.375,64.4219 42.375,61.8906 Z \"/><text fill=\"#000000\" font-family=\"sans-serif\" font-size=\"12\" font-style=\"italic\" lengthAdjust=\"spacingAndGlyphs\" textLength=\"69\" x=\"58.5\" y=\"57.1387\">«attribute»</text><text fill=\"#000000\" font-family=\"sans-serif\" font-size=\"12\" lengthAdjust=\"spacingAndGlyphs\" textLength=\"8\" x=\"89\" y=\"71.1074\">q</text><line style=\"stroke: #A80036; stroke-width: 1.5;\" x1=\"32.5\" x2=\"127.5\" y1=\"78.9375\" y2=\"78.9375\"/></a><text fill=\"#000000\" font-family=\"sans-serif\" font-size=\"14\" lengthAdjust=\"spacingAndGlyphs\" textLength=\"44\" x=\"344\" y=\"42.6982\">porig1</text><rect fill=\"#A80036\" height=\"12\" style=\"stroke: #FEFECE; stroke-width: 1.5;\" width=\"12\" x=\"360\" y=\"58\"/><text fill=\"#000000\" font-family=\"sans-serif\" font-size=\"14\" lengthAdjust=\"spacingAndGlyphs\" textLength=\"44\" x=\"391\" y=\"42.6982\">porig1</text><rect fill=\"#A80036\" height=\"12\" style=\"stroke: #FEFECE; stroke-width: 1.5;\" width=\"12\" x=\"407\" y=\"58\"/><text fill=\"#000000\" font-family=\"sans-serif\" font-size=\"14\" lengthAdjust=\"spacingAndGlyphs\" textLength=\"27\" x=\"208.5\" y=\"42.6982\">po1</text><rect fill=\"#A80036\" height=\"12\" style=\"stroke: #FEFECE; stroke-width: 1.5;\" width=\"12\" x=\"216\" y=\"58\"/><text fill=\"#000000\" font-family=\"sans-serif\" font-size=\"14\" lengthAdjust=\"spacingAndGlyphs\" textLength=\"40\" x=\"241\" y=\"91.1982\">pdest</text><rect fill=\"#A80036\" height=\"12\" style=\"stroke: #FEFECE; stroke-width: 1.5;\" width=\"12\" x=\"255\" y=\"106.5\"/><text fill=\"#000000\" font-family=\"sans-serif\" font-size=\"14\" lengthAdjust=\"spacingAndGlyphs\" textLength=\"40\" x=\"288\" y=\"91.1982\">pdest</text><rect fill=\"#A80036\" height=\"12\" style=\"stroke: #FEFECE; stroke-width: 1.5;\" width=\"12\" x=\"302\" y=\"106.5\"/><!--MD5=[1c0b9414cc86e0744215edee6abd8926]\n",
       "link E7 to E9--><a href=\"psysml:af89f277-c22a-4acb-b9c9-7f04d6a8a86b\" target=\"_top\" title=\"psysml:af89f277-c22a-4acb-b9c9-7f04d6a8a86b\" xlink:actuate=\"onRequest\" xlink:href=\"psysml:af89f277-c22a-4acb-b9c9-7f04d6a8a86b\" xlink:show=\"new\" xlink:title=\"psysml:af89f277-c22a-4acb-b9c9-7f04d6a8a86b\" xlink:type=\"simple\"><path d=\"M217.99,70.33 C220.12,80.83 240.45,103.69 254.63,109.91 \" fill=\"none\" id=\"E7-E9\" style=\"stroke: #A80036; stroke-width: 3.0;\"/><text fill=\"#000000\" font-family=\"sans-serif\" font-size=\"13\" lengthAdjust=\"spacingAndGlyphs\" textLength=\"7\" x=\"240.1041\" y=\"99.3339\">*</text></a><!--MD5=[1c0b9414cc86e0744215edee6abd8926]\n",
       "link E7 to E9--><a href=\"psysml:6818c790-7ee4-49fa-b866-28c88d0d2e1e\" target=\"_top\" title=\"psysml:6818c790-7ee4-49fa-b866-28c88d0d2e1e\" xlink:actuate=\"onRequest\" xlink:href=\"psysml:6818c790-7ee4-49fa-b866-28c88d0d2e1e\" xlink:show=\"new\" xlink:title=\"psysml:6818c790-7ee4-49fa-b866-28c88d0d2e1e\" xlink:type=\"simple\"><path d=\"M228.05,66.34 C242.81,72.18 263.77,95.55 265.52,106.18 \" fill=\"none\" id=\"E7-E9-1\" style=\"stroke: #A80036; stroke-width: 3.0;\"/><text fill=\"#000000\" font-family=\"sans-serif\" font-size=\"13\" lengthAdjust=\"spacingAndGlyphs\" textLength=\"7\" x=\"259.0938\" y=\"95.5105\">*</text></a><!--MD5=[a647054bc1ca8804a7a9693e2c9a7d5b]\n",
       "@startuml\r\n",
       "skinparam ranksep 10\r\n",
       "skinparam rectangle {\r\n",
       " backgroundColor<<block>> LightGreen\r\n",
       "}\r\n",
       " \r\n",
       "package \"AliasTest\" as E1  [[psysml:7e4311dd-4dd4-41de-a431-b17c5d614850 ]]  {\r\n",
       "comp usage \"q\" as E2 << <<(U,orange) attribute>> [[psysml:789c28e5-5e95-405e-84fa-948507b238dc ]] {\r\n",
       "}\r\n",
       "rec def \"P1\" as E3 << << (B,green) >> [[psysml:00588ae4-2df7-4d57-b3d7-e09c73d2d5b1 ]] {\r\n",
       "portin \"porig1\" as E4 << << (P,blue) port>> [[psysml:236a437d-3673-4742-905a-959f5dd42893 ]] \r\n",
       "portin \"porig1\" as E5 << << (P,blue) port>> [[psysml:236a437d-3673-4742-905a-959f5dd42893 ]] \r\n",
       "}\r\n",
       "rec usage \"p1: P1\" as E6  [[psysml:4e54ee4d-012b-498f-93d7-1afb3759d34d ]] {\r\n",
       "portin \"po1\" as E7 << << (P,blue) port>> [[psysml:8965b7df-293c-4ee2-9b2b-715c01154c80 ]] \r\n",
       "}\r\n",
       "rec usage \"p2: P1\" as E8  [[psysml:77eadb46-ce1a-4e0f-9527-bb06765d2ea7 ]] {\r\n",
       "portin \"pdest\" as E9 << << (P,blue) port>> [[psysml:db28622a-fbe8-4c7d-8fe4-9e164802e944 ]] \r\n",
       "portin \"pdest\" as E10 << << (P,blue) port>> [[psysml:db28622a-fbe8-4c7d-8fe4-9e164802e944 ]] \r\n",
       "}\r\n",
       "E7 -[thickness=3]- \"*\"E9 [[psysml:af89f277-c22a-4acb-b9c9-7f04d6a8a86b ]] \r\n",
       "E7 -[thickness=3]- \"*\"E9 [[psysml:6818c790-7ee4-49fa-b866-28c88d0d2e1e ]] \r\n",
       "}\r\n",
       "@enduml\r\n",
       "\n",
       "PlantUML version 1.2020.13(Sat Jun 13 12:26:38 UTC 2020)\n",
       "(EPL source distribution)\n",
       "Java Runtime: OpenJDK Runtime Environment\n",
       "JVM: OpenJDK 64-Bit Server VM\n",
       "Default Encoding: UTF-8\n",
       "Language: en\n",
       "Country: null\n",
       "--></g></svg>"
      ]
     },
     "execution_count": 33,
     "metadata": {},
     "output_type": "execute_result"
    }
   ],
   "source": [
    "%viz --style=\"PLANTUML\" --view=\"Interconnection\" \"AliasTest\""
   ]
  },
  {
   "cell_type": "code",
   "execution_count": 34,
   "id": "fb809cca",
   "metadata": {
    "execution": {
     "iopub.execute_input": "2021-08-04T06:25:32.390713Z",
     "iopub.status.busy": "2021-08-04T06:25:32.390303Z",
     "iopub.status.idle": "2021-08-04T06:25:32.393218Z",
     "shell.execute_reply": "2021-08-04T06:25:32.392868Z"
    }
   },
   "outputs": [
    {
     "data": {
      "image/svg+xml": [
       "<?xml version=\"1.0\" encoding=\"UTF-8\" standalone=\"no\"?><svg xmlns=\"http://www.w3.org/2000/svg\" xmlns:xlink=\"http://www.w3.org/1999/xlink\" contentScriptType=\"application/ecmascript\" contentStyleType=\"text/css\" height=\"12px\" preserveAspectRatio=\"none\" style=\"width:12px;height:12px;\" version=\"1.1\" viewBox=\"0 0 12 12\" width=\"12px\" zoomAndPan=\"magnify\"><defs/><g><!--MD5=[6a4cb978cab31700e1ce5529f947a75d]\n",
       "@startuml\r\n",
       "skinparam ranksep 8\r\n",
       " \r\n",
       "@enduml\r\n",
       "\n",
       "PlantUML version 1.2020.13(Sat Jun 13 12:26:38 UTC 2020)\n",
       "(EPL source distribution)\n",
       "Java Runtime: OpenJDK Runtime Environment\n",
       "JVM: OpenJDK 64-Bit Server VM\n",
       "Default Encoding: UTF-8\n",
       "Language: en\n",
       "Country: null\n",
       "--></g></svg>"
      ]
     },
     "execution_count": 34,
     "metadata": {},
     "output_type": "execute_result"
    }
   ],
   "source": [
    "%viz --style=\"PLANTUML\" --view=\"Action\" \"AliasTest\""
   ]
  },
  {
   "cell_type": "code",
   "execution_count": 35,
   "id": "6c80fff1",
   "metadata": {
    "execution": {
     "iopub.execute_input": "2021-08-04T06:25:32.443071Z",
     "iopub.status.busy": "2021-08-04T06:25:32.442670Z",
     "iopub.status.idle": "2021-08-04T06:25:32.470329Z",
     "shell.execute_reply": "2021-08-04T06:25:32.469970Z"
    }
   },
   "outputs": [
    {
     "data": {
      "image/svg+xml": [
       "<?xml version=\"1.0\" encoding=\"UTF-8\" standalone=\"no\"?><svg xmlns=\"http://www.w3.org/2000/svg\" xmlns:xlink=\"http://www.w3.org/1999/xlink\" contentScriptType=\"application/ecmascript\" contentStyleType=\"text/css\" height=\"327px\" preserveAspectRatio=\"none\" style=\"width:381px;height:327px;\" version=\"1.1\" viewBox=\"0 0 381 327\" width=\"381px\" zoomAndPan=\"magnify\"><defs><filter height=\"300%\" id=\"fva0ty0nbu5t6\" width=\"300%\" x=\"-1\" y=\"-1\"><feGaussianBlur result=\"blurOut\" stdDeviation=\"2.0\"/><feColorMatrix in=\"blurOut\" result=\"blurOut2\" type=\"matrix\" values=\"0 0 0 0 0 0 0 0 0 0 0 0 0 0 0 0 0 0 .4 0\"/><feOffset dx=\"4.0\" dy=\"4.0\" in=\"blurOut2\" result=\"blurOut3\"/><feBlend in=\"SourceGraphic\" in2=\"blurOut3\" mode=\"normal\"/></filter></defs><g><!--MD5=[fbc87193dbaf4d95561dea2c320d4a47]\n",
       "cluster E1--><a href=\"psysml:7e4311dd-4dd4-41de-a431-b17c5d614850\" target=\"_top\" title=\"psysml:7e4311dd-4dd4-41de-a431-b17c5d614850\" xlink:actuate=\"onRequest\" xlink:href=\"psysml:7e4311dd-4dd4-41de-a431-b17c5d614850\" xlink:show=\"new\" xlink:title=\"psysml:7e4311dd-4dd4-41de-a431-b17c5d614850\" xlink:type=\"simple\"><polygon fill=\"#FFFFFF\" filter=\"url(#fva0ty0nbu5t6)\" points=\"16,6,94,6,101,28.2969,359,28.2969,359,315,16,315,16,6\" style=\"stroke: #000000; stroke-width: 1.5;\"/><line style=\"stroke: #000000; stroke-width: 1.5;\" x1=\"16\" x2=\"101\" y1=\"28.2969\" y2=\"28.2969\"/><text fill=\"#000000\" font-family=\"sans-serif\" font-size=\"14\" font-weight=\"bold\" lengthAdjust=\"spacingAndGlyphs\" textLength=\"72\" x=\"20\" y=\"20.9951\">AliasTest</text></a><!--MD5=[b4997ac47864f28c2f74865a473b2911]\n",
       "class E2--><a href=\"psysml:789c28e5-5e95-405e-84fa-948507b238dc\" target=\"_top\" title=\"psysml:789c28e5-5e95-405e-84fa-948507b238dc\" xlink:actuate=\"onRequest\" xlink:href=\"psysml:789c28e5-5e95-405e-84fa-948507b238dc\" xlink:show=\"new\" xlink:title=\"psysml:789c28e5-5e95-405e-84fa-948507b238dc\" xlink:type=\"simple\"><rect fill=\"#FEFECE\" filter=\"url(#fva0ty0nbu5t6)\" height=\"45.9375\" id=\"E2\" rx=\"10\" ry=\"10\" style=\"stroke: #A80036; stroke-width: 1.5;\" width=\"97\" x=\"246.5\" y=\"41\"/><ellipse cx=\"261.5\" cy=\"59.9688\" fill=\"#FFA500\" rx=\"11\" ry=\"11\" style=\"stroke: #A80036; stroke-width: 1.0;\"/><path d=\"M257.375,61.8906 L257.375,54.0781 L259.8281,54.0781 L259.8281,62.5156 Q259.8281,63.4375 260.2969,63.9688 Q260.7813,64.5 261.6094,64.5 Q262.4531,64.5 262.9219,63.9688 Q263.3906,63.4375 263.3906,62.5156 L263.3906,54.0781 L265.8438,54.0781 L265.8438,61.8906 Q265.8438,64.4219 264.8438,65.5625 Q263.8438,66.7031 261.6094,66.7031 Q259.3906,66.7031 258.375,65.5625 Q257.375,64.4219 257.375,61.8906 Z \"/><text fill=\"#000000\" font-family=\"sans-serif\" font-size=\"12\" font-style=\"italic\" lengthAdjust=\"spacingAndGlyphs\" textLength=\"69\" x=\"273.5\" y=\"57.1387\">«attribute»</text><text fill=\"#000000\" font-family=\"sans-serif\" font-size=\"12\" lengthAdjust=\"spacingAndGlyphs\" textLength=\"8\" x=\"304\" y=\"71.1074\">q</text><line style=\"stroke: #A80036; stroke-width: 1.5;\" x1=\"247.5\" x2=\"342.5\" y1=\"78.9375\" y2=\"78.9375\"/></a><!--MD5=[09b614a08d8cba4a07c9adeb5e0fee81]\n",
       "class E3--><a href=\"psysml:00588ae4-2df7-4d57-b3d7-e09c73d2d5b1\" target=\"_top\" title=\"psysml:00588ae4-2df7-4d57-b3d7-e09c73d2d5b1\" xlink:actuate=\"onRequest\" xlink:href=\"psysml:00588ae4-2df7-4d57-b3d7-e09c73d2d5b1\" xlink:show=\"new\" xlink:title=\"psysml:00588ae4-2df7-4d57-b3d7-e09c73d2d5b1\" xlink:type=\"simple\"><rect fill=\"#FEFECE\" filter=\"url(#fva0ty0nbu5t6)\" height=\"40\" id=\"E3\" style=\"stroke: #A80036; stroke-width: 1.5;\" width=\"48\" x=\"207\" y=\"150\"/><ellipse cx=\"222\" cy=\"166\" fill=\"#008000\" rx=\"11\" ry=\"11\" style=\"stroke: #A80036; stroke-width: 1.0;\"/><path d=\"M220.9063,166.375 L220.9063,170.0469 L222.5313,170.0469 Q223.7031,170.0469 224.1719,169.6563 Q224.6406,169.25 224.6406,168.25 Q224.6406,167.25 224.1406,166.8125 Q223.6563,166.375 222.5313,166.375 L220.9063,166.375 Z M220.9063,161.5469 L220.9063,164.4219 L222.5313,164.4219 Q223.4531,164.4219 223.8438,164.0938 Q224.25,163.75 224.25,163 Q224.25,162.2344 223.8438,161.8906 Q223.4375,161.5469 222.5313,161.5469 L220.9063,161.5469 Z M218.5313,159.5938 L222.5313,159.5938 Q224.5938,159.5938 225.6406,160.375 Q226.6875,161.1563 226.6875,162.7188 Q226.6875,163.9219 226.0625,164.5938 Q225.4531,165.2656 224.2656,165.375 Q225.6875,165.5156 226.4063,166.3281 Q227.125,167.1406 227.125,168.5938 Q227.125,170.3906 226.0469,171.2031 Q224.9688,172 222.5313,172 L218.5313,172 L218.5313,159.5938 Z \"/><text fill=\"#000000\" font-family=\"sans-serif\" font-size=\"12\" lengthAdjust=\"spacingAndGlyphs\" textLength=\"16\" x=\"236\" y=\"170.1543\">P1</text><line style=\"stroke: #A80036; stroke-width: 1.5;\" x1=\"208\" x2=\"254\" y1=\"182\" y2=\"182\"/></a><!--MD5=[ebbe1d658d1005bcc118a6aa81145e00]\n",
       "class E4--><a href=\"psysml:236a437d-3673-4742-905a-959f5dd42893\" target=\"_top\" title=\"psysml:236a437d-3673-4742-905a-959f5dd42893\" xlink:actuate=\"onRequest\" xlink:href=\"psysml:236a437d-3673-4742-905a-959f5dd42893\" xlink:show=\"new\" xlink:title=\"psysml:236a437d-3673-4742-905a-959f5dd42893\" xlink:type=\"simple\"><rect fill=\"#FEFECE\" filter=\"url(#fva0ty0nbu5t6)\" height=\"45.9375\" id=\"E4\" rx=\"10\" ry=\"10\" style=\"stroke: #A80036; stroke-width: 1.5;\" width=\"72\" x=\"195\" y=\"253\"/><ellipse cx=\"210\" cy=\"271.9688\" fill=\"#0000FF\" rx=\"11\" ry=\"11\" style=\"stroke: #A80036; stroke-width: 1.0;\"/><path d=\"M209.7969,267.6406 L209.7969,271.2656 L210.7969,271.2656 Q212,271.2656 212.4844,270.8594 Q212.9688,270.4531 212.9688,269.4531 Q212.9688,268.4531 212.4844,268.0469 Q212,267.6406 210.7969,267.6406 L209.7969,267.6406 Z M207.3438,265.5781 L210.7031,265.5781 Q213.2656,265.5781 214.3906,266.5 Q215.5156,267.4063 215.5156,269.4531 Q215.5156,271.5 214.3906,272.4219 Q213.2656,273.3281 210.7031,273.3281 L209.7969,273.3281 L209.7969,277.9688 L207.3438,277.9688 L207.3438,265.5781 Z \"/><text fill=\"#000000\" font-family=\"sans-serif\" font-size=\"12\" font-style=\"italic\" lengthAdjust=\"spacingAndGlyphs\" textLength=\"40\" x=\"224\" y=\"269.1387\">«port»</text><text fill=\"#000000\" font-family=\"sans-serif\" font-size=\"12\" lengthAdjust=\"spacingAndGlyphs\" textLength=\"40\" x=\"224\" y=\"283.1074\">porig1</text><line style=\"stroke: #A80036; stroke-width: 1.5;\" x1=\"196\" x2=\"266\" y1=\"290.9375\" y2=\"290.9375\"/></a><!--MD5=[270fce915f116d4de14055a7c1d9a0f3]\n",
       "class E5--><a href=\"psysml:4e54ee4d-012b-498f-93d7-1afb3759d34d\" target=\"_top\" title=\"psysml:4e54ee4d-012b-498f-93d7-1afb3759d34d\" xlink:actuate=\"onRequest\" xlink:href=\"psysml:4e54ee4d-012b-498f-93d7-1afb3759d34d\" xlink:show=\"new\" xlink:title=\"psysml:4e54ee4d-012b-498f-93d7-1afb3759d34d\" xlink:type=\"simple\"><rect fill=\"#FEFECE\" filter=\"url(#fva0ty0nbu5t6)\" height=\"45.9375\" id=\"E5\" rx=\"10\" ry=\"10\" style=\"stroke: #A80036; stroke-width: 1.5;\" width=\"72\" x=\"139\" y=\"41\"/><ellipse cx=\"154\" cy=\"59.9688\" fill=\"#32CD32\" rx=\"11\" ry=\"11\" style=\"stroke: #A80036; stroke-width: 1.0;\"/><path d=\"M153.7969,55.6406 L153.7969,59.2656 L154.7969,59.2656 Q156,59.2656 156.4844,58.8594 Q156.9688,58.4531 156.9688,57.4531 Q156.9688,56.4531 156.4844,56.0469 Q156,55.6406 154.7969,55.6406 L153.7969,55.6406 Z M151.3438,53.5781 L154.7031,53.5781 Q157.2656,53.5781 158.3906,54.5 Q159.5156,55.4063 159.5156,57.4531 Q159.5156,59.5 158.3906,60.4219 Q157.2656,61.3281 154.7031,61.3281 L153.7969,61.3281 L153.7969,65.9688 L151.3438,65.9688 L151.3438,53.5781 Z \"/><text fill=\"#000000\" font-family=\"sans-serif\" font-size=\"12\" font-style=\"italic\" lengthAdjust=\"spacingAndGlyphs\" textLength=\"40\" x=\"168\" y=\"57.1387\">«part»</text><text fill=\"#000000\" font-family=\"sans-serif\" font-size=\"12\" lengthAdjust=\"spacingAndGlyphs\" textLength=\"40\" x=\"168\" y=\"71.1074\">p1: P1</text><line style=\"stroke: #A80036; stroke-width: 1.5;\" x1=\"140\" x2=\"210\" y1=\"78.9375\" y2=\"78.9375\"/></a><!--MD5=[60a26617385b1d2d0262a64233df1f8d]\n",
       "class E6--><a href=\"psysml:8965b7df-293c-4ee2-9b2b-715c01154c80\" target=\"_top\" title=\"psysml:8965b7df-293c-4ee2-9b2b-715c01154c80\" xlink:actuate=\"onRequest\" xlink:href=\"psysml:8965b7df-293c-4ee2-9b2b-715c01154c80\" xlink:show=\"new\" xlink:title=\"psysml:8965b7df-293c-4ee2-9b2b-715c01154c80\" xlink:type=\"simple\"><rect fill=\"#FEFECE\" filter=\"url(#fva0ty0nbu5t6)\" height=\"45.9375\" id=\"E6\" rx=\"10\" ry=\"10\" style=\"stroke: #A80036; stroke-width: 1.5;\" width=\"68\" x=\"104\" y=\"147\"/><ellipse cx=\"119\" cy=\"165.9688\" fill=\"#0000FF\" rx=\"11\" ry=\"11\" style=\"stroke: #A80036; stroke-width: 1.0;\"/><path d=\"M118.7969,161.6406 L118.7969,165.2656 L119.7969,165.2656 Q121,165.2656 121.4844,164.8594 Q121.9688,164.4531 121.9688,163.4531 Q121.9688,162.4531 121.4844,162.0469 Q121,161.6406 119.7969,161.6406 L118.7969,161.6406 Z M116.3438,159.5781 L119.7031,159.5781 Q122.2656,159.5781 123.3906,160.5 Q124.5156,161.4063 124.5156,163.4531 Q124.5156,165.5 123.3906,166.4219 Q122.2656,167.3281 119.7031,167.3281 L118.7969,167.3281 L118.7969,171.9688 L116.3438,171.9688 L116.3438,159.5781 Z \"/><text fill=\"#000000\" font-family=\"sans-serif\" font-size=\"12\" font-style=\"italic\" lengthAdjust=\"spacingAndGlyphs\" textLength=\"40\" x=\"131\" y=\"163.1387\">«port»</text><text fill=\"#000000\" font-family=\"sans-serif\" font-size=\"12\" lengthAdjust=\"spacingAndGlyphs\" textLength=\"24\" x=\"139\" y=\"177.1074\">po1</text><line style=\"stroke: #A80036; stroke-width: 1.5;\" x1=\"105\" x2=\"171\" y1=\"184.9375\" y2=\"184.9375\"/></a><!--MD5=[2156ba9850f5573cc1fc38a6a4b2f02b]\n",
       "class E7--><a href=\"psysml:77eadb46-ce1a-4e0f-9527-bb06765d2ea7\" target=\"_top\" title=\"psysml:77eadb46-ce1a-4e0f-9527-bb06765d2ea7\" xlink:actuate=\"onRequest\" xlink:href=\"psysml:77eadb46-ce1a-4e0f-9527-bb06765d2ea7\" xlink:show=\"new\" xlink:title=\"psysml:77eadb46-ce1a-4e0f-9527-bb06765d2ea7\" xlink:type=\"simple\"><rect fill=\"#FEFECE\" filter=\"url(#fva0ty0nbu5t6)\" height=\"45.9375\" id=\"E7\" rx=\"10\" ry=\"10\" style=\"stroke: #A80036; stroke-width: 1.5;\" width=\"72\" x=\"32\" y=\"41\"/><ellipse cx=\"47\" cy=\"59.9688\" fill=\"#32CD32\" rx=\"11\" ry=\"11\" style=\"stroke: #A80036; stroke-width: 1.0;\"/><path d=\"M46.7969,55.6406 L46.7969,59.2656 L47.7969,59.2656 Q49,59.2656 49.4844,58.8594 Q49.9688,58.4531 49.9688,57.4531 Q49.9688,56.4531 49.4844,56.0469 Q49,55.6406 47.7969,55.6406 L46.7969,55.6406 Z M44.3438,53.5781 L47.7031,53.5781 Q50.2656,53.5781 51.3906,54.5 Q52.5156,55.4063 52.5156,57.4531 Q52.5156,59.5 51.3906,60.4219 Q50.2656,61.3281 47.7031,61.3281 L46.7969,61.3281 L46.7969,65.9688 L44.3438,65.9688 L44.3438,53.5781 Z \"/><text fill=\"#000000\" font-family=\"sans-serif\" font-size=\"12\" font-style=\"italic\" lengthAdjust=\"spacingAndGlyphs\" textLength=\"40\" x=\"61\" y=\"57.1387\">«part»</text><text fill=\"#000000\" font-family=\"sans-serif\" font-size=\"12\" lengthAdjust=\"spacingAndGlyphs\" textLength=\"40\" x=\"61\" y=\"71.1074\">p2: P1</text><line style=\"stroke: #A80036; stroke-width: 1.5;\" x1=\"33\" x2=\"103\" y1=\"78.9375\" y2=\"78.9375\"/></a><!--MD5=[b9389687b975829384b498ac4b7476b2]\n",
       "class E8--><a href=\"psysml:db28622a-fbe8-4c7d-8fe4-9e164802e944\" target=\"_top\" title=\"psysml:db28622a-fbe8-4c7d-8fe4-9e164802e944\" xlink:actuate=\"onRequest\" xlink:href=\"psysml:db28622a-fbe8-4c7d-8fe4-9e164802e944\" xlink:show=\"new\" xlink:title=\"psysml:db28622a-fbe8-4c7d-8fe4-9e164802e944\" xlink:type=\"simple\"><rect fill=\"#FEFECE\" filter=\"url(#fva0ty0nbu5t6)\" height=\"45.9375\" id=\"E8\" rx=\"10\" ry=\"10\" style=\"stroke: #A80036; stroke-width: 1.5;\" width=\"68\" x=\"63\" y=\"253\"/><ellipse cx=\"78\" cy=\"271.9688\" fill=\"#0000FF\" rx=\"11\" ry=\"11\" style=\"stroke: #A80036; stroke-width: 1.0;\"/><path d=\"M77.7969,267.6406 L77.7969,271.2656 L78.7969,271.2656 Q80,271.2656 80.4844,270.8594 Q80.9688,270.4531 80.9688,269.4531 Q80.9688,268.4531 80.4844,268.0469 Q80,267.6406 78.7969,267.6406 L77.7969,267.6406 Z M75.3438,265.5781 L78.7031,265.5781 Q81.2656,265.5781 82.3906,266.5 Q83.5156,267.4063 83.5156,269.4531 Q83.5156,271.5 82.3906,272.4219 Q81.2656,273.3281 78.7031,273.3281 L77.7969,273.3281 L77.7969,277.9688 L75.3438,277.9688 L75.3438,265.5781 Z \"/><text fill=\"#000000\" font-family=\"sans-serif\" font-size=\"12\" font-style=\"italic\" lengthAdjust=\"spacingAndGlyphs\" textLength=\"40\" x=\"90\" y=\"269.1387\">«port»</text><text fill=\"#000000\" font-family=\"sans-serif\" font-size=\"12\" lengthAdjust=\"spacingAndGlyphs\" textLength=\"36\" x=\"92\" y=\"283.1074\">pdest</text><line style=\"stroke: #A80036; stroke-width: 1.5;\" x1=\"64\" x2=\"130\" y1=\"290.9375\" y2=\"290.9375\"/></a><!--MD5=[4672eba38e49728da53d11aeb285b987]\n",
       "reverse link E3 to E4--><a href=\"psysml:10297d07-57fa-4f9d-a873-bd76f542a35c\" target=\"_top\" title=\"psysml:10297d07-57fa-4f9d-a873-bd76f542a35c\" xlink:actuate=\"onRequest\" xlink:href=\"psysml:10297d07-57fa-4f9d-a873-bd76f542a35c\" xlink:show=\"new\" xlink:title=\"psysml:10297d07-57fa-4f9d-a873-bd76f542a35c\" xlink:type=\"simple\"><path d=\"M219.1,203.25 C217.65,219.33 218.05,238.37 220.33,252.8 \" fill=\"none\" id=\"E3&lt;-E4\" style=\"stroke: #A80036; stroke-width: 1.0;\"/><polygon fill=\"#FFFFFF\" points=\"220.87,190.08,216.1137,195.5001,219.2875,201.9752,224.0438,196.5551,220.87,190.08\" style=\"stroke: #A80036; stroke-width: 1.0;\"/><text fill=\"#000000\" font-family=\"sans-serif\" font-size=\"13\" lengthAdjust=\"spacingAndGlyphs\" textLength=\"8\" x=\"208.5708\" y=\"242.025\">1</text></a><!--MD5=[4672eba38e49728da53d11aeb285b987]\n",
       "reverse link E3 to E4--><a href=\"psysml:4c29fec0-8309-450b-9bf3-4a2b28b77917\" target=\"_top\" title=\"psysml:4c29fec0-8309-450b-9bf3-4a2b28b77917\" xlink:actuate=\"onRequest\" xlink:href=\"psysml:4c29fec0-8309-450b-9bf3-4a2b28b77917\" xlink:show=\"new\" xlink:title=\"psysml:4c29fec0-8309-450b-9bf3-4a2b28b77917\" xlink:type=\"simple\"><path d=\"M243.77,205.22 C245.1,220.87 244.61,238.96 242.3,252.8 \" fill=\"none\" id=\"E3&lt;-E4-1\" style=\"stroke: #A80036; stroke-width: 1.0; stroke-dasharray: 7.0,7.0;\"/><ellipse cx=\"242.7963\" cy=\"198.0086\" fill=\"#FFFFFF\" rx=\"8\" ry=\"8\" style=\"stroke: #A80036; stroke-width: 1.0;\"/><line style=\"stroke: #A80036; stroke-width: 1.0;\" x1=\"243.8626\" x2=\"241.73\" y1=\"205.9372\" y2=\"190.08\"/><line style=\"stroke: #A80036; stroke-width: 1.0;\" x1=\"234.8677\" x2=\"250.7249\" y1=\"199.0749\" y2=\"196.9423\"/><text fill=\"#000000\" font-family=\"sans-serif\" font-size=\"13\" lengthAdjust=\"spacingAndGlyphs\" textLength=\"8\" x=\"236.1706\" y=\"242.025\">1</text></a><!--MD5=[e9be52314489bd878ff4c7144b63c9e1]\n",
       "link E5 to E3--><a href=\"psysml:93a52ea3-a140-4bd2-b924-ec5ad15b1b7e\" target=\"_top\" title=\"psysml:93a52ea3-a140-4bd2-b924-ec5ad15b1b7e\" xlink:actuate=\"onRequest\" xlink:href=\"psysml:93a52ea3-a140-4bd2-b924-ec5ad15b1b7e\" xlink:show=\"new\" xlink:title=\"psysml:93a52ea3-a140-4bd2-b924-ec5ad15b1b7e\" xlink:type=\"simple\"><path d=\"M186.88,87.06 C193.92,100.14 203.03,117.05 211.14,132.11 \" fill=\"none\" id=\"E5-&gt;E3\" style=\"stroke: #A80036; stroke-width: 1.0;\"/><polygon fill=\"#FFFFFF\" points=\"220.65,149.77,205.4866,136.3509,217.817,129.7207,220.65,149.77\" style=\"stroke: #A80036; stroke-width: 1.0;\"/><ellipse cx=\"204.5486\" cy=\"130.3835\" fill=\"#A80036\" rx=\"2\" ry=\"2\" style=\"stroke: #A80036; stroke-width: 1.0;\"/><ellipse cx=\"213.3561\" cy=\"125.6476\" fill=\"#A80036\" rx=\"2\" ry=\"2\" style=\"stroke: #A80036; stroke-width: 1.0;\"/></a><!--MD5=[85d356282659285ab4b2cfe2f634dd2b]\n",
       "reverse link E5 to E6--><a href=\"psysml:cdcbbeec-90be-4e1d-8c60-d92c8a6a7077\" target=\"_top\" title=\"psysml:cdcbbeec-90be-4e1d-8c60-d92c8a6a7077\" xlink:actuate=\"onRequest\" xlink:href=\"psysml:cdcbbeec-90be-4e1d-8c60-d92c8a6a7077\" xlink:show=\"new\" xlink:title=\"psysml:cdcbbeec-90be-4e1d-8c60-d92c8a6a7077\" xlink:type=\"simple\"><path d=\"M162.73,99.49 C157.16,115.15 150.74,133.19 145.84,146.98 \" fill=\"none\" id=\"E5&lt;-E6\" style=\"stroke: #A80036; stroke-width: 1.0;\"/><polygon fill=\"#FFFFFF\" points=\"167.15,87.06,161.3698,91.3715,163.1265,98.3654,168.9067,94.0539,167.15,87.06\" style=\"stroke: #A80036; stroke-width: 1.0;\"/><text fill=\"#000000\" font-family=\"sans-serif\" font-size=\"13\" lengthAdjust=\"spacingAndGlyphs\" textLength=\"8\" x=\"138.872\" y=\"135.8709\">1</text></a><!--MD5=[f667431f98296947986a1a7595a31603]\n",
       "link E6 to E4--><a href=\"psysml:b5614b00-f88c-4f87-85f7-609ca7f17bae\" target=\"_top\" title=\"psysml:b5614b00-f88c-4f87-85f7-609ca7f17bae\" xlink:actuate=\"onRequest\" xlink:href=\"psysml:b5614b00-f88c-4f87-85f7-609ca7f17bae\" xlink:show=\"new\" xlink:title=\"psysml:b5614b00-f88c-4f87-85f7-609ca7f17bae\" xlink:type=\"simple\"><path d=\"M157.72,193.06 C169.31,206.02 184.27,222.74 197.65,237.7 \" fill=\"none\" id=\"E6-&gt;E4\" style=\"stroke: #A80036; stroke-width: 1.0;\"/><polygon fill=\"#FFFFFF\" points=\"211.31,252.98,193.4253,243.486,203.8597,234.152,211.31,252.98\" style=\"stroke: #A80036; stroke-width: 1.0;\"/><line style=\"stroke: #A80036; stroke-width: 2.0;\" x1=\"190.8918\" x2=\"201.3262\" y1=\"240.6538\" y2=\"231.3198\"/></a><!--MD5=[14ccda38c055a5c0da953d572bc50960]\n",
       "link E7 to E3--><a href=\"psysml:87c48ed5-bc50-48bb-899d-f807bfcdc26e\" target=\"_top\" title=\"psysml:87c48ed5-bc50-48bb-899d-f807bfcdc26e\" xlink:actuate=\"onRequest\" xlink:href=\"psysml:87c48ed5-bc50-48bb-899d-f807bfcdc26e\" xlink:show=\"new\" xlink:title=\"psysml:87c48ed5-bc50-48bb-899d-f807bfcdc26e\" xlink:type=\"simple\"><path d=\"M102.57,87.06 C127.93,103.24 162.49,125.29 189.37,142.44 \" fill=\"none\" id=\"E7-&gt;E3\" style=\"stroke: #A80036; stroke-width: 1.0;\"/><polygon fill=\"#FFFFFF\" points=\"206.54,153.39,186.7577,149.0701,194.2889,137.2683,206.54,153.39\" style=\"stroke: #A80036; stroke-width: 1.0;\"/><ellipse cx=\"183.0286\" cy=\"144.3178\" fill=\"#A80036\" rx=\"2\" ry=\"2\" style=\"stroke: #A80036; stroke-width: 1.0;\"/><ellipse cx=\"188.408\" cy=\"135.888\" fill=\"#A80036\" rx=\"2\" ry=\"2\" style=\"stroke: #A80036; stroke-width: 1.0;\"/></a><!--MD5=[dc164f5e8a733ab456ef1add180e9e34]\n",
       "reverse link E7 to E8--><a href=\"psysml:5ff6c459-66f7-4338-82bb-16aa2b22f6b4\" target=\"_top\" title=\"psysml:5ff6c459-66f7-4338-82bb-16aa2b22f6b4\" xlink:actuate=\"onRequest\" xlink:href=\"psysml:5ff6c459-66f7-4338-82bb-16aa2b22f6b4\" xlink:show=\"new\" xlink:title=\"psysml:5ff6c459-66f7-4338-82bb-16aa2b22f6b4\" xlink:type=\"simple\"><path d=\"M63.05,100.09 C64.65,143.61 75.25,216.5 85.75,252.9 \" fill=\"none\" id=\"E7&lt;-E8\" style=\"stroke: #A80036; stroke-width: 1.0;\"/><polygon fill=\"#FFFFFF\" points=\"62.85,87.08,58.9362,93.1366,63.0216,99.0788,66.9354,93.0222,62.85,87.08\" style=\"stroke: #A80036; stroke-width: 1.0;\"/><text fill=\"#000000\" font-family=\"sans-serif\" font-size=\"13\" lengthAdjust=\"spacingAndGlyphs\" textLength=\"8\" x=\"73.6516\" y=\"241.7694\">1</text></a><!--MD5=[dc164f5e8a733ab456ef1add180e9e34]\n",
       "reverse link E7 to E8--><a href=\"psysml:4eb1c616-a5a7-47d5-8985-e84491dc2120\" target=\"_top\" title=\"psysml:4eb1c616-a5a7-47d5-8985-e84491dc2120\" xlink:actuate=\"onRequest\" xlink:href=\"psysml:4eb1c616-a5a7-47d5-8985-e84491dc2120\" xlink:show=\"new\" xlink:title=\"psysml:4eb1c616-a5a7-47d5-8985-e84491dc2120\" xlink:type=\"simple\"><path d=\"M83.64,101.8 C94.15,145.5 103.39,216.97 102.63,252.9 \" fill=\"none\" id=\"E7&lt;-E8-1\" style=\"stroke: #A80036; stroke-width: 1.0; stroke-dasharray: 7.0,7.0;\"/><ellipse cx=\"81.7794\" cy=\"94.813\" fill=\"#FFFFFF\" rx=\"8\" ry=\"8\" style=\"stroke: #A80036; stroke-width: 1.0;\"/><line style=\"stroke: #A80036; stroke-width: 1.0;\" x1=\"83.8289\" x2=\"79.73\" y1=\"102.5461\" y2=\"87.08\"/><line style=\"stroke: #A80036; stroke-width: 1.0;\" x1=\"74.0464\" x2=\"89.5125\" y1=\"96.8625\" y2=\"92.7636\"/><text fill=\"#000000\" font-family=\"sans-serif\" font-size=\"13\" lengthAdjust=\"spacingAndGlyphs\" textLength=\"8\" x=\"95.0681\" y=\"241.7694\">1</text></a><!--MD5=[0a839d0f80c2d72d4b9b307f046d0de8]\n",
       "link E6 to E8--><a href=\"psysml:af89f277-c22a-4acb-b9c9-7f04d6a8a86b\" target=\"_top\" title=\"psysml:af89f277-c22a-4acb-b9c9-7f04d6a8a86b\" xlink:actuate=\"onRequest\" xlink:href=\"psysml:af89f277-c22a-4acb-b9c9-7f04d6a8a86b\" xlink:show=\"new\" xlink:title=\"psysml:af89f277-c22a-4acb-b9c9-7f04d6a8a86b\" xlink:type=\"simple\"><path d=\"M118.66,193.06 C108.89,210.7 99.19,235.34 95.04,252.98 \" fill=\"none\" id=\"E6-E8\" style=\"stroke: #A80036; stroke-width: 3.0;\"/><text fill=\"#000000\" font-family=\"sans-serif\" font-size=\"13\" lengthAdjust=\"spacingAndGlyphs\" textLength=\"7\" x=\"86.5726\" y=\"241.8709\">*</text></a><!--MD5=[0a839d0f80c2d72d4b9b307f046d0de8]\n",
       "link E6 to E8--><a href=\"psysml:6818c790-7ee4-49fa-b866-28c88d0d2e1e\" target=\"_top\" title=\"psysml:6818c790-7ee4-49fa-b866-28c88d0d2e1e\" xlink:actuate=\"onRequest\" xlink:href=\"psysml:6818c790-7ee4-49fa-b866-28c88d0d2e1e\" xlink:show=\"new\" xlink:title=\"psysml:6818c790-7ee4-49fa-b866-28c88d0d2e1e\" xlink:type=\"simple\"><path d=\"M140.58,193.06 C136.59,210.7 126.88,235.34 116.95,252.98 \" fill=\"none\" id=\"E6-E8-1\" style=\"stroke: #A80036; stroke-width: 3.0;\"/><text fill=\"#000000\" font-family=\"sans-serif\" font-size=\"13\" lengthAdjust=\"spacingAndGlyphs\" textLength=\"7\" x=\"114.3709\" y=\"241.8709\">*</text></a><!--MD5=[50476e6423e76b8eba4ec765a892f56a]\n",
       "@startuml\r\n",
       " \r\n",
       "package \"AliasTest\" as E1  [[psysml:7e4311dd-4dd4-41de-a431-b17c5d614850 ]]  {\r\n",
       "comp usage \"q\" as E2 << <<(U,orange) attribute>> [[psysml:789c28e5-5e95-405e-84fa-948507b238dc ]] {\r\n",
       "}\r\n",
       "comp def \"P1\" as E3 << << (B,green) >> [[psysml:00588ae4-2df7-4d57-b3d7-e09c73d2d5b1 ]] {\r\n",
       "}\r\n",
       "comp usage \"porig1\" as E4 << << (P,blue) port>> [[psysml:236a437d-3673-4742-905a-959f5dd42893 ]] {\r\n",
       "}\r\n",
       "comp usage \"p1: P1\" as E5 << << (P,limegreen) part>> [[psysml:4e54ee4d-012b-498f-93d7-1afb3759d34d ]] {\r\n",
       "}\r\n",
       "comp usage \"po1\" as E6 << << (P,blue) port>> [[psysml:8965b7df-293c-4ee2-9b2b-715c01154c80 ]] {\r\n",
       "}\r\n",
       "comp usage \"p2: P1\" as E7 << << (P,limegreen) part>> [[psysml:77eadb46-ce1a-4e0f-9527-bb06765d2ea7 ]] {\r\n",
       "}\r\n",
       "comp usage \"pdest\" as E8 << << (P,blue) port>> [[psysml:db28622a-fbe8-4c7d-8fe4-9e164802e944 ]] {\r\n",
       "}\r\n",
       "E3 o- - \"1\"E4 [[psysml:10297d07-57fa-4f9d-a873-bd76f542a35c ]] \r\n",
       "E3 +.. \"1\"E4 [[psysml:4c29fec0-8309-450b-9bf3-4a2b28b77917 ]] \r\n",
       "E5 - -:|> E3 [[psysml:93a52ea3-a140-4bd2-b924-ec5ad15b1b7e ]] \r\n",
       "E5 o- - \"1\"E6 [[psysml:cdcbbeec-90be-4e1d-8c60-d92c8a6a7077 ]] \r\n",
       "E6 - -||> E4 [[psysml:b5614b00-f88c-4f87-85f7-609ca7f17bae ]] \r\n",
       "E7 - -:|> E3 [[psysml:87c48ed5-bc50-48bb-899d-f807bfcdc26e ]] \r\n",
       "E7 o- - \"1\"E8 [[psysml:5ff6c459-66f7-4338-82bb-16aa2b22f6b4 ]] \r\n",
       "E7 +.. \"1\"E8 [[psysml:4eb1c616-a5a7-47d5-8985-e84491dc2120 ]] \r\n",
       "E6 -[thickness=3]- \"*\"E8 [[psysml:af89f277-c22a-4acb-b9c9-7f04d6a8a86b ]] \r\n",
       "E6 -[thickness=3]- \"*\"E8 [[psysml:6818c790-7ee4-49fa-b866-28c88d0d2e1e ]] \r\n",
       "}\r\n",
       "@enduml\r\n",
       "\n",
       "PlantUML version 1.2020.13(Sat Jun 13 12:26:38 UTC 2020)\n",
       "(EPL source distribution)\n",
       "Java Runtime: OpenJDK Runtime Environment\n",
       "JVM: OpenJDK 64-Bit Server VM\n",
       "Default Encoding: UTF-8\n",
       "Language: en\n",
       "Country: null\n",
       "--></g></svg>"
      ]
     },
     "execution_count": 35,
     "metadata": {},
     "output_type": "execute_result"
    }
   ],
   "source": [
    "%viz --style=\"PLANTUML\" --view=\"Sequence\" \"AliasTest\""
   ]
  },
  {
   "cell_type": "code",
   "execution_count": 36,
   "id": "ae255039",
   "metadata": {
    "execution": {
     "iopub.execute_input": "2021-08-04T06:25:32.519718Z",
     "iopub.status.busy": "2021-08-04T06:25:32.519240Z",
     "iopub.status.idle": "2021-08-04T06:25:32.546172Z",
     "shell.execute_reply": "2021-08-04T06:25:32.544764Z"
    }
   },
   "outputs": [
    {
     "data": {
      "image/svg+xml": [
       "<?xml version=\"1.0\" encoding=\"UTF-8\" standalone=\"no\"?><svg xmlns=\"http://www.w3.org/2000/svg\" xmlns:xlink=\"http://www.w3.org/1999/xlink\" contentScriptType=\"application/ecmascript\" contentStyleType=\"text/css\" height=\"327px\" preserveAspectRatio=\"none\" style=\"width:381px;height:327px;\" version=\"1.1\" viewBox=\"0 0 381 327\" width=\"381px\" zoomAndPan=\"magnify\"><defs><filter height=\"300%\" id=\"fva0ty0nbu5t6\" width=\"300%\" x=\"-1\" y=\"-1\"><feGaussianBlur result=\"blurOut\" stdDeviation=\"2.0\"/><feColorMatrix in=\"blurOut\" result=\"blurOut2\" type=\"matrix\" values=\"0 0 0 0 0 0 0 0 0 0 0 0 0 0 0 0 0 0 .4 0\"/><feOffset dx=\"4.0\" dy=\"4.0\" in=\"blurOut2\" result=\"blurOut3\"/><feBlend in=\"SourceGraphic\" in2=\"blurOut3\" mode=\"normal\"/></filter></defs><g><!--MD5=[fbc87193dbaf4d95561dea2c320d4a47]\n",
       "cluster E1--><a href=\"psysml:7e4311dd-4dd4-41de-a431-b17c5d614850\" target=\"_top\" title=\"psysml:7e4311dd-4dd4-41de-a431-b17c5d614850\" xlink:actuate=\"onRequest\" xlink:href=\"psysml:7e4311dd-4dd4-41de-a431-b17c5d614850\" xlink:show=\"new\" xlink:title=\"psysml:7e4311dd-4dd4-41de-a431-b17c5d614850\" xlink:type=\"simple\"><polygon fill=\"#FFFFFF\" filter=\"url(#fva0ty0nbu5t6)\" points=\"16,6,94,6,101,28.2969,359,28.2969,359,315,16,315,16,6\" style=\"stroke: #000000; stroke-width: 1.5;\"/><line style=\"stroke: #000000; stroke-width: 1.5;\" x1=\"16\" x2=\"101\" y1=\"28.2969\" y2=\"28.2969\"/><text fill=\"#000000\" font-family=\"sans-serif\" font-size=\"14\" font-weight=\"bold\" lengthAdjust=\"spacingAndGlyphs\" textLength=\"72\" x=\"20\" y=\"20.9951\">AliasTest</text></a><!--MD5=[b4997ac47864f28c2f74865a473b2911]\n",
       "class E2--><a href=\"psysml:789c28e5-5e95-405e-84fa-948507b238dc\" target=\"_top\" title=\"psysml:789c28e5-5e95-405e-84fa-948507b238dc\" xlink:actuate=\"onRequest\" xlink:href=\"psysml:789c28e5-5e95-405e-84fa-948507b238dc\" xlink:show=\"new\" xlink:title=\"psysml:789c28e5-5e95-405e-84fa-948507b238dc\" xlink:type=\"simple\"><rect fill=\"#FEFECE\" filter=\"url(#fva0ty0nbu5t6)\" height=\"45.9375\" id=\"E2\" rx=\"10\" ry=\"10\" style=\"stroke: #A80036; stroke-width: 1.5;\" width=\"97\" x=\"246.5\" y=\"41\"/><ellipse cx=\"261.5\" cy=\"59.9688\" fill=\"#FFA500\" rx=\"11\" ry=\"11\" style=\"stroke: #A80036; stroke-width: 1.0;\"/><path d=\"M257.375,61.8906 L257.375,54.0781 L259.8281,54.0781 L259.8281,62.5156 Q259.8281,63.4375 260.2969,63.9688 Q260.7813,64.5 261.6094,64.5 Q262.4531,64.5 262.9219,63.9688 Q263.3906,63.4375 263.3906,62.5156 L263.3906,54.0781 L265.8438,54.0781 L265.8438,61.8906 Q265.8438,64.4219 264.8438,65.5625 Q263.8438,66.7031 261.6094,66.7031 Q259.3906,66.7031 258.375,65.5625 Q257.375,64.4219 257.375,61.8906 Z \"/><text fill=\"#000000\" font-family=\"sans-serif\" font-size=\"12\" font-style=\"italic\" lengthAdjust=\"spacingAndGlyphs\" textLength=\"69\" x=\"273.5\" y=\"57.1387\">«attribute»</text><text fill=\"#000000\" font-family=\"sans-serif\" font-size=\"12\" lengthAdjust=\"spacingAndGlyphs\" textLength=\"8\" x=\"304\" y=\"71.1074\">q</text><line style=\"stroke: #A80036; stroke-width: 1.5;\" x1=\"247.5\" x2=\"342.5\" y1=\"78.9375\" y2=\"78.9375\"/></a><!--MD5=[09b614a08d8cba4a07c9adeb5e0fee81]\n",
       "class E3--><a href=\"psysml:00588ae4-2df7-4d57-b3d7-e09c73d2d5b1\" target=\"_top\" title=\"psysml:00588ae4-2df7-4d57-b3d7-e09c73d2d5b1\" xlink:actuate=\"onRequest\" xlink:href=\"psysml:00588ae4-2df7-4d57-b3d7-e09c73d2d5b1\" xlink:show=\"new\" xlink:title=\"psysml:00588ae4-2df7-4d57-b3d7-e09c73d2d5b1\" xlink:type=\"simple\"><rect fill=\"#FEFECE\" filter=\"url(#fva0ty0nbu5t6)\" height=\"40\" id=\"E3\" style=\"stroke: #A80036; stroke-width: 1.5;\" width=\"48\" x=\"207\" y=\"150\"/><ellipse cx=\"222\" cy=\"166\" fill=\"#008000\" rx=\"11\" ry=\"11\" style=\"stroke: #A80036; stroke-width: 1.0;\"/><path d=\"M220.9063,166.375 L220.9063,170.0469 L222.5313,170.0469 Q223.7031,170.0469 224.1719,169.6563 Q224.6406,169.25 224.6406,168.25 Q224.6406,167.25 224.1406,166.8125 Q223.6563,166.375 222.5313,166.375 L220.9063,166.375 Z M220.9063,161.5469 L220.9063,164.4219 L222.5313,164.4219 Q223.4531,164.4219 223.8438,164.0938 Q224.25,163.75 224.25,163 Q224.25,162.2344 223.8438,161.8906 Q223.4375,161.5469 222.5313,161.5469 L220.9063,161.5469 Z M218.5313,159.5938 L222.5313,159.5938 Q224.5938,159.5938 225.6406,160.375 Q226.6875,161.1563 226.6875,162.7188 Q226.6875,163.9219 226.0625,164.5938 Q225.4531,165.2656 224.2656,165.375 Q225.6875,165.5156 226.4063,166.3281 Q227.125,167.1406 227.125,168.5938 Q227.125,170.3906 226.0469,171.2031 Q224.9688,172 222.5313,172 L218.5313,172 L218.5313,159.5938 Z \"/><text fill=\"#000000\" font-family=\"sans-serif\" font-size=\"12\" lengthAdjust=\"spacingAndGlyphs\" textLength=\"16\" x=\"236\" y=\"170.1543\">P1</text><line style=\"stroke: #A80036; stroke-width: 1.5;\" x1=\"208\" x2=\"254\" y1=\"182\" y2=\"182\"/></a><!--MD5=[ebbe1d658d1005bcc118a6aa81145e00]\n",
       "class E4--><a href=\"psysml:236a437d-3673-4742-905a-959f5dd42893\" target=\"_top\" title=\"psysml:236a437d-3673-4742-905a-959f5dd42893\" xlink:actuate=\"onRequest\" xlink:href=\"psysml:236a437d-3673-4742-905a-959f5dd42893\" xlink:show=\"new\" xlink:title=\"psysml:236a437d-3673-4742-905a-959f5dd42893\" xlink:type=\"simple\"><rect fill=\"#FEFECE\" filter=\"url(#fva0ty0nbu5t6)\" height=\"45.9375\" id=\"E4\" rx=\"10\" ry=\"10\" style=\"stroke: #A80036; stroke-width: 1.5;\" width=\"72\" x=\"195\" y=\"253\"/><ellipse cx=\"210\" cy=\"271.9688\" fill=\"#0000FF\" rx=\"11\" ry=\"11\" style=\"stroke: #A80036; stroke-width: 1.0;\"/><path d=\"M209.7969,267.6406 L209.7969,271.2656 L210.7969,271.2656 Q212,271.2656 212.4844,270.8594 Q212.9688,270.4531 212.9688,269.4531 Q212.9688,268.4531 212.4844,268.0469 Q212,267.6406 210.7969,267.6406 L209.7969,267.6406 Z M207.3438,265.5781 L210.7031,265.5781 Q213.2656,265.5781 214.3906,266.5 Q215.5156,267.4063 215.5156,269.4531 Q215.5156,271.5 214.3906,272.4219 Q213.2656,273.3281 210.7031,273.3281 L209.7969,273.3281 L209.7969,277.9688 L207.3438,277.9688 L207.3438,265.5781 Z \"/><text fill=\"#000000\" font-family=\"sans-serif\" font-size=\"12\" font-style=\"italic\" lengthAdjust=\"spacingAndGlyphs\" textLength=\"40\" x=\"224\" y=\"269.1387\">«port»</text><text fill=\"#000000\" font-family=\"sans-serif\" font-size=\"12\" lengthAdjust=\"spacingAndGlyphs\" textLength=\"40\" x=\"224\" y=\"283.1074\">porig1</text><line style=\"stroke: #A80036; stroke-width: 1.5;\" x1=\"196\" x2=\"266\" y1=\"290.9375\" y2=\"290.9375\"/></a><!--MD5=[270fce915f116d4de14055a7c1d9a0f3]\n",
       "class E5--><a href=\"psysml:4e54ee4d-012b-498f-93d7-1afb3759d34d\" target=\"_top\" title=\"psysml:4e54ee4d-012b-498f-93d7-1afb3759d34d\" xlink:actuate=\"onRequest\" xlink:href=\"psysml:4e54ee4d-012b-498f-93d7-1afb3759d34d\" xlink:show=\"new\" xlink:title=\"psysml:4e54ee4d-012b-498f-93d7-1afb3759d34d\" xlink:type=\"simple\"><rect fill=\"#FEFECE\" filter=\"url(#fva0ty0nbu5t6)\" height=\"45.9375\" id=\"E5\" rx=\"10\" ry=\"10\" style=\"stroke: #A80036; stroke-width: 1.5;\" width=\"72\" x=\"139\" y=\"41\"/><ellipse cx=\"154\" cy=\"59.9688\" fill=\"#32CD32\" rx=\"11\" ry=\"11\" style=\"stroke: #A80036; stroke-width: 1.0;\"/><path d=\"M153.7969,55.6406 L153.7969,59.2656 L154.7969,59.2656 Q156,59.2656 156.4844,58.8594 Q156.9688,58.4531 156.9688,57.4531 Q156.9688,56.4531 156.4844,56.0469 Q156,55.6406 154.7969,55.6406 L153.7969,55.6406 Z M151.3438,53.5781 L154.7031,53.5781 Q157.2656,53.5781 158.3906,54.5 Q159.5156,55.4063 159.5156,57.4531 Q159.5156,59.5 158.3906,60.4219 Q157.2656,61.3281 154.7031,61.3281 L153.7969,61.3281 L153.7969,65.9688 L151.3438,65.9688 L151.3438,53.5781 Z \"/><text fill=\"#000000\" font-family=\"sans-serif\" font-size=\"12\" font-style=\"italic\" lengthAdjust=\"spacingAndGlyphs\" textLength=\"40\" x=\"168\" y=\"57.1387\">«part»</text><text fill=\"#000000\" font-family=\"sans-serif\" font-size=\"12\" lengthAdjust=\"spacingAndGlyphs\" textLength=\"40\" x=\"168\" y=\"71.1074\">p1: P1</text><line style=\"stroke: #A80036; stroke-width: 1.5;\" x1=\"140\" x2=\"210\" y1=\"78.9375\" y2=\"78.9375\"/></a><!--MD5=[60a26617385b1d2d0262a64233df1f8d]\n",
       "class E6--><a href=\"psysml:8965b7df-293c-4ee2-9b2b-715c01154c80\" target=\"_top\" title=\"psysml:8965b7df-293c-4ee2-9b2b-715c01154c80\" xlink:actuate=\"onRequest\" xlink:href=\"psysml:8965b7df-293c-4ee2-9b2b-715c01154c80\" xlink:show=\"new\" xlink:title=\"psysml:8965b7df-293c-4ee2-9b2b-715c01154c80\" xlink:type=\"simple\"><rect fill=\"#FEFECE\" filter=\"url(#fva0ty0nbu5t6)\" height=\"45.9375\" id=\"E6\" rx=\"10\" ry=\"10\" style=\"stroke: #A80036; stroke-width: 1.5;\" width=\"68\" x=\"104\" y=\"147\"/><ellipse cx=\"119\" cy=\"165.9688\" fill=\"#0000FF\" rx=\"11\" ry=\"11\" style=\"stroke: #A80036; stroke-width: 1.0;\"/><path d=\"M118.7969,161.6406 L118.7969,165.2656 L119.7969,165.2656 Q121,165.2656 121.4844,164.8594 Q121.9688,164.4531 121.9688,163.4531 Q121.9688,162.4531 121.4844,162.0469 Q121,161.6406 119.7969,161.6406 L118.7969,161.6406 Z M116.3438,159.5781 L119.7031,159.5781 Q122.2656,159.5781 123.3906,160.5 Q124.5156,161.4063 124.5156,163.4531 Q124.5156,165.5 123.3906,166.4219 Q122.2656,167.3281 119.7031,167.3281 L118.7969,167.3281 L118.7969,171.9688 L116.3438,171.9688 L116.3438,159.5781 Z \"/><text fill=\"#000000\" font-family=\"sans-serif\" font-size=\"12\" font-style=\"italic\" lengthAdjust=\"spacingAndGlyphs\" textLength=\"40\" x=\"131\" y=\"163.1387\">«port»</text><text fill=\"#000000\" font-family=\"sans-serif\" font-size=\"12\" lengthAdjust=\"spacingAndGlyphs\" textLength=\"24\" x=\"139\" y=\"177.1074\">po1</text><line style=\"stroke: #A80036; stroke-width: 1.5;\" x1=\"105\" x2=\"171\" y1=\"184.9375\" y2=\"184.9375\"/></a><!--MD5=[2156ba9850f5573cc1fc38a6a4b2f02b]\n",
       "class E7--><a href=\"psysml:77eadb46-ce1a-4e0f-9527-bb06765d2ea7\" target=\"_top\" title=\"psysml:77eadb46-ce1a-4e0f-9527-bb06765d2ea7\" xlink:actuate=\"onRequest\" xlink:href=\"psysml:77eadb46-ce1a-4e0f-9527-bb06765d2ea7\" xlink:show=\"new\" xlink:title=\"psysml:77eadb46-ce1a-4e0f-9527-bb06765d2ea7\" xlink:type=\"simple\"><rect fill=\"#FEFECE\" filter=\"url(#fva0ty0nbu5t6)\" height=\"45.9375\" id=\"E7\" rx=\"10\" ry=\"10\" style=\"stroke: #A80036; stroke-width: 1.5;\" width=\"72\" x=\"32\" y=\"41\"/><ellipse cx=\"47\" cy=\"59.9688\" fill=\"#32CD32\" rx=\"11\" ry=\"11\" style=\"stroke: #A80036; stroke-width: 1.0;\"/><path d=\"M46.7969,55.6406 L46.7969,59.2656 L47.7969,59.2656 Q49,59.2656 49.4844,58.8594 Q49.9688,58.4531 49.9688,57.4531 Q49.9688,56.4531 49.4844,56.0469 Q49,55.6406 47.7969,55.6406 L46.7969,55.6406 Z M44.3438,53.5781 L47.7031,53.5781 Q50.2656,53.5781 51.3906,54.5 Q52.5156,55.4063 52.5156,57.4531 Q52.5156,59.5 51.3906,60.4219 Q50.2656,61.3281 47.7031,61.3281 L46.7969,61.3281 L46.7969,65.9688 L44.3438,65.9688 L44.3438,53.5781 Z \"/><text fill=\"#000000\" font-family=\"sans-serif\" font-size=\"12\" font-style=\"italic\" lengthAdjust=\"spacingAndGlyphs\" textLength=\"40\" x=\"61\" y=\"57.1387\">«part»</text><text fill=\"#000000\" font-family=\"sans-serif\" font-size=\"12\" lengthAdjust=\"spacingAndGlyphs\" textLength=\"40\" x=\"61\" y=\"71.1074\">p2: P1</text><line style=\"stroke: #A80036; stroke-width: 1.5;\" x1=\"33\" x2=\"103\" y1=\"78.9375\" y2=\"78.9375\"/></a><!--MD5=[b9389687b975829384b498ac4b7476b2]\n",
       "class E8--><a href=\"psysml:db28622a-fbe8-4c7d-8fe4-9e164802e944\" target=\"_top\" title=\"psysml:db28622a-fbe8-4c7d-8fe4-9e164802e944\" xlink:actuate=\"onRequest\" xlink:href=\"psysml:db28622a-fbe8-4c7d-8fe4-9e164802e944\" xlink:show=\"new\" xlink:title=\"psysml:db28622a-fbe8-4c7d-8fe4-9e164802e944\" xlink:type=\"simple\"><rect fill=\"#FEFECE\" filter=\"url(#fva0ty0nbu5t6)\" height=\"45.9375\" id=\"E8\" rx=\"10\" ry=\"10\" style=\"stroke: #A80036; stroke-width: 1.5;\" width=\"68\" x=\"63\" y=\"253\"/><ellipse cx=\"78\" cy=\"271.9688\" fill=\"#0000FF\" rx=\"11\" ry=\"11\" style=\"stroke: #A80036; stroke-width: 1.0;\"/><path d=\"M77.7969,267.6406 L77.7969,271.2656 L78.7969,271.2656 Q80,271.2656 80.4844,270.8594 Q80.9688,270.4531 80.9688,269.4531 Q80.9688,268.4531 80.4844,268.0469 Q80,267.6406 78.7969,267.6406 L77.7969,267.6406 Z M75.3438,265.5781 L78.7031,265.5781 Q81.2656,265.5781 82.3906,266.5 Q83.5156,267.4063 83.5156,269.4531 Q83.5156,271.5 82.3906,272.4219 Q81.2656,273.3281 78.7031,273.3281 L77.7969,273.3281 L77.7969,277.9688 L75.3438,277.9688 L75.3438,265.5781 Z \"/><text fill=\"#000000\" font-family=\"sans-serif\" font-size=\"12\" font-style=\"italic\" lengthAdjust=\"spacingAndGlyphs\" textLength=\"40\" x=\"90\" y=\"269.1387\">«port»</text><text fill=\"#000000\" font-family=\"sans-serif\" font-size=\"12\" lengthAdjust=\"spacingAndGlyphs\" textLength=\"36\" x=\"92\" y=\"283.1074\">pdest</text><line style=\"stroke: #A80036; stroke-width: 1.5;\" x1=\"64\" x2=\"130\" y1=\"290.9375\" y2=\"290.9375\"/></a><!--MD5=[4672eba38e49728da53d11aeb285b987]\n",
       "reverse link E3 to E4--><a href=\"psysml:10297d07-57fa-4f9d-a873-bd76f542a35c\" target=\"_top\" title=\"psysml:10297d07-57fa-4f9d-a873-bd76f542a35c\" xlink:actuate=\"onRequest\" xlink:href=\"psysml:10297d07-57fa-4f9d-a873-bd76f542a35c\" xlink:show=\"new\" xlink:title=\"psysml:10297d07-57fa-4f9d-a873-bd76f542a35c\" xlink:type=\"simple\"><path d=\"M219.1,203.25 C217.65,219.33 218.05,238.37 220.33,252.8 \" fill=\"none\" id=\"E3&lt;-E4\" style=\"stroke: #A80036; stroke-width: 1.0;\"/><polygon fill=\"#FFFFFF\" points=\"220.87,190.08,216.1137,195.5001,219.2875,201.9752,224.0438,196.5551,220.87,190.08\" style=\"stroke: #A80036; stroke-width: 1.0;\"/><text fill=\"#000000\" font-family=\"sans-serif\" font-size=\"13\" lengthAdjust=\"spacingAndGlyphs\" textLength=\"8\" x=\"208.5708\" y=\"242.025\">1</text></a><!--MD5=[4672eba38e49728da53d11aeb285b987]\n",
       "reverse link E3 to E4--><a href=\"psysml:4c29fec0-8309-450b-9bf3-4a2b28b77917\" target=\"_top\" title=\"psysml:4c29fec0-8309-450b-9bf3-4a2b28b77917\" xlink:actuate=\"onRequest\" xlink:href=\"psysml:4c29fec0-8309-450b-9bf3-4a2b28b77917\" xlink:show=\"new\" xlink:title=\"psysml:4c29fec0-8309-450b-9bf3-4a2b28b77917\" xlink:type=\"simple\"><path d=\"M243.77,205.22 C245.1,220.87 244.61,238.96 242.3,252.8 \" fill=\"none\" id=\"E3&lt;-E4-1\" style=\"stroke: #A80036; stroke-width: 1.0; stroke-dasharray: 7.0,7.0;\"/><ellipse cx=\"242.7963\" cy=\"198.0086\" fill=\"#FFFFFF\" rx=\"8\" ry=\"8\" style=\"stroke: #A80036; stroke-width: 1.0;\"/><line style=\"stroke: #A80036; stroke-width: 1.0;\" x1=\"243.8626\" x2=\"241.73\" y1=\"205.9372\" y2=\"190.08\"/><line style=\"stroke: #A80036; stroke-width: 1.0;\" x1=\"234.8677\" x2=\"250.7249\" y1=\"199.0749\" y2=\"196.9423\"/><text fill=\"#000000\" font-family=\"sans-serif\" font-size=\"13\" lengthAdjust=\"spacingAndGlyphs\" textLength=\"8\" x=\"236.1706\" y=\"242.025\">1</text></a><!--MD5=[e9be52314489bd878ff4c7144b63c9e1]\n",
       "link E5 to E3--><a href=\"psysml:93a52ea3-a140-4bd2-b924-ec5ad15b1b7e\" target=\"_top\" title=\"psysml:93a52ea3-a140-4bd2-b924-ec5ad15b1b7e\" xlink:actuate=\"onRequest\" xlink:href=\"psysml:93a52ea3-a140-4bd2-b924-ec5ad15b1b7e\" xlink:show=\"new\" xlink:title=\"psysml:93a52ea3-a140-4bd2-b924-ec5ad15b1b7e\" xlink:type=\"simple\"><path d=\"M186.88,87.06 C193.92,100.14 203.03,117.05 211.14,132.11 \" fill=\"none\" id=\"E5-&gt;E3\" style=\"stroke: #A80036; stroke-width: 1.0;\"/><polygon fill=\"#FFFFFF\" points=\"220.65,149.77,205.4866,136.3509,217.817,129.7207,220.65,149.77\" style=\"stroke: #A80036; stroke-width: 1.0;\"/><ellipse cx=\"204.5486\" cy=\"130.3835\" fill=\"#A80036\" rx=\"2\" ry=\"2\" style=\"stroke: #A80036; stroke-width: 1.0;\"/><ellipse cx=\"213.3561\" cy=\"125.6476\" fill=\"#A80036\" rx=\"2\" ry=\"2\" style=\"stroke: #A80036; stroke-width: 1.0;\"/></a><!--MD5=[85d356282659285ab4b2cfe2f634dd2b]\n",
       "reverse link E5 to E6--><a href=\"psysml:cdcbbeec-90be-4e1d-8c60-d92c8a6a7077\" target=\"_top\" title=\"psysml:cdcbbeec-90be-4e1d-8c60-d92c8a6a7077\" xlink:actuate=\"onRequest\" xlink:href=\"psysml:cdcbbeec-90be-4e1d-8c60-d92c8a6a7077\" xlink:show=\"new\" xlink:title=\"psysml:cdcbbeec-90be-4e1d-8c60-d92c8a6a7077\" xlink:type=\"simple\"><path d=\"M162.73,99.49 C157.16,115.15 150.74,133.19 145.84,146.98 \" fill=\"none\" id=\"E5&lt;-E6\" style=\"stroke: #A80036; stroke-width: 1.0;\"/><polygon fill=\"#FFFFFF\" points=\"167.15,87.06,161.3698,91.3715,163.1265,98.3654,168.9067,94.0539,167.15,87.06\" style=\"stroke: #A80036; stroke-width: 1.0;\"/><text fill=\"#000000\" font-family=\"sans-serif\" font-size=\"13\" lengthAdjust=\"spacingAndGlyphs\" textLength=\"8\" x=\"138.872\" y=\"135.8709\">1</text></a><!--MD5=[f667431f98296947986a1a7595a31603]\n",
       "link E6 to E4--><a href=\"psysml:b5614b00-f88c-4f87-85f7-609ca7f17bae\" target=\"_top\" title=\"psysml:b5614b00-f88c-4f87-85f7-609ca7f17bae\" xlink:actuate=\"onRequest\" xlink:href=\"psysml:b5614b00-f88c-4f87-85f7-609ca7f17bae\" xlink:show=\"new\" xlink:title=\"psysml:b5614b00-f88c-4f87-85f7-609ca7f17bae\" xlink:type=\"simple\"><path d=\"M157.72,193.06 C169.31,206.02 184.27,222.74 197.65,237.7 \" fill=\"none\" id=\"E6-&gt;E4\" style=\"stroke: #A80036; stroke-width: 1.0;\"/><polygon fill=\"#FFFFFF\" points=\"211.31,252.98,193.4253,243.486,203.8597,234.152,211.31,252.98\" style=\"stroke: #A80036; stroke-width: 1.0;\"/><line style=\"stroke: #A80036; stroke-width: 2.0;\" x1=\"190.8918\" x2=\"201.3262\" y1=\"240.6538\" y2=\"231.3198\"/></a><!--MD5=[14ccda38c055a5c0da953d572bc50960]\n",
       "link E7 to E3--><a href=\"psysml:87c48ed5-bc50-48bb-899d-f807bfcdc26e\" target=\"_top\" title=\"psysml:87c48ed5-bc50-48bb-899d-f807bfcdc26e\" xlink:actuate=\"onRequest\" xlink:href=\"psysml:87c48ed5-bc50-48bb-899d-f807bfcdc26e\" xlink:show=\"new\" xlink:title=\"psysml:87c48ed5-bc50-48bb-899d-f807bfcdc26e\" xlink:type=\"simple\"><path d=\"M102.57,87.06 C127.93,103.24 162.49,125.29 189.37,142.44 \" fill=\"none\" id=\"E7-&gt;E3\" style=\"stroke: #A80036; stroke-width: 1.0;\"/><polygon fill=\"#FFFFFF\" points=\"206.54,153.39,186.7577,149.0701,194.2889,137.2683,206.54,153.39\" style=\"stroke: #A80036; stroke-width: 1.0;\"/><ellipse cx=\"183.0286\" cy=\"144.3178\" fill=\"#A80036\" rx=\"2\" ry=\"2\" style=\"stroke: #A80036; stroke-width: 1.0;\"/><ellipse cx=\"188.408\" cy=\"135.888\" fill=\"#A80036\" rx=\"2\" ry=\"2\" style=\"stroke: #A80036; stroke-width: 1.0;\"/></a><!--MD5=[dc164f5e8a733ab456ef1add180e9e34]\n",
       "reverse link E7 to E8--><a href=\"psysml:5ff6c459-66f7-4338-82bb-16aa2b22f6b4\" target=\"_top\" title=\"psysml:5ff6c459-66f7-4338-82bb-16aa2b22f6b4\" xlink:actuate=\"onRequest\" xlink:href=\"psysml:5ff6c459-66f7-4338-82bb-16aa2b22f6b4\" xlink:show=\"new\" xlink:title=\"psysml:5ff6c459-66f7-4338-82bb-16aa2b22f6b4\" xlink:type=\"simple\"><path d=\"M63.05,100.09 C64.65,143.61 75.25,216.5 85.75,252.9 \" fill=\"none\" id=\"E7&lt;-E8\" style=\"stroke: #A80036; stroke-width: 1.0;\"/><polygon fill=\"#FFFFFF\" points=\"62.85,87.08,58.9362,93.1366,63.0216,99.0788,66.9354,93.0222,62.85,87.08\" style=\"stroke: #A80036; stroke-width: 1.0;\"/><text fill=\"#000000\" font-family=\"sans-serif\" font-size=\"13\" lengthAdjust=\"spacingAndGlyphs\" textLength=\"8\" x=\"73.6516\" y=\"241.7694\">1</text></a><!--MD5=[dc164f5e8a733ab456ef1add180e9e34]\n",
       "reverse link E7 to E8--><a href=\"psysml:4eb1c616-a5a7-47d5-8985-e84491dc2120\" target=\"_top\" title=\"psysml:4eb1c616-a5a7-47d5-8985-e84491dc2120\" xlink:actuate=\"onRequest\" xlink:href=\"psysml:4eb1c616-a5a7-47d5-8985-e84491dc2120\" xlink:show=\"new\" xlink:title=\"psysml:4eb1c616-a5a7-47d5-8985-e84491dc2120\" xlink:type=\"simple\"><path d=\"M83.64,101.8 C94.15,145.5 103.39,216.97 102.63,252.9 \" fill=\"none\" id=\"E7&lt;-E8-1\" style=\"stroke: #A80036; stroke-width: 1.0; stroke-dasharray: 7.0,7.0;\"/><ellipse cx=\"81.7794\" cy=\"94.813\" fill=\"#FFFFFF\" rx=\"8\" ry=\"8\" style=\"stroke: #A80036; stroke-width: 1.0;\"/><line style=\"stroke: #A80036; stroke-width: 1.0;\" x1=\"83.8289\" x2=\"79.73\" y1=\"102.5461\" y2=\"87.08\"/><line style=\"stroke: #A80036; stroke-width: 1.0;\" x1=\"74.0464\" x2=\"89.5125\" y1=\"96.8625\" y2=\"92.7636\"/><text fill=\"#000000\" font-family=\"sans-serif\" font-size=\"13\" lengthAdjust=\"spacingAndGlyphs\" textLength=\"8\" x=\"95.0681\" y=\"241.7694\">1</text></a><!--MD5=[0a839d0f80c2d72d4b9b307f046d0de8]\n",
       "link E6 to E8--><a href=\"psysml:af89f277-c22a-4acb-b9c9-7f04d6a8a86b\" target=\"_top\" title=\"psysml:af89f277-c22a-4acb-b9c9-7f04d6a8a86b\" xlink:actuate=\"onRequest\" xlink:href=\"psysml:af89f277-c22a-4acb-b9c9-7f04d6a8a86b\" xlink:show=\"new\" xlink:title=\"psysml:af89f277-c22a-4acb-b9c9-7f04d6a8a86b\" xlink:type=\"simple\"><path d=\"M118.66,193.06 C108.89,210.7 99.19,235.34 95.04,252.98 \" fill=\"none\" id=\"E6-E8\" style=\"stroke: #A80036; stroke-width: 3.0;\"/><text fill=\"#000000\" font-family=\"sans-serif\" font-size=\"13\" lengthAdjust=\"spacingAndGlyphs\" textLength=\"7\" x=\"86.5726\" y=\"241.8709\">*</text></a><!--MD5=[0a839d0f80c2d72d4b9b307f046d0de8]\n",
       "link E6 to E8--><a href=\"psysml:6818c790-7ee4-49fa-b866-28c88d0d2e1e\" target=\"_top\" title=\"psysml:6818c790-7ee4-49fa-b866-28c88d0d2e1e\" xlink:actuate=\"onRequest\" xlink:href=\"psysml:6818c790-7ee4-49fa-b866-28c88d0d2e1e\" xlink:show=\"new\" xlink:title=\"psysml:6818c790-7ee4-49fa-b866-28c88d0d2e1e\" xlink:type=\"simple\"><path d=\"M140.58,193.06 C136.59,210.7 126.88,235.34 116.95,252.98 \" fill=\"none\" id=\"E6-E8-1\" style=\"stroke: #A80036; stroke-width: 3.0;\"/><text fill=\"#000000\" font-family=\"sans-serif\" font-size=\"13\" lengthAdjust=\"spacingAndGlyphs\" textLength=\"7\" x=\"114.3709\" y=\"241.8709\">*</text></a><!--MD5=[50476e6423e76b8eba4ec765a892f56a]\n",
       "@startuml\r\n",
       " \r\n",
       "package \"AliasTest\" as E1  [[psysml:7e4311dd-4dd4-41de-a431-b17c5d614850 ]]  {\r\n",
       "comp usage \"q\" as E2 << <<(U,orange) attribute>> [[psysml:789c28e5-5e95-405e-84fa-948507b238dc ]] {\r\n",
       "}\r\n",
       "comp def \"P1\" as E3 << << (B,green) >> [[psysml:00588ae4-2df7-4d57-b3d7-e09c73d2d5b1 ]] {\r\n",
       "}\r\n",
       "comp usage \"porig1\" as E4 << << (P,blue) port>> [[psysml:236a437d-3673-4742-905a-959f5dd42893 ]] {\r\n",
       "}\r\n",
       "comp usage \"p1: P1\" as E5 << << (P,limegreen) part>> [[psysml:4e54ee4d-012b-498f-93d7-1afb3759d34d ]] {\r\n",
       "}\r\n",
       "comp usage \"po1\" as E6 << << (P,blue) port>> [[psysml:8965b7df-293c-4ee2-9b2b-715c01154c80 ]] {\r\n",
       "}\r\n",
       "comp usage \"p2: P1\" as E7 << << (P,limegreen) part>> [[psysml:77eadb46-ce1a-4e0f-9527-bb06765d2ea7 ]] {\r\n",
       "}\r\n",
       "comp usage \"pdest\" as E8 << << (P,blue) port>> [[psysml:db28622a-fbe8-4c7d-8fe4-9e164802e944 ]] {\r\n",
       "}\r\n",
       "E3 o- - \"1\"E4 [[psysml:10297d07-57fa-4f9d-a873-bd76f542a35c ]] \r\n",
       "E3 +.. \"1\"E4 [[psysml:4c29fec0-8309-450b-9bf3-4a2b28b77917 ]] \r\n",
       "E5 - -:|> E3 [[psysml:93a52ea3-a140-4bd2-b924-ec5ad15b1b7e ]] \r\n",
       "E5 o- - \"1\"E6 [[psysml:cdcbbeec-90be-4e1d-8c60-d92c8a6a7077 ]] \r\n",
       "E6 - -||> E4 [[psysml:b5614b00-f88c-4f87-85f7-609ca7f17bae ]] \r\n",
       "E7 - -:|> E3 [[psysml:87c48ed5-bc50-48bb-899d-f807bfcdc26e ]] \r\n",
       "E7 o- - \"1\"E8 [[psysml:5ff6c459-66f7-4338-82bb-16aa2b22f6b4 ]] \r\n",
       "E7 +.. \"1\"E8 [[psysml:4eb1c616-a5a7-47d5-8985-e84491dc2120 ]] \r\n",
       "E6 -[thickness=3]- \"*\"E8 [[psysml:af89f277-c22a-4acb-b9c9-7f04d6a8a86b ]] \r\n",
       "E6 -[thickness=3]- \"*\"E8 [[psysml:6818c790-7ee4-49fa-b866-28c88d0d2e1e ]] \r\n",
       "}\r\n",
       "@enduml\r\n",
       "\n",
       "PlantUML version 1.2020.13(Sat Jun 13 12:26:38 UTC 2020)\n",
       "(EPL source distribution)\n",
       "Java Runtime: OpenJDK Runtime Environment\n",
       "JVM: OpenJDK 64-Bit Server VM\n",
       "Default Encoding: UTF-8\n",
       "Language: en\n",
       "Country: null\n",
       "--></g></svg>"
      ]
     },
     "execution_count": 36,
     "metadata": {},
     "output_type": "execute_result"
    }
   ],
   "source": [
    "%viz --style=\"PLANTUML\" --view=\"MIXED\" \"AliasTest\""
   ]
  },
  {
   "cell_type": "code",
   "execution_count": 37,
   "id": "a49433b5",
   "metadata": {
    "execution": {
     "iopub.execute_input": "2021-08-04T06:25:32.595328Z",
     "iopub.status.busy": "2021-08-04T06:25:32.594910Z",
     "iopub.status.idle": "2021-08-04T06:25:32.626423Z",
     "shell.execute_reply": "2021-08-04T06:25:32.626012Z"
    }
   },
   "outputs": [
    {
     "data": {
      "image/svg+xml": [
       "<?xml version=\"1.0\" encoding=\"UTF-8\" standalone=\"no\"?><svg xmlns=\"http://www.w3.org/2000/svg\" xmlns:xlink=\"http://www.w3.org/1999/xlink\" contentScriptType=\"application/ecmascript\" contentStyleType=\"text/css\" height=\"327px\" preserveAspectRatio=\"none\" style=\"width:304px;height:327px;\" version=\"1.1\" viewBox=\"0 0 304 327\" width=\"304px\" zoomAndPan=\"magnify\"><defs/><g><!--MD5=[fbc87193dbaf4d95561dea2c320d4a47]\n",
       "cluster E1--><a href=\"psysml:7e4311dd-4dd4-41de-a431-b17c5d614850\" target=\"_top\" title=\"psysml:7e4311dd-4dd4-41de-a431-b17c5d614850\" xlink:actuate=\"onRequest\" xlink:href=\"psysml:7e4311dd-4dd4-41de-a431-b17c5d614850\" xlink:show=\"new\" xlink:title=\"psysml:7e4311dd-4dd4-41de-a431-b17c5d614850\" xlink:type=\"simple\"><polygon fill=\"#FFFFFF\" points=\"16,6,94,6,101,28.2969,282,28.2969,282,315,16,315,16,6\" style=\"stroke: #000000; stroke-width: 1.5;\"/><line style=\"stroke: #000000; stroke-width: 1.5;\" x1=\"16\" x2=\"101\" y1=\"28.2969\" y2=\"28.2969\"/><text fill=\"#000000\" font-family=\"sans-serif\" font-size=\"14\" font-weight=\"bold\" lengthAdjust=\"spacingAndGlyphs\" textLength=\"72\" x=\"20\" y=\"20.9951\">AliasTest</text></a><!--MD5=[b4997ac47864f28c2f74865a473b2911]\n",
       "class E2--><a href=\"psysml:789c28e5-5e95-405e-84fa-948507b238dc\" target=\"_top\" title=\"psysml:789c28e5-5e95-405e-84fa-948507b238dc\" xlink:actuate=\"onRequest\" xlink:href=\"psysml:789c28e5-5e95-405e-84fa-948507b238dc\" xlink:show=\"new\" xlink:title=\"psysml:789c28e5-5e95-405e-84fa-948507b238dc\" xlink:type=\"simple\"><rect fill=\"#FFFFFF\" height=\"45.9375\" id=\"E2\" rx=\"10\" ry=\"10\" style=\"stroke: #383838; stroke-width: 1.5;\" width=\"71\" x=\"194.5\" y=\"41\"/><text fill=\"#000000\" font-family=\"sans-serif\" font-size=\"12\" font-style=\"italic\" lengthAdjust=\"spacingAndGlyphs\" textLength=\"69\" x=\"195.5\" y=\"57.1387\">«attribute»</text><text fill=\"#000000\" font-family=\"sans-serif\" font-size=\"12\" lengthAdjust=\"spacingAndGlyphs\" textLength=\"8\" x=\"226\" y=\"71.1074\">q</text><line style=\"stroke: #383838; stroke-width: 1.5;\" x1=\"195.5\" x2=\"264.5\" y1=\"78.9375\" y2=\"78.9375\"/></a><!--MD5=[09b614a08d8cba4a07c9adeb5e0fee81]\n",
       "class E3--><a href=\"psysml:00588ae4-2df7-4d57-b3d7-e09c73d2d5b1\" target=\"_top\" title=\"psysml:00588ae4-2df7-4d57-b3d7-e09c73d2d5b1\" xlink:actuate=\"onRequest\" xlink:href=\"psysml:00588ae4-2df7-4d57-b3d7-e09c73d2d5b1\" xlink:show=\"new\" xlink:title=\"psysml:00588ae4-2df7-4d57-b3d7-e09c73d2d5b1\" xlink:type=\"simple\"><rect fill=\"#FFFFFF\" height=\"45.9375\" id=\"E3\" style=\"stroke: #383838; stroke-width: 1.5;\" width=\"66\" x=\"168\" y=\"147\"/><text fill=\"#000000\" font-family=\"sans-serif\" font-size=\"12\" font-style=\"italic\" lengthAdjust=\"spacingAndGlyphs\" textLength=\"64\" x=\"169\" y=\"163.1387\">«part def»</text><text fill=\"#000000\" font-family=\"sans-serif\" font-size=\"12\" lengthAdjust=\"spacingAndGlyphs\" textLength=\"16\" x=\"193\" y=\"177.1074\">P1</text><line style=\"stroke: #383838; stroke-width: 1.5;\" x1=\"169\" x2=\"233\" y1=\"184.9375\" y2=\"184.9375\"/></a><!--MD5=[ebbe1d658d1005bcc118a6aa81145e00]\n",
       "class E4--><a href=\"psysml:236a437d-3673-4742-905a-959f5dd42893\" target=\"_top\" title=\"psysml:236a437d-3673-4742-905a-959f5dd42893\" xlink:actuate=\"onRequest\" xlink:href=\"psysml:236a437d-3673-4742-905a-959f5dd42893\" xlink:show=\"new\" xlink:title=\"psysml:236a437d-3673-4742-905a-959f5dd42893\" xlink:type=\"simple\"><rect fill=\"#FFFFFF\" height=\"45.9375\" id=\"E4\" rx=\"10\" ry=\"10\" style=\"stroke: #383838; stroke-width: 1.5;\" width=\"46\" x=\"178\" y=\"253\"/><text fill=\"#000000\" font-family=\"sans-serif\" font-size=\"12\" font-style=\"italic\" lengthAdjust=\"spacingAndGlyphs\" textLength=\"40\" x=\"181\" y=\"269.1387\">«port»</text><text fill=\"#000000\" font-family=\"sans-serif\" font-size=\"12\" lengthAdjust=\"spacingAndGlyphs\" textLength=\"40\" x=\"181\" y=\"283.1074\">porig1</text><line style=\"stroke: #383838; stroke-width: 1.5;\" x1=\"179\" x2=\"223\" y1=\"290.9375\" y2=\"290.9375\"/></a><!--MD5=[270fce915f116d4de14055a7c1d9a0f3]\n",
       "class E5--><a href=\"psysml:4e54ee4d-012b-498f-93d7-1afb3759d34d\" target=\"_top\" title=\"psysml:4e54ee4d-012b-498f-93d7-1afb3759d34d\" xlink:actuate=\"onRequest\" xlink:href=\"psysml:4e54ee4d-012b-498f-93d7-1afb3759d34d\" xlink:show=\"new\" xlink:title=\"psysml:4e54ee4d-012b-498f-93d7-1afb3759d34d\" xlink:type=\"simple\"><rect fill=\"#FFFFFF\" height=\"45.9375\" id=\"E5\" rx=\"10\" ry=\"10\" style=\"stroke: #383838; stroke-width: 1.5;\" width=\"46\" x=\"113\" y=\"41\"/><text fill=\"#000000\" font-family=\"sans-serif\" font-size=\"12\" font-style=\"italic\" lengthAdjust=\"spacingAndGlyphs\" textLength=\"40\" x=\"116\" y=\"57.1387\">«part»</text><text fill=\"#000000\" font-family=\"sans-serif\" font-size=\"12\" lengthAdjust=\"spacingAndGlyphs\" textLength=\"40\" x=\"116\" y=\"71.1074\">p1: P1</text><line style=\"stroke: #383838; stroke-width: 1.5;\" x1=\"114\" x2=\"158\" y1=\"78.9375\" y2=\"78.9375\"/></a><!--MD5=[60a26617385b1d2d0262a64233df1f8d]\n",
       "class E6--><a href=\"psysml:8965b7df-293c-4ee2-9b2b-715c01154c80\" target=\"_top\" title=\"psysml:8965b7df-293c-4ee2-9b2b-715c01154c80\" xlink:actuate=\"onRequest\" xlink:href=\"psysml:8965b7df-293c-4ee2-9b2b-715c01154c80\" xlink:show=\"new\" xlink:title=\"psysml:8965b7df-293c-4ee2-9b2b-715c01154c80\" xlink:type=\"simple\"><rect fill=\"#FFFFFF\" height=\"45.9375\" id=\"E6\" rx=\"10\" ry=\"10\" style=\"stroke: #383838; stroke-width: 1.5;\" width=\"42\" x=\"91\" y=\"147\"/><text fill=\"#000000\" font-family=\"sans-serif\" font-size=\"12\" font-style=\"italic\" lengthAdjust=\"spacingAndGlyphs\" textLength=\"40\" x=\"92\" y=\"163.1387\">«port»</text><text fill=\"#000000\" font-family=\"sans-serif\" font-size=\"12\" lengthAdjust=\"spacingAndGlyphs\" textLength=\"24\" x=\"100\" y=\"177.1074\">po1</text><line style=\"stroke: #383838; stroke-width: 1.5;\" x1=\"92\" x2=\"132\" y1=\"184.9375\" y2=\"184.9375\"/></a><!--MD5=[2156ba9850f5573cc1fc38a6a4b2f02b]\n",
       "class E7--><a href=\"psysml:77eadb46-ce1a-4e0f-9527-bb06765d2ea7\" target=\"_top\" title=\"psysml:77eadb46-ce1a-4e0f-9527-bb06765d2ea7\" xlink:actuate=\"onRequest\" xlink:href=\"psysml:77eadb46-ce1a-4e0f-9527-bb06765d2ea7\" xlink:show=\"new\" xlink:title=\"psysml:77eadb46-ce1a-4e0f-9527-bb06765d2ea7\" xlink:type=\"simple\"><rect fill=\"#FFFFFF\" height=\"45.9375\" id=\"E7\" rx=\"10\" ry=\"10\" style=\"stroke: #383838; stroke-width: 1.5;\" width=\"46\" x=\"32\" y=\"41\"/><text fill=\"#000000\" font-family=\"sans-serif\" font-size=\"12\" font-style=\"italic\" lengthAdjust=\"spacingAndGlyphs\" textLength=\"40\" x=\"35\" y=\"57.1387\">«part»</text><text fill=\"#000000\" font-family=\"sans-serif\" font-size=\"12\" lengthAdjust=\"spacingAndGlyphs\" textLength=\"40\" x=\"35\" y=\"71.1074\">p2: P1</text><line style=\"stroke: #383838; stroke-width: 1.5;\" x1=\"33\" x2=\"77\" y1=\"78.9375\" y2=\"78.9375\"/></a><!--MD5=[b9389687b975829384b498ac4b7476b2]\n",
       "class E8--><a href=\"psysml:db28622a-fbe8-4c7d-8fe4-9e164802e944\" target=\"_top\" title=\"psysml:db28622a-fbe8-4c7d-8fe4-9e164802e944\" xlink:actuate=\"onRequest\" xlink:href=\"psysml:db28622a-fbe8-4c7d-8fe4-9e164802e944\" xlink:show=\"new\" xlink:title=\"psysml:db28622a-fbe8-4c7d-8fe4-9e164802e944\" xlink:type=\"simple\"><rect fill=\"#FFFFFF\" height=\"45.9375\" id=\"E8\" rx=\"10\" ry=\"10\" style=\"stroke: #383838; stroke-width: 1.5;\" width=\"42\" x=\"63\" y=\"253\"/><text fill=\"#000000\" font-family=\"sans-serif\" font-size=\"12\" font-style=\"italic\" lengthAdjust=\"spacingAndGlyphs\" textLength=\"40\" x=\"64\" y=\"269.1387\">«port»</text><text fill=\"#000000\" font-family=\"sans-serif\" font-size=\"12\" lengthAdjust=\"spacingAndGlyphs\" textLength=\"36\" x=\"66\" y=\"283.1074\">pdest</text><line style=\"stroke: #383838; stroke-width: 1.5;\" x1=\"64\" x2=\"104\" y1=\"290.9375\" y2=\"290.9375\"/></a><!--MD5=[4672eba38e49728da53d11aeb285b987]\n",
       "reverse link E3 to E4--><a href=\"psysml:10297d07-57fa-4f9d-a873-bd76f542a35c\" target=\"_top\" title=\"psysml:10297d07-57fa-4f9d-a873-bd76f542a35c\" xlink:actuate=\"onRequest\" xlink:href=\"psysml:10297d07-57fa-4f9d-a873-bd76f542a35c\" xlink:show=\"new\" xlink:title=\"psysml:10297d07-57fa-4f9d-a873-bd76f542a35c\" xlink:type=\"simple\"><path d=\"M188.84,206.44 C187.7,221.87 188.21,239.47 190.36,252.98 \" fill=\"none\" id=\"E3&lt;-E4\" style=\"stroke: #383838; stroke-width: 1.0;\"/><polygon fill=\"#FFFFFF\" points=\"190.35,193.06,185.7032,198.5743,189.006,204.9845,193.6528,199.4702,190.35,193.06\" style=\"stroke: #383838; stroke-width: 1.0;\"/><text fill=\"#000000\" font-family=\"sans-serif\" font-size=\"13\" lengthAdjust=\"spacingAndGlyphs\" textLength=\"8\" x=\"178.4255\" y=\"241.8709\">1</text></a><!--MD5=[4672eba38e49728da53d11aeb285b987]\n",
       "reverse link E3 to E4--><a href=\"psysml:4c29fec0-8309-450b-9bf3-4a2b28b77917\" target=\"_top\" title=\"psysml:4c29fec0-8309-450b-9bf3-4a2b28b77917\" xlink:actuate=\"onRequest\" xlink:href=\"psysml:4c29fec0-8309-450b-9bf3-4a2b28b77917\" xlink:show=\"new\" xlink:title=\"psysml:4c29fec0-8309-450b-9bf3-4a2b28b77917\" xlink:type=\"simple\"><path d=\"M214.01,208.34 C215.03,223.3 214.45,240.02 212.27,252.98 \" fill=\"none\" id=\"E3&lt;-E4-1\" style=\"stroke: #383838; stroke-width: 1.0; stroke-dasharray: 7.0,7.0;\"/><ellipse cx=\"213.1693\" cy=\"201.0093\" fill=\"#FFFFFF\" rx=\"8\" ry=\"8\" style=\"stroke: #383838; stroke-width: 1.0;\"/><line style=\"stroke: #383838; stroke-width: 1.0;\" x1=\"214.0687\" x2=\"212.27\" y1=\"208.9586\" y2=\"193.06\"/><line style=\"stroke: #383838; stroke-width: 1.0;\" x1=\"205.2201\" x2=\"221.1186\" y1=\"201.9086\" y2=\"200.1099\"/><text fill=\"#000000\" font-family=\"sans-serif\" font-size=\"13\" lengthAdjust=\"spacingAndGlyphs\" textLength=\"8\" x=\"206.2238\" y=\"241.8709\">1</text></a><!--MD5=[e9be52314489bd878ff4c7144b63c9e1]\n",
       "link E5 to E3--><a href=\"psysml:93a52ea3-a140-4bd2-b924-ec5ad15b1b7e\" target=\"_top\" title=\"psysml:93a52ea3-a140-4bd2-b924-ec5ad15b1b7e\" xlink:actuate=\"onRequest\" xlink:href=\"psysml:93a52ea3-a140-4bd2-b924-ec5ad15b1b7e\" xlink:show=\"new\" xlink:title=\"psysml:93a52ea3-a140-4bd2-b924-ec5ad15b1b7e\" xlink:type=\"simple\"><path d=\"M149.78,87.06 C157.54,99.47 167.45,115.33 176.49,129.78 \" fill=\"none\" id=\"E5-&gt;E3\" style=\"stroke: #383838; stroke-width: 1.0;\"/><polygon fill=\"#FFFFFF\" points=\"187.24,146.98,171.2331,134.5792,183.1045,127.1584,187.24,146.98\" style=\"stroke: #383838; stroke-width: 1.0;\"/><ellipse cx=\"169.9076\" cy=\"128.6857\" fill=\"#383838\" rx=\"2\" ry=\"2\" style=\"stroke: #383838; stroke-width: 1.0;\"/><ellipse cx=\"178.3872\" cy=\"123.3851\" fill=\"#383838\" rx=\"2\" ry=\"2\" style=\"stroke: #383838; stroke-width: 1.0;\"/></a><!--MD5=[85d356282659285ab4b2cfe2f634dd2b]\n",
       "reverse link E5 to E6--><a href=\"psysml:cdcbbeec-90be-4e1d-8c60-d92c8a6a7077\" target=\"_top\" title=\"psysml:cdcbbeec-90be-4e1d-8c60-d92c8a6a7077\" xlink:actuate=\"onRequest\" xlink:href=\"psysml:cdcbbeec-90be-4e1d-8c60-d92c8a6a7077\" xlink:show=\"new\" xlink:title=\"psysml:cdcbbeec-90be-4e1d-8c60-d92c8a6a7077\" xlink:type=\"simple\"><path d=\"M127.93,99.96 C124.34,115.51 120.23,133.33 117.08,146.98 \" fill=\"none\" id=\"E5&lt;-E6\" style=\"stroke: #383838; stroke-width: 1.0;\"/><polygon fill=\"#FFFFFF\" points=\"130.91,87.06,125.6616,92.0052,128.2078,98.7518,133.4562,93.8066,130.91,87.06\" style=\"stroke: #383838; stroke-width: 1.0;\"/><text fill=\"#000000\" font-family=\"sans-serif\" font-size=\"13\" lengthAdjust=\"spacingAndGlyphs\" textLength=\"8\" x=\"109.3703\" y=\"135.8709\">1</text></a><!--MD5=[f667431f98296947986a1a7595a31603]\n",
       "link E6 to E4--><a href=\"psysml:b5614b00-f88c-4f87-85f7-609ca7f17bae\" target=\"_top\" title=\"psysml:b5614b00-f88c-4f87-85f7-609ca7f17bae\" xlink:actuate=\"onRequest\" xlink:href=\"psysml:b5614b00-f88c-4f87-85f7-609ca7f17bae\" xlink:show=\"new\" xlink:title=\"psysml:b5614b00-f88c-4f87-85f7-609ca7f17bae\" xlink:type=\"simple\"><path d=\"M130.87,193.06 C141.97,206.02 156.28,222.74 169.08,237.7 \" fill=\"none\" id=\"E6-&gt;E4\" style=\"stroke: #383838; stroke-width: 1.0;\"/><polygon fill=\"#FFFFFF\" points=\"182.15,252.98,164.4809,243.0905,175.1204,233.9909,182.15,252.98\" style=\"stroke: #383838; stroke-width: 1.0;\"/><line style=\"stroke: #383838; stroke-width: 2.0;\" x1=\"162.011\" x2=\"172.6505\" y1=\"240.2026\" y2=\"231.1031\"/></a><!--MD5=[14ccda38c055a5c0da953d572bc50960]\n",
       "link E7 to E3--><a href=\"psysml:87c48ed5-bc50-48bb-899d-f807bfcdc26e\" target=\"_top\" title=\"psysml:87c48ed5-bc50-48bb-899d-f807bfcdc26e\" xlink:actuate=\"onRequest\" xlink:href=\"psysml:87c48ed5-bc50-48bb-899d-f807bfcdc26e\" xlink:show=\"new\" xlink:title=\"psysml:87c48ed5-bc50-48bb-899d-f807bfcdc26e\" xlink:type=\"simple\"><path d=\"M78.13,81.48 C98.32,95.86 128.25,117.18 153.52,135.18 \" fill=\"none\" id=\"E7-&gt;E3\" style=\"stroke: #383838; stroke-width: 1.0;\"/><polygon fill=\"#FFFFFF\" points=\"170.09,146.98,150.5533,141.6586,158.6755,130.2555,170.09,146.98\" style=\"stroke: #383838; stroke-width: 1.0;\"/><ellipse cx=\"147.0709\" cy=\"136.7227\" fill=\"#383838\" rx=\"2\" ry=\"2\" style=\"stroke: #383838; stroke-width: 1.0;\"/><ellipse cx=\"152.8725\" cy=\"128.5776\" fill=\"#383838\" rx=\"2\" ry=\"2\" style=\"stroke: #383838; stroke-width: 1.0;\"/></a><!--MD5=[dc164f5e8a733ab456ef1add180e9e34]\n",
       "reverse link E7 to E8--><a href=\"psysml:5ff6c459-66f7-4338-82bb-16aa2b22f6b4\" target=\"_top\" title=\"psysml:5ff6c459-66f7-4338-82bb-16aa2b22f6b4\" xlink:actuate=\"onRequest\" xlink:href=\"psysml:5ff6c459-66f7-4338-82bb-16aa2b22f6b4\" xlink:show=\"new\" xlink:title=\"psysml:5ff6c459-66f7-4338-82bb-16aa2b22f6b4\" xlink:type=\"simple\"><path d=\"M50.05,100.09 C51.65,143.61 62.25,216.5 72.75,252.9 \" fill=\"none\" id=\"E7&lt;-E8\" style=\"stroke: #383838; stroke-width: 1.0;\"/><polygon fill=\"#FFFFFF\" points=\"49.85,87.08,45.9362,93.1366,50.0216,99.0788,53.9354,93.0222,49.85,87.08\" style=\"stroke: #383838; stroke-width: 1.0;\"/><text fill=\"#000000\" font-family=\"sans-serif\" font-size=\"13\" lengthAdjust=\"spacingAndGlyphs\" textLength=\"8\" x=\"60.6516\" y=\"241.7694\">1</text></a><!--MD5=[dc164f5e8a733ab456ef1add180e9e34]\n",
       "reverse link E7 to E8--><a href=\"psysml:4eb1c616-a5a7-47d5-8985-e84491dc2120\" target=\"_top\" title=\"psysml:4eb1c616-a5a7-47d5-8985-e84491dc2120\" xlink:actuate=\"onRequest\" xlink:href=\"psysml:4eb1c616-a5a7-47d5-8985-e84491dc2120\" xlink:show=\"new\" xlink:title=\"psysml:4eb1c616-a5a7-47d5-8985-e84491dc2120\" xlink:type=\"simple\"><path d=\"M70.64,101.8 C81.15,145.5 90.39,216.97 89.63,252.9 \" fill=\"none\" id=\"E7&lt;-E8-1\" style=\"stroke: #383838; stroke-width: 1.0; stroke-dasharray: 7.0,7.0;\"/><ellipse cx=\"68.7794\" cy=\"94.813\" fill=\"#FFFFFF\" rx=\"8\" ry=\"8\" style=\"stroke: #383838; stroke-width: 1.0;\"/><line style=\"stroke: #383838; stroke-width: 1.0;\" x1=\"70.8289\" x2=\"66.73\" y1=\"102.5461\" y2=\"87.08\"/><line style=\"stroke: #383838; stroke-width: 1.0;\" x1=\"61.0464\" x2=\"76.5125\" y1=\"96.8625\" y2=\"92.7636\"/><text fill=\"#000000\" font-family=\"sans-serif\" font-size=\"13\" lengthAdjust=\"spacingAndGlyphs\" textLength=\"8\" x=\"92.2181\" y=\"241.7694\">1</text></a><!--MD5=[0a839d0f80c2d72d4b9b307f046d0de8]\n",
       "link E6 to E8--><a href=\"psysml:af89f277-c22a-4acb-b9c9-7f04d6a8a86b\" target=\"_top\" title=\"psysml:af89f277-c22a-4acb-b9c9-7f04d6a8a86b\" xlink:actuate=\"onRequest\" xlink:href=\"psysml:af89f277-c22a-4acb-b9c9-7f04d6a8a86b\" xlink:show=\"new\" xlink:title=\"psysml:af89f277-c22a-4acb-b9c9-7f04d6a8a86b\" xlink:type=\"simple\"><path d=\"M95.42,193.06 C87.86,210.7 81.23,235.34 79.29,252.98 \" fill=\"none\" id=\"E6-E8\" style=\"stroke: #383838; stroke-width: 3.0;\"/><text fill=\"#000000\" font-family=\"sans-serif\" font-size=\"13\" lengthAdjust=\"spacingAndGlyphs\" textLength=\"7\" x=\"78.9648\" y=\"241.8709\">*</text></a><!--MD5=[0a839d0f80c2d72d4b9b307f046d0de8]\n",
       "link E6 to E8--><a href=\"psysml:6818c790-7ee4-49fa-b866-28c88d0d2e1e\" target=\"_top\" title=\"psysml:6818c790-7ee4-49fa-b866-28c88d0d2e1e\" xlink:actuate=\"onRequest\" xlink:href=\"psysml:6818c790-7ee4-49fa-b866-28c88d0d2e1e\" xlink:show=\"new\" xlink:title=\"psysml:6818c790-7ee4-49fa-b866-28c88d0d2e1e\" xlink:type=\"simple\"><path d=\"M117.33,193.06 C115.55,210.7 108.92,235.34 101.2,252.98 \" fill=\"none\" id=\"E6-E8-1\" style=\"stroke: #383838; stroke-width: 3.0;\"/><text fill=\"#000000\" font-family=\"sans-serif\" font-size=\"13\" lengthAdjust=\"spacingAndGlyphs\" textLength=\"7\" x=\"97.8819\" y=\"241.8709\">*</text></a><!--MD5=[2a9e875b7a79920f99fe9a108b410b09]\n",
       "@startuml\r\n",
       "skinparam monochrome true\r\n",
       "skinparam classbackgroundcolor white\r\n",
       "skinparam shadowing false\r\n",
       "skinparam wrapWidth 300\r\n",
       "hide circle\r\n",
       "\r\n",
       "package \"AliasTest\" as E1  [[psysml:7e4311dd-4dd4-41de-a431-b17c5d614850 ]]  {\r\n",
       "comp usage \"q\" as E2  <<(T,blue) attribute>> [[psysml:789c28e5-5e95-405e-84fa-948507b238dc ]] {\r\n",
       "}\r\n",
       "comp def \"P1\" as E3  <<(T,blue) part def>> [[psysml:00588ae4-2df7-4d57-b3d7-e09c73d2d5b1 ]] {\r\n",
       "}\r\n",
       "comp usage \"porig1\" as E4  <<(T,blue) port>> [[psysml:236a437d-3673-4742-905a-959f5dd42893 ]] {\r\n",
       "}\r\n",
       "comp usage \"p1: P1\" as E5  <<(T,blue) part>> [[psysml:4e54ee4d-012b-498f-93d7-1afb3759d34d ]] {\r\n",
       "}\r\n",
       "comp usage \"po1\" as E6  <<(T,blue) port>> [[psysml:8965b7df-293c-4ee2-9b2b-715c01154c80 ]] {\r\n",
       "}\r\n",
       "comp usage \"p2: P1\" as E7  <<(T,blue) part>> [[psysml:77eadb46-ce1a-4e0f-9527-bb06765d2ea7 ]] {\r\n",
       "}\r\n",
       "comp usage \"pdest\" as E8  <<(T,blue) port>> [[psysml:db28622a-fbe8-4c7d-8fe4-9e164802e944 ]] {\r\n",
       "}\r\n",
       "E3 o- - \"1\"E4 [[psysml:10297d07-57fa-4f9d-a873-bd76f542a35c ]] \r\n",
       "E3 +.. \"1\"E4 [[psysml:4c29fec0-8309-450b-9bf3-4a2b28b77917 ]] \r\n",
       "E5 - -:|> E3 [[psysml:93a52ea3-a140-4bd2-b924-ec5ad15b1b7e ]] \r\n",
       "E5 o- - \"1\"E6 [[psysml:cdcbbeec-90be-4e1d-8c60-d92c8a6a7077 ]] \r\n",
       "E6 - -||> E4 [[psysml:b5614b00-f88c-4f87-85f7-609ca7f17bae ]] \r\n",
       "E7 - -:|> E3 [[psysml:87c48ed5-bc50-48bb-899d-f807bfcdc26e ]] \r\n",
       "E7 o- - \"1\"E8 [[psysml:5ff6c459-66f7-4338-82bb-16aa2b22f6b4 ]] \r\n",
       "E7 +.. \"1\"E8 [[psysml:4eb1c616-a5a7-47d5-8985-e84491dc2120 ]] \r\n",
       "E6 -[thickness=3]- \"*\"E8 [[psysml:af89f277-c22a-4acb-b9c9-7f04d6a8a86b ]] \r\n",
       "E6 -[thickness=3]- \"*\"E8 [[psysml:6818c790-7ee4-49fa-b866-28c88d0d2e1e ]] \r\n",
       "}\r\n",
       "@enduml\r\n",
       "\n",
       "PlantUML version 1.2020.13(Sat Jun 13 12:26:38 UTC 2020)\n",
       "(EPL source distribution)\n",
       "Java Runtime: OpenJDK Runtime Environment\n",
       "JVM: OpenJDK 64-Bit Server VM\n",
       "Default Encoding: UTF-8\n",
       "Language: en\n",
       "Country: null\n",
       "--></g></svg>"
      ]
     },
     "execution_count": 37,
     "metadata": {},
     "output_type": "execute_result"
    }
   ],
   "source": [
    "%viz --style=\"DEFAULT\" --view=\"Default\" \"AliasTest\""
   ]
  },
  {
   "cell_type": "code",
   "execution_count": 38,
   "id": "02fc55cb",
   "metadata": {
    "execution": {
     "iopub.execute_input": "2021-08-04T06:25:32.675578Z",
     "iopub.status.busy": "2021-08-04T06:25:32.675168Z",
     "iopub.status.idle": "2021-08-04T06:25:32.705048Z",
     "shell.execute_reply": "2021-08-04T06:25:32.704691Z"
    }
   },
   "outputs": [
    {
     "data": {
      "image/svg+xml": [
       "<?xml version=\"1.0\" encoding=\"UTF-8\" standalone=\"no\"?><svg xmlns=\"http://www.w3.org/2000/svg\" xmlns:xlink=\"http://www.w3.org/1999/xlink\" contentScriptType=\"application/ecmascript\" contentStyleType=\"text/css\" height=\"327px\" preserveAspectRatio=\"none\" style=\"width:304px;height:327px;\" version=\"1.1\" viewBox=\"0 0 304 327\" width=\"304px\" zoomAndPan=\"magnify\"><defs/><g><!--MD5=[fbc87193dbaf4d95561dea2c320d4a47]\n",
       "cluster E1--><a href=\"psysml:7e4311dd-4dd4-41de-a431-b17c5d614850\" target=\"_top\" title=\"psysml:7e4311dd-4dd4-41de-a431-b17c5d614850\" xlink:actuate=\"onRequest\" xlink:href=\"psysml:7e4311dd-4dd4-41de-a431-b17c5d614850\" xlink:show=\"new\" xlink:title=\"psysml:7e4311dd-4dd4-41de-a431-b17c5d614850\" xlink:type=\"simple\"><polygon fill=\"#FFFFFF\" points=\"16,6,94,6,101,28.2969,282,28.2969,282,315,16,315,16,6\" style=\"stroke: #000000; stroke-width: 1.5;\"/><line style=\"stroke: #000000; stroke-width: 1.5;\" x1=\"16\" x2=\"101\" y1=\"28.2969\" y2=\"28.2969\"/><text fill=\"#000000\" font-family=\"sans-serif\" font-size=\"14\" font-weight=\"bold\" lengthAdjust=\"spacingAndGlyphs\" textLength=\"72\" x=\"20\" y=\"20.9951\">AliasTest</text></a><!--MD5=[b4997ac47864f28c2f74865a473b2911]\n",
       "class E2--><a href=\"psysml:789c28e5-5e95-405e-84fa-948507b238dc\" target=\"_top\" title=\"psysml:789c28e5-5e95-405e-84fa-948507b238dc\" xlink:actuate=\"onRequest\" xlink:href=\"psysml:789c28e5-5e95-405e-84fa-948507b238dc\" xlink:show=\"new\" xlink:title=\"psysml:789c28e5-5e95-405e-84fa-948507b238dc\" xlink:type=\"simple\"><rect fill=\"#FFFFFF\" height=\"45.9375\" id=\"E2\" rx=\"10\" ry=\"10\" style=\"stroke: #383838; stroke-width: 1.5;\" width=\"71\" x=\"194.5\" y=\"41\"/><text fill=\"#000000\" font-family=\"sans-serif\" font-size=\"12\" font-style=\"italic\" lengthAdjust=\"spacingAndGlyphs\" textLength=\"69\" x=\"195.5\" y=\"57.1387\">«attribute»</text><text fill=\"#000000\" font-family=\"sans-serif\" font-size=\"12\" lengthAdjust=\"spacingAndGlyphs\" textLength=\"8\" x=\"226\" y=\"71.1074\">q</text><line style=\"stroke: #383838; stroke-width: 1.5;\" x1=\"195.5\" x2=\"264.5\" y1=\"78.9375\" y2=\"78.9375\"/></a><!--MD5=[09b614a08d8cba4a07c9adeb5e0fee81]\n",
       "class E3--><a href=\"psysml:00588ae4-2df7-4d57-b3d7-e09c73d2d5b1\" target=\"_top\" title=\"psysml:00588ae4-2df7-4d57-b3d7-e09c73d2d5b1\" xlink:actuate=\"onRequest\" xlink:href=\"psysml:00588ae4-2df7-4d57-b3d7-e09c73d2d5b1\" xlink:show=\"new\" xlink:title=\"psysml:00588ae4-2df7-4d57-b3d7-e09c73d2d5b1\" xlink:type=\"simple\"><rect fill=\"#FFFFFF\" height=\"45.9375\" id=\"E3\" style=\"stroke: #383838; stroke-width: 1.5;\" width=\"66\" x=\"168\" y=\"147\"/><text fill=\"#000000\" font-family=\"sans-serif\" font-size=\"12\" font-style=\"italic\" lengthAdjust=\"spacingAndGlyphs\" textLength=\"64\" x=\"169\" y=\"163.1387\">«part def»</text><text fill=\"#000000\" font-family=\"sans-serif\" font-size=\"12\" lengthAdjust=\"spacingAndGlyphs\" textLength=\"16\" x=\"193\" y=\"177.1074\">P1</text><line style=\"stroke: #383838; stroke-width: 1.5;\" x1=\"169\" x2=\"233\" y1=\"184.9375\" y2=\"184.9375\"/></a><!--MD5=[ebbe1d658d1005bcc118a6aa81145e00]\n",
       "class E4--><a href=\"psysml:236a437d-3673-4742-905a-959f5dd42893\" target=\"_top\" title=\"psysml:236a437d-3673-4742-905a-959f5dd42893\" xlink:actuate=\"onRequest\" xlink:href=\"psysml:236a437d-3673-4742-905a-959f5dd42893\" xlink:show=\"new\" xlink:title=\"psysml:236a437d-3673-4742-905a-959f5dd42893\" xlink:type=\"simple\"><rect fill=\"#FFFFFF\" height=\"45.9375\" id=\"E4\" rx=\"10\" ry=\"10\" style=\"stroke: #383838; stroke-width: 1.5;\" width=\"46\" x=\"178\" y=\"253\"/><text fill=\"#000000\" font-family=\"sans-serif\" font-size=\"12\" font-style=\"italic\" lengthAdjust=\"spacingAndGlyphs\" textLength=\"40\" x=\"181\" y=\"269.1387\">«port»</text><text fill=\"#000000\" font-family=\"sans-serif\" font-size=\"12\" lengthAdjust=\"spacingAndGlyphs\" textLength=\"40\" x=\"181\" y=\"283.1074\">porig1</text><line style=\"stroke: #383838; stroke-width: 1.5;\" x1=\"179\" x2=\"223\" y1=\"290.9375\" y2=\"290.9375\"/></a><!--MD5=[270fce915f116d4de14055a7c1d9a0f3]\n",
       "class E5--><a href=\"psysml:4e54ee4d-012b-498f-93d7-1afb3759d34d\" target=\"_top\" title=\"psysml:4e54ee4d-012b-498f-93d7-1afb3759d34d\" xlink:actuate=\"onRequest\" xlink:href=\"psysml:4e54ee4d-012b-498f-93d7-1afb3759d34d\" xlink:show=\"new\" xlink:title=\"psysml:4e54ee4d-012b-498f-93d7-1afb3759d34d\" xlink:type=\"simple\"><rect fill=\"#FFFFFF\" height=\"45.9375\" id=\"E5\" rx=\"10\" ry=\"10\" style=\"stroke: #383838; stroke-width: 1.5;\" width=\"46\" x=\"113\" y=\"41\"/><text fill=\"#000000\" font-family=\"sans-serif\" font-size=\"12\" font-style=\"italic\" lengthAdjust=\"spacingAndGlyphs\" textLength=\"40\" x=\"116\" y=\"57.1387\">«part»</text><text fill=\"#000000\" font-family=\"sans-serif\" font-size=\"12\" lengthAdjust=\"spacingAndGlyphs\" textLength=\"40\" x=\"116\" y=\"71.1074\">p1: P1</text><line style=\"stroke: #383838; stroke-width: 1.5;\" x1=\"114\" x2=\"158\" y1=\"78.9375\" y2=\"78.9375\"/></a><!--MD5=[60a26617385b1d2d0262a64233df1f8d]\n",
       "class E6--><a href=\"psysml:8965b7df-293c-4ee2-9b2b-715c01154c80\" target=\"_top\" title=\"psysml:8965b7df-293c-4ee2-9b2b-715c01154c80\" xlink:actuate=\"onRequest\" xlink:href=\"psysml:8965b7df-293c-4ee2-9b2b-715c01154c80\" xlink:show=\"new\" xlink:title=\"psysml:8965b7df-293c-4ee2-9b2b-715c01154c80\" xlink:type=\"simple\"><rect fill=\"#FFFFFF\" height=\"45.9375\" id=\"E6\" rx=\"10\" ry=\"10\" style=\"stroke: #383838; stroke-width: 1.5;\" width=\"42\" x=\"91\" y=\"147\"/><text fill=\"#000000\" font-family=\"sans-serif\" font-size=\"12\" font-style=\"italic\" lengthAdjust=\"spacingAndGlyphs\" textLength=\"40\" x=\"92\" y=\"163.1387\">«port»</text><text fill=\"#000000\" font-family=\"sans-serif\" font-size=\"12\" lengthAdjust=\"spacingAndGlyphs\" textLength=\"24\" x=\"100\" y=\"177.1074\">po1</text><line style=\"stroke: #383838; stroke-width: 1.5;\" x1=\"92\" x2=\"132\" y1=\"184.9375\" y2=\"184.9375\"/></a><!--MD5=[2156ba9850f5573cc1fc38a6a4b2f02b]\n",
       "class E7--><a href=\"psysml:77eadb46-ce1a-4e0f-9527-bb06765d2ea7\" target=\"_top\" title=\"psysml:77eadb46-ce1a-4e0f-9527-bb06765d2ea7\" xlink:actuate=\"onRequest\" xlink:href=\"psysml:77eadb46-ce1a-4e0f-9527-bb06765d2ea7\" xlink:show=\"new\" xlink:title=\"psysml:77eadb46-ce1a-4e0f-9527-bb06765d2ea7\" xlink:type=\"simple\"><rect fill=\"#FFFFFF\" height=\"45.9375\" id=\"E7\" rx=\"10\" ry=\"10\" style=\"stroke: #383838; stroke-width: 1.5;\" width=\"46\" x=\"32\" y=\"41\"/><text fill=\"#000000\" font-family=\"sans-serif\" font-size=\"12\" font-style=\"italic\" lengthAdjust=\"spacingAndGlyphs\" textLength=\"40\" x=\"35\" y=\"57.1387\">«part»</text><text fill=\"#000000\" font-family=\"sans-serif\" font-size=\"12\" lengthAdjust=\"spacingAndGlyphs\" textLength=\"40\" x=\"35\" y=\"71.1074\">p2: P1</text><line style=\"stroke: #383838; stroke-width: 1.5;\" x1=\"33\" x2=\"77\" y1=\"78.9375\" y2=\"78.9375\"/></a><!--MD5=[b9389687b975829384b498ac4b7476b2]\n",
       "class E8--><a href=\"psysml:db28622a-fbe8-4c7d-8fe4-9e164802e944\" target=\"_top\" title=\"psysml:db28622a-fbe8-4c7d-8fe4-9e164802e944\" xlink:actuate=\"onRequest\" xlink:href=\"psysml:db28622a-fbe8-4c7d-8fe4-9e164802e944\" xlink:show=\"new\" xlink:title=\"psysml:db28622a-fbe8-4c7d-8fe4-9e164802e944\" xlink:type=\"simple\"><rect fill=\"#FFFFFF\" height=\"45.9375\" id=\"E8\" rx=\"10\" ry=\"10\" style=\"stroke: #383838; stroke-width: 1.5;\" width=\"42\" x=\"63\" y=\"253\"/><text fill=\"#000000\" font-family=\"sans-serif\" font-size=\"12\" font-style=\"italic\" lengthAdjust=\"spacingAndGlyphs\" textLength=\"40\" x=\"64\" y=\"269.1387\">«port»</text><text fill=\"#000000\" font-family=\"sans-serif\" font-size=\"12\" lengthAdjust=\"spacingAndGlyphs\" textLength=\"36\" x=\"66\" y=\"283.1074\">pdest</text><line style=\"stroke: #383838; stroke-width: 1.5;\" x1=\"64\" x2=\"104\" y1=\"290.9375\" y2=\"290.9375\"/></a><!--MD5=[4672eba38e49728da53d11aeb285b987]\n",
       "reverse link E3 to E4--><a href=\"psysml:10297d07-57fa-4f9d-a873-bd76f542a35c\" target=\"_top\" title=\"psysml:10297d07-57fa-4f9d-a873-bd76f542a35c\" xlink:actuate=\"onRequest\" xlink:href=\"psysml:10297d07-57fa-4f9d-a873-bd76f542a35c\" xlink:show=\"new\" xlink:title=\"psysml:10297d07-57fa-4f9d-a873-bd76f542a35c\" xlink:type=\"simple\"><path d=\"M188.84,206.44 C187.7,221.87 188.21,239.47 190.36,252.98 \" fill=\"none\" id=\"E3&lt;-E4\" style=\"stroke: #383838; stroke-width: 1.0;\"/><polygon fill=\"#FFFFFF\" points=\"190.35,193.06,185.7032,198.5743,189.006,204.9845,193.6528,199.4702,190.35,193.06\" style=\"stroke: #383838; stroke-width: 1.0;\"/><text fill=\"#000000\" font-family=\"sans-serif\" font-size=\"13\" lengthAdjust=\"spacingAndGlyphs\" textLength=\"8\" x=\"178.4255\" y=\"241.8709\">1</text></a><!--MD5=[4672eba38e49728da53d11aeb285b987]\n",
       "reverse link E3 to E4--><a href=\"psysml:4c29fec0-8309-450b-9bf3-4a2b28b77917\" target=\"_top\" title=\"psysml:4c29fec0-8309-450b-9bf3-4a2b28b77917\" xlink:actuate=\"onRequest\" xlink:href=\"psysml:4c29fec0-8309-450b-9bf3-4a2b28b77917\" xlink:show=\"new\" xlink:title=\"psysml:4c29fec0-8309-450b-9bf3-4a2b28b77917\" xlink:type=\"simple\"><path d=\"M214.01,208.34 C215.03,223.3 214.45,240.02 212.27,252.98 \" fill=\"none\" id=\"E3&lt;-E4-1\" style=\"stroke: #383838; stroke-width: 1.0; stroke-dasharray: 7.0,7.0;\"/><ellipse cx=\"213.1693\" cy=\"201.0093\" fill=\"#FFFFFF\" rx=\"8\" ry=\"8\" style=\"stroke: #383838; stroke-width: 1.0;\"/><line style=\"stroke: #383838; stroke-width: 1.0;\" x1=\"214.0687\" x2=\"212.27\" y1=\"208.9586\" y2=\"193.06\"/><line style=\"stroke: #383838; stroke-width: 1.0;\" x1=\"205.2201\" x2=\"221.1186\" y1=\"201.9086\" y2=\"200.1099\"/><text fill=\"#000000\" font-family=\"sans-serif\" font-size=\"13\" lengthAdjust=\"spacingAndGlyphs\" textLength=\"8\" x=\"206.2238\" y=\"241.8709\">1</text></a><!--MD5=[e9be52314489bd878ff4c7144b63c9e1]\n",
       "link E5 to E3--><a href=\"psysml:93a52ea3-a140-4bd2-b924-ec5ad15b1b7e\" target=\"_top\" title=\"psysml:93a52ea3-a140-4bd2-b924-ec5ad15b1b7e\" xlink:actuate=\"onRequest\" xlink:href=\"psysml:93a52ea3-a140-4bd2-b924-ec5ad15b1b7e\" xlink:show=\"new\" xlink:title=\"psysml:93a52ea3-a140-4bd2-b924-ec5ad15b1b7e\" xlink:type=\"simple\"><path d=\"M149.78,87.06 C157.54,99.47 167.45,115.33 176.49,129.78 \" fill=\"none\" id=\"E5-&gt;E3\" style=\"stroke: #383838; stroke-width: 1.0;\"/><polygon fill=\"#FFFFFF\" points=\"187.24,146.98,171.2331,134.5792,183.1045,127.1584,187.24,146.98\" style=\"stroke: #383838; stroke-width: 1.0;\"/><ellipse cx=\"169.9076\" cy=\"128.6857\" fill=\"#383838\" rx=\"2\" ry=\"2\" style=\"stroke: #383838; stroke-width: 1.0;\"/><ellipse cx=\"178.3872\" cy=\"123.3851\" fill=\"#383838\" rx=\"2\" ry=\"2\" style=\"stroke: #383838; stroke-width: 1.0;\"/></a><!--MD5=[85d356282659285ab4b2cfe2f634dd2b]\n",
       "reverse link E5 to E6--><a href=\"psysml:cdcbbeec-90be-4e1d-8c60-d92c8a6a7077\" target=\"_top\" title=\"psysml:cdcbbeec-90be-4e1d-8c60-d92c8a6a7077\" xlink:actuate=\"onRequest\" xlink:href=\"psysml:cdcbbeec-90be-4e1d-8c60-d92c8a6a7077\" xlink:show=\"new\" xlink:title=\"psysml:cdcbbeec-90be-4e1d-8c60-d92c8a6a7077\" xlink:type=\"simple\"><path d=\"M127.93,99.96 C124.34,115.51 120.23,133.33 117.08,146.98 \" fill=\"none\" id=\"E5&lt;-E6\" style=\"stroke: #383838; stroke-width: 1.0;\"/><polygon fill=\"#FFFFFF\" points=\"130.91,87.06,125.6616,92.0052,128.2078,98.7518,133.4562,93.8066,130.91,87.06\" style=\"stroke: #383838; stroke-width: 1.0;\"/><text fill=\"#000000\" font-family=\"sans-serif\" font-size=\"13\" lengthAdjust=\"spacingAndGlyphs\" textLength=\"8\" x=\"109.3703\" y=\"135.8709\">1</text></a><!--MD5=[f667431f98296947986a1a7595a31603]\n",
       "link E6 to E4--><a href=\"psysml:b5614b00-f88c-4f87-85f7-609ca7f17bae\" target=\"_top\" title=\"psysml:b5614b00-f88c-4f87-85f7-609ca7f17bae\" xlink:actuate=\"onRequest\" xlink:href=\"psysml:b5614b00-f88c-4f87-85f7-609ca7f17bae\" xlink:show=\"new\" xlink:title=\"psysml:b5614b00-f88c-4f87-85f7-609ca7f17bae\" xlink:type=\"simple\"><path d=\"M130.87,193.06 C141.97,206.02 156.28,222.74 169.08,237.7 \" fill=\"none\" id=\"E6-&gt;E4\" style=\"stroke: #383838; stroke-width: 1.0;\"/><polygon fill=\"#FFFFFF\" points=\"182.15,252.98,164.4809,243.0905,175.1204,233.9909,182.15,252.98\" style=\"stroke: #383838; stroke-width: 1.0;\"/><line style=\"stroke: #383838; stroke-width: 2.0;\" x1=\"162.011\" x2=\"172.6505\" y1=\"240.2026\" y2=\"231.1031\"/></a><!--MD5=[14ccda38c055a5c0da953d572bc50960]\n",
       "link E7 to E3--><a href=\"psysml:87c48ed5-bc50-48bb-899d-f807bfcdc26e\" target=\"_top\" title=\"psysml:87c48ed5-bc50-48bb-899d-f807bfcdc26e\" xlink:actuate=\"onRequest\" xlink:href=\"psysml:87c48ed5-bc50-48bb-899d-f807bfcdc26e\" xlink:show=\"new\" xlink:title=\"psysml:87c48ed5-bc50-48bb-899d-f807bfcdc26e\" xlink:type=\"simple\"><path d=\"M78.13,81.48 C98.32,95.86 128.25,117.18 153.52,135.18 \" fill=\"none\" id=\"E7-&gt;E3\" style=\"stroke: #383838; stroke-width: 1.0;\"/><polygon fill=\"#FFFFFF\" points=\"170.09,146.98,150.5533,141.6586,158.6755,130.2555,170.09,146.98\" style=\"stroke: #383838; stroke-width: 1.0;\"/><ellipse cx=\"147.0709\" cy=\"136.7227\" fill=\"#383838\" rx=\"2\" ry=\"2\" style=\"stroke: #383838; stroke-width: 1.0;\"/><ellipse cx=\"152.8725\" cy=\"128.5776\" fill=\"#383838\" rx=\"2\" ry=\"2\" style=\"stroke: #383838; stroke-width: 1.0;\"/></a><!--MD5=[dc164f5e8a733ab456ef1add180e9e34]\n",
       "reverse link E7 to E8--><a href=\"psysml:5ff6c459-66f7-4338-82bb-16aa2b22f6b4\" target=\"_top\" title=\"psysml:5ff6c459-66f7-4338-82bb-16aa2b22f6b4\" xlink:actuate=\"onRequest\" xlink:href=\"psysml:5ff6c459-66f7-4338-82bb-16aa2b22f6b4\" xlink:show=\"new\" xlink:title=\"psysml:5ff6c459-66f7-4338-82bb-16aa2b22f6b4\" xlink:type=\"simple\"><path d=\"M50.05,100.09 C51.65,143.61 62.25,216.5 72.75,252.9 \" fill=\"none\" id=\"E7&lt;-E8\" style=\"stroke: #383838; stroke-width: 1.0;\"/><polygon fill=\"#FFFFFF\" points=\"49.85,87.08,45.9362,93.1366,50.0216,99.0788,53.9354,93.0222,49.85,87.08\" style=\"stroke: #383838; stroke-width: 1.0;\"/><text fill=\"#000000\" font-family=\"sans-serif\" font-size=\"13\" lengthAdjust=\"spacingAndGlyphs\" textLength=\"8\" x=\"60.6516\" y=\"241.7694\">1</text></a><!--MD5=[dc164f5e8a733ab456ef1add180e9e34]\n",
       "reverse link E7 to E8--><a href=\"psysml:4eb1c616-a5a7-47d5-8985-e84491dc2120\" target=\"_top\" title=\"psysml:4eb1c616-a5a7-47d5-8985-e84491dc2120\" xlink:actuate=\"onRequest\" xlink:href=\"psysml:4eb1c616-a5a7-47d5-8985-e84491dc2120\" xlink:show=\"new\" xlink:title=\"psysml:4eb1c616-a5a7-47d5-8985-e84491dc2120\" xlink:type=\"simple\"><path d=\"M70.64,101.8 C81.15,145.5 90.39,216.97 89.63,252.9 \" fill=\"none\" id=\"E7&lt;-E8-1\" style=\"stroke: #383838; stroke-width: 1.0; stroke-dasharray: 7.0,7.0;\"/><ellipse cx=\"68.7794\" cy=\"94.813\" fill=\"#FFFFFF\" rx=\"8\" ry=\"8\" style=\"stroke: #383838; stroke-width: 1.0;\"/><line style=\"stroke: #383838; stroke-width: 1.0;\" x1=\"70.8289\" x2=\"66.73\" y1=\"102.5461\" y2=\"87.08\"/><line style=\"stroke: #383838; stroke-width: 1.0;\" x1=\"61.0464\" x2=\"76.5125\" y1=\"96.8625\" y2=\"92.7636\"/><text fill=\"#000000\" font-family=\"sans-serif\" font-size=\"13\" lengthAdjust=\"spacingAndGlyphs\" textLength=\"8\" x=\"92.2181\" y=\"241.7694\">1</text></a><!--MD5=[0a839d0f80c2d72d4b9b307f046d0de8]\n",
       "link E6 to E8--><a href=\"psysml:af89f277-c22a-4acb-b9c9-7f04d6a8a86b\" target=\"_top\" title=\"psysml:af89f277-c22a-4acb-b9c9-7f04d6a8a86b\" xlink:actuate=\"onRequest\" xlink:href=\"psysml:af89f277-c22a-4acb-b9c9-7f04d6a8a86b\" xlink:show=\"new\" xlink:title=\"psysml:af89f277-c22a-4acb-b9c9-7f04d6a8a86b\" xlink:type=\"simple\"><path d=\"M95.42,193.06 C87.86,210.7 81.23,235.34 79.29,252.98 \" fill=\"none\" id=\"E6-E8\" style=\"stroke: #383838; stroke-width: 3.0;\"/><text fill=\"#000000\" font-family=\"sans-serif\" font-size=\"13\" lengthAdjust=\"spacingAndGlyphs\" textLength=\"7\" x=\"78.9648\" y=\"241.8709\">*</text></a><!--MD5=[0a839d0f80c2d72d4b9b307f046d0de8]\n",
       "link E6 to E8--><a href=\"psysml:6818c790-7ee4-49fa-b866-28c88d0d2e1e\" target=\"_top\" title=\"psysml:6818c790-7ee4-49fa-b866-28c88d0d2e1e\" xlink:actuate=\"onRequest\" xlink:href=\"psysml:6818c790-7ee4-49fa-b866-28c88d0d2e1e\" xlink:show=\"new\" xlink:title=\"psysml:6818c790-7ee4-49fa-b866-28c88d0d2e1e\" xlink:type=\"simple\"><path d=\"M117.33,193.06 C115.55,210.7 108.92,235.34 101.2,252.98 \" fill=\"none\" id=\"E6-E8-1\" style=\"stroke: #383838; stroke-width: 3.0;\"/><text fill=\"#000000\" font-family=\"sans-serif\" font-size=\"13\" lengthAdjust=\"spacingAndGlyphs\" textLength=\"7\" x=\"97.8819\" y=\"241.8709\">*</text></a><!--MD5=[2a9e875b7a79920f99fe9a108b410b09]\n",
       "@startuml\r\n",
       "skinparam monochrome true\r\n",
       "skinparam classbackgroundcolor white\r\n",
       "skinparam shadowing false\r\n",
       "skinparam wrapWidth 300\r\n",
       "hide circle\r\n",
       "\r\n",
       "package \"AliasTest\" as E1  [[psysml:7e4311dd-4dd4-41de-a431-b17c5d614850 ]]  {\r\n",
       "comp usage \"q\" as E2  <<(T,blue) attribute>> [[psysml:789c28e5-5e95-405e-84fa-948507b238dc ]] {\r\n",
       "}\r\n",
       "comp def \"P1\" as E3  <<(T,blue) part def>> [[psysml:00588ae4-2df7-4d57-b3d7-e09c73d2d5b1 ]] {\r\n",
       "}\r\n",
       "comp usage \"porig1\" as E4  <<(T,blue) port>> [[psysml:236a437d-3673-4742-905a-959f5dd42893 ]] {\r\n",
       "}\r\n",
       "comp usage \"p1: P1\" as E5  <<(T,blue) part>> [[psysml:4e54ee4d-012b-498f-93d7-1afb3759d34d ]] {\r\n",
       "}\r\n",
       "comp usage \"po1\" as E6  <<(T,blue) port>> [[psysml:8965b7df-293c-4ee2-9b2b-715c01154c80 ]] {\r\n",
       "}\r\n",
       "comp usage \"p2: P1\" as E7  <<(T,blue) part>> [[psysml:77eadb46-ce1a-4e0f-9527-bb06765d2ea7 ]] {\r\n",
       "}\r\n",
       "comp usage \"pdest\" as E8  <<(T,blue) port>> [[psysml:db28622a-fbe8-4c7d-8fe4-9e164802e944 ]] {\r\n",
       "}\r\n",
       "E3 o- - \"1\"E4 [[psysml:10297d07-57fa-4f9d-a873-bd76f542a35c ]] \r\n",
       "E3 +.. \"1\"E4 [[psysml:4c29fec0-8309-450b-9bf3-4a2b28b77917 ]] \r\n",
       "E5 - -:|> E3 [[psysml:93a52ea3-a140-4bd2-b924-ec5ad15b1b7e ]] \r\n",
       "E5 o- - \"1\"E6 [[psysml:cdcbbeec-90be-4e1d-8c60-d92c8a6a7077 ]] \r\n",
       "E6 - -||> E4 [[psysml:b5614b00-f88c-4f87-85f7-609ca7f17bae ]] \r\n",
       "E7 - -:|> E3 [[psysml:87c48ed5-bc50-48bb-899d-f807bfcdc26e ]] \r\n",
       "E7 o- - \"1\"E8 [[psysml:5ff6c459-66f7-4338-82bb-16aa2b22f6b4 ]] \r\n",
       "E7 +.. \"1\"E8 [[psysml:4eb1c616-a5a7-47d5-8985-e84491dc2120 ]] \r\n",
       "E6 -[thickness=3]- \"*\"E8 [[psysml:af89f277-c22a-4acb-b9c9-7f04d6a8a86b ]] \r\n",
       "E6 -[thickness=3]- \"*\"E8 [[psysml:6818c790-7ee4-49fa-b866-28c88d0d2e1e ]] \r\n",
       "}\r\n",
       "@enduml\r\n",
       "\n",
       "PlantUML version 1.2020.13(Sat Jun 13 12:26:38 UTC 2020)\n",
       "(EPL source distribution)\n",
       "Java Runtime: OpenJDK Runtime Environment\n",
       "JVM: OpenJDK 64-Bit Server VM\n",
       "Default Encoding: UTF-8\n",
       "Language: en\n",
       "Country: null\n",
       "--></g></svg>"
      ]
     },
     "execution_count": 38,
     "metadata": {},
     "output_type": "execute_result"
    }
   ],
   "source": [
    "%viz --style=\"DEFAULT\" --view=\"Tree\" \"AliasTest\""
   ]
  },
  {
   "cell_type": "code",
   "execution_count": 39,
   "id": "ba1bab3e",
   "metadata": {
    "execution": {
     "iopub.execute_input": "2021-08-04T06:25:32.754724Z",
     "iopub.status.busy": "2021-08-04T06:25:32.754324Z",
     "iopub.status.idle": "2021-08-04T06:25:32.758321Z",
     "shell.execute_reply": "2021-08-04T06:25:32.758636Z"
    }
   },
   "outputs": [
    {
     "data": {
      "image/svg+xml": [
       "<?xml version=\"1.0\" encoding=\"UTF-8\" standalone=\"no\"?><svg xmlns=\"http://www.w3.org/2000/svg\" xmlns:xlink=\"http://www.w3.org/1999/xlink\" contentScriptType=\"application/ecmascript\" contentStyleType=\"text/css\" height=\"12px\" preserveAspectRatio=\"none\" style=\"width:12px;height:12px;\" version=\"1.1\" viewBox=\"0 0 12 12\" width=\"12px\" zoomAndPan=\"magnify\"><defs/><g><!--MD5=[c5f280e076d0d61ccf4b0f27871bda1d]\n",
       "@startuml\r\n",
       "skinparam monochrome true\r\n",
       "skinparam classbackgroundcolor white\r\n",
       "skinparam shadowing false\r\n",
       "skinparam wrapWidth 300\r\n",
       "hide circle\r\n",
       "\r\n",
       "@enduml\r\n",
       "\n",
       "PlantUML version 1.2020.13(Sat Jun 13 12:26:38 UTC 2020)\n",
       "(EPL source distribution)\n",
       "Java Runtime: OpenJDK Runtime Environment\n",
       "JVM: OpenJDK 64-Bit Server VM\n",
       "Default Encoding: UTF-8\n",
       "Language: en\n",
       "Country: null\n",
       "--></g></svg>"
      ]
     },
     "execution_count": 39,
     "metadata": {},
     "output_type": "execute_result"
    }
   ],
   "source": [
    "%viz --style=\"DEFAULT\" --view=\"State\" \"AliasTest\""
   ]
  },
  {
   "cell_type": "code",
   "execution_count": 40,
   "id": "200e0666",
   "metadata": {
    "execution": {
     "iopub.execute_input": "2021-08-04T06:25:32.808646Z",
     "iopub.status.busy": "2021-08-04T06:25:32.808239Z",
     "iopub.status.idle": "2021-08-04T06:25:32.833417Z",
     "shell.execute_reply": "2021-08-04T06:25:32.832199Z"
    }
   },
   "outputs": [
    {
     "data": {
      "image/svg+xml": [
       "<?xml version=\"1.0\" encoding=\"UTF-8\" standalone=\"no\"?><svg xmlns=\"http://www.w3.org/2000/svg\" xmlns:xlink=\"http://www.w3.org/1999/xlink\" contentScriptType=\"application/ecmascript\" contentStyleType=\"text/css\" height=\"233px\" preserveAspectRatio=\"none\" style=\"width:486px;height:233px;\" version=\"1.1\" viewBox=\"0 0 486 233\" width=\"486px\" zoomAndPan=\"magnify\"><defs/><g><!--MD5=[fbc87193dbaf4d95561dea2c320d4a47]\n",
       "cluster E1--><a href=\"psysml:7e4311dd-4dd4-41de-a431-b17c5d614850\" target=\"_top\" title=\"psysml:7e4311dd-4dd4-41de-a431-b17c5d614850\" xlink:actuate=\"onRequest\" xlink:href=\"psysml:7e4311dd-4dd4-41de-a431-b17c5d614850\" xlink:show=\"new\" xlink:title=\"psysml:7e4311dd-4dd4-41de-a431-b17c5d614850\" xlink:type=\"simple\"><polygon fill=\"#FFFFFF\" points=\"16,6,94,6,101,28.2969,464,28.2969,464,221,16,221,16,6\" style=\"stroke: #000000; stroke-width: 1.5;\"/><line style=\"stroke: #000000; stroke-width: 1.5;\" x1=\"16\" x2=\"101\" y1=\"28.2969\" y2=\"28.2969\"/><text fill=\"#000000\" font-family=\"sans-serif\" font-size=\"14\" font-weight=\"bold\" lengthAdjust=\"spacingAndGlyphs\" textLength=\"72\" x=\"20\" y=\"20.9951\">AliasTest</text></a><!--MD5=[d5e69f78d87373223dbae638b30a9c99]\n",
       "cluster E3--><a href=\"psysml:00588ae4-2df7-4d57-b3d7-e09c73d2d5b1\" target=\"_top\" title=\"psysml:00588ae4-2df7-4d57-b3d7-e09c73d2d5b1\" xlink:actuate=\"onRequest\" xlink:href=\"psysml:00588ae4-2df7-4d57-b3d7-e09c73d2d5b1\" xlink:show=\"new\" xlink:title=\"psysml:00588ae4-2df7-4d57-b3d7-e09c73d2d5b1\" xlink:type=\"simple\"><rect fill=\"#FFFFFF\" height=\"90\" id=\"E3\" style=\"stroke: #383838; stroke-width: 1.5;\" width=\"83\" x=\"324\" y=\"64\"/><rect fill=\"#F8F8F8\" height=\"37.9375\" style=\"stroke: #383838; stroke-width: 1.5;\" width=\"83\" x=\"324\" y=\"64\"/><text fill=\"#000000\" font-family=\"sans-serif\" font-size=\"12\" font-style=\"italic\" lengthAdjust=\"spacingAndGlyphs\" textLength=\"64\" x=\"333.5\" y=\"80.1387\">«part def»</text><text fill=\"#000000\" font-family=\"sans-serif\" font-size=\"12\" lengthAdjust=\"spacingAndGlyphs\" textLength=\"16\" x=\"357.5\" y=\"94.1074\">P1</text></a><!--MD5=[14e3b0961a2654348d326746436168a1]\n",
       "cluster E6--><a href=\"psysml:4e54ee4d-012b-498f-93d7-1afb3759d34d\" target=\"_top\" title=\"psysml:4e54ee4d-012b-498f-93d7-1afb3759d34d\" xlink:actuate=\"onRequest\" xlink:href=\"psysml:4e54ee4d-012b-498f-93d7-1afb3759d34d\" xlink:show=\"new\" xlink:title=\"psysml:4e54ee4d-012b-498f-93d7-1afb3759d34d\" xlink:type=\"simple\"><rect fill=\"#FFFFFF\" height=\"82\" id=\"E6\" rx=\"10\" ry=\"10\" style=\"stroke: #383838; stroke-width: 1.5;\" width=\"104\" x=\"112\" y=\"64\"/><rect fill=\"#F8F8F8\" height=\"23.9688\" rx=\"10\" ry=\"10\" style=\"stroke: #F8F8F8; stroke-width: 1.5;\" width=\"104\" x=\"112\" y=\"64\"/><rect fill=\"#F8F8F8\" height=\"10\" style=\"stroke: #F8F8F8; stroke-width: 1.5;\" width=\"104\" x=\"112\" y=\"77.9688\"/><rect fill=\"none\" height=\"82\" id=\"E6\" rx=\"10\" ry=\"10\" style=\"stroke: #383838; stroke-width: 1.5;\" width=\"104\" x=\"112\" y=\"64\"/><text fill=\"#000000\" font-family=\"sans-serif\" font-size=\"12\" lengthAdjust=\"spacingAndGlyphs\" textLength=\"40\" x=\"144\" y=\"80.1387\">p1: P1</text><line style=\"stroke: #383838; stroke-width: 1.0;\" x1=\"112\" x2=\"216\" y1=\"87.9688\" y2=\"87.9688\"/></a><!--MD5=[55dfccfc6c49c2d10cd1bd2211a6c90c]\n",
       "cluster E8--><a href=\"psysml:77eadb46-ce1a-4e0f-9527-bb06765d2ea7\" target=\"_top\" title=\"psysml:77eadb46-ce1a-4e0f-9527-bb06765d2ea7\" xlink:actuate=\"onRequest\" xlink:href=\"psysml:77eadb46-ce1a-4e0f-9527-bb06765d2ea7\" xlink:show=\"new\" xlink:title=\"psysml:77eadb46-ce1a-4e0f-9527-bb06765d2ea7\" xlink:type=\"simple\"><rect fill=\"#FFFFFF\" height=\"84.5\" id=\"E8\" rx=\"10\" ry=\"10\" style=\"stroke: #383838; stroke-width: 1.5;\" width=\"83\" x=\"219\" y=\"120.5\"/><rect fill=\"#F8F8F8\" height=\"23.9688\" rx=\"10\" ry=\"10\" style=\"stroke: #F8F8F8; stroke-width: 1.5;\" width=\"83\" x=\"219\" y=\"120.5\"/><rect fill=\"#F8F8F8\" height=\"10\" style=\"stroke: #F8F8F8; stroke-width: 1.5;\" width=\"83\" x=\"219\" y=\"134.4688\"/><rect fill=\"none\" height=\"84.5\" id=\"E8\" rx=\"10\" ry=\"10\" style=\"stroke: #383838; stroke-width: 1.5;\" width=\"83\" x=\"219\" y=\"120.5\"/><text fill=\"#000000\" font-family=\"sans-serif\" font-size=\"12\" lengthAdjust=\"spacingAndGlyphs\" textLength=\"40\" x=\"240.5\" y=\"136.6387\">p2: P1</text><line style=\"stroke: #383838; stroke-width: 1.0;\" x1=\"219\" x2=\"302\" y1=\"144.4688\" y2=\"144.4688\"/></a><!--MD5=[b4997ac47864f28c2f74865a473b2911]\n",
       "class E2--><a href=\"psysml:789c28e5-5e95-405e-84fa-948507b238dc\" target=\"_top\" title=\"psysml:789c28e5-5e95-405e-84fa-948507b238dc\" xlink:actuate=\"onRequest\" xlink:href=\"psysml:789c28e5-5e95-405e-84fa-948507b238dc\" xlink:show=\"new\" xlink:title=\"psysml:789c28e5-5e95-405e-84fa-948507b238dc\" xlink:type=\"simple\"><rect fill=\"#FFFFFF\" height=\"45.9375\" id=\"E2\" rx=\"10\" ry=\"10\" style=\"stroke: #383838; stroke-width: 1.5;\" width=\"71\" x=\"32.5\" y=\"41\"/><text fill=\"#000000\" font-family=\"sans-serif\" font-size=\"12\" font-style=\"italic\" lengthAdjust=\"spacingAndGlyphs\" textLength=\"69\" x=\"33.5\" y=\"57.1387\">«attribute»</text><text fill=\"#000000\" font-family=\"sans-serif\" font-size=\"12\" lengthAdjust=\"spacingAndGlyphs\" textLength=\"8\" x=\"64\" y=\"71.1074\">q</text><line style=\"stroke: #383838; stroke-width: 1.5;\" x1=\"33.5\" x2=\"102.5\" y1=\"78.9375\" y2=\"78.9375\"/></a><text fill=\"#000000\" font-family=\"sans-serif\" font-size=\"14\" lengthAdjust=\"spacingAndGlyphs\" textLength=\"44\" x=\"320\" y=\"42.6982\">porig1</text><rect fill=\"#383838\" height=\"12\" style=\"stroke: #F8F8F8; stroke-width: 1.5;\" width=\"12\" x=\"336\" y=\"58\"/><text fill=\"#000000\" font-family=\"sans-serif\" font-size=\"14\" lengthAdjust=\"spacingAndGlyphs\" textLength=\"44\" x=\"367\" y=\"42.6982\">porig1</text><rect fill=\"#383838\" height=\"12\" style=\"stroke: #F8F8F8; stroke-width: 1.5;\" width=\"12\" x=\"383\" y=\"58\"/><text fill=\"#000000\" font-family=\"sans-serif\" font-size=\"14\" lengthAdjust=\"spacingAndGlyphs\" textLength=\"27\" x=\"184.5\" y=\"42.6982\">po1</text><rect fill=\"#383838\" height=\"12\" style=\"stroke: #F8F8F8; stroke-width: 1.5;\" width=\"12\" x=\"192\" y=\"58\"/><text fill=\"#000000\" font-family=\"sans-serif\" font-size=\"14\" lengthAdjust=\"spacingAndGlyphs\" textLength=\"40\" x=\"217\" y=\"99.1982\">pdest</text><rect fill=\"#383838\" height=\"12\" style=\"stroke: #F8F8F8; stroke-width: 1.5;\" width=\"12\" x=\"231\" y=\"114.5\"/><text fill=\"#000000\" font-family=\"sans-serif\" font-size=\"14\" lengthAdjust=\"spacingAndGlyphs\" textLength=\"40\" x=\"264\" y=\"99.1982\">pdest</text><rect fill=\"#383838\" height=\"12\" style=\"stroke: #F8F8F8; stroke-width: 1.5;\" width=\"12\" x=\"278\" y=\"114.5\"/><!--MD5=[1c0b9414cc86e0744215edee6abd8926]\n",
       "link E7 to E9--><a href=\"psysml:af89f277-c22a-4acb-b9c9-7f04d6a8a86b\" target=\"_top\" title=\"psysml:af89f277-c22a-4acb-b9c9-7f04d6a8a86b\" xlink:actuate=\"onRequest\" xlink:href=\"psysml:af89f277-c22a-4acb-b9c9-7f04d6a8a86b\" xlink:show=\"new\" xlink:title=\"psysml:af89f277-c22a-4acb-b9c9-7f04d6a8a86b\" xlink:type=\"simple\"><path d=\"M193.83,70.03 C194.72,81.73 216.14,110.34 230.83,117.73 \" fill=\"none\" id=\"E7-E9\" style=\"stroke: #383838; stroke-width: 3.0;\"/><text fill=\"#000000\" font-family=\"sans-serif\" font-size=\"13\" lengthAdjust=\"spacingAndGlyphs\" textLength=\"7\" x=\"215.8523\" y=\"106.3789\">*</text></a><!--MD5=[1c0b9414cc86e0744215edee6abd8926]\n",
       "link E7 to E9--><a href=\"psysml:6818c790-7ee4-49fa-b866-28c88d0d2e1e\" target=\"_top\" title=\"psysml:6818c790-7ee4-49fa-b866-28c88d0d2e1e\" xlink:actuate=\"onRequest\" xlink:href=\"psysml:6818c790-7ee4-49fa-b866-28c88d0d2e1e\" xlink:show=\"new\" xlink:title=\"psysml:6818c790-7ee4-49fa-b866-28c88d0d2e1e\" xlink:type=\"simple\"><path d=\"M204.05,66.57 C219.27,73.62 241.05,102.5 241.62,114.37 \" fill=\"none\" id=\"E7-E9-1\" style=\"stroke: #383838; stroke-width: 3.0;\"/><text fill=\"#000000\" font-family=\"sans-serif\" font-size=\"13\" lengthAdjust=\"spacingAndGlyphs\" textLength=\"7\" x=\"235.278\" y=\"103.4683\">*</text></a><!--MD5=[4bc5075f0a30c70763d44c66f3cf7e01]\n",
       "@startuml\r\n",
       "skinparam ranksep 10\r\n",
       "skinparam rectangle {\r\n",
       " backgroundColor<<block>> LightGreen\r\n",
       "}\r\n",
       "skinparam monochrome true\r\n",
       "skinparam classbackgroundcolor white\r\n",
       "skinparam shadowing false\r\n",
       "skinparam wrapWidth 300\r\n",
       "hide circle\r\n",
       "\r\n",
       "package \"AliasTest\" as E1  [[psysml:7e4311dd-4dd4-41de-a431-b17c5d614850 ]]  {\r\n",
       "comp usage \"q\" as E2  <<(T,blue) attribute>> [[psysml:789c28e5-5e95-405e-84fa-948507b238dc ]] {\r\n",
       "}\r\n",
       "rec def \"P1\" as E3  <<(T,blue) part def>> [[psysml:00588ae4-2df7-4d57-b3d7-e09c73d2d5b1 ]] {\r\n",
       "portin \"porig1\" as E4  <<(T,blue) port>> [[psysml:236a437d-3673-4742-905a-959f5dd42893 ]] \r\n",
       "portin \"porig1\" as E5  <<(T,blue) port>> [[psysml:236a437d-3673-4742-905a-959f5dd42893 ]] \r\n",
       "}\r\n",
       "rec usage \"p1: P1\" as E6  [[psysml:4e54ee4d-012b-498f-93d7-1afb3759d34d ]] {\r\n",
       "portin \"po1\" as E7  <<(T,blue) port>> [[psysml:8965b7df-293c-4ee2-9b2b-715c01154c80 ]] \r\n",
       "}\r\n",
       "rec usage \"p2: P1\" as E8  [[psysml:77eadb46-ce1a-4e0f-9527-bb06765d2ea7 ]] {\r\n",
       "portin \"pdest\" as E9  <<(T,blue) port>> [[psysml:db28622a-fbe8-4c7d-8fe4-9e164802e944 ]] \r\n",
       "portin \"pdest\" as E10  <<(T,blue) port>> [[psysml:db28622a-fbe8-4c7d-8fe4-9e164802e944 ]] \r\n",
       "}\r\n",
       "E7 -[thickness=3]- \"*\"E9 [[psysml:af89f277-c22a-4acb-b9c9-7f04d6a8a86b ]] \r\n",
       "E7 -[thickness=3]- \"*\"E9 [[psysml:6818c790-7ee4-49fa-b866-28c88d0d2e1e ]] \r\n",
       "}\r\n",
       "@enduml\r\n",
       "\n",
       "PlantUML version 1.2020.13(Sat Jun 13 12:26:38 UTC 2020)\n",
       "(EPL source distribution)\n",
       "Java Runtime: OpenJDK Runtime Environment\n",
       "JVM: OpenJDK 64-Bit Server VM\n",
       "Default Encoding: UTF-8\n",
       "Language: en\n",
       "Country: null\n",
       "--></g></svg>"
      ]
     },
     "execution_count": 40,
     "metadata": {},
     "output_type": "execute_result"
    }
   ],
   "source": [
    "%viz --style=\"DEFAULT\" --view=\"Interconnection\" \"AliasTest\""
   ]
  },
  {
   "cell_type": "code",
   "execution_count": 41,
   "id": "a9c5598e",
   "metadata": {
    "execution": {
     "iopub.execute_input": "2021-08-04T06:25:32.882994Z",
     "iopub.status.busy": "2021-08-04T06:25:32.882585Z",
     "iopub.status.idle": "2021-08-04T06:25:32.885603Z",
     "shell.execute_reply": "2021-08-04T06:25:32.885249Z"
    }
   },
   "outputs": [
    {
     "data": {
      "image/svg+xml": [
       "<?xml version=\"1.0\" encoding=\"UTF-8\" standalone=\"no\"?><svg xmlns=\"http://www.w3.org/2000/svg\" xmlns:xlink=\"http://www.w3.org/1999/xlink\" contentScriptType=\"application/ecmascript\" contentStyleType=\"text/css\" height=\"12px\" preserveAspectRatio=\"none\" style=\"width:12px;height:12px;\" version=\"1.1\" viewBox=\"0 0 12 12\" width=\"12px\" zoomAndPan=\"magnify\"><defs/><g><!--MD5=[388f21188e31bfdd97050473b19af356]\n",
       "@startuml\r\n",
       "skinparam ranksep 8\r\n",
       "skinparam monochrome true\r\n",
       "skinparam classbackgroundcolor white\r\n",
       "skinparam shadowing false\r\n",
       "skinparam wrapWidth 300\r\n",
       "hide circle\r\n",
       "\r\n",
       "@enduml\r\n",
       "\n",
       "PlantUML version 1.2020.13(Sat Jun 13 12:26:38 UTC 2020)\n",
       "(EPL source distribution)\n",
       "Java Runtime: OpenJDK Runtime Environment\n",
       "JVM: OpenJDK 64-Bit Server VM\n",
       "Default Encoding: UTF-8\n",
       "Language: en\n",
       "Country: null\n",
       "--></g></svg>"
      ]
     },
     "execution_count": 41,
     "metadata": {},
     "output_type": "execute_result"
    }
   ],
   "source": [
    "%viz --style=\"DEFAULT\" --view=\"Action\" \"AliasTest\""
   ]
  },
  {
   "cell_type": "code",
   "execution_count": 42,
   "id": "381b6e63",
   "metadata": {
    "execution": {
     "iopub.execute_input": "2021-08-04T06:25:32.935687Z",
     "iopub.status.busy": "2021-08-04T06:25:32.935231Z",
     "iopub.status.idle": "2021-08-04T06:25:32.965431Z",
     "shell.execute_reply": "2021-08-04T06:25:32.963960Z"
    }
   },
   "outputs": [
    {
     "data": {
      "image/svg+xml": [
       "<?xml version=\"1.0\" encoding=\"UTF-8\" standalone=\"no\"?><svg xmlns=\"http://www.w3.org/2000/svg\" xmlns:xlink=\"http://www.w3.org/1999/xlink\" contentScriptType=\"application/ecmascript\" contentStyleType=\"text/css\" height=\"327px\" preserveAspectRatio=\"none\" style=\"width:304px;height:327px;\" version=\"1.1\" viewBox=\"0 0 304 327\" width=\"304px\" zoomAndPan=\"magnify\"><defs/><g><!--MD5=[fbc87193dbaf4d95561dea2c320d4a47]\n",
       "cluster E1--><a href=\"psysml:7e4311dd-4dd4-41de-a431-b17c5d614850\" target=\"_top\" title=\"psysml:7e4311dd-4dd4-41de-a431-b17c5d614850\" xlink:actuate=\"onRequest\" xlink:href=\"psysml:7e4311dd-4dd4-41de-a431-b17c5d614850\" xlink:show=\"new\" xlink:title=\"psysml:7e4311dd-4dd4-41de-a431-b17c5d614850\" xlink:type=\"simple\"><polygon fill=\"#FFFFFF\" points=\"16,6,94,6,101,28.2969,282,28.2969,282,315,16,315,16,6\" style=\"stroke: #000000; stroke-width: 1.5;\"/><line style=\"stroke: #000000; stroke-width: 1.5;\" x1=\"16\" x2=\"101\" y1=\"28.2969\" y2=\"28.2969\"/><text fill=\"#000000\" font-family=\"sans-serif\" font-size=\"14\" font-weight=\"bold\" lengthAdjust=\"spacingAndGlyphs\" textLength=\"72\" x=\"20\" y=\"20.9951\">AliasTest</text></a><!--MD5=[b4997ac47864f28c2f74865a473b2911]\n",
       "class E2--><a href=\"psysml:789c28e5-5e95-405e-84fa-948507b238dc\" target=\"_top\" title=\"psysml:789c28e5-5e95-405e-84fa-948507b238dc\" xlink:actuate=\"onRequest\" xlink:href=\"psysml:789c28e5-5e95-405e-84fa-948507b238dc\" xlink:show=\"new\" xlink:title=\"psysml:789c28e5-5e95-405e-84fa-948507b238dc\" xlink:type=\"simple\"><rect fill=\"#FFFFFF\" height=\"45.9375\" id=\"E2\" rx=\"10\" ry=\"10\" style=\"stroke: #383838; stroke-width: 1.5;\" width=\"71\" x=\"194.5\" y=\"41\"/><text fill=\"#000000\" font-family=\"sans-serif\" font-size=\"12\" font-style=\"italic\" lengthAdjust=\"spacingAndGlyphs\" textLength=\"69\" x=\"195.5\" y=\"57.1387\">«attribute»</text><text fill=\"#000000\" font-family=\"sans-serif\" font-size=\"12\" lengthAdjust=\"spacingAndGlyphs\" textLength=\"8\" x=\"226\" y=\"71.1074\">q</text><line style=\"stroke: #383838; stroke-width: 1.5;\" x1=\"195.5\" x2=\"264.5\" y1=\"78.9375\" y2=\"78.9375\"/></a><!--MD5=[09b614a08d8cba4a07c9adeb5e0fee81]\n",
       "class E3--><a href=\"psysml:00588ae4-2df7-4d57-b3d7-e09c73d2d5b1\" target=\"_top\" title=\"psysml:00588ae4-2df7-4d57-b3d7-e09c73d2d5b1\" xlink:actuate=\"onRequest\" xlink:href=\"psysml:00588ae4-2df7-4d57-b3d7-e09c73d2d5b1\" xlink:show=\"new\" xlink:title=\"psysml:00588ae4-2df7-4d57-b3d7-e09c73d2d5b1\" xlink:type=\"simple\"><rect fill=\"#FFFFFF\" height=\"45.9375\" id=\"E3\" style=\"stroke: #383838; stroke-width: 1.5;\" width=\"66\" x=\"168\" y=\"147\"/><text fill=\"#000000\" font-family=\"sans-serif\" font-size=\"12\" font-style=\"italic\" lengthAdjust=\"spacingAndGlyphs\" textLength=\"64\" x=\"169\" y=\"163.1387\">«part def»</text><text fill=\"#000000\" font-family=\"sans-serif\" font-size=\"12\" lengthAdjust=\"spacingAndGlyphs\" textLength=\"16\" x=\"193\" y=\"177.1074\">P1</text><line style=\"stroke: #383838; stroke-width: 1.5;\" x1=\"169\" x2=\"233\" y1=\"184.9375\" y2=\"184.9375\"/></a><!--MD5=[ebbe1d658d1005bcc118a6aa81145e00]\n",
       "class E4--><a href=\"psysml:236a437d-3673-4742-905a-959f5dd42893\" target=\"_top\" title=\"psysml:236a437d-3673-4742-905a-959f5dd42893\" xlink:actuate=\"onRequest\" xlink:href=\"psysml:236a437d-3673-4742-905a-959f5dd42893\" xlink:show=\"new\" xlink:title=\"psysml:236a437d-3673-4742-905a-959f5dd42893\" xlink:type=\"simple\"><rect fill=\"#FFFFFF\" height=\"45.9375\" id=\"E4\" rx=\"10\" ry=\"10\" style=\"stroke: #383838; stroke-width: 1.5;\" width=\"46\" x=\"178\" y=\"253\"/><text fill=\"#000000\" font-family=\"sans-serif\" font-size=\"12\" font-style=\"italic\" lengthAdjust=\"spacingAndGlyphs\" textLength=\"40\" x=\"181\" y=\"269.1387\">«port»</text><text fill=\"#000000\" font-family=\"sans-serif\" font-size=\"12\" lengthAdjust=\"spacingAndGlyphs\" textLength=\"40\" x=\"181\" y=\"283.1074\">porig1</text><line style=\"stroke: #383838; stroke-width: 1.5;\" x1=\"179\" x2=\"223\" y1=\"290.9375\" y2=\"290.9375\"/></a><!--MD5=[270fce915f116d4de14055a7c1d9a0f3]\n",
       "class E5--><a href=\"psysml:4e54ee4d-012b-498f-93d7-1afb3759d34d\" target=\"_top\" title=\"psysml:4e54ee4d-012b-498f-93d7-1afb3759d34d\" xlink:actuate=\"onRequest\" xlink:href=\"psysml:4e54ee4d-012b-498f-93d7-1afb3759d34d\" xlink:show=\"new\" xlink:title=\"psysml:4e54ee4d-012b-498f-93d7-1afb3759d34d\" xlink:type=\"simple\"><rect fill=\"#FFFFFF\" height=\"45.9375\" id=\"E5\" rx=\"10\" ry=\"10\" style=\"stroke: #383838; stroke-width: 1.5;\" width=\"46\" x=\"113\" y=\"41\"/><text fill=\"#000000\" font-family=\"sans-serif\" font-size=\"12\" font-style=\"italic\" lengthAdjust=\"spacingAndGlyphs\" textLength=\"40\" x=\"116\" y=\"57.1387\">«part»</text><text fill=\"#000000\" font-family=\"sans-serif\" font-size=\"12\" lengthAdjust=\"spacingAndGlyphs\" textLength=\"40\" x=\"116\" y=\"71.1074\">p1: P1</text><line style=\"stroke: #383838; stroke-width: 1.5;\" x1=\"114\" x2=\"158\" y1=\"78.9375\" y2=\"78.9375\"/></a><!--MD5=[60a26617385b1d2d0262a64233df1f8d]\n",
       "class E6--><a href=\"psysml:8965b7df-293c-4ee2-9b2b-715c01154c80\" target=\"_top\" title=\"psysml:8965b7df-293c-4ee2-9b2b-715c01154c80\" xlink:actuate=\"onRequest\" xlink:href=\"psysml:8965b7df-293c-4ee2-9b2b-715c01154c80\" xlink:show=\"new\" xlink:title=\"psysml:8965b7df-293c-4ee2-9b2b-715c01154c80\" xlink:type=\"simple\"><rect fill=\"#FFFFFF\" height=\"45.9375\" id=\"E6\" rx=\"10\" ry=\"10\" style=\"stroke: #383838; stroke-width: 1.5;\" width=\"42\" x=\"91\" y=\"147\"/><text fill=\"#000000\" font-family=\"sans-serif\" font-size=\"12\" font-style=\"italic\" lengthAdjust=\"spacingAndGlyphs\" textLength=\"40\" x=\"92\" y=\"163.1387\">«port»</text><text fill=\"#000000\" font-family=\"sans-serif\" font-size=\"12\" lengthAdjust=\"spacingAndGlyphs\" textLength=\"24\" x=\"100\" y=\"177.1074\">po1</text><line style=\"stroke: #383838; stroke-width: 1.5;\" x1=\"92\" x2=\"132\" y1=\"184.9375\" y2=\"184.9375\"/></a><!--MD5=[2156ba9850f5573cc1fc38a6a4b2f02b]\n",
       "class E7--><a href=\"psysml:77eadb46-ce1a-4e0f-9527-bb06765d2ea7\" target=\"_top\" title=\"psysml:77eadb46-ce1a-4e0f-9527-bb06765d2ea7\" xlink:actuate=\"onRequest\" xlink:href=\"psysml:77eadb46-ce1a-4e0f-9527-bb06765d2ea7\" xlink:show=\"new\" xlink:title=\"psysml:77eadb46-ce1a-4e0f-9527-bb06765d2ea7\" xlink:type=\"simple\"><rect fill=\"#FFFFFF\" height=\"45.9375\" id=\"E7\" rx=\"10\" ry=\"10\" style=\"stroke: #383838; stroke-width: 1.5;\" width=\"46\" x=\"32\" y=\"41\"/><text fill=\"#000000\" font-family=\"sans-serif\" font-size=\"12\" font-style=\"italic\" lengthAdjust=\"spacingAndGlyphs\" textLength=\"40\" x=\"35\" y=\"57.1387\">«part»</text><text fill=\"#000000\" font-family=\"sans-serif\" font-size=\"12\" lengthAdjust=\"spacingAndGlyphs\" textLength=\"40\" x=\"35\" y=\"71.1074\">p2: P1</text><line style=\"stroke: #383838; stroke-width: 1.5;\" x1=\"33\" x2=\"77\" y1=\"78.9375\" y2=\"78.9375\"/></a><!--MD5=[b9389687b975829384b498ac4b7476b2]\n",
       "class E8--><a href=\"psysml:db28622a-fbe8-4c7d-8fe4-9e164802e944\" target=\"_top\" title=\"psysml:db28622a-fbe8-4c7d-8fe4-9e164802e944\" xlink:actuate=\"onRequest\" xlink:href=\"psysml:db28622a-fbe8-4c7d-8fe4-9e164802e944\" xlink:show=\"new\" xlink:title=\"psysml:db28622a-fbe8-4c7d-8fe4-9e164802e944\" xlink:type=\"simple\"><rect fill=\"#FFFFFF\" height=\"45.9375\" id=\"E8\" rx=\"10\" ry=\"10\" style=\"stroke: #383838; stroke-width: 1.5;\" width=\"42\" x=\"63\" y=\"253\"/><text fill=\"#000000\" font-family=\"sans-serif\" font-size=\"12\" font-style=\"italic\" lengthAdjust=\"spacingAndGlyphs\" textLength=\"40\" x=\"64\" y=\"269.1387\">«port»</text><text fill=\"#000000\" font-family=\"sans-serif\" font-size=\"12\" lengthAdjust=\"spacingAndGlyphs\" textLength=\"36\" x=\"66\" y=\"283.1074\">pdest</text><line style=\"stroke: #383838; stroke-width: 1.5;\" x1=\"64\" x2=\"104\" y1=\"290.9375\" y2=\"290.9375\"/></a><!--MD5=[4672eba38e49728da53d11aeb285b987]\n",
       "reverse link E3 to E4--><a href=\"psysml:10297d07-57fa-4f9d-a873-bd76f542a35c\" target=\"_top\" title=\"psysml:10297d07-57fa-4f9d-a873-bd76f542a35c\" xlink:actuate=\"onRequest\" xlink:href=\"psysml:10297d07-57fa-4f9d-a873-bd76f542a35c\" xlink:show=\"new\" xlink:title=\"psysml:10297d07-57fa-4f9d-a873-bd76f542a35c\" xlink:type=\"simple\"><path d=\"M188.84,206.44 C187.7,221.87 188.21,239.47 190.36,252.98 \" fill=\"none\" id=\"E3&lt;-E4\" style=\"stroke: #383838; stroke-width: 1.0;\"/><polygon fill=\"#FFFFFF\" points=\"190.35,193.06,185.7032,198.5743,189.006,204.9845,193.6528,199.4702,190.35,193.06\" style=\"stroke: #383838; stroke-width: 1.0;\"/><text fill=\"#000000\" font-family=\"sans-serif\" font-size=\"13\" lengthAdjust=\"spacingAndGlyphs\" textLength=\"8\" x=\"178.4255\" y=\"241.8709\">1</text></a><!--MD5=[4672eba38e49728da53d11aeb285b987]\n",
       "reverse link E3 to E4--><a href=\"psysml:4c29fec0-8309-450b-9bf3-4a2b28b77917\" target=\"_top\" title=\"psysml:4c29fec0-8309-450b-9bf3-4a2b28b77917\" xlink:actuate=\"onRequest\" xlink:href=\"psysml:4c29fec0-8309-450b-9bf3-4a2b28b77917\" xlink:show=\"new\" xlink:title=\"psysml:4c29fec0-8309-450b-9bf3-4a2b28b77917\" xlink:type=\"simple\"><path d=\"M214.01,208.34 C215.03,223.3 214.45,240.02 212.27,252.98 \" fill=\"none\" id=\"E3&lt;-E4-1\" style=\"stroke: #383838; stroke-width: 1.0; stroke-dasharray: 7.0,7.0;\"/><ellipse cx=\"213.1693\" cy=\"201.0093\" fill=\"#FFFFFF\" rx=\"8\" ry=\"8\" style=\"stroke: #383838; stroke-width: 1.0;\"/><line style=\"stroke: #383838; stroke-width: 1.0;\" x1=\"214.0687\" x2=\"212.27\" y1=\"208.9586\" y2=\"193.06\"/><line style=\"stroke: #383838; stroke-width: 1.0;\" x1=\"205.2201\" x2=\"221.1186\" y1=\"201.9086\" y2=\"200.1099\"/><text fill=\"#000000\" font-family=\"sans-serif\" font-size=\"13\" lengthAdjust=\"spacingAndGlyphs\" textLength=\"8\" x=\"206.2238\" y=\"241.8709\">1</text></a><!--MD5=[e9be52314489bd878ff4c7144b63c9e1]\n",
       "link E5 to E3--><a href=\"psysml:93a52ea3-a140-4bd2-b924-ec5ad15b1b7e\" target=\"_top\" title=\"psysml:93a52ea3-a140-4bd2-b924-ec5ad15b1b7e\" xlink:actuate=\"onRequest\" xlink:href=\"psysml:93a52ea3-a140-4bd2-b924-ec5ad15b1b7e\" xlink:show=\"new\" xlink:title=\"psysml:93a52ea3-a140-4bd2-b924-ec5ad15b1b7e\" xlink:type=\"simple\"><path d=\"M149.78,87.06 C157.54,99.47 167.45,115.33 176.49,129.78 \" fill=\"none\" id=\"E5-&gt;E3\" style=\"stroke: #383838; stroke-width: 1.0;\"/><polygon fill=\"#FFFFFF\" points=\"187.24,146.98,171.2331,134.5792,183.1045,127.1584,187.24,146.98\" style=\"stroke: #383838; stroke-width: 1.0;\"/><ellipse cx=\"169.9076\" cy=\"128.6857\" fill=\"#383838\" rx=\"2\" ry=\"2\" style=\"stroke: #383838; stroke-width: 1.0;\"/><ellipse cx=\"178.3872\" cy=\"123.3851\" fill=\"#383838\" rx=\"2\" ry=\"2\" style=\"stroke: #383838; stroke-width: 1.0;\"/></a><!--MD5=[85d356282659285ab4b2cfe2f634dd2b]\n",
       "reverse link E5 to E6--><a href=\"psysml:cdcbbeec-90be-4e1d-8c60-d92c8a6a7077\" target=\"_top\" title=\"psysml:cdcbbeec-90be-4e1d-8c60-d92c8a6a7077\" xlink:actuate=\"onRequest\" xlink:href=\"psysml:cdcbbeec-90be-4e1d-8c60-d92c8a6a7077\" xlink:show=\"new\" xlink:title=\"psysml:cdcbbeec-90be-4e1d-8c60-d92c8a6a7077\" xlink:type=\"simple\"><path d=\"M127.93,99.96 C124.34,115.51 120.23,133.33 117.08,146.98 \" fill=\"none\" id=\"E5&lt;-E6\" style=\"stroke: #383838; stroke-width: 1.0;\"/><polygon fill=\"#FFFFFF\" points=\"130.91,87.06,125.6616,92.0052,128.2078,98.7518,133.4562,93.8066,130.91,87.06\" style=\"stroke: #383838; stroke-width: 1.0;\"/><text fill=\"#000000\" font-family=\"sans-serif\" font-size=\"13\" lengthAdjust=\"spacingAndGlyphs\" textLength=\"8\" x=\"109.3703\" y=\"135.8709\">1</text></a><!--MD5=[f667431f98296947986a1a7595a31603]\n",
       "link E6 to E4--><a href=\"psysml:b5614b00-f88c-4f87-85f7-609ca7f17bae\" target=\"_top\" title=\"psysml:b5614b00-f88c-4f87-85f7-609ca7f17bae\" xlink:actuate=\"onRequest\" xlink:href=\"psysml:b5614b00-f88c-4f87-85f7-609ca7f17bae\" xlink:show=\"new\" xlink:title=\"psysml:b5614b00-f88c-4f87-85f7-609ca7f17bae\" xlink:type=\"simple\"><path d=\"M130.87,193.06 C141.97,206.02 156.28,222.74 169.08,237.7 \" fill=\"none\" id=\"E6-&gt;E4\" style=\"stroke: #383838; stroke-width: 1.0;\"/><polygon fill=\"#FFFFFF\" points=\"182.15,252.98,164.4809,243.0905,175.1204,233.9909,182.15,252.98\" style=\"stroke: #383838; stroke-width: 1.0;\"/><line style=\"stroke: #383838; stroke-width: 2.0;\" x1=\"162.011\" x2=\"172.6505\" y1=\"240.2026\" y2=\"231.1031\"/></a><!--MD5=[14ccda38c055a5c0da953d572bc50960]\n",
       "link E7 to E3--><a href=\"psysml:87c48ed5-bc50-48bb-899d-f807bfcdc26e\" target=\"_top\" title=\"psysml:87c48ed5-bc50-48bb-899d-f807bfcdc26e\" xlink:actuate=\"onRequest\" xlink:href=\"psysml:87c48ed5-bc50-48bb-899d-f807bfcdc26e\" xlink:show=\"new\" xlink:title=\"psysml:87c48ed5-bc50-48bb-899d-f807bfcdc26e\" xlink:type=\"simple\"><path d=\"M78.13,81.48 C98.32,95.86 128.25,117.18 153.52,135.18 \" fill=\"none\" id=\"E7-&gt;E3\" style=\"stroke: #383838; stroke-width: 1.0;\"/><polygon fill=\"#FFFFFF\" points=\"170.09,146.98,150.5533,141.6586,158.6755,130.2555,170.09,146.98\" style=\"stroke: #383838; stroke-width: 1.0;\"/><ellipse cx=\"147.0709\" cy=\"136.7227\" fill=\"#383838\" rx=\"2\" ry=\"2\" style=\"stroke: #383838; stroke-width: 1.0;\"/><ellipse cx=\"152.8725\" cy=\"128.5776\" fill=\"#383838\" rx=\"2\" ry=\"2\" style=\"stroke: #383838; stroke-width: 1.0;\"/></a><!--MD5=[dc164f5e8a733ab456ef1add180e9e34]\n",
       "reverse link E7 to E8--><a href=\"psysml:5ff6c459-66f7-4338-82bb-16aa2b22f6b4\" target=\"_top\" title=\"psysml:5ff6c459-66f7-4338-82bb-16aa2b22f6b4\" xlink:actuate=\"onRequest\" xlink:href=\"psysml:5ff6c459-66f7-4338-82bb-16aa2b22f6b4\" xlink:show=\"new\" xlink:title=\"psysml:5ff6c459-66f7-4338-82bb-16aa2b22f6b4\" xlink:type=\"simple\"><path d=\"M50.05,100.09 C51.65,143.61 62.25,216.5 72.75,252.9 \" fill=\"none\" id=\"E7&lt;-E8\" style=\"stroke: #383838; stroke-width: 1.0;\"/><polygon fill=\"#FFFFFF\" points=\"49.85,87.08,45.9362,93.1366,50.0216,99.0788,53.9354,93.0222,49.85,87.08\" style=\"stroke: #383838; stroke-width: 1.0;\"/><text fill=\"#000000\" font-family=\"sans-serif\" font-size=\"13\" lengthAdjust=\"spacingAndGlyphs\" textLength=\"8\" x=\"60.6516\" y=\"241.7694\">1</text></a><!--MD5=[dc164f5e8a733ab456ef1add180e9e34]\n",
       "reverse link E7 to E8--><a href=\"psysml:4eb1c616-a5a7-47d5-8985-e84491dc2120\" target=\"_top\" title=\"psysml:4eb1c616-a5a7-47d5-8985-e84491dc2120\" xlink:actuate=\"onRequest\" xlink:href=\"psysml:4eb1c616-a5a7-47d5-8985-e84491dc2120\" xlink:show=\"new\" xlink:title=\"psysml:4eb1c616-a5a7-47d5-8985-e84491dc2120\" xlink:type=\"simple\"><path d=\"M70.64,101.8 C81.15,145.5 90.39,216.97 89.63,252.9 \" fill=\"none\" id=\"E7&lt;-E8-1\" style=\"stroke: #383838; stroke-width: 1.0; stroke-dasharray: 7.0,7.0;\"/><ellipse cx=\"68.7794\" cy=\"94.813\" fill=\"#FFFFFF\" rx=\"8\" ry=\"8\" style=\"stroke: #383838; stroke-width: 1.0;\"/><line style=\"stroke: #383838; stroke-width: 1.0;\" x1=\"70.8289\" x2=\"66.73\" y1=\"102.5461\" y2=\"87.08\"/><line style=\"stroke: #383838; stroke-width: 1.0;\" x1=\"61.0464\" x2=\"76.5125\" y1=\"96.8625\" y2=\"92.7636\"/><text fill=\"#000000\" font-family=\"sans-serif\" font-size=\"13\" lengthAdjust=\"spacingAndGlyphs\" textLength=\"8\" x=\"92.2181\" y=\"241.7694\">1</text></a><!--MD5=[0a839d0f80c2d72d4b9b307f046d0de8]\n",
       "link E6 to E8--><a href=\"psysml:af89f277-c22a-4acb-b9c9-7f04d6a8a86b\" target=\"_top\" title=\"psysml:af89f277-c22a-4acb-b9c9-7f04d6a8a86b\" xlink:actuate=\"onRequest\" xlink:href=\"psysml:af89f277-c22a-4acb-b9c9-7f04d6a8a86b\" xlink:show=\"new\" xlink:title=\"psysml:af89f277-c22a-4acb-b9c9-7f04d6a8a86b\" xlink:type=\"simple\"><path d=\"M95.42,193.06 C87.86,210.7 81.23,235.34 79.29,252.98 \" fill=\"none\" id=\"E6-E8\" style=\"stroke: #383838; stroke-width: 3.0;\"/><text fill=\"#000000\" font-family=\"sans-serif\" font-size=\"13\" lengthAdjust=\"spacingAndGlyphs\" textLength=\"7\" x=\"78.9648\" y=\"241.8709\">*</text></a><!--MD5=[0a839d0f80c2d72d4b9b307f046d0de8]\n",
       "link E6 to E8--><a href=\"psysml:6818c790-7ee4-49fa-b866-28c88d0d2e1e\" target=\"_top\" title=\"psysml:6818c790-7ee4-49fa-b866-28c88d0d2e1e\" xlink:actuate=\"onRequest\" xlink:href=\"psysml:6818c790-7ee4-49fa-b866-28c88d0d2e1e\" xlink:show=\"new\" xlink:title=\"psysml:6818c790-7ee4-49fa-b866-28c88d0d2e1e\" xlink:type=\"simple\"><path d=\"M117.33,193.06 C115.55,210.7 108.92,235.34 101.2,252.98 \" fill=\"none\" id=\"E6-E8-1\" style=\"stroke: #383838; stroke-width: 3.0;\"/><text fill=\"#000000\" font-family=\"sans-serif\" font-size=\"13\" lengthAdjust=\"spacingAndGlyphs\" textLength=\"7\" x=\"97.8819\" y=\"241.8709\">*</text></a><!--MD5=[2a9e875b7a79920f99fe9a108b410b09]\n",
       "@startuml\r\n",
       "skinparam monochrome true\r\n",
       "skinparam classbackgroundcolor white\r\n",
       "skinparam shadowing false\r\n",
       "skinparam wrapWidth 300\r\n",
       "hide circle\r\n",
       "\r\n",
       "package \"AliasTest\" as E1  [[psysml:7e4311dd-4dd4-41de-a431-b17c5d614850 ]]  {\r\n",
       "comp usage \"q\" as E2  <<(T,blue) attribute>> [[psysml:789c28e5-5e95-405e-84fa-948507b238dc ]] {\r\n",
       "}\r\n",
       "comp def \"P1\" as E3  <<(T,blue) part def>> [[psysml:00588ae4-2df7-4d57-b3d7-e09c73d2d5b1 ]] {\r\n",
       "}\r\n",
       "comp usage \"porig1\" as E4  <<(T,blue) port>> [[psysml:236a437d-3673-4742-905a-959f5dd42893 ]] {\r\n",
       "}\r\n",
       "comp usage \"p1: P1\" as E5  <<(T,blue) part>> [[psysml:4e54ee4d-012b-498f-93d7-1afb3759d34d ]] {\r\n",
       "}\r\n",
       "comp usage \"po1\" as E6  <<(T,blue) port>> [[psysml:8965b7df-293c-4ee2-9b2b-715c01154c80 ]] {\r\n",
       "}\r\n",
       "comp usage \"p2: P1\" as E7  <<(T,blue) part>> [[psysml:77eadb46-ce1a-4e0f-9527-bb06765d2ea7 ]] {\r\n",
       "}\r\n",
       "comp usage \"pdest\" as E8  <<(T,blue) port>> [[psysml:db28622a-fbe8-4c7d-8fe4-9e164802e944 ]] {\r\n",
       "}\r\n",
       "E3 o- - \"1\"E4 [[psysml:10297d07-57fa-4f9d-a873-bd76f542a35c ]] \r\n",
       "E3 +.. \"1\"E4 [[psysml:4c29fec0-8309-450b-9bf3-4a2b28b77917 ]] \r\n",
       "E5 - -:|> E3 [[psysml:93a52ea3-a140-4bd2-b924-ec5ad15b1b7e ]] \r\n",
       "E5 o- - \"1\"E6 [[psysml:cdcbbeec-90be-4e1d-8c60-d92c8a6a7077 ]] \r\n",
       "E6 - -||> E4 [[psysml:b5614b00-f88c-4f87-85f7-609ca7f17bae ]] \r\n",
       "E7 - -:|> E3 [[psysml:87c48ed5-bc50-48bb-899d-f807bfcdc26e ]] \r\n",
       "E7 o- - \"1\"E8 [[psysml:5ff6c459-66f7-4338-82bb-16aa2b22f6b4 ]] \r\n",
       "E7 +.. \"1\"E8 [[psysml:4eb1c616-a5a7-47d5-8985-e84491dc2120 ]] \r\n",
       "E6 -[thickness=3]- \"*\"E8 [[psysml:af89f277-c22a-4acb-b9c9-7f04d6a8a86b ]] \r\n",
       "E6 -[thickness=3]- \"*\"E8 [[psysml:6818c790-7ee4-49fa-b866-28c88d0d2e1e ]] \r\n",
       "}\r\n",
       "@enduml\r\n",
       "\n",
       "PlantUML version 1.2020.13(Sat Jun 13 12:26:38 UTC 2020)\n",
       "(EPL source distribution)\n",
       "Java Runtime: OpenJDK Runtime Environment\n",
       "JVM: OpenJDK 64-Bit Server VM\n",
       "Default Encoding: UTF-8\n",
       "Language: en\n",
       "Country: null\n",
       "--></g></svg>"
      ]
     },
     "execution_count": 42,
     "metadata": {},
     "output_type": "execute_result"
    }
   ],
   "source": [
    "%viz --style=\"DEFAULT\" --view=\"Sequence\" \"AliasTest\""
   ]
  },
  {
   "cell_type": "code",
   "execution_count": 43,
   "id": "a3f6217e",
   "metadata": {
    "execution": {
     "iopub.execute_input": "2021-08-04T06:25:33.014619Z",
     "iopub.status.busy": "2021-08-04T06:25:33.014201Z",
     "iopub.status.idle": "2021-08-04T06:25:33.047248Z",
     "shell.execute_reply": "2021-08-04T06:25:33.045954Z"
    }
   },
   "outputs": [
    {
     "data": {
      "image/svg+xml": [
       "<?xml version=\"1.0\" encoding=\"UTF-8\" standalone=\"no\"?><svg xmlns=\"http://www.w3.org/2000/svg\" xmlns:xlink=\"http://www.w3.org/1999/xlink\" contentScriptType=\"application/ecmascript\" contentStyleType=\"text/css\" height=\"327px\" preserveAspectRatio=\"none\" style=\"width:304px;height:327px;\" version=\"1.1\" viewBox=\"0 0 304 327\" width=\"304px\" zoomAndPan=\"magnify\"><defs/><g><!--MD5=[fbc87193dbaf4d95561dea2c320d4a47]\n",
       "cluster E1--><a href=\"psysml:7e4311dd-4dd4-41de-a431-b17c5d614850\" target=\"_top\" title=\"psysml:7e4311dd-4dd4-41de-a431-b17c5d614850\" xlink:actuate=\"onRequest\" xlink:href=\"psysml:7e4311dd-4dd4-41de-a431-b17c5d614850\" xlink:show=\"new\" xlink:title=\"psysml:7e4311dd-4dd4-41de-a431-b17c5d614850\" xlink:type=\"simple\"><polygon fill=\"#FFFFFF\" points=\"16,6,94,6,101,28.2969,282,28.2969,282,315,16,315,16,6\" style=\"stroke: #000000; stroke-width: 1.5;\"/><line style=\"stroke: #000000; stroke-width: 1.5;\" x1=\"16\" x2=\"101\" y1=\"28.2969\" y2=\"28.2969\"/><text fill=\"#000000\" font-family=\"sans-serif\" font-size=\"14\" font-weight=\"bold\" lengthAdjust=\"spacingAndGlyphs\" textLength=\"72\" x=\"20\" y=\"20.9951\">AliasTest</text></a><!--MD5=[b4997ac47864f28c2f74865a473b2911]\n",
       "class E2--><a href=\"psysml:789c28e5-5e95-405e-84fa-948507b238dc\" target=\"_top\" title=\"psysml:789c28e5-5e95-405e-84fa-948507b238dc\" xlink:actuate=\"onRequest\" xlink:href=\"psysml:789c28e5-5e95-405e-84fa-948507b238dc\" xlink:show=\"new\" xlink:title=\"psysml:789c28e5-5e95-405e-84fa-948507b238dc\" xlink:type=\"simple\"><rect fill=\"#FFFFFF\" height=\"45.9375\" id=\"E2\" rx=\"10\" ry=\"10\" style=\"stroke: #383838; stroke-width: 1.5;\" width=\"71\" x=\"194.5\" y=\"41\"/><text fill=\"#000000\" font-family=\"sans-serif\" font-size=\"12\" font-style=\"italic\" lengthAdjust=\"spacingAndGlyphs\" textLength=\"69\" x=\"195.5\" y=\"57.1387\">«attribute»</text><text fill=\"#000000\" font-family=\"sans-serif\" font-size=\"12\" lengthAdjust=\"spacingAndGlyphs\" textLength=\"8\" x=\"226\" y=\"71.1074\">q</text><line style=\"stroke: #383838; stroke-width: 1.5;\" x1=\"195.5\" x2=\"264.5\" y1=\"78.9375\" y2=\"78.9375\"/></a><!--MD5=[09b614a08d8cba4a07c9adeb5e0fee81]\n",
       "class E3--><a href=\"psysml:00588ae4-2df7-4d57-b3d7-e09c73d2d5b1\" target=\"_top\" title=\"psysml:00588ae4-2df7-4d57-b3d7-e09c73d2d5b1\" xlink:actuate=\"onRequest\" xlink:href=\"psysml:00588ae4-2df7-4d57-b3d7-e09c73d2d5b1\" xlink:show=\"new\" xlink:title=\"psysml:00588ae4-2df7-4d57-b3d7-e09c73d2d5b1\" xlink:type=\"simple\"><rect fill=\"#FFFFFF\" height=\"45.9375\" id=\"E3\" style=\"stroke: #383838; stroke-width: 1.5;\" width=\"66\" x=\"168\" y=\"147\"/><text fill=\"#000000\" font-family=\"sans-serif\" font-size=\"12\" font-style=\"italic\" lengthAdjust=\"spacingAndGlyphs\" textLength=\"64\" x=\"169\" y=\"163.1387\">«part def»</text><text fill=\"#000000\" font-family=\"sans-serif\" font-size=\"12\" lengthAdjust=\"spacingAndGlyphs\" textLength=\"16\" x=\"193\" y=\"177.1074\">P1</text><line style=\"stroke: #383838; stroke-width: 1.5;\" x1=\"169\" x2=\"233\" y1=\"184.9375\" y2=\"184.9375\"/></a><!--MD5=[ebbe1d658d1005bcc118a6aa81145e00]\n",
       "class E4--><a href=\"psysml:236a437d-3673-4742-905a-959f5dd42893\" target=\"_top\" title=\"psysml:236a437d-3673-4742-905a-959f5dd42893\" xlink:actuate=\"onRequest\" xlink:href=\"psysml:236a437d-3673-4742-905a-959f5dd42893\" xlink:show=\"new\" xlink:title=\"psysml:236a437d-3673-4742-905a-959f5dd42893\" xlink:type=\"simple\"><rect fill=\"#FFFFFF\" height=\"45.9375\" id=\"E4\" rx=\"10\" ry=\"10\" style=\"stroke: #383838; stroke-width: 1.5;\" width=\"46\" x=\"178\" y=\"253\"/><text fill=\"#000000\" font-family=\"sans-serif\" font-size=\"12\" font-style=\"italic\" lengthAdjust=\"spacingAndGlyphs\" textLength=\"40\" x=\"181\" y=\"269.1387\">«port»</text><text fill=\"#000000\" font-family=\"sans-serif\" font-size=\"12\" lengthAdjust=\"spacingAndGlyphs\" textLength=\"40\" x=\"181\" y=\"283.1074\">porig1</text><line style=\"stroke: #383838; stroke-width: 1.5;\" x1=\"179\" x2=\"223\" y1=\"290.9375\" y2=\"290.9375\"/></a><!--MD5=[270fce915f116d4de14055a7c1d9a0f3]\n",
       "class E5--><a href=\"psysml:4e54ee4d-012b-498f-93d7-1afb3759d34d\" target=\"_top\" title=\"psysml:4e54ee4d-012b-498f-93d7-1afb3759d34d\" xlink:actuate=\"onRequest\" xlink:href=\"psysml:4e54ee4d-012b-498f-93d7-1afb3759d34d\" xlink:show=\"new\" xlink:title=\"psysml:4e54ee4d-012b-498f-93d7-1afb3759d34d\" xlink:type=\"simple\"><rect fill=\"#FFFFFF\" height=\"45.9375\" id=\"E5\" rx=\"10\" ry=\"10\" style=\"stroke: #383838; stroke-width: 1.5;\" width=\"46\" x=\"113\" y=\"41\"/><text fill=\"#000000\" font-family=\"sans-serif\" font-size=\"12\" font-style=\"italic\" lengthAdjust=\"spacingAndGlyphs\" textLength=\"40\" x=\"116\" y=\"57.1387\">«part»</text><text fill=\"#000000\" font-family=\"sans-serif\" font-size=\"12\" lengthAdjust=\"spacingAndGlyphs\" textLength=\"40\" x=\"116\" y=\"71.1074\">p1: P1</text><line style=\"stroke: #383838; stroke-width: 1.5;\" x1=\"114\" x2=\"158\" y1=\"78.9375\" y2=\"78.9375\"/></a><!--MD5=[60a26617385b1d2d0262a64233df1f8d]\n",
       "class E6--><a href=\"psysml:8965b7df-293c-4ee2-9b2b-715c01154c80\" target=\"_top\" title=\"psysml:8965b7df-293c-4ee2-9b2b-715c01154c80\" xlink:actuate=\"onRequest\" xlink:href=\"psysml:8965b7df-293c-4ee2-9b2b-715c01154c80\" xlink:show=\"new\" xlink:title=\"psysml:8965b7df-293c-4ee2-9b2b-715c01154c80\" xlink:type=\"simple\"><rect fill=\"#FFFFFF\" height=\"45.9375\" id=\"E6\" rx=\"10\" ry=\"10\" style=\"stroke: #383838; stroke-width: 1.5;\" width=\"42\" x=\"91\" y=\"147\"/><text fill=\"#000000\" font-family=\"sans-serif\" font-size=\"12\" font-style=\"italic\" lengthAdjust=\"spacingAndGlyphs\" textLength=\"40\" x=\"92\" y=\"163.1387\">«port»</text><text fill=\"#000000\" font-family=\"sans-serif\" font-size=\"12\" lengthAdjust=\"spacingAndGlyphs\" textLength=\"24\" x=\"100\" y=\"177.1074\">po1</text><line style=\"stroke: #383838; stroke-width: 1.5;\" x1=\"92\" x2=\"132\" y1=\"184.9375\" y2=\"184.9375\"/></a><!--MD5=[2156ba9850f5573cc1fc38a6a4b2f02b]\n",
       "class E7--><a href=\"psysml:77eadb46-ce1a-4e0f-9527-bb06765d2ea7\" target=\"_top\" title=\"psysml:77eadb46-ce1a-4e0f-9527-bb06765d2ea7\" xlink:actuate=\"onRequest\" xlink:href=\"psysml:77eadb46-ce1a-4e0f-9527-bb06765d2ea7\" xlink:show=\"new\" xlink:title=\"psysml:77eadb46-ce1a-4e0f-9527-bb06765d2ea7\" xlink:type=\"simple\"><rect fill=\"#FFFFFF\" height=\"45.9375\" id=\"E7\" rx=\"10\" ry=\"10\" style=\"stroke: #383838; stroke-width: 1.5;\" width=\"46\" x=\"32\" y=\"41\"/><text fill=\"#000000\" font-family=\"sans-serif\" font-size=\"12\" font-style=\"italic\" lengthAdjust=\"spacingAndGlyphs\" textLength=\"40\" x=\"35\" y=\"57.1387\">«part»</text><text fill=\"#000000\" font-family=\"sans-serif\" font-size=\"12\" lengthAdjust=\"spacingAndGlyphs\" textLength=\"40\" x=\"35\" y=\"71.1074\">p2: P1</text><line style=\"stroke: #383838; stroke-width: 1.5;\" x1=\"33\" x2=\"77\" y1=\"78.9375\" y2=\"78.9375\"/></a><!--MD5=[b9389687b975829384b498ac4b7476b2]\n",
       "class E8--><a href=\"psysml:db28622a-fbe8-4c7d-8fe4-9e164802e944\" target=\"_top\" title=\"psysml:db28622a-fbe8-4c7d-8fe4-9e164802e944\" xlink:actuate=\"onRequest\" xlink:href=\"psysml:db28622a-fbe8-4c7d-8fe4-9e164802e944\" xlink:show=\"new\" xlink:title=\"psysml:db28622a-fbe8-4c7d-8fe4-9e164802e944\" xlink:type=\"simple\"><rect fill=\"#FFFFFF\" height=\"45.9375\" id=\"E8\" rx=\"10\" ry=\"10\" style=\"stroke: #383838; stroke-width: 1.5;\" width=\"42\" x=\"63\" y=\"253\"/><text fill=\"#000000\" font-family=\"sans-serif\" font-size=\"12\" font-style=\"italic\" lengthAdjust=\"spacingAndGlyphs\" textLength=\"40\" x=\"64\" y=\"269.1387\">«port»</text><text fill=\"#000000\" font-family=\"sans-serif\" font-size=\"12\" lengthAdjust=\"spacingAndGlyphs\" textLength=\"36\" x=\"66\" y=\"283.1074\">pdest</text><line style=\"stroke: #383838; stroke-width: 1.5;\" x1=\"64\" x2=\"104\" y1=\"290.9375\" y2=\"290.9375\"/></a><!--MD5=[4672eba38e49728da53d11aeb285b987]\n",
       "reverse link E3 to E4--><a href=\"psysml:10297d07-57fa-4f9d-a873-bd76f542a35c\" target=\"_top\" title=\"psysml:10297d07-57fa-4f9d-a873-bd76f542a35c\" xlink:actuate=\"onRequest\" xlink:href=\"psysml:10297d07-57fa-4f9d-a873-bd76f542a35c\" xlink:show=\"new\" xlink:title=\"psysml:10297d07-57fa-4f9d-a873-bd76f542a35c\" xlink:type=\"simple\"><path d=\"M188.84,206.44 C187.7,221.87 188.21,239.47 190.36,252.98 \" fill=\"none\" id=\"E3&lt;-E4\" style=\"stroke: #383838; stroke-width: 1.0;\"/><polygon fill=\"#FFFFFF\" points=\"190.35,193.06,185.7032,198.5743,189.006,204.9845,193.6528,199.4702,190.35,193.06\" style=\"stroke: #383838; stroke-width: 1.0;\"/><text fill=\"#000000\" font-family=\"sans-serif\" font-size=\"13\" lengthAdjust=\"spacingAndGlyphs\" textLength=\"8\" x=\"178.4255\" y=\"241.8709\">1</text></a><!--MD5=[4672eba38e49728da53d11aeb285b987]\n",
       "reverse link E3 to E4--><a href=\"psysml:4c29fec0-8309-450b-9bf3-4a2b28b77917\" target=\"_top\" title=\"psysml:4c29fec0-8309-450b-9bf3-4a2b28b77917\" xlink:actuate=\"onRequest\" xlink:href=\"psysml:4c29fec0-8309-450b-9bf3-4a2b28b77917\" xlink:show=\"new\" xlink:title=\"psysml:4c29fec0-8309-450b-9bf3-4a2b28b77917\" xlink:type=\"simple\"><path d=\"M214.01,208.34 C215.03,223.3 214.45,240.02 212.27,252.98 \" fill=\"none\" id=\"E3&lt;-E4-1\" style=\"stroke: #383838; stroke-width: 1.0; stroke-dasharray: 7.0,7.0;\"/><ellipse cx=\"213.1693\" cy=\"201.0093\" fill=\"#FFFFFF\" rx=\"8\" ry=\"8\" style=\"stroke: #383838; stroke-width: 1.0;\"/><line style=\"stroke: #383838; stroke-width: 1.0;\" x1=\"214.0687\" x2=\"212.27\" y1=\"208.9586\" y2=\"193.06\"/><line style=\"stroke: #383838; stroke-width: 1.0;\" x1=\"205.2201\" x2=\"221.1186\" y1=\"201.9086\" y2=\"200.1099\"/><text fill=\"#000000\" font-family=\"sans-serif\" font-size=\"13\" lengthAdjust=\"spacingAndGlyphs\" textLength=\"8\" x=\"206.2238\" y=\"241.8709\">1</text></a><!--MD5=[e9be52314489bd878ff4c7144b63c9e1]\n",
       "link E5 to E3--><a href=\"psysml:93a52ea3-a140-4bd2-b924-ec5ad15b1b7e\" target=\"_top\" title=\"psysml:93a52ea3-a140-4bd2-b924-ec5ad15b1b7e\" xlink:actuate=\"onRequest\" xlink:href=\"psysml:93a52ea3-a140-4bd2-b924-ec5ad15b1b7e\" xlink:show=\"new\" xlink:title=\"psysml:93a52ea3-a140-4bd2-b924-ec5ad15b1b7e\" xlink:type=\"simple\"><path d=\"M149.78,87.06 C157.54,99.47 167.45,115.33 176.49,129.78 \" fill=\"none\" id=\"E5-&gt;E3\" style=\"stroke: #383838; stroke-width: 1.0;\"/><polygon fill=\"#FFFFFF\" points=\"187.24,146.98,171.2331,134.5792,183.1045,127.1584,187.24,146.98\" style=\"stroke: #383838; stroke-width: 1.0;\"/><ellipse cx=\"169.9076\" cy=\"128.6857\" fill=\"#383838\" rx=\"2\" ry=\"2\" style=\"stroke: #383838; stroke-width: 1.0;\"/><ellipse cx=\"178.3872\" cy=\"123.3851\" fill=\"#383838\" rx=\"2\" ry=\"2\" style=\"stroke: #383838; stroke-width: 1.0;\"/></a><!--MD5=[85d356282659285ab4b2cfe2f634dd2b]\n",
       "reverse link E5 to E6--><a href=\"psysml:cdcbbeec-90be-4e1d-8c60-d92c8a6a7077\" target=\"_top\" title=\"psysml:cdcbbeec-90be-4e1d-8c60-d92c8a6a7077\" xlink:actuate=\"onRequest\" xlink:href=\"psysml:cdcbbeec-90be-4e1d-8c60-d92c8a6a7077\" xlink:show=\"new\" xlink:title=\"psysml:cdcbbeec-90be-4e1d-8c60-d92c8a6a7077\" xlink:type=\"simple\"><path d=\"M127.93,99.96 C124.34,115.51 120.23,133.33 117.08,146.98 \" fill=\"none\" id=\"E5&lt;-E6\" style=\"stroke: #383838; stroke-width: 1.0;\"/><polygon fill=\"#FFFFFF\" points=\"130.91,87.06,125.6616,92.0052,128.2078,98.7518,133.4562,93.8066,130.91,87.06\" style=\"stroke: #383838; stroke-width: 1.0;\"/><text fill=\"#000000\" font-family=\"sans-serif\" font-size=\"13\" lengthAdjust=\"spacingAndGlyphs\" textLength=\"8\" x=\"109.3703\" y=\"135.8709\">1</text></a><!--MD5=[f667431f98296947986a1a7595a31603]\n",
       "link E6 to E4--><a href=\"psysml:b5614b00-f88c-4f87-85f7-609ca7f17bae\" target=\"_top\" title=\"psysml:b5614b00-f88c-4f87-85f7-609ca7f17bae\" xlink:actuate=\"onRequest\" xlink:href=\"psysml:b5614b00-f88c-4f87-85f7-609ca7f17bae\" xlink:show=\"new\" xlink:title=\"psysml:b5614b00-f88c-4f87-85f7-609ca7f17bae\" xlink:type=\"simple\"><path d=\"M130.87,193.06 C141.97,206.02 156.28,222.74 169.08,237.7 \" fill=\"none\" id=\"E6-&gt;E4\" style=\"stroke: #383838; stroke-width: 1.0;\"/><polygon fill=\"#FFFFFF\" points=\"182.15,252.98,164.4809,243.0905,175.1204,233.9909,182.15,252.98\" style=\"stroke: #383838; stroke-width: 1.0;\"/><line style=\"stroke: #383838; stroke-width: 2.0;\" x1=\"162.011\" x2=\"172.6505\" y1=\"240.2026\" y2=\"231.1031\"/></a><!--MD5=[14ccda38c055a5c0da953d572bc50960]\n",
       "link E7 to E3--><a href=\"psysml:87c48ed5-bc50-48bb-899d-f807bfcdc26e\" target=\"_top\" title=\"psysml:87c48ed5-bc50-48bb-899d-f807bfcdc26e\" xlink:actuate=\"onRequest\" xlink:href=\"psysml:87c48ed5-bc50-48bb-899d-f807bfcdc26e\" xlink:show=\"new\" xlink:title=\"psysml:87c48ed5-bc50-48bb-899d-f807bfcdc26e\" xlink:type=\"simple\"><path d=\"M78.13,81.48 C98.32,95.86 128.25,117.18 153.52,135.18 \" fill=\"none\" id=\"E7-&gt;E3\" style=\"stroke: #383838; stroke-width: 1.0;\"/><polygon fill=\"#FFFFFF\" points=\"170.09,146.98,150.5533,141.6586,158.6755,130.2555,170.09,146.98\" style=\"stroke: #383838; stroke-width: 1.0;\"/><ellipse cx=\"147.0709\" cy=\"136.7227\" fill=\"#383838\" rx=\"2\" ry=\"2\" style=\"stroke: #383838; stroke-width: 1.0;\"/><ellipse cx=\"152.8725\" cy=\"128.5776\" fill=\"#383838\" rx=\"2\" ry=\"2\" style=\"stroke: #383838; stroke-width: 1.0;\"/></a><!--MD5=[dc164f5e8a733ab456ef1add180e9e34]\n",
       "reverse link E7 to E8--><a href=\"psysml:5ff6c459-66f7-4338-82bb-16aa2b22f6b4\" target=\"_top\" title=\"psysml:5ff6c459-66f7-4338-82bb-16aa2b22f6b4\" xlink:actuate=\"onRequest\" xlink:href=\"psysml:5ff6c459-66f7-4338-82bb-16aa2b22f6b4\" xlink:show=\"new\" xlink:title=\"psysml:5ff6c459-66f7-4338-82bb-16aa2b22f6b4\" xlink:type=\"simple\"><path d=\"M50.05,100.09 C51.65,143.61 62.25,216.5 72.75,252.9 \" fill=\"none\" id=\"E7&lt;-E8\" style=\"stroke: #383838; stroke-width: 1.0;\"/><polygon fill=\"#FFFFFF\" points=\"49.85,87.08,45.9362,93.1366,50.0216,99.0788,53.9354,93.0222,49.85,87.08\" style=\"stroke: #383838; stroke-width: 1.0;\"/><text fill=\"#000000\" font-family=\"sans-serif\" font-size=\"13\" lengthAdjust=\"spacingAndGlyphs\" textLength=\"8\" x=\"60.6516\" y=\"241.7694\">1</text></a><!--MD5=[dc164f5e8a733ab456ef1add180e9e34]\n",
       "reverse link E7 to E8--><a href=\"psysml:4eb1c616-a5a7-47d5-8985-e84491dc2120\" target=\"_top\" title=\"psysml:4eb1c616-a5a7-47d5-8985-e84491dc2120\" xlink:actuate=\"onRequest\" xlink:href=\"psysml:4eb1c616-a5a7-47d5-8985-e84491dc2120\" xlink:show=\"new\" xlink:title=\"psysml:4eb1c616-a5a7-47d5-8985-e84491dc2120\" xlink:type=\"simple\"><path d=\"M70.64,101.8 C81.15,145.5 90.39,216.97 89.63,252.9 \" fill=\"none\" id=\"E7&lt;-E8-1\" style=\"stroke: #383838; stroke-width: 1.0; stroke-dasharray: 7.0,7.0;\"/><ellipse cx=\"68.7794\" cy=\"94.813\" fill=\"#FFFFFF\" rx=\"8\" ry=\"8\" style=\"stroke: #383838; stroke-width: 1.0;\"/><line style=\"stroke: #383838; stroke-width: 1.0;\" x1=\"70.8289\" x2=\"66.73\" y1=\"102.5461\" y2=\"87.08\"/><line style=\"stroke: #383838; stroke-width: 1.0;\" x1=\"61.0464\" x2=\"76.5125\" y1=\"96.8625\" y2=\"92.7636\"/><text fill=\"#000000\" font-family=\"sans-serif\" font-size=\"13\" lengthAdjust=\"spacingAndGlyphs\" textLength=\"8\" x=\"92.2181\" y=\"241.7694\">1</text></a><!--MD5=[0a839d0f80c2d72d4b9b307f046d0de8]\n",
       "link E6 to E8--><a href=\"psysml:af89f277-c22a-4acb-b9c9-7f04d6a8a86b\" target=\"_top\" title=\"psysml:af89f277-c22a-4acb-b9c9-7f04d6a8a86b\" xlink:actuate=\"onRequest\" xlink:href=\"psysml:af89f277-c22a-4acb-b9c9-7f04d6a8a86b\" xlink:show=\"new\" xlink:title=\"psysml:af89f277-c22a-4acb-b9c9-7f04d6a8a86b\" xlink:type=\"simple\"><path d=\"M95.42,193.06 C87.86,210.7 81.23,235.34 79.29,252.98 \" fill=\"none\" id=\"E6-E8\" style=\"stroke: #383838; stroke-width: 3.0;\"/><text fill=\"#000000\" font-family=\"sans-serif\" font-size=\"13\" lengthAdjust=\"spacingAndGlyphs\" textLength=\"7\" x=\"78.9648\" y=\"241.8709\">*</text></a><!--MD5=[0a839d0f80c2d72d4b9b307f046d0de8]\n",
       "link E6 to E8--><a href=\"psysml:6818c790-7ee4-49fa-b866-28c88d0d2e1e\" target=\"_top\" title=\"psysml:6818c790-7ee4-49fa-b866-28c88d0d2e1e\" xlink:actuate=\"onRequest\" xlink:href=\"psysml:6818c790-7ee4-49fa-b866-28c88d0d2e1e\" xlink:show=\"new\" xlink:title=\"psysml:6818c790-7ee4-49fa-b866-28c88d0d2e1e\" xlink:type=\"simple\"><path d=\"M117.33,193.06 C115.55,210.7 108.92,235.34 101.2,252.98 \" fill=\"none\" id=\"E6-E8-1\" style=\"stroke: #383838; stroke-width: 3.0;\"/><text fill=\"#000000\" font-family=\"sans-serif\" font-size=\"13\" lengthAdjust=\"spacingAndGlyphs\" textLength=\"7\" x=\"97.8819\" y=\"241.8709\">*</text></a><!--MD5=[2a9e875b7a79920f99fe9a108b410b09]\n",
       "@startuml\r\n",
       "skinparam monochrome true\r\n",
       "skinparam classbackgroundcolor white\r\n",
       "skinparam shadowing false\r\n",
       "skinparam wrapWidth 300\r\n",
       "hide circle\r\n",
       "\r\n",
       "package \"AliasTest\" as E1  [[psysml:7e4311dd-4dd4-41de-a431-b17c5d614850 ]]  {\r\n",
       "comp usage \"q\" as E2  <<(T,blue) attribute>> [[psysml:789c28e5-5e95-405e-84fa-948507b238dc ]] {\r\n",
       "}\r\n",
       "comp def \"P1\" as E3  <<(T,blue) part def>> [[psysml:00588ae4-2df7-4d57-b3d7-e09c73d2d5b1 ]] {\r\n",
       "}\r\n",
       "comp usage \"porig1\" as E4  <<(T,blue) port>> [[psysml:236a437d-3673-4742-905a-959f5dd42893 ]] {\r\n",
       "}\r\n",
       "comp usage \"p1: P1\" as E5  <<(T,blue) part>> [[psysml:4e54ee4d-012b-498f-93d7-1afb3759d34d ]] {\r\n",
       "}\r\n",
       "comp usage \"po1\" as E6  <<(T,blue) port>> [[psysml:8965b7df-293c-4ee2-9b2b-715c01154c80 ]] {\r\n",
       "}\r\n",
       "comp usage \"p2: P1\" as E7  <<(T,blue) part>> [[psysml:77eadb46-ce1a-4e0f-9527-bb06765d2ea7 ]] {\r\n",
       "}\r\n",
       "comp usage \"pdest\" as E8  <<(T,blue) port>> [[psysml:db28622a-fbe8-4c7d-8fe4-9e164802e944 ]] {\r\n",
       "}\r\n",
       "E3 o- - \"1\"E4 [[psysml:10297d07-57fa-4f9d-a873-bd76f542a35c ]] \r\n",
       "E3 +.. \"1\"E4 [[psysml:4c29fec0-8309-450b-9bf3-4a2b28b77917 ]] \r\n",
       "E5 - -:|> E3 [[psysml:93a52ea3-a140-4bd2-b924-ec5ad15b1b7e ]] \r\n",
       "E5 o- - \"1\"E6 [[psysml:cdcbbeec-90be-4e1d-8c60-d92c8a6a7077 ]] \r\n",
       "E6 - -||> E4 [[psysml:b5614b00-f88c-4f87-85f7-609ca7f17bae ]] \r\n",
       "E7 - -:|> E3 [[psysml:87c48ed5-bc50-48bb-899d-f807bfcdc26e ]] \r\n",
       "E7 o- - \"1\"E8 [[psysml:5ff6c459-66f7-4338-82bb-16aa2b22f6b4 ]] \r\n",
       "E7 +.. \"1\"E8 [[psysml:4eb1c616-a5a7-47d5-8985-e84491dc2120 ]] \r\n",
       "E6 -[thickness=3]- \"*\"E8 [[psysml:af89f277-c22a-4acb-b9c9-7f04d6a8a86b ]] \r\n",
       "E6 -[thickness=3]- \"*\"E8 [[psysml:6818c790-7ee4-49fa-b866-28c88d0d2e1e ]] \r\n",
       "}\r\n",
       "@enduml\r\n",
       "\n",
       "PlantUML version 1.2020.13(Sat Jun 13 12:26:38 UTC 2020)\n",
       "(EPL source distribution)\n",
       "Java Runtime: OpenJDK Runtime Environment\n",
       "JVM: OpenJDK 64-Bit Server VM\n",
       "Default Encoding: UTF-8\n",
       "Language: en\n",
       "Country: null\n",
       "--></g></svg>"
      ]
     },
     "execution_count": 43,
     "metadata": {},
     "output_type": "execute_result"
    }
   ],
   "source": [
    "%viz --style=\"DEFAULT\" --view=\"MIXED\" \"AliasTest\""
   ]
  },
  {
   "cell_type": "code",
   "execution_count": 44,
   "id": "4a0b9afb",
   "metadata": {
    "execution": {
     "iopub.execute_input": "2021-08-04T06:25:33.096982Z",
     "iopub.status.busy": "2021-08-04T06:25:33.096556Z",
     "iopub.status.idle": "2021-08-04T06:25:33.131160Z",
     "shell.execute_reply": "2021-08-04T06:25:33.129801Z"
    }
   },
   "outputs": [
    {
     "data": {
      "image/svg+xml": [
       "<?xml version=\"1.0\" encoding=\"UTF-8\" standalone=\"no\"?><svg xmlns=\"http://www.w3.org/2000/svg\" xmlns:xlink=\"http://www.w3.org/1999/xlink\" contentScriptType=\"application/ecmascript\" contentStyleType=\"text/css\" height=\"327px\" preserveAspectRatio=\"none\" style=\"width:304px;height:327px;\" version=\"1.1\" viewBox=\"0 0 304 327\" width=\"304px\" zoomAndPan=\"magnify\"><defs/><g><!--MD5=[fbc87193dbaf4d95561dea2c320d4a47]\n",
       "cluster E1--><a href=\"psysml:7e4311dd-4dd4-41de-a431-b17c5d614850\" target=\"_top\" title=\"psysml:7e4311dd-4dd4-41de-a431-b17c5d614850\" xlink:actuate=\"onRequest\" xlink:href=\"psysml:7e4311dd-4dd4-41de-a431-b17c5d614850\" xlink:show=\"new\" xlink:title=\"psysml:7e4311dd-4dd4-41de-a431-b17c5d614850\" xlink:type=\"simple\"><polygon fill=\"#FFFFFF\" points=\"16,6,94,6,101,28.2969,282,28.2969,282,315,16,315,16,6\" style=\"stroke: #000000; stroke-width: 1.5;\"/><line style=\"stroke: #000000; stroke-width: 1.5;\" x1=\"16\" x2=\"101\" y1=\"28.2969\" y2=\"28.2969\"/><text fill=\"#000000\" font-family=\"sans-serif\" font-size=\"14\" font-weight=\"bold\" lengthAdjust=\"spacingAndGlyphs\" textLength=\"72\" x=\"20\" y=\"20.9951\">AliasTest</text></a><!--MD5=[b4997ac47864f28c2f74865a473b2911]\n",
       "class E2--><a href=\"psysml:789c28e5-5e95-405e-84fa-948507b238dc\" target=\"_top\" title=\"psysml:789c28e5-5e95-405e-84fa-948507b238dc\" xlink:actuate=\"onRequest\" xlink:href=\"psysml:789c28e5-5e95-405e-84fa-948507b238dc\" xlink:show=\"new\" xlink:title=\"psysml:789c28e5-5e95-405e-84fa-948507b238dc\" xlink:type=\"simple\"><rect fill=\"#FFFFFF\" height=\"45.9375\" id=\"E2\" rx=\"10\" ry=\"10\" style=\"stroke: #383838; stroke-width: 1.5;\" width=\"71\" x=\"194.5\" y=\"41\"/><text fill=\"#000000\" font-family=\"sans-serif\" font-size=\"12\" font-style=\"italic\" lengthAdjust=\"spacingAndGlyphs\" textLength=\"69\" x=\"195.5\" y=\"57.1387\">«attribute»</text><text fill=\"#000000\" font-family=\"sans-serif\" font-size=\"12\" lengthAdjust=\"spacingAndGlyphs\" textLength=\"8\" x=\"226\" y=\"71.1074\">q</text><line style=\"stroke: #383838; stroke-width: 1.5;\" x1=\"195.5\" x2=\"264.5\" y1=\"78.9375\" y2=\"78.9375\"/></a><!--MD5=[09b614a08d8cba4a07c9adeb5e0fee81]\n",
       "class E3--><a href=\"psysml:00588ae4-2df7-4d57-b3d7-e09c73d2d5b1\" target=\"_top\" title=\"psysml:00588ae4-2df7-4d57-b3d7-e09c73d2d5b1\" xlink:actuate=\"onRequest\" xlink:href=\"psysml:00588ae4-2df7-4d57-b3d7-e09c73d2d5b1\" xlink:show=\"new\" xlink:title=\"psysml:00588ae4-2df7-4d57-b3d7-e09c73d2d5b1\" xlink:type=\"simple\"><rect fill=\"#FFFFFF\" height=\"45.9375\" id=\"E3\" style=\"stroke: #383838; stroke-width: 1.5;\" width=\"66\" x=\"168\" y=\"147\"/><text fill=\"#000000\" font-family=\"sans-serif\" font-size=\"12\" font-style=\"italic\" lengthAdjust=\"spacingAndGlyphs\" textLength=\"64\" x=\"169\" y=\"163.1387\">«part def»</text><text fill=\"#000000\" font-family=\"sans-serif\" font-size=\"12\" lengthAdjust=\"spacingAndGlyphs\" textLength=\"16\" x=\"193\" y=\"177.1074\">P1</text><line style=\"stroke: #383838; stroke-width: 1.5;\" x1=\"169\" x2=\"233\" y1=\"184.9375\" y2=\"184.9375\"/></a><!--MD5=[ebbe1d658d1005bcc118a6aa81145e00]\n",
       "class E4--><a href=\"psysml:236a437d-3673-4742-905a-959f5dd42893\" target=\"_top\" title=\"psysml:236a437d-3673-4742-905a-959f5dd42893\" xlink:actuate=\"onRequest\" xlink:href=\"psysml:236a437d-3673-4742-905a-959f5dd42893\" xlink:show=\"new\" xlink:title=\"psysml:236a437d-3673-4742-905a-959f5dd42893\" xlink:type=\"simple\"><rect fill=\"#FFFFFF\" height=\"45.9375\" id=\"E4\" rx=\"10\" ry=\"10\" style=\"stroke: #383838; stroke-width: 1.5;\" width=\"46\" x=\"178\" y=\"253\"/><text fill=\"#000000\" font-family=\"sans-serif\" font-size=\"12\" font-style=\"italic\" lengthAdjust=\"spacingAndGlyphs\" textLength=\"40\" x=\"181\" y=\"269.1387\">«port»</text><text fill=\"#000000\" font-family=\"sans-serif\" font-size=\"12\" lengthAdjust=\"spacingAndGlyphs\" textLength=\"40\" x=\"181\" y=\"283.1074\">porig1</text><line style=\"stroke: #383838; stroke-width: 1.5;\" x1=\"179\" x2=\"223\" y1=\"290.9375\" y2=\"290.9375\"/></a><!--MD5=[270fce915f116d4de14055a7c1d9a0f3]\n",
       "class E5--><a href=\"psysml:4e54ee4d-012b-498f-93d7-1afb3759d34d\" target=\"_top\" title=\"psysml:4e54ee4d-012b-498f-93d7-1afb3759d34d\" xlink:actuate=\"onRequest\" xlink:href=\"psysml:4e54ee4d-012b-498f-93d7-1afb3759d34d\" xlink:show=\"new\" xlink:title=\"psysml:4e54ee4d-012b-498f-93d7-1afb3759d34d\" xlink:type=\"simple\"><rect fill=\"#FFFFFF\" height=\"45.9375\" id=\"E5\" rx=\"10\" ry=\"10\" style=\"stroke: #383838; stroke-width: 1.5;\" width=\"46\" x=\"113\" y=\"41\"/><text fill=\"#000000\" font-family=\"sans-serif\" font-size=\"12\" font-style=\"italic\" lengthAdjust=\"spacingAndGlyphs\" textLength=\"40\" x=\"116\" y=\"57.1387\">«part»</text><text fill=\"#000000\" font-family=\"sans-serif\" font-size=\"12\" lengthAdjust=\"spacingAndGlyphs\" textLength=\"40\" x=\"116\" y=\"71.1074\">p1: P1</text><line style=\"stroke: #383838; stroke-width: 1.5;\" x1=\"114\" x2=\"158\" y1=\"78.9375\" y2=\"78.9375\"/></a><!--MD5=[60a26617385b1d2d0262a64233df1f8d]\n",
       "class E6--><a href=\"psysml:8965b7df-293c-4ee2-9b2b-715c01154c80\" target=\"_top\" title=\"psysml:8965b7df-293c-4ee2-9b2b-715c01154c80\" xlink:actuate=\"onRequest\" xlink:href=\"psysml:8965b7df-293c-4ee2-9b2b-715c01154c80\" xlink:show=\"new\" xlink:title=\"psysml:8965b7df-293c-4ee2-9b2b-715c01154c80\" xlink:type=\"simple\"><rect fill=\"#FFFFFF\" height=\"45.9375\" id=\"E6\" rx=\"10\" ry=\"10\" style=\"stroke: #383838; stroke-width: 1.5;\" width=\"42\" x=\"91\" y=\"147\"/><text fill=\"#000000\" font-family=\"sans-serif\" font-size=\"12\" font-style=\"italic\" lengthAdjust=\"spacingAndGlyphs\" textLength=\"40\" x=\"92\" y=\"163.1387\">«port»</text><text fill=\"#000000\" font-family=\"sans-serif\" font-size=\"12\" lengthAdjust=\"spacingAndGlyphs\" textLength=\"24\" x=\"100\" y=\"177.1074\">po1</text><line style=\"stroke: #383838; stroke-width: 1.5;\" x1=\"92\" x2=\"132\" y1=\"184.9375\" y2=\"184.9375\"/></a><!--MD5=[2156ba9850f5573cc1fc38a6a4b2f02b]\n",
       "class E7--><a href=\"psysml:77eadb46-ce1a-4e0f-9527-bb06765d2ea7\" target=\"_top\" title=\"psysml:77eadb46-ce1a-4e0f-9527-bb06765d2ea7\" xlink:actuate=\"onRequest\" xlink:href=\"psysml:77eadb46-ce1a-4e0f-9527-bb06765d2ea7\" xlink:show=\"new\" xlink:title=\"psysml:77eadb46-ce1a-4e0f-9527-bb06765d2ea7\" xlink:type=\"simple\"><rect fill=\"#FFFFFF\" height=\"45.9375\" id=\"E7\" rx=\"10\" ry=\"10\" style=\"stroke: #383838; stroke-width: 1.5;\" width=\"46\" x=\"32\" y=\"41\"/><text fill=\"#000000\" font-family=\"sans-serif\" font-size=\"12\" font-style=\"italic\" lengthAdjust=\"spacingAndGlyphs\" textLength=\"40\" x=\"35\" y=\"57.1387\">«part»</text><text fill=\"#000000\" font-family=\"sans-serif\" font-size=\"12\" lengthAdjust=\"spacingAndGlyphs\" textLength=\"40\" x=\"35\" y=\"71.1074\">p2: P1</text><line style=\"stroke: #383838; stroke-width: 1.5;\" x1=\"33\" x2=\"77\" y1=\"78.9375\" y2=\"78.9375\"/></a><!--MD5=[b9389687b975829384b498ac4b7476b2]\n",
       "class E8--><a href=\"psysml:db28622a-fbe8-4c7d-8fe4-9e164802e944\" target=\"_top\" title=\"psysml:db28622a-fbe8-4c7d-8fe4-9e164802e944\" xlink:actuate=\"onRequest\" xlink:href=\"psysml:db28622a-fbe8-4c7d-8fe4-9e164802e944\" xlink:show=\"new\" xlink:title=\"psysml:db28622a-fbe8-4c7d-8fe4-9e164802e944\" xlink:type=\"simple\"><rect fill=\"#FFFFFF\" height=\"45.9375\" id=\"E8\" rx=\"10\" ry=\"10\" style=\"stroke: #383838; stroke-width: 1.5;\" width=\"42\" x=\"63\" y=\"253\"/><text fill=\"#000000\" font-family=\"sans-serif\" font-size=\"12\" font-style=\"italic\" lengthAdjust=\"spacingAndGlyphs\" textLength=\"40\" x=\"64\" y=\"269.1387\">«port»</text><text fill=\"#000000\" font-family=\"sans-serif\" font-size=\"12\" lengthAdjust=\"spacingAndGlyphs\" textLength=\"36\" x=\"66\" y=\"283.1074\">pdest</text><line style=\"stroke: #383838; stroke-width: 1.5;\" x1=\"64\" x2=\"104\" y1=\"290.9375\" y2=\"290.9375\"/></a><!--MD5=[4672eba38e49728da53d11aeb285b987]\n",
       "reverse link E3 to E4--><a href=\"psysml:10297d07-57fa-4f9d-a873-bd76f542a35c\" target=\"_top\" title=\"psysml:10297d07-57fa-4f9d-a873-bd76f542a35c\" xlink:actuate=\"onRequest\" xlink:href=\"psysml:10297d07-57fa-4f9d-a873-bd76f542a35c\" xlink:show=\"new\" xlink:title=\"psysml:10297d07-57fa-4f9d-a873-bd76f542a35c\" xlink:type=\"simple\"><path d=\"M188.84,206.44 C187.7,221.87 188.21,239.47 190.36,252.98 \" fill=\"none\" id=\"E3&lt;-E4\" style=\"stroke: #383838; stroke-width: 1.0;\"/><polygon fill=\"#FFFFFF\" points=\"190.35,193.06,185.7032,198.5743,189.006,204.9845,193.6528,199.4702,190.35,193.06\" style=\"stroke: #383838; stroke-width: 1.0;\"/><text fill=\"#000000\" font-family=\"sans-serif\" font-size=\"13\" lengthAdjust=\"spacingAndGlyphs\" textLength=\"8\" x=\"178.4255\" y=\"241.8709\">1</text></a><!--MD5=[4672eba38e49728da53d11aeb285b987]\n",
       "reverse link E3 to E4--><a href=\"psysml:4c29fec0-8309-450b-9bf3-4a2b28b77917\" target=\"_top\" title=\"psysml:4c29fec0-8309-450b-9bf3-4a2b28b77917\" xlink:actuate=\"onRequest\" xlink:href=\"psysml:4c29fec0-8309-450b-9bf3-4a2b28b77917\" xlink:show=\"new\" xlink:title=\"psysml:4c29fec0-8309-450b-9bf3-4a2b28b77917\" xlink:type=\"simple\"><path d=\"M214.01,208.34 C215.03,223.3 214.45,240.02 212.27,252.98 \" fill=\"none\" id=\"E3&lt;-E4-1\" style=\"stroke: #383838; stroke-width: 1.0; stroke-dasharray: 7.0,7.0;\"/><ellipse cx=\"213.1693\" cy=\"201.0093\" fill=\"#FFFFFF\" rx=\"8\" ry=\"8\" style=\"stroke: #383838; stroke-width: 1.0;\"/><line style=\"stroke: #383838; stroke-width: 1.0;\" x1=\"214.0687\" x2=\"212.27\" y1=\"208.9586\" y2=\"193.06\"/><line style=\"stroke: #383838; stroke-width: 1.0;\" x1=\"205.2201\" x2=\"221.1186\" y1=\"201.9086\" y2=\"200.1099\"/><text fill=\"#000000\" font-family=\"sans-serif\" font-size=\"13\" lengthAdjust=\"spacingAndGlyphs\" textLength=\"8\" x=\"206.2238\" y=\"241.8709\">1</text></a><!--MD5=[e9be52314489bd878ff4c7144b63c9e1]\n",
       "link E5 to E3--><a href=\"psysml:93a52ea3-a140-4bd2-b924-ec5ad15b1b7e\" target=\"_top\" title=\"psysml:93a52ea3-a140-4bd2-b924-ec5ad15b1b7e\" xlink:actuate=\"onRequest\" xlink:href=\"psysml:93a52ea3-a140-4bd2-b924-ec5ad15b1b7e\" xlink:show=\"new\" xlink:title=\"psysml:93a52ea3-a140-4bd2-b924-ec5ad15b1b7e\" xlink:type=\"simple\"><path d=\"M149.78,87.06 C157.54,99.47 167.45,115.33 176.49,129.78 \" fill=\"none\" id=\"E5-&gt;E3\" style=\"stroke: #383838; stroke-width: 1.0;\"/><polygon fill=\"#FFFFFF\" points=\"187.24,146.98,171.2331,134.5792,183.1045,127.1584,187.24,146.98\" style=\"stroke: #383838; stroke-width: 1.0;\"/><ellipse cx=\"169.9076\" cy=\"128.6857\" fill=\"#383838\" rx=\"2\" ry=\"2\" style=\"stroke: #383838; stroke-width: 1.0;\"/><ellipse cx=\"178.3872\" cy=\"123.3851\" fill=\"#383838\" rx=\"2\" ry=\"2\" style=\"stroke: #383838; stroke-width: 1.0;\"/></a><!--MD5=[85d356282659285ab4b2cfe2f634dd2b]\n",
       "reverse link E5 to E6--><a href=\"psysml:cdcbbeec-90be-4e1d-8c60-d92c8a6a7077\" target=\"_top\" title=\"psysml:cdcbbeec-90be-4e1d-8c60-d92c8a6a7077\" xlink:actuate=\"onRequest\" xlink:href=\"psysml:cdcbbeec-90be-4e1d-8c60-d92c8a6a7077\" xlink:show=\"new\" xlink:title=\"psysml:cdcbbeec-90be-4e1d-8c60-d92c8a6a7077\" xlink:type=\"simple\"><path d=\"M127.93,99.96 C124.34,115.51 120.23,133.33 117.08,146.98 \" fill=\"none\" id=\"E5&lt;-E6\" style=\"stroke: #383838; stroke-width: 1.0;\"/><polygon fill=\"#FFFFFF\" points=\"130.91,87.06,125.6616,92.0052,128.2078,98.7518,133.4562,93.8066,130.91,87.06\" style=\"stroke: #383838; stroke-width: 1.0;\"/><text fill=\"#000000\" font-family=\"sans-serif\" font-size=\"13\" lengthAdjust=\"spacingAndGlyphs\" textLength=\"8\" x=\"109.3703\" y=\"135.8709\">1</text></a><!--MD5=[f667431f98296947986a1a7595a31603]\n",
       "link E6 to E4--><a href=\"psysml:b5614b00-f88c-4f87-85f7-609ca7f17bae\" target=\"_top\" title=\"psysml:b5614b00-f88c-4f87-85f7-609ca7f17bae\" xlink:actuate=\"onRequest\" xlink:href=\"psysml:b5614b00-f88c-4f87-85f7-609ca7f17bae\" xlink:show=\"new\" xlink:title=\"psysml:b5614b00-f88c-4f87-85f7-609ca7f17bae\" xlink:type=\"simple\"><path d=\"M130.87,193.06 C141.97,206.02 156.28,222.74 169.08,237.7 \" fill=\"none\" id=\"E6-&gt;E4\" style=\"stroke: #383838; stroke-width: 1.0;\"/><polygon fill=\"#FFFFFF\" points=\"182.15,252.98,164.4809,243.0905,175.1204,233.9909,182.15,252.98\" style=\"stroke: #383838; stroke-width: 1.0;\"/><line style=\"stroke: #383838; stroke-width: 2.0;\" x1=\"162.011\" x2=\"172.6505\" y1=\"240.2026\" y2=\"231.1031\"/></a><!--MD5=[14ccda38c055a5c0da953d572bc50960]\n",
       "link E7 to E3--><a href=\"psysml:87c48ed5-bc50-48bb-899d-f807bfcdc26e\" target=\"_top\" title=\"psysml:87c48ed5-bc50-48bb-899d-f807bfcdc26e\" xlink:actuate=\"onRequest\" xlink:href=\"psysml:87c48ed5-bc50-48bb-899d-f807bfcdc26e\" xlink:show=\"new\" xlink:title=\"psysml:87c48ed5-bc50-48bb-899d-f807bfcdc26e\" xlink:type=\"simple\"><path d=\"M78.13,81.48 C98.32,95.86 128.25,117.18 153.52,135.18 \" fill=\"none\" id=\"E7-&gt;E3\" style=\"stroke: #383838; stroke-width: 1.0;\"/><polygon fill=\"#FFFFFF\" points=\"170.09,146.98,150.5533,141.6586,158.6755,130.2555,170.09,146.98\" style=\"stroke: #383838; stroke-width: 1.0;\"/><ellipse cx=\"147.0709\" cy=\"136.7227\" fill=\"#383838\" rx=\"2\" ry=\"2\" style=\"stroke: #383838; stroke-width: 1.0;\"/><ellipse cx=\"152.8725\" cy=\"128.5776\" fill=\"#383838\" rx=\"2\" ry=\"2\" style=\"stroke: #383838; stroke-width: 1.0;\"/></a><!--MD5=[dc164f5e8a733ab456ef1add180e9e34]\n",
       "reverse link E7 to E8--><a href=\"psysml:5ff6c459-66f7-4338-82bb-16aa2b22f6b4\" target=\"_top\" title=\"psysml:5ff6c459-66f7-4338-82bb-16aa2b22f6b4\" xlink:actuate=\"onRequest\" xlink:href=\"psysml:5ff6c459-66f7-4338-82bb-16aa2b22f6b4\" xlink:show=\"new\" xlink:title=\"psysml:5ff6c459-66f7-4338-82bb-16aa2b22f6b4\" xlink:type=\"simple\"><path d=\"M50.05,100.09 C51.65,143.61 62.25,216.5 72.75,252.9 \" fill=\"none\" id=\"E7&lt;-E8\" style=\"stroke: #383838; stroke-width: 1.0;\"/><polygon fill=\"#FFFFFF\" points=\"49.85,87.08,45.9362,93.1366,50.0216,99.0788,53.9354,93.0222,49.85,87.08\" style=\"stroke: #383838; stroke-width: 1.0;\"/><text fill=\"#000000\" font-family=\"sans-serif\" font-size=\"13\" lengthAdjust=\"spacingAndGlyphs\" textLength=\"8\" x=\"60.6516\" y=\"241.7694\">1</text></a><!--MD5=[dc164f5e8a733ab456ef1add180e9e34]\n",
       "reverse link E7 to E8--><a href=\"psysml:4eb1c616-a5a7-47d5-8985-e84491dc2120\" target=\"_top\" title=\"psysml:4eb1c616-a5a7-47d5-8985-e84491dc2120\" xlink:actuate=\"onRequest\" xlink:href=\"psysml:4eb1c616-a5a7-47d5-8985-e84491dc2120\" xlink:show=\"new\" xlink:title=\"psysml:4eb1c616-a5a7-47d5-8985-e84491dc2120\" xlink:type=\"simple\"><path d=\"M70.64,101.8 C81.15,145.5 90.39,216.97 89.63,252.9 \" fill=\"none\" id=\"E7&lt;-E8-1\" style=\"stroke: #383838; stroke-width: 1.0; stroke-dasharray: 7.0,7.0;\"/><ellipse cx=\"68.7794\" cy=\"94.813\" fill=\"#FFFFFF\" rx=\"8\" ry=\"8\" style=\"stroke: #383838; stroke-width: 1.0;\"/><line style=\"stroke: #383838; stroke-width: 1.0;\" x1=\"70.8289\" x2=\"66.73\" y1=\"102.5461\" y2=\"87.08\"/><line style=\"stroke: #383838; stroke-width: 1.0;\" x1=\"61.0464\" x2=\"76.5125\" y1=\"96.8625\" y2=\"92.7636\"/><text fill=\"#000000\" font-family=\"sans-serif\" font-size=\"13\" lengthAdjust=\"spacingAndGlyphs\" textLength=\"8\" x=\"92.2181\" y=\"241.7694\">1</text></a><!--MD5=[0a839d0f80c2d72d4b9b307f046d0de8]\n",
       "link E6 to E8--><a href=\"psysml:af89f277-c22a-4acb-b9c9-7f04d6a8a86b\" target=\"_top\" title=\"psysml:af89f277-c22a-4acb-b9c9-7f04d6a8a86b\" xlink:actuate=\"onRequest\" xlink:href=\"psysml:af89f277-c22a-4acb-b9c9-7f04d6a8a86b\" xlink:show=\"new\" xlink:title=\"psysml:af89f277-c22a-4acb-b9c9-7f04d6a8a86b\" xlink:type=\"simple\"><path d=\"M95.42,193.06 C87.86,210.7 81.23,235.34 79.29,252.98 \" fill=\"none\" id=\"E6-E8\" style=\"stroke: #383838; stroke-width: 3.0;\"/><text fill=\"#000000\" font-family=\"sans-serif\" font-size=\"13\" lengthAdjust=\"spacingAndGlyphs\" textLength=\"7\" x=\"78.9648\" y=\"241.8709\">*</text></a><!--MD5=[0a839d0f80c2d72d4b9b307f046d0de8]\n",
       "link E6 to E8--><a href=\"psysml:6818c790-7ee4-49fa-b866-28c88d0d2e1e\" target=\"_top\" title=\"psysml:6818c790-7ee4-49fa-b866-28c88d0d2e1e\" xlink:actuate=\"onRequest\" xlink:href=\"psysml:6818c790-7ee4-49fa-b866-28c88d0d2e1e\" xlink:show=\"new\" xlink:title=\"psysml:6818c790-7ee4-49fa-b866-28c88d0d2e1e\" xlink:type=\"simple\"><path d=\"M117.33,193.06 C115.55,210.7 108.92,235.34 101.2,252.98 \" fill=\"none\" id=\"E6-E8-1\" style=\"stroke: #383838; stroke-width: 3.0;\"/><text fill=\"#000000\" font-family=\"sans-serif\" font-size=\"13\" lengthAdjust=\"spacingAndGlyphs\" textLength=\"7\" x=\"97.8819\" y=\"241.8709\">*</text></a><!--MD5=[0079100fe18cef846eb0b87eee74dcaf]\n",
       "@startuml\r\n",
       "top to bottom direction\r\n",
       "skinparam monochrome true\r\n",
       "skinparam classbackgroundcolor white\r\n",
       "skinparam shadowing false\r\n",
       "skinparam wrapWidth 300\r\n",
       "hide circle\r\n",
       "\r\n",
       "package \"AliasTest\" as E1  [[psysml:7e4311dd-4dd4-41de-a431-b17c5d614850 ]]  {\r\n",
       "comp usage \"q\" as E2  <<(T,blue) attribute>> [[psysml:789c28e5-5e95-405e-84fa-948507b238dc ]] {\r\n",
       "}\r\n",
       "comp def \"P1\" as E3  <<(T,blue) part def>> [[psysml:00588ae4-2df7-4d57-b3d7-e09c73d2d5b1 ]] {\r\n",
       "}\r\n",
       "comp usage \"porig1\" as E4  <<(T,blue) port>> [[psysml:236a437d-3673-4742-905a-959f5dd42893 ]] {\r\n",
       "}\r\n",
       "comp usage \"p1: P1\" as E5  <<(T,blue) part>> [[psysml:4e54ee4d-012b-498f-93d7-1afb3759d34d ]] {\r\n",
       "}\r\n",
       "comp usage \"po1\" as E6  <<(T,blue) port>> [[psysml:8965b7df-293c-4ee2-9b2b-715c01154c80 ]] {\r\n",
       "}\r\n",
       "comp usage \"p2: P1\" as E7  <<(T,blue) part>> [[psysml:77eadb46-ce1a-4e0f-9527-bb06765d2ea7 ]] {\r\n",
       "}\r\n",
       "comp usage \"pdest\" as E8  <<(T,blue) port>> [[psysml:db28622a-fbe8-4c7d-8fe4-9e164802e944 ]] {\r\n",
       "}\r\n",
       "E3 o- - \"1\"E4 [[psysml:10297d07-57fa-4f9d-a873-bd76f542a35c ]] \r\n",
       "E3 +.. \"1\"E4 [[psysml:4c29fec0-8309-450b-9bf3-4a2b28b77917 ]] \r\n",
       "E5 - -:|> E3 [[psysml:93a52ea3-a140-4bd2-b924-ec5ad15b1b7e ]] \r\n",
       "E5 o- - \"1\"E6 [[psysml:cdcbbeec-90be-4e1d-8c60-d92c8a6a7077 ]] \r\n",
       "E6 - -||> E4 [[psysml:b5614b00-f88c-4f87-85f7-609ca7f17bae ]] \r\n",
       "E7 - -:|> E3 [[psysml:87c48ed5-bc50-48bb-899d-f807bfcdc26e ]] \r\n",
       "E7 o- - \"1\"E8 [[psysml:5ff6c459-66f7-4338-82bb-16aa2b22f6b4 ]] \r\n",
       "E7 +.. \"1\"E8 [[psysml:4eb1c616-a5a7-47d5-8985-e84491dc2120 ]] \r\n",
       "E6 -[thickness=3]- \"*\"E8 [[psysml:af89f277-c22a-4acb-b9c9-7f04d6a8a86b ]] \r\n",
       "E6 -[thickness=3]- \"*\"E8 [[psysml:6818c790-7ee4-49fa-b866-28c88d0d2e1e ]] \r\n",
       "}\r\n",
       "@enduml\r\n",
       "\n",
       "PlantUML version 1.2020.13(Sat Jun 13 12:26:38 UTC 2020)\n",
       "(EPL source distribution)\n",
       "Java Runtime: OpenJDK Runtime Environment\n",
       "JVM: OpenJDK 64-Bit Server VM\n",
       "Default Encoding: UTF-8\n",
       "Language: en\n",
       "Country: null\n",
       "--></g></svg>"
      ]
     },
     "execution_count": 44,
     "metadata": {},
     "output_type": "execute_result"
    }
   ],
   "source": [
    "%viz --style=\"TB\" --view=\"Default\" \"AliasTest\""
   ]
  },
  {
   "cell_type": "code",
   "execution_count": 45,
   "id": "b40758f3",
   "metadata": {
    "execution": {
     "iopub.execute_input": "2021-08-04T06:25:33.180644Z",
     "iopub.status.busy": "2021-08-04T06:25:33.180222Z",
     "iopub.status.idle": "2021-08-04T06:25:33.212384Z",
     "shell.execute_reply": "2021-08-04T06:25:33.212030Z"
    }
   },
   "outputs": [
    {
     "data": {
      "image/svg+xml": [
       "<?xml version=\"1.0\" encoding=\"UTF-8\" standalone=\"no\"?><svg xmlns=\"http://www.w3.org/2000/svg\" xmlns:xlink=\"http://www.w3.org/1999/xlink\" contentScriptType=\"application/ecmascript\" contentStyleType=\"text/css\" height=\"327px\" preserveAspectRatio=\"none\" style=\"width:304px;height:327px;\" version=\"1.1\" viewBox=\"0 0 304 327\" width=\"304px\" zoomAndPan=\"magnify\"><defs/><g><!--MD5=[fbc87193dbaf4d95561dea2c320d4a47]\n",
       "cluster E1--><a href=\"psysml:7e4311dd-4dd4-41de-a431-b17c5d614850\" target=\"_top\" title=\"psysml:7e4311dd-4dd4-41de-a431-b17c5d614850\" xlink:actuate=\"onRequest\" xlink:href=\"psysml:7e4311dd-4dd4-41de-a431-b17c5d614850\" xlink:show=\"new\" xlink:title=\"psysml:7e4311dd-4dd4-41de-a431-b17c5d614850\" xlink:type=\"simple\"><polygon fill=\"#FFFFFF\" points=\"16,6,94,6,101,28.2969,282,28.2969,282,315,16,315,16,6\" style=\"stroke: #000000; stroke-width: 1.5;\"/><line style=\"stroke: #000000; stroke-width: 1.5;\" x1=\"16\" x2=\"101\" y1=\"28.2969\" y2=\"28.2969\"/><text fill=\"#000000\" font-family=\"sans-serif\" font-size=\"14\" font-weight=\"bold\" lengthAdjust=\"spacingAndGlyphs\" textLength=\"72\" x=\"20\" y=\"20.9951\">AliasTest</text></a><!--MD5=[b4997ac47864f28c2f74865a473b2911]\n",
       "class E2--><a href=\"psysml:789c28e5-5e95-405e-84fa-948507b238dc\" target=\"_top\" title=\"psysml:789c28e5-5e95-405e-84fa-948507b238dc\" xlink:actuate=\"onRequest\" xlink:href=\"psysml:789c28e5-5e95-405e-84fa-948507b238dc\" xlink:show=\"new\" xlink:title=\"psysml:789c28e5-5e95-405e-84fa-948507b238dc\" xlink:type=\"simple\"><rect fill=\"#FFFFFF\" height=\"45.9375\" id=\"E2\" rx=\"10\" ry=\"10\" style=\"stroke: #383838; stroke-width: 1.5;\" width=\"71\" x=\"194.5\" y=\"41\"/><text fill=\"#000000\" font-family=\"sans-serif\" font-size=\"12\" font-style=\"italic\" lengthAdjust=\"spacingAndGlyphs\" textLength=\"69\" x=\"195.5\" y=\"57.1387\">«attribute»</text><text fill=\"#000000\" font-family=\"sans-serif\" font-size=\"12\" lengthAdjust=\"spacingAndGlyphs\" textLength=\"8\" x=\"226\" y=\"71.1074\">q</text><line style=\"stroke: #383838; stroke-width: 1.5;\" x1=\"195.5\" x2=\"264.5\" y1=\"78.9375\" y2=\"78.9375\"/></a><!--MD5=[09b614a08d8cba4a07c9adeb5e0fee81]\n",
       "class E3--><a href=\"psysml:00588ae4-2df7-4d57-b3d7-e09c73d2d5b1\" target=\"_top\" title=\"psysml:00588ae4-2df7-4d57-b3d7-e09c73d2d5b1\" xlink:actuate=\"onRequest\" xlink:href=\"psysml:00588ae4-2df7-4d57-b3d7-e09c73d2d5b1\" xlink:show=\"new\" xlink:title=\"psysml:00588ae4-2df7-4d57-b3d7-e09c73d2d5b1\" xlink:type=\"simple\"><rect fill=\"#FFFFFF\" height=\"45.9375\" id=\"E3\" style=\"stroke: #383838; stroke-width: 1.5;\" width=\"66\" x=\"168\" y=\"147\"/><text fill=\"#000000\" font-family=\"sans-serif\" font-size=\"12\" font-style=\"italic\" lengthAdjust=\"spacingAndGlyphs\" textLength=\"64\" x=\"169\" y=\"163.1387\">«part def»</text><text fill=\"#000000\" font-family=\"sans-serif\" font-size=\"12\" lengthAdjust=\"spacingAndGlyphs\" textLength=\"16\" x=\"193\" y=\"177.1074\">P1</text><line style=\"stroke: #383838; stroke-width: 1.5;\" x1=\"169\" x2=\"233\" y1=\"184.9375\" y2=\"184.9375\"/></a><!--MD5=[ebbe1d658d1005bcc118a6aa81145e00]\n",
       "class E4--><a href=\"psysml:236a437d-3673-4742-905a-959f5dd42893\" target=\"_top\" title=\"psysml:236a437d-3673-4742-905a-959f5dd42893\" xlink:actuate=\"onRequest\" xlink:href=\"psysml:236a437d-3673-4742-905a-959f5dd42893\" xlink:show=\"new\" xlink:title=\"psysml:236a437d-3673-4742-905a-959f5dd42893\" xlink:type=\"simple\"><rect fill=\"#FFFFFF\" height=\"45.9375\" id=\"E4\" rx=\"10\" ry=\"10\" style=\"stroke: #383838; stroke-width: 1.5;\" width=\"46\" x=\"178\" y=\"253\"/><text fill=\"#000000\" font-family=\"sans-serif\" font-size=\"12\" font-style=\"italic\" lengthAdjust=\"spacingAndGlyphs\" textLength=\"40\" x=\"181\" y=\"269.1387\">«port»</text><text fill=\"#000000\" font-family=\"sans-serif\" font-size=\"12\" lengthAdjust=\"spacingAndGlyphs\" textLength=\"40\" x=\"181\" y=\"283.1074\">porig1</text><line style=\"stroke: #383838; stroke-width: 1.5;\" x1=\"179\" x2=\"223\" y1=\"290.9375\" y2=\"290.9375\"/></a><!--MD5=[270fce915f116d4de14055a7c1d9a0f3]\n",
       "class E5--><a href=\"psysml:4e54ee4d-012b-498f-93d7-1afb3759d34d\" target=\"_top\" title=\"psysml:4e54ee4d-012b-498f-93d7-1afb3759d34d\" xlink:actuate=\"onRequest\" xlink:href=\"psysml:4e54ee4d-012b-498f-93d7-1afb3759d34d\" xlink:show=\"new\" xlink:title=\"psysml:4e54ee4d-012b-498f-93d7-1afb3759d34d\" xlink:type=\"simple\"><rect fill=\"#FFFFFF\" height=\"45.9375\" id=\"E5\" rx=\"10\" ry=\"10\" style=\"stroke: #383838; stroke-width: 1.5;\" width=\"46\" x=\"113\" y=\"41\"/><text fill=\"#000000\" font-family=\"sans-serif\" font-size=\"12\" font-style=\"italic\" lengthAdjust=\"spacingAndGlyphs\" textLength=\"40\" x=\"116\" y=\"57.1387\">«part»</text><text fill=\"#000000\" font-family=\"sans-serif\" font-size=\"12\" lengthAdjust=\"spacingAndGlyphs\" textLength=\"40\" x=\"116\" y=\"71.1074\">p1: P1</text><line style=\"stroke: #383838; stroke-width: 1.5;\" x1=\"114\" x2=\"158\" y1=\"78.9375\" y2=\"78.9375\"/></a><!--MD5=[60a26617385b1d2d0262a64233df1f8d]\n",
       "class E6--><a href=\"psysml:8965b7df-293c-4ee2-9b2b-715c01154c80\" target=\"_top\" title=\"psysml:8965b7df-293c-4ee2-9b2b-715c01154c80\" xlink:actuate=\"onRequest\" xlink:href=\"psysml:8965b7df-293c-4ee2-9b2b-715c01154c80\" xlink:show=\"new\" xlink:title=\"psysml:8965b7df-293c-4ee2-9b2b-715c01154c80\" xlink:type=\"simple\"><rect fill=\"#FFFFFF\" height=\"45.9375\" id=\"E6\" rx=\"10\" ry=\"10\" style=\"stroke: #383838; stroke-width: 1.5;\" width=\"42\" x=\"91\" y=\"147\"/><text fill=\"#000000\" font-family=\"sans-serif\" font-size=\"12\" font-style=\"italic\" lengthAdjust=\"spacingAndGlyphs\" textLength=\"40\" x=\"92\" y=\"163.1387\">«port»</text><text fill=\"#000000\" font-family=\"sans-serif\" font-size=\"12\" lengthAdjust=\"spacingAndGlyphs\" textLength=\"24\" x=\"100\" y=\"177.1074\">po1</text><line style=\"stroke: #383838; stroke-width: 1.5;\" x1=\"92\" x2=\"132\" y1=\"184.9375\" y2=\"184.9375\"/></a><!--MD5=[2156ba9850f5573cc1fc38a6a4b2f02b]\n",
       "class E7--><a href=\"psysml:77eadb46-ce1a-4e0f-9527-bb06765d2ea7\" target=\"_top\" title=\"psysml:77eadb46-ce1a-4e0f-9527-bb06765d2ea7\" xlink:actuate=\"onRequest\" xlink:href=\"psysml:77eadb46-ce1a-4e0f-9527-bb06765d2ea7\" xlink:show=\"new\" xlink:title=\"psysml:77eadb46-ce1a-4e0f-9527-bb06765d2ea7\" xlink:type=\"simple\"><rect fill=\"#FFFFFF\" height=\"45.9375\" id=\"E7\" rx=\"10\" ry=\"10\" style=\"stroke: #383838; stroke-width: 1.5;\" width=\"46\" x=\"32\" y=\"41\"/><text fill=\"#000000\" font-family=\"sans-serif\" font-size=\"12\" font-style=\"italic\" lengthAdjust=\"spacingAndGlyphs\" textLength=\"40\" x=\"35\" y=\"57.1387\">«part»</text><text fill=\"#000000\" font-family=\"sans-serif\" font-size=\"12\" lengthAdjust=\"spacingAndGlyphs\" textLength=\"40\" x=\"35\" y=\"71.1074\">p2: P1</text><line style=\"stroke: #383838; stroke-width: 1.5;\" x1=\"33\" x2=\"77\" y1=\"78.9375\" y2=\"78.9375\"/></a><!--MD5=[b9389687b975829384b498ac4b7476b2]\n",
       "class E8--><a href=\"psysml:db28622a-fbe8-4c7d-8fe4-9e164802e944\" target=\"_top\" title=\"psysml:db28622a-fbe8-4c7d-8fe4-9e164802e944\" xlink:actuate=\"onRequest\" xlink:href=\"psysml:db28622a-fbe8-4c7d-8fe4-9e164802e944\" xlink:show=\"new\" xlink:title=\"psysml:db28622a-fbe8-4c7d-8fe4-9e164802e944\" xlink:type=\"simple\"><rect fill=\"#FFFFFF\" height=\"45.9375\" id=\"E8\" rx=\"10\" ry=\"10\" style=\"stroke: #383838; stroke-width: 1.5;\" width=\"42\" x=\"63\" y=\"253\"/><text fill=\"#000000\" font-family=\"sans-serif\" font-size=\"12\" font-style=\"italic\" lengthAdjust=\"spacingAndGlyphs\" textLength=\"40\" x=\"64\" y=\"269.1387\">«port»</text><text fill=\"#000000\" font-family=\"sans-serif\" font-size=\"12\" lengthAdjust=\"spacingAndGlyphs\" textLength=\"36\" x=\"66\" y=\"283.1074\">pdest</text><line style=\"stroke: #383838; stroke-width: 1.5;\" x1=\"64\" x2=\"104\" y1=\"290.9375\" y2=\"290.9375\"/></a><!--MD5=[4672eba38e49728da53d11aeb285b987]\n",
       "reverse link E3 to E4--><a href=\"psysml:10297d07-57fa-4f9d-a873-bd76f542a35c\" target=\"_top\" title=\"psysml:10297d07-57fa-4f9d-a873-bd76f542a35c\" xlink:actuate=\"onRequest\" xlink:href=\"psysml:10297d07-57fa-4f9d-a873-bd76f542a35c\" xlink:show=\"new\" xlink:title=\"psysml:10297d07-57fa-4f9d-a873-bd76f542a35c\" xlink:type=\"simple\"><path d=\"M188.84,206.44 C187.7,221.87 188.21,239.47 190.36,252.98 \" fill=\"none\" id=\"E3&lt;-E4\" style=\"stroke: #383838; stroke-width: 1.0;\"/><polygon fill=\"#FFFFFF\" points=\"190.35,193.06,185.7032,198.5743,189.006,204.9845,193.6528,199.4702,190.35,193.06\" style=\"stroke: #383838; stroke-width: 1.0;\"/><text fill=\"#000000\" font-family=\"sans-serif\" font-size=\"13\" lengthAdjust=\"spacingAndGlyphs\" textLength=\"8\" x=\"178.4255\" y=\"241.8709\">1</text></a><!--MD5=[4672eba38e49728da53d11aeb285b987]\n",
       "reverse link E3 to E4--><a href=\"psysml:4c29fec0-8309-450b-9bf3-4a2b28b77917\" target=\"_top\" title=\"psysml:4c29fec0-8309-450b-9bf3-4a2b28b77917\" xlink:actuate=\"onRequest\" xlink:href=\"psysml:4c29fec0-8309-450b-9bf3-4a2b28b77917\" xlink:show=\"new\" xlink:title=\"psysml:4c29fec0-8309-450b-9bf3-4a2b28b77917\" xlink:type=\"simple\"><path d=\"M214.01,208.34 C215.03,223.3 214.45,240.02 212.27,252.98 \" fill=\"none\" id=\"E3&lt;-E4-1\" style=\"stroke: #383838; stroke-width: 1.0; stroke-dasharray: 7.0,7.0;\"/><ellipse cx=\"213.1693\" cy=\"201.0093\" fill=\"#FFFFFF\" rx=\"8\" ry=\"8\" style=\"stroke: #383838; stroke-width: 1.0;\"/><line style=\"stroke: #383838; stroke-width: 1.0;\" x1=\"214.0687\" x2=\"212.27\" y1=\"208.9586\" y2=\"193.06\"/><line style=\"stroke: #383838; stroke-width: 1.0;\" x1=\"205.2201\" x2=\"221.1186\" y1=\"201.9086\" y2=\"200.1099\"/><text fill=\"#000000\" font-family=\"sans-serif\" font-size=\"13\" lengthAdjust=\"spacingAndGlyphs\" textLength=\"8\" x=\"206.2238\" y=\"241.8709\">1</text></a><!--MD5=[e9be52314489bd878ff4c7144b63c9e1]\n",
       "link E5 to E3--><a href=\"psysml:93a52ea3-a140-4bd2-b924-ec5ad15b1b7e\" target=\"_top\" title=\"psysml:93a52ea3-a140-4bd2-b924-ec5ad15b1b7e\" xlink:actuate=\"onRequest\" xlink:href=\"psysml:93a52ea3-a140-4bd2-b924-ec5ad15b1b7e\" xlink:show=\"new\" xlink:title=\"psysml:93a52ea3-a140-4bd2-b924-ec5ad15b1b7e\" xlink:type=\"simple\"><path d=\"M149.78,87.06 C157.54,99.47 167.45,115.33 176.49,129.78 \" fill=\"none\" id=\"E5-&gt;E3\" style=\"stroke: #383838; stroke-width: 1.0;\"/><polygon fill=\"#FFFFFF\" points=\"187.24,146.98,171.2331,134.5792,183.1045,127.1584,187.24,146.98\" style=\"stroke: #383838; stroke-width: 1.0;\"/><ellipse cx=\"169.9076\" cy=\"128.6857\" fill=\"#383838\" rx=\"2\" ry=\"2\" style=\"stroke: #383838; stroke-width: 1.0;\"/><ellipse cx=\"178.3872\" cy=\"123.3851\" fill=\"#383838\" rx=\"2\" ry=\"2\" style=\"stroke: #383838; stroke-width: 1.0;\"/></a><!--MD5=[85d356282659285ab4b2cfe2f634dd2b]\n",
       "reverse link E5 to E6--><a href=\"psysml:cdcbbeec-90be-4e1d-8c60-d92c8a6a7077\" target=\"_top\" title=\"psysml:cdcbbeec-90be-4e1d-8c60-d92c8a6a7077\" xlink:actuate=\"onRequest\" xlink:href=\"psysml:cdcbbeec-90be-4e1d-8c60-d92c8a6a7077\" xlink:show=\"new\" xlink:title=\"psysml:cdcbbeec-90be-4e1d-8c60-d92c8a6a7077\" xlink:type=\"simple\"><path d=\"M127.93,99.96 C124.34,115.51 120.23,133.33 117.08,146.98 \" fill=\"none\" id=\"E5&lt;-E6\" style=\"stroke: #383838; stroke-width: 1.0;\"/><polygon fill=\"#FFFFFF\" points=\"130.91,87.06,125.6616,92.0052,128.2078,98.7518,133.4562,93.8066,130.91,87.06\" style=\"stroke: #383838; stroke-width: 1.0;\"/><text fill=\"#000000\" font-family=\"sans-serif\" font-size=\"13\" lengthAdjust=\"spacingAndGlyphs\" textLength=\"8\" x=\"109.3703\" y=\"135.8709\">1</text></a><!--MD5=[f667431f98296947986a1a7595a31603]\n",
       "link E6 to E4--><a href=\"psysml:b5614b00-f88c-4f87-85f7-609ca7f17bae\" target=\"_top\" title=\"psysml:b5614b00-f88c-4f87-85f7-609ca7f17bae\" xlink:actuate=\"onRequest\" xlink:href=\"psysml:b5614b00-f88c-4f87-85f7-609ca7f17bae\" xlink:show=\"new\" xlink:title=\"psysml:b5614b00-f88c-4f87-85f7-609ca7f17bae\" xlink:type=\"simple\"><path d=\"M130.87,193.06 C141.97,206.02 156.28,222.74 169.08,237.7 \" fill=\"none\" id=\"E6-&gt;E4\" style=\"stroke: #383838; stroke-width: 1.0;\"/><polygon fill=\"#FFFFFF\" points=\"182.15,252.98,164.4809,243.0905,175.1204,233.9909,182.15,252.98\" style=\"stroke: #383838; stroke-width: 1.0;\"/><line style=\"stroke: #383838; stroke-width: 2.0;\" x1=\"162.011\" x2=\"172.6505\" y1=\"240.2026\" y2=\"231.1031\"/></a><!--MD5=[14ccda38c055a5c0da953d572bc50960]\n",
       "link E7 to E3--><a href=\"psysml:87c48ed5-bc50-48bb-899d-f807bfcdc26e\" target=\"_top\" title=\"psysml:87c48ed5-bc50-48bb-899d-f807bfcdc26e\" xlink:actuate=\"onRequest\" xlink:href=\"psysml:87c48ed5-bc50-48bb-899d-f807bfcdc26e\" xlink:show=\"new\" xlink:title=\"psysml:87c48ed5-bc50-48bb-899d-f807bfcdc26e\" xlink:type=\"simple\"><path d=\"M78.13,81.48 C98.32,95.86 128.25,117.18 153.52,135.18 \" fill=\"none\" id=\"E7-&gt;E3\" style=\"stroke: #383838; stroke-width: 1.0;\"/><polygon fill=\"#FFFFFF\" points=\"170.09,146.98,150.5533,141.6586,158.6755,130.2555,170.09,146.98\" style=\"stroke: #383838; stroke-width: 1.0;\"/><ellipse cx=\"147.0709\" cy=\"136.7227\" fill=\"#383838\" rx=\"2\" ry=\"2\" style=\"stroke: #383838; stroke-width: 1.0;\"/><ellipse cx=\"152.8725\" cy=\"128.5776\" fill=\"#383838\" rx=\"2\" ry=\"2\" style=\"stroke: #383838; stroke-width: 1.0;\"/></a><!--MD5=[dc164f5e8a733ab456ef1add180e9e34]\n",
       "reverse link E7 to E8--><a href=\"psysml:5ff6c459-66f7-4338-82bb-16aa2b22f6b4\" target=\"_top\" title=\"psysml:5ff6c459-66f7-4338-82bb-16aa2b22f6b4\" xlink:actuate=\"onRequest\" xlink:href=\"psysml:5ff6c459-66f7-4338-82bb-16aa2b22f6b4\" xlink:show=\"new\" xlink:title=\"psysml:5ff6c459-66f7-4338-82bb-16aa2b22f6b4\" xlink:type=\"simple\"><path d=\"M50.05,100.09 C51.65,143.61 62.25,216.5 72.75,252.9 \" fill=\"none\" id=\"E7&lt;-E8\" style=\"stroke: #383838; stroke-width: 1.0;\"/><polygon fill=\"#FFFFFF\" points=\"49.85,87.08,45.9362,93.1366,50.0216,99.0788,53.9354,93.0222,49.85,87.08\" style=\"stroke: #383838; stroke-width: 1.0;\"/><text fill=\"#000000\" font-family=\"sans-serif\" font-size=\"13\" lengthAdjust=\"spacingAndGlyphs\" textLength=\"8\" x=\"60.6516\" y=\"241.7694\">1</text></a><!--MD5=[dc164f5e8a733ab456ef1add180e9e34]\n",
       "reverse link E7 to E8--><a href=\"psysml:4eb1c616-a5a7-47d5-8985-e84491dc2120\" target=\"_top\" title=\"psysml:4eb1c616-a5a7-47d5-8985-e84491dc2120\" xlink:actuate=\"onRequest\" xlink:href=\"psysml:4eb1c616-a5a7-47d5-8985-e84491dc2120\" xlink:show=\"new\" xlink:title=\"psysml:4eb1c616-a5a7-47d5-8985-e84491dc2120\" xlink:type=\"simple\"><path d=\"M70.64,101.8 C81.15,145.5 90.39,216.97 89.63,252.9 \" fill=\"none\" id=\"E7&lt;-E8-1\" style=\"stroke: #383838; stroke-width: 1.0; stroke-dasharray: 7.0,7.0;\"/><ellipse cx=\"68.7794\" cy=\"94.813\" fill=\"#FFFFFF\" rx=\"8\" ry=\"8\" style=\"stroke: #383838; stroke-width: 1.0;\"/><line style=\"stroke: #383838; stroke-width: 1.0;\" x1=\"70.8289\" x2=\"66.73\" y1=\"102.5461\" y2=\"87.08\"/><line style=\"stroke: #383838; stroke-width: 1.0;\" x1=\"61.0464\" x2=\"76.5125\" y1=\"96.8625\" y2=\"92.7636\"/><text fill=\"#000000\" font-family=\"sans-serif\" font-size=\"13\" lengthAdjust=\"spacingAndGlyphs\" textLength=\"8\" x=\"92.2181\" y=\"241.7694\">1</text></a><!--MD5=[0a839d0f80c2d72d4b9b307f046d0de8]\n",
       "link E6 to E8--><a href=\"psysml:af89f277-c22a-4acb-b9c9-7f04d6a8a86b\" target=\"_top\" title=\"psysml:af89f277-c22a-4acb-b9c9-7f04d6a8a86b\" xlink:actuate=\"onRequest\" xlink:href=\"psysml:af89f277-c22a-4acb-b9c9-7f04d6a8a86b\" xlink:show=\"new\" xlink:title=\"psysml:af89f277-c22a-4acb-b9c9-7f04d6a8a86b\" xlink:type=\"simple\"><path d=\"M95.42,193.06 C87.86,210.7 81.23,235.34 79.29,252.98 \" fill=\"none\" id=\"E6-E8\" style=\"stroke: #383838; stroke-width: 3.0;\"/><text fill=\"#000000\" font-family=\"sans-serif\" font-size=\"13\" lengthAdjust=\"spacingAndGlyphs\" textLength=\"7\" x=\"78.9648\" y=\"241.8709\">*</text></a><!--MD5=[0a839d0f80c2d72d4b9b307f046d0de8]\n",
       "link E6 to E8--><a href=\"psysml:6818c790-7ee4-49fa-b866-28c88d0d2e1e\" target=\"_top\" title=\"psysml:6818c790-7ee4-49fa-b866-28c88d0d2e1e\" xlink:actuate=\"onRequest\" xlink:href=\"psysml:6818c790-7ee4-49fa-b866-28c88d0d2e1e\" xlink:show=\"new\" xlink:title=\"psysml:6818c790-7ee4-49fa-b866-28c88d0d2e1e\" xlink:type=\"simple\"><path d=\"M117.33,193.06 C115.55,210.7 108.92,235.34 101.2,252.98 \" fill=\"none\" id=\"E6-E8-1\" style=\"stroke: #383838; stroke-width: 3.0;\"/><text fill=\"#000000\" font-family=\"sans-serif\" font-size=\"13\" lengthAdjust=\"spacingAndGlyphs\" textLength=\"7\" x=\"97.8819\" y=\"241.8709\">*</text></a><!--MD5=[0079100fe18cef846eb0b87eee74dcaf]\n",
       "@startuml\r\n",
       "top to bottom direction\r\n",
       "skinparam monochrome true\r\n",
       "skinparam classbackgroundcolor white\r\n",
       "skinparam shadowing false\r\n",
       "skinparam wrapWidth 300\r\n",
       "hide circle\r\n",
       "\r\n",
       "package \"AliasTest\" as E1  [[psysml:7e4311dd-4dd4-41de-a431-b17c5d614850 ]]  {\r\n",
       "comp usage \"q\" as E2  <<(T,blue) attribute>> [[psysml:789c28e5-5e95-405e-84fa-948507b238dc ]] {\r\n",
       "}\r\n",
       "comp def \"P1\" as E3  <<(T,blue) part def>> [[psysml:00588ae4-2df7-4d57-b3d7-e09c73d2d5b1 ]] {\r\n",
       "}\r\n",
       "comp usage \"porig1\" as E4  <<(T,blue) port>> [[psysml:236a437d-3673-4742-905a-959f5dd42893 ]] {\r\n",
       "}\r\n",
       "comp usage \"p1: P1\" as E5  <<(T,blue) part>> [[psysml:4e54ee4d-012b-498f-93d7-1afb3759d34d ]] {\r\n",
       "}\r\n",
       "comp usage \"po1\" as E6  <<(T,blue) port>> [[psysml:8965b7df-293c-4ee2-9b2b-715c01154c80 ]] {\r\n",
       "}\r\n",
       "comp usage \"p2: P1\" as E7  <<(T,blue) part>> [[psysml:77eadb46-ce1a-4e0f-9527-bb06765d2ea7 ]] {\r\n",
       "}\r\n",
       "comp usage \"pdest\" as E8  <<(T,blue) port>> [[psysml:db28622a-fbe8-4c7d-8fe4-9e164802e944 ]] {\r\n",
       "}\r\n",
       "E3 o- - \"1\"E4 [[psysml:10297d07-57fa-4f9d-a873-bd76f542a35c ]] \r\n",
       "E3 +.. \"1\"E4 [[psysml:4c29fec0-8309-450b-9bf3-4a2b28b77917 ]] \r\n",
       "E5 - -:|> E3 [[psysml:93a52ea3-a140-4bd2-b924-ec5ad15b1b7e ]] \r\n",
       "E5 o- - \"1\"E6 [[psysml:cdcbbeec-90be-4e1d-8c60-d92c8a6a7077 ]] \r\n",
       "E6 - -||> E4 [[psysml:b5614b00-f88c-4f87-85f7-609ca7f17bae ]] \r\n",
       "E7 - -:|> E3 [[psysml:87c48ed5-bc50-48bb-899d-f807bfcdc26e ]] \r\n",
       "E7 o- - \"1\"E8 [[psysml:5ff6c459-66f7-4338-82bb-16aa2b22f6b4 ]] \r\n",
       "E7 +.. \"1\"E8 [[psysml:4eb1c616-a5a7-47d5-8985-e84491dc2120 ]] \r\n",
       "E6 -[thickness=3]- \"*\"E8 [[psysml:af89f277-c22a-4acb-b9c9-7f04d6a8a86b ]] \r\n",
       "E6 -[thickness=3]- \"*\"E8 [[psysml:6818c790-7ee4-49fa-b866-28c88d0d2e1e ]] \r\n",
       "}\r\n",
       "@enduml\r\n",
       "\n",
       "PlantUML version 1.2020.13(Sat Jun 13 12:26:38 UTC 2020)\n",
       "(EPL source distribution)\n",
       "Java Runtime: OpenJDK Runtime Environment\n",
       "JVM: OpenJDK 64-Bit Server VM\n",
       "Default Encoding: UTF-8\n",
       "Language: en\n",
       "Country: null\n",
       "--></g></svg>"
      ]
     },
     "execution_count": 45,
     "metadata": {},
     "output_type": "execute_result"
    }
   ],
   "source": [
    "%viz --style=\"TB\" --view=\"Tree\" \"AliasTest\""
   ]
  },
  {
   "cell_type": "code",
   "execution_count": 46,
   "id": "5f6c92c4",
   "metadata": {
    "execution": {
     "iopub.execute_input": "2021-08-04T06:25:33.262300Z",
     "iopub.status.busy": "2021-08-04T06:25:33.261744Z",
     "iopub.status.idle": "2021-08-04T06:25:33.266736Z",
     "shell.execute_reply": "2021-08-04T06:25:33.266410Z"
    }
   },
   "outputs": [
    {
     "data": {
      "image/svg+xml": [
       "<?xml version=\"1.0\" encoding=\"UTF-8\" standalone=\"no\"?><svg xmlns=\"http://www.w3.org/2000/svg\" xmlns:xlink=\"http://www.w3.org/1999/xlink\" contentScriptType=\"application/ecmascript\" contentStyleType=\"text/css\" height=\"12px\" preserveAspectRatio=\"none\" style=\"width:12px;height:12px;\" version=\"1.1\" viewBox=\"0 0 12 12\" width=\"12px\" zoomAndPan=\"magnify\"><defs/><g><!--MD5=[f4ee21bc66e489b5061b7c3e9601fdef]\n",
       "@startuml\r\n",
       "top to bottom direction\r\n",
       "skinparam monochrome true\r\n",
       "skinparam classbackgroundcolor white\r\n",
       "skinparam shadowing false\r\n",
       "skinparam wrapWidth 300\r\n",
       "hide circle\r\n",
       "\r\n",
       "@enduml\r\n",
       "\n",
       "PlantUML version 1.2020.13(Sat Jun 13 12:26:38 UTC 2020)\n",
       "(EPL source distribution)\n",
       "Java Runtime: OpenJDK Runtime Environment\n",
       "JVM: OpenJDK 64-Bit Server VM\n",
       "Default Encoding: UTF-8\n",
       "Language: en\n",
       "Country: null\n",
       "--></g></svg>"
      ]
     },
     "execution_count": 46,
     "metadata": {},
     "output_type": "execute_result"
    }
   ],
   "source": [
    "%viz --style=\"TB\" --view=\"State\" \"AliasTest\""
   ]
  },
  {
   "cell_type": "code",
   "execution_count": 47,
   "id": "6d8336bb",
   "metadata": {
    "execution": {
     "iopub.execute_input": "2021-08-04T06:25:33.316863Z",
     "iopub.status.busy": "2021-08-04T06:25:33.316435Z",
     "iopub.status.idle": "2021-08-04T06:25:33.348555Z",
     "shell.execute_reply": "2021-08-04T06:25:33.348207Z"
    }
   },
   "outputs": [
    {
     "data": {
      "image/svg+xml": [
       "<?xml version=\"1.0\" encoding=\"UTF-8\" standalone=\"no\"?><svg xmlns=\"http://www.w3.org/2000/svg\" xmlns:xlink=\"http://www.w3.org/1999/xlink\" contentScriptType=\"application/ecmascript\" contentStyleType=\"text/css\" height=\"233px\" preserveAspectRatio=\"none\" style=\"width:486px;height:233px;\" version=\"1.1\" viewBox=\"0 0 486 233\" width=\"486px\" zoomAndPan=\"magnify\"><defs/><g><!--MD5=[fbc87193dbaf4d95561dea2c320d4a47]\n",
       "cluster E1--><a href=\"psysml:7e4311dd-4dd4-41de-a431-b17c5d614850\" target=\"_top\" title=\"psysml:7e4311dd-4dd4-41de-a431-b17c5d614850\" xlink:actuate=\"onRequest\" xlink:href=\"psysml:7e4311dd-4dd4-41de-a431-b17c5d614850\" xlink:show=\"new\" xlink:title=\"psysml:7e4311dd-4dd4-41de-a431-b17c5d614850\" xlink:type=\"simple\"><polygon fill=\"#FFFFFF\" points=\"16,6,94,6,101,28.2969,464,28.2969,464,221,16,221,16,6\" style=\"stroke: #000000; stroke-width: 1.5;\"/><line style=\"stroke: #000000; stroke-width: 1.5;\" x1=\"16\" x2=\"101\" y1=\"28.2969\" y2=\"28.2969\"/><text fill=\"#000000\" font-family=\"sans-serif\" font-size=\"14\" font-weight=\"bold\" lengthAdjust=\"spacingAndGlyphs\" textLength=\"72\" x=\"20\" y=\"20.9951\">AliasTest</text></a><!--MD5=[d5e69f78d87373223dbae638b30a9c99]\n",
       "cluster E3--><a href=\"psysml:00588ae4-2df7-4d57-b3d7-e09c73d2d5b1\" target=\"_top\" title=\"psysml:00588ae4-2df7-4d57-b3d7-e09c73d2d5b1\" xlink:actuate=\"onRequest\" xlink:href=\"psysml:00588ae4-2df7-4d57-b3d7-e09c73d2d5b1\" xlink:show=\"new\" xlink:title=\"psysml:00588ae4-2df7-4d57-b3d7-e09c73d2d5b1\" xlink:type=\"simple\"><rect fill=\"#FFFFFF\" height=\"90\" id=\"E3\" style=\"stroke: #383838; stroke-width: 1.5;\" width=\"83\" x=\"324\" y=\"64\"/><rect fill=\"#F8F8F8\" height=\"37.9375\" style=\"stroke: #383838; stroke-width: 1.5;\" width=\"83\" x=\"324\" y=\"64\"/><text fill=\"#000000\" font-family=\"sans-serif\" font-size=\"12\" font-style=\"italic\" lengthAdjust=\"spacingAndGlyphs\" textLength=\"64\" x=\"333.5\" y=\"80.1387\">«part def»</text><text fill=\"#000000\" font-family=\"sans-serif\" font-size=\"12\" lengthAdjust=\"spacingAndGlyphs\" textLength=\"16\" x=\"357.5\" y=\"94.1074\">P1</text></a><!--MD5=[14e3b0961a2654348d326746436168a1]\n",
       "cluster E6--><a href=\"psysml:4e54ee4d-012b-498f-93d7-1afb3759d34d\" target=\"_top\" title=\"psysml:4e54ee4d-012b-498f-93d7-1afb3759d34d\" xlink:actuate=\"onRequest\" xlink:href=\"psysml:4e54ee4d-012b-498f-93d7-1afb3759d34d\" xlink:show=\"new\" xlink:title=\"psysml:4e54ee4d-012b-498f-93d7-1afb3759d34d\" xlink:type=\"simple\"><rect fill=\"#FFFFFF\" height=\"82\" id=\"E6\" rx=\"10\" ry=\"10\" style=\"stroke: #383838; stroke-width: 1.5;\" width=\"104\" x=\"112\" y=\"64\"/><rect fill=\"#F8F8F8\" height=\"23.9688\" rx=\"10\" ry=\"10\" style=\"stroke: #F8F8F8; stroke-width: 1.5;\" width=\"104\" x=\"112\" y=\"64\"/><rect fill=\"#F8F8F8\" height=\"10\" style=\"stroke: #F8F8F8; stroke-width: 1.5;\" width=\"104\" x=\"112\" y=\"77.9688\"/><rect fill=\"none\" height=\"82\" id=\"E6\" rx=\"10\" ry=\"10\" style=\"stroke: #383838; stroke-width: 1.5;\" width=\"104\" x=\"112\" y=\"64\"/><text fill=\"#000000\" font-family=\"sans-serif\" font-size=\"12\" lengthAdjust=\"spacingAndGlyphs\" textLength=\"40\" x=\"144\" y=\"80.1387\">p1: P1</text><line style=\"stroke: #383838; stroke-width: 1.0;\" x1=\"112\" x2=\"216\" y1=\"87.9688\" y2=\"87.9688\"/></a><!--MD5=[55dfccfc6c49c2d10cd1bd2211a6c90c]\n",
       "cluster E8--><a href=\"psysml:77eadb46-ce1a-4e0f-9527-bb06765d2ea7\" target=\"_top\" title=\"psysml:77eadb46-ce1a-4e0f-9527-bb06765d2ea7\" xlink:actuate=\"onRequest\" xlink:href=\"psysml:77eadb46-ce1a-4e0f-9527-bb06765d2ea7\" xlink:show=\"new\" xlink:title=\"psysml:77eadb46-ce1a-4e0f-9527-bb06765d2ea7\" xlink:type=\"simple\"><rect fill=\"#FFFFFF\" height=\"84.5\" id=\"E8\" rx=\"10\" ry=\"10\" style=\"stroke: #383838; stroke-width: 1.5;\" width=\"83\" x=\"219\" y=\"120.5\"/><rect fill=\"#F8F8F8\" height=\"23.9688\" rx=\"10\" ry=\"10\" style=\"stroke: #F8F8F8; stroke-width: 1.5;\" width=\"83\" x=\"219\" y=\"120.5\"/><rect fill=\"#F8F8F8\" height=\"10\" style=\"stroke: #F8F8F8; stroke-width: 1.5;\" width=\"83\" x=\"219\" y=\"134.4688\"/><rect fill=\"none\" height=\"84.5\" id=\"E8\" rx=\"10\" ry=\"10\" style=\"stroke: #383838; stroke-width: 1.5;\" width=\"83\" x=\"219\" y=\"120.5\"/><text fill=\"#000000\" font-family=\"sans-serif\" font-size=\"12\" lengthAdjust=\"spacingAndGlyphs\" textLength=\"40\" x=\"240.5\" y=\"136.6387\">p2: P1</text><line style=\"stroke: #383838; stroke-width: 1.0;\" x1=\"219\" x2=\"302\" y1=\"144.4688\" y2=\"144.4688\"/></a><!--MD5=[b4997ac47864f28c2f74865a473b2911]\n",
       "class E2--><a href=\"psysml:789c28e5-5e95-405e-84fa-948507b238dc\" target=\"_top\" title=\"psysml:789c28e5-5e95-405e-84fa-948507b238dc\" xlink:actuate=\"onRequest\" xlink:href=\"psysml:789c28e5-5e95-405e-84fa-948507b238dc\" xlink:show=\"new\" xlink:title=\"psysml:789c28e5-5e95-405e-84fa-948507b238dc\" xlink:type=\"simple\"><rect fill=\"#FFFFFF\" height=\"45.9375\" id=\"E2\" rx=\"10\" ry=\"10\" style=\"stroke: #383838; stroke-width: 1.5;\" width=\"71\" x=\"32.5\" y=\"41\"/><text fill=\"#000000\" font-family=\"sans-serif\" font-size=\"12\" font-style=\"italic\" lengthAdjust=\"spacingAndGlyphs\" textLength=\"69\" x=\"33.5\" y=\"57.1387\">«attribute»</text><text fill=\"#000000\" font-family=\"sans-serif\" font-size=\"12\" lengthAdjust=\"spacingAndGlyphs\" textLength=\"8\" x=\"64\" y=\"71.1074\">q</text><line style=\"stroke: #383838; stroke-width: 1.5;\" x1=\"33.5\" x2=\"102.5\" y1=\"78.9375\" y2=\"78.9375\"/></a><text fill=\"#000000\" font-family=\"sans-serif\" font-size=\"14\" lengthAdjust=\"spacingAndGlyphs\" textLength=\"44\" x=\"320\" y=\"42.6982\">porig1</text><rect fill=\"#383838\" height=\"12\" style=\"stroke: #F8F8F8; stroke-width: 1.5;\" width=\"12\" x=\"336\" y=\"58\"/><text fill=\"#000000\" font-family=\"sans-serif\" font-size=\"14\" lengthAdjust=\"spacingAndGlyphs\" textLength=\"44\" x=\"367\" y=\"42.6982\">porig1</text><rect fill=\"#383838\" height=\"12\" style=\"stroke: #F8F8F8; stroke-width: 1.5;\" width=\"12\" x=\"383\" y=\"58\"/><text fill=\"#000000\" font-family=\"sans-serif\" font-size=\"14\" lengthAdjust=\"spacingAndGlyphs\" textLength=\"27\" x=\"184.5\" y=\"42.6982\">po1</text><rect fill=\"#383838\" height=\"12\" style=\"stroke: #F8F8F8; stroke-width: 1.5;\" width=\"12\" x=\"192\" y=\"58\"/><text fill=\"#000000\" font-family=\"sans-serif\" font-size=\"14\" lengthAdjust=\"spacingAndGlyphs\" textLength=\"40\" x=\"217\" y=\"99.1982\">pdest</text><rect fill=\"#383838\" height=\"12\" style=\"stroke: #F8F8F8; stroke-width: 1.5;\" width=\"12\" x=\"231\" y=\"114.5\"/><text fill=\"#000000\" font-family=\"sans-serif\" font-size=\"14\" lengthAdjust=\"spacingAndGlyphs\" textLength=\"40\" x=\"264\" y=\"99.1982\">pdest</text><rect fill=\"#383838\" height=\"12\" style=\"stroke: #F8F8F8; stroke-width: 1.5;\" width=\"12\" x=\"278\" y=\"114.5\"/><!--MD5=[1c0b9414cc86e0744215edee6abd8926]\n",
       "link E7 to E9--><a href=\"psysml:af89f277-c22a-4acb-b9c9-7f04d6a8a86b\" target=\"_top\" title=\"psysml:af89f277-c22a-4acb-b9c9-7f04d6a8a86b\" xlink:actuate=\"onRequest\" xlink:href=\"psysml:af89f277-c22a-4acb-b9c9-7f04d6a8a86b\" xlink:show=\"new\" xlink:title=\"psysml:af89f277-c22a-4acb-b9c9-7f04d6a8a86b\" xlink:type=\"simple\"><path d=\"M193.83,70.03 C194.72,81.73 216.14,110.34 230.83,117.73 \" fill=\"none\" id=\"E7-E9\" style=\"stroke: #383838; stroke-width: 3.0;\"/><text fill=\"#000000\" font-family=\"sans-serif\" font-size=\"13\" lengthAdjust=\"spacingAndGlyphs\" textLength=\"7\" x=\"215.8523\" y=\"106.3789\">*</text></a><!--MD5=[1c0b9414cc86e0744215edee6abd8926]\n",
       "link E7 to E9--><a href=\"psysml:6818c790-7ee4-49fa-b866-28c88d0d2e1e\" target=\"_top\" title=\"psysml:6818c790-7ee4-49fa-b866-28c88d0d2e1e\" xlink:actuate=\"onRequest\" xlink:href=\"psysml:6818c790-7ee4-49fa-b866-28c88d0d2e1e\" xlink:show=\"new\" xlink:title=\"psysml:6818c790-7ee4-49fa-b866-28c88d0d2e1e\" xlink:type=\"simple\"><path d=\"M204.05,66.57 C219.27,73.62 241.05,102.5 241.62,114.37 \" fill=\"none\" id=\"E7-E9-1\" style=\"stroke: #383838; stroke-width: 3.0;\"/><text fill=\"#000000\" font-family=\"sans-serif\" font-size=\"13\" lengthAdjust=\"spacingAndGlyphs\" textLength=\"7\" x=\"235.278\" y=\"103.4683\">*</text></a><!--MD5=[16e871d92add4d1d66eca7b5c9f34099]\n",
       "@startuml\r\n",
       "skinparam ranksep 10\r\n",
       "skinparam rectangle {\r\n",
       " backgroundColor<<block>> LightGreen\r\n",
       "}\r\n",
       "top to bottom direction\r\n",
       "skinparam monochrome true\r\n",
       "skinparam classbackgroundcolor white\r\n",
       "skinparam shadowing false\r\n",
       "skinparam wrapWidth 300\r\n",
       "hide circle\r\n",
       "\r\n",
       "package \"AliasTest\" as E1  [[psysml:7e4311dd-4dd4-41de-a431-b17c5d614850 ]]  {\r\n",
       "comp usage \"q\" as E2  <<(T,blue) attribute>> [[psysml:789c28e5-5e95-405e-84fa-948507b238dc ]] {\r\n",
       "}\r\n",
       "rec def \"P1\" as E3  <<(T,blue) part def>> [[psysml:00588ae4-2df7-4d57-b3d7-e09c73d2d5b1 ]] {\r\n",
       "portin \"porig1\" as E4  <<(T,blue) port>> [[psysml:236a437d-3673-4742-905a-959f5dd42893 ]] \r\n",
       "portin \"porig1\" as E5  <<(T,blue) port>> [[psysml:236a437d-3673-4742-905a-959f5dd42893 ]] \r\n",
       "}\r\n",
       "rec usage \"p1: P1\" as E6  [[psysml:4e54ee4d-012b-498f-93d7-1afb3759d34d ]] {\r\n",
       "portin \"po1\" as E7  <<(T,blue) port>> [[psysml:8965b7df-293c-4ee2-9b2b-715c01154c80 ]] \r\n",
       "}\r\n",
       "rec usage \"p2: P1\" as E8  [[psysml:77eadb46-ce1a-4e0f-9527-bb06765d2ea7 ]] {\r\n",
       "portin \"pdest\" as E9  <<(T,blue) port>> [[psysml:db28622a-fbe8-4c7d-8fe4-9e164802e944 ]] \r\n",
       "portin \"pdest\" as E10  <<(T,blue) port>> [[psysml:db28622a-fbe8-4c7d-8fe4-9e164802e944 ]] \r\n",
       "}\r\n",
       "E7 -[thickness=3]- \"*\"E9 [[psysml:af89f277-c22a-4acb-b9c9-7f04d6a8a86b ]] \r\n",
       "E7 -[thickness=3]- \"*\"E9 [[psysml:6818c790-7ee4-49fa-b866-28c88d0d2e1e ]] \r\n",
       "}\r\n",
       "@enduml\r\n",
       "\n",
       "PlantUML version 1.2020.13(Sat Jun 13 12:26:38 UTC 2020)\n",
       "(EPL source distribution)\n",
       "Java Runtime: OpenJDK Runtime Environment\n",
       "JVM: OpenJDK 64-Bit Server VM\n",
       "Default Encoding: UTF-8\n",
       "Language: en\n",
       "Country: null\n",
       "--></g></svg>"
      ]
     },
     "execution_count": 47,
     "metadata": {},
     "output_type": "execute_result"
    }
   ],
   "source": [
    "%viz --style=\"TB\" --view=\"Interconnection\" \"AliasTest\""
   ]
  },
  {
   "cell_type": "code",
   "execution_count": 48,
   "id": "95ec1878",
   "metadata": {
    "execution": {
     "iopub.execute_input": "2021-08-04T06:25:33.398724Z",
     "iopub.status.busy": "2021-08-04T06:25:33.398182Z",
     "iopub.status.idle": "2021-08-04T06:25:33.403338Z",
     "shell.execute_reply": "2021-08-04T06:25:33.403005Z"
    }
   },
   "outputs": [
    {
     "data": {
      "image/svg+xml": [
       "<?xml version=\"1.0\" encoding=\"UTF-8\" standalone=\"no\"?><svg xmlns=\"http://www.w3.org/2000/svg\" xmlns:xlink=\"http://www.w3.org/1999/xlink\" contentScriptType=\"application/ecmascript\" contentStyleType=\"text/css\" height=\"12px\" preserveAspectRatio=\"none\" style=\"width:12px;height:12px;\" version=\"1.1\" viewBox=\"0 0 12 12\" width=\"12px\" zoomAndPan=\"magnify\"><defs/><g><!--MD5=[06afc254b03ac5e9d9fb7773b07d0800]\n",
       "@startuml\r\n",
       "skinparam ranksep 8\r\n",
       "top to bottom direction\r\n",
       "skinparam monochrome true\r\n",
       "skinparam classbackgroundcolor white\r\n",
       "skinparam shadowing false\r\n",
       "skinparam wrapWidth 300\r\n",
       "hide circle\r\n",
       "\r\n",
       "@enduml\r\n",
       "\n",
       "PlantUML version 1.2020.13(Sat Jun 13 12:26:38 UTC 2020)\n",
       "(EPL source distribution)\n",
       "Java Runtime: OpenJDK Runtime Environment\n",
       "JVM: OpenJDK 64-Bit Server VM\n",
       "Default Encoding: UTF-8\n",
       "Language: en\n",
       "Country: null\n",
       "--></g></svg>"
      ]
     },
     "execution_count": 48,
     "metadata": {},
     "output_type": "execute_result"
    }
   ],
   "source": [
    "%viz --style=\"TB\" --view=\"Action\" \"AliasTest\""
   ]
  },
  {
   "cell_type": "code",
   "execution_count": 49,
   "id": "a438e736",
   "metadata": {
    "execution": {
     "iopub.execute_input": "2021-08-04T06:25:33.453391Z",
     "iopub.status.busy": "2021-08-04T06:25:33.452983Z",
     "iopub.status.idle": "2021-08-04T06:25:33.483637Z",
     "shell.execute_reply": "2021-08-04T06:25:33.482214Z"
    }
   },
   "outputs": [
    {
     "data": {
      "image/svg+xml": [
       "<?xml version=\"1.0\" encoding=\"UTF-8\" standalone=\"no\"?><svg xmlns=\"http://www.w3.org/2000/svg\" xmlns:xlink=\"http://www.w3.org/1999/xlink\" contentScriptType=\"application/ecmascript\" contentStyleType=\"text/css\" height=\"327px\" preserveAspectRatio=\"none\" style=\"width:304px;height:327px;\" version=\"1.1\" viewBox=\"0 0 304 327\" width=\"304px\" zoomAndPan=\"magnify\"><defs/><g><!--MD5=[fbc87193dbaf4d95561dea2c320d4a47]\n",
       "cluster E1--><a href=\"psysml:7e4311dd-4dd4-41de-a431-b17c5d614850\" target=\"_top\" title=\"psysml:7e4311dd-4dd4-41de-a431-b17c5d614850\" xlink:actuate=\"onRequest\" xlink:href=\"psysml:7e4311dd-4dd4-41de-a431-b17c5d614850\" xlink:show=\"new\" xlink:title=\"psysml:7e4311dd-4dd4-41de-a431-b17c5d614850\" xlink:type=\"simple\"><polygon fill=\"#FFFFFF\" points=\"16,6,94,6,101,28.2969,282,28.2969,282,315,16,315,16,6\" style=\"stroke: #000000; stroke-width: 1.5;\"/><line style=\"stroke: #000000; stroke-width: 1.5;\" x1=\"16\" x2=\"101\" y1=\"28.2969\" y2=\"28.2969\"/><text fill=\"#000000\" font-family=\"sans-serif\" font-size=\"14\" font-weight=\"bold\" lengthAdjust=\"spacingAndGlyphs\" textLength=\"72\" x=\"20\" y=\"20.9951\">AliasTest</text></a><!--MD5=[b4997ac47864f28c2f74865a473b2911]\n",
       "class E2--><a href=\"psysml:789c28e5-5e95-405e-84fa-948507b238dc\" target=\"_top\" title=\"psysml:789c28e5-5e95-405e-84fa-948507b238dc\" xlink:actuate=\"onRequest\" xlink:href=\"psysml:789c28e5-5e95-405e-84fa-948507b238dc\" xlink:show=\"new\" xlink:title=\"psysml:789c28e5-5e95-405e-84fa-948507b238dc\" xlink:type=\"simple\"><rect fill=\"#FFFFFF\" height=\"45.9375\" id=\"E2\" rx=\"10\" ry=\"10\" style=\"stroke: #383838; stroke-width: 1.5;\" width=\"71\" x=\"194.5\" y=\"41\"/><text fill=\"#000000\" font-family=\"sans-serif\" font-size=\"12\" font-style=\"italic\" lengthAdjust=\"spacingAndGlyphs\" textLength=\"69\" x=\"195.5\" y=\"57.1387\">«attribute»</text><text fill=\"#000000\" font-family=\"sans-serif\" font-size=\"12\" lengthAdjust=\"spacingAndGlyphs\" textLength=\"8\" x=\"226\" y=\"71.1074\">q</text><line style=\"stroke: #383838; stroke-width: 1.5;\" x1=\"195.5\" x2=\"264.5\" y1=\"78.9375\" y2=\"78.9375\"/></a><!--MD5=[09b614a08d8cba4a07c9adeb5e0fee81]\n",
       "class E3--><a href=\"psysml:00588ae4-2df7-4d57-b3d7-e09c73d2d5b1\" target=\"_top\" title=\"psysml:00588ae4-2df7-4d57-b3d7-e09c73d2d5b1\" xlink:actuate=\"onRequest\" xlink:href=\"psysml:00588ae4-2df7-4d57-b3d7-e09c73d2d5b1\" xlink:show=\"new\" xlink:title=\"psysml:00588ae4-2df7-4d57-b3d7-e09c73d2d5b1\" xlink:type=\"simple\"><rect fill=\"#FFFFFF\" height=\"45.9375\" id=\"E3\" style=\"stroke: #383838; stroke-width: 1.5;\" width=\"66\" x=\"168\" y=\"147\"/><text fill=\"#000000\" font-family=\"sans-serif\" font-size=\"12\" font-style=\"italic\" lengthAdjust=\"spacingAndGlyphs\" textLength=\"64\" x=\"169\" y=\"163.1387\">«part def»</text><text fill=\"#000000\" font-family=\"sans-serif\" font-size=\"12\" lengthAdjust=\"spacingAndGlyphs\" textLength=\"16\" x=\"193\" y=\"177.1074\">P1</text><line style=\"stroke: #383838; stroke-width: 1.5;\" x1=\"169\" x2=\"233\" y1=\"184.9375\" y2=\"184.9375\"/></a><!--MD5=[ebbe1d658d1005bcc118a6aa81145e00]\n",
       "class E4--><a href=\"psysml:236a437d-3673-4742-905a-959f5dd42893\" target=\"_top\" title=\"psysml:236a437d-3673-4742-905a-959f5dd42893\" xlink:actuate=\"onRequest\" xlink:href=\"psysml:236a437d-3673-4742-905a-959f5dd42893\" xlink:show=\"new\" xlink:title=\"psysml:236a437d-3673-4742-905a-959f5dd42893\" xlink:type=\"simple\"><rect fill=\"#FFFFFF\" height=\"45.9375\" id=\"E4\" rx=\"10\" ry=\"10\" style=\"stroke: #383838; stroke-width: 1.5;\" width=\"46\" x=\"178\" y=\"253\"/><text fill=\"#000000\" font-family=\"sans-serif\" font-size=\"12\" font-style=\"italic\" lengthAdjust=\"spacingAndGlyphs\" textLength=\"40\" x=\"181\" y=\"269.1387\">«port»</text><text fill=\"#000000\" font-family=\"sans-serif\" font-size=\"12\" lengthAdjust=\"spacingAndGlyphs\" textLength=\"40\" x=\"181\" y=\"283.1074\">porig1</text><line style=\"stroke: #383838; stroke-width: 1.5;\" x1=\"179\" x2=\"223\" y1=\"290.9375\" y2=\"290.9375\"/></a><!--MD5=[270fce915f116d4de14055a7c1d9a0f3]\n",
       "class E5--><a href=\"psysml:4e54ee4d-012b-498f-93d7-1afb3759d34d\" target=\"_top\" title=\"psysml:4e54ee4d-012b-498f-93d7-1afb3759d34d\" xlink:actuate=\"onRequest\" xlink:href=\"psysml:4e54ee4d-012b-498f-93d7-1afb3759d34d\" xlink:show=\"new\" xlink:title=\"psysml:4e54ee4d-012b-498f-93d7-1afb3759d34d\" xlink:type=\"simple\"><rect fill=\"#FFFFFF\" height=\"45.9375\" id=\"E5\" rx=\"10\" ry=\"10\" style=\"stroke: #383838; stroke-width: 1.5;\" width=\"46\" x=\"113\" y=\"41\"/><text fill=\"#000000\" font-family=\"sans-serif\" font-size=\"12\" font-style=\"italic\" lengthAdjust=\"spacingAndGlyphs\" textLength=\"40\" x=\"116\" y=\"57.1387\">«part»</text><text fill=\"#000000\" font-family=\"sans-serif\" font-size=\"12\" lengthAdjust=\"spacingAndGlyphs\" textLength=\"40\" x=\"116\" y=\"71.1074\">p1: P1</text><line style=\"stroke: #383838; stroke-width: 1.5;\" x1=\"114\" x2=\"158\" y1=\"78.9375\" y2=\"78.9375\"/></a><!--MD5=[60a26617385b1d2d0262a64233df1f8d]\n",
       "class E6--><a href=\"psysml:8965b7df-293c-4ee2-9b2b-715c01154c80\" target=\"_top\" title=\"psysml:8965b7df-293c-4ee2-9b2b-715c01154c80\" xlink:actuate=\"onRequest\" xlink:href=\"psysml:8965b7df-293c-4ee2-9b2b-715c01154c80\" xlink:show=\"new\" xlink:title=\"psysml:8965b7df-293c-4ee2-9b2b-715c01154c80\" xlink:type=\"simple\"><rect fill=\"#FFFFFF\" height=\"45.9375\" id=\"E6\" rx=\"10\" ry=\"10\" style=\"stroke: #383838; stroke-width: 1.5;\" width=\"42\" x=\"91\" y=\"147\"/><text fill=\"#000000\" font-family=\"sans-serif\" font-size=\"12\" font-style=\"italic\" lengthAdjust=\"spacingAndGlyphs\" textLength=\"40\" x=\"92\" y=\"163.1387\">«port»</text><text fill=\"#000000\" font-family=\"sans-serif\" font-size=\"12\" lengthAdjust=\"spacingAndGlyphs\" textLength=\"24\" x=\"100\" y=\"177.1074\">po1</text><line style=\"stroke: #383838; stroke-width: 1.5;\" x1=\"92\" x2=\"132\" y1=\"184.9375\" y2=\"184.9375\"/></a><!--MD5=[2156ba9850f5573cc1fc38a6a4b2f02b]\n",
       "class E7--><a href=\"psysml:77eadb46-ce1a-4e0f-9527-bb06765d2ea7\" target=\"_top\" title=\"psysml:77eadb46-ce1a-4e0f-9527-bb06765d2ea7\" xlink:actuate=\"onRequest\" xlink:href=\"psysml:77eadb46-ce1a-4e0f-9527-bb06765d2ea7\" xlink:show=\"new\" xlink:title=\"psysml:77eadb46-ce1a-4e0f-9527-bb06765d2ea7\" xlink:type=\"simple\"><rect fill=\"#FFFFFF\" height=\"45.9375\" id=\"E7\" rx=\"10\" ry=\"10\" style=\"stroke: #383838; stroke-width: 1.5;\" width=\"46\" x=\"32\" y=\"41\"/><text fill=\"#000000\" font-family=\"sans-serif\" font-size=\"12\" font-style=\"italic\" lengthAdjust=\"spacingAndGlyphs\" textLength=\"40\" x=\"35\" y=\"57.1387\">«part»</text><text fill=\"#000000\" font-family=\"sans-serif\" font-size=\"12\" lengthAdjust=\"spacingAndGlyphs\" textLength=\"40\" x=\"35\" y=\"71.1074\">p2: P1</text><line style=\"stroke: #383838; stroke-width: 1.5;\" x1=\"33\" x2=\"77\" y1=\"78.9375\" y2=\"78.9375\"/></a><!--MD5=[b9389687b975829384b498ac4b7476b2]\n",
       "class E8--><a href=\"psysml:db28622a-fbe8-4c7d-8fe4-9e164802e944\" target=\"_top\" title=\"psysml:db28622a-fbe8-4c7d-8fe4-9e164802e944\" xlink:actuate=\"onRequest\" xlink:href=\"psysml:db28622a-fbe8-4c7d-8fe4-9e164802e944\" xlink:show=\"new\" xlink:title=\"psysml:db28622a-fbe8-4c7d-8fe4-9e164802e944\" xlink:type=\"simple\"><rect fill=\"#FFFFFF\" height=\"45.9375\" id=\"E8\" rx=\"10\" ry=\"10\" style=\"stroke: #383838; stroke-width: 1.5;\" width=\"42\" x=\"63\" y=\"253\"/><text fill=\"#000000\" font-family=\"sans-serif\" font-size=\"12\" font-style=\"italic\" lengthAdjust=\"spacingAndGlyphs\" textLength=\"40\" x=\"64\" y=\"269.1387\">«port»</text><text fill=\"#000000\" font-family=\"sans-serif\" font-size=\"12\" lengthAdjust=\"spacingAndGlyphs\" textLength=\"36\" x=\"66\" y=\"283.1074\">pdest</text><line style=\"stroke: #383838; stroke-width: 1.5;\" x1=\"64\" x2=\"104\" y1=\"290.9375\" y2=\"290.9375\"/></a><!--MD5=[4672eba38e49728da53d11aeb285b987]\n",
       "reverse link E3 to E4--><a href=\"psysml:10297d07-57fa-4f9d-a873-bd76f542a35c\" target=\"_top\" title=\"psysml:10297d07-57fa-4f9d-a873-bd76f542a35c\" xlink:actuate=\"onRequest\" xlink:href=\"psysml:10297d07-57fa-4f9d-a873-bd76f542a35c\" xlink:show=\"new\" xlink:title=\"psysml:10297d07-57fa-4f9d-a873-bd76f542a35c\" xlink:type=\"simple\"><path d=\"M188.84,206.44 C187.7,221.87 188.21,239.47 190.36,252.98 \" fill=\"none\" id=\"E3&lt;-E4\" style=\"stroke: #383838; stroke-width: 1.0;\"/><polygon fill=\"#FFFFFF\" points=\"190.35,193.06,185.7032,198.5743,189.006,204.9845,193.6528,199.4702,190.35,193.06\" style=\"stroke: #383838; stroke-width: 1.0;\"/><text fill=\"#000000\" font-family=\"sans-serif\" font-size=\"13\" lengthAdjust=\"spacingAndGlyphs\" textLength=\"8\" x=\"178.4255\" y=\"241.8709\">1</text></a><!--MD5=[4672eba38e49728da53d11aeb285b987]\n",
       "reverse link E3 to E4--><a href=\"psysml:4c29fec0-8309-450b-9bf3-4a2b28b77917\" target=\"_top\" title=\"psysml:4c29fec0-8309-450b-9bf3-4a2b28b77917\" xlink:actuate=\"onRequest\" xlink:href=\"psysml:4c29fec0-8309-450b-9bf3-4a2b28b77917\" xlink:show=\"new\" xlink:title=\"psysml:4c29fec0-8309-450b-9bf3-4a2b28b77917\" xlink:type=\"simple\"><path d=\"M214.01,208.34 C215.03,223.3 214.45,240.02 212.27,252.98 \" fill=\"none\" id=\"E3&lt;-E4-1\" style=\"stroke: #383838; stroke-width: 1.0; stroke-dasharray: 7.0,7.0;\"/><ellipse cx=\"213.1693\" cy=\"201.0093\" fill=\"#FFFFFF\" rx=\"8\" ry=\"8\" style=\"stroke: #383838; stroke-width: 1.0;\"/><line style=\"stroke: #383838; stroke-width: 1.0;\" x1=\"214.0687\" x2=\"212.27\" y1=\"208.9586\" y2=\"193.06\"/><line style=\"stroke: #383838; stroke-width: 1.0;\" x1=\"205.2201\" x2=\"221.1186\" y1=\"201.9086\" y2=\"200.1099\"/><text fill=\"#000000\" font-family=\"sans-serif\" font-size=\"13\" lengthAdjust=\"spacingAndGlyphs\" textLength=\"8\" x=\"206.2238\" y=\"241.8709\">1</text></a><!--MD5=[e9be52314489bd878ff4c7144b63c9e1]\n",
       "link E5 to E3--><a href=\"psysml:93a52ea3-a140-4bd2-b924-ec5ad15b1b7e\" target=\"_top\" title=\"psysml:93a52ea3-a140-4bd2-b924-ec5ad15b1b7e\" xlink:actuate=\"onRequest\" xlink:href=\"psysml:93a52ea3-a140-4bd2-b924-ec5ad15b1b7e\" xlink:show=\"new\" xlink:title=\"psysml:93a52ea3-a140-4bd2-b924-ec5ad15b1b7e\" xlink:type=\"simple\"><path d=\"M149.78,87.06 C157.54,99.47 167.45,115.33 176.49,129.78 \" fill=\"none\" id=\"E5-&gt;E3\" style=\"stroke: #383838; stroke-width: 1.0;\"/><polygon fill=\"#FFFFFF\" points=\"187.24,146.98,171.2331,134.5792,183.1045,127.1584,187.24,146.98\" style=\"stroke: #383838; stroke-width: 1.0;\"/><ellipse cx=\"169.9076\" cy=\"128.6857\" fill=\"#383838\" rx=\"2\" ry=\"2\" style=\"stroke: #383838; stroke-width: 1.0;\"/><ellipse cx=\"178.3872\" cy=\"123.3851\" fill=\"#383838\" rx=\"2\" ry=\"2\" style=\"stroke: #383838; stroke-width: 1.0;\"/></a><!--MD5=[85d356282659285ab4b2cfe2f634dd2b]\n",
       "reverse link E5 to E6--><a href=\"psysml:cdcbbeec-90be-4e1d-8c60-d92c8a6a7077\" target=\"_top\" title=\"psysml:cdcbbeec-90be-4e1d-8c60-d92c8a6a7077\" xlink:actuate=\"onRequest\" xlink:href=\"psysml:cdcbbeec-90be-4e1d-8c60-d92c8a6a7077\" xlink:show=\"new\" xlink:title=\"psysml:cdcbbeec-90be-4e1d-8c60-d92c8a6a7077\" xlink:type=\"simple\"><path d=\"M127.93,99.96 C124.34,115.51 120.23,133.33 117.08,146.98 \" fill=\"none\" id=\"E5&lt;-E6\" style=\"stroke: #383838; stroke-width: 1.0;\"/><polygon fill=\"#FFFFFF\" points=\"130.91,87.06,125.6616,92.0052,128.2078,98.7518,133.4562,93.8066,130.91,87.06\" style=\"stroke: #383838; stroke-width: 1.0;\"/><text fill=\"#000000\" font-family=\"sans-serif\" font-size=\"13\" lengthAdjust=\"spacingAndGlyphs\" textLength=\"8\" x=\"109.3703\" y=\"135.8709\">1</text></a><!--MD5=[f667431f98296947986a1a7595a31603]\n",
       "link E6 to E4--><a href=\"psysml:b5614b00-f88c-4f87-85f7-609ca7f17bae\" target=\"_top\" title=\"psysml:b5614b00-f88c-4f87-85f7-609ca7f17bae\" xlink:actuate=\"onRequest\" xlink:href=\"psysml:b5614b00-f88c-4f87-85f7-609ca7f17bae\" xlink:show=\"new\" xlink:title=\"psysml:b5614b00-f88c-4f87-85f7-609ca7f17bae\" xlink:type=\"simple\"><path d=\"M130.87,193.06 C141.97,206.02 156.28,222.74 169.08,237.7 \" fill=\"none\" id=\"E6-&gt;E4\" style=\"stroke: #383838; stroke-width: 1.0;\"/><polygon fill=\"#FFFFFF\" points=\"182.15,252.98,164.4809,243.0905,175.1204,233.9909,182.15,252.98\" style=\"stroke: #383838; stroke-width: 1.0;\"/><line style=\"stroke: #383838; stroke-width: 2.0;\" x1=\"162.011\" x2=\"172.6505\" y1=\"240.2026\" y2=\"231.1031\"/></a><!--MD5=[14ccda38c055a5c0da953d572bc50960]\n",
       "link E7 to E3--><a href=\"psysml:87c48ed5-bc50-48bb-899d-f807bfcdc26e\" target=\"_top\" title=\"psysml:87c48ed5-bc50-48bb-899d-f807bfcdc26e\" xlink:actuate=\"onRequest\" xlink:href=\"psysml:87c48ed5-bc50-48bb-899d-f807bfcdc26e\" xlink:show=\"new\" xlink:title=\"psysml:87c48ed5-bc50-48bb-899d-f807bfcdc26e\" xlink:type=\"simple\"><path d=\"M78.13,81.48 C98.32,95.86 128.25,117.18 153.52,135.18 \" fill=\"none\" id=\"E7-&gt;E3\" style=\"stroke: #383838; stroke-width: 1.0;\"/><polygon fill=\"#FFFFFF\" points=\"170.09,146.98,150.5533,141.6586,158.6755,130.2555,170.09,146.98\" style=\"stroke: #383838; stroke-width: 1.0;\"/><ellipse cx=\"147.0709\" cy=\"136.7227\" fill=\"#383838\" rx=\"2\" ry=\"2\" style=\"stroke: #383838; stroke-width: 1.0;\"/><ellipse cx=\"152.8725\" cy=\"128.5776\" fill=\"#383838\" rx=\"2\" ry=\"2\" style=\"stroke: #383838; stroke-width: 1.0;\"/></a><!--MD5=[dc164f5e8a733ab456ef1add180e9e34]\n",
       "reverse link E7 to E8--><a href=\"psysml:5ff6c459-66f7-4338-82bb-16aa2b22f6b4\" target=\"_top\" title=\"psysml:5ff6c459-66f7-4338-82bb-16aa2b22f6b4\" xlink:actuate=\"onRequest\" xlink:href=\"psysml:5ff6c459-66f7-4338-82bb-16aa2b22f6b4\" xlink:show=\"new\" xlink:title=\"psysml:5ff6c459-66f7-4338-82bb-16aa2b22f6b4\" xlink:type=\"simple\"><path d=\"M50.05,100.09 C51.65,143.61 62.25,216.5 72.75,252.9 \" fill=\"none\" id=\"E7&lt;-E8\" style=\"stroke: #383838; stroke-width: 1.0;\"/><polygon fill=\"#FFFFFF\" points=\"49.85,87.08,45.9362,93.1366,50.0216,99.0788,53.9354,93.0222,49.85,87.08\" style=\"stroke: #383838; stroke-width: 1.0;\"/><text fill=\"#000000\" font-family=\"sans-serif\" font-size=\"13\" lengthAdjust=\"spacingAndGlyphs\" textLength=\"8\" x=\"60.6516\" y=\"241.7694\">1</text></a><!--MD5=[dc164f5e8a733ab456ef1add180e9e34]\n",
       "reverse link E7 to E8--><a href=\"psysml:4eb1c616-a5a7-47d5-8985-e84491dc2120\" target=\"_top\" title=\"psysml:4eb1c616-a5a7-47d5-8985-e84491dc2120\" xlink:actuate=\"onRequest\" xlink:href=\"psysml:4eb1c616-a5a7-47d5-8985-e84491dc2120\" xlink:show=\"new\" xlink:title=\"psysml:4eb1c616-a5a7-47d5-8985-e84491dc2120\" xlink:type=\"simple\"><path d=\"M70.64,101.8 C81.15,145.5 90.39,216.97 89.63,252.9 \" fill=\"none\" id=\"E7&lt;-E8-1\" style=\"stroke: #383838; stroke-width: 1.0; stroke-dasharray: 7.0,7.0;\"/><ellipse cx=\"68.7794\" cy=\"94.813\" fill=\"#FFFFFF\" rx=\"8\" ry=\"8\" style=\"stroke: #383838; stroke-width: 1.0;\"/><line style=\"stroke: #383838; stroke-width: 1.0;\" x1=\"70.8289\" x2=\"66.73\" y1=\"102.5461\" y2=\"87.08\"/><line style=\"stroke: #383838; stroke-width: 1.0;\" x1=\"61.0464\" x2=\"76.5125\" y1=\"96.8625\" y2=\"92.7636\"/><text fill=\"#000000\" font-family=\"sans-serif\" font-size=\"13\" lengthAdjust=\"spacingAndGlyphs\" textLength=\"8\" x=\"92.2181\" y=\"241.7694\">1</text></a><!--MD5=[0a839d0f80c2d72d4b9b307f046d0de8]\n",
       "link E6 to E8--><a href=\"psysml:af89f277-c22a-4acb-b9c9-7f04d6a8a86b\" target=\"_top\" title=\"psysml:af89f277-c22a-4acb-b9c9-7f04d6a8a86b\" xlink:actuate=\"onRequest\" xlink:href=\"psysml:af89f277-c22a-4acb-b9c9-7f04d6a8a86b\" xlink:show=\"new\" xlink:title=\"psysml:af89f277-c22a-4acb-b9c9-7f04d6a8a86b\" xlink:type=\"simple\"><path d=\"M95.42,193.06 C87.86,210.7 81.23,235.34 79.29,252.98 \" fill=\"none\" id=\"E6-E8\" style=\"stroke: #383838; stroke-width: 3.0;\"/><text fill=\"#000000\" font-family=\"sans-serif\" font-size=\"13\" lengthAdjust=\"spacingAndGlyphs\" textLength=\"7\" x=\"78.9648\" y=\"241.8709\">*</text></a><!--MD5=[0a839d0f80c2d72d4b9b307f046d0de8]\n",
       "link E6 to E8--><a href=\"psysml:6818c790-7ee4-49fa-b866-28c88d0d2e1e\" target=\"_top\" title=\"psysml:6818c790-7ee4-49fa-b866-28c88d0d2e1e\" xlink:actuate=\"onRequest\" xlink:href=\"psysml:6818c790-7ee4-49fa-b866-28c88d0d2e1e\" xlink:show=\"new\" xlink:title=\"psysml:6818c790-7ee4-49fa-b866-28c88d0d2e1e\" xlink:type=\"simple\"><path d=\"M117.33,193.06 C115.55,210.7 108.92,235.34 101.2,252.98 \" fill=\"none\" id=\"E6-E8-1\" style=\"stroke: #383838; stroke-width: 3.0;\"/><text fill=\"#000000\" font-family=\"sans-serif\" font-size=\"13\" lengthAdjust=\"spacingAndGlyphs\" textLength=\"7\" x=\"97.8819\" y=\"241.8709\">*</text></a><!--MD5=[0079100fe18cef846eb0b87eee74dcaf]\n",
       "@startuml\r\n",
       "top to bottom direction\r\n",
       "skinparam monochrome true\r\n",
       "skinparam classbackgroundcolor white\r\n",
       "skinparam shadowing false\r\n",
       "skinparam wrapWidth 300\r\n",
       "hide circle\r\n",
       "\r\n",
       "package \"AliasTest\" as E1  [[psysml:7e4311dd-4dd4-41de-a431-b17c5d614850 ]]  {\r\n",
       "comp usage \"q\" as E2  <<(T,blue) attribute>> [[psysml:789c28e5-5e95-405e-84fa-948507b238dc ]] {\r\n",
       "}\r\n",
       "comp def \"P1\" as E3  <<(T,blue) part def>> [[psysml:00588ae4-2df7-4d57-b3d7-e09c73d2d5b1 ]] {\r\n",
       "}\r\n",
       "comp usage \"porig1\" as E4  <<(T,blue) port>> [[psysml:236a437d-3673-4742-905a-959f5dd42893 ]] {\r\n",
       "}\r\n",
       "comp usage \"p1: P1\" as E5  <<(T,blue) part>> [[psysml:4e54ee4d-012b-498f-93d7-1afb3759d34d ]] {\r\n",
       "}\r\n",
       "comp usage \"po1\" as E6  <<(T,blue) port>> [[psysml:8965b7df-293c-4ee2-9b2b-715c01154c80 ]] {\r\n",
       "}\r\n",
       "comp usage \"p2: P1\" as E7  <<(T,blue) part>> [[psysml:77eadb46-ce1a-4e0f-9527-bb06765d2ea7 ]] {\r\n",
       "}\r\n",
       "comp usage \"pdest\" as E8  <<(T,blue) port>> [[psysml:db28622a-fbe8-4c7d-8fe4-9e164802e944 ]] {\r\n",
       "}\r\n",
       "E3 o- - \"1\"E4 [[psysml:10297d07-57fa-4f9d-a873-bd76f542a35c ]] \r\n",
       "E3 +.. \"1\"E4 [[psysml:4c29fec0-8309-450b-9bf3-4a2b28b77917 ]] \r\n",
       "E5 - -:|> E3 [[psysml:93a52ea3-a140-4bd2-b924-ec5ad15b1b7e ]] \r\n",
       "E5 o- - \"1\"E6 [[psysml:cdcbbeec-90be-4e1d-8c60-d92c8a6a7077 ]] \r\n",
       "E6 - -||> E4 [[psysml:b5614b00-f88c-4f87-85f7-609ca7f17bae ]] \r\n",
       "E7 - -:|> E3 [[psysml:87c48ed5-bc50-48bb-899d-f807bfcdc26e ]] \r\n",
       "E7 o- - \"1\"E8 [[psysml:5ff6c459-66f7-4338-82bb-16aa2b22f6b4 ]] \r\n",
       "E7 +.. \"1\"E8 [[psysml:4eb1c616-a5a7-47d5-8985-e84491dc2120 ]] \r\n",
       "E6 -[thickness=3]- \"*\"E8 [[psysml:af89f277-c22a-4acb-b9c9-7f04d6a8a86b ]] \r\n",
       "E6 -[thickness=3]- \"*\"E8 [[psysml:6818c790-7ee4-49fa-b866-28c88d0d2e1e ]] \r\n",
       "}\r\n",
       "@enduml\r\n",
       "\n",
       "PlantUML version 1.2020.13(Sat Jun 13 12:26:38 UTC 2020)\n",
       "(EPL source distribution)\n",
       "Java Runtime: OpenJDK Runtime Environment\n",
       "JVM: OpenJDK 64-Bit Server VM\n",
       "Default Encoding: UTF-8\n",
       "Language: en\n",
       "Country: null\n",
       "--></g></svg>"
      ]
     },
     "execution_count": 49,
     "metadata": {},
     "output_type": "execute_result"
    }
   ],
   "source": [
    "%viz --style=\"TB\" --view=\"Sequence\" \"AliasTest\""
   ]
  },
  {
   "cell_type": "code",
   "execution_count": 50,
   "id": "2ac84048",
   "metadata": {
    "execution": {
     "iopub.execute_input": "2021-08-04T06:25:33.532854Z",
     "iopub.status.busy": "2021-08-04T06:25:33.532321Z",
     "iopub.status.idle": "2021-08-04T06:25:33.556765Z",
     "shell.execute_reply": "2021-08-04T06:25:33.556384Z"
    }
   },
   "outputs": [
    {
     "data": {
      "image/svg+xml": [
       "<?xml version=\"1.0\" encoding=\"UTF-8\" standalone=\"no\"?><svg xmlns=\"http://www.w3.org/2000/svg\" xmlns:xlink=\"http://www.w3.org/1999/xlink\" contentScriptType=\"application/ecmascript\" contentStyleType=\"text/css\" height=\"327px\" preserveAspectRatio=\"none\" style=\"width:304px;height:327px;\" version=\"1.1\" viewBox=\"0 0 304 327\" width=\"304px\" zoomAndPan=\"magnify\"><defs/><g><!--MD5=[fbc87193dbaf4d95561dea2c320d4a47]\n",
       "cluster E1--><a href=\"psysml:7e4311dd-4dd4-41de-a431-b17c5d614850\" target=\"_top\" title=\"psysml:7e4311dd-4dd4-41de-a431-b17c5d614850\" xlink:actuate=\"onRequest\" xlink:href=\"psysml:7e4311dd-4dd4-41de-a431-b17c5d614850\" xlink:show=\"new\" xlink:title=\"psysml:7e4311dd-4dd4-41de-a431-b17c5d614850\" xlink:type=\"simple\"><polygon fill=\"#FFFFFF\" points=\"16,6,94,6,101,28.2969,282,28.2969,282,315,16,315,16,6\" style=\"stroke: #000000; stroke-width: 1.5;\"/><line style=\"stroke: #000000; stroke-width: 1.5;\" x1=\"16\" x2=\"101\" y1=\"28.2969\" y2=\"28.2969\"/><text fill=\"#000000\" font-family=\"sans-serif\" font-size=\"14\" font-weight=\"bold\" lengthAdjust=\"spacingAndGlyphs\" textLength=\"72\" x=\"20\" y=\"20.9951\">AliasTest</text></a><!--MD5=[b4997ac47864f28c2f74865a473b2911]\n",
       "class E2--><a href=\"psysml:789c28e5-5e95-405e-84fa-948507b238dc\" target=\"_top\" title=\"psysml:789c28e5-5e95-405e-84fa-948507b238dc\" xlink:actuate=\"onRequest\" xlink:href=\"psysml:789c28e5-5e95-405e-84fa-948507b238dc\" xlink:show=\"new\" xlink:title=\"psysml:789c28e5-5e95-405e-84fa-948507b238dc\" xlink:type=\"simple\"><rect fill=\"#FFFFFF\" height=\"45.9375\" id=\"E2\" rx=\"10\" ry=\"10\" style=\"stroke: #383838; stroke-width: 1.5;\" width=\"71\" x=\"194.5\" y=\"41\"/><text fill=\"#000000\" font-family=\"sans-serif\" font-size=\"12\" font-style=\"italic\" lengthAdjust=\"spacingAndGlyphs\" textLength=\"69\" x=\"195.5\" y=\"57.1387\">«attribute»</text><text fill=\"#000000\" font-family=\"sans-serif\" font-size=\"12\" lengthAdjust=\"spacingAndGlyphs\" textLength=\"8\" x=\"226\" y=\"71.1074\">q</text><line style=\"stroke: #383838; stroke-width: 1.5;\" x1=\"195.5\" x2=\"264.5\" y1=\"78.9375\" y2=\"78.9375\"/></a><!--MD5=[09b614a08d8cba4a07c9adeb5e0fee81]\n",
       "class E3--><a href=\"psysml:00588ae4-2df7-4d57-b3d7-e09c73d2d5b1\" target=\"_top\" title=\"psysml:00588ae4-2df7-4d57-b3d7-e09c73d2d5b1\" xlink:actuate=\"onRequest\" xlink:href=\"psysml:00588ae4-2df7-4d57-b3d7-e09c73d2d5b1\" xlink:show=\"new\" xlink:title=\"psysml:00588ae4-2df7-4d57-b3d7-e09c73d2d5b1\" xlink:type=\"simple\"><rect fill=\"#FFFFFF\" height=\"45.9375\" id=\"E3\" style=\"stroke: #383838; stroke-width: 1.5;\" width=\"66\" x=\"168\" y=\"147\"/><text fill=\"#000000\" font-family=\"sans-serif\" font-size=\"12\" font-style=\"italic\" lengthAdjust=\"spacingAndGlyphs\" textLength=\"64\" x=\"169\" y=\"163.1387\">«part def»</text><text fill=\"#000000\" font-family=\"sans-serif\" font-size=\"12\" lengthAdjust=\"spacingAndGlyphs\" textLength=\"16\" x=\"193\" y=\"177.1074\">P1</text><line style=\"stroke: #383838; stroke-width: 1.5;\" x1=\"169\" x2=\"233\" y1=\"184.9375\" y2=\"184.9375\"/></a><!--MD5=[ebbe1d658d1005bcc118a6aa81145e00]\n",
       "class E4--><a href=\"psysml:236a437d-3673-4742-905a-959f5dd42893\" target=\"_top\" title=\"psysml:236a437d-3673-4742-905a-959f5dd42893\" xlink:actuate=\"onRequest\" xlink:href=\"psysml:236a437d-3673-4742-905a-959f5dd42893\" xlink:show=\"new\" xlink:title=\"psysml:236a437d-3673-4742-905a-959f5dd42893\" xlink:type=\"simple\"><rect fill=\"#FFFFFF\" height=\"45.9375\" id=\"E4\" rx=\"10\" ry=\"10\" style=\"stroke: #383838; stroke-width: 1.5;\" width=\"46\" x=\"178\" y=\"253\"/><text fill=\"#000000\" font-family=\"sans-serif\" font-size=\"12\" font-style=\"italic\" lengthAdjust=\"spacingAndGlyphs\" textLength=\"40\" x=\"181\" y=\"269.1387\">«port»</text><text fill=\"#000000\" font-family=\"sans-serif\" font-size=\"12\" lengthAdjust=\"spacingAndGlyphs\" textLength=\"40\" x=\"181\" y=\"283.1074\">porig1</text><line style=\"stroke: #383838; stroke-width: 1.5;\" x1=\"179\" x2=\"223\" y1=\"290.9375\" y2=\"290.9375\"/></a><!--MD5=[270fce915f116d4de14055a7c1d9a0f3]\n",
       "class E5--><a href=\"psysml:4e54ee4d-012b-498f-93d7-1afb3759d34d\" target=\"_top\" title=\"psysml:4e54ee4d-012b-498f-93d7-1afb3759d34d\" xlink:actuate=\"onRequest\" xlink:href=\"psysml:4e54ee4d-012b-498f-93d7-1afb3759d34d\" xlink:show=\"new\" xlink:title=\"psysml:4e54ee4d-012b-498f-93d7-1afb3759d34d\" xlink:type=\"simple\"><rect fill=\"#FFFFFF\" height=\"45.9375\" id=\"E5\" rx=\"10\" ry=\"10\" style=\"stroke: #383838; stroke-width: 1.5;\" width=\"46\" x=\"113\" y=\"41\"/><text fill=\"#000000\" font-family=\"sans-serif\" font-size=\"12\" font-style=\"italic\" lengthAdjust=\"spacingAndGlyphs\" textLength=\"40\" x=\"116\" y=\"57.1387\">«part»</text><text fill=\"#000000\" font-family=\"sans-serif\" font-size=\"12\" lengthAdjust=\"spacingAndGlyphs\" textLength=\"40\" x=\"116\" y=\"71.1074\">p1: P1</text><line style=\"stroke: #383838; stroke-width: 1.5;\" x1=\"114\" x2=\"158\" y1=\"78.9375\" y2=\"78.9375\"/></a><!--MD5=[60a26617385b1d2d0262a64233df1f8d]\n",
       "class E6--><a href=\"psysml:8965b7df-293c-4ee2-9b2b-715c01154c80\" target=\"_top\" title=\"psysml:8965b7df-293c-4ee2-9b2b-715c01154c80\" xlink:actuate=\"onRequest\" xlink:href=\"psysml:8965b7df-293c-4ee2-9b2b-715c01154c80\" xlink:show=\"new\" xlink:title=\"psysml:8965b7df-293c-4ee2-9b2b-715c01154c80\" xlink:type=\"simple\"><rect fill=\"#FFFFFF\" height=\"45.9375\" id=\"E6\" rx=\"10\" ry=\"10\" style=\"stroke: #383838; stroke-width: 1.5;\" width=\"42\" x=\"91\" y=\"147\"/><text fill=\"#000000\" font-family=\"sans-serif\" font-size=\"12\" font-style=\"italic\" lengthAdjust=\"spacingAndGlyphs\" textLength=\"40\" x=\"92\" y=\"163.1387\">«port»</text><text fill=\"#000000\" font-family=\"sans-serif\" font-size=\"12\" lengthAdjust=\"spacingAndGlyphs\" textLength=\"24\" x=\"100\" y=\"177.1074\">po1</text><line style=\"stroke: #383838; stroke-width: 1.5;\" x1=\"92\" x2=\"132\" y1=\"184.9375\" y2=\"184.9375\"/></a><!--MD5=[2156ba9850f5573cc1fc38a6a4b2f02b]\n",
       "class E7--><a href=\"psysml:77eadb46-ce1a-4e0f-9527-bb06765d2ea7\" target=\"_top\" title=\"psysml:77eadb46-ce1a-4e0f-9527-bb06765d2ea7\" xlink:actuate=\"onRequest\" xlink:href=\"psysml:77eadb46-ce1a-4e0f-9527-bb06765d2ea7\" xlink:show=\"new\" xlink:title=\"psysml:77eadb46-ce1a-4e0f-9527-bb06765d2ea7\" xlink:type=\"simple\"><rect fill=\"#FFFFFF\" height=\"45.9375\" id=\"E7\" rx=\"10\" ry=\"10\" style=\"stroke: #383838; stroke-width: 1.5;\" width=\"46\" x=\"32\" y=\"41\"/><text fill=\"#000000\" font-family=\"sans-serif\" font-size=\"12\" font-style=\"italic\" lengthAdjust=\"spacingAndGlyphs\" textLength=\"40\" x=\"35\" y=\"57.1387\">«part»</text><text fill=\"#000000\" font-family=\"sans-serif\" font-size=\"12\" lengthAdjust=\"spacingAndGlyphs\" textLength=\"40\" x=\"35\" y=\"71.1074\">p2: P1</text><line style=\"stroke: #383838; stroke-width: 1.5;\" x1=\"33\" x2=\"77\" y1=\"78.9375\" y2=\"78.9375\"/></a><!--MD5=[b9389687b975829384b498ac4b7476b2]\n",
       "class E8--><a href=\"psysml:db28622a-fbe8-4c7d-8fe4-9e164802e944\" target=\"_top\" title=\"psysml:db28622a-fbe8-4c7d-8fe4-9e164802e944\" xlink:actuate=\"onRequest\" xlink:href=\"psysml:db28622a-fbe8-4c7d-8fe4-9e164802e944\" xlink:show=\"new\" xlink:title=\"psysml:db28622a-fbe8-4c7d-8fe4-9e164802e944\" xlink:type=\"simple\"><rect fill=\"#FFFFFF\" height=\"45.9375\" id=\"E8\" rx=\"10\" ry=\"10\" style=\"stroke: #383838; stroke-width: 1.5;\" width=\"42\" x=\"63\" y=\"253\"/><text fill=\"#000000\" font-family=\"sans-serif\" font-size=\"12\" font-style=\"italic\" lengthAdjust=\"spacingAndGlyphs\" textLength=\"40\" x=\"64\" y=\"269.1387\">«port»</text><text fill=\"#000000\" font-family=\"sans-serif\" font-size=\"12\" lengthAdjust=\"spacingAndGlyphs\" textLength=\"36\" x=\"66\" y=\"283.1074\">pdest</text><line style=\"stroke: #383838; stroke-width: 1.5;\" x1=\"64\" x2=\"104\" y1=\"290.9375\" y2=\"290.9375\"/></a><!--MD5=[4672eba38e49728da53d11aeb285b987]\n",
       "reverse link E3 to E4--><a href=\"psysml:10297d07-57fa-4f9d-a873-bd76f542a35c\" target=\"_top\" title=\"psysml:10297d07-57fa-4f9d-a873-bd76f542a35c\" xlink:actuate=\"onRequest\" xlink:href=\"psysml:10297d07-57fa-4f9d-a873-bd76f542a35c\" xlink:show=\"new\" xlink:title=\"psysml:10297d07-57fa-4f9d-a873-bd76f542a35c\" xlink:type=\"simple\"><path d=\"M188.84,206.44 C187.7,221.87 188.21,239.47 190.36,252.98 \" fill=\"none\" id=\"E3&lt;-E4\" style=\"stroke: #383838; stroke-width: 1.0;\"/><polygon fill=\"#FFFFFF\" points=\"190.35,193.06,185.7032,198.5743,189.006,204.9845,193.6528,199.4702,190.35,193.06\" style=\"stroke: #383838; stroke-width: 1.0;\"/><text fill=\"#000000\" font-family=\"sans-serif\" font-size=\"13\" lengthAdjust=\"spacingAndGlyphs\" textLength=\"8\" x=\"178.4255\" y=\"241.8709\">1</text></a><!--MD5=[4672eba38e49728da53d11aeb285b987]\n",
       "reverse link E3 to E4--><a href=\"psysml:4c29fec0-8309-450b-9bf3-4a2b28b77917\" target=\"_top\" title=\"psysml:4c29fec0-8309-450b-9bf3-4a2b28b77917\" xlink:actuate=\"onRequest\" xlink:href=\"psysml:4c29fec0-8309-450b-9bf3-4a2b28b77917\" xlink:show=\"new\" xlink:title=\"psysml:4c29fec0-8309-450b-9bf3-4a2b28b77917\" xlink:type=\"simple\"><path d=\"M214.01,208.34 C215.03,223.3 214.45,240.02 212.27,252.98 \" fill=\"none\" id=\"E3&lt;-E4-1\" style=\"stroke: #383838; stroke-width: 1.0; stroke-dasharray: 7.0,7.0;\"/><ellipse cx=\"213.1693\" cy=\"201.0093\" fill=\"#FFFFFF\" rx=\"8\" ry=\"8\" style=\"stroke: #383838; stroke-width: 1.0;\"/><line style=\"stroke: #383838; stroke-width: 1.0;\" x1=\"214.0687\" x2=\"212.27\" y1=\"208.9586\" y2=\"193.06\"/><line style=\"stroke: #383838; stroke-width: 1.0;\" x1=\"205.2201\" x2=\"221.1186\" y1=\"201.9086\" y2=\"200.1099\"/><text fill=\"#000000\" font-family=\"sans-serif\" font-size=\"13\" lengthAdjust=\"spacingAndGlyphs\" textLength=\"8\" x=\"206.2238\" y=\"241.8709\">1</text></a><!--MD5=[e9be52314489bd878ff4c7144b63c9e1]\n",
       "link E5 to E3--><a href=\"psysml:93a52ea3-a140-4bd2-b924-ec5ad15b1b7e\" target=\"_top\" title=\"psysml:93a52ea3-a140-4bd2-b924-ec5ad15b1b7e\" xlink:actuate=\"onRequest\" xlink:href=\"psysml:93a52ea3-a140-4bd2-b924-ec5ad15b1b7e\" xlink:show=\"new\" xlink:title=\"psysml:93a52ea3-a140-4bd2-b924-ec5ad15b1b7e\" xlink:type=\"simple\"><path d=\"M149.78,87.06 C157.54,99.47 167.45,115.33 176.49,129.78 \" fill=\"none\" id=\"E5-&gt;E3\" style=\"stroke: #383838; stroke-width: 1.0;\"/><polygon fill=\"#FFFFFF\" points=\"187.24,146.98,171.2331,134.5792,183.1045,127.1584,187.24,146.98\" style=\"stroke: #383838; stroke-width: 1.0;\"/><ellipse cx=\"169.9076\" cy=\"128.6857\" fill=\"#383838\" rx=\"2\" ry=\"2\" style=\"stroke: #383838; stroke-width: 1.0;\"/><ellipse cx=\"178.3872\" cy=\"123.3851\" fill=\"#383838\" rx=\"2\" ry=\"2\" style=\"stroke: #383838; stroke-width: 1.0;\"/></a><!--MD5=[85d356282659285ab4b2cfe2f634dd2b]\n",
       "reverse link E5 to E6--><a href=\"psysml:cdcbbeec-90be-4e1d-8c60-d92c8a6a7077\" target=\"_top\" title=\"psysml:cdcbbeec-90be-4e1d-8c60-d92c8a6a7077\" xlink:actuate=\"onRequest\" xlink:href=\"psysml:cdcbbeec-90be-4e1d-8c60-d92c8a6a7077\" xlink:show=\"new\" xlink:title=\"psysml:cdcbbeec-90be-4e1d-8c60-d92c8a6a7077\" xlink:type=\"simple\"><path d=\"M127.93,99.96 C124.34,115.51 120.23,133.33 117.08,146.98 \" fill=\"none\" id=\"E5&lt;-E6\" style=\"stroke: #383838; stroke-width: 1.0;\"/><polygon fill=\"#FFFFFF\" points=\"130.91,87.06,125.6616,92.0052,128.2078,98.7518,133.4562,93.8066,130.91,87.06\" style=\"stroke: #383838; stroke-width: 1.0;\"/><text fill=\"#000000\" font-family=\"sans-serif\" font-size=\"13\" lengthAdjust=\"spacingAndGlyphs\" textLength=\"8\" x=\"109.3703\" y=\"135.8709\">1</text></a><!--MD5=[f667431f98296947986a1a7595a31603]\n",
       "link E6 to E4--><a href=\"psysml:b5614b00-f88c-4f87-85f7-609ca7f17bae\" target=\"_top\" title=\"psysml:b5614b00-f88c-4f87-85f7-609ca7f17bae\" xlink:actuate=\"onRequest\" xlink:href=\"psysml:b5614b00-f88c-4f87-85f7-609ca7f17bae\" xlink:show=\"new\" xlink:title=\"psysml:b5614b00-f88c-4f87-85f7-609ca7f17bae\" xlink:type=\"simple\"><path d=\"M130.87,193.06 C141.97,206.02 156.28,222.74 169.08,237.7 \" fill=\"none\" id=\"E6-&gt;E4\" style=\"stroke: #383838; stroke-width: 1.0;\"/><polygon fill=\"#FFFFFF\" points=\"182.15,252.98,164.4809,243.0905,175.1204,233.9909,182.15,252.98\" style=\"stroke: #383838; stroke-width: 1.0;\"/><line style=\"stroke: #383838; stroke-width: 2.0;\" x1=\"162.011\" x2=\"172.6505\" y1=\"240.2026\" y2=\"231.1031\"/></a><!--MD5=[14ccda38c055a5c0da953d572bc50960]\n",
       "link E7 to E3--><a href=\"psysml:87c48ed5-bc50-48bb-899d-f807bfcdc26e\" target=\"_top\" title=\"psysml:87c48ed5-bc50-48bb-899d-f807bfcdc26e\" xlink:actuate=\"onRequest\" xlink:href=\"psysml:87c48ed5-bc50-48bb-899d-f807bfcdc26e\" xlink:show=\"new\" xlink:title=\"psysml:87c48ed5-bc50-48bb-899d-f807bfcdc26e\" xlink:type=\"simple\"><path d=\"M78.13,81.48 C98.32,95.86 128.25,117.18 153.52,135.18 \" fill=\"none\" id=\"E7-&gt;E3\" style=\"stroke: #383838; stroke-width: 1.0;\"/><polygon fill=\"#FFFFFF\" points=\"170.09,146.98,150.5533,141.6586,158.6755,130.2555,170.09,146.98\" style=\"stroke: #383838; stroke-width: 1.0;\"/><ellipse cx=\"147.0709\" cy=\"136.7227\" fill=\"#383838\" rx=\"2\" ry=\"2\" style=\"stroke: #383838; stroke-width: 1.0;\"/><ellipse cx=\"152.8725\" cy=\"128.5776\" fill=\"#383838\" rx=\"2\" ry=\"2\" style=\"stroke: #383838; stroke-width: 1.0;\"/></a><!--MD5=[dc164f5e8a733ab456ef1add180e9e34]\n",
       "reverse link E7 to E8--><a href=\"psysml:5ff6c459-66f7-4338-82bb-16aa2b22f6b4\" target=\"_top\" title=\"psysml:5ff6c459-66f7-4338-82bb-16aa2b22f6b4\" xlink:actuate=\"onRequest\" xlink:href=\"psysml:5ff6c459-66f7-4338-82bb-16aa2b22f6b4\" xlink:show=\"new\" xlink:title=\"psysml:5ff6c459-66f7-4338-82bb-16aa2b22f6b4\" xlink:type=\"simple\"><path d=\"M50.05,100.09 C51.65,143.61 62.25,216.5 72.75,252.9 \" fill=\"none\" id=\"E7&lt;-E8\" style=\"stroke: #383838; stroke-width: 1.0;\"/><polygon fill=\"#FFFFFF\" points=\"49.85,87.08,45.9362,93.1366,50.0216,99.0788,53.9354,93.0222,49.85,87.08\" style=\"stroke: #383838; stroke-width: 1.0;\"/><text fill=\"#000000\" font-family=\"sans-serif\" font-size=\"13\" lengthAdjust=\"spacingAndGlyphs\" textLength=\"8\" x=\"60.6516\" y=\"241.7694\">1</text></a><!--MD5=[dc164f5e8a733ab456ef1add180e9e34]\n",
       "reverse link E7 to E8--><a href=\"psysml:4eb1c616-a5a7-47d5-8985-e84491dc2120\" target=\"_top\" title=\"psysml:4eb1c616-a5a7-47d5-8985-e84491dc2120\" xlink:actuate=\"onRequest\" xlink:href=\"psysml:4eb1c616-a5a7-47d5-8985-e84491dc2120\" xlink:show=\"new\" xlink:title=\"psysml:4eb1c616-a5a7-47d5-8985-e84491dc2120\" xlink:type=\"simple\"><path d=\"M70.64,101.8 C81.15,145.5 90.39,216.97 89.63,252.9 \" fill=\"none\" id=\"E7&lt;-E8-1\" style=\"stroke: #383838; stroke-width: 1.0; stroke-dasharray: 7.0,7.0;\"/><ellipse cx=\"68.7794\" cy=\"94.813\" fill=\"#FFFFFF\" rx=\"8\" ry=\"8\" style=\"stroke: #383838; stroke-width: 1.0;\"/><line style=\"stroke: #383838; stroke-width: 1.0;\" x1=\"70.8289\" x2=\"66.73\" y1=\"102.5461\" y2=\"87.08\"/><line style=\"stroke: #383838; stroke-width: 1.0;\" x1=\"61.0464\" x2=\"76.5125\" y1=\"96.8625\" y2=\"92.7636\"/><text fill=\"#000000\" font-family=\"sans-serif\" font-size=\"13\" lengthAdjust=\"spacingAndGlyphs\" textLength=\"8\" x=\"92.2181\" y=\"241.7694\">1</text></a><!--MD5=[0a839d0f80c2d72d4b9b307f046d0de8]\n",
       "link E6 to E8--><a href=\"psysml:af89f277-c22a-4acb-b9c9-7f04d6a8a86b\" target=\"_top\" title=\"psysml:af89f277-c22a-4acb-b9c9-7f04d6a8a86b\" xlink:actuate=\"onRequest\" xlink:href=\"psysml:af89f277-c22a-4acb-b9c9-7f04d6a8a86b\" xlink:show=\"new\" xlink:title=\"psysml:af89f277-c22a-4acb-b9c9-7f04d6a8a86b\" xlink:type=\"simple\"><path d=\"M95.42,193.06 C87.86,210.7 81.23,235.34 79.29,252.98 \" fill=\"none\" id=\"E6-E8\" style=\"stroke: #383838; stroke-width: 3.0;\"/><text fill=\"#000000\" font-family=\"sans-serif\" font-size=\"13\" lengthAdjust=\"spacingAndGlyphs\" textLength=\"7\" x=\"78.9648\" y=\"241.8709\">*</text></a><!--MD5=[0a839d0f80c2d72d4b9b307f046d0de8]\n",
       "link E6 to E8--><a href=\"psysml:6818c790-7ee4-49fa-b866-28c88d0d2e1e\" target=\"_top\" title=\"psysml:6818c790-7ee4-49fa-b866-28c88d0d2e1e\" xlink:actuate=\"onRequest\" xlink:href=\"psysml:6818c790-7ee4-49fa-b866-28c88d0d2e1e\" xlink:show=\"new\" xlink:title=\"psysml:6818c790-7ee4-49fa-b866-28c88d0d2e1e\" xlink:type=\"simple\"><path d=\"M117.33,193.06 C115.55,210.7 108.92,235.34 101.2,252.98 \" fill=\"none\" id=\"E6-E8-1\" style=\"stroke: #383838; stroke-width: 3.0;\"/><text fill=\"#000000\" font-family=\"sans-serif\" font-size=\"13\" lengthAdjust=\"spacingAndGlyphs\" textLength=\"7\" x=\"97.8819\" y=\"241.8709\">*</text></a><!--MD5=[0079100fe18cef846eb0b87eee74dcaf]\n",
       "@startuml\r\n",
       "top to bottom direction\r\n",
       "skinparam monochrome true\r\n",
       "skinparam classbackgroundcolor white\r\n",
       "skinparam shadowing false\r\n",
       "skinparam wrapWidth 300\r\n",
       "hide circle\r\n",
       "\r\n",
       "package \"AliasTest\" as E1  [[psysml:7e4311dd-4dd4-41de-a431-b17c5d614850 ]]  {\r\n",
       "comp usage \"q\" as E2  <<(T,blue) attribute>> [[psysml:789c28e5-5e95-405e-84fa-948507b238dc ]] {\r\n",
       "}\r\n",
       "comp def \"P1\" as E3  <<(T,blue) part def>> [[psysml:00588ae4-2df7-4d57-b3d7-e09c73d2d5b1 ]] {\r\n",
       "}\r\n",
       "comp usage \"porig1\" as E4  <<(T,blue) port>> [[psysml:236a437d-3673-4742-905a-959f5dd42893 ]] {\r\n",
       "}\r\n",
       "comp usage \"p1: P1\" as E5  <<(T,blue) part>> [[psysml:4e54ee4d-012b-498f-93d7-1afb3759d34d ]] {\r\n",
       "}\r\n",
       "comp usage \"po1\" as E6  <<(T,blue) port>> [[psysml:8965b7df-293c-4ee2-9b2b-715c01154c80 ]] {\r\n",
       "}\r\n",
       "comp usage \"p2: P1\" as E7  <<(T,blue) part>> [[psysml:77eadb46-ce1a-4e0f-9527-bb06765d2ea7 ]] {\r\n",
       "}\r\n",
       "comp usage \"pdest\" as E8  <<(T,blue) port>> [[psysml:db28622a-fbe8-4c7d-8fe4-9e164802e944 ]] {\r\n",
       "}\r\n",
       "E3 o- - \"1\"E4 [[psysml:10297d07-57fa-4f9d-a873-bd76f542a35c ]] \r\n",
       "E3 +.. \"1\"E4 [[psysml:4c29fec0-8309-450b-9bf3-4a2b28b77917 ]] \r\n",
       "E5 - -:|> E3 [[psysml:93a52ea3-a140-4bd2-b924-ec5ad15b1b7e ]] \r\n",
       "E5 o- - \"1\"E6 [[psysml:cdcbbeec-90be-4e1d-8c60-d92c8a6a7077 ]] \r\n",
       "E6 - -||> E4 [[psysml:b5614b00-f88c-4f87-85f7-609ca7f17bae ]] \r\n",
       "E7 - -:|> E3 [[psysml:87c48ed5-bc50-48bb-899d-f807bfcdc26e ]] \r\n",
       "E7 o- - \"1\"E8 [[psysml:5ff6c459-66f7-4338-82bb-16aa2b22f6b4 ]] \r\n",
       "E7 +.. \"1\"E8 [[psysml:4eb1c616-a5a7-47d5-8985-e84491dc2120 ]] \r\n",
       "E6 -[thickness=3]- \"*\"E8 [[psysml:af89f277-c22a-4acb-b9c9-7f04d6a8a86b ]] \r\n",
       "E6 -[thickness=3]- \"*\"E8 [[psysml:6818c790-7ee4-49fa-b866-28c88d0d2e1e ]] \r\n",
       "}\r\n",
       "@enduml\r\n",
       "\n",
       "PlantUML version 1.2020.13(Sat Jun 13 12:26:38 UTC 2020)\n",
       "(EPL source distribution)\n",
       "Java Runtime: OpenJDK Runtime Environment\n",
       "JVM: OpenJDK 64-Bit Server VM\n",
       "Default Encoding: UTF-8\n",
       "Language: en\n",
       "Country: null\n",
       "--></g></svg>"
      ]
     },
     "execution_count": 50,
     "metadata": {},
     "output_type": "execute_result"
    }
   ],
   "source": [
    "%viz --style=\"TB\" --view=\"MIXED\" \"AliasTest\""
   ]
  },
  {
   "cell_type": "code",
   "execution_count": 51,
   "id": "c3435534",
   "metadata": {
    "execution": {
     "iopub.execute_input": "2021-08-04T06:25:33.606373Z",
     "iopub.status.busy": "2021-08-04T06:25:33.605900Z",
     "iopub.status.idle": "2021-08-04T06:25:33.634794Z",
     "shell.execute_reply": "2021-08-04T06:25:33.633507Z"
    }
   },
   "outputs": [
    {
     "data": {
      "image/svg+xml": [
       "<?xml version=\"1.0\" encoding=\"UTF-8\" standalone=\"no\"?><svg xmlns=\"http://www.w3.org/2000/svg\" xmlns:xlink=\"http://www.w3.org/1999/xlink\" contentScriptType=\"application/ecmascript\" contentStyleType=\"text/css\" height=\"327px\" preserveAspectRatio=\"none\" style=\"width:304px;height:327px;\" version=\"1.1\" viewBox=\"0 0 304 327\" width=\"304px\" zoomAndPan=\"magnify\"><defs/><g><!--MD5=[fbc87193dbaf4d95561dea2c320d4a47]\n",
       "cluster E1--><a href=\"psysml:7e4311dd-4dd4-41de-a431-b17c5d614850\" target=\"_top\" title=\"psysml:7e4311dd-4dd4-41de-a431-b17c5d614850\" xlink:actuate=\"onRequest\" xlink:href=\"psysml:7e4311dd-4dd4-41de-a431-b17c5d614850\" xlink:show=\"new\" xlink:title=\"psysml:7e4311dd-4dd4-41de-a431-b17c5d614850\" xlink:type=\"simple\"><polygon fill=\"#FFFFFF\" points=\"16,6,94,6,101,28.2969,282,28.2969,282,315,16,315,16,6\" style=\"stroke: #000000; stroke-width: 1.5;\"/><line style=\"stroke: #000000; stroke-width: 1.5;\" x1=\"16\" x2=\"101\" y1=\"28.2969\" y2=\"28.2969\"/><text fill=\"#000000\" font-family=\"sans-serif\" font-size=\"14\" font-weight=\"bold\" lengthAdjust=\"spacingAndGlyphs\" textLength=\"72\" x=\"20\" y=\"20.9951\">AliasTest</text></a><!--MD5=[b4997ac47864f28c2f74865a473b2911]\n",
       "class E2--><a href=\"psysml:789c28e5-5e95-405e-84fa-948507b238dc\" target=\"_top\" title=\"psysml:789c28e5-5e95-405e-84fa-948507b238dc\" xlink:actuate=\"onRequest\" xlink:href=\"psysml:789c28e5-5e95-405e-84fa-948507b238dc\" xlink:show=\"new\" xlink:title=\"psysml:789c28e5-5e95-405e-84fa-948507b238dc\" xlink:type=\"simple\"><rect fill=\"#FFFFFF\" height=\"45.9375\" id=\"E2\" rx=\"10\" ry=\"10\" style=\"stroke: #383838; stroke-width: 1.5;\" width=\"71\" x=\"194.5\" y=\"41\"/><text fill=\"#000000\" font-family=\"sans-serif\" font-size=\"12\" font-style=\"italic\" lengthAdjust=\"spacingAndGlyphs\" textLength=\"69\" x=\"195.5\" y=\"57.1387\">«attribute»</text><text fill=\"#000000\" font-family=\"sans-serif\" font-size=\"12\" lengthAdjust=\"spacingAndGlyphs\" textLength=\"8\" x=\"226\" y=\"71.1074\">q</text><line style=\"stroke: #383838; stroke-width: 1.5;\" x1=\"195.5\" x2=\"264.5\" y1=\"78.9375\" y2=\"78.9375\"/></a><!--MD5=[09b614a08d8cba4a07c9adeb5e0fee81]\n",
       "class E3--><a href=\"psysml:00588ae4-2df7-4d57-b3d7-e09c73d2d5b1\" target=\"_top\" title=\"psysml:00588ae4-2df7-4d57-b3d7-e09c73d2d5b1\" xlink:actuate=\"onRequest\" xlink:href=\"psysml:00588ae4-2df7-4d57-b3d7-e09c73d2d5b1\" xlink:show=\"new\" xlink:title=\"psysml:00588ae4-2df7-4d57-b3d7-e09c73d2d5b1\" xlink:type=\"simple\"><rect fill=\"#FFFFFF\" height=\"45.9375\" id=\"E3\" style=\"stroke: #383838; stroke-width: 1.5;\" width=\"66\" x=\"168\" y=\"147\"/><text fill=\"#000000\" font-family=\"sans-serif\" font-size=\"12\" font-style=\"italic\" lengthAdjust=\"spacingAndGlyphs\" textLength=\"64\" x=\"169\" y=\"163.1387\">«part def»</text><text fill=\"#000000\" font-family=\"sans-serif\" font-size=\"12\" lengthAdjust=\"spacingAndGlyphs\" textLength=\"16\" x=\"193\" y=\"177.1074\">P1</text><line style=\"stroke: #383838; stroke-width: 1.5;\" x1=\"169\" x2=\"233\" y1=\"184.9375\" y2=\"184.9375\"/></a><!--MD5=[ebbe1d658d1005bcc118a6aa81145e00]\n",
       "class E4--><a href=\"psysml:236a437d-3673-4742-905a-959f5dd42893\" target=\"_top\" title=\"psysml:236a437d-3673-4742-905a-959f5dd42893\" xlink:actuate=\"onRequest\" xlink:href=\"psysml:236a437d-3673-4742-905a-959f5dd42893\" xlink:show=\"new\" xlink:title=\"psysml:236a437d-3673-4742-905a-959f5dd42893\" xlink:type=\"simple\"><rect fill=\"#FFFFFF\" height=\"45.9375\" id=\"E4\" rx=\"10\" ry=\"10\" style=\"stroke: #383838; stroke-width: 1.5;\" width=\"46\" x=\"178\" y=\"253\"/><text fill=\"#000000\" font-family=\"sans-serif\" font-size=\"12\" font-style=\"italic\" lengthAdjust=\"spacingAndGlyphs\" textLength=\"40\" x=\"181\" y=\"269.1387\">«port»</text><text fill=\"#000000\" font-family=\"sans-serif\" font-size=\"12\" lengthAdjust=\"spacingAndGlyphs\" textLength=\"40\" x=\"181\" y=\"283.1074\">porig1</text><line style=\"stroke: #383838; stroke-width: 1.5;\" x1=\"179\" x2=\"223\" y1=\"290.9375\" y2=\"290.9375\"/></a><!--MD5=[270fce915f116d4de14055a7c1d9a0f3]\n",
       "class E5--><a href=\"psysml:4e54ee4d-012b-498f-93d7-1afb3759d34d\" target=\"_top\" title=\"psysml:4e54ee4d-012b-498f-93d7-1afb3759d34d\" xlink:actuate=\"onRequest\" xlink:href=\"psysml:4e54ee4d-012b-498f-93d7-1afb3759d34d\" xlink:show=\"new\" xlink:title=\"psysml:4e54ee4d-012b-498f-93d7-1afb3759d34d\" xlink:type=\"simple\"><rect fill=\"#FFFFFF\" height=\"45.9375\" id=\"E5\" rx=\"10\" ry=\"10\" style=\"stroke: #383838; stroke-width: 1.5;\" width=\"46\" x=\"113\" y=\"41\"/><text fill=\"#000000\" font-family=\"sans-serif\" font-size=\"12\" font-style=\"italic\" lengthAdjust=\"spacingAndGlyphs\" textLength=\"40\" x=\"116\" y=\"57.1387\">«part»</text><text fill=\"#000000\" font-family=\"sans-serif\" font-size=\"12\" lengthAdjust=\"spacingAndGlyphs\" textLength=\"40\" x=\"116\" y=\"71.1074\">p1: P1</text><line style=\"stroke: #383838; stroke-width: 1.5;\" x1=\"114\" x2=\"158\" y1=\"78.9375\" y2=\"78.9375\"/></a><!--MD5=[60a26617385b1d2d0262a64233df1f8d]\n",
       "class E6--><a href=\"psysml:8965b7df-293c-4ee2-9b2b-715c01154c80\" target=\"_top\" title=\"psysml:8965b7df-293c-4ee2-9b2b-715c01154c80\" xlink:actuate=\"onRequest\" xlink:href=\"psysml:8965b7df-293c-4ee2-9b2b-715c01154c80\" xlink:show=\"new\" xlink:title=\"psysml:8965b7df-293c-4ee2-9b2b-715c01154c80\" xlink:type=\"simple\"><rect fill=\"#FFFFFF\" height=\"45.9375\" id=\"E6\" rx=\"10\" ry=\"10\" style=\"stroke: #383838; stroke-width: 1.5;\" width=\"42\" x=\"91\" y=\"147\"/><text fill=\"#000000\" font-family=\"sans-serif\" font-size=\"12\" font-style=\"italic\" lengthAdjust=\"spacingAndGlyphs\" textLength=\"40\" x=\"92\" y=\"163.1387\">«port»</text><text fill=\"#000000\" font-family=\"sans-serif\" font-size=\"12\" lengthAdjust=\"spacingAndGlyphs\" textLength=\"24\" x=\"100\" y=\"177.1074\">po1</text><line style=\"stroke: #383838; stroke-width: 1.5;\" x1=\"92\" x2=\"132\" y1=\"184.9375\" y2=\"184.9375\"/></a><!--MD5=[2156ba9850f5573cc1fc38a6a4b2f02b]\n",
       "class E7--><a href=\"psysml:77eadb46-ce1a-4e0f-9527-bb06765d2ea7\" target=\"_top\" title=\"psysml:77eadb46-ce1a-4e0f-9527-bb06765d2ea7\" xlink:actuate=\"onRequest\" xlink:href=\"psysml:77eadb46-ce1a-4e0f-9527-bb06765d2ea7\" xlink:show=\"new\" xlink:title=\"psysml:77eadb46-ce1a-4e0f-9527-bb06765d2ea7\" xlink:type=\"simple\"><rect fill=\"#FFFFFF\" height=\"45.9375\" id=\"E7\" rx=\"10\" ry=\"10\" style=\"stroke: #383838; stroke-width: 1.5;\" width=\"46\" x=\"32\" y=\"41\"/><text fill=\"#000000\" font-family=\"sans-serif\" font-size=\"12\" font-style=\"italic\" lengthAdjust=\"spacingAndGlyphs\" textLength=\"40\" x=\"35\" y=\"57.1387\">«part»</text><text fill=\"#000000\" font-family=\"sans-serif\" font-size=\"12\" lengthAdjust=\"spacingAndGlyphs\" textLength=\"40\" x=\"35\" y=\"71.1074\">p2: P1</text><line style=\"stroke: #383838; stroke-width: 1.5;\" x1=\"33\" x2=\"77\" y1=\"78.9375\" y2=\"78.9375\"/></a><!--MD5=[b9389687b975829384b498ac4b7476b2]\n",
       "class E8--><a href=\"psysml:db28622a-fbe8-4c7d-8fe4-9e164802e944\" target=\"_top\" title=\"psysml:db28622a-fbe8-4c7d-8fe4-9e164802e944\" xlink:actuate=\"onRequest\" xlink:href=\"psysml:db28622a-fbe8-4c7d-8fe4-9e164802e944\" xlink:show=\"new\" xlink:title=\"psysml:db28622a-fbe8-4c7d-8fe4-9e164802e944\" xlink:type=\"simple\"><rect fill=\"#FFFFFF\" height=\"45.9375\" id=\"E8\" rx=\"10\" ry=\"10\" style=\"stroke: #383838; stroke-width: 1.5;\" width=\"42\" x=\"63\" y=\"253\"/><text fill=\"#000000\" font-family=\"sans-serif\" font-size=\"12\" font-style=\"italic\" lengthAdjust=\"spacingAndGlyphs\" textLength=\"40\" x=\"64\" y=\"269.1387\">«port»</text><text fill=\"#000000\" font-family=\"sans-serif\" font-size=\"12\" lengthAdjust=\"spacingAndGlyphs\" textLength=\"36\" x=\"66\" y=\"283.1074\">pdest</text><line style=\"stroke: #383838; stroke-width: 1.5;\" x1=\"64\" x2=\"104\" y1=\"290.9375\" y2=\"290.9375\"/></a><!--MD5=[4672eba38e49728da53d11aeb285b987]\n",
       "reverse link E3 to E4--><a href=\"psysml:10297d07-57fa-4f9d-a873-bd76f542a35c\" target=\"_top\" title=\"psysml:10297d07-57fa-4f9d-a873-bd76f542a35c\" xlink:actuate=\"onRequest\" xlink:href=\"psysml:10297d07-57fa-4f9d-a873-bd76f542a35c\" xlink:show=\"new\" xlink:title=\"psysml:10297d07-57fa-4f9d-a873-bd76f542a35c\" xlink:type=\"simple\"><path d=\"M193.33,206 C193.33,206 193.33,252.68 193.33,252.68 \" fill=\"none\" id=\"E3&lt;-E4\" style=\"stroke: #383838; stroke-width: 1.0;\"/><polygon fill=\"#FFFFFF\" points=\"193.33,193,189.33,199,193.33,205,197.33,199,193.33,193\" style=\"stroke: #383838; stroke-width: 1.0;\"/><text fill=\"#000000\" font-family=\"sans-serif\" font-size=\"13\" lengthAdjust=\"spacingAndGlyphs\" textLength=\"8\" x=\"182.3396\" y=\"241.8743\">1</text></a><!--MD5=[4672eba38e49728da53d11aeb285b987]\n",
       "reverse link E3 to E4--><a href=\"psysml:4c29fec0-8309-450b-9bf3-4a2b28b77917\" target=\"_top\" title=\"psysml:4c29fec0-8309-450b-9bf3-4a2b28b77917\" xlink:actuate=\"onRequest\" xlink:href=\"psysml:4c29fec0-8309-450b-9bf3-4a2b28b77917\" xlink:show=\"new\" xlink:title=\"psysml:4c29fec0-8309-450b-9bf3-4a2b28b77917\" xlink:type=\"simple\"><path d=\"M208.67,208 C208.67,208 208.67,252.68 208.67,252.68 \" fill=\"none\" id=\"E3&lt;-E4-1\" style=\"stroke: #383838; stroke-width: 1.0; stroke-dasharray: 7.0,7.0;\"/><ellipse cx=\"208.67\" cy=\"201\" fill=\"#FFFFFF\" rx=\"8\" ry=\"8\" style=\"stroke: #383838; stroke-width: 1.0;\"/><line style=\"stroke: #383838; stroke-width: 1.0;\" x1=\"208.67\" x2=\"208.67\" y1=\"209\" y2=\"193\"/><line style=\"stroke: #383838; stroke-width: 1.0;\" x1=\"200.67\" x2=\"216.67\" y1=\"201\" y2=\"201\"/><text fill=\"#000000\" font-family=\"sans-serif\" font-size=\"13\" lengthAdjust=\"spacingAndGlyphs\" textLength=\"8\" x=\"201.6104\" y=\"241.8743\">1</text></a><!--MD5=[e9be52314489bd878ff4c7144b63c9e1]\n",
       "link E5 to E3--><a href=\"psysml:93a52ea3-a140-4bd2-b924-ec5ad15b1b7e\" target=\"_top\" title=\"psysml:93a52ea3-a140-4bd2-b924-ec5ad15b1b7e\" xlink:actuate=\"onRequest\" xlink:href=\"psysml:93a52ea3-a140-4bd2-b924-ec5ad15b1b7e\" xlink:show=\"new\" xlink:title=\"psysml:93a52ea3-a140-4bd2-b924-ec5ad15b1b7e\" xlink:type=\"simple\"><path d=\"M146,87 C146,118.18 146,170 146,170 C146,170 148.17,170 148.17,170 \" fill=\"none\" id=\"E5-&gt;E3\" style=\"stroke: #383838; stroke-width: 1.0;\"/><polygon fill=\"#FFFFFF\" points=\"167.74,170,148.74,177,148.74,163,167.74,170\" style=\"stroke: #383838; stroke-width: 1.0;\"/><ellipse cx=\"143.04\" cy=\"175\" fill=\"#383838\" rx=\"2\" ry=\"2\" style=\"stroke: #383838; stroke-width: 1.0;\"/><ellipse cx=\"143.04\" cy=\"165\" fill=\"#383838\" rx=\"2\" ry=\"2\" style=\"stroke: #383838; stroke-width: 1.0;\"/></a><!--MD5=[85d356282659285ab4b2cfe2f634dd2b]\n",
       "reverse link E5 to E6--><a href=\"psysml:cdcbbeec-90be-4e1d-8c60-d92c8a6a7077\" target=\"_top\" title=\"psysml:cdcbbeec-90be-4e1d-8c60-d92c8a6a7077\" xlink:actuate=\"onRequest\" xlink:href=\"psysml:cdcbbeec-90be-4e1d-8c60-d92c8a6a7077\" xlink:show=\"new\" xlink:title=\"psysml:cdcbbeec-90be-4e1d-8c60-d92c8a6a7077\" xlink:type=\"simple\"><path d=\"M123,100 C123,100 123,146.68 123,146.68 \" fill=\"none\" id=\"E5&lt;-E6\" style=\"stroke: #383838; stroke-width: 1.0;\"/><polygon fill=\"#FFFFFF\" points=\"123,87,119,93,123,99,127,93,123,87\" style=\"stroke: #383838; stroke-width: 1.0;\"/><text fill=\"#000000\" font-family=\"sans-serif\" font-size=\"13\" lengthAdjust=\"spacingAndGlyphs\" textLength=\"8\" x=\"116.7938\" y=\"135.8743\">1</text></a><!--MD5=[f667431f98296947986a1a7595a31603]\n",
       "link E6 to E4--><a href=\"psysml:b5614b00-f88c-4f87-85f7-609ca7f17bae\" target=\"_top\" title=\"psysml:b5614b00-f88c-4f87-85f7-609ca7f17bae\" xlink:actuate=\"onRequest\" xlink:href=\"psysml:b5614b00-f88c-4f87-85f7-609ca7f17bae\" xlink:show=\"new\" xlink:title=\"psysml:b5614b00-f88c-4f87-85f7-609ca7f17bae\" xlink:type=\"simple\"><path d=\"M119,193 C119,224.18 119,276 119,276 C119,276 157.72,276 157.72,276 \" fill=\"none\" id=\"E6-&gt;E4\" style=\"stroke: #383838; stroke-width: 1.0;\"/><polygon fill=\"#FFFFFF\" points=\"177.72,276,158.72,283,158.72,269,177.72,276\" style=\"stroke: #383838; stroke-width: 1.0;\"/><line style=\"stroke: #383838; stroke-width: 2.0;\" x1=\"154.92\" x2=\"154.92\" y1=\"283\" y2=\"269\"/></a><!--MD5=[14ccda38c055a5c0da953d572bc50960]\n",
       "link E7 to E3--><a href=\"psysml:87c48ed5-bc50-48bb-899d-f807bfcdc26e\" target=\"_top\" title=\"psysml:87c48ed5-bc50-48bb-899d-f807bfcdc26e\" xlink:actuate=\"onRequest\" xlink:href=\"psysml:87c48ed5-bc50-48bb-899d-f807bfcdc26e\" xlink:show=\"new\" xlink:title=\"psysml:87c48ed5-bc50-48bb-899d-f807bfcdc26e\" xlink:type=\"simple\"><path d=\"M74.25,87.09 C74.25,101.37 74.25,117 74.25,117 C74.25,117 181.25,117 181.25,117 C181.25,117 181.25,126.91 181.25,126.91 \" fill=\"none\" id=\"E7-&gt;E3\" style=\"stroke: #383838; stroke-width: 1.0;\"/><polygon fill=\"#FFFFFF\" points=\"181.25,146.91,174.25,127.91,188.25,127.91,181.25,146.91\" style=\"stroke: #383838; stroke-width: 1.0;\"/><ellipse cx=\"176.25\" cy=\"122.21\" fill=\"#383838\" rx=\"2\" ry=\"2\" style=\"stroke: #383838; stroke-width: 1.0;\"/><ellipse cx=\"186.25\" cy=\"122.21\" fill=\"#383838\" rx=\"2\" ry=\"2\" style=\"stroke: #383838; stroke-width: 1.0;\"/></a><!--MD5=[dc164f5e8a733ab456ef1add180e9e34]\n",
       "reverse link E7 to E8--><a href=\"psysml:5ff6c459-66f7-4338-82bb-16aa2b22f6b4\" target=\"_top\" title=\"psysml:5ff6c459-66f7-4338-82bb-16aa2b22f6b4\" xlink:actuate=\"onRequest\" xlink:href=\"psysml:5ff6c459-66f7-4338-82bb-16aa2b22f6b4\" xlink:show=\"new\" xlink:title=\"psysml:5ff6c459-66f7-4338-82bb-16aa2b22f6b4\" xlink:type=\"simple\"><path d=\"M66.75,100.09 C66.75,100.09 66.75,252.94 66.75,252.94 \" fill=\"none\" id=\"E7&lt;-E8\" style=\"stroke: #383838; stroke-width: 1.0;\"/><polygon fill=\"#FFFFFF\" points=\"66.75,87.09,62.75,93.09,66.75,99.09,70.75,93.09,66.75,87.09\" style=\"stroke: #383838; stroke-width: 1.0;\"/><text fill=\"#000000\" font-family=\"sans-serif\" font-size=\"13\" lengthAdjust=\"spacingAndGlyphs\" textLength=\"8\" x=\"53.0391\" y=\"241.8201\">1</text></a><!--MD5=[dc164f5e8a733ab456ef1add180e9e34]\n",
       "reverse link E7 to E8--><a href=\"psysml:4eb1c616-a5a7-47d5-8985-e84491dc2120\" target=\"_top\" title=\"psysml:4eb1c616-a5a7-47d5-8985-e84491dc2120\" xlink:actuate=\"onRequest\" xlink:href=\"psysml:4eb1c616-a5a7-47d5-8985-e84491dc2120\" xlink:show=\"new\" xlink:title=\"psysml:4eb1c616-a5a7-47d5-8985-e84491dc2120\" xlink:type=\"simple\"><path d=\"M70.5,102.09 C70.5,102.09 70.5,252.94 70.5,252.94 \" fill=\"none\" id=\"E7&lt;-E8-1\" style=\"stroke: #383838; stroke-width: 1.0; stroke-dasharray: 7.0,7.0;\"/><ellipse cx=\"70.5\" cy=\"95.09\" fill=\"#FFFFFF\" rx=\"8\" ry=\"8\" style=\"stroke: #383838; stroke-width: 1.0;\"/><line style=\"stroke: #383838; stroke-width: 1.0;\" x1=\"70.5\" x2=\"70.5\" y1=\"103.09\" y2=\"87.09\"/><line style=\"stroke: #383838; stroke-width: 1.0;\" x1=\"62.5\" x2=\"78.5\" y1=\"95.09\" y2=\"95.09\"/><text fill=\"#000000\" font-family=\"sans-serif\" font-size=\"13\" lengthAdjust=\"spacingAndGlyphs\" textLength=\"8\" x=\"67.9469\" y=\"241.8201\">1</text></a><!--MD5=[0a839d0f80c2d72d4b9b307f046d0de8]\n",
       "link E6 to E8--><a href=\"psysml:af89f277-c22a-4acb-b9c9-7f04d6a8a86b\" target=\"_top\" title=\"psysml:af89f277-c22a-4acb-b9c9-7f04d6a8a86b\" xlink:actuate=\"onRequest\" xlink:href=\"psysml:af89f277-c22a-4acb-b9c9-7f04d6a8a86b\" xlink:show=\"new\" xlink:title=\"psysml:af89f277-c22a-4acb-b9c9-7f04d6a8a86b\" xlink:type=\"simple\"><path d=\"M95.67,193 C95.67,210.66 95.67,234.94 95.67,252.68 \" fill=\"none\" id=\"E6-E8\" style=\"stroke: #383838; stroke-width: 3.0;\"/><text fill=\"#000000\" font-family=\"sans-serif\" font-size=\"13\" lengthAdjust=\"spacingAndGlyphs\" textLength=\"7\" x=\"90.7636\" y=\"241.8743\">*</text></a><!--MD5=[0a839d0f80c2d72d4b9b307f046d0de8]\n",
       "link E6 to E8--><a href=\"psysml:6818c790-7ee4-49fa-b866-28c88d0d2e1e\" target=\"_top\" title=\"psysml:6818c790-7ee4-49fa-b866-28c88d0d2e1e\" xlink:actuate=\"onRequest\" xlink:href=\"psysml:6818c790-7ee4-49fa-b866-28c88d0d2e1e\" xlink:show=\"new\" xlink:title=\"psysml:6818c790-7ee4-49fa-b866-28c88d0d2e1e\" xlink:type=\"simple\"><path d=\"M100.33,193 C100.33,210.66 100.33,234.94 100.33,252.68 \" fill=\"none\" id=\"E6-E8-1\" style=\"stroke: #383838; stroke-width: 3.0;\"/><text fill=\"#000000\" font-family=\"sans-serif\" font-size=\"13\" lengthAdjust=\"spacingAndGlyphs\" textLength=\"7\" x=\"105.4114\" y=\"241.8743\">*</text></a><!--MD5=[bd4899ad5bb4faf4e678a4095dee8653]\n",
       "@startuml\r\n",
       "skinparam linetype ortho\r\n",
       "skinparam monochrome true\r\n",
       "skinparam classbackgroundcolor white\r\n",
       "skinparam shadowing false\r\n",
       "skinparam wrapWidth 300\r\n",
       "hide circle\r\n",
       "\r\n",
       "package \"AliasTest\" as E1  [[psysml:7e4311dd-4dd4-41de-a431-b17c5d614850 ]]  {\r\n",
       "comp usage \"q\" as E2  <<(T,blue) attribute>> [[psysml:789c28e5-5e95-405e-84fa-948507b238dc ]] {\r\n",
       "}\r\n",
       "comp def \"P1\" as E3  <<(T,blue) part def>> [[psysml:00588ae4-2df7-4d57-b3d7-e09c73d2d5b1 ]] {\r\n",
       "}\r\n",
       "comp usage \"porig1\" as E4  <<(T,blue) port>> [[psysml:236a437d-3673-4742-905a-959f5dd42893 ]] {\r\n",
       "}\r\n",
       "comp usage \"p1: P1\" as E5  <<(T,blue) part>> [[psysml:4e54ee4d-012b-498f-93d7-1afb3759d34d ]] {\r\n",
       "}\r\n",
       "comp usage \"po1\" as E6  <<(T,blue) port>> [[psysml:8965b7df-293c-4ee2-9b2b-715c01154c80 ]] {\r\n",
       "}\r\n",
       "comp usage \"p2: P1\" as E7  <<(T,blue) part>> [[psysml:77eadb46-ce1a-4e0f-9527-bb06765d2ea7 ]] {\r\n",
       "}\r\n",
       "comp usage \"pdest\" as E8  <<(T,blue) port>> [[psysml:db28622a-fbe8-4c7d-8fe4-9e164802e944 ]] {\r\n",
       "}\r\n",
       "E3 o- - \"1\"E4 [[psysml:10297d07-57fa-4f9d-a873-bd76f542a35c ]] \r\n",
       "E3 +.. \"1\"E4 [[psysml:4c29fec0-8309-450b-9bf3-4a2b28b77917 ]] \r\n",
       "E5 - -:|> E3 [[psysml:93a52ea3-a140-4bd2-b924-ec5ad15b1b7e ]] \r\n",
       "E5 o- - \"1\"E6 [[psysml:cdcbbeec-90be-4e1d-8c60-d92c8a6a7077 ]] \r\n",
       "E6 - -||> E4 [[psysml:b5614b00-f88c-4f87-85f7-609ca7f17bae ]] \r\n",
       "E7 - -:|> E3 [[psysml:87c48ed5-bc50-48bb-899d-f807bfcdc26e ]] \r\n",
       "E7 o- - \"1\"E8 [[psysml:5ff6c459-66f7-4338-82bb-16aa2b22f6b4 ]] \r\n",
       "E7 +.. \"1\"E8 [[psysml:4eb1c616-a5a7-47d5-8985-e84491dc2120 ]] \r\n",
       "E6 -[thickness=3]- \"*\"E8 [[psysml:af89f277-c22a-4acb-b9c9-7f04d6a8a86b ]] \r\n",
       "E6 -[thickness=3]- \"*\"E8 [[psysml:6818c790-7ee4-49fa-b866-28c88d0d2e1e ]] \r\n",
       "}\r\n",
       "@enduml\r\n",
       "\n",
       "PlantUML version 1.2020.13(Sat Jun 13 12:26:38 UTC 2020)\n",
       "(EPL source distribution)\n",
       "Java Runtime: OpenJDK Runtime Environment\n",
       "JVM: OpenJDK 64-Bit Server VM\n",
       "Default Encoding: UTF-8\n",
       "Language: en\n",
       "Country: null\n",
       "--></g></svg>"
      ]
     },
     "execution_count": 51,
     "metadata": {},
     "output_type": "execute_result"
    }
   ],
   "source": [
    "%viz --style=\"ORTHOLINE\" --view=\"Default\" \"AliasTest\""
   ]
  },
  {
   "cell_type": "code",
   "execution_count": 52,
   "id": "32876c89",
   "metadata": {
    "execution": {
     "iopub.execute_input": "2021-08-04T06:25:33.684745Z",
     "iopub.status.busy": "2021-08-04T06:25:33.684157Z",
     "iopub.status.idle": "2021-08-04T06:25:33.715372Z",
     "shell.execute_reply": "2021-08-04T06:25:33.714054Z"
    }
   },
   "outputs": [
    {
     "data": {
      "image/svg+xml": [
       "<?xml version=\"1.0\" encoding=\"UTF-8\" standalone=\"no\"?><svg xmlns=\"http://www.w3.org/2000/svg\" xmlns:xlink=\"http://www.w3.org/1999/xlink\" contentScriptType=\"application/ecmascript\" contentStyleType=\"text/css\" height=\"327px\" preserveAspectRatio=\"none\" style=\"width:304px;height:327px;\" version=\"1.1\" viewBox=\"0 0 304 327\" width=\"304px\" zoomAndPan=\"magnify\"><defs/><g><!--MD5=[fbc87193dbaf4d95561dea2c320d4a47]\n",
       "cluster E1--><a href=\"psysml:7e4311dd-4dd4-41de-a431-b17c5d614850\" target=\"_top\" title=\"psysml:7e4311dd-4dd4-41de-a431-b17c5d614850\" xlink:actuate=\"onRequest\" xlink:href=\"psysml:7e4311dd-4dd4-41de-a431-b17c5d614850\" xlink:show=\"new\" xlink:title=\"psysml:7e4311dd-4dd4-41de-a431-b17c5d614850\" xlink:type=\"simple\"><polygon fill=\"#FFFFFF\" points=\"16,6,94,6,101,28.2969,282,28.2969,282,315,16,315,16,6\" style=\"stroke: #000000; stroke-width: 1.5;\"/><line style=\"stroke: #000000; stroke-width: 1.5;\" x1=\"16\" x2=\"101\" y1=\"28.2969\" y2=\"28.2969\"/><text fill=\"#000000\" font-family=\"sans-serif\" font-size=\"14\" font-weight=\"bold\" lengthAdjust=\"spacingAndGlyphs\" textLength=\"72\" x=\"20\" y=\"20.9951\">AliasTest</text></a><!--MD5=[b4997ac47864f28c2f74865a473b2911]\n",
       "class E2--><a href=\"psysml:789c28e5-5e95-405e-84fa-948507b238dc\" target=\"_top\" title=\"psysml:789c28e5-5e95-405e-84fa-948507b238dc\" xlink:actuate=\"onRequest\" xlink:href=\"psysml:789c28e5-5e95-405e-84fa-948507b238dc\" xlink:show=\"new\" xlink:title=\"psysml:789c28e5-5e95-405e-84fa-948507b238dc\" xlink:type=\"simple\"><rect fill=\"#FFFFFF\" height=\"45.9375\" id=\"E2\" rx=\"10\" ry=\"10\" style=\"stroke: #383838; stroke-width: 1.5;\" width=\"71\" x=\"194.5\" y=\"41\"/><text fill=\"#000000\" font-family=\"sans-serif\" font-size=\"12\" font-style=\"italic\" lengthAdjust=\"spacingAndGlyphs\" textLength=\"69\" x=\"195.5\" y=\"57.1387\">«attribute»</text><text fill=\"#000000\" font-family=\"sans-serif\" font-size=\"12\" lengthAdjust=\"spacingAndGlyphs\" textLength=\"8\" x=\"226\" y=\"71.1074\">q</text><line style=\"stroke: #383838; stroke-width: 1.5;\" x1=\"195.5\" x2=\"264.5\" y1=\"78.9375\" y2=\"78.9375\"/></a><!--MD5=[09b614a08d8cba4a07c9adeb5e0fee81]\n",
       "class E3--><a href=\"psysml:00588ae4-2df7-4d57-b3d7-e09c73d2d5b1\" target=\"_top\" title=\"psysml:00588ae4-2df7-4d57-b3d7-e09c73d2d5b1\" xlink:actuate=\"onRequest\" xlink:href=\"psysml:00588ae4-2df7-4d57-b3d7-e09c73d2d5b1\" xlink:show=\"new\" xlink:title=\"psysml:00588ae4-2df7-4d57-b3d7-e09c73d2d5b1\" xlink:type=\"simple\"><rect fill=\"#FFFFFF\" height=\"45.9375\" id=\"E3\" style=\"stroke: #383838; stroke-width: 1.5;\" width=\"66\" x=\"168\" y=\"147\"/><text fill=\"#000000\" font-family=\"sans-serif\" font-size=\"12\" font-style=\"italic\" lengthAdjust=\"spacingAndGlyphs\" textLength=\"64\" x=\"169\" y=\"163.1387\">«part def»</text><text fill=\"#000000\" font-family=\"sans-serif\" font-size=\"12\" lengthAdjust=\"spacingAndGlyphs\" textLength=\"16\" x=\"193\" y=\"177.1074\">P1</text><line style=\"stroke: #383838; stroke-width: 1.5;\" x1=\"169\" x2=\"233\" y1=\"184.9375\" y2=\"184.9375\"/></a><!--MD5=[ebbe1d658d1005bcc118a6aa81145e00]\n",
       "class E4--><a href=\"psysml:236a437d-3673-4742-905a-959f5dd42893\" target=\"_top\" title=\"psysml:236a437d-3673-4742-905a-959f5dd42893\" xlink:actuate=\"onRequest\" xlink:href=\"psysml:236a437d-3673-4742-905a-959f5dd42893\" xlink:show=\"new\" xlink:title=\"psysml:236a437d-3673-4742-905a-959f5dd42893\" xlink:type=\"simple\"><rect fill=\"#FFFFFF\" height=\"45.9375\" id=\"E4\" rx=\"10\" ry=\"10\" style=\"stroke: #383838; stroke-width: 1.5;\" width=\"46\" x=\"178\" y=\"253\"/><text fill=\"#000000\" font-family=\"sans-serif\" font-size=\"12\" font-style=\"italic\" lengthAdjust=\"spacingAndGlyphs\" textLength=\"40\" x=\"181\" y=\"269.1387\">«port»</text><text fill=\"#000000\" font-family=\"sans-serif\" font-size=\"12\" lengthAdjust=\"spacingAndGlyphs\" textLength=\"40\" x=\"181\" y=\"283.1074\">porig1</text><line style=\"stroke: #383838; stroke-width: 1.5;\" x1=\"179\" x2=\"223\" y1=\"290.9375\" y2=\"290.9375\"/></a><!--MD5=[270fce915f116d4de14055a7c1d9a0f3]\n",
       "class E5--><a href=\"psysml:4e54ee4d-012b-498f-93d7-1afb3759d34d\" target=\"_top\" title=\"psysml:4e54ee4d-012b-498f-93d7-1afb3759d34d\" xlink:actuate=\"onRequest\" xlink:href=\"psysml:4e54ee4d-012b-498f-93d7-1afb3759d34d\" xlink:show=\"new\" xlink:title=\"psysml:4e54ee4d-012b-498f-93d7-1afb3759d34d\" xlink:type=\"simple\"><rect fill=\"#FFFFFF\" height=\"45.9375\" id=\"E5\" rx=\"10\" ry=\"10\" style=\"stroke: #383838; stroke-width: 1.5;\" width=\"46\" x=\"113\" y=\"41\"/><text fill=\"#000000\" font-family=\"sans-serif\" font-size=\"12\" font-style=\"italic\" lengthAdjust=\"spacingAndGlyphs\" textLength=\"40\" x=\"116\" y=\"57.1387\">«part»</text><text fill=\"#000000\" font-family=\"sans-serif\" font-size=\"12\" lengthAdjust=\"spacingAndGlyphs\" textLength=\"40\" x=\"116\" y=\"71.1074\">p1: P1</text><line style=\"stroke: #383838; stroke-width: 1.5;\" x1=\"114\" x2=\"158\" y1=\"78.9375\" y2=\"78.9375\"/></a><!--MD5=[60a26617385b1d2d0262a64233df1f8d]\n",
       "class E6--><a href=\"psysml:8965b7df-293c-4ee2-9b2b-715c01154c80\" target=\"_top\" title=\"psysml:8965b7df-293c-4ee2-9b2b-715c01154c80\" xlink:actuate=\"onRequest\" xlink:href=\"psysml:8965b7df-293c-4ee2-9b2b-715c01154c80\" xlink:show=\"new\" xlink:title=\"psysml:8965b7df-293c-4ee2-9b2b-715c01154c80\" xlink:type=\"simple\"><rect fill=\"#FFFFFF\" height=\"45.9375\" id=\"E6\" rx=\"10\" ry=\"10\" style=\"stroke: #383838; stroke-width: 1.5;\" width=\"42\" x=\"91\" y=\"147\"/><text fill=\"#000000\" font-family=\"sans-serif\" font-size=\"12\" font-style=\"italic\" lengthAdjust=\"spacingAndGlyphs\" textLength=\"40\" x=\"92\" y=\"163.1387\">«port»</text><text fill=\"#000000\" font-family=\"sans-serif\" font-size=\"12\" lengthAdjust=\"spacingAndGlyphs\" textLength=\"24\" x=\"100\" y=\"177.1074\">po1</text><line style=\"stroke: #383838; stroke-width: 1.5;\" x1=\"92\" x2=\"132\" y1=\"184.9375\" y2=\"184.9375\"/></a><!--MD5=[2156ba9850f5573cc1fc38a6a4b2f02b]\n",
       "class E7--><a href=\"psysml:77eadb46-ce1a-4e0f-9527-bb06765d2ea7\" target=\"_top\" title=\"psysml:77eadb46-ce1a-4e0f-9527-bb06765d2ea7\" xlink:actuate=\"onRequest\" xlink:href=\"psysml:77eadb46-ce1a-4e0f-9527-bb06765d2ea7\" xlink:show=\"new\" xlink:title=\"psysml:77eadb46-ce1a-4e0f-9527-bb06765d2ea7\" xlink:type=\"simple\"><rect fill=\"#FFFFFF\" height=\"45.9375\" id=\"E7\" rx=\"10\" ry=\"10\" style=\"stroke: #383838; stroke-width: 1.5;\" width=\"46\" x=\"32\" y=\"41\"/><text fill=\"#000000\" font-family=\"sans-serif\" font-size=\"12\" font-style=\"italic\" lengthAdjust=\"spacingAndGlyphs\" textLength=\"40\" x=\"35\" y=\"57.1387\">«part»</text><text fill=\"#000000\" font-family=\"sans-serif\" font-size=\"12\" lengthAdjust=\"spacingAndGlyphs\" textLength=\"40\" x=\"35\" y=\"71.1074\">p2: P1</text><line style=\"stroke: #383838; stroke-width: 1.5;\" x1=\"33\" x2=\"77\" y1=\"78.9375\" y2=\"78.9375\"/></a><!--MD5=[b9389687b975829384b498ac4b7476b2]\n",
       "class E8--><a href=\"psysml:db28622a-fbe8-4c7d-8fe4-9e164802e944\" target=\"_top\" title=\"psysml:db28622a-fbe8-4c7d-8fe4-9e164802e944\" xlink:actuate=\"onRequest\" xlink:href=\"psysml:db28622a-fbe8-4c7d-8fe4-9e164802e944\" xlink:show=\"new\" xlink:title=\"psysml:db28622a-fbe8-4c7d-8fe4-9e164802e944\" xlink:type=\"simple\"><rect fill=\"#FFFFFF\" height=\"45.9375\" id=\"E8\" rx=\"10\" ry=\"10\" style=\"stroke: #383838; stroke-width: 1.5;\" width=\"42\" x=\"63\" y=\"253\"/><text fill=\"#000000\" font-family=\"sans-serif\" font-size=\"12\" font-style=\"italic\" lengthAdjust=\"spacingAndGlyphs\" textLength=\"40\" x=\"64\" y=\"269.1387\">«port»</text><text fill=\"#000000\" font-family=\"sans-serif\" font-size=\"12\" lengthAdjust=\"spacingAndGlyphs\" textLength=\"36\" x=\"66\" y=\"283.1074\">pdest</text><line style=\"stroke: #383838; stroke-width: 1.5;\" x1=\"64\" x2=\"104\" y1=\"290.9375\" y2=\"290.9375\"/></a><!--MD5=[4672eba38e49728da53d11aeb285b987]\n",
       "reverse link E3 to E4--><a href=\"psysml:10297d07-57fa-4f9d-a873-bd76f542a35c\" target=\"_top\" title=\"psysml:10297d07-57fa-4f9d-a873-bd76f542a35c\" xlink:actuate=\"onRequest\" xlink:href=\"psysml:10297d07-57fa-4f9d-a873-bd76f542a35c\" xlink:show=\"new\" xlink:title=\"psysml:10297d07-57fa-4f9d-a873-bd76f542a35c\" xlink:type=\"simple\"><path d=\"M193.33,206 C193.33,206 193.33,252.68 193.33,252.68 \" fill=\"none\" id=\"E3&lt;-E4\" style=\"stroke: #383838; stroke-width: 1.0;\"/><polygon fill=\"#FFFFFF\" points=\"193.33,193,189.33,199,193.33,205,197.33,199,193.33,193\" style=\"stroke: #383838; stroke-width: 1.0;\"/><text fill=\"#000000\" font-family=\"sans-serif\" font-size=\"13\" lengthAdjust=\"spacingAndGlyphs\" textLength=\"8\" x=\"182.3396\" y=\"241.8743\">1</text></a><!--MD5=[4672eba38e49728da53d11aeb285b987]\n",
       "reverse link E3 to E4--><a href=\"psysml:4c29fec0-8309-450b-9bf3-4a2b28b77917\" target=\"_top\" title=\"psysml:4c29fec0-8309-450b-9bf3-4a2b28b77917\" xlink:actuate=\"onRequest\" xlink:href=\"psysml:4c29fec0-8309-450b-9bf3-4a2b28b77917\" xlink:show=\"new\" xlink:title=\"psysml:4c29fec0-8309-450b-9bf3-4a2b28b77917\" xlink:type=\"simple\"><path d=\"M208.67,208 C208.67,208 208.67,252.68 208.67,252.68 \" fill=\"none\" id=\"E3&lt;-E4-1\" style=\"stroke: #383838; stroke-width: 1.0; stroke-dasharray: 7.0,7.0;\"/><ellipse cx=\"208.67\" cy=\"201\" fill=\"#FFFFFF\" rx=\"8\" ry=\"8\" style=\"stroke: #383838; stroke-width: 1.0;\"/><line style=\"stroke: #383838; stroke-width: 1.0;\" x1=\"208.67\" x2=\"208.67\" y1=\"209\" y2=\"193\"/><line style=\"stroke: #383838; stroke-width: 1.0;\" x1=\"200.67\" x2=\"216.67\" y1=\"201\" y2=\"201\"/><text fill=\"#000000\" font-family=\"sans-serif\" font-size=\"13\" lengthAdjust=\"spacingAndGlyphs\" textLength=\"8\" x=\"201.6104\" y=\"241.8743\">1</text></a><!--MD5=[e9be52314489bd878ff4c7144b63c9e1]\n",
       "link E5 to E3--><a href=\"psysml:93a52ea3-a140-4bd2-b924-ec5ad15b1b7e\" target=\"_top\" title=\"psysml:93a52ea3-a140-4bd2-b924-ec5ad15b1b7e\" xlink:actuate=\"onRequest\" xlink:href=\"psysml:93a52ea3-a140-4bd2-b924-ec5ad15b1b7e\" xlink:show=\"new\" xlink:title=\"psysml:93a52ea3-a140-4bd2-b924-ec5ad15b1b7e\" xlink:type=\"simple\"><path d=\"M146,87 C146,118.18 146,170 146,170 C146,170 148.17,170 148.17,170 \" fill=\"none\" id=\"E5-&gt;E3\" style=\"stroke: #383838; stroke-width: 1.0;\"/><polygon fill=\"#FFFFFF\" points=\"167.74,170,148.74,177,148.74,163,167.74,170\" style=\"stroke: #383838; stroke-width: 1.0;\"/><ellipse cx=\"143.04\" cy=\"175\" fill=\"#383838\" rx=\"2\" ry=\"2\" style=\"stroke: #383838; stroke-width: 1.0;\"/><ellipse cx=\"143.04\" cy=\"165\" fill=\"#383838\" rx=\"2\" ry=\"2\" style=\"stroke: #383838; stroke-width: 1.0;\"/></a><!--MD5=[85d356282659285ab4b2cfe2f634dd2b]\n",
       "reverse link E5 to E6--><a href=\"psysml:cdcbbeec-90be-4e1d-8c60-d92c8a6a7077\" target=\"_top\" title=\"psysml:cdcbbeec-90be-4e1d-8c60-d92c8a6a7077\" xlink:actuate=\"onRequest\" xlink:href=\"psysml:cdcbbeec-90be-4e1d-8c60-d92c8a6a7077\" xlink:show=\"new\" xlink:title=\"psysml:cdcbbeec-90be-4e1d-8c60-d92c8a6a7077\" xlink:type=\"simple\"><path d=\"M123,100 C123,100 123,146.68 123,146.68 \" fill=\"none\" id=\"E5&lt;-E6\" style=\"stroke: #383838; stroke-width: 1.0;\"/><polygon fill=\"#FFFFFF\" points=\"123,87,119,93,123,99,127,93,123,87\" style=\"stroke: #383838; stroke-width: 1.0;\"/><text fill=\"#000000\" font-family=\"sans-serif\" font-size=\"13\" lengthAdjust=\"spacingAndGlyphs\" textLength=\"8\" x=\"116.7938\" y=\"135.8743\">1</text></a><!--MD5=[f667431f98296947986a1a7595a31603]\n",
       "link E6 to E4--><a href=\"psysml:b5614b00-f88c-4f87-85f7-609ca7f17bae\" target=\"_top\" title=\"psysml:b5614b00-f88c-4f87-85f7-609ca7f17bae\" xlink:actuate=\"onRequest\" xlink:href=\"psysml:b5614b00-f88c-4f87-85f7-609ca7f17bae\" xlink:show=\"new\" xlink:title=\"psysml:b5614b00-f88c-4f87-85f7-609ca7f17bae\" xlink:type=\"simple\"><path d=\"M119,193 C119,224.18 119,276 119,276 C119,276 157.72,276 157.72,276 \" fill=\"none\" id=\"E6-&gt;E4\" style=\"stroke: #383838; stroke-width: 1.0;\"/><polygon fill=\"#FFFFFF\" points=\"177.72,276,158.72,283,158.72,269,177.72,276\" style=\"stroke: #383838; stroke-width: 1.0;\"/><line style=\"stroke: #383838; stroke-width: 2.0;\" x1=\"154.92\" x2=\"154.92\" y1=\"283\" y2=\"269\"/></a><!--MD5=[14ccda38c055a5c0da953d572bc50960]\n",
       "link E7 to E3--><a href=\"psysml:87c48ed5-bc50-48bb-899d-f807bfcdc26e\" target=\"_top\" title=\"psysml:87c48ed5-bc50-48bb-899d-f807bfcdc26e\" xlink:actuate=\"onRequest\" xlink:href=\"psysml:87c48ed5-bc50-48bb-899d-f807bfcdc26e\" xlink:show=\"new\" xlink:title=\"psysml:87c48ed5-bc50-48bb-899d-f807bfcdc26e\" xlink:type=\"simple\"><path d=\"M74.25,87.09 C74.25,101.37 74.25,117 74.25,117 C74.25,117 181.25,117 181.25,117 C181.25,117 181.25,126.91 181.25,126.91 \" fill=\"none\" id=\"E7-&gt;E3\" style=\"stroke: #383838; stroke-width: 1.0;\"/><polygon fill=\"#FFFFFF\" points=\"181.25,146.91,174.25,127.91,188.25,127.91,181.25,146.91\" style=\"stroke: #383838; stroke-width: 1.0;\"/><ellipse cx=\"176.25\" cy=\"122.21\" fill=\"#383838\" rx=\"2\" ry=\"2\" style=\"stroke: #383838; stroke-width: 1.0;\"/><ellipse cx=\"186.25\" cy=\"122.21\" fill=\"#383838\" rx=\"2\" ry=\"2\" style=\"stroke: #383838; stroke-width: 1.0;\"/></a><!--MD5=[dc164f5e8a733ab456ef1add180e9e34]\n",
       "reverse link E7 to E8--><a href=\"psysml:5ff6c459-66f7-4338-82bb-16aa2b22f6b4\" target=\"_top\" title=\"psysml:5ff6c459-66f7-4338-82bb-16aa2b22f6b4\" xlink:actuate=\"onRequest\" xlink:href=\"psysml:5ff6c459-66f7-4338-82bb-16aa2b22f6b4\" xlink:show=\"new\" xlink:title=\"psysml:5ff6c459-66f7-4338-82bb-16aa2b22f6b4\" xlink:type=\"simple\"><path d=\"M66.75,100.09 C66.75,100.09 66.75,252.94 66.75,252.94 \" fill=\"none\" id=\"E7&lt;-E8\" style=\"stroke: #383838; stroke-width: 1.0;\"/><polygon fill=\"#FFFFFF\" points=\"66.75,87.09,62.75,93.09,66.75,99.09,70.75,93.09,66.75,87.09\" style=\"stroke: #383838; stroke-width: 1.0;\"/><text fill=\"#000000\" font-family=\"sans-serif\" font-size=\"13\" lengthAdjust=\"spacingAndGlyphs\" textLength=\"8\" x=\"53.0391\" y=\"241.8201\">1</text></a><!--MD5=[dc164f5e8a733ab456ef1add180e9e34]\n",
       "reverse link E7 to E8--><a href=\"psysml:4eb1c616-a5a7-47d5-8985-e84491dc2120\" target=\"_top\" title=\"psysml:4eb1c616-a5a7-47d5-8985-e84491dc2120\" xlink:actuate=\"onRequest\" xlink:href=\"psysml:4eb1c616-a5a7-47d5-8985-e84491dc2120\" xlink:show=\"new\" xlink:title=\"psysml:4eb1c616-a5a7-47d5-8985-e84491dc2120\" xlink:type=\"simple\"><path d=\"M70.5,102.09 C70.5,102.09 70.5,252.94 70.5,252.94 \" fill=\"none\" id=\"E7&lt;-E8-1\" style=\"stroke: #383838; stroke-width: 1.0; stroke-dasharray: 7.0,7.0;\"/><ellipse cx=\"70.5\" cy=\"95.09\" fill=\"#FFFFFF\" rx=\"8\" ry=\"8\" style=\"stroke: #383838; stroke-width: 1.0;\"/><line style=\"stroke: #383838; stroke-width: 1.0;\" x1=\"70.5\" x2=\"70.5\" y1=\"103.09\" y2=\"87.09\"/><line style=\"stroke: #383838; stroke-width: 1.0;\" x1=\"62.5\" x2=\"78.5\" y1=\"95.09\" y2=\"95.09\"/><text fill=\"#000000\" font-family=\"sans-serif\" font-size=\"13\" lengthAdjust=\"spacingAndGlyphs\" textLength=\"8\" x=\"67.9469\" y=\"241.8201\">1</text></a><!--MD5=[0a839d0f80c2d72d4b9b307f046d0de8]\n",
       "link E6 to E8--><a href=\"psysml:af89f277-c22a-4acb-b9c9-7f04d6a8a86b\" target=\"_top\" title=\"psysml:af89f277-c22a-4acb-b9c9-7f04d6a8a86b\" xlink:actuate=\"onRequest\" xlink:href=\"psysml:af89f277-c22a-4acb-b9c9-7f04d6a8a86b\" xlink:show=\"new\" xlink:title=\"psysml:af89f277-c22a-4acb-b9c9-7f04d6a8a86b\" xlink:type=\"simple\"><path d=\"M95.67,193 C95.67,210.66 95.67,234.94 95.67,252.68 \" fill=\"none\" id=\"E6-E8\" style=\"stroke: #383838; stroke-width: 3.0;\"/><text fill=\"#000000\" font-family=\"sans-serif\" font-size=\"13\" lengthAdjust=\"spacingAndGlyphs\" textLength=\"7\" x=\"90.7636\" y=\"241.8743\">*</text></a><!--MD5=[0a839d0f80c2d72d4b9b307f046d0de8]\n",
       "link E6 to E8--><a href=\"psysml:6818c790-7ee4-49fa-b866-28c88d0d2e1e\" target=\"_top\" title=\"psysml:6818c790-7ee4-49fa-b866-28c88d0d2e1e\" xlink:actuate=\"onRequest\" xlink:href=\"psysml:6818c790-7ee4-49fa-b866-28c88d0d2e1e\" xlink:show=\"new\" xlink:title=\"psysml:6818c790-7ee4-49fa-b866-28c88d0d2e1e\" xlink:type=\"simple\"><path d=\"M100.33,193 C100.33,210.66 100.33,234.94 100.33,252.68 \" fill=\"none\" id=\"E6-E8-1\" style=\"stroke: #383838; stroke-width: 3.0;\"/><text fill=\"#000000\" font-family=\"sans-serif\" font-size=\"13\" lengthAdjust=\"spacingAndGlyphs\" textLength=\"7\" x=\"105.4114\" y=\"241.8743\">*</text></a><!--MD5=[bd4899ad5bb4faf4e678a4095dee8653]\n",
       "@startuml\r\n",
       "skinparam linetype ortho\r\n",
       "skinparam monochrome true\r\n",
       "skinparam classbackgroundcolor white\r\n",
       "skinparam shadowing false\r\n",
       "skinparam wrapWidth 300\r\n",
       "hide circle\r\n",
       "\r\n",
       "package \"AliasTest\" as E1  [[psysml:7e4311dd-4dd4-41de-a431-b17c5d614850 ]]  {\r\n",
       "comp usage \"q\" as E2  <<(T,blue) attribute>> [[psysml:789c28e5-5e95-405e-84fa-948507b238dc ]] {\r\n",
       "}\r\n",
       "comp def \"P1\" as E3  <<(T,blue) part def>> [[psysml:00588ae4-2df7-4d57-b3d7-e09c73d2d5b1 ]] {\r\n",
       "}\r\n",
       "comp usage \"porig1\" as E4  <<(T,blue) port>> [[psysml:236a437d-3673-4742-905a-959f5dd42893 ]] {\r\n",
       "}\r\n",
       "comp usage \"p1: P1\" as E5  <<(T,blue) part>> [[psysml:4e54ee4d-012b-498f-93d7-1afb3759d34d ]] {\r\n",
       "}\r\n",
       "comp usage \"po1\" as E6  <<(T,blue) port>> [[psysml:8965b7df-293c-4ee2-9b2b-715c01154c80 ]] {\r\n",
       "}\r\n",
       "comp usage \"p2: P1\" as E7  <<(T,blue) part>> [[psysml:77eadb46-ce1a-4e0f-9527-bb06765d2ea7 ]] {\r\n",
       "}\r\n",
       "comp usage \"pdest\" as E8  <<(T,blue) port>> [[psysml:db28622a-fbe8-4c7d-8fe4-9e164802e944 ]] {\r\n",
       "}\r\n",
       "E3 o- - \"1\"E4 [[psysml:10297d07-57fa-4f9d-a873-bd76f542a35c ]] \r\n",
       "E3 +.. \"1\"E4 [[psysml:4c29fec0-8309-450b-9bf3-4a2b28b77917 ]] \r\n",
       "E5 - -:|> E3 [[psysml:93a52ea3-a140-4bd2-b924-ec5ad15b1b7e ]] \r\n",
       "E5 o- - \"1\"E6 [[psysml:cdcbbeec-90be-4e1d-8c60-d92c8a6a7077 ]] \r\n",
       "E6 - -||> E4 [[psysml:b5614b00-f88c-4f87-85f7-609ca7f17bae ]] \r\n",
       "E7 - -:|> E3 [[psysml:87c48ed5-bc50-48bb-899d-f807bfcdc26e ]] \r\n",
       "E7 o- - \"1\"E8 [[psysml:5ff6c459-66f7-4338-82bb-16aa2b22f6b4 ]] \r\n",
       "E7 +.. \"1\"E8 [[psysml:4eb1c616-a5a7-47d5-8985-e84491dc2120 ]] \r\n",
       "E6 -[thickness=3]- \"*\"E8 [[psysml:af89f277-c22a-4acb-b9c9-7f04d6a8a86b ]] \r\n",
       "E6 -[thickness=3]- \"*\"E8 [[psysml:6818c790-7ee4-49fa-b866-28c88d0d2e1e ]] \r\n",
       "}\r\n",
       "@enduml\r\n",
       "\n",
       "PlantUML version 1.2020.13(Sat Jun 13 12:26:38 UTC 2020)\n",
       "(EPL source distribution)\n",
       "Java Runtime: OpenJDK Runtime Environment\n",
       "JVM: OpenJDK 64-Bit Server VM\n",
       "Default Encoding: UTF-8\n",
       "Language: en\n",
       "Country: null\n",
       "--></g></svg>"
      ]
     },
     "execution_count": 52,
     "metadata": {},
     "output_type": "execute_result"
    }
   ],
   "source": [
    "%viz --style=\"ORTHOLINE\" --view=\"Tree\" \"AliasTest\""
   ]
  },
  {
   "cell_type": "code",
   "execution_count": 53,
   "id": "07e451cb",
   "metadata": {
    "execution": {
     "iopub.execute_input": "2021-08-04T06:25:33.764830Z",
     "iopub.status.busy": "2021-08-04T06:25:33.764361Z",
     "iopub.status.idle": "2021-08-04T06:25:33.767948Z",
     "shell.execute_reply": "2021-08-04T06:25:33.767594Z"
    }
   },
   "outputs": [
    {
     "data": {
      "image/svg+xml": [
       "<?xml version=\"1.0\" encoding=\"UTF-8\" standalone=\"no\"?><svg xmlns=\"http://www.w3.org/2000/svg\" xmlns:xlink=\"http://www.w3.org/1999/xlink\" contentScriptType=\"application/ecmascript\" contentStyleType=\"text/css\" height=\"12px\" preserveAspectRatio=\"none\" style=\"width:12px;height:12px;\" version=\"1.1\" viewBox=\"0 0 12 12\" width=\"12px\" zoomAndPan=\"magnify\"><defs/><g><!--MD5=[97d6f38768b311333d388e66b2b27985]\n",
       "@startuml\r\n",
       "skinparam linetype ortho\r\n",
       "skinparam monochrome true\r\n",
       "skinparam classbackgroundcolor white\r\n",
       "skinparam shadowing false\r\n",
       "skinparam wrapWidth 300\r\n",
       "hide circle\r\n",
       "\r\n",
       "@enduml\r\n",
       "\n",
       "PlantUML version 1.2020.13(Sat Jun 13 12:26:38 UTC 2020)\n",
       "(EPL source distribution)\n",
       "Java Runtime: OpenJDK Runtime Environment\n",
       "JVM: OpenJDK 64-Bit Server VM\n",
       "Default Encoding: UTF-8\n",
       "Language: en\n",
       "Country: null\n",
       "--></g></svg>"
      ]
     },
     "execution_count": 53,
     "metadata": {},
     "output_type": "execute_result"
    }
   ],
   "source": [
    "%viz --style=\"ORTHOLINE\" --view=\"State\" \"AliasTest\""
   ]
  },
  {
   "cell_type": "code",
   "execution_count": 54,
   "id": "e83aee6f",
   "metadata": {
    "execution": {
     "iopub.execute_input": "2021-08-04T06:25:33.817683Z",
     "iopub.status.busy": "2021-08-04T06:25:33.817283Z",
     "iopub.status.idle": "2021-08-04T06:25:33.845223Z",
     "shell.execute_reply": "2021-08-04T06:25:33.843994Z"
    }
   },
   "outputs": [
    {
     "data": {
      "image/svg+xml": [
       "<?xml version=\"1.0\" encoding=\"UTF-8\" standalone=\"no\"?><svg xmlns=\"http://www.w3.org/2000/svg\" xmlns:xlink=\"http://www.w3.org/1999/xlink\" contentScriptType=\"application/ecmascript\" contentStyleType=\"text/css\" height=\"233px\" preserveAspectRatio=\"none\" style=\"width:486px;height:233px;\" version=\"1.1\" viewBox=\"0 0 486 233\" width=\"486px\" zoomAndPan=\"magnify\"><defs/><g><!--MD5=[fbc87193dbaf4d95561dea2c320d4a47]\n",
       "cluster E1--><a href=\"psysml:7e4311dd-4dd4-41de-a431-b17c5d614850\" target=\"_top\" title=\"psysml:7e4311dd-4dd4-41de-a431-b17c5d614850\" xlink:actuate=\"onRequest\" xlink:href=\"psysml:7e4311dd-4dd4-41de-a431-b17c5d614850\" xlink:show=\"new\" xlink:title=\"psysml:7e4311dd-4dd4-41de-a431-b17c5d614850\" xlink:type=\"simple\"><polygon fill=\"#FFFFFF\" points=\"16,6,94,6,101,28.2969,464,28.2969,464,221,16,221,16,6\" style=\"stroke: #000000; stroke-width: 1.5;\"/><line style=\"stroke: #000000; stroke-width: 1.5;\" x1=\"16\" x2=\"101\" y1=\"28.2969\" y2=\"28.2969\"/><text fill=\"#000000\" font-family=\"sans-serif\" font-size=\"14\" font-weight=\"bold\" lengthAdjust=\"spacingAndGlyphs\" textLength=\"72\" x=\"20\" y=\"20.9951\">AliasTest</text></a><!--MD5=[d5e69f78d87373223dbae638b30a9c99]\n",
       "cluster E3--><a href=\"psysml:00588ae4-2df7-4d57-b3d7-e09c73d2d5b1\" target=\"_top\" title=\"psysml:00588ae4-2df7-4d57-b3d7-e09c73d2d5b1\" xlink:actuate=\"onRequest\" xlink:href=\"psysml:00588ae4-2df7-4d57-b3d7-e09c73d2d5b1\" xlink:show=\"new\" xlink:title=\"psysml:00588ae4-2df7-4d57-b3d7-e09c73d2d5b1\" xlink:type=\"simple\"><rect fill=\"#FFFFFF\" height=\"90\" id=\"E3\" style=\"stroke: #383838; stroke-width: 1.5;\" width=\"83\" x=\"324\" y=\"64\"/><rect fill=\"#F8F8F8\" height=\"37.9375\" style=\"stroke: #383838; stroke-width: 1.5;\" width=\"83\" x=\"324\" y=\"64\"/><text fill=\"#000000\" font-family=\"sans-serif\" font-size=\"12\" font-style=\"italic\" lengthAdjust=\"spacingAndGlyphs\" textLength=\"64\" x=\"333.5\" y=\"80.1387\">«part def»</text><text fill=\"#000000\" font-family=\"sans-serif\" font-size=\"12\" lengthAdjust=\"spacingAndGlyphs\" textLength=\"16\" x=\"357.5\" y=\"94.1074\">P1</text></a><!--MD5=[14e3b0961a2654348d326746436168a1]\n",
       "cluster E6--><a href=\"psysml:4e54ee4d-012b-498f-93d7-1afb3759d34d\" target=\"_top\" title=\"psysml:4e54ee4d-012b-498f-93d7-1afb3759d34d\" xlink:actuate=\"onRequest\" xlink:href=\"psysml:4e54ee4d-012b-498f-93d7-1afb3759d34d\" xlink:show=\"new\" xlink:title=\"psysml:4e54ee4d-012b-498f-93d7-1afb3759d34d\" xlink:type=\"simple\"><rect fill=\"#FFFFFF\" height=\"82\" id=\"E6\" rx=\"10\" ry=\"10\" style=\"stroke: #383838; stroke-width: 1.5;\" width=\"104\" x=\"112\" y=\"64\"/><rect fill=\"#F8F8F8\" height=\"23.9688\" rx=\"10\" ry=\"10\" style=\"stroke: #F8F8F8; stroke-width: 1.5;\" width=\"104\" x=\"112\" y=\"64\"/><rect fill=\"#F8F8F8\" height=\"10\" style=\"stroke: #F8F8F8; stroke-width: 1.5;\" width=\"104\" x=\"112\" y=\"77.9688\"/><rect fill=\"none\" height=\"82\" id=\"E6\" rx=\"10\" ry=\"10\" style=\"stroke: #383838; stroke-width: 1.5;\" width=\"104\" x=\"112\" y=\"64\"/><text fill=\"#000000\" font-family=\"sans-serif\" font-size=\"12\" lengthAdjust=\"spacingAndGlyphs\" textLength=\"40\" x=\"144\" y=\"80.1387\">p1: P1</text><line style=\"stroke: #383838; stroke-width: 1.0;\" x1=\"112\" x2=\"216\" y1=\"87.9688\" y2=\"87.9688\"/></a><!--MD5=[55dfccfc6c49c2d10cd1bd2211a6c90c]\n",
       "cluster E8--><a href=\"psysml:77eadb46-ce1a-4e0f-9527-bb06765d2ea7\" target=\"_top\" title=\"psysml:77eadb46-ce1a-4e0f-9527-bb06765d2ea7\" xlink:actuate=\"onRequest\" xlink:href=\"psysml:77eadb46-ce1a-4e0f-9527-bb06765d2ea7\" xlink:show=\"new\" xlink:title=\"psysml:77eadb46-ce1a-4e0f-9527-bb06765d2ea7\" xlink:type=\"simple\"><rect fill=\"#FFFFFF\" height=\"84.5\" id=\"E8\" rx=\"10\" ry=\"10\" style=\"stroke: #383838; stroke-width: 1.5;\" width=\"83\" x=\"219\" y=\"120.5\"/><rect fill=\"#F8F8F8\" height=\"23.9688\" rx=\"10\" ry=\"10\" style=\"stroke: #F8F8F8; stroke-width: 1.5;\" width=\"83\" x=\"219\" y=\"120.5\"/><rect fill=\"#F8F8F8\" height=\"10\" style=\"stroke: #F8F8F8; stroke-width: 1.5;\" width=\"83\" x=\"219\" y=\"134.4688\"/><rect fill=\"none\" height=\"84.5\" id=\"E8\" rx=\"10\" ry=\"10\" style=\"stroke: #383838; stroke-width: 1.5;\" width=\"83\" x=\"219\" y=\"120.5\"/><text fill=\"#000000\" font-family=\"sans-serif\" font-size=\"12\" lengthAdjust=\"spacingAndGlyphs\" textLength=\"40\" x=\"240.5\" y=\"136.6387\">p2: P1</text><line style=\"stroke: #383838; stroke-width: 1.0;\" x1=\"219\" x2=\"302\" y1=\"144.4688\" y2=\"144.4688\"/></a><!--MD5=[b4997ac47864f28c2f74865a473b2911]\n",
       "class E2--><a href=\"psysml:789c28e5-5e95-405e-84fa-948507b238dc\" target=\"_top\" title=\"psysml:789c28e5-5e95-405e-84fa-948507b238dc\" xlink:actuate=\"onRequest\" xlink:href=\"psysml:789c28e5-5e95-405e-84fa-948507b238dc\" xlink:show=\"new\" xlink:title=\"psysml:789c28e5-5e95-405e-84fa-948507b238dc\" xlink:type=\"simple\"><rect fill=\"#FFFFFF\" height=\"45.9375\" id=\"E2\" rx=\"10\" ry=\"10\" style=\"stroke: #383838; stroke-width: 1.5;\" width=\"71\" x=\"32.5\" y=\"41\"/><text fill=\"#000000\" font-family=\"sans-serif\" font-size=\"12\" font-style=\"italic\" lengthAdjust=\"spacingAndGlyphs\" textLength=\"69\" x=\"33.5\" y=\"57.1387\">«attribute»</text><text fill=\"#000000\" font-family=\"sans-serif\" font-size=\"12\" lengthAdjust=\"spacingAndGlyphs\" textLength=\"8\" x=\"64\" y=\"71.1074\">q</text><line style=\"stroke: #383838; stroke-width: 1.5;\" x1=\"33.5\" x2=\"102.5\" y1=\"78.9375\" y2=\"78.9375\"/></a><text fill=\"#000000\" font-family=\"sans-serif\" font-size=\"14\" lengthAdjust=\"spacingAndGlyphs\" textLength=\"44\" x=\"320\" y=\"42.6982\">porig1</text><rect fill=\"#383838\" height=\"12\" style=\"stroke: #F8F8F8; stroke-width: 1.5;\" width=\"12\" x=\"336\" y=\"58\"/><text fill=\"#000000\" font-family=\"sans-serif\" font-size=\"14\" lengthAdjust=\"spacingAndGlyphs\" textLength=\"44\" x=\"367\" y=\"42.6982\">porig1</text><rect fill=\"#383838\" height=\"12\" style=\"stroke: #F8F8F8; stroke-width: 1.5;\" width=\"12\" x=\"383\" y=\"58\"/><text fill=\"#000000\" font-family=\"sans-serif\" font-size=\"14\" lengthAdjust=\"spacingAndGlyphs\" textLength=\"27\" x=\"184.5\" y=\"42.6982\">po1</text><rect fill=\"#383838\" height=\"12\" style=\"stroke: #F8F8F8; stroke-width: 1.5;\" width=\"12\" x=\"192\" y=\"58\"/><text fill=\"#000000\" font-family=\"sans-serif\" font-size=\"14\" lengthAdjust=\"spacingAndGlyphs\" textLength=\"40\" x=\"217\" y=\"99.1982\">pdest</text><rect fill=\"#383838\" height=\"12\" style=\"stroke: #F8F8F8; stroke-width: 1.5;\" width=\"12\" x=\"231\" y=\"114.5\"/><text fill=\"#000000\" font-family=\"sans-serif\" font-size=\"14\" lengthAdjust=\"spacingAndGlyphs\" textLength=\"40\" x=\"264\" y=\"99.1982\">pdest</text><rect fill=\"#383838\" height=\"12\" style=\"stroke: #F8F8F8; stroke-width: 1.5;\" width=\"12\" x=\"278\" y=\"114.5\"/><!--MD5=[1c0b9414cc86e0744215edee6abd8926]\n",
       "link E7 to E9--><a href=\"psysml:af89f277-c22a-4acb-b9c9-7f04d6a8a86b\" target=\"_top\" title=\"psysml:af89f277-c22a-4acb-b9c9-7f04d6a8a86b\" xlink:actuate=\"onRequest\" xlink:href=\"psysml:af89f277-c22a-4acb-b9c9-7f04d6a8a86b\" xlink:show=\"new\" xlink:title=\"psysml:af89f277-c22a-4acb-b9c9-7f04d6a8a86b\" xlink:type=\"simple\"><path d=\"M201.88,70.19 C201.88,84.38 201.88,118 201.88,118 C201.88,118 220.82,118 230.88,118 \" fill=\"none\" id=\"E7-E9\" style=\"stroke: #383838; stroke-width: 3.0;\"/><text fill=\"#000000\" font-family=\"sans-serif\" font-size=\"13\" lengthAdjust=\"spacingAndGlyphs\" textLength=\"7\" x=\"215.9435\" y=\"106.8717\">*</text></a><!--MD5=[1c0b9414cc86e0744215edee6abd8926]\n",
       "link E7 to E9--><a href=\"psysml:6818c790-7ee4-49fa-b866-28c88d0d2e1e\" target=\"_top\" title=\"psysml:6818c790-7ee4-49fa-b866-28c88d0d2e1e\" xlink:actuate=\"onRequest\" xlink:href=\"psysml:6818c790-7ee4-49fa-b866-28c88d0d2e1e\" xlink:show=\"new\" xlink:title=\"psysml:6818c790-7ee4-49fa-b866-28c88d0d2e1e\" xlink:type=\"simple\"><path d=\"M199.75,70.1 C199.75,84.8 199.75,121 199.75,121 C199.75,121 220.27,121 230.85,121 \" fill=\"none\" id=\"E7-E9-1\" style=\"stroke: #383838; stroke-width: 3.0;\"/><text fill=\"#000000\" font-family=\"sans-serif\" font-size=\"13\" lengthAdjust=\"spacingAndGlyphs\" textLength=\"7\" x=\"215.8888\" y=\"139.7217\">*</text></a><!--MD5=[28e4845938236be4d71961db5045f5a8]\n",
       "@startuml\r\n",
       "skinparam ranksep 10\r\n",
       "skinparam rectangle {\r\n",
       " backgroundColor<<block>> LightGreen\r\n",
       "}\r\n",
       "skinparam linetype ortho\r\n",
       "skinparam monochrome true\r\n",
       "skinparam classbackgroundcolor white\r\n",
       "skinparam shadowing false\r\n",
       "skinparam wrapWidth 300\r\n",
       "hide circle\r\n",
       "\r\n",
       "package \"AliasTest\" as E1  [[psysml:7e4311dd-4dd4-41de-a431-b17c5d614850 ]]  {\r\n",
       "comp usage \"q\" as E2  <<(T,blue) attribute>> [[psysml:789c28e5-5e95-405e-84fa-948507b238dc ]] {\r\n",
       "}\r\n",
       "rec def \"P1\" as E3  <<(T,blue) part def>> [[psysml:00588ae4-2df7-4d57-b3d7-e09c73d2d5b1 ]] {\r\n",
       "portin \"porig1\" as E4  <<(T,blue) port>> [[psysml:236a437d-3673-4742-905a-959f5dd42893 ]] \r\n",
       "portin \"porig1\" as E5  <<(T,blue) port>> [[psysml:236a437d-3673-4742-905a-959f5dd42893 ]] \r\n",
       "}\r\n",
       "rec usage \"p1: P1\" as E6  [[psysml:4e54ee4d-012b-498f-93d7-1afb3759d34d ]] {\r\n",
       "portin \"po1\" as E7  <<(T,blue) port>> [[psysml:8965b7df-293c-4ee2-9b2b-715c01154c80 ]] \r\n",
       "}\r\n",
       "rec usage \"p2: P1\" as E8  [[psysml:77eadb46-ce1a-4e0f-9527-bb06765d2ea7 ]] {\r\n",
       "portin \"pdest\" as E9  <<(T,blue) port>> [[psysml:db28622a-fbe8-4c7d-8fe4-9e164802e944 ]] \r\n",
       "portin \"pdest\" as E10  <<(T,blue) port>> [[psysml:db28622a-fbe8-4c7d-8fe4-9e164802e944 ]] \r\n",
       "}\r\n",
       "E7 -[thickness=3]- \"*\"E9 [[psysml:af89f277-c22a-4acb-b9c9-7f04d6a8a86b ]] \r\n",
       "E7 -[thickness=3]- \"*\"E9 [[psysml:6818c790-7ee4-49fa-b866-28c88d0d2e1e ]] \r\n",
       "}\r\n",
       "@enduml\r\n",
       "\n",
       "PlantUML version 1.2020.13(Sat Jun 13 12:26:38 UTC 2020)\n",
       "(EPL source distribution)\n",
       "Java Runtime: OpenJDK Runtime Environment\n",
       "JVM: OpenJDK 64-Bit Server VM\n",
       "Default Encoding: UTF-8\n",
       "Language: en\n",
       "Country: null\n",
       "--></g></svg>"
      ]
     },
     "execution_count": 54,
     "metadata": {},
     "output_type": "execute_result"
    }
   ],
   "source": [
    "%viz --style=\"ORTHOLINE\" --view=\"Interconnection\" \"AliasTest\""
   ]
  },
  {
   "cell_type": "code",
   "execution_count": 55,
   "id": "1395dfce",
   "metadata": {
    "execution": {
     "iopub.execute_input": "2021-08-04T06:25:33.894684Z",
     "iopub.status.busy": "2021-08-04T06:25:33.894224Z",
     "iopub.status.idle": "2021-08-04T06:25:33.898125Z",
     "shell.execute_reply": "2021-08-04T06:25:33.897726Z"
    }
   },
   "outputs": [
    {
     "data": {
      "image/svg+xml": [
       "<?xml version=\"1.0\" encoding=\"UTF-8\" standalone=\"no\"?><svg xmlns=\"http://www.w3.org/2000/svg\" xmlns:xlink=\"http://www.w3.org/1999/xlink\" contentScriptType=\"application/ecmascript\" contentStyleType=\"text/css\" height=\"12px\" preserveAspectRatio=\"none\" style=\"width:12px;height:12px;\" version=\"1.1\" viewBox=\"0 0 12 12\" width=\"12px\" zoomAndPan=\"magnify\"><defs/><g><!--MD5=[72934c63077099a26744516a776b4749]\n",
       "@startuml\r\n",
       "skinparam ranksep 8\r\n",
       "skinparam linetype ortho\r\n",
       "skinparam monochrome true\r\n",
       "skinparam classbackgroundcolor white\r\n",
       "skinparam shadowing false\r\n",
       "skinparam wrapWidth 300\r\n",
       "hide circle\r\n",
       "\r\n",
       "@enduml\r\n",
       "\n",
       "PlantUML version 1.2020.13(Sat Jun 13 12:26:38 UTC 2020)\n",
       "(EPL source distribution)\n",
       "Java Runtime: OpenJDK Runtime Environment\n",
       "JVM: OpenJDK 64-Bit Server VM\n",
       "Default Encoding: UTF-8\n",
       "Language: en\n",
       "Country: null\n",
       "--></g></svg>"
      ]
     },
     "execution_count": 55,
     "metadata": {},
     "output_type": "execute_result"
    }
   ],
   "source": [
    "%viz --style=\"ORTHOLINE\" --view=\"Action\" \"AliasTest\""
   ]
  },
  {
   "cell_type": "code",
   "execution_count": 56,
   "id": "c789eaf5",
   "metadata": {
    "execution": {
     "iopub.execute_input": "2021-08-04T06:25:33.947381Z",
     "iopub.status.busy": "2021-08-04T06:25:33.946928Z",
     "iopub.status.idle": "2021-08-04T06:25:33.982006Z",
     "shell.execute_reply": "2021-08-04T06:25:33.981657Z"
    }
   },
   "outputs": [
    {
     "data": {
      "image/svg+xml": [
       "<?xml version=\"1.0\" encoding=\"UTF-8\" standalone=\"no\"?><svg xmlns=\"http://www.w3.org/2000/svg\" xmlns:xlink=\"http://www.w3.org/1999/xlink\" contentScriptType=\"application/ecmascript\" contentStyleType=\"text/css\" height=\"327px\" preserveAspectRatio=\"none\" style=\"width:304px;height:327px;\" version=\"1.1\" viewBox=\"0 0 304 327\" width=\"304px\" zoomAndPan=\"magnify\"><defs/><g><!--MD5=[fbc87193dbaf4d95561dea2c320d4a47]\n",
       "cluster E1--><a href=\"psysml:7e4311dd-4dd4-41de-a431-b17c5d614850\" target=\"_top\" title=\"psysml:7e4311dd-4dd4-41de-a431-b17c5d614850\" xlink:actuate=\"onRequest\" xlink:href=\"psysml:7e4311dd-4dd4-41de-a431-b17c5d614850\" xlink:show=\"new\" xlink:title=\"psysml:7e4311dd-4dd4-41de-a431-b17c5d614850\" xlink:type=\"simple\"><polygon fill=\"#FFFFFF\" points=\"16,6,94,6,101,28.2969,282,28.2969,282,315,16,315,16,6\" style=\"stroke: #000000; stroke-width: 1.5;\"/><line style=\"stroke: #000000; stroke-width: 1.5;\" x1=\"16\" x2=\"101\" y1=\"28.2969\" y2=\"28.2969\"/><text fill=\"#000000\" font-family=\"sans-serif\" font-size=\"14\" font-weight=\"bold\" lengthAdjust=\"spacingAndGlyphs\" textLength=\"72\" x=\"20\" y=\"20.9951\">AliasTest</text></a><!--MD5=[b4997ac47864f28c2f74865a473b2911]\n",
       "class E2--><a href=\"psysml:789c28e5-5e95-405e-84fa-948507b238dc\" target=\"_top\" title=\"psysml:789c28e5-5e95-405e-84fa-948507b238dc\" xlink:actuate=\"onRequest\" xlink:href=\"psysml:789c28e5-5e95-405e-84fa-948507b238dc\" xlink:show=\"new\" xlink:title=\"psysml:789c28e5-5e95-405e-84fa-948507b238dc\" xlink:type=\"simple\"><rect fill=\"#FFFFFF\" height=\"45.9375\" id=\"E2\" rx=\"10\" ry=\"10\" style=\"stroke: #383838; stroke-width: 1.5;\" width=\"71\" x=\"194.5\" y=\"41\"/><text fill=\"#000000\" font-family=\"sans-serif\" font-size=\"12\" font-style=\"italic\" lengthAdjust=\"spacingAndGlyphs\" textLength=\"69\" x=\"195.5\" y=\"57.1387\">«attribute»</text><text fill=\"#000000\" font-family=\"sans-serif\" font-size=\"12\" lengthAdjust=\"spacingAndGlyphs\" textLength=\"8\" x=\"226\" y=\"71.1074\">q</text><line style=\"stroke: #383838; stroke-width: 1.5;\" x1=\"195.5\" x2=\"264.5\" y1=\"78.9375\" y2=\"78.9375\"/></a><!--MD5=[09b614a08d8cba4a07c9adeb5e0fee81]\n",
       "class E3--><a href=\"psysml:00588ae4-2df7-4d57-b3d7-e09c73d2d5b1\" target=\"_top\" title=\"psysml:00588ae4-2df7-4d57-b3d7-e09c73d2d5b1\" xlink:actuate=\"onRequest\" xlink:href=\"psysml:00588ae4-2df7-4d57-b3d7-e09c73d2d5b1\" xlink:show=\"new\" xlink:title=\"psysml:00588ae4-2df7-4d57-b3d7-e09c73d2d5b1\" xlink:type=\"simple\"><rect fill=\"#FFFFFF\" height=\"45.9375\" id=\"E3\" style=\"stroke: #383838; stroke-width: 1.5;\" width=\"66\" x=\"168\" y=\"147\"/><text fill=\"#000000\" font-family=\"sans-serif\" font-size=\"12\" font-style=\"italic\" lengthAdjust=\"spacingAndGlyphs\" textLength=\"64\" x=\"169\" y=\"163.1387\">«part def»</text><text fill=\"#000000\" font-family=\"sans-serif\" font-size=\"12\" lengthAdjust=\"spacingAndGlyphs\" textLength=\"16\" x=\"193\" y=\"177.1074\">P1</text><line style=\"stroke: #383838; stroke-width: 1.5;\" x1=\"169\" x2=\"233\" y1=\"184.9375\" y2=\"184.9375\"/></a><!--MD5=[ebbe1d658d1005bcc118a6aa81145e00]\n",
       "class E4--><a href=\"psysml:236a437d-3673-4742-905a-959f5dd42893\" target=\"_top\" title=\"psysml:236a437d-3673-4742-905a-959f5dd42893\" xlink:actuate=\"onRequest\" xlink:href=\"psysml:236a437d-3673-4742-905a-959f5dd42893\" xlink:show=\"new\" xlink:title=\"psysml:236a437d-3673-4742-905a-959f5dd42893\" xlink:type=\"simple\"><rect fill=\"#FFFFFF\" height=\"45.9375\" id=\"E4\" rx=\"10\" ry=\"10\" style=\"stroke: #383838; stroke-width: 1.5;\" width=\"46\" x=\"178\" y=\"253\"/><text fill=\"#000000\" font-family=\"sans-serif\" font-size=\"12\" font-style=\"italic\" lengthAdjust=\"spacingAndGlyphs\" textLength=\"40\" x=\"181\" y=\"269.1387\">«port»</text><text fill=\"#000000\" font-family=\"sans-serif\" font-size=\"12\" lengthAdjust=\"spacingAndGlyphs\" textLength=\"40\" x=\"181\" y=\"283.1074\">porig1</text><line style=\"stroke: #383838; stroke-width: 1.5;\" x1=\"179\" x2=\"223\" y1=\"290.9375\" y2=\"290.9375\"/></a><!--MD5=[270fce915f116d4de14055a7c1d9a0f3]\n",
       "class E5--><a href=\"psysml:4e54ee4d-012b-498f-93d7-1afb3759d34d\" target=\"_top\" title=\"psysml:4e54ee4d-012b-498f-93d7-1afb3759d34d\" xlink:actuate=\"onRequest\" xlink:href=\"psysml:4e54ee4d-012b-498f-93d7-1afb3759d34d\" xlink:show=\"new\" xlink:title=\"psysml:4e54ee4d-012b-498f-93d7-1afb3759d34d\" xlink:type=\"simple\"><rect fill=\"#FFFFFF\" height=\"45.9375\" id=\"E5\" rx=\"10\" ry=\"10\" style=\"stroke: #383838; stroke-width: 1.5;\" width=\"46\" x=\"113\" y=\"41\"/><text fill=\"#000000\" font-family=\"sans-serif\" font-size=\"12\" font-style=\"italic\" lengthAdjust=\"spacingAndGlyphs\" textLength=\"40\" x=\"116\" y=\"57.1387\">«part»</text><text fill=\"#000000\" font-family=\"sans-serif\" font-size=\"12\" lengthAdjust=\"spacingAndGlyphs\" textLength=\"40\" x=\"116\" y=\"71.1074\">p1: P1</text><line style=\"stroke: #383838; stroke-width: 1.5;\" x1=\"114\" x2=\"158\" y1=\"78.9375\" y2=\"78.9375\"/></a><!--MD5=[60a26617385b1d2d0262a64233df1f8d]\n",
       "class E6--><a href=\"psysml:8965b7df-293c-4ee2-9b2b-715c01154c80\" target=\"_top\" title=\"psysml:8965b7df-293c-4ee2-9b2b-715c01154c80\" xlink:actuate=\"onRequest\" xlink:href=\"psysml:8965b7df-293c-4ee2-9b2b-715c01154c80\" xlink:show=\"new\" xlink:title=\"psysml:8965b7df-293c-4ee2-9b2b-715c01154c80\" xlink:type=\"simple\"><rect fill=\"#FFFFFF\" height=\"45.9375\" id=\"E6\" rx=\"10\" ry=\"10\" style=\"stroke: #383838; stroke-width: 1.5;\" width=\"42\" x=\"91\" y=\"147\"/><text fill=\"#000000\" font-family=\"sans-serif\" font-size=\"12\" font-style=\"italic\" lengthAdjust=\"spacingAndGlyphs\" textLength=\"40\" x=\"92\" y=\"163.1387\">«port»</text><text fill=\"#000000\" font-family=\"sans-serif\" font-size=\"12\" lengthAdjust=\"spacingAndGlyphs\" textLength=\"24\" x=\"100\" y=\"177.1074\">po1</text><line style=\"stroke: #383838; stroke-width: 1.5;\" x1=\"92\" x2=\"132\" y1=\"184.9375\" y2=\"184.9375\"/></a><!--MD5=[2156ba9850f5573cc1fc38a6a4b2f02b]\n",
       "class E7--><a href=\"psysml:77eadb46-ce1a-4e0f-9527-bb06765d2ea7\" target=\"_top\" title=\"psysml:77eadb46-ce1a-4e0f-9527-bb06765d2ea7\" xlink:actuate=\"onRequest\" xlink:href=\"psysml:77eadb46-ce1a-4e0f-9527-bb06765d2ea7\" xlink:show=\"new\" xlink:title=\"psysml:77eadb46-ce1a-4e0f-9527-bb06765d2ea7\" xlink:type=\"simple\"><rect fill=\"#FFFFFF\" height=\"45.9375\" id=\"E7\" rx=\"10\" ry=\"10\" style=\"stroke: #383838; stroke-width: 1.5;\" width=\"46\" x=\"32\" y=\"41\"/><text fill=\"#000000\" font-family=\"sans-serif\" font-size=\"12\" font-style=\"italic\" lengthAdjust=\"spacingAndGlyphs\" textLength=\"40\" x=\"35\" y=\"57.1387\">«part»</text><text fill=\"#000000\" font-family=\"sans-serif\" font-size=\"12\" lengthAdjust=\"spacingAndGlyphs\" textLength=\"40\" x=\"35\" y=\"71.1074\">p2: P1</text><line style=\"stroke: #383838; stroke-width: 1.5;\" x1=\"33\" x2=\"77\" y1=\"78.9375\" y2=\"78.9375\"/></a><!--MD5=[b9389687b975829384b498ac4b7476b2]\n",
       "class E8--><a href=\"psysml:db28622a-fbe8-4c7d-8fe4-9e164802e944\" target=\"_top\" title=\"psysml:db28622a-fbe8-4c7d-8fe4-9e164802e944\" xlink:actuate=\"onRequest\" xlink:href=\"psysml:db28622a-fbe8-4c7d-8fe4-9e164802e944\" xlink:show=\"new\" xlink:title=\"psysml:db28622a-fbe8-4c7d-8fe4-9e164802e944\" xlink:type=\"simple\"><rect fill=\"#FFFFFF\" height=\"45.9375\" id=\"E8\" rx=\"10\" ry=\"10\" style=\"stroke: #383838; stroke-width: 1.5;\" width=\"42\" x=\"63\" y=\"253\"/><text fill=\"#000000\" font-family=\"sans-serif\" font-size=\"12\" font-style=\"italic\" lengthAdjust=\"spacingAndGlyphs\" textLength=\"40\" x=\"64\" y=\"269.1387\">«port»</text><text fill=\"#000000\" font-family=\"sans-serif\" font-size=\"12\" lengthAdjust=\"spacingAndGlyphs\" textLength=\"36\" x=\"66\" y=\"283.1074\">pdest</text><line style=\"stroke: #383838; stroke-width: 1.5;\" x1=\"64\" x2=\"104\" y1=\"290.9375\" y2=\"290.9375\"/></a><!--MD5=[4672eba38e49728da53d11aeb285b987]\n",
       "reverse link E3 to E4--><a href=\"psysml:10297d07-57fa-4f9d-a873-bd76f542a35c\" target=\"_top\" title=\"psysml:10297d07-57fa-4f9d-a873-bd76f542a35c\" xlink:actuate=\"onRequest\" xlink:href=\"psysml:10297d07-57fa-4f9d-a873-bd76f542a35c\" xlink:show=\"new\" xlink:title=\"psysml:10297d07-57fa-4f9d-a873-bd76f542a35c\" xlink:type=\"simple\"><path d=\"M193.33,206 C193.33,206 193.33,252.68 193.33,252.68 \" fill=\"none\" id=\"E3&lt;-E4\" style=\"stroke: #383838; stroke-width: 1.0;\"/><polygon fill=\"#FFFFFF\" points=\"193.33,193,189.33,199,193.33,205,197.33,199,193.33,193\" style=\"stroke: #383838; stroke-width: 1.0;\"/><text fill=\"#000000\" font-family=\"sans-serif\" font-size=\"13\" lengthAdjust=\"spacingAndGlyphs\" textLength=\"8\" x=\"182.3396\" y=\"241.8743\">1</text></a><!--MD5=[4672eba38e49728da53d11aeb285b987]\n",
       "reverse link E3 to E4--><a href=\"psysml:4c29fec0-8309-450b-9bf3-4a2b28b77917\" target=\"_top\" title=\"psysml:4c29fec0-8309-450b-9bf3-4a2b28b77917\" xlink:actuate=\"onRequest\" xlink:href=\"psysml:4c29fec0-8309-450b-9bf3-4a2b28b77917\" xlink:show=\"new\" xlink:title=\"psysml:4c29fec0-8309-450b-9bf3-4a2b28b77917\" xlink:type=\"simple\"><path d=\"M208.67,208 C208.67,208 208.67,252.68 208.67,252.68 \" fill=\"none\" id=\"E3&lt;-E4-1\" style=\"stroke: #383838; stroke-width: 1.0; stroke-dasharray: 7.0,7.0;\"/><ellipse cx=\"208.67\" cy=\"201\" fill=\"#FFFFFF\" rx=\"8\" ry=\"8\" style=\"stroke: #383838; stroke-width: 1.0;\"/><line style=\"stroke: #383838; stroke-width: 1.0;\" x1=\"208.67\" x2=\"208.67\" y1=\"209\" y2=\"193\"/><line style=\"stroke: #383838; stroke-width: 1.0;\" x1=\"200.67\" x2=\"216.67\" y1=\"201\" y2=\"201\"/><text fill=\"#000000\" font-family=\"sans-serif\" font-size=\"13\" lengthAdjust=\"spacingAndGlyphs\" textLength=\"8\" x=\"201.6104\" y=\"241.8743\">1</text></a><!--MD5=[e9be52314489bd878ff4c7144b63c9e1]\n",
       "link E5 to E3--><a href=\"psysml:93a52ea3-a140-4bd2-b924-ec5ad15b1b7e\" target=\"_top\" title=\"psysml:93a52ea3-a140-4bd2-b924-ec5ad15b1b7e\" xlink:actuate=\"onRequest\" xlink:href=\"psysml:93a52ea3-a140-4bd2-b924-ec5ad15b1b7e\" xlink:show=\"new\" xlink:title=\"psysml:93a52ea3-a140-4bd2-b924-ec5ad15b1b7e\" xlink:type=\"simple\"><path d=\"M146,87 C146,118.18 146,170 146,170 C146,170 148.17,170 148.17,170 \" fill=\"none\" id=\"E5-&gt;E3\" style=\"stroke: #383838; stroke-width: 1.0;\"/><polygon fill=\"#FFFFFF\" points=\"167.74,170,148.74,177,148.74,163,167.74,170\" style=\"stroke: #383838; stroke-width: 1.0;\"/><ellipse cx=\"143.04\" cy=\"175\" fill=\"#383838\" rx=\"2\" ry=\"2\" style=\"stroke: #383838; stroke-width: 1.0;\"/><ellipse cx=\"143.04\" cy=\"165\" fill=\"#383838\" rx=\"2\" ry=\"2\" style=\"stroke: #383838; stroke-width: 1.0;\"/></a><!--MD5=[85d356282659285ab4b2cfe2f634dd2b]\n",
       "reverse link E5 to E6--><a href=\"psysml:cdcbbeec-90be-4e1d-8c60-d92c8a6a7077\" target=\"_top\" title=\"psysml:cdcbbeec-90be-4e1d-8c60-d92c8a6a7077\" xlink:actuate=\"onRequest\" xlink:href=\"psysml:cdcbbeec-90be-4e1d-8c60-d92c8a6a7077\" xlink:show=\"new\" xlink:title=\"psysml:cdcbbeec-90be-4e1d-8c60-d92c8a6a7077\" xlink:type=\"simple\"><path d=\"M123,100 C123,100 123,146.68 123,146.68 \" fill=\"none\" id=\"E5&lt;-E6\" style=\"stroke: #383838; stroke-width: 1.0;\"/><polygon fill=\"#FFFFFF\" points=\"123,87,119,93,123,99,127,93,123,87\" style=\"stroke: #383838; stroke-width: 1.0;\"/><text fill=\"#000000\" font-family=\"sans-serif\" font-size=\"13\" lengthAdjust=\"spacingAndGlyphs\" textLength=\"8\" x=\"116.7938\" y=\"135.8743\">1</text></a><!--MD5=[f667431f98296947986a1a7595a31603]\n",
       "link E6 to E4--><a href=\"psysml:b5614b00-f88c-4f87-85f7-609ca7f17bae\" target=\"_top\" title=\"psysml:b5614b00-f88c-4f87-85f7-609ca7f17bae\" xlink:actuate=\"onRequest\" xlink:href=\"psysml:b5614b00-f88c-4f87-85f7-609ca7f17bae\" xlink:show=\"new\" xlink:title=\"psysml:b5614b00-f88c-4f87-85f7-609ca7f17bae\" xlink:type=\"simple\"><path d=\"M119,193 C119,224.18 119,276 119,276 C119,276 157.72,276 157.72,276 \" fill=\"none\" id=\"E6-&gt;E4\" style=\"stroke: #383838; stroke-width: 1.0;\"/><polygon fill=\"#FFFFFF\" points=\"177.72,276,158.72,283,158.72,269,177.72,276\" style=\"stroke: #383838; stroke-width: 1.0;\"/><line style=\"stroke: #383838; stroke-width: 2.0;\" x1=\"154.92\" x2=\"154.92\" y1=\"283\" y2=\"269\"/></a><!--MD5=[14ccda38c055a5c0da953d572bc50960]\n",
       "link E7 to E3--><a href=\"psysml:87c48ed5-bc50-48bb-899d-f807bfcdc26e\" target=\"_top\" title=\"psysml:87c48ed5-bc50-48bb-899d-f807bfcdc26e\" xlink:actuate=\"onRequest\" xlink:href=\"psysml:87c48ed5-bc50-48bb-899d-f807bfcdc26e\" xlink:show=\"new\" xlink:title=\"psysml:87c48ed5-bc50-48bb-899d-f807bfcdc26e\" xlink:type=\"simple\"><path d=\"M74.25,87.09 C74.25,101.37 74.25,117 74.25,117 C74.25,117 181.25,117 181.25,117 C181.25,117 181.25,126.91 181.25,126.91 \" fill=\"none\" id=\"E7-&gt;E3\" style=\"stroke: #383838; stroke-width: 1.0;\"/><polygon fill=\"#FFFFFF\" points=\"181.25,146.91,174.25,127.91,188.25,127.91,181.25,146.91\" style=\"stroke: #383838; stroke-width: 1.0;\"/><ellipse cx=\"176.25\" cy=\"122.21\" fill=\"#383838\" rx=\"2\" ry=\"2\" style=\"stroke: #383838; stroke-width: 1.0;\"/><ellipse cx=\"186.25\" cy=\"122.21\" fill=\"#383838\" rx=\"2\" ry=\"2\" style=\"stroke: #383838; stroke-width: 1.0;\"/></a><!--MD5=[dc164f5e8a733ab456ef1add180e9e34]\n",
       "reverse link E7 to E8--><a href=\"psysml:5ff6c459-66f7-4338-82bb-16aa2b22f6b4\" target=\"_top\" title=\"psysml:5ff6c459-66f7-4338-82bb-16aa2b22f6b4\" xlink:actuate=\"onRequest\" xlink:href=\"psysml:5ff6c459-66f7-4338-82bb-16aa2b22f6b4\" xlink:show=\"new\" xlink:title=\"psysml:5ff6c459-66f7-4338-82bb-16aa2b22f6b4\" xlink:type=\"simple\"><path d=\"M66.75,100.09 C66.75,100.09 66.75,252.94 66.75,252.94 \" fill=\"none\" id=\"E7&lt;-E8\" style=\"stroke: #383838; stroke-width: 1.0;\"/><polygon fill=\"#FFFFFF\" points=\"66.75,87.09,62.75,93.09,66.75,99.09,70.75,93.09,66.75,87.09\" style=\"stroke: #383838; stroke-width: 1.0;\"/><text fill=\"#000000\" font-family=\"sans-serif\" font-size=\"13\" lengthAdjust=\"spacingAndGlyphs\" textLength=\"8\" x=\"53.0391\" y=\"241.8201\">1</text></a><!--MD5=[dc164f5e8a733ab456ef1add180e9e34]\n",
       "reverse link E7 to E8--><a href=\"psysml:4eb1c616-a5a7-47d5-8985-e84491dc2120\" target=\"_top\" title=\"psysml:4eb1c616-a5a7-47d5-8985-e84491dc2120\" xlink:actuate=\"onRequest\" xlink:href=\"psysml:4eb1c616-a5a7-47d5-8985-e84491dc2120\" xlink:show=\"new\" xlink:title=\"psysml:4eb1c616-a5a7-47d5-8985-e84491dc2120\" xlink:type=\"simple\"><path d=\"M70.5,102.09 C70.5,102.09 70.5,252.94 70.5,252.94 \" fill=\"none\" id=\"E7&lt;-E8-1\" style=\"stroke: #383838; stroke-width: 1.0; stroke-dasharray: 7.0,7.0;\"/><ellipse cx=\"70.5\" cy=\"95.09\" fill=\"#FFFFFF\" rx=\"8\" ry=\"8\" style=\"stroke: #383838; stroke-width: 1.0;\"/><line style=\"stroke: #383838; stroke-width: 1.0;\" x1=\"70.5\" x2=\"70.5\" y1=\"103.09\" y2=\"87.09\"/><line style=\"stroke: #383838; stroke-width: 1.0;\" x1=\"62.5\" x2=\"78.5\" y1=\"95.09\" y2=\"95.09\"/><text fill=\"#000000\" font-family=\"sans-serif\" font-size=\"13\" lengthAdjust=\"spacingAndGlyphs\" textLength=\"8\" x=\"67.9469\" y=\"241.8201\">1</text></a><!--MD5=[0a839d0f80c2d72d4b9b307f046d0de8]\n",
       "link E6 to E8--><a href=\"psysml:af89f277-c22a-4acb-b9c9-7f04d6a8a86b\" target=\"_top\" title=\"psysml:af89f277-c22a-4acb-b9c9-7f04d6a8a86b\" xlink:actuate=\"onRequest\" xlink:href=\"psysml:af89f277-c22a-4acb-b9c9-7f04d6a8a86b\" xlink:show=\"new\" xlink:title=\"psysml:af89f277-c22a-4acb-b9c9-7f04d6a8a86b\" xlink:type=\"simple\"><path d=\"M95.67,193 C95.67,210.66 95.67,234.94 95.67,252.68 \" fill=\"none\" id=\"E6-E8\" style=\"stroke: #383838; stroke-width: 3.0;\"/><text fill=\"#000000\" font-family=\"sans-serif\" font-size=\"13\" lengthAdjust=\"spacingAndGlyphs\" textLength=\"7\" x=\"90.7636\" y=\"241.8743\">*</text></a><!--MD5=[0a839d0f80c2d72d4b9b307f046d0de8]\n",
       "link E6 to E8--><a href=\"psysml:6818c790-7ee4-49fa-b866-28c88d0d2e1e\" target=\"_top\" title=\"psysml:6818c790-7ee4-49fa-b866-28c88d0d2e1e\" xlink:actuate=\"onRequest\" xlink:href=\"psysml:6818c790-7ee4-49fa-b866-28c88d0d2e1e\" xlink:show=\"new\" xlink:title=\"psysml:6818c790-7ee4-49fa-b866-28c88d0d2e1e\" xlink:type=\"simple\"><path d=\"M100.33,193 C100.33,210.66 100.33,234.94 100.33,252.68 \" fill=\"none\" id=\"E6-E8-1\" style=\"stroke: #383838; stroke-width: 3.0;\"/><text fill=\"#000000\" font-family=\"sans-serif\" font-size=\"13\" lengthAdjust=\"spacingAndGlyphs\" textLength=\"7\" x=\"105.4114\" y=\"241.8743\">*</text></a><!--MD5=[bd4899ad5bb4faf4e678a4095dee8653]\n",
       "@startuml\r\n",
       "skinparam linetype ortho\r\n",
       "skinparam monochrome true\r\n",
       "skinparam classbackgroundcolor white\r\n",
       "skinparam shadowing false\r\n",
       "skinparam wrapWidth 300\r\n",
       "hide circle\r\n",
       "\r\n",
       "package \"AliasTest\" as E1  [[psysml:7e4311dd-4dd4-41de-a431-b17c5d614850 ]]  {\r\n",
       "comp usage \"q\" as E2  <<(T,blue) attribute>> [[psysml:789c28e5-5e95-405e-84fa-948507b238dc ]] {\r\n",
       "}\r\n",
       "comp def \"P1\" as E3  <<(T,blue) part def>> [[psysml:00588ae4-2df7-4d57-b3d7-e09c73d2d5b1 ]] {\r\n",
       "}\r\n",
       "comp usage \"porig1\" as E4  <<(T,blue) port>> [[psysml:236a437d-3673-4742-905a-959f5dd42893 ]] {\r\n",
       "}\r\n",
       "comp usage \"p1: P1\" as E5  <<(T,blue) part>> [[psysml:4e54ee4d-012b-498f-93d7-1afb3759d34d ]] {\r\n",
       "}\r\n",
       "comp usage \"po1\" as E6  <<(T,blue) port>> [[psysml:8965b7df-293c-4ee2-9b2b-715c01154c80 ]] {\r\n",
       "}\r\n",
       "comp usage \"p2: P1\" as E7  <<(T,blue) part>> [[psysml:77eadb46-ce1a-4e0f-9527-bb06765d2ea7 ]] {\r\n",
       "}\r\n",
       "comp usage \"pdest\" as E8  <<(T,blue) port>> [[psysml:db28622a-fbe8-4c7d-8fe4-9e164802e944 ]] {\r\n",
       "}\r\n",
       "E3 o- - \"1\"E4 [[psysml:10297d07-57fa-4f9d-a873-bd76f542a35c ]] \r\n",
       "E3 +.. \"1\"E4 [[psysml:4c29fec0-8309-450b-9bf3-4a2b28b77917 ]] \r\n",
       "E5 - -:|> E3 [[psysml:93a52ea3-a140-4bd2-b924-ec5ad15b1b7e ]] \r\n",
       "E5 o- - \"1\"E6 [[psysml:cdcbbeec-90be-4e1d-8c60-d92c8a6a7077 ]] \r\n",
       "E6 - -||> E4 [[psysml:b5614b00-f88c-4f87-85f7-609ca7f17bae ]] \r\n",
       "E7 - -:|> E3 [[psysml:87c48ed5-bc50-48bb-899d-f807bfcdc26e ]] \r\n",
       "E7 o- - \"1\"E8 [[psysml:5ff6c459-66f7-4338-82bb-16aa2b22f6b4 ]] \r\n",
       "E7 +.. \"1\"E8 [[psysml:4eb1c616-a5a7-47d5-8985-e84491dc2120 ]] \r\n",
       "E6 -[thickness=3]- \"*\"E8 [[psysml:af89f277-c22a-4acb-b9c9-7f04d6a8a86b ]] \r\n",
       "E6 -[thickness=3]- \"*\"E8 [[psysml:6818c790-7ee4-49fa-b866-28c88d0d2e1e ]] \r\n",
       "}\r\n",
       "@enduml\r\n",
       "\n",
       "PlantUML version 1.2020.13(Sat Jun 13 12:26:38 UTC 2020)\n",
       "(EPL source distribution)\n",
       "Java Runtime: OpenJDK Runtime Environment\n",
       "JVM: OpenJDK 64-Bit Server VM\n",
       "Default Encoding: UTF-8\n",
       "Language: en\n",
       "Country: null\n",
       "--></g></svg>"
      ]
     },
     "execution_count": 56,
     "metadata": {},
     "output_type": "execute_result"
    }
   ],
   "source": [
    "%viz --style=\"ORTHOLINE\" --view=\"Sequence\" \"AliasTest\""
   ]
  },
  {
   "cell_type": "code",
   "execution_count": 57,
   "id": "f98901e2",
   "metadata": {
    "execution": {
     "iopub.execute_input": "2021-08-04T06:25:34.031657Z",
     "iopub.status.busy": "2021-08-04T06:25:34.031184Z",
     "iopub.status.idle": "2021-08-04T06:25:34.066063Z",
     "shell.execute_reply": "2021-08-04T06:25:34.065709Z"
    }
   },
   "outputs": [
    {
     "data": {
      "image/svg+xml": [
       "<?xml version=\"1.0\" encoding=\"UTF-8\" standalone=\"no\"?><svg xmlns=\"http://www.w3.org/2000/svg\" xmlns:xlink=\"http://www.w3.org/1999/xlink\" contentScriptType=\"application/ecmascript\" contentStyleType=\"text/css\" height=\"327px\" preserveAspectRatio=\"none\" style=\"width:304px;height:327px;\" version=\"1.1\" viewBox=\"0 0 304 327\" width=\"304px\" zoomAndPan=\"magnify\"><defs/><g><!--MD5=[fbc87193dbaf4d95561dea2c320d4a47]\n",
       "cluster E1--><a href=\"psysml:7e4311dd-4dd4-41de-a431-b17c5d614850\" target=\"_top\" title=\"psysml:7e4311dd-4dd4-41de-a431-b17c5d614850\" xlink:actuate=\"onRequest\" xlink:href=\"psysml:7e4311dd-4dd4-41de-a431-b17c5d614850\" xlink:show=\"new\" xlink:title=\"psysml:7e4311dd-4dd4-41de-a431-b17c5d614850\" xlink:type=\"simple\"><polygon fill=\"#FFFFFF\" points=\"16,6,94,6,101,28.2969,282,28.2969,282,315,16,315,16,6\" style=\"stroke: #000000; stroke-width: 1.5;\"/><line style=\"stroke: #000000; stroke-width: 1.5;\" x1=\"16\" x2=\"101\" y1=\"28.2969\" y2=\"28.2969\"/><text fill=\"#000000\" font-family=\"sans-serif\" font-size=\"14\" font-weight=\"bold\" lengthAdjust=\"spacingAndGlyphs\" textLength=\"72\" x=\"20\" y=\"20.9951\">AliasTest</text></a><!--MD5=[b4997ac47864f28c2f74865a473b2911]\n",
       "class E2--><a href=\"psysml:789c28e5-5e95-405e-84fa-948507b238dc\" target=\"_top\" title=\"psysml:789c28e5-5e95-405e-84fa-948507b238dc\" xlink:actuate=\"onRequest\" xlink:href=\"psysml:789c28e5-5e95-405e-84fa-948507b238dc\" xlink:show=\"new\" xlink:title=\"psysml:789c28e5-5e95-405e-84fa-948507b238dc\" xlink:type=\"simple\"><rect fill=\"#FFFFFF\" height=\"45.9375\" id=\"E2\" rx=\"10\" ry=\"10\" style=\"stroke: #383838; stroke-width: 1.5;\" width=\"71\" x=\"194.5\" y=\"41\"/><text fill=\"#000000\" font-family=\"sans-serif\" font-size=\"12\" font-style=\"italic\" lengthAdjust=\"spacingAndGlyphs\" textLength=\"69\" x=\"195.5\" y=\"57.1387\">«attribute»</text><text fill=\"#000000\" font-family=\"sans-serif\" font-size=\"12\" lengthAdjust=\"spacingAndGlyphs\" textLength=\"8\" x=\"226\" y=\"71.1074\">q</text><line style=\"stroke: #383838; stroke-width: 1.5;\" x1=\"195.5\" x2=\"264.5\" y1=\"78.9375\" y2=\"78.9375\"/></a><!--MD5=[09b614a08d8cba4a07c9adeb5e0fee81]\n",
       "class E3--><a href=\"psysml:00588ae4-2df7-4d57-b3d7-e09c73d2d5b1\" target=\"_top\" title=\"psysml:00588ae4-2df7-4d57-b3d7-e09c73d2d5b1\" xlink:actuate=\"onRequest\" xlink:href=\"psysml:00588ae4-2df7-4d57-b3d7-e09c73d2d5b1\" xlink:show=\"new\" xlink:title=\"psysml:00588ae4-2df7-4d57-b3d7-e09c73d2d5b1\" xlink:type=\"simple\"><rect fill=\"#FFFFFF\" height=\"45.9375\" id=\"E3\" style=\"stroke: #383838; stroke-width: 1.5;\" width=\"66\" x=\"168\" y=\"147\"/><text fill=\"#000000\" font-family=\"sans-serif\" font-size=\"12\" font-style=\"italic\" lengthAdjust=\"spacingAndGlyphs\" textLength=\"64\" x=\"169\" y=\"163.1387\">«part def»</text><text fill=\"#000000\" font-family=\"sans-serif\" font-size=\"12\" lengthAdjust=\"spacingAndGlyphs\" textLength=\"16\" x=\"193\" y=\"177.1074\">P1</text><line style=\"stroke: #383838; stroke-width: 1.5;\" x1=\"169\" x2=\"233\" y1=\"184.9375\" y2=\"184.9375\"/></a><!--MD5=[ebbe1d658d1005bcc118a6aa81145e00]\n",
       "class E4--><a href=\"psysml:236a437d-3673-4742-905a-959f5dd42893\" target=\"_top\" title=\"psysml:236a437d-3673-4742-905a-959f5dd42893\" xlink:actuate=\"onRequest\" xlink:href=\"psysml:236a437d-3673-4742-905a-959f5dd42893\" xlink:show=\"new\" xlink:title=\"psysml:236a437d-3673-4742-905a-959f5dd42893\" xlink:type=\"simple\"><rect fill=\"#FFFFFF\" height=\"45.9375\" id=\"E4\" rx=\"10\" ry=\"10\" style=\"stroke: #383838; stroke-width: 1.5;\" width=\"46\" x=\"178\" y=\"253\"/><text fill=\"#000000\" font-family=\"sans-serif\" font-size=\"12\" font-style=\"italic\" lengthAdjust=\"spacingAndGlyphs\" textLength=\"40\" x=\"181\" y=\"269.1387\">«port»</text><text fill=\"#000000\" font-family=\"sans-serif\" font-size=\"12\" lengthAdjust=\"spacingAndGlyphs\" textLength=\"40\" x=\"181\" y=\"283.1074\">porig1</text><line style=\"stroke: #383838; stroke-width: 1.5;\" x1=\"179\" x2=\"223\" y1=\"290.9375\" y2=\"290.9375\"/></a><!--MD5=[270fce915f116d4de14055a7c1d9a0f3]\n",
       "class E5--><a href=\"psysml:4e54ee4d-012b-498f-93d7-1afb3759d34d\" target=\"_top\" title=\"psysml:4e54ee4d-012b-498f-93d7-1afb3759d34d\" xlink:actuate=\"onRequest\" xlink:href=\"psysml:4e54ee4d-012b-498f-93d7-1afb3759d34d\" xlink:show=\"new\" xlink:title=\"psysml:4e54ee4d-012b-498f-93d7-1afb3759d34d\" xlink:type=\"simple\"><rect fill=\"#FFFFFF\" height=\"45.9375\" id=\"E5\" rx=\"10\" ry=\"10\" style=\"stroke: #383838; stroke-width: 1.5;\" width=\"46\" x=\"113\" y=\"41\"/><text fill=\"#000000\" font-family=\"sans-serif\" font-size=\"12\" font-style=\"italic\" lengthAdjust=\"spacingAndGlyphs\" textLength=\"40\" x=\"116\" y=\"57.1387\">«part»</text><text fill=\"#000000\" font-family=\"sans-serif\" font-size=\"12\" lengthAdjust=\"spacingAndGlyphs\" textLength=\"40\" x=\"116\" y=\"71.1074\">p1: P1</text><line style=\"stroke: #383838; stroke-width: 1.5;\" x1=\"114\" x2=\"158\" y1=\"78.9375\" y2=\"78.9375\"/></a><!--MD5=[60a26617385b1d2d0262a64233df1f8d]\n",
       "class E6--><a href=\"psysml:8965b7df-293c-4ee2-9b2b-715c01154c80\" target=\"_top\" title=\"psysml:8965b7df-293c-4ee2-9b2b-715c01154c80\" xlink:actuate=\"onRequest\" xlink:href=\"psysml:8965b7df-293c-4ee2-9b2b-715c01154c80\" xlink:show=\"new\" xlink:title=\"psysml:8965b7df-293c-4ee2-9b2b-715c01154c80\" xlink:type=\"simple\"><rect fill=\"#FFFFFF\" height=\"45.9375\" id=\"E6\" rx=\"10\" ry=\"10\" style=\"stroke: #383838; stroke-width: 1.5;\" width=\"42\" x=\"91\" y=\"147\"/><text fill=\"#000000\" font-family=\"sans-serif\" font-size=\"12\" font-style=\"italic\" lengthAdjust=\"spacingAndGlyphs\" textLength=\"40\" x=\"92\" y=\"163.1387\">«port»</text><text fill=\"#000000\" font-family=\"sans-serif\" font-size=\"12\" lengthAdjust=\"spacingAndGlyphs\" textLength=\"24\" x=\"100\" y=\"177.1074\">po1</text><line style=\"stroke: #383838; stroke-width: 1.5;\" x1=\"92\" x2=\"132\" y1=\"184.9375\" y2=\"184.9375\"/></a><!--MD5=[2156ba9850f5573cc1fc38a6a4b2f02b]\n",
       "class E7--><a href=\"psysml:77eadb46-ce1a-4e0f-9527-bb06765d2ea7\" target=\"_top\" title=\"psysml:77eadb46-ce1a-4e0f-9527-bb06765d2ea7\" xlink:actuate=\"onRequest\" xlink:href=\"psysml:77eadb46-ce1a-4e0f-9527-bb06765d2ea7\" xlink:show=\"new\" xlink:title=\"psysml:77eadb46-ce1a-4e0f-9527-bb06765d2ea7\" xlink:type=\"simple\"><rect fill=\"#FFFFFF\" height=\"45.9375\" id=\"E7\" rx=\"10\" ry=\"10\" style=\"stroke: #383838; stroke-width: 1.5;\" width=\"46\" x=\"32\" y=\"41\"/><text fill=\"#000000\" font-family=\"sans-serif\" font-size=\"12\" font-style=\"italic\" lengthAdjust=\"spacingAndGlyphs\" textLength=\"40\" x=\"35\" y=\"57.1387\">«part»</text><text fill=\"#000000\" font-family=\"sans-serif\" font-size=\"12\" lengthAdjust=\"spacingAndGlyphs\" textLength=\"40\" x=\"35\" y=\"71.1074\">p2: P1</text><line style=\"stroke: #383838; stroke-width: 1.5;\" x1=\"33\" x2=\"77\" y1=\"78.9375\" y2=\"78.9375\"/></a><!--MD5=[b9389687b975829384b498ac4b7476b2]\n",
       "class E8--><a href=\"psysml:db28622a-fbe8-4c7d-8fe4-9e164802e944\" target=\"_top\" title=\"psysml:db28622a-fbe8-4c7d-8fe4-9e164802e944\" xlink:actuate=\"onRequest\" xlink:href=\"psysml:db28622a-fbe8-4c7d-8fe4-9e164802e944\" xlink:show=\"new\" xlink:title=\"psysml:db28622a-fbe8-4c7d-8fe4-9e164802e944\" xlink:type=\"simple\"><rect fill=\"#FFFFFF\" height=\"45.9375\" id=\"E8\" rx=\"10\" ry=\"10\" style=\"stroke: #383838; stroke-width: 1.5;\" width=\"42\" x=\"63\" y=\"253\"/><text fill=\"#000000\" font-family=\"sans-serif\" font-size=\"12\" font-style=\"italic\" lengthAdjust=\"spacingAndGlyphs\" textLength=\"40\" x=\"64\" y=\"269.1387\">«port»</text><text fill=\"#000000\" font-family=\"sans-serif\" font-size=\"12\" lengthAdjust=\"spacingAndGlyphs\" textLength=\"36\" x=\"66\" y=\"283.1074\">pdest</text><line style=\"stroke: #383838; stroke-width: 1.5;\" x1=\"64\" x2=\"104\" y1=\"290.9375\" y2=\"290.9375\"/></a><!--MD5=[4672eba38e49728da53d11aeb285b987]\n",
       "reverse link E3 to E4--><a href=\"psysml:10297d07-57fa-4f9d-a873-bd76f542a35c\" target=\"_top\" title=\"psysml:10297d07-57fa-4f9d-a873-bd76f542a35c\" xlink:actuate=\"onRequest\" xlink:href=\"psysml:10297d07-57fa-4f9d-a873-bd76f542a35c\" xlink:show=\"new\" xlink:title=\"psysml:10297d07-57fa-4f9d-a873-bd76f542a35c\" xlink:type=\"simple\"><path d=\"M193.33,206 C193.33,206 193.33,252.68 193.33,252.68 \" fill=\"none\" id=\"E3&lt;-E4\" style=\"stroke: #383838; stroke-width: 1.0;\"/><polygon fill=\"#FFFFFF\" points=\"193.33,193,189.33,199,193.33,205,197.33,199,193.33,193\" style=\"stroke: #383838; stroke-width: 1.0;\"/><text fill=\"#000000\" font-family=\"sans-serif\" font-size=\"13\" lengthAdjust=\"spacingAndGlyphs\" textLength=\"8\" x=\"182.3396\" y=\"241.8743\">1</text></a><!--MD5=[4672eba38e49728da53d11aeb285b987]\n",
       "reverse link E3 to E4--><a href=\"psysml:4c29fec0-8309-450b-9bf3-4a2b28b77917\" target=\"_top\" title=\"psysml:4c29fec0-8309-450b-9bf3-4a2b28b77917\" xlink:actuate=\"onRequest\" xlink:href=\"psysml:4c29fec0-8309-450b-9bf3-4a2b28b77917\" xlink:show=\"new\" xlink:title=\"psysml:4c29fec0-8309-450b-9bf3-4a2b28b77917\" xlink:type=\"simple\"><path d=\"M208.67,208 C208.67,208 208.67,252.68 208.67,252.68 \" fill=\"none\" id=\"E3&lt;-E4-1\" style=\"stroke: #383838; stroke-width: 1.0; stroke-dasharray: 7.0,7.0;\"/><ellipse cx=\"208.67\" cy=\"201\" fill=\"#FFFFFF\" rx=\"8\" ry=\"8\" style=\"stroke: #383838; stroke-width: 1.0;\"/><line style=\"stroke: #383838; stroke-width: 1.0;\" x1=\"208.67\" x2=\"208.67\" y1=\"209\" y2=\"193\"/><line style=\"stroke: #383838; stroke-width: 1.0;\" x1=\"200.67\" x2=\"216.67\" y1=\"201\" y2=\"201\"/><text fill=\"#000000\" font-family=\"sans-serif\" font-size=\"13\" lengthAdjust=\"spacingAndGlyphs\" textLength=\"8\" x=\"201.6104\" y=\"241.8743\">1</text></a><!--MD5=[e9be52314489bd878ff4c7144b63c9e1]\n",
       "link E5 to E3--><a href=\"psysml:93a52ea3-a140-4bd2-b924-ec5ad15b1b7e\" target=\"_top\" title=\"psysml:93a52ea3-a140-4bd2-b924-ec5ad15b1b7e\" xlink:actuate=\"onRequest\" xlink:href=\"psysml:93a52ea3-a140-4bd2-b924-ec5ad15b1b7e\" xlink:show=\"new\" xlink:title=\"psysml:93a52ea3-a140-4bd2-b924-ec5ad15b1b7e\" xlink:type=\"simple\"><path d=\"M146,87 C146,118.18 146,170 146,170 C146,170 148.17,170 148.17,170 \" fill=\"none\" id=\"E5-&gt;E3\" style=\"stroke: #383838; stroke-width: 1.0;\"/><polygon fill=\"#FFFFFF\" points=\"167.74,170,148.74,177,148.74,163,167.74,170\" style=\"stroke: #383838; stroke-width: 1.0;\"/><ellipse cx=\"143.04\" cy=\"175\" fill=\"#383838\" rx=\"2\" ry=\"2\" style=\"stroke: #383838; stroke-width: 1.0;\"/><ellipse cx=\"143.04\" cy=\"165\" fill=\"#383838\" rx=\"2\" ry=\"2\" style=\"stroke: #383838; stroke-width: 1.0;\"/></a><!--MD5=[85d356282659285ab4b2cfe2f634dd2b]\n",
       "reverse link E5 to E6--><a href=\"psysml:cdcbbeec-90be-4e1d-8c60-d92c8a6a7077\" target=\"_top\" title=\"psysml:cdcbbeec-90be-4e1d-8c60-d92c8a6a7077\" xlink:actuate=\"onRequest\" xlink:href=\"psysml:cdcbbeec-90be-4e1d-8c60-d92c8a6a7077\" xlink:show=\"new\" xlink:title=\"psysml:cdcbbeec-90be-4e1d-8c60-d92c8a6a7077\" xlink:type=\"simple\"><path d=\"M123,100 C123,100 123,146.68 123,146.68 \" fill=\"none\" id=\"E5&lt;-E6\" style=\"stroke: #383838; stroke-width: 1.0;\"/><polygon fill=\"#FFFFFF\" points=\"123,87,119,93,123,99,127,93,123,87\" style=\"stroke: #383838; stroke-width: 1.0;\"/><text fill=\"#000000\" font-family=\"sans-serif\" font-size=\"13\" lengthAdjust=\"spacingAndGlyphs\" textLength=\"8\" x=\"116.7938\" y=\"135.8743\">1</text></a><!--MD5=[f667431f98296947986a1a7595a31603]\n",
       "link E6 to E4--><a href=\"psysml:b5614b00-f88c-4f87-85f7-609ca7f17bae\" target=\"_top\" title=\"psysml:b5614b00-f88c-4f87-85f7-609ca7f17bae\" xlink:actuate=\"onRequest\" xlink:href=\"psysml:b5614b00-f88c-4f87-85f7-609ca7f17bae\" xlink:show=\"new\" xlink:title=\"psysml:b5614b00-f88c-4f87-85f7-609ca7f17bae\" xlink:type=\"simple\"><path d=\"M119,193 C119,224.18 119,276 119,276 C119,276 157.72,276 157.72,276 \" fill=\"none\" id=\"E6-&gt;E4\" style=\"stroke: #383838; stroke-width: 1.0;\"/><polygon fill=\"#FFFFFF\" points=\"177.72,276,158.72,283,158.72,269,177.72,276\" style=\"stroke: #383838; stroke-width: 1.0;\"/><line style=\"stroke: #383838; stroke-width: 2.0;\" x1=\"154.92\" x2=\"154.92\" y1=\"283\" y2=\"269\"/></a><!--MD5=[14ccda38c055a5c0da953d572bc50960]\n",
       "link E7 to E3--><a href=\"psysml:87c48ed5-bc50-48bb-899d-f807bfcdc26e\" target=\"_top\" title=\"psysml:87c48ed5-bc50-48bb-899d-f807bfcdc26e\" xlink:actuate=\"onRequest\" xlink:href=\"psysml:87c48ed5-bc50-48bb-899d-f807bfcdc26e\" xlink:show=\"new\" xlink:title=\"psysml:87c48ed5-bc50-48bb-899d-f807bfcdc26e\" xlink:type=\"simple\"><path d=\"M74.25,87.09 C74.25,101.37 74.25,117 74.25,117 C74.25,117 181.25,117 181.25,117 C181.25,117 181.25,126.91 181.25,126.91 \" fill=\"none\" id=\"E7-&gt;E3\" style=\"stroke: #383838; stroke-width: 1.0;\"/><polygon fill=\"#FFFFFF\" points=\"181.25,146.91,174.25,127.91,188.25,127.91,181.25,146.91\" style=\"stroke: #383838; stroke-width: 1.0;\"/><ellipse cx=\"176.25\" cy=\"122.21\" fill=\"#383838\" rx=\"2\" ry=\"2\" style=\"stroke: #383838; stroke-width: 1.0;\"/><ellipse cx=\"186.25\" cy=\"122.21\" fill=\"#383838\" rx=\"2\" ry=\"2\" style=\"stroke: #383838; stroke-width: 1.0;\"/></a><!--MD5=[dc164f5e8a733ab456ef1add180e9e34]\n",
       "reverse link E7 to E8--><a href=\"psysml:5ff6c459-66f7-4338-82bb-16aa2b22f6b4\" target=\"_top\" title=\"psysml:5ff6c459-66f7-4338-82bb-16aa2b22f6b4\" xlink:actuate=\"onRequest\" xlink:href=\"psysml:5ff6c459-66f7-4338-82bb-16aa2b22f6b4\" xlink:show=\"new\" xlink:title=\"psysml:5ff6c459-66f7-4338-82bb-16aa2b22f6b4\" xlink:type=\"simple\"><path d=\"M66.75,100.09 C66.75,100.09 66.75,252.94 66.75,252.94 \" fill=\"none\" id=\"E7&lt;-E8\" style=\"stroke: #383838; stroke-width: 1.0;\"/><polygon fill=\"#FFFFFF\" points=\"66.75,87.09,62.75,93.09,66.75,99.09,70.75,93.09,66.75,87.09\" style=\"stroke: #383838; stroke-width: 1.0;\"/><text fill=\"#000000\" font-family=\"sans-serif\" font-size=\"13\" lengthAdjust=\"spacingAndGlyphs\" textLength=\"8\" x=\"53.0391\" y=\"241.8201\">1</text></a><!--MD5=[dc164f5e8a733ab456ef1add180e9e34]\n",
       "reverse link E7 to E8--><a href=\"psysml:4eb1c616-a5a7-47d5-8985-e84491dc2120\" target=\"_top\" title=\"psysml:4eb1c616-a5a7-47d5-8985-e84491dc2120\" xlink:actuate=\"onRequest\" xlink:href=\"psysml:4eb1c616-a5a7-47d5-8985-e84491dc2120\" xlink:show=\"new\" xlink:title=\"psysml:4eb1c616-a5a7-47d5-8985-e84491dc2120\" xlink:type=\"simple\"><path d=\"M70.5,102.09 C70.5,102.09 70.5,252.94 70.5,252.94 \" fill=\"none\" id=\"E7&lt;-E8-1\" style=\"stroke: #383838; stroke-width: 1.0; stroke-dasharray: 7.0,7.0;\"/><ellipse cx=\"70.5\" cy=\"95.09\" fill=\"#FFFFFF\" rx=\"8\" ry=\"8\" style=\"stroke: #383838; stroke-width: 1.0;\"/><line style=\"stroke: #383838; stroke-width: 1.0;\" x1=\"70.5\" x2=\"70.5\" y1=\"103.09\" y2=\"87.09\"/><line style=\"stroke: #383838; stroke-width: 1.0;\" x1=\"62.5\" x2=\"78.5\" y1=\"95.09\" y2=\"95.09\"/><text fill=\"#000000\" font-family=\"sans-serif\" font-size=\"13\" lengthAdjust=\"spacingAndGlyphs\" textLength=\"8\" x=\"67.9469\" y=\"241.8201\">1</text></a><!--MD5=[0a839d0f80c2d72d4b9b307f046d0de8]\n",
       "link E6 to E8--><a href=\"psysml:af89f277-c22a-4acb-b9c9-7f04d6a8a86b\" target=\"_top\" title=\"psysml:af89f277-c22a-4acb-b9c9-7f04d6a8a86b\" xlink:actuate=\"onRequest\" xlink:href=\"psysml:af89f277-c22a-4acb-b9c9-7f04d6a8a86b\" xlink:show=\"new\" xlink:title=\"psysml:af89f277-c22a-4acb-b9c9-7f04d6a8a86b\" xlink:type=\"simple\"><path d=\"M95.67,193 C95.67,210.66 95.67,234.94 95.67,252.68 \" fill=\"none\" id=\"E6-E8\" style=\"stroke: #383838; stroke-width: 3.0;\"/><text fill=\"#000000\" font-family=\"sans-serif\" font-size=\"13\" lengthAdjust=\"spacingAndGlyphs\" textLength=\"7\" x=\"90.7636\" y=\"241.8743\">*</text></a><!--MD5=[0a839d0f80c2d72d4b9b307f046d0de8]\n",
       "link E6 to E8--><a href=\"psysml:6818c790-7ee4-49fa-b866-28c88d0d2e1e\" target=\"_top\" title=\"psysml:6818c790-7ee4-49fa-b866-28c88d0d2e1e\" xlink:actuate=\"onRequest\" xlink:href=\"psysml:6818c790-7ee4-49fa-b866-28c88d0d2e1e\" xlink:show=\"new\" xlink:title=\"psysml:6818c790-7ee4-49fa-b866-28c88d0d2e1e\" xlink:type=\"simple\"><path d=\"M100.33,193 C100.33,210.66 100.33,234.94 100.33,252.68 \" fill=\"none\" id=\"E6-E8-1\" style=\"stroke: #383838; stroke-width: 3.0;\"/><text fill=\"#000000\" font-family=\"sans-serif\" font-size=\"13\" lengthAdjust=\"spacingAndGlyphs\" textLength=\"7\" x=\"105.4114\" y=\"241.8743\">*</text></a><!--MD5=[bd4899ad5bb4faf4e678a4095dee8653]\n",
       "@startuml\r\n",
       "skinparam linetype ortho\r\n",
       "skinparam monochrome true\r\n",
       "skinparam classbackgroundcolor white\r\n",
       "skinparam shadowing false\r\n",
       "skinparam wrapWidth 300\r\n",
       "hide circle\r\n",
       "\r\n",
       "package \"AliasTest\" as E1  [[psysml:7e4311dd-4dd4-41de-a431-b17c5d614850 ]]  {\r\n",
       "comp usage \"q\" as E2  <<(T,blue) attribute>> [[psysml:789c28e5-5e95-405e-84fa-948507b238dc ]] {\r\n",
       "}\r\n",
       "comp def \"P1\" as E3  <<(T,blue) part def>> [[psysml:00588ae4-2df7-4d57-b3d7-e09c73d2d5b1 ]] {\r\n",
       "}\r\n",
       "comp usage \"porig1\" as E4  <<(T,blue) port>> [[psysml:236a437d-3673-4742-905a-959f5dd42893 ]] {\r\n",
       "}\r\n",
       "comp usage \"p1: P1\" as E5  <<(T,blue) part>> [[psysml:4e54ee4d-012b-498f-93d7-1afb3759d34d ]] {\r\n",
       "}\r\n",
       "comp usage \"po1\" as E6  <<(T,blue) port>> [[psysml:8965b7df-293c-4ee2-9b2b-715c01154c80 ]] {\r\n",
       "}\r\n",
       "comp usage \"p2: P1\" as E7  <<(T,blue) part>> [[psysml:77eadb46-ce1a-4e0f-9527-bb06765d2ea7 ]] {\r\n",
       "}\r\n",
       "comp usage \"pdest\" as E8  <<(T,blue) port>> [[psysml:db28622a-fbe8-4c7d-8fe4-9e164802e944 ]] {\r\n",
       "}\r\n",
       "E3 o- - \"1\"E4 [[psysml:10297d07-57fa-4f9d-a873-bd76f542a35c ]] \r\n",
       "E3 +.. \"1\"E4 [[psysml:4c29fec0-8309-450b-9bf3-4a2b28b77917 ]] \r\n",
       "E5 - -:|> E3 [[psysml:93a52ea3-a140-4bd2-b924-ec5ad15b1b7e ]] \r\n",
       "E5 o- - \"1\"E6 [[psysml:cdcbbeec-90be-4e1d-8c60-d92c8a6a7077 ]] \r\n",
       "E6 - -||> E4 [[psysml:b5614b00-f88c-4f87-85f7-609ca7f17bae ]] \r\n",
       "E7 - -:|> E3 [[psysml:87c48ed5-bc50-48bb-899d-f807bfcdc26e ]] \r\n",
       "E7 o- - \"1\"E8 [[psysml:5ff6c459-66f7-4338-82bb-16aa2b22f6b4 ]] \r\n",
       "E7 +.. \"1\"E8 [[psysml:4eb1c616-a5a7-47d5-8985-e84491dc2120 ]] \r\n",
       "E6 -[thickness=3]- \"*\"E8 [[psysml:af89f277-c22a-4acb-b9c9-7f04d6a8a86b ]] \r\n",
       "E6 -[thickness=3]- \"*\"E8 [[psysml:6818c790-7ee4-49fa-b866-28c88d0d2e1e ]] \r\n",
       "}\r\n",
       "@enduml\r\n",
       "\n",
       "PlantUML version 1.2020.13(Sat Jun 13 12:26:38 UTC 2020)\n",
       "(EPL source distribution)\n",
       "Java Runtime: OpenJDK Runtime Environment\n",
       "JVM: OpenJDK 64-Bit Server VM\n",
       "Default Encoding: UTF-8\n",
       "Language: en\n",
       "Country: null\n",
       "--></g></svg>"
      ]
     },
     "execution_count": 57,
     "metadata": {},
     "output_type": "execute_result"
    }
   ],
   "source": [
    "%viz --style=\"ORTHOLINE\" --view=\"MIXED\" \"AliasTest\""
   ]
  }
 ],
 "metadata": {
  "kernelspec": {
   "display_name": "SysML",
   "language": "sysml",
   "name": "sysml"
  },
  "language_info": {
   "codemirror_mode": "sysml",
   "file_extension": ".sysml",
   "mimetype": "text/x-sysml",
   "name": "SysML",
   "pygments_lexer": "java",
   "version": "1.0.0"
  }
 },
 "nbformat": 4,
 "nbformat_minor": 5
}
