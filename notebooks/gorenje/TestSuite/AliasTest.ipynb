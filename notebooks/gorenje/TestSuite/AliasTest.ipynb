{
 "cells": [
  {
   "cell_type": "markdown",
   "id": "902e64d4",
   "metadata": {},
   "source": [
    "# SysML v2 Test Suite\n",
    "\n",
    "This can notebook can be cleared using menu `Edit --> Clear All Outputs` and then all cells can be\n",
    "run using menu `Run --> Run All Cells`.\n",
    "\n",
    "**WARNING**: This file is generated, all modifications here will be ignored.\n"
   ]
  },
  {
   "cell_type": "markdown",
   "id": "ccb2dc09",
   "metadata": {},
   "source": [
    "## File: ../../sysml/src/examples/Simple Tests/AliasTest.sysml"
   ]
  },
  {
   "cell_type": "code",
   "execution_count": 1,
   "id": "551c6eb1",
   "metadata": {
    "execution": {
     "iopub.execute_input": "2021-09-27T07:19:06.840569Z",
     "iopub.status.busy": "2021-09-27T07:19:06.839326Z",
     "iopub.status.idle": "2021-09-27T07:19:07.154628Z",
     "shell.execute_reply": "2021-09-27T07:19:07.154307Z"
    }
   },
   "outputs": [
    {
     "data": {
      "text/plain": [
       "Package AliasTest (9415370b-8f4c-469c-98f8-cab423f02bd7)\n"
      ]
     },
     "execution_count": 1,
     "metadata": {},
     "output_type": "execute_result"
    }
   ],
   "source": [
    "package AliasTest {\n",
    "\timport Quantities::quantities; // import of an alias\t\n",
    "\tattribute q :> quantities;\n",
    "\t\n",
    "    part def P1 {\n",
    "        port porig1;\n",
    "        alias po1 for porig1;\n",
    "    }\n",
    "\n",
    "    part p1 : P1 {\n",
    "        port po1 :>> po1;\n",
    "    }\n",
    "\n",
    "    part p2 : P1 {\n",
    "        port pdest;\n",
    "        alias pd1 for pdest;\n",
    "    }\n",
    "\n",
    "\n",
    "    connect p1.po1 to p2.pdest;\n",
    "\tconnect p1.po1 to p2.pd1;\n",
    "}"
   ]
  },
  {
   "cell_type": "code",
   "execution_count": 2,
   "id": "4760a400",
   "metadata": {
    "execution": {
     "iopub.execute_input": "2021-09-27T07:19:07.205859Z",
     "iopub.status.busy": "2021-09-27T07:19:07.205619Z",
     "iopub.status.idle": "2021-09-27T07:19:07.731828Z",
     "shell.execute_reply": "2021-09-27T07:19:07.731294Z"
    }
   },
   "outputs": [
    {
     "data": {
      "image/svg+xml": [
       "<?xml version=\"1.0\" encoding=\"UTF-8\" standalone=\"no\"?><svg xmlns=\"http://www.w3.org/2000/svg\" xmlns:xlink=\"http://www.w3.org/1999/xlink\" contentScriptType=\"application/ecmascript\" contentStyleType=\"text/css\" height=\"399px\" preserveAspectRatio=\"none\" style=\"width:350px;height:399px;\" version=\"1.1\" viewBox=\"0 0 350 399\" width=\"350px\" zoomAndPan=\"magnify\"><defs/><g><!--MD5=[fbc87193dbaf4d95561dea2c320d4a47]\n",
       "cluster E1--><a href=\"psysml:abede473-ce86-4cf2-9b0f-bcad92dda7df\" target=\"_top\" title=\"psysml:abede473-ce86-4cf2-9b0f-bcad92dda7df\" xlink:actuate=\"onRequest\" xlink:href=\"psysml:abede473-ce86-4cf2-9b0f-bcad92dda7df\" xlink:show=\"new\" xlink:title=\"psysml:abede473-ce86-4cf2-9b0f-bcad92dda7df\" xlink:type=\"simple\"><polygon fill=\"#FFFFFF\" points=\"16,6,84,6,91,28.2969,328,28.2969,328,387,16,387,16,6\" style=\"stroke: #000000; stroke-width: 1.5;\"/><line style=\"stroke: #000000; stroke-width: 1.5;\" x1=\"16\" x2=\"91\" y1=\"28.2969\" y2=\"28.2969\"/><text fill=\"#000000\" font-family=\"sans-serif\" font-size=\"14\" font-weight=\"bold\" lengthAdjust=\"spacingAndGlyphs\" textLength=\"62\" x=\"20\" y=\"20.9951\">AliasTest</text></a><!--MD5=[b4997ac47864f28c2f74865a473b2911]\n",
       "class E2--><a href=\"psysml:84563fde-fc3c-4caa-a0d2-03a4409edda3\" target=\"_top\" title=\"psysml:84563fde-fc3c-4caa-a0d2-03a4409edda3\" xlink:actuate=\"onRequest\" xlink:href=\"psysml:84563fde-fc3c-4caa-a0d2-03a4409edda3\" xlink:show=\"new\" xlink:title=\"psysml:84563fde-fc3c-4caa-a0d2-03a4409edda3\" xlink:type=\"simple\"><rect fill=\"#FFFFFF\" height=\"45.9375\" id=\"E2\" rx=\"10\" ry=\"10\" style=\"stroke: #383838; stroke-width: 1.5;\" width=\"71\" x=\"240.5\" y=\"62\"/><text fill=\"#000000\" font-family=\"sans-serif\" font-size=\"12\" font-style=\"italic\" lengthAdjust=\"spacingAndGlyphs\" textLength=\"69\" x=\"241.5\" y=\"78.1387\">«attribute»</text><text fill=\"#000000\" font-family=\"sans-serif\" font-size=\"12\" lengthAdjust=\"spacingAndGlyphs\" textLength=\"8\" x=\"272\" y=\"92.1074\">q</text><line style=\"stroke: #383838; stroke-width: 1.5;\" x1=\"241.5\" x2=\"310.5\" y1=\"99.9375\" y2=\"99.9375\"/></a><!--MD5=[09b614a08d8cba4a07c9adeb5e0fee81]\n",
       "class E3--><a href=\"psysml:f240402e-e520-4bd4-a2fa-a40388aadc9d\" target=\"_top\" title=\"psysml:f240402e-e520-4bd4-a2fa-a40388aadc9d\" xlink:actuate=\"onRequest\" xlink:href=\"psysml:f240402e-e520-4bd4-a2fa-a40388aadc9d\" xlink:show=\"new\" xlink:title=\"psysml:f240402e-e520-4bd4-a2fa-a40388aadc9d\" xlink:type=\"simple\"><rect fill=\"#FFFFFF\" height=\"75.5469\" id=\"E3\" style=\"stroke: #383838; stroke-width: 1.5;\" width=\"66\" x=\"118\" y=\"189\"/><text fill=\"#000000\" font-family=\"sans-serif\" font-size=\"12\" font-style=\"italic\" lengthAdjust=\"spacingAndGlyphs\" textLength=\"64\" x=\"119\" y=\"205.1387\">«part def»</text><text fill=\"#000000\" font-family=\"sans-serif\" font-size=\"12\" lengthAdjust=\"spacingAndGlyphs\" textLength=\"16\" x=\"143\" y=\"219.1074\">P1</text><line style=\"stroke: #383838; stroke-width: 1.5;\" x1=\"119\" x2=\"183\" y1=\"226.9375\" y2=\"226.9375\"/><text fill=\"#000000\" font-family=\"sans-serif\" font-size=\"11\" lengthAdjust=\"spacingAndGlyphs\" textLength=\"36\" x=\"124\" y=\"257.9526\">porig1</text><line style=\"stroke: #383838; stroke-width: 1.0;\" x1=\"119\" x2=\"136\" y1=\"241.3398\" y2=\"241.3398\"/><text fill=\"#000000\" font-family=\"sans-serif\" font-size=\"11\" lengthAdjust=\"spacingAndGlyphs\" textLength=\"30\" x=\"136\" y=\"244.6479\">ports</text><line style=\"stroke: #383838; stroke-width: 1.0;\" x1=\"166\" x2=\"183\" y1=\"241.3398\" y2=\"241.3398\"/></a><!--MD5=[ebbe1d658d1005bcc118a6aa81145e00]\n",
       "class E4--><a href=\"psysml:fb61bd91-52ec-4d42-be8a-ef485ce794d8\" target=\"_top\" title=\"psysml:fb61bd91-52ec-4d42-be8a-ef485ce794d8\" xlink:actuate=\"onRequest\" xlink:href=\"psysml:fb61bd91-52ec-4d42-be8a-ef485ce794d8\" xlink:show=\"new\" xlink:title=\"psysml:fb61bd91-52ec-4d42-be8a-ef485ce794d8\" xlink:type=\"simple\"><rect fill=\"#FFFFFF\" height=\"45.9375\" id=\"E4\" rx=\"10\" ry=\"10\" style=\"stroke: #383838; stroke-width: 1.5;\" width=\"46\" x=\"128\" y=\"325\"/><text fill=\"#000000\" font-family=\"sans-serif\" font-size=\"12\" font-style=\"italic\" lengthAdjust=\"spacingAndGlyphs\" textLength=\"40\" x=\"131\" y=\"341.1387\">«port»</text><text fill=\"#000000\" font-family=\"sans-serif\" font-size=\"12\" lengthAdjust=\"spacingAndGlyphs\" textLength=\"40\" x=\"131\" y=\"355.1074\">porig1</text><line style=\"stroke: #383838; stroke-width: 1.5;\" x1=\"129\" x2=\"173\" y1=\"362.9375\" y2=\"362.9375\"/></a><!--MD5=[270fce915f116d4de14055a7c1d9a0f3]\n",
       "class E5--><a href=\"psysml:66a2f39c-c11d-47e1-a04e-46a9b54c38c0\" target=\"_top\" title=\"psysml:66a2f39c-c11d-47e1-a04e-46a9b54c38c0\" xlink:actuate=\"onRequest\" xlink:href=\"psysml:66a2f39c-c11d-47e1-a04e-46a9b54c38c0\" xlink:show=\"new\" xlink:title=\"psysml:66a2f39c-c11d-47e1-a04e-46a9b54c38c0\" xlink:type=\"simple\"><rect fill=\"#FFFFFF\" height=\"88.3516\" id=\"E5\" rx=\"10\" ry=\"10\" style=\"stroke: #383838; stroke-width: 1.5;\" width=\"92\" x=\"113\" y=\"41\"/><text fill=\"#000000\" font-family=\"sans-serif\" font-size=\"12\" font-style=\"italic\" lengthAdjust=\"spacingAndGlyphs\" textLength=\"40\" x=\"139\" y=\"57.1387\">«part»</text><text fill=\"#000000\" font-family=\"sans-serif\" font-size=\"12\" lengthAdjust=\"spacingAndGlyphs\" textLength=\"40\" x=\"139\" y=\"71.1074\">p1: P1</text><line style=\"stroke: #383838; stroke-width: 1.5;\" x1=\"114\" x2=\"204\" y1=\"78.9375\" y2=\"78.9375\"/><text fill=\"#000000\" font-family=\"sans-serif\" font-size=\"11\" lengthAdjust=\"spacingAndGlyphs\" textLength=\"30\" x=\"119\" y=\"109.9526\">^po1</text><text fill=\"#000000\" font-family=\"sans-serif\" font-size=\"11\" font-style=\"italic\" lengthAdjust=\"spacingAndGlyphs\" textLength=\"80\" x=\"119\" y=\"122.7573\">:&gt;&gt;P1::porig1</text><line style=\"stroke: #383838; stroke-width: 1.0;\" x1=\"114\" x2=\"144\" y1=\"93.3398\" y2=\"93.3398\"/><text fill=\"#000000\" font-family=\"sans-serif\" font-size=\"11\" lengthAdjust=\"spacingAndGlyphs\" textLength=\"30\" x=\"144\" y=\"96.6479\">ports</text><line style=\"stroke: #383838; stroke-width: 1.0;\" x1=\"174\" x2=\"204\" y1=\"93.3398\" y2=\"93.3398\"/></a><!--MD5=[60a26617385b1d2d0262a64233df1f8d]\n",
       "class E6--><a href=\"psysml:d750b59a-5fb4-49de-a141-6edbceed9fe9\" target=\"_top\" title=\"psysml:d750b59a-5fb4-49de-a141-6edbceed9fe9\" xlink:actuate=\"onRequest\" xlink:href=\"psysml:d750b59a-5fb4-49de-a141-6edbceed9fe9\" xlink:show=\"new\" xlink:title=\"psysml:d750b59a-5fb4-49de-a141-6edbceed9fe9\" xlink:type=\"simple\"><rect fill=\"#FFFFFF\" height=\"75.5469\" id=\"E6\" rx=\"10\" ry=\"10\" style=\"stroke: #383838; stroke-width: 1.5;\" width=\"46\" x=\"32\" y=\"47\"/><text fill=\"#000000\" font-family=\"sans-serif\" font-size=\"12\" font-style=\"italic\" lengthAdjust=\"spacingAndGlyphs\" textLength=\"40\" x=\"35\" y=\"63.1387\">«part»</text><text fill=\"#000000\" font-family=\"sans-serif\" font-size=\"12\" lengthAdjust=\"spacingAndGlyphs\" textLength=\"40\" x=\"35\" y=\"77.1074\">p2: P1</text><line style=\"stroke: #383838; stroke-width: 1.5;\" x1=\"33\" x2=\"77\" y1=\"84.9375\" y2=\"84.9375\"/><text fill=\"#000000\" font-family=\"sans-serif\" font-size=\"11\" lengthAdjust=\"spacingAndGlyphs\" textLength=\"32\" x=\"38\" y=\"115.9526\">pdest</text><line style=\"stroke: #383838; stroke-width: 1.0;\" x1=\"33\" x2=\"40\" y1=\"99.3398\" y2=\"99.3398\"/><text fill=\"#000000\" font-family=\"sans-serif\" font-size=\"11\" lengthAdjust=\"spacingAndGlyphs\" textLength=\"30\" x=\"40\" y=\"102.6479\">ports</text><line style=\"stroke: #383838; stroke-width: 1.0;\" x1=\"70\" x2=\"77\" y1=\"99.3398\" y2=\"99.3398\"/></a><!--MD5=[2156ba9850f5573cc1fc38a6a4b2f02b]\n",
       "class E7--><a href=\"psysml:1ab4a2c7-e640-4092-b309-d8474ba4cc31\" target=\"_top\" title=\"psysml:1ab4a2c7-e640-4092-b309-d8474ba4cc31\" xlink:actuate=\"onRequest\" xlink:href=\"psysml:1ab4a2c7-e640-4092-b309-d8474ba4cc31\" xlink:show=\"new\" xlink:title=\"psysml:1ab4a2c7-e640-4092-b309-d8474ba4cc31\" xlink:type=\"simple\"><rect fill=\"#FFFFFF\" height=\"45.9375\" id=\"E7\" rx=\"10\" ry=\"10\" style=\"stroke: #383838; stroke-width: 1.5;\" width=\"42\" x=\"34\" y=\"204\"/><text fill=\"#000000\" font-family=\"sans-serif\" font-size=\"12\" font-style=\"italic\" lengthAdjust=\"spacingAndGlyphs\" textLength=\"40\" x=\"35\" y=\"220.1387\">«port»</text><text fill=\"#000000\" font-family=\"sans-serif\" font-size=\"12\" lengthAdjust=\"spacingAndGlyphs\" textLength=\"36\" x=\"37\" y=\"234.1074\">pdest</text><line style=\"stroke: #383838; stroke-width: 1.5;\" x1=\"35\" x2=\"75\" y1=\"241.9375\" y2=\"241.9375\"/></a><!--MD5=[4672eba38e49728da53d11aeb285b987]\n",
       "reverse link E3 to E4--><a href=\"psysml:b116cd08-9727-4fd8-b1d3-1b9f6deb041c\" target=\"_top\" title=\"psysml:b116cd08-9727-4fd8-b1d3-1b9f6deb041c\" xlink:actuate=\"onRequest\" xlink:href=\"psysml:b116cd08-9727-4fd8-b1d3-1b9f6deb041c\" xlink:show=\"new\" xlink:title=\"psysml:b116cd08-9727-4fd8-b1d3-1b9f6deb041c\" xlink:type=\"simple\"><path d=\"M151,280.29 C151,295.98 151,312.34 151,324.93 \" fill=\"none\" id=\"E3&lt;-E4\" style=\"stroke: #383838; stroke-width: 1.0; stroke-dasharray: 7.0,7.0;\"/><ellipse cx=\"151\" cy=\"273\" fill=\"#FFFFFF\" rx=\"8\" ry=\"8\" style=\"stroke: #383838; stroke-width: 1.0;\"/><line style=\"stroke: #383838; stroke-width: 1.0;\" x1=\"151\" x2=\"151\" y1=\"281\" y2=\"265\"/><line style=\"stroke: #383838; stroke-width: 1.0;\" x1=\"143\" x2=\"159\" y1=\"273\" y2=\"273\"/><text fill=\"#000000\" font-family=\"sans-serif\" font-size=\"13\" lengthAdjust=\"spacingAndGlyphs\" textLength=\"8\" x=\"141.925\" y=\"313.8075\">1</text></a><!--MD5=[e9be52314489bd878ff4c7144b63c9e1]\n",
       "link E5 to E3--><a href=\"psysml:b60c9595-85bf-4c72-aa43-c7c5a3162c28\" target=\"_top\" title=\"psysml:b60c9595-85bf-4c72-aa43-c7c5a3162c28\" xlink:actuate=\"onRequest\" xlink:href=\"psysml:b60c9595-85bf-4c72-aa43-c7c5a3162c28\" xlink:show=\"new\" xlink:title=\"psysml:b60c9595-85bf-4c72-aa43-c7c5a3162c28\" xlink:type=\"simple\"><path d=\"M156.53,129.15 C155.82,141.7 155.02,155.6 154.26,168.87 \" fill=\"none\" id=\"E5-&gt;E3\" style=\"stroke: #383838; stroke-width: 1.0;\"/><polygon fill=\"#FFFFFF\" points=\"153.12,188.9,147.2169,169.5311,161.1941,170.331,153.12,188.9\" style=\"stroke: #383838; stroke-width: 1.0;\"/><ellipse cx=\"149.5393\" cy=\"163.9547\" fill=\"#383838\" rx=\"2\" ry=\"2\" style=\"stroke: #383838; stroke-width: 1.0;\"/><ellipse cx=\"159.523\" cy=\"164.526\" fill=\"#383838\" rx=\"2\" ry=\"2\" style=\"stroke: #383838; stroke-width: 1.0;\"/></a><!--MD5=[a717450b82c80b9240a525fa862496af]\n",
       "link E6 to E3--><a href=\"psysml:8fc3f931-75e6-473d-9c07-27a38ec18c6d\" target=\"_top\" title=\"psysml:8fc3f931-75e6-473d-9c07-27a38ec18c6d\" xlink:actuate=\"onRequest\" xlink:href=\"psysml:8fc3f931-75e6-473d-9c07-27a38ec18c6d\" xlink:show=\"new\" xlink:title=\"psysml:8fc3f931-75e6-473d-9c07-27a38ec18c6d\" xlink:type=\"simple\"><path d=\"M78.24,119.89 C89.03,135.63 102.13,154.73 114.21,172.35 \" fill=\"none\" id=\"E6-&gt;E3\" style=\"stroke: #383838; stroke-width: 1.0;\"/><polygon fill=\"#FFFFFF\" points=\"125.62,188.98,109.1019,177.2689,120.6481,169.3515,125.62,188.98\" style=\"stroke: #383838; stroke-width: 1.0;\"/><ellipse cx=\"107.5278\" cy=\"171.4368\" fill=\"#383838\" rx=\"2\" ry=\"2\" style=\"stroke: #383838; stroke-width: 1.0;\"/><ellipse cx=\"115.7751\" cy=\"165.7816\" fill=\"#383838\" rx=\"2\" ry=\"2\" style=\"stroke: #383838; stroke-width: 1.0;\"/></a><!--MD5=[3f50a3473f1dfb74d3f76443e03635af]\n",
       "reverse link E6 to E7--><a href=\"psysml:346ab8ae-1d2f-462f-a94e-fae0b61189bf\" target=\"_top\" title=\"psysml:346ab8ae-1d2f-462f-a94e-fae0b61189bf\" xlink:actuate=\"onRequest\" xlink:href=\"psysml:346ab8ae-1d2f-462f-a94e-fae0b61189bf\" xlink:show=\"new\" xlink:title=\"psysml:346ab8ae-1d2f-462f-a94e-fae0b61189bf\" xlink:type=\"simple\"><path d=\"M55,138.32 C55,161.03 55,186.4 55,203.99 \" fill=\"none\" id=\"E6&lt;-E7\" style=\"stroke: #383838; stroke-width: 1.0; stroke-dasharray: 7.0,7.0;\"/><ellipse cx=\"55\" cy=\"131.15\" fill=\"#FFFFFF\" rx=\"8\" ry=\"8\" style=\"stroke: #383838; stroke-width: 1.0;\"/><line style=\"stroke: #383838; stroke-width: 1.0;\" x1=\"55\" x2=\"55\" y1=\"139.15\" y2=\"123.15\"/><line style=\"stroke: #383838; stroke-width: 1.0;\" x1=\"47\" x2=\"63\" y1=\"131.15\" y2=\"131.15\"/><text fill=\"#000000\" font-family=\"sans-serif\" font-size=\"13\" lengthAdjust=\"spacingAndGlyphs\" textLength=\"8\" x=\"45.925\" y=\"192.8836\">1</text></a><!--MD5=[9ed9a0e635374709a55292dfd967e360]\n",
       "@startuml\r\n",
       " skinparam monochrome true\r\n",
       "skinparam classbackgroundcolor white\r\n",
       "skinparam shadowing false\r\n",
       "skinparam wrapWidth 300\r\n",
       "hide circle\r\n",
       "\r\n",
       "package \"AliasTest\" as E1  [[psysml:abede473-ce86-4cf2-9b0f-bcad92dda7df ]]  {\r\n",
       "comp usage \"q\" as E2  <<(T,blue) attribute>> [[psysml:84563fde-fc3c-4caa-a0d2-03a4409edda3 ]] {\r\n",
       "}\r\n",
       "comp def \"P1\" as E3  <<(T,blue) part def>> [[psysml:f240402e-e520-4bd4-a2fa-a40388aadc9d ]] {\r\n",
       "- - ports - -\r\n",
       "porig1\r\n",
       "}\r\n",
       "comp usage \"porig1\" as E4  <<(T,blue) port>> [[psysml:fb61bd91-52ec-4d42-be8a-ef485ce794d8 ]] {\r\n",
       "}\r\n",
       "comp usage \"p1: P1\" as E5  <<(T,blue) part>> [[psysml:66a2f39c-c11d-47e1-a04e-46a9b54c38c0 ]] {\r\n",
       "- - ports - -\r\n",
       "^po1\\n//:>>P1::porig1// \r\n",
       "}\r\n",
       "comp usage \"p2: P1\" as E6  <<(T,blue) part>> [[psysml:d750b59a-5fb4-49de-a141-6edbceed9fe9 ]] {\r\n",
       "- - ports - -\r\n",
       "pdest\r\n",
       "}\r\n",
       "comp usage \"pdest\" as E7  <<(T,blue) port>> [[psysml:1ab4a2c7-e640-4092-b309-d8474ba4cc31 ]] {\r\n",
       "}\r\n",
       "}\r\n",
       "E3 +.. \"1\"E4 [[psysml:b116cd08-9727-4fd8-b1d3-1b9f6deb041c ]] \r\n",
       "E5 - -:|> E3 [[psysml:b60c9595-85bf-4c72-aa43-c7c5a3162c28 ]] \r\n",
       "E6 - -:|> E3 [[psysml:8fc3f931-75e6-473d-9c07-27a38ec18c6d ]] \r\n",
       "E6 +.. \"1\"E7 [[psysml:346ab8ae-1d2f-462f-a94e-fae0b61189bf ]] \r\n",
       "@enduml\r\n",
       "\n",
       "PlantUML version 1.2020.13(Sat Jun 13 12:26:38 UTC 2020)\n",
       "(EPL source distribution)\n",
       "Java Runtime: OpenJDK Runtime Environment\n",
       "JVM: OpenJDK 64-Bit Server VM\n",
       "Default Encoding: UTF-8\n",
       "Language: en\n",
       "Country: null\n",
       "--></g></svg>"
      ]
     },
     "execution_count": 2,
     "metadata": {},
     "output_type": "execute_result"
    }
   ],
   "source": [
    "%viz --style=\"COMPTREE\" --view=\"Default\" \"AliasTest\""
   ]
  },
  {
   "cell_type": "code",
   "execution_count": 3,
   "id": "e308928f",
   "metadata": {
    "execution": {
     "iopub.execute_input": "2021-09-27T07:19:07.780821Z",
     "iopub.status.busy": "2021-09-27T07:19:07.780369Z",
     "iopub.status.idle": "2021-09-27T07:19:07.867923Z",
     "shell.execute_reply": "2021-09-27T07:19:07.866086Z"
    }
   },
   "outputs": [
    {
     "data": {
      "image/svg+xml": [
       "<?xml version=\"1.0\" encoding=\"UTF-8\" standalone=\"no\"?><svg xmlns=\"http://www.w3.org/2000/svg\" xmlns:xlink=\"http://www.w3.org/1999/xlink\" contentScriptType=\"application/ecmascript\" contentStyleType=\"text/css\" height=\"399px\" preserveAspectRatio=\"none\" style=\"width:350px;height:399px;\" version=\"1.1\" viewBox=\"0 0 350 399\" width=\"350px\" zoomAndPan=\"magnify\"><defs/><g><!--MD5=[fbc87193dbaf4d95561dea2c320d4a47]\n",
       "cluster E1--><a href=\"psysml:abede473-ce86-4cf2-9b0f-bcad92dda7df\" target=\"_top\" title=\"psysml:abede473-ce86-4cf2-9b0f-bcad92dda7df\" xlink:actuate=\"onRequest\" xlink:href=\"psysml:abede473-ce86-4cf2-9b0f-bcad92dda7df\" xlink:show=\"new\" xlink:title=\"psysml:abede473-ce86-4cf2-9b0f-bcad92dda7df\" xlink:type=\"simple\"><polygon fill=\"#FFFFFF\" points=\"16,6,84,6,91,28.2969,328,28.2969,328,387,16,387,16,6\" style=\"stroke: #000000; stroke-width: 1.5;\"/><line style=\"stroke: #000000; stroke-width: 1.5;\" x1=\"16\" x2=\"91\" y1=\"28.2969\" y2=\"28.2969\"/><text fill=\"#000000\" font-family=\"sans-serif\" font-size=\"14\" font-weight=\"bold\" lengthAdjust=\"spacingAndGlyphs\" textLength=\"62\" x=\"20\" y=\"20.9951\">AliasTest</text></a><!--MD5=[b4997ac47864f28c2f74865a473b2911]\n",
       "class E2--><a href=\"psysml:84563fde-fc3c-4caa-a0d2-03a4409edda3\" target=\"_top\" title=\"psysml:84563fde-fc3c-4caa-a0d2-03a4409edda3\" xlink:actuate=\"onRequest\" xlink:href=\"psysml:84563fde-fc3c-4caa-a0d2-03a4409edda3\" xlink:show=\"new\" xlink:title=\"psysml:84563fde-fc3c-4caa-a0d2-03a4409edda3\" xlink:type=\"simple\"><rect fill=\"#FFFFFF\" height=\"45.9375\" id=\"E2\" rx=\"10\" ry=\"10\" style=\"stroke: #383838; stroke-width: 1.5;\" width=\"71\" x=\"240.5\" y=\"62\"/><text fill=\"#000000\" font-family=\"sans-serif\" font-size=\"12\" font-style=\"italic\" lengthAdjust=\"spacingAndGlyphs\" textLength=\"69\" x=\"241.5\" y=\"78.1387\">«attribute»</text><text fill=\"#000000\" font-family=\"sans-serif\" font-size=\"12\" lengthAdjust=\"spacingAndGlyphs\" textLength=\"8\" x=\"272\" y=\"92.1074\">q</text><line style=\"stroke: #383838; stroke-width: 1.5;\" x1=\"241.5\" x2=\"310.5\" y1=\"99.9375\" y2=\"99.9375\"/></a><!--MD5=[09b614a08d8cba4a07c9adeb5e0fee81]\n",
       "class E3--><a href=\"psysml:f240402e-e520-4bd4-a2fa-a40388aadc9d\" target=\"_top\" title=\"psysml:f240402e-e520-4bd4-a2fa-a40388aadc9d\" xlink:actuate=\"onRequest\" xlink:href=\"psysml:f240402e-e520-4bd4-a2fa-a40388aadc9d\" xlink:show=\"new\" xlink:title=\"psysml:f240402e-e520-4bd4-a2fa-a40388aadc9d\" xlink:type=\"simple\"><rect fill=\"#FFFFFF\" height=\"75.5469\" id=\"E3\" style=\"stroke: #383838; stroke-width: 1.5;\" width=\"66\" x=\"118\" y=\"189\"/><text fill=\"#000000\" font-family=\"sans-serif\" font-size=\"12\" font-style=\"italic\" lengthAdjust=\"spacingAndGlyphs\" textLength=\"64\" x=\"119\" y=\"205.1387\">«part def»</text><text fill=\"#000000\" font-family=\"sans-serif\" font-size=\"12\" lengthAdjust=\"spacingAndGlyphs\" textLength=\"16\" x=\"143\" y=\"219.1074\">P1</text><line style=\"stroke: #383838; stroke-width: 1.5;\" x1=\"119\" x2=\"183\" y1=\"226.9375\" y2=\"226.9375\"/><text fill=\"#000000\" font-family=\"sans-serif\" font-size=\"11\" lengthAdjust=\"spacingAndGlyphs\" textLength=\"36\" x=\"124\" y=\"257.9526\">porig1</text><line style=\"stroke: #383838; stroke-width: 1.0;\" x1=\"119\" x2=\"136\" y1=\"241.3398\" y2=\"241.3398\"/><text fill=\"#000000\" font-family=\"sans-serif\" font-size=\"11\" lengthAdjust=\"spacingAndGlyphs\" textLength=\"30\" x=\"136\" y=\"244.6479\">ports</text><line style=\"stroke: #383838; stroke-width: 1.0;\" x1=\"166\" x2=\"183\" y1=\"241.3398\" y2=\"241.3398\"/></a><!--MD5=[ebbe1d658d1005bcc118a6aa81145e00]\n",
       "class E4--><a href=\"psysml:fb61bd91-52ec-4d42-be8a-ef485ce794d8\" target=\"_top\" title=\"psysml:fb61bd91-52ec-4d42-be8a-ef485ce794d8\" xlink:actuate=\"onRequest\" xlink:href=\"psysml:fb61bd91-52ec-4d42-be8a-ef485ce794d8\" xlink:show=\"new\" xlink:title=\"psysml:fb61bd91-52ec-4d42-be8a-ef485ce794d8\" xlink:type=\"simple\"><rect fill=\"#FFFFFF\" height=\"45.9375\" id=\"E4\" rx=\"10\" ry=\"10\" style=\"stroke: #383838; stroke-width: 1.5;\" width=\"46\" x=\"128\" y=\"325\"/><text fill=\"#000000\" font-family=\"sans-serif\" font-size=\"12\" font-style=\"italic\" lengthAdjust=\"spacingAndGlyphs\" textLength=\"40\" x=\"131\" y=\"341.1387\">«port»</text><text fill=\"#000000\" font-family=\"sans-serif\" font-size=\"12\" lengthAdjust=\"spacingAndGlyphs\" textLength=\"40\" x=\"131\" y=\"355.1074\">porig1</text><line style=\"stroke: #383838; stroke-width: 1.5;\" x1=\"129\" x2=\"173\" y1=\"362.9375\" y2=\"362.9375\"/></a><!--MD5=[270fce915f116d4de14055a7c1d9a0f3]\n",
       "class E5--><a href=\"psysml:66a2f39c-c11d-47e1-a04e-46a9b54c38c0\" target=\"_top\" title=\"psysml:66a2f39c-c11d-47e1-a04e-46a9b54c38c0\" xlink:actuate=\"onRequest\" xlink:href=\"psysml:66a2f39c-c11d-47e1-a04e-46a9b54c38c0\" xlink:show=\"new\" xlink:title=\"psysml:66a2f39c-c11d-47e1-a04e-46a9b54c38c0\" xlink:type=\"simple\"><rect fill=\"#FFFFFF\" height=\"88.3516\" id=\"E5\" rx=\"10\" ry=\"10\" style=\"stroke: #383838; stroke-width: 1.5;\" width=\"92\" x=\"113\" y=\"41\"/><text fill=\"#000000\" font-family=\"sans-serif\" font-size=\"12\" font-style=\"italic\" lengthAdjust=\"spacingAndGlyphs\" textLength=\"40\" x=\"139\" y=\"57.1387\">«part»</text><text fill=\"#000000\" font-family=\"sans-serif\" font-size=\"12\" lengthAdjust=\"spacingAndGlyphs\" textLength=\"40\" x=\"139\" y=\"71.1074\">p1: P1</text><line style=\"stroke: #383838; stroke-width: 1.5;\" x1=\"114\" x2=\"204\" y1=\"78.9375\" y2=\"78.9375\"/><text fill=\"#000000\" font-family=\"sans-serif\" font-size=\"11\" lengthAdjust=\"spacingAndGlyphs\" textLength=\"30\" x=\"119\" y=\"109.9526\">^po1</text><text fill=\"#000000\" font-family=\"sans-serif\" font-size=\"11\" font-style=\"italic\" lengthAdjust=\"spacingAndGlyphs\" textLength=\"80\" x=\"119\" y=\"122.7573\">:&gt;&gt;P1::porig1</text><line style=\"stroke: #383838; stroke-width: 1.0;\" x1=\"114\" x2=\"144\" y1=\"93.3398\" y2=\"93.3398\"/><text fill=\"#000000\" font-family=\"sans-serif\" font-size=\"11\" lengthAdjust=\"spacingAndGlyphs\" textLength=\"30\" x=\"144\" y=\"96.6479\">ports</text><line style=\"stroke: #383838; stroke-width: 1.0;\" x1=\"174\" x2=\"204\" y1=\"93.3398\" y2=\"93.3398\"/></a><!--MD5=[60a26617385b1d2d0262a64233df1f8d]\n",
       "class E6--><a href=\"psysml:d750b59a-5fb4-49de-a141-6edbceed9fe9\" target=\"_top\" title=\"psysml:d750b59a-5fb4-49de-a141-6edbceed9fe9\" xlink:actuate=\"onRequest\" xlink:href=\"psysml:d750b59a-5fb4-49de-a141-6edbceed9fe9\" xlink:show=\"new\" xlink:title=\"psysml:d750b59a-5fb4-49de-a141-6edbceed9fe9\" xlink:type=\"simple\"><rect fill=\"#FFFFFF\" height=\"75.5469\" id=\"E6\" rx=\"10\" ry=\"10\" style=\"stroke: #383838; stroke-width: 1.5;\" width=\"46\" x=\"32\" y=\"47\"/><text fill=\"#000000\" font-family=\"sans-serif\" font-size=\"12\" font-style=\"italic\" lengthAdjust=\"spacingAndGlyphs\" textLength=\"40\" x=\"35\" y=\"63.1387\">«part»</text><text fill=\"#000000\" font-family=\"sans-serif\" font-size=\"12\" lengthAdjust=\"spacingAndGlyphs\" textLength=\"40\" x=\"35\" y=\"77.1074\">p2: P1</text><line style=\"stroke: #383838; stroke-width: 1.5;\" x1=\"33\" x2=\"77\" y1=\"84.9375\" y2=\"84.9375\"/><text fill=\"#000000\" font-family=\"sans-serif\" font-size=\"11\" lengthAdjust=\"spacingAndGlyphs\" textLength=\"32\" x=\"38\" y=\"115.9526\">pdest</text><line style=\"stroke: #383838; stroke-width: 1.0;\" x1=\"33\" x2=\"40\" y1=\"99.3398\" y2=\"99.3398\"/><text fill=\"#000000\" font-family=\"sans-serif\" font-size=\"11\" lengthAdjust=\"spacingAndGlyphs\" textLength=\"30\" x=\"40\" y=\"102.6479\">ports</text><line style=\"stroke: #383838; stroke-width: 1.0;\" x1=\"70\" x2=\"77\" y1=\"99.3398\" y2=\"99.3398\"/></a><!--MD5=[2156ba9850f5573cc1fc38a6a4b2f02b]\n",
       "class E7--><a href=\"psysml:1ab4a2c7-e640-4092-b309-d8474ba4cc31\" target=\"_top\" title=\"psysml:1ab4a2c7-e640-4092-b309-d8474ba4cc31\" xlink:actuate=\"onRequest\" xlink:href=\"psysml:1ab4a2c7-e640-4092-b309-d8474ba4cc31\" xlink:show=\"new\" xlink:title=\"psysml:1ab4a2c7-e640-4092-b309-d8474ba4cc31\" xlink:type=\"simple\"><rect fill=\"#FFFFFF\" height=\"45.9375\" id=\"E7\" rx=\"10\" ry=\"10\" style=\"stroke: #383838; stroke-width: 1.5;\" width=\"42\" x=\"34\" y=\"204\"/><text fill=\"#000000\" font-family=\"sans-serif\" font-size=\"12\" font-style=\"italic\" lengthAdjust=\"spacingAndGlyphs\" textLength=\"40\" x=\"35\" y=\"220.1387\">«port»</text><text fill=\"#000000\" font-family=\"sans-serif\" font-size=\"12\" lengthAdjust=\"spacingAndGlyphs\" textLength=\"36\" x=\"37\" y=\"234.1074\">pdest</text><line style=\"stroke: #383838; stroke-width: 1.5;\" x1=\"35\" x2=\"75\" y1=\"241.9375\" y2=\"241.9375\"/></a><!--MD5=[4672eba38e49728da53d11aeb285b987]\n",
       "reverse link E3 to E4--><a href=\"psysml:b116cd08-9727-4fd8-b1d3-1b9f6deb041c\" target=\"_top\" title=\"psysml:b116cd08-9727-4fd8-b1d3-1b9f6deb041c\" xlink:actuate=\"onRequest\" xlink:href=\"psysml:b116cd08-9727-4fd8-b1d3-1b9f6deb041c\" xlink:show=\"new\" xlink:title=\"psysml:b116cd08-9727-4fd8-b1d3-1b9f6deb041c\" xlink:type=\"simple\"><path d=\"M151,280.29 C151,295.98 151,312.34 151,324.93 \" fill=\"none\" id=\"E3&lt;-E4\" style=\"stroke: #383838; stroke-width: 1.0; stroke-dasharray: 7.0,7.0;\"/><ellipse cx=\"151\" cy=\"273\" fill=\"#FFFFFF\" rx=\"8\" ry=\"8\" style=\"stroke: #383838; stroke-width: 1.0;\"/><line style=\"stroke: #383838; stroke-width: 1.0;\" x1=\"151\" x2=\"151\" y1=\"281\" y2=\"265\"/><line style=\"stroke: #383838; stroke-width: 1.0;\" x1=\"143\" x2=\"159\" y1=\"273\" y2=\"273\"/><text fill=\"#000000\" font-family=\"sans-serif\" font-size=\"13\" lengthAdjust=\"spacingAndGlyphs\" textLength=\"8\" x=\"141.925\" y=\"313.8075\">1</text></a><!--MD5=[e9be52314489bd878ff4c7144b63c9e1]\n",
       "link E5 to E3--><a href=\"psysml:b60c9595-85bf-4c72-aa43-c7c5a3162c28\" target=\"_top\" title=\"psysml:b60c9595-85bf-4c72-aa43-c7c5a3162c28\" xlink:actuate=\"onRequest\" xlink:href=\"psysml:b60c9595-85bf-4c72-aa43-c7c5a3162c28\" xlink:show=\"new\" xlink:title=\"psysml:b60c9595-85bf-4c72-aa43-c7c5a3162c28\" xlink:type=\"simple\"><path d=\"M156.53,129.15 C155.82,141.7 155.02,155.6 154.26,168.87 \" fill=\"none\" id=\"E5-&gt;E3\" style=\"stroke: #383838; stroke-width: 1.0;\"/><polygon fill=\"#FFFFFF\" points=\"153.12,188.9,147.2169,169.5311,161.1941,170.331,153.12,188.9\" style=\"stroke: #383838; stroke-width: 1.0;\"/><ellipse cx=\"149.5393\" cy=\"163.9547\" fill=\"#383838\" rx=\"2\" ry=\"2\" style=\"stroke: #383838; stroke-width: 1.0;\"/><ellipse cx=\"159.523\" cy=\"164.526\" fill=\"#383838\" rx=\"2\" ry=\"2\" style=\"stroke: #383838; stroke-width: 1.0;\"/></a><!--MD5=[a717450b82c80b9240a525fa862496af]\n",
       "link E6 to E3--><a href=\"psysml:8fc3f931-75e6-473d-9c07-27a38ec18c6d\" target=\"_top\" title=\"psysml:8fc3f931-75e6-473d-9c07-27a38ec18c6d\" xlink:actuate=\"onRequest\" xlink:href=\"psysml:8fc3f931-75e6-473d-9c07-27a38ec18c6d\" xlink:show=\"new\" xlink:title=\"psysml:8fc3f931-75e6-473d-9c07-27a38ec18c6d\" xlink:type=\"simple\"><path d=\"M78.24,119.89 C89.03,135.63 102.13,154.73 114.21,172.35 \" fill=\"none\" id=\"E6-&gt;E3\" style=\"stroke: #383838; stroke-width: 1.0;\"/><polygon fill=\"#FFFFFF\" points=\"125.62,188.98,109.1019,177.2689,120.6481,169.3515,125.62,188.98\" style=\"stroke: #383838; stroke-width: 1.0;\"/><ellipse cx=\"107.5278\" cy=\"171.4368\" fill=\"#383838\" rx=\"2\" ry=\"2\" style=\"stroke: #383838; stroke-width: 1.0;\"/><ellipse cx=\"115.7751\" cy=\"165.7816\" fill=\"#383838\" rx=\"2\" ry=\"2\" style=\"stroke: #383838; stroke-width: 1.0;\"/></a><!--MD5=[3f50a3473f1dfb74d3f76443e03635af]\n",
       "reverse link E6 to E7--><a href=\"psysml:346ab8ae-1d2f-462f-a94e-fae0b61189bf\" target=\"_top\" title=\"psysml:346ab8ae-1d2f-462f-a94e-fae0b61189bf\" xlink:actuate=\"onRequest\" xlink:href=\"psysml:346ab8ae-1d2f-462f-a94e-fae0b61189bf\" xlink:show=\"new\" xlink:title=\"psysml:346ab8ae-1d2f-462f-a94e-fae0b61189bf\" xlink:type=\"simple\"><path d=\"M55,138.32 C55,161.03 55,186.4 55,203.99 \" fill=\"none\" id=\"E6&lt;-E7\" style=\"stroke: #383838; stroke-width: 1.0; stroke-dasharray: 7.0,7.0;\"/><ellipse cx=\"55\" cy=\"131.15\" fill=\"#FFFFFF\" rx=\"8\" ry=\"8\" style=\"stroke: #383838; stroke-width: 1.0;\"/><line style=\"stroke: #383838; stroke-width: 1.0;\" x1=\"55\" x2=\"55\" y1=\"139.15\" y2=\"123.15\"/><line style=\"stroke: #383838; stroke-width: 1.0;\" x1=\"47\" x2=\"63\" y1=\"131.15\" y2=\"131.15\"/><text fill=\"#000000\" font-family=\"sans-serif\" font-size=\"13\" lengthAdjust=\"spacingAndGlyphs\" textLength=\"8\" x=\"45.925\" y=\"192.8836\">1</text></a><!--MD5=[9ed9a0e635374709a55292dfd967e360]\n",
       "@startuml\r\n",
       " skinparam monochrome true\r\n",
       "skinparam classbackgroundcolor white\r\n",
       "skinparam shadowing false\r\n",
       "skinparam wrapWidth 300\r\n",
       "hide circle\r\n",
       "\r\n",
       "package \"AliasTest\" as E1  [[psysml:abede473-ce86-4cf2-9b0f-bcad92dda7df ]]  {\r\n",
       "comp usage \"q\" as E2  <<(T,blue) attribute>> [[psysml:84563fde-fc3c-4caa-a0d2-03a4409edda3 ]] {\r\n",
       "}\r\n",
       "comp def \"P1\" as E3  <<(T,blue) part def>> [[psysml:f240402e-e520-4bd4-a2fa-a40388aadc9d ]] {\r\n",
       "- - ports - -\r\n",
       "porig1\r\n",
       "}\r\n",
       "comp usage \"porig1\" as E4  <<(T,blue) port>> [[psysml:fb61bd91-52ec-4d42-be8a-ef485ce794d8 ]] {\r\n",
       "}\r\n",
       "comp usage \"p1: P1\" as E5  <<(T,blue) part>> [[psysml:66a2f39c-c11d-47e1-a04e-46a9b54c38c0 ]] {\r\n",
       "- - ports - -\r\n",
       "^po1\\n//:>>P1::porig1// \r\n",
       "}\r\n",
       "comp usage \"p2: P1\" as E6  <<(T,blue) part>> [[psysml:d750b59a-5fb4-49de-a141-6edbceed9fe9 ]] {\r\n",
       "- - ports - -\r\n",
       "pdest\r\n",
       "}\r\n",
       "comp usage \"pdest\" as E7  <<(T,blue) port>> [[psysml:1ab4a2c7-e640-4092-b309-d8474ba4cc31 ]] {\r\n",
       "}\r\n",
       "}\r\n",
       "E3 +.. \"1\"E4 [[psysml:b116cd08-9727-4fd8-b1d3-1b9f6deb041c ]] \r\n",
       "E5 - -:|> E3 [[psysml:b60c9595-85bf-4c72-aa43-c7c5a3162c28 ]] \r\n",
       "E6 - -:|> E3 [[psysml:8fc3f931-75e6-473d-9c07-27a38ec18c6d ]] \r\n",
       "E6 +.. \"1\"E7 [[psysml:346ab8ae-1d2f-462f-a94e-fae0b61189bf ]] \r\n",
       "@enduml\r\n",
       "\n",
       "PlantUML version 1.2020.13(Sat Jun 13 12:26:38 UTC 2020)\n",
       "(EPL source distribution)\n",
       "Java Runtime: OpenJDK Runtime Environment\n",
       "JVM: OpenJDK 64-Bit Server VM\n",
       "Default Encoding: UTF-8\n",
       "Language: en\n",
       "Country: null\n",
       "--></g></svg>"
      ]
     },
     "execution_count": 3,
     "metadata": {},
     "output_type": "execute_result"
    }
   ],
   "source": [
    "%viz --style=\"COMPTREE\" --view=\"Tree\" \"AliasTest\""
   ]
  },
  {
   "cell_type": "code",
   "execution_count": 4,
   "id": "d070e1e8",
   "metadata": {
    "execution": {
     "iopub.execute_input": "2021-09-27T07:19:07.917768Z",
     "iopub.status.busy": "2021-09-27T07:19:07.917310Z",
     "iopub.status.idle": "2021-09-27T07:19:07.924457Z",
     "shell.execute_reply": "2021-09-27T07:19:07.924057Z"
    }
   },
   "outputs": [
    {
     "data": {
      "image/svg+xml": [
       "<?xml version=\"1.0\" encoding=\"UTF-8\" standalone=\"no\"?><svg xmlns=\"http://www.w3.org/2000/svg\" xmlns:xlink=\"http://www.w3.org/1999/xlink\" contentScriptType=\"application/ecmascript\" contentStyleType=\"text/css\" height=\"12px\" preserveAspectRatio=\"none\" style=\"width:12px;height:12px;\" version=\"1.1\" viewBox=\"0 0 12 12\" width=\"12px\" zoomAndPan=\"magnify\"><defs/><g><!--MD5=[f19188ef49e11757b5c46753f95d9edc]\n",
       "@startuml\r\n",
       " skinparam monochrome true\r\n",
       "skinparam classbackgroundcolor white\r\n",
       "skinparam shadowing false\r\n",
       "skinparam wrapWidth 300\r\n",
       "hide circle\r\n",
       "\r\n",
       "@enduml\r\n",
       "\n",
       "PlantUML version 1.2020.13(Sat Jun 13 12:26:38 UTC 2020)\n",
       "(EPL source distribution)\n",
       "Java Runtime: OpenJDK Runtime Environment\n",
       "JVM: OpenJDK 64-Bit Server VM\n",
       "Default Encoding: UTF-8\n",
       "Language: en\n",
       "Country: null\n",
       "--></g></svg>"
      ]
     },
     "execution_count": 4,
     "metadata": {},
     "output_type": "execute_result"
    }
   ],
   "source": [
    "%viz --style=\"COMPTREE\" --view=\"State\" \"AliasTest\""
   ]
  },
  {
   "cell_type": "code",
   "execution_count": 5,
   "id": "e156ff1a",
   "metadata": {
    "execution": {
     "iopub.execute_input": "2021-09-27T07:19:07.975080Z",
     "iopub.status.busy": "2021-09-27T07:19:07.974672Z",
     "iopub.status.idle": "2021-09-27T07:19:08.053550Z",
     "shell.execute_reply": "2021-09-27T07:19:08.053001Z"
    }
   },
   "outputs": [
    {
     "data": {
      "image/svg+xml": [
       "<?xml version=\"1.0\" encoding=\"UTF-8\" standalone=\"no\"?><svg xmlns=\"http://www.w3.org/2000/svg\" xmlns:xlink=\"http://www.w3.org/1999/xlink\" contentScriptType=\"application/ecmascript\" contentStyleType=\"text/css\" height=\"233px\" preserveAspectRatio=\"none\" style=\"width:474px;height:233px;\" version=\"1.1\" viewBox=\"0 0 474 233\" width=\"474px\" zoomAndPan=\"magnify\"><defs/><g><!--MD5=[fbc87193dbaf4d95561dea2c320d4a47]\n",
       "cluster E1--><a href=\"psysml:abede473-ce86-4cf2-9b0f-bcad92dda7df\" target=\"_top\" title=\"psysml:abede473-ce86-4cf2-9b0f-bcad92dda7df\" xlink:actuate=\"onRequest\" xlink:href=\"psysml:abede473-ce86-4cf2-9b0f-bcad92dda7df\" xlink:show=\"new\" xlink:title=\"psysml:abede473-ce86-4cf2-9b0f-bcad92dda7df\" xlink:type=\"simple\"><polygon fill=\"#FFFFFF\" points=\"16,6,84,6,91,28.2969,452,28.2969,452,221,16,221,16,6\" style=\"stroke: #000000; stroke-width: 1.5;\"/><line style=\"stroke: #000000; stroke-width: 1.5;\" x1=\"16\" x2=\"91\" y1=\"28.2969\" y2=\"28.2969\"/><text fill=\"#000000\" font-family=\"sans-serif\" font-size=\"14\" font-weight=\"bold\" lengthAdjust=\"spacingAndGlyphs\" textLength=\"62\" x=\"20\" y=\"20.9951\">AliasTest</text></a><!--MD5=[d5e69f78d87373223dbae638b30a9c99]\n",
       "cluster E3--><a href=\"psysml:f240402e-e520-4bd4-a2fa-a40388aadc9d\" target=\"_top\" title=\"psysml:f240402e-e520-4bd4-a2fa-a40388aadc9d\" xlink:actuate=\"onRequest\" xlink:href=\"psysml:f240402e-e520-4bd4-a2fa-a40388aadc9d\" xlink:show=\"new\" xlink:title=\"psysml:f240402e-e520-4bd4-a2fa-a40388aadc9d\" xlink:type=\"simple\"><rect fill=\"#FFFFFF\" height=\"90\" id=\"E3\" style=\"stroke: #383838; stroke-width: 1.5;\" width=\"83\" x=\"312\" y=\"64\"/><rect fill=\"#F8F8F8\" height=\"37.9375\" style=\"stroke: #383838; stroke-width: 1.5;\" width=\"83\" x=\"312\" y=\"64\"/><text fill=\"#000000\" font-family=\"sans-serif\" font-size=\"12\" font-style=\"italic\" lengthAdjust=\"spacingAndGlyphs\" textLength=\"64\" x=\"321.5\" y=\"80.1387\">«part def»</text><text fill=\"#000000\" font-family=\"sans-serif\" font-size=\"12\" lengthAdjust=\"spacingAndGlyphs\" textLength=\"16\" x=\"345.5\" y=\"94.1074\">P1</text></a><!--MD5=[14e3b0961a2654348d326746436168a1]\n",
       "cluster E6--><a href=\"psysml:66a2f39c-c11d-47e1-a04e-46a9b54c38c0\" target=\"_top\" title=\"psysml:66a2f39c-c11d-47e1-a04e-46a9b54c38c0\" xlink:actuate=\"onRequest\" xlink:href=\"psysml:66a2f39c-c11d-47e1-a04e-46a9b54c38c0\" xlink:show=\"new\" xlink:title=\"psysml:66a2f39c-c11d-47e1-a04e-46a9b54c38c0\" xlink:type=\"simple\"><rect fill=\"#FFFFFF\" height=\"82\" id=\"E6\" rx=\"10\" ry=\"10\" style=\"stroke: #383838; stroke-width: 1.5;\" width=\"98\" x=\"112\" y=\"64\"/><rect fill=\"#F8F8F8\" height=\"23.9688\" rx=\"10\" ry=\"10\" style=\"stroke: #F8F8F8; stroke-width: 1.5;\" width=\"98\" x=\"112\" y=\"64\"/><rect fill=\"#F8F8F8\" height=\"10\" style=\"stroke: #F8F8F8; stroke-width: 1.5;\" width=\"98\" x=\"112\" y=\"77.9688\"/><rect fill=\"none\" height=\"82\" id=\"E6\" rx=\"10\" ry=\"10\" style=\"stroke: #383838; stroke-width: 1.5;\" width=\"98\" x=\"112\" y=\"64\"/><text fill=\"#000000\" font-family=\"sans-serif\" font-size=\"12\" lengthAdjust=\"spacingAndGlyphs\" textLength=\"40\" x=\"141\" y=\"80.1387\">p1: P1</text><line style=\"stroke: #383838; stroke-width: 1.0;\" x1=\"112\" x2=\"210\" y1=\"87.9688\" y2=\"87.9688\"/></a><!--MD5=[55dfccfc6c49c2d10cd1bd2211a6c90c]\n",
       "cluster E8--><a href=\"psysml:d750b59a-5fb4-49de-a141-6edbceed9fe9\" target=\"_top\" title=\"psysml:d750b59a-5fb4-49de-a141-6edbceed9fe9\" xlink:actuate=\"onRequest\" xlink:href=\"psysml:d750b59a-5fb4-49de-a141-6edbceed9fe9\" xlink:show=\"new\" xlink:title=\"psysml:d750b59a-5fb4-49de-a141-6edbceed9fe9\" xlink:type=\"simple\"><rect fill=\"#FFFFFF\" height=\"84.5\" id=\"E8\" rx=\"10\" ry=\"10\" style=\"stroke: #383838; stroke-width: 1.5;\" width=\"83\" x=\"213\" y=\"120.5\"/><rect fill=\"#F8F8F8\" height=\"23.9688\" rx=\"10\" ry=\"10\" style=\"stroke: #F8F8F8; stroke-width: 1.5;\" width=\"83\" x=\"213\" y=\"120.5\"/><rect fill=\"#F8F8F8\" height=\"10\" style=\"stroke: #F8F8F8; stroke-width: 1.5;\" width=\"83\" x=\"213\" y=\"134.4688\"/><rect fill=\"none\" height=\"84.5\" id=\"E8\" rx=\"10\" ry=\"10\" style=\"stroke: #383838; stroke-width: 1.5;\" width=\"83\" x=\"213\" y=\"120.5\"/><text fill=\"#000000\" font-family=\"sans-serif\" font-size=\"12\" lengthAdjust=\"spacingAndGlyphs\" textLength=\"40\" x=\"234.5\" y=\"136.6387\">p2: P1</text><line style=\"stroke: #383838; stroke-width: 1.0;\" x1=\"213\" x2=\"296\" y1=\"144.4688\" y2=\"144.4688\"/></a><!--MD5=[b4997ac47864f28c2f74865a473b2911]\n",
       "class E2--><a href=\"psysml:84563fde-fc3c-4caa-a0d2-03a4409edda3\" target=\"_top\" title=\"psysml:84563fde-fc3c-4caa-a0d2-03a4409edda3\" xlink:actuate=\"onRequest\" xlink:href=\"psysml:84563fde-fc3c-4caa-a0d2-03a4409edda3\" xlink:show=\"new\" xlink:title=\"psysml:84563fde-fc3c-4caa-a0d2-03a4409edda3\" xlink:type=\"simple\"><rect fill=\"#FFFFFF\" height=\"45.9375\" id=\"E2\" rx=\"10\" ry=\"10\" style=\"stroke: #383838; stroke-width: 1.5;\" width=\"71\" x=\"32.5\" y=\"41\"/><text fill=\"#000000\" font-family=\"sans-serif\" font-size=\"12\" font-style=\"italic\" lengthAdjust=\"spacingAndGlyphs\" textLength=\"69\" x=\"33.5\" y=\"57.1387\">«attribute»</text><text fill=\"#000000\" font-family=\"sans-serif\" font-size=\"12\" lengthAdjust=\"spacingAndGlyphs\" textLength=\"8\" x=\"64\" y=\"71.1074\">q</text><line style=\"stroke: #383838; stroke-width: 1.5;\" x1=\"33.5\" x2=\"102.5\" y1=\"78.9375\" y2=\"78.9375\"/></a><text fill=\"#000000\" font-family=\"sans-serif\" font-size=\"14\" lengthAdjust=\"spacingAndGlyphs\" textLength=\"44\" x=\"308\" y=\"42.6982\">porig1</text><rect fill=\"#383838\" height=\"12\" style=\"stroke: #F8F8F8; stroke-width: 1.5;\" width=\"12\" x=\"324\" y=\"58\"/><text fill=\"#000000\" font-family=\"sans-serif\" font-size=\"14\" lengthAdjust=\"spacingAndGlyphs\" textLength=\"44\" x=\"355\" y=\"42.6982\">porig1</text><rect fill=\"#383838\" height=\"12\" style=\"stroke: #F8F8F8; stroke-width: 1.5;\" width=\"12\" x=\"371\" y=\"58\"/><text fill=\"#000000\" font-family=\"sans-serif\" font-size=\"14\" lengthAdjust=\"spacingAndGlyphs\" textLength=\"27\" x=\"178.5\" y=\"42.6982\">po1</text><rect fill=\"#383838\" height=\"12\" style=\"stroke: #F8F8F8; stroke-width: 1.5;\" width=\"12\" x=\"186\" y=\"58\"/><text fill=\"#000000\" font-family=\"sans-serif\" font-size=\"14\" lengthAdjust=\"spacingAndGlyphs\" textLength=\"40\" x=\"211\" y=\"99.1982\">pdest</text><rect fill=\"#383838\" height=\"12\" style=\"stroke: #F8F8F8; stroke-width: 1.5;\" width=\"12\" x=\"225\" y=\"114.5\"/><text fill=\"#000000\" font-family=\"sans-serif\" font-size=\"14\" lengthAdjust=\"spacingAndGlyphs\" textLength=\"40\" x=\"258\" y=\"99.1982\">pdest</text><rect fill=\"#383838\" height=\"12\" style=\"stroke: #F8F8F8; stroke-width: 1.5;\" width=\"12\" x=\"272\" y=\"114.5\"/><!--MD5=[1c0b9414cc86e0744215edee6abd8926]\n",
       "link E7 to E9--><a href=\"psysml:eaab9895-3808-4b7e-ad70-425cb7403c1b\" target=\"_top\" title=\"psysml:eaab9895-3808-4b7e-ad70-425cb7403c1b\" xlink:actuate=\"onRequest\" xlink:href=\"psysml:eaab9895-3808-4b7e-ad70-425cb7403c1b\" xlink:show=\"new\" xlink:title=\"psysml:eaab9895-3808-4b7e-ad70-425cb7403c1b\" xlink:type=\"simple\"><path d=\"M187.83,70.03 C188.72,81.73 210.14,110.34 224.83,117.73 \" fill=\"none\" id=\"E7-E9\" style=\"stroke: #383838; stroke-width: 3.0;\"/><text fill=\"#000000\" font-family=\"sans-serif\" font-size=\"13\" lengthAdjust=\"spacingAndGlyphs\" textLength=\"7\" x=\"209.8523\" y=\"106.3789\">*</text></a><!--MD5=[1c0b9414cc86e0744215edee6abd8926]\n",
       "link E7 to E9--><a href=\"psysml:18885de6-563e-4dd2-a418-c135b5ffccd4\" target=\"_top\" title=\"psysml:18885de6-563e-4dd2-a418-c135b5ffccd4\" xlink:actuate=\"onRequest\" xlink:href=\"psysml:18885de6-563e-4dd2-a418-c135b5ffccd4\" xlink:show=\"new\" xlink:title=\"psysml:18885de6-563e-4dd2-a418-c135b5ffccd4\" xlink:type=\"simple\"><path d=\"M198.05,66.57 C213.27,73.62 235.05,102.5 235.62,114.37 \" fill=\"none\" id=\"E7-E9-1\" style=\"stroke: #383838; stroke-width: 3.0;\"/><text fill=\"#000000\" font-family=\"sans-serif\" font-size=\"13\" lengthAdjust=\"spacingAndGlyphs\" textLength=\"7\" x=\"229.278\" y=\"103.4683\">*</text></a><!--MD5=[05105e7ad98c04b2240601ce32369f6d]\n",
       "@startuml\r\n",
       "skinparam ranksep 10\r\n",
       "skinparam rectangle {\r\n",
       " backgroundColor<<block>> LightGreen\r\n",
       "}\r\n",
       " skinparam monochrome true\r\n",
       "skinparam classbackgroundcolor white\r\n",
       "skinparam shadowing false\r\n",
       "skinparam wrapWidth 300\r\n",
       "hide circle\r\n",
       "\r\n",
       "package \"AliasTest\" as E1  [[psysml:abede473-ce86-4cf2-9b0f-bcad92dda7df ]]  {\r\n",
       "comp usage \"q\" as E2  <<(T,blue) attribute>> [[psysml:84563fde-fc3c-4caa-a0d2-03a4409edda3 ]] {\r\n",
       "}\r\n",
       "rec def \"P1\" as E3  <<(T,blue) part def>> [[psysml:f240402e-e520-4bd4-a2fa-a40388aadc9d ]] {\r\n",
       "portin \"porig1\" as E4  <<(T,blue) port>> [[psysml:fb61bd91-52ec-4d42-be8a-ef485ce794d8 ]] \r\n",
       "portin \"porig1\" as E5  <<(T,blue) port>> [[psysml:fb61bd91-52ec-4d42-be8a-ef485ce794d8 ]] \r\n",
       "}\r\n",
       "rec usage \"p1: P1\" as E6  [[psysml:66a2f39c-c11d-47e1-a04e-46a9b54c38c0 ]] {\r\n",
       "portin \"po1\" as E7  <<(T,blue) port>> [[psysml:1cf4d29b-7212-465e-9bfc-2d9d3c47093a ]] \r\n",
       "}\r\n",
       "rec usage \"p2: P1\" as E8  [[psysml:d750b59a-5fb4-49de-a141-6edbceed9fe9 ]] {\r\n",
       "portin \"pdest\" as E9  <<(T,blue) port>> [[psysml:1ab4a2c7-e640-4092-b309-d8474ba4cc31 ]] \r\n",
       "portin \"pdest\" as E10  <<(T,blue) port>> [[psysml:1ab4a2c7-e640-4092-b309-d8474ba4cc31 ]] \r\n",
       "}\r\n",
       "}\r\n",
       "E7 -[thickness=3]- \"*\"E9 [[psysml:eaab9895-3808-4b7e-ad70-425cb7403c1b ]] \r\n",
       "E7 -[thickness=3]- \"*\"E9 [[psysml:18885de6-563e-4dd2-a418-c135b5ffccd4 ]] \r\n",
       "@enduml\r\n",
       "\n",
       "PlantUML version 1.2020.13(Sat Jun 13 12:26:38 UTC 2020)\n",
       "(EPL source distribution)\n",
       "Java Runtime: OpenJDK Runtime Environment\n",
       "JVM: OpenJDK 64-Bit Server VM\n",
       "Default Encoding: UTF-8\n",
       "Language: en\n",
       "Country: null\n",
       "--></g></svg>"
      ]
     },
     "execution_count": 5,
     "metadata": {},
     "output_type": "execute_result"
    }
   ],
   "source": [
    "%viz --style=\"COMPTREE\" --view=\"Interconnection\" \"AliasTest\""
   ]
  },
  {
   "cell_type": "code",
   "execution_count": 6,
   "id": "910f9746",
   "metadata": {
    "execution": {
     "iopub.execute_input": "2021-09-27T07:19:08.103431Z",
     "iopub.status.busy": "2021-09-27T07:19:08.102845Z",
     "iopub.status.idle": "2021-09-27T07:19:08.110880Z",
     "shell.execute_reply": "2021-09-27T07:19:08.111206Z"
    }
   },
   "outputs": [
    {
     "data": {
      "image/svg+xml": [
       "<?xml version=\"1.0\" encoding=\"UTF-8\" standalone=\"no\"?><svg xmlns=\"http://www.w3.org/2000/svg\" xmlns:xlink=\"http://www.w3.org/1999/xlink\" contentScriptType=\"application/ecmascript\" contentStyleType=\"text/css\" height=\"12px\" preserveAspectRatio=\"none\" style=\"width:12px;height:12px;\" version=\"1.1\" viewBox=\"0 0 12 12\" width=\"12px\" zoomAndPan=\"magnify\"><defs/><g><!--MD5=[655b888544ca4751ea36af1068543f84]\n",
       "@startuml\r\n",
       "skinparam ranksep 8\r\n",
       " skinparam monochrome true\r\n",
       "skinparam classbackgroundcolor white\r\n",
       "skinparam shadowing false\r\n",
       "skinparam wrapWidth 300\r\n",
       "hide circle\r\n",
       "\r\n",
       "@enduml\r\n",
       "\n",
       "PlantUML version 1.2020.13(Sat Jun 13 12:26:38 UTC 2020)\n",
       "(EPL source distribution)\n",
       "Java Runtime: OpenJDK Runtime Environment\n",
       "JVM: OpenJDK 64-Bit Server VM\n",
       "Default Encoding: UTF-8\n",
       "Language: en\n",
       "Country: null\n",
       "--></g></svg>"
      ]
     },
     "execution_count": 6,
     "metadata": {},
     "output_type": "execute_result"
    }
   ],
   "source": [
    "%viz --style=\"COMPTREE\" --view=\"Action\" \"AliasTest\""
   ]
  },
  {
   "cell_type": "code",
   "execution_count": 7,
   "id": "942d19a5",
   "metadata": {
    "execution": {
     "iopub.execute_input": "2021-09-27T07:19:08.161856Z",
     "iopub.status.busy": "2021-09-27T07:19:08.161434Z",
     "iopub.status.idle": "2021-09-27T07:19:08.174096Z",
     "shell.execute_reply": "2021-09-27T07:19:08.174417Z"
    }
   },
   "outputs": [
    {
     "data": {
      "image/svg+xml": [
       "<?xml version=\"1.0\" encoding=\"UTF-8\" standalone=\"no\"?><svg xmlns=\"http://www.w3.org/2000/svg\" xmlns:xlink=\"http://www.w3.org/1999/xlink\" contentScriptType=\"application/ecmascript\" contentStyleType=\"text/css\" height=\"12px\" preserveAspectRatio=\"none\" style=\"width:12px;height:12px;\" version=\"1.1\" viewBox=\"0 0 12 12\" width=\"12px\" zoomAndPan=\"magnify\"><defs/><g><!--MD5=[803fc46c337be7a5c8a9831e35356779]\n",
       "@startuml\r\n",
       "skinparam roundcorner 20\r\n",
       "skinparam BoxPadding 20\r\n",
       "skinparam SequenceBoxBackgroundColor #white\r\n",
       "skinparam style strictuml\r\n",
       "skinparam maxMessageSize 100\r\n",
       " skinparam monochrome true\r\n",
       "skinparam classbackgroundcolor white\r\n",
       "skinparam shadowing false\r\n",
       "skinparam wrapWidth 300\r\n",
       "hide circle\r\n",
       "\r\n",
       "@enduml\r\n",
       "\n",
       "PlantUML version 1.2020.13(Sat Jun 13 12:26:38 UTC 2020)\n",
       "(EPL source distribution)\n",
       "Java Runtime: OpenJDK Runtime Environment\n",
       "JVM: OpenJDK 64-Bit Server VM\n",
       "Default Encoding: UTF-8\n",
       "Language: en\n",
       "Country: null\n",
       "--></g></svg>"
      ]
     },
     "execution_count": 7,
     "metadata": {},
     "output_type": "execute_result"
    }
   ],
   "source": [
    "%viz --style=\"COMPTREE\" --view=\"Sequence\" \"AliasTest\""
   ]
  },
  {
   "cell_type": "code",
   "execution_count": 8,
   "id": "d3d964f8",
   "metadata": {
    "execution": {
     "iopub.execute_input": "2021-09-27T07:19:08.224933Z",
     "iopub.status.busy": "2021-09-27T07:19:08.224508Z",
     "iopub.status.idle": "2021-09-27T07:19:08.321537Z",
     "shell.execute_reply": "2021-09-27T07:19:08.321252Z"
    }
   },
   "outputs": [
    {
     "data": {
      "image/svg+xml": [
       "<?xml version=\"1.0\" encoding=\"UTF-8\" standalone=\"no\"?><svg xmlns=\"http://www.w3.org/2000/svg\" xmlns:xlink=\"http://www.w3.org/1999/xlink\" contentScriptType=\"application/ecmascript\" contentStyleType=\"text/css\" height=\"399px\" preserveAspectRatio=\"none\" style=\"width:350px;height:399px;\" version=\"1.1\" viewBox=\"0 0 350 399\" width=\"350px\" zoomAndPan=\"magnify\"><defs/><g><!--MD5=[fbc87193dbaf4d95561dea2c320d4a47]\n",
       "cluster E1--><a href=\"psysml:abede473-ce86-4cf2-9b0f-bcad92dda7df\" target=\"_top\" title=\"psysml:abede473-ce86-4cf2-9b0f-bcad92dda7df\" xlink:actuate=\"onRequest\" xlink:href=\"psysml:abede473-ce86-4cf2-9b0f-bcad92dda7df\" xlink:show=\"new\" xlink:title=\"psysml:abede473-ce86-4cf2-9b0f-bcad92dda7df\" xlink:type=\"simple\"><polygon fill=\"#FFFFFF\" points=\"16,6,84,6,91,28.2969,328,28.2969,328,387,16,387,16,6\" style=\"stroke: #000000; stroke-width: 1.5;\"/><line style=\"stroke: #000000; stroke-width: 1.5;\" x1=\"16\" x2=\"91\" y1=\"28.2969\" y2=\"28.2969\"/><text fill=\"#000000\" font-family=\"sans-serif\" font-size=\"14\" font-weight=\"bold\" lengthAdjust=\"spacingAndGlyphs\" textLength=\"62\" x=\"20\" y=\"20.9951\">AliasTest</text></a><!--MD5=[b4997ac47864f28c2f74865a473b2911]\n",
       "class E2--><a href=\"psysml:84563fde-fc3c-4caa-a0d2-03a4409edda3\" target=\"_top\" title=\"psysml:84563fde-fc3c-4caa-a0d2-03a4409edda3\" xlink:actuate=\"onRequest\" xlink:href=\"psysml:84563fde-fc3c-4caa-a0d2-03a4409edda3\" xlink:show=\"new\" xlink:title=\"psysml:84563fde-fc3c-4caa-a0d2-03a4409edda3\" xlink:type=\"simple\"><rect fill=\"#FFFFFF\" height=\"45.9375\" id=\"E2\" rx=\"10\" ry=\"10\" style=\"stroke: #383838; stroke-width: 1.5;\" width=\"71\" x=\"240.5\" y=\"62\"/><text fill=\"#000000\" font-family=\"sans-serif\" font-size=\"12\" font-style=\"italic\" lengthAdjust=\"spacingAndGlyphs\" textLength=\"69\" x=\"241.5\" y=\"78.1387\">«attribute»</text><text fill=\"#000000\" font-family=\"sans-serif\" font-size=\"12\" lengthAdjust=\"spacingAndGlyphs\" textLength=\"8\" x=\"272\" y=\"92.1074\">q</text><line style=\"stroke: #383838; stroke-width: 1.5;\" x1=\"241.5\" x2=\"310.5\" y1=\"99.9375\" y2=\"99.9375\"/></a><!--MD5=[09b614a08d8cba4a07c9adeb5e0fee81]\n",
       "class E3--><a href=\"psysml:f240402e-e520-4bd4-a2fa-a40388aadc9d\" target=\"_top\" title=\"psysml:f240402e-e520-4bd4-a2fa-a40388aadc9d\" xlink:actuate=\"onRequest\" xlink:href=\"psysml:f240402e-e520-4bd4-a2fa-a40388aadc9d\" xlink:show=\"new\" xlink:title=\"psysml:f240402e-e520-4bd4-a2fa-a40388aadc9d\" xlink:type=\"simple\"><rect fill=\"#FFFFFF\" height=\"75.5469\" id=\"E3\" style=\"stroke: #383838; stroke-width: 1.5;\" width=\"66\" x=\"118\" y=\"189\"/><text fill=\"#000000\" font-family=\"sans-serif\" font-size=\"12\" font-style=\"italic\" lengthAdjust=\"spacingAndGlyphs\" textLength=\"64\" x=\"119\" y=\"205.1387\">«part def»</text><text fill=\"#000000\" font-family=\"sans-serif\" font-size=\"12\" lengthAdjust=\"spacingAndGlyphs\" textLength=\"16\" x=\"143\" y=\"219.1074\">P1</text><line style=\"stroke: #383838; stroke-width: 1.5;\" x1=\"119\" x2=\"183\" y1=\"226.9375\" y2=\"226.9375\"/><text fill=\"#000000\" font-family=\"sans-serif\" font-size=\"11\" lengthAdjust=\"spacingAndGlyphs\" textLength=\"36\" x=\"124\" y=\"257.9526\">porig1</text><line style=\"stroke: #383838; stroke-width: 1.0;\" x1=\"119\" x2=\"136\" y1=\"241.3398\" y2=\"241.3398\"/><text fill=\"#000000\" font-family=\"sans-serif\" font-size=\"11\" lengthAdjust=\"spacingAndGlyphs\" textLength=\"30\" x=\"136\" y=\"244.6479\">ports</text><line style=\"stroke: #383838; stroke-width: 1.0;\" x1=\"166\" x2=\"183\" y1=\"241.3398\" y2=\"241.3398\"/></a><!--MD5=[ebbe1d658d1005bcc118a6aa81145e00]\n",
       "class E4--><a href=\"psysml:fb61bd91-52ec-4d42-be8a-ef485ce794d8\" target=\"_top\" title=\"psysml:fb61bd91-52ec-4d42-be8a-ef485ce794d8\" xlink:actuate=\"onRequest\" xlink:href=\"psysml:fb61bd91-52ec-4d42-be8a-ef485ce794d8\" xlink:show=\"new\" xlink:title=\"psysml:fb61bd91-52ec-4d42-be8a-ef485ce794d8\" xlink:type=\"simple\"><rect fill=\"#FFFFFF\" height=\"45.9375\" id=\"E4\" rx=\"10\" ry=\"10\" style=\"stroke: #383838; stroke-width: 1.5;\" width=\"46\" x=\"128\" y=\"325\"/><text fill=\"#000000\" font-family=\"sans-serif\" font-size=\"12\" font-style=\"italic\" lengthAdjust=\"spacingAndGlyphs\" textLength=\"40\" x=\"131\" y=\"341.1387\">«port»</text><text fill=\"#000000\" font-family=\"sans-serif\" font-size=\"12\" lengthAdjust=\"spacingAndGlyphs\" textLength=\"40\" x=\"131\" y=\"355.1074\">porig1</text><line style=\"stroke: #383838; stroke-width: 1.5;\" x1=\"129\" x2=\"173\" y1=\"362.9375\" y2=\"362.9375\"/></a><!--MD5=[270fce915f116d4de14055a7c1d9a0f3]\n",
       "class E5--><a href=\"psysml:66a2f39c-c11d-47e1-a04e-46a9b54c38c0\" target=\"_top\" title=\"psysml:66a2f39c-c11d-47e1-a04e-46a9b54c38c0\" xlink:actuate=\"onRequest\" xlink:href=\"psysml:66a2f39c-c11d-47e1-a04e-46a9b54c38c0\" xlink:show=\"new\" xlink:title=\"psysml:66a2f39c-c11d-47e1-a04e-46a9b54c38c0\" xlink:type=\"simple\"><rect fill=\"#FFFFFF\" height=\"88.3516\" id=\"E5\" rx=\"10\" ry=\"10\" style=\"stroke: #383838; stroke-width: 1.5;\" width=\"92\" x=\"113\" y=\"41\"/><text fill=\"#000000\" font-family=\"sans-serif\" font-size=\"12\" font-style=\"italic\" lengthAdjust=\"spacingAndGlyphs\" textLength=\"40\" x=\"139\" y=\"57.1387\">«part»</text><text fill=\"#000000\" font-family=\"sans-serif\" font-size=\"12\" lengthAdjust=\"spacingAndGlyphs\" textLength=\"40\" x=\"139\" y=\"71.1074\">p1: P1</text><line style=\"stroke: #383838; stroke-width: 1.5;\" x1=\"114\" x2=\"204\" y1=\"78.9375\" y2=\"78.9375\"/><text fill=\"#000000\" font-family=\"sans-serif\" font-size=\"11\" lengthAdjust=\"spacingAndGlyphs\" textLength=\"30\" x=\"119\" y=\"109.9526\">^po1</text><text fill=\"#000000\" font-family=\"sans-serif\" font-size=\"11\" font-style=\"italic\" lengthAdjust=\"spacingAndGlyphs\" textLength=\"80\" x=\"119\" y=\"122.7573\">:&gt;&gt;P1::porig1</text><line style=\"stroke: #383838; stroke-width: 1.0;\" x1=\"114\" x2=\"144\" y1=\"93.3398\" y2=\"93.3398\"/><text fill=\"#000000\" font-family=\"sans-serif\" font-size=\"11\" lengthAdjust=\"spacingAndGlyphs\" textLength=\"30\" x=\"144\" y=\"96.6479\">ports</text><line style=\"stroke: #383838; stroke-width: 1.0;\" x1=\"174\" x2=\"204\" y1=\"93.3398\" y2=\"93.3398\"/></a><!--MD5=[60a26617385b1d2d0262a64233df1f8d]\n",
       "class E6--><a href=\"psysml:d750b59a-5fb4-49de-a141-6edbceed9fe9\" target=\"_top\" title=\"psysml:d750b59a-5fb4-49de-a141-6edbceed9fe9\" xlink:actuate=\"onRequest\" xlink:href=\"psysml:d750b59a-5fb4-49de-a141-6edbceed9fe9\" xlink:show=\"new\" xlink:title=\"psysml:d750b59a-5fb4-49de-a141-6edbceed9fe9\" xlink:type=\"simple\"><rect fill=\"#FFFFFF\" height=\"75.5469\" id=\"E6\" rx=\"10\" ry=\"10\" style=\"stroke: #383838; stroke-width: 1.5;\" width=\"46\" x=\"32\" y=\"47\"/><text fill=\"#000000\" font-family=\"sans-serif\" font-size=\"12\" font-style=\"italic\" lengthAdjust=\"spacingAndGlyphs\" textLength=\"40\" x=\"35\" y=\"63.1387\">«part»</text><text fill=\"#000000\" font-family=\"sans-serif\" font-size=\"12\" lengthAdjust=\"spacingAndGlyphs\" textLength=\"40\" x=\"35\" y=\"77.1074\">p2: P1</text><line style=\"stroke: #383838; stroke-width: 1.5;\" x1=\"33\" x2=\"77\" y1=\"84.9375\" y2=\"84.9375\"/><text fill=\"#000000\" font-family=\"sans-serif\" font-size=\"11\" lengthAdjust=\"spacingAndGlyphs\" textLength=\"32\" x=\"38\" y=\"115.9526\">pdest</text><line style=\"stroke: #383838; stroke-width: 1.0;\" x1=\"33\" x2=\"40\" y1=\"99.3398\" y2=\"99.3398\"/><text fill=\"#000000\" font-family=\"sans-serif\" font-size=\"11\" lengthAdjust=\"spacingAndGlyphs\" textLength=\"30\" x=\"40\" y=\"102.6479\">ports</text><line style=\"stroke: #383838; stroke-width: 1.0;\" x1=\"70\" x2=\"77\" y1=\"99.3398\" y2=\"99.3398\"/></a><!--MD5=[2156ba9850f5573cc1fc38a6a4b2f02b]\n",
       "class E7--><a href=\"psysml:1ab4a2c7-e640-4092-b309-d8474ba4cc31\" target=\"_top\" title=\"psysml:1ab4a2c7-e640-4092-b309-d8474ba4cc31\" xlink:actuate=\"onRequest\" xlink:href=\"psysml:1ab4a2c7-e640-4092-b309-d8474ba4cc31\" xlink:show=\"new\" xlink:title=\"psysml:1ab4a2c7-e640-4092-b309-d8474ba4cc31\" xlink:type=\"simple\"><rect fill=\"#FFFFFF\" height=\"45.9375\" id=\"E7\" rx=\"10\" ry=\"10\" style=\"stroke: #383838; stroke-width: 1.5;\" width=\"42\" x=\"34\" y=\"204\"/><text fill=\"#000000\" font-family=\"sans-serif\" font-size=\"12\" font-style=\"italic\" lengthAdjust=\"spacingAndGlyphs\" textLength=\"40\" x=\"35\" y=\"220.1387\">«port»</text><text fill=\"#000000\" font-family=\"sans-serif\" font-size=\"12\" lengthAdjust=\"spacingAndGlyphs\" textLength=\"36\" x=\"37\" y=\"234.1074\">pdest</text><line style=\"stroke: #383838; stroke-width: 1.5;\" x1=\"35\" x2=\"75\" y1=\"241.9375\" y2=\"241.9375\"/></a><!--MD5=[4672eba38e49728da53d11aeb285b987]\n",
       "reverse link E3 to E4--><a href=\"psysml:b116cd08-9727-4fd8-b1d3-1b9f6deb041c\" target=\"_top\" title=\"psysml:b116cd08-9727-4fd8-b1d3-1b9f6deb041c\" xlink:actuate=\"onRequest\" xlink:href=\"psysml:b116cd08-9727-4fd8-b1d3-1b9f6deb041c\" xlink:show=\"new\" xlink:title=\"psysml:b116cd08-9727-4fd8-b1d3-1b9f6deb041c\" xlink:type=\"simple\"><path d=\"M151,280.29 C151,295.98 151,312.34 151,324.93 \" fill=\"none\" id=\"E3&lt;-E4\" style=\"stroke: #383838; stroke-width: 1.0; stroke-dasharray: 7.0,7.0;\"/><ellipse cx=\"151\" cy=\"273\" fill=\"#FFFFFF\" rx=\"8\" ry=\"8\" style=\"stroke: #383838; stroke-width: 1.0;\"/><line style=\"stroke: #383838; stroke-width: 1.0;\" x1=\"151\" x2=\"151\" y1=\"281\" y2=\"265\"/><line style=\"stroke: #383838; stroke-width: 1.0;\" x1=\"143\" x2=\"159\" y1=\"273\" y2=\"273\"/><text fill=\"#000000\" font-family=\"sans-serif\" font-size=\"13\" lengthAdjust=\"spacingAndGlyphs\" textLength=\"8\" x=\"141.925\" y=\"313.8075\">1</text></a><!--MD5=[e9be52314489bd878ff4c7144b63c9e1]\n",
       "link E5 to E3--><a href=\"psysml:b60c9595-85bf-4c72-aa43-c7c5a3162c28\" target=\"_top\" title=\"psysml:b60c9595-85bf-4c72-aa43-c7c5a3162c28\" xlink:actuate=\"onRequest\" xlink:href=\"psysml:b60c9595-85bf-4c72-aa43-c7c5a3162c28\" xlink:show=\"new\" xlink:title=\"psysml:b60c9595-85bf-4c72-aa43-c7c5a3162c28\" xlink:type=\"simple\"><path d=\"M156.53,129.15 C155.82,141.7 155.02,155.6 154.26,168.87 \" fill=\"none\" id=\"E5-&gt;E3\" style=\"stroke: #383838; stroke-width: 1.0;\"/><polygon fill=\"#FFFFFF\" points=\"153.12,188.9,147.2169,169.5311,161.1941,170.331,153.12,188.9\" style=\"stroke: #383838; stroke-width: 1.0;\"/><ellipse cx=\"149.5393\" cy=\"163.9547\" fill=\"#383838\" rx=\"2\" ry=\"2\" style=\"stroke: #383838; stroke-width: 1.0;\"/><ellipse cx=\"159.523\" cy=\"164.526\" fill=\"#383838\" rx=\"2\" ry=\"2\" style=\"stroke: #383838; stroke-width: 1.0;\"/></a><!--MD5=[a717450b82c80b9240a525fa862496af]\n",
       "link E6 to E3--><a href=\"psysml:8fc3f931-75e6-473d-9c07-27a38ec18c6d\" target=\"_top\" title=\"psysml:8fc3f931-75e6-473d-9c07-27a38ec18c6d\" xlink:actuate=\"onRequest\" xlink:href=\"psysml:8fc3f931-75e6-473d-9c07-27a38ec18c6d\" xlink:show=\"new\" xlink:title=\"psysml:8fc3f931-75e6-473d-9c07-27a38ec18c6d\" xlink:type=\"simple\"><path d=\"M78.24,119.89 C89.03,135.63 102.13,154.73 114.21,172.35 \" fill=\"none\" id=\"E6-&gt;E3\" style=\"stroke: #383838; stroke-width: 1.0;\"/><polygon fill=\"#FFFFFF\" points=\"125.62,188.98,109.1019,177.2689,120.6481,169.3515,125.62,188.98\" style=\"stroke: #383838; stroke-width: 1.0;\"/><ellipse cx=\"107.5278\" cy=\"171.4368\" fill=\"#383838\" rx=\"2\" ry=\"2\" style=\"stroke: #383838; stroke-width: 1.0;\"/><ellipse cx=\"115.7751\" cy=\"165.7816\" fill=\"#383838\" rx=\"2\" ry=\"2\" style=\"stroke: #383838; stroke-width: 1.0;\"/></a><!--MD5=[3f50a3473f1dfb74d3f76443e03635af]\n",
       "reverse link E6 to E7--><a href=\"psysml:346ab8ae-1d2f-462f-a94e-fae0b61189bf\" target=\"_top\" title=\"psysml:346ab8ae-1d2f-462f-a94e-fae0b61189bf\" xlink:actuate=\"onRequest\" xlink:href=\"psysml:346ab8ae-1d2f-462f-a94e-fae0b61189bf\" xlink:show=\"new\" xlink:title=\"psysml:346ab8ae-1d2f-462f-a94e-fae0b61189bf\" xlink:type=\"simple\"><path d=\"M55,138.32 C55,161.03 55,186.4 55,203.99 \" fill=\"none\" id=\"E6&lt;-E7\" style=\"stroke: #383838; stroke-width: 1.0; stroke-dasharray: 7.0,7.0;\"/><ellipse cx=\"55\" cy=\"131.15\" fill=\"#FFFFFF\" rx=\"8\" ry=\"8\" style=\"stroke: #383838; stroke-width: 1.0;\"/><line style=\"stroke: #383838; stroke-width: 1.0;\" x1=\"55\" x2=\"55\" y1=\"139.15\" y2=\"123.15\"/><line style=\"stroke: #383838; stroke-width: 1.0;\" x1=\"47\" x2=\"63\" y1=\"131.15\" y2=\"131.15\"/><text fill=\"#000000\" font-family=\"sans-serif\" font-size=\"13\" lengthAdjust=\"spacingAndGlyphs\" textLength=\"8\" x=\"45.925\" y=\"192.8836\">1</text></a><!--MD5=[9ed9a0e635374709a55292dfd967e360]\n",
       "@startuml\r\n",
       " skinparam monochrome true\r\n",
       "skinparam classbackgroundcolor white\r\n",
       "skinparam shadowing false\r\n",
       "skinparam wrapWidth 300\r\n",
       "hide circle\r\n",
       "\r\n",
       "package \"AliasTest\" as E1  [[psysml:abede473-ce86-4cf2-9b0f-bcad92dda7df ]]  {\r\n",
       "comp usage \"q\" as E2  <<(T,blue) attribute>> [[psysml:84563fde-fc3c-4caa-a0d2-03a4409edda3 ]] {\r\n",
       "}\r\n",
       "comp def \"P1\" as E3  <<(T,blue) part def>> [[psysml:f240402e-e520-4bd4-a2fa-a40388aadc9d ]] {\r\n",
       "- - ports - -\r\n",
       "porig1\r\n",
       "}\r\n",
       "comp usage \"porig1\" as E4  <<(T,blue) port>> [[psysml:fb61bd91-52ec-4d42-be8a-ef485ce794d8 ]] {\r\n",
       "}\r\n",
       "comp usage \"p1: P1\" as E5  <<(T,blue) part>> [[psysml:66a2f39c-c11d-47e1-a04e-46a9b54c38c0 ]] {\r\n",
       "- - ports - -\r\n",
       "^po1\\n//:>>P1::porig1// \r\n",
       "}\r\n",
       "comp usage \"p2: P1\" as E6  <<(T,blue) part>> [[psysml:d750b59a-5fb4-49de-a141-6edbceed9fe9 ]] {\r\n",
       "- - ports - -\r\n",
       "pdest\r\n",
       "}\r\n",
       "comp usage \"pdest\" as E7  <<(T,blue) port>> [[psysml:1ab4a2c7-e640-4092-b309-d8474ba4cc31 ]] {\r\n",
       "}\r\n",
       "}\r\n",
       "E3 +.. \"1\"E4 [[psysml:b116cd08-9727-4fd8-b1d3-1b9f6deb041c ]] \r\n",
       "E5 - -:|> E3 [[psysml:b60c9595-85bf-4c72-aa43-c7c5a3162c28 ]] \r\n",
       "E6 - -:|> E3 [[psysml:8fc3f931-75e6-473d-9c07-27a38ec18c6d ]] \r\n",
       "E6 +.. \"1\"E7 [[psysml:346ab8ae-1d2f-462f-a94e-fae0b61189bf ]] \r\n",
       "@enduml\r\n",
       "\n",
       "PlantUML version 1.2020.13(Sat Jun 13 12:26:38 UTC 2020)\n",
       "(EPL source distribution)\n",
       "Java Runtime: OpenJDK Runtime Environment\n",
       "JVM: OpenJDK 64-Bit Server VM\n",
       "Default Encoding: UTF-8\n",
       "Language: en\n",
       "Country: null\n",
       "--></g></svg>"
      ]
     },
     "execution_count": 8,
     "metadata": {},
     "output_type": "execute_result"
    }
   ],
   "source": [
    "%viz --style=\"COMPTREE\" --view=\"MIXED\" \"AliasTest\""
   ]
  },
  {
   "cell_type": "code",
   "execution_count": 9,
   "id": "d6889e01",
   "metadata": {
    "execution": {
     "iopub.execute_input": "2021-09-27T07:19:08.371111Z",
     "iopub.status.busy": "2021-09-27T07:19:08.370845Z",
     "iopub.status.idle": "2021-09-27T07:19:08.414318Z",
     "shell.execute_reply": "2021-09-27T07:19:08.412395Z"
    }
   },
   "outputs": [
    {
     "data": {
      "image/svg+xml": [
       "<?xml version=\"1.0\" encoding=\"UTF-8\" standalone=\"no\"?><svg xmlns=\"http://www.w3.org/2000/svg\" xmlns:xlink=\"http://www.w3.org/1999/xlink\" contentScriptType=\"application/ecmascript\" contentStyleType=\"text/css\" height=\"327px\" preserveAspectRatio=\"none\" style=\"width:304px;height:327px;\" version=\"1.1\" viewBox=\"0 0 304 327\" width=\"304px\" zoomAndPan=\"magnify\"><defs/><g><!--MD5=[fbc87193dbaf4d95561dea2c320d4a47]\n",
       "cluster E1--><a href=\"psysml:abede473-ce86-4cf2-9b0f-bcad92dda7df\" target=\"_top\" title=\"psysml:abede473-ce86-4cf2-9b0f-bcad92dda7df\" xlink:actuate=\"onRequest\" xlink:href=\"psysml:abede473-ce86-4cf2-9b0f-bcad92dda7df\" xlink:show=\"new\" xlink:title=\"psysml:abede473-ce86-4cf2-9b0f-bcad92dda7df\" xlink:type=\"simple\"><polygon fill=\"#FFFFFF\" points=\"16,6,84,6,91,28.2969,282,28.2969,282,315,16,315,16,6\" style=\"stroke: #000000; stroke-width: 1.5;\"/><line style=\"stroke: #000000; stroke-width: 1.5;\" x1=\"16\" x2=\"91\" y1=\"28.2969\" y2=\"28.2969\"/><text fill=\"#000000\" font-family=\"sans-serif\" font-size=\"14\" font-weight=\"bold\" lengthAdjust=\"spacingAndGlyphs\" textLength=\"62\" x=\"20\" y=\"20.9951\">AliasTest</text></a><!--MD5=[b4997ac47864f28c2f74865a473b2911]\n",
       "class E2--><a href=\"psysml:84563fde-fc3c-4caa-a0d2-03a4409edda3\" target=\"_top\" title=\"psysml:84563fde-fc3c-4caa-a0d2-03a4409edda3\" xlink:actuate=\"onRequest\" xlink:href=\"psysml:84563fde-fc3c-4caa-a0d2-03a4409edda3\" xlink:show=\"new\" xlink:title=\"psysml:84563fde-fc3c-4caa-a0d2-03a4409edda3\" xlink:type=\"simple\"><rect fill=\"#FFFFFF\" height=\"45.9375\" id=\"E2\" rx=\"10\" ry=\"10\" style=\"stroke: #383838; stroke-width: 1.5;\" width=\"71\" x=\"194.5\" y=\"41\"/><text fill=\"#000000\" font-family=\"sans-serif\" font-size=\"12\" font-style=\"italic\" lengthAdjust=\"spacingAndGlyphs\" textLength=\"69\" x=\"195.5\" y=\"57.1387\">«attribute»</text><text fill=\"#000000\" font-family=\"sans-serif\" font-size=\"12\" lengthAdjust=\"spacingAndGlyphs\" textLength=\"8\" x=\"226\" y=\"71.1074\">q</text><line style=\"stroke: #383838; stroke-width: 1.5;\" x1=\"195.5\" x2=\"264.5\" y1=\"78.9375\" y2=\"78.9375\"/></a><!--MD5=[09b614a08d8cba4a07c9adeb5e0fee81]\n",
       "class E3--><a href=\"psysml:f240402e-e520-4bd4-a2fa-a40388aadc9d\" target=\"_top\" title=\"psysml:f240402e-e520-4bd4-a2fa-a40388aadc9d\" xlink:actuate=\"onRequest\" xlink:href=\"psysml:f240402e-e520-4bd4-a2fa-a40388aadc9d\" xlink:show=\"new\" xlink:title=\"psysml:f240402e-e520-4bd4-a2fa-a40388aadc9d\" xlink:type=\"simple\"><rect fill=\"#FFFFFF\" height=\"45.9375\" id=\"E3\" style=\"stroke: #383838; stroke-width: 1.5;\" width=\"66\" x=\"168\" y=\"147\"/><text fill=\"#000000\" font-family=\"sans-serif\" font-size=\"12\" font-style=\"italic\" lengthAdjust=\"spacingAndGlyphs\" textLength=\"64\" x=\"169\" y=\"163.1387\">«part def»</text><text fill=\"#000000\" font-family=\"sans-serif\" font-size=\"12\" lengthAdjust=\"spacingAndGlyphs\" textLength=\"16\" x=\"193\" y=\"177.1074\">P1</text><line style=\"stroke: #383838; stroke-width: 1.5;\" x1=\"169\" x2=\"233\" y1=\"184.9375\" y2=\"184.9375\"/></a><!--MD5=[ebbe1d658d1005bcc118a6aa81145e00]\n",
       "class E4--><a href=\"psysml:fb61bd91-52ec-4d42-be8a-ef485ce794d8\" target=\"_top\" title=\"psysml:fb61bd91-52ec-4d42-be8a-ef485ce794d8\" xlink:actuate=\"onRequest\" xlink:href=\"psysml:fb61bd91-52ec-4d42-be8a-ef485ce794d8\" xlink:show=\"new\" xlink:title=\"psysml:fb61bd91-52ec-4d42-be8a-ef485ce794d8\" xlink:type=\"simple\"><rect fill=\"#FFFFFF\" height=\"45.9375\" id=\"E4\" rx=\"10\" ry=\"10\" style=\"stroke: #383838; stroke-width: 1.5;\" width=\"46\" x=\"178\" y=\"253\"/><text fill=\"#000000\" font-family=\"sans-serif\" font-size=\"12\" font-style=\"italic\" lengthAdjust=\"spacingAndGlyphs\" textLength=\"40\" x=\"181\" y=\"269.1387\">«port»</text><text fill=\"#000000\" font-family=\"sans-serif\" font-size=\"12\" lengthAdjust=\"spacingAndGlyphs\" textLength=\"40\" x=\"181\" y=\"283.1074\">porig1</text><line style=\"stroke: #383838; stroke-width: 1.5;\" x1=\"179\" x2=\"223\" y1=\"290.9375\" y2=\"290.9375\"/></a><!--MD5=[270fce915f116d4de14055a7c1d9a0f3]\n",
       "class E5--><a href=\"psysml:66a2f39c-c11d-47e1-a04e-46a9b54c38c0\" target=\"_top\" title=\"psysml:66a2f39c-c11d-47e1-a04e-46a9b54c38c0\" xlink:actuate=\"onRequest\" xlink:href=\"psysml:66a2f39c-c11d-47e1-a04e-46a9b54c38c0\" xlink:show=\"new\" xlink:title=\"psysml:66a2f39c-c11d-47e1-a04e-46a9b54c38c0\" xlink:type=\"simple\"><rect fill=\"#FFFFFF\" height=\"45.9375\" id=\"E5\" rx=\"10\" ry=\"10\" style=\"stroke: #383838; stroke-width: 1.5;\" width=\"46\" x=\"113\" y=\"41\"/><text fill=\"#000000\" font-family=\"sans-serif\" font-size=\"12\" font-style=\"italic\" lengthAdjust=\"spacingAndGlyphs\" textLength=\"40\" x=\"116\" y=\"57.1387\">«part»</text><text fill=\"#000000\" font-family=\"sans-serif\" font-size=\"12\" lengthAdjust=\"spacingAndGlyphs\" textLength=\"40\" x=\"116\" y=\"71.1074\">p1: P1</text><line style=\"stroke: #383838; stroke-width: 1.5;\" x1=\"114\" x2=\"158\" y1=\"78.9375\" y2=\"78.9375\"/></a><!--MD5=[60a26617385b1d2d0262a64233df1f8d]\n",
       "class E6--><a href=\"psysml:1cf4d29b-7212-465e-9bfc-2d9d3c47093a\" target=\"_top\" title=\"psysml:1cf4d29b-7212-465e-9bfc-2d9d3c47093a\" xlink:actuate=\"onRequest\" xlink:href=\"psysml:1cf4d29b-7212-465e-9bfc-2d9d3c47093a\" xlink:show=\"new\" xlink:title=\"psysml:1cf4d29b-7212-465e-9bfc-2d9d3c47093a\" xlink:type=\"simple\"><rect fill=\"#FFFFFF\" height=\"45.9375\" id=\"E6\" rx=\"10\" ry=\"10\" style=\"stroke: #383838; stroke-width: 1.5;\" width=\"42\" x=\"91\" y=\"147\"/><text fill=\"#000000\" font-family=\"sans-serif\" font-size=\"12\" font-style=\"italic\" lengthAdjust=\"spacingAndGlyphs\" textLength=\"40\" x=\"92\" y=\"163.1387\">«port»</text><text fill=\"#000000\" font-family=\"sans-serif\" font-size=\"12\" lengthAdjust=\"spacingAndGlyphs\" textLength=\"24\" x=\"100\" y=\"177.1074\">po1</text><line style=\"stroke: #383838; stroke-width: 1.5;\" x1=\"92\" x2=\"132\" y1=\"184.9375\" y2=\"184.9375\"/></a><!--MD5=[2156ba9850f5573cc1fc38a6a4b2f02b]\n",
       "class E7--><a href=\"psysml:d750b59a-5fb4-49de-a141-6edbceed9fe9\" target=\"_top\" title=\"psysml:d750b59a-5fb4-49de-a141-6edbceed9fe9\" xlink:actuate=\"onRequest\" xlink:href=\"psysml:d750b59a-5fb4-49de-a141-6edbceed9fe9\" xlink:show=\"new\" xlink:title=\"psysml:d750b59a-5fb4-49de-a141-6edbceed9fe9\" xlink:type=\"simple\"><rect fill=\"#FFFFFF\" height=\"45.9375\" id=\"E7\" rx=\"10\" ry=\"10\" style=\"stroke: #383838; stroke-width: 1.5;\" width=\"46\" x=\"32\" y=\"41\"/><text fill=\"#000000\" font-family=\"sans-serif\" font-size=\"12\" font-style=\"italic\" lengthAdjust=\"spacingAndGlyphs\" textLength=\"40\" x=\"35\" y=\"57.1387\">«part»</text><text fill=\"#000000\" font-family=\"sans-serif\" font-size=\"12\" lengthAdjust=\"spacingAndGlyphs\" textLength=\"40\" x=\"35\" y=\"71.1074\">p2: P1</text><line style=\"stroke: #383838; stroke-width: 1.5;\" x1=\"33\" x2=\"77\" y1=\"78.9375\" y2=\"78.9375\"/></a><!--MD5=[b9389687b975829384b498ac4b7476b2]\n",
       "class E8--><a href=\"psysml:1ab4a2c7-e640-4092-b309-d8474ba4cc31\" target=\"_top\" title=\"psysml:1ab4a2c7-e640-4092-b309-d8474ba4cc31\" xlink:actuate=\"onRequest\" xlink:href=\"psysml:1ab4a2c7-e640-4092-b309-d8474ba4cc31\" xlink:show=\"new\" xlink:title=\"psysml:1ab4a2c7-e640-4092-b309-d8474ba4cc31\" xlink:type=\"simple\"><rect fill=\"#FFFFFF\" height=\"45.9375\" id=\"E8\" rx=\"10\" ry=\"10\" style=\"stroke: #383838; stroke-width: 1.5;\" width=\"42\" x=\"63\" y=\"253\"/><text fill=\"#000000\" font-family=\"sans-serif\" font-size=\"12\" font-style=\"italic\" lengthAdjust=\"spacingAndGlyphs\" textLength=\"40\" x=\"64\" y=\"269.1387\">«port»</text><text fill=\"#000000\" font-family=\"sans-serif\" font-size=\"12\" lengthAdjust=\"spacingAndGlyphs\" textLength=\"36\" x=\"66\" y=\"283.1074\">pdest</text><line style=\"stroke: #383838; stroke-width: 1.5;\" x1=\"64\" x2=\"104\" y1=\"290.9375\" y2=\"290.9375\"/></a><!--MD5=[4672eba38e49728da53d11aeb285b987]\n",
       "reverse link E3 to E4--><a href=\"psysml:b0a1a3b9-a387-42d1-a567-e540cd2e1d19\" target=\"_top\" title=\"psysml:b0a1a3b9-a387-42d1-a567-e540cd2e1d19\" xlink:actuate=\"onRequest\" xlink:href=\"psysml:b0a1a3b9-a387-42d1-a567-e540cd2e1d19\" xlink:show=\"new\" xlink:title=\"psysml:b0a1a3b9-a387-42d1-a567-e540cd2e1d19\" xlink:type=\"simple\"><path d=\"M188.84,206.44 C187.7,221.87 188.21,239.47 190.36,252.98 \" fill=\"none\" id=\"E3&lt;-E4\" style=\"stroke: #383838; stroke-width: 1.0;\"/><polygon fill=\"#FFFFFF\" points=\"190.35,193.06,185.7032,198.5743,189.006,204.9845,193.6528,199.4702,190.35,193.06\" style=\"stroke: #383838; stroke-width: 1.0;\"/><text fill=\"#000000\" font-family=\"sans-serif\" font-size=\"13\" lengthAdjust=\"spacingAndGlyphs\" textLength=\"8\" x=\"178.4255\" y=\"241.8709\">1</text></a><!--MD5=[4672eba38e49728da53d11aeb285b987]\n",
       "reverse link E3 to E4--><a href=\"psysml:b116cd08-9727-4fd8-b1d3-1b9f6deb041c\" target=\"_top\" title=\"psysml:b116cd08-9727-4fd8-b1d3-1b9f6deb041c\" xlink:actuate=\"onRequest\" xlink:href=\"psysml:b116cd08-9727-4fd8-b1d3-1b9f6deb041c\" xlink:show=\"new\" xlink:title=\"psysml:b116cd08-9727-4fd8-b1d3-1b9f6deb041c\" xlink:type=\"simple\"><path d=\"M214.01,208.34 C215.03,223.3 214.45,240.02 212.27,252.98 \" fill=\"none\" id=\"E3&lt;-E4-1\" style=\"stroke: #383838; stroke-width: 1.0; stroke-dasharray: 7.0,7.0;\"/><ellipse cx=\"213.1693\" cy=\"201.0093\" fill=\"#FFFFFF\" rx=\"8\" ry=\"8\" style=\"stroke: #383838; stroke-width: 1.0;\"/><line style=\"stroke: #383838; stroke-width: 1.0;\" x1=\"214.0687\" x2=\"212.27\" y1=\"208.9586\" y2=\"193.06\"/><line style=\"stroke: #383838; stroke-width: 1.0;\" x1=\"205.2201\" x2=\"221.1186\" y1=\"201.9086\" y2=\"200.1099\"/><text fill=\"#000000\" font-family=\"sans-serif\" font-size=\"13\" lengthAdjust=\"spacingAndGlyphs\" textLength=\"8\" x=\"206.2238\" y=\"241.8709\">1</text></a><!--MD5=[e9be52314489bd878ff4c7144b63c9e1]\n",
       "link E5 to E3--><a href=\"psysml:b60c9595-85bf-4c72-aa43-c7c5a3162c28\" target=\"_top\" title=\"psysml:b60c9595-85bf-4c72-aa43-c7c5a3162c28\" xlink:actuate=\"onRequest\" xlink:href=\"psysml:b60c9595-85bf-4c72-aa43-c7c5a3162c28\" xlink:show=\"new\" xlink:title=\"psysml:b60c9595-85bf-4c72-aa43-c7c5a3162c28\" xlink:type=\"simple\"><path d=\"M149.78,87.06 C157.54,99.47 167.45,115.33 176.49,129.78 \" fill=\"none\" id=\"E5-&gt;E3\" style=\"stroke: #383838; stroke-width: 1.0;\"/><polygon fill=\"#FFFFFF\" points=\"187.24,146.98,171.2331,134.5792,183.1045,127.1584,187.24,146.98\" style=\"stroke: #383838; stroke-width: 1.0;\"/><ellipse cx=\"169.9076\" cy=\"128.6857\" fill=\"#383838\" rx=\"2\" ry=\"2\" style=\"stroke: #383838; stroke-width: 1.0;\"/><ellipse cx=\"178.3872\" cy=\"123.3851\" fill=\"#383838\" rx=\"2\" ry=\"2\" style=\"stroke: #383838; stroke-width: 1.0;\"/></a><!--MD5=[85d356282659285ab4b2cfe2f634dd2b]\n",
       "reverse link E5 to E6--><a href=\"psysml:5e5f570b-f88f-4e5d-bde6-a1031949a59c\" target=\"_top\" title=\"psysml:5e5f570b-f88f-4e5d-bde6-a1031949a59c\" xlink:actuate=\"onRequest\" xlink:href=\"psysml:5e5f570b-f88f-4e5d-bde6-a1031949a59c\" xlink:show=\"new\" xlink:title=\"psysml:5e5f570b-f88f-4e5d-bde6-a1031949a59c\" xlink:type=\"simple\"><path d=\"M127.93,99.96 C124.34,115.51 120.23,133.33 117.08,146.98 \" fill=\"none\" id=\"E5&lt;-E6\" style=\"stroke: #383838; stroke-width: 1.0;\"/><polygon fill=\"#FFFFFF\" points=\"130.91,87.06,125.6616,92.0052,128.2078,98.7518,133.4562,93.8066,130.91,87.06\" style=\"stroke: #383838; stroke-width: 1.0;\"/><text fill=\"#000000\" font-family=\"sans-serif\" font-size=\"13\" lengthAdjust=\"spacingAndGlyphs\" textLength=\"8\" x=\"109.3703\" y=\"135.8709\">1</text></a><!--MD5=[f667431f98296947986a1a7595a31603]\n",
       "link E6 to E4--><a href=\"psysml:ccd9da30-2bd5-4e38-bf20-b9f9621d2107\" target=\"_top\" title=\"psysml:ccd9da30-2bd5-4e38-bf20-b9f9621d2107\" xlink:actuate=\"onRequest\" xlink:href=\"psysml:ccd9da30-2bd5-4e38-bf20-b9f9621d2107\" xlink:show=\"new\" xlink:title=\"psysml:ccd9da30-2bd5-4e38-bf20-b9f9621d2107\" xlink:type=\"simple\"><path d=\"M130.87,193.06 C141.97,206.02 156.28,222.74 169.08,237.7 \" fill=\"none\" id=\"E6-&gt;E4\" style=\"stroke: #383838; stroke-width: 1.0;\"/><polygon fill=\"#FFFFFF\" points=\"182.15,252.98,164.4809,243.0905,175.1204,233.9909,182.15,252.98\" style=\"stroke: #383838; stroke-width: 1.0;\"/><line style=\"stroke: #383838; stroke-width: 2.0;\" x1=\"162.011\" x2=\"172.6505\" y1=\"240.2026\" y2=\"231.1031\"/></a><!--MD5=[14ccda38c055a5c0da953d572bc50960]\n",
       "link E7 to E3--><a href=\"psysml:8fc3f931-75e6-473d-9c07-27a38ec18c6d\" target=\"_top\" title=\"psysml:8fc3f931-75e6-473d-9c07-27a38ec18c6d\" xlink:actuate=\"onRequest\" xlink:href=\"psysml:8fc3f931-75e6-473d-9c07-27a38ec18c6d\" xlink:show=\"new\" xlink:title=\"psysml:8fc3f931-75e6-473d-9c07-27a38ec18c6d\" xlink:type=\"simple\"><path d=\"M78.13,81.48 C98.32,95.86 128.25,117.18 153.52,135.18 \" fill=\"none\" id=\"E7-&gt;E3\" style=\"stroke: #383838; stroke-width: 1.0;\"/><polygon fill=\"#FFFFFF\" points=\"170.09,146.98,150.5533,141.6586,158.6755,130.2555,170.09,146.98\" style=\"stroke: #383838; stroke-width: 1.0;\"/><ellipse cx=\"147.0709\" cy=\"136.7227\" fill=\"#383838\" rx=\"2\" ry=\"2\" style=\"stroke: #383838; stroke-width: 1.0;\"/><ellipse cx=\"152.8725\" cy=\"128.5776\" fill=\"#383838\" rx=\"2\" ry=\"2\" style=\"stroke: #383838; stroke-width: 1.0;\"/></a><!--MD5=[dc164f5e8a733ab456ef1add180e9e34]\n",
       "reverse link E7 to E8--><a href=\"psysml:36a32e90-a022-4c42-9b64-7c79f5d1d72c\" target=\"_top\" title=\"psysml:36a32e90-a022-4c42-9b64-7c79f5d1d72c\" xlink:actuate=\"onRequest\" xlink:href=\"psysml:36a32e90-a022-4c42-9b64-7c79f5d1d72c\" xlink:show=\"new\" xlink:title=\"psysml:36a32e90-a022-4c42-9b64-7c79f5d1d72c\" xlink:type=\"simple\"><path d=\"M50.05,100.09 C51.65,143.61 62.25,216.5 72.75,252.9 \" fill=\"none\" id=\"E7&lt;-E8\" style=\"stroke: #383838; stroke-width: 1.0;\"/><polygon fill=\"#FFFFFF\" points=\"49.85,87.08,45.9362,93.1366,50.0216,99.0788,53.9354,93.0222,49.85,87.08\" style=\"stroke: #383838; stroke-width: 1.0;\"/><text fill=\"#000000\" font-family=\"sans-serif\" font-size=\"13\" lengthAdjust=\"spacingAndGlyphs\" textLength=\"8\" x=\"60.6516\" y=\"241.7694\">1</text></a><!--MD5=[dc164f5e8a733ab456ef1add180e9e34]\n",
       "reverse link E7 to E8--><a href=\"psysml:346ab8ae-1d2f-462f-a94e-fae0b61189bf\" target=\"_top\" title=\"psysml:346ab8ae-1d2f-462f-a94e-fae0b61189bf\" xlink:actuate=\"onRequest\" xlink:href=\"psysml:346ab8ae-1d2f-462f-a94e-fae0b61189bf\" xlink:show=\"new\" xlink:title=\"psysml:346ab8ae-1d2f-462f-a94e-fae0b61189bf\" xlink:type=\"simple\"><path d=\"M70.64,101.8 C81.15,145.5 90.39,216.97 89.63,252.9 \" fill=\"none\" id=\"E7&lt;-E8-1\" style=\"stroke: #383838; stroke-width: 1.0; stroke-dasharray: 7.0,7.0;\"/><ellipse cx=\"68.7794\" cy=\"94.813\" fill=\"#FFFFFF\" rx=\"8\" ry=\"8\" style=\"stroke: #383838; stroke-width: 1.0;\"/><line style=\"stroke: #383838; stroke-width: 1.0;\" x1=\"70.8289\" x2=\"66.73\" y1=\"102.5461\" y2=\"87.08\"/><line style=\"stroke: #383838; stroke-width: 1.0;\" x1=\"61.0464\" x2=\"76.5125\" y1=\"96.8625\" y2=\"92.7636\"/><text fill=\"#000000\" font-family=\"sans-serif\" font-size=\"13\" lengthAdjust=\"spacingAndGlyphs\" textLength=\"8\" x=\"92.2181\" y=\"241.7694\">1</text></a><!--MD5=[0a839d0f80c2d72d4b9b307f046d0de8]\n",
       "link E6 to E8--><a href=\"psysml:eaab9895-3808-4b7e-ad70-425cb7403c1b\" target=\"_top\" title=\"psysml:eaab9895-3808-4b7e-ad70-425cb7403c1b\" xlink:actuate=\"onRequest\" xlink:href=\"psysml:eaab9895-3808-4b7e-ad70-425cb7403c1b\" xlink:show=\"new\" xlink:title=\"psysml:eaab9895-3808-4b7e-ad70-425cb7403c1b\" xlink:type=\"simple\"><path d=\"M95.42,193.06 C87.86,210.7 81.23,235.34 79.29,252.98 \" fill=\"none\" id=\"E6-E8\" style=\"stroke: #383838; stroke-width: 3.0;\"/><text fill=\"#000000\" font-family=\"sans-serif\" font-size=\"13\" lengthAdjust=\"spacingAndGlyphs\" textLength=\"7\" x=\"78.9648\" y=\"241.8709\">*</text></a><!--MD5=[0a839d0f80c2d72d4b9b307f046d0de8]\n",
       "link E6 to E8--><a href=\"psysml:18885de6-563e-4dd2-a418-c135b5ffccd4\" target=\"_top\" title=\"psysml:18885de6-563e-4dd2-a418-c135b5ffccd4\" xlink:actuate=\"onRequest\" xlink:href=\"psysml:18885de6-563e-4dd2-a418-c135b5ffccd4\" xlink:show=\"new\" xlink:title=\"psysml:18885de6-563e-4dd2-a418-c135b5ffccd4\" xlink:type=\"simple\"><path d=\"M117.33,193.06 C115.55,210.7 108.92,235.34 101.2,252.98 \" fill=\"none\" id=\"E6-E8-1\" style=\"stroke: #383838; stroke-width: 3.0;\"/><text fill=\"#000000\" font-family=\"sans-serif\" font-size=\"13\" lengthAdjust=\"spacingAndGlyphs\" textLength=\"7\" x=\"97.8819\" y=\"241.8709\">*</text></a><!--MD5=[cf49bfe2fafa59dac31ada0ed4a0d9f5]\n",
       "@startuml\r\n",
       "skinparam linetype polyline\r\n",
       "skinparam monochrome true\r\n",
       "skinparam classbackgroundcolor white\r\n",
       "skinparam shadowing false\r\n",
       "skinparam wrapWidth 300\r\n",
       "hide circle\r\n",
       "\r\n",
       "package \"AliasTest\" as E1  [[psysml:abede473-ce86-4cf2-9b0f-bcad92dda7df ]]  {\r\n",
       "comp usage \"q\" as E2  <<(T,blue) attribute>> [[psysml:84563fde-fc3c-4caa-a0d2-03a4409edda3 ]] {\r\n",
       "}\r\n",
       "comp def \"P1\" as E3  <<(T,blue) part def>> [[psysml:f240402e-e520-4bd4-a2fa-a40388aadc9d ]] {\r\n",
       "}\r\n",
       "comp usage \"porig1\" as E4  <<(T,blue) port>> [[psysml:fb61bd91-52ec-4d42-be8a-ef485ce794d8 ]] {\r\n",
       "}\r\n",
       "comp usage \"p1: P1\" as E5  <<(T,blue) part>> [[psysml:66a2f39c-c11d-47e1-a04e-46a9b54c38c0 ]] {\r\n",
       "}\r\n",
       "comp usage \"po1\" as E6  <<(T,blue) port>> [[psysml:1cf4d29b-7212-465e-9bfc-2d9d3c47093a ]] {\r\n",
       "}\r\n",
       "comp usage \"p2: P1\" as E7  <<(T,blue) part>> [[psysml:d750b59a-5fb4-49de-a141-6edbceed9fe9 ]] {\r\n",
       "}\r\n",
       "comp usage \"pdest\" as E8  <<(T,blue) port>> [[psysml:1ab4a2c7-e640-4092-b309-d8474ba4cc31 ]] {\r\n",
       "}\r\n",
       "}\r\n",
       "E3 o- - \"1\"E4 [[psysml:b0a1a3b9-a387-42d1-a567-e540cd2e1d19 ]] \r\n",
       "E3 +.. \"1\"E4 [[psysml:b116cd08-9727-4fd8-b1d3-1b9f6deb041c ]] \r\n",
       "E5 - -:|> E3 [[psysml:b60c9595-85bf-4c72-aa43-c7c5a3162c28 ]] \r\n",
       "E5 o- - \"1\"E6 [[psysml:5e5f570b-f88f-4e5d-bde6-a1031949a59c ]] \r\n",
       "E6 - -||> E4 [[psysml:ccd9da30-2bd5-4e38-bf20-b9f9621d2107 ]] \r\n",
       "E7 - -:|> E3 [[psysml:8fc3f931-75e6-473d-9c07-27a38ec18c6d ]] \r\n",
       "E7 o- - \"1\"E8 [[psysml:36a32e90-a022-4c42-9b64-7c79f5d1d72c ]] \r\n",
       "E7 +.. \"1\"E8 [[psysml:346ab8ae-1d2f-462f-a94e-fae0b61189bf ]] \r\n",
       "E6 -[thickness=3]- \"*\"E8 [[psysml:eaab9895-3808-4b7e-ad70-425cb7403c1b ]] \r\n",
       "E6 -[thickness=3]- \"*\"E8 [[psysml:18885de6-563e-4dd2-a418-c135b5ffccd4 ]] \r\n",
       "@enduml\r\n",
       "\n",
       "PlantUML version 1.2020.13(Sat Jun 13 12:26:38 UTC 2020)\n",
       "(EPL source distribution)\n",
       "Java Runtime: OpenJDK Runtime Environment\n",
       "JVM: OpenJDK 64-Bit Server VM\n",
       "Default Encoding: UTF-8\n",
       "Language: en\n",
       "Country: null\n",
       "--></g></svg>"
      ]
     },
     "execution_count": 9,
     "metadata": {},
     "output_type": "execute_result"
    }
   ],
   "source": [
    "%viz --style=\"POLYLINE\" --view=\"Default\" \"AliasTest\""
   ]
  },
  {
   "cell_type": "code",
   "execution_count": 10,
   "id": "a439e6c1",
   "metadata": {
    "execution": {
     "iopub.execute_input": "2021-09-27T07:19:08.463332Z",
     "iopub.status.busy": "2021-09-27T07:19:08.462881Z",
     "iopub.status.idle": "2021-09-27T07:19:08.511266Z",
     "shell.execute_reply": "2021-09-27T07:19:08.509831Z"
    }
   },
   "outputs": [
    {
     "data": {
      "image/svg+xml": [
       "<?xml version=\"1.0\" encoding=\"UTF-8\" standalone=\"no\"?><svg xmlns=\"http://www.w3.org/2000/svg\" xmlns:xlink=\"http://www.w3.org/1999/xlink\" contentScriptType=\"application/ecmascript\" contentStyleType=\"text/css\" height=\"327px\" preserveAspectRatio=\"none\" style=\"width:304px;height:327px;\" version=\"1.1\" viewBox=\"0 0 304 327\" width=\"304px\" zoomAndPan=\"magnify\"><defs/><g><!--MD5=[fbc87193dbaf4d95561dea2c320d4a47]\n",
       "cluster E1--><a href=\"psysml:abede473-ce86-4cf2-9b0f-bcad92dda7df\" target=\"_top\" title=\"psysml:abede473-ce86-4cf2-9b0f-bcad92dda7df\" xlink:actuate=\"onRequest\" xlink:href=\"psysml:abede473-ce86-4cf2-9b0f-bcad92dda7df\" xlink:show=\"new\" xlink:title=\"psysml:abede473-ce86-4cf2-9b0f-bcad92dda7df\" xlink:type=\"simple\"><polygon fill=\"#FFFFFF\" points=\"16,6,84,6,91,28.2969,282,28.2969,282,315,16,315,16,6\" style=\"stroke: #000000; stroke-width: 1.5;\"/><line style=\"stroke: #000000; stroke-width: 1.5;\" x1=\"16\" x2=\"91\" y1=\"28.2969\" y2=\"28.2969\"/><text fill=\"#000000\" font-family=\"sans-serif\" font-size=\"14\" font-weight=\"bold\" lengthAdjust=\"spacingAndGlyphs\" textLength=\"62\" x=\"20\" y=\"20.9951\">AliasTest</text></a><!--MD5=[b4997ac47864f28c2f74865a473b2911]\n",
       "class E2--><a href=\"psysml:84563fde-fc3c-4caa-a0d2-03a4409edda3\" target=\"_top\" title=\"psysml:84563fde-fc3c-4caa-a0d2-03a4409edda3\" xlink:actuate=\"onRequest\" xlink:href=\"psysml:84563fde-fc3c-4caa-a0d2-03a4409edda3\" xlink:show=\"new\" xlink:title=\"psysml:84563fde-fc3c-4caa-a0d2-03a4409edda3\" xlink:type=\"simple\"><rect fill=\"#FFFFFF\" height=\"45.9375\" id=\"E2\" rx=\"10\" ry=\"10\" style=\"stroke: #383838; stroke-width: 1.5;\" width=\"71\" x=\"194.5\" y=\"41\"/><text fill=\"#000000\" font-family=\"sans-serif\" font-size=\"12\" font-style=\"italic\" lengthAdjust=\"spacingAndGlyphs\" textLength=\"69\" x=\"195.5\" y=\"57.1387\">«attribute»</text><text fill=\"#000000\" font-family=\"sans-serif\" font-size=\"12\" lengthAdjust=\"spacingAndGlyphs\" textLength=\"8\" x=\"226\" y=\"71.1074\">q</text><line style=\"stroke: #383838; stroke-width: 1.5;\" x1=\"195.5\" x2=\"264.5\" y1=\"78.9375\" y2=\"78.9375\"/></a><!--MD5=[09b614a08d8cba4a07c9adeb5e0fee81]\n",
       "class E3--><a href=\"psysml:f240402e-e520-4bd4-a2fa-a40388aadc9d\" target=\"_top\" title=\"psysml:f240402e-e520-4bd4-a2fa-a40388aadc9d\" xlink:actuate=\"onRequest\" xlink:href=\"psysml:f240402e-e520-4bd4-a2fa-a40388aadc9d\" xlink:show=\"new\" xlink:title=\"psysml:f240402e-e520-4bd4-a2fa-a40388aadc9d\" xlink:type=\"simple\"><rect fill=\"#FFFFFF\" height=\"45.9375\" id=\"E3\" style=\"stroke: #383838; stroke-width: 1.5;\" width=\"66\" x=\"168\" y=\"147\"/><text fill=\"#000000\" font-family=\"sans-serif\" font-size=\"12\" font-style=\"italic\" lengthAdjust=\"spacingAndGlyphs\" textLength=\"64\" x=\"169\" y=\"163.1387\">«part def»</text><text fill=\"#000000\" font-family=\"sans-serif\" font-size=\"12\" lengthAdjust=\"spacingAndGlyphs\" textLength=\"16\" x=\"193\" y=\"177.1074\">P1</text><line style=\"stroke: #383838; stroke-width: 1.5;\" x1=\"169\" x2=\"233\" y1=\"184.9375\" y2=\"184.9375\"/></a><!--MD5=[ebbe1d658d1005bcc118a6aa81145e00]\n",
       "class E4--><a href=\"psysml:fb61bd91-52ec-4d42-be8a-ef485ce794d8\" target=\"_top\" title=\"psysml:fb61bd91-52ec-4d42-be8a-ef485ce794d8\" xlink:actuate=\"onRequest\" xlink:href=\"psysml:fb61bd91-52ec-4d42-be8a-ef485ce794d8\" xlink:show=\"new\" xlink:title=\"psysml:fb61bd91-52ec-4d42-be8a-ef485ce794d8\" xlink:type=\"simple\"><rect fill=\"#FFFFFF\" height=\"45.9375\" id=\"E4\" rx=\"10\" ry=\"10\" style=\"stroke: #383838; stroke-width: 1.5;\" width=\"46\" x=\"178\" y=\"253\"/><text fill=\"#000000\" font-family=\"sans-serif\" font-size=\"12\" font-style=\"italic\" lengthAdjust=\"spacingAndGlyphs\" textLength=\"40\" x=\"181\" y=\"269.1387\">«port»</text><text fill=\"#000000\" font-family=\"sans-serif\" font-size=\"12\" lengthAdjust=\"spacingAndGlyphs\" textLength=\"40\" x=\"181\" y=\"283.1074\">porig1</text><line style=\"stroke: #383838; stroke-width: 1.5;\" x1=\"179\" x2=\"223\" y1=\"290.9375\" y2=\"290.9375\"/></a><!--MD5=[270fce915f116d4de14055a7c1d9a0f3]\n",
       "class E5--><a href=\"psysml:66a2f39c-c11d-47e1-a04e-46a9b54c38c0\" target=\"_top\" title=\"psysml:66a2f39c-c11d-47e1-a04e-46a9b54c38c0\" xlink:actuate=\"onRequest\" xlink:href=\"psysml:66a2f39c-c11d-47e1-a04e-46a9b54c38c0\" xlink:show=\"new\" xlink:title=\"psysml:66a2f39c-c11d-47e1-a04e-46a9b54c38c0\" xlink:type=\"simple\"><rect fill=\"#FFFFFF\" height=\"45.9375\" id=\"E5\" rx=\"10\" ry=\"10\" style=\"stroke: #383838; stroke-width: 1.5;\" width=\"46\" x=\"113\" y=\"41\"/><text fill=\"#000000\" font-family=\"sans-serif\" font-size=\"12\" font-style=\"italic\" lengthAdjust=\"spacingAndGlyphs\" textLength=\"40\" x=\"116\" y=\"57.1387\">«part»</text><text fill=\"#000000\" font-family=\"sans-serif\" font-size=\"12\" lengthAdjust=\"spacingAndGlyphs\" textLength=\"40\" x=\"116\" y=\"71.1074\">p1: P1</text><line style=\"stroke: #383838; stroke-width: 1.5;\" x1=\"114\" x2=\"158\" y1=\"78.9375\" y2=\"78.9375\"/></a><!--MD5=[60a26617385b1d2d0262a64233df1f8d]\n",
       "class E6--><a href=\"psysml:1cf4d29b-7212-465e-9bfc-2d9d3c47093a\" target=\"_top\" title=\"psysml:1cf4d29b-7212-465e-9bfc-2d9d3c47093a\" xlink:actuate=\"onRequest\" xlink:href=\"psysml:1cf4d29b-7212-465e-9bfc-2d9d3c47093a\" xlink:show=\"new\" xlink:title=\"psysml:1cf4d29b-7212-465e-9bfc-2d9d3c47093a\" xlink:type=\"simple\"><rect fill=\"#FFFFFF\" height=\"45.9375\" id=\"E6\" rx=\"10\" ry=\"10\" style=\"stroke: #383838; stroke-width: 1.5;\" width=\"42\" x=\"91\" y=\"147\"/><text fill=\"#000000\" font-family=\"sans-serif\" font-size=\"12\" font-style=\"italic\" lengthAdjust=\"spacingAndGlyphs\" textLength=\"40\" x=\"92\" y=\"163.1387\">«port»</text><text fill=\"#000000\" font-family=\"sans-serif\" font-size=\"12\" lengthAdjust=\"spacingAndGlyphs\" textLength=\"24\" x=\"100\" y=\"177.1074\">po1</text><line style=\"stroke: #383838; stroke-width: 1.5;\" x1=\"92\" x2=\"132\" y1=\"184.9375\" y2=\"184.9375\"/></a><!--MD5=[2156ba9850f5573cc1fc38a6a4b2f02b]\n",
       "class E7--><a href=\"psysml:d750b59a-5fb4-49de-a141-6edbceed9fe9\" target=\"_top\" title=\"psysml:d750b59a-5fb4-49de-a141-6edbceed9fe9\" xlink:actuate=\"onRequest\" xlink:href=\"psysml:d750b59a-5fb4-49de-a141-6edbceed9fe9\" xlink:show=\"new\" xlink:title=\"psysml:d750b59a-5fb4-49de-a141-6edbceed9fe9\" xlink:type=\"simple\"><rect fill=\"#FFFFFF\" height=\"45.9375\" id=\"E7\" rx=\"10\" ry=\"10\" style=\"stroke: #383838; stroke-width: 1.5;\" width=\"46\" x=\"32\" y=\"41\"/><text fill=\"#000000\" font-family=\"sans-serif\" font-size=\"12\" font-style=\"italic\" lengthAdjust=\"spacingAndGlyphs\" textLength=\"40\" x=\"35\" y=\"57.1387\">«part»</text><text fill=\"#000000\" font-family=\"sans-serif\" font-size=\"12\" lengthAdjust=\"spacingAndGlyphs\" textLength=\"40\" x=\"35\" y=\"71.1074\">p2: P1</text><line style=\"stroke: #383838; stroke-width: 1.5;\" x1=\"33\" x2=\"77\" y1=\"78.9375\" y2=\"78.9375\"/></a><!--MD5=[b9389687b975829384b498ac4b7476b2]\n",
       "class E8--><a href=\"psysml:1ab4a2c7-e640-4092-b309-d8474ba4cc31\" target=\"_top\" title=\"psysml:1ab4a2c7-e640-4092-b309-d8474ba4cc31\" xlink:actuate=\"onRequest\" xlink:href=\"psysml:1ab4a2c7-e640-4092-b309-d8474ba4cc31\" xlink:show=\"new\" xlink:title=\"psysml:1ab4a2c7-e640-4092-b309-d8474ba4cc31\" xlink:type=\"simple\"><rect fill=\"#FFFFFF\" height=\"45.9375\" id=\"E8\" rx=\"10\" ry=\"10\" style=\"stroke: #383838; stroke-width: 1.5;\" width=\"42\" x=\"63\" y=\"253\"/><text fill=\"#000000\" font-family=\"sans-serif\" font-size=\"12\" font-style=\"italic\" lengthAdjust=\"spacingAndGlyphs\" textLength=\"40\" x=\"64\" y=\"269.1387\">«port»</text><text fill=\"#000000\" font-family=\"sans-serif\" font-size=\"12\" lengthAdjust=\"spacingAndGlyphs\" textLength=\"36\" x=\"66\" y=\"283.1074\">pdest</text><line style=\"stroke: #383838; stroke-width: 1.5;\" x1=\"64\" x2=\"104\" y1=\"290.9375\" y2=\"290.9375\"/></a><!--MD5=[4672eba38e49728da53d11aeb285b987]\n",
       "reverse link E3 to E4--><a href=\"psysml:b0a1a3b9-a387-42d1-a567-e540cd2e1d19\" target=\"_top\" title=\"psysml:b0a1a3b9-a387-42d1-a567-e540cd2e1d19\" xlink:actuate=\"onRequest\" xlink:href=\"psysml:b0a1a3b9-a387-42d1-a567-e540cd2e1d19\" xlink:show=\"new\" xlink:title=\"psysml:b0a1a3b9-a387-42d1-a567-e540cd2e1d19\" xlink:type=\"simple\"><path d=\"M188.84,206.44 C187.7,221.87 188.21,239.47 190.36,252.98 \" fill=\"none\" id=\"E3&lt;-E4\" style=\"stroke: #383838; stroke-width: 1.0;\"/><polygon fill=\"#FFFFFF\" points=\"190.35,193.06,185.7032,198.5743,189.006,204.9845,193.6528,199.4702,190.35,193.06\" style=\"stroke: #383838; stroke-width: 1.0;\"/><text fill=\"#000000\" font-family=\"sans-serif\" font-size=\"13\" lengthAdjust=\"spacingAndGlyphs\" textLength=\"8\" x=\"178.4255\" y=\"241.8709\">1</text></a><!--MD5=[4672eba38e49728da53d11aeb285b987]\n",
       "reverse link E3 to E4--><a href=\"psysml:b116cd08-9727-4fd8-b1d3-1b9f6deb041c\" target=\"_top\" title=\"psysml:b116cd08-9727-4fd8-b1d3-1b9f6deb041c\" xlink:actuate=\"onRequest\" xlink:href=\"psysml:b116cd08-9727-4fd8-b1d3-1b9f6deb041c\" xlink:show=\"new\" xlink:title=\"psysml:b116cd08-9727-4fd8-b1d3-1b9f6deb041c\" xlink:type=\"simple\"><path d=\"M214.01,208.34 C215.03,223.3 214.45,240.02 212.27,252.98 \" fill=\"none\" id=\"E3&lt;-E4-1\" style=\"stroke: #383838; stroke-width: 1.0; stroke-dasharray: 7.0,7.0;\"/><ellipse cx=\"213.1693\" cy=\"201.0093\" fill=\"#FFFFFF\" rx=\"8\" ry=\"8\" style=\"stroke: #383838; stroke-width: 1.0;\"/><line style=\"stroke: #383838; stroke-width: 1.0;\" x1=\"214.0687\" x2=\"212.27\" y1=\"208.9586\" y2=\"193.06\"/><line style=\"stroke: #383838; stroke-width: 1.0;\" x1=\"205.2201\" x2=\"221.1186\" y1=\"201.9086\" y2=\"200.1099\"/><text fill=\"#000000\" font-family=\"sans-serif\" font-size=\"13\" lengthAdjust=\"spacingAndGlyphs\" textLength=\"8\" x=\"206.2238\" y=\"241.8709\">1</text></a><!--MD5=[e9be52314489bd878ff4c7144b63c9e1]\n",
       "link E5 to E3--><a href=\"psysml:b60c9595-85bf-4c72-aa43-c7c5a3162c28\" target=\"_top\" title=\"psysml:b60c9595-85bf-4c72-aa43-c7c5a3162c28\" xlink:actuate=\"onRequest\" xlink:href=\"psysml:b60c9595-85bf-4c72-aa43-c7c5a3162c28\" xlink:show=\"new\" xlink:title=\"psysml:b60c9595-85bf-4c72-aa43-c7c5a3162c28\" xlink:type=\"simple\"><path d=\"M149.78,87.06 C157.54,99.47 167.45,115.33 176.49,129.78 \" fill=\"none\" id=\"E5-&gt;E3\" style=\"stroke: #383838; stroke-width: 1.0;\"/><polygon fill=\"#FFFFFF\" points=\"187.24,146.98,171.2331,134.5792,183.1045,127.1584,187.24,146.98\" style=\"stroke: #383838; stroke-width: 1.0;\"/><ellipse cx=\"169.9076\" cy=\"128.6857\" fill=\"#383838\" rx=\"2\" ry=\"2\" style=\"stroke: #383838; stroke-width: 1.0;\"/><ellipse cx=\"178.3872\" cy=\"123.3851\" fill=\"#383838\" rx=\"2\" ry=\"2\" style=\"stroke: #383838; stroke-width: 1.0;\"/></a><!--MD5=[85d356282659285ab4b2cfe2f634dd2b]\n",
       "reverse link E5 to E6--><a href=\"psysml:5e5f570b-f88f-4e5d-bde6-a1031949a59c\" target=\"_top\" title=\"psysml:5e5f570b-f88f-4e5d-bde6-a1031949a59c\" xlink:actuate=\"onRequest\" xlink:href=\"psysml:5e5f570b-f88f-4e5d-bde6-a1031949a59c\" xlink:show=\"new\" xlink:title=\"psysml:5e5f570b-f88f-4e5d-bde6-a1031949a59c\" xlink:type=\"simple\"><path d=\"M127.93,99.96 C124.34,115.51 120.23,133.33 117.08,146.98 \" fill=\"none\" id=\"E5&lt;-E6\" style=\"stroke: #383838; stroke-width: 1.0;\"/><polygon fill=\"#FFFFFF\" points=\"130.91,87.06,125.6616,92.0052,128.2078,98.7518,133.4562,93.8066,130.91,87.06\" style=\"stroke: #383838; stroke-width: 1.0;\"/><text fill=\"#000000\" font-family=\"sans-serif\" font-size=\"13\" lengthAdjust=\"spacingAndGlyphs\" textLength=\"8\" x=\"109.3703\" y=\"135.8709\">1</text></a><!--MD5=[f667431f98296947986a1a7595a31603]\n",
       "link E6 to E4--><a href=\"psysml:ccd9da30-2bd5-4e38-bf20-b9f9621d2107\" target=\"_top\" title=\"psysml:ccd9da30-2bd5-4e38-bf20-b9f9621d2107\" xlink:actuate=\"onRequest\" xlink:href=\"psysml:ccd9da30-2bd5-4e38-bf20-b9f9621d2107\" xlink:show=\"new\" xlink:title=\"psysml:ccd9da30-2bd5-4e38-bf20-b9f9621d2107\" xlink:type=\"simple\"><path d=\"M130.87,193.06 C141.97,206.02 156.28,222.74 169.08,237.7 \" fill=\"none\" id=\"E6-&gt;E4\" style=\"stroke: #383838; stroke-width: 1.0;\"/><polygon fill=\"#FFFFFF\" points=\"182.15,252.98,164.4809,243.0905,175.1204,233.9909,182.15,252.98\" style=\"stroke: #383838; stroke-width: 1.0;\"/><line style=\"stroke: #383838; stroke-width: 2.0;\" x1=\"162.011\" x2=\"172.6505\" y1=\"240.2026\" y2=\"231.1031\"/></a><!--MD5=[14ccda38c055a5c0da953d572bc50960]\n",
       "link E7 to E3--><a href=\"psysml:8fc3f931-75e6-473d-9c07-27a38ec18c6d\" target=\"_top\" title=\"psysml:8fc3f931-75e6-473d-9c07-27a38ec18c6d\" xlink:actuate=\"onRequest\" xlink:href=\"psysml:8fc3f931-75e6-473d-9c07-27a38ec18c6d\" xlink:show=\"new\" xlink:title=\"psysml:8fc3f931-75e6-473d-9c07-27a38ec18c6d\" xlink:type=\"simple\"><path d=\"M78.13,81.48 C98.32,95.86 128.25,117.18 153.52,135.18 \" fill=\"none\" id=\"E7-&gt;E3\" style=\"stroke: #383838; stroke-width: 1.0;\"/><polygon fill=\"#FFFFFF\" points=\"170.09,146.98,150.5533,141.6586,158.6755,130.2555,170.09,146.98\" style=\"stroke: #383838; stroke-width: 1.0;\"/><ellipse cx=\"147.0709\" cy=\"136.7227\" fill=\"#383838\" rx=\"2\" ry=\"2\" style=\"stroke: #383838; stroke-width: 1.0;\"/><ellipse cx=\"152.8725\" cy=\"128.5776\" fill=\"#383838\" rx=\"2\" ry=\"2\" style=\"stroke: #383838; stroke-width: 1.0;\"/></a><!--MD5=[dc164f5e8a733ab456ef1add180e9e34]\n",
       "reverse link E7 to E8--><a href=\"psysml:36a32e90-a022-4c42-9b64-7c79f5d1d72c\" target=\"_top\" title=\"psysml:36a32e90-a022-4c42-9b64-7c79f5d1d72c\" xlink:actuate=\"onRequest\" xlink:href=\"psysml:36a32e90-a022-4c42-9b64-7c79f5d1d72c\" xlink:show=\"new\" xlink:title=\"psysml:36a32e90-a022-4c42-9b64-7c79f5d1d72c\" xlink:type=\"simple\"><path d=\"M50.05,100.09 C51.65,143.61 62.25,216.5 72.75,252.9 \" fill=\"none\" id=\"E7&lt;-E8\" style=\"stroke: #383838; stroke-width: 1.0;\"/><polygon fill=\"#FFFFFF\" points=\"49.85,87.08,45.9362,93.1366,50.0216,99.0788,53.9354,93.0222,49.85,87.08\" style=\"stroke: #383838; stroke-width: 1.0;\"/><text fill=\"#000000\" font-family=\"sans-serif\" font-size=\"13\" lengthAdjust=\"spacingAndGlyphs\" textLength=\"8\" x=\"60.6516\" y=\"241.7694\">1</text></a><!--MD5=[dc164f5e8a733ab456ef1add180e9e34]\n",
       "reverse link E7 to E8--><a href=\"psysml:346ab8ae-1d2f-462f-a94e-fae0b61189bf\" target=\"_top\" title=\"psysml:346ab8ae-1d2f-462f-a94e-fae0b61189bf\" xlink:actuate=\"onRequest\" xlink:href=\"psysml:346ab8ae-1d2f-462f-a94e-fae0b61189bf\" xlink:show=\"new\" xlink:title=\"psysml:346ab8ae-1d2f-462f-a94e-fae0b61189bf\" xlink:type=\"simple\"><path d=\"M70.64,101.8 C81.15,145.5 90.39,216.97 89.63,252.9 \" fill=\"none\" id=\"E7&lt;-E8-1\" style=\"stroke: #383838; stroke-width: 1.0; stroke-dasharray: 7.0,7.0;\"/><ellipse cx=\"68.7794\" cy=\"94.813\" fill=\"#FFFFFF\" rx=\"8\" ry=\"8\" style=\"stroke: #383838; stroke-width: 1.0;\"/><line style=\"stroke: #383838; stroke-width: 1.0;\" x1=\"70.8289\" x2=\"66.73\" y1=\"102.5461\" y2=\"87.08\"/><line style=\"stroke: #383838; stroke-width: 1.0;\" x1=\"61.0464\" x2=\"76.5125\" y1=\"96.8625\" y2=\"92.7636\"/><text fill=\"#000000\" font-family=\"sans-serif\" font-size=\"13\" lengthAdjust=\"spacingAndGlyphs\" textLength=\"8\" x=\"92.2181\" y=\"241.7694\">1</text></a><!--MD5=[0a839d0f80c2d72d4b9b307f046d0de8]\n",
       "link E6 to E8--><a href=\"psysml:eaab9895-3808-4b7e-ad70-425cb7403c1b\" target=\"_top\" title=\"psysml:eaab9895-3808-4b7e-ad70-425cb7403c1b\" xlink:actuate=\"onRequest\" xlink:href=\"psysml:eaab9895-3808-4b7e-ad70-425cb7403c1b\" xlink:show=\"new\" xlink:title=\"psysml:eaab9895-3808-4b7e-ad70-425cb7403c1b\" xlink:type=\"simple\"><path d=\"M95.42,193.06 C87.86,210.7 81.23,235.34 79.29,252.98 \" fill=\"none\" id=\"E6-E8\" style=\"stroke: #383838; stroke-width: 3.0;\"/><text fill=\"#000000\" font-family=\"sans-serif\" font-size=\"13\" lengthAdjust=\"spacingAndGlyphs\" textLength=\"7\" x=\"78.9648\" y=\"241.8709\">*</text></a><!--MD5=[0a839d0f80c2d72d4b9b307f046d0de8]\n",
       "link E6 to E8--><a href=\"psysml:18885de6-563e-4dd2-a418-c135b5ffccd4\" target=\"_top\" title=\"psysml:18885de6-563e-4dd2-a418-c135b5ffccd4\" xlink:actuate=\"onRequest\" xlink:href=\"psysml:18885de6-563e-4dd2-a418-c135b5ffccd4\" xlink:show=\"new\" xlink:title=\"psysml:18885de6-563e-4dd2-a418-c135b5ffccd4\" xlink:type=\"simple\"><path d=\"M117.33,193.06 C115.55,210.7 108.92,235.34 101.2,252.98 \" fill=\"none\" id=\"E6-E8-1\" style=\"stroke: #383838; stroke-width: 3.0;\"/><text fill=\"#000000\" font-family=\"sans-serif\" font-size=\"13\" lengthAdjust=\"spacingAndGlyphs\" textLength=\"7\" x=\"97.8819\" y=\"241.8709\">*</text></a><!--MD5=[cf49bfe2fafa59dac31ada0ed4a0d9f5]\n",
       "@startuml\r\n",
       "skinparam linetype polyline\r\n",
       "skinparam monochrome true\r\n",
       "skinparam classbackgroundcolor white\r\n",
       "skinparam shadowing false\r\n",
       "skinparam wrapWidth 300\r\n",
       "hide circle\r\n",
       "\r\n",
       "package \"AliasTest\" as E1  [[psysml:abede473-ce86-4cf2-9b0f-bcad92dda7df ]]  {\r\n",
       "comp usage \"q\" as E2  <<(T,blue) attribute>> [[psysml:84563fde-fc3c-4caa-a0d2-03a4409edda3 ]] {\r\n",
       "}\r\n",
       "comp def \"P1\" as E3  <<(T,blue) part def>> [[psysml:f240402e-e520-4bd4-a2fa-a40388aadc9d ]] {\r\n",
       "}\r\n",
       "comp usage \"porig1\" as E4  <<(T,blue) port>> [[psysml:fb61bd91-52ec-4d42-be8a-ef485ce794d8 ]] {\r\n",
       "}\r\n",
       "comp usage \"p1: P1\" as E5  <<(T,blue) part>> [[psysml:66a2f39c-c11d-47e1-a04e-46a9b54c38c0 ]] {\r\n",
       "}\r\n",
       "comp usage \"po1\" as E6  <<(T,blue) port>> [[psysml:1cf4d29b-7212-465e-9bfc-2d9d3c47093a ]] {\r\n",
       "}\r\n",
       "comp usage \"p2: P1\" as E7  <<(T,blue) part>> [[psysml:d750b59a-5fb4-49de-a141-6edbceed9fe9 ]] {\r\n",
       "}\r\n",
       "comp usage \"pdest\" as E8  <<(T,blue) port>> [[psysml:1ab4a2c7-e640-4092-b309-d8474ba4cc31 ]] {\r\n",
       "}\r\n",
       "}\r\n",
       "E3 o- - \"1\"E4 [[psysml:b0a1a3b9-a387-42d1-a567-e540cd2e1d19 ]] \r\n",
       "E3 +.. \"1\"E4 [[psysml:b116cd08-9727-4fd8-b1d3-1b9f6deb041c ]] \r\n",
       "E5 - -:|> E3 [[psysml:b60c9595-85bf-4c72-aa43-c7c5a3162c28 ]] \r\n",
       "E5 o- - \"1\"E6 [[psysml:5e5f570b-f88f-4e5d-bde6-a1031949a59c ]] \r\n",
       "E6 - -||> E4 [[psysml:ccd9da30-2bd5-4e38-bf20-b9f9621d2107 ]] \r\n",
       "E7 - -:|> E3 [[psysml:8fc3f931-75e6-473d-9c07-27a38ec18c6d ]] \r\n",
       "E7 o- - \"1\"E8 [[psysml:36a32e90-a022-4c42-9b64-7c79f5d1d72c ]] \r\n",
       "E7 +.. \"1\"E8 [[psysml:346ab8ae-1d2f-462f-a94e-fae0b61189bf ]] \r\n",
       "E6 -[thickness=3]- \"*\"E8 [[psysml:eaab9895-3808-4b7e-ad70-425cb7403c1b ]] \r\n",
       "E6 -[thickness=3]- \"*\"E8 [[psysml:18885de6-563e-4dd2-a418-c135b5ffccd4 ]] \r\n",
       "@enduml\r\n",
       "\n",
       "PlantUML version 1.2020.13(Sat Jun 13 12:26:38 UTC 2020)\n",
       "(EPL source distribution)\n",
       "Java Runtime: OpenJDK Runtime Environment\n",
       "JVM: OpenJDK 64-Bit Server VM\n",
       "Default Encoding: UTF-8\n",
       "Language: en\n",
       "Country: null\n",
       "--></g></svg>"
      ]
     },
     "execution_count": 10,
     "metadata": {},
     "output_type": "execute_result"
    }
   ],
   "source": [
    "%viz --style=\"POLYLINE\" --view=\"Tree\" \"AliasTest\""
   ]
  },
  {
   "cell_type": "code",
   "execution_count": 11,
   "id": "b991323f",
   "metadata": {
    "execution": {
     "iopub.execute_input": "2021-09-27T07:19:08.561227Z",
     "iopub.status.busy": "2021-09-27T07:19:08.560712Z",
     "iopub.status.idle": "2021-09-27T07:19:08.567335Z",
     "shell.execute_reply": "2021-09-27T07:19:08.567773Z"
    }
   },
   "outputs": [
    {
     "data": {
      "image/svg+xml": [
       "<?xml version=\"1.0\" encoding=\"UTF-8\" standalone=\"no\"?><svg xmlns=\"http://www.w3.org/2000/svg\" xmlns:xlink=\"http://www.w3.org/1999/xlink\" contentScriptType=\"application/ecmascript\" contentStyleType=\"text/css\" height=\"12px\" preserveAspectRatio=\"none\" style=\"width:12px;height:12px;\" version=\"1.1\" viewBox=\"0 0 12 12\" width=\"12px\" zoomAndPan=\"magnify\"><defs/><g><!--MD5=[896ac0e7a515d8dd7765a661cb4ee08b]\n",
       "@startuml\r\n",
       "skinparam linetype polyline\r\n",
       "skinparam monochrome true\r\n",
       "skinparam classbackgroundcolor white\r\n",
       "skinparam shadowing false\r\n",
       "skinparam wrapWidth 300\r\n",
       "hide circle\r\n",
       "\r\n",
       "@enduml\r\n",
       "\n",
       "PlantUML version 1.2020.13(Sat Jun 13 12:26:38 UTC 2020)\n",
       "(EPL source distribution)\n",
       "Java Runtime: OpenJDK Runtime Environment\n",
       "JVM: OpenJDK 64-Bit Server VM\n",
       "Default Encoding: UTF-8\n",
       "Language: en\n",
       "Country: null\n",
       "--></g></svg>"
      ]
     },
     "execution_count": 11,
     "metadata": {},
     "output_type": "execute_result"
    }
   ],
   "source": [
    "%viz --style=\"POLYLINE\" --view=\"State\" \"AliasTest\""
   ]
  },
  {
   "cell_type": "code",
   "execution_count": 12,
   "id": "bcdcc621",
   "metadata": {
    "execution": {
     "iopub.execute_input": "2021-09-27T07:19:08.617777Z",
     "iopub.status.busy": "2021-09-27T07:19:08.617365Z",
     "iopub.status.idle": "2021-09-27T07:19:08.661401Z",
     "shell.execute_reply": "2021-09-27T07:19:08.661052Z"
    }
   },
   "outputs": [
    {
     "data": {
      "image/svg+xml": [
       "<?xml version=\"1.0\" encoding=\"UTF-8\" standalone=\"no\"?><svg xmlns=\"http://www.w3.org/2000/svg\" xmlns:xlink=\"http://www.w3.org/1999/xlink\" contentScriptType=\"application/ecmascript\" contentStyleType=\"text/css\" height=\"233px\" preserveAspectRatio=\"none\" style=\"width:474px;height:233px;\" version=\"1.1\" viewBox=\"0 0 474 233\" width=\"474px\" zoomAndPan=\"magnify\"><defs/><g><!--MD5=[fbc87193dbaf4d95561dea2c320d4a47]\n",
       "cluster E1--><a href=\"psysml:abede473-ce86-4cf2-9b0f-bcad92dda7df\" target=\"_top\" title=\"psysml:abede473-ce86-4cf2-9b0f-bcad92dda7df\" xlink:actuate=\"onRequest\" xlink:href=\"psysml:abede473-ce86-4cf2-9b0f-bcad92dda7df\" xlink:show=\"new\" xlink:title=\"psysml:abede473-ce86-4cf2-9b0f-bcad92dda7df\" xlink:type=\"simple\"><polygon fill=\"#FFFFFF\" points=\"16,6,84,6,91,28.2969,452,28.2969,452,221,16,221,16,6\" style=\"stroke: #000000; stroke-width: 1.5;\"/><line style=\"stroke: #000000; stroke-width: 1.5;\" x1=\"16\" x2=\"91\" y1=\"28.2969\" y2=\"28.2969\"/><text fill=\"#000000\" font-family=\"sans-serif\" font-size=\"14\" font-weight=\"bold\" lengthAdjust=\"spacingAndGlyphs\" textLength=\"62\" x=\"20\" y=\"20.9951\">AliasTest</text></a><!--MD5=[d5e69f78d87373223dbae638b30a9c99]\n",
       "cluster E3--><a href=\"psysml:f240402e-e520-4bd4-a2fa-a40388aadc9d\" target=\"_top\" title=\"psysml:f240402e-e520-4bd4-a2fa-a40388aadc9d\" xlink:actuate=\"onRequest\" xlink:href=\"psysml:f240402e-e520-4bd4-a2fa-a40388aadc9d\" xlink:show=\"new\" xlink:title=\"psysml:f240402e-e520-4bd4-a2fa-a40388aadc9d\" xlink:type=\"simple\"><rect fill=\"#FFFFFF\" height=\"90\" id=\"E3\" style=\"stroke: #383838; stroke-width: 1.5;\" width=\"83\" x=\"312\" y=\"64\"/><rect fill=\"#F8F8F8\" height=\"37.9375\" style=\"stroke: #383838; stroke-width: 1.5;\" width=\"83\" x=\"312\" y=\"64\"/><text fill=\"#000000\" font-family=\"sans-serif\" font-size=\"12\" font-style=\"italic\" lengthAdjust=\"spacingAndGlyphs\" textLength=\"64\" x=\"321.5\" y=\"80.1387\">«part def»</text><text fill=\"#000000\" font-family=\"sans-serif\" font-size=\"12\" lengthAdjust=\"spacingAndGlyphs\" textLength=\"16\" x=\"345.5\" y=\"94.1074\">P1</text></a><!--MD5=[14e3b0961a2654348d326746436168a1]\n",
       "cluster E6--><a href=\"psysml:66a2f39c-c11d-47e1-a04e-46a9b54c38c0\" target=\"_top\" title=\"psysml:66a2f39c-c11d-47e1-a04e-46a9b54c38c0\" xlink:actuate=\"onRequest\" xlink:href=\"psysml:66a2f39c-c11d-47e1-a04e-46a9b54c38c0\" xlink:show=\"new\" xlink:title=\"psysml:66a2f39c-c11d-47e1-a04e-46a9b54c38c0\" xlink:type=\"simple\"><rect fill=\"#FFFFFF\" height=\"82\" id=\"E6\" rx=\"10\" ry=\"10\" style=\"stroke: #383838; stroke-width: 1.5;\" width=\"98\" x=\"112\" y=\"64\"/><rect fill=\"#F8F8F8\" height=\"23.9688\" rx=\"10\" ry=\"10\" style=\"stroke: #F8F8F8; stroke-width: 1.5;\" width=\"98\" x=\"112\" y=\"64\"/><rect fill=\"#F8F8F8\" height=\"10\" style=\"stroke: #F8F8F8; stroke-width: 1.5;\" width=\"98\" x=\"112\" y=\"77.9688\"/><rect fill=\"none\" height=\"82\" id=\"E6\" rx=\"10\" ry=\"10\" style=\"stroke: #383838; stroke-width: 1.5;\" width=\"98\" x=\"112\" y=\"64\"/><text fill=\"#000000\" font-family=\"sans-serif\" font-size=\"12\" lengthAdjust=\"spacingAndGlyphs\" textLength=\"40\" x=\"141\" y=\"80.1387\">p1: P1</text><line style=\"stroke: #383838; stroke-width: 1.0;\" x1=\"112\" x2=\"210\" y1=\"87.9688\" y2=\"87.9688\"/></a><!--MD5=[55dfccfc6c49c2d10cd1bd2211a6c90c]\n",
       "cluster E8--><a href=\"psysml:d750b59a-5fb4-49de-a141-6edbceed9fe9\" target=\"_top\" title=\"psysml:d750b59a-5fb4-49de-a141-6edbceed9fe9\" xlink:actuate=\"onRequest\" xlink:href=\"psysml:d750b59a-5fb4-49de-a141-6edbceed9fe9\" xlink:show=\"new\" xlink:title=\"psysml:d750b59a-5fb4-49de-a141-6edbceed9fe9\" xlink:type=\"simple\"><rect fill=\"#FFFFFF\" height=\"84.5\" id=\"E8\" rx=\"10\" ry=\"10\" style=\"stroke: #383838; stroke-width: 1.5;\" width=\"83\" x=\"213\" y=\"120.5\"/><rect fill=\"#F8F8F8\" height=\"23.9688\" rx=\"10\" ry=\"10\" style=\"stroke: #F8F8F8; stroke-width: 1.5;\" width=\"83\" x=\"213\" y=\"120.5\"/><rect fill=\"#F8F8F8\" height=\"10\" style=\"stroke: #F8F8F8; stroke-width: 1.5;\" width=\"83\" x=\"213\" y=\"134.4688\"/><rect fill=\"none\" height=\"84.5\" id=\"E8\" rx=\"10\" ry=\"10\" style=\"stroke: #383838; stroke-width: 1.5;\" width=\"83\" x=\"213\" y=\"120.5\"/><text fill=\"#000000\" font-family=\"sans-serif\" font-size=\"12\" lengthAdjust=\"spacingAndGlyphs\" textLength=\"40\" x=\"234.5\" y=\"136.6387\">p2: P1</text><line style=\"stroke: #383838; stroke-width: 1.0;\" x1=\"213\" x2=\"296\" y1=\"144.4688\" y2=\"144.4688\"/></a><!--MD5=[b4997ac47864f28c2f74865a473b2911]\n",
       "class E2--><a href=\"psysml:84563fde-fc3c-4caa-a0d2-03a4409edda3\" target=\"_top\" title=\"psysml:84563fde-fc3c-4caa-a0d2-03a4409edda3\" xlink:actuate=\"onRequest\" xlink:href=\"psysml:84563fde-fc3c-4caa-a0d2-03a4409edda3\" xlink:show=\"new\" xlink:title=\"psysml:84563fde-fc3c-4caa-a0d2-03a4409edda3\" xlink:type=\"simple\"><rect fill=\"#FFFFFF\" height=\"45.9375\" id=\"E2\" rx=\"10\" ry=\"10\" style=\"stroke: #383838; stroke-width: 1.5;\" width=\"71\" x=\"32.5\" y=\"41\"/><text fill=\"#000000\" font-family=\"sans-serif\" font-size=\"12\" font-style=\"italic\" lengthAdjust=\"spacingAndGlyphs\" textLength=\"69\" x=\"33.5\" y=\"57.1387\">«attribute»</text><text fill=\"#000000\" font-family=\"sans-serif\" font-size=\"12\" lengthAdjust=\"spacingAndGlyphs\" textLength=\"8\" x=\"64\" y=\"71.1074\">q</text><line style=\"stroke: #383838; stroke-width: 1.5;\" x1=\"33.5\" x2=\"102.5\" y1=\"78.9375\" y2=\"78.9375\"/></a><text fill=\"#000000\" font-family=\"sans-serif\" font-size=\"14\" lengthAdjust=\"spacingAndGlyphs\" textLength=\"44\" x=\"308\" y=\"42.6982\">porig1</text><rect fill=\"#383838\" height=\"12\" style=\"stroke: #F8F8F8; stroke-width: 1.5;\" width=\"12\" x=\"324\" y=\"58\"/><text fill=\"#000000\" font-family=\"sans-serif\" font-size=\"14\" lengthAdjust=\"spacingAndGlyphs\" textLength=\"44\" x=\"355\" y=\"42.6982\">porig1</text><rect fill=\"#383838\" height=\"12\" style=\"stroke: #F8F8F8; stroke-width: 1.5;\" width=\"12\" x=\"371\" y=\"58\"/><text fill=\"#000000\" font-family=\"sans-serif\" font-size=\"14\" lengthAdjust=\"spacingAndGlyphs\" textLength=\"27\" x=\"178.5\" y=\"42.6982\">po1</text><rect fill=\"#383838\" height=\"12\" style=\"stroke: #F8F8F8; stroke-width: 1.5;\" width=\"12\" x=\"186\" y=\"58\"/><text fill=\"#000000\" font-family=\"sans-serif\" font-size=\"14\" lengthAdjust=\"spacingAndGlyphs\" textLength=\"40\" x=\"211\" y=\"99.1982\">pdest</text><rect fill=\"#383838\" height=\"12\" style=\"stroke: #F8F8F8; stroke-width: 1.5;\" width=\"12\" x=\"225\" y=\"114.5\"/><text fill=\"#000000\" font-family=\"sans-serif\" font-size=\"14\" lengthAdjust=\"spacingAndGlyphs\" textLength=\"40\" x=\"258\" y=\"99.1982\">pdest</text><rect fill=\"#383838\" height=\"12\" style=\"stroke: #F8F8F8; stroke-width: 1.5;\" width=\"12\" x=\"272\" y=\"114.5\"/><!--MD5=[1c0b9414cc86e0744215edee6abd8926]\n",
       "link E7 to E9--><a href=\"psysml:eaab9895-3808-4b7e-ad70-425cb7403c1b\" target=\"_top\" title=\"psysml:eaab9895-3808-4b7e-ad70-425cb7403c1b\" xlink:actuate=\"onRequest\" xlink:href=\"psysml:eaab9895-3808-4b7e-ad70-425cb7403c1b\" xlink:show=\"new\" xlink:title=\"psysml:eaab9895-3808-4b7e-ad70-425cb7403c1b\" xlink:type=\"simple\"><path d=\"M187.83,70.03 C188.72,81.73 210.14,110.34 224.83,117.73 \" fill=\"none\" id=\"E7-E9\" style=\"stroke: #383838; stroke-width: 3.0;\"/><text fill=\"#000000\" font-family=\"sans-serif\" font-size=\"13\" lengthAdjust=\"spacingAndGlyphs\" textLength=\"7\" x=\"209.8523\" y=\"106.3789\">*</text></a><!--MD5=[1c0b9414cc86e0744215edee6abd8926]\n",
       "link E7 to E9--><a href=\"psysml:18885de6-563e-4dd2-a418-c135b5ffccd4\" target=\"_top\" title=\"psysml:18885de6-563e-4dd2-a418-c135b5ffccd4\" xlink:actuate=\"onRequest\" xlink:href=\"psysml:18885de6-563e-4dd2-a418-c135b5ffccd4\" xlink:show=\"new\" xlink:title=\"psysml:18885de6-563e-4dd2-a418-c135b5ffccd4\" xlink:type=\"simple\"><path d=\"M198.05,66.57 C213.27,73.62 235.05,102.5 235.62,114.37 \" fill=\"none\" id=\"E7-E9-1\" style=\"stroke: #383838; stroke-width: 3.0;\"/><text fill=\"#000000\" font-family=\"sans-serif\" font-size=\"13\" lengthAdjust=\"spacingAndGlyphs\" textLength=\"7\" x=\"229.278\" y=\"103.4683\">*</text></a><!--MD5=[b0a5bc06cd47f8bd41a26e57d27c43c4]\n",
       "@startuml\r\n",
       "skinparam ranksep 10\r\n",
       "skinparam rectangle {\r\n",
       " backgroundColor<<block>> LightGreen\r\n",
       "}\r\n",
       "skinparam linetype polyline\r\n",
       "skinparam monochrome true\r\n",
       "skinparam classbackgroundcolor white\r\n",
       "skinparam shadowing false\r\n",
       "skinparam wrapWidth 300\r\n",
       "hide circle\r\n",
       "\r\n",
       "package \"AliasTest\" as E1  [[psysml:abede473-ce86-4cf2-9b0f-bcad92dda7df ]]  {\r\n",
       "comp usage \"q\" as E2  <<(T,blue) attribute>> [[psysml:84563fde-fc3c-4caa-a0d2-03a4409edda3 ]] {\r\n",
       "}\r\n",
       "rec def \"P1\" as E3  <<(T,blue) part def>> [[psysml:f240402e-e520-4bd4-a2fa-a40388aadc9d ]] {\r\n",
       "portin \"porig1\" as E4  <<(T,blue) port>> [[psysml:fb61bd91-52ec-4d42-be8a-ef485ce794d8 ]] \r\n",
       "portin \"porig1\" as E5  <<(T,blue) port>> [[psysml:fb61bd91-52ec-4d42-be8a-ef485ce794d8 ]] \r\n",
       "}\r\n",
       "rec usage \"p1: P1\" as E6  [[psysml:66a2f39c-c11d-47e1-a04e-46a9b54c38c0 ]] {\r\n",
       "portin \"po1\" as E7  <<(T,blue) port>> [[psysml:1cf4d29b-7212-465e-9bfc-2d9d3c47093a ]] \r\n",
       "}\r\n",
       "rec usage \"p2: P1\" as E8  [[psysml:d750b59a-5fb4-49de-a141-6edbceed9fe9 ]] {\r\n",
       "portin \"pdest\" as E9  <<(T,blue) port>> [[psysml:1ab4a2c7-e640-4092-b309-d8474ba4cc31 ]] \r\n",
       "portin \"pdest\" as E10  <<(T,blue) port>> [[psysml:1ab4a2c7-e640-4092-b309-d8474ba4cc31 ]] \r\n",
       "}\r\n",
       "}\r\n",
       "E7 -[thickness=3]- \"*\"E9 [[psysml:eaab9895-3808-4b7e-ad70-425cb7403c1b ]] \r\n",
       "E7 -[thickness=3]- \"*\"E9 [[psysml:18885de6-563e-4dd2-a418-c135b5ffccd4 ]] \r\n",
       "@enduml\r\n",
       "\n",
       "PlantUML version 1.2020.13(Sat Jun 13 12:26:38 UTC 2020)\n",
       "(EPL source distribution)\n",
       "Java Runtime: OpenJDK Runtime Environment\n",
       "JVM: OpenJDK 64-Bit Server VM\n",
       "Default Encoding: UTF-8\n",
       "Language: en\n",
       "Country: null\n",
       "--></g></svg>"
      ]
     },
     "execution_count": 12,
     "metadata": {},
     "output_type": "execute_result"
    }
   ],
   "source": [
    "%viz --style=\"POLYLINE\" --view=\"Interconnection\" \"AliasTest\""
   ]
  },
  {
   "cell_type": "code",
   "execution_count": 13,
   "id": "71bc7aa8",
   "metadata": {
    "execution": {
     "iopub.execute_input": "2021-09-27T07:19:08.711234Z",
     "iopub.status.busy": "2021-09-27T07:19:08.710820Z",
     "iopub.status.idle": "2021-09-27T07:19:08.717380Z",
     "shell.execute_reply": "2021-09-27T07:19:08.717708Z"
    }
   },
   "outputs": [
    {
     "data": {
      "image/svg+xml": [
       "<?xml version=\"1.0\" encoding=\"UTF-8\" standalone=\"no\"?><svg xmlns=\"http://www.w3.org/2000/svg\" xmlns:xlink=\"http://www.w3.org/1999/xlink\" contentScriptType=\"application/ecmascript\" contentStyleType=\"text/css\" height=\"12px\" preserveAspectRatio=\"none\" style=\"width:12px;height:12px;\" version=\"1.1\" viewBox=\"0 0 12 12\" width=\"12px\" zoomAndPan=\"magnify\"><defs/><g><!--MD5=[97bbf32f66ccd50cbc40d92ea8f5a65e]\n",
       "@startuml\r\n",
       "skinparam ranksep 8\r\n",
       "skinparam linetype polyline\r\n",
       "skinparam monochrome true\r\n",
       "skinparam classbackgroundcolor white\r\n",
       "skinparam shadowing false\r\n",
       "skinparam wrapWidth 300\r\n",
       "hide circle\r\n",
       "\r\n",
       "@enduml\r\n",
       "\n",
       "PlantUML version 1.2020.13(Sat Jun 13 12:26:38 UTC 2020)\n",
       "(EPL source distribution)\n",
       "Java Runtime: OpenJDK Runtime Environment\n",
       "JVM: OpenJDK 64-Bit Server VM\n",
       "Default Encoding: UTF-8\n",
       "Language: en\n",
       "Country: null\n",
       "--></g></svg>"
      ]
     },
     "execution_count": 13,
     "metadata": {},
     "output_type": "execute_result"
    }
   ],
   "source": [
    "%viz --style=\"POLYLINE\" --view=\"Action\" \"AliasTest\""
   ]
  },
  {
   "cell_type": "code",
   "execution_count": 14,
   "id": "07001fb7",
   "metadata": {
    "execution": {
     "iopub.execute_input": "2021-09-27T07:19:08.768626Z",
     "iopub.status.busy": "2021-09-27T07:19:08.768118Z",
     "iopub.status.idle": "2021-09-27T07:19:08.776096Z",
     "shell.execute_reply": "2021-09-27T07:19:08.776411Z"
    }
   },
   "outputs": [
    {
     "data": {
      "image/svg+xml": [
       "<?xml version=\"1.0\" encoding=\"UTF-8\" standalone=\"no\"?><svg xmlns=\"http://www.w3.org/2000/svg\" xmlns:xlink=\"http://www.w3.org/1999/xlink\" contentScriptType=\"application/ecmascript\" contentStyleType=\"text/css\" height=\"12px\" preserveAspectRatio=\"none\" style=\"width:12px;height:12px;\" version=\"1.1\" viewBox=\"0 0 12 12\" width=\"12px\" zoomAndPan=\"magnify\"><defs/><g><!--MD5=[dc938048236c351797870c36b62f92ad]\n",
       "@startuml\r\n",
       "skinparam roundcorner 20\r\n",
       "skinparam BoxPadding 20\r\n",
       "skinparam SequenceBoxBackgroundColor #white\r\n",
       "skinparam style strictuml\r\n",
       "skinparam maxMessageSize 100\r\n",
       "skinparam linetype polyline\r\n",
       "skinparam monochrome true\r\n",
       "skinparam classbackgroundcolor white\r\n",
       "skinparam shadowing false\r\n",
       "skinparam wrapWidth 300\r\n",
       "hide circle\r\n",
       "\r\n",
       "@enduml\r\n",
       "\n",
       "PlantUML version 1.2020.13(Sat Jun 13 12:26:38 UTC 2020)\n",
       "(EPL source distribution)\n",
       "Java Runtime: OpenJDK Runtime Environment\n",
       "JVM: OpenJDK 64-Bit Server VM\n",
       "Default Encoding: UTF-8\n",
       "Language: en\n",
       "Country: null\n",
       "--></g></svg>"
      ]
     },
     "execution_count": 14,
     "metadata": {},
     "output_type": "execute_result"
    }
   ],
   "source": [
    "%viz --style=\"POLYLINE\" --view=\"Sequence\" \"AliasTest\""
   ]
  },
  {
   "cell_type": "code",
   "execution_count": 15,
   "id": "3225ebe2",
   "metadata": {
    "execution": {
     "iopub.execute_input": "2021-09-27T07:19:08.826709Z",
     "iopub.status.busy": "2021-09-27T07:19:08.826284Z",
     "iopub.status.idle": "2021-09-27T07:19:08.873727Z",
     "shell.execute_reply": "2021-09-27T07:19:08.872440Z"
    }
   },
   "outputs": [
    {
     "data": {
      "image/svg+xml": [
       "<?xml version=\"1.0\" encoding=\"UTF-8\" standalone=\"no\"?><svg xmlns=\"http://www.w3.org/2000/svg\" xmlns:xlink=\"http://www.w3.org/1999/xlink\" contentScriptType=\"application/ecmascript\" contentStyleType=\"text/css\" height=\"327px\" preserveAspectRatio=\"none\" style=\"width:304px;height:327px;\" version=\"1.1\" viewBox=\"0 0 304 327\" width=\"304px\" zoomAndPan=\"magnify\"><defs/><g><!--MD5=[fbc87193dbaf4d95561dea2c320d4a47]\n",
       "cluster E1--><a href=\"psysml:abede473-ce86-4cf2-9b0f-bcad92dda7df\" target=\"_top\" title=\"psysml:abede473-ce86-4cf2-9b0f-bcad92dda7df\" xlink:actuate=\"onRequest\" xlink:href=\"psysml:abede473-ce86-4cf2-9b0f-bcad92dda7df\" xlink:show=\"new\" xlink:title=\"psysml:abede473-ce86-4cf2-9b0f-bcad92dda7df\" xlink:type=\"simple\"><polygon fill=\"#FFFFFF\" points=\"16,6,84,6,91,28.2969,282,28.2969,282,315,16,315,16,6\" style=\"stroke: #000000; stroke-width: 1.5;\"/><line style=\"stroke: #000000; stroke-width: 1.5;\" x1=\"16\" x2=\"91\" y1=\"28.2969\" y2=\"28.2969\"/><text fill=\"#000000\" font-family=\"sans-serif\" font-size=\"14\" font-weight=\"bold\" lengthAdjust=\"spacingAndGlyphs\" textLength=\"62\" x=\"20\" y=\"20.9951\">AliasTest</text></a><!--MD5=[b4997ac47864f28c2f74865a473b2911]\n",
       "class E2--><a href=\"psysml:84563fde-fc3c-4caa-a0d2-03a4409edda3\" target=\"_top\" title=\"psysml:84563fde-fc3c-4caa-a0d2-03a4409edda3\" xlink:actuate=\"onRequest\" xlink:href=\"psysml:84563fde-fc3c-4caa-a0d2-03a4409edda3\" xlink:show=\"new\" xlink:title=\"psysml:84563fde-fc3c-4caa-a0d2-03a4409edda3\" xlink:type=\"simple\"><rect fill=\"#FFFFFF\" height=\"45.9375\" id=\"E2\" rx=\"10\" ry=\"10\" style=\"stroke: #383838; stroke-width: 1.5;\" width=\"71\" x=\"194.5\" y=\"41\"/><text fill=\"#000000\" font-family=\"sans-serif\" font-size=\"12\" font-style=\"italic\" lengthAdjust=\"spacingAndGlyphs\" textLength=\"69\" x=\"195.5\" y=\"57.1387\">«attribute»</text><text fill=\"#000000\" font-family=\"sans-serif\" font-size=\"12\" lengthAdjust=\"spacingAndGlyphs\" textLength=\"8\" x=\"226\" y=\"71.1074\">q</text><line style=\"stroke: #383838; stroke-width: 1.5;\" x1=\"195.5\" x2=\"264.5\" y1=\"78.9375\" y2=\"78.9375\"/></a><!--MD5=[09b614a08d8cba4a07c9adeb5e0fee81]\n",
       "class E3--><a href=\"psysml:f240402e-e520-4bd4-a2fa-a40388aadc9d\" target=\"_top\" title=\"psysml:f240402e-e520-4bd4-a2fa-a40388aadc9d\" xlink:actuate=\"onRequest\" xlink:href=\"psysml:f240402e-e520-4bd4-a2fa-a40388aadc9d\" xlink:show=\"new\" xlink:title=\"psysml:f240402e-e520-4bd4-a2fa-a40388aadc9d\" xlink:type=\"simple\"><rect fill=\"#FFFFFF\" height=\"45.9375\" id=\"E3\" style=\"stroke: #383838; stroke-width: 1.5;\" width=\"66\" x=\"168\" y=\"147\"/><text fill=\"#000000\" font-family=\"sans-serif\" font-size=\"12\" font-style=\"italic\" lengthAdjust=\"spacingAndGlyphs\" textLength=\"64\" x=\"169\" y=\"163.1387\">«part def»</text><text fill=\"#000000\" font-family=\"sans-serif\" font-size=\"12\" lengthAdjust=\"spacingAndGlyphs\" textLength=\"16\" x=\"193\" y=\"177.1074\">P1</text><line style=\"stroke: #383838; stroke-width: 1.5;\" x1=\"169\" x2=\"233\" y1=\"184.9375\" y2=\"184.9375\"/></a><!--MD5=[ebbe1d658d1005bcc118a6aa81145e00]\n",
       "class E4--><a href=\"psysml:fb61bd91-52ec-4d42-be8a-ef485ce794d8\" target=\"_top\" title=\"psysml:fb61bd91-52ec-4d42-be8a-ef485ce794d8\" xlink:actuate=\"onRequest\" xlink:href=\"psysml:fb61bd91-52ec-4d42-be8a-ef485ce794d8\" xlink:show=\"new\" xlink:title=\"psysml:fb61bd91-52ec-4d42-be8a-ef485ce794d8\" xlink:type=\"simple\"><rect fill=\"#FFFFFF\" height=\"45.9375\" id=\"E4\" rx=\"10\" ry=\"10\" style=\"stroke: #383838; stroke-width: 1.5;\" width=\"46\" x=\"178\" y=\"253\"/><text fill=\"#000000\" font-family=\"sans-serif\" font-size=\"12\" font-style=\"italic\" lengthAdjust=\"spacingAndGlyphs\" textLength=\"40\" x=\"181\" y=\"269.1387\">«port»</text><text fill=\"#000000\" font-family=\"sans-serif\" font-size=\"12\" lengthAdjust=\"spacingAndGlyphs\" textLength=\"40\" x=\"181\" y=\"283.1074\">porig1</text><line style=\"stroke: #383838; stroke-width: 1.5;\" x1=\"179\" x2=\"223\" y1=\"290.9375\" y2=\"290.9375\"/></a><!--MD5=[270fce915f116d4de14055a7c1d9a0f3]\n",
       "class E5--><a href=\"psysml:66a2f39c-c11d-47e1-a04e-46a9b54c38c0\" target=\"_top\" title=\"psysml:66a2f39c-c11d-47e1-a04e-46a9b54c38c0\" xlink:actuate=\"onRequest\" xlink:href=\"psysml:66a2f39c-c11d-47e1-a04e-46a9b54c38c0\" xlink:show=\"new\" xlink:title=\"psysml:66a2f39c-c11d-47e1-a04e-46a9b54c38c0\" xlink:type=\"simple\"><rect fill=\"#FFFFFF\" height=\"45.9375\" id=\"E5\" rx=\"10\" ry=\"10\" style=\"stroke: #383838; stroke-width: 1.5;\" width=\"46\" x=\"113\" y=\"41\"/><text fill=\"#000000\" font-family=\"sans-serif\" font-size=\"12\" font-style=\"italic\" lengthAdjust=\"spacingAndGlyphs\" textLength=\"40\" x=\"116\" y=\"57.1387\">«part»</text><text fill=\"#000000\" font-family=\"sans-serif\" font-size=\"12\" lengthAdjust=\"spacingAndGlyphs\" textLength=\"40\" x=\"116\" y=\"71.1074\">p1: P1</text><line style=\"stroke: #383838; stroke-width: 1.5;\" x1=\"114\" x2=\"158\" y1=\"78.9375\" y2=\"78.9375\"/></a><!--MD5=[60a26617385b1d2d0262a64233df1f8d]\n",
       "class E6--><a href=\"psysml:1cf4d29b-7212-465e-9bfc-2d9d3c47093a\" target=\"_top\" title=\"psysml:1cf4d29b-7212-465e-9bfc-2d9d3c47093a\" xlink:actuate=\"onRequest\" xlink:href=\"psysml:1cf4d29b-7212-465e-9bfc-2d9d3c47093a\" xlink:show=\"new\" xlink:title=\"psysml:1cf4d29b-7212-465e-9bfc-2d9d3c47093a\" xlink:type=\"simple\"><rect fill=\"#FFFFFF\" height=\"45.9375\" id=\"E6\" rx=\"10\" ry=\"10\" style=\"stroke: #383838; stroke-width: 1.5;\" width=\"42\" x=\"91\" y=\"147\"/><text fill=\"#000000\" font-family=\"sans-serif\" font-size=\"12\" font-style=\"italic\" lengthAdjust=\"spacingAndGlyphs\" textLength=\"40\" x=\"92\" y=\"163.1387\">«port»</text><text fill=\"#000000\" font-family=\"sans-serif\" font-size=\"12\" lengthAdjust=\"spacingAndGlyphs\" textLength=\"24\" x=\"100\" y=\"177.1074\">po1</text><line style=\"stroke: #383838; stroke-width: 1.5;\" x1=\"92\" x2=\"132\" y1=\"184.9375\" y2=\"184.9375\"/></a><!--MD5=[2156ba9850f5573cc1fc38a6a4b2f02b]\n",
       "class E7--><a href=\"psysml:d750b59a-5fb4-49de-a141-6edbceed9fe9\" target=\"_top\" title=\"psysml:d750b59a-5fb4-49de-a141-6edbceed9fe9\" xlink:actuate=\"onRequest\" xlink:href=\"psysml:d750b59a-5fb4-49de-a141-6edbceed9fe9\" xlink:show=\"new\" xlink:title=\"psysml:d750b59a-5fb4-49de-a141-6edbceed9fe9\" xlink:type=\"simple\"><rect fill=\"#FFFFFF\" height=\"45.9375\" id=\"E7\" rx=\"10\" ry=\"10\" style=\"stroke: #383838; stroke-width: 1.5;\" width=\"46\" x=\"32\" y=\"41\"/><text fill=\"#000000\" font-family=\"sans-serif\" font-size=\"12\" font-style=\"italic\" lengthAdjust=\"spacingAndGlyphs\" textLength=\"40\" x=\"35\" y=\"57.1387\">«part»</text><text fill=\"#000000\" font-family=\"sans-serif\" font-size=\"12\" lengthAdjust=\"spacingAndGlyphs\" textLength=\"40\" x=\"35\" y=\"71.1074\">p2: P1</text><line style=\"stroke: #383838; stroke-width: 1.5;\" x1=\"33\" x2=\"77\" y1=\"78.9375\" y2=\"78.9375\"/></a><!--MD5=[b9389687b975829384b498ac4b7476b2]\n",
       "class E8--><a href=\"psysml:1ab4a2c7-e640-4092-b309-d8474ba4cc31\" target=\"_top\" title=\"psysml:1ab4a2c7-e640-4092-b309-d8474ba4cc31\" xlink:actuate=\"onRequest\" xlink:href=\"psysml:1ab4a2c7-e640-4092-b309-d8474ba4cc31\" xlink:show=\"new\" xlink:title=\"psysml:1ab4a2c7-e640-4092-b309-d8474ba4cc31\" xlink:type=\"simple\"><rect fill=\"#FFFFFF\" height=\"45.9375\" id=\"E8\" rx=\"10\" ry=\"10\" style=\"stroke: #383838; stroke-width: 1.5;\" width=\"42\" x=\"63\" y=\"253\"/><text fill=\"#000000\" font-family=\"sans-serif\" font-size=\"12\" font-style=\"italic\" lengthAdjust=\"spacingAndGlyphs\" textLength=\"40\" x=\"64\" y=\"269.1387\">«port»</text><text fill=\"#000000\" font-family=\"sans-serif\" font-size=\"12\" lengthAdjust=\"spacingAndGlyphs\" textLength=\"36\" x=\"66\" y=\"283.1074\">pdest</text><line style=\"stroke: #383838; stroke-width: 1.5;\" x1=\"64\" x2=\"104\" y1=\"290.9375\" y2=\"290.9375\"/></a><!--MD5=[4672eba38e49728da53d11aeb285b987]\n",
       "reverse link E3 to E4--><a href=\"psysml:b0a1a3b9-a387-42d1-a567-e540cd2e1d19\" target=\"_top\" title=\"psysml:b0a1a3b9-a387-42d1-a567-e540cd2e1d19\" xlink:actuate=\"onRequest\" xlink:href=\"psysml:b0a1a3b9-a387-42d1-a567-e540cd2e1d19\" xlink:show=\"new\" xlink:title=\"psysml:b0a1a3b9-a387-42d1-a567-e540cd2e1d19\" xlink:type=\"simple\"><path d=\"M188.84,206.44 C187.7,221.87 188.21,239.47 190.36,252.98 \" fill=\"none\" id=\"E3&lt;-E4\" style=\"stroke: #383838; stroke-width: 1.0;\"/><polygon fill=\"#FFFFFF\" points=\"190.35,193.06,185.7032,198.5743,189.006,204.9845,193.6528,199.4702,190.35,193.06\" style=\"stroke: #383838; stroke-width: 1.0;\"/><text fill=\"#000000\" font-family=\"sans-serif\" font-size=\"13\" lengthAdjust=\"spacingAndGlyphs\" textLength=\"8\" x=\"178.4255\" y=\"241.8709\">1</text></a><!--MD5=[4672eba38e49728da53d11aeb285b987]\n",
       "reverse link E3 to E4--><a href=\"psysml:b116cd08-9727-4fd8-b1d3-1b9f6deb041c\" target=\"_top\" title=\"psysml:b116cd08-9727-4fd8-b1d3-1b9f6deb041c\" xlink:actuate=\"onRequest\" xlink:href=\"psysml:b116cd08-9727-4fd8-b1d3-1b9f6deb041c\" xlink:show=\"new\" xlink:title=\"psysml:b116cd08-9727-4fd8-b1d3-1b9f6deb041c\" xlink:type=\"simple\"><path d=\"M214.01,208.34 C215.03,223.3 214.45,240.02 212.27,252.98 \" fill=\"none\" id=\"E3&lt;-E4-1\" style=\"stroke: #383838; stroke-width: 1.0; stroke-dasharray: 7.0,7.0;\"/><ellipse cx=\"213.1693\" cy=\"201.0093\" fill=\"#FFFFFF\" rx=\"8\" ry=\"8\" style=\"stroke: #383838; stroke-width: 1.0;\"/><line style=\"stroke: #383838; stroke-width: 1.0;\" x1=\"214.0687\" x2=\"212.27\" y1=\"208.9586\" y2=\"193.06\"/><line style=\"stroke: #383838; stroke-width: 1.0;\" x1=\"205.2201\" x2=\"221.1186\" y1=\"201.9086\" y2=\"200.1099\"/><text fill=\"#000000\" font-family=\"sans-serif\" font-size=\"13\" lengthAdjust=\"spacingAndGlyphs\" textLength=\"8\" x=\"206.2238\" y=\"241.8709\">1</text></a><!--MD5=[e9be52314489bd878ff4c7144b63c9e1]\n",
       "link E5 to E3--><a href=\"psysml:b60c9595-85bf-4c72-aa43-c7c5a3162c28\" target=\"_top\" title=\"psysml:b60c9595-85bf-4c72-aa43-c7c5a3162c28\" xlink:actuate=\"onRequest\" xlink:href=\"psysml:b60c9595-85bf-4c72-aa43-c7c5a3162c28\" xlink:show=\"new\" xlink:title=\"psysml:b60c9595-85bf-4c72-aa43-c7c5a3162c28\" xlink:type=\"simple\"><path d=\"M149.78,87.06 C157.54,99.47 167.45,115.33 176.49,129.78 \" fill=\"none\" id=\"E5-&gt;E3\" style=\"stroke: #383838; stroke-width: 1.0;\"/><polygon fill=\"#FFFFFF\" points=\"187.24,146.98,171.2331,134.5792,183.1045,127.1584,187.24,146.98\" style=\"stroke: #383838; stroke-width: 1.0;\"/><ellipse cx=\"169.9076\" cy=\"128.6857\" fill=\"#383838\" rx=\"2\" ry=\"2\" style=\"stroke: #383838; stroke-width: 1.0;\"/><ellipse cx=\"178.3872\" cy=\"123.3851\" fill=\"#383838\" rx=\"2\" ry=\"2\" style=\"stroke: #383838; stroke-width: 1.0;\"/></a><!--MD5=[85d356282659285ab4b2cfe2f634dd2b]\n",
       "reverse link E5 to E6--><a href=\"psysml:5e5f570b-f88f-4e5d-bde6-a1031949a59c\" target=\"_top\" title=\"psysml:5e5f570b-f88f-4e5d-bde6-a1031949a59c\" xlink:actuate=\"onRequest\" xlink:href=\"psysml:5e5f570b-f88f-4e5d-bde6-a1031949a59c\" xlink:show=\"new\" xlink:title=\"psysml:5e5f570b-f88f-4e5d-bde6-a1031949a59c\" xlink:type=\"simple\"><path d=\"M127.93,99.96 C124.34,115.51 120.23,133.33 117.08,146.98 \" fill=\"none\" id=\"E5&lt;-E6\" style=\"stroke: #383838; stroke-width: 1.0;\"/><polygon fill=\"#FFFFFF\" points=\"130.91,87.06,125.6616,92.0052,128.2078,98.7518,133.4562,93.8066,130.91,87.06\" style=\"stroke: #383838; stroke-width: 1.0;\"/><text fill=\"#000000\" font-family=\"sans-serif\" font-size=\"13\" lengthAdjust=\"spacingAndGlyphs\" textLength=\"8\" x=\"109.3703\" y=\"135.8709\">1</text></a><!--MD5=[f667431f98296947986a1a7595a31603]\n",
       "link E6 to E4--><a href=\"psysml:ccd9da30-2bd5-4e38-bf20-b9f9621d2107\" target=\"_top\" title=\"psysml:ccd9da30-2bd5-4e38-bf20-b9f9621d2107\" xlink:actuate=\"onRequest\" xlink:href=\"psysml:ccd9da30-2bd5-4e38-bf20-b9f9621d2107\" xlink:show=\"new\" xlink:title=\"psysml:ccd9da30-2bd5-4e38-bf20-b9f9621d2107\" xlink:type=\"simple\"><path d=\"M130.87,193.06 C141.97,206.02 156.28,222.74 169.08,237.7 \" fill=\"none\" id=\"E6-&gt;E4\" style=\"stroke: #383838; stroke-width: 1.0;\"/><polygon fill=\"#FFFFFF\" points=\"182.15,252.98,164.4809,243.0905,175.1204,233.9909,182.15,252.98\" style=\"stroke: #383838; stroke-width: 1.0;\"/><line style=\"stroke: #383838; stroke-width: 2.0;\" x1=\"162.011\" x2=\"172.6505\" y1=\"240.2026\" y2=\"231.1031\"/></a><!--MD5=[14ccda38c055a5c0da953d572bc50960]\n",
       "link E7 to E3--><a href=\"psysml:8fc3f931-75e6-473d-9c07-27a38ec18c6d\" target=\"_top\" title=\"psysml:8fc3f931-75e6-473d-9c07-27a38ec18c6d\" xlink:actuate=\"onRequest\" xlink:href=\"psysml:8fc3f931-75e6-473d-9c07-27a38ec18c6d\" xlink:show=\"new\" xlink:title=\"psysml:8fc3f931-75e6-473d-9c07-27a38ec18c6d\" xlink:type=\"simple\"><path d=\"M78.13,81.48 C98.32,95.86 128.25,117.18 153.52,135.18 \" fill=\"none\" id=\"E7-&gt;E3\" style=\"stroke: #383838; stroke-width: 1.0;\"/><polygon fill=\"#FFFFFF\" points=\"170.09,146.98,150.5533,141.6586,158.6755,130.2555,170.09,146.98\" style=\"stroke: #383838; stroke-width: 1.0;\"/><ellipse cx=\"147.0709\" cy=\"136.7227\" fill=\"#383838\" rx=\"2\" ry=\"2\" style=\"stroke: #383838; stroke-width: 1.0;\"/><ellipse cx=\"152.8725\" cy=\"128.5776\" fill=\"#383838\" rx=\"2\" ry=\"2\" style=\"stroke: #383838; stroke-width: 1.0;\"/></a><!--MD5=[dc164f5e8a733ab456ef1add180e9e34]\n",
       "reverse link E7 to E8--><a href=\"psysml:36a32e90-a022-4c42-9b64-7c79f5d1d72c\" target=\"_top\" title=\"psysml:36a32e90-a022-4c42-9b64-7c79f5d1d72c\" xlink:actuate=\"onRequest\" xlink:href=\"psysml:36a32e90-a022-4c42-9b64-7c79f5d1d72c\" xlink:show=\"new\" xlink:title=\"psysml:36a32e90-a022-4c42-9b64-7c79f5d1d72c\" xlink:type=\"simple\"><path d=\"M50.05,100.09 C51.65,143.61 62.25,216.5 72.75,252.9 \" fill=\"none\" id=\"E7&lt;-E8\" style=\"stroke: #383838; stroke-width: 1.0;\"/><polygon fill=\"#FFFFFF\" points=\"49.85,87.08,45.9362,93.1366,50.0216,99.0788,53.9354,93.0222,49.85,87.08\" style=\"stroke: #383838; stroke-width: 1.0;\"/><text fill=\"#000000\" font-family=\"sans-serif\" font-size=\"13\" lengthAdjust=\"spacingAndGlyphs\" textLength=\"8\" x=\"60.6516\" y=\"241.7694\">1</text></a><!--MD5=[dc164f5e8a733ab456ef1add180e9e34]\n",
       "reverse link E7 to E8--><a href=\"psysml:346ab8ae-1d2f-462f-a94e-fae0b61189bf\" target=\"_top\" title=\"psysml:346ab8ae-1d2f-462f-a94e-fae0b61189bf\" xlink:actuate=\"onRequest\" xlink:href=\"psysml:346ab8ae-1d2f-462f-a94e-fae0b61189bf\" xlink:show=\"new\" xlink:title=\"psysml:346ab8ae-1d2f-462f-a94e-fae0b61189bf\" xlink:type=\"simple\"><path d=\"M70.64,101.8 C81.15,145.5 90.39,216.97 89.63,252.9 \" fill=\"none\" id=\"E7&lt;-E8-1\" style=\"stroke: #383838; stroke-width: 1.0; stroke-dasharray: 7.0,7.0;\"/><ellipse cx=\"68.7794\" cy=\"94.813\" fill=\"#FFFFFF\" rx=\"8\" ry=\"8\" style=\"stroke: #383838; stroke-width: 1.0;\"/><line style=\"stroke: #383838; stroke-width: 1.0;\" x1=\"70.8289\" x2=\"66.73\" y1=\"102.5461\" y2=\"87.08\"/><line style=\"stroke: #383838; stroke-width: 1.0;\" x1=\"61.0464\" x2=\"76.5125\" y1=\"96.8625\" y2=\"92.7636\"/><text fill=\"#000000\" font-family=\"sans-serif\" font-size=\"13\" lengthAdjust=\"spacingAndGlyphs\" textLength=\"8\" x=\"92.2181\" y=\"241.7694\">1</text></a><!--MD5=[0a839d0f80c2d72d4b9b307f046d0de8]\n",
       "link E6 to E8--><a href=\"psysml:eaab9895-3808-4b7e-ad70-425cb7403c1b\" target=\"_top\" title=\"psysml:eaab9895-3808-4b7e-ad70-425cb7403c1b\" xlink:actuate=\"onRequest\" xlink:href=\"psysml:eaab9895-3808-4b7e-ad70-425cb7403c1b\" xlink:show=\"new\" xlink:title=\"psysml:eaab9895-3808-4b7e-ad70-425cb7403c1b\" xlink:type=\"simple\"><path d=\"M95.42,193.06 C87.86,210.7 81.23,235.34 79.29,252.98 \" fill=\"none\" id=\"E6-E8\" style=\"stroke: #383838; stroke-width: 3.0;\"/><text fill=\"#000000\" font-family=\"sans-serif\" font-size=\"13\" lengthAdjust=\"spacingAndGlyphs\" textLength=\"7\" x=\"78.9648\" y=\"241.8709\">*</text></a><!--MD5=[0a839d0f80c2d72d4b9b307f046d0de8]\n",
       "link E6 to E8--><a href=\"psysml:18885de6-563e-4dd2-a418-c135b5ffccd4\" target=\"_top\" title=\"psysml:18885de6-563e-4dd2-a418-c135b5ffccd4\" xlink:actuate=\"onRequest\" xlink:href=\"psysml:18885de6-563e-4dd2-a418-c135b5ffccd4\" xlink:show=\"new\" xlink:title=\"psysml:18885de6-563e-4dd2-a418-c135b5ffccd4\" xlink:type=\"simple\"><path d=\"M117.33,193.06 C115.55,210.7 108.92,235.34 101.2,252.98 \" fill=\"none\" id=\"E6-E8-1\" style=\"stroke: #383838; stroke-width: 3.0;\"/><text fill=\"#000000\" font-family=\"sans-serif\" font-size=\"13\" lengthAdjust=\"spacingAndGlyphs\" textLength=\"7\" x=\"97.8819\" y=\"241.8709\">*</text></a><!--MD5=[cf49bfe2fafa59dac31ada0ed4a0d9f5]\n",
       "@startuml\r\n",
       "skinparam linetype polyline\r\n",
       "skinparam monochrome true\r\n",
       "skinparam classbackgroundcolor white\r\n",
       "skinparam shadowing false\r\n",
       "skinparam wrapWidth 300\r\n",
       "hide circle\r\n",
       "\r\n",
       "package \"AliasTest\" as E1  [[psysml:abede473-ce86-4cf2-9b0f-bcad92dda7df ]]  {\r\n",
       "comp usage \"q\" as E2  <<(T,blue) attribute>> [[psysml:84563fde-fc3c-4caa-a0d2-03a4409edda3 ]] {\r\n",
       "}\r\n",
       "comp def \"P1\" as E3  <<(T,blue) part def>> [[psysml:f240402e-e520-4bd4-a2fa-a40388aadc9d ]] {\r\n",
       "}\r\n",
       "comp usage \"porig1\" as E4  <<(T,blue) port>> [[psysml:fb61bd91-52ec-4d42-be8a-ef485ce794d8 ]] {\r\n",
       "}\r\n",
       "comp usage \"p1: P1\" as E5  <<(T,blue) part>> [[psysml:66a2f39c-c11d-47e1-a04e-46a9b54c38c0 ]] {\r\n",
       "}\r\n",
       "comp usage \"po1\" as E6  <<(T,blue) port>> [[psysml:1cf4d29b-7212-465e-9bfc-2d9d3c47093a ]] {\r\n",
       "}\r\n",
       "comp usage \"p2: P1\" as E7  <<(T,blue) part>> [[psysml:d750b59a-5fb4-49de-a141-6edbceed9fe9 ]] {\r\n",
       "}\r\n",
       "comp usage \"pdest\" as E8  <<(T,blue) port>> [[psysml:1ab4a2c7-e640-4092-b309-d8474ba4cc31 ]] {\r\n",
       "}\r\n",
       "}\r\n",
       "E3 o- - \"1\"E4 [[psysml:b0a1a3b9-a387-42d1-a567-e540cd2e1d19 ]] \r\n",
       "E3 +.. \"1\"E4 [[psysml:b116cd08-9727-4fd8-b1d3-1b9f6deb041c ]] \r\n",
       "E5 - -:|> E3 [[psysml:b60c9595-85bf-4c72-aa43-c7c5a3162c28 ]] \r\n",
       "E5 o- - \"1\"E6 [[psysml:5e5f570b-f88f-4e5d-bde6-a1031949a59c ]] \r\n",
       "E6 - -||> E4 [[psysml:ccd9da30-2bd5-4e38-bf20-b9f9621d2107 ]] \r\n",
       "E7 - -:|> E3 [[psysml:8fc3f931-75e6-473d-9c07-27a38ec18c6d ]] \r\n",
       "E7 o- - \"1\"E8 [[psysml:36a32e90-a022-4c42-9b64-7c79f5d1d72c ]] \r\n",
       "E7 +.. \"1\"E8 [[psysml:346ab8ae-1d2f-462f-a94e-fae0b61189bf ]] \r\n",
       "E6 -[thickness=3]- \"*\"E8 [[psysml:eaab9895-3808-4b7e-ad70-425cb7403c1b ]] \r\n",
       "E6 -[thickness=3]- \"*\"E8 [[psysml:18885de6-563e-4dd2-a418-c135b5ffccd4 ]] \r\n",
       "@enduml\r\n",
       "\n",
       "PlantUML version 1.2020.13(Sat Jun 13 12:26:38 UTC 2020)\n",
       "(EPL source distribution)\n",
       "Java Runtime: OpenJDK Runtime Environment\n",
       "JVM: OpenJDK 64-Bit Server VM\n",
       "Default Encoding: UTF-8\n",
       "Language: en\n",
       "Country: null\n",
       "--></g></svg>"
      ]
     },
     "execution_count": 15,
     "metadata": {},
     "output_type": "execute_result"
    }
   ],
   "source": [
    "%viz --style=\"POLYLINE\" --view=\"MIXED\" \"AliasTest\""
   ]
  },
  {
   "cell_type": "code",
   "execution_count": 16,
   "id": "8ae84aea",
   "metadata": {
    "execution": {
     "iopub.execute_input": "2021-09-27T07:19:08.923863Z",
     "iopub.status.busy": "2021-09-27T07:19:08.923450Z",
     "iopub.status.idle": "2021-09-27T07:19:08.970065Z",
     "shell.execute_reply": "2021-09-27T07:19:08.968700Z"
    }
   },
   "outputs": [
    {
     "data": {
      "image/svg+xml": [
       "<?xml version=\"1.0\" encoding=\"UTF-8\" standalone=\"no\"?><svg xmlns=\"http://www.w3.org/2000/svg\" xmlns:xlink=\"http://www.w3.org/1999/xlink\" contentScriptType=\"application/ecmascript\" contentStyleType=\"text/css\" height=\"277px\" preserveAspectRatio=\"none\" style=\"width:373px;height:277px;\" version=\"1.1\" viewBox=\"0 0 373 277\" width=\"373px\" zoomAndPan=\"magnify\"><defs/><g><!--MD5=[fbc87193dbaf4d95561dea2c320d4a47]\n",
       "cluster E1--><a href=\"psysml:abede473-ce86-4cf2-9b0f-bcad92dda7df\" target=\"_top\" title=\"psysml:abede473-ce86-4cf2-9b0f-bcad92dda7df\" xlink:actuate=\"onRequest\" xlink:href=\"psysml:abede473-ce86-4cf2-9b0f-bcad92dda7df\" xlink:show=\"new\" xlink:title=\"psysml:abede473-ce86-4cf2-9b0f-bcad92dda7df\" xlink:type=\"simple\"><polygon fill=\"#FFFFFF\" points=\"16,6,84,6,91,28.2969,351,28.2969,351,265,16,265,16,6\" style=\"stroke: #000000; stroke-width: 1.5;\"/><line style=\"stroke: #000000; stroke-width: 1.5;\" x1=\"16\" x2=\"91\" y1=\"28.2969\" y2=\"28.2969\"/><text fill=\"#000000\" font-family=\"sans-serif\" font-size=\"14\" font-weight=\"bold\" lengthAdjust=\"spacingAndGlyphs\" textLength=\"62\" x=\"20\" y=\"20.9951\">AliasTest</text></a><!--MD5=[b4997ac47864f28c2f74865a473b2911]\n",
       "class E2--><a href=\"psysml:84563fde-fc3c-4caa-a0d2-03a4409edda3\" target=\"_top\" title=\"psysml:84563fde-fc3c-4caa-a0d2-03a4409edda3\" xlink:actuate=\"onRequest\" xlink:href=\"psysml:84563fde-fc3c-4caa-a0d2-03a4409edda3\" xlink:show=\"new\" xlink:title=\"psysml:84563fde-fc3c-4caa-a0d2-03a4409edda3\" xlink:type=\"simple\"><rect fill=\"#FFFFFF\" height=\"45.9375\" id=\"E2\" rx=\"10\" ry=\"10\" style=\"stroke: #383838; stroke-width: 1.5;\" width=\"71\" x=\"32\" y=\"41\"/><text fill=\"#000000\" font-family=\"sans-serif\" font-size=\"12\" font-style=\"italic\" lengthAdjust=\"spacingAndGlyphs\" textLength=\"69\" x=\"33\" y=\"57.1387\">«attribute»</text><text fill=\"#000000\" font-family=\"sans-serif\" font-size=\"12\" lengthAdjust=\"spacingAndGlyphs\" textLength=\"8\" x=\"63.5\" y=\"71.1074\">q</text><line style=\"stroke: #383838; stroke-width: 1.5;\" x1=\"33\" x2=\"102\" y1=\"78.9375\" y2=\"78.9375\"/></a><!--MD5=[09b614a08d8cba4a07c9adeb5e0fee81]\n",
       "class E3--><a href=\"psysml:f240402e-e520-4bd4-a2fa-a40388aadc9d\" target=\"_top\" title=\"psysml:f240402e-e520-4bd4-a2fa-a40388aadc9d\" xlink:actuate=\"onRequest\" xlink:href=\"psysml:f240402e-e520-4bd4-a2fa-a40388aadc9d\" xlink:show=\"new\" xlink:title=\"psysml:f240402e-e520-4bd4-a2fa-a40388aadc9d\" xlink:type=\"simple\"><rect fill=\"#FFFFFF\" height=\"45.9375\" id=\"E3\" style=\"stroke: #383838; stroke-width: 1.5;\" width=\"66\" x=\"163\" y=\"63\"/><text fill=\"#000000\" font-family=\"sans-serif\" font-size=\"12\" font-style=\"italic\" lengthAdjust=\"spacingAndGlyphs\" textLength=\"64\" x=\"164\" y=\"79.1387\">«part def»</text><text fill=\"#000000\" font-family=\"sans-serif\" font-size=\"12\" lengthAdjust=\"spacingAndGlyphs\" textLength=\"16\" x=\"188\" y=\"93.1074\">P1</text><line style=\"stroke: #383838; stroke-width: 1.5;\" x1=\"164\" x2=\"228\" y1=\"100.9375\" y2=\"100.9375\"/></a><!--MD5=[ebbe1d658d1005bcc118a6aa81145e00]\n",
       "class E4--><a href=\"psysml:fb61bd91-52ec-4d42-be8a-ef485ce794d8\" target=\"_top\" title=\"psysml:fb61bd91-52ec-4d42-be8a-ef485ce794d8\" xlink:actuate=\"onRequest\" xlink:href=\"psysml:fb61bd91-52ec-4d42-be8a-ef485ce794d8\" xlink:show=\"new\" xlink:title=\"psysml:fb61bd91-52ec-4d42-be8a-ef485ce794d8\" xlink:type=\"simple\"><rect fill=\"#FFFFFF\" height=\"45.9375\" id=\"E4\" rx=\"10\" ry=\"10\" style=\"stroke: #383838; stroke-width: 1.5;\" width=\"46\" x=\"289\" y=\"63\"/><text fill=\"#000000\" font-family=\"sans-serif\" font-size=\"12\" font-style=\"italic\" lengthAdjust=\"spacingAndGlyphs\" textLength=\"40\" x=\"292\" y=\"79.1387\">«port»</text><text fill=\"#000000\" font-family=\"sans-serif\" font-size=\"12\" lengthAdjust=\"spacingAndGlyphs\" textLength=\"40\" x=\"292\" y=\"93.1074\">porig1</text><line style=\"stroke: #383838; stroke-width: 1.5;\" x1=\"290\" x2=\"334\" y1=\"100.9375\" y2=\"100.9375\"/></a><!--MD5=[270fce915f116d4de14055a7c1d9a0f3]\n",
       "class E5--><a href=\"psysml:66a2f39c-c11d-47e1-a04e-46a9b54c38c0\" target=\"_top\" title=\"psysml:66a2f39c-c11d-47e1-a04e-46a9b54c38c0\" xlink:actuate=\"onRequest\" xlink:href=\"psysml:66a2f39c-c11d-47e1-a04e-46a9b54c38c0\" xlink:show=\"new\" xlink:title=\"psysml:66a2f39c-c11d-47e1-a04e-46a9b54c38c0\" xlink:type=\"simple\"><rect fill=\"#FFFFFF\" height=\"45.9375\" id=\"E5\" rx=\"10\" ry=\"10\" style=\"stroke: #383838; stroke-width: 1.5;\" width=\"46\" x=\"44.5\" y=\"122\"/><text fill=\"#000000\" font-family=\"sans-serif\" font-size=\"12\" font-style=\"italic\" lengthAdjust=\"spacingAndGlyphs\" textLength=\"40\" x=\"47.5\" y=\"138.1387\">«part»</text><text fill=\"#000000\" font-family=\"sans-serif\" font-size=\"12\" lengthAdjust=\"spacingAndGlyphs\" textLength=\"40\" x=\"47.5\" y=\"152.1074\">p1: P1</text><line style=\"stroke: #383838; stroke-width: 1.5;\" x1=\"45.5\" x2=\"89.5\" y1=\"159.9375\" y2=\"159.9375\"/></a><!--MD5=[60a26617385b1d2d0262a64233df1f8d]\n",
       "class E6--><a href=\"psysml:1cf4d29b-7212-465e-9bfc-2d9d3c47093a\" target=\"_top\" title=\"psysml:1cf4d29b-7212-465e-9bfc-2d9d3c47093a\" xlink:actuate=\"onRequest\" xlink:href=\"psysml:1cf4d29b-7212-465e-9bfc-2d9d3c47093a\" xlink:show=\"new\" xlink:title=\"psysml:1cf4d29b-7212-465e-9bfc-2d9d3c47093a\" xlink:type=\"simple\"><rect fill=\"#FFFFFF\" height=\"45.9375\" id=\"E6\" rx=\"10\" ry=\"10\" style=\"stroke: #383838; stroke-width: 1.5;\" width=\"42\" x=\"175\" y=\"144\"/><text fill=\"#000000\" font-family=\"sans-serif\" font-size=\"12\" font-style=\"italic\" lengthAdjust=\"spacingAndGlyphs\" textLength=\"40\" x=\"176\" y=\"160.1387\">«port»</text><text fill=\"#000000\" font-family=\"sans-serif\" font-size=\"12\" lengthAdjust=\"spacingAndGlyphs\" textLength=\"24\" x=\"184\" y=\"174.1074\">po1</text><line style=\"stroke: #383838; stroke-width: 1.5;\" x1=\"176\" x2=\"216\" y1=\"181.9375\" y2=\"181.9375\"/></a><!--MD5=[2156ba9850f5573cc1fc38a6a4b2f02b]\n",
       "class E7--><a href=\"psysml:d750b59a-5fb4-49de-a141-6edbceed9fe9\" target=\"_top\" title=\"psysml:d750b59a-5fb4-49de-a141-6edbceed9fe9\" xlink:actuate=\"onRequest\" xlink:href=\"psysml:d750b59a-5fb4-49de-a141-6edbceed9fe9\" xlink:show=\"new\" xlink:title=\"psysml:d750b59a-5fb4-49de-a141-6edbceed9fe9\" xlink:type=\"simple\"><rect fill=\"#FFFFFF\" height=\"45.9375\" id=\"E7\" rx=\"10\" ry=\"10\" style=\"stroke: #383838; stroke-width: 1.5;\" width=\"46\" x=\"44.5\" y=\"203\"/><text fill=\"#000000\" font-family=\"sans-serif\" font-size=\"12\" font-style=\"italic\" lengthAdjust=\"spacingAndGlyphs\" textLength=\"40\" x=\"47.5\" y=\"219.1387\">«part»</text><text fill=\"#000000\" font-family=\"sans-serif\" font-size=\"12\" lengthAdjust=\"spacingAndGlyphs\" textLength=\"40\" x=\"47.5\" y=\"233.1074\">p2: P1</text><line style=\"stroke: #383838; stroke-width: 1.5;\" x1=\"45.5\" x2=\"89.5\" y1=\"240.9375\" y2=\"240.9375\"/></a><!--MD5=[b9389687b975829384b498ac4b7476b2]\n",
       "class E8--><a href=\"psysml:1ab4a2c7-e640-4092-b309-d8474ba4cc31\" target=\"_top\" title=\"psysml:1ab4a2c7-e640-4092-b309-d8474ba4cc31\" xlink:actuate=\"onRequest\" xlink:href=\"psysml:1ab4a2c7-e640-4092-b309-d8474ba4cc31\" xlink:show=\"new\" xlink:title=\"psysml:1ab4a2c7-e640-4092-b309-d8474ba4cc31\" xlink:type=\"simple\"><rect fill=\"#FFFFFF\" height=\"45.9375\" id=\"E8\" rx=\"10\" ry=\"10\" style=\"stroke: #383838; stroke-width: 1.5;\" width=\"42\" x=\"291\" y=\"173\"/><text fill=\"#000000\" font-family=\"sans-serif\" font-size=\"12\" font-style=\"italic\" lengthAdjust=\"spacingAndGlyphs\" textLength=\"40\" x=\"292\" y=\"189.1387\">«port»</text><text fill=\"#000000\" font-family=\"sans-serif\" font-size=\"12\" lengthAdjust=\"spacingAndGlyphs\" textLength=\"36\" x=\"294\" y=\"203.1074\">pdest</text><line style=\"stroke: #383838; stroke-width: 1.5;\" x1=\"292\" x2=\"332\" y1=\"210.9375\" y2=\"210.9375\"/></a><!--MD5=[4672eba38e49728da53d11aeb285b987]\n",
       "reverse link E3 to E4--><a href=\"psysml:b0a1a3b9-a387-42d1-a567-e540cd2e1d19\" target=\"_top\" title=\"psysml:b0a1a3b9-a387-42d1-a567-e540cd2e1d19\" xlink:actuate=\"onRequest\" xlink:href=\"psysml:b0a1a3b9-a387-42d1-a567-e540cd2e1d19\" xlink:show=\"new\" xlink:title=\"psysml:b0a1a3b9-a387-42d1-a567-e540cd2e1d19\" xlink:type=\"simple\"><path d=\"M242.14,98.5 C258.23,99.18 275.63,98.46 288.92,96.33 \" fill=\"none\" id=\"E3&lt;-E4\" style=\"stroke: #383838; stroke-width: 1.0;\"/><polygon fill=\"#FFFFFF\" points=\"229.06,97.6,234.7687,102.0057,241.0312,98.4306,235.3225,94.0249,229.06,97.6\" style=\"stroke: #383838; stroke-width: 1.0;\"/><text fill=\"#000000\" font-family=\"sans-serif\" font-size=\"13\" lengthAdjust=\"spacingAndGlyphs\" textLength=\"8\" x=\"272.9653\" y=\"113.6631\">1</text></a><!--MD5=[4672eba38e49728da53d11aeb285b987]\n",
       "reverse link E3 to E4--><a href=\"psysml:b116cd08-9727-4fd8-b1d3-1b9f6deb041c\" target=\"_top\" title=\"psysml:b116cd08-9727-4fd8-b1d3-1b9f6deb041c\" xlink:actuate=\"onRequest\" xlink:href=\"psysml:b116cd08-9727-4fd8-b1d3-1b9f6deb041c\" xlink:show=\"new\" xlink:title=\"psysml:b116cd08-9727-4fd8-b1d3-1b9f6deb041c\" xlink:type=\"simple\"><path d=\"M244.08,72.68 C259.61,72.1 276.16,72.9 288.92,75.07 \" fill=\"none\" id=\"E3&lt;-E4-1\" style=\"stroke: #383838; stroke-width: 1.0; stroke-dasharray: 7.0,7.0;\"/><ellipse cx=\"237.0406\" cy=\"73.1636\" fill=\"#FFFFFF\" rx=\"8\" ry=\"8\" style=\"stroke: #383838; stroke-width: 1.0;\"/><line style=\"stroke: #383838; stroke-width: 1.0;\" x1=\"245.0213\" x2=\"229.06\" y1=\"72.6071\" y2=\"73.72\"/><line style=\"stroke: #383838; stroke-width: 1.0;\" x1=\"237.5971\" x2=\"236.4842\" y1=\"81.1442\" y2=\"65.1829\"/><text fill=\"#000000\" font-family=\"sans-serif\" font-size=\"13\" lengthAdjust=\"spacingAndGlyphs\" textLength=\"8\" x=\"272.9653\" y=\"86.158\">1</text></a><!--MD5=[e9be52314489bd878ff4c7144b63c9e1]\n",
       "link E5 to E3--><a href=\"psysml:b60c9595-85bf-4c72-aa43-c7c5a3162c28\" target=\"_top\" title=\"psysml:b60c9595-85bf-4c72-aa43-c7c5a3162c28\" xlink:actuate=\"onRequest\" xlink:href=\"psysml:b60c9595-85bf-4c72-aa43-c7c5a3162c28\" xlink:show=\"new\" xlink:title=\"psysml:b60c9595-85bf-4c72-aa43-c7c5a3162c28\" xlink:type=\"simple\"><path d=\"M90.53,134.72 C105.43,127.78 125.72,118.31 144.46,109.57 \" fill=\"none\" id=\"E5-&gt;E3\" style=\"stroke: #383838; stroke-width: 1.0;\"/><polygon fill=\"#FFFFFF\" points=\"162.78,101.03,148.5252,115.4106,142.6026,102.725,162.78,101.03\" style=\"stroke: #383838; stroke-width: 1.0;\"/><ellipse cx=\"142.5143\" cy=\"116.0097\" fill=\"#383838\" rx=\"2\" ry=\"2\" style=\"stroke: #383838; stroke-width: 1.0;\"/><ellipse cx=\"138.2839\" cy=\"106.9486\" fill=\"#383838\" rx=\"2\" ry=\"2\" style=\"stroke: #383838; stroke-width: 1.0;\"/></a><!--MD5=[85d356282659285ab4b2cfe2f634dd2b]\n",
       "reverse link E5 to E6--><a href=\"psysml:5e5f570b-f88f-4e5d-bde6-a1031949a59c\" target=\"_top\" title=\"psysml:5e5f570b-f88f-4e5d-bde6-a1031949a59c\" xlink:actuate=\"onRequest\" xlink:href=\"psysml:5e5f570b-f88f-4e5d-bde6-a1031949a59c\" xlink:show=\"new\" xlink:title=\"psysml:5e5f570b-f88f-4e5d-bde6-a1031949a59c\" xlink:type=\"simple\"><path d=\"M103.55,151.1 C126.53,155.09 155.74,160.17 174.89,163.5 \" fill=\"none\" id=\"E5&lt;-E6\" style=\"stroke: #383838; stroke-width: 1.0;\"/><polygon fill=\"#FFFFFF\" points=\"90.53,148.83,95.755,153.7999,102.3522,150.8883,97.1272,145.9184,90.53,148.83\" style=\"stroke: #383838; stroke-width: 1.0;\"/><text fill=\"#000000\" font-family=\"sans-serif\" font-size=\"13\" lengthAdjust=\"spacingAndGlyphs\" textLength=\"8\" x=\"158.8862\" y=\"176.873\">1</text></a><!--MD5=[f667431f98296947986a1a7595a31603]\n",
       "link E6 to E4--><a href=\"psysml:ccd9da30-2bd5-4e38-bf20-b9f9621d2107\" target=\"_top\" title=\"psysml:ccd9da30-2bd5-4e38-bf20-b9f9621d2107\" xlink:actuate=\"onRequest\" xlink:href=\"psysml:ccd9da30-2bd5-4e38-bf20-b9f9621d2107\" xlink:show=\"new\" xlink:title=\"psysml:ccd9da30-2bd5-4e38-bf20-b9f9621d2107\" xlink:type=\"simple\"><path d=\"M217.12,152.71 C232.33,141.9 253.68,126.73 272.18,113.59 \" fill=\"none\" id=\"E6-&gt;E4\" style=\"stroke: #383838; stroke-width: 1.0;\"/><polygon fill=\"#FFFFFF\" points=\"288.74,101.81,277.2991,118.5165,269.1949,107.1006,288.74,101.81\" style=\"stroke: #383838; stroke-width: 1.0;\"/><line style=\"stroke: #383838; stroke-width: 2.0;\" x1=\"274.2005\" x2=\"266.0963\" y1=\"120.7162\" y2=\"109.3003\"/></a><!--MD5=[14ccda38c055a5c0da953d572bc50960]\n",
       "link E7 to E3--><a href=\"psysml:8fc3f931-75e6-473d-9c07-27a38ec18c6d\" target=\"_top\" title=\"psysml:8fc3f931-75e6-473d-9c07-27a38ec18c6d\" xlink:actuate=\"onRequest\" xlink:href=\"psysml:8fc3f931-75e6-473d-9c07-27a38ec18c6d\" xlink:show=\"new\" xlink:title=\"psysml:8fc3f931-75e6-473d-9c07-27a38ec18c6d\" xlink:type=\"simple\"><path d=\"M89.39,202.88 C108.71,181.5 137.78,149.32 160.54,124.14 \" fill=\"none\" id=\"E7-&gt;E3\" style=\"stroke: #383838; stroke-width: 1.0;\"/><polygon fill=\"#FFFFFF\" points=\"174.08,109.15,166.5338,127.9398,156.1471,118.5527,174.08,109.15\" style=\"stroke: #383838; stroke-width: 1.0;\"/><ellipse cx=\"161.2281\" cy=\"130.8276\" fill=\"#383838\" rx=\"2\" ry=\"2\" style=\"stroke: #383838; stroke-width: 1.0;\"/><ellipse cx=\"153.8091\" cy=\"124.1226\" fill=\"#383838\" rx=\"2\" ry=\"2\" style=\"stroke: #383838; stroke-width: 1.0;\"/></a><!--MD5=[dc164f5e8a733ab456ef1add180e9e34]\n",
       "reverse link E7 to E8--><a href=\"psysml:36a32e90-a022-4c42-9b64-7c79f5d1d72c\" target=\"_top\" title=\"psysml:36a32e90-a022-4c42-9b64-7c79f5d1d72c\" xlink:actuate=\"onRequest\" xlink:href=\"psysml:36a32e90-a022-4c42-9b64-7c79f5d1d72c\" xlink:show=\"new\" xlink:title=\"psysml:36a32e90-a022-4c42-9b64-7c79f5d1d72c\" xlink:type=\"simple\"><path d=\"M103.83,235.23 C136.36,235.24 185.96,229.43 229,224 C250.09,221.34 274.2,218.08 290.79,212.51 \" fill=\"none\" id=\"E7&lt;-E8\" style=\"stroke: #383838; stroke-width: 1.0;\"/><polygon fill=\"#FFFFFF\" points=\"90.58,234.83,96.4586,239.0064,102.5747,235.1863,96.6961,231.0099,90.58,234.83\" style=\"stroke: #383838; stroke-width: 1.0;\"/><text fill=\"#000000\" font-family=\"sans-serif\" font-size=\"13\" lengthAdjust=\"spacingAndGlyphs\" textLength=\"8\" x=\"275.0694\" y=\"231.9599\">1</text></a><!--MD5=[dc164f5e8a733ab456ef1add180e9e34]\n",
       "reverse link E7 to E8--><a href=\"psysml:346ab8ae-1d2f-462f-a94e-fae0b61189bf\" target=\"_top\" title=\"psysml:346ab8ae-1d2f-462f-a94e-fae0b61189bf\" xlink:actuate=\"onRequest\" xlink:href=\"psysml:346ab8ae-1d2f-462f-a94e-fae0b61189bf\" xlink:show=\"new\" xlink:title=\"psysml:346ab8ae-1d2f-462f-a94e-fae0b61189bf\" xlink:type=\"simple\"><path d=\"M105.15,207.63 C137.69,200.08 186.54,194.36 229,189 C250.09,186.34 274.2,183.08 290.79,184.28 \" fill=\"none\" id=\"E7&lt;-E8-1\" style=\"stroke: #383838; stroke-width: 1.0; stroke-dasharray: 7.0,7.0;\"/><ellipse cx=\"98.3111\" cy=\"209.4434\" fill=\"#FFFFFF\" rx=\"8\" ry=\"8\" style=\"stroke: #383838; stroke-width: 1.0;\"/><line style=\"stroke: #383838; stroke-width: 1.0;\" x1=\"106.0423\" x2=\"90.58\" y1=\"207.3869\" y2=\"211.5\"/><line style=\"stroke: #383838; stroke-width: 1.0;\" x1=\"100.3677\" x2=\"96.2546\" y1=\"217.1746\" y2=\"201.7123\"/><text fill=\"#000000\" font-family=\"sans-serif\" font-size=\"13\" lengthAdjust=\"spacingAndGlyphs\" textLength=\"8\" x=\"275.0694\" y=\"175.4907\">1</text></a><!--MD5=[0a839d0f80c2d72d4b9b307f046d0de8]\n",
       "link E6 to E8--><a href=\"psysml:eaab9895-3808-4b7e-ad70-425cb7403c1b\" target=\"_top\" title=\"psysml:eaab9895-3808-4b7e-ad70-425cb7403c1b\" xlink:actuate=\"onRequest\" xlink:href=\"psysml:eaab9895-3808-4b7e-ad70-425cb7403c1b\" xlink:show=\"new\" xlink:title=\"psysml:eaab9895-3808-4b7e-ad70-425cb7403c1b\" xlink:type=\"simple\"><path d=\"M217.12,182.11 C237.83,191.04 269.92,199.22 290.7,200.86 \" fill=\"none\" id=\"E6-E8\" style=\"stroke: #383838; stroke-width: 3.0;\"/><text fill=\"#000000\" font-family=\"sans-serif\" font-size=\"13\" lengthAdjust=\"spacingAndGlyphs\" textLength=\"7\" x=\"276.105\" y=\"216.7421\">*</text></a><!--MD5=[0a839d0f80c2d72d4b9b307f046d0de8]\n",
       "link E6 to E8--><a href=\"psysml:18885de6-563e-4dd2-a418-c135b5ffccd4\" target=\"_top\" title=\"psysml:18885de6-563e-4dd2-a418-c135b5ffccd4\" xlink:actuate=\"onRequest\" xlink:href=\"psysml:18885de6-563e-4dd2-a418-c135b5ffccd4\" xlink:show=\"new\" xlink:title=\"psysml:18885de6-563e-4dd2-a418-c135b5ffccd4\" xlink:type=\"simple\"><path d=\"M217.12,161.53 C237.83,162.93 269.92,171.08 290.7,180.22 \" fill=\"none\" id=\"E6-E8-1\" style=\"stroke: #383838; stroke-width: 3.0;\"/><text fill=\"#000000\" font-family=\"sans-serif\" font-size=\"13\" lengthAdjust=\"spacingAndGlyphs\" textLength=\"7\" x=\"276.105\" y=\"189.7811\">*</text></a><!--MD5=[fa4359b5429ad681ef9aa60ef0e91dc2]\n",
       "@startuml\r\n",
       "left to right direction\r\n",
       "skinparam monochrome true\r\n",
       "skinparam classbackgroundcolor white\r\n",
       "skinparam shadowing false\r\n",
       "skinparam wrapWidth 300\r\n",
       "hide circle\r\n",
       "\r\n",
       "package \"AliasTest\" as E1  [[psysml:abede473-ce86-4cf2-9b0f-bcad92dda7df ]]  {\r\n",
       "comp usage \"q\" as E2  <<(T,blue) attribute>> [[psysml:84563fde-fc3c-4caa-a0d2-03a4409edda3 ]] {\r\n",
       "}\r\n",
       "comp def \"P1\" as E3  <<(T,blue) part def>> [[psysml:f240402e-e520-4bd4-a2fa-a40388aadc9d ]] {\r\n",
       "}\r\n",
       "comp usage \"porig1\" as E4  <<(T,blue) port>> [[psysml:fb61bd91-52ec-4d42-be8a-ef485ce794d8 ]] {\r\n",
       "}\r\n",
       "comp usage \"p1: P1\" as E5  <<(T,blue) part>> [[psysml:66a2f39c-c11d-47e1-a04e-46a9b54c38c0 ]] {\r\n",
       "}\r\n",
       "comp usage \"po1\" as E6  <<(T,blue) port>> [[psysml:1cf4d29b-7212-465e-9bfc-2d9d3c47093a ]] {\r\n",
       "}\r\n",
       "comp usage \"p2: P1\" as E7  <<(T,blue) part>> [[psysml:d750b59a-5fb4-49de-a141-6edbceed9fe9 ]] {\r\n",
       "}\r\n",
       "comp usage \"pdest\" as E8  <<(T,blue) port>> [[psysml:1ab4a2c7-e640-4092-b309-d8474ba4cc31 ]] {\r\n",
       "}\r\n",
       "}\r\n",
       "E3 o- - \"1\"E4 [[psysml:b0a1a3b9-a387-42d1-a567-e540cd2e1d19 ]] \r\n",
       "E3 +.. \"1\"E4 [[psysml:b116cd08-9727-4fd8-b1d3-1b9f6deb041c ]] \r\n",
       "E5 - -:|> E3 [[psysml:b60c9595-85bf-4c72-aa43-c7c5a3162c28 ]] \r\n",
       "E5 o- - \"1\"E6 [[psysml:5e5f570b-f88f-4e5d-bde6-a1031949a59c ]] \r\n",
       "E6 - -||> E4 [[psysml:ccd9da30-2bd5-4e38-bf20-b9f9621d2107 ]] \r\n",
       "E7 - -:|> E3 [[psysml:8fc3f931-75e6-473d-9c07-27a38ec18c6d ]] \r\n",
       "E7 o- - \"1\"E8 [[psysml:36a32e90-a022-4c42-9b64-7c79f5d1d72c ]] \r\n",
       "E7 +.. \"1\"E8 [[psysml:346ab8ae-1d2f-462f-a94e-fae0b61189bf ]] \r\n",
       "E6 -[thickness=3]- \"*\"E8 [[psysml:eaab9895-3808-4b7e-ad70-425cb7403c1b ]] \r\n",
       "E6 -[thickness=3]- \"*\"E8 [[psysml:18885de6-563e-4dd2-a418-c135b5ffccd4 ]] \r\n",
       "@enduml\r\n",
       "\n",
       "PlantUML version 1.2020.13(Sat Jun 13 12:26:38 UTC 2020)\n",
       "(EPL source distribution)\n",
       "Java Runtime: OpenJDK Runtime Environment\n",
       "JVM: OpenJDK 64-Bit Server VM\n",
       "Default Encoding: UTF-8\n",
       "Language: en\n",
       "Country: null\n",
       "--></g></svg>"
      ]
     },
     "execution_count": 16,
     "metadata": {},
     "output_type": "execute_result"
    }
   ],
   "source": [
    "%viz --style=\"LR\" --view=\"Default\" \"AliasTest\""
   ]
  },
  {
   "cell_type": "code",
   "execution_count": 17,
   "id": "10121990",
   "metadata": {
    "execution": {
     "iopub.execute_input": "2021-09-27T07:19:09.020226Z",
     "iopub.status.busy": "2021-09-27T07:19:09.019795Z",
     "iopub.status.idle": "2021-09-27T07:19:09.065990Z",
     "shell.execute_reply": "2021-09-27T07:19:09.065478Z"
    }
   },
   "outputs": [
    {
     "data": {
      "image/svg+xml": [
       "<?xml version=\"1.0\" encoding=\"UTF-8\" standalone=\"no\"?><svg xmlns=\"http://www.w3.org/2000/svg\" xmlns:xlink=\"http://www.w3.org/1999/xlink\" contentScriptType=\"application/ecmascript\" contentStyleType=\"text/css\" height=\"277px\" preserveAspectRatio=\"none\" style=\"width:373px;height:277px;\" version=\"1.1\" viewBox=\"0 0 373 277\" width=\"373px\" zoomAndPan=\"magnify\"><defs/><g><!--MD5=[fbc87193dbaf4d95561dea2c320d4a47]\n",
       "cluster E1--><a href=\"psysml:abede473-ce86-4cf2-9b0f-bcad92dda7df\" target=\"_top\" title=\"psysml:abede473-ce86-4cf2-9b0f-bcad92dda7df\" xlink:actuate=\"onRequest\" xlink:href=\"psysml:abede473-ce86-4cf2-9b0f-bcad92dda7df\" xlink:show=\"new\" xlink:title=\"psysml:abede473-ce86-4cf2-9b0f-bcad92dda7df\" xlink:type=\"simple\"><polygon fill=\"#FFFFFF\" points=\"16,6,84,6,91,28.2969,351,28.2969,351,265,16,265,16,6\" style=\"stroke: #000000; stroke-width: 1.5;\"/><line style=\"stroke: #000000; stroke-width: 1.5;\" x1=\"16\" x2=\"91\" y1=\"28.2969\" y2=\"28.2969\"/><text fill=\"#000000\" font-family=\"sans-serif\" font-size=\"14\" font-weight=\"bold\" lengthAdjust=\"spacingAndGlyphs\" textLength=\"62\" x=\"20\" y=\"20.9951\">AliasTest</text></a><!--MD5=[b4997ac47864f28c2f74865a473b2911]\n",
       "class E2--><a href=\"psysml:84563fde-fc3c-4caa-a0d2-03a4409edda3\" target=\"_top\" title=\"psysml:84563fde-fc3c-4caa-a0d2-03a4409edda3\" xlink:actuate=\"onRequest\" xlink:href=\"psysml:84563fde-fc3c-4caa-a0d2-03a4409edda3\" xlink:show=\"new\" xlink:title=\"psysml:84563fde-fc3c-4caa-a0d2-03a4409edda3\" xlink:type=\"simple\"><rect fill=\"#FFFFFF\" height=\"45.9375\" id=\"E2\" rx=\"10\" ry=\"10\" style=\"stroke: #383838; stroke-width: 1.5;\" width=\"71\" x=\"32\" y=\"41\"/><text fill=\"#000000\" font-family=\"sans-serif\" font-size=\"12\" font-style=\"italic\" lengthAdjust=\"spacingAndGlyphs\" textLength=\"69\" x=\"33\" y=\"57.1387\">«attribute»</text><text fill=\"#000000\" font-family=\"sans-serif\" font-size=\"12\" lengthAdjust=\"spacingAndGlyphs\" textLength=\"8\" x=\"63.5\" y=\"71.1074\">q</text><line style=\"stroke: #383838; stroke-width: 1.5;\" x1=\"33\" x2=\"102\" y1=\"78.9375\" y2=\"78.9375\"/></a><!--MD5=[09b614a08d8cba4a07c9adeb5e0fee81]\n",
       "class E3--><a href=\"psysml:f240402e-e520-4bd4-a2fa-a40388aadc9d\" target=\"_top\" title=\"psysml:f240402e-e520-4bd4-a2fa-a40388aadc9d\" xlink:actuate=\"onRequest\" xlink:href=\"psysml:f240402e-e520-4bd4-a2fa-a40388aadc9d\" xlink:show=\"new\" xlink:title=\"psysml:f240402e-e520-4bd4-a2fa-a40388aadc9d\" xlink:type=\"simple\"><rect fill=\"#FFFFFF\" height=\"45.9375\" id=\"E3\" style=\"stroke: #383838; stroke-width: 1.5;\" width=\"66\" x=\"163\" y=\"63\"/><text fill=\"#000000\" font-family=\"sans-serif\" font-size=\"12\" font-style=\"italic\" lengthAdjust=\"spacingAndGlyphs\" textLength=\"64\" x=\"164\" y=\"79.1387\">«part def»</text><text fill=\"#000000\" font-family=\"sans-serif\" font-size=\"12\" lengthAdjust=\"spacingAndGlyphs\" textLength=\"16\" x=\"188\" y=\"93.1074\">P1</text><line style=\"stroke: #383838; stroke-width: 1.5;\" x1=\"164\" x2=\"228\" y1=\"100.9375\" y2=\"100.9375\"/></a><!--MD5=[ebbe1d658d1005bcc118a6aa81145e00]\n",
       "class E4--><a href=\"psysml:fb61bd91-52ec-4d42-be8a-ef485ce794d8\" target=\"_top\" title=\"psysml:fb61bd91-52ec-4d42-be8a-ef485ce794d8\" xlink:actuate=\"onRequest\" xlink:href=\"psysml:fb61bd91-52ec-4d42-be8a-ef485ce794d8\" xlink:show=\"new\" xlink:title=\"psysml:fb61bd91-52ec-4d42-be8a-ef485ce794d8\" xlink:type=\"simple\"><rect fill=\"#FFFFFF\" height=\"45.9375\" id=\"E4\" rx=\"10\" ry=\"10\" style=\"stroke: #383838; stroke-width: 1.5;\" width=\"46\" x=\"289\" y=\"63\"/><text fill=\"#000000\" font-family=\"sans-serif\" font-size=\"12\" font-style=\"italic\" lengthAdjust=\"spacingAndGlyphs\" textLength=\"40\" x=\"292\" y=\"79.1387\">«port»</text><text fill=\"#000000\" font-family=\"sans-serif\" font-size=\"12\" lengthAdjust=\"spacingAndGlyphs\" textLength=\"40\" x=\"292\" y=\"93.1074\">porig1</text><line style=\"stroke: #383838; stroke-width: 1.5;\" x1=\"290\" x2=\"334\" y1=\"100.9375\" y2=\"100.9375\"/></a><!--MD5=[270fce915f116d4de14055a7c1d9a0f3]\n",
       "class E5--><a href=\"psysml:66a2f39c-c11d-47e1-a04e-46a9b54c38c0\" target=\"_top\" title=\"psysml:66a2f39c-c11d-47e1-a04e-46a9b54c38c0\" xlink:actuate=\"onRequest\" xlink:href=\"psysml:66a2f39c-c11d-47e1-a04e-46a9b54c38c0\" xlink:show=\"new\" xlink:title=\"psysml:66a2f39c-c11d-47e1-a04e-46a9b54c38c0\" xlink:type=\"simple\"><rect fill=\"#FFFFFF\" height=\"45.9375\" id=\"E5\" rx=\"10\" ry=\"10\" style=\"stroke: #383838; stroke-width: 1.5;\" width=\"46\" x=\"44.5\" y=\"122\"/><text fill=\"#000000\" font-family=\"sans-serif\" font-size=\"12\" font-style=\"italic\" lengthAdjust=\"spacingAndGlyphs\" textLength=\"40\" x=\"47.5\" y=\"138.1387\">«part»</text><text fill=\"#000000\" font-family=\"sans-serif\" font-size=\"12\" lengthAdjust=\"spacingAndGlyphs\" textLength=\"40\" x=\"47.5\" y=\"152.1074\">p1: P1</text><line style=\"stroke: #383838; stroke-width: 1.5;\" x1=\"45.5\" x2=\"89.5\" y1=\"159.9375\" y2=\"159.9375\"/></a><!--MD5=[60a26617385b1d2d0262a64233df1f8d]\n",
       "class E6--><a href=\"psysml:1cf4d29b-7212-465e-9bfc-2d9d3c47093a\" target=\"_top\" title=\"psysml:1cf4d29b-7212-465e-9bfc-2d9d3c47093a\" xlink:actuate=\"onRequest\" xlink:href=\"psysml:1cf4d29b-7212-465e-9bfc-2d9d3c47093a\" xlink:show=\"new\" xlink:title=\"psysml:1cf4d29b-7212-465e-9bfc-2d9d3c47093a\" xlink:type=\"simple\"><rect fill=\"#FFFFFF\" height=\"45.9375\" id=\"E6\" rx=\"10\" ry=\"10\" style=\"stroke: #383838; stroke-width: 1.5;\" width=\"42\" x=\"175\" y=\"144\"/><text fill=\"#000000\" font-family=\"sans-serif\" font-size=\"12\" font-style=\"italic\" lengthAdjust=\"spacingAndGlyphs\" textLength=\"40\" x=\"176\" y=\"160.1387\">«port»</text><text fill=\"#000000\" font-family=\"sans-serif\" font-size=\"12\" lengthAdjust=\"spacingAndGlyphs\" textLength=\"24\" x=\"184\" y=\"174.1074\">po1</text><line style=\"stroke: #383838; stroke-width: 1.5;\" x1=\"176\" x2=\"216\" y1=\"181.9375\" y2=\"181.9375\"/></a><!--MD5=[2156ba9850f5573cc1fc38a6a4b2f02b]\n",
       "class E7--><a href=\"psysml:d750b59a-5fb4-49de-a141-6edbceed9fe9\" target=\"_top\" title=\"psysml:d750b59a-5fb4-49de-a141-6edbceed9fe9\" xlink:actuate=\"onRequest\" xlink:href=\"psysml:d750b59a-5fb4-49de-a141-6edbceed9fe9\" xlink:show=\"new\" xlink:title=\"psysml:d750b59a-5fb4-49de-a141-6edbceed9fe9\" xlink:type=\"simple\"><rect fill=\"#FFFFFF\" height=\"45.9375\" id=\"E7\" rx=\"10\" ry=\"10\" style=\"stroke: #383838; stroke-width: 1.5;\" width=\"46\" x=\"44.5\" y=\"203\"/><text fill=\"#000000\" font-family=\"sans-serif\" font-size=\"12\" font-style=\"italic\" lengthAdjust=\"spacingAndGlyphs\" textLength=\"40\" x=\"47.5\" y=\"219.1387\">«part»</text><text fill=\"#000000\" font-family=\"sans-serif\" font-size=\"12\" lengthAdjust=\"spacingAndGlyphs\" textLength=\"40\" x=\"47.5\" y=\"233.1074\">p2: P1</text><line style=\"stroke: #383838; stroke-width: 1.5;\" x1=\"45.5\" x2=\"89.5\" y1=\"240.9375\" y2=\"240.9375\"/></a><!--MD5=[b9389687b975829384b498ac4b7476b2]\n",
       "class E8--><a href=\"psysml:1ab4a2c7-e640-4092-b309-d8474ba4cc31\" target=\"_top\" title=\"psysml:1ab4a2c7-e640-4092-b309-d8474ba4cc31\" xlink:actuate=\"onRequest\" xlink:href=\"psysml:1ab4a2c7-e640-4092-b309-d8474ba4cc31\" xlink:show=\"new\" xlink:title=\"psysml:1ab4a2c7-e640-4092-b309-d8474ba4cc31\" xlink:type=\"simple\"><rect fill=\"#FFFFFF\" height=\"45.9375\" id=\"E8\" rx=\"10\" ry=\"10\" style=\"stroke: #383838; stroke-width: 1.5;\" width=\"42\" x=\"291\" y=\"173\"/><text fill=\"#000000\" font-family=\"sans-serif\" font-size=\"12\" font-style=\"italic\" lengthAdjust=\"spacingAndGlyphs\" textLength=\"40\" x=\"292\" y=\"189.1387\">«port»</text><text fill=\"#000000\" font-family=\"sans-serif\" font-size=\"12\" lengthAdjust=\"spacingAndGlyphs\" textLength=\"36\" x=\"294\" y=\"203.1074\">pdest</text><line style=\"stroke: #383838; stroke-width: 1.5;\" x1=\"292\" x2=\"332\" y1=\"210.9375\" y2=\"210.9375\"/></a><!--MD5=[4672eba38e49728da53d11aeb285b987]\n",
       "reverse link E3 to E4--><a href=\"psysml:b0a1a3b9-a387-42d1-a567-e540cd2e1d19\" target=\"_top\" title=\"psysml:b0a1a3b9-a387-42d1-a567-e540cd2e1d19\" xlink:actuate=\"onRequest\" xlink:href=\"psysml:b0a1a3b9-a387-42d1-a567-e540cd2e1d19\" xlink:show=\"new\" xlink:title=\"psysml:b0a1a3b9-a387-42d1-a567-e540cd2e1d19\" xlink:type=\"simple\"><path d=\"M242.14,98.5 C258.23,99.18 275.63,98.46 288.92,96.33 \" fill=\"none\" id=\"E3&lt;-E4\" style=\"stroke: #383838; stroke-width: 1.0;\"/><polygon fill=\"#FFFFFF\" points=\"229.06,97.6,234.7687,102.0057,241.0312,98.4306,235.3225,94.0249,229.06,97.6\" style=\"stroke: #383838; stroke-width: 1.0;\"/><text fill=\"#000000\" font-family=\"sans-serif\" font-size=\"13\" lengthAdjust=\"spacingAndGlyphs\" textLength=\"8\" x=\"272.9653\" y=\"113.6631\">1</text></a><!--MD5=[4672eba38e49728da53d11aeb285b987]\n",
       "reverse link E3 to E4--><a href=\"psysml:b116cd08-9727-4fd8-b1d3-1b9f6deb041c\" target=\"_top\" title=\"psysml:b116cd08-9727-4fd8-b1d3-1b9f6deb041c\" xlink:actuate=\"onRequest\" xlink:href=\"psysml:b116cd08-9727-4fd8-b1d3-1b9f6deb041c\" xlink:show=\"new\" xlink:title=\"psysml:b116cd08-9727-4fd8-b1d3-1b9f6deb041c\" xlink:type=\"simple\"><path d=\"M244.08,72.68 C259.61,72.1 276.16,72.9 288.92,75.07 \" fill=\"none\" id=\"E3&lt;-E4-1\" style=\"stroke: #383838; stroke-width: 1.0; stroke-dasharray: 7.0,7.0;\"/><ellipse cx=\"237.0406\" cy=\"73.1636\" fill=\"#FFFFFF\" rx=\"8\" ry=\"8\" style=\"stroke: #383838; stroke-width: 1.0;\"/><line style=\"stroke: #383838; stroke-width: 1.0;\" x1=\"245.0213\" x2=\"229.06\" y1=\"72.6071\" y2=\"73.72\"/><line style=\"stroke: #383838; stroke-width: 1.0;\" x1=\"237.5971\" x2=\"236.4842\" y1=\"81.1442\" y2=\"65.1829\"/><text fill=\"#000000\" font-family=\"sans-serif\" font-size=\"13\" lengthAdjust=\"spacingAndGlyphs\" textLength=\"8\" x=\"272.9653\" y=\"86.158\">1</text></a><!--MD5=[e9be52314489bd878ff4c7144b63c9e1]\n",
       "link E5 to E3--><a href=\"psysml:b60c9595-85bf-4c72-aa43-c7c5a3162c28\" target=\"_top\" title=\"psysml:b60c9595-85bf-4c72-aa43-c7c5a3162c28\" xlink:actuate=\"onRequest\" xlink:href=\"psysml:b60c9595-85bf-4c72-aa43-c7c5a3162c28\" xlink:show=\"new\" xlink:title=\"psysml:b60c9595-85bf-4c72-aa43-c7c5a3162c28\" xlink:type=\"simple\"><path d=\"M90.53,134.72 C105.43,127.78 125.72,118.31 144.46,109.57 \" fill=\"none\" id=\"E5-&gt;E3\" style=\"stroke: #383838; stroke-width: 1.0;\"/><polygon fill=\"#FFFFFF\" points=\"162.78,101.03,148.5252,115.4106,142.6026,102.725,162.78,101.03\" style=\"stroke: #383838; stroke-width: 1.0;\"/><ellipse cx=\"142.5143\" cy=\"116.0097\" fill=\"#383838\" rx=\"2\" ry=\"2\" style=\"stroke: #383838; stroke-width: 1.0;\"/><ellipse cx=\"138.2839\" cy=\"106.9486\" fill=\"#383838\" rx=\"2\" ry=\"2\" style=\"stroke: #383838; stroke-width: 1.0;\"/></a><!--MD5=[85d356282659285ab4b2cfe2f634dd2b]\n",
       "reverse link E5 to E6--><a href=\"psysml:5e5f570b-f88f-4e5d-bde6-a1031949a59c\" target=\"_top\" title=\"psysml:5e5f570b-f88f-4e5d-bde6-a1031949a59c\" xlink:actuate=\"onRequest\" xlink:href=\"psysml:5e5f570b-f88f-4e5d-bde6-a1031949a59c\" xlink:show=\"new\" xlink:title=\"psysml:5e5f570b-f88f-4e5d-bde6-a1031949a59c\" xlink:type=\"simple\"><path d=\"M103.55,151.1 C126.53,155.09 155.74,160.17 174.89,163.5 \" fill=\"none\" id=\"E5&lt;-E6\" style=\"stroke: #383838; stroke-width: 1.0;\"/><polygon fill=\"#FFFFFF\" points=\"90.53,148.83,95.755,153.7999,102.3522,150.8883,97.1272,145.9184,90.53,148.83\" style=\"stroke: #383838; stroke-width: 1.0;\"/><text fill=\"#000000\" font-family=\"sans-serif\" font-size=\"13\" lengthAdjust=\"spacingAndGlyphs\" textLength=\"8\" x=\"158.8862\" y=\"176.873\">1</text></a><!--MD5=[f667431f98296947986a1a7595a31603]\n",
       "link E6 to E4--><a href=\"psysml:ccd9da30-2bd5-4e38-bf20-b9f9621d2107\" target=\"_top\" title=\"psysml:ccd9da30-2bd5-4e38-bf20-b9f9621d2107\" xlink:actuate=\"onRequest\" xlink:href=\"psysml:ccd9da30-2bd5-4e38-bf20-b9f9621d2107\" xlink:show=\"new\" xlink:title=\"psysml:ccd9da30-2bd5-4e38-bf20-b9f9621d2107\" xlink:type=\"simple\"><path d=\"M217.12,152.71 C232.33,141.9 253.68,126.73 272.18,113.59 \" fill=\"none\" id=\"E6-&gt;E4\" style=\"stroke: #383838; stroke-width: 1.0;\"/><polygon fill=\"#FFFFFF\" points=\"288.74,101.81,277.2991,118.5165,269.1949,107.1006,288.74,101.81\" style=\"stroke: #383838; stroke-width: 1.0;\"/><line style=\"stroke: #383838; stroke-width: 2.0;\" x1=\"274.2005\" x2=\"266.0963\" y1=\"120.7162\" y2=\"109.3003\"/></a><!--MD5=[14ccda38c055a5c0da953d572bc50960]\n",
       "link E7 to E3--><a href=\"psysml:8fc3f931-75e6-473d-9c07-27a38ec18c6d\" target=\"_top\" title=\"psysml:8fc3f931-75e6-473d-9c07-27a38ec18c6d\" xlink:actuate=\"onRequest\" xlink:href=\"psysml:8fc3f931-75e6-473d-9c07-27a38ec18c6d\" xlink:show=\"new\" xlink:title=\"psysml:8fc3f931-75e6-473d-9c07-27a38ec18c6d\" xlink:type=\"simple\"><path d=\"M89.39,202.88 C108.71,181.5 137.78,149.32 160.54,124.14 \" fill=\"none\" id=\"E7-&gt;E3\" style=\"stroke: #383838; stroke-width: 1.0;\"/><polygon fill=\"#FFFFFF\" points=\"174.08,109.15,166.5338,127.9398,156.1471,118.5527,174.08,109.15\" style=\"stroke: #383838; stroke-width: 1.0;\"/><ellipse cx=\"161.2281\" cy=\"130.8276\" fill=\"#383838\" rx=\"2\" ry=\"2\" style=\"stroke: #383838; stroke-width: 1.0;\"/><ellipse cx=\"153.8091\" cy=\"124.1226\" fill=\"#383838\" rx=\"2\" ry=\"2\" style=\"stroke: #383838; stroke-width: 1.0;\"/></a><!--MD5=[dc164f5e8a733ab456ef1add180e9e34]\n",
       "reverse link E7 to E8--><a href=\"psysml:36a32e90-a022-4c42-9b64-7c79f5d1d72c\" target=\"_top\" title=\"psysml:36a32e90-a022-4c42-9b64-7c79f5d1d72c\" xlink:actuate=\"onRequest\" xlink:href=\"psysml:36a32e90-a022-4c42-9b64-7c79f5d1d72c\" xlink:show=\"new\" xlink:title=\"psysml:36a32e90-a022-4c42-9b64-7c79f5d1d72c\" xlink:type=\"simple\"><path d=\"M103.83,235.23 C136.36,235.24 185.96,229.43 229,224 C250.09,221.34 274.2,218.08 290.79,212.51 \" fill=\"none\" id=\"E7&lt;-E8\" style=\"stroke: #383838; stroke-width: 1.0;\"/><polygon fill=\"#FFFFFF\" points=\"90.58,234.83,96.4586,239.0064,102.5747,235.1863,96.6961,231.0099,90.58,234.83\" style=\"stroke: #383838; stroke-width: 1.0;\"/><text fill=\"#000000\" font-family=\"sans-serif\" font-size=\"13\" lengthAdjust=\"spacingAndGlyphs\" textLength=\"8\" x=\"275.0694\" y=\"231.9599\">1</text></a><!--MD5=[dc164f5e8a733ab456ef1add180e9e34]\n",
       "reverse link E7 to E8--><a href=\"psysml:346ab8ae-1d2f-462f-a94e-fae0b61189bf\" target=\"_top\" title=\"psysml:346ab8ae-1d2f-462f-a94e-fae0b61189bf\" xlink:actuate=\"onRequest\" xlink:href=\"psysml:346ab8ae-1d2f-462f-a94e-fae0b61189bf\" xlink:show=\"new\" xlink:title=\"psysml:346ab8ae-1d2f-462f-a94e-fae0b61189bf\" xlink:type=\"simple\"><path d=\"M105.15,207.63 C137.69,200.08 186.54,194.36 229,189 C250.09,186.34 274.2,183.08 290.79,184.28 \" fill=\"none\" id=\"E7&lt;-E8-1\" style=\"stroke: #383838; stroke-width: 1.0; stroke-dasharray: 7.0,7.0;\"/><ellipse cx=\"98.3111\" cy=\"209.4434\" fill=\"#FFFFFF\" rx=\"8\" ry=\"8\" style=\"stroke: #383838; stroke-width: 1.0;\"/><line style=\"stroke: #383838; stroke-width: 1.0;\" x1=\"106.0423\" x2=\"90.58\" y1=\"207.3869\" y2=\"211.5\"/><line style=\"stroke: #383838; stroke-width: 1.0;\" x1=\"100.3677\" x2=\"96.2546\" y1=\"217.1746\" y2=\"201.7123\"/><text fill=\"#000000\" font-family=\"sans-serif\" font-size=\"13\" lengthAdjust=\"spacingAndGlyphs\" textLength=\"8\" x=\"275.0694\" y=\"175.4907\">1</text></a><!--MD5=[0a839d0f80c2d72d4b9b307f046d0de8]\n",
       "link E6 to E8--><a href=\"psysml:eaab9895-3808-4b7e-ad70-425cb7403c1b\" target=\"_top\" title=\"psysml:eaab9895-3808-4b7e-ad70-425cb7403c1b\" xlink:actuate=\"onRequest\" xlink:href=\"psysml:eaab9895-3808-4b7e-ad70-425cb7403c1b\" xlink:show=\"new\" xlink:title=\"psysml:eaab9895-3808-4b7e-ad70-425cb7403c1b\" xlink:type=\"simple\"><path d=\"M217.12,182.11 C237.83,191.04 269.92,199.22 290.7,200.86 \" fill=\"none\" id=\"E6-E8\" style=\"stroke: #383838; stroke-width: 3.0;\"/><text fill=\"#000000\" font-family=\"sans-serif\" font-size=\"13\" lengthAdjust=\"spacingAndGlyphs\" textLength=\"7\" x=\"276.105\" y=\"216.7421\">*</text></a><!--MD5=[0a839d0f80c2d72d4b9b307f046d0de8]\n",
       "link E6 to E8--><a href=\"psysml:18885de6-563e-4dd2-a418-c135b5ffccd4\" target=\"_top\" title=\"psysml:18885de6-563e-4dd2-a418-c135b5ffccd4\" xlink:actuate=\"onRequest\" xlink:href=\"psysml:18885de6-563e-4dd2-a418-c135b5ffccd4\" xlink:show=\"new\" xlink:title=\"psysml:18885de6-563e-4dd2-a418-c135b5ffccd4\" xlink:type=\"simple\"><path d=\"M217.12,161.53 C237.83,162.93 269.92,171.08 290.7,180.22 \" fill=\"none\" id=\"E6-E8-1\" style=\"stroke: #383838; stroke-width: 3.0;\"/><text fill=\"#000000\" font-family=\"sans-serif\" font-size=\"13\" lengthAdjust=\"spacingAndGlyphs\" textLength=\"7\" x=\"276.105\" y=\"189.7811\">*</text></a><!--MD5=[fa4359b5429ad681ef9aa60ef0e91dc2]\n",
       "@startuml\r\n",
       "left to right direction\r\n",
       "skinparam monochrome true\r\n",
       "skinparam classbackgroundcolor white\r\n",
       "skinparam shadowing false\r\n",
       "skinparam wrapWidth 300\r\n",
       "hide circle\r\n",
       "\r\n",
       "package \"AliasTest\" as E1  [[psysml:abede473-ce86-4cf2-9b0f-bcad92dda7df ]]  {\r\n",
       "comp usage \"q\" as E2  <<(T,blue) attribute>> [[psysml:84563fde-fc3c-4caa-a0d2-03a4409edda3 ]] {\r\n",
       "}\r\n",
       "comp def \"P1\" as E3  <<(T,blue) part def>> [[psysml:f240402e-e520-4bd4-a2fa-a40388aadc9d ]] {\r\n",
       "}\r\n",
       "comp usage \"porig1\" as E4  <<(T,blue) port>> [[psysml:fb61bd91-52ec-4d42-be8a-ef485ce794d8 ]] {\r\n",
       "}\r\n",
       "comp usage \"p1: P1\" as E5  <<(T,blue) part>> [[psysml:66a2f39c-c11d-47e1-a04e-46a9b54c38c0 ]] {\r\n",
       "}\r\n",
       "comp usage \"po1\" as E6  <<(T,blue) port>> [[psysml:1cf4d29b-7212-465e-9bfc-2d9d3c47093a ]] {\r\n",
       "}\r\n",
       "comp usage \"p2: P1\" as E7  <<(T,blue) part>> [[psysml:d750b59a-5fb4-49de-a141-6edbceed9fe9 ]] {\r\n",
       "}\r\n",
       "comp usage \"pdest\" as E8  <<(T,blue) port>> [[psysml:1ab4a2c7-e640-4092-b309-d8474ba4cc31 ]] {\r\n",
       "}\r\n",
       "}\r\n",
       "E3 o- - \"1\"E4 [[psysml:b0a1a3b9-a387-42d1-a567-e540cd2e1d19 ]] \r\n",
       "E3 +.. \"1\"E4 [[psysml:b116cd08-9727-4fd8-b1d3-1b9f6deb041c ]] \r\n",
       "E5 - -:|> E3 [[psysml:b60c9595-85bf-4c72-aa43-c7c5a3162c28 ]] \r\n",
       "E5 o- - \"1\"E6 [[psysml:5e5f570b-f88f-4e5d-bde6-a1031949a59c ]] \r\n",
       "E6 - -||> E4 [[psysml:ccd9da30-2bd5-4e38-bf20-b9f9621d2107 ]] \r\n",
       "E7 - -:|> E3 [[psysml:8fc3f931-75e6-473d-9c07-27a38ec18c6d ]] \r\n",
       "E7 o- - \"1\"E8 [[psysml:36a32e90-a022-4c42-9b64-7c79f5d1d72c ]] \r\n",
       "E7 +.. \"1\"E8 [[psysml:346ab8ae-1d2f-462f-a94e-fae0b61189bf ]] \r\n",
       "E6 -[thickness=3]- \"*\"E8 [[psysml:eaab9895-3808-4b7e-ad70-425cb7403c1b ]] \r\n",
       "E6 -[thickness=3]- \"*\"E8 [[psysml:18885de6-563e-4dd2-a418-c135b5ffccd4 ]] \r\n",
       "@enduml\r\n",
       "\n",
       "PlantUML version 1.2020.13(Sat Jun 13 12:26:38 UTC 2020)\n",
       "(EPL source distribution)\n",
       "Java Runtime: OpenJDK Runtime Environment\n",
       "JVM: OpenJDK 64-Bit Server VM\n",
       "Default Encoding: UTF-8\n",
       "Language: en\n",
       "Country: null\n",
       "--></g></svg>"
      ]
     },
     "execution_count": 17,
     "metadata": {},
     "output_type": "execute_result"
    }
   ],
   "source": [
    "%viz --style=\"LR\" --view=\"Tree\" \"AliasTest\""
   ]
  },
  {
   "cell_type": "code",
   "execution_count": 18,
   "id": "5245ff61",
   "metadata": {
    "execution": {
     "iopub.execute_input": "2021-09-27T07:19:09.115265Z",
     "iopub.status.busy": "2021-09-27T07:19:09.114840Z",
     "iopub.status.idle": "2021-09-27T07:19:09.120820Z",
     "shell.execute_reply": "2021-09-27T07:19:09.121140Z"
    }
   },
   "outputs": [
    {
     "data": {
      "image/svg+xml": [
       "<?xml version=\"1.0\" encoding=\"UTF-8\" standalone=\"no\"?><svg xmlns=\"http://www.w3.org/2000/svg\" xmlns:xlink=\"http://www.w3.org/1999/xlink\" contentScriptType=\"application/ecmascript\" contentStyleType=\"text/css\" height=\"12px\" preserveAspectRatio=\"none\" style=\"width:12px;height:12px;\" version=\"1.1\" viewBox=\"0 0 12 12\" width=\"12px\" zoomAndPan=\"magnify\"><defs/><g><!--MD5=[19d285c9d72a204eba4e2cd117d745e8]\n",
       "@startuml\r\n",
       "left to right direction\r\n",
       "skinparam monochrome true\r\n",
       "skinparam classbackgroundcolor white\r\n",
       "skinparam shadowing false\r\n",
       "skinparam wrapWidth 300\r\n",
       "hide circle\r\n",
       "\r\n",
       "@enduml\r\n",
       "\n",
       "PlantUML version 1.2020.13(Sat Jun 13 12:26:38 UTC 2020)\n",
       "(EPL source distribution)\n",
       "Java Runtime: OpenJDK Runtime Environment\n",
       "JVM: OpenJDK 64-Bit Server VM\n",
       "Default Encoding: UTF-8\n",
       "Language: en\n",
       "Country: null\n",
       "--></g></svg>"
      ]
     },
     "execution_count": 18,
     "metadata": {},
     "output_type": "execute_result"
    }
   ],
   "source": [
    "%viz --style=\"LR\" --view=\"State\" \"AliasTest\""
   ]
  },
  {
   "cell_type": "code",
   "execution_count": 19,
   "id": "176f3417",
   "metadata": {
    "execution": {
     "iopub.execute_input": "2021-09-27T07:19:09.171413Z",
     "iopub.status.busy": "2021-09-27T07:19:09.170950Z",
     "iopub.status.idle": "2021-09-27T07:19:09.208926Z",
     "shell.execute_reply": "2021-09-27T07:19:09.208563Z"
    }
   },
   "outputs": [
    {
     "data": {
      "image/svg+xml": [
       "<?xml version=\"1.0\" encoding=\"UTF-8\" standalone=\"no\"?><svg xmlns=\"http://www.w3.org/2000/svg\" xmlns:xlink=\"http://www.w3.org/1999/xlink\" contentScriptType=\"application/ecmascript\" contentStyleType=\"text/css\" height=\"344px\" preserveAspectRatio=\"none\" style=\"width:353px;height:344px;\" version=\"1.1\" viewBox=\"0 0 353 344\" width=\"353px\" zoomAndPan=\"magnify\"><defs/><g><!--MD5=[fbc87193dbaf4d95561dea2c320d4a47]\n",
       "cluster E1--><a href=\"psysml:abede473-ce86-4cf2-9b0f-bcad92dda7df\" target=\"_top\" title=\"psysml:abede473-ce86-4cf2-9b0f-bcad92dda7df\" xlink:actuate=\"onRequest\" xlink:href=\"psysml:abede473-ce86-4cf2-9b0f-bcad92dda7df\" xlink:show=\"new\" xlink:title=\"psysml:abede473-ce86-4cf2-9b0f-bcad92dda7df\" xlink:type=\"simple\"><polygon fill=\"#FFFFFF\" points=\"16,6,84,6,91,28.2969,331,28.2969,331,332,16,332,16,6\" style=\"stroke: #000000; stroke-width: 1.5;\"/><line style=\"stroke: #000000; stroke-width: 1.5;\" x1=\"16\" x2=\"91\" y1=\"28.2969\" y2=\"28.2969\"/><text fill=\"#000000\" font-family=\"sans-serif\" font-size=\"14\" font-weight=\"bold\" lengthAdjust=\"spacingAndGlyphs\" textLength=\"62\" x=\"20\" y=\"20.9951\">AliasTest</text></a><!--MD5=[d5e69f78d87373223dbae638b30a9c99]\n",
       "cluster E3--><a href=\"psysml:f240402e-e520-4bd4-a2fa-a40388aadc9d\" target=\"_top\" title=\"psysml:f240402e-e520-4bd4-a2fa-a40388aadc9d\" xlink:actuate=\"onRequest\" xlink:href=\"psysml:f240402e-e520-4bd4-a2fa-a40388aadc9d\" xlink:show=\"new\" xlink:title=\"psysml:f240402e-e520-4bd4-a2fa-a40388aadc9d\" xlink:type=\"simple\"><rect fill=\"#FFFFFF\" height=\"47\" id=\"E3\" style=\"stroke: #383838; stroke-width: 1.5;\" width=\"172.5\" x=\"49.5\" y=\"55\"/><rect fill=\"#F8F8F8\" height=\"37.9375\" style=\"stroke: #383838; stroke-width: 1.5;\" width=\"172.5\" x=\"49.5\" y=\"55\"/><text fill=\"#000000\" font-family=\"sans-serif\" font-size=\"12\" font-style=\"italic\" lengthAdjust=\"spacingAndGlyphs\" textLength=\"64\" x=\"103.75\" y=\"71.1387\">«part def»</text><text fill=\"#000000\" font-family=\"sans-serif\" font-size=\"12\" lengthAdjust=\"spacingAndGlyphs\" textLength=\"16\" x=\"127.75\" y=\"85.1074\">P1</text></a><!--MD5=[14e3b0961a2654348d326746436168a1]\n",
       "cluster E6--><a href=\"psysml:66a2f39c-c11d-47e1-a04e-46a9b54c38c0\" target=\"_top\" title=\"psysml:66a2f39c-c11d-47e1-a04e-46a9b54c38c0\" xlink:actuate=\"onRequest\" xlink:href=\"psysml:66a2f39c-c11d-47e1-a04e-46a9b54c38c0\" xlink:show=\"new\" xlink:title=\"psysml:66a2f39c-c11d-47e1-a04e-46a9b54c38c0\" xlink:type=\"simple\"><rect fill=\"#FFFFFF\" height=\"38\" id=\"E6\" rx=\"10\" ry=\"10\" style=\"stroke: #383838; stroke-width: 1.5;\" width=\"159.5\" x=\"49.5\" y=\"224\"/><rect fill=\"#F8F8F8\" height=\"23.9688\" rx=\"10\" ry=\"10\" style=\"stroke: #F8F8F8; stroke-width: 1.5;\" width=\"159.5\" x=\"49.5\" y=\"224\"/><rect fill=\"#F8F8F8\" height=\"10\" style=\"stroke: #F8F8F8; stroke-width: 1.5;\" width=\"159.5\" x=\"49.5\" y=\"237.9688\"/><rect fill=\"none\" height=\"38\" id=\"E6\" rx=\"10\" ry=\"10\" style=\"stroke: #383838; stroke-width: 1.5;\" width=\"159.5\" x=\"49.5\" y=\"224\"/><text fill=\"#000000\" font-family=\"sans-serif\" font-size=\"12\" lengthAdjust=\"spacingAndGlyphs\" textLength=\"40\" x=\"109.25\" y=\"240.1387\">p1: P1</text><line style=\"stroke: #383838; stroke-width: 1.0;\" x1=\"49.5\" x2=\"209\" y1=\"247.9688\" y2=\"247.9688\"/></a><!--MD5=[55dfccfc6c49c2d10cd1bd2211a6c90c]\n",
       "cluster E8--><a href=\"psysml:d750b59a-5fb4-49de-a141-6edbceed9fe9\" target=\"_top\" title=\"psysml:d750b59a-5fb4-49de-a141-6edbceed9fe9\" xlink:actuate=\"onRequest\" xlink:href=\"psysml:d750b59a-5fb4-49de-a141-6edbceed9fe9\" xlink:show=\"new\" xlink:title=\"psysml:d750b59a-5fb4-49de-a141-6edbceed9fe9\" xlink:type=\"simple\"><rect fill=\"#FFFFFF\" height=\"47\" id=\"E8\" rx=\"10\" ry=\"10\" style=\"stroke: #383838; stroke-width: 1.5;\" width=\"170.5\" x=\"144.5\" y=\"138\"/><rect fill=\"#F8F8F8\" height=\"23.9688\" rx=\"10\" ry=\"10\" style=\"stroke: #F8F8F8; stroke-width: 1.5;\" width=\"170.5\" x=\"144.5\" y=\"138\"/><rect fill=\"#F8F8F8\" height=\"10\" style=\"stroke: #F8F8F8; stroke-width: 1.5;\" width=\"170.5\" x=\"144.5\" y=\"151.9688\"/><rect fill=\"none\" height=\"47\" id=\"E8\" rx=\"10\" ry=\"10\" style=\"stroke: #383838; stroke-width: 1.5;\" width=\"170.5\" x=\"144.5\" y=\"138\"/><text fill=\"#000000\" font-family=\"sans-serif\" font-size=\"12\" lengthAdjust=\"spacingAndGlyphs\" textLength=\"40\" x=\"209.75\" y=\"154.1387\">p2: P1</text><line style=\"stroke: #383838; stroke-width: 1.0;\" x1=\"144.5\" x2=\"315\" y1=\"161.9688\" y2=\"161.9688\"/></a><!--MD5=[b4997ac47864f28c2f74865a473b2911]\n",
       "class E2--><a href=\"psysml:84563fde-fc3c-4caa-a0d2-03a4409edda3\" target=\"_top\" title=\"psysml:84563fde-fc3c-4caa-a0d2-03a4409edda3\" xlink:actuate=\"onRequest\" xlink:href=\"psysml:84563fde-fc3c-4caa-a0d2-03a4409edda3\" xlink:show=\"new\" xlink:title=\"psysml:84563fde-fc3c-4caa-a0d2-03a4409edda3\" xlink:type=\"simple\"><rect fill=\"#FFFFFF\" height=\"45.9375\" id=\"E2\" rx=\"10\" ry=\"10\" style=\"stroke: #383838; stroke-width: 1.5;\" width=\"71\" x=\"32\" y=\"270\"/><text fill=\"#000000\" font-family=\"sans-serif\" font-size=\"12\" font-style=\"italic\" lengthAdjust=\"spacingAndGlyphs\" textLength=\"69\" x=\"33\" y=\"286.1387\">«attribute»</text><text fill=\"#000000\" font-family=\"sans-serif\" font-size=\"12\" lengthAdjust=\"spacingAndGlyphs\" textLength=\"8\" x=\"63.5\" y=\"300.1074\">q</text><line style=\"stroke: #383838; stroke-width: 1.5;\" x1=\"33\" x2=\"102\" y1=\"307.9375\" y2=\"307.9375\"/></a><text fill=\"#000000\" font-family=\"sans-serif\" font-size=\"14\" lengthAdjust=\"spacingAndGlyphs\" textLength=\"44\" x=\"45.5\" y=\"120.9951\">porig1</text><rect fill=\"#383838\" height=\"12\" style=\"stroke: #F8F8F8; stroke-width: 1.5;\" width=\"12\" x=\"61.5\" y=\"96\"/><text fill=\"#000000\" font-family=\"sans-serif\" font-size=\"14\" lengthAdjust=\"spacingAndGlyphs\" textLength=\"44\" x=\"45.5\" y=\"33.6982\">porig1</text><rect fill=\"#383838\" height=\"12\" style=\"stroke: #F8F8F8; stroke-width: 1.5;\" width=\"12\" x=\"61.5\" y=\"49\"/><text fill=\"#000000\" font-family=\"sans-serif\" font-size=\"14\" lengthAdjust=\"spacingAndGlyphs\" textLength=\"27\" x=\"54\" y=\"202.6982\">po1</text><rect fill=\"#383838\" height=\"12\" style=\"stroke: #F8F8F8; stroke-width: 1.5;\" width=\"12\" x=\"61.5\" y=\"218\"/><text fill=\"#000000\" font-family=\"sans-serif\" font-size=\"14\" lengthAdjust=\"spacingAndGlyphs\" textLength=\"40\" x=\"142.5\" y=\"203.9951\">pdest</text><rect fill=\"#383838\" height=\"12\" style=\"stroke: #F8F8F8; stroke-width: 1.5;\" width=\"12\" x=\"156.5\" y=\"179\"/><text fill=\"#000000\" font-family=\"sans-serif\" font-size=\"14\" lengthAdjust=\"spacingAndGlyphs\" textLength=\"40\" x=\"142.5\" y=\"116.6982\">pdest</text><rect fill=\"#383838\" height=\"12\" style=\"stroke: #F8F8F8; stroke-width: 1.5;\" width=\"12\" x=\"156.5\" y=\"132\"/><!--MD5=[1c0b9414cc86e0744215edee6abd8926]\n",
       "link E7 to E9--><a href=\"psysml:eaab9895-3808-4b7e-ad70-425cb7403c1b\" target=\"_top\" title=\"psysml:eaab9895-3808-4b7e-ad70-425cb7403c1b\" xlink:actuate=\"onRequest\" xlink:href=\"psysml:eaab9895-3808-4b7e-ad70-425cb7403c1b\" xlink:show=\"new\" xlink:title=\"psysml:eaab9895-3808-4b7e-ad70-425cb7403c1b\" xlink:type=\"simple\"><path d=\"M73.5,228.07 C90.4,230.17 145.1,206.8 158.51,191.14 \" fill=\"none\" id=\"E7-E9\" style=\"stroke: #383838; stroke-width: 3.0;\"/><text fill=\"#000000\" font-family=\"sans-serif\" font-size=\"13\" lengthAdjust=\"spacingAndGlyphs\" textLength=\"7\" x=\"147.2969\" y=\"210.9167\">*</text></a><!--MD5=[1c0b9414cc86e0744215edee6abd8926]\n",
       "link E7 to E9--><a href=\"psysml:18885de6-563e-4dd2-a418-c135b5ffccd4\" target=\"_top\" title=\"psysml:18885de6-563e-4dd2-a418-c135b5ffccd4\" xlink:actuate=\"onRequest\" xlink:href=\"psysml:18885de6-563e-4dd2-a418-c135b5ffccd4\" xlink:show=\"new\" xlink:title=\"psysml:18885de6-563e-4dd2-a418-c135b5ffccd4\" xlink:type=\"simple\"><path d=\"M71.18,217.95 C83.99,201.75 138.99,178.11 156.28,180.54 \" fill=\"none\" id=\"E7-E9-1\" style=\"stroke: #383838; stroke-width: 3.0;\"/><text fill=\"#000000\" font-family=\"sans-serif\" font-size=\"13\" lengthAdjust=\"spacingAndGlyphs\" textLength=\"7\" x=\"141.261\" y=\"167.7947\">*</text></a><!--MD5=[0103e6d9335de0927c4c7cb4943fda72]\n",
       "@startuml\r\n",
       "skinparam ranksep 10\r\n",
       "skinparam rectangle {\r\n",
       " backgroundColor<<block>> LightGreen\r\n",
       "}\r\n",
       "left to right direction\r\n",
       "skinparam monochrome true\r\n",
       "skinparam classbackgroundcolor white\r\n",
       "skinparam shadowing false\r\n",
       "skinparam wrapWidth 300\r\n",
       "hide circle\r\n",
       "\r\n",
       "package \"AliasTest\" as E1  [[psysml:abede473-ce86-4cf2-9b0f-bcad92dda7df ]]  {\r\n",
       "comp usage \"q\" as E2  <<(T,blue) attribute>> [[psysml:84563fde-fc3c-4caa-a0d2-03a4409edda3 ]] {\r\n",
       "}\r\n",
       "rec def \"P1\" as E3  <<(T,blue) part def>> [[psysml:f240402e-e520-4bd4-a2fa-a40388aadc9d ]] {\r\n",
       "portin \"porig1\" as E4  <<(T,blue) port>> [[psysml:fb61bd91-52ec-4d42-be8a-ef485ce794d8 ]] \r\n",
       "portin \"porig1\" as E5  <<(T,blue) port>> [[psysml:fb61bd91-52ec-4d42-be8a-ef485ce794d8 ]] \r\n",
       "}\r\n",
       "rec usage \"p1: P1\" as E6  [[psysml:66a2f39c-c11d-47e1-a04e-46a9b54c38c0 ]] {\r\n",
       "portin \"po1\" as E7  <<(T,blue) port>> [[psysml:1cf4d29b-7212-465e-9bfc-2d9d3c47093a ]] \r\n",
       "}\r\n",
       "rec usage \"p2: P1\" as E8  [[psysml:d750b59a-5fb4-49de-a141-6edbceed9fe9 ]] {\r\n",
       "portin \"pdest\" as E9  <<(T,blue) port>> [[psysml:1ab4a2c7-e640-4092-b309-d8474ba4cc31 ]] \r\n",
       "portin \"pdest\" as E10  <<(T,blue) port>> [[psysml:1ab4a2c7-e640-4092-b309-d8474ba4cc31 ]] \r\n",
       "}\r\n",
       "}\r\n",
       "E7 -[thickness=3]- \"*\"E9 [[psysml:eaab9895-3808-4b7e-ad70-425cb7403c1b ]] \r\n",
       "E7 -[thickness=3]- \"*\"E9 [[psysml:18885de6-563e-4dd2-a418-c135b5ffccd4 ]] \r\n",
       "@enduml\r\n",
       "\n",
       "PlantUML version 1.2020.13(Sat Jun 13 12:26:38 UTC 2020)\n",
       "(EPL source distribution)\n",
       "Java Runtime: OpenJDK Runtime Environment\n",
       "JVM: OpenJDK 64-Bit Server VM\n",
       "Default Encoding: UTF-8\n",
       "Language: en\n",
       "Country: null\n",
       "--></g></svg>"
      ]
     },
     "execution_count": 19,
     "metadata": {},
     "output_type": "execute_result"
    }
   ],
   "source": [
    "%viz --style=\"LR\" --view=\"Interconnection\" \"AliasTest\""
   ]
  },
  {
   "cell_type": "code",
   "execution_count": 20,
   "id": "77da30c5",
   "metadata": {
    "execution": {
     "iopub.execute_input": "2021-09-27T07:19:09.258651Z",
     "iopub.status.busy": "2021-09-27T07:19:09.258237Z",
     "iopub.status.idle": "2021-09-27T07:19:09.263518Z",
     "shell.execute_reply": "2021-09-27T07:19:09.263835Z"
    }
   },
   "outputs": [
    {
     "data": {
      "image/svg+xml": [
       "<?xml version=\"1.0\" encoding=\"UTF-8\" standalone=\"no\"?><svg xmlns=\"http://www.w3.org/2000/svg\" xmlns:xlink=\"http://www.w3.org/1999/xlink\" contentScriptType=\"application/ecmascript\" contentStyleType=\"text/css\" height=\"12px\" preserveAspectRatio=\"none\" style=\"width:12px;height:12px;\" version=\"1.1\" viewBox=\"0 0 12 12\" width=\"12px\" zoomAndPan=\"magnify\"><defs/><g><!--MD5=[7aeb398939421629f6affaa4a1a7b125]\n",
       "@startuml\r\n",
       "skinparam ranksep 8\r\n",
       "left to right direction\r\n",
       "skinparam monochrome true\r\n",
       "skinparam classbackgroundcolor white\r\n",
       "skinparam shadowing false\r\n",
       "skinparam wrapWidth 300\r\n",
       "hide circle\r\n",
       "\r\n",
       "@enduml\r\n",
       "\n",
       "PlantUML version 1.2020.13(Sat Jun 13 12:26:38 UTC 2020)\n",
       "(EPL source distribution)\n",
       "Java Runtime: OpenJDK Runtime Environment\n",
       "JVM: OpenJDK 64-Bit Server VM\n",
       "Default Encoding: UTF-8\n",
       "Language: en\n",
       "Country: null\n",
       "--></g></svg>"
      ]
     },
     "execution_count": 20,
     "metadata": {},
     "output_type": "execute_result"
    }
   ],
   "source": [
    "%viz --style=\"LR\" --view=\"Action\" \"AliasTest\""
   ]
  },
  {
   "cell_type": "code",
   "execution_count": 21,
   "id": "32ab19d8",
   "metadata": {
    "execution": {
     "iopub.execute_input": "2021-09-27T07:19:09.314054Z",
     "iopub.status.busy": "2021-09-27T07:19:09.313644Z",
     "iopub.status.idle": "2021-09-27T07:19:09.319484Z",
     "shell.execute_reply": "2021-09-27T07:19:09.319794Z"
    }
   },
   "outputs": [
    {
     "data": {
      "image/svg+xml": [
       "<?xml version=\"1.0\" encoding=\"UTF-8\" standalone=\"no\"?><svg xmlns=\"http://www.w3.org/2000/svg\" xmlns:xlink=\"http://www.w3.org/1999/xlink\" contentScriptType=\"application/ecmascript\" contentStyleType=\"text/css\" height=\"12px\" preserveAspectRatio=\"none\" style=\"width:12px;height:12px;\" version=\"1.1\" viewBox=\"0 0 12 12\" width=\"12px\" zoomAndPan=\"magnify\"><defs/><g><!--MD5=[238c11ea2002f03115ad6b49a457d50e]\n",
       "@startuml\r\n",
       "skinparam roundcorner 20\r\n",
       "skinparam BoxPadding 20\r\n",
       "skinparam SequenceBoxBackgroundColor #white\r\n",
       "skinparam style strictuml\r\n",
       "skinparam maxMessageSize 100\r\n",
       "left to right direction\r\n",
       "skinparam monochrome true\r\n",
       "skinparam classbackgroundcolor white\r\n",
       "skinparam shadowing false\r\n",
       "skinparam wrapWidth 300\r\n",
       "hide circle\r\n",
       "\r\n",
       "@enduml\r\n",
       "\n",
       "PlantUML version 1.2020.13(Sat Jun 13 12:26:38 UTC 2020)\n",
       "(EPL source distribution)\n",
       "Java Runtime: OpenJDK Runtime Environment\n",
       "JVM: OpenJDK 64-Bit Server VM\n",
       "Default Encoding: UTF-8\n",
       "Language: en\n",
       "Country: null\n",
       "--></g></svg>"
      ]
     },
     "execution_count": 21,
     "metadata": {},
     "output_type": "execute_result"
    }
   ],
   "source": [
    "%viz --style=\"LR\" --view=\"Sequence\" \"AliasTest\""
   ]
  },
  {
   "cell_type": "code",
   "execution_count": 22,
   "id": "a9aa73e3",
   "metadata": {
    "execution": {
     "iopub.execute_input": "2021-09-27T07:19:09.370370Z",
     "iopub.status.busy": "2021-09-27T07:19:09.369933Z",
     "iopub.status.idle": "2021-09-27T07:19:09.408718Z",
     "shell.execute_reply": "2021-09-27T07:19:09.408368Z"
    }
   },
   "outputs": [
    {
     "data": {
      "image/svg+xml": [
       "<?xml version=\"1.0\" encoding=\"UTF-8\" standalone=\"no\"?><svg xmlns=\"http://www.w3.org/2000/svg\" xmlns:xlink=\"http://www.w3.org/1999/xlink\" contentScriptType=\"application/ecmascript\" contentStyleType=\"text/css\" height=\"277px\" preserveAspectRatio=\"none\" style=\"width:373px;height:277px;\" version=\"1.1\" viewBox=\"0 0 373 277\" width=\"373px\" zoomAndPan=\"magnify\"><defs/><g><!--MD5=[fbc87193dbaf4d95561dea2c320d4a47]\n",
       "cluster E1--><a href=\"psysml:abede473-ce86-4cf2-9b0f-bcad92dda7df\" target=\"_top\" title=\"psysml:abede473-ce86-4cf2-9b0f-bcad92dda7df\" xlink:actuate=\"onRequest\" xlink:href=\"psysml:abede473-ce86-4cf2-9b0f-bcad92dda7df\" xlink:show=\"new\" xlink:title=\"psysml:abede473-ce86-4cf2-9b0f-bcad92dda7df\" xlink:type=\"simple\"><polygon fill=\"#FFFFFF\" points=\"16,6,84,6,91,28.2969,351,28.2969,351,265,16,265,16,6\" style=\"stroke: #000000; stroke-width: 1.5;\"/><line style=\"stroke: #000000; stroke-width: 1.5;\" x1=\"16\" x2=\"91\" y1=\"28.2969\" y2=\"28.2969\"/><text fill=\"#000000\" font-family=\"sans-serif\" font-size=\"14\" font-weight=\"bold\" lengthAdjust=\"spacingAndGlyphs\" textLength=\"62\" x=\"20\" y=\"20.9951\">AliasTest</text></a><!--MD5=[b4997ac47864f28c2f74865a473b2911]\n",
       "class E2--><a href=\"psysml:84563fde-fc3c-4caa-a0d2-03a4409edda3\" target=\"_top\" title=\"psysml:84563fde-fc3c-4caa-a0d2-03a4409edda3\" xlink:actuate=\"onRequest\" xlink:href=\"psysml:84563fde-fc3c-4caa-a0d2-03a4409edda3\" xlink:show=\"new\" xlink:title=\"psysml:84563fde-fc3c-4caa-a0d2-03a4409edda3\" xlink:type=\"simple\"><rect fill=\"#FFFFFF\" height=\"45.9375\" id=\"E2\" rx=\"10\" ry=\"10\" style=\"stroke: #383838; stroke-width: 1.5;\" width=\"71\" x=\"32\" y=\"41\"/><text fill=\"#000000\" font-family=\"sans-serif\" font-size=\"12\" font-style=\"italic\" lengthAdjust=\"spacingAndGlyphs\" textLength=\"69\" x=\"33\" y=\"57.1387\">«attribute»</text><text fill=\"#000000\" font-family=\"sans-serif\" font-size=\"12\" lengthAdjust=\"spacingAndGlyphs\" textLength=\"8\" x=\"63.5\" y=\"71.1074\">q</text><line style=\"stroke: #383838; stroke-width: 1.5;\" x1=\"33\" x2=\"102\" y1=\"78.9375\" y2=\"78.9375\"/></a><!--MD5=[09b614a08d8cba4a07c9adeb5e0fee81]\n",
       "class E3--><a href=\"psysml:f240402e-e520-4bd4-a2fa-a40388aadc9d\" target=\"_top\" title=\"psysml:f240402e-e520-4bd4-a2fa-a40388aadc9d\" xlink:actuate=\"onRequest\" xlink:href=\"psysml:f240402e-e520-4bd4-a2fa-a40388aadc9d\" xlink:show=\"new\" xlink:title=\"psysml:f240402e-e520-4bd4-a2fa-a40388aadc9d\" xlink:type=\"simple\"><rect fill=\"#FFFFFF\" height=\"45.9375\" id=\"E3\" style=\"stroke: #383838; stroke-width: 1.5;\" width=\"66\" x=\"163\" y=\"63\"/><text fill=\"#000000\" font-family=\"sans-serif\" font-size=\"12\" font-style=\"italic\" lengthAdjust=\"spacingAndGlyphs\" textLength=\"64\" x=\"164\" y=\"79.1387\">«part def»</text><text fill=\"#000000\" font-family=\"sans-serif\" font-size=\"12\" lengthAdjust=\"spacingAndGlyphs\" textLength=\"16\" x=\"188\" y=\"93.1074\">P1</text><line style=\"stroke: #383838; stroke-width: 1.5;\" x1=\"164\" x2=\"228\" y1=\"100.9375\" y2=\"100.9375\"/></a><!--MD5=[ebbe1d658d1005bcc118a6aa81145e00]\n",
       "class E4--><a href=\"psysml:fb61bd91-52ec-4d42-be8a-ef485ce794d8\" target=\"_top\" title=\"psysml:fb61bd91-52ec-4d42-be8a-ef485ce794d8\" xlink:actuate=\"onRequest\" xlink:href=\"psysml:fb61bd91-52ec-4d42-be8a-ef485ce794d8\" xlink:show=\"new\" xlink:title=\"psysml:fb61bd91-52ec-4d42-be8a-ef485ce794d8\" xlink:type=\"simple\"><rect fill=\"#FFFFFF\" height=\"45.9375\" id=\"E4\" rx=\"10\" ry=\"10\" style=\"stroke: #383838; stroke-width: 1.5;\" width=\"46\" x=\"289\" y=\"63\"/><text fill=\"#000000\" font-family=\"sans-serif\" font-size=\"12\" font-style=\"italic\" lengthAdjust=\"spacingAndGlyphs\" textLength=\"40\" x=\"292\" y=\"79.1387\">«port»</text><text fill=\"#000000\" font-family=\"sans-serif\" font-size=\"12\" lengthAdjust=\"spacingAndGlyphs\" textLength=\"40\" x=\"292\" y=\"93.1074\">porig1</text><line style=\"stroke: #383838; stroke-width: 1.5;\" x1=\"290\" x2=\"334\" y1=\"100.9375\" y2=\"100.9375\"/></a><!--MD5=[270fce915f116d4de14055a7c1d9a0f3]\n",
       "class E5--><a href=\"psysml:66a2f39c-c11d-47e1-a04e-46a9b54c38c0\" target=\"_top\" title=\"psysml:66a2f39c-c11d-47e1-a04e-46a9b54c38c0\" xlink:actuate=\"onRequest\" xlink:href=\"psysml:66a2f39c-c11d-47e1-a04e-46a9b54c38c0\" xlink:show=\"new\" xlink:title=\"psysml:66a2f39c-c11d-47e1-a04e-46a9b54c38c0\" xlink:type=\"simple\"><rect fill=\"#FFFFFF\" height=\"45.9375\" id=\"E5\" rx=\"10\" ry=\"10\" style=\"stroke: #383838; stroke-width: 1.5;\" width=\"46\" x=\"44.5\" y=\"122\"/><text fill=\"#000000\" font-family=\"sans-serif\" font-size=\"12\" font-style=\"italic\" lengthAdjust=\"spacingAndGlyphs\" textLength=\"40\" x=\"47.5\" y=\"138.1387\">«part»</text><text fill=\"#000000\" font-family=\"sans-serif\" font-size=\"12\" lengthAdjust=\"spacingAndGlyphs\" textLength=\"40\" x=\"47.5\" y=\"152.1074\">p1: P1</text><line style=\"stroke: #383838; stroke-width: 1.5;\" x1=\"45.5\" x2=\"89.5\" y1=\"159.9375\" y2=\"159.9375\"/></a><!--MD5=[60a26617385b1d2d0262a64233df1f8d]\n",
       "class E6--><a href=\"psysml:1cf4d29b-7212-465e-9bfc-2d9d3c47093a\" target=\"_top\" title=\"psysml:1cf4d29b-7212-465e-9bfc-2d9d3c47093a\" xlink:actuate=\"onRequest\" xlink:href=\"psysml:1cf4d29b-7212-465e-9bfc-2d9d3c47093a\" xlink:show=\"new\" xlink:title=\"psysml:1cf4d29b-7212-465e-9bfc-2d9d3c47093a\" xlink:type=\"simple\"><rect fill=\"#FFFFFF\" height=\"45.9375\" id=\"E6\" rx=\"10\" ry=\"10\" style=\"stroke: #383838; stroke-width: 1.5;\" width=\"42\" x=\"175\" y=\"144\"/><text fill=\"#000000\" font-family=\"sans-serif\" font-size=\"12\" font-style=\"italic\" lengthAdjust=\"spacingAndGlyphs\" textLength=\"40\" x=\"176\" y=\"160.1387\">«port»</text><text fill=\"#000000\" font-family=\"sans-serif\" font-size=\"12\" lengthAdjust=\"spacingAndGlyphs\" textLength=\"24\" x=\"184\" y=\"174.1074\">po1</text><line style=\"stroke: #383838; stroke-width: 1.5;\" x1=\"176\" x2=\"216\" y1=\"181.9375\" y2=\"181.9375\"/></a><!--MD5=[2156ba9850f5573cc1fc38a6a4b2f02b]\n",
       "class E7--><a href=\"psysml:d750b59a-5fb4-49de-a141-6edbceed9fe9\" target=\"_top\" title=\"psysml:d750b59a-5fb4-49de-a141-6edbceed9fe9\" xlink:actuate=\"onRequest\" xlink:href=\"psysml:d750b59a-5fb4-49de-a141-6edbceed9fe9\" xlink:show=\"new\" xlink:title=\"psysml:d750b59a-5fb4-49de-a141-6edbceed9fe9\" xlink:type=\"simple\"><rect fill=\"#FFFFFF\" height=\"45.9375\" id=\"E7\" rx=\"10\" ry=\"10\" style=\"stroke: #383838; stroke-width: 1.5;\" width=\"46\" x=\"44.5\" y=\"203\"/><text fill=\"#000000\" font-family=\"sans-serif\" font-size=\"12\" font-style=\"italic\" lengthAdjust=\"spacingAndGlyphs\" textLength=\"40\" x=\"47.5\" y=\"219.1387\">«part»</text><text fill=\"#000000\" font-family=\"sans-serif\" font-size=\"12\" lengthAdjust=\"spacingAndGlyphs\" textLength=\"40\" x=\"47.5\" y=\"233.1074\">p2: P1</text><line style=\"stroke: #383838; stroke-width: 1.5;\" x1=\"45.5\" x2=\"89.5\" y1=\"240.9375\" y2=\"240.9375\"/></a><!--MD5=[b9389687b975829384b498ac4b7476b2]\n",
       "class E8--><a href=\"psysml:1ab4a2c7-e640-4092-b309-d8474ba4cc31\" target=\"_top\" title=\"psysml:1ab4a2c7-e640-4092-b309-d8474ba4cc31\" xlink:actuate=\"onRequest\" xlink:href=\"psysml:1ab4a2c7-e640-4092-b309-d8474ba4cc31\" xlink:show=\"new\" xlink:title=\"psysml:1ab4a2c7-e640-4092-b309-d8474ba4cc31\" xlink:type=\"simple\"><rect fill=\"#FFFFFF\" height=\"45.9375\" id=\"E8\" rx=\"10\" ry=\"10\" style=\"stroke: #383838; stroke-width: 1.5;\" width=\"42\" x=\"291\" y=\"173\"/><text fill=\"#000000\" font-family=\"sans-serif\" font-size=\"12\" font-style=\"italic\" lengthAdjust=\"spacingAndGlyphs\" textLength=\"40\" x=\"292\" y=\"189.1387\">«port»</text><text fill=\"#000000\" font-family=\"sans-serif\" font-size=\"12\" lengthAdjust=\"spacingAndGlyphs\" textLength=\"36\" x=\"294\" y=\"203.1074\">pdest</text><line style=\"stroke: #383838; stroke-width: 1.5;\" x1=\"292\" x2=\"332\" y1=\"210.9375\" y2=\"210.9375\"/></a><!--MD5=[4672eba38e49728da53d11aeb285b987]\n",
       "reverse link E3 to E4--><a href=\"psysml:b0a1a3b9-a387-42d1-a567-e540cd2e1d19\" target=\"_top\" title=\"psysml:b0a1a3b9-a387-42d1-a567-e540cd2e1d19\" xlink:actuate=\"onRequest\" xlink:href=\"psysml:b0a1a3b9-a387-42d1-a567-e540cd2e1d19\" xlink:show=\"new\" xlink:title=\"psysml:b0a1a3b9-a387-42d1-a567-e540cd2e1d19\" xlink:type=\"simple\"><path d=\"M242.14,98.5 C258.23,99.18 275.63,98.46 288.92,96.33 \" fill=\"none\" id=\"E3&lt;-E4\" style=\"stroke: #383838; stroke-width: 1.0;\"/><polygon fill=\"#FFFFFF\" points=\"229.06,97.6,234.7687,102.0057,241.0312,98.4306,235.3225,94.0249,229.06,97.6\" style=\"stroke: #383838; stroke-width: 1.0;\"/><text fill=\"#000000\" font-family=\"sans-serif\" font-size=\"13\" lengthAdjust=\"spacingAndGlyphs\" textLength=\"8\" x=\"272.9653\" y=\"113.6631\">1</text></a><!--MD5=[4672eba38e49728da53d11aeb285b987]\n",
       "reverse link E3 to E4--><a href=\"psysml:b116cd08-9727-4fd8-b1d3-1b9f6deb041c\" target=\"_top\" title=\"psysml:b116cd08-9727-4fd8-b1d3-1b9f6deb041c\" xlink:actuate=\"onRequest\" xlink:href=\"psysml:b116cd08-9727-4fd8-b1d3-1b9f6deb041c\" xlink:show=\"new\" xlink:title=\"psysml:b116cd08-9727-4fd8-b1d3-1b9f6deb041c\" xlink:type=\"simple\"><path d=\"M244.08,72.68 C259.61,72.1 276.16,72.9 288.92,75.07 \" fill=\"none\" id=\"E3&lt;-E4-1\" style=\"stroke: #383838; stroke-width: 1.0; stroke-dasharray: 7.0,7.0;\"/><ellipse cx=\"237.0406\" cy=\"73.1636\" fill=\"#FFFFFF\" rx=\"8\" ry=\"8\" style=\"stroke: #383838; stroke-width: 1.0;\"/><line style=\"stroke: #383838; stroke-width: 1.0;\" x1=\"245.0213\" x2=\"229.06\" y1=\"72.6071\" y2=\"73.72\"/><line style=\"stroke: #383838; stroke-width: 1.0;\" x1=\"237.5971\" x2=\"236.4842\" y1=\"81.1442\" y2=\"65.1829\"/><text fill=\"#000000\" font-family=\"sans-serif\" font-size=\"13\" lengthAdjust=\"spacingAndGlyphs\" textLength=\"8\" x=\"272.9653\" y=\"86.158\">1</text></a><!--MD5=[e9be52314489bd878ff4c7144b63c9e1]\n",
       "link E5 to E3--><a href=\"psysml:b60c9595-85bf-4c72-aa43-c7c5a3162c28\" target=\"_top\" title=\"psysml:b60c9595-85bf-4c72-aa43-c7c5a3162c28\" xlink:actuate=\"onRequest\" xlink:href=\"psysml:b60c9595-85bf-4c72-aa43-c7c5a3162c28\" xlink:show=\"new\" xlink:title=\"psysml:b60c9595-85bf-4c72-aa43-c7c5a3162c28\" xlink:type=\"simple\"><path d=\"M90.53,134.72 C105.43,127.78 125.72,118.31 144.46,109.57 \" fill=\"none\" id=\"E5-&gt;E3\" style=\"stroke: #383838; stroke-width: 1.0;\"/><polygon fill=\"#FFFFFF\" points=\"162.78,101.03,148.5252,115.4106,142.6026,102.725,162.78,101.03\" style=\"stroke: #383838; stroke-width: 1.0;\"/><ellipse cx=\"142.5143\" cy=\"116.0097\" fill=\"#383838\" rx=\"2\" ry=\"2\" style=\"stroke: #383838; stroke-width: 1.0;\"/><ellipse cx=\"138.2839\" cy=\"106.9486\" fill=\"#383838\" rx=\"2\" ry=\"2\" style=\"stroke: #383838; stroke-width: 1.0;\"/></a><!--MD5=[85d356282659285ab4b2cfe2f634dd2b]\n",
       "reverse link E5 to E6--><a href=\"psysml:5e5f570b-f88f-4e5d-bde6-a1031949a59c\" target=\"_top\" title=\"psysml:5e5f570b-f88f-4e5d-bde6-a1031949a59c\" xlink:actuate=\"onRequest\" xlink:href=\"psysml:5e5f570b-f88f-4e5d-bde6-a1031949a59c\" xlink:show=\"new\" xlink:title=\"psysml:5e5f570b-f88f-4e5d-bde6-a1031949a59c\" xlink:type=\"simple\"><path d=\"M103.55,151.1 C126.53,155.09 155.74,160.17 174.89,163.5 \" fill=\"none\" id=\"E5&lt;-E6\" style=\"stroke: #383838; stroke-width: 1.0;\"/><polygon fill=\"#FFFFFF\" points=\"90.53,148.83,95.755,153.7999,102.3522,150.8883,97.1272,145.9184,90.53,148.83\" style=\"stroke: #383838; stroke-width: 1.0;\"/><text fill=\"#000000\" font-family=\"sans-serif\" font-size=\"13\" lengthAdjust=\"spacingAndGlyphs\" textLength=\"8\" x=\"158.8862\" y=\"176.873\">1</text></a><!--MD5=[f667431f98296947986a1a7595a31603]\n",
       "link E6 to E4--><a href=\"psysml:ccd9da30-2bd5-4e38-bf20-b9f9621d2107\" target=\"_top\" title=\"psysml:ccd9da30-2bd5-4e38-bf20-b9f9621d2107\" xlink:actuate=\"onRequest\" xlink:href=\"psysml:ccd9da30-2bd5-4e38-bf20-b9f9621d2107\" xlink:show=\"new\" xlink:title=\"psysml:ccd9da30-2bd5-4e38-bf20-b9f9621d2107\" xlink:type=\"simple\"><path d=\"M217.12,152.71 C232.33,141.9 253.68,126.73 272.18,113.59 \" fill=\"none\" id=\"E6-&gt;E4\" style=\"stroke: #383838; stroke-width: 1.0;\"/><polygon fill=\"#FFFFFF\" points=\"288.74,101.81,277.2991,118.5165,269.1949,107.1006,288.74,101.81\" style=\"stroke: #383838; stroke-width: 1.0;\"/><line style=\"stroke: #383838; stroke-width: 2.0;\" x1=\"274.2005\" x2=\"266.0963\" y1=\"120.7162\" y2=\"109.3003\"/></a><!--MD5=[14ccda38c055a5c0da953d572bc50960]\n",
       "link E7 to E3--><a href=\"psysml:8fc3f931-75e6-473d-9c07-27a38ec18c6d\" target=\"_top\" title=\"psysml:8fc3f931-75e6-473d-9c07-27a38ec18c6d\" xlink:actuate=\"onRequest\" xlink:href=\"psysml:8fc3f931-75e6-473d-9c07-27a38ec18c6d\" xlink:show=\"new\" xlink:title=\"psysml:8fc3f931-75e6-473d-9c07-27a38ec18c6d\" xlink:type=\"simple\"><path d=\"M89.39,202.88 C108.71,181.5 137.78,149.32 160.54,124.14 \" fill=\"none\" id=\"E7-&gt;E3\" style=\"stroke: #383838; stroke-width: 1.0;\"/><polygon fill=\"#FFFFFF\" points=\"174.08,109.15,166.5338,127.9398,156.1471,118.5527,174.08,109.15\" style=\"stroke: #383838; stroke-width: 1.0;\"/><ellipse cx=\"161.2281\" cy=\"130.8276\" fill=\"#383838\" rx=\"2\" ry=\"2\" style=\"stroke: #383838; stroke-width: 1.0;\"/><ellipse cx=\"153.8091\" cy=\"124.1226\" fill=\"#383838\" rx=\"2\" ry=\"2\" style=\"stroke: #383838; stroke-width: 1.0;\"/></a><!--MD5=[dc164f5e8a733ab456ef1add180e9e34]\n",
       "reverse link E7 to E8--><a href=\"psysml:36a32e90-a022-4c42-9b64-7c79f5d1d72c\" target=\"_top\" title=\"psysml:36a32e90-a022-4c42-9b64-7c79f5d1d72c\" xlink:actuate=\"onRequest\" xlink:href=\"psysml:36a32e90-a022-4c42-9b64-7c79f5d1d72c\" xlink:show=\"new\" xlink:title=\"psysml:36a32e90-a022-4c42-9b64-7c79f5d1d72c\" xlink:type=\"simple\"><path d=\"M103.83,235.23 C136.36,235.24 185.96,229.43 229,224 C250.09,221.34 274.2,218.08 290.79,212.51 \" fill=\"none\" id=\"E7&lt;-E8\" style=\"stroke: #383838; stroke-width: 1.0;\"/><polygon fill=\"#FFFFFF\" points=\"90.58,234.83,96.4586,239.0064,102.5747,235.1863,96.6961,231.0099,90.58,234.83\" style=\"stroke: #383838; stroke-width: 1.0;\"/><text fill=\"#000000\" font-family=\"sans-serif\" font-size=\"13\" lengthAdjust=\"spacingAndGlyphs\" textLength=\"8\" x=\"275.0694\" y=\"231.9599\">1</text></a><!--MD5=[dc164f5e8a733ab456ef1add180e9e34]\n",
       "reverse link E7 to E8--><a href=\"psysml:346ab8ae-1d2f-462f-a94e-fae0b61189bf\" target=\"_top\" title=\"psysml:346ab8ae-1d2f-462f-a94e-fae0b61189bf\" xlink:actuate=\"onRequest\" xlink:href=\"psysml:346ab8ae-1d2f-462f-a94e-fae0b61189bf\" xlink:show=\"new\" xlink:title=\"psysml:346ab8ae-1d2f-462f-a94e-fae0b61189bf\" xlink:type=\"simple\"><path d=\"M105.15,207.63 C137.69,200.08 186.54,194.36 229,189 C250.09,186.34 274.2,183.08 290.79,184.28 \" fill=\"none\" id=\"E7&lt;-E8-1\" style=\"stroke: #383838; stroke-width: 1.0; stroke-dasharray: 7.0,7.0;\"/><ellipse cx=\"98.3111\" cy=\"209.4434\" fill=\"#FFFFFF\" rx=\"8\" ry=\"8\" style=\"stroke: #383838; stroke-width: 1.0;\"/><line style=\"stroke: #383838; stroke-width: 1.0;\" x1=\"106.0423\" x2=\"90.58\" y1=\"207.3869\" y2=\"211.5\"/><line style=\"stroke: #383838; stroke-width: 1.0;\" x1=\"100.3677\" x2=\"96.2546\" y1=\"217.1746\" y2=\"201.7123\"/><text fill=\"#000000\" font-family=\"sans-serif\" font-size=\"13\" lengthAdjust=\"spacingAndGlyphs\" textLength=\"8\" x=\"275.0694\" y=\"175.4907\">1</text></a><!--MD5=[0a839d0f80c2d72d4b9b307f046d0de8]\n",
       "link E6 to E8--><a href=\"psysml:eaab9895-3808-4b7e-ad70-425cb7403c1b\" target=\"_top\" title=\"psysml:eaab9895-3808-4b7e-ad70-425cb7403c1b\" xlink:actuate=\"onRequest\" xlink:href=\"psysml:eaab9895-3808-4b7e-ad70-425cb7403c1b\" xlink:show=\"new\" xlink:title=\"psysml:eaab9895-3808-4b7e-ad70-425cb7403c1b\" xlink:type=\"simple\"><path d=\"M217.12,182.11 C237.83,191.04 269.92,199.22 290.7,200.86 \" fill=\"none\" id=\"E6-E8\" style=\"stroke: #383838; stroke-width: 3.0;\"/><text fill=\"#000000\" font-family=\"sans-serif\" font-size=\"13\" lengthAdjust=\"spacingAndGlyphs\" textLength=\"7\" x=\"276.105\" y=\"216.7421\">*</text></a><!--MD5=[0a839d0f80c2d72d4b9b307f046d0de8]\n",
       "link E6 to E8--><a href=\"psysml:18885de6-563e-4dd2-a418-c135b5ffccd4\" target=\"_top\" title=\"psysml:18885de6-563e-4dd2-a418-c135b5ffccd4\" xlink:actuate=\"onRequest\" xlink:href=\"psysml:18885de6-563e-4dd2-a418-c135b5ffccd4\" xlink:show=\"new\" xlink:title=\"psysml:18885de6-563e-4dd2-a418-c135b5ffccd4\" xlink:type=\"simple\"><path d=\"M217.12,161.53 C237.83,162.93 269.92,171.08 290.7,180.22 \" fill=\"none\" id=\"E6-E8-1\" style=\"stroke: #383838; stroke-width: 3.0;\"/><text fill=\"#000000\" font-family=\"sans-serif\" font-size=\"13\" lengthAdjust=\"spacingAndGlyphs\" textLength=\"7\" x=\"276.105\" y=\"189.7811\">*</text></a><!--MD5=[fa4359b5429ad681ef9aa60ef0e91dc2]\n",
       "@startuml\r\n",
       "left to right direction\r\n",
       "skinparam monochrome true\r\n",
       "skinparam classbackgroundcolor white\r\n",
       "skinparam shadowing false\r\n",
       "skinparam wrapWidth 300\r\n",
       "hide circle\r\n",
       "\r\n",
       "package \"AliasTest\" as E1  [[psysml:abede473-ce86-4cf2-9b0f-bcad92dda7df ]]  {\r\n",
       "comp usage \"q\" as E2  <<(T,blue) attribute>> [[psysml:84563fde-fc3c-4caa-a0d2-03a4409edda3 ]] {\r\n",
       "}\r\n",
       "comp def \"P1\" as E3  <<(T,blue) part def>> [[psysml:f240402e-e520-4bd4-a2fa-a40388aadc9d ]] {\r\n",
       "}\r\n",
       "comp usage \"porig1\" as E4  <<(T,blue) port>> [[psysml:fb61bd91-52ec-4d42-be8a-ef485ce794d8 ]] {\r\n",
       "}\r\n",
       "comp usage \"p1: P1\" as E5  <<(T,blue) part>> [[psysml:66a2f39c-c11d-47e1-a04e-46a9b54c38c0 ]] {\r\n",
       "}\r\n",
       "comp usage \"po1\" as E6  <<(T,blue) port>> [[psysml:1cf4d29b-7212-465e-9bfc-2d9d3c47093a ]] {\r\n",
       "}\r\n",
       "comp usage \"p2: P1\" as E7  <<(T,blue) part>> [[psysml:d750b59a-5fb4-49de-a141-6edbceed9fe9 ]] {\r\n",
       "}\r\n",
       "comp usage \"pdest\" as E8  <<(T,blue) port>> [[psysml:1ab4a2c7-e640-4092-b309-d8474ba4cc31 ]] {\r\n",
       "}\r\n",
       "}\r\n",
       "E3 o- - \"1\"E4 [[psysml:b0a1a3b9-a387-42d1-a567-e540cd2e1d19 ]] \r\n",
       "E3 +.. \"1\"E4 [[psysml:b116cd08-9727-4fd8-b1d3-1b9f6deb041c ]] \r\n",
       "E5 - -:|> E3 [[psysml:b60c9595-85bf-4c72-aa43-c7c5a3162c28 ]] \r\n",
       "E5 o- - \"1\"E6 [[psysml:5e5f570b-f88f-4e5d-bde6-a1031949a59c ]] \r\n",
       "E6 - -||> E4 [[psysml:ccd9da30-2bd5-4e38-bf20-b9f9621d2107 ]] \r\n",
       "E7 - -:|> E3 [[psysml:8fc3f931-75e6-473d-9c07-27a38ec18c6d ]] \r\n",
       "E7 o- - \"1\"E8 [[psysml:36a32e90-a022-4c42-9b64-7c79f5d1d72c ]] \r\n",
       "E7 +.. \"1\"E8 [[psysml:346ab8ae-1d2f-462f-a94e-fae0b61189bf ]] \r\n",
       "E6 -[thickness=3]- \"*\"E8 [[psysml:eaab9895-3808-4b7e-ad70-425cb7403c1b ]] \r\n",
       "E6 -[thickness=3]- \"*\"E8 [[psysml:18885de6-563e-4dd2-a418-c135b5ffccd4 ]] \r\n",
       "@enduml\r\n",
       "\n",
       "PlantUML version 1.2020.13(Sat Jun 13 12:26:38 UTC 2020)\n",
       "(EPL source distribution)\n",
       "Java Runtime: OpenJDK Runtime Environment\n",
       "JVM: OpenJDK 64-Bit Server VM\n",
       "Default Encoding: UTF-8\n",
       "Language: en\n",
       "Country: null\n",
       "--></g></svg>"
      ]
     },
     "execution_count": 22,
     "metadata": {},
     "output_type": "execute_result"
    }
   ],
   "source": [
    "%viz --style=\"LR\" --view=\"MIXED\" \"AliasTest\""
   ]
  },
  {
   "cell_type": "code",
   "execution_count": 23,
   "id": "1c9f5db9",
   "metadata": {
    "execution": {
     "iopub.execute_input": "2021-09-27T07:19:09.458373Z",
     "iopub.status.busy": "2021-09-27T07:19:09.457964Z",
     "iopub.status.idle": "2021-09-27T07:19:09.504335Z",
     "shell.execute_reply": "2021-09-27T07:19:09.503973Z"
    }
   },
   "outputs": [
    {
     "data": {
      "image/svg+xml": [
       "<?xml version=\"1.0\" encoding=\"UTF-8\" standalone=\"no\"?><svg xmlns=\"http://www.w3.org/2000/svg\" xmlns:xlink=\"http://www.w3.org/1999/xlink\" contentScriptType=\"application/ecmascript\" contentStyleType=\"text/css\" height=\"327px\" preserveAspectRatio=\"none\" style=\"width:304px;height:327px;\" version=\"1.1\" viewBox=\"0 0 304 327\" width=\"304px\" zoomAndPan=\"magnify\"><defs><filter height=\"300%\" id=\"fgj9qixxiahcv\" width=\"300%\" x=\"-1\" y=\"-1\"><feGaussianBlur result=\"blurOut\" stdDeviation=\"2.0\"/><feColorMatrix in=\"blurOut\" result=\"blurOut2\" type=\"matrix\" values=\"0 0 0 0 0 0 0 0 0 0 0 0 0 0 0 0 0 0 .4 0\"/><feOffset dx=\"4.0\" dy=\"4.0\" in=\"blurOut2\" result=\"blurOut3\"/><feBlend in=\"SourceGraphic\" in2=\"blurOut3\" mode=\"normal\"/></filter></defs><g><!--MD5=[fbc87193dbaf4d95561dea2c320d4a47]\n",
       "cluster E1--><a href=\"psysml:abede473-ce86-4cf2-9b0f-bcad92dda7df\" target=\"_top\" title=\"psysml:abede473-ce86-4cf2-9b0f-bcad92dda7df\" xlink:actuate=\"onRequest\" xlink:href=\"psysml:abede473-ce86-4cf2-9b0f-bcad92dda7df\" xlink:show=\"new\" xlink:title=\"psysml:abede473-ce86-4cf2-9b0f-bcad92dda7df\" xlink:type=\"simple\"><polygon fill=\"#FFFFFF\" filter=\"url(#fgj9qixxiahcv)\" points=\"16,6,84,6,91,28.2969,282,28.2969,282,315,16,315,16,6\" style=\"stroke: #000000; stroke-width: 1.5;\"/><line style=\"stroke: #000000; stroke-width: 1.5;\" x1=\"16\" x2=\"91\" y1=\"28.2969\" y2=\"28.2969\"/><text fill=\"#000000\" font-family=\"sans-serif\" font-size=\"14\" font-weight=\"bold\" lengthAdjust=\"spacingAndGlyphs\" textLength=\"62\" x=\"20\" y=\"20.9951\">AliasTest</text></a><!--MD5=[b4997ac47864f28c2f74865a473b2911]\n",
       "class E2--><a href=\"psysml:84563fde-fc3c-4caa-a0d2-03a4409edda3\" target=\"_top\" title=\"psysml:84563fde-fc3c-4caa-a0d2-03a4409edda3\" xlink:actuate=\"onRequest\" xlink:href=\"psysml:84563fde-fc3c-4caa-a0d2-03a4409edda3\" xlink:show=\"new\" xlink:title=\"psysml:84563fde-fc3c-4caa-a0d2-03a4409edda3\" xlink:type=\"simple\"><rect fill=\"#FEFECE\" filter=\"url(#fgj9qixxiahcv)\" height=\"45.9375\" id=\"E2\" rx=\"10\" ry=\"10\" style=\"stroke: #A80036; stroke-width: 1.5;\" width=\"71\" x=\"194.5\" y=\"41\"/><text fill=\"#000000\" font-family=\"sans-serif\" font-size=\"12\" font-style=\"italic\" lengthAdjust=\"spacingAndGlyphs\" textLength=\"69\" x=\"195.5\" y=\"57.1387\">«attribute»</text><text fill=\"#000000\" font-family=\"sans-serif\" font-size=\"12\" lengthAdjust=\"spacingAndGlyphs\" textLength=\"8\" x=\"226\" y=\"71.1074\">q</text><line style=\"stroke: #A80036; stroke-width: 1.5;\" x1=\"195.5\" x2=\"264.5\" y1=\"78.9375\" y2=\"78.9375\"/></a><!--MD5=[09b614a08d8cba4a07c9adeb5e0fee81]\n",
       "class E3--><a href=\"psysml:f240402e-e520-4bd4-a2fa-a40388aadc9d\" target=\"_top\" title=\"psysml:f240402e-e520-4bd4-a2fa-a40388aadc9d\" xlink:actuate=\"onRequest\" xlink:href=\"psysml:f240402e-e520-4bd4-a2fa-a40388aadc9d\" xlink:show=\"new\" xlink:title=\"psysml:f240402e-e520-4bd4-a2fa-a40388aadc9d\" xlink:type=\"simple\"><rect fill=\"#FEFECE\" filter=\"url(#fgj9qixxiahcv)\" height=\"45.9375\" id=\"E3\" style=\"stroke: #A80036; stroke-width: 1.5;\" width=\"66\" x=\"168\" y=\"147\"/><text fill=\"#000000\" font-family=\"sans-serif\" font-size=\"12\" font-style=\"italic\" lengthAdjust=\"spacingAndGlyphs\" textLength=\"64\" x=\"169\" y=\"163.1387\">«part def»</text><text fill=\"#000000\" font-family=\"sans-serif\" font-size=\"12\" lengthAdjust=\"spacingAndGlyphs\" textLength=\"16\" x=\"193\" y=\"177.1074\">P1</text><line style=\"stroke: #A80036; stroke-width: 1.5;\" x1=\"169\" x2=\"233\" y1=\"184.9375\" y2=\"184.9375\"/></a><!--MD5=[ebbe1d658d1005bcc118a6aa81145e00]\n",
       "class E4--><a href=\"psysml:fb61bd91-52ec-4d42-be8a-ef485ce794d8\" target=\"_top\" title=\"psysml:fb61bd91-52ec-4d42-be8a-ef485ce794d8\" xlink:actuate=\"onRequest\" xlink:href=\"psysml:fb61bd91-52ec-4d42-be8a-ef485ce794d8\" xlink:show=\"new\" xlink:title=\"psysml:fb61bd91-52ec-4d42-be8a-ef485ce794d8\" xlink:type=\"simple\"><rect fill=\"#FEFECE\" filter=\"url(#fgj9qixxiahcv)\" height=\"45.9375\" id=\"E4\" rx=\"10\" ry=\"10\" style=\"stroke: #A80036; stroke-width: 1.5;\" width=\"46\" x=\"178\" y=\"253\"/><text fill=\"#000000\" font-family=\"sans-serif\" font-size=\"12\" font-style=\"italic\" lengthAdjust=\"spacingAndGlyphs\" textLength=\"40\" x=\"181\" y=\"269.1387\">«port»</text><text fill=\"#000000\" font-family=\"sans-serif\" font-size=\"12\" lengthAdjust=\"spacingAndGlyphs\" textLength=\"40\" x=\"181\" y=\"283.1074\">porig1</text><line style=\"stroke: #A80036; stroke-width: 1.5;\" x1=\"179\" x2=\"223\" y1=\"290.9375\" y2=\"290.9375\"/></a><!--MD5=[270fce915f116d4de14055a7c1d9a0f3]\n",
       "class E5--><a href=\"psysml:66a2f39c-c11d-47e1-a04e-46a9b54c38c0\" target=\"_top\" title=\"psysml:66a2f39c-c11d-47e1-a04e-46a9b54c38c0\" xlink:actuate=\"onRequest\" xlink:href=\"psysml:66a2f39c-c11d-47e1-a04e-46a9b54c38c0\" xlink:show=\"new\" xlink:title=\"psysml:66a2f39c-c11d-47e1-a04e-46a9b54c38c0\" xlink:type=\"simple\"><rect fill=\"#FEFECE\" filter=\"url(#fgj9qixxiahcv)\" height=\"45.9375\" id=\"E5\" rx=\"10\" ry=\"10\" style=\"stroke: #A80036; stroke-width: 1.5;\" width=\"46\" x=\"113\" y=\"41\"/><text fill=\"#000000\" font-family=\"sans-serif\" font-size=\"12\" font-style=\"italic\" lengthAdjust=\"spacingAndGlyphs\" textLength=\"40\" x=\"116\" y=\"57.1387\">«part»</text><text fill=\"#000000\" font-family=\"sans-serif\" font-size=\"12\" lengthAdjust=\"spacingAndGlyphs\" textLength=\"40\" x=\"116\" y=\"71.1074\">p1: P1</text><line style=\"stroke: #A80036; stroke-width: 1.5;\" x1=\"114\" x2=\"158\" y1=\"78.9375\" y2=\"78.9375\"/></a><!--MD5=[60a26617385b1d2d0262a64233df1f8d]\n",
       "class E6--><a href=\"psysml:1cf4d29b-7212-465e-9bfc-2d9d3c47093a\" target=\"_top\" title=\"psysml:1cf4d29b-7212-465e-9bfc-2d9d3c47093a\" xlink:actuate=\"onRequest\" xlink:href=\"psysml:1cf4d29b-7212-465e-9bfc-2d9d3c47093a\" xlink:show=\"new\" xlink:title=\"psysml:1cf4d29b-7212-465e-9bfc-2d9d3c47093a\" xlink:type=\"simple\"><rect fill=\"#FEFECE\" filter=\"url(#fgj9qixxiahcv)\" height=\"45.9375\" id=\"E6\" rx=\"10\" ry=\"10\" style=\"stroke: #A80036; stroke-width: 1.5;\" width=\"42\" x=\"91\" y=\"147\"/><text fill=\"#000000\" font-family=\"sans-serif\" font-size=\"12\" font-style=\"italic\" lengthAdjust=\"spacingAndGlyphs\" textLength=\"40\" x=\"92\" y=\"163.1387\">«port»</text><text fill=\"#000000\" font-family=\"sans-serif\" font-size=\"12\" lengthAdjust=\"spacingAndGlyphs\" textLength=\"24\" x=\"100\" y=\"177.1074\">po1</text><line style=\"stroke: #A80036; stroke-width: 1.5;\" x1=\"92\" x2=\"132\" y1=\"184.9375\" y2=\"184.9375\"/></a><!--MD5=[2156ba9850f5573cc1fc38a6a4b2f02b]\n",
       "class E7--><a href=\"psysml:d750b59a-5fb4-49de-a141-6edbceed9fe9\" target=\"_top\" title=\"psysml:d750b59a-5fb4-49de-a141-6edbceed9fe9\" xlink:actuate=\"onRequest\" xlink:href=\"psysml:d750b59a-5fb4-49de-a141-6edbceed9fe9\" xlink:show=\"new\" xlink:title=\"psysml:d750b59a-5fb4-49de-a141-6edbceed9fe9\" xlink:type=\"simple\"><rect fill=\"#FEFECE\" filter=\"url(#fgj9qixxiahcv)\" height=\"45.9375\" id=\"E7\" rx=\"10\" ry=\"10\" style=\"stroke: #A80036; stroke-width: 1.5;\" width=\"46\" x=\"32\" y=\"41\"/><text fill=\"#000000\" font-family=\"sans-serif\" font-size=\"12\" font-style=\"italic\" lengthAdjust=\"spacingAndGlyphs\" textLength=\"40\" x=\"35\" y=\"57.1387\">«part»</text><text fill=\"#000000\" font-family=\"sans-serif\" font-size=\"12\" lengthAdjust=\"spacingAndGlyphs\" textLength=\"40\" x=\"35\" y=\"71.1074\">p2: P1</text><line style=\"stroke: #A80036; stroke-width: 1.5;\" x1=\"33\" x2=\"77\" y1=\"78.9375\" y2=\"78.9375\"/></a><!--MD5=[b9389687b975829384b498ac4b7476b2]\n",
       "class E8--><a href=\"psysml:1ab4a2c7-e640-4092-b309-d8474ba4cc31\" target=\"_top\" title=\"psysml:1ab4a2c7-e640-4092-b309-d8474ba4cc31\" xlink:actuate=\"onRequest\" xlink:href=\"psysml:1ab4a2c7-e640-4092-b309-d8474ba4cc31\" xlink:show=\"new\" xlink:title=\"psysml:1ab4a2c7-e640-4092-b309-d8474ba4cc31\" xlink:type=\"simple\"><rect fill=\"#FEFECE\" filter=\"url(#fgj9qixxiahcv)\" height=\"45.9375\" id=\"E8\" rx=\"10\" ry=\"10\" style=\"stroke: #A80036; stroke-width: 1.5;\" width=\"42\" x=\"63\" y=\"253\"/><text fill=\"#000000\" font-family=\"sans-serif\" font-size=\"12\" font-style=\"italic\" lengthAdjust=\"spacingAndGlyphs\" textLength=\"40\" x=\"64\" y=\"269.1387\">«port»</text><text fill=\"#000000\" font-family=\"sans-serif\" font-size=\"12\" lengthAdjust=\"spacingAndGlyphs\" textLength=\"36\" x=\"66\" y=\"283.1074\">pdest</text><line style=\"stroke: #A80036; stroke-width: 1.5;\" x1=\"64\" x2=\"104\" y1=\"290.9375\" y2=\"290.9375\"/></a><!--MD5=[4672eba38e49728da53d11aeb285b987]\n",
       "reverse link E3 to E4--><a href=\"psysml:b0a1a3b9-a387-42d1-a567-e540cd2e1d19\" target=\"_top\" title=\"psysml:b0a1a3b9-a387-42d1-a567-e540cd2e1d19\" xlink:actuate=\"onRequest\" xlink:href=\"psysml:b0a1a3b9-a387-42d1-a567-e540cd2e1d19\" xlink:show=\"new\" xlink:title=\"psysml:b0a1a3b9-a387-42d1-a567-e540cd2e1d19\" xlink:type=\"simple\"><path d=\"M188.84,206.44 C187.7,221.87 188.21,239.47 190.36,252.98 \" fill=\"none\" id=\"E3&lt;-E4\" style=\"stroke: #A80036; stroke-width: 1.0;\"/><polygon fill=\"#FFFFFF\" points=\"190.35,193.06,185.7032,198.5743,189.006,204.9845,193.6528,199.4702,190.35,193.06\" style=\"stroke: #A80036; stroke-width: 1.0;\"/><text fill=\"#000000\" font-family=\"sans-serif\" font-size=\"13\" lengthAdjust=\"spacingAndGlyphs\" textLength=\"8\" x=\"178.4255\" y=\"241.8709\">1</text></a><!--MD5=[4672eba38e49728da53d11aeb285b987]\n",
       "reverse link E3 to E4--><a href=\"psysml:b116cd08-9727-4fd8-b1d3-1b9f6deb041c\" target=\"_top\" title=\"psysml:b116cd08-9727-4fd8-b1d3-1b9f6deb041c\" xlink:actuate=\"onRequest\" xlink:href=\"psysml:b116cd08-9727-4fd8-b1d3-1b9f6deb041c\" xlink:show=\"new\" xlink:title=\"psysml:b116cd08-9727-4fd8-b1d3-1b9f6deb041c\" xlink:type=\"simple\"><path d=\"M214.01,208.34 C215.03,223.3 214.45,240.02 212.27,252.98 \" fill=\"none\" id=\"E3&lt;-E4-1\" style=\"stroke: #A80036; stroke-width: 1.0; stroke-dasharray: 7.0,7.0;\"/><ellipse cx=\"213.1693\" cy=\"201.0093\" fill=\"#FFFFFF\" rx=\"8\" ry=\"8\" style=\"stroke: #A80036; stroke-width: 1.0;\"/><line style=\"stroke: #A80036; stroke-width: 1.0;\" x1=\"214.0687\" x2=\"212.27\" y1=\"208.9586\" y2=\"193.06\"/><line style=\"stroke: #A80036; stroke-width: 1.0;\" x1=\"205.2201\" x2=\"221.1186\" y1=\"201.9086\" y2=\"200.1099\"/><text fill=\"#000000\" font-family=\"sans-serif\" font-size=\"13\" lengthAdjust=\"spacingAndGlyphs\" textLength=\"8\" x=\"206.2238\" y=\"241.8709\">1</text></a><!--MD5=[e9be52314489bd878ff4c7144b63c9e1]\n",
       "link E5 to E3--><a href=\"psysml:b60c9595-85bf-4c72-aa43-c7c5a3162c28\" target=\"_top\" title=\"psysml:b60c9595-85bf-4c72-aa43-c7c5a3162c28\" xlink:actuate=\"onRequest\" xlink:href=\"psysml:b60c9595-85bf-4c72-aa43-c7c5a3162c28\" xlink:show=\"new\" xlink:title=\"psysml:b60c9595-85bf-4c72-aa43-c7c5a3162c28\" xlink:type=\"simple\"><path d=\"M149.78,87.06 C157.54,99.47 167.45,115.33 176.49,129.78 \" fill=\"none\" id=\"E5-&gt;E3\" style=\"stroke: #A80036; stroke-width: 1.0;\"/><polygon fill=\"#FFFFFF\" points=\"187.24,146.98,171.2331,134.5792,183.1045,127.1584,187.24,146.98\" style=\"stroke: #A80036; stroke-width: 1.0;\"/><ellipse cx=\"169.9076\" cy=\"128.6857\" fill=\"#A80036\" rx=\"2\" ry=\"2\" style=\"stroke: #A80036; stroke-width: 1.0;\"/><ellipse cx=\"178.3872\" cy=\"123.3851\" fill=\"#A80036\" rx=\"2\" ry=\"2\" style=\"stroke: #A80036; stroke-width: 1.0;\"/></a><!--MD5=[85d356282659285ab4b2cfe2f634dd2b]\n",
       "reverse link E5 to E6--><a href=\"psysml:5e5f570b-f88f-4e5d-bde6-a1031949a59c\" target=\"_top\" title=\"psysml:5e5f570b-f88f-4e5d-bde6-a1031949a59c\" xlink:actuate=\"onRequest\" xlink:href=\"psysml:5e5f570b-f88f-4e5d-bde6-a1031949a59c\" xlink:show=\"new\" xlink:title=\"psysml:5e5f570b-f88f-4e5d-bde6-a1031949a59c\" xlink:type=\"simple\"><path d=\"M127.93,99.96 C124.34,115.51 120.23,133.33 117.08,146.98 \" fill=\"none\" id=\"E5&lt;-E6\" style=\"stroke: #A80036; stroke-width: 1.0;\"/><polygon fill=\"#FFFFFF\" points=\"130.91,87.06,125.6616,92.0052,128.2078,98.7518,133.4562,93.8066,130.91,87.06\" style=\"stroke: #A80036; stroke-width: 1.0;\"/><text fill=\"#000000\" font-family=\"sans-serif\" font-size=\"13\" lengthAdjust=\"spacingAndGlyphs\" textLength=\"8\" x=\"109.3703\" y=\"135.8709\">1</text></a><!--MD5=[f667431f98296947986a1a7595a31603]\n",
       "link E6 to E4--><a href=\"psysml:ccd9da30-2bd5-4e38-bf20-b9f9621d2107\" target=\"_top\" title=\"psysml:ccd9da30-2bd5-4e38-bf20-b9f9621d2107\" xlink:actuate=\"onRequest\" xlink:href=\"psysml:ccd9da30-2bd5-4e38-bf20-b9f9621d2107\" xlink:show=\"new\" xlink:title=\"psysml:ccd9da30-2bd5-4e38-bf20-b9f9621d2107\" xlink:type=\"simple\"><path d=\"M130.87,193.06 C141.97,206.02 156.28,222.74 169.08,237.7 \" fill=\"none\" id=\"E6-&gt;E4\" style=\"stroke: #A80036; stroke-width: 1.0;\"/><polygon fill=\"#FFFFFF\" points=\"182.15,252.98,164.4809,243.0905,175.1204,233.9909,182.15,252.98\" style=\"stroke: #A80036; stroke-width: 1.0;\"/><line style=\"stroke: #A80036; stroke-width: 2.0;\" x1=\"162.011\" x2=\"172.6505\" y1=\"240.2026\" y2=\"231.1031\"/></a><!--MD5=[14ccda38c055a5c0da953d572bc50960]\n",
       "link E7 to E3--><a href=\"psysml:8fc3f931-75e6-473d-9c07-27a38ec18c6d\" target=\"_top\" title=\"psysml:8fc3f931-75e6-473d-9c07-27a38ec18c6d\" xlink:actuate=\"onRequest\" xlink:href=\"psysml:8fc3f931-75e6-473d-9c07-27a38ec18c6d\" xlink:show=\"new\" xlink:title=\"psysml:8fc3f931-75e6-473d-9c07-27a38ec18c6d\" xlink:type=\"simple\"><path d=\"M78.13,81.48 C98.32,95.86 128.25,117.18 153.52,135.18 \" fill=\"none\" id=\"E7-&gt;E3\" style=\"stroke: #A80036; stroke-width: 1.0;\"/><polygon fill=\"#FFFFFF\" points=\"170.09,146.98,150.5533,141.6586,158.6755,130.2555,170.09,146.98\" style=\"stroke: #A80036; stroke-width: 1.0;\"/><ellipse cx=\"147.0709\" cy=\"136.7227\" fill=\"#A80036\" rx=\"2\" ry=\"2\" style=\"stroke: #A80036; stroke-width: 1.0;\"/><ellipse cx=\"152.8725\" cy=\"128.5776\" fill=\"#A80036\" rx=\"2\" ry=\"2\" style=\"stroke: #A80036; stroke-width: 1.0;\"/></a><!--MD5=[dc164f5e8a733ab456ef1add180e9e34]\n",
       "reverse link E7 to E8--><a href=\"psysml:36a32e90-a022-4c42-9b64-7c79f5d1d72c\" target=\"_top\" title=\"psysml:36a32e90-a022-4c42-9b64-7c79f5d1d72c\" xlink:actuate=\"onRequest\" xlink:href=\"psysml:36a32e90-a022-4c42-9b64-7c79f5d1d72c\" xlink:show=\"new\" xlink:title=\"psysml:36a32e90-a022-4c42-9b64-7c79f5d1d72c\" xlink:type=\"simple\"><path d=\"M50.05,100.09 C51.65,143.61 62.25,216.5 72.75,252.9 \" fill=\"none\" id=\"E7&lt;-E8\" style=\"stroke: #A80036; stroke-width: 1.0;\"/><polygon fill=\"#FFFFFF\" points=\"49.85,87.08,45.9362,93.1366,50.0216,99.0788,53.9354,93.0222,49.85,87.08\" style=\"stroke: #A80036; stroke-width: 1.0;\"/><text fill=\"#000000\" font-family=\"sans-serif\" font-size=\"13\" lengthAdjust=\"spacingAndGlyphs\" textLength=\"8\" x=\"60.6516\" y=\"241.7694\">1</text></a><!--MD5=[dc164f5e8a733ab456ef1add180e9e34]\n",
       "reverse link E7 to E8--><a href=\"psysml:346ab8ae-1d2f-462f-a94e-fae0b61189bf\" target=\"_top\" title=\"psysml:346ab8ae-1d2f-462f-a94e-fae0b61189bf\" xlink:actuate=\"onRequest\" xlink:href=\"psysml:346ab8ae-1d2f-462f-a94e-fae0b61189bf\" xlink:show=\"new\" xlink:title=\"psysml:346ab8ae-1d2f-462f-a94e-fae0b61189bf\" xlink:type=\"simple\"><path d=\"M70.64,101.8 C81.15,145.5 90.39,216.97 89.63,252.9 \" fill=\"none\" id=\"E7&lt;-E8-1\" style=\"stroke: #A80036; stroke-width: 1.0; stroke-dasharray: 7.0,7.0;\"/><ellipse cx=\"68.7794\" cy=\"94.813\" fill=\"#FFFFFF\" rx=\"8\" ry=\"8\" style=\"stroke: #A80036; stroke-width: 1.0;\"/><line style=\"stroke: #A80036; stroke-width: 1.0;\" x1=\"70.8289\" x2=\"66.73\" y1=\"102.5461\" y2=\"87.08\"/><line style=\"stroke: #A80036; stroke-width: 1.0;\" x1=\"61.0464\" x2=\"76.5125\" y1=\"96.8625\" y2=\"92.7636\"/><text fill=\"#000000\" font-family=\"sans-serif\" font-size=\"13\" lengthAdjust=\"spacingAndGlyphs\" textLength=\"8\" x=\"92.2181\" y=\"241.7694\">1</text></a><!--MD5=[0a839d0f80c2d72d4b9b307f046d0de8]\n",
       "link E6 to E8--><a href=\"psysml:eaab9895-3808-4b7e-ad70-425cb7403c1b\" target=\"_top\" title=\"psysml:eaab9895-3808-4b7e-ad70-425cb7403c1b\" xlink:actuate=\"onRequest\" xlink:href=\"psysml:eaab9895-3808-4b7e-ad70-425cb7403c1b\" xlink:show=\"new\" xlink:title=\"psysml:eaab9895-3808-4b7e-ad70-425cb7403c1b\" xlink:type=\"simple\"><path d=\"M95.42,193.06 C87.86,210.7 81.23,235.34 79.29,252.98 \" fill=\"none\" id=\"E6-E8\" style=\"stroke: #A80036; stroke-width: 3.0;\"/><text fill=\"#000000\" font-family=\"sans-serif\" font-size=\"13\" lengthAdjust=\"spacingAndGlyphs\" textLength=\"7\" x=\"78.9648\" y=\"241.8709\">*</text></a><!--MD5=[0a839d0f80c2d72d4b9b307f046d0de8]\n",
       "link E6 to E8--><a href=\"psysml:18885de6-563e-4dd2-a418-c135b5ffccd4\" target=\"_top\" title=\"psysml:18885de6-563e-4dd2-a418-c135b5ffccd4\" xlink:actuate=\"onRequest\" xlink:href=\"psysml:18885de6-563e-4dd2-a418-c135b5ffccd4\" xlink:show=\"new\" xlink:title=\"psysml:18885de6-563e-4dd2-a418-c135b5ffccd4\" xlink:type=\"simple\"><path d=\"M117.33,193.06 C115.55,210.7 108.92,235.34 101.2,252.98 \" fill=\"none\" id=\"E6-E8-1\" style=\"stroke: #A80036; stroke-width: 3.0;\"/><text fill=\"#000000\" font-family=\"sans-serif\" font-size=\"13\" lengthAdjust=\"spacingAndGlyphs\" textLength=\"7\" x=\"97.8819\" y=\"241.8709\">*</text></a><!--MD5=[642c90b07e69af107bd6089033d5ab4f]\n",
       "@startuml\r\n",
       "skinparam wrapWidth 300\r\n",
       "hide circle\r\n",
       "\r\n",
       "package \"AliasTest\" as E1  [[psysml:abede473-ce86-4cf2-9b0f-bcad92dda7df ]]  {\r\n",
       "comp usage \"q\" as E2  <<(T,blue) attribute>> [[psysml:84563fde-fc3c-4caa-a0d2-03a4409edda3 ]] {\r\n",
       "}\r\n",
       "comp def \"P1\" as E3  <<(T,blue) part def>> [[psysml:f240402e-e520-4bd4-a2fa-a40388aadc9d ]] {\r\n",
       "}\r\n",
       "comp usage \"porig1\" as E4  <<(T,blue) port>> [[psysml:fb61bd91-52ec-4d42-be8a-ef485ce794d8 ]] {\r\n",
       "}\r\n",
       "comp usage \"p1: P1\" as E5  <<(T,blue) part>> [[psysml:66a2f39c-c11d-47e1-a04e-46a9b54c38c0 ]] {\r\n",
       "}\r\n",
       "comp usage \"po1\" as E6  <<(T,blue) port>> [[psysml:1cf4d29b-7212-465e-9bfc-2d9d3c47093a ]] {\r\n",
       "}\r\n",
       "comp usage \"p2: P1\" as E7  <<(T,blue) part>> [[psysml:d750b59a-5fb4-49de-a141-6edbceed9fe9 ]] {\r\n",
       "}\r\n",
       "comp usage \"pdest\" as E8  <<(T,blue) port>> [[psysml:1ab4a2c7-e640-4092-b309-d8474ba4cc31 ]] {\r\n",
       "}\r\n",
       "}\r\n",
       "E3 o- - \"1\"E4 [[psysml:b0a1a3b9-a387-42d1-a567-e540cd2e1d19 ]] \r\n",
       "E3 +.. \"1\"E4 [[psysml:b116cd08-9727-4fd8-b1d3-1b9f6deb041c ]] \r\n",
       "E5 - -:|> E3 [[psysml:b60c9595-85bf-4c72-aa43-c7c5a3162c28 ]] \r\n",
       "E5 o- - \"1\"E6 [[psysml:5e5f570b-f88f-4e5d-bde6-a1031949a59c ]] \r\n",
       "E6 - -||> E4 [[psysml:ccd9da30-2bd5-4e38-bf20-b9f9621d2107 ]] \r\n",
       "E7 - -:|> E3 [[psysml:8fc3f931-75e6-473d-9c07-27a38ec18c6d ]] \r\n",
       "E7 o- - \"1\"E8 [[psysml:36a32e90-a022-4c42-9b64-7c79f5d1d72c ]] \r\n",
       "E7 +.. \"1\"E8 [[psysml:346ab8ae-1d2f-462f-a94e-fae0b61189bf ]] \r\n",
       "E6 -[thickness=3]- \"*\"E8 [[psysml:eaab9895-3808-4b7e-ad70-425cb7403c1b ]] \r\n",
       "E6 -[thickness=3]- \"*\"E8 [[psysml:18885de6-563e-4dd2-a418-c135b5ffccd4 ]] \r\n",
       "@enduml\r\n",
       "\n",
       "PlantUML version 1.2020.13(Sat Jun 13 12:26:38 UTC 2020)\n",
       "(EPL source distribution)\n",
       "Java Runtime: OpenJDK Runtime Environment\n",
       "JVM: OpenJDK 64-Bit Server VM\n",
       "Default Encoding: UTF-8\n",
       "Language: en\n",
       "Country: null\n",
       "--></g></svg>"
      ]
     },
     "execution_count": 23,
     "metadata": {},
     "output_type": "execute_result"
    }
   ],
   "source": [
    "%viz --style=\"STDCOLOR\" --view=\"Default\" \"AliasTest\""
   ]
  },
  {
   "cell_type": "code",
   "execution_count": 24,
   "id": "b214dc84",
   "metadata": {
    "execution": {
     "iopub.execute_input": "2021-09-27T07:19:09.554586Z",
     "iopub.status.busy": "2021-09-27T07:19:09.554075Z",
     "iopub.status.idle": "2021-09-27T07:19:09.594805Z",
     "shell.execute_reply": "2021-09-27T07:19:09.594440Z"
    }
   },
   "outputs": [
    {
     "data": {
      "image/svg+xml": [
       "<?xml version=\"1.0\" encoding=\"UTF-8\" standalone=\"no\"?><svg xmlns=\"http://www.w3.org/2000/svg\" xmlns:xlink=\"http://www.w3.org/1999/xlink\" contentScriptType=\"application/ecmascript\" contentStyleType=\"text/css\" height=\"327px\" preserveAspectRatio=\"none\" style=\"width:304px;height:327px;\" version=\"1.1\" viewBox=\"0 0 304 327\" width=\"304px\" zoomAndPan=\"magnify\"><defs><filter height=\"300%\" id=\"fgj9qixxiahcv\" width=\"300%\" x=\"-1\" y=\"-1\"><feGaussianBlur result=\"blurOut\" stdDeviation=\"2.0\"/><feColorMatrix in=\"blurOut\" result=\"blurOut2\" type=\"matrix\" values=\"0 0 0 0 0 0 0 0 0 0 0 0 0 0 0 0 0 0 .4 0\"/><feOffset dx=\"4.0\" dy=\"4.0\" in=\"blurOut2\" result=\"blurOut3\"/><feBlend in=\"SourceGraphic\" in2=\"blurOut3\" mode=\"normal\"/></filter></defs><g><!--MD5=[fbc87193dbaf4d95561dea2c320d4a47]\n",
       "cluster E1--><a href=\"psysml:abede473-ce86-4cf2-9b0f-bcad92dda7df\" target=\"_top\" title=\"psysml:abede473-ce86-4cf2-9b0f-bcad92dda7df\" xlink:actuate=\"onRequest\" xlink:href=\"psysml:abede473-ce86-4cf2-9b0f-bcad92dda7df\" xlink:show=\"new\" xlink:title=\"psysml:abede473-ce86-4cf2-9b0f-bcad92dda7df\" xlink:type=\"simple\"><polygon fill=\"#FFFFFF\" filter=\"url(#fgj9qixxiahcv)\" points=\"16,6,84,6,91,28.2969,282,28.2969,282,315,16,315,16,6\" style=\"stroke: #000000; stroke-width: 1.5;\"/><line style=\"stroke: #000000; stroke-width: 1.5;\" x1=\"16\" x2=\"91\" y1=\"28.2969\" y2=\"28.2969\"/><text fill=\"#000000\" font-family=\"sans-serif\" font-size=\"14\" font-weight=\"bold\" lengthAdjust=\"spacingAndGlyphs\" textLength=\"62\" x=\"20\" y=\"20.9951\">AliasTest</text></a><!--MD5=[b4997ac47864f28c2f74865a473b2911]\n",
       "class E2--><a href=\"psysml:84563fde-fc3c-4caa-a0d2-03a4409edda3\" target=\"_top\" title=\"psysml:84563fde-fc3c-4caa-a0d2-03a4409edda3\" xlink:actuate=\"onRequest\" xlink:href=\"psysml:84563fde-fc3c-4caa-a0d2-03a4409edda3\" xlink:show=\"new\" xlink:title=\"psysml:84563fde-fc3c-4caa-a0d2-03a4409edda3\" xlink:type=\"simple\"><rect fill=\"#FEFECE\" filter=\"url(#fgj9qixxiahcv)\" height=\"45.9375\" id=\"E2\" rx=\"10\" ry=\"10\" style=\"stroke: #A80036; stroke-width: 1.5;\" width=\"71\" x=\"194.5\" y=\"41\"/><text fill=\"#000000\" font-family=\"sans-serif\" font-size=\"12\" font-style=\"italic\" lengthAdjust=\"spacingAndGlyphs\" textLength=\"69\" x=\"195.5\" y=\"57.1387\">«attribute»</text><text fill=\"#000000\" font-family=\"sans-serif\" font-size=\"12\" lengthAdjust=\"spacingAndGlyphs\" textLength=\"8\" x=\"226\" y=\"71.1074\">q</text><line style=\"stroke: #A80036; stroke-width: 1.5;\" x1=\"195.5\" x2=\"264.5\" y1=\"78.9375\" y2=\"78.9375\"/></a><!--MD5=[09b614a08d8cba4a07c9adeb5e0fee81]\n",
       "class E3--><a href=\"psysml:f240402e-e520-4bd4-a2fa-a40388aadc9d\" target=\"_top\" title=\"psysml:f240402e-e520-4bd4-a2fa-a40388aadc9d\" xlink:actuate=\"onRequest\" xlink:href=\"psysml:f240402e-e520-4bd4-a2fa-a40388aadc9d\" xlink:show=\"new\" xlink:title=\"psysml:f240402e-e520-4bd4-a2fa-a40388aadc9d\" xlink:type=\"simple\"><rect fill=\"#FEFECE\" filter=\"url(#fgj9qixxiahcv)\" height=\"45.9375\" id=\"E3\" style=\"stroke: #A80036; stroke-width: 1.5;\" width=\"66\" x=\"168\" y=\"147\"/><text fill=\"#000000\" font-family=\"sans-serif\" font-size=\"12\" font-style=\"italic\" lengthAdjust=\"spacingAndGlyphs\" textLength=\"64\" x=\"169\" y=\"163.1387\">«part def»</text><text fill=\"#000000\" font-family=\"sans-serif\" font-size=\"12\" lengthAdjust=\"spacingAndGlyphs\" textLength=\"16\" x=\"193\" y=\"177.1074\">P1</text><line style=\"stroke: #A80036; stroke-width: 1.5;\" x1=\"169\" x2=\"233\" y1=\"184.9375\" y2=\"184.9375\"/></a><!--MD5=[ebbe1d658d1005bcc118a6aa81145e00]\n",
       "class E4--><a href=\"psysml:fb61bd91-52ec-4d42-be8a-ef485ce794d8\" target=\"_top\" title=\"psysml:fb61bd91-52ec-4d42-be8a-ef485ce794d8\" xlink:actuate=\"onRequest\" xlink:href=\"psysml:fb61bd91-52ec-4d42-be8a-ef485ce794d8\" xlink:show=\"new\" xlink:title=\"psysml:fb61bd91-52ec-4d42-be8a-ef485ce794d8\" xlink:type=\"simple\"><rect fill=\"#FEFECE\" filter=\"url(#fgj9qixxiahcv)\" height=\"45.9375\" id=\"E4\" rx=\"10\" ry=\"10\" style=\"stroke: #A80036; stroke-width: 1.5;\" width=\"46\" x=\"178\" y=\"253\"/><text fill=\"#000000\" font-family=\"sans-serif\" font-size=\"12\" font-style=\"italic\" lengthAdjust=\"spacingAndGlyphs\" textLength=\"40\" x=\"181\" y=\"269.1387\">«port»</text><text fill=\"#000000\" font-family=\"sans-serif\" font-size=\"12\" lengthAdjust=\"spacingAndGlyphs\" textLength=\"40\" x=\"181\" y=\"283.1074\">porig1</text><line style=\"stroke: #A80036; stroke-width: 1.5;\" x1=\"179\" x2=\"223\" y1=\"290.9375\" y2=\"290.9375\"/></a><!--MD5=[270fce915f116d4de14055a7c1d9a0f3]\n",
       "class E5--><a href=\"psysml:66a2f39c-c11d-47e1-a04e-46a9b54c38c0\" target=\"_top\" title=\"psysml:66a2f39c-c11d-47e1-a04e-46a9b54c38c0\" xlink:actuate=\"onRequest\" xlink:href=\"psysml:66a2f39c-c11d-47e1-a04e-46a9b54c38c0\" xlink:show=\"new\" xlink:title=\"psysml:66a2f39c-c11d-47e1-a04e-46a9b54c38c0\" xlink:type=\"simple\"><rect fill=\"#FEFECE\" filter=\"url(#fgj9qixxiahcv)\" height=\"45.9375\" id=\"E5\" rx=\"10\" ry=\"10\" style=\"stroke: #A80036; stroke-width: 1.5;\" width=\"46\" x=\"113\" y=\"41\"/><text fill=\"#000000\" font-family=\"sans-serif\" font-size=\"12\" font-style=\"italic\" lengthAdjust=\"spacingAndGlyphs\" textLength=\"40\" x=\"116\" y=\"57.1387\">«part»</text><text fill=\"#000000\" font-family=\"sans-serif\" font-size=\"12\" lengthAdjust=\"spacingAndGlyphs\" textLength=\"40\" x=\"116\" y=\"71.1074\">p1: P1</text><line style=\"stroke: #A80036; stroke-width: 1.5;\" x1=\"114\" x2=\"158\" y1=\"78.9375\" y2=\"78.9375\"/></a><!--MD5=[60a26617385b1d2d0262a64233df1f8d]\n",
       "class E6--><a href=\"psysml:1cf4d29b-7212-465e-9bfc-2d9d3c47093a\" target=\"_top\" title=\"psysml:1cf4d29b-7212-465e-9bfc-2d9d3c47093a\" xlink:actuate=\"onRequest\" xlink:href=\"psysml:1cf4d29b-7212-465e-9bfc-2d9d3c47093a\" xlink:show=\"new\" xlink:title=\"psysml:1cf4d29b-7212-465e-9bfc-2d9d3c47093a\" xlink:type=\"simple\"><rect fill=\"#FEFECE\" filter=\"url(#fgj9qixxiahcv)\" height=\"45.9375\" id=\"E6\" rx=\"10\" ry=\"10\" style=\"stroke: #A80036; stroke-width: 1.5;\" width=\"42\" x=\"91\" y=\"147\"/><text fill=\"#000000\" font-family=\"sans-serif\" font-size=\"12\" font-style=\"italic\" lengthAdjust=\"spacingAndGlyphs\" textLength=\"40\" x=\"92\" y=\"163.1387\">«port»</text><text fill=\"#000000\" font-family=\"sans-serif\" font-size=\"12\" lengthAdjust=\"spacingAndGlyphs\" textLength=\"24\" x=\"100\" y=\"177.1074\">po1</text><line style=\"stroke: #A80036; stroke-width: 1.5;\" x1=\"92\" x2=\"132\" y1=\"184.9375\" y2=\"184.9375\"/></a><!--MD5=[2156ba9850f5573cc1fc38a6a4b2f02b]\n",
       "class E7--><a href=\"psysml:d750b59a-5fb4-49de-a141-6edbceed9fe9\" target=\"_top\" title=\"psysml:d750b59a-5fb4-49de-a141-6edbceed9fe9\" xlink:actuate=\"onRequest\" xlink:href=\"psysml:d750b59a-5fb4-49de-a141-6edbceed9fe9\" xlink:show=\"new\" xlink:title=\"psysml:d750b59a-5fb4-49de-a141-6edbceed9fe9\" xlink:type=\"simple\"><rect fill=\"#FEFECE\" filter=\"url(#fgj9qixxiahcv)\" height=\"45.9375\" id=\"E7\" rx=\"10\" ry=\"10\" style=\"stroke: #A80036; stroke-width: 1.5;\" width=\"46\" x=\"32\" y=\"41\"/><text fill=\"#000000\" font-family=\"sans-serif\" font-size=\"12\" font-style=\"italic\" lengthAdjust=\"spacingAndGlyphs\" textLength=\"40\" x=\"35\" y=\"57.1387\">«part»</text><text fill=\"#000000\" font-family=\"sans-serif\" font-size=\"12\" lengthAdjust=\"spacingAndGlyphs\" textLength=\"40\" x=\"35\" y=\"71.1074\">p2: P1</text><line style=\"stroke: #A80036; stroke-width: 1.5;\" x1=\"33\" x2=\"77\" y1=\"78.9375\" y2=\"78.9375\"/></a><!--MD5=[b9389687b975829384b498ac4b7476b2]\n",
       "class E8--><a href=\"psysml:1ab4a2c7-e640-4092-b309-d8474ba4cc31\" target=\"_top\" title=\"psysml:1ab4a2c7-e640-4092-b309-d8474ba4cc31\" xlink:actuate=\"onRequest\" xlink:href=\"psysml:1ab4a2c7-e640-4092-b309-d8474ba4cc31\" xlink:show=\"new\" xlink:title=\"psysml:1ab4a2c7-e640-4092-b309-d8474ba4cc31\" xlink:type=\"simple\"><rect fill=\"#FEFECE\" filter=\"url(#fgj9qixxiahcv)\" height=\"45.9375\" id=\"E8\" rx=\"10\" ry=\"10\" style=\"stroke: #A80036; stroke-width: 1.5;\" width=\"42\" x=\"63\" y=\"253\"/><text fill=\"#000000\" font-family=\"sans-serif\" font-size=\"12\" font-style=\"italic\" lengthAdjust=\"spacingAndGlyphs\" textLength=\"40\" x=\"64\" y=\"269.1387\">«port»</text><text fill=\"#000000\" font-family=\"sans-serif\" font-size=\"12\" lengthAdjust=\"spacingAndGlyphs\" textLength=\"36\" x=\"66\" y=\"283.1074\">pdest</text><line style=\"stroke: #A80036; stroke-width: 1.5;\" x1=\"64\" x2=\"104\" y1=\"290.9375\" y2=\"290.9375\"/></a><!--MD5=[4672eba38e49728da53d11aeb285b987]\n",
       "reverse link E3 to E4--><a href=\"psysml:b0a1a3b9-a387-42d1-a567-e540cd2e1d19\" target=\"_top\" title=\"psysml:b0a1a3b9-a387-42d1-a567-e540cd2e1d19\" xlink:actuate=\"onRequest\" xlink:href=\"psysml:b0a1a3b9-a387-42d1-a567-e540cd2e1d19\" xlink:show=\"new\" xlink:title=\"psysml:b0a1a3b9-a387-42d1-a567-e540cd2e1d19\" xlink:type=\"simple\"><path d=\"M188.84,206.44 C187.7,221.87 188.21,239.47 190.36,252.98 \" fill=\"none\" id=\"E3&lt;-E4\" style=\"stroke: #A80036; stroke-width: 1.0;\"/><polygon fill=\"#FFFFFF\" points=\"190.35,193.06,185.7032,198.5743,189.006,204.9845,193.6528,199.4702,190.35,193.06\" style=\"stroke: #A80036; stroke-width: 1.0;\"/><text fill=\"#000000\" font-family=\"sans-serif\" font-size=\"13\" lengthAdjust=\"spacingAndGlyphs\" textLength=\"8\" x=\"178.4255\" y=\"241.8709\">1</text></a><!--MD5=[4672eba38e49728da53d11aeb285b987]\n",
       "reverse link E3 to E4--><a href=\"psysml:b116cd08-9727-4fd8-b1d3-1b9f6deb041c\" target=\"_top\" title=\"psysml:b116cd08-9727-4fd8-b1d3-1b9f6deb041c\" xlink:actuate=\"onRequest\" xlink:href=\"psysml:b116cd08-9727-4fd8-b1d3-1b9f6deb041c\" xlink:show=\"new\" xlink:title=\"psysml:b116cd08-9727-4fd8-b1d3-1b9f6deb041c\" xlink:type=\"simple\"><path d=\"M214.01,208.34 C215.03,223.3 214.45,240.02 212.27,252.98 \" fill=\"none\" id=\"E3&lt;-E4-1\" style=\"stroke: #A80036; stroke-width: 1.0; stroke-dasharray: 7.0,7.0;\"/><ellipse cx=\"213.1693\" cy=\"201.0093\" fill=\"#FFFFFF\" rx=\"8\" ry=\"8\" style=\"stroke: #A80036; stroke-width: 1.0;\"/><line style=\"stroke: #A80036; stroke-width: 1.0;\" x1=\"214.0687\" x2=\"212.27\" y1=\"208.9586\" y2=\"193.06\"/><line style=\"stroke: #A80036; stroke-width: 1.0;\" x1=\"205.2201\" x2=\"221.1186\" y1=\"201.9086\" y2=\"200.1099\"/><text fill=\"#000000\" font-family=\"sans-serif\" font-size=\"13\" lengthAdjust=\"spacingAndGlyphs\" textLength=\"8\" x=\"206.2238\" y=\"241.8709\">1</text></a><!--MD5=[e9be52314489bd878ff4c7144b63c9e1]\n",
       "link E5 to E3--><a href=\"psysml:b60c9595-85bf-4c72-aa43-c7c5a3162c28\" target=\"_top\" title=\"psysml:b60c9595-85bf-4c72-aa43-c7c5a3162c28\" xlink:actuate=\"onRequest\" xlink:href=\"psysml:b60c9595-85bf-4c72-aa43-c7c5a3162c28\" xlink:show=\"new\" xlink:title=\"psysml:b60c9595-85bf-4c72-aa43-c7c5a3162c28\" xlink:type=\"simple\"><path d=\"M149.78,87.06 C157.54,99.47 167.45,115.33 176.49,129.78 \" fill=\"none\" id=\"E5-&gt;E3\" style=\"stroke: #A80036; stroke-width: 1.0;\"/><polygon fill=\"#FFFFFF\" points=\"187.24,146.98,171.2331,134.5792,183.1045,127.1584,187.24,146.98\" style=\"stroke: #A80036; stroke-width: 1.0;\"/><ellipse cx=\"169.9076\" cy=\"128.6857\" fill=\"#A80036\" rx=\"2\" ry=\"2\" style=\"stroke: #A80036; stroke-width: 1.0;\"/><ellipse cx=\"178.3872\" cy=\"123.3851\" fill=\"#A80036\" rx=\"2\" ry=\"2\" style=\"stroke: #A80036; stroke-width: 1.0;\"/></a><!--MD5=[85d356282659285ab4b2cfe2f634dd2b]\n",
       "reverse link E5 to E6--><a href=\"psysml:5e5f570b-f88f-4e5d-bde6-a1031949a59c\" target=\"_top\" title=\"psysml:5e5f570b-f88f-4e5d-bde6-a1031949a59c\" xlink:actuate=\"onRequest\" xlink:href=\"psysml:5e5f570b-f88f-4e5d-bde6-a1031949a59c\" xlink:show=\"new\" xlink:title=\"psysml:5e5f570b-f88f-4e5d-bde6-a1031949a59c\" xlink:type=\"simple\"><path d=\"M127.93,99.96 C124.34,115.51 120.23,133.33 117.08,146.98 \" fill=\"none\" id=\"E5&lt;-E6\" style=\"stroke: #A80036; stroke-width: 1.0;\"/><polygon fill=\"#FFFFFF\" points=\"130.91,87.06,125.6616,92.0052,128.2078,98.7518,133.4562,93.8066,130.91,87.06\" style=\"stroke: #A80036; stroke-width: 1.0;\"/><text fill=\"#000000\" font-family=\"sans-serif\" font-size=\"13\" lengthAdjust=\"spacingAndGlyphs\" textLength=\"8\" x=\"109.3703\" y=\"135.8709\">1</text></a><!--MD5=[f667431f98296947986a1a7595a31603]\n",
       "link E6 to E4--><a href=\"psysml:ccd9da30-2bd5-4e38-bf20-b9f9621d2107\" target=\"_top\" title=\"psysml:ccd9da30-2bd5-4e38-bf20-b9f9621d2107\" xlink:actuate=\"onRequest\" xlink:href=\"psysml:ccd9da30-2bd5-4e38-bf20-b9f9621d2107\" xlink:show=\"new\" xlink:title=\"psysml:ccd9da30-2bd5-4e38-bf20-b9f9621d2107\" xlink:type=\"simple\"><path d=\"M130.87,193.06 C141.97,206.02 156.28,222.74 169.08,237.7 \" fill=\"none\" id=\"E6-&gt;E4\" style=\"stroke: #A80036; stroke-width: 1.0;\"/><polygon fill=\"#FFFFFF\" points=\"182.15,252.98,164.4809,243.0905,175.1204,233.9909,182.15,252.98\" style=\"stroke: #A80036; stroke-width: 1.0;\"/><line style=\"stroke: #A80036; stroke-width: 2.0;\" x1=\"162.011\" x2=\"172.6505\" y1=\"240.2026\" y2=\"231.1031\"/></a><!--MD5=[14ccda38c055a5c0da953d572bc50960]\n",
       "link E7 to E3--><a href=\"psysml:8fc3f931-75e6-473d-9c07-27a38ec18c6d\" target=\"_top\" title=\"psysml:8fc3f931-75e6-473d-9c07-27a38ec18c6d\" xlink:actuate=\"onRequest\" xlink:href=\"psysml:8fc3f931-75e6-473d-9c07-27a38ec18c6d\" xlink:show=\"new\" xlink:title=\"psysml:8fc3f931-75e6-473d-9c07-27a38ec18c6d\" xlink:type=\"simple\"><path d=\"M78.13,81.48 C98.32,95.86 128.25,117.18 153.52,135.18 \" fill=\"none\" id=\"E7-&gt;E3\" style=\"stroke: #A80036; stroke-width: 1.0;\"/><polygon fill=\"#FFFFFF\" points=\"170.09,146.98,150.5533,141.6586,158.6755,130.2555,170.09,146.98\" style=\"stroke: #A80036; stroke-width: 1.0;\"/><ellipse cx=\"147.0709\" cy=\"136.7227\" fill=\"#A80036\" rx=\"2\" ry=\"2\" style=\"stroke: #A80036; stroke-width: 1.0;\"/><ellipse cx=\"152.8725\" cy=\"128.5776\" fill=\"#A80036\" rx=\"2\" ry=\"2\" style=\"stroke: #A80036; stroke-width: 1.0;\"/></a><!--MD5=[dc164f5e8a733ab456ef1add180e9e34]\n",
       "reverse link E7 to E8--><a href=\"psysml:36a32e90-a022-4c42-9b64-7c79f5d1d72c\" target=\"_top\" title=\"psysml:36a32e90-a022-4c42-9b64-7c79f5d1d72c\" xlink:actuate=\"onRequest\" xlink:href=\"psysml:36a32e90-a022-4c42-9b64-7c79f5d1d72c\" xlink:show=\"new\" xlink:title=\"psysml:36a32e90-a022-4c42-9b64-7c79f5d1d72c\" xlink:type=\"simple\"><path d=\"M50.05,100.09 C51.65,143.61 62.25,216.5 72.75,252.9 \" fill=\"none\" id=\"E7&lt;-E8\" style=\"stroke: #A80036; stroke-width: 1.0;\"/><polygon fill=\"#FFFFFF\" points=\"49.85,87.08,45.9362,93.1366,50.0216,99.0788,53.9354,93.0222,49.85,87.08\" style=\"stroke: #A80036; stroke-width: 1.0;\"/><text fill=\"#000000\" font-family=\"sans-serif\" font-size=\"13\" lengthAdjust=\"spacingAndGlyphs\" textLength=\"8\" x=\"60.6516\" y=\"241.7694\">1</text></a><!--MD5=[dc164f5e8a733ab456ef1add180e9e34]\n",
       "reverse link E7 to E8--><a href=\"psysml:346ab8ae-1d2f-462f-a94e-fae0b61189bf\" target=\"_top\" title=\"psysml:346ab8ae-1d2f-462f-a94e-fae0b61189bf\" xlink:actuate=\"onRequest\" xlink:href=\"psysml:346ab8ae-1d2f-462f-a94e-fae0b61189bf\" xlink:show=\"new\" xlink:title=\"psysml:346ab8ae-1d2f-462f-a94e-fae0b61189bf\" xlink:type=\"simple\"><path d=\"M70.64,101.8 C81.15,145.5 90.39,216.97 89.63,252.9 \" fill=\"none\" id=\"E7&lt;-E8-1\" style=\"stroke: #A80036; stroke-width: 1.0; stroke-dasharray: 7.0,7.0;\"/><ellipse cx=\"68.7794\" cy=\"94.813\" fill=\"#FFFFFF\" rx=\"8\" ry=\"8\" style=\"stroke: #A80036; stroke-width: 1.0;\"/><line style=\"stroke: #A80036; stroke-width: 1.0;\" x1=\"70.8289\" x2=\"66.73\" y1=\"102.5461\" y2=\"87.08\"/><line style=\"stroke: #A80036; stroke-width: 1.0;\" x1=\"61.0464\" x2=\"76.5125\" y1=\"96.8625\" y2=\"92.7636\"/><text fill=\"#000000\" font-family=\"sans-serif\" font-size=\"13\" lengthAdjust=\"spacingAndGlyphs\" textLength=\"8\" x=\"92.2181\" y=\"241.7694\">1</text></a><!--MD5=[0a839d0f80c2d72d4b9b307f046d0de8]\n",
       "link E6 to E8--><a href=\"psysml:eaab9895-3808-4b7e-ad70-425cb7403c1b\" target=\"_top\" title=\"psysml:eaab9895-3808-4b7e-ad70-425cb7403c1b\" xlink:actuate=\"onRequest\" xlink:href=\"psysml:eaab9895-3808-4b7e-ad70-425cb7403c1b\" xlink:show=\"new\" xlink:title=\"psysml:eaab9895-3808-4b7e-ad70-425cb7403c1b\" xlink:type=\"simple\"><path d=\"M95.42,193.06 C87.86,210.7 81.23,235.34 79.29,252.98 \" fill=\"none\" id=\"E6-E8\" style=\"stroke: #A80036; stroke-width: 3.0;\"/><text fill=\"#000000\" font-family=\"sans-serif\" font-size=\"13\" lengthAdjust=\"spacingAndGlyphs\" textLength=\"7\" x=\"78.9648\" y=\"241.8709\">*</text></a><!--MD5=[0a839d0f80c2d72d4b9b307f046d0de8]\n",
       "link E6 to E8--><a href=\"psysml:18885de6-563e-4dd2-a418-c135b5ffccd4\" target=\"_top\" title=\"psysml:18885de6-563e-4dd2-a418-c135b5ffccd4\" xlink:actuate=\"onRequest\" xlink:href=\"psysml:18885de6-563e-4dd2-a418-c135b5ffccd4\" xlink:show=\"new\" xlink:title=\"psysml:18885de6-563e-4dd2-a418-c135b5ffccd4\" xlink:type=\"simple\"><path d=\"M117.33,193.06 C115.55,210.7 108.92,235.34 101.2,252.98 \" fill=\"none\" id=\"E6-E8-1\" style=\"stroke: #A80036; stroke-width: 3.0;\"/><text fill=\"#000000\" font-family=\"sans-serif\" font-size=\"13\" lengthAdjust=\"spacingAndGlyphs\" textLength=\"7\" x=\"97.8819\" y=\"241.8709\">*</text></a><!--MD5=[642c90b07e69af107bd6089033d5ab4f]\n",
       "@startuml\r\n",
       "skinparam wrapWidth 300\r\n",
       "hide circle\r\n",
       "\r\n",
       "package \"AliasTest\" as E1  [[psysml:abede473-ce86-4cf2-9b0f-bcad92dda7df ]]  {\r\n",
       "comp usage \"q\" as E2  <<(T,blue) attribute>> [[psysml:84563fde-fc3c-4caa-a0d2-03a4409edda3 ]] {\r\n",
       "}\r\n",
       "comp def \"P1\" as E3  <<(T,blue) part def>> [[psysml:f240402e-e520-4bd4-a2fa-a40388aadc9d ]] {\r\n",
       "}\r\n",
       "comp usage \"porig1\" as E4  <<(T,blue) port>> [[psysml:fb61bd91-52ec-4d42-be8a-ef485ce794d8 ]] {\r\n",
       "}\r\n",
       "comp usage \"p1: P1\" as E5  <<(T,blue) part>> [[psysml:66a2f39c-c11d-47e1-a04e-46a9b54c38c0 ]] {\r\n",
       "}\r\n",
       "comp usage \"po1\" as E6  <<(T,blue) port>> [[psysml:1cf4d29b-7212-465e-9bfc-2d9d3c47093a ]] {\r\n",
       "}\r\n",
       "comp usage \"p2: P1\" as E7  <<(T,blue) part>> [[psysml:d750b59a-5fb4-49de-a141-6edbceed9fe9 ]] {\r\n",
       "}\r\n",
       "comp usage \"pdest\" as E8  <<(T,blue) port>> [[psysml:1ab4a2c7-e640-4092-b309-d8474ba4cc31 ]] {\r\n",
       "}\r\n",
       "}\r\n",
       "E3 o- - \"1\"E4 [[psysml:b0a1a3b9-a387-42d1-a567-e540cd2e1d19 ]] \r\n",
       "E3 +.. \"1\"E4 [[psysml:b116cd08-9727-4fd8-b1d3-1b9f6deb041c ]] \r\n",
       "E5 - -:|> E3 [[psysml:b60c9595-85bf-4c72-aa43-c7c5a3162c28 ]] \r\n",
       "E5 o- - \"1\"E6 [[psysml:5e5f570b-f88f-4e5d-bde6-a1031949a59c ]] \r\n",
       "E6 - -||> E4 [[psysml:ccd9da30-2bd5-4e38-bf20-b9f9621d2107 ]] \r\n",
       "E7 - -:|> E3 [[psysml:8fc3f931-75e6-473d-9c07-27a38ec18c6d ]] \r\n",
       "E7 o- - \"1\"E8 [[psysml:36a32e90-a022-4c42-9b64-7c79f5d1d72c ]] \r\n",
       "E7 +.. \"1\"E8 [[psysml:346ab8ae-1d2f-462f-a94e-fae0b61189bf ]] \r\n",
       "E6 -[thickness=3]- \"*\"E8 [[psysml:eaab9895-3808-4b7e-ad70-425cb7403c1b ]] \r\n",
       "E6 -[thickness=3]- \"*\"E8 [[psysml:18885de6-563e-4dd2-a418-c135b5ffccd4 ]] \r\n",
       "@enduml\r\n",
       "\n",
       "PlantUML version 1.2020.13(Sat Jun 13 12:26:38 UTC 2020)\n",
       "(EPL source distribution)\n",
       "Java Runtime: OpenJDK Runtime Environment\n",
       "JVM: OpenJDK 64-Bit Server VM\n",
       "Default Encoding: UTF-8\n",
       "Language: en\n",
       "Country: null\n",
       "--></g></svg>"
      ]
     },
     "execution_count": 24,
     "metadata": {},
     "output_type": "execute_result"
    }
   ],
   "source": [
    "%viz --style=\"STDCOLOR\" --view=\"Tree\" \"AliasTest\""
   ]
  },
  {
   "cell_type": "code",
   "execution_count": 25,
   "id": "db7c5f75",
   "metadata": {
    "execution": {
     "iopub.execute_input": "2021-09-27T07:19:09.644601Z",
     "iopub.status.busy": "2021-09-27T07:19:09.644140Z",
     "iopub.status.idle": "2021-09-27T07:19:09.648636Z",
     "shell.execute_reply": "2021-09-27T07:19:09.648927Z"
    }
   },
   "outputs": [
    {
     "data": {
      "image/svg+xml": [
       "<?xml version=\"1.0\" encoding=\"UTF-8\" standalone=\"no\"?><svg xmlns=\"http://www.w3.org/2000/svg\" xmlns:xlink=\"http://www.w3.org/1999/xlink\" contentScriptType=\"application/ecmascript\" contentStyleType=\"text/css\" height=\"12px\" preserveAspectRatio=\"none\" style=\"width:12px;height:12px;\" version=\"1.1\" viewBox=\"0 0 12 12\" width=\"12px\" zoomAndPan=\"magnify\"><defs/><g><!--MD5=[aeeef50f102b80d730deb6443d14f702]\n",
       "@startuml\r\n",
       "skinparam wrapWidth 300\r\n",
       "hide circle\r\n",
       "\r\n",
       "@enduml\r\n",
       "\n",
       "PlantUML version 1.2020.13(Sat Jun 13 12:26:38 UTC 2020)\n",
       "(EPL source distribution)\n",
       "Java Runtime: OpenJDK Runtime Environment\n",
       "JVM: OpenJDK 64-Bit Server VM\n",
       "Default Encoding: UTF-8\n",
       "Language: en\n",
       "Country: null\n",
       "--></g></svg>"
      ]
     },
     "execution_count": 25,
     "metadata": {},
     "output_type": "execute_result"
    }
   ],
   "source": [
    "%viz --style=\"STDCOLOR\" --view=\"State\" \"AliasTest\""
   ]
  },
  {
   "cell_type": "code",
   "execution_count": 26,
   "id": "793c33ad",
   "metadata": {
    "execution": {
     "iopub.execute_input": "2021-09-27T07:19:09.699392Z",
     "iopub.status.busy": "2021-09-27T07:19:09.698959Z",
     "iopub.status.idle": "2021-09-27T07:19:09.731698Z",
     "shell.execute_reply": "2021-09-27T07:19:09.731293Z"
    }
   },
   "outputs": [
    {
     "data": {
      "image/svg+xml": [
       "<?xml version=\"1.0\" encoding=\"UTF-8\" standalone=\"no\"?><svg xmlns=\"http://www.w3.org/2000/svg\" xmlns:xlink=\"http://www.w3.org/1999/xlink\" contentScriptType=\"application/ecmascript\" contentStyleType=\"text/css\" height=\"233px\" preserveAspectRatio=\"none\" style=\"width:474px;height:233px;\" version=\"1.1\" viewBox=\"0 0 474 233\" width=\"474px\" zoomAndPan=\"magnify\"><defs><filter height=\"300%\" id=\"f5ijv6e885pkz\" width=\"300%\" x=\"-1\" y=\"-1\"><feGaussianBlur result=\"blurOut\" stdDeviation=\"2.0\"/><feColorMatrix in=\"blurOut\" result=\"blurOut2\" type=\"matrix\" values=\"0 0 0 0 0 0 0 0 0 0 0 0 0 0 0 0 0 0 .4 0\"/><feOffset dx=\"4.0\" dy=\"4.0\" in=\"blurOut2\" result=\"blurOut3\"/><feBlend in=\"SourceGraphic\" in2=\"blurOut3\" mode=\"normal\"/></filter></defs><g><!--MD5=[fbc87193dbaf4d95561dea2c320d4a47]\n",
       "cluster E1--><a href=\"psysml:abede473-ce86-4cf2-9b0f-bcad92dda7df\" target=\"_top\" title=\"psysml:abede473-ce86-4cf2-9b0f-bcad92dda7df\" xlink:actuate=\"onRequest\" xlink:href=\"psysml:abede473-ce86-4cf2-9b0f-bcad92dda7df\" xlink:show=\"new\" xlink:title=\"psysml:abede473-ce86-4cf2-9b0f-bcad92dda7df\" xlink:type=\"simple\"><polygon fill=\"#FFFFFF\" filter=\"url(#f5ijv6e885pkz)\" points=\"16,6,84,6,91,28.2969,452,28.2969,452,221,16,221,16,6\" style=\"stroke: #000000; stroke-width: 1.5;\"/><line style=\"stroke: #000000; stroke-width: 1.5;\" x1=\"16\" x2=\"91\" y1=\"28.2969\" y2=\"28.2969\"/><text fill=\"#000000\" font-family=\"sans-serif\" font-size=\"14\" font-weight=\"bold\" lengthAdjust=\"spacingAndGlyphs\" textLength=\"62\" x=\"20\" y=\"20.9951\">AliasTest</text></a><!--MD5=[d5e69f78d87373223dbae638b30a9c99]\n",
       "cluster E3--><a href=\"psysml:f240402e-e520-4bd4-a2fa-a40388aadc9d\" target=\"_top\" title=\"psysml:f240402e-e520-4bd4-a2fa-a40388aadc9d\" xlink:actuate=\"onRequest\" xlink:href=\"psysml:f240402e-e520-4bd4-a2fa-a40388aadc9d\" xlink:show=\"new\" xlink:title=\"psysml:f240402e-e520-4bd4-a2fa-a40388aadc9d\" xlink:type=\"simple\"><rect fill=\"#FFFFFF\" filter=\"url(#f5ijv6e885pkz)\" height=\"90\" id=\"E3\" style=\"stroke: #A80036; stroke-width: 1.5;\" width=\"83\" x=\"312\" y=\"64\"/><rect fill=\"#FEFECE\" height=\"37.9375\" style=\"stroke: #A80036; stroke-width: 1.5;\" width=\"83\" x=\"312\" y=\"64\"/><text fill=\"#000000\" font-family=\"sans-serif\" font-size=\"12\" font-style=\"italic\" lengthAdjust=\"spacingAndGlyphs\" textLength=\"64\" x=\"321.5\" y=\"80.1387\">«part def»</text><text fill=\"#000000\" font-family=\"sans-serif\" font-size=\"12\" lengthAdjust=\"spacingAndGlyphs\" textLength=\"16\" x=\"345.5\" y=\"94.1074\">P1</text></a><!--MD5=[14e3b0961a2654348d326746436168a1]\n",
       "cluster E6--><a href=\"psysml:66a2f39c-c11d-47e1-a04e-46a9b54c38c0\" target=\"_top\" title=\"psysml:66a2f39c-c11d-47e1-a04e-46a9b54c38c0\" xlink:actuate=\"onRequest\" xlink:href=\"psysml:66a2f39c-c11d-47e1-a04e-46a9b54c38c0\" xlink:show=\"new\" xlink:title=\"psysml:66a2f39c-c11d-47e1-a04e-46a9b54c38c0\" xlink:type=\"simple\"><rect fill=\"#FFFFFF\" filter=\"url(#f5ijv6e885pkz)\" height=\"82\" id=\"E6\" rx=\"10\" ry=\"10\" style=\"stroke: #A80036; stroke-width: 1.5;\" width=\"98\" x=\"112\" y=\"64\"/><rect fill=\"#FEFECE\" height=\"23.9688\" rx=\"10\" ry=\"10\" style=\"stroke: #FEFECE; stroke-width: 1.5;\" width=\"98\" x=\"112\" y=\"64\"/><rect fill=\"#FEFECE\" height=\"10\" style=\"stroke: #FEFECE; stroke-width: 1.5;\" width=\"98\" x=\"112\" y=\"77.9688\"/><rect fill=\"none\" height=\"82\" id=\"E6\" rx=\"10\" ry=\"10\" style=\"stroke: #A80036; stroke-width: 1.5;\" width=\"98\" x=\"112\" y=\"64\"/><text fill=\"#000000\" font-family=\"sans-serif\" font-size=\"12\" lengthAdjust=\"spacingAndGlyphs\" textLength=\"40\" x=\"141\" y=\"80.1387\">p1: P1</text><line style=\"stroke: #A80036; stroke-width: 1.0;\" x1=\"112\" x2=\"210\" y1=\"87.9688\" y2=\"87.9688\"/></a><!--MD5=[55dfccfc6c49c2d10cd1bd2211a6c90c]\n",
       "cluster E8--><a href=\"psysml:d750b59a-5fb4-49de-a141-6edbceed9fe9\" target=\"_top\" title=\"psysml:d750b59a-5fb4-49de-a141-6edbceed9fe9\" xlink:actuate=\"onRequest\" xlink:href=\"psysml:d750b59a-5fb4-49de-a141-6edbceed9fe9\" xlink:show=\"new\" xlink:title=\"psysml:d750b59a-5fb4-49de-a141-6edbceed9fe9\" xlink:type=\"simple\"><rect fill=\"#FFFFFF\" filter=\"url(#f5ijv6e885pkz)\" height=\"84.5\" id=\"E8\" rx=\"10\" ry=\"10\" style=\"stroke: #A80036; stroke-width: 1.5;\" width=\"83\" x=\"213\" y=\"120.5\"/><rect fill=\"#FEFECE\" height=\"23.9688\" rx=\"10\" ry=\"10\" style=\"stroke: #FEFECE; stroke-width: 1.5;\" width=\"83\" x=\"213\" y=\"120.5\"/><rect fill=\"#FEFECE\" height=\"10\" style=\"stroke: #FEFECE; stroke-width: 1.5;\" width=\"83\" x=\"213\" y=\"134.4688\"/><rect fill=\"none\" height=\"84.5\" id=\"E8\" rx=\"10\" ry=\"10\" style=\"stroke: #A80036; stroke-width: 1.5;\" width=\"83\" x=\"213\" y=\"120.5\"/><text fill=\"#000000\" font-family=\"sans-serif\" font-size=\"12\" lengthAdjust=\"spacingAndGlyphs\" textLength=\"40\" x=\"234.5\" y=\"136.6387\">p2: P1</text><line style=\"stroke: #A80036; stroke-width: 1.0;\" x1=\"213\" x2=\"296\" y1=\"144.4688\" y2=\"144.4688\"/></a><!--MD5=[b4997ac47864f28c2f74865a473b2911]\n",
       "class E2--><a href=\"psysml:84563fde-fc3c-4caa-a0d2-03a4409edda3\" target=\"_top\" title=\"psysml:84563fde-fc3c-4caa-a0d2-03a4409edda3\" xlink:actuate=\"onRequest\" xlink:href=\"psysml:84563fde-fc3c-4caa-a0d2-03a4409edda3\" xlink:show=\"new\" xlink:title=\"psysml:84563fde-fc3c-4caa-a0d2-03a4409edda3\" xlink:type=\"simple\"><rect fill=\"#FEFECE\" filter=\"url(#f5ijv6e885pkz)\" height=\"45.9375\" id=\"E2\" rx=\"10\" ry=\"10\" style=\"stroke: #A80036; stroke-width: 1.5;\" width=\"71\" x=\"32.5\" y=\"41\"/><text fill=\"#000000\" font-family=\"sans-serif\" font-size=\"12\" font-style=\"italic\" lengthAdjust=\"spacingAndGlyphs\" textLength=\"69\" x=\"33.5\" y=\"57.1387\">«attribute»</text><text fill=\"#000000\" font-family=\"sans-serif\" font-size=\"12\" lengthAdjust=\"spacingAndGlyphs\" textLength=\"8\" x=\"64\" y=\"71.1074\">q</text><line style=\"stroke: #A80036; stroke-width: 1.5;\" x1=\"33.5\" x2=\"102.5\" y1=\"78.9375\" y2=\"78.9375\"/></a><text fill=\"#000000\" font-family=\"sans-serif\" font-size=\"14\" lengthAdjust=\"spacingAndGlyphs\" textLength=\"44\" x=\"308\" y=\"42.6982\">porig1</text><rect fill=\"#A80036\" height=\"12\" style=\"stroke: #FEFECE; stroke-width: 1.5;\" width=\"12\" x=\"324\" y=\"58\"/><text fill=\"#000000\" font-family=\"sans-serif\" font-size=\"14\" lengthAdjust=\"spacingAndGlyphs\" textLength=\"44\" x=\"355\" y=\"42.6982\">porig1</text><rect fill=\"#A80036\" height=\"12\" style=\"stroke: #FEFECE; stroke-width: 1.5;\" width=\"12\" x=\"371\" y=\"58\"/><text fill=\"#000000\" font-family=\"sans-serif\" font-size=\"14\" lengthAdjust=\"spacingAndGlyphs\" textLength=\"27\" x=\"178.5\" y=\"42.6982\">po1</text><rect fill=\"#A80036\" height=\"12\" style=\"stroke: #FEFECE; stroke-width: 1.5;\" width=\"12\" x=\"186\" y=\"58\"/><text fill=\"#000000\" font-family=\"sans-serif\" font-size=\"14\" lengthAdjust=\"spacingAndGlyphs\" textLength=\"40\" x=\"211\" y=\"99.1982\">pdest</text><rect fill=\"#A80036\" height=\"12\" style=\"stroke: #FEFECE; stroke-width: 1.5;\" width=\"12\" x=\"225\" y=\"114.5\"/><text fill=\"#000000\" font-family=\"sans-serif\" font-size=\"14\" lengthAdjust=\"spacingAndGlyphs\" textLength=\"40\" x=\"258\" y=\"99.1982\">pdest</text><rect fill=\"#A80036\" height=\"12\" style=\"stroke: #FEFECE; stroke-width: 1.5;\" width=\"12\" x=\"272\" y=\"114.5\"/><!--MD5=[1c0b9414cc86e0744215edee6abd8926]\n",
       "link E7 to E9--><a href=\"psysml:eaab9895-3808-4b7e-ad70-425cb7403c1b\" target=\"_top\" title=\"psysml:eaab9895-3808-4b7e-ad70-425cb7403c1b\" xlink:actuate=\"onRequest\" xlink:href=\"psysml:eaab9895-3808-4b7e-ad70-425cb7403c1b\" xlink:show=\"new\" xlink:title=\"psysml:eaab9895-3808-4b7e-ad70-425cb7403c1b\" xlink:type=\"simple\"><path d=\"M187.83,70.03 C188.72,81.73 210.14,110.34 224.83,117.73 \" fill=\"none\" id=\"E7-E9\" style=\"stroke: #A80036; stroke-width: 3.0;\"/><text fill=\"#000000\" font-family=\"sans-serif\" font-size=\"13\" lengthAdjust=\"spacingAndGlyphs\" textLength=\"7\" x=\"209.8523\" y=\"106.3789\">*</text></a><!--MD5=[1c0b9414cc86e0744215edee6abd8926]\n",
       "link E7 to E9--><a href=\"psysml:18885de6-563e-4dd2-a418-c135b5ffccd4\" target=\"_top\" title=\"psysml:18885de6-563e-4dd2-a418-c135b5ffccd4\" xlink:actuate=\"onRequest\" xlink:href=\"psysml:18885de6-563e-4dd2-a418-c135b5ffccd4\" xlink:show=\"new\" xlink:title=\"psysml:18885de6-563e-4dd2-a418-c135b5ffccd4\" xlink:type=\"simple\"><path d=\"M198.05,66.57 C213.27,73.62 235.05,102.5 235.62,114.37 \" fill=\"none\" id=\"E7-E9-1\" style=\"stroke: #A80036; stroke-width: 3.0;\"/><text fill=\"#000000\" font-family=\"sans-serif\" font-size=\"13\" lengthAdjust=\"spacingAndGlyphs\" textLength=\"7\" x=\"229.278\" y=\"103.4683\">*</text></a><!--MD5=[c59e21c6e2992c43cfee190faefb230e]\n",
       "@startuml\r\n",
       "skinparam ranksep 10\r\n",
       "skinparam rectangle {\r\n",
       " backgroundColor<<block>> LightGreen\r\n",
       "}\r\n",
       "skinparam wrapWidth 300\r\n",
       "hide circle\r\n",
       "\r\n",
       "package \"AliasTest\" as E1  [[psysml:abede473-ce86-4cf2-9b0f-bcad92dda7df ]]  {\r\n",
       "comp usage \"q\" as E2  <<(T,blue) attribute>> [[psysml:84563fde-fc3c-4caa-a0d2-03a4409edda3 ]] {\r\n",
       "}\r\n",
       "rec def \"P1\" as E3  <<(T,blue) part def>> [[psysml:f240402e-e520-4bd4-a2fa-a40388aadc9d ]] {\r\n",
       "portin \"porig1\" as E4  <<(T,blue) port>> [[psysml:fb61bd91-52ec-4d42-be8a-ef485ce794d8 ]] \r\n",
       "portin \"porig1\" as E5  <<(T,blue) port>> [[psysml:fb61bd91-52ec-4d42-be8a-ef485ce794d8 ]] \r\n",
       "}\r\n",
       "rec usage \"p1: P1\" as E6  [[psysml:66a2f39c-c11d-47e1-a04e-46a9b54c38c0 ]] {\r\n",
       "portin \"po1\" as E7  <<(T,blue) port>> [[psysml:1cf4d29b-7212-465e-9bfc-2d9d3c47093a ]] \r\n",
       "}\r\n",
       "rec usage \"p2: P1\" as E8  [[psysml:d750b59a-5fb4-49de-a141-6edbceed9fe9 ]] {\r\n",
       "portin \"pdest\" as E9  <<(T,blue) port>> [[psysml:1ab4a2c7-e640-4092-b309-d8474ba4cc31 ]] \r\n",
       "portin \"pdest\" as E10  <<(T,blue) port>> [[psysml:1ab4a2c7-e640-4092-b309-d8474ba4cc31 ]] \r\n",
       "}\r\n",
       "}\r\n",
       "E7 -[thickness=3]- \"*\"E9 [[psysml:eaab9895-3808-4b7e-ad70-425cb7403c1b ]] \r\n",
       "E7 -[thickness=3]- \"*\"E9 [[psysml:18885de6-563e-4dd2-a418-c135b5ffccd4 ]] \r\n",
       "@enduml\r\n",
       "\n",
       "PlantUML version 1.2020.13(Sat Jun 13 12:26:38 UTC 2020)\n",
       "(EPL source distribution)\n",
       "Java Runtime: OpenJDK Runtime Environment\n",
       "JVM: OpenJDK 64-Bit Server VM\n",
       "Default Encoding: UTF-8\n",
       "Language: en\n",
       "Country: null\n",
       "--></g></svg>"
      ]
     },
     "execution_count": 26,
     "metadata": {},
     "output_type": "execute_result"
    }
   ],
   "source": [
    "%viz --style=\"STDCOLOR\" --view=\"Interconnection\" \"AliasTest\""
   ]
  },
  {
   "cell_type": "code",
   "execution_count": 27,
   "id": "4c492447",
   "metadata": {
    "execution": {
     "iopub.execute_input": "2021-09-27T07:19:09.781457Z",
     "iopub.status.busy": "2021-09-27T07:19:09.781022Z",
     "iopub.status.idle": "2021-09-27T07:19:09.785659Z",
     "shell.execute_reply": "2021-09-27T07:19:09.785960Z"
    }
   },
   "outputs": [
    {
     "data": {
      "image/svg+xml": [
       "<?xml version=\"1.0\" encoding=\"UTF-8\" standalone=\"no\"?><svg xmlns=\"http://www.w3.org/2000/svg\" xmlns:xlink=\"http://www.w3.org/1999/xlink\" contentScriptType=\"application/ecmascript\" contentStyleType=\"text/css\" height=\"12px\" preserveAspectRatio=\"none\" style=\"width:12px;height:12px;\" version=\"1.1\" viewBox=\"0 0 12 12\" width=\"12px\" zoomAndPan=\"magnify\"><defs/><g><!--MD5=[9863325348a96a77dacc89509d8ee65e]\n",
       "@startuml\r\n",
       "skinparam ranksep 8\r\n",
       "skinparam wrapWidth 300\r\n",
       "hide circle\r\n",
       "\r\n",
       "@enduml\r\n",
       "\n",
       "PlantUML version 1.2020.13(Sat Jun 13 12:26:38 UTC 2020)\n",
       "(EPL source distribution)\n",
       "Java Runtime: OpenJDK Runtime Environment\n",
       "JVM: OpenJDK 64-Bit Server VM\n",
       "Default Encoding: UTF-8\n",
       "Language: en\n",
       "Country: null\n",
       "--></g></svg>"
      ]
     },
     "execution_count": 27,
     "metadata": {},
     "output_type": "execute_result"
    }
   ],
   "source": [
    "%viz --style=\"STDCOLOR\" --view=\"Action\" \"AliasTest\""
   ]
  },
  {
   "cell_type": "code",
   "execution_count": 28,
   "id": "182fba2c",
   "metadata": {
    "execution": {
     "iopub.execute_input": "2021-09-27T07:19:09.836521Z",
     "iopub.status.busy": "2021-09-27T07:19:09.835956Z",
     "iopub.status.idle": "2021-09-27T07:19:09.841616Z",
     "shell.execute_reply": "2021-09-27T07:19:09.841253Z"
    }
   },
   "outputs": [
    {
     "data": {
      "image/svg+xml": [
       "<?xml version=\"1.0\" encoding=\"UTF-8\" standalone=\"no\"?><svg xmlns=\"http://www.w3.org/2000/svg\" xmlns:xlink=\"http://www.w3.org/1999/xlink\" contentScriptType=\"application/ecmascript\" contentStyleType=\"text/css\" height=\"12px\" preserveAspectRatio=\"none\" style=\"width:12px;height:12px;\" version=\"1.1\" viewBox=\"0 0 12 12\" width=\"12px\" zoomAndPan=\"magnify\"><defs/><g><!--MD5=[6c4bca67b4d71758159a5a7f1f1e1fc2]\n",
       "@startuml\r\n",
       "skinparam roundcorner 20\r\n",
       "skinparam BoxPadding 20\r\n",
       "skinparam SequenceBoxBackgroundColor #white\r\n",
       "skinparam style strictuml\r\n",
       "skinparam maxMessageSize 100\r\n",
       "skinparam wrapWidth 300\r\n",
       "hide circle\r\n",
       "\r\n",
       "@enduml\r\n",
       "\n",
       "PlantUML version 1.2020.13(Sat Jun 13 12:26:38 UTC 2020)\n",
       "(EPL source distribution)\n",
       "Java Runtime: OpenJDK Runtime Environment\n",
       "JVM: OpenJDK 64-Bit Server VM\n",
       "Default Encoding: UTF-8\n",
       "Language: en\n",
       "Country: null\n",
       "--></g></svg>"
      ]
     },
     "execution_count": 28,
     "metadata": {},
     "output_type": "execute_result"
    }
   ],
   "source": [
    "%viz --style=\"STDCOLOR\" --view=\"Sequence\" \"AliasTest\""
   ]
  },
  {
   "cell_type": "code",
   "execution_count": 29,
   "id": "ef2e89f8",
   "metadata": {
    "execution": {
     "iopub.execute_input": "2021-09-27T07:19:09.891595Z",
     "iopub.status.busy": "2021-09-27T07:19:09.891020Z",
     "iopub.status.idle": "2021-09-27T07:19:09.930369Z",
     "shell.execute_reply": "2021-09-27T07:19:09.929986Z"
    }
   },
   "outputs": [
    {
     "data": {
      "image/svg+xml": [
       "<?xml version=\"1.0\" encoding=\"UTF-8\" standalone=\"no\"?><svg xmlns=\"http://www.w3.org/2000/svg\" xmlns:xlink=\"http://www.w3.org/1999/xlink\" contentScriptType=\"application/ecmascript\" contentStyleType=\"text/css\" height=\"327px\" preserveAspectRatio=\"none\" style=\"width:304px;height:327px;\" version=\"1.1\" viewBox=\"0 0 304 327\" width=\"304px\" zoomAndPan=\"magnify\"><defs><filter height=\"300%\" id=\"fgj9qixxiahcv\" width=\"300%\" x=\"-1\" y=\"-1\"><feGaussianBlur result=\"blurOut\" stdDeviation=\"2.0\"/><feColorMatrix in=\"blurOut\" result=\"blurOut2\" type=\"matrix\" values=\"0 0 0 0 0 0 0 0 0 0 0 0 0 0 0 0 0 0 .4 0\"/><feOffset dx=\"4.0\" dy=\"4.0\" in=\"blurOut2\" result=\"blurOut3\"/><feBlend in=\"SourceGraphic\" in2=\"blurOut3\" mode=\"normal\"/></filter></defs><g><!--MD5=[fbc87193dbaf4d95561dea2c320d4a47]\n",
       "cluster E1--><a href=\"psysml:abede473-ce86-4cf2-9b0f-bcad92dda7df\" target=\"_top\" title=\"psysml:abede473-ce86-4cf2-9b0f-bcad92dda7df\" xlink:actuate=\"onRequest\" xlink:href=\"psysml:abede473-ce86-4cf2-9b0f-bcad92dda7df\" xlink:show=\"new\" xlink:title=\"psysml:abede473-ce86-4cf2-9b0f-bcad92dda7df\" xlink:type=\"simple\"><polygon fill=\"#FFFFFF\" filter=\"url(#fgj9qixxiahcv)\" points=\"16,6,84,6,91,28.2969,282,28.2969,282,315,16,315,16,6\" style=\"stroke: #000000; stroke-width: 1.5;\"/><line style=\"stroke: #000000; stroke-width: 1.5;\" x1=\"16\" x2=\"91\" y1=\"28.2969\" y2=\"28.2969\"/><text fill=\"#000000\" font-family=\"sans-serif\" font-size=\"14\" font-weight=\"bold\" lengthAdjust=\"spacingAndGlyphs\" textLength=\"62\" x=\"20\" y=\"20.9951\">AliasTest</text></a><!--MD5=[b4997ac47864f28c2f74865a473b2911]\n",
       "class E2--><a href=\"psysml:84563fde-fc3c-4caa-a0d2-03a4409edda3\" target=\"_top\" title=\"psysml:84563fde-fc3c-4caa-a0d2-03a4409edda3\" xlink:actuate=\"onRequest\" xlink:href=\"psysml:84563fde-fc3c-4caa-a0d2-03a4409edda3\" xlink:show=\"new\" xlink:title=\"psysml:84563fde-fc3c-4caa-a0d2-03a4409edda3\" xlink:type=\"simple\"><rect fill=\"#FEFECE\" filter=\"url(#fgj9qixxiahcv)\" height=\"45.9375\" id=\"E2\" rx=\"10\" ry=\"10\" style=\"stroke: #A80036; stroke-width: 1.5;\" width=\"71\" x=\"194.5\" y=\"41\"/><text fill=\"#000000\" font-family=\"sans-serif\" font-size=\"12\" font-style=\"italic\" lengthAdjust=\"spacingAndGlyphs\" textLength=\"69\" x=\"195.5\" y=\"57.1387\">«attribute»</text><text fill=\"#000000\" font-family=\"sans-serif\" font-size=\"12\" lengthAdjust=\"spacingAndGlyphs\" textLength=\"8\" x=\"226\" y=\"71.1074\">q</text><line style=\"stroke: #A80036; stroke-width: 1.5;\" x1=\"195.5\" x2=\"264.5\" y1=\"78.9375\" y2=\"78.9375\"/></a><!--MD5=[09b614a08d8cba4a07c9adeb5e0fee81]\n",
       "class E3--><a href=\"psysml:f240402e-e520-4bd4-a2fa-a40388aadc9d\" target=\"_top\" title=\"psysml:f240402e-e520-4bd4-a2fa-a40388aadc9d\" xlink:actuate=\"onRequest\" xlink:href=\"psysml:f240402e-e520-4bd4-a2fa-a40388aadc9d\" xlink:show=\"new\" xlink:title=\"psysml:f240402e-e520-4bd4-a2fa-a40388aadc9d\" xlink:type=\"simple\"><rect fill=\"#FEFECE\" filter=\"url(#fgj9qixxiahcv)\" height=\"45.9375\" id=\"E3\" style=\"stroke: #A80036; stroke-width: 1.5;\" width=\"66\" x=\"168\" y=\"147\"/><text fill=\"#000000\" font-family=\"sans-serif\" font-size=\"12\" font-style=\"italic\" lengthAdjust=\"spacingAndGlyphs\" textLength=\"64\" x=\"169\" y=\"163.1387\">«part def»</text><text fill=\"#000000\" font-family=\"sans-serif\" font-size=\"12\" lengthAdjust=\"spacingAndGlyphs\" textLength=\"16\" x=\"193\" y=\"177.1074\">P1</text><line style=\"stroke: #A80036; stroke-width: 1.5;\" x1=\"169\" x2=\"233\" y1=\"184.9375\" y2=\"184.9375\"/></a><!--MD5=[ebbe1d658d1005bcc118a6aa81145e00]\n",
       "class E4--><a href=\"psysml:fb61bd91-52ec-4d42-be8a-ef485ce794d8\" target=\"_top\" title=\"psysml:fb61bd91-52ec-4d42-be8a-ef485ce794d8\" xlink:actuate=\"onRequest\" xlink:href=\"psysml:fb61bd91-52ec-4d42-be8a-ef485ce794d8\" xlink:show=\"new\" xlink:title=\"psysml:fb61bd91-52ec-4d42-be8a-ef485ce794d8\" xlink:type=\"simple\"><rect fill=\"#FEFECE\" filter=\"url(#fgj9qixxiahcv)\" height=\"45.9375\" id=\"E4\" rx=\"10\" ry=\"10\" style=\"stroke: #A80036; stroke-width: 1.5;\" width=\"46\" x=\"178\" y=\"253\"/><text fill=\"#000000\" font-family=\"sans-serif\" font-size=\"12\" font-style=\"italic\" lengthAdjust=\"spacingAndGlyphs\" textLength=\"40\" x=\"181\" y=\"269.1387\">«port»</text><text fill=\"#000000\" font-family=\"sans-serif\" font-size=\"12\" lengthAdjust=\"spacingAndGlyphs\" textLength=\"40\" x=\"181\" y=\"283.1074\">porig1</text><line style=\"stroke: #A80036; stroke-width: 1.5;\" x1=\"179\" x2=\"223\" y1=\"290.9375\" y2=\"290.9375\"/></a><!--MD5=[270fce915f116d4de14055a7c1d9a0f3]\n",
       "class E5--><a href=\"psysml:66a2f39c-c11d-47e1-a04e-46a9b54c38c0\" target=\"_top\" title=\"psysml:66a2f39c-c11d-47e1-a04e-46a9b54c38c0\" xlink:actuate=\"onRequest\" xlink:href=\"psysml:66a2f39c-c11d-47e1-a04e-46a9b54c38c0\" xlink:show=\"new\" xlink:title=\"psysml:66a2f39c-c11d-47e1-a04e-46a9b54c38c0\" xlink:type=\"simple\"><rect fill=\"#FEFECE\" filter=\"url(#fgj9qixxiahcv)\" height=\"45.9375\" id=\"E5\" rx=\"10\" ry=\"10\" style=\"stroke: #A80036; stroke-width: 1.5;\" width=\"46\" x=\"113\" y=\"41\"/><text fill=\"#000000\" font-family=\"sans-serif\" font-size=\"12\" font-style=\"italic\" lengthAdjust=\"spacingAndGlyphs\" textLength=\"40\" x=\"116\" y=\"57.1387\">«part»</text><text fill=\"#000000\" font-family=\"sans-serif\" font-size=\"12\" lengthAdjust=\"spacingAndGlyphs\" textLength=\"40\" x=\"116\" y=\"71.1074\">p1: P1</text><line style=\"stroke: #A80036; stroke-width: 1.5;\" x1=\"114\" x2=\"158\" y1=\"78.9375\" y2=\"78.9375\"/></a><!--MD5=[60a26617385b1d2d0262a64233df1f8d]\n",
       "class E6--><a href=\"psysml:1cf4d29b-7212-465e-9bfc-2d9d3c47093a\" target=\"_top\" title=\"psysml:1cf4d29b-7212-465e-9bfc-2d9d3c47093a\" xlink:actuate=\"onRequest\" xlink:href=\"psysml:1cf4d29b-7212-465e-9bfc-2d9d3c47093a\" xlink:show=\"new\" xlink:title=\"psysml:1cf4d29b-7212-465e-9bfc-2d9d3c47093a\" xlink:type=\"simple\"><rect fill=\"#FEFECE\" filter=\"url(#fgj9qixxiahcv)\" height=\"45.9375\" id=\"E6\" rx=\"10\" ry=\"10\" style=\"stroke: #A80036; stroke-width: 1.5;\" width=\"42\" x=\"91\" y=\"147\"/><text fill=\"#000000\" font-family=\"sans-serif\" font-size=\"12\" font-style=\"italic\" lengthAdjust=\"spacingAndGlyphs\" textLength=\"40\" x=\"92\" y=\"163.1387\">«port»</text><text fill=\"#000000\" font-family=\"sans-serif\" font-size=\"12\" lengthAdjust=\"spacingAndGlyphs\" textLength=\"24\" x=\"100\" y=\"177.1074\">po1</text><line style=\"stroke: #A80036; stroke-width: 1.5;\" x1=\"92\" x2=\"132\" y1=\"184.9375\" y2=\"184.9375\"/></a><!--MD5=[2156ba9850f5573cc1fc38a6a4b2f02b]\n",
       "class E7--><a href=\"psysml:d750b59a-5fb4-49de-a141-6edbceed9fe9\" target=\"_top\" title=\"psysml:d750b59a-5fb4-49de-a141-6edbceed9fe9\" xlink:actuate=\"onRequest\" xlink:href=\"psysml:d750b59a-5fb4-49de-a141-6edbceed9fe9\" xlink:show=\"new\" xlink:title=\"psysml:d750b59a-5fb4-49de-a141-6edbceed9fe9\" xlink:type=\"simple\"><rect fill=\"#FEFECE\" filter=\"url(#fgj9qixxiahcv)\" height=\"45.9375\" id=\"E7\" rx=\"10\" ry=\"10\" style=\"stroke: #A80036; stroke-width: 1.5;\" width=\"46\" x=\"32\" y=\"41\"/><text fill=\"#000000\" font-family=\"sans-serif\" font-size=\"12\" font-style=\"italic\" lengthAdjust=\"spacingAndGlyphs\" textLength=\"40\" x=\"35\" y=\"57.1387\">«part»</text><text fill=\"#000000\" font-family=\"sans-serif\" font-size=\"12\" lengthAdjust=\"spacingAndGlyphs\" textLength=\"40\" x=\"35\" y=\"71.1074\">p2: P1</text><line style=\"stroke: #A80036; stroke-width: 1.5;\" x1=\"33\" x2=\"77\" y1=\"78.9375\" y2=\"78.9375\"/></a><!--MD5=[b9389687b975829384b498ac4b7476b2]\n",
       "class E8--><a href=\"psysml:1ab4a2c7-e640-4092-b309-d8474ba4cc31\" target=\"_top\" title=\"psysml:1ab4a2c7-e640-4092-b309-d8474ba4cc31\" xlink:actuate=\"onRequest\" xlink:href=\"psysml:1ab4a2c7-e640-4092-b309-d8474ba4cc31\" xlink:show=\"new\" xlink:title=\"psysml:1ab4a2c7-e640-4092-b309-d8474ba4cc31\" xlink:type=\"simple\"><rect fill=\"#FEFECE\" filter=\"url(#fgj9qixxiahcv)\" height=\"45.9375\" id=\"E8\" rx=\"10\" ry=\"10\" style=\"stroke: #A80036; stroke-width: 1.5;\" width=\"42\" x=\"63\" y=\"253\"/><text fill=\"#000000\" font-family=\"sans-serif\" font-size=\"12\" font-style=\"italic\" lengthAdjust=\"spacingAndGlyphs\" textLength=\"40\" x=\"64\" y=\"269.1387\">«port»</text><text fill=\"#000000\" font-family=\"sans-serif\" font-size=\"12\" lengthAdjust=\"spacingAndGlyphs\" textLength=\"36\" x=\"66\" y=\"283.1074\">pdest</text><line style=\"stroke: #A80036; stroke-width: 1.5;\" x1=\"64\" x2=\"104\" y1=\"290.9375\" y2=\"290.9375\"/></a><!--MD5=[4672eba38e49728da53d11aeb285b987]\n",
       "reverse link E3 to E4--><a href=\"psysml:b0a1a3b9-a387-42d1-a567-e540cd2e1d19\" target=\"_top\" title=\"psysml:b0a1a3b9-a387-42d1-a567-e540cd2e1d19\" xlink:actuate=\"onRequest\" xlink:href=\"psysml:b0a1a3b9-a387-42d1-a567-e540cd2e1d19\" xlink:show=\"new\" xlink:title=\"psysml:b0a1a3b9-a387-42d1-a567-e540cd2e1d19\" xlink:type=\"simple\"><path d=\"M188.84,206.44 C187.7,221.87 188.21,239.47 190.36,252.98 \" fill=\"none\" id=\"E3&lt;-E4\" style=\"stroke: #A80036; stroke-width: 1.0;\"/><polygon fill=\"#FFFFFF\" points=\"190.35,193.06,185.7032,198.5743,189.006,204.9845,193.6528,199.4702,190.35,193.06\" style=\"stroke: #A80036; stroke-width: 1.0;\"/><text fill=\"#000000\" font-family=\"sans-serif\" font-size=\"13\" lengthAdjust=\"spacingAndGlyphs\" textLength=\"8\" x=\"178.4255\" y=\"241.8709\">1</text></a><!--MD5=[4672eba38e49728da53d11aeb285b987]\n",
       "reverse link E3 to E4--><a href=\"psysml:b116cd08-9727-4fd8-b1d3-1b9f6deb041c\" target=\"_top\" title=\"psysml:b116cd08-9727-4fd8-b1d3-1b9f6deb041c\" xlink:actuate=\"onRequest\" xlink:href=\"psysml:b116cd08-9727-4fd8-b1d3-1b9f6deb041c\" xlink:show=\"new\" xlink:title=\"psysml:b116cd08-9727-4fd8-b1d3-1b9f6deb041c\" xlink:type=\"simple\"><path d=\"M214.01,208.34 C215.03,223.3 214.45,240.02 212.27,252.98 \" fill=\"none\" id=\"E3&lt;-E4-1\" style=\"stroke: #A80036; stroke-width: 1.0; stroke-dasharray: 7.0,7.0;\"/><ellipse cx=\"213.1693\" cy=\"201.0093\" fill=\"#FFFFFF\" rx=\"8\" ry=\"8\" style=\"stroke: #A80036; stroke-width: 1.0;\"/><line style=\"stroke: #A80036; stroke-width: 1.0;\" x1=\"214.0687\" x2=\"212.27\" y1=\"208.9586\" y2=\"193.06\"/><line style=\"stroke: #A80036; stroke-width: 1.0;\" x1=\"205.2201\" x2=\"221.1186\" y1=\"201.9086\" y2=\"200.1099\"/><text fill=\"#000000\" font-family=\"sans-serif\" font-size=\"13\" lengthAdjust=\"spacingAndGlyphs\" textLength=\"8\" x=\"206.2238\" y=\"241.8709\">1</text></a><!--MD5=[e9be52314489bd878ff4c7144b63c9e1]\n",
       "link E5 to E3--><a href=\"psysml:b60c9595-85bf-4c72-aa43-c7c5a3162c28\" target=\"_top\" title=\"psysml:b60c9595-85bf-4c72-aa43-c7c5a3162c28\" xlink:actuate=\"onRequest\" xlink:href=\"psysml:b60c9595-85bf-4c72-aa43-c7c5a3162c28\" xlink:show=\"new\" xlink:title=\"psysml:b60c9595-85bf-4c72-aa43-c7c5a3162c28\" xlink:type=\"simple\"><path d=\"M149.78,87.06 C157.54,99.47 167.45,115.33 176.49,129.78 \" fill=\"none\" id=\"E5-&gt;E3\" style=\"stroke: #A80036; stroke-width: 1.0;\"/><polygon fill=\"#FFFFFF\" points=\"187.24,146.98,171.2331,134.5792,183.1045,127.1584,187.24,146.98\" style=\"stroke: #A80036; stroke-width: 1.0;\"/><ellipse cx=\"169.9076\" cy=\"128.6857\" fill=\"#A80036\" rx=\"2\" ry=\"2\" style=\"stroke: #A80036; stroke-width: 1.0;\"/><ellipse cx=\"178.3872\" cy=\"123.3851\" fill=\"#A80036\" rx=\"2\" ry=\"2\" style=\"stroke: #A80036; stroke-width: 1.0;\"/></a><!--MD5=[85d356282659285ab4b2cfe2f634dd2b]\n",
       "reverse link E5 to E6--><a href=\"psysml:5e5f570b-f88f-4e5d-bde6-a1031949a59c\" target=\"_top\" title=\"psysml:5e5f570b-f88f-4e5d-bde6-a1031949a59c\" xlink:actuate=\"onRequest\" xlink:href=\"psysml:5e5f570b-f88f-4e5d-bde6-a1031949a59c\" xlink:show=\"new\" xlink:title=\"psysml:5e5f570b-f88f-4e5d-bde6-a1031949a59c\" xlink:type=\"simple\"><path d=\"M127.93,99.96 C124.34,115.51 120.23,133.33 117.08,146.98 \" fill=\"none\" id=\"E5&lt;-E6\" style=\"stroke: #A80036; stroke-width: 1.0;\"/><polygon fill=\"#FFFFFF\" points=\"130.91,87.06,125.6616,92.0052,128.2078,98.7518,133.4562,93.8066,130.91,87.06\" style=\"stroke: #A80036; stroke-width: 1.0;\"/><text fill=\"#000000\" font-family=\"sans-serif\" font-size=\"13\" lengthAdjust=\"spacingAndGlyphs\" textLength=\"8\" x=\"109.3703\" y=\"135.8709\">1</text></a><!--MD5=[f667431f98296947986a1a7595a31603]\n",
       "link E6 to E4--><a href=\"psysml:ccd9da30-2bd5-4e38-bf20-b9f9621d2107\" target=\"_top\" title=\"psysml:ccd9da30-2bd5-4e38-bf20-b9f9621d2107\" xlink:actuate=\"onRequest\" xlink:href=\"psysml:ccd9da30-2bd5-4e38-bf20-b9f9621d2107\" xlink:show=\"new\" xlink:title=\"psysml:ccd9da30-2bd5-4e38-bf20-b9f9621d2107\" xlink:type=\"simple\"><path d=\"M130.87,193.06 C141.97,206.02 156.28,222.74 169.08,237.7 \" fill=\"none\" id=\"E6-&gt;E4\" style=\"stroke: #A80036; stroke-width: 1.0;\"/><polygon fill=\"#FFFFFF\" points=\"182.15,252.98,164.4809,243.0905,175.1204,233.9909,182.15,252.98\" style=\"stroke: #A80036; stroke-width: 1.0;\"/><line style=\"stroke: #A80036; stroke-width: 2.0;\" x1=\"162.011\" x2=\"172.6505\" y1=\"240.2026\" y2=\"231.1031\"/></a><!--MD5=[14ccda38c055a5c0da953d572bc50960]\n",
       "link E7 to E3--><a href=\"psysml:8fc3f931-75e6-473d-9c07-27a38ec18c6d\" target=\"_top\" title=\"psysml:8fc3f931-75e6-473d-9c07-27a38ec18c6d\" xlink:actuate=\"onRequest\" xlink:href=\"psysml:8fc3f931-75e6-473d-9c07-27a38ec18c6d\" xlink:show=\"new\" xlink:title=\"psysml:8fc3f931-75e6-473d-9c07-27a38ec18c6d\" xlink:type=\"simple\"><path d=\"M78.13,81.48 C98.32,95.86 128.25,117.18 153.52,135.18 \" fill=\"none\" id=\"E7-&gt;E3\" style=\"stroke: #A80036; stroke-width: 1.0;\"/><polygon fill=\"#FFFFFF\" points=\"170.09,146.98,150.5533,141.6586,158.6755,130.2555,170.09,146.98\" style=\"stroke: #A80036; stroke-width: 1.0;\"/><ellipse cx=\"147.0709\" cy=\"136.7227\" fill=\"#A80036\" rx=\"2\" ry=\"2\" style=\"stroke: #A80036; stroke-width: 1.0;\"/><ellipse cx=\"152.8725\" cy=\"128.5776\" fill=\"#A80036\" rx=\"2\" ry=\"2\" style=\"stroke: #A80036; stroke-width: 1.0;\"/></a><!--MD5=[dc164f5e8a733ab456ef1add180e9e34]\n",
       "reverse link E7 to E8--><a href=\"psysml:36a32e90-a022-4c42-9b64-7c79f5d1d72c\" target=\"_top\" title=\"psysml:36a32e90-a022-4c42-9b64-7c79f5d1d72c\" xlink:actuate=\"onRequest\" xlink:href=\"psysml:36a32e90-a022-4c42-9b64-7c79f5d1d72c\" xlink:show=\"new\" xlink:title=\"psysml:36a32e90-a022-4c42-9b64-7c79f5d1d72c\" xlink:type=\"simple\"><path d=\"M50.05,100.09 C51.65,143.61 62.25,216.5 72.75,252.9 \" fill=\"none\" id=\"E7&lt;-E8\" style=\"stroke: #A80036; stroke-width: 1.0;\"/><polygon fill=\"#FFFFFF\" points=\"49.85,87.08,45.9362,93.1366,50.0216,99.0788,53.9354,93.0222,49.85,87.08\" style=\"stroke: #A80036; stroke-width: 1.0;\"/><text fill=\"#000000\" font-family=\"sans-serif\" font-size=\"13\" lengthAdjust=\"spacingAndGlyphs\" textLength=\"8\" x=\"60.6516\" y=\"241.7694\">1</text></a><!--MD5=[dc164f5e8a733ab456ef1add180e9e34]\n",
       "reverse link E7 to E8--><a href=\"psysml:346ab8ae-1d2f-462f-a94e-fae0b61189bf\" target=\"_top\" title=\"psysml:346ab8ae-1d2f-462f-a94e-fae0b61189bf\" xlink:actuate=\"onRequest\" xlink:href=\"psysml:346ab8ae-1d2f-462f-a94e-fae0b61189bf\" xlink:show=\"new\" xlink:title=\"psysml:346ab8ae-1d2f-462f-a94e-fae0b61189bf\" xlink:type=\"simple\"><path d=\"M70.64,101.8 C81.15,145.5 90.39,216.97 89.63,252.9 \" fill=\"none\" id=\"E7&lt;-E8-1\" style=\"stroke: #A80036; stroke-width: 1.0; stroke-dasharray: 7.0,7.0;\"/><ellipse cx=\"68.7794\" cy=\"94.813\" fill=\"#FFFFFF\" rx=\"8\" ry=\"8\" style=\"stroke: #A80036; stroke-width: 1.0;\"/><line style=\"stroke: #A80036; stroke-width: 1.0;\" x1=\"70.8289\" x2=\"66.73\" y1=\"102.5461\" y2=\"87.08\"/><line style=\"stroke: #A80036; stroke-width: 1.0;\" x1=\"61.0464\" x2=\"76.5125\" y1=\"96.8625\" y2=\"92.7636\"/><text fill=\"#000000\" font-family=\"sans-serif\" font-size=\"13\" lengthAdjust=\"spacingAndGlyphs\" textLength=\"8\" x=\"92.2181\" y=\"241.7694\">1</text></a><!--MD5=[0a839d0f80c2d72d4b9b307f046d0de8]\n",
       "link E6 to E8--><a href=\"psysml:eaab9895-3808-4b7e-ad70-425cb7403c1b\" target=\"_top\" title=\"psysml:eaab9895-3808-4b7e-ad70-425cb7403c1b\" xlink:actuate=\"onRequest\" xlink:href=\"psysml:eaab9895-3808-4b7e-ad70-425cb7403c1b\" xlink:show=\"new\" xlink:title=\"psysml:eaab9895-3808-4b7e-ad70-425cb7403c1b\" xlink:type=\"simple\"><path d=\"M95.42,193.06 C87.86,210.7 81.23,235.34 79.29,252.98 \" fill=\"none\" id=\"E6-E8\" style=\"stroke: #A80036; stroke-width: 3.0;\"/><text fill=\"#000000\" font-family=\"sans-serif\" font-size=\"13\" lengthAdjust=\"spacingAndGlyphs\" textLength=\"7\" x=\"78.9648\" y=\"241.8709\">*</text></a><!--MD5=[0a839d0f80c2d72d4b9b307f046d0de8]\n",
       "link E6 to E8--><a href=\"psysml:18885de6-563e-4dd2-a418-c135b5ffccd4\" target=\"_top\" title=\"psysml:18885de6-563e-4dd2-a418-c135b5ffccd4\" xlink:actuate=\"onRequest\" xlink:href=\"psysml:18885de6-563e-4dd2-a418-c135b5ffccd4\" xlink:show=\"new\" xlink:title=\"psysml:18885de6-563e-4dd2-a418-c135b5ffccd4\" xlink:type=\"simple\"><path d=\"M117.33,193.06 C115.55,210.7 108.92,235.34 101.2,252.98 \" fill=\"none\" id=\"E6-E8-1\" style=\"stroke: #A80036; stroke-width: 3.0;\"/><text fill=\"#000000\" font-family=\"sans-serif\" font-size=\"13\" lengthAdjust=\"spacingAndGlyphs\" textLength=\"7\" x=\"97.8819\" y=\"241.8709\">*</text></a><!--MD5=[642c90b07e69af107bd6089033d5ab4f]\n",
       "@startuml\r\n",
       "skinparam wrapWidth 300\r\n",
       "hide circle\r\n",
       "\r\n",
       "package \"AliasTest\" as E1  [[psysml:abede473-ce86-4cf2-9b0f-bcad92dda7df ]]  {\r\n",
       "comp usage \"q\" as E2  <<(T,blue) attribute>> [[psysml:84563fde-fc3c-4caa-a0d2-03a4409edda3 ]] {\r\n",
       "}\r\n",
       "comp def \"P1\" as E3  <<(T,blue) part def>> [[psysml:f240402e-e520-4bd4-a2fa-a40388aadc9d ]] {\r\n",
       "}\r\n",
       "comp usage \"porig1\" as E4  <<(T,blue) port>> [[psysml:fb61bd91-52ec-4d42-be8a-ef485ce794d8 ]] {\r\n",
       "}\r\n",
       "comp usage \"p1: P1\" as E5  <<(T,blue) part>> [[psysml:66a2f39c-c11d-47e1-a04e-46a9b54c38c0 ]] {\r\n",
       "}\r\n",
       "comp usage \"po1\" as E6  <<(T,blue) port>> [[psysml:1cf4d29b-7212-465e-9bfc-2d9d3c47093a ]] {\r\n",
       "}\r\n",
       "comp usage \"p2: P1\" as E7  <<(T,blue) part>> [[psysml:d750b59a-5fb4-49de-a141-6edbceed9fe9 ]] {\r\n",
       "}\r\n",
       "comp usage \"pdest\" as E8  <<(T,blue) port>> [[psysml:1ab4a2c7-e640-4092-b309-d8474ba4cc31 ]] {\r\n",
       "}\r\n",
       "}\r\n",
       "E3 o- - \"1\"E4 [[psysml:b0a1a3b9-a387-42d1-a567-e540cd2e1d19 ]] \r\n",
       "E3 +.. \"1\"E4 [[psysml:b116cd08-9727-4fd8-b1d3-1b9f6deb041c ]] \r\n",
       "E5 - -:|> E3 [[psysml:b60c9595-85bf-4c72-aa43-c7c5a3162c28 ]] \r\n",
       "E5 o- - \"1\"E6 [[psysml:5e5f570b-f88f-4e5d-bde6-a1031949a59c ]] \r\n",
       "E6 - -||> E4 [[psysml:ccd9da30-2bd5-4e38-bf20-b9f9621d2107 ]] \r\n",
       "E7 - -:|> E3 [[psysml:8fc3f931-75e6-473d-9c07-27a38ec18c6d ]] \r\n",
       "E7 o- - \"1\"E8 [[psysml:36a32e90-a022-4c42-9b64-7c79f5d1d72c ]] \r\n",
       "E7 +.. \"1\"E8 [[psysml:346ab8ae-1d2f-462f-a94e-fae0b61189bf ]] \r\n",
       "E6 -[thickness=3]- \"*\"E8 [[psysml:eaab9895-3808-4b7e-ad70-425cb7403c1b ]] \r\n",
       "E6 -[thickness=3]- \"*\"E8 [[psysml:18885de6-563e-4dd2-a418-c135b5ffccd4 ]] \r\n",
       "@enduml\r\n",
       "\n",
       "PlantUML version 1.2020.13(Sat Jun 13 12:26:38 UTC 2020)\n",
       "(EPL source distribution)\n",
       "Java Runtime: OpenJDK Runtime Environment\n",
       "JVM: OpenJDK 64-Bit Server VM\n",
       "Default Encoding: UTF-8\n",
       "Language: en\n",
       "Country: null\n",
       "--></g></svg>"
      ]
     },
     "execution_count": 29,
     "metadata": {},
     "output_type": "execute_result"
    }
   ],
   "source": [
    "%viz --style=\"STDCOLOR\" --view=\"MIXED\" \"AliasTest\""
   ]
  },
  {
   "cell_type": "code",
   "execution_count": 30,
   "id": "e236f225",
   "metadata": {
    "execution": {
     "iopub.execute_input": "2021-09-27T07:19:09.980103Z",
     "iopub.status.busy": "2021-09-27T07:19:09.979673Z",
     "iopub.status.idle": "2021-09-27T07:19:10.042837Z",
     "shell.execute_reply": "2021-09-27T07:19:10.042472Z"
    }
   },
   "outputs": [
    {
     "data": {
      "image/svg+xml": [
       "<?xml version=\"1.0\" encoding=\"UTF-8\" standalone=\"no\"?><svg xmlns=\"http://www.w3.org/2000/svg\" xmlns:xlink=\"http://www.w3.org/1999/xlink\" contentScriptType=\"application/ecmascript\" contentStyleType=\"text/css\" height=\"327px\" preserveAspectRatio=\"none\" style=\"width:381px;height:327px;\" version=\"1.1\" viewBox=\"0 0 381 327\" width=\"381px\" zoomAndPan=\"magnify\"><defs><filter height=\"300%\" id=\"f1kn46984ba92s\" width=\"300%\" x=\"-1\" y=\"-1\"><feGaussianBlur result=\"blurOut\" stdDeviation=\"2.0\"/><feColorMatrix in=\"blurOut\" result=\"blurOut2\" type=\"matrix\" values=\"0 0 0 0 0 0 0 0 0 0 0 0 0 0 0 0 0 0 .4 0\"/><feOffset dx=\"4.0\" dy=\"4.0\" in=\"blurOut2\" result=\"blurOut3\"/><feBlend in=\"SourceGraphic\" in2=\"blurOut3\" mode=\"normal\"/></filter></defs><g><!--MD5=[fbc87193dbaf4d95561dea2c320d4a47]\n",
       "cluster E1--><a href=\"psysml:abede473-ce86-4cf2-9b0f-bcad92dda7df\" target=\"_top\" title=\"psysml:abede473-ce86-4cf2-9b0f-bcad92dda7df\" xlink:actuate=\"onRequest\" xlink:href=\"psysml:abede473-ce86-4cf2-9b0f-bcad92dda7df\" xlink:show=\"new\" xlink:title=\"psysml:abede473-ce86-4cf2-9b0f-bcad92dda7df\" xlink:type=\"simple\"><polygon fill=\"#FFFFFF\" filter=\"url(#f1kn46984ba92s)\" points=\"16,6,84,6,91,28.2969,359,28.2969,359,315,16,315,16,6\" style=\"stroke: #000000; stroke-width: 1.5;\"/><line style=\"stroke: #000000; stroke-width: 1.5;\" x1=\"16\" x2=\"91\" y1=\"28.2969\" y2=\"28.2969\"/><text fill=\"#000000\" font-family=\"sans-serif\" font-size=\"14\" font-weight=\"bold\" lengthAdjust=\"spacingAndGlyphs\" textLength=\"62\" x=\"20\" y=\"20.9951\">AliasTest</text></a><!--MD5=[b4997ac47864f28c2f74865a473b2911]\n",
       "class E2--><a href=\"psysml:84563fde-fc3c-4caa-a0d2-03a4409edda3\" target=\"_top\" title=\"psysml:84563fde-fc3c-4caa-a0d2-03a4409edda3\" xlink:actuate=\"onRequest\" xlink:href=\"psysml:84563fde-fc3c-4caa-a0d2-03a4409edda3\" xlink:show=\"new\" xlink:title=\"psysml:84563fde-fc3c-4caa-a0d2-03a4409edda3\" xlink:type=\"simple\"><rect fill=\"#FEFECE\" filter=\"url(#f1kn46984ba92s)\" height=\"45.9375\" id=\"E2\" rx=\"10\" ry=\"10\" style=\"stroke: #A80036; stroke-width: 1.5;\" width=\"97\" x=\"246.5\" y=\"41\"/><ellipse cx=\"261.5\" cy=\"59.9688\" fill=\"#FFA500\" rx=\"11\" ry=\"11\" style=\"stroke: #A80036; stroke-width: 1.0;\"/><path d=\"M261.25,65.4375 Q259.5,65.4375 258.5469,64.4063 Q257.6094,63.3594 257.6094,61.5156 L257.6094,54.625 L259.6719,54.625 L259.6719,54.7813 Q259.5781,54.875 259.5469,55.0156 Q259.5313,55.1406 259.5313,55.4063 L259.5313,61.5313 Q259.5313,62.625 259.9063,63.25 Q260.2813,63.875 261.2656,63.875 Q262.25,63.875 262.6406,63.25 Q263.0313,62.625 263.0313,61.4844 L263.0313,54.625 L264.9063,54.625 L264.9063,61.4688 Q264.9063,63.5 263.875,64.4688 Q262.8594,65.4375 261.25,65.4375 Z \"/><text fill=\"#000000\" font-family=\"sans-serif\" font-size=\"12\" font-style=\"italic\" lengthAdjust=\"spacingAndGlyphs\" textLength=\"69\" x=\"273.5\" y=\"57.1387\">«attribute»</text><text fill=\"#000000\" font-family=\"sans-serif\" font-size=\"12\" lengthAdjust=\"spacingAndGlyphs\" textLength=\"8\" x=\"304\" y=\"71.1074\">q</text><line style=\"stroke: #A80036; stroke-width: 1.5;\" x1=\"247.5\" x2=\"342.5\" y1=\"78.9375\" y2=\"78.9375\"/></a><!--MD5=[09b614a08d8cba4a07c9adeb5e0fee81]\n",
       "class E3--><a href=\"psysml:f240402e-e520-4bd4-a2fa-a40388aadc9d\" target=\"_top\" title=\"psysml:f240402e-e520-4bd4-a2fa-a40388aadc9d\" xlink:actuate=\"onRequest\" xlink:href=\"psysml:f240402e-e520-4bd4-a2fa-a40388aadc9d\" xlink:show=\"new\" xlink:title=\"psysml:f240402e-e520-4bd4-a2fa-a40388aadc9d\" xlink:type=\"simple\"><rect fill=\"#FEFECE\" filter=\"url(#f1kn46984ba92s)\" height=\"40\" id=\"E3\" style=\"stroke: #A80036; stroke-width: 1.5;\" width=\"48\" x=\"207\" y=\"150\"/><ellipse cx=\"222\" cy=\"166\" fill=\"#008000\" rx=\"11\" ry=\"11\" style=\"stroke: #A80036; stroke-width: 1.0;\"/><path d=\"M218.875,171 L218.875,160.4063 L222.1094,160.4063 Q224.0156,160.4063 224.9219,161.1563 Q225.8438,161.9063 225.8438,163.0781 Q225.8438,163.7656 225.4531,164.4219 Q225.0781,165.0781 224.3594,165.375 Q225.2188,165.75 225.7344,166.4375 Q226.25,167.125 226.25,167.9375 Q226.25,169.3125 225.2188,170.1563 Q224.2031,171 222.0938,171 L218.875,171 Z M220.7969,164.6406 L221.9531,164.6406 Q223.0781,164.6406 223.4844,164.2656 Q223.9063,163.875 223.9063,163.25 Q223.9063,162.6719 223.4844,162.3125 Q223.0625,161.9531 222.125,161.9531 L220.7969,161.9531 L220.7969,164.6406 Z M220.7969,169.4219 L222.2969,169.4219 Q223.2031,169.4219 223.7344,169.0313 Q224.2656,168.6406 224.2656,167.8906 Q224.2656,167.125 223.7656,166.6563 Q223.2656,166.1719 222,166.1719 L220.7969,166.1719 L220.7969,169.4219 Z \"/><text fill=\"#000000\" font-family=\"sans-serif\" font-size=\"12\" lengthAdjust=\"spacingAndGlyphs\" textLength=\"16\" x=\"236\" y=\"170.1543\">P1</text><line style=\"stroke: #A80036; stroke-width: 1.5;\" x1=\"208\" x2=\"254\" y1=\"182\" y2=\"182\"/></a><!--MD5=[ebbe1d658d1005bcc118a6aa81145e00]\n",
       "class E4--><a href=\"psysml:fb61bd91-52ec-4d42-be8a-ef485ce794d8\" target=\"_top\" title=\"psysml:fb61bd91-52ec-4d42-be8a-ef485ce794d8\" xlink:actuate=\"onRequest\" xlink:href=\"psysml:fb61bd91-52ec-4d42-be8a-ef485ce794d8\" xlink:show=\"new\" xlink:title=\"psysml:fb61bd91-52ec-4d42-be8a-ef485ce794d8\" xlink:type=\"simple\"><rect fill=\"#FEFECE\" filter=\"url(#f1kn46984ba92s)\" height=\"45.9375\" id=\"E4\" rx=\"10\" ry=\"10\" style=\"stroke: #A80036; stroke-width: 1.5;\" width=\"72\" x=\"195\" y=\"253\"/><ellipse cx=\"210\" cy=\"271.9688\" fill=\"#0000FF\" rx=\"11\" ry=\"11\" style=\"stroke: #A80036; stroke-width: 1.0;\"/><path d=\"M206.8125,276.9688 L206.8125,266.375 L210.4219,266.375 Q211.6406,266.375 212.4375,266.8125 Q213.2344,267.2344 213.6094,267.9375 Q214,268.6406 214,269.4844 Q214,270.3281 213.625,271.0156 Q213.2656,271.7031 212.4688,272.125 Q211.6875,272.5313 210.5,272.5313 L208.7656,272.5313 L208.7656,276.9688 L206.8125,276.9688 Z M208.7656,270.9375 L210.375,270.9375 Q211.1875,270.9375 211.6094,270.5313 Q212.0313,270.125 212.0313,269.4844 Q212.0313,268.8594 211.6094,268.4531 Q211.1875,268.0469 210.3906,268.0469 L208.7656,268.0469 L208.7656,270.9375 Z \"/><text fill=\"#000000\" font-family=\"sans-serif\" font-size=\"12\" font-style=\"italic\" lengthAdjust=\"spacingAndGlyphs\" textLength=\"40\" x=\"224\" y=\"269.1387\">«port»</text><text fill=\"#000000\" font-family=\"sans-serif\" font-size=\"12\" lengthAdjust=\"spacingAndGlyphs\" textLength=\"40\" x=\"224\" y=\"283.1074\">porig1</text><line style=\"stroke: #A80036; stroke-width: 1.5;\" x1=\"196\" x2=\"266\" y1=\"290.9375\" y2=\"290.9375\"/></a><!--MD5=[270fce915f116d4de14055a7c1d9a0f3]\n",
       "class E5--><a href=\"psysml:66a2f39c-c11d-47e1-a04e-46a9b54c38c0\" target=\"_top\" title=\"psysml:66a2f39c-c11d-47e1-a04e-46a9b54c38c0\" xlink:actuate=\"onRequest\" xlink:href=\"psysml:66a2f39c-c11d-47e1-a04e-46a9b54c38c0\" xlink:show=\"new\" xlink:title=\"psysml:66a2f39c-c11d-47e1-a04e-46a9b54c38c0\" xlink:type=\"simple\"><rect fill=\"#FEFECE\" filter=\"url(#f1kn46984ba92s)\" height=\"45.9375\" id=\"E5\" rx=\"10\" ry=\"10\" style=\"stroke: #A80036; stroke-width: 1.5;\" width=\"72\" x=\"139\" y=\"41\"/><ellipse cx=\"154\" cy=\"59.9688\" fill=\"#32CD32\" rx=\"11\" ry=\"11\" style=\"stroke: #A80036; stroke-width: 1.0;\"/><path d=\"M150.8125,64.9688 L150.8125,54.375 L154.4219,54.375 Q155.6406,54.375 156.4375,54.8125 Q157.2344,55.2344 157.6094,55.9375 Q158,56.6406 158,57.4844 Q158,58.3281 157.625,59.0156 Q157.2656,59.7031 156.4688,60.125 Q155.6875,60.5313 154.5,60.5313 L152.7656,60.5313 L152.7656,64.9688 L150.8125,64.9688 Z M152.7656,58.9375 L154.375,58.9375 Q155.1875,58.9375 155.6094,58.5313 Q156.0313,58.125 156.0313,57.4844 Q156.0313,56.8594 155.6094,56.4531 Q155.1875,56.0469 154.3906,56.0469 L152.7656,56.0469 L152.7656,58.9375 Z \"/><text fill=\"#000000\" font-family=\"sans-serif\" font-size=\"12\" font-style=\"italic\" lengthAdjust=\"spacingAndGlyphs\" textLength=\"40\" x=\"168\" y=\"57.1387\">«part»</text><text fill=\"#000000\" font-family=\"sans-serif\" font-size=\"12\" lengthAdjust=\"spacingAndGlyphs\" textLength=\"40\" x=\"168\" y=\"71.1074\">p1: P1</text><line style=\"stroke: #A80036; stroke-width: 1.5;\" x1=\"140\" x2=\"210\" y1=\"78.9375\" y2=\"78.9375\"/></a><!--MD5=[60a26617385b1d2d0262a64233df1f8d]\n",
       "class E6--><a href=\"psysml:1cf4d29b-7212-465e-9bfc-2d9d3c47093a\" target=\"_top\" title=\"psysml:1cf4d29b-7212-465e-9bfc-2d9d3c47093a\" xlink:actuate=\"onRequest\" xlink:href=\"psysml:1cf4d29b-7212-465e-9bfc-2d9d3c47093a\" xlink:show=\"new\" xlink:title=\"psysml:1cf4d29b-7212-465e-9bfc-2d9d3c47093a\" xlink:type=\"simple\"><rect fill=\"#FEFECE\" filter=\"url(#f1kn46984ba92s)\" height=\"45.9375\" id=\"E6\" rx=\"10\" ry=\"10\" style=\"stroke: #A80036; stroke-width: 1.5;\" width=\"68\" x=\"104\" y=\"147\"/><ellipse cx=\"119\" cy=\"165.9688\" fill=\"#0000FF\" rx=\"11\" ry=\"11\" style=\"stroke: #A80036; stroke-width: 1.0;\"/><path d=\"M115.8125,170.9688 L115.8125,160.375 L119.4219,160.375 Q120.6406,160.375 121.4375,160.8125 Q122.2344,161.2344 122.6094,161.9375 Q123,162.6406 123,163.4844 Q123,164.3281 122.625,165.0156 Q122.2656,165.7031 121.4688,166.125 Q120.6875,166.5313 119.5,166.5313 L117.7656,166.5313 L117.7656,170.9688 L115.8125,170.9688 Z M117.7656,164.9375 L119.375,164.9375 Q120.1875,164.9375 120.6094,164.5313 Q121.0313,164.125 121.0313,163.4844 Q121.0313,162.8594 120.6094,162.4531 Q120.1875,162.0469 119.3906,162.0469 L117.7656,162.0469 L117.7656,164.9375 Z \"/><text fill=\"#000000\" font-family=\"sans-serif\" font-size=\"12\" font-style=\"italic\" lengthAdjust=\"spacingAndGlyphs\" textLength=\"40\" x=\"131\" y=\"163.1387\">«port»</text><text fill=\"#000000\" font-family=\"sans-serif\" font-size=\"12\" lengthAdjust=\"spacingAndGlyphs\" textLength=\"24\" x=\"139\" y=\"177.1074\">po1</text><line style=\"stroke: #A80036; stroke-width: 1.5;\" x1=\"105\" x2=\"171\" y1=\"184.9375\" y2=\"184.9375\"/></a><!--MD5=[2156ba9850f5573cc1fc38a6a4b2f02b]\n",
       "class E7--><a href=\"psysml:d750b59a-5fb4-49de-a141-6edbceed9fe9\" target=\"_top\" title=\"psysml:d750b59a-5fb4-49de-a141-6edbceed9fe9\" xlink:actuate=\"onRequest\" xlink:href=\"psysml:d750b59a-5fb4-49de-a141-6edbceed9fe9\" xlink:show=\"new\" xlink:title=\"psysml:d750b59a-5fb4-49de-a141-6edbceed9fe9\" xlink:type=\"simple\"><rect fill=\"#FEFECE\" filter=\"url(#f1kn46984ba92s)\" height=\"45.9375\" id=\"E7\" rx=\"10\" ry=\"10\" style=\"stroke: #A80036; stroke-width: 1.5;\" width=\"72\" x=\"32\" y=\"41\"/><ellipse cx=\"47\" cy=\"59.9688\" fill=\"#32CD32\" rx=\"11\" ry=\"11\" style=\"stroke: #A80036; stroke-width: 1.0;\"/><path d=\"M43.8125,64.9688 L43.8125,54.375 L47.4219,54.375 Q48.6406,54.375 49.4375,54.8125 Q50.2344,55.2344 50.6094,55.9375 Q51,56.6406 51,57.4844 Q51,58.3281 50.625,59.0156 Q50.2656,59.7031 49.4688,60.125 Q48.6875,60.5313 47.5,60.5313 L45.7656,60.5313 L45.7656,64.9688 L43.8125,64.9688 Z M45.7656,58.9375 L47.375,58.9375 Q48.1875,58.9375 48.6094,58.5313 Q49.0313,58.125 49.0313,57.4844 Q49.0313,56.8594 48.6094,56.4531 Q48.1875,56.0469 47.3906,56.0469 L45.7656,56.0469 L45.7656,58.9375 Z \"/><text fill=\"#000000\" font-family=\"sans-serif\" font-size=\"12\" font-style=\"italic\" lengthAdjust=\"spacingAndGlyphs\" textLength=\"40\" x=\"61\" y=\"57.1387\">«part»</text><text fill=\"#000000\" font-family=\"sans-serif\" font-size=\"12\" lengthAdjust=\"spacingAndGlyphs\" textLength=\"40\" x=\"61\" y=\"71.1074\">p2: P1</text><line style=\"stroke: #A80036; stroke-width: 1.5;\" x1=\"33\" x2=\"103\" y1=\"78.9375\" y2=\"78.9375\"/></a><!--MD5=[b9389687b975829384b498ac4b7476b2]\n",
       "class E8--><a href=\"psysml:1ab4a2c7-e640-4092-b309-d8474ba4cc31\" target=\"_top\" title=\"psysml:1ab4a2c7-e640-4092-b309-d8474ba4cc31\" xlink:actuate=\"onRequest\" xlink:href=\"psysml:1ab4a2c7-e640-4092-b309-d8474ba4cc31\" xlink:show=\"new\" xlink:title=\"psysml:1ab4a2c7-e640-4092-b309-d8474ba4cc31\" xlink:type=\"simple\"><rect fill=\"#FEFECE\" filter=\"url(#f1kn46984ba92s)\" height=\"45.9375\" id=\"E8\" rx=\"10\" ry=\"10\" style=\"stroke: #A80036; stroke-width: 1.5;\" width=\"68\" x=\"63\" y=\"253\"/><ellipse cx=\"78\" cy=\"271.9688\" fill=\"#0000FF\" rx=\"11\" ry=\"11\" style=\"stroke: #A80036; stroke-width: 1.0;\"/><path d=\"M74.8125,276.9688 L74.8125,266.375 L78.4219,266.375 Q79.6406,266.375 80.4375,266.8125 Q81.2344,267.2344 81.6094,267.9375 Q82,268.6406 82,269.4844 Q82,270.3281 81.625,271.0156 Q81.2656,271.7031 80.4688,272.125 Q79.6875,272.5313 78.5,272.5313 L76.7656,272.5313 L76.7656,276.9688 L74.8125,276.9688 Z M76.7656,270.9375 L78.375,270.9375 Q79.1875,270.9375 79.6094,270.5313 Q80.0313,270.125 80.0313,269.4844 Q80.0313,268.8594 79.6094,268.4531 Q79.1875,268.0469 78.3906,268.0469 L76.7656,268.0469 L76.7656,270.9375 Z \"/><text fill=\"#000000\" font-family=\"sans-serif\" font-size=\"12\" font-style=\"italic\" lengthAdjust=\"spacingAndGlyphs\" textLength=\"40\" x=\"90\" y=\"269.1387\">«port»</text><text fill=\"#000000\" font-family=\"sans-serif\" font-size=\"12\" lengthAdjust=\"spacingAndGlyphs\" textLength=\"36\" x=\"92\" y=\"283.1074\">pdest</text><line style=\"stroke: #A80036; stroke-width: 1.5;\" x1=\"64\" x2=\"130\" y1=\"290.9375\" y2=\"290.9375\"/></a><!--MD5=[4672eba38e49728da53d11aeb285b987]\n",
       "reverse link E3 to E4--><a href=\"psysml:b0a1a3b9-a387-42d1-a567-e540cd2e1d19\" target=\"_top\" title=\"psysml:b0a1a3b9-a387-42d1-a567-e540cd2e1d19\" xlink:actuate=\"onRequest\" xlink:href=\"psysml:b0a1a3b9-a387-42d1-a567-e540cd2e1d19\" xlink:show=\"new\" xlink:title=\"psysml:b0a1a3b9-a387-42d1-a567-e540cd2e1d19\" xlink:type=\"simple\"><path d=\"M219.1,203.25 C217.65,219.33 218.05,238.37 220.33,252.8 \" fill=\"none\" id=\"E3&lt;-E4\" style=\"stroke: #A80036; stroke-width: 1.0;\"/><polygon fill=\"#FFFFFF\" points=\"220.87,190.08,216.1137,195.5001,219.2875,201.9752,224.0438,196.5551,220.87,190.08\" style=\"stroke: #A80036; stroke-width: 1.0;\"/><text fill=\"#000000\" font-family=\"sans-serif\" font-size=\"13\" lengthAdjust=\"spacingAndGlyphs\" textLength=\"8\" x=\"208.5708\" y=\"242.025\">1</text></a><!--MD5=[4672eba38e49728da53d11aeb285b987]\n",
       "reverse link E3 to E4--><a href=\"psysml:b116cd08-9727-4fd8-b1d3-1b9f6deb041c\" target=\"_top\" title=\"psysml:b116cd08-9727-4fd8-b1d3-1b9f6deb041c\" xlink:actuate=\"onRequest\" xlink:href=\"psysml:b116cd08-9727-4fd8-b1d3-1b9f6deb041c\" xlink:show=\"new\" xlink:title=\"psysml:b116cd08-9727-4fd8-b1d3-1b9f6deb041c\" xlink:type=\"simple\"><path d=\"M243.77,205.22 C245.1,220.87 244.61,238.96 242.3,252.8 \" fill=\"none\" id=\"E3&lt;-E4-1\" style=\"stroke: #A80036; stroke-width: 1.0; stroke-dasharray: 7.0,7.0;\"/><ellipse cx=\"242.7963\" cy=\"198.0086\" fill=\"#FFFFFF\" rx=\"8\" ry=\"8\" style=\"stroke: #A80036; stroke-width: 1.0;\"/><line style=\"stroke: #A80036; stroke-width: 1.0;\" x1=\"243.8626\" x2=\"241.73\" y1=\"205.9372\" y2=\"190.08\"/><line style=\"stroke: #A80036; stroke-width: 1.0;\" x1=\"234.8677\" x2=\"250.7249\" y1=\"199.0749\" y2=\"196.9423\"/><text fill=\"#000000\" font-family=\"sans-serif\" font-size=\"13\" lengthAdjust=\"spacingAndGlyphs\" textLength=\"8\" x=\"236.1706\" y=\"242.025\">1</text></a><!--MD5=[e9be52314489bd878ff4c7144b63c9e1]\n",
       "link E5 to E3--><a href=\"psysml:b60c9595-85bf-4c72-aa43-c7c5a3162c28\" target=\"_top\" title=\"psysml:b60c9595-85bf-4c72-aa43-c7c5a3162c28\" xlink:actuate=\"onRequest\" xlink:href=\"psysml:b60c9595-85bf-4c72-aa43-c7c5a3162c28\" xlink:show=\"new\" xlink:title=\"psysml:b60c9595-85bf-4c72-aa43-c7c5a3162c28\" xlink:type=\"simple\"><path d=\"M186.88,87.06 C193.92,100.14 203.03,117.05 211.14,132.11 \" fill=\"none\" id=\"E5-&gt;E3\" style=\"stroke: #A80036; stroke-width: 1.0;\"/><polygon fill=\"#FFFFFF\" points=\"220.65,149.77,205.4866,136.3509,217.817,129.7207,220.65,149.77\" style=\"stroke: #A80036; stroke-width: 1.0;\"/><ellipse cx=\"204.5486\" cy=\"130.3835\" fill=\"#A80036\" rx=\"2\" ry=\"2\" style=\"stroke: #A80036; stroke-width: 1.0;\"/><ellipse cx=\"213.3561\" cy=\"125.6476\" fill=\"#A80036\" rx=\"2\" ry=\"2\" style=\"stroke: #A80036; stroke-width: 1.0;\"/></a><!--MD5=[85d356282659285ab4b2cfe2f634dd2b]\n",
       "reverse link E5 to E6--><a href=\"psysml:5e5f570b-f88f-4e5d-bde6-a1031949a59c\" target=\"_top\" title=\"psysml:5e5f570b-f88f-4e5d-bde6-a1031949a59c\" xlink:actuate=\"onRequest\" xlink:href=\"psysml:5e5f570b-f88f-4e5d-bde6-a1031949a59c\" xlink:show=\"new\" xlink:title=\"psysml:5e5f570b-f88f-4e5d-bde6-a1031949a59c\" xlink:type=\"simple\"><path d=\"M162.73,99.49 C157.16,115.15 150.74,133.19 145.84,146.98 \" fill=\"none\" id=\"E5&lt;-E6\" style=\"stroke: #A80036; stroke-width: 1.0;\"/><polygon fill=\"#FFFFFF\" points=\"167.15,87.06,161.3698,91.3715,163.1265,98.3654,168.9067,94.0539,167.15,87.06\" style=\"stroke: #A80036; stroke-width: 1.0;\"/><text fill=\"#000000\" font-family=\"sans-serif\" font-size=\"13\" lengthAdjust=\"spacingAndGlyphs\" textLength=\"8\" x=\"138.872\" y=\"135.8709\">1</text></a><!--MD5=[f667431f98296947986a1a7595a31603]\n",
       "link E6 to E4--><a href=\"psysml:ccd9da30-2bd5-4e38-bf20-b9f9621d2107\" target=\"_top\" title=\"psysml:ccd9da30-2bd5-4e38-bf20-b9f9621d2107\" xlink:actuate=\"onRequest\" xlink:href=\"psysml:ccd9da30-2bd5-4e38-bf20-b9f9621d2107\" xlink:show=\"new\" xlink:title=\"psysml:ccd9da30-2bd5-4e38-bf20-b9f9621d2107\" xlink:type=\"simple\"><path d=\"M157.72,193.06 C169.31,206.02 184.27,222.74 197.65,237.7 \" fill=\"none\" id=\"E6-&gt;E4\" style=\"stroke: #A80036; stroke-width: 1.0;\"/><polygon fill=\"#FFFFFF\" points=\"211.31,252.98,193.4253,243.486,203.8597,234.152,211.31,252.98\" style=\"stroke: #A80036; stroke-width: 1.0;\"/><line style=\"stroke: #A80036; stroke-width: 2.0;\" x1=\"190.8918\" x2=\"201.3262\" y1=\"240.6538\" y2=\"231.3198\"/></a><!--MD5=[14ccda38c055a5c0da953d572bc50960]\n",
       "link E7 to E3--><a href=\"psysml:8fc3f931-75e6-473d-9c07-27a38ec18c6d\" target=\"_top\" title=\"psysml:8fc3f931-75e6-473d-9c07-27a38ec18c6d\" xlink:actuate=\"onRequest\" xlink:href=\"psysml:8fc3f931-75e6-473d-9c07-27a38ec18c6d\" xlink:show=\"new\" xlink:title=\"psysml:8fc3f931-75e6-473d-9c07-27a38ec18c6d\" xlink:type=\"simple\"><path d=\"M102.57,87.06 C127.93,103.24 162.49,125.29 189.37,142.44 \" fill=\"none\" id=\"E7-&gt;E3\" style=\"stroke: #A80036; stroke-width: 1.0;\"/><polygon fill=\"#FFFFFF\" points=\"206.54,153.39,186.7577,149.0701,194.2889,137.2683,206.54,153.39\" style=\"stroke: #A80036; stroke-width: 1.0;\"/><ellipse cx=\"183.0286\" cy=\"144.3178\" fill=\"#A80036\" rx=\"2\" ry=\"2\" style=\"stroke: #A80036; stroke-width: 1.0;\"/><ellipse cx=\"188.408\" cy=\"135.888\" fill=\"#A80036\" rx=\"2\" ry=\"2\" style=\"stroke: #A80036; stroke-width: 1.0;\"/></a><!--MD5=[dc164f5e8a733ab456ef1add180e9e34]\n",
       "reverse link E7 to E8--><a href=\"psysml:36a32e90-a022-4c42-9b64-7c79f5d1d72c\" target=\"_top\" title=\"psysml:36a32e90-a022-4c42-9b64-7c79f5d1d72c\" xlink:actuate=\"onRequest\" xlink:href=\"psysml:36a32e90-a022-4c42-9b64-7c79f5d1d72c\" xlink:show=\"new\" xlink:title=\"psysml:36a32e90-a022-4c42-9b64-7c79f5d1d72c\" xlink:type=\"simple\"><path d=\"M63.05,100.09 C64.65,143.61 75.25,216.5 85.75,252.9 \" fill=\"none\" id=\"E7&lt;-E8\" style=\"stroke: #A80036; stroke-width: 1.0;\"/><polygon fill=\"#FFFFFF\" points=\"62.85,87.08,58.9362,93.1366,63.0216,99.0788,66.9354,93.0222,62.85,87.08\" style=\"stroke: #A80036; stroke-width: 1.0;\"/><text fill=\"#000000\" font-family=\"sans-serif\" font-size=\"13\" lengthAdjust=\"spacingAndGlyphs\" textLength=\"8\" x=\"73.6516\" y=\"241.7694\">1</text></a><!--MD5=[dc164f5e8a733ab456ef1add180e9e34]\n",
       "reverse link E7 to E8--><a href=\"psysml:346ab8ae-1d2f-462f-a94e-fae0b61189bf\" target=\"_top\" title=\"psysml:346ab8ae-1d2f-462f-a94e-fae0b61189bf\" xlink:actuate=\"onRequest\" xlink:href=\"psysml:346ab8ae-1d2f-462f-a94e-fae0b61189bf\" xlink:show=\"new\" xlink:title=\"psysml:346ab8ae-1d2f-462f-a94e-fae0b61189bf\" xlink:type=\"simple\"><path d=\"M83.64,101.8 C94.15,145.5 103.39,216.97 102.63,252.9 \" fill=\"none\" id=\"E7&lt;-E8-1\" style=\"stroke: #A80036; stroke-width: 1.0; stroke-dasharray: 7.0,7.0;\"/><ellipse cx=\"81.7794\" cy=\"94.813\" fill=\"#FFFFFF\" rx=\"8\" ry=\"8\" style=\"stroke: #A80036; stroke-width: 1.0;\"/><line style=\"stroke: #A80036; stroke-width: 1.0;\" x1=\"83.8289\" x2=\"79.73\" y1=\"102.5461\" y2=\"87.08\"/><line style=\"stroke: #A80036; stroke-width: 1.0;\" x1=\"74.0464\" x2=\"89.5125\" y1=\"96.8625\" y2=\"92.7636\"/><text fill=\"#000000\" font-family=\"sans-serif\" font-size=\"13\" lengthAdjust=\"spacingAndGlyphs\" textLength=\"8\" x=\"95.0681\" y=\"241.7694\">1</text></a><!--MD5=[0a839d0f80c2d72d4b9b307f046d0de8]\n",
       "link E6 to E8--><a href=\"psysml:eaab9895-3808-4b7e-ad70-425cb7403c1b\" target=\"_top\" title=\"psysml:eaab9895-3808-4b7e-ad70-425cb7403c1b\" xlink:actuate=\"onRequest\" xlink:href=\"psysml:eaab9895-3808-4b7e-ad70-425cb7403c1b\" xlink:show=\"new\" xlink:title=\"psysml:eaab9895-3808-4b7e-ad70-425cb7403c1b\" xlink:type=\"simple\"><path d=\"M118.66,193.06 C108.89,210.7 99.19,235.34 95.04,252.98 \" fill=\"none\" id=\"E6-E8\" style=\"stroke: #A80036; stroke-width: 3.0;\"/><text fill=\"#000000\" font-family=\"sans-serif\" font-size=\"13\" lengthAdjust=\"spacingAndGlyphs\" textLength=\"7\" x=\"86.5726\" y=\"241.8709\">*</text></a><!--MD5=[0a839d0f80c2d72d4b9b307f046d0de8]\n",
       "link E6 to E8--><a href=\"psysml:18885de6-563e-4dd2-a418-c135b5ffccd4\" target=\"_top\" title=\"psysml:18885de6-563e-4dd2-a418-c135b5ffccd4\" xlink:actuate=\"onRequest\" xlink:href=\"psysml:18885de6-563e-4dd2-a418-c135b5ffccd4\" xlink:show=\"new\" xlink:title=\"psysml:18885de6-563e-4dd2-a418-c135b5ffccd4\" xlink:type=\"simple\"><path d=\"M140.58,193.06 C136.59,210.7 126.88,235.34 116.95,252.98 \" fill=\"none\" id=\"E6-E8-1\" style=\"stroke: #A80036; stroke-width: 3.0;\"/><text fill=\"#000000\" font-family=\"sans-serif\" font-size=\"13\" lengthAdjust=\"spacingAndGlyphs\" textLength=\"7\" x=\"114.3709\" y=\"241.8709\">*</text></a><!--MD5=[73286a827d89cbf3ebf79e42c7ae5ddd]\n",
       "@startuml\r\n",
       " \r\n",
       "package \"AliasTest\" as E1  [[psysml:abede473-ce86-4cf2-9b0f-bcad92dda7df ]]  {\r\n",
       "comp usage \"q\" as E2 << <<(U,orange) attribute>> [[psysml:84563fde-fc3c-4caa-a0d2-03a4409edda3 ]] {\r\n",
       "}\r\n",
       "comp def \"P1\" as E3 << << (B,green) >> [[psysml:f240402e-e520-4bd4-a2fa-a40388aadc9d ]] {\r\n",
       "}\r\n",
       "comp usage \"porig1\" as E4 << << (P,blue) port>> [[psysml:fb61bd91-52ec-4d42-be8a-ef485ce794d8 ]] {\r\n",
       "}\r\n",
       "comp usage \"p1: P1\" as E5 << << (P,limegreen) part>> [[psysml:66a2f39c-c11d-47e1-a04e-46a9b54c38c0 ]] {\r\n",
       "}\r\n",
       "comp usage \"po1\" as E6 << << (P,blue) port>> [[psysml:1cf4d29b-7212-465e-9bfc-2d9d3c47093a ]] {\r\n",
       "}\r\n",
       "comp usage \"p2: P1\" as E7 << << (P,limegreen) part>> [[psysml:d750b59a-5fb4-49de-a141-6edbceed9fe9 ]] {\r\n",
       "}\r\n",
       "comp usage \"pdest\" as E8 << << (P,blue) port>> [[psysml:1ab4a2c7-e640-4092-b309-d8474ba4cc31 ]] {\r\n",
       "}\r\n",
       "}\r\n",
       "E3 o- - \"1\"E4 [[psysml:b0a1a3b9-a387-42d1-a567-e540cd2e1d19 ]] \r\n",
       "E3 +.. \"1\"E4 [[psysml:b116cd08-9727-4fd8-b1d3-1b9f6deb041c ]] \r\n",
       "E5 - -:|> E3 [[psysml:b60c9595-85bf-4c72-aa43-c7c5a3162c28 ]] \r\n",
       "E5 o- - \"1\"E6 [[psysml:5e5f570b-f88f-4e5d-bde6-a1031949a59c ]] \r\n",
       "E6 - -||> E4 [[psysml:ccd9da30-2bd5-4e38-bf20-b9f9621d2107 ]] \r\n",
       "E7 - -:|> E3 [[psysml:8fc3f931-75e6-473d-9c07-27a38ec18c6d ]] \r\n",
       "E7 o- - \"1\"E8 [[psysml:36a32e90-a022-4c42-9b64-7c79f5d1d72c ]] \r\n",
       "E7 +.. \"1\"E8 [[psysml:346ab8ae-1d2f-462f-a94e-fae0b61189bf ]] \r\n",
       "E6 -[thickness=3]- \"*\"E8 [[psysml:eaab9895-3808-4b7e-ad70-425cb7403c1b ]] \r\n",
       "E6 -[thickness=3]- \"*\"E8 [[psysml:18885de6-563e-4dd2-a418-c135b5ffccd4 ]] \r\n",
       "@enduml\r\n",
       "\n",
       "PlantUML version 1.2020.13(Sat Jun 13 12:26:38 UTC 2020)\n",
       "(EPL source distribution)\n",
       "Java Runtime: OpenJDK Runtime Environment\n",
       "JVM: OpenJDK 64-Bit Server VM\n",
       "Default Encoding: UTF-8\n",
       "Language: en\n",
       "Country: null\n",
       "--></g></svg>"
      ]
     },
     "execution_count": 30,
     "metadata": {},
     "output_type": "execute_result"
    }
   ],
   "source": [
    "%viz --style=\"PLANTUML\" --view=\"Default\" \"AliasTest\""
   ]
  },
  {
   "cell_type": "code",
   "execution_count": 31,
   "id": "6ca5823a",
   "metadata": {
    "execution": {
     "iopub.execute_input": "2021-09-27T07:19:10.092539Z",
     "iopub.status.busy": "2021-09-27T07:19:10.092131Z",
     "iopub.status.idle": "2021-09-27T07:19:10.131058Z",
     "shell.execute_reply": "2021-09-27T07:19:10.129603Z"
    }
   },
   "outputs": [
    {
     "data": {
      "image/svg+xml": [
       "<?xml version=\"1.0\" encoding=\"UTF-8\" standalone=\"no\"?><svg xmlns=\"http://www.w3.org/2000/svg\" xmlns:xlink=\"http://www.w3.org/1999/xlink\" contentScriptType=\"application/ecmascript\" contentStyleType=\"text/css\" height=\"327px\" preserveAspectRatio=\"none\" style=\"width:381px;height:327px;\" version=\"1.1\" viewBox=\"0 0 381 327\" width=\"381px\" zoomAndPan=\"magnify\"><defs><filter height=\"300%\" id=\"f1kn46984ba92s\" width=\"300%\" x=\"-1\" y=\"-1\"><feGaussianBlur result=\"blurOut\" stdDeviation=\"2.0\"/><feColorMatrix in=\"blurOut\" result=\"blurOut2\" type=\"matrix\" values=\"0 0 0 0 0 0 0 0 0 0 0 0 0 0 0 0 0 0 .4 0\"/><feOffset dx=\"4.0\" dy=\"4.0\" in=\"blurOut2\" result=\"blurOut3\"/><feBlend in=\"SourceGraphic\" in2=\"blurOut3\" mode=\"normal\"/></filter></defs><g><!--MD5=[fbc87193dbaf4d95561dea2c320d4a47]\n",
       "cluster E1--><a href=\"psysml:abede473-ce86-4cf2-9b0f-bcad92dda7df\" target=\"_top\" title=\"psysml:abede473-ce86-4cf2-9b0f-bcad92dda7df\" xlink:actuate=\"onRequest\" xlink:href=\"psysml:abede473-ce86-4cf2-9b0f-bcad92dda7df\" xlink:show=\"new\" xlink:title=\"psysml:abede473-ce86-4cf2-9b0f-bcad92dda7df\" xlink:type=\"simple\"><polygon fill=\"#FFFFFF\" filter=\"url(#f1kn46984ba92s)\" points=\"16,6,84,6,91,28.2969,359,28.2969,359,315,16,315,16,6\" style=\"stroke: #000000; stroke-width: 1.5;\"/><line style=\"stroke: #000000; stroke-width: 1.5;\" x1=\"16\" x2=\"91\" y1=\"28.2969\" y2=\"28.2969\"/><text fill=\"#000000\" font-family=\"sans-serif\" font-size=\"14\" font-weight=\"bold\" lengthAdjust=\"spacingAndGlyphs\" textLength=\"62\" x=\"20\" y=\"20.9951\">AliasTest</text></a><!--MD5=[b4997ac47864f28c2f74865a473b2911]\n",
       "class E2--><a href=\"psysml:84563fde-fc3c-4caa-a0d2-03a4409edda3\" target=\"_top\" title=\"psysml:84563fde-fc3c-4caa-a0d2-03a4409edda3\" xlink:actuate=\"onRequest\" xlink:href=\"psysml:84563fde-fc3c-4caa-a0d2-03a4409edda3\" xlink:show=\"new\" xlink:title=\"psysml:84563fde-fc3c-4caa-a0d2-03a4409edda3\" xlink:type=\"simple\"><rect fill=\"#FEFECE\" filter=\"url(#f1kn46984ba92s)\" height=\"45.9375\" id=\"E2\" rx=\"10\" ry=\"10\" style=\"stroke: #A80036; stroke-width: 1.5;\" width=\"97\" x=\"246.5\" y=\"41\"/><ellipse cx=\"261.5\" cy=\"59.9688\" fill=\"#FFA500\" rx=\"11\" ry=\"11\" style=\"stroke: #A80036; stroke-width: 1.0;\"/><path d=\"M261.25,65.4375 Q259.5,65.4375 258.5469,64.4063 Q257.6094,63.3594 257.6094,61.5156 L257.6094,54.625 L259.6719,54.625 L259.6719,54.7813 Q259.5781,54.875 259.5469,55.0156 Q259.5313,55.1406 259.5313,55.4063 L259.5313,61.5313 Q259.5313,62.625 259.9063,63.25 Q260.2813,63.875 261.2656,63.875 Q262.25,63.875 262.6406,63.25 Q263.0313,62.625 263.0313,61.4844 L263.0313,54.625 L264.9063,54.625 L264.9063,61.4688 Q264.9063,63.5 263.875,64.4688 Q262.8594,65.4375 261.25,65.4375 Z \"/><text fill=\"#000000\" font-family=\"sans-serif\" font-size=\"12\" font-style=\"italic\" lengthAdjust=\"spacingAndGlyphs\" textLength=\"69\" x=\"273.5\" y=\"57.1387\">«attribute»</text><text fill=\"#000000\" font-family=\"sans-serif\" font-size=\"12\" lengthAdjust=\"spacingAndGlyphs\" textLength=\"8\" x=\"304\" y=\"71.1074\">q</text><line style=\"stroke: #A80036; stroke-width: 1.5;\" x1=\"247.5\" x2=\"342.5\" y1=\"78.9375\" y2=\"78.9375\"/></a><!--MD5=[09b614a08d8cba4a07c9adeb5e0fee81]\n",
       "class E3--><a href=\"psysml:f240402e-e520-4bd4-a2fa-a40388aadc9d\" target=\"_top\" title=\"psysml:f240402e-e520-4bd4-a2fa-a40388aadc9d\" xlink:actuate=\"onRequest\" xlink:href=\"psysml:f240402e-e520-4bd4-a2fa-a40388aadc9d\" xlink:show=\"new\" xlink:title=\"psysml:f240402e-e520-4bd4-a2fa-a40388aadc9d\" xlink:type=\"simple\"><rect fill=\"#FEFECE\" filter=\"url(#f1kn46984ba92s)\" height=\"40\" id=\"E3\" style=\"stroke: #A80036; stroke-width: 1.5;\" width=\"48\" x=\"207\" y=\"150\"/><ellipse cx=\"222\" cy=\"166\" fill=\"#008000\" rx=\"11\" ry=\"11\" style=\"stroke: #A80036; stroke-width: 1.0;\"/><path d=\"M218.875,171 L218.875,160.4063 L222.1094,160.4063 Q224.0156,160.4063 224.9219,161.1563 Q225.8438,161.9063 225.8438,163.0781 Q225.8438,163.7656 225.4531,164.4219 Q225.0781,165.0781 224.3594,165.375 Q225.2188,165.75 225.7344,166.4375 Q226.25,167.125 226.25,167.9375 Q226.25,169.3125 225.2188,170.1563 Q224.2031,171 222.0938,171 L218.875,171 Z M220.7969,164.6406 L221.9531,164.6406 Q223.0781,164.6406 223.4844,164.2656 Q223.9063,163.875 223.9063,163.25 Q223.9063,162.6719 223.4844,162.3125 Q223.0625,161.9531 222.125,161.9531 L220.7969,161.9531 L220.7969,164.6406 Z M220.7969,169.4219 L222.2969,169.4219 Q223.2031,169.4219 223.7344,169.0313 Q224.2656,168.6406 224.2656,167.8906 Q224.2656,167.125 223.7656,166.6563 Q223.2656,166.1719 222,166.1719 L220.7969,166.1719 L220.7969,169.4219 Z \"/><text fill=\"#000000\" font-family=\"sans-serif\" font-size=\"12\" lengthAdjust=\"spacingAndGlyphs\" textLength=\"16\" x=\"236\" y=\"170.1543\">P1</text><line style=\"stroke: #A80036; stroke-width: 1.5;\" x1=\"208\" x2=\"254\" y1=\"182\" y2=\"182\"/></a><!--MD5=[ebbe1d658d1005bcc118a6aa81145e00]\n",
       "class E4--><a href=\"psysml:fb61bd91-52ec-4d42-be8a-ef485ce794d8\" target=\"_top\" title=\"psysml:fb61bd91-52ec-4d42-be8a-ef485ce794d8\" xlink:actuate=\"onRequest\" xlink:href=\"psysml:fb61bd91-52ec-4d42-be8a-ef485ce794d8\" xlink:show=\"new\" xlink:title=\"psysml:fb61bd91-52ec-4d42-be8a-ef485ce794d8\" xlink:type=\"simple\"><rect fill=\"#FEFECE\" filter=\"url(#f1kn46984ba92s)\" height=\"45.9375\" id=\"E4\" rx=\"10\" ry=\"10\" style=\"stroke: #A80036; stroke-width: 1.5;\" width=\"72\" x=\"195\" y=\"253\"/><ellipse cx=\"210\" cy=\"271.9688\" fill=\"#0000FF\" rx=\"11\" ry=\"11\" style=\"stroke: #A80036; stroke-width: 1.0;\"/><path d=\"M206.8125,276.9688 L206.8125,266.375 L210.4219,266.375 Q211.6406,266.375 212.4375,266.8125 Q213.2344,267.2344 213.6094,267.9375 Q214,268.6406 214,269.4844 Q214,270.3281 213.625,271.0156 Q213.2656,271.7031 212.4688,272.125 Q211.6875,272.5313 210.5,272.5313 L208.7656,272.5313 L208.7656,276.9688 L206.8125,276.9688 Z M208.7656,270.9375 L210.375,270.9375 Q211.1875,270.9375 211.6094,270.5313 Q212.0313,270.125 212.0313,269.4844 Q212.0313,268.8594 211.6094,268.4531 Q211.1875,268.0469 210.3906,268.0469 L208.7656,268.0469 L208.7656,270.9375 Z \"/><text fill=\"#000000\" font-family=\"sans-serif\" font-size=\"12\" font-style=\"italic\" lengthAdjust=\"spacingAndGlyphs\" textLength=\"40\" x=\"224\" y=\"269.1387\">«port»</text><text fill=\"#000000\" font-family=\"sans-serif\" font-size=\"12\" lengthAdjust=\"spacingAndGlyphs\" textLength=\"40\" x=\"224\" y=\"283.1074\">porig1</text><line style=\"stroke: #A80036; stroke-width: 1.5;\" x1=\"196\" x2=\"266\" y1=\"290.9375\" y2=\"290.9375\"/></a><!--MD5=[270fce915f116d4de14055a7c1d9a0f3]\n",
       "class E5--><a href=\"psysml:66a2f39c-c11d-47e1-a04e-46a9b54c38c0\" target=\"_top\" title=\"psysml:66a2f39c-c11d-47e1-a04e-46a9b54c38c0\" xlink:actuate=\"onRequest\" xlink:href=\"psysml:66a2f39c-c11d-47e1-a04e-46a9b54c38c0\" xlink:show=\"new\" xlink:title=\"psysml:66a2f39c-c11d-47e1-a04e-46a9b54c38c0\" xlink:type=\"simple\"><rect fill=\"#FEFECE\" filter=\"url(#f1kn46984ba92s)\" height=\"45.9375\" id=\"E5\" rx=\"10\" ry=\"10\" style=\"stroke: #A80036; stroke-width: 1.5;\" width=\"72\" x=\"139\" y=\"41\"/><ellipse cx=\"154\" cy=\"59.9688\" fill=\"#32CD32\" rx=\"11\" ry=\"11\" style=\"stroke: #A80036; stroke-width: 1.0;\"/><path d=\"M150.8125,64.9688 L150.8125,54.375 L154.4219,54.375 Q155.6406,54.375 156.4375,54.8125 Q157.2344,55.2344 157.6094,55.9375 Q158,56.6406 158,57.4844 Q158,58.3281 157.625,59.0156 Q157.2656,59.7031 156.4688,60.125 Q155.6875,60.5313 154.5,60.5313 L152.7656,60.5313 L152.7656,64.9688 L150.8125,64.9688 Z M152.7656,58.9375 L154.375,58.9375 Q155.1875,58.9375 155.6094,58.5313 Q156.0313,58.125 156.0313,57.4844 Q156.0313,56.8594 155.6094,56.4531 Q155.1875,56.0469 154.3906,56.0469 L152.7656,56.0469 L152.7656,58.9375 Z \"/><text fill=\"#000000\" font-family=\"sans-serif\" font-size=\"12\" font-style=\"italic\" lengthAdjust=\"spacingAndGlyphs\" textLength=\"40\" x=\"168\" y=\"57.1387\">«part»</text><text fill=\"#000000\" font-family=\"sans-serif\" font-size=\"12\" lengthAdjust=\"spacingAndGlyphs\" textLength=\"40\" x=\"168\" y=\"71.1074\">p1: P1</text><line style=\"stroke: #A80036; stroke-width: 1.5;\" x1=\"140\" x2=\"210\" y1=\"78.9375\" y2=\"78.9375\"/></a><!--MD5=[60a26617385b1d2d0262a64233df1f8d]\n",
       "class E6--><a href=\"psysml:1cf4d29b-7212-465e-9bfc-2d9d3c47093a\" target=\"_top\" title=\"psysml:1cf4d29b-7212-465e-9bfc-2d9d3c47093a\" xlink:actuate=\"onRequest\" xlink:href=\"psysml:1cf4d29b-7212-465e-9bfc-2d9d3c47093a\" xlink:show=\"new\" xlink:title=\"psysml:1cf4d29b-7212-465e-9bfc-2d9d3c47093a\" xlink:type=\"simple\"><rect fill=\"#FEFECE\" filter=\"url(#f1kn46984ba92s)\" height=\"45.9375\" id=\"E6\" rx=\"10\" ry=\"10\" style=\"stroke: #A80036; stroke-width: 1.5;\" width=\"68\" x=\"104\" y=\"147\"/><ellipse cx=\"119\" cy=\"165.9688\" fill=\"#0000FF\" rx=\"11\" ry=\"11\" style=\"stroke: #A80036; stroke-width: 1.0;\"/><path d=\"M115.8125,170.9688 L115.8125,160.375 L119.4219,160.375 Q120.6406,160.375 121.4375,160.8125 Q122.2344,161.2344 122.6094,161.9375 Q123,162.6406 123,163.4844 Q123,164.3281 122.625,165.0156 Q122.2656,165.7031 121.4688,166.125 Q120.6875,166.5313 119.5,166.5313 L117.7656,166.5313 L117.7656,170.9688 L115.8125,170.9688 Z M117.7656,164.9375 L119.375,164.9375 Q120.1875,164.9375 120.6094,164.5313 Q121.0313,164.125 121.0313,163.4844 Q121.0313,162.8594 120.6094,162.4531 Q120.1875,162.0469 119.3906,162.0469 L117.7656,162.0469 L117.7656,164.9375 Z \"/><text fill=\"#000000\" font-family=\"sans-serif\" font-size=\"12\" font-style=\"italic\" lengthAdjust=\"spacingAndGlyphs\" textLength=\"40\" x=\"131\" y=\"163.1387\">«port»</text><text fill=\"#000000\" font-family=\"sans-serif\" font-size=\"12\" lengthAdjust=\"spacingAndGlyphs\" textLength=\"24\" x=\"139\" y=\"177.1074\">po1</text><line style=\"stroke: #A80036; stroke-width: 1.5;\" x1=\"105\" x2=\"171\" y1=\"184.9375\" y2=\"184.9375\"/></a><!--MD5=[2156ba9850f5573cc1fc38a6a4b2f02b]\n",
       "class E7--><a href=\"psysml:d750b59a-5fb4-49de-a141-6edbceed9fe9\" target=\"_top\" title=\"psysml:d750b59a-5fb4-49de-a141-6edbceed9fe9\" xlink:actuate=\"onRequest\" xlink:href=\"psysml:d750b59a-5fb4-49de-a141-6edbceed9fe9\" xlink:show=\"new\" xlink:title=\"psysml:d750b59a-5fb4-49de-a141-6edbceed9fe9\" xlink:type=\"simple\"><rect fill=\"#FEFECE\" filter=\"url(#f1kn46984ba92s)\" height=\"45.9375\" id=\"E7\" rx=\"10\" ry=\"10\" style=\"stroke: #A80036; stroke-width: 1.5;\" width=\"72\" x=\"32\" y=\"41\"/><ellipse cx=\"47\" cy=\"59.9688\" fill=\"#32CD32\" rx=\"11\" ry=\"11\" style=\"stroke: #A80036; stroke-width: 1.0;\"/><path d=\"M43.8125,64.9688 L43.8125,54.375 L47.4219,54.375 Q48.6406,54.375 49.4375,54.8125 Q50.2344,55.2344 50.6094,55.9375 Q51,56.6406 51,57.4844 Q51,58.3281 50.625,59.0156 Q50.2656,59.7031 49.4688,60.125 Q48.6875,60.5313 47.5,60.5313 L45.7656,60.5313 L45.7656,64.9688 L43.8125,64.9688 Z M45.7656,58.9375 L47.375,58.9375 Q48.1875,58.9375 48.6094,58.5313 Q49.0313,58.125 49.0313,57.4844 Q49.0313,56.8594 48.6094,56.4531 Q48.1875,56.0469 47.3906,56.0469 L45.7656,56.0469 L45.7656,58.9375 Z \"/><text fill=\"#000000\" font-family=\"sans-serif\" font-size=\"12\" font-style=\"italic\" lengthAdjust=\"spacingAndGlyphs\" textLength=\"40\" x=\"61\" y=\"57.1387\">«part»</text><text fill=\"#000000\" font-family=\"sans-serif\" font-size=\"12\" lengthAdjust=\"spacingAndGlyphs\" textLength=\"40\" x=\"61\" y=\"71.1074\">p2: P1</text><line style=\"stroke: #A80036; stroke-width: 1.5;\" x1=\"33\" x2=\"103\" y1=\"78.9375\" y2=\"78.9375\"/></a><!--MD5=[b9389687b975829384b498ac4b7476b2]\n",
       "class E8--><a href=\"psysml:1ab4a2c7-e640-4092-b309-d8474ba4cc31\" target=\"_top\" title=\"psysml:1ab4a2c7-e640-4092-b309-d8474ba4cc31\" xlink:actuate=\"onRequest\" xlink:href=\"psysml:1ab4a2c7-e640-4092-b309-d8474ba4cc31\" xlink:show=\"new\" xlink:title=\"psysml:1ab4a2c7-e640-4092-b309-d8474ba4cc31\" xlink:type=\"simple\"><rect fill=\"#FEFECE\" filter=\"url(#f1kn46984ba92s)\" height=\"45.9375\" id=\"E8\" rx=\"10\" ry=\"10\" style=\"stroke: #A80036; stroke-width: 1.5;\" width=\"68\" x=\"63\" y=\"253\"/><ellipse cx=\"78\" cy=\"271.9688\" fill=\"#0000FF\" rx=\"11\" ry=\"11\" style=\"stroke: #A80036; stroke-width: 1.0;\"/><path d=\"M74.8125,276.9688 L74.8125,266.375 L78.4219,266.375 Q79.6406,266.375 80.4375,266.8125 Q81.2344,267.2344 81.6094,267.9375 Q82,268.6406 82,269.4844 Q82,270.3281 81.625,271.0156 Q81.2656,271.7031 80.4688,272.125 Q79.6875,272.5313 78.5,272.5313 L76.7656,272.5313 L76.7656,276.9688 L74.8125,276.9688 Z M76.7656,270.9375 L78.375,270.9375 Q79.1875,270.9375 79.6094,270.5313 Q80.0313,270.125 80.0313,269.4844 Q80.0313,268.8594 79.6094,268.4531 Q79.1875,268.0469 78.3906,268.0469 L76.7656,268.0469 L76.7656,270.9375 Z \"/><text fill=\"#000000\" font-family=\"sans-serif\" font-size=\"12\" font-style=\"italic\" lengthAdjust=\"spacingAndGlyphs\" textLength=\"40\" x=\"90\" y=\"269.1387\">«port»</text><text fill=\"#000000\" font-family=\"sans-serif\" font-size=\"12\" lengthAdjust=\"spacingAndGlyphs\" textLength=\"36\" x=\"92\" y=\"283.1074\">pdest</text><line style=\"stroke: #A80036; stroke-width: 1.5;\" x1=\"64\" x2=\"130\" y1=\"290.9375\" y2=\"290.9375\"/></a><!--MD5=[4672eba38e49728da53d11aeb285b987]\n",
       "reverse link E3 to E4--><a href=\"psysml:b0a1a3b9-a387-42d1-a567-e540cd2e1d19\" target=\"_top\" title=\"psysml:b0a1a3b9-a387-42d1-a567-e540cd2e1d19\" xlink:actuate=\"onRequest\" xlink:href=\"psysml:b0a1a3b9-a387-42d1-a567-e540cd2e1d19\" xlink:show=\"new\" xlink:title=\"psysml:b0a1a3b9-a387-42d1-a567-e540cd2e1d19\" xlink:type=\"simple\"><path d=\"M219.1,203.25 C217.65,219.33 218.05,238.37 220.33,252.8 \" fill=\"none\" id=\"E3&lt;-E4\" style=\"stroke: #A80036; stroke-width: 1.0;\"/><polygon fill=\"#FFFFFF\" points=\"220.87,190.08,216.1137,195.5001,219.2875,201.9752,224.0438,196.5551,220.87,190.08\" style=\"stroke: #A80036; stroke-width: 1.0;\"/><text fill=\"#000000\" font-family=\"sans-serif\" font-size=\"13\" lengthAdjust=\"spacingAndGlyphs\" textLength=\"8\" x=\"208.5708\" y=\"242.025\">1</text></a><!--MD5=[4672eba38e49728da53d11aeb285b987]\n",
       "reverse link E3 to E4--><a href=\"psysml:b116cd08-9727-4fd8-b1d3-1b9f6deb041c\" target=\"_top\" title=\"psysml:b116cd08-9727-4fd8-b1d3-1b9f6deb041c\" xlink:actuate=\"onRequest\" xlink:href=\"psysml:b116cd08-9727-4fd8-b1d3-1b9f6deb041c\" xlink:show=\"new\" xlink:title=\"psysml:b116cd08-9727-4fd8-b1d3-1b9f6deb041c\" xlink:type=\"simple\"><path d=\"M243.77,205.22 C245.1,220.87 244.61,238.96 242.3,252.8 \" fill=\"none\" id=\"E3&lt;-E4-1\" style=\"stroke: #A80036; stroke-width: 1.0; stroke-dasharray: 7.0,7.0;\"/><ellipse cx=\"242.7963\" cy=\"198.0086\" fill=\"#FFFFFF\" rx=\"8\" ry=\"8\" style=\"stroke: #A80036; stroke-width: 1.0;\"/><line style=\"stroke: #A80036; stroke-width: 1.0;\" x1=\"243.8626\" x2=\"241.73\" y1=\"205.9372\" y2=\"190.08\"/><line style=\"stroke: #A80036; stroke-width: 1.0;\" x1=\"234.8677\" x2=\"250.7249\" y1=\"199.0749\" y2=\"196.9423\"/><text fill=\"#000000\" font-family=\"sans-serif\" font-size=\"13\" lengthAdjust=\"spacingAndGlyphs\" textLength=\"8\" x=\"236.1706\" y=\"242.025\">1</text></a><!--MD5=[e9be52314489bd878ff4c7144b63c9e1]\n",
       "link E5 to E3--><a href=\"psysml:b60c9595-85bf-4c72-aa43-c7c5a3162c28\" target=\"_top\" title=\"psysml:b60c9595-85bf-4c72-aa43-c7c5a3162c28\" xlink:actuate=\"onRequest\" xlink:href=\"psysml:b60c9595-85bf-4c72-aa43-c7c5a3162c28\" xlink:show=\"new\" xlink:title=\"psysml:b60c9595-85bf-4c72-aa43-c7c5a3162c28\" xlink:type=\"simple\"><path d=\"M186.88,87.06 C193.92,100.14 203.03,117.05 211.14,132.11 \" fill=\"none\" id=\"E5-&gt;E3\" style=\"stroke: #A80036; stroke-width: 1.0;\"/><polygon fill=\"#FFFFFF\" points=\"220.65,149.77,205.4866,136.3509,217.817,129.7207,220.65,149.77\" style=\"stroke: #A80036; stroke-width: 1.0;\"/><ellipse cx=\"204.5486\" cy=\"130.3835\" fill=\"#A80036\" rx=\"2\" ry=\"2\" style=\"stroke: #A80036; stroke-width: 1.0;\"/><ellipse cx=\"213.3561\" cy=\"125.6476\" fill=\"#A80036\" rx=\"2\" ry=\"2\" style=\"stroke: #A80036; stroke-width: 1.0;\"/></a><!--MD5=[85d356282659285ab4b2cfe2f634dd2b]\n",
       "reverse link E5 to E6--><a href=\"psysml:5e5f570b-f88f-4e5d-bde6-a1031949a59c\" target=\"_top\" title=\"psysml:5e5f570b-f88f-4e5d-bde6-a1031949a59c\" xlink:actuate=\"onRequest\" xlink:href=\"psysml:5e5f570b-f88f-4e5d-bde6-a1031949a59c\" xlink:show=\"new\" xlink:title=\"psysml:5e5f570b-f88f-4e5d-bde6-a1031949a59c\" xlink:type=\"simple\"><path d=\"M162.73,99.49 C157.16,115.15 150.74,133.19 145.84,146.98 \" fill=\"none\" id=\"E5&lt;-E6\" style=\"stroke: #A80036; stroke-width: 1.0;\"/><polygon fill=\"#FFFFFF\" points=\"167.15,87.06,161.3698,91.3715,163.1265,98.3654,168.9067,94.0539,167.15,87.06\" style=\"stroke: #A80036; stroke-width: 1.0;\"/><text fill=\"#000000\" font-family=\"sans-serif\" font-size=\"13\" lengthAdjust=\"spacingAndGlyphs\" textLength=\"8\" x=\"138.872\" y=\"135.8709\">1</text></a><!--MD5=[f667431f98296947986a1a7595a31603]\n",
       "link E6 to E4--><a href=\"psysml:ccd9da30-2bd5-4e38-bf20-b9f9621d2107\" target=\"_top\" title=\"psysml:ccd9da30-2bd5-4e38-bf20-b9f9621d2107\" xlink:actuate=\"onRequest\" xlink:href=\"psysml:ccd9da30-2bd5-4e38-bf20-b9f9621d2107\" xlink:show=\"new\" xlink:title=\"psysml:ccd9da30-2bd5-4e38-bf20-b9f9621d2107\" xlink:type=\"simple\"><path d=\"M157.72,193.06 C169.31,206.02 184.27,222.74 197.65,237.7 \" fill=\"none\" id=\"E6-&gt;E4\" style=\"stroke: #A80036; stroke-width: 1.0;\"/><polygon fill=\"#FFFFFF\" points=\"211.31,252.98,193.4253,243.486,203.8597,234.152,211.31,252.98\" style=\"stroke: #A80036; stroke-width: 1.0;\"/><line style=\"stroke: #A80036; stroke-width: 2.0;\" x1=\"190.8918\" x2=\"201.3262\" y1=\"240.6538\" y2=\"231.3198\"/></a><!--MD5=[14ccda38c055a5c0da953d572bc50960]\n",
       "link E7 to E3--><a href=\"psysml:8fc3f931-75e6-473d-9c07-27a38ec18c6d\" target=\"_top\" title=\"psysml:8fc3f931-75e6-473d-9c07-27a38ec18c6d\" xlink:actuate=\"onRequest\" xlink:href=\"psysml:8fc3f931-75e6-473d-9c07-27a38ec18c6d\" xlink:show=\"new\" xlink:title=\"psysml:8fc3f931-75e6-473d-9c07-27a38ec18c6d\" xlink:type=\"simple\"><path d=\"M102.57,87.06 C127.93,103.24 162.49,125.29 189.37,142.44 \" fill=\"none\" id=\"E7-&gt;E3\" style=\"stroke: #A80036; stroke-width: 1.0;\"/><polygon fill=\"#FFFFFF\" points=\"206.54,153.39,186.7577,149.0701,194.2889,137.2683,206.54,153.39\" style=\"stroke: #A80036; stroke-width: 1.0;\"/><ellipse cx=\"183.0286\" cy=\"144.3178\" fill=\"#A80036\" rx=\"2\" ry=\"2\" style=\"stroke: #A80036; stroke-width: 1.0;\"/><ellipse cx=\"188.408\" cy=\"135.888\" fill=\"#A80036\" rx=\"2\" ry=\"2\" style=\"stroke: #A80036; stroke-width: 1.0;\"/></a><!--MD5=[dc164f5e8a733ab456ef1add180e9e34]\n",
       "reverse link E7 to E8--><a href=\"psysml:36a32e90-a022-4c42-9b64-7c79f5d1d72c\" target=\"_top\" title=\"psysml:36a32e90-a022-4c42-9b64-7c79f5d1d72c\" xlink:actuate=\"onRequest\" xlink:href=\"psysml:36a32e90-a022-4c42-9b64-7c79f5d1d72c\" xlink:show=\"new\" xlink:title=\"psysml:36a32e90-a022-4c42-9b64-7c79f5d1d72c\" xlink:type=\"simple\"><path d=\"M63.05,100.09 C64.65,143.61 75.25,216.5 85.75,252.9 \" fill=\"none\" id=\"E7&lt;-E8\" style=\"stroke: #A80036; stroke-width: 1.0;\"/><polygon fill=\"#FFFFFF\" points=\"62.85,87.08,58.9362,93.1366,63.0216,99.0788,66.9354,93.0222,62.85,87.08\" style=\"stroke: #A80036; stroke-width: 1.0;\"/><text fill=\"#000000\" font-family=\"sans-serif\" font-size=\"13\" lengthAdjust=\"spacingAndGlyphs\" textLength=\"8\" x=\"73.6516\" y=\"241.7694\">1</text></a><!--MD5=[dc164f5e8a733ab456ef1add180e9e34]\n",
       "reverse link E7 to E8--><a href=\"psysml:346ab8ae-1d2f-462f-a94e-fae0b61189bf\" target=\"_top\" title=\"psysml:346ab8ae-1d2f-462f-a94e-fae0b61189bf\" xlink:actuate=\"onRequest\" xlink:href=\"psysml:346ab8ae-1d2f-462f-a94e-fae0b61189bf\" xlink:show=\"new\" xlink:title=\"psysml:346ab8ae-1d2f-462f-a94e-fae0b61189bf\" xlink:type=\"simple\"><path d=\"M83.64,101.8 C94.15,145.5 103.39,216.97 102.63,252.9 \" fill=\"none\" id=\"E7&lt;-E8-1\" style=\"stroke: #A80036; stroke-width: 1.0; stroke-dasharray: 7.0,7.0;\"/><ellipse cx=\"81.7794\" cy=\"94.813\" fill=\"#FFFFFF\" rx=\"8\" ry=\"8\" style=\"stroke: #A80036; stroke-width: 1.0;\"/><line style=\"stroke: #A80036; stroke-width: 1.0;\" x1=\"83.8289\" x2=\"79.73\" y1=\"102.5461\" y2=\"87.08\"/><line style=\"stroke: #A80036; stroke-width: 1.0;\" x1=\"74.0464\" x2=\"89.5125\" y1=\"96.8625\" y2=\"92.7636\"/><text fill=\"#000000\" font-family=\"sans-serif\" font-size=\"13\" lengthAdjust=\"spacingAndGlyphs\" textLength=\"8\" x=\"95.0681\" y=\"241.7694\">1</text></a><!--MD5=[0a839d0f80c2d72d4b9b307f046d0de8]\n",
       "link E6 to E8--><a href=\"psysml:eaab9895-3808-4b7e-ad70-425cb7403c1b\" target=\"_top\" title=\"psysml:eaab9895-3808-4b7e-ad70-425cb7403c1b\" xlink:actuate=\"onRequest\" xlink:href=\"psysml:eaab9895-3808-4b7e-ad70-425cb7403c1b\" xlink:show=\"new\" xlink:title=\"psysml:eaab9895-3808-4b7e-ad70-425cb7403c1b\" xlink:type=\"simple\"><path d=\"M118.66,193.06 C108.89,210.7 99.19,235.34 95.04,252.98 \" fill=\"none\" id=\"E6-E8\" style=\"stroke: #A80036; stroke-width: 3.0;\"/><text fill=\"#000000\" font-family=\"sans-serif\" font-size=\"13\" lengthAdjust=\"spacingAndGlyphs\" textLength=\"7\" x=\"86.5726\" y=\"241.8709\">*</text></a><!--MD5=[0a839d0f80c2d72d4b9b307f046d0de8]\n",
       "link E6 to E8--><a href=\"psysml:18885de6-563e-4dd2-a418-c135b5ffccd4\" target=\"_top\" title=\"psysml:18885de6-563e-4dd2-a418-c135b5ffccd4\" xlink:actuate=\"onRequest\" xlink:href=\"psysml:18885de6-563e-4dd2-a418-c135b5ffccd4\" xlink:show=\"new\" xlink:title=\"psysml:18885de6-563e-4dd2-a418-c135b5ffccd4\" xlink:type=\"simple\"><path d=\"M140.58,193.06 C136.59,210.7 126.88,235.34 116.95,252.98 \" fill=\"none\" id=\"E6-E8-1\" style=\"stroke: #A80036; stroke-width: 3.0;\"/><text fill=\"#000000\" font-family=\"sans-serif\" font-size=\"13\" lengthAdjust=\"spacingAndGlyphs\" textLength=\"7\" x=\"114.3709\" y=\"241.8709\">*</text></a><!--MD5=[73286a827d89cbf3ebf79e42c7ae5ddd]\n",
       "@startuml\r\n",
       " \r\n",
       "package \"AliasTest\" as E1  [[psysml:abede473-ce86-4cf2-9b0f-bcad92dda7df ]]  {\r\n",
       "comp usage \"q\" as E2 << <<(U,orange) attribute>> [[psysml:84563fde-fc3c-4caa-a0d2-03a4409edda3 ]] {\r\n",
       "}\r\n",
       "comp def \"P1\" as E3 << << (B,green) >> [[psysml:f240402e-e520-4bd4-a2fa-a40388aadc9d ]] {\r\n",
       "}\r\n",
       "comp usage \"porig1\" as E4 << << (P,blue) port>> [[psysml:fb61bd91-52ec-4d42-be8a-ef485ce794d8 ]] {\r\n",
       "}\r\n",
       "comp usage \"p1: P1\" as E5 << << (P,limegreen) part>> [[psysml:66a2f39c-c11d-47e1-a04e-46a9b54c38c0 ]] {\r\n",
       "}\r\n",
       "comp usage \"po1\" as E6 << << (P,blue) port>> [[psysml:1cf4d29b-7212-465e-9bfc-2d9d3c47093a ]] {\r\n",
       "}\r\n",
       "comp usage \"p2: P1\" as E7 << << (P,limegreen) part>> [[psysml:d750b59a-5fb4-49de-a141-6edbceed9fe9 ]] {\r\n",
       "}\r\n",
       "comp usage \"pdest\" as E8 << << (P,blue) port>> [[psysml:1ab4a2c7-e640-4092-b309-d8474ba4cc31 ]] {\r\n",
       "}\r\n",
       "}\r\n",
       "E3 o- - \"1\"E4 [[psysml:b0a1a3b9-a387-42d1-a567-e540cd2e1d19 ]] \r\n",
       "E3 +.. \"1\"E4 [[psysml:b116cd08-9727-4fd8-b1d3-1b9f6deb041c ]] \r\n",
       "E5 - -:|> E3 [[psysml:b60c9595-85bf-4c72-aa43-c7c5a3162c28 ]] \r\n",
       "E5 o- - \"1\"E6 [[psysml:5e5f570b-f88f-4e5d-bde6-a1031949a59c ]] \r\n",
       "E6 - -||> E4 [[psysml:ccd9da30-2bd5-4e38-bf20-b9f9621d2107 ]] \r\n",
       "E7 - -:|> E3 [[psysml:8fc3f931-75e6-473d-9c07-27a38ec18c6d ]] \r\n",
       "E7 o- - \"1\"E8 [[psysml:36a32e90-a022-4c42-9b64-7c79f5d1d72c ]] \r\n",
       "E7 +.. \"1\"E8 [[psysml:346ab8ae-1d2f-462f-a94e-fae0b61189bf ]] \r\n",
       "E6 -[thickness=3]- \"*\"E8 [[psysml:eaab9895-3808-4b7e-ad70-425cb7403c1b ]] \r\n",
       "E6 -[thickness=3]- \"*\"E8 [[psysml:18885de6-563e-4dd2-a418-c135b5ffccd4 ]] \r\n",
       "@enduml\r\n",
       "\n",
       "PlantUML version 1.2020.13(Sat Jun 13 12:26:38 UTC 2020)\n",
       "(EPL source distribution)\n",
       "Java Runtime: OpenJDK Runtime Environment\n",
       "JVM: OpenJDK 64-Bit Server VM\n",
       "Default Encoding: UTF-8\n",
       "Language: en\n",
       "Country: null\n",
       "--></g></svg>"
      ]
     },
     "execution_count": 31,
     "metadata": {},
     "output_type": "execute_result"
    }
   ],
   "source": [
    "%viz --style=\"PLANTUML\" --view=\"Tree\" \"AliasTest\""
   ]
  },
  {
   "cell_type": "code",
   "execution_count": 32,
   "id": "f1040f23",
   "metadata": {
    "execution": {
     "iopub.execute_input": "2021-09-27T07:19:10.180123Z",
     "iopub.status.busy": "2021-09-27T07:19:10.179716Z",
     "iopub.status.idle": "2021-09-27T07:19:10.232805Z",
     "shell.execute_reply": "2021-09-27T07:19:10.231608Z"
    }
   },
   "outputs": [
    {
     "data": {
      "image/svg+xml": [
       "<?xml version=\"1.0\" encoding=\"UTF-8\" standalone=\"no\"?><svg xmlns=\"http://www.w3.org/2000/svg\" xmlns:xlink=\"http://www.w3.org/1999/xlink\" contentScriptType=\"application/ecmascript\" contentStyleType=\"text/css\" height=\"300px\" preserveAspectRatio=\"none\" style=\"width:603px;height:300px;background:#000000;\" version=\"1.1\" viewBox=\"0 0 603 300\" width=\"603px\" zoomAndPan=\"magnify\"><defs/><g><rect fill=\"#130807\" height=\"1\" style=\"stroke: #130807; stroke-width: 1.0;\" width=\"1\" x=\"0\" y=\"0\"/><rect fill=\"#FFFFFF\" height=\"202.8012\" style=\"stroke: #FFFFFF; stroke-width: 1.0;\" width=\"602\" x=\"0\" y=\"0\"/><text fill=\"#000000\" font-family=\"sans-serif\" font-size=\"12\" font-weight=\"bold\" lengthAdjust=\"spacingAndGlyphs\" textLength=\"139\" x=\"5\" y=\"16.1387\">Welcome to PlantUML!</text><text fill=\"#000000\" font-family=\"sans-serif\" font-size=\"12\" lengthAdjust=\"spacingAndGlyphs\" textLength=\"0\" x=\"9\" y=\"30.1074\"/><text fill=\"#000000\" font-family=\"sans-serif\" font-size=\"12\" lengthAdjust=\"spacingAndGlyphs\" textLength=\"293\" x=\"5\" y=\"44.0762\">If you use this software, you accept its license.</text><text fill=\"#000000\" font-family=\"sans-serif\" font-size=\"12\" lengthAdjust=\"spacingAndGlyphs\" textLength=\"107\" x=\"5\" y=\"58.0449\">(details by typing</text><text fill=\"#000000\" font-family=\"monospace\" font-size=\"12\" lengthAdjust=\"spacingAndGlyphs\" textLength=\"42\" x=\"116\" y=\"58.595\">license</text><text fill=\"#000000\" font-family=\"sans-serif\" font-size=\"12\" lengthAdjust=\"spacingAndGlyphs\" textLength=\"56\" x=\"162\" y=\"58.0449\">keyword)</text><text fill=\"#000000\" font-family=\"sans-serif\" font-size=\"12\" lengthAdjust=\"spacingAndGlyphs\" textLength=\"0\" x=\"9\" y=\"72.0137\"/><text fill=\"#000000\" font-family=\"sans-serif\" font-size=\"12\" lengthAdjust=\"spacingAndGlyphs\" textLength=\"283\" x=\"5\" y=\"85.9824\">You can start with a simple UML Diagram like:</text><text fill=\"#000000\" font-family=\"sans-serif\" font-size=\"12\" lengthAdjust=\"spacingAndGlyphs\" textLength=\"0\" x=\"9\" y=\"99.9512\"/><text fill=\"#000000\" font-family=\"monospace\" font-size=\"12\" lengthAdjust=\"spacingAndGlyphs\" textLength=\"102\" x=\"5\" y=\"113.0893\">Bob-&gt;Alice: Hello</text><text fill=\"#000000\" font-family=\"sans-serif\" font-size=\"12\" lengthAdjust=\"spacingAndGlyphs\" textLength=\"0\" x=\"9\" y=\"126.508\"/><text fill=\"#000000\" font-family=\"sans-serif\" font-size=\"12\" lengthAdjust=\"spacingAndGlyphs\" textLength=\"14\" x=\"5\" y=\"140.4768\">Or</text><text fill=\"#000000\" font-family=\"sans-serif\" font-size=\"12\" lengthAdjust=\"spacingAndGlyphs\" textLength=\"0\" x=\"9\" y=\"154.4455\"/><text fill=\"#000000\" font-family=\"monospace\" font-size=\"12\" lengthAdjust=\"spacingAndGlyphs\" textLength=\"78\" x=\"5\" y=\"167.5837\">class Example</text><text fill=\"#000000\" font-family=\"sans-serif\" font-size=\"12\" lengthAdjust=\"spacingAndGlyphs\" textLength=\"0\" x=\"9\" y=\"181.0023\"/><text fill=\"#000000\" font-family=\"sans-serif\" font-size=\"12\" lengthAdjust=\"spacingAndGlyphs\" textLength=\"349\" x=\"5\" y=\"194.9711\">You will find more information about PlantUML syntax on</text><text fill=\"#000000\" font-family=\"sans-serif\" font-size=\"12\" lengthAdjust=\"spacingAndGlyphs\" text-decoration=\"underline\" textLength=\"129\" x=\"358\" y=\"194.9711\">https://plantuml.com</text><image height=\"71\" width=\"80\" x=\"516\" xlink:href=\"data:image/png;base64,iVBORw0KGgoAAAANSUhEUgAAAFAAAABHCAMAAACnHDC8AAADAFBMVEX///+BpbvD3u/f7vfPz8+nz+g3ksuZEDkWADr/ujlvsdpTodLCwsOLwOEbg8T//v6pqamZETnLysvT09To5+jqLS4VATj9/f27u7vDw8MTfsK+v7/j4+SOweJprdjL4/KxsbEri8jk8PgXa57c29uUETez1utQoNJ1tNtEmc9cptWBut6ayOW/3O6YEDjY6vUfhcXBwcHs7Ozw9/v83t79uTn7+/vX19ehoaHx8fG2tLXHx8fuVlfrNTYaBjn/vUH5+fmko6WXl5f/+fn95ub+9PT+8PD3qKidmaMxIUrnqDWcFj7n5eX09PTu7u2SkpKfnZ6rq6z0lJTm4tzJrHUfDT339/eFGDn6tjcrEzOvrbBuZ3l4eomSMS7Hz9Smpqasu8SFiYuQETfa2du1m6OOM051J0NWTWL5xse4uLj6zc33r6/4vb7ydHXqLi/72dntTE3tR0ijbn5jW3C+u8NANVQrG0XFubqRVGZza4GQGT2VaS7a0NPJtI6IJj/zszrfqkXXzr/Hw8cgC0LUqltOQ2JsSC5bTGjOpFafSi2+iDGtyt14m7TJhTCPJUSwoIG/qa+ikHiIgpCRHjI9j8KXbnaQH0FLf6FGPlp0cnYyKE2rg49Wj7dFXHmcwtrp6uu+xMjvYWLvW1z97e3sPD3sP0DuUlP709PYzdDPmzqZWWySRVygfHHd1smWkZ+PgnibETqsl260q5fLuppJLC/dpj2HPFLTtHv/ujrTwJy5s6iWjIi0iD3joTTCmU3trjuvZS2zlFvjq0HSyLbYp0qRts10XGxEKC9yPVBQZIOPdlNvMk2NeYNqRlujtcCVrr3j5eY1gK9Qn9GLp7lbeJXRxrCkiZDaozyukoJ+H0B3rc+OYy+iprJkYXdhmr6ee0afs79xq9BikrGKjI3FomEiLFO0ay6nfIm4pZXRjTFuhZSZWm0zcZyJN0KNTk4eebNfdIGGlZ93h5kcED5nOVYyRWbziIk9dJ4kerE5ZYxRUnLG1d7p8PTvY2PtTk/1nZ1ycV/bAAAFx0lEQVR4Xu1Ye1BUVRg/e3dhl4csKyxqPlBJQVETF2icAY13GogkEFqizqRRpoBpTCIapaUOhWNjUdOMSBpqJYZTg4KigFKADzSIVZ4qD5VFluXhLgvbPee+r49R7v2z3+zcc77fOfPb7zvfPd85uwCIhwT4wPisANwPAuIKHnbHH1I+KwAXDA18ShDW58CneCEnXl8JGwmfHylCPSvlZ/FWxh8YIRIxTWkZAEofkTz8sNq7tAqE2gODOB6GYZobVaH20SVZ4oQcdmXV0L7c4b8OFvJHRoYwdVIoyPX3gxtFDA+V8e6mM8pBoCjij4wQiWo/ALzV/kpkifBi13p4waZuGrJEECycixcEVSbYgFwUozg4/qSraOxrP7O8Eogj2HDxyMWmzpk6823+yIjhvR7fLOpDsCuGhwC0WfbkjQq8A0MWC0EgIYzPCYMymM8Iwcvz6K4IWw8skTrgq3iPMIQnxdfKrvyedpyvbSsyBQt6zcH6OxXmjqYxg9PbgXBBveK6aRAXNEl1Ssc+hz7Bgntyohb/ggQlNrrdzfIuoYKSb79067PrRoLmGo25SeghJRn1yMrSbPTptZaoBlwtlWbBHspxiW+mW8+46ereVnMXGxbFQ+mjofiHZTrclJn5E14UEgdrO9tRVph0HDJlYlRsLv4XFA7RBA1kK5ogBb7gtn08AvxWymc2b+YzLHC3nnOCNHvdayUsZpnnwnPqGf+yGKcPKlv92vtJC209zGyRWJmgyd16sSGGT/AmM2rdKZKZHxwCz7KUodLzJOO8th4OBqxdo0c2tfUkNr3QlJkZQWWMBP0uwBHvmQQb3zRVCMnsMO6ATazf3f0kkza0HTaPCdIhpyTknqP61Te1eV2gRpr1FUn4xtxRT72pDHhj09/UnBLjiv72p4d8FEtlLibBd7Qg0xK5+XfS9q2AzxSVHPnNIMBS8BQPw8N1W4glQWj0mtp4+nSHhvKYOM4GL6vH1jGTcDQ3p1979AQPI5agXEDYwuS5awknJ73rHU56RyLAr6ACpO5iMRGvp3XykjImgs4Fgm2/7URc8dhbeD9jdhYVNon0mdFcAjTIXbmC75VrmVHcQ+JDIXbuNmYUYlZoYx6XcWjKTWavYXd1WzU9OEh9wLFfEVFza5PEhVhDAvfLx60cWM3ePMa9hyZG5DNr6DbQiCUcYU0AKGzGyYxlkf+wxnCk+wdwCbA/TkWH7Dbgoq8dcmKNssQQ3F/JmMxlIj/fzo/7s9OIwUMebbYzbh2zLfk7ehBGzIau6OeO+xzGKlBRwCGAXNaCFgYbRoKG+hMTfMff4M6h0LYxpmv/92ym9tIxc4uRzawynCEWGhum7odf9/75vh8zg0bKijX5AMxhMacsK8pBxaJihtnQqr1KG8yFMzq/dutJ2iKwNCbXA7Yamsm2Xn0XtgtowY3Xy8rpYc4NNqon8eM49k+NtzU55GtMleGAkNR6oldDMhH+e9EX0JB+UYKv4WgLZrLCjHV7wnyYlzJZvYV6A6d1w6xEph842UUyTkjGIbzwRA/JIOBJKSt88yglqND1h6TpiQqQV99wmJ7nknQcgIIHqd00EwSzgudigGYQUHE4qFMcGJb22kp7lNop8p6znStvg5S2e1TVRti56w/zj8fZzKLiDa317MqBQFbs+J3dcbSgo+H4D0kLOokJ82/NR8KZbp9eIZgllwKR8Ec1ejIX827POk/06HpYffGd5dkoZJXMqDAVXd1Nbhavlx4OyuAiPcyAF3Ick8faXAuE5WToApkMxykL1PbNRJ91SDkXOyymPFR1UMlw9GjRPKCrPsRSvUnbzbkELj2PSSRkQLiH1AvROTutlpryLHQAoCD+C2BBP4npMwd9zsIgzgaDsK+bctmVw3hetai5t9RS4PEqub4QnCvxteGzOZyQXxjscxkhHisWKMi72+T0p1dxGeGYkG0ez+eeG7In/n/oNOexC9fzIiLvPxVtKp84iza+AAAAAElFTkSuQmCC\" y=\"6\"/><rect fill=\"#000000\" height=\"96.4844\" style=\"stroke: #000000; stroke-width: 1.0;\" width=\"602\" x=\"0\" y=\"202.8012\"/><rect fill=\"#33FF02\" height=\"21.2969\" style=\"stroke: #33FF02; stroke-width: 1.0;\" width=\"145\" x=\"5\" y=\"207.8012\"/><text fill=\"#000000\" font-family=\"sans-serif\" font-size=\"14\" font-weight=\"bold\" lengthAdjust=\"spacingAndGlyphs\" textLength=\"143\" x=\"6\" y=\"222.8012\">[From string (line 2) ]</text><text fill=\"#33FF02\" font-family=\"sans-serif\" font-size=\"14\" font-weight=\"bold\" lengthAdjust=\"spacingAndGlyphs\" textLength=\"0\" x=\"9\" y=\"243.0981\"/><text fill=\"#33FF02\" font-family=\"sans-serif\" font-size=\"14\" font-weight=\"bold\" lengthAdjust=\"spacingAndGlyphs\" textLength=\"70\" x=\"5\" y=\"259.3949\">@startuml</text><text fill=\"#33FF02\" font-family=\"sans-serif\" font-size=\"14\" font-weight=\"bold\" lengthAdjust=\"spacingAndGlyphs\" textLength=\"0\" x=\"9\" y=\"275.6918\"/><text fill=\"#FF0000\" font-family=\"sans-serif\" font-size=\"14\" font-weight=\"bold\" lengthAdjust=\"spacingAndGlyphs\" textLength=\"124\" x=\"9\" y=\"291.9887\">Empty description</text><!--MD5=[f59edd8218d337f74d0c332fc6737304]\n",
       "@startuml\r\n",
       " \r\n",
       "@enduml\r\n",
       "\n",
       "PlantUML version 1.2020.13(Sat Jun 13 12:26:38 UTC 2020)\n",
       "(EPL source distribution)\n",
       "Java Runtime: OpenJDK Runtime Environment\n",
       "JVM: OpenJDK 64-Bit Server VM\n",
       "Default Encoding: UTF-8\n",
       "Language: en\n",
       "Country: null\n",
       "--></g></svg>"
      ]
     },
     "execution_count": 32,
     "metadata": {},
     "output_type": "execute_result"
    }
   ],
   "source": [
    "%viz --style=\"PLANTUML\" --view=\"State\" \"AliasTest\""
   ]
  },
  {
   "cell_type": "code",
   "execution_count": 33,
   "id": "d274bb67",
   "metadata": {
    "execution": {
     "iopub.execute_input": "2021-09-27T07:19:10.282636Z",
     "iopub.status.busy": "2021-09-27T07:19:10.282128Z",
     "iopub.status.idle": "2021-09-27T07:19:10.310408Z",
     "shell.execute_reply": "2021-09-27T07:19:10.309069Z"
    }
   },
   "outputs": [
    {
     "data": {
      "image/svg+xml": [
       "<?xml version=\"1.0\" encoding=\"UTF-8\" standalone=\"no\"?><svg xmlns=\"http://www.w3.org/2000/svg\" xmlns:xlink=\"http://www.w3.org/1999/xlink\" contentScriptType=\"application/ecmascript\" contentStyleType=\"text/css\" height=\"217px\" preserveAspectRatio=\"none\" style=\"width:453px;height:217px;\" version=\"1.1\" viewBox=\"0 0 453 217\" width=\"453px\" zoomAndPan=\"magnify\"><defs><filter height=\"300%\" id=\"fqn6rg0pstema\" width=\"300%\" x=\"-1\" y=\"-1\"><feGaussianBlur result=\"blurOut\" stdDeviation=\"2.0\"/><feColorMatrix in=\"blurOut\" result=\"blurOut2\" type=\"matrix\" values=\"0 0 0 0 0 0 0 0 0 0 0 0 0 0 0 0 0 0 .4 0\"/><feOffset dx=\"4.0\" dy=\"4.0\" in=\"blurOut2\" result=\"blurOut3\"/><feBlend in=\"SourceGraphic\" in2=\"blurOut3\" mode=\"normal\"/></filter></defs><g><!--MD5=[fbc87193dbaf4d95561dea2c320d4a47]\n",
       "cluster E1--><a href=\"psysml:abede473-ce86-4cf2-9b0f-bcad92dda7df\" target=\"_top\" title=\"psysml:abede473-ce86-4cf2-9b0f-bcad92dda7df\" xlink:actuate=\"onRequest\" xlink:href=\"psysml:abede473-ce86-4cf2-9b0f-bcad92dda7df\" xlink:show=\"new\" xlink:title=\"psysml:abede473-ce86-4cf2-9b0f-bcad92dda7df\" xlink:type=\"simple\"><polygon fill=\"#FFFFFF\" filter=\"url(#fqn6rg0pstema)\" points=\"16,6,84,6,91,28.2969,431,28.2969,431,205,16,205,16,6\" style=\"stroke: #000000; stroke-width: 1.5;\"/><line style=\"stroke: #000000; stroke-width: 1.5;\" x1=\"16\" x2=\"91\" y1=\"28.2969\" y2=\"28.2969\"/><text fill=\"#000000\" font-family=\"sans-serif\" font-size=\"14\" font-weight=\"bold\" lengthAdjust=\"spacingAndGlyphs\" textLength=\"62\" x=\"20\" y=\"20.9951\">AliasTest</text></a><!--MD5=[d5e69f78d87373223dbae638b30a9c99]\n",
       "cluster E3--><a href=\"psysml:f240402e-e520-4bd4-a2fa-a40388aadc9d\" target=\"_top\" title=\"psysml:f240402e-e520-4bd4-a2fa-a40388aadc9d\" xlink:actuate=\"onRequest\" xlink:href=\"psysml:f240402e-e520-4bd4-a2fa-a40388aadc9d\" xlink:show=\"new\" xlink:title=\"psysml:f240402e-e520-4bd4-a2fa-a40388aadc9d\" xlink:type=\"simple\"><rect fill=\"#FFFFFF\" filter=\"url(#fqn6rg0pstema)\" height=\"74\" id=\"E3\" style=\"stroke: #A80036; stroke-width: 1.5;\" width=\"83\" x=\"336\" y=\"64\"/><rect fill=\"#FEFECE\" height=\"23.9688\" style=\"stroke: #A80036; stroke-width: 1.5;\" width=\"83\" x=\"336\" y=\"64\"/><text fill=\"#000000\" font-family=\"sans-serif\" font-size=\"12\" lengthAdjust=\"spacingAndGlyphs\" textLength=\"16\" x=\"369.5\" y=\"80.1387\">P1</text></a><!--MD5=[14e3b0961a2654348d326746436168a1]\n",
       "cluster E6--><a href=\"psysml:66a2f39c-c11d-47e1-a04e-46a9b54c38c0\" target=\"_top\" title=\"psysml:66a2f39c-c11d-47e1-a04e-46a9b54c38c0\" xlink:actuate=\"onRequest\" xlink:href=\"psysml:66a2f39c-c11d-47e1-a04e-46a9b54c38c0\" xlink:show=\"new\" xlink:title=\"psysml:66a2f39c-c11d-47e1-a04e-46a9b54c38c0\" xlink:type=\"simple\"><rect fill=\"#FFFFFF\" filter=\"url(#fqn6rg0pstema)\" height=\"74\" id=\"E6\" rx=\"10\" ry=\"10\" style=\"stroke: #A80036; stroke-width: 1.5;\" width=\"98\" x=\"136\" y=\"64\"/><rect fill=\"#FEFECE\" height=\"23.9688\" rx=\"10\" ry=\"10\" style=\"stroke: #FEFECE; stroke-width: 1.5;\" width=\"98\" x=\"136\" y=\"64\"/><rect fill=\"#FEFECE\" height=\"10\" style=\"stroke: #FEFECE; stroke-width: 1.5;\" width=\"98\" x=\"136\" y=\"77.9688\"/><rect fill=\"none\" height=\"74\" id=\"E6\" rx=\"10\" ry=\"10\" style=\"stroke: #A80036; stroke-width: 1.5;\" width=\"98\" x=\"136\" y=\"64\"/><text fill=\"#000000\" font-family=\"sans-serif\" font-size=\"12\" lengthAdjust=\"spacingAndGlyphs\" textLength=\"40\" x=\"165\" y=\"80.1387\">p1: P1</text><line style=\"stroke: #A80036; stroke-width: 1.0;\" x1=\"136\" x2=\"234\" y1=\"87.9688\" y2=\"87.9688\"/></a><!--MD5=[55dfccfc6c49c2d10cd1bd2211a6c90c]\n",
       "cluster E8--><a href=\"psysml:d750b59a-5fb4-49de-a141-6edbceed9fe9\" target=\"_top\" title=\"psysml:d750b59a-5fb4-49de-a141-6edbceed9fe9\" xlink:actuate=\"onRequest\" xlink:href=\"psysml:d750b59a-5fb4-49de-a141-6edbceed9fe9\" xlink:show=\"new\" xlink:title=\"psysml:d750b59a-5fb4-49de-a141-6edbceed9fe9\" xlink:type=\"simple\"><rect fill=\"#FFFFFF\" filter=\"url(#fqn6rg0pstema)\" height=\"76.5\" id=\"E8\" rx=\"10\" ry=\"10\" style=\"stroke: #A80036; stroke-width: 1.5;\" width=\"83\" x=\"237\" y=\"112.5\"/><rect fill=\"#FEFECE\" height=\"23.9688\" rx=\"10\" ry=\"10\" style=\"stroke: #FEFECE; stroke-width: 1.5;\" width=\"83\" x=\"237\" y=\"112.5\"/><rect fill=\"#FEFECE\" height=\"10\" style=\"stroke: #FEFECE; stroke-width: 1.5;\" width=\"83\" x=\"237\" y=\"126.4688\"/><rect fill=\"none\" height=\"76.5\" id=\"E8\" rx=\"10\" ry=\"10\" style=\"stroke: #A80036; stroke-width: 1.5;\" width=\"83\" x=\"237\" y=\"112.5\"/><text fill=\"#000000\" font-family=\"sans-serif\" font-size=\"12\" lengthAdjust=\"spacingAndGlyphs\" textLength=\"40\" x=\"258.5\" y=\"128.6387\">p2: P1</text><line style=\"stroke: #A80036; stroke-width: 1.0;\" x1=\"237\" x2=\"320\" y1=\"136.4688\" y2=\"136.4688\"/></a><!--MD5=[b4997ac47864f28c2f74865a473b2911]\n",
       "class E2--><a href=\"psysml:84563fde-fc3c-4caa-a0d2-03a4409edda3\" target=\"_top\" title=\"psysml:84563fde-fc3c-4caa-a0d2-03a4409edda3\" xlink:actuate=\"onRequest\" xlink:href=\"psysml:84563fde-fc3c-4caa-a0d2-03a4409edda3\" xlink:show=\"new\" xlink:title=\"psysml:84563fde-fc3c-4caa-a0d2-03a4409edda3\" xlink:type=\"simple\"><rect fill=\"#FEFECE\" filter=\"url(#fqn6rg0pstema)\" height=\"45.9375\" id=\"E2\" rx=\"10\" ry=\"10\" style=\"stroke: #A80036; stroke-width: 1.5;\" width=\"97\" x=\"31.5\" y=\"41\"/><ellipse cx=\"46.5\" cy=\"59.9688\" fill=\"#FFA500\" rx=\"11\" ry=\"11\" style=\"stroke: #A80036; stroke-width: 1.0;\"/><path d=\"M46.25,65.4375 Q44.5,65.4375 43.5469,64.4063 Q42.6094,63.3594 42.6094,61.5156 L42.6094,54.625 L44.6719,54.625 L44.6719,54.7813 Q44.5781,54.875 44.5469,55.0156 Q44.5313,55.1406 44.5313,55.4063 L44.5313,61.5313 Q44.5313,62.625 44.9063,63.25 Q45.2813,63.875 46.2656,63.875 Q47.25,63.875 47.6406,63.25 Q48.0313,62.625 48.0313,61.4844 L48.0313,54.625 L49.9063,54.625 L49.9063,61.4688 Q49.9063,63.5 48.875,64.4688 Q47.8594,65.4375 46.25,65.4375 Z \"/><text fill=\"#000000\" font-family=\"sans-serif\" font-size=\"12\" font-style=\"italic\" lengthAdjust=\"spacingAndGlyphs\" textLength=\"69\" x=\"58.5\" y=\"57.1387\">«attribute»</text><text fill=\"#000000\" font-family=\"sans-serif\" font-size=\"12\" lengthAdjust=\"spacingAndGlyphs\" textLength=\"8\" x=\"89\" y=\"71.1074\">q</text><line style=\"stroke: #A80036; stroke-width: 1.5;\" x1=\"32.5\" x2=\"127.5\" y1=\"78.9375\" y2=\"78.9375\"/></a><text fill=\"#000000\" font-family=\"sans-serif\" font-size=\"14\" lengthAdjust=\"spacingAndGlyphs\" textLength=\"44\" x=\"332\" y=\"42.6982\">porig1</text><rect fill=\"#A80036\" height=\"12\" style=\"stroke: #FEFECE; stroke-width: 1.5;\" width=\"12\" x=\"348\" y=\"58\"/><text fill=\"#000000\" font-family=\"sans-serif\" font-size=\"14\" lengthAdjust=\"spacingAndGlyphs\" textLength=\"44\" x=\"379\" y=\"42.6982\">porig1</text><rect fill=\"#A80036\" height=\"12\" style=\"stroke: #FEFECE; stroke-width: 1.5;\" width=\"12\" x=\"395\" y=\"58\"/><text fill=\"#000000\" font-family=\"sans-serif\" font-size=\"14\" lengthAdjust=\"spacingAndGlyphs\" textLength=\"27\" x=\"202.5\" y=\"42.6982\">po1</text><rect fill=\"#A80036\" height=\"12\" style=\"stroke: #FEFECE; stroke-width: 1.5;\" width=\"12\" x=\"210\" y=\"58\"/><text fill=\"#000000\" font-family=\"sans-serif\" font-size=\"14\" lengthAdjust=\"spacingAndGlyphs\" textLength=\"40\" x=\"235\" y=\"91.1982\">pdest</text><rect fill=\"#A80036\" height=\"12\" style=\"stroke: #FEFECE; stroke-width: 1.5;\" width=\"12\" x=\"249\" y=\"106.5\"/><text fill=\"#000000\" font-family=\"sans-serif\" font-size=\"14\" lengthAdjust=\"spacingAndGlyphs\" textLength=\"40\" x=\"282\" y=\"91.1982\">pdest</text><rect fill=\"#A80036\" height=\"12\" style=\"stroke: #FEFECE; stroke-width: 1.5;\" width=\"12\" x=\"296\" y=\"106.5\"/><!--MD5=[1c0b9414cc86e0744215edee6abd8926]\n",
       "link E7 to E9--><a href=\"psysml:eaab9895-3808-4b7e-ad70-425cb7403c1b\" target=\"_top\" title=\"psysml:eaab9895-3808-4b7e-ad70-425cb7403c1b\" xlink:actuate=\"onRequest\" xlink:href=\"psysml:eaab9895-3808-4b7e-ad70-425cb7403c1b\" xlink:show=\"new\" xlink:title=\"psysml:eaab9895-3808-4b7e-ad70-425cb7403c1b\" xlink:type=\"simple\"><path d=\"M211.99,70.33 C214.12,80.83 234.45,103.69 248.63,109.91 \" fill=\"none\" id=\"E7-E9\" style=\"stroke: #A80036; stroke-width: 3.0;\"/><text fill=\"#000000\" font-family=\"sans-serif\" font-size=\"13\" lengthAdjust=\"spacingAndGlyphs\" textLength=\"7\" x=\"234.1041\" y=\"99.3339\">*</text></a><!--MD5=[1c0b9414cc86e0744215edee6abd8926]\n",
       "link E7 to E9--><a href=\"psysml:18885de6-563e-4dd2-a418-c135b5ffccd4\" target=\"_top\" title=\"psysml:18885de6-563e-4dd2-a418-c135b5ffccd4\" xlink:actuate=\"onRequest\" xlink:href=\"psysml:18885de6-563e-4dd2-a418-c135b5ffccd4\" xlink:show=\"new\" xlink:title=\"psysml:18885de6-563e-4dd2-a418-c135b5ffccd4\" xlink:type=\"simple\"><path d=\"M222.05,66.34 C236.81,72.18 257.77,95.55 259.52,106.18 \" fill=\"none\" id=\"E7-E9-1\" style=\"stroke: #A80036; stroke-width: 3.0;\"/><text fill=\"#000000\" font-family=\"sans-serif\" font-size=\"13\" lengthAdjust=\"spacingAndGlyphs\" textLength=\"7\" x=\"253.0938\" y=\"95.5105\">*</text></a><!--MD5=[a79d94314cd0782aa043c9197917498f]\n",
       "@startuml\r\n",
       "skinparam ranksep 10\r\n",
       "skinparam rectangle {\r\n",
       " backgroundColor<<block>> LightGreen\r\n",
       "}\r\n",
       " \r\n",
       "package \"AliasTest\" as E1  [[psysml:abede473-ce86-4cf2-9b0f-bcad92dda7df ]]  {\r\n",
       "comp usage \"q\" as E2 << <<(U,orange) attribute>> [[psysml:84563fde-fc3c-4caa-a0d2-03a4409edda3 ]] {\r\n",
       "}\r\n",
       "rec def \"P1\" as E3 << << (B,green) >> [[psysml:f240402e-e520-4bd4-a2fa-a40388aadc9d ]] {\r\n",
       "portin \"porig1\" as E4 << << (P,blue) port>> [[psysml:fb61bd91-52ec-4d42-be8a-ef485ce794d8 ]] \r\n",
       "portin \"porig1\" as E5 << << (P,blue) port>> [[psysml:fb61bd91-52ec-4d42-be8a-ef485ce794d8 ]] \r\n",
       "}\r\n",
       "rec usage \"p1: P1\" as E6  [[psysml:66a2f39c-c11d-47e1-a04e-46a9b54c38c0 ]] {\r\n",
       "portin \"po1\" as E7 << << (P,blue) port>> [[psysml:1cf4d29b-7212-465e-9bfc-2d9d3c47093a ]] \r\n",
       "}\r\n",
       "rec usage \"p2: P1\" as E8  [[psysml:d750b59a-5fb4-49de-a141-6edbceed9fe9 ]] {\r\n",
       "portin \"pdest\" as E9 << << (P,blue) port>> [[psysml:1ab4a2c7-e640-4092-b309-d8474ba4cc31 ]] \r\n",
       "portin \"pdest\" as E10 << << (P,blue) port>> [[psysml:1ab4a2c7-e640-4092-b309-d8474ba4cc31 ]] \r\n",
       "}\r\n",
       "}\r\n",
       "E7 -[thickness=3]- \"*\"E9 [[psysml:eaab9895-3808-4b7e-ad70-425cb7403c1b ]] \r\n",
       "E7 -[thickness=3]- \"*\"E9 [[psysml:18885de6-563e-4dd2-a418-c135b5ffccd4 ]] \r\n",
       "@enduml\r\n",
       "\n",
       "PlantUML version 1.2020.13(Sat Jun 13 12:26:38 UTC 2020)\n",
       "(EPL source distribution)\n",
       "Java Runtime: OpenJDK Runtime Environment\n",
       "JVM: OpenJDK 64-Bit Server VM\n",
       "Default Encoding: UTF-8\n",
       "Language: en\n",
       "Country: null\n",
       "--></g></svg>"
      ]
     },
     "execution_count": 33,
     "metadata": {},
     "output_type": "execute_result"
    }
   ],
   "source": [
    "%viz --style=\"PLANTUML\" --view=\"Interconnection\" \"AliasTest\""
   ]
  },
  {
   "cell_type": "code",
   "execution_count": 34,
   "id": "68c49702",
   "metadata": {
    "execution": {
     "iopub.execute_input": "2021-09-27T07:19:10.359855Z",
     "iopub.status.busy": "2021-09-27T07:19:10.359434Z",
     "iopub.status.idle": "2021-09-27T07:19:10.364311Z",
     "shell.execute_reply": "2021-09-27T07:19:10.363947Z"
    }
   },
   "outputs": [
    {
     "data": {
      "image/svg+xml": [
       "<?xml version=\"1.0\" encoding=\"UTF-8\" standalone=\"no\"?><svg xmlns=\"http://www.w3.org/2000/svg\" xmlns:xlink=\"http://www.w3.org/1999/xlink\" contentScriptType=\"application/ecmascript\" contentStyleType=\"text/css\" height=\"12px\" preserveAspectRatio=\"none\" style=\"width:12px;height:12px;\" version=\"1.1\" viewBox=\"0 0 12 12\" width=\"12px\" zoomAndPan=\"magnify\"><defs/><g><!--MD5=[6a4cb978cab31700e1ce5529f947a75d]\n",
       "@startuml\r\n",
       "skinparam ranksep 8\r\n",
       " \r\n",
       "@enduml\r\n",
       "\n",
       "PlantUML version 1.2020.13(Sat Jun 13 12:26:38 UTC 2020)\n",
       "(EPL source distribution)\n",
       "Java Runtime: OpenJDK Runtime Environment\n",
       "JVM: OpenJDK 64-Bit Server VM\n",
       "Default Encoding: UTF-8\n",
       "Language: en\n",
       "Country: null\n",
       "--></g></svg>"
      ]
     },
     "execution_count": 34,
     "metadata": {},
     "output_type": "execute_result"
    }
   ],
   "source": [
    "%viz --style=\"PLANTUML\" --view=\"Action\" \"AliasTest\""
   ]
  },
  {
   "cell_type": "code",
   "execution_count": 35,
   "id": "5549028d",
   "metadata": {
    "execution": {
     "iopub.execute_input": "2021-09-27T07:19:10.414131Z",
     "iopub.status.busy": "2021-09-27T07:19:10.413706Z",
     "iopub.status.idle": "2021-09-27T07:19:10.417434Z",
     "shell.execute_reply": "2021-09-27T07:19:10.417040Z"
    }
   },
   "outputs": [
    {
     "data": {
      "image/svg+xml": [
       "<?xml version=\"1.0\" encoding=\"UTF-8\" standalone=\"no\"?><svg xmlns=\"http://www.w3.org/2000/svg\" xmlns:xlink=\"http://www.w3.org/1999/xlink\" contentScriptType=\"application/ecmascript\" contentStyleType=\"text/css\" height=\"12px\" preserveAspectRatio=\"none\" style=\"width:12px;height:12px;\" version=\"1.1\" viewBox=\"0 0 12 12\" width=\"12px\" zoomAndPan=\"magnify\"><defs/><g><!--MD5=[ca4faa0b02def275ea33c14ea7a1a98d]\n",
       "@startuml\r\n",
       "skinparam roundcorner 20\r\n",
       "skinparam BoxPadding 20\r\n",
       "skinparam SequenceBoxBackgroundColor #white\r\n",
       "skinparam style strictuml\r\n",
       "skinparam maxMessageSize 100\r\n",
       " \r\n",
       "@enduml\r\n",
       "\n",
       "PlantUML version 1.2020.13(Sat Jun 13 12:26:38 UTC 2020)\n",
       "(EPL source distribution)\n",
       "Java Runtime: OpenJDK Runtime Environment\n",
       "JVM: OpenJDK 64-Bit Server VM\n",
       "Default Encoding: UTF-8\n",
       "Language: en\n",
       "Country: null\n",
       "--></g></svg>"
      ]
     },
     "execution_count": 35,
     "metadata": {},
     "output_type": "execute_result"
    }
   ],
   "source": [
    "%viz --style=\"PLANTUML\" --view=\"Sequence\" \"AliasTest\""
   ]
  },
  {
   "cell_type": "code",
   "execution_count": 36,
   "id": "eea07306",
   "metadata": {
    "execution": {
     "iopub.execute_input": "2021-09-27T07:19:10.466989Z",
     "iopub.status.busy": "2021-09-27T07:19:10.466524Z",
     "iopub.status.idle": "2021-09-27T07:19:10.492031Z",
     "shell.execute_reply": "2021-09-27T07:19:10.490306Z"
    }
   },
   "outputs": [
    {
     "data": {
      "image/svg+xml": [
       "<?xml version=\"1.0\" encoding=\"UTF-8\" standalone=\"no\"?><svg xmlns=\"http://www.w3.org/2000/svg\" xmlns:xlink=\"http://www.w3.org/1999/xlink\" contentScriptType=\"application/ecmascript\" contentStyleType=\"text/css\" height=\"327px\" preserveAspectRatio=\"none\" style=\"width:381px;height:327px;\" version=\"1.1\" viewBox=\"0 0 381 327\" width=\"381px\" zoomAndPan=\"magnify\"><defs><filter height=\"300%\" id=\"f1kn46984ba92s\" width=\"300%\" x=\"-1\" y=\"-1\"><feGaussianBlur result=\"blurOut\" stdDeviation=\"2.0\"/><feColorMatrix in=\"blurOut\" result=\"blurOut2\" type=\"matrix\" values=\"0 0 0 0 0 0 0 0 0 0 0 0 0 0 0 0 0 0 .4 0\"/><feOffset dx=\"4.0\" dy=\"4.0\" in=\"blurOut2\" result=\"blurOut3\"/><feBlend in=\"SourceGraphic\" in2=\"blurOut3\" mode=\"normal\"/></filter></defs><g><!--MD5=[fbc87193dbaf4d95561dea2c320d4a47]\n",
       "cluster E1--><a href=\"psysml:abede473-ce86-4cf2-9b0f-bcad92dda7df\" target=\"_top\" title=\"psysml:abede473-ce86-4cf2-9b0f-bcad92dda7df\" xlink:actuate=\"onRequest\" xlink:href=\"psysml:abede473-ce86-4cf2-9b0f-bcad92dda7df\" xlink:show=\"new\" xlink:title=\"psysml:abede473-ce86-4cf2-9b0f-bcad92dda7df\" xlink:type=\"simple\"><polygon fill=\"#FFFFFF\" filter=\"url(#f1kn46984ba92s)\" points=\"16,6,84,6,91,28.2969,359,28.2969,359,315,16,315,16,6\" style=\"stroke: #000000; stroke-width: 1.5;\"/><line style=\"stroke: #000000; stroke-width: 1.5;\" x1=\"16\" x2=\"91\" y1=\"28.2969\" y2=\"28.2969\"/><text fill=\"#000000\" font-family=\"sans-serif\" font-size=\"14\" font-weight=\"bold\" lengthAdjust=\"spacingAndGlyphs\" textLength=\"62\" x=\"20\" y=\"20.9951\">AliasTest</text></a><!--MD5=[b4997ac47864f28c2f74865a473b2911]\n",
       "class E2--><a href=\"psysml:84563fde-fc3c-4caa-a0d2-03a4409edda3\" target=\"_top\" title=\"psysml:84563fde-fc3c-4caa-a0d2-03a4409edda3\" xlink:actuate=\"onRequest\" xlink:href=\"psysml:84563fde-fc3c-4caa-a0d2-03a4409edda3\" xlink:show=\"new\" xlink:title=\"psysml:84563fde-fc3c-4caa-a0d2-03a4409edda3\" xlink:type=\"simple\"><rect fill=\"#FEFECE\" filter=\"url(#f1kn46984ba92s)\" height=\"45.9375\" id=\"E2\" rx=\"10\" ry=\"10\" style=\"stroke: #A80036; stroke-width: 1.5;\" width=\"97\" x=\"246.5\" y=\"41\"/><ellipse cx=\"261.5\" cy=\"59.9688\" fill=\"#FFA500\" rx=\"11\" ry=\"11\" style=\"stroke: #A80036; stroke-width: 1.0;\"/><path d=\"M261.25,65.4375 Q259.5,65.4375 258.5469,64.4063 Q257.6094,63.3594 257.6094,61.5156 L257.6094,54.625 L259.6719,54.625 L259.6719,54.7813 Q259.5781,54.875 259.5469,55.0156 Q259.5313,55.1406 259.5313,55.4063 L259.5313,61.5313 Q259.5313,62.625 259.9063,63.25 Q260.2813,63.875 261.2656,63.875 Q262.25,63.875 262.6406,63.25 Q263.0313,62.625 263.0313,61.4844 L263.0313,54.625 L264.9063,54.625 L264.9063,61.4688 Q264.9063,63.5 263.875,64.4688 Q262.8594,65.4375 261.25,65.4375 Z \"/><text fill=\"#000000\" font-family=\"sans-serif\" font-size=\"12\" font-style=\"italic\" lengthAdjust=\"spacingAndGlyphs\" textLength=\"69\" x=\"273.5\" y=\"57.1387\">«attribute»</text><text fill=\"#000000\" font-family=\"sans-serif\" font-size=\"12\" lengthAdjust=\"spacingAndGlyphs\" textLength=\"8\" x=\"304\" y=\"71.1074\">q</text><line style=\"stroke: #A80036; stroke-width: 1.5;\" x1=\"247.5\" x2=\"342.5\" y1=\"78.9375\" y2=\"78.9375\"/></a><!--MD5=[09b614a08d8cba4a07c9adeb5e0fee81]\n",
       "class E3--><a href=\"psysml:f240402e-e520-4bd4-a2fa-a40388aadc9d\" target=\"_top\" title=\"psysml:f240402e-e520-4bd4-a2fa-a40388aadc9d\" xlink:actuate=\"onRequest\" xlink:href=\"psysml:f240402e-e520-4bd4-a2fa-a40388aadc9d\" xlink:show=\"new\" xlink:title=\"psysml:f240402e-e520-4bd4-a2fa-a40388aadc9d\" xlink:type=\"simple\"><rect fill=\"#FEFECE\" filter=\"url(#f1kn46984ba92s)\" height=\"40\" id=\"E3\" style=\"stroke: #A80036; stroke-width: 1.5;\" width=\"48\" x=\"207\" y=\"150\"/><ellipse cx=\"222\" cy=\"166\" fill=\"#008000\" rx=\"11\" ry=\"11\" style=\"stroke: #A80036; stroke-width: 1.0;\"/><path d=\"M218.875,171 L218.875,160.4063 L222.1094,160.4063 Q224.0156,160.4063 224.9219,161.1563 Q225.8438,161.9063 225.8438,163.0781 Q225.8438,163.7656 225.4531,164.4219 Q225.0781,165.0781 224.3594,165.375 Q225.2188,165.75 225.7344,166.4375 Q226.25,167.125 226.25,167.9375 Q226.25,169.3125 225.2188,170.1563 Q224.2031,171 222.0938,171 L218.875,171 Z M220.7969,164.6406 L221.9531,164.6406 Q223.0781,164.6406 223.4844,164.2656 Q223.9063,163.875 223.9063,163.25 Q223.9063,162.6719 223.4844,162.3125 Q223.0625,161.9531 222.125,161.9531 L220.7969,161.9531 L220.7969,164.6406 Z M220.7969,169.4219 L222.2969,169.4219 Q223.2031,169.4219 223.7344,169.0313 Q224.2656,168.6406 224.2656,167.8906 Q224.2656,167.125 223.7656,166.6563 Q223.2656,166.1719 222,166.1719 L220.7969,166.1719 L220.7969,169.4219 Z \"/><text fill=\"#000000\" font-family=\"sans-serif\" font-size=\"12\" lengthAdjust=\"spacingAndGlyphs\" textLength=\"16\" x=\"236\" y=\"170.1543\">P1</text><line style=\"stroke: #A80036; stroke-width: 1.5;\" x1=\"208\" x2=\"254\" y1=\"182\" y2=\"182\"/></a><!--MD5=[ebbe1d658d1005bcc118a6aa81145e00]\n",
       "class E4--><a href=\"psysml:fb61bd91-52ec-4d42-be8a-ef485ce794d8\" target=\"_top\" title=\"psysml:fb61bd91-52ec-4d42-be8a-ef485ce794d8\" xlink:actuate=\"onRequest\" xlink:href=\"psysml:fb61bd91-52ec-4d42-be8a-ef485ce794d8\" xlink:show=\"new\" xlink:title=\"psysml:fb61bd91-52ec-4d42-be8a-ef485ce794d8\" xlink:type=\"simple\"><rect fill=\"#FEFECE\" filter=\"url(#f1kn46984ba92s)\" height=\"45.9375\" id=\"E4\" rx=\"10\" ry=\"10\" style=\"stroke: #A80036; stroke-width: 1.5;\" width=\"72\" x=\"195\" y=\"253\"/><ellipse cx=\"210\" cy=\"271.9688\" fill=\"#0000FF\" rx=\"11\" ry=\"11\" style=\"stroke: #A80036; stroke-width: 1.0;\"/><path d=\"M206.8125,276.9688 L206.8125,266.375 L210.4219,266.375 Q211.6406,266.375 212.4375,266.8125 Q213.2344,267.2344 213.6094,267.9375 Q214,268.6406 214,269.4844 Q214,270.3281 213.625,271.0156 Q213.2656,271.7031 212.4688,272.125 Q211.6875,272.5313 210.5,272.5313 L208.7656,272.5313 L208.7656,276.9688 L206.8125,276.9688 Z M208.7656,270.9375 L210.375,270.9375 Q211.1875,270.9375 211.6094,270.5313 Q212.0313,270.125 212.0313,269.4844 Q212.0313,268.8594 211.6094,268.4531 Q211.1875,268.0469 210.3906,268.0469 L208.7656,268.0469 L208.7656,270.9375 Z \"/><text fill=\"#000000\" font-family=\"sans-serif\" font-size=\"12\" font-style=\"italic\" lengthAdjust=\"spacingAndGlyphs\" textLength=\"40\" x=\"224\" y=\"269.1387\">«port»</text><text fill=\"#000000\" font-family=\"sans-serif\" font-size=\"12\" lengthAdjust=\"spacingAndGlyphs\" textLength=\"40\" x=\"224\" y=\"283.1074\">porig1</text><line style=\"stroke: #A80036; stroke-width: 1.5;\" x1=\"196\" x2=\"266\" y1=\"290.9375\" y2=\"290.9375\"/></a><!--MD5=[270fce915f116d4de14055a7c1d9a0f3]\n",
       "class E5--><a href=\"psysml:66a2f39c-c11d-47e1-a04e-46a9b54c38c0\" target=\"_top\" title=\"psysml:66a2f39c-c11d-47e1-a04e-46a9b54c38c0\" xlink:actuate=\"onRequest\" xlink:href=\"psysml:66a2f39c-c11d-47e1-a04e-46a9b54c38c0\" xlink:show=\"new\" xlink:title=\"psysml:66a2f39c-c11d-47e1-a04e-46a9b54c38c0\" xlink:type=\"simple\"><rect fill=\"#FEFECE\" filter=\"url(#f1kn46984ba92s)\" height=\"45.9375\" id=\"E5\" rx=\"10\" ry=\"10\" style=\"stroke: #A80036; stroke-width: 1.5;\" width=\"72\" x=\"139\" y=\"41\"/><ellipse cx=\"154\" cy=\"59.9688\" fill=\"#32CD32\" rx=\"11\" ry=\"11\" style=\"stroke: #A80036; stroke-width: 1.0;\"/><path d=\"M150.8125,64.9688 L150.8125,54.375 L154.4219,54.375 Q155.6406,54.375 156.4375,54.8125 Q157.2344,55.2344 157.6094,55.9375 Q158,56.6406 158,57.4844 Q158,58.3281 157.625,59.0156 Q157.2656,59.7031 156.4688,60.125 Q155.6875,60.5313 154.5,60.5313 L152.7656,60.5313 L152.7656,64.9688 L150.8125,64.9688 Z M152.7656,58.9375 L154.375,58.9375 Q155.1875,58.9375 155.6094,58.5313 Q156.0313,58.125 156.0313,57.4844 Q156.0313,56.8594 155.6094,56.4531 Q155.1875,56.0469 154.3906,56.0469 L152.7656,56.0469 L152.7656,58.9375 Z \"/><text fill=\"#000000\" font-family=\"sans-serif\" font-size=\"12\" font-style=\"italic\" lengthAdjust=\"spacingAndGlyphs\" textLength=\"40\" x=\"168\" y=\"57.1387\">«part»</text><text fill=\"#000000\" font-family=\"sans-serif\" font-size=\"12\" lengthAdjust=\"spacingAndGlyphs\" textLength=\"40\" x=\"168\" y=\"71.1074\">p1: P1</text><line style=\"stroke: #A80036; stroke-width: 1.5;\" x1=\"140\" x2=\"210\" y1=\"78.9375\" y2=\"78.9375\"/></a><!--MD5=[60a26617385b1d2d0262a64233df1f8d]\n",
       "class E6--><a href=\"psysml:1cf4d29b-7212-465e-9bfc-2d9d3c47093a\" target=\"_top\" title=\"psysml:1cf4d29b-7212-465e-9bfc-2d9d3c47093a\" xlink:actuate=\"onRequest\" xlink:href=\"psysml:1cf4d29b-7212-465e-9bfc-2d9d3c47093a\" xlink:show=\"new\" xlink:title=\"psysml:1cf4d29b-7212-465e-9bfc-2d9d3c47093a\" xlink:type=\"simple\"><rect fill=\"#FEFECE\" filter=\"url(#f1kn46984ba92s)\" height=\"45.9375\" id=\"E6\" rx=\"10\" ry=\"10\" style=\"stroke: #A80036; stroke-width: 1.5;\" width=\"68\" x=\"104\" y=\"147\"/><ellipse cx=\"119\" cy=\"165.9688\" fill=\"#0000FF\" rx=\"11\" ry=\"11\" style=\"stroke: #A80036; stroke-width: 1.0;\"/><path d=\"M115.8125,170.9688 L115.8125,160.375 L119.4219,160.375 Q120.6406,160.375 121.4375,160.8125 Q122.2344,161.2344 122.6094,161.9375 Q123,162.6406 123,163.4844 Q123,164.3281 122.625,165.0156 Q122.2656,165.7031 121.4688,166.125 Q120.6875,166.5313 119.5,166.5313 L117.7656,166.5313 L117.7656,170.9688 L115.8125,170.9688 Z M117.7656,164.9375 L119.375,164.9375 Q120.1875,164.9375 120.6094,164.5313 Q121.0313,164.125 121.0313,163.4844 Q121.0313,162.8594 120.6094,162.4531 Q120.1875,162.0469 119.3906,162.0469 L117.7656,162.0469 L117.7656,164.9375 Z \"/><text fill=\"#000000\" font-family=\"sans-serif\" font-size=\"12\" font-style=\"italic\" lengthAdjust=\"spacingAndGlyphs\" textLength=\"40\" x=\"131\" y=\"163.1387\">«port»</text><text fill=\"#000000\" font-family=\"sans-serif\" font-size=\"12\" lengthAdjust=\"spacingAndGlyphs\" textLength=\"24\" x=\"139\" y=\"177.1074\">po1</text><line style=\"stroke: #A80036; stroke-width: 1.5;\" x1=\"105\" x2=\"171\" y1=\"184.9375\" y2=\"184.9375\"/></a><!--MD5=[2156ba9850f5573cc1fc38a6a4b2f02b]\n",
       "class E7--><a href=\"psysml:d750b59a-5fb4-49de-a141-6edbceed9fe9\" target=\"_top\" title=\"psysml:d750b59a-5fb4-49de-a141-6edbceed9fe9\" xlink:actuate=\"onRequest\" xlink:href=\"psysml:d750b59a-5fb4-49de-a141-6edbceed9fe9\" xlink:show=\"new\" xlink:title=\"psysml:d750b59a-5fb4-49de-a141-6edbceed9fe9\" xlink:type=\"simple\"><rect fill=\"#FEFECE\" filter=\"url(#f1kn46984ba92s)\" height=\"45.9375\" id=\"E7\" rx=\"10\" ry=\"10\" style=\"stroke: #A80036; stroke-width: 1.5;\" width=\"72\" x=\"32\" y=\"41\"/><ellipse cx=\"47\" cy=\"59.9688\" fill=\"#32CD32\" rx=\"11\" ry=\"11\" style=\"stroke: #A80036; stroke-width: 1.0;\"/><path d=\"M43.8125,64.9688 L43.8125,54.375 L47.4219,54.375 Q48.6406,54.375 49.4375,54.8125 Q50.2344,55.2344 50.6094,55.9375 Q51,56.6406 51,57.4844 Q51,58.3281 50.625,59.0156 Q50.2656,59.7031 49.4688,60.125 Q48.6875,60.5313 47.5,60.5313 L45.7656,60.5313 L45.7656,64.9688 L43.8125,64.9688 Z M45.7656,58.9375 L47.375,58.9375 Q48.1875,58.9375 48.6094,58.5313 Q49.0313,58.125 49.0313,57.4844 Q49.0313,56.8594 48.6094,56.4531 Q48.1875,56.0469 47.3906,56.0469 L45.7656,56.0469 L45.7656,58.9375 Z \"/><text fill=\"#000000\" font-family=\"sans-serif\" font-size=\"12\" font-style=\"italic\" lengthAdjust=\"spacingAndGlyphs\" textLength=\"40\" x=\"61\" y=\"57.1387\">«part»</text><text fill=\"#000000\" font-family=\"sans-serif\" font-size=\"12\" lengthAdjust=\"spacingAndGlyphs\" textLength=\"40\" x=\"61\" y=\"71.1074\">p2: P1</text><line style=\"stroke: #A80036; stroke-width: 1.5;\" x1=\"33\" x2=\"103\" y1=\"78.9375\" y2=\"78.9375\"/></a><!--MD5=[b9389687b975829384b498ac4b7476b2]\n",
       "class E8--><a href=\"psysml:1ab4a2c7-e640-4092-b309-d8474ba4cc31\" target=\"_top\" title=\"psysml:1ab4a2c7-e640-4092-b309-d8474ba4cc31\" xlink:actuate=\"onRequest\" xlink:href=\"psysml:1ab4a2c7-e640-4092-b309-d8474ba4cc31\" xlink:show=\"new\" xlink:title=\"psysml:1ab4a2c7-e640-4092-b309-d8474ba4cc31\" xlink:type=\"simple\"><rect fill=\"#FEFECE\" filter=\"url(#f1kn46984ba92s)\" height=\"45.9375\" id=\"E8\" rx=\"10\" ry=\"10\" style=\"stroke: #A80036; stroke-width: 1.5;\" width=\"68\" x=\"63\" y=\"253\"/><ellipse cx=\"78\" cy=\"271.9688\" fill=\"#0000FF\" rx=\"11\" ry=\"11\" style=\"stroke: #A80036; stroke-width: 1.0;\"/><path d=\"M74.8125,276.9688 L74.8125,266.375 L78.4219,266.375 Q79.6406,266.375 80.4375,266.8125 Q81.2344,267.2344 81.6094,267.9375 Q82,268.6406 82,269.4844 Q82,270.3281 81.625,271.0156 Q81.2656,271.7031 80.4688,272.125 Q79.6875,272.5313 78.5,272.5313 L76.7656,272.5313 L76.7656,276.9688 L74.8125,276.9688 Z M76.7656,270.9375 L78.375,270.9375 Q79.1875,270.9375 79.6094,270.5313 Q80.0313,270.125 80.0313,269.4844 Q80.0313,268.8594 79.6094,268.4531 Q79.1875,268.0469 78.3906,268.0469 L76.7656,268.0469 L76.7656,270.9375 Z \"/><text fill=\"#000000\" font-family=\"sans-serif\" font-size=\"12\" font-style=\"italic\" lengthAdjust=\"spacingAndGlyphs\" textLength=\"40\" x=\"90\" y=\"269.1387\">«port»</text><text fill=\"#000000\" font-family=\"sans-serif\" font-size=\"12\" lengthAdjust=\"spacingAndGlyphs\" textLength=\"36\" x=\"92\" y=\"283.1074\">pdest</text><line style=\"stroke: #A80036; stroke-width: 1.5;\" x1=\"64\" x2=\"130\" y1=\"290.9375\" y2=\"290.9375\"/></a><!--MD5=[4672eba38e49728da53d11aeb285b987]\n",
       "reverse link E3 to E4--><a href=\"psysml:b0a1a3b9-a387-42d1-a567-e540cd2e1d19\" target=\"_top\" title=\"psysml:b0a1a3b9-a387-42d1-a567-e540cd2e1d19\" xlink:actuate=\"onRequest\" xlink:href=\"psysml:b0a1a3b9-a387-42d1-a567-e540cd2e1d19\" xlink:show=\"new\" xlink:title=\"psysml:b0a1a3b9-a387-42d1-a567-e540cd2e1d19\" xlink:type=\"simple\"><path d=\"M219.1,203.25 C217.65,219.33 218.05,238.37 220.33,252.8 \" fill=\"none\" id=\"E3&lt;-E4\" style=\"stroke: #A80036; stroke-width: 1.0;\"/><polygon fill=\"#FFFFFF\" points=\"220.87,190.08,216.1137,195.5001,219.2875,201.9752,224.0438,196.5551,220.87,190.08\" style=\"stroke: #A80036; stroke-width: 1.0;\"/><text fill=\"#000000\" font-family=\"sans-serif\" font-size=\"13\" lengthAdjust=\"spacingAndGlyphs\" textLength=\"8\" x=\"208.5708\" y=\"242.025\">1</text></a><!--MD5=[4672eba38e49728da53d11aeb285b987]\n",
       "reverse link E3 to E4--><a href=\"psysml:b116cd08-9727-4fd8-b1d3-1b9f6deb041c\" target=\"_top\" title=\"psysml:b116cd08-9727-4fd8-b1d3-1b9f6deb041c\" xlink:actuate=\"onRequest\" xlink:href=\"psysml:b116cd08-9727-4fd8-b1d3-1b9f6deb041c\" xlink:show=\"new\" xlink:title=\"psysml:b116cd08-9727-4fd8-b1d3-1b9f6deb041c\" xlink:type=\"simple\"><path d=\"M243.77,205.22 C245.1,220.87 244.61,238.96 242.3,252.8 \" fill=\"none\" id=\"E3&lt;-E4-1\" style=\"stroke: #A80036; stroke-width: 1.0; stroke-dasharray: 7.0,7.0;\"/><ellipse cx=\"242.7963\" cy=\"198.0086\" fill=\"#FFFFFF\" rx=\"8\" ry=\"8\" style=\"stroke: #A80036; stroke-width: 1.0;\"/><line style=\"stroke: #A80036; stroke-width: 1.0;\" x1=\"243.8626\" x2=\"241.73\" y1=\"205.9372\" y2=\"190.08\"/><line style=\"stroke: #A80036; stroke-width: 1.0;\" x1=\"234.8677\" x2=\"250.7249\" y1=\"199.0749\" y2=\"196.9423\"/><text fill=\"#000000\" font-family=\"sans-serif\" font-size=\"13\" lengthAdjust=\"spacingAndGlyphs\" textLength=\"8\" x=\"236.1706\" y=\"242.025\">1</text></a><!--MD5=[e9be52314489bd878ff4c7144b63c9e1]\n",
       "link E5 to E3--><a href=\"psysml:b60c9595-85bf-4c72-aa43-c7c5a3162c28\" target=\"_top\" title=\"psysml:b60c9595-85bf-4c72-aa43-c7c5a3162c28\" xlink:actuate=\"onRequest\" xlink:href=\"psysml:b60c9595-85bf-4c72-aa43-c7c5a3162c28\" xlink:show=\"new\" xlink:title=\"psysml:b60c9595-85bf-4c72-aa43-c7c5a3162c28\" xlink:type=\"simple\"><path d=\"M186.88,87.06 C193.92,100.14 203.03,117.05 211.14,132.11 \" fill=\"none\" id=\"E5-&gt;E3\" style=\"stroke: #A80036; stroke-width: 1.0;\"/><polygon fill=\"#FFFFFF\" points=\"220.65,149.77,205.4866,136.3509,217.817,129.7207,220.65,149.77\" style=\"stroke: #A80036; stroke-width: 1.0;\"/><ellipse cx=\"204.5486\" cy=\"130.3835\" fill=\"#A80036\" rx=\"2\" ry=\"2\" style=\"stroke: #A80036; stroke-width: 1.0;\"/><ellipse cx=\"213.3561\" cy=\"125.6476\" fill=\"#A80036\" rx=\"2\" ry=\"2\" style=\"stroke: #A80036; stroke-width: 1.0;\"/></a><!--MD5=[85d356282659285ab4b2cfe2f634dd2b]\n",
       "reverse link E5 to E6--><a href=\"psysml:5e5f570b-f88f-4e5d-bde6-a1031949a59c\" target=\"_top\" title=\"psysml:5e5f570b-f88f-4e5d-bde6-a1031949a59c\" xlink:actuate=\"onRequest\" xlink:href=\"psysml:5e5f570b-f88f-4e5d-bde6-a1031949a59c\" xlink:show=\"new\" xlink:title=\"psysml:5e5f570b-f88f-4e5d-bde6-a1031949a59c\" xlink:type=\"simple\"><path d=\"M162.73,99.49 C157.16,115.15 150.74,133.19 145.84,146.98 \" fill=\"none\" id=\"E5&lt;-E6\" style=\"stroke: #A80036; stroke-width: 1.0;\"/><polygon fill=\"#FFFFFF\" points=\"167.15,87.06,161.3698,91.3715,163.1265,98.3654,168.9067,94.0539,167.15,87.06\" style=\"stroke: #A80036; stroke-width: 1.0;\"/><text fill=\"#000000\" font-family=\"sans-serif\" font-size=\"13\" lengthAdjust=\"spacingAndGlyphs\" textLength=\"8\" x=\"138.872\" y=\"135.8709\">1</text></a><!--MD5=[f667431f98296947986a1a7595a31603]\n",
       "link E6 to E4--><a href=\"psysml:ccd9da30-2bd5-4e38-bf20-b9f9621d2107\" target=\"_top\" title=\"psysml:ccd9da30-2bd5-4e38-bf20-b9f9621d2107\" xlink:actuate=\"onRequest\" xlink:href=\"psysml:ccd9da30-2bd5-4e38-bf20-b9f9621d2107\" xlink:show=\"new\" xlink:title=\"psysml:ccd9da30-2bd5-4e38-bf20-b9f9621d2107\" xlink:type=\"simple\"><path d=\"M157.72,193.06 C169.31,206.02 184.27,222.74 197.65,237.7 \" fill=\"none\" id=\"E6-&gt;E4\" style=\"stroke: #A80036; stroke-width: 1.0;\"/><polygon fill=\"#FFFFFF\" points=\"211.31,252.98,193.4253,243.486,203.8597,234.152,211.31,252.98\" style=\"stroke: #A80036; stroke-width: 1.0;\"/><line style=\"stroke: #A80036; stroke-width: 2.0;\" x1=\"190.8918\" x2=\"201.3262\" y1=\"240.6538\" y2=\"231.3198\"/></a><!--MD5=[14ccda38c055a5c0da953d572bc50960]\n",
       "link E7 to E3--><a href=\"psysml:8fc3f931-75e6-473d-9c07-27a38ec18c6d\" target=\"_top\" title=\"psysml:8fc3f931-75e6-473d-9c07-27a38ec18c6d\" xlink:actuate=\"onRequest\" xlink:href=\"psysml:8fc3f931-75e6-473d-9c07-27a38ec18c6d\" xlink:show=\"new\" xlink:title=\"psysml:8fc3f931-75e6-473d-9c07-27a38ec18c6d\" xlink:type=\"simple\"><path d=\"M102.57,87.06 C127.93,103.24 162.49,125.29 189.37,142.44 \" fill=\"none\" id=\"E7-&gt;E3\" style=\"stroke: #A80036; stroke-width: 1.0;\"/><polygon fill=\"#FFFFFF\" points=\"206.54,153.39,186.7577,149.0701,194.2889,137.2683,206.54,153.39\" style=\"stroke: #A80036; stroke-width: 1.0;\"/><ellipse cx=\"183.0286\" cy=\"144.3178\" fill=\"#A80036\" rx=\"2\" ry=\"2\" style=\"stroke: #A80036; stroke-width: 1.0;\"/><ellipse cx=\"188.408\" cy=\"135.888\" fill=\"#A80036\" rx=\"2\" ry=\"2\" style=\"stroke: #A80036; stroke-width: 1.0;\"/></a><!--MD5=[dc164f5e8a733ab456ef1add180e9e34]\n",
       "reverse link E7 to E8--><a href=\"psysml:36a32e90-a022-4c42-9b64-7c79f5d1d72c\" target=\"_top\" title=\"psysml:36a32e90-a022-4c42-9b64-7c79f5d1d72c\" xlink:actuate=\"onRequest\" xlink:href=\"psysml:36a32e90-a022-4c42-9b64-7c79f5d1d72c\" xlink:show=\"new\" xlink:title=\"psysml:36a32e90-a022-4c42-9b64-7c79f5d1d72c\" xlink:type=\"simple\"><path d=\"M63.05,100.09 C64.65,143.61 75.25,216.5 85.75,252.9 \" fill=\"none\" id=\"E7&lt;-E8\" style=\"stroke: #A80036; stroke-width: 1.0;\"/><polygon fill=\"#FFFFFF\" points=\"62.85,87.08,58.9362,93.1366,63.0216,99.0788,66.9354,93.0222,62.85,87.08\" style=\"stroke: #A80036; stroke-width: 1.0;\"/><text fill=\"#000000\" font-family=\"sans-serif\" font-size=\"13\" lengthAdjust=\"spacingAndGlyphs\" textLength=\"8\" x=\"73.6516\" y=\"241.7694\">1</text></a><!--MD5=[dc164f5e8a733ab456ef1add180e9e34]\n",
       "reverse link E7 to E8--><a href=\"psysml:346ab8ae-1d2f-462f-a94e-fae0b61189bf\" target=\"_top\" title=\"psysml:346ab8ae-1d2f-462f-a94e-fae0b61189bf\" xlink:actuate=\"onRequest\" xlink:href=\"psysml:346ab8ae-1d2f-462f-a94e-fae0b61189bf\" xlink:show=\"new\" xlink:title=\"psysml:346ab8ae-1d2f-462f-a94e-fae0b61189bf\" xlink:type=\"simple\"><path d=\"M83.64,101.8 C94.15,145.5 103.39,216.97 102.63,252.9 \" fill=\"none\" id=\"E7&lt;-E8-1\" style=\"stroke: #A80036; stroke-width: 1.0; stroke-dasharray: 7.0,7.0;\"/><ellipse cx=\"81.7794\" cy=\"94.813\" fill=\"#FFFFFF\" rx=\"8\" ry=\"8\" style=\"stroke: #A80036; stroke-width: 1.0;\"/><line style=\"stroke: #A80036; stroke-width: 1.0;\" x1=\"83.8289\" x2=\"79.73\" y1=\"102.5461\" y2=\"87.08\"/><line style=\"stroke: #A80036; stroke-width: 1.0;\" x1=\"74.0464\" x2=\"89.5125\" y1=\"96.8625\" y2=\"92.7636\"/><text fill=\"#000000\" font-family=\"sans-serif\" font-size=\"13\" lengthAdjust=\"spacingAndGlyphs\" textLength=\"8\" x=\"95.0681\" y=\"241.7694\">1</text></a><!--MD5=[0a839d0f80c2d72d4b9b307f046d0de8]\n",
       "link E6 to E8--><a href=\"psysml:eaab9895-3808-4b7e-ad70-425cb7403c1b\" target=\"_top\" title=\"psysml:eaab9895-3808-4b7e-ad70-425cb7403c1b\" xlink:actuate=\"onRequest\" xlink:href=\"psysml:eaab9895-3808-4b7e-ad70-425cb7403c1b\" xlink:show=\"new\" xlink:title=\"psysml:eaab9895-3808-4b7e-ad70-425cb7403c1b\" xlink:type=\"simple\"><path d=\"M118.66,193.06 C108.89,210.7 99.19,235.34 95.04,252.98 \" fill=\"none\" id=\"E6-E8\" style=\"stroke: #A80036; stroke-width: 3.0;\"/><text fill=\"#000000\" font-family=\"sans-serif\" font-size=\"13\" lengthAdjust=\"spacingAndGlyphs\" textLength=\"7\" x=\"86.5726\" y=\"241.8709\">*</text></a><!--MD5=[0a839d0f80c2d72d4b9b307f046d0de8]\n",
       "link E6 to E8--><a href=\"psysml:18885de6-563e-4dd2-a418-c135b5ffccd4\" target=\"_top\" title=\"psysml:18885de6-563e-4dd2-a418-c135b5ffccd4\" xlink:actuate=\"onRequest\" xlink:href=\"psysml:18885de6-563e-4dd2-a418-c135b5ffccd4\" xlink:show=\"new\" xlink:title=\"psysml:18885de6-563e-4dd2-a418-c135b5ffccd4\" xlink:type=\"simple\"><path d=\"M140.58,193.06 C136.59,210.7 126.88,235.34 116.95,252.98 \" fill=\"none\" id=\"E6-E8-1\" style=\"stroke: #A80036; stroke-width: 3.0;\"/><text fill=\"#000000\" font-family=\"sans-serif\" font-size=\"13\" lengthAdjust=\"spacingAndGlyphs\" textLength=\"7\" x=\"114.3709\" y=\"241.8709\">*</text></a><!--MD5=[73286a827d89cbf3ebf79e42c7ae5ddd]\n",
       "@startuml\r\n",
       " \r\n",
       "package \"AliasTest\" as E1  [[psysml:abede473-ce86-4cf2-9b0f-bcad92dda7df ]]  {\r\n",
       "comp usage \"q\" as E2 << <<(U,orange) attribute>> [[psysml:84563fde-fc3c-4caa-a0d2-03a4409edda3 ]] {\r\n",
       "}\r\n",
       "comp def \"P1\" as E3 << << (B,green) >> [[psysml:f240402e-e520-4bd4-a2fa-a40388aadc9d ]] {\r\n",
       "}\r\n",
       "comp usage \"porig1\" as E4 << << (P,blue) port>> [[psysml:fb61bd91-52ec-4d42-be8a-ef485ce794d8 ]] {\r\n",
       "}\r\n",
       "comp usage \"p1: P1\" as E5 << << (P,limegreen) part>> [[psysml:66a2f39c-c11d-47e1-a04e-46a9b54c38c0 ]] {\r\n",
       "}\r\n",
       "comp usage \"po1\" as E6 << << (P,blue) port>> [[psysml:1cf4d29b-7212-465e-9bfc-2d9d3c47093a ]] {\r\n",
       "}\r\n",
       "comp usage \"p2: P1\" as E7 << << (P,limegreen) part>> [[psysml:d750b59a-5fb4-49de-a141-6edbceed9fe9 ]] {\r\n",
       "}\r\n",
       "comp usage \"pdest\" as E8 << << (P,blue) port>> [[psysml:1ab4a2c7-e640-4092-b309-d8474ba4cc31 ]] {\r\n",
       "}\r\n",
       "}\r\n",
       "E3 o- - \"1\"E4 [[psysml:b0a1a3b9-a387-42d1-a567-e540cd2e1d19 ]] \r\n",
       "E3 +.. \"1\"E4 [[psysml:b116cd08-9727-4fd8-b1d3-1b9f6deb041c ]] \r\n",
       "E5 - -:|> E3 [[psysml:b60c9595-85bf-4c72-aa43-c7c5a3162c28 ]] \r\n",
       "E5 o- - \"1\"E6 [[psysml:5e5f570b-f88f-4e5d-bde6-a1031949a59c ]] \r\n",
       "E6 - -||> E4 [[psysml:ccd9da30-2bd5-4e38-bf20-b9f9621d2107 ]] \r\n",
       "E7 - -:|> E3 [[psysml:8fc3f931-75e6-473d-9c07-27a38ec18c6d ]] \r\n",
       "E7 o- - \"1\"E8 [[psysml:36a32e90-a022-4c42-9b64-7c79f5d1d72c ]] \r\n",
       "E7 +.. \"1\"E8 [[psysml:346ab8ae-1d2f-462f-a94e-fae0b61189bf ]] \r\n",
       "E6 -[thickness=3]- \"*\"E8 [[psysml:eaab9895-3808-4b7e-ad70-425cb7403c1b ]] \r\n",
       "E6 -[thickness=3]- \"*\"E8 [[psysml:18885de6-563e-4dd2-a418-c135b5ffccd4 ]] \r\n",
       "@enduml\r\n",
       "\n",
       "PlantUML version 1.2020.13(Sat Jun 13 12:26:38 UTC 2020)\n",
       "(EPL source distribution)\n",
       "Java Runtime: OpenJDK Runtime Environment\n",
       "JVM: OpenJDK 64-Bit Server VM\n",
       "Default Encoding: UTF-8\n",
       "Language: en\n",
       "Country: null\n",
       "--></g></svg>"
      ]
     },
     "execution_count": 36,
     "metadata": {},
     "output_type": "execute_result"
    }
   ],
   "source": [
    "%viz --style=\"PLANTUML\" --view=\"MIXED\" \"AliasTest\""
   ]
  },
  {
   "cell_type": "code",
   "execution_count": 37,
   "id": "449f3b4b",
   "metadata": {
    "execution": {
     "iopub.execute_input": "2021-09-27T07:19:10.541185Z",
     "iopub.status.busy": "2021-09-27T07:19:10.540744Z",
     "iopub.status.idle": "2021-09-27T07:19:10.563994Z",
     "shell.execute_reply": "2021-09-27T07:19:10.563631Z"
    }
   },
   "outputs": [
    {
     "data": {
      "image/svg+xml": [
       "<?xml version=\"1.0\" encoding=\"UTF-8\" standalone=\"no\"?><svg xmlns=\"http://www.w3.org/2000/svg\" xmlns:xlink=\"http://www.w3.org/1999/xlink\" contentScriptType=\"application/ecmascript\" contentStyleType=\"text/css\" height=\"327px\" preserveAspectRatio=\"none\" style=\"width:304px;height:327px;\" version=\"1.1\" viewBox=\"0 0 304 327\" width=\"304px\" zoomAndPan=\"magnify\"><defs/><g><!--MD5=[fbc87193dbaf4d95561dea2c320d4a47]\n",
       "cluster E1--><a href=\"psysml:abede473-ce86-4cf2-9b0f-bcad92dda7df\" target=\"_top\" title=\"psysml:abede473-ce86-4cf2-9b0f-bcad92dda7df\" xlink:actuate=\"onRequest\" xlink:href=\"psysml:abede473-ce86-4cf2-9b0f-bcad92dda7df\" xlink:show=\"new\" xlink:title=\"psysml:abede473-ce86-4cf2-9b0f-bcad92dda7df\" xlink:type=\"simple\"><polygon fill=\"#FFFFFF\" points=\"16,6,84,6,91,28.2969,282,28.2969,282,315,16,315,16,6\" style=\"stroke: #000000; stroke-width: 1.5;\"/><line style=\"stroke: #000000; stroke-width: 1.5;\" x1=\"16\" x2=\"91\" y1=\"28.2969\" y2=\"28.2969\"/><text fill=\"#000000\" font-family=\"sans-serif\" font-size=\"14\" font-weight=\"bold\" lengthAdjust=\"spacingAndGlyphs\" textLength=\"62\" x=\"20\" y=\"20.9951\">AliasTest</text></a><!--MD5=[b4997ac47864f28c2f74865a473b2911]\n",
       "class E2--><a href=\"psysml:84563fde-fc3c-4caa-a0d2-03a4409edda3\" target=\"_top\" title=\"psysml:84563fde-fc3c-4caa-a0d2-03a4409edda3\" xlink:actuate=\"onRequest\" xlink:href=\"psysml:84563fde-fc3c-4caa-a0d2-03a4409edda3\" xlink:show=\"new\" xlink:title=\"psysml:84563fde-fc3c-4caa-a0d2-03a4409edda3\" xlink:type=\"simple\"><rect fill=\"#FFFFFF\" height=\"45.9375\" id=\"E2\" rx=\"10\" ry=\"10\" style=\"stroke: #383838; stroke-width: 1.5;\" width=\"71\" x=\"194.5\" y=\"41\"/><text fill=\"#000000\" font-family=\"sans-serif\" font-size=\"12\" font-style=\"italic\" lengthAdjust=\"spacingAndGlyphs\" textLength=\"69\" x=\"195.5\" y=\"57.1387\">«attribute»</text><text fill=\"#000000\" font-family=\"sans-serif\" font-size=\"12\" lengthAdjust=\"spacingAndGlyphs\" textLength=\"8\" x=\"226\" y=\"71.1074\">q</text><line style=\"stroke: #383838; stroke-width: 1.5;\" x1=\"195.5\" x2=\"264.5\" y1=\"78.9375\" y2=\"78.9375\"/></a><!--MD5=[09b614a08d8cba4a07c9adeb5e0fee81]\n",
       "class E3--><a href=\"psysml:f240402e-e520-4bd4-a2fa-a40388aadc9d\" target=\"_top\" title=\"psysml:f240402e-e520-4bd4-a2fa-a40388aadc9d\" xlink:actuate=\"onRequest\" xlink:href=\"psysml:f240402e-e520-4bd4-a2fa-a40388aadc9d\" xlink:show=\"new\" xlink:title=\"psysml:f240402e-e520-4bd4-a2fa-a40388aadc9d\" xlink:type=\"simple\"><rect fill=\"#FFFFFF\" height=\"45.9375\" id=\"E3\" style=\"stroke: #383838; stroke-width: 1.5;\" width=\"66\" x=\"168\" y=\"147\"/><text fill=\"#000000\" font-family=\"sans-serif\" font-size=\"12\" font-style=\"italic\" lengthAdjust=\"spacingAndGlyphs\" textLength=\"64\" x=\"169\" y=\"163.1387\">«part def»</text><text fill=\"#000000\" font-family=\"sans-serif\" font-size=\"12\" lengthAdjust=\"spacingAndGlyphs\" textLength=\"16\" x=\"193\" y=\"177.1074\">P1</text><line style=\"stroke: #383838; stroke-width: 1.5;\" x1=\"169\" x2=\"233\" y1=\"184.9375\" y2=\"184.9375\"/></a><!--MD5=[ebbe1d658d1005bcc118a6aa81145e00]\n",
       "class E4--><a href=\"psysml:fb61bd91-52ec-4d42-be8a-ef485ce794d8\" target=\"_top\" title=\"psysml:fb61bd91-52ec-4d42-be8a-ef485ce794d8\" xlink:actuate=\"onRequest\" xlink:href=\"psysml:fb61bd91-52ec-4d42-be8a-ef485ce794d8\" xlink:show=\"new\" xlink:title=\"psysml:fb61bd91-52ec-4d42-be8a-ef485ce794d8\" xlink:type=\"simple\"><rect fill=\"#FFFFFF\" height=\"45.9375\" id=\"E4\" rx=\"10\" ry=\"10\" style=\"stroke: #383838; stroke-width: 1.5;\" width=\"46\" x=\"178\" y=\"253\"/><text fill=\"#000000\" font-family=\"sans-serif\" font-size=\"12\" font-style=\"italic\" lengthAdjust=\"spacingAndGlyphs\" textLength=\"40\" x=\"181\" y=\"269.1387\">«port»</text><text fill=\"#000000\" font-family=\"sans-serif\" font-size=\"12\" lengthAdjust=\"spacingAndGlyphs\" textLength=\"40\" x=\"181\" y=\"283.1074\">porig1</text><line style=\"stroke: #383838; stroke-width: 1.5;\" x1=\"179\" x2=\"223\" y1=\"290.9375\" y2=\"290.9375\"/></a><!--MD5=[270fce915f116d4de14055a7c1d9a0f3]\n",
       "class E5--><a href=\"psysml:66a2f39c-c11d-47e1-a04e-46a9b54c38c0\" target=\"_top\" title=\"psysml:66a2f39c-c11d-47e1-a04e-46a9b54c38c0\" xlink:actuate=\"onRequest\" xlink:href=\"psysml:66a2f39c-c11d-47e1-a04e-46a9b54c38c0\" xlink:show=\"new\" xlink:title=\"psysml:66a2f39c-c11d-47e1-a04e-46a9b54c38c0\" xlink:type=\"simple\"><rect fill=\"#FFFFFF\" height=\"45.9375\" id=\"E5\" rx=\"10\" ry=\"10\" style=\"stroke: #383838; stroke-width: 1.5;\" width=\"46\" x=\"113\" y=\"41\"/><text fill=\"#000000\" font-family=\"sans-serif\" font-size=\"12\" font-style=\"italic\" lengthAdjust=\"spacingAndGlyphs\" textLength=\"40\" x=\"116\" y=\"57.1387\">«part»</text><text fill=\"#000000\" font-family=\"sans-serif\" font-size=\"12\" lengthAdjust=\"spacingAndGlyphs\" textLength=\"40\" x=\"116\" y=\"71.1074\">p1: P1</text><line style=\"stroke: #383838; stroke-width: 1.5;\" x1=\"114\" x2=\"158\" y1=\"78.9375\" y2=\"78.9375\"/></a><!--MD5=[60a26617385b1d2d0262a64233df1f8d]\n",
       "class E6--><a href=\"psysml:1cf4d29b-7212-465e-9bfc-2d9d3c47093a\" target=\"_top\" title=\"psysml:1cf4d29b-7212-465e-9bfc-2d9d3c47093a\" xlink:actuate=\"onRequest\" xlink:href=\"psysml:1cf4d29b-7212-465e-9bfc-2d9d3c47093a\" xlink:show=\"new\" xlink:title=\"psysml:1cf4d29b-7212-465e-9bfc-2d9d3c47093a\" xlink:type=\"simple\"><rect fill=\"#FFFFFF\" height=\"45.9375\" id=\"E6\" rx=\"10\" ry=\"10\" style=\"stroke: #383838; stroke-width: 1.5;\" width=\"42\" x=\"91\" y=\"147\"/><text fill=\"#000000\" font-family=\"sans-serif\" font-size=\"12\" font-style=\"italic\" lengthAdjust=\"spacingAndGlyphs\" textLength=\"40\" x=\"92\" y=\"163.1387\">«port»</text><text fill=\"#000000\" font-family=\"sans-serif\" font-size=\"12\" lengthAdjust=\"spacingAndGlyphs\" textLength=\"24\" x=\"100\" y=\"177.1074\">po1</text><line style=\"stroke: #383838; stroke-width: 1.5;\" x1=\"92\" x2=\"132\" y1=\"184.9375\" y2=\"184.9375\"/></a><!--MD5=[2156ba9850f5573cc1fc38a6a4b2f02b]\n",
       "class E7--><a href=\"psysml:d750b59a-5fb4-49de-a141-6edbceed9fe9\" target=\"_top\" title=\"psysml:d750b59a-5fb4-49de-a141-6edbceed9fe9\" xlink:actuate=\"onRequest\" xlink:href=\"psysml:d750b59a-5fb4-49de-a141-6edbceed9fe9\" xlink:show=\"new\" xlink:title=\"psysml:d750b59a-5fb4-49de-a141-6edbceed9fe9\" xlink:type=\"simple\"><rect fill=\"#FFFFFF\" height=\"45.9375\" id=\"E7\" rx=\"10\" ry=\"10\" style=\"stroke: #383838; stroke-width: 1.5;\" width=\"46\" x=\"32\" y=\"41\"/><text fill=\"#000000\" font-family=\"sans-serif\" font-size=\"12\" font-style=\"italic\" lengthAdjust=\"spacingAndGlyphs\" textLength=\"40\" x=\"35\" y=\"57.1387\">«part»</text><text fill=\"#000000\" font-family=\"sans-serif\" font-size=\"12\" lengthAdjust=\"spacingAndGlyphs\" textLength=\"40\" x=\"35\" y=\"71.1074\">p2: P1</text><line style=\"stroke: #383838; stroke-width: 1.5;\" x1=\"33\" x2=\"77\" y1=\"78.9375\" y2=\"78.9375\"/></a><!--MD5=[b9389687b975829384b498ac4b7476b2]\n",
       "class E8--><a href=\"psysml:1ab4a2c7-e640-4092-b309-d8474ba4cc31\" target=\"_top\" title=\"psysml:1ab4a2c7-e640-4092-b309-d8474ba4cc31\" xlink:actuate=\"onRequest\" xlink:href=\"psysml:1ab4a2c7-e640-4092-b309-d8474ba4cc31\" xlink:show=\"new\" xlink:title=\"psysml:1ab4a2c7-e640-4092-b309-d8474ba4cc31\" xlink:type=\"simple\"><rect fill=\"#FFFFFF\" height=\"45.9375\" id=\"E8\" rx=\"10\" ry=\"10\" style=\"stroke: #383838; stroke-width: 1.5;\" width=\"42\" x=\"63\" y=\"253\"/><text fill=\"#000000\" font-family=\"sans-serif\" font-size=\"12\" font-style=\"italic\" lengthAdjust=\"spacingAndGlyphs\" textLength=\"40\" x=\"64\" y=\"269.1387\">«port»</text><text fill=\"#000000\" font-family=\"sans-serif\" font-size=\"12\" lengthAdjust=\"spacingAndGlyphs\" textLength=\"36\" x=\"66\" y=\"283.1074\">pdest</text><line style=\"stroke: #383838; stroke-width: 1.5;\" x1=\"64\" x2=\"104\" y1=\"290.9375\" y2=\"290.9375\"/></a><!--MD5=[4672eba38e49728da53d11aeb285b987]\n",
       "reverse link E3 to E4--><a href=\"psysml:b0a1a3b9-a387-42d1-a567-e540cd2e1d19\" target=\"_top\" title=\"psysml:b0a1a3b9-a387-42d1-a567-e540cd2e1d19\" xlink:actuate=\"onRequest\" xlink:href=\"psysml:b0a1a3b9-a387-42d1-a567-e540cd2e1d19\" xlink:show=\"new\" xlink:title=\"psysml:b0a1a3b9-a387-42d1-a567-e540cd2e1d19\" xlink:type=\"simple\"><path d=\"M188.84,206.44 C187.7,221.87 188.21,239.47 190.36,252.98 \" fill=\"none\" id=\"E3&lt;-E4\" style=\"stroke: #383838; stroke-width: 1.0;\"/><polygon fill=\"#FFFFFF\" points=\"190.35,193.06,185.7032,198.5743,189.006,204.9845,193.6528,199.4702,190.35,193.06\" style=\"stroke: #383838; stroke-width: 1.0;\"/><text fill=\"#000000\" font-family=\"sans-serif\" font-size=\"13\" lengthAdjust=\"spacingAndGlyphs\" textLength=\"8\" x=\"178.4255\" y=\"241.8709\">1</text></a><!--MD5=[4672eba38e49728da53d11aeb285b987]\n",
       "reverse link E3 to E4--><a href=\"psysml:b116cd08-9727-4fd8-b1d3-1b9f6deb041c\" target=\"_top\" title=\"psysml:b116cd08-9727-4fd8-b1d3-1b9f6deb041c\" xlink:actuate=\"onRequest\" xlink:href=\"psysml:b116cd08-9727-4fd8-b1d3-1b9f6deb041c\" xlink:show=\"new\" xlink:title=\"psysml:b116cd08-9727-4fd8-b1d3-1b9f6deb041c\" xlink:type=\"simple\"><path d=\"M214.01,208.34 C215.03,223.3 214.45,240.02 212.27,252.98 \" fill=\"none\" id=\"E3&lt;-E4-1\" style=\"stroke: #383838; stroke-width: 1.0; stroke-dasharray: 7.0,7.0;\"/><ellipse cx=\"213.1693\" cy=\"201.0093\" fill=\"#FFFFFF\" rx=\"8\" ry=\"8\" style=\"stroke: #383838; stroke-width: 1.0;\"/><line style=\"stroke: #383838; stroke-width: 1.0;\" x1=\"214.0687\" x2=\"212.27\" y1=\"208.9586\" y2=\"193.06\"/><line style=\"stroke: #383838; stroke-width: 1.0;\" x1=\"205.2201\" x2=\"221.1186\" y1=\"201.9086\" y2=\"200.1099\"/><text fill=\"#000000\" font-family=\"sans-serif\" font-size=\"13\" lengthAdjust=\"spacingAndGlyphs\" textLength=\"8\" x=\"206.2238\" y=\"241.8709\">1</text></a><!--MD5=[e9be52314489bd878ff4c7144b63c9e1]\n",
       "link E5 to E3--><a href=\"psysml:b60c9595-85bf-4c72-aa43-c7c5a3162c28\" target=\"_top\" title=\"psysml:b60c9595-85bf-4c72-aa43-c7c5a3162c28\" xlink:actuate=\"onRequest\" xlink:href=\"psysml:b60c9595-85bf-4c72-aa43-c7c5a3162c28\" xlink:show=\"new\" xlink:title=\"psysml:b60c9595-85bf-4c72-aa43-c7c5a3162c28\" xlink:type=\"simple\"><path d=\"M149.78,87.06 C157.54,99.47 167.45,115.33 176.49,129.78 \" fill=\"none\" id=\"E5-&gt;E3\" style=\"stroke: #383838; stroke-width: 1.0;\"/><polygon fill=\"#FFFFFF\" points=\"187.24,146.98,171.2331,134.5792,183.1045,127.1584,187.24,146.98\" style=\"stroke: #383838; stroke-width: 1.0;\"/><ellipse cx=\"169.9076\" cy=\"128.6857\" fill=\"#383838\" rx=\"2\" ry=\"2\" style=\"stroke: #383838; stroke-width: 1.0;\"/><ellipse cx=\"178.3872\" cy=\"123.3851\" fill=\"#383838\" rx=\"2\" ry=\"2\" style=\"stroke: #383838; stroke-width: 1.0;\"/></a><!--MD5=[85d356282659285ab4b2cfe2f634dd2b]\n",
       "reverse link E5 to E6--><a href=\"psysml:5e5f570b-f88f-4e5d-bde6-a1031949a59c\" target=\"_top\" title=\"psysml:5e5f570b-f88f-4e5d-bde6-a1031949a59c\" xlink:actuate=\"onRequest\" xlink:href=\"psysml:5e5f570b-f88f-4e5d-bde6-a1031949a59c\" xlink:show=\"new\" xlink:title=\"psysml:5e5f570b-f88f-4e5d-bde6-a1031949a59c\" xlink:type=\"simple\"><path d=\"M127.93,99.96 C124.34,115.51 120.23,133.33 117.08,146.98 \" fill=\"none\" id=\"E5&lt;-E6\" style=\"stroke: #383838; stroke-width: 1.0;\"/><polygon fill=\"#FFFFFF\" points=\"130.91,87.06,125.6616,92.0052,128.2078,98.7518,133.4562,93.8066,130.91,87.06\" style=\"stroke: #383838; stroke-width: 1.0;\"/><text fill=\"#000000\" font-family=\"sans-serif\" font-size=\"13\" lengthAdjust=\"spacingAndGlyphs\" textLength=\"8\" x=\"109.3703\" y=\"135.8709\">1</text></a><!--MD5=[f667431f98296947986a1a7595a31603]\n",
       "link E6 to E4--><a href=\"psysml:ccd9da30-2bd5-4e38-bf20-b9f9621d2107\" target=\"_top\" title=\"psysml:ccd9da30-2bd5-4e38-bf20-b9f9621d2107\" xlink:actuate=\"onRequest\" xlink:href=\"psysml:ccd9da30-2bd5-4e38-bf20-b9f9621d2107\" xlink:show=\"new\" xlink:title=\"psysml:ccd9da30-2bd5-4e38-bf20-b9f9621d2107\" xlink:type=\"simple\"><path d=\"M130.87,193.06 C141.97,206.02 156.28,222.74 169.08,237.7 \" fill=\"none\" id=\"E6-&gt;E4\" style=\"stroke: #383838; stroke-width: 1.0;\"/><polygon fill=\"#FFFFFF\" points=\"182.15,252.98,164.4809,243.0905,175.1204,233.9909,182.15,252.98\" style=\"stroke: #383838; stroke-width: 1.0;\"/><line style=\"stroke: #383838; stroke-width: 2.0;\" x1=\"162.011\" x2=\"172.6505\" y1=\"240.2026\" y2=\"231.1031\"/></a><!--MD5=[14ccda38c055a5c0da953d572bc50960]\n",
       "link E7 to E3--><a href=\"psysml:8fc3f931-75e6-473d-9c07-27a38ec18c6d\" target=\"_top\" title=\"psysml:8fc3f931-75e6-473d-9c07-27a38ec18c6d\" xlink:actuate=\"onRequest\" xlink:href=\"psysml:8fc3f931-75e6-473d-9c07-27a38ec18c6d\" xlink:show=\"new\" xlink:title=\"psysml:8fc3f931-75e6-473d-9c07-27a38ec18c6d\" xlink:type=\"simple\"><path d=\"M78.13,81.48 C98.32,95.86 128.25,117.18 153.52,135.18 \" fill=\"none\" id=\"E7-&gt;E3\" style=\"stroke: #383838; stroke-width: 1.0;\"/><polygon fill=\"#FFFFFF\" points=\"170.09,146.98,150.5533,141.6586,158.6755,130.2555,170.09,146.98\" style=\"stroke: #383838; stroke-width: 1.0;\"/><ellipse cx=\"147.0709\" cy=\"136.7227\" fill=\"#383838\" rx=\"2\" ry=\"2\" style=\"stroke: #383838; stroke-width: 1.0;\"/><ellipse cx=\"152.8725\" cy=\"128.5776\" fill=\"#383838\" rx=\"2\" ry=\"2\" style=\"stroke: #383838; stroke-width: 1.0;\"/></a><!--MD5=[dc164f5e8a733ab456ef1add180e9e34]\n",
       "reverse link E7 to E8--><a href=\"psysml:36a32e90-a022-4c42-9b64-7c79f5d1d72c\" target=\"_top\" title=\"psysml:36a32e90-a022-4c42-9b64-7c79f5d1d72c\" xlink:actuate=\"onRequest\" xlink:href=\"psysml:36a32e90-a022-4c42-9b64-7c79f5d1d72c\" xlink:show=\"new\" xlink:title=\"psysml:36a32e90-a022-4c42-9b64-7c79f5d1d72c\" xlink:type=\"simple\"><path d=\"M50.05,100.09 C51.65,143.61 62.25,216.5 72.75,252.9 \" fill=\"none\" id=\"E7&lt;-E8\" style=\"stroke: #383838; stroke-width: 1.0;\"/><polygon fill=\"#FFFFFF\" points=\"49.85,87.08,45.9362,93.1366,50.0216,99.0788,53.9354,93.0222,49.85,87.08\" style=\"stroke: #383838; stroke-width: 1.0;\"/><text fill=\"#000000\" font-family=\"sans-serif\" font-size=\"13\" lengthAdjust=\"spacingAndGlyphs\" textLength=\"8\" x=\"60.6516\" y=\"241.7694\">1</text></a><!--MD5=[dc164f5e8a733ab456ef1add180e9e34]\n",
       "reverse link E7 to E8--><a href=\"psysml:346ab8ae-1d2f-462f-a94e-fae0b61189bf\" target=\"_top\" title=\"psysml:346ab8ae-1d2f-462f-a94e-fae0b61189bf\" xlink:actuate=\"onRequest\" xlink:href=\"psysml:346ab8ae-1d2f-462f-a94e-fae0b61189bf\" xlink:show=\"new\" xlink:title=\"psysml:346ab8ae-1d2f-462f-a94e-fae0b61189bf\" xlink:type=\"simple\"><path d=\"M70.64,101.8 C81.15,145.5 90.39,216.97 89.63,252.9 \" fill=\"none\" id=\"E7&lt;-E8-1\" style=\"stroke: #383838; stroke-width: 1.0; stroke-dasharray: 7.0,7.0;\"/><ellipse cx=\"68.7794\" cy=\"94.813\" fill=\"#FFFFFF\" rx=\"8\" ry=\"8\" style=\"stroke: #383838; stroke-width: 1.0;\"/><line style=\"stroke: #383838; stroke-width: 1.0;\" x1=\"70.8289\" x2=\"66.73\" y1=\"102.5461\" y2=\"87.08\"/><line style=\"stroke: #383838; stroke-width: 1.0;\" x1=\"61.0464\" x2=\"76.5125\" y1=\"96.8625\" y2=\"92.7636\"/><text fill=\"#000000\" font-family=\"sans-serif\" font-size=\"13\" lengthAdjust=\"spacingAndGlyphs\" textLength=\"8\" x=\"92.2181\" y=\"241.7694\">1</text></a><!--MD5=[0a839d0f80c2d72d4b9b307f046d0de8]\n",
       "link E6 to E8--><a href=\"psysml:eaab9895-3808-4b7e-ad70-425cb7403c1b\" target=\"_top\" title=\"psysml:eaab9895-3808-4b7e-ad70-425cb7403c1b\" xlink:actuate=\"onRequest\" xlink:href=\"psysml:eaab9895-3808-4b7e-ad70-425cb7403c1b\" xlink:show=\"new\" xlink:title=\"psysml:eaab9895-3808-4b7e-ad70-425cb7403c1b\" xlink:type=\"simple\"><path d=\"M95.42,193.06 C87.86,210.7 81.23,235.34 79.29,252.98 \" fill=\"none\" id=\"E6-E8\" style=\"stroke: #383838; stroke-width: 3.0;\"/><text fill=\"#000000\" font-family=\"sans-serif\" font-size=\"13\" lengthAdjust=\"spacingAndGlyphs\" textLength=\"7\" x=\"78.9648\" y=\"241.8709\">*</text></a><!--MD5=[0a839d0f80c2d72d4b9b307f046d0de8]\n",
       "link E6 to E8--><a href=\"psysml:18885de6-563e-4dd2-a418-c135b5ffccd4\" target=\"_top\" title=\"psysml:18885de6-563e-4dd2-a418-c135b5ffccd4\" xlink:actuate=\"onRequest\" xlink:href=\"psysml:18885de6-563e-4dd2-a418-c135b5ffccd4\" xlink:show=\"new\" xlink:title=\"psysml:18885de6-563e-4dd2-a418-c135b5ffccd4\" xlink:type=\"simple\"><path d=\"M117.33,193.06 C115.55,210.7 108.92,235.34 101.2,252.98 \" fill=\"none\" id=\"E6-E8-1\" style=\"stroke: #383838; stroke-width: 3.0;\"/><text fill=\"#000000\" font-family=\"sans-serif\" font-size=\"13\" lengthAdjust=\"spacingAndGlyphs\" textLength=\"7\" x=\"97.8819\" y=\"241.8709\">*</text></a><!--MD5=[263098cf120257532e218f63283e73f0]\n",
       "@startuml\r\n",
       "skinparam monochrome true\r\n",
       "skinparam classbackgroundcolor white\r\n",
       "skinparam shadowing false\r\n",
       "skinparam wrapWidth 300\r\n",
       "hide circle\r\n",
       "\r\n",
       "package \"AliasTest\" as E1  [[psysml:abede473-ce86-4cf2-9b0f-bcad92dda7df ]]  {\r\n",
       "comp usage \"q\" as E2  <<(T,blue) attribute>> [[psysml:84563fde-fc3c-4caa-a0d2-03a4409edda3 ]] {\r\n",
       "}\r\n",
       "comp def \"P1\" as E3  <<(T,blue) part def>> [[psysml:f240402e-e520-4bd4-a2fa-a40388aadc9d ]] {\r\n",
       "}\r\n",
       "comp usage \"porig1\" as E4  <<(T,blue) port>> [[psysml:fb61bd91-52ec-4d42-be8a-ef485ce794d8 ]] {\r\n",
       "}\r\n",
       "comp usage \"p1: P1\" as E5  <<(T,blue) part>> [[psysml:66a2f39c-c11d-47e1-a04e-46a9b54c38c0 ]] {\r\n",
       "}\r\n",
       "comp usage \"po1\" as E6  <<(T,blue) port>> [[psysml:1cf4d29b-7212-465e-9bfc-2d9d3c47093a ]] {\r\n",
       "}\r\n",
       "comp usage \"p2: P1\" as E7  <<(T,blue) part>> [[psysml:d750b59a-5fb4-49de-a141-6edbceed9fe9 ]] {\r\n",
       "}\r\n",
       "comp usage \"pdest\" as E8  <<(T,blue) port>> [[psysml:1ab4a2c7-e640-4092-b309-d8474ba4cc31 ]] {\r\n",
       "}\r\n",
       "}\r\n",
       "E3 o- - \"1\"E4 [[psysml:b0a1a3b9-a387-42d1-a567-e540cd2e1d19 ]] \r\n",
       "E3 +.. \"1\"E4 [[psysml:b116cd08-9727-4fd8-b1d3-1b9f6deb041c ]] \r\n",
       "E5 - -:|> E3 [[psysml:b60c9595-85bf-4c72-aa43-c7c5a3162c28 ]] \r\n",
       "E5 o- - \"1\"E6 [[psysml:5e5f570b-f88f-4e5d-bde6-a1031949a59c ]] \r\n",
       "E6 - -||> E4 [[psysml:ccd9da30-2bd5-4e38-bf20-b9f9621d2107 ]] \r\n",
       "E7 - -:|> E3 [[psysml:8fc3f931-75e6-473d-9c07-27a38ec18c6d ]] \r\n",
       "E7 o- - \"1\"E8 [[psysml:36a32e90-a022-4c42-9b64-7c79f5d1d72c ]] \r\n",
       "E7 +.. \"1\"E8 [[psysml:346ab8ae-1d2f-462f-a94e-fae0b61189bf ]] \r\n",
       "E6 -[thickness=3]- \"*\"E8 [[psysml:eaab9895-3808-4b7e-ad70-425cb7403c1b ]] \r\n",
       "E6 -[thickness=3]- \"*\"E8 [[psysml:18885de6-563e-4dd2-a418-c135b5ffccd4 ]] \r\n",
       "@enduml\r\n",
       "\n",
       "PlantUML version 1.2020.13(Sat Jun 13 12:26:38 UTC 2020)\n",
       "(EPL source distribution)\n",
       "Java Runtime: OpenJDK Runtime Environment\n",
       "JVM: OpenJDK 64-Bit Server VM\n",
       "Default Encoding: UTF-8\n",
       "Language: en\n",
       "Country: null\n",
       "--></g></svg>"
      ]
     },
     "execution_count": 37,
     "metadata": {},
     "output_type": "execute_result"
    }
   ],
   "source": [
    "%viz --style=\"DEFAULT\" --view=\"Default\" \"AliasTest\""
   ]
  },
  {
   "cell_type": "code",
   "execution_count": 38,
   "id": "fe1a6e0f",
   "metadata": {
    "execution": {
     "iopub.execute_input": "2021-09-27T07:19:10.614002Z",
     "iopub.status.busy": "2021-09-27T07:19:10.613497Z",
     "iopub.status.idle": "2021-09-27T07:19:10.642254Z",
     "shell.execute_reply": "2021-09-27T07:19:10.640864Z"
    }
   },
   "outputs": [
    {
     "data": {
      "image/svg+xml": [
       "<?xml version=\"1.0\" encoding=\"UTF-8\" standalone=\"no\"?><svg xmlns=\"http://www.w3.org/2000/svg\" xmlns:xlink=\"http://www.w3.org/1999/xlink\" contentScriptType=\"application/ecmascript\" contentStyleType=\"text/css\" height=\"327px\" preserveAspectRatio=\"none\" style=\"width:304px;height:327px;\" version=\"1.1\" viewBox=\"0 0 304 327\" width=\"304px\" zoomAndPan=\"magnify\"><defs/><g><!--MD5=[fbc87193dbaf4d95561dea2c320d4a47]\n",
       "cluster E1--><a href=\"psysml:abede473-ce86-4cf2-9b0f-bcad92dda7df\" target=\"_top\" title=\"psysml:abede473-ce86-4cf2-9b0f-bcad92dda7df\" xlink:actuate=\"onRequest\" xlink:href=\"psysml:abede473-ce86-4cf2-9b0f-bcad92dda7df\" xlink:show=\"new\" xlink:title=\"psysml:abede473-ce86-4cf2-9b0f-bcad92dda7df\" xlink:type=\"simple\"><polygon fill=\"#FFFFFF\" points=\"16,6,84,6,91,28.2969,282,28.2969,282,315,16,315,16,6\" style=\"stroke: #000000; stroke-width: 1.5;\"/><line style=\"stroke: #000000; stroke-width: 1.5;\" x1=\"16\" x2=\"91\" y1=\"28.2969\" y2=\"28.2969\"/><text fill=\"#000000\" font-family=\"sans-serif\" font-size=\"14\" font-weight=\"bold\" lengthAdjust=\"spacingAndGlyphs\" textLength=\"62\" x=\"20\" y=\"20.9951\">AliasTest</text></a><!--MD5=[b4997ac47864f28c2f74865a473b2911]\n",
       "class E2--><a href=\"psysml:84563fde-fc3c-4caa-a0d2-03a4409edda3\" target=\"_top\" title=\"psysml:84563fde-fc3c-4caa-a0d2-03a4409edda3\" xlink:actuate=\"onRequest\" xlink:href=\"psysml:84563fde-fc3c-4caa-a0d2-03a4409edda3\" xlink:show=\"new\" xlink:title=\"psysml:84563fde-fc3c-4caa-a0d2-03a4409edda3\" xlink:type=\"simple\"><rect fill=\"#FFFFFF\" height=\"45.9375\" id=\"E2\" rx=\"10\" ry=\"10\" style=\"stroke: #383838; stroke-width: 1.5;\" width=\"71\" x=\"194.5\" y=\"41\"/><text fill=\"#000000\" font-family=\"sans-serif\" font-size=\"12\" font-style=\"italic\" lengthAdjust=\"spacingAndGlyphs\" textLength=\"69\" x=\"195.5\" y=\"57.1387\">«attribute»</text><text fill=\"#000000\" font-family=\"sans-serif\" font-size=\"12\" lengthAdjust=\"spacingAndGlyphs\" textLength=\"8\" x=\"226\" y=\"71.1074\">q</text><line style=\"stroke: #383838; stroke-width: 1.5;\" x1=\"195.5\" x2=\"264.5\" y1=\"78.9375\" y2=\"78.9375\"/></a><!--MD5=[09b614a08d8cba4a07c9adeb5e0fee81]\n",
       "class E3--><a href=\"psysml:f240402e-e520-4bd4-a2fa-a40388aadc9d\" target=\"_top\" title=\"psysml:f240402e-e520-4bd4-a2fa-a40388aadc9d\" xlink:actuate=\"onRequest\" xlink:href=\"psysml:f240402e-e520-4bd4-a2fa-a40388aadc9d\" xlink:show=\"new\" xlink:title=\"psysml:f240402e-e520-4bd4-a2fa-a40388aadc9d\" xlink:type=\"simple\"><rect fill=\"#FFFFFF\" height=\"45.9375\" id=\"E3\" style=\"stroke: #383838; stroke-width: 1.5;\" width=\"66\" x=\"168\" y=\"147\"/><text fill=\"#000000\" font-family=\"sans-serif\" font-size=\"12\" font-style=\"italic\" lengthAdjust=\"spacingAndGlyphs\" textLength=\"64\" x=\"169\" y=\"163.1387\">«part def»</text><text fill=\"#000000\" font-family=\"sans-serif\" font-size=\"12\" lengthAdjust=\"spacingAndGlyphs\" textLength=\"16\" x=\"193\" y=\"177.1074\">P1</text><line style=\"stroke: #383838; stroke-width: 1.5;\" x1=\"169\" x2=\"233\" y1=\"184.9375\" y2=\"184.9375\"/></a><!--MD5=[ebbe1d658d1005bcc118a6aa81145e00]\n",
       "class E4--><a href=\"psysml:fb61bd91-52ec-4d42-be8a-ef485ce794d8\" target=\"_top\" title=\"psysml:fb61bd91-52ec-4d42-be8a-ef485ce794d8\" xlink:actuate=\"onRequest\" xlink:href=\"psysml:fb61bd91-52ec-4d42-be8a-ef485ce794d8\" xlink:show=\"new\" xlink:title=\"psysml:fb61bd91-52ec-4d42-be8a-ef485ce794d8\" xlink:type=\"simple\"><rect fill=\"#FFFFFF\" height=\"45.9375\" id=\"E4\" rx=\"10\" ry=\"10\" style=\"stroke: #383838; stroke-width: 1.5;\" width=\"46\" x=\"178\" y=\"253\"/><text fill=\"#000000\" font-family=\"sans-serif\" font-size=\"12\" font-style=\"italic\" lengthAdjust=\"spacingAndGlyphs\" textLength=\"40\" x=\"181\" y=\"269.1387\">«port»</text><text fill=\"#000000\" font-family=\"sans-serif\" font-size=\"12\" lengthAdjust=\"spacingAndGlyphs\" textLength=\"40\" x=\"181\" y=\"283.1074\">porig1</text><line style=\"stroke: #383838; stroke-width: 1.5;\" x1=\"179\" x2=\"223\" y1=\"290.9375\" y2=\"290.9375\"/></a><!--MD5=[270fce915f116d4de14055a7c1d9a0f3]\n",
       "class E5--><a href=\"psysml:66a2f39c-c11d-47e1-a04e-46a9b54c38c0\" target=\"_top\" title=\"psysml:66a2f39c-c11d-47e1-a04e-46a9b54c38c0\" xlink:actuate=\"onRequest\" xlink:href=\"psysml:66a2f39c-c11d-47e1-a04e-46a9b54c38c0\" xlink:show=\"new\" xlink:title=\"psysml:66a2f39c-c11d-47e1-a04e-46a9b54c38c0\" xlink:type=\"simple\"><rect fill=\"#FFFFFF\" height=\"45.9375\" id=\"E5\" rx=\"10\" ry=\"10\" style=\"stroke: #383838; stroke-width: 1.5;\" width=\"46\" x=\"113\" y=\"41\"/><text fill=\"#000000\" font-family=\"sans-serif\" font-size=\"12\" font-style=\"italic\" lengthAdjust=\"spacingAndGlyphs\" textLength=\"40\" x=\"116\" y=\"57.1387\">«part»</text><text fill=\"#000000\" font-family=\"sans-serif\" font-size=\"12\" lengthAdjust=\"spacingAndGlyphs\" textLength=\"40\" x=\"116\" y=\"71.1074\">p1: P1</text><line style=\"stroke: #383838; stroke-width: 1.5;\" x1=\"114\" x2=\"158\" y1=\"78.9375\" y2=\"78.9375\"/></a><!--MD5=[60a26617385b1d2d0262a64233df1f8d]\n",
       "class E6--><a href=\"psysml:1cf4d29b-7212-465e-9bfc-2d9d3c47093a\" target=\"_top\" title=\"psysml:1cf4d29b-7212-465e-9bfc-2d9d3c47093a\" xlink:actuate=\"onRequest\" xlink:href=\"psysml:1cf4d29b-7212-465e-9bfc-2d9d3c47093a\" xlink:show=\"new\" xlink:title=\"psysml:1cf4d29b-7212-465e-9bfc-2d9d3c47093a\" xlink:type=\"simple\"><rect fill=\"#FFFFFF\" height=\"45.9375\" id=\"E6\" rx=\"10\" ry=\"10\" style=\"stroke: #383838; stroke-width: 1.5;\" width=\"42\" x=\"91\" y=\"147\"/><text fill=\"#000000\" font-family=\"sans-serif\" font-size=\"12\" font-style=\"italic\" lengthAdjust=\"spacingAndGlyphs\" textLength=\"40\" x=\"92\" y=\"163.1387\">«port»</text><text fill=\"#000000\" font-family=\"sans-serif\" font-size=\"12\" lengthAdjust=\"spacingAndGlyphs\" textLength=\"24\" x=\"100\" y=\"177.1074\">po1</text><line style=\"stroke: #383838; stroke-width: 1.5;\" x1=\"92\" x2=\"132\" y1=\"184.9375\" y2=\"184.9375\"/></a><!--MD5=[2156ba9850f5573cc1fc38a6a4b2f02b]\n",
       "class E7--><a href=\"psysml:d750b59a-5fb4-49de-a141-6edbceed9fe9\" target=\"_top\" title=\"psysml:d750b59a-5fb4-49de-a141-6edbceed9fe9\" xlink:actuate=\"onRequest\" xlink:href=\"psysml:d750b59a-5fb4-49de-a141-6edbceed9fe9\" xlink:show=\"new\" xlink:title=\"psysml:d750b59a-5fb4-49de-a141-6edbceed9fe9\" xlink:type=\"simple\"><rect fill=\"#FFFFFF\" height=\"45.9375\" id=\"E7\" rx=\"10\" ry=\"10\" style=\"stroke: #383838; stroke-width: 1.5;\" width=\"46\" x=\"32\" y=\"41\"/><text fill=\"#000000\" font-family=\"sans-serif\" font-size=\"12\" font-style=\"italic\" lengthAdjust=\"spacingAndGlyphs\" textLength=\"40\" x=\"35\" y=\"57.1387\">«part»</text><text fill=\"#000000\" font-family=\"sans-serif\" font-size=\"12\" lengthAdjust=\"spacingAndGlyphs\" textLength=\"40\" x=\"35\" y=\"71.1074\">p2: P1</text><line style=\"stroke: #383838; stroke-width: 1.5;\" x1=\"33\" x2=\"77\" y1=\"78.9375\" y2=\"78.9375\"/></a><!--MD5=[b9389687b975829384b498ac4b7476b2]\n",
       "class E8--><a href=\"psysml:1ab4a2c7-e640-4092-b309-d8474ba4cc31\" target=\"_top\" title=\"psysml:1ab4a2c7-e640-4092-b309-d8474ba4cc31\" xlink:actuate=\"onRequest\" xlink:href=\"psysml:1ab4a2c7-e640-4092-b309-d8474ba4cc31\" xlink:show=\"new\" xlink:title=\"psysml:1ab4a2c7-e640-4092-b309-d8474ba4cc31\" xlink:type=\"simple\"><rect fill=\"#FFFFFF\" height=\"45.9375\" id=\"E8\" rx=\"10\" ry=\"10\" style=\"stroke: #383838; stroke-width: 1.5;\" width=\"42\" x=\"63\" y=\"253\"/><text fill=\"#000000\" font-family=\"sans-serif\" font-size=\"12\" font-style=\"italic\" lengthAdjust=\"spacingAndGlyphs\" textLength=\"40\" x=\"64\" y=\"269.1387\">«port»</text><text fill=\"#000000\" font-family=\"sans-serif\" font-size=\"12\" lengthAdjust=\"spacingAndGlyphs\" textLength=\"36\" x=\"66\" y=\"283.1074\">pdest</text><line style=\"stroke: #383838; stroke-width: 1.5;\" x1=\"64\" x2=\"104\" y1=\"290.9375\" y2=\"290.9375\"/></a><!--MD5=[4672eba38e49728da53d11aeb285b987]\n",
       "reverse link E3 to E4--><a href=\"psysml:b0a1a3b9-a387-42d1-a567-e540cd2e1d19\" target=\"_top\" title=\"psysml:b0a1a3b9-a387-42d1-a567-e540cd2e1d19\" xlink:actuate=\"onRequest\" xlink:href=\"psysml:b0a1a3b9-a387-42d1-a567-e540cd2e1d19\" xlink:show=\"new\" xlink:title=\"psysml:b0a1a3b9-a387-42d1-a567-e540cd2e1d19\" xlink:type=\"simple\"><path d=\"M188.84,206.44 C187.7,221.87 188.21,239.47 190.36,252.98 \" fill=\"none\" id=\"E3&lt;-E4\" style=\"stroke: #383838; stroke-width: 1.0;\"/><polygon fill=\"#FFFFFF\" points=\"190.35,193.06,185.7032,198.5743,189.006,204.9845,193.6528,199.4702,190.35,193.06\" style=\"stroke: #383838; stroke-width: 1.0;\"/><text fill=\"#000000\" font-family=\"sans-serif\" font-size=\"13\" lengthAdjust=\"spacingAndGlyphs\" textLength=\"8\" x=\"178.4255\" y=\"241.8709\">1</text></a><!--MD5=[4672eba38e49728da53d11aeb285b987]\n",
       "reverse link E3 to E4--><a href=\"psysml:b116cd08-9727-4fd8-b1d3-1b9f6deb041c\" target=\"_top\" title=\"psysml:b116cd08-9727-4fd8-b1d3-1b9f6deb041c\" xlink:actuate=\"onRequest\" xlink:href=\"psysml:b116cd08-9727-4fd8-b1d3-1b9f6deb041c\" xlink:show=\"new\" xlink:title=\"psysml:b116cd08-9727-4fd8-b1d3-1b9f6deb041c\" xlink:type=\"simple\"><path d=\"M214.01,208.34 C215.03,223.3 214.45,240.02 212.27,252.98 \" fill=\"none\" id=\"E3&lt;-E4-1\" style=\"stroke: #383838; stroke-width: 1.0; stroke-dasharray: 7.0,7.0;\"/><ellipse cx=\"213.1693\" cy=\"201.0093\" fill=\"#FFFFFF\" rx=\"8\" ry=\"8\" style=\"stroke: #383838; stroke-width: 1.0;\"/><line style=\"stroke: #383838; stroke-width: 1.0;\" x1=\"214.0687\" x2=\"212.27\" y1=\"208.9586\" y2=\"193.06\"/><line style=\"stroke: #383838; stroke-width: 1.0;\" x1=\"205.2201\" x2=\"221.1186\" y1=\"201.9086\" y2=\"200.1099\"/><text fill=\"#000000\" font-family=\"sans-serif\" font-size=\"13\" lengthAdjust=\"spacingAndGlyphs\" textLength=\"8\" x=\"206.2238\" y=\"241.8709\">1</text></a><!--MD5=[e9be52314489bd878ff4c7144b63c9e1]\n",
       "link E5 to E3--><a href=\"psysml:b60c9595-85bf-4c72-aa43-c7c5a3162c28\" target=\"_top\" title=\"psysml:b60c9595-85bf-4c72-aa43-c7c5a3162c28\" xlink:actuate=\"onRequest\" xlink:href=\"psysml:b60c9595-85bf-4c72-aa43-c7c5a3162c28\" xlink:show=\"new\" xlink:title=\"psysml:b60c9595-85bf-4c72-aa43-c7c5a3162c28\" xlink:type=\"simple\"><path d=\"M149.78,87.06 C157.54,99.47 167.45,115.33 176.49,129.78 \" fill=\"none\" id=\"E5-&gt;E3\" style=\"stroke: #383838; stroke-width: 1.0;\"/><polygon fill=\"#FFFFFF\" points=\"187.24,146.98,171.2331,134.5792,183.1045,127.1584,187.24,146.98\" style=\"stroke: #383838; stroke-width: 1.0;\"/><ellipse cx=\"169.9076\" cy=\"128.6857\" fill=\"#383838\" rx=\"2\" ry=\"2\" style=\"stroke: #383838; stroke-width: 1.0;\"/><ellipse cx=\"178.3872\" cy=\"123.3851\" fill=\"#383838\" rx=\"2\" ry=\"2\" style=\"stroke: #383838; stroke-width: 1.0;\"/></a><!--MD5=[85d356282659285ab4b2cfe2f634dd2b]\n",
       "reverse link E5 to E6--><a href=\"psysml:5e5f570b-f88f-4e5d-bde6-a1031949a59c\" target=\"_top\" title=\"psysml:5e5f570b-f88f-4e5d-bde6-a1031949a59c\" xlink:actuate=\"onRequest\" xlink:href=\"psysml:5e5f570b-f88f-4e5d-bde6-a1031949a59c\" xlink:show=\"new\" xlink:title=\"psysml:5e5f570b-f88f-4e5d-bde6-a1031949a59c\" xlink:type=\"simple\"><path d=\"M127.93,99.96 C124.34,115.51 120.23,133.33 117.08,146.98 \" fill=\"none\" id=\"E5&lt;-E6\" style=\"stroke: #383838; stroke-width: 1.0;\"/><polygon fill=\"#FFFFFF\" points=\"130.91,87.06,125.6616,92.0052,128.2078,98.7518,133.4562,93.8066,130.91,87.06\" style=\"stroke: #383838; stroke-width: 1.0;\"/><text fill=\"#000000\" font-family=\"sans-serif\" font-size=\"13\" lengthAdjust=\"spacingAndGlyphs\" textLength=\"8\" x=\"109.3703\" y=\"135.8709\">1</text></a><!--MD5=[f667431f98296947986a1a7595a31603]\n",
       "link E6 to E4--><a href=\"psysml:ccd9da30-2bd5-4e38-bf20-b9f9621d2107\" target=\"_top\" title=\"psysml:ccd9da30-2bd5-4e38-bf20-b9f9621d2107\" xlink:actuate=\"onRequest\" xlink:href=\"psysml:ccd9da30-2bd5-4e38-bf20-b9f9621d2107\" xlink:show=\"new\" xlink:title=\"psysml:ccd9da30-2bd5-4e38-bf20-b9f9621d2107\" xlink:type=\"simple\"><path d=\"M130.87,193.06 C141.97,206.02 156.28,222.74 169.08,237.7 \" fill=\"none\" id=\"E6-&gt;E4\" style=\"stroke: #383838; stroke-width: 1.0;\"/><polygon fill=\"#FFFFFF\" points=\"182.15,252.98,164.4809,243.0905,175.1204,233.9909,182.15,252.98\" style=\"stroke: #383838; stroke-width: 1.0;\"/><line style=\"stroke: #383838; stroke-width: 2.0;\" x1=\"162.011\" x2=\"172.6505\" y1=\"240.2026\" y2=\"231.1031\"/></a><!--MD5=[14ccda38c055a5c0da953d572bc50960]\n",
       "link E7 to E3--><a href=\"psysml:8fc3f931-75e6-473d-9c07-27a38ec18c6d\" target=\"_top\" title=\"psysml:8fc3f931-75e6-473d-9c07-27a38ec18c6d\" xlink:actuate=\"onRequest\" xlink:href=\"psysml:8fc3f931-75e6-473d-9c07-27a38ec18c6d\" xlink:show=\"new\" xlink:title=\"psysml:8fc3f931-75e6-473d-9c07-27a38ec18c6d\" xlink:type=\"simple\"><path d=\"M78.13,81.48 C98.32,95.86 128.25,117.18 153.52,135.18 \" fill=\"none\" id=\"E7-&gt;E3\" style=\"stroke: #383838; stroke-width: 1.0;\"/><polygon fill=\"#FFFFFF\" points=\"170.09,146.98,150.5533,141.6586,158.6755,130.2555,170.09,146.98\" style=\"stroke: #383838; stroke-width: 1.0;\"/><ellipse cx=\"147.0709\" cy=\"136.7227\" fill=\"#383838\" rx=\"2\" ry=\"2\" style=\"stroke: #383838; stroke-width: 1.0;\"/><ellipse cx=\"152.8725\" cy=\"128.5776\" fill=\"#383838\" rx=\"2\" ry=\"2\" style=\"stroke: #383838; stroke-width: 1.0;\"/></a><!--MD5=[dc164f5e8a733ab456ef1add180e9e34]\n",
       "reverse link E7 to E8--><a href=\"psysml:36a32e90-a022-4c42-9b64-7c79f5d1d72c\" target=\"_top\" title=\"psysml:36a32e90-a022-4c42-9b64-7c79f5d1d72c\" xlink:actuate=\"onRequest\" xlink:href=\"psysml:36a32e90-a022-4c42-9b64-7c79f5d1d72c\" xlink:show=\"new\" xlink:title=\"psysml:36a32e90-a022-4c42-9b64-7c79f5d1d72c\" xlink:type=\"simple\"><path d=\"M50.05,100.09 C51.65,143.61 62.25,216.5 72.75,252.9 \" fill=\"none\" id=\"E7&lt;-E8\" style=\"stroke: #383838; stroke-width: 1.0;\"/><polygon fill=\"#FFFFFF\" points=\"49.85,87.08,45.9362,93.1366,50.0216,99.0788,53.9354,93.0222,49.85,87.08\" style=\"stroke: #383838; stroke-width: 1.0;\"/><text fill=\"#000000\" font-family=\"sans-serif\" font-size=\"13\" lengthAdjust=\"spacingAndGlyphs\" textLength=\"8\" x=\"60.6516\" y=\"241.7694\">1</text></a><!--MD5=[dc164f5e8a733ab456ef1add180e9e34]\n",
       "reverse link E7 to E8--><a href=\"psysml:346ab8ae-1d2f-462f-a94e-fae0b61189bf\" target=\"_top\" title=\"psysml:346ab8ae-1d2f-462f-a94e-fae0b61189bf\" xlink:actuate=\"onRequest\" xlink:href=\"psysml:346ab8ae-1d2f-462f-a94e-fae0b61189bf\" xlink:show=\"new\" xlink:title=\"psysml:346ab8ae-1d2f-462f-a94e-fae0b61189bf\" xlink:type=\"simple\"><path d=\"M70.64,101.8 C81.15,145.5 90.39,216.97 89.63,252.9 \" fill=\"none\" id=\"E7&lt;-E8-1\" style=\"stroke: #383838; stroke-width: 1.0; stroke-dasharray: 7.0,7.0;\"/><ellipse cx=\"68.7794\" cy=\"94.813\" fill=\"#FFFFFF\" rx=\"8\" ry=\"8\" style=\"stroke: #383838; stroke-width: 1.0;\"/><line style=\"stroke: #383838; stroke-width: 1.0;\" x1=\"70.8289\" x2=\"66.73\" y1=\"102.5461\" y2=\"87.08\"/><line style=\"stroke: #383838; stroke-width: 1.0;\" x1=\"61.0464\" x2=\"76.5125\" y1=\"96.8625\" y2=\"92.7636\"/><text fill=\"#000000\" font-family=\"sans-serif\" font-size=\"13\" lengthAdjust=\"spacingAndGlyphs\" textLength=\"8\" x=\"92.2181\" y=\"241.7694\">1</text></a><!--MD5=[0a839d0f80c2d72d4b9b307f046d0de8]\n",
       "link E6 to E8--><a href=\"psysml:eaab9895-3808-4b7e-ad70-425cb7403c1b\" target=\"_top\" title=\"psysml:eaab9895-3808-4b7e-ad70-425cb7403c1b\" xlink:actuate=\"onRequest\" xlink:href=\"psysml:eaab9895-3808-4b7e-ad70-425cb7403c1b\" xlink:show=\"new\" xlink:title=\"psysml:eaab9895-3808-4b7e-ad70-425cb7403c1b\" xlink:type=\"simple\"><path d=\"M95.42,193.06 C87.86,210.7 81.23,235.34 79.29,252.98 \" fill=\"none\" id=\"E6-E8\" style=\"stroke: #383838; stroke-width: 3.0;\"/><text fill=\"#000000\" font-family=\"sans-serif\" font-size=\"13\" lengthAdjust=\"spacingAndGlyphs\" textLength=\"7\" x=\"78.9648\" y=\"241.8709\">*</text></a><!--MD5=[0a839d0f80c2d72d4b9b307f046d0de8]\n",
       "link E6 to E8--><a href=\"psysml:18885de6-563e-4dd2-a418-c135b5ffccd4\" target=\"_top\" title=\"psysml:18885de6-563e-4dd2-a418-c135b5ffccd4\" xlink:actuate=\"onRequest\" xlink:href=\"psysml:18885de6-563e-4dd2-a418-c135b5ffccd4\" xlink:show=\"new\" xlink:title=\"psysml:18885de6-563e-4dd2-a418-c135b5ffccd4\" xlink:type=\"simple\"><path d=\"M117.33,193.06 C115.55,210.7 108.92,235.34 101.2,252.98 \" fill=\"none\" id=\"E6-E8-1\" style=\"stroke: #383838; stroke-width: 3.0;\"/><text fill=\"#000000\" font-family=\"sans-serif\" font-size=\"13\" lengthAdjust=\"spacingAndGlyphs\" textLength=\"7\" x=\"97.8819\" y=\"241.8709\">*</text></a><!--MD5=[263098cf120257532e218f63283e73f0]\n",
       "@startuml\r\n",
       "skinparam monochrome true\r\n",
       "skinparam classbackgroundcolor white\r\n",
       "skinparam shadowing false\r\n",
       "skinparam wrapWidth 300\r\n",
       "hide circle\r\n",
       "\r\n",
       "package \"AliasTest\" as E1  [[psysml:abede473-ce86-4cf2-9b0f-bcad92dda7df ]]  {\r\n",
       "comp usage \"q\" as E2  <<(T,blue) attribute>> [[psysml:84563fde-fc3c-4caa-a0d2-03a4409edda3 ]] {\r\n",
       "}\r\n",
       "comp def \"P1\" as E3  <<(T,blue) part def>> [[psysml:f240402e-e520-4bd4-a2fa-a40388aadc9d ]] {\r\n",
       "}\r\n",
       "comp usage \"porig1\" as E4  <<(T,blue) port>> [[psysml:fb61bd91-52ec-4d42-be8a-ef485ce794d8 ]] {\r\n",
       "}\r\n",
       "comp usage \"p1: P1\" as E5  <<(T,blue) part>> [[psysml:66a2f39c-c11d-47e1-a04e-46a9b54c38c0 ]] {\r\n",
       "}\r\n",
       "comp usage \"po1\" as E6  <<(T,blue) port>> [[psysml:1cf4d29b-7212-465e-9bfc-2d9d3c47093a ]] {\r\n",
       "}\r\n",
       "comp usage \"p2: P1\" as E7  <<(T,blue) part>> [[psysml:d750b59a-5fb4-49de-a141-6edbceed9fe9 ]] {\r\n",
       "}\r\n",
       "comp usage \"pdest\" as E8  <<(T,blue) port>> [[psysml:1ab4a2c7-e640-4092-b309-d8474ba4cc31 ]] {\r\n",
       "}\r\n",
       "}\r\n",
       "E3 o- - \"1\"E4 [[psysml:b0a1a3b9-a387-42d1-a567-e540cd2e1d19 ]] \r\n",
       "E3 +.. \"1\"E4 [[psysml:b116cd08-9727-4fd8-b1d3-1b9f6deb041c ]] \r\n",
       "E5 - -:|> E3 [[psysml:b60c9595-85bf-4c72-aa43-c7c5a3162c28 ]] \r\n",
       "E5 o- - \"1\"E6 [[psysml:5e5f570b-f88f-4e5d-bde6-a1031949a59c ]] \r\n",
       "E6 - -||> E4 [[psysml:ccd9da30-2bd5-4e38-bf20-b9f9621d2107 ]] \r\n",
       "E7 - -:|> E3 [[psysml:8fc3f931-75e6-473d-9c07-27a38ec18c6d ]] \r\n",
       "E7 o- - \"1\"E8 [[psysml:36a32e90-a022-4c42-9b64-7c79f5d1d72c ]] \r\n",
       "E7 +.. \"1\"E8 [[psysml:346ab8ae-1d2f-462f-a94e-fae0b61189bf ]] \r\n",
       "E6 -[thickness=3]- \"*\"E8 [[psysml:eaab9895-3808-4b7e-ad70-425cb7403c1b ]] \r\n",
       "E6 -[thickness=3]- \"*\"E8 [[psysml:18885de6-563e-4dd2-a418-c135b5ffccd4 ]] \r\n",
       "@enduml\r\n",
       "\n",
       "PlantUML version 1.2020.13(Sat Jun 13 12:26:38 UTC 2020)\n",
       "(EPL source distribution)\n",
       "Java Runtime: OpenJDK Runtime Environment\n",
       "JVM: OpenJDK 64-Bit Server VM\n",
       "Default Encoding: UTF-8\n",
       "Language: en\n",
       "Country: null\n",
       "--></g></svg>"
      ]
     },
     "execution_count": 38,
     "metadata": {},
     "output_type": "execute_result"
    }
   ],
   "source": [
    "%viz --style=\"DEFAULT\" --view=\"Tree\" \"AliasTest\""
   ]
  },
  {
   "cell_type": "code",
   "execution_count": 39,
   "id": "b7085c5b",
   "metadata": {
    "execution": {
     "iopub.execute_input": "2021-09-27T07:19:10.691887Z",
     "iopub.status.busy": "2021-09-27T07:19:10.691450Z",
     "iopub.status.idle": "2021-09-27T07:19:10.694792Z",
     "shell.execute_reply": "2021-09-27T07:19:10.694429Z"
    }
   },
   "outputs": [
    {
     "data": {
      "image/svg+xml": [
       "<?xml version=\"1.0\" encoding=\"UTF-8\" standalone=\"no\"?><svg xmlns=\"http://www.w3.org/2000/svg\" xmlns:xlink=\"http://www.w3.org/1999/xlink\" contentScriptType=\"application/ecmascript\" contentStyleType=\"text/css\" height=\"12px\" preserveAspectRatio=\"none\" style=\"width:12px;height:12px;\" version=\"1.1\" viewBox=\"0 0 12 12\" width=\"12px\" zoomAndPan=\"magnify\"><defs/><g><!--MD5=[c5f280e076d0d61ccf4b0f27871bda1d]\n",
       "@startuml\r\n",
       "skinparam monochrome true\r\n",
       "skinparam classbackgroundcolor white\r\n",
       "skinparam shadowing false\r\n",
       "skinparam wrapWidth 300\r\n",
       "hide circle\r\n",
       "\r\n",
       "@enduml\r\n",
       "\n",
       "PlantUML version 1.2020.13(Sat Jun 13 12:26:38 UTC 2020)\n",
       "(EPL source distribution)\n",
       "Java Runtime: OpenJDK Runtime Environment\n",
       "JVM: OpenJDK 64-Bit Server VM\n",
       "Default Encoding: UTF-8\n",
       "Language: en\n",
       "Country: null\n",
       "--></g></svg>"
      ]
     },
     "execution_count": 39,
     "metadata": {},
     "output_type": "execute_result"
    }
   ],
   "source": [
    "%viz --style=\"DEFAULT\" --view=\"State\" \"AliasTest\""
   ]
  },
  {
   "cell_type": "code",
   "execution_count": 40,
   "id": "c50a2a1e",
   "metadata": {
    "execution": {
     "iopub.execute_input": "2021-09-27T07:19:10.744765Z",
     "iopub.status.busy": "2021-09-27T07:19:10.744253Z",
     "iopub.status.idle": "2021-09-27T07:19:10.774989Z",
     "shell.execute_reply": "2021-09-27T07:19:10.774557Z"
    }
   },
   "outputs": [
    {
     "data": {
      "image/svg+xml": [
       "<?xml version=\"1.0\" encoding=\"UTF-8\" standalone=\"no\"?><svg xmlns=\"http://www.w3.org/2000/svg\" xmlns:xlink=\"http://www.w3.org/1999/xlink\" contentScriptType=\"application/ecmascript\" contentStyleType=\"text/css\" height=\"233px\" preserveAspectRatio=\"none\" style=\"width:474px;height:233px;\" version=\"1.1\" viewBox=\"0 0 474 233\" width=\"474px\" zoomAndPan=\"magnify\"><defs/><g><!--MD5=[fbc87193dbaf4d95561dea2c320d4a47]\n",
       "cluster E1--><a href=\"psysml:abede473-ce86-4cf2-9b0f-bcad92dda7df\" target=\"_top\" title=\"psysml:abede473-ce86-4cf2-9b0f-bcad92dda7df\" xlink:actuate=\"onRequest\" xlink:href=\"psysml:abede473-ce86-4cf2-9b0f-bcad92dda7df\" xlink:show=\"new\" xlink:title=\"psysml:abede473-ce86-4cf2-9b0f-bcad92dda7df\" xlink:type=\"simple\"><polygon fill=\"#FFFFFF\" points=\"16,6,84,6,91,28.2969,452,28.2969,452,221,16,221,16,6\" style=\"stroke: #000000; stroke-width: 1.5;\"/><line style=\"stroke: #000000; stroke-width: 1.5;\" x1=\"16\" x2=\"91\" y1=\"28.2969\" y2=\"28.2969\"/><text fill=\"#000000\" font-family=\"sans-serif\" font-size=\"14\" font-weight=\"bold\" lengthAdjust=\"spacingAndGlyphs\" textLength=\"62\" x=\"20\" y=\"20.9951\">AliasTest</text></a><!--MD5=[d5e69f78d87373223dbae638b30a9c99]\n",
       "cluster E3--><a href=\"psysml:f240402e-e520-4bd4-a2fa-a40388aadc9d\" target=\"_top\" title=\"psysml:f240402e-e520-4bd4-a2fa-a40388aadc9d\" xlink:actuate=\"onRequest\" xlink:href=\"psysml:f240402e-e520-4bd4-a2fa-a40388aadc9d\" xlink:show=\"new\" xlink:title=\"psysml:f240402e-e520-4bd4-a2fa-a40388aadc9d\" xlink:type=\"simple\"><rect fill=\"#FFFFFF\" height=\"90\" id=\"E3\" style=\"stroke: #383838; stroke-width: 1.5;\" width=\"83\" x=\"312\" y=\"64\"/><rect fill=\"#F8F8F8\" height=\"37.9375\" style=\"stroke: #383838; stroke-width: 1.5;\" width=\"83\" x=\"312\" y=\"64\"/><text fill=\"#000000\" font-family=\"sans-serif\" font-size=\"12\" font-style=\"italic\" lengthAdjust=\"spacingAndGlyphs\" textLength=\"64\" x=\"321.5\" y=\"80.1387\">«part def»</text><text fill=\"#000000\" font-family=\"sans-serif\" font-size=\"12\" lengthAdjust=\"spacingAndGlyphs\" textLength=\"16\" x=\"345.5\" y=\"94.1074\">P1</text></a><!--MD5=[14e3b0961a2654348d326746436168a1]\n",
       "cluster E6--><a href=\"psysml:66a2f39c-c11d-47e1-a04e-46a9b54c38c0\" target=\"_top\" title=\"psysml:66a2f39c-c11d-47e1-a04e-46a9b54c38c0\" xlink:actuate=\"onRequest\" xlink:href=\"psysml:66a2f39c-c11d-47e1-a04e-46a9b54c38c0\" xlink:show=\"new\" xlink:title=\"psysml:66a2f39c-c11d-47e1-a04e-46a9b54c38c0\" xlink:type=\"simple\"><rect fill=\"#FFFFFF\" height=\"82\" id=\"E6\" rx=\"10\" ry=\"10\" style=\"stroke: #383838; stroke-width: 1.5;\" width=\"98\" x=\"112\" y=\"64\"/><rect fill=\"#F8F8F8\" height=\"23.9688\" rx=\"10\" ry=\"10\" style=\"stroke: #F8F8F8; stroke-width: 1.5;\" width=\"98\" x=\"112\" y=\"64\"/><rect fill=\"#F8F8F8\" height=\"10\" style=\"stroke: #F8F8F8; stroke-width: 1.5;\" width=\"98\" x=\"112\" y=\"77.9688\"/><rect fill=\"none\" height=\"82\" id=\"E6\" rx=\"10\" ry=\"10\" style=\"stroke: #383838; stroke-width: 1.5;\" width=\"98\" x=\"112\" y=\"64\"/><text fill=\"#000000\" font-family=\"sans-serif\" font-size=\"12\" lengthAdjust=\"spacingAndGlyphs\" textLength=\"40\" x=\"141\" y=\"80.1387\">p1: P1</text><line style=\"stroke: #383838; stroke-width: 1.0;\" x1=\"112\" x2=\"210\" y1=\"87.9688\" y2=\"87.9688\"/></a><!--MD5=[55dfccfc6c49c2d10cd1bd2211a6c90c]\n",
       "cluster E8--><a href=\"psysml:d750b59a-5fb4-49de-a141-6edbceed9fe9\" target=\"_top\" title=\"psysml:d750b59a-5fb4-49de-a141-6edbceed9fe9\" xlink:actuate=\"onRequest\" xlink:href=\"psysml:d750b59a-5fb4-49de-a141-6edbceed9fe9\" xlink:show=\"new\" xlink:title=\"psysml:d750b59a-5fb4-49de-a141-6edbceed9fe9\" xlink:type=\"simple\"><rect fill=\"#FFFFFF\" height=\"84.5\" id=\"E8\" rx=\"10\" ry=\"10\" style=\"stroke: #383838; stroke-width: 1.5;\" width=\"83\" x=\"213\" y=\"120.5\"/><rect fill=\"#F8F8F8\" height=\"23.9688\" rx=\"10\" ry=\"10\" style=\"stroke: #F8F8F8; stroke-width: 1.5;\" width=\"83\" x=\"213\" y=\"120.5\"/><rect fill=\"#F8F8F8\" height=\"10\" style=\"stroke: #F8F8F8; stroke-width: 1.5;\" width=\"83\" x=\"213\" y=\"134.4688\"/><rect fill=\"none\" height=\"84.5\" id=\"E8\" rx=\"10\" ry=\"10\" style=\"stroke: #383838; stroke-width: 1.5;\" width=\"83\" x=\"213\" y=\"120.5\"/><text fill=\"#000000\" font-family=\"sans-serif\" font-size=\"12\" lengthAdjust=\"spacingAndGlyphs\" textLength=\"40\" x=\"234.5\" y=\"136.6387\">p2: P1</text><line style=\"stroke: #383838; stroke-width: 1.0;\" x1=\"213\" x2=\"296\" y1=\"144.4688\" y2=\"144.4688\"/></a><!--MD5=[b4997ac47864f28c2f74865a473b2911]\n",
       "class E2--><a href=\"psysml:84563fde-fc3c-4caa-a0d2-03a4409edda3\" target=\"_top\" title=\"psysml:84563fde-fc3c-4caa-a0d2-03a4409edda3\" xlink:actuate=\"onRequest\" xlink:href=\"psysml:84563fde-fc3c-4caa-a0d2-03a4409edda3\" xlink:show=\"new\" xlink:title=\"psysml:84563fde-fc3c-4caa-a0d2-03a4409edda3\" xlink:type=\"simple\"><rect fill=\"#FFFFFF\" height=\"45.9375\" id=\"E2\" rx=\"10\" ry=\"10\" style=\"stroke: #383838; stroke-width: 1.5;\" width=\"71\" x=\"32.5\" y=\"41\"/><text fill=\"#000000\" font-family=\"sans-serif\" font-size=\"12\" font-style=\"italic\" lengthAdjust=\"spacingAndGlyphs\" textLength=\"69\" x=\"33.5\" y=\"57.1387\">«attribute»</text><text fill=\"#000000\" font-family=\"sans-serif\" font-size=\"12\" lengthAdjust=\"spacingAndGlyphs\" textLength=\"8\" x=\"64\" y=\"71.1074\">q</text><line style=\"stroke: #383838; stroke-width: 1.5;\" x1=\"33.5\" x2=\"102.5\" y1=\"78.9375\" y2=\"78.9375\"/></a><text fill=\"#000000\" font-family=\"sans-serif\" font-size=\"14\" lengthAdjust=\"spacingAndGlyphs\" textLength=\"44\" x=\"308\" y=\"42.6982\">porig1</text><rect fill=\"#383838\" height=\"12\" style=\"stroke: #F8F8F8; stroke-width: 1.5;\" width=\"12\" x=\"324\" y=\"58\"/><text fill=\"#000000\" font-family=\"sans-serif\" font-size=\"14\" lengthAdjust=\"spacingAndGlyphs\" textLength=\"44\" x=\"355\" y=\"42.6982\">porig1</text><rect fill=\"#383838\" height=\"12\" style=\"stroke: #F8F8F8; stroke-width: 1.5;\" width=\"12\" x=\"371\" y=\"58\"/><text fill=\"#000000\" font-family=\"sans-serif\" font-size=\"14\" lengthAdjust=\"spacingAndGlyphs\" textLength=\"27\" x=\"178.5\" y=\"42.6982\">po1</text><rect fill=\"#383838\" height=\"12\" style=\"stroke: #F8F8F8; stroke-width: 1.5;\" width=\"12\" x=\"186\" y=\"58\"/><text fill=\"#000000\" font-family=\"sans-serif\" font-size=\"14\" lengthAdjust=\"spacingAndGlyphs\" textLength=\"40\" x=\"211\" y=\"99.1982\">pdest</text><rect fill=\"#383838\" height=\"12\" style=\"stroke: #F8F8F8; stroke-width: 1.5;\" width=\"12\" x=\"225\" y=\"114.5\"/><text fill=\"#000000\" font-family=\"sans-serif\" font-size=\"14\" lengthAdjust=\"spacingAndGlyphs\" textLength=\"40\" x=\"258\" y=\"99.1982\">pdest</text><rect fill=\"#383838\" height=\"12\" style=\"stroke: #F8F8F8; stroke-width: 1.5;\" width=\"12\" x=\"272\" y=\"114.5\"/><!--MD5=[1c0b9414cc86e0744215edee6abd8926]\n",
       "link E7 to E9--><a href=\"psysml:eaab9895-3808-4b7e-ad70-425cb7403c1b\" target=\"_top\" title=\"psysml:eaab9895-3808-4b7e-ad70-425cb7403c1b\" xlink:actuate=\"onRequest\" xlink:href=\"psysml:eaab9895-3808-4b7e-ad70-425cb7403c1b\" xlink:show=\"new\" xlink:title=\"psysml:eaab9895-3808-4b7e-ad70-425cb7403c1b\" xlink:type=\"simple\"><path d=\"M187.83,70.03 C188.72,81.73 210.14,110.34 224.83,117.73 \" fill=\"none\" id=\"E7-E9\" style=\"stroke: #383838; stroke-width: 3.0;\"/><text fill=\"#000000\" font-family=\"sans-serif\" font-size=\"13\" lengthAdjust=\"spacingAndGlyphs\" textLength=\"7\" x=\"209.8523\" y=\"106.3789\">*</text></a><!--MD5=[1c0b9414cc86e0744215edee6abd8926]\n",
       "link E7 to E9--><a href=\"psysml:18885de6-563e-4dd2-a418-c135b5ffccd4\" target=\"_top\" title=\"psysml:18885de6-563e-4dd2-a418-c135b5ffccd4\" xlink:actuate=\"onRequest\" xlink:href=\"psysml:18885de6-563e-4dd2-a418-c135b5ffccd4\" xlink:show=\"new\" xlink:title=\"psysml:18885de6-563e-4dd2-a418-c135b5ffccd4\" xlink:type=\"simple\"><path d=\"M198.05,66.57 C213.27,73.62 235.05,102.5 235.62,114.37 \" fill=\"none\" id=\"E7-E9-1\" style=\"stroke: #383838; stroke-width: 3.0;\"/><text fill=\"#000000\" font-family=\"sans-serif\" font-size=\"13\" lengthAdjust=\"spacingAndGlyphs\" textLength=\"7\" x=\"229.278\" y=\"103.4683\">*</text></a><!--MD5=[2977fce495788d73fd8bf1bb07b7aa94]\n",
       "@startuml\r\n",
       "skinparam ranksep 10\r\n",
       "skinparam rectangle {\r\n",
       " backgroundColor<<block>> LightGreen\r\n",
       "}\r\n",
       "skinparam monochrome true\r\n",
       "skinparam classbackgroundcolor white\r\n",
       "skinparam shadowing false\r\n",
       "skinparam wrapWidth 300\r\n",
       "hide circle\r\n",
       "\r\n",
       "package \"AliasTest\" as E1  [[psysml:abede473-ce86-4cf2-9b0f-bcad92dda7df ]]  {\r\n",
       "comp usage \"q\" as E2  <<(T,blue) attribute>> [[psysml:84563fde-fc3c-4caa-a0d2-03a4409edda3 ]] {\r\n",
       "}\r\n",
       "rec def \"P1\" as E3  <<(T,blue) part def>> [[psysml:f240402e-e520-4bd4-a2fa-a40388aadc9d ]] {\r\n",
       "portin \"porig1\" as E4  <<(T,blue) port>> [[psysml:fb61bd91-52ec-4d42-be8a-ef485ce794d8 ]] \r\n",
       "portin \"porig1\" as E5  <<(T,blue) port>> [[psysml:fb61bd91-52ec-4d42-be8a-ef485ce794d8 ]] \r\n",
       "}\r\n",
       "rec usage \"p1: P1\" as E6  [[psysml:66a2f39c-c11d-47e1-a04e-46a9b54c38c0 ]] {\r\n",
       "portin \"po1\" as E7  <<(T,blue) port>> [[psysml:1cf4d29b-7212-465e-9bfc-2d9d3c47093a ]] \r\n",
       "}\r\n",
       "rec usage \"p2: P1\" as E8  [[psysml:d750b59a-5fb4-49de-a141-6edbceed9fe9 ]] {\r\n",
       "portin \"pdest\" as E9  <<(T,blue) port>> [[psysml:1ab4a2c7-e640-4092-b309-d8474ba4cc31 ]] \r\n",
       "portin \"pdest\" as E10  <<(T,blue) port>> [[psysml:1ab4a2c7-e640-4092-b309-d8474ba4cc31 ]] \r\n",
       "}\r\n",
       "}\r\n",
       "E7 -[thickness=3]- \"*\"E9 [[psysml:eaab9895-3808-4b7e-ad70-425cb7403c1b ]] \r\n",
       "E7 -[thickness=3]- \"*\"E9 [[psysml:18885de6-563e-4dd2-a418-c135b5ffccd4 ]] \r\n",
       "@enduml\r\n",
       "\n",
       "PlantUML version 1.2020.13(Sat Jun 13 12:26:38 UTC 2020)\n",
       "(EPL source distribution)\n",
       "Java Runtime: OpenJDK Runtime Environment\n",
       "JVM: OpenJDK 64-Bit Server VM\n",
       "Default Encoding: UTF-8\n",
       "Language: en\n",
       "Country: null\n",
       "--></g></svg>"
      ]
     },
     "execution_count": 40,
     "metadata": {},
     "output_type": "execute_result"
    }
   ],
   "source": [
    "%viz --style=\"DEFAULT\" --view=\"Interconnection\" \"AliasTest\""
   ]
  },
  {
   "cell_type": "code",
   "execution_count": 41,
   "id": "7d06c87b",
   "metadata": {
    "execution": {
     "iopub.execute_input": "2021-09-27T07:19:10.824359Z",
     "iopub.status.busy": "2021-09-27T07:19:10.823786Z",
     "iopub.status.idle": "2021-09-27T07:19:10.828748Z",
     "shell.execute_reply": "2021-09-27T07:19:10.828407Z"
    }
   },
   "outputs": [
    {
     "data": {
      "image/svg+xml": [
       "<?xml version=\"1.0\" encoding=\"UTF-8\" standalone=\"no\"?><svg xmlns=\"http://www.w3.org/2000/svg\" xmlns:xlink=\"http://www.w3.org/1999/xlink\" contentScriptType=\"application/ecmascript\" contentStyleType=\"text/css\" height=\"12px\" preserveAspectRatio=\"none\" style=\"width:12px;height:12px;\" version=\"1.1\" viewBox=\"0 0 12 12\" width=\"12px\" zoomAndPan=\"magnify\"><defs/><g><!--MD5=[388f21188e31bfdd97050473b19af356]\n",
       "@startuml\r\n",
       "skinparam ranksep 8\r\n",
       "skinparam monochrome true\r\n",
       "skinparam classbackgroundcolor white\r\n",
       "skinparam shadowing false\r\n",
       "skinparam wrapWidth 300\r\n",
       "hide circle\r\n",
       "\r\n",
       "@enduml\r\n",
       "\n",
       "PlantUML version 1.2020.13(Sat Jun 13 12:26:38 UTC 2020)\n",
       "(EPL source distribution)\n",
       "Java Runtime: OpenJDK Runtime Environment\n",
       "JVM: OpenJDK 64-Bit Server VM\n",
       "Default Encoding: UTF-8\n",
       "Language: en\n",
       "Country: null\n",
       "--></g></svg>"
      ]
     },
     "execution_count": 41,
     "metadata": {},
     "output_type": "execute_result"
    }
   ],
   "source": [
    "%viz --style=\"DEFAULT\" --view=\"Action\" \"AliasTest\""
   ]
  },
  {
   "cell_type": "code",
   "execution_count": 42,
   "id": "208a2191",
   "metadata": {
    "execution": {
     "iopub.execute_input": "2021-09-27T07:19:10.879001Z",
     "iopub.status.busy": "2021-09-27T07:19:10.878555Z",
     "iopub.status.idle": "2021-09-27T07:19:10.883365Z",
     "shell.execute_reply": "2021-09-27T07:19:10.882985Z"
    }
   },
   "outputs": [
    {
     "data": {
      "image/svg+xml": [
       "<?xml version=\"1.0\" encoding=\"UTF-8\" standalone=\"no\"?><svg xmlns=\"http://www.w3.org/2000/svg\" xmlns:xlink=\"http://www.w3.org/1999/xlink\" contentScriptType=\"application/ecmascript\" contentStyleType=\"text/css\" height=\"12px\" preserveAspectRatio=\"none\" style=\"width:12px;height:12px;\" version=\"1.1\" viewBox=\"0 0 12 12\" width=\"12px\" zoomAndPan=\"magnify\"><defs/><g><!--MD5=[0b72472770326784bf6c2b53246e1e64]\n",
       "@startuml\r\n",
       "skinparam roundcorner 20\r\n",
       "skinparam BoxPadding 20\r\n",
       "skinparam SequenceBoxBackgroundColor #white\r\n",
       "skinparam style strictuml\r\n",
       "skinparam maxMessageSize 100\r\n",
       "skinparam monochrome true\r\n",
       "skinparam classbackgroundcolor white\r\n",
       "skinparam shadowing false\r\n",
       "skinparam wrapWidth 300\r\n",
       "hide circle\r\n",
       "\r\n",
       "@enduml\r\n",
       "\n",
       "PlantUML version 1.2020.13(Sat Jun 13 12:26:38 UTC 2020)\n",
       "(EPL source distribution)\n",
       "Java Runtime: OpenJDK Runtime Environment\n",
       "JVM: OpenJDK 64-Bit Server VM\n",
       "Default Encoding: UTF-8\n",
       "Language: en\n",
       "Country: null\n",
       "--></g></svg>"
      ]
     },
     "execution_count": 42,
     "metadata": {},
     "output_type": "execute_result"
    }
   ],
   "source": [
    "%viz --style=\"DEFAULT\" --view=\"Sequence\" \"AliasTest\""
   ]
  },
  {
   "cell_type": "code",
   "execution_count": 43,
   "id": "11c5c20c",
   "metadata": {
    "execution": {
     "iopub.execute_input": "2021-09-27T07:19:10.933112Z",
     "iopub.status.busy": "2021-09-27T07:19:10.932779Z",
     "iopub.status.idle": "2021-09-27T07:19:10.968115Z",
     "shell.execute_reply": "2021-09-27T07:19:10.967063Z"
    }
   },
   "outputs": [
    {
     "data": {
      "image/svg+xml": [
       "<?xml version=\"1.0\" encoding=\"UTF-8\" standalone=\"no\"?><svg xmlns=\"http://www.w3.org/2000/svg\" xmlns:xlink=\"http://www.w3.org/1999/xlink\" contentScriptType=\"application/ecmascript\" contentStyleType=\"text/css\" height=\"327px\" preserveAspectRatio=\"none\" style=\"width:304px;height:327px;\" version=\"1.1\" viewBox=\"0 0 304 327\" width=\"304px\" zoomAndPan=\"magnify\"><defs/><g><!--MD5=[fbc87193dbaf4d95561dea2c320d4a47]\n",
       "cluster E1--><a href=\"psysml:abede473-ce86-4cf2-9b0f-bcad92dda7df\" target=\"_top\" title=\"psysml:abede473-ce86-4cf2-9b0f-bcad92dda7df\" xlink:actuate=\"onRequest\" xlink:href=\"psysml:abede473-ce86-4cf2-9b0f-bcad92dda7df\" xlink:show=\"new\" xlink:title=\"psysml:abede473-ce86-4cf2-9b0f-bcad92dda7df\" xlink:type=\"simple\"><polygon fill=\"#FFFFFF\" points=\"16,6,84,6,91,28.2969,282,28.2969,282,315,16,315,16,6\" style=\"stroke: #000000; stroke-width: 1.5;\"/><line style=\"stroke: #000000; stroke-width: 1.5;\" x1=\"16\" x2=\"91\" y1=\"28.2969\" y2=\"28.2969\"/><text fill=\"#000000\" font-family=\"sans-serif\" font-size=\"14\" font-weight=\"bold\" lengthAdjust=\"spacingAndGlyphs\" textLength=\"62\" x=\"20\" y=\"20.9951\">AliasTest</text></a><!--MD5=[b4997ac47864f28c2f74865a473b2911]\n",
       "class E2--><a href=\"psysml:84563fde-fc3c-4caa-a0d2-03a4409edda3\" target=\"_top\" title=\"psysml:84563fde-fc3c-4caa-a0d2-03a4409edda3\" xlink:actuate=\"onRequest\" xlink:href=\"psysml:84563fde-fc3c-4caa-a0d2-03a4409edda3\" xlink:show=\"new\" xlink:title=\"psysml:84563fde-fc3c-4caa-a0d2-03a4409edda3\" xlink:type=\"simple\"><rect fill=\"#FFFFFF\" height=\"45.9375\" id=\"E2\" rx=\"10\" ry=\"10\" style=\"stroke: #383838; stroke-width: 1.5;\" width=\"71\" x=\"194.5\" y=\"41\"/><text fill=\"#000000\" font-family=\"sans-serif\" font-size=\"12\" font-style=\"italic\" lengthAdjust=\"spacingAndGlyphs\" textLength=\"69\" x=\"195.5\" y=\"57.1387\">«attribute»</text><text fill=\"#000000\" font-family=\"sans-serif\" font-size=\"12\" lengthAdjust=\"spacingAndGlyphs\" textLength=\"8\" x=\"226\" y=\"71.1074\">q</text><line style=\"stroke: #383838; stroke-width: 1.5;\" x1=\"195.5\" x2=\"264.5\" y1=\"78.9375\" y2=\"78.9375\"/></a><!--MD5=[09b614a08d8cba4a07c9adeb5e0fee81]\n",
       "class E3--><a href=\"psysml:f240402e-e520-4bd4-a2fa-a40388aadc9d\" target=\"_top\" title=\"psysml:f240402e-e520-4bd4-a2fa-a40388aadc9d\" xlink:actuate=\"onRequest\" xlink:href=\"psysml:f240402e-e520-4bd4-a2fa-a40388aadc9d\" xlink:show=\"new\" xlink:title=\"psysml:f240402e-e520-4bd4-a2fa-a40388aadc9d\" xlink:type=\"simple\"><rect fill=\"#FFFFFF\" height=\"45.9375\" id=\"E3\" style=\"stroke: #383838; stroke-width: 1.5;\" width=\"66\" x=\"168\" y=\"147\"/><text fill=\"#000000\" font-family=\"sans-serif\" font-size=\"12\" font-style=\"italic\" lengthAdjust=\"spacingAndGlyphs\" textLength=\"64\" x=\"169\" y=\"163.1387\">«part def»</text><text fill=\"#000000\" font-family=\"sans-serif\" font-size=\"12\" lengthAdjust=\"spacingAndGlyphs\" textLength=\"16\" x=\"193\" y=\"177.1074\">P1</text><line style=\"stroke: #383838; stroke-width: 1.5;\" x1=\"169\" x2=\"233\" y1=\"184.9375\" y2=\"184.9375\"/></a><!--MD5=[ebbe1d658d1005bcc118a6aa81145e00]\n",
       "class E4--><a href=\"psysml:fb61bd91-52ec-4d42-be8a-ef485ce794d8\" target=\"_top\" title=\"psysml:fb61bd91-52ec-4d42-be8a-ef485ce794d8\" xlink:actuate=\"onRequest\" xlink:href=\"psysml:fb61bd91-52ec-4d42-be8a-ef485ce794d8\" xlink:show=\"new\" xlink:title=\"psysml:fb61bd91-52ec-4d42-be8a-ef485ce794d8\" xlink:type=\"simple\"><rect fill=\"#FFFFFF\" height=\"45.9375\" id=\"E4\" rx=\"10\" ry=\"10\" style=\"stroke: #383838; stroke-width: 1.5;\" width=\"46\" x=\"178\" y=\"253\"/><text fill=\"#000000\" font-family=\"sans-serif\" font-size=\"12\" font-style=\"italic\" lengthAdjust=\"spacingAndGlyphs\" textLength=\"40\" x=\"181\" y=\"269.1387\">«port»</text><text fill=\"#000000\" font-family=\"sans-serif\" font-size=\"12\" lengthAdjust=\"spacingAndGlyphs\" textLength=\"40\" x=\"181\" y=\"283.1074\">porig1</text><line style=\"stroke: #383838; stroke-width: 1.5;\" x1=\"179\" x2=\"223\" y1=\"290.9375\" y2=\"290.9375\"/></a><!--MD5=[270fce915f116d4de14055a7c1d9a0f3]\n",
       "class E5--><a href=\"psysml:66a2f39c-c11d-47e1-a04e-46a9b54c38c0\" target=\"_top\" title=\"psysml:66a2f39c-c11d-47e1-a04e-46a9b54c38c0\" xlink:actuate=\"onRequest\" xlink:href=\"psysml:66a2f39c-c11d-47e1-a04e-46a9b54c38c0\" xlink:show=\"new\" xlink:title=\"psysml:66a2f39c-c11d-47e1-a04e-46a9b54c38c0\" xlink:type=\"simple\"><rect fill=\"#FFFFFF\" height=\"45.9375\" id=\"E5\" rx=\"10\" ry=\"10\" style=\"stroke: #383838; stroke-width: 1.5;\" width=\"46\" x=\"113\" y=\"41\"/><text fill=\"#000000\" font-family=\"sans-serif\" font-size=\"12\" font-style=\"italic\" lengthAdjust=\"spacingAndGlyphs\" textLength=\"40\" x=\"116\" y=\"57.1387\">«part»</text><text fill=\"#000000\" font-family=\"sans-serif\" font-size=\"12\" lengthAdjust=\"spacingAndGlyphs\" textLength=\"40\" x=\"116\" y=\"71.1074\">p1: P1</text><line style=\"stroke: #383838; stroke-width: 1.5;\" x1=\"114\" x2=\"158\" y1=\"78.9375\" y2=\"78.9375\"/></a><!--MD5=[60a26617385b1d2d0262a64233df1f8d]\n",
       "class E6--><a href=\"psysml:1cf4d29b-7212-465e-9bfc-2d9d3c47093a\" target=\"_top\" title=\"psysml:1cf4d29b-7212-465e-9bfc-2d9d3c47093a\" xlink:actuate=\"onRequest\" xlink:href=\"psysml:1cf4d29b-7212-465e-9bfc-2d9d3c47093a\" xlink:show=\"new\" xlink:title=\"psysml:1cf4d29b-7212-465e-9bfc-2d9d3c47093a\" xlink:type=\"simple\"><rect fill=\"#FFFFFF\" height=\"45.9375\" id=\"E6\" rx=\"10\" ry=\"10\" style=\"stroke: #383838; stroke-width: 1.5;\" width=\"42\" x=\"91\" y=\"147\"/><text fill=\"#000000\" font-family=\"sans-serif\" font-size=\"12\" font-style=\"italic\" lengthAdjust=\"spacingAndGlyphs\" textLength=\"40\" x=\"92\" y=\"163.1387\">«port»</text><text fill=\"#000000\" font-family=\"sans-serif\" font-size=\"12\" lengthAdjust=\"spacingAndGlyphs\" textLength=\"24\" x=\"100\" y=\"177.1074\">po1</text><line style=\"stroke: #383838; stroke-width: 1.5;\" x1=\"92\" x2=\"132\" y1=\"184.9375\" y2=\"184.9375\"/></a><!--MD5=[2156ba9850f5573cc1fc38a6a4b2f02b]\n",
       "class E7--><a href=\"psysml:d750b59a-5fb4-49de-a141-6edbceed9fe9\" target=\"_top\" title=\"psysml:d750b59a-5fb4-49de-a141-6edbceed9fe9\" xlink:actuate=\"onRequest\" xlink:href=\"psysml:d750b59a-5fb4-49de-a141-6edbceed9fe9\" xlink:show=\"new\" xlink:title=\"psysml:d750b59a-5fb4-49de-a141-6edbceed9fe9\" xlink:type=\"simple\"><rect fill=\"#FFFFFF\" height=\"45.9375\" id=\"E7\" rx=\"10\" ry=\"10\" style=\"stroke: #383838; stroke-width: 1.5;\" width=\"46\" x=\"32\" y=\"41\"/><text fill=\"#000000\" font-family=\"sans-serif\" font-size=\"12\" font-style=\"italic\" lengthAdjust=\"spacingAndGlyphs\" textLength=\"40\" x=\"35\" y=\"57.1387\">«part»</text><text fill=\"#000000\" font-family=\"sans-serif\" font-size=\"12\" lengthAdjust=\"spacingAndGlyphs\" textLength=\"40\" x=\"35\" y=\"71.1074\">p2: P1</text><line style=\"stroke: #383838; stroke-width: 1.5;\" x1=\"33\" x2=\"77\" y1=\"78.9375\" y2=\"78.9375\"/></a><!--MD5=[b9389687b975829384b498ac4b7476b2]\n",
       "class E8--><a href=\"psysml:1ab4a2c7-e640-4092-b309-d8474ba4cc31\" target=\"_top\" title=\"psysml:1ab4a2c7-e640-4092-b309-d8474ba4cc31\" xlink:actuate=\"onRequest\" xlink:href=\"psysml:1ab4a2c7-e640-4092-b309-d8474ba4cc31\" xlink:show=\"new\" xlink:title=\"psysml:1ab4a2c7-e640-4092-b309-d8474ba4cc31\" xlink:type=\"simple\"><rect fill=\"#FFFFFF\" height=\"45.9375\" id=\"E8\" rx=\"10\" ry=\"10\" style=\"stroke: #383838; stroke-width: 1.5;\" width=\"42\" x=\"63\" y=\"253\"/><text fill=\"#000000\" font-family=\"sans-serif\" font-size=\"12\" font-style=\"italic\" lengthAdjust=\"spacingAndGlyphs\" textLength=\"40\" x=\"64\" y=\"269.1387\">«port»</text><text fill=\"#000000\" font-family=\"sans-serif\" font-size=\"12\" lengthAdjust=\"spacingAndGlyphs\" textLength=\"36\" x=\"66\" y=\"283.1074\">pdest</text><line style=\"stroke: #383838; stroke-width: 1.5;\" x1=\"64\" x2=\"104\" y1=\"290.9375\" y2=\"290.9375\"/></a><!--MD5=[4672eba38e49728da53d11aeb285b987]\n",
       "reverse link E3 to E4--><a href=\"psysml:b0a1a3b9-a387-42d1-a567-e540cd2e1d19\" target=\"_top\" title=\"psysml:b0a1a3b9-a387-42d1-a567-e540cd2e1d19\" xlink:actuate=\"onRequest\" xlink:href=\"psysml:b0a1a3b9-a387-42d1-a567-e540cd2e1d19\" xlink:show=\"new\" xlink:title=\"psysml:b0a1a3b9-a387-42d1-a567-e540cd2e1d19\" xlink:type=\"simple\"><path d=\"M188.84,206.44 C187.7,221.87 188.21,239.47 190.36,252.98 \" fill=\"none\" id=\"E3&lt;-E4\" style=\"stroke: #383838; stroke-width: 1.0;\"/><polygon fill=\"#FFFFFF\" points=\"190.35,193.06,185.7032,198.5743,189.006,204.9845,193.6528,199.4702,190.35,193.06\" style=\"stroke: #383838; stroke-width: 1.0;\"/><text fill=\"#000000\" font-family=\"sans-serif\" font-size=\"13\" lengthAdjust=\"spacingAndGlyphs\" textLength=\"8\" x=\"178.4255\" y=\"241.8709\">1</text></a><!--MD5=[4672eba38e49728da53d11aeb285b987]\n",
       "reverse link E3 to E4--><a href=\"psysml:b116cd08-9727-4fd8-b1d3-1b9f6deb041c\" target=\"_top\" title=\"psysml:b116cd08-9727-4fd8-b1d3-1b9f6deb041c\" xlink:actuate=\"onRequest\" xlink:href=\"psysml:b116cd08-9727-4fd8-b1d3-1b9f6deb041c\" xlink:show=\"new\" xlink:title=\"psysml:b116cd08-9727-4fd8-b1d3-1b9f6deb041c\" xlink:type=\"simple\"><path d=\"M214.01,208.34 C215.03,223.3 214.45,240.02 212.27,252.98 \" fill=\"none\" id=\"E3&lt;-E4-1\" style=\"stroke: #383838; stroke-width: 1.0; stroke-dasharray: 7.0,7.0;\"/><ellipse cx=\"213.1693\" cy=\"201.0093\" fill=\"#FFFFFF\" rx=\"8\" ry=\"8\" style=\"stroke: #383838; stroke-width: 1.0;\"/><line style=\"stroke: #383838; stroke-width: 1.0;\" x1=\"214.0687\" x2=\"212.27\" y1=\"208.9586\" y2=\"193.06\"/><line style=\"stroke: #383838; stroke-width: 1.0;\" x1=\"205.2201\" x2=\"221.1186\" y1=\"201.9086\" y2=\"200.1099\"/><text fill=\"#000000\" font-family=\"sans-serif\" font-size=\"13\" lengthAdjust=\"spacingAndGlyphs\" textLength=\"8\" x=\"206.2238\" y=\"241.8709\">1</text></a><!--MD5=[e9be52314489bd878ff4c7144b63c9e1]\n",
       "link E5 to E3--><a href=\"psysml:b60c9595-85bf-4c72-aa43-c7c5a3162c28\" target=\"_top\" title=\"psysml:b60c9595-85bf-4c72-aa43-c7c5a3162c28\" xlink:actuate=\"onRequest\" xlink:href=\"psysml:b60c9595-85bf-4c72-aa43-c7c5a3162c28\" xlink:show=\"new\" xlink:title=\"psysml:b60c9595-85bf-4c72-aa43-c7c5a3162c28\" xlink:type=\"simple\"><path d=\"M149.78,87.06 C157.54,99.47 167.45,115.33 176.49,129.78 \" fill=\"none\" id=\"E5-&gt;E3\" style=\"stroke: #383838; stroke-width: 1.0;\"/><polygon fill=\"#FFFFFF\" points=\"187.24,146.98,171.2331,134.5792,183.1045,127.1584,187.24,146.98\" style=\"stroke: #383838; stroke-width: 1.0;\"/><ellipse cx=\"169.9076\" cy=\"128.6857\" fill=\"#383838\" rx=\"2\" ry=\"2\" style=\"stroke: #383838; stroke-width: 1.0;\"/><ellipse cx=\"178.3872\" cy=\"123.3851\" fill=\"#383838\" rx=\"2\" ry=\"2\" style=\"stroke: #383838; stroke-width: 1.0;\"/></a><!--MD5=[85d356282659285ab4b2cfe2f634dd2b]\n",
       "reverse link E5 to E6--><a href=\"psysml:5e5f570b-f88f-4e5d-bde6-a1031949a59c\" target=\"_top\" title=\"psysml:5e5f570b-f88f-4e5d-bde6-a1031949a59c\" xlink:actuate=\"onRequest\" xlink:href=\"psysml:5e5f570b-f88f-4e5d-bde6-a1031949a59c\" xlink:show=\"new\" xlink:title=\"psysml:5e5f570b-f88f-4e5d-bde6-a1031949a59c\" xlink:type=\"simple\"><path d=\"M127.93,99.96 C124.34,115.51 120.23,133.33 117.08,146.98 \" fill=\"none\" id=\"E5&lt;-E6\" style=\"stroke: #383838; stroke-width: 1.0;\"/><polygon fill=\"#FFFFFF\" points=\"130.91,87.06,125.6616,92.0052,128.2078,98.7518,133.4562,93.8066,130.91,87.06\" style=\"stroke: #383838; stroke-width: 1.0;\"/><text fill=\"#000000\" font-family=\"sans-serif\" font-size=\"13\" lengthAdjust=\"spacingAndGlyphs\" textLength=\"8\" x=\"109.3703\" y=\"135.8709\">1</text></a><!--MD5=[f667431f98296947986a1a7595a31603]\n",
       "link E6 to E4--><a href=\"psysml:ccd9da30-2bd5-4e38-bf20-b9f9621d2107\" target=\"_top\" title=\"psysml:ccd9da30-2bd5-4e38-bf20-b9f9621d2107\" xlink:actuate=\"onRequest\" xlink:href=\"psysml:ccd9da30-2bd5-4e38-bf20-b9f9621d2107\" xlink:show=\"new\" xlink:title=\"psysml:ccd9da30-2bd5-4e38-bf20-b9f9621d2107\" xlink:type=\"simple\"><path d=\"M130.87,193.06 C141.97,206.02 156.28,222.74 169.08,237.7 \" fill=\"none\" id=\"E6-&gt;E4\" style=\"stroke: #383838; stroke-width: 1.0;\"/><polygon fill=\"#FFFFFF\" points=\"182.15,252.98,164.4809,243.0905,175.1204,233.9909,182.15,252.98\" style=\"stroke: #383838; stroke-width: 1.0;\"/><line style=\"stroke: #383838; stroke-width: 2.0;\" x1=\"162.011\" x2=\"172.6505\" y1=\"240.2026\" y2=\"231.1031\"/></a><!--MD5=[14ccda38c055a5c0da953d572bc50960]\n",
       "link E7 to E3--><a href=\"psysml:8fc3f931-75e6-473d-9c07-27a38ec18c6d\" target=\"_top\" title=\"psysml:8fc3f931-75e6-473d-9c07-27a38ec18c6d\" xlink:actuate=\"onRequest\" xlink:href=\"psysml:8fc3f931-75e6-473d-9c07-27a38ec18c6d\" xlink:show=\"new\" xlink:title=\"psysml:8fc3f931-75e6-473d-9c07-27a38ec18c6d\" xlink:type=\"simple\"><path d=\"M78.13,81.48 C98.32,95.86 128.25,117.18 153.52,135.18 \" fill=\"none\" id=\"E7-&gt;E3\" style=\"stroke: #383838; stroke-width: 1.0;\"/><polygon fill=\"#FFFFFF\" points=\"170.09,146.98,150.5533,141.6586,158.6755,130.2555,170.09,146.98\" style=\"stroke: #383838; stroke-width: 1.0;\"/><ellipse cx=\"147.0709\" cy=\"136.7227\" fill=\"#383838\" rx=\"2\" ry=\"2\" style=\"stroke: #383838; stroke-width: 1.0;\"/><ellipse cx=\"152.8725\" cy=\"128.5776\" fill=\"#383838\" rx=\"2\" ry=\"2\" style=\"stroke: #383838; stroke-width: 1.0;\"/></a><!--MD5=[dc164f5e8a733ab456ef1add180e9e34]\n",
       "reverse link E7 to E8--><a href=\"psysml:36a32e90-a022-4c42-9b64-7c79f5d1d72c\" target=\"_top\" title=\"psysml:36a32e90-a022-4c42-9b64-7c79f5d1d72c\" xlink:actuate=\"onRequest\" xlink:href=\"psysml:36a32e90-a022-4c42-9b64-7c79f5d1d72c\" xlink:show=\"new\" xlink:title=\"psysml:36a32e90-a022-4c42-9b64-7c79f5d1d72c\" xlink:type=\"simple\"><path d=\"M50.05,100.09 C51.65,143.61 62.25,216.5 72.75,252.9 \" fill=\"none\" id=\"E7&lt;-E8\" style=\"stroke: #383838; stroke-width: 1.0;\"/><polygon fill=\"#FFFFFF\" points=\"49.85,87.08,45.9362,93.1366,50.0216,99.0788,53.9354,93.0222,49.85,87.08\" style=\"stroke: #383838; stroke-width: 1.0;\"/><text fill=\"#000000\" font-family=\"sans-serif\" font-size=\"13\" lengthAdjust=\"spacingAndGlyphs\" textLength=\"8\" x=\"60.6516\" y=\"241.7694\">1</text></a><!--MD5=[dc164f5e8a733ab456ef1add180e9e34]\n",
       "reverse link E7 to E8--><a href=\"psysml:346ab8ae-1d2f-462f-a94e-fae0b61189bf\" target=\"_top\" title=\"psysml:346ab8ae-1d2f-462f-a94e-fae0b61189bf\" xlink:actuate=\"onRequest\" xlink:href=\"psysml:346ab8ae-1d2f-462f-a94e-fae0b61189bf\" xlink:show=\"new\" xlink:title=\"psysml:346ab8ae-1d2f-462f-a94e-fae0b61189bf\" xlink:type=\"simple\"><path d=\"M70.64,101.8 C81.15,145.5 90.39,216.97 89.63,252.9 \" fill=\"none\" id=\"E7&lt;-E8-1\" style=\"stroke: #383838; stroke-width: 1.0; stroke-dasharray: 7.0,7.0;\"/><ellipse cx=\"68.7794\" cy=\"94.813\" fill=\"#FFFFFF\" rx=\"8\" ry=\"8\" style=\"stroke: #383838; stroke-width: 1.0;\"/><line style=\"stroke: #383838; stroke-width: 1.0;\" x1=\"70.8289\" x2=\"66.73\" y1=\"102.5461\" y2=\"87.08\"/><line style=\"stroke: #383838; stroke-width: 1.0;\" x1=\"61.0464\" x2=\"76.5125\" y1=\"96.8625\" y2=\"92.7636\"/><text fill=\"#000000\" font-family=\"sans-serif\" font-size=\"13\" lengthAdjust=\"spacingAndGlyphs\" textLength=\"8\" x=\"92.2181\" y=\"241.7694\">1</text></a><!--MD5=[0a839d0f80c2d72d4b9b307f046d0de8]\n",
       "link E6 to E8--><a href=\"psysml:eaab9895-3808-4b7e-ad70-425cb7403c1b\" target=\"_top\" title=\"psysml:eaab9895-3808-4b7e-ad70-425cb7403c1b\" xlink:actuate=\"onRequest\" xlink:href=\"psysml:eaab9895-3808-4b7e-ad70-425cb7403c1b\" xlink:show=\"new\" xlink:title=\"psysml:eaab9895-3808-4b7e-ad70-425cb7403c1b\" xlink:type=\"simple\"><path d=\"M95.42,193.06 C87.86,210.7 81.23,235.34 79.29,252.98 \" fill=\"none\" id=\"E6-E8\" style=\"stroke: #383838; stroke-width: 3.0;\"/><text fill=\"#000000\" font-family=\"sans-serif\" font-size=\"13\" lengthAdjust=\"spacingAndGlyphs\" textLength=\"7\" x=\"78.9648\" y=\"241.8709\">*</text></a><!--MD5=[0a839d0f80c2d72d4b9b307f046d0de8]\n",
       "link E6 to E8--><a href=\"psysml:18885de6-563e-4dd2-a418-c135b5ffccd4\" target=\"_top\" title=\"psysml:18885de6-563e-4dd2-a418-c135b5ffccd4\" xlink:actuate=\"onRequest\" xlink:href=\"psysml:18885de6-563e-4dd2-a418-c135b5ffccd4\" xlink:show=\"new\" xlink:title=\"psysml:18885de6-563e-4dd2-a418-c135b5ffccd4\" xlink:type=\"simple\"><path d=\"M117.33,193.06 C115.55,210.7 108.92,235.34 101.2,252.98 \" fill=\"none\" id=\"E6-E8-1\" style=\"stroke: #383838; stroke-width: 3.0;\"/><text fill=\"#000000\" font-family=\"sans-serif\" font-size=\"13\" lengthAdjust=\"spacingAndGlyphs\" textLength=\"7\" x=\"97.8819\" y=\"241.8709\">*</text></a><!--MD5=[263098cf120257532e218f63283e73f0]\n",
       "@startuml\r\n",
       "skinparam monochrome true\r\n",
       "skinparam classbackgroundcolor white\r\n",
       "skinparam shadowing false\r\n",
       "skinparam wrapWidth 300\r\n",
       "hide circle\r\n",
       "\r\n",
       "package \"AliasTest\" as E1  [[psysml:abede473-ce86-4cf2-9b0f-bcad92dda7df ]]  {\r\n",
       "comp usage \"q\" as E2  <<(T,blue) attribute>> [[psysml:84563fde-fc3c-4caa-a0d2-03a4409edda3 ]] {\r\n",
       "}\r\n",
       "comp def \"P1\" as E3  <<(T,blue) part def>> [[psysml:f240402e-e520-4bd4-a2fa-a40388aadc9d ]] {\r\n",
       "}\r\n",
       "comp usage \"porig1\" as E4  <<(T,blue) port>> [[psysml:fb61bd91-52ec-4d42-be8a-ef485ce794d8 ]] {\r\n",
       "}\r\n",
       "comp usage \"p1: P1\" as E5  <<(T,blue) part>> [[psysml:66a2f39c-c11d-47e1-a04e-46a9b54c38c0 ]] {\r\n",
       "}\r\n",
       "comp usage \"po1\" as E6  <<(T,blue) port>> [[psysml:1cf4d29b-7212-465e-9bfc-2d9d3c47093a ]] {\r\n",
       "}\r\n",
       "comp usage \"p2: P1\" as E7  <<(T,blue) part>> [[psysml:d750b59a-5fb4-49de-a141-6edbceed9fe9 ]] {\r\n",
       "}\r\n",
       "comp usage \"pdest\" as E8  <<(T,blue) port>> [[psysml:1ab4a2c7-e640-4092-b309-d8474ba4cc31 ]] {\r\n",
       "}\r\n",
       "}\r\n",
       "E3 o- - \"1\"E4 [[psysml:b0a1a3b9-a387-42d1-a567-e540cd2e1d19 ]] \r\n",
       "E3 +.. \"1\"E4 [[psysml:b116cd08-9727-4fd8-b1d3-1b9f6deb041c ]] \r\n",
       "E5 - -:|> E3 [[psysml:b60c9595-85bf-4c72-aa43-c7c5a3162c28 ]] \r\n",
       "E5 o- - \"1\"E6 [[psysml:5e5f570b-f88f-4e5d-bde6-a1031949a59c ]] \r\n",
       "E6 - -||> E4 [[psysml:ccd9da30-2bd5-4e38-bf20-b9f9621d2107 ]] \r\n",
       "E7 - -:|> E3 [[psysml:8fc3f931-75e6-473d-9c07-27a38ec18c6d ]] \r\n",
       "E7 o- - \"1\"E8 [[psysml:36a32e90-a022-4c42-9b64-7c79f5d1d72c ]] \r\n",
       "E7 +.. \"1\"E8 [[psysml:346ab8ae-1d2f-462f-a94e-fae0b61189bf ]] \r\n",
       "E6 -[thickness=3]- \"*\"E8 [[psysml:eaab9895-3808-4b7e-ad70-425cb7403c1b ]] \r\n",
       "E6 -[thickness=3]- \"*\"E8 [[psysml:18885de6-563e-4dd2-a418-c135b5ffccd4 ]] \r\n",
       "@enduml\r\n",
       "\n",
       "PlantUML version 1.2020.13(Sat Jun 13 12:26:38 UTC 2020)\n",
       "(EPL source distribution)\n",
       "Java Runtime: OpenJDK Runtime Environment\n",
       "JVM: OpenJDK 64-Bit Server VM\n",
       "Default Encoding: UTF-8\n",
       "Language: en\n",
       "Country: null\n",
       "--></g></svg>"
      ]
     },
     "execution_count": 43,
     "metadata": {},
     "output_type": "execute_result"
    }
   ],
   "source": [
    "%viz --style=\"DEFAULT\" --view=\"MIXED\" \"AliasTest\""
   ]
  },
  {
   "cell_type": "code",
   "execution_count": 44,
   "id": "af6beaeb",
   "metadata": {
    "execution": {
     "iopub.execute_input": "2021-09-27T07:19:11.018386Z",
     "iopub.status.busy": "2021-09-27T07:19:11.017756Z",
     "iopub.status.idle": "2021-09-27T07:19:11.046405Z",
     "shell.execute_reply": "2021-09-27T07:19:11.044426Z"
    }
   },
   "outputs": [
    {
     "data": {
      "image/svg+xml": [
       "<?xml version=\"1.0\" encoding=\"UTF-8\" standalone=\"no\"?><svg xmlns=\"http://www.w3.org/2000/svg\" xmlns:xlink=\"http://www.w3.org/1999/xlink\" contentScriptType=\"application/ecmascript\" contentStyleType=\"text/css\" height=\"327px\" preserveAspectRatio=\"none\" style=\"width:304px;height:327px;\" version=\"1.1\" viewBox=\"0 0 304 327\" width=\"304px\" zoomAndPan=\"magnify\"><defs/><g><!--MD5=[fbc87193dbaf4d95561dea2c320d4a47]\n",
       "cluster E1--><a href=\"psysml:abede473-ce86-4cf2-9b0f-bcad92dda7df\" target=\"_top\" title=\"psysml:abede473-ce86-4cf2-9b0f-bcad92dda7df\" xlink:actuate=\"onRequest\" xlink:href=\"psysml:abede473-ce86-4cf2-9b0f-bcad92dda7df\" xlink:show=\"new\" xlink:title=\"psysml:abede473-ce86-4cf2-9b0f-bcad92dda7df\" xlink:type=\"simple\"><polygon fill=\"#FFFFFF\" points=\"16,6,84,6,91,28.2969,282,28.2969,282,315,16,315,16,6\" style=\"stroke: #000000; stroke-width: 1.5;\"/><line style=\"stroke: #000000; stroke-width: 1.5;\" x1=\"16\" x2=\"91\" y1=\"28.2969\" y2=\"28.2969\"/><text fill=\"#000000\" font-family=\"sans-serif\" font-size=\"14\" font-weight=\"bold\" lengthAdjust=\"spacingAndGlyphs\" textLength=\"62\" x=\"20\" y=\"20.9951\">AliasTest</text></a><!--MD5=[b4997ac47864f28c2f74865a473b2911]\n",
       "class E2--><a href=\"psysml:84563fde-fc3c-4caa-a0d2-03a4409edda3\" target=\"_top\" title=\"psysml:84563fde-fc3c-4caa-a0d2-03a4409edda3\" xlink:actuate=\"onRequest\" xlink:href=\"psysml:84563fde-fc3c-4caa-a0d2-03a4409edda3\" xlink:show=\"new\" xlink:title=\"psysml:84563fde-fc3c-4caa-a0d2-03a4409edda3\" xlink:type=\"simple\"><rect fill=\"#FFFFFF\" height=\"45.9375\" id=\"E2\" rx=\"10\" ry=\"10\" style=\"stroke: #383838; stroke-width: 1.5;\" width=\"71\" x=\"194.5\" y=\"41\"/><text fill=\"#000000\" font-family=\"sans-serif\" font-size=\"12\" font-style=\"italic\" lengthAdjust=\"spacingAndGlyphs\" textLength=\"69\" x=\"195.5\" y=\"57.1387\">«attribute»</text><text fill=\"#000000\" font-family=\"sans-serif\" font-size=\"12\" lengthAdjust=\"spacingAndGlyphs\" textLength=\"8\" x=\"226\" y=\"71.1074\">q</text><line style=\"stroke: #383838; stroke-width: 1.5;\" x1=\"195.5\" x2=\"264.5\" y1=\"78.9375\" y2=\"78.9375\"/></a><!--MD5=[09b614a08d8cba4a07c9adeb5e0fee81]\n",
       "class E3--><a href=\"psysml:f240402e-e520-4bd4-a2fa-a40388aadc9d\" target=\"_top\" title=\"psysml:f240402e-e520-4bd4-a2fa-a40388aadc9d\" xlink:actuate=\"onRequest\" xlink:href=\"psysml:f240402e-e520-4bd4-a2fa-a40388aadc9d\" xlink:show=\"new\" xlink:title=\"psysml:f240402e-e520-4bd4-a2fa-a40388aadc9d\" xlink:type=\"simple\"><rect fill=\"#FFFFFF\" height=\"45.9375\" id=\"E3\" style=\"stroke: #383838; stroke-width: 1.5;\" width=\"66\" x=\"168\" y=\"147\"/><text fill=\"#000000\" font-family=\"sans-serif\" font-size=\"12\" font-style=\"italic\" lengthAdjust=\"spacingAndGlyphs\" textLength=\"64\" x=\"169\" y=\"163.1387\">«part def»</text><text fill=\"#000000\" font-family=\"sans-serif\" font-size=\"12\" lengthAdjust=\"spacingAndGlyphs\" textLength=\"16\" x=\"193\" y=\"177.1074\">P1</text><line style=\"stroke: #383838; stroke-width: 1.5;\" x1=\"169\" x2=\"233\" y1=\"184.9375\" y2=\"184.9375\"/></a><!--MD5=[ebbe1d658d1005bcc118a6aa81145e00]\n",
       "class E4--><a href=\"psysml:fb61bd91-52ec-4d42-be8a-ef485ce794d8\" target=\"_top\" title=\"psysml:fb61bd91-52ec-4d42-be8a-ef485ce794d8\" xlink:actuate=\"onRequest\" xlink:href=\"psysml:fb61bd91-52ec-4d42-be8a-ef485ce794d8\" xlink:show=\"new\" xlink:title=\"psysml:fb61bd91-52ec-4d42-be8a-ef485ce794d8\" xlink:type=\"simple\"><rect fill=\"#FFFFFF\" height=\"45.9375\" id=\"E4\" rx=\"10\" ry=\"10\" style=\"stroke: #383838; stroke-width: 1.5;\" width=\"46\" x=\"178\" y=\"253\"/><text fill=\"#000000\" font-family=\"sans-serif\" font-size=\"12\" font-style=\"italic\" lengthAdjust=\"spacingAndGlyphs\" textLength=\"40\" x=\"181\" y=\"269.1387\">«port»</text><text fill=\"#000000\" font-family=\"sans-serif\" font-size=\"12\" lengthAdjust=\"spacingAndGlyphs\" textLength=\"40\" x=\"181\" y=\"283.1074\">porig1</text><line style=\"stroke: #383838; stroke-width: 1.5;\" x1=\"179\" x2=\"223\" y1=\"290.9375\" y2=\"290.9375\"/></a><!--MD5=[270fce915f116d4de14055a7c1d9a0f3]\n",
       "class E5--><a href=\"psysml:66a2f39c-c11d-47e1-a04e-46a9b54c38c0\" target=\"_top\" title=\"psysml:66a2f39c-c11d-47e1-a04e-46a9b54c38c0\" xlink:actuate=\"onRequest\" xlink:href=\"psysml:66a2f39c-c11d-47e1-a04e-46a9b54c38c0\" xlink:show=\"new\" xlink:title=\"psysml:66a2f39c-c11d-47e1-a04e-46a9b54c38c0\" xlink:type=\"simple\"><rect fill=\"#FFFFFF\" height=\"45.9375\" id=\"E5\" rx=\"10\" ry=\"10\" style=\"stroke: #383838; stroke-width: 1.5;\" width=\"46\" x=\"113\" y=\"41\"/><text fill=\"#000000\" font-family=\"sans-serif\" font-size=\"12\" font-style=\"italic\" lengthAdjust=\"spacingAndGlyphs\" textLength=\"40\" x=\"116\" y=\"57.1387\">«part»</text><text fill=\"#000000\" font-family=\"sans-serif\" font-size=\"12\" lengthAdjust=\"spacingAndGlyphs\" textLength=\"40\" x=\"116\" y=\"71.1074\">p1: P1</text><line style=\"stroke: #383838; stroke-width: 1.5;\" x1=\"114\" x2=\"158\" y1=\"78.9375\" y2=\"78.9375\"/></a><!--MD5=[60a26617385b1d2d0262a64233df1f8d]\n",
       "class E6--><a href=\"psysml:1cf4d29b-7212-465e-9bfc-2d9d3c47093a\" target=\"_top\" title=\"psysml:1cf4d29b-7212-465e-9bfc-2d9d3c47093a\" xlink:actuate=\"onRequest\" xlink:href=\"psysml:1cf4d29b-7212-465e-9bfc-2d9d3c47093a\" xlink:show=\"new\" xlink:title=\"psysml:1cf4d29b-7212-465e-9bfc-2d9d3c47093a\" xlink:type=\"simple\"><rect fill=\"#FFFFFF\" height=\"45.9375\" id=\"E6\" rx=\"10\" ry=\"10\" style=\"stroke: #383838; stroke-width: 1.5;\" width=\"42\" x=\"91\" y=\"147\"/><text fill=\"#000000\" font-family=\"sans-serif\" font-size=\"12\" font-style=\"italic\" lengthAdjust=\"spacingAndGlyphs\" textLength=\"40\" x=\"92\" y=\"163.1387\">«port»</text><text fill=\"#000000\" font-family=\"sans-serif\" font-size=\"12\" lengthAdjust=\"spacingAndGlyphs\" textLength=\"24\" x=\"100\" y=\"177.1074\">po1</text><line style=\"stroke: #383838; stroke-width: 1.5;\" x1=\"92\" x2=\"132\" y1=\"184.9375\" y2=\"184.9375\"/></a><!--MD5=[2156ba9850f5573cc1fc38a6a4b2f02b]\n",
       "class E7--><a href=\"psysml:d750b59a-5fb4-49de-a141-6edbceed9fe9\" target=\"_top\" title=\"psysml:d750b59a-5fb4-49de-a141-6edbceed9fe9\" xlink:actuate=\"onRequest\" xlink:href=\"psysml:d750b59a-5fb4-49de-a141-6edbceed9fe9\" xlink:show=\"new\" xlink:title=\"psysml:d750b59a-5fb4-49de-a141-6edbceed9fe9\" xlink:type=\"simple\"><rect fill=\"#FFFFFF\" height=\"45.9375\" id=\"E7\" rx=\"10\" ry=\"10\" style=\"stroke: #383838; stroke-width: 1.5;\" width=\"46\" x=\"32\" y=\"41\"/><text fill=\"#000000\" font-family=\"sans-serif\" font-size=\"12\" font-style=\"italic\" lengthAdjust=\"spacingAndGlyphs\" textLength=\"40\" x=\"35\" y=\"57.1387\">«part»</text><text fill=\"#000000\" font-family=\"sans-serif\" font-size=\"12\" lengthAdjust=\"spacingAndGlyphs\" textLength=\"40\" x=\"35\" y=\"71.1074\">p2: P1</text><line style=\"stroke: #383838; stroke-width: 1.5;\" x1=\"33\" x2=\"77\" y1=\"78.9375\" y2=\"78.9375\"/></a><!--MD5=[b9389687b975829384b498ac4b7476b2]\n",
       "class E8--><a href=\"psysml:1ab4a2c7-e640-4092-b309-d8474ba4cc31\" target=\"_top\" title=\"psysml:1ab4a2c7-e640-4092-b309-d8474ba4cc31\" xlink:actuate=\"onRequest\" xlink:href=\"psysml:1ab4a2c7-e640-4092-b309-d8474ba4cc31\" xlink:show=\"new\" xlink:title=\"psysml:1ab4a2c7-e640-4092-b309-d8474ba4cc31\" xlink:type=\"simple\"><rect fill=\"#FFFFFF\" height=\"45.9375\" id=\"E8\" rx=\"10\" ry=\"10\" style=\"stroke: #383838; stroke-width: 1.5;\" width=\"42\" x=\"63\" y=\"253\"/><text fill=\"#000000\" font-family=\"sans-serif\" font-size=\"12\" font-style=\"italic\" lengthAdjust=\"spacingAndGlyphs\" textLength=\"40\" x=\"64\" y=\"269.1387\">«port»</text><text fill=\"#000000\" font-family=\"sans-serif\" font-size=\"12\" lengthAdjust=\"spacingAndGlyphs\" textLength=\"36\" x=\"66\" y=\"283.1074\">pdest</text><line style=\"stroke: #383838; stroke-width: 1.5;\" x1=\"64\" x2=\"104\" y1=\"290.9375\" y2=\"290.9375\"/></a><!--MD5=[4672eba38e49728da53d11aeb285b987]\n",
       "reverse link E3 to E4--><a href=\"psysml:b0a1a3b9-a387-42d1-a567-e540cd2e1d19\" target=\"_top\" title=\"psysml:b0a1a3b9-a387-42d1-a567-e540cd2e1d19\" xlink:actuate=\"onRequest\" xlink:href=\"psysml:b0a1a3b9-a387-42d1-a567-e540cd2e1d19\" xlink:show=\"new\" xlink:title=\"psysml:b0a1a3b9-a387-42d1-a567-e540cd2e1d19\" xlink:type=\"simple\"><path d=\"M188.84,206.44 C187.7,221.87 188.21,239.47 190.36,252.98 \" fill=\"none\" id=\"E3&lt;-E4\" style=\"stroke: #383838; stroke-width: 1.0;\"/><polygon fill=\"#FFFFFF\" points=\"190.35,193.06,185.7032,198.5743,189.006,204.9845,193.6528,199.4702,190.35,193.06\" style=\"stroke: #383838; stroke-width: 1.0;\"/><text fill=\"#000000\" font-family=\"sans-serif\" font-size=\"13\" lengthAdjust=\"spacingAndGlyphs\" textLength=\"8\" x=\"178.4255\" y=\"241.8709\">1</text></a><!--MD5=[4672eba38e49728da53d11aeb285b987]\n",
       "reverse link E3 to E4--><a href=\"psysml:b116cd08-9727-4fd8-b1d3-1b9f6deb041c\" target=\"_top\" title=\"psysml:b116cd08-9727-4fd8-b1d3-1b9f6deb041c\" xlink:actuate=\"onRequest\" xlink:href=\"psysml:b116cd08-9727-4fd8-b1d3-1b9f6deb041c\" xlink:show=\"new\" xlink:title=\"psysml:b116cd08-9727-4fd8-b1d3-1b9f6deb041c\" xlink:type=\"simple\"><path d=\"M214.01,208.34 C215.03,223.3 214.45,240.02 212.27,252.98 \" fill=\"none\" id=\"E3&lt;-E4-1\" style=\"stroke: #383838; stroke-width: 1.0; stroke-dasharray: 7.0,7.0;\"/><ellipse cx=\"213.1693\" cy=\"201.0093\" fill=\"#FFFFFF\" rx=\"8\" ry=\"8\" style=\"stroke: #383838; stroke-width: 1.0;\"/><line style=\"stroke: #383838; stroke-width: 1.0;\" x1=\"214.0687\" x2=\"212.27\" y1=\"208.9586\" y2=\"193.06\"/><line style=\"stroke: #383838; stroke-width: 1.0;\" x1=\"205.2201\" x2=\"221.1186\" y1=\"201.9086\" y2=\"200.1099\"/><text fill=\"#000000\" font-family=\"sans-serif\" font-size=\"13\" lengthAdjust=\"spacingAndGlyphs\" textLength=\"8\" x=\"206.2238\" y=\"241.8709\">1</text></a><!--MD5=[e9be52314489bd878ff4c7144b63c9e1]\n",
       "link E5 to E3--><a href=\"psysml:b60c9595-85bf-4c72-aa43-c7c5a3162c28\" target=\"_top\" title=\"psysml:b60c9595-85bf-4c72-aa43-c7c5a3162c28\" xlink:actuate=\"onRequest\" xlink:href=\"psysml:b60c9595-85bf-4c72-aa43-c7c5a3162c28\" xlink:show=\"new\" xlink:title=\"psysml:b60c9595-85bf-4c72-aa43-c7c5a3162c28\" xlink:type=\"simple\"><path d=\"M149.78,87.06 C157.54,99.47 167.45,115.33 176.49,129.78 \" fill=\"none\" id=\"E5-&gt;E3\" style=\"stroke: #383838; stroke-width: 1.0;\"/><polygon fill=\"#FFFFFF\" points=\"187.24,146.98,171.2331,134.5792,183.1045,127.1584,187.24,146.98\" style=\"stroke: #383838; stroke-width: 1.0;\"/><ellipse cx=\"169.9076\" cy=\"128.6857\" fill=\"#383838\" rx=\"2\" ry=\"2\" style=\"stroke: #383838; stroke-width: 1.0;\"/><ellipse cx=\"178.3872\" cy=\"123.3851\" fill=\"#383838\" rx=\"2\" ry=\"2\" style=\"stroke: #383838; stroke-width: 1.0;\"/></a><!--MD5=[85d356282659285ab4b2cfe2f634dd2b]\n",
       "reverse link E5 to E6--><a href=\"psysml:5e5f570b-f88f-4e5d-bde6-a1031949a59c\" target=\"_top\" title=\"psysml:5e5f570b-f88f-4e5d-bde6-a1031949a59c\" xlink:actuate=\"onRequest\" xlink:href=\"psysml:5e5f570b-f88f-4e5d-bde6-a1031949a59c\" xlink:show=\"new\" xlink:title=\"psysml:5e5f570b-f88f-4e5d-bde6-a1031949a59c\" xlink:type=\"simple\"><path d=\"M127.93,99.96 C124.34,115.51 120.23,133.33 117.08,146.98 \" fill=\"none\" id=\"E5&lt;-E6\" style=\"stroke: #383838; stroke-width: 1.0;\"/><polygon fill=\"#FFFFFF\" points=\"130.91,87.06,125.6616,92.0052,128.2078,98.7518,133.4562,93.8066,130.91,87.06\" style=\"stroke: #383838; stroke-width: 1.0;\"/><text fill=\"#000000\" font-family=\"sans-serif\" font-size=\"13\" lengthAdjust=\"spacingAndGlyphs\" textLength=\"8\" x=\"109.3703\" y=\"135.8709\">1</text></a><!--MD5=[f667431f98296947986a1a7595a31603]\n",
       "link E6 to E4--><a href=\"psysml:ccd9da30-2bd5-4e38-bf20-b9f9621d2107\" target=\"_top\" title=\"psysml:ccd9da30-2bd5-4e38-bf20-b9f9621d2107\" xlink:actuate=\"onRequest\" xlink:href=\"psysml:ccd9da30-2bd5-4e38-bf20-b9f9621d2107\" xlink:show=\"new\" xlink:title=\"psysml:ccd9da30-2bd5-4e38-bf20-b9f9621d2107\" xlink:type=\"simple\"><path d=\"M130.87,193.06 C141.97,206.02 156.28,222.74 169.08,237.7 \" fill=\"none\" id=\"E6-&gt;E4\" style=\"stroke: #383838; stroke-width: 1.0;\"/><polygon fill=\"#FFFFFF\" points=\"182.15,252.98,164.4809,243.0905,175.1204,233.9909,182.15,252.98\" style=\"stroke: #383838; stroke-width: 1.0;\"/><line style=\"stroke: #383838; stroke-width: 2.0;\" x1=\"162.011\" x2=\"172.6505\" y1=\"240.2026\" y2=\"231.1031\"/></a><!--MD5=[14ccda38c055a5c0da953d572bc50960]\n",
       "link E7 to E3--><a href=\"psysml:8fc3f931-75e6-473d-9c07-27a38ec18c6d\" target=\"_top\" title=\"psysml:8fc3f931-75e6-473d-9c07-27a38ec18c6d\" xlink:actuate=\"onRequest\" xlink:href=\"psysml:8fc3f931-75e6-473d-9c07-27a38ec18c6d\" xlink:show=\"new\" xlink:title=\"psysml:8fc3f931-75e6-473d-9c07-27a38ec18c6d\" xlink:type=\"simple\"><path d=\"M78.13,81.48 C98.32,95.86 128.25,117.18 153.52,135.18 \" fill=\"none\" id=\"E7-&gt;E3\" style=\"stroke: #383838; stroke-width: 1.0;\"/><polygon fill=\"#FFFFFF\" points=\"170.09,146.98,150.5533,141.6586,158.6755,130.2555,170.09,146.98\" style=\"stroke: #383838; stroke-width: 1.0;\"/><ellipse cx=\"147.0709\" cy=\"136.7227\" fill=\"#383838\" rx=\"2\" ry=\"2\" style=\"stroke: #383838; stroke-width: 1.0;\"/><ellipse cx=\"152.8725\" cy=\"128.5776\" fill=\"#383838\" rx=\"2\" ry=\"2\" style=\"stroke: #383838; stroke-width: 1.0;\"/></a><!--MD5=[dc164f5e8a733ab456ef1add180e9e34]\n",
       "reverse link E7 to E8--><a href=\"psysml:36a32e90-a022-4c42-9b64-7c79f5d1d72c\" target=\"_top\" title=\"psysml:36a32e90-a022-4c42-9b64-7c79f5d1d72c\" xlink:actuate=\"onRequest\" xlink:href=\"psysml:36a32e90-a022-4c42-9b64-7c79f5d1d72c\" xlink:show=\"new\" xlink:title=\"psysml:36a32e90-a022-4c42-9b64-7c79f5d1d72c\" xlink:type=\"simple\"><path d=\"M50.05,100.09 C51.65,143.61 62.25,216.5 72.75,252.9 \" fill=\"none\" id=\"E7&lt;-E8\" style=\"stroke: #383838; stroke-width: 1.0;\"/><polygon fill=\"#FFFFFF\" points=\"49.85,87.08,45.9362,93.1366,50.0216,99.0788,53.9354,93.0222,49.85,87.08\" style=\"stroke: #383838; stroke-width: 1.0;\"/><text fill=\"#000000\" font-family=\"sans-serif\" font-size=\"13\" lengthAdjust=\"spacingAndGlyphs\" textLength=\"8\" x=\"60.6516\" y=\"241.7694\">1</text></a><!--MD5=[dc164f5e8a733ab456ef1add180e9e34]\n",
       "reverse link E7 to E8--><a href=\"psysml:346ab8ae-1d2f-462f-a94e-fae0b61189bf\" target=\"_top\" title=\"psysml:346ab8ae-1d2f-462f-a94e-fae0b61189bf\" xlink:actuate=\"onRequest\" xlink:href=\"psysml:346ab8ae-1d2f-462f-a94e-fae0b61189bf\" xlink:show=\"new\" xlink:title=\"psysml:346ab8ae-1d2f-462f-a94e-fae0b61189bf\" xlink:type=\"simple\"><path d=\"M70.64,101.8 C81.15,145.5 90.39,216.97 89.63,252.9 \" fill=\"none\" id=\"E7&lt;-E8-1\" style=\"stroke: #383838; stroke-width: 1.0; stroke-dasharray: 7.0,7.0;\"/><ellipse cx=\"68.7794\" cy=\"94.813\" fill=\"#FFFFFF\" rx=\"8\" ry=\"8\" style=\"stroke: #383838; stroke-width: 1.0;\"/><line style=\"stroke: #383838; stroke-width: 1.0;\" x1=\"70.8289\" x2=\"66.73\" y1=\"102.5461\" y2=\"87.08\"/><line style=\"stroke: #383838; stroke-width: 1.0;\" x1=\"61.0464\" x2=\"76.5125\" y1=\"96.8625\" y2=\"92.7636\"/><text fill=\"#000000\" font-family=\"sans-serif\" font-size=\"13\" lengthAdjust=\"spacingAndGlyphs\" textLength=\"8\" x=\"92.2181\" y=\"241.7694\">1</text></a><!--MD5=[0a839d0f80c2d72d4b9b307f046d0de8]\n",
       "link E6 to E8--><a href=\"psysml:eaab9895-3808-4b7e-ad70-425cb7403c1b\" target=\"_top\" title=\"psysml:eaab9895-3808-4b7e-ad70-425cb7403c1b\" xlink:actuate=\"onRequest\" xlink:href=\"psysml:eaab9895-3808-4b7e-ad70-425cb7403c1b\" xlink:show=\"new\" xlink:title=\"psysml:eaab9895-3808-4b7e-ad70-425cb7403c1b\" xlink:type=\"simple\"><path d=\"M95.42,193.06 C87.86,210.7 81.23,235.34 79.29,252.98 \" fill=\"none\" id=\"E6-E8\" style=\"stroke: #383838; stroke-width: 3.0;\"/><text fill=\"#000000\" font-family=\"sans-serif\" font-size=\"13\" lengthAdjust=\"spacingAndGlyphs\" textLength=\"7\" x=\"78.9648\" y=\"241.8709\">*</text></a><!--MD5=[0a839d0f80c2d72d4b9b307f046d0de8]\n",
       "link E6 to E8--><a href=\"psysml:18885de6-563e-4dd2-a418-c135b5ffccd4\" target=\"_top\" title=\"psysml:18885de6-563e-4dd2-a418-c135b5ffccd4\" xlink:actuate=\"onRequest\" xlink:href=\"psysml:18885de6-563e-4dd2-a418-c135b5ffccd4\" xlink:show=\"new\" xlink:title=\"psysml:18885de6-563e-4dd2-a418-c135b5ffccd4\" xlink:type=\"simple\"><path d=\"M117.33,193.06 C115.55,210.7 108.92,235.34 101.2,252.98 \" fill=\"none\" id=\"E6-E8-1\" style=\"stroke: #383838; stroke-width: 3.0;\"/><text fill=\"#000000\" font-family=\"sans-serif\" font-size=\"13\" lengthAdjust=\"spacingAndGlyphs\" textLength=\"7\" x=\"97.8819\" y=\"241.8709\">*</text></a><!--MD5=[c19cb42e34e4632deb9b0c649fc9116a]\n",
       "@startuml\r\n",
       "top to bottom direction\r\n",
       "skinparam monochrome true\r\n",
       "skinparam classbackgroundcolor white\r\n",
       "skinparam shadowing false\r\n",
       "skinparam wrapWidth 300\r\n",
       "hide circle\r\n",
       "\r\n",
       "package \"AliasTest\" as E1  [[psysml:abede473-ce86-4cf2-9b0f-bcad92dda7df ]]  {\r\n",
       "comp usage \"q\" as E2  <<(T,blue) attribute>> [[psysml:84563fde-fc3c-4caa-a0d2-03a4409edda3 ]] {\r\n",
       "}\r\n",
       "comp def \"P1\" as E3  <<(T,blue) part def>> [[psysml:f240402e-e520-4bd4-a2fa-a40388aadc9d ]] {\r\n",
       "}\r\n",
       "comp usage \"porig1\" as E4  <<(T,blue) port>> [[psysml:fb61bd91-52ec-4d42-be8a-ef485ce794d8 ]] {\r\n",
       "}\r\n",
       "comp usage \"p1: P1\" as E5  <<(T,blue) part>> [[psysml:66a2f39c-c11d-47e1-a04e-46a9b54c38c0 ]] {\r\n",
       "}\r\n",
       "comp usage \"po1\" as E6  <<(T,blue) port>> [[psysml:1cf4d29b-7212-465e-9bfc-2d9d3c47093a ]] {\r\n",
       "}\r\n",
       "comp usage \"p2: P1\" as E7  <<(T,blue) part>> [[psysml:d750b59a-5fb4-49de-a141-6edbceed9fe9 ]] {\r\n",
       "}\r\n",
       "comp usage \"pdest\" as E8  <<(T,blue) port>> [[psysml:1ab4a2c7-e640-4092-b309-d8474ba4cc31 ]] {\r\n",
       "}\r\n",
       "}\r\n",
       "E3 o- - \"1\"E4 [[psysml:b0a1a3b9-a387-42d1-a567-e540cd2e1d19 ]] \r\n",
       "E3 +.. \"1\"E4 [[psysml:b116cd08-9727-4fd8-b1d3-1b9f6deb041c ]] \r\n",
       "E5 - -:|> E3 [[psysml:b60c9595-85bf-4c72-aa43-c7c5a3162c28 ]] \r\n",
       "E5 o- - \"1\"E6 [[psysml:5e5f570b-f88f-4e5d-bde6-a1031949a59c ]] \r\n",
       "E6 - -||> E4 [[psysml:ccd9da30-2bd5-4e38-bf20-b9f9621d2107 ]] \r\n",
       "E7 - -:|> E3 [[psysml:8fc3f931-75e6-473d-9c07-27a38ec18c6d ]] \r\n",
       "E7 o- - \"1\"E8 [[psysml:36a32e90-a022-4c42-9b64-7c79f5d1d72c ]] \r\n",
       "E7 +.. \"1\"E8 [[psysml:346ab8ae-1d2f-462f-a94e-fae0b61189bf ]] \r\n",
       "E6 -[thickness=3]- \"*\"E8 [[psysml:eaab9895-3808-4b7e-ad70-425cb7403c1b ]] \r\n",
       "E6 -[thickness=3]- \"*\"E8 [[psysml:18885de6-563e-4dd2-a418-c135b5ffccd4 ]] \r\n",
       "@enduml\r\n",
       "\n",
       "PlantUML version 1.2020.13(Sat Jun 13 12:26:38 UTC 2020)\n",
       "(EPL source distribution)\n",
       "Java Runtime: OpenJDK Runtime Environment\n",
       "JVM: OpenJDK 64-Bit Server VM\n",
       "Default Encoding: UTF-8\n",
       "Language: en\n",
       "Country: null\n",
       "--></g></svg>"
      ]
     },
     "execution_count": 44,
     "metadata": {},
     "output_type": "execute_result"
    }
   ],
   "source": [
    "%viz --style=\"TB\" --view=\"Default\" \"AliasTest\""
   ]
  },
  {
   "cell_type": "code",
   "execution_count": 45,
   "id": "6d62a1a8",
   "metadata": {
    "execution": {
     "iopub.execute_input": "2021-09-27T07:19:11.095200Z",
     "iopub.status.busy": "2021-09-27T07:19:11.094760Z",
     "iopub.status.idle": "2021-09-27T07:19:11.126217Z",
     "shell.execute_reply": "2021-09-27T07:19:11.125850Z"
    }
   },
   "outputs": [
    {
     "data": {
      "image/svg+xml": [
       "<?xml version=\"1.0\" encoding=\"UTF-8\" standalone=\"no\"?><svg xmlns=\"http://www.w3.org/2000/svg\" xmlns:xlink=\"http://www.w3.org/1999/xlink\" contentScriptType=\"application/ecmascript\" contentStyleType=\"text/css\" height=\"327px\" preserveAspectRatio=\"none\" style=\"width:304px;height:327px;\" version=\"1.1\" viewBox=\"0 0 304 327\" width=\"304px\" zoomAndPan=\"magnify\"><defs/><g><!--MD5=[fbc87193dbaf4d95561dea2c320d4a47]\n",
       "cluster E1--><a href=\"psysml:abede473-ce86-4cf2-9b0f-bcad92dda7df\" target=\"_top\" title=\"psysml:abede473-ce86-4cf2-9b0f-bcad92dda7df\" xlink:actuate=\"onRequest\" xlink:href=\"psysml:abede473-ce86-4cf2-9b0f-bcad92dda7df\" xlink:show=\"new\" xlink:title=\"psysml:abede473-ce86-4cf2-9b0f-bcad92dda7df\" xlink:type=\"simple\"><polygon fill=\"#FFFFFF\" points=\"16,6,84,6,91,28.2969,282,28.2969,282,315,16,315,16,6\" style=\"stroke: #000000; stroke-width: 1.5;\"/><line style=\"stroke: #000000; stroke-width: 1.5;\" x1=\"16\" x2=\"91\" y1=\"28.2969\" y2=\"28.2969\"/><text fill=\"#000000\" font-family=\"sans-serif\" font-size=\"14\" font-weight=\"bold\" lengthAdjust=\"spacingAndGlyphs\" textLength=\"62\" x=\"20\" y=\"20.9951\">AliasTest</text></a><!--MD5=[b4997ac47864f28c2f74865a473b2911]\n",
       "class E2--><a href=\"psysml:84563fde-fc3c-4caa-a0d2-03a4409edda3\" target=\"_top\" title=\"psysml:84563fde-fc3c-4caa-a0d2-03a4409edda3\" xlink:actuate=\"onRequest\" xlink:href=\"psysml:84563fde-fc3c-4caa-a0d2-03a4409edda3\" xlink:show=\"new\" xlink:title=\"psysml:84563fde-fc3c-4caa-a0d2-03a4409edda3\" xlink:type=\"simple\"><rect fill=\"#FFFFFF\" height=\"45.9375\" id=\"E2\" rx=\"10\" ry=\"10\" style=\"stroke: #383838; stroke-width: 1.5;\" width=\"71\" x=\"194.5\" y=\"41\"/><text fill=\"#000000\" font-family=\"sans-serif\" font-size=\"12\" font-style=\"italic\" lengthAdjust=\"spacingAndGlyphs\" textLength=\"69\" x=\"195.5\" y=\"57.1387\">«attribute»</text><text fill=\"#000000\" font-family=\"sans-serif\" font-size=\"12\" lengthAdjust=\"spacingAndGlyphs\" textLength=\"8\" x=\"226\" y=\"71.1074\">q</text><line style=\"stroke: #383838; stroke-width: 1.5;\" x1=\"195.5\" x2=\"264.5\" y1=\"78.9375\" y2=\"78.9375\"/></a><!--MD5=[09b614a08d8cba4a07c9adeb5e0fee81]\n",
       "class E3--><a href=\"psysml:f240402e-e520-4bd4-a2fa-a40388aadc9d\" target=\"_top\" title=\"psysml:f240402e-e520-4bd4-a2fa-a40388aadc9d\" xlink:actuate=\"onRequest\" xlink:href=\"psysml:f240402e-e520-4bd4-a2fa-a40388aadc9d\" xlink:show=\"new\" xlink:title=\"psysml:f240402e-e520-4bd4-a2fa-a40388aadc9d\" xlink:type=\"simple\"><rect fill=\"#FFFFFF\" height=\"45.9375\" id=\"E3\" style=\"stroke: #383838; stroke-width: 1.5;\" width=\"66\" x=\"168\" y=\"147\"/><text fill=\"#000000\" font-family=\"sans-serif\" font-size=\"12\" font-style=\"italic\" lengthAdjust=\"spacingAndGlyphs\" textLength=\"64\" x=\"169\" y=\"163.1387\">«part def»</text><text fill=\"#000000\" font-family=\"sans-serif\" font-size=\"12\" lengthAdjust=\"spacingAndGlyphs\" textLength=\"16\" x=\"193\" y=\"177.1074\">P1</text><line style=\"stroke: #383838; stroke-width: 1.5;\" x1=\"169\" x2=\"233\" y1=\"184.9375\" y2=\"184.9375\"/></a><!--MD5=[ebbe1d658d1005bcc118a6aa81145e00]\n",
       "class E4--><a href=\"psysml:fb61bd91-52ec-4d42-be8a-ef485ce794d8\" target=\"_top\" title=\"psysml:fb61bd91-52ec-4d42-be8a-ef485ce794d8\" xlink:actuate=\"onRequest\" xlink:href=\"psysml:fb61bd91-52ec-4d42-be8a-ef485ce794d8\" xlink:show=\"new\" xlink:title=\"psysml:fb61bd91-52ec-4d42-be8a-ef485ce794d8\" xlink:type=\"simple\"><rect fill=\"#FFFFFF\" height=\"45.9375\" id=\"E4\" rx=\"10\" ry=\"10\" style=\"stroke: #383838; stroke-width: 1.5;\" width=\"46\" x=\"178\" y=\"253\"/><text fill=\"#000000\" font-family=\"sans-serif\" font-size=\"12\" font-style=\"italic\" lengthAdjust=\"spacingAndGlyphs\" textLength=\"40\" x=\"181\" y=\"269.1387\">«port»</text><text fill=\"#000000\" font-family=\"sans-serif\" font-size=\"12\" lengthAdjust=\"spacingAndGlyphs\" textLength=\"40\" x=\"181\" y=\"283.1074\">porig1</text><line style=\"stroke: #383838; stroke-width: 1.5;\" x1=\"179\" x2=\"223\" y1=\"290.9375\" y2=\"290.9375\"/></a><!--MD5=[270fce915f116d4de14055a7c1d9a0f3]\n",
       "class E5--><a href=\"psysml:66a2f39c-c11d-47e1-a04e-46a9b54c38c0\" target=\"_top\" title=\"psysml:66a2f39c-c11d-47e1-a04e-46a9b54c38c0\" xlink:actuate=\"onRequest\" xlink:href=\"psysml:66a2f39c-c11d-47e1-a04e-46a9b54c38c0\" xlink:show=\"new\" xlink:title=\"psysml:66a2f39c-c11d-47e1-a04e-46a9b54c38c0\" xlink:type=\"simple\"><rect fill=\"#FFFFFF\" height=\"45.9375\" id=\"E5\" rx=\"10\" ry=\"10\" style=\"stroke: #383838; stroke-width: 1.5;\" width=\"46\" x=\"113\" y=\"41\"/><text fill=\"#000000\" font-family=\"sans-serif\" font-size=\"12\" font-style=\"italic\" lengthAdjust=\"spacingAndGlyphs\" textLength=\"40\" x=\"116\" y=\"57.1387\">«part»</text><text fill=\"#000000\" font-family=\"sans-serif\" font-size=\"12\" lengthAdjust=\"spacingAndGlyphs\" textLength=\"40\" x=\"116\" y=\"71.1074\">p1: P1</text><line style=\"stroke: #383838; stroke-width: 1.5;\" x1=\"114\" x2=\"158\" y1=\"78.9375\" y2=\"78.9375\"/></a><!--MD5=[60a26617385b1d2d0262a64233df1f8d]\n",
       "class E6--><a href=\"psysml:1cf4d29b-7212-465e-9bfc-2d9d3c47093a\" target=\"_top\" title=\"psysml:1cf4d29b-7212-465e-9bfc-2d9d3c47093a\" xlink:actuate=\"onRequest\" xlink:href=\"psysml:1cf4d29b-7212-465e-9bfc-2d9d3c47093a\" xlink:show=\"new\" xlink:title=\"psysml:1cf4d29b-7212-465e-9bfc-2d9d3c47093a\" xlink:type=\"simple\"><rect fill=\"#FFFFFF\" height=\"45.9375\" id=\"E6\" rx=\"10\" ry=\"10\" style=\"stroke: #383838; stroke-width: 1.5;\" width=\"42\" x=\"91\" y=\"147\"/><text fill=\"#000000\" font-family=\"sans-serif\" font-size=\"12\" font-style=\"italic\" lengthAdjust=\"spacingAndGlyphs\" textLength=\"40\" x=\"92\" y=\"163.1387\">«port»</text><text fill=\"#000000\" font-family=\"sans-serif\" font-size=\"12\" lengthAdjust=\"spacingAndGlyphs\" textLength=\"24\" x=\"100\" y=\"177.1074\">po1</text><line style=\"stroke: #383838; stroke-width: 1.5;\" x1=\"92\" x2=\"132\" y1=\"184.9375\" y2=\"184.9375\"/></a><!--MD5=[2156ba9850f5573cc1fc38a6a4b2f02b]\n",
       "class E7--><a href=\"psysml:d750b59a-5fb4-49de-a141-6edbceed9fe9\" target=\"_top\" title=\"psysml:d750b59a-5fb4-49de-a141-6edbceed9fe9\" xlink:actuate=\"onRequest\" xlink:href=\"psysml:d750b59a-5fb4-49de-a141-6edbceed9fe9\" xlink:show=\"new\" xlink:title=\"psysml:d750b59a-5fb4-49de-a141-6edbceed9fe9\" xlink:type=\"simple\"><rect fill=\"#FFFFFF\" height=\"45.9375\" id=\"E7\" rx=\"10\" ry=\"10\" style=\"stroke: #383838; stroke-width: 1.5;\" width=\"46\" x=\"32\" y=\"41\"/><text fill=\"#000000\" font-family=\"sans-serif\" font-size=\"12\" font-style=\"italic\" lengthAdjust=\"spacingAndGlyphs\" textLength=\"40\" x=\"35\" y=\"57.1387\">«part»</text><text fill=\"#000000\" font-family=\"sans-serif\" font-size=\"12\" lengthAdjust=\"spacingAndGlyphs\" textLength=\"40\" x=\"35\" y=\"71.1074\">p2: P1</text><line style=\"stroke: #383838; stroke-width: 1.5;\" x1=\"33\" x2=\"77\" y1=\"78.9375\" y2=\"78.9375\"/></a><!--MD5=[b9389687b975829384b498ac4b7476b2]\n",
       "class E8--><a href=\"psysml:1ab4a2c7-e640-4092-b309-d8474ba4cc31\" target=\"_top\" title=\"psysml:1ab4a2c7-e640-4092-b309-d8474ba4cc31\" xlink:actuate=\"onRequest\" xlink:href=\"psysml:1ab4a2c7-e640-4092-b309-d8474ba4cc31\" xlink:show=\"new\" xlink:title=\"psysml:1ab4a2c7-e640-4092-b309-d8474ba4cc31\" xlink:type=\"simple\"><rect fill=\"#FFFFFF\" height=\"45.9375\" id=\"E8\" rx=\"10\" ry=\"10\" style=\"stroke: #383838; stroke-width: 1.5;\" width=\"42\" x=\"63\" y=\"253\"/><text fill=\"#000000\" font-family=\"sans-serif\" font-size=\"12\" font-style=\"italic\" lengthAdjust=\"spacingAndGlyphs\" textLength=\"40\" x=\"64\" y=\"269.1387\">«port»</text><text fill=\"#000000\" font-family=\"sans-serif\" font-size=\"12\" lengthAdjust=\"spacingAndGlyphs\" textLength=\"36\" x=\"66\" y=\"283.1074\">pdest</text><line style=\"stroke: #383838; stroke-width: 1.5;\" x1=\"64\" x2=\"104\" y1=\"290.9375\" y2=\"290.9375\"/></a><!--MD5=[4672eba38e49728da53d11aeb285b987]\n",
       "reverse link E3 to E4--><a href=\"psysml:b0a1a3b9-a387-42d1-a567-e540cd2e1d19\" target=\"_top\" title=\"psysml:b0a1a3b9-a387-42d1-a567-e540cd2e1d19\" xlink:actuate=\"onRequest\" xlink:href=\"psysml:b0a1a3b9-a387-42d1-a567-e540cd2e1d19\" xlink:show=\"new\" xlink:title=\"psysml:b0a1a3b9-a387-42d1-a567-e540cd2e1d19\" xlink:type=\"simple\"><path d=\"M188.84,206.44 C187.7,221.87 188.21,239.47 190.36,252.98 \" fill=\"none\" id=\"E3&lt;-E4\" style=\"stroke: #383838; stroke-width: 1.0;\"/><polygon fill=\"#FFFFFF\" points=\"190.35,193.06,185.7032,198.5743,189.006,204.9845,193.6528,199.4702,190.35,193.06\" style=\"stroke: #383838; stroke-width: 1.0;\"/><text fill=\"#000000\" font-family=\"sans-serif\" font-size=\"13\" lengthAdjust=\"spacingAndGlyphs\" textLength=\"8\" x=\"178.4255\" y=\"241.8709\">1</text></a><!--MD5=[4672eba38e49728da53d11aeb285b987]\n",
       "reverse link E3 to E4--><a href=\"psysml:b116cd08-9727-4fd8-b1d3-1b9f6deb041c\" target=\"_top\" title=\"psysml:b116cd08-9727-4fd8-b1d3-1b9f6deb041c\" xlink:actuate=\"onRequest\" xlink:href=\"psysml:b116cd08-9727-4fd8-b1d3-1b9f6deb041c\" xlink:show=\"new\" xlink:title=\"psysml:b116cd08-9727-4fd8-b1d3-1b9f6deb041c\" xlink:type=\"simple\"><path d=\"M214.01,208.34 C215.03,223.3 214.45,240.02 212.27,252.98 \" fill=\"none\" id=\"E3&lt;-E4-1\" style=\"stroke: #383838; stroke-width: 1.0; stroke-dasharray: 7.0,7.0;\"/><ellipse cx=\"213.1693\" cy=\"201.0093\" fill=\"#FFFFFF\" rx=\"8\" ry=\"8\" style=\"stroke: #383838; stroke-width: 1.0;\"/><line style=\"stroke: #383838; stroke-width: 1.0;\" x1=\"214.0687\" x2=\"212.27\" y1=\"208.9586\" y2=\"193.06\"/><line style=\"stroke: #383838; stroke-width: 1.0;\" x1=\"205.2201\" x2=\"221.1186\" y1=\"201.9086\" y2=\"200.1099\"/><text fill=\"#000000\" font-family=\"sans-serif\" font-size=\"13\" lengthAdjust=\"spacingAndGlyphs\" textLength=\"8\" x=\"206.2238\" y=\"241.8709\">1</text></a><!--MD5=[e9be52314489bd878ff4c7144b63c9e1]\n",
       "link E5 to E3--><a href=\"psysml:b60c9595-85bf-4c72-aa43-c7c5a3162c28\" target=\"_top\" title=\"psysml:b60c9595-85bf-4c72-aa43-c7c5a3162c28\" xlink:actuate=\"onRequest\" xlink:href=\"psysml:b60c9595-85bf-4c72-aa43-c7c5a3162c28\" xlink:show=\"new\" xlink:title=\"psysml:b60c9595-85bf-4c72-aa43-c7c5a3162c28\" xlink:type=\"simple\"><path d=\"M149.78,87.06 C157.54,99.47 167.45,115.33 176.49,129.78 \" fill=\"none\" id=\"E5-&gt;E3\" style=\"stroke: #383838; stroke-width: 1.0;\"/><polygon fill=\"#FFFFFF\" points=\"187.24,146.98,171.2331,134.5792,183.1045,127.1584,187.24,146.98\" style=\"stroke: #383838; stroke-width: 1.0;\"/><ellipse cx=\"169.9076\" cy=\"128.6857\" fill=\"#383838\" rx=\"2\" ry=\"2\" style=\"stroke: #383838; stroke-width: 1.0;\"/><ellipse cx=\"178.3872\" cy=\"123.3851\" fill=\"#383838\" rx=\"2\" ry=\"2\" style=\"stroke: #383838; stroke-width: 1.0;\"/></a><!--MD5=[85d356282659285ab4b2cfe2f634dd2b]\n",
       "reverse link E5 to E6--><a href=\"psysml:5e5f570b-f88f-4e5d-bde6-a1031949a59c\" target=\"_top\" title=\"psysml:5e5f570b-f88f-4e5d-bde6-a1031949a59c\" xlink:actuate=\"onRequest\" xlink:href=\"psysml:5e5f570b-f88f-4e5d-bde6-a1031949a59c\" xlink:show=\"new\" xlink:title=\"psysml:5e5f570b-f88f-4e5d-bde6-a1031949a59c\" xlink:type=\"simple\"><path d=\"M127.93,99.96 C124.34,115.51 120.23,133.33 117.08,146.98 \" fill=\"none\" id=\"E5&lt;-E6\" style=\"stroke: #383838; stroke-width: 1.0;\"/><polygon fill=\"#FFFFFF\" points=\"130.91,87.06,125.6616,92.0052,128.2078,98.7518,133.4562,93.8066,130.91,87.06\" style=\"stroke: #383838; stroke-width: 1.0;\"/><text fill=\"#000000\" font-family=\"sans-serif\" font-size=\"13\" lengthAdjust=\"spacingAndGlyphs\" textLength=\"8\" x=\"109.3703\" y=\"135.8709\">1</text></a><!--MD5=[f667431f98296947986a1a7595a31603]\n",
       "link E6 to E4--><a href=\"psysml:ccd9da30-2bd5-4e38-bf20-b9f9621d2107\" target=\"_top\" title=\"psysml:ccd9da30-2bd5-4e38-bf20-b9f9621d2107\" xlink:actuate=\"onRequest\" xlink:href=\"psysml:ccd9da30-2bd5-4e38-bf20-b9f9621d2107\" xlink:show=\"new\" xlink:title=\"psysml:ccd9da30-2bd5-4e38-bf20-b9f9621d2107\" xlink:type=\"simple\"><path d=\"M130.87,193.06 C141.97,206.02 156.28,222.74 169.08,237.7 \" fill=\"none\" id=\"E6-&gt;E4\" style=\"stroke: #383838; stroke-width: 1.0;\"/><polygon fill=\"#FFFFFF\" points=\"182.15,252.98,164.4809,243.0905,175.1204,233.9909,182.15,252.98\" style=\"stroke: #383838; stroke-width: 1.0;\"/><line style=\"stroke: #383838; stroke-width: 2.0;\" x1=\"162.011\" x2=\"172.6505\" y1=\"240.2026\" y2=\"231.1031\"/></a><!--MD5=[14ccda38c055a5c0da953d572bc50960]\n",
       "link E7 to E3--><a href=\"psysml:8fc3f931-75e6-473d-9c07-27a38ec18c6d\" target=\"_top\" title=\"psysml:8fc3f931-75e6-473d-9c07-27a38ec18c6d\" xlink:actuate=\"onRequest\" xlink:href=\"psysml:8fc3f931-75e6-473d-9c07-27a38ec18c6d\" xlink:show=\"new\" xlink:title=\"psysml:8fc3f931-75e6-473d-9c07-27a38ec18c6d\" xlink:type=\"simple\"><path d=\"M78.13,81.48 C98.32,95.86 128.25,117.18 153.52,135.18 \" fill=\"none\" id=\"E7-&gt;E3\" style=\"stroke: #383838; stroke-width: 1.0;\"/><polygon fill=\"#FFFFFF\" points=\"170.09,146.98,150.5533,141.6586,158.6755,130.2555,170.09,146.98\" style=\"stroke: #383838; stroke-width: 1.0;\"/><ellipse cx=\"147.0709\" cy=\"136.7227\" fill=\"#383838\" rx=\"2\" ry=\"2\" style=\"stroke: #383838; stroke-width: 1.0;\"/><ellipse cx=\"152.8725\" cy=\"128.5776\" fill=\"#383838\" rx=\"2\" ry=\"2\" style=\"stroke: #383838; stroke-width: 1.0;\"/></a><!--MD5=[dc164f5e8a733ab456ef1add180e9e34]\n",
       "reverse link E7 to E8--><a href=\"psysml:36a32e90-a022-4c42-9b64-7c79f5d1d72c\" target=\"_top\" title=\"psysml:36a32e90-a022-4c42-9b64-7c79f5d1d72c\" xlink:actuate=\"onRequest\" xlink:href=\"psysml:36a32e90-a022-4c42-9b64-7c79f5d1d72c\" xlink:show=\"new\" xlink:title=\"psysml:36a32e90-a022-4c42-9b64-7c79f5d1d72c\" xlink:type=\"simple\"><path d=\"M50.05,100.09 C51.65,143.61 62.25,216.5 72.75,252.9 \" fill=\"none\" id=\"E7&lt;-E8\" style=\"stroke: #383838; stroke-width: 1.0;\"/><polygon fill=\"#FFFFFF\" points=\"49.85,87.08,45.9362,93.1366,50.0216,99.0788,53.9354,93.0222,49.85,87.08\" style=\"stroke: #383838; stroke-width: 1.0;\"/><text fill=\"#000000\" font-family=\"sans-serif\" font-size=\"13\" lengthAdjust=\"spacingAndGlyphs\" textLength=\"8\" x=\"60.6516\" y=\"241.7694\">1</text></a><!--MD5=[dc164f5e8a733ab456ef1add180e9e34]\n",
       "reverse link E7 to E8--><a href=\"psysml:346ab8ae-1d2f-462f-a94e-fae0b61189bf\" target=\"_top\" title=\"psysml:346ab8ae-1d2f-462f-a94e-fae0b61189bf\" xlink:actuate=\"onRequest\" xlink:href=\"psysml:346ab8ae-1d2f-462f-a94e-fae0b61189bf\" xlink:show=\"new\" xlink:title=\"psysml:346ab8ae-1d2f-462f-a94e-fae0b61189bf\" xlink:type=\"simple\"><path d=\"M70.64,101.8 C81.15,145.5 90.39,216.97 89.63,252.9 \" fill=\"none\" id=\"E7&lt;-E8-1\" style=\"stroke: #383838; stroke-width: 1.0; stroke-dasharray: 7.0,7.0;\"/><ellipse cx=\"68.7794\" cy=\"94.813\" fill=\"#FFFFFF\" rx=\"8\" ry=\"8\" style=\"stroke: #383838; stroke-width: 1.0;\"/><line style=\"stroke: #383838; stroke-width: 1.0;\" x1=\"70.8289\" x2=\"66.73\" y1=\"102.5461\" y2=\"87.08\"/><line style=\"stroke: #383838; stroke-width: 1.0;\" x1=\"61.0464\" x2=\"76.5125\" y1=\"96.8625\" y2=\"92.7636\"/><text fill=\"#000000\" font-family=\"sans-serif\" font-size=\"13\" lengthAdjust=\"spacingAndGlyphs\" textLength=\"8\" x=\"92.2181\" y=\"241.7694\">1</text></a><!--MD5=[0a839d0f80c2d72d4b9b307f046d0de8]\n",
       "link E6 to E8--><a href=\"psysml:eaab9895-3808-4b7e-ad70-425cb7403c1b\" target=\"_top\" title=\"psysml:eaab9895-3808-4b7e-ad70-425cb7403c1b\" xlink:actuate=\"onRequest\" xlink:href=\"psysml:eaab9895-3808-4b7e-ad70-425cb7403c1b\" xlink:show=\"new\" xlink:title=\"psysml:eaab9895-3808-4b7e-ad70-425cb7403c1b\" xlink:type=\"simple\"><path d=\"M95.42,193.06 C87.86,210.7 81.23,235.34 79.29,252.98 \" fill=\"none\" id=\"E6-E8\" style=\"stroke: #383838; stroke-width: 3.0;\"/><text fill=\"#000000\" font-family=\"sans-serif\" font-size=\"13\" lengthAdjust=\"spacingAndGlyphs\" textLength=\"7\" x=\"78.9648\" y=\"241.8709\">*</text></a><!--MD5=[0a839d0f80c2d72d4b9b307f046d0de8]\n",
       "link E6 to E8--><a href=\"psysml:18885de6-563e-4dd2-a418-c135b5ffccd4\" target=\"_top\" title=\"psysml:18885de6-563e-4dd2-a418-c135b5ffccd4\" xlink:actuate=\"onRequest\" xlink:href=\"psysml:18885de6-563e-4dd2-a418-c135b5ffccd4\" xlink:show=\"new\" xlink:title=\"psysml:18885de6-563e-4dd2-a418-c135b5ffccd4\" xlink:type=\"simple\"><path d=\"M117.33,193.06 C115.55,210.7 108.92,235.34 101.2,252.98 \" fill=\"none\" id=\"E6-E8-1\" style=\"stroke: #383838; stroke-width: 3.0;\"/><text fill=\"#000000\" font-family=\"sans-serif\" font-size=\"13\" lengthAdjust=\"spacingAndGlyphs\" textLength=\"7\" x=\"97.8819\" y=\"241.8709\">*</text></a><!--MD5=[c19cb42e34e4632deb9b0c649fc9116a]\n",
       "@startuml\r\n",
       "top to bottom direction\r\n",
       "skinparam monochrome true\r\n",
       "skinparam classbackgroundcolor white\r\n",
       "skinparam shadowing false\r\n",
       "skinparam wrapWidth 300\r\n",
       "hide circle\r\n",
       "\r\n",
       "package \"AliasTest\" as E1  [[psysml:abede473-ce86-4cf2-9b0f-bcad92dda7df ]]  {\r\n",
       "comp usage \"q\" as E2  <<(T,blue) attribute>> [[psysml:84563fde-fc3c-4caa-a0d2-03a4409edda3 ]] {\r\n",
       "}\r\n",
       "comp def \"P1\" as E3  <<(T,blue) part def>> [[psysml:f240402e-e520-4bd4-a2fa-a40388aadc9d ]] {\r\n",
       "}\r\n",
       "comp usage \"porig1\" as E4  <<(T,blue) port>> [[psysml:fb61bd91-52ec-4d42-be8a-ef485ce794d8 ]] {\r\n",
       "}\r\n",
       "comp usage \"p1: P1\" as E5  <<(T,blue) part>> [[psysml:66a2f39c-c11d-47e1-a04e-46a9b54c38c0 ]] {\r\n",
       "}\r\n",
       "comp usage \"po1\" as E6  <<(T,blue) port>> [[psysml:1cf4d29b-7212-465e-9bfc-2d9d3c47093a ]] {\r\n",
       "}\r\n",
       "comp usage \"p2: P1\" as E7  <<(T,blue) part>> [[psysml:d750b59a-5fb4-49de-a141-6edbceed9fe9 ]] {\r\n",
       "}\r\n",
       "comp usage \"pdest\" as E8  <<(T,blue) port>> [[psysml:1ab4a2c7-e640-4092-b309-d8474ba4cc31 ]] {\r\n",
       "}\r\n",
       "}\r\n",
       "E3 o- - \"1\"E4 [[psysml:b0a1a3b9-a387-42d1-a567-e540cd2e1d19 ]] \r\n",
       "E3 +.. \"1\"E4 [[psysml:b116cd08-9727-4fd8-b1d3-1b9f6deb041c ]] \r\n",
       "E5 - -:|> E3 [[psysml:b60c9595-85bf-4c72-aa43-c7c5a3162c28 ]] \r\n",
       "E5 o- - \"1\"E6 [[psysml:5e5f570b-f88f-4e5d-bde6-a1031949a59c ]] \r\n",
       "E6 - -||> E4 [[psysml:ccd9da30-2bd5-4e38-bf20-b9f9621d2107 ]] \r\n",
       "E7 - -:|> E3 [[psysml:8fc3f931-75e6-473d-9c07-27a38ec18c6d ]] \r\n",
       "E7 o- - \"1\"E8 [[psysml:36a32e90-a022-4c42-9b64-7c79f5d1d72c ]] \r\n",
       "E7 +.. \"1\"E8 [[psysml:346ab8ae-1d2f-462f-a94e-fae0b61189bf ]] \r\n",
       "E6 -[thickness=3]- \"*\"E8 [[psysml:eaab9895-3808-4b7e-ad70-425cb7403c1b ]] \r\n",
       "E6 -[thickness=3]- \"*\"E8 [[psysml:18885de6-563e-4dd2-a418-c135b5ffccd4 ]] \r\n",
       "@enduml\r\n",
       "\n",
       "PlantUML version 1.2020.13(Sat Jun 13 12:26:38 UTC 2020)\n",
       "(EPL source distribution)\n",
       "Java Runtime: OpenJDK Runtime Environment\n",
       "JVM: OpenJDK 64-Bit Server VM\n",
       "Default Encoding: UTF-8\n",
       "Language: en\n",
       "Country: null\n",
       "--></g></svg>"
      ]
     },
     "execution_count": 45,
     "metadata": {},
     "output_type": "execute_result"
    }
   ],
   "source": [
    "%viz --style=\"TB\" --view=\"Tree\" \"AliasTest\""
   ]
  },
  {
   "cell_type": "code",
   "execution_count": 46,
   "id": "8d9471c9",
   "metadata": {
    "execution": {
     "iopub.execute_input": "2021-09-27T07:19:11.175917Z",
     "iopub.status.busy": "2021-09-27T07:19:11.175471Z",
     "iopub.status.idle": "2021-09-27T07:19:11.180390Z",
     "shell.execute_reply": "2021-09-27T07:19:11.180011Z"
    }
   },
   "outputs": [
    {
     "data": {
      "image/svg+xml": [
       "<?xml version=\"1.0\" encoding=\"UTF-8\" standalone=\"no\"?><svg xmlns=\"http://www.w3.org/2000/svg\" xmlns:xlink=\"http://www.w3.org/1999/xlink\" contentScriptType=\"application/ecmascript\" contentStyleType=\"text/css\" height=\"12px\" preserveAspectRatio=\"none\" style=\"width:12px;height:12px;\" version=\"1.1\" viewBox=\"0 0 12 12\" width=\"12px\" zoomAndPan=\"magnify\"><defs/><g><!--MD5=[f4ee21bc66e489b5061b7c3e9601fdef]\n",
       "@startuml\r\n",
       "top to bottom direction\r\n",
       "skinparam monochrome true\r\n",
       "skinparam classbackgroundcolor white\r\n",
       "skinparam shadowing false\r\n",
       "skinparam wrapWidth 300\r\n",
       "hide circle\r\n",
       "\r\n",
       "@enduml\r\n",
       "\n",
       "PlantUML version 1.2020.13(Sat Jun 13 12:26:38 UTC 2020)\n",
       "(EPL source distribution)\n",
       "Java Runtime: OpenJDK Runtime Environment\n",
       "JVM: OpenJDK 64-Bit Server VM\n",
       "Default Encoding: UTF-8\n",
       "Language: en\n",
       "Country: null\n",
       "--></g></svg>"
      ]
     },
     "execution_count": 46,
     "metadata": {},
     "output_type": "execute_result"
    }
   ],
   "source": [
    "%viz --style=\"TB\" --view=\"State\" \"AliasTest\""
   ]
  },
  {
   "cell_type": "code",
   "execution_count": 47,
   "id": "e5c5c256",
   "metadata": {
    "execution": {
     "iopub.execute_input": "2021-09-27T07:19:11.230608Z",
     "iopub.status.busy": "2021-09-27T07:19:11.230012Z",
     "iopub.status.idle": "2021-09-27T07:19:11.264785Z",
     "shell.execute_reply": "2021-09-27T07:19:11.264327Z"
    }
   },
   "outputs": [
    {
     "data": {
      "image/svg+xml": [
       "<?xml version=\"1.0\" encoding=\"UTF-8\" standalone=\"no\"?><svg xmlns=\"http://www.w3.org/2000/svg\" xmlns:xlink=\"http://www.w3.org/1999/xlink\" contentScriptType=\"application/ecmascript\" contentStyleType=\"text/css\" height=\"233px\" preserveAspectRatio=\"none\" style=\"width:474px;height:233px;\" version=\"1.1\" viewBox=\"0 0 474 233\" width=\"474px\" zoomAndPan=\"magnify\"><defs/><g><!--MD5=[fbc87193dbaf4d95561dea2c320d4a47]\n",
       "cluster E1--><a href=\"psysml:abede473-ce86-4cf2-9b0f-bcad92dda7df\" target=\"_top\" title=\"psysml:abede473-ce86-4cf2-9b0f-bcad92dda7df\" xlink:actuate=\"onRequest\" xlink:href=\"psysml:abede473-ce86-4cf2-9b0f-bcad92dda7df\" xlink:show=\"new\" xlink:title=\"psysml:abede473-ce86-4cf2-9b0f-bcad92dda7df\" xlink:type=\"simple\"><polygon fill=\"#FFFFFF\" points=\"16,6,84,6,91,28.2969,452,28.2969,452,221,16,221,16,6\" style=\"stroke: #000000; stroke-width: 1.5;\"/><line style=\"stroke: #000000; stroke-width: 1.5;\" x1=\"16\" x2=\"91\" y1=\"28.2969\" y2=\"28.2969\"/><text fill=\"#000000\" font-family=\"sans-serif\" font-size=\"14\" font-weight=\"bold\" lengthAdjust=\"spacingAndGlyphs\" textLength=\"62\" x=\"20\" y=\"20.9951\">AliasTest</text></a><!--MD5=[d5e69f78d87373223dbae638b30a9c99]\n",
       "cluster E3--><a href=\"psysml:f240402e-e520-4bd4-a2fa-a40388aadc9d\" target=\"_top\" title=\"psysml:f240402e-e520-4bd4-a2fa-a40388aadc9d\" xlink:actuate=\"onRequest\" xlink:href=\"psysml:f240402e-e520-4bd4-a2fa-a40388aadc9d\" xlink:show=\"new\" xlink:title=\"psysml:f240402e-e520-4bd4-a2fa-a40388aadc9d\" xlink:type=\"simple\"><rect fill=\"#FFFFFF\" height=\"90\" id=\"E3\" style=\"stroke: #383838; stroke-width: 1.5;\" width=\"83\" x=\"312\" y=\"64\"/><rect fill=\"#F8F8F8\" height=\"37.9375\" style=\"stroke: #383838; stroke-width: 1.5;\" width=\"83\" x=\"312\" y=\"64\"/><text fill=\"#000000\" font-family=\"sans-serif\" font-size=\"12\" font-style=\"italic\" lengthAdjust=\"spacingAndGlyphs\" textLength=\"64\" x=\"321.5\" y=\"80.1387\">«part def»</text><text fill=\"#000000\" font-family=\"sans-serif\" font-size=\"12\" lengthAdjust=\"spacingAndGlyphs\" textLength=\"16\" x=\"345.5\" y=\"94.1074\">P1</text></a><!--MD5=[14e3b0961a2654348d326746436168a1]\n",
       "cluster E6--><a href=\"psysml:66a2f39c-c11d-47e1-a04e-46a9b54c38c0\" target=\"_top\" title=\"psysml:66a2f39c-c11d-47e1-a04e-46a9b54c38c0\" xlink:actuate=\"onRequest\" xlink:href=\"psysml:66a2f39c-c11d-47e1-a04e-46a9b54c38c0\" xlink:show=\"new\" xlink:title=\"psysml:66a2f39c-c11d-47e1-a04e-46a9b54c38c0\" xlink:type=\"simple\"><rect fill=\"#FFFFFF\" height=\"82\" id=\"E6\" rx=\"10\" ry=\"10\" style=\"stroke: #383838; stroke-width: 1.5;\" width=\"98\" x=\"112\" y=\"64\"/><rect fill=\"#F8F8F8\" height=\"23.9688\" rx=\"10\" ry=\"10\" style=\"stroke: #F8F8F8; stroke-width: 1.5;\" width=\"98\" x=\"112\" y=\"64\"/><rect fill=\"#F8F8F8\" height=\"10\" style=\"stroke: #F8F8F8; stroke-width: 1.5;\" width=\"98\" x=\"112\" y=\"77.9688\"/><rect fill=\"none\" height=\"82\" id=\"E6\" rx=\"10\" ry=\"10\" style=\"stroke: #383838; stroke-width: 1.5;\" width=\"98\" x=\"112\" y=\"64\"/><text fill=\"#000000\" font-family=\"sans-serif\" font-size=\"12\" lengthAdjust=\"spacingAndGlyphs\" textLength=\"40\" x=\"141\" y=\"80.1387\">p1: P1</text><line style=\"stroke: #383838; stroke-width: 1.0;\" x1=\"112\" x2=\"210\" y1=\"87.9688\" y2=\"87.9688\"/></a><!--MD5=[55dfccfc6c49c2d10cd1bd2211a6c90c]\n",
       "cluster E8--><a href=\"psysml:d750b59a-5fb4-49de-a141-6edbceed9fe9\" target=\"_top\" title=\"psysml:d750b59a-5fb4-49de-a141-6edbceed9fe9\" xlink:actuate=\"onRequest\" xlink:href=\"psysml:d750b59a-5fb4-49de-a141-6edbceed9fe9\" xlink:show=\"new\" xlink:title=\"psysml:d750b59a-5fb4-49de-a141-6edbceed9fe9\" xlink:type=\"simple\"><rect fill=\"#FFFFFF\" height=\"84.5\" id=\"E8\" rx=\"10\" ry=\"10\" style=\"stroke: #383838; stroke-width: 1.5;\" width=\"83\" x=\"213\" y=\"120.5\"/><rect fill=\"#F8F8F8\" height=\"23.9688\" rx=\"10\" ry=\"10\" style=\"stroke: #F8F8F8; stroke-width: 1.5;\" width=\"83\" x=\"213\" y=\"120.5\"/><rect fill=\"#F8F8F8\" height=\"10\" style=\"stroke: #F8F8F8; stroke-width: 1.5;\" width=\"83\" x=\"213\" y=\"134.4688\"/><rect fill=\"none\" height=\"84.5\" id=\"E8\" rx=\"10\" ry=\"10\" style=\"stroke: #383838; stroke-width: 1.5;\" width=\"83\" x=\"213\" y=\"120.5\"/><text fill=\"#000000\" font-family=\"sans-serif\" font-size=\"12\" lengthAdjust=\"spacingAndGlyphs\" textLength=\"40\" x=\"234.5\" y=\"136.6387\">p2: P1</text><line style=\"stroke: #383838; stroke-width: 1.0;\" x1=\"213\" x2=\"296\" y1=\"144.4688\" y2=\"144.4688\"/></a><!--MD5=[b4997ac47864f28c2f74865a473b2911]\n",
       "class E2--><a href=\"psysml:84563fde-fc3c-4caa-a0d2-03a4409edda3\" target=\"_top\" title=\"psysml:84563fde-fc3c-4caa-a0d2-03a4409edda3\" xlink:actuate=\"onRequest\" xlink:href=\"psysml:84563fde-fc3c-4caa-a0d2-03a4409edda3\" xlink:show=\"new\" xlink:title=\"psysml:84563fde-fc3c-4caa-a0d2-03a4409edda3\" xlink:type=\"simple\"><rect fill=\"#FFFFFF\" height=\"45.9375\" id=\"E2\" rx=\"10\" ry=\"10\" style=\"stroke: #383838; stroke-width: 1.5;\" width=\"71\" x=\"32.5\" y=\"41\"/><text fill=\"#000000\" font-family=\"sans-serif\" font-size=\"12\" font-style=\"italic\" lengthAdjust=\"spacingAndGlyphs\" textLength=\"69\" x=\"33.5\" y=\"57.1387\">«attribute»</text><text fill=\"#000000\" font-family=\"sans-serif\" font-size=\"12\" lengthAdjust=\"spacingAndGlyphs\" textLength=\"8\" x=\"64\" y=\"71.1074\">q</text><line style=\"stroke: #383838; stroke-width: 1.5;\" x1=\"33.5\" x2=\"102.5\" y1=\"78.9375\" y2=\"78.9375\"/></a><text fill=\"#000000\" font-family=\"sans-serif\" font-size=\"14\" lengthAdjust=\"spacingAndGlyphs\" textLength=\"44\" x=\"308\" y=\"42.6982\">porig1</text><rect fill=\"#383838\" height=\"12\" style=\"stroke: #F8F8F8; stroke-width: 1.5;\" width=\"12\" x=\"324\" y=\"58\"/><text fill=\"#000000\" font-family=\"sans-serif\" font-size=\"14\" lengthAdjust=\"spacingAndGlyphs\" textLength=\"44\" x=\"355\" y=\"42.6982\">porig1</text><rect fill=\"#383838\" height=\"12\" style=\"stroke: #F8F8F8; stroke-width: 1.5;\" width=\"12\" x=\"371\" y=\"58\"/><text fill=\"#000000\" font-family=\"sans-serif\" font-size=\"14\" lengthAdjust=\"spacingAndGlyphs\" textLength=\"27\" x=\"178.5\" y=\"42.6982\">po1</text><rect fill=\"#383838\" height=\"12\" style=\"stroke: #F8F8F8; stroke-width: 1.5;\" width=\"12\" x=\"186\" y=\"58\"/><text fill=\"#000000\" font-family=\"sans-serif\" font-size=\"14\" lengthAdjust=\"spacingAndGlyphs\" textLength=\"40\" x=\"211\" y=\"99.1982\">pdest</text><rect fill=\"#383838\" height=\"12\" style=\"stroke: #F8F8F8; stroke-width: 1.5;\" width=\"12\" x=\"225\" y=\"114.5\"/><text fill=\"#000000\" font-family=\"sans-serif\" font-size=\"14\" lengthAdjust=\"spacingAndGlyphs\" textLength=\"40\" x=\"258\" y=\"99.1982\">pdest</text><rect fill=\"#383838\" height=\"12\" style=\"stroke: #F8F8F8; stroke-width: 1.5;\" width=\"12\" x=\"272\" y=\"114.5\"/><!--MD5=[1c0b9414cc86e0744215edee6abd8926]\n",
       "link E7 to E9--><a href=\"psysml:eaab9895-3808-4b7e-ad70-425cb7403c1b\" target=\"_top\" title=\"psysml:eaab9895-3808-4b7e-ad70-425cb7403c1b\" xlink:actuate=\"onRequest\" xlink:href=\"psysml:eaab9895-3808-4b7e-ad70-425cb7403c1b\" xlink:show=\"new\" xlink:title=\"psysml:eaab9895-3808-4b7e-ad70-425cb7403c1b\" xlink:type=\"simple\"><path d=\"M187.83,70.03 C188.72,81.73 210.14,110.34 224.83,117.73 \" fill=\"none\" id=\"E7-E9\" style=\"stroke: #383838; stroke-width: 3.0;\"/><text fill=\"#000000\" font-family=\"sans-serif\" font-size=\"13\" lengthAdjust=\"spacingAndGlyphs\" textLength=\"7\" x=\"209.8523\" y=\"106.3789\">*</text></a><!--MD5=[1c0b9414cc86e0744215edee6abd8926]\n",
       "link E7 to E9--><a href=\"psysml:18885de6-563e-4dd2-a418-c135b5ffccd4\" target=\"_top\" title=\"psysml:18885de6-563e-4dd2-a418-c135b5ffccd4\" xlink:actuate=\"onRequest\" xlink:href=\"psysml:18885de6-563e-4dd2-a418-c135b5ffccd4\" xlink:show=\"new\" xlink:title=\"psysml:18885de6-563e-4dd2-a418-c135b5ffccd4\" xlink:type=\"simple\"><path d=\"M198.05,66.57 C213.27,73.62 235.05,102.5 235.62,114.37 \" fill=\"none\" id=\"E7-E9-1\" style=\"stroke: #383838; stroke-width: 3.0;\"/><text fill=\"#000000\" font-family=\"sans-serif\" font-size=\"13\" lengthAdjust=\"spacingAndGlyphs\" textLength=\"7\" x=\"229.278\" y=\"103.4683\">*</text></a><!--MD5=[f2a8cd1a375bb223cf4a740798dc9313]\n",
       "@startuml\r\n",
       "skinparam ranksep 10\r\n",
       "skinparam rectangle {\r\n",
       " backgroundColor<<block>> LightGreen\r\n",
       "}\r\n",
       "top to bottom direction\r\n",
       "skinparam monochrome true\r\n",
       "skinparam classbackgroundcolor white\r\n",
       "skinparam shadowing false\r\n",
       "skinparam wrapWidth 300\r\n",
       "hide circle\r\n",
       "\r\n",
       "package \"AliasTest\" as E1  [[psysml:abede473-ce86-4cf2-9b0f-bcad92dda7df ]]  {\r\n",
       "comp usage \"q\" as E2  <<(T,blue) attribute>> [[psysml:84563fde-fc3c-4caa-a0d2-03a4409edda3 ]] {\r\n",
       "}\r\n",
       "rec def \"P1\" as E3  <<(T,blue) part def>> [[psysml:f240402e-e520-4bd4-a2fa-a40388aadc9d ]] {\r\n",
       "portin \"porig1\" as E4  <<(T,blue) port>> [[psysml:fb61bd91-52ec-4d42-be8a-ef485ce794d8 ]] \r\n",
       "portin \"porig1\" as E5  <<(T,blue) port>> [[psysml:fb61bd91-52ec-4d42-be8a-ef485ce794d8 ]] \r\n",
       "}\r\n",
       "rec usage \"p1: P1\" as E6  [[psysml:66a2f39c-c11d-47e1-a04e-46a9b54c38c0 ]] {\r\n",
       "portin \"po1\" as E7  <<(T,blue) port>> [[psysml:1cf4d29b-7212-465e-9bfc-2d9d3c47093a ]] \r\n",
       "}\r\n",
       "rec usage \"p2: P1\" as E8  [[psysml:d750b59a-5fb4-49de-a141-6edbceed9fe9 ]] {\r\n",
       "portin \"pdest\" as E9  <<(T,blue) port>> [[psysml:1ab4a2c7-e640-4092-b309-d8474ba4cc31 ]] \r\n",
       "portin \"pdest\" as E10  <<(T,blue) port>> [[psysml:1ab4a2c7-e640-4092-b309-d8474ba4cc31 ]] \r\n",
       "}\r\n",
       "}\r\n",
       "E7 -[thickness=3]- \"*\"E9 [[psysml:eaab9895-3808-4b7e-ad70-425cb7403c1b ]] \r\n",
       "E7 -[thickness=3]- \"*\"E9 [[psysml:18885de6-563e-4dd2-a418-c135b5ffccd4 ]] \r\n",
       "@enduml\r\n",
       "\n",
       "PlantUML version 1.2020.13(Sat Jun 13 12:26:38 UTC 2020)\n",
       "(EPL source distribution)\n",
       "Java Runtime: OpenJDK Runtime Environment\n",
       "JVM: OpenJDK 64-Bit Server VM\n",
       "Default Encoding: UTF-8\n",
       "Language: en\n",
       "Country: null\n",
       "--></g></svg>"
      ]
     },
     "execution_count": 47,
     "metadata": {},
     "output_type": "execute_result"
    }
   ],
   "source": [
    "%viz --style=\"TB\" --view=\"Interconnection\" \"AliasTest\""
   ]
  },
  {
   "cell_type": "code",
   "execution_count": 48,
   "id": "4811f5f5",
   "metadata": {
    "execution": {
     "iopub.execute_input": "2021-09-27T07:19:11.314548Z",
     "iopub.status.busy": "2021-09-27T07:19:11.314093Z",
     "iopub.status.idle": "2021-09-27T07:19:11.319724Z",
     "shell.execute_reply": "2021-09-27T07:19:11.320055Z"
    }
   },
   "outputs": [
    {
     "data": {
      "image/svg+xml": [
       "<?xml version=\"1.0\" encoding=\"UTF-8\" standalone=\"no\"?><svg xmlns=\"http://www.w3.org/2000/svg\" xmlns:xlink=\"http://www.w3.org/1999/xlink\" contentScriptType=\"application/ecmascript\" contentStyleType=\"text/css\" height=\"12px\" preserveAspectRatio=\"none\" style=\"width:12px;height:12px;\" version=\"1.1\" viewBox=\"0 0 12 12\" width=\"12px\" zoomAndPan=\"magnify\"><defs/><g><!--MD5=[06afc254b03ac5e9d9fb7773b07d0800]\n",
       "@startuml\r\n",
       "skinparam ranksep 8\r\n",
       "top to bottom direction\r\n",
       "skinparam monochrome true\r\n",
       "skinparam classbackgroundcolor white\r\n",
       "skinparam shadowing false\r\n",
       "skinparam wrapWidth 300\r\n",
       "hide circle\r\n",
       "\r\n",
       "@enduml\r\n",
       "\n",
       "PlantUML version 1.2020.13(Sat Jun 13 12:26:38 UTC 2020)\n",
       "(EPL source distribution)\n",
       "Java Runtime: OpenJDK Runtime Environment\n",
       "JVM: OpenJDK 64-Bit Server VM\n",
       "Default Encoding: UTF-8\n",
       "Language: en\n",
       "Country: null\n",
       "--></g></svg>"
      ]
     },
     "execution_count": 48,
     "metadata": {},
     "output_type": "execute_result"
    }
   ],
   "source": [
    "%viz --style=\"TB\" --view=\"Action\" \"AliasTest\""
   ]
  },
  {
   "cell_type": "code",
   "execution_count": 49,
   "id": "c710ce88",
   "metadata": {
    "execution": {
     "iopub.execute_input": "2021-09-27T07:19:11.370094Z",
     "iopub.status.busy": "2021-09-27T07:19:11.369656Z",
     "iopub.status.idle": "2021-09-27T07:19:11.374864Z",
     "shell.execute_reply": "2021-09-27T07:19:11.374522Z"
    }
   },
   "outputs": [
    {
     "data": {
      "image/svg+xml": [
       "<?xml version=\"1.0\" encoding=\"UTF-8\" standalone=\"no\"?><svg xmlns=\"http://www.w3.org/2000/svg\" xmlns:xlink=\"http://www.w3.org/1999/xlink\" contentScriptType=\"application/ecmascript\" contentStyleType=\"text/css\" height=\"12px\" preserveAspectRatio=\"none\" style=\"width:12px;height:12px;\" version=\"1.1\" viewBox=\"0 0 12 12\" width=\"12px\" zoomAndPan=\"magnify\"><defs/><g><!--MD5=[e1ab0c84c44d2fef8bf5f140f2689906]\n",
       "@startuml\r\n",
       "skinparam roundcorner 20\r\n",
       "skinparam BoxPadding 20\r\n",
       "skinparam SequenceBoxBackgroundColor #white\r\n",
       "skinparam style strictuml\r\n",
       "skinparam maxMessageSize 100\r\n",
       "top to bottom direction\r\n",
       "skinparam monochrome true\r\n",
       "skinparam classbackgroundcolor white\r\n",
       "skinparam shadowing false\r\n",
       "skinparam wrapWidth 300\r\n",
       "hide circle\r\n",
       "\r\n",
       "@enduml\r\n",
       "\n",
       "PlantUML version 1.2020.13(Sat Jun 13 12:26:38 UTC 2020)\n",
       "(EPL source distribution)\n",
       "Java Runtime: OpenJDK Runtime Environment\n",
       "JVM: OpenJDK 64-Bit Server VM\n",
       "Default Encoding: UTF-8\n",
       "Language: en\n",
       "Country: null\n",
       "--></g></svg>"
      ]
     },
     "execution_count": 49,
     "metadata": {},
     "output_type": "execute_result"
    }
   ],
   "source": [
    "%viz --style=\"TB\" --view=\"Sequence\" \"AliasTest\""
   ]
  },
  {
   "cell_type": "code",
   "execution_count": 50,
   "id": "d75a1aee",
   "metadata": {
    "execution": {
     "iopub.execute_input": "2021-09-27T07:19:11.424935Z",
     "iopub.status.busy": "2021-09-27T07:19:11.424526Z",
     "iopub.status.idle": "2021-09-27T07:19:11.460821Z",
     "shell.execute_reply": "2021-09-27T07:19:11.458911Z"
    }
   },
   "outputs": [
    {
     "data": {
      "image/svg+xml": [
       "<?xml version=\"1.0\" encoding=\"UTF-8\" standalone=\"no\"?><svg xmlns=\"http://www.w3.org/2000/svg\" xmlns:xlink=\"http://www.w3.org/1999/xlink\" contentScriptType=\"application/ecmascript\" contentStyleType=\"text/css\" height=\"327px\" preserveAspectRatio=\"none\" style=\"width:304px;height:327px;\" version=\"1.1\" viewBox=\"0 0 304 327\" width=\"304px\" zoomAndPan=\"magnify\"><defs/><g><!--MD5=[fbc87193dbaf4d95561dea2c320d4a47]\n",
       "cluster E1--><a href=\"psysml:abede473-ce86-4cf2-9b0f-bcad92dda7df\" target=\"_top\" title=\"psysml:abede473-ce86-4cf2-9b0f-bcad92dda7df\" xlink:actuate=\"onRequest\" xlink:href=\"psysml:abede473-ce86-4cf2-9b0f-bcad92dda7df\" xlink:show=\"new\" xlink:title=\"psysml:abede473-ce86-4cf2-9b0f-bcad92dda7df\" xlink:type=\"simple\"><polygon fill=\"#FFFFFF\" points=\"16,6,84,6,91,28.2969,282,28.2969,282,315,16,315,16,6\" style=\"stroke: #000000; stroke-width: 1.5;\"/><line style=\"stroke: #000000; stroke-width: 1.5;\" x1=\"16\" x2=\"91\" y1=\"28.2969\" y2=\"28.2969\"/><text fill=\"#000000\" font-family=\"sans-serif\" font-size=\"14\" font-weight=\"bold\" lengthAdjust=\"spacingAndGlyphs\" textLength=\"62\" x=\"20\" y=\"20.9951\">AliasTest</text></a><!--MD5=[b4997ac47864f28c2f74865a473b2911]\n",
       "class E2--><a href=\"psysml:84563fde-fc3c-4caa-a0d2-03a4409edda3\" target=\"_top\" title=\"psysml:84563fde-fc3c-4caa-a0d2-03a4409edda3\" xlink:actuate=\"onRequest\" xlink:href=\"psysml:84563fde-fc3c-4caa-a0d2-03a4409edda3\" xlink:show=\"new\" xlink:title=\"psysml:84563fde-fc3c-4caa-a0d2-03a4409edda3\" xlink:type=\"simple\"><rect fill=\"#FFFFFF\" height=\"45.9375\" id=\"E2\" rx=\"10\" ry=\"10\" style=\"stroke: #383838; stroke-width: 1.5;\" width=\"71\" x=\"194.5\" y=\"41\"/><text fill=\"#000000\" font-family=\"sans-serif\" font-size=\"12\" font-style=\"italic\" lengthAdjust=\"spacingAndGlyphs\" textLength=\"69\" x=\"195.5\" y=\"57.1387\">«attribute»</text><text fill=\"#000000\" font-family=\"sans-serif\" font-size=\"12\" lengthAdjust=\"spacingAndGlyphs\" textLength=\"8\" x=\"226\" y=\"71.1074\">q</text><line style=\"stroke: #383838; stroke-width: 1.5;\" x1=\"195.5\" x2=\"264.5\" y1=\"78.9375\" y2=\"78.9375\"/></a><!--MD5=[09b614a08d8cba4a07c9adeb5e0fee81]\n",
       "class E3--><a href=\"psysml:f240402e-e520-4bd4-a2fa-a40388aadc9d\" target=\"_top\" title=\"psysml:f240402e-e520-4bd4-a2fa-a40388aadc9d\" xlink:actuate=\"onRequest\" xlink:href=\"psysml:f240402e-e520-4bd4-a2fa-a40388aadc9d\" xlink:show=\"new\" xlink:title=\"psysml:f240402e-e520-4bd4-a2fa-a40388aadc9d\" xlink:type=\"simple\"><rect fill=\"#FFFFFF\" height=\"45.9375\" id=\"E3\" style=\"stroke: #383838; stroke-width: 1.5;\" width=\"66\" x=\"168\" y=\"147\"/><text fill=\"#000000\" font-family=\"sans-serif\" font-size=\"12\" font-style=\"italic\" lengthAdjust=\"spacingAndGlyphs\" textLength=\"64\" x=\"169\" y=\"163.1387\">«part def»</text><text fill=\"#000000\" font-family=\"sans-serif\" font-size=\"12\" lengthAdjust=\"spacingAndGlyphs\" textLength=\"16\" x=\"193\" y=\"177.1074\">P1</text><line style=\"stroke: #383838; stroke-width: 1.5;\" x1=\"169\" x2=\"233\" y1=\"184.9375\" y2=\"184.9375\"/></a><!--MD5=[ebbe1d658d1005bcc118a6aa81145e00]\n",
       "class E4--><a href=\"psysml:fb61bd91-52ec-4d42-be8a-ef485ce794d8\" target=\"_top\" title=\"psysml:fb61bd91-52ec-4d42-be8a-ef485ce794d8\" xlink:actuate=\"onRequest\" xlink:href=\"psysml:fb61bd91-52ec-4d42-be8a-ef485ce794d8\" xlink:show=\"new\" xlink:title=\"psysml:fb61bd91-52ec-4d42-be8a-ef485ce794d8\" xlink:type=\"simple\"><rect fill=\"#FFFFFF\" height=\"45.9375\" id=\"E4\" rx=\"10\" ry=\"10\" style=\"stroke: #383838; stroke-width: 1.5;\" width=\"46\" x=\"178\" y=\"253\"/><text fill=\"#000000\" font-family=\"sans-serif\" font-size=\"12\" font-style=\"italic\" lengthAdjust=\"spacingAndGlyphs\" textLength=\"40\" x=\"181\" y=\"269.1387\">«port»</text><text fill=\"#000000\" font-family=\"sans-serif\" font-size=\"12\" lengthAdjust=\"spacingAndGlyphs\" textLength=\"40\" x=\"181\" y=\"283.1074\">porig1</text><line style=\"stroke: #383838; stroke-width: 1.5;\" x1=\"179\" x2=\"223\" y1=\"290.9375\" y2=\"290.9375\"/></a><!--MD5=[270fce915f116d4de14055a7c1d9a0f3]\n",
       "class E5--><a href=\"psysml:66a2f39c-c11d-47e1-a04e-46a9b54c38c0\" target=\"_top\" title=\"psysml:66a2f39c-c11d-47e1-a04e-46a9b54c38c0\" xlink:actuate=\"onRequest\" xlink:href=\"psysml:66a2f39c-c11d-47e1-a04e-46a9b54c38c0\" xlink:show=\"new\" xlink:title=\"psysml:66a2f39c-c11d-47e1-a04e-46a9b54c38c0\" xlink:type=\"simple\"><rect fill=\"#FFFFFF\" height=\"45.9375\" id=\"E5\" rx=\"10\" ry=\"10\" style=\"stroke: #383838; stroke-width: 1.5;\" width=\"46\" x=\"113\" y=\"41\"/><text fill=\"#000000\" font-family=\"sans-serif\" font-size=\"12\" font-style=\"italic\" lengthAdjust=\"spacingAndGlyphs\" textLength=\"40\" x=\"116\" y=\"57.1387\">«part»</text><text fill=\"#000000\" font-family=\"sans-serif\" font-size=\"12\" lengthAdjust=\"spacingAndGlyphs\" textLength=\"40\" x=\"116\" y=\"71.1074\">p1: P1</text><line style=\"stroke: #383838; stroke-width: 1.5;\" x1=\"114\" x2=\"158\" y1=\"78.9375\" y2=\"78.9375\"/></a><!--MD5=[60a26617385b1d2d0262a64233df1f8d]\n",
       "class E6--><a href=\"psysml:1cf4d29b-7212-465e-9bfc-2d9d3c47093a\" target=\"_top\" title=\"psysml:1cf4d29b-7212-465e-9bfc-2d9d3c47093a\" xlink:actuate=\"onRequest\" xlink:href=\"psysml:1cf4d29b-7212-465e-9bfc-2d9d3c47093a\" xlink:show=\"new\" xlink:title=\"psysml:1cf4d29b-7212-465e-9bfc-2d9d3c47093a\" xlink:type=\"simple\"><rect fill=\"#FFFFFF\" height=\"45.9375\" id=\"E6\" rx=\"10\" ry=\"10\" style=\"stroke: #383838; stroke-width: 1.5;\" width=\"42\" x=\"91\" y=\"147\"/><text fill=\"#000000\" font-family=\"sans-serif\" font-size=\"12\" font-style=\"italic\" lengthAdjust=\"spacingAndGlyphs\" textLength=\"40\" x=\"92\" y=\"163.1387\">«port»</text><text fill=\"#000000\" font-family=\"sans-serif\" font-size=\"12\" lengthAdjust=\"spacingAndGlyphs\" textLength=\"24\" x=\"100\" y=\"177.1074\">po1</text><line style=\"stroke: #383838; stroke-width: 1.5;\" x1=\"92\" x2=\"132\" y1=\"184.9375\" y2=\"184.9375\"/></a><!--MD5=[2156ba9850f5573cc1fc38a6a4b2f02b]\n",
       "class E7--><a href=\"psysml:d750b59a-5fb4-49de-a141-6edbceed9fe9\" target=\"_top\" title=\"psysml:d750b59a-5fb4-49de-a141-6edbceed9fe9\" xlink:actuate=\"onRequest\" xlink:href=\"psysml:d750b59a-5fb4-49de-a141-6edbceed9fe9\" xlink:show=\"new\" xlink:title=\"psysml:d750b59a-5fb4-49de-a141-6edbceed9fe9\" xlink:type=\"simple\"><rect fill=\"#FFFFFF\" height=\"45.9375\" id=\"E7\" rx=\"10\" ry=\"10\" style=\"stroke: #383838; stroke-width: 1.5;\" width=\"46\" x=\"32\" y=\"41\"/><text fill=\"#000000\" font-family=\"sans-serif\" font-size=\"12\" font-style=\"italic\" lengthAdjust=\"spacingAndGlyphs\" textLength=\"40\" x=\"35\" y=\"57.1387\">«part»</text><text fill=\"#000000\" font-family=\"sans-serif\" font-size=\"12\" lengthAdjust=\"spacingAndGlyphs\" textLength=\"40\" x=\"35\" y=\"71.1074\">p2: P1</text><line style=\"stroke: #383838; stroke-width: 1.5;\" x1=\"33\" x2=\"77\" y1=\"78.9375\" y2=\"78.9375\"/></a><!--MD5=[b9389687b975829384b498ac4b7476b2]\n",
       "class E8--><a href=\"psysml:1ab4a2c7-e640-4092-b309-d8474ba4cc31\" target=\"_top\" title=\"psysml:1ab4a2c7-e640-4092-b309-d8474ba4cc31\" xlink:actuate=\"onRequest\" xlink:href=\"psysml:1ab4a2c7-e640-4092-b309-d8474ba4cc31\" xlink:show=\"new\" xlink:title=\"psysml:1ab4a2c7-e640-4092-b309-d8474ba4cc31\" xlink:type=\"simple\"><rect fill=\"#FFFFFF\" height=\"45.9375\" id=\"E8\" rx=\"10\" ry=\"10\" style=\"stroke: #383838; stroke-width: 1.5;\" width=\"42\" x=\"63\" y=\"253\"/><text fill=\"#000000\" font-family=\"sans-serif\" font-size=\"12\" font-style=\"italic\" lengthAdjust=\"spacingAndGlyphs\" textLength=\"40\" x=\"64\" y=\"269.1387\">«port»</text><text fill=\"#000000\" font-family=\"sans-serif\" font-size=\"12\" lengthAdjust=\"spacingAndGlyphs\" textLength=\"36\" x=\"66\" y=\"283.1074\">pdest</text><line style=\"stroke: #383838; stroke-width: 1.5;\" x1=\"64\" x2=\"104\" y1=\"290.9375\" y2=\"290.9375\"/></a><!--MD5=[4672eba38e49728da53d11aeb285b987]\n",
       "reverse link E3 to E4--><a href=\"psysml:b0a1a3b9-a387-42d1-a567-e540cd2e1d19\" target=\"_top\" title=\"psysml:b0a1a3b9-a387-42d1-a567-e540cd2e1d19\" xlink:actuate=\"onRequest\" xlink:href=\"psysml:b0a1a3b9-a387-42d1-a567-e540cd2e1d19\" xlink:show=\"new\" xlink:title=\"psysml:b0a1a3b9-a387-42d1-a567-e540cd2e1d19\" xlink:type=\"simple\"><path d=\"M188.84,206.44 C187.7,221.87 188.21,239.47 190.36,252.98 \" fill=\"none\" id=\"E3&lt;-E4\" style=\"stroke: #383838; stroke-width: 1.0;\"/><polygon fill=\"#FFFFFF\" points=\"190.35,193.06,185.7032,198.5743,189.006,204.9845,193.6528,199.4702,190.35,193.06\" style=\"stroke: #383838; stroke-width: 1.0;\"/><text fill=\"#000000\" font-family=\"sans-serif\" font-size=\"13\" lengthAdjust=\"spacingAndGlyphs\" textLength=\"8\" x=\"178.4255\" y=\"241.8709\">1</text></a><!--MD5=[4672eba38e49728da53d11aeb285b987]\n",
       "reverse link E3 to E4--><a href=\"psysml:b116cd08-9727-4fd8-b1d3-1b9f6deb041c\" target=\"_top\" title=\"psysml:b116cd08-9727-4fd8-b1d3-1b9f6deb041c\" xlink:actuate=\"onRequest\" xlink:href=\"psysml:b116cd08-9727-4fd8-b1d3-1b9f6deb041c\" xlink:show=\"new\" xlink:title=\"psysml:b116cd08-9727-4fd8-b1d3-1b9f6deb041c\" xlink:type=\"simple\"><path d=\"M214.01,208.34 C215.03,223.3 214.45,240.02 212.27,252.98 \" fill=\"none\" id=\"E3&lt;-E4-1\" style=\"stroke: #383838; stroke-width: 1.0; stroke-dasharray: 7.0,7.0;\"/><ellipse cx=\"213.1693\" cy=\"201.0093\" fill=\"#FFFFFF\" rx=\"8\" ry=\"8\" style=\"stroke: #383838; stroke-width: 1.0;\"/><line style=\"stroke: #383838; stroke-width: 1.0;\" x1=\"214.0687\" x2=\"212.27\" y1=\"208.9586\" y2=\"193.06\"/><line style=\"stroke: #383838; stroke-width: 1.0;\" x1=\"205.2201\" x2=\"221.1186\" y1=\"201.9086\" y2=\"200.1099\"/><text fill=\"#000000\" font-family=\"sans-serif\" font-size=\"13\" lengthAdjust=\"spacingAndGlyphs\" textLength=\"8\" x=\"206.2238\" y=\"241.8709\">1</text></a><!--MD5=[e9be52314489bd878ff4c7144b63c9e1]\n",
       "link E5 to E3--><a href=\"psysml:b60c9595-85bf-4c72-aa43-c7c5a3162c28\" target=\"_top\" title=\"psysml:b60c9595-85bf-4c72-aa43-c7c5a3162c28\" xlink:actuate=\"onRequest\" xlink:href=\"psysml:b60c9595-85bf-4c72-aa43-c7c5a3162c28\" xlink:show=\"new\" xlink:title=\"psysml:b60c9595-85bf-4c72-aa43-c7c5a3162c28\" xlink:type=\"simple\"><path d=\"M149.78,87.06 C157.54,99.47 167.45,115.33 176.49,129.78 \" fill=\"none\" id=\"E5-&gt;E3\" style=\"stroke: #383838; stroke-width: 1.0;\"/><polygon fill=\"#FFFFFF\" points=\"187.24,146.98,171.2331,134.5792,183.1045,127.1584,187.24,146.98\" style=\"stroke: #383838; stroke-width: 1.0;\"/><ellipse cx=\"169.9076\" cy=\"128.6857\" fill=\"#383838\" rx=\"2\" ry=\"2\" style=\"stroke: #383838; stroke-width: 1.0;\"/><ellipse cx=\"178.3872\" cy=\"123.3851\" fill=\"#383838\" rx=\"2\" ry=\"2\" style=\"stroke: #383838; stroke-width: 1.0;\"/></a><!--MD5=[85d356282659285ab4b2cfe2f634dd2b]\n",
       "reverse link E5 to E6--><a href=\"psysml:5e5f570b-f88f-4e5d-bde6-a1031949a59c\" target=\"_top\" title=\"psysml:5e5f570b-f88f-4e5d-bde6-a1031949a59c\" xlink:actuate=\"onRequest\" xlink:href=\"psysml:5e5f570b-f88f-4e5d-bde6-a1031949a59c\" xlink:show=\"new\" xlink:title=\"psysml:5e5f570b-f88f-4e5d-bde6-a1031949a59c\" xlink:type=\"simple\"><path d=\"M127.93,99.96 C124.34,115.51 120.23,133.33 117.08,146.98 \" fill=\"none\" id=\"E5&lt;-E6\" style=\"stroke: #383838; stroke-width: 1.0;\"/><polygon fill=\"#FFFFFF\" points=\"130.91,87.06,125.6616,92.0052,128.2078,98.7518,133.4562,93.8066,130.91,87.06\" style=\"stroke: #383838; stroke-width: 1.0;\"/><text fill=\"#000000\" font-family=\"sans-serif\" font-size=\"13\" lengthAdjust=\"spacingAndGlyphs\" textLength=\"8\" x=\"109.3703\" y=\"135.8709\">1</text></a><!--MD5=[f667431f98296947986a1a7595a31603]\n",
       "link E6 to E4--><a href=\"psysml:ccd9da30-2bd5-4e38-bf20-b9f9621d2107\" target=\"_top\" title=\"psysml:ccd9da30-2bd5-4e38-bf20-b9f9621d2107\" xlink:actuate=\"onRequest\" xlink:href=\"psysml:ccd9da30-2bd5-4e38-bf20-b9f9621d2107\" xlink:show=\"new\" xlink:title=\"psysml:ccd9da30-2bd5-4e38-bf20-b9f9621d2107\" xlink:type=\"simple\"><path d=\"M130.87,193.06 C141.97,206.02 156.28,222.74 169.08,237.7 \" fill=\"none\" id=\"E6-&gt;E4\" style=\"stroke: #383838; stroke-width: 1.0;\"/><polygon fill=\"#FFFFFF\" points=\"182.15,252.98,164.4809,243.0905,175.1204,233.9909,182.15,252.98\" style=\"stroke: #383838; stroke-width: 1.0;\"/><line style=\"stroke: #383838; stroke-width: 2.0;\" x1=\"162.011\" x2=\"172.6505\" y1=\"240.2026\" y2=\"231.1031\"/></a><!--MD5=[14ccda38c055a5c0da953d572bc50960]\n",
       "link E7 to E3--><a href=\"psysml:8fc3f931-75e6-473d-9c07-27a38ec18c6d\" target=\"_top\" title=\"psysml:8fc3f931-75e6-473d-9c07-27a38ec18c6d\" xlink:actuate=\"onRequest\" xlink:href=\"psysml:8fc3f931-75e6-473d-9c07-27a38ec18c6d\" xlink:show=\"new\" xlink:title=\"psysml:8fc3f931-75e6-473d-9c07-27a38ec18c6d\" xlink:type=\"simple\"><path d=\"M78.13,81.48 C98.32,95.86 128.25,117.18 153.52,135.18 \" fill=\"none\" id=\"E7-&gt;E3\" style=\"stroke: #383838; stroke-width: 1.0;\"/><polygon fill=\"#FFFFFF\" points=\"170.09,146.98,150.5533,141.6586,158.6755,130.2555,170.09,146.98\" style=\"stroke: #383838; stroke-width: 1.0;\"/><ellipse cx=\"147.0709\" cy=\"136.7227\" fill=\"#383838\" rx=\"2\" ry=\"2\" style=\"stroke: #383838; stroke-width: 1.0;\"/><ellipse cx=\"152.8725\" cy=\"128.5776\" fill=\"#383838\" rx=\"2\" ry=\"2\" style=\"stroke: #383838; stroke-width: 1.0;\"/></a><!--MD5=[dc164f5e8a733ab456ef1add180e9e34]\n",
       "reverse link E7 to E8--><a href=\"psysml:36a32e90-a022-4c42-9b64-7c79f5d1d72c\" target=\"_top\" title=\"psysml:36a32e90-a022-4c42-9b64-7c79f5d1d72c\" xlink:actuate=\"onRequest\" xlink:href=\"psysml:36a32e90-a022-4c42-9b64-7c79f5d1d72c\" xlink:show=\"new\" xlink:title=\"psysml:36a32e90-a022-4c42-9b64-7c79f5d1d72c\" xlink:type=\"simple\"><path d=\"M50.05,100.09 C51.65,143.61 62.25,216.5 72.75,252.9 \" fill=\"none\" id=\"E7&lt;-E8\" style=\"stroke: #383838; stroke-width: 1.0;\"/><polygon fill=\"#FFFFFF\" points=\"49.85,87.08,45.9362,93.1366,50.0216,99.0788,53.9354,93.0222,49.85,87.08\" style=\"stroke: #383838; stroke-width: 1.0;\"/><text fill=\"#000000\" font-family=\"sans-serif\" font-size=\"13\" lengthAdjust=\"spacingAndGlyphs\" textLength=\"8\" x=\"60.6516\" y=\"241.7694\">1</text></a><!--MD5=[dc164f5e8a733ab456ef1add180e9e34]\n",
       "reverse link E7 to E8--><a href=\"psysml:346ab8ae-1d2f-462f-a94e-fae0b61189bf\" target=\"_top\" title=\"psysml:346ab8ae-1d2f-462f-a94e-fae0b61189bf\" xlink:actuate=\"onRequest\" xlink:href=\"psysml:346ab8ae-1d2f-462f-a94e-fae0b61189bf\" xlink:show=\"new\" xlink:title=\"psysml:346ab8ae-1d2f-462f-a94e-fae0b61189bf\" xlink:type=\"simple\"><path d=\"M70.64,101.8 C81.15,145.5 90.39,216.97 89.63,252.9 \" fill=\"none\" id=\"E7&lt;-E8-1\" style=\"stroke: #383838; stroke-width: 1.0; stroke-dasharray: 7.0,7.0;\"/><ellipse cx=\"68.7794\" cy=\"94.813\" fill=\"#FFFFFF\" rx=\"8\" ry=\"8\" style=\"stroke: #383838; stroke-width: 1.0;\"/><line style=\"stroke: #383838; stroke-width: 1.0;\" x1=\"70.8289\" x2=\"66.73\" y1=\"102.5461\" y2=\"87.08\"/><line style=\"stroke: #383838; stroke-width: 1.0;\" x1=\"61.0464\" x2=\"76.5125\" y1=\"96.8625\" y2=\"92.7636\"/><text fill=\"#000000\" font-family=\"sans-serif\" font-size=\"13\" lengthAdjust=\"spacingAndGlyphs\" textLength=\"8\" x=\"92.2181\" y=\"241.7694\">1</text></a><!--MD5=[0a839d0f80c2d72d4b9b307f046d0de8]\n",
       "link E6 to E8--><a href=\"psysml:eaab9895-3808-4b7e-ad70-425cb7403c1b\" target=\"_top\" title=\"psysml:eaab9895-3808-4b7e-ad70-425cb7403c1b\" xlink:actuate=\"onRequest\" xlink:href=\"psysml:eaab9895-3808-4b7e-ad70-425cb7403c1b\" xlink:show=\"new\" xlink:title=\"psysml:eaab9895-3808-4b7e-ad70-425cb7403c1b\" xlink:type=\"simple\"><path d=\"M95.42,193.06 C87.86,210.7 81.23,235.34 79.29,252.98 \" fill=\"none\" id=\"E6-E8\" style=\"stroke: #383838; stroke-width: 3.0;\"/><text fill=\"#000000\" font-family=\"sans-serif\" font-size=\"13\" lengthAdjust=\"spacingAndGlyphs\" textLength=\"7\" x=\"78.9648\" y=\"241.8709\">*</text></a><!--MD5=[0a839d0f80c2d72d4b9b307f046d0de8]\n",
       "link E6 to E8--><a href=\"psysml:18885de6-563e-4dd2-a418-c135b5ffccd4\" target=\"_top\" title=\"psysml:18885de6-563e-4dd2-a418-c135b5ffccd4\" xlink:actuate=\"onRequest\" xlink:href=\"psysml:18885de6-563e-4dd2-a418-c135b5ffccd4\" xlink:show=\"new\" xlink:title=\"psysml:18885de6-563e-4dd2-a418-c135b5ffccd4\" xlink:type=\"simple\"><path d=\"M117.33,193.06 C115.55,210.7 108.92,235.34 101.2,252.98 \" fill=\"none\" id=\"E6-E8-1\" style=\"stroke: #383838; stroke-width: 3.0;\"/><text fill=\"#000000\" font-family=\"sans-serif\" font-size=\"13\" lengthAdjust=\"spacingAndGlyphs\" textLength=\"7\" x=\"97.8819\" y=\"241.8709\">*</text></a><!--MD5=[c19cb42e34e4632deb9b0c649fc9116a]\n",
       "@startuml\r\n",
       "top to bottom direction\r\n",
       "skinparam monochrome true\r\n",
       "skinparam classbackgroundcolor white\r\n",
       "skinparam shadowing false\r\n",
       "skinparam wrapWidth 300\r\n",
       "hide circle\r\n",
       "\r\n",
       "package \"AliasTest\" as E1  [[psysml:abede473-ce86-4cf2-9b0f-bcad92dda7df ]]  {\r\n",
       "comp usage \"q\" as E2  <<(T,blue) attribute>> [[psysml:84563fde-fc3c-4caa-a0d2-03a4409edda3 ]] {\r\n",
       "}\r\n",
       "comp def \"P1\" as E3  <<(T,blue) part def>> [[psysml:f240402e-e520-4bd4-a2fa-a40388aadc9d ]] {\r\n",
       "}\r\n",
       "comp usage \"porig1\" as E4  <<(T,blue) port>> [[psysml:fb61bd91-52ec-4d42-be8a-ef485ce794d8 ]] {\r\n",
       "}\r\n",
       "comp usage \"p1: P1\" as E5  <<(T,blue) part>> [[psysml:66a2f39c-c11d-47e1-a04e-46a9b54c38c0 ]] {\r\n",
       "}\r\n",
       "comp usage \"po1\" as E6  <<(T,blue) port>> [[psysml:1cf4d29b-7212-465e-9bfc-2d9d3c47093a ]] {\r\n",
       "}\r\n",
       "comp usage \"p2: P1\" as E7  <<(T,blue) part>> [[psysml:d750b59a-5fb4-49de-a141-6edbceed9fe9 ]] {\r\n",
       "}\r\n",
       "comp usage \"pdest\" as E8  <<(T,blue) port>> [[psysml:1ab4a2c7-e640-4092-b309-d8474ba4cc31 ]] {\r\n",
       "}\r\n",
       "}\r\n",
       "E3 o- - \"1\"E4 [[psysml:b0a1a3b9-a387-42d1-a567-e540cd2e1d19 ]] \r\n",
       "E3 +.. \"1\"E4 [[psysml:b116cd08-9727-4fd8-b1d3-1b9f6deb041c ]] \r\n",
       "E5 - -:|> E3 [[psysml:b60c9595-85bf-4c72-aa43-c7c5a3162c28 ]] \r\n",
       "E5 o- - \"1\"E6 [[psysml:5e5f570b-f88f-4e5d-bde6-a1031949a59c ]] \r\n",
       "E6 - -||> E4 [[psysml:ccd9da30-2bd5-4e38-bf20-b9f9621d2107 ]] \r\n",
       "E7 - -:|> E3 [[psysml:8fc3f931-75e6-473d-9c07-27a38ec18c6d ]] \r\n",
       "E7 o- - \"1\"E8 [[psysml:36a32e90-a022-4c42-9b64-7c79f5d1d72c ]] \r\n",
       "E7 +.. \"1\"E8 [[psysml:346ab8ae-1d2f-462f-a94e-fae0b61189bf ]] \r\n",
       "E6 -[thickness=3]- \"*\"E8 [[psysml:eaab9895-3808-4b7e-ad70-425cb7403c1b ]] \r\n",
       "E6 -[thickness=3]- \"*\"E8 [[psysml:18885de6-563e-4dd2-a418-c135b5ffccd4 ]] \r\n",
       "@enduml\r\n",
       "\n",
       "PlantUML version 1.2020.13(Sat Jun 13 12:26:38 UTC 2020)\n",
       "(EPL source distribution)\n",
       "Java Runtime: OpenJDK Runtime Environment\n",
       "JVM: OpenJDK 64-Bit Server VM\n",
       "Default Encoding: UTF-8\n",
       "Language: en\n",
       "Country: null\n",
       "--></g></svg>"
      ]
     },
     "execution_count": 50,
     "metadata": {},
     "output_type": "execute_result"
    }
   ],
   "source": [
    "%viz --style=\"TB\" --view=\"MIXED\" \"AliasTest\""
   ]
  },
  {
   "cell_type": "code",
   "execution_count": 51,
   "id": "e130eeb5",
   "metadata": {
    "execution": {
     "iopub.execute_input": "2021-09-27T07:19:11.509893Z",
     "iopub.status.busy": "2021-09-27T07:19:11.509295Z",
     "iopub.status.idle": "2021-09-27T07:19:11.545021Z",
     "shell.execute_reply": "2021-09-27T07:19:11.543617Z"
    }
   },
   "outputs": [
    {
     "data": {
      "image/svg+xml": [
       "<?xml version=\"1.0\" encoding=\"UTF-8\" standalone=\"no\"?><svg xmlns=\"http://www.w3.org/2000/svg\" xmlns:xlink=\"http://www.w3.org/1999/xlink\" contentScriptType=\"application/ecmascript\" contentStyleType=\"text/css\" height=\"327px\" preserveAspectRatio=\"none\" style=\"width:304px;height:327px;\" version=\"1.1\" viewBox=\"0 0 304 327\" width=\"304px\" zoomAndPan=\"magnify\"><defs/><g><!--MD5=[fbc87193dbaf4d95561dea2c320d4a47]\n",
       "cluster E1--><a href=\"psysml:abede473-ce86-4cf2-9b0f-bcad92dda7df\" target=\"_top\" title=\"psysml:abede473-ce86-4cf2-9b0f-bcad92dda7df\" xlink:actuate=\"onRequest\" xlink:href=\"psysml:abede473-ce86-4cf2-9b0f-bcad92dda7df\" xlink:show=\"new\" xlink:title=\"psysml:abede473-ce86-4cf2-9b0f-bcad92dda7df\" xlink:type=\"simple\"><polygon fill=\"#FFFFFF\" points=\"16,6,84,6,91,28.2969,282,28.2969,282,315,16,315,16,6\" style=\"stroke: #000000; stroke-width: 1.5;\"/><line style=\"stroke: #000000; stroke-width: 1.5;\" x1=\"16\" x2=\"91\" y1=\"28.2969\" y2=\"28.2969\"/><text fill=\"#000000\" font-family=\"sans-serif\" font-size=\"14\" font-weight=\"bold\" lengthAdjust=\"spacingAndGlyphs\" textLength=\"62\" x=\"20\" y=\"20.9951\">AliasTest</text></a><!--MD5=[b4997ac47864f28c2f74865a473b2911]\n",
       "class E2--><a href=\"psysml:84563fde-fc3c-4caa-a0d2-03a4409edda3\" target=\"_top\" title=\"psysml:84563fde-fc3c-4caa-a0d2-03a4409edda3\" xlink:actuate=\"onRequest\" xlink:href=\"psysml:84563fde-fc3c-4caa-a0d2-03a4409edda3\" xlink:show=\"new\" xlink:title=\"psysml:84563fde-fc3c-4caa-a0d2-03a4409edda3\" xlink:type=\"simple\"><rect fill=\"#FFFFFF\" height=\"45.9375\" id=\"E2\" rx=\"10\" ry=\"10\" style=\"stroke: #383838; stroke-width: 1.5;\" width=\"71\" x=\"194.5\" y=\"41\"/><text fill=\"#000000\" font-family=\"sans-serif\" font-size=\"12\" font-style=\"italic\" lengthAdjust=\"spacingAndGlyphs\" textLength=\"69\" x=\"195.5\" y=\"57.1387\">«attribute»</text><text fill=\"#000000\" font-family=\"sans-serif\" font-size=\"12\" lengthAdjust=\"spacingAndGlyphs\" textLength=\"8\" x=\"226\" y=\"71.1074\">q</text><line style=\"stroke: #383838; stroke-width: 1.5;\" x1=\"195.5\" x2=\"264.5\" y1=\"78.9375\" y2=\"78.9375\"/></a><!--MD5=[09b614a08d8cba4a07c9adeb5e0fee81]\n",
       "class E3--><a href=\"psysml:f240402e-e520-4bd4-a2fa-a40388aadc9d\" target=\"_top\" title=\"psysml:f240402e-e520-4bd4-a2fa-a40388aadc9d\" xlink:actuate=\"onRequest\" xlink:href=\"psysml:f240402e-e520-4bd4-a2fa-a40388aadc9d\" xlink:show=\"new\" xlink:title=\"psysml:f240402e-e520-4bd4-a2fa-a40388aadc9d\" xlink:type=\"simple\"><rect fill=\"#FFFFFF\" height=\"45.9375\" id=\"E3\" style=\"stroke: #383838; stroke-width: 1.5;\" width=\"66\" x=\"168\" y=\"147\"/><text fill=\"#000000\" font-family=\"sans-serif\" font-size=\"12\" font-style=\"italic\" lengthAdjust=\"spacingAndGlyphs\" textLength=\"64\" x=\"169\" y=\"163.1387\">«part def»</text><text fill=\"#000000\" font-family=\"sans-serif\" font-size=\"12\" lengthAdjust=\"spacingAndGlyphs\" textLength=\"16\" x=\"193\" y=\"177.1074\">P1</text><line style=\"stroke: #383838; stroke-width: 1.5;\" x1=\"169\" x2=\"233\" y1=\"184.9375\" y2=\"184.9375\"/></a><!--MD5=[ebbe1d658d1005bcc118a6aa81145e00]\n",
       "class E4--><a href=\"psysml:fb61bd91-52ec-4d42-be8a-ef485ce794d8\" target=\"_top\" title=\"psysml:fb61bd91-52ec-4d42-be8a-ef485ce794d8\" xlink:actuate=\"onRequest\" xlink:href=\"psysml:fb61bd91-52ec-4d42-be8a-ef485ce794d8\" xlink:show=\"new\" xlink:title=\"psysml:fb61bd91-52ec-4d42-be8a-ef485ce794d8\" xlink:type=\"simple\"><rect fill=\"#FFFFFF\" height=\"45.9375\" id=\"E4\" rx=\"10\" ry=\"10\" style=\"stroke: #383838; stroke-width: 1.5;\" width=\"46\" x=\"178\" y=\"253\"/><text fill=\"#000000\" font-family=\"sans-serif\" font-size=\"12\" font-style=\"italic\" lengthAdjust=\"spacingAndGlyphs\" textLength=\"40\" x=\"181\" y=\"269.1387\">«port»</text><text fill=\"#000000\" font-family=\"sans-serif\" font-size=\"12\" lengthAdjust=\"spacingAndGlyphs\" textLength=\"40\" x=\"181\" y=\"283.1074\">porig1</text><line style=\"stroke: #383838; stroke-width: 1.5;\" x1=\"179\" x2=\"223\" y1=\"290.9375\" y2=\"290.9375\"/></a><!--MD5=[270fce915f116d4de14055a7c1d9a0f3]\n",
       "class E5--><a href=\"psysml:66a2f39c-c11d-47e1-a04e-46a9b54c38c0\" target=\"_top\" title=\"psysml:66a2f39c-c11d-47e1-a04e-46a9b54c38c0\" xlink:actuate=\"onRequest\" xlink:href=\"psysml:66a2f39c-c11d-47e1-a04e-46a9b54c38c0\" xlink:show=\"new\" xlink:title=\"psysml:66a2f39c-c11d-47e1-a04e-46a9b54c38c0\" xlink:type=\"simple\"><rect fill=\"#FFFFFF\" height=\"45.9375\" id=\"E5\" rx=\"10\" ry=\"10\" style=\"stroke: #383838; stroke-width: 1.5;\" width=\"46\" x=\"113\" y=\"41\"/><text fill=\"#000000\" font-family=\"sans-serif\" font-size=\"12\" font-style=\"italic\" lengthAdjust=\"spacingAndGlyphs\" textLength=\"40\" x=\"116\" y=\"57.1387\">«part»</text><text fill=\"#000000\" font-family=\"sans-serif\" font-size=\"12\" lengthAdjust=\"spacingAndGlyphs\" textLength=\"40\" x=\"116\" y=\"71.1074\">p1: P1</text><line style=\"stroke: #383838; stroke-width: 1.5;\" x1=\"114\" x2=\"158\" y1=\"78.9375\" y2=\"78.9375\"/></a><!--MD5=[60a26617385b1d2d0262a64233df1f8d]\n",
       "class E6--><a href=\"psysml:1cf4d29b-7212-465e-9bfc-2d9d3c47093a\" target=\"_top\" title=\"psysml:1cf4d29b-7212-465e-9bfc-2d9d3c47093a\" xlink:actuate=\"onRequest\" xlink:href=\"psysml:1cf4d29b-7212-465e-9bfc-2d9d3c47093a\" xlink:show=\"new\" xlink:title=\"psysml:1cf4d29b-7212-465e-9bfc-2d9d3c47093a\" xlink:type=\"simple\"><rect fill=\"#FFFFFF\" height=\"45.9375\" id=\"E6\" rx=\"10\" ry=\"10\" style=\"stroke: #383838; stroke-width: 1.5;\" width=\"42\" x=\"91\" y=\"147\"/><text fill=\"#000000\" font-family=\"sans-serif\" font-size=\"12\" font-style=\"italic\" lengthAdjust=\"spacingAndGlyphs\" textLength=\"40\" x=\"92\" y=\"163.1387\">«port»</text><text fill=\"#000000\" font-family=\"sans-serif\" font-size=\"12\" lengthAdjust=\"spacingAndGlyphs\" textLength=\"24\" x=\"100\" y=\"177.1074\">po1</text><line style=\"stroke: #383838; stroke-width: 1.5;\" x1=\"92\" x2=\"132\" y1=\"184.9375\" y2=\"184.9375\"/></a><!--MD5=[2156ba9850f5573cc1fc38a6a4b2f02b]\n",
       "class E7--><a href=\"psysml:d750b59a-5fb4-49de-a141-6edbceed9fe9\" target=\"_top\" title=\"psysml:d750b59a-5fb4-49de-a141-6edbceed9fe9\" xlink:actuate=\"onRequest\" xlink:href=\"psysml:d750b59a-5fb4-49de-a141-6edbceed9fe9\" xlink:show=\"new\" xlink:title=\"psysml:d750b59a-5fb4-49de-a141-6edbceed9fe9\" xlink:type=\"simple\"><rect fill=\"#FFFFFF\" height=\"45.9375\" id=\"E7\" rx=\"10\" ry=\"10\" style=\"stroke: #383838; stroke-width: 1.5;\" width=\"46\" x=\"32\" y=\"41\"/><text fill=\"#000000\" font-family=\"sans-serif\" font-size=\"12\" font-style=\"italic\" lengthAdjust=\"spacingAndGlyphs\" textLength=\"40\" x=\"35\" y=\"57.1387\">«part»</text><text fill=\"#000000\" font-family=\"sans-serif\" font-size=\"12\" lengthAdjust=\"spacingAndGlyphs\" textLength=\"40\" x=\"35\" y=\"71.1074\">p2: P1</text><line style=\"stroke: #383838; stroke-width: 1.5;\" x1=\"33\" x2=\"77\" y1=\"78.9375\" y2=\"78.9375\"/></a><!--MD5=[b9389687b975829384b498ac4b7476b2]\n",
       "class E8--><a href=\"psysml:1ab4a2c7-e640-4092-b309-d8474ba4cc31\" target=\"_top\" title=\"psysml:1ab4a2c7-e640-4092-b309-d8474ba4cc31\" xlink:actuate=\"onRequest\" xlink:href=\"psysml:1ab4a2c7-e640-4092-b309-d8474ba4cc31\" xlink:show=\"new\" xlink:title=\"psysml:1ab4a2c7-e640-4092-b309-d8474ba4cc31\" xlink:type=\"simple\"><rect fill=\"#FFFFFF\" height=\"45.9375\" id=\"E8\" rx=\"10\" ry=\"10\" style=\"stroke: #383838; stroke-width: 1.5;\" width=\"42\" x=\"63\" y=\"253\"/><text fill=\"#000000\" font-family=\"sans-serif\" font-size=\"12\" font-style=\"italic\" lengthAdjust=\"spacingAndGlyphs\" textLength=\"40\" x=\"64\" y=\"269.1387\">«port»</text><text fill=\"#000000\" font-family=\"sans-serif\" font-size=\"12\" lengthAdjust=\"spacingAndGlyphs\" textLength=\"36\" x=\"66\" y=\"283.1074\">pdest</text><line style=\"stroke: #383838; stroke-width: 1.5;\" x1=\"64\" x2=\"104\" y1=\"290.9375\" y2=\"290.9375\"/></a><!--MD5=[4672eba38e49728da53d11aeb285b987]\n",
       "reverse link E3 to E4--><a href=\"psysml:b0a1a3b9-a387-42d1-a567-e540cd2e1d19\" target=\"_top\" title=\"psysml:b0a1a3b9-a387-42d1-a567-e540cd2e1d19\" xlink:actuate=\"onRequest\" xlink:href=\"psysml:b0a1a3b9-a387-42d1-a567-e540cd2e1d19\" xlink:show=\"new\" xlink:title=\"psysml:b0a1a3b9-a387-42d1-a567-e540cd2e1d19\" xlink:type=\"simple\"><path d=\"M193.33,206 C193.33,206 193.33,252.68 193.33,252.68 \" fill=\"none\" id=\"E3&lt;-E4\" style=\"stroke: #383838; stroke-width: 1.0;\"/><polygon fill=\"#FFFFFF\" points=\"193.33,193,189.33,199,193.33,205,197.33,199,193.33,193\" style=\"stroke: #383838; stroke-width: 1.0;\"/><text fill=\"#000000\" font-family=\"sans-serif\" font-size=\"13\" lengthAdjust=\"spacingAndGlyphs\" textLength=\"8\" x=\"182.3396\" y=\"241.8743\">1</text></a><!--MD5=[4672eba38e49728da53d11aeb285b987]\n",
       "reverse link E3 to E4--><a href=\"psysml:b116cd08-9727-4fd8-b1d3-1b9f6deb041c\" target=\"_top\" title=\"psysml:b116cd08-9727-4fd8-b1d3-1b9f6deb041c\" xlink:actuate=\"onRequest\" xlink:href=\"psysml:b116cd08-9727-4fd8-b1d3-1b9f6deb041c\" xlink:show=\"new\" xlink:title=\"psysml:b116cd08-9727-4fd8-b1d3-1b9f6deb041c\" xlink:type=\"simple\"><path d=\"M208.67,208 C208.67,208 208.67,252.68 208.67,252.68 \" fill=\"none\" id=\"E3&lt;-E4-1\" style=\"stroke: #383838; stroke-width: 1.0; stroke-dasharray: 7.0,7.0;\"/><ellipse cx=\"208.67\" cy=\"201\" fill=\"#FFFFFF\" rx=\"8\" ry=\"8\" style=\"stroke: #383838; stroke-width: 1.0;\"/><line style=\"stroke: #383838; stroke-width: 1.0;\" x1=\"208.67\" x2=\"208.67\" y1=\"209\" y2=\"193\"/><line style=\"stroke: #383838; stroke-width: 1.0;\" x1=\"200.67\" x2=\"216.67\" y1=\"201\" y2=\"201\"/><text fill=\"#000000\" font-family=\"sans-serif\" font-size=\"13\" lengthAdjust=\"spacingAndGlyphs\" textLength=\"8\" x=\"201.6104\" y=\"241.8743\">1</text></a><!--MD5=[e9be52314489bd878ff4c7144b63c9e1]\n",
       "link E5 to E3--><a href=\"psysml:b60c9595-85bf-4c72-aa43-c7c5a3162c28\" target=\"_top\" title=\"psysml:b60c9595-85bf-4c72-aa43-c7c5a3162c28\" xlink:actuate=\"onRequest\" xlink:href=\"psysml:b60c9595-85bf-4c72-aa43-c7c5a3162c28\" xlink:show=\"new\" xlink:title=\"psysml:b60c9595-85bf-4c72-aa43-c7c5a3162c28\" xlink:type=\"simple\"><path d=\"M146,87 C146,118.18 146,170 146,170 C146,170 148.17,170 148.17,170 \" fill=\"none\" id=\"E5-&gt;E3\" style=\"stroke: #383838; stroke-width: 1.0;\"/><polygon fill=\"#FFFFFF\" points=\"167.74,170,148.74,177,148.74,163,167.74,170\" style=\"stroke: #383838; stroke-width: 1.0;\"/><ellipse cx=\"143.04\" cy=\"175\" fill=\"#383838\" rx=\"2\" ry=\"2\" style=\"stroke: #383838; stroke-width: 1.0;\"/><ellipse cx=\"143.04\" cy=\"165\" fill=\"#383838\" rx=\"2\" ry=\"2\" style=\"stroke: #383838; stroke-width: 1.0;\"/></a><!--MD5=[85d356282659285ab4b2cfe2f634dd2b]\n",
       "reverse link E5 to E6--><a href=\"psysml:5e5f570b-f88f-4e5d-bde6-a1031949a59c\" target=\"_top\" title=\"psysml:5e5f570b-f88f-4e5d-bde6-a1031949a59c\" xlink:actuate=\"onRequest\" xlink:href=\"psysml:5e5f570b-f88f-4e5d-bde6-a1031949a59c\" xlink:show=\"new\" xlink:title=\"psysml:5e5f570b-f88f-4e5d-bde6-a1031949a59c\" xlink:type=\"simple\"><path d=\"M123,100 C123,100 123,146.68 123,146.68 \" fill=\"none\" id=\"E5&lt;-E6\" style=\"stroke: #383838; stroke-width: 1.0;\"/><polygon fill=\"#FFFFFF\" points=\"123,87,119,93,123,99,127,93,123,87\" style=\"stroke: #383838; stroke-width: 1.0;\"/><text fill=\"#000000\" font-family=\"sans-serif\" font-size=\"13\" lengthAdjust=\"spacingAndGlyphs\" textLength=\"8\" x=\"116.7938\" y=\"135.8743\">1</text></a><!--MD5=[f667431f98296947986a1a7595a31603]\n",
       "link E6 to E4--><a href=\"psysml:ccd9da30-2bd5-4e38-bf20-b9f9621d2107\" target=\"_top\" title=\"psysml:ccd9da30-2bd5-4e38-bf20-b9f9621d2107\" xlink:actuate=\"onRequest\" xlink:href=\"psysml:ccd9da30-2bd5-4e38-bf20-b9f9621d2107\" xlink:show=\"new\" xlink:title=\"psysml:ccd9da30-2bd5-4e38-bf20-b9f9621d2107\" xlink:type=\"simple\"><path d=\"M119,193 C119,224.18 119,276 119,276 C119,276 157.72,276 157.72,276 \" fill=\"none\" id=\"E6-&gt;E4\" style=\"stroke: #383838; stroke-width: 1.0;\"/><polygon fill=\"#FFFFFF\" points=\"177.72,276,158.72,283,158.72,269,177.72,276\" style=\"stroke: #383838; stroke-width: 1.0;\"/><line style=\"stroke: #383838; stroke-width: 2.0;\" x1=\"154.92\" x2=\"154.92\" y1=\"283\" y2=\"269\"/></a><!--MD5=[14ccda38c055a5c0da953d572bc50960]\n",
       "link E7 to E3--><a href=\"psysml:8fc3f931-75e6-473d-9c07-27a38ec18c6d\" target=\"_top\" title=\"psysml:8fc3f931-75e6-473d-9c07-27a38ec18c6d\" xlink:actuate=\"onRequest\" xlink:href=\"psysml:8fc3f931-75e6-473d-9c07-27a38ec18c6d\" xlink:show=\"new\" xlink:title=\"psysml:8fc3f931-75e6-473d-9c07-27a38ec18c6d\" xlink:type=\"simple\"><path d=\"M74.25,87.09 C74.25,101.37 74.25,117 74.25,117 C74.25,117 181.25,117 181.25,117 C181.25,117 181.25,126.91 181.25,126.91 \" fill=\"none\" id=\"E7-&gt;E3\" style=\"stroke: #383838; stroke-width: 1.0;\"/><polygon fill=\"#FFFFFF\" points=\"181.25,146.91,174.25,127.91,188.25,127.91,181.25,146.91\" style=\"stroke: #383838; stroke-width: 1.0;\"/><ellipse cx=\"176.25\" cy=\"122.21\" fill=\"#383838\" rx=\"2\" ry=\"2\" style=\"stroke: #383838; stroke-width: 1.0;\"/><ellipse cx=\"186.25\" cy=\"122.21\" fill=\"#383838\" rx=\"2\" ry=\"2\" style=\"stroke: #383838; stroke-width: 1.0;\"/></a><!--MD5=[dc164f5e8a733ab456ef1add180e9e34]\n",
       "reverse link E7 to E8--><a href=\"psysml:36a32e90-a022-4c42-9b64-7c79f5d1d72c\" target=\"_top\" title=\"psysml:36a32e90-a022-4c42-9b64-7c79f5d1d72c\" xlink:actuate=\"onRequest\" xlink:href=\"psysml:36a32e90-a022-4c42-9b64-7c79f5d1d72c\" xlink:show=\"new\" xlink:title=\"psysml:36a32e90-a022-4c42-9b64-7c79f5d1d72c\" xlink:type=\"simple\"><path d=\"M66.75,100.09 C66.75,100.09 66.75,252.94 66.75,252.94 \" fill=\"none\" id=\"E7&lt;-E8\" style=\"stroke: #383838; stroke-width: 1.0;\"/><polygon fill=\"#FFFFFF\" points=\"66.75,87.09,62.75,93.09,66.75,99.09,70.75,93.09,66.75,87.09\" style=\"stroke: #383838; stroke-width: 1.0;\"/><text fill=\"#000000\" font-family=\"sans-serif\" font-size=\"13\" lengthAdjust=\"spacingAndGlyphs\" textLength=\"8\" x=\"53.0391\" y=\"241.8201\">1</text></a><!--MD5=[dc164f5e8a733ab456ef1add180e9e34]\n",
       "reverse link E7 to E8--><a href=\"psysml:346ab8ae-1d2f-462f-a94e-fae0b61189bf\" target=\"_top\" title=\"psysml:346ab8ae-1d2f-462f-a94e-fae0b61189bf\" xlink:actuate=\"onRequest\" xlink:href=\"psysml:346ab8ae-1d2f-462f-a94e-fae0b61189bf\" xlink:show=\"new\" xlink:title=\"psysml:346ab8ae-1d2f-462f-a94e-fae0b61189bf\" xlink:type=\"simple\"><path d=\"M70.5,102.09 C70.5,102.09 70.5,252.94 70.5,252.94 \" fill=\"none\" id=\"E7&lt;-E8-1\" style=\"stroke: #383838; stroke-width: 1.0; stroke-dasharray: 7.0,7.0;\"/><ellipse cx=\"70.5\" cy=\"95.09\" fill=\"#FFFFFF\" rx=\"8\" ry=\"8\" style=\"stroke: #383838; stroke-width: 1.0;\"/><line style=\"stroke: #383838; stroke-width: 1.0;\" x1=\"70.5\" x2=\"70.5\" y1=\"103.09\" y2=\"87.09\"/><line style=\"stroke: #383838; stroke-width: 1.0;\" x1=\"62.5\" x2=\"78.5\" y1=\"95.09\" y2=\"95.09\"/><text fill=\"#000000\" font-family=\"sans-serif\" font-size=\"13\" lengthAdjust=\"spacingAndGlyphs\" textLength=\"8\" x=\"67.9469\" y=\"241.8201\">1</text></a><!--MD5=[0a839d0f80c2d72d4b9b307f046d0de8]\n",
       "link E6 to E8--><a href=\"psysml:eaab9895-3808-4b7e-ad70-425cb7403c1b\" target=\"_top\" title=\"psysml:eaab9895-3808-4b7e-ad70-425cb7403c1b\" xlink:actuate=\"onRequest\" xlink:href=\"psysml:eaab9895-3808-4b7e-ad70-425cb7403c1b\" xlink:show=\"new\" xlink:title=\"psysml:eaab9895-3808-4b7e-ad70-425cb7403c1b\" xlink:type=\"simple\"><path d=\"M95.67,193 C95.67,210.66 95.67,234.94 95.67,252.68 \" fill=\"none\" id=\"E6-E8\" style=\"stroke: #383838; stroke-width: 3.0;\"/><text fill=\"#000000\" font-family=\"sans-serif\" font-size=\"13\" lengthAdjust=\"spacingAndGlyphs\" textLength=\"7\" x=\"90.7636\" y=\"241.8743\">*</text></a><!--MD5=[0a839d0f80c2d72d4b9b307f046d0de8]\n",
       "link E6 to E8--><a href=\"psysml:18885de6-563e-4dd2-a418-c135b5ffccd4\" target=\"_top\" title=\"psysml:18885de6-563e-4dd2-a418-c135b5ffccd4\" xlink:actuate=\"onRequest\" xlink:href=\"psysml:18885de6-563e-4dd2-a418-c135b5ffccd4\" xlink:show=\"new\" xlink:title=\"psysml:18885de6-563e-4dd2-a418-c135b5ffccd4\" xlink:type=\"simple\"><path d=\"M100.33,193 C100.33,210.66 100.33,234.94 100.33,252.68 \" fill=\"none\" id=\"E6-E8-1\" style=\"stroke: #383838; stroke-width: 3.0;\"/><text fill=\"#000000\" font-family=\"sans-serif\" font-size=\"13\" lengthAdjust=\"spacingAndGlyphs\" textLength=\"7\" x=\"105.4114\" y=\"241.8743\">*</text></a><!--MD5=[28120a1ac3f4d0851871eda35b0708f2]\n",
       "@startuml\r\n",
       "skinparam linetype ortho\r\n",
       "skinparam monochrome true\r\n",
       "skinparam classbackgroundcolor white\r\n",
       "skinparam shadowing false\r\n",
       "skinparam wrapWidth 300\r\n",
       "hide circle\r\n",
       "\r\n",
       "package \"AliasTest\" as E1  [[psysml:abede473-ce86-4cf2-9b0f-bcad92dda7df ]]  {\r\n",
       "comp usage \"q\" as E2  <<(T,blue) attribute>> [[psysml:84563fde-fc3c-4caa-a0d2-03a4409edda3 ]] {\r\n",
       "}\r\n",
       "comp def \"P1\" as E3  <<(T,blue) part def>> [[psysml:f240402e-e520-4bd4-a2fa-a40388aadc9d ]] {\r\n",
       "}\r\n",
       "comp usage \"porig1\" as E4  <<(T,blue) port>> [[psysml:fb61bd91-52ec-4d42-be8a-ef485ce794d8 ]] {\r\n",
       "}\r\n",
       "comp usage \"p1: P1\" as E5  <<(T,blue) part>> [[psysml:66a2f39c-c11d-47e1-a04e-46a9b54c38c0 ]] {\r\n",
       "}\r\n",
       "comp usage \"po1\" as E6  <<(T,blue) port>> [[psysml:1cf4d29b-7212-465e-9bfc-2d9d3c47093a ]] {\r\n",
       "}\r\n",
       "comp usage \"p2: P1\" as E7  <<(T,blue) part>> [[psysml:d750b59a-5fb4-49de-a141-6edbceed9fe9 ]] {\r\n",
       "}\r\n",
       "comp usage \"pdest\" as E8  <<(T,blue) port>> [[psysml:1ab4a2c7-e640-4092-b309-d8474ba4cc31 ]] {\r\n",
       "}\r\n",
       "}\r\n",
       "E3 o- - \"1\"E4 [[psysml:b0a1a3b9-a387-42d1-a567-e540cd2e1d19 ]] \r\n",
       "E3 +.. \"1\"E4 [[psysml:b116cd08-9727-4fd8-b1d3-1b9f6deb041c ]] \r\n",
       "E5 - -:|> E3 [[psysml:b60c9595-85bf-4c72-aa43-c7c5a3162c28 ]] \r\n",
       "E5 o- - \"1\"E6 [[psysml:5e5f570b-f88f-4e5d-bde6-a1031949a59c ]] \r\n",
       "E6 - -||> E4 [[psysml:ccd9da30-2bd5-4e38-bf20-b9f9621d2107 ]] \r\n",
       "E7 - -:|> E3 [[psysml:8fc3f931-75e6-473d-9c07-27a38ec18c6d ]] \r\n",
       "E7 o- - \"1\"E8 [[psysml:36a32e90-a022-4c42-9b64-7c79f5d1d72c ]] \r\n",
       "E7 +.. \"1\"E8 [[psysml:346ab8ae-1d2f-462f-a94e-fae0b61189bf ]] \r\n",
       "E6 -[thickness=3]- \"*\"E8 [[psysml:eaab9895-3808-4b7e-ad70-425cb7403c1b ]] \r\n",
       "E6 -[thickness=3]- \"*\"E8 [[psysml:18885de6-563e-4dd2-a418-c135b5ffccd4 ]] \r\n",
       "@enduml\r\n",
       "\n",
       "PlantUML version 1.2020.13(Sat Jun 13 12:26:38 UTC 2020)\n",
       "(EPL source distribution)\n",
       "Java Runtime: OpenJDK Runtime Environment\n",
       "JVM: OpenJDK 64-Bit Server VM\n",
       "Default Encoding: UTF-8\n",
       "Language: en\n",
       "Country: null\n",
       "--></g></svg>"
      ]
     },
     "execution_count": 51,
     "metadata": {},
     "output_type": "execute_result"
    }
   ],
   "source": [
    "%viz --style=\"ORTHOLINE\" --view=\"Default\" \"AliasTest\""
   ]
  },
  {
   "cell_type": "code",
   "execution_count": 52,
   "id": "fe39a2ad",
   "metadata": {
    "execution": {
     "iopub.execute_input": "2021-09-27T07:19:11.594501Z",
     "iopub.status.busy": "2021-09-27T07:19:11.594062Z",
     "iopub.status.idle": "2021-09-27T07:19:11.624730Z",
     "shell.execute_reply": "2021-09-27T07:19:11.623337Z"
    }
   },
   "outputs": [
    {
     "data": {
      "image/svg+xml": [
       "<?xml version=\"1.0\" encoding=\"UTF-8\" standalone=\"no\"?><svg xmlns=\"http://www.w3.org/2000/svg\" xmlns:xlink=\"http://www.w3.org/1999/xlink\" contentScriptType=\"application/ecmascript\" contentStyleType=\"text/css\" height=\"327px\" preserveAspectRatio=\"none\" style=\"width:304px;height:327px;\" version=\"1.1\" viewBox=\"0 0 304 327\" width=\"304px\" zoomAndPan=\"magnify\"><defs/><g><!--MD5=[fbc87193dbaf4d95561dea2c320d4a47]\n",
       "cluster E1--><a href=\"psysml:abede473-ce86-4cf2-9b0f-bcad92dda7df\" target=\"_top\" title=\"psysml:abede473-ce86-4cf2-9b0f-bcad92dda7df\" xlink:actuate=\"onRequest\" xlink:href=\"psysml:abede473-ce86-4cf2-9b0f-bcad92dda7df\" xlink:show=\"new\" xlink:title=\"psysml:abede473-ce86-4cf2-9b0f-bcad92dda7df\" xlink:type=\"simple\"><polygon fill=\"#FFFFFF\" points=\"16,6,84,6,91,28.2969,282,28.2969,282,315,16,315,16,6\" style=\"stroke: #000000; stroke-width: 1.5;\"/><line style=\"stroke: #000000; stroke-width: 1.5;\" x1=\"16\" x2=\"91\" y1=\"28.2969\" y2=\"28.2969\"/><text fill=\"#000000\" font-family=\"sans-serif\" font-size=\"14\" font-weight=\"bold\" lengthAdjust=\"spacingAndGlyphs\" textLength=\"62\" x=\"20\" y=\"20.9951\">AliasTest</text></a><!--MD5=[b4997ac47864f28c2f74865a473b2911]\n",
       "class E2--><a href=\"psysml:84563fde-fc3c-4caa-a0d2-03a4409edda3\" target=\"_top\" title=\"psysml:84563fde-fc3c-4caa-a0d2-03a4409edda3\" xlink:actuate=\"onRequest\" xlink:href=\"psysml:84563fde-fc3c-4caa-a0d2-03a4409edda3\" xlink:show=\"new\" xlink:title=\"psysml:84563fde-fc3c-4caa-a0d2-03a4409edda3\" xlink:type=\"simple\"><rect fill=\"#FFFFFF\" height=\"45.9375\" id=\"E2\" rx=\"10\" ry=\"10\" style=\"stroke: #383838; stroke-width: 1.5;\" width=\"71\" x=\"194.5\" y=\"41\"/><text fill=\"#000000\" font-family=\"sans-serif\" font-size=\"12\" font-style=\"italic\" lengthAdjust=\"spacingAndGlyphs\" textLength=\"69\" x=\"195.5\" y=\"57.1387\">«attribute»</text><text fill=\"#000000\" font-family=\"sans-serif\" font-size=\"12\" lengthAdjust=\"spacingAndGlyphs\" textLength=\"8\" x=\"226\" y=\"71.1074\">q</text><line style=\"stroke: #383838; stroke-width: 1.5;\" x1=\"195.5\" x2=\"264.5\" y1=\"78.9375\" y2=\"78.9375\"/></a><!--MD5=[09b614a08d8cba4a07c9adeb5e0fee81]\n",
       "class E3--><a href=\"psysml:f240402e-e520-4bd4-a2fa-a40388aadc9d\" target=\"_top\" title=\"psysml:f240402e-e520-4bd4-a2fa-a40388aadc9d\" xlink:actuate=\"onRequest\" xlink:href=\"psysml:f240402e-e520-4bd4-a2fa-a40388aadc9d\" xlink:show=\"new\" xlink:title=\"psysml:f240402e-e520-4bd4-a2fa-a40388aadc9d\" xlink:type=\"simple\"><rect fill=\"#FFFFFF\" height=\"45.9375\" id=\"E3\" style=\"stroke: #383838; stroke-width: 1.5;\" width=\"66\" x=\"168\" y=\"147\"/><text fill=\"#000000\" font-family=\"sans-serif\" font-size=\"12\" font-style=\"italic\" lengthAdjust=\"spacingAndGlyphs\" textLength=\"64\" x=\"169\" y=\"163.1387\">«part def»</text><text fill=\"#000000\" font-family=\"sans-serif\" font-size=\"12\" lengthAdjust=\"spacingAndGlyphs\" textLength=\"16\" x=\"193\" y=\"177.1074\">P1</text><line style=\"stroke: #383838; stroke-width: 1.5;\" x1=\"169\" x2=\"233\" y1=\"184.9375\" y2=\"184.9375\"/></a><!--MD5=[ebbe1d658d1005bcc118a6aa81145e00]\n",
       "class E4--><a href=\"psysml:fb61bd91-52ec-4d42-be8a-ef485ce794d8\" target=\"_top\" title=\"psysml:fb61bd91-52ec-4d42-be8a-ef485ce794d8\" xlink:actuate=\"onRequest\" xlink:href=\"psysml:fb61bd91-52ec-4d42-be8a-ef485ce794d8\" xlink:show=\"new\" xlink:title=\"psysml:fb61bd91-52ec-4d42-be8a-ef485ce794d8\" xlink:type=\"simple\"><rect fill=\"#FFFFFF\" height=\"45.9375\" id=\"E4\" rx=\"10\" ry=\"10\" style=\"stroke: #383838; stroke-width: 1.5;\" width=\"46\" x=\"178\" y=\"253\"/><text fill=\"#000000\" font-family=\"sans-serif\" font-size=\"12\" font-style=\"italic\" lengthAdjust=\"spacingAndGlyphs\" textLength=\"40\" x=\"181\" y=\"269.1387\">«port»</text><text fill=\"#000000\" font-family=\"sans-serif\" font-size=\"12\" lengthAdjust=\"spacingAndGlyphs\" textLength=\"40\" x=\"181\" y=\"283.1074\">porig1</text><line style=\"stroke: #383838; stroke-width: 1.5;\" x1=\"179\" x2=\"223\" y1=\"290.9375\" y2=\"290.9375\"/></a><!--MD5=[270fce915f116d4de14055a7c1d9a0f3]\n",
       "class E5--><a href=\"psysml:66a2f39c-c11d-47e1-a04e-46a9b54c38c0\" target=\"_top\" title=\"psysml:66a2f39c-c11d-47e1-a04e-46a9b54c38c0\" xlink:actuate=\"onRequest\" xlink:href=\"psysml:66a2f39c-c11d-47e1-a04e-46a9b54c38c0\" xlink:show=\"new\" xlink:title=\"psysml:66a2f39c-c11d-47e1-a04e-46a9b54c38c0\" xlink:type=\"simple\"><rect fill=\"#FFFFFF\" height=\"45.9375\" id=\"E5\" rx=\"10\" ry=\"10\" style=\"stroke: #383838; stroke-width: 1.5;\" width=\"46\" x=\"113\" y=\"41\"/><text fill=\"#000000\" font-family=\"sans-serif\" font-size=\"12\" font-style=\"italic\" lengthAdjust=\"spacingAndGlyphs\" textLength=\"40\" x=\"116\" y=\"57.1387\">«part»</text><text fill=\"#000000\" font-family=\"sans-serif\" font-size=\"12\" lengthAdjust=\"spacingAndGlyphs\" textLength=\"40\" x=\"116\" y=\"71.1074\">p1: P1</text><line style=\"stroke: #383838; stroke-width: 1.5;\" x1=\"114\" x2=\"158\" y1=\"78.9375\" y2=\"78.9375\"/></a><!--MD5=[60a26617385b1d2d0262a64233df1f8d]\n",
       "class E6--><a href=\"psysml:1cf4d29b-7212-465e-9bfc-2d9d3c47093a\" target=\"_top\" title=\"psysml:1cf4d29b-7212-465e-9bfc-2d9d3c47093a\" xlink:actuate=\"onRequest\" xlink:href=\"psysml:1cf4d29b-7212-465e-9bfc-2d9d3c47093a\" xlink:show=\"new\" xlink:title=\"psysml:1cf4d29b-7212-465e-9bfc-2d9d3c47093a\" xlink:type=\"simple\"><rect fill=\"#FFFFFF\" height=\"45.9375\" id=\"E6\" rx=\"10\" ry=\"10\" style=\"stroke: #383838; stroke-width: 1.5;\" width=\"42\" x=\"91\" y=\"147\"/><text fill=\"#000000\" font-family=\"sans-serif\" font-size=\"12\" font-style=\"italic\" lengthAdjust=\"spacingAndGlyphs\" textLength=\"40\" x=\"92\" y=\"163.1387\">«port»</text><text fill=\"#000000\" font-family=\"sans-serif\" font-size=\"12\" lengthAdjust=\"spacingAndGlyphs\" textLength=\"24\" x=\"100\" y=\"177.1074\">po1</text><line style=\"stroke: #383838; stroke-width: 1.5;\" x1=\"92\" x2=\"132\" y1=\"184.9375\" y2=\"184.9375\"/></a><!--MD5=[2156ba9850f5573cc1fc38a6a4b2f02b]\n",
       "class E7--><a href=\"psysml:d750b59a-5fb4-49de-a141-6edbceed9fe9\" target=\"_top\" title=\"psysml:d750b59a-5fb4-49de-a141-6edbceed9fe9\" xlink:actuate=\"onRequest\" xlink:href=\"psysml:d750b59a-5fb4-49de-a141-6edbceed9fe9\" xlink:show=\"new\" xlink:title=\"psysml:d750b59a-5fb4-49de-a141-6edbceed9fe9\" xlink:type=\"simple\"><rect fill=\"#FFFFFF\" height=\"45.9375\" id=\"E7\" rx=\"10\" ry=\"10\" style=\"stroke: #383838; stroke-width: 1.5;\" width=\"46\" x=\"32\" y=\"41\"/><text fill=\"#000000\" font-family=\"sans-serif\" font-size=\"12\" font-style=\"italic\" lengthAdjust=\"spacingAndGlyphs\" textLength=\"40\" x=\"35\" y=\"57.1387\">«part»</text><text fill=\"#000000\" font-family=\"sans-serif\" font-size=\"12\" lengthAdjust=\"spacingAndGlyphs\" textLength=\"40\" x=\"35\" y=\"71.1074\">p2: P1</text><line style=\"stroke: #383838; stroke-width: 1.5;\" x1=\"33\" x2=\"77\" y1=\"78.9375\" y2=\"78.9375\"/></a><!--MD5=[b9389687b975829384b498ac4b7476b2]\n",
       "class E8--><a href=\"psysml:1ab4a2c7-e640-4092-b309-d8474ba4cc31\" target=\"_top\" title=\"psysml:1ab4a2c7-e640-4092-b309-d8474ba4cc31\" xlink:actuate=\"onRequest\" xlink:href=\"psysml:1ab4a2c7-e640-4092-b309-d8474ba4cc31\" xlink:show=\"new\" xlink:title=\"psysml:1ab4a2c7-e640-4092-b309-d8474ba4cc31\" xlink:type=\"simple\"><rect fill=\"#FFFFFF\" height=\"45.9375\" id=\"E8\" rx=\"10\" ry=\"10\" style=\"stroke: #383838; stroke-width: 1.5;\" width=\"42\" x=\"63\" y=\"253\"/><text fill=\"#000000\" font-family=\"sans-serif\" font-size=\"12\" font-style=\"italic\" lengthAdjust=\"spacingAndGlyphs\" textLength=\"40\" x=\"64\" y=\"269.1387\">«port»</text><text fill=\"#000000\" font-family=\"sans-serif\" font-size=\"12\" lengthAdjust=\"spacingAndGlyphs\" textLength=\"36\" x=\"66\" y=\"283.1074\">pdest</text><line style=\"stroke: #383838; stroke-width: 1.5;\" x1=\"64\" x2=\"104\" y1=\"290.9375\" y2=\"290.9375\"/></a><!--MD5=[4672eba38e49728da53d11aeb285b987]\n",
       "reverse link E3 to E4--><a href=\"psysml:b0a1a3b9-a387-42d1-a567-e540cd2e1d19\" target=\"_top\" title=\"psysml:b0a1a3b9-a387-42d1-a567-e540cd2e1d19\" xlink:actuate=\"onRequest\" xlink:href=\"psysml:b0a1a3b9-a387-42d1-a567-e540cd2e1d19\" xlink:show=\"new\" xlink:title=\"psysml:b0a1a3b9-a387-42d1-a567-e540cd2e1d19\" xlink:type=\"simple\"><path d=\"M193.33,206 C193.33,206 193.33,252.68 193.33,252.68 \" fill=\"none\" id=\"E3&lt;-E4\" style=\"stroke: #383838; stroke-width: 1.0;\"/><polygon fill=\"#FFFFFF\" points=\"193.33,193,189.33,199,193.33,205,197.33,199,193.33,193\" style=\"stroke: #383838; stroke-width: 1.0;\"/><text fill=\"#000000\" font-family=\"sans-serif\" font-size=\"13\" lengthAdjust=\"spacingAndGlyphs\" textLength=\"8\" x=\"182.3396\" y=\"241.8743\">1</text></a><!--MD5=[4672eba38e49728da53d11aeb285b987]\n",
       "reverse link E3 to E4--><a href=\"psysml:b116cd08-9727-4fd8-b1d3-1b9f6deb041c\" target=\"_top\" title=\"psysml:b116cd08-9727-4fd8-b1d3-1b9f6deb041c\" xlink:actuate=\"onRequest\" xlink:href=\"psysml:b116cd08-9727-4fd8-b1d3-1b9f6deb041c\" xlink:show=\"new\" xlink:title=\"psysml:b116cd08-9727-4fd8-b1d3-1b9f6deb041c\" xlink:type=\"simple\"><path d=\"M208.67,208 C208.67,208 208.67,252.68 208.67,252.68 \" fill=\"none\" id=\"E3&lt;-E4-1\" style=\"stroke: #383838; stroke-width: 1.0; stroke-dasharray: 7.0,7.0;\"/><ellipse cx=\"208.67\" cy=\"201\" fill=\"#FFFFFF\" rx=\"8\" ry=\"8\" style=\"stroke: #383838; stroke-width: 1.0;\"/><line style=\"stroke: #383838; stroke-width: 1.0;\" x1=\"208.67\" x2=\"208.67\" y1=\"209\" y2=\"193\"/><line style=\"stroke: #383838; stroke-width: 1.0;\" x1=\"200.67\" x2=\"216.67\" y1=\"201\" y2=\"201\"/><text fill=\"#000000\" font-family=\"sans-serif\" font-size=\"13\" lengthAdjust=\"spacingAndGlyphs\" textLength=\"8\" x=\"201.6104\" y=\"241.8743\">1</text></a><!--MD5=[e9be52314489bd878ff4c7144b63c9e1]\n",
       "link E5 to E3--><a href=\"psysml:b60c9595-85bf-4c72-aa43-c7c5a3162c28\" target=\"_top\" title=\"psysml:b60c9595-85bf-4c72-aa43-c7c5a3162c28\" xlink:actuate=\"onRequest\" xlink:href=\"psysml:b60c9595-85bf-4c72-aa43-c7c5a3162c28\" xlink:show=\"new\" xlink:title=\"psysml:b60c9595-85bf-4c72-aa43-c7c5a3162c28\" xlink:type=\"simple\"><path d=\"M146,87 C146,118.18 146,170 146,170 C146,170 148.17,170 148.17,170 \" fill=\"none\" id=\"E5-&gt;E3\" style=\"stroke: #383838; stroke-width: 1.0;\"/><polygon fill=\"#FFFFFF\" points=\"167.74,170,148.74,177,148.74,163,167.74,170\" style=\"stroke: #383838; stroke-width: 1.0;\"/><ellipse cx=\"143.04\" cy=\"175\" fill=\"#383838\" rx=\"2\" ry=\"2\" style=\"stroke: #383838; stroke-width: 1.0;\"/><ellipse cx=\"143.04\" cy=\"165\" fill=\"#383838\" rx=\"2\" ry=\"2\" style=\"stroke: #383838; stroke-width: 1.0;\"/></a><!--MD5=[85d356282659285ab4b2cfe2f634dd2b]\n",
       "reverse link E5 to E6--><a href=\"psysml:5e5f570b-f88f-4e5d-bde6-a1031949a59c\" target=\"_top\" title=\"psysml:5e5f570b-f88f-4e5d-bde6-a1031949a59c\" xlink:actuate=\"onRequest\" xlink:href=\"psysml:5e5f570b-f88f-4e5d-bde6-a1031949a59c\" xlink:show=\"new\" xlink:title=\"psysml:5e5f570b-f88f-4e5d-bde6-a1031949a59c\" xlink:type=\"simple\"><path d=\"M123,100 C123,100 123,146.68 123,146.68 \" fill=\"none\" id=\"E5&lt;-E6\" style=\"stroke: #383838; stroke-width: 1.0;\"/><polygon fill=\"#FFFFFF\" points=\"123,87,119,93,123,99,127,93,123,87\" style=\"stroke: #383838; stroke-width: 1.0;\"/><text fill=\"#000000\" font-family=\"sans-serif\" font-size=\"13\" lengthAdjust=\"spacingAndGlyphs\" textLength=\"8\" x=\"116.7938\" y=\"135.8743\">1</text></a><!--MD5=[f667431f98296947986a1a7595a31603]\n",
       "link E6 to E4--><a href=\"psysml:ccd9da30-2bd5-4e38-bf20-b9f9621d2107\" target=\"_top\" title=\"psysml:ccd9da30-2bd5-4e38-bf20-b9f9621d2107\" xlink:actuate=\"onRequest\" xlink:href=\"psysml:ccd9da30-2bd5-4e38-bf20-b9f9621d2107\" xlink:show=\"new\" xlink:title=\"psysml:ccd9da30-2bd5-4e38-bf20-b9f9621d2107\" xlink:type=\"simple\"><path d=\"M119,193 C119,224.18 119,276 119,276 C119,276 157.72,276 157.72,276 \" fill=\"none\" id=\"E6-&gt;E4\" style=\"stroke: #383838; stroke-width: 1.0;\"/><polygon fill=\"#FFFFFF\" points=\"177.72,276,158.72,283,158.72,269,177.72,276\" style=\"stroke: #383838; stroke-width: 1.0;\"/><line style=\"stroke: #383838; stroke-width: 2.0;\" x1=\"154.92\" x2=\"154.92\" y1=\"283\" y2=\"269\"/></a><!--MD5=[14ccda38c055a5c0da953d572bc50960]\n",
       "link E7 to E3--><a href=\"psysml:8fc3f931-75e6-473d-9c07-27a38ec18c6d\" target=\"_top\" title=\"psysml:8fc3f931-75e6-473d-9c07-27a38ec18c6d\" xlink:actuate=\"onRequest\" xlink:href=\"psysml:8fc3f931-75e6-473d-9c07-27a38ec18c6d\" xlink:show=\"new\" xlink:title=\"psysml:8fc3f931-75e6-473d-9c07-27a38ec18c6d\" xlink:type=\"simple\"><path d=\"M74.25,87.09 C74.25,101.37 74.25,117 74.25,117 C74.25,117 181.25,117 181.25,117 C181.25,117 181.25,126.91 181.25,126.91 \" fill=\"none\" id=\"E7-&gt;E3\" style=\"stroke: #383838; stroke-width: 1.0;\"/><polygon fill=\"#FFFFFF\" points=\"181.25,146.91,174.25,127.91,188.25,127.91,181.25,146.91\" style=\"stroke: #383838; stroke-width: 1.0;\"/><ellipse cx=\"176.25\" cy=\"122.21\" fill=\"#383838\" rx=\"2\" ry=\"2\" style=\"stroke: #383838; stroke-width: 1.0;\"/><ellipse cx=\"186.25\" cy=\"122.21\" fill=\"#383838\" rx=\"2\" ry=\"2\" style=\"stroke: #383838; stroke-width: 1.0;\"/></a><!--MD5=[dc164f5e8a733ab456ef1add180e9e34]\n",
       "reverse link E7 to E8--><a href=\"psysml:36a32e90-a022-4c42-9b64-7c79f5d1d72c\" target=\"_top\" title=\"psysml:36a32e90-a022-4c42-9b64-7c79f5d1d72c\" xlink:actuate=\"onRequest\" xlink:href=\"psysml:36a32e90-a022-4c42-9b64-7c79f5d1d72c\" xlink:show=\"new\" xlink:title=\"psysml:36a32e90-a022-4c42-9b64-7c79f5d1d72c\" xlink:type=\"simple\"><path d=\"M66.75,100.09 C66.75,100.09 66.75,252.94 66.75,252.94 \" fill=\"none\" id=\"E7&lt;-E8\" style=\"stroke: #383838; stroke-width: 1.0;\"/><polygon fill=\"#FFFFFF\" points=\"66.75,87.09,62.75,93.09,66.75,99.09,70.75,93.09,66.75,87.09\" style=\"stroke: #383838; stroke-width: 1.0;\"/><text fill=\"#000000\" font-family=\"sans-serif\" font-size=\"13\" lengthAdjust=\"spacingAndGlyphs\" textLength=\"8\" x=\"53.0391\" y=\"241.8201\">1</text></a><!--MD5=[dc164f5e8a733ab456ef1add180e9e34]\n",
       "reverse link E7 to E8--><a href=\"psysml:346ab8ae-1d2f-462f-a94e-fae0b61189bf\" target=\"_top\" title=\"psysml:346ab8ae-1d2f-462f-a94e-fae0b61189bf\" xlink:actuate=\"onRequest\" xlink:href=\"psysml:346ab8ae-1d2f-462f-a94e-fae0b61189bf\" xlink:show=\"new\" xlink:title=\"psysml:346ab8ae-1d2f-462f-a94e-fae0b61189bf\" xlink:type=\"simple\"><path d=\"M70.5,102.09 C70.5,102.09 70.5,252.94 70.5,252.94 \" fill=\"none\" id=\"E7&lt;-E8-1\" style=\"stroke: #383838; stroke-width: 1.0; stroke-dasharray: 7.0,7.0;\"/><ellipse cx=\"70.5\" cy=\"95.09\" fill=\"#FFFFFF\" rx=\"8\" ry=\"8\" style=\"stroke: #383838; stroke-width: 1.0;\"/><line style=\"stroke: #383838; stroke-width: 1.0;\" x1=\"70.5\" x2=\"70.5\" y1=\"103.09\" y2=\"87.09\"/><line style=\"stroke: #383838; stroke-width: 1.0;\" x1=\"62.5\" x2=\"78.5\" y1=\"95.09\" y2=\"95.09\"/><text fill=\"#000000\" font-family=\"sans-serif\" font-size=\"13\" lengthAdjust=\"spacingAndGlyphs\" textLength=\"8\" x=\"67.9469\" y=\"241.8201\">1</text></a><!--MD5=[0a839d0f80c2d72d4b9b307f046d0de8]\n",
       "link E6 to E8--><a href=\"psysml:eaab9895-3808-4b7e-ad70-425cb7403c1b\" target=\"_top\" title=\"psysml:eaab9895-3808-4b7e-ad70-425cb7403c1b\" xlink:actuate=\"onRequest\" xlink:href=\"psysml:eaab9895-3808-4b7e-ad70-425cb7403c1b\" xlink:show=\"new\" xlink:title=\"psysml:eaab9895-3808-4b7e-ad70-425cb7403c1b\" xlink:type=\"simple\"><path d=\"M95.67,193 C95.67,210.66 95.67,234.94 95.67,252.68 \" fill=\"none\" id=\"E6-E8\" style=\"stroke: #383838; stroke-width: 3.0;\"/><text fill=\"#000000\" font-family=\"sans-serif\" font-size=\"13\" lengthAdjust=\"spacingAndGlyphs\" textLength=\"7\" x=\"90.7636\" y=\"241.8743\">*</text></a><!--MD5=[0a839d0f80c2d72d4b9b307f046d0de8]\n",
       "link E6 to E8--><a href=\"psysml:18885de6-563e-4dd2-a418-c135b5ffccd4\" target=\"_top\" title=\"psysml:18885de6-563e-4dd2-a418-c135b5ffccd4\" xlink:actuate=\"onRequest\" xlink:href=\"psysml:18885de6-563e-4dd2-a418-c135b5ffccd4\" xlink:show=\"new\" xlink:title=\"psysml:18885de6-563e-4dd2-a418-c135b5ffccd4\" xlink:type=\"simple\"><path d=\"M100.33,193 C100.33,210.66 100.33,234.94 100.33,252.68 \" fill=\"none\" id=\"E6-E8-1\" style=\"stroke: #383838; stroke-width: 3.0;\"/><text fill=\"#000000\" font-family=\"sans-serif\" font-size=\"13\" lengthAdjust=\"spacingAndGlyphs\" textLength=\"7\" x=\"105.4114\" y=\"241.8743\">*</text></a><!--MD5=[28120a1ac3f4d0851871eda35b0708f2]\n",
       "@startuml\r\n",
       "skinparam linetype ortho\r\n",
       "skinparam monochrome true\r\n",
       "skinparam classbackgroundcolor white\r\n",
       "skinparam shadowing false\r\n",
       "skinparam wrapWidth 300\r\n",
       "hide circle\r\n",
       "\r\n",
       "package \"AliasTest\" as E1  [[psysml:abede473-ce86-4cf2-9b0f-bcad92dda7df ]]  {\r\n",
       "comp usage \"q\" as E2  <<(T,blue) attribute>> [[psysml:84563fde-fc3c-4caa-a0d2-03a4409edda3 ]] {\r\n",
       "}\r\n",
       "comp def \"P1\" as E3  <<(T,blue) part def>> [[psysml:f240402e-e520-4bd4-a2fa-a40388aadc9d ]] {\r\n",
       "}\r\n",
       "comp usage \"porig1\" as E4  <<(T,blue) port>> [[psysml:fb61bd91-52ec-4d42-be8a-ef485ce794d8 ]] {\r\n",
       "}\r\n",
       "comp usage \"p1: P1\" as E5  <<(T,blue) part>> [[psysml:66a2f39c-c11d-47e1-a04e-46a9b54c38c0 ]] {\r\n",
       "}\r\n",
       "comp usage \"po1\" as E6  <<(T,blue) port>> [[psysml:1cf4d29b-7212-465e-9bfc-2d9d3c47093a ]] {\r\n",
       "}\r\n",
       "comp usage \"p2: P1\" as E7  <<(T,blue) part>> [[psysml:d750b59a-5fb4-49de-a141-6edbceed9fe9 ]] {\r\n",
       "}\r\n",
       "comp usage \"pdest\" as E8  <<(T,blue) port>> [[psysml:1ab4a2c7-e640-4092-b309-d8474ba4cc31 ]] {\r\n",
       "}\r\n",
       "}\r\n",
       "E3 o- - \"1\"E4 [[psysml:b0a1a3b9-a387-42d1-a567-e540cd2e1d19 ]] \r\n",
       "E3 +.. \"1\"E4 [[psysml:b116cd08-9727-4fd8-b1d3-1b9f6deb041c ]] \r\n",
       "E5 - -:|> E3 [[psysml:b60c9595-85bf-4c72-aa43-c7c5a3162c28 ]] \r\n",
       "E5 o- - \"1\"E6 [[psysml:5e5f570b-f88f-4e5d-bde6-a1031949a59c ]] \r\n",
       "E6 - -||> E4 [[psysml:ccd9da30-2bd5-4e38-bf20-b9f9621d2107 ]] \r\n",
       "E7 - -:|> E3 [[psysml:8fc3f931-75e6-473d-9c07-27a38ec18c6d ]] \r\n",
       "E7 o- - \"1\"E8 [[psysml:36a32e90-a022-4c42-9b64-7c79f5d1d72c ]] \r\n",
       "E7 +.. \"1\"E8 [[psysml:346ab8ae-1d2f-462f-a94e-fae0b61189bf ]] \r\n",
       "E6 -[thickness=3]- \"*\"E8 [[psysml:eaab9895-3808-4b7e-ad70-425cb7403c1b ]] \r\n",
       "E6 -[thickness=3]- \"*\"E8 [[psysml:18885de6-563e-4dd2-a418-c135b5ffccd4 ]] \r\n",
       "@enduml\r\n",
       "\n",
       "PlantUML version 1.2020.13(Sat Jun 13 12:26:38 UTC 2020)\n",
       "(EPL source distribution)\n",
       "Java Runtime: OpenJDK Runtime Environment\n",
       "JVM: OpenJDK 64-Bit Server VM\n",
       "Default Encoding: UTF-8\n",
       "Language: en\n",
       "Country: null\n",
       "--></g></svg>"
      ]
     },
     "execution_count": 52,
     "metadata": {},
     "output_type": "execute_result"
    }
   ],
   "source": [
    "%viz --style=\"ORTHOLINE\" --view=\"Tree\" \"AliasTest\""
   ]
  },
  {
   "cell_type": "code",
   "execution_count": 53,
   "id": "597bff32",
   "metadata": {
    "execution": {
     "iopub.execute_input": "2021-09-27T07:19:11.674162Z",
     "iopub.status.busy": "2021-09-27T07:19:11.673714Z",
     "iopub.status.idle": "2021-09-27T07:19:11.678561Z",
     "shell.execute_reply": "2021-09-27T07:19:11.678194Z"
    }
   },
   "outputs": [
    {
     "data": {
      "image/svg+xml": [
       "<?xml version=\"1.0\" encoding=\"UTF-8\" standalone=\"no\"?><svg xmlns=\"http://www.w3.org/2000/svg\" xmlns:xlink=\"http://www.w3.org/1999/xlink\" contentScriptType=\"application/ecmascript\" contentStyleType=\"text/css\" height=\"12px\" preserveAspectRatio=\"none\" style=\"width:12px;height:12px;\" version=\"1.1\" viewBox=\"0 0 12 12\" width=\"12px\" zoomAndPan=\"magnify\"><defs/><g><!--MD5=[97d6f38768b311333d388e66b2b27985]\n",
       "@startuml\r\n",
       "skinparam linetype ortho\r\n",
       "skinparam monochrome true\r\n",
       "skinparam classbackgroundcolor white\r\n",
       "skinparam shadowing false\r\n",
       "skinparam wrapWidth 300\r\n",
       "hide circle\r\n",
       "\r\n",
       "@enduml\r\n",
       "\n",
       "PlantUML version 1.2020.13(Sat Jun 13 12:26:38 UTC 2020)\n",
       "(EPL source distribution)\n",
       "Java Runtime: OpenJDK Runtime Environment\n",
       "JVM: OpenJDK 64-Bit Server VM\n",
       "Default Encoding: UTF-8\n",
       "Language: en\n",
       "Country: null\n",
       "--></g></svg>"
      ]
     },
     "execution_count": 53,
     "metadata": {},
     "output_type": "execute_result"
    }
   ],
   "source": [
    "%viz --style=\"ORTHOLINE\" --view=\"State\" \"AliasTest\""
   ]
  },
  {
   "cell_type": "code",
   "execution_count": 54,
   "id": "9bf23575",
   "metadata": {
    "execution": {
     "iopub.execute_input": "2021-09-27T07:19:11.728603Z",
     "iopub.status.busy": "2021-09-27T07:19:11.728173Z",
     "iopub.status.idle": "2021-09-27T07:19:11.758184Z",
     "shell.execute_reply": "2021-09-27T07:19:11.757796Z"
    }
   },
   "outputs": [
    {
     "data": {
      "image/svg+xml": [
       "<?xml version=\"1.0\" encoding=\"UTF-8\" standalone=\"no\"?><svg xmlns=\"http://www.w3.org/2000/svg\" xmlns:xlink=\"http://www.w3.org/1999/xlink\" contentScriptType=\"application/ecmascript\" contentStyleType=\"text/css\" height=\"233px\" preserveAspectRatio=\"none\" style=\"width:474px;height:233px;\" version=\"1.1\" viewBox=\"0 0 474 233\" width=\"474px\" zoomAndPan=\"magnify\"><defs/><g><!--MD5=[fbc87193dbaf4d95561dea2c320d4a47]\n",
       "cluster E1--><a href=\"psysml:abede473-ce86-4cf2-9b0f-bcad92dda7df\" target=\"_top\" title=\"psysml:abede473-ce86-4cf2-9b0f-bcad92dda7df\" xlink:actuate=\"onRequest\" xlink:href=\"psysml:abede473-ce86-4cf2-9b0f-bcad92dda7df\" xlink:show=\"new\" xlink:title=\"psysml:abede473-ce86-4cf2-9b0f-bcad92dda7df\" xlink:type=\"simple\"><polygon fill=\"#FFFFFF\" points=\"16,6,84,6,91,28.2969,452,28.2969,452,221,16,221,16,6\" style=\"stroke: #000000; stroke-width: 1.5;\"/><line style=\"stroke: #000000; stroke-width: 1.5;\" x1=\"16\" x2=\"91\" y1=\"28.2969\" y2=\"28.2969\"/><text fill=\"#000000\" font-family=\"sans-serif\" font-size=\"14\" font-weight=\"bold\" lengthAdjust=\"spacingAndGlyphs\" textLength=\"62\" x=\"20\" y=\"20.9951\">AliasTest</text></a><!--MD5=[d5e69f78d87373223dbae638b30a9c99]\n",
       "cluster E3--><a href=\"psysml:f240402e-e520-4bd4-a2fa-a40388aadc9d\" target=\"_top\" title=\"psysml:f240402e-e520-4bd4-a2fa-a40388aadc9d\" xlink:actuate=\"onRequest\" xlink:href=\"psysml:f240402e-e520-4bd4-a2fa-a40388aadc9d\" xlink:show=\"new\" xlink:title=\"psysml:f240402e-e520-4bd4-a2fa-a40388aadc9d\" xlink:type=\"simple\"><rect fill=\"#FFFFFF\" height=\"90\" id=\"E3\" style=\"stroke: #383838; stroke-width: 1.5;\" width=\"83\" x=\"312\" y=\"64\"/><rect fill=\"#F8F8F8\" height=\"37.9375\" style=\"stroke: #383838; stroke-width: 1.5;\" width=\"83\" x=\"312\" y=\"64\"/><text fill=\"#000000\" font-family=\"sans-serif\" font-size=\"12\" font-style=\"italic\" lengthAdjust=\"spacingAndGlyphs\" textLength=\"64\" x=\"321.5\" y=\"80.1387\">«part def»</text><text fill=\"#000000\" font-family=\"sans-serif\" font-size=\"12\" lengthAdjust=\"spacingAndGlyphs\" textLength=\"16\" x=\"345.5\" y=\"94.1074\">P1</text></a><!--MD5=[14e3b0961a2654348d326746436168a1]\n",
       "cluster E6--><a href=\"psysml:66a2f39c-c11d-47e1-a04e-46a9b54c38c0\" target=\"_top\" title=\"psysml:66a2f39c-c11d-47e1-a04e-46a9b54c38c0\" xlink:actuate=\"onRequest\" xlink:href=\"psysml:66a2f39c-c11d-47e1-a04e-46a9b54c38c0\" xlink:show=\"new\" xlink:title=\"psysml:66a2f39c-c11d-47e1-a04e-46a9b54c38c0\" xlink:type=\"simple\"><rect fill=\"#FFFFFF\" height=\"82\" id=\"E6\" rx=\"10\" ry=\"10\" style=\"stroke: #383838; stroke-width: 1.5;\" width=\"98\" x=\"112\" y=\"64\"/><rect fill=\"#F8F8F8\" height=\"23.9688\" rx=\"10\" ry=\"10\" style=\"stroke: #F8F8F8; stroke-width: 1.5;\" width=\"98\" x=\"112\" y=\"64\"/><rect fill=\"#F8F8F8\" height=\"10\" style=\"stroke: #F8F8F8; stroke-width: 1.5;\" width=\"98\" x=\"112\" y=\"77.9688\"/><rect fill=\"none\" height=\"82\" id=\"E6\" rx=\"10\" ry=\"10\" style=\"stroke: #383838; stroke-width: 1.5;\" width=\"98\" x=\"112\" y=\"64\"/><text fill=\"#000000\" font-family=\"sans-serif\" font-size=\"12\" lengthAdjust=\"spacingAndGlyphs\" textLength=\"40\" x=\"141\" y=\"80.1387\">p1: P1</text><line style=\"stroke: #383838; stroke-width: 1.0;\" x1=\"112\" x2=\"210\" y1=\"87.9688\" y2=\"87.9688\"/></a><!--MD5=[55dfccfc6c49c2d10cd1bd2211a6c90c]\n",
       "cluster E8--><a href=\"psysml:d750b59a-5fb4-49de-a141-6edbceed9fe9\" target=\"_top\" title=\"psysml:d750b59a-5fb4-49de-a141-6edbceed9fe9\" xlink:actuate=\"onRequest\" xlink:href=\"psysml:d750b59a-5fb4-49de-a141-6edbceed9fe9\" xlink:show=\"new\" xlink:title=\"psysml:d750b59a-5fb4-49de-a141-6edbceed9fe9\" xlink:type=\"simple\"><rect fill=\"#FFFFFF\" height=\"84.5\" id=\"E8\" rx=\"10\" ry=\"10\" style=\"stroke: #383838; stroke-width: 1.5;\" width=\"83\" x=\"213\" y=\"120.5\"/><rect fill=\"#F8F8F8\" height=\"23.9688\" rx=\"10\" ry=\"10\" style=\"stroke: #F8F8F8; stroke-width: 1.5;\" width=\"83\" x=\"213\" y=\"120.5\"/><rect fill=\"#F8F8F8\" height=\"10\" style=\"stroke: #F8F8F8; stroke-width: 1.5;\" width=\"83\" x=\"213\" y=\"134.4688\"/><rect fill=\"none\" height=\"84.5\" id=\"E8\" rx=\"10\" ry=\"10\" style=\"stroke: #383838; stroke-width: 1.5;\" width=\"83\" x=\"213\" y=\"120.5\"/><text fill=\"#000000\" font-family=\"sans-serif\" font-size=\"12\" lengthAdjust=\"spacingAndGlyphs\" textLength=\"40\" x=\"234.5\" y=\"136.6387\">p2: P1</text><line style=\"stroke: #383838; stroke-width: 1.0;\" x1=\"213\" x2=\"296\" y1=\"144.4688\" y2=\"144.4688\"/></a><!--MD5=[b4997ac47864f28c2f74865a473b2911]\n",
       "class E2--><a href=\"psysml:84563fde-fc3c-4caa-a0d2-03a4409edda3\" target=\"_top\" title=\"psysml:84563fde-fc3c-4caa-a0d2-03a4409edda3\" xlink:actuate=\"onRequest\" xlink:href=\"psysml:84563fde-fc3c-4caa-a0d2-03a4409edda3\" xlink:show=\"new\" xlink:title=\"psysml:84563fde-fc3c-4caa-a0d2-03a4409edda3\" xlink:type=\"simple\"><rect fill=\"#FFFFFF\" height=\"45.9375\" id=\"E2\" rx=\"10\" ry=\"10\" style=\"stroke: #383838; stroke-width: 1.5;\" width=\"71\" x=\"32.5\" y=\"41\"/><text fill=\"#000000\" font-family=\"sans-serif\" font-size=\"12\" font-style=\"italic\" lengthAdjust=\"spacingAndGlyphs\" textLength=\"69\" x=\"33.5\" y=\"57.1387\">«attribute»</text><text fill=\"#000000\" font-family=\"sans-serif\" font-size=\"12\" lengthAdjust=\"spacingAndGlyphs\" textLength=\"8\" x=\"64\" y=\"71.1074\">q</text><line style=\"stroke: #383838; stroke-width: 1.5;\" x1=\"33.5\" x2=\"102.5\" y1=\"78.9375\" y2=\"78.9375\"/></a><text fill=\"#000000\" font-family=\"sans-serif\" font-size=\"14\" lengthAdjust=\"spacingAndGlyphs\" textLength=\"44\" x=\"308\" y=\"42.6982\">porig1</text><rect fill=\"#383838\" height=\"12\" style=\"stroke: #F8F8F8; stroke-width: 1.5;\" width=\"12\" x=\"324\" y=\"58\"/><text fill=\"#000000\" font-family=\"sans-serif\" font-size=\"14\" lengthAdjust=\"spacingAndGlyphs\" textLength=\"44\" x=\"355\" y=\"42.6982\">porig1</text><rect fill=\"#383838\" height=\"12\" style=\"stroke: #F8F8F8; stroke-width: 1.5;\" width=\"12\" x=\"371\" y=\"58\"/><text fill=\"#000000\" font-family=\"sans-serif\" font-size=\"14\" lengthAdjust=\"spacingAndGlyphs\" textLength=\"27\" x=\"178.5\" y=\"42.6982\">po1</text><rect fill=\"#383838\" height=\"12\" style=\"stroke: #F8F8F8; stroke-width: 1.5;\" width=\"12\" x=\"186\" y=\"58\"/><text fill=\"#000000\" font-family=\"sans-serif\" font-size=\"14\" lengthAdjust=\"spacingAndGlyphs\" textLength=\"40\" x=\"211\" y=\"99.1982\">pdest</text><rect fill=\"#383838\" height=\"12\" style=\"stroke: #F8F8F8; stroke-width: 1.5;\" width=\"12\" x=\"225\" y=\"114.5\"/><text fill=\"#000000\" font-family=\"sans-serif\" font-size=\"14\" lengthAdjust=\"spacingAndGlyphs\" textLength=\"40\" x=\"258\" y=\"99.1982\">pdest</text><rect fill=\"#383838\" height=\"12\" style=\"stroke: #F8F8F8; stroke-width: 1.5;\" width=\"12\" x=\"272\" y=\"114.5\"/><!--MD5=[1c0b9414cc86e0744215edee6abd8926]\n",
       "link E7 to E9--><a href=\"psysml:eaab9895-3808-4b7e-ad70-425cb7403c1b\" target=\"_top\" title=\"psysml:eaab9895-3808-4b7e-ad70-425cb7403c1b\" xlink:actuate=\"onRequest\" xlink:href=\"psysml:eaab9895-3808-4b7e-ad70-425cb7403c1b\" xlink:show=\"new\" xlink:title=\"psysml:eaab9895-3808-4b7e-ad70-425cb7403c1b\" xlink:type=\"simple\"><path d=\"M195.88,70.19 C195.88,84.38 195.88,118 195.88,118 C195.88,118 214.82,118 224.88,118 \" fill=\"none\" id=\"E7-E9\" style=\"stroke: #383838; stroke-width: 3.0;\"/><text fill=\"#000000\" font-family=\"sans-serif\" font-size=\"13\" lengthAdjust=\"spacingAndGlyphs\" textLength=\"7\" x=\"209.9435\" y=\"106.8717\">*</text></a><!--MD5=[1c0b9414cc86e0744215edee6abd8926]\n",
       "link E7 to E9--><a href=\"psysml:18885de6-563e-4dd2-a418-c135b5ffccd4\" target=\"_top\" title=\"psysml:18885de6-563e-4dd2-a418-c135b5ffccd4\" xlink:actuate=\"onRequest\" xlink:href=\"psysml:18885de6-563e-4dd2-a418-c135b5ffccd4\" xlink:show=\"new\" xlink:title=\"psysml:18885de6-563e-4dd2-a418-c135b5ffccd4\" xlink:type=\"simple\"><path d=\"M193.75,70.1 C193.75,84.8 193.75,121 193.75,121 C193.75,121 214.27,121 224.85,121 \" fill=\"none\" id=\"E7-E9-1\" style=\"stroke: #383838; stroke-width: 3.0;\"/><text fill=\"#000000\" font-family=\"sans-serif\" font-size=\"13\" lengthAdjust=\"spacingAndGlyphs\" textLength=\"7\" x=\"209.8888\" y=\"139.7217\">*</text></a><!--MD5=[d31c47679fc60b75f46db949bf39d259]\n",
       "@startuml\r\n",
       "skinparam ranksep 10\r\n",
       "skinparam rectangle {\r\n",
       " backgroundColor<<block>> LightGreen\r\n",
       "}\r\n",
       "skinparam linetype ortho\r\n",
       "skinparam monochrome true\r\n",
       "skinparam classbackgroundcolor white\r\n",
       "skinparam shadowing false\r\n",
       "skinparam wrapWidth 300\r\n",
       "hide circle\r\n",
       "\r\n",
       "package \"AliasTest\" as E1  [[psysml:abede473-ce86-4cf2-9b0f-bcad92dda7df ]]  {\r\n",
       "comp usage \"q\" as E2  <<(T,blue) attribute>> [[psysml:84563fde-fc3c-4caa-a0d2-03a4409edda3 ]] {\r\n",
       "}\r\n",
       "rec def \"P1\" as E3  <<(T,blue) part def>> [[psysml:f240402e-e520-4bd4-a2fa-a40388aadc9d ]] {\r\n",
       "portin \"porig1\" as E4  <<(T,blue) port>> [[psysml:fb61bd91-52ec-4d42-be8a-ef485ce794d8 ]] \r\n",
       "portin \"porig1\" as E5  <<(T,blue) port>> [[psysml:fb61bd91-52ec-4d42-be8a-ef485ce794d8 ]] \r\n",
       "}\r\n",
       "rec usage \"p1: P1\" as E6  [[psysml:66a2f39c-c11d-47e1-a04e-46a9b54c38c0 ]] {\r\n",
       "portin \"po1\" as E7  <<(T,blue) port>> [[psysml:1cf4d29b-7212-465e-9bfc-2d9d3c47093a ]] \r\n",
       "}\r\n",
       "rec usage \"p2: P1\" as E8  [[psysml:d750b59a-5fb4-49de-a141-6edbceed9fe9 ]] {\r\n",
       "portin \"pdest\" as E9  <<(T,blue) port>> [[psysml:1ab4a2c7-e640-4092-b309-d8474ba4cc31 ]] \r\n",
       "portin \"pdest\" as E10  <<(T,blue) port>> [[psysml:1ab4a2c7-e640-4092-b309-d8474ba4cc31 ]] \r\n",
       "}\r\n",
       "}\r\n",
       "E7 -[thickness=3]- \"*\"E9 [[psysml:eaab9895-3808-4b7e-ad70-425cb7403c1b ]] \r\n",
       "E7 -[thickness=3]- \"*\"E9 [[psysml:18885de6-563e-4dd2-a418-c135b5ffccd4 ]] \r\n",
       "@enduml\r\n",
       "\n",
       "PlantUML version 1.2020.13(Sat Jun 13 12:26:38 UTC 2020)\n",
       "(EPL source distribution)\n",
       "Java Runtime: OpenJDK Runtime Environment\n",
       "JVM: OpenJDK 64-Bit Server VM\n",
       "Default Encoding: UTF-8\n",
       "Language: en\n",
       "Country: null\n",
       "--></g></svg>"
      ]
     },
     "execution_count": 54,
     "metadata": {},
     "output_type": "execute_result"
    }
   ],
   "source": [
    "%viz --style=\"ORTHOLINE\" --view=\"Interconnection\" \"AliasTest\""
   ]
  },
  {
   "cell_type": "code",
   "execution_count": 55,
   "id": "4f24f8ec",
   "metadata": {
    "execution": {
     "iopub.execute_input": "2021-09-27T07:19:11.807599Z",
     "iopub.status.busy": "2021-09-27T07:19:11.807139Z",
     "iopub.status.idle": "2021-09-27T07:19:11.811829Z",
     "shell.execute_reply": "2021-09-27T07:19:11.811467Z"
    }
   },
   "outputs": [
    {
     "data": {
      "image/svg+xml": [
       "<?xml version=\"1.0\" encoding=\"UTF-8\" standalone=\"no\"?><svg xmlns=\"http://www.w3.org/2000/svg\" xmlns:xlink=\"http://www.w3.org/1999/xlink\" contentScriptType=\"application/ecmascript\" contentStyleType=\"text/css\" height=\"12px\" preserveAspectRatio=\"none\" style=\"width:12px;height:12px;\" version=\"1.1\" viewBox=\"0 0 12 12\" width=\"12px\" zoomAndPan=\"magnify\"><defs/><g><!--MD5=[72934c63077099a26744516a776b4749]\n",
       "@startuml\r\n",
       "skinparam ranksep 8\r\n",
       "skinparam linetype ortho\r\n",
       "skinparam monochrome true\r\n",
       "skinparam classbackgroundcolor white\r\n",
       "skinparam shadowing false\r\n",
       "skinparam wrapWidth 300\r\n",
       "hide circle\r\n",
       "\r\n",
       "@enduml\r\n",
       "\n",
       "PlantUML version 1.2020.13(Sat Jun 13 12:26:38 UTC 2020)\n",
       "(EPL source distribution)\n",
       "Java Runtime: OpenJDK Runtime Environment\n",
       "JVM: OpenJDK 64-Bit Server VM\n",
       "Default Encoding: UTF-8\n",
       "Language: en\n",
       "Country: null\n",
       "--></g></svg>"
      ]
     },
     "execution_count": 55,
     "metadata": {},
     "output_type": "execute_result"
    }
   ],
   "source": [
    "%viz --style=\"ORTHOLINE\" --view=\"Action\" \"AliasTest\""
   ]
  },
  {
   "cell_type": "code",
   "execution_count": 56,
   "id": "4ebb21f7",
   "metadata": {
    "execution": {
     "iopub.execute_input": "2021-09-27T07:19:11.861950Z",
     "iopub.status.busy": "2021-09-27T07:19:11.861508Z",
     "iopub.status.idle": "2021-09-27T07:19:11.867188Z",
     "shell.execute_reply": "2021-09-27T07:19:11.866731Z"
    }
   },
   "outputs": [
    {
     "data": {
      "image/svg+xml": [
       "<?xml version=\"1.0\" encoding=\"UTF-8\" standalone=\"no\"?><svg xmlns=\"http://www.w3.org/2000/svg\" xmlns:xlink=\"http://www.w3.org/1999/xlink\" contentScriptType=\"application/ecmascript\" contentStyleType=\"text/css\" height=\"12px\" preserveAspectRatio=\"none\" style=\"width:12px;height:12px;\" version=\"1.1\" viewBox=\"0 0 12 12\" width=\"12px\" zoomAndPan=\"magnify\"><defs/><g><!--MD5=[30fc1de5121c5abddedd55b44417fde8]\n",
       "@startuml\r\n",
       "skinparam roundcorner 20\r\n",
       "skinparam BoxPadding 20\r\n",
       "skinparam SequenceBoxBackgroundColor #white\r\n",
       "skinparam style strictuml\r\n",
       "skinparam maxMessageSize 100\r\n",
       "skinparam linetype ortho\r\n",
       "skinparam monochrome true\r\n",
       "skinparam classbackgroundcolor white\r\n",
       "skinparam shadowing false\r\n",
       "skinparam wrapWidth 300\r\n",
       "hide circle\r\n",
       "\r\n",
       "@enduml\r\n",
       "\n",
       "PlantUML version 1.2020.13(Sat Jun 13 12:26:38 UTC 2020)\n",
       "(EPL source distribution)\n",
       "Java Runtime: OpenJDK Runtime Environment\n",
       "JVM: OpenJDK 64-Bit Server VM\n",
       "Default Encoding: UTF-8\n",
       "Language: en\n",
       "Country: null\n",
       "--></g></svg>"
      ]
     },
     "execution_count": 56,
     "metadata": {},
     "output_type": "execute_result"
    }
   ],
   "source": [
    "%viz --style=\"ORTHOLINE\" --view=\"Sequence\" \"AliasTest\""
   ]
  },
  {
   "cell_type": "code",
   "execution_count": 57,
   "id": "6772fd68",
   "metadata": {
    "execution": {
     "iopub.execute_input": "2021-09-27T07:19:11.917129Z",
     "iopub.status.busy": "2021-09-27T07:19:11.916504Z",
     "iopub.status.idle": "2021-09-27T07:19:11.952134Z",
     "shell.execute_reply": "2021-09-27T07:19:11.950767Z"
    }
   },
   "outputs": [
    {
     "data": {
      "image/svg+xml": [
       "<?xml version=\"1.0\" encoding=\"UTF-8\" standalone=\"no\"?><svg xmlns=\"http://www.w3.org/2000/svg\" xmlns:xlink=\"http://www.w3.org/1999/xlink\" contentScriptType=\"application/ecmascript\" contentStyleType=\"text/css\" height=\"327px\" preserveAspectRatio=\"none\" style=\"width:304px;height:327px;\" version=\"1.1\" viewBox=\"0 0 304 327\" width=\"304px\" zoomAndPan=\"magnify\"><defs/><g><!--MD5=[fbc87193dbaf4d95561dea2c320d4a47]\n",
       "cluster E1--><a href=\"psysml:abede473-ce86-4cf2-9b0f-bcad92dda7df\" target=\"_top\" title=\"psysml:abede473-ce86-4cf2-9b0f-bcad92dda7df\" xlink:actuate=\"onRequest\" xlink:href=\"psysml:abede473-ce86-4cf2-9b0f-bcad92dda7df\" xlink:show=\"new\" xlink:title=\"psysml:abede473-ce86-4cf2-9b0f-bcad92dda7df\" xlink:type=\"simple\"><polygon fill=\"#FFFFFF\" points=\"16,6,84,6,91,28.2969,282,28.2969,282,315,16,315,16,6\" style=\"stroke: #000000; stroke-width: 1.5;\"/><line style=\"stroke: #000000; stroke-width: 1.5;\" x1=\"16\" x2=\"91\" y1=\"28.2969\" y2=\"28.2969\"/><text fill=\"#000000\" font-family=\"sans-serif\" font-size=\"14\" font-weight=\"bold\" lengthAdjust=\"spacingAndGlyphs\" textLength=\"62\" x=\"20\" y=\"20.9951\">AliasTest</text></a><!--MD5=[b4997ac47864f28c2f74865a473b2911]\n",
       "class E2--><a href=\"psysml:84563fde-fc3c-4caa-a0d2-03a4409edda3\" target=\"_top\" title=\"psysml:84563fde-fc3c-4caa-a0d2-03a4409edda3\" xlink:actuate=\"onRequest\" xlink:href=\"psysml:84563fde-fc3c-4caa-a0d2-03a4409edda3\" xlink:show=\"new\" xlink:title=\"psysml:84563fde-fc3c-4caa-a0d2-03a4409edda3\" xlink:type=\"simple\"><rect fill=\"#FFFFFF\" height=\"45.9375\" id=\"E2\" rx=\"10\" ry=\"10\" style=\"stroke: #383838; stroke-width: 1.5;\" width=\"71\" x=\"194.5\" y=\"41\"/><text fill=\"#000000\" font-family=\"sans-serif\" font-size=\"12\" font-style=\"italic\" lengthAdjust=\"spacingAndGlyphs\" textLength=\"69\" x=\"195.5\" y=\"57.1387\">«attribute»</text><text fill=\"#000000\" font-family=\"sans-serif\" font-size=\"12\" lengthAdjust=\"spacingAndGlyphs\" textLength=\"8\" x=\"226\" y=\"71.1074\">q</text><line style=\"stroke: #383838; stroke-width: 1.5;\" x1=\"195.5\" x2=\"264.5\" y1=\"78.9375\" y2=\"78.9375\"/></a><!--MD5=[09b614a08d8cba4a07c9adeb5e0fee81]\n",
       "class E3--><a href=\"psysml:f240402e-e520-4bd4-a2fa-a40388aadc9d\" target=\"_top\" title=\"psysml:f240402e-e520-4bd4-a2fa-a40388aadc9d\" xlink:actuate=\"onRequest\" xlink:href=\"psysml:f240402e-e520-4bd4-a2fa-a40388aadc9d\" xlink:show=\"new\" xlink:title=\"psysml:f240402e-e520-4bd4-a2fa-a40388aadc9d\" xlink:type=\"simple\"><rect fill=\"#FFFFFF\" height=\"45.9375\" id=\"E3\" style=\"stroke: #383838; stroke-width: 1.5;\" width=\"66\" x=\"168\" y=\"147\"/><text fill=\"#000000\" font-family=\"sans-serif\" font-size=\"12\" font-style=\"italic\" lengthAdjust=\"spacingAndGlyphs\" textLength=\"64\" x=\"169\" y=\"163.1387\">«part def»</text><text fill=\"#000000\" font-family=\"sans-serif\" font-size=\"12\" lengthAdjust=\"spacingAndGlyphs\" textLength=\"16\" x=\"193\" y=\"177.1074\">P1</text><line style=\"stroke: #383838; stroke-width: 1.5;\" x1=\"169\" x2=\"233\" y1=\"184.9375\" y2=\"184.9375\"/></a><!--MD5=[ebbe1d658d1005bcc118a6aa81145e00]\n",
       "class E4--><a href=\"psysml:fb61bd91-52ec-4d42-be8a-ef485ce794d8\" target=\"_top\" title=\"psysml:fb61bd91-52ec-4d42-be8a-ef485ce794d8\" xlink:actuate=\"onRequest\" xlink:href=\"psysml:fb61bd91-52ec-4d42-be8a-ef485ce794d8\" xlink:show=\"new\" xlink:title=\"psysml:fb61bd91-52ec-4d42-be8a-ef485ce794d8\" xlink:type=\"simple\"><rect fill=\"#FFFFFF\" height=\"45.9375\" id=\"E4\" rx=\"10\" ry=\"10\" style=\"stroke: #383838; stroke-width: 1.5;\" width=\"46\" x=\"178\" y=\"253\"/><text fill=\"#000000\" font-family=\"sans-serif\" font-size=\"12\" font-style=\"italic\" lengthAdjust=\"spacingAndGlyphs\" textLength=\"40\" x=\"181\" y=\"269.1387\">«port»</text><text fill=\"#000000\" font-family=\"sans-serif\" font-size=\"12\" lengthAdjust=\"spacingAndGlyphs\" textLength=\"40\" x=\"181\" y=\"283.1074\">porig1</text><line style=\"stroke: #383838; stroke-width: 1.5;\" x1=\"179\" x2=\"223\" y1=\"290.9375\" y2=\"290.9375\"/></a><!--MD5=[270fce915f116d4de14055a7c1d9a0f3]\n",
       "class E5--><a href=\"psysml:66a2f39c-c11d-47e1-a04e-46a9b54c38c0\" target=\"_top\" title=\"psysml:66a2f39c-c11d-47e1-a04e-46a9b54c38c0\" xlink:actuate=\"onRequest\" xlink:href=\"psysml:66a2f39c-c11d-47e1-a04e-46a9b54c38c0\" xlink:show=\"new\" xlink:title=\"psysml:66a2f39c-c11d-47e1-a04e-46a9b54c38c0\" xlink:type=\"simple\"><rect fill=\"#FFFFFF\" height=\"45.9375\" id=\"E5\" rx=\"10\" ry=\"10\" style=\"stroke: #383838; stroke-width: 1.5;\" width=\"46\" x=\"113\" y=\"41\"/><text fill=\"#000000\" font-family=\"sans-serif\" font-size=\"12\" font-style=\"italic\" lengthAdjust=\"spacingAndGlyphs\" textLength=\"40\" x=\"116\" y=\"57.1387\">«part»</text><text fill=\"#000000\" font-family=\"sans-serif\" font-size=\"12\" lengthAdjust=\"spacingAndGlyphs\" textLength=\"40\" x=\"116\" y=\"71.1074\">p1: P1</text><line style=\"stroke: #383838; stroke-width: 1.5;\" x1=\"114\" x2=\"158\" y1=\"78.9375\" y2=\"78.9375\"/></a><!--MD5=[60a26617385b1d2d0262a64233df1f8d]\n",
       "class E6--><a href=\"psysml:1cf4d29b-7212-465e-9bfc-2d9d3c47093a\" target=\"_top\" title=\"psysml:1cf4d29b-7212-465e-9bfc-2d9d3c47093a\" xlink:actuate=\"onRequest\" xlink:href=\"psysml:1cf4d29b-7212-465e-9bfc-2d9d3c47093a\" xlink:show=\"new\" xlink:title=\"psysml:1cf4d29b-7212-465e-9bfc-2d9d3c47093a\" xlink:type=\"simple\"><rect fill=\"#FFFFFF\" height=\"45.9375\" id=\"E6\" rx=\"10\" ry=\"10\" style=\"stroke: #383838; stroke-width: 1.5;\" width=\"42\" x=\"91\" y=\"147\"/><text fill=\"#000000\" font-family=\"sans-serif\" font-size=\"12\" font-style=\"italic\" lengthAdjust=\"spacingAndGlyphs\" textLength=\"40\" x=\"92\" y=\"163.1387\">«port»</text><text fill=\"#000000\" font-family=\"sans-serif\" font-size=\"12\" lengthAdjust=\"spacingAndGlyphs\" textLength=\"24\" x=\"100\" y=\"177.1074\">po1</text><line style=\"stroke: #383838; stroke-width: 1.5;\" x1=\"92\" x2=\"132\" y1=\"184.9375\" y2=\"184.9375\"/></a><!--MD5=[2156ba9850f5573cc1fc38a6a4b2f02b]\n",
       "class E7--><a href=\"psysml:d750b59a-5fb4-49de-a141-6edbceed9fe9\" target=\"_top\" title=\"psysml:d750b59a-5fb4-49de-a141-6edbceed9fe9\" xlink:actuate=\"onRequest\" xlink:href=\"psysml:d750b59a-5fb4-49de-a141-6edbceed9fe9\" xlink:show=\"new\" xlink:title=\"psysml:d750b59a-5fb4-49de-a141-6edbceed9fe9\" xlink:type=\"simple\"><rect fill=\"#FFFFFF\" height=\"45.9375\" id=\"E7\" rx=\"10\" ry=\"10\" style=\"stroke: #383838; stroke-width: 1.5;\" width=\"46\" x=\"32\" y=\"41\"/><text fill=\"#000000\" font-family=\"sans-serif\" font-size=\"12\" font-style=\"italic\" lengthAdjust=\"spacingAndGlyphs\" textLength=\"40\" x=\"35\" y=\"57.1387\">«part»</text><text fill=\"#000000\" font-family=\"sans-serif\" font-size=\"12\" lengthAdjust=\"spacingAndGlyphs\" textLength=\"40\" x=\"35\" y=\"71.1074\">p2: P1</text><line style=\"stroke: #383838; stroke-width: 1.5;\" x1=\"33\" x2=\"77\" y1=\"78.9375\" y2=\"78.9375\"/></a><!--MD5=[b9389687b975829384b498ac4b7476b2]\n",
       "class E8--><a href=\"psysml:1ab4a2c7-e640-4092-b309-d8474ba4cc31\" target=\"_top\" title=\"psysml:1ab4a2c7-e640-4092-b309-d8474ba4cc31\" xlink:actuate=\"onRequest\" xlink:href=\"psysml:1ab4a2c7-e640-4092-b309-d8474ba4cc31\" xlink:show=\"new\" xlink:title=\"psysml:1ab4a2c7-e640-4092-b309-d8474ba4cc31\" xlink:type=\"simple\"><rect fill=\"#FFFFFF\" height=\"45.9375\" id=\"E8\" rx=\"10\" ry=\"10\" style=\"stroke: #383838; stroke-width: 1.5;\" width=\"42\" x=\"63\" y=\"253\"/><text fill=\"#000000\" font-family=\"sans-serif\" font-size=\"12\" font-style=\"italic\" lengthAdjust=\"spacingAndGlyphs\" textLength=\"40\" x=\"64\" y=\"269.1387\">«port»</text><text fill=\"#000000\" font-family=\"sans-serif\" font-size=\"12\" lengthAdjust=\"spacingAndGlyphs\" textLength=\"36\" x=\"66\" y=\"283.1074\">pdest</text><line style=\"stroke: #383838; stroke-width: 1.5;\" x1=\"64\" x2=\"104\" y1=\"290.9375\" y2=\"290.9375\"/></a><!--MD5=[4672eba38e49728da53d11aeb285b987]\n",
       "reverse link E3 to E4--><a href=\"psysml:b0a1a3b9-a387-42d1-a567-e540cd2e1d19\" target=\"_top\" title=\"psysml:b0a1a3b9-a387-42d1-a567-e540cd2e1d19\" xlink:actuate=\"onRequest\" xlink:href=\"psysml:b0a1a3b9-a387-42d1-a567-e540cd2e1d19\" xlink:show=\"new\" xlink:title=\"psysml:b0a1a3b9-a387-42d1-a567-e540cd2e1d19\" xlink:type=\"simple\"><path d=\"M193.33,206 C193.33,206 193.33,252.68 193.33,252.68 \" fill=\"none\" id=\"E3&lt;-E4\" style=\"stroke: #383838; stroke-width: 1.0;\"/><polygon fill=\"#FFFFFF\" points=\"193.33,193,189.33,199,193.33,205,197.33,199,193.33,193\" style=\"stroke: #383838; stroke-width: 1.0;\"/><text fill=\"#000000\" font-family=\"sans-serif\" font-size=\"13\" lengthAdjust=\"spacingAndGlyphs\" textLength=\"8\" x=\"182.3396\" y=\"241.8743\">1</text></a><!--MD5=[4672eba38e49728da53d11aeb285b987]\n",
       "reverse link E3 to E4--><a href=\"psysml:b116cd08-9727-4fd8-b1d3-1b9f6deb041c\" target=\"_top\" title=\"psysml:b116cd08-9727-4fd8-b1d3-1b9f6deb041c\" xlink:actuate=\"onRequest\" xlink:href=\"psysml:b116cd08-9727-4fd8-b1d3-1b9f6deb041c\" xlink:show=\"new\" xlink:title=\"psysml:b116cd08-9727-4fd8-b1d3-1b9f6deb041c\" xlink:type=\"simple\"><path d=\"M208.67,208 C208.67,208 208.67,252.68 208.67,252.68 \" fill=\"none\" id=\"E3&lt;-E4-1\" style=\"stroke: #383838; stroke-width: 1.0; stroke-dasharray: 7.0,7.0;\"/><ellipse cx=\"208.67\" cy=\"201\" fill=\"#FFFFFF\" rx=\"8\" ry=\"8\" style=\"stroke: #383838; stroke-width: 1.0;\"/><line style=\"stroke: #383838; stroke-width: 1.0;\" x1=\"208.67\" x2=\"208.67\" y1=\"209\" y2=\"193\"/><line style=\"stroke: #383838; stroke-width: 1.0;\" x1=\"200.67\" x2=\"216.67\" y1=\"201\" y2=\"201\"/><text fill=\"#000000\" font-family=\"sans-serif\" font-size=\"13\" lengthAdjust=\"spacingAndGlyphs\" textLength=\"8\" x=\"201.6104\" y=\"241.8743\">1</text></a><!--MD5=[e9be52314489bd878ff4c7144b63c9e1]\n",
       "link E5 to E3--><a href=\"psysml:b60c9595-85bf-4c72-aa43-c7c5a3162c28\" target=\"_top\" title=\"psysml:b60c9595-85bf-4c72-aa43-c7c5a3162c28\" xlink:actuate=\"onRequest\" xlink:href=\"psysml:b60c9595-85bf-4c72-aa43-c7c5a3162c28\" xlink:show=\"new\" xlink:title=\"psysml:b60c9595-85bf-4c72-aa43-c7c5a3162c28\" xlink:type=\"simple\"><path d=\"M146,87 C146,118.18 146,170 146,170 C146,170 148.17,170 148.17,170 \" fill=\"none\" id=\"E5-&gt;E3\" style=\"stroke: #383838; stroke-width: 1.0;\"/><polygon fill=\"#FFFFFF\" points=\"167.74,170,148.74,177,148.74,163,167.74,170\" style=\"stroke: #383838; stroke-width: 1.0;\"/><ellipse cx=\"143.04\" cy=\"175\" fill=\"#383838\" rx=\"2\" ry=\"2\" style=\"stroke: #383838; stroke-width: 1.0;\"/><ellipse cx=\"143.04\" cy=\"165\" fill=\"#383838\" rx=\"2\" ry=\"2\" style=\"stroke: #383838; stroke-width: 1.0;\"/></a><!--MD5=[85d356282659285ab4b2cfe2f634dd2b]\n",
       "reverse link E5 to E6--><a href=\"psysml:5e5f570b-f88f-4e5d-bde6-a1031949a59c\" target=\"_top\" title=\"psysml:5e5f570b-f88f-4e5d-bde6-a1031949a59c\" xlink:actuate=\"onRequest\" xlink:href=\"psysml:5e5f570b-f88f-4e5d-bde6-a1031949a59c\" xlink:show=\"new\" xlink:title=\"psysml:5e5f570b-f88f-4e5d-bde6-a1031949a59c\" xlink:type=\"simple\"><path d=\"M123,100 C123,100 123,146.68 123,146.68 \" fill=\"none\" id=\"E5&lt;-E6\" style=\"stroke: #383838; stroke-width: 1.0;\"/><polygon fill=\"#FFFFFF\" points=\"123,87,119,93,123,99,127,93,123,87\" style=\"stroke: #383838; stroke-width: 1.0;\"/><text fill=\"#000000\" font-family=\"sans-serif\" font-size=\"13\" lengthAdjust=\"spacingAndGlyphs\" textLength=\"8\" x=\"116.7938\" y=\"135.8743\">1</text></a><!--MD5=[f667431f98296947986a1a7595a31603]\n",
       "link E6 to E4--><a href=\"psysml:ccd9da30-2bd5-4e38-bf20-b9f9621d2107\" target=\"_top\" title=\"psysml:ccd9da30-2bd5-4e38-bf20-b9f9621d2107\" xlink:actuate=\"onRequest\" xlink:href=\"psysml:ccd9da30-2bd5-4e38-bf20-b9f9621d2107\" xlink:show=\"new\" xlink:title=\"psysml:ccd9da30-2bd5-4e38-bf20-b9f9621d2107\" xlink:type=\"simple\"><path d=\"M119,193 C119,224.18 119,276 119,276 C119,276 157.72,276 157.72,276 \" fill=\"none\" id=\"E6-&gt;E4\" style=\"stroke: #383838; stroke-width: 1.0;\"/><polygon fill=\"#FFFFFF\" points=\"177.72,276,158.72,283,158.72,269,177.72,276\" style=\"stroke: #383838; stroke-width: 1.0;\"/><line style=\"stroke: #383838; stroke-width: 2.0;\" x1=\"154.92\" x2=\"154.92\" y1=\"283\" y2=\"269\"/></a><!--MD5=[14ccda38c055a5c0da953d572bc50960]\n",
       "link E7 to E3--><a href=\"psysml:8fc3f931-75e6-473d-9c07-27a38ec18c6d\" target=\"_top\" title=\"psysml:8fc3f931-75e6-473d-9c07-27a38ec18c6d\" xlink:actuate=\"onRequest\" xlink:href=\"psysml:8fc3f931-75e6-473d-9c07-27a38ec18c6d\" xlink:show=\"new\" xlink:title=\"psysml:8fc3f931-75e6-473d-9c07-27a38ec18c6d\" xlink:type=\"simple\"><path d=\"M74.25,87.09 C74.25,101.37 74.25,117 74.25,117 C74.25,117 181.25,117 181.25,117 C181.25,117 181.25,126.91 181.25,126.91 \" fill=\"none\" id=\"E7-&gt;E3\" style=\"stroke: #383838; stroke-width: 1.0;\"/><polygon fill=\"#FFFFFF\" points=\"181.25,146.91,174.25,127.91,188.25,127.91,181.25,146.91\" style=\"stroke: #383838; stroke-width: 1.0;\"/><ellipse cx=\"176.25\" cy=\"122.21\" fill=\"#383838\" rx=\"2\" ry=\"2\" style=\"stroke: #383838; stroke-width: 1.0;\"/><ellipse cx=\"186.25\" cy=\"122.21\" fill=\"#383838\" rx=\"2\" ry=\"2\" style=\"stroke: #383838; stroke-width: 1.0;\"/></a><!--MD5=[dc164f5e8a733ab456ef1add180e9e34]\n",
       "reverse link E7 to E8--><a href=\"psysml:36a32e90-a022-4c42-9b64-7c79f5d1d72c\" target=\"_top\" title=\"psysml:36a32e90-a022-4c42-9b64-7c79f5d1d72c\" xlink:actuate=\"onRequest\" xlink:href=\"psysml:36a32e90-a022-4c42-9b64-7c79f5d1d72c\" xlink:show=\"new\" xlink:title=\"psysml:36a32e90-a022-4c42-9b64-7c79f5d1d72c\" xlink:type=\"simple\"><path d=\"M66.75,100.09 C66.75,100.09 66.75,252.94 66.75,252.94 \" fill=\"none\" id=\"E7&lt;-E8\" style=\"stroke: #383838; stroke-width: 1.0;\"/><polygon fill=\"#FFFFFF\" points=\"66.75,87.09,62.75,93.09,66.75,99.09,70.75,93.09,66.75,87.09\" style=\"stroke: #383838; stroke-width: 1.0;\"/><text fill=\"#000000\" font-family=\"sans-serif\" font-size=\"13\" lengthAdjust=\"spacingAndGlyphs\" textLength=\"8\" x=\"53.0391\" y=\"241.8201\">1</text></a><!--MD5=[dc164f5e8a733ab456ef1add180e9e34]\n",
       "reverse link E7 to E8--><a href=\"psysml:346ab8ae-1d2f-462f-a94e-fae0b61189bf\" target=\"_top\" title=\"psysml:346ab8ae-1d2f-462f-a94e-fae0b61189bf\" xlink:actuate=\"onRequest\" xlink:href=\"psysml:346ab8ae-1d2f-462f-a94e-fae0b61189bf\" xlink:show=\"new\" xlink:title=\"psysml:346ab8ae-1d2f-462f-a94e-fae0b61189bf\" xlink:type=\"simple\"><path d=\"M70.5,102.09 C70.5,102.09 70.5,252.94 70.5,252.94 \" fill=\"none\" id=\"E7&lt;-E8-1\" style=\"stroke: #383838; stroke-width: 1.0; stroke-dasharray: 7.0,7.0;\"/><ellipse cx=\"70.5\" cy=\"95.09\" fill=\"#FFFFFF\" rx=\"8\" ry=\"8\" style=\"stroke: #383838; stroke-width: 1.0;\"/><line style=\"stroke: #383838; stroke-width: 1.0;\" x1=\"70.5\" x2=\"70.5\" y1=\"103.09\" y2=\"87.09\"/><line style=\"stroke: #383838; stroke-width: 1.0;\" x1=\"62.5\" x2=\"78.5\" y1=\"95.09\" y2=\"95.09\"/><text fill=\"#000000\" font-family=\"sans-serif\" font-size=\"13\" lengthAdjust=\"spacingAndGlyphs\" textLength=\"8\" x=\"67.9469\" y=\"241.8201\">1</text></a><!--MD5=[0a839d0f80c2d72d4b9b307f046d0de8]\n",
       "link E6 to E8--><a href=\"psysml:eaab9895-3808-4b7e-ad70-425cb7403c1b\" target=\"_top\" title=\"psysml:eaab9895-3808-4b7e-ad70-425cb7403c1b\" xlink:actuate=\"onRequest\" xlink:href=\"psysml:eaab9895-3808-4b7e-ad70-425cb7403c1b\" xlink:show=\"new\" xlink:title=\"psysml:eaab9895-3808-4b7e-ad70-425cb7403c1b\" xlink:type=\"simple\"><path d=\"M95.67,193 C95.67,210.66 95.67,234.94 95.67,252.68 \" fill=\"none\" id=\"E6-E8\" style=\"stroke: #383838; stroke-width: 3.0;\"/><text fill=\"#000000\" font-family=\"sans-serif\" font-size=\"13\" lengthAdjust=\"spacingAndGlyphs\" textLength=\"7\" x=\"90.7636\" y=\"241.8743\">*</text></a><!--MD5=[0a839d0f80c2d72d4b9b307f046d0de8]\n",
       "link E6 to E8--><a href=\"psysml:18885de6-563e-4dd2-a418-c135b5ffccd4\" target=\"_top\" title=\"psysml:18885de6-563e-4dd2-a418-c135b5ffccd4\" xlink:actuate=\"onRequest\" xlink:href=\"psysml:18885de6-563e-4dd2-a418-c135b5ffccd4\" xlink:show=\"new\" xlink:title=\"psysml:18885de6-563e-4dd2-a418-c135b5ffccd4\" xlink:type=\"simple\"><path d=\"M100.33,193 C100.33,210.66 100.33,234.94 100.33,252.68 \" fill=\"none\" id=\"E6-E8-1\" style=\"stroke: #383838; stroke-width: 3.0;\"/><text fill=\"#000000\" font-family=\"sans-serif\" font-size=\"13\" lengthAdjust=\"spacingAndGlyphs\" textLength=\"7\" x=\"105.4114\" y=\"241.8743\">*</text></a><!--MD5=[28120a1ac3f4d0851871eda35b0708f2]\n",
       "@startuml\r\n",
       "skinparam linetype ortho\r\n",
       "skinparam monochrome true\r\n",
       "skinparam classbackgroundcolor white\r\n",
       "skinparam shadowing false\r\n",
       "skinparam wrapWidth 300\r\n",
       "hide circle\r\n",
       "\r\n",
       "package \"AliasTest\" as E1  [[psysml:abede473-ce86-4cf2-9b0f-bcad92dda7df ]]  {\r\n",
       "comp usage \"q\" as E2  <<(T,blue) attribute>> [[psysml:84563fde-fc3c-4caa-a0d2-03a4409edda3 ]] {\r\n",
       "}\r\n",
       "comp def \"P1\" as E3  <<(T,blue) part def>> [[psysml:f240402e-e520-4bd4-a2fa-a40388aadc9d ]] {\r\n",
       "}\r\n",
       "comp usage \"porig1\" as E4  <<(T,blue) port>> [[psysml:fb61bd91-52ec-4d42-be8a-ef485ce794d8 ]] {\r\n",
       "}\r\n",
       "comp usage \"p1: P1\" as E5  <<(T,blue) part>> [[psysml:66a2f39c-c11d-47e1-a04e-46a9b54c38c0 ]] {\r\n",
       "}\r\n",
       "comp usage \"po1\" as E6  <<(T,blue) port>> [[psysml:1cf4d29b-7212-465e-9bfc-2d9d3c47093a ]] {\r\n",
       "}\r\n",
       "comp usage \"p2: P1\" as E7  <<(T,blue) part>> [[psysml:d750b59a-5fb4-49de-a141-6edbceed9fe9 ]] {\r\n",
       "}\r\n",
       "comp usage \"pdest\" as E8  <<(T,blue) port>> [[psysml:1ab4a2c7-e640-4092-b309-d8474ba4cc31 ]] {\r\n",
       "}\r\n",
       "}\r\n",
       "E3 o- - \"1\"E4 [[psysml:b0a1a3b9-a387-42d1-a567-e540cd2e1d19 ]] \r\n",
       "E3 +.. \"1\"E4 [[psysml:b116cd08-9727-4fd8-b1d3-1b9f6deb041c ]] \r\n",
       "E5 - -:|> E3 [[psysml:b60c9595-85bf-4c72-aa43-c7c5a3162c28 ]] \r\n",
       "E5 o- - \"1\"E6 [[psysml:5e5f570b-f88f-4e5d-bde6-a1031949a59c ]] \r\n",
       "E6 - -||> E4 [[psysml:ccd9da30-2bd5-4e38-bf20-b9f9621d2107 ]] \r\n",
       "E7 - -:|> E3 [[psysml:8fc3f931-75e6-473d-9c07-27a38ec18c6d ]] \r\n",
       "E7 o- - \"1\"E8 [[psysml:36a32e90-a022-4c42-9b64-7c79f5d1d72c ]] \r\n",
       "E7 +.. \"1\"E8 [[psysml:346ab8ae-1d2f-462f-a94e-fae0b61189bf ]] \r\n",
       "E6 -[thickness=3]- \"*\"E8 [[psysml:eaab9895-3808-4b7e-ad70-425cb7403c1b ]] \r\n",
       "E6 -[thickness=3]- \"*\"E8 [[psysml:18885de6-563e-4dd2-a418-c135b5ffccd4 ]] \r\n",
       "@enduml\r\n",
       "\n",
       "PlantUML version 1.2020.13(Sat Jun 13 12:26:38 UTC 2020)\n",
       "(EPL source distribution)\n",
       "Java Runtime: OpenJDK Runtime Environment\n",
       "JVM: OpenJDK 64-Bit Server VM\n",
       "Default Encoding: UTF-8\n",
       "Language: en\n",
       "Country: null\n",
       "--></g></svg>"
      ]
     },
     "execution_count": 57,
     "metadata": {},
     "output_type": "execute_result"
    }
   ],
   "source": [
    "%viz --style=\"ORTHOLINE\" --view=\"MIXED\" \"AliasTest\""
   ]
  }
 ],
 "metadata": {
  "kernelspec": {
   "display_name": "SysML",
   "language": "sysml",
   "name": "sysml"
  },
  "language_info": {
   "codemirror_mode": "sysml",
   "file_extension": ".sysml",
   "mimetype": "text/x-sysml",
   "name": "SysML",
   "pygments_lexer": "java",
   "version": "1.0.0"
  }
 },
 "nbformat": 4,
 "nbformat_minor": 5
}
